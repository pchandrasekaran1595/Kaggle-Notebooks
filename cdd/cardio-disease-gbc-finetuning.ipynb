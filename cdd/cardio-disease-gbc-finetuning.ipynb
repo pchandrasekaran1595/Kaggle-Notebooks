{
 "cells": [
  {
   "cell_type": "markdown",
   "id": "1e5a10ec",
   "metadata": {
    "_cell_guid": "b1076dfc-b9ad-4769-8c92-a6c4dae69d19",
    "_uuid": "8f2839f25d086af736a60e9eeb907d3b93b6e0e5",
    "execution": {
     "iopub.execute_input": "2022-04-28T09:38:36.395647Z",
     "iopub.status.busy": "2022-04-28T09:38:36.394699Z",
     "iopub.status.idle": "2022-04-28T09:38:38.132719Z",
     "shell.execute_reply": "2022-04-28T09:38:38.131755Z",
     "shell.execute_reply.started": "2022-04-28T09:38:36.395497Z"
    },
    "papermill": {
     "duration": 0.012255,
     "end_time": "2022-05-11T11:54:01.867043",
     "exception": false,
     "start_time": "2022-05-11T11:54:01.854788",
     "status": "completed"
    },
    "tags": []
   },
   "source": [
    "### **Library Imports**"
   ]
  },
  {
   "cell_type": "code",
   "execution_count": 1,
   "id": "efc87cc9",
   "metadata": {
    "execution": {
     "iopub.execute_input": "2022-05-11T11:54:01.891260Z",
     "iopub.status.busy": "2022-05-11T11:54:01.890879Z",
     "iopub.status.idle": "2022-05-11T11:54:03.478893Z",
     "shell.execute_reply": "2022-05-11T11:54:03.477661Z"
    },
    "papermill": {
     "duration": 1.602566,
     "end_time": "2022-05-11T11:54:03.481791",
     "exception": false,
     "start_time": "2022-05-11T11:54:01.879225",
     "status": "completed"
    },
    "tags": []
   },
   "outputs": [],
   "source": [
    "import os\n",
    "import pickle\n",
    "import numpy as np\n",
    "import pandas as pd\n",
    "import random as r\n",
    "import seaborn as sns\n",
    "import matplotlib.pyplot as plt\n",
    "\n",
    "from time import time\n",
    "from sklearn.pipeline import Pipeline\n",
    "from sklearn.impute import SimpleImputer\n",
    "from sklearn.compose import ColumnTransformer\n",
    "from sklearn.preprocessing import StandardScaler\n",
    "from sklearn.model_selection import KFold, GridSearchCV\n",
    "from sklearn.ensemble import GradientBoostingClassifier\n",
    "from sklearn.metrics import accuracy_score, \\\n",
    "                            roc_auc_score, \\\n",
    "                            precision_recall_fscore_support, \\\n",
    "                            classification_report, \\\n",
    "                            confusion_matrix"
   ]
  },
  {
   "cell_type": "code",
   "execution_count": 2,
   "id": "90e4533e",
   "metadata": {
    "execution": {
     "iopub.execute_input": "2022-05-11T11:54:03.504870Z",
     "iopub.status.busy": "2022-05-11T11:54:03.504610Z",
     "iopub.status.idle": "2022-05-11T11:54:03.511594Z",
     "shell.execute_reply": "2022-05-11T11:54:03.510444Z"
    },
    "papermill": {
     "duration": 0.021599,
     "end_time": "2022-05-11T11:54:03.514059",
     "exception": false,
     "start_time": "2022-05-11T11:54:03.492460",
     "status": "completed"
    },
    "tags": []
   },
   "outputs": [],
   "source": [
    "class CFG(object):\n",
    "    def __init__(self,\n",
    "                 seed: int = 42,\n",
    "                 n_splits: int = 5,\n",
    "                 show_info: bool = False,\n",
    "                 ):\n",
    "\n",
    "        self.seed = seed\n",
    "        self.n_splits = n_splits\n",
    "        self.show_info = show_info\n",
    "        self.data_read_path = \"../input/cardiovascular-disease-dataset/cardio_train.csv\"\n",
    "        self.model_save_path = \"models\"\n",
    "        if not os.path.exists(self.model_save_path): os.makedirs(self.model_save_path)\n",
    "\n",
    "cfg = CFG(seed=42, show_info=True)"
   ]
  },
  {
   "cell_type": "markdown",
   "id": "283e7553",
   "metadata": {
    "papermill": {
     "duration": 0.009954,
     "end_time": "2022-05-11T11:54:03.534343",
     "exception": false,
     "start_time": "2022-05-11T11:54:03.524389",
     "status": "completed"
    },
    "tags": []
   },
   "source": [
    "### **Utilities and Helpers**"
   ]
  },
  {
   "cell_type": "code",
   "execution_count": 3,
   "id": "a47d8dee",
   "metadata": {
    "execution": {
     "iopub.execute_input": "2022-05-11T11:54:03.557925Z",
     "iopub.status.busy": "2022-05-11T11:54:03.557430Z",
     "iopub.status.idle": "2022-05-11T11:54:03.565249Z",
     "shell.execute_reply": "2022-05-11T11:54:03.564457Z"
    },
    "papermill": {
     "duration": 0.021919,
     "end_time": "2022-05-11T11:54:03.567258",
     "exception": false,
     "start_time": "2022-05-11T11:54:03.545339",
     "status": "completed"
    },
    "tags": []
   },
   "outputs": [],
   "source": [
    "def breaker(num: int=50, char: str=\"*\") -> None:\n",
    "    print(\"\\n\" + num*char + \"\\n\")\n",
    "    \n",
    "\n",
    "def print_scores(accuracy: float, auc: float, precision: np.ndarray, recall: np.ndarray, f_score: np.ndarray) -> None:\n",
    "    print(f\"Accuracy  : {accuracy:.5f}\")\n",
    "    print(f\"ROC-AUC   : {auc:.5f}\")\n",
    "    print(f\"Precision : {precision}\")\n",
    "    print(f\"Recall    : {recall}\")\n",
    "    print(f\"F-Score   : {f_score}\")\n",
    "    \n",
    "\n",
    "def get_scores(y_true: np.ndarray, y_pred: np.ndarray) -> tuple:\n",
    "    accuracy = accuracy_score(y_pred, y_true)\n",
    "    auc = roc_auc_score(y_pred, y_true)\n",
    "    precision, recall, f_score, _ = precision_recall_fscore_support(y_pred, y_true)\n",
    "\n",
    "    return accuracy, auc, precision, recall, f_score"
   ]
  },
  {
   "cell_type": "code",
   "execution_count": 4,
   "id": "67d523e8",
   "metadata": {
    "execution": {
     "iopub.execute_input": "2022-05-11T11:54:03.590610Z",
     "iopub.status.busy": "2022-05-11T11:54:03.589859Z",
     "iopub.status.idle": "2022-05-11T11:54:03.594833Z",
     "shell.execute_reply": "2022-05-11T11:54:03.594139Z"
    },
    "papermill": {
     "duration": 0.019323,
     "end_time": "2022-05-11T11:54:03.596814",
     "exception": false,
     "start_time": "2022-05-11T11:54:03.577491",
     "status": "completed"
    },
    "tags": []
   },
   "outputs": [],
   "source": [
    "class Pipelines(object):\n",
    "    def __init__(self, preprocessor, seed: int):\n",
    "        self.model = Pipeline(\n",
    "            steps=[\n",
    "                (\"preprocessor\", preprocessor),\n",
    "                (\"classifier\", GradientBoostingClassifier(random_state=seed)),\n",
    "            ]\n",
    "        )"
   ]
  },
  {
   "cell_type": "markdown",
   "id": "22d09e69",
   "metadata": {
    "papermill": {
     "duration": 0.010392,
     "end_time": "2022-05-11T11:54:03.617744",
     "exception": false,
     "start_time": "2022-05-11T11:54:03.607352",
     "status": "completed"
    },
    "tags": []
   },
   "source": [
    "### **Normal**"
   ]
  },
  {
   "cell_type": "code",
   "execution_count": 5,
   "id": "99fd8b0c",
   "metadata": {
    "execution": {
     "iopub.execute_input": "2022-05-11T11:54:03.640349Z",
     "iopub.status.busy": "2022-05-11T11:54:03.639745Z",
     "iopub.status.idle": "2022-05-11T11:54:05.148212Z",
     "shell.execute_reply": "2022-05-11T11:54:05.147069Z"
    },
    "papermill": {
     "duration": 1.522693,
     "end_time": "2022-05-11T11:54:05.150612",
     "exception": false,
     "start_time": "2022-05-11T11:54:03.627919",
     "status": "completed"
    },
    "tags": []
   },
   "outputs": [],
   "source": [
    "df = pd.read_csv(cfg.data_read_path, delimiter=\";\")\n",
    "df = df.drop(columns=[\"id\"])\n",
    "df.age /= 365.25\n",
    "\n",
    "y = df.cardio.copy().values\n",
    "\n",
    "df = df.drop(columns=[\"cardio\"])\n",
    "\n",
    "df[\"bmi\"] = df.weight / (df.height / 100)**2\n",
    "df[\"smoke_alco\"] = [df.smoke[i] and df.alco[i] for i in range(df.shape[0])]\n",
    "df[\"smoke_alco_active\"] = [df.smoke[i] and df.alco[i] and df.active[i] for i in range(df.shape[0])]\n",
    "df[\"ap_mean\"] = (df.ap_hi + df.ap_lo) / 2\n",
    "\n",
    "X = df.copy().values\n",
    "\n",
    "features = [i for i in range(X.shape[1])]\n",
    "\n",
    "feature_transformer = Pipeline(\n",
    "    steps=[\n",
    "        (\"Simple_Imputer\", SimpleImputer(missing_values=np.nan, strategy=\"mean\")),\n",
    "        (\"Standard_Scaler\", StandardScaler())\n",
    "    ]\n",
    ")\n",
    "\n",
    "preprocessor = ColumnTransformer(\n",
    "    transformers=[\n",
    "        (\"features\", feature_transformer, features),\n",
    "    ]\n",
    ")"
   ]
  },
  {
   "cell_type": "code",
   "execution_count": 6,
   "id": "0becf318",
   "metadata": {
    "execution": {
     "iopub.execute_input": "2022-05-11T11:54:05.173380Z",
     "iopub.status.busy": "2022-05-11T11:54:05.173070Z",
     "iopub.status.idle": "2022-05-11T11:54:42.672357Z",
     "shell.execute_reply": "2022-05-11T11:54:42.671654Z"
    },
    "papermill": {
     "duration": 37.513645,
     "end_time": "2022-05-11T11:54:42.674455",
     "exception": false,
     "start_time": "2022-05-11T11:54:05.160810",
     "status": "completed"
    },
    "tags": []
   },
   "outputs": [
    {
     "name": "stdout",
     "output_type": "stream",
     "text": [
      "\n",
      "**************************************************\n",
      "\n",
      "Fold 1\n",
      "\n",
      "Accuracy  : 0.74093\n",
      "ROC-AUC   : 0.74245\n",
      "Precision : [0.78019462 0.70179692]\n",
      "Recall    : [0.72278934 0.76211863]\n",
      "F-Score   : [0.75039571 0.73071498]\n",
      "\n",
      "[[5452 1536]\n",
      " [2091 4921]]\n",
      "\n",
      "**************************************************\n",
      "\n",
      "Fold 2\n",
      "\n",
      "Accuracy  : 0.73786\n",
      "ROC-AUC   : 0.74050\n",
      "Precision : [0.78883774 0.68757094]\n",
      "Recall    : [0.71350507 0.76750079]\n",
      "F-Score   : [0.74928269 0.72534052]\n",
      "\n",
      "[[5484 1468]\n",
      " [2202 4846]]\n",
      "\n",
      "**************************************************\n",
      "\n",
      "Fold 3\n",
      "\n",
      "Accuracy  : 0.73186\n",
      "ROC-AUC   : 0.73326\n",
      "Precision : [0.76935229 0.69475629]\n",
      "Recall    : [0.71379081 0.75273287]\n",
      "F-Score   : [0.74053083 0.72258351]\n",
      "\n",
      "[[5357 1606]\n",
      " [2148 4889]]\n",
      "\n",
      "**************************************************\n",
      "\n",
      "Fold 4\n",
      "\n",
      "Accuracy  : 0.73657\n",
      "ROC-AUC   : 0.73798\n",
      "Precision : [0.78007307 0.69160372]\n",
      "Recall    : [0.72335158 0.75260828]\n",
      "F-Score   : [0.75064233 0.72081756]\n",
      "\n",
      "[[5551 1565]\n",
      " [2123 4761]]\n",
      "\n",
      "**************************************************\n",
      "\n",
      "Fold 5\n",
      "\n",
      "Accuracy  : 0.73500\n",
      "ROC-AUC   : 0.73780\n",
      "Precision : [0.7893459  0.68062304]\n",
      "Recall    : [0.71205875 0.76354601]\n",
      "F-Score   : [0.74871309 0.71970384]\n",
      "\n",
      "[[5527 1475]\n",
      " [2235 4763]]\n",
      "\n",
      "**************************************************\n",
      "\n",
      "Best ACC Fold : 1\n",
      "Best AUC Fold : 1\n",
      "Best PRE Fold : 1\n",
      "Best REC Fold : 2\n",
      "Best F1 Fold  : 1\n",
      "\n",
      "**************************************************\n",
      "\n"
     ]
    }
   ],
   "source": [
    "best_auc = 0.0\n",
    "best_acc = 0.0\n",
    "best_pre = 0.0\n",
    "best_rec = 0.0\n",
    "best_f1  = 0.0\n",
    "\n",
    "fold = 1\n",
    "\n",
    "breaker()\n",
    "for tr_idx, va_idx in KFold(n_splits=cfg.n_splits, random_state=cfg.seed, shuffle=True).split(X):\n",
    "    X_train, X_valid, y_train, y_valid = X[tr_idx], X[va_idx], y[tr_idx], y[va_idx]\n",
    "    my_pipeline = Pipelines(preprocessor, cfg.seed)\n",
    "    my_pipeline.model.fit(X_train, y_train)\n",
    "\n",
    "    y_pred = my_pipeline.model.predict(X_valid)\n",
    "    acc, auc, pre, rec, f1 = get_scores(y_valid, y_pred)\n",
    "    print(f\"Fold {fold}\\n\")\n",
    "    print_scores(acc, auc, pre, rec, f1)\n",
    "    print(\"\")\n",
    "    print(confusion_matrix(y_valid, y_pred))\n",
    "    breaker()\n",
    "\n",
    "    if acc > best_acc:\n",
    "        best_acc = acc\n",
    "        best_acc_fold = fold\n",
    "    \n",
    "    if auc > best_auc:\n",
    "        best_auc = auc\n",
    "        best_auc_fold = fold\n",
    "\n",
    "    if pre[1] > best_pre:\n",
    "        best_pre = pre[1]\n",
    "        best_pre_fold = fold\n",
    "    \n",
    "    if rec[1] > best_rec:\n",
    "        best_rec = rec[1]\n",
    "        best_rec_fold = fold\n",
    "    \n",
    "    if f1[1] > best_f1:\n",
    "        best_f1 = f1[1]\n",
    "        best_f1_fold = fold\n",
    "    \n",
    "    fold += 1\n",
    "\n",
    "print(f\"Best ACC Fold : {best_acc_fold}\")\n",
    "print(f\"Best AUC Fold : {best_auc_fold}\")\n",
    "print(f\"Best PRE Fold : {best_pre_fold}\")\n",
    "print(f\"Best REC Fold : {best_rec_fold}\")\n",
    "print(f\"Best F1 Fold  : {best_f1_fold}\")\n",
    "\n",
    "breaker()"
   ]
  },
  {
   "cell_type": "markdown",
   "id": "9782a040",
   "metadata": {
    "papermill": {
     "duration": 0.011863,
     "end_time": "2022-05-11T11:54:42.698369",
     "exception": false,
     "start_time": "2022-05-11T11:54:42.686506",
     "status": "completed"
    },
    "tags": []
   },
   "source": [
    "### **Grid Search**"
   ]
  },
  {
   "cell_type": "code",
   "execution_count": 7,
   "id": "8c600154",
   "metadata": {
    "execution": {
     "iopub.execute_input": "2022-05-11T11:54:42.724236Z",
     "iopub.status.busy": "2022-05-11T11:54:42.723930Z",
     "iopub.status.idle": "2022-05-11T12:08:45.839653Z",
     "shell.execute_reply": "2022-05-11T12:08:45.838565Z"
    },
    "papermill": {
     "duration": 843.164064,
     "end_time": "2022-05-11T12:08:45.874537",
     "exception": false,
     "start_time": "2022-05-11T11:54:42.710473",
     "status": "completed"
    },
    "tags": []
   },
   "outputs": [
    {
     "name": "stdout",
     "output_type": "stream",
     "text": [
      "\n",
      "**************************************************\n",
      "\n",
      "Fitting 5 folds for each of 16 candidates, totalling 80 fits\n",
      "[CV 1/5] END learning_rate=1, n_estimators=50;, score=(train=0.746, test=0.729) total time=   4.1s\n",
      "[CV 2/5] END learning_rate=1, n_estimators=50;, score=(train=0.743, test=0.739) total time=   4.2s\n",
      "[CV 3/5] END learning_rate=1, n_estimators=50;, score=(train=0.745, test=0.728) total time=   4.1s\n",
      "[CV 4/5] END learning_rate=1, n_estimators=50;, score=(train=0.744, test=0.732) total time=   4.2s\n",
      "[CV 5/5] END learning_rate=1, n_estimators=50;, score=(train=0.745, test=0.730) total time=   4.2s\n",
      "[CV 1/5] END learning_rate=1, n_estimators=100;, score=(train=0.753, test=0.725) total time=   8.4s\n",
      "[CV 2/5] END learning_rate=1, n_estimators=100;, score=(train=0.749, test=0.737) total time=   8.4s\n",
      "[CV 3/5] END learning_rate=1, n_estimators=100;, score=(train=0.751, test=0.724) total time=   8.1s\n",
      "[CV 4/5] END learning_rate=1, n_estimators=100;, score=(train=0.751, test=0.730) total time=   8.1s\n",
      "[CV 5/5] END learning_rate=1, n_estimators=100;, score=(train=0.751, test=0.726) total time=   8.4s\n",
      "[CV 1/5] END learning_rate=1, n_estimators=150;, score=(train=0.759, test=0.722) total time=  12.1s\n",
      "[CV 2/5] END learning_rate=1, n_estimators=150;, score=(train=0.755, test=0.731) total time=  12.1s\n",
      "[CV 3/5] END learning_rate=1, n_estimators=150;, score=(train=0.758, test=0.723) total time=  12.5s\n",
      "[CV 4/5] END learning_rate=1, n_estimators=150;, score=(train=0.756, test=0.728) total time=  12.3s\n",
      "[CV 5/5] END learning_rate=1, n_estimators=150;, score=(train=0.756, test=0.721) total time=  12.2s\n",
      "[CV 1/5] END learning_rate=1, n_estimators=200;, score=(train=0.764, test=0.722) total time=  16.3s\n",
      "[CV 2/5] END learning_rate=1, n_estimators=200;, score=(train=0.761, test=0.728) total time=  16.3s\n",
      "[CV 3/5] END learning_rate=1, n_estimators=200;, score=(train=0.763, test=0.721) total time=  16.0s\n",
      "[CV 4/5] END learning_rate=1, n_estimators=200;, score=(train=0.762, test=0.725) total time=  16.2s\n",
      "[CV 5/5] END learning_rate=1, n_estimators=200;, score=(train=0.761, test=0.717) total time=  16.0s\n",
      "[CV 1/5] END learning_rate=0.1, n_estimators=50;, score=(train=0.738, test=0.732) total time=   4.1s\n",
      "[CV 2/5] END learning_rate=0.1, n_estimators=50;, score=(train=0.736, test=0.741) total time=   4.1s\n",
      "[CV 3/5] END learning_rate=0.1, n_estimators=50;, score=(train=0.738, test=0.736) total time=   4.1s\n",
      "[CV 4/5] END learning_rate=0.1, n_estimators=50;, score=(train=0.737, test=0.734) total time=   4.1s\n",
      "[CV 5/5] END learning_rate=0.1, n_estimators=50;, score=(train=0.738, test=0.734) total time=   4.1s\n",
      "[CV 1/5] END learning_rate=0.1, n_estimators=100;, score=(train=0.740, test=0.733) total time=   7.9s\n",
      "[CV 2/5] END learning_rate=0.1, n_estimators=100;, score=(train=0.738, test=0.743) total time=   8.0s\n",
      "[CV 3/5] END learning_rate=0.1, n_estimators=100;, score=(train=0.740, test=0.735) total time=   8.1s\n",
      "[CV 4/5] END learning_rate=0.1, n_estimators=100;, score=(train=0.740, test=0.736) total time=   8.1s\n",
      "[CV 5/5] END learning_rate=0.1, n_estimators=100;, score=(train=0.741, test=0.735) total time=   8.1s\n",
      "[CV 1/5] END learning_rate=0.1, n_estimators=150;, score=(train=0.741, test=0.733) total time=  12.2s\n",
      "[CV 2/5] END learning_rate=0.1, n_estimators=150;, score=(train=0.740, test=0.744) total time=  12.0s\n",
      "[CV 3/5] END learning_rate=0.1, n_estimators=150;, score=(train=0.742, test=0.735) total time=  11.9s\n",
      "[CV 4/5] END learning_rate=0.1, n_estimators=150;, score=(train=0.741, test=0.736) total time=  12.0s\n",
      "[CV 5/5] END learning_rate=0.1, n_estimators=150;, score=(train=0.742, test=0.735) total time=  12.7s\n",
      "[CV 1/5] END learning_rate=0.1, n_estimators=200;, score=(train=0.743, test=0.733) total time=  16.3s\n",
      "[CV 2/5] END learning_rate=0.1, n_estimators=200;, score=(train=0.741, test=0.743) total time=  16.3s\n",
      "[CV 3/5] END learning_rate=0.1, n_estimators=200;, score=(train=0.743, test=0.735) total time=  16.4s\n",
      "[CV 4/5] END learning_rate=0.1, n_estimators=200;, score=(train=0.742, test=0.737) total time=  16.6s\n",
      "[CV 5/5] END learning_rate=0.1, n_estimators=200;, score=(train=0.743, test=0.736) total time=  16.1s\n",
      "[CV 1/5] END learning_rate=0.01, n_estimators=50;, score=(train=0.726, test=0.726) total time=   4.1s\n",
      "[CV 2/5] END learning_rate=0.01, n_estimators=50;, score=(train=0.725, test=0.729) total time=   4.2s\n",
      "[CV 3/5] END learning_rate=0.01, n_estimators=50;, score=(train=0.725, test=0.728) total time=   4.0s\n",
      "[CV 4/5] END learning_rate=0.01, n_estimators=50;, score=(train=0.725, test=0.722) total time=   4.1s\n",
      "[CV 5/5] END learning_rate=0.01, n_estimators=50;, score=(train=0.727, test=0.721) total time=   4.0s\n",
      "[CV 1/5] END learning_rate=0.01, n_estimators=100;, score=(train=0.726, test=0.726) total time=   8.0s\n",
      "[CV 2/5] END learning_rate=0.01, n_estimators=100;, score=(train=0.726, test=0.730) total time=   8.0s\n",
      "[CV 3/5] END learning_rate=0.01, n_estimators=100;, score=(train=0.726, test=0.727) total time=   8.4s\n",
      "[CV 4/5] END learning_rate=0.01, n_estimators=100;, score=(train=0.726, test=0.724) total time=   8.2s\n",
      "[CV 5/5] END learning_rate=0.01, n_estimators=100;, score=(train=0.728, test=0.725) total time=   8.1s\n",
      "[CV 1/5] END learning_rate=0.01, n_estimators=150;, score=(train=0.729, test=0.728) total time=  12.1s\n",
      "[CV 2/5] END learning_rate=0.01, n_estimators=150;, score=(train=0.727, test=0.730) total time=  12.1s\n",
      "[CV 3/5] END learning_rate=0.01, n_estimators=150;, score=(train=0.730, test=0.729) total time=  12.1s\n",
      "[CV 4/5] END learning_rate=0.01, n_estimators=150;, score=(train=0.727, test=0.724) total time=  12.5s\n",
      "[CV 5/5] END learning_rate=0.01, n_estimators=150;, score=(train=0.729, test=0.725) total time=  12.1s\n",
      "[CV 1/5] END learning_rate=0.01, n_estimators=200;, score=(train=0.731, test=0.731) total time=  16.3s\n",
      "[CV 2/5] END learning_rate=0.01, n_estimators=200;, score=(train=0.729, test=0.732) total time=  16.2s\n",
      "[CV 3/5] END learning_rate=0.01, n_estimators=200;, score=(train=0.732, test=0.731) total time=  16.4s\n",
      "[CV 4/5] END learning_rate=0.01, n_estimators=200;, score=(train=0.729, test=0.725) total time=  16.2s\n",
      "[CV 5/5] END learning_rate=0.01, n_estimators=200;, score=(train=0.732, test=0.727) total time=  16.3s\n",
      "[CV 1/5] END learning_rate=0.001, n_estimators=50;, score=(train=0.726, test=0.726) total time=   4.1s\n",
      "[CV 2/5] END learning_rate=0.001, n_estimators=50;, score=(train=0.725, test=0.729) total time=   4.1s\n",
      "[CV 3/5] END learning_rate=0.001, n_estimators=50;, score=(train=0.725, test=0.728) total time=   4.1s\n",
      "[CV 4/5] END learning_rate=0.001, n_estimators=50;, score=(train=0.726, test=0.725) total time=   4.1s\n",
      "[CV 5/5] END learning_rate=0.001, n_estimators=50;, score=(train=0.727, test=0.721) total time=   4.1s\n",
      "[CV 1/5] END learning_rate=0.001, n_estimators=100;, score=(train=0.726, test=0.726) total time=   8.1s\n",
      "[CV 2/5] END learning_rate=0.001, n_estimators=100;, score=(train=0.725, test=0.729) total time=   8.2s\n",
      "[CV 3/5] END learning_rate=0.001, n_estimators=100;, score=(train=0.725, test=0.728) total time=   8.1s\n",
      "[CV 4/5] END learning_rate=0.001, n_estimators=100;, score=(train=0.726, test=0.725) total time=   8.1s\n",
      "[CV 5/5] END learning_rate=0.001, n_estimators=100;, score=(train=0.727, test=0.721) total time=   8.2s\n",
      "[CV 1/5] END learning_rate=0.001, n_estimators=150;, score=(train=0.726, test=0.726) total time=  12.2s\n",
      "[CV 2/5] END learning_rate=0.001, n_estimators=150;, score=(train=0.725, test=0.729) total time=  12.4s\n",
      "[CV 3/5] END learning_rate=0.001, n_estimators=150;, score=(train=0.725, test=0.728) total time=  12.4s\n",
      "[CV 4/5] END learning_rate=0.001, n_estimators=150;, score=(train=0.726, test=0.725) total time=  12.2s\n",
      "[CV 5/5] END learning_rate=0.001, n_estimators=150;, score=(train=0.727, test=0.721) total time=  12.2s\n",
      "[CV 1/5] END learning_rate=0.001, n_estimators=200;, score=(train=0.726, test=0.726) total time=  16.2s\n",
      "[CV 2/5] END learning_rate=0.001, n_estimators=200;, score=(train=0.725, test=0.729) total time=  16.2s\n",
      "[CV 3/5] END learning_rate=0.001, n_estimators=200;, score=(train=0.725, test=0.728) total time=  16.2s\n",
      "[CV 4/5] END learning_rate=0.001, n_estimators=200;, score=(train=0.726, test=0.725) total time=  16.1s\n",
      "[CV 5/5] END learning_rate=0.001, n_estimators=200;, score=(train=0.727, test=0.721) total time=  16.2s\n",
      "\n",
      "**************************************************\n",
      "\n"
     ]
    }
   ],
   "source": [
    "param_grid = {\n",
    "    \"n_estimators\" : (50, 100, 150, 200),\n",
    "    \"learning_rate\" : (1, 1e-1, 1e-2, 1e-3),\n",
    "}\n",
    "\n",
    "sc_X = StandardScaler()\n",
    "si_mean = SimpleImputer(missing_values=np.nan, strategy=\"mean\")\n",
    "\n",
    "X = si_mean.fit_transform(X)\n",
    "X = sc_X.fit_transform(X)\n",
    "\n",
    "my_pipeline = Pipelines(preprocessor, cfg.seed)\n",
    "\n",
    "breaker()\n",
    "gscv_model = GridSearchCV(\n",
    "    estimator=GradientBoostingClassifier(random_state=cfg.seed),\n",
    "    param_grid=param_grid,\n",
    "    cv=cfg.n_splits,\n",
    "    verbose=3,\n",
    "    return_train_score=True,\n",
    "    ).fit(X, y)\n",
    "breaker()"
   ]
  },
  {
   "cell_type": "code",
   "execution_count": 8,
   "id": "d0ab2e39",
   "metadata": {
    "execution": {
     "iopub.execute_input": "2022-05-11T12:08:45.946173Z",
     "iopub.status.busy": "2022-05-11T12:08:45.945872Z",
     "iopub.status.idle": "2022-05-11T12:08:45.954936Z",
     "shell.execute_reply": "2022-05-11T12:08:45.953999Z"
    },
    "papermill": {
     "duration": 0.048195,
     "end_time": "2022-05-11T12:08:45.956943",
     "exception": false,
     "start_time": "2022-05-11T12:08:45.908748",
     "status": "completed"
    },
    "tags": []
   },
   "outputs": [
    {
     "name": "stdout",
     "output_type": "stream",
     "text": [
      "\n",
      "**************************************************\n",
      "\n",
      "Best Estimator : GradientBoostingClassifier(n_estimators=200, random_state=42)\n",
      "Best Score     : 0.7369571428571429\n",
      "Best Fold      : 7\n",
      "\n",
      "**************************************************\n",
      "\n",
      "Best Parameters\n",
      "\n",
      "learning_rate  : 0.1\n",
      "n_estimators   : 200\n",
      "\n",
      "**************************************************\n",
      "\n"
     ]
    }
   ],
   "source": [
    "breaker()\n",
    "print(f\"Best Estimator : {gscv_model.best_estimator_}\")\n",
    "print(f\"Best Score     : {gscv_model.best_score_}\")\n",
    "print(f\"Best Fold      : {gscv_model.best_index_}\")\n",
    "breaker()\n",
    "print(\"Best Parameters\\n\")\n",
    "for k, v in gscv_model.best_params_.items():\n",
    "    # Left Justify the text making it 14 characte3rs long\n",
    "    print(f\"{k:<14} : {v}\")\n",
    "breaker()"
   ]
  },
  {
   "cell_type": "markdown",
   "id": "5ec9ca10",
   "metadata": {
    "papermill": {
     "duration": 0.034652,
     "end_time": "2022-05-11T12:08:46.025490",
     "exception": false,
     "start_time": "2022-05-11T12:08:45.990838",
     "status": "completed"
    },
    "tags": []
   },
   "source": [
    "### **Best Grid Seached Model**"
   ]
  },
  {
   "cell_type": "code",
   "execution_count": 9,
   "id": "23ba3c78",
   "metadata": {
    "execution": {
     "iopub.execute_input": "2022-05-11T12:08:46.095936Z",
     "iopub.status.busy": "2022-05-11T12:08:46.095444Z",
     "iopub.status.idle": "2022-05-11T12:09:04.818785Z",
     "shell.execute_reply": "2022-05-11T12:09:04.817548Z"
    },
    "papermill": {
     "duration": 18.762443,
     "end_time": "2022-05-11T12:09:04.821682",
     "exception": false,
     "start_time": "2022-05-11T12:08:46.059239",
     "status": "completed"
    },
    "tags": []
   },
   "outputs": [
    {
     "name": "stdout",
     "output_type": "stream",
     "text": [
      "\n",
      "**************************************************\n",
      "\n"
     ]
    }
   ],
   "source": [
    "df = pd.read_csv(cfg.data_read_path, delimiter=\";\")\n",
    "df = df.drop(columns=[\"id\"])\n",
    "df.age /= 365.25\n",
    "\n",
    "y = df.cardio.copy().values\n",
    "\n",
    "df = df.drop(columns=[\"cardio\"])\n",
    "\n",
    "df[\"bmi\"] = df.weight / (df.height / 100)**2\n",
    "df[\"smoke_alco\"] = [df.smoke[i] and df.alco[i] for i in range(df.shape[0])]\n",
    "df[\"smoke_alco_active\"] = [df.smoke[i] and df.alco[i] and df.active[i] for i in range(df.shape[0])]\n",
    "df[\"ap_mean\"] = (df.ap_hi + df.ap_lo) / 2\n",
    "\n",
    "X = df.iloc[:, :-1].copy().values\n",
    "\n",
    "features = [i for i in range(X.shape[1])]\n",
    "\n",
    "feature_transformer = Pipeline(\n",
    "    steps=[\n",
    "        (\"Simple_Imputer\", SimpleImputer(missing_values=np.nan, strategy=\"mean\")),\n",
    "        (\"Standard_Scaler\", StandardScaler())\n",
    "    ]\n",
    ")\n",
    "\n",
    "preprocessor = ColumnTransformer(\n",
    "    transformers=[\n",
    "        (\"features\", feature_transformer, features),\n",
    "    ]\n",
    ")\n",
    "\n",
    "model = Pipeline(\n",
    "    steps=[\n",
    "        (\"preprocessor\", preprocessor),\n",
    "        (\"classifier\", GradientBoostingClassifier(random_state=cfg.seed, \n",
    "                                                  n_estimators=gscv_model.best_params_[\"n_estimators\"], \n",
    "                                                  learning_rate=gscv_model.best_params_[\"learning_rate\"])),\n",
    "    ]\n",
    ")\n",
    "\n",
    "breaker()\n",
    "model.fit(X, y)\n",
    "\n",
    "with open(os.path.join(cfg.model_save_path, f\"best_model.pkl\"), \"wb\") as fp: pickle.dump(model, fp)"
   ]
  }
 ],
 "metadata": {
  "kernelspec": {
   "display_name": "Python 3",
   "language": "python",
   "name": "python3"
  },
  "language_info": {
   "codemirror_mode": {
    "name": "ipython",
    "version": 3
   },
   "file_extension": ".py",
   "mimetype": "text/x-python",
   "name": "python",
   "nbconvert_exporter": "python",
   "pygments_lexer": "ipython3",
   "version": "3.7.12"
  },
  "papermill": {
   "default_parameters": {},
   "duration": 912.886679,
   "end_time": "2022-05-11T12:09:05.582303",
   "environment_variables": {},
   "exception": null,
   "input_path": "__notebook__.ipynb",
   "output_path": "__notebook__.ipynb",
   "parameters": {},
   "start_time": "2022-05-11T11:53:52.695624",
   "version": "2.3.4"
  }
 },
 "nbformat": 4,
 "nbformat_minor": 5
}
