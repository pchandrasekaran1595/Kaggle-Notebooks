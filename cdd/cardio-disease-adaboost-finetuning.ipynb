{
 "cells": [
  {
   "cell_type": "markdown",
   "id": "74712ea6",
   "metadata": {
    "_cell_guid": "b1076dfc-b9ad-4769-8c92-a6c4dae69d19",
    "_uuid": "8f2839f25d086af736a60e9eeb907d3b93b6e0e5",
    "execution": {
     "iopub.execute_input": "2022-04-28T09:38:36.395647Z",
     "iopub.status.busy": "2022-04-28T09:38:36.394699Z",
     "iopub.status.idle": "2022-04-28T09:38:38.132719Z",
     "shell.execute_reply": "2022-04-28T09:38:38.131755Z",
     "shell.execute_reply.started": "2022-04-28T09:38:36.395497Z"
    },
    "papermill": {
     "duration": 0.014592,
     "end_time": "2022-04-28T10:18:52.006121",
     "exception": false,
     "start_time": "2022-04-28T10:18:51.991529",
     "status": "completed"
    },
    "tags": []
   },
   "source": [
    "### **Library Imports**"
   ]
  },
  {
   "cell_type": "code",
   "execution_count": 1,
   "id": "5ec22802",
   "metadata": {
    "execution": {
     "iopub.execute_input": "2022-04-28T10:18:52.035833Z",
     "iopub.status.busy": "2022-04-28T10:18:52.035256Z",
     "iopub.status.idle": "2022-04-28T10:18:53.725240Z",
     "shell.execute_reply": "2022-04-28T10:18:53.724294Z"
    },
    "papermill": {
     "duration": 1.708925,
     "end_time": "2022-04-28T10:18:53.728525",
     "exception": false,
     "start_time": "2022-04-28T10:18:52.019600",
     "status": "completed"
    },
    "tags": []
   },
   "outputs": [],
   "source": [
    "import os\n",
    "import pickle\n",
    "import numpy as np\n",
    "import pandas as pd\n",
    "import random as r\n",
    "import seaborn as sns\n",
    "import matplotlib.pyplot as plt\n",
    "\n",
    "from time import time\n",
    "from sklearn.pipeline import Pipeline\n",
    "from sklearn.impute import SimpleImputer\n",
    "from sklearn.compose import ColumnTransformer\n",
    "from sklearn.preprocessing import StandardScaler\n",
    "from sklearn.model_selection import KFold, GridSearchCV\n",
    "from sklearn.ensemble import AdaBoostClassifier\n",
    "from sklearn.metrics import accuracy_score, \\\n",
    "                            roc_auc_score, \\\n",
    "                            precision_recall_fscore_support, \\\n",
    "                            classification_report, \\\n",
    "                            confusion_matrix"
   ]
  },
  {
   "cell_type": "code",
   "execution_count": 2,
   "id": "cca62103",
   "metadata": {
    "execution": {
     "iopub.execute_input": "2022-04-28T10:18:53.761485Z",
     "iopub.status.busy": "2022-04-28T10:18:53.760925Z",
     "iopub.status.idle": "2022-04-28T10:18:53.767346Z",
     "shell.execute_reply": "2022-04-28T10:18:53.766679Z"
    },
    "papermill": {
     "duration": 0.02469,
     "end_time": "2022-04-28T10:18:53.769348",
     "exception": false,
     "start_time": "2022-04-28T10:18:53.744658",
     "status": "completed"
    },
    "tags": []
   },
   "outputs": [],
   "source": [
    "class CFG(object):\n",
    "    def __init__(self,\n",
    "                 seed: int = 42,\n",
    "                 n_splits: int = 5,\n",
    "                 show_info: bool = False,\n",
    "                 ):\n",
    "\n",
    "        self.seed = seed\n",
    "        self.n_splits = n_splits\n",
    "        self.show_info = show_info\n",
    "        self.data_read_path = \"../input/cardiovascular-disease-dataset/cardio_train.csv\"\n",
    "        self.model_save_path = \"models\"\n",
    "        if not os.path.exists(self.model_save_path): os.makedirs(self.model_save_path)\n",
    "\n",
    "cfg = CFG(seed=42, show_info=True)"
   ]
  },
  {
   "cell_type": "markdown",
   "id": "cd18d174",
   "metadata": {
    "papermill": {
     "duration": 0.01341,
     "end_time": "2022-04-28T10:18:53.796588",
     "exception": false,
     "start_time": "2022-04-28T10:18:53.783178",
     "status": "completed"
    },
    "tags": []
   },
   "source": [
    "### **Utilities and Helpers**"
   ]
  },
  {
   "cell_type": "code",
   "execution_count": 3,
   "id": "68e85a06",
   "metadata": {
    "execution": {
     "iopub.execute_input": "2022-04-28T10:18:53.827058Z",
     "iopub.status.busy": "2022-04-28T10:18:53.826736Z",
     "iopub.status.idle": "2022-04-28T10:18:53.834848Z",
     "shell.execute_reply": "2022-04-28T10:18:53.834272Z"
    },
    "papermill": {
     "duration": 0.025353,
     "end_time": "2022-04-28T10:18:53.836702",
     "exception": false,
     "start_time": "2022-04-28T10:18:53.811349",
     "status": "completed"
    },
    "tags": []
   },
   "outputs": [],
   "source": [
    "def breaker(num: int=50, char: str=\"*\") -> None:\n",
    "    print(\"\\n\" + num*char + \"\\n\")\n",
    "    \n",
    "\n",
    "def print_scores(accuracy: float, auc: float, precision: np.ndarray, recall: np.ndarray, f_score: np.ndarray) -> None:\n",
    "    print(f\"Accuracy  : {accuracy:.5f}\")\n",
    "    print(f\"ROC-AUC   : {auc:.5f}\")\n",
    "    print(f\"Precision : {precision}\")\n",
    "    print(f\"Recall    : {recall}\")\n",
    "    print(f\"F-Score   : {f_score}\")\n",
    "    \n",
    "\n",
    "def get_scores(y_true: np.ndarray, y_pred: np.ndarray) -> tuple:\n",
    "    accuracy = accuracy_score(y_pred, y_true)\n",
    "    auc = roc_auc_score(y_pred, y_true)\n",
    "    precision, recall, f_score, _ = precision_recall_fscore_support(y_pred, y_true)\n",
    "\n",
    "    return accuracy, auc, precision, recall, f_score"
   ]
  },
  {
   "cell_type": "code",
   "execution_count": 4,
   "id": "725c2a86",
   "metadata": {
    "execution": {
     "iopub.execute_input": "2022-04-28T10:18:53.867120Z",
     "iopub.status.busy": "2022-04-28T10:18:53.866689Z",
     "iopub.status.idle": "2022-04-28T10:18:53.872503Z",
     "shell.execute_reply": "2022-04-28T10:18:53.871471Z"
    },
    "papermill": {
     "duration": 0.023997,
     "end_time": "2022-04-28T10:18:53.874742",
     "exception": false,
     "start_time": "2022-04-28T10:18:53.850745",
     "status": "completed"
    },
    "tags": []
   },
   "outputs": [],
   "source": [
    "class Pipelines(object):\n",
    "    def __init__(self, preprocessor, seed: int):\n",
    "        self.model = Pipeline(\n",
    "            steps=[\n",
    "                (\"preprocessor\", preprocessor),\n",
    "                (\"classifier\", AdaBoostClassifier(random_state=seed)),\n",
    "            ]\n",
    "        )"
   ]
  },
  {
   "cell_type": "markdown",
   "id": "77f6c305",
   "metadata": {
    "papermill": {
     "duration": 0.013574,
     "end_time": "2022-04-28T10:18:53.902407",
     "exception": false,
     "start_time": "2022-04-28T10:18:53.888833",
     "status": "completed"
    },
    "tags": []
   },
   "source": [
    "### **Normal**"
   ]
  },
  {
   "cell_type": "code",
   "execution_count": 5,
   "id": "c655c8d4",
   "metadata": {
    "execution": {
     "iopub.execute_input": "2022-04-28T10:18:53.931725Z",
     "iopub.status.busy": "2022-04-28T10:18:53.931443Z",
     "iopub.status.idle": "2022-04-28T10:18:54.122101Z",
     "shell.execute_reply": "2022-04-28T10:18:54.121093Z"
    },
    "papermill": {
     "duration": 0.208876,
     "end_time": "2022-04-28T10:18:54.125081",
     "exception": false,
     "start_time": "2022-04-28T10:18:53.916205",
     "status": "completed"
    },
    "tags": []
   },
   "outputs": [],
   "source": [
    "df = pd.read_csv(cfg.data_read_path, delimiter=\";\")\n",
    "df = df.drop(columns=[\"id\"])\n",
    "\n",
    "X = df.iloc[:, :-1].copy().values\n",
    "y = df.iloc[:, -1].copy().values\n",
    "\n",
    "features = [i for i in range(X.shape[1])]\n",
    "\n",
    "feature_transformer = Pipeline(\n",
    "    steps=[\n",
    "        (\"Simple_Imputer\", SimpleImputer(missing_values=np.nan, strategy=\"mean\")),\n",
    "        (\"Standard_Scaler\", StandardScaler())\n",
    "    ]\n",
    ")\n",
    "\n",
    "preprocessor = ColumnTransformer(\n",
    "    transformers=[\n",
    "        (\"features\", feature_transformer, features),\n",
    "    ]\n",
    ")"
   ]
  },
  {
   "cell_type": "code",
   "execution_count": 6,
   "id": "7a59cffb",
   "metadata": {
    "execution": {
     "iopub.execute_input": "2022-04-28T10:18:54.154721Z",
     "iopub.status.busy": "2022-04-28T10:18:54.154400Z",
     "iopub.status.idle": "2022-04-28T10:19:03.074524Z",
     "shell.execute_reply": "2022-04-28T10:19:03.073537Z"
    },
    "papermill": {
     "duration": 8.937604,
     "end_time": "2022-04-28T10:19:03.076717",
     "exception": false,
     "start_time": "2022-04-28T10:18:54.139113",
     "status": "completed"
    },
    "tags": []
   },
   "outputs": [
    {
     "name": "stdout",
     "output_type": "stream",
     "text": [
      "\n",
      "**************************************************\n",
      "\n",
      "Fold 1\n",
      "\n",
      "Accuracy  : 0.73536\n",
      "ROC-AUC   : 0.73994\n",
      "Precision : [0.80409273 0.66685682]\n",
      "Recall    : [0.70634821 0.77353184]\n",
      "F-Score   : [0.75205782 0.71624416]\n",
      "\n",
      "[[5619 1369]\n",
      " [2336 4676]]\n",
      "\n",
      "**************************************************\n",
      "\n",
      "Fold 2\n",
      "\n",
      "Accuracy  : 0.73200\n",
      "ROC-AUC   : 0.73642\n",
      "Precision : [0.79890679 0.66600454]\n",
      "Recall    : [0.70232676 0.77051871]\n",
      "F-Score   : [0.74751009 0.71445967]\n",
      "\n",
      "[[5554 1398]\n",
      " [2354 4694]]\n",
      "\n",
      "**************************************************\n",
      "\n",
      "Fold 3\n",
      "\n",
      "Accuracy  : 0.72964\n",
      "ROC-AUC   : 0.73325\n",
      "Precision : [0.7906075  0.66931931]\n",
      "Recall    : [0.7028856  0.76361868]\n",
      "F-Score   : [0.74417033 0.71336615]\n",
      "\n",
      "[[5505 1458]\n",
      " [2327 4710]]\n",
      "\n",
      "**************************************************\n",
      "\n",
      "Fold 4\n",
      "\n",
      "Accuracy  : 0.72693\n",
      "ROC-AUC   : 0.73063\n",
      "Precision : [0.79496908 0.656595  ]\n",
      "Recall    : [0.70527366 0.75597926]\n",
      "F-Score   : [0.74744005 0.70279095]\n",
      "\n",
      "[[5657 1459]\n",
      " [2364 4520]]\n",
      "\n",
      "**************************************************\n",
      "\n",
      "Fold 5\n",
      "\n",
      "Accuracy  : 0.72750\n",
      "ROC-AUC   : 0.73316\n",
      "Precision : [0.80548415 0.64947128]\n",
      "Recall    : [0.69689855 0.7694261 ]\n",
      "F-Score   : [0.74726731 0.70437815]\n",
      "\n",
      "[[5640 1362]\n",
      " [2453 4545]]\n",
      "\n",
      "**************************************************\n",
      "\n",
      "Best ACC Fold : 1\n",
      "Best AUC Fold : 1\n",
      "Best PRE Fold : 3\n",
      "Best REC Fold : 1\n",
      "Best F1 Fold  : 1\n",
      "\n",
      "**************************************************\n",
      "\n"
     ]
    }
   ],
   "source": [
    "best_auc = 0.0\n",
    "best_acc = 0.0\n",
    "best_pre = 0.0\n",
    "best_rec = 0.0\n",
    "best_f1  = 0.0\n",
    "\n",
    "fold = 1\n",
    "\n",
    "breaker()\n",
    "for tr_idx, va_idx in KFold(n_splits=cfg.n_splits, random_state=cfg.seed, shuffle=True).split(X):\n",
    "    X_train, X_valid, y_train, y_valid = X[tr_idx], X[va_idx], y[tr_idx], y[va_idx]\n",
    "    my_pipeline = Pipelines(preprocessor, cfg.seed)\n",
    "    my_pipeline.model.fit(X_train, y_train)\n",
    "\n",
    "    y_pred = my_pipeline.model.predict(X_valid)\n",
    "    acc, auc, pre, rec, f1 = get_scores(y_valid, y_pred)\n",
    "    print(f\"Fold {fold}\\n\")\n",
    "    print_scores(acc, auc, pre, rec, f1)\n",
    "    print(\"\")\n",
    "    print(confusion_matrix(y_valid, y_pred))\n",
    "    breaker()\n",
    "\n",
    "    if acc > best_acc:\n",
    "        best_acc = acc\n",
    "        best_acc_fold = fold\n",
    "    \n",
    "    if auc > best_auc:\n",
    "        best_auc = auc\n",
    "        best_auc_fold = fold\n",
    "\n",
    "    if pre[1] > best_pre:\n",
    "        best_pre = pre[1]\n",
    "        best_pre_fold = fold\n",
    "    \n",
    "    if rec[1] > best_rec:\n",
    "        best_rec = rec[1]\n",
    "        best_rec_fold = fold\n",
    "    \n",
    "    if f1[1] > best_f1:\n",
    "        best_f1 = f1[1]\n",
    "        best_f1_fold = fold\n",
    "    \n",
    "    fold += 1\n",
    "\n",
    "print(f\"Best ACC Fold : {best_acc_fold}\")\n",
    "print(f\"Best AUC Fold : {best_auc_fold}\")\n",
    "print(f\"Best PRE Fold : {best_pre_fold}\")\n",
    "print(f\"Best REC Fold : {best_rec_fold}\")\n",
    "print(f\"Best F1 Fold  : {best_f1_fold}\")\n",
    "\n",
    "breaker()"
   ]
  },
  {
   "cell_type": "markdown",
   "id": "0a5d0eec",
   "metadata": {
    "papermill": {
     "duration": 0.015393,
     "end_time": "2022-04-28T10:19:03.108698",
     "exception": false,
     "start_time": "2022-04-28T10:19:03.093305",
     "status": "completed"
    },
    "tags": []
   },
   "source": [
    "### **Grid Search**"
   ]
  },
  {
   "cell_type": "code",
   "execution_count": 7,
   "id": "533c8e04",
   "metadata": {
    "execution": {
     "iopub.execute_input": "2022-04-28T10:19:03.141984Z",
     "iopub.status.busy": "2022-04-28T10:19:03.141714Z",
     "iopub.status.idle": "2022-04-28T10:26:21.420112Z",
     "shell.execute_reply": "2022-04-28T10:26:21.418834Z"
    },
    "papermill": {
     "duration": 438.298874,
     "end_time": "2022-04-28T10:26:21.423233",
     "exception": false,
     "start_time": "2022-04-28T10:19:03.124359",
     "status": "completed"
    },
    "tags": []
   },
   "outputs": [
    {
     "name": "stdout",
     "output_type": "stream",
     "text": [
      "\n",
      "**************************************************\n",
      "\n",
      "Fitting 5 folds for each of 16 candidates, totalling 80 fits\n",
      "[CV 1/5] END learning_rate=1, n_estimators=50;, score=(train=0.732, test=0.728) total time=   1.8s\n",
      "[CV 2/5] END learning_rate=1, n_estimators=50;, score=(train=0.731, test=0.734) total time=   1.8s\n",
      "[CV 3/5] END learning_rate=1, n_estimators=50;, score=(train=0.732, test=0.733) total time=   1.8s\n",
      "[CV 4/5] END learning_rate=1, n_estimators=50;, score=(train=0.733, test=0.730) total time=   1.8s\n",
      "[CV 5/5] END learning_rate=1, n_estimators=50;, score=(train=0.731, test=0.726) total time=   1.9s\n",
      "[CV 1/5] END learning_rate=1, n_estimators=100;, score=(train=0.732, test=0.729) total time=   3.6s\n",
      "[CV 2/5] END learning_rate=1, n_estimators=100;, score=(train=0.731, test=0.736) total time=   3.7s\n",
      "[CV 3/5] END learning_rate=1, n_estimators=100;, score=(train=0.732, test=0.732) total time=   3.6s\n",
      "[CV 4/5] END learning_rate=1, n_estimators=100;, score=(train=0.733, test=0.730) total time=   3.5s\n",
      "[CV 5/5] END learning_rate=1, n_estimators=100;, score=(train=0.733, test=0.728) total time=   3.5s\n",
      "[CV 1/5] END learning_rate=1, n_estimators=150;, score=(train=0.733, test=0.730) total time=   5.4s\n",
      "[CV 2/5] END learning_rate=1, n_estimators=150;, score=(train=0.731, test=0.736) total time=   5.4s\n",
      "[CV 3/5] END learning_rate=1, n_estimators=150;, score=(train=0.733, test=0.732) total time=   5.5s\n",
      "[CV 4/5] END learning_rate=1, n_estimators=150;, score=(train=0.733, test=0.730) total time=   5.5s\n",
      "[CV 5/5] END learning_rate=1, n_estimators=150;, score=(train=0.733, test=0.728) total time=   5.4s\n",
      "[CV 1/5] END learning_rate=1, n_estimators=200;, score=(train=0.733, test=0.729) total time=   7.1s\n",
      "[CV 2/5] END learning_rate=1, n_estimators=200;, score=(train=0.731, test=0.736) total time=   7.1s\n",
      "[CV 3/5] END learning_rate=1, n_estimators=200;, score=(train=0.733, test=0.732) total time=   7.1s\n",
      "[CV 4/5] END learning_rate=1, n_estimators=200;, score=(train=0.733, test=0.730) total time=   7.1s\n",
      "[CV 5/5] END learning_rate=1, n_estimators=200;, score=(train=0.734, test=0.728) total time=   7.5s\n",
      "[CV 1/5] END learning_rate=0.1, n_estimators=50;, score=(train=0.722, test=0.721) total time=   1.9s\n",
      "[CV 2/5] END learning_rate=0.1, n_estimators=50;, score=(train=0.719, test=0.723) total time=   1.8s\n",
      "[CV 3/5] END learning_rate=0.1, n_estimators=50;, score=(train=0.720, test=0.725) total time=   1.9s\n",
      "[CV 4/5] END learning_rate=0.1, n_estimators=50;, score=(train=0.721, test=0.717) total time=   1.9s\n",
      "[CV 5/5] END learning_rate=0.1, n_estimators=50;, score=(train=0.724, test=0.719) total time=   1.9s\n",
      "[CV 1/5] END learning_rate=0.1, n_estimators=100;, score=(train=0.726, test=0.727) total time=   3.6s\n",
      "[CV 2/5] END learning_rate=0.1, n_estimators=100;, score=(train=0.725, test=0.727) total time=   3.7s\n",
      "[CV 3/5] END learning_rate=0.1, n_estimators=100;, score=(train=0.726, test=0.728) total time=   3.6s\n",
      "[CV 4/5] END learning_rate=0.1, n_estimators=100;, score=(train=0.726, test=0.721) total time=   3.6s\n",
      "[CV 5/5] END learning_rate=0.1, n_estimators=100;, score=(train=0.726, test=0.722) total time=   3.6s\n",
      "[CV 1/5] END learning_rate=0.1, n_estimators=150;, score=(train=0.728, test=0.728) total time=   5.3s\n",
      "[CV 2/5] END learning_rate=0.1, n_estimators=150;, score=(train=0.726, test=0.730) total time=   5.3s\n",
      "[CV 3/5] END learning_rate=0.1, n_estimators=150;, score=(train=0.727, test=0.729) total time=   5.4s\n",
      "[CV 4/5] END learning_rate=0.1, n_estimators=150;, score=(train=0.727, test=0.724) total time=   5.4s\n",
      "[CV 5/5] END learning_rate=0.1, n_estimators=150;, score=(train=0.728, test=0.724) total time=   5.6s\n",
      "[CV 1/5] END learning_rate=0.1, n_estimators=200;, score=(train=0.729, test=0.730) total time=   7.3s\n",
      "[CV 2/5] END learning_rate=0.1, n_estimators=200;, score=(train=0.727, test=0.731) total time=   7.4s\n",
      "[CV 3/5] END learning_rate=0.1, n_estimators=200;, score=(train=0.729, test=0.730) total time=   7.2s\n",
      "[CV 4/5] END learning_rate=0.1, n_estimators=200;, score=(train=0.729, test=0.725) total time=   7.1s\n",
      "[CV 5/5] END learning_rate=0.1, n_estimators=200;, score=(train=0.730, test=0.725) total time=   7.2s\n",
      "[CV 1/5] END learning_rate=0.01, n_estimators=50;, score=(train=0.714, test=0.713) total time=   1.9s\n",
      "[CV 2/5] END learning_rate=0.01, n_estimators=50;, score=(train=0.713, test=0.716) total time=   1.9s\n",
      "[CV 3/5] END learning_rate=0.01, n_estimators=50;, score=(train=0.713, test=0.719) total time=   1.8s\n",
      "[CV 4/5] END learning_rate=0.01, n_estimators=50;, score=(train=0.714, test=0.712) total time=   1.7s\n",
      "[CV 5/5] END learning_rate=0.01, n_estimators=50;, score=(train=0.715, test=0.709) total time=   1.8s\n",
      "[CV 1/5] END learning_rate=0.01, n_estimators=100;, score=(train=0.714, test=0.713) total time=   3.7s\n",
      "[CV 2/5] END learning_rate=0.01, n_estimators=100;, score=(train=0.713, test=0.716) total time=   3.6s\n",
      "[CV 3/5] END learning_rate=0.01, n_estimators=100;, score=(train=0.713, test=0.719) total time=   3.7s\n",
      "[CV 4/5] END learning_rate=0.01, n_estimators=100;, score=(train=0.714, test=0.712) total time=   3.6s\n",
      "[CV 5/5] END learning_rate=0.01, n_estimators=100;, score=(train=0.715, test=0.709) total time=   3.6s\n",
      "[CV 1/5] END learning_rate=0.01, n_estimators=150;, score=(train=0.714, test=0.713) total time=   5.4s\n",
      "[CV 2/5] END learning_rate=0.01, n_estimators=150;, score=(train=0.713, test=0.716) total time=   5.5s\n",
      "[CV 3/5] END learning_rate=0.01, n_estimators=150;, score=(train=0.713, test=0.719) total time=   5.3s\n",
      "[CV 4/5] END learning_rate=0.01, n_estimators=150;, score=(train=0.714, test=0.712) total time=   5.4s\n",
      "[CV 5/5] END learning_rate=0.01, n_estimators=150;, score=(train=0.715, test=0.709) total time=   5.3s\n",
      "[CV 1/5] END learning_rate=0.01, n_estimators=200;, score=(train=0.714, test=0.713) total time=   7.2s\n",
      "[CV 2/5] END learning_rate=0.01, n_estimators=200;, score=(train=0.713, test=0.716) total time=   7.2s\n",
      "[CV 3/5] END learning_rate=0.01, n_estimators=200;, score=(train=0.713, test=0.719) total time=   7.3s\n",
      "[CV 4/5] END learning_rate=0.01, n_estimators=200;, score=(train=0.714, test=0.712) total time=   7.4s\n",
      "[CV 5/5] END learning_rate=0.01, n_estimators=200;, score=(train=0.715, test=0.709) total time=   7.1s\n",
      "[CV 1/5] END learning_rate=0.001, n_estimators=50;, score=(train=0.714, test=0.713) total time=   1.9s\n",
      "[CV 2/5] END learning_rate=0.001, n_estimators=50;, score=(train=0.713, test=0.716) total time=   1.8s\n",
      "[CV 3/5] END learning_rate=0.001, n_estimators=50;, score=(train=0.713, test=0.719) total time=   1.8s\n",
      "[CV 4/5] END learning_rate=0.001, n_estimators=50;, score=(train=0.714, test=0.712) total time=   1.7s\n",
      "[CV 5/5] END learning_rate=0.001, n_estimators=50;, score=(train=0.715, test=0.709) total time=   1.9s\n",
      "[CV 1/5] END learning_rate=0.001, n_estimators=100;, score=(train=0.714, test=0.713) total time=   3.7s\n",
      "[CV 2/5] END learning_rate=0.001, n_estimators=100;, score=(train=0.713, test=0.716) total time=   3.8s\n",
      "[CV 3/5] END learning_rate=0.001, n_estimators=100;, score=(train=0.713, test=0.719) total time=   3.6s\n",
      "[CV 4/5] END learning_rate=0.001, n_estimators=100;, score=(train=0.714, test=0.712) total time=   3.8s\n",
      "[CV 5/5] END learning_rate=0.001, n_estimators=100;, score=(train=0.715, test=0.709) total time=   3.7s\n",
      "[CV 1/5] END learning_rate=0.001, n_estimators=150;, score=(train=0.714, test=0.713) total time=   5.5s\n",
      "[CV 2/5] END learning_rate=0.001, n_estimators=150;, score=(train=0.713, test=0.716) total time=   5.6s\n",
      "[CV 3/5] END learning_rate=0.001, n_estimators=150;, score=(train=0.713, test=0.719) total time=   5.6s\n",
      "[CV 4/5] END learning_rate=0.001, n_estimators=150;, score=(train=0.714, test=0.712) total time=   5.6s\n",
      "[CV 5/5] END learning_rate=0.001, n_estimators=150;, score=(train=0.715, test=0.709) total time=   5.5s\n",
      "[CV 1/5] END learning_rate=0.001, n_estimators=200;, score=(train=0.714, test=0.713) total time=   7.3s\n",
      "[CV 2/5] END learning_rate=0.001, n_estimators=200;, score=(train=0.713, test=0.716) total time=   7.2s\n",
      "[CV 3/5] END learning_rate=0.001, n_estimators=200;, score=(train=0.713, test=0.719) total time=   7.3s\n",
      "[CV 4/5] END learning_rate=0.001, n_estimators=200;, score=(train=0.714, test=0.712) total time=   7.4s\n",
      "[CV 5/5] END learning_rate=0.001, n_estimators=200;, score=(train=0.715, test=0.709) total time=   7.4s\n",
      "\n",
      "**************************************************\n",
      "\n"
     ]
    }
   ],
   "source": [
    "param_grid = {\n",
    "    \"n_estimators\" : (50, 100, 150, 200),\n",
    "    \"learning_rate\" : (1, 1e-1, 1e-2, 1e-3),\n",
    "}\n",
    "\n",
    "sc_X = StandardScaler()\n",
    "si_mean = SimpleImputer(missing_values=np.nan, strategy=\"mean\")\n",
    "\n",
    "X = si_mean.fit_transform(X)\n",
    "X = sc_X.fit_transform(X)\n",
    "\n",
    "my_pipeline = Pipelines(preprocessor, cfg.seed)\n",
    "\n",
    "breaker()\n",
    "gscv_model = GridSearchCV(\n",
    "    estimator=AdaBoostClassifier(),\n",
    "    param_grid=param_grid,\n",
    "    cv=cfg.n_splits,\n",
    "    verbose=3,\n",
    "    return_train_score=True,\n",
    "    ).fit(X, y)\n",
    "breaker()"
   ]
  },
  {
   "cell_type": "code",
   "execution_count": 8,
   "id": "3df46320",
   "metadata": {
    "execution": {
     "iopub.execute_input": "2022-04-28T10:26:21.524956Z",
     "iopub.status.busy": "2022-04-28T10:26:21.524529Z",
     "iopub.status.idle": "2022-04-28T10:26:21.533414Z",
     "shell.execute_reply": "2022-04-28T10:26:21.532591Z"
    },
    "papermill": {
     "duration": 0.059363,
     "end_time": "2022-04-28T10:26:21.535815",
     "exception": false,
     "start_time": "2022-04-28T10:26:21.476452",
     "status": "completed"
    },
    "tags": []
   },
   "outputs": [
    {
     "name": "stdout",
     "output_type": "stream",
     "text": [
      "\n",
      "**************************************************\n",
      "\n",
      "Best Estimator : AdaBoostClassifier(learning_rate=1, n_estimators=150)\n",
      "Best Score     : 0.7313428571428572\n",
      "Best Fold      : 2\n",
      "\n",
      "**************************************************\n",
      "\n",
      "Best Parameters\n",
      "\n",
      "learning_rate  : 1\n",
      "n_estimators   : 150\n",
      "\n",
      "**************************************************\n",
      "\n"
     ]
    }
   ],
   "source": [
    "breaker()\n",
    "print(f\"Best Estimator : {gscv_model.best_estimator_}\")\n",
    "print(f\"Best Score     : {gscv_model.best_score_}\")\n",
    "print(f\"Best Fold      : {gscv_model.best_index_}\")\n",
    "breaker()\n",
    "print(\"Best Parameters\\n\")\n",
    "for k, v in gscv_model.best_params_.items():\n",
    "    # Left Justify the text making it 14 characte3rs long\n",
    "    print(f\"{k:<14} : {v}\")\n",
    "breaker()"
   ]
  },
  {
   "cell_type": "markdown",
   "id": "4d583d3c",
   "metadata": {
    "papermill": {
     "duration": 0.046,
     "end_time": "2022-04-28T10:26:21.629031",
     "exception": false,
     "start_time": "2022-04-28T10:26:21.583031",
     "status": "completed"
    },
    "tags": []
   },
   "source": [
    "### **Best Grid Seached Model**"
   ]
  },
  {
   "cell_type": "code",
   "execution_count": 9,
   "id": "480d7ea6",
   "metadata": {
    "execution": {
     "iopub.execute_input": "2022-04-28T10:26:21.724716Z",
     "iopub.status.busy": "2022-04-28T10:26:21.724412Z",
     "iopub.status.idle": "2022-04-28T10:26:23.693997Z",
     "shell.execute_reply": "2022-04-28T10:26:23.693292Z"
    },
    "papermill": {
     "duration": 2.021692,
     "end_time": "2022-04-28T10:26:23.697012",
     "exception": false,
     "start_time": "2022-04-28T10:26:21.675320",
     "status": "completed"
    },
    "tags": []
   },
   "outputs": [
    {
     "name": "stdout",
     "output_type": "stream",
     "text": [
      "\n",
      "**************************************************\n",
      "\n",
      "Fold 6\n",
      "\n",
      "Accuracy  : 0.73200\n",
      "ROC-AUC   : 0.73642\n",
      "Precision : [0.79890679 0.66600454]\n",
      "Recall    : [0.70232676 0.77051871]\n",
      "F-Score   : [0.74751009 0.71445967]\n",
      "\n",
      "[[5554 1398]\n",
      " [2354 4694]]\n",
      "\n",
      "**************************************************\n",
      "\n"
     ]
    }
   ],
   "source": [
    "df = pd.read_csv(cfg.data_read_path, delimiter=\";\")\n",
    "df = df.drop(columns=[\"id\"])\n",
    "\n",
    "X = df.iloc[:, :-1].copy().values\n",
    "y = df.iloc[:, -1].copy().values\n",
    "\n",
    "features = [i for i in range(X.shape[1])]\n",
    "\n",
    "feature_transformer = Pipeline(\n",
    "    steps=[\n",
    "        (\"Simple_Imputer\", SimpleImputer(missing_values=np.nan, strategy=\"mean\")),\n",
    "        (\"Standard_Scaler\", StandardScaler())\n",
    "    ]\n",
    ")\n",
    "\n",
    "preprocessor = ColumnTransformer(\n",
    "    transformers=[\n",
    "        (\"features\", feature_transformer, features),\n",
    "    ]\n",
    ")\n",
    "\n",
    "model = Pipeline(\n",
    "    steps=[\n",
    "        (\"preprocessor\", preprocessor),\n",
    "        (\"classifier\", AdaBoostClassifier(random_state=cfg.seed, n_estimators=150, learning_rate=1)),\n",
    "    ]\n",
    ")\n",
    "\n",
    "i = 1\n",
    "for tr_idx, va_idx in KFold(n_splits=cfg.n_splits, shuffle=True, random_state=cfg.seed).split(X):\n",
    "    if i == 2: break\n",
    "    i += 1\n",
    "\n",
    "breaker()\n",
    "X_train, X_valid, y_train, y_valid = X[tr_idx], X[va_idx], y[tr_idx], y[va_idx]\n",
    "my_pipeline = Pipelines(preprocessor, cfg.seed)\n",
    "my_pipeline.model.fit(X_train, y_train)\n",
    "y_pred = my_pipeline.model.predict(X_valid)\n",
    "acc, auc, pre, rec, f1 = get_scores(y_valid, y_pred)\n",
    "print(f\"Fold {fold}\\n\")\n",
    "print_scores(acc, auc, pre, rec, f1)\n",
    "print(\"\")\n",
    "print(confusion_matrix(y_valid, y_pred))\n",
    "breaker()\n",
    "\n",
    "with open(os.path.join(cfg.model_save_path, f\"best_model.pkl\"), \"wb\") as fp: pickle.dump(my_pipeline.model, fp)"
   ]
  }
 ],
 "metadata": {
  "kernelspec": {
   "display_name": "Python 3",
   "language": "python",
   "name": "python3"
  },
  "language_info": {
   "codemirror_mode": {
    "name": "ipython",
    "version": 3
   },
   "file_extension": ".py",
   "mimetype": "text/x-python",
   "name": "python",
   "nbconvert_exporter": "python",
   "pygments_lexer": "ipython3",
   "version": "3.7.12"
  },
  "papermill": {
   "default_parameters": {},
   "duration": 463.470058,
   "end_time": "2022-04-28T10:26:24.774006",
   "environment_variables": {},
   "exception": null,
   "input_path": "__notebook__.ipynb",
   "output_path": "__notebook__.ipynb",
   "parameters": {},
   "start_time": "2022-04-28T10:18:41.303948",
   "version": "2.3.4"
  }
 },
 "nbformat": 4,
 "nbformat_minor": 5
}
