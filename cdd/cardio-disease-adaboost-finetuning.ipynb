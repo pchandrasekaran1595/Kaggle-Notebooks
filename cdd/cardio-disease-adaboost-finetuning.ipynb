{
 "cells": [
  {
   "cell_type": "markdown",
   "id": "b4f3f292",
   "metadata": {
    "_cell_guid": "b1076dfc-b9ad-4769-8c92-a6c4dae69d19",
    "_uuid": "8f2839f25d086af736a60e9eeb907d3b93b6e0e5",
    "execution": {
     "iopub.execute_input": "2022-04-28T09:38:36.395647Z",
     "iopub.status.busy": "2022-04-28T09:38:36.394699Z",
     "iopub.status.idle": "2022-04-28T09:38:38.132719Z",
     "shell.execute_reply": "2022-04-28T09:38:38.131755Z",
     "shell.execute_reply.started": "2022-04-28T09:38:36.395497Z"
    },
    "papermill": {
     "duration": 0.0183,
     "end_time": "2022-05-11T11:37:07.860584",
     "exception": false,
     "start_time": "2022-05-11T11:37:07.842284",
     "status": "completed"
    },
    "tags": []
   },
   "source": [
    "### **Library Imports**"
   ]
  },
  {
   "cell_type": "code",
   "execution_count": 1,
   "id": "3952e85b",
   "metadata": {
    "execution": {
     "iopub.execute_input": "2022-05-11T11:37:07.894539Z",
     "iopub.status.busy": "2022-05-11T11:37:07.894229Z",
     "iopub.status.idle": "2022-05-11T11:37:09.747781Z",
     "shell.execute_reply": "2022-05-11T11:37:09.746043Z"
    },
    "papermill": {
     "duration": 1.87342,
     "end_time": "2022-05-11T11:37:09.750312",
     "exception": false,
     "start_time": "2022-05-11T11:37:07.876892",
     "status": "completed"
    },
    "tags": []
   },
   "outputs": [],
   "source": [
    "import os\n",
    "import pickle\n",
    "import numpy as np\n",
    "import pandas as pd\n",
    "import random as r\n",
    "import seaborn as sns\n",
    "import matplotlib.pyplot as plt\n",
    "\n",
    "from time import time\n",
    "from sklearn.pipeline import Pipeline\n",
    "from sklearn.impute import SimpleImputer\n",
    "from sklearn.compose import ColumnTransformer\n",
    "from sklearn.preprocessing import StandardScaler\n",
    "from sklearn.model_selection import KFold, GridSearchCV\n",
    "from sklearn.ensemble import AdaBoostClassifier\n",
    "from sklearn.metrics import accuracy_score, \\\n",
    "                            roc_auc_score, \\\n",
    "                            precision_recall_fscore_support, \\\n",
    "                            classification_report, \\\n",
    "                            confusion_matrix"
   ]
  },
  {
   "cell_type": "code",
   "execution_count": 2,
   "id": "0ff7a63c",
   "metadata": {
    "execution": {
     "iopub.execute_input": "2022-05-11T11:37:09.775688Z",
     "iopub.status.busy": "2022-05-11T11:37:09.775382Z",
     "iopub.status.idle": "2022-05-11T11:37:09.783076Z",
     "shell.execute_reply": "2022-05-11T11:37:09.782313Z"
    },
    "papermill": {
     "duration": 0.022602,
     "end_time": "2022-05-11T11:37:09.784988",
     "exception": false,
     "start_time": "2022-05-11T11:37:09.762386",
     "status": "completed"
    },
    "tags": []
   },
   "outputs": [],
   "source": [
    "class CFG(object):\n",
    "    def __init__(self,\n",
    "                 seed: int = 42,\n",
    "                 n_splits: int = 5,\n",
    "                 show_info: bool = False,\n",
    "                 ):\n",
    "\n",
    "        self.seed = seed\n",
    "        self.n_splits = n_splits\n",
    "        self.show_info = show_info\n",
    "        self.data_read_path = \"../input/cardiovascular-disease-dataset/cardio_train.csv\"\n",
    "        self.model_save_path = \"models\"\n",
    "        if not os.path.exists(self.model_save_path): os.makedirs(self.model_save_path)\n",
    "\n",
    "cfg = CFG(seed=42, show_info=True)"
   ]
  },
  {
   "cell_type": "markdown",
   "id": "077f9aff",
   "metadata": {
    "papermill": {
     "duration": 0.011362,
     "end_time": "2022-05-11T11:37:09.808553",
     "exception": false,
     "start_time": "2022-05-11T11:37:09.797191",
     "status": "completed"
    },
    "tags": []
   },
   "source": [
    "### **Utilities and Helpers**"
   ]
  },
  {
   "cell_type": "code",
   "execution_count": 3,
   "id": "5b8056c3",
   "metadata": {
    "execution": {
     "iopub.execute_input": "2022-05-11T11:37:09.835466Z",
     "iopub.status.busy": "2022-05-11T11:37:09.834895Z",
     "iopub.status.idle": "2022-05-11T11:37:09.841697Z",
     "shell.execute_reply": "2022-05-11T11:37:09.840953Z"
    },
    "papermill": {
     "duration": 0.022142,
     "end_time": "2022-05-11T11:37:09.843627",
     "exception": false,
     "start_time": "2022-05-11T11:37:09.821485",
     "status": "completed"
    },
    "tags": []
   },
   "outputs": [],
   "source": [
    "def breaker(num: int=50, char: str=\"*\") -> None:\n",
    "    print(\"\\n\" + num*char + \"\\n\")\n",
    "    \n",
    "\n",
    "def print_scores(accuracy: float, auc: float, precision: np.ndarray, recall: np.ndarray, f_score: np.ndarray) -> None:\n",
    "    print(f\"Accuracy  : {accuracy:.5f}\")\n",
    "    print(f\"ROC-AUC   : {auc:.5f}\")\n",
    "    print(f\"Precision : {precision}\")\n",
    "    print(f\"Recall    : {recall}\")\n",
    "    print(f\"F-Score   : {f_score}\")\n",
    "    \n",
    "\n",
    "def get_scores(y_true: np.ndarray, y_pred: np.ndarray) -> tuple:\n",
    "    accuracy = accuracy_score(y_pred, y_true)\n",
    "    auc = roc_auc_score(y_pred, y_true)\n",
    "    precision, recall, f_score, _ = precision_recall_fscore_support(y_pred, y_true)\n",
    "\n",
    "    return accuracy, auc, precision, recall, f_score"
   ]
  },
  {
   "cell_type": "code",
   "execution_count": 4,
   "id": "b7f463e0",
   "metadata": {
    "execution": {
     "iopub.execute_input": "2022-05-11T11:37:09.868803Z",
     "iopub.status.busy": "2022-05-11T11:37:09.868485Z",
     "iopub.status.idle": "2022-05-11T11:37:09.872868Z",
     "shell.execute_reply": "2022-05-11T11:37:09.872091Z"
    },
    "papermill": {
     "duration": 0.019444,
     "end_time": "2022-05-11T11:37:09.874872",
     "exception": false,
     "start_time": "2022-05-11T11:37:09.855428",
     "status": "completed"
    },
    "tags": []
   },
   "outputs": [],
   "source": [
    "class Pipelines(object):\n",
    "    def __init__(self, preprocessor, seed: int):\n",
    "        self.model = Pipeline(\n",
    "            steps=[\n",
    "                (\"preprocessor\", preprocessor),\n",
    "                (\"classifier\", AdaBoostClassifier(random_state=seed)),\n",
    "            ]\n",
    "        )"
   ]
  },
  {
   "cell_type": "markdown",
   "id": "147fb206",
   "metadata": {
    "papermill": {
     "duration": 0.01121,
     "end_time": "2022-05-11T11:37:09.897753",
     "exception": false,
     "start_time": "2022-05-11T11:37:09.886543",
     "status": "completed"
    },
    "tags": []
   },
   "source": [
    "### **Normal**"
   ]
  },
  {
   "cell_type": "code",
   "execution_count": 5,
   "id": "103beef9",
   "metadata": {
    "execution": {
     "iopub.execute_input": "2022-05-11T11:37:09.922775Z",
     "iopub.status.busy": "2022-05-11T11:37:09.922568Z",
     "iopub.status.idle": "2022-05-11T11:37:10.099868Z",
     "shell.execute_reply": "2022-05-11T11:37:10.098598Z"
    },
    "papermill": {
     "duration": 0.192804,
     "end_time": "2022-05-11T11:37:10.102336",
     "exception": false,
     "start_time": "2022-05-11T11:37:09.909532",
     "status": "completed"
    },
    "tags": []
   },
   "outputs": [],
   "source": [
    "df = pd.read_csv(cfg.data_read_path, delimiter=\";\")\n",
    "df = df.drop(columns=[\"id\"])\n",
    "df.age /= 365.25\n",
    "\n",
    "X = df.iloc[:, :-1].copy().values\n",
    "y = df.iloc[:, -1].copy().values\n",
    "\n",
    "features = [i for i in range(X.shape[1])]\n",
    "\n",
    "feature_transformer = Pipeline(\n",
    "    steps=[\n",
    "        (\"Simple_Imputer\", SimpleImputer(missing_values=np.nan, strategy=\"mean\")),\n",
    "        (\"Standard_Scaler\", StandardScaler())\n",
    "    ]\n",
    ")\n",
    "\n",
    "preprocessor = ColumnTransformer(\n",
    "    transformers=[\n",
    "        (\"features\", feature_transformer, features),\n",
    "    ]\n",
    ")"
   ]
  },
  {
   "cell_type": "code",
   "execution_count": 6,
   "id": "509f5d3c",
   "metadata": {
    "execution": {
     "iopub.execute_input": "2022-05-11T11:37:10.126495Z",
     "iopub.status.busy": "2022-05-11T11:37:10.126156Z",
     "iopub.status.idle": "2022-05-11T11:37:22.609314Z",
     "shell.execute_reply": "2022-05-11T11:37:22.608117Z"
    },
    "papermill": {
     "duration": 12.497943,
     "end_time": "2022-05-11T11:37:22.611904",
     "exception": false,
     "start_time": "2022-05-11T11:37:10.113961",
     "status": "completed"
    },
    "tags": []
   },
   "outputs": [
    {
     "name": "stdout",
     "output_type": "stream",
     "text": [
      "\n",
      "**************************************************\n",
      "\n",
      "Fold 1\n",
      "\n",
      "Accuracy  : 0.73536\n",
      "ROC-AUC   : 0.73994\n",
      "Precision : [0.80409273 0.66685682]\n",
      "Recall    : [0.70634821 0.77353184]\n",
      "F-Score   : [0.75205782 0.71624416]\n",
      "\n",
      "[[5619 1369]\n",
      " [2336 4676]]\n",
      "\n",
      "**************************************************\n",
      "\n",
      "Fold 2\n",
      "\n",
      "Accuracy  : 0.73200\n",
      "ROC-AUC   : 0.73642\n",
      "Precision : [0.79890679 0.66600454]\n",
      "Recall    : [0.70232676 0.77051871]\n",
      "F-Score   : [0.74751009 0.71445967]\n",
      "\n",
      "[[5554 1398]\n",
      " [2354 4694]]\n",
      "\n",
      "**************************************************\n",
      "\n",
      "Fold 3\n",
      "\n",
      "Accuracy  : 0.72964\n",
      "ROC-AUC   : 0.73325\n",
      "Precision : [0.7906075  0.66931931]\n",
      "Recall    : [0.7028856  0.76361868]\n",
      "F-Score   : [0.74417033 0.71336615]\n",
      "\n",
      "[[5505 1458]\n",
      " [2327 4710]]\n",
      "\n",
      "**************************************************\n",
      "\n",
      "Fold 4\n",
      "\n",
      "Accuracy  : 0.72693\n",
      "ROC-AUC   : 0.73063\n",
      "Precision : [0.79496908 0.656595  ]\n",
      "Recall    : [0.70527366 0.75597926]\n",
      "F-Score   : [0.74744005 0.70279095]\n",
      "\n",
      "[[5657 1459]\n",
      " [2364 4520]]\n",
      "\n",
      "**************************************************\n",
      "\n",
      "Fold 5\n",
      "\n",
      "Accuracy  : 0.72750\n",
      "ROC-AUC   : 0.73316\n",
      "Precision : [0.80548415 0.64947128]\n",
      "Recall    : [0.69689855 0.7694261 ]\n",
      "F-Score   : [0.74726731 0.70437815]\n",
      "\n",
      "[[5640 1362]\n",
      " [2453 4545]]\n",
      "\n",
      "**************************************************\n",
      "\n",
      "Best ACC Fold : 1\n",
      "Best AUC Fold : 1\n",
      "Best PRE Fold : 3\n",
      "Best REC Fold : 1\n",
      "Best F1 Fold  : 1\n",
      "\n",
      "**************************************************\n",
      "\n"
     ]
    }
   ],
   "source": [
    "best_auc = 0.0\n",
    "best_acc = 0.0\n",
    "best_pre = 0.0\n",
    "best_rec = 0.0\n",
    "best_f1  = 0.0\n",
    "\n",
    "fold = 1\n",
    "\n",
    "breaker()\n",
    "for tr_idx, va_idx in KFold(n_splits=cfg.n_splits, random_state=cfg.seed, shuffle=True).split(X):\n",
    "    X_train, X_valid, y_train, y_valid = X[tr_idx], X[va_idx], y[tr_idx], y[va_idx]\n",
    "    my_pipeline = Pipelines(preprocessor, cfg.seed)\n",
    "    my_pipeline.model.fit(X_train, y_train)\n",
    "\n",
    "    y_pred = my_pipeline.model.predict(X_valid)\n",
    "    acc, auc, pre, rec, f1 = get_scores(y_valid, y_pred)\n",
    "    print(f\"Fold {fold}\\n\")\n",
    "    print_scores(acc, auc, pre, rec, f1)\n",
    "    print(\"\")\n",
    "    print(confusion_matrix(y_valid, y_pred))\n",
    "    breaker()\n",
    "\n",
    "    if acc > best_acc:\n",
    "        best_acc = acc\n",
    "        best_acc_fold = fold\n",
    "    \n",
    "    if auc > best_auc:\n",
    "        best_auc = auc\n",
    "        best_auc_fold = fold\n",
    "\n",
    "    if pre[1] > best_pre:\n",
    "        best_pre = pre[1]\n",
    "        best_pre_fold = fold\n",
    "    \n",
    "    if rec[1] > best_rec:\n",
    "        best_rec = rec[1]\n",
    "        best_rec_fold = fold\n",
    "    \n",
    "    if f1[1] > best_f1:\n",
    "        best_f1 = f1[1]\n",
    "        best_f1_fold = fold\n",
    "    \n",
    "    fold += 1\n",
    "\n",
    "print(f\"Best ACC Fold : {best_acc_fold}\")\n",
    "print(f\"Best AUC Fold : {best_auc_fold}\")\n",
    "print(f\"Best PRE Fold : {best_pre_fold}\")\n",
    "print(f\"Best REC Fold : {best_rec_fold}\")\n",
    "print(f\"Best F1 Fold  : {best_f1_fold}\")\n",
    "\n",
    "breaker()"
   ]
  },
  {
   "cell_type": "markdown",
   "id": "57b924b7",
   "metadata": {
    "papermill": {
     "duration": 0.012703,
     "end_time": "2022-05-11T11:37:22.638331",
     "exception": false,
     "start_time": "2022-05-11T11:37:22.625628",
     "status": "completed"
    },
    "tags": []
   },
   "source": [
    "### **Grid Search**"
   ]
  },
  {
   "cell_type": "code",
   "execution_count": 7,
   "id": "7fe84861",
   "metadata": {
    "execution": {
     "iopub.execute_input": "2022-05-11T11:37:22.666215Z",
     "iopub.status.busy": "2022-05-11T11:37:22.665765Z",
     "iopub.status.idle": "2022-05-11T11:46:45.200599Z",
     "shell.execute_reply": "2022-05-11T11:46:45.199015Z"
    },
    "papermill": {
     "duration": 562.55127,
     "end_time": "2022-05-11T11:46:45.202862",
     "exception": false,
     "start_time": "2022-05-11T11:37:22.651592",
     "status": "completed"
    },
    "tags": []
   },
   "outputs": [
    {
     "name": "stdout",
     "output_type": "stream",
     "text": [
      "\n",
      "**************************************************\n",
      "\n",
      "Fitting 5 folds for each of 16 candidates, totalling 80 fits\n",
      "[CV 1/5] END learning_rate=1, n_estimators=50;, score=(train=0.732, test=0.728) total time=   2.5s\n",
      "[CV 2/5] END learning_rate=1, n_estimators=50;, score=(train=0.731, test=0.734) total time=   2.5s\n",
      "[CV 3/5] END learning_rate=1, n_estimators=50;, score=(train=0.732, test=0.733) total time=   2.5s\n",
      "[CV 4/5] END learning_rate=1, n_estimators=50;, score=(train=0.733, test=0.730) total time=   2.5s\n",
      "[CV 5/5] END learning_rate=1, n_estimators=50;, score=(train=0.731, test=0.726) total time=   2.5s\n",
      "[CV 1/5] END learning_rate=1, n_estimators=100;, score=(train=0.732, test=0.729) total time=   4.8s\n",
      "[CV 2/5] END learning_rate=1, n_estimators=100;, score=(train=0.731, test=0.736) total time=   3.9s\n",
      "[CV 3/5] END learning_rate=1, n_estimators=100;, score=(train=0.732, test=0.732) total time=   3.9s\n",
      "[CV 4/5] END learning_rate=1, n_estimators=100;, score=(train=0.733, test=0.730) total time=   3.8s\n",
      "[CV 5/5] END learning_rate=1, n_estimators=100;, score=(train=0.733, test=0.728) total time=   3.8s\n",
      "[CV 1/5] END learning_rate=1, n_estimators=150;, score=(train=0.733, test=0.730) total time=   6.3s\n",
      "[CV 2/5] END learning_rate=1, n_estimators=150;, score=(train=0.731, test=0.736) total time=   7.5s\n",
      "[CV 3/5] END learning_rate=1, n_estimators=150;, score=(train=0.733, test=0.732) total time=   7.5s\n",
      "[CV 4/5] END learning_rate=1, n_estimators=150;, score=(train=0.733, test=0.730) total time=   7.5s\n",
      "[CV 5/5] END learning_rate=1, n_estimators=150;, score=(train=0.733, test=0.728) total time=   7.4s\n",
      "[CV 1/5] END learning_rate=1, n_estimators=200;, score=(train=0.733, test=0.729) total time=  10.0s\n",
      "[CV 2/5] END learning_rate=1, n_estimators=200;, score=(train=0.731, test=0.736) total time=  10.0s\n",
      "[CV 3/5] END learning_rate=1, n_estimators=200;, score=(train=0.733, test=0.732) total time=   9.9s\n",
      "[CV 4/5] END learning_rate=1, n_estimators=200;, score=(train=0.733, test=0.730) total time=  10.0s\n",
      "[CV 5/5] END learning_rate=1, n_estimators=200;, score=(train=0.734, test=0.728) total time=  10.0s\n",
      "[CV 1/5] END learning_rate=0.1, n_estimators=50;, score=(train=0.722, test=0.721) total time=   2.5s\n",
      "[CV 2/5] END learning_rate=0.1, n_estimators=50;, score=(train=0.719, test=0.723) total time=   2.5s\n",
      "[CV 3/5] END learning_rate=0.1, n_estimators=50;, score=(train=0.720, test=0.725) total time=   2.5s\n",
      "[CV 4/5] END learning_rate=0.1, n_estimators=50;, score=(train=0.721, test=0.717) total time=   2.5s\n",
      "[CV 5/5] END learning_rate=0.1, n_estimators=50;, score=(train=0.724, test=0.719) total time=   2.5s\n",
      "[CV 1/5] END learning_rate=0.1, n_estimators=100;, score=(train=0.726, test=0.727) total time=   5.1s\n",
      "[CV 2/5] END learning_rate=0.1, n_estimators=100;, score=(train=0.725, test=0.727) total time=   5.1s\n",
      "[CV 3/5] END learning_rate=0.1, n_estimators=100;, score=(train=0.726, test=0.728) total time=   5.0s\n",
      "[CV 4/5] END learning_rate=0.1, n_estimators=100;, score=(train=0.726, test=0.721) total time=   5.0s\n",
      "[CV 5/5] END learning_rate=0.1, n_estimators=100;, score=(train=0.726, test=0.722) total time=   5.0s\n",
      "[CV 1/5] END learning_rate=0.1, n_estimators=150;, score=(train=0.728, test=0.728) total time=   7.5s\n",
      "[CV 2/5] END learning_rate=0.1, n_estimators=150;, score=(train=0.726, test=0.730) total time=   7.5s\n",
      "[CV 3/5] END learning_rate=0.1, n_estimators=150;, score=(train=0.727, test=0.729) total time=   7.5s\n",
      "[CV 4/5] END learning_rate=0.1, n_estimators=150;, score=(train=0.727, test=0.724) total time=   7.5s\n",
      "[CV 5/5] END learning_rate=0.1, n_estimators=150;, score=(train=0.728, test=0.724) total time=   7.5s\n",
      "[CV 1/5] END learning_rate=0.1, n_estimators=200;, score=(train=0.729, test=0.730) total time=   9.9s\n",
      "[CV 2/5] END learning_rate=0.1, n_estimators=200;, score=(train=0.727, test=0.731) total time=   9.9s\n",
      "[CV 3/5] END learning_rate=0.1, n_estimators=200;, score=(train=0.729, test=0.730) total time=  10.0s\n",
      "[CV 4/5] END learning_rate=0.1, n_estimators=200;, score=(train=0.729, test=0.725) total time=  10.1s\n",
      "[CV 5/5] END learning_rate=0.1, n_estimators=200;, score=(train=0.730, test=0.725) total time=  10.1s\n",
      "[CV 1/5] END learning_rate=0.01, n_estimators=50;, score=(train=0.714, test=0.713) total time=   2.5s\n",
      "[CV 2/5] END learning_rate=0.01, n_estimators=50;, score=(train=0.713, test=0.716) total time=   2.5s\n",
      "[CV 3/5] END learning_rate=0.01, n_estimators=50;, score=(train=0.713, test=0.719) total time=   2.5s\n",
      "[CV 4/5] END learning_rate=0.01, n_estimators=50;, score=(train=0.714, test=0.712) total time=   2.6s\n",
      "[CV 5/5] END learning_rate=0.01, n_estimators=50;, score=(train=0.715, test=0.709) total time=   2.6s\n",
      "[CV 1/5] END learning_rate=0.01, n_estimators=100;, score=(train=0.714, test=0.713) total time=   5.2s\n",
      "[CV 2/5] END learning_rate=0.01, n_estimators=100;, score=(train=0.713, test=0.716) total time=   5.1s\n",
      "[CV 3/5] END learning_rate=0.01, n_estimators=100;, score=(train=0.713, test=0.719) total time=   5.1s\n",
      "[CV 4/5] END learning_rate=0.01, n_estimators=100;, score=(train=0.714, test=0.712) total time=   5.0s\n",
      "[CV 5/5] END learning_rate=0.01, n_estimators=100;, score=(train=0.715, test=0.709) total time=   5.1s\n",
      "[CV 1/5] END learning_rate=0.01, n_estimators=150;, score=(train=0.714, test=0.713) total time=   7.6s\n",
      "[CV 2/5] END learning_rate=0.01, n_estimators=150;, score=(train=0.713, test=0.716) total time=   7.6s\n",
      "[CV 3/5] END learning_rate=0.01, n_estimators=150;, score=(train=0.713, test=0.719) total time=   7.6s\n",
      "[CV 4/5] END learning_rate=0.01, n_estimators=150;, score=(train=0.714, test=0.712) total time=   7.6s\n",
      "[CV 5/5] END learning_rate=0.01, n_estimators=150;, score=(train=0.715, test=0.709) total time=   7.5s\n",
      "[CV 1/5] END learning_rate=0.01, n_estimators=200;, score=(train=0.714, test=0.713) total time=  10.1s\n",
      "[CV 2/5] END learning_rate=0.01, n_estimators=200;, score=(train=0.713, test=0.716) total time=  10.2s\n",
      "[CV 3/5] END learning_rate=0.01, n_estimators=200;, score=(train=0.713, test=0.719) total time=   9.1s\n",
      "[CV 4/5] END learning_rate=0.01, n_estimators=200;, score=(train=0.714, test=0.712) total time=   7.9s\n",
      "[CV 5/5] END learning_rate=0.01, n_estimators=200;, score=(train=0.715, test=0.709) total time=   7.8s\n",
      "[CV 1/5] END learning_rate=0.001, n_estimators=50;, score=(train=0.714, test=0.713) total time=   1.9s\n",
      "[CV 2/5] END learning_rate=0.001, n_estimators=50;, score=(train=0.713, test=0.716) total time=   2.0s\n",
      "[CV 3/5] END learning_rate=0.001, n_estimators=50;, score=(train=0.713, test=0.719) total time=   2.0s\n",
      "[CV 4/5] END learning_rate=0.001, n_estimators=50;, score=(train=0.714, test=0.712) total time=   2.0s\n",
      "[CV 5/5] END learning_rate=0.001, n_estimators=50;, score=(train=0.715, test=0.709) total time=   2.0s\n",
      "[CV 1/5] END learning_rate=0.001, n_estimators=100;, score=(train=0.714, test=0.713) total time=   3.9s\n",
      "[CV 2/5] END learning_rate=0.001, n_estimators=100;, score=(train=0.713, test=0.716) total time=   4.0s\n",
      "[CV 3/5] END learning_rate=0.001, n_estimators=100;, score=(train=0.713, test=0.719) total time=   4.0s\n",
      "[CV 4/5] END learning_rate=0.001, n_estimators=100;, score=(train=0.714, test=0.712) total time=   4.0s\n",
      "[CV 5/5] END learning_rate=0.001, n_estimators=100;, score=(train=0.715, test=0.709) total time=   4.0s\n",
      "[CV 1/5] END learning_rate=0.001, n_estimators=150;, score=(train=0.714, test=0.713) total time=   6.0s\n",
      "[CV 2/5] END learning_rate=0.001, n_estimators=150;, score=(train=0.713, test=0.716) total time=   6.1s\n",
      "[CV 3/5] END learning_rate=0.001, n_estimators=150;, score=(train=0.713, test=0.719) total time=   5.9s\n",
      "[CV 4/5] END learning_rate=0.001, n_estimators=150;, score=(train=0.714, test=0.712) total time=   5.9s\n",
      "[CV 5/5] END learning_rate=0.001, n_estimators=150;, score=(train=0.715, test=0.709) total time=   5.9s\n",
      "[CV 1/5] END learning_rate=0.001, n_estimators=200;, score=(train=0.714, test=0.713) total time=   7.9s\n",
      "[CV 2/5] END learning_rate=0.001, n_estimators=200;, score=(train=0.713, test=0.716) total time=   7.9s\n",
      "[CV 3/5] END learning_rate=0.001, n_estimators=200;, score=(train=0.713, test=0.719) total time=   7.9s\n",
      "[CV 4/5] END learning_rate=0.001, n_estimators=200;, score=(train=0.714, test=0.712) total time=   7.9s\n",
      "[CV 5/5] END learning_rate=0.001, n_estimators=200;, score=(train=0.715, test=0.709) total time=   7.9s\n",
      "\n",
      "**************************************************\n",
      "\n"
     ]
    }
   ],
   "source": [
    "param_grid = {\n",
    "    \"n_estimators\" : (50, 100, 150, 200),\n",
    "    \"learning_rate\" : (1, 1e-1, 1e-2, 1e-3),\n",
    "}\n",
    "\n",
    "sc_X = StandardScaler()\n",
    "si_mean = SimpleImputer(missing_values=np.nan, strategy=\"mean\")\n",
    "\n",
    "X = si_mean.fit_transform(X)\n",
    "X = sc_X.fit_transform(X)\n",
    "\n",
    "breaker()\n",
    "gscv_model = GridSearchCV(\n",
    "    estimator=AdaBoostClassifier(random_state=cfg.seed),\n",
    "    param_grid=param_grid,\n",
    "    cv=cfg.n_splits,\n",
    "    verbose=3,\n",
    "    return_train_score=True,\n",
    "    ).fit(X, y)\n",
    "breaker()"
   ]
  },
  {
   "cell_type": "code",
   "execution_count": 8,
   "id": "5aa8d352",
   "metadata": {
    "execution": {
     "iopub.execute_input": "2022-05-11T11:46:45.281853Z",
     "iopub.status.busy": "2022-05-11T11:46:45.281528Z",
     "iopub.status.idle": "2022-05-11T11:46:45.290655Z",
     "shell.execute_reply": "2022-05-11T11:46:45.289830Z"
    },
    "papermill": {
     "duration": 0.050509,
     "end_time": "2022-05-11T11:46:45.292147",
     "exception": false,
     "start_time": "2022-05-11T11:46:45.241638",
     "status": "completed"
    },
    "tags": []
   },
   "outputs": [
    {
     "name": "stdout",
     "output_type": "stream",
     "text": [
      "\n",
      "**************************************************\n",
      "\n",
      "Best Estimator : AdaBoostClassifier(learning_rate=1, n_estimators=150, random_state=42)\n",
      "Best Score     : 0.7313428571428572\n",
      "Best Fold      : 2\n",
      "\n",
      "**************************************************\n",
      "\n",
      "Best Parameters\n",
      "\n",
      "learning_rate  : 1\n",
      "n_estimators   : 150\n",
      "\n",
      "**************************************************\n",
      "\n"
     ]
    }
   ],
   "source": [
    "breaker()\n",
    "print(f\"Best Estimator : {gscv_model.best_estimator_}\")\n",
    "print(f\"Best Score     : {gscv_model.best_score_}\")\n",
    "print(f\"Best Fold      : {gscv_model.best_index_}\")\n",
    "breaker()\n",
    "print(\"Best Parameters\\n\")\n",
    "for k, v in gscv_model.best_params_.items():\n",
    "    # Left Justify the text making it 14 characte3rs long\n",
    "    print(f\"{k:<14} : {v}\")\n",
    "breaker()"
   ]
  },
  {
   "cell_type": "markdown",
   "id": "09d6c41e",
   "metadata": {
    "papermill": {
     "duration": 0.038041,
     "end_time": "2022-05-11T11:46:45.369284",
     "exception": false,
     "start_time": "2022-05-11T11:46:45.331243",
     "status": "completed"
    },
    "tags": []
   },
   "source": [
    "### **Best Grid Seached Model**"
   ]
  },
  {
   "cell_type": "code",
   "execution_count": 9,
   "id": "41825c92",
   "metadata": {
    "execution": {
     "iopub.execute_input": "2022-05-11T11:46:45.448315Z",
     "iopub.status.busy": "2022-05-11T11:46:45.447567Z",
     "iopub.status.idle": "2022-05-11T11:46:52.183194Z",
     "shell.execute_reply": "2022-05-11T11:46:52.181764Z"
    },
    "papermill": {
     "duration": 6.777319,
     "end_time": "2022-05-11T11:46:52.185471",
     "exception": false,
     "start_time": "2022-05-11T11:46:45.408152",
     "status": "completed"
    },
    "tags": []
   },
   "outputs": [],
   "source": [
    "df = pd.read_csv(cfg.data_read_path, delimiter=\";\")\n",
    "df = df.drop(columns=[\"id\"])\n",
    "df.age /= 365.25\n",
    "\n",
    "X = df.iloc[:, :-1].copy().values\n",
    "y = df.iloc[:, -1].copy().values\n",
    "\n",
    "features = [i for i in range(X.shape[1])]\n",
    "\n",
    "feature_transformer = Pipeline(\n",
    "    steps=[\n",
    "        (\"Simple_Imputer\", SimpleImputer(missing_values=np.nan, strategy=\"mean\")),\n",
    "        (\"Standard_Scaler\", StandardScaler())\n",
    "    ]\n",
    ")\n",
    "\n",
    "preprocessor = ColumnTransformer(\n",
    "    transformers=[\n",
    "        (\"features\", feature_transformer, features),\n",
    "    ]\n",
    ")\n",
    "\n",
    "model = Pipeline(\n",
    "    steps=[\n",
    "        (\"preprocessor\", preprocessor),\n",
    "        (\"classifier\", AdaBoostClassifier(random_state=cfg.seed, n_estimators=150, learning_rate=1)),\n",
    "    ]\n",
    ")\n",
    "model.fit(X, y)\n",
    "\n",
    "with open(os.path.join(cfg.model_save_path, f\"best_model.pkl\"), \"wb\") as fp: pickle.dump(model, fp)"
   ]
  }
 ],
 "metadata": {
  "kernelspec": {
   "display_name": "Python 3",
   "language": "python",
   "name": "python3"
  },
  "language_info": {
   "codemirror_mode": {
    "name": "ipython",
    "version": 3
   },
   "file_extension": ".py",
   "mimetype": "text/x-python",
   "name": "python",
   "nbconvert_exporter": "python",
   "pygments_lexer": "ipython3",
   "version": "3.7.12"
  },
  "papermill": {
   "default_parameters": {},
   "duration": 596.854619,
   "end_time": "2022-05-11T11:46:53.146716",
   "environment_variables": {},
   "exception": null,
   "input_path": "__notebook__.ipynb",
   "output_path": "__notebook__.ipynb",
   "parameters": {},
   "start_time": "2022-05-11T11:36:56.292097",
   "version": "2.3.4"
  }
 },
 "nbformat": 4,
 "nbformat_minor": 5
}
