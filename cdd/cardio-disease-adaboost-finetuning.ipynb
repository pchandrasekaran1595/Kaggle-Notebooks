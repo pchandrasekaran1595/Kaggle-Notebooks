{
 "cells": [
  {
   "cell_type": "markdown",
   "id": "31e7c8f7",
   "metadata": {
    "_cell_guid": "b1076dfc-b9ad-4769-8c92-a6c4dae69d19",
    "_uuid": "8f2839f25d086af736a60e9eeb907d3b93b6e0e5",
    "execution": {
     "iopub.execute_input": "2022-04-28T09:38:36.395647Z",
     "iopub.status.busy": "2022-04-28T09:38:36.394699Z",
     "iopub.status.idle": "2022-04-28T09:38:38.132719Z",
     "shell.execute_reply": "2022-04-28T09:38:38.131755Z",
     "shell.execute_reply.started": "2022-04-28T09:38:36.395497Z"
    },
    "papermill": {
     "duration": 0.011517,
     "end_time": "2022-04-28T10:42:52.695803",
     "exception": false,
     "start_time": "2022-04-28T10:42:52.684286",
     "status": "completed"
    },
    "tags": []
   },
   "source": [
    "### **Library Imports**"
   ]
  },
  {
   "cell_type": "code",
   "execution_count": 1,
   "id": "868494e7",
   "metadata": {
    "execution": {
     "iopub.execute_input": "2022-04-28T10:42:52.718840Z",
     "iopub.status.busy": "2022-04-28T10:42:52.718108Z",
     "iopub.status.idle": "2022-04-28T10:42:54.162030Z",
     "shell.execute_reply": "2022-04-28T10:42:54.160949Z"
    },
    "papermill": {
     "duration": 1.45856,
     "end_time": "2022-04-28T10:42:54.164842",
     "exception": false,
     "start_time": "2022-04-28T10:42:52.706282",
     "status": "completed"
    },
    "tags": []
   },
   "outputs": [],
   "source": [
    "import os\n",
    "import pickle\n",
    "import numpy as np\n",
    "import pandas as pd\n",
    "import random as r\n",
    "import seaborn as sns\n",
    "import matplotlib.pyplot as plt\n",
    "\n",
    "from time import time\n",
    "from sklearn.pipeline import Pipeline\n",
    "from sklearn.impute import SimpleImputer\n",
    "from sklearn.compose import ColumnTransformer\n",
    "from sklearn.preprocessing import StandardScaler\n",
    "from sklearn.model_selection import KFold, GridSearchCV\n",
    "from sklearn.ensemble import AdaBoostClassifier\n",
    "from sklearn.metrics import accuracy_score, \\\n",
    "                            roc_auc_score, \\\n",
    "                            precision_recall_fscore_support, \\\n",
    "                            classification_report, \\\n",
    "                            confusion_matrix"
   ]
  },
  {
   "cell_type": "code",
   "execution_count": 2,
   "id": "3b909d39",
   "metadata": {
    "execution": {
     "iopub.execute_input": "2022-04-28T10:42:54.186439Z",
     "iopub.status.busy": "2022-04-28T10:42:54.186163Z",
     "iopub.status.idle": "2022-04-28T10:42:54.191980Z",
     "shell.execute_reply": "2022-04-28T10:42:54.191412Z"
    },
    "papermill": {
     "duration": 0.018587,
     "end_time": "2022-04-28T10:42:54.193710",
     "exception": false,
     "start_time": "2022-04-28T10:42:54.175123",
     "status": "completed"
    },
    "tags": []
   },
   "outputs": [],
   "source": [
    "class CFG(object):\n",
    "    def __init__(self,\n",
    "                 seed: int = 42,\n",
    "                 n_splits: int = 5,\n",
    "                 show_info: bool = False,\n",
    "                 ):\n",
    "\n",
    "        self.seed = seed\n",
    "        self.n_splits = n_splits\n",
    "        self.show_info = show_info\n",
    "        self.data_read_path = \"../input/cardiovascular-disease-dataset/cardio_train.csv\"\n",
    "        self.model_save_path = \"models\"\n",
    "        if not os.path.exists(self.model_save_path): os.makedirs(self.model_save_path)\n",
    "\n",
    "cfg = CFG(seed=42, show_info=True)"
   ]
  },
  {
   "cell_type": "markdown",
   "id": "726f2d2e",
   "metadata": {
    "papermill": {
     "duration": 0.009742,
     "end_time": "2022-04-28T10:42:54.213420",
     "exception": false,
     "start_time": "2022-04-28T10:42:54.203678",
     "status": "completed"
    },
    "tags": []
   },
   "source": [
    "### **Utilities and Helpers**"
   ]
  },
  {
   "cell_type": "code",
   "execution_count": 3,
   "id": "0b96295c",
   "metadata": {
    "execution": {
     "iopub.execute_input": "2022-04-28T10:42:54.235330Z",
     "iopub.status.busy": "2022-04-28T10:42:54.235025Z",
     "iopub.status.idle": "2022-04-28T10:42:54.241476Z",
     "shell.execute_reply": "2022-04-28T10:42:54.240662Z"
    },
    "papermill": {
     "duration": 0.019942,
     "end_time": "2022-04-28T10:42:54.243311",
     "exception": false,
     "start_time": "2022-04-28T10:42:54.223369",
     "status": "completed"
    },
    "tags": []
   },
   "outputs": [],
   "source": [
    "def breaker(num: int=50, char: str=\"*\") -> None:\n",
    "    print(\"\\n\" + num*char + \"\\n\")\n",
    "    \n",
    "\n",
    "def print_scores(accuracy: float, auc: float, precision: np.ndarray, recall: np.ndarray, f_score: np.ndarray) -> None:\n",
    "    print(f\"Accuracy  : {accuracy:.5f}\")\n",
    "    print(f\"ROC-AUC   : {auc:.5f}\")\n",
    "    print(f\"Precision : {precision}\")\n",
    "    print(f\"Recall    : {recall}\")\n",
    "    print(f\"F-Score   : {f_score}\")\n",
    "    \n",
    "\n",
    "def get_scores(y_true: np.ndarray, y_pred: np.ndarray) -> tuple:\n",
    "    accuracy = accuracy_score(y_pred, y_true)\n",
    "    auc = roc_auc_score(y_pred, y_true)\n",
    "    precision, recall, f_score, _ = precision_recall_fscore_support(y_pred, y_true)\n",
    "\n",
    "    return accuracy, auc, precision, recall, f_score"
   ]
  },
  {
   "cell_type": "code",
   "execution_count": 4,
   "id": "e5d47370",
   "metadata": {
    "execution": {
     "iopub.execute_input": "2022-04-28T10:42:54.264510Z",
     "iopub.status.busy": "2022-04-28T10:42:54.264222Z",
     "iopub.status.idle": "2022-04-28T10:42:54.268932Z",
     "shell.execute_reply": "2022-04-28T10:42:54.267966Z"
    },
    "papermill": {
     "duration": 0.017517,
     "end_time": "2022-04-28T10:42:54.270745",
     "exception": false,
     "start_time": "2022-04-28T10:42:54.253228",
     "status": "completed"
    },
    "tags": []
   },
   "outputs": [],
   "source": [
    "class Pipelines(object):\n",
    "    def __init__(self, preprocessor, seed: int):\n",
    "        self.model = Pipeline(\n",
    "            steps=[\n",
    "                (\"preprocessor\", preprocessor),\n",
    "                (\"classifier\", AdaBoostClassifier(random_state=seed)),\n",
    "            ]\n",
    "        )"
   ]
  },
  {
   "cell_type": "markdown",
   "id": "88e4a7e0",
   "metadata": {
    "papermill": {
     "duration": 0.01404,
     "end_time": "2022-04-28T10:42:54.295000",
     "exception": false,
     "start_time": "2022-04-28T10:42:54.280960",
     "status": "completed"
    },
    "tags": []
   },
   "source": [
    "### **Normal**"
   ]
  },
  {
   "cell_type": "code",
   "execution_count": 5,
   "id": "0f1d24ac",
   "metadata": {
    "execution": {
     "iopub.execute_input": "2022-04-28T10:42:54.318870Z",
     "iopub.status.busy": "2022-04-28T10:42:54.318592Z",
     "iopub.status.idle": "2022-04-28T10:42:54.497808Z",
     "shell.execute_reply": "2022-04-28T10:42:54.497042Z"
    },
    "papermill": {
     "duration": 0.19293,
     "end_time": "2022-04-28T10:42:54.500029",
     "exception": false,
     "start_time": "2022-04-28T10:42:54.307099",
     "status": "completed"
    },
    "tags": []
   },
   "outputs": [],
   "source": [
    "df = pd.read_csv(cfg.data_read_path, delimiter=\";\")\n",
    "df = df.drop(columns=[\"id\"])\n",
    "df.age /= 365.25\n",
    "\n",
    "X = df.iloc[:, :-1].copy().values\n",
    "y = df.iloc[:, -1].copy().values\n",
    "\n",
    "features = [i for i in range(X.shape[1])]\n",
    "\n",
    "feature_transformer = Pipeline(\n",
    "    steps=[\n",
    "        (\"Simple_Imputer\", SimpleImputer(missing_values=np.nan, strategy=\"mean\")),\n",
    "        (\"Standard_Scaler\", StandardScaler())\n",
    "    ]\n",
    ")\n",
    "\n",
    "preprocessor = ColumnTransformer(\n",
    "    transformers=[\n",
    "        (\"features\", feature_transformer, features),\n",
    "    ]\n",
    ")"
   ]
  },
  {
   "cell_type": "code",
   "execution_count": 6,
   "id": "2346ec90",
   "metadata": {
    "execution": {
     "iopub.execute_input": "2022-04-28T10:42:54.521639Z",
     "iopub.status.busy": "2022-04-28T10:42:54.521386Z",
     "iopub.status.idle": "2022-04-28T10:43:02.807207Z",
     "shell.execute_reply": "2022-04-28T10:43:02.806334Z"
    },
    "papermill": {
     "duration": 8.299277,
     "end_time": "2022-04-28T10:43:02.809560",
     "exception": false,
     "start_time": "2022-04-28T10:42:54.510283",
     "status": "completed"
    },
    "tags": []
   },
   "outputs": [
    {
     "name": "stdout",
     "output_type": "stream",
     "text": [
      "\n",
      "**************************************************\n",
      "\n",
      "Fold 1\n",
      "\n",
      "Accuracy  : 0.73536\n",
      "ROC-AUC   : 0.73994\n",
      "Precision : [0.80409273 0.66685682]\n",
      "Recall    : [0.70634821 0.77353184]\n",
      "F-Score   : [0.75205782 0.71624416]\n",
      "\n",
      "[[5619 1369]\n",
      " [2336 4676]]\n",
      "\n",
      "**************************************************\n",
      "\n",
      "Fold 2\n",
      "\n",
      "Accuracy  : 0.73200\n",
      "ROC-AUC   : 0.73642\n",
      "Precision : [0.79890679 0.66600454]\n",
      "Recall    : [0.70232676 0.77051871]\n",
      "F-Score   : [0.74751009 0.71445967]\n",
      "\n",
      "[[5554 1398]\n",
      " [2354 4694]]\n",
      "\n",
      "**************************************************\n",
      "\n",
      "Fold 3\n",
      "\n",
      "Accuracy  : 0.72964\n",
      "ROC-AUC   : 0.73325\n",
      "Precision : [0.7906075  0.66931931]\n",
      "Recall    : [0.7028856  0.76361868]\n",
      "F-Score   : [0.74417033 0.71336615]\n",
      "\n",
      "[[5505 1458]\n",
      " [2327 4710]]\n",
      "\n",
      "**************************************************\n",
      "\n",
      "Fold 4\n",
      "\n",
      "Accuracy  : 0.72693\n",
      "ROC-AUC   : 0.73063\n",
      "Precision : [0.79496908 0.656595  ]\n",
      "Recall    : [0.70527366 0.75597926]\n",
      "F-Score   : [0.74744005 0.70279095]\n",
      "\n",
      "[[5657 1459]\n",
      " [2364 4520]]\n",
      "\n",
      "**************************************************\n",
      "\n",
      "Fold 5\n",
      "\n",
      "Accuracy  : 0.72750\n",
      "ROC-AUC   : 0.73316\n",
      "Precision : [0.80548415 0.64947128]\n",
      "Recall    : [0.69689855 0.7694261 ]\n",
      "F-Score   : [0.74726731 0.70437815]\n",
      "\n",
      "[[5640 1362]\n",
      " [2453 4545]]\n",
      "\n",
      "**************************************************\n",
      "\n",
      "Best ACC Fold : 1\n",
      "Best AUC Fold : 1\n",
      "Best PRE Fold : 3\n",
      "Best REC Fold : 1\n",
      "Best F1 Fold  : 1\n",
      "\n",
      "**************************************************\n",
      "\n"
     ]
    }
   ],
   "source": [
    "best_auc = 0.0\n",
    "best_acc = 0.0\n",
    "best_pre = 0.0\n",
    "best_rec = 0.0\n",
    "best_f1  = 0.0\n",
    "\n",
    "fold = 1\n",
    "\n",
    "breaker()\n",
    "for tr_idx, va_idx in KFold(n_splits=cfg.n_splits, random_state=cfg.seed, shuffle=True).split(X):\n",
    "    X_train, X_valid, y_train, y_valid = X[tr_idx], X[va_idx], y[tr_idx], y[va_idx]\n",
    "    my_pipeline = Pipelines(preprocessor, cfg.seed)\n",
    "    my_pipeline.model.fit(X_train, y_train)\n",
    "\n",
    "    y_pred = my_pipeline.model.predict(X_valid)\n",
    "    acc, auc, pre, rec, f1 = get_scores(y_valid, y_pred)\n",
    "    print(f\"Fold {fold}\\n\")\n",
    "    print_scores(acc, auc, pre, rec, f1)\n",
    "    print(\"\")\n",
    "    print(confusion_matrix(y_valid, y_pred))\n",
    "    breaker()\n",
    "\n",
    "    if acc > best_acc:\n",
    "        best_acc = acc\n",
    "        best_acc_fold = fold\n",
    "    \n",
    "    if auc > best_auc:\n",
    "        best_auc = auc\n",
    "        best_auc_fold = fold\n",
    "\n",
    "    if pre[1] > best_pre:\n",
    "        best_pre = pre[1]\n",
    "        best_pre_fold = fold\n",
    "    \n",
    "    if rec[1] > best_rec:\n",
    "        best_rec = rec[1]\n",
    "        best_rec_fold = fold\n",
    "    \n",
    "    if f1[1] > best_f1:\n",
    "        best_f1 = f1[1]\n",
    "        best_f1_fold = fold\n",
    "    \n",
    "    fold += 1\n",
    "\n",
    "print(f\"Best ACC Fold : {best_acc_fold}\")\n",
    "print(f\"Best AUC Fold : {best_auc_fold}\")\n",
    "print(f\"Best PRE Fold : {best_pre_fold}\")\n",
    "print(f\"Best REC Fold : {best_rec_fold}\")\n",
    "print(f\"Best F1 Fold  : {best_f1_fold}\")\n",
    "\n",
    "breaker()"
   ]
  },
  {
   "cell_type": "markdown",
   "id": "35122aa2",
   "metadata": {
    "papermill": {
     "duration": 0.011747,
     "end_time": "2022-04-28T10:43:02.833710",
     "exception": false,
     "start_time": "2022-04-28T10:43:02.821963",
     "status": "completed"
    },
    "tags": []
   },
   "source": [
    "### **Grid Search**"
   ]
  },
  {
   "cell_type": "code",
   "execution_count": 7,
   "id": "2357ed2b",
   "metadata": {
    "execution": {
     "iopub.execute_input": "2022-04-28T10:43:02.859613Z",
     "iopub.status.busy": "2022-04-28T10:43:02.858997Z",
     "iopub.status.idle": "2022-04-28T10:49:59.287195Z",
     "shell.execute_reply": "2022-04-28T10:49:59.286029Z"
    },
    "papermill": {
     "duration": 416.444278,
     "end_time": "2022-04-28T10:49:59.290059",
     "exception": false,
     "start_time": "2022-04-28T10:43:02.845781",
     "status": "completed"
    },
    "tags": []
   },
   "outputs": [
    {
     "name": "stdout",
     "output_type": "stream",
     "text": [
      "\n",
      "**************************************************\n",
      "\n",
      "Fitting 5 folds for each of 16 candidates, totalling 80 fits\n",
      "[CV 1/5] END learning_rate=1, n_estimators=50;, score=(train=0.732, test=0.728) total time=   1.8s\n",
      "[CV 2/5] END learning_rate=1, n_estimators=50;, score=(train=0.731, test=0.734) total time=   1.8s\n",
      "[CV 3/5] END learning_rate=1, n_estimators=50;, score=(train=0.732, test=0.733) total time=   1.7s\n",
      "[CV 4/5] END learning_rate=1, n_estimators=50;, score=(train=0.733, test=0.730) total time=   1.7s\n",
      "[CV 5/5] END learning_rate=1, n_estimators=50;, score=(train=0.731, test=0.726) total time=   1.7s\n",
      "[CV 1/5] END learning_rate=1, n_estimators=100;, score=(train=0.732, test=0.729) total time=   3.4s\n",
      "[CV 2/5] END learning_rate=1, n_estimators=100;, score=(train=0.731, test=0.736) total time=   3.5s\n",
      "[CV 3/5] END learning_rate=1, n_estimators=100;, score=(train=0.732, test=0.732) total time=   3.4s\n",
      "[CV 4/5] END learning_rate=1, n_estimators=100;, score=(train=0.733, test=0.730) total time=   3.4s\n",
      "[CV 5/5] END learning_rate=1, n_estimators=100;, score=(train=0.733, test=0.728) total time=   3.4s\n",
      "[CV 1/5] END learning_rate=1, n_estimators=150;, score=(train=0.733, test=0.730) total time=   5.2s\n",
      "[CV 2/5] END learning_rate=1, n_estimators=150;, score=(train=0.731, test=0.736) total time=   5.1s\n",
      "[CV 3/5] END learning_rate=1, n_estimators=150;, score=(train=0.733, test=0.732) total time=   5.1s\n",
      "[CV 4/5] END learning_rate=1, n_estimators=150;, score=(train=0.733, test=0.730) total time=   5.0s\n",
      "[CV 5/5] END learning_rate=1, n_estimators=150;, score=(train=0.733, test=0.728) total time=   5.2s\n",
      "[CV 1/5] END learning_rate=1, n_estimators=200;, score=(train=0.733, test=0.729) total time=   6.8s\n",
      "[CV 2/5] END learning_rate=1, n_estimators=200;, score=(train=0.731, test=0.736) total time=   6.7s\n",
      "[CV 3/5] END learning_rate=1, n_estimators=200;, score=(train=0.733, test=0.732) total time=   6.6s\n",
      "[CV 4/5] END learning_rate=1, n_estimators=200;, score=(train=0.733, test=0.730) total time=   6.6s\n",
      "[CV 5/5] END learning_rate=1, n_estimators=200;, score=(train=0.734, test=0.728) total time=   6.6s\n",
      "[CV 1/5] END learning_rate=0.1, n_estimators=50;, score=(train=0.722, test=0.721) total time=   1.7s\n",
      "[CV 2/5] END learning_rate=0.1, n_estimators=50;, score=(train=0.719, test=0.723) total time=   1.7s\n",
      "[CV 3/5] END learning_rate=0.1, n_estimators=50;, score=(train=0.720, test=0.725) total time=   1.7s\n",
      "[CV 4/5] END learning_rate=0.1, n_estimators=50;, score=(train=0.721, test=0.717) total time=   1.7s\n",
      "[CV 5/5] END learning_rate=0.1, n_estimators=50;, score=(train=0.724, test=0.719) total time=   1.7s\n",
      "[CV 1/5] END learning_rate=0.1, n_estimators=100;, score=(train=0.726, test=0.727) total time=   3.3s\n",
      "[CV 2/5] END learning_rate=0.1, n_estimators=100;, score=(train=0.725, test=0.727) total time=   3.3s\n",
      "[CV 3/5] END learning_rate=0.1, n_estimators=100;, score=(train=0.726, test=0.728) total time=   3.3s\n",
      "[CV 4/5] END learning_rate=0.1, n_estimators=100;, score=(train=0.726, test=0.721) total time=   3.4s\n",
      "[CV 5/5] END learning_rate=0.1, n_estimators=100;, score=(train=0.726, test=0.722) total time=   3.3s\n",
      "[CV 1/5] END learning_rate=0.1, n_estimators=150;, score=(train=0.728, test=0.728) total time=   5.2s\n",
      "[CV 2/5] END learning_rate=0.1, n_estimators=150;, score=(train=0.726, test=0.730) total time=   5.1s\n",
      "[CV 3/5] END learning_rate=0.1, n_estimators=150;, score=(train=0.727, test=0.729) total time=   5.0s\n",
      "[CV 4/5] END learning_rate=0.1, n_estimators=150;, score=(train=0.727, test=0.724) total time=   5.1s\n",
      "[CV 5/5] END learning_rate=0.1, n_estimators=150;, score=(train=0.728, test=0.724) total time=   5.1s\n",
      "[CV 1/5] END learning_rate=0.1, n_estimators=200;, score=(train=0.729, test=0.730) total time=   6.9s\n",
      "[CV 2/5] END learning_rate=0.1, n_estimators=200;, score=(train=0.727, test=0.731) total time=   6.8s\n",
      "[CV 3/5] END learning_rate=0.1, n_estimators=200;, score=(train=0.729, test=0.730) total time=   6.9s\n",
      "[CV 4/5] END learning_rate=0.1, n_estimators=200;, score=(train=0.729, test=0.725) total time=   6.9s\n",
      "[CV 5/5] END learning_rate=0.1, n_estimators=200;, score=(train=0.730, test=0.725) total time=   7.3s\n",
      "[CV 1/5] END learning_rate=0.01, n_estimators=50;, score=(train=0.714, test=0.713) total time=   1.8s\n",
      "[CV 2/5] END learning_rate=0.01, n_estimators=50;, score=(train=0.713, test=0.716) total time=   1.8s\n",
      "[CV 3/5] END learning_rate=0.01, n_estimators=50;, score=(train=0.713, test=0.719) total time=   1.8s\n",
      "[CV 4/5] END learning_rate=0.01, n_estimators=50;, score=(train=0.714, test=0.712) total time=   1.8s\n",
      "[CV 5/5] END learning_rate=0.01, n_estimators=50;, score=(train=0.715, test=0.709) total time=   1.7s\n",
      "[CV 1/5] END learning_rate=0.01, n_estimators=100;, score=(train=0.714, test=0.713) total time=   3.4s\n",
      "[CV 2/5] END learning_rate=0.01, n_estimators=100;, score=(train=0.713, test=0.716) total time=   3.4s\n",
      "[CV 3/5] END learning_rate=0.01, n_estimators=100;, score=(train=0.713, test=0.719) total time=   3.5s\n",
      "[CV 4/5] END learning_rate=0.01, n_estimators=100;, score=(train=0.714, test=0.712) total time=   3.6s\n",
      "[CV 5/5] END learning_rate=0.01, n_estimators=100;, score=(train=0.715, test=0.709) total time=   3.6s\n",
      "[CV 1/5] END learning_rate=0.01, n_estimators=150;, score=(train=0.714, test=0.713) total time=   5.2s\n",
      "[CV 2/5] END learning_rate=0.01, n_estimators=150;, score=(train=0.713, test=0.716) total time=   5.3s\n",
      "[CV 3/5] END learning_rate=0.01, n_estimators=150;, score=(train=0.713, test=0.719) total time=   5.3s\n",
      "[CV 4/5] END learning_rate=0.01, n_estimators=150;, score=(train=0.714, test=0.712) total time=   5.4s\n",
      "[CV 5/5] END learning_rate=0.01, n_estimators=150;, score=(train=0.715, test=0.709) total time=   5.3s\n",
      "[CV 1/5] END learning_rate=0.01, n_estimators=200;, score=(train=0.714, test=0.713) total time=   7.1s\n",
      "[CV 2/5] END learning_rate=0.01, n_estimators=200;, score=(train=0.713, test=0.716) total time=   7.1s\n",
      "[CV 3/5] END learning_rate=0.01, n_estimators=200;, score=(train=0.713, test=0.719) total time=   6.9s\n",
      "[CV 4/5] END learning_rate=0.01, n_estimators=200;, score=(train=0.714, test=0.712) total time=   7.0s\n",
      "[CV 5/5] END learning_rate=0.01, n_estimators=200;, score=(train=0.715, test=0.709) total time=   7.0s\n",
      "[CV 1/5] END learning_rate=0.001, n_estimators=50;, score=(train=0.714, test=0.713) total time=   1.8s\n",
      "[CV 2/5] END learning_rate=0.001, n_estimators=50;, score=(train=0.713, test=0.716) total time=   1.9s\n",
      "[CV 3/5] END learning_rate=0.001, n_estimators=50;, score=(train=0.713, test=0.719) total time=   1.8s\n",
      "[CV 4/5] END learning_rate=0.001, n_estimators=50;, score=(train=0.714, test=0.712) total time=   1.8s\n",
      "[CV 5/5] END learning_rate=0.001, n_estimators=50;, score=(train=0.715, test=0.709) total time=   1.7s\n",
      "[CV 1/5] END learning_rate=0.001, n_estimators=100;, score=(train=0.714, test=0.713) total time=   3.6s\n",
      "[CV 2/5] END learning_rate=0.001, n_estimators=100;, score=(train=0.713, test=0.716) total time=   3.7s\n",
      "[CV 3/5] END learning_rate=0.001, n_estimators=100;, score=(train=0.713, test=0.719) total time=   3.6s\n",
      "[CV 4/5] END learning_rate=0.001, n_estimators=100;, score=(train=0.714, test=0.712) total time=   3.4s\n",
      "[CV 5/5] END learning_rate=0.001, n_estimators=100;, score=(train=0.715, test=0.709) total time=   3.6s\n",
      "[CV 1/5] END learning_rate=0.001, n_estimators=150;, score=(train=0.714, test=0.713) total time=   5.4s\n",
      "[CV 2/5] END learning_rate=0.001, n_estimators=150;, score=(train=0.713, test=0.716) total time=   5.3s\n",
      "[CV 3/5] END learning_rate=0.001, n_estimators=150;, score=(train=0.713, test=0.719) total time=   5.4s\n",
      "[CV 4/5] END learning_rate=0.001, n_estimators=150;, score=(train=0.714, test=0.712) total time=   5.5s\n",
      "[CV 5/5] END learning_rate=0.001, n_estimators=150;, score=(train=0.715, test=0.709) total time=   5.2s\n",
      "[CV 1/5] END learning_rate=0.001, n_estimators=200;, score=(train=0.714, test=0.713) total time=   6.9s\n",
      "[CV 2/5] END learning_rate=0.001, n_estimators=200;, score=(train=0.713, test=0.716) total time=   7.0s\n",
      "[CV 3/5] END learning_rate=0.001, n_estimators=200;, score=(train=0.713, test=0.719) total time=   6.9s\n",
      "[CV 4/5] END learning_rate=0.001, n_estimators=200;, score=(train=0.714, test=0.712) total time=   6.9s\n",
      "[CV 5/5] END learning_rate=0.001, n_estimators=200;, score=(train=0.715, test=0.709) total time=   6.9s\n",
      "\n",
      "**************************************************\n",
      "\n"
     ]
    }
   ],
   "source": [
    "param_grid = {\n",
    "    \"n_estimators\" : (50, 100, 150, 200),\n",
    "    \"learning_rate\" : (1, 1e-1, 1e-2, 1e-3),\n",
    "}\n",
    "\n",
    "sc_X = StandardScaler()\n",
    "si_mean = SimpleImputer(missing_values=np.nan, strategy=\"mean\")\n",
    "\n",
    "X = si_mean.fit_transform(X)\n",
    "X = sc_X.fit_transform(X)\n",
    "\n",
    "my_pipeline = Pipelines(preprocessor, cfg.seed)\n",
    "\n",
    "breaker()\n",
    "gscv_model = GridSearchCV(\n",
    "    estimator=AdaBoostClassifier(),\n",
    "    param_grid=param_grid,\n",
    "    cv=cfg.n_splits,\n",
    "    verbose=3,\n",
    "    return_train_score=True,\n",
    "    ).fit(X, y)\n",
    "breaker()"
   ]
  },
  {
   "cell_type": "code",
   "execution_count": 8,
   "id": "7b369bb2",
   "metadata": {
    "execution": {
     "iopub.execute_input": "2022-04-28T10:49:59.361226Z",
     "iopub.status.busy": "2022-04-28T10:49:59.360768Z",
     "iopub.status.idle": "2022-04-28T10:49:59.368912Z",
     "shell.execute_reply": "2022-04-28T10:49:59.368213Z"
    },
    "papermill": {
     "duration": 0.046769,
     "end_time": "2022-04-28T10:49:59.371608",
     "exception": false,
     "start_time": "2022-04-28T10:49:59.324839",
     "status": "completed"
    },
    "tags": []
   },
   "outputs": [
    {
     "name": "stdout",
     "output_type": "stream",
     "text": [
      "\n",
      "**************************************************\n",
      "\n",
      "Best Estimator : AdaBoostClassifier(learning_rate=1, n_estimators=150)\n",
      "Best Score     : 0.7313428571428572\n",
      "Best Fold      : 2\n",
      "\n",
      "**************************************************\n",
      "\n",
      "Best Parameters\n",
      "\n",
      "learning_rate  : 1\n",
      "n_estimators   : 150\n",
      "\n",
      "**************************************************\n",
      "\n"
     ]
    }
   ],
   "source": [
    "breaker()\n",
    "print(f\"Best Estimator : {gscv_model.best_estimator_}\")\n",
    "print(f\"Best Score     : {gscv_model.best_score_}\")\n",
    "print(f\"Best Fold      : {gscv_model.best_index_}\")\n",
    "breaker()\n",
    "print(\"Best Parameters\\n\")\n",
    "for k, v in gscv_model.best_params_.items():\n",
    "    # Left Justify the text making it 14 characte3rs long\n",
    "    print(f\"{k:<14} : {v}\")\n",
    "breaker()"
   ]
  },
  {
   "cell_type": "markdown",
   "id": "e1568782",
   "metadata": {
    "papermill": {
     "duration": 0.033822,
     "end_time": "2022-04-28T10:49:59.440964",
     "exception": false,
     "start_time": "2022-04-28T10:49:59.407142",
     "status": "completed"
    },
    "tags": []
   },
   "source": [
    "### **Best Grid Seached Model**"
   ]
  },
  {
   "cell_type": "code",
   "execution_count": 9,
   "id": "ec78af4c",
   "metadata": {
    "execution": {
     "iopub.execute_input": "2022-04-28T10:49:59.511601Z",
     "iopub.status.busy": "2022-04-28T10:49:59.511025Z",
     "iopub.status.idle": "2022-04-28T10:50:01.278328Z",
     "shell.execute_reply": "2022-04-28T10:50:01.277388Z"
    },
    "papermill": {
     "duration": 1.805603,
     "end_time": "2022-04-28T10:50:01.280458",
     "exception": false,
     "start_time": "2022-04-28T10:49:59.474855",
     "status": "completed"
    },
    "tags": []
   },
   "outputs": [
    {
     "name": "stdout",
     "output_type": "stream",
     "text": [
      "\n",
      "**************************************************\n",
      "\n",
      "Fold 6\n",
      "\n",
      "Accuracy  : 0.73200\n",
      "ROC-AUC   : 0.73642\n",
      "Precision : [0.79890679 0.66600454]\n",
      "Recall    : [0.70232676 0.77051871]\n",
      "F-Score   : [0.74751009 0.71445967]\n",
      "\n",
      "[[5554 1398]\n",
      " [2354 4694]]\n",
      "\n",
      "**************************************************\n",
      "\n"
     ]
    }
   ],
   "source": [
    "df = pd.read_csv(cfg.data_read_path, delimiter=\";\")\n",
    "df = df.drop(columns=[\"id\"])\n",
    "df.age /= 365.25\n",
    "\n",
    "X = df.iloc[:, :-1].copy().values\n",
    "y = df.iloc[:, -1].copy().values\n",
    "\n",
    "features = [i for i in range(X.shape[1])]\n",
    "\n",
    "feature_transformer = Pipeline(\n",
    "    steps=[\n",
    "        (\"Simple_Imputer\", SimpleImputer(missing_values=np.nan, strategy=\"mean\")),\n",
    "        (\"Standard_Scaler\", StandardScaler())\n",
    "    ]\n",
    ")\n",
    "\n",
    "preprocessor = ColumnTransformer(\n",
    "    transformers=[\n",
    "        (\"features\", feature_transformer, features),\n",
    "    ]\n",
    ")\n",
    "\n",
    "model = Pipeline(\n",
    "    steps=[\n",
    "        (\"preprocessor\", preprocessor),\n",
    "        (\"classifier\", AdaBoostClassifier(random_state=cfg.seed, n_estimators=150, learning_rate=1)),\n",
    "    ]\n",
    ")\n",
    "\n",
    "i = 1\n",
    "for tr_idx, va_idx in KFold(n_splits=cfg.n_splits, shuffle=True, random_state=cfg.seed).split(X):\n",
    "    if i == 2: break\n",
    "    i += 1\n",
    "\n",
    "breaker()\n",
    "X_train, X_valid, y_train, y_valid = X[tr_idx], X[va_idx], y[tr_idx], y[va_idx]\n",
    "my_pipeline = Pipelines(preprocessor, cfg.seed)\n",
    "my_pipeline.model.fit(X_train, y_train)\n",
    "y_pred = my_pipeline.model.predict(X_valid)\n",
    "acc, auc, pre, rec, f1 = get_scores(y_valid, y_pred)\n",
    "print(f\"Fold {fold}\\n\")\n",
    "print_scores(acc, auc, pre, rec, f1)\n",
    "print(\"\")\n",
    "print(confusion_matrix(y_valid, y_pred))\n",
    "breaker()\n",
    "\n",
    "with open(os.path.join(cfg.model_save_path, f\"best_model.pkl\"), \"wb\") as fp: pickle.dump(my_pipeline.model, fp)"
   ]
  }
 ],
 "metadata": {
  "kernelspec": {
   "display_name": "Python 3",
   "language": "python",
   "name": "python3"
  },
  "language_info": {
   "codemirror_mode": {
    "name": "ipython",
    "version": 3
   },
   "file_extension": ".py",
   "mimetype": "text/x-python",
   "name": "python",
   "nbconvert_exporter": "python",
   "pygments_lexer": "ipython3",
   "version": "3.7.12"
  },
  "papermill": {
   "default_parameters": {},
   "duration": 437.590286,
   "end_time": "2022-04-28T10:50:02.036033",
   "environment_variables": {},
   "exception": null,
   "input_path": "__notebook__.ipynb",
   "output_path": "__notebook__.ipynb",
   "parameters": {},
   "start_time": "2022-04-28T10:42:44.445747",
   "version": "2.3.4"
  }
 },
 "nbformat": 4,
 "nbformat_minor": 5
}
