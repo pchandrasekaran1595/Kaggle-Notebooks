{
 "cells": [
  {
   "cell_type": "markdown",
   "id": "7f7cec00",
   "metadata": {
    "_cell_guid": "b1076dfc-b9ad-4769-8c92-a6c4dae69d19",
    "_uuid": "8f2839f25d086af736a60e9eeb907d3b93b6e0e5",
    "execution": {
     "iopub.execute_input": "2022-04-28T09:38:36.395647Z",
     "iopub.status.busy": "2022-04-28T09:38:36.394699Z",
     "iopub.status.idle": "2022-04-28T09:38:38.132719Z",
     "shell.execute_reply": "2022-04-28T09:38:38.131755Z",
     "shell.execute_reply.started": "2022-04-28T09:38:36.395497Z"
    },
    "papermill": {
     "duration": 0.011088,
     "end_time": "2022-05-01T05:34:21.107658",
     "exception": false,
     "start_time": "2022-05-01T05:34:21.096570",
     "status": "completed"
    },
    "tags": []
   },
   "source": [
    "### **Library Imports**"
   ]
  },
  {
   "cell_type": "code",
   "execution_count": 1,
   "id": "f338c41a",
   "metadata": {
    "execution": {
     "iopub.execute_input": "2022-05-01T05:34:21.129655Z",
     "iopub.status.busy": "2022-05-01T05:34:21.129089Z",
     "iopub.status.idle": "2022-05-01T05:34:22.632659Z",
     "shell.execute_reply": "2022-05-01T05:34:22.631749Z"
    },
    "papermill": {
     "duration": 1.517248,
     "end_time": "2022-05-01T05:34:22.635068",
     "exception": false,
     "start_time": "2022-05-01T05:34:21.117820",
     "status": "completed"
    },
    "tags": []
   },
   "outputs": [],
   "source": [
    "import os\n",
    "import pickle\n",
    "import numpy as np\n",
    "import pandas as pd\n",
    "import random as r\n",
    "import seaborn as sns\n",
    "import matplotlib.pyplot as plt\n",
    "\n",
    "from time import time\n",
    "from sklearn.pipeline import Pipeline\n",
    "from sklearn.impute import SimpleImputer\n",
    "from sklearn.compose import ColumnTransformer\n",
    "from sklearn.preprocessing import StandardScaler\n",
    "from sklearn.model_selection import KFold, GridSearchCV\n",
    "from sklearn.ensemble import AdaBoostClassifier\n",
    "from sklearn.metrics import accuracy_score, \\\n",
    "                            roc_auc_score, \\\n",
    "                            precision_recall_fscore_support, \\\n",
    "                            classification_report, \\\n",
    "                            confusion_matrix"
   ]
  },
  {
   "cell_type": "code",
   "execution_count": 2,
   "id": "3e92eae5",
   "metadata": {
    "execution": {
     "iopub.execute_input": "2022-05-01T05:34:22.657578Z",
     "iopub.status.busy": "2022-05-01T05:34:22.656891Z",
     "iopub.status.idle": "2022-05-01T05:34:22.662651Z",
     "shell.execute_reply": "2022-05-01T05:34:22.661944Z"
    },
    "papermill": {
     "duration": 0.019219,
     "end_time": "2022-05-01T05:34:22.664587",
     "exception": false,
     "start_time": "2022-05-01T05:34:22.645368",
     "status": "completed"
    },
    "tags": []
   },
   "outputs": [],
   "source": [
    "class CFG(object):\n",
    "    def __init__(self,\n",
    "                 seed: int = 42,\n",
    "                 n_splits: int = 5,\n",
    "                 show_info: bool = False,\n",
    "                 ):\n",
    "\n",
    "        self.seed = seed\n",
    "        self.n_splits = n_splits\n",
    "        self.show_info = show_info\n",
    "        self.data_read_path = \"../input/cardiovascular-disease-dataset/cardio_train.csv\"\n",
    "        self.model_save_path = \"models\"\n",
    "        if not os.path.exists(self.model_save_path): os.makedirs(self.model_save_path)\n",
    "\n",
    "cfg = CFG(seed=42, show_info=True)"
   ]
  },
  {
   "cell_type": "markdown",
   "id": "957a739f",
   "metadata": {
    "papermill": {
     "duration": 0.010218,
     "end_time": "2022-05-01T05:34:22.685187",
     "exception": false,
     "start_time": "2022-05-01T05:34:22.674969",
     "status": "completed"
    },
    "tags": []
   },
   "source": [
    "### **Utilities and Helpers**"
   ]
  },
  {
   "cell_type": "code",
   "execution_count": 3,
   "id": "a2937e5a",
   "metadata": {
    "execution": {
     "iopub.execute_input": "2022-05-01T05:34:22.708092Z",
     "iopub.status.busy": "2022-05-01T05:34:22.707567Z",
     "iopub.status.idle": "2022-05-01T05:34:22.713907Z",
     "shell.execute_reply": "2022-05-01T05:34:22.713260Z"
    },
    "papermill": {
     "duration": 0.020151,
     "end_time": "2022-05-01T05:34:22.715754",
     "exception": false,
     "start_time": "2022-05-01T05:34:22.695603",
     "status": "completed"
    },
    "tags": []
   },
   "outputs": [],
   "source": [
    "def breaker(num: int=50, char: str=\"*\") -> None:\n",
    "    print(\"\\n\" + num*char + \"\\n\")\n",
    "    \n",
    "\n",
    "def print_scores(accuracy: float, auc: float, precision: np.ndarray, recall: np.ndarray, f_score: np.ndarray) -> None:\n",
    "    print(f\"Accuracy  : {accuracy:.5f}\")\n",
    "    print(f\"ROC-AUC   : {auc:.5f}\")\n",
    "    print(f\"Precision : {precision}\")\n",
    "    print(f\"Recall    : {recall}\")\n",
    "    print(f\"F-Score   : {f_score}\")\n",
    "    \n",
    "\n",
    "def get_scores(y_true: np.ndarray, y_pred: np.ndarray) -> tuple:\n",
    "    accuracy = accuracy_score(y_pred, y_true)\n",
    "    auc = roc_auc_score(y_pred, y_true)\n",
    "    precision, recall, f_score, _ = precision_recall_fscore_support(y_pred, y_true)\n",
    "\n",
    "    return accuracy, auc, precision, recall, f_score"
   ]
  },
  {
   "cell_type": "code",
   "execution_count": 4,
   "id": "6c1cb398",
   "metadata": {
    "execution": {
     "iopub.execute_input": "2022-05-01T05:34:22.738685Z",
     "iopub.status.busy": "2022-05-01T05:34:22.738247Z",
     "iopub.status.idle": "2022-05-01T05:34:22.742635Z",
     "shell.execute_reply": "2022-05-01T05:34:22.741812Z"
    },
    "papermill": {
     "duration": 0.01824,
     "end_time": "2022-05-01T05:34:22.744585",
     "exception": false,
     "start_time": "2022-05-01T05:34:22.726345",
     "status": "completed"
    },
    "tags": []
   },
   "outputs": [],
   "source": [
    "class Pipelines(object):\n",
    "    def __init__(self, preprocessor, seed: int):\n",
    "        self.model = Pipeline(\n",
    "            steps=[\n",
    "                (\"preprocessor\", preprocessor),\n",
    "                (\"classifier\", AdaBoostClassifier(random_state=seed)),\n",
    "            ]\n",
    "        )"
   ]
  },
  {
   "cell_type": "markdown",
   "id": "d285d759",
   "metadata": {
    "papermill": {
     "duration": 0.009841,
     "end_time": "2022-05-01T05:34:22.764721",
     "exception": false,
     "start_time": "2022-05-01T05:34:22.754880",
     "status": "completed"
    },
    "tags": []
   },
   "source": [
    "### **Normal**"
   ]
  },
  {
   "cell_type": "code",
   "execution_count": 5,
   "id": "efd38d41",
   "metadata": {
    "execution": {
     "iopub.execute_input": "2022-05-01T05:34:22.786961Z",
     "iopub.status.busy": "2022-05-01T05:34:22.786488Z",
     "iopub.status.idle": "2022-05-01T05:34:22.956067Z",
     "shell.execute_reply": "2022-05-01T05:34:22.955188Z"
    },
    "papermill": {
     "duration": 0.183627,
     "end_time": "2022-05-01T05:34:22.958513",
     "exception": false,
     "start_time": "2022-05-01T05:34:22.774886",
     "status": "completed"
    },
    "tags": []
   },
   "outputs": [],
   "source": [
    "df = pd.read_csv(cfg.data_read_path, delimiter=\";\")\n",
    "df = df.drop(columns=[\"id\"])\n",
    "df.age /= 365.25\n",
    "\n",
    "X = df.iloc[:, :-1].copy().values\n",
    "y = df.iloc[:, -1].copy().values\n",
    "\n",
    "features = [i for i in range(X.shape[1])]\n",
    "\n",
    "feature_transformer = Pipeline(\n",
    "    steps=[\n",
    "        (\"Simple_Imputer\", SimpleImputer(missing_values=np.nan, strategy=\"mean\")),\n",
    "        (\"Standard_Scaler\", StandardScaler())\n",
    "    ]\n",
    ")\n",
    "\n",
    "preprocessor = ColumnTransformer(\n",
    "    transformers=[\n",
    "        (\"features\", feature_transformer, features),\n",
    "    ]\n",
    ")"
   ]
  },
  {
   "cell_type": "code",
   "execution_count": 6,
   "id": "0fd5c40d",
   "metadata": {
    "execution": {
     "iopub.execute_input": "2022-05-01T05:34:22.981085Z",
     "iopub.status.busy": "2022-05-01T05:34:22.980764Z",
     "iopub.status.idle": "2022-05-01T05:34:31.526834Z",
     "shell.execute_reply": "2022-05-01T05:34:31.525592Z"
    },
    "papermill": {
     "duration": 8.561122,
     "end_time": "2022-05-01T05:34:31.530108",
     "exception": false,
     "start_time": "2022-05-01T05:34:22.968986",
     "status": "completed"
    },
    "tags": []
   },
   "outputs": [
    {
     "name": "stdout",
     "output_type": "stream",
     "text": [
      "\n",
      "**************************************************\n",
      "\n",
      "Fold 1\n",
      "\n",
      "Accuracy  : 0.73536\n",
      "ROC-AUC   : 0.73994\n",
      "Precision : [0.80409273 0.66685682]\n",
      "Recall    : [0.70634821 0.77353184]\n",
      "F-Score   : [0.75205782 0.71624416]\n",
      "\n",
      "[[5619 1369]\n",
      " [2336 4676]]\n",
      "\n",
      "**************************************************\n",
      "\n",
      "Fold 2\n",
      "\n",
      "Accuracy  : 0.73200\n",
      "ROC-AUC   : 0.73642\n",
      "Precision : [0.79890679 0.66600454]\n",
      "Recall    : [0.70232676 0.77051871]\n",
      "F-Score   : [0.74751009 0.71445967]\n",
      "\n",
      "[[5554 1398]\n",
      " [2354 4694]]\n",
      "\n",
      "**************************************************\n",
      "\n",
      "Fold 3\n",
      "\n",
      "Accuracy  : 0.72964\n",
      "ROC-AUC   : 0.73325\n",
      "Precision : [0.7906075  0.66931931]\n",
      "Recall    : [0.7028856  0.76361868]\n",
      "F-Score   : [0.74417033 0.71336615]\n",
      "\n",
      "[[5505 1458]\n",
      " [2327 4710]]\n",
      "\n",
      "**************************************************\n",
      "\n",
      "Fold 4\n",
      "\n",
      "Accuracy  : 0.72693\n",
      "ROC-AUC   : 0.73063\n",
      "Precision : [0.79496908 0.656595  ]\n",
      "Recall    : [0.70527366 0.75597926]\n",
      "F-Score   : [0.74744005 0.70279095]\n",
      "\n",
      "[[5657 1459]\n",
      " [2364 4520]]\n",
      "\n",
      "**************************************************\n",
      "\n",
      "Fold 5\n",
      "\n",
      "Accuracy  : 0.72750\n",
      "ROC-AUC   : 0.73316\n",
      "Precision : [0.80548415 0.64947128]\n",
      "Recall    : [0.69689855 0.7694261 ]\n",
      "F-Score   : [0.74726731 0.70437815]\n",
      "\n",
      "[[5640 1362]\n",
      " [2453 4545]]\n",
      "\n",
      "**************************************************\n",
      "\n",
      "Best ACC Fold : 1\n",
      "Best AUC Fold : 1\n",
      "Best PRE Fold : 3\n",
      "Best REC Fold : 1\n",
      "Best F1 Fold  : 1\n",
      "\n",
      "**************************************************\n",
      "\n"
     ]
    }
   ],
   "source": [
    "best_auc = 0.0\n",
    "best_acc = 0.0\n",
    "best_pre = 0.0\n",
    "best_rec = 0.0\n",
    "best_f1  = 0.0\n",
    "\n",
    "fold = 1\n",
    "\n",
    "breaker()\n",
    "for tr_idx, va_idx in KFold(n_splits=cfg.n_splits, random_state=cfg.seed, shuffle=True).split(X):\n",
    "    X_train, X_valid, y_train, y_valid = X[tr_idx], X[va_idx], y[tr_idx], y[va_idx]\n",
    "    my_pipeline = Pipelines(preprocessor, cfg.seed)\n",
    "    my_pipeline.model.fit(X_train, y_train)\n",
    "\n",
    "    y_pred = my_pipeline.model.predict(X_valid)\n",
    "    acc, auc, pre, rec, f1 = get_scores(y_valid, y_pred)\n",
    "    print(f\"Fold {fold}\\n\")\n",
    "    print_scores(acc, auc, pre, rec, f1)\n",
    "    print(\"\")\n",
    "    print(confusion_matrix(y_valid, y_pred))\n",
    "    breaker()\n",
    "\n",
    "    if acc > best_acc:\n",
    "        best_acc = acc\n",
    "        best_acc_fold = fold\n",
    "    \n",
    "    if auc > best_auc:\n",
    "        best_auc = auc\n",
    "        best_auc_fold = fold\n",
    "\n",
    "    if pre[1] > best_pre:\n",
    "        best_pre = pre[1]\n",
    "        best_pre_fold = fold\n",
    "    \n",
    "    if rec[1] > best_rec:\n",
    "        best_rec = rec[1]\n",
    "        best_rec_fold = fold\n",
    "    \n",
    "    if f1[1] > best_f1:\n",
    "        best_f1 = f1[1]\n",
    "        best_f1_fold = fold\n",
    "    \n",
    "    fold += 1\n",
    "\n",
    "print(f\"Best ACC Fold : {best_acc_fold}\")\n",
    "print(f\"Best AUC Fold : {best_auc_fold}\")\n",
    "print(f\"Best PRE Fold : {best_pre_fold}\")\n",
    "print(f\"Best REC Fold : {best_rec_fold}\")\n",
    "print(f\"Best F1 Fold  : {best_f1_fold}\")\n",
    "\n",
    "breaker()"
   ]
  },
  {
   "cell_type": "markdown",
   "id": "2c5fd741",
   "metadata": {
    "papermill": {
     "duration": 0.011732,
     "end_time": "2022-05-01T05:34:31.555419",
     "exception": false,
     "start_time": "2022-05-01T05:34:31.543687",
     "status": "completed"
    },
    "tags": []
   },
   "source": [
    "### **Grid Search**"
   ]
  },
  {
   "cell_type": "code",
   "execution_count": 7,
   "id": "eba61b07",
   "metadata": {
    "execution": {
     "iopub.execute_input": "2022-05-01T05:34:31.581313Z",
     "iopub.status.busy": "2022-05-01T05:34:31.580997Z",
     "iopub.status.idle": "2022-05-01T05:41:35.741021Z",
     "shell.execute_reply": "2022-05-01T05:41:35.739925Z"
    },
    "papermill": {
     "duration": 424.176413,
     "end_time": "2022-05-01T05:41:35.743732",
     "exception": false,
     "start_time": "2022-05-01T05:34:31.567319",
     "status": "completed"
    },
    "tags": []
   },
   "outputs": [
    {
     "name": "stdout",
     "output_type": "stream",
     "text": [
      "\n",
      "**************************************************\n",
      "\n",
      "Fitting 5 folds for each of 16 candidates, totalling 80 fits\n",
      "[CV 1/5] END learning_rate=1, n_estimators=50;, score=(train=0.732, test=0.728) total time=   1.8s\n",
      "[CV 2/5] END learning_rate=1, n_estimators=50;, score=(train=0.731, test=0.734) total time=   1.8s\n",
      "[CV 3/5] END learning_rate=1, n_estimators=50;, score=(train=0.732, test=0.733) total time=   1.7s\n",
      "[CV 4/5] END learning_rate=1, n_estimators=50;, score=(train=0.733, test=0.730) total time=   1.8s\n",
      "[CV 5/5] END learning_rate=1, n_estimators=50;, score=(train=0.731, test=0.726) total time=   1.7s\n",
      "[CV 1/5] END learning_rate=1, n_estimators=100;, score=(train=0.732, test=0.729) total time=   3.5s\n",
      "[CV 2/5] END learning_rate=1, n_estimators=100;, score=(train=0.731, test=0.736) total time=   3.5s\n",
      "[CV 3/5] END learning_rate=1, n_estimators=100;, score=(train=0.732, test=0.732) total time=   3.5s\n",
      "[CV 4/5] END learning_rate=1, n_estimators=100;, score=(train=0.733, test=0.730) total time=   3.4s\n",
      "[CV 5/5] END learning_rate=1, n_estimators=100;, score=(train=0.733, test=0.728) total time=   3.4s\n",
      "[CV 1/5] END learning_rate=1, n_estimators=150;, score=(train=0.733, test=0.730) total time=   5.2s\n",
      "[CV 2/5] END learning_rate=1, n_estimators=150;, score=(train=0.731, test=0.736) total time=   5.2s\n",
      "[CV 3/5] END learning_rate=1, n_estimators=150;, score=(train=0.733, test=0.732) total time=   5.3s\n",
      "[CV 4/5] END learning_rate=1, n_estimators=150;, score=(train=0.733, test=0.730) total time=   5.3s\n",
      "[CV 5/5] END learning_rate=1, n_estimators=150;, score=(train=0.733, test=0.728) total time=   5.2s\n",
      "[CV 1/5] END learning_rate=1, n_estimators=200;, score=(train=0.733, test=0.729) total time=   6.9s\n",
      "[CV 2/5] END learning_rate=1, n_estimators=200;, score=(train=0.731, test=0.736) total time=   6.9s\n",
      "[CV 3/5] END learning_rate=1, n_estimators=200;, score=(train=0.733, test=0.732) total time=   7.1s\n",
      "[CV 4/5] END learning_rate=1, n_estimators=200;, score=(train=0.733, test=0.730) total time=   6.9s\n",
      "[CV 5/5] END learning_rate=1, n_estimators=200;, score=(train=0.734, test=0.728) total time=   6.8s\n",
      "[CV 1/5] END learning_rate=0.1, n_estimators=50;, score=(train=0.722, test=0.721) total time=   1.7s\n",
      "[CV 2/5] END learning_rate=0.1, n_estimators=50;, score=(train=0.719, test=0.723) total time=   1.8s\n",
      "[CV 3/5] END learning_rate=0.1, n_estimators=50;, score=(train=0.720, test=0.725) total time=   1.8s\n",
      "[CV 4/5] END learning_rate=0.1, n_estimators=50;, score=(train=0.721, test=0.717) total time=   1.8s\n",
      "[CV 5/5] END learning_rate=0.1, n_estimators=50;, score=(train=0.724, test=0.719) total time=   1.8s\n",
      "[CV 1/5] END learning_rate=0.1, n_estimators=100;, score=(train=0.726, test=0.727) total time=   3.6s\n",
      "[CV 2/5] END learning_rate=0.1, n_estimators=100;, score=(train=0.725, test=0.727) total time=   3.5s\n",
      "[CV 3/5] END learning_rate=0.1, n_estimators=100;, score=(train=0.726, test=0.728) total time=   3.5s\n",
      "[CV 4/5] END learning_rate=0.1, n_estimators=100;, score=(train=0.726, test=0.721) total time=   3.6s\n",
      "[CV 5/5] END learning_rate=0.1, n_estimators=100;, score=(train=0.726, test=0.722) total time=   3.5s\n",
      "[CV 1/5] END learning_rate=0.1, n_estimators=150;, score=(train=0.728, test=0.728) total time=   5.3s\n",
      "[CV 2/5] END learning_rate=0.1, n_estimators=150;, score=(train=0.726, test=0.730) total time=   5.2s\n",
      "[CV 3/5] END learning_rate=0.1, n_estimators=150;, score=(train=0.727, test=0.729) total time=   5.2s\n",
      "[CV 4/5] END learning_rate=0.1, n_estimators=150;, score=(train=0.727, test=0.724) total time=   5.2s\n",
      "[CV 5/5] END learning_rate=0.1, n_estimators=150;, score=(train=0.728, test=0.724) total time=   5.2s\n",
      "[CV 1/5] END learning_rate=0.1, n_estimators=200;, score=(train=0.729, test=0.730) total time=   7.0s\n",
      "[CV 2/5] END learning_rate=0.1, n_estimators=200;, score=(train=0.727, test=0.731) total time=   7.0s\n",
      "[CV 3/5] END learning_rate=0.1, n_estimators=200;, score=(train=0.729, test=0.730) total time=   7.0s\n",
      "[CV 4/5] END learning_rate=0.1, n_estimators=200;, score=(train=0.729, test=0.725) total time=   6.9s\n",
      "[CV 5/5] END learning_rate=0.1, n_estimators=200;, score=(train=0.730, test=0.725) total time=   7.0s\n",
      "[CV 1/5] END learning_rate=0.01, n_estimators=50;, score=(train=0.714, test=0.713) total time=   1.8s\n",
      "[CV 2/5] END learning_rate=0.01, n_estimators=50;, score=(train=0.713, test=0.716) total time=   1.8s\n",
      "[CV 3/5] END learning_rate=0.01, n_estimators=50;, score=(train=0.713, test=0.719) total time=   1.8s\n",
      "[CV 4/5] END learning_rate=0.01, n_estimators=50;, score=(train=0.714, test=0.712) total time=   1.8s\n",
      "[CV 5/5] END learning_rate=0.01, n_estimators=50;, score=(train=0.715, test=0.709) total time=   1.8s\n",
      "[CV 1/5] END learning_rate=0.01, n_estimators=100;, score=(train=0.714, test=0.713) total time=   3.5s\n",
      "[CV 2/5] END learning_rate=0.01, n_estimators=100;, score=(train=0.713, test=0.716) total time=   3.5s\n",
      "[CV 3/5] END learning_rate=0.01, n_estimators=100;, score=(train=0.713, test=0.719) total time=   3.5s\n",
      "[CV 4/5] END learning_rate=0.01, n_estimators=100;, score=(train=0.714, test=0.712) total time=   3.6s\n",
      "[CV 5/5] END learning_rate=0.01, n_estimators=100;, score=(train=0.715, test=0.709) total time=   3.5s\n",
      "[CV 1/5] END learning_rate=0.01, n_estimators=150;, score=(train=0.714, test=0.713) total time=   5.3s\n",
      "[CV 2/5] END learning_rate=0.01, n_estimators=150;, score=(train=0.713, test=0.716) total time=   5.3s\n",
      "[CV 3/5] END learning_rate=0.01, n_estimators=150;, score=(train=0.713, test=0.719) total time=   5.3s\n",
      "[CV 4/5] END learning_rate=0.01, n_estimators=150;, score=(train=0.714, test=0.712) total time=   5.3s\n",
      "[CV 5/5] END learning_rate=0.01, n_estimators=150;, score=(train=0.715, test=0.709) total time=   5.3s\n",
      "[CV 1/5] END learning_rate=0.01, n_estimators=200;, score=(train=0.714, test=0.713) total time=   7.0s\n",
      "[CV 2/5] END learning_rate=0.01, n_estimators=200;, score=(train=0.713, test=0.716) total time=   7.2s\n",
      "[CV 3/5] END learning_rate=0.01, n_estimators=200;, score=(train=0.713, test=0.719) total time=   7.2s\n",
      "[CV 4/5] END learning_rate=0.01, n_estimators=200;, score=(train=0.714, test=0.712) total time=   7.0s\n",
      "[CV 5/5] END learning_rate=0.01, n_estimators=200;, score=(train=0.715, test=0.709) total time=   7.0s\n",
      "[CV 1/5] END learning_rate=0.001, n_estimators=50;, score=(train=0.714, test=0.713) total time=   1.8s\n",
      "[CV 2/5] END learning_rate=0.001, n_estimators=50;, score=(train=0.713, test=0.716) total time=   1.8s\n",
      "[CV 3/5] END learning_rate=0.001, n_estimators=50;, score=(train=0.713, test=0.719) total time=   1.8s\n",
      "[CV 4/5] END learning_rate=0.001, n_estimators=50;, score=(train=0.714, test=0.712) total time=   1.8s\n",
      "[CV 5/5] END learning_rate=0.001, n_estimators=50;, score=(train=0.715, test=0.709) total time=   1.8s\n",
      "[CV 1/5] END learning_rate=0.001, n_estimators=100;, score=(train=0.714, test=0.713) total time=   3.6s\n",
      "[CV 2/5] END learning_rate=0.001, n_estimators=100;, score=(train=0.713, test=0.716) total time=   3.6s\n",
      "[CV 3/5] END learning_rate=0.001, n_estimators=100;, score=(train=0.713, test=0.719) total time=   3.6s\n",
      "[CV 4/5] END learning_rate=0.001, n_estimators=100;, score=(train=0.714, test=0.712) total time=   3.5s\n",
      "[CV 5/5] END learning_rate=0.001, n_estimators=100;, score=(train=0.715, test=0.709) total time=   3.6s\n",
      "[CV 1/5] END learning_rate=0.001, n_estimators=150;, score=(train=0.714, test=0.713) total time=   5.4s\n",
      "[CV 2/5] END learning_rate=0.001, n_estimators=150;, score=(train=0.713, test=0.716) total time=   5.4s\n",
      "[CV 3/5] END learning_rate=0.001, n_estimators=150;, score=(train=0.713, test=0.719) total time=   5.3s\n",
      "[CV 4/5] END learning_rate=0.001, n_estimators=150;, score=(train=0.714, test=0.712) total time=   5.3s\n",
      "[CV 5/5] END learning_rate=0.001, n_estimators=150;, score=(train=0.715, test=0.709) total time=   5.3s\n",
      "[CV 1/5] END learning_rate=0.001, n_estimators=200;, score=(train=0.714, test=0.713) total time=   7.2s\n",
      "[CV 2/5] END learning_rate=0.001, n_estimators=200;, score=(train=0.713, test=0.716) total time=   7.1s\n",
      "[CV 3/5] END learning_rate=0.001, n_estimators=200;, score=(train=0.713, test=0.719) total time=   7.1s\n",
      "[CV 4/5] END learning_rate=0.001, n_estimators=200;, score=(train=0.714, test=0.712) total time=   7.1s\n",
      "[CV 5/5] END learning_rate=0.001, n_estimators=200;, score=(train=0.715, test=0.709) total time=   7.3s\n",
      "\n",
      "**************************************************\n",
      "\n"
     ]
    }
   ],
   "source": [
    "param_grid = {\n",
    "    \"n_estimators\" : (50, 100, 150, 200),\n",
    "    \"learning_rate\" : (1, 1e-1, 1e-2, 1e-3),\n",
    "}\n",
    "\n",
    "sc_X = StandardScaler()\n",
    "si_mean = SimpleImputer(missing_values=np.nan, strategy=\"mean\")\n",
    "\n",
    "X = si_mean.fit_transform(X)\n",
    "X = sc_X.fit_transform(X)\n",
    "\n",
    "my_pipeline = Pipelines(preprocessor, cfg.seed)\n",
    "\n",
    "breaker()\n",
    "gscv_model = GridSearchCV(\n",
    "    estimator=AdaBoostClassifier(),\n",
    "    param_grid=param_grid,\n",
    "    cv=cfg.n_splits,\n",
    "    verbose=3,\n",
    "    return_train_score=True,\n",
    "    ).fit(X, y)\n",
    "breaker()"
   ]
  },
  {
   "cell_type": "code",
   "execution_count": 8,
   "id": "36253b5d",
   "metadata": {
    "execution": {
     "iopub.execute_input": "2022-05-01T05:41:35.815357Z",
     "iopub.status.busy": "2022-05-01T05:41:35.814915Z",
     "iopub.status.idle": "2022-05-01T05:41:35.823976Z",
     "shell.execute_reply": "2022-05-01T05:41:35.823367Z"
    },
    "papermill": {
     "duration": 0.048654,
     "end_time": "2022-05-01T05:41:35.826838",
     "exception": false,
     "start_time": "2022-05-01T05:41:35.778184",
     "status": "completed"
    },
    "tags": []
   },
   "outputs": [
    {
     "name": "stdout",
     "output_type": "stream",
     "text": [
      "\n",
      "**************************************************\n",
      "\n",
      "Best Estimator : AdaBoostClassifier(learning_rate=1, n_estimators=150)\n",
      "Best Score     : 0.7313428571428572\n",
      "Best Fold      : 2\n",
      "\n",
      "**************************************************\n",
      "\n",
      "Best Parameters\n",
      "\n",
      "learning_rate  : 1\n",
      "n_estimators   : 150\n",
      "\n",
      "**************************************************\n",
      "\n"
     ]
    }
   ],
   "source": [
    "breaker()\n",
    "print(f\"Best Estimator : {gscv_model.best_estimator_}\")\n",
    "print(f\"Best Score     : {gscv_model.best_score_}\")\n",
    "print(f\"Best Fold      : {gscv_model.best_index_}\")\n",
    "breaker()\n",
    "print(\"Best Parameters\\n\")\n",
    "for k, v in gscv_model.best_params_.items():\n",
    "    # Left Justify the text making it 14 characte3rs long\n",
    "    print(f\"{k:<14} : {v}\")\n",
    "breaker()"
   ]
  },
  {
   "cell_type": "markdown",
   "id": "a925d15d",
   "metadata": {
    "papermill": {
     "duration": 0.034578,
     "end_time": "2022-05-01T05:41:35.895871",
     "exception": false,
     "start_time": "2022-05-01T05:41:35.861293",
     "status": "completed"
    },
    "tags": []
   },
   "source": [
    "### **Best Grid Seached Model**"
   ]
  },
  {
   "cell_type": "code",
   "execution_count": 9,
   "id": "72baa346",
   "metadata": {
    "execution": {
     "iopub.execute_input": "2022-05-01T05:41:35.967707Z",
     "iopub.status.busy": "2022-05-01T05:41:35.966850Z",
     "iopub.status.idle": "2022-05-01T05:41:38.045742Z",
     "shell.execute_reply": "2022-05-01T05:41:38.044728Z"
    },
    "papermill": {
     "duration": 2.116685,
     "end_time": "2022-05-01T05:41:38.048083",
     "exception": false,
     "start_time": "2022-05-01T05:41:35.931398",
     "status": "completed"
    },
    "tags": []
   },
   "outputs": [
    {
     "name": "stdout",
     "output_type": "stream",
     "text": [
      "\n",
      "**************************************************\n",
      "\n"
     ]
    }
   ],
   "source": [
    "df = pd.read_csv(cfg.data_read_path, delimiter=\";\")\n",
    "df = df.drop(columns=[\"id\"])\n",
    "df.age /= 365.25\n",
    "\n",
    "X = df.iloc[:, :-1].copy().values\n",
    "y = df.iloc[:, -1].copy().values\n",
    "\n",
    "features = [i for i in range(X.shape[1])]\n",
    "\n",
    "feature_transformer = Pipeline(\n",
    "    steps=[\n",
    "        (\"Simple_Imputer\", SimpleImputer(missing_values=np.nan, strategy=\"mean\")),\n",
    "        (\"Standard_Scaler\", StandardScaler())\n",
    "    ]\n",
    ")\n",
    "\n",
    "preprocessor = ColumnTransformer(\n",
    "    transformers=[\n",
    "        (\"features\", feature_transformer, features),\n",
    "    ]\n",
    ")\n",
    "\n",
    "model = Pipeline(\n",
    "    steps=[\n",
    "        (\"preprocessor\", preprocessor),\n",
    "        (\"classifier\", AdaBoostClassifier(random_state=cfg.seed, n_estimators=150, learning_rate=1)),\n",
    "    ]\n",
    ")\n",
    "\n",
    "breaker()\n",
    "my_pipeline = Pipelines(preprocessor, cfg.seed)\n",
    "my_pipeline.model.fit(X, y)\n",
    "\n",
    "with open(os.path.join(cfg.model_save_path, f\"best_model.pkl\"), \"wb\") as fp: pickle.dump(my_pipeline.model, fp)"
   ]
  }
 ],
 "metadata": {
  "kernelspec": {
   "display_name": "Python 3",
   "language": "python",
   "name": "python3"
  },
  "language_info": {
   "codemirror_mode": {
    "name": "ipython",
    "version": 3
   },
   "file_extension": ".py",
   "mimetype": "text/x-python",
   "name": "python",
   "nbconvert_exporter": "python",
   "pygments_lexer": "ipython3",
   "version": "3.7.12"
  },
  "papermill": {
   "default_parameters": {},
   "duration": 446.641686,
   "end_time": "2022-05-01T05:41:38.805605",
   "environment_variables": {},
   "exception": null,
   "input_path": "__notebook__.ipynb",
   "output_path": "__notebook__.ipynb",
   "parameters": {},
   "start_time": "2022-05-01T05:34:12.163919",
   "version": "2.3.4"
  }
 },
 "nbformat": 4,
 "nbformat_minor": 5
}
