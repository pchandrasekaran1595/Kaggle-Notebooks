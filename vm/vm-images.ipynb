{
 "cells": [
  {
   "cell_type": "code",
   "execution_count": 1,
   "id": "df363879",
   "metadata": {
    "_cell_guid": "b1076dfc-b9ad-4769-8c92-a6c4dae69d19",
    "_uuid": "8f2839f25d086af736a60e9eeb907d3b93b6e0e5",
    "execution": {
     "iopub.execute_input": "2022-03-28T07:39:57.744300Z",
     "iopub.status.busy": "2022-03-28T07:39:57.743749Z",
     "iopub.status.idle": "2022-03-28T07:39:58.099830Z",
     "shell.execute_reply": "2022-03-28T07:39:58.099056Z"
    },
    "papermill": {
     "duration": 0.370868,
     "end_time": "2022-03-28T07:39:58.100048",
     "exception": false,
     "start_time": "2022-03-28T07:39:57.729180",
     "status": "completed"
    },
    "tags": []
   },
   "outputs": [],
   "source": [
    "import os\n",
    "import cv2\n",
    "import numpy as np\n",
    "import pandas as pd"
   ]
  },
  {
   "cell_type": "code",
   "execution_count": 2,
   "id": "0e7ddab0",
   "metadata": {
    "execution": {
     "iopub.execute_input": "2022-03-28T07:39:58.114424Z",
     "iopub.status.busy": "2022-03-28T07:39:58.113777Z",
     "iopub.status.idle": "2022-03-28T07:39:58.123418Z",
     "shell.execute_reply": "2022-03-28T07:39:58.124076Z"
    },
    "papermill": {
     "duration": 0.018237,
     "end_time": "2022-03-28T07:39:58.124254",
     "exception": false,
     "start_time": "2022-03-28T07:39:58.106017",
     "status": "completed"
    },
    "tags": []
   },
   "outputs": [],
   "source": [
    "def breaker(num: int = 50, char: str = \"*\") -> None:\n",
    "    print(\"\\n\" + num*char + \"\\n\")\n",
    "\n",
    "\n",
    "def preprocess(image: np.ndarray, size: int) -> np.ndarray:\n",
    "    return cv2.resize(src=cv2.cvtColor(src=image, code=cv2.COLOR_BGR2RGB), dsize=(size, size), interpolation=cv2.INTER_AREA)\n",
    "\n",
    "\n",
    "def get_images(path: str, names: np.ndarray, size: int) -> np.ndarray:\n",
    "    images = np.zeros((len(names), size, size, 3), dtype=np.uint8)\n",
    "    \n",
    "    i = 0\n",
    "    for name in names:\n",
    "        images[i] = preprocess(cv2.imread(os.path.join(path, name), cv2.IMREAD_COLOR), size)\n",
    "        i += 1\n",
    "    return images\n",
    "\n",
    "\n",
    "def save(train_images: np.ndarray, test_images: np.ndarray, targets: np.ndarray, size: int) -> None:\n",
    "    np.save(f\"./train_images_{size}.npy\", train_images)\n",
    "    np.save(f\"./test_images_{size}.npy\", test_images)\n",
    "    np.save(f\"./targets_{size}.npy\", targets)\n",
    "\n",
    "\n",
    "def get_statistics(images: np.ndarray, size: int) -> None:\n",
    "    breaker()\n",
    "    print(f\"Mean {size}x{size}\\n\")\n",
    "    print(f\"Red Channel Mean   : {images[:, :, 0].mean() / 255:.5f}\")\n",
    "    print(f\"Green Channel Mean : {images[:, :, 1].mean() / 255:.5f}\")\n",
    "    print(f\"Blue Channel Mean  : {images[:, :, 2].mean() / 255:.5f}\")\n",
    "\n",
    "    breaker()\n",
    "    print(f\"Standard Deviation {size}x{size}\\n\")\n",
    "    print(f\"Red Channel Std   : {images[:, :, 0].std() / 255:.5f}\")\n",
    "    print(f\"Green Channel Std : {images[:, :, 1].std() / 255:.5f}\")\n",
    "    print(f\"Blue Channel Std  : {images[:, :, 2].std() / 255:.5f}\")\n",
    "    breaker()"
   ]
  },
  {
   "cell_type": "code",
   "execution_count": 3,
   "id": "45f3fabc",
   "metadata": {
    "execution": {
     "iopub.execute_input": "2022-03-28T07:39:58.140705Z",
     "iopub.status.busy": "2022-03-28T07:39:58.140011Z",
     "iopub.status.idle": "2022-03-28T07:40:42.154855Z",
     "shell.execute_reply": "2022-03-28T07:40:42.154049Z"
    },
    "papermill": {
     "duration": 44.025756,
     "end_time": "2022-03-28T07:40:42.155025",
     "exception": false,
     "start_time": "2022-03-28T07:39:58.129269",
     "status": "completed"
    },
    "tags": []
   },
   "outputs": [],
   "source": [
    "size = 224\n",
    "\n",
    "female_images = get_images(\"../input/32822venus-vs-mars/train/female\", \n",
    "                           os.listdir(\"../input/32822venus-vs-mars/train/female\"),\n",
    "                           size)\n",
    "male_images   = get_images(\"../input/32822venus-vs-mars/train/male\", \n",
    "                           os.listdir(\"../input/32822venus-vs-mars/train/male\"),\n",
    "                           size)  \n",
    "train_images = np.concatenate((female_images, male_images), axis=0)\n",
    "labels = np.concatenate((np.zeros((female_images.shape[0])), np.ones((male_images.shape[0]))), axis=0)\n",
    "\n",
    "test_images = get_images(\"../input/32822venus-vs-mars/test\", \n",
    "                         os.listdir(\"../input/32822venus-vs-mars/test\"),\n",
    "                         size)\n",
    "\n",
    "\n",
    "save(train_images, test_images, labels, size)"
   ]
  },
  {
   "cell_type": "code",
   "execution_count": 4,
   "id": "b7acc989",
   "metadata": {
    "execution": {
     "iopub.execute_input": "2022-03-28T07:40:42.169710Z",
     "iopub.status.busy": "2022-03-28T07:40:42.168983Z",
     "iopub.status.idle": "2022-03-28T07:41:03.054272Z",
     "shell.execute_reply": "2022-03-28T07:41:03.053682Z"
    },
    "papermill": {
     "duration": 20.893942,
     "end_time": "2022-03-28T07:41:03.054446",
     "exception": false,
     "start_time": "2022-03-28T07:40:42.160504",
     "status": "completed"
    },
    "tags": []
   },
   "outputs": [],
   "source": [
    "size = 256\n",
    "\n",
    "female_images = get_images(\"../input/32822venus-vs-mars/train/female\", \n",
    "                           os.listdir(\"../input/32822venus-vs-mars/train/female\"),\n",
    "                           size)\n",
    "male_images   = get_images(\"../input/32822venus-vs-mars/train/male\", \n",
    "                           os.listdir(\"../input/32822venus-vs-mars/train/male\"),\n",
    "                           size)  \n",
    "train_images = np.concatenate((female_images, male_images), axis=0)\n",
    "labels = np.concatenate((np.zeros((female_images.shape[0])), np.ones((male_images.shape[0]))), axis=0)\n",
    "\n",
    "test_images = get_images(\"../input/32822venus-vs-mars/test\", \n",
    "                         os.listdir(\"../input/32822venus-vs-mars/test\"),\n",
    "                         size)\n",
    "\n",
    "\n",
    "save(train_images, test_images, labels, size)"
   ]
  },
  {
   "cell_type": "code",
   "execution_count": 5,
   "id": "4f4ba1c6",
   "metadata": {
    "execution": {
     "iopub.execute_input": "2022-03-28T07:41:03.169059Z",
     "iopub.status.busy": "2022-03-28T07:41:03.165052Z",
     "iopub.status.idle": "2022-03-28T07:41:26.364927Z",
     "shell.execute_reply": "2022-03-28T07:41:26.365988Z"
    },
    "papermill": {
     "duration": 23.306284,
     "end_time": "2022-03-28T07:41:26.367031",
     "exception": false,
     "start_time": "2022-03-28T07:41:03.060747",
     "status": "completed"
    },
    "tags": []
   },
   "outputs": [],
   "source": [
    "size = 256\n",
    "\n",
    "female_images = get_images(\"../input/32822venus-vs-mars/train/female\", \n",
    "                           os.listdir(\"../input/32822venus-vs-mars/train/female\"),\n",
    "                           size)\n",
    "male_images   = get_images(\"../input/32822venus-vs-mars/train/male\", \n",
    "                           os.listdir(\"../input/32822venus-vs-mars/train/male\"),\n",
    "                           size)  \n",
    "train_images = np.concatenate((female_images, male_images), axis=0)\n",
    "labels = np.concatenate((np.zeros((female_images.shape[0])), np.ones((male_images.shape[0]))), axis=0)\n",
    "\n",
    "test_images = get_images(\"../input/32822venus-vs-mars/test\", \n",
    "                         os.listdir(\"../input/32822venus-vs-mars/test\"),\n",
    "                         size)\n",
    "\n",
    "\n",
    "save(train_images, test_images, labels, size)"
   ]
  }
 ],
 "metadata": {
  "kernelspec": {
   "display_name": "Python 3",
   "language": "python",
   "name": "python3"
  },
  "language_info": {
   "codemirror_mode": {
    "name": "ipython",
    "version": 3
   },
   "file_extension": ".py",
   "mimetype": "text/x-python",
   "name": "python",
   "nbconvert_exporter": "python",
   "pygments_lexer": "ipython3",
   "version": "3.7.12"
  },
  "papermill": {
   "default_parameters": {},
   "duration": 99.160153,
   "end_time": "2022-03-28T07:41:28.294609",
   "environment_variables": {},
   "exception": null,
   "input_path": "__notebook__.ipynb",
   "output_path": "__notebook__.ipynb",
   "parameters": {},
   "start_time": "2022-03-28T07:39:49.134456",
   "version": "2.3.3"
  }
 },
 "nbformat": 4,
 "nbformat_minor": 5
}
