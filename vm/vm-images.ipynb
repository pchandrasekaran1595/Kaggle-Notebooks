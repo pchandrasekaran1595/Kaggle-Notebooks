{
 "cells": [
  {
   "cell_type": "code",
   "execution_count": 1,
   "id": "444003d7",
   "metadata": {
    "_cell_guid": "b1076dfc-b9ad-4769-8c92-a6c4dae69d19",
    "_uuid": "8f2839f25d086af736a60e9eeb907d3b93b6e0e5",
    "execution": {
     "iopub.execute_input": "2022-04-25T07:54:03.906151Z",
     "iopub.status.busy": "2022-04-25T07:54:03.904855Z",
     "iopub.status.idle": "2022-04-25T07:54:04.266349Z",
     "shell.execute_reply": "2022-04-25T07:54:04.265499Z"
    },
    "papermill": {
     "duration": 0.371596,
     "end_time": "2022-04-25T07:54:04.266587",
     "exception": false,
     "start_time": "2022-04-25T07:54:03.894991",
     "status": "completed"
    },
    "tags": []
   },
   "outputs": [],
   "source": [
    "import os\n",
    "import cv2\n",
    "import numpy as np\n",
    "import pandas as pd"
   ]
  },
  {
   "cell_type": "code",
   "execution_count": 2,
   "id": "b0da2560",
   "metadata": {
    "execution": {
     "iopub.execute_input": "2022-04-25T07:54:04.295808Z",
     "iopub.status.busy": "2022-04-25T07:54:04.295042Z",
     "iopub.status.idle": "2022-04-25T07:54:04.298042Z",
     "shell.execute_reply": "2022-04-25T07:54:04.297378Z"
    },
    "papermill": {
     "duration": 0.024132,
     "end_time": "2022-04-25T07:54:04.298200",
     "exception": false,
     "start_time": "2022-04-25T07:54:04.274068",
     "status": "completed"
    },
    "tags": []
   },
   "outputs": [],
   "source": [
    "def breaker(num: int = 50, char: str = \"*\") -> None:\n",
    "    print(\"\\n\" + num*char + \"\\n\")\n",
    "\n",
    "\n",
    "def preprocess(image: np.ndarray, size: int) -> np.ndarray:\n",
    "    return cv2.resize(src=cv2.cvtColor(src=image, code=cv2.COLOR_BGR2RGB), dsize=(size, size), interpolation=cv2.INTER_AREA)\n",
    "\n",
    "\n",
    "def get_images(path: str, names: np.ndarray, size: int) -> np.ndarray:\n",
    "    images = np.zeros((len(names), size, size, 3), dtype=np.uint8)\n",
    "    \n",
    "    i = 0\n",
    "    for name in names:\n",
    "        images[i] = preprocess(cv2.imread(os.path.join(path, name), cv2.IMREAD_COLOR), size)\n",
    "        i += 1\n",
    "    return images\n",
    "\n",
    "\n",
    "def save(train_images: np.ndarray, test_images: np.ndarray, targets: np.ndarray, size: int) -> None:\n",
    "    np.save(f\"./train_images_{size}.npy\", train_images)\n",
    "    np.save(f\"./test_images_{size}.npy\", test_images)\n",
    "    np.save(f\"./targets_{size}.npy\", targets)\n",
    "\n",
    "\n",
    "def get_statistics(images: np.ndarray, size: int) -> None:\n",
    "    breaker()\n",
    "    print(f\"Mean {size}x{size}\\n\")\n",
    "    print(f\"Red Channel Mean   : {images[:, :, :, 0].mean() / 255:.5f}\")\n",
    "    print(f\"Green Channel Mean : {images[:, :, :, 1].mean() / 255:.5f}\")\n",
    "    print(f\"Blue Channel Mean  : {images[:, :, :, 2].mean() / 255:.5f}\")\n",
    "\n",
    "    breaker()\n",
    "    print(f\"Standard Deviation {size}x{size}\\n\")\n",
    "    print(f\"Red Channel Std   : {images[:, :, :, 0].std() / 255:.5f}\")\n",
    "    print(f\"Green Channel Std : {images[:, :, :, 1].std() / 255:.5f}\")\n",
    "    print(f\"Blue Channel Std  : {images[:, :, :, 2].std() / 255:.5f}\")\n",
    "    breaker()"
   ]
  },
  {
   "cell_type": "code",
   "execution_count": 3,
   "id": "b195b42d",
   "metadata": {
    "execution": {
     "iopub.execute_input": "2022-04-25T07:54:04.317797Z",
     "iopub.status.busy": "2022-04-25T07:54:04.317093Z",
     "iopub.status.idle": "2022-04-25T07:54:44.116654Z",
     "shell.execute_reply": "2022-04-25T07:54:44.115750Z"
    },
    "papermill": {
     "duration": 39.812529,
     "end_time": "2022-04-25T07:54:44.116812",
     "exception": false,
     "start_time": "2022-04-25T07:54:04.304283",
     "status": "completed"
    },
    "tags": []
   },
   "outputs": [],
   "source": [
    "size = 224\n",
    "\n",
    "female_images = get_images(\"../input/32822venus-vs-mars/train/female\", \n",
    "                           os.listdir(\"../input/32822venus-vs-mars/train/female\"),\n",
    "                           size)\n",
    "male_images   = get_images(\"../input/32822venus-vs-mars/train/male\", \n",
    "                           os.listdir(\"../input/32822venus-vs-mars/train/male\"),\n",
    "                           size)  \n",
    "train_images = np.concatenate((female_images, male_images), axis=0)\n",
    "labels = np.concatenate((np.zeros((female_images.shape[0])), np.ones((male_images.shape[0]))), axis=0)\n",
    "\n",
    "test_images = get_images(\"../input/32822venus-vs-mars/test\", \n",
    "                         os.listdir(\"../input/32822venus-vs-mars/test\"),\n",
    "                         size)\n",
    "\n",
    "\n",
    "save(train_images, test_images, labels, size)"
   ]
  },
  {
   "cell_type": "code",
   "execution_count": 4,
   "id": "fa2f7ce6",
   "metadata": {
    "execution": {
     "iopub.execute_input": "2022-04-25T07:54:44.135836Z",
     "iopub.status.busy": "2022-04-25T07:54:44.134895Z",
     "iopub.status.idle": "2022-04-25T07:55:07.690563Z",
     "shell.execute_reply": "2022-04-25T07:55:07.691374Z"
    },
    "papermill": {
     "duration": 23.569235,
     "end_time": "2022-04-25T07:55:07.691830",
     "exception": false,
     "start_time": "2022-04-25T07:54:44.122595",
     "status": "completed"
    },
    "tags": []
   },
   "outputs": [],
   "source": [
    "size = 256\n",
    "\n",
    "female_images = get_images(\"../input/32822venus-vs-mars/train/female\", \n",
    "                           os.listdir(\"../input/32822venus-vs-mars/train/female\"),\n",
    "                           size)\n",
    "male_images   = get_images(\"../input/32822venus-vs-mars/train/male\", \n",
    "                           os.listdir(\"../input/32822venus-vs-mars/train/male\"),\n",
    "                           size)  \n",
    "train_images = np.concatenate((female_images, male_images), axis=0)\n",
    "labels = np.concatenate((np.zeros((female_images.shape[0])), np.ones((male_images.shape[0]))), axis=0)\n",
    "\n",
    "test_images = get_images(\"../input/32822venus-vs-mars/test\", \n",
    "                         os.listdir(\"../input/32822venus-vs-mars/test\"),\n",
    "                         size)\n",
    "\n",
    "\n",
    "save(train_images, test_images, labels, size)"
   ]
  }
 ],
 "metadata": {
  "kernelspec": {
   "display_name": "Python 3",
   "language": "python",
   "name": "python3"
  },
  "language_info": {
   "codemirror_mode": {
    "name": "ipython",
    "version": 3
   },
   "file_extension": ".py",
   "mimetype": "text/x-python",
   "name": "python",
   "nbconvert_exporter": "python",
   "pygments_lexer": "ipython3",
   "version": "3.7.12"
  },
  "papermill": {
   "default_parameters": {},
   "duration": 74.41613,
   "end_time": "2022-04-25T07:55:08.614312",
   "environment_variables": {},
   "exception": null,
   "input_path": "__notebook__.ipynb",
   "output_path": "__notebook__.ipynb",
   "parameters": {},
   "start_time": "2022-04-25T07:53:54.198182",
   "version": "2.3.3"
  }
 },
 "nbformat": 4,
 "nbformat_minor": 5
}
