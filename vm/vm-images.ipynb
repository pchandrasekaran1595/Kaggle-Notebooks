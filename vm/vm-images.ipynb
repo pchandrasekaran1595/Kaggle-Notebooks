{
 "cells": [
  {
   "cell_type": "code",
   "execution_count": 1,
   "id": "1fd5527c",
   "metadata": {
    "_cell_guid": "b1076dfc-b9ad-4769-8c92-a6c4dae69d19",
    "_uuid": "8f2839f25d086af736a60e9eeb907d3b93b6e0e5",
    "execution": {
     "iopub.execute_input": "2022-03-28T06:53:12.764187Z",
     "iopub.status.busy": "2022-03-28T06:53:12.763379Z",
     "iopub.status.idle": "2022-03-28T06:53:13.143152Z",
     "shell.execute_reply": "2022-03-28T06:53:13.142285Z"
    },
    "papermill": {
     "duration": 0.395187,
     "end_time": "2022-03-28T06:53:13.143376",
     "exception": false,
     "start_time": "2022-03-28T06:53:12.748189",
     "status": "completed"
    },
    "tags": []
   },
   "outputs": [],
   "source": [
    "import os\n",
    "import cv2\n",
    "import numpy as np\n",
    "import pandas as pd"
   ]
  },
  {
   "cell_type": "code",
   "execution_count": 2,
   "id": "877880bf",
   "metadata": {
    "execution": {
     "iopub.execute_input": "2022-03-28T06:53:13.168013Z",
     "iopub.status.busy": "2022-03-28T06:53:13.167034Z",
     "iopub.status.idle": "2022-03-28T06:53:13.170692Z",
     "shell.execute_reply": "2022-03-28T06:53:13.170163Z"
    },
    "papermill": {
     "duration": 0.022302,
     "end_time": "2022-03-28T06:53:13.170840",
     "exception": false,
     "start_time": "2022-03-28T06:53:13.148538",
     "status": "completed"
    },
    "tags": []
   },
   "outputs": [],
   "source": [
    "def breaker(num: int = 50, char: str = \"*\") -> None:\n",
    "    print(\"\\n\" + num*char + \"\\n\")\n",
    "\n",
    "\n",
    "def preprocess(image: np.ndarray, size: int) -> np.ndarray:\n",
    "    return cv2.resize(src=cv2.cvtColor(src=image, code=cv2.COLOR_BGR2RGB), dsize=(size, size), interpolation=cv2.INTER_AREA)\n",
    "\n",
    "\n",
    "def get_images(path: str, names: np.ndarray, size: int) -> np.ndarray:\n",
    "    images = np.zeros((len(names), size, size, 3), dtype=np.uint8)\n",
    "    \n",
    "    i = 0\n",
    "    for name in names:\n",
    "        images[i] = preprocess(cv2.imread(os.path.join(path, name), cv2.IMREAD_COLOR), size)\n",
    "        i += 1\n",
    "    return images\n",
    "\n",
    "\n",
    "def save(train_images: np.ndarray, test_images: np.ndarray, targets: np.ndarray, size: int) -> None:\n",
    "    np.save(f\"./train_images_{size}.npy\", train_images)\n",
    "    np.save(f\"./test_images_{size}.npy\", test_images)\n",
    "    np.save(f\"./targets_{size}.npy\", targets)\n",
    "\n",
    "\n",
    "def get_statistics(images: np.ndarray, size: int) -> None:\n",
    "    breaker()\n",
    "    print(f\"Mean {size}x{size}\\n\")\n",
    "    print(f\"Red Channel Mean   : {images[:, :, 0].mean() / 255:.5f}\")\n",
    "    print(f\"Green Channel Mean : {images[:, :, 1].mean() / 255:.5f}\")\n",
    "    print(f\"Blue Channel Mean  : {images[:, :, 2].mean() / 255:.5f}\")\n",
    "\n",
    "    breaker()\n",
    "    print(f\"Standard Deviation {size}x{size}\\n\")\n",
    "    print(f\"Red Channel Std   : {images[:, :, 0].std() / 255:.5f}\")\n",
    "    print(f\"Green Channel Std : {images[:, :, 1].std() / 255:.5f}\")\n",
    "    print(f\"Blue Channel Std  : {images[:, :, 2].std() / 255:.5f}\")\n",
    "    breaker()"
   ]
  },
  {
   "cell_type": "code",
   "execution_count": 3,
   "id": "2611e7f0",
   "metadata": {
    "execution": {
     "iopub.execute_input": "2022-03-28T06:53:13.185533Z",
     "iopub.status.busy": "2022-03-28T06:53:13.184742Z",
     "iopub.status.idle": "2022-03-28T06:53:13.187153Z",
     "shell.execute_reply": "2022-03-28T06:53:13.186490Z"
    },
    "papermill": {
     "duration": 0.011883,
     "end_time": "2022-03-28T06:53:13.187325",
     "exception": false,
     "start_time": "2022-03-28T06:53:13.175442",
     "status": "completed"
    },
    "tags": []
   },
   "outputs": [],
   "source": [
    "folders = [\"female\", \"male\"]\n",
    "\n"
   ]
  }
 ],
 "metadata": {
  "kernelspec": {
   "display_name": "Python 3",
   "language": "python",
   "name": "python3"
  },
  "language_info": {
   "codemirror_mode": {
    "name": "ipython",
    "version": 3
   },
   "file_extension": ".py",
   "mimetype": "text/x-python",
   "name": "python",
   "nbconvert_exporter": "python",
   "pygments_lexer": "ipython3",
   "version": "3.7.12"
  },
  "papermill": {
   "default_parameters": {},
   "duration": 11.921239,
   "end_time": "2022-03-28T06:53:14.004445",
   "environment_variables": {},
   "exception": null,
   "input_path": "__notebook__.ipynb",
   "output_path": "__notebook__.ipynb",
   "parameters": {},
   "start_time": "2022-03-28T06:53:02.083206",
   "version": "2.3.3"
  }
 },
 "nbformat": 4,
 "nbformat_minor": 5
}
