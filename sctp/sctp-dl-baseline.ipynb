{
 "cells": [
  {
   "cell_type": "markdown",
   "id": "f83e5606",
   "metadata": {
    "_cell_guid": "b1076dfc-b9ad-4769-8c92-a6c4dae69d19",
    "_uuid": "8f2839f25d086af736a60e9eeb907d3b93b6e0e5",
    "papermill": {
     "duration": 0.013834,
     "end_time": "2022-04-02T03:22:57.584094",
     "exception": false,
     "start_time": "2022-04-02T03:22:57.570260",
     "status": "completed"
    },
    "tags": []
   },
   "source": [
    "### **Library Imports**"
   ]
  },
  {
   "cell_type": "code",
   "execution_count": 1,
   "id": "9075cde9",
   "metadata": {
    "execution": {
     "iopub.execute_input": "2022-04-02T03:22:57.621938Z",
     "iopub.status.busy": "2022-04-02T03:22:57.618672Z",
     "iopub.status.idle": "2022-04-02T03:22:59.998224Z",
     "shell.execute_reply": "2022-04-02T03:22:59.997521Z"
    },
    "papermill": {
     "duration": 2.400252,
     "end_time": "2022-04-02T03:22:59.998407",
     "exception": false,
     "start_time": "2022-04-02T03:22:57.598155",
     "status": "completed"
    },
    "tags": []
   },
   "outputs": [],
   "source": [
    "import os\n",
    "import re\n",
    "import torch\n",
    "import numpy as np\n",
    "import pandas as pd\n",
    "import matplotlib.pyplot as plt\n",
    "\n",
    "from time import time\n",
    "from torch import nn, optim\n",
    "from torch.utils.data import Dataset\n",
    "from torch.utils.data import DataLoader as DL\n",
    "from torch.nn.utils import weight_norm as WN\n",
    "\n",
    "from sklearn.preprocessing import StandardScaler\n",
    "from sklearn.model_selection import StratifiedKFold"
   ]
  },
  {
   "cell_type": "markdown",
   "id": "36f4dff0",
   "metadata": {
    "papermill": {
     "duration": 0.012206,
     "end_time": "2022-04-02T03:23:00.026516",
     "exception": false,
     "start_time": "2022-04-02T03:23:00.014310",
     "status": "completed"
    },
    "tags": []
   },
   "source": [
    "### **Utilites and Constants**"
   ]
  },
  {
   "cell_type": "code",
   "execution_count": 2,
   "id": "ca379692",
   "metadata": {
    "execution": {
     "iopub.execute_input": "2022-04-02T03:23:00.060862Z",
     "iopub.status.busy": "2022-04-02T03:23:00.059823Z",
     "iopub.status.idle": "2022-04-02T03:23:00.067433Z",
     "shell.execute_reply": "2022-04-02T03:23:00.068489Z"
    },
    "papermill": {
     "duration": 0.029753,
     "end_time": "2022-04-02T03:23:00.068792",
     "exception": false,
     "start_time": "2022-04-02T03:23:00.039039",
     "status": "completed"
    },
    "tags": []
   },
   "outputs": [],
   "source": [
    "SEED = 42\n",
    "\n",
    "\n",
    "def breaker(num: int = 50, char: str = \"*\") -> None:\n",
    "    print(\"\\n\" + num*char + \"\\n\")\n",
    "\n",
    "    \n",
    "def show_graphs(L: list, A: list) -> None:\n",
    "    TL, VL, TA, VA = [], [], [], []\n",
    "    for i in range(len(L)):\n",
    "        TL.append(L[i][\"train\"])\n",
    "        VL.append(L[i][\"valid\"])\n",
    "        TA.append(A[i][\"train\"])\n",
    "        VA.append(A[i][\"valid\"])\n",
    "    x_Axis = np.arange(1, len(TL) + 1)\n",
    "    plt.figure(figsize=(8, 6))\n",
    "    plt.subplot(1, 2, 1)\n",
    "    plt.plot(x_Axis, TL, \"r\", label=\"Train\")\n",
    "    plt.plot(x_Axis, VL, \"b\", label=\"Valid\")\n",
    "    plt.legend()\n",
    "    plt.grid()\n",
    "    plt.title(\"Loss Graph\")\n",
    "    plt.subplot(1, 2, 2)\n",
    "    plt.plot(x_Axis, TA, \"r\", label=\"Train\")\n",
    "    plt.plot(x_Axis, VA, \"b\", label=\"Valid\")\n",
    "    plt.legend()\n",
    "    plt.grid()\n",
    "    plt.title(\"Accuracy Graph\")\n",
    "    plt.show()"
   ]
  },
  {
   "cell_type": "markdown",
   "id": "4ca4b759",
   "metadata": {
    "papermill": {
     "duration": 0.013279,
     "end_time": "2022-04-02T03:23:00.096899",
     "exception": false,
     "start_time": "2022-04-02T03:23:00.083620",
     "status": "completed"
    },
    "tags": []
   },
   "source": [
    "### **Configuration**"
   ]
  },
  {
   "cell_type": "code",
   "execution_count": 3,
   "id": "6b193d34",
   "metadata": {
    "execution": {
     "iopub.execute_input": "2022-04-02T03:23:00.126500Z",
     "iopub.status.busy": "2022-04-02T03:23:00.125771Z",
     "iopub.status.idle": "2022-04-02T03:23:00.141145Z",
     "shell.execute_reply": "2022-04-02T03:23:00.141962Z"
    },
    "papermill": {
     "duration": 0.031948,
     "end_time": "2022-04-02T03:23:00.142166",
     "exception": false,
     "start_time": "2022-04-02T03:23:00.110218",
     "status": "completed"
    },
    "tags": []
   },
   "outputs": [],
   "source": [
    "class CFG(object):\n",
    "    def __init__(self, \n",
    "                 seed: int = 42,\n",
    "                 n_splits: int = 5,\n",
    "                 batch_size: int = 16,\n",
    "                 epochs: int = 25,\n",
    "                 early_stopping: int = 5,\n",
    "                 lr: float = 1e-4,\n",
    "                 wd: float = 0.0,\n",
    "                 max_lr: float = 1e-3,\n",
    "                 pct_start: float = 0.2,\n",
    "                 steps_per_epoch: int = 100,\n",
    "                 div_factor: int = 1e3, \n",
    "                 final_div_factor: float = 1e3,\n",
    "                 patience: int = 5,\n",
    "                 eps: float = 1e-8\n",
    "                 ):\n",
    "        \n",
    "        self.seed = seed\n",
    "        self.n_splits = n_splits\n",
    "        self.batch_size = batch_size\n",
    "        self.epochs = epochs\n",
    "        self.early_stopping = early_stopping\n",
    "        self.lr = lr\n",
    "        self.wd = wd\n",
    "        self.max_lr = max_lr\n",
    "        self.pct_start = pct_start\n",
    "        self.steps_per_epoch = steps_per_epoch\n",
    "        self.div_factor = div_factor\n",
    "        self.final_div_factor = final_div_factor\n",
    "        self.device = torch.device(\"cuda\" if torch.cuda.is_available() else \"cpu\")\n",
    "        self.save_path = \"saves\"\n",
    "        if not os.path.exists(self.save_path): os.makedirs(self.save_path)\n",
    "\n",
    "    \n",
    "cfg = CFG(seed=SEED)"
   ]
  },
  {
   "cell_type": "markdown",
   "id": "63497af8",
   "metadata": {
    "papermill": {
     "duration": 0.013672,
     "end_time": "2022-04-02T03:23:00.169150",
     "exception": false,
     "start_time": "2022-04-02T03:23:00.155478",
     "status": "completed"
    },
    "tags": []
   },
   "source": [
    "### **Dataset Template**"
   ]
  },
  {
   "cell_type": "code",
   "execution_count": null,
   "id": "d7d878dd",
   "metadata": {
    "papermill": {
     "duration": 0.012829,
     "end_time": "2022-04-02T03:23:00.196378",
     "exception": false,
     "start_time": "2022-04-02T03:23:00.183549",
     "status": "completed"
    },
    "tags": []
   },
   "outputs": [],
   "source": []
  },
  {
   "cell_type": "markdown",
   "id": "de97b23a",
   "metadata": {
    "papermill": {
     "duration": 0.013976,
     "end_time": "2022-04-02T03:23:00.224548",
     "exception": false,
     "start_time": "2022-04-02T03:23:00.210572",
     "status": "completed"
    },
    "tags": []
   },
   "source": [
    "### **Model**"
   ]
  },
  {
   "cell_type": "code",
   "execution_count": null,
   "id": "001be65d",
   "metadata": {
    "papermill": {
     "duration": 0.013211,
     "end_time": "2022-04-02T03:23:00.253292",
     "exception": false,
     "start_time": "2022-04-02T03:23:00.240081",
     "status": "completed"
    },
    "tags": []
   },
   "outputs": [],
   "source": []
  },
  {
   "cell_type": "markdown",
   "id": "fd113769",
   "metadata": {
    "papermill": {
     "duration": 0.01342,
     "end_time": "2022-04-02T03:23:00.280509",
     "exception": false,
     "start_time": "2022-04-02T03:23:00.267089",
     "status": "completed"
    },
    "tags": []
   },
   "source": [
    "### **Fit and Predict Helper**"
   ]
  },
  {
   "cell_type": "code",
   "execution_count": null,
   "id": "e45e7b7d",
   "metadata": {
    "papermill": {
     "duration": 0.013218,
     "end_time": "2022-04-02T03:23:00.307384",
     "exception": false,
     "start_time": "2022-04-02T03:23:00.294166",
     "status": "completed"
    },
    "tags": []
   },
   "outputs": [],
   "source": []
  },
  {
   "cell_type": "markdown",
   "id": "569bb516",
   "metadata": {
    "papermill": {
     "duration": 0.012636,
     "end_time": "2022-04-02T03:23:00.333465",
     "exception": false,
     "start_time": "2022-04-02T03:23:00.320829",
     "status": "completed"
    },
    "tags": []
   },
   "source": [
    "### **Train**"
   ]
  },
  {
   "cell_type": "code",
   "execution_count": null,
   "id": "05c78994",
   "metadata": {
    "papermill": {
     "duration": 0.013015,
     "end_time": "2022-04-02T03:23:00.360020",
     "exception": false,
     "start_time": "2022-04-02T03:23:00.347005",
     "status": "completed"
    },
    "tags": []
   },
   "outputs": [],
   "source": []
  },
  {
   "cell_type": "markdown",
   "id": "bb54f198",
   "metadata": {
    "papermill": {
     "duration": 0.012589,
     "end_time": "2022-04-02T03:23:00.385977",
     "exception": false,
     "start_time": "2022-04-02T03:23:00.373388",
     "status": "completed"
    },
    "tags": []
   },
   "source": [
    "### **Submission**"
   ]
  },
  {
   "cell_type": "code",
   "execution_count": null,
   "id": "6ca3db5b",
   "metadata": {
    "papermill": {
     "duration": 0.012625,
     "end_time": "2022-04-02T03:23:00.412018",
     "exception": false,
     "start_time": "2022-04-02T03:23:00.399393",
     "status": "completed"
    },
    "tags": []
   },
   "outputs": [],
   "source": []
  }
 ],
 "metadata": {
  "kernelspec": {
   "display_name": "Python 3",
   "language": "python",
   "name": "python3"
  },
  "language_info": {
   "codemirror_mode": {
    "name": "ipython",
    "version": 3
   },
   "file_extension": ".py",
   "mimetype": "text/x-python",
   "name": "python",
   "nbconvert_exporter": "python",
   "pygments_lexer": "ipython3",
   "version": "3.7.12"
  },
  "papermill": {
   "default_parameters": {},
   "duration": 14.083122,
   "end_time": "2022-04-02T03:23:01.338267",
   "environment_variables": {},
   "exception": null,
   "input_path": "__notebook__.ipynb",
   "output_path": "__notebook__.ipynb",
   "parameters": {},
   "start_time": "2022-04-02T03:22:47.255145",
   "version": "2.3.3"
  }
 },
 "nbformat": 4,
 "nbformat_minor": 5
}
