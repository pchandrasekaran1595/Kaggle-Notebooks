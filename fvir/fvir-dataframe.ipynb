{
 "cells": [
  {
   "cell_type": "code",
   "execution_count": 1,
   "id": "93a27d38",
   "metadata": {
    "_cell_guid": "b1076dfc-b9ad-4769-8c92-a6c4dae69d19",
    "_uuid": "8f2839f25d086af736a60e9eeb907d3b93b6e0e5",
    "execution": {
     "iopub.execute_input": "2023-01-17T06:30:21.119323Z",
     "iopub.status.busy": "2023-01-17T06:30:21.118658Z",
     "iopub.status.idle": "2023-01-17T06:30:21.316792Z",
     "shell.execute_reply": "2023-01-17T06:30:21.315397Z"
    },
    "papermill": {
     "duration": 0.206341,
     "end_time": "2023-01-17T06:30:21.319885",
     "exception": false,
     "start_time": "2023-01-17T06:30:21.113544",
     "status": "completed"
    },
    "tags": []
   },
   "outputs": [],
   "source": [
    "import os\n",
    "import cv2\n",
    "import json\n",
    "import numpy as np\n",
    "import pandas as pd\n",
    "\n",
    "BASE_PATH: str = \"/kaggle/input/fruit-and-vegetable-image-recognition\""
   ]
  },
  {
   "cell_type": "code",
   "execution_count": 2,
   "id": "65f60e3f",
   "metadata": {
    "execution": {
     "iopub.execute_input": "2023-01-17T06:30:21.326795Z",
     "iopub.status.busy": "2023-01-17T06:30:21.326385Z",
     "iopub.status.idle": "2023-01-17T06:30:21.344506Z",
     "shell.execute_reply": "2023-01-17T06:30:21.343080Z"
    },
    "papermill": {
     "duration": 0.024486,
     "end_time": "2023-01-17T06:30:21.346985",
     "exception": false,
     "start_time": "2023-01-17T06:30:21.322499",
     "status": "completed"
    },
    "tags": []
   },
   "outputs": [],
   "source": [
    "tr_df: pd.DataFrame = pd.DataFrame(data=None, columns=[\"filepaths\", \"labels\"])\n",
    "ts_df: pd.DataFrame = pd.DataFrame(data=None, columns=[\"filepaths\", \"labels\"])\n",
    "fu_df: pd.DataFrame = pd.DataFrame(data=None, columns=[\"filepaths\", \"labels\"])  "
   ]
  },
  {
   "cell_type": "code",
   "execution_count": 3,
   "id": "9bdadbf6",
   "metadata": {
    "execution": {
     "iopub.execute_input": "2023-01-17T06:30:21.353781Z",
     "iopub.status.busy": "2023-01-17T06:30:21.353187Z",
     "iopub.status.idle": "2023-01-17T06:30:23.211567Z",
     "shell.execute_reply": "2023-01-17T06:30:23.210497Z"
    },
    "papermill": {
     "duration": 1.86477,
     "end_time": "2023-01-17T06:30:23.214197",
     "exception": false,
     "start_time": "2023-01-17T06:30:21.349427",
     "status": "completed"
    },
    "tags": []
   },
   "outputs": [],
   "source": [
    "tr_filepaths: list = []\n",
    "tr_labels: list = []\n",
    "\n",
    "va_filepaths: list = []\n",
    "va_labels: list = []\n",
    "\n",
    "i: int = 0\n",
    "for folder in sorted(os.listdir(f\"{BASE_PATH}/train\")):\n",
    "    for filename in os.listdir(f\"{BASE_PATH}/train/{folder}\"):\n",
    "        tr_filepaths.append(os.path.join(f\"{BASE_PATH}/train/{folder}\", filename))\n",
    "        tr_labels.append(i)\n",
    "    i += 1\n",
    "\n",
    "    \n",
    "i: int = 0\n",
    "for folder in sorted(os.listdir(f\"{BASE_PATH}/validation\")):\n",
    "    for filename in os.listdir(f\"{BASE_PATH}/validation/{folder}\"):\n",
    "        va_filepaths.append(os.path.join(f\"{BASE_PATH}/validation/{folder}\", filename))\n",
    "        va_labels.append(i)\n",
    "    i += 1\n",
    "\n",
    "tr_df.filepaths = tr_filepaths + va_filepaths\n",
    "tr_df.labels = tr_labels + va_labels\n",
    "tr_df.to_csv(\"train.csv\", index=False)"
   ]
  },
  {
   "cell_type": "code",
   "execution_count": 4,
   "id": "086379e8",
   "metadata": {
    "execution": {
     "iopub.execute_input": "2023-01-17T06:30:23.220769Z",
     "iopub.status.busy": "2023-01-17T06:30:23.220385Z",
     "iopub.status.idle": "2023-01-17T06:30:23.487645Z",
     "shell.execute_reply": "2023-01-17T06:30:23.486497Z"
    },
    "papermill": {
     "duration": 0.273602,
     "end_time": "2023-01-17T06:30:23.490268",
     "exception": false,
     "start_time": "2023-01-17T06:30:23.216666",
     "status": "completed"
    },
    "tags": []
   },
   "outputs": [],
   "source": [
    "filepaths: list = []\n",
    "labels: list = []\n",
    "\n",
    "i: int = 0    \n",
    "for folder in sorted(os.listdir(f\"{BASE_PATH}/test\")):\n",
    "    for filename in os.listdir(f\"{BASE_PATH}/test/{folder}\"):\n",
    "        filepaths.append(os.path.join(f\"{BASE_PATH}/test/{folder}\", filename))\n",
    "        labels.append(i)\n",
    "    i += 1\n",
    "\n",
    "ts_df.filepaths = filepaths\n",
    "ts_df.labels = labels\n",
    "ts_df.to_csv(\"test.csv\", index=False)"
   ]
  },
  {
   "cell_type": "code",
   "execution_count": 5,
   "id": "9e828478",
   "metadata": {
    "execution": {
     "iopub.execute_input": "2023-01-17T06:30:23.497966Z",
     "iopub.status.busy": "2023-01-17T06:30:23.497167Z",
     "iopub.status.idle": "2023-01-17T06:30:23.534249Z",
     "shell.execute_reply": "2023-01-17T06:30:23.532922Z"
    },
    "papermill": {
     "duration": 0.044281,
     "end_time": "2023-01-17T06:30:23.537299",
     "exception": false,
     "start_time": "2023-01-17T06:30:23.493018",
     "status": "completed"
    },
    "tags": []
   },
   "outputs": [],
   "source": [
    "fu_df.filepaths = tr_filepaths + va_filepaths + filepaths\n",
    "fu_df.labels = tr_labels + va_labels + labels\n",
    "fu_df.to_csv(\"full.csv\", index=False)"
   ]
  },
  {
   "cell_type": "code",
   "execution_count": 6,
   "id": "92e9aa51",
   "metadata": {
    "execution": {
     "iopub.execute_input": "2023-01-17T06:30:23.544753Z",
     "iopub.status.busy": "2023-01-17T06:30:23.543983Z",
     "iopub.status.idle": "2023-01-17T06:30:23.551782Z",
     "shell.execute_reply": "2023-01-17T06:30:23.550557Z"
    },
    "papermill": {
     "duration": 0.014776,
     "end_time": "2023-01-17T06:30:23.554688",
     "exception": false,
     "start_time": "2023-01-17T06:30:23.539912",
     "status": "completed"
    },
    "tags": []
   },
   "outputs": [],
   "source": [
    "labels: dict = dict()\n",
    "\n",
    "i = 0\n",
    "for folder in sorted(os.listdir(f\"{BASE_PATH}/test\")):\n",
    "    labels[i] = folder\n",
    "    i += 1\n",
    "\n",
    "json.dump(labels, open(\"labels.json\", \"w\"))"
   ]
  }
 ],
 "metadata": {
  "kernelspec": {
   "display_name": "Python 3",
   "language": "python",
   "name": "python3"
  },
  "language_info": {
   "codemirror_mode": {
    "name": "ipython",
    "version": 3
   },
   "file_extension": ".py",
   "mimetype": "text/x-python",
   "name": "python",
   "nbconvert_exporter": "python",
   "pygments_lexer": "ipython3",
   "version": "3.7.12"
  },
  "papermill": {
   "default_parameters": {},
   "duration": 11.971354,
   "end_time": "2023-01-17T06:30:24.279722",
   "environment_variables": {},
   "exception": null,
   "input_path": "__notebook__.ipynb",
   "output_path": "__notebook__.ipynb",
   "parameters": {},
   "start_time": "2023-01-17T06:30:12.308368",
   "version": "2.3.4"
  }
 },
 "nbformat": 4,
 "nbformat_minor": 5
}
