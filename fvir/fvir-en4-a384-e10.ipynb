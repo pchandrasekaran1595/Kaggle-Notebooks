{
 "cells": [
  {
   "cell_type": "markdown",
   "id": "114d0859",
   "metadata": {
    "_cell_guid": "b1076dfc-b9ad-4769-8c92-a6c4dae69d19",
    "_uuid": "8f2839f25d086af736a60e9eeb907d3b93b6e0e5",
    "papermill": {
     "duration": 0.004651,
     "end_time": "2023-01-17T10:12:31.805866",
     "exception": false,
     "start_time": "2023-01-17T10:12:31.801215",
     "status": "completed"
    },
    "tags": []
   },
   "source": [
    "### **Setup**"
   ]
  },
  {
   "cell_type": "code",
   "execution_count": 1,
   "id": "de0edb3b",
   "metadata": {
    "execution": {
     "iopub.execute_input": "2023-01-17T10:12:31.815405Z",
     "iopub.status.busy": "2023-01-17T10:12:31.814377Z",
     "iopub.status.idle": "2023-01-17T10:12:42.770306Z",
     "shell.execute_reply": "2023-01-17T10:12:42.768756Z"
    },
    "papermill": {
     "duration": 10.9632,
     "end_time": "2023-01-17T10:12:42.772914",
     "exception": false,
     "start_time": "2023-01-17T10:12:31.809714",
     "status": "completed"
    },
    "tags": []
   },
   "outputs": [
    {
     "name": "stderr",
     "output_type": "stream",
     "text": [
      "WARNING: Running pip as the 'root' user can result in broken permissions and conflicting behaviour with the system package manager. It is recommended to use a virtual environment instead: https://pip.pypa.io/warnings/venv\n"
     ]
    }
   ],
   "source": [
    "%%bash\n",
    "pip install timm -q"
   ]
  },
  {
   "cell_type": "markdown",
   "id": "8813c339",
   "metadata": {
    "papermill": {
     "duration": 0.003609,
     "end_time": "2023-01-17T10:12:42.780685",
     "exception": false,
     "start_time": "2023-01-17T10:12:42.777076",
     "status": "completed"
    },
    "tags": []
   },
   "source": [
    "### **Library Imports**"
   ]
  },
  {
   "cell_type": "code",
   "execution_count": 2,
   "id": "6b14b85b",
   "metadata": {
    "execution": {
     "iopub.execute_input": "2023-01-17T10:12:42.789552Z",
     "iopub.status.busy": "2023-01-17T10:12:42.789222Z",
     "iopub.status.idle": "2023-01-17T10:12:46.994243Z",
     "shell.execute_reply": "2023-01-17T10:12:46.993219Z"
    },
    "papermill": {
     "duration": 4.212371,
     "end_time": "2023-01-17T10:12:46.996645",
     "exception": false,
     "start_time": "2023-01-17T10:12:42.784274",
     "status": "completed"
    },
    "tags": []
   },
   "outputs": [],
   "source": [
    "import os\n",
    "import re\n",
    "import cv2\n",
    "import timm\n",
    "import torch\n",
    "import numpy as np\n",
    "import pandas as pd\n",
    "import matplotlib.pyplot as plt\n",
    "\n",
    "from time import time\n",
    "from PIL import Image\n",
    "from typing import Union\n",
    "from torch import nn, optim\n",
    "from torch.utils.data import Dataset\n",
    "from torch.utils.data import DataLoader as DL\n",
    "from torchvision import transforms\n",
    "\n",
    "from sklearn.model_selection import StratifiedKFold"
   ]
  },
  {
   "cell_type": "markdown",
   "id": "502a2b7c",
   "metadata": {
    "papermill": {
     "duration": 0.003501,
     "end_time": "2023-01-17T10:12:47.004317",
     "exception": false,
     "start_time": "2023-01-17T10:12:47.000816",
     "status": "completed"
    },
    "tags": []
   },
   "source": [
    "### **Utilities and Helpers**"
   ]
  },
  {
   "cell_type": "code",
   "execution_count": 3,
   "id": "105b44d6",
   "metadata": {
    "execution": {
     "iopub.execute_input": "2023-01-17T10:12:47.014437Z",
     "iopub.status.busy": "2023-01-17T10:12:47.012766Z",
     "iopub.status.idle": "2023-01-17T10:12:47.026816Z",
     "shell.execute_reply": "2023-01-17T10:12:47.025969Z"
    },
    "papermill": {
     "duration": 0.021176,
     "end_time": "2023-01-17T10:12:47.029015",
     "exception": false,
     "start_time": "2023-01-17T10:12:47.007839",
     "status": "completed"
    },
    "tags": []
   },
   "outputs": [],
   "source": [
    "SEED: int = 42\n",
    "SIZE: int = 384\n",
    "\n",
    "\n",
    "def breaker(num: int=50, char: str=\"*\") -> None: print(\"\\n\" + num*char + \"\\n\")\n",
    "\n",
    "    \n",
    "def get_image(path: str, size: int=224) -> np.ndarray:\n",
    "    image = cv2.imread(path, cv2.IMREAD_COLOR)\n",
    "    if image is None:\n",
    "        image = np.array(Image.open(path).convert(\"RGB\"))\n",
    "    else:\n",
    "        image = cv2.cvtColor(src=image, code=cv2.COLOR_BGR2RGB)\n",
    "    if image.shape == (224, 224, 3) and size == 224: return image\n",
    "    return cv2.resize(src=image, dsize=(size, size), interpolation=cv2.INTER_AREA)\n",
    "\n",
    "    \n",
    "def show_loss_graphs(L: list) -> None:\n",
    "    TL, VL = [], []\n",
    "    for i in range(len(L)):\n",
    "        TL.append(L[i][\"train\"])\n",
    "        VL.append(L[i][\"valid\"])\n",
    "    x_Axis = np.arange(1, len(TL) + 1)\n",
    "    plt.figure()\n",
    "    plt.plot(x_Axis, TL, \"r\", label=\"Train\")\n",
    "    plt.plot(x_Axis, VL, \"b\", label=\"Valid\")\n",
    "    plt.legend()\n",
    "    plt.grid()\n",
    "    plt.title(\"Loss Graph\")\n",
    "    plt.show()\n",
    "\n",
    "    \n",
    "def show_accuracy_graphs(A: list) -> None:\n",
    "    TA, VA = [], []\n",
    "    for i in range(len(A)):\n",
    "        TA.append(A[i][\"train\"])\n",
    "        VA.append(A[i][\"valid\"])\n",
    "    x_Axis = np.arange(1, len(TA) + 1)\n",
    "    plt.figure()\n",
    "    plt.plot(x_Axis, TA, \"r\", label=\"Train\")\n",
    "    plt.plot(x_Axis, VA, \"b\", label=\"Valid\")\n",
    "    plt.legend()\n",
    "    plt.grid()\n",
    "    plt.title(\"Accuracy Graph\")\n",
    "    plt.show()\n",
    "    \n",
    "\n",
    "def show_lr_graph(LR: list) -> None:\n",
    "    x_Axis = [i+1 for i in range(len(LR))]\n",
    "    plt.figure(figsize=(8, 6))\n",
    "    plt.plot(x_Axis, LR, \"rx\")\n",
    "    plt.grid()\n",
    "    plt.show()"
   ]
  },
  {
   "cell_type": "markdown",
   "id": "40e3791e",
   "metadata": {
    "papermill": {
     "duration": 0.003476,
     "end_time": "2023-01-17T10:12:47.036179",
     "exception": false,
     "start_time": "2023-01-17T10:12:47.032703",
     "status": "completed"
    },
    "tags": []
   },
   "source": [
    "\n",
    "\n",
    "### **Configuration**"
   ]
  },
  {
   "cell_type": "code",
   "execution_count": 4,
   "id": "3885c659",
   "metadata": {
    "execution": {
     "iopub.execute_input": "2023-01-17T10:12:47.045034Z",
     "iopub.status.busy": "2023-01-17T10:12:47.044767Z",
     "iopub.status.idle": "2023-01-17T10:12:47.126834Z",
     "shell.execute_reply": "2023-01-17T10:12:47.125918Z"
    },
    "papermill": {
     "duration": 0.088969,
     "end_time": "2023-01-17T10:12:47.128919",
     "exception": false,
     "start_time": "2023-01-17T10:12:47.039950",
     "status": "completed"
    },
    "tags": []
   },
   "outputs": [],
   "source": [
    "class CFG(object):\n",
    "    def __init__(self,\n",
    "             seed: int = 42,\n",
    "             size: int = 224,\n",
    "             n_splits: int = 5,\n",
    "             batch_size: int = 16,\n",
    "             epochs: int = 25,\n",
    "             early_stopping: int = 5,\n",
    "             lr: float = 1e-4,\n",
    "             wd: float = 0.0,\n",
    "             max_lr: float = 1e-3,\n",
    "             pct_start: float = 0.2,\n",
    "             steps_per_epoch: int = 100,\n",
    "             div_factor: int = 1e3, \n",
    "             final_div_factor: float = 1e3,\n",
    "         ):\n",
    "        self.seed = seed\n",
    "        self.size = size\n",
    "        self.n_splits = n_splits\n",
    "        self.batch_size = batch_size\n",
    "        self.epochs = epochs\n",
    "        self.early_stopping = early_stopping\n",
    "        self.lr = lr\n",
    "        self.wd = wd\n",
    "        self.max_lr = max_lr\n",
    "        self.pct_start = pct_start\n",
    "        self.steps_per_epoch = steps_per_epoch\n",
    "        self.div_factor = div_factor\n",
    "        self.final_div_factor = final_div_factor\n",
    "        self.device = torch.device(\"cuda\" if torch.cuda.is_available() else \"cpu\")\n",
    "        \n",
    "        if self.size == 224:\n",
    "            self.train_transform = transforms.Compose([\n",
    "                transforms.ToTensor(),\n",
    "                transforms.Normalize([0.63099, 0.58213, 0.42934], [0.22372, 0.23136, 0.25953]),\n",
    "                transforms.RandomAffine(degrees=(-45, 45), translate=(0.15, 0.15), scale=(0.5, 1.5)),\n",
    "                transforms.RandomHorizontalFlip(p=0.25),\n",
    "                transforms.RandomVerticalFlip(p=0.25),\n",
    "            ])\n",
    "            self.valid_transform = transforms.Compose([\n",
    "                transforms.ToTensor(),\n",
    "                transforms.Normalize([0.63099, 0.58213, 0.42934], [0.22372, 0.23136, 0.25953]),\n",
    "            ])\n",
    "        \n",
    "        if self.size == 384:\n",
    "            self.train_transform = transforms.Compose([\n",
    "                transforms.ToTensor(),\n",
    "                transforms.Normalize([0.63097, 0.58210, 0.42931], [0.22553, 0.23322, 0.26161]),\n",
    "                transforms.RandomAffine(degrees=(-45, 45), translate=(0.15, 0.15), scale=(0.5, 1.5)),\n",
    "                transforms.RandomHorizontalFlip(p=0.25),\n",
    "                transforms.RandomVerticalFlip(p=0.25),\n",
    "            ])\n",
    "            self.valid_transform = transforms.Compose([\n",
    "                transforms.ToTensor(),\n",
    "                transforms.Normalize([0.63097, 0.58210, 0.42931], [0.22553, 0.23322, 0.26161]),\n",
    "            ])\n",
    "        \n",
    "        if self.size == 512:\n",
    "            self.train_transform = transforms.Compose([\n",
    "                transforms.ToTensor(),\n",
    "                transforms.Normalize([0.63095, 0.58208, 0.42929], [0.22617, 0.23387, 0.26233]),\n",
    "                transforms.RandomAffine(degrees=(-45, 45), translate=(0.15, 0.15), scale=(0.5, 1.5)),\n",
    "                transforms.RandomHorizontalFlip(p=0.25),\n",
    "                transforms.RandomVerticalFlip(p=0.25),\n",
    "            ])\n",
    "            self.valid_transform = transforms.Compose([\n",
    "                transforms.ToTensor(),\n",
    "                transforms.Normalize([0.63095, 0.58208, 0.42929], [0.22617, 0.23387, 0.26233]),\n",
    "            ])\n",
    "                                \n",
    "        self.save_path = \"saves\"\n",
    "        if not os.path.exists(self.save_path): os.makedirs(self.save_path)\n",
    "    \n",
    "cfg = CFG(\n",
    "    seed=SEED, \n",
    "    size=SIZE\n",
    ")"
   ]
  },
  {
   "cell_type": "markdown",
   "id": "2e545dd0",
   "metadata": {
    "papermill": {
     "duration": 0.003643,
     "end_time": "2023-01-17T10:12:47.136417",
     "exception": false,
     "start_time": "2023-01-17T10:12:47.132774",
     "status": "completed"
    },
    "tags": []
   },
   "source": [
    "### **Dataset Template**"
   ]
  },
  {
   "cell_type": "code",
   "execution_count": 5,
   "id": "c86aa4e7",
   "metadata": {
    "execution": {
     "iopub.execute_input": "2023-01-17T10:12:47.145224Z",
     "iopub.status.busy": "2023-01-17T10:12:47.144937Z",
     "iopub.status.idle": "2023-01-17T10:12:47.151875Z",
     "shell.execute_reply": "2023-01-17T10:12:47.150779Z"
    },
    "papermill": {
     "duration": 0.013591,
     "end_time": "2023-01-17T10:12:47.153858",
     "exception": false,
     "start_time": "2023-01-17T10:12:47.140267",
     "status": "completed"
    },
    "tags": []
   },
   "outputs": [],
   "source": [
    "class DS(Dataset):\n",
    "    def __init__(\n",
    "        self, \n",
    "        filepaths: np.ndarray, \n",
    "        size: int,\n",
    "        labels: Union[np.ndarray, None]=None, \n",
    "        transform=None\n",
    "    ):\n",
    "        \n",
    "        self.filepaths = filepaths\n",
    "        self.labels = labels\n",
    "        self.size = size\n",
    "        self.transform = transform\n",
    "    \n",
    "    def __len__(self):\n",
    "        return self.filepaths.shape[0]\n",
    "    \n",
    "    def __getitem__(self, idx):\n",
    "        image = get_image(self.filepaths[idx], self.size)\n",
    "        if self.labels is None:\n",
    "            return self.transform(image)\n",
    "        return self.transform(image), torch.LongTensor(self.labels[idx])"
   ]
  },
  {
   "cell_type": "markdown",
   "id": "bd47eb92",
   "metadata": {
    "papermill": {
     "duration": 0.003782,
     "end_time": "2023-01-17T10:12:47.161394",
     "exception": false,
     "start_time": "2023-01-17T10:12:47.157612",
     "status": "completed"
    },
    "tags": []
   },
   "source": [
    "### **Model**"
   ]
  },
  {
   "cell_type": "code",
   "execution_count": 6,
   "id": "87c6195a",
   "metadata": {
    "execution": {
     "iopub.execute_input": "2023-01-17T10:12:47.170473Z",
     "iopub.status.busy": "2023-01-17T10:12:47.169718Z",
     "iopub.status.idle": "2023-01-17T10:12:47.175520Z",
     "shell.execute_reply": "2023-01-17T10:12:47.174678Z"
    },
    "papermill": {
     "duration": 0.012424,
     "end_time": "2023-01-17T10:12:47.177543",
     "exception": false,
     "start_time": "2023-01-17T10:12:47.165119",
     "status": "completed"
    },
    "tags": []
   },
   "outputs": [],
   "source": [
    "class Model(nn.Module):\n",
    "    def __init__(self):\n",
    "        super(Model, self).__init__()\n",
    "            \n",
    "        self.model = timm.create_model(model_name=\"efficientnet_b4\", pretrained=True)\n",
    "        self.model.classifier = nn.Linear(in_features=self.model.classifier.in_features, out_features=36)\n",
    "\n",
    "    def forward(self, x):\n",
    "        return nn.LogSoftmax(dim=1)(self.model(x))"
   ]
  },
  {
   "cell_type": "markdown",
   "id": "88b31771",
   "metadata": {
    "papermill": {
     "duration": 0.003631,
     "end_time": "2023-01-17T10:12:47.185113",
     "exception": false,
     "start_time": "2023-01-17T10:12:47.181482",
     "status": "completed"
    },
    "tags": []
   },
   "source": [
    "### **Fit and Predict**"
   ]
  },
  {
   "cell_type": "code",
   "execution_count": 7,
   "id": "362d22c0",
   "metadata": {
    "execution": {
     "iopub.execute_input": "2023-01-17T10:12:47.194294Z",
     "iopub.status.busy": "2023-01-17T10:12:47.194009Z",
     "iopub.status.idle": "2023-01-17T10:12:47.214604Z",
     "shell.execute_reply": "2023-01-17T10:12:47.213648Z"
    },
    "papermill": {
     "duration": 0.027596,
     "end_time": "2023-01-17T10:12:47.216482",
     "exception": false,
     "start_time": "2023-01-17T10:12:47.188886",
     "status": "completed"
    },
    "tags": []
   },
   "outputs": [],
   "source": [
    "def fit(\n",
    "    model=None,\n",
    "    optimizer=None, \n",
    "    scheduler_rlrop=None,\n",
    "    scheduler_oclr=None,\n",
    "    epochs=None, \n",
    "    early_stopping_patience=None, \n",
    "    dataloaders=None, \n",
    "    fold=None, \n",
    "    save_path=None,\n",
    "    device=None,\n",
    "    verbose=False\n",
    ") -> tuple:\n",
    "    \n",
    "    def get_accuracy(y_pred, y_true):\n",
    "        y_pred = torch.argmax(y_pred, dim=1)\n",
    "        return torch.count_nonzero(y_pred == y_true).item() / len(y_pred)\n",
    "    \n",
    "    \n",
    "    if verbose:\n",
    "        breaker()\n",
    "        if fold: print(f\"Training Fold {fold}...\")\n",
    "        else: print(\"Training ...\")\n",
    "        breaker()\n",
    "        \n",
    "    bestLoss: dict = {\"train\" : np.inf, \"valid\" : np.inf} \n",
    "    bestAccs: dict = {\"train\" : 0.0, \"valid\" : 0.0}\n",
    "    \n",
    "    Losses: list = []\n",
    "    Accuracies: list = [] \n",
    "    LRs: list = []\n",
    "        \n",
    "    if fold: \n",
    "        ble_name = f\"ble_state_fold_{fold}.pt\"\n",
    "        bae_name = f\"bae_state_fold_{fold}.pt\"\n",
    "    else: \n",
    "        ble_name = f\"ble_state.pt\"\n",
    "        bae_name = f\"bae_state.pt\"\n",
    "        \n",
    "    start_time = time()\n",
    "    for e in range(epochs):\n",
    "        e_st = time()\n",
    "        epochLoss: dict = {\"train\" : 0.0, \"valid\" : 0.0} \n",
    "        epochAccs: dict = {\"train\" : 0.0, \"valid\" : 0.0}\n",
    "\n",
    "        for phase in [\"train\", \"valid\"]:\n",
    "            if phase == \"train\":\n",
    "                model.train()\n",
    "            else:\n",
    "                model.eval()\n",
    "            \n",
    "            lossPerPass: list = []\n",
    "            accsPerPass: list = []\n",
    "                \n",
    "            for X, y in dataloaders[phase]:\n",
    "                X, y = X.to(device), y.to(device).view(-1)\n",
    "\n",
    "                optimizer.zero_grad()\n",
    "                with torch.set_grad_enabled(phase == \"train\"):\n",
    "                    output = model(X)\n",
    "                    loss = nn.NLLLoss()(output, y)\n",
    "                    if phase == \"train\":\n",
    "                        loss.backward()\n",
    "                        optimizer.step()\n",
    "                        if scheduler_oclr: scheduler_oclr.step()\n",
    "                lossPerPass.append(loss.item())\n",
    "                accsPerPass.append(get_accuracy(output, y))\n",
    "            epochLoss[phase] = np.mean(np.array(lossPerPass))\n",
    "            epochAccs[phase] = np.mean(np.array(accsPerPass))\n",
    "        if scheduler_oclr: LRs.append(scheduler_oclr.get_last_lr())\n",
    "        Losses.append(epochLoss)\n",
    "        Accuracies.append(epochAccs)\n",
    "        \n",
    "        if scheduler_oclr:\n",
    "            save_dict = {\"model_state_dict\"     : model.state_dict(),\n",
    "                         \"optim_state_dict\"     : optimizer.state_dict(),\n",
    "                         \"scheduler_state_dict\" : scheduler_oclr.state_dict()}\n",
    "        \n",
    "        elif scheduler_rlrop:\n",
    "            save_dict = {\"model_state_dict\"     : model.state_dict(),\n",
    "                         \"optim_state_dict\"     : optimizer.state_dict(),\n",
    "                         \"scheduler_state_dict\" : scheduler_rlrop.state_dict()}\n",
    "        \n",
    "        else:\n",
    "            save_dict = {\"model_state_dict\"     : model.state_dict(),\n",
    "                         \"optim_state_dict\"     : optimizer.state_dict()}\n",
    "        \n",
    "        if early_stopping_patience:\n",
    "            if epochLoss[\"valid\"] < bestLoss[\"valid\"]:\n",
    "                bestLoss = epochLoss\n",
    "                BLE = e + 1\n",
    "                torch.save(save_dict, os.path.join(save_path, ble_name))\n",
    "                torch.save(save_dict, os.path.join(save_path, bae_name))\n",
    "                early_stopping_step = 0\n",
    "            else:\n",
    "                early_stopping_step += 1\n",
    "                if early_stopping_step > early_stopping_patience:\n",
    "                    print(\"\\nEarly Stopping at Epoch {}\".format(e + 1))\n",
    "                    break\n",
    "        \n",
    "        if epochLoss[\"valid\"] < bestLoss[\"valid\"]:\n",
    "            bestLoss = epochLoss\n",
    "            BLE = e + 1\n",
    "            torch.save(save_dict,os.path.join(save_path, ble_name))\n",
    "        \n",
    "        if epochAccs[\"valid\"] > bestAccs[\"valid\"]:\n",
    "            bestAccs = epochAccs\n",
    "            BAE = e + 1\n",
    "            torch.save(save_dict,os.path.join(save_path, bae_name))\n",
    "        \n",
    "        if scheduler_rlrop: scheduler_rlrop.step(epochLoss[\"valid\"])\n",
    "        \n",
    "        if verbose:\n",
    "            print(\"Epoch: {} | Train Loss: {:.5f} | Valid Loss: {:.5f} |\\\n",
    " Train Accs: {:.5f} | Valid Accs: {:.5f} | Time: {:.2f} seconds\".format(e+1, \n",
    "                                                                        epochLoss[\"train\"], epochLoss[\"valid\"], \n",
    "                                                                        epochAccs[\"train\"], epochAccs[\"valid\"], \n",
    "                                                                        time()-e_st))\n",
    "\n",
    "    if verbose:                                           \n",
    "        breaker()\n",
    "        print(f\"Best Validation Loss at Epoch {BLE}\")\n",
    "        breaker()\n",
    "        print(f\"Best Validation Accs at Epoch {BAE}\")\n",
    "        breaker()\n",
    "        print(\"Time Taken [{} Epochs] : {:.2f} minutes\".format(len(Losses), (time()-start_time)/60))\n",
    "    \n",
    "    return Losses, Accuracies, LRs, bestLoss, bestAccs, BLE, BAE, ble_name, bae_name\n",
    "\n",
    "\n",
    "# def predict_batch(model=None, dataloader=None, path=None, device=None) -> np.ndarray:\n",
    "#     model.load_state_dict(torch.load(path, map_location=device)[\"model_state_dict\"])\n",
    "#     model.to(device)    \n",
    "#     model.eval()\n",
    "    \n",
    "#     y_pred = torch.zeros(1, 1).to(device)\n",
    "    \n",
    "#     for X in dataloader:\n",
    "#         X = X.to(device)\n",
    "#         with torch.no_grad():\n",
    "#             output = torch.argmax(torch.exp(model(X)), dim=1)\n",
    "#         y_pred = torch.cat((y_pred, output.view(-1, 1)), dim=0)\n",
    "    \n",
    "#     return y_pred[1:].detach().cpu().numpy()"
   ]
  },
  {
   "cell_type": "markdown",
   "id": "11850ec4",
   "metadata": {
    "papermill": {
     "duration": 0.004497,
     "end_time": "2023-01-17T10:12:47.224985",
     "exception": false,
     "start_time": "2023-01-17T10:12:47.220488",
     "status": "completed"
    },
    "tags": []
   },
   "source": [
    "### **Train**"
   ]
  },
  {
   "cell_type": "code",
   "execution_count": 8,
   "id": "632662ef",
   "metadata": {
    "execution": {
     "iopub.execute_input": "2023-01-17T10:12:47.233883Z",
     "iopub.status.busy": "2023-01-17T10:12:47.233632Z",
     "iopub.status.idle": "2023-01-17T10:12:47.271850Z",
     "shell.execute_reply": "2023-01-17T10:12:47.271039Z"
    },
    "papermill": {
     "duration": 0.04495,
     "end_time": "2023-01-17T10:12:47.273767",
     "exception": false,
     "start_time": "2023-01-17T10:12:47.228817",
     "status": "completed"
    },
    "tags": []
   },
   "outputs": [],
   "source": [
    "df = pd.read_csv(\"/kaggle/input/fvir-dataframe/train.csv\")\n",
    "\n",
    "filepaths = df.filepaths.copy().values\n",
    "labels = df.labels.copy().values"
   ]
  },
  {
   "cell_type": "code",
   "execution_count": 9,
   "id": "9797ae53",
   "metadata": {
    "execution": {
     "iopub.execute_input": "2023-01-17T10:12:47.283158Z",
     "iopub.status.busy": "2023-01-17T10:12:47.282878Z",
     "iopub.status.idle": "2023-01-17T14:20:12.357924Z",
     "shell.execute_reply": "2023-01-17T14:20:12.355812Z"
    },
    "papermill": {
     "duration": 14845.082383,
     "end_time": "2023-01-17T14:20:12.360175",
     "exception": false,
     "start_time": "2023-01-17T10:12:47.277792",
     "status": "completed"
    },
    "tags": []
   },
   "outputs": [
    {
     "name": "stderr",
     "output_type": "stream",
     "text": [
      "Downloading: \"https://github.com/rwightman/pytorch-image-models/releases/download/v0.1-weights/efficientnet_b4_ra2_320-7eb33cd5.pth\" to /root/.cache/torch/hub/checkpoints/efficientnet_b4_ra2_320-7eb33cd5.pth\n"
     ]
    },
    {
     "name": "stdout",
     "output_type": "stream",
     "text": [
      "\n",
      "**************************************************\n",
      "\n",
      "Training Fold 1...\n",
      "\n",
      "**************************************************\n",
      "\n",
      "Epoch: 1 | Train Loss: 2.96718 | Valid Loss: 0.79083 | Train Accs: 0.27802 | Valid Accs: 0.77131 | Time: 331.58 seconds\n",
      "Epoch: 2 | Train Loss: 0.77676 | Valid Loss: 0.67989 | Train Accs: 0.76114 | Valid Accs: 0.78977 | Time: 299.58 seconds\n",
      "Epoch: 3 | Train Loss: 0.51116 | Valid Loss: 0.56020 | Train Accs: 0.83261 | Valid Accs: 0.83381 | Time: 294.74 seconds\n",
      "Epoch: 4 | Train Loss: 0.35565 | Valid Loss: 0.60247 | Train Accs: 0.87500 | Valid Accs: 0.82434 | Time: 297.25 seconds\n",
      "Epoch: 5 | Train Loss: 0.27874 | Valid Loss: 0.49606 | Train Accs: 0.90014 | Valid Accs: 0.86648 | Time: 297.17 seconds\n",
      "Epoch: 6 | Train Loss: 0.19987 | Valid Loss: 0.45123 | Train Accs: 0.92636 | Valid Accs: 0.86695 | Time: 299.21 seconds\n",
      "Epoch: 7 | Train Loss: 0.13953 | Valid Loss: 0.41723 | Train Accs: 0.94612 | Valid Accs: 0.87216 | Time: 297.11 seconds\n",
      "Epoch: 8 | Train Loss: 0.10450 | Valid Loss: 0.42978 | Train Accs: 0.95905 | Valid Accs: 0.88210 | Time: 296.90 seconds\n",
      "Epoch: 9 | Train Loss: 0.07861 | Valid Loss: 0.43776 | Train Accs: 0.97270 | Valid Accs: 0.88210 | Time: 295.77 seconds\n",
      "Epoch: 10 | Train Loss: 0.07355 | Valid Loss: 0.46424 | Train Accs: 0.97342 | Valid Accs: 0.88210 | Time: 294.27 seconds\n",
      "\n",
      "**************************************************\n",
      "\n",
      "Best Validation Loss at Epoch 7\n",
      "\n",
      "**************************************************\n",
      "\n",
      "Best Validation Accs at Epoch 8\n",
      "\n",
      "**************************************************\n",
      "\n",
      "Time Taken [10 Epochs] : 50.06 minutes\n",
      "\n",
      "**************************************************\n",
      "\n"
     ]
    },
    {
     "data": {
      "image/png": "[encoded data removed]",
      "text/plain": [
       "<Figure size 432x288 with 1 Axes>"
      ]
     },
     "metadata": {
      "needs_background": "light"
     },
     "output_type": "display_data"
    },
    {
     "name": "stdout",
     "output_type": "stream",
     "text": [
      "\n",
      "**************************************************\n",
      "\n"
     ]
    },
    {
     "data": {
      "image/png": "[encoded data removed]",
      "text/plain": [
       "<Figure size 432x288 with 1 Axes>"
      ]
     },
     "metadata": {
      "needs_background": "light"
     },
     "output_type": "display_data"
    },
    {
     "name": "stdout",
     "output_type": "stream",
     "text": [
      "\n",
      "**************************************************\n",
      "\n"
     ]
    },
    {
     "data": {
      "image/png": "[encoded data removed]",
      "text/plain": [
       "<Figure size 576x432 with 1 Axes>"
      ]
     },
     "metadata": {
      "needs_background": "light"
     },
     "output_type": "display_data"
    },
    {
     "name": "stdout",
     "output_type": "stream",
     "text": [
      "\n",
      "**************************************************\n",
      "\n",
      "\n",
      "**************************************************\n",
      "\n",
      "Training Fold 2...\n",
      "\n",
      "**************************************************\n",
      "\n",
      "Epoch: 1 | Train Loss: 2.94661 | Valid Loss: 0.78398 | Train Accs: 0.28333 | Valid Accs: 0.75284 | Time: 297.92 seconds\n",
      "Epoch: 2 | Train Loss: 0.78124 | Valid Loss: 0.58562 | Train Accs: 0.76178 | Valid Accs: 0.81676 | Time: 296.06 seconds\n",
      "Epoch: 3 | Train Loss: 0.52049 | Valid Loss: 0.57417 | Train Accs: 0.82500 | Valid Accs: 0.83239 | Time: 297.10 seconds\n",
      "Epoch: 4 | Train Loss: 0.38062 | Valid Loss: 0.50234 | Train Accs: 0.87464 | Valid Accs: 0.83381 | Time: 296.92 seconds\n",
      "Epoch: 5 | Train Loss: 0.24770 | Valid Loss: 0.58405 | Train Accs: 0.91408 | Valid Accs: 0.84375 | Time: 295.32 seconds\n",
      "Epoch: 6 | Train Loss: 0.19099 | Valid Loss: 0.46669 | Train Accs: 0.93132 | Valid Accs: 0.88068 | Time: 295.84 seconds\n",
      "Epoch: 7 | Train Loss: 0.11925 | Valid Loss: 0.54129 | Train Accs: 0.95941 | Valid Accs: 0.87074 | Time: 294.94 seconds\n",
      "Epoch: 8 | Train Loss: 0.09781 | Valid Loss: 0.52767 | Train Accs: 0.96552 | Valid Accs: 0.87358 | Time: 294.85 seconds\n",
      "Epoch: 9 | Train Loss: 0.06469 | Valid Loss: 0.58525 | Train Accs: 0.97450 | Valid Accs: 0.86648 | Time: 294.10 seconds\n",
      "Epoch: 10 | Train Loss: 0.05618 | Valid Loss: 0.57026 | Train Accs: 0.98024 | Valid Accs: 0.87216 | Time: 294.87 seconds\n",
      "\n",
      "**************************************************\n",
      "\n",
      "Best Validation Loss at Epoch 6\n",
      "\n",
      "**************************************************\n",
      "\n",
      "Best Validation Accs at Epoch 6\n",
      "\n",
      "**************************************************\n",
      "\n",
      "Time Taken [10 Epochs] : 49.30 minutes\n",
      "\n",
      "**************************************************\n",
      "\n"
     ]
    },
    {
     "data": {
      "image/png": "[encoded data removed]",
      "text/plain": [
       "<Figure size 432x288 with 1 Axes>"
      ]
     },
     "metadata": {
      "needs_background": "light"
     },
     "output_type": "display_data"
    },
    {
     "name": "stdout",
     "output_type": "stream",
     "text": [
      "\n",
      "**************************************************\n",
      "\n"
     ]
    },
    {
     "data": {
      "image/png": "[encoded data removed]",
      "text/plain": [
       "<Figure size 432x288 with 1 Axes>"
      ]
     },
     "metadata": {
      "needs_background": "light"
     },
     "output_type": "display_data"
    },
    {
     "name": "stdout",
     "output_type": "stream",
     "text": [
      "\n",
      "**************************************************\n",
      "\n"
     ]
    },
    {
     "data": {
      "image/png": "[encoded data removed]",
      "text/plain": [
       "<Figure size 576x432 with 1 Axes>"
      ]
     },
     "metadata": {
      "needs_background": "light"
     },
     "output_type": "display_data"
    },
    {
     "name": "stdout",
     "output_type": "stream",
     "text": [
      "\n",
      "**************************************************\n",
      "\n",
      "\n",
      "**************************************************\n",
      "\n",
      "Training Fold 3...\n",
      "\n",
      "**************************************************\n",
      "\n",
      "Epoch: 1 | Train Loss: 2.93635 | Valid Loss: 0.79739 | Train Accs: 0.28614 | Valid Accs: 0.75568 | Time: 296.42 seconds\n",
      "Epoch: 2 | Train Loss: 0.80062 | Valid Loss: 0.56505 | Train Accs: 0.75352 | Valid Accs: 0.80256 | Time: 295.73 seconds\n",
      "Epoch: 3 | Train Loss: 0.52007 | Valid Loss: 0.66807 | Train Accs: 0.83154 | Valid Accs: 0.79517 | Time: 295.32 seconds\n",
      "Epoch: 4 | Train Loss: 0.37070 | Valid Loss: 0.53200 | Train Accs: 0.87464 | Valid Accs: 0.82386 | Time: 296.25 seconds\n",
      "Epoch: 5 | Train Loss: 0.25704 | Valid Loss: 0.46953 | Train Accs: 0.91121 | Valid Accs: 0.85085 | Time: 296.97 seconds\n",
      "Epoch: 6 | Train Loss: 0.18686 | Valid Loss: 0.51550 | Train Accs: 0.93240 | Valid Accs: 0.85511 | Time: 295.56 seconds\n",
      "Epoch: 7 | Train Loss: 0.11098 | Valid Loss: 0.53425 | Train Accs: 0.95790 | Valid Accs: 0.85511 | Time: 293.54 seconds\n",
      "Epoch: 8 | Train Loss: 0.09570 | Valid Loss: 0.48414 | Train Accs: 0.96659 | Valid Accs: 0.88494 | Time: 295.13 seconds\n",
      "Epoch: 9 | Train Loss: 0.07164 | Valid Loss: 0.46357 | Train Accs: 0.97299 | Valid Accs: 0.88778 | Time: 296.39 seconds\n",
      "Epoch: 10 | Train Loss: 0.05455 | Valid Loss: 0.45303 | Train Accs: 0.98017 | Valid Accs: 0.88494 | Time: 295.57 seconds\n",
      "\n",
      "**************************************************\n",
      "\n",
      "Best Validation Loss at Epoch 10\n",
      "\n",
      "**************************************************\n",
      "\n",
      "Best Validation Accs at Epoch 9\n",
      "\n",
      "**************************************************\n",
      "\n",
      "Time Taken [10 Epochs] : 49.28 minutes\n",
      "\n",
      "**************************************************\n",
      "\n"
     ]
    },
    {
     "data": {
      "image/png": "[encoded data removed]",
      "text/plain": [
       "<Figure size 432x288 with 1 Axes>"
      ]
     },
     "metadata": {
      "needs_background": "light"
     },
     "output_type": "display_data"
    },
    {
     "name": "stdout",
     "output_type": "stream",
     "text": [
      "\n",
      "**************************************************\n",
      "\n"
     ]
    },
    {
     "data": {
      "image/png": "[encoded data removed]",
      "text/plain": [
       "<Figure size 432x288 with 1 Axes>"
      ]
     },
     "metadata": {
      "needs_background": "light"
     },
     "output_type": "display_data"
    },
    {
     "name": "stdout",
     "output_type": "stream",
     "text": [
      "\n",
      "**************************************************\n",
      "\n"
     ]
    },
    {
     "data": {
      "image/png": "[encoded data removed]",
      "text/plain": [
       "<Figure size 576x432 with 1 Axes>"
      ]
     },
     "metadata": {
      "needs_background": "light"
     },
     "output_type": "display_data"
    },
    {
     "name": "stdout",
     "output_type": "stream",
     "text": [
      "\n",
      "**************************************************\n",
      "\n",
      "\n",
      "**************************************************\n",
      "\n",
      "Training Fold 4...\n",
      "\n",
      "**************************************************\n",
      "\n",
      "Epoch: 1 | Train Loss: 2.94399 | Valid Loss: 0.76872 | Train Accs: 0.28003 | Valid Accs: 0.77131 | Time: 295.70 seconds\n",
      "Epoch: 2 | Train Loss: 0.75477 | Valid Loss: 0.60244 | Train Accs: 0.75955 | Valid Accs: 0.80682 | Time: 297.87 seconds\n",
      "Epoch: 3 | Train Loss: 0.49019 | Valid Loss: 0.59655 | Train Accs: 0.83082 | Valid Accs: 0.82670 | Time: 295.59 seconds\n",
      "Epoch: 4 | Train Loss: 0.37159 | Valid Loss: 0.55661 | Train Accs: 0.87284 | Valid Accs: 0.82670 | Time: 294.71 seconds\n",
      "Epoch: 5 | Train Loss: 0.26416 | Valid Loss: 0.55134 | Train Accs: 0.91358 | Valid Accs: 0.84233 | Time: 296.57 seconds\n",
      "Epoch: 6 | Train Loss: 0.19662 | Valid Loss: 0.49383 | Train Accs: 0.93068 | Valid Accs: 0.86364 | Time: 294.83 seconds\n",
      "Epoch: 7 | Train Loss: 0.12918 | Valid Loss: 0.47942 | Train Accs: 0.95251 | Valid Accs: 0.86080 | Time: 295.48 seconds\n",
      "Epoch: 8 | Train Loss: 0.08548 | Valid Loss: 0.49951 | Train Accs: 0.97126 | Valid Accs: 0.86222 | Time: 293.40 seconds\n",
      "Epoch: 9 | Train Loss: 0.06833 | Valid Loss: 0.52797 | Train Accs: 0.97486 | Valid Accs: 0.87074 | Time: 293.95 seconds\n",
      "Epoch: 10 | Train Loss: 0.05558 | Valid Loss: 0.48159 | Train Accs: 0.98096 | Valid Accs: 0.88352 | Time: 295.74 seconds\n",
      "\n",
      "**************************************************\n",
      "\n",
      "Best Validation Loss at Epoch 7\n",
      "\n",
      "**************************************************\n",
      "\n",
      "Best Validation Accs at Epoch 10\n",
      "\n",
      "**************************************************\n",
      "\n",
      "Time Taken [10 Epochs] : 49.23 minutes\n",
      "\n",
      "**************************************************\n",
      "\n"
     ]
    },
    {
     "data": {
      "image/png": "[encoded data removed]",
      "text/plain": [
       "<Figure size 432x288 with 1 Axes>"
      ]
     },
     "metadata": {
      "needs_background": "light"
     },
     "output_type": "display_data"
    },
    {
     "name": "stdout",
     "output_type": "stream",
     "text": [
      "\n",
      "**************************************************\n",
      "\n"
     ]
    },
    {
     "data": {
      "image/png": "[encoded data removed]",
      "text/plain": [
       "<Figure size 432x288 with 1 Axes>"
      ]
     },
     "metadata": {
      "needs_background": "light"
     },
     "output_type": "display_data"
    },
    {
     "name": "stdout",
     "output_type": "stream",
     "text": [
      "\n",
      "**************************************************\n",
      "\n"
     ]
    },
    {
     "data": {
      "image/png": "[encoded data removed]",
      "text/plain": [
       "<Figure size 576x432 with 1 Axes>"
      ]
     },
     "metadata": {
      "needs_background": "light"
     },
     "output_type": "display_data"
    },
    {
     "name": "stdout",
     "output_type": "stream",
     "text": [
      "\n",
      "**************************************************\n",
      "\n",
      "\n",
      "**************************************************\n",
      "\n",
      "Training Fold 5...\n",
      "\n",
      "**************************************************\n",
      "\n",
      "Epoch: 1 | Train Loss: 2.95214 | Valid Loss: 0.79348 | Train Accs: 0.28010 | Valid Accs: 0.76250 | Time: 297.72 seconds\n",
      "Epoch: 2 | Train Loss: 0.77379 | Valid Loss: 0.52815 | Train Accs: 0.75244 | Valid Accs: 0.81960 | Time: 296.46 seconds\n",
      "Epoch: 3 | Train Loss: 0.51650 | Valid Loss: 0.47677 | Train Accs: 0.82931 | Valid Accs: 0.84943 | Time: 296.14 seconds\n",
      "Epoch: 4 | Train Loss: 0.37547 | Valid Loss: 0.41578 | Train Accs: 0.86961 | Valid Accs: 0.85369 | Time: 297.32 seconds\n",
      "Epoch: 5 | Train Loss: 0.28443 | Valid Loss: 0.38874 | Train Accs: 0.89835 | Valid Accs: 0.87358 | Time: 297.36 seconds\n",
      "Epoch: 6 | Train Loss: 0.18920 | Valid Loss: 0.35425 | Train Accs: 0.92881 | Valid Accs: 0.88352 | Time: 297.29 seconds\n",
      "Epoch: 7 | Train Loss: 0.15505 | Valid Loss: 0.33362 | Train Accs: 0.94239 | Valid Accs: 0.90483 | Time: 297.00 seconds\n",
      "Epoch: 8 | Train Loss: 0.10502 | Valid Loss: 0.29398 | Train Accs: 0.96444 | Valid Accs: 0.90483 | Time: 294.47 seconds\n",
      "Epoch: 9 | Train Loss: 0.07017 | Valid Loss: 0.33059 | Train Accs: 0.97586 | Valid Accs: 0.90767 | Time: 294.34 seconds\n",
      "Epoch: 10 | Train Loss: 0.06529 | Valid Loss: 0.32265 | Train Accs: 0.97342 | Valid Accs: 0.90341 | Time: 294.45 seconds\n",
      "\n",
      "**************************************************\n",
      "\n",
      "Best Validation Loss at Epoch 8\n",
      "\n",
      "**************************************************\n",
      "\n",
      "Best Validation Accs at Epoch 9\n",
      "\n",
      "**************************************************\n",
      "\n",
      "Time Taken [10 Epochs] : 49.38 minutes\n",
      "\n",
      "**************************************************\n",
      "\n"
     ]
    },
    {
     "data": {
      "image/png": "[encoded data removed]",
      "text/plain": [
       "<Figure size 432x288 with 1 Axes>"
      ]
     },
     "metadata": {
      "needs_background": "light"
     },
     "output_type": "display_data"
    },
    {
     "name": "stdout",
     "output_type": "stream",
     "text": [
      "\n",
      "**************************************************\n",
      "\n"
     ]
    },
    {
     "data": {
      "image/png": "[encoded data removed]",
      "text/plain": [
       "<Figure size 432x288 with 1 Axes>"
      ]
     },
     "metadata": {
      "needs_background": "light"
     },
     "output_type": "display_data"
    },
    {
     "name": "stdout",
     "output_type": "stream",
     "text": [
      "\n",
      "**************************************************\n",
      "\n"
     ]
    },
    {
     "data": {
      "image/png": "[encoded data removed]",
      "text/plain": [
       "<Figure size 576x432 with 1 Axes>"
      ]
     },
     "metadata": {
      "needs_background": "light"
     },
     "output_type": "display_data"
    },
    {
     "name": "stdout",
     "output_type": "stream",
     "text": [
      "\n",
      "**************************************************\n",
      "\n"
     ]
    }
   ],
   "source": [
    "fold: int = 1\n",
    "BLs: list = []\n",
    "BAs: list = []\n",
    "    \n",
    "cfg.batch_size = 16\n",
    "cfg.epochs = 10\n",
    "    \n",
    "for tr_idx, va_idx in StratifiedKFold(n_splits=cfg.n_splits, random_state=cfg.seed, shuffle=True).split(filepaths, labels):\n",
    "#     if fold == 1: break\n",
    "#     fold += 1\n",
    "\n",
    "    tr_filepaths, va_filepaths = filepaths[tr_idx], filepaths[va_idx] \n",
    "    tr_labels, va_labels       = labels[tr_idx], labels[va_idx]\n",
    "\n",
    "    tr_data_setup = DS(\n",
    "        filepaths=tr_filepaths, \n",
    "        labels=tr_labels.reshape(-1, 1),\n",
    "        size=cfg.size,\n",
    "        transform=cfg.train_transform\n",
    "    )\n",
    "\n",
    "    va_data_setup = DS(\n",
    "        filepaths=va_filepaths, \n",
    "        labels=va_labels.reshape(-1, 1),\n",
    "        size=cfg.size,\n",
    "        transform=cfg.train_transform\n",
    "    )\n",
    "\n",
    "    dataloaders = {\n",
    "        \"train\" : DL(tr_data_setup, batch_size=cfg.batch_size, shuffle=True, generator=torch.manual_seed(cfg.seed)),\n",
    "        \"valid\" : DL(va_data_setup, batch_size=cfg.batch_size, shuffle=False),\n",
    "    }\n",
    "\n",
    "    cfg.steps_per_epoch=len(dataloaders[\"train\"])\n",
    "\n",
    "    torch.manual_seed(cfg.seed)\n",
    "    model = Model().to(cfg.device)\n",
    "\n",
    "    optimizer = optim.Adam([p for p in model.parameters() if p.requires_grad], lr=cfg.lr, weight_decay=cfg.wd)\n",
    "    # optimizer = optim.AdamW([p for p in model.parameters() if p.requires_grad], lr=cfg.lr, weight_decay=cfg.wd)\n",
    "    # optimizer = optim.SGD([p for p in model.parameters() if p.requires_grad], lr=cfg.lr, weight_decay=cfg.wd, momentum=0.9)\n",
    "\n",
    "    scheduler_oclr = optim.lr_scheduler.OneCycleLR(\n",
    "        optimizer=optimizer, \n",
    "        max_lr=cfg.max_lr, \n",
    "        epochs=cfg.epochs, \n",
    "        steps_per_epoch=cfg.steps_per_epoch,\n",
    "        pct_start=cfg.pct_start, \n",
    "        div_factor=cfg.div_factor, \n",
    "        final_div_factor=cfg.final_div_factor\n",
    "    )\n",
    "\n",
    "    # scheduler_rlrop = optim.lr_scheduler.ReduceLROnPlateau(\n",
    "    #     optimizer=optimizer,\n",
    "    #     patience=cfg.patience,\n",
    "    #     eps=cfg.eps,\n",
    "    #     verbose=True\n",
    "    # )\n",
    "\n",
    "    # scheduler_oclr = None\n",
    "    scheduler_rlrop = None\n",
    "\n",
    "\n",
    "    L, A, LR, BL, BA, _, _, _, _ = fit(\n",
    "        model=model, \n",
    "        optimizer=optimizer, \n",
    "        scheduler_oclr=scheduler_oclr,\n",
    "        scheduler_rlrop=scheduler_rlrop,\n",
    "        epochs=cfg.epochs, \n",
    "        early_stopping_patience=cfg.early_stopping, \n",
    "        dataloaders=dataloaders, \n",
    "        device=cfg.device,\n",
    "        save_path=cfg.save_path,\n",
    "        fold=fold,\n",
    "        verbose=True\n",
    "    )\n",
    "\n",
    "\n",
    "    breaker()\n",
    "    show_loss_graphs(L)\n",
    "    breaker()\n",
    "    show_accuracy_graphs(A)\n",
    "    breaker()\n",
    "    if scheduler_oclr:\n",
    "        show_lr_graph(LR)\n",
    "        breaker()\n",
    "\n",
    "    BLs.append(BL)\n",
    "    BAs.append(BA)\n",
    "\n",
    "    fold += 1"
   ]
  },
  {
   "cell_type": "markdown",
   "id": "9bf8c507",
   "metadata": {
    "papermill": {
     "duration": 0.011122,
     "end_time": "2023-01-17T14:20:12.382892",
     "exception": false,
     "start_time": "2023-01-17T14:20:12.371770",
     "status": "completed"
    },
    "tags": []
   },
   "source": [
    "### **Best Model**"
   ]
  },
  {
   "cell_type": "code",
   "execution_count": 10,
   "id": "0fe99776",
   "metadata": {
    "execution": {
     "iopub.execute_input": "2023-01-17T14:20:12.406881Z",
     "iopub.status.busy": "2023-01-17T14:20:12.405935Z",
     "iopub.status.idle": "2023-01-17T14:20:12.414844Z",
     "shell.execute_reply": "2023-01-17T14:20:12.413960Z"
    },
    "papermill": {
     "duration": 0.022982,
     "end_time": "2023-01-17T14:20:12.416732",
     "exception": false,
     "start_time": "2023-01-17T14:20:12.393750",
     "status": "completed"
    },
    "tags": []
   },
   "outputs": [
    {
     "name": "stdout",
     "output_type": "stream",
     "text": [
      "\n",
      "**************************************************\n",
      "\n",
      "Best Loss Model Fold     : 5\n",
      "Best Accuracy Model Fold : 5\n",
      "\n",
      "**************************************************\n",
      "\n"
     ]
    }
   ],
   "source": [
    "BL = np.inf\n",
    "for i in range(len(BLs)):\n",
    "    if BLs[i][\"valid\"] < BL:\n",
    "        BL = BLs[i][\"valid\"]\n",
    "        best_loss_index = i\n",
    "\n",
    "        \n",
    "BA = 0.0\n",
    "for i in range(len(BAs)):\n",
    "    if BAs[i][\"valid\"] > BA:\n",
    "        BA = BAs[i][\"valid\"]\n",
    "        best_accs_index = i\n",
    "\n",
    "breaker()\n",
    "print(f\"Best Loss Model Fold     : {best_loss_index + 1}\")\n",
    "print(f\"Best Accuracy Model Fold : {best_accs_index + 1}\")\n",
    "breaker()"
   ]
  }
 ],
 "metadata": {
  "kernelspec": {
   "display_name": "Python 3",
   "language": "python",
   "name": "python3"
  },
  "language_info": {
   "codemirror_mode": {
    "name": "ipython",
    "version": 3
   },
   "file_extension": ".py",
   "mimetype": "text/x-python",
   "name": "python",
   "nbconvert_exporter": "python",
   "pygments_lexer": "ipython3",
   "version": "3.7.12"
  },
  "papermill": {
   "default_parameters": {},
   "duration": 14870.474084,
   "end_time": "2023-01-17T14:20:14.375688",
   "environment_variables": {},
   "exception": null,
   "input_path": "__notebook__.ipynb",
   "output_path": "__notebook__.ipynb",
   "parameters": {},
   "start_time": "2023-01-17T10:12:23.901604",
   "version": "2.3.4"
  }
 },
 "nbformat": 4,
 "nbformat_minor": 5
}
