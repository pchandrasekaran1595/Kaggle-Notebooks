{
 "cells": [
  {
   "cell_type": "markdown",
   "id": "c7388e1a",
   "metadata": {
    "_cell_guid": "b1076dfc-b9ad-4769-8c92-a6c4dae69d19",
    "_uuid": "8f2839f25d086af736a60e9eeb907d3b93b6e0e5",
    "papermill": {
     "duration": 0.009905,
     "end_time": "2022-03-23T22:26:06.910102",
     "exception": false,
     "start_time": "2022-03-23T22:26:06.900197",
     "status": "completed"
    },
    "tags": []
   },
   "source": [
    "### **Library Imports**"
   ]
  },
  {
   "cell_type": "code",
   "execution_count": 1,
   "id": "8fa4e0ae",
   "metadata": {
    "execution": {
     "iopub.execute_input": "2022-03-23T22:26:06.933596Z",
     "iopub.status.busy": "2022-03-23T22:26:06.931912Z",
     "iopub.status.idle": "2022-03-23T22:26:08.170968Z",
     "shell.execute_reply": "2022-03-23T22:26:08.170307Z",
     "shell.execute_reply.started": "2022-03-23T22:14:57.785558Z"
    },
    "papermill": {
     "duration": 1.251695,
     "end_time": "2022-03-23T22:26:08.171133",
     "exception": false,
     "start_time": "2022-03-23T22:26:06.919438",
     "status": "completed"
    },
    "tags": []
   },
   "outputs": [],
   "source": [
    "import os\n",
    "import pickle\n",
    "import numpy as np\n",
    "import pandas as pd\n",
    "import random as r\n",
    "import seaborn as sns\n",
    "import matplotlib.pyplot as plt\n",
    "\n",
    "from time import time\n",
    "from sklearn.preprocessing import StandardScaler\n",
    "from sklearn.model_selection import StratifiedKFold, GridSearchCV\n",
    "\n",
    "from sklearn.linear_model import LogisticRegression\n",
    "\n",
    "from sklearn.metrics import accuracy_score, precision_recall_fscore_support, roc_auc_score, classification_report"
   ]
  },
  {
   "cell_type": "markdown",
   "id": "3a7408c5",
   "metadata": {
    "papermill": {
     "duration": 0.008169,
     "end_time": "2022-03-23T22:26:08.187871",
     "exception": false,
     "start_time": "2022-03-23T22:26:08.179702",
     "status": "completed"
    },
    "tags": []
   },
   "source": [
    "### **Utilities and Constants**"
   ]
  },
  {
   "cell_type": "code",
   "execution_count": 2,
   "id": "92c4df73",
   "metadata": {
    "execution": {
     "iopub.execute_input": "2022-03-23T22:26:08.211109Z",
     "iopub.status.busy": "2022-03-23T22:26:08.210322Z",
     "iopub.status.idle": "2022-03-23T22:26:08.214074Z",
     "shell.execute_reply": "2022-03-23T22:26:08.214520Z",
     "shell.execute_reply.started": "2022-03-23T22:17:08.316750Z"
    },
    "papermill": {
     "duration": 0.018259,
     "end_time": "2022-03-23T22:26:08.214698",
     "exception": false,
     "start_time": "2022-03-23T22:26:08.196439",
     "status": "completed"
    },
    "tags": []
   },
   "outputs": [],
   "source": [
    "SEED = 42\n",
    "N_SPLITS = 5\n",
    "sc_X = StandardScaler()\n",
    "BASE_PATH = \"../input/santander-customer-transaction-prediction\"\n",
    "\n",
    "LOG_PATH = \"../content/logs\"\n",
    "MODEL_PATH = \"../content/models\"\n",
    "\n",
    "if not os.path.exists(LOG_PATH): os.makedirs(LOG_PATH)\n",
    "if not os.path.exists(MODEL_PATH): os.makedirs(MODEL_PATH)\n",
    "\n",
    "LOG_FILE = LOG_PATH + \"/training_logs.txt\"\n",
    "with open(LOG_FILE, \"w+\") as f: f.write(\"Training Logs\\n\\n\\n\")"
   ]
  },
  {
   "cell_type": "code",
   "execution_count": 3,
   "id": "55517cf4",
   "metadata": {
    "execution": {
     "iopub.execute_input": "2022-03-23T22:26:08.235802Z",
     "iopub.status.busy": "2022-03-23T22:26:08.235160Z",
     "iopub.status.idle": "2022-03-23T22:26:08.249643Z",
     "shell.execute_reply": "2022-03-23T22:26:08.249121Z",
     "shell.execute_reply.started": "2022-03-23T22:16:17.828007Z"
    },
    "papermill": {
     "duration": 0.026216,
     "end_time": "2022-03-23T22:26:08.249785",
     "exception": false,
     "start_time": "2022-03-23T22:26:08.223569",
     "status": "completed"
    },
    "tags": []
   },
   "outputs": [],
   "source": [
    "def breaker(num: int=50, char: str=\"*\") -> None:\n",
    "    print(\"\\n\" + num*char + \"\\n\")\n",
    "\n",
    "\n",
    "def get_scores(y_true: np.ndarray, y_pred: np.ndarray) -> tuple:\n",
    "    accuracy = accuracy_score(y_pred, y_true)\n",
    "    try:\n",
    "        auc = roc_auc_score(y_pred, y_true, average=\"weighted\")\n",
    "    except:\n",
    "        auc = 0\n",
    "    precision, recall, f_score, _ = precision_recall_fscore_support(y_pred, y_true, average=\"weighted\")\n",
    "\n",
    "    return accuracy, auc, precision, recall, f_score\n",
    "\n",
    "\n",
    "def print_scores(accuracy: float, auc: float, precision: np.ndarray, recall: np.ndarray, f_score: np.ndarray) -> None:\n",
    "    print(f\"Accuracy  : {accuracy:.5f}\")\n",
    "    print(f\"ROC-AUC   : {auc:.5f}\")\n",
    "    print(f\"Precision : {precision:.5f}\")\n",
    "    print(f\"Recall    : {recall:.5f}\")\n",
    "    print(f\"F-Score   : {f_score:.5f}\")\n",
    "\n",
    "    \n",
    "def train(model, model_path: str, X: np.ndarray, y: np.ndarray, n_splits: int, log_file: str, seed: int) -> tuple:\n",
    "    accuracies, aucs, precisions, recalls, f_scores = [], [], [], [], []\n",
    "\n",
    "    with open(log_file, \"a\") as f:\n",
    "        f.write(\"XGB CLASSIFIER\\n\\n\")\n",
    "\n",
    "    fold = 1\n",
    "    start_time = time()\n",
    "    for tr_idx, va_idx in StratifiedKFold(n_splits=n_splits, shuffle=True, random_state=seed).split(X, y):\n",
    "        print(f\"Fold {fold}\\n\")\n",
    "            \n",
    "        X_train, X_valid, y_train, y_valid = X[tr_idx], X[va_idx], y[tr_idx], y[va_idx]\n",
    "\n",
    "        X_train = sc_X.fit_transform(X_train)\n",
    "        X_valid = sc_X.transform(X_valid)\n",
    "\n",
    "        model.fit(X_train, y_train)\n",
    "        y_pred = model.predict(X_valid)\n",
    "\n",
    "        accuracy, auc, precision, recall, f_score = get_scores(y_valid, y_pred)\n",
    "        print_scores(accuracy, auc, precision, recall, f_score)\n",
    "\n",
    "        accuracies.append(accuracy)\n",
    "        aucs.append(auc)\n",
    "        precisions.append(precision)\n",
    "        recalls.append(recall)\n",
    "        f_scores.append(f_score)\n",
    "\n",
    "        with open(log_file, \"a\") as f:\n",
    "            f.write(f\"Fold {fold}\\n\")\n",
    "            f.write(f\"Accuracy  : {accuracy}\\n\")\n",
    "            f.write(f\"ROC AUC   : {auc}\\n\")\n",
    "            f.write(f\"Precision : {precision}\\n\")\n",
    "            f.write(f\"Recall    : {recall}\\n\")\n",
    "            f.write(f\"F_Score   : {f_score}\\n\\n\")\n",
    "\n",
    "        with open(model_path + f\"/xgbc_fold_{fold}.pkl\", \"wb\") as fp: pickle.dump(model, fp)\n",
    "\n",
    "        breaker()\n",
    "        fold += 1\n",
    "    \n",
    "    with open(log_file, \"a\") as f: \n",
    "        f.write(f\"\\nTime Taken for {n_splits}-Fold CV : {(time()-start_time)/60:.2f} minutes\")\n",
    "\n",
    "    print(f\"Time Taken for {n_splits}-Fold CV : {(time()-start_time)/60:.2f} minutes\")\n",
    "    breaker()\n",
    "\n",
    "    return model, accuracies, aucs, precisions, recalls, f_scores"
   ]
  },
  {
   "cell_type": "markdown",
   "id": "63dd23be",
   "metadata": {
    "papermill": {
     "duration": 0.008313,
     "end_time": "2022-03-23T22:26:08.266901",
     "exception": false,
     "start_time": "2022-03-23T22:26:08.258588",
     "status": "completed"
    },
    "tags": []
   },
   "source": [
    "### **Load Data**"
   ]
  },
  {
   "cell_type": "code",
   "execution_count": 4,
   "id": "d4f4e65c",
   "metadata": {
    "execution": {
     "iopub.execute_input": "2022-03-23T22:26:08.291525Z",
     "iopub.status.busy": "2022-03-23T22:26:08.290857Z",
     "iopub.status.idle": "2022-03-23T22:26:25.851766Z",
     "shell.execute_reply": "2022-03-23T22:26:25.851278Z",
     "shell.execute_reply.started": "2022-03-23T22:10:13.773639Z"
    },
    "papermill": {
     "duration": 17.575816,
     "end_time": "2022-03-23T22:26:25.851907",
     "exception": false,
     "start_time": "2022-03-23T22:26:08.276091",
     "status": "completed"
    },
    "tags": []
   },
   "outputs": [
    {
     "data": {
      "text/html": [
       "<div>\n",
       "<style scoped>\n",
       "    .dataframe tbody tr th:only-of-type {\n",
       "        vertical-align: middle;\n",
       "    }\n",
       "\n",
       "    .dataframe tbody tr th {\n",
       "        vertical-align: top;\n",
       "    }\n",
       "\n",
       "    .dataframe thead th {\n",
       "        text-align: right;\n",
       "    }\n",
       "</style>\n",
       "<table border=\"1\" class=\"dataframe\">\n",
       "  <thead>\n",
       "    <tr style=\"text-align: right;\">\n",
       "      <th></th>\n",
       "      <th>target</th>\n",
       "      <th>var_0</th>\n",
       "      <th>var_1</th>\n",
       "      <th>var_2</th>\n",
       "      <th>var_3</th>\n",
       "      <th>var_4</th>\n",
       "      <th>var_5</th>\n",
       "      <th>var_6</th>\n",
       "      <th>var_7</th>\n",
       "      <th>var_8</th>\n",
       "      <th>...</th>\n",
       "      <th>var_190</th>\n",
       "      <th>var_191</th>\n",
       "      <th>var_192</th>\n",
       "      <th>var_193</th>\n",
       "      <th>var_194</th>\n",
       "      <th>var_195</th>\n",
       "      <th>var_196</th>\n",
       "      <th>var_197</th>\n",
       "      <th>var_198</th>\n",
       "      <th>var_199</th>\n",
       "    </tr>\n",
       "  </thead>\n",
       "  <tbody>\n",
       "    <tr>\n",
       "      <th>0</th>\n",
       "      <td>0</td>\n",
       "      <td>8.9255</td>\n",
       "      <td>-6.7863</td>\n",
       "      <td>11.9081</td>\n",
       "      <td>5.0930</td>\n",
       "      <td>11.4607</td>\n",
       "      <td>-9.2834</td>\n",
       "      <td>5.1187</td>\n",
       "      <td>18.6266</td>\n",
       "      <td>-4.9200</td>\n",
       "      <td>...</td>\n",
       "      <td>4.4354</td>\n",
       "      <td>3.9642</td>\n",
       "      <td>3.1364</td>\n",
       "      <td>1.6910</td>\n",
       "      <td>18.5227</td>\n",
       "      <td>-2.3978</td>\n",
       "      <td>7.8784</td>\n",
       "      <td>8.5635</td>\n",
       "      <td>12.7803</td>\n",
       "      <td>-1.0914</td>\n",
       "    </tr>\n",
       "    <tr>\n",
       "      <th>1</th>\n",
       "      <td>0</td>\n",
       "      <td>11.5006</td>\n",
       "      <td>-4.1473</td>\n",
       "      <td>13.8588</td>\n",
       "      <td>5.3890</td>\n",
       "      <td>12.3622</td>\n",
       "      <td>7.0433</td>\n",
       "      <td>5.6208</td>\n",
       "      <td>16.5338</td>\n",
       "      <td>3.1468</td>\n",
       "      <td>...</td>\n",
       "      <td>7.6421</td>\n",
       "      <td>7.7214</td>\n",
       "      <td>2.5837</td>\n",
       "      <td>10.9516</td>\n",
       "      <td>15.4305</td>\n",
       "      <td>2.0339</td>\n",
       "      <td>8.1267</td>\n",
       "      <td>8.7889</td>\n",
       "      <td>18.3560</td>\n",
       "      <td>1.9518</td>\n",
       "    </tr>\n",
       "    <tr>\n",
       "      <th>2</th>\n",
       "      <td>0</td>\n",
       "      <td>8.6093</td>\n",
       "      <td>-2.7457</td>\n",
       "      <td>12.0805</td>\n",
       "      <td>7.8928</td>\n",
       "      <td>10.5825</td>\n",
       "      <td>-9.0837</td>\n",
       "      <td>6.9427</td>\n",
       "      <td>14.6155</td>\n",
       "      <td>-4.9193</td>\n",
       "      <td>...</td>\n",
       "      <td>2.9057</td>\n",
       "      <td>9.7905</td>\n",
       "      <td>1.6704</td>\n",
       "      <td>1.6858</td>\n",
       "      <td>21.6042</td>\n",
       "      <td>3.1417</td>\n",
       "      <td>-6.5213</td>\n",
       "      <td>8.2675</td>\n",
       "      <td>14.7222</td>\n",
       "      <td>0.3965</td>\n",
       "    </tr>\n",
       "    <tr>\n",
       "      <th>3</th>\n",
       "      <td>0</td>\n",
       "      <td>11.0604</td>\n",
       "      <td>-2.1518</td>\n",
       "      <td>8.9522</td>\n",
       "      <td>7.1957</td>\n",
       "      <td>12.5846</td>\n",
       "      <td>-1.8361</td>\n",
       "      <td>5.8428</td>\n",
       "      <td>14.9250</td>\n",
       "      <td>-5.8609</td>\n",
       "      <td>...</td>\n",
       "      <td>4.4666</td>\n",
       "      <td>4.7433</td>\n",
       "      <td>0.7178</td>\n",
       "      <td>1.4214</td>\n",
       "      <td>23.0347</td>\n",
       "      <td>-1.2706</td>\n",
       "      <td>-2.9275</td>\n",
       "      <td>10.2922</td>\n",
       "      <td>17.9697</td>\n",
       "      <td>-8.9996</td>\n",
       "    </tr>\n",
       "    <tr>\n",
       "      <th>4</th>\n",
       "      <td>0</td>\n",
       "      <td>9.8369</td>\n",
       "      <td>-1.4834</td>\n",
       "      <td>12.8746</td>\n",
       "      <td>6.6375</td>\n",
       "      <td>12.2772</td>\n",
       "      <td>2.4486</td>\n",
       "      <td>5.9405</td>\n",
       "      <td>19.2514</td>\n",
       "      <td>6.2654</td>\n",
       "      <td>...</td>\n",
       "      <td>-1.4905</td>\n",
       "      <td>9.5214</td>\n",
       "      <td>-0.1508</td>\n",
       "      <td>9.1942</td>\n",
       "      <td>13.2876</td>\n",
       "      <td>-1.5121</td>\n",
       "      <td>3.9267</td>\n",
       "      <td>9.5031</td>\n",
       "      <td>17.9974</td>\n",
       "      <td>-8.8104</td>\n",
       "    </tr>\n",
       "  </tbody>\n",
       "</table>\n",
       "<p>5 rows × 201 columns</p>\n",
       "</div>"
      ],
      "text/plain": [
       "   target    var_0   var_1    var_2   var_3    var_4   var_5   var_6    var_7  \\\n",
       "0       0   8.9255 -6.7863  11.9081  5.0930  11.4607 -9.2834  5.1187  18.6266   \n",
       "1       0  11.5006 -4.1473  13.8588  5.3890  12.3622  7.0433  5.6208  16.5338   \n",
       "2       0   8.6093 -2.7457  12.0805  7.8928  10.5825 -9.0837  6.9427  14.6155   \n",
       "3       0  11.0604 -2.1518   8.9522  7.1957  12.5846 -1.8361  5.8428  14.9250   \n",
       "4       0   9.8369 -1.4834  12.8746  6.6375  12.2772  2.4486  5.9405  19.2514   \n",
       "\n",
       "    var_8  ...  var_190  var_191  var_192  var_193  var_194  var_195  var_196  \\\n",
       "0 -4.9200  ...   4.4354   3.9642   3.1364   1.6910  18.5227  -2.3978   7.8784   \n",
       "1  3.1468  ...   7.6421   7.7214   2.5837  10.9516  15.4305   2.0339   8.1267   \n",
       "2 -4.9193  ...   2.9057   9.7905   1.6704   1.6858  21.6042   3.1417  -6.5213   \n",
       "3 -5.8609  ...   4.4666   4.7433   0.7178   1.4214  23.0347  -1.2706  -2.9275   \n",
       "4  6.2654  ...  -1.4905   9.5214  -0.1508   9.1942  13.2876  -1.5121   3.9267   \n",
       "\n",
       "   var_197  var_198  var_199  \n",
       "0   8.5635  12.7803  -1.0914  \n",
       "1   8.7889  18.3560   1.9518  \n",
       "2   8.2675  14.7222   0.3965  \n",
       "3  10.2922  17.9697  -8.9996  \n",
       "4   9.5031  17.9974  -8.8104  \n",
       "\n",
       "[5 rows x 201 columns]"
      ]
     },
     "execution_count": 4,
     "metadata": {},
     "output_type": "execute_result"
    }
   ],
   "source": [
    "train_df = pd.read_csv(os.path.join(BASE_PATH, \"train.csv\"))\n",
    "test_df  = pd.read_csv(os.path.join(BASE_PATH, \"test.csv\"))\n",
    "ss_df    = pd.read_csv(os.path.join(BASE_PATH, \"sample_submission.csv\"))\n",
    "\n",
    "train_df = train_df.drop(columns=[\"ID_code\"])\n",
    "test_df  = test_df.drop(columns=[\"ID_code\"])\n",
    "\n",
    "train_df.head(5)"
   ]
  },
  {
   "cell_type": "code",
   "execution_count": 5,
   "id": "45c7d724",
   "metadata": {
    "execution": {
     "iopub.execute_input": "2022-03-23T22:26:25.881852Z",
     "iopub.status.busy": "2022-03-23T22:26:25.881219Z",
     "iopub.status.idle": "2022-03-23T22:26:25.884124Z",
     "shell.execute_reply": "2022-03-23T22:26:25.885148Z",
     "shell.execute_reply.started": "2022-03-23T22:10:30.559470Z"
    },
    "papermill": {
     "duration": 0.023532,
     "end_time": "2022-03-23T22:26:25.885331",
     "exception": false,
     "start_time": "2022-03-23T22:26:25.861799",
     "status": "completed"
    },
    "tags": []
   },
   "outputs": [
    {
     "data": {
      "text/plain": [
       "0    179902\n",
       "1     20098\n",
       "Name: target, dtype: int64"
      ]
     },
     "execution_count": 5,
     "metadata": {},
     "output_type": "execute_result"
    }
   ],
   "source": [
    "train_df.target.value_counts()"
   ]
  },
  {
   "cell_type": "markdown",
   "id": "487b68aa",
   "metadata": {
    "papermill": {
     "duration": 0.009297,
     "end_time": "2022-03-23T22:26:25.904184",
     "exception": false,
     "start_time": "2022-03-23T22:26:25.894887",
     "status": "completed"
    },
    "tags": []
   },
   "source": [
    "### **Train**"
   ]
  },
  {
   "cell_type": "code",
   "execution_count": 6,
   "id": "a4d04c3c",
   "metadata": {
    "execution": {
     "iopub.execute_input": "2022-03-23T22:26:26.023778Z",
     "iopub.status.busy": "2022-03-23T22:26:26.022514Z",
     "iopub.status.idle": "2022-03-23T22:26:32.799873Z",
     "shell.execute_reply": "2022-03-23T22:26:32.800584Z",
     "shell.execute_reply.started": "2022-03-23T22:16:20.120375Z"
    },
    "papermill": {
     "duration": 6.887232,
     "end_time": "2022-03-23T22:26:32.800869",
     "exception": false,
     "start_time": "2022-03-23T22:26:25.913637",
     "status": "completed"
    },
    "tags": []
   },
   "outputs": [
    {
     "name": "stdout",
     "output_type": "stream",
     "text": [
      "\n",
      "**************************************************\n",
      "\n",
      "Fold 1\n",
      "\n",
      "Accuracy  : 0.91378\n",
      "ROC-AUC   : 0.80303\n",
      "Precision : 0.95817\n",
      "Recall    : 0.91378\n",
      "F-Score   : 0.93137\n",
      "\n",
      "**************************************************\n",
      "\n",
      "Fold 2\n",
      "\n",
      "Accuracy  : 0.91492\n",
      "ROC-AUC   : 0.81025\n",
      "Precision : 0.95879\n",
      "Recall    : 0.91492\n",
      "F-Score   : 0.93221\n",
      "\n",
      "**************************************************\n",
      "\n",
      "Fold 3\n",
      "\n",
      "Accuracy  : 0.91410\n",
      "ROC-AUC   : 0.80524\n",
      "Precision : 0.95837\n",
      "Recall    : 0.91410\n",
      "F-Score   : 0.93162\n",
      "\n",
      "**************************************************\n",
      "\n",
      "Fold 4\n",
      "\n",
      "Accuracy  : 0.91543\n",
      "ROC-AUC   : 0.81226\n",
      "Precision : 0.95852\n",
      "Recall    : 0.91543\n",
      "F-Score   : 0.93235\n",
      "\n",
      "**************************************************\n",
      "\n",
      "Fold 5\n",
      "\n",
      "Accuracy  : 0.91282\n",
      "ROC-AUC   : 0.79377\n",
      "Precision : 0.95577\n",
      "Recall    : 0.91282\n",
      "F-Score   : 0.92993\n",
      "\n",
      "**************************************************\n",
      "\n",
      "Time Taken for 5-Fold CV : 0.11 minutes\n",
      "\n",
      "**************************************************\n",
      "\n"
     ]
    }
   ],
   "source": [
    "X, y = train_df.iloc[:, 1:].copy().values, train_df.iloc[:, 0].copy().values\n",
    "\n",
    "breaker()\n",
    "model, accuracies, aucs, precisions, recalls, f_scores = train(LogisticRegression(random_state=SEED),\n",
    "                                                               model_path=MODEL_PATH, \n",
    "                                                               X=X, \n",
    "                                                               y=y, \n",
    "                                                               n_splits=N_SPLITS, \n",
    "                                                               log_file=LOG_FILE, \n",
    "                                                               seed=SEED)"
   ]
  },
  {
   "cell_type": "markdown",
   "id": "574a883f",
   "metadata": {
    "papermill": {
     "duration": 0.02109,
     "end_time": "2022-03-23T22:26:32.843374",
     "exception": false,
     "start_time": "2022-03-23T22:26:32.822284",
     "status": "completed"
    },
    "tags": []
   },
   "source": [
    "### **Submission**"
   ]
  },
  {
   "cell_type": "code",
   "execution_count": 7,
   "id": "7bbf9cb1",
   "metadata": {
    "execution": {
     "iopub.execute_input": "2022-03-23T22:26:32.884785Z",
     "iopub.status.busy": "2022-03-23T22:26:32.883441Z",
     "iopub.status.idle": "2022-03-23T22:26:33.314770Z",
     "shell.execute_reply": "2022-03-23T22:26:33.314018Z",
     "shell.execute_reply.started": "2022-03-23T22:16:31.422920Z"
    },
    "papermill": {
     "duration": 0.450353,
     "end_time": "2022-03-23T22:26:33.314911",
     "exception": false,
     "start_time": "2022-03-23T22:26:32.864558",
     "status": "completed"
    },
    "tags": []
   },
   "outputs": [],
   "source": [
    "ss_df.target = model.predict(test_df.copy().values)\n",
    "ss_df.to_csv(\"submission.csv\", index=False)"
   ]
  }
 ],
 "metadata": {
  "kernelspec": {
   "display_name": "Python 3",
   "language": "python",
   "name": "python3"
  },
  "language_info": {
   "codemirror_mode": {
    "name": "ipython",
    "version": 3
   },
   "file_extension": ".py",
   "mimetype": "text/x-python",
   "name": "python",
   "nbconvert_exporter": "python",
   "pygments_lexer": "ipython3",
   "version": "3.7.12"
  },
  "papermill": {
   "default_parameters": {},
   "duration": 35.151143,
   "end_time": "2022-03-23T22:26:34.035719",
   "environment_variables": {},
   "exception": null,
   "input_path": "__notebook__.ipynb",
   "output_path": "__notebook__.ipynb",
   "parameters": {},
   "start_time": "2022-03-23T22:25:58.884576",
   "version": "2.3.3"
  }
 },
 "nbformat": 4,
 "nbformat_minor": 5
}
