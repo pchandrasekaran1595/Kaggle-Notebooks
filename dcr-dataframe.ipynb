{
 "cells": [
  {
   "cell_type": "code",
   "execution_count": 1,
   "id": "d1fd33e0",
   "metadata": {
    "_cell_guid": "b1076dfc-b9ad-4769-8c92-a6c4dae69d19",
    "_uuid": "8f2839f25d086af736a60e9eeb907d3b93b6e0e5",
    "execution": {
     "iopub.execute_input": "2022-11-27T07:21:23.755663Z",
     "iopub.status.busy": "2022-11-27T07:21:23.754901Z",
     "iopub.status.idle": "2022-11-27T07:21:24.055202Z",
     "shell.execute_reply": "2022-11-27T07:21:24.053873Z"
    },
    "papermill": {
     "duration": 0.308515,
     "end_time": "2022-11-27T07:21:24.058344",
     "exception": false,
     "start_time": "2022-11-27T07:21:23.749829",
     "status": "completed"
    },
    "tags": []
   },
   "outputs": [],
   "source": [
    "import os\n",
    "import cv2\n",
    "import numpy as np\n",
    "import pandas as pd\n",
    "\n",
    "IMAGES_PATH: str = \"/kaggle/input/dcr-unzipped\""
   ]
  },
  {
   "cell_type": "code",
   "execution_count": 2,
   "id": "81112ab4",
   "metadata": {
    "execution": {
     "iopub.execute_input": "2022-11-27T07:21:24.064205Z",
     "iopub.status.busy": "2022-11-27T07:21:24.063781Z",
     "iopub.status.idle": "2022-11-27T07:21:24.079718Z",
     "shell.execute_reply": "2022-11-27T07:21:24.078573Z"
    },
    "papermill": {
     "duration": 0.021461,
     "end_time": "2022-11-27T07:21:24.082141",
     "exception": false,
     "start_time": "2022-11-27T07:21:24.060680",
     "status": "completed"
    },
    "tags": []
   },
   "outputs": [],
   "source": [
    "tr_df: pd.DataFrame = pd.DataFrame(data=None, columns=[\"filepaths\", \"labels\"])  \n",
    "ts_df: pd.DataFrame = pd.DataFrame(data=None, columns=[\"filepaths\"]) "
   ]
  },
  {
   "cell_type": "code",
   "execution_count": 3,
   "id": "c13ce1cb",
   "metadata": {
    "execution": {
     "iopub.execute_input": "2022-11-27T07:21:24.087756Z",
     "iopub.status.busy": "2022-11-27T07:21:24.087388Z",
     "iopub.status.idle": "2022-11-27T07:21:24.439084Z",
     "shell.execute_reply": "2022-11-27T07:21:24.437902Z"
    },
    "papermill": {
     "duration": 0.357555,
     "end_time": "2022-11-27T07:21:24.441865",
     "exception": false,
     "start_time": "2022-11-27T07:21:24.084310",
     "status": "completed"
    },
    "tags": []
   },
   "outputs": [],
   "source": [
    "filenames: list = os.listdir(IMAGES_PATH + \"/train\")\n",
    "filepaths: list = []\n",
    "labels: list = []\n",
    "\n",
    "for filename in filenames:\n",
    "    filepaths.append(IMAGES_PATH + \"/train/\" + filename)\n",
    "    labels.append(0 if \"cat\" in filename else 1)\n",
    "\n",
    "tr_df.filepaths = filepaths\n",
    "tr_df.labels = labels\n",
    "tr_df.to_csv(\"train.csv\", index=False)"
   ]
  },
  {
   "cell_type": "code",
   "execution_count": 4,
   "id": "000255b1",
   "metadata": {
    "execution": {
     "iopub.execute_input": "2022-11-27T07:21:24.447510Z",
     "iopub.status.busy": "2022-11-27T07:21:24.447128Z",
     "iopub.status.idle": "2022-11-27T07:21:24.635787Z",
     "shell.execute_reply": "2022-11-27T07:21:24.634752Z"
    },
    "papermill": {
     "duration": 0.194279,
     "end_time": "2022-11-27T07:21:24.638310",
     "exception": false,
     "start_time": "2022-11-27T07:21:24.444031",
     "status": "completed"
    },
    "tags": []
   },
   "outputs": [],
   "source": [
    "filenames: list = os.listdir(IMAGES_PATH + \"/test\")\n",
    "filepaths: list = []\n",
    "labels: list = []\n",
    "\n",
    "for filename in filenames:\n",
    "    filepaths.append(IMAGES_PATH + \"/test/\" + filename)\n",
    "\n",
    "ts_df.filepaths = filepaths\n",
    "ts_df.to_csv(\"test.csv\", index=False)"
   ]
  }
 ],
 "metadata": {
  "kernelspec": {
   "display_name": "Python 3",
   "language": "python",
   "name": "python3"
  },
  "language_info": {
   "codemirror_mode": {
    "name": "ipython",
    "version": 3
   },
   "file_extension": ".py",
   "mimetype": "text/x-python",
   "name": "python",
   "nbconvert_exporter": "python",
   "pygments_lexer": "ipython3",
   "version": "3.7.12"
  },
  "papermill": {
   "default_parameters": {},
   "duration": 11.761698,
   "end_time": "2022-11-27T07:21:25.261512",
   "environment_variables": {},
   "exception": null,
   "input_path": "__notebook__.ipynb",
   "output_path": "__notebook__.ipynb",
   "parameters": {},
   "start_time": "2022-11-27T07:21:13.499814",
   "version": "2.3.4"
  }
 },
 "nbformat": 4,
 "nbformat_minor": 5
}
