{
 "cells": [
  {
   "cell_type": "code",
   "execution_count": 1,
   "id": "9bc9295e",
   "metadata": {
    "_cell_guid": "b1076dfc-b9ad-4769-8c92-a6c4dae69d19",
    "_uuid": "8f2839f25d086af736a60e9eeb907d3b93b6e0e5",
    "execution": {
     "iopub.execute_input": "2022-11-27T07:23:48.031708Z",
     "iopub.status.busy": "2022-11-27T07:23:48.031033Z",
     "iopub.status.idle": "2022-11-27T07:23:48.317219Z",
     "shell.execute_reply": "2022-11-27T07:23:48.315864Z"
    },
    "papermill": {
     "duration": 0.295425,
     "end_time": "2022-11-27T07:23:48.320693",
     "exception": false,
     "start_time": "2022-11-27T07:23:48.025268",
     "status": "completed"
    },
    "tags": []
   },
   "outputs": [],
   "source": [
    "import os\n",
    "import cv2\n",
    "import numpy as np\n",
    "import pandas as pd\n",
    "\n",
    "IMAGES_PATH: str = \"/kaggle/input/dcr-unzipped\""
   ]
  },
  {
   "cell_type": "code",
   "execution_count": 2,
   "id": "0c8bc03d",
   "metadata": {
    "execution": {
     "iopub.execute_input": "2022-11-27T07:23:48.327705Z",
     "iopub.status.busy": "2022-11-27T07:23:48.327234Z",
     "iopub.status.idle": "2022-11-27T07:23:48.348648Z",
     "shell.execute_reply": "2022-11-27T07:23:48.347003Z"
    },
    "papermill": {
     "duration": 0.029592,
     "end_time": "2022-11-27T07:23:48.353026",
     "exception": false,
     "start_time": "2022-11-27T07:23:48.323434",
     "status": "completed"
    },
    "tags": []
   },
   "outputs": [],
   "source": [
    "tr_df: pd.DataFrame = pd.DataFrame(data=None, columns=[\"filepaths\", \"labels\"])  \n",
    "ts_df: pd.DataFrame = pd.DataFrame(data=None, columns=[\"filepaths\"]) "
   ]
  },
  {
   "cell_type": "code",
   "execution_count": 3,
   "id": "869381b0",
   "metadata": {
    "execution": {
     "iopub.execute_input": "2022-11-27T07:23:48.362599Z",
     "iopub.status.busy": "2022-11-27T07:23:48.361960Z",
     "iopub.status.idle": "2022-11-27T07:23:48.744079Z",
     "shell.execute_reply": "2022-11-27T07:23:48.742530Z"
    },
    "papermill": {
     "duration": 0.390474,
     "end_time": "2022-11-27T07:23:48.747043",
     "exception": false,
     "start_time": "2022-11-27T07:23:48.356569",
     "status": "completed"
    },
    "tags": []
   },
   "outputs": [],
   "source": [
    "filenames: list = os.listdir(IMAGES_PATH + \"/train\")\n",
    "filepaths: list = []\n",
    "labels: list = []\n",
    "\n",
    "for filename in filenames:\n",
    "    filepaths.append(IMAGES_PATH + \"/train/\" + filename)\n",
    "    labels.append(0 if \"cat\" in filename else 1)\n",
    "\n",
    "tr_df.filepaths = filepaths\n",
    "tr_df.labels = labels\n",
    "tr_df.to_csv(\"train.csv\", index=False)"
   ]
  },
  {
   "cell_type": "code",
   "execution_count": 4,
   "id": "80437b98",
   "metadata": {
    "execution": {
     "iopub.execute_input": "2022-11-27T07:23:48.754897Z",
     "iopub.status.busy": "2022-11-27T07:23:48.753716Z",
     "iopub.status.idle": "2022-11-27T07:23:48.813698Z",
     "shell.execute_reply": "2022-11-27T07:23:48.812256Z"
    },
    "papermill": {
     "duration": 0.066706,
     "end_time": "2022-11-27T07:23:48.816734",
     "exception": false,
     "start_time": "2022-11-27T07:23:48.750028",
     "status": "completed"
    },
    "tags": []
   },
   "outputs": [],
   "source": [
    "filenames: list = pd.read_csv(\"/kaggle/input/dogs-vs-cats-redux-kernels-edition/sample_submission.csv\")\n",
    "filenames = filenames.id.copy().values\n",
    "filepaths: list = []\n",
    "labels: list = []\n",
    "\n",
    "for filename in filenames:\n",
    "    filepaths.append(IMAGES_PATH + \"/test/\" + str(filename) + \".jpg\")\n",
    "\n",
    "ts_df.filepaths = filepaths\n",
    "ts_df.to_csv(\"test.csv\", index=False)"
   ]
  }
 ],
 "metadata": {
  "kernelspec": {
   "display_name": "Python 3",
   "language": "python",
   "name": "python3"
  },
  "language_info": {
   "codemirror_mode": {
    "name": "ipython",
    "version": 3
   },
   "file_extension": ".py",
   "mimetype": "text/x-python",
   "name": "python",
   "nbconvert_exporter": "python",
   "pygments_lexer": "ipython3",
   "version": "3.7.12"
  },
  "papermill": {
   "default_parameters": {},
   "duration": 12.008601,
   "end_time": "2022-11-27T07:23:49.543823",
   "environment_variables": {},
   "exception": null,
   "input_path": "__notebook__.ipynb",
   "output_path": "__notebook__.ipynb",
   "parameters": {},
   "start_time": "2022-11-27T07:23:37.535222",
   "version": "2.3.4"
  }
 },
 "nbformat": 4,
 "nbformat_minor": 5
}
