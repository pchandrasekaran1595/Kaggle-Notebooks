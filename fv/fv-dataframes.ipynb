{
 "cells": [
  {
   "cell_type": "code",
   "execution_count": 1,
   "id": "a486a32d",
   "metadata": {
    "_cell_guid": "b1076dfc-b9ad-4769-8c92-a6c4dae69d19",
    "_uuid": "8f2839f25d086af736a60e9eeb907d3b93b6e0e5",
    "execution": {
     "iopub.execute_input": "2022-10-12T05:14:56.179712Z",
     "iopub.status.busy": "2022-10-12T05:14:56.178660Z",
     "iopub.status.idle": "2022-10-12T05:14:56.191872Z",
     "shell.execute_reply": "2022-10-12T05:14:56.190844Z"
    },
    "papermill": {
     "duration": 0.023387,
     "end_time": "2022-10-12T05:14:56.195224",
     "exception": false,
     "start_time": "2022-10-12T05:14:56.171837",
     "status": "completed"
    },
    "tags": []
   },
   "outputs": [],
   "source": [
    "import os\n",
    "import pandas as pd\n",
    "\n",
    "BASE_PATH: str = \"../input/11-785-f22-hw2p2-verification/verification\""
   ]
  },
  {
   "cell_type": "code",
   "execution_count": 2,
   "id": "88bfe482",
   "metadata": {
    "execution": {
     "iopub.execute_input": "2022-10-12T05:14:56.201966Z",
     "iopub.status.busy": "2022-10-12T05:14:56.201014Z",
     "iopub.status.idle": "2022-10-12T05:14:56.221093Z",
     "shell.execute_reply": "2022-10-12T05:14:56.220138Z"
    },
    "papermill": {
     "duration": 0.025783,
     "end_time": "2022-10-12T05:14:56.223384",
     "exception": false,
     "start_time": "2022-10-12T05:14:56.197601",
     "status": "completed"
    },
    "tags": []
   },
   "outputs": [],
   "source": [
    "known_df: pd.DataFrame = pd.DataFrame(data=None, columns=[\"filepaths\"])\n",
    "unknown_df: pd.DataFrame = pd.DataFrame(data=None, columns=[\"filepaths\"])"
   ]
  },
  {
   "cell_type": "code",
   "execution_count": 3,
   "id": "f9270328",
   "metadata": {
    "execution": {
     "iopub.execute_input": "2022-10-12T05:14:56.229516Z",
     "iopub.status.busy": "2022-10-12T05:14:56.228806Z",
     "iopub.status.idle": "2022-10-12T05:14:58.098050Z",
     "shell.execute_reply": "2022-10-12T05:14:58.096771Z"
    },
    "papermill": {
     "duration": 1.875386,
     "end_time": "2022-10-12T05:14:58.100788",
     "exception": false,
     "start_time": "2022-10-12T05:14:56.225402",
     "status": "completed"
    },
    "tags": []
   },
   "outputs": [],
   "source": [
    "filepaths: list = []\n",
    "\n",
    "for folder in os.listdir(f\"{BASE_PATH}/known\"):\n",
    "    for filename in os.listdir(f\"{BASE_PATH}/known/{folder}\"):\n",
    "        filepaths.append(os.path.join(f\"{BASE_PATH}/known/{folder}\", filename))\n",
    "\n",
    "known_df.filepaths = filepaths\n",
    "known_df.to_csv(\"known.csv\", index=False)"
   ]
  },
  {
   "cell_type": "code",
   "execution_count": 4,
   "id": "b55557fe",
   "metadata": {
    "execution": {
     "iopub.execute_input": "2022-10-12T05:14:58.106800Z",
     "iopub.status.busy": "2022-10-12T05:14:58.106317Z",
     "iopub.status.idle": "2022-10-12T05:14:58.156348Z",
     "shell.execute_reply": "2022-10-12T05:14:58.154550Z"
    },
    "papermill": {
     "duration": 0.058482,
     "end_time": "2022-10-12T05:14:58.161509",
     "exception": false,
     "start_time": "2022-10-12T05:14:58.103027",
     "status": "completed"
    },
    "tags": []
   },
   "outputs": [],
   "source": [
    "filepaths: list = []\n",
    "\n",
    "for filename in os.listdir(f\"{BASE_PATH}/unknown_test\"):\n",
    "    filepaths.append(os.path.join(f\"{BASE_PATH}/unknown_test\", filename))\n",
    "\n",
    "unknown_df.filepaths = filepaths\n",
    "unknown_df.to_csv(\"unknown.csv\", index=False)"
   ]
  }
 ],
 "metadata": {
  "kernelspec": {
   "display_name": "Python 3",
   "language": "python",
   "name": "python3"
  },
  "language_info": {
   "codemirror_mode": {
    "name": "ipython",
    "version": 3
   },
   "file_extension": ".py",
   "mimetype": "text/x-python",
   "name": "python",
   "nbconvert_exporter": "python",
   "pygments_lexer": "ipython3",
   "version": "3.7.12"
  },
  "papermill": {
   "default_parameters": {},
   "duration": 11.488729,
   "end_time": "2022-10-12T05:14:58.990425",
   "environment_variables": {},
   "exception": null,
   "input_path": "__notebook__.ipynb",
   "output_path": "__notebook__.ipynb",
   "parameters": {},
   "start_time": "2022-10-12T05:14:47.501696",
   "version": "2.3.4"
  }
 },
 "nbformat": 4,
 "nbformat_minor": 5
}
