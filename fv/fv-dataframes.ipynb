{
 "cells": [
  {
   "cell_type": "code",
   "execution_count": 1,
   "id": "8851535b",
   "metadata": {
    "_cell_guid": "b1076dfc-b9ad-4769-8c92-a6c4dae69d19",
    "_uuid": "8f2839f25d086af736a60e9eeb907d3b93b6e0e5",
    "execution": {
     "iopub.execute_input": "2022-10-12T05:11:40.655922Z",
     "iopub.status.busy": "2022-10-12T05:11:40.655343Z",
     "iopub.status.idle": "2022-10-12T05:11:40.669175Z",
     "shell.execute_reply": "2022-10-12T05:11:40.667970Z"
    },
    "papermill": {
     "duration": 0.02245,
     "end_time": "2022-10-12T05:11:40.671874",
     "exception": false,
     "start_time": "2022-10-12T05:11:40.649424",
     "status": "completed"
    },
    "tags": []
   },
   "outputs": [],
   "source": [
    "import os\n",
    "import pandas as pd\n",
    "\n",
    "BASE_PATH: str = \"../input/11-785-f22-hw2p2-verification/verification\""
   ]
  },
  {
   "cell_type": "code",
   "execution_count": 2,
   "id": "c04447b7",
   "metadata": {
    "execution": {
     "iopub.execute_input": "2022-10-12T05:11:40.678259Z",
     "iopub.status.busy": "2022-10-12T05:11:40.677782Z",
     "iopub.status.idle": "2022-10-12T05:11:40.693944Z",
     "shell.execute_reply": "2022-10-12T05:11:40.692592Z"
    },
    "papermill": {
     "duration": 0.0233,
     "end_time": "2022-10-12T05:11:40.697620",
     "exception": false,
     "start_time": "2022-10-12T05:11:40.674320",
     "status": "completed"
    },
    "tags": []
   },
   "outputs": [],
   "source": [
    "known_df: pd.DataFrame = pd.DataFrame(data=None, columns=[\"filepaths\"])\n",
    "unknown_df: pd.DataFrame = pd.DataFrame(data=None, columns=[\"filepaths\"])"
   ]
  },
  {
   "cell_type": "code",
   "execution_count": 3,
   "id": "d9605ac6",
   "metadata": {
    "execution": {
     "iopub.execute_input": "2022-10-12T05:11:40.706343Z",
     "iopub.status.busy": "2022-10-12T05:11:40.704936Z",
     "iopub.status.idle": "2022-10-12T05:11:43.944036Z",
     "shell.execute_reply": "2022-10-12T05:11:43.943192Z"
    },
    "papermill": {
     "duration": 3.245971,
     "end_time": "2022-10-12T05:11:43.946731",
     "exception": false,
     "start_time": "2022-10-12T05:11:40.700760",
     "status": "completed"
    },
    "tags": []
   },
   "outputs": [],
   "source": [
    "filepaths: list = []\n",
    "\n",
    "for folder in os.listdir(f\"{BASE_PATH}/known\"):\n",
    "    for filename in os.listdir(f\"{BASE_PATH}/known/{folder}\"):\n",
    "        filepaths = os.path.join(f\"{BASE_PATH}/known/{folder}\", filename)\n",
    "\n",
    "known_df.filepaths = filepaths\n",
    "known_df.to_csv(\"known.csv\", index=False)"
   ]
  },
  {
   "cell_type": "code",
   "execution_count": 4,
   "id": "76f87c57",
   "metadata": {
    "execution": {
     "iopub.execute_input": "2022-10-12T05:11:43.952311Z",
     "iopub.status.busy": "2022-10-12T05:11:43.951907Z",
     "iopub.status.idle": "2022-10-12T05:11:44.123497Z",
     "shell.execute_reply": "2022-10-12T05:11:44.122324Z"
    },
    "papermill": {
     "duration": 0.177536,
     "end_time": "2022-10-12T05:11:44.126356",
     "exception": false,
     "start_time": "2022-10-12T05:11:43.948820",
     "status": "completed"
    },
    "tags": []
   },
   "outputs": [],
   "source": [
    "filepaths: list = []\n",
    "\n",
    "for filename in os.listdir(f\"{BASE_PATH}/unknown_test\"):\n",
    "    filepaths = os.path.join(f\"{BASE_PATH}/unknown_test\", filename)\n",
    "\n",
    "unknown_df.filepaths = filepaths\n",
    "unknown_df.to_csv(\"unknown.csv\", index=False)"
   ]
  }
 ],
 "metadata": {
  "kernelspec": {
   "display_name": "Python 3",
   "language": "python",
   "name": "python3"
  },
  "language_info": {
   "codemirror_mode": {
    "name": "ipython",
    "version": 3
   },
   "file_extension": ".py",
   "mimetype": "text/x-python",
   "name": "python",
   "nbconvert_exporter": "python",
   "pygments_lexer": "ipython3",
   "version": "3.7.12"
  },
  "papermill": {
   "default_parameters": {},
   "duration": 13.301618,
   "end_time": "2022-10-12T05:11:44.749742",
   "environment_variables": {},
   "exception": null,
   "input_path": "__notebook__.ipynb",
   "output_path": "__notebook__.ipynb",
   "parameters": {},
   "start_time": "2022-10-12T05:11:31.448124",
   "version": "2.3.4"
  }
 },
 "nbformat": 4,
 "nbformat_minor": 5
}
