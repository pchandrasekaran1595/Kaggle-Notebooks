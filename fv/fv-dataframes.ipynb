{
 "cells": [
  {
   "cell_type": "code",
   "execution_count": 1,
   "id": "27b344d3",
   "metadata": {
    "_cell_guid": "b1076dfc-b9ad-4769-8c92-a6c4dae69d19",
    "_uuid": "8f2839f25d086af736a60e9eeb907d3b93b6e0e5",
    "execution": {
     "iopub.execute_input": "2022-10-12T04:55:21.006726Z",
     "iopub.status.busy": "2022-10-12T04:55:21.005920Z",
     "iopub.status.idle": "2022-10-12T04:55:21.018296Z",
     "shell.execute_reply": "2022-10-12T04:55:21.016704Z"
    },
    "papermill": {
     "duration": 0.020045,
     "end_time": "2022-10-12T04:55:21.021366",
     "exception": false,
     "start_time": "2022-10-12T04:55:21.001321",
     "status": "completed"
    },
    "tags": []
   },
   "outputs": [],
   "source": [
    "import os\n",
    "import pandas as pd\n",
    "\n",
    "BASE_PATH: str = \"../input/11-785-f22-hw2p2-verification/verification\""
   ]
  },
  {
   "cell_type": "code",
   "execution_count": 2,
   "id": "70b5c185",
   "metadata": {
    "execution": {
     "iopub.execute_input": "2022-10-12T04:55:21.028422Z",
     "iopub.status.busy": "2022-10-12T04:55:21.027730Z",
     "iopub.status.idle": "2022-10-12T04:55:21.043890Z",
     "shell.execute_reply": "2022-10-12T04:55:21.042593Z"
    },
    "papermill": {
     "duration": 0.023252,
     "end_time": "2022-10-12T04:55:21.047272",
     "exception": false,
     "start_time": "2022-10-12T04:55:21.024020",
     "status": "completed"
    },
    "tags": []
   },
   "outputs": [],
   "source": [
    "known_df: pd.DataFrame = pd.DataFrame(data=None, columns=[\"filepaths\"])\n",
    "unknown_df: pd.DataFrame = pd.DataFrame(data=None, columns=[\"filepaths\"])"
   ]
  },
  {
   "cell_type": "code",
   "execution_count": 3,
   "id": "9f0f8abd",
   "metadata": {
    "execution": {
     "iopub.execute_input": "2022-10-12T04:55:21.053808Z",
     "iopub.status.busy": "2022-10-12T04:55:21.052710Z",
     "iopub.status.idle": "2022-10-12T04:55:24.337101Z",
     "shell.execute_reply": "2022-10-12T04:55:24.336122Z"
    },
    "papermill": {
     "duration": 3.290221,
     "end_time": "2022-10-12T04:55:24.339636",
     "exception": false,
     "start_time": "2022-10-12T04:55:21.049415",
     "status": "completed"
    },
    "tags": []
   },
   "outputs": [],
   "source": [
    "filepaths: list = []\n",
    "\n",
    "for folder in os.listdir(f\"{BASE_PATH}/known\"):\n",
    "    for filename in os.listdir(f\"{BASE_PATH}/known/{folder}\"):\n",
    "        filepaths = os.path.join(f\"{BASE_PATH}/known/{folder}\", filename)\n",
    "\n",
    "known_df.filepaths = filepaths"
   ]
  },
  {
   "cell_type": "code",
   "execution_count": 4,
   "id": "ddd7e053",
   "metadata": {
    "execution": {
     "iopub.execute_input": "2022-10-12T04:55:24.345717Z",
     "iopub.status.busy": "2022-10-12T04:55:24.345278Z",
     "iopub.status.idle": "2022-10-12T04:55:24.447877Z",
     "shell.execute_reply": "2022-10-12T04:55:24.446931Z"
    },
    "papermill": {
     "duration": 0.108613,
     "end_time": "2022-10-12T04:55:24.450389",
     "exception": false,
     "start_time": "2022-10-12T04:55:24.341776",
     "status": "completed"
    },
    "tags": []
   },
   "outputs": [],
   "source": [
    "filepaths: list = []\n",
    "\n",
    "for filename in os.listdir(f\"{BASE_PATH}/unknown_test\"):\n",
    "    filepaths = os.path.join(f\"{BASE_PATH}/unknown_test\", filename)\n",
    "\n",
    "unknown_df.filepaths = filepaths"
   ]
  }
 ],
 "metadata": {
  "kernelspec": {
   "display_name": "Python 3",
   "language": "python",
   "name": "python3"
  },
  "language_info": {
   "codemirror_mode": {
    "name": "ipython",
    "version": 3
   },
   "file_extension": ".py",
   "mimetype": "text/x-python",
   "name": "python",
   "nbconvert_exporter": "python",
   "pygments_lexer": "ipython3",
   "version": "3.7.12"
  },
  "papermill": {
   "default_parameters": {},
   "duration": 13.728074,
   "end_time": "2022-10-12T04:55:25.174074",
   "environment_variables": {},
   "exception": null,
   "input_path": "__notebook__.ipynb",
   "output_path": "__notebook__.ipynb",
   "parameters": {},
   "start_time": "2022-10-12T04:55:11.446000",
   "version": "2.3.4"
  }
 },
 "nbformat": 4,
 "nbformat_minor": 5
}
