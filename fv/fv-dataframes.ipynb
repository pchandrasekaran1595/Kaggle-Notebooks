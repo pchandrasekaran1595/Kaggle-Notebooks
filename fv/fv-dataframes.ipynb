{
 "cells": [
  {
   "cell_type": "code",
   "execution_count": 1,
   "id": "024940a0",
   "metadata": {
    "_cell_guid": "b1076dfc-b9ad-4769-8c92-a6c4dae69d19",
    "_uuid": "8f2839f25d086af736a60e9eeb907d3b93b6e0e5",
    "execution": {
     "iopub.execute_input": "2022-10-12T08:16:54.333325Z",
     "iopub.status.busy": "2022-10-12T08:16:54.332538Z",
     "iopub.status.idle": "2022-10-12T08:16:54.342600Z",
     "shell.execute_reply": "2022-10-12T08:16:54.341714Z"
    },
    "papermill": {
     "duration": 0.017668,
     "end_time": "2022-10-12T08:16:54.344982",
     "exception": false,
     "start_time": "2022-10-12T08:16:54.327314",
     "status": "completed"
    },
    "tags": []
   },
   "outputs": [],
   "source": [
    "import os\n",
    "import pandas as pd\n",
    "\n",
    "BASE_PATH: str = \"../input/11-785-f22-hw2p2-verification/verification\""
   ]
  },
  {
   "cell_type": "code",
   "execution_count": 2,
   "id": "18d9dc8a",
   "metadata": {
    "execution": {
     "iopub.execute_input": "2022-10-12T08:16:54.351132Z",
     "iopub.status.busy": "2022-10-12T08:16:54.350455Z",
     "iopub.status.idle": "2022-10-12T08:16:54.364363Z",
     "shell.execute_reply": "2022-10-12T08:16:54.363442Z"
    },
    "papermill": {
     "duration": 0.019821,
     "end_time": "2022-10-12T08:16:54.367014",
     "exception": false,
     "start_time": "2022-10-12T08:16:54.347193",
     "status": "completed"
    },
    "tags": []
   },
   "outputs": [],
   "source": [
    "known_df: pd.DataFrame = pd.DataFrame(data=None, columns=[\"filepaths\"])\n",
    "unknown_df: pd.DataFrame = pd.DataFrame(data=None, columns=[\"filepaths\"])"
   ]
  },
  {
   "cell_type": "code",
   "execution_count": 3,
   "id": "739af7a7",
   "metadata": {
    "execution": {
     "iopub.execute_input": "2022-10-12T08:16:54.373148Z",
     "iopub.status.busy": "2022-10-12T08:16:54.372433Z",
     "iopub.status.idle": "2022-10-12T08:16:56.549374Z",
     "shell.execute_reply": "2022-10-12T08:16:56.548272Z"
    },
    "papermill": {
     "duration": 2.183437,
     "end_time": "2022-10-12T08:16:56.552567",
     "exception": false,
     "start_time": "2022-10-12T08:16:54.369130",
     "status": "completed"
    },
    "tags": []
   },
   "outputs": [],
   "source": [
    "filepaths: list = []\n",
    "\n",
    "for folder in os.listdir(f\"{BASE_PATH}/known\"):\n",
    "    for filename in os.listdir(f\"{BASE_PATH}/known/{folder}\"):\n",
    "        filepaths.append(os.path.join(f\"{BASE_PATH}/known/{folder}\", filename))\n",
    "\n",
    "known_df.filepaths = filepaths\n",
    "known_df.to_csv(\"known.csv\", index=False)"
   ]
  },
  {
   "cell_type": "code",
   "execution_count": 4,
   "id": "b7a0533a",
   "metadata": {
    "execution": {
     "iopub.execute_input": "2022-10-12T08:16:56.558921Z",
     "iopub.status.busy": "2022-10-12T08:16:56.558511Z",
     "iopub.status.idle": "2022-10-12T08:16:56.722984Z",
     "shell.execute_reply": "2022-10-12T08:16:56.721705Z"
    },
    "papermill": {
     "duration": 0.170523,
     "end_time": "2022-10-12T08:16:56.725587",
     "exception": false,
     "start_time": "2022-10-12T08:16:56.555064",
     "status": "completed"
    },
    "tags": []
   },
   "outputs": [],
   "source": [
    "filepaths: list = []\n",
    "\n",
    "for filename in sorted(os.listdir(f\"{BASE_PATH}/unknown_test\")):\n",
    "    filepaths.append(os.path.join(f\"{BASE_PATH}/unknown_test\", filename))\n",
    "\n",
    "unknown_df.filepaths = filepaths\n",
    "unknown_df.to_csv(\"unknown.csv\", index=False)"
   ]
  }
 ],
 "metadata": {
  "kernelspec": {
   "display_name": "Python 3",
   "language": "python",
   "name": "python3"
  },
  "language_info": {
   "codemirror_mode": {
    "name": "ipython",
    "version": 3
   },
   "file_extension": ".py",
   "mimetype": "text/x-python",
   "name": "python",
   "nbconvert_exporter": "python",
   "pygments_lexer": "ipython3",
   "version": "3.7.12"
  },
  "papermill": {
   "default_parameters": {},
   "duration": 12.145657,
   "end_time": "2022-10-12T08:16:57.349284",
   "environment_variables": {},
   "exception": null,
   "input_path": "__notebook__.ipynb",
   "output_path": "__notebook__.ipynb",
   "parameters": {},
   "start_time": "2022-10-12T08:16:45.203627",
   "version": "2.3.4"
  }
 },
 "nbformat": 4,
 "nbformat_minor": 5
}
