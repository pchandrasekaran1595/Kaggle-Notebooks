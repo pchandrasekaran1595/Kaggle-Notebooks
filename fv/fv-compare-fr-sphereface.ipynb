{
 "cells": [
  {
   "cell_type": "code",
   "execution_count": 1,
   "id": "714fe841",
   "metadata": {
    "_cell_guid": "b1076dfc-b9ad-4769-8c92-a6c4dae69d19",
    "_uuid": "8f2839f25d086af736a60e9eeb907d3b93b6e0e5",
    "execution": {
     "iopub.execute_input": "2022-10-12T11:05:04.363581Z",
     "iopub.status.busy": "2022-10-12T11:05:04.362561Z",
     "iopub.status.idle": "2022-10-12T11:05:04.374171Z",
     "shell.execute_reply": "2022-10-12T11:05:04.372986Z"
    },
    "papermill": {
     "duration": 0.020007,
     "end_time": "2022-10-12T11:05:04.377029",
     "exception": false,
     "start_time": "2022-10-12T11:05:04.357022",
     "status": "completed"
    },
    "tags": []
   },
   "outputs": [],
   "source": [
    "import os\n",
    "import numpy as np\n",
    "import pandas as pd"
   ]
  },
  {
   "cell_type": "code",
   "execution_count": 2,
   "id": "5cf3170e",
   "metadata": {
    "execution": {
     "iopub.execute_input": "2022-10-12T11:05:04.385112Z",
     "iopub.status.busy": "2022-10-12T11:05:04.384318Z",
     "iopub.status.idle": "2022-10-12T11:05:04.390626Z",
     "shell.execute_reply": "2022-10-12T11:05:04.389793Z"
    },
    "papermill": {
     "duration": 0.013185,
     "end_time": "2022-10-12T11:05:04.393085",
     "exception": false,
     "start_time": "2022-10-12T11:05:04.379900",
     "status": "completed"
    },
    "tags": []
   },
   "outputs": [],
   "source": [
    "def cosine_similarity(a: np.ndarray, b: np.ndarray) -> float: return np.dot(a, b.reshape(-1, 1)) / (np.linalg.norm(a) * np.linalg.norm(b))"
   ]
  },
  {
   "cell_type": "code",
   "execution_count": 3,
   "id": "7a1a46ee",
   "metadata": {
    "execution": {
     "iopub.execute_input": "2022-10-12T11:05:04.400264Z",
     "iopub.status.busy": "2022-10-12T11:05:04.399596Z",
     "iopub.status.idle": "2022-10-12T11:05:04.405262Z",
     "shell.execute_reply": "2022-10-12T11:05:04.403990Z"
    },
    "papermill": {
     "duration": 0.013701,
     "end_time": "2022-10-12T11:05:04.409345",
     "exception": false,
     "start_time": "2022-10-12T11:05:04.395644",
     "status": "completed"
    },
    "tags": []
   },
   "outputs": [],
   "source": [
    "known_embeddings_path: str   = \"../input/fv-get-embeddings-sphereface/known-embeddings/\"\n",
    "unknown_embeddings_path: str = \"../input/fv-get-embeddings-sphereface/unknown-test-embeddings/\"    "
   ]
  },
  {
   "cell_type": "code",
   "execution_count": 4,
   "id": "45fd3b14",
   "metadata": {
    "execution": {
     "iopub.execute_input": "2022-10-12T11:05:04.417248Z",
     "iopub.status.busy": "2022-10-12T11:05:04.416802Z",
     "iopub.status.idle": "2022-10-12T11:05:04.632178Z",
     "shell.execute_reply": "2022-10-12T11:05:04.630895Z"
    },
    "papermill": {
     "duration": 0.222934,
     "end_time": "2022-10-12T11:05:04.635486",
     "exception": false,
     "start_time": "2022-10-12T11:05:04.412552",
     "status": "completed"
    },
    "tags": []
   },
   "outputs": [],
   "source": [
    "known_embeddings_fr: list   = [filename for filename in sorted(os.listdir(known_embeddings_path)) if \"_fd\" not in filename]\n",
    "unknown_embeddings_fr: list = [filename for filename in sorted(os.listdir(unknown_embeddings_path)) if \"_fd\" not in filename]"
   ]
  },
  {
   "cell_type": "code",
   "execution_count": 5,
   "id": "d55d39bf",
   "metadata": {
    "execution": {
     "iopub.execute_input": "2022-10-12T11:05:04.642676Z",
     "iopub.status.busy": "2022-10-12T11:05:04.642209Z",
     "iopub.status.idle": "2022-10-12T11:18:36.427610Z",
     "shell.execute_reply": "2022-10-12T11:18:36.426395Z"
    },
    "papermill": {
     "duration": 811.792263,
     "end_time": "2022-10-12T11:18:36.430491",
     "exception": false,
     "start_time": "2022-10-12T11:05:04.638228",
     "status": "completed"
    },
    "tags": []
   },
   "outputs": [],
   "source": [
    "labels: list = []\n",
    "\n",
    "for unknown_embedding_fr in unknown_embeddings_fr:\n",
    "    similarity = -np.inf\n",
    "    unk_embedding = np.load(os.path.join(unknown_embeddings_path, unknown_embedding_fr))\n",
    "    for known_embedding_fr in known_embeddings_fr:\n",
    "        k_embedding = np.load(os.path.join(known_embeddings_path, known_embedding_fr))\n",
    "        compare_sim = cosine_similarity(unk_embedding, k_embedding)[0][0]\n",
    "        if compare_sim > similarity:\n",
    "            label = known_embedding_fr.split(\"_\")[0]\n",
    "            similarity = compare_sim\n",
    "    labels.append(label)"
   ]
  },
  {
   "cell_type": "code",
   "execution_count": 6,
   "id": "3eb3d481",
   "metadata": {
    "execution": {
     "iopub.execute_input": "2022-10-12T11:18:36.437473Z",
     "iopub.status.busy": "2022-10-12T11:18:36.437042Z",
     "iopub.status.idle": "2022-10-12T11:18:36.649964Z",
     "shell.execute_reply": "2022-10-12T11:18:36.648689Z"
    },
    "papermill": {
     "duration": 0.21953,
     "end_time": "2022-10-12T11:18:36.652835",
     "exception": false,
     "start_time": "2022-10-12T11:18:36.433305",
     "status": "completed"
    },
    "tags": []
   },
   "outputs": [],
   "source": [
    "df = pd.DataFrame(data=None, columns=[\"id\", \"label\"])\n",
    "\n",
    "df.id = [i for i in range(len(os.listdir(\"../input/11-785-f22-hw2p2-verification/verification/unknown_test\")))]\n",
    "df.label = labels\n",
    "df.to_csv(\"submission.csv\", index=False)"
   ]
  }
 ],
 "metadata": {
  "kernelspec": {
   "display_name": "Python 3",
   "language": "python",
   "name": "python3"
  },
  "language_info": {
   "codemirror_mode": {
    "name": "ipython",
    "version": 3
   },
   "file_extension": ".py",
   "mimetype": "text/x-python",
   "name": "python",
   "nbconvert_exporter": "python",
   "pygments_lexer": "ipython3",
   "version": "3.7.12"
  },
  "papermill": {
   "default_parameters": {},
   "duration": 822.894061,
   "end_time": "2022-10-12T11:18:37.278736",
   "environment_variables": {},
   "exception": null,
   "input_path": "__notebook__.ipynb",
   "output_path": "__notebook__.ipynb",
   "parameters": {},
   "start_time": "2022-10-12T11:04:54.384675",
   "version": "2.3.4"
  }
 },
 "nbformat": 4,
 "nbformat_minor": 5
}
