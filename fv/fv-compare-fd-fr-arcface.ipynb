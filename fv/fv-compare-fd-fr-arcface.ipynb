{
 "cells": [
  {
   "cell_type": "code",
   "execution_count": 1,
   "id": "b4946870",
   "metadata": {
    "_cell_guid": "b1076dfc-b9ad-4769-8c92-a6c4dae69d19",
    "_uuid": "8f2839f25d086af736a60e9eeb907d3b93b6e0e5",
    "execution": {
     "iopub.execute_input": "2022-10-12T12:30:56.693426Z",
     "iopub.status.busy": "2022-10-12T12:30:56.692261Z",
     "iopub.status.idle": "2022-10-12T12:30:56.703777Z",
     "shell.execute_reply": "2022-10-12T12:30:56.702650Z"
    },
    "papermill": {
     "duration": 0.020328,
     "end_time": "2022-10-12T12:30:56.706668",
     "exception": false,
     "start_time": "2022-10-12T12:30:56.686340",
     "status": "completed"
    },
    "tags": []
   },
   "outputs": [],
   "source": [
    "import os\n",
    "import numpy as np\n",
    "import pandas as pd"
   ]
  },
  {
   "cell_type": "code",
   "execution_count": 2,
   "id": "fb45bf6b",
   "metadata": {
    "execution": {
     "iopub.execute_input": "2022-10-12T12:30:56.714345Z",
     "iopub.status.busy": "2022-10-12T12:30:56.713793Z",
     "iopub.status.idle": "2022-10-12T12:30:56.720909Z",
     "shell.execute_reply": "2022-10-12T12:30:56.719741Z"
    },
    "papermill": {
     "duration": 0.013481,
     "end_time": "2022-10-12T12:30:56.723199",
     "exception": false,
     "start_time": "2022-10-12T12:30:56.709718",
     "status": "completed"
    },
    "tags": []
   },
   "outputs": [],
   "source": [
    "def cosine_similarity(a: np.ndarray, b: np.ndarray) -> float: return np.dot(a, b.reshape(-1, 1)) / (np.linalg.norm(a) * np.linalg.norm(b))"
   ]
  },
  {
   "cell_type": "code",
   "execution_count": 3,
   "id": "fd680e7e",
   "metadata": {
    "execution": {
     "iopub.execute_input": "2022-10-12T12:30:56.730507Z",
     "iopub.status.busy": "2022-10-12T12:30:56.730007Z",
     "iopub.status.idle": "2022-10-12T12:30:56.735435Z",
     "shell.execute_reply": "2022-10-12T12:30:56.734192Z"
    },
    "papermill": {
     "duration": 0.011945,
     "end_time": "2022-10-12T12:30:56.737831",
     "exception": false,
     "start_time": "2022-10-12T12:30:56.725886",
     "status": "completed"
    },
    "tags": []
   },
   "outputs": [],
   "source": [
    "known_embeddings_path: str   = \"../input/fv-get-embeddings-arcface/known-embeddings/\"\n",
    "unknown_embeddings_path: str = \"../input/fv-get-embeddings-arcface/unknown-test-embeddings/\"    "
   ]
  },
  {
   "cell_type": "code",
   "execution_count": 4,
   "id": "a7f111dc",
   "metadata": {
    "execution": {
     "iopub.execute_input": "2022-10-12T12:30:56.745249Z",
     "iopub.status.busy": "2022-10-12T12:30:56.744743Z",
     "iopub.status.idle": "2022-10-12T12:30:56.918109Z",
     "shell.execute_reply": "2022-10-12T12:30:56.916788Z"
    },
    "papermill": {
     "duration": 0.18075,
     "end_time": "2022-10-12T12:30:56.921325",
     "exception": false,
     "start_time": "2022-10-12T12:30:56.740575",
     "status": "completed"
    },
    "tags": []
   },
   "outputs": [],
   "source": [
    "known_embeddings_fr: list   = [filename for filename in sorted(os.listdir(known_embeddings_path)) if \"_fd\" in filename]\n",
    "unknown_embeddings_fr: list = [filename for filename in sorted(os.listdir(unknown_embeddings_path)) if \"_fd\" in filename]"
   ]
  },
  {
   "cell_type": "code",
   "execution_count": 5,
   "id": "b3ccb201",
   "metadata": {
    "execution": {
     "iopub.execute_input": "2022-10-12T12:30:56.929026Z",
     "iopub.status.busy": "2022-10-12T12:30:56.928519Z",
     "iopub.status.idle": "2022-10-12T12:43:17.327305Z",
     "shell.execute_reply": "2022-10-12T12:43:17.326069Z"
    },
    "papermill": {
     "duration": 740.406389,
     "end_time": "2022-10-12T12:43:17.330442",
     "exception": false,
     "start_time": "2022-10-12T12:30:56.924053",
     "status": "completed"
    },
    "tags": []
   },
   "outputs": [],
   "source": [
    "labels: list = []\n",
    "\n",
    "for unknown_embedding_fr in unknown_embeddings_fr:\n",
    "    similarity = -np.inf\n",
    "    unk_embedding = np.load(os.path.join(unknown_embeddings_path, unknown_embedding_fr))\n",
    "    for known_embedding_fr in known_embeddings_fr:\n",
    "        k_embedding = np.load(os.path.join(known_embeddings_path, known_embedding_fr))\n",
    "        compare_sim = cosine_similarity(unk_embedding, k_embedding)[0][0]\n",
    "        if compare_sim > similarity:\n",
    "            label = known_embedding_fr.split(\"_\")[0]\n",
    "            similarity = compare_sim\n",
    "    labels.append(label)"
   ]
  },
  {
   "cell_type": "code",
   "execution_count": 6,
   "id": "c867e6b8",
   "metadata": {
    "execution": {
     "iopub.execute_input": "2022-10-12T12:43:17.339397Z",
     "iopub.status.busy": "2022-10-12T12:43:17.338484Z",
     "iopub.status.idle": "2022-10-12T12:43:17.536105Z",
     "shell.execute_reply": "2022-10-12T12:43:17.534598Z"
    },
    "papermill": {
     "duration": 0.206102,
     "end_time": "2022-10-12T12:43:17.539331",
     "exception": false,
     "start_time": "2022-10-12T12:43:17.333229",
     "status": "completed"
    },
    "tags": []
   },
   "outputs": [],
   "source": [
    "df = pd.DataFrame(data=None, columns=[\"id\", \"label\"])\n",
    "\n",
    "df.id = [i for i in range(len(os.listdir(\"../input/11-785-f22-hw2p2-verification/verification/unknown_test\")))]\n",
    "df.label = labels\n",
    "df.to_csv(\"submission.csv\", index=False)"
   ]
  }
 ],
 "metadata": {
  "kernelspec": {
   "display_name": "Python 3",
   "language": "python",
   "name": "python3"
  },
  "language_info": {
   "codemirror_mode": {
    "name": "ipython",
    "version": 3
   },
   "file_extension": ".py",
   "mimetype": "text/x-python",
   "name": "python",
   "nbconvert_exporter": "python",
   "pygments_lexer": "ipython3",
   "version": "3.7.12"
  },
  "papermill": {
   "default_parameters": {},
   "duration": 751.49411,
   "end_time": "2022-10-12T12:43:18.468895",
   "environment_variables": {},
   "exception": null,
   "input_path": "__notebook__.ipynb",
   "output_path": "__notebook__.ipynb",
   "parameters": {},
   "start_time": "2022-10-12T12:30:46.974785",
   "version": "2.3.4"
  }
 },
 "nbformat": 4,
 "nbformat_minor": 5
}
