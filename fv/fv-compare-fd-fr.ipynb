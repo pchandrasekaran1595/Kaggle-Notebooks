{
 "cells": [
  {
   "cell_type": "code",
   "execution_count": 1,
   "id": "90de0380",
   "metadata": {
    "_cell_guid": "b1076dfc-b9ad-4769-8c92-a6c4dae69d19",
    "_uuid": "8f2839f25d086af736a60e9eeb907d3b93b6e0e5",
    "execution": {
     "iopub.execute_input": "2022-10-12T03:46:19.869992Z",
     "iopub.status.busy": "2022-10-12T03:46:19.869392Z",
     "iopub.status.idle": "2022-10-12T03:46:19.881490Z",
     "shell.execute_reply": "2022-10-12T03:46:19.880476Z"
    },
    "papermill": {
     "duration": 0.020044,
     "end_time": "2022-10-12T03:46:19.883821",
     "exception": false,
     "start_time": "2022-10-12T03:46:19.863777",
     "status": "completed"
    },
    "tags": []
   },
   "outputs": [],
   "source": [
    "import os\n",
    "import numpy as np\n",
    "import pandas as pd"
   ]
  },
  {
   "cell_type": "code",
   "execution_count": 2,
   "id": "bd477ae2",
   "metadata": {
    "execution": {
     "iopub.execute_input": "2022-10-12T03:46:19.890401Z",
     "iopub.status.busy": "2022-10-12T03:46:19.890022Z",
     "iopub.status.idle": "2022-10-12T03:46:19.895812Z",
     "shell.execute_reply": "2022-10-12T03:46:19.894556Z"
    },
    "papermill": {
     "duration": 0.011551,
     "end_time": "2022-10-12T03:46:19.898057",
     "exception": false,
     "start_time": "2022-10-12T03:46:19.886506",
     "status": "completed"
    },
    "tags": []
   },
   "outputs": [],
   "source": [
    "def cosine_similarity(a: np.ndarray, b: np.ndarray) -> float: return np.dot(a, b.reshape(-1, 1)) / (np.linalg.norm(a) * np.linalg.norm(b))"
   ]
  },
  {
   "cell_type": "code",
   "execution_count": 3,
   "id": "24b85c0a",
   "metadata": {
    "execution": {
     "iopub.execute_input": "2022-10-12T03:46:19.904391Z",
     "iopub.status.busy": "2022-10-12T03:46:19.904015Z",
     "iopub.status.idle": "2022-10-12T03:46:19.908581Z",
     "shell.execute_reply": "2022-10-12T03:46:19.907539Z"
    },
    "papermill": {
     "duration": 0.010301,
     "end_time": "2022-10-12T03:46:19.910802",
     "exception": false,
     "start_time": "2022-10-12T03:46:19.900501",
     "status": "completed"
    },
    "tags": []
   },
   "outputs": [],
   "source": [
    "known_embeddings_path: str   = \"../input/fv-get-embeddings/known-embeddings/\"\n",
    "unknown_embeddings_path: str = \"../input/fv-get-embeddings/unknown-test-embeddings/\"    "
   ]
  },
  {
   "cell_type": "code",
   "execution_count": 4,
   "id": "3a8223dc",
   "metadata": {
    "execution": {
     "iopub.execute_input": "2022-10-12T03:46:19.916971Z",
     "iopub.status.busy": "2022-10-12T03:46:19.916639Z",
     "iopub.status.idle": "2022-10-12T03:46:20.490024Z",
     "shell.execute_reply": "2022-10-12T03:46:20.489080Z"
    },
    "papermill": {
     "duration": 0.579297,
     "end_time": "2022-10-12T03:46:20.492462",
     "exception": false,
     "start_time": "2022-10-12T03:46:19.913165",
     "status": "completed"
    },
    "tags": []
   },
   "outputs": [],
   "source": [
    "known_embeddings_fd_fr: list   = [filename for filename in sorted(os.listdir(known_embeddings_path)) if \"_fd\" in filename]\n",
    "unknown_embeddings_fd_fr: list = [filename for filename in sorted(os.listdir(unknown_embeddings_path)) if \"_fd\" in filename]"
   ]
  },
  {
   "cell_type": "code",
   "execution_count": 5,
   "id": "c7b7ca2c",
   "metadata": {
    "execution": {
     "iopub.execute_input": "2022-10-12T03:46:20.501517Z",
     "iopub.status.busy": "2022-10-12T03:46:20.500789Z",
     "iopub.status.idle": "2022-10-12T03:58:54.378676Z",
     "shell.execute_reply": "2022-10-12T03:58:54.377568Z"
    },
    "papermill": {
     "duration": 753.884997,
     "end_time": "2022-10-12T03:58:54.381476",
     "exception": false,
     "start_time": "2022-10-12T03:46:20.496479",
     "status": "completed"
    },
    "tags": []
   },
   "outputs": [],
   "source": [
    "labels: list = []\n",
    "\n",
    "for unknown_embedding_fd_fr in unknown_embeddings_fd_fr:\n",
    "    similarity = -np.inf\n",
    "    unk_embedding = np.load(os.path.join(unknown_embeddings_path, unknown_embedding_fd_fr))\n",
    "    for known_embedding_fd_fr in known_embeddings_fd_fr:\n",
    "        k_embedding = np.load(os.path.join(known_embeddings_path, known_embedding_fd_fr))\n",
    "        compare_sim = cosine_similarity(unk_embedding, k_embedding)[0][0]\n",
    "        if compare_sim > similarity:\n",
    "            label = known_embedding_fd_fr.split(\"_\")[0]\n",
    "            similarity = compare_sim\n",
    "    labels.append(label)"
   ]
  },
  {
   "cell_type": "code",
   "execution_count": 6,
   "id": "8623abd3",
   "metadata": {
    "execution": {
     "iopub.execute_input": "2022-10-12T03:58:54.389367Z",
     "iopub.status.busy": "2022-10-12T03:58:54.388968Z",
     "iopub.status.idle": "2022-10-12T03:58:54.618877Z",
     "shell.execute_reply": "2022-10-12T03:58:54.617676Z"
    },
    "papermill": {
     "duration": 0.23627,
     "end_time": "2022-10-12T03:58:54.621668",
     "exception": false,
     "start_time": "2022-10-12T03:58:54.385398",
     "status": "completed"
    },
    "tags": []
   },
   "outputs": [],
   "source": [
    "df = pd.DataFrame(data=None, columns=[\"id\", \"label\"])\n",
    "\n",
    "df.id = [i for i in range(len(os.listdir(\"../input/11-785-f22-hw2p2-verification/verification/unknown_test\")))]\n",
    "df.label = labels\n",
    "df.to_csv(\"submission.csv\", index=False)"
   ]
  }
 ],
 "metadata": {
  "kernelspec": {
   "display_name": "Python 3",
   "language": "python",
   "name": "python3"
  },
  "language_info": {
   "codemirror_mode": {
    "name": "ipython",
    "version": 3
   },
   "file_extension": ".py",
   "mimetype": "text/x-python",
   "name": "python",
   "nbconvert_exporter": "python",
   "pygments_lexer": "ipython3",
   "version": "3.7.12"
  },
  "papermill": {
   "default_parameters": {},
   "duration": 764.002346,
   "end_time": "2022-10-12T03:58:55.245939",
   "environment_variables": {},
   "exception": null,
   "input_path": "__notebook__.ipynb",
   "output_path": "__notebook__.ipynb",
   "parameters": {},
   "start_time": "2022-10-12T03:46:11.243593",
   "version": "2.3.4"
  }
 },
 "nbformat": 4,
 "nbformat_minor": 5
}
