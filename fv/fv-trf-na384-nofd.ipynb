{
 "cells": [
  {
   "cell_type": "code",
   "execution_count": 1,
   "id": "60c93067",
   "metadata": {
    "_cell_guid": "b1076dfc-b9ad-4769-8c92-a6c4dae69d19",
    "_uuid": "8f2839f25d086af736a60e9eeb907d3b93b6e0e5",
    "execution": {
     "iopub.execute_input": "2022-10-12T05:53:11.253205Z",
     "iopub.status.busy": "2022-10-12T05:53:11.252768Z",
     "iopub.status.idle": "2022-10-12T05:53:23.332648Z",
     "shell.execute_reply": "2022-10-12T05:53:23.331526Z"
    },
    "papermill": {
     "duration": 12.086899,
     "end_time": "2022-10-12T05:53:23.335487",
     "exception": false,
     "start_time": "2022-10-12T05:53:11.248588",
     "status": "completed"
    },
    "tags": []
   },
   "outputs": [
    {
     "name": "stdout",
     "output_type": "stream",
     "text": [
      "\u001b[33mWARNING: Running pip as the 'root' user can result in broken permissions and conflicting behaviour with the system package manager. It is recommended to use a virtual environment instead: https://pip.pypa.io/warnings/venv\u001b[0m\u001b[33m\r\n",
      "\u001b[0m"
     ]
    }
   ],
   "source": [
    "!pip install timm -q"
   ]
  },
  {
   "cell_type": "code",
   "execution_count": 2,
   "id": "bd91a49a",
   "metadata": {
    "execution": {
     "iopub.execute_input": "2022-10-12T05:53:23.341662Z",
     "iopub.status.busy": "2022-10-12T05:53:23.341350Z",
     "iopub.status.idle": "2022-10-12T05:53:26.357716Z",
     "shell.execute_reply": "2022-10-12T05:53:26.356732Z"
    },
    "papermill": {
     "duration": 3.022089,
     "end_time": "2022-10-12T05:53:26.360153",
     "exception": false,
     "start_time": "2022-10-12T05:53:23.338064",
     "status": "completed"
    },
    "tags": []
   },
   "outputs": [],
   "source": [
    "import os\n",
    "import re\n",
    "import cv2\n",
    "import timm\n",
    "import torch\n",
    "import numpy as np\n",
    "import pandas as pd\n",
    "\n",
    "from time import time, sleep\n",
    "from torch import nn\n",
    "from torch.utils.data import Dataset\n",
    "from torch.utils.data import DataLoader as DL\n",
    "from torchvision import transforms"
   ]
  },
  {
   "cell_type": "code",
   "execution_count": 3,
   "id": "baf055d9",
   "metadata": {
    "execution": {
     "iopub.execute_input": "2022-10-12T05:53:26.366456Z",
     "iopub.status.busy": "2022-10-12T05:53:26.365830Z",
     "iopub.status.idle": "2022-10-12T05:53:26.380578Z",
     "shell.execute_reply": "2022-10-12T05:53:26.379755Z"
    },
    "papermill": {
     "duration": 0.020045,
     "end_time": "2022-10-12T05:53:26.382548",
     "exception": false,
     "start_time": "2022-10-12T05:53:26.362503",
     "status": "completed"
    },
    "tags": []
   },
   "outputs": [],
   "source": [
    "class Model(nn.Module):\n",
    "    def __init__(self, model_name: str):\n",
    "        super(Model, self).__init__()\n",
    "        \n",
    "        if model_name == \"swin_base_patch4_window12_384_in22k\":\n",
    "            self.model = timm.create_model(model_name, pretrained=True)\n",
    "            self.freeze()\n",
    "            self.model = nn.Sequential(*[*self.model.children()][:-1])\n",
    "        \n",
    "        elif model_name == \"swin_large_patch4_window12_384_in22k\":\n",
    "            self.model = timm.create_model(model_name, pretrained=True)\n",
    "            self.freeze()\n",
    "            self.model = nn.Sequential(*[*self.model.children()][:-1])\n",
    "        \n",
    "        elif model_name == \"vit_base_patch16_384\":\n",
    "            self.model = timm.create_model(model_name, pretrained=True)\n",
    "            self.freeze()\n",
    "            self.model = nn.Sequential(*[*self.model.children()][:-1])\n",
    "        \n",
    "        elif model_name == \"vit_base_patch32_384\":\n",
    "            self.model = timm.create_model(model_name, pretrained=True)\n",
    "            self.freeze()\n",
    "            self.model = nn.Sequential(*[*self.model.children()][:-1])\n",
    "        \n",
    "        elif model_name == \"vit_large_patch16_384\":\n",
    "            self.model = timm.create_model(model_name, pretrained=True)\n",
    "            self.freeze()\n",
    "            self.model = nn.Sequential(*[*self.model.children()][:-1])\n",
    "        \n",
    "        elif model_name == \"vit_large_patch32_384\":\n",
    "            self.model = timm.create_model(model_name, pretrained=True)\n",
    "            self.freeze()\n",
    "            self.model = nn.Sequential(*[*self.model.children()][:-1])\n",
    "        \n",
    "        elif model_name == \"deit3_base_patch16_384_in21ft1k\":\n",
    "            self.model = timm.create_model(model_name, pretrained=True)\n",
    "            self.freeze()\n",
    "            self.model = nn.Sequential(*[*self.model.children()][:-1])\n",
    "        \n",
    "        elif model_name == \"deit3_large_patch16_384_in21ft1k\":\n",
    "            self.model = timm.create_model(model_name, pretrained=True)\n",
    "            self.freeze()\n",
    "            self.model = nn.Sequential(*[*self.model.children()][:-1])\n",
    "        \n",
    "        elif model_name == \"deit3_small_patch16_384_in21ft1k\":\n",
    "            self.model = timm.create_model(model_name, pretrained=True)\n",
    "            self.freeze()\n",
    "            self.model = nn.Sequential(*[*self.model.children()][:-1])\n",
    "        \n",
    "        elif model_name == \"deit_base_distilled_patch16_384\":\n",
    "            self.model = timm.create_model(model_name, pretrained=True)\n",
    "            self.freeze()\n",
    "            self.model = nn.Sequential(*[*self.model.children()][:-1])\n",
    "    \n",
    "    def freeze(self):\n",
    "        for p in self.parameters(): p.requires_grad = False\n",
    "    \n",
    "    def forward(self, x):\n",
    "        return self.model(x)"
   ]
  },
  {
   "cell_type": "code",
   "execution_count": 4,
   "id": "a74d949b",
   "metadata": {
    "execution": {
     "iopub.execute_input": "2022-10-12T05:53:26.388285Z",
     "iopub.status.busy": "2022-10-12T05:53:26.388013Z",
     "iopub.status.idle": "2022-10-12T05:53:26.393382Z",
     "shell.execute_reply": "2022-10-12T05:53:26.392394Z"
    },
    "papermill": {
     "duration": 0.010831,
     "end_time": "2022-10-12T05:53:26.395694",
     "exception": false,
     "start_time": "2022-10-12T05:53:26.384863",
     "status": "completed"
    },
    "tags": []
   },
   "outputs": [],
   "source": [
    "def breaker(num: int=50, char: str=\"*\") -> None:\n",
    "    print(\"\\n\" + num*char + \"\\n\")\n",
    "\n",
    "    \n",
    "def get_image(path: str, size: int=224) -> np.ndarray:\n",
    "    image = cv2.imread(path, cv2.IMREAD_COLOR)\n",
    "    image = cv2.cvtColor(src=image, code=cv2.COLOR_BGR2RGB)\n",
    "    return cv2.resize(src=image, dsize=(size, size), interpolation=cv2.INTER_AREA)"
   ]
  },
  {
   "cell_type": "code",
   "execution_count": 5,
   "id": "6ed98cd4",
   "metadata": {
    "execution": {
     "iopub.execute_input": "2022-10-12T05:53:26.401318Z",
     "iopub.status.busy": "2022-10-12T05:53:26.401058Z",
     "iopub.status.idle": "2022-10-12T05:53:26.406723Z",
     "shell.execute_reply": "2022-10-12T05:53:26.405791Z"
    },
    "papermill": {
     "duration": 0.010779,
     "end_time": "2022-10-12T05:53:26.408702",
     "exception": false,
     "start_time": "2022-10-12T05:53:26.397923",
     "status": "completed"
    },
    "tags": []
   },
   "outputs": [],
   "source": [
    "class DS(Dataset):\n",
    "    def __init__(\n",
    "        self, \n",
    "        filepaths: np.ndarray, \n",
    "        size: int,\n",
    "        transform=None\n",
    "    ):\n",
    "        \n",
    "        self.filepaths = filepaths\n",
    "        self.size = size\n",
    "        self.transform = transform\n",
    "    \n",
    "    def __len__(self):\n",
    "        return self.filepaths.shape[0]\n",
    "    \n",
    "    def __getitem__(self, idx):\n",
    "        image = get_image(self.filepaths[idx], self.size)\n",
    "        return self.transform(image)"
   ]
  },
  {
   "cell_type": "code",
   "execution_count": 6,
   "id": "97725570",
   "metadata": {
    "execution": {
     "iopub.execute_input": "2022-10-12T05:53:26.414142Z",
     "iopub.status.busy": "2022-10-12T05:53:26.413880Z",
     "iopub.status.idle": "2022-10-12T05:53:26.420833Z",
     "shell.execute_reply": "2022-10-12T05:53:26.420026Z"
    },
    "papermill": {
     "duration": 0.011875,
     "end_time": "2022-10-12T05:53:26.422775",
     "exception": false,
     "start_time": "2022-10-12T05:53:26.410900",
     "status": "completed"
    },
    "tags": []
   },
   "outputs": [],
   "source": [
    "def get_features(model=None, dataloader=None, feature_length: int=None) -> np.ndarray: \n",
    "    model.eval()\n",
    "    \n",
    "    y_pred = torch.zeros(1, feature_length).to(torch.device(\"cuda\" if torch.cuda.is_available() else \"cpu\"))\n",
    "    \n",
    "    for X in dataloader:\n",
    "        X = X.to(torch.device(\"cuda\" if torch.cuda.is_available() else \"cpu\"))\n",
    "        with torch.no_grad():\n",
    "            output = model(X)[:, -1, :]\n",
    "        y_pred = torch.cat((y_pred, output), dim=0)\n",
    "    \n",
    "    return y_pred[1:].detach().cpu().numpy()"
   ]
  },
  {
   "cell_type": "code",
   "execution_count": 7,
   "id": "810e6ad2",
   "metadata": {
    "execution": {
     "iopub.execute_input": "2022-10-12T05:53:26.428279Z",
     "iopub.status.busy": "2022-10-12T05:53:26.428021Z",
     "iopub.status.idle": "2022-10-12T05:53:26.453179Z",
     "shell.execute_reply": "2022-10-12T05:53:26.452353Z"
    },
    "papermill": {
     "duration": 0.030038,
     "end_time": "2022-10-12T05:53:26.455083",
     "exception": false,
     "start_time": "2022-10-12T05:53:26.425045",
     "status": "completed"
    },
    "tags": []
   },
   "outputs": [],
   "source": [
    "df = pd.read_csv(\"../input/fv-dataframes/known.csv\")\n",
    "\n",
    "data_setup = DS(\n",
    "    filepaths=df.filepaths.copy().values, \n",
    "    size=384,\n",
    "    transform=transforms.Compose([\n",
    "        transforms.ToTensor(),\n",
    "        transforms.Normalize([0.48583, 0.37705, 0.32632], [0.27852, 0.24197, 0.22445]),\n",
    "    ])\n",
    ")"
   ]
  },
  {
   "cell_type": "code",
   "execution_count": 8,
   "id": "86dee8ba",
   "metadata": {
    "execution": {
     "iopub.execute_input": "2022-10-12T05:53:26.460865Z",
     "iopub.status.busy": "2022-10-12T05:53:26.460608Z",
     "iopub.status.idle": "2022-10-12T06:09:17.382830Z",
     "shell.execute_reply": "2022-10-12T06:09:17.381798Z"
    },
    "papermill": {
     "duration": 950.927982,
     "end_time": "2022-10-12T06:09:17.385415",
     "exception": false,
     "start_time": "2022-10-12T05:53:26.457433",
     "status": "completed"
    },
    "tags": []
   },
   "outputs": [
    {
     "name": "stderr",
     "output_type": "stream",
     "text": [
      "/opt/conda/lib/python3.7/site-packages/torch/functional.py:568: UserWarning: torch.meshgrid: in an upcoming release, it will be required to pass the indexing argument. (Triggered internally at  /usr/local/src/pytorch/aten/src/ATen/native/TensorShape.cpp:2227.)\n",
      "  return _VF.meshgrid(tensors, **kwargs)  # type: ignore[attr-defined]\n",
      "Downloading: \"https://github.com/SwinTransformer/storage/releases/download/v1.0.0/swin_base_patch4_window12_384_22k.pth\" to /root/.cache/torch/hub/checkpoints/swin_base_patch4_window12_384_22k.pth\n",
      "Downloading: \"https://github.com/SwinTransformer/storage/releases/download/v1.0.0/swin_large_patch4_window12_384_22k.pth\" to /root/.cache/torch/hub/checkpoints/swin_large_patch4_window12_384_22k.pth\n",
      "Downloading: \"https://github.com/rwightman/pytorch-image-models/releases/download/v0.1-vitjx/jx_vit_large_p32_384-9b920ba8.pth\" to /root/.cache/torch/hub/checkpoints/jx_vit_large_p32_384-9b920ba8.pth\n",
      "Downloading: \"https://dl.fbaipublicfiles.com/deit/deit_3_base_384_21k.pth\" to /root/.cache/torch/hub/checkpoints/deit_3_base_384_21k.pth\n",
      "Downloading: \"https://dl.fbaipublicfiles.com/deit/deit_3_large_384_21k.pth\" to /root/.cache/torch/hub/checkpoints/deit_3_large_384_21k.pth\n",
      "Downloading: \"https://dl.fbaipublicfiles.com/deit/deit_3_small_384_21k.pth\" to /root/.cache/torch/hub/checkpoints/deit_3_small_384_21k.pth\n",
      "Downloading: \"https://dl.fbaipublicfiles.com/deit/deit_base_distilled_patch16_384-d0272ac0.pth\" to /root/.cache/torch/hub/checkpoints/deit_base_distilled_patch16_384-d0272ac0.pth\n"
     ]
    }
   ],
   "source": [
    "model_names: list = [\n",
    "    \"swin_base_patch4_window12_384_in22k\",\n",
    "    \"swin_large_patch4_window12_384_in22k\",\n",
    "    \"vit_base_patch16_384\",\n",
    "    \"vit_base_patch32_384\",\n",
    "    \"vit_large_patch16_384\",\n",
    "    \"vit_large_patch32_384\",\n",
    "    \"deit3_base_patch16_384_in21ft1k\",\n",
    "    \"deit3_large_patch16_384_in21ft1k\",\n",
    "    \"deit3_small_patch16_384_in21ft1k\",\n",
    "    \"deit_base_distilled_patch16_384\",\n",
    "]\n",
    "    \n",
    "feature_lengths: list = [\n",
    "    1024,\n",
    "    1536,\n",
    "    768,\n",
    "    768,\n",
    "    1024,\n",
    "    1024,\n",
    "    768,\n",
    "    1024,\n",
    "    384,\n",
    "    1000,\n",
    "]\n",
    "    \n",
    "for i in range(len(model_names)):\n",
    "    data = DL(data_setup, batch_size=16, shuffle=False)\n",
    "    model = Model(model_names[i]).to(torch.device(\"cuda\" if torch.cuda.is_available() else \"cpu\"))\n",
    "    features = get_features(model=model, dataloader=data, feature_length=feature_lengths[i])\n",
    "    np.save(f\"{model_names[i]}.npy\", features)\n",
    "    \n",
    "    del model, data\n",
    "    torch.cuda.empty_cache()\n",
    "    \n",
    "    sleep(30)"
   ]
  }
 ],
 "metadata": {
  "kernelspec": {
   "display_name": "Python 3",
   "language": "python",
   "name": "python3"
  },
  "language_info": {
   "codemirror_mode": {
    "name": "ipython",
    "version": 3
   },
   "file_extension": ".py",
   "mimetype": "text/x-python",
   "name": "python",
   "nbconvert_exporter": "python",
   "pygments_lexer": "ipython3",
   "version": "3.7.12"
  },
  "papermill": {
   "default_parameters": {},
   "duration": 975.234201,
   "end_time": "2022-10-12T06:09:19.013816",
   "environment_variables": {},
   "exception": null,
   "input_path": "__notebook__.ipynb",
   "output_path": "__notebook__.ipynb",
   "parameters": {},
   "start_time": "2022-10-12T05:53:03.779615",
   "version": "2.3.4"
  }
 },
 "nbformat": 4,
 "nbformat_minor": 5
}
