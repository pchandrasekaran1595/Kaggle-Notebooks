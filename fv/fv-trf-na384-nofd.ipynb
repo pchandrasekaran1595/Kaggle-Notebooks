{
 "cells": [
  {
   "cell_type": "code",
   "execution_count": 1,
   "id": "45f39943",
   "metadata": {
    "_cell_guid": "b1076dfc-b9ad-4769-8c92-a6c4dae69d19",
    "_uuid": "8f2839f25d086af736a60e9eeb907d3b93b6e0e5",
    "execution": {
     "iopub.execute_input": "2022-10-12T09:50:37.722325Z",
     "iopub.status.busy": "2022-10-12T09:50:37.721895Z",
     "iopub.status.idle": "2022-10-12T09:50:49.966097Z",
     "shell.execute_reply": "2022-10-12T09:50:49.964949Z"
    },
    "papermill": {
     "duration": 12.251886,
     "end_time": "2022-10-12T09:50:49.968743",
     "exception": false,
     "start_time": "2022-10-12T09:50:37.716857",
     "status": "completed"
    },
    "tags": []
   },
   "outputs": [
    {
     "name": "stdout",
     "output_type": "stream",
     "text": [
      "\u001b[33mWARNING: Running pip as the 'root' user can result in broken permissions and conflicting behaviour with the system package manager. It is recommended to use a virtual environment instead: https://pip.pypa.io/warnings/venv\u001b[0m\u001b[33m\r\n",
      "\u001b[0m"
     ]
    }
   ],
   "source": [
    "!pip install timm -q"
   ]
  },
  {
   "cell_type": "code",
   "execution_count": 2,
   "id": "bd157fe4",
   "metadata": {
    "execution": {
     "iopub.execute_input": "2022-10-12T09:50:49.975692Z",
     "iopub.status.busy": "2022-10-12T09:50:49.975345Z",
     "iopub.status.idle": "2022-10-12T09:50:52.907940Z",
     "shell.execute_reply": "2022-10-12T09:50:52.906888Z"
    },
    "papermill": {
     "duration": 2.938677,
     "end_time": "2022-10-12T09:50:52.910374",
     "exception": false,
     "start_time": "2022-10-12T09:50:49.971697",
     "status": "completed"
    },
    "tags": []
   },
   "outputs": [],
   "source": [
    "import os\n",
    "import re\n",
    "import cv2\n",
    "import timm\n",
    "import torch\n",
    "import numpy as np\n",
    "import pandas as pd\n",
    "\n",
    "from time import time, sleep\n",
    "from torch import nn\n",
    "from torch.utils.data import Dataset\n",
    "from torch.utils.data import DataLoader as DL\n",
    "from torchvision import transforms"
   ]
  },
  {
   "cell_type": "code",
   "execution_count": 3,
   "id": "4d3febae",
   "metadata": {
    "execution": {
     "iopub.execute_input": "2022-10-12T09:50:52.917327Z",
     "iopub.status.busy": "2022-10-12T09:50:52.916719Z",
     "iopub.status.idle": "2022-10-12T09:50:52.931020Z",
     "shell.execute_reply": "2022-10-12T09:50:52.930078Z"
    },
    "papermill": {
     "duration": 0.019901,
     "end_time": "2022-10-12T09:50:52.933015",
     "exception": false,
     "start_time": "2022-10-12T09:50:52.913114",
     "status": "completed"
    },
    "tags": []
   },
   "outputs": [],
   "source": [
    "class Model(nn.Module):\n",
    "    def __init__(self, model_name: str):\n",
    "        super(Model, self).__init__()\n",
    "        \n",
    "        if model_name == \"swin_base_patch4_window12_384_in22k\":\n",
    "            self.model = timm.create_model(model_name, pretrained=True)\n",
    "            self.freeze()\n",
    "            self.model = nn.Sequential(*[*self.model.children()][:-1])\n",
    "        \n",
    "        elif model_name == \"swin_large_patch4_window12_384_in22k\":\n",
    "            self.model = timm.create_model(model_name, pretrained=True)\n",
    "            self.freeze()\n",
    "            self.model = nn.Sequential(*[*self.model.children()][:-1])\n",
    "        \n",
    "        elif model_name == \"vit_base_patch16_384\":\n",
    "            self.model = timm.create_model(model_name, pretrained=True)\n",
    "            self.freeze()\n",
    "            self.model = nn.Sequential(*[*self.model.children()][:-1])\n",
    "        \n",
    "        elif model_name == \"vit_base_patch32_384\":\n",
    "            self.model = timm.create_model(model_name, pretrained=True)\n",
    "            self.freeze()\n",
    "            self.model = nn.Sequential(*[*self.model.children()][:-1])\n",
    "        \n",
    "        elif model_name == \"vit_large_patch16_384\":\n",
    "            self.model = timm.create_model(model_name, pretrained=True)\n",
    "            self.freeze()\n",
    "            self.model = nn.Sequential(*[*self.model.children()][:-1])\n",
    "        \n",
    "        elif model_name == \"vit_large_patch32_384\":\n",
    "            self.model = timm.create_model(model_name, pretrained=True)\n",
    "            self.freeze()\n",
    "            self.model = nn.Sequential(*[*self.model.children()][:-1])\n",
    "        \n",
    "        elif model_name == \"deit3_base_patch16_384_in21ft1k\":\n",
    "            self.model = timm.create_model(model_name, pretrained=True)\n",
    "            self.freeze()\n",
    "            self.model = nn.Sequential(*[*self.model.children()][:-1])\n",
    "        \n",
    "        elif model_name == \"deit3_large_patch16_384_in21ft1k\":\n",
    "            self.model = timm.create_model(model_name, pretrained=True)\n",
    "            self.freeze()\n",
    "            self.model = nn.Sequential(*[*self.model.children()][:-1])\n",
    "        \n",
    "        elif model_name == \"deit3_small_patch16_384_in21ft1k\":\n",
    "            self.model = timm.create_model(model_name, pretrained=True)\n",
    "            self.freeze()\n",
    "            self.model = nn.Sequential(*[*self.model.children()][:-1])\n",
    "        \n",
    "        elif model_name == \"deit_base_distilled_patch16_384\":\n",
    "            self.model = timm.create_model(model_name, pretrained=True)\n",
    "            self.freeze()\n",
    "            self.model = nn.Sequential(*[*self.model.children()][:-1])\n",
    "    \n",
    "    def freeze(self):\n",
    "        for p in self.parameters(): p.requires_grad = False\n",
    "    \n",
    "    def forward(self, x):\n",
    "        return self.model(x)"
   ]
  },
  {
   "cell_type": "code",
   "execution_count": 4,
   "id": "9f69ca2c",
   "metadata": {
    "execution": {
     "iopub.execute_input": "2022-10-12T09:50:52.939408Z",
     "iopub.status.busy": "2022-10-12T09:50:52.938710Z",
     "iopub.status.idle": "2022-10-12T09:50:52.944269Z",
     "shell.execute_reply": "2022-10-12T09:50:52.943377Z"
    },
    "papermill": {
     "duration": 0.010732,
     "end_time": "2022-10-12T09:50:52.946189",
     "exception": false,
     "start_time": "2022-10-12T09:50:52.935457",
     "status": "completed"
    },
    "tags": []
   },
   "outputs": [],
   "source": [
    "def breaker(num: int=50, char: str=\"*\") -> None:\n",
    "    print(\"\\n\" + num*char + \"\\n\")\n",
    "\n",
    "    \n",
    "def get_image(path: str, size: int=224) -> np.ndarray:\n",
    "    image = cv2.imread(path, cv2.IMREAD_COLOR)\n",
    "    image = cv2.cvtColor(src=image, code=cv2.COLOR_BGR2RGB)\n",
    "    return cv2.resize(src=image, dsize=(size, size), interpolation=cv2.INTER_AREA)"
   ]
  },
  {
   "cell_type": "code",
   "execution_count": 5,
   "id": "4047c529",
   "metadata": {
    "execution": {
     "iopub.execute_input": "2022-10-12T09:50:52.952161Z",
     "iopub.status.busy": "2022-10-12T09:50:52.951905Z",
     "iopub.status.idle": "2022-10-12T09:50:52.958270Z",
     "shell.execute_reply": "2022-10-12T09:50:52.957362Z"
    },
    "papermill": {
     "duration": 0.011902,
     "end_time": "2022-10-12T09:50:52.960498",
     "exception": false,
     "start_time": "2022-10-12T09:50:52.948596",
     "status": "completed"
    },
    "tags": []
   },
   "outputs": [],
   "source": [
    "class DS(Dataset):\n",
    "    def __init__(\n",
    "        self, \n",
    "        filepaths: np.ndarray, \n",
    "        size: int,\n",
    "        transform=None\n",
    "    ):\n",
    "        \n",
    "        self.filepaths = filepaths\n",
    "        self.size = size\n",
    "        self.transform = transform\n",
    "    \n",
    "    def __len__(self):\n",
    "        return self.filepaths.shape[0]\n",
    "    \n",
    "    def __getitem__(self, idx):\n",
    "        image = get_image(self.filepaths[idx], self.size)\n",
    "        return self.transform(image)"
   ]
  },
  {
   "cell_type": "code",
   "execution_count": 6,
   "id": "eb428ec4",
   "metadata": {
    "execution": {
     "iopub.execute_input": "2022-10-12T09:50:52.966487Z",
     "iopub.status.busy": "2022-10-12T09:50:52.966052Z",
     "iopub.status.idle": "2022-10-12T09:50:52.972186Z",
     "shell.execute_reply": "2022-10-12T09:50:52.971280Z"
    },
    "papermill": {
     "duration": 0.011341,
     "end_time": "2022-10-12T09:50:52.974197",
     "exception": false,
     "start_time": "2022-10-12T09:50:52.962856",
     "status": "completed"
    },
    "tags": []
   },
   "outputs": [],
   "source": [
    "def get_features(model=None, dataloader=None, feature_length: int=None) -> np.ndarray: \n",
    "    model.eval()\n",
    "    \n",
    "    y_pred = torch.zeros(1, feature_length).to(torch.device(\"cuda\" if torch.cuda.is_available() else \"cpu\"))\n",
    "    \n",
    "    for X in dataloader:\n",
    "        X = X.to(torch.device(\"cuda\" if torch.cuda.is_available() else \"cpu\"))\n",
    "        with torch.no_grad():\n",
    "            output = model(X)[:, -1, :]\n",
    "        y_pred = torch.cat((y_pred, output), dim=0)\n",
    "    \n",
    "    return y_pred[1:].detach().cpu().numpy()"
   ]
  },
  {
   "cell_type": "code",
   "execution_count": 7,
   "id": "42ad6221",
   "metadata": {
    "execution": {
     "iopub.execute_input": "2022-10-12T09:50:52.980448Z",
     "iopub.status.busy": "2022-10-12T09:50:52.980168Z",
     "iopub.status.idle": "2022-10-12T10:08:09.737281Z",
     "shell.execute_reply": "2022-10-12T10:08:09.736292Z"
    },
    "papermill": {
     "duration": 1036.763039,
     "end_time": "2022-10-12T10:08:09.739961",
     "exception": false,
     "start_time": "2022-10-12T09:50:52.976922",
     "status": "completed"
    },
    "tags": []
   },
   "outputs": [
    {
     "name": "stderr",
     "output_type": "stream",
     "text": [
      "/opt/conda/lib/python3.7/site-packages/torch/functional.py:568: UserWarning: torch.meshgrid: in an upcoming release, it will be required to pass the indexing argument. (Triggered internally at  /usr/local/src/pytorch/aten/src/ATen/native/TensorShape.cpp:2227.)\n",
      "  return _VF.meshgrid(tensors, **kwargs)  # type: ignore[attr-defined]\n",
      "Downloading: \"https://github.com/SwinTransformer/storage/releases/download/v1.0.0/swin_base_patch4_window12_384_22k.pth\" to /root/.cache/torch/hub/checkpoints/swin_base_patch4_window12_384_22k.pth\n",
      "Downloading: \"https://github.com/SwinTransformer/storage/releases/download/v1.0.0/swin_large_patch4_window12_384_22k.pth\" to /root/.cache/torch/hub/checkpoints/swin_large_patch4_window12_384_22k.pth\n",
      "Downloading: \"https://github.com/rwightman/pytorch-image-models/releases/download/v0.1-vitjx/jx_vit_large_p32_384-9b920ba8.pth\" to /root/.cache/torch/hub/checkpoints/jx_vit_large_p32_384-9b920ba8.pth\n",
      "Downloading: \"https://dl.fbaipublicfiles.com/deit/deit_3_base_384_21k.pth\" to /root/.cache/torch/hub/checkpoints/deit_3_base_384_21k.pth\n",
      "Downloading: \"https://dl.fbaipublicfiles.com/deit/deit_3_large_384_21k.pth\" to /root/.cache/torch/hub/checkpoints/deit_3_large_384_21k.pth\n",
      "Downloading: \"https://dl.fbaipublicfiles.com/deit/deit_3_small_384_21k.pth\" to /root/.cache/torch/hub/checkpoints/deit_3_small_384_21k.pth\n",
      "Downloading: \"https://dl.fbaipublicfiles.com/deit/deit_base_distilled_patch16_384-d0272ac0.pth\" to /root/.cache/torch/hub/checkpoints/deit_base_distilled_patch16_384-d0272ac0.pth\n"
     ]
    }
   ],
   "source": [
    "df = pd.read_csv(\"../input/fv-dataframes/known.csv\")\n",
    "\n",
    "data_setup = DS(\n",
    "    filepaths=df.filepaths.copy().values, \n",
    "    size=384,\n",
    "    transform=transforms.Compose([\n",
    "        transforms.ToTensor(),\n",
    "        transforms.Normalize([0.48583, 0.37705, 0.32632], [0.27852, 0.24197, 0.22445]),\n",
    "    ])\n",
    ")\n",
    "\n",
    "if not os.path.exists(\"known-embeddings\"): os.makedirs(\"known-embeddings\")\n",
    "\n",
    "model_names: list = [\n",
    "    \"swin_base_patch4_window12_384_in22k\",\n",
    "    \"swin_large_patch4_window12_384_in22k\",\n",
    "    \"vit_base_patch16_384\",\n",
    "    \"vit_base_patch32_384\",\n",
    "    \"vit_large_patch16_384\",\n",
    "    \"vit_large_patch32_384\",\n",
    "    \"deit3_base_patch16_384_in21ft1k\",\n",
    "    \"deit3_large_patch16_384_in21ft1k\",\n",
    "    \"deit3_small_patch16_384_in21ft1k\",\n",
    "    \"deit_base_distilled_patch16_384\",\n",
    "]\n",
    "    \n",
    "feature_lengths: list = [\n",
    "    1024,\n",
    "    1536,\n",
    "    768,\n",
    "    768,\n",
    "    1024,\n",
    "    1024,\n",
    "    768,\n",
    "    1024,\n",
    "    384,\n",
    "    1000,\n",
    "]\n",
    "    \n",
    "for i in range(len(model_names)):\n",
    "    data = DL(data_setup, batch_size=16, shuffle=False)\n",
    "    model = Model(model_names[i]).to(torch.device(\"cuda\" if torch.cuda.is_available() else \"cpu\"))\n",
    "    features = get_features(model=model, dataloader=data, feature_length=feature_lengths[i])\n",
    "    # np.save(f\"known-embeddings/{model_names[i].split('_')[0]}_features.npy\", features)\n",
    "    np.save(f\"known-embeddings/{model_names[i]}.npy\", features)\n",
    "\n",
    "\n",
    "    del model, data\n",
    "    torch.cuda.empty_cache()\n",
    "    \n",
    "    sleep(30)\n",
    "    \n",
    "labels = [filepath.split(\"/\")[-2] for filepath in df.filepaths.values]\n",
    "np.save(\"labels.npy\", labels)"
   ]
  },
  {
   "cell_type": "code",
   "execution_count": 8,
   "id": "0c64f6ca",
   "metadata": {
    "execution": {
     "iopub.execute_input": "2022-10-12T10:08:09.747542Z",
     "iopub.status.busy": "2022-10-12T10:08:09.747226Z",
     "iopub.status.idle": "2022-10-12T10:17:52.877784Z",
     "shell.execute_reply": "2022-10-12T10:17:52.876744Z"
    },
    "papermill": {
     "duration": 583.137047,
     "end_time": "2022-10-12T10:17:52.880352",
     "exception": false,
     "start_time": "2022-10-12T10:08:09.743305",
     "status": "completed"
    },
    "tags": []
   },
   "outputs": [],
   "source": [
    "df = pd.read_csv(\"../input/fv-dataframes/unknown.csv\")\n",
    "transform = transforms.Compose([\n",
    "    transforms.ToTensor(),\n",
    "    transforms.Normalize([0.48583, 0.37705, 0.32632], \n",
    "                         [0.27852, 0.24197, 0.22445]),\n",
    "])\n",
    "\n",
    "data_setup = DS(\n",
    "    filepaths=df.filepaths.copy().values, \n",
    "    size=384,\n",
    "    transform=transforms.Compose([\n",
    "        transforms.ToTensor(),\n",
    "        transforms.Normalize([0.48583, 0.37705, 0.32632], [0.27852, 0.24197, 0.22445]),\n",
    "    ])\n",
    ")\n",
    "\n",
    "if not os.path.exists(\"unknown-embeddings\"): os.makedirs(\"unknown-embeddings\")\n",
    "\n",
    "model_names: list = [\n",
    "    \"swin_base_patch4_window12_384_in22k\",\n",
    "    \"swin_large_patch4_window12_384_in22k\",\n",
    "    \"vit_base_patch16_384\",\n",
    "    \"vit_base_patch32_384\",\n",
    "    \"vit_large_patch16_384\",\n",
    "    \"vit_large_patch32_384\",\n",
    "    \"deit3_base_patch16_384_in21ft1k\",\n",
    "    \"deit3_large_patch16_384_in21ft1k\",\n",
    "    \"deit3_small_patch16_384_in21ft1k\",\n",
    "    \"deit_base_distilled_patch16_384\",\n",
    "]\n",
    "    \n",
    "feature_lengths: list = [\n",
    "    1024,\n",
    "    1536,\n",
    "    768,\n",
    "    768,\n",
    "    1024,\n",
    "    1024,\n",
    "    768,\n",
    "    1024,\n",
    "    384,\n",
    "    1000,\n",
    "]\n",
    "    \n",
    "for i in range(len(model_names)):\n",
    "    data = DL(data_setup, batch_size=16, shuffle=False)\n",
    "    model = Model(model_names[i]).to(torch.device(\"cuda\" if torch.cuda.is_available() else \"cpu\"))\n",
    "    features = get_features(model=model, dataloader=data, feature_length=feature_lengths[i])\n",
    "    # np.save(f\"unknown-embeddings/{model_names[i].split('_')[0]}_features.npy\", features)\n",
    "    np.save(f\"unknown-embeddings/{model_names[i]}.npy\", features)\n",
    "    \n",
    "    del model, data\n",
    "    torch.cuda.empty_cache()\n",
    "    \n",
    "    sleep(30)"
   ]
  }
 ],
 "metadata": {
  "kernelspec": {
   "display_name": "Python 3",
   "language": "python",
   "name": "python3"
  },
  "language_info": {
   "codemirror_mode": {
    "name": "ipython",
    "version": 3
   },
   "file_extension": ".py",
   "mimetype": "text/x-python",
   "name": "python",
   "nbconvert_exporter": "python",
   "pygments_lexer": "ipython3",
   "version": "3.7.12"
  },
  "papermill": {
   "default_parameters": {},
   "duration": 1644.946905,
   "end_time": "2022-10-12T10:17:55.298198",
   "environment_variables": {},
   "exception": null,
   "input_path": "__notebook__.ipynb",
   "output_path": "__notebook__.ipynb",
   "parameters": {},
   "start_time": "2022-10-12T09:50:30.351293",
   "version": "2.3.4"
  }
 },
 "nbformat": 4,
 "nbformat_minor": 5
}
