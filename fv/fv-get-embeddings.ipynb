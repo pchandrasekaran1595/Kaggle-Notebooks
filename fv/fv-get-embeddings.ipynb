{
 "cells": [
  {
   "cell_type": "code",
   "execution_count": 1,
   "id": "2cccff89",
   "metadata": {
    "_cell_guid": "b1076dfc-b9ad-4769-8c92-a6c4dae69d19",
    "_uuid": "8f2839f25d086af736a60e9eeb907d3b93b6e0e5",
    "execution": {
     "iopub.execute_input": "2022-10-11T19:05:25.500638Z",
     "iopub.status.busy": "2022-10-11T19:05:25.500146Z",
     "iopub.status.idle": "2022-10-11T19:05:38.802036Z",
     "shell.execute_reply": "2022-10-11T19:05:38.799694Z"
    },
    "papermill": {
     "duration": 13.313992,
     "end_time": "2022-10-11T19:05:38.805797",
     "exception": false,
     "start_time": "2022-10-11T19:05:25.491805",
     "status": "completed"
    },
    "tags": []
   },
   "outputs": [
    {
     "name": "stderr",
     "output_type": "stream",
     "text": [
      "WARNING: Running pip as the 'root' user can result in broken permissions and conflicting behaviour with the system package manager. It is recommended to use a virtual environment instead: https://pip.pypa.io/warnings/venv\n"
     ]
    }
   ],
   "source": [
    "%%bash\n",
    "pip install -q openvino"
   ]
  },
  {
   "cell_type": "code",
   "execution_count": 2,
   "id": "adc12199",
   "metadata": {
    "execution": {
     "iopub.execute_input": "2022-10-11T19:05:38.816012Z",
     "iopub.status.busy": "2022-10-11T19:05:38.814979Z",
     "iopub.status.idle": "2022-10-11T19:05:39.251228Z",
     "shell.execute_reply": "2022-10-11T19:05:39.250061Z"
    },
    "papermill": {
     "duration": 0.444707,
     "end_time": "2022-10-11T19:05:39.254457",
     "exception": false,
     "start_time": "2022-10-11T19:05:38.809750",
     "status": "completed"
    },
    "tags": []
   },
   "outputs": [],
   "source": [
    "import os\n",
    "import cv2\n",
    "import random as r\n",
    "import numpy as np\n",
    "import pandas as pd\n",
    "import matplotlib.pyplot as plt\n",
    "\n",
    "from typing import Union\n",
    "from openvino.runtime import Core"
   ]
  },
  {
   "cell_type": "code",
   "execution_count": 3,
   "id": "23dfc4fe",
   "metadata": {
    "execution": {
     "iopub.execute_input": "2022-10-11T19:05:39.263237Z",
     "iopub.status.busy": "2022-10-11T19:05:39.262821Z",
     "iopub.status.idle": "2022-10-11T19:05:39.277549Z",
     "shell.execute_reply": "2022-10-11T19:05:39.276691Z"
    },
    "papermill": {
     "duration": 0.021924,
     "end_time": "2022-10-11T19:05:39.280002",
     "exception": false,
     "start_time": "2022-10-11T19:05:39.258078",
     "status": "completed"
    },
    "tags": []
   },
   "outputs": [],
   "source": [
    "def preprocess(image: np.ndarray, width: int, height: int, model_name: str=\"facenet\") -> np.ndarray:\n",
    "    if model_name == \"facenet\":\n",
    "        image = cv2.resize(src=image, dsize=(width, height), interpolation=cv2.INTER_AREA)\n",
    "    else:\n",
    "        image = cv2.resize(src=image, dsize=(width, height), interpolation=cv2.INTER_AREA).transpose(2, 0, 1)\n",
    "    return np.expand_dims(image, axis=0)\n",
    "\n",
    "\n",
    "def setup(target: str, model_path: str) -> tuple:\n",
    "    ie = Core()\n",
    "    model = ie.read_model(model=model_path)\n",
    "    model = ie.compile_model(model=model, device_name=target)\n",
    "\n",
    "    input_layer = next(iter(model.inputs))\n",
    "    output_layer = next(iter(model.outputs))\n",
    "\n",
    "    return model, input_layer, output_layer, \\\n",
    "           (input_layer.shape[0], input_layer.shape[1], input_layer.shape[2], input_layer.shape[3])\n",
    "\n",
    "\n",
    "def detect_faces(\n",
    "    model, \n",
    "    output_layer, \n",
    "    image: np.ndarray, \n",
    "    w: int, \n",
    "    h: int,\n",
    "    threshold: float=0.9,\n",
    ") -> tuple:\n",
    "    result = model(inputs=[image])[output_layer].squeeze()\n",
    "\n",
    "    label_indexes: list = []\n",
    "    probs: list = []\n",
    "    boxes: list = []\n",
    "\n",
    "    if result[0][0] == -1:\n",
    "        return 0, None, None    \n",
    "    else:\n",
    "        for i in range(result.shape[0]):\n",
    "            if result[i][0] == -1:\n",
    "                break\n",
    "            elif result[i][2] > threshold:\n",
    "                label_indexes.append(int(result[i][1]))\n",
    "                probs.append(result[i][2])\n",
    "                boxes.append([int(result[i][3] * w), \\\n",
    "                              int(result[i][4] * h), \\\n",
    "                              int(result[i][5] * w), \\\n",
    "                              int(result[i][6] * h)])\n",
    "            else:\n",
    "                pass\n",
    "        \n",
    "    return label_indexes, probs, boxes"
   ]
  },
  {
   "cell_type": "code",
   "execution_count": 4,
   "id": "14baa98a",
   "metadata": {
    "execution": {
     "iopub.execute_input": "2022-10-11T19:05:39.288955Z",
     "iopub.status.busy": "2022-10-11T19:05:39.288537Z",
     "iopub.status.idle": "2022-10-11T19:05:41.466954Z",
     "shell.execute_reply": "2022-10-11T19:05:41.465539Z"
    },
    "papermill": {
     "duration": 2.188454,
     "end_time": "2022-10-11T19:05:41.472226",
     "exception": false,
     "start_time": "2022-10-11T19:05:39.283772",
     "status": "completed"
    },
    "tags": []
   },
   "outputs": [],
   "source": [
    "BASE_PATH: str = \"../input/11-785-f22-hw2p2-verification/verification\"\n",
    "clahe = cv2.createCLAHE(clipLimit=2.5, tileGridSize=(5, 5))\n",
    "\n",
    "known = sorted(os.listdir(f\"{BASE_PATH}/known\"))\n",
    "df = pd.read_csv(f\"{BASE_PATH}/dev_identities.csv\")\n",
    "\n",
    "CS_1: list = []\n",
    "CS_2: list = []    \n",
    "AVG_: list = []    \n",
    "\n",
    "d_model, _, d_output_layer, (_, _, d_H, d_W) = setup(\"CPU\", \"../input/ovfacemodels/detect_model.xml\")\n",
    "r_model, _, r_output_layer, (_, r_H, r_W, _) = setup(\"CPU\", \"../input/ovfacemodels/recog_model_2.xml\")"
   ]
  },
  {
   "cell_type": "markdown",
   "id": "a549f3d7",
   "metadata": {
    "papermill": {
     "duration": 0.002915,
     "end_time": "2022-10-11T19:05:41.478747",
     "exception": false,
     "start_time": "2022-10-11T19:05:41.475832",
     "status": "completed"
    },
    "tags": []
   },
   "source": [
    "### **Known**"
   ]
  },
  {
   "cell_type": "code",
   "execution_count": 5,
   "id": "7c3e5d23",
   "metadata": {
    "execution": {
     "iopub.execute_input": "2022-10-11T19:05:41.487210Z",
     "iopub.status.busy": "2022-10-11T19:05:41.486764Z",
     "iopub.status.idle": "2022-10-11T19:07:27.047830Z",
     "shell.execute_reply": "2022-10-11T19:07:27.046881Z"
    },
    "papermill": {
     "duration": 105.568882,
     "end_time": "2022-10-11T19:07:27.050746",
     "exception": false,
     "start_time": "2022-10-11T19:05:41.481864",
     "status": "completed"
    },
    "tags": []
   },
   "outputs": [],
   "source": [
    "if not os.path.exists(\"known-embeddings\"): os.makedirs(\"known-embeddings\")\n",
    "\n",
    "for identity in known:\n",
    "    filename = os.listdir(f\"{BASE_PATH}/known/{identity}\")[0]\n",
    "    \n",
    "    image = cv2.imread(f\"{BASE_PATH}/known/{identity}/{filename}\", cv2.IMREAD_COLOR)\n",
    "    for i in range(3): image[:, :, i] = clahe.apply(image[:, :, i])\n",
    "    image = preprocess(image, r_W, r_H, \"facenet\")\n",
    "    embeddings = r_model(inputs=[image])[r_output_layer]\n",
    "    np.save(f\"known-embeddings/{identity}_fr.npy\", embeddings)\n",
    "    \n",
    "    image = cv2.imread(f\"{BASE_PATH}/known/{identity}/{filename}\", cv2.IMREAD_COLOR)\n",
    "    h, w, _ = image.shape \n",
    "    for i in range(3): image[:, :, i] = clahe.apply(image[:, :, i])\n",
    "    temp_image = image.copy()\n",
    "    image = preprocess(image, d_W, d_H, \"other\")\n",
    "    _, _, boxes = detect_faces(d_model, d_output_layer, image, w, h)\n",
    "    if len(boxes) != 0:\n",
    "        for i in range(len(boxes)): \n",
    "            if boxes[0][i] < 0: \n",
    "                boxes[0][i] = 0\n",
    "        image = preprocess(temp_image[boxes[0][1]:boxes[0][3], boxes[0][0]:boxes[0][2], :], r_W, r_H, \"facenet\")\n",
    "    else:\n",
    "        image = preprocess(temp_image, r_W, r_H, \"facenet\")\n",
    "    embeddings = r_model(inputs=[image])[r_output_layer]\n",
    "    np.save(f\"known-embeddings/{identity}_fd_fr.npy\", embeddings)"
   ]
  },
  {
   "cell_type": "markdown",
   "id": "7d5b6f0c",
   "metadata": {
    "papermill": {
     "duration": 0.002871,
     "end_time": "2022-10-11T19:07:27.057003",
     "exception": false,
     "start_time": "2022-10-11T19:07:27.054132",
     "status": "completed"
    },
    "tags": []
   },
   "source": [
    "### **Unknown Test**"
   ]
  },
  {
   "cell_type": "code",
   "execution_count": 6,
   "id": "fa123407",
   "metadata": {
    "execution": {
     "iopub.execute_input": "2022-10-11T19:07:27.065934Z",
     "iopub.status.busy": "2022-10-11T19:07:27.064606Z",
     "iopub.status.idle": "2022-10-11T19:08:48.825733Z",
     "shell.execute_reply": "2022-10-11T19:08:48.824113Z"
    },
    "papermill": {
     "duration": 81.769119,
     "end_time": "2022-10-11T19:08:48.829106",
     "exception": false,
     "start_time": "2022-10-11T19:07:27.059987",
     "status": "completed"
    },
    "tags": []
   },
   "outputs": [],
   "source": [
    "if not os.path.exists(\"unknown-test-embeddings\"): os.makedirs(\"unknown-test-embeddings\")\n",
    "\n",
    "filenames = sorted(os.listdir(f\"{BASE_PATH}/unknown_test\"))\n",
    "\n",
    "for filename in filenames:\n",
    "    \n",
    "    image = cv2.imread(f\"{BASE_PATH}/unknown_test/{filename}\", cv2.IMREAD_COLOR)\n",
    "    for i in range(3): image[:, :, i] = clahe.apply(image[:, :, i])\n",
    "    image = preprocess(image, r_W, r_H, \"facenet\")\n",
    "    embeddings = r_model(inputs=[image])[r_output_layer]\n",
    "    np.save(f\"unknown-test-embeddings/{filename[:-4]}_fr.npy\", embeddings)\n",
    "    \n",
    "    \n",
    "    image = cv2.imread(f\"{BASE_PATH}/unknown_test/{filename}\", cv2.IMREAD_COLOR)\n",
    "    h, w, _ = image.shape \n",
    "    for i in range(3): image[:, :, i] = clahe.apply(image[:, :, i])\n",
    "    temp_image = image.copy()\n",
    "    image = preprocess(image, d_W, d_H, \"other\")\n",
    "    _, _, boxes = detect_faces(d_model, d_output_layer, image, w, h)\n",
    "    if len(boxes) != 0:\n",
    "        for i in range(len(boxes)): \n",
    "            if boxes[0][i] < 0: \n",
    "                boxes[0][i] = 0\n",
    "        image = preprocess(temp_image[boxes[0][1]:boxes[0][3], boxes[0][0]:boxes[0][2], :], r_W, r_H, \"facenet\")\n",
    "    else:\n",
    "        image = preprocess(temp_image, r_W, r_H, \"facenet\")\n",
    "    embeddings = r_model(inputs=[image])[r_output_layer]\n",
    "    np.save(f\"unknown-test-embeddings/{filename[:-4]}_fd_fr.npy\", embeddings)"
   ]
  },
  {
   "cell_type": "code",
   "execution_count": 7,
   "id": "37d7f400",
   "metadata": {
    "execution": {
     "iopub.execute_input": "2022-10-11T19:08:48.839197Z",
     "iopub.status.busy": "2022-10-11T19:08:48.838769Z",
     "iopub.status.idle": "2022-10-11T19:08:48.849148Z",
     "shell.execute_reply": "2022-10-11T19:08:48.847801Z"
    },
    "papermill": {
     "duration": 0.019641,
     "end_time": "2022-10-11T19:08:48.852803",
     "exception": false,
     "start_time": "2022-10-11T19:08:48.833162",
     "status": "completed"
    },
    "tags": []
   },
   "outputs": [],
   "source": [
    "temp_1: list = [filename for filename in sorted(os.listdir(\"unknown-test-embeddings\")) if \"_fd\" not in filename]\n",
    "temp_2: list = [filename for filename in sorted(os.listdir(\"unknown-test-embeddings\")) if \"_fd\" in filename]    "
   ]
  }
 ],
 "metadata": {
  "kernelspec": {
   "display_name": "Python 3",
   "language": "python",
   "name": "python3"
  },
  "language_info": {
   "codemirror_mode": {
    "name": "ipython",
    "version": 3
   },
   "file_extension": ".py",
   "mimetype": "text/x-python",
   "name": "python",
   "nbconvert_exporter": "python",
   "pygments_lexer": "ipython3",
   "version": "3.7.12"
  },
  "papermill": {
   "default_parameters": {},
   "duration": 213.315146,
   "end_time": "2022-10-11T19:08:49.681580",
   "environment_variables": {},
   "exception": null,
   "input_path": "__notebook__.ipynb",
   "output_path": "__notebook__.ipynb",
   "parameters": {},
   "start_time": "2022-10-11T19:05:16.366434",
   "version": "2.3.4"
  }
 },
 "nbformat": 4,
 "nbformat_minor": 5
}
