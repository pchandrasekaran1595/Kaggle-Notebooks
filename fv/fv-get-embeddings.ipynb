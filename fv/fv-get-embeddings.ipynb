{
 "cells": [
  {
   "cell_type": "code",
   "execution_count": 1,
   "id": "a6c4668d",
   "metadata": {
    "_cell_guid": "b1076dfc-b9ad-4769-8c92-a6c4dae69d19",
    "_uuid": "8f2839f25d086af736a60e9eeb907d3b93b6e0e5",
    "execution": {
     "iopub.execute_input": "2022-10-11T12:43:42.623405Z",
     "iopub.status.busy": "2022-10-11T12:43:42.622971Z",
     "iopub.status.idle": "2022-10-11T12:43:58.915695Z",
     "shell.execute_reply": "2022-10-11T12:43:58.913871Z"
    },
    "papermill": {
     "duration": 16.301159,
     "end_time": "2022-10-11T12:43:58.918357",
     "exception": false,
     "start_time": "2022-10-11T12:43:42.617198",
     "status": "completed"
    },
    "tags": []
   },
   "outputs": [
    {
     "name": "stderr",
     "output_type": "stream",
     "text": [
      "WARNING: Running pip as the 'root' user can result in broken permissions and conflicting behaviour with the system package manager. It is recommended to use a virtual environment instead: https://pip.pypa.io/warnings/venv\n"
     ]
    }
   ],
   "source": [
    "%%bash\n",
    "pip install -q openvino"
   ]
  },
  {
   "cell_type": "code",
   "execution_count": 2,
   "id": "77c9c164",
   "metadata": {
    "execution": {
     "iopub.execute_input": "2022-10-11T12:43:58.926827Z",
     "iopub.status.busy": "2022-10-11T12:43:58.925946Z",
     "iopub.status.idle": "2022-10-11T12:43:59.307691Z",
     "shell.execute_reply": "2022-10-11T12:43:59.306641Z"
    },
    "papermill": {
     "duration": 0.388641,
     "end_time": "2022-10-11T12:43:59.310338",
     "exception": false,
     "start_time": "2022-10-11T12:43:58.921697",
     "status": "completed"
    },
    "tags": []
   },
   "outputs": [],
   "source": [
    "import os\n",
    "import cv2\n",
    "import random as r\n",
    "import numpy as np\n",
    "import pandas as pd\n",
    "import matplotlib.pyplot as plt\n",
    "\n",
    "from typing import Union\n",
    "from openvino.runtime import Core"
   ]
  },
  {
   "cell_type": "code",
   "execution_count": 3,
   "id": "122ff03e",
   "metadata": {
    "execution": {
     "iopub.execute_input": "2022-10-11T12:43:59.318291Z",
     "iopub.status.busy": "2022-10-11T12:43:59.317505Z",
     "iopub.status.idle": "2022-10-11T12:43:59.332766Z",
     "shell.execute_reply": "2022-10-11T12:43:59.331669Z"
    },
    "papermill": {
     "duration": 0.021753,
     "end_time": "2022-10-11T12:43:59.335165",
     "exception": false,
     "start_time": "2022-10-11T12:43:59.313412",
     "status": "completed"
    },
    "tags": []
   },
   "outputs": [],
   "source": [
    "def preprocess(image: np.ndarray, width: int, height: int, model_name: str=\"facenet\") -> np.ndarray:\n",
    "    if model_name == \"facenet\":\n",
    "        image = cv2.resize(src=image, dsize=(width, height), interpolation=cv2.INTER_AREA)\n",
    "    else:\n",
    "        image = cv2.resize(src=image, dsize=(width, height), interpolation=cv2.INTER_AREA).transpose(2, 0, 1)\n",
    "    return np.expand_dims(image, axis=0)\n",
    "\n",
    "\n",
    "def setup(target: str, model_path: str) -> tuple:\n",
    "    ie = Core()\n",
    "    model = ie.read_model(model=model_path)\n",
    "    model = ie.compile_model(model=model, device_name=target)\n",
    "\n",
    "    input_layer = next(iter(model.inputs))\n",
    "    output_layer = next(iter(model.outputs))\n",
    "\n",
    "    return model, input_layer, output_layer, \\\n",
    "           (input_layer.shape[0], input_layer.shape[1], input_layer.shape[2], input_layer.shape[3])\n",
    "\n",
    "\n",
    "def detect_faces(\n",
    "    model, \n",
    "    output_layer, \n",
    "    image: np.ndarray, \n",
    "    w: int, \n",
    "    h: int,\n",
    "    threshold: float=0.9,\n",
    ") -> tuple:\n",
    "    result = model(inputs=[image])[output_layer].squeeze()\n",
    "\n",
    "    label_indexes: list = []\n",
    "    probs: list = []\n",
    "    boxes: list = []\n",
    "\n",
    "    if result[0][0] == -1:\n",
    "        return 0, None, None    \n",
    "    else:\n",
    "        for i in range(result.shape[0]):\n",
    "            if result[i][0] == -1:\n",
    "                break\n",
    "            elif result[i][2] > threshold:\n",
    "                label_indexes.append(int(result[i][1]))\n",
    "                probs.append(result[i][2])\n",
    "                boxes.append([int(result[i][3] * w), \\\n",
    "                              int(result[i][4] * h), \\\n",
    "                              int(result[i][5] * w), \\\n",
    "                              int(result[i][6] * h)])\n",
    "            else:\n",
    "                pass\n",
    "        \n",
    "    return label_indexes, probs, boxes"
   ]
  },
  {
   "cell_type": "code",
   "execution_count": 4,
   "id": "fc024ddf",
   "metadata": {
    "execution": {
     "iopub.execute_input": "2022-10-11T12:43:59.342483Z",
     "iopub.status.busy": "2022-10-11T12:43:59.342138Z",
     "iopub.status.idle": "2022-10-11T12:44:01.152975Z",
     "shell.execute_reply": "2022-10-11T12:44:01.151786Z"
    },
    "papermill": {
     "duration": 1.817505,
     "end_time": "2022-10-11T12:44:01.155855",
     "exception": false,
     "start_time": "2022-10-11T12:43:59.338350",
     "status": "completed"
    },
    "tags": []
   },
   "outputs": [],
   "source": [
    "BASE_PATH: str = \"../input/11-785-f22-hw2p2-verification/verification\"\n",
    "clahe = cv2.createCLAHE(clipLimit=2.5, tileGridSize=(5, 5))\n",
    "\n",
    "known = sorted(os.listdir(f\"{BASE_PATH}/known\"))\n",
    "unknown_test = sorted(os.listdir(f\"{BASE_PATH}//unknown_dev\"))\n",
    "df = pd.read_csv(f\"{BASE_PATH}/dev_identities.csv\")\n",
    "\n",
    "CS_1: list = []\n",
    "CS_2: list = []    \n",
    "AVG_: list = []    \n",
    "\n",
    "d_model, _, d_output_layer, (_, _, d_H, d_W) = setup(\"CPU\", \"../input/ovfacemodels/detect_model.xml\")\n",
    "r_model, _, r_output_layer, (_, r_H, r_W, _) = setup(\"CPU\", \"../input/ovfacemodels/recog_model_2.xml\")"
   ]
  },
  {
   "cell_type": "markdown",
   "id": "da3b2b00",
   "metadata": {
    "papermill": {
     "duration": 0.002768,
     "end_time": "2022-10-11T12:44:01.162082",
     "exception": false,
     "start_time": "2022-10-11T12:44:01.159314",
     "status": "completed"
    },
    "tags": []
   },
   "source": [
    "### **Known**"
   ]
  },
  {
   "cell_type": "code",
   "execution_count": 5,
   "id": "ac5c9ecb",
   "metadata": {
    "execution": {
     "iopub.execute_input": "2022-10-11T12:44:01.170474Z",
     "iopub.status.busy": "2022-10-11T12:44:01.169759Z",
     "iopub.status.idle": "2022-10-11T12:45:37.689917Z",
     "shell.execute_reply": "2022-10-11T12:45:37.688229Z"
    },
    "papermill": {
     "duration": 96.527811,
     "end_time": "2022-10-11T12:45:37.693106",
     "exception": false,
     "start_time": "2022-10-11T12:44:01.165295",
     "status": "completed"
    },
    "tags": []
   },
   "outputs": [],
   "source": [
    "if not os.path.exists(\"known-embeddings\"): os.makedirs(\"known-embeddings\")\n",
    "\n",
    "for identity in known:\n",
    "    filename = os.listdir(f\"{BASE_PATH}/known/{identity}\")[0]\n",
    "    \n",
    "    image = cv2.imread(f\"{BASE_PATH}/known/{identity}/{filename}\", cv2.IMREAD_COLOR)\n",
    "    for i in range(3): image[:, :, i] = clahe.apply(image[:, :, i])\n",
    "    image = preprocess(image, r_W, r_H, \"facenet\")\n",
    "    embeddings = r_model(inputs=[image])[r_output_layer]\n",
    "    np.save(f\"{identity}_fr.npy\", embeddings)\n",
    "    \n",
    "    del image, embeddings\n",
    "    \n",
    "    image = cv2.imread(f\"{BASE_PATH}/known/{identity}/{filename}\", cv2.IMREAD_COLOR)\n",
    "    h, w, _ = image.shape \n",
    "    for i in range(3): image[:, :, i] = clahe.apply(image[:, :, i])\n",
    "    temp_image = image.copy()\n",
    "    image = preprocess(image, d_W, d_H, \"other\")\n",
    "    _, _, boxes = detect_faces(d_model, d_output_layer, image, w, h)\n",
    "    if len(boxes) != 0:\n",
    "        for i in range(len(boxes)): \n",
    "            if boxes[0][i] < 0: \n",
    "                boxes[0][i] = 0\n",
    "        image = preprocess(temp_image[boxes[0][1]:boxes[0][3], boxes[0][0]:boxes[0][2], :], r_W, r_H, \"facenet\")\n",
    "    else:\n",
    "        image = preprocess(temp_image, r_W, r_H, \"facenet\")\n",
    "    embeddings = r_model(inputs=[image])[r_output_layer]\n",
    "    np.save(f\"known-embeddings/{identity}_fd_fr.npy\", embeddings)\n",
    "    \n",
    "    del image, temp_image, embeddings"
   ]
  },
  {
   "cell_type": "markdown",
   "id": "83f1bb3a",
   "metadata": {
    "papermill": {
     "duration": 0.00267,
     "end_time": "2022-10-11T12:45:37.699055",
     "exception": false,
     "start_time": "2022-10-11T12:45:37.696385",
     "status": "completed"
    },
    "tags": []
   },
   "source": [
    "### **Unknown Test**"
   ]
  },
  {
   "cell_type": "code",
   "execution_count": 6,
   "id": "e5f6fc5b",
   "metadata": {
    "execution": {
     "iopub.execute_input": "2022-10-11T12:45:37.706692Z",
     "iopub.status.busy": "2022-10-11T12:45:37.706263Z",
     "iopub.status.idle": "2022-10-11T12:46:51.263911Z",
     "shell.execute_reply": "2022-10-11T12:46:51.262714Z"
    },
    "papermill": {
     "duration": 73.56491,
     "end_time": "2022-10-11T12:46:51.266773",
     "exception": false,
     "start_time": "2022-10-11T12:45:37.701863",
     "status": "completed"
    },
    "tags": []
   },
   "outputs": [],
   "source": [
    "if not os.path.exists(\"unknown-test-embeddings\"): os.makedirs(\"unknown-test-embeddings\")\n",
    "\n",
    "filenames = os.listdir(f\"{BASE_PATH}/unknown_test\")\n",
    "\n",
    "for filename in filenames:\n",
    "    \n",
    "    image = cv2.imread(f\"{BASE_PATH}/unknown_test/{filename}\", cv2.IMREAD_COLOR)\n",
    "    for i in range(3): image[:, :, i] = clahe.apply(image[:, :, i])\n",
    "    image = preprocess(image, r_W, r_H, \"facenet\")\n",
    "    embeddings = r_model(inputs=[image])[r_output_layer]\n",
    "    np.save(f\"{filename}_fr.npy\", embeddings)\n",
    "    \n",
    "    del image, embeddings\n",
    "    \n",
    "    image = cv2.imread(f\"{BASE_PATH}/unknown_test/{filename}\", cv2.IMREAD_COLOR)\n",
    "    h, w, _ = image.shape \n",
    "    for i in range(3): image[:, :, i] = clahe.apply(image[:, :, i])\n",
    "    temp_image = image.copy()\n",
    "    image = preprocess(image, d_W, d_H, \"other\")\n",
    "    _, _, boxes = detect_faces(d_model, d_output_layer, image, w, h)\n",
    "    if len(boxes) != 0:\n",
    "        for i in range(len(boxes)): \n",
    "            if boxes[0][i] < 0: \n",
    "                boxes[0][i] = 0\n",
    "        image = preprocess(temp_image[boxes[0][1]:boxes[0][3], boxes[0][0]:boxes[0][2], :], r_W, r_H, \"facenet\")\n",
    "    else:\n",
    "        image = preprocess(temp_image, r_W, r_H, \"facenet\")\n",
    "    embeddings = r_model(inputs=[image])[r_output_layer]\n",
    "    np.save(f\"unknown-test-embeddings/{filename}_fd_fr.npy\", embeddings)\n",
    "    \n",
    "    del image, temp_image, embeddings"
   ]
  }
 ],
 "metadata": {
  "kernelspec": {
   "display_name": "Python 3",
   "language": "python",
   "name": "python3"
  },
  "language_info": {
   "codemirror_mode": {
    "name": "ipython",
    "version": 3
   },
   "file_extension": ".py",
   "mimetype": "text/x-python",
   "name": "python",
   "nbconvert_exporter": "python",
   "pygments_lexer": "ipython3",
   "version": "3.7.12"
  },
  "papermill": {
   "default_parameters": {},
   "duration": 197.982523,
   "end_time": "2022-10-11T12:46:51.992428",
   "environment_variables": {},
   "exception": null,
   "input_path": "__notebook__.ipynb",
   "output_path": "__notebook__.ipynb",
   "parameters": {},
   "start_time": "2022-10-11T12:43:34.009905",
   "version": "2.3.4"
  }
 },
 "nbformat": 4,
 "nbformat_minor": 5
}
