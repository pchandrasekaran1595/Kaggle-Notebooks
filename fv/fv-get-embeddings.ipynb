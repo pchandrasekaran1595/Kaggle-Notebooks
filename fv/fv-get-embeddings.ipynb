{
 "cells": [
  {
   "cell_type": "code",
   "execution_count": 1,
   "id": "febea702",
   "metadata": {
    "_cell_guid": "b1076dfc-b9ad-4769-8c92-a6c4dae69d19",
    "_uuid": "8f2839f25d086af736a60e9eeb907d3b93b6e0e5",
    "execution": {
     "iopub.execute_input": "2022-10-11T17:07:49.074634Z",
     "iopub.status.busy": "2022-10-11T17:07:49.074005Z",
     "iopub.status.idle": "2022-10-11T17:08:03.279907Z",
     "shell.execute_reply": "2022-10-11T17:08:03.278251Z"
    },
    "papermill": {
     "duration": 14.215001,
     "end_time": "2022-10-11T17:08:03.282916",
     "exception": false,
     "start_time": "2022-10-11T17:07:49.067915",
     "status": "completed"
    },
    "tags": []
   },
   "outputs": [
    {
     "name": "stderr",
     "output_type": "stream",
     "text": [
      "WARNING: Running pip as the 'root' user can result in broken permissions and conflicting behaviour with the system package manager. It is recommended to use a virtual environment instead: https://pip.pypa.io/warnings/venv\n"
     ]
    }
   ],
   "source": [
    "%%bash\n",
    "pip install -q openvino"
   ]
  },
  {
   "cell_type": "code",
   "execution_count": 2,
   "id": "90a61290",
   "metadata": {
    "execution": {
     "iopub.execute_input": "2022-10-11T17:08:03.291891Z",
     "iopub.status.busy": "2022-10-11T17:08:03.291462Z",
     "iopub.status.idle": "2022-10-11T17:08:03.698208Z",
     "shell.execute_reply": "2022-10-11T17:08:03.697315Z"
    },
    "papermill": {
     "duration": 0.414488,
     "end_time": "2022-10-11T17:08:03.700911",
     "exception": false,
     "start_time": "2022-10-11T17:08:03.286423",
     "status": "completed"
    },
    "tags": []
   },
   "outputs": [],
   "source": [
    "import os\n",
    "import cv2\n",
    "import random as r\n",
    "import numpy as np\n",
    "import pandas as pd\n",
    "import matplotlib.pyplot as plt\n",
    "\n",
    "from typing import Union\n",
    "from openvino.runtime import Core"
   ]
  },
  {
   "cell_type": "code",
   "execution_count": 3,
   "id": "ace60a07",
   "metadata": {
    "execution": {
     "iopub.execute_input": "2022-10-11T17:08:03.709782Z",
     "iopub.status.busy": "2022-10-11T17:08:03.709063Z",
     "iopub.status.idle": "2022-10-11T17:08:03.723207Z",
     "shell.execute_reply": "2022-10-11T17:08:03.722279Z"
    },
    "papermill": {
     "duration": 0.021523,
     "end_time": "2022-10-11T17:08:03.725825",
     "exception": false,
     "start_time": "2022-10-11T17:08:03.704302",
     "status": "completed"
    },
    "tags": []
   },
   "outputs": [],
   "source": [
    "def preprocess(image: np.ndarray, width: int, height: int, model_name: str=\"facenet\") -> np.ndarray:\n",
    "    if model_name == \"facenet\":\n",
    "        image = cv2.resize(src=image, dsize=(width, height), interpolation=cv2.INTER_AREA)\n",
    "    else:\n",
    "        image = cv2.resize(src=image, dsize=(width, height), interpolation=cv2.INTER_AREA).transpose(2, 0, 1)\n",
    "    return np.expand_dims(image, axis=0)\n",
    "\n",
    "\n",
    "def setup(target: str, model_path: str) -> tuple:\n",
    "    ie = Core()\n",
    "    model = ie.read_model(model=model_path)\n",
    "    model = ie.compile_model(model=model, device_name=target)\n",
    "\n",
    "    input_layer = next(iter(model.inputs))\n",
    "    output_layer = next(iter(model.outputs))\n",
    "\n",
    "    return model, input_layer, output_layer, \\\n",
    "           (input_layer.shape[0], input_layer.shape[1], input_layer.shape[2], input_layer.shape[3])\n",
    "\n",
    "\n",
    "def detect_faces(\n",
    "    model, \n",
    "    output_layer, \n",
    "    image: np.ndarray, \n",
    "    w: int, \n",
    "    h: int,\n",
    "    threshold: float=0.9,\n",
    ") -> tuple:\n",
    "    result = model(inputs=[image])[output_layer].squeeze()\n",
    "\n",
    "    label_indexes: list = []\n",
    "    probs: list = []\n",
    "    boxes: list = []\n",
    "\n",
    "    if result[0][0] == -1:\n",
    "        return 0, None, None    \n",
    "    else:\n",
    "        for i in range(result.shape[0]):\n",
    "            if result[i][0] == -1:\n",
    "                break\n",
    "            elif result[i][2] > threshold:\n",
    "                label_indexes.append(int(result[i][1]))\n",
    "                probs.append(result[i][2])\n",
    "                boxes.append([int(result[i][3] * w), \\\n",
    "                              int(result[i][4] * h), \\\n",
    "                              int(result[i][5] * w), \\\n",
    "                              int(result[i][6] * h)])\n",
    "            else:\n",
    "                pass\n",
    "        \n",
    "    return label_indexes, probs, boxes"
   ]
  },
  {
   "cell_type": "code",
   "execution_count": 4,
   "id": "d079cbae",
   "metadata": {
    "execution": {
     "iopub.execute_input": "2022-10-11T17:08:03.734765Z",
     "iopub.status.busy": "2022-10-11T17:08:03.734126Z",
     "iopub.status.idle": "2022-10-11T17:08:05.394537Z",
     "shell.execute_reply": "2022-10-11T17:08:05.393062Z"
    },
    "papermill": {
     "duration": 1.668085,
     "end_time": "2022-10-11T17:08:05.397502",
     "exception": false,
     "start_time": "2022-10-11T17:08:03.729417",
     "status": "completed"
    },
    "tags": []
   },
   "outputs": [],
   "source": [
    "BASE_PATH: str = \"../input/11-785-f22-hw2p2-verification/verification\"\n",
    "clahe = cv2.createCLAHE(clipLimit=2.5, tileGridSize=(5, 5))\n",
    "\n",
    "known = sorted(os.listdir(f\"{BASE_PATH}/known\"))\n",
    "unknown_test = sorted(os.listdir(f\"{BASE_PATH}//unknown_dev\"))\n",
    "df = pd.read_csv(f\"{BASE_PATH}/dev_identities.csv\")\n",
    "\n",
    "CS_1: list = []\n",
    "CS_2: list = []    \n",
    "AVG_: list = []    \n",
    "\n",
    "d_model, _, d_output_layer, (_, _, d_H, d_W) = setup(\"CPU\", \"../input/ovfacemodels/detect_model.xml\")\n",
    "r_model, _, r_output_layer, (_, r_H, r_W, _) = setup(\"CPU\", \"../input/ovfacemodels/recog_model_2.xml\")"
   ]
  },
  {
   "cell_type": "markdown",
   "id": "a8cb0204",
   "metadata": {
    "papermill": {
     "duration": 0.002697,
     "end_time": "2022-10-11T17:08:05.404017",
     "exception": false,
     "start_time": "2022-10-11T17:08:05.401320",
     "status": "completed"
    },
    "tags": []
   },
   "source": [
    "### **Known**"
   ]
  },
  {
   "cell_type": "code",
   "execution_count": 5,
   "id": "0b8359bb",
   "metadata": {
    "execution": {
     "iopub.execute_input": "2022-10-11T17:08:05.411630Z",
     "iopub.status.busy": "2022-10-11T17:08:05.411230Z",
     "iopub.status.idle": "2022-10-11T17:09:38.362168Z",
     "shell.execute_reply": "2022-10-11T17:09:38.360927Z"
    },
    "papermill": {
     "duration": 92.958228,
     "end_time": "2022-10-11T17:09:38.365196",
     "exception": false,
     "start_time": "2022-10-11T17:08:05.406968",
     "status": "completed"
    },
    "tags": []
   },
   "outputs": [],
   "source": [
    "if not os.path.exists(\"known-embeddings\"): os.makedirs(\"known-embeddings\")\n",
    "\n",
    "for identity in known:\n",
    "    filename = os.listdir(f\"{BASE_PATH}/known/{identity}\")[0]\n",
    "    \n",
    "    image = cv2.imread(f\"{BASE_PATH}/known/{identity}/{filename}\", cv2.IMREAD_COLOR)\n",
    "    for i in range(3): image[:, :, i] = clahe.apply(image[:, :, i])\n",
    "    image = preprocess(image, r_W, r_H, \"facenet\")\n",
    "    embeddings = r_model(inputs=[image])[r_output_layer]\n",
    "    np.save(f\"known-embeddings/{identity}_fr.npy\", embeddings)\n",
    "    \n",
    "\n",
    "for identity in known:\n",
    "    filename = os.listdir(f\"{BASE_PATH}/known/{identity}\")[0]\n",
    "\n",
    "    image = cv2.imread(f\"{BASE_PATH}/known/{identity}/{filename}\", cv2.IMREAD_COLOR)\n",
    "    h, w, _ = image.shape \n",
    "    for i in range(3): image[:, :, i] = clahe.apply(image[:, :, i])\n",
    "    temp_image = image.copy()\n",
    "    image = preprocess(image, d_W, d_H, \"other\")\n",
    "    _, _, boxes = detect_faces(d_model, d_output_layer, image, w, h)\n",
    "    if len(boxes) != 0:\n",
    "        for i in range(len(boxes)): \n",
    "            if boxes[0][i] < 0: \n",
    "                boxes[0][i] = 0\n",
    "        image = preprocess(temp_image[boxes[0][1]:boxes[0][3], boxes[0][0]:boxes[0][2], :], r_W, r_H, \"facenet\")\n",
    "    else:\n",
    "        image = preprocess(temp_image, r_W, r_H, \"facenet\")\n",
    "    embeddings = r_model(inputs=[image])[r_output_layer]\n",
    "    np.save(f\"known-embeddings/{identity}_fd_fr.npy\", embeddings)"
   ]
  },
  {
   "cell_type": "markdown",
   "id": "f91fb296",
   "metadata": {
    "papermill": {
     "duration": 0.002722,
     "end_time": "2022-10-11T17:09:38.371267",
     "exception": false,
     "start_time": "2022-10-11T17:09:38.368545",
     "status": "completed"
    },
    "tags": []
   },
   "source": [
    "### **Unknown Test**"
   ]
  },
  {
   "cell_type": "code",
   "execution_count": 6,
   "id": "845eb2ae",
   "metadata": {
    "execution": {
     "iopub.execute_input": "2022-10-11T17:09:38.378828Z",
     "iopub.status.busy": "2022-10-11T17:09:38.378411Z",
     "iopub.status.idle": "2022-10-11T17:10:50.785318Z",
     "shell.execute_reply": "2022-10-11T17:10:50.783937Z"
    },
    "papermill": {
     "duration": 72.414223,
     "end_time": "2022-10-11T17:10:50.788390",
     "exception": false,
     "start_time": "2022-10-11T17:09:38.374167",
     "status": "completed"
    },
    "tags": []
   },
   "outputs": [],
   "source": [
    "if not os.path.exists(\"unknown-test-embeddings\"): os.makedirs(\"unknown-test-embeddings\")\n",
    "\n",
    "filenames = os.listdir(f\"{BASE_PATH}/unknown_test\")\n",
    "\n",
    "for filename in filenames:\n",
    "    \n",
    "    image = cv2.imread(f\"{BASE_PATH}/unknown_test/{filename}\", cv2.IMREAD_COLOR)\n",
    "    for i in range(3): image[:, :, i] = clahe.apply(image[:, :, i])\n",
    "    image = preprocess(image, r_W, r_H, \"facenet\")\n",
    "    embeddings = r_model(inputs=[image])[r_output_layer]\n",
    "    np.save(f\"unknown-test-embeddings/{filename}_fr.npy\", embeddings)\n",
    "\n",
    "\n",
    "for filename in filenames:\n",
    "    \n",
    "    image = cv2.imread(f\"{BASE_PATH}/unknown_test/{filename}\", cv2.IMREAD_COLOR)\n",
    "    h, w, _ = image.shape \n",
    "    for i in range(3): image[:, :, i] = clahe.apply(image[:, :, i])\n",
    "    temp_image = image.copy()\n",
    "    image = preprocess(image, d_W, d_H, \"other\")\n",
    "    _, _, boxes = detect_faces(d_model, d_output_layer, image, w, h)\n",
    "    if len(boxes) != 0:\n",
    "        for i in range(len(boxes)): \n",
    "            if boxes[0][i] < 0: \n",
    "                boxes[0][i] = 0\n",
    "        image = preprocess(temp_image[boxes[0][1]:boxes[0][3], boxes[0][0]:boxes[0][2], :], r_W, r_H, \"facenet\")\n",
    "    else:\n",
    "        image = preprocess(temp_image, r_W, r_H, \"facenet\")\n",
    "    embeddings = r_model(inputs=[image])[r_output_layer]\n",
    "    np.save(f\"unknown-test-embeddings/{filename}_fd_fr.npy\", embeddings)"
   ]
  }
 ],
 "metadata": {
  "kernelspec": {
   "display_name": "Python 3",
   "language": "python",
   "name": "python3"
  },
  "language_info": {
   "codemirror_mode": {
    "name": "ipython",
    "version": 3
   },
   "file_extension": ".py",
   "mimetype": "text/x-python",
   "name": "python",
   "nbconvert_exporter": "python",
   "pygments_lexer": "ipython3",
   "version": "3.7.12"
  },
  "papermill": {
   "default_parameters": {},
   "duration": 192.384845,
   "end_time": "2022-10-11T17:10:51.614027",
   "environment_variables": {},
   "exception": null,
   "input_path": "__notebook__.ipynb",
   "output_path": "__notebook__.ipynb",
   "parameters": {},
   "start_time": "2022-10-11T17:07:39.229182",
   "version": "2.3.4"
  }
 },
 "nbformat": 4,
 "nbformat_minor": 5
}
