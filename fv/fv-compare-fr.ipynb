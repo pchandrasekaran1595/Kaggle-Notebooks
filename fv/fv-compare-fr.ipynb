{
 "cells": [
  {
   "cell_type": "code",
   "execution_count": 1,
   "id": "df45f315",
   "metadata": {
    "_cell_guid": "b1076dfc-b9ad-4769-8c92-a6c4dae69d19",
    "_uuid": "8f2839f25d086af736a60e9eeb907d3b93b6e0e5",
    "execution": {
     "iopub.execute_input": "2022-10-11T20:13:38.998251Z",
     "iopub.status.busy": "2022-10-11T20:13:38.997367Z",
     "iopub.status.idle": "2022-10-11T20:13:39.007624Z",
     "shell.execute_reply": "2022-10-11T20:13:39.006435Z"
    },
    "papermill": {
     "duration": 0.018585,
     "end_time": "2022-10-11T20:13:39.010560",
     "exception": false,
     "start_time": "2022-10-11T20:13:38.991975",
     "status": "completed"
    },
    "tags": []
   },
   "outputs": [],
   "source": [
    "import os\n",
    "import numpy as np\n",
    "import pandas as pd"
   ]
  },
  {
   "cell_type": "code",
   "execution_count": 2,
   "id": "70d239a1",
   "metadata": {
    "execution": {
     "iopub.execute_input": "2022-10-11T20:13:39.018118Z",
     "iopub.status.busy": "2022-10-11T20:13:39.017670Z",
     "iopub.status.idle": "2022-10-11T20:13:39.024071Z",
     "shell.execute_reply": "2022-10-11T20:13:39.022812Z"
    },
    "papermill": {
     "duration": 0.01306,
     "end_time": "2022-10-11T20:13:39.026773",
     "exception": false,
     "start_time": "2022-10-11T20:13:39.013713",
     "status": "completed"
    },
    "tags": []
   },
   "outputs": [],
   "source": [
    "def cosine_similarity(a: np.ndarray, b: np.ndarray) -> float: return np.dot(a, b.reshape(-1, 1)) / (np.linalg.norm(a) * np.linalg.norm(b))"
   ]
  },
  {
   "cell_type": "code",
   "execution_count": 3,
   "id": "edef65fa",
   "metadata": {
    "execution": {
     "iopub.execute_input": "2022-10-11T20:13:39.033707Z",
     "iopub.status.busy": "2022-10-11T20:13:39.033287Z",
     "iopub.status.idle": "2022-10-11T20:13:39.038593Z",
     "shell.execute_reply": "2022-10-11T20:13:39.037298Z"
    },
    "papermill": {
     "duration": 0.011527,
     "end_time": "2022-10-11T20:13:39.040902",
     "exception": false,
     "start_time": "2022-10-11T20:13:39.029375",
     "status": "completed"
    },
    "tags": []
   },
   "outputs": [],
   "source": [
    "known_embeddings_path: str   = \"../input/fv-get-embeddings/known-embeddings/\"\n",
    "unknown_embeddings_path: str = \"../input/fv-get-embeddings/unknown-test-embeddings/\"    "
   ]
  },
  {
   "cell_type": "code",
   "execution_count": 4,
   "id": "20421b28",
   "metadata": {
    "execution": {
     "iopub.execute_input": "2022-10-11T20:13:39.048305Z",
     "iopub.status.busy": "2022-10-11T20:13:39.047154Z",
     "iopub.status.idle": "2022-10-11T20:13:39.260704Z",
     "shell.execute_reply": "2022-10-11T20:13:39.259475Z"
    },
    "papermill": {
     "duration": 0.220066,
     "end_time": "2022-10-11T20:13:39.263503",
     "exception": false,
     "start_time": "2022-10-11T20:13:39.043437",
     "status": "completed"
    },
    "tags": []
   },
   "outputs": [],
   "source": [
    "known_embeddings_fr: list   = [filename for filename in sorted(os.listdir(known_embeddings_path)) if \"_fd\" not in filename]\n",
    "unknown_embeddings_fr: list = [filename for filename in sorted(os.listdir(unknown_embeddings_path)) if \"_fd\" not in filename]"
   ]
  },
  {
   "cell_type": "code",
   "execution_count": 5,
   "id": "2ad5caba",
   "metadata": {
    "execution": {
     "iopub.execute_input": "2022-10-11T20:13:39.270380Z",
     "iopub.status.busy": "2022-10-11T20:13:39.269951Z",
     "iopub.status.idle": "2022-10-11T20:26:19.792803Z",
     "shell.execute_reply": "2022-10-11T20:26:19.791533Z"
    },
    "papermill": {
     "duration": 760.529577,
     "end_time": "2022-10-11T20:26:19.795586",
     "exception": false,
     "start_time": "2022-10-11T20:13:39.266009",
     "status": "completed"
    },
    "tags": []
   },
   "outputs": [],
   "source": [
    "labels: list = []\n",
    "\n",
    "for unknown_embedding_fr in unknown_embeddings_fr:\n",
    "    similarity = -np.inf\n",
    "    unk_embedding = np.load(os.path.join(unknown_embeddings_path, unknown_embedding_fr))\n",
    "    for known_embedding_fr in known_embeddings_fr:\n",
    "        k_embedding = np.load(os.path.join(known_embeddings_path, known_embedding_fr))\n",
    "        compare_sim = cosine_similarity(unk_embedding, k_embedding)[0][0]\n",
    "        if compare_sim > similarity:\n",
    "            label = known_embedding_fr.split(\"_\")[0]\n",
    "            similarity = compare_sim\n",
    "    labels.append(label)"
   ]
  },
  {
   "cell_type": "code",
   "execution_count": 6,
   "id": "9025e391",
   "metadata": {
    "execution": {
     "iopub.execute_input": "2022-10-11T20:26:19.802051Z",
     "iopub.status.busy": "2022-10-11T20:26:19.801668Z",
     "iopub.status.idle": "2022-10-11T20:26:20.000521Z",
     "shell.execute_reply": "2022-10-11T20:26:19.999401Z"
    },
    "papermill": {
     "duration": 0.205014,
     "end_time": "2022-10-11T20:26:20.003259",
     "exception": false,
     "start_time": "2022-10-11T20:26:19.798245",
     "status": "completed"
    },
    "tags": []
   },
   "outputs": [],
   "source": [
    "df = pd.DataFrame(data=None, columns=[\"id\", \"label\"])\n",
    "\n",
    "df.id = [i for i in range(len(os.listdir(\"../input/11-785-f22-hw2p2-verification/verification/unknown_test\")))]\n",
    "df.label = labels\n",
    "df.to_csv(\"submission.csv\", index=False)"
   ]
  }
 ],
 "metadata": {
  "kernelspec": {
   "display_name": "Python 3",
   "language": "python",
   "name": "python3"
  },
  "language_info": {
   "codemirror_mode": {
    "name": "ipython",
    "version": 3
   },
   "file_extension": ".py",
   "mimetype": "text/x-python",
   "name": "python",
   "nbconvert_exporter": "python",
   "pygments_lexer": "ipython3",
   "version": "3.7.12"
  },
  "papermill": {
   "default_parameters": {},
   "duration": 771.231033,
   "end_time": "2022-10-11T20:26:20.734031",
   "environment_variables": {},
   "exception": null,
   "input_path": "__notebook__.ipynb",
   "output_path": "__notebook__.ipynb",
   "parameters": {},
   "start_time": "2022-10-11T20:13:29.502998",
   "version": "2.3.4"
  }
 },
 "nbformat": 4,
 "nbformat_minor": 5
}
