{
 "cells": [
  {
   "cell_type": "code",
   "execution_count": 1,
   "id": "8036a6d9",
   "metadata": {
    "_cell_guid": "b1076dfc-b9ad-4769-8c92-a6c4dae69d19",
    "_uuid": "8f2839f25d086af736a60e9eeb907d3b93b6e0e5",
    "execution": {
     "iopub.execute_input": "2022-10-12T11:27:46.417727Z",
     "iopub.status.busy": "2022-10-12T11:27:46.417218Z",
     "iopub.status.idle": "2022-10-12T11:27:46.428134Z",
     "shell.execute_reply": "2022-10-12T11:27:46.426912Z"
    },
    "papermill": {
     "duration": 0.019061,
     "end_time": "2022-10-12T11:27:46.430972",
     "exception": false,
     "start_time": "2022-10-12T11:27:46.411911",
     "status": "completed"
    },
    "tags": []
   },
   "outputs": [],
   "source": [
    "import os\n",
    "import numpy as np\n",
    "import pandas as pd"
   ]
  },
  {
   "cell_type": "code",
   "execution_count": 2,
   "id": "2e3fddb3",
   "metadata": {
    "execution": {
     "iopub.execute_input": "2022-10-12T11:27:46.437850Z",
     "iopub.status.busy": "2022-10-12T11:27:46.437463Z",
     "iopub.status.idle": "2022-10-12T11:27:46.443683Z",
     "shell.execute_reply": "2022-10-12T11:27:46.442492Z"
    },
    "papermill": {
     "duration": 0.012185,
     "end_time": "2022-10-12T11:27:46.445993",
     "exception": false,
     "start_time": "2022-10-12T11:27:46.433808",
     "status": "completed"
    },
    "tags": []
   },
   "outputs": [],
   "source": [
    "def cosine_similarity(a: np.ndarray, b: np.ndarray) -> float: return np.dot(a, b.reshape(-1, 1)) / (np.linalg.norm(a) * np.linalg.norm(b))"
   ]
  },
  {
   "cell_type": "code",
   "execution_count": 3,
   "id": "1618b974",
   "metadata": {
    "execution": {
     "iopub.execute_input": "2022-10-12T11:27:46.452784Z",
     "iopub.status.busy": "2022-10-12T11:27:46.452357Z",
     "iopub.status.idle": "2022-10-12T11:27:46.458207Z",
     "shell.execute_reply": "2022-10-12T11:27:46.456678Z"
    },
    "papermill": {
     "duration": 0.012309,
     "end_time": "2022-10-12T11:27:46.460885",
     "exception": false,
     "start_time": "2022-10-12T11:27:46.448576",
     "status": "completed"
    },
    "tags": []
   },
   "outputs": [],
   "source": [
    "known_embeddings_path: str   = \"../input/fv-get-embeddings-arcface/known-embeddings/\"\n",
    "unknown_embeddings_path: str = \"../input/fv-get-embeddings-arcface/unknown-test-embeddings/\"    "
   ]
  },
  {
   "cell_type": "code",
   "execution_count": 4,
   "id": "8c9ec668",
   "metadata": {
    "execution": {
     "iopub.execute_input": "2022-10-12T11:27:46.468436Z",
     "iopub.status.busy": "2022-10-12T11:27:46.467675Z",
     "iopub.status.idle": "2022-10-12T11:27:46.731121Z",
     "shell.execute_reply": "2022-10-12T11:27:46.730142Z"
    },
    "papermill": {
     "duration": 0.270289,
     "end_time": "2022-10-12T11:27:46.733906",
     "exception": false,
     "start_time": "2022-10-12T11:27:46.463617",
     "status": "completed"
    },
    "tags": []
   },
   "outputs": [],
   "source": [
    "known_embeddings_fr: list   = [filename for filename in sorted(os.listdir(known_embeddings_path)) if \"_fd\" not in filename]\n",
    "unknown_embeddings_fr: list = [filename for filename in sorted(os.listdir(unknown_embeddings_path)) if \"_fd\" not in filename]"
   ]
  },
  {
   "cell_type": "code",
   "execution_count": 5,
   "id": "020a95d5",
   "metadata": {
    "execution": {
     "iopub.execute_input": "2022-10-12T11:27:46.741574Z",
     "iopub.status.busy": "2022-10-12T11:27:46.740723Z",
     "iopub.status.idle": "2022-10-12T11:41:54.707826Z",
     "shell.execute_reply": "2022-10-12T11:41:54.706572Z"
    },
    "papermill": {
     "duration": 847.974769,
     "end_time": "2022-10-12T11:41:54.711372",
     "exception": false,
     "start_time": "2022-10-12T11:27:46.736603",
     "status": "completed"
    },
    "tags": []
   },
   "outputs": [],
   "source": [
    "labels: list = []\n",
    "\n",
    "for unknown_embedding_fr in unknown_embeddings_fr:\n",
    "    similarity = -np.inf\n",
    "    unk_embedding = np.load(os.path.join(unknown_embeddings_path, unknown_embedding_fr))\n",
    "    for known_embedding_fr in known_embeddings_fr:\n",
    "        k_embedding = np.load(os.path.join(known_embeddings_path, known_embedding_fr))\n",
    "        compare_sim = cosine_similarity(unk_embedding, k_embedding)[0][0]\n",
    "        if compare_sim > similarity:\n",
    "            label = known_embedding_fr.split(\"_\")[0]\n",
    "            similarity = compare_sim\n",
    "    labels.append(label)"
   ]
  },
  {
   "cell_type": "code",
   "execution_count": 6,
   "id": "5bad02c6",
   "metadata": {
    "execution": {
     "iopub.execute_input": "2022-10-12T11:41:54.718456Z",
     "iopub.status.busy": "2022-10-12T11:41:54.718017Z",
     "iopub.status.idle": "2022-10-12T11:41:54.899072Z",
     "shell.execute_reply": "2022-10-12T11:41:54.897769Z"
    },
    "papermill": {
     "duration": 0.187738,
     "end_time": "2022-10-12T11:41:54.901876",
     "exception": false,
     "start_time": "2022-10-12T11:41:54.714138",
     "status": "completed"
    },
    "tags": []
   },
   "outputs": [],
   "source": [
    "df = pd.DataFrame(data=None, columns=[\"id\", \"label\"])\n",
    "\n",
    "df.id = [i for i in range(len(os.listdir(\"../input/11-785-f22-hw2p2-verification/verification/unknown_test\")))]\n",
    "df.label = labels\n",
    "df.to_csv(\"submission.csv\", index=False)"
   ]
  }
 ],
 "metadata": {
  "kernelspec": {
   "display_name": "Python 3",
   "language": "python",
   "name": "python3"
  },
  "language_info": {
   "codemirror_mode": {
    "name": "ipython",
    "version": 3
   },
   "file_extension": ".py",
   "mimetype": "text/x-python",
   "name": "python",
   "nbconvert_exporter": "python",
   "pygments_lexer": "ipython3",
   "version": "3.7.12"
  },
  "papermill": {
   "default_parameters": {},
   "duration": 859.254906,
   "end_time": "2022-10-12T11:41:55.629006",
   "environment_variables": {},
   "exception": null,
   "input_path": "__notebook__.ipynb",
   "output_path": "__notebook__.ipynb",
   "parameters": {},
   "start_time": "2022-10-12T11:27:36.374100",
   "version": "2.3.4"
  }
 },
 "nbformat": 4,
 "nbformat_minor": 5
}
