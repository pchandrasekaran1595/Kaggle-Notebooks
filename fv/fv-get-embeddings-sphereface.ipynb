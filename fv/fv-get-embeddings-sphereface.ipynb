{
 "cells": [
  {
   "cell_type": "code",
   "execution_count": null,
   "id": "3bbc4179",
   "metadata": {
    "papermill": {
     "duration": 0.00421,
     "end_time": "2022-10-12T10:54:26.733570",
     "exception": false,
     "start_time": "2022-10-12T10:54:26.729360",
     "status": "completed"
    },
    "tags": []
   },
   "outputs": [],
   "source": []
  },
  {
   "cell_type": "code",
   "execution_count": 1,
   "id": "b0594842",
   "metadata": {
    "_cell_guid": "b1076dfc-b9ad-4769-8c92-a6c4dae69d19",
    "_uuid": "8f2839f25d086af736a60e9eeb907d3b93b6e0e5",
    "execution": {
     "iopub.execute_input": "2022-10-12T10:54:26.742090Z",
     "iopub.status.busy": "2022-10-12T10:54:26.741541Z",
     "iopub.status.idle": "2022-10-12T10:54:44.758501Z",
     "shell.execute_reply": "2022-10-12T10:54:44.756501Z"
    },
    "papermill": {
     "duration": 18.025379,
     "end_time": "2022-10-12T10:54:44.762328",
     "exception": false,
     "start_time": "2022-10-12T10:54:26.736949",
     "status": "completed"
    },
    "tags": []
   },
   "outputs": [
    {
     "name": "stderr",
     "output_type": "stream",
     "text": [
      "WARNING: Running pip as the 'root' user can result in broken permissions and conflicting behaviour with the system package manager. It is recommended to use a virtual environment instead: https://pip.pypa.io/warnings/venv\n"
     ]
    }
   ],
   "source": [
    "%%bash\n",
    "pip install -q openvino"
   ]
  },
  {
   "cell_type": "code",
   "execution_count": 2,
   "id": "c8718040",
   "metadata": {
    "execution": {
     "iopub.execute_input": "2022-10-12T10:54:44.771084Z",
     "iopub.status.busy": "2022-10-12T10:54:44.770663Z",
     "iopub.status.idle": "2022-10-12T10:54:45.189213Z",
     "shell.execute_reply": "2022-10-12T10:54:45.187916Z"
    },
    "papermill": {
     "duration": 0.426115,
     "end_time": "2022-10-12T10:54:45.191929",
     "exception": false,
     "start_time": "2022-10-12T10:54:44.765814",
     "status": "completed"
    },
    "tags": []
   },
   "outputs": [],
   "source": [
    "import os\n",
    "import cv2\n",
    "import random as r\n",
    "import numpy as np\n",
    "import pandas as pd\n",
    "import matplotlib.pyplot as plt\n",
    "\n",
    "from typing import Union\n",
    "from openvino.runtime import Core"
   ]
  },
  {
   "cell_type": "code",
   "execution_count": 3,
   "id": "b21fc693",
   "metadata": {
    "execution": {
     "iopub.execute_input": "2022-10-12T10:54:45.200363Z",
     "iopub.status.busy": "2022-10-12T10:54:45.199942Z",
     "iopub.status.idle": "2022-10-12T10:54:45.216143Z",
     "shell.execute_reply": "2022-10-12T10:54:45.214924Z"
    },
    "papermill": {
     "duration": 0.023668,
     "end_time": "2022-10-12T10:54:45.219056",
     "exception": false,
     "start_time": "2022-10-12T10:54:45.195388",
     "status": "completed"
    },
    "tags": []
   },
   "outputs": [],
   "source": [
    "def preprocess(image: np.ndarray, width: int, height: int, model_name: str=\"facenet\") -> np.ndarray:\n",
    "    if model_name == \"facenet\":\n",
    "        image = cv2.resize(src=image, dsize=(width, height), interpolation=cv2.INTER_AREA)\n",
    "    else:\n",
    "        image = cv2.resize(src=image, dsize=(width, height), interpolation=cv2.INTER_AREA).transpose(2, 0, 1)\n",
    "    return np.expand_dims(image, axis=0)\n",
    "\n",
    "\n",
    "def setup(target: str, model_path: str) -> tuple:\n",
    "    ie = Core()\n",
    "    model = ie.read_model(model=model_path)\n",
    "    model = ie.compile_model(model=model, device_name=target)\n",
    "\n",
    "    input_layer = next(iter(model.inputs))\n",
    "    output_layer = next(iter(model.outputs))\n",
    "\n",
    "    return model, input_layer, output_layer, \\\n",
    "           (input_layer.shape[0], input_layer.shape[1], input_layer.shape[2], input_layer.shape[3])\n",
    "\n",
    "\n",
    "def detect_faces(\n",
    "    model, \n",
    "    output_layer, \n",
    "    image: np.ndarray, \n",
    "    w: int, \n",
    "    h: int,\n",
    "    threshold: float=0.9,\n",
    ") -> tuple:\n",
    "    result = model(inputs=[image])[output_layer].squeeze()\n",
    "\n",
    "    label_indexes: list = []\n",
    "    probs: list = []\n",
    "    boxes: list = []\n",
    "\n",
    "    if result[0][0] == -1:\n",
    "        return 0, None, None    \n",
    "    else:\n",
    "        for i in range(result.shape[0]):\n",
    "            if result[i][0] == -1:\n",
    "                break\n",
    "            elif result[i][2] > threshold:\n",
    "                label_indexes.append(int(result[i][1]))\n",
    "                probs.append(result[i][2])\n",
    "                boxes.append([int(result[i][3] * w), \\\n",
    "                              int(result[i][4] * h), \\\n",
    "                              int(result[i][5] * w), \\\n",
    "                              int(result[i][6] * h)])\n",
    "            else:\n",
    "                pass\n",
    "        \n",
    "    return label_indexes, probs, boxes"
   ]
  },
  {
   "cell_type": "code",
   "execution_count": 4,
   "id": "7869c39a",
   "metadata": {
    "execution": {
     "iopub.execute_input": "2022-10-12T10:54:45.227859Z",
     "iopub.status.busy": "2022-10-12T10:54:45.226972Z",
     "iopub.status.idle": "2022-10-12T10:54:46.644523Z",
     "shell.execute_reply": "2022-10-12T10:54:46.643436Z"
    },
    "papermill": {
     "duration": 1.424908,
     "end_time": "2022-10-12T10:54:46.647299",
     "exception": false,
     "start_time": "2022-10-12T10:54:45.222391",
     "status": "completed"
    },
    "tags": []
   },
   "outputs": [],
   "source": [
    "BASE_PATH: str = \"../input/11-785-f22-hw2p2-verification/verification\"\n",
    "clahe = cv2.createCLAHE(clipLimit=2.5, tileGridSize=(5, 5))\n",
    "\n",
    "known = sorted(os.listdir(f\"{BASE_PATH}/known\"))\n",
    "df = pd.read_csv(f\"{BASE_PATH}/dev_identities.csv\")\n",
    "\n",
    "CS_1: list = []\n",
    "CS_2: list = []    \n",
    "AVG_: list = []    \n",
    "\n",
    "d_model, _, d_output_layer, (_, _, d_H, d_W) = setup(\"CPU\", \"../input/ovfacemodels/detect_model.xml\")\n",
    "r_model, _, r_output_layer, (_, _, r_H, r_W) = setup(\"CPU\", \"../input/ovfacemodels/recog_model_3.xml\")"
   ]
  },
  {
   "cell_type": "markdown",
   "id": "368db26c",
   "metadata": {
    "papermill": {
     "duration": 0.002884,
     "end_time": "2022-10-12T10:54:46.653414",
     "exception": false,
     "start_time": "2022-10-12T10:54:46.650530",
     "status": "completed"
    },
    "tags": []
   },
   "source": [
    "### **Known**"
   ]
  },
  {
   "cell_type": "code",
   "execution_count": 5,
   "id": "a75df238",
   "metadata": {
    "execution": {
     "iopub.execute_input": "2022-10-12T10:54:46.662047Z",
     "iopub.status.busy": "2022-10-12T10:54:46.661236Z",
     "iopub.status.idle": "2022-10-12T10:56:13.207096Z",
     "shell.execute_reply": "2022-10-12T10:56:13.205792Z"
    },
    "papermill": {
     "duration": 86.55368,
     "end_time": "2022-10-12T10:56:13.210175",
     "exception": false,
     "start_time": "2022-10-12T10:54:46.656495",
     "status": "completed"
    },
    "tags": []
   },
   "outputs": [],
   "source": [
    "if not os.path.exists(\"known-embeddings\"): os.makedirs(\"known-embeddings\")\n",
    "\n",
    "for identity in known:\n",
    "    filename = os.listdir(f\"{BASE_PATH}/known/{identity}\")[0]\n",
    "    \n",
    "    image = cv2.imread(f\"{BASE_PATH}/known/{identity}/{filename}\", cv2.IMREAD_COLOR)\n",
    "    for i in range(3): image[:, :, i] = clahe.apply(image[:, :, i])\n",
    "    image = preprocess(image, r_W, r_H, \"sphereface\")\n",
    "    embeddings = r_model(inputs=[image])[r_output_layer]\n",
    "    np.save(f\"known-embeddings/{identity}_fr.npy\", embeddings)\n",
    "    \n",
    "    image = cv2.imread(f\"{BASE_PATH}/known/{identity}/{filename}\", cv2.IMREAD_COLOR)\n",
    "    h, w, _ = image.shape \n",
    "    for i in range(3): image[:, :, i] = clahe.apply(image[:, :, i])\n",
    "    temp_image = image.copy()\n",
    "    image = preprocess(image, d_W, d_H, \"other\")\n",
    "    _, _, boxes = detect_faces(d_model, d_output_layer, image, w, h)\n",
    "    if len(boxes) != 0:\n",
    "        for i in range(len(boxes)): \n",
    "            if boxes[0][i] < 0: \n",
    "                boxes[0][i] = 0\n",
    "        image = preprocess(temp_image[boxes[0][1]:boxes[0][3], boxes[0][0]:boxes[0][2], :], r_W, r_H, \"facenet\")\n",
    "    else:\n",
    "        image = preprocess(temp_image, r_W, r_H, \"sphereface\")\n",
    "    embeddings = r_model(inputs=[image])[r_output_layer]\n",
    "    np.save(f\"known-embeddings/{identity}_fd_fr.npy\", embeddings)"
   ]
  },
  {
   "cell_type": "markdown",
   "id": "6eb8be9e",
   "metadata": {
    "papermill": {
     "duration": 0.00281,
     "end_time": "2022-10-12T10:56:13.216341",
     "exception": false,
     "start_time": "2022-10-12T10:56:13.213531",
     "status": "completed"
    },
    "tags": []
   },
   "source": [
    "### **Unknown Test**"
   ]
  },
  {
   "cell_type": "code",
   "execution_count": 6,
   "id": "c4688822",
   "metadata": {
    "execution": {
     "iopub.execute_input": "2022-10-12T10:56:13.224405Z",
     "iopub.status.busy": "2022-10-12T10:56:13.223991Z",
     "iopub.status.idle": "2022-10-12T10:57:19.610550Z",
     "shell.execute_reply": "2022-10-12T10:57:19.609221Z"
    },
    "papermill": {
     "duration": 66.394203,
     "end_time": "2022-10-12T10:57:19.613688",
     "exception": false,
     "start_time": "2022-10-12T10:56:13.219485",
     "status": "completed"
    },
    "tags": []
   },
   "outputs": [],
   "source": [
    "if not os.path.exists(\"unknown-test-embeddings\"): os.makedirs(\"unknown-test-embeddings\")\n",
    "\n",
    "filenames = sorted(os.listdir(f\"{BASE_PATH}/unknown_test\"))\n",
    "\n",
    "for filename in filenames:\n",
    "    \n",
    "    image = cv2.imread(f\"{BASE_PATH}/unknown_test/{filename}\", cv2.IMREAD_COLOR)\n",
    "    for i in range(3): image[:, :, i] = clahe.apply(image[:, :, i])\n",
    "    image = preprocess(image, r_W, r_H, \"sphereface\")\n",
    "    embeddings = r_model(inputs=[image])[r_output_layer]\n",
    "    np.save(f\"unknown-test-embeddings/{filename[:-4]}_fr.npy\", embeddings)\n",
    "    \n",
    "    \n",
    "    image = cv2.imread(f\"{BASE_PATH}/unknown_test/{filename}\", cv2.IMREAD_COLOR)\n",
    "    h, w, _ = image.shape \n",
    "    for i in range(3): image[:, :, i] = clahe.apply(image[:, :, i])\n",
    "    temp_image = image.copy()\n",
    "    image = preprocess(image, d_W, d_H, \"other\")\n",
    "    _, _, boxes = detect_faces(d_model, d_output_layer, image, w, h)\n",
    "    if len(boxes) != 0:\n",
    "        for i in range(len(boxes)): \n",
    "            if boxes[0][i] < 0: \n",
    "                boxes[0][i] = 0\n",
    "        image = preprocess(temp_image[boxes[0][1]:boxes[0][3], boxes[0][0]:boxes[0][2], :], r_W, r_H, \"facenet\")\n",
    "    else:\n",
    "        image = preprocess(temp_image, r_W, r_H, \"sphereface\")\n",
    "    embeddings = r_model(inputs=[image])[r_output_layer]\n",
    "    np.save(f\"unknown-test-embeddings/{filename[:-4]}_fd_fr.npy\", embeddings)"
   ]
  }
 ],
 "metadata": {
  "kernelspec": {
   "display_name": "Python 3",
   "language": "python",
   "name": "python3"
  },
  "language_info": {
   "codemirror_mode": {
    "name": "ipython",
    "version": 3
   },
   "file_extension": ".py",
   "mimetype": "text/x-python",
   "name": "python",
   "nbconvert_exporter": "python",
   "pygments_lexer": "ipython3",
   "version": "3.7.12"
  },
  "papermill": {
   "default_parameters": {},
   "duration": 184.111549,
   "end_time": "2022-10-12T10:57:20.340886",
   "environment_variables": {},
   "exception": null,
   "input_path": "__notebook__.ipynb",
   "output_path": "__notebook__.ipynb",
   "parameters": {},
   "start_time": "2022-10-12T10:54:16.229337",
   "version": "2.3.4"
  }
 },
 "nbformat": 4,
 "nbformat_minor": 5
}
