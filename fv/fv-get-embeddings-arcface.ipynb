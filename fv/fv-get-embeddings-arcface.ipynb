{
 "cells": [
  {
   "cell_type": "code",
   "execution_count": null,
   "id": "df79b102",
   "metadata": {
    "papermill": {
     "duration": 0.007109,
     "end_time": "2022-10-12T10:53:59.536067",
     "exception": false,
     "start_time": "2022-10-12T10:53:59.528958",
     "status": "completed"
    },
    "tags": []
   },
   "outputs": [],
   "source": []
  },
  {
   "cell_type": "code",
   "execution_count": 1,
   "id": "f45c2b52",
   "metadata": {
    "_cell_guid": "b1076dfc-b9ad-4769-8c92-a6c4dae69d19",
    "_uuid": "8f2839f25d086af736a60e9eeb907d3b93b6e0e5",
    "execution": {
     "iopub.execute_input": "2022-10-12T10:53:59.545025Z",
     "iopub.status.busy": "2022-10-12T10:53:59.544485Z",
     "iopub.status.idle": "2022-10-12T10:54:14.363498Z",
     "shell.execute_reply": "2022-10-12T10:54:14.361894Z"
    },
    "papermill": {
     "duration": 14.826757,
     "end_time": "2022-10-12T10:54:14.366437",
     "exception": false,
     "start_time": "2022-10-12T10:53:59.539680",
     "status": "completed"
    },
    "tags": []
   },
   "outputs": [
    {
     "name": "stderr",
     "output_type": "stream",
     "text": [
      "WARNING: Running pip as the 'root' user can result in broken permissions and conflicting behaviour with the system package manager. It is recommended to use a virtual environment instead: https://pip.pypa.io/warnings/venv\n"
     ]
    }
   ],
   "source": [
    "%%bash\n",
    "pip install -q openvino"
   ]
  },
  {
   "cell_type": "code",
   "execution_count": 2,
   "id": "e684f71e",
   "metadata": {
    "execution": {
     "iopub.execute_input": "2022-10-12T10:54:14.375012Z",
     "iopub.status.busy": "2022-10-12T10:54:14.374624Z",
     "iopub.status.idle": "2022-10-12T10:54:14.776303Z",
     "shell.execute_reply": "2022-10-12T10:54:14.775333Z"
    },
    "papermill": {
     "duration": 0.409323,
     "end_time": "2022-10-12T10:54:14.779075",
     "exception": false,
     "start_time": "2022-10-12T10:54:14.369752",
     "status": "completed"
    },
    "tags": []
   },
   "outputs": [],
   "source": [
    "import os\n",
    "import cv2\n",
    "import random as r\n",
    "import numpy as np\n",
    "import pandas as pd\n",
    "import matplotlib.pyplot as plt\n",
    "\n",
    "from typing import Union\n",
    "from openvino.runtime import Core"
   ]
  },
  {
   "cell_type": "code",
   "execution_count": 3,
   "id": "0d7f3b63",
   "metadata": {
    "execution": {
     "iopub.execute_input": "2022-10-12T10:54:14.787105Z",
     "iopub.status.busy": "2022-10-12T10:54:14.786711Z",
     "iopub.status.idle": "2022-10-12T10:54:14.802263Z",
     "shell.execute_reply": "2022-10-12T10:54:14.801314Z"
    },
    "papermill": {
     "duration": 0.022362,
     "end_time": "2022-10-12T10:54:14.804694",
     "exception": false,
     "start_time": "2022-10-12T10:54:14.782332",
     "status": "completed"
    },
    "tags": []
   },
   "outputs": [],
   "source": [
    "def preprocess(image: np.ndarray, width: int, height: int, model_name: str=\"facenet\") -> np.ndarray:\n",
    "    if model_name == \"facenet\":\n",
    "        image = cv2.resize(src=image, dsize=(width, height), interpolation=cv2.INTER_AREA)\n",
    "    else:\n",
    "        image = cv2.resize(src=image, dsize=(width, height), interpolation=cv2.INTER_AREA).transpose(2, 0, 1)\n",
    "    return np.expand_dims(image, axis=0)\n",
    "\n",
    "\n",
    "def setup(target: str, model_path: str) -> tuple:\n",
    "    ie = Core()\n",
    "    model = ie.read_model(model=model_path)\n",
    "    model = ie.compile_model(model=model, device_name=target)\n",
    "\n",
    "    input_layer = next(iter(model.inputs))\n",
    "    output_layer = next(iter(model.outputs))\n",
    "\n",
    "    return model, input_layer, output_layer, \\\n",
    "           (input_layer.shape[0], input_layer.shape[1], input_layer.shape[2], input_layer.shape[3])\n",
    "\n",
    "\n",
    "def detect_faces(\n",
    "    model, \n",
    "    output_layer, \n",
    "    image: np.ndarray, \n",
    "    w: int, \n",
    "    h: int,\n",
    "    threshold: float=0.9,\n",
    ") -> tuple:\n",
    "    result = model(inputs=[image])[output_layer].squeeze()\n",
    "\n",
    "    label_indexes: list = []\n",
    "    probs: list = []\n",
    "    boxes: list = []\n",
    "\n",
    "    if result[0][0] == -1:\n",
    "        return 0, None, None    \n",
    "    else:\n",
    "        for i in range(result.shape[0]):\n",
    "            if result[i][0] == -1:\n",
    "                break\n",
    "            elif result[i][2] > threshold:\n",
    "                label_indexes.append(int(result[i][1]))\n",
    "                probs.append(result[i][2])\n",
    "                boxes.append([int(result[i][3] * w), \\\n",
    "                              int(result[i][4] * h), \\\n",
    "                              int(result[i][5] * w), \\\n",
    "                              int(result[i][6] * h)])\n",
    "            else:\n",
    "                pass\n",
    "        \n",
    "    return label_indexes, probs, boxes"
   ]
  },
  {
   "cell_type": "code",
   "execution_count": 4,
   "id": "ba2ee3c5",
   "metadata": {
    "execution": {
     "iopub.execute_input": "2022-10-12T10:54:14.812774Z",
     "iopub.status.busy": "2022-10-12T10:54:14.812351Z",
     "iopub.status.idle": "2022-10-12T10:54:18.403122Z",
     "shell.execute_reply": "2022-10-12T10:54:18.401946Z"
    },
    "papermill": {
     "duration": 3.597706,
     "end_time": "2022-10-12T10:54:18.405628",
     "exception": false,
     "start_time": "2022-10-12T10:54:14.807922",
     "status": "completed"
    },
    "tags": []
   },
   "outputs": [],
   "source": [
    "BASE_PATH: str = \"../input/11-785-f22-hw2p2-verification/verification\"\n",
    "clahe = cv2.createCLAHE(clipLimit=2.5, tileGridSize=(5, 5))\n",
    "\n",
    "known = sorted(os.listdir(f\"{BASE_PATH}/known\"))\n",
    "df = pd.read_csv(f\"{BASE_PATH}/dev_identities.csv\")\n",
    "\n",
    "CS_1: list = []\n",
    "CS_2: list = []    \n",
    "AVG_: list = []    \n",
    "\n",
    "d_model, _, d_output_layer, (_, _, d_H, d_W) = setup(\"CPU\", \"../input/ovfacemodels/detect_model.xml\")\n",
    "r_model, _, r_output_layer, (_, _, r_H, r_W) = setup(\"CPU\", \"../input/ovfacemodels/recog_model_1.xml\")"
   ]
  },
  {
   "cell_type": "markdown",
   "id": "35692b3b",
   "metadata": {
    "papermill": {
     "duration": 0.002677,
     "end_time": "2022-10-12T10:54:18.411457",
     "exception": false,
     "start_time": "2022-10-12T10:54:18.408780",
     "status": "completed"
    },
    "tags": []
   },
   "source": [
    "### **Known**"
   ]
  },
  {
   "cell_type": "code",
   "execution_count": 5,
   "id": "281b8285",
   "metadata": {
    "execution": {
     "iopub.execute_input": "2022-10-12T10:54:18.419432Z",
     "iopub.status.busy": "2022-10-12T10:54:18.418747Z",
     "iopub.status.idle": "2022-10-12T11:01:36.583754Z",
     "shell.execute_reply": "2022-10-12T11:01:36.582622Z"
    },
    "papermill": {
     "duration": 438.172091,
     "end_time": "2022-10-12T11:01:36.586435",
     "exception": false,
     "start_time": "2022-10-12T10:54:18.414344",
     "status": "completed"
    },
    "tags": []
   },
   "outputs": [],
   "source": [
    "if not os.path.exists(\"known-embeddings\"): os.makedirs(\"known-embeddings\")\n",
    "\n",
    "for identity in known:\n",
    "    filename = os.listdir(f\"{BASE_PATH}/known/{identity}\")[0]\n",
    "    \n",
    "    image = cv2.imread(f\"{BASE_PATH}/known/{identity}/{filename}\", cv2.IMREAD_COLOR)\n",
    "    for i in range(3): image[:, :, i] = clahe.apply(image[:, :, i])\n",
    "    image = preprocess(image, r_W, r_H, \"arcface\")\n",
    "    embeddings = r_model(inputs=[image])[r_output_layer]\n",
    "    np.save(f\"known-embeddings/{identity}_fr.npy\", embeddings)\n",
    "    \n",
    "    image = cv2.imread(f\"{BASE_PATH}/known/{identity}/{filename}\", cv2.IMREAD_COLOR)\n",
    "    h, w, _ = image.shape \n",
    "    for i in range(3): image[:, :, i] = clahe.apply(image[:, :, i])\n",
    "    temp_image = image.copy()\n",
    "    image = preprocess(image, d_W, d_H, \"other\")\n",
    "    _, _, boxes = detect_faces(d_model, d_output_layer, image, w, h)\n",
    "    if len(boxes) != 0:\n",
    "        for i in range(len(boxes)): \n",
    "            if boxes[0][i] < 0: \n",
    "                boxes[0][i] = 0\n",
    "        image = preprocess(temp_image[boxes[0][1]:boxes[0][3], boxes[0][0]:boxes[0][2], :], r_W, r_H, \"facenet\")\n",
    "    else:\n",
    "        image = preprocess(temp_image, r_W, r_H, \"arcface\")\n",
    "    embeddings = r_model(inputs=[image])[r_output_layer]\n",
    "    np.save(f\"known-embeddings/{identity}_fd_fr.npy\", embeddings)"
   ]
  },
  {
   "cell_type": "markdown",
   "id": "5dcc1b1c",
   "metadata": {
    "papermill": {
     "duration": 0.002708,
     "end_time": "2022-10-12T11:01:36.592459",
     "exception": false,
     "start_time": "2022-10-12T11:01:36.589751",
     "status": "completed"
    },
    "tags": []
   },
   "source": [
    "### **Unknown Test**"
   ]
  },
  {
   "cell_type": "code",
   "execution_count": 6,
   "id": "d49db89e",
   "metadata": {
    "execution": {
     "iopub.execute_input": "2022-10-12T11:01:36.601676Z",
     "iopub.status.busy": "2022-10-12T11:01:36.600945Z",
     "iopub.status.idle": "2022-10-12T11:07:23.256154Z",
     "shell.execute_reply": "2022-10-12T11:07:23.255159Z"
    },
    "papermill": {
     "duration": 346.663217,
     "end_time": "2022-10-12T11:07:23.259277",
     "exception": false,
     "start_time": "2022-10-12T11:01:36.596060",
     "status": "completed"
    },
    "tags": []
   },
   "outputs": [],
   "source": [
    "if not os.path.exists(\"unknown-test-embeddings\"): os.makedirs(\"unknown-test-embeddings\")\n",
    "\n",
    "filenames = sorted(os.listdir(f\"{BASE_PATH}/unknown_test\"))\n",
    "\n",
    "for filename in filenames:\n",
    "    \n",
    "    image = cv2.imread(f\"{BASE_PATH}/unknown_test/{filename}\", cv2.IMREAD_COLOR)\n",
    "    for i in range(3): image[:, :, i] = clahe.apply(image[:, :, i])\n",
    "    image = preprocess(image, r_W, r_H, \"arcface\")\n",
    "    embeddings = r_model(inputs=[image])[r_output_layer]\n",
    "    np.save(f\"unknown-test-embeddings/{filename[:-4]}_fr.npy\", embeddings)\n",
    "    \n",
    "    \n",
    "    image = cv2.imread(f\"{BASE_PATH}/unknown_test/{filename}\", cv2.IMREAD_COLOR)\n",
    "    h, w, _ = image.shape \n",
    "    for i in range(3): image[:, :, i] = clahe.apply(image[:, :, i])\n",
    "    temp_image = image.copy()\n",
    "    image = preprocess(image, d_W, d_H, \"other\")\n",
    "    _, _, boxes = detect_faces(d_model, d_output_layer, image, w, h)\n",
    "    if len(boxes) != 0:\n",
    "        for i in range(len(boxes)): \n",
    "            if boxes[0][i] < 0: \n",
    "                boxes[0][i] = 0\n",
    "        image = preprocess(temp_image[boxes[0][1]:boxes[0][3], boxes[0][0]:boxes[0][2], :], r_W, r_H, \"facenet\")\n",
    "    else:\n",
    "        image = preprocess(temp_image, r_W, r_H, \"arcface\")\n",
    "    embeddings = r_model(inputs=[image])[r_output_layer]\n",
    "    np.save(f\"unknown-test-embeddings/{filename[:-4]}_fd_fr.npy\", embeddings)"
   ]
  }
 ],
 "metadata": {
  "kernelspec": {
   "display_name": "Python 3",
   "language": "python",
   "name": "python3"
  },
  "language_info": {
   "codemirror_mode": {
    "name": "ipython",
    "version": 3
   },
   "file_extension": ".py",
   "mimetype": "text/x-python",
   "name": "python",
   "nbconvert_exporter": "python",
   "pygments_lexer": "ipython3",
   "version": "3.7.12"
  },
  "papermill": {
   "default_parameters": {},
   "duration": 813.923484,
   "end_time": "2022-10-12T11:07:24.086195",
   "environment_variables": {},
   "exception": null,
   "input_path": "__notebook__.ipynb",
   "output_path": "__notebook__.ipynb",
   "parameters": {},
   "start_time": "2022-10-12T10:53:50.162711",
   "version": "2.3.4"
  }
 },
 "nbformat": 4,
 "nbformat_minor": 5
}
