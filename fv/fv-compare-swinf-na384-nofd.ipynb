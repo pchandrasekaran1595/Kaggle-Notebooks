{
 "cells": [
  {
   "cell_type": "code",
   "execution_count": 1,
   "id": "ef564135",
   "metadata": {
    "_cell_guid": "b1076dfc-b9ad-4769-8c92-a6c4dae69d19",
    "_uuid": "8f2839f25d086af736a60e9eeb907d3b93b6e0e5",
    "execution": {
     "iopub.execute_input": "2022-10-12T10:31:36.452794Z",
     "iopub.status.busy": "2022-10-12T10:31:36.452208Z",
     "iopub.status.idle": "2022-10-12T10:31:36.464982Z",
     "shell.execute_reply": "2022-10-12T10:31:36.463919Z"
    },
    "papermill": {
     "duration": 0.021025,
     "end_time": "2022-10-12T10:31:36.467317",
     "exception": false,
     "start_time": "2022-10-12T10:31:36.446292",
     "status": "completed"
    },
    "tags": []
   },
   "outputs": [],
   "source": [
    "import os\n",
    "import numpy as np\n",
    "import pandas as pd"
   ]
  },
  {
   "cell_type": "code",
   "execution_count": 2,
   "id": "5e084235",
   "metadata": {
    "execution": {
     "iopub.execute_input": "2022-10-12T10:31:36.474574Z",
     "iopub.status.busy": "2022-10-12T10:31:36.474217Z",
     "iopub.status.idle": "2022-10-12T10:31:36.480441Z",
     "shell.execute_reply": "2022-10-12T10:31:36.479329Z"
    },
    "papermill": {
     "duration": 0.012933,
     "end_time": "2022-10-12T10:31:36.483194",
     "exception": false,
     "start_time": "2022-10-12T10:31:36.470261",
     "status": "completed"
    },
    "tags": []
   },
   "outputs": [],
   "source": [
    "def cosine_similarity(a: np.ndarray, b: np.ndarray) -> float: return np.dot(a, b.reshape(-1, 1)) / (np.linalg.norm(a) * np.linalg.norm(b))"
   ]
  },
  {
   "cell_type": "code",
   "execution_count": 3,
   "id": "ca300d0d",
   "metadata": {
    "execution": {
     "iopub.execute_input": "2022-10-12T10:31:36.490703Z",
     "iopub.status.busy": "2022-10-12T10:31:36.490055Z",
     "iopub.status.idle": "2022-10-12T10:31:36.495470Z",
     "shell.execute_reply": "2022-10-12T10:31:36.494133Z"
    },
    "papermill": {
     "duration": 0.011618,
     "end_time": "2022-10-12T10:31:36.497796",
     "exception": false,
     "start_time": "2022-10-12T10:31:36.486178",
     "status": "completed"
    },
    "tags": []
   },
   "outputs": [],
   "source": [
    "known_embeddings_path: str   = \"../input/fv-trf-na384-nofd/known-embeddings/\"\n",
    "unknown_embeddings_path: str = \"../input/fv-trf-na384-nofd/unknown-embeddings/\"    "
   ]
  },
  {
   "cell_type": "code",
   "execution_count": 4,
   "id": "e223ba24",
   "metadata": {
    "execution": {
     "iopub.execute_input": "2022-10-12T10:31:36.504872Z",
     "iopub.status.busy": "2022-10-12T10:31:36.504472Z",
     "iopub.status.idle": "2022-10-12T10:31:36.521665Z",
     "shell.execute_reply": "2022-10-12T10:31:36.520305Z"
    },
    "papermill": {
     "duration": 0.023821,
     "end_time": "2022-10-12T10:31:36.524322",
     "exception": false,
     "start_time": "2022-10-12T10:31:36.500501",
     "status": "completed"
    },
    "tags": []
   },
   "outputs": [],
   "source": [
    "swin_b_known_embeddings_path: str   = os.path.join(known_embeddings_path, [filename for filename in sorted(os.listdir(known_embeddings_path)) if \"swin_base\" in filename][0])\n",
    "swin_b_unknown_embeddings_path: str = os.path.join(unknown_embeddings_path, [filename for filename in sorted(os.listdir(unknown_embeddings_path)) if \"swin_base\" in filename][0])\n"
   ]
  },
  {
   "cell_type": "code",
   "execution_count": 5,
   "id": "17bbd0a7",
   "metadata": {
    "execution": {
     "iopub.execute_input": "2022-10-12T10:31:36.531364Z",
     "iopub.status.busy": "2022-10-12T10:31:36.530881Z",
     "iopub.status.idle": "2022-10-12T10:31:36.610145Z",
     "shell.execute_reply": "2022-10-12T10:31:36.608887Z"
    },
    "papermill": {
     "duration": 0.08561,
     "end_time": "2022-10-12T10:31:36.612759",
     "exception": false,
     "start_time": "2022-10-12T10:31:36.527149",
     "status": "completed"
    },
    "tags": []
   },
   "outputs": [],
   "source": [
    "swin_b_known_embeddings: np.ndarray   = np.load(swin_b_known_embeddings_path)\n",
    "swin_b_unknown_embeddings: np.ndarray = np.load(swin_b_unknown_embeddings_path)\n",
    "\n",
    "labels: np.ndarray = np.load(\"../input/fv-trf-na384-nofd/labels.npy\")"
   ]
  },
  {
   "cell_type": "code",
   "execution_count": 6,
   "id": "061d15ee",
   "metadata": {
    "execution": {
     "iopub.execute_input": "2022-10-12T10:31:36.620045Z",
     "iopub.status.busy": "2022-10-12T10:31:36.619410Z",
     "iopub.status.idle": "2022-10-12T10:31:50.464789Z",
     "shell.execute_reply": "2022-10-12T10:31:50.463701Z"
    },
    "papermill": {
     "duration": 13.851893,
     "end_time": "2022-10-12T10:31:50.467586",
     "exception": false,
     "start_time": "2022-10-12T10:31:36.615693",
     "status": "completed"
    },
    "tags": []
   },
   "outputs": [],
   "source": [
    "predictions: list = []\n",
    "\n",
    "for i in range(swin_b_unknown_embeddings.shape[0]):\n",
    "    similarity = -np.inf\n",
    "    unk_embedding = swin_b_unknown_embeddings[i]\n",
    "    for j in range(swin_b_known_embeddings.shape[0]):\n",
    "        k_embedding = swin_b_known_embeddings[j]\n",
    "        compare_sim = cosine_similarity(unk_embedding.reshape(1, -1), k_embedding.reshape(1, -1))[0][0]\n",
    "        if compare_sim > similarity:\n",
    "            label = labels[j]\n",
    "            similarity = compare_sim\n",
    "    predictions.append(label)"
   ]
  },
  {
   "cell_type": "code",
   "execution_count": 7,
   "id": "4f710f5a",
   "metadata": {
    "execution": {
     "iopub.execute_input": "2022-10-12T10:31:50.474890Z",
     "iopub.status.busy": "2022-10-12T10:31:50.474459Z",
     "iopub.status.idle": "2022-10-12T10:31:50.689777Z",
     "shell.execute_reply": "2022-10-12T10:31:50.688774Z"
    },
    "papermill": {
     "duration": 0.222167,
     "end_time": "2022-10-12T10:31:50.692586",
     "exception": false,
     "start_time": "2022-10-12T10:31:50.470419",
     "status": "completed"
    },
    "tags": []
   },
   "outputs": [],
   "source": [
    "df = pd.DataFrame(data=None, columns=[\"id\", \"label\"])\n",
    "\n",
    "df.id = [i for i in range(len(os.listdir(\"../input/11-785-f22-hw2p2-verification/verification/unknown_test\")))]\n",
    "df.label = predictions\n",
    "df.to_csv(\"submission.csv\", index=False)"
   ]
  }
 ],
 "metadata": {
  "kernelspec": {
   "display_name": "Python 3",
   "language": "python",
   "name": "python3"
  },
  "language_info": {
   "codemirror_mode": {
    "name": "ipython",
    "version": 3
   },
   "file_extension": ".py",
   "mimetype": "text/x-python",
   "name": "python",
   "nbconvert_exporter": "python",
   "pygments_lexer": "ipython3",
   "version": "3.7.12"
  },
  "papermill": {
   "default_parameters": {},
   "duration": 24.206232,
   "end_time": "2022-10-12T10:31:51.318702",
   "environment_variables": {},
   "exception": null,
   "input_path": "__notebook__.ipynb",
   "output_path": "__notebook__.ipynb",
   "parameters": {},
   "start_time": "2022-10-12T10:31:27.112470",
   "version": "2.3.4"
  }
 },
 "nbformat": 4,
 "nbformat_minor": 5
}
