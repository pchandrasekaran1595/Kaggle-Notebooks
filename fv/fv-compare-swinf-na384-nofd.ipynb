{
 "cells": [
  {
   "cell_type": "code",
   "execution_count": 1,
   "id": "13ac2d97",
   "metadata": {
    "_cell_guid": "b1076dfc-b9ad-4769-8c92-a6c4dae69d19",
    "_uuid": "8f2839f25d086af736a60e9eeb907d3b93b6e0e5",
    "execution": {
     "iopub.execute_input": "2022-10-12T10:37:52.493061Z",
     "iopub.status.busy": "2022-10-12T10:37:52.492583Z",
     "iopub.status.idle": "2022-10-12T10:37:52.502638Z",
     "shell.execute_reply": "2022-10-12T10:37:52.501462Z"
    },
    "papermill": {
     "duration": 0.01884,
     "end_time": "2022-10-12T10:37:52.505608",
     "exception": false,
     "start_time": "2022-10-12T10:37:52.486768",
     "status": "completed"
    },
    "tags": []
   },
   "outputs": [],
   "source": [
    "import os\n",
    "import numpy as np\n",
    "import pandas as pd"
   ]
  },
  {
   "cell_type": "code",
   "execution_count": 2,
   "id": "5483db89",
   "metadata": {
    "execution": {
     "iopub.execute_input": "2022-10-12T10:37:52.513289Z",
     "iopub.status.busy": "2022-10-12T10:37:52.512819Z",
     "iopub.status.idle": "2022-10-12T10:37:52.519463Z",
     "shell.execute_reply": "2022-10-12T10:37:52.518206Z"
    },
    "papermill": {
     "duration": 0.013014,
     "end_time": "2022-10-12T10:37:52.521726",
     "exception": false,
     "start_time": "2022-10-12T10:37:52.508712",
     "status": "completed"
    },
    "tags": []
   },
   "outputs": [],
   "source": [
    "def cosine_similarity(a: np.ndarray, b: np.ndarray) -> float: return np.dot(a, b.reshape(-1, 1)) / (np.linalg.norm(a) * np.linalg.norm(b))"
   ]
  },
  {
   "cell_type": "code",
   "execution_count": 3,
   "id": "cca15a09",
   "metadata": {
    "execution": {
     "iopub.execute_input": "2022-10-12T10:37:52.529016Z",
     "iopub.status.busy": "2022-10-12T10:37:52.528560Z",
     "iopub.status.idle": "2022-10-12T10:37:52.534297Z",
     "shell.execute_reply": "2022-10-12T10:37:52.533038Z"
    },
    "papermill": {
     "duration": 0.011996,
     "end_time": "2022-10-12T10:37:52.536500",
     "exception": false,
     "start_time": "2022-10-12T10:37:52.524504",
     "status": "completed"
    },
    "tags": []
   },
   "outputs": [],
   "source": [
    "known_embeddings_path: str   = \"../input/fv-trf-na384-nofd/known-embeddings/\"\n",
    "unknown_embeddings_path: str = \"../input/fv-trf-na384-nofd/unknown-embeddings/\"    "
   ]
  },
  {
   "cell_type": "code",
   "execution_count": 4,
   "id": "f3b18326",
   "metadata": {
    "execution": {
     "iopub.execute_input": "2022-10-12T10:37:52.543748Z",
     "iopub.status.busy": "2022-10-12T10:37:52.543249Z",
     "iopub.status.idle": "2022-10-12T10:37:52.568095Z",
     "shell.execute_reply": "2022-10-12T10:37:52.567035Z"
    },
    "papermill": {
     "duration": 0.031351,
     "end_time": "2022-10-12T10:37:52.570637",
     "exception": false,
     "start_time": "2022-10-12T10:37:52.539286",
     "status": "completed"
    },
    "tags": []
   },
   "outputs": [],
   "source": [
    "swin_b_known_embeddings_path: str   = os.path.join(known_embeddings_path, [filename for filename in sorted(os.listdir(known_embeddings_path)) if \"swin_base\" in filename][0])\n",
    "swin_b_unknown_embeddings_path: str = os.path.join(unknown_embeddings_path, [filename for filename in sorted(os.listdir(unknown_embeddings_path)) if \"swin_base\" in filename][0])"
   ]
  },
  {
   "cell_type": "code",
   "execution_count": 5,
   "id": "345e0ffb",
   "metadata": {
    "execution": {
     "iopub.execute_input": "2022-10-12T10:37:52.578338Z",
     "iopub.status.busy": "2022-10-12T10:37:52.577853Z",
     "iopub.status.idle": "2022-10-12T10:37:52.727895Z",
     "shell.execute_reply": "2022-10-12T10:37:52.726972Z"
    },
    "papermill": {
     "duration": 0.156795,
     "end_time": "2022-10-12T10:37:52.730367",
     "exception": false,
     "start_time": "2022-10-12T10:37:52.573572",
     "status": "completed"
    },
    "tags": []
   },
   "outputs": [],
   "source": [
    "swin_b_known_embeddings: np.ndarray   = np.load(swin_b_known_embeddings_path)\n",
    "swin_b_unknown_embeddings: np.ndarray = np.load(swin_b_unknown_embeddings_path)\n",
    "\n",
    "labels: np.ndarray = np.load(\"../input/fv-trf-na384-nofd/labels.npy\")\n",
    "labels: list = sorted(list(labels))    "
   ]
  },
  {
   "cell_type": "code",
   "execution_count": 6,
   "id": "ab7d177a",
   "metadata": {
    "execution": {
     "iopub.execute_input": "2022-10-12T10:37:52.737890Z",
     "iopub.status.busy": "2022-10-12T10:37:52.737074Z",
     "iopub.status.idle": "2022-10-12T10:38:07.001185Z",
     "shell.execute_reply": "2022-10-12T10:38:06.999892Z"
    },
    "papermill": {
     "duration": 14.271025,
     "end_time": "2022-10-12T10:38:07.004289",
     "exception": false,
     "start_time": "2022-10-12T10:37:52.733264",
     "status": "completed"
    },
    "tags": []
   },
   "outputs": [],
   "source": [
    "predictions: list = []\n",
    "\n",
    "for i in range(swin_b_unknown_embeddings.shape[0]):\n",
    "    similarity = -np.inf\n",
    "    unk_embedding = swin_b_unknown_embeddings[i]\n",
    "    for j in range(swin_b_known_embeddings.shape[0]):\n",
    "        k_embedding = swin_b_known_embeddings[j]\n",
    "        compare_sim = cosine_similarity(unk_embedding.reshape(1, -1), k_embedding.reshape(1, -1))[0][0]\n",
    "        if compare_sim > similarity:\n",
    "            label = labels[j]\n",
    "            similarity = compare_sim\n",
    "    predictions.append(label)"
   ]
  },
  {
   "cell_type": "code",
   "execution_count": 7,
   "id": "6cb9ddda",
   "metadata": {
    "execution": {
     "iopub.execute_input": "2022-10-12T10:38:07.012144Z",
     "iopub.status.busy": "2022-10-12T10:38:07.011695Z",
     "iopub.status.idle": "2022-10-12T10:38:07.323446Z",
     "shell.execute_reply": "2022-10-12T10:38:07.322174Z"
    },
    "papermill": {
     "duration": 0.319028,
     "end_time": "2022-10-12T10:38:07.326243",
     "exception": false,
     "start_time": "2022-10-12T10:38:07.007215",
     "status": "completed"
    },
    "tags": []
   },
   "outputs": [],
   "source": [
    "df = pd.DataFrame(data=None, columns=[\"id\", \"label\"])\n",
    "\n",
    "df.id = [i for i in range(len(os.listdir(\"../input/11-785-f22-hw2p2-verification/verification/unknown_test\")))]\n",
    "df.label = predictions\n",
    "df.to_csv(\"submission.csv\", index=False)"
   ]
  }
 ],
 "metadata": {
  "kernelspec": {
   "display_name": "Python 3",
   "language": "python",
   "name": "python3"
  },
  "language_info": {
   "codemirror_mode": {
    "name": "ipython",
    "version": 3
   },
   "file_extension": ".py",
   "mimetype": "text/x-python",
   "name": "python",
   "nbconvert_exporter": "python",
   "pygments_lexer": "ipython3",
   "version": "3.7.12"
  },
  "papermill": {
   "default_parameters": {},
   "duration": 26.093799,
   "end_time": "2022-10-12T10:38:08.051403",
   "environment_variables": {},
   "exception": null,
   "input_path": "__notebook__.ipynb",
   "output_path": "__notebook__.ipynb",
   "parameters": {},
   "start_time": "2022-10-12T10:37:41.957604",
   "version": "2.3.4"
  }
 },
 "nbformat": 4,
 "nbformat_minor": 5
}
