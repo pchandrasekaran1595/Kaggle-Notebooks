{
 "cells": [
  {
   "cell_type": "code",
   "execution_count": 1,
   "id": "44dbb780",
   "metadata": {
    "_cell_guid": "b1076dfc-b9ad-4769-8c92-a6c4dae69d19",
    "_uuid": "8f2839f25d086af736a60e9eeb907d3b93b6e0e5",
    "execution": {
     "iopub.execute_input": "2022-05-01T10:19:13.284788Z",
     "iopub.status.busy": "2022-05-01T10:19:13.284414Z",
     "iopub.status.idle": "2022-05-01T10:19:13.477212Z",
     "shell.execute_reply": "2022-05-01T10:19:13.476249Z"
    },
    "papermill": {
     "duration": 0.206593,
     "end_time": "2022-05-01T10:19:13.479887",
     "exception": false,
     "start_time": "2022-05-01T10:19:13.273294",
     "status": "completed"
    },
    "tags": []
   },
   "outputs": [],
   "source": [
    "import os\n",
    "import cv2\n",
    "import numpy as np\n",
    "import multiprocess as mp\n",
    "\n",
    "TRAIN_BASE_PATH = \"../input/human-action-detection-artificial-intelligence/emirhan_human_dataset/datasets/human_data/train_data\"\n",
    "TEST_BASE_PATH  = \"../input/human-action-detection-artificial-intelligence/emirhan_human_dataset/datasets/human_data/test_data\"\n",
    "SIZE = 224"
   ]
  },
  {
   "cell_type": "code",
   "execution_count": 2,
   "id": "dcbf80bc",
   "metadata": {
    "execution": {
     "iopub.execute_input": "2022-05-01T10:19:13.498733Z",
     "iopub.status.busy": "2022-05-01T10:19:13.498430Z",
     "iopub.status.idle": "2022-05-01T10:19:13.512473Z",
     "shell.execute_reply": "2022-05-01T10:19:13.511632Z"
    },
    "papermill": {
     "duration": 0.025759,
     "end_time": "2022-05-01T10:19:13.514437",
     "exception": false,
     "start_time": "2022-05-01T10:19:13.488678",
     "status": "completed"
    },
    "tags": []
   },
   "outputs": [],
   "source": [
    "def breaker(num: int = 50, char: str = \"*\") -> None:\n",
    "    print(\"\\n\" + num*char + \"\\n\")\n",
    "\n",
    "\n",
    "def preprocess(image: np.ndarray, size: int) -> np.ndarray:\n",
    "    return cv2.resize(src=cv2.cvtColor(src=image, code=cv2.COLOR_BGR2RGB), dsize=(size, size), interpolation=cv2.INTER_AREA)\n",
    "\n",
    "\n",
    "def get_images(path: str, names: np.ndarray, size: int) -> np.ndarray:\n",
    "    images = np.zeros((len(names), size, size, 3), dtype=np.uint8)\n",
    "    \n",
    "    i = 0\n",
    "    for name in names:\n",
    "        images[i] = preprocess(cv2.imread(os.path.join(path, name), cv2.IMREAD_COLOR), size)\n",
    "        i += 1\n",
    "    return images\n",
    "\n",
    "\n",
    "def get_statistics(images: list, size: int) -> None:\n",
    "    print(f\"Statistics {size}x{size}\\n\")\n",
    "    \n",
    "    for i in range(3):\n",
    "        mean, std = 0.0, 0.0\n",
    "        for j in range(len(images)):\n",
    "            mean += images[0][:, :, i].mean()\n",
    "            std += images[0][:, :, i].std()\n",
    "        \n",
    "        if i == 0:\n",
    "            print(f\"\\nRed Channel Mean   {size} : {mean / len(images) / 255:.5f}\")\n",
    "            print(f\"Red Channel Std    {size} : {std / len(images) / 255:.5f}\")\n",
    "\n",
    "        if i == 1:\n",
    "            print(f\"\\nGreen Channel Mean {size} : {mean / len(images) / 255:.5f}\")\n",
    "            print(f\"Green Channel Std  {size} : {std / len(images) / 255:.5f}\")\n",
    "\n",
    "        if i == 2:\n",
    "            print(f\"\\nBlue Channel Mean  {size} : {mean / len(images) / 255:.5f}\")\n",
    "            print(f\"Blue Channel Std   {size} : {std / len(images) / 255:.5f}\")"
   ]
  },
  {
   "cell_type": "markdown",
   "id": "f70b202a",
   "metadata": {
    "papermill": {
     "duration": 0.008343,
     "end_time": "2022-05-01T10:19:13.531590",
     "exception": false,
     "start_time": "2022-05-01T10:19:13.523247",
     "status": "completed"
    },
    "tags": []
   },
   "source": [
    "### **Train**"
   ]
  },
  {
   "cell_type": "code",
   "execution_count": 3,
   "id": "264feb22",
   "metadata": {
    "execution": {
     "iopub.execute_input": "2022-05-01T10:19:13.550012Z",
     "iopub.status.busy": "2022-05-01T10:19:13.549707Z",
     "iopub.status.idle": "2022-05-01T10:21:32.822286Z",
     "shell.execute_reply": "2022-05-01T10:21:32.817185Z"
    },
    "papermill": {
     "duration": 139.290817,
     "end_time": "2022-05-01T10:21:32.830836",
     "exception": false,
     "start_time": "2022-05-01T10:19:13.540019",
     "status": "completed"
    },
    "tags": []
   },
   "outputs": [
    {
     "name": "stdout",
     "output_type": "stream",
     "text": [
      "\n",
      "**************************************************\n",
      "\n",
      "Statistics 224x224\n",
      "\n",
      "\n",
      "Red Channel Mean   224 : 0.66416\n",
      "Red Channel Std    224 : 0.28239\n",
      "\n",
      "Green Channel Mean 224 : 0.66332\n",
      "Green Channel Std  224 : 0.26653\n",
      "\n",
      "Blue Channel Mean  224 : 0.64562\n",
      "Blue Channel Std   224 : 0.26788\n",
      "\n",
      "**************************************************\n",
      "\n"
     ]
    }
   ],
   "source": [
    "def create_train_images():\n",
    "    tr_labels = sorted(os.listdir(TRAIN_BASE_PATH))\n",
    "    tr_images = np.zeros((1, SIZE, SIZE, 3), dtype=np.uint8)\n",
    "    tr_labels = np.zeros((len(os.listdir(\"../input/human-action-detection-artificial-intelligence/emirhan_human_dataset/datasets/human_data/train_data/calling\"), )))\n",
    "\n",
    "    i = 1\n",
    "    for label in os.listdir(TRAIN_BASE_PATH):\n",
    "        images = get_images(os.path.join(TRAIN_BASE_PATH, label), \n",
    "                            os.listdir(os.path.join(TRAIN_BASE_PATH, label)), \n",
    "                            SIZE)\n",
    "        tr_images = np.concatenate((tr_images, images), axis=0)\n",
    "        tr_labels = np.concatenate((tr_labels, np.ones(len(os.listdir(os.path.join(TRAIN_BASE_PATH, label))), ) * i), axis=0)\n",
    "        i += 1\n",
    "\n",
    "    np.save(f\"tr-images-{SIZE}.npy\", tr_images[1:])\n",
    "    np.save(f\"tr-labels-{SIZE}.npy\", tr_labels)\n",
    "\n",
    "    breaker()\n",
    "    get_statistics(list(tr_images[1:]), SIZE)\n",
    "    breaker()\n",
    "\n",
    "\n",
    "proc = mp.Process(target=create_train_images)\n",
    "proc.start()\n",
    "proc.join()"
   ]
  },
  {
   "cell_type": "markdown",
   "id": "7124ed6d",
   "metadata": {
    "papermill": {
     "duration": 0.016408,
     "end_time": "2022-05-01T10:21:32.867738",
     "exception": false,
     "start_time": "2022-05-01T10:21:32.851330",
     "status": "completed"
    },
    "tags": []
   },
   "source": [
    "### **Test**"
   ]
  },
  {
   "cell_type": "code",
   "execution_count": 4,
   "id": "32f1d44a",
   "metadata": {
    "execution": {
     "iopub.execute_input": "2022-05-01T10:21:32.905883Z",
     "iopub.status.busy": "2022-05-01T10:21:32.905229Z",
     "iopub.status.idle": "2022-05-01T10:22:00.982203Z",
     "shell.execute_reply": "2022-05-01T10:22:00.981148Z"
    },
    "papermill": {
     "duration": 28.10037,
     "end_time": "2022-05-01T10:22:00.984766",
     "exception": false,
     "start_time": "2022-05-01T10:21:32.884396",
     "status": "completed"
    },
    "tags": []
   },
   "outputs": [
    {
     "name": "stdout",
     "output_type": "stream",
     "text": [
      "\n",
      "**************************************************\n",
      "\n",
      "Statistics 224x224\n",
      "\n",
      "\n",
      "Red Channel Mean   224 : 0.46361\n",
      "Red Channel Std    224 : 0.22014\n",
      "\n",
      "Green Channel Mean 224 : 0.45379\n",
      "Green Channel Std  224 : 0.20495\n",
      "\n",
      "Blue Channel Mean  224 : 0.44087\n",
      "Blue Channel Std   224 : 0.21331\n",
      "\n",
      "**************************************************\n",
      "\n"
     ]
    }
   ],
   "source": [
    "def create_test_images():\n",
    "    ts_labels = sorted(os.listdir(TEST_BASE_PATH))\n",
    "    ts_images = np.zeros((1, SIZE, SIZE, 3), dtype=np.uint8)\n",
    "    ts_labels = np.zeros((len(os.listdir(\"../input/human-action-detection-artificial-intelligence/emirhan_human_dataset/datasets/human_data/test_data/calling\"), )))\n",
    "\n",
    "    i = 1\n",
    "    for label in os.listdir(TEST_BASE_PATH):\n",
    "        images = get_images(os.path.join(TEST_BASE_PATH, label), \n",
    "                               os.listdir(os.path.join(TEST_BASE_PATH, label)), \n",
    "                               SIZE)\n",
    "        ts_images = np.concatenate((ts_images, images), axis=0)\n",
    "        ts_labels = np.concatenate((ts_labels, np.ones(len(os.listdir(os.path.join(TEST_BASE_PATH, label))), ) * i), axis=0)\n",
    "        i += 1\n",
    "\n",
    "    np.save(f\"ts-images-{SIZE}.npy\", ts_images[1:])\n",
    "    np.save(f\"ts-labels-{SIZE}.npy\", ts_labels)\n",
    "\n",
    "    breaker()\n",
    "    get_statistics(list(ts_images[1:]), SIZE)\n",
    "    breaker()\n",
    "\n",
    "proc = mp.Process(target=create_test_images)\n",
    "proc.start()\n",
    "proc.join()"
   ]
  },
  {
   "cell_type": "markdown",
   "id": "8f593a6f",
   "metadata": {
    "papermill": {
     "duration": 0.021746,
     "end_time": "2022-05-01T10:22:01.028683",
     "exception": false,
     "start_time": "2022-05-01T10:22:01.006937",
     "status": "completed"
    },
    "tags": []
   },
   "source": [
    "### **Train + Test**"
   ]
  },
  {
   "cell_type": "code",
   "execution_count": 5,
   "id": "9d70af75",
   "metadata": {
    "execution": {
     "iopub.execute_input": "2022-05-01T10:22:01.074652Z",
     "iopub.status.busy": "2022-05-01T10:22:01.074341Z",
     "iopub.status.idle": "2022-05-01T10:23:05.314196Z",
     "shell.execute_reply": "2022-05-01T10:23:05.313294Z"
    },
    "papermill": {
     "duration": 64.266256,
     "end_time": "2022-05-01T10:23:05.316906",
     "exception": false,
     "start_time": "2022-05-01T10:22:01.050650",
     "status": "completed"
    },
    "tags": []
   },
   "outputs": [
    {
     "name": "stdout",
     "output_type": "stream",
     "text": [
      "\n",
      "**************************************************\n",
      "\n",
      "Statistics 224x224\n",
      "\n",
      "\n",
      "Red Channel Mean   224 : 0.66416\n",
      "Red Channel Std    224 : 0.28239\n",
      "\n",
      "Green Channel Mean 224 : 0.66332\n",
      "Green Channel Std  224 : 0.26653\n",
      "\n",
      "Blue Channel Mean  224 : 0.64562\n",
      "Blue Channel Std   224 : 0.26788\n",
      "\n",
      "**************************************************\n",
      "\n"
     ]
    }
   ],
   "source": [
    "def create_images():\n",
    "    tr_labels = sorted(os.listdir(TRAIN_BASE_PATH))\n",
    "    tr_images = np.zeros((1, SIZE, SIZE, 3), dtype=np.uint8)\n",
    "    tr_labels = np.zeros((len(os.listdir(\"../input/human-action-detection-artificial-intelligence/emirhan_human_dataset/datasets/human_data/train_data/calling\"), )))\n",
    "\n",
    "    i = 1\n",
    "    for label in os.listdir(TRAIN_BASE_PATH):\n",
    "        temp_images = get_images(os.path.join(TRAIN_BASE_PATH, label), \n",
    "                                 os.listdir(os.path.join(TRAIN_BASE_PATH, label)), \n",
    "                                 SIZE)\n",
    "        tr_images = np.concatenate((tr_images, temp_images), axis=0)\n",
    "        tr_labels = np.concatenate((tr_labels, np.ones(len(os.listdir(os.path.join(TRAIN_BASE_PATH, label))), ) * i), axis=0)\n",
    "        i += 1\n",
    "    \n",
    "    ts_labels = sorted(os.listdir(TEST_BASE_PATH))\n",
    "    ts_images = np.zeros((1, SIZE, SIZE, 3), dtype=np.uint8)\n",
    "    ts_labels = np.zeros((len(os.listdir(\"../input/human-action-detection-artificial-intelligence/emirhan_human_dataset/datasets/human_data/test_data/calling\"), )))\n",
    "\n",
    "    del temp_images\n",
    "    \n",
    "    i = 1\n",
    "    for label in os.listdir(TEST_BASE_PATH):\n",
    "        temp_images = get_images(os.path.join(TEST_BASE_PATH, label), \n",
    "                                 os.listdir(os.path.join(TEST_BASE_PATH, label)), \n",
    "                                 SIZE)\n",
    "        ts_images = np.concatenate((ts_images, temp_images), axis=0)\n",
    "        ts_labels = np.concatenate((ts_labels, np.ones(len(os.listdir(os.path.join(TEST_BASE_PATH, label))), ) * i), axis=0)\n",
    "        i += 1\n",
    "    \n",
    "    images = np.concatenate((tr_images[1:], ts_images[1:]), axis=0)\n",
    "    labels = np.concatenate((tr_labels, ts_labels), axis=0)\n",
    "    \n",
    "    np.save(f\"images-{SIZE}.npy\", images)\n",
    "    np.save(f\"labels-{SIZE}.npy\", labels)\n",
    "\n",
    "    breaker()\n",
    "    get_statistics(list(images), SIZE)\n",
    "    breaker()\n",
    "\n",
    "proc = mp.Process(target=create_images)\n",
    "proc.start()\n",
    "proc.join()"
   ]
  }
 ],
 "metadata": {
  "kernelspec": {
   "display_name": "Python 3",
   "language": "python",
   "name": "python3"
  },
  "language_info": {
   "codemirror_mode": {
    "name": "ipython",
    "version": 3
   },
   "file_extension": ".py",
   "mimetype": "text/x-python",
   "name": "python",
   "nbconvert_exporter": "python",
   "pygments_lexer": "ipython3",
   "version": "3.7.12"
  },
  "papermill": {
   "default_parameters": {},
   "duration": 242.469417,
   "end_time": "2022-05-01T10:23:06.070867",
   "environment_variables": {},
   "exception": null,
   "input_path": "__notebook__.ipynb",
   "output_path": "__notebook__.ipynb",
   "parameters": {},
   "start_time": "2022-05-01T10:19:03.601450",
   "version": "2.3.4"
  }
 },
 "nbformat": 4,
 "nbformat_minor": 5
}
