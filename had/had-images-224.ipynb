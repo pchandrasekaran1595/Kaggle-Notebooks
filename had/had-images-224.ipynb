{
 "cells": [
  {
   "cell_type": "code",
   "execution_count": 1,
   "id": "2b2b4d1f",
   "metadata": {
    "_cell_guid": "b1076dfc-b9ad-4769-8c92-a6c4dae69d19",
    "_uuid": "8f2839f25d086af736a60e9eeb907d3b93b6e0e5",
    "execution": {
     "iopub.execute_input": "2022-05-15T06:10:58.943464Z",
     "iopub.status.busy": "2022-05-15T06:10:58.942632Z",
     "iopub.status.idle": "2022-05-15T06:10:59.224160Z",
     "shell.execute_reply": "2022-05-15T06:10:59.222946Z"
    },
    "papermill": {
     "duration": 0.296761,
     "end_time": "2022-05-15T06:10:59.227118",
     "exception": false,
     "start_time": "2022-05-15T06:10:58.930357",
     "status": "completed"
    },
    "tags": []
   },
   "outputs": [],
   "source": [
    "import os\n",
    "import cv2\n",
    "import numpy as np\n",
    "import multiprocess as mp\n",
    "\n",
    "TRAIN_BASE_PATH = \"../input/human-action-detection-artificial-intelligence/emirhan_human_dataset/datasets/human_data/train_data\"\n",
    "TEST_BASE_PATH  = \"../input/human-action-detection-artificial-intelligence/emirhan_human_dataset/datasets/human_data/test_data\"\n",
    "SIZE = 224"
   ]
  },
  {
   "cell_type": "code",
   "execution_count": 2,
   "id": "faef146b",
   "metadata": {
    "execution": {
     "iopub.execute_input": "2022-05-15T06:10:59.247644Z",
     "iopub.status.busy": "2022-05-15T06:10:59.247279Z",
     "iopub.status.idle": "2022-05-15T06:10:59.262197Z",
     "shell.execute_reply": "2022-05-15T06:10:59.261064Z"
    },
    "papermill": {
     "duration": 0.027914,
     "end_time": "2022-05-15T06:10:59.264339",
     "exception": false,
     "start_time": "2022-05-15T06:10:59.236425",
     "status": "completed"
    },
    "tags": []
   },
   "outputs": [],
   "source": [
    "def breaker(num: int = 50, char: str = \"*\") -> None:\n",
    "    print(\"\\n\" + num*char + \"\\n\")\n",
    "\n",
    "\n",
    "def preprocess(image: np.ndarray, size: int) -> np.ndarray:\n",
    "    return cv2.resize(src=cv2.cvtColor(src=image, code=cv2.COLOR_BGR2RGB), dsize=(size, size), interpolation=cv2.INTER_AREA)\n",
    "\n",
    "\n",
    "def get_images(path: str, names: np.ndarray, size: int) -> np.ndarray:\n",
    "    images = np.zeros((len(names), size, size, 3), dtype=np.uint8)\n",
    "    \n",
    "    i = 0\n",
    "    for name in names:\n",
    "        images[i] = preprocess(cv2.imread(os.path.join(path, name), cv2.IMREAD_COLOR), size)\n",
    "        i += 1\n",
    "    return images\n",
    "\n",
    "\n",
    "def get_statistics(images: list, size: int) -> None:\n",
    "    print(f\"Statistics {size}x{size}\\n\")\n",
    "    \n",
    "    for i in range(3):\n",
    "        mean, std = 0.0, 0.0\n",
    "        for j in range(len(images)):\n",
    "            mean += images[j][:, :, i].mean()\n",
    "            std += images[j][:, :, i].std()\n",
    "        \n",
    "        if i == 0:\n",
    "            print(f\"\\nRed Channel Mean   {size} : {mean / len(images) / 255:.5f}\")\n",
    "            print(f\"Red Channel Std    {size} : {std / len(images) / 255:.5f}\")\n",
    "\n",
    "        if i == 1:\n",
    "            print(f\"\\nGreen Channel Mean {size} : {mean / len(images) / 255:.5f}\")\n",
    "            print(f\"Green Channel Std  {size} : {std / len(images) / 255:.5f}\")\n",
    "\n",
    "        if i == 2:\n",
    "            print(f\"\\nBlue Channel Mean  {size} : {mean / len(images) / 255:.5f}\")\n",
    "            print(f\"Blue Channel Std   {size} : {std / len(images) / 255:.5f}\")"
   ]
  },
  {
   "cell_type": "markdown",
   "id": "eb83fd0e",
   "metadata": {
    "papermill": {
     "duration": 0.008502,
     "end_time": "2022-05-15T06:10:59.281731",
     "exception": false,
     "start_time": "2022-05-15T06:10:59.273229",
     "status": "completed"
    },
    "tags": []
   },
   "source": [
    "### **Train**"
   ]
  },
  {
   "cell_type": "code",
   "execution_count": 3,
   "id": "b6a22bd2",
   "metadata": {
    "execution": {
     "iopub.execute_input": "2022-05-15T06:10:59.301204Z",
     "iopub.status.busy": "2022-05-15T06:10:59.300876Z",
     "iopub.status.idle": "2022-05-15T06:13:26.040600Z",
     "shell.execute_reply": "2022-05-15T06:13:26.039172Z"
    },
    "papermill": {
     "duration": 146.752764,
     "end_time": "2022-05-15T06:13:26.043313",
     "exception": false,
     "start_time": "2022-05-15T06:10:59.290549",
     "status": "completed"
    },
    "tags": []
   },
   "outputs": [
    {
     "name": "stdout",
     "output_type": "stream",
     "text": [
      "\n",
      "**************************************************\n",
      "\n",
      "Statistics 224x224\n",
      "\n",
      "\n",
      "Red Channel Mean   224 : 0.57357\n",
      "Red Channel Std    224 : 0.24266\n",
      "\n",
      "Green Channel Mean 224 : 0.53782\n",
      "Green Channel Std  224 : 0.24024\n",
      "\n",
      "Blue Channel Mean  224 : 0.50749\n",
      "Blue Channel Std   224 : 0.24423\n",
      "\n",
      "**************************************************\n",
      "\n"
     ]
    }
   ],
   "source": [
    "def create_train_images():\n",
    "    tr_labels = sorted(os.listdir(TRAIN_BASE_PATH))\n",
    "    tr_images = np.zeros((1, SIZE, SIZE, 3), dtype=np.uint8)\n",
    "    tr_labels = np.zeros((len(os.listdir(\"../input/human-action-detection-artificial-intelligence/emirhan_human_dataset/datasets/human_data/train_data/calling\"), )))\n",
    "\n",
    "    i = 1\n",
    "    for label in os.listdir(TRAIN_BASE_PATH):\n",
    "        images = get_images(os.path.join(TRAIN_BASE_PATH, label), \n",
    "                            os.listdir(os.path.join(TRAIN_BASE_PATH, label)), \n",
    "                            SIZE)\n",
    "        tr_images = np.concatenate((tr_images, images), axis=0)\n",
    "        tr_labels = np.concatenate((tr_labels, np.ones(len(os.listdir(os.path.join(TRAIN_BASE_PATH, label))), ) * i), axis=0)\n",
    "        i += 1\n",
    "\n",
    "    np.save(f\"tr-images-{SIZE}.npy\", tr_images[1:])\n",
    "    np.save(f\"tr-labels-{SIZE}.npy\", tr_labels)\n",
    "\n",
    "    breaker()\n",
    "    get_statistics(list(tr_images[1:]), SIZE)\n",
    "    breaker()\n",
    "\n",
    "\n",
    "proc = mp.Process(target=create_train_images)\n",
    "proc.start()\n",
    "proc.join()"
   ]
  },
  {
   "cell_type": "markdown",
   "id": "40d5cb4c",
   "metadata": {
    "papermill": {
     "duration": 0.015432,
     "end_time": "2022-05-15T06:13:26.074618",
     "exception": false,
     "start_time": "2022-05-15T06:13:26.059186",
     "status": "completed"
    },
    "tags": []
   },
   "source": [
    "### **Test**"
   ]
  },
  {
   "cell_type": "code",
   "execution_count": 4,
   "id": "7577aa1b",
   "metadata": {
    "execution": {
     "iopub.execute_input": "2022-05-15T06:13:26.109264Z",
     "iopub.status.busy": "2022-05-15T06:13:26.108937Z",
     "iopub.status.idle": "2022-05-15T06:13:53.867785Z",
     "shell.execute_reply": "2022-05-15T06:13:53.866793Z"
    },
    "papermill": {
     "duration": 27.779674,
     "end_time": "2022-05-15T06:13:53.870655",
     "exception": false,
     "start_time": "2022-05-15T06:13:26.090981",
     "status": "completed"
    },
    "tags": []
   },
   "outputs": [
    {
     "name": "stdout",
     "output_type": "stream",
     "text": [
      "\n",
      "**************************************************\n",
      "\n",
      "Statistics 224x224\n",
      "\n",
      "\n",
      "Red Channel Mean   224 : 0.56671\n",
      "Red Channel Std    224 : 0.24453\n",
      "\n",
      "Green Channel Mean 224 : 0.53456\n",
      "Green Channel Std  224 : 0.24133\n",
      "\n",
      "Blue Channel Mean  224 : 0.50307\n",
      "Blue Channel Std   224 : 0.24506\n",
      "\n",
      "**************************************************\n",
      "\n"
     ]
    }
   ],
   "source": [
    "def create_test_images():\n",
    "    ts_labels = sorted(os.listdir(TEST_BASE_PATH))\n",
    "    ts_images = np.zeros((1, SIZE, SIZE, 3), dtype=np.uint8)\n",
    "    ts_labels = np.zeros((len(os.listdir(\"../input/human-action-detection-artificial-intelligence/emirhan_human_dataset/datasets/human_data/test_data/calling\"), )))\n",
    "\n",
    "    i = 1\n",
    "    for label in os.listdir(TEST_BASE_PATH):\n",
    "        images = get_images(os.path.join(TEST_BASE_PATH, label), \n",
    "                               os.listdir(os.path.join(TEST_BASE_PATH, label)), \n",
    "                               SIZE)\n",
    "        ts_images = np.concatenate((ts_images, images), axis=0)\n",
    "        ts_labels = np.concatenate((ts_labels, np.ones(len(os.listdir(os.path.join(TEST_BASE_PATH, label))), ) * i), axis=0)\n",
    "        i += 1\n",
    "\n",
    "    np.save(f\"ts-images-{SIZE}.npy\", ts_images[1:])\n",
    "    np.save(f\"ts-labels-{SIZE}.npy\", ts_labels)\n",
    "\n",
    "    breaker()\n",
    "    get_statistics(list(ts_images[1:]), SIZE)\n",
    "    breaker()\n",
    "\n",
    "proc = mp.Process(target=create_test_images)\n",
    "proc.start()\n",
    "proc.join()"
   ]
  },
  {
   "cell_type": "markdown",
   "id": "64d1cb8a",
   "metadata": {
    "papermill": {
     "duration": 0.021612,
     "end_time": "2022-05-15T06:13:53.915639",
     "exception": false,
     "start_time": "2022-05-15T06:13:53.894027",
     "status": "completed"
    },
    "tags": []
   },
   "source": [
    "### **Train + Test**"
   ]
  },
  {
   "cell_type": "code",
   "execution_count": 5,
   "id": "a60c0a77",
   "metadata": {
    "execution": {
     "iopub.execute_input": "2022-05-15T06:13:53.962330Z",
     "iopub.status.busy": "2022-05-15T06:13:53.961945Z",
     "iopub.status.idle": "2022-05-15T06:15:08.021307Z",
     "shell.execute_reply": "2022-05-15T06:15:08.020133Z"
    },
    "papermill": {
     "duration": 74.086987,
     "end_time": "2022-05-15T06:15:08.024480",
     "exception": false,
     "start_time": "2022-05-15T06:13:53.937493",
     "status": "completed"
    },
    "tags": []
   },
   "outputs": [
    {
     "name": "stdout",
     "output_type": "stream",
     "text": [
      "\n",
      "**************************************************\n",
      "\n",
      "Statistics 224x224\n",
      "\n",
      "\n",
      "Red Channel Mean   224 : 0.57243\n",
      "Red Channel Std    224 : 0.24297\n",
      "\n",
      "Green Channel Mean 224 : 0.53728\n",
      "Green Channel Std  224 : 0.24042\n",
      "\n",
      "Blue Channel Mean  224 : 0.50676\n",
      "Blue Channel Std   224 : 0.24437\n",
      "\n",
      "**************************************************\n",
      "\n"
     ]
    }
   ],
   "source": [
    "def create_images():\n",
    "    tr_labels = sorted(os.listdir(TRAIN_BASE_PATH))\n",
    "    tr_images = np.zeros((1, SIZE, SIZE, 3), dtype=np.uint8)\n",
    "    tr_labels = np.zeros((len(os.listdir(\"../input/human-action-detection-artificial-intelligence/emirhan_human_dataset/datasets/human_data/train_data/calling\"), )))\n",
    "\n",
    "    i = 1\n",
    "    for label in os.listdir(TRAIN_BASE_PATH):\n",
    "        temp_images = get_images(os.path.join(TRAIN_BASE_PATH, label), \n",
    "                                 os.listdir(os.path.join(TRAIN_BASE_PATH, label)), \n",
    "                                 SIZE)\n",
    "        tr_images = np.concatenate((tr_images, temp_images), axis=0)\n",
    "        tr_labels = np.concatenate((tr_labels, np.ones(len(os.listdir(os.path.join(TRAIN_BASE_PATH, label))), ) * i), axis=0)\n",
    "        i += 1\n",
    "    \n",
    "    ts_labels = sorted(os.listdir(TEST_BASE_PATH))\n",
    "    ts_images = np.zeros((1, SIZE, SIZE, 3), dtype=np.uint8)\n",
    "    ts_labels = np.zeros((len(os.listdir(\"../input/human-action-detection-artificial-intelligence/emirhan_human_dataset/datasets/human_data/test_data/calling\"), )))\n",
    "\n",
    "    del temp_images\n",
    "    \n",
    "    i = 1\n",
    "    for label in os.listdir(TEST_BASE_PATH):\n",
    "        temp_images = get_images(os.path.join(TEST_BASE_PATH, label), \n",
    "                                 os.listdir(os.path.join(TEST_BASE_PATH, label)), \n",
    "                                 SIZE)\n",
    "        ts_images = np.concatenate((ts_images, temp_images), axis=0)\n",
    "        ts_labels = np.concatenate((ts_labels, np.ones(len(os.listdir(os.path.join(TEST_BASE_PATH, label))), ) * i), axis=0)\n",
    "        i += 1\n",
    "    \n",
    "    images = np.concatenate((tr_images[1:], ts_images[1:]), axis=0)\n",
    "    labels = np.concatenate((tr_labels, ts_labels), axis=0)\n",
    "    \n",
    "    np.save(f\"images-{SIZE}.npy\", images)\n",
    "    np.save(f\"labels-{SIZE}.npy\", labels)\n",
    "\n",
    "    breaker()\n",
    "    get_statistics(list(images), SIZE)\n",
    "    breaker()\n",
    "\n",
    "proc = mp.Process(target=create_images)\n",
    "proc.start()\n",
    "proc.join()"
   ]
  }
 ],
 "metadata": {
  "kernelspec": {
   "display_name": "Python 3",
   "language": "python",
   "name": "python3"
  },
  "language_info": {
   "codemirror_mode": {
    "name": "ipython",
    "version": 3
   },
   "file_extension": ".py",
   "mimetype": "text/x-python",
   "name": "python",
   "nbconvert_exporter": "python",
   "pygments_lexer": "ipython3",
   "version": "3.7.12"
  },
  "papermill": {
   "default_parameters": {},
   "duration": 260.817429,
   "end_time": "2022-05-15T06:15:08.881690",
   "environment_variables": {},
   "exception": null,
   "input_path": "__notebook__.ipynb",
   "output_path": "__notebook__.ipynb",
   "parameters": {},
   "start_time": "2022-05-15T06:10:48.064261",
   "version": "2.3.4"
  }
 },
 "nbformat": 4,
 "nbformat_minor": 5
}
