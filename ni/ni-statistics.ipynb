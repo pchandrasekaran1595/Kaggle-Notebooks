{
 "cells": [
  {
   "cell_type": "code",
   "execution_count": 1,
   "id": "19e6d307",
   "metadata": {
    "_cell_guid": "b1076dfc-b9ad-4769-8c92-a6c4dae69d19",
    "_uuid": "8f2839f25d086af736a60e9eeb907d3b93b6e0e5",
    "execution": {
     "iopub.execute_input": "2022-12-17T06:58:35.292968Z",
     "iopub.status.busy": "2022-12-17T06:58:35.292404Z",
     "iopub.status.idle": "2022-12-17T06:58:35.555496Z",
     "shell.execute_reply": "2022-12-17T06:58:35.554165Z"
    },
    "papermill": {
     "duration": 0.270563,
     "end_time": "2022-12-17T06:58:35.558361",
     "exception": false,
     "start_time": "2022-12-17T06:58:35.287798",
     "status": "completed"
    },
    "tags": []
   },
   "outputs": [],
   "source": [
    "import os\n",
    "import cv2\n",
    "import json\n",
    "import numpy as np\n",
    "import pandas as pd\n",
    "\n",
    "BASE_PATH: str = \"/kaggle/input/natural-images/\""
   ]
  },
  {
   "cell_type": "code",
   "execution_count": 2,
   "id": "63aaadf5",
   "metadata": {
    "execution": {
     "iopub.execute_input": "2022-12-17T06:58:35.564082Z",
     "iopub.status.busy": "2022-12-17T06:58:35.563636Z",
     "iopub.status.idle": "2022-12-17T06:58:35.627758Z",
     "shell.execute_reply": "2022-12-17T06:58:35.626503Z"
    },
    "papermill": {
     "duration": 0.070125,
     "end_time": "2022-12-17T06:58:35.630624",
     "exception": false,
     "start_time": "2022-12-17T06:58:35.560499",
     "status": "completed"
    },
    "tags": []
   },
   "outputs": [],
   "source": [
    "df: pd.DataFrame = pd.DataFrame(data=None, columns=[\"filepaths\", \"labels\"])\n",
    "    \n",
    "filepaths: list = []\n",
    "labels: list = []\n",
    "\n",
    "i: int = 0\n",
    "for folder in sorted(os.listdir(f\"{BASE_PATH}\")):\n",
    "    for filename in os.listdir(f\"{BASE_PATH}/{folder}\"):\n",
    "        filepaths.append(os.path.join(f\"{BASE_PATH}/{folder}\", filename))\n",
    "        labels.append(i)\n",
    "    i += 1\n",
    "\n",
    "df.filepaths = filepaths\n",
    "df.labels = labels\n",
    "df.to_csv(\"dataframe.csv\", index=False)"
   ]
  },
  {
   "cell_type": "code",
   "execution_count": 3,
   "id": "541f43f2",
   "metadata": {
    "execution": {
     "iopub.execute_input": "2022-12-17T06:58:35.636808Z",
     "iopub.status.busy": "2022-12-17T06:58:35.636089Z",
     "iopub.status.idle": "2022-12-17T06:58:35.644239Z",
     "shell.execute_reply": "2022-12-17T06:58:35.642941Z"
    },
    "papermill": {
     "duration": 0.014295,
     "end_time": "2022-12-17T06:58:35.646977",
     "exception": false,
     "start_time": "2022-12-17T06:58:35.632682",
     "status": "completed"
    },
    "tags": []
   },
   "outputs": [],
   "source": [
    "labels: dict = dict()\n",
    "\n",
    "i = 0\n",
    "for folder in sorted(os.listdir(f\"{BASE_PATH}\")):\n",
    "    labels[i] = folder\n",
    "    i += 1\n",
    "\n",
    "json.dump(labels, open(\"labels.json\", \"w\"))"
   ]
  }
 ],
 "metadata": {
  "kernelspec": {
   "display_name": "Python 3",
   "language": "python",
   "name": "python3"
  },
  "language_info": {
   "codemirror_mode": {
    "name": "ipython",
    "version": 3
   },
   "file_extension": ".py",
   "mimetype": "text/x-python",
   "name": "python",
   "nbconvert_exporter": "python",
   "pygments_lexer": "ipython3",
   "version": "3.7.12"
  },
  "papermill": {
   "default_parameters": {},
   "duration": 11.054015,
   "end_time": "2022-12-17T06:58:36.372088",
   "environment_variables": {},
   "exception": null,
   "input_path": "__notebook__.ipynb",
   "output_path": "__notebook__.ipynb",
   "parameters": {},
   "start_time": "2022-12-17T06:58:25.318073",
   "version": "2.3.4"
  }
 },
 "nbformat": 4,
 "nbformat_minor": 5
}
