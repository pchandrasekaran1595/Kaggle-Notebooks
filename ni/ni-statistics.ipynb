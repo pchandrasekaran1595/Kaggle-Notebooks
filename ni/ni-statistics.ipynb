{
 "cells": [
  {
   "cell_type": "code",
   "execution_count": 1,
   "id": "99e24297",
   "metadata": {
    "_cell_guid": "b1076dfc-b9ad-4769-8c92-a6c4dae69d19",
    "_uuid": "8f2839f25d086af736a60e9eeb907d3b93b6e0e5",
    "execution": {
     "iopub.execute_input": "2022-12-17T07:06:08.745551Z",
     "iopub.status.busy": "2022-12-17T07:06:08.744604Z",
     "iopub.status.idle": "2022-12-17T07:06:09.002123Z",
     "shell.execute_reply": "2022-12-17T07:06:09.000857Z"
    },
    "papermill": {
     "duration": 0.26599,
     "end_time": "2022-12-17T07:06:09.005567",
     "exception": false,
     "start_time": "2022-12-17T07:06:08.739577",
     "status": "completed"
    },
    "tags": []
   },
   "outputs": [],
   "source": [
    "import os\n",
    "import cv2\n",
    "import json\n",
    "import numpy as np\n",
    "import pandas as pd\n",
    "\n",
    "BASE_PATH: str = \"/kaggle/input/natural-images/\""
   ]
  },
  {
   "cell_type": "code",
   "execution_count": 2,
   "id": "237e25b8",
   "metadata": {
    "execution": {
     "iopub.execute_input": "2022-12-17T07:06:09.013696Z",
     "iopub.status.busy": "2022-12-17T07:06:09.012924Z",
     "iopub.status.idle": "2022-12-17T07:06:09.083913Z",
     "shell.execute_reply": "2022-12-17T07:06:09.082903Z"
    },
    "papermill": {
     "duration": 0.077136,
     "end_time": "2022-12-17T07:06:09.086492",
     "exception": false,
     "start_time": "2022-12-17T07:06:09.009356",
     "status": "completed"
    },
    "tags": []
   },
   "outputs": [],
   "source": [
    "df: pd.DataFrame = pd.DataFrame(data=None, columns=[\"filepaths\", \"labels\"])\n",
    "    \n",
    "filepaths: list = []\n",
    "labels: list = []\n",
    "\n",
    "i: int = 0\n",
    "for folder in sorted(os.listdir(f\"{BASE_PATH}\")):\n",
    "    for filename in os.listdir(f\"{BASE_PATH}/{folder}\"):\n",
    "        filepaths.append(os.path.join(f\"{BASE_PATH}/{folder}\", filename))\n",
    "        labels.append(i)\n",
    "    i += 1\n",
    "\n",
    "df.filepaths = filepaths\n",
    "df.labels = labels\n",
    "df.to_csv(\"dataframe.csv\", index=False)"
   ]
  },
  {
   "cell_type": "code",
   "execution_count": 3,
   "id": "91d9dea2",
   "metadata": {
    "execution": {
     "iopub.execute_input": "2022-12-17T07:06:09.092223Z",
     "iopub.status.busy": "2022-12-17T07:06:09.091786Z",
     "iopub.status.idle": "2022-12-17T07:06:09.098673Z",
     "shell.execute_reply": "2022-12-17T07:06:09.097310Z"
    },
    "papermill": {
     "duration": 0.012698,
     "end_time": "2022-12-17T07:06:09.101194",
     "exception": false,
     "start_time": "2022-12-17T07:06:09.088496",
     "status": "completed"
    },
    "tags": []
   },
   "outputs": [],
   "source": [
    "labels: dict = dict()\n",
    "\n",
    "i = 0\n",
    "for folder in sorted(os.listdir(f\"{BASE_PATH}\")):\n",
    "    labels[i] = folder\n",
    "    i += 1\n",
    "\n",
    "json.dump(labels, open(\"labels.json\", \"w\"))"
   ]
  }
 ],
 "metadata": {
  "kernelspec": {
   "display_name": "Python 3",
   "language": "python",
   "name": "python3"
  },
  "language_info": {
   "codemirror_mode": {
    "name": "ipython",
    "version": 3
   },
   "file_extension": ".py",
   "mimetype": "text/x-python",
   "name": "python",
   "nbconvert_exporter": "python",
   "pygments_lexer": "ipython3",
   "version": "3.7.12"
  },
  "papermill": {
   "default_parameters": {},
   "duration": 9.95086,
   "end_time": "2022-12-17T07:06:09.826368",
   "environment_variables": {},
   "exception": null,
   "input_path": "__notebook__.ipynb",
   "output_path": "__notebook__.ipynb",
   "parameters": {},
   "start_time": "2022-12-17T07:05:59.875508",
   "version": "2.3.4"
  }
 },
 "nbformat": 4,
 "nbformat_minor": 5
}
