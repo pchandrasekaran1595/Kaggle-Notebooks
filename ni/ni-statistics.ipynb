{
 "cells": [
  {
   "cell_type": "code",
   "execution_count": 1,
   "id": "02d404fd",
   "metadata": {
    "_cell_guid": "b1076dfc-b9ad-4769-8c92-a6c4dae69d19",
    "_uuid": "8f2839f25d086af736a60e9eeb907d3b93b6e0e5",
    "execution": {
     "iopub.execute_input": "2022-12-17T07:10:49.176976Z",
     "iopub.status.busy": "2022-12-17T07:10:49.176499Z",
     "iopub.status.idle": "2022-12-17T07:10:49.418905Z",
     "shell.execute_reply": "2022-12-17T07:10:49.417797Z"
    },
    "papermill": {
     "duration": 0.25009,
     "end_time": "2022-12-17T07:10:49.421947",
     "exception": false,
     "start_time": "2022-12-17T07:10:49.171857",
     "status": "completed"
    },
    "tags": []
   },
   "outputs": [],
   "source": [
    "import os\n",
    "import cv2\n",
    "import json\n",
    "import numpy as np\n",
    "import pandas as pd\n",
    "\n",
    "BASE_PATH: str = \"/kaggle/input/natural-images/natural_images\""
   ]
  },
  {
   "cell_type": "code",
   "execution_count": 2,
   "id": "73863e23",
   "metadata": {
    "execution": {
     "iopub.execute_input": "2022-12-17T07:10:49.428874Z",
     "iopub.status.busy": "2022-12-17T07:10:49.427848Z",
     "iopub.status.idle": "2022-12-17T07:10:52.287221Z",
     "shell.execute_reply": "2022-12-17T07:10:52.285902Z"
    },
    "papermill": {
     "duration": 2.866064,
     "end_time": "2022-12-17T07:10:52.290104",
     "exception": false,
     "start_time": "2022-12-17T07:10:49.424040",
     "status": "completed"
    },
    "tags": []
   },
   "outputs": [],
   "source": [
    "df: pd.DataFrame = pd.DataFrame(data=None, columns=[\"filepaths\", \"labels\"])\n",
    "    \n",
    "filepaths: list = []\n",
    "labels: list = []\n",
    "\n",
    "i: int = 0\n",
    "for folder in sorted(os.listdir(f\"{BASE_PATH}\")):\n",
    "    for filename in os.listdir(f\"{BASE_PATH}/{folder}\"):\n",
    "        filepaths.append(os.path.join(f\"{BASE_PATH}/{folder}\", filename))\n",
    "        labels.append(i)\n",
    "    i += 1\n",
    "\n",
    "df.filepaths = filepaths\n",
    "df.labels = labels\n",
    "df.to_csv(\"dataframe.csv\", index=False)"
   ]
  },
  {
   "cell_type": "code",
   "execution_count": 3,
   "id": "0ed643ac",
   "metadata": {
    "execution": {
     "iopub.execute_input": "2022-12-17T07:10:52.296224Z",
     "iopub.status.busy": "2022-12-17T07:10:52.295232Z",
     "iopub.status.idle": "2022-12-17T07:10:52.304829Z",
     "shell.execute_reply": "2022-12-17T07:10:52.303905Z"
    },
    "papermill": {
     "duration": 0.01539,
     "end_time": "2022-12-17T07:10:52.307481",
     "exception": false,
     "start_time": "2022-12-17T07:10:52.292091",
     "status": "completed"
    },
    "tags": []
   },
   "outputs": [],
   "source": [
    "labels: dict = dict()\n",
    "\n",
    "i = 0\n",
    "for folder in sorted(os.listdir(f\"{BASE_PATH}\")):\n",
    "    labels[i] = folder\n",
    "    i += 1\n",
    "\n",
    "json.dump(labels, open(\"labels.json\", \"w\"))"
   ]
  }
 ],
 "metadata": {
  "kernelspec": {
   "display_name": "Python 3",
   "language": "python",
   "name": "python3"
  },
  "language_info": {
   "codemirror_mode": {
    "name": "ipython",
    "version": 3
   },
   "file_extension": ".py",
   "mimetype": "text/x-python",
   "name": "python",
   "nbconvert_exporter": "python",
   "pygments_lexer": "ipython3",
   "version": "3.7.12"
  },
  "papermill": {
   "default_parameters": {},
   "duration": 13.677833,
   "end_time": "2022-12-17T07:10:53.032658",
   "environment_variables": {},
   "exception": null,
   "input_path": "__notebook__.ipynb",
   "output_path": "__notebook__.ipynb",
   "parameters": {},
   "start_time": "2022-12-17T07:10:39.354825",
   "version": "2.3.4"
  }
 },
 "nbformat": 4,
 "nbformat_minor": 5
}
