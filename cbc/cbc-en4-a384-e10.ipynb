{
 "cells": [
  {
   "cell_type": "markdown",
   "id": "a8715373",
   "metadata": {
    "_cell_guid": "b1076dfc-b9ad-4769-8c92-a6c4dae69d19",
    "_uuid": "8f2839f25d086af736a60e9eeb907d3b93b6e0e5",
    "papermill": {
     "duration": 0.00594,
     "end_time": "2023-01-17T07:21:31.935968",
     "exception": false,
     "start_time": "2023-01-17T07:21:31.930028",
     "status": "completed"
    },
    "tags": []
   },
   "source": [
    "### **Setup**"
   ]
  },
  {
   "cell_type": "code",
   "execution_count": 1,
   "id": "7e583659",
   "metadata": {
    "execution": {
     "iopub.execute_input": "2023-01-17T07:21:31.952139Z",
     "iopub.status.busy": "2023-01-17T07:21:31.951679Z",
     "iopub.status.idle": "2023-01-17T07:21:42.351005Z",
     "shell.execute_reply": "2023-01-17T07:21:42.349686Z"
    },
    "papermill": {
     "duration": 10.412342,
     "end_time": "2023-01-17T07:21:42.353403",
     "exception": false,
     "start_time": "2023-01-17T07:21:31.941061",
     "status": "completed"
    },
    "tags": []
   },
   "outputs": [
    {
     "name": "stderr",
     "output_type": "stream",
     "text": [
      "WARNING: Running pip as the 'root' user can result in broken permissions and conflicting behaviour with the system package manager. It is recommended to use a virtual environment instead: https://pip.pypa.io/warnings/venv\n"
     ]
    }
   ],
   "source": [
    "%%bash\n",
    "pip install timm -q"
   ]
  },
  {
   "cell_type": "markdown",
   "id": "e60917d5",
   "metadata": {
    "papermill": {
     "duration": 0.003406,
     "end_time": "2023-01-17T07:21:42.360859",
     "exception": false,
     "start_time": "2023-01-17T07:21:42.357453",
     "status": "completed"
    },
    "tags": []
   },
   "source": [
    "### **Library Imports**"
   ]
  },
  {
   "cell_type": "code",
   "execution_count": 2,
   "id": "d1cce44c",
   "metadata": {
    "execution": {
     "iopub.execute_input": "2023-01-17T07:21:42.369507Z",
     "iopub.status.busy": "2023-01-17T07:21:42.369193Z",
     "iopub.status.idle": "2023-01-17T07:21:46.751396Z",
     "shell.execute_reply": "2023-01-17T07:21:46.750055Z"
    },
    "papermill": {
     "duration": 4.389533,
     "end_time": "2023-01-17T07:21:46.753950",
     "exception": false,
     "start_time": "2023-01-17T07:21:42.364417",
     "status": "completed"
    },
    "tags": []
   },
   "outputs": [],
   "source": [
    "import os\n",
    "import re\n",
    "import cv2\n",
    "import timm\n",
    "import torch\n",
    "import numpy as np\n",
    "import pandas as pd\n",
    "import matplotlib.pyplot as plt\n",
    "\n",
    "from time import time\n",
    "from typing import Union\n",
    "from torch import nn, optim\n",
    "from torch.utils.data import Dataset\n",
    "from torch.utils.data import DataLoader as DL\n",
    "from torchvision import models, transforms\n",
    "\n",
    "from sklearn.model_selection import KFold"
   ]
  },
  {
   "cell_type": "markdown",
   "id": "9894b3c5",
   "metadata": {
    "papermill": {
     "duration": 0.003519,
     "end_time": "2023-01-17T07:21:46.761484",
     "exception": false,
     "start_time": "2023-01-17T07:21:46.757965",
     "status": "completed"
    },
    "tags": []
   },
   "source": [
    "### **Utilities and Helpers**"
   ]
  },
  {
   "cell_type": "code",
   "execution_count": 3,
   "id": "8b586782",
   "metadata": {
    "execution": {
     "iopub.execute_input": "2023-01-17T07:21:46.771639Z",
     "iopub.status.busy": "2023-01-17T07:21:46.769939Z",
     "iopub.status.idle": "2023-01-17T07:21:46.783313Z",
     "shell.execute_reply": "2023-01-17T07:21:46.782335Z"
    },
    "papermill": {
     "duration": 0.02017,
     "end_time": "2023-01-17T07:21:46.785359",
     "exception": false,
     "start_time": "2023-01-17T07:21:46.765189",
     "status": "completed"
    },
    "tags": []
   },
   "outputs": [],
   "source": [
    "SEED: int = 42\n",
    "SIZE: int = 384\n",
    "\n",
    "\n",
    "def breaker(num: int=50, char: str=\"*\") -> None:\n",
    "    print(\"\\n\" + num*char + \"\\n\")\n",
    "\n",
    "    \n",
    "def get_image(path: str, size: int=224) -> np.ndarray:\n",
    "    image = cv2.imread(path, cv2.IMREAD_COLOR)\n",
    "    image = cv2.cvtColor(src=image, code=cv2.COLOR_BGR2RGB)\n",
    "    return cv2.resize(src=image, dsize=(size, size), interpolation=cv2.INTER_AREA)\n",
    "\n",
    "    \n",
    "def show_loss_graphs(L: list) -> None:\n",
    "    TL, VL = [], []\n",
    "    for i in range(len(L)):\n",
    "        TL.append(L[i][\"train\"])\n",
    "        VL.append(L[i][\"valid\"])\n",
    "    x_Axis = np.arange(1, len(TL) + 1)\n",
    "    plt.figure()\n",
    "    plt.plot(x_Axis, TL, \"r\", label=\"Train\")\n",
    "    plt.plot(x_Axis, VL, \"b\", label=\"Valid\")\n",
    "    plt.legend()\n",
    "    plt.grid()\n",
    "    plt.title(\"Loss Graph\")\n",
    "    plt.show()\n",
    "\n",
    "    \n",
    "def show_accuracy_graphs(A: list) -> None:\n",
    "    TA, VA = [], []\n",
    "    for i in range(len(A)):\n",
    "        TA.append(A[i][\"train\"])\n",
    "        VA.append(A[i][\"valid\"])\n",
    "    x_Axis = np.arange(1, len(TA) + 1)\n",
    "    plt.figure()\n",
    "    plt.plot(x_Axis, TA, \"r\", label=\"Train\")\n",
    "    plt.plot(x_Axis, VA, \"b\", label=\"Valid\")\n",
    "    plt.legend()\n",
    "    plt.grid()\n",
    "    plt.title(\"Accuracy Graph\")\n",
    "    plt.show()\n",
    "    \n",
    "\n",
    "def show_lr_graph(LR: list) -> None:\n",
    "    x_Axis = [i+1 for i in range(len(LR))]\n",
    "    plt.figure(figsize=(8, 6))\n",
    "    plt.plot(x_Axis, LR, \"rx\")\n",
    "    plt.grid()\n",
    "    plt.show()"
   ]
  },
  {
   "cell_type": "markdown",
   "id": "5d10b703",
   "metadata": {
    "papermill": {
     "duration": 0.003488,
     "end_time": "2023-01-17T07:21:46.792563",
     "exception": false,
     "start_time": "2023-01-17T07:21:46.789075",
     "status": "completed"
    },
    "tags": []
   },
   "source": [
    "\n",
    "\n",
    "### **Configuration**"
   ]
  },
  {
   "cell_type": "code",
   "execution_count": 4,
   "id": "a19410f8",
   "metadata": {
    "execution": {
     "iopub.execute_input": "2023-01-17T07:21:46.801819Z",
     "iopub.status.busy": "2023-01-17T07:21:46.801375Z",
     "iopub.status.idle": "2023-01-17T07:21:46.881352Z",
     "shell.execute_reply": "2023-01-17T07:21:46.880366Z"
    },
    "papermill": {
     "duration": 0.087537,
     "end_time": "2023-01-17T07:21:46.883721",
     "exception": false,
     "start_time": "2023-01-17T07:21:46.796184",
     "status": "completed"
    },
    "tags": []
   },
   "outputs": [],
   "source": [
    "class CFG(object):\n",
    "    def __init__(self,            \n",
    "                 seed: int = 42,\n",
    "                 size: int = 224,\n",
    "                 n_splits: int = 5,\n",
    "                 batch_size: int = 16,\n",
    "                 epochs: int = 25,\n",
    "                 early_stopping: int = 5,\n",
    "                 lr: float = 1e-4,\n",
    "                 wd: float = 0.0,\n",
    "                 max_lr: float = 1e-3,\n",
    "                 pct_start: float = 0.2,\n",
    "                 steps_per_epoch: int = 100,\n",
    "                 div_factor: int = 1e3, \n",
    "                 final_div_factor: float = 1e3,\n",
    "                 ):\n",
    "        self.seed = seed\n",
    "        self.size = size\n",
    "        self.n_splits = n_splits\n",
    "        self.batch_size = batch_size\n",
    "        self.epochs = epochs\n",
    "        self.early_stopping = early_stopping\n",
    "        self.lr = lr\n",
    "        self.wd = wd\n",
    "        self.max_lr = max_lr\n",
    "        self.pct_start = pct_start\n",
    "        self.steps_per_epoch = steps_per_epoch\n",
    "        self.div_factor = div_factor\n",
    "        self.final_div_factor = final_div_factor\n",
    "        self.device = torch.device(\"cuda\" if torch.cuda.is_available() else \"cpu\")\n",
    "        \n",
    "        if self.size == 224:\n",
    "            self.train_transform = transforms.Compose([\n",
    "                transforms.ToTensor(),\n",
    "                transforms.Normalize([0.50387, 0.49505, 0.49114], [0.27102, 0.26806, 0.26838]),\n",
    "                transforms.RandomAffine(degrees=(-45, 45), translate=(0.15, 0.15), scale=(0.5, 1.5)),\n",
    "                transforms.RandomHorizontalFlip(p=0.25),\n",
    "                transforms.RandomVerticalFlip(p=0.25),\n",
    "            ])\n",
    "            self.valid_transform = transforms.Compose([\n",
    "                transforms.ToTensor(),\n",
    "                transforms.Normalize([0.50387, 0.49505, 0.49114], [0.27102, 0.26806, 0.26838]),\n",
    "            ])\n",
    "        \n",
    "        if self.size == 384:\n",
    "            self.train_transform = transforms.Compose([\n",
    "                transforms.ToTensor(),\n",
    "                transforms.Normalize([0.50397, 0.49516, 0.49125], [0.27314, 0.27021, 0.27051]),\n",
    "                transforms.RandomAffine(degrees=(-45, 45), translate=(0.15, 0.15), scale=(0.5, 1.5)),\n",
    "                transforms.RandomHorizontalFlip(p=0.25),\n",
    "                transforms.RandomVerticalFlip(p=0.25),\n",
    "            ])\n",
    "            self.valid_transform = transforms.Compose([\n",
    "                transforms.ToTensor(),\n",
    "                transforms.Normalize([0.50397, 0.49516, 0.49125], [0.27314, 0.27021, 0.27051]),\n",
    "            ])\n",
    "        \n",
    "        if self.size == 512:\n",
    "            self.train_transform = transforms.Compose([\n",
    "                transforms.ToTensor(),\n",
    "                transforms.Normalize([0.50400, 0.49519, 0.49128], [0.27394, 0.27102, 0.27130]),\n",
    "                transforms.RandomAffine(degrees=(-45, 45), translate=(0.15, 0.15), scale=(0.5, 1.5)),\n",
    "                transforms.RandomHorizontalFlip(p=0.25),\n",
    "                transforms.RandomVerticalFlip(p=0.25),\n",
    "            ])\n",
    "            self.valid_transform = transforms.Compose([\n",
    "                transforms.ToTensor(),\n",
    "                transforms.Normalize([0.50400, 0.49519, 0.49128], [0.27394, 0.27102, 0.27130]),\n",
    "            ])\n",
    "                                \n",
    "        self.save_path = \"saves\"\n",
    "        if not os.path.exists(self.save_path): os.makedirs(self.save_path)\n",
    "    \n",
    "cfg = CFG(\n",
    "    seed=SEED, \n",
    "    size=SIZE\n",
    ")"
   ]
  },
  {
   "cell_type": "markdown",
   "id": "d8efa076",
   "metadata": {
    "papermill": {
     "duration": 0.004154,
     "end_time": "2023-01-17T07:21:46.892055",
     "exception": false,
     "start_time": "2023-01-17T07:21:46.887901",
     "status": "completed"
    },
    "tags": []
   },
   "source": [
    "### **Dataset Template**"
   ]
  },
  {
   "cell_type": "code",
   "execution_count": 5,
   "id": "e78bb6b8",
   "metadata": {
    "execution": {
     "iopub.execute_input": "2023-01-17T07:21:46.903057Z",
     "iopub.status.busy": "2023-01-17T07:21:46.902068Z",
     "iopub.status.idle": "2023-01-17T07:21:46.910366Z",
     "shell.execute_reply": "2023-01-17T07:21:46.909360Z"
    },
    "papermill": {
     "duration": 0.016329,
     "end_time": "2023-01-17T07:21:46.912862",
     "exception": false,
     "start_time": "2023-01-17T07:21:46.896533",
     "status": "completed"
    },
    "tags": []
   },
   "outputs": [],
   "source": [
    "class DS(Dataset):\n",
    "    def __init__(\n",
    "        self, \n",
    "        filepaths: np.ndarray, \n",
    "        size: int,\n",
    "        labels: Union[np.ndarray, None]=None, \n",
    "        transform=None\n",
    "    ):\n",
    "        \n",
    "        self.filepaths = filepaths\n",
    "        self.labels = labels\n",
    "        self.size = size\n",
    "        self.transform = transform\n",
    "    \n",
    "    def __len__(self):\n",
    "        return self.filepaths.shape[0]\n",
    "    \n",
    "    def __getitem__(self, idx):\n",
    "        image = get_image(self.filepaths[idx], self.size)\n",
    "        if self.labels is None:\n",
    "            return self.transform(image)\n",
    "        return self.transform(image), torch.FloatTensor(self.labels[idx])"
   ]
  },
  {
   "cell_type": "markdown",
   "id": "701d8783",
   "metadata": {
    "papermill": {
     "duration": 0.004261,
     "end_time": "2023-01-17T07:21:46.921516",
     "exception": false,
     "start_time": "2023-01-17T07:21:46.917255",
     "status": "completed"
    },
    "tags": []
   },
   "source": [
    "### **Model**"
   ]
  },
  {
   "cell_type": "code",
   "execution_count": 6,
   "id": "fb7daa12",
   "metadata": {
    "execution": {
     "iopub.execute_input": "2023-01-17T07:21:46.932055Z",
     "iopub.status.busy": "2023-01-17T07:21:46.931761Z",
     "iopub.status.idle": "2023-01-17T07:21:46.938730Z",
     "shell.execute_reply": "2023-01-17T07:21:46.937747Z"
    },
    "papermill": {
     "duration": 0.014929,
     "end_time": "2023-01-17T07:21:46.940974",
     "exception": false,
     "start_time": "2023-01-17T07:21:46.926045",
     "status": "completed"
    },
    "tags": []
   },
   "outputs": [],
   "source": [
    "class Model(nn.Module):\n",
    "    def __init__(self):\n",
    "        super(Model, self).__init__()\n",
    "            \n",
    "        self.model = timm.create_model(model_name=\"efficientnet_b4\", pretrained=True)\n",
    "        self.model.classifier = nn.Linear(in_features=self.model.classifier.in_features, out_features=1)\n",
    "\n",
    "    def forward(self, x):\n",
    "        return self.model(x)"
   ]
  },
  {
   "cell_type": "markdown",
   "id": "ffac58c5",
   "metadata": {
    "papermill": {
     "duration": 0.004231,
     "end_time": "2023-01-17T07:21:46.949655",
     "exception": false,
     "start_time": "2023-01-17T07:21:46.945424",
     "status": "completed"
    },
    "tags": []
   },
   "source": [
    "### **Fit and Predict**"
   ]
  },
  {
   "cell_type": "code",
   "execution_count": 7,
   "id": "488dd277",
   "metadata": {
    "execution": {
     "iopub.execute_input": "2023-01-17T07:21:46.959932Z",
     "iopub.status.busy": "2023-01-17T07:21:46.959607Z",
     "iopub.status.idle": "2023-01-17T07:21:46.983351Z",
     "shell.execute_reply": "2023-01-17T07:21:46.982164Z"
    },
    "papermill": {
     "duration": 0.032051,
     "end_time": "2023-01-17T07:21:46.986060",
     "exception": false,
     "start_time": "2023-01-17T07:21:46.954009",
     "status": "completed"
    },
    "tags": []
   },
   "outputs": [],
   "source": [
    "def fit(\n",
    "    model=None,\n",
    "    optimizer=None, \n",
    "    scheduler_rlrop=None,\n",
    "    scheduler_oclr=None,\n",
    "    epochs=None, \n",
    "    early_stopping_patience=None, \n",
    "    dataloaders=None, \n",
    "    fold=None, \n",
    "    save_path=None,\n",
    "    device=None,\n",
    "    verbose=False\n",
    ") -> tuple:\n",
    "    \n",
    "    def get_accuracy(y_pred, y_true):\n",
    "        y_pred = torch.sigmoid(y_pred)\n",
    "        \n",
    "        y_pred[y_pred > 0.5] = 1\n",
    "        y_pred[y_pred <= 0.5] = 0\n",
    "        \n",
    "        return torch.count_nonzero(y_pred == y_true).item() / len(y_pred)\n",
    "    \n",
    "    \n",
    "    if verbose:\n",
    "        breaker()\n",
    "        if fold: print(f\"Training Fold {fold}...\")\n",
    "        else: print(\"Training ...\")\n",
    "        breaker()\n",
    "        \n",
    "    bestLoss: dict = {\"train\" : np.inf, \"valid\" : np.inf} \n",
    "    bestAccs: dict = {\"train\" : 0.0, \"valid\" : 0.0}\n",
    "    \n",
    "    Losses: list = []\n",
    "    Accuracies: list = [] \n",
    "    LRs: list = []\n",
    "        \n",
    "    if fold: \n",
    "        ble_name = f\"ble_state_fold_{fold}.pt\"\n",
    "        bae_name = f\"bae_state_fold_{fold}.pt\"\n",
    "    else: \n",
    "        ble_name = f\"ble_state.pt\"\n",
    "        bae_name = f\"bae_state.pt\"\n",
    "        \n",
    "    start_time = time()\n",
    "    for e in range(epochs):\n",
    "        e_st = time()\n",
    "        epochLoss: dict = {\"train\" : 0.0, \"valid\" : 0.0} \n",
    "        epochAccs: dict = {\"train\" : 0.0, \"valid\" : 0.0}\n",
    "\n",
    "        for phase in [\"train\", \"valid\"]:\n",
    "            if phase == \"train\":\n",
    "                model.train()\n",
    "            else:\n",
    "                model.eval()\n",
    "            \n",
    "            lossPerPass: list = []\n",
    "            accsPerPass: list = []\n",
    "                \n",
    "            for X, y in dataloaders[phase]:\n",
    "                X, y = X.to(device), y.to(device)\n",
    "\n",
    "                optimizer.zero_grad()\n",
    "                with torch.set_grad_enabled(phase == \"train\"):\n",
    "                    output = model(X)\n",
    "                    loss = torch.nn.BCEWithLogitsLoss()(output, y)\n",
    "                    if phase == \"train\":\n",
    "                        loss.backward()\n",
    "                        optimizer.step()\n",
    "                        if scheduler_oclr: scheduler_oclr.step()\n",
    "                lossPerPass.append(loss.item())\n",
    "                accsPerPass.append(get_accuracy(output, y))\n",
    "            epochLoss[phase] = np.mean(np.array(lossPerPass))\n",
    "            epochAccs[phase] = np.mean(np.array(accsPerPass))\n",
    "        if scheduler_oclr: LRs.append(scheduler_oclr.get_last_lr())\n",
    "        Losses.append(epochLoss)\n",
    "        Accuracies.append(epochAccs)\n",
    "        \n",
    "        if scheduler_oclr:\n",
    "            save_dict = {\"model_state_dict\"     : model.state_dict(),\n",
    "                         \"optim_state_dict\"     : optimizer.state_dict(),\n",
    "                         \"scheduler_state_dict\" : scheduler_oclr.state_dict()}\n",
    "        \n",
    "        elif scheduler_rlrop:\n",
    "            save_dict = {\"model_state_dict\"     : model.state_dict(),\n",
    "                         \"optim_state_dict\"     : optimizer.state_dict(),\n",
    "                         \"scheduler_state_dict\" : scheduler_rlrop.state_dict()}\n",
    "        \n",
    "        else:\n",
    "            save_dict = {\"model_state_dict\"     : model.state_dict(),\n",
    "                         \"optim_state_dict\"     : optimizer.state_dict()}\n",
    "        \n",
    "        if early_stopping_patience:\n",
    "            if epochLoss[\"valid\"] < bestLoss[\"valid\"]:\n",
    "                bestLoss = epochLoss\n",
    "                BLE = e + 1\n",
    "                torch.save(save_dict, os.path.join(save_path, ble_name))\n",
    "                torch.save(save_dict, os.path.join(save_path, bae_name))\n",
    "                early_stopping_step = 0\n",
    "            else:\n",
    "                early_stopping_step += 1\n",
    "                if early_stopping_step > early_stopping_patience:\n",
    "                    print(\"\\nEarly Stopping at Epoch {}\".format(e + 1))\n",
    "                    break\n",
    "        \n",
    "        if epochLoss[\"valid\"] < bestLoss[\"valid\"]:\n",
    "            bestLoss = epochLoss\n",
    "            BLE = e + 1\n",
    "            torch.save(save_dict,os.path.join(save_path, ble_name))\n",
    "        \n",
    "        if epochAccs[\"valid\"] > bestAccs[\"valid\"]:\n",
    "            bestAccs = epochAccs\n",
    "            BAE = e + 1\n",
    "            torch.save(save_dict,os.path.join(save_path, bae_name))\n",
    "        \n",
    "        if scheduler_rlrop: scheduler_rlrop.step(epochLoss[\"valid\"])\n",
    "        \n",
    "        if verbose:\n",
    "            print(\"Epoch: {} | Train Loss: {:.5f} | Valid Loss: {:.5f} |\\\n",
    " Train Accs: {:.5f} | Valid Accs: {:.5f} | Time: {:.2f} seconds\".format(e+1, \n",
    "                                                                        epochLoss[\"train\"], epochLoss[\"valid\"], \n",
    "                                                                        epochAccs[\"train\"], epochAccs[\"valid\"], \n",
    "                                                                        time()-e_st))\n",
    "\n",
    "    if verbose:                                           \n",
    "        breaker()\n",
    "        print(f\"Best Validation Loss at Epoch {BLE}\")\n",
    "        breaker()\n",
    "        print(f\"Best Validation Accs at Epoch {BAE}\")\n",
    "        breaker()\n",
    "        print(\"Time Taken [{} Epochs] : {:.2f} minutes\".format(len(Losses), (time()-start_time)/60))\n",
    "    \n",
    "    return Losses, Accuracies, LRs, bestLoss, bestAccs, BLE, BAE, ble_name, bae_name\n",
    "\n",
    "\n",
    "# def predict_batch(model=None, dataloader=None, path=None, device=None) -> np.ndarray:\n",
    "#     model.load_state_dict(torch.load(path, map_location=device)[\"model_state_dict\"])\n",
    "#     model.to(device)    \n",
    "#     model.eval()\n",
    "    \n",
    "#     y_pred = torch.zeros(1, 1).to(device)\n",
    "    \n",
    "#     for X in dataloader:\n",
    "#         X = X.to(device)\n",
    "#         with torch.no_grad():\n",
    "#             output = torch.sigmoid(model(X))\n",
    "#         y_pred = torch.cat((y_pred, output.view(-1, 1)), dim=0)\n",
    "    \n",
    "#     # y_pred[y_pred > 0.5] = 1\n",
    "#     # y_pred[y_pred <= 0.5] = 0\n",
    "    \n",
    "#     return y_pred[1:].detach().cpu().numpy()"
   ]
  },
  {
   "cell_type": "markdown",
   "id": "aa8aad41",
   "metadata": {
    "papermill": {
     "duration": 0.005031,
     "end_time": "2023-01-17T07:21:46.995698",
     "exception": false,
     "start_time": "2023-01-17T07:21:46.990667",
     "status": "completed"
    },
    "tags": []
   },
   "source": [
    "### **Train**"
   ]
  },
  {
   "cell_type": "code",
   "execution_count": 8,
   "id": "9f502e97",
   "metadata": {
    "execution": {
     "iopub.execute_input": "2023-01-17T07:21:47.005285Z",
     "iopub.status.busy": "2023-01-17T07:21:47.004992Z",
     "iopub.status.idle": "2023-01-17T07:21:47.041664Z",
     "shell.execute_reply": "2023-01-17T07:21:47.040778Z"
    },
    "papermill": {
     "duration": 0.04381,
     "end_time": "2023-01-17T07:21:47.043598",
     "exception": false,
     "start_time": "2023-01-17T07:21:46.999788",
     "status": "completed"
    },
    "tags": []
   },
   "outputs": [],
   "source": [
    "df = pd.read_csv(\"/kaggle/input/cbc-dataframe/dataframe.csv\")\n",
    "\n",
    "filepaths = df.filepaths.copy().values\n",
    "labels = df.labels.copy().values"
   ]
  },
  {
   "cell_type": "code",
   "execution_count": 9,
   "id": "e258b8b2",
   "metadata": {
    "execution": {
     "iopub.execute_input": "2023-01-17T07:21:47.054183Z",
     "iopub.status.busy": "2023-01-17T07:21:47.053268Z",
     "iopub.status.idle": "2023-01-17T09:37:10.634679Z",
     "shell.execute_reply": "2023-01-17T09:37:10.633427Z"
    },
    "papermill": {
     "duration": 8123.588873,
     "end_time": "2023-01-17T09:37:10.636931",
     "exception": false,
     "start_time": "2023-01-17T07:21:47.048058",
     "status": "completed"
    },
    "tags": []
   },
   "outputs": [
    {
     "name": "stderr",
     "output_type": "stream",
     "text": [
      "Downloading: \"https://github.com/rwightman/pytorch-image-models/releases/download/v0.1-weights/efficientnet_b4_ra2_320-7eb33cd5.pth\" to /root/.cache/torch/hub/checkpoints/efficientnet_b4_ra2_320-7eb33cd5.pth\n"
     ]
    },
    {
     "name": "stdout",
     "output_type": "stream",
     "text": [
      "\n",
      "**************************************************\n",
      "\n",
      "Training Fold 1...\n",
      "\n",
      "**************************************************\n",
      "\n",
      "Epoch: 1 | Train Loss: 0.38096 | Valid Loss: 0.03534 | Train Accs: 0.83188 | Valid Accs: 0.98625 | Time: 192.41 seconds\n",
      "Epoch: 2 | Train Loss: 0.08315 | Valid Loss: 0.03525 | Train Accs: 0.97000 | Valid Accs: 0.98875 | Time: 162.21 seconds\n",
      "Epoch: 3 | Train Loss: 0.05844 | Valid Loss: 0.03422 | Train Accs: 0.98031 | Valid Accs: 0.99125 | Time: 162.18 seconds\n",
      "Epoch: 4 | Train Loss: 0.03993 | Valid Loss: 0.02244 | Train Accs: 0.98594 | Valid Accs: 0.99500 | Time: 162.03 seconds\n",
      "Epoch: 5 | Train Loss: 0.03246 | Valid Loss: 0.01352 | Train Accs: 0.99094 | Valid Accs: 0.99750 | Time: 163.00 seconds\n",
      "Epoch: 6 | Train Loss: 0.01841 | Valid Loss: 0.01074 | Train Accs: 0.99313 | Valid Accs: 0.99750 | Time: 162.07 seconds\n",
      "Epoch: 7 | Train Loss: 0.01142 | Valid Loss: 0.02872 | Train Accs: 0.99594 | Valid Accs: 0.99250 | Time: 162.08 seconds\n",
      "Epoch: 8 | Train Loss: 0.00861 | Valid Loss: 0.02070 | Train Accs: 0.99656 | Valid Accs: 0.99125 | Time: 162.01 seconds\n",
      "Epoch: 9 | Train Loss: 0.00320 | Valid Loss: 0.01356 | Train Accs: 0.99938 | Valid Accs: 0.99625 | Time: 160.51 seconds\n",
      "Epoch: 10 | Train Loss: 0.00466 | Valid Loss: 0.01623 | Train Accs: 0.99844 | Valid Accs: 0.99125 | Time: 160.33 seconds\n",
      "\n",
      "**************************************************\n",
      "\n",
      "Best Validation Loss at Epoch 6\n",
      "\n",
      "**************************************************\n",
      "\n",
      "Best Validation Accs at Epoch 5\n",
      "\n",
      "**************************************************\n",
      "\n",
      "Time Taken [10 Epochs] : 27.48 minutes\n",
      "\n",
      "**************************************************\n",
      "\n"
     ]
    },
    {
     "data": {
      "image/png": "[encoded data removed]",
      "text/plain": [
       "<Figure size 432x288 with 1 Axes>"
      ]
     },
     "metadata": {
      "needs_background": "light"
     },
     "output_type": "display_data"
    },
    {
     "name": "stdout",
     "output_type": "stream",
     "text": [
      "\n",
      "**************************************************\n",
      "\n"
     ]
    },
    {
     "data": {
      "image/png": "[encoded data removed]",
      "text/plain": [
       "<Figure size 432x288 with 1 Axes>"
      ]
     },
     "metadata": {
      "needs_background": "light"
     },
     "output_type": "display_data"
    },
    {
     "name": "stdout",
     "output_type": "stream",
     "text": [
      "\n",
      "**************************************************\n",
      "\n"
     ]
    },
    {
     "data": {
      "image/png": "[encoded data removed]",
      "text/plain": [
       "<Figure size 576x432 with 1 Axes>"
      ]
     },
     "metadata": {
      "needs_background": "light"
     },
     "output_type": "display_data"
    },
    {
     "name": "stdout",
     "output_type": "stream",
     "text": [
      "\n",
      "**************************************************\n",
      "\n",
      "\n",
      "**************************************************\n",
      "\n",
      "Training Fold 2...\n",
      "\n",
      "**************************************************\n",
      "\n",
      "Epoch: 1 | Train Loss: 0.38606 | Valid Loss: 0.06577 | Train Accs: 0.82688 | Valid Accs: 0.97875 | Time: 160.87 seconds\n",
      "Epoch: 2 | Train Loss: 0.06862 | Valid Loss: 0.05446 | Train Accs: 0.97688 | Valid Accs: 0.97375 | Time: 160.72 seconds\n",
      "Epoch: 3 | Train Loss: 0.05556 | Valid Loss: 0.03729 | Train Accs: 0.97937 | Valid Accs: 0.99000 | Time: 162.53 seconds\n",
      "Epoch: 4 | Train Loss: 0.03508 | Valid Loss: 0.03995 | Train Accs: 0.98687 | Valid Accs: 0.99250 | Time: 160.72 seconds\n",
      "Epoch: 5 | Train Loss: 0.03117 | Valid Loss: 0.04338 | Train Accs: 0.99031 | Valid Accs: 0.98875 | Time: 159.56 seconds\n",
      "Epoch: 6 | Train Loss: 0.01944 | Valid Loss: 0.02654 | Train Accs: 0.99281 | Valid Accs: 0.99250 | Time: 161.52 seconds\n",
      "Epoch: 7 | Train Loss: 0.00814 | Valid Loss: 0.02287 | Train Accs: 0.99719 | Valid Accs: 0.99375 | Time: 161.42 seconds\n",
      "Epoch: 8 | Train Loss: 0.00429 | Valid Loss: 0.03412 | Train Accs: 0.99781 | Valid Accs: 0.99125 | Time: 159.26 seconds\n",
      "Epoch: 9 | Train Loss: 0.00579 | Valid Loss: 0.01138 | Train Accs: 0.99813 | Valid Accs: 0.99375 | Time: 160.48 seconds\n",
      "Epoch: 10 | Train Loss: 0.00439 | Valid Loss: 0.01702 | Train Accs: 0.99844 | Valid Accs: 0.99375 | Time: 158.65 seconds\n",
      "\n",
      "**************************************************\n",
      "\n",
      "Best Validation Loss at Epoch 9\n",
      "\n",
      "**************************************************\n",
      "\n",
      "Best Validation Accs at Epoch 7\n",
      "\n",
      "**************************************************\n",
      "\n",
      "Time Taken [10 Epochs] : 26.76 minutes\n",
      "\n",
      "**************************************************\n",
      "\n"
     ]
    },
    {
     "data": {
      "image/png": "[encoded data removed]",
      "text/plain": [
       "<Figure size 432x288 with 1 Axes>"
      ]
     },
     "metadata": {
      "needs_background": "light"
     },
     "output_type": "display_data"
    },
    {
     "name": "stdout",
     "output_type": "stream",
     "text": [
      "\n",
      "**************************************************\n",
      "\n"
     ]
    },
    {
     "data": {
      "image/png": "[encoded data removed]",
      "text/plain": [
       "<Figure size 432x288 with 1 Axes>"
      ]
     },
     "metadata": {
      "needs_background": "light"
     },
     "output_type": "display_data"
    },
    {
     "name": "stdout",
     "output_type": "stream",
     "text": [
      "\n",
      "**************************************************\n",
      "\n"
     ]
    },
    {
     "data": {
      "image/png": "[encoded data removed]",
      "text/plain": [
       "<Figure size 576x432 with 1 Axes>"
      ]
     },
     "metadata": {
      "needs_background": "light"
     },
     "output_type": "display_data"
    },
    {
     "name": "stdout",
     "output_type": "stream",
     "text": [
      "\n",
      "**************************************************\n",
      "\n",
      "\n",
      "**************************************************\n",
      "\n",
      "Training Fold 3...\n",
      "\n",
      "**************************************************\n",
      "\n",
      "Epoch: 1 | Train Loss: 0.38408 | Valid Loss: 0.03656 | Train Accs: 0.83844 | Valid Accs: 0.98750 | Time: 162.26 seconds\n",
      "Epoch: 2 | Train Loss: 0.07436 | Valid Loss: 0.05348 | Train Accs: 0.97500 | Valid Accs: 0.98625 | Time: 162.29 seconds\n",
      "Epoch: 3 | Train Loss: 0.05825 | Valid Loss: 0.09717 | Train Accs: 0.98313 | Valid Accs: 0.96500 | Time: 162.48 seconds\n",
      "Epoch: 4 | Train Loss: 0.04166 | Valid Loss: 0.04829 | Train Accs: 0.98500 | Valid Accs: 0.97875 | Time: 161.17 seconds\n",
      "Epoch: 5 | Train Loss: 0.01917 | Valid Loss: 0.02678 | Train Accs: 0.99438 | Valid Accs: 0.99250 | Time: 163.55 seconds\n",
      "Epoch: 6 | Train Loss: 0.02006 | Valid Loss: 0.01341 | Train Accs: 0.99344 | Valid Accs: 0.99375 | Time: 163.66 seconds\n",
      "Epoch: 7 | Train Loss: 0.01275 | Valid Loss: 0.02678 | Train Accs: 0.99531 | Valid Accs: 0.98875 | Time: 163.58 seconds\n",
      "Epoch: 8 | Train Loss: 0.00371 | Valid Loss: 0.02813 | Train Accs: 0.99875 | Valid Accs: 0.99000 | Time: 162.34 seconds\n",
      "Epoch: 9 | Train Loss: 0.00262 | Valid Loss: 0.01998 | Train Accs: 0.99875 | Valid Accs: 0.99250 | Time: 162.66 seconds\n",
      "Epoch: 10 | Train Loss: 0.00417 | Valid Loss: 0.01985 | Train Accs: 0.99875 | Valid Accs: 0.99375 | Time: 161.78 seconds\n",
      "\n",
      "**************************************************\n",
      "\n",
      "Best Validation Loss at Epoch 6\n",
      "\n",
      "**************************************************\n",
      "\n",
      "Best Validation Accs at Epoch 6\n",
      "\n",
      "**************************************************\n",
      "\n",
      "Time Taken [10 Epochs] : 27.10 minutes\n",
      "\n",
      "**************************************************\n",
      "\n"
     ]
    },
    {
     "data": {
      "image/png": "[encoded data removed]",
      "text/plain": [
       "<Figure size 432x288 with 1 Axes>"
      ]
     },
     "metadata": {
      "needs_background": "light"
     },
     "output_type": "display_data"
    },
    {
     "name": "stdout",
     "output_type": "stream",
     "text": [
      "\n",
      "**************************************************\n",
      "\n"
     ]
    },
    {
     "data": {
      "image/png": "[encoded data removed]",
      "text/plain": [
       "<Figure size 432x288 with 1 Axes>"
      ]
     },
     "metadata": {
      "needs_background": "light"
     },
     "output_type": "display_data"
    },
    {
     "name": "stdout",
     "output_type": "stream",
     "text": [
      "\n",
      "**************************************************\n",
      "\n"
     ]
    },
    {
     "data": {
      "image/png": "[encoded data removed]",
      "text/plain": [
       "<Figure size 576x432 with 1 Axes>"
      ]
     },
     "metadata": {
      "needs_background": "light"
     },
     "output_type": "display_data"
    },
    {
     "name": "stdout",
     "output_type": "stream",
     "text": [
      "\n",
      "**************************************************\n",
      "\n",
      "\n",
      "**************************************************\n",
      "\n",
      "Training Fold 4...\n",
      "\n",
      "**************************************************\n",
      "\n",
      "Epoch: 1 | Train Loss: 0.38452 | Valid Loss: 0.04584 | Train Accs: 0.83062 | Valid Accs: 0.98125 | Time: 162.28 seconds\n",
      "Epoch: 2 | Train Loss: 0.07781 | Valid Loss: 0.04951 | Train Accs: 0.97344 | Valid Accs: 0.98625 | Time: 159.99 seconds\n",
      "Epoch: 3 | Train Loss: 0.06090 | Valid Loss: 0.04033 | Train Accs: 0.97969 | Valid Accs: 0.98875 | Time: 162.80 seconds\n",
      "Epoch: 4 | Train Loss: 0.04048 | Valid Loss: 0.04356 | Train Accs: 0.98406 | Valid Accs: 0.98000 | Time: 160.10 seconds\n",
      "Epoch: 5 | Train Loss: 0.02919 | Valid Loss: 0.04274 | Train Accs: 0.99125 | Valid Accs: 0.98875 | Time: 160.72 seconds\n",
      "Epoch: 6 | Train Loss: 0.01666 | Valid Loss: 0.03298 | Train Accs: 0.99406 | Valid Accs: 0.98750 | Time: 161.82 seconds\n",
      "Epoch: 7 | Train Loss: 0.00697 | Valid Loss: 0.03962 | Train Accs: 0.99813 | Valid Accs: 0.99000 | Time: 161.75 seconds\n",
      "Epoch: 8 | Train Loss: 0.00749 | Valid Loss: 0.03629 | Train Accs: 0.99750 | Valid Accs: 0.98625 | Time: 161.91 seconds\n",
      "Epoch: 9 | Train Loss: 0.00283 | Valid Loss: 0.02822 | Train Accs: 0.99938 | Valid Accs: 0.99250 | Time: 164.92 seconds\n",
      "Epoch: 10 | Train Loss: 0.00267 | Valid Loss: 0.02649 | Train Accs: 0.99906 | Valid Accs: 0.98875 | Time: 163.37 seconds\n",
      "\n",
      "**************************************************\n",
      "\n",
      "Best Validation Loss at Epoch 10\n",
      "\n",
      "**************************************************\n",
      "\n",
      "Best Validation Accs at Epoch 9\n",
      "\n",
      "**************************************************\n",
      "\n",
      "Time Taken [10 Epochs] : 26.99 minutes\n",
      "\n",
      "**************************************************\n",
      "\n"
     ]
    },
    {
     "data": {
      "image/png": "[encoded data removed]",
      "text/plain": [
       "<Figure size 432x288 with 1 Axes>"
      ]
     },
     "metadata": {
      "needs_background": "light"
     },
     "output_type": "display_data"
    },
    {
     "name": "stdout",
     "output_type": "stream",
     "text": [
      "\n",
      "**************************************************\n",
      "\n"
     ]
    },
    {
     "data": {
      "image/png": "[encoded data removed]",
      "text/plain": [
       "<Figure size 432x288 with 1 Axes>"
      ]
     },
     "metadata": {
      "needs_background": "light"
     },
     "output_type": "display_data"
    },
    {
     "name": "stdout",
     "output_type": "stream",
     "text": [
      "\n",
      "**************************************************\n",
      "\n"
     ]
    },
    {
     "data": {
      "image/png": "[encoded data removed]",
      "text/plain": [
       "<Figure size 576x432 with 1 Axes>"
      ]
     },
     "metadata": {
      "needs_background": "light"
     },
     "output_type": "display_data"
    },
    {
     "name": "stdout",
     "output_type": "stream",
     "text": [
      "\n",
      "**************************************************\n",
      "\n",
      "\n",
      "**************************************************\n",
      "\n",
      "Training Fold 5...\n",
      "\n",
      "**************************************************\n",
      "\n",
      "Epoch: 1 | Train Loss: 0.38789 | Valid Loss: 0.04095 | Train Accs: 0.82906 | Valid Accs: 0.98625 | Time: 163.51 seconds\n",
      "Epoch: 2 | Train Loss: 0.06485 | Valid Loss: 0.07887 | Train Accs: 0.97719 | Valid Accs: 0.98250 | Time: 160.13 seconds\n",
      "Epoch: 3 | Train Loss: 0.05950 | Valid Loss: 0.09083 | Train Accs: 0.97875 | Valid Accs: 0.98500 | Time: 159.99 seconds\n",
      "Epoch: 4 | Train Loss: 0.04023 | Valid Loss: 0.03827 | Train Accs: 0.98656 | Valid Accs: 0.98875 | Time: 160.50 seconds\n",
      "Epoch: 5 | Train Loss: 0.02811 | Valid Loss: 0.03226 | Train Accs: 0.98938 | Valid Accs: 0.99000 | Time: 163.19 seconds\n",
      "Epoch: 6 | Train Loss: 0.01921 | Valid Loss: 0.02775 | Train Accs: 0.99469 | Valid Accs: 0.99125 | Time: 162.71 seconds\n",
      "Epoch: 7 | Train Loss: 0.01366 | Valid Loss: 0.03426 | Train Accs: 0.99656 | Valid Accs: 0.99250 | Time: 161.57 seconds\n",
      "Epoch: 8 | Train Loss: 0.00642 | Valid Loss: 0.04817 | Train Accs: 0.99813 | Valid Accs: 0.99250 | Time: 160.74 seconds\n",
      "Epoch: 9 | Train Loss: 0.00573 | Valid Loss: 0.03555 | Train Accs: 0.99781 | Valid Accs: 0.99125 | Time: 161.02 seconds\n",
      "Epoch: 10 | Train Loss: 0.00306 | Valid Loss: 0.04634 | Train Accs: 0.99844 | Valid Accs: 0.99000 | Time: 160.12 seconds\n",
      "\n",
      "**************************************************\n",
      "\n",
      "Best Validation Loss at Epoch 6\n",
      "\n",
      "**************************************************\n",
      "\n",
      "Best Validation Accs at Epoch 7\n",
      "\n",
      "**************************************************\n",
      "\n",
      "Time Taken [10 Epochs] : 26.89 minutes\n",
      "\n",
      "**************************************************\n",
      "\n"
     ]
    },
    {
     "data": {
      "image/png": "[encoded data removed]",
      "text/plain": [
       "<Figure size 432x288 with 1 Axes>"
      ]
     },
     "metadata": {
      "needs_background": "light"
     },
     "output_type": "display_data"
    },
    {
     "name": "stdout",
     "output_type": "stream",
     "text": [
      "\n",
      "**************************************************\n",
      "\n"
     ]
    },
    {
     "data": {
      "image/png": "[encoded data removed]",
      "text/plain": [
       "<Figure size 432x288 with 1 Axes>"
      ]
     },
     "metadata": {
      "needs_background": "light"
     },
     "output_type": "display_data"
    },
    {
     "name": "stdout",
     "output_type": "stream",
     "text": [
      "\n",
      "**************************************************\n",
      "\n"
     ]
    },
    {
     "data": {
      "image/png": "[encoded data removed]",
      "text/plain": [
       "<Figure size 576x432 with 1 Axes>"
      ]
     },
     "metadata": {
      "needs_background": "light"
     },
     "output_type": "display_data"
    },
    {
     "name": "stdout",
     "output_type": "stream",
     "text": [
      "\n",
      "**************************************************\n",
      "\n"
     ]
    }
   ],
   "source": [
    "fold: int = 1\n",
    "BLs: list = []\n",
    "BAs: list = []\n",
    "    \n",
    "cfg.batch_size = 16\n",
    "cfg.epochs = 10\n",
    "    \n",
    "for tr_idx, va_idx in KFold(n_splits=cfg.n_splits, random_state=cfg.seed, shuffle=True).split(filepaths):\n",
    "    \n",
    "    tr_filepaths, va_filepaths = filepaths[tr_idx], filepaths[va_idx] \n",
    "    tr_labels, va_labels       = labels[tr_idx], labels[va_idx]\n",
    "\n",
    "    tr_data_setup = DS(\n",
    "        filepaths=tr_filepaths, \n",
    "        labels=tr_labels.reshape(-1, 1),\n",
    "        size=cfg.size,\n",
    "        transform=cfg.train_transform\n",
    "    )\n",
    "\n",
    "    va_data_setup = DS(\n",
    "        filepaths=va_filepaths, \n",
    "        labels=va_labels.reshape(-1, 1),\n",
    "        size=cfg.size,\n",
    "        transform=cfg.train_transform\n",
    "    )\n",
    "\n",
    "    dataloaders = {\n",
    "        \"train\" : DL(tr_data_setup, batch_size=cfg.batch_size, shuffle=True, generator=torch.manual_seed(cfg.seed)),\n",
    "        \"valid\" : DL(va_data_setup, batch_size=cfg.batch_size, shuffle=False),\n",
    "    }\n",
    "\n",
    "    cfg.steps_per_epoch=len(dataloaders[\"train\"])\n",
    "\n",
    "    torch.manual_seed(cfg.seed)\n",
    "    model = Model().to(cfg.device)\n",
    "\n",
    "    optimizer = optim.Adam([p for p in model.parameters() if p.requires_grad], lr=cfg.lr, weight_decay=cfg.wd)\n",
    "    # optimizer = optim.AdamW([p for p in model.parameters() if p.requires_grad], lr=cfg.lr, weight_decay=cfg.wd)\n",
    "    # optimizer = optim.SGD([p for p in model.parameters() if p.requires_grad], lr=cfg.lr, weight_decay=cfg.wd, momentum=0.9)\n",
    "\n",
    "    scheduler_oclr = optim.lr_scheduler.OneCycleLR(\n",
    "        optimizer=optimizer, \n",
    "        max_lr=cfg.max_lr, \n",
    "        epochs=cfg.epochs, \n",
    "        steps_per_epoch=cfg.steps_per_epoch,\n",
    "        pct_start=cfg.pct_start, \n",
    "        div_factor=cfg.div_factor, \n",
    "        final_div_factor=cfg.final_div_factor\n",
    "    )\n",
    "\n",
    "    # scheduler_rlrop = optim.lr_scheduler.ReduceLROnPlateau(\n",
    "    #     optimizer=optimizer,\n",
    "    #     patience=cfg.patience,\n",
    "    #     eps=cfg.eps,\n",
    "    #     verbose=True\n",
    "    # )\n",
    "\n",
    "    # scheduler_oclr = None\n",
    "    scheduler_rlrop = None\n",
    "\n",
    "\n",
    "    L, A, LR, BL, BA, _, _, _, _ = fit(\n",
    "        model=model, \n",
    "        optimizer=optimizer, \n",
    "        scheduler_oclr=scheduler_oclr,\n",
    "        scheduler_rlrop=scheduler_rlrop,\n",
    "        epochs=cfg.epochs, \n",
    "        early_stopping_patience=cfg.early_stopping, \n",
    "        dataloaders=dataloaders, \n",
    "        device=cfg.device,\n",
    "        save_path=cfg.save_path,\n",
    "        fold=fold,\n",
    "        verbose=True\n",
    "    )\n",
    "\n",
    "\n",
    "    breaker()\n",
    "    show_loss_graphs(L)\n",
    "    breaker()\n",
    "    show_accuracy_graphs(A)\n",
    "    breaker()\n",
    "    if scheduler_oclr:\n",
    "        show_lr_graph(LR)\n",
    "        breaker()\n",
    "    \n",
    "    BLs.append(BL)\n",
    "    BAs.append(BA)\n",
    "    \n",
    "    fold += 1"
   ]
  },
  {
   "cell_type": "markdown",
   "id": "37d4399f",
   "metadata": {
    "papermill": {
     "duration": 0.010746,
     "end_time": "2023-01-17T09:37:10.658880",
     "exception": false,
     "start_time": "2023-01-17T09:37:10.648134",
     "status": "completed"
    },
    "tags": []
   },
   "source": [
    "### **Best Model**"
   ]
  },
  {
   "cell_type": "code",
   "execution_count": 10,
   "id": "36082164",
   "metadata": {
    "execution": {
     "iopub.execute_input": "2023-01-17T09:37:10.683150Z",
     "iopub.status.busy": "2023-01-17T09:37:10.681676Z",
     "iopub.status.idle": "2023-01-17T09:37:10.690719Z",
     "shell.execute_reply": "2023-01-17T09:37:10.689848Z"
    },
    "papermill": {
     "duration": 0.022809,
     "end_time": "2023-01-17T09:37:10.692674",
     "exception": false,
     "start_time": "2023-01-17T09:37:10.669865",
     "status": "completed"
    },
    "tags": []
   },
   "outputs": [
    {
     "name": "stdout",
     "output_type": "stream",
     "text": [
      "\n",
      "**************************************************\n",
      "\n",
      "Best Loss Model Fold     : 1\n",
      "Best Accuracy Model Fold : 1\n",
      "\n",
      "**************************************************\n",
      "\n"
     ]
    }
   ],
   "source": [
    "BL = np.inf\n",
    "for i in range(len(BLs)):\n",
    "    if BLs[i][\"valid\"] < BL:\n",
    "        BL = BLs[i][\"valid\"]\n",
    "        best_loss_index = i\n",
    "\n",
    "        \n",
    "BA = 0.0\n",
    "for i in range(len(BAs)):\n",
    "    if BAs[i][\"valid\"] > BA:\n",
    "        BA = BAs[i][\"valid\"]\n",
    "        best_accs_index = i\n",
    "\n",
    "breaker()\n",
    "print(f\"Best Loss Model Fold     : {best_loss_index + 1}\")\n",
    "print(f\"Best Accuracy Model Fold : {best_accs_index + 1}\")\n",
    "breaker()"
   ]
  }
 ],
 "metadata": {
  "kernelspec": {
   "display_name": "Python 3",
   "language": "python",
   "name": "python3"
  },
  "language_info": {
   "codemirror_mode": {
    "name": "ipython",
    "version": 3
   },
   "file_extension": ".py",
   "mimetype": "text/x-python",
   "name": "python",
   "nbconvert_exporter": "python",
   "pygments_lexer": "ipython3",
   "version": "3.7.12"
  },
  "papermill": {
   "default_parameters": {},
   "duration": 8149.318453,
   "end_time": "2023-01-17T09:37:13.278697",
   "environment_variables": {},
   "exception": null,
   "input_path": "__notebook__.ipynb",
   "output_path": "__notebook__.ipynb",
   "parameters": {},
   "start_time": "2023-01-17T07:21:23.960244",
   "version": "2.3.4"
  }
 },
 "nbformat": 4,
 "nbformat_minor": 5
}
