{
 "cells": [
  {
   "cell_type": "code",
   "execution_count": 1,
   "id": "53c6fa93",
   "metadata": {
    "_cell_guid": "b1076dfc-b9ad-4769-8c92-a6c4dae69d19",
    "_uuid": "8f2839f25d086af736a60e9eeb907d3b93b6e0e5",
    "execution": {
     "iopub.execute_input": "2023-01-17T06:53:37.509366Z",
     "iopub.status.busy": "2023-01-17T06:53:37.508712Z",
     "iopub.status.idle": "2023-01-17T06:53:37.727094Z",
     "shell.execute_reply": "2023-01-17T06:53:37.725776Z"
    },
    "papermill": {
     "duration": 0.227247,
     "end_time": "2023-01-17T06:53:37.730867",
     "exception": false,
     "start_time": "2023-01-17T06:53:37.503620",
     "status": "completed"
    },
    "tags": []
   },
   "outputs": [],
   "source": [
    "import os\n",
    "import cv2\n",
    "import json\n",
    "import numpy as np\n",
    "import pandas as pd\n",
    "\n",
    "BASE_PATH: str = \"/kaggle/input/car-vs-bike-classification-dataset/Car-Bike-Dataset\""
   ]
  },
  {
   "cell_type": "code",
   "execution_count": 2,
   "id": "1b67d835",
   "metadata": {
    "execution": {
     "iopub.execute_input": "2023-01-17T06:53:37.739782Z",
     "iopub.status.busy": "2023-01-17T06:53:37.739353Z",
     "iopub.status.idle": "2023-01-17T06:53:38.454198Z",
     "shell.execute_reply": "2023-01-17T06:53:38.453189Z"
    },
    "papermill": {
     "duration": 0.722142,
     "end_time": "2023-01-17T06:53:38.456821",
     "exception": false,
     "start_time": "2023-01-17T06:53:37.734679",
     "status": "completed"
    },
    "tags": []
   },
   "outputs": [],
   "source": [
    "df: pd.DataFrame = pd.DataFrame(data=None, columns=[\"filepaths\", \"labels\"])\n",
    "    \n",
    "filepaths: list = []\n",
    "labels: list = []\n",
    "\n",
    "i: int = 0    \n",
    "for folder in sorted(os.listdir(f\"{BASE_PATH}\")):\n",
    "    for filename in os.listdir(f\"{BASE_PATH}/{folder}\"):\n",
    "        filepaths.append(os.path.join(f\"{BASE_PATH}/{folder}\", filename))\n",
    "        labels.append(i)\n",
    "    i += 1\n",
    "\n",
    "df.filepaths = filepaths\n",
    "df.labels = labels\n",
    "df.to_csv(\"dataframe.csv\", index=False)"
   ]
  }
 ],
 "metadata": {
  "kernelspec": {
   "display_name": "Python 3",
   "language": "python",
   "name": "python3"
  },
  "language_info": {
   "codemirror_mode": {
    "name": "ipython",
    "version": 3
   },
   "file_extension": ".py",
   "mimetype": "text/x-python",
   "name": "python",
   "nbconvert_exporter": "python",
   "pygments_lexer": "ipython3",
   "version": "3.7.12"
  },
  "papermill": {
   "default_parameters": {},
   "duration": 10.688027,
   "end_time": "2023-01-17T06:53:39.184386",
   "environment_variables": {},
   "exception": null,
   "input_path": "__notebook__.ipynb",
   "output_path": "__notebook__.ipynb",
   "parameters": {},
   "start_time": "2023-01-17T06:53:28.496359",
   "version": "2.3.4"
  }
 },
 "nbformat": 4,
 "nbformat_minor": 5
}
