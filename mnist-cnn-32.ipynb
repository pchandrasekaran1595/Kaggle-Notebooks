{
 "cells": [
  {
   "cell_type": "markdown",
   "id": "5354a5c4",
   "metadata": {
    "papermill": {
     "duration": 0.014836,
     "end_time": "2022-03-21T21:50:07.502963",
     "exception": false,
     "start_time": "2022-03-21T21:50:07.488127",
     "status": "completed"
    },
    "tags": []
   },
   "source": [
    "### **Library Imports**"
   ]
  },
  {
   "cell_type": "code",
   "execution_count": 1,
   "id": "d0cd3c07",
   "metadata": {
    "execution": {
     "iopub.execute_input": "2022-03-21T21:50:07.536893Z",
     "iopub.status.busy": "2022-03-21T21:50:07.535283Z",
     "iopub.status.idle": "2022-03-21T21:50:10.487301Z",
     "shell.execute_reply": "2022-03-21T21:50:10.487909Z",
     "shell.execute_reply.started": "2022-03-21T21:37:39.257484Z"
    },
    "papermill": {
     "duration": 2.970723,
     "end_time": "2022-03-21T21:50:10.488174",
     "exception": false,
     "start_time": "2022-03-21T21:50:07.517451",
     "status": "completed"
    },
    "tags": []
   },
   "outputs": [],
   "source": [
    "import os\n",
    "import re\n",
    "import cv2\n",
    "import torch\n",
    "import numpy as np\n",
    "import pandas as pd\n",
    "import matplotlib.pyplot as plt\n",
    "\n",
    "from time import time\n",
    "from torch import nn, optim\n",
    "from torch.utils.data import Dataset\n",
    "from torch.utils.data import DataLoader as DL\n",
    "from torch.nn.utils import weight_norm as WN\n",
    "from torchvision import transforms\n",
    "\n",
    "from sklearn.preprocessing import StandardScaler\n",
    "from sklearn.model_selection import StratifiedKFold"
   ]
  },
  {
   "cell_type": "markdown",
   "id": "54597f62",
   "metadata": {
    "papermill": {
     "duration": 0.014262,
     "end_time": "2022-03-21T21:50:10.516058",
     "exception": false,
     "start_time": "2022-03-21T21:50:10.501796",
     "status": "completed"
    },
    "tags": []
   },
   "source": [
    "### **Utilities and Constants**"
   ]
  },
  {
   "cell_type": "code",
   "execution_count": 2,
   "id": "ca3b9dde",
   "metadata": {
    "execution": {
     "iopub.execute_input": "2022-03-21T21:50:10.600711Z",
     "iopub.status.busy": "2022-03-21T21:50:10.600007Z",
     "iopub.status.idle": "2022-03-21T21:50:10.604841Z",
     "shell.execute_reply": "2022-03-21T21:50:10.604309Z",
     "shell.execute_reply.started": "2022-03-21T21:41:01.023195Z"
    },
    "papermill": {
     "duration": 0.075793,
     "end_time": "2022-03-21T21:50:10.604979",
     "exception": false,
     "start_time": "2022-03-21T21:50:10.529186",
     "status": "completed"
    },
    "tags": []
   },
   "outputs": [],
   "source": [
    "def breaker(num: int = 50, char: str = \"*\") -> None:\n",
    "    print(\"\\n\" + num*char + \"\\n\")\n",
    "\n",
    "    \n",
    "def show_graphs(L: list, A: list) -> None:\n",
    "    TL, VL, TA, VA = [], [], [], []\n",
    "    for i in range(len(L)):\n",
    "        TL.append(L[i][\"train\"])\n",
    "        VL.append(L[i][\"valid\"])\n",
    "        TA.append(A[i][\"train\"])\n",
    "        VA.append(A[i][\"valid\"])\n",
    "    x_Axis = np.arange(1, len(TL) + 1)\n",
    "    plt.figure(figsize=(8, 6))\n",
    "    plt.subplot(1, 2, 1)\n",
    "    plt.plot(x_Axis, TL, \"r\", label=\"Train\")\n",
    "    plt.plot(x_Axis, VL, \"b\", label=\"Valid\")\n",
    "    plt.legend()\n",
    "    plt.grid()\n",
    "    plt.title(\"Loss Graph\")\n",
    "    plt.subplot(1, 2, 2)\n",
    "    plt.plot(x_Axis, TA, \"r\", label=\"Train\")\n",
    "    plt.plot(x_Axis, VA, \"b\", label=\"Valid\")\n",
    "    plt.legend()\n",
    "    plt.grid()\n",
    "    plt.title(\"Accuracy Graph\")\n",
    "    plt.show()\n",
    "\n",
    "\n",
    "SEED = 42\n",
    "DEVICE = torch.device(\"cuda\" if torch.cuda.is_available() else \"cpu\")\n",
    "\n",
    "SAVE_PATH = \"saves\"\n",
    "if not os.path.exists(SAVE_PATH):\n",
    "    os.makedirs(SAVE_PATH)"
   ]
  },
  {
   "cell_type": "markdown",
   "id": "69d3be03",
   "metadata": {
    "papermill": {
     "duration": 0.013163,
     "end_time": "2022-03-21T21:50:10.632606",
     "exception": false,
     "start_time": "2022-03-21T21:50:10.619443",
     "status": "completed"
    },
    "tags": []
   },
   "source": [
    "### **Dataset Template**"
   ]
  },
  {
   "cell_type": "code",
   "execution_count": 3,
   "id": "a6f8f786",
   "metadata": {
    "execution": {
     "iopub.execute_input": "2022-03-21T21:50:10.669588Z",
     "iopub.status.busy": "2022-03-21T21:50:10.668718Z",
     "iopub.status.idle": "2022-03-21T21:50:10.670625Z",
     "shell.execute_reply": "2022-03-21T21:50:10.671051Z",
     "shell.execute_reply.started": "2022-03-21T21:41:03.015722Z"
    },
    "papermill": {
     "duration": 0.024339,
     "end_time": "2022-03-21T21:50:10.671183",
     "exception": false,
     "start_time": "2022-03-21T21:50:10.646844",
     "status": "completed"
    },
    "tags": []
   },
   "outputs": [],
   "source": [
    "class DS(Dataset):\n",
    "    def __init__(self, images: np.ndarray, labels: np.ndarray = None, mode: str = \"train\", transform = None):\n",
    "\n",
    "        assert re.match(r\"^train$\", mode, re.IGNORECASE) or re.match(r\"^valid$\", mode, re.IGNORECASE) or re.match(r\"^test$\", mode, re.IGNORECASE), \"Invalid Mode\"\n",
    "        \n",
    "        self.mode = mode\n",
    "        self.images = images\n",
    "        self.transform = transform\n",
    "\n",
    "        if re.match(r\"^train$\", mode, re.IGNORECASE) or re.match(r\"^valid$\", mode, re.IGNORECASE):\n",
    "            self.labels = labels\n",
    "\n",
    "    def __len__(self):\n",
    "        return self.images.shape[0]\n",
    "\n",
    "    def __getitem__(self, idx):\n",
    "        if re.match(r\"^train$\", self.mode, re.IGNORECASE) or re.match(r\"^valid$\", self.mode, re.IGNORECASE):\n",
    "            return self.transform(self.images[idx]), torch.LongTensor(self.labels[idx])\n",
    "        else:\n",
    "            return self.transform(self.images[idx])"
   ]
  },
  {
   "cell_type": "markdown",
   "id": "1aa8e909",
   "metadata": {
    "papermill": {
     "duration": 0.01321,
     "end_time": "2022-03-21T21:50:10.698235",
     "exception": false,
     "start_time": "2022-03-21T21:50:10.685025",
     "status": "completed"
    },
    "tags": []
   },
   "source": [
    "### **Model**"
   ]
  },
  {
   "cell_type": "code",
   "execution_count": 4,
   "id": "440038c7",
   "metadata": {
    "execution": {
     "iopub.execute_input": "2022-03-21T21:50:10.747671Z",
     "iopub.status.busy": "2022-03-21T21:50:10.746977Z",
     "iopub.status.idle": "2022-03-21T21:50:10.749080Z",
     "shell.execute_reply": "2022-03-21T21:50:10.749662Z",
     "shell.execute_reply.started": "2022-03-21T21:45:54.024111Z"
    },
    "papermill": {
     "duration": 0.037879,
     "end_time": "2022-03-21T21:50:10.749796",
     "exception": false,
     "start_time": "2022-03-21T21:50:10.711917",
     "status": "completed"
    },
    "tags": []
   },
   "outputs": [],
   "source": [
    "class CNN(nn.Module):\n",
    "    def __init__(self, filter_sizes: list, HL: list, DP: float=None):\n",
    "        \n",
    "        super(CNN, self).__init__()\n",
    "        \n",
    "        self.features = nn.Sequential()\n",
    "        self.features.add_module(\"CN1\", nn.Conv2d(in_channels=1, out_channels=filter_sizes[0], kernel_size=(3, 3), stride=(1, 1), padding=(1, 1)))\n",
    "        self.features.add_module(\"BN1\", nn.BatchNorm2d(num_features=filter_sizes[0], eps=1e-5))\n",
    "        self.features.add_module(\"AN1\", nn.ReLU())\n",
    "        self.features.add_module(\"MP1\", nn.MaxPool2d(kernel_size=(2, 2)))\n",
    "        self.features.add_module(\"CN2\", nn.Conv2d(in_channels=filter_sizes[0], out_channels=filter_sizes[1], kernel_size=(3, 3), stride=(1, 1), padding=(1, 1)))\n",
    "        self.features.add_module(\"BN2\", nn.BatchNorm2d(num_features=filter_sizes[1], eps=1e-5))\n",
    "        self.features.add_module(\"AN2\", nn.ReLU())\n",
    "        self.features.add_module(\"MP2\", nn.MaxPool2d(kernel_size=(2, 2)))\n",
    "        self.features.add_module(\"CN3\", nn.Conv2d(in_channels=filter_sizes[1], out_channels=filter_sizes[2], kernel_size=(3, 3), stride=(1, 1), padding=(1, 1)))\n",
    "        self.features.add_module(\"BN3\", nn.BatchNorm2d(num_features=filter_sizes[2], eps=1e-5))\n",
    "        self.features.add_module(\"AN3\", nn.ReLU())\n",
    "        self.features.add_module(\"MP3\", nn.MaxPool2d(kernel_size=(2, 2)))\n",
    "        \n",
    "        self.pooling = nn.AdaptiveAvgPool2d(output_size=(3, 3))\n",
    "\n",
    "        self.classifier = nn.Sequential()\n",
    "        if len(HL) == 0:\n",
    "            self.classifier.add_module(\"FC1\", nn.Linear(in_features=filter_sizes[2]*3*3, out_features=10))\n",
    "        elif len(HL) == 1:\n",
    "            self.classifier.add_module(\"FC1\", nn.Linear(in_features=filter_sizes[2]*3*3, out_features=HL[0]))\n",
    "            if isinstance(DP, float):\n",
    "                self.classifier.add_module(\"DP1\", nn.Dropout(p=DP))\n",
    "            self.classifier.add_module(\"AN1\", nn.ReLU())\n",
    "            self.classifier.add_module(\"FC2\", nn.Linear(in_features=HL[0], out_features=10))\n",
    "        elif len(HL) == 2:\n",
    "            self.classifier.add_module(\"FC1\", nn.Linear(in_features=filter_sizes[2]*3*3, out_features=HL[0]))\n",
    "            if isinstance(DP, float):\n",
    "                self.classifier.add_module(\"DP1\", nn.Dropout(p=DP))\n",
    "            self.classifier.add_module(\"AN1\", nn.ReLU())\n",
    "            self.classifier.add_module(\"FC2\", nn.Linear(in_features=HL[0], out_features=HL[1]))\n",
    "            if isinstance(DP, float):\n",
    "                self.classifier.add_module(\"DP2\", nn.Dropout(p=DP))\n",
    "            self.classifier.add_module(\"AN2\", nn.ReLU())\n",
    "            self.classifier.add_module(\"FC3\", nn.Linear(in_features=HL[1], out_features=10))\n",
    "        \n",
    "        self.classifier.add_module(\"Final Activation\", nn.LogSoftmax(dim=1))\n",
    "    \n",
    "    def get_optimizer(self, lr=1e-3, wd=0.0):\n",
    "        params = [p for p in self.parameters() if p.requires_grad]\n",
    "        return optim.Adam(params, lr=lr, weight_decay=wd)\n",
    "\n",
    "    def get_plateau_scheduler(self, optimizer=None, patience=5, eps=1e-8):\n",
    "        return optim.lr_scheduler.ReduceLROnPlateau(optimizer=optimizer, patience=patience, eps=eps)\n",
    "    \n",
    "    def forward(self, x):\n",
    "        x = self.features(x)\n",
    "        x = self.pooling(x)\n",
    "        x = x.view(x.shape[0], -1)\n",
    "        return self.classifier(x)"
   ]
  },
  {
   "cell_type": "markdown",
   "id": "50e741ec",
   "metadata": {
    "papermill": {
     "duration": 0.012977,
     "end_time": "2022-03-21T21:50:10.776280",
     "exception": false,
     "start_time": "2022-03-21T21:50:10.763303",
     "status": "completed"
    },
    "tags": []
   },
   "source": [
    "### **Fit and Predict Helpers**"
   ]
  },
  {
   "cell_type": "code",
   "execution_count": 5,
   "id": "464831c3",
   "metadata": {
    "execution": {
     "iopub.execute_input": "2022-03-21T21:50:10.825752Z",
     "iopub.status.busy": "2022-03-21T21:50:10.824128Z",
     "iopub.status.idle": "2022-03-21T21:50:10.826322Z",
     "shell.execute_reply": "2022-03-21T21:50:10.826753Z",
     "shell.execute_reply.started": "2022-03-21T21:41:06.513822Z"
    },
    "papermill": {
     "duration": 0.037481,
     "end_time": "2022-03-21T21:50:10.826882",
     "exception": false,
     "start_time": "2022-03-21T21:50:10.789401",
     "status": "completed"
    },
    "tags": []
   },
   "outputs": [],
   "source": [
    "def fit(model=None, optimizer=None, scheduler=None, epochs=None, early_stopping_patience=None, dataloaders=None, verbose=False) -> tuple:\n",
    "    \n",
    "    def get_accuracy(y_pred, y_true):\n",
    "        y_pred = torch.argmax(y_pred, dim=1)\n",
    "        return torch.count_nonzero(y_pred == y_true).item() / len(y_pred)\n",
    "    \n",
    "    if verbose:\n",
    "        breaker()\n",
    "        print(f\"Training ...\")\n",
    "        breaker()\n",
    "\n",
    "    bestLoss, bestAccs = {\"train\" : np.inf, \"valid\" : np.inf}, {\"train\" : 0.0, \"valid\" : 0.0}\n",
    "    Losses, Accuracies = [], []\n",
    "    name = f\"state.pt\"\n",
    "\n",
    "    start_time = time()\n",
    "    for e in range(epochs):\n",
    "        e_st = time()\n",
    "        epochLoss, epochAccs = {\"train\" : 0.0, \"valid\" : 0.0}, {\"train\" : 0.0, \"valid\" : 0.0}\n",
    "\n",
    "        for phase in [\"train\", \"valid\"]:\n",
    "            if phase == \"train\":\n",
    "                model.train()\n",
    "            else:\n",
    "                model.eval()\n",
    "            \n",
    "            lossPerPass, accsPerPass = [], []\n",
    "\n",
    "            for X, y in dataloaders[phase]:\n",
    "                X, y = X.to(DEVICE), y.to(DEVICE).view(-1)\n",
    "\n",
    "                optimizer.zero_grad()\n",
    "                with torch.set_grad_enabled(phase == \"train\"):\n",
    "                    output = model(X)\n",
    "                    loss = torch.nn.NLLLoss()(output, y)\n",
    "                    if phase == \"train\":\n",
    "                        loss.backward()\n",
    "                        optimizer.step()\n",
    "                lossPerPass.append(loss.item())\n",
    "                accsPerPass.append(get_accuracy(output, y))\n",
    "            epochLoss[phase] = np.mean(np.array(lossPerPass))\n",
    "            epochAccs[phase] = np.mean(np.array(accsPerPass))\n",
    "        Losses.append(epochLoss)\n",
    "        Accuracies.append(epochAccs)\n",
    "\n",
    "        if early_stopping_patience:\n",
    "            if epochLoss[\"valid\"] < bestLoss[\"valid\"]:\n",
    "                bestLoss = epochLoss\n",
    "                BLE = e + 1\n",
    "                torch.save({\"model_state_dict\": model.state_dict(),\n",
    "                            \"optim_state_dict\": optimizer.state_dict()},\n",
    "                           os.path.join(SAVE_PATH, name))\n",
    "                early_stopping_step = 0\n",
    "            else:\n",
    "                early_stopping_step += 1\n",
    "                if early_stopping_step > early_stopping_patience:\n",
    "                    print(\"\\nEarly Stopping at Epoch {}\".format(e + 1))\n",
    "                    break\n",
    "        \n",
    "        if epochLoss[\"valid\"] < bestLoss[\"valid\"]:\n",
    "            bestLoss = epochLoss\n",
    "            BLE = e + 1\n",
    "            torch.save({\"model_state_dict\" : model.state_dict(),\n",
    "                        \"optim_state_dict\" : optimizer.state_dict()},\n",
    "                        os.path.join(SAVE_PATH, name))\n",
    "        \n",
    "        if epochAccs[\"valid\"] > bestAccs[\"valid\"]:\n",
    "            bestAccs = epochAccs\n",
    "            BAE = e + 1\n",
    "        \n",
    "        if scheduler:\n",
    "            scheduler.step(epochLoss[\"valid\"])\n",
    "        \n",
    "        if verbose:\n",
    "            print(\"Epoch: {} | Train Loss: {:.5f} | Valid Loss: {:.5f} |\\\n",
    "Train Accs: {:.5f} | Valid Accs: {:.5f} | Time: {:.2f} seconds\".format(e+1, \n",
    "                                                                       epochLoss[\"train\"], epochLoss[\"valid\"], \n",
    "                                                                       epochAccs[\"train\"], epochAccs[\"valid\"], \n",
    "                                                                       time()-e_st))\n",
    "\n",
    "    if verbose:                                           \n",
    "        breaker()\n",
    "        print(f\"Best Validation Loss at Epoch {BLE}\")\n",
    "        breaker()\n",
    "        print(f\"Best Validation Accs at Epoch {BAE}\")\n",
    "        breaker()\n",
    "        print(\"Time Taken [{} Epochs] : {:.2f} minutes\".format(len(Losses), (time()-start_time)/60))\n",
    "        breaker()\n",
    "        print(\"Training Completed\")\n",
    "        breaker()\n",
    "\n",
    "    return Losses, Accuracies, BLE, BAE, name\n",
    "\n",
    "\n",
    "def predict(model=None, dataloader=None, path=None) -> np.ndarray:\n",
    "    model.load_state_dict(torch.load(path, map_location=DEVICE)[\"model_state_dict\"])\n",
    "    model.to(DEVICE)    \n",
    "    model.eval()\n",
    "    \n",
    "    y_pred = torch.zeros(1, 1).to(DEVICE)\n",
    "    \n",
    "    for X in dataloader:\n",
    "        X = X.to(DEVICE)\n",
    "        with torch.no_grad():\n",
    "            output = torch.argmax(torch.exp(model(X)), dim=1)\n",
    "        y_pred = torch.cat((y_pred, output.view(-1, 1)), dim=0)\n",
    "    \n",
    "    return y_pred[1:].detach().cpu().numpy()"
   ]
  },
  {
   "cell_type": "markdown",
   "id": "36283ec9",
   "metadata": {
    "papermill": {
     "duration": 0.01275,
     "end_time": "2022-03-21T21:50:10.852663",
     "exception": false,
     "start_time": "2022-03-21T21:50:10.839913",
     "status": "completed"
    },
    "tags": []
   },
   "source": [
    "### **Load Data**"
   ]
  },
  {
   "cell_type": "code",
   "execution_count": 6,
   "id": "a39caaaf",
   "metadata": {
    "execution": {
     "iopub.execute_input": "2022-03-21T21:50:10.890012Z",
     "iopub.status.busy": "2022-03-21T21:50:10.888179Z",
     "iopub.status.idle": "2022-03-21T21:50:16.786992Z",
     "shell.execute_reply": "2022-03-21T21:50:16.786512Z",
     "shell.execute_reply.started": "2022-03-21T21:42:39.273337Z"
    },
    "papermill": {
     "duration": 5.920947,
     "end_time": "2022-03-21T21:50:16.787124",
     "exception": false,
     "start_time": "2022-03-21T21:50:10.866177",
     "status": "completed"
    },
    "tags": []
   },
   "outputs": [],
   "source": [
    "train_df = pd.read_csv(\"../input/digit-recognizer/train.csv\")\n",
    "test_df  = pd.read_csv(\"../input/digit-recognizer/test.csv\")\n",
    "\n",
    "old_X = train_df.iloc[:, 1:].copy().values\n",
    "y = train_df.iloc[:, 0].copy().values\n",
    "old_X_test = test_df.copy().values\n",
    "\n",
    "old_X = old_X.reshape(old_X.shape[0], 28, 28, 1).astype(\"uint8\")\n",
    "old_X_test = old_X_test.reshape(old_X_test.shape[0], 28, 28, 1).astype(\"uint8\")\n",
    "\n",
    "size = 32\n",
    "\n",
    "X = np.zeros((old_X.shape[0], size, size), dtype=np.uint8)\n",
    "X_test = np.zeros((old_X_test.shape[0], size, size), dtype=np.uint8)\n",
    "\n",
    "for i in range(old_X.shape[0]):\n",
    "    X[i] = cv2.resize(src=old_X[i], dsize=(size, size), interpolation=cv2.INTER_AREA)\n",
    "    \n",
    "for i in range(old_X_test.shape[0]):\n",
    "    X_test[i] = cv2.resize(src=old_X_test[i], dsize=(size, size), interpolation=cv2.INTER_AREA)\n",
    "\n",
    "X = np.expand_dims(X, axis=3)\n",
    "X_test = np.expand_dims(X_test, axis=3)"
   ]
  },
  {
   "cell_type": "markdown",
   "id": "dff99016",
   "metadata": {
    "papermill": {
     "duration": 0.013758,
     "end_time": "2022-03-21T21:50:16.814996",
     "exception": false,
     "start_time": "2022-03-21T21:50:16.801238",
     "status": "completed"
    },
    "tags": []
   },
   "source": [
    "### **Params**"
   ]
  },
  {
   "cell_type": "code",
   "execution_count": 7,
   "id": "7f4b92d1",
   "metadata": {
    "execution": {
     "iopub.execute_input": "2022-03-21T21:50:16.847471Z",
     "iopub.status.busy": "2022-03-21T21:50:16.846854Z",
     "iopub.status.idle": "2022-03-21T21:50:16.849101Z",
     "shell.execute_reply": "2022-03-21T21:50:16.849535Z",
     "shell.execute_reply.started": "2022-03-21T21:43:35.560323Z"
    },
    "papermill": {
     "duration": 0.021026,
     "end_time": "2022-03-21T21:50:16.849664",
     "exception": false,
     "start_time": "2022-03-21T21:50:16.828638",
     "status": "completed"
    },
    "tags": []
   },
   "outputs": [],
   "source": [
    "n_splits = 5\n",
    "batch_size = 128\n",
    "lr = 1e-3\n",
    "wd = 0.0\n",
    "filter_sizes = [64, 128, 256]\n",
    "HL = [1024]\n",
    "epochs = 25\n",
    "early_stopping = 5\n",
    "patience = None\n",
    "eps = None"
   ]
  },
  {
   "cell_type": "markdown",
   "id": "cfabe6e7",
   "metadata": {
    "papermill": {
     "duration": 0.013507,
     "end_time": "2022-03-21T21:50:16.876465",
     "exception": false,
     "start_time": "2022-03-21T21:50:16.862958",
     "status": "completed"
    },
    "tags": []
   },
   "source": [
    "### **Train**"
   ]
  },
  {
   "cell_type": "code",
   "execution_count": 8,
   "id": "26bb69db",
   "metadata": {
    "execution": {
     "iopub.execute_input": "2022-03-21T21:50:16.915049Z",
     "iopub.status.busy": "2022-03-21T21:50:16.913269Z",
     "iopub.status.idle": "2022-03-21T21:51:19.784756Z",
     "shell.execute_reply": "2022-03-21T21:51:19.785179Z",
     "shell.execute_reply.started": "2022-03-21T21:46:00.351748Z"
    },
    "papermill": {
     "duration": 62.895444,
     "end_time": "2022-03-21T21:51:19.785319",
     "exception": false,
     "start_time": "2022-03-21T21:50:16.889875",
     "status": "completed"
    },
    "tags": []
   },
   "outputs": [
    {
     "name": "stdout",
     "output_type": "stream",
     "text": [
      "\n",
      "**************************************************\n",
      "\n",
      "Training ...\n",
      "\n",
      "**************************************************\n",
      "\n",
      "Epoch: 1 | Train Loss: 0.07444 | Valid Loss: 0.03892 |Train Accs: 0.97552 | Valid Accs: 0.98762 | Time: 13.81 seconds\n",
      "Epoch: 2 | Train Loss: 0.03603 | Valid Loss: 0.06071 |Train Accs: 0.98886 | Valid Accs: 0.97969 | Time: 7.53 seconds\n",
      "Epoch: 3 | Train Loss: 0.03217 | Valid Loss: 0.03911 |Train Accs: 0.98925 | Valid Accs: 0.98951 | Time: 7.58 seconds\n",
      "Epoch: 4 | Train Loss: 0.02970 | Valid Loss: 0.04270 |Train Accs: 0.99038 | Valid Accs: 0.98733 | Time: 7.54 seconds\n",
      "Epoch: 5 | Train Loss: 0.02555 | Valid Loss: 0.05156 |Train Accs: 0.99112 | Valid Accs: 0.98617 | Time: 7.53 seconds\n",
      "Epoch: 6 | Train Loss: 0.01974 | Valid Loss: 0.03966 |Train Accs: 0.99341 | Valid Accs: 0.98928 | Time: 7.65 seconds\n",
      "\n",
      "Early Stopping at Epoch 7\n",
      "\n",
      "**************************************************\n",
      "\n",
      "Best Validation Loss at Epoch 1\n",
      "\n",
      "**************************************************\n",
      "\n",
      "Best Validation Accs at Epoch 3\n",
      "\n",
      "**************************************************\n",
      "\n",
      "Time Taken [7 Epochs] : 0.99 minutes\n",
      "\n",
      "**************************************************\n",
      "\n",
      "Training Completed\n",
      "\n",
      "**************************************************\n",
      "\n"
     ]
    },
    {
     "data": {
      "image/png": "[encoded data removed]",
      "text/plain": [
       "<Figure size 576x432 with 2 Axes>"
      ]
     },
     "metadata": {
      "needs_background": "light"
     },
     "output_type": "display_data"
    }
   ],
   "source": [
    "for tr_idx, va_idx in StratifiedKFold(n_splits=n_splits, random_state=SEED, shuffle=True).split(X, y):\n",
    "    break\n",
    "\n",
    "X_train, X_valid, y_train, y_valid = X[tr_idx], X[va_idx], y[tr_idx], y[va_idx]\n",
    "\n",
    "transform = transforms.Compose([transforms.ToTensor(), \n",
    "                                transforms.Normalize(mean=[0.13095], std=[0.29218]),\n",
    "                               ])\n",
    "\n",
    "tr_data_setup = DS(X_train, y_train.reshape(-1, 1), \"train\", transform)\n",
    "va_data_setup = DS(X_valid, y_valid.reshape(-1, 1), \"valid\", transform)\n",
    "\n",
    "dataloaders = {\n",
    "    \"train\" : DL(tr_data_setup, batch_size=batch_size, shuffle=True, generator=torch.manual_seed(SEED)),\n",
    "    \"valid\" : DL(va_data_setup, batch_size=batch_size, shuffle=False),\n",
    "}\n",
    "\n",
    "MODEL_PATH_28x28 = \"../input/mnist-cnn/saves/state.pt\"\n",
    "\n",
    "torch.manual_seed(SEED)\n",
    "model = CNN(filter_sizes=filter_sizes, HL=HL, DP=0.25).to(DEVICE)\n",
    "model.load_state_dict(torch.load(MODEL_PATH_28x28, map_location=DEVICE)[\"model_state_dict\"])\n",
    "optimizer = model.get_optimizer(lr=lr, wd=wd)\n",
    "scheduler = None\n",
    "if isinstance(patience, int) and isinstance(eps, float):\n",
    "    scheduler = get_plateau_scheduler(optimizer=optimizer, patience=patience, eps=eps)\n",
    "\n",
    "L, A, BLE, BAE, name = fit(model=model, optimizer=optimizer, scheduler=scheduler, \n",
    "                           epochs=epochs, early_stopping_patience=early_stopping, \n",
    "                           dataloaders=dataloaders, verbose=True)\n",
    "\n",
    "show_graphs(L, A)"
   ]
  },
  {
   "cell_type": "markdown",
   "id": "3b40baf3",
   "metadata": {
    "papermill": {
     "duration": 0.018044,
     "end_time": "2022-03-21T21:51:19.820710",
     "exception": false,
     "start_time": "2022-03-21T21:51:19.802666",
     "status": "completed"
    },
    "tags": []
   },
   "source": [
    "### **Submission**"
   ]
  },
  {
   "cell_type": "code",
   "execution_count": 9,
   "id": "d3b63a99",
   "metadata": {
    "execution": {
     "iopub.execute_input": "2022-03-21T21:51:19.860712Z",
     "iopub.status.busy": "2022-03-21T21:51:19.860024Z",
     "iopub.status.idle": "2022-03-21T21:51:22.269343Z",
     "shell.execute_reply": "2022-03-21T21:51:22.268884Z",
     "shell.execute_reply.started": "2022-03-21T21:47:21.087341Z"
    },
    "papermill": {
     "duration": 2.43188,
     "end_time": "2022-03-21T21:51:22.269504",
     "exception": false,
     "start_time": "2022-03-21T21:51:19.837624",
     "status": "completed"
    },
    "tags": []
   },
   "outputs": [],
   "source": [
    "ts_data_setup = DS(X_test, None, \"test\", transform)\n",
    "ts_data = DL(ts_data_setup, batch_size=batch_size, shuffle=False)\n",
    "\n",
    "y_pred = predict(model=model, dataloader=ts_data, path=\"./saves/state.pt\")\n",
    "\n",
    "ss_df = pd.read_csv(\"../input/digit-recognizer/sample_submission.csv\")\n",
    "ss_df[\"Label\"] = y_pred.astype(\"int64\")\n",
    "ss_df.to_csv(\"./submission.csv\", index=False)"
   ]
  }
 ],
 "metadata": {
  "kernelspec": {
   "display_name": "Python 3",
   "language": "python",
   "name": "python3"
  },
  "language_info": {
   "codemirror_mode": {
    "name": "ipython",
    "version": 3
   },
   "file_extension": ".py",
   "mimetype": "text/x-python",
   "name": "python",
   "nbconvert_exporter": "python",
   "pygments_lexer": "ipython3",
   "version": "3.7.12"
  },
  "papermill": {
   "default_parameters": {},
   "duration": 84.873947,
   "end_time": "2022-03-21T21:51:23.698113",
   "environment_variables": {},
   "exception": null,
   "input_path": "__notebook__.ipynb",
   "output_path": "__notebook__.ipynb",
   "parameters": {},
   "start_time": "2022-03-21T21:49:58.824166",
   "version": "2.3.3"
  }
 },
 "nbformat": 4,
 "nbformat_minor": 5
}
