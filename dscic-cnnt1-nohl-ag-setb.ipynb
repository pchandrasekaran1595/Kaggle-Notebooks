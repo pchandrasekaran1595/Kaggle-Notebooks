{
 "cells": [
  {
   "cell_type": "markdown",
   "id": "47321b7a",
   "metadata": {
    "papermill": {
     "duration": 0.005354,
     "end_time": "2022-10-23T11:03:19.901451",
     "exception": false,
     "start_time": "2022-10-23T11:03:19.896097",
     "status": "completed"
    },
    "tags": []
   },
   "source": [
    "### **Library Imports**"
   ]
  },
  {
   "cell_type": "code",
   "execution_count": 1,
   "id": "dff81f48",
   "metadata": {
    "execution": {
     "iopub.execute_input": "2022-10-23T11:03:19.911271Z",
     "iopub.status.busy": "2022-10-23T11:03:19.910448Z",
     "iopub.status.idle": "2022-10-23T11:03:22.743728Z",
     "shell.execute_reply": "2022-10-23T11:03:22.742754Z"
    },
    "papermill": {
     "duration": 2.841075,
     "end_time": "2022-10-23T11:03:22.746289",
     "exception": false,
     "start_time": "2022-10-23T11:03:19.905214",
     "status": "completed"
    },
    "tags": []
   },
   "outputs": [],
   "source": [
    "import os\n",
    "import re\n",
    "import cv2\n",
    "import torch\n",
    "import numpy as np\n",
    "import pandas as pd\n",
    "import matplotlib.pyplot as plt\n",
    "\n",
    "from time import time\n",
    "from scipy import stats\n",
    "from typing import Union\n",
    "from torch import nn, optim\n",
    "from torch.utils.data import Dataset\n",
    "from torch.utils.data import DataLoader as DL\n",
    "from torchvision import models, transforms\n",
    "\n",
    "from sklearn.metrics import accuracy_score\n",
    "from sklearn.model_selection import StratifiedKFold"
   ]
  },
  {
   "cell_type": "markdown",
   "id": "f6b32567",
   "metadata": {
    "papermill": {
     "duration": 0.003404,
     "end_time": "2022-10-23T11:03:22.753549",
     "exception": false,
     "start_time": "2022-10-23T11:03:22.750145",
     "status": "completed"
    },
    "tags": []
   },
   "source": [
    "### **Utilities and Helpers**"
   ]
  },
  {
   "cell_type": "code",
   "execution_count": 2,
   "id": "0a15e1b5",
   "metadata": {
    "execution": {
     "iopub.execute_input": "2022-10-23T11:03:22.762932Z",
     "iopub.status.busy": "2022-10-23T11:03:22.761580Z",
     "iopub.status.idle": "2022-10-23T11:03:22.773810Z",
     "shell.execute_reply": "2022-10-23T11:03:22.772903Z"
    },
    "papermill": {
     "duration": 0.018714,
     "end_time": "2022-10-23T11:03:22.775760",
     "exception": false,
     "start_time": "2022-10-23T11:03:22.757046",
     "status": "completed"
    },
    "tags": []
   },
   "outputs": [],
   "source": [
    "SEED: int = 42\n",
    "\n",
    "def breaker(num: int=50, char: str=\"*\") -> None:\n",
    "    print(\"\\n\" + num*char + \"\\n\")\n",
    "\n",
    "    \n",
    "def get_image(path: str, size: int=224) -> np.ndarray:\n",
    "    image = cv2.imread(path, cv2.IMREAD_COLOR)\n",
    "    image = cv2.cvtColor(src=image, code=cv2.COLOR_BGR2RGB)\n",
    "    return cv2.resize(src=image, dsize=(size, size), interpolation=cv2.INTER_AREA)\n",
    "\n",
    "\n",
    "def show_loss_graphs(L: list) -> None:\n",
    "    TL, VL = [], []\n",
    "    for i in range(len(L)):\n",
    "        TL.append(L[i][\"train\"])\n",
    "        VL.append(L[i][\"valid\"])\n",
    "    x_Axis = np.arange(1, len(TL) + 1)\n",
    "    plt.figure()\n",
    "    plt.plot(x_Axis, TL, \"r\", label=\"Train\")\n",
    "    plt.plot(x_Axis, VL, \"b\", label=\"Valid\")\n",
    "    plt.legend()\n",
    "    plt.grid()\n",
    "    plt.title(\"Loss Graph\")\n",
    "    plt.show()\n",
    "\n",
    "    \n",
    "def show_accuracy_graphs(A: list) -> None:\n",
    "    TA, VA = [], []\n",
    "    for i in range(len(A)):\n",
    "        TA.append(A[i][\"train\"])\n",
    "        VA.append(A[i][\"valid\"])\n",
    "    x_Axis = np.arange(1, len(TA) + 1)\n",
    "    plt.figure()\n",
    "    plt.plot(x_Axis, TA, \"r\", label=\"Train\")\n",
    "    plt.plot(x_Axis, VA, \"b\", label=\"Valid\")\n",
    "    plt.legend()\n",
    "    plt.grid()\n",
    "    plt.title(\"Accuracy Graph\")\n",
    "    plt.show()\n",
    "    \n",
    "\n",
    "def show_lr_graph(LR: list) -> None:\n",
    "    x_Axis = [i+1 for i in range(len(LR))]\n",
    "    plt.figure(figsize=(8, 6))\n",
    "    plt.plot(x_Axis, LR, \"rx\")\n",
    "    plt.grid()\n",
    "    plt.show()"
   ]
  },
  {
   "cell_type": "markdown",
   "id": "88c9f05b",
   "metadata": {
    "papermill": {
     "duration": 0.003446,
     "end_time": "2022-10-23T11:03:22.782746",
     "exception": false,
     "start_time": "2022-10-23T11:03:22.779300",
     "status": "completed"
    },
    "tags": []
   },
   "source": [
    "### **Configuration**"
   ]
  },
  {
   "cell_type": "code",
   "execution_count": 3,
   "id": "900ad161",
   "metadata": {
    "execution": {
     "iopub.execute_input": "2022-10-23T11:03:22.791252Z",
     "iopub.status.busy": "2022-10-23T11:03:22.790964Z",
     "iopub.status.idle": "2022-10-23T11:03:22.863647Z",
     "shell.execute_reply": "2022-10-23T11:03:22.862665Z"
    },
    "papermill": {
     "duration": 0.079481,
     "end_time": "2022-10-23T11:03:22.866026",
     "exception": false,
     "start_time": "2022-10-23T11:03:22.786545",
     "status": "completed"
    },
    "tags": []
   },
   "outputs": [],
   "source": [
    "class CFG(object):\n",
    "    def __init__(self, \n",
    "                 seed: int = 42,\n",
    "                 n_splits: int = 5,\n",
    "                 batch_size: int = 16,\n",
    "                 epochs: int = 25,\n",
    "                 early_stopping: int = 5,\n",
    "                 lr: float = 1e-4,\n",
    "                 wd: float = 0.0,\n",
    "                 max_lr: float = 1e-3,\n",
    "                 pct_start: float = 0.2,\n",
    "                 steps_per_epoch: int = 100,\n",
    "                 div_factor: int = 1e3, \n",
    "                 final_div_factor: float = 1e3,\n",
    "                 ):\n",
    "        self.seed = seed\n",
    "        self.n_splits = n_splits\n",
    "        self.batch_size = batch_size\n",
    "        self.epochs = epochs\n",
    "        self.early_stopping = early_stopping\n",
    "        self.lr = lr\n",
    "        self.wd = wd\n",
    "        self.max_lr = max_lr\n",
    "        self.pct_start = pct_start\n",
    "        self.steps_per_epoch = steps_per_epoch\n",
    "        self.div_factor = div_factor\n",
    "        self.final_div_factor = final_div_factor\n",
    "        self.device = torch.device(\"cuda\" if torch.cuda.is_available() else \"cpu\")\n",
    "        \n",
    "        self.train_transform = transforms.Compose([\n",
    "            transforms.ToTensor(),\n",
    "            transforms.Normalize([0.49085, 0.48537, 0.45057], [0.24560, 0.24165, 0.26213]),\n",
    "            transforms.RandomAffine(degrees=(-45, 45), translate=(0.15, 0.15), scale=(0.5, 1.5)),\n",
    "            transforms.RandomHorizontalFlip(p=0.25),\n",
    "            transforms.RandomVerticalFlip(p=0.25),\n",
    "        ])\n",
    "        self.valid_transform = transforms.Compose([\n",
    "            transforms.ToTensor(),\n",
    "            transforms.Normalize([0.49085, 0.48537, 0.45057], [0.24560, 0.24165, 0.26213]),\n",
    "        ]) \n",
    "                                \n",
    "        self.save_path = \"saves\"\n",
    "        if not os.path.exists(self.save_path): os.makedirs(self.save_path)\n",
    "    \n",
    "cfg = CFG(\n",
    "    seed=SEED, \n",
    ")"
   ]
  },
  {
   "cell_type": "markdown",
   "id": "b355b922",
   "metadata": {
    "papermill": {
     "duration": 0.003463,
     "end_time": "2022-10-23T11:03:22.873425",
     "exception": false,
     "start_time": "2022-10-23T11:03:22.869962",
     "status": "completed"
    },
    "tags": []
   },
   "source": [
    "### **Dataset Template**"
   ]
  },
  {
   "cell_type": "code",
   "execution_count": 4,
   "id": "9d3af234",
   "metadata": {
    "execution": {
     "iopub.execute_input": "2022-10-23T11:03:22.883648Z",
     "iopub.status.busy": "2022-10-23T11:03:22.881853Z",
     "iopub.status.idle": "2022-10-23T11:03:22.889419Z",
     "shell.execute_reply": "2022-10-23T11:03:22.888545Z"
    },
    "papermill": {
     "duration": 0.01449,
     "end_time": "2022-10-23T11:03:22.891498",
     "exception": false,
     "start_time": "2022-10-23T11:03:22.877008",
     "status": "completed"
    },
    "tags": []
   },
   "outputs": [],
   "source": [
    "class DS(Dataset):\n",
    "    def __init__(\n",
    "        self, \n",
    "        images: np.ndarray,\n",
    "        labels: Union[np.ndarray, None]=None, \n",
    "        transform=None\n",
    "    ):\n",
    "        \n",
    "        self.images = images\n",
    "        self.labels = labels\n",
    "        self.transform = transform\n",
    "    \n",
    "    def __len__(self):\n",
    "        return self.images.shape[0]\n",
    "    \n",
    "    def __getitem__(self, idx):\n",
    "        if self.labels is None:\n",
    "            return self.transform(self.images[idx])\n",
    "        return self.transform(self.images[idx]), torch.LongTensor(self.labels[idx])"
   ]
  },
  {
   "cell_type": "markdown",
   "id": "39d0c873",
   "metadata": {
    "papermill": {
     "duration": 0.003572,
     "end_time": "2022-10-23T11:03:22.898725",
     "exception": false,
     "start_time": "2022-10-23T11:03:22.895153",
     "status": "completed"
    },
    "tags": []
   },
   "source": [
    "### **Model**"
   ]
  },
  {
   "cell_type": "code",
   "execution_count": 5,
   "id": "e2fb4d03",
   "metadata": {
    "execution": {
     "iopub.execute_input": "2022-10-23T11:03:22.907823Z",
     "iopub.status.busy": "2022-10-23T11:03:22.907165Z",
     "iopub.status.idle": "2022-10-23T11:03:22.925356Z",
     "shell.execute_reply": "2022-10-23T11:03:22.924520Z"
    },
    "papermill": {
     "duration": 0.025143,
     "end_time": "2022-10-23T11:03:22.927463",
     "exception": false,
     "start_time": "2022-10-23T11:03:22.902320",
     "status": "completed"
    },
    "tags": []
   },
   "outputs": [],
   "source": [
    "class Model(nn.Module):\n",
    "    def __init__(self, filter_sizes: list=[64, 128, 256, 512], HLs: list=[], DP: float=None):\n",
    "\n",
    "        super(Model, self).__init__()\n",
    "\n",
    "        self.encoder = nn.Sequential()\n",
    "        self.encoder.add_module(\"CN1\", nn.Conv2d(in_channels=3, out_channels=filter_sizes[0], kernel_size=(3, 3), stride=(1, 1), padding=(1, 1)))\n",
    "        self.encoder.add_module(\"BN1\", nn.BatchNorm2d(num_features=filter_sizes[0], eps=1e-5))\n",
    "        self.encoder.add_module(\"AN1\", nn.ReLU())\n",
    "        self.encoder.add_module(\"MP1\", nn.MaxPool2d(kernel_size=(2, 2)))\n",
    "        self.encoder.add_module(\"CN2\", nn.Conv2d(in_channels=filter_sizes[0], out_channels=filter_sizes[1], kernel_size=(3, 3), stride=(1, 1), padding=(1, 1)))\n",
    "        self.encoder.add_module(\"BN2\", nn.BatchNorm2d(num_features=filter_sizes[1], eps=1e-5))\n",
    "        self.encoder.add_module(\"AN2\", nn.ReLU())\n",
    "        self.encoder.add_module(\"MP2\", nn.MaxPool2d(kernel_size=(2, 2)))\n",
    "        self.encoder.add_module(\"CN3\", nn.Conv2d(in_channels=filter_sizes[1], out_channels=filter_sizes[2], kernel_size=(3, 3), stride=(1, 1), padding=(1, 1)))\n",
    "        self.encoder.add_module(\"BN3\", nn.BatchNorm2d(num_features=filter_sizes[2], eps=1e-5))\n",
    "        self.encoder.add_module(\"AN3\", nn.ReLU())\n",
    "        self.encoder.add_module(\"MP3\", nn.MaxPool2d(kernel_size=(2, 2)))\n",
    "\n",
    "        self.classifier = nn.Sequential()\n",
    "        if len(HLs) == 0:\n",
    "            self.classifier.add_module(\"FC1\", nn.Linear(in_features=filter_sizes[2]*4*4, out_features=5))\n",
    "        elif len(HLs) == 1:\n",
    "            self.classifier.add_module(\"FC1\", nn.Linear(in_features=filter_sizes[2]*4*4, out_features=HLs[0]))\n",
    "            self.classifier.add_module(\"AN1\", nn.ReLU())\n",
    "            if DP:\n",
    "                self.classifier.add_module(\"DP1\", nn.Dropout(p=DP))\n",
    "            self.classifier.add_module(\"FC2\", nn.Linear(in_features=HLs[0], out_features=5))\n",
    "        elif len(HLs) == 2:\n",
    "            self.classifier.add_module(\"FC1\", nn.Linear(in_features=filter_sizes[2]*4*4, out_features=HLs[0]))\n",
    "            self.classifier.add_module(\"AN1\", nn.ReLU())\n",
    "            if DP:\n",
    "                self.classifier.add_module(\"DP1\", nn.Dropout(p=DP))\n",
    "            self.classifier.add_module(\"FC2\", nn.Linear(in_features=HLs[0], out_features=HLs[1]))\n",
    "            self.classifier.add_module(\"AN2\", nn.ReLU())\n",
    "            if DP:\n",
    "                self.classifier.add_module(\"DP2\", nn.Dropout(p=DP))\n",
    "            self.classifier.add_module(\"FC3\", nn.Linear(in_features=HLs[1], out_features=5))\n",
    "    \n",
    "    def forward(self, x):\n",
    "        x = self.encoder(x)\n",
    "        x = x.view(x.shape[0], -1)\n",
    "        return nn.LogSoftmax(dim=1)(self.classifier(x))"
   ]
  },
  {
   "cell_type": "markdown",
   "id": "21e715ed",
   "metadata": {
    "papermill": {
     "duration": 0.003428,
     "end_time": "2022-10-23T11:03:22.934558",
     "exception": false,
     "start_time": "2022-10-23T11:03:22.931130",
     "status": "completed"
    },
    "tags": []
   },
   "source": [
    "### **Fit and Predict**"
   ]
  },
  {
   "cell_type": "code",
   "execution_count": 6,
   "id": "dd7c958a",
   "metadata": {
    "execution": {
     "iopub.execute_input": "2022-10-23T11:03:22.943108Z",
     "iopub.status.busy": "2022-10-23T11:03:22.942822Z",
     "iopub.status.idle": "2022-10-23T11:03:22.966078Z",
     "shell.execute_reply": "2022-10-23T11:03:22.965258Z"
    },
    "papermill": {
     "duration": 0.030002,
     "end_time": "2022-10-23T11:03:22.968060",
     "exception": false,
     "start_time": "2022-10-23T11:03:22.938058",
     "status": "completed"
    },
    "tags": []
   },
   "outputs": [],
   "source": [
    "def fit(\n",
    "    model=None,\n",
    "    optimizer=None, \n",
    "    scheduler_rlrop=None,\n",
    "    scheduler_oclr=None,\n",
    "    epochs=None, \n",
    "    early_stopping_patience=None, \n",
    "    dataloaders=None, \n",
    "    fold=None, \n",
    "    save_path=None,\n",
    "    device=None,\n",
    "    verbose=False\n",
    ") -> tuple:\n",
    "    \n",
    "    def get_accuracy(y_pred, y_true):\n",
    "        y_pred = torch.argmax(y_pred, dim=1)\n",
    "        return torch.count_nonzero(y_pred == y_true).item() / len(y_pred)\n",
    "    \n",
    "    if verbose:\n",
    "        breaker()\n",
    "        if fold: print(f\"Training Fold {fold}...\")\n",
    "        else: print(\"Training ...\")\n",
    "        breaker()\n",
    "        \n",
    "    bestLoss: dict = {\"train\" : np.inf, \"valid\" : np.inf} \n",
    "    bestAccs: dict = {\"train\" : 0.0, \"valid\" : 0.0}\n",
    "        \n",
    "    Losses: list = []\n",
    "    Accuracies: list = [] \n",
    "    LRs: list = []\n",
    "        \n",
    "    if fold: \n",
    "        ble_name = f\"ble_state_fold_{fold}.pt\"\n",
    "        bae_name = f\"bae_state_fold_{fold}.pt\"\n",
    "    else: \n",
    "        ble_name = f\"ble_state.pt\"\n",
    "        bae_name = f\"bae_state.pt\"\n",
    "    \n",
    "    start_time = time()\n",
    "    for e in range(epochs):\n",
    "        e_st = time()\n",
    "        epochLoss: dict = {\"train\" : 0.0, \"valid\" : 0.0} \n",
    "        epochAccs: dict = {\"train\" : 0.0, \"valid\" : 0.0}\n",
    "\n",
    "        for phase in [\"train\", \"valid\"]:\n",
    "            if phase == \"train\":\n",
    "                model.train()\n",
    "            else:\n",
    "                model.eval()\n",
    "            \n",
    "            lossPerPass: list = []\n",
    "            accsPerPass: list = []\n",
    "                \n",
    "            for X, y in dataloaders[phase]:\n",
    "                X, y = X.to(device), y.to(device).view(-1)\n",
    "\n",
    "                optimizer.zero_grad()\n",
    "                with torch.set_grad_enabled(phase == \"train\"):\n",
    "                    output = model(X)\n",
    "                    loss = torch.nn.NLLLoss()(output, y)\n",
    "                    if phase == \"train\":\n",
    "                        loss.backward()\n",
    "                        optimizer.step()\n",
    "                        if scheduler_oclr: scheduler_oclr.step()\n",
    "                lossPerPass.append(loss.item())\n",
    "                accsPerPass.append(get_accuracy(output, y))\n",
    "            epochLoss[phase] = np.mean(np.array(lossPerPass))\n",
    "            epochAccs[phase] = np.mean(np.array(accsPerPass))\n",
    "        if scheduler_oclr: LRs.append(scheduler_oclr.get_last_lr())\n",
    "        Losses.append(epochLoss)\n",
    "        Accuracies.append(epochAccs)\n",
    "    \n",
    "        if scheduler_oclr:\n",
    "            save_dict = {\"model_state_dict\"     : model.state_dict(),\n",
    "                         \"optim_state_dict\"     : optimizer.state_dict(),\n",
    "                         \"scheduler_state_dict\" : scheduler_oclr.state_dict()}\n",
    "        \n",
    "        elif scheduler_rlrop:\n",
    "            save_dict = {\"model_state_dict\"     : model.state_dict(),\n",
    "                         \"optim_state_dict\"     : optimizer.state_dict(),\n",
    "                         \"scheduler_state_dict\" : scheduler_rlrop.state_dict()}\n",
    "        \n",
    "        else:\n",
    "            save_dict = {\"model_state_dict\"     : model.state_dict(),\n",
    "                         \"optim_state_dict\"     : optimizer.state_dict()}\n",
    "        \n",
    "        \n",
    "        if early_stopping_patience:\n",
    "            if epochLoss[\"valid\"] < bestLoss[\"valid\"]:\n",
    "                bestLoss = epochLoss\n",
    "                BLE = e + 1\n",
    "                torch.save(save_dict, os.path.join(save_path, ble_name))\n",
    "                torch.save(save_dict, os.path.join(save_path, bae_name))\n",
    "                early_stopping_step = 0\n",
    "            else:\n",
    "                early_stopping_step += 1\n",
    "                if early_stopping_step > early_stopping_patience:\n",
    "                    print(\"\\nEarly Stopping at Epoch {}\".format(e + 1))\n",
    "                    break\n",
    "        \n",
    "        if epochLoss[\"valid\"] < bestLoss[\"valid\"]:\n",
    "            bestLoss = epochLoss\n",
    "            BLE = e + 1\n",
    "            torch.save(save_dict,os.path.join(save_path, ble_name))\n",
    "        \n",
    "        if epochAccs[\"valid\"] > bestAccs[\"valid\"]:\n",
    "            bestAccs = epochAccs\n",
    "            BAE = e + 1\n",
    "            torch.save(save_dict,os.path.join(save_path, bae_name))\n",
    "        \n",
    "        if scheduler_rlrop: scheduler_rlrop.step(epochLoss[\"valid\"])\n",
    "        \n",
    "        if verbose:\n",
    "            print(\"Epoch: {} | Train Loss: {:.5f} | Valid Loss: {:.5f} |\\\n",
    " Train Accs: {:.5f} | Valid Accs: {:.5f} | Time: {:.2f} seconds\".format(e+1, \n",
    "                                                                        epochLoss[\"train\"], epochLoss[\"valid\"], \n",
    "                                                                        epochAccs[\"train\"], epochAccs[\"valid\"], \n",
    "                                                                        time()-e_st))\n",
    "\n",
    "    if verbose:                                           \n",
    "        breaker()\n",
    "        print(f\"Best Validation Loss at Epoch {BLE}\")\n",
    "        breaker()\n",
    "        print(f\"Best Validation Accs at Epoch {BAE}\")\n",
    "        breaker()\n",
    "        print(\"Time Taken [{} Epochs] : {:.2f} minutes\".format(len(Losses), (time()-start_time)/60))\n",
    "    \n",
    "    return Losses, Accuracies, LRs, bestLoss, bestAccs, BLE, BAE, ble_name, bae_name\n",
    "\n",
    "\n",
    "def predict_batch(model=None, dataloader=None, path=None, device=None) -> np.ndarray:\n",
    "    model.load_state_dict(torch.load(path, map_location=device)[\"model_state_dict\"])\n",
    "    model.to(device)    \n",
    "    model.eval()\n",
    "    \n",
    "    y_pred = torch.zeros(1, 1).to(device)\n",
    "    \n",
    "    for X in dataloader:\n",
    "        X = X.to(device)\n",
    "        with torch.no_grad():\n",
    "            output = torch.argmax(torch.exp(model(X)), dim=1)\n",
    "        y_pred = torch.cat((y_pred, output.view(-1, 1)), dim=0)\n",
    "    \n",
    "    return y_pred[1:].detach().cpu().numpy()"
   ]
  },
  {
   "cell_type": "markdown",
   "id": "1aaa2da8",
   "metadata": {
    "papermill": {
     "duration": 0.003413,
     "end_time": "2022-10-23T11:03:22.975140",
     "exception": false,
     "start_time": "2022-10-23T11:03:22.971727",
     "status": "completed"
    },
    "tags": []
   },
   "source": [
    "### **Train**"
   ]
  },
  {
   "cell_type": "code",
   "execution_count": 7,
   "id": "474a9ed2",
   "metadata": {
    "execution": {
     "iopub.execute_input": "2022-10-23T11:03:22.983410Z",
     "iopub.status.busy": "2022-10-23T11:03:22.983142Z",
     "iopub.status.idle": "2022-10-23T11:03:23.516549Z",
     "shell.execute_reply": "2022-10-23T11:03:23.515538Z"
    },
    "papermill": {
     "duration": 0.540277,
     "end_time": "2022-10-23T11:03:23.518984",
     "exception": false,
     "start_time": "2022-10-23T11:03:22.978707",
     "status": "completed"
    },
    "tags": []
   },
   "outputs": [],
   "source": [
    "images = np.load(\"../input/icc-ml-2022a/DATA/TaskB/train_images_B.npy\")\n",
    "labels = np.load(\"../input/icc-ml-2022a/DATA/TaskB/train_labels_B.npy\")"
   ]
  },
  {
   "cell_type": "code",
   "execution_count": 8,
   "id": "3a7f0673",
   "metadata": {
    "execution": {
     "iopub.execute_input": "2022-10-23T11:03:23.528135Z",
     "iopub.status.busy": "2022-10-23T11:03:23.527830Z",
     "iopub.status.idle": "2022-10-23T11:34:20.948411Z",
     "shell.execute_reply": "2022-10-23T11:34:20.947538Z"
    },
    "papermill": {
     "duration": 1857.428435,
     "end_time": "2022-10-23T11:34:20.951388",
     "exception": false,
     "start_time": "2022-10-23T11:03:23.522953",
     "status": "completed"
    },
    "tags": []
   },
   "outputs": [
    {
     "name": "stdout",
     "output_type": "stream",
     "text": [
      "\n",
      "**************************************************\n",
      "\n",
      "Training Fold 1...\n",
      "\n",
      "**************************************************\n",
      "\n",
      "Epoch: 1 | Train Loss: 1.39243 | Valid Loss: 0.99346 | Train Accs: 0.40630 | Valid Accs: 0.61828 | Time: 21.62 seconds\n",
      "Epoch: 2 | Train Loss: 1.13140 | Valid Loss: 0.89468 | Train Accs: 0.55491 | Valid Accs: 0.66199 | Time: 14.22 seconds\n",
      "Epoch: 3 | Train Loss: 1.07073 | Valid Loss: 0.98408 | Train Accs: 0.59056 | Valid Accs: 0.62381 | Time: 15.63 seconds\n",
      "Epoch: 4 | Train Loss: 1.05106 | Valid Loss: 1.12694 | Train Accs: 0.60598 | Valid Accs: 0.59612 | Time: 14.34 seconds\n",
      "Epoch: 5 | Train Loss: 0.98308 | Valid Loss: 0.76314 | Train Accs: 0.63568 | Valid Accs: 0.72468 | Time: 15.21 seconds\n",
      "Epoch: 6 | Train Loss: 0.93942 | Valid Loss: 0.83837 | Train Accs: 0.65470 | Valid Accs: 0.70629 | Time: 14.57 seconds\n",
      "Epoch: 7 | Train Loss: 0.89469 | Valid Loss: 0.69199 | Train Accs: 0.67227 | Valid Accs: 0.76009 | Time: 14.93 seconds\n",
      "Epoch: 8 | Train Loss: 0.84788 | Valid Loss: 0.70867 | Train Accs: 0.69035 | Valid Accs: 0.76543 | Time: 14.43 seconds\n",
      "Epoch: 9 | Train Loss: 0.83105 | Valid Loss: 0.67920 | Train Accs: 0.69943 | Valid Accs: 0.76464 | Time: 14.73 seconds\n",
      "Epoch: 10 | Train Loss: 0.79829 | Valid Loss: 0.67793 | Train Accs: 0.71366 | Valid Accs: 0.77828 | Time: 15.03 seconds\n",
      "Epoch: 11 | Train Loss: 0.78272 | Valid Loss: 0.66274 | Train Accs: 0.71810 | Valid Accs: 0.76938 | Time: 14.70 seconds\n",
      "Epoch: 12 | Train Loss: 0.76019 | Valid Loss: 0.61461 | Train Accs: 0.72948 | Valid Accs: 0.79074 | Time: 15.28 seconds\n",
      "Epoch: 13 | Train Loss: 0.73355 | Valid Loss: 0.61065 | Train Accs: 0.73992 | Valid Accs: 0.79707 | Time: 14.32 seconds\n",
      "Epoch: 14 | Train Loss: 0.72065 | Valid Loss: 0.56790 | Train Accs: 0.74381 | Valid Accs: 0.80657 | Time: 14.96 seconds\n",
      "Epoch: 15 | Train Loss: 0.69430 | Valid Loss: 0.56515 | Train Accs: 0.76038 | Valid Accs: 0.80953 | Time: 14.95 seconds\n",
      "Epoch: 16 | Train Loss: 0.68227 | Valid Loss: 0.51271 | Train Accs: 0.76043 | Valid Accs: 0.83525 | Time: 15.06 seconds\n",
      "Epoch: 17 | Train Loss: 0.66688 | Valid Loss: 0.51894 | Train Accs: 0.76493 | Valid Accs: 0.82931 | Time: 14.46 seconds\n",
      "Epoch: 18 | Train Loss: 0.64568 | Valid Loss: 0.56618 | Train Accs: 0.77626 | Valid Accs: 0.80676 | Time: 15.26 seconds\n",
      "Epoch: 19 | Train Loss: 0.63586 | Valid Loss: 0.50297 | Train Accs: 0.78010 | Valid Accs: 0.82931 | Time: 14.31 seconds\n",
      "Epoch: 20 | Train Loss: 0.61579 | Valid Loss: 0.48923 | Train Accs: 0.78554 | Valid Accs: 0.84039 | Time: 15.19 seconds\n",
      "Epoch: 21 | Train Loss: 0.60247 | Valid Loss: 0.46765 | Train Accs: 0.79278 | Valid Accs: 0.84988 | Time: 14.43 seconds\n",
      "Epoch: 22 | Train Loss: 0.59178 | Valid Loss: 0.46640 | Train Accs: 0.79643 | Valid Accs: 0.85403 | Time: 15.13 seconds\n",
      "Epoch: 23 | Train Loss: 0.58046 | Valid Loss: 0.46061 | Train Accs: 0.80401 | Valid Accs: 0.85206 | Time: 14.77 seconds\n",
      "Epoch: 24 | Train Loss: 0.58008 | Valid Loss: 0.45968 | Train Accs: 0.80002 | Valid Accs: 0.85581 | Time: 15.22 seconds\n",
      "Epoch: 25 | Train Loss: 0.58064 | Valid Loss: 0.46129 | Train Accs: 0.80247 | Valid Accs: 0.85245 | Time: 14.50 seconds\n",
      "\n",
      "**************************************************\n",
      "\n",
      "Best Validation Loss at Epoch 24\n",
      "\n",
      "**************************************************\n",
      "\n",
      "Best Validation Accs at Epoch 24\n",
      "\n",
      "**************************************************\n",
      "\n",
      "Time Taken [25 Epochs] : 6.29 minutes\n",
      "\n",
      "**************************************************\n",
      "\n"
     ]
    },
    {
     "data": {
      "image/png": "[encoded data removed]",
      "text/plain": [
       "<Figure size 432x288 with 1 Axes>"
      ]
     },
     "metadata": {
      "needs_background": "light"
     },
     "output_type": "display_data"
    },
    {
     "name": "stdout",
     "output_type": "stream",
     "text": [
      "\n",
      "**************************************************\n",
      "\n"
     ]
    },
    {
     "data": {
      "image/png": "[encoded data removed]",
      "text/plain": [
       "<Figure size 432x288 with 1 Axes>"
      ]
     },
     "metadata": {
      "needs_background": "light"
     },
     "output_type": "display_data"
    },
    {
     "name": "stdout",
     "output_type": "stream",
     "text": [
      "\n",
      "**************************************************\n",
      "\n"
     ]
    },
    {
     "data": {
      "image/png": "[encoded data removed]",
      "text/plain": [
       "<Figure size 576x432 with 1 Axes>"
      ]
     },
     "metadata": {
      "needs_background": "light"
     },
     "output_type": "display_data"
    },
    {
     "name": "stdout",
     "output_type": "stream",
     "text": [
      "\n",
      "**************************************************\n",
      "\n",
      "\n",
      "**************************************************\n",
      "\n",
      "Training Fold 2...\n",
      "\n",
      "**************************************************\n",
      "\n",
      "Epoch: 1 | Train Loss: 1.38822 | Valid Loss: 1.00420 | Train Accs: 0.40725 | Valid Accs: 0.63647 | Time: 15.22 seconds\n",
      "Epoch: 2 | Train Loss: 1.11417 | Valid Loss: 1.00038 | Train Accs: 0.56624 | Valid Accs: 0.62836 | Time: 14.42 seconds\n",
      "Epoch: 3 | Train Loss: 1.07368 | Valid Loss: 0.83854 | Train Accs: 0.59031 | Valid Accs: 0.69066 | Time: 14.69 seconds\n",
      "Epoch: 4 | Train Loss: 1.03392 | Valid Loss: 0.81734 | Train Accs: 0.61222 | Valid Accs: 0.71361 | Time: 15.05 seconds\n",
      "Epoch: 5 | Train Loss: 0.99396 | Valid Loss: 0.76540 | Train Accs: 0.63683 | Valid Accs: 0.72350 | Time: 14.51 seconds\n",
      "Epoch: 6 | Train Loss: 0.92724 | Valid Loss: 0.79016 | Train Accs: 0.65745 | Valid Accs: 0.71816 | Time: 14.82 seconds\n",
      "Epoch: 7 | Train Loss: 0.88846 | Valid Loss: 0.66065 | Train Accs: 0.67807 | Valid Accs: 0.77967 | Time: 14.77 seconds\n",
      "Epoch: 8 | Train Loss: 0.85442 | Valid Loss: 0.68526 | Train Accs: 0.68935 | Valid Accs: 0.76820 | Time: 14.84 seconds\n",
      "Epoch: 9 | Train Loss: 0.83408 | Valid Loss: 0.69080 | Train Accs: 0.69639 | Valid Accs: 0.76167 | Time: 14.35 seconds\n",
      "Epoch: 10 | Train Loss: 0.79493 | Valid Loss: 0.69007 | Train Accs: 0.71401 | Valid Accs: 0.77275 | Time: 14.78 seconds\n",
      "Epoch: 11 | Train Loss: 0.77417 | Valid Loss: 0.58650 | Train Accs: 0.72649 | Valid Accs: 0.80340 | Time: 15.22 seconds\n",
      "Epoch: 12 | Train Loss: 0.76434 | Valid Loss: 0.56800 | Train Accs: 0.72664 | Valid Accs: 0.81764 | Time: 15.02 seconds\n",
      "Epoch: 13 | Train Loss: 0.72708 | Valid Loss: 0.58349 | Train Accs: 0.74111 | Valid Accs: 0.78916 | Time: 14.52 seconds\n",
      "Epoch: 14 | Train Loss: 0.71891 | Valid Loss: 0.58934 | Train Accs: 0.74441 | Valid Accs: 0.79747 | Time: 14.87 seconds\n",
      "Epoch: 15 | Train Loss: 0.69845 | Valid Loss: 0.63413 | Train Accs: 0.75799 | Valid Accs: 0.78877 | Time: 14.58 seconds\n",
      "Epoch: 16 | Train Loss: 0.67863 | Valid Loss: 0.53895 | Train Accs: 0.76378 | Valid Accs: 0.82259 | Time: 14.93 seconds\n",
      "Epoch: 17 | Train Loss: 0.65843 | Valid Loss: 0.52893 | Train Accs: 0.76862 | Valid Accs: 0.82595 | Time: 14.38 seconds\n",
      "Epoch: 18 | Train Loss: 0.64357 | Valid Loss: 0.50764 | Train Accs: 0.77311 | Valid Accs: 0.83445 | Time: 14.53 seconds\n",
      "Epoch: 19 | Train Loss: 0.63068 | Valid Loss: 0.48791 | Train Accs: 0.78155 | Valid Accs: 0.84256 | Time: 15.35 seconds\n",
      "Epoch: 20 | Train Loss: 0.61569 | Valid Loss: 0.46958 | Train Accs: 0.78579 | Valid Accs: 0.85008 | Time: 14.77 seconds\n",
      "Epoch: 21 | Train Loss: 0.59961 | Valid Loss: 0.50201 | Train Accs: 0.79303 | Valid Accs: 0.83564 | Time: 14.65 seconds\n",
      "Epoch: 22 | Train Loss: 0.59272 | Valid Loss: 0.46138 | Train Accs: 0.79573 | Valid Accs: 0.85225 | Time: 14.51 seconds\n",
      "Epoch: 23 | Train Loss: 0.58350 | Valid Loss: 0.46099 | Train Accs: 0.80207 | Valid Accs: 0.85146 | Time: 14.75 seconds\n",
      "Epoch: 24 | Train Loss: 0.57664 | Valid Loss: 0.46408 | Train Accs: 0.80426 | Valid Accs: 0.84988 | Time: 14.61 seconds\n",
      "Epoch: 25 | Train Loss: 0.57519 | Valid Loss: 0.46113 | Train Accs: 0.80316 | Valid Accs: 0.85265 | Time: 14.85 seconds\n",
      "\n",
      "**************************************************\n",
      "\n",
      "Best Validation Loss at Epoch 23\n",
      "\n",
      "**************************************************\n",
      "\n",
      "Best Validation Accs at Epoch 25\n",
      "\n",
      "**************************************************\n",
      "\n",
      "Time Taken [25 Epochs] : 6.15 minutes\n",
      "\n",
      "**************************************************\n",
      "\n"
     ]
    },
    {
     "data": {
      "image/png": "[encoded data removed]",
      "text/plain": [
       "<Figure size 432x288 with 1 Axes>"
      ]
     },
     "metadata": {
      "needs_background": "light"
     },
     "output_type": "display_data"
    },
    {
     "name": "stdout",
     "output_type": "stream",
     "text": [
      "\n",
      "**************************************************\n",
      "\n"
     ]
    },
    {
     "data": {
      "image/png": "[encoded data removed]",
      "text/plain": [
       "<Figure size 432x288 with 1 Axes>"
      ]
     },
     "metadata": {
      "needs_background": "light"
     },
     "output_type": "display_data"
    },
    {
     "name": "stdout",
     "output_type": "stream",
     "text": [
      "\n",
      "**************************************************\n",
      "\n"
     ]
    },
    {
     "data": {
      "image/png": "[encoded data removed]",
      "text/plain": [
       "<Figure size 576x432 with 1 Axes>"
      ]
     },
     "metadata": {
      "needs_background": "light"
     },
     "output_type": "display_data"
    },
    {
     "name": "stdout",
     "output_type": "stream",
     "text": [
      "\n",
      "**************************************************\n",
      "\n",
      "\n",
      "**************************************************\n",
      "\n",
      "Training Fold 3...\n",
      "\n",
      "**************************************************\n",
      "\n",
      "Epoch: 1 | Train Loss: 1.38908 | Valid Loss: 0.98278 | Train Accs: 0.41134 | Valid Accs: 0.64597 | Time: 14.57 seconds\n",
      "Epoch: 2 | Train Loss: 1.12589 | Valid Loss: 1.01216 | Train Accs: 0.55526 | Valid Accs: 0.61491 | Time: 15.20 seconds\n",
      "Epoch: 3 | Train Loss: 1.06593 | Valid Loss: 1.01758 | Train Accs: 0.59250 | Valid Accs: 0.65091 | Time: 14.51 seconds\n",
      "Epoch: 4 | Train Loss: 1.04617 | Valid Loss: 0.76632 | Train Accs: 0.60643 | Valid Accs: 0.72172 | Time: 14.64 seconds\n",
      "Epoch: 5 | Train Loss: 0.98876 | Valid Loss: 0.81794 | Train Accs: 0.63309 | Valid Accs: 0.70312 | Time: 14.53 seconds\n",
      "Epoch: 6 | Train Loss: 0.93047 | Valid Loss: 0.75336 | Train Accs: 0.65810 | Valid Accs: 0.72547 | Time: 15.06 seconds\n",
      "Epoch: 7 | Train Loss: 0.89799 | Valid Loss: 0.84018 | Train Accs: 0.67272 | Valid Accs: 0.70392 | Time: 14.65 seconds\n",
      "Epoch: 8 | Train Loss: 0.84772 | Valid Loss: 0.65775 | Train Accs: 0.69164 | Valid Accs: 0.78046 | Time: 15.19 seconds\n",
      "Epoch: 9 | Train Loss: 0.82960 | Valid Loss: 0.60682 | Train Accs: 0.69579 | Valid Accs: 0.79648 | Time: 14.41 seconds\n",
      "Epoch: 10 | Train Loss: 0.80301 | Valid Loss: 0.57754 | Train Accs: 0.71046 | Valid Accs: 0.80222 | Time: 14.48 seconds\n",
      "Epoch: 11 | Train Loss: 0.78247 | Valid Loss: 0.65356 | Train Accs: 0.71915 | Valid Accs: 0.78204 | Time: 15.17 seconds\n",
      "Epoch: 12 | Train Loss: 0.76047 | Valid Loss: 0.58687 | Train Accs: 0.72933 | Valid Accs: 0.80063 | Time: 14.22 seconds\n",
      "Epoch: 13 | Train Loss: 0.72976 | Valid Loss: 0.60063 | Train Accs: 0.74186 | Valid Accs: 0.79549 | Time: 15.17 seconds\n",
      "Epoch: 14 | Train Loss: 0.73522 | Valid Loss: 0.55312 | Train Accs: 0.73827 | Valid Accs: 0.82456 | Time: 14.84 seconds\n",
      "Epoch: 15 | Train Loss: 0.70498 | Valid Loss: 0.58635 | Train Accs: 0.75240 | Valid Accs: 0.81052 | Time: 14.77 seconds\n",
      "Epoch: 16 | Train Loss: 0.68018 | Valid Loss: 0.56858 | Train Accs: 0.76178 | Valid Accs: 0.81685 | Time: 14.49 seconds\n",
      "Epoch: 17 | Train Loss: 0.66490 | Valid Loss: 0.49579 | Train Accs: 0.76607 | Valid Accs: 0.84019 | Time: 15.38 seconds\n",
      "Epoch: 18 | Train Loss: 0.65381 | Valid Loss: 0.47987 | Train Accs: 0.77187 | Valid Accs: 0.84415 | Time: 14.52 seconds\n",
      "Epoch: 19 | Train Loss: 0.63459 | Valid Loss: 0.46176 | Train Accs: 0.77975 | Valid Accs: 0.85186 | Time: 14.82 seconds\n",
      "Epoch: 20 | Train Loss: 0.62306 | Valid Loss: 0.47678 | Train Accs: 0.78499 | Valid Accs: 0.84355 | Time: 14.63 seconds\n",
      "Epoch: 21 | Train Loss: 0.60318 | Valid Loss: 0.45726 | Train Accs: 0.79303 | Valid Accs: 0.86135 | Time: 14.80 seconds\n",
      "Epoch: 22 | Train Loss: 0.60395 | Valid Loss: 0.45177 | Train Accs: 0.79603 | Valid Accs: 0.85265 | Time: 14.56 seconds\n",
      "Epoch: 23 | Train Loss: 0.58444 | Valid Loss: 0.44482 | Train Accs: 0.80316 | Valid Accs: 0.85700 | Time: 15.11 seconds\n",
      "Epoch: 24 | Train Loss: 0.58499 | Valid Loss: 0.44602 | Train Accs: 0.79842 | Valid Accs: 0.85799 | Time: 14.50 seconds\n",
      "Epoch: 25 | Train Loss: 0.58248 | Valid Loss: 0.44630 | Train Accs: 0.80237 | Valid Accs: 0.85661 | Time: 14.93 seconds\n",
      "\n",
      "**************************************************\n",
      "\n",
      "Best Validation Loss at Epoch 23\n",
      "\n",
      "**************************************************\n",
      "\n",
      "Best Validation Accs at Epoch 21\n",
      "\n",
      "**************************************************\n",
      "\n",
      "Time Taken [25 Epochs] : 6.15 minutes\n",
      "\n",
      "**************************************************\n",
      "\n"
     ]
    },
    {
     "data": {
      "image/png": "[encoded data removed]",
      "text/plain": [
       "<Figure size 432x288 with 1 Axes>"
      ]
     },
     "metadata": {
      "needs_background": "light"
     },
     "output_type": "display_data"
    },
    {
     "name": "stdout",
     "output_type": "stream",
     "text": [
      "\n",
      "**************************************************\n",
      "\n"
     ]
    },
    {
     "data": {
      "image/png": "[encoded data removed]",
      "text/plain": [
       "<Figure size 432x288 with 1 Axes>"
      ]
     },
     "metadata": {
      "needs_background": "light"
     },
     "output_type": "display_data"
    },
    {
     "name": "stdout",
     "output_type": "stream",
     "text": [
      "\n",
      "**************************************************\n",
      "\n"
     ]
    },
    {
     "data": {
      "image/png": "[encoded data removed]",
      "text/plain": [
       "<Figure size 576x432 with 1 Axes>"
      ]
     },
     "metadata": {
      "needs_background": "light"
     },
     "output_type": "display_data"
    },
    {
     "name": "stdout",
     "output_type": "stream",
     "text": [
      "\n",
      "**************************************************\n",
      "\n",
      "\n",
      "**************************************************\n",
      "\n",
      "Training Fold 4...\n",
      "\n",
      "**************************************************\n",
      "\n",
      "Epoch: 1 | Train Loss: 1.38884 | Valid Loss: 0.96055 | Train Accs: 0.40905 | Valid Accs: 0.63904 | Time: 15.18 seconds\n",
      "Epoch: 2 | Train Loss: 1.12461 | Valid Loss: 0.94878 | Train Accs: 0.56235 | Valid Accs: 0.64834 | Time: 15.04 seconds\n",
      "Epoch: 3 | Train Loss: 1.06325 | Valid Loss: 0.79728 | Train Accs: 0.59130 | Valid Accs: 0.71697 | Time: 14.74 seconds\n",
      "Epoch: 4 | Train Loss: 1.04085 | Valid Loss: 0.81084 | Train Accs: 0.61152 | Valid Accs: 0.70827 | Time: 14.12 seconds\n",
      "Epoch: 5 | Train Loss: 0.98937 | Valid Loss: 0.87373 | Train Accs: 0.62994 | Valid Accs: 0.68513 | Time: 14.90 seconds\n",
      "Epoch: 6 | Train Loss: 0.92876 | Valid Loss: 0.76729 | Train Accs: 0.65790 | Valid Accs: 0.73022 | Time: 14.79 seconds\n",
      "Epoch: 7 | Train Loss: 0.88572 | Valid Loss: 0.85355 | Train Accs: 0.67397 | Valid Accs: 0.69620 | Time: 14.89 seconds\n",
      "Epoch: 8 | Train Loss: 0.85878 | Valid Loss: 0.62876 | Train Accs: 0.68985 | Valid Accs: 0.79292 | Time: 14.17 seconds\n",
      "Epoch: 9 | Train Loss: 0.83305 | Valid Loss: 0.66670 | Train Accs: 0.69604 | Valid Accs: 0.77235 | Time: 15.07 seconds\n",
      "Epoch: 10 | Train Loss: 0.78666 | Valid Loss: 0.61699 | Train Accs: 0.71486 | Valid Accs: 0.79767 | Time: 14.32 seconds\n",
      "Epoch: 11 | Train Loss: 0.78142 | Valid Loss: 0.66273 | Train Accs: 0.72035 | Valid Accs: 0.77334 | Time: 14.93 seconds\n",
      "Epoch: 12 | Train Loss: 0.75203 | Valid Loss: 0.57647 | Train Accs: 0.73083 | Valid Accs: 0.81072 | Time: 14.76 seconds\n",
      "Epoch: 13 | Train Loss: 0.73023 | Valid Loss: 0.53861 | Train Accs: 0.73917 | Valid Accs: 0.81922 | Time: 15.25 seconds\n",
      "Epoch: 14 | Train Loss: 0.71512 | Valid Loss: 0.56980 | Train Accs: 0.74456 | Valid Accs: 0.80874 | Time: 13.89 seconds\n",
      "Epoch: 15 | Train Loss: 0.69230 | Valid Loss: 0.52446 | Train Accs: 0.75809 | Valid Accs: 0.83267 | Time: 14.98 seconds\n",
      "Epoch: 16 | Train Loss: 0.66780 | Valid Loss: 0.53247 | Train Accs: 0.76558 | Valid Accs: 0.81725 | Time: 13.69 seconds\n",
      "Epoch: 17 | Train Loss: 0.66309 | Valid Loss: 0.51282 | Train Accs: 0.76997 | Valid Accs: 0.83188 | Time: 14.00 seconds\n",
      "Epoch: 18 | Train Loss: 0.63867 | Valid Loss: 0.48873 | Train Accs: 0.78065 | Valid Accs: 0.84197 | Time: 14.02 seconds\n",
      "Epoch: 19 | Train Loss: 0.62750 | Valid Loss: 0.49523 | Train Accs: 0.78210 | Valid Accs: 0.83940 | Time: 14.10 seconds\n",
      "Epoch: 20 | Train Loss: 0.61273 | Valid Loss: 0.46562 | Train Accs: 0.78829 | Valid Accs: 0.85562 | Time: 14.80 seconds\n",
      "Epoch: 21 | Train Loss: 0.59793 | Valid Loss: 0.45879 | Train Accs: 0.79418 | Valid Accs: 0.85285 | Time: 14.04 seconds\n",
      "Epoch: 22 | Train Loss: 0.58803 | Valid Loss: 0.45890 | Train Accs: 0.80007 | Valid Accs: 0.85285 | Time: 14.59 seconds\n",
      "Epoch: 23 | Train Loss: 0.58154 | Valid Loss: 0.45461 | Train Accs: 0.80207 | Valid Accs: 0.85799 | Time: 13.95 seconds\n",
      "Epoch: 24 | Train Loss: 0.57313 | Valid Loss: 0.46110 | Train Accs: 0.80536 | Valid Accs: 0.85364 | Time: 14.50 seconds\n",
      "Epoch: 25 | Train Loss: 0.57355 | Valid Loss: 0.45677 | Train Accs: 0.80137 | Valid Accs: 0.85700 | Time: 15.28 seconds\n",
      "\n",
      "**************************************************\n",
      "\n",
      "Best Validation Loss at Epoch 23\n",
      "\n",
      "**************************************************\n",
      "\n",
      "Best Validation Accs at Epoch 23\n",
      "\n",
      "**************************************************\n",
      "\n",
      "Time Taken [25 Epochs] : 6.07 minutes\n",
      "\n",
      "**************************************************\n",
      "\n"
     ]
    },
    {
     "data": {
      "image/png": "[encoded data removed]",
      "text/plain": [
       "<Figure size 432x288 with 1 Axes>"
      ]
     },
     "metadata": {
      "needs_background": "light"
     },
     "output_type": "display_data"
    },
    {
     "name": "stdout",
     "output_type": "stream",
     "text": [
      "\n",
      "**************************************************\n",
      "\n"
     ]
    },
    {
     "data": {
      "image/png": "[encoded data removed]",
      "text/plain": [
       "<Figure size 432x288 with 1 Axes>"
      ]
     },
     "metadata": {
      "needs_background": "light"
     },
     "output_type": "display_data"
    },
    {
     "name": "stdout",
     "output_type": "stream",
     "text": [
      "\n",
      "**************************************************\n",
      "\n"
     ]
    },
    {
     "data": {
      "image/png": "[encoded data removed]",
      "text/plain": [
       "<Figure size 576x432 with 1 Axes>"
      ]
     },
     "metadata": {
      "needs_background": "light"
     },
     "output_type": "display_data"
    },
    {
     "name": "stdout",
     "output_type": "stream",
     "text": [
      "\n",
      "**************************************************\n",
      "\n",
      "\n",
      "**************************************************\n",
      "\n",
      "Training Fold 5...\n",
      "\n",
      "**************************************************\n",
      "\n",
      "Epoch: 1 | Train Loss: 1.38737 | Valid Loss: 1.00124 | Train Accs: 0.41229 | Valid Accs: 0.63390 | Time: 15.67 seconds\n",
      "Epoch: 2 | Train Loss: 1.12621 | Valid Loss: 0.95352 | Train Accs: 0.55681 | Valid Accs: 0.64122 | Time: 14.96 seconds\n",
      "Epoch: 3 | Train Loss: 1.08155 | Valid Loss: 0.93936 | Train Accs: 0.58277 | Valid Accs: 0.64755 | Time: 16.23 seconds\n",
      "Epoch: 4 | Train Loss: 1.02681 | Valid Loss: 0.74484 | Train Accs: 0.61352 | Valid Accs: 0.74209 | Time: 15.08 seconds\n",
      "Epoch: 5 | Train Loss: 0.97702 | Valid Loss: 0.75432 | Train Accs: 0.63354 | Valid Accs: 0.74169 | Time: 15.58 seconds\n",
      "Epoch: 6 | Train Loss: 0.93576 | Valid Loss: 0.67341 | Train Accs: 0.65790 | Valid Accs: 0.77235 | Time: 14.99 seconds\n",
      "Epoch: 7 | Train Loss: 0.89669 | Valid Loss: 0.67492 | Train Accs: 0.67247 | Valid Accs: 0.76503 | Time: 14.71 seconds\n",
      "Epoch: 8 | Train Loss: 0.85847 | Valid Loss: 0.60989 | Train Accs: 0.68640 | Valid Accs: 0.79252 | Time: 15.09 seconds\n",
      "Epoch: 9 | Train Loss: 0.83209 | Valid Loss: 0.60042 | Train Accs: 0.69659 | Valid Accs: 0.79371 | Time: 15.34 seconds\n",
      "Epoch: 10 | Train Loss: 0.79881 | Valid Loss: 0.68059 | Train Accs: 0.71256 | Valid Accs: 0.76305 | Time: 14.53 seconds\n",
      "Epoch: 11 | Train Loss: 0.77539 | Valid Loss: 0.55573 | Train Accs: 0.72324 | Valid Accs: 0.81369 | Time: 14.66 seconds\n",
      "Epoch: 12 | Train Loss: 0.75609 | Valid Loss: 0.70812 | Train Accs: 0.73218 | Valid Accs: 0.76365 | Time: 14.84 seconds\n",
      "Epoch: 13 | Train Loss: 0.73704 | Valid Loss: 0.66210 | Train Accs: 0.73567 | Valid Accs: 0.77492 | Time: 14.60 seconds\n",
      "Epoch: 14 | Train Loss: 0.72576 | Valid Loss: 0.59841 | Train Accs: 0.74096 | Valid Accs: 0.79628 | Time: 14.77 seconds\n",
      "Epoch: 15 | Train Loss: 0.69924 | Valid Loss: 0.56527 | Train Accs: 0.74985 | Valid Accs: 0.81052 | Time: 14.36 seconds\n",
      "Epoch: 16 | Train Loss: 0.69175 | Valid Loss: 0.58994 | Train Accs: 0.75684 | Valid Accs: 0.79905 | Time: 14.94 seconds\n",
      "Epoch: 17 | Train Loss: 0.66431 | Valid Loss: 0.52976 | Train Accs: 0.76622 | Valid Accs: 0.82476 | Time: 14.65 seconds\n",
      "Epoch: 18 | Train Loss: 0.64769 | Valid Loss: 0.47270 | Train Accs: 0.77671 | Valid Accs: 0.84988 | Time: 14.62 seconds\n",
      "Epoch: 19 | Train Loss: 0.63149 | Valid Loss: 0.48453 | Train Accs: 0.78100 | Valid Accs: 0.83525 | Time: 14.31 seconds\n",
      "Epoch: 20 | Train Loss: 0.61352 | Valid Loss: 0.45038 | Train Accs: 0.79014 | Valid Accs: 0.85186 | Time: 14.96 seconds\n",
      "Epoch: 21 | Train Loss: 0.60001 | Valid Loss: 0.46482 | Train Accs: 0.79423 | Valid Accs: 0.84889 | Time: 14.48 seconds\n",
      "Epoch: 22 | Train Loss: 0.58605 | Valid Loss: 0.45866 | Train Accs: 0.79997 | Valid Accs: 0.85364 | Time: 14.55 seconds\n",
      "Epoch: 23 | Train Loss: 0.58962 | Valid Loss: 0.45664 | Train Accs: 0.80062 | Valid Accs: 0.84988 | Time: 14.66 seconds\n",
      "Epoch: 24 | Train Loss: 0.58156 | Valid Loss: 0.45176 | Train Accs: 0.80381 | Valid Accs: 0.85107 | Time: 14.78 seconds\n",
      "Epoch: 25 | Train Loss: 0.57632 | Valid Loss: 0.45416 | Train Accs: 0.80237 | Valid Accs: 0.85166 | Time: 14.45 seconds\n",
      "\n",
      "**************************************************\n",
      "\n",
      "Best Validation Loss at Epoch 20\n",
      "\n",
      "**************************************************\n",
      "\n",
      "Best Validation Accs at Epoch 22\n",
      "\n",
      "**************************************************\n",
      "\n",
      "Time Taken [25 Epochs] : 6.20 minutes\n",
      "\n",
      "**************************************************\n",
      "\n"
     ]
    },
    {
     "data": {
      "image/png": "[encoded data removed]",
      "text/plain": [
       "<Figure size 432x288 with 1 Axes>"
      ]
     },
     "metadata": {
      "needs_background": "light"
     },
     "output_type": "display_data"
    },
    {
     "name": "stdout",
     "output_type": "stream",
     "text": [
      "\n",
      "**************************************************\n",
      "\n"
     ]
    },
    {
     "data": {
      "image/png": "[encoded data removed]",
      "text/plain": [
       "<Figure size 432x288 with 1 Axes>"
      ]
     },
     "metadata": {
      "needs_background": "light"
     },
     "output_type": "display_data"
    },
    {
     "name": "stdout",
     "output_type": "stream",
     "text": [
      "\n",
      "**************************************************\n",
      "\n"
     ]
    },
    {
     "data": {
      "image/png": "[encoded data removed]",
      "text/plain": [
       "<Figure size 576x432 with 1 Axes>"
      ]
     },
     "metadata": {
      "needs_background": "light"
     },
     "output_type": "display_data"
    },
    {
     "name": "stdout",
     "output_type": "stream",
     "text": [
      "\n",
      "**************************************************\n",
      "\n"
     ]
    }
   ],
   "source": [
    "fold: int = 1\n",
    "BLs: list = []\n",
    "BAs: list = []\n",
    "\n",
    "# # Test \n",
    "# cfg.epochs = 2\n",
    "# cfg.n_splits = 3\n",
    "\n",
    "cfg.batch_size = 64\n",
    "    \n",
    "for tr_idx, va_idx in StratifiedKFold(n_splits=cfg.n_splits, random_state=cfg.seed, shuffle=True).split(images, labels):\n",
    "\n",
    "    tr_images, va_images = images[tr_idx], images[va_idx] \n",
    "    tr_labels, va_labels = labels[tr_idx], labels[va_idx]\n",
    "    \n",
    "    tr_data_setup = DS(\n",
    "        images=tr_images, \n",
    "        labels=tr_labels.reshape(-1, 1),\n",
    "        transform=cfg.train_transform\n",
    "    )\n",
    "    \n",
    "    va_data_setup = DS(\n",
    "        images=va_images, \n",
    "        labels=va_labels.reshape(-1, 1),\n",
    "        transform=cfg.valid_transform\n",
    "    )\n",
    "\n",
    "    dataloaders = {\n",
    "        \"train\" : DL(tr_data_setup, batch_size=cfg.batch_size, shuffle=True, generator=torch.manual_seed(cfg.seed)),\n",
    "        \"valid\" : DL(va_data_setup, batch_size=cfg.batch_size, shuffle=False),\n",
    "    }\n",
    "\n",
    "    cfg.steps_per_epoch = len(dataloaders[\"train\"])\n",
    "    \n",
    "    torch.manual_seed(cfg.seed)\n",
    "    model = Model(filter_sizes=[64, 128, 256]).to(cfg.device)\n",
    "\n",
    "    optimizer = optim.Adam([p for p in model.parameters() if p.requires_grad], lr=cfg.lr, weight_decay=cfg.wd)\n",
    "    # optimizer = optim.AdamW([p for p in model.parameters() if p.requires_grad], lr=cfg.lr, weight_decay=cfg.wd)\n",
    "    # optimizer = optim.SGD([p for p in model.parameters() if p.requires_grad], lr=cfg.lr, weight_decay=cfg.wd, momentum=0.9)\n",
    "    \n",
    "    scheduler_oclr = optim.lr_scheduler.OneCycleLR(\n",
    "        optimizer=optimizer, \n",
    "        max_lr=cfg.max_lr, \n",
    "        epochs=cfg.epochs, \n",
    "        steps_per_epoch=cfg.steps_per_epoch,\n",
    "        pct_start=cfg.pct_start, \n",
    "        div_factor=cfg.div_factor, \n",
    "        final_div_factor=cfg.final_div_factor\n",
    "    )\n",
    "\n",
    "    # scheduler_rlrop = optim.lr_scheduler.ReduceLROnPlateau(\n",
    "    #     optimizer=optimizer,\n",
    "    #     patience=cfg.patience,\n",
    "    #     eps=cfg.eps,\n",
    "    #     verbose=True\n",
    "    # )\n",
    "\n",
    "    # scheduler_oclr = None\n",
    "    scheduler_rlrop = None\n",
    "    \n",
    "    L, A, LR, BL, BA, _, _, _, _ = fit(\n",
    "        model=model, \n",
    "        optimizer=optimizer, \n",
    "        scheduler_oclr=scheduler_oclr,\n",
    "        scheduler_rlrop=scheduler_rlrop,\n",
    "        epochs=cfg.epochs, \n",
    "        early_stopping_patience=cfg.early_stopping, \n",
    "        dataloaders=dataloaders, \n",
    "        device=cfg.device,\n",
    "        save_path=cfg.save_path,\n",
    "        fold=fold,\n",
    "        verbose=True\n",
    "    )\n",
    "    \n",
    "    breaker()\n",
    "    show_loss_graphs(L)\n",
    "    breaker()\n",
    "    show_accuracy_graphs(A)\n",
    "    breaker()\n",
    "    if scheduler_oclr:\n",
    "        show_lr_graph(LR)\n",
    "        breaker()\n",
    "    \n",
    "    BLs.append(BL)\n",
    "    BAs.append(BA)\n",
    "    \n",
    "    fold += 1"
   ]
  },
  {
   "cell_type": "markdown",
   "id": "1f7bc833",
   "metadata": {
    "papermill": {
     "duration": 0.026386,
     "end_time": "2022-10-23T11:34:21.001903",
     "exception": false,
     "start_time": "2022-10-23T11:34:20.975517",
     "status": "completed"
    },
    "tags": []
   },
   "source": [
    "### **Best Model**"
   ]
  },
  {
   "cell_type": "code",
   "execution_count": 9,
   "id": "ce588a1e",
   "metadata": {
    "execution": {
     "iopub.execute_input": "2022-10-23T11:34:21.031233Z",
     "iopub.status.busy": "2022-10-23T11:34:21.030903Z",
     "iopub.status.idle": "2022-10-23T11:34:21.037772Z",
     "shell.execute_reply": "2022-10-23T11:34:21.036857Z"
    },
    "papermill": {
     "duration": 0.023908,
     "end_time": "2022-10-23T11:34:21.039812",
     "exception": false,
     "start_time": "2022-10-23T11:34:21.015904",
     "status": "completed"
    },
    "tags": []
   },
   "outputs": [
    {
     "name": "stdout",
     "output_type": "stream",
     "text": [
      "\n",
      "**************************************************\n",
      "\n",
      "Best Loss Model Fold     : 3\n",
      "Best Accuracy Model Fold : 3\n",
      "\n",
      "**************************************************\n",
      "\n"
     ]
    }
   ],
   "source": [
    "BL = np.inf\n",
    "for i in range(len(BLs)):\n",
    "    if BLs[i][\"valid\"] < BL:\n",
    "        BL = BLs[i][\"valid\"]\n",
    "        best_loss_index = i\n",
    "\n",
    "        \n",
    "BA = 0.0\n",
    "for i in range(len(BAs)):\n",
    "    if BAs[i][\"valid\"] > BA:\n",
    "        BA = BAs[i][\"valid\"]\n",
    "        best_accs_index = i\n",
    "\n",
    "breaker()\n",
    "print(f\"Best Loss Model Fold     : {best_loss_index + 1}\")\n",
    "print(f\"Best Accuracy Model Fold : {best_accs_index + 1}\")\n",
    "breaker()"
   ]
  }
 ],
 "metadata": {
  "kernelspec": {
   "display_name": "Python 3",
   "language": "python",
   "name": "python3"
  },
  "language_info": {
   "codemirror_mode": {
    "name": "ipython",
    "version": 3
   },
   "file_extension": ".py",
   "mimetype": "text/x-python",
   "name": "python",
   "nbconvert_exporter": "python",
   "pygments_lexer": "ipython3",
   "version": "3.7.12"
  },
  "papermill": {
   "default_parameters": {},
   "duration": 1871.223874,
   "end_time": "2022-10-23T11:34:23.219247",
   "environment_variables": {},
   "exception": null,
   "input_path": "__notebook__.ipynb",
   "output_path": "__notebook__.ipynb",
   "parameters": {},
   "start_time": "2022-10-23T11:03:11.995373",
   "version": "2.3.4"
  }
 },
 "nbformat": 4,
 "nbformat_minor": 5
}
