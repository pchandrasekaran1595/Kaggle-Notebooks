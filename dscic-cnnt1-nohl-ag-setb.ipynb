{
 "cells": [
  {
   "cell_type": "markdown",
   "id": "dbafa9ba",
   "metadata": {
    "papermill": {
     "duration": 0.004555,
     "end_time": "2022-10-23T11:45:32.776799",
     "exception": false,
     "start_time": "2022-10-23T11:45:32.772244",
     "status": "completed"
    },
    "tags": []
   },
   "source": [
    "### **Library Imports**"
   ]
  },
  {
   "cell_type": "code",
   "execution_count": 1,
   "id": "c86ae24e",
   "metadata": {
    "execution": {
     "iopub.execute_input": "2022-10-23T11:45:32.785937Z",
     "iopub.status.busy": "2022-10-23T11:45:32.785455Z",
     "iopub.status.idle": "2022-10-23T11:45:35.688798Z",
     "shell.execute_reply": "2022-10-23T11:45:35.687864Z"
    },
    "papermill": {
     "duration": 2.910716,
     "end_time": "2022-10-23T11:45:35.691415",
     "exception": false,
     "start_time": "2022-10-23T11:45:32.780699",
     "status": "completed"
    },
    "tags": []
   },
   "outputs": [],
   "source": [
    "import os\n",
    "import re\n",
    "import cv2\n",
    "import torch\n",
    "import numpy as np\n",
    "import pandas as pd\n",
    "import matplotlib.pyplot as plt\n",
    "\n",
    "from time import time\n",
    "from scipy import stats\n",
    "from typing import Union\n",
    "from torch import nn, optim\n",
    "from torch.utils.data import Dataset\n",
    "from torch.utils.data import DataLoader as DL\n",
    "from torchvision import models, transforms\n",
    "\n",
    "from sklearn.metrics import accuracy_score\n",
    "from sklearn.model_selection import StratifiedKFold"
   ]
  },
  {
   "cell_type": "markdown",
   "id": "82de1e75",
   "metadata": {
    "papermill": {
     "duration": 0.003514,
     "end_time": "2022-10-23T11:45:35.698770",
     "exception": false,
     "start_time": "2022-10-23T11:45:35.695256",
     "status": "completed"
    },
    "tags": []
   },
   "source": [
    "### **Utilities and Helpers**"
   ]
  },
  {
   "cell_type": "code",
   "execution_count": 2,
   "id": "8bafeb49",
   "metadata": {
    "execution": {
     "iopub.execute_input": "2022-10-23T11:45:35.707768Z",
     "iopub.status.busy": "2022-10-23T11:45:35.707340Z",
     "iopub.status.idle": "2022-10-23T11:45:35.719039Z",
     "shell.execute_reply": "2022-10-23T11:45:35.718058Z"
    },
    "papermill": {
     "duration": 0.018747,
     "end_time": "2022-10-23T11:45:35.721373",
     "exception": false,
     "start_time": "2022-10-23T11:45:35.702626",
     "status": "completed"
    },
    "tags": []
   },
   "outputs": [],
   "source": [
    "SEED: int = 42\n",
    "\n",
    "def breaker(num: int=50, char: str=\"*\") -> None:\n",
    "    print(\"\\n\" + num*char + \"\\n\")\n",
    "\n",
    "    \n",
    "def get_image(path: str, size: int=224) -> np.ndarray:\n",
    "    image = cv2.imread(path, cv2.IMREAD_COLOR)\n",
    "    image = cv2.cvtColor(src=image, code=cv2.COLOR_BGR2RGB)\n",
    "    return cv2.resize(src=image, dsize=(size, size), interpolation=cv2.INTER_AREA)\n",
    "\n",
    "\n",
    "def show_loss_graphs(L: list) -> None:\n",
    "    TL, VL = [], []\n",
    "    for i in range(len(L)):\n",
    "        TL.append(L[i][\"train\"])\n",
    "        VL.append(L[i][\"valid\"])\n",
    "    x_Axis = np.arange(1, len(TL) + 1)\n",
    "    plt.figure()\n",
    "    plt.plot(x_Axis, TL, \"r\", label=\"Train\")\n",
    "    plt.plot(x_Axis, VL, \"b\", label=\"Valid\")\n",
    "    plt.legend()\n",
    "    plt.grid()\n",
    "    plt.title(\"Loss Graph\")\n",
    "    plt.show()\n",
    "\n",
    "    \n",
    "def show_accuracy_graphs(A: list) -> None:\n",
    "    TA, VA = [], []\n",
    "    for i in range(len(A)):\n",
    "        TA.append(A[i][\"train\"])\n",
    "        VA.append(A[i][\"valid\"])\n",
    "    x_Axis = np.arange(1, len(TA) + 1)\n",
    "    plt.figure()\n",
    "    plt.plot(x_Axis, TA, \"r\", label=\"Train\")\n",
    "    plt.plot(x_Axis, VA, \"b\", label=\"Valid\")\n",
    "    plt.legend()\n",
    "    plt.grid()\n",
    "    plt.title(\"Accuracy Graph\")\n",
    "    plt.show()\n",
    "    \n",
    "\n",
    "def show_lr_graph(LR: list) -> None:\n",
    "    x_Axis = [i+1 for i in range(len(LR))]\n",
    "    plt.figure(figsize=(8, 6))\n",
    "    plt.plot(x_Axis, LR, \"rx\")\n",
    "    plt.grid()\n",
    "    plt.show()"
   ]
  },
  {
   "cell_type": "markdown",
   "id": "e77038cd",
   "metadata": {
    "papermill": {
     "duration": 0.003342,
     "end_time": "2022-10-23T11:45:35.728263",
     "exception": false,
     "start_time": "2022-10-23T11:45:35.724921",
     "status": "completed"
    },
    "tags": []
   },
   "source": [
    "### **Configuration**"
   ]
  },
  {
   "cell_type": "code",
   "execution_count": 3,
   "id": "7885acf2",
   "metadata": {
    "execution": {
     "iopub.execute_input": "2022-10-23T11:45:35.736490Z",
     "iopub.status.busy": "2022-10-23T11:45:35.736231Z",
     "iopub.status.idle": "2022-10-23T11:45:35.808084Z",
     "shell.execute_reply": "2022-10-23T11:45:35.807202Z"
    },
    "papermill": {
     "duration": 0.07848,
     "end_time": "2022-10-23T11:45:35.810258",
     "exception": false,
     "start_time": "2022-10-23T11:45:35.731778",
     "status": "completed"
    },
    "tags": []
   },
   "outputs": [],
   "source": [
    "class CFG(object):\n",
    "    def __init__(self, \n",
    "                 seed: int = 42,\n",
    "                 n_splits: int = 5,\n",
    "                 batch_size: int = 16,\n",
    "                 epochs: int = 25,\n",
    "                 early_stopping: int = 5,\n",
    "                 lr: float = 1e-4,\n",
    "                 wd: float = 0.0,\n",
    "                 max_lr: float = 1e-3,\n",
    "                 pct_start: float = 0.2,\n",
    "                 steps_per_epoch: int = 100,\n",
    "                 div_factor: int = 1e3, \n",
    "                 final_div_factor: float = 1e3,\n",
    "                 ):\n",
    "        self.seed = seed\n",
    "        self.n_splits = n_splits\n",
    "        self.batch_size = batch_size\n",
    "        self.epochs = epochs\n",
    "        self.early_stopping = early_stopping\n",
    "        self.lr = lr\n",
    "        self.wd = wd\n",
    "        self.max_lr = max_lr\n",
    "        self.pct_start = pct_start\n",
    "        self.steps_per_epoch = steps_per_epoch\n",
    "        self.div_factor = div_factor\n",
    "        self.final_div_factor = final_div_factor\n",
    "        self.device = torch.device(\"cuda\" if torch.cuda.is_available() else \"cpu\")\n",
    "        \n",
    "        self.train_transform = transforms.Compose([\n",
    "            transforms.ToTensor(),\n",
    "            transforms.Normalize([0.49217, 0.47873, 0.44228], [0.24861, 0.24540, 0.26107]),\n",
    "            transforms.RandomAffine(degrees=(-45, 45), translate=(0.15, 0.15), scale=(0.5, 1.5)),\n",
    "            transforms.RandomHorizontalFlip(p=0.25),\n",
    "            transforms.RandomVerticalFlip(p=0.25),\n",
    "        ])\n",
    "        self.valid_transform = transforms.Compose([\n",
    "            transforms.ToTensor(),\n",
    "            transforms.Normalize([0.49217, 0.47873, 0.44228], [0.24861, 0.24540, 0.26107]),\n",
    "        ]) \n",
    "                                \n",
    "        self.save_path = \"saves\"\n",
    "        if not os.path.exists(self.save_path): os.makedirs(self.save_path)\n",
    "    \n",
    "cfg = CFG(\n",
    "    seed=SEED, \n",
    ")"
   ]
  },
  {
   "cell_type": "markdown",
   "id": "9fb0d059",
   "metadata": {
    "papermill": {
     "duration": 0.00343,
     "end_time": "2022-10-23T11:45:35.817416",
     "exception": false,
     "start_time": "2022-10-23T11:45:35.813986",
     "status": "completed"
    },
    "tags": []
   },
   "source": [
    "### **Dataset Template**"
   ]
  },
  {
   "cell_type": "code",
   "execution_count": 4,
   "id": "374cfbe0",
   "metadata": {
    "execution": {
     "iopub.execute_input": "2022-10-23T11:45:35.825736Z",
     "iopub.status.busy": "2022-10-23T11:45:35.825460Z",
     "iopub.status.idle": "2022-10-23T11:45:35.831809Z",
     "shell.execute_reply": "2022-10-23T11:45:35.830785Z"
    },
    "papermill": {
     "duration": 0.012987,
     "end_time": "2022-10-23T11:45:35.834087",
     "exception": false,
     "start_time": "2022-10-23T11:45:35.821100",
     "status": "completed"
    },
    "tags": []
   },
   "outputs": [],
   "source": [
    "class DS(Dataset):\n",
    "    def __init__(\n",
    "        self, \n",
    "        images: np.ndarray,\n",
    "        labels: Union[np.ndarray, None]=None, \n",
    "        transform=None\n",
    "    ):\n",
    "        \n",
    "        self.images = images\n",
    "        self.labels = labels\n",
    "        self.transform = transform\n",
    "    \n",
    "    def __len__(self):\n",
    "        return self.images.shape[0]\n",
    "    \n",
    "    def __getitem__(self, idx):\n",
    "        if self.labels is None:\n",
    "            return self.transform(self.images[idx])\n",
    "        return self.transform(self.images[idx]), torch.LongTensor(self.labels[idx])"
   ]
  },
  {
   "cell_type": "markdown",
   "id": "1cea61ae",
   "metadata": {
    "papermill": {
     "duration": 0.003439,
     "end_time": "2022-10-23T11:45:35.841405",
     "exception": false,
     "start_time": "2022-10-23T11:45:35.837966",
     "status": "completed"
    },
    "tags": []
   },
   "source": [
    "### **Model**"
   ]
  },
  {
   "cell_type": "code",
   "execution_count": 5,
   "id": "7494f222",
   "metadata": {
    "execution": {
     "iopub.execute_input": "2022-10-23T11:45:35.850113Z",
     "iopub.status.busy": "2022-10-23T11:45:35.849817Z",
     "iopub.status.idle": "2022-10-23T11:45:35.866823Z",
     "shell.execute_reply": "2022-10-23T11:45:35.866014Z"
    },
    "papermill": {
     "duration": 0.023752,
     "end_time": "2022-10-23T11:45:35.868762",
     "exception": false,
     "start_time": "2022-10-23T11:45:35.845010",
     "status": "completed"
    },
    "tags": []
   },
   "outputs": [],
   "source": [
    "class Model(nn.Module):\n",
    "    def __init__(self, filter_sizes: list=[64, 128, 256, 512], HLs: list=[], DP: float=None):\n",
    "\n",
    "        super(Model, self).__init__()\n",
    "\n",
    "        self.encoder = nn.Sequential()\n",
    "        self.encoder.add_module(\"CN1\", nn.Conv2d(in_channels=3, out_channels=filter_sizes[0], kernel_size=(3, 3), stride=(1, 1), padding=(1, 1)))\n",
    "        self.encoder.add_module(\"BN1\", nn.BatchNorm2d(num_features=filter_sizes[0], eps=1e-5))\n",
    "        self.encoder.add_module(\"AN1\", nn.ReLU())\n",
    "        self.encoder.add_module(\"MP1\", nn.MaxPool2d(kernel_size=(2, 2)))\n",
    "        self.encoder.add_module(\"CN2\", nn.Conv2d(in_channels=filter_sizes[0], out_channels=filter_sizes[1], kernel_size=(3, 3), stride=(1, 1), padding=(1, 1)))\n",
    "        self.encoder.add_module(\"BN2\", nn.BatchNorm2d(num_features=filter_sizes[1], eps=1e-5))\n",
    "        self.encoder.add_module(\"AN2\", nn.ReLU())\n",
    "        self.encoder.add_module(\"MP2\", nn.MaxPool2d(kernel_size=(2, 2)))\n",
    "        self.encoder.add_module(\"CN3\", nn.Conv2d(in_channels=filter_sizes[1], out_channels=filter_sizes[2], kernel_size=(3, 3), stride=(1, 1), padding=(1, 1)))\n",
    "        self.encoder.add_module(\"BN3\", nn.BatchNorm2d(num_features=filter_sizes[2], eps=1e-5))\n",
    "        self.encoder.add_module(\"AN3\", nn.ReLU())\n",
    "        self.encoder.add_module(\"MP3\", nn.MaxPool2d(kernel_size=(2, 2)))\n",
    "\n",
    "        self.classifier = nn.Sequential()\n",
    "        if len(HLs) == 0:\n",
    "            self.classifier.add_module(\"FC1\", nn.Linear(in_features=filter_sizes[2]*4*4, out_features=5))\n",
    "        elif len(HLs) == 1:\n",
    "            self.classifier.add_module(\"FC1\", nn.Linear(in_features=filter_sizes[2]*4*4, out_features=HLs[0]))\n",
    "            self.classifier.add_module(\"AN1\", nn.ReLU())\n",
    "            if DP:\n",
    "                self.classifier.add_module(\"DP1\", nn.Dropout(p=DP))\n",
    "            self.classifier.add_module(\"FC2\", nn.Linear(in_features=HLs[0], out_features=5))\n",
    "        elif len(HLs) == 2:\n",
    "            self.classifier.add_module(\"FC1\", nn.Linear(in_features=filter_sizes[2]*4*4, out_features=HLs[0]))\n",
    "            self.classifier.add_module(\"AN1\", nn.ReLU())\n",
    "            if DP:\n",
    "                self.classifier.add_module(\"DP1\", nn.Dropout(p=DP))\n",
    "            self.classifier.add_module(\"FC2\", nn.Linear(in_features=HLs[0], out_features=HLs[1]))\n",
    "            self.classifier.add_module(\"AN2\", nn.ReLU())\n",
    "            if DP:\n",
    "                self.classifier.add_module(\"DP2\", nn.Dropout(p=DP))\n",
    "            self.classifier.add_module(\"FC3\", nn.Linear(in_features=HLs[1], out_features=5))\n",
    "    \n",
    "    def forward(self, x):\n",
    "        x = self.encoder(x)\n",
    "        x = x.view(x.shape[0], -1)\n",
    "        return nn.LogSoftmax(dim=1)(self.classifier(x))"
   ]
  },
  {
   "cell_type": "markdown",
   "id": "127d85b2",
   "metadata": {
    "papermill": {
     "duration": 0.003468,
     "end_time": "2022-10-23T11:45:35.875947",
     "exception": false,
     "start_time": "2022-10-23T11:45:35.872479",
     "status": "completed"
    },
    "tags": []
   },
   "source": [
    "### **Fit and Predict**"
   ]
  },
  {
   "cell_type": "code",
   "execution_count": 6,
   "id": "e3aceab5",
   "metadata": {
    "execution": {
     "iopub.execute_input": "2022-10-23T11:45:35.884837Z",
     "iopub.status.busy": "2022-10-23T11:45:35.884579Z",
     "iopub.status.idle": "2022-10-23T11:45:35.908127Z",
     "shell.execute_reply": "2022-10-23T11:45:35.907337Z"
    },
    "papermill": {
     "duration": 0.030756,
     "end_time": "2022-10-23T11:45:35.910276",
     "exception": false,
     "start_time": "2022-10-23T11:45:35.879520",
     "status": "completed"
    },
    "tags": []
   },
   "outputs": [],
   "source": [
    "def fit(\n",
    "    model=None,\n",
    "    optimizer=None, \n",
    "    scheduler_rlrop=None,\n",
    "    scheduler_oclr=None,\n",
    "    epochs=None, \n",
    "    early_stopping_patience=None, \n",
    "    dataloaders=None, \n",
    "    fold=None, \n",
    "    save_path=None,\n",
    "    device=None,\n",
    "    verbose=False\n",
    ") -> tuple:\n",
    "    \n",
    "    def get_accuracy(y_pred, y_true):\n",
    "        y_pred = torch.argmax(y_pred, dim=1)\n",
    "        return torch.count_nonzero(y_pred == y_true).item() / len(y_pred)\n",
    "    \n",
    "    if verbose:\n",
    "        breaker()\n",
    "        if fold: print(f\"Training Fold {fold}...\")\n",
    "        else: print(\"Training ...\")\n",
    "        breaker()\n",
    "        \n",
    "    bestLoss: dict = {\"train\" : np.inf, \"valid\" : np.inf} \n",
    "    bestAccs: dict = {\"train\" : 0.0, \"valid\" : 0.0}\n",
    "        \n",
    "    Losses: list = []\n",
    "    Accuracies: list = [] \n",
    "    LRs: list = []\n",
    "        \n",
    "    if fold: \n",
    "        ble_name = f\"ble_state_fold_{fold}.pt\"\n",
    "        bae_name = f\"bae_state_fold_{fold}.pt\"\n",
    "    else: \n",
    "        ble_name = f\"ble_state.pt\"\n",
    "        bae_name = f\"bae_state.pt\"\n",
    "    \n",
    "    start_time = time()\n",
    "    for e in range(epochs):\n",
    "        e_st = time()\n",
    "        epochLoss: dict = {\"train\" : 0.0, \"valid\" : 0.0} \n",
    "        epochAccs: dict = {\"train\" : 0.0, \"valid\" : 0.0}\n",
    "\n",
    "        for phase in [\"train\", \"valid\"]:\n",
    "            if phase == \"train\":\n",
    "                model.train()\n",
    "            else:\n",
    "                model.eval()\n",
    "            \n",
    "            lossPerPass: list = []\n",
    "            accsPerPass: list = []\n",
    "                \n",
    "            for X, y in dataloaders[phase]:\n",
    "                X, y = X.to(device), y.to(device).view(-1)\n",
    "\n",
    "                optimizer.zero_grad()\n",
    "                with torch.set_grad_enabled(phase == \"train\"):\n",
    "                    output = model(X)\n",
    "                    loss = torch.nn.NLLLoss()(output, y)\n",
    "                    if phase == \"train\":\n",
    "                        loss.backward()\n",
    "                        optimizer.step()\n",
    "                        if scheduler_oclr: scheduler_oclr.step()\n",
    "                lossPerPass.append(loss.item())\n",
    "                accsPerPass.append(get_accuracy(output, y))\n",
    "            epochLoss[phase] = np.mean(np.array(lossPerPass))\n",
    "            epochAccs[phase] = np.mean(np.array(accsPerPass))\n",
    "        if scheduler_oclr: LRs.append(scheduler_oclr.get_last_lr())\n",
    "        Losses.append(epochLoss)\n",
    "        Accuracies.append(epochAccs)\n",
    "    \n",
    "        if scheduler_oclr:\n",
    "            save_dict = {\"model_state_dict\"     : model.state_dict(),\n",
    "                         \"optim_state_dict\"     : optimizer.state_dict(),\n",
    "                         \"scheduler_state_dict\" : scheduler_oclr.state_dict()}\n",
    "        \n",
    "        elif scheduler_rlrop:\n",
    "            save_dict = {\"model_state_dict\"     : model.state_dict(),\n",
    "                         \"optim_state_dict\"     : optimizer.state_dict(),\n",
    "                         \"scheduler_state_dict\" : scheduler_rlrop.state_dict()}\n",
    "        \n",
    "        else:\n",
    "            save_dict = {\"model_state_dict\"     : model.state_dict(),\n",
    "                         \"optim_state_dict\"     : optimizer.state_dict()}\n",
    "        \n",
    "        \n",
    "        if early_stopping_patience:\n",
    "            if epochLoss[\"valid\"] < bestLoss[\"valid\"]:\n",
    "                bestLoss = epochLoss\n",
    "                BLE = e + 1\n",
    "                torch.save(save_dict, os.path.join(save_path, ble_name))\n",
    "                torch.save(save_dict, os.path.join(save_path, bae_name))\n",
    "                early_stopping_step = 0\n",
    "            else:\n",
    "                early_stopping_step += 1\n",
    "                if early_stopping_step > early_stopping_patience:\n",
    "                    print(\"\\nEarly Stopping at Epoch {}\".format(e + 1))\n",
    "                    break\n",
    "        \n",
    "        if epochLoss[\"valid\"] < bestLoss[\"valid\"]:\n",
    "            bestLoss = epochLoss\n",
    "            BLE = e + 1\n",
    "            torch.save(save_dict,os.path.join(save_path, ble_name))\n",
    "        \n",
    "        if epochAccs[\"valid\"] > bestAccs[\"valid\"]:\n",
    "            bestAccs = epochAccs\n",
    "            BAE = e + 1\n",
    "            torch.save(save_dict,os.path.join(save_path, bae_name))\n",
    "        \n",
    "        if scheduler_rlrop: scheduler_rlrop.step(epochLoss[\"valid\"])\n",
    "        \n",
    "        if verbose:\n",
    "            print(\"Epoch: {} | Train Loss: {:.5f} | Valid Loss: {:.5f} |\\\n",
    " Train Accs: {:.5f} | Valid Accs: {:.5f} | Time: {:.2f} seconds\".format(e+1, \n",
    "                                                                        epochLoss[\"train\"], epochLoss[\"valid\"], \n",
    "                                                                        epochAccs[\"train\"], epochAccs[\"valid\"], \n",
    "                                                                        time()-e_st))\n",
    "\n",
    "    if verbose:                                           \n",
    "        breaker()\n",
    "        print(f\"Best Validation Loss at Epoch {BLE}\")\n",
    "        breaker()\n",
    "        print(f\"Best Validation Accs at Epoch {BAE}\")\n",
    "        breaker()\n",
    "        print(\"Time Taken [{} Epochs] : {:.2f} minutes\".format(len(Losses), (time()-start_time)/60))\n",
    "    \n",
    "    return Losses, Accuracies, LRs, bestLoss, bestAccs, BLE, BAE, ble_name, bae_name\n",
    "\n",
    "\n",
    "def predict_batch(model=None, dataloader=None, path=None, device=None) -> np.ndarray:\n",
    "    model.load_state_dict(torch.load(path, map_location=device)[\"model_state_dict\"])\n",
    "    model.to(device)    \n",
    "    model.eval()\n",
    "    \n",
    "    y_pred = torch.zeros(1, 1).to(device)\n",
    "    \n",
    "    for X in dataloader:\n",
    "        X = X.to(device)\n",
    "        with torch.no_grad():\n",
    "            output = torch.argmax(torch.exp(model(X)), dim=1)\n",
    "        y_pred = torch.cat((y_pred, output.view(-1, 1)), dim=0)\n",
    "    \n",
    "    return y_pred[1:].detach().cpu().numpy()"
   ]
  },
  {
   "cell_type": "markdown",
   "id": "5a168d5e",
   "metadata": {
    "papermill": {
     "duration": 0.003345,
     "end_time": "2022-10-23T11:45:35.917176",
     "exception": false,
     "start_time": "2022-10-23T11:45:35.913831",
     "status": "completed"
    },
    "tags": []
   },
   "source": [
    "### **Train**"
   ]
  },
  {
   "cell_type": "code",
   "execution_count": 7,
   "id": "331fdd70",
   "metadata": {
    "execution": {
     "iopub.execute_input": "2022-10-23T11:45:35.925619Z",
     "iopub.status.busy": "2022-10-23T11:45:35.925200Z",
     "iopub.status.idle": "2022-10-23T11:45:36.915751Z",
     "shell.execute_reply": "2022-10-23T11:45:36.914772Z"
    },
    "papermill": {
     "duration": 0.997085,
     "end_time": "2022-10-23T11:45:36.918034",
     "exception": false,
     "start_time": "2022-10-23T11:45:35.920949",
     "status": "completed"
    },
    "tags": []
   },
   "outputs": [],
   "source": [
    "images = np.load(\"../input/icc-ml-2022a/DATA/TaskB/train_images_B.npy\")\n",
    "labels = np.load(\"../input/icc-ml-2022a/DATA/TaskB/train_labels_B.npy\")"
   ]
  },
  {
   "cell_type": "code",
   "execution_count": 8,
   "id": "e870d243",
   "metadata": {
    "execution": {
     "iopub.execute_input": "2022-10-23T11:45:36.930619Z",
     "iopub.status.busy": "2022-10-23T11:45:36.929641Z",
     "iopub.status.idle": "2022-10-23T12:19:28.199286Z",
     "shell.execute_reply": "2022-10-23T12:19:28.198350Z"
    },
    "papermill": {
     "duration": 2031.277609,
     "end_time": "2022-10-23T12:19:28.201769",
     "exception": false,
     "start_time": "2022-10-23T11:45:36.924160",
     "status": "completed"
    },
    "tags": []
   },
   "outputs": [
    {
     "name": "stdout",
     "output_type": "stream",
     "text": [
      "\n",
      "**************************************************\n",
      "\n",
      "Training Fold 1...\n",
      "\n",
      "**************************************************\n",
      "\n",
      "Epoch: 1 | Train Loss: 1.39197 | Valid Loss: 0.99336 | Train Accs: 0.40580 | Valid Accs: 0.61907 | Time: 22.86 seconds\n",
      "Epoch: 2 | Train Loss: 1.13171 | Valid Loss: 0.87300 | Train Accs: 0.55466 | Valid Accs: 0.67009 | Time: 16.29 seconds\n",
      "Epoch: 3 | Train Loss: 1.06901 | Valid Loss: 0.98613 | Train Accs: 0.59210 | Valid Accs: 0.62124 | Time: 16.47 seconds\n",
      "Epoch: 4 | Train Loss: 1.04890 | Valid Loss: 1.16050 | Train Accs: 0.60768 | Valid Accs: 0.58821 | Time: 15.56 seconds\n",
      "Epoch: 5 | Train Loss: 0.98111 | Valid Loss: 0.75401 | Train Accs: 0.63768 | Valid Accs: 0.73081 | Time: 16.63 seconds\n",
      "Epoch: 6 | Train Loss: 0.93934 | Valid Loss: 0.79893 | Train Accs: 0.65495 | Valid Accs: 0.71677 | Time: 15.92 seconds\n",
      "Epoch: 7 | Train Loss: 0.89595 | Valid Loss: 0.68398 | Train Accs: 0.67237 | Valid Accs: 0.76009 | Time: 16.68 seconds\n",
      "Epoch: 8 | Train Loss: 0.84741 | Valid Loss: 0.70166 | Train Accs: 0.69040 | Valid Accs: 0.76741 | Time: 15.63 seconds\n",
      "Epoch: 9 | Train Loss: 0.83140 | Valid Loss: 0.66665 | Train Accs: 0.69933 | Valid Accs: 0.76642 | Time: 16.63 seconds\n",
      "Epoch: 10 | Train Loss: 0.79803 | Valid Loss: 0.67432 | Train Accs: 0.71276 | Valid Accs: 0.78244 | Time: 15.59 seconds\n",
      "Epoch: 11 | Train Loss: 0.78406 | Valid Loss: 0.69583 | Train Accs: 0.71820 | Valid Accs: 0.75494 | Time: 16.55 seconds\n",
      "Epoch: 12 | Train Loss: 0.75844 | Valid Loss: 0.61537 | Train Accs: 0.72769 | Valid Accs: 0.78995 | Time: 15.92 seconds\n",
      "Epoch: 13 | Train Loss: 0.73113 | Valid Loss: 0.60906 | Train Accs: 0.74101 | Valid Accs: 0.79707 | Time: 16.65 seconds\n",
      "Epoch: 14 | Train Loss: 0.72006 | Valid Loss: 0.56215 | Train Accs: 0.74411 | Valid Accs: 0.81032 | Time: 15.85 seconds\n",
      "Epoch: 15 | Train Loss: 0.69320 | Valid Loss: 0.57909 | Train Accs: 0.76033 | Valid Accs: 0.80222 | Time: 16.54 seconds\n",
      "Epoch: 16 | Train Loss: 0.67993 | Valid Loss: 0.50633 | Train Accs: 0.76193 | Valid Accs: 0.83584 | Time: 15.89 seconds\n",
      "Epoch: 17 | Train Loss: 0.66631 | Valid Loss: 0.51630 | Train Accs: 0.76348 | Valid Accs: 0.82872 | Time: 16.52 seconds\n",
      "Epoch: 18 | Train Loss: 0.64352 | Valid Loss: 0.58365 | Train Accs: 0.77426 | Valid Accs: 0.80261 | Time: 15.94 seconds\n",
      "Epoch: 19 | Train Loss: 0.63428 | Valid Loss: 0.50632 | Train Accs: 0.77915 | Valid Accs: 0.82793 | Time: 16.56 seconds\n",
      "Epoch: 20 | Train Loss: 0.61828 | Valid Loss: 0.48721 | Train Accs: 0.78255 | Valid Accs: 0.83940 | Time: 16.09 seconds\n",
      "Epoch: 21 | Train Loss: 0.60293 | Valid Loss: 0.46423 | Train Accs: 0.79188 | Valid Accs: 0.85522 | Time: 16.56 seconds\n",
      "Epoch: 22 | Train Loss: 0.59170 | Valid Loss: 0.46282 | Train Accs: 0.79727 | Valid Accs: 0.85344 | Time: 16.17 seconds\n",
      "Epoch: 23 | Train Loss: 0.57714 | Valid Loss: 0.45859 | Train Accs: 0.80466 | Valid Accs: 0.85127 | Time: 16.57 seconds\n",
      "Epoch: 24 | Train Loss: 0.57863 | Valid Loss: 0.45601 | Train Accs: 0.80087 | Valid Accs: 0.85384 | Time: 16.07 seconds\n",
      "Epoch: 25 | Train Loss: 0.58069 | Valid Loss: 0.45820 | Train Accs: 0.80112 | Valid Accs: 0.85265 | Time: 16.14 seconds\n",
      "\n",
      "**************************************************\n",
      "\n",
      "Best Validation Loss at Epoch 24\n",
      "\n",
      "**************************************************\n",
      "\n",
      "Best Validation Accs at Epoch 21\n",
      "\n",
      "**************************************************\n",
      "\n",
      "Time Taken [25 Epochs] : 6.87 minutes\n",
      "\n",
      "**************************************************\n",
      "\n"
     ]
    },
    {
     "data": {
      "image/png": "[encoded data removed]",
      "text/plain": [
       "<Figure size 432x288 with 1 Axes>"
      ]
     },
     "metadata": {
      "needs_background": "light"
     },
     "output_type": "display_data"
    },
    {
     "name": "stdout",
     "output_type": "stream",
     "text": [
      "\n",
      "**************************************************\n",
      "\n"
     ]
    },
    {
     "data": {
      "image/png": "[encoded data removed]",
      "text/plain": [
       "<Figure size 432x288 with 1 Axes>"
      ]
     },
     "metadata": {
      "needs_background": "light"
     },
     "output_type": "display_data"
    },
    {
     "name": "stdout",
     "output_type": "stream",
     "text": [
      "\n",
      "**************************************************\n",
      "\n"
     ]
    },
    {
     "data": {
      "image/png": "[encoded data removed]",
      "text/plain": [
       "<Figure size 576x432 with 1 Axes>"
      ]
     },
     "metadata": {
      "needs_background": "light"
     },
     "output_type": "display_data"
    },
    {
     "name": "stdout",
     "output_type": "stream",
     "text": [
      "\n",
      "**************************************************\n",
      "\n",
      "\n",
      "**************************************************\n",
      "\n",
      "Training Fold 2...\n",
      "\n",
      "**************************************************\n",
      "\n",
      "Epoch: 1 | Train Loss: 1.38786 | Valid Loss: 1.00299 | Train Accs: 0.40705 | Valid Accs: 0.63647 | Time: 15.70 seconds\n",
      "Epoch: 2 | Train Loss: 1.11389 | Valid Loss: 0.96591 | Train Accs: 0.56789 | Valid Accs: 0.63865 | Time: 16.33 seconds\n",
      "Epoch: 3 | Train Loss: 1.07317 | Valid Loss: 0.82596 | Train Accs: 0.59090 | Valid Accs: 0.69976 | Time: 15.80 seconds\n",
      "Epoch: 4 | Train Loss: 1.03275 | Valid Loss: 0.82913 | Train Accs: 0.61222 | Valid Accs: 0.70807 | Time: 16.26 seconds\n",
      "Epoch: 5 | Train Loss: 0.99312 | Valid Loss: 0.75233 | Train Accs: 0.63673 | Valid Accs: 0.73042 | Time: 15.89 seconds\n",
      "Epoch: 6 | Train Loss: 0.92708 | Valid Loss: 0.77317 | Train Accs: 0.65755 | Valid Accs: 0.72765 | Time: 16.35 seconds\n",
      "Epoch: 7 | Train Loss: 0.88613 | Valid Loss: 0.67952 | Train Accs: 0.67737 | Valid Accs: 0.76780 | Time: 16.02 seconds\n",
      "Epoch: 8 | Train Loss: 0.85539 | Valid Loss: 0.68593 | Train Accs: 0.68850 | Valid Accs: 0.76384 | Time: 15.97 seconds\n",
      "Epoch: 9 | Train Loss: 0.83355 | Valid Loss: 0.68929 | Train Accs: 0.69778 | Valid Accs: 0.76009 | Time: 15.87 seconds\n",
      "Epoch: 10 | Train Loss: 0.79740 | Valid Loss: 0.68947 | Train Accs: 0.71131 | Valid Accs: 0.77413 | Time: 16.31 seconds\n",
      "Epoch: 11 | Train Loss: 0.77231 | Valid Loss: 0.57918 | Train Accs: 0.72684 | Valid Accs: 0.80558 | Time: 15.77 seconds\n",
      "Epoch: 12 | Train Loss: 0.76623 | Valid Loss: 0.57981 | Train Accs: 0.72699 | Valid Accs: 0.81052 | Time: 16.11 seconds\n",
      "Epoch: 13 | Train Loss: 0.72733 | Valid Loss: 0.57093 | Train Accs: 0.74161 | Valid Accs: 0.79529 | Time: 15.67 seconds\n",
      "Epoch: 14 | Train Loss: 0.72011 | Valid Loss: 0.57083 | Train Accs: 0.74346 | Valid Accs: 0.80459 | Time: 16.45 seconds\n",
      "Epoch: 15 | Train Loss: 0.70187 | Valid Loss: 0.61396 | Train Accs: 0.75369 | Valid Accs: 0.79470 | Time: 15.66 seconds\n",
      "Epoch: 16 | Train Loss: 0.67870 | Valid Loss: 0.53575 | Train Accs: 0.76398 | Valid Accs: 0.82180 | Time: 16.33 seconds\n",
      "Epoch: 17 | Train Loss: 0.66166 | Valid Loss: 0.52218 | Train Accs: 0.76717 | Valid Accs: 0.83169 | Time: 15.60 seconds\n",
      "Epoch: 18 | Train Loss: 0.64288 | Valid Loss: 0.50281 | Train Accs: 0.77396 | Valid Accs: 0.83722 | Time: 16.27 seconds\n",
      "Epoch: 19 | Train Loss: 0.63197 | Valid Loss: 0.48938 | Train Accs: 0.77950 | Valid Accs: 0.84197 | Time: 15.61 seconds\n",
      "Epoch: 20 | Train Loss: 0.61837 | Valid Loss: 0.46660 | Train Accs: 0.78539 | Valid Accs: 0.84731 | Time: 16.62 seconds\n",
      "Epoch: 21 | Train Loss: 0.60008 | Valid Loss: 0.50237 | Train Accs: 0.79408 | Valid Accs: 0.83366 | Time: 15.92 seconds\n",
      "Epoch: 22 | Train Loss: 0.59437 | Valid Loss: 0.46104 | Train Accs: 0.79702 | Valid Accs: 0.85087 | Time: 16.60 seconds\n",
      "Epoch: 23 | Train Loss: 0.58567 | Valid Loss: 0.46101 | Train Accs: 0.80082 | Valid Accs: 0.85028 | Time: 15.73 seconds\n",
      "Epoch: 24 | Train Loss: 0.57833 | Valid Loss: 0.46290 | Train Accs: 0.80466 | Valid Accs: 0.84889 | Time: 16.58 seconds\n",
      "Epoch: 25 | Train Loss: 0.57610 | Valid Loss: 0.45934 | Train Accs: 0.80326 | Valid Accs: 0.85265 | Time: 15.76 seconds\n",
      "\n",
      "**************************************************\n",
      "\n",
      "Best Validation Loss at Epoch 25\n",
      "\n",
      "**************************************************\n",
      "\n",
      "Best Validation Accs at Epoch 25\n",
      "\n",
      "**************************************************\n",
      "\n",
      "Time Taken [25 Epochs] : 6.69 minutes\n",
      "\n",
      "**************************************************\n",
      "\n"
     ]
    },
    {
     "data": {
      "image/png": "[encoded data removed]",
      "text/plain": [
       "<Figure size 432x288 with 1 Axes>"
      ]
     },
     "metadata": {
      "needs_background": "light"
     },
     "output_type": "display_data"
    },
    {
     "name": "stdout",
     "output_type": "stream",
     "text": [
      "\n",
      "**************************************************\n",
      "\n"
     ]
    },
    {
     "data": {
      "image/png": "[encoded data removed]",
      "text/plain": [
       "<Figure size 432x288 with 1 Axes>"
      ]
     },
     "metadata": {
      "needs_background": "light"
     },
     "output_type": "display_data"
    },
    {
     "name": "stdout",
     "output_type": "stream",
     "text": [
      "\n",
      "**************************************************\n",
      "\n"
     ]
    },
    {
     "data": {
      "image/png": "[encoded data removed]",
      "text/plain": [
       "<Figure size 576x432 with 1 Axes>"
      ]
     },
     "metadata": {
      "needs_background": "light"
     },
     "output_type": "display_data"
    },
    {
     "name": "stdout",
     "output_type": "stream",
     "text": [
      "\n",
      "**************************************************\n",
      "\n",
      "\n",
      "**************************************************\n",
      "\n",
      "Training Fold 3...\n",
      "\n",
      "**************************************************\n",
      "\n",
      "Epoch: 1 | Train Loss: 1.38855 | Valid Loss: 0.98221 | Train Accs: 0.41164 | Valid Accs: 0.64656 | Time: 16.10 seconds\n",
      "Epoch: 2 | Train Loss: 1.12553 | Valid Loss: 0.99624 | Train Accs: 0.55606 | Valid Accs: 0.61926 | Time: 15.68 seconds\n",
      "Epoch: 3 | Train Loss: 1.06695 | Valid Loss: 1.05009 | Train Accs: 0.59270 | Valid Accs: 0.63924 | Time: 15.83 seconds\n",
      "Epoch: 4 | Train Loss: 1.04814 | Valid Loss: 0.77212 | Train Accs: 0.60513 | Valid Accs: 0.72172 | Time: 16.15 seconds\n",
      "Epoch: 5 | Train Loss: 0.98777 | Valid Loss: 0.79303 | Train Accs: 0.63264 | Valid Accs: 0.71143 | Time: 15.98 seconds\n",
      "Epoch: 6 | Train Loss: 0.93004 | Valid Loss: 0.72737 | Train Accs: 0.65560 | Valid Accs: 0.73477 | Time: 16.61 seconds\n",
      "Epoch: 7 | Train Loss: 0.89824 | Valid Loss: 0.84183 | Train Accs: 0.67113 | Valid Accs: 0.69877 | Time: 15.70 seconds\n",
      "Epoch: 8 | Train Loss: 0.84763 | Valid Loss: 0.67094 | Train Accs: 0.69154 | Valid Accs: 0.77532 | Time: 16.49 seconds\n",
      "Epoch: 9 | Train Loss: 0.83088 | Valid Loss: 0.63896 | Train Accs: 0.69579 | Valid Accs: 0.78837 | Time: 15.67 seconds\n",
      "Epoch: 10 | Train Loss: 0.80237 | Valid Loss: 0.57172 | Train Accs: 0.71086 | Valid Accs: 0.80380 | Time: 16.79 seconds\n",
      "Epoch: 11 | Train Loss: 0.78187 | Valid Loss: 0.64614 | Train Accs: 0.71835 | Valid Accs: 0.78323 | Time: 15.66 seconds\n",
      "Epoch: 12 | Train Loss: 0.76023 | Valid Loss: 0.59535 | Train Accs: 0.72893 | Valid Accs: 0.79272 | Time: 16.62 seconds\n",
      "Epoch: 13 | Train Loss: 0.72811 | Valid Loss: 0.63602 | Train Accs: 0.74231 | Valid Accs: 0.78343 | Time: 15.74 seconds\n",
      "Epoch: 14 | Train Loss: 0.73421 | Valid Loss: 0.57160 | Train Accs: 0.73952 | Valid Accs: 0.81685 | Time: 16.67 seconds\n",
      "Epoch: 15 | Train Loss: 0.70391 | Valid Loss: 0.59318 | Train Accs: 0.75205 | Valid Accs: 0.80973 | Time: 15.60 seconds\n",
      "Epoch: 16 | Train Loss: 0.67987 | Valid Loss: 0.55513 | Train Accs: 0.76323 | Valid Accs: 0.81903 | Time: 15.99 seconds\n",
      "Epoch: 17 | Train Loss: 0.66665 | Valid Loss: 0.50090 | Train Accs: 0.76612 | Valid Accs: 0.83643 | Time: 15.99 seconds\n",
      "Epoch: 18 | Train Loss: 0.65370 | Valid Loss: 0.47768 | Train Accs: 0.77077 | Valid Accs: 0.84335 | Time: 16.05 seconds\n",
      "Epoch: 19 | Train Loss: 0.63227 | Valid Loss: 0.46307 | Train Accs: 0.78035 | Valid Accs: 0.85107 | Time: 15.87 seconds\n",
      "Epoch: 20 | Train Loss: 0.62321 | Valid Loss: 0.47316 | Train Accs: 0.78554 | Valid Accs: 0.84454 | Time: 16.27 seconds\n",
      "Epoch: 21 | Train Loss: 0.60258 | Valid Loss: 0.45736 | Train Accs: 0.79198 | Valid Accs: 0.85918 | Time: 16.07 seconds\n",
      "Epoch: 22 | Train Loss: 0.60380 | Valid Loss: 0.44962 | Train Accs: 0.79692 | Valid Accs: 0.85621 | Time: 16.34 seconds\n",
      "Epoch: 23 | Train Loss: 0.58383 | Valid Loss: 0.44400 | Train Accs: 0.80476 | Valid Accs: 0.86017 | Time: 16.22 seconds\n",
      "Epoch: 24 | Train Loss: 0.58483 | Valid Loss: 0.44551 | Train Accs: 0.80117 | Valid Accs: 0.85839 | Time: 16.11 seconds\n",
      "Epoch: 25 | Train Loss: 0.58065 | Valid Loss: 0.44646 | Train Accs: 0.80351 | Valid Accs: 0.85819 | Time: 15.98 seconds\n",
      "\n",
      "**************************************************\n",
      "\n",
      "Best Validation Loss at Epoch 23\n",
      "\n",
      "**************************************************\n",
      "\n",
      "Best Validation Accs at Epoch 23\n",
      "\n",
      "**************************************************\n",
      "\n",
      "Time Taken [25 Epochs] : 6.70 minutes\n",
      "\n",
      "**************************************************\n",
      "\n"
     ]
    },
    {
     "data": {
      "image/png": "[encoded data removed]",
      "text/plain": [
       "<Figure size 432x288 with 1 Axes>"
      ]
     },
     "metadata": {
      "needs_background": "light"
     },
     "output_type": "display_data"
    },
    {
     "name": "stdout",
     "output_type": "stream",
     "text": [
      "\n",
      "**************************************************\n",
      "\n"
     ]
    },
    {
     "data": {
      "image/png": "[encoded data removed]",
      "text/plain": [
       "<Figure size 432x288 with 1 Axes>"
      ]
     },
     "metadata": {
      "needs_background": "light"
     },
     "output_type": "display_data"
    },
    {
     "name": "stdout",
     "output_type": "stream",
     "text": [
      "\n",
      "**************************************************\n",
      "\n"
     ]
    },
    {
     "data": {
      "image/png": "[encoded data removed]",
      "text/plain": [
       "<Figure size 576x432 with 1 Axes>"
      ]
     },
     "metadata": {
      "needs_background": "light"
     },
     "output_type": "display_data"
    },
    {
     "name": "stdout",
     "output_type": "stream",
     "text": [
      "\n",
      "**************************************************\n",
      "\n",
      "\n",
      "**************************************************\n",
      "\n",
      "Training Fold 4...\n",
      "\n",
      "**************************************************\n",
      "\n",
      "Epoch: 1 | Train Loss: 1.38862 | Valid Loss: 0.96144 | Train Accs: 0.40925 | Valid Accs: 0.63726 | Time: 16.53 seconds\n",
      "Epoch: 2 | Train Loss: 1.12451 | Valid Loss: 0.97564 | Train Accs: 0.56305 | Valid Accs: 0.63687 | Time: 16.14 seconds\n",
      "Epoch: 3 | Train Loss: 1.06265 | Valid Loss: 0.78239 | Train Accs: 0.58986 | Valid Accs: 0.72528 | Time: 16.50 seconds\n",
      "Epoch: 4 | Train Loss: 1.04130 | Valid Loss: 0.83392 | Train Accs: 0.61072 | Valid Accs: 0.70115 | Time: 16.07 seconds\n",
      "Epoch: 5 | Train Loss: 0.98840 | Valid Loss: 0.87684 | Train Accs: 0.62914 | Valid Accs: 0.68453 | Time: 16.06 seconds\n",
      "Epoch: 6 | Train Loss: 0.92615 | Valid Loss: 0.79476 | Train Accs: 0.66004 | Valid Accs: 0.72528 | Time: 16.10 seconds\n",
      "Epoch: 7 | Train Loss: 0.88428 | Valid Loss: 0.77023 | Train Accs: 0.67607 | Valid Accs: 0.72824 | Time: 16.10 seconds\n",
      "Epoch: 8 | Train Loss: 0.85844 | Valid Loss: 0.63754 | Train Accs: 0.68660 | Valid Accs: 0.78283 | Time: 15.91 seconds\n",
      "Epoch: 9 | Train Loss: 0.83129 | Valid Loss: 0.66683 | Train Accs: 0.69589 | Valid Accs: 0.77492 | Time: 16.74 seconds\n",
      "Epoch: 10 | Train Loss: 0.78693 | Valid Loss: 0.62912 | Train Accs: 0.71635 | Valid Accs: 0.79529 | Time: 15.56 seconds\n",
      "Epoch: 11 | Train Loss: 0.77944 | Valid Loss: 0.63187 | Train Accs: 0.72025 | Valid Accs: 0.78758 | Time: 16.53 seconds\n",
      "Epoch: 12 | Train Loss: 0.75338 | Valid Loss: 0.58666 | Train Accs: 0.72958 | Valid Accs: 0.80044 | Time: 16.02 seconds\n",
      "Epoch: 13 | Train Loss: 0.73198 | Valid Loss: 0.53484 | Train Accs: 0.73817 | Valid Accs: 0.82100 | Time: 16.63 seconds\n",
      "Epoch: 14 | Train Loss: 0.71450 | Valid Loss: 0.59662 | Train Accs: 0.74491 | Valid Accs: 0.79767 | Time: 15.77 seconds\n",
      "Epoch: 15 | Train Loss: 0.69068 | Valid Loss: 0.53769 | Train Accs: 0.75794 | Valid Accs: 0.82991 | Time: 16.77 seconds\n",
      "Epoch: 16 | Train Loss: 0.67075 | Valid Loss: 0.52309 | Train Accs: 0.76538 | Valid Accs: 0.82456 | Time: 15.95 seconds\n",
      "Epoch: 17 | Train Loss: 0.66273 | Valid Loss: 0.51876 | Train Accs: 0.76852 | Valid Accs: 0.82872 | Time: 16.63 seconds\n",
      "Epoch: 18 | Train Loss: 0.64147 | Valid Loss: 0.49443 | Train Accs: 0.77811 | Valid Accs: 0.83584 | Time: 15.76 seconds\n",
      "Epoch: 19 | Train Loss: 0.62731 | Valid Loss: 0.50755 | Train Accs: 0.78135 | Valid Accs: 0.83228 | Time: 16.57 seconds\n",
      "Epoch: 20 | Train Loss: 0.61495 | Valid Loss: 0.46565 | Train Accs: 0.78829 | Valid Accs: 0.85285 | Time: 15.89 seconds\n",
      "Epoch: 21 | Train Loss: 0.59878 | Valid Loss: 0.46854 | Train Accs: 0.79523 | Valid Accs: 0.84790 | Time: 16.69 seconds\n",
      "Epoch: 22 | Train Loss: 0.58993 | Valid Loss: 0.46773 | Train Accs: 0.80057 | Valid Accs: 0.84751 | Time: 15.85 seconds\n",
      "Epoch: 23 | Train Loss: 0.58192 | Valid Loss: 0.46184 | Train Accs: 0.80042 | Valid Accs: 0.85008 | Time: 16.67 seconds\n",
      "Epoch: 24 | Train Loss: 0.57764 | Valid Loss: 0.46793 | Train Accs: 0.80366 | Valid Accs: 0.84869 | Time: 15.92 seconds\n",
      "Epoch: 25 | Train Loss: 0.57515 | Valid Loss: 0.46383 | Train Accs: 0.80541 | Valid Accs: 0.85127 | Time: 16.51 seconds\n",
      "\n",
      "**************************************************\n",
      "\n",
      "Best Validation Loss at Epoch 23\n",
      "\n",
      "**************************************************\n",
      "\n",
      "Best Validation Accs at Epoch 20\n",
      "\n",
      "**************************************************\n",
      "\n",
      "Time Taken [25 Epochs] : 6.76 minutes\n",
      "\n",
      "**************************************************\n",
      "\n"
     ]
    },
    {
     "data": {
      "image/png": "[encoded data removed]",
      "text/plain": [
       "<Figure size 432x288 with 1 Axes>"
      ]
     },
     "metadata": {
      "needs_background": "light"
     },
     "output_type": "display_data"
    },
    {
     "name": "stdout",
     "output_type": "stream",
     "text": [
      "\n",
      "**************************************************\n",
      "\n"
     ]
    },
    {
     "data": {
      "image/png": "[encoded data removed]",
      "text/plain": [
       "<Figure size 432x288 with 1 Axes>"
      ]
     },
     "metadata": {
      "needs_background": "light"
     },
     "output_type": "display_data"
    },
    {
     "name": "stdout",
     "output_type": "stream",
     "text": [
      "\n",
      "**************************************************\n",
      "\n"
     ]
    },
    {
     "data": {
      "image/png": "[encoded data removed]",
      "text/plain": [
       "<Figure size 576x432 with 1 Axes>"
      ]
     },
     "metadata": {
      "needs_background": "light"
     },
     "output_type": "display_data"
    },
    {
     "name": "stdout",
     "output_type": "stream",
     "text": [
      "\n",
      "**************************************************\n",
      "\n",
      "\n",
      "**************************************************\n",
      "\n",
      "Training Fold 5...\n",
      "\n",
      "**************************************************\n",
      "\n",
      "Epoch: 1 | Train Loss: 1.38694 | Valid Loss: 1.00132 | Train Accs: 0.41289 | Valid Accs: 0.63192 | Time: 15.68 seconds\n",
      "Epoch: 2 | Train Loss: 1.12581 | Valid Loss: 0.97797 | Train Accs: 0.55836 | Valid Accs: 0.63390 | Time: 16.29 seconds\n",
      "Epoch: 3 | Train Loss: 1.07968 | Valid Loss: 0.93530 | Train Accs: 0.58456 | Valid Accs: 0.65032 | Time: 15.91 seconds\n",
      "Epoch: 4 | Train Loss: 1.02835 | Valid Loss: 0.76280 | Train Accs: 0.61332 | Valid Accs: 0.73734 | Time: 16.38 seconds\n",
      "Epoch: 5 | Train Loss: 0.97376 | Valid Loss: 0.73208 | Train Accs: 0.63713 | Valid Accs: 0.74822 | Time: 16.23 seconds\n",
      "Epoch: 6 | Train Loss: 0.93601 | Valid Loss: 0.67244 | Train Accs: 0.65675 | Valid Accs: 0.77017 | Time: 15.93 seconds\n",
      "Epoch: 7 | Train Loss: 0.89480 | Valid Loss: 0.65935 | Train Accs: 0.67487 | Valid Accs: 0.77057 | Time: 16.33 seconds\n",
      "Epoch: 8 | Train Loss: 0.85828 | Valid Loss: 0.61808 | Train Accs: 0.68795 | Valid Accs: 0.78877 | Time: 15.95 seconds\n",
      "Epoch: 9 | Train Loss: 0.83232 | Valid Loss: 0.60540 | Train Accs: 0.69429 | Valid Accs: 0.79688 | Time: 16.60 seconds\n",
      "Epoch: 10 | Train Loss: 0.80017 | Valid Loss: 0.67570 | Train Accs: 0.70922 | Valid Accs: 0.76760 | Time: 15.62 seconds\n",
      "Epoch: 11 | Train Loss: 0.77589 | Valid Loss: 0.56630 | Train Accs: 0.72324 | Valid Accs: 0.81388 | Time: 16.60 seconds\n",
      "Epoch: 12 | Train Loss: 0.75861 | Valid Loss: 0.71319 | Train Accs: 0.73143 | Valid Accs: 0.75989 | Time: 15.66 seconds\n",
      "Epoch: 13 | Train Loss: 0.73678 | Valid Loss: 0.65961 | Train Accs: 0.73602 | Valid Accs: 0.77789 | Time: 16.69 seconds\n",
      "Epoch: 14 | Train Loss: 0.72744 | Valid Loss: 0.60902 | Train Accs: 0.74496 | Valid Accs: 0.79529 | Time: 16.09 seconds\n",
      "Epoch: 15 | Train Loss: 0.70107 | Valid Loss: 0.57953 | Train Accs: 0.75050 | Valid Accs: 0.80815 | Time: 16.48 seconds\n",
      "Epoch: 16 | Train Loss: 0.69126 | Valid Loss: 0.58362 | Train Accs: 0.75709 | Valid Accs: 0.80320 | Time: 15.69 seconds\n",
      "Epoch: 17 | Train Loss: 0.66548 | Valid Loss: 0.52132 | Train Accs: 0.76562 | Valid Accs: 0.82753 | Time: 16.55 seconds\n",
      "Epoch: 18 | Train Loss: 0.64650 | Valid Loss: 0.47615 | Train Accs: 0.77830 | Valid Accs: 0.84355 | Time: 15.77 seconds\n",
      "Epoch: 19 | Train Loss: 0.62987 | Valid Loss: 0.47931 | Train Accs: 0.78040 | Valid Accs: 0.84138 | Time: 16.25 seconds\n",
      "Epoch: 20 | Train Loss: 0.61261 | Valid Loss: 0.45309 | Train Accs: 0.79178 | Valid Accs: 0.85601 | Time: 15.87 seconds\n",
      "Epoch: 21 | Train Loss: 0.59920 | Valid Loss: 0.46886 | Train Accs: 0.79513 | Valid Accs: 0.84771 | Time: 16.32 seconds\n",
      "Epoch: 22 | Train Loss: 0.58606 | Valid Loss: 0.46031 | Train Accs: 0.80297 | Valid Accs: 0.85225 | Time: 16.05 seconds\n",
      "Epoch: 23 | Train Loss: 0.58690 | Valid Loss: 0.46094 | Train Accs: 0.80087 | Valid Accs: 0.84929 | Time: 16.24 seconds\n",
      "Epoch: 24 | Train Loss: 0.58064 | Valid Loss: 0.45564 | Train Accs: 0.80302 | Valid Accs: 0.85265 | Time: 16.13 seconds\n",
      "Epoch: 25 | Train Loss: 0.57600 | Valid Loss: 0.45654 | Train Accs: 0.80222 | Valid Accs: 0.85186 | Time: 16.16 seconds\n",
      "\n",
      "**************************************************\n",
      "\n",
      "Best Validation Loss at Epoch 20\n",
      "\n",
      "**************************************************\n",
      "\n",
      "Best Validation Accs at Epoch 20\n",
      "\n",
      "**************************************************\n",
      "\n",
      "Time Taken [25 Epochs] : 6.72 minutes\n",
      "\n",
      "**************************************************\n",
      "\n"
     ]
    },
    {
     "data": {
      "image/png": "[encoded data removed]",
      "text/plain": [
       "<Figure size 432x288 with 1 Axes>"
      ]
     },
     "metadata": {
      "needs_background": "light"
     },
     "output_type": "display_data"
    },
    {
     "name": "stdout",
     "output_type": "stream",
     "text": [
      "\n",
      "**************************************************\n",
      "\n"
     ]
    },
    {
     "data": {
      "image/png": "[encoded data removed]",
      "text/plain": [
       "<Figure size 432x288 with 1 Axes>"
      ]
     },
     "metadata": {
      "needs_background": "light"
     },
     "output_type": "display_data"
    },
    {
     "name": "stdout",
     "output_type": "stream",
     "text": [
      "\n",
      "**************************************************\n",
      "\n"
     ]
    },
    {
     "data": {
      "image/png": "[encoded data removed]",
      "text/plain": [
       "<Figure size 576x432 with 1 Axes>"
      ]
     },
     "metadata": {
      "needs_background": "light"
     },
     "output_type": "display_data"
    },
    {
     "name": "stdout",
     "output_type": "stream",
     "text": [
      "\n",
      "**************************************************\n",
      "\n"
     ]
    }
   ],
   "source": [
    "fold: int = 1\n",
    "BLs: list = []\n",
    "BAs: list = []\n",
    "\n",
    "# # Test \n",
    "# cfg.epochs = 2\n",
    "# cfg.n_splits = 3\n",
    "\n",
    "cfg.batch_size = 64\n",
    "    \n",
    "for tr_idx, va_idx in StratifiedKFold(n_splits=cfg.n_splits, random_state=cfg.seed, shuffle=True).split(images, labels):\n",
    "\n",
    "    tr_images, va_images = images[tr_idx], images[va_idx] \n",
    "    tr_labels, va_labels = labels[tr_idx], labels[va_idx]\n",
    "    \n",
    "    tr_data_setup = DS(\n",
    "        images=tr_images, \n",
    "        labels=tr_labels.reshape(-1, 1),\n",
    "        transform=cfg.train_transform\n",
    "    )\n",
    "    \n",
    "    va_data_setup = DS(\n",
    "        images=va_images, \n",
    "        labels=va_labels.reshape(-1, 1),\n",
    "        transform=cfg.valid_transform\n",
    "    )\n",
    "\n",
    "    dataloaders = {\n",
    "        \"train\" : DL(tr_data_setup, batch_size=cfg.batch_size, shuffle=True, generator=torch.manual_seed(cfg.seed)),\n",
    "        \"valid\" : DL(va_data_setup, batch_size=cfg.batch_size, shuffle=False),\n",
    "    }\n",
    "\n",
    "    cfg.steps_per_epoch = len(dataloaders[\"train\"])\n",
    "    \n",
    "    torch.manual_seed(cfg.seed)\n",
    "    model = Model(filter_sizes=[64, 128, 256]).to(cfg.device)\n",
    "\n",
    "    optimizer = optim.Adam([p for p in model.parameters() if p.requires_grad], lr=cfg.lr, weight_decay=cfg.wd)\n",
    "    # optimizer = optim.AdamW([p for p in model.parameters() if p.requires_grad], lr=cfg.lr, weight_decay=cfg.wd)\n",
    "    # optimizer = optim.SGD([p for p in model.parameters() if p.requires_grad], lr=cfg.lr, weight_decay=cfg.wd, momentum=0.9)\n",
    "    \n",
    "    scheduler_oclr = optim.lr_scheduler.OneCycleLR(\n",
    "        optimizer=optimizer, \n",
    "        max_lr=cfg.max_lr, \n",
    "        epochs=cfg.epochs, \n",
    "        steps_per_epoch=cfg.steps_per_epoch,\n",
    "        pct_start=cfg.pct_start, \n",
    "        div_factor=cfg.div_factor, \n",
    "        final_div_factor=cfg.final_div_factor\n",
    "    )\n",
    "\n",
    "    # scheduler_rlrop = optim.lr_scheduler.ReduceLROnPlateau(\n",
    "    #     optimizer=optimizer,\n",
    "    #     patience=cfg.patience,\n",
    "    #     eps=cfg.eps,\n",
    "    #     verbose=True\n",
    "    # )\n",
    "\n",
    "    # scheduler_oclr = None\n",
    "    scheduler_rlrop = None\n",
    "    \n",
    "    L, A, LR, BL, BA, _, _, _, _ = fit(\n",
    "        model=model, \n",
    "        optimizer=optimizer, \n",
    "        scheduler_oclr=scheduler_oclr,\n",
    "        scheduler_rlrop=scheduler_rlrop,\n",
    "        epochs=cfg.epochs, \n",
    "        early_stopping_patience=cfg.early_stopping, \n",
    "        dataloaders=dataloaders, \n",
    "        device=cfg.device,\n",
    "        save_path=cfg.save_path,\n",
    "        fold=fold,\n",
    "        verbose=True\n",
    "    )\n",
    "    \n",
    "    breaker()\n",
    "    show_loss_graphs(L)\n",
    "    breaker()\n",
    "    show_accuracy_graphs(A)\n",
    "    breaker()\n",
    "    if scheduler_oclr:\n",
    "        show_lr_graph(LR)\n",
    "        breaker()\n",
    "    \n",
    "    BLs.append(BL)\n",
    "    BAs.append(BA)\n",
    "    \n",
    "    fold += 1"
   ]
  },
  {
   "cell_type": "markdown",
   "id": "b647221e",
   "metadata": {
    "papermill": {
     "duration": 0.014044,
     "end_time": "2022-10-23T12:19:28.230307",
     "exception": false,
     "start_time": "2022-10-23T12:19:28.216263",
     "status": "completed"
    },
    "tags": []
   },
   "source": [
    "### **Best Model**"
   ]
  },
  {
   "cell_type": "code",
   "execution_count": 9,
   "id": "8f0caf62",
   "metadata": {
    "execution": {
     "iopub.execute_input": "2022-10-23T12:19:28.260010Z",
     "iopub.status.busy": "2022-10-23T12:19:28.259693Z",
     "iopub.status.idle": "2022-10-23T12:19:28.266637Z",
     "shell.execute_reply": "2022-10-23T12:19:28.265641Z"
    },
    "papermill": {
     "duration": 0.024582,
     "end_time": "2022-10-23T12:19:28.269229",
     "exception": false,
     "start_time": "2022-10-23T12:19:28.244647",
     "status": "completed"
    },
    "tags": []
   },
   "outputs": [
    {
     "name": "stdout",
     "output_type": "stream",
     "text": [
      "\n",
      "**************************************************\n",
      "\n",
      "Best Loss Model Fold     : 3\n",
      "Best Accuracy Model Fold : 3\n",
      "\n",
      "**************************************************\n",
      "\n"
     ]
    }
   ],
   "source": [
    "BL = np.inf\n",
    "for i in range(len(BLs)):\n",
    "    if BLs[i][\"valid\"] < BL:\n",
    "        BL = BLs[i][\"valid\"]\n",
    "        best_loss_index = i\n",
    "\n",
    "        \n",
    "BA = 0.0\n",
    "for i in range(len(BAs)):\n",
    "    if BAs[i][\"valid\"] > BA:\n",
    "        BA = BAs[i][\"valid\"]\n",
    "        best_accs_index = i\n",
    "\n",
    "breaker()\n",
    "print(f\"Best Loss Model Fold     : {best_loss_index + 1}\")\n",
    "print(f\"Best Accuracy Model Fold : {best_accs_index + 1}\")\n",
    "breaker()"
   ]
  }
 ],
 "metadata": {
  "kernelspec": {
   "display_name": "Python 3",
   "language": "python",
   "name": "python3"
  },
  "language_info": {
   "codemirror_mode": {
    "name": "ipython",
    "version": 3
   },
   "file_extension": ".py",
   "mimetype": "text/x-python",
   "name": "python",
   "nbconvert_exporter": "python",
   "pygments_lexer": "ipython3",
   "version": "3.7.12"
  },
  "papermill": {
   "default_parameters": {},
   "duration": 2045.274722,
   "end_time": "2022-10-23T12:19:29.908553",
   "environment_variables": {},
   "exception": null,
   "input_path": "__notebook__.ipynb",
   "output_path": "__notebook__.ipynb",
   "parameters": {},
   "start_time": "2022-10-23T11:45:24.633831",
   "version": "2.3.4"
  }
 },
 "nbformat": 4,
 "nbformat_minor": 5
}
