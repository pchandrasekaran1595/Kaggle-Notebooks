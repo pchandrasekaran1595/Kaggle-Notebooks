{
 "cells": [
  {
   "cell_type": "code",
   "execution_count": 1,
   "id": "c3366de5",
   "metadata": {
    "_cell_guid": "b1076dfc-b9ad-4769-8c92-a6c4dae69d19",
    "_uuid": "8f2839f25d086af736a60e9eeb907d3b93b6e0e5",
    "execution": {
     "iopub.execute_input": "2022-11-21T05:40:19.764756Z",
     "iopub.status.busy": "2022-11-21T05:40:19.763580Z",
     "iopub.status.idle": "2022-11-21T05:40:20.032309Z",
     "shell.execute_reply": "2022-11-21T05:40:20.031356Z"
    },
    "papermill": {
     "duration": 0.276838,
     "end_time": "2022-11-21T05:40:20.034983",
     "exception": false,
     "start_time": "2022-11-21T05:40:19.758145",
     "status": "completed"
    },
    "tags": []
   },
   "outputs": [],
   "source": [
    "import os\n",
    "import cv2\n",
    "import numpy as np\n",
    "import pandas as pd\n",
    "\n",
    "TR_BASE_PATH: str = \"../input/cloud-type-classification-3/images/train\"\n",
    "TS_BASE_PATH: str = \"../input/cloud-type-classification-3/images/test\""
   ]
  },
  {
   "cell_type": "code",
   "execution_count": 2,
   "id": "7c74344e",
   "metadata": {
    "execution": {
     "iopub.execute_input": "2022-11-21T05:40:20.045022Z",
     "iopub.status.busy": "2022-11-21T05:40:20.044190Z",
     "iopub.status.idle": "2022-11-21T05:40:20.082341Z",
     "shell.execute_reply": "2022-11-21T05:40:20.081031Z"
    },
    "papermill": {
     "duration": 0.045042,
     "end_time": "2022-11-21T05:40:20.085265",
     "exception": false,
     "start_time": "2022-11-21T05:40:20.040223",
     "status": "completed"
    },
    "tags": []
   },
   "outputs": [],
   "source": [
    "tr_df: pd.DataFrame = pd.DataFrame(data=None, columns=[\"filepaths\", \"labels\"])  \n",
    "ts_df: pd.DataFrame = pd.DataFrame(data=None, columns=[\"filepaths\"]) \n",
    "    \n",
    "competition_tr_df = pd.read_csv(\"../input/cloud-type-classification-3/train.csv\")\n",
    "competition_ts_df = pd.read_csv(\"../input/cloud-type-classification-3/test.csv\")"
   ]
  },
  {
   "cell_type": "code",
   "execution_count": 3,
   "id": "ccdb1337",
   "metadata": {
    "execution": {
     "iopub.execute_input": "2022-11-21T05:40:20.091804Z",
     "iopub.status.busy": "2022-11-21T05:40:20.091169Z",
     "iopub.status.idle": "2022-11-21T05:40:20.183103Z",
     "shell.execute_reply": "2022-11-21T05:40:20.181786Z"
    },
    "papermill": {
     "duration": 0.09823,
     "end_time": "2022-11-21T05:40:20.185902",
     "exception": false,
     "start_time": "2022-11-21T05:40:20.087672",
     "status": "completed"
    },
    "tags": []
   },
   "outputs": [],
   "source": [
    "filepaths: list = []\n",
    "labels: list = []\n",
    "\n",
    "for i in range(competition_tr_df.shape[0]):\n",
    "    filepaths.append(os.path.join(TR_BASE_PATH, competition_tr_df.iloc[i, 0]))\n",
    "    labels.append(competition_tr_df.iloc[i, 1])\n",
    "\n",
    "tr_df.filepaths = filepaths\n",
    "tr_df.labels = labels\n",
    "tr_df.to_csv(\"train.csv\", index=False)"
   ]
  },
  {
   "cell_type": "code",
   "execution_count": 4,
   "id": "4cbfc90e",
   "metadata": {
    "execution": {
     "iopub.execute_input": "2022-11-21T05:40:20.191595Z",
     "iopub.status.busy": "2022-11-21T05:40:20.191180Z",
     "iopub.status.idle": "2022-11-21T05:40:20.230432Z",
     "shell.execute_reply": "2022-11-21T05:40:20.229266Z"
    },
    "papermill": {
     "duration": 0.045179,
     "end_time": "2022-11-21T05:40:20.233258",
     "exception": false,
     "start_time": "2022-11-21T05:40:20.188079",
     "status": "completed"
    },
    "tags": []
   },
   "outputs": [],
   "source": [
    "filepaths: list = []\n",
    "\n",
    "for i in range(competition_ts_df.shape[0]):\n",
    "    filepaths.append(os.path.join(TS_BASE_PATH, competition_ts_df.iloc[i, 0]))\n",
    "\n",
    "ts_df.filepaths = filepaths\n",
    "ts_df.to_csv(\"test.csv\", index=False)"
   ]
  }
 ],
 "metadata": {
  "kernelspec": {
   "display_name": "Python 3",
   "language": "python",
   "name": "python3"
  },
  "language_info": {
   "codemirror_mode": {
    "name": "ipython",
    "version": 3
   },
   "file_extension": ".py",
   "mimetype": "text/x-python",
   "name": "python",
   "nbconvert_exporter": "python",
   "pygments_lexer": "ipython3",
   "version": "3.7.12"
  },
  "papermill": {
   "default_parameters": {},
   "duration": 10.370201,
   "end_time": "2022-11-21T05:40:20.958215",
   "environment_variables": {},
   "exception": null,
   "input_path": "__notebook__.ipynb",
   "output_path": "__notebook__.ipynb",
   "parameters": {},
   "start_time": "2022-11-21T05:40:10.588014",
   "version": "2.3.4"
  }
 },
 "nbformat": 4,
 "nbformat_minor": 5
}
