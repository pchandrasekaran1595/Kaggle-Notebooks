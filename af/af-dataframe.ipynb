{
 "cells": [
  {
   "cell_type": "code",
   "execution_count": 1,
   "id": "35c27044",
   "metadata": {
    "_cell_guid": "b1076dfc-b9ad-4769-8c92-a6c4dae69d19",
    "_uuid": "8f2839f25d086af736a60e9eeb907d3b93b6e0e5",
    "execution": {
     "iopub.execute_input": "2022-11-09T18:46:12.867763Z",
     "iopub.status.busy": "2022-11-09T18:46:12.867047Z",
     "iopub.status.idle": "2022-11-09T18:46:13.232735Z",
     "shell.execute_reply": "2022-11-09T18:46:13.231460Z"
    },
    "papermill": {
     "duration": 0.374212,
     "end_time": "2022-11-09T18:46:13.235807",
     "exception": false,
     "start_time": "2022-11-09T18:46:12.861595",
     "status": "completed"
    },
    "tags": []
   },
   "outputs": [],
   "source": [
    "import os\n",
    "import cv2\n",
    "import numpy as np\n",
    "import pandas as pd\n",
    "\n",
    "BASE_PATH: str = \"../input/animal-faces/afhq\"\n",
    "    \n",
    "LABELS_DICT = {\n",
    "    0 : \"Cat\",\n",
    "    1 : \"Dog\",\n",
    "    2 : \"Wild\",\n",
    "}"
   ]
  },
  {
   "cell_type": "code",
   "execution_count": 2,
   "id": "64b6870e",
   "metadata": {
    "execution": {
     "iopub.execute_input": "2022-11-09T18:46:13.242205Z",
     "iopub.status.busy": "2022-11-09T18:46:13.241768Z",
     "iopub.status.idle": "2022-11-09T18:46:13.260403Z",
     "shell.execute_reply": "2022-11-09T18:46:13.259170Z"
    },
    "papermill": {
     "duration": 0.024838,
     "end_time": "2022-11-09T18:46:13.263079",
     "exception": false,
     "start_time": "2022-11-09T18:46:13.238241",
     "status": "completed"
    },
    "tags": []
   },
   "outputs": [],
   "source": [
    "tr_df = pd.DataFrame(data=None, columns=[\"filepaths\", \"labels\"])\n",
    "ts_df = pd.DataFrame(data=None, columns=[\"filepaths\", \"labels\"])\n",
    "fu_df = pd.DataFrame(data=None, columns=[\"filepaths\", \"labels\"])"
   ]
  },
  {
   "cell_type": "code",
   "execution_count": 3,
   "id": "9f6e32e9",
   "metadata": {
    "execution": {
     "iopub.execute_input": "2022-11-09T18:46:13.269364Z",
     "iopub.status.busy": "2022-11-09T18:46:13.268957Z",
     "iopub.status.idle": "2022-11-09T18:46:16.200057Z",
     "shell.execute_reply": "2022-11-09T18:46:16.198693Z"
    },
    "papermill": {
     "duration": 2.937735,
     "end_time": "2022-11-09T18:46:16.203136",
     "exception": false,
     "start_time": "2022-11-09T18:46:13.265401",
     "status": "completed"
    },
    "tags": []
   },
   "outputs": [],
   "source": [
    "folders: list = sorted(os.listdir(f\"{BASE_PATH}/train\"))\n",
    "train_filepaths: list = []\n",
    "train_labels: list = []\n",
    "\n",
    "i: int = 0\n",
    "for folder in folders:\n",
    "    for filename in os.listdir(f\"{BASE_PATH}/train/{folder}\"):\n",
    "        train_filepaths.append(f\"{BASE_PATH}/train/{folder}/{filename}\")\n",
    "        train_labels.append(i)\n",
    "    i += 1\n",
    "\n",
    "tr_df.filepaths = train_filepaths\n",
    "tr_df.labels = train_labels\n",
    "tr_df.to_csv(\"train.csv\", index=False)"
   ]
  },
  {
   "cell_type": "code",
   "execution_count": 4,
   "id": "46ed95b8",
   "metadata": {
    "execution": {
     "iopub.execute_input": "2022-11-09T18:46:16.209821Z",
     "iopub.status.busy": "2022-11-09T18:46:16.209364Z",
     "iopub.status.idle": "2022-11-09T18:46:17.151457Z",
     "shell.execute_reply": "2022-11-09T18:46:17.150373Z"
    },
    "papermill": {
     "duration": 0.948582,
     "end_time": "2022-11-09T18:46:17.154181",
     "exception": false,
     "start_time": "2022-11-09T18:46:16.205599",
     "status": "completed"
    },
    "tags": []
   },
   "outputs": [],
   "source": [
    "folders: list = sorted(os.listdir(f\"{BASE_PATH}/val\"))\n",
    "test_filepaths: list = []\n",
    "test_labels: list = []\n",
    "\n",
    "i: int = 0\n",
    "for folder in folders:\n",
    "    for filename in os.listdir(f\"{BASE_PATH}/val/{folder}\"):\n",
    "        test_filepaths.append(f\"{BASE_PATH}/val/{folder}/{filename}\")\n",
    "        test_labels.append(i)\n",
    "    i += 1\n",
    "\n",
    "ts_df.filepaths = test_filepaths\n",
    "ts_df.labels = test_labels\n",
    "ts_df.to_csv(\"test.csv\", index=False)"
   ]
  },
  {
   "cell_type": "code",
   "execution_count": 5,
   "id": "ce9771f1",
   "metadata": {
    "execution": {
     "iopub.execute_input": "2022-11-09T18:46:17.161877Z",
     "iopub.status.busy": "2022-11-09T18:46:17.161416Z",
     "iopub.status.idle": "2022-11-09T18:46:17.215980Z",
     "shell.execute_reply": "2022-11-09T18:46:17.214862Z"
    },
    "papermill": {
     "duration": 0.061532,
     "end_time": "2022-11-09T18:46:17.218841",
     "exception": false,
     "start_time": "2022-11-09T18:46:17.157309",
     "status": "completed"
    },
    "tags": []
   },
   "outputs": [],
   "source": [
    "fu_df.filepaths = train_filepaths + test_filepaths\n",
    "fu_df.labels = train_labels + test_labels\n",
    "fu_df.to_csv(\"full.csv\", index=False)"
   ]
  }
 ],
 "metadata": {
  "kernelspec": {
   "display_name": "Python 3",
   "language": "python",
   "name": "python3"
  },
  "language_info": {
   "codemirror_mode": {
    "name": "ipython",
    "version": 3
   },
   "file_extension": ".py",
   "mimetype": "text/x-python",
   "name": "python",
   "nbconvert_exporter": "python",
   "pygments_lexer": "ipython3",
   "version": "3.7.12"
  },
  "papermill": {
   "default_parameters": {},
   "duration": 17.145059,
   "end_time": "2022-11-09T18:46:17.945242",
   "environment_variables": {},
   "exception": null,
   "input_path": "__notebook__.ipynb",
   "output_path": "__notebook__.ipynb",
   "parameters": {},
   "start_time": "2022-11-09T18:46:00.800183",
   "version": "2.3.4"
  }
 },
 "nbformat": 4,
 "nbformat_minor": 5
}
