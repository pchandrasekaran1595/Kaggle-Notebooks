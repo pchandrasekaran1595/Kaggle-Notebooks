{
 "cells": [
  {
   "cell_type": "markdown",
   "id": "097c1c77",
   "metadata": {
    "_cell_guid": "b1076dfc-b9ad-4769-8c92-a6c4dae69d19",
    "_uuid": "8f2839f25d086af736a60e9eeb907d3b93b6e0e5",
    "papermill": {
     "duration": 0.006728,
     "end_time": "2022-11-14T13:02:32.399503",
     "exception": false,
     "start_time": "2022-11-14T13:02:32.392775",
     "status": "completed"
    },
    "tags": []
   },
   "source": [
    "# **BEST MODEL INFERENCE**"
   ]
  },
  {
   "cell_type": "markdown",
   "id": "24561071",
   "metadata": {
    "papermill": {
     "duration": 0.005164,
     "end_time": "2022-11-14T13:02:32.410326",
     "exception": false,
     "start_time": "2022-11-14T13:02:32.405162",
     "status": "completed"
    },
    "tags": []
   },
   "source": [
    "### **Setup**"
   ]
  },
  {
   "cell_type": "code",
   "execution_count": 1,
   "id": "86fb006d",
   "metadata": {
    "execution": {
     "iopub.execute_input": "2022-11-14T13:02:32.424152Z",
     "iopub.status.busy": "2022-11-14T13:02:32.423289Z",
     "iopub.status.idle": "2022-11-14T13:02:46.315348Z",
     "shell.execute_reply": "2022-11-14T13:02:46.312918Z"
    },
    "papermill": {
     "duration": 13.903148,
     "end_time": "2022-11-14T13:02:46.319328",
     "exception": false,
     "start_time": "2022-11-14T13:02:32.416180",
     "status": "completed"
    },
    "tags": []
   },
   "outputs": [
    {
     "name": "stderr",
     "output_type": "stream",
     "text": [
      "WARNING: Running pip as the 'root' user can result in broken permissions and conflicting behaviour with the system package manager. It is recommended to use a virtual environment instead: https://pip.pypa.io/warnings/venv\n"
     ]
    }
   ],
   "source": [
    "%%bash\n",
    "pip install timm -q"
   ]
  },
  {
   "cell_type": "markdown",
   "id": "76dcb8ee",
   "metadata": {
    "papermill": {
     "duration": 0.008214,
     "end_time": "2022-11-14T13:02:46.335230",
     "exception": false,
     "start_time": "2022-11-14T13:02:46.327016",
     "status": "completed"
    },
    "tags": []
   },
   "source": [
    "### **Library Imports**"
   ]
  },
  {
   "cell_type": "code",
   "execution_count": 2,
   "id": "4669d78a",
   "metadata": {
    "execution": {
     "iopub.execute_input": "2022-11-14T13:02:46.349290Z",
     "iopub.status.busy": "2022-11-14T13:02:46.348864Z",
     "iopub.status.idle": "2022-11-14T13:02:50.283746Z",
     "shell.execute_reply": "2022-11-14T13:02:50.282439Z"
    },
    "papermill": {
     "duration": 3.94562,
     "end_time": "2022-11-14T13:02:50.286835",
     "exception": false,
     "start_time": "2022-11-14T13:02:46.341215",
     "status": "completed"
    },
    "tags": []
   },
   "outputs": [],
   "source": [
    "import os\n",
    "import re\n",
    "import cv2\n",
    "import timm\n",
    "import torch\n",
    "import random as r\n",
    "import numpy as np\n",
    "import pandas as pd\n",
    "# import matplotlib.pyplot as plt\n",
    "\n",
    "from time import time\n",
    "# from typing import Union\n",
    "from torch import nn, optim\n",
    "# from torch.utils.data import Dataset\n",
    "# from torch.utils.data import DataLoader as DL\n",
    "from torchvision import models, transforms\n",
    "\n",
    "# from sklearn.model_selection import StratifiedKFold"
   ]
  },
  {
   "cell_type": "markdown",
   "id": "b364e93c",
   "metadata": {
    "papermill": {
     "duration": 0.006258,
     "end_time": "2022-11-14T13:02:50.299401",
     "exception": false,
     "start_time": "2022-11-14T13:02:50.293143",
     "status": "completed"
    },
    "tags": []
   },
   "source": [
    "### **Utilities and Helpers**"
   ]
  },
  {
   "cell_type": "code",
   "execution_count": 3,
   "id": "2acf3e4c",
   "metadata": {
    "execution": {
     "iopub.execute_input": "2022-11-14T13:02:50.313058Z",
     "iopub.status.busy": "2022-11-14T13:02:50.312321Z",
     "iopub.status.idle": "2022-11-14T13:02:50.322034Z",
     "shell.execute_reply": "2022-11-14T13:02:50.320356Z"
    },
    "papermill": {
     "duration": 0.019689,
     "end_time": "2022-11-14T13:02:50.324762",
     "exception": false,
     "start_time": "2022-11-14T13:02:50.305073",
     "status": "completed"
    },
    "tags": []
   },
   "outputs": [],
   "source": [
    "SEED = 42\n",
    "SIZE = 384\n",
    "\n",
    "\n",
    "def breaker(num: int=50, char: str=\"*\") -> None:\n",
    "    print(\"\\n\" + num*char + \"\\n\")\n",
    "\n",
    "    \n",
    "def get_image(path: str, size: int=224) -> np.ndarray:\n",
    "    image = cv2.imread(path, cv2.IMREAD_COLOR)\n",
    "    image = cv2.cvtColor(src=image, code=cv2.COLOR_BGR2RGB)\n",
    "    return cv2.resize(src=image, dsize=(size, size), interpolation=cv2.INTER_AREA)\n",
    "\n",
    "    \n",
    "# def show_loss_graphs(L: list) -> None:\n",
    "#     TL, VL = [], []\n",
    "#     for i in range(len(L)):\n",
    "#         TL.append(L[i][\"train\"])\n",
    "#         VL.append(L[i][\"valid\"])\n",
    "#     x_Axis = np.arange(1, len(TL) + 1)\n",
    "#     plt.figure()\n",
    "#     plt.plot(x_Axis, TL, \"r\", label=\"Train\")\n",
    "#     plt.plot(x_Axis, VL, \"b\", label=\"Valid\")\n",
    "#     plt.legend()\n",
    "#     plt.grid()\n",
    "#     plt.title(\"Loss Graph\")\n",
    "#     plt.show()\n",
    "\n",
    "    \n",
    "# def show_accuracy_graphs(A: list) -> None:\n",
    "#     TA, VA = [], []\n",
    "#     for i in range(len(A)):\n",
    "#         TA.append(A[i][\"train\"])\n",
    "#         VA.append(A[i][\"valid\"])\n",
    "#     x_Axis = np.arange(1, len(TA) + 1)\n",
    "#     plt.figure()\n",
    "#     plt.plot(x_Axis, TA, \"r\", label=\"Train\")\n",
    "#     plt.plot(x_Axis, VA, \"b\", label=\"Valid\")\n",
    "#     plt.legend()\n",
    "#     plt.grid()\n",
    "#     plt.title(\"Accuracy Graph\")\n",
    "#     plt.show()\n",
    "    \n",
    "\n",
    "# def show_lr_graph(LR: list) -> None:\n",
    "#     x_Axis = [i+1 for i in range(len(LR))]\n",
    "#     plt.figure(figsize=(8, 6))\n",
    "#     plt.plot(x_Axis, LR, \"rx\")\n",
    "#     plt.grid()\n",
    "#     plt.show()"
   ]
  },
  {
   "cell_type": "markdown",
   "id": "e1146bb0",
   "metadata": {
    "papermill": {
     "duration": 0.005351,
     "end_time": "2022-11-14T13:02:50.335813",
     "exception": false,
     "start_time": "2022-11-14T13:02:50.330462",
     "status": "completed"
    },
    "tags": []
   },
   "source": [
    "### **Configuration**"
   ]
  },
  {
   "cell_type": "code",
   "execution_count": 4,
   "id": "83a624cb",
   "metadata": {
    "execution": {
     "iopub.execute_input": "2022-11-14T13:02:50.348869Z",
     "iopub.status.busy": "2022-11-14T13:02:50.348477Z",
     "iopub.status.idle": "2022-11-14T13:02:50.368375Z",
     "shell.execute_reply": "2022-11-14T13:02:50.367434Z"
    },
    "papermill": {
     "duration": 0.029646,
     "end_time": "2022-11-14T13:02:50.371036",
     "exception": false,
     "start_time": "2022-11-14T13:02:50.341390",
     "status": "completed"
    },
    "tags": []
   },
   "outputs": [],
   "source": [
    "class CFG(object):\n",
    "    def __init__(self, \n",
    "                 seed: int = 42,\n",
    "                 size: int = 224,\n",
    "                 n_splits: int = 5,\n",
    "                 batch_size: int = 16,\n",
    "                 epochs: int = 25,\n",
    "                 early_stopping: int = 5,\n",
    "                 lr: float = 1e-4,\n",
    "                 wd: float = 0.0,\n",
    "                 max_lr: float = 1e-3,\n",
    "                 pct_start: float = 0.2,\n",
    "                 steps_per_epoch: int = 100,\n",
    "                 div_factor: int = 1e3, \n",
    "                 final_div_factor: float = 1e3,\n",
    "                 ):\n",
    "        self.seed = seed\n",
    "        self.size = size\n",
    "        self.n_splits = n_splits\n",
    "        self.batch_size = batch_size\n",
    "        self.epochs = epochs\n",
    "        self.early_stopping = early_stopping\n",
    "        self.lr = lr\n",
    "        self.wd = wd\n",
    "        self.max_lr = max_lr\n",
    "        self.pct_start = pct_start\n",
    "        self.steps_per_epoch = steps_per_epoch\n",
    "        self.div_factor = div_factor\n",
    "        self.final_div_factor = final_div_factor\n",
    "        self.device = torch.device(\"cuda\" if torch.cuda.is_available() else \"cpu\")\n",
    "        \n",
    "        if self.size == 224:\n",
    "            self.train_transform = transforms.Compose([\n",
    "                transforms.ToTensor(),\n",
    "                transforms.Normalize([0.50208, 0.45985, 0.39904], [0.22045, 0.21381, 0.21296]),\n",
    "                transforms.RandomAffine(degrees=(-45, 45), translate=(0.15, 0.15), scale=(0.5, 1.5)),\n",
    "                transforms.RandomHorizontalFlip(p=0.25),\n",
    "                transforms.RandomVerticalFlip(p=0.25),\n",
    "            ])\n",
    "            self.valid_transform = transforms.Compose([\n",
    "                transforms.ToTensor(),\n",
    "                transforms.Normalize([0.50208, 0.45985, 0.39904], [0.22045, 0.21381, 0.21296]),\n",
    "            ])\n",
    "        \n",
    "        if self.size == 384:\n",
    "            self.train_transform = transforms.Compose([\n",
    "                transforms.ToTensor(),\n",
    "                transforms.Normalize([0.50208, 0.45985, 0.39904], [0.22223, 0.21564, 0.21480]),\n",
    "                transforms.RandomAffine(degrees=(-45, 45), translate=(0.15, 0.15), scale=(0.5, 1.5)),\n",
    "                transforms.RandomHorizontalFlip(p=0.25),\n",
    "                transforms.RandomVerticalFlip(p=0.25),\n",
    "            ])\n",
    "            self.valid_transform = transforms.Compose([\n",
    "                transforms.ToTensor(),\n",
    "                transforms.Normalize([0.50208, 0.45985, 0.39904], [0.22223, 0.21564, 0.21480]),\n",
    "            ])\n",
    "        \n",
    "        if self.size == 512:\n",
    "            self.train_transform = transforms.Compose([\n",
    "                transforms.ToTensor(),\n",
    "                transforms.Normalize([0.50208, 0.45985, 0.39904], [0.22500, 0.21850, 0.21770]),\n",
    "                transforms.RandomAffine(degrees=(-45, 45), translate=(0.15, 0.15), scale=(0.5, 1.5)),\n",
    "                transforms.RandomHorizontalFlip(p=0.25),\n",
    "                transforms.RandomVerticalFlip(p=0.25),\n",
    "            ])\n",
    "            self.valid_transform = transforms.Compose([\n",
    "                transforms.ToTensor(),\n",
    "                transforms.Normalize([0.50208, 0.45985, 0.39904], [0.22500, 0.21850, 0.21770]),\n",
    "            ])\n",
    "                                \n",
    "        self.save_path = \"saves\"\n",
    "        if not os.path.exists(self.save_path): os.makedirs(self.save_path)\n",
    "    \n",
    "cfg = CFG(seed=SEED, size=SIZE)"
   ]
  },
  {
   "cell_type": "markdown",
   "id": "a5193656",
   "metadata": {
    "papermill": {
     "duration": 0.005375,
     "end_time": "2022-11-14T13:02:50.384403",
     "exception": false,
     "start_time": "2022-11-14T13:02:50.379028",
     "status": "completed"
    },
    "tags": []
   },
   "source": [
    "### **Dataset Template**"
   ]
  },
  {
   "cell_type": "code",
   "execution_count": 5,
   "id": "b9cee2c9",
   "metadata": {
    "execution": {
     "iopub.execute_input": "2022-11-14T13:02:50.399573Z",
     "iopub.status.busy": "2022-11-14T13:02:50.398150Z",
     "iopub.status.idle": "2022-11-14T13:02:50.405348Z",
     "shell.execute_reply": "2022-11-14T13:02:50.404203Z"
    },
    "papermill": {
     "duration": 0.017449,
     "end_time": "2022-11-14T13:02:50.408036",
     "exception": false,
     "start_time": "2022-11-14T13:02:50.390587",
     "status": "completed"
    },
    "tags": []
   },
   "outputs": [],
   "source": [
    "# class DS(Dataset):\n",
    "#     def __init__(\n",
    "#         self, \n",
    "#         filepaths: np.ndarray, \n",
    "#         size: int,\n",
    "#         labels: Union[np.ndarray, None]=None, \n",
    "#         transform=None\n",
    "#     ):\n",
    "        \n",
    "#         self.filepaths = filepaths\n",
    "#         self.labels = labels\n",
    "#         self.size = size\n",
    "#         self.transform = transform\n",
    "    \n",
    "#     def __len__(self):\n",
    "#         return self.filepaths.shape[0]\n",
    "    \n",
    "#     def __getitem__(self, idx):\n",
    "#         image = get_image(self.filepaths[idx], self.size)\n",
    "#         if self.labels is None:\n",
    "#             return self.transform(image)\n",
    "#         return self.transform(image), torch.LongTensor(self.labels[idx])"
   ]
  },
  {
   "cell_type": "markdown",
   "id": "2b148059",
   "metadata": {
    "papermill": {
     "duration": 0.005349,
     "end_time": "2022-11-14T13:02:50.419210",
     "exception": false,
     "start_time": "2022-11-14T13:02:50.413861",
     "status": "completed"
    },
    "tags": []
   },
   "source": [
    "### **Model**"
   ]
  },
  {
   "cell_type": "code",
   "execution_count": 6,
   "id": "d4bb8e19",
   "metadata": {
    "execution": {
     "iopub.execute_input": "2022-11-14T13:02:50.432129Z",
     "iopub.status.busy": "2022-11-14T13:02:50.431732Z",
     "iopub.status.idle": "2022-11-14T13:02:50.439255Z",
     "shell.execute_reply": "2022-11-14T13:02:50.438025Z"
    },
    "papermill": {
     "duration": 0.017026,
     "end_time": "2022-11-14T13:02:50.441830",
     "exception": false,
     "start_time": "2022-11-14T13:02:50.424804",
     "status": "completed"
    },
    "tags": []
   },
   "outputs": [],
   "source": [
    "class Model(nn.Module):\n",
    "    def __init__(self):\n",
    "        super(Model, self).__init__()\n",
    "            \n",
    "        self.model = timm.create_model(model_name=\"efficientnet_b4\", pretrained=False)\n",
    "        self.model.classifier = nn.Linear(in_features=self.model.classifier.in_features, out_features=11)\n",
    "\n",
    "    def forward(self, x):\n",
    "        return nn.LogSoftmax(dim=1)(self.model(x))"
   ]
  },
  {
   "cell_type": "markdown",
   "id": "5e46ea24",
   "metadata": {
    "papermill": {
     "duration": 0.005464,
     "end_time": "2022-11-14T13:02:50.453039",
     "exception": false,
     "start_time": "2022-11-14T13:02:50.447575",
     "status": "completed"
    },
    "tags": []
   },
   "source": [
    "### **Fit and Predict**"
   ]
  },
  {
   "cell_type": "code",
   "execution_count": 7,
   "id": "c1cddb0c",
   "metadata": {
    "execution": {
     "iopub.execute_input": "2022-11-14T13:02:50.466350Z",
     "iopub.status.busy": "2022-11-14T13:02:50.465820Z",
     "iopub.status.idle": "2022-11-14T13:02:50.475841Z",
     "shell.execute_reply": "2022-11-14T13:02:50.474704Z"
    },
    "papermill": {
     "duration": 0.019557,
     "end_time": "2022-11-14T13:02:50.478171",
     "exception": false,
     "start_time": "2022-11-14T13:02:50.458614",
     "status": "completed"
    },
    "tags": []
   },
   "outputs": [],
   "source": [
    "# def fit(\n",
    "#     model=None,\n",
    "#     optimizer=None, \n",
    "#     scheduler_rlrop=None,\n",
    "#     scheduler_oclr=None,\n",
    "#     epochs=None, \n",
    "#     early_stopping_patience=None, \n",
    "#     dataloaders=None, \n",
    "#     fold=None, \n",
    "#     save_path=None,\n",
    "#     device=None,\n",
    "#     verbose=False\n",
    "# ) -> tuple:\n",
    "    \n",
    "#     def get_accuracy(y_pred, y_true):\n",
    "#         y_pred = torch.argmax(y_pred, dim=1)\n",
    "#         return torch.count_nonzero(y_pred == y_true).item() / len(y_pred)\n",
    "    \n",
    "    \n",
    "#     if verbose:\n",
    "#         breaker()\n",
    "#         if fold: print(f\"Training Fold {fold}...\")\n",
    "#         else: print(\"Training ...\")\n",
    "#         breaker()\n",
    "        \n",
    "#     bestLoss: dict = {\"train\" : np.inf, \"valid\" : np.inf} \n",
    "#     bestAccs: dict = {\"train\" : 0.0, \"valid\" : 0.0}\n",
    "    \n",
    "#     Losses: list = []\n",
    "#     Accuracies: list = [] \n",
    "#     LRs: list = []\n",
    "        \n",
    "#     if fold: \n",
    "#         ble_name = f\"ble_state_fold_{fold}.pt\"\n",
    "#         bae_name = f\"bae_state_fold_{fold}.pt\"\n",
    "#     else: \n",
    "#         ble_name = f\"ble_state.pt\"\n",
    "#         bae_name = f\"bae_state.pt\"\n",
    "        \n",
    "#     start_time = time()\n",
    "#     for e in range(epochs):\n",
    "#         e_st = time()\n",
    "#         epochLoss: dict = {\"train\" : 0.0, \"valid\" : 0.0} \n",
    "#         epochAccs: dict = {\"train\" : 0.0, \"valid\" : 0.0}\n",
    "\n",
    "#         for phase in [\"train\", \"valid\"]:\n",
    "#             if phase == \"train\":\n",
    "#                 model.train()\n",
    "#             else:\n",
    "#                 model.eval()\n",
    "            \n",
    "#             lossPerPass: list = []\n",
    "#             accsPerPass: list = []\n",
    "                \n",
    "#             for X, y in dataloaders[phase]:\n",
    "#                 X, y = X.to(device), y.to(device).view(-1)\n",
    "\n",
    "#                 optimizer.zero_grad()\n",
    "#                 with torch.set_grad_enabled(phase == \"train\"):\n",
    "#                     output = model(X)\n",
    "#                     loss = torch.nn.NLLLoss()(output, y)\n",
    "#                     if phase == \"train\":\n",
    "#                         loss.backward()\n",
    "#                         optimizer.step()\n",
    "#                         if scheduler_oclr: scheduler_oclr.step()\n",
    "#                 lossPerPass.append(loss.item())\n",
    "#                 accsPerPass.append(get_accuracy(output, y))\n",
    "#             epochLoss[phase] = np.mean(np.array(lossPerPass))\n",
    "#             epochAccs[phase] = np.mean(np.array(accsPerPass))\n",
    "#         if scheduler_oclr: LRs.append(scheduler_oclr.get_last_lr())\n",
    "#         Losses.append(epochLoss)\n",
    "#         Accuracies.append(epochAccs)\n",
    "        \n",
    "#         if scheduler_oclr:\n",
    "#             save_dict = {\"model_state_dict\"     : model.state_dict(),\n",
    "#                          \"optim_state_dict\"     : optimizer.state_dict(),\n",
    "#                          \"scheduler_state_dict\" : scheduler_oclr.state_dict()}\n",
    "        \n",
    "#         elif scheduler_rlrop:\n",
    "#             save_dict = {\"model_state_dict\"     : model.state_dict(),\n",
    "#                          \"optim_state_dict\"     : optimizer.state_dict(),\n",
    "#                          \"scheduler_state_dict\" : scheduler_rlrop.state_dict()}\n",
    "        \n",
    "#         else:\n",
    "#             save_dict = {\"model_state_dict\"     : model.state_dict(),\n",
    "#                          \"optim_state_dict\"     : optimizer.state_dict()}\n",
    "        \n",
    "#         if early_stopping_patience:\n",
    "#             if epochLoss[\"valid\"] < bestLoss[\"valid\"]:\n",
    "#                 bestLoss = epochLoss\n",
    "#                 BLE = e + 1\n",
    "#                 torch.save(save_dict, os.path.join(save_path, ble_name))\n",
    "#                 torch.save(save_dict, os.path.join(save_path, bae_name))\n",
    "#                 early_stopping_step = 0\n",
    "#             else:\n",
    "#                 early_stopping_step += 1\n",
    "#                 if early_stopping_step > early_stopping_patience:\n",
    "#                     print(\"\\nEarly Stopping at Epoch {}\".format(e + 1))\n",
    "#                     break\n",
    "        \n",
    "#         if epochLoss[\"valid\"] < bestLoss[\"valid\"]:\n",
    "#             bestLoss = epochLoss\n",
    "#             BLE = e + 1\n",
    "#             torch.save(save_dict,os.path.join(save_path, ble_name))\n",
    "        \n",
    "#         if epochAccs[\"valid\"] > bestAccs[\"valid\"]:\n",
    "#             bestAccs = epochAccs\n",
    "#             BAE = e + 1\n",
    "#             torch.save(save_dict,os.path.join(save_path, bae_name))\n",
    "        \n",
    "#         if scheduler_rlrop: scheduler_rlrop.step(epochLoss[\"valid\"])\n",
    "        \n",
    "#         if verbose:\n",
    "#             print(\"Epoch: {} | Train Loss: {:.5f} | Valid Loss: {:.5f} |\\\n",
    "#  Train Accs: {:.5f} | Valid Accs: {:.5f} | Time: {:.2f} seconds\".format(e+1, \n",
    "#                                                                         epochLoss[\"train\"], epochLoss[\"valid\"], \n",
    "#                                                                         epochAccs[\"train\"], epochAccs[\"valid\"], \n",
    "#                                                                         time()-e_st))\n",
    "\n",
    "#     if verbose:                                           \n",
    "#         breaker()\n",
    "#         print(f\"Best Validation Loss at Epoch {BLE}\")\n",
    "#         breaker()\n",
    "#         print(f\"Best Validation Accs at Epoch {BAE}\")\n",
    "#         breaker()\n",
    "#         print(\"Time Taken [{} Epochs] : {:.2f} minutes\".format(len(Losses), (time()-start_time)/60))\n",
    "    \n",
    "#     return Losses, Accuracies, LRs, bestLoss, bestAccs, BLE, BAE, ble_name, bae_name\n",
    "\n",
    "\n",
    "# def predict_batch(model=None, dataloader=None, path=None, device=None) -> np.ndarray:\n",
    "#     model.load_state_dict(torch.load(path, map_location=device)[\"model_state_dict\"])\n",
    "#     model.to(device)    \n",
    "#     model.eval()\n",
    "    \n",
    "#     y_pred = torch.zeros(1, 1).to(device)\n",
    "    \n",
    "#     for X in dataloader:\n",
    "#         X = X.to(device)\n",
    "#         with torch.no_grad():\n",
    "#             output = torch.argmax(torch.exp(model(X)), dim=1)\n",
    "#         y_pred = torch.cat((y_pred, output.view(-1, 1)), dim=0)\n",
    "    \n",
    "#     return y_pred[1:].detach().cpu().numpy()"
   ]
  },
  {
   "cell_type": "markdown",
   "id": "38c7f993",
   "metadata": {
    "papermill": {
     "duration": 0.005384,
     "end_time": "2022-11-14T13:02:50.489448",
     "exception": false,
     "start_time": "2022-11-14T13:02:50.484064",
     "status": "completed"
    },
    "tags": []
   },
   "source": [
    "### **Train**"
   ]
  },
  {
   "cell_type": "code",
   "execution_count": 8,
   "id": "550bb4c5",
   "metadata": {
    "execution": {
     "iopub.execute_input": "2022-11-14T13:02:50.502511Z",
     "iopub.status.busy": "2022-11-14T13:02:50.502054Z",
     "iopub.status.idle": "2022-11-14T13:02:50.507124Z",
     "shell.execute_reply": "2022-11-14T13:02:50.505949Z"
    },
    "papermill": {
     "duration": 0.014402,
     "end_time": "2022-11-14T13:02:50.509493",
     "exception": false,
     "start_time": "2022-11-14T13:02:50.495091",
     "status": "completed"
    },
    "tags": []
   },
   "outputs": [],
   "source": [
    "# df = pd.read_csv(\"../input/af-dataframe/train.csv\")\n",
    "\n",
    "# filepaths = df.filepaths.copy().values\n",
    "# labels = df.labels.copy().values"
   ]
  },
  {
   "cell_type": "code",
   "execution_count": 9,
   "id": "a9bd2126",
   "metadata": {
    "execution": {
     "iopub.execute_input": "2022-11-14T13:02:50.523703Z",
     "iopub.status.busy": "2022-11-14T13:02:50.523252Z",
     "iopub.status.idle": "2022-11-14T13:02:50.532161Z",
     "shell.execute_reply": "2022-11-14T13:02:50.530733Z"
    },
    "papermill": {
     "duration": 0.018787,
     "end_time": "2022-11-14T13:02:50.534631",
     "exception": false,
     "start_time": "2022-11-14T13:02:50.515844",
     "status": "completed"
    },
    "tags": []
   },
   "outputs": [],
   "source": [
    "# fold: int = 1\n",
    "# BLs: list = []\n",
    "# BAs: list = []\n",
    "    \n",
    "# cfg.batch_size = 16\n",
    "    \n",
    "# for tr_idx, va_idx in StratifiedKFold(n_splits=cfg.n_splits, random_state=cfg.seed, shuffle=True).split(filepaths, labels):\n",
    "#     if fold == 2: break\n",
    "#     fold += 1\n",
    "\n",
    "\n",
    "# tr_filepaths, va_filepaths = filepaths[tr_idx], filepaths[va_idx] \n",
    "# tr_labels, va_labels       = labels[tr_idx], labels[va_idx]\n",
    "\n",
    "# tr_data_setup = DS(\n",
    "#     filepaths=tr_filepaths, \n",
    "#     labels=tr_labels.reshape(-1, 1),\n",
    "#     size=cfg.size,\n",
    "#     transform=cfg.train_transform\n",
    "# )\n",
    "\n",
    "# va_data_setup = DS(\n",
    "#     filepaths=va_filepaths, \n",
    "#     labels=va_labels.reshape(-1, 1),\n",
    "#     size=cfg.size,\n",
    "#     transform=cfg.valid_transform\n",
    "# )\n",
    "\n",
    "# dataloaders = {\n",
    "#     \"train\" : DL(tr_data_setup, batch_size=cfg.batch_size, shuffle=True, generator=torch.manual_seed(cfg.seed)),\n",
    "#     \"valid\" : DL(va_data_setup, batch_size=cfg.batch_size, shuffle=False),\n",
    "# }\n",
    "\n",
    "# cfg.steps_per_epoch=len(dataloaders[\"train\"])\n",
    "\n",
    "# torch.manual_seed(cfg.seed)\n",
    "# model = Model().to(cfg.device)\n",
    "\n",
    "# optimizer = optim.Adam([p for p in model.parameters() if p.requires_grad], lr=cfg.lr, weight_decay=cfg.wd)\n",
    "# # optimizer = optim.AdamW([p for p in model.parameters() if p.requires_grad], lr=cfg.lr, weight_decay=cfg.wd)\n",
    "# # optimizer = optim.SGD([p for p in model.parameters() if p.requires_grad], lr=cfg.lr, weight_decay=cfg.wd, momentum=0.9)\n",
    "\n",
    "# scheduler_oclr = optim.lr_scheduler.OneCycleLR(\n",
    "#     optimizer=optimizer, \n",
    "#     max_lr=cfg.max_lr, \n",
    "#     epochs=cfg.epochs, \n",
    "#     steps_per_epoch=cfg.steps_per_epoch,\n",
    "#     pct_start=cfg.pct_start, \n",
    "#     div_factor=cfg.div_factor, \n",
    "#     final_div_factor=cfg.final_div_factor\n",
    "# )\n",
    "\n",
    "# # scheduler_rlrop = optim.lr_scheduler.ReduceLROnPlateau(\n",
    "# #     optimizer=optimizer,\n",
    "# #     patience=cfg.patience,\n",
    "# #     eps=cfg.eps,\n",
    "# #     verbose=True\n",
    "# # )\n",
    "\n",
    "# # scheduler_oclr = None\n",
    "# scheduler_rlrop = None\n",
    "\n",
    "\n",
    "# L, A, LR, BL, BA, _, _, _, _ = fit(\n",
    "#     model=model, \n",
    "#     optimizer=optimizer, \n",
    "#     scheduler_oclr=scheduler_oclr,\n",
    "#     scheduler_rlrop=scheduler_rlrop,\n",
    "#     epochs=cfg.epochs, \n",
    "#     early_stopping_patience=cfg.early_stopping, \n",
    "#     dataloaders=dataloaders, \n",
    "#     device=cfg.device,\n",
    "#     save_path=cfg.save_path,\n",
    "#     fold=fold,\n",
    "#     verbose=True\n",
    "# )\n",
    "\n",
    "\n",
    "# breaker()\n",
    "# show_loss_graphs(L)\n",
    "# breaker()\n",
    "# show_accuracy_graphs(A)\n",
    "# breaker()\n",
    "# if scheduler_oclr:\n",
    "#     show_lr_graph(LR)\n",
    "#     breaker()\n",
    "\n",
    "# # BLs.append(BL)\n",
    "# # BAs.append(BA)\n",
    "\n",
    "# # fold += 1"
   ]
  },
  {
   "cell_type": "markdown",
   "id": "bed3f5e6",
   "metadata": {
    "papermill": {
     "duration": 0.005367,
     "end_time": "2022-11-14T13:02:50.545687",
     "exception": false,
     "start_time": "2022-11-14T13:02:50.540320",
     "status": "completed"
    },
    "tags": []
   },
   "source": [
    "### **Best Model**"
   ]
  },
  {
   "cell_type": "code",
   "execution_count": 10,
   "id": "235fd9f5",
   "metadata": {
    "execution": {
     "iopub.execute_input": "2022-11-14T13:02:50.559433Z",
     "iopub.status.busy": "2022-11-14T13:02:50.559053Z",
     "iopub.status.idle": "2022-11-14T13:02:50.564478Z",
     "shell.execute_reply": "2022-11-14T13:02:50.563037Z"
    },
    "papermill": {
     "duration": 0.015548,
     "end_time": "2022-11-14T13:02:50.567266",
     "exception": false,
     "start_time": "2022-11-14T13:02:50.551718",
     "status": "completed"
    },
    "tags": []
   },
   "outputs": [],
   "source": [
    "# BL = np.inf\n",
    "# for i in range(len(BLs)):\n",
    "#     if BLs[i][\"valid\"] < BL:\n",
    "#         BL = BLs[i][\"valid\"]\n",
    "#         best_loss_index = i\n",
    "\n",
    "        \n",
    "# BA = 0.0\n",
    "# for i in range(len(BAs)):\n",
    "#     if BAs[i][\"valid\"] > BA:\n",
    "#         BA = BAs[i][\"valid\"]\n",
    "#         best_accs_index = i\n",
    "\n",
    "# breaker()\n",
    "# print(f\"Best Loss Model Fold     : {best_loss_index + 1}\")\n",
    "# print(f\"Best Accuracy Model Fold : {best_accs_index + 1}\")\n",
    "# breaker()"
   ]
  },
  {
   "cell_type": "markdown",
   "id": "d72387d7",
   "metadata": {
    "papermill": {
     "duration": 0.005333,
     "end_time": "2022-11-14T13:02:50.578289",
     "exception": false,
     "start_time": "2022-11-14T13:02:50.572956",
     "status": "completed"
    },
    "tags": []
   },
   "source": [
    "### **Test**"
   ]
  },
  {
   "cell_type": "code",
   "execution_count": 11,
   "id": "7f77954b",
   "metadata": {
    "execution": {
     "iopub.execute_input": "2022-11-14T13:02:50.591994Z",
     "iopub.status.busy": "2022-11-14T13:02:50.591547Z",
     "iopub.status.idle": "2022-11-14T13:02:56.537714Z",
     "shell.execute_reply": "2022-11-14T13:02:56.536372Z"
    },
    "papermill": {
     "duration": 5.95652,
     "end_time": "2022-11-14T13:02:56.540395",
     "exception": false,
     "start_time": "2022-11-14T13:02:50.583875",
     "status": "completed"
    },
    "tags": []
   },
   "outputs": [
    {
     "name": "stdout",
     "output_type": "stream",
     "text": [
      "A, P = 2, 2\n",
      "A, P = 2, 2\n",
      "A, P = 1, 1\n",
      "A, P = 2, 2\n",
      "A, P = 0, 0\n",
      "A, P = 1, 1\n",
      "A, P = 0, 0\n",
      "A, P = 0, 0\n",
      "A, P = 1, 1\n",
      "A, P = 0, 0\n"
     ]
    }
   ],
   "source": [
    "ts_df = pd.read_csv(\"../input/af-dataframe/test.csv\")\n",
    "\n",
    "model = Model().to(cfg.device)\n",
    "model.load_state_dict(torch.load(\"../input/af-en4-a384-f2/saves/ble_state_fold_2.pt\", map_location=cfg.device)[\"model_state_dict\"])\n",
    "model.to(cfg.device)    \n",
    "model.eval()\n",
    "\n",
    "indexes = [r.randint(0, ts_df.shape[0]) for _ in range(10)]\n",
    "for index in indexes:\n",
    "    image = get_image(ts_df.iloc[index, 0], cfg.size)\n",
    "    label = ts_df.iloc[index, 1]\n",
    "    with torch.no_grad(): y_pred = torch.argmax(model(cfg.valid_transform(image).to(cfg.device).unsqueeze(dim=0)), dim=1)\n",
    "    \n",
    "    print(f\"A, P = {label}, {y_pred.item()}\")"
   ]
  }
 ],
 "metadata": {
  "kernelspec": {
   "display_name": "Python 3",
   "language": "python",
   "name": "python3"
  },
  "language_info": {
   "codemirror_mode": {
    "name": "ipython",
    "version": 3
   },
   "file_extension": ".py",
   "mimetype": "text/x-python",
   "name": "python",
   "nbconvert_exporter": "python",
   "pygments_lexer": "ipython3",
   "version": "3.7.12"
  },
  "papermill": {
   "default_parameters": {},
   "duration": 34.232958,
   "end_time": "2022-11-14T13:02:57.574684",
   "environment_variables": {},
   "exception": null,
   "input_path": "__notebook__.ipynb",
   "output_path": "__notebook__.ipynb",
   "parameters": {},
   "start_time": "2022-11-14T13:02:23.341726",
   "version": "2.3.4"
  }
 },
 "nbformat": 4,
 "nbformat_minor": 5
}
