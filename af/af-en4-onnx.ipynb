{
 "cells": [
  {
   "cell_type": "code",
   "execution_count": 1,
   "id": "e71fca55",
   "metadata": {
    "_cell_guid": "b1076dfc-b9ad-4769-8c92-a6c4dae69d19",
    "_uuid": "8f2839f25d086af736a60e9eeb907d3b93b6e0e5",
    "execution": {
     "iopub.execute_input": "2022-11-15T05:34:53.866295Z",
     "iopub.status.busy": "2022-11-15T05:34:53.865771Z",
     "iopub.status.idle": "2022-11-15T05:35:27.837952Z",
     "shell.execute_reply": "2022-11-15T05:35:27.836527Z"
    },
    "papermill": {
     "duration": 33.982035,
     "end_time": "2022-11-15T05:35:27.841893",
     "exception": false,
     "start_time": "2022-11-15T05:34:53.859858",
     "status": "completed"
    },
    "tags": []
   },
   "outputs": [
    {
     "name": "stderr",
     "output_type": "stream",
     "text": [
      "WARNING: Running pip as the 'root' user can result in broken permissions and conflicting behaviour with the system package manager. It is recommended to use a virtual environment instead: https://pip.pypa.io/warnings/venv\n",
      "WARNING: Running pip as the 'root' user can result in broken permissions and conflicting behaviour with the system package manager. It is recommended to use a virtual environment instead: https://pip.pypa.io/warnings/venv\n",
      "WARNING: Running pip as the 'root' user can result in broken permissions and conflicting behaviour with the system package manager. It is recommended to use a virtual environment instead: https://pip.pypa.io/warnings/venv\n"
     ]
    }
   ],
   "source": [
    "%%bash\n",
    "pip install timm -q\n",
    "pip install onnx -q\n",
    "pip install onnxruntime -q"
   ]
  },
  {
   "cell_type": "code",
   "execution_count": 2,
   "id": "fcc00fcc",
   "metadata": {
    "execution": {
     "iopub.execute_input": "2022-11-15T05:35:27.850236Z",
     "iopub.status.busy": "2022-11-15T05:35:27.849807Z",
     "iopub.status.idle": "2022-11-15T05:35:31.374888Z",
     "shell.execute_reply": "2022-11-15T05:35:31.373842Z"
    },
    "papermill": {
     "duration": 3.532306,
     "end_time": "2022-11-15T05:35:31.377352",
     "exception": false,
     "start_time": "2022-11-15T05:35:27.845046",
     "status": "completed"
    },
    "tags": []
   },
   "outputs": [],
   "source": [
    "import os\n",
    "import sys\n",
    "import cv2\n",
    "import onnx\n",
    "import timm\n",
    "import torch\n",
    "import random as r\n",
    "import numpy as np\n",
    "import pandas as pd\n",
    "import onnxruntime as ort\n",
    "\n",
    "from torchvision import models, transforms\n",
    "from IPython.display import clear_output\n",
    "\n",
    "import warnings\n",
    "warnings.filterwarnings(\"ignore\")"
   ]
  },
  {
   "cell_type": "code",
   "execution_count": 3,
   "id": "70a0f9e5",
   "metadata": {
    "execution": {
     "iopub.execute_input": "2022-11-15T05:35:31.386391Z",
     "iopub.status.busy": "2022-11-15T05:35:31.384856Z",
     "iopub.status.idle": "2022-11-15T05:35:31.392066Z",
     "shell.execute_reply": "2022-11-15T05:35:31.391362Z"
    },
    "papermill": {
     "duration": 0.013542,
     "end_time": "2022-11-15T05:35:31.394235",
     "exception": false,
     "start_time": "2022-11-15T05:35:31.380693",
     "status": "completed"
    },
    "tags": []
   },
   "outputs": [],
   "source": [
    "labels: dict = {\n",
    "    0 : \"cat\",\n",
    "    1 : \"dog\",\n",
    "    2 : \"wild\",\n",
    "}\n",
    "\n",
    "def breaker() -> None:\n",
    "    print(\"\\n\" + 50*\"*\" + \"\\n\")\n",
    "\n",
    "    \n",
    "def get_image(path: str, size: int=224) -> np.ndarray:\n",
    "    image = cv2.imread(path, cv2.IMREAD_COLOR)\n",
    "    image = cv2.cvtColor(src=image, code=cv2.COLOR_BGR2RGB)\n",
    "    return cv2.resize(src=image, dsize=(size, size), interpolation=cv2.INTER_AREA)"
   ]
  },
  {
   "cell_type": "code",
   "execution_count": 4,
   "id": "164d29f0",
   "metadata": {
    "execution": {
     "iopub.execute_input": "2022-11-15T05:35:31.401712Z",
     "iopub.status.busy": "2022-11-15T05:35:31.401381Z",
     "iopub.status.idle": "2022-11-15T05:35:31.409761Z",
     "shell.execute_reply": "2022-11-15T05:35:31.408667Z"
    },
    "papermill": {
     "duration": 0.014576,
     "end_time": "2022-11-15T05:35:31.411896",
     "exception": false,
     "start_time": "2022-11-15T05:35:31.397320",
     "status": "completed"
    },
    "tags": []
   },
   "outputs": [],
   "source": [
    "class Model(torch.nn.Module):\n",
    "    def __init__(self):\n",
    "        super(Model, self).__init__()\n",
    "        \n",
    "        self.model = timm.create_model(model_name=\"efficientnet_b4\", pretrained=False)\n",
    "        self.model.classifier = torch.nn.Linear(in_features=self.model.classifier.in_features, out_features=11)\n",
    "\n",
    "    def forward(self, x):\n",
    "        return self.model(x)\n",
    "\n",
    "\n",
    "class CFG(object):  \n",
    "    def __init__(self, \n",
    "             in_channels: int=3, \n",
    "             size: int=256, \n",
    "             opset_version: int=9, \n",
    "             path: str=None):\n",
    "        self.in_channels = in_channels\n",
    "        self.size = size\n",
    "        self.dummy = torch.randn(1, self.in_channels, self.size, self.size)\n",
    "        self.opset_version = opset_version\n",
    "        self.path = path"
   ]
  },
  {
   "cell_type": "code",
   "execution_count": 5,
   "id": "8f18ecca",
   "metadata": {
    "execution": {
     "iopub.execute_input": "2022-11-15T05:35:31.419485Z",
     "iopub.status.busy": "2022-11-15T05:35:31.419063Z",
     "iopub.status.idle": "2022-11-15T05:35:34.653912Z",
     "shell.execute_reply": "2022-11-15T05:35:34.652662Z"
    },
    "papermill": {
     "duration": 3.242236,
     "end_time": "2022-11-15T05:35:34.657137",
     "exception": false,
     "start_time": "2022-11-15T05:35:31.414901",
     "status": "completed"
    },
    "tags": []
   },
   "outputs": [
    {
     "name": "stdout",
     "output_type": "stream",
     "text": [
      "\n",
      "**************************************************\n",
      "\n",
      "Model size: 67.496 MB\n",
      "\n",
      "**************************************************\n",
      "\n"
     ]
    }
   ],
   "source": [
    "cfg = CFG(\n",
    "    in_channels=3, \n",
    "    size=384, \n",
    "    opset_version=13, \n",
    "    path=\"../input/af-en4-a384-f2/saves/ble_state_fold_2.pt\"\n",
    ")\n",
    "\n",
    "\n",
    "model = Model()\n",
    "model.load_state_dict(torch.load(cfg.path, map_location=torch.device(\"cpu\"))[\"model_state_dict\"])\n",
    "model.eval()\n",
    "\n",
    "clear_output()\n",
    "\n",
    "param_size = 0\n",
    "for param in model.parameters():\n",
    "    param_size += param.nelement() * param.element_size()\n",
    "\n",
    "buffer_size = 0\n",
    "for buffer in model.buffers():\n",
    "    buffer_size += buffer.nelement() * buffer.element_size()\n",
    "\n",
    "size_all_mb = (param_size + buffer_size) / 1024**2\n",
    "\n",
    "breaker()\n",
    "print(f\"Model size: {size_all_mb:.3f} MB\")\n",
    "breaker()"
   ]
  },
  {
   "cell_type": "code",
   "execution_count": 6,
   "id": "3abf4695",
   "metadata": {
    "execution": {
     "iopub.execute_input": "2022-11-15T05:35:34.666373Z",
     "iopub.status.busy": "2022-11-15T05:35:34.665562Z",
     "iopub.status.idle": "2022-11-15T05:35:54.686758Z",
     "shell.execute_reply": "2022-11-15T05:35:54.685516Z"
    },
    "papermill": {
     "duration": 20.028813,
     "end_time": "2022-11-15T05:35:54.689958",
     "exception": false,
     "start_time": "2022-11-15T05:35:34.661145",
     "status": "completed"
    },
    "tags": []
   },
   "outputs": [],
   "source": [
    "torch.onnx.export(\n",
    "    model=model, \n",
    "    args=cfg.dummy, \n",
    "    f=\"af-en4-f2.onnx\", \n",
    "    input_names=[\"input\"], \n",
    "    output_names=[\"output\"], \n",
    "    opset_version=cfg.opset_version,\n",
    "    export_params=True,\n",
    "    training=torch.onnx.TrainingMode.EVAL,\n",
    "    operator_export_type=torch.onnx.OperatorExportTypes.ONNX_ATEN_FALLBACK,\n",
    "    dynamic_axes={\n",
    "      \"input\"  : {0 : \"batch_size\"},\n",
    "      \"output\" : {0 : \"batch_size\"},\n",
    "    }\n",
    ")"
   ]
  },
  {
   "cell_type": "code",
   "execution_count": 7,
   "id": "5a7bcbdc",
   "metadata": {
    "execution": {
     "iopub.execute_input": "2022-11-15T05:35:54.698222Z",
     "iopub.status.busy": "2022-11-15T05:35:54.697831Z",
     "iopub.status.idle": "2022-11-15T05:35:54.942367Z",
     "shell.execute_reply": "2022-11-15T05:35:54.941377Z"
    },
    "papermill": {
     "duration": 0.252729,
     "end_time": "2022-11-15T05:35:54.946132",
     "exception": false,
     "start_time": "2022-11-15T05:35:54.693403",
     "status": "completed"
    },
    "tags": []
   },
   "outputs": [],
   "source": [
    "class OnnxModel(object):\n",
    "    def __init__(self) -> None:\n",
    "        self.ort_session = None\n",
    "        self.size: int = 384\n",
    "            \n",
    "        # self.mean: list = [0.5, 0.5, 0.5]\n",
    "        # self.std: list  = [0.5, 0.5, 0.5]\n",
    "        \n",
    "        self.mean: list = [0.50208, 0.45985, 0.39904]\n",
    "        self.std: list  = [0.22223, 0.21564, 0.21480]\n",
    "        \n",
    "        self.path: str = \"af-en4-f2.onnx\"\n",
    "\n",
    "        ort.set_default_logger_severity(3)\n",
    "    \n",
    "    def setup(self) -> None:\n",
    "        model = onnx.load(self.path)\n",
    "        onnx.checker.check_model(model)\n",
    "        self.ort_session = ort.InferenceSession(self.path)\n",
    "    \n",
    "    def infer(self, image: np.ndarray, labels: dict) -> np.ndarray:\n",
    "        h, w, _ = image.shape\n",
    "\n",
    "        image = image / 255\n",
    "        image = cv2.resize(src=image, dsize=(self.size, self.size), interpolation=cv2.INTER_AREA).transpose(2, 0, 1)\n",
    "        for i in range(image.shape[0]): image[i, :, :] = (image[i, :, :] - self.mean[i]) / self.std[i]\n",
    "        image = np.expand_dims(image, axis=0)\n",
    "        input = {self.ort_session.get_inputs()[0].name : image.astype(\"float32\")}\n",
    "        return labels[np.argmax(self.ort_session.run(None, input))].title()\n",
    "\n",
    "    \n",
    "onnx_model = OnnxModel()\n",
    "onnx_model.setup()"
   ]
  },
  {
   "cell_type": "code",
   "execution_count": 8,
   "id": "96ea29ee",
   "metadata": {
    "execution": {
     "iopub.execute_input": "2022-11-15T05:35:54.954850Z",
     "iopub.status.busy": "2022-11-15T05:35:54.953913Z",
     "iopub.status.idle": "2022-11-15T05:35:58.374168Z",
     "shell.execute_reply": "2022-11-15T05:35:58.371912Z"
    },
    "papermill": {
     "duration": 3.427713,
     "end_time": "2022-11-15T05:35:58.377201",
     "exception": false,
     "start_time": "2022-11-15T05:35:54.949488",
     "status": "completed"
    },
    "tags": []
   },
   "outputs": [
    {
     "name": "stdout",
     "output_type": "stream",
     "text": [
      "\n",
      "**************************************************\n",
      "\n",
      "Actual     : Dog\n",
      "Prediction : Dog\n",
      "\n",
      "**************************************************\n",
      "\n",
      "Actual     : Cat\n",
      "Prediction : Cat\n",
      "\n",
      "**************************************************\n",
      "\n",
      "Actual     : Wild\n",
      "Prediction : Wild\n",
      "\n",
      "**************************************************\n",
      "\n",
      "Actual     : Wild\n",
      "Prediction : Wild\n",
      "\n",
      "**************************************************\n",
      "\n",
      "Actual     : Cat\n",
      "Prediction : Cat\n",
      "\n",
      "**************************************************\n",
      "\n",
      "Actual     : Wild\n",
      "Prediction : Wild\n",
      "\n",
      "**************************************************\n",
      "\n",
      "Actual     : Cat\n",
      "Prediction : Cat\n",
      "\n",
      "**************************************************\n",
      "\n",
      "Actual     : Cat\n",
      "Prediction : Cat\n",
      "\n",
      "**************************************************\n",
      "\n",
      "Actual     : Wild\n",
      "Prediction : Wild\n",
      "\n",
      "**************************************************\n",
      "\n",
      "Actual     : Cat\n",
      "Prediction : Cat\n",
      "\n",
      "**************************************************\n",
      "\n"
     ]
    }
   ],
   "source": [
    "df = pd.read_csv(\"../input/af-dataframe/test.csv\")\n",
    "\n",
    "breaker()\n",
    "for _ in range(10):\n",
    "    index = r.randint(0, df.shape[0] - 1)\n",
    "\n",
    "    filepath = df.iloc[index, 0]\n",
    "    y_true   = labels[df.iloc[index, 1]].title()\n",
    "    \n",
    "    image = get_image(filepath, cfg.size)\n",
    "\n",
    "    y_pred = onnx_model.infer(image, labels)\n",
    "\n",
    "    print(f\"Actual     : {y_true}\")\n",
    "    print(f\"Prediction : {y_pred}\")\n",
    "    breaker()"
   ]
  }
 ],
 "metadata": {
  "kernelspec": {
   "display_name": "Python 3",
   "language": "python",
   "name": "python3"
  },
  "language_info": {
   "codemirror_mode": {
    "name": "ipython",
    "version": 3
   },
   "file_extension": ".py",
   "mimetype": "text/x-python",
   "name": "python",
   "nbconvert_exporter": "python",
   "pygments_lexer": "ipython3",
   "version": "3.7.12"
  },
  "papermill": {
   "default_parameters": {},
   "duration": 74.204721,
   "end_time": "2022-11-15T05:35:59.505016",
   "environment_variables": {},
   "exception": null,
   "input_path": "__notebook__.ipynb",
   "output_path": "__notebook__.ipynb",
   "parameters": {},
   "start_time": "2022-11-15T05:34:45.300295",
   "version": "2.3.4"
  }
 },
 "nbformat": 4,
 "nbformat_minor": 5
}
