{
 "cells": [
  {
   "cell_type": "markdown",
   "id": "5e97db30",
   "metadata": {
    "_cell_guid": "b1076dfc-b9ad-4769-8c92-a6c4dae69d19",
    "_uuid": "8f2839f25d086af736a60e9eeb907d3b93b6e0e5",
    "papermill": {
     "duration": 0.004923,
     "end_time": "2022-11-10T19:33:50.701892",
     "exception": false,
     "start_time": "2022-11-10T19:33:50.696969",
     "status": "completed"
    },
    "tags": []
   },
   "source": [
    "##### **Setup**"
   ]
  },
  {
   "cell_type": "code",
   "execution_count": 1,
   "id": "7af6a7b3",
   "metadata": {
    "execution": {
     "iopub.execute_input": "2022-11-10T19:33:50.711449Z",
     "iopub.status.busy": "2022-11-10T19:33:50.710780Z",
     "iopub.status.idle": "2022-11-10T19:34:02.791020Z",
     "shell.execute_reply": "2022-11-10T19:34:02.789761Z"
    },
    "papermill": {
     "duration": 12.087748,
     "end_time": "2022-11-10T19:34:02.793534",
     "exception": false,
     "start_time": "2022-11-10T19:33:50.705786",
     "status": "completed"
    },
    "tags": []
   },
   "outputs": [
    {
     "name": "stderr",
     "output_type": "stream",
     "text": [
      "WARNING: Running pip as the 'root' user can result in broken permissions and conflicting behaviour with the system package manager. It is recommended to use a virtual environment instead: https://pip.pypa.io/warnings/venv\n"
     ]
    }
   ],
   "source": [
    "%%bash\n",
    "pip install timm -q"
   ]
  },
  {
   "cell_type": "markdown",
   "id": "02a1fe2b",
   "metadata": {
    "papermill": {
     "duration": 0.003837,
     "end_time": "2022-11-10T19:34:02.801632",
     "exception": false,
     "start_time": "2022-11-10T19:34:02.797795",
     "status": "completed"
    },
    "tags": []
   },
   "source": [
    "### **Library Imports**"
   ]
  },
  {
   "cell_type": "code",
   "execution_count": 2,
   "id": "e956be8d",
   "metadata": {
    "execution": {
     "iopub.execute_input": "2022-11-10T19:34:02.810901Z",
     "iopub.status.busy": "2022-11-10T19:34:02.810521Z",
     "iopub.status.idle": "2022-11-10T19:34:06.660976Z",
     "shell.execute_reply": "2022-11-10T19:34:06.659767Z"
    },
    "papermill": {
     "duration": 3.858045,
     "end_time": "2022-11-10T19:34:06.663596",
     "exception": false,
     "start_time": "2022-11-10T19:34:02.805551",
     "status": "completed"
    },
    "tags": []
   },
   "outputs": [],
   "source": [
    "import os\n",
    "import re\n",
    "import cv2\n",
    "import timm\n",
    "import torch\n",
    "import numpy as np\n",
    "import pandas as pd\n",
    "import matplotlib.pyplot as plt\n",
    "\n",
    "from time import time\n",
    "from typing import Union\n",
    "from torch import nn, optim\n",
    "from torch.utils.data import Dataset\n",
    "from torch.utils.data import DataLoader as DL\n",
    "from torchvision import models, transforms\n",
    "\n",
    "from sklearn.model_selection import StratifiedKFold"
   ]
  },
  {
   "cell_type": "markdown",
   "id": "ef092666",
   "metadata": {
    "papermill": {
     "duration": 0.005628,
     "end_time": "2022-11-10T19:34:06.675493",
     "exception": false,
     "start_time": "2022-11-10T19:34:06.669865",
     "status": "completed"
    },
    "tags": []
   },
   "source": [
    "### **Utilities and Helpers**"
   ]
  },
  {
   "cell_type": "code",
   "execution_count": 3,
   "id": "879a2f68",
   "metadata": {
    "execution": {
     "iopub.execute_input": "2022-11-10T19:34:06.689479Z",
     "iopub.status.busy": "2022-11-10T19:34:06.688532Z",
     "iopub.status.idle": "2022-11-10T19:34:06.705311Z",
     "shell.execute_reply": "2022-11-10T19:34:06.704516Z"
    },
    "papermill": {
     "duration": 0.026166,
     "end_time": "2022-11-10T19:34:06.707503",
     "exception": false,
     "start_time": "2022-11-10T19:34:06.681337",
     "status": "completed"
    },
    "tags": []
   },
   "outputs": [],
   "source": [
    "SEED = 42\n",
    "SIZE = 384\n",
    "\n",
    "\n",
    "def breaker(num: int=50, char: str=\"*\") -> None:\n",
    "    print(\"\\n\" + num*char + \"\\n\")\n",
    "\n",
    "    \n",
    "def get_image(path: str, size: int=224) -> np.ndarray:\n",
    "    image = cv2.imread(path, cv2.IMREAD_COLOR)\n",
    "    image = cv2.cvtColor(src=image, code=cv2.COLOR_BGR2RGB)\n",
    "    return cv2.resize(src=image, dsize=(size, size), interpolation=cv2.INTER_AREA)\n",
    "\n",
    "    \n",
    "def show_loss_graphs(L: list) -> None:\n",
    "    TL, VL = [], []\n",
    "    for i in range(len(L)):\n",
    "        TL.append(L[i][\"train\"])\n",
    "        VL.append(L[i][\"valid\"])\n",
    "    x_Axis = np.arange(1, len(TL) + 1)\n",
    "    plt.figure()\n",
    "    plt.plot(x_Axis, TL, \"r\", label=\"Train\")\n",
    "    plt.plot(x_Axis, VL, \"b\", label=\"Valid\")\n",
    "    plt.legend()\n",
    "    plt.grid()\n",
    "    plt.title(\"Loss Graph\")\n",
    "    plt.show()\n",
    "\n",
    "    \n",
    "def show_accuracy_graphs(A: list) -> None:\n",
    "    TA, VA = [], []\n",
    "    for i in range(len(A)):\n",
    "        TA.append(A[i][\"train\"])\n",
    "        VA.append(A[i][\"valid\"])\n",
    "    x_Axis = np.arange(1, len(TA) + 1)\n",
    "    plt.figure()\n",
    "    plt.plot(x_Axis, TA, \"r\", label=\"Train\")\n",
    "    plt.plot(x_Axis, VA, \"b\", label=\"Valid\")\n",
    "    plt.legend()\n",
    "    plt.grid()\n",
    "    plt.title(\"Accuracy Graph\")\n",
    "    plt.show()\n",
    "    \n",
    "\n",
    "def show_lr_graph(LR: list) -> None:\n",
    "    x_Axis = [i+1 for i in range(len(LR))]\n",
    "    plt.figure(figsize=(8, 6))\n",
    "    plt.plot(x_Axis, LR, \"rx\")\n",
    "    plt.grid()\n",
    "    plt.show()"
   ]
  },
  {
   "cell_type": "markdown",
   "id": "fc9994fd",
   "metadata": {
    "papermill": {
     "duration": 0.005714,
     "end_time": "2022-11-10T19:34:06.718972",
     "exception": false,
     "start_time": "2022-11-10T19:34:06.713258",
     "status": "completed"
    },
    "tags": []
   },
   "source": [
    "### **Configuration**"
   ]
  },
  {
   "cell_type": "code",
   "execution_count": 4,
   "id": "c7961dbd",
   "metadata": {
    "execution": {
     "iopub.execute_input": "2022-11-10T19:34:06.732664Z",
     "iopub.status.busy": "2022-11-10T19:34:06.732181Z",
     "iopub.status.idle": "2022-11-10T19:34:06.819514Z",
     "shell.execute_reply": "2022-11-10T19:34:06.818656Z"
    },
    "papermill": {
     "duration": 0.097488,
     "end_time": "2022-11-10T19:34:06.822160",
     "exception": false,
     "start_time": "2022-11-10T19:34:06.724672",
     "status": "completed"
    },
    "tags": []
   },
   "outputs": [],
   "source": [
    "class CFG(object):\n",
    "    def __init__(self, \n",
    "                 seed: int = 42,\n",
    "                 size: int = 224,\n",
    "                 n_splits: int = 5,\n",
    "                 batch_size: int = 16,\n",
    "                 epochs: int = 25,\n",
    "                 early_stopping: int = 5,\n",
    "                 lr: float = 1e-4,\n",
    "                 wd: float = 0.0,\n",
    "                 max_lr: float = 1e-3,\n",
    "                 pct_start: float = 0.2,\n",
    "                 steps_per_epoch: int = 100,\n",
    "                 div_factor: int = 1e3, \n",
    "                 final_div_factor: float = 1e3,\n",
    "                 ):\n",
    "        self.seed = seed\n",
    "        self.size = size\n",
    "        self.n_splits = n_splits\n",
    "        self.batch_size = batch_size\n",
    "        self.epochs = epochs\n",
    "        self.early_stopping = early_stopping\n",
    "        self.lr = lr\n",
    "        self.wd = wd\n",
    "        self.max_lr = max_lr\n",
    "        self.pct_start = pct_start\n",
    "        self.steps_per_epoch = steps_per_epoch\n",
    "        self.div_factor = div_factor\n",
    "        self.final_div_factor = final_div_factor\n",
    "        self.device = torch.device(\"cuda\" if torch.cuda.is_available() else \"cpu\")\n",
    "        \n",
    "        if self.size == 224:\n",
    "            self.train_transform = transforms.Compose([\n",
    "                transforms.ToTensor(),\n",
    "                transforms.Normalize([0.50208, 0.45985, 0.39904], [0.22045, 0.21381, 0.21296]),\n",
    "                transforms.RandomAffine(degrees=(-45, 45), translate=(0.15, 0.15), scale=(0.5, 1.5)),\n",
    "                transforms.RandomHorizontalFlip(p=0.25),\n",
    "                transforms.RandomVerticalFlip(p=0.25),\n",
    "            ])\n",
    "            self.valid_transform = transforms.Compose([\n",
    "                transforms.ToTensor(),\n",
    "                transforms.Normalize([0.50208, 0.45985, 0.39904], [0.22045, 0.21381, 0.21296]),\n",
    "            ])\n",
    "        \n",
    "        if self.size == 384:\n",
    "            self.train_transform = transforms.Compose([\n",
    "                transforms.ToTensor(),\n",
    "                transforms.Normalize([0.50208, 0.45985, 0.39904], [0.22223, 0.21564, 0.21480]),\n",
    "                transforms.RandomAffine(degrees=(-45, 45), translate=(0.15, 0.15), scale=(0.5, 1.5)),\n",
    "                transforms.RandomHorizontalFlip(p=0.25),\n",
    "                transforms.RandomVerticalFlip(p=0.25),\n",
    "            ])\n",
    "            self.valid_transform = transforms.Compose([\n",
    "                transforms.ToTensor(),\n",
    "                transforms.Normalize([0.50208, 0.45985, 0.39904], [0.22223, 0.21564, 0.21480]),\n",
    "            ])\n",
    "        \n",
    "        if self.size == 512:\n",
    "            self.train_transform = transforms.Compose([\n",
    "                transforms.ToTensor(),\n",
    "                transforms.Normalize([0.50208, 0.45985, 0.39904], [0.22500, 0.21850, 0.21770]),\n",
    "                transforms.RandomAffine(degrees=(-45, 45), translate=(0.15, 0.15), scale=(0.5, 1.5)),\n",
    "                transforms.RandomHorizontalFlip(p=0.25),\n",
    "                transforms.RandomVerticalFlip(p=0.25),\n",
    "            ])\n",
    "            self.valid_transform = transforms.Compose([\n",
    "                transforms.ToTensor(),\n",
    "                transforms.Normalize([0.50208, 0.45985, 0.39904], [0.22500, 0.21850, 0.21770]),\n",
    "            ])\n",
    "                                \n",
    "        self.save_path = \"saves\"\n",
    "        if not os.path.exists(self.save_path): os.makedirs(self.save_path)\n",
    "    \n",
    "cfg = CFG(seed=SEED, size=SIZE)"
   ]
  },
  {
   "cell_type": "markdown",
   "id": "e7d3b5b2",
   "metadata": {
    "papermill": {
     "duration": 0.005536,
     "end_time": "2022-11-10T19:34:06.833793",
     "exception": false,
     "start_time": "2022-11-10T19:34:06.828257",
     "status": "completed"
    },
    "tags": []
   },
   "source": [
    "### **Dataset Template**"
   ]
  },
  {
   "cell_type": "code",
   "execution_count": 5,
   "id": "a1e40157",
   "metadata": {
    "execution": {
     "iopub.execute_input": "2022-11-10T19:34:06.846575Z",
     "iopub.status.busy": "2022-11-10T19:34:06.846254Z",
     "iopub.status.idle": "2022-11-10T19:34:06.855717Z",
     "shell.execute_reply": "2022-11-10T19:34:06.854899Z"
    },
    "papermill": {
     "duration": 0.018556,
     "end_time": "2022-11-10T19:34:06.858185",
     "exception": false,
     "start_time": "2022-11-10T19:34:06.839629",
     "status": "completed"
    },
    "tags": []
   },
   "outputs": [],
   "source": [
    "class DS(Dataset):\n",
    "    def __init__(\n",
    "        self, \n",
    "        filepaths: np.ndarray, \n",
    "        size: int,\n",
    "        labels: Union[np.ndarray, None]=None, \n",
    "        transform=None\n",
    "    ):\n",
    "        \n",
    "        self.filepaths = filepaths\n",
    "        self.labels = labels\n",
    "        self.size = size\n",
    "        self.transform = transform\n",
    "    \n",
    "    def __len__(self):\n",
    "        return self.filepaths.shape[0]\n",
    "    \n",
    "    def __getitem__(self, idx):\n",
    "        image = get_image(self.filepaths[idx], self.size)\n",
    "        if self.labels is None:\n",
    "            return self.transform(image)\n",
    "        return self.transform(image), torch.LongTensor(self.labels[idx])"
   ]
  },
  {
   "cell_type": "markdown",
   "id": "e044b1fc",
   "metadata": {
    "papermill": {
     "duration": 0.005929,
     "end_time": "2022-11-10T19:34:06.869875",
     "exception": false,
     "start_time": "2022-11-10T19:34:06.863946",
     "status": "completed"
    },
    "tags": []
   },
   "source": [
    "### **Model**"
   ]
  },
  {
   "cell_type": "code",
   "execution_count": 6,
   "id": "d26275fe",
   "metadata": {
    "execution": {
     "iopub.execute_input": "2022-11-10T19:34:06.882369Z",
     "iopub.status.busy": "2022-11-10T19:34:06.882070Z",
     "iopub.status.idle": "2022-11-10T19:34:06.889632Z",
     "shell.execute_reply": "2022-11-10T19:34:06.888865Z"
    },
    "papermill": {
     "duration": 0.016542,
     "end_time": "2022-11-10T19:34:06.892105",
     "exception": false,
     "start_time": "2022-11-10T19:34:06.875563",
     "status": "completed"
    },
    "tags": []
   },
   "outputs": [],
   "source": [
    "class Model(nn.Module):\n",
    "    def __init__(self):\n",
    "        super(Model, self).__init__()\n",
    "            \n",
    "        self.model = timm.create_model(model_name=\"efficientnet_b4\", pretrained=True)\n",
    "        self.model.classifier = nn.Linear(in_features=self.model.classifier.in_features, out_features=11)\n",
    "\n",
    "    def forward(self, x):\n",
    "        return nn.LogSoftmax(dim=1)(self.model(x))"
   ]
  },
  {
   "cell_type": "markdown",
   "id": "72cfac8c",
   "metadata": {
    "papermill": {
     "duration": 0.005425,
     "end_time": "2022-11-10T19:34:06.903242",
     "exception": false,
     "start_time": "2022-11-10T19:34:06.897817",
     "status": "completed"
    },
    "tags": []
   },
   "source": [
    "### **Fit and Predict**"
   ]
  },
  {
   "cell_type": "code",
   "execution_count": 7,
   "id": "eb02ab12",
   "metadata": {
    "execution": {
     "iopub.execute_input": "2022-11-10T19:34:06.915897Z",
     "iopub.status.busy": "2022-11-10T19:34:06.915583Z",
     "iopub.status.idle": "2022-11-10T19:34:06.945466Z",
     "shell.execute_reply": "2022-11-10T19:34:06.944698Z"
    },
    "papermill": {
     "duration": 0.038965,
     "end_time": "2022-11-10T19:34:06.947905",
     "exception": false,
     "start_time": "2022-11-10T19:34:06.908940",
     "status": "completed"
    },
    "tags": []
   },
   "outputs": [],
   "source": [
    "def fit(\n",
    "    model=None,\n",
    "    optimizer=None, \n",
    "    scheduler_rlrop=None,\n",
    "    scheduler_oclr=None,\n",
    "    epochs=None, \n",
    "    early_stopping_patience=None, \n",
    "    dataloaders=None, \n",
    "    fold=None, \n",
    "    save_path=None,\n",
    "    device=None,\n",
    "    verbose=False\n",
    ") -> tuple:\n",
    "    \n",
    "    def get_accuracy(y_pred, y_true):\n",
    "        y_pred = torch.argmax(y_pred, dim=1)\n",
    "        return torch.count_nonzero(y_pred == y_true).item() / len(y_pred)\n",
    "    \n",
    "    \n",
    "    if verbose:\n",
    "        breaker()\n",
    "        if fold: print(f\"Training Fold {fold}...\")\n",
    "        else: print(\"Training ...\")\n",
    "        breaker()\n",
    "        \n",
    "    bestLoss: dict = {\"train\" : np.inf, \"valid\" : np.inf} \n",
    "    bestAccs: dict = {\"train\" : 0.0, \"valid\" : 0.0}\n",
    "    \n",
    "    Losses: list = []\n",
    "    Accuracies: list = [] \n",
    "    LRs: list = []\n",
    "        \n",
    "    if fold: \n",
    "        ble_name = f\"ble_state_fold_{fold}.pt\"\n",
    "        bae_name = f\"bae_state_fold_{fold}.pt\"\n",
    "    else: \n",
    "        ble_name = f\"ble_state.pt\"\n",
    "        bae_name = f\"bae_state.pt\"\n",
    "        \n",
    "    start_time = time()\n",
    "    for e in range(epochs):\n",
    "        e_st = time()\n",
    "        epochLoss: dict = {\"train\" : 0.0, \"valid\" : 0.0} \n",
    "        epochAccs: dict = {\"train\" : 0.0, \"valid\" : 0.0}\n",
    "\n",
    "        for phase in [\"train\", \"valid\"]:\n",
    "            if phase == \"train\":\n",
    "                model.train()\n",
    "            else:\n",
    "                model.eval()\n",
    "            \n",
    "            lossPerPass: list = []\n",
    "            accsPerPass: list = []\n",
    "                \n",
    "            for X, y in dataloaders[phase]:\n",
    "                X, y = X.to(device), y.to(device).view(-1)\n",
    "\n",
    "                optimizer.zero_grad()\n",
    "                with torch.set_grad_enabled(phase == \"train\"):\n",
    "                    output = model(X)\n",
    "                    loss = torch.nn.NLLLoss()(output, y)\n",
    "                    if phase == \"train\":\n",
    "                        loss.backward()\n",
    "                        optimizer.step()\n",
    "                        if scheduler_oclr: scheduler_oclr.step()\n",
    "                lossPerPass.append(loss.item())\n",
    "                accsPerPass.append(get_accuracy(output, y))\n",
    "            epochLoss[phase] = np.mean(np.array(lossPerPass))\n",
    "            epochAccs[phase] = np.mean(np.array(accsPerPass))\n",
    "        if scheduler_oclr: LRs.append(scheduler_oclr.get_last_lr())\n",
    "        Losses.append(epochLoss)\n",
    "        Accuracies.append(epochAccs)\n",
    "        \n",
    "        if scheduler_oclr:\n",
    "            save_dict = {\"model_state_dict\"     : model.state_dict(),\n",
    "                         \"optim_state_dict\"     : optimizer.state_dict(),\n",
    "                         \"scheduler_state_dict\" : scheduler_oclr.state_dict()}\n",
    "        \n",
    "        elif scheduler_rlrop:\n",
    "            save_dict = {\"model_state_dict\"     : model.state_dict(),\n",
    "                         \"optim_state_dict\"     : optimizer.state_dict(),\n",
    "                         \"scheduler_state_dict\" : scheduler_rlrop.state_dict()}\n",
    "        \n",
    "        else:\n",
    "            save_dict = {\"model_state_dict\"     : model.state_dict(),\n",
    "                         \"optim_state_dict\"     : optimizer.state_dict()}\n",
    "        \n",
    "        if early_stopping_patience:\n",
    "            if epochLoss[\"valid\"] < bestLoss[\"valid\"]:\n",
    "                bestLoss = epochLoss\n",
    "                BLE = e + 1\n",
    "                torch.save(save_dict, os.path.join(save_path, ble_name))\n",
    "                torch.save(save_dict, os.path.join(save_path, bae_name))\n",
    "                early_stopping_step = 0\n",
    "            else:\n",
    "                early_stopping_step += 1\n",
    "                if early_stopping_step > early_stopping_patience:\n",
    "                    print(\"\\nEarly Stopping at Epoch {}\".format(e + 1))\n",
    "                    break\n",
    "        \n",
    "        if epochLoss[\"valid\"] < bestLoss[\"valid\"]:\n",
    "            bestLoss = epochLoss\n",
    "            BLE = e + 1\n",
    "            torch.save(save_dict,os.path.join(save_path, ble_name))\n",
    "        \n",
    "        if epochAccs[\"valid\"] > bestAccs[\"valid\"]:\n",
    "            bestAccs = epochAccs\n",
    "            BAE = e + 1\n",
    "            torch.save(save_dict,os.path.join(save_path, bae_name))\n",
    "        \n",
    "        if scheduler_rlrop: scheduler_rlrop.step(epochLoss[\"valid\"])\n",
    "        \n",
    "        if verbose:\n",
    "            print(\"Epoch: {} | Train Loss: {:.5f} | Valid Loss: {:.5f} |\\\n",
    " Train Accs: {:.5f} | Valid Accs: {:.5f} | Time: {:.2f} seconds\".format(e+1, \n",
    "                                                                        epochLoss[\"train\"], epochLoss[\"valid\"], \n",
    "                                                                        epochAccs[\"train\"], epochAccs[\"valid\"], \n",
    "                                                                        time()-e_st))\n",
    "\n",
    "    if verbose:                                           \n",
    "        breaker()\n",
    "        print(f\"Best Validation Loss at Epoch {BLE}\")\n",
    "        breaker()\n",
    "        print(f\"Best Validation Accs at Epoch {BAE}\")\n",
    "        breaker()\n",
    "        print(\"Time Taken [{} Epochs] : {:.2f} minutes\".format(len(Losses), (time()-start_time)/60))\n",
    "    \n",
    "    return Losses, Accuracies, LRs, bestLoss, bestAccs, BLE, BAE, ble_name, bae_name\n",
    "\n",
    "\n",
    "# def predict_batch(model=None, dataloader=None, path=None, device=None) -> np.ndarray:\n",
    "#     model.load_state_dict(torch.load(path, map_location=device)[\"model_state_dict\"])\n",
    "#     model.to(device)    \n",
    "#     model.eval()\n",
    "    \n",
    "#     y_pred = torch.zeros(1, 1).to(device)\n",
    "    \n",
    "#     for X in dataloader:\n",
    "#         X = X.to(device)\n",
    "#         with torch.no_grad():\n",
    "#             output = torch.argmax(torch.exp(model(X)), dim=1)\n",
    "#         y_pred = torch.cat((y_pred, output.view(-1, 1)), dim=0)\n",
    "    \n",
    "#     return y_pred[1:].detach().cpu().numpy()"
   ]
  },
  {
   "cell_type": "markdown",
   "id": "e2811b7c",
   "metadata": {
    "papermill": {
     "duration": 0.006605,
     "end_time": "2022-11-10T19:34:06.960658",
     "exception": false,
     "start_time": "2022-11-10T19:34:06.954053",
     "status": "completed"
    },
    "tags": []
   },
   "source": [
    "### **Train**"
   ]
  },
  {
   "cell_type": "code",
   "execution_count": 8,
   "id": "93993a74",
   "metadata": {
    "execution": {
     "iopub.execute_input": "2022-11-10T19:34:06.973081Z",
     "iopub.status.busy": "2022-11-10T19:34:06.972777Z",
     "iopub.status.idle": "2022-11-10T19:34:07.029769Z",
     "shell.execute_reply": "2022-11-10T19:34:07.028989Z"
    },
    "papermill": {
     "duration": 0.066,
     "end_time": "2022-11-10T19:34:07.032326",
     "exception": false,
     "start_time": "2022-11-10T19:34:06.966326",
     "status": "completed"
    },
    "tags": []
   },
   "outputs": [],
   "source": [
    "df = pd.read_csv(\"../input/af-dataframe/train.csv\")\n",
    "\n",
    "filepaths = df.filepaths.copy().values\n",
    "labels = df.labels.copy().values"
   ]
  },
  {
   "cell_type": "code",
   "execution_count": 9,
   "id": "e783b983",
   "metadata": {
    "execution": {
     "iopub.execute_input": "2022-11-10T19:34:07.045417Z",
     "iopub.status.busy": "2022-11-10T19:34:07.045115Z",
     "iopub.status.idle": "2022-11-10T23:34:37.058060Z",
     "shell.execute_reply": "2022-11-10T23:34:37.056845Z"
    },
    "papermill": {
     "duration": 14430.021749,
     "end_time": "2022-11-10T23:34:37.060188",
     "exception": false,
     "start_time": "2022-11-10T19:34:07.038439",
     "status": "completed"
    },
    "tags": []
   },
   "outputs": [
    {
     "name": "stderr",
     "output_type": "stream",
     "text": [
      "Downloading: \"https://github.com/rwightman/pytorch-image-models/releases/download/v0.1-weights/efficientnet_b4_ra2_320-7eb33cd5.pth\" to /root/.cache/torch/hub/checkpoints/efficientnet_b4_ra2_320-7eb33cd5.pth\n"
     ]
    },
    {
     "name": "stdout",
     "output_type": "stream",
     "text": [
      "\n",
      "**************************************************\n",
      "\n",
      "Training Fold 2...\n",
      "\n",
      "**************************************************\n",
      "\n",
      "Epoch: 1 | Train Loss: 1.39465 | Valid Loss: 0.02461 | Train Accs: 0.64874 | Valid Accs: 0.99761 | Time: 711.82 seconds\n",
      "Epoch: 2 | Train Loss: 0.03851 | Valid Loss: 0.00903 | Train Accs: 0.98941 | Valid Accs: 0.99829 | Time: 593.46 seconds\n",
      "Epoch: 3 | Train Loss: 0.03447 | Valid Loss: 0.01427 | Train Accs: 0.99018 | Valid Accs: 0.99624 | Time: 603.58 seconds\n",
      "Epoch: 4 | Train Loss: 0.03837 | Valid Loss: 0.01150 | Train Accs: 0.98847 | Valid Accs: 0.99693 | Time: 597.45 seconds\n",
      "Epoch: 5 | Train Loss: 0.03736 | Valid Loss: 0.02597 | Train Accs: 0.98830 | Valid Accs: 0.99214 | Time: 595.88 seconds\n",
      "Epoch: 6 | Train Loss: 0.03149 | Valid Loss: 0.01177 | Train Accs: 0.99103 | Valid Accs: 0.99658 | Time: 598.82 seconds\n",
      "Epoch: 7 | Train Loss: 0.02123 | Valid Loss: 0.00835 | Train Accs: 0.99351 | Valid Accs: 0.99693 | Time: 594.96 seconds\n",
      "Epoch: 8 | Train Loss: 0.02368 | Valid Loss: 0.00577 | Train Accs: 0.99291 | Valid Accs: 0.99795 | Time: 585.60 seconds\n",
      "Epoch: 9 | Train Loss: 0.01814 | Valid Loss: 0.00935 | Train Accs: 0.99402 | Valid Accs: 0.99693 | Time: 593.64 seconds\n",
      "Epoch: 10 | Train Loss: 0.01904 | Valid Loss: 0.01849 | Train Accs: 0.99402 | Valid Accs: 0.99556 | Time: 594.19 seconds\n",
      "Epoch: 11 | Train Loss: 0.01675 | Valid Loss: 0.01161 | Train Accs: 0.99454 | Valid Accs: 0.99693 | Time: 593.41 seconds\n",
      "Epoch: 12 | Train Loss: 0.00978 | Valid Loss: 0.00783 | Train Accs: 0.99710 | Valid Accs: 0.99863 | Time: 592.47 seconds\n",
      "Epoch: 13 | Train Loss: 0.01632 | Valid Loss: 0.00717 | Train Accs: 0.99505 | Valid Accs: 0.99727 | Time: 592.41 seconds\n",
      "Epoch: 14 | Train Loss: 0.01078 | Valid Loss: 0.00506 | Train Accs: 0.99684 | Valid Accs: 0.99898 | Time: 593.94 seconds\n",
      "Epoch: 15 | Train Loss: 0.00810 | Valid Loss: 0.00454 | Train Accs: 0.99735 | Valid Accs: 0.99898 | Time: 594.59 seconds\n",
      "Epoch: 16 | Train Loss: 0.00572 | Valid Loss: 0.00296 | Train Accs: 0.99804 | Valid Accs: 0.99863 | Time: 594.40 seconds\n",
      "Epoch: 17 | Train Loss: 0.00395 | Valid Loss: 0.00242 | Train Accs: 0.99906 | Valid Accs: 0.99863 | Time: 603.27 seconds\n",
      "Epoch: 18 | Train Loss: 0.00247 | Valid Loss: 0.00182 | Train Accs: 0.99898 | Valid Accs: 0.99932 | Time: 603.51 seconds\n",
      "Epoch: 19 | Train Loss: 0.00319 | Valid Loss: 0.00400 | Train Accs: 0.99880 | Valid Accs: 0.99761 | Time: 595.57 seconds\n",
      "Epoch: 20 | Train Loss: 0.00284 | Valid Loss: 0.00342 | Train Accs: 0.99932 | Valid Accs: 0.99932 | Time: 592.72 seconds\n",
      "Epoch: 21 | Train Loss: 0.00143 | Valid Loss: 0.00460 | Train Accs: 0.99949 | Valid Accs: 0.99761 | Time: 593.87 seconds\n",
      "Epoch: 22 | Train Loss: 0.00102 | Valid Loss: 0.00337 | Train Accs: 0.99957 | Valid Accs: 0.99829 | Time: 596.29 seconds\n",
      "Epoch: 23 | Train Loss: 0.00167 | Valid Loss: 0.00260 | Train Accs: 0.99932 | Valid Accs: 0.99863 | Time: 597.62 seconds\n",
      "\n",
      "Early Stopping at Epoch 24\n",
      "\n",
      "**************************************************\n",
      "\n",
      "Best Validation Loss at Epoch 18\n",
      "\n",
      "**************************************************\n",
      "\n",
      "Best Validation Accs at Epoch 18\n",
      "\n",
      "**************************************************\n",
      "\n",
      "Time Taken [24 Epochs] : 240.18 minutes\n",
      "\n",
      "**************************************************\n",
      "\n"
     ]
    },
    {
     "data": {
      "image/png": "[encoded data removed]",
      "text/plain": [
       "<Figure size 432x288 with 1 Axes>"
      ]
     },
     "metadata": {
      "needs_background": "light"
     },
     "output_type": "display_data"
    },
    {
     "name": "stdout",
     "output_type": "stream",
     "text": [
      "\n",
      "**************************************************\n",
      "\n"
     ]
    },
    {
     "data": {
      "image/png": "[encoded data removed]",
      "text/plain": [
       "<Figure size 432x288 with 1 Axes>"
      ]
     },
     "metadata": {
      "needs_background": "light"
     },
     "output_type": "display_data"
    },
    {
     "name": "stdout",
     "output_type": "stream",
     "text": [
      "\n",
      "**************************************************\n",
      "\n"
     ]
    },
    {
     "data": {
      "image/png": "[encoded data removed]",
      "text/plain": [
       "<Figure size 576x432 with 1 Axes>"
      ]
     },
     "metadata": {
      "needs_background": "light"
     },
     "output_type": "display_data"
    },
    {
     "name": "stdout",
     "output_type": "stream",
     "text": [
      "\n",
      "**************************************************\n",
      "\n"
     ]
    }
   ],
   "source": [
    "fold: int = 1\n",
    "BLs: list = []\n",
    "BAs: list = []\n",
    "    \n",
    "cfg.batch_size = 16\n",
    "    \n",
    "for tr_idx, va_idx in StratifiedKFold(n_splits=cfg.n_splits, random_state=cfg.seed, shuffle=True).split(filepaths, labels):\n",
    "    if fold == 2: break\n",
    "    fold += 1\n",
    "\n",
    "\n",
    "tr_filepaths, va_filepaths = filepaths[tr_idx], filepaths[va_idx] \n",
    "tr_labels, va_labels       = labels[tr_idx], labels[va_idx]\n",
    "\n",
    "tr_data_setup = DS(\n",
    "    filepaths=tr_filepaths, \n",
    "    labels=tr_labels.reshape(-1, 1),\n",
    "    size=cfg.size,\n",
    "    transform=cfg.train_transform\n",
    ")\n",
    "\n",
    "va_data_setup = DS(\n",
    "    filepaths=va_filepaths, \n",
    "    labels=va_labels.reshape(-1, 1),\n",
    "    size=cfg.size,\n",
    "    transform=cfg.valid_transform\n",
    ")\n",
    "\n",
    "dataloaders = {\n",
    "    \"train\" : DL(tr_data_setup, batch_size=cfg.batch_size, shuffle=True, generator=torch.manual_seed(cfg.seed)),\n",
    "    \"valid\" : DL(va_data_setup, batch_size=cfg.batch_size, shuffle=False),\n",
    "}\n",
    "\n",
    "cfg.steps_per_epoch=len(dataloaders[\"train\"])\n",
    "\n",
    "torch.manual_seed(cfg.seed)\n",
    "model = Model().to(cfg.device)\n",
    "\n",
    "optimizer = optim.Adam([p for p in model.parameters() if p.requires_grad], lr=cfg.lr, weight_decay=cfg.wd)\n",
    "# optimizer = optim.AdamW([p for p in model.parameters() if p.requires_grad], lr=cfg.lr, weight_decay=cfg.wd)\n",
    "# optimizer = optim.SGD([p for p in model.parameters() if p.requires_grad], lr=cfg.lr, weight_decay=cfg.wd, momentum=0.9)\n",
    "\n",
    "scheduler_oclr = optim.lr_scheduler.OneCycleLR(\n",
    "    optimizer=optimizer, \n",
    "    max_lr=cfg.max_lr, \n",
    "    epochs=cfg.epochs, \n",
    "    steps_per_epoch=cfg.steps_per_epoch,\n",
    "    pct_start=cfg.pct_start, \n",
    "    div_factor=cfg.div_factor, \n",
    "    final_div_factor=cfg.final_div_factor\n",
    ")\n",
    "\n",
    "# scheduler_rlrop = optim.lr_scheduler.ReduceLROnPlateau(\n",
    "#     optimizer=optimizer,\n",
    "#     patience=cfg.patience,\n",
    "#     eps=cfg.eps,\n",
    "#     verbose=True\n",
    "# )\n",
    "\n",
    "# scheduler_oclr = None\n",
    "scheduler_rlrop = None\n",
    "\n",
    "\n",
    "L, A, LR, BL, BA, _, _, _, _ = fit(\n",
    "    model=model, \n",
    "    optimizer=optimizer, \n",
    "    scheduler_oclr=scheduler_oclr,\n",
    "    scheduler_rlrop=scheduler_rlrop,\n",
    "    epochs=cfg.epochs, \n",
    "    early_stopping_patience=cfg.early_stopping, \n",
    "    dataloaders=dataloaders, \n",
    "    device=cfg.device,\n",
    "    save_path=cfg.save_path,\n",
    "    fold=fold,\n",
    "    verbose=True\n",
    ")\n",
    "\n",
    "\n",
    "breaker()\n",
    "show_loss_graphs(L)\n",
    "breaker()\n",
    "show_accuracy_graphs(A)\n",
    "breaker()\n",
    "if scheduler_oclr:\n",
    "    show_lr_graph(LR)\n",
    "    breaker()\n",
    "\n",
    "# BLs.append(BL)\n",
    "# BAs.append(BA)\n",
    "\n",
    "# fold += 1"
   ]
  },
  {
   "cell_type": "markdown",
   "id": "d4908eec",
   "metadata": {
    "papermill": {
     "duration": 0.006216,
     "end_time": "2022-11-10T23:34:37.073028",
     "exception": false,
     "start_time": "2022-11-10T23:34:37.066812",
     "status": "completed"
    },
    "tags": []
   },
   "source": [
    "### **Best Model**"
   ]
  },
  {
   "cell_type": "code",
   "execution_count": 10,
   "id": "21463770",
   "metadata": {
    "execution": {
     "iopub.execute_input": "2022-11-10T23:34:37.087209Z",
     "iopub.status.busy": "2022-11-10T23:34:37.086311Z",
     "iopub.status.idle": "2022-11-10T23:34:37.090945Z",
     "shell.execute_reply": "2022-11-10T23:34:37.090022Z"
    },
    "papermill": {
     "duration": 0.01367,
     "end_time": "2022-11-10T23:34:37.092869",
     "exception": false,
     "start_time": "2022-11-10T23:34:37.079199",
     "status": "completed"
    },
    "tags": []
   },
   "outputs": [],
   "source": [
    "# BL = np.inf\n",
    "# for i in range(len(BLs)):\n",
    "#     if BLs[i][\"valid\"] < BL:\n",
    "#         BL = BLs[i][\"valid\"]\n",
    "#         best_loss_index = i\n",
    "\n",
    "        \n",
    "# BA = 0.0\n",
    "# for i in range(len(BAs)):\n",
    "#     if BAs[i][\"valid\"] > BA:\n",
    "#         BA = BAs[i][\"valid\"]\n",
    "#         best_accs_index = i\n",
    "\n",
    "# breaker()\n",
    "# print(f\"Best Loss Model Fold     : {best_loss_index + 1}\")\n",
    "# print(f\"Best Accuracy Model Fold : {best_accs_index + 1}\")\n",
    "# breaker()"
   ]
  }
 ],
 "metadata": {
  "kernelspec": {
   "display_name": "Python 3",
   "language": "python",
   "name": "python3"
  },
  "language_info": {
   "codemirror_mode": {
    "name": "ipython",
    "version": 3
   },
   "file_extension": ".py",
   "mimetype": "text/x-python",
   "name": "python",
   "nbconvert_exporter": "python",
   "pygments_lexer": "ipython3",
   "version": "3.7.12"
  },
  "papermill": {
   "default_parameters": {},
   "duration": 14456.22889,
   "end_time": "2022-11-10T23:34:39.415255",
   "environment_variables": {},
   "exception": null,
   "input_path": "__notebook__.ipynb",
   "output_path": "__notebook__.ipynb",
   "parameters": {},
   "start_time": "2022-11-10T19:33:43.186365",
   "version": "2.3.4"
  }
 },
 "nbformat": 4,
 "nbformat_minor": 5
}
