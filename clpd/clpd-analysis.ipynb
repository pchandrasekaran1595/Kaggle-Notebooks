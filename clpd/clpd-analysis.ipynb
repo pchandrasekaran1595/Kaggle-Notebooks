{
 "cells": [
  {
   "cell_type": "code",
   "execution_count": 1,
   "id": "5f39d407",
   "metadata": {
    "_cell_guid": "b1076dfc-b9ad-4769-8c92-a6c4dae69d19",
    "_uuid": "8f2839f25d086af736a60e9eeb907d3b93b6e0e5",
    "execution": {
     "iopub.execute_input": "2022-07-03T13:08:44.502901Z",
     "iopub.status.busy": "2022-07-03T13:08:44.502262Z",
     "iopub.status.idle": "2022-07-03T13:08:44.517625Z",
     "shell.execute_reply": "2022-07-03T13:08:44.516487Z"
    },
    "papermill": {
     "duration": 0.023701,
     "end_time": "2022-07-03T13:08:44.520704",
     "exception": false,
     "start_time": "2022-07-03T13:08:44.497003",
     "status": "completed"
    },
    "tags": []
   },
   "outputs": [],
   "source": [
    "import os\n",
    "import numpy as np\n",
    "import pandas as pd\n",
    "import xml.etree.ElementTree as ET "
   ]
  },
  {
   "cell_type": "code",
   "execution_count": 2,
   "id": "b786d023",
   "metadata": {
    "execution": {
     "iopub.execute_input": "2022-07-03T13:08:44.527453Z",
     "iopub.status.busy": "2022-07-03T13:08:44.527055Z",
     "iopub.status.idle": "2022-07-03T13:08:44.533799Z",
     "shell.execute_reply": "2022-07-03T13:08:44.532631Z"
    },
    "papermill": {
     "duration": 0.012956,
     "end_time": "2022-07-03T13:08:44.536191",
     "exception": false,
     "start_time": "2022-07-03T13:08:44.523235",
     "status": "completed"
    },
    "tags": []
   },
   "outputs": [],
   "source": [
    "def get_size(ele) -> tuple:\n",
    "    return int(ele[0].text), int(ele[1].text), int(ele[2].text)\n",
    "\n",
    "\n",
    "def get_bbox(ele, w: int, h: int) -> tuple:\n",
    "    return int(ele[0].text)/w, int(ele[1].text)/h, int(ele[2].text)/w, int(ele[3].text)/h"
   ]
  },
  {
   "cell_type": "code",
   "execution_count": 3,
   "id": "4e6b1732",
   "metadata": {
    "execution": {
     "iopub.execute_input": "2022-07-03T13:08:44.543280Z",
     "iopub.status.busy": "2022-07-03T13:08:44.542393Z",
     "iopub.status.idle": "2022-07-03T13:08:45.783909Z",
     "shell.execute_reply": "2022-07-03T13:08:45.782732Z"
    },
    "papermill": {
     "duration": 1.248636,
     "end_time": "2022-07-03T13:08:45.787158",
     "exception": false,
     "start_time": "2022-07-03T13:08:44.538522",
     "status": "completed"
    },
    "tags": []
   },
   "outputs": [],
   "source": [
    "XML_FILES_PATH = \"../input/car-plate-detection/annotations\"\n",
    "\n",
    "xml_filenames = sorted(os.listdir(XML_FILES_PATH))\n",
    "filenames = [filename[:-3]+\"png\" for filename in xml_filenames]\n",
    "\n",
    "x1s, y1s, x2s, y2s = [], [], [], []\n",
    "\n",
    "for xml_file in xml_filenames:\n",
    "    tree = ET.parse(os.path.join(XML_FILES_PATH, xml_file))\n",
    "    root = tree.getroot()\n",
    "    w, h, c = get_size(root[2])\n",
    "    (x1, y1, x2, y2) = get_bbox(root[-1][-1], w, h)\n",
    "    x1s.append(x1)\n",
    "    y1s.append(y1)\n",
    "    x2s.append(x2)\n",
    "    y2s.append(y2)"
   ]
  },
  {
   "cell_type": "code",
   "execution_count": 4,
   "id": "94385a36",
   "metadata": {
    "execution": {
     "iopub.execute_input": "2022-07-03T13:08:45.795414Z",
     "iopub.status.busy": "2022-07-03T13:08:45.794625Z",
     "iopub.status.idle": "2022-07-03T13:08:45.829563Z",
     "shell.execute_reply": "2022-07-03T13:08:45.828382Z"
    },
    "papermill": {
     "duration": 0.042049,
     "end_time": "2022-07-03T13:08:45.832697",
     "exception": false,
     "start_time": "2022-07-03T13:08:45.790648",
     "status": "completed"
    },
    "tags": []
   },
   "outputs": [],
   "source": [
    "df = pd.DataFrame(data=None, columns=[\"filenames\", \"x1\", \"y1\", \"x2\", \"y2\"])\n",
    "\n",
    "# bbox = np.concatenate((np.array(x1s).reshape(-1, 1),\n",
    "#                        np.array(y1s).reshape(-1, 1),\n",
    "#                        np.array(x2s).reshape(-1, 1),\n",
    "#                        np.array(y2s).reshape(-1, 1)),\n",
    "#                      axis=1)\n",
    "\n",
    "df.filenames = filenames\n",
    "df.x1 = x1s\n",
    "df.y1 = y1s\n",
    "df.x2 = x2s\n",
    "df.y2 = y2s\n",
    "\n",
    "df.to_csv(\"data.csv\", index=False)"
   ]
  }
 ],
 "metadata": {
  "kernelspec": {
   "display_name": "Python 3",
   "language": "python",
   "name": "python3"
  },
  "language_info": {
   "codemirror_mode": {
    "name": "ipython",
    "version": 3
   },
   "file_extension": ".py",
   "mimetype": "text/x-python",
   "name": "python",
   "nbconvert_exporter": "python",
   "pygments_lexer": "ipython3",
   "version": "3.7.12"
  },
  "papermill": {
   "default_parameters": {},
   "duration": 12.339639,
   "end_time": "2022-07-03T13:08:46.761977",
   "environment_variables": {},
   "exception": null,
   "input_path": "__notebook__.ipynb",
   "output_path": "__notebook__.ipynb",
   "parameters": {},
   "start_time": "2022-07-03T13:08:34.422338",
   "version": "2.3.4"
  }
 },
 "nbformat": 4,
 "nbformat_minor": 5
}
