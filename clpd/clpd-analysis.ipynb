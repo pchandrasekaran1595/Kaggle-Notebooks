{
 "cells": [
  {
   "cell_type": "code",
   "execution_count": 1,
   "id": "1c720146",
   "metadata": {
    "_cell_guid": "b1076dfc-b9ad-4769-8c92-a6c4dae69d19",
    "_uuid": "8f2839f25d086af736a60e9eeb907d3b93b6e0e5",
    "execution": {
     "iopub.execute_input": "2022-07-03T13:20:55.656145Z",
     "iopub.status.busy": "2022-07-03T13:20:55.655635Z",
     "iopub.status.idle": "2022-07-03T13:20:55.893590Z",
     "shell.execute_reply": "2022-07-03T13:20:55.892327Z"
    },
    "papermill": {
     "duration": 0.246362,
     "end_time": "2022-07-03T13:20:55.896653",
     "exception": false,
     "start_time": "2022-07-03T13:20:55.650291",
     "status": "completed"
    },
    "tags": []
   },
   "outputs": [],
   "source": [
    "import os\n",
    "import cv2\n",
    "import numpy as np\n",
    "import pandas as pd\n",
    "import xml.etree.ElementTree as ET "
   ]
  },
  {
   "cell_type": "code",
   "execution_count": 2,
   "id": "f7478c65",
   "metadata": {
    "execution": {
     "iopub.execute_input": "2022-07-03T13:20:55.903536Z",
     "iopub.status.busy": "2022-07-03T13:20:55.903168Z",
     "iopub.status.idle": "2022-07-03T13:20:55.916971Z",
     "shell.execute_reply": "2022-07-03T13:20:55.915692Z"
    },
    "papermill": {
     "duration": 0.019889,
     "end_time": "2022-07-03T13:20:55.919356",
     "exception": false,
     "start_time": "2022-07-03T13:20:55.899467",
     "status": "completed"
    },
    "tags": []
   },
   "outputs": [],
   "source": [
    "def get_size(ele) -> tuple:\n",
    "    return int(ele[0].text), int(ele[1].text), int(ele[2].text)\n",
    "\n",
    "\n",
    "def get_bbox(ele, w: int, h: int) -> tuple:\n",
    "    return int(ele[0].text)/w, int(ele[1].text)/h, int(ele[2].text)/w, int(ele[3].text)/h\n",
    "\n",
    "\n",
    "def get_image(path: str, size: int=224) -> np.ndarray:\n",
    "    return cv2.resize(src=cv2.cvtColor(src=cv2.imread(path, cv2.IMREAD_COLOR), code=cv2.COLOR_BGR2RGB), dsize=(size, size), interpolation=cv2.INTER_AREA)\n",
    "\n",
    "\n",
    "def get_images(base_path: str, filenames: np.ndarray, size: int=224) -> np.ndarray:\n",
    "    images = np.zeros((len(filenames), size, size, 3), dtype=np.uint8)\n",
    "    \n",
    "    i = 0\n",
    "    for filename in filenames:\n",
    "        images[i] = get_image(os.path.join(base_path, filename), size=size)\n",
    "        i += 1\n",
    "    \n",
    "    return images"
   ]
  },
  {
   "cell_type": "code",
   "execution_count": 3,
   "id": "d554a79c",
   "metadata": {
    "execution": {
     "iopub.execute_input": "2022-07-03T13:20:55.926712Z",
     "iopub.status.busy": "2022-07-03T13:20:55.925724Z",
     "iopub.status.idle": "2022-07-03T13:20:57.072642Z",
     "shell.execute_reply": "2022-07-03T13:20:57.071281Z"
    },
    "papermill": {
     "duration": 1.153392,
     "end_time": "2022-07-03T13:20:57.075564",
     "exception": false,
     "start_time": "2022-07-03T13:20:55.922172",
     "status": "completed"
    },
    "tags": []
   },
   "outputs": [],
   "source": [
    "XML_FILES_PATH = \"../input/car-plate-detection/annotations\"\n",
    "\n",
    "xml_filenames = sorted(os.listdir(XML_FILES_PATH))\n",
    "filenames = [filename[:-3]+\"png\" for filename in xml_filenames]\n",
    "\n",
    "x1s, y1s, x2s, y2s = [], [], [], []\n",
    "\n",
    "for xml_file in xml_filenames:\n",
    "    tree = ET.parse(os.path.join(XML_FILES_PATH, xml_file))\n",
    "    root = tree.getroot()\n",
    "    w, h, c = get_size(root[2])\n",
    "    (x1, y1, x2, y2) = get_bbox(root[-1][-1], w, h)\n",
    "    x1s.append(x1)\n",
    "    y1s.append(y1)\n",
    "    x2s.append(x2)\n",
    "    y2s.append(y2)"
   ]
  },
  {
   "cell_type": "code",
   "execution_count": 4,
   "id": "ec121f6b",
   "metadata": {
    "execution": {
     "iopub.execute_input": "2022-07-03T13:20:57.082689Z",
     "iopub.status.busy": "2022-07-03T13:20:57.082299Z",
     "iopub.status.idle": "2022-07-03T13:20:57.116994Z",
     "shell.execute_reply": "2022-07-03T13:20:57.115471Z"
    },
    "papermill": {
     "duration": 0.041917,
     "end_time": "2022-07-03T13:20:57.120211",
     "exception": false,
     "start_time": "2022-07-03T13:20:57.078294",
     "status": "completed"
    },
    "tags": []
   },
   "outputs": [],
   "source": [
    "df = pd.DataFrame(data=None, columns=[\"filenames\", \"x1\", \"y1\", \"x2\", \"y2\"])\n",
    "\n",
    "# bbox = np.concatenate((np.array(x1s).reshape(-1, 1),\n",
    "#                        np.array(y1s).reshape(-1, 1),\n",
    "#                        np.array(x2s).reshape(-1, 1),\n",
    "#                        np.array(y2s).reshape(-1, 1)),\n",
    "#                      axis=1)\n",
    "\n",
    "df.filenames = filenames\n",
    "df.x1 = x1s\n",
    "df.y1 = y1s\n",
    "df.x2 = x2s\n",
    "df.y2 = y2s\n",
    "\n",
    "df.to_csv(\"data.csv\", index=False)"
   ]
  },
  {
   "cell_type": "code",
   "execution_count": 5,
   "id": "ad4a7dee",
   "metadata": {
    "execution": {
     "iopub.execute_input": "2022-07-03T13:20:57.127106Z",
     "iopub.status.busy": "2022-07-03T13:20:57.126668Z",
     "iopub.status.idle": "2022-07-03T13:21:26.585505Z",
     "shell.execute_reply": "2022-07-03T13:21:26.584205Z"
    },
    "papermill": {
     "duration": 29.466941,
     "end_time": "2022-07-03T13:21:26.589786",
     "exception": false,
     "start_time": "2022-07-03T13:20:57.122845",
     "status": "completed"
    },
    "tags": []
   },
   "outputs": [],
   "source": [
    "sizes = [224, 256, 384, 512]\n",
    "\n",
    "for size in sizes:\n",
    "    images = get_images(\"../input/car-plate-detection/images\", df.filenames, size)\n",
    "    np.save(f\"images_{size}.npy\", images)"
   ]
  }
 ],
 "metadata": {
  "kernelspec": {
   "display_name": "Python 3",
   "language": "python",
   "name": "python3"
  },
  "language_info": {
   "codemirror_mode": {
    "name": "ipython",
    "version": 3
   },
   "file_extension": ".py",
   "mimetype": "text/x-python",
   "name": "python",
   "nbconvert_exporter": "python",
   "pygments_lexer": "ipython3",
   "version": "3.7.12"
  },
  "papermill": {
   "default_parameters": {},
   "duration": 42.693775,
   "end_time": "2022-07-03T13:21:27.322131",
   "environment_variables": {},
   "exception": null,
   "input_path": "__notebook__.ipynb",
   "output_path": "__notebook__.ipynb",
   "parameters": {},
   "start_time": "2022-07-03T13:20:44.628356",
   "version": "2.3.4"
  }
 },
 "nbformat": 4,
 "nbformat_minor": 5
}
