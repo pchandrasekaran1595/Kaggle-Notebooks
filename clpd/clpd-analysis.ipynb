{
 "cells": [
  {
   "cell_type": "code",
   "execution_count": 1,
   "id": "71d19ea5",
   "metadata": {
    "_cell_guid": "b1076dfc-b9ad-4769-8c92-a6c4dae69d19",
    "_uuid": "8f2839f25d086af736a60e9eeb907d3b93b6e0e5",
    "execution": {
     "iopub.execute_input": "2022-07-03T20:03:15.734155Z",
     "iopub.status.busy": "2022-07-03T20:03:15.733743Z",
     "iopub.status.idle": "2022-07-03T20:03:15.970454Z",
     "shell.execute_reply": "2022-07-03T20:03:15.969114Z"
    },
    "papermill": {
     "duration": 0.245842,
     "end_time": "2022-07-03T20:03:15.973781",
     "exception": false,
     "start_time": "2022-07-03T20:03:15.727939",
     "status": "completed"
    },
    "tags": []
   },
   "outputs": [],
   "source": [
    "import os\n",
    "import cv2\n",
    "import numpy as np\n",
    "import pandas as pd\n",
    "import xml.etree.ElementTree as ET "
   ]
  },
  {
   "cell_type": "code",
   "execution_count": 2,
   "id": "02e6083f",
   "metadata": {
    "execution": {
     "iopub.execute_input": "2022-07-03T20:03:15.981967Z",
     "iopub.status.busy": "2022-07-03T20:03:15.981346Z",
     "iopub.status.idle": "2022-07-03T20:03:15.996725Z",
     "shell.execute_reply": "2022-07-03T20:03:15.995886Z"
    },
    "papermill": {
     "duration": 0.021944,
     "end_time": "2022-07-03T20:03:15.999037",
     "exception": false,
     "start_time": "2022-07-03T20:03:15.977093",
     "status": "completed"
    },
    "tags": []
   },
   "outputs": [],
   "source": [
    "def breaker() -> None:\n",
    "    print(\"\\n\" + 50*\"*\" + \"\\n\")\n",
    "\n",
    "\n",
    "def get_size(ele) -> tuple:\n",
    "    return int(ele[0].text), int(ele[1].text), int(ele[2].text)\n",
    "\n",
    "\n",
    "def get_bbox(ele, w: int, h: int) -> tuple:\n",
    "    return int(ele[0].text)/w, int(ele[1].text)/h, int(ele[2].text)/w, int(ele[3].text)/h\n",
    "\n",
    "\n",
    "def get_image(path: str, size: int=224) -> np.ndarray:\n",
    "    return cv2.resize(src=cv2.cvtColor(src=cv2.imread(path, cv2.IMREAD_COLOR), code=cv2.COLOR_BGR2RGB), dsize=(size, size), interpolation=cv2.INTER_AREA)\n",
    "\n",
    "\n",
    "def get_images(base_path: str, filenames: np.ndarray, size: int=224) -> np.ndarray:\n",
    "    images = np.zeros((len(filenames), size, size, 3), dtype=np.uint8)\n",
    "    \n",
    "    i = 0\n",
    "    for filename in filenames:\n",
    "        images[i] = get_image(os.path.join(base_path, filename), size=size)\n",
    "        i += 1\n",
    "    \n",
    "    return images\n",
    "\n",
    "\n",
    "def get_statistics(images: np.ndarray) -> tuple:\n",
    "    return (images[:, :, :, 0].mean()/255, images[:, :, :, 1].mean()/255, images[:, :, :, 2].mean()/255), (images[:, :, :, 0].std()/255, images[:, :, :, 1].std()/255, images[:, :, :, 2].std()/255)"
   ]
  },
  {
   "cell_type": "code",
   "execution_count": 3,
   "id": "77bfbf79",
   "metadata": {
    "execution": {
     "iopub.execute_input": "2022-07-03T20:03:16.007780Z",
     "iopub.status.busy": "2022-07-03T20:03:16.006719Z",
     "iopub.status.idle": "2022-07-03T20:03:17.316841Z",
     "shell.execute_reply": "2022-07-03T20:03:17.315540Z"
    },
    "papermill": {
     "duration": 1.317157,
     "end_time": "2022-07-03T20:03:17.319542",
     "exception": false,
     "start_time": "2022-07-03T20:03:16.002385",
     "status": "completed"
    },
    "tags": []
   },
   "outputs": [],
   "source": [
    "XML_FILES_PATH = \"../input/car-plate-detection/annotations\"\n",
    "\n",
    "xml_filenames = sorted(os.listdir(XML_FILES_PATH))\n",
    "filenames = [filename[:-3]+\"png\" for filename in xml_filenames]\n",
    "\n",
    "x1s, y1s, x2s, y2s = [], [], [], []\n",
    "\n",
    "for xml_file in xml_filenames:\n",
    "    tree = ET.parse(os.path.join(XML_FILES_PATH, xml_file))\n",
    "    root = tree.getroot()\n",
    "    w, h, c = get_size(root[2])\n",
    "    (x1, y1, x2, y2) = get_bbox(root[-1][-1], w, h)\n",
    "    x1s.append(x1)\n",
    "    y1s.append(y1)\n",
    "    x2s.append(x2)\n",
    "    y2s.append(y2)"
   ]
  },
  {
   "cell_type": "code",
   "execution_count": 4,
   "id": "f1f64114",
   "metadata": {
    "execution": {
     "iopub.execute_input": "2022-07-03T20:03:17.327086Z",
     "iopub.status.busy": "2022-07-03T20:03:17.326745Z",
     "iopub.status.idle": "2022-07-03T20:03:17.359702Z",
     "shell.execute_reply": "2022-07-03T20:03:17.358405Z"
    },
    "papermill": {
     "duration": 0.039857,
     "end_time": "2022-07-03T20:03:17.362523",
     "exception": false,
     "start_time": "2022-07-03T20:03:17.322666",
     "status": "completed"
    },
    "tags": []
   },
   "outputs": [],
   "source": [
    "df = pd.DataFrame(data=None, columns=[\"filenames\", \"x1\", \"y1\", \"x2\", \"y2\"])\n",
    "\n",
    "# bbox = np.concatenate((np.array(x1s).reshape(-1, 1),\n",
    "#                        np.array(y1s).reshape(-1, 1),\n",
    "#                        np.array(x2s).reshape(-1, 1),\n",
    "#                        np.array(y2s).reshape(-1, 1)),\n",
    "#                      axis=1)\n",
    "\n",
    "df.filenames = filenames\n",
    "df.x1 = x1s\n",
    "df.y1 = y1s\n",
    "df.x2 = x2s\n",
    "df.y2 = y2s\n",
    "\n",
    "df.to_csv(\"data.csv\", index=False)"
   ]
  },
  {
   "cell_type": "code",
   "execution_count": 5,
   "id": "1aa64791",
   "metadata": {
    "execution": {
     "iopub.execute_input": "2022-07-03T20:03:17.370111Z",
     "iopub.status.busy": "2022-07-03T20:03:17.369741Z",
     "iopub.status.idle": "2022-07-03T20:03:53.631679Z",
     "shell.execute_reply": "2022-07-03T20:03:53.630451Z"
    },
    "papermill": {
     "duration": 36.268743,
     "end_time": "2022-07-03T20:03:53.634349",
     "exception": false,
     "start_time": "2022-07-03T20:03:17.365606",
     "status": "completed"
    },
    "tags": []
   },
   "outputs": [],
   "source": [
    "sizes = [224, 256, 384, 512]\n",
    "stats = dict()\n",
    "means = dict()\n",
    "stds  = dict()\n",
    "\n",
    "for size in sizes:\n",
    "    images = get_images(\"../input/car-plate-detection/images\", df.filenames, size)\n",
    "    mean, std = get_statistics(images)\n",
    "    means[f\"{size}\"] = mean\n",
    "    stds[f\"{size}\"]  = std\n",
    "    np.save(f\"images_{size}.npy\", images)\n",
    "\n",
    "stats[\"means\"] = means\n",
    "stats[\"stds\"] = stds"
   ]
  },
  {
   "cell_type": "code",
   "execution_count": 6,
   "id": "edb7d649",
   "metadata": {
    "execution": {
     "iopub.execute_input": "2022-07-03T20:03:53.641916Z",
     "iopub.status.busy": "2022-07-03T20:03:53.641566Z",
     "iopub.status.idle": "2022-07-03T20:03:53.648736Z",
     "shell.execute_reply": "2022-07-03T20:03:53.647672Z"
    },
    "papermill": {
     "duration": 0.015217,
     "end_time": "2022-07-03T20:03:53.652618",
     "exception": false,
     "start_time": "2022-07-03T20:03:53.637401",
     "status": "completed"
    },
    "tags": []
   },
   "outputs": [
    {
     "name": "stdout",
     "output_type": "stream",
     "text": [
      "\n",
      "**************************************************\n",
      "\n",
      "224 x 224 Means\n",
      "\n",
      "Red   : 0.42832\n",
      "Green : 0.42040\n",
      "Blue  : 0.41810\n",
      "\n",
      "**************************************************\n",
      "\n",
      "256 x 256 Means\n",
      "\n",
      "Red   : 0.42823\n",
      "Green : 0.42031\n",
      "Blue  : 0.41801\n",
      "\n",
      "**************************************************\n",
      "\n",
      "384 x 384 Means\n",
      "\n",
      "Red   : 0.42805\n",
      "Green : 0.42013\n",
      "Blue  : 0.41784\n",
      "\n",
      "**************************************************\n",
      "\n",
      "512 x 512 Means\n",
      "\n",
      "Red   : 0.42810\n",
      "Green : 0.42018\n",
      "Blue  : 0.41788\n",
      "\n",
      "**************************************************\n",
      "\n"
     ]
    }
   ],
   "source": [
    "breaker()\n",
    "for k, v in stats[\"means\"].items():\n",
    "    print(f\"{k} x {k} Means\\n\")\n",
    "    for i in range(len(v)):\n",
    "        if i == 0:\n",
    "            print(f\"Red   : {v[i]:.5f}\")\n",
    "        if i == 1:\n",
    "            print(f\"Green : {v[i]:.5f}\")\n",
    "        if i == 2:\n",
    "            print(f\"Blue  : {v[i]:.5f}\")\n",
    "    breaker()"
   ]
  },
  {
   "cell_type": "code",
   "execution_count": 7,
   "id": "11dcd5c1",
   "metadata": {
    "execution": {
     "iopub.execute_input": "2022-07-03T20:03:53.660698Z",
     "iopub.status.busy": "2022-07-03T20:03:53.660121Z",
     "iopub.status.idle": "2022-07-03T20:03:53.667372Z",
     "shell.execute_reply": "2022-07-03T20:03:53.666099Z"
    },
    "papermill": {
     "duration": 0.013724,
     "end_time": "2022-07-03T20:03:53.669490",
     "exception": false,
     "start_time": "2022-07-03T20:03:53.655766",
     "status": "completed"
    },
    "tags": []
   },
   "outputs": [
    {
     "name": "stdout",
     "output_type": "stream",
     "text": [
      "\n",
      "**************************************************\n",
      "\n",
      "224 x 224 Stds\n",
      "\n",
      "Red   : 0.28149\n",
      "Green : 0.27978\n",
      "Blue  : 0.28646\n",
      "\n",
      "**************************************************\n",
      "\n",
      "256 x 256 Stds\n",
      "\n",
      "Red   : 0.28222\n",
      "Green : 0.28052\n",
      "Blue  : 0.28715\n",
      "\n",
      "**************************************************\n",
      "\n",
      "384 x 384 Stds\n",
      "\n",
      "Red   : 0.28346\n",
      "Green : 0.28176\n",
      "Blue  : 0.28835\n",
      "\n",
      "**************************************************\n",
      "\n",
      "512 x 512 Stds\n",
      "\n",
      "Red   : 0.28410\n",
      "Green : 0.28240\n",
      "Blue  : 0.28896\n",
      "\n",
      "**************************************************\n",
      "\n"
     ]
    }
   ],
   "source": [
    "breaker()\n",
    "for k, v in stats[\"stds\"].items():\n",
    "    print(f\"{k} x {k} Stds\\n\")\n",
    "    for i in range(len(v)):\n",
    "        if i == 0:\n",
    "            print(f\"Red   : {v[i]:.5f}\")\n",
    "        if i == 1:\n",
    "            print(f\"Green : {v[i]:.5f}\")\n",
    "        if i == 2:\n",
    "            print(f\"Blue  : {v[i]:.5f}\")\n",
    "    breaker()"
   ]
  }
 ],
 "metadata": {
  "kernelspec": {
   "display_name": "Python 3",
   "language": "python",
   "name": "python3"
  },
  "language_info": {
   "codemirror_mode": {
    "name": "ipython",
    "version": 3
   },
   "file_extension": ".py",
   "mimetype": "text/x-python",
   "name": "python",
   "nbconvert_exporter": "python",
   "pygments_lexer": "ipython3",
   "version": "3.7.12"
  },
  "papermill": {
   "default_parameters": {},
   "duration": 48.841461,
   "end_time": "2022-07-03T20:03:54.301586",
   "environment_variables": {},
   "exception": null,
   "input_path": "__notebook__.ipynb",
   "output_path": "__notebook__.ipynb",
   "parameters": {},
   "start_time": "2022-07-03T20:03:05.460125",
   "version": "2.3.4"
  }
 },
 "nbformat": 4,
 "nbformat_minor": 5
}
