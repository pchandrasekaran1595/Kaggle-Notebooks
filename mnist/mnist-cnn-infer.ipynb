{
 "cells": [
  {
   "cell_type": "markdown",
   "id": "a79658d5",
   "metadata": {
    "_cell_guid": "b1076dfc-b9ad-4769-8c92-a6c4dae69d19",
    "_uuid": "8f2839f25d086af736a60e9eeb907d3b93b6e0e5",
    "papermill": {
     "duration": 0.015137,
     "end_time": "2022-03-22T05:40:59.142696",
     "exception": false,
     "start_time": "2022-03-22T05:40:59.127559",
     "status": "completed"
    },
    "tags": []
   },
   "source": [
    "### **Library Imports**"
   ]
  },
  {
   "cell_type": "code",
   "execution_count": 1,
   "id": "11e144d5",
   "metadata": {
    "execution": {
     "iopub.execute_input": "2022-03-22T05:40:59.177879Z",
     "iopub.status.busy": "2022-03-22T05:40:59.174857Z",
     "iopub.status.idle": "2022-03-22T05:41:01.690343Z",
     "shell.execute_reply": "2022-03-22T05:41:01.689692Z",
     "shell.execute_reply.started": "2022-03-22T05:36:39.472776Z"
    },
    "papermill": {
     "duration": 2.532149,
     "end_time": "2022-03-22T05:41:01.690488",
     "exception": false,
     "start_time": "2022-03-22T05:40:59.158339",
     "status": "completed"
    },
    "tags": []
   },
   "outputs": [],
   "source": [
    "import os\n",
    "import re\n",
    "import torch\n",
    "import numpy as np\n",
    "import pandas as pd\n",
    "import matplotlib.pyplot as plt\n",
    "\n",
    "from time import time\n",
    "from torch import nn, optim\n",
    "from torch.utils.data import Dataset\n",
    "from torch.utils.data import DataLoader as DL\n",
    "from torch.nn.utils import weight_norm as WN\n",
    "from torchvision import transforms\n",
    "\n",
    "from sklearn.preprocessing import StandardScaler\n",
    "from sklearn.model_selection import StratifiedKFold"
   ]
  },
  {
   "cell_type": "markdown",
   "id": "54987aae",
   "metadata": {
    "papermill": {
     "duration": 0.008438,
     "end_time": "2022-03-22T05:41:01.707657",
     "exception": false,
     "start_time": "2022-03-22T05:41:01.699219",
     "status": "completed"
    },
    "tags": []
   },
   "source": [
    "### **Utilities and Constants**"
   ]
  },
  {
   "cell_type": "code",
   "execution_count": 2,
   "id": "c3c897b6",
   "metadata": {
    "execution": {
     "iopub.execute_input": "2022-03-22T05:41:01.782329Z",
     "iopub.status.busy": "2022-03-22T05:41:01.727628Z",
     "iopub.status.idle": "2022-03-22T05:41:01.784374Z",
     "shell.execute_reply": "2022-03-22T05:41:01.784737Z",
     "shell.execute_reply.started": "2022-03-22T05:37:29.851513Z"
    },
    "papermill": {
     "duration": 0.068827,
     "end_time": "2022-03-22T05:41:01.784895",
     "exception": false,
     "start_time": "2022-03-22T05:41:01.716068",
     "status": "completed"
    },
    "tags": []
   },
   "outputs": [],
   "source": [
    "def breaker(num: int = 50, char: str = \"*\") -> None:\n",
    "    print(\"\\n\" + num*char + \"\\n\")\n",
    "\n",
    "SEED = 42\n",
    "DEVICE = torch.device(\"cuda\" if torch.cuda.is_available() else \"cpu\")\n",
    "TRANSFORM = transforms.Compose([transforms.ToTensor(), \n",
    "                                    transforms.Normalize(mean=[0.13101], std=[0.30854]),\n",
    "                                   ])\n",
    "\n",
    "MODEL_PATH = \"../input/mnist-cnn-train-5fcv/saves\""
   ]
  },
  {
   "cell_type": "markdown",
   "id": "14015235",
   "metadata": {
    "papermill": {
     "duration": 0.008353,
     "end_time": "2022-03-22T05:41:01.801822",
     "exception": false,
     "start_time": "2022-03-22T05:41:01.793469",
     "status": "completed"
    },
    "tags": []
   },
   "source": [
    "### **Dataset Template**"
   ]
  },
  {
   "cell_type": "code",
   "execution_count": 3,
   "id": "9aac1aeb",
   "metadata": {
    "execution": {
     "iopub.execute_input": "2022-03-22T05:41:01.826664Z",
     "iopub.status.busy": "2022-03-22T05:41:01.825895Z",
     "iopub.status.idle": "2022-03-22T05:41:01.830294Z",
     "shell.execute_reply": "2022-03-22T05:41:01.829894Z",
     "shell.execute_reply.started": "2022-03-22T05:36:41.805084Z"
    },
    "papermill": {
     "duration": 0.019812,
     "end_time": "2022-03-22T05:41:01.830397",
     "exception": false,
     "start_time": "2022-03-22T05:41:01.810585",
     "status": "completed"
    },
    "tags": []
   },
   "outputs": [],
   "source": [
    "class DS(Dataset):\n",
    "    def __init__(self, images: np.ndarray, labels: np.ndarray = None, mode: str = \"train\", transform = None):\n",
    "\n",
    "        assert re.match(r\"^train$\", mode, re.IGNORECASE) or re.match(r\"^valid$\", mode, re.IGNORECASE) or re.match(r\"^test$\", mode, re.IGNORECASE), \"Invalid Mode\"\n",
    "        \n",
    "        self.mode = mode\n",
    "        self.images = images\n",
    "        self.transform = transform\n",
    "\n",
    "        if re.match(r\"^train$\", mode, re.IGNORECASE) or re.match(r\"^valid$\", mode, re.IGNORECASE):\n",
    "            self.labels = labels\n",
    "    \n",
    "    def __len__(self):\n",
    "        return self.images.shape[0]\n",
    "\n",
    "    def __getitem__(self, idx):\n",
    "        if re.match(r\"^train$\", self.mode, re.IGNORECASE) or re.match(r\"^valid$\", self.mode, re.IGNORECASE):\n",
    "            return self.transform(self.images[idx]), torch.LongTensor(self.labels[idx])\n",
    "        else:\n",
    "            return self.transform(self.images[idx])"
   ]
  },
  {
   "cell_type": "markdown",
   "id": "b6e00e79",
   "metadata": {
    "papermill": {
     "duration": 0.008459,
     "end_time": "2022-03-22T05:41:01.847399",
     "exception": false,
     "start_time": "2022-03-22T05:41:01.838940",
     "status": "completed"
    },
    "tags": []
   },
   "source": [
    "### **Model**"
   ]
  },
  {
   "cell_type": "code",
   "execution_count": 4,
   "id": "565998c6",
   "metadata": {
    "execution": {
     "iopub.execute_input": "2022-03-22T05:41:01.887108Z",
     "iopub.status.busy": "2022-03-22T05:41:01.877750Z",
     "iopub.status.idle": "2022-03-22T05:41:01.889654Z",
     "shell.execute_reply": "2022-03-22T05:41:01.889274Z",
     "shell.execute_reply.started": "2022-03-22T05:36:41.820263Z"
    },
    "papermill": {
     "duration": 0.033404,
     "end_time": "2022-03-22T05:41:01.889752",
     "exception": false,
     "start_time": "2022-03-22T05:41:01.856348",
     "status": "completed"
    },
    "tags": []
   },
   "outputs": [],
   "source": [
    "class CNN(nn.Module):\n",
    "    def __init__(self, filter_sizes: list, HL: list, DP: float=None):\n",
    "        \n",
    "        super(CNN, self).__init__()\n",
    "        \n",
    "        self.features = nn.Sequential()\n",
    "        self.features.add_module(\"CN1\", nn.Conv2d(in_channels=1, out_channels=filter_sizes[0], kernel_size=(3, 3), stride=(1, 1), padding=(1, 1)))\n",
    "        self.features.add_module(\"BN1\", nn.BatchNorm2d(num_features=filter_sizes[0], eps=1e-5))\n",
    "        self.features.add_module(\"AN1\", nn.ReLU())\n",
    "        self.features.add_module(\"MP1\", nn.MaxPool2d(kernel_size=(2, 2)))\n",
    "        self.features.add_module(\"CN2\", nn.Conv2d(in_channels=filter_sizes[0], out_channels=filter_sizes[1], kernel_size=(3, 3), stride=(1, 1), padding=(1, 1)))\n",
    "        self.features.add_module(\"BN2\", nn.BatchNorm2d(num_features=filter_sizes[1], eps=1e-5))\n",
    "        self.features.add_module(\"AN2\", nn.ReLU())\n",
    "        self.features.add_module(\"MP2\", nn.MaxPool2d(kernel_size=(2, 2)))\n",
    "        self.features.add_module(\"CN3\", nn.Conv2d(in_channels=filter_sizes[1], out_channels=filter_sizes[2], kernel_size=(3, 3), stride=(1, 1), padding=(1, 1)))\n",
    "        self.features.add_module(\"BN3\", nn.BatchNorm2d(num_features=filter_sizes[2], eps=1e-5))\n",
    "        self.features.add_module(\"AN3\", nn.ReLU())\n",
    "        self.features.add_module(\"MP3\", nn.MaxPool2d(kernel_size=(2, 2)))    \n",
    "\n",
    "        self.classifier = nn.Sequential()\n",
    "        if len(HL) == 0:\n",
    "            self.classifier.add_module(\"FC1\", nn.Linear(in_features=filter_sizes[2]*3*3, out_features=10))\n",
    "        elif len(HL) == 1:\n",
    "            self.classifier.add_module(\"FC1\", nn.Linear(in_features=filter_sizes[2]*3*3, out_features=HL[0]))\n",
    "            if isinstance(DP, float):\n",
    "                self.classifier.add_module(\"DP1\", nn.Dropout(p=DP))\n",
    "            self.classifier.add_module(\"AN1\", nn.ReLU())\n",
    "            self.classifier.add_module(\"FC2\", nn.Linear(in_features=HL[0], out_features=10))\n",
    "        elif len(HL) == 2:\n",
    "            self.classifier.add_module(\"FC1\", nn.Linear(in_features=filter_sizes[2]*3*3, out_features=HL[0]))\n",
    "            if isinstance(DP, float):\n",
    "                self.classifier.add_module(\"DP1\", nn.Dropout(p=DP))\n",
    "            self.classifier.add_module(\"AN1\", nn.ReLU())\n",
    "            self.classifier.add_module(\"FC2\", nn.Linear(in_features=HL[0], out_features=HL[1]))\n",
    "            if isinstance(DP, float):\n",
    "                self.classifier.add_module(\"DP2\", nn.Dropout(p=DP))\n",
    "            self.classifier.add_module(\"AN2\", nn.ReLU())\n",
    "            self.classifier.add_module(\"FC3\", nn.Linear(in_features=HL[1], out_features=10))\n",
    "        \n",
    "        self.classifier.add_module(\"Final Activation\", nn.LogSoftmax(dim=1))\n",
    "    \n",
    "    def get_optimizer(self, lr=1e-3, wd=0.0):\n",
    "        params = [p for p in self.parameters() if p.requires_grad]\n",
    "        return optim.Adam(params, lr=lr, weight_decay=wd)\n",
    "\n",
    "    def get_plateau_scheduler(self, optimizer=None, patience=5, eps=1e-8):\n",
    "        return optim.lr_scheduler.ReduceLROnPlateau(optimizer=optimizer, patience=patience, eps=eps)\n",
    "    \n",
    "    def forward(self, x):\n",
    "        x = self.features(x)\n",
    "        x = x.view(x.shape[0], -1)\n",
    "        return self.classifier(x)"
   ]
  },
  {
   "cell_type": "markdown",
   "id": "7803b51a",
   "metadata": {
    "papermill": {
     "duration": 0.008348,
     "end_time": "2022-03-22T05:41:01.906650",
     "exception": false,
     "start_time": "2022-03-22T05:41:01.898302",
     "status": "completed"
    },
    "tags": []
   },
   "source": [
    "### **Predict Helper**"
   ]
  },
  {
   "cell_type": "code",
   "execution_count": 5,
   "id": "3d83b75e",
   "metadata": {
    "execution": {
     "iopub.execute_input": "2022-03-22T05:41:01.929925Z",
     "iopub.status.busy": "2022-03-22T05:41:01.929295Z",
     "iopub.status.idle": "2022-03-22T05:41:01.931463Z",
     "shell.execute_reply": "2022-03-22T05:41:01.931879Z",
     "shell.execute_reply.started": "2022-03-22T05:36:41.846323Z"
    },
    "papermill": {
     "duration": 0.016829,
     "end_time": "2022-03-22T05:41:01.932007",
     "exception": false,
     "start_time": "2022-03-22T05:41:01.915178",
     "status": "completed"
    },
    "tags": []
   },
   "outputs": [],
   "source": [
    "def predict(model=None, dataloader=None, path=None) -> np.ndarray:\n",
    "    model.load_state_dict(torch.load(path, map_location=DEVICE)[\"model_state_dict\"])\n",
    "    model.to(DEVICE)    \n",
    "    model.eval()\n",
    "    \n",
    "    y_pred = torch.zeros(1, 1).to(DEVICE)\n",
    "    \n",
    "    for X in dataloader:\n",
    "        X = X.to(DEVICE)\n",
    "        with torch.no_grad():\n",
    "            output = torch.argmax(torch.exp(model(X)), dim=1)\n",
    "        y_pred = torch.cat((y_pred, output.view(-1, 1)), dim=0)\n",
    "    \n",
    "    return y_pred[1:].detach().cpu().numpy()"
   ]
  },
  {
   "cell_type": "code",
   "execution_count": 6,
   "id": "3b632335",
   "metadata": {
    "execution": {
     "iopub.execute_input": "2022-03-22T05:41:01.956100Z",
     "iopub.status.busy": "2022-03-22T05:41:01.955477Z",
     "iopub.status.idle": "2022-03-22T05:41:15.341631Z",
     "shell.execute_reply": "2022-03-22T05:41:15.341157Z",
     "shell.execute_reply.started": "2022-03-22T05:37:46.019290Z"
    },
    "papermill": {
     "duration": 13.401234,
     "end_time": "2022-03-22T05:41:15.341758",
     "exception": false,
     "start_time": "2022-03-22T05:41:01.940524",
     "status": "completed"
    },
    "tags": []
   },
   "outputs": [],
   "source": [
    "test_df  = pd.read_csv(\"../input/digit-recognizer/test.csv\")\n",
    "X_test = test_df.copy().values\n",
    "X_test = X_test.reshape(X_test.shape[0], 28, 28, 1).astype(\"uint8\")\n",
    "\n",
    "filter_sizes = [64, 128, 256]\n",
    "HL = [1024]\n",
    "\n",
    "ts_data_setup = DS(X_test, None, \"test\", TRANSFORM)\n",
    "ts_data = DL(ts_data_setup, batch_size=128, shuffle=False)\n",
    "\n",
    "model = CNN(filter_sizes=filter_sizes, HL=HL, DP=0.25).to(DEVICE)\n",
    "\n",
    "best_fold = 3\n",
    "y_pred = predict(model=model, dataloader=ts_data, path=os.path.join(MODEL_PATH, f\"state_fold_{best_fold}.pt\"))\n",
    "\n",
    "ss_df = pd.read_csv(\"../input/digit-recognizer/sample_submission.csv\")\n",
    "ss_df[\"Label\"] = y_pred.astype(\"int64\")\n",
    "ss_df.to_csv(\"./submission.csv\", index=False)"
   ]
  }
 ],
 "metadata": {
  "kernelspec": {
   "display_name": "Python 3",
   "language": "python",
   "name": "python3"
  },
  "language_info": {
   "codemirror_mode": {
    "name": "ipython",
    "version": 3
   },
   "file_extension": ".py",
   "mimetype": "text/x-python",
   "name": "python",
   "nbconvert_exporter": "python",
   "pygments_lexer": "ipython3",
   "version": "3.7.12"
  },
  "papermill": {
   "default_parameters": {},
   "duration": 25.697366,
   "end_time": "2022-03-22T05:41:16.661384",
   "environment_variables": {},
   "exception": null,
   "input_path": "__notebook__.ipynb",
   "output_path": "__notebook__.ipynb",
   "parameters": {},
   "start_time": "2022-03-22T05:40:50.964018",
   "version": "2.3.3"
  }
 },
 "nbformat": 4,
 "nbformat_minor": 5
}
