{
 "cells": [
  {
   "cell_type": "code",
   "execution_count": 1,
   "id": "7dbad084",
   "metadata": {
    "_cell_guid": "b1076dfc-b9ad-4769-8c92-a6c4dae69d19",
    "_uuid": "8f2839f25d086af736a60e9eeb907d3b93b6e0e5",
    "execution": {
     "iopub.execute_input": "2022-10-16T11:52:18.518915Z",
     "iopub.status.busy": "2022-10-16T11:52:18.517838Z",
     "iopub.status.idle": "2022-10-16T11:52:18.764780Z",
     "shell.execute_reply": "2022-10-16T11:52:18.763334Z"
    },
    "papermill": {
     "duration": 0.254826,
     "end_time": "2022-10-16T11:52:18.768125",
     "exception": false,
     "start_time": "2022-10-16T11:52:18.513299",
     "status": "completed"
    },
    "tags": []
   },
   "outputs": [],
   "source": [
    "import os\n",
    "import cv2\n",
    "import numpy as np\n",
    "import pandas as pd\n",
    "\n",
    "from typing import Union\n",
    "\n",
    "def breaker(num: int = 50, char: str = \"*\") -> None:\n",
    "    print(\"\\n\" + num*char + \"\\n\")"
   ]
  },
  {
   "cell_type": "code",
   "execution_count": 2,
   "id": "b271cab3",
   "metadata": {
    "execution": {
     "iopub.execute_input": "2022-10-16T11:52:18.774278Z",
     "iopub.status.busy": "2022-10-16T11:52:18.773887Z",
     "iopub.status.idle": "2022-10-16T11:52:18.792127Z",
     "shell.execute_reply": "2022-10-16T11:52:18.790795Z"
    },
    "papermill": {
     "duration": 0.02428,
     "end_time": "2022-10-16T11:52:18.794614",
     "exception": false,
     "start_time": "2022-10-16T11:52:18.770334",
     "status": "completed"
    },
    "tags": []
   },
   "outputs": [],
   "source": [
    "def get_image(path: str, size: int=224) -> Union[np.ndarray, None]:\n",
    "    image = cv2.imread(path, cv2.IMREAD_COLOR)\n",
    "    if image is None: return None\n",
    "    image = cv2.cvtColor(src=image, code=cv2.COLOR_BGR2RGB)\n",
    "    return cv2.resize(src=image, dsize=(size, size), interpolation=cv2.INTER_AREA)\n",
    "\n",
    "\n",
    "def get_statistics(filepaths: np.ndarray) -> dict:\n",
    "\n",
    "    sizes: list = [224, 384, 512]\n",
    "    stats: dict = dict()\n",
    "    means: dict = dict()\n",
    "    stds: dict  = dict()\n",
    "        \n",
    "    for size in sizes:\n",
    "        total_num_of_images: int = 0\n",
    "        r_mean, g_mean, b_mean, r_std, g_std, b_std = 0.0, 0.0, 0.0, 0.0, 0.0, 0.0\n",
    "        for filepath in filepaths:\n",
    "            image = get_image(filepath, size)\n",
    "            if image is not None:\n",
    "                r_mean += image[:, :, 0].mean()\n",
    "                g_mean += image[:, :, 1].mean()\n",
    "                b_mean += image[:, :, 2].mean()\n",
    "                r_std += image[:, :, 0].std()\n",
    "                g_std += image[:, :, 1].std()\n",
    "                b_std += image[:, :, 2].std()\n",
    "                total_num_of_images += 1\n",
    "            else:\n",
    "                pass\n",
    "        \n",
    "        means[f\"{size}\"] = [\n",
    "            r_mean / total_num_of_images / 255, \n",
    "            g_mean / total_num_of_images / 255, \n",
    "            b_mean / total_num_of_images / 255,\n",
    "        ]\n",
    "        \n",
    "        stds[f\"{size}\"]  = [\n",
    "            r_std / total_num_of_images / 255, \n",
    "            g_std / total_num_of_images / 255, \n",
    "            b_std / total_num_of_images / 255,\n",
    "            ]\n",
    "    \n",
    "    stats[\"means\"] = means\n",
    "    stats[\"stds\"] = stds\n",
    "    \n",
    "    return stats\n",
    "\n",
    "\n",
    "def print_statistics(stats: dict) -> None:\n",
    "    breaker()\n",
    "    print(\"Means\".upper())\n",
    "    breaker()\n",
    "    for k, v in stats[\"means\"].items():\n",
    "        print(f\"{k} x {k} Means\\n\")\n",
    "        for i in range(len(v)):\n",
    "            if i == 0:\n",
    "                print(f\"Red   : {v[i]:.5f}\")\n",
    "            if i == 1:\n",
    "                print(f\"Green : {v[i]:.5f}\")\n",
    "            if i == 2:\n",
    "                print(f\"Blue  : {v[i]:.5f}\")\n",
    "        breaker()\n",
    "    \n",
    "    breaker()\n",
    "    print(\"Stds\".upper())\n",
    "    breaker()\n",
    "    for k, v in stats[\"stds\"].items():\n",
    "        print(f\"{k} x {k} Stds\\n\")\n",
    "        for i in range(len(v)):\n",
    "            if i == 0:\n",
    "                print(f\"Red   : {v[i]:.5f}\")\n",
    "            if i == 1:\n",
    "                print(f\"Green : {v[i]:.5f}\")\n",
    "            if i == 2:\n",
    "                print(f\"Blue  : {v[i]:.5f}\")\n",
    "        breaker()"
   ]
  },
  {
   "cell_type": "code",
   "execution_count": 3,
   "id": "ff3e7f18",
   "metadata": {
    "execution": {
     "iopub.execute_input": "2022-10-16T11:52:18.800113Z",
     "iopub.status.busy": "2022-10-16T11:52:18.799688Z",
     "iopub.status.idle": "2022-10-16T11:52:18.805286Z",
     "shell.execute_reply": "2022-10-16T11:52:18.803923Z"
    },
    "papermill": {
     "duration": 0.010992,
     "end_time": "2022-10-16T11:52:18.807774",
     "exception": false,
     "start_time": "2022-10-16T11:52:18.796782",
     "status": "completed"
    },
    "tags": []
   },
   "outputs": [],
   "source": [
    "# df = pd.read_csv(\"../input/fdis-dataframe/dataframe.csv\")\n",
    "\n",
    "# stats = get_statistics(df.filepaths.copy().values)\n",
    "# print_statistics(stats)"
   ]
  }
 ],
 "metadata": {
  "kernelspec": {
   "display_name": "Python 3",
   "language": "python",
   "name": "python3"
  },
  "language_info": {
   "codemirror_mode": {
    "name": "ipython",
    "version": 3
   },
   "file_extension": ".py",
   "mimetype": "text/x-python",
   "name": "python",
   "nbconvert_exporter": "python",
   "pygments_lexer": "ipython3",
   "version": "3.7.12"
  },
  "papermill": {
   "default_parameters": {},
   "duration": 10.957988,
   "end_time": "2022-10-16T11:52:19.531004",
   "environment_variables": {},
   "exception": null,
   "input_path": "__notebook__.ipynb",
   "output_path": "__notebook__.ipynb",
   "parameters": {},
   "start_time": "2022-10-16T11:52:08.573016",
   "version": "2.3.4"
  }
 },
 "nbformat": 4,
 "nbformat_minor": 5
}
