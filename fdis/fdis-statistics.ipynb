{
 "cells": [
  {
   "cell_type": "code",
   "execution_count": 1,
   "id": "8914d1e2",
   "metadata": {
    "_cell_guid": "b1076dfc-b9ad-4769-8c92-a6c4dae69d19",
    "_uuid": "8f2839f25d086af736a60e9eeb907d3b93b6e0e5",
    "execution": {
     "iopub.execute_input": "2022-10-17T08:33:38.246235Z",
     "iopub.status.busy": "2022-10-17T08:33:38.245722Z",
     "iopub.status.idle": "2022-10-17T08:33:38.474492Z",
     "shell.execute_reply": "2022-10-17T08:33:38.472805Z"
    },
    "papermill": {
     "duration": 0.237325,
     "end_time": "2022-10-17T08:33:38.478026",
     "exception": false,
     "start_time": "2022-10-17T08:33:38.240701",
     "status": "completed"
    },
    "tags": []
   },
   "outputs": [],
   "source": [
    "import os\n",
    "import cv2\n",
    "import numpy as np\n",
    "import pandas as pd\n",
    "\n",
    "from PIL import Image\n",
    "from typing import Union\n",
    "\n",
    "def breaker(num: int = 50, char: str = \"*\") -> None:\n",
    "    print(\"\\n\" + num*char + \"\\n\")"
   ]
  },
  {
   "cell_type": "code",
   "execution_count": 2,
   "id": "bb2fa1a5",
   "metadata": {
    "execution": {
     "iopub.execute_input": "2022-10-17T08:33:38.484718Z",
     "iopub.status.busy": "2022-10-17T08:33:38.484035Z",
     "iopub.status.idle": "2022-10-17T08:33:38.503441Z",
     "shell.execute_reply": "2022-10-17T08:33:38.502518Z"
    },
    "papermill": {
     "duration": 0.025281,
     "end_time": "2022-10-17T08:33:38.505773",
     "exception": false,
     "start_time": "2022-10-17T08:33:38.480492",
     "status": "completed"
    },
    "tags": []
   },
   "outputs": [],
   "source": [
    "def get_image(path: str, size: int=224) -> np.ndarray:\n",
    "    image = cv2.imread(path, cv2.IMREAD_COLOR)\n",
    "    if image is None: \n",
    "        image = np.asarray(Image.open(path))\n",
    "        if len(image.shape) == 2:\n",
    "            image = np.concatenate((\n",
    "                np.expand_dims(image, axis=2),\n",
    "                np.expand_dims(image, axis=2),\n",
    "                np.expand_dims(image, axis=2),\n",
    "            ), axis=2)\n",
    "    image = cv2.cvtColor(src=image, code=cv2.COLOR_BGR2RGB)\n",
    "    return cv2.resize(src=image, dsize=(size, size), interpolation=cv2.INTER_AREA)\n",
    "\n",
    "\n",
    "def get_statistics(filepaths: np.ndarray) -> dict:\n",
    "\n",
    "    sizes: list = [224, 384, 512]\n",
    "    stats: dict = dict()\n",
    "    means: dict = dict()\n",
    "    stds: dict  = dict()\n",
    "        \n",
    "    for size in sizes:\n",
    "        total_num_of_images: int = 0\n",
    "        r_mean, g_mean, b_mean, r_std, g_std, b_std = 0.0, 0.0, 0.0, 0.0, 0.0, 0.0\n",
    "        for filepath in filepaths:\n",
    "            image = get_image(filepath, size)\n",
    "            if image is not None:\n",
    "                r_mean += image[:, :, 0].mean()\n",
    "                g_mean += image[:, :, 1].mean()\n",
    "                b_mean += image[:, :, 2].mean()\n",
    "                r_std += image[:, :, 0].std()\n",
    "                g_std += image[:, :, 1].std()\n",
    "                b_std += image[:, :, 2].std()\n",
    "                total_num_of_images += 1\n",
    "            else:\n",
    "                continue\n",
    "        \n",
    "        means[f\"{size}\"] = [\n",
    "            r_mean / total_num_of_images / 255, \n",
    "            g_mean / total_num_of_images / 255, \n",
    "            b_mean / total_num_of_images / 255,\n",
    "        ]\n",
    "        \n",
    "        stds[f\"{size}\"]  = [\n",
    "            r_std / total_num_of_images / 255, \n",
    "            g_std / total_num_of_images / 255, \n",
    "            b_std / total_num_of_images / 255,\n",
    "            ]\n",
    "    \n",
    "    stats[\"means\"] = means\n",
    "    stats[\"stds\"] = stds\n",
    "    \n",
    "    return stats\n",
    "\n",
    "\n",
    "def print_statistics(stats: dict) -> None:\n",
    "    breaker()\n",
    "    print(\"Means\".upper())\n",
    "    breaker()\n",
    "    for k, v in stats[\"means\"].items():\n",
    "        print(f\"{k} x {k} Means\\n\")\n",
    "        for i in range(len(v)):\n",
    "            if i == 0:\n",
    "                print(f\"Red   : {v[i]:.5f}\")\n",
    "            if i == 1:\n",
    "                print(f\"Green : {v[i]:.5f}\")\n",
    "            if i == 2:\n",
    "                print(f\"Blue  : {v[i]:.5f}\")\n",
    "        breaker()\n",
    "    \n",
    "    breaker()\n",
    "    print(\"Stds\".upper())\n",
    "    breaker()\n",
    "    for k, v in stats[\"stds\"].items():\n",
    "        print(f\"{k} x {k} Stds\\n\")\n",
    "        for i in range(len(v)):\n",
    "            if i == 0:\n",
    "                print(f\"Red   : {v[i]:.5f}\")\n",
    "            if i == 1:\n",
    "                print(f\"Green : {v[i]:.5f}\")\n",
    "            if i == 2:\n",
    "                print(f\"Blue  : {v[i]:.5f}\")\n",
    "        breaker()"
   ]
  },
  {
   "cell_type": "code",
   "execution_count": 3,
   "id": "46a63942",
   "metadata": {
    "execution": {
     "iopub.execute_input": "2022-10-17T08:33:38.512307Z",
     "iopub.status.busy": "2022-10-17T08:33:38.511573Z",
     "iopub.status.idle": "2022-10-17T08:38:15.234987Z",
     "shell.execute_reply": "2022-10-17T08:38:15.233666Z"
    },
    "papermill": {
     "duration": 276.732203,
     "end_time": "2022-10-17T08:38:15.240209",
     "exception": false,
     "start_time": "2022-10-17T08:33:38.508006",
     "status": "completed"
    },
    "tags": []
   },
   "outputs": [
    {
     "name": "stderr",
     "output_type": "stream",
     "text": [
      "Premature end of JPEG file\n",
      "Premature end of JPEG file\n",
      "Premature end of JPEG file\n"
     ]
    },
    {
     "name": "stdout",
     "output_type": "stream",
     "text": [
      "\n",
      "**************************************************\n",
      "\n",
      "MEANS\n",
      "\n",
      "**************************************************\n",
      "\n",
      "224 x 224 Means\n",
      "\n",
      "Red   : 0.65967\n",
      "Green : 0.62907\n",
      "Blue  : 0.59212\n",
      "\n",
      "**************************************************\n",
      "\n",
      "384 x 384 Means\n",
      "\n",
      "Red   : 0.65966\n",
      "Green : 0.62906\n",
      "Blue  : 0.59210\n",
      "\n",
      "**************************************************\n",
      "\n",
      "512 x 512 Means\n",
      "\n",
      "Red   : 0.65965\n",
      "Green : 0.62905\n",
      "Blue  : 0.59209\n",
      "\n",
      "**************************************************\n",
      "\n",
      "\n",
      "**************************************************\n",
      "\n",
      "STDS\n",
      "\n",
      "**************************************************\n",
      "\n",
      "224 x 224 Stds\n",
      "\n",
      "Red   : 0.23083\n",
      "Green : 0.23947\n",
      "Blue  : 0.26350\n",
      "\n",
      "**************************************************\n",
      "\n",
      "384 x 384 Stds\n",
      "\n",
      "Red   : 0.23390\n",
      "Green : 0.24220\n",
      "Blue  : 0.26589\n",
      "\n",
      "**************************************************\n",
      "\n",
      "512 x 512 Stds\n",
      "\n",
      "Red   : 0.23497\n",
      "Green : 0.24317\n",
      "Blue  : 0.26674\n",
      "\n",
      "**************************************************\n",
      "\n"
     ]
    }
   ],
   "source": [
    "df = pd.read_csv(\"../input/fdis-dataframe/dataframe.csv\")\n",
    "\n",
    "stats = get_statistics(df.filepaths.copy().values)\n",
    "print_statistics(stats)"
   ]
  },
  {
   "cell_type": "code",
   "execution_count": null,
   "id": "4492dea8",
   "metadata": {
    "papermill": {
     "duration": 0.002141,
     "end_time": "2022-10-17T08:38:15.244888",
     "exception": false,
     "start_time": "2022-10-17T08:38:15.242747",
     "status": "completed"
    },
    "tags": []
   },
   "outputs": [],
   "source": []
  }
 ],
 "metadata": {
  "kernelspec": {
   "display_name": "Python 3",
   "language": "python",
   "name": "python3"
  },
  "language_info": {
   "codemirror_mode": {
    "name": "ipython",
    "version": 3
   },
   "file_extension": ".py",
   "mimetype": "text/x-python",
   "name": "python",
   "nbconvert_exporter": "python",
   "pygments_lexer": "ipython3",
   "version": "3.7.12"
  },
  "papermill": {
   "default_parameters": {},
   "duration": 287.434855,
   "end_time": "2022-10-17T08:38:15.970631",
   "environment_variables": {},
   "exception": null,
   "input_path": "__notebook__.ipynb",
   "output_path": "__notebook__.ipynb",
   "parameters": {},
   "start_time": "2022-10-17T08:33:28.535776",
   "version": "2.3.4"
  }
 },
 "nbformat": 4,
 "nbformat_minor": 5
}
