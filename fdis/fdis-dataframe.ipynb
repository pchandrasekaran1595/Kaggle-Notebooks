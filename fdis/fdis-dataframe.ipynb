{
 "cells": [
  {
   "cell_type": "code",
   "execution_count": 1,
   "id": "14560aaf",
   "metadata": {
    "_cell_guid": "b1076dfc-b9ad-4769-8c92-a6c4dae69d19",
    "_uuid": "8f2839f25d086af736a60e9eeb907d3b93b6e0e5",
    "execution": {
     "iopub.execute_input": "2022-10-16T11:08:39.148740Z",
     "iopub.status.busy": "2022-10-16T11:08:39.148132Z",
     "iopub.status.idle": "2022-10-16T11:08:39.159780Z",
     "shell.execute_reply": "2022-10-16T11:08:39.159024Z"
    },
    "papermill": {
     "duration": 0.018451,
     "end_time": "2022-10-16T11:08:39.161945",
     "exception": false,
     "start_time": "2022-10-16T11:08:39.143494",
     "status": "completed"
    },
    "tags": []
   },
   "outputs": [],
   "source": [
    "import os\n",
    "import pandas as pd\n",
    "\n",
    "BASE_PATH: str = \"../input/finding-disney/train\""
   ]
  },
  {
   "cell_type": "code",
   "execution_count": 2,
   "id": "ff1be902",
   "metadata": {
    "execution": {
     "iopub.execute_input": "2022-10-16T11:08:39.167014Z",
     "iopub.status.busy": "2022-10-16T11:08:39.166306Z",
     "iopub.status.idle": "2022-10-16T11:08:39.178135Z",
     "shell.execute_reply": "2022-10-16T11:08:39.177152Z"
    },
    "papermill": {
     "duration": 0.016401,
     "end_time": "2022-10-16T11:08:39.180281",
     "exception": false,
     "start_time": "2022-10-16T11:08:39.163880",
     "status": "completed"
    },
    "tags": []
   },
   "outputs": [],
   "source": [
    "df: pd.DataFrame = pd.DataFrame(data=None, columns=[\"filepaths\", \"labels\"])"
   ]
  },
  {
   "cell_type": "code",
   "execution_count": 3,
   "id": "84067d08",
   "metadata": {
    "execution": {
     "iopub.execute_input": "2022-10-16T11:08:39.184857Z",
     "iopub.status.busy": "2022-10-16T11:08:39.184535Z",
     "iopub.status.idle": "2022-10-16T11:08:39.575647Z",
     "shell.execute_reply": "2022-10-16T11:08:39.574677Z"
    },
    "papermill": {
     "duration": 0.395991,
     "end_time": "2022-10-16T11:08:39.577990",
     "exception": false,
     "start_time": "2022-10-16T11:08:39.181999",
     "status": "completed"
    },
    "tags": []
   },
   "outputs": [],
   "source": [
    "filepaths: list = []\n",
    "labels: list = []\n",
    "i: int = 0\n",
    "    \n",
    "for folder in sorted(os.listdir(f\"{BASE_PATH}\")):\n",
    "    for filename in os.listdir(f\"{BASE_PATH}/{folder}\"):\n",
    "        filepaths.append(os.path.join(f\"{BASE_PATH}/{folder}\", filename))\n",
    "        labels.append(i)\n",
    "    i += 1\n",
    "\n",
    "df.filepaths = filepaths\n",
    "df.labels = labels\n",
    "df.to_csv(\"dataframe.csv\", index=False)"
   ]
  }
 ],
 "metadata": {
  "kernelspec": {
   "display_name": "Python 3",
   "language": "python",
   "name": "python3"
  },
  "language_info": {
   "codemirror_mode": {
    "name": "ipython",
    "version": 3
   },
   "file_extension": ".py",
   "mimetype": "text/x-python",
   "name": "python",
   "nbconvert_exporter": "python",
   "pygments_lexer": "ipython3",
   "version": "3.7.12"
  },
  "papermill": {
   "default_parameters": {},
   "duration": 9.230228,
   "end_time": "2022-10-16T11:08:40.102696",
   "environment_variables": {},
   "exception": null,
   "input_path": "__notebook__.ipynb",
   "output_path": "__notebook__.ipynb",
   "parameters": {},
   "start_time": "2022-10-16T11:08:30.872468",
   "version": "2.3.4"
  }
 },
 "nbformat": 4,
 "nbformat_minor": 5
}
