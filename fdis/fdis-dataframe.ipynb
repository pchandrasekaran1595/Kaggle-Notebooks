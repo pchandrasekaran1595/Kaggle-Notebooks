{
 "cells": [
  {
   "cell_type": "code",
   "execution_count": 1,
   "id": "071f2707",
   "metadata": {
    "_cell_guid": "b1076dfc-b9ad-4769-8c92-a6c4dae69d19",
    "_uuid": "8f2839f25d086af736a60e9eeb907d3b93b6e0e5",
    "execution": {
     "iopub.execute_input": "2022-10-17T08:30:52.324055Z",
     "iopub.status.busy": "2022-10-17T08:30:52.322776Z",
     "iopub.status.idle": "2022-10-17T08:30:52.607528Z",
     "shell.execute_reply": "2022-10-17T08:30:52.606018Z"
    },
    "papermill": {
     "duration": 0.294652,
     "end_time": "2022-10-17T08:30:52.610920",
     "exception": false,
     "start_time": "2022-10-17T08:30:52.316268",
     "status": "completed"
    },
    "tags": []
   },
   "outputs": [],
   "source": [
    "import os\n",
    "import cv2\n",
    "import numpy as np\n",
    "import pandas as pd\n",
    "\n",
    "from PIL import Image\n",
    "\n",
    "BASE_PATH: str = \"../input/finding-disney/train\""
   ]
  },
  {
   "cell_type": "code",
   "execution_count": 2,
   "id": "8c796be7",
   "metadata": {
    "execution": {
     "iopub.execute_input": "2022-10-17T08:30:52.617806Z",
     "iopub.status.busy": "2022-10-17T08:30:52.617404Z",
     "iopub.status.idle": "2022-10-17T08:30:52.633931Z",
     "shell.execute_reply": "2022-10-17T08:30:52.632297Z"
    },
    "papermill": {
     "duration": 0.023412,
     "end_time": "2022-10-17T08:30:52.637128",
     "exception": false,
     "start_time": "2022-10-17T08:30:52.613716",
     "status": "completed"
    },
    "tags": []
   },
   "outputs": [],
   "source": [
    "df: pd.DataFrame = pd.DataFrame(data=None, columns=[\"filepaths\", \"labels\"])"
   ]
  },
  {
   "cell_type": "code",
   "execution_count": 3,
   "id": "b4ca1681",
   "metadata": {
    "execution": {
     "iopub.execute_input": "2022-10-17T08:30:52.643324Z",
     "iopub.status.busy": "2022-10-17T08:30:52.642933Z",
     "iopub.status.idle": "2022-10-17T08:32:11.997169Z",
     "shell.execute_reply": "2022-10-17T08:32:11.995645Z"
    },
    "papermill": {
     "duration": 79.36074,
     "end_time": "2022-10-17T08:32:12.000134",
     "exception": false,
     "start_time": "2022-10-17T08:30:52.639394",
     "status": "completed"
    },
    "tags": []
   },
   "outputs": [
    {
     "name": "stderr",
     "output_type": "stream",
     "text": [
      "Premature end of JPEG file\n"
     ]
    }
   ],
   "source": [
    "filepaths: list = []\n",
    "labels: list = []\n",
    "i: int = 0\n",
    "    \n",
    "for folder in sorted(os.listdir(f\"{BASE_PATH}\")):\n",
    "    for filename in os.listdir(f\"{BASE_PATH}/{folder}\"):\n",
    "        image = cv2.imread(os.path.join(f\"{BASE_PATH}/{folder}\", filename), cv2.IMREAD_COLOR)\n",
    "        if image is None:\n",
    "            image = np.asarray(Image.open(os.path.join(f\"{BASE_PATH}/{folder}\", filename)))\n",
    "        if image.shape[0] != 1 and image.shape[1] != 1:\n",
    "            filepaths.append(os.path.join(f\"{BASE_PATH}/{folder}\", filename))\n",
    "            labels.append(i)\n",
    "    i += 1\n",
    "\n",
    "df.filepaths = filepaths\n",
    "df.labels = labels\n",
    "df.to_csv(\"dataframe.csv\", index=False)"
   ]
  }
 ],
 "metadata": {
  "kernelspec": {
   "display_name": "Python 3",
   "language": "python",
   "name": "python3"
  },
  "language_info": {
   "codemirror_mode": {
    "name": "ipython",
    "version": 3
   },
   "file_extension": ".py",
   "mimetype": "text/x-python",
   "name": "python",
   "nbconvert_exporter": "python",
   "pygments_lexer": "ipython3",
   "version": "3.7.12"
  },
  "papermill": {
   "default_parameters": {},
   "duration": 90.46907,
   "end_time": "2022-10-17T08:32:12.726058",
   "environment_variables": {},
   "exception": null,
   "input_path": "__notebook__.ipynb",
   "output_path": "__notebook__.ipynb",
   "parameters": {},
   "start_time": "2022-10-17T08:30:42.256988",
   "version": "2.3.4"
  }
 },
 "nbformat": 4,
 "nbformat_minor": 5
}
