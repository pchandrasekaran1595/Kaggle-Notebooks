{
 "cells": [
  {
   "cell_type": "code",
   "execution_count": 1,
   "id": "fb51b350",
   "metadata": {
    "_cell_guid": "b1076dfc-b9ad-4769-8c92-a6c4dae69d19",
    "_uuid": "8f2839f25d086af736a60e9eeb907d3b93b6e0e5",
    "execution": {
     "iopub.execute_input": "2022-12-01T14:57:23.459628Z",
     "iopub.status.busy": "2022-12-01T14:57:23.458868Z",
     "iopub.status.idle": "2022-12-01T14:57:23.706910Z",
     "shell.execute_reply": "2022-12-01T14:57:23.705544Z"
    },
    "papermill": {
     "duration": 0.256936,
     "end_time": "2022-12-01T14:57:23.710359",
     "exception": false,
     "start_time": "2022-12-01T14:57:23.453423",
     "status": "completed"
    },
    "tags": []
   },
   "outputs": [],
   "source": [
    "import os\n",
    "import cv2\n",
    "import numpy as np\n",
    "import pandas as pd\n",
    "\n",
    "DATASET_PATH: str = \"/kaggle/input/real-and-fake-face-detection\"\n",
    "\n",
    "LABELS: dict = {\n",
    "    0 : \"Fake\",\n",
    "    1 : \"Real\",\n",
    "}"
   ]
  },
  {
   "cell_type": "code",
   "execution_count": 2,
   "id": "21eda881",
   "metadata": {
    "execution": {
     "iopub.execute_input": "2022-12-01T14:57:23.716082Z",
     "iopub.status.busy": "2022-12-01T14:57:23.715565Z",
     "iopub.status.idle": "2022-12-01T14:57:23.768592Z",
     "shell.execute_reply": "2022-12-01T14:57:23.766934Z"
    },
    "papermill": {
     "duration": 0.059437,
     "end_time": "2022-12-01T14:57:23.771881",
     "exception": false,
     "start_time": "2022-12-01T14:57:23.712444",
     "status": "completed"
    },
    "tags": []
   },
   "outputs": [],
   "source": [
    "df: pd.DataFrame = pd.DataFrame(data=None, columns=[\"filepaths\", \"labels\"])\n",
    "    \n",
    "filepaths: list = []\n",
    "labels: list = []\n",
    "    \n",
    "i: int = 0\n",
    "for folder in sorted(os.listdir(f\"{DATASET_PATH}\")):\n",
    "    for filename in os.listdir(f\"{DATASET_PATH}/{folder}\"):\n",
    "        filepaths.append(f\"{DATASET_PATH}/{folder}/{filename}\")\n",
    "        labels.append(i)\n",
    "    i += 1\n",
    "\n",
    "df.filepaths = filepaths\n",
    "df.labels = labels\n",
    "df.to_csv(\"dataframe.csv\", index=False)"
   ]
  }
 ],
 "metadata": {
  "kernelspec": {
   "display_name": "Python 3",
   "language": "python",
   "name": "python3"
  },
  "language_info": {
   "codemirror_mode": {
    "name": "ipython",
    "version": 3
   },
   "file_extension": ".py",
   "mimetype": "text/x-python",
   "name": "python",
   "nbconvert_exporter": "python",
   "pygments_lexer": "ipython3",
   "version": "3.7.12"
  },
  "papermill": {
   "default_parameters": {},
   "duration": 11.186267,
   "end_time": "2022-12-01T14:57:24.598786",
   "environment_variables": {},
   "exception": null,
   "input_path": "__notebook__.ipynb",
   "output_path": "__notebook__.ipynb",
   "parameters": {},
   "start_time": "2022-12-01T14:57:13.412519",
   "version": "2.3.4"
  }
 },
 "nbformat": 4,
 "nbformat_minor": 5
}
