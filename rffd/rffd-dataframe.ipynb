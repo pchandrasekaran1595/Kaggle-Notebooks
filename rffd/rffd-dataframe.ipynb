{
 "cells": [
  {
   "cell_type": "code",
   "execution_count": 1,
   "id": "4b630d97",
   "metadata": {
    "_cell_guid": "b1076dfc-b9ad-4769-8c92-a6c4dae69d19",
    "_uuid": "8f2839f25d086af736a60e9eeb907d3b93b6e0e5",
    "execution": {
     "iopub.execute_input": "2022-12-01T14:52:48.165545Z",
     "iopub.status.busy": "2022-12-01T14:52:48.164423Z",
     "iopub.status.idle": "2022-12-01T14:52:48.431797Z",
     "shell.execute_reply": "2022-12-01T14:52:48.430512Z"
    },
    "papermill": {
     "duration": 0.275757,
     "end_time": "2022-12-01T14:52:48.435005",
     "exception": false,
     "start_time": "2022-12-01T14:52:48.159248",
     "status": "completed"
    },
    "tags": []
   },
   "outputs": [],
   "source": [
    "import os\n",
    "import cv2\n",
    "import numpy as np\n",
    "import pandas as pd\n",
    "\n",
    "DATASET_PATH: str = \"/kaggle/input/real-and-fake-face-detection/\"\n",
    "\n",
    "LABELS: dict = {\n",
    "    0 : \"Fake\",\n",
    "    1 : \"Real\",\n",
    "}"
   ]
  },
  {
   "cell_type": "code",
   "execution_count": 2,
   "id": "24f13888",
   "metadata": {
    "execution": {
     "iopub.execute_input": "2022-12-01T14:52:48.440284Z",
     "iopub.status.busy": "2022-12-01T14:52:48.439873Z",
     "iopub.status.idle": "2022-12-01T14:52:48.487548Z",
     "shell.execute_reply": "2022-12-01T14:52:48.486211Z"
    },
    "papermill": {
     "duration": 0.053418,
     "end_time": "2022-12-01T14:52:48.490451",
     "exception": false,
     "start_time": "2022-12-01T14:52:48.437033",
     "status": "completed"
    },
    "tags": []
   },
   "outputs": [],
   "source": [
    "df: pd.DataFrame = pd.DataFrame(data=None, columns=[\"filepaths\", \"labels\"])\n",
    "    \n",
    "filepaths: list = []\n",
    "labels: list = []\n",
    "    \n",
    "i: int = 0\n",
    "for folder in sorted(os.listdir(f\"{DATASET_PATH}\")):\n",
    "    for filename in os.listdir(f\"{DATASET_PATH}/{folder}\"):\n",
    "        filepaths.append(f\"{DATASET_PATH}/{folder}/{filename}\")\n",
    "        labels.append(i)\n",
    "    i += 1\n",
    "\n",
    "df.filepaths = filepaths\n",
    "df.labels = labels\n",
    "df.to_csv(\"dataframe.csv\", index=False)"
   ]
  }
 ],
 "metadata": {
  "kernelspec": {
   "display_name": "Python 3",
   "language": "python",
   "name": "python3"
  },
  "language_info": {
   "codemirror_mode": {
    "name": "ipython",
    "version": 3
   },
   "file_extension": ".py",
   "mimetype": "text/x-python",
   "name": "python",
   "nbconvert_exporter": "python",
   "pygments_lexer": "ipython3",
   "version": "3.7.12"
  },
  "papermill": {
   "default_parameters": {},
   "duration": 10.451259,
   "end_time": "2022-12-01T14:52:49.213552",
   "environment_variables": {},
   "exception": null,
   "input_path": "__notebook__.ipynb",
   "output_path": "__notebook__.ipynb",
   "parameters": {},
   "start_time": "2022-12-01T14:52:38.762293",
   "version": "2.3.4"
  }
 },
 "nbformat": 4,
 "nbformat_minor": 5
}
