{
 "cells": [
  {
   "cell_type": "code",
   "execution_count": 1,
   "id": "197b5457",
   "metadata": {
    "_cell_guid": "b1076dfc-b9ad-4769-8c92-a6c4dae69d19",
    "_uuid": "8f2839f25d086af736a60e9eeb907d3b93b6e0e5",
    "execution": {
     "iopub.execute_input": "2022-10-04T04:44:50.208422Z",
     "iopub.status.busy": "2022-10-04T04:44:50.207812Z",
     "iopub.status.idle": "2022-10-04T04:44:50.221611Z",
     "shell.execute_reply": "2022-10-04T04:44:50.220484Z"
    },
    "papermill": {
     "duration": 0.021837,
     "end_time": "2022-10-04T04:44:50.224362",
     "exception": false,
     "start_time": "2022-10-04T04:44:50.202525",
     "status": "completed"
    },
    "tags": []
   },
   "outputs": [],
   "source": [
    "import os\n",
    "import pandas as pd\n",
    "\n",
    "BASE_PATH: str = \"../input/2022-rcv-2nd-urp-vgg16/TRAIN\""
   ]
  },
  {
   "cell_type": "code",
   "execution_count": 2,
   "id": "f78926cd",
   "metadata": {
    "execution": {
     "iopub.execute_input": "2022-10-04T04:44:50.230701Z",
     "iopub.status.busy": "2022-10-04T04:44:50.230260Z",
     "iopub.status.idle": "2022-10-04T04:44:53.325502Z",
     "shell.execute_reply": "2022-10-04T04:44:53.324404Z"
    },
    "papermill": {
     "duration": 3.101692,
     "end_time": "2022-10-04T04:44:53.328389",
     "exception": false,
     "start_time": "2022-10-04T04:44:50.226697",
     "status": "completed"
    },
    "tags": []
   },
   "outputs": [],
   "source": [
    "folders: list = sorted(os.listdir(BASE_PATH))\n",
    "filepaths: list = []\n",
    "labels: list = []\n",
    "\n",
    "i: int = 0\n",
    "for folder in folders:\n",
    "    filepaths += [os.path.join(os.path.join(BASE_PATH, folder), name) for name in os.listdir(os.path.join(BASE_PATH, folder))]\n",
    "    labels += [i] * len(os.listdir(os.path.join(BASE_PATH, folder)))\n",
    "    i += 1"
   ]
  },
  {
   "cell_type": "code",
   "execution_count": 3,
   "id": "8e064450",
   "metadata": {
    "execution": {
     "iopub.execute_input": "2022-10-04T04:44:53.334293Z",
     "iopub.status.busy": "2022-10-04T04:44:53.333908Z",
     "iopub.status.idle": "2022-10-04T04:44:53.400251Z",
     "shell.execute_reply": "2022-10-04T04:44:53.398834Z"
    },
    "papermill": {
     "duration": 0.072714,
     "end_time": "2022-10-04T04:44:53.403267",
     "exception": false,
     "start_time": "2022-10-04T04:44:53.330553",
     "status": "completed"
    },
    "tags": []
   },
   "outputs": [],
   "source": [
    "df = pd.DataFrame(data=None, columns=[\"filepaths\", \"labels\"])\n",
    "df.filepaths = filepaths\n",
    "df.labels = labels\n",
    "\n",
    "df.to_csv(\"data.csv\", index=False)"
   ]
  },
  {
   "cell_type": "markdown",
   "id": "202910b5",
   "metadata": {
    "papermill": {
     "duration": 0.00191,
     "end_time": "2022-10-04T04:44:53.407378",
     "exception": false,
     "start_time": "2022-10-04T04:44:53.405468",
     "status": "completed"
    },
    "tags": []
   },
   "source": [
    "Note: Image Size in 150x150"
   ]
  }
 ],
 "metadata": {
  "kernelspec": {
   "display_name": "Python 3",
   "language": "python",
   "name": "python3"
  },
  "language_info": {
   "codemirror_mode": {
    "name": "ipython",
    "version": 3
   },
   "file_extension": ".py",
   "mimetype": "text/x-python",
   "name": "python",
   "nbconvert_exporter": "python",
   "pygments_lexer": "ipython3",
   "version": "3.7.12"
  },
  "papermill": {
   "default_parameters": {},
   "duration": 14.763232,
   "end_time": "2022-10-04T04:44:54.132200",
   "environment_variables": {},
   "exception": null,
   "input_path": "__notebook__.ipynb",
   "output_path": "__notebook__.ipynb",
   "parameters": {},
   "start_time": "2022-10-04T04:44:39.368968",
   "version": "2.3.4"
  }
 },
 "nbformat": 4,
 "nbformat_minor": 5
}
