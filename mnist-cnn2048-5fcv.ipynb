{
 "cells": [
  {
   "cell_type": "markdown",
   "id": "5fa09a6d",
   "metadata": {
    "papermill": {
     "duration": 0.015383,
     "end_time": "2022-03-22T05:02:27.696383",
     "exception": false,
     "start_time": "2022-03-22T05:02:27.681000",
     "status": "completed"
    },
    "tags": []
   },
   "source": [
    "### **Library Imports**"
   ]
  },
  {
   "cell_type": "code",
   "execution_count": 1,
   "id": "4a26ddbf",
   "metadata": {
    "execution": {
     "iopub.execute_input": "2022-03-22T05:02:27.730569Z",
     "iopub.status.busy": "2022-03-22T05:02:27.728969Z",
     "iopub.status.idle": "2022-03-22T05:02:30.439170Z",
     "shell.execute_reply": "2022-03-22T05:02:30.440141Z",
     "shell.execute_reply.started": "2022-03-22T04:50:48.143085Z"
    },
    "papermill": {
     "duration": 2.729751,
     "end_time": "2022-03-22T05:02:30.440512",
     "exception": false,
     "start_time": "2022-03-22T05:02:27.710761",
     "status": "completed"
    },
    "tags": []
   },
   "outputs": [],
   "source": [
    "import os\n",
    "import re\n",
    "import torch\n",
    "import numpy as np\n",
    "import pandas as pd\n",
    "import matplotlib.pyplot as plt\n",
    "\n",
    "from time import time\n",
    "from torch import nn, optim\n",
    "from torch.utils.data import Dataset\n",
    "from torch.utils.data import DataLoader as DL\n",
    "from torch.nn.utils import weight_norm as WN\n",
    "from torchvision import transforms\n",
    "\n",
    "from sklearn.preprocessing import StandardScaler\n",
    "from sklearn.model_selection import StratifiedKFold"
   ]
  },
  {
   "cell_type": "markdown",
   "id": "06b20ca5",
   "metadata": {
    "papermill": {
     "duration": 0.022526,
     "end_time": "2022-03-22T05:02:30.486291",
     "exception": false,
     "start_time": "2022-03-22T05:02:30.463765",
     "status": "completed"
    },
    "tags": []
   },
   "source": [
    "### **Utilities and Constants**"
   ]
  },
  {
   "cell_type": "code",
   "execution_count": 2,
   "id": "fcc06563",
   "metadata": {
    "execution": {
     "iopub.execute_input": "2022-03-22T05:02:30.542140Z",
     "iopub.status.busy": "2022-03-22T05:02:30.541300Z",
     "iopub.status.idle": "2022-03-22T05:02:30.599891Z",
     "shell.execute_reply": "2022-03-22T05:02:30.599295Z",
     "shell.execute_reply.started": "2022-03-22T04:50:55.941689Z"
    },
    "papermill": {
     "duration": 0.091048,
     "end_time": "2022-03-22T05:02:30.600023",
     "exception": false,
     "start_time": "2022-03-22T05:02:30.508975",
     "status": "completed"
    },
    "tags": []
   },
   "outputs": [],
   "source": [
    "def breaker(num: int = 50, char: str = \"*\") -> None:\n",
    "    print(\"\\n\" + num*char + \"\\n\")\n",
    "\n",
    "    \n",
    "def show_graphs(L: list, A: list) -> None:\n",
    "    TL, VL, TA, VA = [], [], [], []\n",
    "    for i in range(len(L)):\n",
    "        TL.append(L[i][\"train\"])\n",
    "        VL.append(L[i][\"valid\"])\n",
    "        TA.append(A[i][\"train\"])\n",
    "        VA.append(A[i][\"valid\"])\n",
    "    x_Axis = np.arange(1, len(TL) + 1)\n",
    "    plt.figure(figsize=(8, 6))\n",
    "    plt.subplot(1, 2, 1)\n",
    "    plt.plot(x_Axis, TL, \"r\", label=\"Train\")\n",
    "    plt.plot(x_Axis, VL, \"b\", label=\"Valid\")\n",
    "    plt.legend()\n",
    "    plt.grid()\n",
    "    plt.title(\"Loss Graph\")\n",
    "    plt.subplot(1, 2, 2)\n",
    "    plt.plot(x_Axis, TA, \"r\", label=\"Train\")\n",
    "    plt.plot(x_Axis, VA, \"b\", label=\"Valid\")\n",
    "    plt.legend()\n",
    "    plt.grid()\n",
    "    plt.title(\"Accuracy Graph\")\n",
    "    plt.show()\n",
    "\n",
    "\n",
    "SEED = 42\n",
    "DEVICE = torch.device(\"cuda\" if torch.cuda.is_available() else \"cpu\")\n",
    "\n",
    "SAVE_PATH = \"saves\"\n",
    "if not os.path.exists(SAVE_PATH):\n",
    "    os.makedirs(SAVE_PATH)"
   ]
  },
  {
   "cell_type": "markdown",
   "id": "0ce2e7d2",
   "metadata": {
    "papermill": {
     "duration": 0.012821,
     "end_time": "2022-03-22T05:02:30.626368",
     "exception": false,
     "start_time": "2022-03-22T05:02:30.613547",
     "status": "completed"
    },
    "tags": []
   },
   "source": [
    "### **Dataset Template**"
   ]
  },
  {
   "cell_type": "code",
   "execution_count": 3,
   "id": "9826713a",
   "metadata": {
    "execution": {
     "iopub.execute_input": "2022-03-22T05:02:30.662196Z",
     "iopub.status.busy": "2022-03-22T05:02:30.660639Z",
     "iopub.status.idle": "2022-03-22T05:02:30.662828Z",
     "shell.execute_reply": "2022-03-22T05:02:30.663234Z",
     "shell.execute_reply.started": "2022-03-22T04:50:56.959332Z"
    },
    "papermill": {
     "duration": 0.023834,
     "end_time": "2022-03-22T05:02:30.663356",
     "exception": false,
     "start_time": "2022-03-22T05:02:30.639522",
     "status": "completed"
    },
    "tags": []
   },
   "outputs": [],
   "source": [
    "class DS(Dataset):\n",
    "    def __init__(self, images: np.ndarray, labels: np.ndarray = None, mode: str = \"train\", transform = None):\n",
    "\n",
    "        assert re.match(r\"^train$\", mode, re.IGNORECASE) or re.match(r\"^valid$\", mode, re.IGNORECASE) or re.match(r\"^test$\", mode, re.IGNORECASE), \"Invalid Mode\"\n",
    "        \n",
    "        self.mode = mode\n",
    "        self.images = images\n",
    "        self.transform = transform\n",
    "\n",
    "        if re.match(r\"^train$\", mode, re.IGNORECASE) or re.match(r\"^valid$\", mode, re.IGNORECASE):\n",
    "            self.labels = labels\n",
    "\n",
    "    def __len__(self):\n",
    "        return self.images.shape[0]\n",
    "\n",
    "    def __getitem__(self, idx):\n",
    "        if re.match(r\"^train$\", self.mode, re.IGNORECASE) or re.match(r\"^valid$\", self.mode, re.IGNORECASE):\n",
    "            return self.transform(self.images[idx]), torch.LongTensor(self.labels[idx])\n",
    "        else:\n",
    "            return self.transform(self.images[idx])"
   ]
  },
  {
   "cell_type": "markdown",
   "id": "d5fcb960",
   "metadata": {
    "papermill": {
     "duration": 0.012866,
     "end_time": "2022-03-22T05:02:30.689291",
     "exception": false,
     "start_time": "2022-03-22T05:02:30.676425",
     "status": "completed"
    },
    "tags": []
   },
   "source": [
    "### **Model**"
   ]
  },
  {
   "cell_type": "code",
   "execution_count": 4,
   "id": "9be974f8",
   "metadata": {
    "execution": {
     "iopub.execute_input": "2022-03-22T05:02:30.839010Z",
     "iopub.status.busy": "2022-03-22T05:02:30.838280Z",
     "iopub.status.idle": "2022-03-22T05:02:30.841800Z",
     "shell.execute_reply": "2022-03-22T05:02:30.841011Z",
     "shell.execute_reply.started": "2022-03-22T04:50:57.738221Z"
    },
    "papermill": {
     "duration": 0.139544,
     "end_time": "2022-03-22T05:02:30.841925",
     "exception": false,
     "start_time": "2022-03-22T05:02:30.702381",
     "status": "completed"
    },
    "tags": []
   },
   "outputs": [],
   "source": [
    "class CNN(nn.Module):\n",
    "    def __init__(self, filter_sizes: list, HL: list, DP: float=None):\n",
    "        \n",
    "        super(CNN, self).__init__()\n",
    "        \n",
    "        self.features = nn.Sequential()\n",
    "        self.features.add_module(\"CN1\", nn.Conv2d(in_channels=1, out_channels=filter_sizes[0], kernel_size=(3, 3), stride=(1, 1), padding=(1, 1)))\n",
    "        self.features.add_module(\"BN1\", nn.BatchNorm2d(num_features=filter_sizes[0], eps=1e-5))\n",
    "        self.features.add_module(\"AN1\", nn.ReLU())\n",
    "        self.features.add_module(\"MP1\", nn.MaxPool2d(kernel_size=(2, 2)))\n",
    "        self.features.add_module(\"CN2\", nn.Conv2d(in_channels=filter_sizes[0], out_channels=filter_sizes[1], kernel_size=(3, 3), stride=(1, 1), padding=(1, 1)))\n",
    "        self.features.add_module(\"BN2\", nn.BatchNorm2d(num_features=filter_sizes[1], eps=1e-5))\n",
    "        self.features.add_module(\"AN2\", nn.ReLU())\n",
    "        self.features.add_module(\"MP2\", nn.MaxPool2d(kernel_size=(2, 2)))\n",
    "        self.features.add_module(\"CN3\", nn.Conv2d(in_channels=filter_sizes[1], out_channels=filter_sizes[2], kernel_size=(3, 3), stride=(1, 1), padding=(1, 1)))\n",
    "        self.features.add_module(\"BN3\", nn.BatchNorm2d(num_features=filter_sizes[2], eps=1e-5))\n",
    "        self.features.add_module(\"AN3\", nn.ReLU())\n",
    "        self.features.add_module(\"MP3\", nn.MaxPool2d(kernel_size=(2, 2)))    \n",
    "\n",
    "        self.classifier = nn.Sequential()\n",
    "        if len(HL) == 0:\n",
    "            self.classifier.add_module(\"FC1\", nn.Linear(in_features=filter_sizes[2]*3*3, out_features=10))\n",
    "        elif len(HL) == 1:\n",
    "            self.classifier.add_module(\"FC1\", nn.Linear(in_features=filter_sizes[2]*3*3, out_features=HL[0]))\n",
    "            if isinstance(DP, float):\n",
    "                self.classifier.add_module(\"DP1\", nn.Dropout(p=DP))\n",
    "            self.classifier.add_module(\"AN1\", nn.ReLU())\n",
    "            self.classifier.add_module(\"FC2\", nn.Linear(in_features=HL[0], out_features=10))\n",
    "        elif len(HL) == 2:\n",
    "            self.classifier.add_module(\"FC1\", nn.Linear(in_features=filter_sizes[2]*3*3, out_features=HL[0]))\n",
    "            if isinstance(DP, float):\n",
    "                self.classifier.add_module(\"DP1\", nn.Dropout(p=DP))\n",
    "            self.classifier.add_module(\"AN1\", nn.ReLU())\n",
    "            self.classifier.add_module(\"FC2\", nn.Linear(in_features=HL[0], out_features=HL[1]))\n",
    "            if isinstance(DP, float):\n",
    "                self.classifier.add_module(\"DP2\", nn.Dropout(p=DP))\n",
    "            self.classifier.add_module(\"AN2\", nn.ReLU())\n",
    "            self.classifier.add_module(\"FC3\", nn.Linear(in_features=HL[1], out_features=10))\n",
    "        \n",
    "        self.classifier.add_module(\"Final Activation\", nn.LogSoftmax(dim=1))\n",
    "    \n",
    "    def get_optimizer(self, lr=1e-3, wd=0.0):\n",
    "        params = [p for p in self.parameters() if p.requires_grad]\n",
    "        return optim.Adam(params, lr=lr, weight_decay=wd)\n",
    "\n",
    "    def get_plateau_scheduler(self, optimizer=None, patience=5, eps=1e-8):\n",
    "        return optim.lr_scheduler.ReduceLROnPlateau(optimizer=optimizer, patience=patience, eps=eps)\n",
    "    \n",
    "    def forward(self, x):\n",
    "        x = self.features(x)\n",
    "        x = x.view(x.shape[0], -1)\n",
    "        return self.classifier(x)"
   ]
  },
  {
   "cell_type": "markdown",
   "id": "465687c6",
   "metadata": {
    "papermill": {
     "duration": 0.013384,
     "end_time": "2022-03-22T05:02:30.868888",
     "exception": false,
     "start_time": "2022-03-22T05:02:30.855504",
     "status": "completed"
    },
    "tags": []
   },
   "source": [
    "### **Fit and Predict Helpers**"
   ]
  },
  {
   "cell_type": "code",
   "execution_count": 5,
   "id": "947a43d0",
   "metadata": {
    "execution": {
     "iopub.execute_input": "2022-03-22T05:02:30.917710Z",
     "iopub.status.busy": "2022-03-22T05:02:30.916836Z",
     "iopub.status.idle": "2022-03-22T05:02:30.918436Z",
     "shell.execute_reply": "2022-03-22T05:02:30.919306Z",
     "shell.execute_reply.started": "2022-03-22T04:52:02.300470Z"
    },
    "papermill": {
     "duration": 0.037251,
     "end_time": "2022-03-22T05:02:30.919454",
     "exception": false,
     "start_time": "2022-03-22T05:02:30.882203",
     "status": "completed"
    },
    "tags": []
   },
   "outputs": [],
   "source": [
    "def fit(model=None, optimizer=None, scheduler=None, epochs=None, early_stopping_patience=None, dataloaders=None, fold=None, verbose=False) -> tuple:\n",
    "    \n",
    "    def get_accuracy(y_pred, y_true):\n",
    "        y_pred = torch.argmax(y_pred, dim=1)\n",
    "        return torch.count_nonzero(y_pred == y_true).item() / len(y_pred)\n",
    "    \n",
    "    if verbose:\n",
    "        breaker()\n",
    "        print(f\"Training Fold {fold}...\")\n",
    "        breaker()\n",
    "\n",
    "    bestLoss, bestAccs = {\"train\" : np.inf, \"valid\" : np.inf}, {\"train\" : 0.0, \"valid\" : 0.0}\n",
    "    Losses, Accuracies = [], []\n",
    "    name = f\"state_fold_{fold}.pt\"\n",
    "\n",
    "    start_time = time()\n",
    "    for e in range(epochs):\n",
    "        e_st = time()\n",
    "        epochLoss, epochAccs = {\"train\" : 0.0, \"valid\" : 0.0}, {\"train\" : 0.0, \"valid\" : 0.0}\n",
    "\n",
    "        for phase in [\"train\", \"valid\"]:\n",
    "            if phase == \"train\":\n",
    "                model.train()\n",
    "            else:\n",
    "                model.eval()\n",
    "            \n",
    "            lossPerPass, accsPerPass = [], []\n",
    "\n",
    "            for X, y in dataloaders[phase]:\n",
    "                X, y = X.to(DEVICE), y.to(DEVICE).view(-1)\n",
    "\n",
    "                optimizer.zero_grad()\n",
    "                with torch.set_grad_enabled(phase == \"train\"):\n",
    "                    output = model(X)\n",
    "                    loss = torch.nn.NLLLoss()(output, y)\n",
    "                    if phase == \"train\":\n",
    "                        loss.backward()\n",
    "                        optimizer.step()\n",
    "                lossPerPass.append(loss.item())\n",
    "                accsPerPass.append(get_accuracy(output, y))\n",
    "            epochLoss[phase] = np.mean(np.array(lossPerPass))\n",
    "            epochAccs[phase] = np.mean(np.array(accsPerPass))\n",
    "        Losses.append(epochLoss)\n",
    "        Accuracies.append(epochAccs)\n",
    "\n",
    "        if early_stopping_patience:\n",
    "            if epochLoss[\"valid\"] < bestLoss[\"valid\"]:\n",
    "                bestLoss = epochLoss\n",
    "                BLE = e + 1\n",
    "                torch.save({\"model_state_dict\": model.state_dict(),\n",
    "                            \"optim_state_dict\": optimizer.state_dict()},\n",
    "                           os.path.join(SAVE_PATH, name))\n",
    "                early_stopping_step = 0\n",
    "            else:\n",
    "                early_stopping_step += 1\n",
    "                if early_stopping_step > early_stopping_patience:\n",
    "                    print(\"\\nEarly Stopping at Epoch {}\".format(e + 1))\n",
    "                    break\n",
    "        \n",
    "        if epochLoss[\"valid\"] < bestLoss[\"valid\"]:\n",
    "            bestLoss = epochLoss\n",
    "            BLE = e + 1\n",
    "            torch.save({\"model_state_dict\" : model.state_dict(),\n",
    "                        \"optim_state_dict\" : optimizer.state_dict()},\n",
    "                        os.path.join(SAVE_PATH, name))\n",
    "        \n",
    "        if epochAccs[\"valid\"] > bestAccs[\"valid\"]:\n",
    "            bestAccs = epochAccs\n",
    "            BAE = e + 1\n",
    "        \n",
    "        if scheduler:\n",
    "            scheduler.step(epochLoss[\"valid\"])\n",
    "        \n",
    "        if verbose:\n",
    "            print(\"Epoch: {} | Train Loss: {:.5f} | Valid Loss: {:.5f} |\\\n",
    "Train Accs: {:.5f} | Valid Accs: {:.5f} | Time: {:.2f} seconds\".format(e+1, \n",
    "                                                                       epochLoss[\"train\"], epochLoss[\"valid\"], \n",
    "                                                                       epochAccs[\"train\"], epochAccs[\"valid\"], \n",
    "                                                                       time()-e_st))\n",
    "\n",
    "    if verbose:                                           \n",
    "        breaker()\n",
    "        print(f\"Best Validation Loss at Epoch {BLE}\")\n",
    "        breaker()\n",
    "        print(f\"Best Validation Accs at Epoch {BAE}\")\n",
    "        breaker()\n",
    "        print(\"Time Taken [{} Epochs] : {:.2f} minutes\".format(len(Losses), (time()-start_time)/60))\n",
    "        breaker()\n",
    "        print(\"Training Completed\")\n",
    "        breaker()\n",
    "\n",
    "    return Losses, Accuracies, BLE, BAE, name\n",
    "\n",
    "\n",
    "def predict(model=None, dataloader=None, path=None) -> np.ndarray:\n",
    "    model.load_state_dict(torch.load(path, map_location=DEVICE)[\"model_state_dict\"])\n",
    "    model.to(DEVICE)    \n",
    "    model.eval()\n",
    "    \n",
    "    y_pred = torch.zeros(1, 1).to(DEVICE)\n",
    "    \n",
    "    for X in dataloader:\n",
    "        X = X.to(DEVICE)\n",
    "        with torch.no_grad():\n",
    "            output = torch.argmax(torch.exp(model(X)), dim=1)\n",
    "        y_pred = torch.cat((y_pred, output.view(-1, 1)), dim=0)\n",
    "    \n",
    "    return y_pred[1:].detach().cpu().numpy()"
   ]
  },
  {
   "cell_type": "markdown",
   "id": "c3ae5b5c",
   "metadata": {
    "papermill": {
     "duration": 0.013349,
     "end_time": "2022-03-22T05:02:30.945904",
     "exception": false,
     "start_time": "2022-03-22T05:02:30.932555",
     "status": "completed"
    },
    "tags": []
   },
   "source": [
    "### **Load Data**"
   ]
  },
  {
   "cell_type": "code",
   "execution_count": 6,
   "id": "fa4005ac",
   "metadata": {
    "execution": {
     "iopub.execute_input": "2022-03-22T05:02:30.980756Z",
     "iopub.status.busy": "2022-03-22T05:02:30.980012Z",
     "iopub.status.idle": "2022-03-22T05:02:35.833365Z",
     "shell.execute_reply": "2022-03-22T05:02:35.833961Z",
     "shell.execute_reply.started": "2022-03-22T04:51:00.173509Z"
    },
    "papermill": {
     "duration": 4.874353,
     "end_time": "2022-03-22T05:02:35.834136",
     "exception": false,
     "start_time": "2022-03-22T05:02:30.959783",
     "status": "completed"
    },
    "tags": []
   },
   "outputs": [],
   "source": [
    "train_df = pd.read_csv(\"../input/digit-recognizer/train.csv\")\n",
    "test_df  = pd.read_csv(\"../input/digit-recognizer/test.csv\")\n",
    "\n",
    "X = train_df.iloc[:, 1:].copy().values\n",
    "y = train_df.iloc[:, 0].copy().values\n",
    "X_test = test_df.copy().values\n",
    "\n",
    "X = X.reshape(X.shape[0], 28, 28, 1).astype(\"uint8\")\n",
    "X_test = X_test.reshape(X_test.shape[0], 28, 28, 1).astype(\"uint8\")"
   ]
  },
  {
   "cell_type": "markdown",
   "id": "8c7ed6b6",
   "metadata": {
    "papermill": {
     "duration": 0.013726,
     "end_time": "2022-03-22T05:02:35.861922",
     "exception": false,
     "start_time": "2022-03-22T05:02:35.848196",
     "status": "completed"
    },
    "tags": []
   },
   "source": [
    "### **Params**"
   ]
  },
  {
   "cell_type": "code",
   "execution_count": 7,
   "id": "afc63aed",
   "metadata": {
    "execution": {
     "iopub.execute_input": "2022-03-22T05:02:35.895988Z",
     "iopub.status.busy": "2022-03-22T05:02:35.895221Z",
     "iopub.status.idle": "2022-03-22T05:02:35.898914Z",
     "shell.execute_reply": "2022-03-22T05:02:35.898398Z",
     "shell.execute_reply.started": "2022-03-22T05:01:01.539849Z"
    },
    "papermill": {
     "duration": 0.023092,
     "end_time": "2022-03-22T05:02:35.899036",
     "exception": false,
     "start_time": "2022-03-22T05:02:35.875944",
     "status": "completed"
    },
    "tags": []
   },
   "outputs": [],
   "source": [
    "DEBUG = False\n",
    "\n",
    "if DEBUG:\n",
    "    n_splits = 3\n",
    "    filter_sizes = [4]\n",
    "    HL = [16]\n",
    "    epochs = 2\n",
    "else:\n",
    "    n_splits = 5\n",
    "    filter_sizes = [64, 128, 256]\n",
    "    HL = [2048]\n",
    "    epochs = 25\n",
    "    \n",
    "batch_size = 128\n",
    "lr = 1e-3\n",
    "wd = 0.0\n",
    "early_stopping = 5\n",
    "patience = None\n",
    "eps = None"
   ]
  },
  {
   "cell_type": "markdown",
   "id": "a2053bbe",
   "metadata": {
    "papermill": {
     "duration": 0.013523,
     "end_time": "2022-03-22T05:02:35.926129",
     "exception": false,
     "start_time": "2022-03-22T05:02:35.912606",
     "status": "completed"
    },
    "tags": []
   },
   "source": [
    "### **Train**"
   ]
  },
  {
   "cell_type": "code",
   "execution_count": 8,
   "id": "a9bd774a",
   "metadata": {
    "execution": {
     "iopub.execute_input": "2022-03-22T05:02:35.965725Z",
     "iopub.status.busy": "2022-03-22T05:02:35.964803Z",
     "iopub.status.idle": "2022-03-22T05:08:37.813592Z",
     "shell.execute_reply": "2022-03-22T05:08:37.813068Z",
     "shell.execute_reply.started": "2022-03-22T04:54:26.102873Z"
    },
    "papermill": {
     "duration": 361.874104,
     "end_time": "2022-03-22T05:08:37.813766",
     "exception": false,
     "start_time": "2022-03-22T05:02:35.939662",
     "status": "completed"
    },
    "tags": []
   },
   "outputs": [
    {
     "name": "stdout",
     "output_type": "stream",
     "text": [
      "\n",
      "**************************************************\n",
      "\n",
      "Training Fold 1...\n",
      "\n",
      "**************************************************\n",
      "\n",
      "Epoch: 1 | Train Loss: 0.32360 | Valid Loss: 0.08512 |Train Accs: 0.91671 | Valid Accs: 0.97547 | Time: 11.76 seconds\n",
      "Epoch: 2 | Train Loss: 0.05143 | Valid Loss: 0.05613 |Train Accs: 0.98342 | Valid Accs: 0.98359 | Time: 5.95 seconds\n",
      "Epoch: 3 | Train Loss: 0.03498 | Valid Loss: 0.04788 |Train Accs: 0.98833 | Valid Accs: 0.98677 | Time: 5.89 seconds\n",
      "Epoch: 4 | Train Loss: 0.02818 | Valid Loss: 0.04737 |Train Accs: 0.98999 | Valid Accs: 0.98572 | Time: 5.99 seconds\n",
      "Epoch: 5 | Train Loss: 0.02089 | Valid Loss: 0.04759 |Train Accs: 0.99234 | Valid Accs: 0.98743 | Time: 6.23 seconds\n",
      "Epoch: 6 | Train Loss: 0.01701 | Valid Loss: 0.03875 |Train Accs: 0.99450 | Valid Accs: 0.99046 | Time: 5.87 seconds\n",
      "Epoch: 7 | Train Loss: 0.01435 | Valid Loss: 0.03945 |Train Accs: 0.99537 | Valid Accs: 0.99022 | Time: 6.03 seconds\n",
      "Epoch: 8 | Train Loss: 0.01104 | Valid Loss: 0.05088 |Train Accs: 0.99599 | Valid Accs: 0.98762 | Time: 5.66 seconds\n",
      "Epoch: 9 | Train Loss: 0.01060 | Valid Loss: 0.04673 |Train Accs: 0.99676 | Valid Accs: 0.98826 | Time: 5.78 seconds\n",
      "Epoch: 10 | Train Loss: 0.01249 | Valid Loss: 0.05264 |Train Accs: 0.99578 | Valid Accs: 0.98767 | Time: 5.66 seconds\n",
      "Epoch: 11 | Train Loss: 0.01132 | Valid Loss: 0.05367 |Train Accs: 0.99602 | Valid Accs: 0.98743 | Time: 6.15 seconds\n",
      "\n",
      "Early Stopping at Epoch 12\n",
      "\n",
      "**************************************************\n",
      "\n",
      "Best Validation Loss at Epoch 6\n",
      "\n",
      "**************************************************\n",
      "\n",
      "Best Validation Accs at Epoch 6\n",
      "\n",
      "**************************************************\n",
      "\n",
      "Time Taken [12 Epochs] : 1.28 minutes\n",
      "\n",
      "**************************************************\n",
      "\n",
      "Training Completed\n",
      "\n",
      "**************************************************\n",
      "\n"
     ]
    },
    {
     "data": {
      "image/png": "[encoded data removed]",
      "text/plain": [
       "<Figure size 576x432 with 2 Axes>"
      ]
     },
     "metadata": {
      "needs_background": "light"
     },
     "output_type": "display_data"
    },
    {
     "name": "stdout",
     "output_type": "stream",
     "text": [
      "\n",
      "**************************************************\n",
      "\n",
      "Training Fold 2...\n",
      "\n",
      "**************************************************\n",
      "\n",
      "Epoch: 1 | Train Loss: 0.22854 | Valid Loss: 0.07768 |Train Accs: 0.94047 | Valid Accs: 0.97216 | Time: 5.90 seconds\n",
      "Epoch: 2 | Train Loss: 0.04878 | Valid Loss: 0.07480 |Train Accs: 0.98440 | Valid Accs: 0.97412 | Time: 5.75 seconds\n",
      "Epoch: 3 | Train Loss: 0.03527 | Valid Loss: 0.05012 |Train Accs: 0.98868 | Valid Accs: 0.98497 | Time: 5.91 seconds\n",
      "Epoch: 4 | Train Loss: 0.02850 | Valid Loss: 0.03659 |Train Accs: 0.99094 | Valid Accs: 0.98849 | Time: 6.29 seconds\n",
      "Epoch: 5 | Train Loss: 0.02310 | Valid Loss: 0.04098 |Train Accs: 0.99290 | Valid Accs: 0.98769 | Time: 5.87 seconds\n",
      "Epoch: 6 | Train Loss: 0.01509 | Valid Loss: 0.05081 |Train Accs: 0.99531 | Valid Accs: 0.98449 | Time: 5.82 seconds\n",
      "Epoch: 7 | Train Loss: 0.01199 | Valid Loss: 0.09352 |Train Accs: 0.99605 | Valid Accs: 0.97377 | Time: 5.66 seconds\n",
      "Epoch: 8 | Train Loss: 0.01393 | Valid Loss: 0.04594 |Train Accs: 0.99551 | Valid Accs: 0.98857 | Time: 5.82 seconds\n",
      "Epoch: 9 | Train Loss: 0.01073 | Valid Loss: 0.04106 |Train Accs: 0.99673 | Valid Accs: 0.98797 | Time: 5.68 seconds\n",
      "\n",
      "Early Stopping at Epoch 10\n",
      "\n",
      "**************************************************\n",
      "\n",
      "Best Validation Loss at Epoch 4\n",
      "\n",
      "**************************************************\n",
      "\n",
      "Best Validation Accs at Epoch 8\n",
      "\n",
      "**************************************************\n",
      "\n",
      "Time Taken [10 Epochs] : 0.98 minutes\n",
      "\n",
      "**************************************************\n",
      "\n",
      "Training Completed\n",
      "\n",
      "**************************************************\n",
      "\n"
     ]
    },
    {
     "data": {
      "image/png": "[encoded data removed]",
      "text/plain": [
       "<Figure size 576x432 with 2 Axes>"
      ]
     },
     "metadata": {
      "needs_background": "light"
     },
     "output_type": "display_data"
    },
    {
     "name": "stdout",
     "output_type": "stream",
     "text": [
      "\n",
      "**************************************************\n",
      "\n",
      "Training Fold 3...\n",
      "\n",
      "**************************************************\n",
      "\n",
      "Epoch: 1 | Train Loss: 0.26099 | Valid Loss: 0.07277 |Train Accs: 0.93257 | Valid Accs: 0.97760 | Time: 5.73 seconds\n",
      "Epoch: 2 | Train Loss: 0.04950 | Valid Loss: 0.04864 |Train Accs: 0.98390 | Valid Accs: 0.98580 | Time: 5.92 seconds\n",
      "Epoch: 3 | Train Loss: 0.03159 | Valid Loss: 0.06219 |Train Accs: 0.98972 | Valid Accs: 0.98165 | Time: 5.71 seconds\n",
      "Epoch: 4 | Train Loss: 0.02969 | Valid Loss: 0.04777 |Train Accs: 0.99073 | Valid Accs: 0.98743 | Time: 6.17 seconds\n",
      "Epoch: 5 | Train Loss: 0.02401 | Valid Loss: 0.03883 |Train Accs: 0.99222 | Valid Accs: 0.98951 | Time: 6.26 seconds\n",
      "Epoch: 6 | Train Loss: 0.01673 | Valid Loss: 0.04580 |Train Accs: 0.99489 | Valid Accs: 0.98710 | Time: 5.86 seconds\n",
      "Epoch: 7 | Train Loss: 0.01497 | Valid Loss: 0.06720 |Train Accs: 0.99519 | Valid Accs: 0.98229 | Time: 5.61 seconds\n",
      "Epoch: 8 | Train Loss: 0.00874 | Valid Loss: 0.04269 |Train Accs: 0.99736 | Valid Accs: 0.98864 | Time: 5.81 seconds\n",
      "Epoch: 9 | Train Loss: 0.01465 | Valid Loss: 0.04600 |Train Accs: 0.99507 | Valid Accs: 0.98875 | Time: 5.64 seconds\n",
      "Epoch: 10 | Train Loss: 0.01057 | Valid Loss: 0.05342 |Train Accs: 0.99664 | Valid Accs: 0.98911 | Time: 5.81 seconds\n",
      "\n",
      "Early Stopping at Epoch 11\n",
      "\n",
      "**************************************************\n",
      "\n",
      "Best Validation Loss at Epoch 5\n",
      "\n",
      "**************************************************\n",
      "\n",
      "Best Validation Accs at Epoch 5\n",
      "\n",
      "**************************************************\n",
      "\n",
      "Time Taken [11 Epochs] : 1.08 minutes\n",
      "\n",
      "**************************************************\n",
      "\n",
      "Training Completed\n",
      "\n",
      "**************************************************\n",
      "\n"
     ]
    },
    {
     "data": {
      "image/png": "[encoded data removed]",
      "text/plain": [
       "<Figure size 576x432 with 2 Axes>"
      ]
     },
     "metadata": {
      "needs_background": "light"
     },
     "output_type": "display_data"
    },
    {
     "name": "stdout",
     "output_type": "stream",
     "text": [
      "\n",
      "**************************************************\n",
      "\n",
      "Training Fold 4...\n",
      "\n",
      "**************************************************\n",
      "\n",
      "Epoch: 1 | Train Loss: 0.25839 | Valid Loss: 0.06838 |Train Accs: 0.93275 | Valid Accs: 0.97824 | Time: 5.70 seconds\n",
      "Epoch: 2 | Train Loss: 0.05088 | Valid Loss: 0.04842 |Train Accs: 0.98464 | Valid Accs: 0.98580 | Time: 5.91 seconds\n",
      "Epoch: 3 | Train Loss: 0.03488 | Valid Loss: 0.06991 |Train Accs: 0.98844 | Valid Accs: 0.97756 | Time: 5.67 seconds\n",
      "Epoch: 4 | Train Loss: 0.02571 | Valid Loss: 0.02878 |Train Accs: 0.99142 | Valid Accs: 0.99018 | Time: 5.96 seconds\n",
      "Epoch: 5 | Train Loss: 0.02136 | Valid Loss: 0.04206 |Train Accs: 0.99344 | Valid Accs: 0.98809 | Time: 5.62 seconds\n",
      "Epoch: 6 | Train Loss: 0.01856 | Valid Loss: 0.03573 |Train Accs: 0.99415 | Valid Accs: 0.98864 | Time: 6.23 seconds\n",
      "Epoch: 7 | Train Loss: 0.01678 | Valid Loss: 0.08122 |Train Accs: 0.99453 | Valid Accs: 0.97670 | Time: 5.56 seconds\n",
      "Epoch: 8 | Train Loss: 0.01281 | Valid Loss: 0.03961 |Train Accs: 0.99575 | Valid Accs: 0.99029 | Time: 5.82 seconds\n",
      "Epoch: 9 | Train Loss: 0.00923 | Valid Loss: 0.04430 |Train Accs: 0.99670 | Valid Accs: 0.98864 | Time: 5.63 seconds\n",
      "\n",
      "Early Stopping at Epoch 10\n",
      "\n",
      "**************************************************\n",
      "\n",
      "Best Validation Loss at Epoch 4\n",
      "\n",
      "**************************************************\n",
      "\n",
      "Best Validation Accs at Epoch 8\n",
      "\n",
      "**************************************************\n",
      "\n",
      "Time Taken [10 Epochs] : 0.97 minutes\n",
      "\n",
      "**************************************************\n",
      "\n",
      "Training Completed\n",
      "\n",
      "**************************************************\n",
      "\n"
     ]
    },
    {
     "data": {
      "image/png": "[encoded data removed]",
      "text/plain": [
       "<Figure size 576x432 with 2 Axes>"
      ]
     },
     "metadata": {
      "needs_background": "light"
     },
     "output_type": "display_data"
    },
    {
     "name": "stdout",
     "output_type": "stream",
     "text": [
      "\n",
      "**************************************************\n",
      "\n",
      "Training Fold 5...\n",
      "\n",
      "**************************************************\n",
      "\n",
      "Epoch: 1 | Train Loss: 0.26606 | Valid Loss: 0.07122 |Train Accs: 0.92966 | Valid Accs: 0.97611 | Time: 6.16 seconds\n",
      "Epoch: 2 | Train Loss: 0.05065 | Valid Loss: 0.05121 |Train Accs: 0.98405 | Valid Accs: 0.98511 | Time: 5.85 seconds\n",
      "Epoch: 3 | Train Loss: 0.04054 | Valid Loss: 0.03623 |Train Accs: 0.98687 | Valid Accs: 0.98809 | Time: 5.77 seconds\n",
      "Epoch: 4 | Train Loss: 0.02465 | Valid Loss: 0.03425 |Train Accs: 0.99225 | Valid Accs: 0.99034 | Time: 5.94 seconds\n",
      "Epoch: 5 | Train Loss: 0.02276 | Valid Loss: 0.04226 |Train Accs: 0.99266 | Valid Accs: 0.98771 | Time: 5.92 seconds\n",
      "Epoch: 6 | Train Loss: 0.01586 | Valid Loss: 0.03336 |Train Accs: 0.99513 | Valid Accs: 0.98949 | Time: 5.75 seconds\n",
      "Epoch: 7 | Train Loss: 0.01697 | Valid Loss: 0.04754 |Train Accs: 0.99433 | Valid Accs: 0.98897 | Time: 6.08 seconds\n",
      "Epoch: 8 | Train Loss: 0.01489 | Valid Loss: 0.03754 |Train Accs: 0.99543 | Valid Accs: 0.98920 | Time: 5.59 seconds\n",
      "Epoch: 9 | Train Loss: 0.00835 | Valid Loss: 0.06190 |Train Accs: 0.99727 | Valid Accs: 0.98419 | Time: 5.81 seconds\n",
      "Epoch: 10 | Train Loss: 0.01289 | Valid Loss: 0.04350 |Train Accs: 0.99554 | Valid Accs: 0.98880 | Time: 5.69 seconds\n",
      "Epoch: 11 | Train Loss: 0.00914 | Valid Loss: 0.02936 |Train Accs: 0.99700 | Valid Accs: 0.99271 | Time: 5.93 seconds\n",
      "Epoch: 12 | Train Loss: 0.00678 | Valid Loss: 0.05260 |Train Accs: 0.99789 | Valid Accs: 0.98849 | Time: 5.66 seconds\n",
      "Epoch: 13 | Train Loss: 0.01058 | Valid Loss: 0.04477 |Train Accs: 0.99649 | Valid Accs: 0.98956 | Time: 6.05 seconds\n",
      "Epoch: 14 | Train Loss: 0.00589 | Valid Loss: 0.03526 |Train Accs: 0.99795 | Valid Accs: 0.99188 | Time: 5.66 seconds\n",
      "Epoch: 15 | Train Loss: 0.00599 | Valid Loss: 0.05189 |Train Accs: 0.99792 | Valid Accs: 0.99010 | Time: 5.77 seconds\n",
      "Epoch: 16 | Train Loss: 0.00963 | Valid Loss: 0.05439 |Train Accs: 0.99694 | Valid Accs: 0.98909 | Time: 5.65 seconds\n",
      "\n",
      "Early Stopping at Epoch 17\n",
      "\n",
      "**************************************************\n",
      "\n",
      "Best Validation Loss at Epoch 11\n",
      "\n",
      "**************************************************\n",
      "\n",
      "Best Validation Accs at Epoch 11\n",
      "\n",
      "**************************************************\n",
      "\n",
      "Time Taken [17 Epochs] : 1.65 minutes\n",
      "\n",
      "**************************************************\n",
      "\n",
      "Training Completed\n",
      "\n",
      "**************************************************\n",
      "\n"
     ]
    },
    {
     "data": {
      "image/png": "[encoded data removed]",
      "text/plain": [
       "<Figure size 576x432 with 2 Axes>"
      ]
     },
     "metadata": {
      "needs_background": "light"
     },
     "output_type": "display_data"
    }
   ],
   "source": [
    "fold = 1\n",
    "\n",
    "for tr_idx, va_idx in StratifiedKFold(n_splits=n_splits, random_state=SEED, shuffle=True).split(X, y):\n",
    "\n",
    "    X_train, X_valid, y_train, y_valid = X[tr_idx], X[va_idx], y[tr_idx], y[va_idx]\n",
    "\n",
    "    transform = transforms.Compose([transforms.ToTensor(), \n",
    "                                    transforms.Normalize(mean=[0.13101], std=[0.30854]),\n",
    "                                   ])\n",
    "\n",
    "    tr_data_setup = DS(X_train, y_train.reshape(-1, 1), \"train\", transform)\n",
    "    va_data_setup = DS(X_valid, y_valid.reshape(-1, 1), \"valid\", transform)\n",
    "\n",
    "    dataloaders = {\n",
    "        \"train\" : DL(tr_data_setup, batch_size=batch_size, shuffle=True, generator=torch.manual_seed(SEED)),\n",
    "        \"valid\" : DL(va_data_setup, batch_size=batch_size, shuffle=False),\n",
    "    }\n",
    "\n",
    "    torch.manual_seed(SEED)\n",
    "    model = CNN(filter_sizes=filter_sizes, HL=HL, DP=0.25)\n",
    "    model.to(DEVICE)\n",
    "    optimizer = model.get_optimizer(lr=lr, wd=wd)\n",
    "    scheduler = None\n",
    "    if isinstance(patience, int) and isinstance(eps, float):\n",
    "        scheduler = get_plateau_scheduler(optimizer=optimizer, patience=patience, eps=eps)\n",
    "\n",
    "    L, A, BLE, BAE, name = fit(model=model, optimizer=optimizer, scheduler=scheduler, \n",
    "                               epochs=epochs, early_stopping_patience=early_stopping, \n",
    "                               dataloaders=dataloaders, fold=fold, verbose=True)\n",
    "\n",
    "    show_graphs(L, A)\n",
    "    fold += 1"
   ]
  },
  {
   "cell_type": "markdown",
   "id": "9a87102f",
   "metadata": {
    "papermill": {
     "duration": 0.038558,
     "end_time": "2022-03-22T05:08:37.892897",
     "exception": false,
     "start_time": "2022-03-22T05:08:37.854339",
     "status": "completed"
    },
    "tags": []
   },
   "source": [
    "### **Submission**"
   ]
  },
  {
   "cell_type": "code",
   "execution_count": 9,
   "id": "343e4942",
   "metadata": {
    "execution": {
     "iopub.execute_input": "2022-03-22T05:08:37.978094Z",
     "iopub.status.busy": "2022-03-22T05:08:37.977266Z",
     "iopub.status.idle": "2022-03-22T05:08:49.891891Z",
     "shell.execute_reply": "2022-03-22T05:08:49.892348Z",
     "shell.execute_reply.started": "2022-03-22T04:58:46.044315Z"
    },
    "papermill": {
     "duration": 11.960863,
     "end_time": "2022-03-22T05:08:49.892539",
     "exception": false,
     "start_time": "2022-03-22T05:08:37.931676",
     "status": "completed"
    },
    "tags": []
   },
   "outputs": [],
   "source": [
    "ts_data_setup = DS(X_test, None, \"test\", transform)\n",
    "ts_data = DL(ts_data_setup, batch_size=batch_size, shuffle=False)\n",
    "\n",
    "y_hat = np.zeros((len(X_test), 1))\n",
    "\n",
    "for fold in range(1, n_splits + 1):\n",
    "    y_hat += predict(model=model, dataloader=ts_data, path=f\"./saves/state_fold_{fold}.pt\")\n",
    "\n",
    "y_pred = y_hat / 5\n",
    "\n",
    "ss_df = pd.read_csv(\"../input/digit-recognizer/sample_submission.csv\")\n",
    "ss_df[\"Label\"] = y_pred.astype(\"int64\")\n",
    "ss_df.to_csv(\"./submission.csv\", index=False)"
   ]
  }
 ],
 "metadata": {
  "kernelspec": {
   "display_name": "Python 3",
   "language": "python",
   "name": "python3"
  },
  "language_info": {
   "codemirror_mode": {
    "name": "ipython",
    "version": 3
   },
   "file_extension": ".py",
   "mimetype": "text/x-python",
   "name": "python",
   "nbconvert_exporter": "python",
   "pygments_lexer": "ipython3",
   "version": "3.7.12"
  },
  "papermill": {
   "default_parameters": {},
   "duration": 392.446508,
   "end_time": "2022-03-22T05:08:52.091234",
   "environment_variables": {},
   "exception": null,
   "input_path": "__notebook__.ipynb",
   "output_path": "__notebook__.ipynb",
   "parameters": {},
   "start_time": "2022-03-22T05:02:19.644726",
   "version": "2.3.3"
  }
 },
 "nbformat": 4,
 "nbformat_minor": 5
}
