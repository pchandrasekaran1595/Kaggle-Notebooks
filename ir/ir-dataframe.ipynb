{
 "cells": [
  {
   "cell_type": "code",
   "execution_count": 1,
   "id": "84c5cdda",
   "metadata": {
    "_cell_guid": "b1076dfc-b9ad-4769-8c92-a6c4dae69d19",
    "_uuid": "8f2839f25d086af736a60e9eeb907d3b93b6e0e5",
    "execution": {
     "iopub.execute_input": "2022-10-25T10:50:54.226199Z",
     "iopub.status.busy": "2022-10-25T10:50:54.225721Z",
     "iopub.status.idle": "2022-10-25T10:50:54.523364Z",
     "shell.execute_reply": "2022-10-25T10:50:54.521903Z"
    },
    "papermill": {
     "duration": 0.304447,
     "end_time": "2022-10-25T10:50:54.525889",
     "exception": false,
     "start_time": "2022-10-25T10:50:54.221442",
     "status": "completed"
    },
    "tags": []
   },
   "outputs": [],
   "source": [
    "import os\n",
    "import cv2\n",
    "import numpy as np\n",
    "import pandas as pd\n",
    "\n",
    "BASE_PATH: str = \"../input/insects-recognition\"\n",
    "    \n",
    "LABELS: dict = {\n",
    "    0 : \"Butterfly\",\n",
    "    1 : \"Dragonfly\",\n",
    "    2 : \"Grasshopper\",\n",
    "    3 : \"Ladybird\",\n",
    "    4 : \"Mosquito\"\n",
    "}"
   ]
  },
  {
   "cell_type": "code",
   "execution_count": 2,
   "id": "61e4dcaa",
   "metadata": {
    "execution": {
     "iopub.execute_input": "2022-10-25T10:50:54.531313Z",
     "iopub.status.busy": "2022-10-25T10:50:54.530854Z",
     "iopub.status.idle": "2022-10-25T10:50:55.043075Z",
     "shell.execute_reply": "2022-10-25T10:50:55.041508Z"
    },
    "papermill": {
     "duration": 0.517513,
     "end_time": "2022-10-25T10:50:55.045485",
     "exception": false,
     "start_time": "2022-10-25T10:50:54.527972",
     "status": "completed"
    },
    "tags": []
   },
   "outputs": [],
   "source": [
    "fu_df = pd.DataFrame(data=None, columns=[\"filepaths\", \"labels\"])\n",
    "tr_df = pd.DataFrame(data=None, columns=[\"filepaths\", \"labels\"])\n",
    "ts_df = pd.DataFrame(data=None, columns=[\"filepaths\", \"labels\"])\n",
    "\n",
    "folders: list = sorted(os.listdir(BASE_PATH))\n",
    "filepaths: list = []\n",
    "labels: list = []\n",
    "\n",
    "i: int = 0\n",
    "for folder in folders:\n",
    "    for filename in os.listdir(os.path.join(BASE_PATH, folder)):\n",
    "        filepaths.append(os.path.join(os.path.join(BASE_PATH, folder), filename))\n",
    "        labels.append(i)\n",
    "    i += 1\n",
    "\n",
    "fu_df.filepaths = filepaths\n",
    "fu_df.labels    = labels\n",
    "fu_df.to_csv(\"full.csv\", index=False)"
   ]
  },
  {
   "cell_type": "code",
   "execution_count": 3,
   "id": "60dc0c5c",
   "metadata": {
    "execution": {
     "iopub.execute_input": "2022-10-25T10:50:55.050936Z",
     "iopub.status.busy": "2022-10-25T10:50:55.050468Z",
     "iopub.status.idle": "2022-10-25T10:50:56.131860Z",
     "shell.execute_reply": "2022-10-25T10:50:56.130362Z"
    },
    "papermill": {
     "duration": 1.086884,
     "end_time": "2022-10-25T10:50:56.134383",
     "exception": false,
     "start_time": "2022-10-25T10:50:55.047499",
     "status": "completed"
    },
    "tags": []
   },
   "outputs": [],
   "source": [
    "from sklearn.model_selection import train_test_split\n",
    "\n",
    "tr_filepaths, ts_filepaths, tr_labels, ts_labels = train_test_split(filepaths, labels, test_size=0.2, random_state=42, stratify=labels)\n",
    "\n",
    "tr_df.filepaths = tr_filepaths\n",
    "ts_df.filepaths = ts_filepaths\n",
    "tr_df.labels    = tr_labels\n",
    "ts_df.labels    = ts_labels\n",
    "\n",
    "tr_df.to_csv(\"train.csv\", index=False)\n",
    "ts_df.to_csv(\"test.csv\", index=False)"
   ]
  },
  {
   "cell_type": "code",
   "execution_count": 4,
   "id": "cbc8d369",
   "metadata": {
    "execution": {
     "iopub.execute_input": "2022-10-25T10:50:56.141249Z",
     "iopub.status.busy": "2022-10-25T10:50:56.140905Z",
     "iopub.status.idle": "2022-10-25T10:50:56.154823Z",
     "shell.execute_reply": "2022-10-25T10:50:56.153286Z"
    },
    "papermill": {
     "duration": 0.019132,
     "end_time": "2022-10-25T10:50:56.157248",
     "exception": false,
     "start_time": "2022-10-25T10:50:56.138116",
     "status": "completed"
    },
    "tags": []
   },
   "outputs": [
    {
     "name": "stdout",
     "output_type": "stream",
     "text": [
      "\n",
      "**************************************************\n",
      "\n",
      "Class 0 - 719\n",
      "Class 1 - 829\n",
      "Class 2 - 768\n",
      "Class 3 - 691\n",
      "Class 4 - 552\n",
      "\n",
      "**************************************************\n",
      "\n",
      "Class 0 - 180\n",
      "Class 1 - 207\n",
      "Class 2 - 192\n",
      "Class 3 - 173\n",
      "Class 4 - 138\n",
      "\n",
      "**************************************************\n",
      "\n"
     ]
    }
   ],
   "source": [
    "print(\"\\n\" + 50*\"*\" + \"\\n\")\n",
    "for val in set(tr_df.labels): print(f\"Class {val} - {tr_df[tr_df.labels == val].shape[0]}\")\n",
    "print(\"\\n\" + 50*\"*\" + \"\\n\")\n",
    "for val in set(ts_df.labels): print(f\"Class {val} - {ts_df[ts_df.labels == val].shape[0]}\")\n",
    "print(\"\\n\" + 50*\"*\" + \"\\n\")"
   ]
  }
 ],
 "metadata": {
  "kernelspec": {
   "display_name": "Python 3",
   "language": "python",
   "name": "python3"
  },
  "language_info": {
   "codemirror_mode": {
    "name": "ipython",
    "version": 3
   },
   "file_extension": ".py",
   "mimetype": "text/x-python",
   "name": "python",
   "nbconvert_exporter": "python",
   "pygments_lexer": "ipython3",
   "version": "3.7.12"
  },
  "papermill": {
   "default_parameters": {},
   "duration": 9.829931,
   "end_time": "2022-10-25T10:50:56.881444",
   "environment_variables": {},
   "exception": null,
   "input_path": "__notebook__.ipynb",
   "output_path": "__notebook__.ipynb",
   "parameters": {},
   "start_time": "2022-10-25T10:50:47.051513",
   "version": "2.3.4"
  }
 },
 "nbformat": 4,
 "nbformat_minor": 5
}
