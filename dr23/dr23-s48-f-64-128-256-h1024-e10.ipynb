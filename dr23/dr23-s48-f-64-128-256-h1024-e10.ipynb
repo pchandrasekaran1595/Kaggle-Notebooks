{
 "cells": [
  {
   "cell_type": "markdown",
   "id": "c1d4449d",
   "metadata": {
    "_cell_guid": "b1076dfc-b9ad-4769-8c92-a6c4dae69d19",
    "_uuid": "8f2839f25d086af736a60e9eeb907d3b93b6e0e5",
    "papermill": {
     "duration": 0.004235,
     "end_time": "2023-02-02T19:41:37.041751",
     "exception": false,
     "start_time": "2023-02-02T19:41:37.037516",
     "status": "completed"
    },
    "tags": []
   },
   "source": [
    "### **Library Imports**"
   ]
  },
  {
   "cell_type": "code",
   "execution_count": 1,
   "id": "f8924a9b",
   "metadata": {
    "execution": {
     "iopub.execute_input": "2023-02-02T19:41:37.051621Z",
     "iopub.status.busy": "2023-02-02T19:41:37.050755Z",
     "iopub.status.idle": "2023-02-02T19:41:39.956271Z",
     "shell.execute_reply": "2023-02-02T19:41:39.955164Z"
    },
    "papermill": {
     "duration": 2.913882,
     "end_time": "2023-02-02T19:41:39.958917",
     "exception": false,
     "start_time": "2023-02-02T19:41:37.045035",
     "status": "completed"
    },
    "tags": []
   },
   "outputs": [],
   "source": [
    "import os\n",
    "import re\n",
    "import cv2\n",
    "import torch\n",
    "import numpy as np\n",
    "import pandas as pd\n",
    "import matplotlib.pyplot as plt\n",
    "\n",
    "from time import time\n",
    "from typing import Union\n",
    "from torch import nn, optim\n",
    "from torch.utils.data import Dataset\n",
    "from torch.utils.data import DataLoader as DL\n",
    "from torchvision import transforms\n",
    "\n",
    "from sklearn.model_selection import StratifiedKFold"
   ]
  },
  {
   "cell_type": "code",
   "execution_count": 2,
   "id": "af9757f6",
   "metadata": {
    "execution": {
     "iopub.execute_input": "2023-02-02T19:41:39.968432Z",
     "iopub.status.busy": "2023-02-02T19:41:39.966642Z",
     "iopub.status.idle": "2023-02-02T19:41:39.979760Z",
     "shell.execute_reply": "2023-02-02T19:41:39.978931Z"
    },
    "papermill": {
     "duration": 0.019324,
     "end_time": "2023-02-02T19:41:39.981649",
     "exception": false,
     "start_time": "2023-02-02T19:41:39.962325",
     "status": "completed"
    },
    "tags": []
   },
   "outputs": [],
   "source": [
    "SEED: int = 42\n",
    "    \n",
    "\n",
    "def breaker(num: int=50, char: str=\"*\") -> None: print(\"\\n\" + num*char + \"\\n\")\n",
    "\n",
    "    \n",
    "def show_loss_graphs(L: list) -> None:\n",
    "    TL, VL = [], []\n",
    "    for i in range(len(L)):\n",
    "        TL.append(L[i][\"train\"])\n",
    "        VL.append(L[i][\"valid\"])\n",
    "    x_Axis = np.arange(1, len(TL) + 1)\n",
    "    plt.figure()\n",
    "    plt.plot(x_Axis, TL, \"r\", label=\"Train\")\n",
    "    plt.plot(x_Axis, VL, \"b\", label=\"Valid\")\n",
    "    plt.legend()\n",
    "    plt.grid()\n",
    "    plt.title(\"Loss Graph\")\n",
    "    plt.show()\n",
    "    \n",
    "\n",
    "def show_accuracy_graphs(A: list) -> None:\n",
    "    TA, VA = [], []\n",
    "    for i in range(len(A)):\n",
    "        TA.append(A[i][\"train\"])\n",
    "        VA.append(A[i][\"valid\"])\n",
    "    x_Axis = np.arange(1, len(TA) + 1)\n",
    "    plt.figure()\n",
    "    plt.plot(x_Axis, TA, \"r\", label=\"Train\")\n",
    "    plt.plot(x_Axis, VA, \"b\", label=\"Valid\")\n",
    "    plt.legend()\n",
    "    plt.grid()\n",
    "    plt.title(\"Accuracy Graph\")\n",
    "    plt.show()\n",
    "    \n",
    "\n",
    "def show_lr_graph(LR: list) -> None:\n",
    "    x_Axis = [i+1 for i in range(len(LR))]\n",
    "    plt.figure(figsize=(8, 6))\n",
    "    plt.plot(x_Axis, LR, \"rx\")\n",
    "    plt.grid()\n",
    "    plt.show()"
   ]
  },
  {
   "cell_type": "code",
   "execution_count": 3,
   "id": "8e726f2a",
   "metadata": {
    "execution": {
     "iopub.execute_input": "2023-02-02T19:41:39.989257Z",
     "iopub.status.busy": "2023-02-02T19:41:39.988990Z",
     "iopub.status.idle": "2023-02-02T19:41:40.065104Z",
     "shell.execute_reply": "2023-02-02T19:41:40.064139Z"
    },
    "papermill": {
     "duration": 0.082543,
     "end_time": "2023-02-02T19:41:40.067221",
     "exception": false,
     "start_time": "2023-02-02T19:41:39.984678",
     "status": "completed"
    },
    "tags": []
   },
   "outputs": [],
   "source": [
    "class CFG(object):\n",
    "    def __init__(self,\n",
    "             seed: int = 42,\n",
    "             n_splits: int = 5,\n",
    "             batch_size: int = 16,\n",
    "             epochs: int = 25,\n",
    "             early_stopping: int = 5,\n",
    "             lr: float = 1e-4,\n",
    "             wd: float = 0.0,\n",
    "             max_lr: float = 1e-3,\n",
    "             pct_start: float = 0.2,\n",
    "             steps_per_epoch: int = 100,\n",
    "             div_factor: int = 1e3, \n",
    "             final_div_factor: float = 1e3,\n",
    "             filter_sizes: list = [64, 128, 256],\n",
    "             HL: list = [1024]\n",
    "         ):\n",
    "        \n",
    "        self.seed = seed\n",
    "        self.n_splits = n_splits\n",
    "        self.batch_size = batch_size\n",
    "        self.epochs = epochs\n",
    "        self.early_stopping = early_stopping\n",
    "        self.lr = lr\n",
    "        self.wd = wd\n",
    "        self.max_lr = max_lr\n",
    "        self.pct_start = pct_start\n",
    "        self.steps_per_epoch = steps_per_epoch\n",
    "        self.div_factor = div_factor\n",
    "        self.final_div_factor = final_div_factor\n",
    "        self.filter_sizes = filter_sizes\n",
    "        self.HL = HL\n",
    "        self.device = torch.device(\"cuda\" if torch.cuda.is_available() else \"cpu\")\n",
    "        \n",
    "        self.train_transform = transforms.Compose([\n",
    "            transforms.ToTensor(),\n",
    "            transforms.Normalize([0.13098], [0.29752]),\n",
    "            transforms.RandomAffine(degrees=(-45, 45), translate=(0.15, 0.15), scale=(0.5, 1.5)),\n",
    "            transforms.RandomHorizontalFlip(p=0.25),\n",
    "            transforms.RandomVerticalFlip(p=0.25),\n",
    "        ])\n",
    "        self.valid_transform = transforms.Compose([\n",
    "            transforms.ToTensor(),\n",
    "            transforms.Normalize([0.13098], [0.29752]),\n",
    "        ])\n",
    "        self.save_path = \"saves\"\n",
    "        if not os.path.exists(self.save_path): os.makedirs(self.save_path)\n",
    "\n",
    "\n",
    "cfg = CFG(\n",
    "    seed=SEED, \n",
    ")"
   ]
  },
  {
   "cell_type": "markdown",
   "id": "4ec2447b",
   "metadata": {
    "papermill": {
     "duration": 0.002832,
     "end_time": "2023-02-02T19:41:40.073305",
     "exception": false,
     "start_time": "2023-02-02T19:41:40.070473",
     "status": "completed"
    },
    "tags": []
   },
   "source": [
    "### **Dataset Template**"
   ]
  },
  {
   "cell_type": "code",
   "execution_count": 4,
   "id": "4092f061",
   "metadata": {
    "execution": {
     "iopub.execute_input": "2023-02-02T19:41:40.081543Z",
     "iopub.status.busy": "2023-02-02T19:41:40.080510Z",
     "iopub.status.idle": "2023-02-02T19:41:40.087634Z",
     "shell.execute_reply": "2023-02-02T19:41:40.086707Z"
    },
    "papermill": {
     "duration": 0.013304,
     "end_time": "2023-02-02T19:41:40.089703",
     "exception": false,
     "start_time": "2023-02-02T19:41:40.076399",
     "status": "completed"
    },
    "tags": []
   },
   "outputs": [],
   "source": [
    "class DS(Dataset):\n",
    "    def __init__(\n",
    "        self, \n",
    "        images: np.ndarray, \n",
    "        labels: Union[np.ndarray, None]=None, \n",
    "        transform=None\n",
    "    ):\n",
    "        \n",
    "        self.images = images\n",
    "        self.labels = labels\n",
    "        self.transform = transform\n",
    "\n",
    "    def __len__(self):\n",
    "        return self.images.shape[0]\n",
    "\n",
    "    def __getitem__(self, idx):\n",
    "        if self.labels is not None:\n",
    "            return self.transform(self.images[idx]), torch.LongTensor(self.labels[idx])\n",
    "        return self.transform(self.images[idx])"
   ]
  },
  {
   "cell_type": "markdown",
   "id": "1e78ee4b",
   "metadata": {
    "papermill": {
     "duration": 0.002918,
     "end_time": "2023-02-02T19:41:40.095676",
     "exception": false,
     "start_time": "2023-02-02T19:41:40.092758",
     "status": "completed"
    },
    "tags": []
   },
   "source": [
    "### **Model**"
   ]
  },
  {
   "cell_type": "code",
   "execution_count": 5,
   "id": "521e17bf",
   "metadata": {
    "execution": {
     "iopub.execute_input": "2023-02-02T19:41:40.103243Z",
     "iopub.status.busy": "2023-02-02T19:41:40.102990Z",
     "iopub.status.idle": "2023-02-02T19:41:40.119391Z",
     "shell.execute_reply": "2023-02-02T19:41:40.118473Z"
    },
    "papermill": {
     "duration": 0.022677,
     "end_time": "2023-02-02T19:41:40.121419",
     "exception": false,
     "start_time": "2023-02-02T19:41:40.098742",
     "status": "completed"
    },
    "tags": []
   },
   "outputs": [],
   "source": [
    "class Model(nn.Module):\n",
    "    def __init__(self, filter_sizes: list, HL: list, DP: Union[float, None]=None):\n",
    "        \n",
    "        super(Model, self).__init__()\n",
    "        \n",
    "        self.features = nn.Sequential()\n",
    "        self.features.add_module(\"CN1\", nn.Conv2d(in_channels=1, out_channels=filter_sizes[0], kernel_size=(3, 3), stride=(1, 1), padding=(1, 1)))\n",
    "        self.features.add_module(\"BN1\", nn.BatchNorm2d(num_features=filter_sizes[0], eps=1e-5))\n",
    "        self.features.add_module(\"AN1\", nn.ReLU())\n",
    "        self.features.add_module(\"MP1\", nn.MaxPool2d(kernel_size=(2, 2)))\n",
    "        self.features.add_module(\"CN2\", nn.Conv2d(in_channels=filter_sizes[0], out_channels=filter_sizes[1], kernel_size=(3, 3), stride=(1, 1), padding=(1, 1)))\n",
    "        self.features.add_module(\"BN2\", nn.BatchNorm2d(num_features=filter_sizes[1], eps=1e-5))\n",
    "        self.features.add_module(\"AN2\", nn.ReLU())\n",
    "        self.features.add_module(\"MP2\", nn.MaxPool2d(kernel_size=(2, 2)))\n",
    "        self.features.add_module(\"CN3\", nn.Conv2d(in_channels=filter_sizes[1], out_channels=filter_sizes[2], kernel_size=(3, 3), stride=(1, 1), padding=(1, 1)))\n",
    "        self.features.add_module(\"BN3\", nn.BatchNorm2d(num_features=filter_sizes[2], eps=1e-5))\n",
    "        self.features.add_module(\"AN3\", nn.ReLU())\n",
    "        self.features.add_module(\"MP3\", nn.MaxPool2d(kernel_size=(2, 2))) \n",
    "        \n",
    "        self.classifier = nn.Sequential()\n",
    "        if len(HL) == 0:\n",
    "            self.classifier.add_module(\"FC1\", nn.Linear(in_features=filter_sizes[2]*6*6, out_features=10))\n",
    "        elif len(HL) == 1:\n",
    "            self.classifier.add_module(\"FC1\", nn.Linear(in_features=filter_sizes[2]*6*6, out_features=HL[0]))\n",
    "            if isinstance(DP, float):\n",
    "                self.classifier.add_module(\"DP1\", nn.Dropout(p=DP))\n",
    "            self.classifier.add_module(\"AN1\", nn.ReLU())\n",
    "            self.classifier.add_module(\"FC2\", nn.Linear(in_features=HL[0], out_features=10))\n",
    "        elif len(HL) == 2:\n",
    "            self.classifier.add_module(\"FC1\", nn.Linear(in_features=filter_sizes[2]*6*6, out_features=HL[0]))\n",
    "            if isinstance(DP, float):\n",
    "                self.classifier.add_module(\"DP1\", nn.Dropout(p=DP))\n",
    "            self.classifier.add_module(\"AN1\", nn.ReLU())\n",
    "            self.classifier.add_module(\"FC2\", nn.Linear(in_features=HL[0], out_features=HL[1]))\n",
    "            if isinstance(DP, float):\n",
    "                self.classifier.add_module(\"DP2\", nn.Dropout(p=DP))\n",
    "            self.classifier.add_module(\"AN2\", nn.ReLU())\n",
    "            self.classifier.add_module(\"FC3\", nn.Linear(in_features=HL[1], out_features=10))\n",
    "        self.classifier.add_module(\"Final Activation\", nn.LogSoftmax(dim=1))\n",
    "    \n",
    "    def forward(self, x):\n",
    "        x = self.features(x)\n",
    "        x = x.view(x.shape[0], -1)\n",
    "        return self.classifier(x)"
   ]
  },
  {
   "cell_type": "markdown",
   "id": "527c759d",
   "metadata": {
    "papermill": {
     "duration": 0.002913,
     "end_time": "2023-02-02T19:41:40.127329",
     "exception": false,
     "start_time": "2023-02-02T19:41:40.124416",
     "status": "completed"
    },
    "tags": []
   },
   "source": [
    "### **Fit and Predict**"
   ]
  },
  {
   "cell_type": "code",
   "execution_count": 6,
   "id": "468366e8",
   "metadata": {
    "execution": {
     "iopub.execute_input": "2023-02-02T19:41:40.134773Z",
     "iopub.status.busy": "2023-02-02T19:41:40.134524Z",
     "iopub.status.idle": "2023-02-02T19:41:40.154272Z",
     "shell.execute_reply": "2023-02-02T19:41:40.153300Z"
    },
    "papermill": {
     "duration": 0.02625,
     "end_time": "2023-02-02T19:41:40.156661",
     "exception": false,
     "start_time": "2023-02-02T19:41:40.130411",
     "status": "completed"
    },
    "tags": []
   },
   "outputs": [],
   "source": [
    "def fit(\n",
    "    model=None,\n",
    "    optimizer=None, \n",
    "    scheduler_rlrop=None,\n",
    "    scheduler_oclr=None,\n",
    "    epochs=None, \n",
    "    early_stopping_patience=None, \n",
    "    dataloaders=None, \n",
    "    fold=None, \n",
    "    save_path=None,\n",
    "    device=None,\n",
    "    verbose=False\n",
    ") -> tuple:\n",
    "    \n",
    "    def get_accuracy(y_pred, y_true):\n",
    "        y_pred = torch.argmax(y_pred, dim=1)\n",
    "        return torch.count_nonzero(y_pred == y_true).item() / len(y_pred)\n",
    "    \n",
    "    if verbose:\n",
    "        breaker()\n",
    "        if fold: print(f\"Training Fold {fold}...\")\n",
    "        else: print(\"Training ...\")\n",
    "        breaker()\n",
    "        \n",
    "    bestLoss: dict = {\"train\" : np.inf, \"valid\" : np.inf} \n",
    "    bestAccs: dict = {\"train\" : 0.0, \"valid\" : 0.0}\n",
    "        \n",
    "    Losses: list = []\n",
    "    Accuracies: list = [] \n",
    "    LRs: list = []\n",
    "        \n",
    "    if fold: \n",
    "        ble_name = f\"ble_state_fold_{fold}.pt\"\n",
    "        bae_name = f\"bae_state_fold_{fold}.pt\"\n",
    "    else: \n",
    "        ble_name = f\"ble_state.pt\"\n",
    "        bae_name = f\"bae_state.pt\"\n",
    "        \n",
    "    start_time = time()\n",
    "    for e in range(epochs):\n",
    "        e_st = time()\n",
    "        epochLoss: dict = {\"train\" : 0.0, \"valid\" : 0.0} \n",
    "        epochAccs: dict = {\"train\" : 0.0, \"valid\" : 0.0}\n",
    "            \n",
    "        for phase in [\"train\", \"valid\"]:\n",
    "            if phase == \"train\":\n",
    "                model.train()\n",
    "            else:\n",
    "                model.eval()\n",
    "            \n",
    "            lossPerPass: list = []\n",
    "            accsPerPass: list = []\n",
    "                \n",
    "            for X, y in dataloaders[phase]:\n",
    "                X, y = X.to(device), y.to(device).view(-1)\n",
    "                \n",
    "                optimizer.zero_grad()\n",
    "                with torch.set_grad_enabled(phase == \"train\"):\n",
    "                    output = model(X)\n",
    "                    loss = nn.NLLLoss()(output, y)\n",
    "                    if phase == \"train\":\n",
    "                        loss.backward()\n",
    "                        optimizer.step()\n",
    "                        if scheduler_oclr: scheduler_oclr.step()\n",
    "                lossPerPass.append(loss.item())\n",
    "                accsPerPass.append(get_accuracy(output, y))\n",
    "            epochLoss[phase] = np.mean(np.array(lossPerPass))\n",
    "            epochAccs[phase] = np.mean(np.array(accsPerPass))\n",
    "        if scheduler_oclr: LRs.append(scheduler_oclr.get_last_lr())\n",
    "        Losses.append(epochLoss)\n",
    "        Accuracies.append(epochAccs)\n",
    "        \n",
    "        if scheduler_oclr:\n",
    "            save_dict = {\"model_state_dict\"     : model.state_dict(),\n",
    "                         \"optim_state_dict\"     : optimizer.state_dict(),\n",
    "                         \"scheduler_state_dict\" : scheduler_oclr.state_dict()}\n",
    "        \n",
    "        elif scheduler_rlrop:\n",
    "            save_dict = {\"model_state_dict\"     : model.state_dict(),\n",
    "                         \"optim_state_dict\"     : optimizer.state_dict(),\n",
    "                         \"scheduler_state_dict\" : scheduler_rlrop.state_dict()}\n",
    "        \n",
    "        else:\n",
    "            save_dict = {\"model_state_dict\"     : model.state_dict(),\n",
    "                         \"optim_state_dict\"     : optimizer.state_dict()}\n",
    "        \n",
    "        if early_stopping_patience:\n",
    "            if epochLoss[\"valid\"] < bestLoss[\"valid\"]:\n",
    "                bestLoss = epochLoss\n",
    "                BLE = e + 1\n",
    "                torch.save(save_dict, os.path.join(save_path, ble_name))\n",
    "                torch.save(save_dict, os.path.join(save_path, bae_name))\n",
    "                early_stopping_step = 0\n",
    "            else:\n",
    "                early_stopping_step += 1\n",
    "                if early_stopping_step > early_stopping_patience:\n",
    "                    print(\"\\nEarly Stopping at Epoch {}\".format(e + 1))\n",
    "                    break\n",
    "        \n",
    "        if epochLoss[\"valid\"] < bestLoss[\"valid\"]:\n",
    "            bestLoss = epochLoss\n",
    "            BLE = e + 1\n",
    "            torch.save(save_dict,os.path.join(save_path, ble_name))\n",
    "        \n",
    "        if epochAccs[\"valid\"] > bestAccs[\"valid\"]:\n",
    "            bestAccs = epochAccs\n",
    "            BAE = e + 1\n",
    "            torch.save(save_dict,os.path.join(save_path, bae_name))\n",
    "        \n",
    "        if scheduler_rlrop: scheduler_rlrop.step(epochLoss[\"valid\"])\n",
    "        \n",
    "        if verbose:\n",
    "            print(\"Epoch: {} | Train Loss: {:.5f} | Valid Loss: {:.5f} |\\\n",
    " Train Accs: {:.5f} | Valid Accs: {:.5f} | Time: {:.2f} seconds\".format(\n",
    "                e+1, \n",
    "                epochLoss[\"train\"], epochLoss[\"valid\"], \n",
    "                epochAccs[\"train\"], epochAccs[\"valid\"], \n",
    "                time()-e_st)\n",
    "            )\n",
    "        \n",
    "    if verbose:                                           \n",
    "        breaker()\n",
    "        print(f\"Best Validation Loss at Epoch {BLE}\")\n",
    "        breaker()\n",
    "        print(f\"Best Validation Accs at Epoch {BAE}\")\n",
    "        breaker()\n",
    "        print(\"Time Taken [{} Epochs] : {:.2f} minutes\".format(len(Losses), (time()-start_time)/60))\n",
    "    \n",
    "    return Losses, Accuracies, LRs, bestLoss, bestAccs, BLE, BAE, ble_name, bae_name\n",
    "\n",
    "\n",
    "# def predict_batch(model=None, dataloader=None, path=None, device=None) -> np.ndarray:\n",
    "#     model.load_state_dict(torch.load(path, map_location=device)[\"model_state_dict\"])\n",
    "#     model.to(device)    \n",
    "#     model.eval()\n",
    "    \n",
    "#     y_pred = torch.zeros(1, 1).to(device)\n",
    "    \n",
    "#     for X in dataloader:\n",
    "#         X = X.to(device)\n",
    "#         with torch.no_grad():\n",
    "#             output = torch.argmax(torch.exp(model(X)), dim=1)\n",
    "#         y_pred = torch.cat((y_pred, output.view(-1, 1)), dim=0)\n",
    "    \n",
    "#     return y_pred[1:].detach().cpu().numpy()"
   ]
  },
  {
   "cell_type": "markdown",
   "id": "9d10e361",
   "metadata": {
    "papermill": {
     "duration": 0.002915,
     "end_time": "2023-02-02T19:41:40.162696",
     "exception": false,
     "start_time": "2023-02-02T19:41:40.159781",
     "status": "completed"
    },
    "tags": []
   },
   "source": [
    "### **Train**"
   ]
  },
  {
   "cell_type": "code",
   "execution_count": 7,
   "id": "d0187f9e",
   "metadata": {
    "execution": {
     "iopub.execute_input": "2023-02-02T19:41:40.170439Z",
     "iopub.status.busy": "2023-02-02T19:41:40.170175Z",
     "iopub.status.idle": "2023-02-02T19:41:43.808339Z",
     "shell.execute_reply": "2023-02-02T19:41:43.807337Z"
    },
    "papermill": {
     "duration": 3.644886,
     "end_time": "2023-02-02T19:41:43.810749",
     "exception": false,
     "start_time": "2023-02-02T19:41:40.165863",
     "status": "completed"
    },
    "tags": []
   },
   "outputs": [],
   "source": [
    "df = pd.read_csv(\"/kaggle/input/digit-recognizer-ii-2023/train.csv\")\n",
    "\n",
    "images = df.iloc[:, 1:].copy().values.reshape(df.shape[0], 28, 28, 1).astype(\"uint8\")\n",
    "images = np.array([cv2.resize(image, (48, 48), interpolation=cv2.INTER_AREA) for image in images])\n",
    "labels = df.iloc[:, 0].copy().values"
   ]
  },
  {
   "cell_type": "code",
   "execution_count": 8,
   "id": "f182e714",
   "metadata": {
    "execution": {
     "iopub.execute_input": "2023-02-02T19:41:43.819621Z",
     "iopub.status.busy": "2023-02-02T19:41:43.818897Z",
     "iopub.status.idle": "2023-02-02T20:06:38.088221Z",
     "shell.execute_reply": "2023-02-02T20:06:38.087343Z"
    },
    "papermill": {
     "duration": 1494.27603,
     "end_time": "2023-02-02T20:06:38.090448",
     "exception": false,
     "start_time": "2023-02-02T19:41:43.814418",
     "status": "completed"
    },
    "tags": []
   },
   "outputs": [
    {
     "name": "stdout",
     "output_type": "stream",
     "text": [
      "\n",
      "**************************************************\n",
      "\n",
      "Training Fold 1...\n",
      "\n",
      "**************************************************\n",
      "\n",
      "Epoch: 1 | Train Loss: 1.53492 | Valid Loss: 0.33951 | Train Accs: 0.45943 | Valid Accs: 0.90850 | Time: 37.83 seconds\n",
      "Epoch: 2 | Train Loss: 0.74922 | Valid Loss: 0.26452 | Train Accs: 0.74702 | Valid Accs: 0.91939 | Time: 31.04 seconds\n",
      "Epoch: 3 | Train Loss: 0.52198 | Valid Loss: 0.19689 | Train Accs: 0.82786 | Valid Accs: 0.94212 | Time: 31.07 seconds\n",
      "Epoch: 4 | Train Loss: 0.42047 | Valid Loss: 0.16567 | Train Accs: 0.86086 | Valid Accs: 0.94875 | Time: 30.47 seconds\n",
      "Epoch: 5 | Train Loss: 0.36460 | Valid Loss: 0.23745 | Train Accs: 0.88122 | Valid Accs: 0.92259 | Time: 30.00 seconds\n",
      "Epoch: 6 | Train Loss: 0.31364 | Valid Loss: 0.18732 | Train Accs: 0.89777 | Valid Accs: 0.93939 | Time: 29.27 seconds\n",
      "Epoch: 7 | Train Loss: 0.26276 | Valid Loss: 0.12020 | Train Accs: 0.91393 | Valid Accs: 0.96425 | Time: 30.67 seconds\n",
      "Epoch: 8 | Train Loss: 0.23734 | Valid Loss: 0.10804 | Train Accs: 0.92301 | Valid Accs: 0.96768 | Time: 30.66 seconds\n",
      "Epoch: 9 | Train Loss: 0.20141 | Valid Loss: 0.09423 | Train Accs: 0.93301 | Valid Accs: 0.97159 | Time: 30.36 seconds\n",
      "Epoch: 10 | Train Loss: 0.19177 | Valid Loss: 0.09445 | Train Accs: 0.93777 | Valid Accs: 0.97195 | Time: 29.65 seconds\n",
      "\n",
      "**************************************************\n",
      "\n",
      "Best Validation Loss at Epoch 9\n",
      "\n",
      "**************************************************\n",
      "\n",
      "Best Validation Accs at Epoch 10\n",
      "\n",
      "**************************************************\n",
      "\n",
      "Time Taken [10 Epochs] : 5.18 minutes\n",
      "\n",
      "**************************************************\n",
      "\n"
     ]
    },
    {
     "data": {
      "image/png": "[encoded data removed]",
      "text/plain": [
       "<Figure size 432x288 with 1 Axes>"
      ]
     },
     "metadata": {
      "needs_background": "light"
     },
     "output_type": "display_data"
    },
    {
     "name": "stdout",
     "output_type": "stream",
     "text": [
      "\n",
      "**************************************************\n",
      "\n"
     ]
    },
    {
     "data": {
      "image/png": "[encoded data removed]",
      "text/plain": [
       "<Figure size 432x288 with 1 Axes>"
      ]
     },
     "metadata": {
      "needs_background": "light"
     },
     "output_type": "display_data"
    },
    {
     "name": "stdout",
     "output_type": "stream",
     "text": [
      "\n",
      "**************************************************\n",
      "\n"
     ]
    },
    {
     "data": {
      "image/png": "[encoded data removed]",
      "text/plain": [
       "<Figure size 576x432 with 1 Axes>"
      ]
     },
     "metadata": {
      "needs_background": "light"
     },
     "output_type": "display_data"
    },
    {
     "name": "stdout",
     "output_type": "stream",
     "text": [
      "\n",
      "**************************************************\n",
      "\n",
      "\n",
      "**************************************************\n",
      "\n",
      "Training Fold 2...\n",
      "\n",
      "**************************************************\n",
      "\n",
      "Epoch: 1 | Train Loss: 1.52781 | Valid Loss: 0.38882 | Train Accs: 0.46393 | Valid Accs: 0.88790 | Time: 30.76 seconds\n",
      "Epoch: 2 | Train Loss: 0.75300 | Valid Loss: 0.21265 | Train Accs: 0.74562 | Valid Accs: 0.93478 | Time: 30.64 seconds\n",
      "Epoch: 3 | Train Loss: 0.53796 | Valid Loss: 0.19980 | Train Accs: 0.82298 | Valid Accs: 0.93880 | Time: 30.82 seconds\n",
      "Epoch: 4 | Train Loss: 0.42505 | Valid Loss: 0.19717 | Train Accs: 0.85830 | Valid Accs: 0.93821 | Time: 30.23 seconds\n",
      "Epoch: 5 | Train Loss: 0.36548 | Valid Loss: 0.16995 | Train Accs: 0.88071 | Valid Accs: 0.94496 | Time: 30.33 seconds\n",
      "Epoch: 6 | Train Loss: 0.31109 | Valid Loss: 0.14870 | Train Accs: 0.89914 | Valid Accs: 0.95585 | Time: 30.57 seconds\n",
      "Epoch: 7 | Train Loss: 0.26328 | Valid Loss: 0.13082 | Train Accs: 0.91262 | Valid Accs: 0.95952 | Time: 30.86 seconds\n",
      "Epoch: 8 | Train Loss: 0.22977 | Valid Loss: 0.12235 | Train Accs: 0.92509 | Valid Accs: 0.96117 | Time: 30.56 seconds\n",
      "Epoch: 9 | Train Loss: 0.20883 | Valid Loss: 0.10580 | Train Accs: 0.93271 | Valid Accs: 0.96662 | Time: 30.19 seconds\n",
      "Epoch: 10 | Train Loss: 0.19415 | Valid Loss: 0.08974 | Train Accs: 0.93679 | Valid Accs: 0.97230 | Time: 30.27 seconds\n",
      "\n",
      "**************************************************\n",
      "\n",
      "Best Validation Loss at Epoch 10\n",
      "\n",
      "**************************************************\n",
      "\n",
      "Best Validation Accs at Epoch 10\n",
      "\n",
      "**************************************************\n",
      "\n",
      "Time Taken [10 Epochs] : 5.09 minutes\n",
      "\n",
      "**************************************************\n",
      "\n"
     ]
    },
    {
     "data": {
      "image/png": "[encoded data removed]",
      "text/plain": [
       "<Figure size 432x288 with 1 Axes>"
      ]
     },
     "metadata": {
      "needs_background": "light"
     },
     "output_type": "display_data"
    },
    {
     "name": "stdout",
     "output_type": "stream",
     "text": [
      "\n",
      "**************************************************\n",
      "\n"
     ]
    },
    {
     "data": {
      "image/png": "[encoded data removed]",
      "text/plain": [
       "<Figure size 432x288 with 1 Axes>"
      ]
     },
     "metadata": {
      "needs_background": "light"
     },
     "output_type": "display_data"
    },
    {
     "name": "stdout",
     "output_type": "stream",
     "text": [
      "\n",
      "**************************************************\n",
      "\n"
     ]
    },
    {
     "data": {
      "image/png": "[encoded data removed]",
      "text/plain": [
       "<Figure size 576x432 with 1 Axes>"
      ]
     },
     "metadata": {
      "needs_background": "light"
     },
     "output_type": "display_data"
    },
    {
     "name": "stdout",
     "output_type": "stream",
     "text": [
      "\n",
      "**************************************************\n",
      "\n",
      "\n",
      "**************************************************\n",
      "\n",
      "Training Fold 3...\n",
      "\n",
      "**************************************************\n",
      "\n",
      "Epoch: 1 | Train Loss: 1.53449 | Valid Loss: 1.36987 | Train Accs: 0.46065 | Valid Accs: 0.49396 | Time: 30.23 seconds\n",
      "Epoch: 2 | Train Loss: 0.75902 | Valid Loss: 0.33223 | Train Accs: 0.74586 | Valid Accs: 0.90092 | Time: 30.30 seconds\n",
      "Epoch: 3 | Train Loss: 0.53008 | Valid Loss: 0.22888 | Train Accs: 0.82482 | Valid Accs: 0.93383 | Time: 30.50 seconds\n",
      "Epoch: 4 | Train Loss: 0.41990 | Valid Loss: 0.16159 | Train Accs: 0.86235 | Valid Accs: 0.95052 | Time: 30.04 seconds\n",
      "Epoch: 5 | Train Loss: 0.36027 | Valid Loss: 0.19459 | Train Accs: 0.88190 | Valid Accs: 0.94152 | Time: 28.60 seconds\n",
      "Epoch: 6 | Train Loss: 0.31284 | Valid Loss: 0.14074 | Train Accs: 0.89839 | Valid Accs: 0.95573 | Time: 30.07 seconds\n",
      "Epoch: 7 | Train Loss: 0.26570 | Valid Loss: 0.14116 | Train Accs: 0.91318 | Valid Accs: 0.95691 | Time: 28.97 seconds\n",
      "Epoch: 8 | Train Loss: 0.22078 | Valid Loss: 0.10466 | Train Accs: 0.92658 | Valid Accs: 0.96567 | Time: 29.56 seconds\n",
      "Epoch: 9 | Train Loss: 0.20337 | Valid Loss: 0.10576 | Train Accs: 0.93363 | Valid Accs: 0.96544 | Time: 28.56 seconds\n",
      "Epoch: 10 | Train Loss: 0.19359 | Valid Loss: 0.10709 | Train Accs: 0.93577 | Valid Accs: 0.96473 | Time: 28.78 seconds\n",
      "\n",
      "**************************************************\n",
      "\n",
      "Best Validation Loss at Epoch 8\n",
      "\n",
      "**************************************************\n",
      "\n",
      "Best Validation Accs at Epoch 8\n",
      "\n",
      "**************************************************\n",
      "\n",
      "Time Taken [10 Epochs] : 4.93 minutes\n",
      "\n",
      "**************************************************\n",
      "\n"
     ]
    },
    {
     "data": {
      "image/png": "[encoded data removed]",
      "text/plain": [
       "<Figure size 432x288 with 1 Axes>"
      ]
     },
     "metadata": {
      "needs_background": "light"
     },
     "output_type": "display_data"
    },
    {
     "name": "stdout",
     "output_type": "stream",
     "text": [
      "\n",
      "**************************************************\n",
      "\n"
     ]
    },
    {
     "data": {
      "image/png": "[encoded data removed]",
      "text/plain": [
       "<Figure size 432x288 with 1 Axes>"
      ]
     },
     "metadata": {
      "needs_background": "light"
     },
     "output_type": "display_data"
    },
    {
     "name": "stdout",
     "output_type": "stream",
     "text": [
      "\n",
      "**************************************************\n",
      "\n"
     ]
    },
    {
     "data": {
      "image/png": "[encoded data removed]",
      "text/plain": [
       "<Figure size 576x432 with 1 Axes>"
      ]
     },
     "metadata": {
      "needs_background": "light"
     },
     "output_type": "display_data"
    },
    {
     "name": "stdout",
     "output_type": "stream",
     "text": [
      "\n",
      "**************************************************\n",
      "\n",
      "\n",
      "**************************************************\n",
      "\n",
      "Training Fold 4...\n",
      "\n",
      "**************************************************\n",
      "\n",
      "Epoch: 1 | Train Loss: 1.52551 | Valid Loss: 0.37265 | Train Accs: 0.46458 | Valid Accs: 0.86873 | Time: 29.55 seconds\n",
      "Epoch: 2 | Train Loss: 0.75710 | Valid Loss: 0.28340 | Train Accs: 0.74420 | Valid Accs: 0.91536 | Time: 30.19 seconds\n",
      "Epoch: 3 | Train Loss: 0.53313 | Valid Loss: 0.22798 | Train Accs: 0.82271 | Valid Accs: 0.92401 | Time: 30.14 seconds\n",
      "Epoch: 4 | Train Loss: 0.43019 | Valid Loss: 0.23314 | Train Accs: 0.85872 | Valid Accs: 0.92898 | Time: 28.96 seconds\n",
      "Epoch: 5 | Train Loss: 0.36736 | Valid Loss: 0.17517 | Train Accs: 0.87952 | Valid Accs: 0.94283 | Time: 29.78 seconds\n",
      "Epoch: 6 | Train Loss: 0.31547 | Valid Loss: 0.19752 | Train Accs: 0.89875 | Valid Accs: 0.93572 | Time: 27.93 seconds\n",
      "Epoch: 7 | Train Loss: 0.27126 | Valid Loss: 0.11671 | Train Accs: 0.91170 | Valid Accs: 0.96473 | Time: 29.30 seconds\n",
      "Epoch: 8 | Train Loss: 0.23018 | Valid Loss: 0.11664 | Train Accs: 0.92432 | Valid Accs: 0.96425 | Time: 28.53 seconds\n",
      "Epoch: 9 | Train Loss: 0.20866 | Valid Loss: 0.09969 | Train Accs: 0.93310 | Valid Accs: 0.97005 | Time: 28.60 seconds\n",
      "Epoch: 10 | Train Loss: 0.19535 | Valid Loss: 0.09887 | Train Accs: 0.93563 | Valid Accs: 0.96993 | Time: 28.50 seconds\n",
      "\n",
      "**************************************************\n",
      "\n",
      "Best Validation Loss at Epoch 10\n",
      "\n",
      "**************************************************\n",
      "\n",
      "Best Validation Accs at Epoch 9\n",
      "\n",
      "**************************************************\n",
      "\n",
      "Time Taken [10 Epochs] : 4.86 minutes\n",
      "\n",
      "**************************************************\n",
      "\n"
     ]
    },
    {
     "data": {
      "image/png": "[encoded data removed]",
      "text/plain": [
       "<Figure size 432x288 with 1 Axes>"
      ]
     },
     "metadata": {
      "needs_background": "light"
     },
     "output_type": "display_data"
    },
    {
     "name": "stdout",
     "output_type": "stream",
     "text": [
      "\n",
      "**************************************************\n",
      "\n"
     ]
    },
    {
     "data": {
      "image/png": "[encoded data removed]",
      "text/plain": [
       "<Figure size 432x288 with 1 Axes>"
      ]
     },
     "metadata": {
      "needs_background": "light"
     },
     "output_type": "display_data"
    },
    {
     "name": "stdout",
     "output_type": "stream",
     "text": [
      "\n",
      "**************************************************\n",
      "\n"
     ]
    },
    {
     "data": {
      "image/png": "[encoded data removed]",
      "text/plain": [
       "<Figure size 576x432 with 1 Axes>"
      ]
     },
     "metadata": {
      "needs_background": "light"
     },
     "output_type": "display_data"
    },
    {
     "name": "stdout",
     "output_type": "stream",
     "text": [
      "\n",
      "**************************************************\n",
      "\n",
      "\n",
      "**************************************************\n",
      "\n",
      "Training Fold 5...\n",
      "\n",
      "**************************************************\n",
      "\n",
      "Epoch: 1 | Train Loss: 1.52318 | Valid Loss: 0.44291 | Train Accs: 0.45830 | Valid Accs: 0.84221 | Time: 28.13 seconds\n",
      "Epoch: 2 | Train Loss: 0.76593 | Valid Loss: 0.23610 | Train Accs: 0.73994 | Valid Accs: 0.92791 | Time: 28.90 seconds\n",
      "Epoch: 3 | Train Loss: 0.52971 | Valid Loss: 0.24439 | Train Accs: 0.82512 | Valid Accs: 0.92898 | Time: 28.32 seconds\n",
      "Epoch: 4 | Train Loss: 0.42817 | Valid Loss: 0.21068 | Train Accs: 0.86003 | Valid Accs: 0.92992 | Time: 28.58 seconds\n",
      "Epoch: 5 | Train Loss: 0.36942 | Valid Loss: 0.21867 | Train Accs: 0.88000 | Valid Accs: 0.93229 | Time: 28.47 seconds\n",
      "Epoch: 6 | Train Loss: 0.32202 | Valid Loss: 0.15469 | Train Accs: 0.89515 | Valid Accs: 0.94756 | Time: 28.77 seconds\n",
      "Epoch: 7 | Train Loss: 0.26563 | Valid Loss: 0.12284 | Train Accs: 0.91467 | Valid Accs: 0.96141 | Time: 28.90 seconds\n",
      "Epoch: 8 | Train Loss: 0.23352 | Valid Loss: 0.08723 | Train Accs: 0.92354 | Valid Accs: 0.97195 | Time: 29.09 seconds\n",
      "Epoch: 9 | Train Loss: 0.20517 | Valid Loss: 0.09219 | Train Accs: 0.93280 | Valid Accs: 0.97029 | Time: 26.97 seconds\n",
      "Epoch: 10 | Train Loss: 0.19790 | Valid Loss: 0.09306 | Train Accs: 0.93690 | Valid Accs: 0.97041 | Time: 27.93 seconds\n",
      "\n",
      "**************************************************\n",
      "\n",
      "Best Validation Loss at Epoch 8\n",
      "\n",
      "**************************************************\n",
      "\n",
      "Best Validation Accs at Epoch 8\n",
      "\n",
      "**************************************************\n",
      "\n",
      "Time Taken [10 Epochs] : 4.73 minutes\n",
      "\n",
      "**************************************************\n",
      "\n"
     ]
    },
    {
     "data": {
      "image/png": "[encoded data removed]",
      "text/plain": [
       "<Figure size 432x288 with 1 Axes>"
      ]
     },
     "metadata": {
      "needs_background": "light"
     },
     "output_type": "display_data"
    },
    {
     "name": "stdout",
     "output_type": "stream",
     "text": [
      "\n",
      "**************************************************\n",
      "\n"
     ]
    },
    {
     "data": {
      "image/png": "[encoded data removed]",
      "text/plain": [
       "<Figure size 432x288 with 1 Axes>"
      ]
     },
     "metadata": {
      "needs_background": "light"
     },
     "output_type": "display_data"
    },
    {
     "name": "stdout",
     "output_type": "stream",
     "text": [
      "\n",
      "**************************************************\n",
      "\n"
     ]
    },
    {
     "data": {
      "image/png": "[encoded data removed]",
      "text/plain": [
       "<Figure size 576x432 with 1 Axes>"
      ]
     },
     "metadata": {
      "needs_background": "light"
     },
     "output_type": "display_data"
    },
    {
     "name": "stdout",
     "output_type": "stream",
     "text": [
      "\n",
      "**************************************************\n",
      "\n"
     ]
    }
   ],
   "source": [
    "fold: int = 1\n",
    "BLs: list = []\n",
    "BAs: list = []\n",
    "    \n",
    "cfg.batch_size = 64\n",
    "cfg.epochs = 10\n",
    "    \n",
    "for tr_idx, va_idx in StratifiedKFold(n_splits=cfg.n_splits, random_state=cfg.seed, shuffle=True).split(images, labels):\n",
    "\n",
    "    tr_images, va_images = images[tr_idx], images[va_idx] \n",
    "    tr_labels, va_labels = labels[tr_idx], labels[va_idx]\n",
    "    \n",
    "    tr_data_setup = DS(\n",
    "        images=tr_images, \n",
    "        labels=tr_labels.reshape(-1, 1),\n",
    "        transform=cfg.train_transform\n",
    "    )\n",
    "\n",
    "    va_data_setup = DS(\n",
    "        images=va_images, \n",
    "        labels=va_labels.reshape(-1, 1),\n",
    "        transform=cfg.valid_transform\n",
    "    )\n",
    "\n",
    "    dataloaders = {\n",
    "        \"train\" : DL(tr_data_setup, batch_size=cfg.batch_size, shuffle=True, generator=torch.manual_seed(cfg.seed)),\n",
    "        \"valid\" : DL(va_data_setup, batch_size=cfg.batch_size, shuffle=False),\n",
    "    }\n",
    "\n",
    "    cfg.steps_per_epoch=len(dataloaders[\"train\"])\n",
    "    \n",
    "    torch.manual_seed(cfg.seed)\n",
    "    model = Model(filter_sizes=cfg.filter_sizes, HL=cfg.HL).to(cfg.device)\n",
    "\n",
    "    optimizer = optim.Adam([p for p in model.parameters() if p.requires_grad], lr=cfg.lr, weight_decay=cfg.wd)\n",
    "    # optimizer = optim.AdamW([p for p in model.parameters() if p.requires_grad], lr=cfg.lr, weight_decay=cfg.wd)\n",
    "    # optimizer = optim.SGD([p for p in model.parameters() if p.requires_grad], lr=cfg.lr, weight_decay=cfg.wd, momentum=0.9)\n",
    "\n",
    "    scheduler_oclr = optim.lr_scheduler.OneCycleLR(\n",
    "        optimizer=optimizer, \n",
    "        max_lr=cfg.max_lr, \n",
    "        epochs=cfg.epochs, \n",
    "        steps_per_epoch=cfg.steps_per_epoch,\n",
    "        pct_start=cfg.pct_start, \n",
    "        div_factor=cfg.div_factor, \n",
    "        final_div_factor=cfg.final_div_factor\n",
    "    )\n",
    "    \n",
    "    # scheduler_rlrop = optim.lr_scheduler.ReduceLROnPlateau(\n",
    "    #     optimizer=optimizer,\n",
    "    #     patience=cfg.patience,\n",
    "    #     eps=cfg.eps,\n",
    "    #     verbose=True\n",
    "    # )\n",
    "\n",
    "    # scheduler_oclr = None\n",
    "    scheduler_rlrop = None\n",
    "    \n",
    "    L, A, LR, BL, BA, _, _, _, _ = fit(\n",
    "        model=model, \n",
    "        optimizer=optimizer, \n",
    "        scheduler_oclr=scheduler_oclr,\n",
    "        scheduler_rlrop=scheduler_rlrop,\n",
    "        epochs=cfg.epochs, \n",
    "        early_stopping_patience=cfg.early_stopping, \n",
    "        dataloaders=dataloaders, \n",
    "        device=cfg.device,\n",
    "        save_path=cfg.save_path,\n",
    "        fold=fold,\n",
    "        verbose=True\n",
    "    )\n",
    "\n",
    "\n",
    "    breaker()\n",
    "    show_loss_graphs(L)\n",
    "    breaker()\n",
    "    show_accuracy_graphs(A)\n",
    "    breaker()\n",
    "    if scheduler_oclr:\n",
    "        show_lr_graph(LR)\n",
    "        breaker()\n",
    "    \n",
    "    BLs.append(BL)\n",
    "    BAs.append(BA)\n",
    "\n",
    "    fold += 1"
   ]
  },
  {
   "cell_type": "code",
   "execution_count": 9,
   "id": "c011e7a2",
   "metadata": {
    "execution": {
     "iopub.execute_input": "2023-02-02T20:06:38.111959Z",
     "iopub.status.busy": "2023-02-02T20:06:38.111673Z",
     "iopub.status.idle": "2023-02-02T20:06:38.118424Z",
     "shell.execute_reply": "2023-02-02T20:06:38.117520Z"
    },
    "papermill": {
     "duration": 0.019532,
     "end_time": "2023-02-02T20:06:38.120358",
     "exception": false,
     "start_time": "2023-02-02T20:06:38.100826",
     "status": "completed"
    },
    "tags": []
   },
   "outputs": [
    {
     "name": "stdout",
     "output_type": "stream",
     "text": [
      "\n",
      "**************************************************\n",
      "\n",
      "Best Loss Model Fold     : 5\n",
      "Best Accuracy Model Fold : 2\n",
      "\n",
      "**************************************************\n",
      "\n"
     ]
    }
   ],
   "source": [
    "BL = np.inf\n",
    "for i in range(len(BLs)):\n",
    "    if BLs[i][\"valid\"] < BL:\n",
    "        BL = BLs[i][\"valid\"]\n",
    "        best_loss_index = i\n",
    "\n",
    "        \n",
    "BA = 0.0\n",
    "for i in range(len(BAs)):\n",
    "    if BAs[i][\"valid\"] > BA:\n",
    "        BA = BAs[i][\"valid\"]\n",
    "        best_accs_index = i\n",
    "\n",
    "breaker()\n",
    "print(f\"Best Loss Model Fold     : {best_loss_index + 1}\")\n",
    "print(f\"Best Accuracy Model Fold : {best_accs_index + 1}\")\n",
    "breaker()"
   ]
  }
 ],
 "metadata": {
  "kernelspec": {
   "display_name": "Python 3",
   "language": "python",
   "name": "python3"
  },
  "language_info": {
   "codemirror_mode": {
    "name": "ipython",
    "version": 3
   },
   "file_extension": ".py",
   "mimetype": "text/x-python",
   "name": "python",
   "nbconvert_exporter": "python",
   "pygments_lexer": "ipython3",
   "version": "3.7.12"
  },
  "papermill": {
   "default_parameters": {},
   "duration": 1510.942976,
   "end_time": "2023-02-02T20:06:40.394251",
   "environment_variables": {},
   "exception": null,
   "input_path": "__notebook__.ipynb",
   "output_path": "__notebook__.ipynb",
   "parameters": {},
   "start_time": "2023-02-02T19:41:29.451275",
   "version": "2.3.4"
  }
 },
 "nbformat": 4,
 "nbformat_minor": 5
}
