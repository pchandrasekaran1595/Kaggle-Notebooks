{
 "cells": [
  {
   "cell_type": "markdown",
   "id": "7b103007",
   "metadata": {
    "_cell_guid": "b1076dfc-b9ad-4769-8c92-a6c4dae69d19",
    "_uuid": "8f2839f25d086af736a60e9eeb907d3b93b6e0e5",
    "papermill": {
     "duration": 0.004131,
     "end_time": "2023-02-02T12:07:30.614577",
     "exception": false,
     "start_time": "2023-02-02T12:07:30.610446",
     "status": "completed"
    },
    "tags": []
   },
   "source": [
    "### **Library Imports**"
   ]
  },
  {
   "cell_type": "code",
   "execution_count": 1,
   "id": "8bd1800c",
   "metadata": {
    "execution": {
     "iopub.execute_input": "2023-02-02T12:07:30.623818Z",
     "iopub.status.busy": "2023-02-02T12:07:30.622904Z",
     "iopub.status.idle": "2023-02-02T12:07:33.661775Z",
     "shell.execute_reply": "2023-02-02T12:07:33.660746Z"
    },
    "papermill": {
     "duration": 3.046255,
     "end_time": "2023-02-02T12:07:33.664297",
     "exception": false,
     "start_time": "2023-02-02T12:07:30.618042",
     "status": "completed"
    },
    "tags": []
   },
   "outputs": [],
   "source": [
    "import os\n",
    "import re\n",
    "import cv2\n",
    "import torch\n",
    "import numpy as np\n",
    "import pandas as pd\n",
    "import matplotlib.pyplot as plt\n",
    "\n",
    "from time import time\n",
    "from typing import Union\n",
    "from torch import nn, optim\n",
    "from torch.utils.data import Dataset\n",
    "from torch.utils.data import DataLoader as DL\n",
    "from torchvision import transforms\n",
    "\n",
    "from sklearn.model_selection import StratifiedKFold"
   ]
  },
  {
   "cell_type": "code",
   "execution_count": 2,
   "id": "ebe4bf49",
   "metadata": {
    "execution": {
     "iopub.execute_input": "2023-02-02T12:07:33.673066Z",
     "iopub.status.busy": "2023-02-02T12:07:33.671777Z",
     "iopub.status.idle": "2023-02-02T12:07:33.683843Z",
     "shell.execute_reply": "2023-02-02T12:07:33.682872Z"
    },
    "papermill": {
     "duration": 0.018391,
     "end_time": "2023-02-02T12:07:33.685984",
     "exception": false,
     "start_time": "2023-02-02T12:07:33.667593",
     "status": "completed"
    },
    "tags": []
   },
   "outputs": [],
   "source": [
    "SEED: int = 42\n",
    "    \n",
    "\n",
    "def breaker(num: int=50, char: str=\"*\") -> None: print(\"\\n\" + num*char + \"\\n\")\n",
    "\n",
    "    \n",
    "def show_loss_graphs(L: list) -> None:\n",
    "    TL, VL = [], []\n",
    "    for i in range(len(L)):\n",
    "        TL.append(L[i][\"train\"])\n",
    "        VL.append(L[i][\"valid\"])\n",
    "    x_Axis = np.arange(1, len(TL) + 1)\n",
    "    plt.figure()\n",
    "    plt.plot(x_Axis, TL, \"r\", label=\"Train\")\n",
    "    plt.plot(x_Axis, VL, \"b\", label=\"Valid\")\n",
    "    plt.legend()\n",
    "    plt.grid()\n",
    "    plt.title(\"Loss Graph\")\n",
    "    plt.show()\n",
    "    \n",
    "\n",
    "def show_accuracy_graphs(A: list) -> None:\n",
    "    TA, VA = [], []\n",
    "    for i in range(len(A)):\n",
    "        TA.append(A[i][\"train\"])\n",
    "        VA.append(A[i][\"valid\"])\n",
    "    x_Axis = np.arange(1, len(TA) + 1)\n",
    "    plt.figure()\n",
    "    plt.plot(x_Axis, TA, \"r\", label=\"Train\")\n",
    "    plt.plot(x_Axis, VA, \"b\", label=\"Valid\")\n",
    "    plt.legend()\n",
    "    plt.grid()\n",
    "    plt.title(\"Accuracy Graph\")\n",
    "    plt.show()\n",
    "    \n",
    "\n",
    "def show_lr_graph(LR: list) -> None:\n",
    "    x_Axis = [i+1 for i in range(len(LR))]\n",
    "    plt.figure(figsize=(8, 6))\n",
    "    plt.plot(x_Axis, LR, \"rx\")\n",
    "    plt.grid()\n",
    "    plt.show()"
   ]
  },
  {
   "cell_type": "code",
   "execution_count": 3,
   "id": "ba18106a",
   "metadata": {
    "execution": {
     "iopub.execute_input": "2023-02-02T12:07:33.694775Z",
     "iopub.status.busy": "2023-02-02T12:07:33.693351Z",
     "iopub.status.idle": "2023-02-02T12:07:33.763808Z",
     "shell.execute_reply": "2023-02-02T12:07:33.762780Z"
    },
    "papermill": {
     "duration": 0.076767,
     "end_time": "2023-02-02T12:07:33.765940",
     "exception": false,
     "start_time": "2023-02-02T12:07:33.689173",
     "status": "completed"
    },
    "tags": []
   },
   "outputs": [],
   "source": [
    "class CFG(object):\n",
    "    def __init__(self,\n",
    "             seed: int = 42,\n",
    "             n_splits: int = 5,\n",
    "             batch_size: int = 16,\n",
    "             epochs: int = 25,\n",
    "             early_stopping: int = 5,\n",
    "             lr: float = 1e-4,\n",
    "             wd: float = 0.0,\n",
    "             max_lr: float = 1e-3,\n",
    "             pct_start: float = 0.2,\n",
    "             steps_per_epoch: int = 100,\n",
    "             div_factor: int = 1e3, \n",
    "             final_div_factor: float = 1e3,\n",
    "             filter_sizes: list = [64, 128, 256, 512],\n",
    "             HL: list = [1024]\n",
    "         ):\n",
    "        \n",
    "        self.seed = seed\n",
    "        self.n_splits = n_splits\n",
    "        self.batch_size = batch_size\n",
    "        self.epochs = epochs\n",
    "        self.early_stopping = early_stopping\n",
    "        self.lr = lr\n",
    "        self.wd = wd\n",
    "        self.max_lr = max_lr\n",
    "        self.pct_start = pct_start\n",
    "        self.steps_per_epoch = steps_per_epoch\n",
    "        self.div_factor = div_factor\n",
    "        self.final_div_factor = final_div_factor\n",
    "        self.filter_sizes = filter_sizes\n",
    "        self.HL = HL\n",
    "        self.device = torch.device(\"cuda\" if torch.cuda.is_available() else \"cpu\")\n",
    "        \n",
    "        self.train_transform = transforms.Compose([\n",
    "            transforms.ToTensor(),\n",
    "            transforms.Normalize([0.13099], [0.30024]),\n",
    "            transforms.RandomAffine(degrees=(-45, 45), translate=(0.15, 0.15), scale=(0.5, 1.5)),\n",
    "            transforms.RandomHorizontalFlip(p=0.25),\n",
    "            transforms.RandomVerticalFlip(p=0.25),\n",
    "        ])\n",
    "        self.valid_transform = transforms.Compose([\n",
    "            transforms.ToTensor(),\n",
    "            transforms.Normalize([0.13099], [0.30024]),\n",
    "        ])\n",
    "        self.save_path = \"saves\"\n",
    "        if not os.path.exists(self.save_path): os.makedirs(self.save_path)\n",
    "\n",
    "\n",
    "cfg = CFG(\n",
    "    seed=SEED, \n",
    ")"
   ]
  },
  {
   "cell_type": "markdown",
   "id": "40fcbb59",
   "metadata": {
    "papermill": {
     "duration": 0.002894,
     "end_time": "2023-02-02T12:07:33.772138",
     "exception": false,
     "start_time": "2023-02-02T12:07:33.769244",
     "status": "completed"
    },
    "tags": []
   },
   "source": [
    "### **Dataset Template**"
   ]
  },
  {
   "cell_type": "code",
   "execution_count": 4,
   "id": "dc8008c3",
   "metadata": {
    "execution": {
     "iopub.execute_input": "2023-02-02T12:07:33.780138Z",
     "iopub.status.busy": "2023-02-02T12:07:33.779229Z",
     "iopub.status.idle": "2023-02-02T12:07:33.786420Z",
     "shell.execute_reply": "2023-02-02T12:07:33.785519Z"
    },
    "papermill": {
     "duration": 0.013281,
     "end_time": "2023-02-02T12:07:33.788406",
     "exception": false,
     "start_time": "2023-02-02T12:07:33.775125",
     "status": "completed"
    },
    "tags": []
   },
   "outputs": [],
   "source": [
    "class DS(Dataset):\n",
    "    def __init__(\n",
    "        self, \n",
    "        images: np.ndarray, \n",
    "        labels: Union[np.ndarray, None]=None, \n",
    "        transform=None\n",
    "    ):\n",
    "        \n",
    "        self.images = images\n",
    "        self.labels = labels\n",
    "        self.transform = transform\n",
    "\n",
    "    def __len__(self):\n",
    "        return self.images.shape[0]\n",
    "\n",
    "    def __getitem__(self, idx):\n",
    "        if self.labels is not None:\n",
    "            return self.transform(self.images[idx]), torch.LongTensor(self.labels[idx])\n",
    "        return self.transform(self.images[idx])"
   ]
  },
  {
   "cell_type": "markdown",
   "id": "bd35c972",
   "metadata": {
    "papermill": {
     "duration": 0.002881,
     "end_time": "2023-02-02T12:07:33.794404",
     "exception": false,
     "start_time": "2023-02-02T12:07:33.791523",
     "status": "completed"
    },
    "tags": []
   },
   "source": [
    "### **Model**"
   ]
  },
  {
   "cell_type": "code",
   "execution_count": 5,
   "id": "2a2edbf3",
   "metadata": {
    "execution": {
     "iopub.execute_input": "2023-02-02T12:07:33.803311Z",
     "iopub.status.busy": "2023-02-02T12:07:33.801764Z",
     "iopub.status.idle": "2023-02-02T12:07:33.821423Z",
     "shell.execute_reply": "2023-02-02T12:07:33.820565Z"
    },
    "papermill": {
     "duration": 0.025944,
     "end_time": "2023-02-02T12:07:33.823353",
     "exception": false,
     "start_time": "2023-02-02T12:07:33.797409",
     "status": "completed"
    },
    "tags": []
   },
   "outputs": [],
   "source": [
    "class Model(nn.Module):\n",
    "    def __init__(self, filter_sizes: list, HL: list, DP: Union[float, None]=None):\n",
    "        \n",
    "        super(Model, self).__init__()\n",
    "        \n",
    "        self.features = nn.Sequential()\n",
    "        self.features.add_module(\"CN1\", nn.Conv2d(in_channels=1, out_channels=filter_sizes[0], kernel_size=(3, 3), stride=(1, 1), padding=(1, 1)))\n",
    "        self.features.add_module(\"BN1\", nn.BatchNorm2d(num_features=filter_sizes[0], eps=1e-5))\n",
    "        self.features.add_module(\"AN1\", nn.ReLU())\n",
    "        self.features.add_module(\"MP1\", nn.MaxPool2d(kernel_size=(2, 2)))\n",
    "        self.features.add_module(\"CN2\", nn.Conv2d(in_channels=filter_sizes[0], out_channels=filter_sizes[1], kernel_size=(3, 3), stride=(1, 1), padding=(1, 1)))\n",
    "        self.features.add_module(\"BN2\", nn.BatchNorm2d(num_features=filter_sizes[1], eps=1e-5))\n",
    "        self.features.add_module(\"AN2\", nn.ReLU())\n",
    "        self.features.add_module(\"MP2\", nn.MaxPool2d(kernel_size=(2, 2)))\n",
    "        self.features.add_module(\"CN3\", nn.Conv2d(in_channels=filter_sizes[1], out_channels=filter_sizes[2], kernel_size=(3, 3), stride=(1, 1), padding=(1, 1)))\n",
    "        self.features.add_module(\"BN3\", nn.BatchNorm2d(num_features=filter_sizes[2], eps=1e-5))\n",
    "        self.features.add_module(\"AN3\", nn.ReLU())\n",
    "        self.features.add_module(\"MP3\", nn.MaxPool2d(kernel_size=(2, 2))) \n",
    "        self.features.add_module(\"CN4\", nn.Conv2d(in_channels=filter_sizes[2], out_channels=filter_sizes[3], kernel_size=(3, 3), stride=(1, 1), padding=(1, 1)))\n",
    "        self.features.add_module(\"BN4\", nn.BatchNorm2d(num_features=filter_sizes[3], eps=1e-5))\n",
    "        self.features.add_module(\"AN4\", nn.ReLU())\n",
    "        self.features.add_module(\"MP4\", nn.MaxPool2d(kernel_size=(2, 2)))\n",
    "        \n",
    "        self.classifier = nn.Sequential()\n",
    "        if len(HL) == 0:\n",
    "            self.classifier.add_module(\"FC1\", nn.Linear(in_features=filter_sizes[3]*4*4, out_features=10))\n",
    "        elif len(HL) == 1:\n",
    "            self.classifier.add_module(\"FC1\", nn.Linear(in_features=filter_sizes[3]*4*4, out_features=HL[0]))\n",
    "            if isinstance(DP, float):\n",
    "                self.classifier.add_module(\"DP1\", nn.Dropout(p=DP))\n",
    "            self.classifier.add_module(\"AN1\", nn.ReLU())\n",
    "            self.classifier.add_module(\"FC2\", nn.Linear(in_features=HL[0], out_features=10))\n",
    "        elif len(HL) == 2:\n",
    "            self.classifier.add_module(\"FC1\", nn.Linear(in_features=filter_sizes[3]*4*4, out_features=HL[0]))\n",
    "            if isinstance(DP, float):\n",
    "                self.classifier.add_module(\"DP1\", nn.Dropout(p=DP))\n",
    "            self.classifier.add_module(\"AN1\", nn.ReLU())\n",
    "            self.classifier.add_module(\"FC2\", nn.Linear(in_features=HL[0], out_features=HL[1]))\n",
    "            if isinstance(DP, float):\n",
    "                self.classifier.add_module(\"DP2\", nn.Dropout(p=DP))\n",
    "            self.classifier.add_module(\"AN2\", nn.ReLU())\n",
    "            self.classifier.add_module(\"FC3\", nn.Linear(in_features=HL[1], out_features=10))\n",
    "        self.classifier.add_module(\"Final Activation\", nn.LogSoftmax(dim=1))\n",
    "    \n",
    "    def forward(self, x):\n",
    "        x = self.features(x)\n",
    "        x = x.view(x.shape[0], -1)\n",
    "        return self.classifier(x)"
   ]
  },
  {
   "cell_type": "markdown",
   "id": "62c53d96",
   "metadata": {
    "papermill": {
     "duration": 0.002886,
     "end_time": "2023-02-02T12:07:33.829630",
     "exception": false,
     "start_time": "2023-02-02T12:07:33.826744",
     "status": "completed"
    },
    "tags": []
   },
   "source": [
    "### **Fit and Predict**"
   ]
  },
  {
   "cell_type": "code",
   "execution_count": 6,
   "id": "9efd1504",
   "metadata": {
    "execution": {
     "iopub.execute_input": "2023-02-02T12:07:33.837528Z",
     "iopub.status.busy": "2023-02-02T12:07:33.837228Z",
     "iopub.status.idle": "2023-02-02T12:07:33.858680Z",
     "shell.execute_reply": "2023-02-02T12:07:33.857847Z"
    },
    "papermill": {
     "duration": 0.028034,
     "end_time": "2023-02-02T12:07:33.860816",
     "exception": false,
     "start_time": "2023-02-02T12:07:33.832782",
     "status": "completed"
    },
    "tags": []
   },
   "outputs": [],
   "source": [
    "def fit(\n",
    "    model=None,\n",
    "    optimizer=None, \n",
    "    scheduler_rlrop=None,\n",
    "    scheduler_oclr=None,\n",
    "    epochs=None, \n",
    "    early_stopping_patience=None, \n",
    "    dataloaders=None, \n",
    "    fold=None, \n",
    "    save_path=None,\n",
    "    device=None,\n",
    "    verbose=False\n",
    ") -> tuple:\n",
    "    \n",
    "    def get_accuracy(y_pred, y_true):\n",
    "        y_pred = torch.argmax(y_pred, dim=1)\n",
    "        return torch.count_nonzero(y_pred == y_true).item() / len(y_pred)\n",
    "    \n",
    "    if verbose:\n",
    "        breaker()\n",
    "        if fold: print(f\"Training Fold {fold}...\")\n",
    "        else: print(\"Training ...\")\n",
    "        breaker()\n",
    "        \n",
    "    bestLoss: dict = {\"train\" : np.inf, \"valid\" : np.inf} \n",
    "    bestAccs: dict = {\"train\" : 0.0, \"valid\" : 0.0}\n",
    "        \n",
    "    Losses: list = []\n",
    "    Accuracies: list = [] \n",
    "    LRs: list = []\n",
    "        \n",
    "    if fold: \n",
    "        ble_name = f\"ble_state_fold_{fold}.pt\"\n",
    "        bae_name = f\"bae_state_fold_{fold}.pt\"\n",
    "    else: \n",
    "        ble_name = f\"ble_state.pt\"\n",
    "        bae_name = f\"bae_state.pt\"\n",
    "        \n",
    "    start_time = time()\n",
    "    for e in range(epochs):\n",
    "        e_st = time()\n",
    "        epochLoss: dict = {\"train\" : 0.0, \"valid\" : 0.0} \n",
    "        epochAccs: dict = {\"train\" : 0.0, \"valid\" : 0.0}\n",
    "            \n",
    "        for phase in [\"train\", \"valid\"]:\n",
    "            if phase == \"train\":\n",
    "                model.train()\n",
    "            else:\n",
    "                model.eval()\n",
    "            \n",
    "            lossPerPass: list = []\n",
    "            accsPerPass: list = []\n",
    "                \n",
    "            for X, y in dataloaders[phase]:\n",
    "                X, y = X.to(device), y.to(device).view(-1)\n",
    "                \n",
    "                optimizer.zero_grad()\n",
    "                with torch.set_grad_enabled(phase == \"train\"):\n",
    "                    output = model(X)\n",
    "                    loss = nn.NLLLoss()(output, y)\n",
    "                    if phase == \"train\":\n",
    "                        loss.backward()\n",
    "                        optimizer.step()\n",
    "                        if scheduler_oclr: scheduler_oclr.step()\n",
    "                lossPerPass.append(loss.item())\n",
    "                accsPerPass.append(get_accuracy(output, y))\n",
    "            epochLoss[phase] = np.mean(np.array(lossPerPass))\n",
    "            epochAccs[phase] = np.mean(np.array(accsPerPass))\n",
    "        if scheduler_oclr: LRs.append(scheduler_oclr.get_last_lr())\n",
    "        Losses.append(epochLoss)\n",
    "        Accuracies.append(epochAccs)\n",
    "        \n",
    "        if scheduler_oclr:\n",
    "            save_dict = {\"model_state_dict\"     : model.state_dict(),\n",
    "                         \"optim_state_dict\"     : optimizer.state_dict(),\n",
    "                         \"scheduler_state_dict\" : scheduler_oclr.state_dict()}\n",
    "        \n",
    "        elif scheduler_rlrop:\n",
    "            save_dict = {\"model_state_dict\"     : model.state_dict(),\n",
    "                         \"optim_state_dict\"     : optimizer.state_dict(),\n",
    "                         \"scheduler_state_dict\" : scheduler_rlrop.state_dict()}\n",
    "        \n",
    "        else:\n",
    "            save_dict = {\"model_state_dict\"     : model.state_dict(),\n",
    "                         \"optim_state_dict\"     : optimizer.state_dict()}\n",
    "        \n",
    "        if early_stopping_patience:\n",
    "            if epochLoss[\"valid\"] < bestLoss[\"valid\"]:\n",
    "                bestLoss = epochLoss\n",
    "                BLE = e + 1\n",
    "                torch.save(save_dict, os.path.join(save_path, ble_name))\n",
    "                torch.save(save_dict, os.path.join(save_path, bae_name))\n",
    "                early_stopping_step = 0\n",
    "            else:\n",
    "                early_stopping_step += 1\n",
    "                if early_stopping_step > early_stopping_patience:\n",
    "                    print(\"\\nEarly Stopping at Epoch {}\".format(e + 1))\n",
    "                    break\n",
    "        \n",
    "        if epochLoss[\"valid\"] < bestLoss[\"valid\"]:\n",
    "            bestLoss = epochLoss\n",
    "            BLE = e + 1\n",
    "            torch.save(save_dict,os.path.join(save_path, ble_name))\n",
    "        \n",
    "        if epochAccs[\"valid\"] > bestAccs[\"valid\"]:\n",
    "            bestAccs = epochAccs\n",
    "            BAE = e + 1\n",
    "            torch.save(save_dict,os.path.join(save_path, bae_name))\n",
    "        \n",
    "        if scheduler_rlrop: scheduler_rlrop.step(epochLoss[\"valid\"])\n",
    "        \n",
    "        if verbose:\n",
    "            print(\"Epoch: {} | Train Loss: {:.5f} | Valid Loss: {:.5f} |\\\n",
    " Train Accs: {:.5f} | Valid Accs: {:.5f} | Time: {:.2f} seconds\".format(\n",
    "                e+1, \n",
    "                epochLoss[\"train\"], epochLoss[\"valid\"], \n",
    "                epochAccs[\"train\"], epochAccs[\"valid\"], \n",
    "                time()-e_st)\n",
    "            )\n",
    "        \n",
    "    if verbose:                                           \n",
    "        breaker()\n",
    "        print(f\"Best Validation Loss at Epoch {BLE}\")\n",
    "        breaker()\n",
    "        print(f\"Best Validation Accs at Epoch {BAE}\")\n",
    "        breaker()\n",
    "        print(\"Time Taken [{} Epochs] : {:.2f} minutes\".format(len(Losses), (time()-start_time)/60))\n",
    "    \n",
    "    return Losses, Accuracies, LRs, bestLoss, bestAccs, BLE, BAE, ble_name, bae_name\n",
    "\n",
    "\n",
    "# def predict_batch(model=None, dataloader=None, path=None, device=None) -> np.ndarray:\n",
    "#     model.load_state_dict(torch.load(path, map_location=device)[\"model_state_dict\"])\n",
    "#     model.to(device)    \n",
    "#     model.eval()\n",
    "    \n",
    "#     y_pred = torch.zeros(1, 1).to(device)\n",
    "    \n",
    "#     for X in dataloader:\n",
    "#         X = X.to(device)\n",
    "#         with torch.no_grad():\n",
    "#             output = torch.argmax(torch.exp(model(X)), dim=1)\n",
    "#         y_pred = torch.cat((y_pred, output.view(-1, 1)), dim=0)\n",
    "    \n",
    "#     return y_pred[1:].detach().cpu().numpy()"
   ]
  },
  {
   "cell_type": "markdown",
   "id": "e956e1cc",
   "metadata": {
    "papermill": {
     "duration": 0.002922,
     "end_time": "2023-02-02T12:07:33.866901",
     "exception": false,
     "start_time": "2023-02-02T12:07:33.863979",
     "status": "completed"
    },
    "tags": []
   },
   "source": [
    "### **Train**"
   ]
  },
  {
   "cell_type": "code",
   "execution_count": 7,
   "id": "ee97edf4",
   "metadata": {
    "execution": {
     "iopub.execute_input": "2023-02-02T12:07:33.874787Z",
     "iopub.status.busy": "2023-02-02T12:07:33.873932Z",
     "iopub.status.idle": "2023-02-02T12:07:37.627043Z",
     "shell.execute_reply": "2023-02-02T12:07:37.626048Z"
    },
    "papermill": {
     "duration": 3.759412,
     "end_time": "2023-02-02T12:07:37.629424",
     "exception": false,
     "start_time": "2023-02-02T12:07:33.870012",
     "status": "completed"
    },
    "tags": []
   },
   "outputs": [],
   "source": [
    "df = pd.read_csv(\"/kaggle/input/digit-recognizer-ii-2023/train.csv\")\n",
    "\n",
    "images = df.iloc[:, 1:].copy().values.reshape(df.shape[0], 28, 28, 1).astype(\"uint8\")\n",
    "images = np.array([cv2.resize(image, (64, 64), interpolation=cv2.INTER_AREA) for image in images])\n",
    "labels = df.iloc[:, 0].copy().values"
   ]
  },
  {
   "cell_type": "code",
   "execution_count": 8,
   "id": "f63c2d14",
   "metadata": {
    "execution": {
     "iopub.execute_input": "2023-02-02T12:07:37.637923Z",
     "iopub.status.busy": "2023-02-02T12:07:37.637597Z",
     "iopub.status.idle": "2023-02-02T12:36:56.063557Z",
     "shell.execute_reply": "2023-02-02T12:36:56.062366Z"
    },
    "papermill": {
     "duration": 1758.432741,
     "end_time": "2023-02-02T12:36:56.065753",
     "exception": false,
     "start_time": "2023-02-02T12:07:37.633012",
     "status": "completed"
    },
    "tags": []
   },
   "outputs": [
    {
     "name": "stdout",
     "output_type": "stream",
     "text": [
      "\n",
      "**************************************************\n",
      "\n",
      "Training Fold 1...\n",
      "\n",
      "**************************************************\n",
      "\n",
      "Epoch: 1 | Train Loss: 1.40080 | Valid Loss: 0.44144 | Train Accs: 0.50619 | Valid Accs: 0.85618 | Time: 41.98 seconds\n",
      "Epoch: 2 | Train Loss: 0.64997 | Valid Loss: 0.23144 | Train Accs: 0.78122 | Valid Accs: 0.92969 | Time: 36.07 seconds\n",
      "Epoch: 3 | Train Loss: 0.44280 | Valid Loss: 0.28330 | Train Accs: 0.85408 | Valid Accs: 0.89844 | Time: 35.19 seconds\n",
      "Epoch: 4 | Train Loss: 0.35703 | Valid Loss: 0.18206 | Train Accs: 0.88524 | Valid Accs: 0.94247 | Time: 35.41 seconds\n",
      "Epoch: 5 | Train Loss: 0.31265 | Valid Loss: 0.14210 | Train Accs: 0.89699 | Valid Accs: 0.95549 | Time: 35.16 seconds\n",
      "Epoch: 6 | Train Loss: 0.25316 | Valid Loss: 0.11768 | Train Accs: 0.91717 | Valid Accs: 0.96615 | Time: 35.80 seconds\n",
      "Epoch: 7 | Train Loss: 0.22107 | Valid Loss: 0.10970 | Train Accs: 0.92848 | Valid Accs: 0.96650 | Time: 35.32 seconds\n",
      "Epoch: 8 | Train Loss: 0.18464 | Valid Loss: 0.09961 | Train Accs: 0.94012 | Valid Accs: 0.97147 | Time: 35.36 seconds\n",
      "Epoch: 9 | Train Loss: 0.16358 | Valid Loss: 0.08068 | Train Accs: 0.94595 | Valid Accs: 0.97739 | Time: 34.79 seconds\n",
      "Epoch: 10 | Train Loss: 0.15283 | Valid Loss: 0.08079 | Train Accs: 0.94988 | Valid Accs: 0.97621 | Time: 34.10 seconds\n",
      "\n",
      "**************************************************\n",
      "\n",
      "Best Validation Loss at Epoch 9\n",
      "\n",
      "**************************************************\n",
      "\n",
      "Best Validation Accs at Epoch 9\n",
      "\n",
      "**************************************************\n",
      "\n",
      "Time Taken [10 Epochs] : 5.99 minutes\n",
      "\n",
      "**************************************************\n",
      "\n"
     ]
    },
    {
     "data": {
      "image/png": "[encoded data removed]",
      "text/plain": [
       "<Figure size 432x288 with 1 Axes>"
      ]
     },
     "metadata": {
      "needs_background": "light"
     },
     "output_type": "display_data"
    },
    {
     "name": "stdout",
     "output_type": "stream",
     "text": [
      "\n",
      "**************************************************\n",
      "\n"
     ]
    },
    {
     "data": {
      "image/png": "[encoded data removed]",
      "text/plain": [
       "<Figure size 432x288 with 1 Axes>"
      ]
     },
     "metadata": {
      "needs_background": "light"
     },
     "output_type": "display_data"
    },
    {
     "name": "stdout",
     "output_type": "stream",
     "text": [
      "\n",
      "**************************************************\n",
      "\n"
     ]
    },
    {
     "data": {
      "image/png": "[encoded data removed]",
      "text/plain": [
       "<Figure size 576x432 with 1 Axes>"
      ]
     },
     "metadata": {
      "needs_background": "light"
     },
     "output_type": "display_data"
    },
    {
     "name": "stdout",
     "output_type": "stream",
     "text": [
      "\n",
      "**************************************************\n",
      "\n",
      "\n",
      "**************************************************\n",
      "\n",
      "Training Fold 2...\n",
      "\n",
      "**************************************************\n",
      "\n",
      "Epoch: 1 | Train Loss: 1.40223 | Valid Loss: 0.37065 | Train Accs: 0.50768 | Valid Accs: 0.88707 | Time: 35.15 seconds\n",
      "Epoch: 2 | Train Loss: 0.63817 | Valid Loss: 0.41597 | Train Accs: 0.78527 | Valid Accs: 0.87914 | Time: 34.06 seconds\n",
      "Epoch: 3 | Train Loss: 0.43670 | Valid Loss: 0.20851 | Train Accs: 0.85688 | Valid Accs: 0.93075 | Time: 34.80 seconds\n",
      "Epoch: 4 | Train Loss: 0.36603 | Valid Loss: 0.18181 | Train Accs: 0.88083 | Valid Accs: 0.94389 | Time: 35.68 seconds\n",
      "Epoch: 5 | Train Loss: 0.30225 | Valid Loss: 0.13566 | Train Accs: 0.90179 | Valid Accs: 0.96023 | Time: 35.29 seconds\n",
      "Epoch: 6 | Train Loss: 0.25702 | Valid Loss: 0.15986 | Train Accs: 0.91628 | Valid Accs: 0.94815 | Time: 33.79 seconds\n",
      "Epoch: 7 | Train Loss: 0.22176 | Valid Loss: 0.09874 | Train Accs: 0.92696 | Valid Accs: 0.96851 | Time: 34.73 seconds\n",
      "Epoch: 8 | Train Loss: 0.18602 | Valid Loss: 0.07740 | Train Accs: 0.93917 | Valid Accs: 0.97668 | Time: 35.40 seconds\n",
      "Epoch: 9 | Train Loss: 0.16133 | Valid Loss: 0.07505 | Train Accs: 0.94664 | Valid Accs: 0.97763 | Time: 35.05 seconds\n",
      "Epoch: 10 | Train Loss: 0.15112 | Valid Loss: 0.07368 | Train Accs: 0.95080 | Valid Accs: 0.97704 | Time: 34.92 seconds\n",
      "\n",
      "**************************************************\n",
      "\n",
      "Best Validation Loss at Epoch 10\n",
      "\n",
      "**************************************************\n",
      "\n",
      "Best Validation Accs at Epoch 9\n",
      "\n",
      "**************************************************\n",
      "\n",
      "Time Taken [10 Epochs] : 5.81 minutes\n",
      "\n",
      "**************************************************\n",
      "\n"
     ]
    },
    {
     "data": {
      "image/png": "[encoded data removed]",
      "text/plain": [
       "<Figure size 432x288 with 1 Axes>"
      ]
     },
     "metadata": {
      "needs_background": "light"
     },
     "output_type": "display_data"
    },
    {
     "name": "stdout",
     "output_type": "stream",
     "text": [
      "\n",
      "**************************************************\n",
      "\n"
     ]
    },
    {
     "data": {
      "image/png": "[encoded data removed]",
      "text/plain": [
       "<Figure size 432x288 with 1 Axes>"
      ]
     },
     "metadata": {
      "needs_background": "light"
     },
     "output_type": "display_data"
    },
    {
     "name": "stdout",
     "output_type": "stream",
     "text": [
      "\n",
      "**************************************************\n",
      "\n"
     ]
    },
    {
     "data": {
      "image/png": "[encoded data removed]",
      "text/plain": [
       "<Figure size 576x432 with 1 Axes>"
      ]
     },
     "metadata": {
      "needs_background": "light"
     },
     "output_type": "display_data"
    },
    {
     "name": "stdout",
     "output_type": "stream",
     "text": [
      "\n",
      "**************************************************\n",
      "\n",
      "\n",
      "**************************************************\n",
      "\n",
      "Training Fold 3...\n",
      "\n",
      "**************************************************\n",
      "\n",
      "Epoch: 1 | Train Loss: 1.42653 | Valid Loss: 0.59306 | Train Accs: 0.50051 | Valid Accs: 0.78693 | Time: 34.29 seconds\n",
      "Epoch: 2 | Train Loss: 0.63525 | Valid Loss: 0.22728 | Train Accs: 0.78952 | Valid Accs: 0.93063 | Time: 36.10 seconds\n",
      "Epoch: 3 | Train Loss: 0.44636 | Valid Loss: 0.24442 | Train Accs: 0.85229 | Valid Accs: 0.91892 | Time: 34.02 seconds\n",
      "Epoch: 4 | Train Loss: 0.36113 | Valid Loss: 0.17793 | Train Accs: 0.87943 | Valid Accs: 0.94283 | Time: 35.48 seconds\n",
      "Epoch: 5 | Train Loss: 0.30115 | Valid Loss: 0.17843 | Train Accs: 0.90155 | Valid Accs: 0.94602 | Time: 34.21 seconds\n",
      "Epoch: 6 | Train Loss: 0.26341 | Valid Loss: 0.09402 | Train Accs: 0.91461 | Valid Accs: 0.97076 | Time: 35.13 seconds\n",
      "Epoch: 7 | Train Loss: 0.21844 | Valid Loss: 0.11666 | Train Accs: 0.92884 | Valid Accs: 0.96366 | Time: 34.30 seconds\n",
      "Epoch: 8 | Train Loss: 0.18873 | Valid Loss: 0.08817 | Train Accs: 0.93857 | Valid Accs: 0.97171 | Time: 34.94 seconds\n",
      "Epoch: 9 | Train Loss: 0.16222 | Valid Loss: 0.07539 | Train Accs: 0.94693 | Valid Accs: 0.97396 | Time: 35.42 seconds\n",
      "Epoch: 10 | Train Loss: 0.15595 | Valid Loss: 0.07396 | Train Accs: 0.95006 | Valid Accs: 0.97455 | Time: 35.53 seconds\n",
      "\n",
      "**************************************************\n",
      "\n",
      "Best Validation Loss at Epoch 10\n",
      "\n",
      "**************************************************\n",
      "\n",
      "Best Validation Accs at Epoch 10\n",
      "\n",
      "**************************************************\n",
      "\n",
      "Time Taken [10 Epochs] : 5.82 minutes\n",
      "\n",
      "**************************************************\n",
      "\n"
     ]
    },
    {
     "data": {
      "image/png": "[encoded data removed]",
      "text/plain": [
       "<Figure size 432x288 with 1 Axes>"
      ]
     },
     "metadata": {
      "needs_background": "light"
     },
     "output_type": "display_data"
    },
    {
     "name": "stdout",
     "output_type": "stream",
     "text": [
      "\n",
      "**************************************************\n",
      "\n"
     ]
    },
    {
     "data": {
      "image/png": "[encoded data removed]",
      "text/plain": [
       "<Figure size 432x288 with 1 Axes>"
      ]
     },
     "metadata": {
      "needs_background": "light"
     },
     "output_type": "display_data"
    },
    {
     "name": "stdout",
     "output_type": "stream",
     "text": [
      "\n",
      "**************************************************\n",
      "\n"
     ]
    },
    {
     "data": {
      "image/png": "[encoded data removed]",
      "text/plain": [
       "<Figure size 576x432 with 1 Axes>"
      ]
     },
     "metadata": {
      "needs_background": "light"
     },
     "output_type": "display_data"
    },
    {
     "name": "stdout",
     "output_type": "stream",
     "text": [
      "\n",
      "**************************************************\n",
      "\n",
      "\n",
      "**************************************************\n",
      "\n",
      "Training Fold 4...\n",
      "\n",
      "**************************************************\n",
      "\n",
      "Epoch: 1 | Train Loss: 1.40966 | Valid Loss: 0.30267 | Train Accs: 0.50524 | Valid Accs: 0.91193 | Time: 35.42 seconds\n",
      "Epoch: 2 | Train Loss: 0.63493 | Valid Loss: 0.58333 | Train Accs: 0.78911 | Valid Accs: 0.81984 | Time: 33.75 seconds\n",
      "Epoch: 3 | Train Loss: 0.44501 | Valid Loss: 0.19048 | Train Accs: 0.85107 | Valid Accs: 0.94957 | Time: 34.61 seconds\n",
      "Epoch: 4 | Train Loss: 0.35933 | Valid Loss: 0.16709 | Train Accs: 0.88295 | Valid Accs: 0.94638 | Time: 34.91 seconds\n",
      "Epoch: 5 | Train Loss: 0.31338 | Valid Loss: 0.13453 | Train Accs: 0.89812 | Valid Accs: 0.95691 | Time: 34.71 seconds\n",
      "Epoch: 6 | Train Loss: 0.26051 | Valid Loss: 0.11689 | Train Accs: 0.91533 | Valid Accs: 0.96473 | Time: 34.80 seconds\n",
      "Epoch: 7 | Train Loss: 0.22043 | Valid Loss: 0.10158 | Train Accs: 0.92670 | Valid Accs: 0.96816 | Time: 34.47 seconds\n",
      "Epoch: 8 | Train Loss: 0.18669 | Valid Loss: 0.08338 | Train Accs: 0.93970 | Valid Accs: 0.97277 | Time: 35.06 seconds\n",
      "Epoch: 9 | Train Loss: 0.16035 | Valid Loss: 0.07602 | Train Accs: 0.94750 | Valid Accs: 0.97431 | Time: 34.92 seconds\n",
      "Epoch: 10 | Train Loss: 0.14972 | Valid Loss: 0.07786 | Train Accs: 0.95045 | Valid Accs: 0.97491 | Time: 34.03 seconds\n",
      "\n",
      "**************************************************\n",
      "\n",
      "Best Validation Loss at Epoch 9\n",
      "\n",
      "**************************************************\n",
      "\n",
      "Best Validation Accs at Epoch 10\n",
      "\n",
      "**************************************************\n",
      "\n",
      "Time Taken [10 Epochs] : 5.78 minutes\n",
      "\n",
      "**************************************************\n",
      "\n"
     ]
    },
    {
     "data": {
      "image/png": "[encoded data removed]",
      "text/plain": [
       "<Figure size 432x288 with 1 Axes>"
      ]
     },
     "metadata": {
      "needs_background": "light"
     },
     "output_type": "display_data"
    },
    {
     "name": "stdout",
     "output_type": "stream",
     "text": [
      "\n",
      "**************************************************\n",
      "\n"
     ]
    },
    {
     "data": {
      "image/png": "[encoded data removed]",
      "text/plain": [
       "<Figure size 432x288 with 1 Axes>"
      ]
     },
     "metadata": {
      "needs_background": "light"
     },
     "output_type": "display_data"
    },
    {
     "name": "stdout",
     "output_type": "stream",
     "text": [
      "\n",
      "**************************************************\n",
      "\n"
     ]
    },
    {
     "data": {
      "image/png": "[encoded data removed]",
      "text/plain": [
       "<Figure size 576x432 with 1 Axes>"
      ]
     },
     "metadata": {
      "needs_background": "light"
     },
     "output_type": "display_data"
    },
    {
     "name": "stdout",
     "output_type": "stream",
     "text": [
      "\n",
      "**************************************************\n",
      "\n",
      "\n",
      "**************************************************\n",
      "\n",
      "Training Fold 5...\n",
      "\n",
      "**************************************************\n",
      "\n",
      "Epoch: 1 | Train Loss: 1.41872 | Valid Loss: 0.42301 | Train Accs: 0.50372 | Valid Accs: 0.87713 | Time: 34.96 seconds\n",
      "Epoch: 2 | Train Loss: 0.63388 | Valid Loss: 0.40268 | Train Accs: 0.78613 | Valid Accs: 0.87370 | Time: 34.96 seconds\n",
      "Epoch: 3 | Train Loss: 0.44937 | Valid Loss: 0.23530 | Train Accs: 0.85232 | Valid Accs: 0.92969 | Time: 34.69 seconds\n",
      "Epoch: 4 | Train Loss: 0.35905 | Valid Loss: 0.15468 | Train Accs: 0.88330 | Valid Accs: 0.95289 | Time: 34.73 seconds\n",
      "Epoch: 5 | Train Loss: 0.30487 | Valid Loss: 0.13467 | Train Accs: 0.90036 | Valid Accs: 0.95466 | Time: 34.49 seconds\n",
      "Epoch: 6 | Train Loss: 0.26252 | Valid Loss: 0.11796 | Train Accs: 0.91470 | Valid Accs: 0.95774 | Time: 34.94 seconds\n",
      "Epoch: 7 | Train Loss: 0.21703 | Valid Loss: 0.11075 | Train Accs: 0.92807 | Valid Accs: 0.96295 | Time: 34.76 seconds\n",
      "Epoch: 8 | Train Loss: 0.18711 | Valid Loss: 0.08424 | Train Accs: 0.93964 | Valid Accs: 0.97147 | Time: 34.70 seconds\n",
      "Epoch: 9 | Train Loss: 0.16474 | Valid Loss: 0.07682 | Train Accs: 0.94690 | Valid Accs: 0.97408 | Time: 34.50 seconds\n",
      "Epoch: 10 | Train Loss: 0.15383 | Valid Loss: 0.07299 | Train Accs: 0.95015 | Valid Accs: 0.97526 | Time: 34.90 seconds\n",
      "\n",
      "**************************************************\n",
      "\n",
      "Best Validation Loss at Epoch 10\n",
      "\n",
      "**************************************************\n",
      "\n",
      "Best Validation Accs at Epoch 10\n",
      "\n",
      "**************************************************\n",
      "\n",
      "Time Taken [10 Epochs] : 5.79 minutes\n",
      "\n",
      "**************************************************\n",
      "\n"
     ]
    },
    {
     "data": {
      "image/png": "[encoded data removed]",
      "text/plain": [
       "<Figure size 432x288 with 1 Axes>"
      ]
     },
     "metadata": {
      "needs_background": "light"
     },
     "output_type": "display_data"
    },
    {
     "name": "stdout",
     "output_type": "stream",
     "text": [
      "\n",
      "**************************************************\n",
      "\n"
     ]
    },
    {
     "data": {
      "image/png": "[encoded data removed]",
      "text/plain": [
       "<Figure size 432x288 with 1 Axes>"
      ]
     },
     "metadata": {
      "needs_background": "light"
     },
     "output_type": "display_data"
    },
    {
     "name": "stdout",
     "output_type": "stream",
     "text": [
      "\n",
      "**************************************************\n",
      "\n"
     ]
    },
    {
     "data": {
      "image/png": "[encoded data removed]",
      "text/plain": [
       "<Figure size 576x432 with 1 Axes>"
      ]
     },
     "metadata": {
      "needs_background": "light"
     },
     "output_type": "display_data"
    },
    {
     "name": "stdout",
     "output_type": "stream",
     "text": [
      "\n",
      "**************************************************\n",
      "\n"
     ]
    }
   ],
   "source": [
    "fold: int = 1\n",
    "BLs: list = []\n",
    "BAs: list = []\n",
    "    \n",
    "cfg.batch_size = 64\n",
    "cfg.epochs = 10\n",
    "    \n",
    "for tr_idx, va_idx in StratifiedKFold(n_splits=cfg.n_splits, random_state=cfg.seed, shuffle=True).split(images, labels):\n",
    "\n",
    "    tr_images, va_images = images[tr_idx], images[va_idx] \n",
    "    tr_labels, va_labels = labels[tr_idx], labels[va_idx]\n",
    "    \n",
    "    tr_data_setup = DS(\n",
    "        images=tr_images, \n",
    "        labels=tr_labels.reshape(-1, 1),\n",
    "        transform=cfg.train_transform\n",
    "    )\n",
    "\n",
    "    va_data_setup = DS(\n",
    "        images=va_images, \n",
    "        labels=va_labels.reshape(-1, 1),\n",
    "        transform=cfg.valid_transform\n",
    "    )\n",
    "\n",
    "    dataloaders = {\n",
    "        \"train\" : DL(tr_data_setup, batch_size=cfg.batch_size, shuffle=True, generator=torch.manual_seed(cfg.seed)),\n",
    "        \"valid\" : DL(va_data_setup, batch_size=cfg.batch_size, shuffle=False),\n",
    "    }\n",
    "\n",
    "    cfg.steps_per_epoch=len(dataloaders[\"train\"])\n",
    "    \n",
    "    torch.manual_seed(cfg.seed)\n",
    "    model = Model(filter_sizes=cfg.filter_sizes, HL=cfg.HL).to(cfg.device)\n",
    "\n",
    "    optimizer = optim.Adam([p for p in model.parameters() if p.requires_grad], lr=cfg.lr, weight_decay=cfg.wd)\n",
    "    # optimizer = optim.AdamW([p for p in model.parameters() if p.requires_grad], lr=cfg.lr, weight_decay=cfg.wd)\n",
    "    # optimizer = optim.SGD([p for p in model.parameters() if p.requires_grad], lr=cfg.lr, weight_decay=cfg.wd, momentum=0.9)\n",
    "\n",
    "    scheduler_oclr = optim.lr_scheduler.OneCycleLR(\n",
    "        optimizer=optimizer, \n",
    "        max_lr=cfg.max_lr, \n",
    "        epochs=cfg.epochs, \n",
    "        steps_per_epoch=cfg.steps_per_epoch,\n",
    "        pct_start=cfg.pct_start, \n",
    "        div_factor=cfg.div_factor, \n",
    "        final_div_factor=cfg.final_div_factor\n",
    "    )\n",
    "    \n",
    "    # scheduler_rlrop = optim.lr_scheduler.ReduceLROnPlateau(\n",
    "    #     optimizer=optimizer,\n",
    "    #     patience=cfg.patience,\n",
    "    #     eps=cfg.eps,\n",
    "    #     verbose=True\n",
    "    # )\n",
    "\n",
    "    # scheduler_oclr = None\n",
    "    scheduler_rlrop = None\n",
    "    \n",
    "    L, A, LR, BL, BA, _, _, _, _ = fit(\n",
    "        model=model, \n",
    "        optimizer=optimizer, \n",
    "        scheduler_oclr=scheduler_oclr,\n",
    "        scheduler_rlrop=scheduler_rlrop,\n",
    "        epochs=cfg.epochs, \n",
    "        early_stopping_patience=cfg.early_stopping, \n",
    "        dataloaders=dataloaders, \n",
    "        device=cfg.device,\n",
    "        save_path=cfg.save_path,\n",
    "        fold=fold,\n",
    "        verbose=True\n",
    "    )\n",
    "\n",
    "\n",
    "    breaker()\n",
    "    show_loss_graphs(L)\n",
    "    breaker()\n",
    "    show_accuracy_graphs(A)\n",
    "    breaker()\n",
    "    if scheduler_oclr:\n",
    "        show_lr_graph(LR)\n",
    "        breaker()\n",
    "    \n",
    "    BLs.append(BL)\n",
    "    BAs.append(BA)\n",
    "\n",
    "    fold += 1"
   ]
  },
  {
   "cell_type": "code",
   "execution_count": 9,
   "id": "fafbd7f6",
   "metadata": {
    "execution": {
     "iopub.execute_input": "2023-02-02T12:36:56.088310Z",
     "iopub.status.busy": "2023-02-02T12:36:56.087932Z",
     "iopub.status.idle": "2023-02-02T12:36:56.095241Z",
     "shell.execute_reply": "2023-02-02T12:36:56.094235Z"
    },
    "papermill": {
     "duration": 0.021297,
     "end_time": "2023-02-02T12:36:56.097702",
     "exception": false,
     "start_time": "2023-02-02T12:36:56.076405",
     "status": "completed"
    },
    "tags": []
   },
   "outputs": [
    {
     "name": "stdout",
     "output_type": "stream",
     "text": [
      "\n",
      "**************************************************\n",
      "\n",
      "Best Loss Model Fold     : 5\n",
      "Best Accuracy Model Fold : 2\n",
      "\n",
      "**************************************************\n",
      "\n"
     ]
    }
   ],
   "source": [
    "BL = np.inf\n",
    "for i in range(len(BLs)):\n",
    "    if BLs[i][\"valid\"] < BL:\n",
    "        BL = BLs[i][\"valid\"]\n",
    "        best_loss_index = i\n",
    "\n",
    "        \n",
    "BA = 0.0\n",
    "for i in range(len(BAs)):\n",
    "    if BAs[i][\"valid\"] > BA:\n",
    "        BA = BAs[i][\"valid\"]\n",
    "        best_accs_index = i\n",
    "\n",
    "breaker()\n",
    "print(f\"Best Loss Model Fold     : {best_loss_index + 1}\")\n",
    "print(f\"Best Accuracy Model Fold : {best_accs_index + 1}\")\n",
    "breaker()"
   ]
  }
 ],
 "metadata": {
  "kernelspec": {
   "display_name": "Python 3",
   "language": "python",
   "name": "python3"
  },
  "language_info": {
   "codemirror_mode": {
    "name": "ipython",
    "version": 3
   },
   "file_extension": ".py",
   "mimetype": "text/x-python",
   "name": "python",
   "nbconvert_exporter": "python",
   "pygments_lexer": "ipython3",
   "version": "3.7.12"
  },
  "papermill": {
   "default_parameters": {},
   "duration": 1776.244688,
   "end_time": "2023-02-02T12:36:58.683787",
   "environment_variables": {},
   "exception": null,
   "input_path": "__notebook__.ipynb",
   "output_path": "__notebook__.ipynb",
   "parameters": {},
   "start_time": "2023-02-02T12:07:22.439099",
   "version": "2.3.4"
  }
 },
 "nbformat": 4,
 "nbformat_minor": 5
}
