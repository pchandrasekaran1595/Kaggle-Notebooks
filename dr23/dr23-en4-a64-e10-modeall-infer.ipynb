{
 "cells": [
  {
   "cell_type": "code",
   "execution_count": 1,
   "id": "f656011e",
   "metadata": {
    "_cell_guid": "b1076dfc-b9ad-4769-8c92-a6c4dae69d19",
    "_uuid": "8f2839f25d086af736a60e9eeb907d3b93b6e0e5",
    "execution": {
     "iopub.execute_input": "2023-02-07T11:25:49.862702Z",
     "iopub.status.busy": "2023-02-07T11:25:49.861880Z",
     "iopub.status.idle": "2023-02-07T11:26:00.624608Z",
     "shell.execute_reply": "2023-02-07T11:26:00.623444Z"
    },
    "papermill": {
     "duration": 10.772109,
     "end_time": "2023-02-07T11:26:00.627360",
     "exception": false,
     "start_time": "2023-02-07T11:25:49.855251",
     "status": "completed"
    },
    "tags": []
   },
   "outputs": [
    {
     "name": "stdout",
     "output_type": "stream",
     "text": [
      "\u001b[33mWARNING: Running pip as the 'root' user can result in broken permissions and conflicting behaviour with the system package manager. It is recommended to use a virtual environment instead: https://pip.pypa.io/warnings/venv\u001b[0m\u001b[33m\r\n",
      "\u001b[0m"
     ]
    }
   ],
   "source": [
    "!pip install timm -q"
   ]
  },
  {
   "cell_type": "markdown",
   "id": "20e1c83f",
   "metadata": {
    "papermill": {
     "duration": 0.003803,
     "end_time": "2023-02-07T11:26:00.635515",
     "exception": false,
     "start_time": "2023-02-07T11:26:00.631712",
     "status": "completed"
    },
    "tags": []
   },
   "source": [
    "### **Library Imports**"
   ]
  },
  {
   "cell_type": "code",
   "execution_count": 2,
   "id": "8f1f01e5",
   "metadata": {
    "execution": {
     "iopub.execute_input": "2023-02-07T11:26:00.644625Z",
     "iopub.status.busy": "2023-02-07T11:26:00.644239Z",
     "iopub.status.idle": "2023-02-07T11:26:04.458949Z",
     "shell.execute_reply": "2023-02-07T11:26:04.457906Z"
    },
    "papermill": {
     "duration": 3.822331,
     "end_time": "2023-02-07T11:26:04.461673",
     "exception": false,
     "start_time": "2023-02-07T11:26:00.639342",
     "status": "completed"
    },
    "tags": []
   },
   "outputs": [],
   "source": [
    "import os\n",
    "import re\n",
    "import cv2\n",
    "import timm\n",
    "import torch\n",
    "import numpy as np\n",
    "import pandas as pd\n",
    "import matplotlib.pyplot as plt\n",
    "\n",
    "from time import time\n",
    "from scipy import stats\n",
    "from typing import Union\n",
    "from torch import nn, optim\n",
    "from torch.utils.data import Dataset\n",
    "from torch.utils.data import DataLoader as DL\n",
    "from torchvision import transforms\n",
    "\n",
    "# from sklearn.model_selection import StratifiedKFold"
   ]
  },
  {
   "cell_type": "code",
   "execution_count": 3,
   "id": "e7ac26d7",
   "metadata": {
    "execution": {
     "iopub.execute_input": "2023-02-07T11:26:04.471160Z",
     "iopub.status.busy": "2023-02-07T11:26:04.470864Z",
     "iopub.status.idle": "2023-02-07T11:26:04.481917Z",
     "shell.execute_reply": "2023-02-07T11:26:04.481094Z"
    },
    "papermill": {
     "duration": 0.018082,
     "end_time": "2023-02-07T11:26:04.483944",
     "exception": false,
     "start_time": "2023-02-07T11:26:04.465862",
     "status": "completed"
    },
    "tags": []
   },
   "outputs": [],
   "source": [
    "SEED: int = 42\n",
    "    \n",
    "\n",
    "def breaker(num: int=50, char: str=\"*\") -> None: print(\"\\n\" + num*char + \"\\n\")\n",
    "\n",
    "    \n",
    "def show_loss_graphs(L: list) -> None:\n",
    "    TL, VL = [], []\n",
    "    for i in range(len(L)):\n",
    "        TL.append(L[i][\"train\"])\n",
    "        VL.append(L[i][\"valid\"])\n",
    "    x_Axis = np.arange(1, len(TL) + 1)\n",
    "    plt.figure()\n",
    "    plt.plot(x_Axis, TL, \"r\", label=\"Train\")\n",
    "    plt.plot(x_Axis, VL, \"b\", label=\"Valid\")\n",
    "    plt.legend()\n",
    "    plt.grid()\n",
    "    plt.title(\"Loss Graph\")\n",
    "    plt.show()\n",
    "    \n",
    "\n",
    "def show_accuracy_graphs(A: list) -> None:\n",
    "    TA, VA = [], []\n",
    "    for i in range(len(A)):\n",
    "        TA.append(A[i][\"train\"])\n",
    "        VA.append(A[i][\"valid\"])\n",
    "    x_Axis = np.arange(1, len(TA) + 1)\n",
    "    plt.figure()\n",
    "    plt.plot(x_Axis, TA, \"r\", label=\"Train\")\n",
    "    plt.plot(x_Axis, VA, \"b\", label=\"Valid\")\n",
    "    plt.legend()\n",
    "    plt.grid()\n",
    "    plt.title(\"Accuracy Graph\")\n",
    "    plt.show()\n",
    "    \n",
    "\n",
    "def show_lr_graph(LR: list) -> None:\n",
    "    x_Axis = [i+1 for i in range(len(LR))]\n",
    "    plt.figure(figsize=(8, 6))\n",
    "    plt.plot(x_Axis, LR, \"rx\")\n",
    "    plt.grid()\n",
    "    plt.show()"
   ]
  },
  {
   "cell_type": "code",
   "execution_count": 4,
   "id": "2a9abe3e",
   "metadata": {
    "execution": {
     "iopub.execute_input": "2023-02-07T11:26:04.493365Z",
     "iopub.status.busy": "2023-02-07T11:26:04.493107Z",
     "iopub.status.idle": "2023-02-07T11:26:04.574831Z",
     "shell.execute_reply": "2023-02-07T11:26:04.573956Z"
    },
    "papermill": {
     "duration": 0.088441,
     "end_time": "2023-02-07T11:26:04.576810",
     "exception": false,
     "start_time": "2023-02-07T11:26:04.488369",
     "status": "completed"
    },
    "tags": []
   },
   "outputs": [],
   "source": [
    "class CFG(object):\n",
    "    def __init__(self,\n",
    "             seed: int = 42,\n",
    "             n_splits: int = 5,\n",
    "             batch_size: int = 16,\n",
    "             epochs: int = 25,\n",
    "             early_stopping: int = 5,\n",
    "             lr: float = 1e-4,\n",
    "             wd: float = 0.0,\n",
    "             max_lr: float = 1e-3,\n",
    "             pct_start: float = 0.2,\n",
    "             steps_per_epoch: int = 100,\n",
    "             div_factor: int = 1e3, \n",
    "             final_div_factor: float = 1e3,\n",
    "         ):\n",
    "        \n",
    "        self.seed = seed\n",
    "        self.n_splits = n_splits\n",
    "        self.batch_size = batch_size\n",
    "        self.epochs = epochs\n",
    "        self.early_stopping = early_stopping\n",
    "        self.lr = lr\n",
    "        self.wd = wd\n",
    "        self.max_lr = max_lr\n",
    "        self.pct_start = pct_start\n",
    "        self.steps_per_epoch = steps_per_epoch\n",
    "        self.div_factor = div_factor\n",
    "        self.final_div_factor = final_div_factor\n",
    "        self.device = torch.device(\"cuda\" if torch.cuda.is_available() else \"cpu\")\n",
    "        \n",
    "        self.train_transform = transforms.Compose([\n",
    "            transforms.ToTensor(),\n",
    "            transforms.Normalize([0.13099], [0.30024]),\n",
    "            transforms.RandomAffine(degrees=(-45, 45), translate=(0.15, 0.15), scale=(0.5, 1.5)),\n",
    "            transforms.RandomHorizontalFlip(p=0.25),\n",
    "            transforms.RandomVerticalFlip(p=0.25),\n",
    "        ])\n",
    "        self.valid_transform = transforms.Compose([\n",
    "            transforms.ToTensor(),\n",
    "            transforms.Normalize([0.13099], [0.30024]),\n",
    "        ])\n",
    "        self.save_path = \"saves\"\n",
    "        if not os.path.exists(self.save_path): os.makedirs(self.save_path)\n",
    "\n",
    "\n",
    "cfg = CFG(\n",
    "    seed=SEED, \n",
    ")"
   ]
  },
  {
   "cell_type": "markdown",
   "id": "fed3e39a",
   "metadata": {
    "papermill": {
     "duration": 0.003975,
     "end_time": "2023-02-07T11:26:04.584867",
     "exception": false,
     "start_time": "2023-02-07T11:26:04.580892",
     "status": "completed"
    },
    "tags": []
   },
   "source": [
    "### **Dataset Template**"
   ]
  },
  {
   "cell_type": "code",
   "execution_count": 5,
   "id": "b2aeb394",
   "metadata": {
    "execution": {
     "iopub.execute_input": "2023-02-07T11:26:04.593885Z",
     "iopub.status.busy": "2023-02-07T11:26:04.593608Z",
     "iopub.status.idle": "2023-02-07T11:26:04.600069Z",
     "shell.execute_reply": "2023-02-07T11:26:04.599047Z"
    },
    "papermill": {
     "duration": 0.013448,
     "end_time": "2023-02-07T11:26:04.602230",
     "exception": false,
     "start_time": "2023-02-07T11:26:04.588782",
     "status": "completed"
    },
    "tags": []
   },
   "outputs": [],
   "source": [
    "class DS(Dataset):\n",
    "    def __init__(\n",
    "        self, \n",
    "        images: np.ndarray, \n",
    "        labels: Union[np.ndarray, None]=None, \n",
    "        transform=None\n",
    "    ):\n",
    "    \n",
    "        self.images = images\n",
    "        self.labels = labels\n",
    "        self.transform = transform\n",
    "\n",
    "    def __len__(self):\n",
    "        return self.images.shape[0]\n",
    "\n",
    "    def __getitem__(self, idx):\n",
    "        if self.labels is not None:\n",
    "            return self.transform(self.images[idx]), torch.LongTensor(self.labels[idx])\n",
    "        return self.transform(self.images[idx])"
   ]
  },
  {
   "cell_type": "markdown",
   "id": "9c3499b1",
   "metadata": {
    "papermill": {
     "duration": 0.003844,
     "end_time": "2023-02-07T11:26:04.610083",
     "exception": false,
     "start_time": "2023-02-07T11:26:04.606239",
     "status": "completed"
    },
    "tags": []
   },
   "source": [
    "### **Model**"
   ]
  },
  {
   "cell_type": "code",
   "execution_count": 6,
   "id": "63932d27",
   "metadata": {
    "execution": {
     "iopub.execute_input": "2023-02-07T11:26:04.619173Z",
     "iopub.status.busy": "2023-02-07T11:26:04.618919Z",
     "iopub.status.idle": "2023-02-07T11:26:04.626433Z",
     "shell.execute_reply": "2023-02-07T11:26:04.625589Z"
    },
    "papermill": {
     "duration": 0.014439,
     "end_time": "2023-02-07T11:26:04.628454",
     "exception": false,
     "start_time": "2023-02-07T11:26:04.614015",
     "status": "completed"
    },
    "tags": []
   },
   "outputs": [],
   "source": [
    "class Model(nn.Module):\n",
    "    def __init__(self):\n",
    "        super(Model, self).__init__()\n",
    "            \n",
    "        self.model = timm.create_model(model_name=\"efficientnet_b4\", pretrained=False)\n",
    "        self.model.conv_stem = nn.Conv2d(\n",
    "            in_channels=1,\n",
    "            out_channels=self.model.conv_stem.out_channels,\n",
    "            kernel_size=self.model.conv_stem.kernel_size,\n",
    "            stride=self.model.conv_stem.stride,\n",
    "            padding=self.model.conv_stem.padding\n",
    "        )\n",
    "        self.model.classifier = nn.Linear(in_features=self.model.classifier.in_features, out_features=10)\n",
    "\n",
    "    def forward(self, x):\n",
    "        return nn.LogSoftmax(dim=1)(self.model(x))"
   ]
  },
  {
   "cell_type": "markdown",
   "id": "b737ddc6",
   "metadata": {
    "papermill": {
     "duration": 0.003818,
     "end_time": "2023-02-07T11:26:04.636314",
     "exception": false,
     "start_time": "2023-02-07T11:26:04.632496",
     "status": "completed"
    },
    "tags": []
   },
   "source": [
    "### **Fit and Predict**"
   ]
  },
  {
   "cell_type": "code",
   "execution_count": 7,
   "id": "f87142f4",
   "metadata": {
    "execution": {
     "iopub.execute_input": "2023-02-07T11:26:04.645883Z",
     "iopub.status.busy": "2023-02-07T11:26:04.645624Z",
     "iopub.status.idle": "2023-02-07T11:26:04.656043Z",
     "shell.execute_reply": "2023-02-07T11:26:04.655217Z"
    },
    "papermill": {
     "duration": 0.017568,
     "end_time": "2023-02-07T11:26:04.657950",
     "exception": false,
     "start_time": "2023-02-07T11:26:04.640382",
     "status": "completed"
    },
    "tags": []
   },
   "outputs": [],
   "source": [
    "# def fit(\n",
    "#     model=None,\n",
    "#     optimizer=None, \n",
    "#     scheduler_rlrop=None,\n",
    "#     scheduler_oclr=None,\n",
    "#     epochs=None, \n",
    "#     early_stopping_patience=None, \n",
    "#     dataloaders=None, \n",
    "#     fold=None, \n",
    "#     save_path=None,\n",
    "#     device=None,\n",
    "#     verbose=False\n",
    "# ) -> tuple:\n",
    "    \n",
    "#     def get_accuracy(y_pred, y_true):\n",
    "#         y_pred = torch.argmax(y_pred, dim=1)\n",
    "#         return torch.count_nonzero(y_pred == y_true).item() / len(y_pred)\n",
    "    \n",
    "#     if verbose:\n",
    "#         breaker()\n",
    "#         if fold: print(f\"Training Fold {fold}...\")\n",
    "#         else: print(\"Training ...\")\n",
    "#         breaker()\n",
    "        \n",
    "#     bestLoss: dict = {\"train\" : np.inf, \"valid\" : np.inf} \n",
    "#     bestAccs: dict = {\"train\" : 0.0, \"valid\" : 0.0}\n",
    "        \n",
    "#     Losses: list = []\n",
    "#     Accuracies: list = [] \n",
    "#     LRs: list = []\n",
    "        \n",
    "#     if fold: \n",
    "#         ble_name = f\"ble_state_fold_{fold}.pt\"\n",
    "#         bae_name = f\"bae_state_fold_{fold}.pt\"\n",
    "#     else: \n",
    "#         ble_name = f\"ble_state.pt\"\n",
    "#         bae_name = f\"bae_state.pt\"\n",
    "        \n",
    "#     start_time = time()\n",
    "#     for e in range(epochs):\n",
    "#         e_st = time()\n",
    "#         epochLoss: dict = {\"train\" : 0.0, \"valid\" : 0.0} \n",
    "#         epochAccs: dict = {\"train\" : 0.0, \"valid\" : 0.0}\n",
    "            \n",
    "#         for phase in [\"train\", \"valid\"]:\n",
    "#             if phase == \"train\":\n",
    "#                 model.train()\n",
    "#             else:\n",
    "#                 model.eval()\n",
    "            \n",
    "#             lossPerPass: list = []\n",
    "#             accsPerPass: list = []\n",
    "                \n",
    "#             for X, y in dataloaders[phase]:\n",
    "#                 X, y = X.to(device), y.to(device).view(-1)\n",
    "                \n",
    "#                 optimizer.zero_grad()\n",
    "#                 with torch.set_grad_enabled(phase == \"train\"):\n",
    "#                     output = model(X)\n",
    "#                     loss = nn.NLLLoss()(output, y)\n",
    "#                     if phase == \"train\":\n",
    "#                         loss.backward()\n",
    "#                         optimizer.step()\n",
    "#                         if scheduler_oclr: scheduler_oclr.step()\n",
    "#                 lossPerPass.append(loss.item())\n",
    "#                 accsPerPass.append(get_accuracy(output, y))\n",
    "#             epochLoss[phase] = np.mean(np.array(lossPerPass))\n",
    "#             epochAccs[phase] = np.mean(np.array(accsPerPass))\n",
    "#         if scheduler_oclr: LRs.append(scheduler_oclr.get_last_lr())\n",
    "#         Losses.append(epochLoss)\n",
    "#         Accuracies.append(epochAccs)\n",
    "        \n",
    "#         if scheduler_oclr:\n",
    "#             save_dict = {\"model_state_dict\"     : model.state_dict(),\n",
    "#                          \"optim_state_dict\"     : optimizer.state_dict(),\n",
    "#                          \"scheduler_state_dict\" : scheduler_oclr.state_dict()}\n",
    "        \n",
    "#         elif scheduler_rlrop:\n",
    "#             save_dict = {\"model_state_dict\"     : model.state_dict(),\n",
    "#                          \"optim_state_dict\"     : optimizer.state_dict(),\n",
    "#                          \"scheduler_state_dict\" : scheduler_rlrop.state_dict()}\n",
    "        \n",
    "#         else:\n",
    "#             save_dict = {\"model_state_dict\"     : model.state_dict(),\n",
    "#                          \"optim_state_dict\"     : optimizer.state_dict()}\n",
    "        \n",
    "#         if early_stopping_patience:\n",
    "#             if epochLoss[\"valid\"] < bestLoss[\"valid\"]:\n",
    "#                 bestLoss = epochLoss\n",
    "#                 BLE = e + 1\n",
    "#                 torch.save(save_dict, os.path.join(save_path, ble_name))\n",
    "#                 torch.save(save_dict, os.path.join(save_path, bae_name))\n",
    "#                 early_stopping_step = 0\n",
    "#             else:\n",
    "#                 early_stopping_step += 1\n",
    "#                 if early_stopping_step > early_stopping_patience:\n",
    "#                     print(\"\\nEarly Stopping at Epoch {}\".format(e + 1))\n",
    "#                     break\n",
    "        \n",
    "#         if epochLoss[\"valid\"] < bestLoss[\"valid\"]:\n",
    "#             bestLoss = epochLoss\n",
    "#             BLE = e + 1\n",
    "#             torch.save(save_dict,os.path.join(save_path, ble_name))\n",
    "        \n",
    "#         if epochAccs[\"valid\"] > bestAccs[\"valid\"]:\n",
    "#             bestAccs = epochAccs\n",
    "#             BAE = e + 1\n",
    "#             torch.save(save_dict,os.path.join(save_path, bae_name))\n",
    "        \n",
    "#         if scheduler_rlrop: scheduler_rlrop.step(epochLoss[\"valid\"])\n",
    "        \n",
    "#         if verbose:\n",
    "#             print(\"Epoch: {} | Train Loss: {:.5f} | Valid Loss: {:.5f} |\\\n",
    "#  Train Accs: {:.5f} | Valid Accs: {:.5f} | Time: {:.2f} seconds\".format(\n",
    "#                 e+1, \n",
    "#                 epochLoss[\"train\"], epochLoss[\"valid\"], \n",
    "#                 epochAccs[\"train\"], epochAccs[\"valid\"], \n",
    "#                 time()-e_st)\n",
    "#             )\n",
    "        \n",
    "#     if verbose:                                           \n",
    "#         breaker()\n",
    "#         print(f\"Best Validation Loss at Epoch {BLE}\")\n",
    "#         breaker()\n",
    "#         print(f\"Best Validation Accs at Epoch {BAE}\")\n",
    "#         breaker()\n",
    "#         print(\"Time Taken [{} Epochs] : {:.2f} minutes\".format(len(Losses), (time()-start_time)/60))\n",
    "    \n",
    "#     return Losses, Accuracies, LRs, bestLoss, bestAccs, BLE, BAE, ble_name, bae_name\n",
    "\n",
    "\n",
    "def predict_batch(model=None, dataloader=None, path=None, device=None) -> np.ndarray:\n",
    "    model.load_state_dict(torch.load(path, map_location=device)[\"model_state_dict\"])\n",
    "    model.to(device)    \n",
    "    model.eval()\n",
    "    \n",
    "    y_pred = torch.zeros(1, 1).to(device)\n",
    "    \n",
    "    for X in dataloader:\n",
    "        X = X.to(device)\n",
    "        with torch.no_grad():\n",
    "            output = torch.argmax(torch.exp(model(X)), dim=1)\n",
    "        y_pred = torch.cat((y_pred, output.view(-1, 1)), dim=0)\n",
    "    \n",
    "    return y_pred[1:].detach().cpu().numpy()"
   ]
  },
  {
   "cell_type": "markdown",
   "id": "e6ec6e9a",
   "metadata": {
    "papermill": {
     "duration": 0.004033,
     "end_time": "2023-02-07T11:26:04.666049",
     "exception": false,
     "start_time": "2023-02-07T11:26:04.662016",
     "status": "completed"
    },
    "tags": []
   },
   "source": [
    "### **Train**"
   ]
  },
  {
   "cell_type": "code",
   "execution_count": 8,
   "id": "fd493c45",
   "metadata": {
    "execution": {
     "iopub.execute_input": "2023-02-07T11:26:04.676000Z",
     "iopub.status.busy": "2023-02-07T11:26:04.675257Z",
     "iopub.status.idle": "2023-02-07T11:26:04.679525Z",
     "shell.execute_reply": "2023-02-07T11:26:04.678704Z"
    },
    "papermill": {
     "duration": 0.010893,
     "end_time": "2023-02-07T11:26:04.681243",
     "exception": false,
     "start_time": "2023-02-07T11:26:04.670350",
     "status": "completed"
    },
    "tags": []
   },
   "outputs": [],
   "source": [
    "# df = pd.read_csv(\"/kaggle/input/digit-recognizer-ii-2023/train.csv\")\n",
    "\n",
    "# images = df.iloc[:, 1:].copy().values.reshape(df.shape[0], 28, 28, 1).astype(\"uint8\")\n",
    "# images = np.array([cv2.resize(image, (48, 48), interpolation=cv2.INTER_AREA) for image in images])\n",
    "# labels = df.iloc[:, 0].copy().values"
   ]
  },
  {
   "cell_type": "code",
   "execution_count": 9,
   "id": "fc000cc7",
   "metadata": {
    "execution": {
     "iopub.execute_input": "2023-02-07T11:26:04.692145Z",
     "iopub.status.busy": "2023-02-07T11:26:04.691893Z",
     "iopub.status.idle": "2023-02-07T11:26:04.697273Z",
     "shell.execute_reply": "2023-02-07T11:26:04.696417Z"
    },
    "papermill": {
     "duration": 0.013353,
     "end_time": "2023-02-07T11:26:04.699139",
     "exception": false,
     "start_time": "2023-02-07T11:26:04.685786",
     "status": "completed"
    },
    "tags": []
   },
   "outputs": [],
   "source": [
    "# fold: int = 1\n",
    "# BLs: list = []\n",
    "# BAs: list = []\n",
    "    \n",
    "# cfg.batch_size = 64\n",
    "# cfg.epochs = 10\n",
    "    \n",
    "# for tr_idx, va_idx in StratifiedKFold(n_splits=cfg.n_splits, random_state=cfg.seed, shuffle=True).split(images, labels):\n",
    "\n",
    "#     tr_images, va_images = images[tr_idx], images[va_idx] \n",
    "#     tr_labels, va_labels = labels[tr_idx], labels[va_idx]\n",
    "    \n",
    "#     tr_data_setup = DS(\n",
    "#         images=tr_images, \n",
    "#         labels=tr_labels.reshape(-1, 1),\n",
    "#         transform=cfg.train_transform\n",
    "#     )\n",
    "\n",
    "#     va_data_setup = DS(\n",
    "#         images=va_images, \n",
    "#         labels=va_labels.reshape(-1, 1),\n",
    "#         transform=cfg.valid_transform\n",
    "#     )\n",
    "\n",
    "#     dataloaders = {\n",
    "#         \"train\" : DL(tr_data_setup, batch_size=cfg.batch_size, shuffle=True, generator=torch.manual_seed(cfg.seed)),\n",
    "#         \"valid\" : DL(va_data_setup, batch_size=cfg.batch_size, shuffle=False),\n",
    "#     }\n",
    "\n",
    "#     cfg.steps_per_epoch=len(dataloaders[\"train\"])\n",
    "    \n",
    "#     torch.manual_seed(cfg.seed)\n",
    "#     model = Model().to(cfg.device)\n",
    "\n",
    "#     optimizer = optim.Adam([p for p in model.parameters() if p.requires_grad], lr=cfg.lr, weight_decay=cfg.wd)\n",
    "#     # optimizer = optim.AdamW([p for p in model.parameters() if p.requires_grad], lr=cfg.lr, weight_decay=cfg.wd)\n",
    "#     # optimizer = optim.SGD([p for p in model.parameters() if p.requires_grad], lr=cfg.lr, weight_decay=cfg.wd, momentum=0.9)\n",
    "\n",
    "#     scheduler_oclr = optim.lr_scheduler.OneCycleLR(\n",
    "#         optimizer=optimizer, \n",
    "#         max_lr=cfg.max_lr, \n",
    "#         epochs=cfg.epochs, \n",
    "#         steps_per_epoch=cfg.steps_per_epoch,\n",
    "#         pct_start=cfg.pct_start, \n",
    "#         div_factor=cfg.div_factor, \n",
    "#         final_div_factor=cfg.final_div_factor\n",
    "#     )\n",
    "    \n",
    "#     # scheduler_rlrop = optim.lr_scheduler.ReduceLROnPlateau(\n",
    "#     #     optimizer=optimizer,\n",
    "#     #     patience=cfg.patience,\n",
    "#     #     eps=cfg.eps,\n",
    "#     #     verbose=True\n",
    "#     # )\n",
    "\n",
    "#     # scheduler_oclr = None\n",
    "#     scheduler_rlrop = None\n",
    "    \n",
    "#     L, A, LR, BL, BA, _, _, _, _ = fit(\n",
    "#         model=model, \n",
    "#         optimizer=optimizer, \n",
    "#         scheduler_oclr=scheduler_oclr,\n",
    "#         scheduler_rlrop=scheduler_rlrop,\n",
    "#         epochs=cfg.epochs, \n",
    "#         early_stopping_patience=cfg.early_stopping, \n",
    "#         dataloaders=dataloaders, \n",
    "#         device=cfg.device,\n",
    "#         save_path=cfg.save_path,\n",
    "#         fold=fold,\n",
    "#         verbose=True\n",
    "#     )\n",
    "\n",
    "\n",
    "#     breaker()\n",
    "#     show_loss_graphs(L)\n",
    "#     breaker()\n",
    "#     show_accuracy_graphs(A)\n",
    "#     breaker()\n",
    "#     if scheduler_oclr:\n",
    "#         show_lr_graph(LR)\n",
    "#         breaker()\n",
    "    \n",
    "#     BLs.append(BL)\n",
    "#     BAs.append(BA)\n",
    "\n",
    "#     fold += 1"
   ]
  },
  {
   "cell_type": "markdown",
   "id": "70229c59",
   "metadata": {
    "papermill": {
     "duration": 0.00423,
     "end_time": "2023-02-07T11:26:04.707510",
     "exception": false,
     "start_time": "2023-02-07T11:26:04.703280",
     "status": "completed"
    },
    "tags": []
   },
   "source": [
    "### **Best Model**"
   ]
  },
  {
   "cell_type": "code",
   "execution_count": 10,
   "id": "993f2f75",
   "metadata": {
    "execution": {
     "iopub.execute_input": "2023-02-07T11:26:04.717371Z",
     "iopub.status.busy": "2023-02-07T11:26:04.716639Z",
     "iopub.status.idle": "2023-02-07T11:26:04.721129Z",
     "shell.execute_reply": "2023-02-07T11:26:04.720316Z"
    },
    "papermill": {
     "duration": 0.01134,
     "end_time": "2023-02-07T11:26:04.723002",
     "exception": false,
     "start_time": "2023-02-07T11:26:04.711662",
     "status": "completed"
    },
    "tags": []
   },
   "outputs": [],
   "source": [
    "# BL = np.inf\n",
    "# for i in range(len(BLs)):\n",
    "#     if BLs[i][\"valid\"] < BL:\n",
    "#         BL = BLs[i][\"valid\"]\n",
    "#         best_loss_index = i\n",
    "\n",
    "        \n",
    "# BA = 0.0\n",
    "# for i in range(len(BAs)):\n",
    "#     if BAs[i][\"valid\"] > BA:\n",
    "#         BA = BAs[i][\"valid\"]\n",
    "#         best_accs_index = i\n",
    "\n",
    "# breaker()\n",
    "# print(f\"Best Loss Model Fold     : {best_loss_index + 1}\")\n",
    "# print(f\"Best Accuracy Model Fold : {best_accs_index + 1}\")\n",
    "# breaker()"
   ]
  },
  {
   "cell_type": "markdown",
   "id": "ea8639b0",
   "metadata": {
    "papermill": {
     "duration": 0.004155,
     "end_time": "2023-02-07T11:26:04.731413",
     "exception": false,
     "start_time": "2023-02-07T11:26:04.727258",
     "status": "completed"
    },
    "tags": []
   },
   "source": [
    "### **Submission**"
   ]
  },
  {
   "cell_type": "code",
   "execution_count": 11,
   "id": "4241f6f3",
   "metadata": {
    "execution": {
     "iopub.execute_input": "2023-02-07T11:26:04.741265Z",
     "iopub.status.busy": "2023-02-07T11:26:04.740542Z",
     "iopub.status.idle": "2023-02-07T11:26:08.939981Z",
     "shell.execute_reply": "2023-02-07T11:26:08.938944Z"
    },
    "papermill": {
     "duration": 4.206848,
     "end_time": "2023-02-07T11:26:08.942445",
     "exception": false,
     "start_time": "2023-02-07T11:26:04.735597",
     "status": "completed"
    },
    "tags": []
   },
   "outputs": [],
   "source": [
    "df = pd.read_csv(\"/kaggle/input/digit-recognizer-ii-2023/test.csv\")\n",
    "images = df.copy().values.reshape(df.shape[0], 28, 28, 1).astype(\"uint8\")\n",
    "images = np.array([cv2.resize(image, (48, 48), interpolation=cv2.INTER_AREA) for image in images])\n",
    "\n",
    "cfg.batch_size = 64\n",
    "\n",
    "ts_data_setup = DS(\n",
    "    images=images, \n",
    "    labels=None,\n",
    "    transform=cfg.valid_transform\n",
    ")\n",
    "ts_data = DL(ts_data_setup, batch_size=cfg.batch_size, shuffle=False)\n",
    "\n",
    "model = Model().to(cfg.device)\n",
    "\n",
    "MODEL_BASE_PATH: str = \"/kaggle/input/dr23-en4-a64-e10/saves\""
   ]
  },
  {
   "cell_type": "code",
   "execution_count": 12,
   "id": "c417452c",
   "metadata": {
    "execution": {
     "iopub.execute_input": "2023-02-07T11:26:08.952956Z",
     "iopub.status.busy": "2023-02-07T11:26:08.952661Z",
     "iopub.status.idle": "2023-02-07T11:26:38.747996Z",
     "shell.execute_reply": "2023-02-07T11:26:38.746280Z"
    },
    "papermill": {
     "duration": 29.806935,
     "end_time": "2023-02-07T11:26:38.754082",
     "exception": false,
     "start_time": "2023-02-07T11:26:08.947147",
     "status": "completed"
    },
    "tags": []
   },
   "outputs": [],
   "source": [
    "y_pred_l_1 = predict_batch(\n",
    "    model=model,\n",
    "    dataloader=ts_data,\n",
    "    path=f\"{MODEL_BASE_PATH}/ble_state_fold_1.pt\",\n",
    "    device=cfg.device\n",
    ")\n",
    "\n",
    "y_pred_l_2 = predict_batch(\n",
    "    model=model,\n",
    "    dataloader=ts_data,\n",
    "    path=f\"{MODEL_BASE_PATH}/ble_state_fold_2.pt\",\n",
    "    device=cfg.device\n",
    ")\n",
    "\n",
    "y_pred_l_3 = predict_batch(\n",
    "    model=model,\n",
    "    dataloader=ts_data,\n",
    "    path=f\"{MODEL_BASE_PATH}/ble_state_fold_3.pt\",\n",
    "    device=cfg.device\n",
    ")\n",
    "\n",
    "y_pred_l_4 = predict_batch(\n",
    "    model=model,\n",
    "    dataloader=ts_data,\n",
    "    path=f\"{MODEL_BASE_PATH}/ble_state_fold_4.pt\",\n",
    "    device=cfg.device\n",
    ")\n",
    "\n",
    "y_pred_l_5 = predict_batch(\n",
    "    model=model,\n",
    "    dataloader=ts_data,\n",
    "    path=f\"{MODEL_BASE_PATH}/ble_state_fold_5.pt\",\n",
    "    device=cfg.device\n",
    ")"
   ]
  },
  {
   "cell_type": "code",
   "execution_count": 13,
   "id": "5e78314f",
   "metadata": {
    "execution": {
     "iopub.execute_input": "2023-02-07T11:26:38.773807Z",
     "iopub.status.busy": "2023-02-07T11:26:38.773353Z",
     "iopub.status.idle": "2023-02-07T11:27:02.029950Z",
     "shell.execute_reply": "2023-02-07T11:27:02.028970Z"
    },
    "papermill": {
     "duration": 23.2689,
     "end_time": "2023-02-07T11:27:02.032419",
     "exception": false,
     "start_time": "2023-02-07T11:26:38.763519",
     "status": "completed"
    },
    "tags": []
   },
   "outputs": [],
   "source": [
    "y_pred_a_1 = predict_batch(\n",
    "    model=model,\n",
    "    dataloader=ts_data,\n",
    "    path=f\"{MODEL_BASE_PATH}/bae_state_fold_1.pt\",\n",
    "    device=cfg.device\n",
    ")\n",
    "\n",
    "y_pred_a_2 = predict_batch(\n",
    "    model=model,\n",
    "    dataloader=ts_data,\n",
    "    path=f\"{MODEL_BASE_PATH}/bae_state_fold_2.pt\",\n",
    "    device=cfg.device\n",
    ")\n",
    "\n",
    "y_pred_a_3 = predict_batch(\n",
    "    model=model,\n",
    "    dataloader=ts_data,\n",
    "    path=f\"{MODEL_BASE_PATH}/bae_state_fold_3.pt\",\n",
    "    device=cfg.device\n",
    ")\n",
    "\n",
    "y_pred_a_4 = predict_batch(\n",
    "    model=model,\n",
    "    dataloader=ts_data,\n",
    "    path=f\"{MODEL_BASE_PATH}/bae_state_fold_4.pt\",\n",
    "    device=cfg.device\n",
    ")\n",
    "\n",
    "y_pred_a_5 = predict_batch(\n",
    "    model=model,\n",
    "    dataloader=ts_data,\n",
    "    path=f\"{MODEL_BASE_PATH}/bae_state_fold_5.pt\",\n",
    "    device=cfg.device\n",
    ")"
   ]
  },
  {
   "cell_type": "code",
   "execution_count": 14,
   "id": "17ec0f06",
   "metadata": {
    "execution": {
     "iopub.execute_input": "2023-02-07T11:27:02.044530Z",
     "iopub.status.busy": "2023-02-07T11:27:02.042830Z",
     "iopub.status.idle": "2023-02-07T11:27:02.254524Z",
     "shell.execute_reply": "2023-02-07T11:27:02.253589Z"
    },
    "papermill": {
     "duration": 0.219585,
     "end_time": "2023-02-07T11:27:02.256834",
     "exception": false,
     "start_time": "2023-02-07T11:27:02.037249",
     "status": "completed"
    },
    "tags": []
   },
   "outputs": [],
   "source": [
    "y_pred = np.concatenate((\n",
    "    y_pred_l_1.reshape(1, -1),\n",
    "    y_pred_l_2.reshape(1, -1), \n",
    "    y_pred_l_3.reshape(1, -1), \n",
    "    y_pred_l_4.reshape(1, -1), \n",
    "    y_pred_l_5.reshape(1, -1), \n",
    "    y_pred_a_1.reshape(1, -1),\n",
    "    y_pred_a_2.reshape(1, -1),\n",
    "    y_pred_a_3.reshape(1, -1),\n",
    "    y_pred_a_4.reshape(1, -1),\n",
    "    y_pred_a_5.reshape(1, -1),\n",
    "), axis=0)\n",
    "y_pred = stats.mode(y_pred)[0].reshape(-1).astype(\"uint8\")\n",
    "\n",
    "ss_df = pd.read_csv(\"/kaggle/input/digit-recognizer-ii-2023/sample_submission.csv\")\n",
    "ss_df[\"Label\"] = y_pred\n",
    "ss_df.to_csv(\"submission.csv\", index=False)"
   ]
  }
 ],
 "metadata": {
  "kernelspec": {
   "display_name": "Python 3",
   "language": "python",
   "name": "python3"
  },
  "language_info": {
   "codemirror_mode": {
    "name": "ipython",
    "version": 3
   },
   "file_extension": ".py",
   "mimetype": "text/x-python",
   "name": "python",
   "nbconvert_exporter": "python",
   "pygments_lexer": "ipython3",
   "version": "3.7.12"
  },
  "papermill": {
   "default_parameters": {},
   "duration": 82.29894,
   "end_time": "2023-02-07T11:27:04.514583",
   "environment_variables": {},
   "exception": null,
   "input_path": "__notebook__.ipynb",
   "output_path": "__notebook__.ipynb",
   "parameters": {},
   "start_time": "2023-02-07T11:25:42.215643",
   "version": "2.3.4"
  }
 },
 "nbformat": 4,
 "nbformat_minor": 5
}
