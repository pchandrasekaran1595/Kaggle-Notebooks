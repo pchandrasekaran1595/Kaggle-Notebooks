{
 "cells": [
  {
   "cell_type": "code",
   "execution_count": 1,
   "id": "007247bb",
   "metadata": {
    "_cell_guid": "b1076dfc-b9ad-4769-8c92-a6c4dae69d19",
    "_uuid": "8f2839f25d086af736a60e9eeb907d3b93b6e0e5",
    "execution": {
     "iopub.execute_input": "2023-02-06T11:51:09.781718Z",
     "iopub.status.busy": "2023-02-06T11:51:09.781187Z",
     "iopub.status.idle": "2023-02-06T11:51:20.685000Z",
     "shell.execute_reply": "2023-02-06T11:51:20.683717Z"
    },
    "papermill": {
     "duration": 10.912868,
     "end_time": "2023-02-06T11:51:20.687905",
     "exception": false,
     "start_time": "2023-02-06T11:51:09.775037",
     "status": "completed"
    },
    "tags": []
   },
   "outputs": [
    {
     "name": "stdout",
     "output_type": "stream",
     "text": [
      "\u001b[33mWARNING: Running pip as the 'root' user can result in broken permissions and conflicting behaviour with the system package manager. It is recommended to use a virtual environment instead: https://pip.pypa.io/warnings/venv\u001b[0m\u001b[33m\r\n",
      "\u001b[0m"
     ]
    }
   ],
   "source": [
    "!pip install timm -q"
   ]
  },
  {
   "cell_type": "markdown",
   "id": "60b5535a",
   "metadata": {
    "papermill": {
     "duration": 0.003078,
     "end_time": "2023-02-06T11:51:20.695004",
     "exception": false,
     "start_time": "2023-02-06T11:51:20.691926",
     "status": "completed"
    },
    "tags": []
   },
   "source": [
    "### **Library Imports**"
   ]
  },
  {
   "cell_type": "code",
   "execution_count": 2,
   "id": "8f86addb",
   "metadata": {
    "execution": {
     "iopub.execute_input": "2023-02-06T11:51:20.703327Z",
     "iopub.status.busy": "2023-02-06T11:51:20.702945Z",
     "iopub.status.idle": "2023-02-06T11:51:25.097320Z",
     "shell.execute_reply": "2023-02-06T11:51:25.096227Z"
    },
    "papermill": {
     "duration": 4.401632,
     "end_time": "2023-02-06T11:51:25.099842",
     "exception": false,
     "start_time": "2023-02-06T11:51:20.698210",
     "status": "completed"
    },
    "tags": []
   },
   "outputs": [],
   "source": [
    "import os\n",
    "import re\n",
    "import cv2\n",
    "import timm\n",
    "import torch\n",
    "import numpy as np\n",
    "import pandas as pd\n",
    "import matplotlib.pyplot as plt\n",
    "\n",
    "from time import time\n",
    "from typing import Union\n",
    "from torch import nn, optim\n",
    "from torch.utils.data import Dataset\n",
    "from torch.utils.data import DataLoader as DL\n",
    "from torchvision import transforms\n",
    "\n",
    "from sklearn.model_selection import StratifiedKFold"
   ]
  },
  {
   "cell_type": "code",
   "execution_count": 3,
   "id": "792006fc",
   "metadata": {
    "execution": {
     "iopub.execute_input": "2023-02-06T11:51:25.108856Z",
     "iopub.status.busy": "2023-02-06T11:51:25.107930Z",
     "iopub.status.idle": "2023-02-06T11:51:25.120561Z",
     "shell.execute_reply": "2023-02-06T11:51:25.119631Z"
    },
    "papermill": {
     "duration": 0.019161,
     "end_time": "2023-02-06T11:51:25.122847",
     "exception": false,
     "start_time": "2023-02-06T11:51:25.103686",
     "status": "completed"
    },
    "tags": []
   },
   "outputs": [],
   "source": [
    "SEED: int = 42\n",
    "    \n",
    "\n",
    "def breaker(num: int=50, char: str=\"*\") -> None: print(\"\\n\" + num*char + \"\\n\")\n",
    "\n",
    "    \n",
    "def show_loss_graphs(L: list) -> None:\n",
    "    TL, VL = [], []\n",
    "    for i in range(len(L)):\n",
    "        TL.append(L[i][\"train\"])\n",
    "        VL.append(L[i][\"valid\"])\n",
    "    x_Axis = np.arange(1, len(TL) + 1)\n",
    "    plt.figure()\n",
    "    plt.plot(x_Axis, TL, \"r\", label=\"Train\")\n",
    "    plt.plot(x_Axis, VL, \"b\", label=\"Valid\")\n",
    "    plt.legend()\n",
    "    plt.grid()\n",
    "    plt.title(\"Loss Graph\")\n",
    "    plt.show()\n",
    "    \n",
    "\n",
    "def show_accuracy_graphs(A: list) -> None:\n",
    "    TA, VA = [], []\n",
    "    for i in range(len(A)):\n",
    "        TA.append(A[i][\"train\"])\n",
    "        VA.append(A[i][\"valid\"])\n",
    "    x_Axis = np.arange(1, len(TA) + 1)\n",
    "    plt.figure()\n",
    "    plt.plot(x_Axis, TA, \"r\", label=\"Train\")\n",
    "    plt.plot(x_Axis, VA, \"b\", label=\"Valid\")\n",
    "    plt.legend()\n",
    "    plt.grid()\n",
    "    plt.title(\"Accuracy Graph\")\n",
    "    plt.show()\n",
    "    \n",
    "\n",
    "def show_lr_graph(LR: list) -> None:\n",
    "    x_Axis = [i+1 for i in range(len(LR))]\n",
    "    plt.figure(figsize=(8, 6))\n",
    "    plt.plot(x_Axis, LR, \"rx\")\n",
    "    plt.grid()\n",
    "    plt.show()"
   ]
  },
  {
   "cell_type": "code",
   "execution_count": 4,
   "id": "6d3471dd",
   "metadata": {
    "execution": {
     "iopub.execute_input": "2023-02-06T11:51:25.130701Z",
     "iopub.status.busy": "2023-02-06T11:51:25.130385Z",
     "iopub.status.idle": "2023-02-06T11:51:25.204409Z",
     "shell.execute_reply": "2023-02-06T11:51:25.203419Z"
    },
    "papermill": {
     "duration": 0.080758,
     "end_time": "2023-02-06T11:51:25.206838",
     "exception": false,
     "start_time": "2023-02-06T11:51:25.126080",
     "status": "completed"
    },
    "tags": []
   },
   "outputs": [],
   "source": [
    "class CFG(object):\n",
    "    def __init__(self,\n",
    "             seed: int = 42,\n",
    "             n_splits: int = 5,\n",
    "             batch_size: int = 16,\n",
    "             epochs: int = 25,\n",
    "             early_stopping: int = 5,\n",
    "             lr: float = 1e-4,\n",
    "             wd: float = 0.0,\n",
    "             max_lr: float = 1e-3,\n",
    "             pct_start: float = 0.2,\n",
    "             steps_per_epoch: int = 100,\n",
    "             div_factor: int = 1e3, \n",
    "             final_div_factor: float = 1e3,\n",
    "         ):\n",
    "        \n",
    "        self.seed = seed\n",
    "        self.n_splits = n_splits\n",
    "        self.batch_size = batch_size\n",
    "        self.epochs = epochs\n",
    "        self.early_stopping = early_stopping\n",
    "        self.lr = lr\n",
    "        self.wd = wd\n",
    "        self.max_lr = max_lr\n",
    "        self.pct_start = pct_start\n",
    "        self.steps_per_epoch = steps_per_epoch\n",
    "        self.div_factor = div_factor\n",
    "        self.final_div_factor = final_div_factor\n",
    "        self.device = torch.device(\"cuda\" if torch.cuda.is_available() else \"cpu\")\n",
    "        \n",
    "        self.train_transform = transforms.Compose([\n",
    "            transforms.ToTensor(),\n",
    "            transforms.Normalize([0.13098], [0.29752]),\n",
    "            transforms.RandomAffine(degrees=(-45, 45), translate=(0.15, 0.15), scale=(0.5, 1.5)),\n",
    "            transforms.RandomHorizontalFlip(p=0.25),\n",
    "            transforms.RandomVerticalFlip(p=0.25),\n",
    "        ])\n",
    "        self.valid_transform = transforms.Compose([\n",
    "            transforms.ToTensor(),\n",
    "            transforms.Normalize([0.13098], [0.29752]),\n",
    "        ])\n",
    "        self.save_path = \"saves\"\n",
    "        if not os.path.exists(self.save_path): os.makedirs(self.save_path)\n",
    "\n",
    "\n",
    "cfg = CFG(\n",
    "    seed=SEED, \n",
    ")"
   ]
  },
  {
   "cell_type": "markdown",
   "id": "4445f55e",
   "metadata": {
    "papermill": {
     "duration": 0.003313,
     "end_time": "2023-02-06T11:51:25.213766",
     "exception": false,
     "start_time": "2023-02-06T11:51:25.210453",
     "status": "completed"
    },
    "tags": []
   },
   "source": [
    "### **Dataset Template**"
   ]
  },
  {
   "cell_type": "code",
   "execution_count": 5,
   "id": "a2e16b81",
   "metadata": {
    "execution": {
     "iopub.execute_input": "2023-02-06T11:51:25.221447Z",
     "iopub.status.busy": "2023-02-06T11:51:25.221073Z",
     "iopub.status.idle": "2023-02-06T11:51:25.227616Z",
     "shell.execute_reply": "2023-02-06T11:51:25.226694Z"
    },
    "papermill": {
     "duration": 0.012711,
     "end_time": "2023-02-06T11:51:25.229608",
     "exception": false,
     "start_time": "2023-02-06T11:51:25.216897",
     "status": "completed"
    },
    "tags": []
   },
   "outputs": [],
   "source": [
    "class DS(Dataset):\n",
    "    def __init__(\n",
    "        self, \n",
    "        images: np.ndarray, \n",
    "        labels: Union[np.ndarray, None]=None, \n",
    "        transform=None\n",
    "    ):\n",
    "    \n",
    "        self.images = images\n",
    "        self.labels = labels\n",
    "        self.transform = transform\n",
    "\n",
    "    def __len__(self):\n",
    "        return self.images.shape[0]\n",
    "\n",
    "    def __getitem__(self, idx):\n",
    "        if self.labels is not None:\n",
    "            return self.transform(self.images[idx]), torch.LongTensor(self.labels[idx])\n",
    "        return self.transform(self.images[idx])"
   ]
  },
  {
   "cell_type": "markdown",
   "id": "56753203",
   "metadata": {
    "papermill": {
     "duration": 0.00311,
     "end_time": "2023-02-06T11:51:25.236143",
     "exception": false,
     "start_time": "2023-02-06T11:51:25.233033",
     "status": "completed"
    },
    "tags": []
   },
   "source": [
    "### **Model**"
   ]
  },
  {
   "cell_type": "code",
   "execution_count": 6,
   "id": "9c3368d4",
   "metadata": {
    "execution": {
     "iopub.execute_input": "2023-02-06T11:51:25.243979Z",
     "iopub.status.busy": "2023-02-06T11:51:25.243702Z",
     "iopub.status.idle": "2023-02-06T11:51:25.251593Z",
     "shell.execute_reply": "2023-02-06T11:51:25.250636Z"
    },
    "papermill": {
     "duration": 0.014325,
     "end_time": "2023-02-06T11:51:25.253620",
     "exception": false,
     "start_time": "2023-02-06T11:51:25.239295",
     "status": "completed"
    },
    "tags": []
   },
   "outputs": [],
   "source": [
    "class Model(nn.Module):\n",
    "    def __init__(self):\n",
    "        super(Model, self).__init__()\n",
    "            \n",
    "        self.model = timm.create_model(model_name=\"efficientnet_b4\", pretrained=True)\n",
    "        self.model.conv_stem = nn.Conv2d(\n",
    "            in_channels=1,\n",
    "            out_channels=self.model.conv_stem.out_channels,\n",
    "            kernel_size=self.model.conv_stem.kernel_size,\n",
    "            stride=self.model.conv_stem.stride,\n",
    "            padding=self.model.conv_stem.padding\n",
    "        )\n",
    "        self.model.classifier = nn.Linear(in_features=self.model.classifier.in_features, out_features=10)\n",
    "\n",
    "    def forward(self, x):\n",
    "        return nn.LogSoftmax(dim=1)(self.model(x))"
   ]
  },
  {
   "cell_type": "markdown",
   "id": "31b33a98",
   "metadata": {
    "papermill": {
     "duration": 0.003143,
     "end_time": "2023-02-06T11:51:25.260010",
     "exception": false,
     "start_time": "2023-02-06T11:51:25.256867",
     "status": "completed"
    },
    "tags": []
   },
   "source": [
    "### **Fit and Predict**"
   ]
  },
  {
   "cell_type": "code",
   "execution_count": 7,
   "id": "b425c71b",
   "metadata": {
    "execution": {
     "iopub.execute_input": "2023-02-06T11:51:25.268252Z",
     "iopub.status.busy": "2023-02-06T11:51:25.267962Z",
     "iopub.status.idle": "2023-02-06T11:51:25.288703Z",
     "shell.execute_reply": "2023-02-06T11:51:25.287794Z"
    },
    "papermill": {
     "duration": 0.027195,
     "end_time": "2023-02-06T11:51:25.290679",
     "exception": false,
     "start_time": "2023-02-06T11:51:25.263484",
     "status": "completed"
    },
    "tags": []
   },
   "outputs": [],
   "source": [
    "def fit(\n",
    "    model=None,\n",
    "    optimizer=None, \n",
    "    scheduler_rlrop=None,\n",
    "    scheduler_oclr=None,\n",
    "    epochs=None, \n",
    "    early_stopping_patience=None, \n",
    "    dataloaders=None, \n",
    "    fold=None, \n",
    "    save_path=None,\n",
    "    device=None,\n",
    "    verbose=False\n",
    ") -> tuple:\n",
    "    \n",
    "    def get_accuracy(y_pred, y_true):\n",
    "        y_pred = torch.argmax(y_pred, dim=1)\n",
    "        return torch.count_nonzero(y_pred == y_true).item() / len(y_pred)\n",
    "    \n",
    "    if verbose:\n",
    "        breaker()\n",
    "        if fold: print(f\"Training Fold {fold}...\")\n",
    "        else: print(\"Training ...\")\n",
    "        breaker()\n",
    "        \n",
    "    bestLoss: dict = {\"train\" : np.inf, \"valid\" : np.inf} \n",
    "    bestAccs: dict = {\"train\" : 0.0, \"valid\" : 0.0}\n",
    "        \n",
    "    Losses: list = []\n",
    "    Accuracies: list = [] \n",
    "    LRs: list = []\n",
    "        \n",
    "    if fold: \n",
    "        ble_name = f\"ble_state_fold_{fold}.pt\"\n",
    "        bae_name = f\"bae_state_fold_{fold}.pt\"\n",
    "    else: \n",
    "        ble_name = f\"ble_state.pt\"\n",
    "        bae_name = f\"bae_state.pt\"\n",
    "        \n",
    "    start_time = time()\n",
    "    for e in range(epochs):\n",
    "        e_st = time()\n",
    "        epochLoss: dict = {\"train\" : 0.0, \"valid\" : 0.0} \n",
    "        epochAccs: dict = {\"train\" : 0.0, \"valid\" : 0.0}\n",
    "            \n",
    "        for phase in [\"train\", \"valid\"]:\n",
    "            if phase == \"train\":\n",
    "                model.train()\n",
    "            else:\n",
    "                model.eval()\n",
    "            \n",
    "            lossPerPass: list = []\n",
    "            accsPerPass: list = []\n",
    "                \n",
    "            for X, y in dataloaders[phase]:\n",
    "                X, y = X.to(device), y.to(device).view(-1)\n",
    "                \n",
    "                optimizer.zero_grad()\n",
    "                with torch.set_grad_enabled(phase == \"train\"):\n",
    "                    output = model(X)\n",
    "                    loss = nn.NLLLoss()(output, y)\n",
    "                    if phase == \"train\":\n",
    "                        loss.backward()\n",
    "                        optimizer.step()\n",
    "                        if scheduler_oclr: scheduler_oclr.step()\n",
    "                lossPerPass.append(loss.item())\n",
    "                accsPerPass.append(get_accuracy(output, y))\n",
    "            epochLoss[phase] = np.mean(np.array(lossPerPass))\n",
    "            epochAccs[phase] = np.mean(np.array(accsPerPass))\n",
    "        if scheduler_oclr: LRs.append(scheduler_oclr.get_last_lr())\n",
    "        Losses.append(epochLoss)\n",
    "        Accuracies.append(epochAccs)\n",
    "        \n",
    "        if scheduler_oclr:\n",
    "            save_dict = {\"model_state_dict\"     : model.state_dict(),\n",
    "                         \"optim_state_dict\"     : optimizer.state_dict(),\n",
    "                         \"scheduler_state_dict\" : scheduler_oclr.state_dict()}\n",
    "        \n",
    "        elif scheduler_rlrop:\n",
    "            save_dict = {\"model_state_dict\"     : model.state_dict(),\n",
    "                         \"optim_state_dict\"     : optimizer.state_dict(),\n",
    "                         \"scheduler_state_dict\" : scheduler_rlrop.state_dict()}\n",
    "        \n",
    "        else:\n",
    "            save_dict = {\"model_state_dict\"     : model.state_dict(),\n",
    "                         \"optim_state_dict\"     : optimizer.state_dict()}\n",
    "        \n",
    "        if early_stopping_patience:\n",
    "            if epochLoss[\"valid\"] < bestLoss[\"valid\"]:\n",
    "                bestLoss = epochLoss\n",
    "                BLE = e + 1\n",
    "                torch.save(save_dict, os.path.join(save_path, ble_name))\n",
    "                torch.save(save_dict, os.path.join(save_path, bae_name))\n",
    "                early_stopping_step = 0\n",
    "            else:\n",
    "                early_stopping_step += 1\n",
    "                if early_stopping_step > early_stopping_patience:\n",
    "                    print(\"\\nEarly Stopping at Epoch {}\".format(e + 1))\n",
    "                    break\n",
    "        \n",
    "        if epochLoss[\"valid\"] < bestLoss[\"valid\"]:\n",
    "            bestLoss = epochLoss\n",
    "            BLE = e + 1\n",
    "            torch.save(save_dict,os.path.join(save_path, ble_name))\n",
    "        \n",
    "        if epochAccs[\"valid\"] > bestAccs[\"valid\"]:\n",
    "            bestAccs = epochAccs\n",
    "            BAE = e + 1\n",
    "            torch.save(save_dict,os.path.join(save_path, bae_name))\n",
    "        \n",
    "        if scheduler_rlrop: scheduler_rlrop.step(epochLoss[\"valid\"])\n",
    "        \n",
    "        if verbose:\n",
    "            print(\"Epoch: {} | Train Loss: {:.5f} | Valid Loss: {:.5f} |\\\n",
    " Train Accs: {:.5f} | Valid Accs: {:.5f} | Time: {:.2f} seconds\".format(\n",
    "                e+1, \n",
    "                epochLoss[\"train\"], epochLoss[\"valid\"], \n",
    "                epochAccs[\"train\"], epochAccs[\"valid\"], \n",
    "                time()-e_st)\n",
    "            )\n",
    "        \n",
    "    if verbose:                                           \n",
    "        breaker()\n",
    "        print(f\"Best Validation Loss at Epoch {BLE}\")\n",
    "        breaker()\n",
    "        print(f\"Best Validation Accs at Epoch {BAE}\")\n",
    "        breaker()\n",
    "        print(\"Time Taken [{} Epochs] : {:.2f} minutes\".format(len(Losses), (time()-start_time)/60))\n",
    "    \n",
    "    return Losses, Accuracies, LRs, bestLoss, bestAccs, BLE, BAE, ble_name, bae_name\n",
    "\n",
    "\n",
    "# def predict_batch(model=None, dataloader=None, path=None, device=None) -> np.ndarray:\n",
    "#     model.load_state_dict(torch.load(path, map_location=device)[\"model_state_dict\"])\n",
    "#     model.to(device)    \n",
    "#     model.eval()\n",
    "    \n",
    "#     y_pred = torch.zeros(1, 1).to(device)\n",
    "    \n",
    "#     for X in dataloader:\n",
    "#         X = X.to(device)\n",
    "#         with torch.no_grad():\n",
    "#             output = torch.argmax(torch.exp(model(X)), dim=1)\n",
    "#         y_pred = torch.cat((y_pred, output.view(-1, 1)), dim=0)\n",
    "    \n",
    "#     return y_pred[1:].detach().cpu().numpy()"
   ]
  },
  {
   "cell_type": "markdown",
   "id": "b1d6fa56",
   "metadata": {
    "papermill": {
     "duration": 0.003139,
     "end_time": "2023-02-06T11:51:25.297408",
     "exception": false,
     "start_time": "2023-02-06T11:51:25.294269",
     "status": "completed"
    },
    "tags": []
   },
   "source": [
    "### **Train**"
   ]
  },
  {
   "cell_type": "code",
   "execution_count": 8,
   "id": "342e3660",
   "metadata": {
    "execution": {
     "iopub.execute_input": "2023-02-06T11:51:25.305654Z",
     "iopub.status.busy": "2023-02-06T11:51:25.305374Z",
     "iopub.status.idle": "2023-02-06T11:51:29.116020Z",
     "shell.execute_reply": "2023-02-06T11:51:29.115014Z"
    },
    "papermill": {
     "duration": 3.817757,
     "end_time": "2023-02-06T11:51:29.118528",
     "exception": false,
     "start_time": "2023-02-06T11:51:25.300771",
     "status": "completed"
    },
    "tags": []
   },
   "outputs": [],
   "source": [
    "df = pd.read_csv(\"/kaggle/input/digit-recognizer-ii-2023/train.csv\")\n",
    "\n",
    "images = df.iloc[:, 1:].copy().values.reshape(df.shape[0], 28, 28, 1).astype(\"uint8\")\n",
    "images = np.array([cv2.resize(image, (48, 48), interpolation=cv2.INTER_AREA) for image in images])\n",
    "labels = df.iloc[:, 0].copy().values"
   ]
  },
  {
   "cell_type": "code",
   "execution_count": 9,
   "id": "4fc81402",
   "metadata": {
    "execution": {
     "iopub.execute_input": "2023-02-06T11:51:29.127496Z",
     "iopub.status.busy": "2023-02-06T11:51:29.127182Z",
     "iopub.status.idle": "2023-02-06T13:10:02.399054Z",
     "shell.execute_reply": "2023-02-06T13:10:02.398058Z"
    },
    "papermill": {
     "duration": 4713.278928,
     "end_time": "2023-02-06T13:10:02.401382",
     "exception": false,
     "start_time": "2023-02-06T11:51:29.122454",
     "status": "completed"
    },
    "tags": []
   },
   "outputs": [
    {
     "name": "stderr",
     "output_type": "stream",
     "text": [
      "Downloading: \"https://github.com/rwightman/pytorch-image-models/releases/download/v0.1-weights/efficientnet_b4_ra2_320-7eb33cd5.pth\" to /root/.cache/torch/hub/checkpoints/efficientnet_b4_ra2_320-7eb33cd5.pth\n"
     ]
    },
    {
     "name": "stdout",
     "output_type": "stream",
     "text": [
      "\n",
      "**************************************************\n",
      "\n",
      "Training Fold 1...\n",
      "\n",
      "**************************************************\n",
      "\n",
      "Epoch: 1 | Train Loss: 2.05711 | Valid Loss: 1.20393 | Train Accs: 0.24464 | Valid Accs: 0.58014 | Time: 100.67 seconds\n",
      "Epoch: 2 | Train Loss: 1.20708 | Valid Loss: 0.40723 | Train Accs: 0.57655 | Valid Accs: 0.86281 | Time: 94.06 seconds\n",
      "Epoch: 3 | Train Loss: 0.69333 | Valid Loss: 0.21738 | Train Accs: 0.76628 | Valid Accs: 0.93383 | Time: 93.85 seconds\n",
      "Epoch: 4 | Train Loss: 0.45847 | Valid Loss: 0.16332 | Train Accs: 0.84679 | Valid Accs: 0.94981 | Time: 94.22 seconds\n",
      "Epoch: 5 | Train Loss: 0.34629 | Valid Loss: 0.11512 | Train Accs: 0.88640 | Valid Accs: 0.96461 | Time: 93.62 seconds\n",
      "Epoch: 6 | Train Loss: 0.28699 | Valid Loss: 0.09917 | Train Accs: 0.90432 | Valid Accs: 0.96804 | Time: 93.91 seconds\n",
      "Epoch: 7 | Train Loss: 0.24659 | Valid Loss: 0.10070 | Train Accs: 0.91848 | Valid Accs: 0.96697 | Time: 91.59 seconds\n",
      "Epoch: 8 | Train Loss: 0.21930 | Valid Loss: 0.09105 | Train Accs: 0.92693 | Valid Accs: 0.97195 | Time: 92.98 seconds\n",
      "Epoch: 9 | Train Loss: 0.19651 | Valid Loss: 0.08314 | Train Accs: 0.93565 | Valid Accs: 0.97420 | Time: 93.75 seconds\n",
      "Epoch: 10 | Train Loss: 0.19303 | Valid Loss: 0.08461 | Train Accs: 0.93530 | Valid Accs: 0.97360 | Time: 90.98 seconds\n",
      "\n",
      "**************************************************\n",
      "\n",
      "Best Validation Loss at Epoch 9\n",
      "\n",
      "**************************************************\n",
      "\n",
      "Best Validation Accs at Epoch 9\n",
      "\n",
      "**************************************************\n",
      "\n",
      "Time Taken [10 Epochs] : 15.66 minutes\n",
      "\n",
      "**************************************************\n",
      "\n"
     ]
    },
    {
     "data": {
      "image/png": "[encoded data removed]",
      "text/plain": [
       "<Figure size 432x288 with 1 Axes>"
      ]
     },
     "metadata": {
      "needs_background": "light"
     },
     "output_type": "display_data"
    },
    {
     "name": "stdout",
     "output_type": "stream",
     "text": [
      "\n",
      "**************************************************\n",
      "\n"
     ]
    },
    {
     "data": {
      "image/png": "[encoded data removed]",
      "text/plain": [
       "<Figure size 432x288 with 1 Axes>"
      ]
     },
     "metadata": {
      "needs_background": "light"
     },
     "output_type": "display_data"
    },
    {
     "name": "stdout",
     "output_type": "stream",
     "text": [
      "\n",
      "**************************************************\n",
      "\n"
     ]
    },
    {
     "data": {
      "image/png": "[encoded data removed]",
      "text/plain": [
       "<Figure size 576x432 with 1 Axes>"
      ]
     },
     "metadata": {
      "needs_background": "light"
     },
     "output_type": "display_data"
    },
    {
     "name": "stdout",
     "output_type": "stream",
     "text": [
      "\n",
      "**************************************************\n",
      "\n",
      "\n",
      "**************************************************\n",
      "\n",
      "Training Fold 2...\n",
      "\n",
      "**************************************************\n",
      "\n",
      "Epoch: 1 | Train Loss: 2.06842 | Valid Loss: 1.51154 | Train Accs: 0.24057 | Valid Accs: 0.55386 | Time: 92.52 seconds\n",
      "Epoch: 2 | Train Loss: 1.34757 | Valid Loss: 0.54209 | Train Accs: 0.52872 | Valid Accs: 0.82398 | Time: 93.89 seconds\n",
      "Epoch: 3 | Train Loss: 0.82861 | Valid Loss: 0.27652 | Train Accs: 0.71759 | Valid Accs: 0.90767 | Time: 93.81 seconds\n",
      "Epoch: 4 | Train Loss: 0.56747 | Valid Loss: 0.18199 | Train Accs: 0.80836 | Valid Accs: 0.94141 | Time: 93.46 seconds\n",
      "Epoch: 5 | Train Loss: 0.43371 | Valid Loss: 0.12622 | Train Accs: 0.85494 | Valid Accs: 0.96035 | Time: 93.69 seconds\n",
      "Epoch: 6 | Train Loss: 0.35337 | Valid Loss: 0.12966 | Train Accs: 0.88241 | Valid Accs: 0.95810 | Time: 91.86 seconds\n",
      "Epoch: 7 | Train Loss: 0.30288 | Valid Loss: 0.10831 | Train Accs: 0.89842 | Valid Accs: 0.96378 | Time: 93.53 seconds\n",
      "Epoch: 8 | Train Loss: 0.27110 | Valid Loss: 0.12568 | Train Accs: 0.90982 | Valid Accs: 0.95348 | Time: 91.82 seconds\n",
      "Epoch: 9 | Train Loss: 0.24735 | Valid Loss: 0.09309 | Train Accs: 0.91682 | Valid Accs: 0.96934 | Time: 93.66 seconds\n",
      "Epoch: 10 | Train Loss: 0.23219 | Valid Loss: 0.09271 | Train Accs: 0.92170 | Valid Accs: 0.97064 | Time: 93.69 seconds\n",
      "\n",
      "**************************************************\n",
      "\n",
      "Best Validation Loss at Epoch 10\n",
      "\n",
      "**************************************************\n",
      "\n",
      "Best Validation Accs at Epoch 10\n",
      "\n",
      "**************************************************\n",
      "\n",
      "Time Taken [10 Epochs] : 15.53 minutes\n",
      "\n",
      "**************************************************\n",
      "\n"
     ]
    },
    {
     "data": {
      "image/png": "[encoded data removed]",
      "text/plain": [
       "<Figure size 432x288 with 1 Axes>"
      ]
     },
     "metadata": {
      "needs_background": "light"
     },
     "output_type": "display_data"
    },
    {
     "name": "stdout",
     "output_type": "stream",
     "text": [
      "\n",
      "**************************************************\n",
      "\n"
     ]
    },
    {
     "data": {
      "image/png": "[encoded data removed]",
      "text/plain": [
       "<Figure size 432x288 with 1 Axes>"
      ]
     },
     "metadata": {
      "needs_background": "light"
     },
     "output_type": "display_data"
    },
    {
     "name": "stdout",
     "output_type": "stream",
     "text": [
      "\n",
      "**************************************************\n",
      "\n"
     ]
    },
    {
     "data": {
      "image/png": "[encoded data removed]",
      "text/plain": [
       "<Figure size 576x432 with 1 Axes>"
      ]
     },
     "metadata": {
      "needs_background": "light"
     },
     "output_type": "display_data"
    },
    {
     "name": "stdout",
     "output_type": "stream",
     "text": [
      "\n",
      "**************************************************\n",
      "\n",
      "\n",
      "**************************************************\n",
      "\n",
      "Training Fold 3...\n",
      "\n",
      "**************************************************\n",
      "\n",
      "Epoch: 1 | Train Loss: 2.07426 | Valid Loss: 1.58943 | Train Accs: 0.23485 | Valid Accs: 0.53030 | Time: 93.12 seconds\n",
      "Epoch: 2 | Train Loss: 1.27046 | Valid Loss: 0.47403 | Train Accs: 0.55690 | Valid Accs: 0.83700 | Time: 93.61 seconds\n",
      "Epoch: 3 | Train Loss: 0.74236 | Valid Loss: 0.26142 | Train Accs: 0.74682 | Valid Accs: 0.91868 | Time: 94.00 seconds\n",
      "Epoch: 4 | Train Loss: 0.48322 | Valid Loss: 0.16607 | Train Accs: 0.83702 | Valid Accs: 0.94827 | Time: 93.56 seconds\n",
      "Epoch: 5 | Train Loss: 0.37116 | Valid Loss: 0.13040 | Train Accs: 0.87592 | Valid Accs: 0.95798 | Time: 94.80 seconds\n",
      "Epoch: 6 | Train Loss: 0.31279 | Valid Loss: 0.11904 | Train Accs: 0.89586 | Valid Accs: 0.96307 | Time: 94.81 seconds\n",
      "Epoch: 7 | Train Loss: 0.26161 | Valid Loss: 0.10822 | Train Accs: 0.91137 | Valid Accs: 0.96674 | Time: 94.87 seconds\n",
      "Epoch: 8 | Train Loss: 0.22850 | Valid Loss: 0.08852 | Train Accs: 0.92298 | Valid Accs: 0.97254 | Time: 96.66 seconds\n",
      "Epoch: 9 | Train Loss: 0.20830 | Valid Loss: 0.09000 | Train Accs: 0.92955 | Valid Accs: 0.97195 | Time: 95.51 seconds\n",
      "Epoch: 10 | Train Loss: 0.20622 | Valid Loss: 0.08622 | Train Accs: 0.93164 | Valid Accs: 0.97372 | Time: 94.89 seconds\n",
      "\n",
      "**************************************************\n",
      "\n",
      "Best Validation Loss at Epoch 10\n",
      "\n",
      "**************************************************\n",
      "\n",
      "Best Validation Accs at Epoch 10\n",
      "\n",
      "**************************************************\n",
      "\n",
      "Time Taken [10 Epochs] : 15.76 minutes\n",
      "\n",
      "**************************************************\n",
      "\n"
     ]
    },
    {
     "data": {
      "image/png": "[encoded data removed]",
      "text/plain": [
       "<Figure size 432x288 with 1 Axes>"
      ]
     },
     "metadata": {
      "needs_background": "light"
     },
     "output_type": "display_data"
    },
    {
     "name": "stdout",
     "output_type": "stream",
     "text": [
      "\n",
      "**************************************************\n",
      "\n"
     ]
    },
    {
     "data": {
      "image/png": "[encoded data removed]",
      "text/plain": [
       "<Figure size 432x288 with 1 Axes>"
      ]
     },
     "metadata": {
      "needs_background": "light"
     },
     "output_type": "display_data"
    },
    {
     "name": "stdout",
     "output_type": "stream",
     "text": [
      "\n",
      "**************************************************\n",
      "\n"
     ]
    },
    {
     "data": {
      "image/png": "[encoded data removed]",
      "text/plain": [
       "<Figure size 576x432 with 1 Axes>"
      ]
     },
     "metadata": {
      "needs_background": "light"
     },
     "output_type": "display_data"
    },
    {
     "name": "stdout",
     "output_type": "stream",
     "text": [
      "\n",
      "**************************************************\n",
      "\n",
      "\n",
      "**************************************************\n",
      "\n",
      "Training Fold 4...\n",
      "\n",
      "**************************************************\n",
      "\n",
      "Epoch: 1 | Train Loss: 2.07878 | Valid Loss: 1.35291 | Train Accs: 0.23643 | Valid Accs: 0.53480 | Time: 94.09 seconds\n",
      "Epoch: 2 | Train Loss: 1.30755 | Valid Loss: 0.54121 | Train Accs: 0.53955 | Valid Accs: 0.81925 | Time: 94.06 seconds\n",
      "Epoch: 3 | Train Loss: 0.81084 | Valid Loss: 0.29721 | Train Accs: 0.72286 | Valid Accs: 0.92022 | Time: 93.89 seconds\n",
      "Epoch: 4 | Train Loss: 0.53603 | Valid Loss: 0.15684 | Train Accs: 0.81866 | Valid Accs: 0.95312 | Time: 94.16 seconds\n",
      "Epoch: 5 | Train Loss: 0.40385 | Valid Loss: 0.12755 | Train Accs: 0.86771 | Valid Accs: 0.96153 | Time: 94.82 seconds\n",
      "Epoch: 6 | Train Loss: 0.32446 | Valid Loss: 0.11009 | Train Accs: 0.89247 | Valid Accs: 0.96615 | Time: 94.56 seconds\n",
      "Epoch: 7 | Train Loss: 0.27865 | Valid Loss: 0.10535 | Train Accs: 0.90631 | Valid Accs: 0.96591 | Time: 93.67 seconds\n",
      "Epoch: 8 | Train Loss: 0.24168 | Valid Loss: 0.08825 | Train Accs: 0.92015 | Valid Accs: 0.97147 | Time: 94.47 seconds\n",
      "Epoch: 9 | Train Loss: 0.22470 | Valid Loss: 0.08713 | Train Accs: 0.92482 | Valid Accs: 0.97230 | Time: 94.68 seconds\n",
      "Epoch: 10 | Train Loss: 0.22312 | Valid Loss: 0.10417 | Train Accs: 0.92515 | Valid Accs: 0.96532 | Time: 92.60 seconds\n",
      "\n",
      "**************************************************\n",
      "\n",
      "Best Validation Loss at Epoch 9\n",
      "\n",
      "**************************************************\n",
      "\n",
      "Best Validation Accs at Epoch 9\n",
      "\n",
      "**************************************************\n",
      "\n",
      "Time Taken [10 Epochs] : 15.68 minutes\n",
      "\n",
      "**************************************************\n",
      "\n"
     ]
    },
    {
     "data": {
      "image/png": "[encoded data removed]",
      "text/plain": [
       "<Figure size 432x288 with 1 Axes>"
      ]
     },
     "metadata": {
      "needs_background": "light"
     },
     "output_type": "display_data"
    },
    {
     "name": "stdout",
     "output_type": "stream",
     "text": [
      "\n",
      "**************************************************\n",
      "\n"
     ]
    },
    {
     "data": {
      "image/png": "[encoded data removed]",
      "text/plain": [
       "<Figure size 432x288 with 1 Axes>"
      ]
     },
     "metadata": {
      "needs_background": "light"
     },
     "output_type": "display_data"
    },
    {
     "name": "stdout",
     "output_type": "stream",
     "text": [
      "\n",
      "**************************************************\n",
      "\n"
     ]
    },
    {
     "data": {
      "image/png": "[encoded data removed]",
      "text/plain": [
       "<Figure size 576x432 with 1 Axes>"
      ]
     },
     "metadata": {
      "needs_background": "light"
     },
     "output_type": "display_data"
    },
    {
     "name": "stdout",
     "output_type": "stream",
     "text": [
      "\n",
      "**************************************************\n",
      "\n",
      "\n",
      "**************************************************\n",
      "\n",
      "Training Fold 5...\n",
      "\n",
      "**************************************************\n",
      "\n",
      "Epoch: 1 | Train Loss: 2.06387 | Valid Loss: 1.31866 | Train Accs: 0.24110 | Valid Accs: 0.54723 | Time: 93.98 seconds\n",
      "Epoch: 2 | Train Loss: 1.22935 | Valid Loss: 0.47433 | Train Accs: 0.57024 | Valid Accs: 0.83239 | Time: 94.26 seconds\n",
      "Epoch: 3 | Train Loss: 0.72670 | Valid Loss: 0.21412 | Train Accs: 0.75396 | Valid Accs: 0.93348 | Time: 94.64 seconds\n",
      "Epoch: 4 | Train Loss: 0.49332 | Valid Loss: 0.16297 | Train Accs: 0.83634 | Valid Accs: 0.94709 | Time: 94.57 seconds\n",
      "Epoch: 5 | Train Loss: 0.38712 | Valid Loss: 0.13096 | Train Accs: 0.87134 | Valid Accs: 0.95537 | Time: 94.08 seconds\n",
      "Epoch: 6 | Train Loss: 0.30803 | Valid Loss: 0.12427 | Train Accs: 0.89768 | Valid Accs: 0.96153 | Time: 94.52 seconds\n",
      "Epoch: 7 | Train Loss: 0.26598 | Valid Loss: 0.10232 | Train Accs: 0.91170 | Valid Accs: 0.96650 | Time: 94.02 seconds\n",
      "Epoch: 8 | Train Loss: 0.23623 | Valid Loss: 0.10126 | Train Accs: 0.92140 | Valid Accs: 0.96721 | Time: 94.56 seconds\n",
      "Epoch: 9 | Train Loss: 0.20669 | Valid Loss: 0.09882 | Train Accs: 0.93045 | Valid Accs: 0.96851 | Time: 93.83 seconds\n",
      "Epoch: 10 | Train Loss: 0.21097 | Valid Loss: 0.09409 | Train Accs: 0.93068 | Valid Accs: 0.96863 | Time: 94.31 seconds\n",
      "\n",
      "**************************************************\n",
      "\n",
      "Best Validation Loss at Epoch 10\n",
      "\n",
      "**************************************************\n",
      "\n",
      "Best Validation Accs at Epoch 10\n",
      "\n",
      "**************************************************\n",
      "\n",
      "Time Taken [10 Epochs] : 15.71 minutes\n",
      "\n",
      "**************************************************\n",
      "\n"
     ]
    },
    {
     "data": {
      "image/png": "[encoded data removed]",
      "text/plain": [
       "<Figure size 432x288 with 1 Axes>"
      ]
     },
     "metadata": {
      "needs_background": "light"
     },
     "output_type": "display_data"
    },
    {
     "name": "stdout",
     "output_type": "stream",
     "text": [
      "\n",
      "**************************************************\n",
      "\n"
     ]
    },
    {
     "data": {
      "image/png": "[encoded data removed]",
      "text/plain": [
       "<Figure size 432x288 with 1 Axes>"
      ]
     },
     "metadata": {
      "needs_background": "light"
     },
     "output_type": "display_data"
    },
    {
     "name": "stdout",
     "output_type": "stream",
     "text": [
      "\n",
      "**************************************************\n",
      "\n"
     ]
    },
    {
     "data": {
      "image/png": "[encoded data removed]",
      "text/plain": [
       "<Figure size 576x432 with 1 Axes>"
      ]
     },
     "metadata": {
      "needs_background": "light"
     },
     "output_type": "display_data"
    },
    {
     "name": "stdout",
     "output_type": "stream",
     "text": [
      "\n",
      "**************************************************\n",
      "\n"
     ]
    }
   ],
   "source": [
    "fold: int = 1\n",
    "BLs: list = []\n",
    "BAs: list = []\n",
    "    \n",
    "cfg.batch_size = 64\n",
    "cfg.epochs = 10\n",
    "    \n",
    "for tr_idx, va_idx in StratifiedKFold(n_splits=cfg.n_splits, random_state=cfg.seed, shuffle=True).split(images, labels):\n",
    "\n",
    "    tr_images, va_images = images[tr_idx], images[va_idx] \n",
    "    tr_labels, va_labels = labels[tr_idx], labels[va_idx]\n",
    "    \n",
    "    tr_data_setup = DS(\n",
    "        images=tr_images, \n",
    "        labels=tr_labels.reshape(-1, 1),\n",
    "        transform=cfg.train_transform\n",
    "    )\n",
    "\n",
    "    va_data_setup = DS(\n",
    "        images=va_images, \n",
    "        labels=va_labels.reshape(-1, 1),\n",
    "        transform=cfg.valid_transform\n",
    "    )\n",
    "\n",
    "    dataloaders = {\n",
    "        \"train\" : DL(tr_data_setup, batch_size=cfg.batch_size, shuffle=True, generator=torch.manual_seed(cfg.seed)),\n",
    "        \"valid\" : DL(va_data_setup, batch_size=cfg.batch_size, shuffle=False),\n",
    "    }\n",
    "\n",
    "    cfg.steps_per_epoch=len(dataloaders[\"train\"])\n",
    "    \n",
    "    torch.manual_seed(cfg.seed)\n",
    "    model = Model().to(cfg.device)\n",
    "\n",
    "    optimizer = optim.Adam([p for p in model.parameters() if p.requires_grad], lr=cfg.lr, weight_decay=cfg.wd)\n",
    "    # optimizer = optim.AdamW([p for p in model.parameters() if p.requires_grad], lr=cfg.lr, weight_decay=cfg.wd)\n",
    "    # optimizer = optim.SGD([p for p in model.parameters() if p.requires_grad], lr=cfg.lr, weight_decay=cfg.wd, momentum=0.9)\n",
    "\n",
    "    scheduler_oclr = optim.lr_scheduler.OneCycleLR(\n",
    "        optimizer=optimizer, \n",
    "        max_lr=cfg.max_lr, \n",
    "        epochs=cfg.epochs, \n",
    "        steps_per_epoch=cfg.steps_per_epoch,\n",
    "        pct_start=cfg.pct_start, \n",
    "        div_factor=cfg.div_factor, \n",
    "        final_div_factor=cfg.final_div_factor\n",
    "    )\n",
    "    \n",
    "    # scheduler_rlrop = optim.lr_scheduler.ReduceLROnPlateau(\n",
    "    #     optimizer=optimizer,\n",
    "    #     patience=cfg.patience,\n",
    "    #     eps=cfg.eps,\n",
    "    #     verbose=True\n",
    "    # )\n",
    "\n",
    "    # scheduler_oclr = None\n",
    "    scheduler_rlrop = None\n",
    "    \n",
    "    L, A, LR, BL, BA, _, _, _, _ = fit(\n",
    "        model=model, \n",
    "        optimizer=optimizer, \n",
    "        scheduler_oclr=scheduler_oclr,\n",
    "        scheduler_rlrop=scheduler_rlrop,\n",
    "        epochs=cfg.epochs, \n",
    "        early_stopping_patience=cfg.early_stopping, \n",
    "        dataloaders=dataloaders, \n",
    "        device=cfg.device,\n",
    "        save_path=cfg.save_path,\n",
    "        fold=fold,\n",
    "        verbose=True\n",
    "    )\n",
    "\n",
    "\n",
    "    breaker()\n",
    "    show_loss_graphs(L)\n",
    "    breaker()\n",
    "    show_accuracy_graphs(A)\n",
    "    breaker()\n",
    "    if scheduler_oclr:\n",
    "        show_lr_graph(LR)\n",
    "        breaker()\n",
    "    \n",
    "    BLs.append(BL)\n",
    "    BAs.append(BA)\n",
    "\n",
    "    fold += 1"
   ]
  },
  {
   "cell_type": "code",
   "execution_count": 10,
   "id": "9117d6d0",
   "metadata": {
    "execution": {
     "iopub.execute_input": "2023-02-06T13:10:02.424378Z",
     "iopub.status.busy": "2023-02-06T13:10:02.424011Z",
     "iopub.status.idle": "2023-02-06T13:10:02.431258Z",
     "shell.execute_reply": "2023-02-06T13:10:02.430159Z"
    },
    "papermill": {
     "duration": 0.021137,
     "end_time": "2023-02-06T13:10:02.433422",
     "exception": false,
     "start_time": "2023-02-06T13:10:02.412285",
     "status": "completed"
    },
    "tags": []
   },
   "outputs": [
    {
     "name": "stdout",
     "output_type": "stream",
     "text": [
      "\n",
      "**************************************************\n",
      "\n",
      "Best Loss Model Fold     : 1\n",
      "Best Accuracy Model Fold : 1\n",
      "\n",
      "**************************************************\n",
      "\n"
     ]
    }
   ],
   "source": [
    "BL = np.inf\n",
    "for i in range(len(BLs)):\n",
    "    if BLs[i][\"valid\"] < BL:\n",
    "        BL = BLs[i][\"valid\"]\n",
    "        best_loss_index = i\n",
    "\n",
    "        \n",
    "BA = 0.0\n",
    "for i in range(len(BAs)):\n",
    "    if BAs[i][\"valid\"] > BA:\n",
    "        BA = BAs[i][\"valid\"]\n",
    "        best_accs_index = i\n",
    "\n",
    "breaker()\n",
    "print(f\"Best Loss Model Fold     : {best_loss_index + 1}\")\n",
    "print(f\"Best Accuracy Model Fold : {best_accs_index + 1}\")\n",
    "breaker()"
   ]
  }
 ],
 "metadata": {
  "kernelspec": {
   "display_name": "Python 3",
   "language": "python",
   "name": "python3"
  },
  "language_info": {
   "codemirror_mode": {
    "name": "ipython",
    "version": 3
   },
   "file_extension": ".py",
   "mimetype": "text/x-python",
   "name": "python",
   "nbconvert_exporter": "python",
   "pygments_lexer": "ipython3",
   "version": "3.7.12"
  },
  "papermill": {
   "default_parameters": {},
   "duration": 4742.508939,
   "end_time": "2023-02-06T13:10:04.176422",
   "environment_variables": {},
   "exception": null,
   "input_path": "__notebook__.ipynb",
   "output_path": "__notebook__.ipynb",
   "parameters": {},
   "start_time": "2023-02-06T11:51:01.667483",
   "version": "2.3.4"
  }
 },
 "nbformat": 4,
 "nbformat_minor": 5
}
