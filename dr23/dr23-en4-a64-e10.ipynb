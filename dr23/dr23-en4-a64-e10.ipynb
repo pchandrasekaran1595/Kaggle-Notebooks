{
 "cells": [
  {
   "cell_type": "code",
   "execution_count": 1,
   "id": "cfc3ee43",
   "metadata": {
    "_cell_guid": "b1076dfc-b9ad-4769-8c92-a6c4dae69d19",
    "_uuid": "8f2839f25d086af736a60e9eeb907d3b93b6e0e5",
    "execution": {
     "iopub.execute_input": "2023-02-07T04:39:18.475220Z",
     "iopub.status.busy": "2023-02-07T04:39:18.474678Z",
     "iopub.status.idle": "2023-02-07T04:39:28.877703Z",
     "shell.execute_reply": "2023-02-07T04:39:28.876547Z"
    },
    "papermill": {
     "duration": 10.411977,
     "end_time": "2023-02-07T04:39:28.880866",
     "exception": false,
     "start_time": "2023-02-07T04:39:18.468889",
     "status": "completed"
    },
    "tags": []
   },
   "outputs": [
    {
     "name": "stdout",
     "output_type": "stream",
     "text": [
      "\u001b[33mWARNING: Running pip as the 'root' user can result in broken permissions and conflicting behaviour with the system package manager. It is recommended to use a virtual environment instead: https://pip.pypa.io/warnings/venv\u001b[0m\u001b[33m\r\n",
      "\u001b[0m"
     ]
    }
   ],
   "source": [
    "!pip install timm -q"
   ]
  },
  {
   "cell_type": "markdown",
   "id": "c93ef373",
   "metadata": {
    "papermill": {
     "duration": 0.00297,
     "end_time": "2023-02-07T04:39:28.887646",
     "exception": false,
     "start_time": "2023-02-07T04:39:28.884676",
     "status": "completed"
    },
    "tags": []
   },
   "source": [
    "### **Library Imports**"
   ]
  },
  {
   "cell_type": "code",
   "execution_count": 2,
   "id": "07a5ccda",
   "metadata": {
    "execution": {
     "iopub.execute_input": "2023-02-07T04:39:28.895244Z",
     "iopub.status.busy": "2023-02-07T04:39:28.894904Z",
     "iopub.status.idle": "2023-02-07T04:39:32.866505Z",
     "shell.execute_reply": "2023-02-07T04:39:32.865482Z"
    },
    "papermill": {
     "duration": 3.978591,
     "end_time": "2023-02-07T04:39:32.869249",
     "exception": false,
     "start_time": "2023-02-07T04:39:28.890658",
     "status": "completed"
    },
    "tags": []
   },
   "outputs": [],
   "source": [
    "import os\n",
    "import re\n",
    "import cv2\n",
    "import timm\n",
    "import torch\n",
    "import numpy as np\n",
    "import pandas as pd\n",
    "import matplotlib.pyplot as plt\n",
    "\n",
    "from time import time\n",
    "from typing import Union\n",
    "from torch import nn, optim\n",
    "from torch.utils.data import Dataset\n",
    "from torch.utils.data import DataLoader as DL\n",
    "from torchvision import transforms\n",
    "\n",
    "from sklearn.model_selection import StratifiedKFold"
   ]
  },
  {
   "cell_type": "code",
   "execution_count": 3,
   "id": "9d88d566",
   "metadata": {
    "execution": {
     "iopub.execute_input": "2023-02-07T04:39:32.877176Z",
     "iopub.status.busy": "2023-02-07T04:39:32.876867Z",
     "iopub.status.idle": "2023-02-07T04:39:32.888061Z",
     "shell.execute_reply": "2023-02-07T04:39:32.887133Z"
    },
    "papermill": {
     "duration": 0.017515,
     "end_time": "2023-02-07T04:39:32.890102",
     "exception": false,
     "start_time": "2023-02-07T04:39:32.872587",
     "status": "completed"
    },
    "tags": []
   },
   "outputs": [],
   "source": [
    "SEED: int = 42\n",
    "    \n",
    "\n",
    "def breaker(num: int=50, char: str=\"*\") -> None: print(\"\\n\" + num*char + \"\\n\")\n",
    "\n",
    "    \n",
    "def show_loss_graphs(L: list) -> None:\n",
    "    TL, VL = [], []\n",
    "    for i in range(len(L)):\n",
    "        TL.append(L[i][\"train\"])\n",
    "        VL.append(L[i][\"valid\"])\n",
    "    x_Axis = np.arange(1, len(TL) + 1)\n",
    "    plt.figure()\n",
    "    plt.plot(x_Axis, TL, \"r\", label=\"Train\")\n",
    "    plt.plot(x_Axis, VL, \"b\", label=\"Valid\")\n",
    "    plt.legend()\n",
    "    plt.grid()\n",
    "    plt.title(\"Loss Graph\")\n",
    "    plt.show()\n",
    "    \n",
    "\n",
    "def show_accuracy_graphs(A: list) -> None:\n",
    "    TA, VA = [], []\n",
    "    for i in range(len(A)):\n",
    "        TA.append(A[i][\"train\"])\n",
    "        VA.append(A[i][\"valid\"])\n",
    "    x_Axis = np.arange(1, len(TA) + 1)\n",
    "    plt.figure()\n",
    "    plt.plot(x_Axis, TA, \"r\", label=\"Train\")\n",
    "    plt.plot(x_Axis, VA, \"b\", label=\"Valid\")\n",
    "    plt.legend()\n",
    "    plt.grid()\n",
    "    plt.title(\"Accuracy Graph\")\n",
    "    plt.show()\n",
    "    \n",
    "\n",
    "def show_lr_graph(LR: list) -> None:\n",
    "    x_Axis = [i+1 for i in range(len(LR))]\n",
    "    plt.figure(figsize=(8, 6))\n",
    "    plt.plot(x_Axis, LR, \"rx\")\n",
    "    plt.grid()\n",
    "    plt.show()"
   ]
  },
  {
   "cell_type": "code",
   "execution_count": 4,
   "id": "adba043b",
   "metadata": {
    "execution": {
     "iopub.execute_input": "2023-02-07T04:39:32.898348Z",
     "iopub.status.busy": "2023-02-07T04:39:32.897231Z",
     "iopub.status.idle": "2023-02-07T04:39:32.971159Z",
     "shell.execute_reply": "2023-02-07T04:39:32.970291Z"
    },
    "papermill": {
     "duration": 0.080244,
     "end_time": "2023-02-07T04:39:32.973450",
     "exception": false,
     "start_time": "2023-02-07T04:39:32.893206",
     "status": "completed"
    },
    "tags": []
   },
   "outputs": [],
   "source": [
    "class CFG(object):\n",
    "    def __init__(self,\n",
    "             seed: int = 42,\n",
    "             n_splits: int = 5,\n",
    "             batch_size: int = 16,\n",
    "             epochs: int = 25,\n",
    "             early_stopping: int = 5,\n",
    "             lr: float = 1e-4,\n",
    "             wd: float = 0.0,\n",
    "             max_lr: float = 1e-3,\n",
    "             pct_start: float = 0.2,\n",
    "             steps_per_epoch: int = 100,\n",
    "             div_factor: int = 1e3, \n",
    "             final_div_factor: float = 1e3,\n",
    "         ):\n",
    "        \n",
    "        self.seed = seed\n",
    "        self.n_splits = n_splits\n",
    "        self.batch_size = batch_size\n",
    "        self.epochs = epochs\n",
    "        self.early_stopping = early_stopping\n",
    "        self.lr = lr\n",
    "        self.wd = wd\n",
    "        self.max_lr = max_lr\n",
    "        self.pct_start = pct_start\n",
    "        self.steps_per_epoch = steps_per_epoch\n",
    "        self.div_factor = div_factor\n",
    "        self.final_div_factor = final_div_factor\n",
    "        self.device = torch.device(\"cuda\" if torch.cuda.is_available() else \"cpu\")\n",
    "        \n",
    "        self.train_transform = transforms.Compose([\n",
    "            transforms.ToTensor(),\n",
    "            transforms.Normalize([0.13099], [0.30024]),\n",
    "            transforms.RandomAffine(degrees=(-45, 45), translate=(0.15, 0.15), scale=(0.5, 1.5)),\n",
    "            transforms.RandomHorizontalFlip(p=0.25),\n",
    "            transforms.RandomVerticalFlip(p=0.25),\n",
    "        ])\n",
    "        self.valid_transform = transforms.Compose([\n",
    "            transforms.ToTensor(),\n",
    "            transforms.Normalize([0.13099], [0.30024]),\n",
    "        ])\n",
    "        self.save_path = \"saves\"\n",
    "        if not os.path.exists(self.save_path): os.makedirs(self.save_path)\n",
    "\n",
    "\n",
    "cfg = CFG(\n",
    "    seed=SEED, \n",
    ")"
   ]
  },
  {
   "cell_type": "markdown",
   "id": "db06d07b",
   "metadata": {
    "papermill": {
     "duration": 0.003032,
     "end_time": "2023-02-07T04:39:32.979795",
     "exception": false,
     "start_time": "2023-02-07T04:39:32.976763",
     "status": "completed"
    },
    "tags": []
   },
   "source": [
    "### **Dataset Template**"
   ]
  },
  {
   "cell_type": "code",
   "execution_count": 5,
   "id": "09b2febf",
   "metadata": {
    "execution": {
     "iopub.execute_input": "2023-02-07T04:39:32.987198Z",
     "iopub.status.busy": "2023-02-07T04:39:32.986905Z",
     "iopub.status.idle": "2023-02-07T04:39:32.993233Z",
     "shell.execute_reply": "2023-02-07T04:39:32.992291Z"
    },
    "papermill": {
     "duration": 0.012327,
     "end_time": "2023-02-07T04:39:32.995268",
     "exception": false,
     "start_time": "2023-02-07T04:39:32.982941",
     "status": "completed"
    },
    "tags": []
   },
   "outputs": [],
   "source": [
    "class DS(Dataset):\n",
    "    def __init__(\n",
    "        self, \n",
    "        images: np.ndarray, \n",
    "        labels: Union[np.ndarray, None]=None, \n",
    "        transform=None\n",
    "    ):\n",
    "    \n",
    "        self.images = images\n",
    "        self.labels = labels\n",
    "        self.transform = transform\n",
    "\n",
    "    def __len__(self):\n",
    "        return self.images.shape[0]\n",
    "\n",
    "    def __getitem__(self, idx):\n",
    "        if self.labels is not None:\n",
    "            return self.transform(self.images[idx]), torch.LongTensor(self.labels[idx])\n",
    "        return self.transform(self.images[idx])"
   ]
  },
  {
   "cell_type": "markdown",
   "id": "a60da259",
   "metadata": {
    "papermill": {
     "duration": 0.003065,
     "end_time": "2023-02-07T04:39:33.001521",
     "exception": false,
     "start_time": "2023-02-07T04:39:32.998456",
     "status": "completed"
    },
    "tags": []
   },
   "source": [
    "### **Model**"
   ]
  },
  {
   "cell_type": "code",
   "execution_count": 6,
   "id": "5ab1f8c8",
   "metadata": {
    "execution": {
     "iopub.execute_input": "2023-02-07T04:39:33.008895Z",
     "iopub.status.busy": "2023-02-07T04:39:33.008643Z",
     "iopub.status.idle": "2023-02-07T04:39:33.015134Z",
     "shell.execute_reply": "2023-02-07T04:39:33.014176Z"
    },
    "papermill": {
     "duration": 0.012364,
     "end_time": "2023-02-07T04:39:33.017046",
     "exception": false,
     "start_time": "2023-02-07T04:39:33.004682",
     "status": "completed"
    },
    "tags": []
   },
   "outputs": [],
   "source": [
    "class Model(nn.Module):\n",
    "    def __init__(self):\n",
    "        super(Model, self).__init__()\n",
    "            \n",
    "        self.model = timm.create_model(model_name=\"efficientnet_b4\", pretrained=True)\n",
    "        self.model.conv_stem = nn.Conv2d(\n",
    "            in_channels=1,\n",
    "            out_channels=self.model.conv_stem.out_channels,\n",
    "            kernel_size=self.model.conv_stem.kernel_size,\n",
    "            stride=self.model.conv_stem.stride,\n",
    "            padding=self.model.conv_stem.padding\n",
    "        )\n",
    "        self.model.classifier = nn.Linear(in_features=self.model.classifier.in_features, out_features=10)\n",
    "\n",
    "    def forward(self, x):\n",
    "        return nn.LogSoftmax(dim=1)(self.model(x))"
   ]
  },
  {
   "cell_type": "markdown",
   "id": "75b3471b",
   "metadata": {
    "papermill": {
     "duration": 0.002981,
     "end_time": "2023-02-07T04:39:33.023292",
     "exception": false,
     "start_time": "2023-02-07T04:39:33.020311",
     "status": "completed"
    },
    "tags": []
   },
   "source": [
    "### **Fit and Predict**"
   ]
  },
  {
   "cell_type": "code",
   "execution_count": 7,
   "id": "a2cf1a66",
   "metadata": {
    "execution": {
     "iopub.execute_input": "2023-02-07T04:39:33.031207Z",
     "iopub.status.busy": "2023-02-07T04:39:33.030936Z",
     "iopub.status.idle": "2023-02-07T04:39:33.051312Z",
     "shell.execute_reply": "2023-02-07T04:39:33.050381Z"
    },
    "papermill": {
     "duration": 0.026677,
     "end_time": "2023-02-07T04:39:33.053270",
     "exception": false,
     "start_time": "2023-02-07T04:39:33.026593",
     "status": "completed"
    },
    "tags": []
   },
   "outputs": [],
   "source": [
    "def fit(\n",
    "    model=None,\n",
    "    optimizer=None, \n",
    "    scheduler_rlrop=None,\n",
    "    scheduler_oclr=None,\n",
    "    epochs=None, \n",
    "    early_stopping_patience=None, \n",
    "    dataloaders=None, \n",
    "    fold=None, \n",
    "    save_path=None,\n",
    "    device=None,\n",
    "    verbose=False\n",
    ") -> tuple:\n",
    "    \n",
    "    def get_accuracy(y_pred, y_true):\n",
    "        y_pred = torch.argmax(y_pred, dim=1)\n",
    "        return torch.count_nonzero(y_pred == y_true).item() / len(y_pred)\n",
    "    \n",
    "    if verbose:\n",
    "        breaker()\n",
    "        if fold: print(f\"Training Fold {fold}...\")\n",
    "        else: print(\"Training ...\")\n",
    "        breaker()\n",
    "        \n",
    "    bestLoss: dict = {\"train\" : np.inf, \"valid\" : np.inf} \n",
    "    bestAccs: dict = {\"train\" : 0.0, \"valid\" : 0.0}\n",
    "        \n",
    "    Losses: list = []\n",
    "    Accuracies: list = [] \n",
    "    LRs: list = []\n",
    "        \n",
    "    if fold: \n",
    "        ble_name = f\"ble_state_fold_{fold}.pt\"\n",
    "        bae_name = f\"bae_state_fold_{fold}.pt\"\n",
    "    else: \n",
    "        ble_name = f\"ble_state.pt\"\n",
    "        bae_name = f\"bae_state.pt\"\n",
    "        \n",
    "    start_time = time()\n",
    "    for e in range(epochs):\n",
    "        e_st = time()\n",
    "        epochLoss: dict = {\"train\" : 0.0, \"valid\" : 0.0} \n",
    "        epochAccs: dict = {\"train\" : 0.0, \"valid\" : 0.0}\n",
    "            \n",
    "        for phase in [\"train\", \"valid\"]:\n",
    "            if phase == \"train\":\n",
    "                model.train()\n",
    "            else:\n",
    "                model.eval()\n",
    "            \n",
    "            lossPerPass: list = []\n",
    "            accsPerPass: list = []\n",
    "                \n",
    "            for X, y in dataloaders[phase]:\n",
    "                X, y = X.to(device), y.to(device).view(-1)\n",
    "                \n",
    "                optimizer.zero_grad()\n",
    "                with torch.set_grad_enabled(phase == \"train\"):\n",
    "                    output = model(X)\n",
    "                    loss = nn.NLLLoss()(output, y)\n",
    "                    if phase == \"train\":\n",
    "                        loss.backward()\n",
    "                        optimizer.step()\n",
    "                        if scheduler_oclr: scheduler_oclr.step()\n",
    "                lossPerPass.append(loss.item())\n",
    "                accsPerPass.append(get_accuracy(output, y))\n",
    "            epochLoss[phase] = np.mean(np.array(lossPerPass))\n",
    "            epochAccs[phase] = np.mean(np.array(accsPerPass))\n",
    "        if scheduler_oclr: LRs.append(scheduler_oclr.get_last_lr())\n",
    "        Losses.append(epochLoss)\n",
    "        Accuracies.append(epochAccs)\n",
    "        \n",
    "        if scheduler_oclr:\n",
    "            save_dict = {\"model_state_dict\"     : model.state_dict(),\n",
    "                         \"optim_state_dict\"     : optimizer.state_dict(),\n",
    "                         \"scheduler_state_dict\" : scheduler_oclr.state_dict()}\n",
    "        \n",
    "        elif scheduler_rlrop:\n",
    "            save_dict = {\"model_state_dict\"     : model.state_dict(),\n",
    "                         \"optim_state_dict\"     : optimizer.state_dict(),\n",
    "                         \"scheduler_state_dict\" : scheduler_rlrop.state_dict()}\n",
    "        \n",
    "        else:\n",
    "            save_dict = {\"model_state_dict\"     : model.state_dict(),\n",
    "                         \"optim_state_dict\"     : optimizer.state_dict()}\n",
    "        \n",
    "        if early_stopping_patience:\n",
    "            if epochLoss[\"valid\"] < bestLoss[\"valid\"]:\n",
    "                bestLoss = epochLoss\n",
    "                BLE = e + 1\n",
    "                torch.save(save_dict, os.path.join(save_path, ble_name))\n",
    "                torch.save(save_dict, os.path.join(save_path, bae_name))\n",
    "                early_stopping_step = 0\n",
    "            else:\n",
    "                early_stopping_step += 1\n",
    "                if early_stopping_step > early_stopping_patience:\n",
    "                    print(\"\\nEarly Stopping at Epoch {}\".format(e + 1))\n",
    "                    break\n",
    "        \n",
    "        if epochLoss[\"valid\"] < bestLoss[\"valid\"]:\n",
    "            bestLoss = epochLoss\n",
    "            BLE = e + 1\n",
    "            torch.save(save_dict,os.path.join(save_path, ble_name))\n",
    "        \n",
    "        if epochAccs[\"valid\"] > bestAccs[\"valid\"]:\n",
    "            bestAccs = epochAccs\n",
    "            BAE = e + 1\n",
    "            torch.save(save_dict,os.path.join(save_path, bae_name))\n",
    "        \n",
    "        if scheduler_rlrop: scheduler_rlrop.step(epochLoss[\"valid\"])\n",
    "        \n",
    "        if verbose:\n",
    "            print(\"Epoch: {} | Train Loss: {:.5f} | Valid Loss: {:.5f} |\\\n",
    " Train Accs: {:.5f} | Valid Accs: {:.5f} | Time: {:.2f} seconds\".format(\n",
    "                e+1, \n",
    "                epochLoss[\"train\"], epochLoss[\"valid\"], \n",
    "                epochAccs[\"train\"], epochAccs[\"valid\"], \n",
    "                time()-e_st)\n",
    "            )\n",
    "        \n",
    "    if verbose:                                           \n",
    "        breaker()\n",
    "        print(f\"Best Validation Loss at Epoch {BLE}\")\n",
    "        breaker()\n",
    "        print(f\"Best Validation Accs at Epoch {BAE}\")\n",
    "        breaker()\n",
    "        print(\"Time Taken [{} Epochs] : {:.2f} minutes\".format(len(Losses), (time()-start_time)/60))\n",
    "    \n",
    "    return Losses, Accuracies, LRs, bestLoss, bestAccs, BLE, BAE, ble_name, bae_name\n",
    "\n",
    "\n",
    "# def predict_batch(model=None, dataloader=None, path=None, device=None) -> np.ndarray:\n",
    "#     model.load_state_dict(torch.load(path, map_location=device)[\"model_state_dict\"])\n",
    "#     model.to(device)    \n",
    "#     model.eval()\n",
    "    \n",
    "#     y_pred = torch.zeros(1, 1).to(device)\n",
    "    \n",
    "#     for X in dataloader:\n",
    "#         X = X.to(device)\n",
    "#         with torch.no_grad():\n",
    "#             output = torch.argmax(torch.exp(model(X)), dim=1)\n",
    "#         y_pred = torch.cat((y_pred, output.view(-1, 1)), dim=0)\n",
    "    \n",
    "#     return y_pred[1:].detach().cpu().numpy()"
   ]
  },
  {
   "cell_type": "markdown",
   "id": "e426a368",
   "metadata": {
    "papermill": {
     "duration": 0.003242,
     "end_time": "2023-02-07T04:39:33.059732",
     "exception": false,
     "start_time": "2023-02-07T04:39:33.056490",
     "status": "completed"
    },
    "tags": []
   },
   "source": [
    "### **Train**"
   ]
  },
  {
   "cell_type": "code",
   "execution_count": 8,
   "id": "e0e34881",
   "metadata": {
    "execution": {
     "iopub.execute_input": "2023-02-07T04:39:33.067374Z",
     "iopub.status.busy": "2023-02-07T04:39:33.067091Z",
     "iopub.status.idle": "2023-02-07T04:39:36.894356Z",
     "shell.execute_reply": "2023-02-07T04:39:36.893352Z"
    },
    "papermill": {
     "duration": 3.83371,
     "end_time": "2023-02-07T04:39:36.896770",
     "exception": false,
     "start_time": "2023-02-07T04:39:33.063060",
     "status": "completed"
    },
    "tags": []
   },
   "outputs": [],
   "source": [
    "df = pd.read_csv(\"/kaggle/input/digit-recognizer-ii-2023/train.csv\")\n",
    "\n",
    "images = df.iloc[:, 1:].copy().values.reshape(df.shape[0], 28, 28, 1).astype(\"uint8\")\n",
    "images = np.array([cv2.resize(image, (64, 64), interpolation=cv2.INTER_AREA) for image in images])\n",
    "labels = df.iloc[:, 0].copy().values"
   ]
  },
  {
   "cell_type": "code",
   "execution_count": 9,
   "id": "9050cd29",
   "metadata": {
    "execution": {
     "iopub.execute_input": "2023-02-07T04:39:36.906903Z",
     "iopub.status.busy": "2023-02-07T04:39:36.905221Z",
     "iopub.status.idle": "2023-02-07T06:04:12.628322Z",
     "shell.execute_reply": "2023-02-07T06:04:12.627361Z"
    },
    "papermill": {
     "duration": 5075.729825,
     "end_time": "2023-02-07T06:04:12.630378",
     "exception": false,
     "start_time": "2023-02-07T04:39:36.900553",
     "status": "completed"
    },
    "tags": []
   },
   "outputs": [
    {
     "name": "stderr",
     "output_type": "stream",
     "text": [
      "Downloading: \"https://github.com/rwightman/pytorch-image-models/releases/download/v0.1-weights/efficientnet_b4_ra2_320-7eb33cd5.pth\" to /root/.cache/torch/hub/checkpoints/efficientnet_b4_ra2_320-7eb33cd5.pth\n"
     ]
    },
    {
     "name": "stdout",
     "output_type": "stream",
     "text": [
      "\n",
      "**************************************************\n",
      "\n",
      "Training Fold 1...\n",
      "\n",
      "**************************************************\n",
      "\n",
      "Epoch: 1 | Train Loss: 1.98862 | Valid Loss: 1.52744 | Train Accs: 0.27735 | Valid Accs: 0.64477 | Time: 107.29 seconds\n",
      "Epoch: 2 | Train Loss: 0.93262 | Valid Loss: 0.26322 | Train Accs: 0.67673 | Valid Accs: 0.92057 | Time: 101.53 seconds\n",
      "Epoch: 3 | Train Loss: 0.47988 | Valid Loss: 0.15478 | Train Accs: 0.84054 | Valid Accs: 0.95123 | Time: 102.12 seconds\n",
      "Epoch: 4 | Train Loss: 0.32800 | Valid Loss: 0.11870 | Train Accs: 0.89265 | Valid Accs: 0.96425 | Time: 101.72 seconds\n",
      "Epoch: 5 | Train Loss: 0.25644 | Valid Loss: 0.09164 | Train Accs: 0.91625 | Valid Accs: 0.97088 | Time: 101.60 seconds\n",
      "Epoch: 6 | Train Loss: 0.21562 | Valid Loss: 0.09102 | Train Accs: 0.92863 | Valid Accs: 0.97242 | Time: 101.60 seconds\n",
      "Epoch: 7 | Train Loss: 0.18229 | Valid Loss: 0.08233 | Train Accs: 0.93946 | Valid Accs: 0.97526 | Time: 101.10 seconds\n",
      "Epoch: 8 | Train Loss: 0.16329 | Valid Loss: 0.07190 | Train Accs: 0.94667 | Valid Accs: 0.97810 | Time: 102.58 seconds\n",
      "Epoch: 9 | Train Loss: 0.14370 | Valid Loss: 0.06988 | Train Accs: 0.95220 | Valid Accs: 0.98000 | Time: 102.28 seconds\n",
      "Epoch: 10 | Train Loss: 0.14423 | Valid Loss: 0.07160 | Train Accs: 0.95292 | Valid Accs: 0.98000 | Time: 101.15 seconds\n",
      "\n",
      "**************************************************\n",
      "\n",
      "Best Validation Loss at Epoch 9\n",
      "\n",
      "**************************************************\n",
      "\n",
      "Best Validation Accs at Epoch 9\n",
      "\n",
      "**************************************************\n",
      "\n",
      "Time Taken [10 Epochs] : 17.05 minutes\n",
      "\n",
      "**************************************************\n",
      "\n"
     ]
    },
    {
     "data": {
      "image/png": "[encoded data removed]",
      "text/plain": [
       "<Figure size 432x288 with 1 Axes>"
      ]
     },
     "metadata": {
      "needs_background": "light"
     },
     "output_type": "display_data"
    },
    {
     "name": "stdout",
     "output_type": "stream",
     "text": [
      "\n",
      "**************************************************\n",
      "\n"
     ]
    },
    {
     "data": {
      "image/png": "[encoded data removed]",
      "text/plain": [
       "<Figure size 432x288 with 1 Axes>"
      ]
     },
     "metadata": {
      "needs_background": "light"
     },
     "output_type": "display_data"
    },
    {
     "name": "stdout",
     "output_type": "stream",
     "text": [
      "\n",
      "**************************************************\n",
      "\n"
     ]
    },
    {
     "data": {
      "image/png": "[encoded data removed]",
      "text/plain": [
       "<Figure size 576x432 with 1 Axes>"
      ]
     },
     "metadata": {
      "needs_background": "light"
     },
     "output_type": "display_data"
    },
    {
     "name": "stdout",
     "output_type": "stream",
     "text": [
      "\n",
      "**************************************************\n",
      "\n",
      "\n",
      "**************************************************\n",
      "\n",
      "Training Fold 2...\n",
      "\n",
      "**************************************************\n",
      "\n",
      "Epoch: 1 | Train Loss: 2.00469 | Valid Loss: 1.02947 | Train Accs: 0.26914 | Valid Accs: 0.63329 | Time: 102.57 seconds\n",
      "Epoch: 2 | Train Loss: 0.93412 | Valid Loss: 0.27800 | Train Accs: 0.67589 | Valid Accs: 0.91300 | Time: 102.08 seconds\n",
      "Epoch: 3 | Train Loss: 0.50010 | Valid Loss: 0.14216 | Train Accs: 0.83170 | Valid Accs: 0.95384 | Time: 101.23 seconds\n",
      "Epoch: 4 | Train Loss: 0.34032 | Valid Loss: 0.11524 | Train Accs: 0.88789 | Valid Accs: 0.96177 | Time: 101.73 seconds\n",
      "Epoch: 5 | Train Loss: 0.25754 | Valid Loss: 0.09604 | Train Accs: 0.91676 | Valid Accs: 0.96934 | Time: 101.54 seconds\n",
      "Epoch: 6 | Train Loss: 0.21024 | Valid Loss: 0.09297 | Train Accs: 0.92970 | Valid Accs: 0.96899 | Time: 101.19 seconds\n",
      "Epoch: 7 | Train Loss: 0.18070 | Valid Loss: 0.07397 | Train Accs: 0.93973 | Valid Accs: 0.97751 | Time: 101.62 seconds\n",
      "Epoch: 8 | Train Loss: 0.16269 | Valid Loss: 0.06725 | Train Accs: 0.94682 | Valid Accs: 0.97727 | Time: 101.28 seconds\n",
      "Epoch: 9 | Train Loss: 0.14703 | Valid Loss: 0.06214 | Train Accs: 0.95188 | Valid Accs: 0.98000 | Time: 101.30 seconds\n",
      "Epoch: 10 | Train Loss: 0.14136 | Valid Loss: 0.06246 | Train Accs: 0.95402 | Valid Accs: 0.97857 | Time: 100.98 seconds\n",
      "\n",
      "**************************************************\n",
      "\n",
      "Best Validation Loss at Epoch 9\n",
      "\n",
      "**************************************************\n",
      "\n",
      "Best Validation Accs at Epoch 9\n",
      "\n",
      "**************************************************\n",
      "\n",
      "Time Taken [10 Epochs] : 16.93 minutes\n",
      "\n",
      "**************************************************\n",
      "\n"
     ]
    },
    {
     "data": {
      "image/png": "[encoded data removed]",
      "text/plain": [
       "<Figure size 432x288 with 1 Axes>"
      ]
     },
     "metadata": {
      "needs_background": "light"
     },
     "output_type": "display_data"
    },
    {
     "name": "stdout",
     "output_type": "stream",
     "text": [
      "\n",
      "**************************************************\n",
      "\n"
     ]
    },
    {
     "data": {
      "image/png": "[encoded data removed]",
      "text/plain": [
       "<Figure size 432x288 with 1 Axes>"
      ]
     },
     "metadata": {
      "needs_background": "light"
     },
     "output_type": "display_data"
    },
    {
     "name": "stdout",
     "output_type": "stream",
     "text": [
      "\n",
      "**************************************************\n",
      "\n"
     ]
    },
    {
     "data": {
      "image/png": "[encoded data removed]",
      "text/plain": [
       "<Figure size 576x432 with 1 Axes>"
      ]
     },
     "metadata": {
      "needs_background": "light"
     },
     "output_type": "display_data"
    },
    {
     "name": "stdout",
     "output_type": "stream",
     "text": [
      "\n",
      "**************************************************\n",
      "\n",
      "\n",
      "**************************************************\n",
      "\n",
      "Training Fold 3...\n",
      "\n",
      "**************************************************\n",
      "\n",
      "Epoch: 1 | Train Loss: 1.99585 | Valid Loss: 0.91089 | Train Accs: 0.27063 | Valid Accs: 0.67602 | Time: 101.76 seconds\n",
      "Epoch: 2 | Train Loss: 0.95268 | Valid Loss: 0.26419 | Train Accs: 0.67101 | Valid Accs: 0.91394 | Time: 100.68 seconds\n",
      "Epoch: 3 | Train Loss: 0.50016 | Valid Loss: 0.14632 | Train Accs: 0.83179 | Valid Accs: 0.95348 | Time: 100.87 seconds\n",
      "Epoch: 4 | Train Loss: 0.33323 | Valid Loss: 0.10155 | Train Accs: 0.89039 | Valid Accs: 0.96828 | Time: 101.16 seconds\n",
      "Epoch: 5 | Train Loss: 0.25542 | Valid Loss: 0.09214 | Train Accs: 0.91518 | Valid Accs: 0.97064 | Time: 100.62 seconds\n",
      "Epoch: 6 | Train Loss: 0.21136 | Valid Loss: 0.08918 | Train Accs: 0.93104 | Valid Accs: 0.96993 | Time: 99.37 seconds\n",
      "Epoch: 7 | Train Loss: 0.17898 | Valid Loss: 0.07750 | Train Accs: 0.93946 | Valid Accs: 0.97372 | Time: 99.98 seconds\n",
      "Epoch: 8 | Train Loss: 0.15737 | Valid Loss: 0.06459 | Train Accs: 0.94801 | Valid Accs: 0.97905 | Time: 100.12 seconds\n",
      "Epoch: 9 | Train Loss: 0.14497 | Valid Loss: 0.06180 | Train Accs: 0.95083 | Valid Accs: 0.98071 | Time: 100.76 seconds\n",
      "Epoch: 10 | Train Loss: 0.13844 | Valid Loss: 0.06023 | Train Accs: 0.95408 | Valid Accs: 0.98000 | Time: 100.67 seconds\n",
      "\n",
      "**************************************************\n",
      "\n",
      "Best Validation Loss at Epoch 10\n",
      "\n",
      "**************************************************\n",
      "\n",
      "Best Validation Accs at Epoch 9\n",
      "\n",
      "**************************************************\n",
      "\n",
      "Time Taken [10 Epochs] : 16.77 minutes\n",
      "\n",
      "**************************************************\n",
      "\n"
     ]
    },
    {
     "data": {
      "image/png": "[encoded data removed]",
      "text/plain": [
       "<Figure size 432x288 with 1 Axes>"
      ]
     },
     "metadata": {
      "needs_background": "light"
     },
     "output_type": "display_data"
    },
    {
     "name": "stdout",
     "output_type": "stream",
     "text": [
      "\n",
      "**************************************************\n",
      "\n"
     ]
    },
    {
     "data": {
      "image/png": "[encoded data removed]",
      "text/plain": [
       "<Figure size 432x288 with 1 Axes>"
      ]
     },
     "metadata": {
      "needs_background": "light"
     },
     "output_type": "display_data"
    },
    {
     "name": "stdout",
     "output_type": "stream",
     "text": [
      "\n",
      "**************************************************\n",
      "\n"
     ]
    },
    {
     "data": {
      "image/png": "[encoded data removed]",
      "text/plain": [
       "<Figure size 576x432 with 1 Axes>"
      ]
     },
     "metadata": {
      "needs_background": "light"
     },
     "output_type": "display_data"
    },
    {
     "name": "stdout",
     "output_type": "stream",
     "text": [
      "\n",
      "**************************************************\n",
      "\n",
      "\n",
      "**************************************************\n",
      "\n",
      "Training Fold 4...\n",
      "\n",
      "**************************************************\n",
      "\n",
      "Epoch: 1 | Train Loss: 2.00844 | Valid Loss: 1.06418 | Train Accs: 0.26351 | Valid Accs: 0.62820 | Time: 100.30 seconds\n",
      "Epoch: 2 | Train Loss: 0.99231 | Valid Loss: 0.29312 | Train Accs: 0.65405 | Valid Accs: 0.90980 | Time: 100.98 seconds\n",
      "Epoch: 3 | Train Loss: 0.52719 | Valid Loss: 0.21504 | Train Accs: 0.82271 | Valid Accs: 0.93205 | Time: 101.39 seconds\n",
      "Epoch: 4 | Train Loss: 0.34511 | Valid Loss: 0.11170 | Train Accs: 0.88586 | Valid Accs: 0.96437 | Time: 101.01 seconds\n",
      "Epoch: 5 | Train Loss: 0.26488 | Valid Loss: 0.09667 | Train Accs: 0.91307 | Valid Accs: 0.97100 | Time: 100.60 seconds\n",
      "Epoch: 6 | Train Loss: 0.21990 | Valid Loss: 0.06995 | Train Accs: 0.92765 | Valid Accs: 0.97786 | Time: 101.08 seconds\n",
      "Epoch: 7 | Train Loss: 0.18676 | Valid Loss: 0.07262 | Train Accs: 0.93795 | Valid Accs: 0.97763 | Time: 99.43 seconds\n",
      "Epoch: 8 | Train Loss: 0.16639 | Valid Loss: 0.06071 | Train Accs: 0.94500 | Valid Accs: 0.98177 | Time: 100.16 seconds\n",
      "Epoch: 9 | Train Loss: 0.14805 | Valid Loss: 0.06050 | Train Accs: 0.95051 | Valid Accs: 0.98248 | Time: 101.06 seconds\n",
      "Epoch: 10 | Train Loss: 0.14452 | Valid Loss: 0.05994 | Train Accs: 0.95125 | Valid Accs: 0.98260 | Time: 100.78 seconds\n",
      "\n",
      "**************************************************\n",
      "\n",
      "Best Validation Loss at Epoch 10\n",
      "\n",
      "**************************************************\n",
      "\n",
      "Best Validation Accs at Epoch 10\n",
      "\n",
      "**************************************************\n",
      "\n",
      "Time Taken [10 Epochs] : 16.78 minutes\n",
      "\n",
      "**************************************************\n",
      "\n"
     ]
    },
    {
     "data": {
      "image/png": "[encoded data removed]",
      "text/plain": [
       "<Figure size 432x288 with 1 Axes>"
      ]
     },
     "metadata": {
      "needs_background": "light"
     },
     "output_type": "display_data"
    },
    {
     "name": "stdout",
     "output_type": "stream",
     "text": [
      "\n",
      "**************************************************\n",
      "\n"
     ]
    },
    {
     "data": {
      "image/png": "[encoded data removed]",
      "text/plain": [
       "<Figure size 432x288 with 1 Axes>"
      ]
     },
     "metadata": {
      "needs_background": "light"
     },
     "output_type": "display_data"
    },
    {
     "name": "stdout",
     "output_type": "stream",
     "text": [
      "\n",
      "**************************************************\n",
      "\n"
     ]
    },
    {
     "data": {
      "image/png": "[encoded data removed]",
      "text/plain": [
       "<Figure size 576x432 with 1 Axes>"
      ]
     },
     "metadata": {
      "needs_background": "light"
     },
     "output_type": "display_data"
    },
    {
     "name": "stdout",
     "output_type": "stream",
     "text": [
      "\n",
      "**************************************************\n",
      "\n",
      "\n",
      "**************************************************\n",
      "\n",
      "Training Fold 5...\n",
      "\n",
      "**************************************************\n",
      "\n",
      "Epoch: 1 | Train Loss: 1.98677 | Valid Loss: 0.92423 | Train Accs: 0.27458 | Valid Accs: 0.67708 | Time: 100.11 seconds\n",
      "Epoch: 2 | Train Loss: 0.92746 | Valid Loss: 0.26034 | Train Accs: 0.67676 | Valid Accs: 0.91655 | Time: 100.63 seconds\n",
      "Epoch: 3 | Train Loss: 0.47884 | Valid Loss: 0.12513 | Train Accs: 0.83958 | Valid Accs: 0.96484 | Time: 101.74 seconds\n",
      "Epoch: 4 | Train Loss: 0.31737 | Valid Loss: 0.11531 | Train Accs: 0.89533 | Valid Accs: 0.96579 | Time: 100.72 seconds\n",
      "Epoch: 5 | Train Loss: 0.25384 | Valid Loss: 0.09014 | Train Accs: 0.91601 | Valid Accs: 0.97135 | Time: 100.78 seconds\n",
      "Epoch: 6 | Train Loss: 0.21001 | Valid Loss: 0.08407 | Train Accs: 0.93214 | Valid Accs: 0.97289 | Time: 101.36 seconds\n",
      "Epoch: 7 | Train Loss: 0.17877 | Valid Loss: 0.07331 | Train Accs: 0.94021 | Valid Accs: 0.97680 | Time: 101.51 seconds\n",
      "Epoch: 8 | Train Loss: 0.15862 | Valid Loss: 0.07684 | Train Accs: 0.94696 | Valid Accs: 0.97597 | Time: 99.46 seconds\n",
      "Epoch: 9 | Train Loss: 0.14083 | Valid Loss: 0.06055 | Train Accs: 0.95307 | Valid Accs: 0.98094 | Time: 100.98 seconds\n",
      "Epoch: 10 | Train Loss: 0.13682 | Valid Loss: 0.06248 | Train Accs: 0.95512 | Valid Accs: 0.97988 | Time: 99.48 seconds\n",
      "\n",
      "**************************************************\n",
      "\n",
      "Best Validation Loss at Epoch 9\n",
      "\n",
      "**************************************************\n",
      "\n",
      "Best Validation Accs at Epoch 9\n",
      "\n",
      "**************************************************\n",
      "\n",
      "Time Taken [10 Epochs] : 16.78 minutes\n",
      "\n",
      "**************************************************\n",
      "\n"
     ]
    },
    {
     "data": {
      "image/png": "[encoded data removed]",
      "text/plain": [
       "<Figure size 432x288 with 1 Axes>"
      ]
     },
     "metadata": {
      "needs_background": "light"
     },
     "output_type": "display_data"
    },
    {
     "name": "stdout",
     "output_type": "stream",
     "text": [
      "\n",
      "**************************************************\n",
      "\n"
     ]
    },
    {
     "data": {
      "image/png": "[encoded data removed]",
      "text/plain": [
       "<Figure size 432x288 with 1 Axes>"
      ]
     },
     "metadata": {
      "needs_background": "light"
     },
     "output_type": "display_data"
    },
    {
     "name": "stdout",
     "output_type": "stream",
     "text": [
      "\n",
      "**************************************************\n",
      "\n"
     ]
    },
    {
     "data": {
      "image/png": "[encoded data removed]",
      "text/plain": [
       "<Figure size 576x432 with 1 Axes>"
      ]
     },
     "metadata": {
      "needs_background": "light"
     },
     "output_type": "display_data"
    },
    {
     "name": "stdout",
     "output_type": "stream",
     "text": [
      "\n",
      "**************************************************\n",
      "\n"
     ]
    }
   ],
   "source": [
    "fold: int = 1\n",
    "BLs: list = []\n",
    "BAs: list = []\n",
    "    \n",
    "cfg.batch_size = 64\n",
    "cfg.epochs = 10\n",
    "    \n",
    "for tr_idx, va_idx in StratifiedKFold(n_splits=cfg.n_splits, random_state=cfg.seed, shuffle=True).split(images, labels):\n",
    "\n",
    "    tr_images, va_images = images[tr_idx], images[va_idx] \n",
    "    tr_labels, va_labels = labels[tr_idx], labels[va_idx]\n",
    "    \n",
    "    tr_data_setup = DS(\n",
    "        images=tr_images, \n",
    "        labels=tr_labels.reshape(-1, 1),\n",
    "        transform=cfg.train_transform\n",
    "    )\n",
    "\n",
    "    va_data_setup = DS(\n",
    "        images=va_images, \n",
    "        labels=va_labels.reshape(-1, 1),\n",
    "        transform=cfg.valid_transform\n",
    "    )\n",
    "\n",
    "    dataloaders = {\n",
    "        \"train\" : DL(tr_data_setup, batch_size=cfg.batch_size, shuffle=True, generator=torch.manual_seed(cfg.seed)),\n",
    "        \"valid\" : DL(va_data_setup, batch_size=cfg.batch_size, shuffle=False),\n",
    "    }\n",
    "\n",
    "    cfg.steps_per_epoch=len(dataloaders[\"train\"])\n",
    "    \n",
    "    torch.manual_seed(cfg.seed)\n",
    "    model = Model().to(cfg.device)\n",
    "\n",
    "    optimizer = optim.Adam([p for p in model.parameters() if p.requires_grad], lr=cfg.lr, weight_decay=cfg.wd)\n",
    "    # optimizer = optim.AdamW([p for p in model.parameters() if p.requires_grad], lr=cfg.lr, weight_decay=cfg.wd)\n",
    "    # optimizer = optim.SGD([p for p in model.parameters() if p.requires_grad], lr=cfg.lr, weight_decay=cfg.wd, momentum=0.9)\n",
    "\n",
    "    scheduler_oclr = optim.lr_scheduler.OneCycleLR(\n",
    "        optimizer=optimizer, \n",
    "        max_lr=cfg.max_lr, \n",
    "        epochs=cfg.epochs, \n",
    "        steps_per_epoch=cfg.steps_per_epoch,\n",
    "        pct_start=cfg.pct_start, \n",
    "        div_factor=cfg.div_factor, \n",
    "        final_div_factor=cfg.final_div_factor\n",
    "    )\n",
    "    \n",
    "    # scheduler_rlrop = optim.lr_scheduler.ReduceLROnPlateau(\n",
    "    #     optimizer=optimizer,\n",
    "    #     patience=cfg.patience,\n",
    "    #     eps=cfg.eps,\n",
    "    #     verbose=True\n",
    "    # )\n",
    "\n",
    "    # scheduler_oclr = None\n",
    "    scheduler_rlrop = None\n",
    "    \n",
    "    L, A, LR, BL, BA, _, _, _, _ = fit(\n",
    "        model=model, \n",
    "        optimizer=optimizer, \n",
    "        scheduler_oclr=scheduler_oclr,\n",
    "        scheduler_rlrop=scheduler_rlrop,\n",
    "        epochs=cfg.epochs, \n",
    "        early_stopping_patience=cfg.early_stopping, \n",
    "        dataloaders=dataloaders, \n",
    "        device=cfg.device,\n",
    "        save_path=cfg.save_path,\n",
    "        fold=fold,\n",
    "        verbose=True\n",
    "    )\n",
    "\n",
    "\n",
    "    breaker()\n",
    "    show_loss_graphs(L)\n",
    "    breaker()\n",
    "    show_accuracy_graphs(A)\n",
    "    breaker()\n",
    "    if scheduler_oclr:\n",
    "        show_lr_graph(LR)\n",
    "        breaker()\n",
    "    \n",
    "    BLs.append(BL)\n",
    "    BAs.append(BA)\n",
    "\n",
    "    fold += 1"
   ]
  },
  {
   "cell_type": "code",
   "execution_count": 10,
   "id": "2f023adf",
   "metadata": {
    "execution": {
     "iopub.execute_input": "2023-02-07T06:04:12.653451Z",
     "iopub.status.busy": "2023-02-07T06:04:12.652632Z",
     "iopub.status.idle": "2023-02-07T06:04:12.659996Z",
     "shell.execute_reply": "2023-02-07T06:04:12.658866Z"
    },
    "papermill": {
     "duration": 0.020668,
     "end_time": "2023-02-07T06:04:12.662088",
     "exception": false,
     "start_time": "2023-02-07T06:04:12.641420",
     "status": "completed"
    },
    "tags": []
   },
   "outputs": [
    {
     "name": "stdout",
     "output_type": "stream",
     "text": [
      "\n",
      "**************************************************\n",
      "\n",
      "Best Loss Model Fold     : 4\n",
      "Best Accuracy Model Fold : 4\n",
      "\n",
      "**************************************************\n",
      "\n"
     ]
    }
   ],
   "source": [
    "BL = np.inf\n",
    "for i in range(len(BLs)):\n",
    "    if BLs[i][\"valid\"] < BL:\n",
    "        BL = BLs[i][\"valid\"]\n",
    "        best_loss_index = i\n",
    "\n",
    "        \n",
    "BA = 0.0\n",
    "for i in range(len(BAs)):\n",
    "    if BAs[i][\"valid\"] > BA:\n",
    "        BA = BAs[i][\"valid\"]\n",
    "        best_accs_index = i\n",
    "\n",
    "breaker()\n",
    "print(f\"Best Loss Model Fold     : {best_loss_index + 1}\")\n",
    "print(f\"Best Accuracy Model Fold : {best_accs_index + 1}\")\n",
    "breaker()"
   ]
  }
 ],
 "metadata": {
  "kernelspec": {
   "display_name": "Python 3",
   "language": "python",
   "name": "python3"
  },
  "language_info": {
   "codemirror_mode": {
    "name": "ipython",
    "version": 3
   },
   "file_extension": ".py",
   "mimetype": "text/x-python",
   "name": "python",
   "nbconvert_exporter": "python",
   "pygments_lexer": "ipython3",
   "version": "3.7.12"
  },
  "papermill": {
   "default_parameters": {},
   "duration": 5104.735574,
   "end_time": "2023-02-07T06:04:15.057608",
   "environment_variables": {},
   "exception": null,
   "input_path": "__notebook__.ipynb",
   "output_path": "__notebook__.ipynb",
   "parameters": {},
   "start_time": "2023-02-07T04:39:10.322034",
   "version": "2.3.4"
  }
 },
 "nbformat": 4,
 "nbformat_minor": 5
}
