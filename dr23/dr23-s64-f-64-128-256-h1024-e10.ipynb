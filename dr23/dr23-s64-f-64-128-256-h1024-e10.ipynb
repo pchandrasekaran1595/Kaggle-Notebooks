{
 "cells": [
  {
   "cell_type": "markdown",
   "id": "fc54545f",
   "metadata": {
    "_cell_guid": "b1076dfc-b9ad-4769-8c92-a6c4dae69d19",
    "_uuid": "8f2839f25d086af736a60e9eeb907d3b93b6e0e5",
    "papermill": {
     "duration": 0.005347,
     "end_time": "2023-02-02T12:06:49.425311",
     "exception": false,
     "start_time": "2023-02-02T12:06:49.419964",
     "status": "completed"
    },
    "tags": []
   },
   "source": [
    "### **Library Imports**"
   ]
  },
  {
   "cell_type": "code",
   "execution_count": 1,
   "id": "2093d66a",
   "metadata": {
    "execution": {
     "iopub.execute_input": "2023-02-02T12:06:49.433876Z",
     "iopub.status.busy": "2023-02-02T12:06:49.433394Z",
     "iopub.status.idle": "2023-02-02T12:06:52.327960Z",
     "shell.execute_reply": "2023-02-02T12:06:52.327041Z"
    },
    "papermill": {
     "duration": 2.901482,
     "end_time": "2023-02-02T12:06:52.330446",
     "exception": false,
     "start_time": "2023-02-02T12:06:49.428964",
     "status": "completed"
    },
    "tags": []
   },
   "outputs": [],
   "source": [
    "import os\n",
    "import re\n",
    "import cv2\n",
    "import torch\n",
    "import numpy as np\n",
    "import pandas as pd\n",
    "import matplotlib.pyplot as plt\n",
    "\n",
    "from time import time\n",
    "from typing import Union\n",
    "from torch import nn, optim\n",
    "from torch.utils.data import Dataset\n",
    "from torch.utils.data import DataLoader as DL\n",
    "from torchvision import transforms\n",
    "\n",
    "from sklearn.model_selection import StratifiedKFold"
   ]
  },
  {
   "cell_type": "code",
   "execution_count": 2,
   "id": "32e871cc",
   "metadata": {
    "execution": {
     "iopub.execute_input": "2023-02-02T12:06:52.338765Z",
     "iopub.status.busy": "2023-02-02T12:06:52.337711Z",
     "iopub.status.idle": "2023-02-02T12:06:52.349206Z",
     "shell.execute_reply": "2023-02-02T12:06:52.348330Z"
    },
    "papermill": {
     "duration": 0.017574,
     "end_time": "2023-02-02T12:06:52.351206",
     "exception": false,
     "start_time": "2023-02-02T12:06:52.333632",
     "status": "completed"
    },
    "tags": []
   },
   "outputs": [],
   "source": [
    "SEED: int = 42\n",
    "    \n",
    "\n",
    "def breaker(num: int=50, char: str=\"*\") -> None: print(\"\\n\" + num*char + \"\\n\")\n",
    "\n",
    "    \n",
    "def show_loss_graphs(L: list) -> None:\n",
    "    TL, VL = [], []\n",
    "    for i in range(len(L)):\n",
    "        TL.append(L[i][\"train\"])\n",
    "        VL.append(L[i][\"valid\"])\n",
    "    x_Axis = np.arange(1, len(TL) + 1)\n",
    "    plt.figure()\n",
    "    plt.plot(x_Axis, TL, \"r\", label=\"Train\")\n",
    "    plt.plot(x_Axis, VL, \"b\", label=\"Valid\")\n",
    "    plt.legend()\n",
    "    plt.grid()\n",
    "    plt.title(\"Loss Graph\")\n",
    "    plt.show()\n",
    "    \n",
    "\n",
    "def show_accuracy_graphs(A: list) -> None:\n",
    "    TA, VA = [], []\n",
    "    for i in range(len(A)):\n",
    "        TA.append(A[i][\"train\"])\n",
    "        VA.append(A[i][\"valid\"])\n",
    "    x_Axis = np.arange(1, len(TA) + 1)\n",
    "    plt.figure()\n",
    "    plt.plot(x_Axis, TA, \"r\", label=\"Train\")\n",
    "    plt.plot(x_Axis, VA, \"b\", label=\"Valid\")\n",
    "    plt.legend()\n",
    "    plt.grid()\n",
    "    plt.title(\"Accuracy Graph\")\n",
    "    plt.show()\n",
    "    \n",
    "\n",
    "def show_lr_graph(LR: list) -> None:\n",
    "    x_Axis = [i+1 for i in range(len(LR))]\n",
    "    plt.figure(figsize=(8, 6))\n",
    "    plt.plot(x_Axis, LR, \"rx\")\n",
    "    plt.grid()\n",
    "    plt.show()"
   ]
  },
  {
   "cell_type": "code",
   "execution_count": 3,
   "id": "f94daf6b",
   "metadata": {
    "execution": {
     "iopub.execute_input": "2023-02-02T12:06:52.358249Z",
     "iopub.status.busy": "2023-02-02T12:06:52.357970Z",
     "iopub.status.idle": "2023-02-02T12:06:52.432705Z",
     "shell.execute_reply": "2023-02-02T12:06:52.431553Z"
    },
    "papermill": {
     "duration": 0.080898,
     "end_time": "2023-02-02T12:06:52.435104",
     "exception": false,
     "start_time": "2023-02-02T12:06:52.354206",
     "status": "completed"
    },
    "tags": []
   },
   "outputs": [],
   "source": [
    "class CFG(object):\n",
    "    def __init__(self,\n",
    "             seed: int = 42,\n",
    "             n_splits: int = 5,\n",
    "             batch_size: int = 16,\n",
    "             epochs: int = 25,\n",
    "             early_stopping: int = 5,\n",
    "             lr: float = 1e-4,\n",
    "             wd: float = 0.0,\n",
    "             max_lr: float = 1e-3,\n",
    "             pct_start: float = 0.2,\n",
    "             steps_per_epoch: int = 100,\n",
    "             div_factor: int = 1e3, \n",
    "             final_div_factor: float = 1e3,\n",
    "             filter_sizes: list = [64, 128, 256],\n",
    "             HL: list = [1024]\n",
    "         ):\n",
    "        \n",
    "        self.seed = seed\n",
    "        self.n_splits = n_splits\n",
    "        self.batch_size = batch_size\n",
    "        self.epochs = epochs\n",
    "        self.early_stopping = early_stopping\n",
    "        self.lr = lr\n",
    "        self.wd = wd\n",
    "        self.max_lr = max_lr\n",
    "        self.pct_start = pct_start\n",
    "        self.steps_per_epoch = steps_per_epoch\n",
    "        self.div_factor = div_factor\n",
    "        self.final_div_factor = final_div_factor\n",
    "        self.filter_sizes = filter_sizes\n",
    "        self.HL = HL\n",
    "        self.device = torch.device(\"cuda\" if torch.cuda.is_available() else \"cpu\")\n",
    "        \n",
    "        self.train_transform = transforms.Compose([\n",
    "            transforms.ToTensor(),\n",
    "            transforms.Normalize([0.13099], [0.30024]),\n",
    "            transforms.RandomAffine(degrees=(-45, 45), translate=(0.15, 0.15), scale=(0.5, 1.5)),\n",
    "            transforms.RandomHorizontalFlip(p=0.25),\n",
    "            transforms.RandomVerticalFlip(p=0.25),\n",
    "        ])\n",
    "        self.valid_transform = transforms.Compose([\n",
    "            transforms.ToTensor(),\n",
    "            transforms.Normalize([0.13099], [0.30024]),\n",
    "        ])\n",
    "        self.save_path = \"saves\"\n",
    "        if not os.path.exists(self.save_path): os.makedirs(self.save_path)\n",
    "\n",
    "\n",
    "cfg = CFG(\n",
    "    seed=SEED, \n",
    ")"
   ]
  },
  {
   "cell_type": "markdown",
   "id": "8e27d8d3",
   "metadata": {
    "papermill": {
     "duration": 0.003006,
     "end_time": "2023-02-02T12:06:52.441681",
     "exception": false,
     "start_time": "2023-02-02T12:06:52.438675",
     "status": "completed"
    },
    "tags": []
   },
   "source": [
    "### **Dataset Template**"
   ]
  },
  {
   "cell_type": "code",
   "execution_count": 4,
   "id": "80c7372d",
   "metadata": {
    "execution": {
     "iopub.execute_input": "2023-02-02T12:06:52.449239Z",
     "iopub.status.busy": "2023-02-02T12:06:52.448931Z",
     "iopub.status.idle": "2023-02-02T12:06:52.455843Z",
     "shell.execute_reply": "2023-02-02T12:06:52.454837Z"
    },
    "papermill": {
     "duration": 0.013135,
     "end_time": "2023-02-02T12:06:52.457915",
     "exception": false,
     "start_time": "2023-02-02T12:06:52.444780",
     "status": "completed"
    },
    "tags": []
   },
   "outputs": [],
   "source": [
    "class DS(Dataset):\n",
    "    def __init__(\n",
    "        self, \n",
    "        images: np.ndarray, \n",
    "        labels: Union[np.ndarray, None]=None, \n",
    "        transform=None\n",
    "    ):\n",
    "        \n",
    "        self.images = images\n",
    "        self.labels = labels\n",
    "        self.transform = transform\n",
    "\n",
    "    def __len__(self):\n",
    "        return self.images.shape[0]\n",
    "\n",
    "    def __getitem__(self, idx):\n",
    "        if self.labels is not None:\n",
    "            return self.transform(self.images[idx]), torch.LongTensor(self.labels[idx])\n",
    "        return self.transform(self.images[idx])"
   ]
  },
  {
   "cell_type": "markdown",
   "id": "2d864621",
   "metadata": {
    "papermill": {
     "duration": 0.00298,
     "end_time": "2023-02-02T12:06:52.464104",
     "exception": false,
     "start_time": "2023-02-02T12:06:52.461124",
     "status": "completed"
    },
    "tags": []
   },
   "source": [
    "### **Model**"
   ]
  },
  {
   "cell_type": "code",
   "execution_count": 5,
   "id": "cfcdfcc9",
   "metadata": {
    "execution": {
     "iopub.execute_input": "2023-02-02T12:06:52.471747Z",
     "iopub.status.busy": "2023-02-02T12:06:52.471485Z",
     "iopub.status.idle": "2023-02-02T12:06:52.488959Z",
     "shell.execute_reply": "2023-02-02T12:06:52.487993Z"
    },
    "papermill": {
     "duration": 0.023729,
     "end_time": "2023-02-02T12:06:52.491073",
     "exception": false,
     "start_time": "2023-02-02T12:06:52.467344",
     "status": "completed"
    },
    "tags": []
   },
   "outputs": [],
   "source": [
    "class Model(nn.Module):\n",
    "    def __init__(self, filter_sizes: list, HL: list, DP: Union[float, None]=None):\n",
    "        \n",
    "        super(Model, self).__init__()\n",
    "        \n",
    "        self.features = nn.Sequential()\n",
    "        self.features.add_module(\"CN1\", nn.Conv2d(in_channels=1, out_channels=filter_sizes[0], kernel_size=(3, 3), stride=(1, 1), padding=(1, 1)))\n",
    "        self.features.add_module(\"BN1\", nn.BatchNorm2d(num_features=filter_sizes[0], eps=1e-5))\n",
    "        self.features.add_module(\"AN1\", nn.ReLU())\n",
    "        self.features.add_module(\"MP1\", nn.MaxPool2d(kernel_size=(2, 2)))\n",
    "        self.features.add_module(\"CN2\", nn.Conv2d(in_channels=filter_sizes[0], out_channels=filter_sizes[1], kernel_size=(3, 3), stride=(1, 1), padding=(1, 1)))\n",
    "        self.features.add_module(\"BN2\", nn.BatchNorm2d(num_features=filter_sizes[1], eps=1e-5))\n",
    "        self.features.add_module(\"AN2\", nn.ReLU())\n",
    "        self.features.add_module(\"MP2\", nn.MaxPool2d(kernel_size=(2, 2)))\n",
    "        self.features.add_module(\"CN3\", nn.Conv2d(in_channels=filter_sizes[1], out_channels=filter_sizes[2], kernel_size=(3, 3), stride=(1, 1), padding=(1, 1)))\n",
    "        self.features.add_module(\"BN3\", nn.BatchNorm2d(num_features=filter_sizes[2], eps=1e-5))\n",
    "        self.features.add_module(\"AN3\", nn.ReLU())\n",
    "        self.features.add_module(\"MP3\", nn.MaxPool2d(kernel_size=(2, 2))) \n",
    "        \n",
    "        self.classifier = nn.Sequential()\n",
    "        if len(HL) == 0:\n",
    "            self.classifier.add_module(\"FC1\", nn.Linear(in_features=filter_sizes[2]*8*8, out_features=10))\n",
    "        elif len(HL) == 1:\n",
    "            self.classifier.add_module(\"FC1\", nn.Linear(in_features=filter_sizes[2]*8*8, out_features=HL[0]))\n",
    "            if isinstance(DP, float):\n",
    "                self.classifier.add_module(\"DP1\", nn.Dropout(p=DP))\n",
    "            self.classifier.add_module(\"AN1\", nn.ReLU())\n",
    "            self.classifier.add_module(\"FC2\", nn.Linear(in_features=HL[0], out_features=10))\n",
    "        elif len(HL) == 2:\n",
    "            self.classifier.add_module(\"FC1\", nn.Linear(in_features=filter_sizes[2]*8*8, out_features=HL[0]))\n",
    "            if isinstance(DP, float):\n",
    "                self.classifier.add_module(\"DP1\", nn.Dropout(p=DP))\n",
    "            self.classifier.add_module(\"AN1\", nn.ReLU())\n",
    "            self.classifier.add_module(\"FC2\", nn.Linear(in_features=HL[0], out_features=HL[1]))\n",
    "            if isinstance(DP, float):\n",
    "                self.classifier.add_module(\"DP2\", nn.Dropout(p=DP))\n",
    "            self.classifier.add_module(\"AN2\", nn.ReLU())\n",
    "            self.classifier.add_module(\"FC3\", nn.Linear(in_features=HL[1], out_features=10))\n",
    "        self.classifier.add_module(\"Final Activation\", nn.LogSoftmax(dim=1))\n",
    "    \n",
    "    def forward(self, x):\n",
    "        x = self.features(x)\n",
    "        x = x.view(x.shape[0], -1)\n",
    "        return self.classifier(x)"
   ]
  },
  {
   "cell_type": "markdown",
   "id": "dd6c8125",
   "metadata": {
    "papermill": {
     "duration": 0.002967,
     "end_time": "2023-02-02T12:06:52.497180",
     "exception": false,
     "start_time": "2023-02-02T12:06:52.494213",
     "status": "completed"
    },
    "tags": []
   },
   "source": [
    "### **Fit and Predict**"
   ]
  },
  {
   "cell_type": "code",
   "execution_count": 6,
   "id": "6532c4f0",
   "metadata": {
    "execution": {
     "iopub.execute_input": "2023-02-02T12:06:52.505143Z",
     "iopub.status.busy": "2023-02-02T12:06:52.504845Z",
     "iopub.status.idle": "2023-02-02T12:06:52.525729Z",
     "shell.execute_reply": "2023-02-02T12:06:52.524923Z"
    },
    "papermill": {
     "duration": 0.027209,
     "end_time": "2023-02-02T12:06:52.527622",
     "exception": false,
     "start_time": "2023-02-02T12:06:52.500413",
     "status": "completed"
    },
    "tags": []
   },
   "outputs": [],
   "source": [
    "def fit(\n",
    "    model=None,\n",
    "    optimizer=None, \n",
    "    scheduler_rlrop=None,\n",
    "    scheduler_oclr=None,\n",
    "    epochs=None, \n",
    "    early_stopping_patience=None, \n",
    "    dataloaders=None, \n",
    "    fold=None, \n",
    "    save_path=None,\n",
    "    device=None,\n",
    "    verbose=False\n",
    ") -> tuple:\n",
    "    \n",
    "    def get_accuracy(y_pred, y_true):\n",
    "        y_pred = torch.argmax(y_pred, dim=1)\n",
    "        return torch.count_nonzero(y_pred == y_true).item() / len(y_pred)\n",
    "    \n",
    "    if verbose:\n",
    "        breaker()\n",
    "        if fold: print(f\"Training Fold {fold}...\")\n",
    "        else: print(\"Training ...\")\n",
    "        breaker()\n",
    "        \n",
    "    bestLoss: dict = {\"train\" : np.inf, \"valid\" : np.inf} \n",
    "    bestAccs: dict = {\"train\" : 0.0, \"valid\" : 0.0}\n",
    "        \n",
    "    Losses: list = []\n",
    "    Accuracies: list = [] \n",
    "    LRs: list = []\n",
    "        \n",
    "    if fold: \n",
    "        ble_name = f\"ble_state_fold_{fold}.pt\"\n",
    "        bae_name = f\"bae_state_fold_{fold}.pt\"\n",
    "    else: \n",
    "        ble_name = f\"ble_state.pt\"\n",
    "        bae_name = f\"bae_state.pt\"\n",
    "        \n",
    "    start_time = time()\n",
    "    for e in range(epochs):\n",
    "        e_st = time()\n",
    "        epochLoss: dict = {\"train\" : 0.0, \"valid\" : 0.0} \n",
    "        epochAccs: dict = {\"train\" : 0.0, \"valid\" : 0.0}\n",
    "            \n",
    "        for phase in [\"train\", \"valid\"]:\n",
    "            if phase == \"train\":\n",
    "                model.train()\n",
    "            else:\n",
    "                model.eval()\n",
    "            \n",
    "            lossPerPass: list = []\n",
    "            accsPerPass: list = []\n",
    "                \n",
    "            for X, y in dataloaders[phase]:\n",
    "                X, y = X.to(device), y.to(device).view(-1)\n",
    "                \n",
    "                optimizer.zero_grad()\n",
    "                with torch.set_grad_enabled(phase == \"train\"):\n",
    "                    output = model(X)\n",
    "                    loss = nn.NLLLoss()(output, y)\n",
    "                    if phase == \"train\":\n",
    "                        loss.backward()\n",
    "                        optimizer.step()\n",
    "                        if scheduler_oclr: scheduler_oclr.step()\n",
    "                lossPerPass.append(loss.item())\n",
    "                accsPerPass.append(get_accuracy(output, y))\n",
    "            epochLoss[phase] = np.mean(np.array(lossPerPass))\n",
    "            epochAccs[phase] = np.mean(np.array(accsPerPass))\n",
    "        if scheduler_oclr: LRs.append(scheduler_oclr.get_last_lr())\n",
    "        Losses.append(epochLoss)\n",
    "        Accuracies.append(epochAccs)\n",
    "        \n",
    "        if scheduler_oclr:\n",
    "            save_dict = {\"model_state_dict\"     : model.state_dict(),\n",
    "                         \"optim_state_dict\"     : optimizer.state_dict(),\n",
    "                         \"scheduler_state_dict\" : scheduler_oclr.state_dict()}\n",
    "        \n",
    "        elif scheduler_rlrop:\n",
    "            save_dict = {\"model_state_dict\"     : model.state_dict(),\n",
    "                         \"optim_state_dict\"     : optimizer.state_dict(),\n",
    "                         \"scheduler_state_dict\" : scheduler_rlrop.state_dict()}\n",
    "        \n",
    "        else:\n",
    "            save_dict = {\"model_state_dict\"     : model.state_dict(),\n",
    "                         \"optim_state_dict\"     : optimizer.state_dict()}\n",
    "        \n",
    "        if early_stopping_patience:\n",
    "            if epochLoss[\"valid\"] < bestLoss[\"valid\"]:\n",
    "                bestLoss = epochLoss\n",
    "                BLE = e + 1\n",
    "                torch.save(save_dict, os.path.join(save_path, ble_name))\n",
    "                torch.save(save_dict, os.path.join(save_path, bae_name))\n",
    "                early_stopping_step = 0\n",
    "            else:\n",
    "                early_stopping_step += 1\n",
    "                if early_stopping_step > early_stopping_patience:\n",
    "                    print(\"\\nEarly Stopping at Epoch {}\".format(e + 1))\n",
    "                    break\n",
    "        \n",
    "        if epochLoss[\"valid\"] < bestLoss[\"valid\"]:\n",
    "            bestLoss = epochLoss\n",
    "            BLE = e + 1\n",
    "            torch.save(save_dict,os.path.join(save_path, ble_name))\n",
    "        \n",
    "        if epochAccs[\"valid\"] > bestAccs[\"valid\"]:\n",
    "            bestAccs = epochAccs\n",
    "            BAE = e + 1\n",
    "            torch.save(save_dict,os.path.join(save_path, bae_name))\n",
    "        \n",
    "        if scheduler_rlrop: scheduler_rlrop.step(epochLoss[\"valid\"])\n",
    "        \n",
    "        if verbose:\n",
    "            print(\"Epoch: {} | Train Loss: {:.5f} | Valid Loss: {:.5f} |\\\n",
    " Train Accs: {:.5f} | Valid Accs: {:.5f} | Time: {:.2f} seconds\".format(\n",
    "                e+1, \n",
    "                epochLoss[\"train\"], epochLoss[\"valid\"], \n",
    "                epochAccs[\"train\"], epochAccs[\"valid\"], \n",
    "                time()-e_st)\n",
    "            )\n",
    "        \n",
    "    if verbose:                                           \n",
    "        breaker()\n",
    "        print(f\"Best Validation Loss at Epoch {BLE}\")\n",
    "        breaker()\n",
    "        print(f\"Best Validation Accs at Epoch {BAE}\")\n",
    "        breaker()\n",
    "        print(\"Time Taken [{} Epochs] : {:.2f} minutes\".format(len(Losses), (time()-start_time)/60))\n",
    "    \n",
    "    return Losses, Accuracies, LRs, bestLoss, bestAccs, BLE, BAE, ble_name, bae_name\n",
    "\n",
    "\n",
    "# def predict_batch(model=None, dataloader=None, path=None, device=None) -> np.ndarray:\n",
    "#     model.load_state_dict(torch.load(path, map_location=device)[\"model_state_dict\"])\n",
    "#     model.to(device)    \n",
    "#     model.eval()\n",
    "    \n",
    "#     y_pred = torch.zeros(1, 1).to(device)\n",
    "    \n",
    "#     for X in dataloader:\n",
    "#         X = X.to(device)\n",
    "#         with torch.no_grad():\n",
    "#             output = torch.argmax(torch.exp(model(X)), dim=1)\n",
    "#         y_pred = torch.cat((y_pred, output.view(-1, 1)), dim=0)\n",
    "    \n",
    "#     return y_pred[1:].detach().cpu().numpy()"
   ]
  },
  {
   "cell_type": "markdown",
   "id": "3f737b87",
   "metadata": {
    "papermill": {
     "duration": 0.002905,
     "end_time": "2023-02-02T12:06:52.533707",
     "exception": false,
     "start_time": "2023-02-02T12:06:52.530802",
     "status": "completed"
    },
    "tags": []
   },
   "source": [
    "### **Train**"
   ]
  },
  {
   "cell_type": "code",
   "execution_count": 7,
   "id": "fa95f806",
   "metadata": {
    "execution": {
     "iopub.execute_input": "2023-02-02T12:06:52.542247Z",
     "iopub.status.busy": "2023-02-02T12:06:52.540744Z",
     "iopub.status.idle": "2023-02-02T12:06:56.104460Z",
     "shell.execute_reply": "2023-02-02T12:06:56.103454Z"
    },
    "papermill": {
     "duration": 3.570128,
     "end_time": "2023-02-02T12:06:56.106915",
     "exception": false,
     "start_time": "2023-02-02T12:06:52.536787",
     "status": "completed"
    },
    "tags": []
   },
   "outputs": [],
   "source": [
    "df = pd.read_csv(\"/kaggle/input/digit-recognizer-ii-2023/train.csv\")\n",
    "\n",
    "images = df.iloc[:, 1:].copy().values.reshape(df.shape[0], 28, 28, 1).astype(\"uint8\")\n",
    "images = np.array([cv2.resize(image, (64, 64), interpolation=cv2.INTER_AREA) for image in images])\n",
    "labels = df.iloc[:, 0].copy().values"
   ]
  },
  {
   "cell_type": "code",
   "execution_count": 8,
   "id": "7b7a0d0c",
   "metadata": {
    "execution": {
     "iopub.execute_input": "2023-02-02T12:06:56.115486Z",
     "iopub.status.busy": "2023-02-02T12:06:56.115153Z",
     "iopub.status.idle": "2023-02-02T12:35:43.392338Z",
     "shell.execute_reply": "2023-02-02T12:35:43.391444Z"
    },
    "papermill": {
     "duration": 1727.283866,
     "end_time": "2023-02-02T12:35:43.394390",
     "exception": false,
     "start_time": "2023-02-02T12:06:56.110524",
     "status": "completed"
    },
    "tags": []
   },
   "outputs": [
    {
     "name": "stdout",
     "output_type": "stream",
     "text": [
      "\n",
      "**************************************************\n",
      "\n",
      "Training Fold 1...\n",
      "\n",
      "**************************************************\n",
      "\n",
      "Epoch: 1 | Train Loss: 1.53279 | Valid Loss: 0.71960 | Train Accs: 0.45619 | Valid Accs: 0.77995 | Time: 41.09 seconds\n",
      "Epoch: 2 | Train Loss: 0.81359 | Valid Loss: 0.57489 | Train Accs: 0.72220 | Valid Accs: 0.83274 | Time: 36.45 seconds\n",
      "Epoch: 3 | Train Loss: 0.57701 | Valid Loss: 0.24038 | Train Accs: 0.80964 | Valid Accs: 0.92365 | Time: 35.12 seconds\n",
      "Epoch: 4 | Train Loss: 0.46321 | Valid Loss: 0.25611 | Train Accs: 0.85098 | Valid Accs: 0.91619 | Time: 32.93 seconds\n",
      "Epoch: 5 | Train Loss: 0.39103 | Valid Loss: 0.16097 | Train Accs: 0.87232 | Valid Accs: 0.95123 | Time: 34.62 seconds\n",
      "Epoch: 6 | Train Loss: 0.33782 | Valid Loss: 0.12681 | Train Accs: 0.89057 | Valid Accs: 0.96188 | Time: 35.35 seconds\n",
      "Epoch: 7 | Train Loss: 0.28810 | Valid Loss: 0.17635 | Train Accs: 0.90670 | Valid Accs: 0.94650 | Time: 32.65 seconds\n",
      "Epoch: 8 | Train Loss: 0.24911 | Valid Loss: 0.12810 | Train Accs: 0.91851 | Valid Accs: 0.95987 | Time: 32.37 seconds\n",
      "Epoch: 9 | Train Loss: 0.22311 | Valid Loss: 0.11497 | Train Accs: 0.92792 | Valid Accs: 0.96413 | Time: 34.47 seconds\n",
      "Epoch: 10 | Train Loss: 0.20644 | Valid Loss: 0.11536 | Train Accs: 0.93289 | Valid Accs: 0.96603 | Time: 33.82 seconds\n",
      "\n",
      "**************************************************\n",
      "\n",
      "Best Validation Loss at Epoch 9\n",
      "\n",
      "**************************************************\n",
      "\n",
      "Best Validation Accs at Epoch 10\n",
      "\n",
      "**************************************************\n",
      "\n",
      "Time Taken [10 Epochs] : 5.81 minutes\n",
      "\n",
      "**************************************************\n",
      "\n"
     ]
    },
    {
     "data": {
      "image/png": "[encoded data removed]",
      "text/plain": [
       "<Figure size 432x288 with 1 Axes>"
      ]
     },
     "metadata": {
      "needs_background": "light"
     },
     "output_type": "display_data"
    },
    {
     "name": "stdout",
     "output_type": "stream",
     "text": [
      "\n",
      "**************************************************\n",
      "\n"
     ]
    },
    {
     "data": {
      "image/png": "[encoded data removed]",
      "text/plain": [
       "<Figure size 432x288 with 1 Axes>"
      ]
     },
     "metadata": {
      "needs_background": "light"
     },
     "output_type": "display_data"
    },
    {
     "name": "stdout",
     "output_type": "stream",
     "text": [
      "\n",
      "**************************************************\n",
      "\n"
     ]
    },
    {
     "data": {
      "image/png": "[encoded data removed]",
      "text/plain": [
       "<Figure size 576x432 with 1 Axes>"
      ]
     },
     "metadata": {
      "needs_background": "light"
     },
     "output_type": "display_data"
    },
    {
     "name": "stdout",
     "output_type": "stream",
     "text": [
      "\n",
      "**************************************************\n",
      "\n",
      "\n",
      "**************************************************\n",
      "\n",
      "Training Fold 2...\n",
      "\n",
      "**************************************************\n",
      "\n",
      "Epoch: 1 | Train Loss: 1.53166 | Valid Loss: 0.36373 | Train Accs: 0.46426 | Valid Accs: 0.90459 | Time: 34.71 seconds\n",
      "Epoch: 2 | Train Loss: 0.81771 | Valid Loss: 0.42027 | Train Accs: 0.72054 | Valid Accs: 0.85831 | Time: 31.99 seconds\n",
      "Epoch: 3 | Train Loss: 0.57544 | Valid Loss: 0.38274 | Train Accs: 0.81107 | Valid Accs: 0.88873 | Time: 33.21 seconds\n",
      "Epoch: 4 | Train Loss: 0.46194 | Valid Loss: 0.20128 | Train Accs: 0.84690 | Valid Accs: 0.94058 | Time: 34.44 seconds\n",
      "Epoch: 5 | Train Loss: 0.39825 | Valid Loss: 0.15877 | Train Accs: 0.86896 | Valid Accs: 0.94993 | Time: 34.98 seconds\n",
      "Epoch: 6 | Train Loss: 0.32828 | Valid Loss: 0.15021 | Train Accs: 0.89232 | Valid Accs: 0.95384 | Time: 35.19 seconds\n",
      "Epoch: 7 | Train Loss: 0.29059 | Valid Loss: 0.14085 | Train Accs: 0.90476 | Valid Accs: 0.95561 | Time: 34.83 seconds\n",
      "Epoch: 8 | Train Loss: 0.25195 | Valid Loss: 0.12326 | Train Accs: 0.91929 | Valid Accs: 0.96011 | Time: 34.67 seconds\n",
      "Epoch: 9 | Train Loss: 0.22428 | Valid Loss: 0.10920 | Train Accs: 0.92705 | Valid Accs: 0.96496 | Time: 34.65 seconds\n",
      "Epoch: 10 | Train Loss: 0.20905 | Valid Loss: 0.10991 | Train Accs: 0.93286 | Valid Accs: 0.96378 | Time: 32.54 seconds\n",
      "\n",
      "**************************************************\n",
      "\n",
      "Best Validation Loss at Epoch 9\n",
      "\n",
      "**************************************************\n",
      "\n",
      "Best Validation Accs at Epoch 9\n",
      "\n",
      "**************************************************\n",
      "\n",
      "Time Taken [10 Epochs] : 5.69 minutes\n",
      "\n",
      "**************************************************\n",
      "\n"
     ]
    },
    {
     "data": {
      "image/png": "[encoded data removed]",
      "text/plain": [
       "<Figure size 432x288 with 1 Axes>"
      ]
     },
     "metadata": {
      "needs_background": "light"
     },
     "output_type": "display_data"
    },
    {
     "name": "stdout",
     "output_type": "stream",
     "text": [
      "\n",
      "**************************************************\n",
      "\n"
     ]
    },
    {
     "data": {
      "image/png": "[encoded data removed]",
      "text/plain": [
       "<Figure size 432x288 with 1 Axes>"
      ]
     },
     "metadata": {
      "needs_background": "light"
     },
     "output_type": "display_data"
    },
    {
     "name": "stdout",
     "output_type": "stream",
     "text": [
      "\n",
      "**************************************************\n",
      "\n"
     ]
    },
    {
     "data": {
      "image/png": "[encoded data removed]",
      "text/plain": [
       "<Figure size 576x432 with 1 Axes>"
      ]
     },
     "metadata": {
      "needs_background": "light"
     },
     "output_type": "display_data"
    },
    {
     "name": "stdout",
     "output_type": "stream",
     "text": [
      "\n",
      "**************************************************\n",
      "\n",
      "\n",
      "**************************************************\n",
      "\n",
      "Training Fold 3...\n",
      "\n",
      "**************************************************\n",
      "\n",
      "Epoch: 1 | Train Loss: 1.51542 | Valid Loss: 0.53993 | Train Accs: 0.46595 | Valid Accs: 0.83428 | Time: 34.62 seconds\n",
      "Epoch: 2 | Train Loss: 0.81069 | Valid Loss: 0.62831 | Train Accs: 0.72628 | Valid Accs: 0.80895 | Time: 32.95 seconds\n",
      "Epoch: 3 | Train Loss: 0.57547 | Valid Loss: 0.31884 | Train Accs: 0.81039 | Valid Accs: 0.89560 | Time: 34.41 seconds\n",
      "Epoch: 4 | Train Loss: 0.45600 | Valid Loss: 0.24216 | Train Accs: 0.84902 | Valid Accs: 0.92460 | Time: 34.88 seconds\n",
      "Epoch: 5 | Train Loss: 0.38624 | Valid Loss: 0.30787 | Train Accs: 0.87262 | Valid Accs: 0.90305 | Time: 33.13 seconds\n",
      "Epoch: 6 | Train Loss: 0.32984 | Valid Loss: 0.15152 | Train Accs: 0.89089 | Valid Accs: 0.95206 | Time: 34.54 seconds\n",
      "Epoch: 7 | Train Loss: 0.28560 | Valid Loss: 0.15161 | Train Accs: 0.90622 | Valid Accs: 0.95301 | Time: 33.43 seconds\n",
      "Epoch: 8 | Train Loss: 0.24377 | Valid Loss: 0.12768 | Train Accs: 0.92051 | Valid Accs: 0.96070 | Time: 35.80 seconds\n",
      "Epoch: 9 | Train Loss: 0.22224 | Valid Loss: 0.10910 | Train Accs: 0.92714 | Valid Accs: 0.96804 | Time: 35.86 seconds\n",
      "Epoch: 10 | Train Loss: 0.20753 | Valid Loss: 0.10712 | Train Accs: 0.93360 | Valid Accs: 0.96697 | Time: 35.00 seconds\n",
      "\n",
      "**************************************************\n",
      "\n",
      "Best Validation Loss at Epoch 10\n",
      "\n",
      "**************************************************\n",
      "\n",
      "Best Validation Accs at Epoch 9\n",
      "\n",
      "**************************************************\n",
      "\n",
      "Time Taken [10 Epochs] : 5.74 minutes\n",
      "\n",
      "**************************************************\n",
      "\n"
     ]
    },
    {
     "data": {
      "image/png": "[encoded data removed]",
      "text/plain": [
       "<Figure size 432x288 with 1 Axes>"
      ]
     },
     "metadata": {
      "needs_background": "light"
     },
     "output_type": "display_data"
    },
    {
     "name": "stdout",
     "output_type": "stream",
     "text": [
      "\n",
      "**************************************************\n",
      "\n"
     ]
    },
    {
     "data": {
      "image/png": "[encoded data removed]",
      "text/plain": [
       "<Figure size 432x288 with 1 Axes>"
      ]
     },
     "metadata": {
      "needs_background": "light"
     },
     "output_type": "display_data"
    },
    {
     "name": "stdout",
     "output_type": "stream",
     "text": [
      "\n",
      "**************************************************\n",
      "\n"
     ]
    },
    {
     "data": {
      "image/png": "[encoded data removed]",
      "text/plain": [
       "<Figure size 576x432 with 1 Axes>"
      ]
     },
     "metadata": {
      "needs_background": "light"
     },
     "output_type": "display_data"
    },
    {
     "name": "stdout",
     "output_type": "stream",
     "text": [
      "\n",
      "**************************************************\n",
      "\n",
      "\n",
      "**************************************************\n",
      "\n",
      "Training Fold 4...\n",
      "\n",
      "**************************************************\n",
      "\n",
      "Epoch: 1 | Train Loss: 1.52756 | Valid Loss: 0.48732 | Train Accs: 0.46304 | Valid Accs: 0.85440 | Time: 34.77 seconds\n",
      "Epoch: 2 | Train Loss: 0.81235 | Valid Loss: 0.47900 | Train Accs: 0.72571 | Valid Accs: 0.86352 | Time: 35.19 seconds\n",
      "Epoch: 3 | Train Loss: 0.57604 | Valid Loss: 0.27143 | Train Accs: 0.80964 | Valid Accs: 0.90909 | Time: 34.32 seconds\n",
      "Epoch: 4 | Train Loss: 0.45604 | Valid Loss: 0.32538 | Train Accs: 0.85071 | Valid Accs: 0.89986 | Time: 32.82 seconds\n",
      "Epoch: 5 | Train Loss: 0.39201 | Valid Loss: 0.15586 | Train Accs: 0.87223 | Valid Accs: 0.95608 | Time: 34.16 seconds\n",
      "Epoch: 6 | Train Loss: 0.33996 | Valid Loss: 0.21103 | Train Accs: 0.88923 | Valid Accs: 0.93312 | Time: 32.76 seconds\n",
      "Epoch: 7 | Train Loss: 0.28705 | Valid Loss: 0.14577 | Train Accs: 0.90696 | Valid Accs: 0.95466 | Time: 34.02 seconds\n",
      "Epoch: 8 | Train Loss: 0.24517 | Valid Loss: 0.10427 | Train Accs: 0.91997 | Valid Accs: 0.96816 | Time: 34.65 seconds\n",
      "Epoch: 9 | Train Loss: 0.22599 | Valid Loss: 0.09752 | Train Accs: 0.92673 | Valid Accs: 0.97325 | Time: 35.49 seconds\n",
      "Epoch: 10 | Train Loss: 0.20386 | Valid Loss: 0.09663 | Train Accs: 0.93426 | Valid Accs: 0.97266 | Time: 34.23 seconds\n",
      "\n",
      "**************************************************\n",
      "\n",
      "Best Validation Loss at Epoch 10\n",
      "\n",
      "**************************************************\n",
      "\n",
      "Best Validation Accs at Epoch 9\n",
      "\n",
      "**************************************************\n",
      "\n",
      "Time Taken [10 Epochs] : 5.71 minutes\n",
      "\n",
      "**************************************************\n",
      "\n"
     ]
    },
    {
     "data": {
      "image/png": "[encoded data removed]",
      "text/plain": [
       "<Figure size 432x288 with 1 Axes>"
      ]
     },
     "metadata": {
      "needs_background": "light"
     },
     "output_type": "display_data"
    },
    {
     "name": "stdout",
     "output_type": "stream",
     "text": [
      "\n",
      "**************************************************\n",
      "\n"
     ]
    },
    {
     "data": {
      "image/png": "[encoded data removed]",
      "text/plain": [
       "<Figure size 432x288 with 1 Axes>"
      ]
     },
     "metadata": {
      "needs_background": "light"
     },
     "output_type": "display_data"
    },
    {
     "name": "stdout",
     "output_type": "stream",
     "text": [
      "\n",
      "**************************************************\n",
      "\n"
     ]
    },
    {
     "data": {
      "image/png": "[encoded data removed]",
      "text/plain": [
       "<Figure size 576x432 with 1 Axes>"
      ]
     },
     "metadata": {
      "needs_background": "light"
     },
     "output_type": "display_data"
    },
    {
     "name": "stdout",
     "output_type": "stream",
     "text": [
      "\n",
      "**************************************************\n",
      "\n",
      "\n",
      "**************************************************\n",
      "\n",
      "Training Fold 5...\n",
      "\n",
      "**************************************************\n",
      "\n",
      "Epoch: 1 | Train Loss: 1.53310 | Valid Loss: 0.49299 | Train Accs: 0.45985 | Valid Accs: 0.84186 | Time: 34.37 seconds\n",
      "Epoch: 2 | Train Loss: 0.82509 | Valid Loss: 0.31058 | Train Accs: 0.72048 | Valid Accs: 0.90720 | Time: 34.58 seconds\n",
      "Epoch: 3 | Train Loss: 0.58157 | Valid Loss: 0.28512 | Train Accs: 0.80750 | Valid Accs: 0.90921 | Time: 34.93 seconds\n",
      "Epoch: 4 | Train Loss: 0.47180 | Valid Loss: 0.23713 | Train Accs: 0.84354 | Valid Accs: 0.91821 | Time: 34.72 seconds\n",
      "Epoch: 5 | Train Loss: 0.39714 | Valid Loss: 0.19938 | Train Accs: 0.87003 | Valid Accs: 0.93833 | Time: 34.79 seconds\n",
      "Epoch: 6 | Train Loss: 0.34181 | Valid Loss: 0.12548 | Train Accs: 0.88842 | Valid Accs: 0.95845 | Time: 34.68 seconds\n",
      "Epoch: 7 | Train Loss: 0.28652 | Valid Loss: 0.15597 | Train Accs: 0.90851 | Valid Accs: 0.94875 | Time: 33.18 seconds\n",
      "Epoch: 8 | Train Loss: 0.24891 | Valid Loss: 0.13807 | Train Accs: 0.91899 | Valid Accs: 0.95419 | Time: 32.84 seconds\n",
      "Epoch: 9 | Train Loss: 0.22070 | Valid Loss: 0.10732 | Train Accs: 0.92899 | Valid Accs: 0.96425 | Time: 34.27 seconds\n",
      "Epoch: 10 | Train Loss: 0.20894 | Valid Loss: 0.10310 | Train Accs: 0.93146 | Valid Accs: 0.96615 | Time: 35.01 seconds\n",
      "\n",
      "**************************************************\n",
      "\n",
      "Best Validation Loss at Epoch 10\n",
      "\n",
      "**************************************************\n",
      "\n",
      "Best Validation Accs at Epoch 10\n",
      "\n",
      "**************************************************\n",
      "\n",
      "Time Taken [10 Epochs] : 5.72 minutes\n",
      "\n",
      "**************************************************\n",
      "\n"
     ]
    },
    {
     "data": {
      "image/png": "[encoded data removed]",
      "text/plain": [
       "<Figure size 432x288 with 1 Axes>"
      ]
     },
     "metadata": {
      "needs_background": "light"
     },
     "output_type": "display_data"
    },
    {
     "name": "stdout",
     "output_type": "stream",
     "text": [
      "\n",
      "**************************************************\n",
      "\n"
     ]
    },
    {
     "data": {
      "image/png": "[encoded data removed]",
      "text/plain": [
       "<Figure size 432x288 with 1 Axes>"
      ]
     },
     "metadata": {
      "needs_background": "light"
     },
     "output_type": "display_data"
    },
    {
     "name": "stdout",
     "output_type": "stream",
     "text": [
      "\n",
      "**************************************************\n",
      "\n"
     ]
    },
    {
     "data": {
      "image/png": "[encoded data removed]",
      "text/plain": [
       "<Figure size 576x432 with 1 Axes>"
      ]
     },
     "metadata": {
      "needs_background": "light"
     },
     "output_type": "display_data"
    },
    {
     "name": "stdout",
     "output_type": "stream",
     "text": [
      "\n",
      "**************************************************\n",
      "\n"
     ]
    }
   ],
   "source": [
    "fold: int = 1\n",
    "BLs: list = []\n",
    "BAs: list = []\n",
    "    \n",
    "cfg.batch_size = 64\n",
    "cfg.epochs = 10\n",
    "    \n",
    "for tr_idx, va_idx in StratifiedKFold(n_splits=cfg.n_splits, random_state=cfg.seed, shuffle=True).split(images, labels):\n",
    "\n",
    "    tr_images, va_images = images[tr_idx], images[va_idx] \n",
    "    tr_labels, va_labels = labels[tr_idx], labels[va_idx]\n",
    "    \n",
    "    tr_data_setup = DS(\n",
    "        images=tr_images, \n",
    "        labels=tr_labels.reshape(-1, 1),\n",
    "        transform=cfg.train_transform\n",
    "    )\n",
    "\n",
    "    va_data_setup = DS(\n",
    "        images=va_images, \n",
    "        labels=va_labels.reshape(-1, 1),\n",
    "        transform=cfg.valid_transform\n",
    "    )\n",
    "\n",
    "    dataloaders = {\n",
    "        \"train\" : DL(tr_data_setup, batch_size=cfg.batch_size, shuffle=True, generator=torch.manual_seed(cfg.seed)),\n",
    "        \"valid\" : DL(va_data_setup, batch_size=cfg.batch_size, shuffle=False),\n",
    "    }\n",
    "\n",
    "    cfg.steps_per_epoch=len(dataloaders[\"train\"])\n",
    "    \n",
    "    torch.manual_seed(cfg.seed)\n",
    "    model = Model(filter_sizes=cfg.filter_sizes, HL=cfg.HL).to(cfg.device)\n",
    "\n",
    "    optimizer = optim.Adam([p for p in model.parameters() if p.requires_grad], lr=cfg.lr, weight_decay=cfg.wd)\n",
    "    # optimizer = optim.AdamW([p for p in model.parameters() if p.requires_grad], lr=cfg.lr, weight_decay=cfg.wd)\n",
    "    # optimizer = optim.SGD([p for p in model.parameters() if p.requires_grad], lr=cfg.lr, weight_decay=cfg.wd, momentum=0.9)\n",
    "\n",
    "    scheduler_oclr = optim.lr_scheduler.OneCycleLR(\n",
    "        optimizer=optimizer, \n",
    "        max_lr=cfg.max_lr, \n",
    "        epochs=cfg.epochs, \n",
    "        steps_per_epoch=cfg.steps_per_epoch,\n",
    "        pct_start=cfg.pct_start, \n",
    "        div_factor=cfg.div_factor, \n",
    "        final_div_factor=cfg.final_div_factor\n",
    "    )\n",
    "    \n",
    "    # scheduler_rlrop = optim.lr_scheduler.ReduceLROnPlateau(\n",
    "    #     optimizer=optimizer,\n",
    "    #     patience=cfg.patience,\n",
    "    #     eps=cfg.eps,\n",
    "    #     verbose=True\n",
    "    # )\n",
    "\n",
    "    # scheduler_oclr = None\n",
    "    scheduler_rlrop = None\n",
    "    \n",
    "    L, A, LR, BL, BA, _, _, _, _ = fit(\n",
    "        model=model, \n",
    "        optimizer=optimizer, \n",
    "        scheduler_oclr=scheduler_oclr,\n",
    "        scheduler_rlrop=scheduler_rlrop,\n",
    "        epochs=cfg.epochs, \n",
    "        early_stopping_patience=cfg.early_stopping, \n",
    "        dataloaders=dataloaders, \n",
    "        device=cfg.device,\n",
    "        save_path=cfg.save_path,\n",
    "        fold=fold,\n",
    "        verbose=True\n",
    "    )\n",
    "\n",
    "\n",
    "    breaker()\n",
    "    show_loss_graphs(L)\n",
    "    breaker()\n",
    "    show_accuracy_graphs(A)\n",
    "    breaker()\n",
    "    if scheduler_oclr:\n",
    "        show_lr_graph(LR)\n",
    "        breaker()\n",
    "    \n",
    "    BLs.append(BL)\n",
    "    BAs.append(BA)\n",
    "\n",
    "    fold += 1"
   ]
  },
  {
   "cell_type": "code",
   "execution_count": 9,
   "id": "49f0805e",
   "metadata": {
    "execution": {
     "iopub.execute_input": "2023-02-02T12:35:43.416642Z",
     "iopub.status.busy": "2023-02-02T12:35:43.415840Z",
     "iopub.status.idle": "2023-02-02T12:35:43.423642Z",
     "shell.execute_reply": "2023-02-02T12:35:43.422577Z"
    },
    "papermill": {
     "duration": 0.020708,
     "end_time": "2023-02-02T12:35:43.425603",
     "exception": false,
     "start_time": "2023-02-02T12:35:43.404895",
     "status": "completed"
    },
    "tags": []
   },
   "outputs": [
    {
     "name": "stdout",
     "output_type": "stream",
     "text": [
      "\n",
      "**************************************************\n",
      "\n",
      "Best Loss Model Fold     : 4\n",
      "Best Accuracy Model Fold : 4\n",
      "\n",
      "**************************************************\n",
      "\n"
     ]
    }
   ],
   "source": [
    "BL = np.inf\n",
    "for i in range(len(BLs)):\n",
    "    if BLs[i][\"valid\"] < BL:\n",
    "        BL = BLs[i][\"valid\"]\n",
    "        best_loss_index = i\n",
    "\n",
    "        \n",
    "BA = 0.0\n",
    "for i in range(len(BAs)):\n",
    "    if BAs[i][\"valid\"] > BA:\n",
    "        BA = BAs[i][\"valid\"]\n",
    "        best_accs_index = i\n",
    "\n",
    "breaker()\n",
    "print(f\"Best Loss Model Fold     : {best_loss_index + 1}\")\n",
    "print(f\"Best Accuracy Model Fold : {best_accs_index + 1}\")\n",
    "breaker()"
   ]
  }
 ],
 "metadata": {
  "kernelspec": {
   "display_name": "Python 3",
   "language": "python",
   "name": "python3"
  },
  "language_info": {
   "codemirror_mode": {
    "name": "ipython",
    "version": 3
   },
   "file_extension": ".py",
   "mimetype": "text/x-python",
   "name": "python",
   "nbconvert_exporter": "python",
   "pygments_lexer": "ipython3",
   "version": "3.7.12"
  },
  "papermill": {
   "default_parameters": {},
   "duration": 1742.925092,
   "end_time": "2023-02-02T12:35:44.860199",
   "environment_variables": {},
   "exception": null,
   "input_path": "__notebook__.ipynb",
   "output_path": "__notebook__.ipynb",
   "parameters": {},
   "start_time": "2023-02-02T12:06:41.935107",
   "version": "2.3.4"
  }
 },
 "nbformat": 4,
 "nbformat_minor": 5
}
