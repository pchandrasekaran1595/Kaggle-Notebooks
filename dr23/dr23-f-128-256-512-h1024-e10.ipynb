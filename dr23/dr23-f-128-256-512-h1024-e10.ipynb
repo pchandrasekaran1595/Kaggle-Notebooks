{
 "cells": [
  {
   "cell_type": "markdown",
   "id": "07068569",
   "metadata": {
    "_cell_guid": "b1076dfc-b9ad-4769-8c92-a6c4dae69d19",
    "_uuid": "8f2839f25d086af736a60e9eeb907d3b93b6e0e5",
    "papermill": {
     "duration": 0.003988,
     "end_time": "2023-02-02T11:30:30.579477",
     "exception": false,
     "start_time": "2023-02-02T11:30:30.575489",
     "status": "completed"
    },
    "tags": []
   },
   "source": [
    "### **Library Imports**"
   ]
  },
  {
   "cell_type": "code",
   "execution_count": 1,
   "id": "c1750454",
   "metadata": {
    "execution": {
     "iopub.execute_input": "2023-02-02T11:30:30.588088Z",
     "iopub.status.busy": "2023-02-02T11:30:30.587188Z",
     "iopub.status.idle": "2023-02-02T11:30:33.344611Z",
     "shell.execute_reply": "2023-02-02T11:30:33.343317Z"
    },
    "papermill": {
     "duration": 2.765705,
     "end_time": "2023-02-02T11:30:33.348331",
     "exception": false,
     "start_time": "2023-02-02T11:30:30.582626",
     "status": "completed"
    },
    "tags": []
   },
   "outputs": [],
   "source": [
    "import os\n",
    "import re\n",
    "import cv2\n",
    "import torch\n",
    "import numpy as np\n",
    "import pandas as pd\n",
    "import matplotlib.pyplot as plt\n",
    "\n",
    "from time import time\n",
    "from typing import Union\n",
    "from torch import nn, optim\n",
    "from torch.utils.data import Dataset\n",
    "from torch.utils.data import DataLoader as DL\n",
    "from torchvision import transforms\n",
    "\n",
    "from sklearn.model_selection import StratifiedKFold"
   ]
  },
  {
   "cell_type": "code",
   "execution_count": 2,
   "id": "4772bc95",
   "metadata": {
    "execution": {
     "iopub.execute_input": "2023-02-02T11:30:33.361042Z",
     "iopub.status.busy": "2023-02-02T11:30:33.360387Z",
     "iopub.status.idle": "2023-02-02T11:30:33.376994Z",
     "shell.execute_reply": "2023-02-02T11:30:33.375845Z"
    },
    "papermill": {
     "duration": 0.024739,
     "end_time": "2023-02-02T11:30:33.379470",
     "exception": false,
     "start_time": "2023-02-02T11:30:33.354731",
     "status": "completed"
    },
    "tags": []
   },
   "outputs": [],
   "source": [
    "SEED: int = 42\n",
    "    \n",
    "\n",
    "def breaker(num: int=50, char: str=\"*\") -> None: print(\"\\n\" + num*char + \"\\n\")\n",
    "\n",
    "    \n",
    "def show_loss_graphs(L: list) -> None:\n",
    "    TL, VL = [], []\n",
    "    for i in range(len(L)):\n",
    "        TL.append(L[i][\"train\"])\n",
    "        VL.append(L[i][\"valid\"])\n",
    "    x_Axis = np.arange(1, len(TL) + 1)\n",
    "    plt.figure()\n",
    "    plt.plot(x_Axis, TL, \"r\", label=\"Train\")\n",
    "    plt.plot(x_Axis, VL, \"b\", label=\"Valid\")\n",
    "    plt.legend()\n",
    "    plt.grid()\n",
    "    plt.title(\"Loss Graph\")\n",
    "    plt.show()\n",
    "    \n",
    "\n",
    "def show_accuracy_graphs(A: list) -> None:\n",
    "    TA, VA = [], []\n",
    "    for i in range(len(A)):\n",
    "        TA.append(A[i][\"train\"])\n",
    "        VA.append(A[i][\"valid\"])\n",
    "    x_Axis = np.arange(1, len(TA) + 1)\n",
    "    plt.figure()\n",
    "    plt.plot(x_Axis, TA, \"r\", label=\"Train\")\n",
    "    plt.plot(x_Axis, VA, \"b\", label=\"Valid\")\n",
    "    plt.legend()\n",
    "    plt.grid()\n",
    "    plt.title(\"Accuracy Graph\")\n",
    "    plt.show()\n",
    "    \n",
    "\n",
    "def show_lr_graph(LR: list) -> None:\n",
    "    x_Axis = [i+1 for i in range(len(LR))]\n",
    "    plt.figure(figsize=(8, 6))\n",
    "    plt.plot(x_Axis, LR, \"rx\")\n",
    "    plt.grid()\n",
    "    plt.show()"
   ]
  },
  {
   "cell_type": "code",
   "execution_count": 3,
   "id": "de8c4c4e",
   "metadata": {
    "execution": {
     "iopub.execute_input": "2023-02-02T11:30:33.389468Z",
     "iopub.status.busy": "2023-02-02T11:30:33.389194Z",
     "iopub.status.idle": "2023-02-02T11:30:33.465506Z",
     "shell.execute_reply": "2023-02-02T11:30:33.464558Z"
    },
    "papermill": {
     "duration": 0.084313,
     "end_time": "2023-02-02T11:30:33.468096",
     "exception": false,
     "start_time": "2023-02-02T11:30:33.383783",
     "status": "completed"
    },
    "tags": []
   },
   "outputs": [],
   "source": [
    "class CFG(object):\n",
    "    def __init__(self,\n",
    "             seed: int = 42,\n",
    "             n_splits: int = 5,\n",
    "             batch_size: int = 16,\n",
    "             epochs: int = 25,\n",
    "             early_stopping: int = 5,\n",
    "             lr: float = 1e-4,\n",
    "             wd: float = 0.0,\n",
    "             max_lr: float = 1e-3,\n",
    "             pct_start: float = 0.2,\n",
    "             steps_per_epoch: int = 100,\n",
    "             div_factor: int = 1e3, \n",
    "             final_div_factor: float = 1e3,\n",
    "             filter_sizes: list = [64, 128, 256],\n",
    "             HL: list = [1024]\n",
    "         ):\n",
    "        \n",
    "        self.seed = seed\n",
    "        self.n_splits = n_splits\n",
    "        self.batch_size = batch_size\n",
    "        self.epochs = epochs\n",
    "        self.early_stopping = early_stopping\n",
    "        self.lr = lr\n",
    "        self.wd = wd\n",
    "        self.max_lr = max_lr\n",
    "        self.pct_start = pct_start\n",
    "        self.steps_per_epoch = steps_per_epoch\n",
    "        self.div_factor = div_factor\n",
    "        self.final_div_factor = final_div_factor\n",
    "        self.filter_sizes = filter_sizes\n",
    "        self.HL = HL\n",
    "        self.device = torch.device(\"cuda\" if torch.cuda.is_available() else \"cpu\")\n",
    "        \n",
    "        self.train_transform = transforms.Compose([\n",
    "            transforms.ToTensor(),\n",
    "            transforms.Normalize([0.13102], [0.17323]),\n",
    "            transforms.RandomAffine(degrees=(-45, 45), translate=(0.15, 0.15), scale=(0.5, 1.5)),\n",
    "            transforms.RandomHorizontalFlip(p=0.25),\n",
    "            transforms.RandomVerticalFlip(p=0.25),\n",
    "        ])\n",
    "        self.valid_transform = transforms.Compose([\n",
    "            transforms.ToTensor(),\n",
    "            transforms.Normalize([0.13102], [0.17323]),\n",
    "        ])\n",
    "        self.save_path = \"saves\"\n",
    "        if not os.path.exists(self.save_path): os.makedirs(self.save_path)\n",
    "\n",
    "\n",
    "cfg = CFG(\n",
    "    seed=SEED, \n",
    ")"
   ]
  },
  {
   "cell_type": "markdown",
   "id": "f01265f2",
   "metadata": {
    "papermill": {
     "duration": 0.00467,
     "end_time": "2023-02-02T11:30:33.477242",
     "exception": false,
     "start_time": "2023-02-02T11:30:33.472572",
     "status": "completed"
    },
    "tags": []
   },
   "source": [
    "### **Dataset Template**"
   ]
  },
  {
   "cell_type": "code",
   "execution_count": 4,
   "id": "c0c13a75",
   "metadata": {
    "execution": {
     "iopub.execute_input": "2023-02-02T11:30:33.488274Z",
     "iopub.status.busy": "2023-02-02T11:30:33.487960Z",
     "iopub.status.idle": "2023-02-02T11:30:33.496037Z",
     "shell.execute_reply": "2023-02-02T11:30:33.495222Z"
    },
    "papermill": {
     "duration": 0.016354,
     "end_time": "2023-02-02T11:30:33.498396",
     "exception": false,
     "start_time": "2023-02-02T11:30:33.482042",
     "status": "completed"
    },
    "tags": []
   },
   "outputs": [],
   "source": [
    "class DS(Dataset):\n",
    "    def __init__(\n",
    "        self, \n",
    "        images: np.ndarray, \n",
    "        labels: Union[np.ndarray, None]=None, \n",
    "        transform=None\n",
    "    ):\n",
    "        \n",
    "        self.images = images\n",
    "        self.labels = labels\n",
    "        self.transform = transform\n",
    "\n",
    "    def __len__(self):\n",
    "        return self.images.shape[0]\n",
    "\n",
    "    def __getitem__(self, idx):\n",
    "        if self.labels is not None:\n",
    "            return self.transform(self.images[idx]), torch.LongTensor(self.labels[idx])\n",
    "        return self.transform(self.images[idx])"
   ]
  },
  {
   "cell_type": "markdown",
   "id": "dc0bce36",
   "metadata": {
    "papermill": {
     "duration": 0.004325,
     "end_time": "2023-02-02T11:30:33.507060",
     "exception": false,
     "start_time": "2023-02-02T11:30:33.502735",
     "status": "completed"
    },
    "tags": []
   },
   "source": [
    "### **Model**"
   ]
  },
  {
   "cell_type": "code",
   "execution_count": 5,
   "id": "1443af34",
   "metadata": {
    "execution": {
     "iopub.execute_input": "2023-02-02T11:30:33.516731Z",
     "iopub.status.busy": "2023-02-02T11:30:33.516399Z",
     "iopub.status.idle": "2023-02-02T11:30:33.542321Z",
     "shell.execute_reply": "2023-02-02T11:30:33.541416Z"
    },
    "papermill": {
     "duration": 0.033454,
     "end_time": "2023-02-02T11:30:33.544737",
     "exception": false,
     "start_time": "2023-02-02T11:30:33.511283",
     "status": "completed"
    },
    "tags": []
   },
   "outputs": [],
   "source": [
    "class Model(nn.Module):\n",
    "    def __init__(self, filter_sizes: list, HL: list, DP: Union[float, None]=None):\n",
    "        \n",
    "        super(Model, self).__init__()\n",
    "        \n",
    "        self.features = nn.Sequential()\n",
    "        self.features.add_module(\"CN1\", nn.Conv2d(in_channels=1, out_channels=filter_sizes[0], kernel_size=(3, 3), stride=(1, 1), padding=(1, 1)))\n",
    "        self.features.add_module(\"BN1\", nn.BatchNorm2d(num_features=filter_sizes[0], eps=1e-5))\n",
    "        self.features.add_module(\"AN1\", nn.ReLU())\n",
    "        self.features.add_module(\"MP1\", nn.MaxPool2d(kernel_size=(2, 2)))\n",
    "        self.features.add_module(\"CN2\", nn.Conv2d(in_channels=filter_sizes[0], out_channels=filter_sizes[1], kernel_size=(3, 3), stride=(1, 1), padding=(1, 1)))\n",
    "        self.features.add_module(\"BN2\", nn.BatchNorm2d(num_features=filter_sizes[1], eps=1e-5))\n",
    "        self.features.add_module(\"AN2\", nn.ReLU())\n",
    "        self.features.add_module(\"MP2\", nn.MaxPool2d(kernel_size=(2, 2)))\n",
    "        self.features.add_module(\"CN3\", nn.Conv2d(in_channels=filter_sizes[1], out_channels=filter_sizes[2], kernel_size=(3, 3), stride=(1, 1), padding=(1, 1)))\n",
    "        self.features.add_module(\"BN3\", nn.BatchNorm2d(num_features=filter_sizes[2], eps=1e-5))\n",
    "        self.features.add_module(\"AN3\", nn.ReLU())\n",
    "        self.features.add_module(\"MP3\", nn.MaxPool2d(kernel_size=(2, 2))) \n",
    "        \n",
    "        self.classifier = nn.Sequential()\n",
    "        if len(HL) == 0:\n",
    "            self.classifier.add_module(\"FC1\", nn.Linear(in_features=filter_sizes[2]*3*3, out_features=10))\n",
    "        elif len(HL) == 1:\n",
    "            self.classifier.add_module(\"FC1\", nn.Linear(in_features=filter_sizes[2]*3*3, out_features=HL[0]))\n",
    "            if isinstance(DP, float):\n",
    "                self.classifier.add_module(\"DP1\", nn.Dropout(p=DP))\n",
    "            self.classifier.add_module(\"AN1\", nn.ReLU())\n",
    "            self.classifier.add_module(\"FC2\", nn.Linear(in_features=HL[0], out_features=10))\n",
    "        elif len(HL) == 2:\n",
    "            self.classifier.add_module(\"FC1\", nn.Linear(in_features=filter_sizes[2]*3*3, out_features=HL[0]))\n",
    "            if isinstance(DP, float):\n",
    "                self.classifier.add_module(\"DP1\", nn.Dropout(p=DP))\n",
    "            self.classifier.add_module(\"AN1\", nn.ReLU())\n",
    "            self.classifier.add_module(\"FC2\", nn.Linear(in_features=HL[0], out_features=HL[1]))\n",
    "            if isinstance(DP, float):\n",
    "                self.classifier.add_module(\"DP2\", nn.Dropout(p=DP))\n",
    "            self.classifier.add_module(\"AN2\", nn.ReLU())\n",
    "            self.classifier.add_module(\"FC3\", nn.Linear(in_features=HL[1], out_features=10))\n",
    "        self.classifier.add_module(\"Final Activation\", nn.LogSoftmax(dim=1))\n",
    "    \n",
    "    def forward(self, x):\n",
    "        x = self.features(x)\n",
    "        x = x.view(x.shape[0], -1)\n",
    "        return self.classifier(x)"
   ]
  },
  {
   "cell_type": "markdown",
   "id": "b2d640f9",
   "metadata": {
    "papermill": {
     "duration": 0.004869,
     "end_time": "2023-02-02T11:30:33.554152",
     "exception": false,
     "start_time": "2023-02-02T11:30:33.549283",
     "status": "completed"
    },
    "tags": []
   },
   "source": [
    "### **Fit and Predict**"
   ]
  },
  {
   "cell_type": "code",
   "execution_count": 6,
   "id": "e2347d3e",
   "metadata": {
    "execution": {
     "iopub.execute_input": "2023-02-02T11:30:33.564941Z",
     "iopub.status.busy": "2023-02-02T11:30:33.564625Z",
     "iopub.status.idle": "2023-02-02T11:30:33.596539Z",
     "shell.execute_reply": "2023-02-02T11:30:33.595653Z"
    },
    "papermill": {
     "duration": 0.040044,
     "end_time": "2023-02-02T11:30:33.598950",
     "exception": false,
     "start_time": "2023-02-02T11:30:33.558906",
     "status": "completed"
    },
    "tags": []
   },
   "outputs": [],
   "source": [
    "def fit(\n",
    "    model=None,\n",
    "    optimizer=None, \n",
    "    scheduler_rlrop=None,\n",
    "    scheduler_oclr=None,\n",
    "    epochs=None, \n",
    "    early_stopping_patience=None, \n",
    "    dataloaders=None, \n",
    "    fold=None, \n",
    "    save_path=None,\n",
    "    device=None,\n",
    "    verbose=False\n",
    ") -> tuple:\n",
    "    \n",
    "    def get_accuracy(y_pred, y_true):\n",
    "        y_pred = torch.argmax(y_pred, dim=1)\n",
    "        return torch.count_nonzero(y_pred == y_true).item() / len(y_pred)\n",
    "    \n",
    "    if verbose:\n",
    "        breaker()\n",
    "        if fold: print(f\"Training Fold {fold}...\")\n",
    "        else: print(\"Training ...\")\n",
    "        breaker()\n",
    "        \n",
    "    bestLoss: dict = {\"train\" : np.inf, \"valid\" : np.inf} \n",
    "    bestAccs: dict = {\"train\" : 0.0, \"valid\" : 0.0}\n",
    "        \n",
    "    Losses: list = []\n",
    "    Accuracies: list = [] \n",
    "    LRs: list = []\n",
    "        \n",
    "    if fold: \n",
    "        ble_name = f\"ble_state_fold_{fold}.pt\"\n",
    "        bae_name = f\"bae_state_fold_{fold}.pt\"\n",
    "    else: \n",
    "        ble_name = f\"ble_state.pt\"\n",
    "        bae_name = f\"bae_state.pt\"\n",
    "        \n",
    "    start_time = time()\n",
    "    for e in range(epochs):\n",
    "        e_st = time()\n",
    "        epochLoss: dict = {\"train\" : 0.0, \"valid\" : 0.0} \n",
    "        epochAccs: dict = {\"train\" : 0.0, \"valid\" : 0.0}\n",
    "            \n",
    "        for phase in [\"train\", \"valid\"]:\n",
    "            if phase == \"train\":\n",
    "                model.train()\n",
    "            else:\n",
    "                model.eval()\n",
    "            \n",
    "            lossPerPass: list = []\n",
    "            accsPerPass: list = []\n",
    "                \n",
    "            for X, y in dataloaders[phase]:\n",
    "                X, y = X.to(device), y.to(device).view(-1)\n",
    "                \n",
    "                optimizer.zero_grad()\n",
    "                with torch.set_grad_enabled(phase == \"train\"):\n",
    "                    output = model(X)\n",
    "                    loss = nn.NLLLoss()(output, y)\n",
    "                    if phase == \"train\":\n",
    "                        loss.backward()\n",
    "                        optimizer.step()\n",
    "                        if scheduler_oclr: scheduler_oclr.step()\n",
    "                lossPerPass.append(loss.item())\n",
    "                accsPerPass.append(get_accuracy(output, y))\n",
    "            epochLoss[phase] = np.mean(np.array(lossPerPass))\n",
    "            epochAccs[phase] = np.mean(np.array(accsPerPass))\n",
    "        if scheduler_oclr: LRs.append(scheduler_oclr.get_last_lr())\n",
    "        Losses.append(epochLoss)\n",
    "        Accuracies.append(epochAccs)\n",
    "        \n",
    "        if scheduler_oclr:\n",
    "            save_dict = {\"model_state_dict\"     : model.state_dict(),\n",
    "                         \"optim_state_dict\"     : optimizer.state_dict(),\n",
    "                         \"scheduler_state_dict\" : scheduler_oclr.state_dict()}\n",
    "        \n",
    "        elif scheduler_rlrop:\n",
    "            save_dict = {\"model_state_dict\"     : model.state_dict(),\n",
    "                         \"optim_state_dict\"     : optimizer.state_dict(),\n",
    "                         \"scheduler_state_dict\" : scheduler_rlrop.state_dict()}\n",
    "        \n",
    "        else:\n",
    "            save_dict = {\"model_state_dict\"     : model.state_dict(),\n",
    "                         \"optim_state_dict\"     : optimizer.state_dict()}\n",
    "        \n",
    "        if early_stopping_patience:\n",
    "            if epochLoss[\"valid\"] < bestLoss[\"valid\"]:\n",
    "                bestLoss = epochLoss\n",
    "                BLE = e + 1\n",
    "                torch.save(save_dict, os.path.join(save_path, ble_name))\n",
    "                torch.save(save_dict, os.path.join(save_path, bae_name))\n",
    "                early_stopping_step = 0\n",
    "            else:\n",
    "                early_stopping_step += 1\n",
    "                if early_stopping_step > early_stopping_patience:\n",
    "                    print(\"\\nEarly Stopping at Epoch {}\".format(e + 1))\n",
    "                    break\n",
    "        \n",
    "        if epochLoss[\"valid\"] < bestLoss[\"valid\"]:\n",
    "            bestLoss = epochLoss\n",
    "            BLE = e + 1\n",
    "            torch.save(save_dict,os.path.join(save_path, ble_name))\n",
    "        \n",
    "        if epochAccs[\"valid\"] > bestAccs[\"valid\"]:\n",
    "            bestAccs = epochAccs\n",
    "            BAE = e + 1\n",
    "            torch.save(save_dict,os.path.join(save_path, bae_name))\n",
    "        \n",
    "        if scheduler_rlrop: scheduler_rlrop.step(epochLoss[\"valid\"])\n",
    "        \n",
    "        if verbose:\n",
    "            print(\"Epoch: {} | Train Loss: {:.5f} | Valid Loss: {:.5f} |\\\n",
    " Train Accs: {:.5f} | Valid Accs: {:.5f} | Time: {:.2f} seconds\".format(\n",
    "                e+1, \n",
    "                epochLoss[\"train\"], epochLoss[\"valid\"], \n",
    "                epochAccs[\"train\"], epochAccs[\"valid\"], \n",
    "                time()-e_st)\n",
    "            )\n",
    "        \n",
    "    if verbose:                                           \n",
    "        breaker()\n",
    "        print(f\"Best Validation Loss at Epoch {BLE}\")\n",
    "        breaker()\n",
    "        print(f\"Best Validation Accs at Epoch {BAE}\")\n",
    "        breaker()\n",
    "        print(\"Time Taken [{} Epochs] : {:.2f} minutes\".format(len(Losses), (time()-start_time)/60))\n",
    "    \n",
    "    return Losses, Accuracies, LRs, bestLoss, bestAccs, BLE, BAE, ble_name, bae_name\n",
    "\n",
    "\n",
    "# def predict_batch(model=None, dataloader=None, path=None, device=None) -> np.ndarray:\n",
    "#     model.load_state_dict(torch.load(path, map_location=device)[\"model_state_dict\"])\n",
    "#     model.to(device)    \n",
    "#     model.eval()\n",
    "    \n",
    "#     y_pred = torch.zeros(1, 1).to(device)\n",
    "    \n",
    "#     for X in dataloader:\n",
    "#         X = X.to(device)\n",
    "#         with torch.no_grad():\n",
    "#             output = torch.argmax(torch.exp(model(X)), dim=1)\n",
    "#         y_pred = torch.cat((y_pred, output.view(-1, 1)), dim=0)\n",
    "    \n",
    "#     return y_pred[1:].detach().cpu().numpy()"
   ]
  },
  {
   "cell_type": "markdown",
   "id": "71739c18",
   "metadata": {
    "papermill": {
     "duration": 0.004428,
     "end_time": "2023-02-02T11:30:33.608298",
     "exception": false,
     "start_time": "2023-02-02T11:30:33.603870",
     "status": "completed"
    },
    "tags": []
   },
   "source": [
    "### **Train**"
   ]
  },
  {
   "cell_type": "code",
   "execution_count": 7,
   "id": "33c41473",
   "metadata": {
    "execution": {
     "iopub.execute_input": "2023-02-02T11:30:33.619207Z",
     "iopub.status.busy": "2023-02-02T11:30:33.618791Z",
     "iopub.status.idle": "2023-02-02T11:30:36.768499Z",
     "shell.execute_reply": "2023-02-02T11:30:36.767516Z"
    },
    "papermill": {
     "duration": 3.158007,
     "end_time": "2023-02-02T11:30:36.771183",
     "exception": false,
     "start_time": "2023-02-02T11:30:33.613176",
     "status": "completed"
    },
    "tags": []
   },
   "outputs": [],
   "source": [
    "df = pd.read_csv(\"/kaggle/input/digit-recognizer-ii-2023/train.csv\")\n",
    "\n",
    "images = df.iloc[:, 1:].copy().values.reshape(df.shape[0], 28, 28, 1).astype(\"uint8\")\n",
    "labels = df.iloc[:, 0].copy().values"
   ]
  },
  {
   "cell_type": "code",
   "execution_count": 8,
   "id": "8f89fc1f",
   "metadata": {
    "execution": {
     "iopub.execute_input": "2023-02-02T11:30:36.779941Z",
     "iopub.status.busy": "2023-02-02T11:30:36.779079Z",
     "iopub.status.idle": "2023-02-02T11:51:03.826003Z",
     "shell.execute_reply": "2023-02-02T11:51:03.824610Z"
    },
    "papermill": {
     "duration": 1227.053231,
     "end_time": "2023-02-02T11:51:03.827975",
     "exception": false,
     "start_time": "2023-02-02T11:30:36.774744",
     "status": "completed"
    },
    "tags": []
   },
   "outputs": [
    {
     "name": "stdout",
     "output_type": "stream",
     "text": [
      "\n",
      "**************************************************\n",
      "\n",
      "Training Fold 1...\n",
      "\n",
      "**************************************************\n",
      "\n",
      "Epoch: 1 | Train Loss: 1.48617 | Valid Loss: 0.46047 | Train Accs: 0.48295 | Valid Accs: 0.86518 | Time: 31.15 seconds\n",
      "Epoch: 2 | Train Loss: 0.71090 | Valid Loss: 0.25944 | Train Accs: 0.76342 | Valid Accs: 0.91986 | Time: 24.60 seconds\n",
      "Epoch: 3 | Train Loss: 0.47049 | Valid Loss: 0.21393 | Train Accs: 0.84405 | Valid Accs: 0.93975 | Time: 24.31 seconds\n",
      "Epoch: 4 | Train Loss: 0.37338 | Valid Loss: 0.18491 | Train Accs: 0.87586 | Valid Accs: 0.94342 | Time: 23.88 seconds\n",
      "Epoch: 5 | Train Loss: 0.31551 | Valid Loss: 0.13599 | Train Accs: 0.89622 | Valid Accs: 0.96106 | Time: 24.66 seconds\n",
      "Epoch: 6 | Train Loss: 0.27915 | Valid Loss: 0.14078 | Train Accs: 0.90824 | Valid Accs: 0.95466 | Time: 23.70 seconds\n",
      "Epoch: 7 | Train Loss: 0.24237 | Valid Loss: 0.10795 | Train Accs: 0.92110 | Valid Accs: 0.96496 | Time: 24.38 seconds\n",
      "Epoch: 8 | Train Loss: 0.20835 | Valid Loss: 0.09950 | Train Accs: 0.93006 | Valid Accs: 0.96958 | Time: 23.97 seconds\n",
      "Epoch: 9 | Train Loss: 0.19122 | Valid Loss: 0.08882 | Train Accs: 0.93610 | Valid Accs: 0.97313 | Time: 24.19 seconds\n",
      "Epoch: 10 | Train Loss: 0.17412 | Valid Loss: 0.08593 | Train Accs: 0.94232 | Valid Accs: 0.97242 | Time: 24.37 seconds\n",
      "\n",
      "**************************************************\n",
      "\n",
      "Best Validation Loss at Epoch 10\n",
      "\n",
      "**************************************************\n",
      "\n",
      "Best Validation Accs at Epoch 9\n",
      "\n",
      "**************************************************\n",
      "\n",
      "Time Taken [10 Epochs] : 4.15 minutes\n",
      "\n",
      "**************************************************\n",
      "\n"
     ]
    },
    {
     "data": {
      "image/png": "[encoded data removed]",
      "text/plain": [
       "<Figure size 432x288 with 1 Axes>"
      ]
     },
     "metadata": {
      "needs_background": "light"
     },
     "output_type": "display_data"
    },
    {
     "name": "stdout",
     "output_type": "stream",
     "text": [
      "\n",
      "**************************************************\n",
      "\n"
     ]
    },
    {
     "data": {
      "image/png": "[encoded data removed]",
      "text/plain": [
       "<Figure size 432x288 with 1 Axes>"
      ]
     },
     "metadata": {
      "needs_background": "light"
     },
     "output_type": "display_data"
    },
    {
     "name": "stdout",
     "output_type": "stream",
     "text": [
      "\n",
      "**************************************************\n",
      "\n"
     ]
    },
    {
     "data": {
      "image/png": "[encoded data removed]",
      "text/plain": [
       "<Figure size 576x432 with 1 Axes>"
      ]
     },
     "metadata": {
      "needs_background": "light"
     },
     "output_type": "display_data"
    },
    {
     "name": "stdout",
     "output_type": "stream",
     "text": [
      "\n",
      "**************************************************\n",
      "\n",
      "\n",
      "**************************************************\n",
      "\n",
      "Training Fold 2...\n",
      "\n",
      "**************************************************\n",
      "\n",
      "Epoch: 1 | Train Loss: 1.49242 | Valid Loss: 0.55144 | Train Accs: 0.47994 | Valid Accs: 0.81759 | Time: 24.03 seconds\n",
      "Epoch: 2 | Train Loss: 0.71991 | Valid Loss: 0.23417 | Train Accs: 0.75872 | Valid Accs: 0.92495 | Time: 24.35 seconds\n",
      "Epoch: 3 | Train Loss: 0.47428 | Valid Loss: 0.22821 | Train Accs: 0.84268 | Valid Accs: 0.93146 | Time: 24.66 seconds\n",
      "Epoch: 4 | Train Loss: 0.37908 | Valid Loss: 0.11998 | Train Accs: 0.87506 | Valid Accs: 0.96307 | Time: 24.64 seconds\n",
      "Epoch: 5 | Train Loss: 0.32472 | Valid Loss: 0.10172 | Train Accs: 0.89482 | Valid Accs: 0.97041 | Time: 24.55 seconds\n",
      "Epoch: 6 | Train Loss: 0.28276 | Valid Loss: 0.14221 | Train Accs: 0.90661 | Valid Accs: 0.95561 | Time: 23.65 seconds\n",
      "Epoch: 7 | Train Loss: 0.24033 | Valid Loss: 0.08775 | Train Accs: 0.92256 | Valid Accs: 0.97372 | Time: 23.85 seconds\n",
      "Epoch: 8 | Train Loss: 0.21068 | Valid Loss: 0.08882 | Train Accs: 0.93271 | Valid Accs: 0.97266 | Time: 23.80 seconds\n",
      "Epoch: 9 | Train Loss: 0.19151 | Valid Loss: 0.09358 | Train Accs: 0.93753 | Valid Accs: 0.97277 | Time: 23.71 seconds\n",
      "Epoch: 10 | Train Loss: 0.17847 | Valid Loss: 0.08521 | Train Accs: 0.94188 | Valid Accs: 0.97467 | Time: 24.03 seconds\n",
      "\n",
      "**************************************************\n",
      "\n",
      "Best Validation Loss at Epoch 10\n",
      "\n",
      "**************************************************\n",
      "\n",
      "Best Validation Accs at Epoch 10\n",
      "\n",
      "**************************************************\n",
      "\n",
      "Time Taken [10 Epochs] : 4.02 minutes\n",
      "\n",
      "**************************************************\n",
      "\n"
     ]
    },
    {
     "data": {
      "image/png": "[encoded data removed]",
      "text/plain": [
       "<Figure size 432x288 with 1 Axes>"
      ]
     },
     "metadata": {
      "needs_background": "light"
     },
     "output_type": "display_data"
    },
    {
     "name": "stdout",
     "output_type": "stream",
     "text": [
      "\n",
      "**************************************************\n",
      "\n"
     ]
    },
    {
     "data": {
      "image/png": "[encoded data removed]",
      "text/plain": [
       "<Figure size 432x288 with 1 Axes>"
      ]
     },
     "metadata": {
      "needs_background": "light"
     },
     "output_type": "display_data"
    },
    {
     "name": "stdout",
     "output_type": "stream",
     "text": [
      "\n",
      "**************************************************\n",
      "\n"
     ]
    },
    {
     "data": {
      "image/png": "[encoded data removed]",
      "text/plain": [
       "<Figure size 576x432 with 1 Axes>"
      ]
     },
     "metadata": {
      "needs_background": "light"
     },
     "output_type": "display_data"
    },
    {
     "name": "stdout",
     "output_type": "stream",
     "text": [
      "\n",
      "**************************************************\n",
      "\n",
      "\n",
      "**************************************************\n",
      "\n",
      "Training Fold 3...\n",
      "\n",
      "**************************************************\n",
      "\n",
      "Epoch: 1 | Train Loss: 1.48141 | Valid Loss: 0.47801 | Train Accs: 0.47991 | Valid Accs: 0.85500 | Time: 23.73 seconds\n",
      "Epoch: 2 | Train Loss: 0.70487 | Valid Loss: 0.33260 | Train Accs: 0.76372 | Valid Accs: 0.89181 | Time: 25.24 seconds\n",
      "Epoch: 3 | Train Loss: 0.47389 | Valid Loss: 0.20911 | Train Accs: 0.84515 | Valid Accs: 0.93407 | Time: 24.57 seconds\n",
      "Epoch: 4 | Train Loss: 0.37536 | Valid Loss: 0.15412 | Train Accs: 0.87655 | Valid Accs: 0.95230 | Time: 25.17 seconds\n",
      "Epoch: 5 | Train Loss: 0.32369 | Valid Loss: 0.17622 | Train Accs: 0.89443 | Valid Accs: 0.94496 | Time: 23.66 seconds\n",
      "Epoch: 6 | Train Loss: 0.27406 | Valid Loss: 0.10789 | Train Accs: 0.91092 | Valid Accs: 0.96567 | Time: 24.48 seconds\n",
      "Epoch: 7 | Train Loss: 0.23601 | Valid Loss: 0.09789 | Train Accs: 0.92283 | Valid Accs: 0.96993 | Time: 24.50 seconds\n",
      "Epoch: 8 | Train Loss: 0.21161 | Valid Loss: 0.07750 | Train Accs: 0.93110 | Valid Accs: 0.97562 | Time: 24.47 seconds\n",
      "Epoch: 9 | Train Loss: 0.18750 | Valid Loss: 0.07890 | Train Accs: 0.93807 | Valid Accs: 0.97420 | Time: 23.60 seconds\n",
      "Epoch: 10 | Train Loss: 0.17461 | Valid Loss: 0.07195 | Train Accs: 0.94399 | Valid Accs: 0.97692 | Time: 24.28 seconds\n",
      "\n",
      "**************************************************\n",
      "\n",
      "Best Validation Loss at Epoch 10\n",
      "\n",
      "**************************************************\n",
      "\n",
      "Best Validation Accs at Epoch 10\n",
      "\n",
      "**************************************************\n",
      "\n",
      "Time Taken [10 Epochs] : 4.06 minutes\n",
      "\n",
      "**************************************************\n",
      "\n"
     ]
    },
    {
     "data": {
      "image/png": "[encoded data removed]",
      "text/plain": [
       "<Figure size 432x288 with 1 Axes>"
      ]
     },
     "metadata": {
      "needs_background": "light"
     },
     "output_type": "display_data"
    },
    {
     "name": "stdout",
     "output_type": "stream",
     "text": [
      "\n",
      "**************************************************\n",
      "\n"
     ]
    },
    {
     "data": {
      "image/png": "[encoded data removed]",
      "text/plain": [
       "<Figure size 432x288 with 1 Axes>"
      ]
     },
     "metadata": {
      "needs_background": "light"
     },
     "output_type": "display_data"
    },
    {
     "name": "stdout",
     "output_type": "stream",
     "text": [
      "\n",
      "**************************************************\n",
      "\n"
     ]
    },
    {
     "data": {
      "image/png": "[encoded data removed]",
      "text/plain": [
       "<Figure size 576x432 with 1 Axes>"
      ]
     },
     "metadata": {
      "needs_background": "light"
     },
     "output_type": "display_data"
    },
    {
     "name": "stdout",
     "output_type": "stream",
     "text": [
      "\n",
      "**************************************************\n",
      "\n",
      "\n",
      "**************************************************\n",
      "\n",
      "Training Fold 4...\n",
      "\n",
      "**************************************************\n",
      "\n",
      "Epoch: 1 | Train Loss: 1.48232 | Valid Loss: 0.44049 | Train Accs: 0.48173 | Valid Accs: 0.85642 | Time: 24.41 seconds\n",
      "Epoch: 2 | Train Loss: 0.71086 | Valid Loss: 0.14801 | Train Accs: 0.76012 | Valid Accs: 0.95774 | Time: 24.59 seconds\n",
      "Epoch: 3 | Train Loss: 0.47333 | Valid Loss: 0.31649 | Train Accs: 0.84598 | Valid Accs: 0.90542 | Time: 24.08 seconds\n",
      "Epoch: 4 | Train Loss: 0.37609 | Valid Loss: 0.15317 | Train Accs: 0.87482 | Valid Accs: 0.95549 | Time: 23.72 seconds\n",
      "Epoch: 5 | Train Loss: 0.32646 | Valid Loss: 0.12760 | Train Accs: 0.89438 | Valid Accs: 0.96330 | Time: 25.14 seconds\n",
      "Epoch: 6 | Train Loss: 0.27870 | Valid Loss: 0.15630 | Train Accs: 0.90738 | Valid Accs: 0.95206 | Time: 24.27 seconds\n",
      "Epoch: 7 | Train Loss: 0.24164 | Valid Loss: 0.09895 | Train Accs: 0.92188 | Valid Accs: 0.97029 | Time: 24.88 seconds\n",
      "Epoch: 8 | Train Loss: 0.21535 | Valid Loss: 0.08106 | Train Accs: 0.92973 | Valid Accs: 0.97597 | Time: 24.38 seconds\n",
      "Epoch: 9 | Train Loss: 0.19366 | Valid Loss: 0.07950 | Train Accs: 0.93747 | Valid Accs: 0.97538 | Time: 24.64 seconds\n",
      "Epoch: 10 | Train Loss: 0.17981 | Valid Loss: 0.07792 | Train Accs: 0.94173 | Valid Accs: 0.97715 | Time: 24.21 seconds\n",
      "\n",
      "**************************************************\n",
      "\n",
      "Best Validation Loss at Epoch 10\n",
      "\n",
      "**************************************************\n",
      "\n",
      "Best Validation Accs at Epoch 10\n",
      "\n",
      "**************************************************\n",
      "\n",
      "Time Taken [10 Epochs] : 4.07 minutes\n",
      "\n",
      "**************************************************\n",
      "\n"
     ]
    },
    {
     "data": {
      "image/png": "[encoded data removed]",
      "text/plain": [
       "<Figure size 432x288 with 1 Axes>"
      ]
     },
     "metadata": {
      "needs_background": "light"
     },
     "output_type": "display_data"
    },
    {
     "name": "stdout",
     "output_type": "stream",
     "text": [
      "\n",
      "**************************************************\n",
      "\n"
     ]
    },
    {
     "data": {
      "image/png": "[encoded data removed]",
      "text/plain": [
       "<Figure size 432x288 with 1 Axes>"
      ]
     },
     "metadata": {
      "needs_background": "light"
     },
     "output_type": "display_data"
    },
    {
     "name": "stdout",
     "output_type": "stream",
     "text": [
      "\n",
      "**************************************************\n",
      "\n"
     ]
    },
    {
     "data": {
      "image/png": "[encoded data removed]",
      "text/plain": [
       "<Figure size 576x432 with 1 Axes>"
      ]
     },
     "metadata": {
      "needs_background": "light"
     },
     "output_type": "display_data"
    },
    {
     "name": "stdout",
     "output_type": "stream",
     "text": [
      "\n",
      "**************************************************\n",
      "\n",
      "\n",
      "**************************************************\n",
      "\n",
      "Training Fold 5...\n",
      "\n",
      "**************************************************\n",
      "\n",
      "Epoch: 1 | Train Loss: 1.49831 | Valid Loss: 0.43209 | Train Accs: 0.47759 | Valid Accs: 0.86660 | Time: 24.09 seconds\n",
      "Epoch: 2 | Train Loss: 0.71118 | Valid Loss: 0.27470 | Train Accs: 0.76024 | Valid Accs: 0.91856 | Time: 24.62 seconds\n",
      "Epoch: 3 | Train Loss: 0.47304 | Valid Loss: 0.19506 | Train Accs: 0.84384 | Valid Accs: 0.94164 | Time: 24.25 seconds\n",
      "Epoch: 4 | Train Loss: 0.37446 | Valid Loss: 0.11067 | Train Accs: 0.87741 | Valid Accs: 0.96342 | Time: 24.77 seconds\n",
      "Epoch: 5 | Train Loss: 0.32221 | Valid Loss: 0.14143 | Train Accs: 0.89432 | Valid Accs: 0.95679 | Time: 24.07 seconds\n",
      "Epoch: 6 | Train Loss: 0.27651 | Valid Loss: 0.09474 | Train Accs: 0.90926 | Valid Accs: 0.96911 | Time: 24.47 seconds\n",
      "Epoch: 7 | Train Loss: 0.24305 | Valid Loss: 0.11022 | Train Accs: 0.92083 | Valid Accs: 0.96591 | Time: 23.48 seconds\n",
      "Epoch: 8 | Train Loss: 0.21537 | Valid Loss: 0.08266 | Train Accs: 0.92991 | Valid Accs: 0.97289 | Time: 24.12 seconds\n",
      "Epoch: 9 | Train Loss: 0.18840 | Valid Loss: 0.07480 | Train Accs: 0.93821 | Valid Accs: 0.97479 | Time: 24.71 seconds\n",
      "Epoch: 10 | Train Loss: 0.17942 | Valid Loss: 0.07463 | Train Accs: 0.94110 | Valid Accs: 0.97431 | Time: 23.89 seconds\n",
      "\n",
      "**************************************************\n",
      "\n",
      "Best Validation Loss at Epoch 10\n",
      "\n",
      "**************************************************\n",
      "\n",
      "Best Validation Accs at Epoch 9\n",
      "\n",
      "**************************************************\n",
      "\n",
      "Time Taken [10 Epochs] : 4.04 minutes\n",
      "\n",
      "**************************************************\n",
      "\n"
     ]
    },
    {
     "data": {
      "image/png": "[encoded data removed]",
      "text/plain": [
       "<Figure size 432x288 with 1 Axes>"
      ]
     },
     "metadata": {
      "needs_background": "light"
     },
     "output_type": "display_data"
    },
    {
     "name": "stdout",
     "output_type": "stream",
     "text": [
      "\n",
      "**************************************************\n",
      "\n"
     ]
    },
    {
     "data": {
      "image/png": "[encoded data removed]",
      "text/plain": [
       "<Figure size 432x288 with 1 Axes>"
      ]
     },
     "metadata": {
      "needs_background": "light"
     },
     "output_type": "display_data"
    },
    {
     "name": "stdout",
     "output_type": "stream",
     "text": [
      "\n",
      "**************************************************\n",
      "\n"
     ]
    },
    {
     "data": {
      "image/png": "[encoded data removed]",
      "text/plain": [
       "<Figure size 576x432 with 1 Axes>"
      ]
     },
     "metadata": {
      "needs_background": "light"
     },
     "output_type": "display_data"
    },
    {
     "name": "stdout",
     "output_type": "stream",
     "text": [
      "\n",
      "**************************************************\n",
      "\n"
     ]
    }
   ],
   "source": [
    "fold: int = 1\n",
    "BLs: list = []\n",
    "BAs: list = []\n",
    "    \n",
    "cfg.batch_size = 64\n",
    "cfg.epochs = 10\n",
    "cfg.filter_sizes = [128, 256, 512]\n",
    "    \n",
    "for tr_idx, va_idx in StratifiedKFold(n_splits=cfg.n_splits, random_state=cfg.seed, shuffle=True).split(images, labels):\n",
    "\n",
    "    tr_images, va_images = images[tr_idx], images[va_idx] \n",
    "    tr_labels, va_labels = labels[tr_idx], labels[va_idx]\n",
    "    \n",
    "    tr_data_setup = DS(\n",
    "        images=tr_images, \n",
    "        labels=tr_labels.reshape(-1, 1),\n",
    "        transform=cfg.train_transform\n",
    "    )\n",
    "\n",
    "    va_data_setup = DS(\n",
    "        images=va_images, \n",
    "        labels=va_labels.reshape(-1, 1),\n",
    "        transform=cfg.valid_transform\n",
    "    )\n",
    "\n",
    "    dataloaders = {\n",
    "        \"train\" : DL(tr_data_setup, batch_size=cfg.batch_size, shuffle=True, generator=torch.manual_seed(cfg.seed)),\n",
    "        \"valid\" : DL(va_data_setup, batch_size=cfg.batch_size, shuffle=False),\n",
    "    }\n",
    "\n",
    "    cfg.steps_per_epoch=len(dataloaders[\"train\"])\n",
    "    \n",
    "    torch.manual_seed(cfg.seed)\n",
    "    model = Model(filter_sizes=cfg.filter_sizes, HL=cfg.HL).to(cfg.device)\n",
    "\n",
    "    optimizer = optim.Adam([p for p in model.parameters() if p.requires_grad], lr=cfg.lr, weight_decay=cfg.wd)\n",
    "    # optimizer = optim.AdamW([p for p in model.parameters() if p.requires_grad], lr=cfg.lr, weight_decay=cfg.wd)\n",
    "    # optimizer = optim.SGD([p for p in model.parameters() if p.requires_grad], lr=cfg.lr, weight_decay=cfg.wd, momentum=0.9)\n",
    "\n",
    "    scheduler_oclr = optim.lr_scheduler.OneCycleLR(\n",
    "        optimizer=optimizer, \n",
    "        max_lr=cfg.max_lr, \n",
    "        epochs=cfg.epochs, \n",
    "        steps_per_epoch=cfg.steps_per_epoch,\n",
    "        pct_start=cfg.pct_start, \n",
    "        div_factor=cfg.div_factor, \n",
    "        final_div_factor=cfg.final_div_factor\n",
    "    )\n",
    "    \n",
    "    # scheduler_rlrop = optim.lr_scheduler.ReduceLROnPlateau(\n",
    "    #     optimizer=optimizer,\n",
    "    #     patience=cfg.patience,\n",
    "    #     eps=cfg.eps,\n",
    "    #     verbose=True\n",
    "    # )\n",
    "\n",
    "    # scheduler_oclr = None\n",
    "    scheduler_rlrop = None\n",
    "    \n",
    "    L, A, LR, BL, BA, _, _, _, _ = fit(\n",
    "        model=model, \n",
    "        optimizer=optimizer, \n",
    "        scheduler_oclr=scheduler_oclr,\n",
    "        scheduler_rlrop=scheduler_rlrop,\n",
    "        epochs=cfg.epochs, \n",
    "        early_stopping_patience=cfg.early_stopping, \n",
    "        dataloaders=dataloaders, \n",
    "        device=cfg.device,\n",
    "        save_path=cfg.save_path,\n",
    "        fold=fold,\n",
    "        verbose=True\n",
    "    )\n",
    "\n",
    "\n",
    "    breaker()\n",
    "    show_loss_graphs(L)\n",
    "    breaker()\n",
    "    show_accuracy_graphs(A)\n",
    "    breaker()\n",
    "    if scheduler_oclr:\n",
    "        show_lr_graph(LR)\n",
    "        breaker()\n",
    "    \n",
    "    BLs.append(BL)\n",
    "    BAs.append(BA)\n",
    "\n",
    "    fold += 1"
   ]
  },
  {
   "cell_type": "code",
   "execution_count": 9,
   "id": "0cf22b0b",
   "metadata": {
    "execution": {
     "iopub.execute_input": "2023-02-02T11:51:03.850143Z",
     "iopub.status.busy": "2023-02-02T11:51:03.849840Z",
     "iopub.status.idle": "2023-02-02T11:51:03.856592Z",
     "shell.execute_reply": "2023-02-02T11:51:03.855700Z"
    },
    "papermill": {
     "duration": 0.019851,
     "end_time": "2023-02-02T11:51:03.858633",
     "exception": false,
     "start_time": "2023-02-02T11:51:03.838782",
     "status": "completed"
    },
    "tags": []
   },
   "outputs": [
    {
     "name": "stdout",
     "output_type": "stream",
     "text": [
      "\n",
      "**************************************************\n",
      "\n",
      "Best Loss Model Fold     : 3\n",
      "Best Accuracy Model Fold : 4\n",
      "\n",
      "**************************************************\n",
      "\n"
     ]
    }
   ],
   "source": [
    "BL = np.inf\n",
    "for i in range(len(BLs)):\n",
    "    if BLs[i][\"valid\"] < BL:\n",
    "        BL = BLs[i][\"valid\"]\n",
    "        best_loss_index = i\n",
    "\n",
    "        \n",
    "BA = 0.0\n",
    "for i in range(len(BAs)):\n",
    "    if BAs[i][\"valid\"] > BA:\n",
    "        BA = BAs[i][\"valid\"]\n",
    "        best_accs_index = i\n",
    "\n",
    "breaker()\n",
    "print(f\"Best Loss Model Fold     : {best_loss_index + 1}\")\n",
    "print(f\"Best Accuracy Model Fold : {best_accs_index + 1}\")\n",
    "breaker()"
   ]
  }
 ],
 "metadata": {
  "kernelspec": {
   "display_name": "Python 3",
   "language": "python",
   "name": "python3"
  },
  "language_info": {
   "codemirror_mode": {
    "name": "ipython",
    "version": 3
   },
   "file_extension": ".py",
   "mimetype": "text/x-python",
   "name": "python",
   "nbconvert_exporter": "python",
   "pygments_lexer": "ipython3",
   "version": "3.7.12"
  },
  "papermill": {
   "default_parameters": {},
   "duration": 1242.339003,
   "end_time": "2023-02-02T11:51:05.294021",
   "environment_variables": {},
   "exception": null,
   "input_path": "__notebook__.ipynb",
   "output_path": "__notebook__.ipynb",
   "parameters": {},
   "start_time": "2023-02-02T11:30:22.955018",
   "version": "2.3.4"
  }
 },
 "nbformat": 4,
 "nbformat_minor": 5
}
