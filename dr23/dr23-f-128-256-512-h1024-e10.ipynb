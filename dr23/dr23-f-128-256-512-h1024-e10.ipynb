{
 "cells": [
  {
   "cell_type": "markdown",
   "id": "ae01dc51",
   "metadata": {
    "_cell_guid": "b1076dfc-b9ad-4769-8c92-a6c4dae69d19",
    "_uuid": "8f2839f25d086af736a60e9eeb907d3b93b6e0e5",
    "papermill": {
     "duration": 0.004035,
     "end_time": "2023-02-01T13:42:49.471312",
     "exception": false,
     "start_time": "2023-02-01T13:42:49.467277",
     "status": "completed"
    },
    "tags": []
   },
   "source": [
    "### **Library Imports**"
   ]
  },
  {
   "cell_type": "code",
   "execution_count": 1,
   "id": "1fb7a1e9",
   "metadata": {
    "execution": {
     "iopub.execute_input": "2023-02-01T13:42:49.479548Z",
     "iopub.status.busy": "2023-02-01T13:42:49.479028Z",
     "iopub.status.idle": "2023-02-01T13:42:51.997470Z",
     "shell.execute_reply": "2023-02-01T13:42:51.996472Z"
    },
    "papermill": {
     "duration": 2.525728,
     "end_time": "2023-02-01T13:42:52.000206",
     "exception": false,
     "start_time": "2023-02-01T13:42:49.474478",
     "status": "completed"
    },
    "tags": []
   },
   "outputs": [],
   "source": [
    "import os\n",
    "import re\n",
    "import cv2\n",
    "import torch\n",
    "import numpy as np\n",
    "import pandas as pd\n",
    "import matplotlib.pyplot as plt\n",
    "\n",
    "from time import time\n",
    "from typing import Union\n",
    "from torch import nn, optim\n",
    "from torch.utils.data import Dataset\n",
    "from torch.utils.data import DataLoader as DL\n",
    "from torchvision import transforms\n",
    "\n",
    "from sklearn.model_selection import StratifiedKFold"
   ]
  },
  {
   "cell_type": "code",
   "execution_count": 2,
   "id": "55448f65",
   "metadata": {
    "execution": {
     "iopub.execute_input": "2023-02-01T13:42:52.008242Z",
     "iopub.status.busy": "2023-02-01T13:42:52.007757Z",
     "iopub.status.idle": "2023-02-01T13:42:52.019354Z",
     "shell.execute_reply": "2023-02-01T13:42:52.018282Z"
    },
    "papermill": {
     "duration": 0.017951,
     "end_time": "2023-02-01T13:42:52.021425",
     "exception": false,
     "start_time": "2023-02-01T13:42:52.003474",
     "status": "completed"
    },
    "tags": []
   },
   "outputs": [],
   "source": [
    "SEED: int = 42\n",
    "    \n",
    "\n",
    "def breaker(num: int=50, char: str=\"*\") -> None: print(\"\\n\" + num*char + \"\\n\")\n",
    "\n",
    "    \n",
    "def show_loss_graphs(L: list) -> None:\n",
    "    TL, VL = [], []\n",
    "    for i in range(len(L)):\n",
    "        TL.append(L[i][\"train\"])\n",
    "        VL.append(L[i][\"valid\"])\n",
    "    x_Axis = np.arange(1, len(TL) + 1)\n",
    "    plt.figure()\n",
    "    plt.plot(x_Axis, TL, \"r\", label=\"Train\")\n",
    "    plt.plot(x_Axis, VL, \"b\", label=\"Valid\")\n",
    "    plt.legend()\n",
    "    plt.grid()\n",
    "    plt.title(\"Loss Graph\")\n",
    "    plt.show()\n",
    "    \n",
    "\n",
    "def show_accuracy_graphs(A: list) -> None:\n",
    "    TA, VA = [], []\n",
    "    for i in range(len(A)):\n",
    "        TA.append(A[i][\"train\"])\n",
    "        VA.append(A[i][\"valid\"])\n",
    "    x_Axis = np.arange(1, len(TA) + 1)\n",
    "    plt.figure()\n",
    "    plt.plot(x_Axis, TA, \"r\", label=\"Train\")\n",
    "    plt.plot(x_Axis, VA, \"b\", label=\"Valid\")\n",
    "    plt.legend()\n",
    "    plt.grid()\n",
    "    plt.title(\"Accuracy Graph\")\n",
    "    plt.show()\n",
    "    \n",
    "\n",
    "def show_lr_graph(LR: list) -> None:\n",
    "    x_Axis = [i+1 for i in range(len(LR))]\n",
    "    plt.figure(figsize=(8, 6))\n",
    "    plt.plot(x_Axis, LR, \"rx\")\n",
    "    plt.grid()\n",
    "    plt.show()"
   ]
  },
  {
   "cell_type": "code",
   "execution_count": 3,
   "id": "5bceb0cd",
   "metadata": {
    "execution": {
     "iopub.execute_input": "2023-02-01T13:42:52.029485Z",
     "iopub.status.busy": "2023-02-01T13:42:52.029183Z",
     "iopub.status.idle": "2023-02-01T13:42:52.084939Z",
     "shell.execute_reply": "2023-02-01T13:42:52.083962Z"
    },
    "papermill": {
     "duration": 0.06222,
     "end_time": "2023-02-01T13:42:52.087093",
     "exception": false,
     "start_time": "2023-02-01T13:42:52.024873",
     "status": "completed"
    },
    "tags": []
   },
   "outputs": [],
   "source": [
    "class CFG(object):\n",
    "    def __init__(self,\n",
    "             seed: int = 42,\n",
    "             n_splits: int = 5,\n",
    "             batch_size: int = 16,\n",
    "             epochs: int = 25,\n",
    "             early_stopping: int = 5,\n",
    "             lr: float = 1e-4,\n",
    "             wd: float = 0.0,\n",
    "             max_lr: float = 1e-3,\n",
    "             pct_start: float = 0.2,\n",
    "             steps_per_epoch: int = 100,\n",
    "             div_factor: int = 1e3, \n",
    "             final_div_factor: float = 1e3,\n",
    "             filter_sizes: list = [64, 128, 256],\n",
    "             HL: list = [1024]\n",
    "         ):\n",
    "        \n",
    "        self.seed = seed\n",
    "        self.n_splits = n_splits\n",
    "        self.batch_size = batch_size\n",
    "        self.epochs = epochs\n",
    "        self.early_stopping = early_stopping\n",
    "        self.lr = lr\n",
    "        self.wd = wd\n",
    "        self.max_lr = max_lr\n",
    "        self.pct_start = pct_start\n",
    "        self.steps_per_epoch = steps_per_epoch\n",
    "        self.div_factor = div_factor\n",
    "        self.final_div_factor = final_div_factor\n",
    "        self.filter_sizes = filter_sizes\n",
    "        self.HL = HL\n",
    "        self.device = torch.device(\"cuda\" if torch.cuda.is_available() else \"cpu\")\n",
    "        \n",
    "        self.train_transform = transforms.Compose([\n",
    "            transforms.ToTensor(),\n",
    "            transforms.Normalize([0.13102], [0.17323]),\n",
    "            transforms.RandomAffine(degrees=(-45, 45), translate=(0.15, 0.15), scale=(0.5, 1.5)),\n",
    "            transforms.RandomHorizontalFlip(p=0.25),\n",
    "            transforms.RandomVerticalFlip(p=0.25),\n",
    "        ])\n",
    "        self.valid_transform = transforms.Compose([\n",
    "            transforms.ToTensor(),\n",
    "            transforms.Normalize([0.13102], [0.17323]),\n",
    "        ])\n",
    "        self.save_path = \"saves\"\n",
    "        if not os.path.exists(self.save_path): os.makedirs(self.save_path)\n",
    "\n",
    "\n",
    "cfg = CFG(\n",
    "    seed=SEED, \n",
    ")"
   ]
  },
  {
   "cell_type": "markdown",
   "id": "525cb8a6",
   "metadata": {
    "papermill": {
     "duration": 0.002856,
     "end_time": "2023-02-01T13:42:52.093211",
     "exception": false,
     "start_time": "2023-02-01T13:42:52.090355",
     "status": "completed"
    },
    "tags": []
   },
   "source": [
    "### **Dataset Template**"
   ]
  },
  {
   "cell_type": "code",
   "execution_count": 4,
   "id": "ca388b4e",
   "metadata": {
    "execution": {
     "iopub.execute_input": "2023-02-01T13:42:52.100369Z",
     "iopub.status.busy": "2023-02-01T13:42:52.100054Z",
     "iopub.status.idle": "2023-02-01T13:42:52.106601Z",
     "shell.execute_reply": "2023-02-01T13:42:52.105652Z"
    },
    "papermill": {
     "duration": 0.01236,
     "end_time": "2023-02-01T13:42:52.108547",
     "exception": false,
     "start_time": "2023-02-01T13:42:52.096187",
     "status": "completed"
    },
    "tags": []
   },
   "outputs": [],
   "source": [
    "class DS(Dataset):\n",
    "    def __init__(\n",
    "        self, \n",
    "        images: np.ndarray, \n",
    "        labels: Union[np.ndarray, None]=None, \n",
    "        transform=None\n",
    "    ):\n",
    "        \n",
    "        self.images = images\n",
    "        self.labels = labels\n",
    "        self.transform = transform\n",
    "\n",
    "    def __len__(self):\n",
    "        return self.images.shape[0]\n",
    "\n",
    "    def __getitem__(self, idx):\n",
    "        if self.labels is not None:\n",
    "            return self.transform(self.images[idx]), torch.LongTensor(self.labels[idx])\n",
    "        return self.transform(self.images[idx])"
   ]
  },
  {
   "cell_type": "markdown",
   "id": "fe01d04f",
   "metadata": {
    "papermill": {
     "duration": 0.002896,
     "end_time": "2023-02-01T13:42:52.114565",
     "exception": false,
     "start_time": "2023-02-01T13:42:52.111669",
     "status": "completed"
    },
    "tags": []
   },
   "source": [
    "### **Model**"
   ]
  },
  {
   "cell_type": "code",
   "execution_count": 5,
   "id": "69c9d156",
   "metadata": {
    "execution": {
     "iopub.execute_input": "2023-02-01T13:42:52.122161Z",
     "iopub.status.busy": "2023-02-01T13:42:52.121842Z",
     "iopub.status.idle": "2023-02-01T13:42:52.138659Z",
     "shell.execute_reply": "2023-02-01T13:42:52.137691Z"
    },
    "papermill": {
     "duration": 0.023035,
     "end_time": "2023-02-01T13:42:52.140587",
     "exception": false,
     "start_time": "2023-02-01T13:42:52.117552",
     "status": "completed"
    },
    "tags": []
   },
   "outputs": [],
   "source": [
    "class Model(nn.Module):\n",
    "    def __init__(self, filter_sizes: list, HL: list, DP: Union[float, None]=None):\n",
    "        \n",
    "        super(Model, self).__init__()\n",
    "        \n",
    "        self.features = nn.Sequential()\n",
    "        self.features.add_module(\"CN1\", nn.Conv2d(in_channels=1, out_channels=filter_sizes[0], kernel_size=(3, 3), stride=(1, 1), padding=(1, 1)))\n",
    "        self.features.add_module(\"BN1\", nn.BatchNorm2d(num_features=filter_sizes[0], eps=1e-5))\n",
    "        self.features.add_module(\"AN1\", nn.ReLU())\n",
    "        self.features.add_module(\"MP1\", nn.MaxPool2d(kernel_size=(2, 2)))\n",
    "        self.features.add_module(\"CN2\", nn.Conv2d(in_channels=filter_sizes[0], out_channels=filter_sizes[1], kernel_size=(3, 3), stride=(1, 1), padding=(1, 1)))\n",
    "        self.features.add_module(\"BN2\", nn.BatchNorm2d(num_features=filter_sizes[1], eps=1e-5))\n",
    "        self.features.add_module(\"AN2\", nn.ReLU())\n",
    "        self.features.add_module(\"MP2\", nn.MaxPool2d(kernel_size=(2, 2)))\n",
    "        self.features.add_module(\"CN3\", nn.Conv2d(in_channels=filter_sizes[1], out_channels=filter_sizes[2], kernel_size=(3, 3), stride=(1, 1), padding=(1, 1)))\n",
    "        self.features.add_module(\"BN3\", nn.BatchNorm2d(num_features=filter_sizes[2], eps=1e-5))\n",
    "        self.features.add_module(\"AN3\", nn.ReLU())\n",
    "        self.features.add_module(\"MP3\", nn.MaxPool2d(kernel_size=(2, 2))) \n",
    "        \n",
    "        self.classifier = nn.Sequential()\n",
    "        if len(HL) == 0:\n",
    "            self.classifier.add_module(\"FC1\", nn.Linear(in_features=filter_sizes[2]*3*3, out_features=26))\n",
    "        elif len(HL) == 1:\n",
    "            self.classifier.add_module(\"FC1\", nn.Linear(in_features=filter_sizes[2]*3*3, out_features=HL[0]))\n",
    "            if isinstance(DP, float):\n",
    "                self.classifier.add_module(\"DP1\", nn.Dropout(p=DP))\n",
    "            self.classifier.add_module(\"AN1\", nn.ReLU())\n",
    "            self.classifier.add_module(\"FC2\", nn.Linear(in_features=HL[0], out_features=26))\n",
    "        elif len(HL) == 2:\n",
    "            self.classifier.add_module(\"FC1\", nn.Linear(in_features=filter_sizes[2]*3*3, out_features=HL[0]))\n",
    "            if isinstance(DP, float):\n",
    "                self.classifier.add_module(\"DP1\", nn.Dropout(p=DP))\n",
    "            self.classifier.add_module(\"AN1\", nn.ReLU())\n",
    "            self.classifier.add_module(\"FC2\", nn.Linear(in_features=HL[0], out_features=HL[1]))\n",
    "            if isinstance(DP, float):\n",
    "                self.classifier.add_module(\"DP2\", nn.Dropout(p=DP))\n",
    "            self.classifier.add_module(\"AN2\", nn.ReLU())\n",
    "            self.classifier.add_module(\"FC3\", nn.Linear(in_features=HL[1], out_features=26))\n",
    "        self.classifier.add_module(\"Final Activation\", nn.LogSoftmax(dim=1))\n",
    "    \n",
    "    def forward(self, x):\n",
    "        x = self.features(x)\n",
    "        x = x.view(x.shape[0], -1)\n",
    "        return self.classifier(x)"
   ]
  },
  {
   "cell_type": "markdown",
   "id": "f97df171",
   "metadata": {
    "papermill": {
     "duration": 0.00293,
     "end_time": "2023-02-01T13:42:52.146633",
     "exception": false,
     "start_time": "2023-02-01T13:42:52.143703",
     "status": "completed"
    },
    "tags": []
   },
   "source": [
    "### **Fit and Predict**"
   ]
  },
  {
   "cell_type": "code",
   "execution_count": 6,
   "id": "eb39301b",
   "metadata": {
    "execution": {
     "iopub.execute_input": "2023-02-01T13:42:52.154342Z",
     "iopub.status.busy": "2023-02-01T13:42:52.154060Z",
     "iopub.status.idle": "2023-02-01T13:42:52.174087Z",
     "shell.execute_reply": "2023-02-01T13:42:52.173096Z"
    },
    "papermill": {
     "duration": 0.026283,
     "end_time": "2023-02-01T13:42:52.175997",
     "exception": false,
     "start_time": "2023-02-01T13:42:52.149714",
     "status": "completed"
    },
    "tags": []
   },
   "outputs": [],
   "source": [
    "def fit(\n",
    "    model=None,\n",
    "    optimizer=None, \n",
    "    scheduler_rlrop=None,\n",
    "    scheduler_oclr=None,\n",
    "    epochs=None, \n",
    "    early_stopping_patience=None, \n",
    "    dataloaders=None, \n",
    "    fold=None, \n",
    "    save_path=None,\n",
    "    device=None,\n",
    "    verbose=False\n",
    ") -> tuple:\n",
    "    \n",
    "    def get_accuracy(y_pred, y_true):\n",
    "        y_pred = torch.argmax(y_pred, dim=1)\n",
    "        return torch.count_nonzero(y_pred == y_true).item() / len(y_pred)\n",
    "    \n",
    "    if verbose:\n",
    "        breaker()\n",
    "        if fold: print(f\"Training Fold {fold}...\")\n",
    "        else: print(\"Training ...\")\n",
    "        breaker()\n",
    "        \n",
    "    bestLoss: dict = {\"train\" : np.inf, \"valid\" : np.inf} \n",
    "    bestAccs: dict = {\"train\" : 0.0, \"valid\" : 0.0}\n",
    "        \n",
    "    Losses: list = []\n",
    "    Accuracies: list = [] \n",
    "    LRs: list = []\n",
    "        \n",
    "    if fold: \n",
    "        ble_name = f\"ble_state_fold_{fold}.pt\"\n",
    "        bae_name = f\"bae_state_fold_{fold}.pt\"\n",
    "    else: \n",
    "        ble_name = f\"ble_state.pt\"\n",
    "        bae_name = f\"bae_state.pt\"\n",
    "        \n",
    "    start_time = time()\n",
    "    for e in range(epochs):\n",
    "        e_st = time()\n",
    "        epochLoss: dict = {\"train\" : 0.0, \"valid\" : 0.0} \n",
    "        epochAccs: dict = {\"train\" : 0.0, \"valid\" : 0.0}\n",
    "            \n",
    "        for phase in [\"train\", \"valid\"]:\n",
    "            if phase == \"train\":\n",
    "                model.train()\n",
    "            else:\n",
    "                model.eval()\n",
    "            \n",
    "            lossPerPass: list = []\n",
    "            accsPerPass: list = []\n",
    "                \n",
    "            for X, y in dataloaders[phase]:\n",
    "                X, y = X.to(device), y.to(device).view(-1)\n",
    "                \n",
    "                optimizer.zero_grad()\n",
    "                with torch.set_grad_enabled(phase == \"train\"):\n",
    "                    output = model(X)\n",
    "                    loss = nn.NLLLoss()(output, y)\n",
    "                    if phase == \"train\":\n",
    "                        loss.backward()\n",
    "                        optimizer.step()\n",
    "                        if scheduler_oclr: scheduler_oclr.step()\n",
    "                lossPerPass.append(loss.item())\n",
    "                accsPerPass.append(get_accuracy(output, y))\n",
    "            epochLoss[phase] = np.mean(np.array(lossPerPass))\n",
    "            epochAccs[phase] = np.mean(np.array(accsPerPass))\n",
    "        if scheduler_oclr: LRs.append(scheduler_oclr.get_last_lr())\n",
    "        Losses.append(epochLoss)\n",
    "        Accuracies.append(epochAccs)\n",
    "        \n",
    "        if scheduler_oclr:\n",
    "            save_dict = {\"model_state_dict\"     : model.state_dict(),\n",
    "                         \"optim_state_dict\"     : optimizer.state_dict(),\n",
    "                         \"scheduler_state_dict\" : scheduler_oclr.state_dict()}\n",
    "        \n",
    "        elif scheduler_rlrop:\n",
    "            save_dict = {\"model_state_dict\"     : model.state_dict(),\n",
    "                         \"optim_state_dict\"     : optimizer.state_dict(),\n",
    "                         \"scheduler_state_dict\" : scheduler_rlrop.state_dict()}\n",
    "        \n",
    "        else:\n",
    "            save_dict = {\"model_state_dict\"     : model.state_dict(),\n",
    "                         \"optim_state_dict\"     : optimizer.state_dict()}\n",
    "        \n",
    "        if early_stopping_patience:\n",
    "            if epochLoss[\"valid\"] < bestLoss[\"valid\"]:\n",
    "                bestLoss = epochLoss\n",
    "                BLE = e + 1\n",
    "                torch.save(save_dict, os.path.join(save_path, ble_name))\n",
    "                torch.save(save_dict, os.path.join(save_path, bae_name))\n",
    "                early_stopping_step = 0\n",
    "            else:\n",
    "                early_stopping_step += 1\n",
    "                if early_stopping_step > early_stopping_patience:\n",
    "                    print(\"\\nEarly Stopping at Epoch {}\".format(e + 1))\n",
    "                    break\n",
    "        \n",
    "        if epochLoss[\"valid\"] < bestLoss[\"valid\"]:\n",
    "            bestLoss = epochLoss\n",
    "            BLE = e + 1\n",
    "            torch.save(save_dict,os.path.join(save_path, ble_name))\n",
    "        \n",
    "        if epochAccs[\"valid\"] > bestAccs[\"valid\"]:\n",
    "            bestAccs = epochAccs\n",
    "            BAE = e + 1\n",
    "            torch.save(save_dict,os.path.join(save_path, bae_name))\n",
    "        \n",
    "        if scheduler_rlrop: scheduler_rlrop.step(epochLoss[\"valid\"])\n",
    "        \n",
    "        if verbose:\n",
    "            print(\"Epoch: {} | Train Loss: {:.5f} | Valid Loss: {:.5f} |\\\n",
    " Train Accs: {:.5f} | Valid Accs: {:.5f} | Time: {:.2f} seconds\".format(\n",
    "                e+1, \n",
    "                epochLoss[\"train\"], epochLoss[\"valid\"], \n",
    "                epochAccs[\"train\"], epochAccs[\"valid\"], \n",
    "                time()-e_st)\n",
    "            )\n",
    "        \n",
    "    if verbose:                                           \n",
    "        breaker()\n",
    "        print(f\"Best Validation Loss at Epoch {BLE}\")\n",
    "        breaker()\n",
    "        print(f\"Best Validation Accs at Epoch {BAE}\")\n",
    "        breaker()\n",
    "        print(\"Time Taken [{} Epochs] : {:.2f} minutes\".format(len(Losses), (time()-start_time)/60))\n",
    "    \n",
    "    return Losses, Accuracies, LRs, bestLoss, bestAccs, BLE, BAE, ble_name, bae_name\n",
    "\n",
    "\n",
    "# def predict_batch(model=None, dataloader=None, path=None, device=None) -> np.ndarray:\n",
    "#     model.load_state_dict(torch.load(path, map_location=device)[\"model_state_dict\"])\n",
    "#     model.to(device)    \n",
    "#     model.eval()\n",
    "    \n",
    "#     y_pred = torch.zeros(1, 1).to(device)\n",
    "    \n",
    "#     for X in dataloader:\n",
    "#         X = X.to(device)\n",
    "#         with torch.no_grad():\n",
    "#             output = torch.argmax(torch.exp(model(X)), dim=1)\n",
    "#         y_pred = torch.cat((y_pred, output.view(-1, 1)), dim=0)\n",
    "    \n",
    "#     return y_pred[1:].detach().cpu().numpy()"
   ]
  },
  {
   "cell_type": "markdown",
   "id": "dd66d086",
   "metadata": {
    "papermill": {
     "duration": 0.002952,
     "end_time": "2023-02-01T13:42:52.182172",
     "exception": false,
     "start_time": "2023-02-01T13:42:52.179220",
     "status": "completed"
    },
    "tags": []
   },
   "source": [
    "### **Train**"
   ]
  },
  {
   "cell_type": "code",
   "execution_count": 7,
   "id": "ce59729e",
   "metadata": {
    "execution": {
     "iopub.execute_input": "2023-02-01T13:42:52.191008Z",
     "iopub.status.busy": "2023-02-01T13:42:52.189376Z",
     "iopub.status.idle": "2023-02-01T13:42:55.564496Z",
     "shell.execute_reply": "2023-02-01T13:42:55.563523Z"
    },
    "papermill": {
     "duration": 3.3817,
     "end_time": "2023-02-01T13:42:55.566951",
     "exception": false,
     "start_time": "2023-02-01T13:42:52.185251",
     "status": "completed"
    },
    "tags": []
   },
   "outputs": [],
   "source": [
    "df = pd.read_csv(\"/kaggle/input/digit-recognizer-ii-2023/train.csv\")\n",
    "\n",
    "images = df.iloc[:, 1:].copy().values.reshape(df.shape[0], 28, 28, 1).astype(\"uint8\")\n",
    "labels = df.iloc[:, 0].copy().values"
   ]
  },
  {
   "cell_type": "code",
   "execution_count": 8,
   "id": "6434b31a",
   "metadata": {
    "execution": {
     "iopub.execute_input": "2023-02-01T13:42:55.575076Z",
     "iopub.status.busy": "2023-02-01T13:42:55.574766Z",
     "iopub.status.idle": "2023-02-01T14:03:50.537548Z",
     "shell.execute_reply": "2023-02-01T14:03:50.536346Z"
    },
    "papermill": {
     "duration": 1254.969106,
     "end_time": "2023-02-01T14:03:50.539601",
     "exception": false,
     "start_time": "2023-02-01T13:42:55.570495",
     "status": "completed"
    },
    "tags": []
   },
   "outputs": [
    {
     "name": "stdout",
     "output_type": "stream",
     "text": [
      "\n",
      "**************************************************\n",
      "\n",
      "Training Fold 1...\n",
      "\n",
      "**************************************************\n",
      "\n",
      "Epoch: 1 | Train Loss: 1.60217 | Valid Loss: 0.39936 | Train Accs: 0.46313 | Valid Accs: 0.88080 | Time: 30.93 seconds\n",
      "Epoch: 2 | Train Loss: 0.74667 | Valid Loss: 0.26862 | Train Accs: 0.75116 | Valid Accs: 0.91974 | Time: 25.83 seconds\n",
      "Epoch: 3 | Train Loss: 0.48231 | Valid Loss: 0.14831 | Train Accs: 0.84259 | Valid Accs: 0.95253 | Time: 25.13 seconds\n",
      "Epoch: 4 | Train Loss: 0.37941 | Valid Loss: 0.17267 | Train Accs: 0.87384 | Valid Accs: 0.94567 | Time: 24.87 seconds\n",
      "Epoch: 5 | Train Loss: 0.32847 | Valid Loss: 0.15258 | Train Accs: 0.89116 | Valid Accs: 0.95017 | Time: 24.52 seconds\n",
      "Epoch: 6 | Train Loss: 0.27831 | Valid Loss: 0.11143 | Train Accs: 0.91030 | Valid Accs: 0.96697 | Time: 24.66 seconds\n",
      "Epoch: 7 | Train Loss: 0.24085 | Valid Loss: 0.10544 | Train Accs: 0.92080 | Valid Accs: 0.96828 | Time: 24.86 seconds\n",
      "Epoch: 8 | Train Loss: 0.21107 | Valid Loss: 0.09289 | Train Accs: 0.93107 | Valid Accs: 0.97124 | Time: 25.20 seconds\n",
      "Epoch: 9 | Train Loss: 0.18804 | Valid Loss: 0.09381 | Train Accs: 0.93827 | Valid Accs: 0.97076 | Time: 24.89 seconds\n",
      "Epoch: 10 | Train Loss: 0.17769 | Valid Loss: 0.08307 | Train Accs: 0.94137 | Valid Accs: 0.97337 | Time: 24.85 seconds\n",
      "\n",
      "**************************************************\n",
      "\n",
      "Best Validation Loss at Epoch 10\n",
      "\n",
      "**************************************************\n",
      "\n",
      "Best Validation Accs at Epoch 10\n",
      "\n",
      "**************************************************\n",
      "\n",
      "Time Taken [10 Epochs] : 4.26 minutes\n",
      "\n",
      "**************************************************\n",
      "\n"
     ]
    },
    {
     "data": {
      "image/png": "[encoded data removed]",
      "text/plain": [
       "<Figure size 432x288 with 1 Axes>"
      ]
     },
     "metadata": {
      "needs_background": "light"
     },
     "output_type": "display_data"
    },
    {
     "name": "stdout",
     "output_type": "stream",
     "text": [
      "\n",
      "**************************************************\n",
      "\n"
     ]
    },
    {
     "data": {
      "image/png": "[encoded data removed]",
      "text/plain": [
       "<Figure size 432x288 with 1 Axes>"
      ]
     },
     "metadata": {
      "needs_background": "light"
     },
     "output_type": "display_data"
    },
    {
     "name": "stdout",
     "output_type": "stream",
     "text": [
      "\n",
      "**************************************************\n",
      "\n"
     ]
    },
    {
     "data": {
      "image/png": "[encoded data removed]",
      "text/plain": [
       "<Figure size 576x432 with 1 Axes>"
      ]
     },
     "metadata": {
      "needs_background": "light"
     },
     "output_type": "display_data"
    },
    {
     "name": "stdout",
     "output_type": "stream",
     "text": [
      "\n",
      "**************************************************\n",
      "\n",
      "\n",
      "**************************************************\n",
      "\n",
      "Training Fold 2...\n",
      "\n",
      "**************************************************\n",
      "\n",
      "Epoch: 1 | Train Loss: 1.60189 | Valid Loss: 0.51383 | Train Accs: 0.46503 | Valid Accs: 0.83310 | Time: 24.99 seconds\n",
      "Epoch: 2 | Train Loss: 0.73263 | Valid Loss: 0.22138 | Train Accs: 0.75506 | Valid Accs: 0.92483 | Time: 25.24 seconds\n",
      "Epoch: 3 | Train Loss: 0.48569 | Valid Loss: 0.25566 | Train Accs: 0.84193 | Valid Accs: 0.92708 | Time: 24.59 seconds\n",
      "Epoch: 4 | Train Loss: 0.38317 | Valid Loss: 0.15222 | Train Accs: 0.87307 | Valid Accs: 0.95549 | Time: 25.18 seconds\n",
      "Epoch: 5 | Train Loss: 0.32757 | Valid Loss: 0.15389 | Train Accs: 0.89187 | Valid Accs: 0.95064 | Time: 24.98 seconds\n",
      "Epoch: 6 | Train Loss: 0.27855 | Valid Loss: 0.13761 | Train Accs: 0.90839 | Valid Accs: 0.95312 | Time: 24.55 seconds\n",
      "Epoch: 7 | Train Loss: 0.25265 | Valid Loss: 0.11826 | Train Accs: 0.91943 | Valid Accs: 0.96461 | Time: 25.09 seconds\n",
      "Epoch: 8 | Train Loss: 0.21500 | Valid Loss: 0.09174 | Train Accs: 0.93077 | Valid Accs: 0.97277 | Time: 25.14 seconds\n",
      "Epoch: 9 | Train Loss: 0.19379 | Valid Loss: 0.08183 | Train Accs: 0.93565 | Valid Accs: 0.97289 | Time: 25.37 seconds\n",
      "Epoch: 10 | Train Loss: 0.17763 | Valid Loss: 0.08528 | Train Accs: 0.94277 | Valid Accs: 0.97147 | Time: 24.36 seconds\n",
      "\n",
      "**************************************************\n",
      "\n",
      "Best Validation Loss at Epoch 9\n",
      "\n",
      "**************************************************\n",
      "\n",
      "Best Validation Accs at Epoch 9\n",
      "\n",
      "**************************************************\n",
      "\n",
      "Time Taken [10 Epochs] : 4.16 minutes\n",
      "\n",
      "**************************************************\n",
      "\n"
     ]
    },
    {
     "data": {
      "image/png": "[encoded data removed]",
      "text/plain": [
       "<Figure size 432x288 with 1 Axes>"
      ]
     },
     "metadata": {
      "needs_background": "light"
     },
     "output_type": "display_data"
    },
    {
     "name": "stdout",
     "output_type": "stream",
     "text": [
      "\n",
      "**************************************************\n",
      "\n"
     ]
    },
    {
     "data": {
      "image/png": "[encoded data removed]",
      "text/plain": [
       "<Figure size 432x288 with 1 Axes>"
      ]
     },
     "metadata": {
      "needs_background": "light"
     },
     "output_type": "display_data"
    },
    {
     "name": "stdout",
     "output_type": "stream",
     "text": [
      "\n",
      "**************************************************\n",
      "\n"
     ]
    },
    {
     "data": {
      "image/png": "[encoded data removed]",
      "text/plain": [
       "<Figure size 576x432 with 1 Axes>"
      ]
     },
     "metadata": {
      "needs_background": "light"
     },
     "output_type": "display_data"
    },
    {
     "name": "stdout",
     "output_type": "stream",
     "text": [
      "\n",
      "**************************************************\n",
      "\n",
      "\n",
      "**************************************************\n",
      "\n",
      "Training Fold 3...\n",
      "\n",
      "**************************************************\n",
      "\n",
      "Epoch: 1 | Train Loss: 1.59700 | Valid Loss: 0.47804 | Train Accs: 0.46905 | Valid Accs: 0.85429 | Time: 24.92 seconds\n",
      "Epoch: 2 | Train Loss: 0.72637 | Valid Loss: 0.19390 | Train Accs: 0.75693 | Valid Accs: 0.94602 | Time: 25.17 seconds\n",
      "Epoch: 3 | Train Loss: 0.48496 | Valid Loss: 0.13178 | Train Accs: 0.84179 | Valid Accs: 0.95774 | Time: 24.87 seconds\n",
      "Epoch: 4 | Train Loss: 0.38539 | Valid Loss: 0.18999 | Train Accs: 0.87315 | Valid Accs: 0.94366 | Time: 24.64 seconds\n",
      "Epoch: 5 | Train Loss: 0.32894 | Valid Loss: 0.16447 | Train Accs: 0.89146 | Valid Accs: 0.94247 | Time: 24.15 seconds\n",
      "Epoch: 6 | Train Loss: 0.28758 | Valid Loss: 0.13410 | Train Accs: 0.90512 | Valid Accs: 0.95336 | Time: 24.61 seconds\n",
      "Epoch: 7 | Train Loss: 0.25247 | Valid Loss: 0.08890 | Train Accs: 0.91902 | Valid Accs: 0.97384 | Time: 25.32 seconds\n",
      "Epoch: 8 | Train Loss: 0.21496 | Valid Loss: 0.08599 | Train Accs: 0.93185 | Valid Accs: 0.97183 | Time: 24.82 seconds\n",
      "Epoch: 9 | Train Loss: 0.18908 | Valid Loss: 0.07865 | Train Accs: 0.93929 | Valid Accs: 0.97573 | Time: 24.90 seconds\n",
      "Epoch: 10 | Train Loss: 0.17724 | Valid Loss: 0.07647 | Train Accs: 0.94298 | Valid Accs: 0.97585 | Time: 24.94 seconds\n",
      "\n",
      "**************************************************\n",
      "\n",
      "Best Validation Loss at Epoch 10\n",
      "\n",
      "**************************************************\n",
      "\n",
      "Best Validation Accs at Epoch 10\n",
      "\n",
      "**************************************************\n",
      "\n",
      "Time Taken [10 Epochs] : 4.14 minutes\n",
      "\n",
      "**************************************************\n",
      "\n"
     ]
    },
    {
     "data": {
      "image/png": "[encoded data removed]",
      "text/plain": [
       "<Figure size 432x288 with 1 Axes>"
      ]
     },
     "metadata": {
      "needs_background": "light"
     },
     "output_type": "display_data"
    },
    {
     "name": "stdout",
     "output_type": "stream",
     "text": [
      "\n",
      "**************************************************\n",
      "\n"
     ]
    },
    {
     "data": {
      "image/png": "[encoded data removed]",
      "text/plain": [
       "<Figure size 432x288 with 1 Axes>"
      ]
     },
     "metadata": {
      "needs_background": "light"
     },
     "output_type": "display_data"
    },
    {
     "name": "stdout",
     "output_type": "stream",
     "text": [
      "\n",
      "**************************************************\n",
      "\n"
     ]
    },
    {
     "data": {
      "image/png": "[encoded data removed]",
      "text/plain": [
       "<Figure size 576x432 with 1 Axes>"
      ]
     },
     "metadata": {
      "needs_background": "light"
     },
     "output_type": "display_data"
    },
    {
     "name": "stdout",
     "output_type": "stream",
     "text": [
      "\n",
      "**************************************************\n",
      "\n",
      "\n",
      "**************************************************\n",
      "\n",
      "Training Fold 4...\n",
      "\n",
      "**************************************************\n",
      "\n",
      "Epoch: 1 | Train Loss: 1.59101 | Valid Loss: 0.29773 | Train Accs: 0.46711 | Valid Accs: 0.90826 | Time: 24.88 seconds\n",
      "Epoch: 2 | Train Loss: 0.73595 | Valid Loss: 0.32164 | Train Accs: 0.75384 | Valid Accs: 0.89903 | Time: 24.57 seconds\n",
      "Epoch: 3 | Train Loss: 0.47893 | Valid Loss: 0.21286 | Train Accs: 0.84318 | Valid Accs: 0.93430 | Time: 24.88 seconds\n",
      "Epoch: 4 | Train Loss: 0.38622 | Valid Loss: 0.18341 | Train Accs: 0.87417 | Valid Accs: 0.94235 | Time: 24.56 seconds\n",
      "Epoch: 5 | Train Loss: 0.32253 | Valid Loss: 0.17121 | Train Accs: 0.89426 | Valid Accs: 0.95206 | Time: 25.25 seconds\n",
      "Epoch: 6 | Train Loss: 0.28031 | Valid Loss: 0.11116 | Train Accs: 0.90997 | Valid Accs: 0.96366 | Time: 25.08 seconds\n",
      "Epoch: 7 | Train Loss: 0.24420 | Valid Loss: 0.09421 | Train Accs: 0.91976 | Valid Accs: 0.97135 | Time: 25.13 seconds\n",
      "Epoch: 8 | Train Loss: 0.21737 | Valid Loss: 0.07997 | Train Accs: 0.92771 | Valid Accs: 0.97609 | Time: 24.70 seconds\n",
      "Epoch: 9 | Train Loss: 0.19513 | Valid Loss: 0.08439 | Train Accs: 0.93574 | Valid Accs: 0.97301 | Time: 23.78 seconds\n",
      "Epoch: 10 | Train Loss: 0.17768 | Valid Loss: 0.08041 | Train Accs: 0.94188 | Valid Accs: 0.97573 | Time: 24.33 seconds\n",
      "\n",
      "**************************************************\n",
      "\n",
      "Best Validation Loss at Epoch 8\n",
      "\n",
      "**************************************************\n",
      "\n",
      "Best Validation Accs at Epoch 8\n",
      "\n",
      "**************************************************\n",
      "\n",
      "Time Taken [10 Epochs] : 4.12 minutes\n",
      "\n",
      "**************************************************\n",
      "\n"
     ]
    },
    {
     "data": {
      "image/png": "[encoded data removed]",
      "text/plain": [
       "<Figure size 432x288 with 1 Axes>"
      ]
     },
     "metadata": {
      "needs_background": "light"
     },
     "output_type": "display_data"
    },
    {
     "name": "stdout",
     "output_type": "stream",
     "text": [
      "\n",
      "**************************************************\n",
      "\n"
     ]
    },
    {
     "data": {
      "image/png": "[encoded data removed]",
      "text/plain": [
       "<Figure size 432x288 with 1 Axes>"
      ]
     },
     "metadata": {
      "needs_background": "light"
     },
     "output_type": "display_data"
    },
    {
     "name": "stdout",
     "output_type": "stream",
     "text": [
      "\n",
      "**************************************************\n",
      "\n"
     ]
    },
    {
     "data": {
      "image/png": "[encoded data removed]",
      "text/plain": [
       "<Figure size 576x432 with 1 Axes>"
      ]
     },
     "metadata": {
      "needs_background": "light"
     },
     "output_type": "display_data"
    },
    {
     "name": "stdout",
     "output_type": "stream",
     "text": [
      "\n",
      "**************************************************\n",
      "\n",
      "\n",
      "**************************************************\n",
      "\n",
      "Training Fold 5...\n",
      "\n",
      "**************************************************\n",
      "\n",
      "Epoch: 1 | Train Loss: 1.59471 | Valid Loss: 0.49731 | Train Accs: 0.46625 | Valid Accs: 0.83428 | Time: 24.83 seconds\n",
      "Epoch: 2 | Train Loss: 0.73168 | Valid Loss: 0.26504 | Train Accs: 0.75530 | Valid Accs: 0.91750 | Time: 25.41 seconds\n",
      "Epoch: 3 | Train Loss: 0.47651 | Valid Loss: 0.13616 | Train Accs: 0.84286 | Valid Accs: 0.95857 | Time: 24.85 seconds\n",
      "Epoch: 4 | Train Loss: 0.38615 | Valid Loss: 0.13398 | Train Accs: 0.87238 | Valid Accs: 0.95774 | Time: 24.33 seconds\n",
      "Epoch: 5 | Train Loss: 0.31999 | Valid Loss: 0.09930 | Train Accs: 0.89372 | Valid Accs: 0.97053 | Time: 25.11 seconds\n",
      "Epoch: 6 | Train Loss: 0.28245 | Valid Loss: 0.10729 | Train Accs: 0.90622 | Valid Accs: 0.96413 | Time: 24.50 seconds\n",
      "Epoch: 7 | Train Loss: 0.24967 | Valid Loss: 0.09249 | Train Accs: 0.91875 | Valid Accs: 0.97029 | Time: 24.92 seconds\n",
      "Epoch: 8 | Train Loss: 0.21690 | Valid Loss: 0.08367 | Train Accs: 0.92815 | Valid Accs: 0.97218 | Time: 24.85 seconds\n",
      "Epoch: 9 | Train Loss: 0.18801 | Valid Loss: 0.06931 | Train Accs: 0.93810 | Valid Accs: 0.97775 | Time: 24.74 seconds\n",
      "Epoch: 10 | Train Loss: 0.18250 | Valid Loss: 0.06704 | Train Accs: 0.94048 | Valid Accs: 0.97727 | Time: 24.71 seconds\n",
      "\n",
      "**************************************************\n",
      "\n",
      "Best Validation Loss at Epoch 10\n",
      "\n",
      "**************************************************\n",
      "\n",
      "Best Validation Accs at Epoch 9\n",
      "\n",
      "**************************************************\n",
      "\n",
      "Time Taken [10 Epochs] : 4.14 minutes\n",
      "\n",
      "**************************************************\n",
      "\n"
     ]
    },
    {
     "data": {
      "image/png": "[encoded data removed]",
      "text/plain": [
       "<Figure size 432x288 with 1 Axes>"
      ]
     },
     "metadata": {
      "needs_background": "light"
     },
     "output_type": "display_data"
    },
    {
     "name": "stdout",
     "output_type": "stream",
     "text": [
      "\n",
      "**************************************************\n",
      "\n"
     ]
    },
    {
     "data": {
      "image/png": "[encoded data removed]",
      "text/plain": [
       "<Figure size 432x288 with 1 Axes>"
      ]
     },
     "metadata": {
      "needs_background": "light"
     },
     "output_type": "display_data"
    },
    {
     "name": "stdout",
     "output_type": "stream",
     "text": [
      "\n",
      "**************************************************\n",
      "\n"
     ]
    },
    {
     "data": {
      "image/png": "[encoded data removed]",
      "text/plain": [
       "<Figure size 576x432 with 1 Axes>"
      ]
     },
     "metadata": {
      "needs_background": "light"
     },
     "output_type": "display_data"
    },
    {
     "name": "stdout",
     "output_type": "stream",
     "text": [
      "\n",
      "**************************************************\n",
      "\n"
     ]
    }
   ],
   "source": [
    "fold: int = 1\n",
    "BLs: list = []\n",
    "BAs: list = []\n",
    "    \n",
    "cfg.batch_size = 64\n",
    "cfg.epochs = 10\n",
    "cfg.filter_sizes = [128, 256, 512]\n",
    "    \n",
    "for tr_idx, va_idx in StratifiedKFold(n_splits=cfg.n_splits, random_state=cfg.seed, shuffle=True).split(images, labels):\n",
    "\n",
    "    tr_images, va_images = images[tr_idx], images[va_idx] \n",
    "    tr_labels, va_labels = labels[tr_idx], labels[va_idx]\n",
    "    \n",
    "    tr_data_setup = DS(\n",
    "        images=tr_images, \n",
    "        labels=tr_labels.reshape(-1, 1),\n",
    "        transform=cfg.train_transform\n",
    "    )\n",
    "\n",
    "    va_data_setup = DS(\n",
    "        images=va_images, \n",
    "        labels=va_labels.reshape(-1, 1),\n",
    "        transform=cfg.valid_transform\n",
    "    )\n",
    "\n",
    "    dataloaders = {\n",
    "        \"train\" : DL(tr_data_setup, batch_size=cfg.batch_size, shuffle=True, generator=torch.manual_seed(cfg.seed)),\n",
    "        \"valid\" : DL(va_data_setup, batch_size=cfg.batch_size, shuffle=False),\n",
    "    }\n",
    "\n",
    "    cfg.steps_per_epoch=len(dataloaders[\"train\"])\n",
    "    \n",
    "    torch.manual_seed(cfg.seed)\n",
    "    model = Model(filter_sizes=cfg.filter_sizes, HL=cfg.HL).to(cfg.device)\n",
    "\n",
    "    optimizer = optim.Adam([p for p in model.parameters() if p.requires_grad], lr=cfg.lr, weight_decay=cfg.wd)\n",
    "    # optimizer = optim.AdamW([p for p in model.parameters() if p.requires_grad], lr=cfg.lr, weight_decay=cfg.wd)\n",
    "    # optimizer = optim.SGD([p for p in model.parameters() if p.requires_grad], lr=cfg.lr, weight_decay=cfg.wd, momentum=0.9)\n",
    "\n",
    "    scheduler_oclr = optim.lr_scheduler.OneCycleLR(\n",
    "        optimizer=optimizer, \n",
    "        max_lr=cfg.max_lr, \n",
    "        epochs=cfg.epochs, \n",
    "        steps_per_epoch=cfg.steps_per_epoch,\n",
    "        pct_start=cfg.pct_start, \n",
    "        div_factor=cfg.div_factor, \n",
    "        final_div_factor=cfg.final_div_factor\n",
    "    )\n",
    "    \n",
    "    # scheduler_rlrop = optim.lr_scheduler.ReduceLROnPlateau(\n",
    "    #     optimizer=optimizer,\n",
    "    #     patience=cfg.patience,\n",
    "    #     eps=cfg.eps,\n",
    "    #     verbose=True\n",
    "    # )\n",
    "\n",
    "    # scheduler_oclr = None\n",
    "    scheduler_rlrop = None\n",
    "    \n",
    "    L, A, LR, BL, BA, _, _, _, _ = fit(\n",
    "        model=model, \n",
    "        optimizer=optimizer, \n",
    "        scheduler_oclr=scheduler_oclr,\n",
    "        scheduler_rlrop=scheduler_rlrop,\n",
    "        epochs=cfg.epochs, \n",
    "        early_stopping_patience=cfg.early_stopping, \n",
    "        dataloaders=dataloaders, \n",
    "        device=cfg.device,\n",
    "        save_path=cfg.save_path,\n",
    "        fold=fold,\n",
    "        verbose=True\n",
    "    )\n",
    "\n",
    "\n",
    "    breaker()\n",
    "    show_loss_graphs(L)\n",
    "    breaker()\n",
    "    show_accuracy_graphs(A)\n",
    "    breaker()\n",
    "    if scheduler_oclr:\n",
    "        show_lr_graph(LR)\n",
    "        breaker()\n",
    "    \n",
    "    BLs.append(BL)\n",
    "    BAs.append(BA)\n",
    "\n",
    "    fold += 1"
   ]
  },
  {
   "cell_type": "code",
   "execution_count": 9,
   "id": "decf7b0e",
   "metadata": {
    "execution": {
     "iopub.execute_input": "2023-02-01T14:03:50.562490Z",
     "iopub.status.busy": "2023-02-01T14:03:50.560948Z",
     "iopub.status.idle": "2023-02-01T14:03:50.569008Z",
     "shell.execute_reply": "2023-02-01T14:03:50.567888Z"
    },
    "papermill": {
     "duration": 0.021071,
     "end_time": "2023-02-01T14:03:50.570936",
     "exception": false,
     "start_time": "2023-02-01T14:03:50.549865",
     "status": "completed"
    },
    "tags": []
   },
   "outputs": [
    {
     "name": "stdout",
     "output_type": "stream",
     "text": [
      "\n",
      "**************************************************\n",
      "\n",
      "Best Loss Model Fold     : 5\n",
      "Best Accuracy Model Fold : 5\n",
      "\n",
      "**************************************************\n",
      "\n"
     ]
    }
   ],
   "source": [
    "BL = np.inf\n",
    "for i in range(len(BLs)):\n",
    "    if BLs[i][\"valid\"] < BL:\n",
    "        BL = BLs[i][\"valid\"]\n",
    "        best_loss_index = i\n",
    "\n",
    "        \n",
    "BA = 0.0\n",
    "for i in range(len(BAs)):\n",
    "    if BAs[i][\"valid\"] > BA:\n",
    "        BA = BAs[i][\"valid\"]\n",
    "        best_accs_index = i\n",
    "\n",
    "breaker()\n",
    "print(f\"Best Loss Model Fold     : {best_loss_index + 1}\")\n",
    "print(f\"Best Accuracy Model Fold : {best_accs_index + 1}\")\n",
    "breaker()"
   ]
  }
 ],
 "metadata": {
  "kernelspec": {
   "display_name": "Python 3",
   "language": "python",
   "name": "python3"
  },
  "language_info": {
   "codemirror_mode": {
    "name": "ipython",
    "version": 3
   },
   "file_extension": ".py",
   "mimetype": "text/x-python",
   "name": "python",
   "nbconvert_exporter": "python",
   "pygments_lexer": "ipython3",
   "version": "3.7.12"
  },
  "papermill": {
   "default_parameters": {},
   "duration": 1270.877954,
   "end_time": "2023-02-01T14:03:52.908440",
   "environment_variables": {},
   "exception": null,
   "input_path": "__notebook__.ipynb",
   "output_path": "__notebook__.ipynb",
   "parameters": {},
   "start_time": "2023-02-01T13:42:42.030486",
   "version": "2.3.4"
  }
 },
 "nbformat": 4,
 "nbformat_minor": 5
}
