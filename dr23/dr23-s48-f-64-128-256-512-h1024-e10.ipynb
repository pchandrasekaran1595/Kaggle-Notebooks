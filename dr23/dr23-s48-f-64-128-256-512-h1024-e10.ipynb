{
 "cells": [
  {
   "cell_type": "markdown",
   "id": "0087b451",
   "metadata": {
    "_cell_guid": "b1076dfc-b9ad-4769-8c92-a6c4dae69d19",
    "_uuid": "8f2839f25d086af736a60e9eeb907d3b93b6e0e5",
    "papermill": {
     "duration": 0.003981,
     "end_time": "2023-02-02T23:18:54.794215",
     "exception": false,
     "start_time": "2023-02-02T23:18:54.790234",
     "status": "completed"
    },
    "tags": []
   },
   "source": [
    "### **Library Imports**"
   ]
  },
  {
   "cell_type": "code",
   "execution_count": 1,
   "id": "240b27e8",
   "metadata": {
    "execution": {
     "iopub.execute_input": "2023-02-02T23:18:54.802574Z",
     "iopub.status.busy": "2023-02-02T23:18:54.801812Z",
     "iopub.status.idle": "2023-02-02T23:18:57.652323Z",
     "shell.execute_reply": "2023-02-02T23:18:57.651346Z"
    },
    "papermill": {
     "duration": 2.857525,
     "end_time": "2023-02-02T23:18:57.654900",
     "exception": false,
     "start_time": "2023-02-02T23:18:54.797375",
     "status": "completed"
    },
    "tags": []
   },
   "outputs": [],
   "source": [
    "import os\n",
    "import re\n",
    "import cv2\n",
    "import torch\n",
    "import numpy as np\n",
    "import pandas as pd\n",
    "import matplotlib.pyplot as plt\n",
    "\n",
    "from time import time\n",
    "from typing import Union\n",
    "from torch import nn, optim\n",
    "from torch.utils.data import Dataset\n",
    "from torch.utils.data import DataLoader as DL\n",
    "from torchvision import transforms\n",
    "\n",
    "from sklearn.model_selection import StratifiedKFold"
   ]
  },
  {
   "cell_type": "code",
   "execution_count": 2,
   "id": "9e5129f2",
   "metadata": {
    "execution": {
     "iopub.execute_input": "2023-02-02T23:18:57.663743Z",
     "iopub.status.busy": "2023-02-02T23:18:57.662108Z",
     "iopub.status.idle": "2023-02-02T23:18:57.674412Z",
     "shell.execute_reply": "2023-02-02T23:18:57.673546Z"
    },
    "papermill": {
     "duration": 0.018358,
     "end_time": "2023-02-02T23:18:57.676507",
     "exception": false,
     "start_time": "2023-02-02T23:18:57.658149",
     "status": "completed"
    },
    "tags": []
   },
   "outputs": [],
   "source": [
    "SEED: int = 42\n",
    "    \n",
    "\n",
    "def breaker(num: int=50, char: str=\"*\") -> None: print(\"\\n\" + num*char + \"\\n\")\n",
    "\n",
    "    \n",
    "def show_loss_graphs(L: list) -> None:\n",
    "    TL, VL = [], []\n",
    "    for i in range(len(L)):\n",
    "        TL.append(L[i][\"train\"])\n",
    "        VL.append(L[i][\"valid\"])\n",
    "    x_Axis = np.arange(1, len(TL) + 1)\n",
    "    plt.figure()\n",
    "    plt.plot(x_Axis, TL, \"r\", label=\"Train\")\n",
    "    plt.plot(x_Axis, VL, \"b\", label=\"Valid\")\n",
    "    plt.legend()\n",
    "    plt.grid()\n",
    "    plt.title(\"Loss Graph\")\n",
    "    plt.show()\n",
    "    \n",
    "\n",
    "def show_accuracy_graphs(A: list) -> None:\n",
    "    TA, VA = [], []\n",
    "    for i in range(len(A)):\n",
    "        TA.append(A[i][\"train\"])\n",
    "        VA.append(A[i][\"valid\"])\n",
    "    x_Axis = np.arange(1, len(TA) + 1)\n",
    "    plt.figure()\n",
    "    plt.plot(x_Axis, TA, \"r\", label=\"Train\")\n",
    "    plt.plot(x_Axis, VA, \"b\", label=\"Valid\")\n",
    "    plt.legend()\n",
    "    plt.grid()\n",
    "    plt.title(\"Accuracy Graph\")\n",
    "    plt.show()\n",
    "    \n",
    "\n",
    "def show_lr_graph(LR: list) -> None:\n",
    "    x_Axis = [i+1 for i in range(len(LR))]\n",
    "    plt.figure(figsize=(8, 6))\n",
    "    plt.plot(x_Axis, LR, \"rx\")\n",
    "    plt.grid()\n",
    "    plt.show()"
   ]
  },
  {
   "cell_type": "code",
   "execution_count": 3,
   "id": "e91911a1",
   "metadata": {
    "execution": {
     "iopub.execute_input": "2023-02-02T23:18:57.683627Z",
     "iopub.status.busy": "2023-02-02T23:18:57.683351Z",
     "iopub.status.idle": "2023-02-02T23:18:57.758820Z",
     "shell.execute_reply": "2023-02-02T23:18:57.757908Z"
    },
    "papermill": {
     "duration": 0.081265,
     "end_time": "2023-02-02T23:18:57.760804",
     "exception": false,
     "start_time": "2023-02-02T23:18:57.679539",
     "status": "completed"
    },
    "tags": []
   },
   "outputs": [],
   "source": [
    "class CFG(object):\n",
    "    def __init__(self,\n",
    "             seed: int = 42,\n",
    "             n_splits: int = 5,\n",
    "             batch_size: int = 16,\n",
    "             epochs: int = 25,\n",
    "             early_stopping: int = 5,\n",
    "             lr: float = 1e-4,\n",
    "             wd: float = 0.0,\n",
    "             max_lr: float = 1e-3,\n",
    "             pct_start: float = 0.2,\n",
    "             steps_per_epoch: int = 100,\n",
    "             div_factor: int = 1e3, \n",
    "             final_div_factor: float = 1e3,\n",
    "             filter_sizes: list = [64, 128, 256, 512],\n",
    "             HL: list = [1024]\n",
    "         ):\n",
    "        \n",
    "        self.seed = seed\n",
    "        self.n_splits = n_splits\n",
    "        self.batch_size = batch_size\n",
    "        self.epochs = epochs\n",
    "        self.early_stopping = early_stopping\n",
    "        self.lr = lr\n",
    "        self.wd = wd\n",
    "        self.max_lr = max_lr\n",
    "        self.pct_start = pct_start\n",
    "        self.steps_per_epoch = steps_per_epoch\n",
    "        self.div_factor = div_factor\n",
    "        self.final_div_factor = final_div_factor\n",
    "        self.filter_sizes = filter_sizes\n",
    "        self.HL = HL\n",
    "        self.device = torch.device(\"cuda\" if torch.cuda.is_available() else \"cpu\")\n",
    "        \n",
    "        self.train_transform = transforms.Compose([\n",
    "            transforms.ToTensor(),\n",
    "            transforms.Normalize([0.13098], [0.29752]),\n",
    "            transforms.RandomAffine(degrees=(-45, 45), translate=(0.15, 0.15), scale=(0.5, 1.5)),\n",
    "            transforms.RandomHorizontalFlip(p=0.25),\n",
    "            transforms.RandomVerticalFlip(p=0.25),\n",
    "        ])\n",
    "        self.valid_transform = transforms.Compose([\n",
    "            transforms.ToTensor(),\n",
    "            transforms.Normalize([0.13098], [0.29752]),\n",
    "        ])\n",
    "        self.save_path = \"saves\"\n",
    "        if not os.path.exists(self.save_path): os.makedirs(self.save_path)\n",
    "\n",
    "\n",
    "cfg = CFG(\n",
    "    seed=SEED, \n",
    ")"
   ]
  },
  {
   "cell_type": "markdown",
   "id": "0222440f",
   "metadata": {
    "papermill": {
     "duration": 0.002894,
     "end_time": "2023-02-02T23:18:57.767117",
     "exception": false,
     "start_time": "2023-02-02T23:18:57.764223",
     "status": "completed"
    },
    "tags": []
   },
   "source": [
    "### **Dataset Template**"
   ]
  },
  {
   "cell_type": "code",
   "execution_count": 4,
   "id": "f2feec0a",
   "metadata": {
    "execution": {
     "iopub.execute_input": "2023-02-02T23:18:57.774892Z",
     "iopub.status.busy": "2023-02-02T23:18:57.774048Z",
     "iopub.status.idle": "2023-02-02T23:18:57.780750Z",
     "shell.execute_reply": "2023-02-02T23:18:57.779829Z"
    },
    "papermill": {
     "duration": 0.012732,
     "end_time": "2023-02-02T23:18:57.782811",
     "exception": false,
     "start_time": "2023-02-02T23:18:57.770079",
     "status": "completed"
    },
    "tags": []
   },
   "outputs": [],
   "source": [
    "class DS(Dataset):\n",
    "    def __init__(\n",
    "        self, \n",
    "        images: np.ndarray, \n",
    "        labels: Union[np.ndarray, None]=None, \n",
    "        transform=None\n",
    "    ):\n",
    "        \n",
    "        self.images = images\n",
    "        self.labels = labels\n",
    "        self.transform = transform\n",
    "\n",
    "    def __len__(self):\n",
    "        return self.images.shape[0]\n",
    "\n",
    "    def __getitem__(self, idx):\n",
    "        if self.labels is not None:\n",
    "            return self.transform(self.images[idx]), torch.LongTensor(self.labels[idx])\n",
    "        return self.transform(self.images[idx])"
   ]
  },
  {
   "cell_type": "markdown",
   "id": "2815cd47",
   "metadata": {
    "papermill": {
     "duration": 0.00284,
     "end_time": "2023-02-02T23:18:57.788733",
     "exception": false,
     "start_time": "2023-02-02T23:18:57.785893",
     "status": "completed"
    },
    "tags": []
   },
   "source": [
    "### **Model**"
   ]
  },
  {
   "cell_type": "code",
   "execution_count": 5,
   "id": "13358b0b",
   "metadata": {
    "execution": {
     "iopub.execute_input": "2023-02-02T23:18:57.796200Z",
     "iopub.status.busy": "2023-02-02T23:18:57.795929Z",
     "iopub.status.idle": "2023-02-02T23:18:57.813861Z",
     "shell.execute_reply": "2023-02-02T23:18:57.812869Z"
    },
    "papermill": {
     "duration": 0.024024,
     "end_time": "2023-02-02T23:18:57.815747",
     "exception": false,
     "start_time": "2023-02-02T23:18:57.791723",
     "status": "completed"
    },
    "tags": []
   },
   "outputs": [],
   "source": [
    "class Model(nn.Module):\n",
    "    def __init__(self, filter_sizes: list, HL: list, DP: Union[float, None]=None):\n",
    "        \n",
    "        super(Model, self).__init__()\n",
    "        \n",
    "        self.features = nn.Sequential()\n",
    "        self.features.add_module(\"CN1\", nn.Conv2d(in_channels=1, out_channels=filter_sizes[0], kernel_size=(3, 3), stride=(1, 1), padding=(1, 1)))\n",
    "        self.features.add_module(\"BN1\", nn.BatchNorm2d(num_features=filter_sizes[0], eps=1e-5))\n",
    "        self.features.add_module(\"AN1\", nn.ReLU())\n",
    "        self.features.add_module(\"MP1\", nn.MaxPool2d(kernel_size=(2, 2)))\n",
    "        self.features.add_module(\"CN2\", nn.Conv2d(in_channels=filter_sizes[0], out_channels=filter_sizes[1], kernel_size=(3, 3), stride=(1, 1), padding=(1, 1)))\n",
    "        self.features.add_module(\"BN2\", nn.BatchNorm2d(num_features=filter_sizes[1], eps=1e-5))\n",
    "        self.features.add_module(\"AN2\", nn.ReLU())\n",
    "        self.features.add_module(\"MP2\", nn.MaxPool2d(kernel_size=(2, 2)))\n",
    "        self.features.add_module(\"CN3\", nn.Conv2d(in_channels=filter_sizes[1], out_channels=filter_sizes[2], kernel_size=(3, 3), stride=(1, 1), padding=(1, 1)))\n",
    "        self.features.add_module(\"BN3\", nn.BatchNorm2d(num_features=filter_sizes[2], eps=1e-5))\n",
    "        self.features.add_module(\"AN3\", nn.ReLU())\n",
    "        self.features.add_module(\"MP3\", nn.MaxPool2d(kernel_size=(2, 2))) \n",
    "        self.features.add_module(\"CN4\", nn.Conv2d(in_channels=filter_sizes[2], out_channels=filter_sizes[3], kernel_size=(3, 3), stride=(1, 1), padding=(1, 1)))\n",
    "        self.features.add_module(\"BN4\", nn.BatchNorm2d(num_features=filter_sizes[3], eps=1e-5))\n",
    "        self.features.add_module(\"AN4\", nn.ReLU())\n",
    "        self.features.add_module(\"MP4\", nn.MaxPool2d(kernel_size=(2, 2)))\n",
    "        \n",
    "        self.classifier = nn.Sequential()\n",
    "        if len(HL) == 0:\n",
    "            self.classifier.add_module(\"FC1\", nn.Linear(in_features=filter_sizes[3]*3*3, out_features=10))\n",
    "        elif len(HL) == 1:\n",
    "            self.classifier.add_module(\"FC1\", nn.Linear(in_features=filter_sizes[3]*3*3, out_features=HL[0]))\n",
    "            if isinstance(DP, float):\n",
    "                self.classifier.add_module(\"DP1\", nn.Dropout(p=DP))\n",
    "            self.classifier.add_module(\"AN1\", nn.ReLU())\n",
    "            self.classifier.add_module(\"FC2\", nn.Linear(in_features=HL[0], out_features=10))\n",
    "        elif len(HL) == 2:\n",
    "            self.classifier.add_module(\"FC1\", nn.Linear(in_features=filter_sizes[3]*3*3, out_features=HL[0]))\n",
    "            if isinstance(DP, float):\n",
    "                self.classifier.add_module(\"DP1\", nn.Dropout(p=DP))\n",
    "            self.classifier.add_module(\"AN1\", nn.ReLU())\n",
    "            self.classifier.add_module(\"FC2\", nn.Linear(in_features=HL[0], out_features=HL[1]))\n",
    "            if isinstance(DP, float):\n",
    "                self.classifier.add_module(\"DP2\", nn.Dropout(p=DP))\n",
    "            self.classifier.add_module(\"AN2\", nn.ReLU())\n",
    "            self.classifier.add_module(\"FC3\", nn.Linear(in_features=HL[1], out_features=10))\n",
    "        self.classifier.add_module(\"Final Activation\", nn.LogSoftmax(dim=1))\n",
    "    \n",
    "    def forward(self, x):\n",
    "        x = self.features(x)\n",
    "        x = x.view(x.shape[0], -1)\n",
    "        return self.classifier(x)"
   ]
  },
  {
   "cell_type": "markdown",
   "id": "bd99f048",
   "metadata": {
    "papermill": {
     "duration": 0.002821,
     "end_time": "2023-02-02T23:18:57.821593",
     "exception": false,
     "start_time": "2023-02-02T23:18:57.818772",
     "status": "completed"
    },
    "tags": []
   },
   "source": [
    "### **Fit and Predict**"
   ]
  },
  {
   "cell_type": "code",
   "execution_count": 6,
   "id": "6b38bb24",
   "metadata": {
    "execution": {
     "iopub.execute_input": "2023-02-02T23:18:57.829311Z",
     "iopub.status.busy": "2023-02-02T23:18:57.829058Z",
     "iopub.status.idle": "2023-02-02T23:18:57.849619Z",
     "shell.execute_reply": "2023-02-02T23:18:57.848812Z"
    },
    "papermill": {
     "duration": 0.027165,
     "end_time": "2023-02-02T23:18:57.851891",
     "exception": false,
     "start_time": "2023-02-02T23:18:57.824726",
     "status": "completed"
    },
    "tags": []
   },
   "outputs": [],
   "source": [
    "def fit(\n",
    "    model=None,\n",
    "    optimizer=None, \n",
    "    scheduler_rlrop=None,\n",
    "    scheduler_oclr=None,\n",
    "    epochs=None, \n",
    "    early_stopping_patience=None, \n",
    "    dataloaders=None, \n",
    "    fold=None, \n",
    "    save_path=None,\n",
    "    device=None,\n",
    "    verbose=False\n",
    ") -> tuple:\n",
    "    \n",
    "    def get_accuracy(y_pred, y_true):\n",
    "        y_pred = torch.argmax(y_pred, dim=1)\n",
    "        return torch.count_nonzero(y_pred == y_true).item() / len(y_pred)\n",
    "    \n",
    "    if verbose:\n",
    "        breaker()\n",
    "        if fold: print(f\"Training Fold {fold}...\")\n",
    "        else: print(\"Training ...\")\n",
    "        breaker()\n",
    "        \n",
    "    bestLoss: dict = {\"train\" : np.inf, \"valid\" : np.inf} \n",
    "    bestAccs: dict = {\"train\" : 0.0, \"valid\" : 0.0}\n",
    "        \n",
    "    Losses: list = []\n",
    "    Accuracies: list = [] \n",
    "    LRs: list = []\n",
    "        \n",
    "    if fold: \n",
    "        ble_name = f\"ble_state_fold_{fold}.pt\"\n",
    "        bae_name = f\"bae_state_fold_{fold}.pt\"\n",
    "    else: \n",
    "        ble_name = f\"ble_state.pt\"\n",
    "        bae_name = f\"bae_state.pt\"\n",
    "        \n",
    "    start_time = time()\n",
    "    for e in range(epochs):\n",
    "        e_st = time()\n",
    "        epochLoss: dict = {\"train\" : 0.0, \"valid\" : 0.0} \n",
    "        epochAccs: dict = {\"train\" : 0.0, \"valid\" : 0.0}\n",
    "            \n",
    "        for phase in [\"train\", \"valid\"]:\n",
    "            if phase == \"train\":\n",
    "                model.train()\n",
    "            else:\n",
    "                model.eval()\n",
    "            \n",
    "            lossPerPass: list = []\n",
    "            accsPerPass: list = []\n",
    "                \n",
    "            for X, y in dataloaders[phase]:\n",
    "                X, y = X.to(device), y.to(device).view(-1)\n",
    "                \n",
    "                optimizer.zero_grad()\n",
    "                with torch.set_grad_enabled(phase == \"train\"):\n",
    "                    output = model(X)\n",
    "                    loss = nn.NLLLoss()(output, y)\n",
    "                    if phase == \"train\":\n",
    "                        loss.backward()\n",
    "                        optimizer.step()\n",
    "                        if scheduler_oclr: scheduler_oclr.step()\n",
    "                lossPerPass.append(loss.item())\n",
    "                accsPerPass.append(get_accuracy(output, y))\n",
    "            epochLoss[phase] = np.mean(np.array(lossPerPass))\n",
    "            epochAccs[phase] = np.mean(np.array(accsPerPass))\n",
    "        if scheduler_oclr: LRs.append(scheduler_oclr.get_last_lr())\n",
    "        Losses.append(epochLoss)\n",
    "        Accuracies.append(epochAccs)\n",
    "        \n",
    "        if scheduler_oclr:\n",
    "            save_dict = {\"model_state_dict\"     : model.state_dict(),\n",
    "                         \"optim_state_dict\"     : optimizer.state_dict(),\n",
    "                         \"scheduler_state_dict\" : scheduler_oclr.state_dict()}\n",
    "        \n",
    "        elif scheduler_rlrop:\n",
    "            save_dict = {\"model_state_dict\"     : model.state_dict(),\n",
    "                         \"optim_state_dict\"     : optimizer.state_dict(),\n",
    "                         \"scheduler_state_dict\" : scheduler_rlrop.state_dict()}\n",
    "        \n",
    "        else:\n",
    "            save_dict = {\"model_state_dict\"     : model.state_dict(),\n",
    "                         \"optim_state_dict\"     : optimizer.state_dict()}\n",
    "        \n",
    "        if early_stopping_patience:\n",
    "            if epochLoss[\"valid\"] < bestLoss[\"valid\"]:\n",
    "                bestLoss = epochLoss\n",
    "                BLE = e + 1\n",
    "                torch.save(save_dict, os.path.join(save_path, ble_name))\n",
    "                torch.save(save_dict, os.path.join(save_path, bae_name))\n",
    "                early_stopping_step = 0\n",
    "            else:\n",
    "                early_stopping_step += 1\n",
    "                if early_stopping_step > early_stopping_patience:\n",
    "                    print(\"\\nEarly Stopping at Epoch {}\".format(e + 1))\n",
    "                    break\n",
    "        \n",
    "        if epochLoss[\"valid\"] < bestLoss[\"valid\"]:\n",
    "            bestLoss = epochLoss\n",
    "            BLE = e + 1\n",
    "            torch.save(save_dict,os.path.join(save_path, ble_name))\n",
    "        \n",
    "        if epochAccs[\"valid\"] > bestAccs[\"valid\"]:\n",
    "            bestAccs = epochAccs\n",
    "            BAE = e + 1\n",
    "            torch.save(save_dict,os.path.join(save_path, bae_name))\n",
    "        \n",
    "        if scheduler_rlrop: scheduler_rlrop.step(epochLoss[\"valid\"])\n",
    "        \n",
    "        if verbose:\n",
    "            print(\"Epoch: {} | Train Loss: {:.5f} | Valid Loss: {:.5f} |\\\n",
    " Train Accs: {:.5f} | Valid Accs: {:.5f} | Time: {:.2f} seconds\".format(\n",
    "                e+1, \n",
    "                epochLoss[\"train\"], epochLoss[\"valid\"], \n",
    "                epochAccs[\"train\"], epochAccs[\"valid\"], \n",
    "                time()-e_st)\n",
    "            )\n",
    "        \n",
    "    if verbose:                                           \n",
    "        breaker()\n",
    "        print(f\"Best Validation Loss at Epoch {BLE}\")\n",
    "        breaker()\n",
    "        print(f\"Best Validation Accs at Epoch {BAE}\")\n",
    "        breaker()\n",
    "        print(\"Time Taken [{} Epochs] : {:.2f} minutes\".format(len(Losses), (time()-start_time)/60))\n",
    "    \n",
    "    return Losses, Accuracies, LRs, bestLoss, bestAccs, BLE, BAE, ble_name, bae_name\n",
    "\n",
    "\n",
    "# def predict_batch(model=None, dataloader=None, path=None, device=None) -> np.ndarray:\n",
    "#     model.load_state_dict(torch.load(path, map_location=device)[\"model_state_dict\"])\n",
    "#     model.to(device)    \n",
    "#     model.eval()\n",
    "    \n",
    "#     y_pred = torch.zeros(1, 1).to(device)\n",
    "    \n",
    "#     for X in dataloader:\n",
    "#         X = X.to(device)\n",
    "#         with torch.no_grad():\n",
    "#             output = torch.argmax(torch.exp(model(X)), dim=1)\n",
    "#         y_pred = torch.cat((y_pred, output.view(-1, 1)), dim=0)\n",
    "    \n",
    "#     return y_pred[1:].detach().cpu().numpy()"
   ]
  },
  {
   "cell_type": "markdown",
   "id": "679dd2a2",
   "metadata": {
    "papermill": {
     "duration": 0.002933,
     "end_time": "2023-02-02T23:18:57.857866",
     "exception": false,
     "start_time": "2023-02-02T23:18:57.854933",
     "status": "completed"
    },
    "tags": []
   },
   "source": [
    "### **Train**"
   ]
  },
  {
   "cell_type": "code",
   "execution_count": 7,
   "id": "36cd585b",
   "metadata": {
    "execution": {
     "iopub.execute_input": "2023-02-02T23:18:57.865141Z",
     "iopub.status.busy": "2023-02-02T23:18:57.864851Z",
     "iopub.status.idle": "2023-02-02T23:19:01.398473Z",
     "shell.execute_reply": "2023-02-02T23:19:01.397488Z"
    },
    "papermill": {
     "duration": 3.5399,
     "end_time": "2023-02-02T23:19:01.400866",
     "exception": false,
     "start_time": "2023-02-02T23:18:57.860966",
     "status": "completed"
    },
    "tags": []
   },
   "outputs": [],
   "source": [
    "df = pd.read_csv(\"/kaggle/input/digit-recognizer-ii-2023/train.csv\")\n",
    "\n",
    "images = df.iloc[:, 1:].copy().values.reshape(df.shape[0], 28, 28, 1).astype(\"uint8\")\n",
    "images = np.array([cv2.resize(image, (48, 48), interpolation=cv2.INTER_AREA) for image in images])\n",
    "labels = df.iloc[:, 0].copy().values"
   ]
  },
  {
   "cell_type": "code",
   "execution_count": 8,
   "id": "a49c25d8",
   "metadata": {
    "execution": {
     "iopub.execute_input": "2023-02-02T23:19:01.409224Z",
     "iopub.status.busy": "2023-02-02T23:19:01.408928Z",
     "iopub.status.idle": "2023-02-02T23:43:25.807058Z",
     "shell.execute_reply": "2023-02-02T23:43:25.806065Z"
    },
    "papermill": {
     "duration": 1464.404853,
     "end_time": "2023-02-02T23:43:25.809292",
     "exception": false,
     "start_time": "2023-02-02T23:19:01.404439",
     "status": "completed"
    },
    "tags": []
   },
   "outputs": [
    {
     "name": "stdout",
     "output_type": "stream",
     "text": [
      "\n",
      "**************************************************\n",
      "\n",
      "Training Fold 1...\n",
      "\n",
      "**************************************************\n",
      "\n",
      "Epoch: 1 | Train Loss: 1.43079 | Valid Loss: 0.29439 | Train Accs: 0.50060 | Valid Accs: 0.91347 | Time: 35.70 seconds\n",
      "Epoch: 2 | Train Loss: 0.61748 | Valid Loss: 0.24374 | Train Accs: 0.79429 | Valid Accs: 0.92330 | Time: 29.57 seconds\n",
      "Epoch: 3 | Train Loss: 0.43020 | Valid Loss: 0.22250 | Train Accs: 0.85548 | Valid Accs: 0.93584 | Time: 29.34 seconds\n",
      "Epoch: 4 | Train Loss: 0.35391 | Valid Loss: 0.15288 | Train Accs: 0.88503 | Valid Accs: 0.95478 | Time: 29.57 seconds\n",
      "Epoch: 5 | Train Loss: 0.29322 | Valid Loss: 0.09812 | Train Accs: 0.90298 | Valid Accs: 0.97230 | Time: 29.40 seconds\n",
      "Epoch: 6 | Train Loss: 0.25399 | Valid Loss: 0.11766 | Train Accs: 0.91896 | Valid Accs: 0.96342 | Time: 29.06 seconds\n",
      "Epoch: 7 | Train Loss: 0.21528 | Valid Loss: 0.10214 | Train Accs: 0.93027 | Valid Accs: 0.96899 | Time: 28.06 seconds\n",
      "Epoch: 8 | Train Loss: 0.18644 | Valid Loss: 0.08241 | Train Accs: 0.93908 | Valid Accs: 0.97573 | Time: 29.01 seconds\n",
      "Epoch: 9 | Train Loss: 0.16445 | Valid Loss: 0.08753 | Train Accs: 0.94598 | Valid Accs: 0.97514 | Time: 28.53 seconds\n",
      "Epoch: 10 | Train Loss: 0.15114 | Valid Loss: 0.08521 | Train Accs: 0.95077 | Valid Accs: 0.97633 | Time: 28.86 seconds\n",
      "\n",
      "**************************************************\n",
      "\n",
      "Best Validation Loss at Epoch 8\n",
      "\n",
      "**************************************************\n",
      "\n",
      "Best Validation Accs at Epoch 10\n",
      "\n",
      "**************************************************\n",
      "\n",
      "Time Taken [10 Epochs] : 4.95 minutes\n",
      "\n",
      "**************************************************\n",
      "\n"
     ]
    },
    {
     "data": {
      "image/png": "[encoded data removed]",
      "text/plain": [
       "<Figure size 432x288 with 1 Axes>"
      ]
     },
     "metadata": {
      "needs_background": "light"
     },
     "output_type": "display_data"
    },
    {
     "name": "stdout",
     "output_type": "stream",
     "text": [
      "\n",
      "**************************************************\n",
      "\n"
     ]
    },
    {
     "data": {
      "image/png": "[encoded data removed]",
      "text/plain": [
       "<Figure size 432x288 with 1 Axes>"
      ]
     },
     "metadata": {
      "needs_background": "light"
     },
     "output_type": "display_data"
    },
    {
     "name": "stdout",
     "output_type": "stream",
     "text": [
      "\n",
      "**************************************************\n",
      "\n"
     ]
    },
    {
     "data": {
      "image/png": "[encoded data removed]",
      "text/plain": [
       "<Figure size 576x432 with 1 Axes>"
      ]
     },
     "metadata": {
      "needs_background": "light"
     },
     "output_type": "display_data"
    },
    {
     "name": "stdout",
     "output_type": "stream",
     "text": [
      "\n",
      "**************************************************\n",
      "\n",
      "\n",
      "**************************************************\n",
      "\n",
      "Training Fold 2...\n",
      "\n",
      "**************************************************\n",
      "\n",
      "Epoch: 1 | Train Loss: 1.41775 | Valid Loss: 0.34703 | Train Accs: 0.50658 | Valid Accs: 0.90009 | Time: 29.32 seconds\n",
      "Epoch: 2 | Train Loss: 0.62574 | Valid Loss: 0.48142 | Train Accs: 0.79259 | Valid Accs: 0.83582 | Time: 28.94 seconds\n",
      "Epoch: 3 | Train Loss: 0.42738 | Valid Loss: 0.17763 | Train Accs: 0.85970 | Valid Accs: 0.93691 | Time: 29.46 seconds\n",
      "Epoch: 4 | Train Loss: 0.34977 | Valid Loss: 0.14411 | Train Accs: 0.88580 | Valid Accs: 0.95088 | Time: 29.32 seconds\n",
      "Epoch: 5 | Train Loss: 0.29769 | Valid Loss: 0.13946 | Train Accs: 0.90211 | Valid Accs: 0.95644 | Time: 28.71 seconds\n",
      "Epoch: 6 | Train Loss: 0.25585 | Valid Loss: 0.11427 | Train Accs: 0.91732 | Valid Accs: 0.96248 | Time: 28.82 seconds\n",
      "Epoch: 7 | Train Loss: 0.22362 | Valid Loss: 0.10159 | Train Accs: 0.92768 | Valid Accs: 0.97159 | Time: 28.73 seconds\n",
      "Epoch: 8 | Train Loss: 0.18901 | Valid Loss: 0.07771 | Train Accs: 0.93845 | Valid Accs: 0.97514 | Time: 28.20 seconds\n",
      "Epoch: 9 | Train Loss: 0.16560 | Valid Loss: 0.06890 | Train Accs: 0.94616 | Valid Accs: 0.97846 | Time: 29.25 seconds\n",
      "Epoch: 10 | Train Loss: 0.15194 | Valid Loss: 0.06843 | Train Accs: 0.95113 | Valid Accs: 0.97917 | Time: 28.90 seconds\n",
      "\n",
      "**************************************************\n",
      "\n",
      "Best Validation Loss at Epoch 10\n",
      "\n",
      "**************************************************\n",
      "\n",
      "Best Validation Accs at Epoch 10\n",
      "\n",
      "**************************************************\n",
      "\n",
      "Time Taken [10 Epochs] : 4.83 minutes\n",
      "\n",
      "**************************************************\n",
      "\n"
     ]
    },
    {
     "data": {
      "image/png": "[encoded data removed]",
      "text/plain": [
       "<Figure size 432x288 with 1 Axes>"
      ]
     },
     "metadata": {
      "needs_background": "light"
     },
     "output_type": "display_data"
    },
    {
     "name": "stdout",
     "output_type": "stream",
     "text": [
      "\n",
      "**************************************************\n",
      "\n"
     ]
    },
    {
     "data": {
      "image/png": "[encoded data removed]",
      "text/plain": [
       "<Figure size 432x288 with 1 Axes>"
      ]
     },
     "metadata": {
      "needs_background": "light"
     },
     "output_type": "display_data"
    },
    {
     "name": "stdout",
     "output_type": "stream",
     "text": [
      "\n",
      "**************************************************\n",
      "\n"
     ]
    },
    {
     "data": {
      "image/png": "[encoded data removed]",
      "text/plain": [
       "<Figure size 576x432 with 1 Axes>"
      ]
     },
     "metadata": {
      "needs_background": "light"
     },
     "output_type": "display_data"
    },
    {
     "name": "stdout",
     "output_type": "stream",
     "text": [
      "\n",
      "**************************************************\n",
      "\n",
      "\n",
      "**************************************************\n",
      "\n",
      "Training Fold 3...\n",
      "\n",
      "**************************************************\n",
      "\n",
      "Epoch: 1 | Train Loss: 1.41215 | Valid Loss: 0.44033 | Train Accs: 0.50896 | Valid Accs: 0.86683 | Time: 29.28 seconds\n",
      "Epoch: 2 | Train Loss: 0.62715 | Valid Loss: 0.52055 | Train Accs: 0.78938 | Valid Accs: 0.83298 | Time: 28.66 seconds\n",
      "Epoch: 3 | Train Loss: 0.42901 | Valid Loss: 0.14948 | Train Accs: 0.85708 | Valid Accs: 0.95111 | Time: 28.92 seconds\n",
      "Epoch: 4 | Train Loss: 0.34541 | Valid Loss: 0.16602 | Train Accs: 0.88875 | Valid Accs: 0.94164 | Time: 28.16 seconds\n",
      "Epoch: 5 | Train Loss: 0.30270 | Valid Loss: 0.15614 | Train Accs: 0.89961 | Valid Accs: 0.95147 | Time: 29.09 seconds\n",
      "Epoch: 6 | Train Loss: 0.25062 | Valid Loss: 0.11011 | Train Accs: 0.91768 | Valid Accs: 0.96212 | Time: 28.70 seconds\n",
      "Epoch: 7 | Train Loss: 0.21838 | Valid Loss: 0.11730 | Train Accs: 0.92857 | Valid Accs: 0.96200 | Time: 28.71 seconds\n",
      "Epoch: 8 | Train Loss: 0.18481 | Valid Loss: 0.08978 | Train Accs: 0.94003 | Valid Accs: 0.97183 | Time: 28.51 seconds\n",
      "Epoch: 9 | Train Loss: 0.15920 | Valid Loss: 0.08270 | Train Accs: 0.94738 | Valid Accs: 0.97313 | Time: 29.17 seconds\n",
      "Epoch: 10 | Train Loss: 0.15072 | Valid Loss: 0.07729 | Train Accs: 0.95229 | Valid Accs: 0.97313 | Time: 28.56 seconds\n",
      "\n",
      "**************************************************\n",
      "\n",
      "Best Validation Loss at Epoch 10\n",
      "\n",
      "**************************************************\n",
      "\n",
      "Best Validation Accs at Epoch 9\n",
      "\n",
      "**************************************************\n",
      "\n",
      "Time Taken [10 Epochs] : 4.80 minutes\n",
      "\n",
      "**************************************************\n",
      "\n"
     ]
    },
    {
     "data": {
      "image/png": "[encoded data removed]",
      "text/plain": [
       "<Figure size 432x288 with 1 Axes>"
      ]
     },
     "metadata": {
      "needs_background": "light"
     },
     "output_type": "display_data"
    },
    {
     "name": "stdout",
     "output_type": "stream",
     "text": [
      "\n",
      "**************************************************\n",
      "\n"
     ]
    },
    {
     "data": {
      "image/png": "[encoded data removed]",
      "text/plain": [
       "<Figure size 432x288 with 1 Axes>"
      ]
     },
     "metadata": {
      "needs_background": "light"
     },
     "output_type": "display_data"
    },
    {
     "name": "stdout",
     "output_type": "stream",
     "text": [
      "\n",
      "**************************************************\n",
      "\n"
     ]
    },
    {
     "data": {
      "image/png": "[encoded data removed]",
      "text/plain": [
       "<Figure size 576x432 with 1 Axes>"
      ]
     },
     "metadata": {
      "needs_background": "light"
     },
     "output_type": "display_data"
    },
    {
     "name": "stdout",
     "output_type": "stream",
     "text": [
      "\n",
      "**************************************************\n",
      "\n",
      "\n",
      "**************************************************\n",
      "\n",
      "Training Fold 4...\n",
      "\n",
      "**************************************************\n",
      "\n",
      "Epoch: 1 | Train Loss: 1.40826 | Valid Loss: 0.38438 | Train Accs: 0.50985 | Valid Accs: 0.86896 | Time: 28.45 seconds\n",
      "Epoch: 2 | Train Loss: 0.61523 | Valid Loss: 0.56067 | Train Accs: 0.79295 | Valid Accs: 0.83037 | Time: 28.57 seconds\n",
      "Epoch: 3 | Train Loss: 0.42982 | Valid Loss: 0.14897 | Train Accs: 0.85830 | Valid Accs: 0.95277 | Time: 28.94 seconds\n",
      "Epoch: 4 | Train Loss: 0.35368 | Valid Loss: 0.11780 | Train Accs: 0.88342 | Valid Accs: 0.96579 | Time: 28.77 seconds\n",
      "Epoch: 5 | Train Loss: 0.30325 | Valid Loss: 0.09416 | Train Accs: 0.90048 | Valid Accs: 0.97266 | Time: 29.25 seconds\n",
      "Epoch: 6 | Train Loss: 0.25293 | Valid Loss: 0.14781 | Train Accs: 0.91833 | Valid Accs: 0.95715 | Time: 28.13 seconds\n",
      "Epoch: 7 | Train Loss: 0.21658 | Valid Loss: 0.11669 | Train Accs: 0.92902 | Valid Accs: 0.96626 | Time: 28.78 seconds\n",
      "Epoch: 8 | Train Loss: 0.18365 | Valid Loss: 0.07607 | Train Accs: 0.93949 | Valid Accs: 0.97881 | Time: 29.31 seconds\n",
      "Epoch: 9 | Train Loss: 0.16670 | Valid Loss: 0.07150 | Train Accs: 0.94577 | Valid Accs: 0.97929 | Time: 29.44 seconds\n",
      "Epoch: 10 | Train Loss: 0.15310 | Valid Loss: 0.07616 | Train Accs: 0.95063 | Valid Accs: 0.97727 | Time: 30.44 seconds\n",
      "\n",
      "**************************************************\n",
      "\n",
      "Best Validation Loss at Epoch 9\n",
      "\n",
      "**************************************************\n",
      "\n",
      "Best Validation Accs at Epoch 9\n",
      "\n",
      "**************************************************\n",
      "\n",
      "Time Taken [10 Epochs] : 4.83 minutes\n",
      "\n",
      "**************************************************\n",
      "\n"
     ]
    },
    {
     "data": {
      "image/png": "[encoded data removed]",
      "text/plain": [
       "<Figure size 432x288 with 1 Axes>"
      ]
     },
     "metadata": {
      "needs_background": "light"
     },
     "output_type": "display_data"
    },
    {
     "name": "stdout",
     "output_type": "stream",
     "text": [
      "\n",
      "**************************************************\n",
      "\n"
     ]
    },
    {
     "data": {
      "image/png": "[encoded data removed]",
      "text/plain": [
       "<Figure size 432x288 with 1 Axes>"
      ]
     },
     "metadata": {
      "needs_background": "light"
     },
     "output_type": "display_data"
    },
    {
     "name": "stdout",
     "output_type": "stream",
     "text": [
      "\n",
      "**************************************************\n",
      "\n"
     ]
    },
    {
     "data": {
      "image/png": "[encoded data removed]",
      "text/plain": [
       "<Figure size 576x432 with 1 Axes>"
      ]
     },
     "metadata": {
      "needs_background": "light"
     },
     "output_type": "display_data"
    },
    {
     "name": "stdout",
     "output_type": "stream",
     "text": [
      "\n",
      "**************************************************\n",
      "\n",
      "\n",
      "**************************************************\n",
      "\n",
      "Training Fold 5...\n",
      "\n",
      "**************************************************\n",
      "\n",
      "Epoch: 1 | Train Loss: 1.41610 | Valid Loss: 0.46743 | Train Accs: 0.50595 | Valid Accs: 0.83203 | Time: 30.70 seconds\n",
      "Epoch: 2 | Train Loss: 0.63776 | Valid Loss: 0.47698 | Train Accs: 0.78693 | Valid Accs: 0.81913 | Time: 29.86 seconds\n",
      "Epoch: 3 | Train Loss: 0.42782 | Valid Loss: 0.15974 | Train Accs: 0.85893 | Valid Accs: 0.95052 | Time: 30.79 seconds\n",
      "Epoch: 4 | Train Loss: 0.35595 | Valid Loss: 0.14684 | Train Accs: 0.88408 | Valid Accs: 0.95312 | Time: 28.98 seconds\n",
      "Epoch: 5 | Train Loss: 0.30091 | Valid Loss: 0.09892 | Train Accs: 0.90098 | Valid Accs: 0.96899 | Time: 28.58 seconds\n",
      "Epoch: 6 | Train Loss: 0.25310 | Valid Loss: 0.10000 | Train Accs: 0.91705 | Valid Accs: 0.96768 | Time: 28.68 seconds\n",
      "Epoch: 7 | Train Loss: 0.21779 | Valid Loss: 0.09118 | Train Accs: 0.92836 | Valid Accs: 0.97171 | Time: 29.27 seconds\n",
      "Epoch: 8 | Train Loss: 0.18719 | Valid Loss: 0.10134 | Train Accs: 0.93985 | Valid Accs: 0.96626 | Time: 28.50 seconds\n",
      "Epoch: 9 | Train Loss: 0.16023 | Valid Loss: 0.07024 | Train Accs: 0.94521 | Valid Accs: 0.97786 | Time: 28.88 seconds\n",
      "Epoch: 10 | Train Loss: 0.15291 | Valid Loss: 0.06676 | Train Accs: 0.95107 | Valid Accs: 0.97857 | Time: 29.03 seconds\n",
      "\n",
      "**************************************************\n",
      "\n",
      "Best Validation Loss at Epoch 10\n",
      "\n",
      "**************************************************\n",
      "\n",
      "Best Validation Accs at Epoch 10\n",
      "\n",
      "**************************************************\n",
      "\n",
      "Time Taken [10 Epochs] : 4.89 minutes\n",
      "\n",
      "**************************************************\n",
      "\n"
     ]
    },
    {
     "data": {
      "image/png": "[encoded data removed]",
      "text/plain": [
       "<Figure size 432x288 with 1 Axes>"
      ]
     },
     "metadata": {
      "needs_background": "light"
     },
     "output_type": "display_data"
    },
    {
     "name": "stdout",
     "output_type": "stream",
     "text": [
      "\n",
      "**************************************************\n",
      "\n"
     ]
    },
    {
     "data": {
      "image/png": "[encoded data removed]",
      "text/plain": [
       "<Figure size 432x288 with 1 Axes>"
      ]
     },
     "metadata": {
      "needs_background": "light"
     },
     "output_type": "display_data"
    },
    {
     "name": "stdout",
     "output_type": "stream",
     "text": [
      "\n",
      "**************************************************\n",
      "\n"
     ]
    },
    {
     "data": {
      "image/png": "[encoded data removed]",
      "text/plain": [
       "<Figure size 576x432 with 1 Axes>"
      ]
     },
     "metadata": {
      "needs_background": "light"
     },
     "output_type": "display_data"
    },
    {
     "name": "stdout",
     "output_type": "stream",
     "text": [
      "\n",
      "**************************************************\n",
      "\n"
     ]
    }
   ],
   "source": [
    "fold: int = 1\n",
    "BLs: list = []\n",
    "BAs: list = []\n",
    "    \n",
    "cfg.batch_size = 64\n",
    "cfg.epochs = 10\n",
    "    \n",
    "for tr_idx, va_idx in StratifiedKFold(n_splits=cfg.n_splits, random_state=cfg.seed, shuffle=True).split(images, labels):\n",
    "\n",
    "    tr_images, va_images = images[tr_idx], images[va_idx] \n",
    "    tr_labels, va_labels = labels[tr_idx], labels[va_idx]\n",
    "    \n",
    "    tr_data_setup = DS(\n",
    "        images=tr_images, \n",
    "        labels=tr_labels.reshape(-1, 1),\n",
    "        transform=cfg.train_transform\n",
    "    )\n",
    "\n",
    "    va_data_setup = DS(\n",
    "        images=va_images, \n",
    "        labels=va_labels.reshape(-1, 1),\n",
    "        transform=cfg.valid_transform\n",
    "    )\n",
    "\n",
    "    dataloaders = {\n",
    "        \"train\" : DL(tr_data_setup, batch_size=cfg.batch_size, shuffle=True, generator=torch.manual_seed(cfg.seed)),\n",
    "        \"valid\" : DL(va_data_setup, batch_size=cfg.batch_size, shuffle=False),\n",
    "    }\n",
    "\n",
    "    cfg.steps_per_epoch=len(dataloaders[\"train\"])\n",
    "    \n",
    "    torch.manual_seed(cfg.seed)\n",
    "    model = Model(filter_sizes=cfg.filter_sizes, HL=cfg.HL).to(cfg.device)\n",
    "\n",
    "    optimizer = optim.Adam([p for p in model.parameters() if p.requires_grad], lr=cfg.lr, weight_decay=cfg.wd)\n",
    "    # optimizer = optim.AdamW([p for p in model.parameters() if p.requires_grad], lr=cfg.lr, weight_decay=cfg.wd)\n",
    "    # optimizer = optim.SGD([p for p in model.parameters() if p.requires_grad], lr=cfg.lr, weight_decay=cfg.wd, momentum=0.9)\n",
    "\n",
    "    scheduler_oclr = optim.lr_scheduler.OneCycleLR(\n",
    "        optimizer=optimizer, \n",
    "        max_lr=cfg.max_lr, \n",
    "        epochs=cfg.epochs, \n",
    "        steps_per_epoch=cfg.steps_per_epoch,\n",
    "        pct_start=cfg.pct_start, \n",
    "        div_factor=cfg.div_factor, \n",
    "        final_div_factor=cfg.final_div_factor\n",
    "    )\n",
    "    \n",
    "    # scheduler_rlrop = optim.lr_scheduler.ReduceLROnPlateau(\n",
    "    #     optimizer=optimizer,\n",
    "    #     patience=cfg.patience,\n",
    "    #     eps=cfg.eps,\n",
    "    #     verbose=True\n",
    "    # )\n",
    "\n",
    "    # scheduler_oclr = None\n",
    "    scheduler_rlrop = None\n",
    "    \n",
    "    L, A, LR, BL, BA, _, _, _, _ = fit(\n",
    "        model=model, \n",
    "        optimizer=optimizer, \n",
    "        scheduler_oclr=scheduler_oclr,\n",
    "        scheduler_rlrop=scheduler_rlrop,\n",
    "        epochs=cfg.epochs, \n",
    "        early_stopping_patience=cfg.early_stopping, \n",
    "        dataloaders=dataloaders, \n",
    "        device=cfg.device,\n",
    "        save_path=cfg.save_path,\n",
    "        fold=fold,\n",
    "        verbose=True\n",
    "    )\n",
    "\n",
    "\n",
    "    breaker()\n",
    "    show_loss_graphs(L)\n",
    "    breaker()\n",
    "    show_accuracy_graphs(A)\n",
    "    breaker()\n",
    "    if scheduler_oclr:\n",
    "        show_lr_graph(LR)\n",
    "        breaker()\n",
    "    \n",
    "    BLs.append(BL)\n",
    "    BAs.append(BA)\n",
    "\n",
    "    fold += 1"
   ]
  },
  {
   "cell_type": "code",
   "execution_count": 9,
   "id": "7325d02e",
   "metadata": {
    "execution": {
     "iopub.execute_input": "2023-02-02T23:43:25.832262Z",
     "iopub.status.busy": "2023-02-02T23:43:25.830826Z",
     "iopub.status.idle": "2023-02-02T23:43:25.839495Z",
     "shell.execute_reply": "2023-02-02T23:43:25.838669Z"
    },
    "papermill": {
     "duration": 0.021477,
     "end_time": "2023-02-02T23:43:25.841400",
     "exception": false,
     "start_time": "2023-02-02T23:43:25.819923",
     "status": "completed"
    },
    "tags": []
   },
   "outputs": [
    {
     "name": "stdout",
     "output_type": "stream",
     "text": [
      "\n",
      "**************************************************\n",
      "\n",
      "Best Loss Model Fold     : 5\n",
      "Best Accuracy Model Fold : 4\n",
      "\n",
      "**************************************************\n",
      "\n"
     ]
    }
   ],
   "source": [
    "BL = np.inf\n",
    "for i in range(len(BLs)):\n",
    "    if BLs[i][\"valid\"] < BL:\n",
    "        BL = BLs[i][\"valid\"]\n",
    "        best_loss_index = i\n",
    "\n",
    "        \n",
    "BA = 0.0\n",
    "for i in range(len(BAs)):\n",
    "    if BAs[i][\"valid\"] > BA:\n",
    "        BA = BAs[i][\"valid\"]\n",
    "        best_accs_index = i\n",
    "\n",
    "breaker()\n",
    "print(f\"Best Loss Model Fold     : {best_loss_index + 1}\")\n",
    "print(f\"Best Accuracy Model Fold : {best_accs_index + 1}\")\n",
    "breaker()"
   ]
  }
 ],
 "metadata": {
  "kernelspec": {
   "display_name": "Python 3",
   "language": "python",
   "name": "python3"
  },
  "language_info": {
   "codemirror_mode": {
    "name": "ipython",
    "version": 3
   },
   "file_extension": ".py",
   "mimetype": "text/x-python",
   "name": "python",
   "nbconvert_exporter": "python",
   "pygments_lexer": "ipython3",
   "version": "3.7.12"
  },
  "papermill": {
   "default_parameters": {},
   "duration": 1480.940077,
   "end_time": "2023-02-02T23:43:28.216416",
   "environment_variables": {},
   "exception": null,
   "input_path": "__notebook__.ipynb",
   "output_path": "__notebook__.ipynb",
   "parameters": {},
   "start_time": "2023-02-02T23:18:47.276339",
   "version": "2.3.4"
  }
 },
 "nbformat": 4,
 "nbformat_minor": 5
}
