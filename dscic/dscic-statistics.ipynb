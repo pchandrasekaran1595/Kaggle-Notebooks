{
 "cells": [
  {
   "cell_type": "code",
   "execution_count": 1,
   "id": "f5c8262d",
   "metadata": {
    "_cell_guid": "b1076dfc-b9ad-4769-8c92-a6c4dae69d19",
    "_uuid": "8f2839f25d086af736a60e9eeb907d3b93b6e0e5",
    "execution": {
     "iopub.execute_input": "2022-10-23T17:11:10.598926Z",
     "iopub.status.busy": "2022-10-23T17:11:10.597895Z",
     "iopub.status.idle": "2022-10-23T17:11:10.608820Z",
     "shell.execute_reply": "2022-10-23T17:11:10.607791Z"
    },
    "papermill": {
     "duration": 0.021877,
     "end_time": "2022-10-23T17:11:10.611871",
     "exception": false,
     "start_time": "2022-10-23T17:11:10.589994",
     "status": "completed"
    },
    "tags": []
   },
   "outputs": [],
   "source": [
    "import os\n",
    "import random as r\n",
    "import numpy as np\n",
    "import matplotlib.pyplot as plt"
   ]
  },
  {
   "cell_type": "code",
   "execution_count": 2,
   "id": "8ab4769e",
   "metadata": {
    "execution": {
     "iopub.execute_input": "2022-10-23T17:11:10.622363Z",
     "iopub.status.busy": "2022-10-23T17:11:10.621457Z",
     "iopub.status.idle": "2022-10-23T17:11:10.627986Z",
     "shell.execute_reply": "2022-10-23T17:11:10.626752Z"
    },
    "papermill": {
     "duration": 0.0153,
     "end_time": "2022-10-23T17:11:10.631017",
     "exception": false,
     "start_time": "2022-10-23T17:11:10.615717",
     "status": "completed"
    },
    "tags": []
   },
   "outputs": [],
   "source": [
    "def show_image(image: np.ndarray, cmap: str=\"gnuplot2\", title: str=None) -> None:\n",
    "    plt.figure()\n",
    "    plt.imshow(image, cmap=cmap)\n",
    "    plt.axis(\"off\")\n",
    "    plt.show()"
   ]
  },
  {
   "cell_type": "code",
   "execution_count": 3,
   "id": "b581f57b",
   "metadata": {
    "execution": {
     "iopub.execute_input": "2022-10-23T17:11:10.640393Z",
     "iopub.status.busy": "2022-10-23T17:11:10.639833Z",
     "iopub.status.idle": "2022-10-23T17:11:13.033001Z",
     "shell.execute_reply": "2022-10-23T17:11:13.031874Z"
    },
    "papermill": {
     "duration": 2.401461,
     "end_time": "2022-10-23T17:11:13.036096",
     "exception": false,
     "start_time": "2022-10-23T17:11:10.634635",
     "status": "completed"
    },
    "tags": []
   },
   "outputs": [],
   "source": [
    "train_images_A = np.load(\"../input/icc-ml-2022a/file/taskA/supplement/train_data_A.npy\")\n",
    "train_images_B = np.load(\"../input/icc-ml-2022a/file/taskB/data/train_data_B.npy\")\n",
    "\n",
    "train_labels_A = np.load(\"../input/icc-ml-2022a/file/taskA/supplement/train_label_A.npy\")\n",
    "train_labels_B = np.load(\"../input/icc-ml-2022a/file/taskB/data/train_label_B.npy\")"
   ]
  },
  {
   "cell_type": "code",
   "execution_count": 4,
   "id": "525f534c",
   "metadata": {
    "execution": {
     "iopub.execute_input": "2022-10-23T17:11:13.046202Z",
     "iopub.status.busy": "2022-10-23T17:11:13.045677Z",
     "iopub.status.idle": "2022-10-23T17:11:13.071081Z",
     "shell.execute_reply": "2022-10-23T17:11:13.069769Z"
    },
    "papermill": {
     "duration": 0.034388,
     "end_time": "2022-10-23T17:11:13.074496",
     "exception": false,
     "start_time": "2022-10-23T17:11:13.040108",
     "status": "completed"
    },
    "tags": []
   },
   "outputs": [
    {
     "name": "stdout",
     "output_type": "stream",
     "text": [
      "\n",
      "**************************************************\n",
      "\n",
      "Labels A\n",
      "\n",
      "0 Count = 4738\n",
      "1 Count = 4731\n",
      "2 Count = 4770\n",
      "3 Count = 4782\n",
      "4 Count = 5979\n",
      "\n",
      "**************************************************\n",
      "\n",
      "Labels B\n",
      "\n",
      "0 Count = 6108\n",
      "1 Count = 6101\n",
      "2 Count = 6150\n",
      "3 Count = 6120\n",
      "4 Count = 521\n",
      "\n",
      "**************************************************\n",
      "\n"
     ]
    }
   ],
   "source": [
    "labels_A = list(set(train_labels_A))\n",
    "labels_B = list(set(train_labels_B))\n",
    "\n",
    "print(\"\\n\" + 50*\"*\" + \"\\n\")\n",
    "print(\"Labels A\\n\")\n",
    "for label_A in labels_A:\n",
    "    print(f\"{label_A} Count = {train_labels_A[train_labels_A == label_A].shape[0]}\")\n",
    "\n",
    "print(\"\\n\" + 50*\"*\" + \"\\n\")\n",
    "print(\"Labels B\\n\")\n",
    "for label_B in labels_B:\n",
    "    print(f\"{label_B} Count = {train_labels_B[train_labels_B == label_B].shape[0]}\")\n",
    "\n",
    "print(\"\\n\" + 50*\"*\" + \"\\n\")"
   ]
  },
  {
   "cell_type": "markdown",
   "id": "f7db0b9f",
   "metadata": {
    "papermill": {
     "duration": 0.003476,
     "end_time": "2022-10-23T17:11:13.081933",
     "exception": false,
     "start_time": "2022-10-23T17:11:13.078457",
     "status": "completed"
    },
    "tags": []
   },
   "source": [
    "### **Set A Viz**"
   ]
  },
  {
   "cell_type": "code",
   "execution_count": 5,
   "id": "a6fbf78a",
   "metadata": {
    "execution": {
     "iopub.execute_input": "2022-10-23T17:11:13.092819Z",
     "iopub.status.busy": "2022-10-23T17:11:13.091291Z",
     "iopub.status.idle": "2022-10-23T17:11:13.669200Z",
     "shell.execute_reply": "2022-10-23T17:11:13.667431Z"
    },
    "papermill": {
     "duration": 0.58812,
     "end_time": "2022-10-23T17:11:13.673960",
     "exception": false,
     "start_time": "2022-10-23T17:11:13.085840",
     "status": "completed"
    },
    "tags": []
   },
   "outputs": [
    {
     "data": {
      "image/png": "[encoded data removed]",
      "text/plain": [
       "<Figure size 432x288 with 1 Axes>"
      ]
     },
     "metadata": {
      "needs_background": "light"
     },
     "output_type": "display_data"
    },
    {
     "data": {
      "image/png": "[encoded data removed]",
      "text/plain": [
       "<Figure size 432x288 with 1 Axes>"
      ]
     },
     "metadata": {
      "needs_background": "light"
     },
     "output_type": "display_data"
    },
    {
     "data": {
      "image/png": "[encoded data removed]",
      "text/plain": [
       "<Figure size 432x288 with 1 Axes>"
      ]
     },
     "metadata": {
      "needs_background": "light"
     },
     "output_type": "display_data"
    },
    {
     "data": {
      "image/png": "[encoded data removed]",
      "text/plain": [
       "<Figure size 432x288 with 1 Axes>"
      ]
     },
     "metadata": {
      "needs_background": "light"
     },
     "output_type": "display_data"
    },
    {
     "data": {
      "image/png": "[encoded data removed]",
      "text/plain": [
       "<Figure size 432x288 with 1 Axes>"
      ]
     },
     "metadata": {
      "needs_background": "light"
     },
     "output_type": "display_data"
    }
   ],
   "source": [
    "indexes = [r.randint(0, train_images_A.shape[0]) for _ in range(5)]\n",
    "\n",
    "for index in indexes: show_image(train_images_A[index])"
   ]
  },
  {
   "cell_type": "markdown",
   "id": "8cdf9d8d",
   "metadata": {
    "papermill": {
     "duration": 0.011023,
     "end_time": "2022-10-23T17:11:13.696881",
     "exception": false,
     "start_time": "2022-10-23T17:11:13.685858",
     "status": "completed"
    },
    "tags": []
   },
   "source": [
    "### **Set B Viz**"
   ]
  },
  {
   "cell_type": "code",
   "execution_count": 6,
   "id": "65b6ae2d",
   "metadata": {
    "execution": {
     "iopub.execute_input": "2022-10-23T17:11:13.719544Z",
     "iopub.status.busy": "2022-10-23T17:11:13.718523Z",
     "iopub.status.idle": "2022-10-23T17:11:14.432869Z",
     "shell.execute_reply": "2022-10-23T17:11:14.430630Z"
    },
    "papermill": {
     "duration": 0.729159,
     "end_time": "2022-10-23T17:11:14.437688",
     "exception": false,
     "start_time": "2022-10-23T17:11:13.708529",
     "status": "completed"
    },
    "tags": []
   },
   "outputs": [
    {
     "data": {
      "image/png": "[encoded data removed]",
      "text/plain": [
       "<Figure size 432x288 with 1 Axes>"
      ]
     },
     "metadata": {
      "needs_background": "light"
     },
     "output_type": "display_data"
    },
    {
     "data": {
      "image/png": "[encoded data removed]",
      "text/plain": [
       "<Figure size 432x288 with 1 Axes>"
      ]
     },
     "metadata": {
      "needs_background": "light"
     },
     "output_type": "display_data"
    },
    {
     "data": {
      "image/png": "[encoded data removed]",
      "text/plain": [
       "<Figure size 432x288 with 1 Axes>"
      ]
     },
     "metadata": {
      "needs_background": "light"
     },
     "output_type": "display_data"
    },
    {
     "data": {
      "image/png": "[encoded data removed]",
      "text/plain": [
       "<Figure size 432x288 with 1 Axes>"
      ]
     },
     "metadata": {
      "needs_background": "light"
     },
     "output_type": "display_data"
    },
    {
     "data": {
      "image/png": "[encoded data removed]",
      "text/plain": [
       "<Figure size 432x288 with 1 Axes>"
      ]
     },
     "metadata": {
      "needs_background": "light"
     },
     "output_type": "display_data"
    }
   ],
   "source": [
    "indexes = [r.randint(0, train_images_B.shape[0]) for _ in range(5)]\n",
    "\n",
    "for index in indexes: show_image(train_images_B[index])"
   ]
  },
  {
   "cell_type": "markdown",
   "id": "8a6eca00",
   "metadata": {
    "papermill": {
     "duration": 0.013239,
     "end_time": "2022-10-23T17:11:14.465133",
     "exception": false,
     "start_time": "2022-10-23T17:11:14.451894",
     "status": "completed"
    },
    "tags": []
   },
   "source": [
    "### **Set A Stats**"
   ]
  },
  {
   "cell_type": "code",
   "execution_count": 7,
   "id": "409c3793",
   "metadata": {
    "execution": {
     "iopub.execute_input": "2022-10-23T17:11:14.485999Z",
     "iopub.status.busy": "2022-10-23T17:11:14.485159Z",
     "iopub.status.idle": "2022-10-23T17:11:15.221633Z",
     "shell.execute_reply": "2022-10-23T17:11:15.220317Z"
    },
    "papermill": {
     "duration": 0.747141,
     "end_time": "2022-10-23T17:11:15.224268",
     "exception": false,
     "start_time": "2022-10-23T17:11:14.477127",
     "status": "completed"
    },
    "tags": []
   },
   "outputs": [
    {
     "name": "stdout",
     "output_type": "stream",
     "text": [
      "\n",
      "**************************************************\n",
      "\n",
      "Red Channel Mean   : 0.49085\n",
      "Green Channel Mean : 0.48537\n",
      "Blue Channel Mean  : 0.45057\n",
      "\n",
      "**************************************************\n",
      "\n",
      "Red Channel Std    : 0.24560\n",
      "Green Channel Std  : 0.24165\n",
      "Blue Channel Std   : 0.26213\n",
      "\n",
      "**************************************************\n",
      "\n"
     ]
    }
   ],
   "source": [
    "print(\"\\n\" + 50*\"*\" + \"\\n\")\n",
    "print(f\"Red Channel Mean   : {train_images_A[:, :, :, 0].mean() / 255:.5f}\")\n",
    "print(f\"Green Channel Mean : {train_images_A[:, :, :, 1].mean() / 255:.5f}\")\n",
    "print(f\"Blue Channel Mean  : {train_images_A[:, :, :, 2].mean() / 255:.5f}\")\n",
    "print(\"\\n\" + 50*\"*\" + \"\\n\")\n",
    "print(f\"Red Channel Std    : {train_images_A[:, :, :, 0].std() / 255:.5f}\")\n",
    "print(f\"Green Channel Std  : {train_images_A[:, :, :, 1].std() / 255:.5f}\")\n",
    "print(f\"Blue Channel Std   : {train_images_A[:, :, :, 2].std() / 255:.5f}\")\n",
    "print(\"\\n\" + 50*\"*\" + \"\\n\")"
   ]
  },
  {
   "cell_type": "markdown",
   "id": "e5b6509b",
   "metadata": {
    "papermill": {
     "duration": 0.005692,
     "end_time": "2022-10-23T17:11:15.236108",
     "exception": false,
     "start_time": "2022-10-23T17:11:15.230416",
     "status": "completed"
    },
    "tags": []
   },
   "source": [
    "### **Set B Stats**"
   ]
  },
  {
   "cell_type": "code",
   "execution_count": 8,
   "id": "585f89ec",
   "metadata": {
    "execution": {
     "iopub.execute_input": "2022-10-23T17:11:15.251458Z",
     "iopub.status.busy": "2022-10-23T17:11:15.250586Z",
     "iopub.status.idle": "2022-10-23T17:11:15.954207Z",
     "shell.execute_reply": "2022-10-23T17:11:15.952384Z"
    },
    "papermill": {
     "duration": 0.715103,
     "end_time": "2022-10-23T17:11:15.957439",
     "exception": false,
     "start_time": "2022-10-23T17:11:15.242336",
     "status": "completed"
    },
    "tags": []
   },
   "outputs": [
    {
     "name": "stdout",
     "output_type": "stream",
     "text": [
      "\n",
      "**************************************************\n",
      "\n",
      "Red Channel Mean   : 0.49217\n",
      "Green Channel Mean : 0.47873\n",
      "Blue Channel Mean  : 0.44228\n",
      "\n",
      "**************************************************\n",
      "\n",
      "Red Channel Std    : 0.24861\n",
      "Green Channel Std  : 0.24540\n",
      "Blue Channel Std   : 0.26107\n",
      "\n",
      "**************************************************\n",
      "\n"
     ]
    }
   ],
   "source": [
    "print(\"\\n\" + 50*\"*\" + \"\\n\")\n",
    "print(f\"Red Channel Mean   : {train_images_B[:, :, :, 0].mean() / 255:.5f}\")\n",
    "print(f\"Green Channel Mean : {train_images_B[:, :, :, 1].mean() / 255:.5f}\")\n",
    "print(f\"Blue Channel Mean  : {train_images_B[:, :, :, 2].mean() / 255:.5f}\")\n",
    "print(\"\\n\" + 50*\"*\" + \"\\n\")\n",
    "print(f\"Red Channel Std    : {train_images_B[:, :, :, 0].std() / 255:.5f}\")\n",
    "print(f\"Green Channel Std  : {train_images_B[:, :, :, 1].std() / 255:.5f}\")\n",
    "print(f\"Blue Channel Std   : {train_images_B[:, :, :, 2].std() / 255:.5f}\")\n",
    "print(\"\\n\" + 50*\"*\" + \"\\n\")"
   ]
  }
 ],
 "metadata": {
  "kernelspec": {
   "display_name": "Python 3",
   "language": "python",
   "name": "python3"
  },
  "language_info": {
   "codemirror_mode": {
    "name": "ipython",
    "version": 3
   },
   "file_extension": ".py",
   "mimetype": "text/x-python",
   "name": "python",
   "nbconvert_exporter": "python",
   "pygments_lexer": "ipython3",
   "version": "3.7.12"
  },
  "papermill": {
   "default_parameters": {},
   "duration": 16.495446,
   "end_time": "2022-10-23T17:11:16.890373",
   "environment_variables": {},
   "exception": null,
   "input_path": "__notebook__.ipynb",
   "output_path": "__notebook__.ipynb",
   "parameters": {},
   "start_time": "2022-10-23T17:11:00.394927",
   "version": "2.3.4"
  }
 },
 "nbformat": 4,
 "nbformat_minor": 5
}
