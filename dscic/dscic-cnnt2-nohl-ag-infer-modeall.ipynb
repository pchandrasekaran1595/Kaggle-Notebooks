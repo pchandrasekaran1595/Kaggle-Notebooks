{
 "cells": [
  {
   "cell_type": "markdown",
   "id": "8ca2aa6d",
   "metadata": {
    "papermill": {
     "duration": 0.004406,
     "end_time": "2022-10-24T05:30:36.622034",
     "exception": false,
     "start_time": "2022-10-24T05:30:36.617628",
     "status": "completed"
    },
    "tags": []
   },
   "source": [
    "### **Library Imports**"
   ]
  },
  {
   "cell_type": "code",
   "execution_count": 1,
   "id": "1d6b91c0",
   "metadata": {
    "execution": {
     "iopub.execute_input": "2022-10-24T05:30:36.631662Z",
     "iopub.status.busy": "2022-10-24T05:30:36.630902Z",
     "iopub.status.idle": "2022-10-24T05:30:39.705377Z",
     "shell.execute_reply": "2022-10-24T05:30:39.704409Z"
    },
    "papermill": {
     "duration": 3.081811,
     "end_time": "2022-10-24T05:30:39.707791",
     "exception": false,
     "start_time": "2022-10-24T05:30:36.625980",
     "status": "completed"
    },
    "tags": []
   },
   "outputs": [],
   "source": [
    "import os\n",
    "import re\n",
    "import cv2\n",
    "import torch\n",
    "import numpy as np\n",
    "import pandas as pd\n",
    "import matplotlib.pyplot as plt\n",
    "\n",
    "from time import time\n",
    "from scipy import stats\n",
    "from typing import Union\n",
    "from torch import nn, optim\n",
    "from torch.utils.data import Dataset\n",
    "from torch.utils.data import DataLoader as DL\n",
    "from torchvision import models, transforms\n",
    "\n",
    "from sklearn.metrics import accuracy_score\n",
    "from sklearn.model_selection import StratifiedKFold"
   ]
  },
  {
   "cell_type": "markdown",
   "id": "1c1869eb",
   "metadata": {
    "papermill": {
     "duration": 0.005387,
     "end_time": "2022-10-24T05:30:39.718609",
     "exception": false,
     "start_time": "2022-10-24T05:30:39.713222",
     "status": "completed"
    },
    "tags": []
   },
   "source": [
    "### **Utilities and Helpers**"
   ]
  },
  {
   "cell_type": "code",
   "execution_count": 2,
   "id": "6f87ebbe",
   "metadata": {
    "execution": {
     "iopub.execute_input": "2022-10-24T05:30:39.730938Z",
     "iopub.status.busy": "2022-10-24T05:30:39.730118Z",
     "iopub.status.idle": "2022-10-24T05:30:39.746240Z",
     "shell.execute_reply": "2022-10-24T05:30:39.745479Z"
    },
    "papermill": {
     "duration": 0.02466,
     "end_time": "2022-10-24T05:30:39.748485",
     "exception": false,
     "start_time": "2022-10-24T05:30:39.723825",
     "status": "completed"
    },
    "tags": []
   },
   "outputs": [],
   "source": [
    "SEED: int = 42\n",
    "\n",
    "def breaker(num: int=50, char: str=\"*\") -> None:\n",
    "    print(\"\\n\" + num*char + \"\\n\")\n",
    "\n",
    "    \n",
    "def get_image(path: str, size: int=224) -> np.ndarray:\n",
    "    image = cv2.imread(path, cv2.IMREAD_COLOR)\n",
    "    image = cv2.cvtColor(src=image, code=cv2.COLOR_BGR2RGB)\n",
    "    return cv2.resize(src=image, dsize=(size, size), interpolation=cv2.INTER_AREA)\n",
    "\n",
    "\n",
    "def show_loss_graphs(L: list) -> None:\n",
    "    TL, VL = [], []\n",
    "    for i in range(len(L)):\n",
    "        TL.append(L[i][\"train\"])\n",
    "        VL.append(L[i][\"valid\"])\n",
    "    x_Axis = np.arange(1, len(TL) + 1)\n",
    "    plt.figure()\n",
    "    plt.plot(x_Axis, TL, \"r\", label=\"Train\")\n",
    "    plt.plot(x_Axis, VL, \"b\", label=\"Valid\")\n",
    "    plt.legend()\n",
    "    plt.grid()\n",
    "    plt.title(\"Loss Graph\")\n",
    "    plt.show()\n",
    "\n",
    "    \n",
    "def show_accuracy_graphs(A: list) -> None:\n",
    "    TA, VA = [], []\n",
    "    for i in range(len(A)):\n",
    "        TA.append(A[i][\"train\"])\n",
    "        VA.append(A[i][\"valid\"])\n",
    "    x_Axis = np.arange(1, len(TA) + 1)\n",
    "    plt.figure()\n",
    "    plt.plot(x_Axis, TA, \"r\", label=\"Train\")\n",
    "    plt.plot(x_Axis, VA, \"b\", label=\"Valid\")\n",
    "    plt.legend()\n",
    "    plt.grid()\n",
    "    plt.title(\"Accuracy Graph\")\n",
    "    plt.show()\n",
    "    \n",
    "\n",
    "def show_lr_graph(LR: list) -> None:\n",
    "    x_Axis = [i+1 for i in range(len(LR))]\n",
    "    plt.figure(figsize=(8, 6))\n",
    "    plt.plot(x_Axis, LR, \"rx\")\n",
    "    plt.grid()\n",
    "    plt.show()"
   ]
  },
  {
   "cell_type": "markdown",
   "id": "c15b8efd",
   "metadata": {
    "papermill": {
     "duration": 0.005323,
     "end_time": "2022-10-24T05:30:39.759532",
     "exception": false,
     "start_time": "2022-10-24T05:30:39.754209",
     "status": "completed"
    },
    "tags": []
   },
   "source": [
    "### **Configuration**"
   ]
  },
  {
   "cell_type": "code",
   "execution_count": 3,
   "id": "6d1db6e6",
   "metadata": {
    "execution": {
     "iopub.execute_input": "2022-10-24T05:30:39.771958Z",
     "iopub.status.busy": "2022-10-24T05:30:39.771397Z",
     "iopub.status.idle": "2022-10-24T05:30:39.859085Z",
     "shell.execute_reply": "2022-10-24T05:30:39.858282Z"
    },
    "papermill": {
     "duration": 0.096551,
     "end_time": "2022-10-24T05:30:39.861754",
     "exception": false,
     "start_time": "2022-10-24T05:30:39.765203",
     "status": "completed"
    },
    "tags": []
   },
   "outputs": [],
   "source": [
    "class CFG(object):\n",
    "    def __init__(self, \n",
    "                 seed: int = 42,\n",
    "                 n_splits: int = 5,\n",
    "                 batch_size: int = 16,\n",
    "                 epochs: int = 25,\n",
    "                 early_stopping: int = 5,\n",
    "                 lr: float = 1e-4,\n",
    "                 wd: float = 0.0,\n",
    "                 max_lr: float = 1e-3,\n",
    "                 pct_start: float = 0.2,\n",
    "                 steps_per_epoch: int = 100,\n",
    "                 div_factor: int = 1e3, \n",
    "                 final_div_factor: float = 1e3,\n",
    "                 ):\n",
    "        self.seed = seed\n",
    "        self.n_splits = n_splits\n",
    "        self.batch_size = batch_size\n",
    "        self.epochs = epochs\n",
    "        self.early_stopping = early_stopping\n",
    "        self.lr = lr\n",
    "        self.wd = wd\n",
    "        self.max_lr = max_lr\n",
    "        self.pct_start = pct_start\n",
    "        self.steps_per_epoch = steps_per_epoch\n",
    "        self.div_factor = div_factor\n",
    "        self.final_div_factor = final_div_factor\n",
    "        self.device = torch.device(\"cuda\" if torch.cuda.is_available() else \"cpu\")\n",
    "        \n",
    "        self.train_transform_A = transforms.Compose([\n",
    "            transforms.ToTensor(),\n",
    "            transforms.Normalize([0.49085, 0.48537, 0.45057], [0.24560, 0.24165, 0.26213]),\n",
    "            transforms.RandomAffine(degrees=(-45, 45), translate=(0.15, 0.15), scale=(0.5, 1.5)),\n",
    "            transforms.RandomHorizontalFlip(p=0.25),\n",
    "            transforms.RandomVerticalFlip(p=0.25),\n",
    "        ])\n",
    "        self.valid_transform_A = transforms.Compose([\n",
    "            transforms.ToTensor(),\n",
    "            transforms.Normalize([0.49085, 0.48537, 0.45057], [0.24560, 0.24165, 0.26213]),\n",
    "        ]) \n",
    "        \n",
    "        self.train_transform_B = transforms.Compose([\n",
    "            transforms.ToTensor(),\n",
    "            transforms.Normalize([0.49217, 0.47873, 0.44228], [0.24861, 0.24540, 0.26107]),\n",
    "            transforms.RandomAffine(degrees=(-45, 45), translate=(0.15, 0.15), scale=(0.5, 1.5)),\n",
    "            transforms.RandomHorizontalFlip(p=0.25),\n",
    "            transforms.RandomVerticalFlip(p=0.25),\n",
    "        ])\n",
    "        self.valid_transform_B = transforms.Compose([\n",
    "            transforms.ToTensor(),\n",
    "            transforms.Normalize([0.49217, 0.47873, 0.44228], [0.24861, 0.24540, 0.26107]),\n",
    "        ]) \n",
    "                                \n",
    "        self.save_path = \"saves\"\n",
    "        if not os.path.exists(self.save_path): os.makedirs(self.save_path)\n",
    "    \n",
    "cfg = CFG(\n",
    "    seed=SEED, \n",
    ")"
   ]
  },
  {
   "cell_type": "markdown",
   "id": "4d097788",
   "metadata": {
    "papermill": {
     "duration": 0.005395,
     "end_time": "2022-10-24T05:30:39.872744",
     "exception": false,
     "start_time": "2022-10-24T05:30:39.867349",
     "status": "completed"
    },
    "tags": []
   },
   "source": [
    "### **Dataset Template**"
   ]
  },
  {
   "cell_type": "code",
   "execution_count": 4,
   "id": "5e45aef3",
   "metadata": {
    "execution": {
     "iopub.execute_input": "2022-10-24T05:30:39.884794Z",
     "iopub.status.busy": "2022-10-24T05:30:39.884475Z",
     "iopub.status.idle": "2022-10-24T05:30:39.893322Z",
     "shell.execute_reply": "2022-10-24T05:30:39.892463Z"
    },
    "papermill": {
     "duration": 0.017843,
     "end_time": "2022-10-24T05:30:39.896015",
     "exception": false,
     "start_time": "2022-10-24T05:30:39.878172",
     "status": "completed"
    },
    "tags": []
   },
   "outputs": [],
   "source": [
    "class DS(Dataset):\n",
    "    def __init__(\n",
    "        self, \n",
    "        images: np.ndarray,\n",
    "        labels: Union[np.ndarray, None]=None, \n",
    "        transform=None\n",
    "    ):\n",
    "        \n",
    "        self.images = images\n",
    "        self.labels = labels\n",
    "        self.transform = transform\n",
    "    \n",
    "    def __len__(self):\n",
    "        return self.images.shape[0]\n",
    "    \n",
    "    def __getitem__(self, idx):\n",
    "        if self.labels is None:\n",
    "            return self.transform(self.images[idx])\n",
    "        return self.transform(self.images[idx]), torch.LongTensor(self.labels[idx])"
   ]
  },
  {
   "cell_type": "markdown",
   "id": "98dc5e17",
   "metadata": {
    "papermill": {
     "duration": 0.005094,
     "end_time": "2022-10-24T05:30:39.906117",
     "exception": false,
     "start_time": "2022-10-24T05:30:39.901023",
     "status": "completed"
    },
    "tags": []
   },
   "source": [
    "### **Model**"
   ]
  },
  {
   "cell_type": "code",
   "execution_count": 5,
   "id": "22dd0b60",
   "metadata": {
    "execution": {
     "iopub.execute_input": "2022-10-24T05:30:39.917877Z",
     "iopub.status.busy": "2022-10-24T05:30:39.917502Z",
     "iopub.status.idle": "2022-10-24T05:30:39.946899Z",
     "shell.execute_reply": "2022-10-24T05:30:39.946149Z"
    },
    "papermill": {
     "duration": 0.038102,
     "end_time": "2022-10-24T05:30:39.949277",
     "exception": false,
     "start_time": "2022-10-24T05:30:39.911175",
     "status": "completed"
    },
    "tags": []
   },
   "outputs": [],
   "source": [
    "class Model(nn.Module):\n",
    "    def __init__(self, filter_sizes: list=[64, 128, 256, 512], HLs: list=[], DP: float=None):\n",
    "\n",
    "        super(Model, self).__init__()\n",
    "\n",
    "        self.encoder = nn.Sequential()\n",
    "        self.encoder.add_module(\"CN1\", nn.Conv2d(in_channels=3, out_channels=filter_sizes[0], kernel_size=(3, 3), stride=(1, 1), padding=(1, 1)))\n",
    "        self.encoder.add_module(\"BN1\", nn.BatchNorm2d(num_features=filter_sizes[0], eps=1e-5))\n",
    "        self.encoder.add_module(\"AN1\", nn.ReLU())\n",
    "        self.encoder.add_module(\"MP1\", nn.MaxPool2d(kernel_size=(2, 2)))\n",
    "        self.encoder.add_module(\"CN2\", nn.Conv2d(in_channels=filter_sizes[0], out_channels=filter_sizes[1], kernel_size=(3, 3), stride=(1, 1), padding=(1, 1)))\n",
    "        self.encoder.add_module(\"BN2\", nn.BatchNorm2d(num_features=filter_sizes[1], eps=1e-5))\n",
    "        self.encoder.add_module(\"AN2\", nn.ReLU())\n",
    "        self.encoder.add_module(\"MP2\", nn.MaxPool2d(kernel_size=(2, 2)))\n",
    "        self.encoder.add_module(\"CN3\", nn.Conv2d(in_channels=filter_sizes[1], out_channels=filter_sizes[2], kernel_size=(3, 3), stride=(1, 1), padding=(1, 1)))\n",
    "        self.encoder.add_module(\"BN3\", nn.BatchNorm2d(num_features=filter_sizes[2], eps=1e-5))\n",
    "        self.encoder.add_module(\"AN3\", nn.ReLU())\n",
    "        self.encoder.add_module(\"MP3\", nn.MaxPool2d(kernel_size=(2, 2)))\n",
    "        self.encoder.add_module(\"CN4\", nn.Conv2d(in_channels=filter_sizes[2], out_channels=filter_sizes[3], kernel_size=(3, 3), stride=(1, 1), padding=(1, 1)))\n",
    "        self.encoder.add_module(\"BN4\", nn.BatchNorm2d(num_features=filter_sizes[3], eps=1e-5))\n",
    "        self.encoder.add_module(\"AN4\", nn.ReLU())\n",
    "        self.encoder.add_module(\"MP4\", nn.MaxPool2d(kernel_size=(2, 2)))\n",
    "\n",
    "        self.classifier = nn.Sequential()\n",
    "        if len(HLs) == 0:\n",
    "            self.classifier.add_module(\"FC1\", nn.Linear(in_features=filter_sizes[3]*2*2, out_features=5))\n",
    "        elif len(HLs) == 1:\n",
    "            self.classifier.add_module(\"FC1\", nn.Linear(in_features=filter_sizes[3]*2*2, out_features=HLs[0]))\n",
    "            self.classifier.add_module(\"AN1\", nn.ReLU())\n",
    "            if DP:\n",
    "                self.classifier.add_module(\"DP1\", nn.Dropout(p=DP))\n",
    "            self.classifier.add_module(\"FC2\", nn.Linear(in_features=HLs[0], out_features=5))\n",
    "        elif len(HLs) == 2:\n",
    "            self.classifier.add_module(\"FC1\", nn.Linear(in_features=filter_sizes[3]*2*2, out_features=HLs[0]))\n",
    "            self.classifier.add_module(\"AN1\", nn.ReLU())\n",
    "            if DP:\n",
    "                self.classifier.add_module(\"DP1\", nn.Dropout(p=DP))\n",
    "            self.classifier.add_module(\"FC2\", nn.Linear(in_features=HLs[0], out_features=HLs[1]))\n",
    "            self.classifier.add_module(\"AN2\", nn.ReLU())\n",
    "            if DP:\n",
    "                self.classifier.add_module(\"DP2\", nn.Dropout(p=DP))\n",
    "            self.classifier.add_module(\"FC3\", nn.Linear(in_features=HLs[1], out_features=5))\n",
    "    \n",
    "    def forward(self, x):\n",
    "        x = self.encoder(x)\n",
    "        x = x.view(x.shape[0], -1)\n",
    "        return nn.LogSoftmax(dim=1)(self.classifier(x))"
   ]
  },
  {
   "cell_type": "markdown",
   "id": "7fab4e66",
   "metadata": {
    "papermill": {
     "duration": 0.005134,
     "end_time": "2022-10-24T05:30:39.959820",
     "exception": false,
     "start_time": "2022-10-24T05:30:39.954686",
     "status": "completed"
    },
    "tags": []
   },
   "source": [
    "### **Fit and Predict**"
   ]
  },
  {
   "cell_type": "code",
   "execution_count": 6,
   "id": "f79a7b0b",
   "metadata": {
    "execution": {
     "iopub.execute_input": "2022-10-24T05:30:39.971803Z",
     "iopub.status.busy": "2022-10-24T05:30:39.971493Z",
     "iopub.status.idle": "2022-10-24T05:30:39.981711Z",
     "shell.execute_reply": "2022-10-24T05:30:39.980940Z"
    },
    "papermill": {
     "duration": 0.019157,
     "end_time": "2022-10-24T05:30:39.984333",
     "exception": false,
     "start_time": "2022-10-24T05:30:39.965176",
     "status": "completed"
    },
    "tags": []
   },
   "outputs": [],
   "source": [
    "def predict_batch(model=None, dataloader=None, path=None, device=None) -> np.ndarray:\n",
    "    model.load_state_dict(torch.load(path, map_location=device)[\"model_state_dict\"])\n",
    "    model.to(device)    \n",
    "    model.eval()\n",
    "    \n",
    "    y_pred = torch.zeros(1, 1).to(device)\n",
    "    \n",
    "    for X in dataloader:\n",
    "        X = X.to(device)\n",
    "        with torch.no_grad():\n",
    "            output = torch.argmax(torch.exp(model(X)), dim=1)\n",
    "        y_pred = torch.cat((y_pred, output.view(-1, 1)), dim=0)\n",
    "    \n",
    "    return y_pred[1:].detach().cpu().numpy()"
   ]
  },
  {
   "cell_type": "markdown",
   "id": "ec972355",
   "metadata": {
    "papermill": {
     "duration": 0.005105,
     "end_time": "2022-10-24T05:30:39.994532",
     "exception": false,
     "start_time": "2022-10-24T05:30:39.989427",
     "status": "completed"
    },
    "tags": []
   },
   "source": [
    "### **Inference**"
   ]
  },
  {
   "cell_type": "code",
   "execution_count": 7,
   "id": "139a1de1",
   "metadata": {
    "execution": {
     "iopub.execute_input": "2022-10-24T05:30:40.006241Z",
     "iopub.status.busy": "2022-10-24T05:30:40.005929Z",
     "iopub.status.idle": "2022-10-24T05:30:56.169993Z",
     "shell.execute_reply": "2022-10-24T05:30:56.169033Z"
    },
    "papermill": {
     "duration": 16.173044,
     "end_time": "2022-10-24T05:30:56.172652",
     "exception": false,
     "start_time": "2022-10-24T05:30:39.999608",
     "status": "completed"
    },
    "tags": []
   },
   "outputs": [],
   "source": [
    "test_images_A = np.load(\"../input/icc-ml-2022a/file/taskA/data/test_data_A.npy\")\n",
    "\n",
    "model = Model(filter_sizes=[64, 128, 256, 512]).to(cfg.device)\n",
    "\n",
    "ts_data_setup = DS(test_images_A, None, cfg.valid_transform_A)\n",
    "ts_data = DL(ts_data_setup, batch_size=64, shuffle=False)\n",
    "\n",
    "y_pred_A_A1 = predict_batch(\n",
    "    model=model, \n",
    "    dataloader=ts_data, \n",
    "    path=\"../input/dscic-cnnt2-nohl-ag-seta/saves/bae_state_fold_1.pt\", \n",
    "    device=cfg.device\n",
    ")\n",
    "\n",
    "y_pred_A_A2 = predict_batch(\n",
    "    model=model, \n",
    "    dataloader=ts_data, \n",
    "    path=\"../input/dscic-cnnt2-nohl-ag-seta/saves/bae_state_fold_2.pt\", \n",
    "    device=cfg.device\n",
    ")\n",
    "\n",
    "y_pred_A_A3 = predict_batch(\n",
    "    model=model, \n",
    "    dataloader=ts_data, \n",
    "    path=\"../input/dscic-cnnt2-nohl-ag-seta/saves/bae_state_fold_3.pt\", \n",
    "    device=cfg.device\n",
    ")\n",
    "\n",
    "y_pred_A_A4 = predict_batch(\n",
    "    model=model, \n",
    "    dataloader=ts_data, \n",
    "    path=\"../input/dscic-cnnt2-nohl-ag-seta/saves/bae_state_fold_4.pt\", \n",
    "    device=cfg.device\n",
    ")\n",
    "\n",
    "y_pred_A_A5 = predict_batch(\n",
    "    model=model, \n",
    "    dataloader=ts_data, \n",
    "    path=\"../input/dscic-cnnt2-nohl-ag-seta/saves/bae_state_fold_5.pt\", \n",
    "    device=cfg.device\n",
    ")\n",
    "\n",
    "y_pred_A_L1 = predict_batch(\n",
    "    model=model, \n",
    "    dataloader=ts_data, \n",
    "    path=\"../input/dscic-cnnt2-nohl-ag-seta/saves/ble_state_fold_1.pt\", \n",
    "    device=cfg.device\n",
    ")\n",
    "\n",
    "y_pred_A_L2 = predict_batch(\n",
    "    model=model, \n",
    "    dataloader=ts_data, \n",
    "    path=\"../input/dscic-cnnt2-nohl-ag-seta/saves/ble_state_fold_2.pt\", \n",
    "    device=cfg.device\n",
    ")\n",
    "\n",
    "y_pred_A_L3 = predict_batch(\n",
    "    model=model, \n",
    "    dataloader=ts_data, \n",
    "    path=\"../input/dscic-cnnt2-nohl-ag-seta/saves/ble_state_fold_3.pt\", \n",
    "    device=cfg.device\n",
    ")\n",
    "\n",
    "y_pred_A_L4 = predict_batch(\n",
    "    model=model, \n",
    "    dataloader=ts_data, \n",
    "    path=\"../input/dscic-cnnt2-nohl-ag-seta/saves/ble_state_fold_4.pt\", \n",
    "    device=cfg.device\n",
    ")\n",
    "\n",
    "y_pred_A_L5 = predict_batch(\n",
    "    model=model, \n",
    "    dataloader=ts_data, \n",
    "    path=\"../input/dscic-cnnt2-nohl-ag-seta/saves/ble_state_fold_5.pt\", \n",
    "    device=cfg.device\n",
    ")\n",
    "\n",
    "y_pred_A = np.concatenate((\n",
    "    y_pred_A_A1.reshape(1, -1),\n",
    "    y_pred_A_A2.reshape(1, -1),\n",
    "    y_pred_A_A3.reshape(1, -1),\n",
    "    y_pred_A_A4.reshape(1, -1),\n",
    "    y_pred_A_A5.reshape(1, -1),\n",
    "    y_pred_A_L1.reshape(1, -1),\n",
    "    y_pred_A_L2.reshape(1, -1),\n",
    "    y_pred_A_L3.reshape(1, -1),\n",
    "    y_pred_A_L4.reshape(1, -1),\n",
    "    y_pred_A_L5.reshape(1, -1),\n",
    "), axis=0)\n",
    "\n",
    "y_pred_A = stats.mode(y_pred_A)[0]"
   ]
  },
  {
   "cell_type": "code",
   "execution_count": 8,
   "id": "6c2e2a8d",
   "metadata": {
    "execution": {
     "iopub.execute_input": "2022-10-24T05:30:56.181968Z",
     "iopub.status.busy": "2022-10-24T05:30:56.181669Z",
     "iopub.status.idle": "2022-10-24T05:31:03.398144Z",
     "shell.execute_reply": "2022-10-24T05:31:03.397111Z"
    },
    "papermill": {
     "duration": 7.224002,
     "end_time": "2022-10-24T05:31:03.400809",
     "exception": false,
     "start_time": "2022-10-24T05:30:56.176807",
     "status": "completed"
    },
    "tags": []
   },
   "outputs": [],
   "source": [
    "test_images_B = np.load(\"../input/icc-ml-2022a/file/taskB/data/test_data_B.npy\")\n",
    "\n",
    "model = Model(filter_sizes=[64, 128, 256, 512]).to(cfg.device)\n",
    "\n",
    "ts_data_setup = DS(test_images_B, None, cfg.valid_transform_B)\n",
    "ts_data = DL(ts_data_setup, batch_size=64, shuffle=False)\n",
    "\n",
    "y_pred_B_A1 = predict_batch(\n",
    "    model=model, \n",
    "    dataloader=ts_data, \n",
    "    path=\"../input/dscic-cnnt2-nohl-ag-setb/saves/bae_state_fold_1.pt\", \n",
    "    device=cfg.device\n",
    ")\n",
    "\n",
    "y_pred_B_A2 = predict_batch(\n",
    "    model=model, \n",
    "    dataloader=ts_data, \n",
    "    path=\"../input/dscic-cnnt2-nohl-ag-setb/saves/bae_state_fold_2.pt\", \n",
    "    device=cfg.device\n",
    ")\n",
    "\n",
    "y_pred_B_A3 = predict_batch(\n",
    "    model=model, \n",
    "    dataloader=ts_data, \n",
    "    path=\"../input/dscic-cnnt2-nohl-ag-setb/saves/bae_state_fold_3.pt\", \n",
    "    device=cfg.device\n",
    ")\n",
    "\n",
    "y_pred_B_A4 = predict_batch(\n",
    "    model=model, \n",
    "    dataloader=ts_data, \n",
    "    path=\"../input/dscic-cnnt2-nohl-ag-setb/saves/bae_state_fold_4.pt\", \n",
    "    device=cfg.device\n",
    ")\n",
    "\n",
    "y_pred_B_A5 = predict_batch(\n",
    "    model=model, \n",
    "    dataloader=ts_data, \n",
    "    path=\"../input/dscic-cnnt2-nohl-ag-setb/saves/bae_state_fold_5.pt\", \n",
    "    device=cfg.device\n",
    ")\n",
    "\n",
    "y_pred_B_L1 = predict_batch(\n",
    "    model=model, \n",
    "    dataloader=ts_data, \n",
    "    path=\"../input/dscic-cnnt2-nohl-ag-setb/saves/ble_state_fold_1.pt\", \n",
    "    device=cfg.device\n",
    ")\n",
    "\n",
    "y_pred_B_L2 = predict_batch(\n",
    "    model=model, \n",
    "    dataloader=ts_data, \n",
    "    path=\"../input/dscic-cnnt2-nohl-ag-setb/saves/ble_state_fold_2.pt\", \n",
    "    device=cfg.device\n",
    ")\n",
    "\n",
    "y_pred_B_L3 = predict_batch(\n",
    "    model=model, \n",
    "    dataloader=ts_data, \n",
    "    path=\"../input/dscic-cnnt2-nohl-ag-setb/saves/ble_state_fold_3.pt\", \n",
    "    device=cfg.device\n",
    ")\n",
    "\n",
    "y_pred_B_L4 = predict_batch(\n",
    "    model=model, \n",
    "    dataloader=ts_data, \n",
    "    path=\"../input/dscic-cnnt2-nohl-ag-setb/saves/ble_state_fold_4.pt\", \n",
    "    device=cfg.device\n",
    ")\n",
    "\n",
    "y_pred_B_L5 = predict_batch(\n",
    "    model=model, \n",
    "    dataloader=ts_data, \n",
    "    path=\"../input/dscic-cnnt2-nohl-ag-setb/saves/ble_state_fold_5.pt\", \n",
    "    device=cfg.device\n",
    ")\n",
    "\n",
    "y_pred_B = np.concatenate((\n",
    "    y_pred_B_A1.reshape(1, -1),\n",
    "    y_pred_B_A2.reshape(1, -1),\n",
    "    y_pred_B_A3.reshape(1, -1),\n",
    "    y_pred_B_A4.reshape(1, -1),\n",
    "    y_pred_B_A5.reshape(1, -1),\n",
    "    y_pred_B_L1.reshape(1, -1),\n",
    "    y_pred_B_L2.reshape(1, -1),\n",
    "    y_pred_B_L3.reshape(1, -1),\n",
    "    y_pred_B_L4.reshape(1, -1),\n",
    "    y_pred_B_L5.reshape(1, -1),\n",
    "), axis=0)\n",
    "\n",
    "y_pred_B = stats.mode(y_pred_B)[0]"
   ]
  },
  {
   "cell_type": "code",
   "execution_count": 9,
   "id": "d83be69a",
   "metadata": {
    "execution": {
     "iopub.execute_input": "2022-10-24T05:31:03.409987Z",
     "iopub.status.busy": "2022-10-24T05:31:03.409687Z",
     "iopub.status.idle": "2022-10-24T05:31:03.444502Z",
     "shell.execute_reply": "2022-10-24T05:31:03.443680Z"
    },
    "papermill": {
     "duration": 0.04196,
     "end_time": "2022-10-24T05:31:03.446654",
     "exception": false,
     "start_time": "2022-10-24T05:31:03.404694",
     "status": "completed"
    },
    "tags": []
   },
   "outputs": [],
   "source": [
    "ss_df = pd.DataFrame(data=None, columns=[\"id\", \"Category\"])\n",
    "\n",
    "id_A = [f\"A{i}\" for i in range(test_images_A.shape[0])]\n",
    "id_B = [f\"B{i}\" for i in range(test_images_B.shape[0])]\n",
    "\n",
    "ids = id_A + id_B\n",
    "y_pred = np.concatenate((y_pred_A.reshape(-1), y_pred_B.reshape(-1)), axis=0)\n",
    "\n",
    "ss_df.id = ids\n",
    "ss_df.Category = y_pred.astype(\"uint8\")\n",
    "ss_df.to_csv(\"submission.csv\", index=False)"
   ]
  }
 ],
 "metadata": {
  "kernelspec": {
   "display_name": "Python 3",
   "language": "python",
   "name": "python3"
  },
  "language_info": {
   "codemirror_mode": {
    "name": "ipython",
    "version": 3
   },
   "file_extension": ".py",
   "mimetype": "text/x-python",
   "name": "python",
   "nbconvert_exporter": "python",
   "pygments_lexer": "ipython3",
   "version": "3.7.12"
  },
  "papermill": {
   "default_parameters": {},
   "duration": 35.975794,
   "end_time": "2022-10-24T05:31:04.873593",
   "environment_variables": {},
   "exception": null,
   "input_path": "__notebook__.ipynb",
   "output_path": "__notebook__.ipynb",
   "parameters": {},
   "start_time": "2022-10-24T05:30:28.897799",
   "version": "2.3.4"
  }
 },
 "nbformat": 4,
 "nbformat_minor": 5
}
