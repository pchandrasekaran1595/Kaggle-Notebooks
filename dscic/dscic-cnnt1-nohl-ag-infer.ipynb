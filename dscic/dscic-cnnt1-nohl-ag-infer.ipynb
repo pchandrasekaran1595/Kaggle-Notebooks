{
 "cells": [
  {
   "cell_type": "markdown",
   "id": "e3f8a40b",
   "metadata": {
    "papermill": {
     "duration": 0.006538,
     "end_time": "2022-10-23T13:01:40.909300",
     "exception": false,
     "start_time": "2022-10-23T13:01:40.902762",
     "status": "completed"
    },
    "tags": []
   },
   "source": [
    "### **Library Imports**"
   ]
  },
  {
   "cell_type": "code",
   "execution_count": 1,
   "id": "a993640d",
   "metadata": {
    "execution": {
     "iopub.execute_input": "2022-10-23T13:01:40.922248Z",
     "iopub.status.busy": "2022-10-23T13:01:40.921400Z",
     "iopub.status.idle": "2022-10-23T13:01:43.811669Z",
     "shell.execute_reply": "2022-10-23T13:01:43.810446Z"
    },
    "papermill": {
     "duration": 2.898844,
     "end_time": "2022-10-23T13:01:43.814137",
     "exception": false,
     "start_time": "2022-10-23T13:01:40.915293",
     "status": "completed"
    },
    "tags": []
   },
   "outputs": [],
   "source": [
    "import os\n",
    "import re\n",
    "import cv2\n",
    "import torch\n",
    "import numpy as np\n",
    "import pandas as pd\n",
    "import matplotlib.pyplot as plt\n",
    "\n",
    "from time import time\n",
    "from scipy import stats\n",
    "from typing import Union\n",
    "from torch import nn, optim\n",
    "from torch.utils.data import Dataset\n",
    "from torch.utils.data import DataLoader as DL\n",
    "from torchvision import models, transforms\n",
    "\n",
    "from sklearn.metrics import accuracy_score\n",
    "from sklearn.model_selection import StratifiedKFold"
   ]
  },
  {
   "cell_type": "markdown",
   "id": "a56f9e20",
   "metadata": {
    "papermill": {
     "duration": 0.002872,
     "end_time": "2022-10-23T13:01:43.820394",
     "exception": false,
     "start_time": "2022-10-23T13:01:43.817522",
     "status": "completed"
    },
    "tags": []
   },
   "source": [
    "### **Utilities and Helpers**"
   ]
  },
  {
   "cell_type": "code",
   "execution_count": 2,
   "id": "d7033a76",
   "metadata": {
    "execution": {
     "iopub.execute_input": "2022-10-23T13:01:43.827820Z",
     "iopub.status.busy": "2022-10-23T13:01:43.827413Z",
     "iopub.status.idle": "2022-10-23T13:01:43.840071Z",
     "shell.execute_reply": "2022-10-23T13:01:43.839135Z"
    },
    "papermill": {
     "duration": 0.018615,
     "end_time": "2022-10-23T13:01:43.842083",
     "exception": false,
     "start_time": "2022-10-23T13:01:43.823468",
     "status": "completed"
    },
    "tags": []
   },
   "outputs": [],
   "source": [
    "SEED: int = 42\n",
    "\n",
    "def breaker(num: int=50, char: str=\"*\") -> None:\n",
    "    print(\"\\n\" + num*char + \"\\n\")\n",
    "\n",
    "    \n",
    "def get_image(path: str, size: int=224) -> np.ndarray:\n",
    "    image = cv2.imread(path, cv2.IMREAD_COLOR)\n",
    "    image = cv2.cvtColor(src=image, code=cv2.COLOR_BGR2RGB)\n",
    "    return cv2.resize(src=image, dsize=(size, size), interpolation=cv2.INTER_AREA)\n",
    "\n",
    "\n",
    "def show_loss_graphs(L: list) -> None:\n",
    "    TL, VL = [], []\n",
    "    for i in range(len(L)):\n",
    "        TL.append(L[i][\"train\"])\n",
    "        VL.append(L[i][\"valid\"])\n",
    "    x_Axis = np.arange(1, len(TL) + 1)\n",
    "    plt.figure()\n",
    "    plt.plot(x_Axis, TL, \"r\", label=\"Train\")\n",
    "    plt.plot(x_Axis, VL, \"b\", label=\"Valid\")\n",
    "    plt.legend()\n",
    "    plt.grid()\n",
    "    plt.title(\"Loss Graph\")\n",
    "    plt.show()\n",
    "\n",
    "    \n",
    "def show_accuracy_graphs(A: list) -> None:\n",
    "    TA, VA = [], []\n",
    "    for i in range(len(A)):\n",
    "        TA.append(A[i][\"train\"])\n",
    "        VA.append(A[i][\"valid\"])\n",
    "    x_Axis = np.arange(1, len(TA) + 1)\n",
    "    plt.figure()\n",
    "    plt.plot(x_Axis, TA, \"r\", label=\"Train\")\n",
    "    plt.plot(x_Axis, VA, \"b\", label=\"Valid\")\n",
    "    plt.legend()\n",
    "    plt.grid()\n",
    "    plt.title(\"Accuracy Graph\")\n",
    "    plt.show()\n",
    "    \n",
    "\n",
    "def show_lr_graph(LR: list) -> None:\n",
    "    x_Axis = [i+1 for i in range(len(LR))]\n",
    "    plt.figure(figsize=(8, 6))\n",
    "    plt.plot(x_Axis, LR, \"rx\")\n",
    "    plt.grid()\n",
    "    plt.show()"
   ]
  },
  {
   "cell_type": "markdown",
   "id": "03fff23d",
   "metadata": {
    "papermill": {
     "duration": 0.002981,
     "end_time": "2022-10-23T13:01:43.848072",
     "exception": false,
     "start_time": "2022-10-23T13:01:43.845091",
     "status": "completed"
    },
    "tags": []
   },
   "source": [
    "### **Configuration**"
   ]
  },
  {
   "cell_type": "code",
   "execution_count": 3,
   "id": "98153a7f",
   "metadata": {
    "execution": {
     "iopub.execute_input": "2022-10-23T13:01:43.855348Z",
     "iopub.status.busy": "2022-10-23T13:01:43.855064Z",
     "iopub.status.idle": "2022-10-23T13:01:43.929671Z",
     "shell.execute_reply": "2022-10-23T13:01:43.928798Z"
    },
    "papermill": {
     "duration": 0.080719,
     "end_time": "2022-10-23T13:01:43.931766",
     "exception": false,
     "start_time": "2022-10-23T13:01:43.851047",
     "status": "completed"
    },
    "tags": []
   },
   "outputs": [],
   "source": [
    "class CFG(object):\n",
    "    def __init__(self, \n",
    "                 seed: int = 42,\n",
    "                 n_splits: int = 5,\n",
    "                 batch_size: int = 16,\n",
    "                 epochs: int = 25,\n",
    "                 early_stopping: int = 5,\n",
    "                 lr: float = 1e-4,\n",
    "                 wd: float = 0.0,\n",
    "                 max_lr: float = 1e-3,\n",
    "                 pct_start: float = 0.2,\n",
    "                 steps_per_epoch: int = 100,\n",
    "                 div_factor: int = 1e3, \n",
    "                 final_div_factor: float = 1e3,\n",
    "                 ):\n",
    "        self.seed = seed\n",
    "        self.n_splits = n_splits\n",
    "        self.batch_size = batch_size\n",
    "        self.epochs = epochs\n",
    "        self.early_stopping = early_stopping\n",
    "        self.lr = lr\n",
    "        self.wd = wd\n",
    "        self.max_lr = max_lr\n",
    "        self.pct_start = pct_start\n",
    "        self.steps_per_epoch = steps_per_epoch\n",
    "        self.div_factor = div_factor\n",
    "        self.final_div_factor = final_div_factor\n",
    "        self.device = torch.device(\"cuda\" if torch.cuda.is_available() else \"cpu\")\n",
    "        \n",
    "        self.train_transform_A = transforms.Compose([\n",
    "            transforms.ToTensor(),\n",
    "            transforms.Normalize([0.49085, 0.48537, 0.45057], [0.24560, 0.24165, 0.26213]),\n",
    "            transforms.RandomAffine(degrees=(-45, 45), translate=(0.15, 0.15), scale=(0.5, 1.5)),\n",
    "            transforms.RandomHorizontalFlip(p=0.25),\n",
    "            transforms.RandomVerticalFlip(p=0.25),\n",
    "        ])\n",
    "        self.valid_transform_A = transforms.Compose([\n",
    "            transforms.ToTensor(),\n",
    "            transforms.Normalize([0.49085, 0.48537, 0.45057], [0.24560, 0.24165, 0.26213]),\n",
    "        ]) \n",
    "        \n",
    "        self.train_transform_B = transforms.Compose([\n",
    "            transforms.ToTensor(),\n",
    "            transforms.Normalize([0.49217, 0.47873, 0.44228], [0.24861, 0.24540, 0.26107]),\n",
    "            transforms.RandomAffine(degrees=(-45, 45), translate=(0.15, 0.15), scale=(0.5, 1.5)),\n",
    "            transforms.RandomHorizontalFlip(p=0.25),\n",
    "            transforms.RandomVerticalFlip(p=0.25),\n",
    "        ])\n",
    "        self.valid_transform_B = transforms.Compose([\n",
    "            transforms.ToTensor(),\n",
    "            transforms.Normalize([0.49217, 0.47873, 0.44228], [0.24861, 0.24540, 0.26107]),\n",
    "        ]) \n",
    "                                \n",
    "        self.save_path = \"saves\"\n",
    "        if not os.path.exists(self.save_path): os.makedirs(self.save_path)\n",
    "    \n",
    "cfg = CFG(\n",
    "    seed=SEED, \n",
    ")"
   ]
  },
  {
   "cell_type": "markdown",
   "id": "b1e1049e",
   "metadata": {
    "papermill": {
     "duration": 0.002894,
     "end_time": "2022-10-23T13:01:43.937831",
     "exception": false,
     "start_time": "2022-10-23T13:01:43.934937",
     "status": "completed"
    },
    "tags": []
   },
   "source": [
    "### **Dataset Template**"
   ]
  },
  {
   "cell_type": "code",
   "execution_count": 4,
   "id": "fa8b6b36",
   "metadata": {
    "execution": {
     "iopub.execute_input": "2022-10-23T13:01:43.945084Z",
     "iopub.status.busy": "2022-10-23T13:01:43.944804Z",
     "iopub.status.idle": "2022-10-23T13:01:43.950891Z",
     "shell.execute_reply": "2022-10-23T13:01:43.950001Z"
    },
    "papermill": {
     "duration": 0.011972,
     "end_time": "2022-10-23T13:01:43.952796",
     "exception": false,
     "start_time": "2022-10-23T13:01:43.940824",
     "status": "completed"
    },
    "tags": []
   },
   "outputs": [],
   "source": [
    "class DS(Dataset):\n",
    "    def __init__(\n",
    "        self, \n",
    "        images: np.ndarray,\n",
    "        labels: Union[np.ndarray, None]=None, \n",
    "        transform=None\n",
    "    ):\n",
    "        \n",
    "        self.images = images\n",
    "        self.labels = labels\n",
    "        self.transform = transform\n",
    "    \n",
    "    def __len__(self):\n",
    "        return self.images.shape[0]\n",
    "    \n",
    "    def __getitem__(self, idx):\n",
    "        if self.labels is None:\n",
    "            return self.transform(self.images[idx])\n",
    "        return self.transform(self.images[idx]), torch.LongTensor(self.labels[idx])"
   ]
  },
  {
   "cell_type": "markdown",
   "id": "0fee544c",
   "metadata": {
    "papermill": {
     "duration": 0.002844,
     "end_time": "2022-10-23T13:01:43.958654",
     "exception": false,
     "start_time": "2022-10-23T13:01:43.955810",
     "status": "completed"
    },
    "tags": []
   },
   "source": [
    "### **Model**"
   ]
  },
  {
   "cell_type": "code",
   "execution_count": 5,
   "id": "4b34dc0a",
   "metadata": {
    "execution": {
     "iopub.execute_input": "2022-10-23T13:01:43.966464Z",
     "iopub.status.busy": "2022-10-23T13:01:43.965634Z",
     "iopub.status.idle": "2022-10-23T13:01:43.982043Z",
     "shell.execute_reply": "2022-10-23T13:01:43.981173Z"
    },
    "papermill": {
     "duration": 0.022283,
     "end_time": "2022-10-23T13:01:43.983930",
     "exception": false,
     "start_time": "2022-10-23T13:01:43.961647",
     "status": "completed"
    },
    "tags": []
   },
   "outputs": [],
   "source": [
    "class Model(nn.Module):\n",
    "    def __init__(self, filter_sizes: list=[64, 128, 256, 512], HLs: list=[], DP: float=None):\n",
    "\n",
    "        super(Model, self).__init__()\n",
    "\n",
    "        self.encoder = nn.Sequential()\n",
    "        self.encoder.add_module(\"CN1\", nn.Conv2d(in_channels=3, out_channels=filter_sizes[0], kernel_size=(3, 3), stride=(1, 1), padding=(1, 1)))\n",
    "        self.encoder.add_module(\"BN1\", nn.BatchNorm2d(num_features=filter_sizes[0], eps=1e-5))\n",
    "        self.encoder.add_module(\"AN1\", nn.ReLU())\n",
    "        self.encoder.add_module(\"MP1\", nn.MaxPool2d(kernel_size=(2, 2)))\n",
    "        self.encoder.add_module(\"CN2\", nn.Conv2d(in_channels=filter_sizes[0], out_channels=filter_sizes[1], kernel_size=(3, 3), stride=(1, 1), padding=(1, 1)))\n",
    "        self.encoder.add_module(\"BN2\", nn.BatchNorm2d(num_features=filter_sizes[1], eps=1e-5))\n",
    "        self.encoder.add_module(\"AN2\", nn.ReLU())\n",
    "        self.encoder.add_module(\"MP2\", nn.MaxPool2d(kernel_size=(2, 2)))\n",
    "        self.encoder.add_module(\"CN3\", nn.Conv2d(in_channels=filter_sizes[1], out_channels=filter_sizes[2], kernel_size=(3, 3), stride=(1, 1), padding=(1, 1)))\n",
    "        self.encoder.add_module(\"BN3\", nn.BatchNorm2d(num_features=filter_sizes[2], eps=1e-5))\n",
    "        self.encoder.add_module(\"AN3\", nn.ReLU())\n",
    "        self.encoder.add_module(\"MP3\", nn.MaxPool2d(kernel_size=(2, 2)))\n",
    "\n",
    "        self.classifier = nn.Sequential()\n",
    "        if len(HLs) == 0:\n",
    "            self.classifier.add_module(\"FC1\", nn.Linear(in_features=filter_sizes[2]*4*4, out_features=5))\n",
    "        elif len(HLs) == 1:\n",
    "            self.classifier.add_module(\"FC1\", nn.Linear(in_features=filter_sizes[2]*4*4, out_features=HLs[0]))\n",
    "            self.classifier.add_module(\"AN1\", nn.ReLU())\n",
    "            if DP:\n",
    "                self.classifier.add_module(\"DP1\", nn.Dropout(p=DP))\n",
    "            self.classifier.add_module(\"FC2\", nn.Linear(in_features=HLs[0], out_features=5))\n",
    "        elif len(HLs) == 2:\n",
    "            self.classifier.add_module(\"FC1\", nn.Linear(in_features=filter_sizes[2]*4*4, out_features=HLs[0]))\n",
    "            self.classifier.add_module(\"AN1\", nn.ReLU())\n",
    "            if DP:\n",
    "                self.classifier.add_module(\"DP1\", nn.Dropout(p=DP))\n",
    "            self.classifier.add_module(\"FC2\", nn.Linear(in_features=HLs[0], out_features=HLs[1]))\n",
    "            self.classifier.add_module(\"AN2\", nn.ReLU())\n",
    "            if DP:\n",
    "                self.classifier.add_module(\"DP2\", nn.Dropout(p=DP))\n",
    "            self.classifier.add_module(\"FC3\", nn.Linear(in_features=HLs[1], out_features=5))\n",
    "    \n",
    "    def forward(self, x):\n",
    "        x = self.encoder(x)\n",
    "        x = x.view(x.shape[0], -1)\n",
    "        return nn.LogSoftmax(dim=1)(self.classifier(x))"
   ]
  },
  {
   "cell_type": "markdown",
   "id": "6aa13ce9",
   "metadata": {
    "papermill": {
     "duration": 0.002881,
     "end_time": "2022-10-23T13:01:43.990131",
     "exception": false,
     "start_time": "2022-10-23T13:01:43.987250",
     "status": "completed"
    },
    "tags": []
   },
   "source": [
    "### **Fit and Predict**"
   ]
  },
  {
   "cell_type": "code",
   "execution_count": 6,
   "id": "e79c764f",
   "metadata": {
    "execution": {
     "iopub.execute_input": "2022-10-23T13:01:43.997262Z",
     "iopub.status.busy": "2022-10-23T13:01:43.996996Z",
     "iopub.status.idle": "2022-10-23T13:01:44.003221Z",
     "shell.execute_reply": "2022-10-23T13:01:44.002284Z"
    },
    "papermill": {
     "duration": 0.012039,
     "end_time": "2022-10-23T13:01:44.005134",
     "exception": false,
     "start_time": "2022-10-23T13:01:43.993095",
     "status": "completed"
    },
    "tags": []
   },
   "outputs": [],
   "source": [
    "def predict_batch(model=None, dataloader=None, path=None, device=None) -> np.ndarray:\n",
    "    model.load_state_dict(torch.load(path, map_location=device)[\"model_state_dict\"])\n",
    "    model.to(device)    \n",
    "    model.eval()\n",
    "    \n",
    "    y_pred = torch.zeros(1, 1).to(device)\n",
    "    \n",
    "    for X in dataloader:\n",
    "        X = X.to(device)\n",
    "        with torch.no_grad():\n",
    "            output = torch.argmax(torch.exp(model(X)), dim=1)\n",
    "        y_pred = torch.cat((y_pred, output.view(-1, 1)), dim=0)\n",
    "    \n",
    "    return y_pred[1:].detach().cpu().numpy()"
   ]
  },
  {
   "cell_type": "markdown",
   "id": "c6a38d9a",
   "metadata": {
    "papermill": {
     "duration": 0.002888,
     "end_time": "2022-10-23T13:01:44.011076",
     "exception": false,
     "start_time": "2022-10-23T13:01:44.008188",
     "status": "completed"
    },
    "tags": []
   },
   "source": [
    "### **Inference**"
   ]
  },
  {
   "cell_type": "code",
   "execution_count": 7,
   "id": "b39448b8",
   "metadata": {
    "execution": {
     "iopub.execute_input": "2022-10-23T13:01:44.019333Z",
     "iopub.status.busy": "2022-10-23T13:01:44.018039Z",
     "iopub.status.idle": "2022-10-23T13:01:54.981621Z",
     "shell.execute_reply": "2022-10-23T13:01:54.980568Z"
    },
    "papermill": {
     "duration": 10.969865,
     "end_time": "2022-10-23T13:01:54.984023",
     "exception": false,
     "start_time": "2022-10-23T13:01:44.014158",
     "status": "completed"
    },
    "tags": []
   },
   "outputs": [],
   "source": [
    "test_images_A = np.load(\"../input/icc-ml-2022a/DATA/TaskA/test_A.npy\")\n",
    "test_images_B = np.load(\"../input/icc-ml-2022a/DATA/TaskB/test_B.npy\")\n",
    "\n",
    "model = Model(filter_sizes=[64, 128, 256]).to(cfg.device)\n",
    "\n",
    "ts_data_setup = DS(test_images_A, None, cfg.valid_transform_A)\n",
    "ts_data = DL(ts_data_setup, batch_size=64, shuffle=False)\n",
    "\n",
    "y_pred_A = predict_batch(\n",
    "    model=model, \n",
    "    dataloader=ts_data, \n",
    "    path=\"../input/dscic-cnnt1-nohl-ag-seta/saves/ble_state_fold_3.pt\", \n",
    "    device=cfg.device\n",
    ")\n",
    "\n",
    "ts_data_setup = DS(test_images_B, None, cfg.valid_transform_A)\n",
    "ts_data = DL(ts_data_setup, batch_size=64, shuffle=False)\n",
    "\n",
    "y_pred_B = predict_batch(\n",
    "    model=model, \n",
    "    dataloader=ts_data, \n",
    "    path=\"../input/dscic-cnnt1-nohl-ag-setb/saves/ble_state_fold_3.pt\", \n",
    "    device=cfg.device\n",
    ")"
   ]
  },
  {
   "cell_type": "code",
   "execution_count": 8,
   "id": "7ebac80b",
   "metadata": {
    "execution": {
     "iopub.execute_input": "2022-10-23T13:01:54.992375Z",
     "iopub.status.busy": "2022-10-23T13:01:54.991900Z",
     "iopub.status.idle": "2022-10-23T13:01:55.027454Z",
     "shell.execute_reply": "2022-10-23T13:01:55.026484Z"
    },
    "papermill": {
     "duration": 0.042108,
     "end_time": "2022-10-23T13:01:55.029727",
     "exception": false,
     "start_time": "2022-10-23T13:01:54.987619",
     "status": "completed"
    },
    "tags": []
   },
   "outputs": [],
   "source": [
    "ss_df = pd.DataFrame(data=None, columns=[\"id\", \"Category\"])\n",
    "\n",
    "id_A = [f\"A{i}\" for i in range(test_images_A.shape[0])]\n",
    "id_B = [f\"B{i}\" for i in range(test_images_B.shape[0])]\n",
    "\n",
    "ids = id_A + id_B\n",
    "y_pred = np.concatenate((y_pred_A, y_pred_B), axis=0)\n",
    "\n",
    "ss_df.id = ids\n",
    "ss_df.Category = y_pred.astype(\"uint8\")\n",
    "ss_df.to_csv(\"submission.csv\", index=False)"
   ]
  }
 ],
 "metadata": {
  "kernelspec": {
   "display_name": "Python 3",
   "language": "python",
   "name": "python3"
  },
  "language_info": {
   "codemirror_mode": {
    "name": "ipython",
    "version": 3
   },
   "file_extension": ".py",
   "mimetype": "text/x-python",
   "name": "python",
   "nbconvert_exporter": "python",
   "pygments_lexer": "ipython3",
   "version": "3.7.12"
  },
  "papermill": {
   "default_parameters": {},
   "duration": 24.312756,
   "end_time": "2022-10-23T13:01:57.235652",
   "environment_variables": {},
   "exception": null,
   "input_path": "__notebook__.ipynb",
   "output_path": "__notebook__.ipynb",
   "parameters": {},
   "start_time": "2022-10-23T13:01:32.922896",
   "version": "2.3.4"
  }
 },
 "nbformat": 4,
 "nbformat_minor": 5
}
