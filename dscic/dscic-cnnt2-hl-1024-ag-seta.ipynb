{
 "cells": [
  {
   "cell_type": "markdown",
   "id": "90ba3685",
   "metadata": {
    "papermill": {
     "duration": 0.004812,
     "end_time": "2022-10-23T17:13:12.727329",
     "exception": false,
     "start_time": "2022-10-23T17:13:12.722517",
     "status": "completed"
    },
    "tags": []
   },
   "source": [
    "### **Library Imports**"
   ]
  },
  {
   "cell_type": "code",
   "execution_count": 1,
   "id": "6fa5a436",
   "metadata": {
    "execution": {
     "iopub.execute_input": "2022-10-23T17:13:12.736777Z",
     "iopub.status.busy": "2022-10-23T17:13:12.736284Z",
     "iopub.status.idle": "2022-10-23T17:13:15.561839Z",
     "shell.execute_reply": "2022-10-23T17:13:15.560865Z"
    },
    "papermill": {
     "duration": 2.833561,
     "end_time": "2022-10-23T17:13:15.564611",
     "exception": false,
     "start_time": "2022-10-23T17:13:12.731050",
     "status": "completed"
    },
    "tags": []
   },
   "outputs": [],
   "source": [
    "import os\n",
    "import re\n",
    "import cv2\n",
    "import torch\n",
    "import numpy as np\n",
    "import pandas as pd\n",
    "import matplotlib.pyplot as plt\n",
    "\n",
    "from time import time\n",
    "from scipy import stats\n",
    "from typing import Union\n",
    "from torch import nn, optim\n",
    "from torch.utils.data import Dataset\n",
    "from torch.utils.data import DataLoader as DL\n",
    "from torchvision import models, transforms\n",
    "\n",
    "from sklearn.metrics import accuracy_score\n",
    "from sklearn.model_selection import StratifiedKFold"
   ]
  },
  {
   "cell_type": "markdown",
   "id": "0061badd",
   "metadata": {
    "papermill": {
     "duration": 0.003945,
     "end_time": "2022-10-23T17:13:15.572609",
     "exception": false,
     "start_time": "2022-10-23T17:13:15.568664",
     "status": "completed"
    },
    "tags": []
   },
   "source": [
    "### **Utilities and Helpers**"
   ]
  },
  {
   "cell_type": "code",
   "execution_count": 2,
   "id": "3976ba2a",
   "metadata": {
    "execution": {
     "iopub.execute_input": "2022-10-23T17:13:15.581519Z",
     "iopub.status.busy": "2022-10-23T17:13:15.580760Z",
     "iopub.status.idle": "2022-10-23T17:13:15.593589Z",
     "shell.execute_reply": "2022-10-23T17:13:15.592731Z"
    },
    "papermill": {
     "duration": 0.01928,
     "end_time": "2022-10-23T17:13:15.595525",
     "exception": false,
     "start_time": "2022-10-23T17:13:15.576245",
     "status": "completed"
    },
    "tags": []
   },
   "outputs": [],
   "source": [
    "SEED: int = 42\n",
    "\n",
    "def breaker(num: int=50, char: str=\"*\") -> None:\n",
    "    print(\"\\n\" + num*char + \"\\n\")\n",
    "\n",
    "    \n",
    "def get_image(path: str, size: int=224) -> np.ndarray:\n",
    "    image = cv2.imread(path, cv2.IMREAD_COLOR)\n",
    "    image = cv2.cvtColor(src=image, code=cv2.COLOR_BGR2RGB)\n",
    "    return cv2.resize(src=image, dsize=(size, size), interpolation=cv2.INTER_AREA)\n",
    "\n",
    "\n",
    "def show_loss_graphs(L: list) -> None:\n",
    "    TL, VL = [], []\n",
    "    for i in range(len(L)):\n",
    "        TL.append(L[i][\"train\"])\n",
    "        VL.append(L[i][\"valid\"])\n",
    "    x_Axis = np.arange(1, len(TL) + 1)\n",
    "    plt.figure()\n",
    "    plt.plot(x_Axis, TL, \"r\", label=\"Train\")\n",
    "    plt.plot(x_Axis, VL, \"b\", label=\"Valid\")\n",
    "    plt.legend()\n",
    "    plt.grid()\n",
    "    plt.title(\"Loss Graph\")\n",
    "    plt.show()\n",
    "\n",
    "    \n",
    "def show_accuracy_graphs(A: list) -> None:\n",
    "    TA, VA = [], []\n",
    "    for i in range(len(A)):\n",
    "        TA.append(A[i][\"train\"])\n",
    "        VA.append(A[i][\"valid\"])\n",
    "    x_Axis = np.arange(1, len(TA) + 1)\n",
    "    plt.figure()\n",
    "    plt.plot(x_Axis, TA, \"r\", label=\"Train\")\n",
    "    plt.plot(x_Axis, VA, \"b\", label=\"Valid\")\n",
    "    plt.legend()\n",
    "    plt.grid()\n",
    "    plt.title(\"Accuracy Graph\")\n",
    "    plt.show()\n",
    "    \n",
    "\n",
    "def show_lr_graph(LR: list) -> None:\n",
    "    x_Axis = [i+1 for i in range(len(LR))]\n",
    "    plt.figure(figsize=(8, 6))\n",
    "    plt.plot(x_Axis, LR, \"rx\")\n",
    "    plt.grid()\n",
    "    plt.show()"
   ]
  },
  {
   "cell_type": "markdown",
   "id": "39b915ed",
   "metadata": {
    "papermill": {
     "duration": 0.003431,
     "end_time": "2022-10-23T17:13:15.602686",
     "exception": false,
     "start_time": "2022-10-23T17:13:15.599255",
     "status": "completed"
    },
    "tags": []
   },
   "source": [
    "### **Configuration**"
   ]
  },
  {
   "cell_type": "code",
   "execution_count": 3,
   "id": "edfa3532",
   "metadata": {
    "execution": {
     "iopub.execute_input": "2022-10-23T17:13:15.611014Z",
     "iopub.status.busy": "2022-10-23T17:13:15.610707Z",
     "iopub.status.idle": "2022-10-23T17:13:15.683608Z",
     "shell.execute_reply": "2022-10-23T17:13:15.682715Z"
    },
    "papermill": {
     "duration": 0.079454,
     "end_time": "2022-10-23T17:13:15.685663",
     "exception": false,
     "start_time": "2022-10-23T17:13:15.606209",
     "status": "completed"
    },
    "tags": []
   },
   "outputs": [],
   "source": [
    "class CFG(object):\n",
    "    def __init__(self, \n",
    "                 seed: int = 42,\n",
    "                 n_splits: int = 5,\n",
    "                 batch_size: int = 16,\n",
    "                 epochs: int = 25,\n",
    "                 early_stopping: int = 5,\n",
    "                 lr: float = 1e-4,\n",
    "                 wd: float = 0.0,\n",
    "                 max_lr: float = 1e-3,\n",
    "                 pct_start: float = 0.2,\n",
    "                 steps_per_epoch: int = 100,\n",
    "                 div_factor: int = 1e3, \n",
    "                 final_div_factor: float = 1e3,\n",
    "                 ):\n",
    "        self.seed = seed\n",
    "        self.n_splits = n_splits\n",
    "        self.batch_size = batch_size\n",
    "        self.epochs = epochs\n",
    "        self.early_stopping = early_stopping\n",
    "        self.lr = lr\n",
    "        self.wd = wd\n",
    "        self.max_lr = max_lr\n",
    "        self.pct_start = pct_start\n",
    "        self.steps_per_epoch = steps_per_epoch\n",
    "        self.div_factor = div_factor\n",
    "        self.final_div_factor = final_div_factor\n",
    "        self.device = torch.device(\"cuda\" if torch.cuda.is_available() else \"cpu\")\n",
    "        \n",
    "        self.train_transform = transforms.Compose([\n",
    "            transforms.ToTensor(),\n",
    "            transforms.Normalize([0.49085, 0.48537, 0.45057], [0.24560, 0.24165, 0.26213]),\n",
    "            transforms.RandomAffine(degrees=(-45, 45), translate=(0.15, 0.15), scale=(0.5, 1.5)),\n",
    "            transforms.RandomHorizontalFlip(p=0.25),\n",
    "            transforms.RandomVerticalFlip(p=0.25),\n",
    "        ])\n",
    "        self.valid_transform = transforms.Compose([\n",
    "            transforms.ToTensor(),\n",
    "            transforms.Normalize([0.49085, 0.48537, 0.45057], [0.24560, 0.24165, 0.26213]),\n",
    "        ]) \n",
    "                                \n",
    "        self.save_path = \"saves\"\n",
    "        if not os.path.exists(self.save_path): os.makedirs(self.save_path)\n",
    "    \n",
    "cfg = CFG(\n",
    "    seed=SEED, \n",
    ")"
   ]
  },
  {
   "cell_type": "markdown",
   "id": "926936ad",
   "metadata": {
    "papermill": {
     "duration": 0.003768,
     "end_time": "2022-10-23T17:13:15.693255",
     "exception": false,
     "start_time": "2022-10-23T17:13:15.689487",
     "status": "completed"
    },
    "tags": []
   },
   "source": [
    "### **Dataset Template**"
   ]
  },
  {
   "cell_type": "code",
   "execution_count": 4,
   "id": "3c0ac620",
   "metadata": {
    "execution": {
     "iopub.execute_input": "2022-10-23T17:13:15.702118Z",
     "iopub.status.busy": "2022-10-23T17:13:15.701319Z",
     "iopub.status.idle": "2022-10-23T17:13:15.708040Z",
     "shell.execute_reply": "2022-10-23T17:13:15.707101Z"
    },
    "papermill": {
     "duration": 0.013267,
     "end_time": "2022-10-23T17:13:15.710097",
     "exception": false,
     "start_time": "2022-10-23T17:13:15.696830",
     "status": "completed"
    },
    "tags": []
   },
   "outputs": [],
   "source": [
    "class DS(Dataset):\n",
    "    def __init__(\n",
    "        self, \n",
    "        images: np.ndarray,\n",
    "        labels: Union[np.ndarray, None]=None, \n",
    "        transform=None\n",
    "    ):\n",
    "        \n",
    "        self.images = images\n",
    "        self.labels = labels\n",
    "        self.transform = transform\n",
    "    \n",
    "    def __len__(self):\n",
    "        return self.images.shape[0]\n",
    "    \n",
    "    def __getitem__(self, idx):\n",
    "        if self.labels is None:\n",
    "            return self.transform(self.images[idx])\n",
    "        return self.transform(self.images[idx]), torch.LongTensor(self.labels[idx])"
   ]
  },
  {
   "cell_type": "markdown",
   "id": "0f60746b",
   "metadata": {
    "papermill": {
     "duration": 0.003399,
     "end_time": "2022-10-23T17:13:15.717370",
     "exception": false,
     "start_time": "2022-10-23T17:13:15.713971",
     "status": "completed"
    },
    "tags": []
   },
   "source": [
    "### **Model**"
   ]
  },
  {
   "cell_type": "code",
   "execution_count": 5,
   "id": "492f1da3",
   "metadata": {
    "execution": {
     "iopub.execute_input": "2022-10-23T17:13:15.725857Z",
     "iopub.status.busy": "2022-10-23T17:13:15.725586Z",
     "iopub.status.idle": "2022-10-23T17:13:15.744881Z",
     "shell.execute_reply": "2022-10-23T17:13:15.743987Z"
    },
    "papermill": {
     "duration": 0.02592,
     "end_time": "2022-10-23T17:13:15.746829",
     "exception": false,
     "start_time": "2022-10-23T17:13:15.720909",
     "status": "completed"
    },
    "tags": []
   },
   "outputs": [],
   "source": [
    "class Model(nn.Module):\n",
    "    def __init__(self, filter_sizes: list=[64, 128, 256, 512], HLs: list=[], DP: float=None):\n",
    "\n",
    "        super(Model, self).__init__()\n",
    "\n",
    "        self.encoder = nn.Sequential()\n",
    "        self.encoder.add_module(\"CN1\", nn.Conv2d(in_channels=3, out_channels=filter_sizes[0], kernel_size=(3, 3), stride=(1, 1), padding=(1, 1)))\n",
    "        self.encoder.add_module(\"BN1\", nn.BatchNorm2d(num_features=filter_sizes[0], eps=1e-5))\n",
    "        self.encoder.add_module(\"AN1\", nn.ReLU())\n",
    "        self.encoder.add_module(\"MP1\", nn.MaxPool2d(kernel_size=(2, 2)))\n",
    "        self.encoder.add_module(\"CN2\", nn.Conv2d(in_channels=filter_sizes[0], out_channels=filter_sizes[1], kernel_size=(3, 3), stride=(1, 1), padding=(1, 1)))\n",
    "        self.encoder.add_module(\"BN2\", nn.BatchNorm2d(num_features=filter_sizes[1], eps=1e-5))\n",
    "        self.encoder.add_module(\"AN2\", nn.ReLU())\n",
    "        self.encoder.add_module(\"MP2\", nn.MaxPool2d(kernel_size=(2, 2)))\n",
    "        self.encoder.add_module(\"CN3\", nn.Conv2d(in_channels=filter_sizes[1], out_channels=filter_sizes[2], kernel_size=(3, 3), stride=(1, 1), padding=(1, 1)))\n",
    "        self.encoder.add_module(\"BN3\", nn.BatchNorm2d(num_features=filter_sizes[2], eps=1e-5))\n",
    "        self.encoder.add_module(\"AN3\", nn.ReLU())\n",
    "        self.encoder.add_module(\"MP3\", nn.MaxPool2d(kernel_size=(2, 2)))\n",
    "        self.encoder.add_module(\"CN4\", nn.Conv2d(in_channels=filter_sizes[2], out_channels=filter_sizes[3], kernel_size=(3, 3), stride=(1, 1), padding=(1, 1)))\n",
    "        self.encoder.add_module(\"BN4\", nn.BatchNorm2d(num_features=filter_sizes[3], eps=1e-5))\n",
    "        self.encoder.add_module(\"AN4\", nn.ReLU())\n",
    "        self.encoder.add_module(\"MP4\", nn.MaxPool2d(kernel_size=(2, 2)))\n",
    "\n",
    "        self.classifier = nn.Sequential()\n",
    "        if len(HLs) == 0:\n",
    "            self.classifier.add_module(\"FC1\", nn.Linear(in_features=filter_sizes[3]*2*2, out_features=5))\n",
    "        elif len(HLs) == 1:\n",
    "            self.classifier.add_module(\"FC1\", nn.Linear(in_features=filter_sizes[3]*2*2, out_features=HLs[0]))\n",
    "            self.classifier.add_module(\"AN1\", nn.ReLU())\n",
    "            if DP:\n",
    "                self.classifier.add_module(\"DP1\", nn.Dropout(p=DP))\n",
    "            self.classifier.add_module(\"FC2\", nn.Linear(in_features=HLs[0], out_features=5))\n",
    "        elif len(HLs) == 2:\n",
    "            self.classifier.add_module(\"FC1\", nn.Linear(in_features=filter_sizes[3]*2*2, out_features=HLs[0]))\n",
    "            self.classifier.add_module(\"AN1\", nn.ReLU())\n",
    "            if DP:\n",
    "                self.classifier.add_module(\"DP1\", nn.Dropout(p=DP))\n",
    "            self.classifier.add_module(\"FC2\", nn.Linear(in_features=HLs[0], out_features=HLs[1]))\n",
    "            self.classifier.add_module(\"AN2\", nn.ReLU())\n",
    "            if DP:\n",
    "                self.classifier.add_module(\"DP2\", nn.Dropout(p=DP))\n",
    "            self.classifier.add_module(\"FC3\", nn.Linear(in_features=HLs[1], out_features=5))\n",
    "    \n",
    "    def forward(self, x):\n",
    "        x = self.encoder(x)\n",
    "        x = x.view(x.shape[0], -1)\n",
    "        return nn.LogSoftmax(dim=1)(self.classifier(x))"
   ]
  },
  {
   "cell_type": "markdown",
   "id": "c1e29faa",
   "metadata": {
    "papermill": {
     "duration": 0.003728,
     "end_time": "2022-10-23T17:13:15.754222",
     "exception": false,
     "start_time": "2022-10-23T17:13:15.750494",
     "status": "completed"
    },
    "tags": []
   },
   "source": [
    "### **Fit and Predict**"
   ]
  },
  {
   "cell_type": "code",
   "execution_count": 6,
   "id": "08328dc0",
   "metadata": {
    "execution": {
     "iopub.execute_input": "2022-10-23T17:13:15.762796Z",
     "iopub.status.busy": "2022-10-23T17:13:15.762516Z",
     "iopub.status.idle": "2022-10-23T17:13:15.785668Z",
     "shell.execute_reply": "2022-10-23T17:13:15.784812Z"
    },
    "papermill": {
     "duration": 0.029906,
     "end_time": "2022-10-23T17:13:15.787734",
     "exception": false,
     "start_time": "2022-10-23T17:13:15.757828",
     "status": "completed"
    },
    "tags": []
   },
   "outputs": [],
   "source": [
    "def fit(\n",
    "    model=None,\n",
    "    optimizer=None, \n",
    "    scheduler_rlrop=None,\n",
    "    scheduler_oclr=None,\n",
    "    epochs=None, \n",
    "    early_stopping_patience=None, \n",
    "    dataloaders=None, \n",
    "    fold=None, \n",
    "    save_path=None,\n",
    "    device=None,\n",
    "    verbose=False\n",
    ") -> tuple:\n",
    "    \n",
    "    def get_accuracy(y_pred, y_true):\n",
    "        y_pred = torch.argmax(y_pred, dim=1)\n",
    "        return torch.count_nonzero(y_pred == y_true).item() / len(y_pred)\n",
    "    \n",
    "    if verbose:\n",
    "        breaker()\n",
    "        if fold: print(f\"Training Fold {fold}...\")\n",
    "        else: print(\"Training ...\")\n",
    "        breaker()\n",
    "        \n",
    "    bestLoss: dict = {\"train\" : np.inf, \"valid\" : np.inf} \n",
    "    bestAccs: dict = {\"train\" : 0.0, \"valid\" : 0.0}\n",
    "        \n",
    "    Losses: list = []\n",
    "    Accuracies: list = [] \n",
    "    LRs: list = []\n",
    "        \n",
    "    if fold: \n",
    "        ble_name = f\"ble_state_fold_{fold}.pt\"\n",
    "        bae_name = f\"bae_state_fold_{fold}.pt\"\n",
    "    else: \n",
    "        ble_name = f\"ble_state.pt\"\n",
    "        bae_name = f\"bae_state.pt\"\n",
    "    \n",
    "    start_time = time()\n",
    "    for e in range(epochs):\n",
    "        e_st = time()\n",
    "        epochLoss: dict = {\"train\" : 0.0, \"valid\" : 0.0} \n",
    "        epochAccs: dict = {\"train\" : 0.0, \"valid\" : 0.0}\n",
    "\n",
    "        for phase in [\"train\", \"valid\"]:\n",
    "            if phase == \"train\":\n",
    "                model.train()\n",
    "            else:\n",
    "                model.eval()\n",
    "            \n",
    "            lossPerPass: list = []\n",
    "            accsPerPass: list = []\n",
    "                \n",
    "            for X, y in dataloaders[phase]:\n",
    "                X, y = X.to(device), y.to(device).view(-1)\n",
    "\n",
    "                optimizer.zero_grad()\n",
    "                with torch.set_grad_enabled(phase == \"train\"):\n",
    "                    output = model(X)\n",
    "                    loss = torch.nn.NLLLoss()(output, y)\n",
    "                    if phase == \"train\":\n",
    "                        loss.backward()\n",
    "                        optimizer.step()\n",
    "                        if scheduler_oclr: scheduler_oclr.step()\n",
    "                lossPerPass.append(loss.item())\n",
    "                accsPerPass.append(get_accuracy(output, y))\n",
    "            epochLoss[phase] = np.mean(np.array(lossPerPass))\n",
    "            epochAccs[phase] = np.mean(np.array(accsPerPass))\n",
    "        if scheduler_oclr: LRs.append(scheduler_oclr.get_last_lr())\n",
    "        Losses.append(epochLoss)\n",
    "        Accuracies.append(epochAccs)\n",
    "    \n",
    "        if scheduler_oclr:\n",
    "            save_dict = {\"model_state_dict\"     : model.state_dict(),\n",
    "                         \"optim_state_dict\"     : optimizer.state_dict(),\n",
    "                         \"scheduler_state_dict\" : scheduler_oclr.state_dict()}\n",
    "        \n",
    "        elif scheduler_rlrop:\n",
    "            save_dict = {\"model_state_dict\"     : model.state_dict(),\n",
    "                         \"optim_state_dict\"     : optimizer.state_dict(),\n",
    "                         \"scheduler_state_dict\" : scheduler_rlrop.state_dict()}\n",
    "        \n",
    "        else:\n",
    "            save_dict = {\"model_state_dict\"     : model.state_dict(),\n",
    "                         \"optim_state_dict\"     : optimizer.state_dict()}\n",
    "        \n",
    "        \n",
    "        if early_stopping_patience:\n",
    "            if epochLoss[\"valid\"] < bestLoss[\"valid\"]:\n",
    "                bestLoss = epochLoss\n",
    "                BLE = e + 1\n",
    "                torch.save(save_dict, os.path.join(save_path, ble_name))\n",
    "                torch.save(save_dict, os.path.join(save_path, bae_name))\n",
    "                early_stopping_step = 0\n",
    "            else:\n",
    "                early_stopping_step += 1\n",
    "                if early_stopping_step > early_stopping_patience:\n",
    "                    print(\"\\nEarly Stopping at Epoch {}\".format(e + 1))\n",
    "                    break\n",
    "        \n",
    "        if epochLoss[\"valid\"] < bestLoss[\"valid\"]:\n",
    "            bestLoss = epochLoss\n",
    "            BLE = e + 1\n",
    "            torch.save(save_dict,os.path.join(save_path, ble_name))\n",
    "        \n",
    "        if epochAccs[\"valid\"] > bestAccs[\"valid\"]:\n",
    "            bestAccs = epochAccs\n",
    "            BAE = e + 1\n",
    "            torch.save(save_dict,os.path.join(save_path, bae_name))\n",
    "        \n",
    "        if scheduler_rlrop: scheduler_rlrop.step(epochLoss[\"valid\"])\n",
    "        \n",
    "        if verbose:\n",
    "            print(\"Epoch: {} | Train Loss: {:.5f} | Valid Loss: {:.5f} |\\\n",
    " Train Accs: {:.5f} | Valid Accs: {:.5f} | Time: {:.2f} seconds\".format(e+1, \n",
    "                                                                        epochLoss[\"train\"], epochLoss[\"valid\"], \n",
    "                                                                        epochAccs[\"train\"], epochAccs[\"valid\"], \n",
    "                                                                        time()-e_st))\n",
    "\n",
    "    if verbose:                                           \n",
    "        breaker()\n",
    "        print(f\"Best Validation Loss at Epoch {BLE}\")\n",
    "        breaker()\n",
    "        print(f\"Best Validation Accs at Epoch {BAE}\")\n",
    "        breaker()\n",
    "        print(\"Time Taken [{} Epochs] : {:.2f} minutes\".format(len(Losses), (time()-start_time)/60))\n",
    "    \n",
    "    return Losses, Accuracies, LRs, bestLoss, bestAccs, BLE, BAE, ble_name, bae_name\n",
    "\n",
    "\n",
    "def predict_batch(model=None, dataloader=None, path=None, device=None) -> np.ndarray:\n",
    "    model.load_state_dict(torch.load(path, map_location=device)[\"model_state_dict\"])\n",
    "    model.to(device)    \n",
    "    model.eval()\n",
    "    \n",
    "    y_pred = torch.zeros(1, 1).to(device)\n",
    "    \n",
    "    for X in dataloader:\n",
    "        X = X.to(device)\n",
    "        with torch.no_grad():\n",
    "            output = torch.argmax(torch.exp(model(X)), dim=1)\n",
    "        y_pred = torch.cat((y_pred, output.view(-1, 1)), dim=0)\n",
    "    \n",
    "    return y_pred[1:].detach().cpu().numpy()"
   ]
  },
  {
   "cell_type": "markdown",
   "id": "073ede2b",
   "metadata": {
    "papermill": {
     "duration": 0.003563,
     "end_time": "2022-10-23T17:13:15.795028",
     "exception": false,
     "start_time": "2022-10-23T17:13:15.791465",
     "status": "completed"
    },
    "tags": []
   },
   "source": [
    "### **Train**"
   ]
  },
  {
   "cell_type": "code",
   "execution_count": 7,
   "id": "fe523568",
   "metadata": {
    "execution": {
     "iopub.execute_input": "2022-10-23T17:13:15.803819Z",
     "iopub.status.busy": "2022-10-23T17:13:15.803092Z",
     "iopub.status.idle": "2022-10-23T17:13:16.889922Z",
     "shell.execute_reply": "2022-10-23T17:13:16.888927Z"
    },
    "papermill": {
     "duration": 1.094053,
     "end_time": "2022-10-23T17:13:16.892732",
     "exception": false,
     "start_time": "2022-10-23T17:13:15.798679",
     "status": "completed"
    },
    "tags": []
   },
   "outputs": [],
   "source": [
    "images = np.load(\"../input/icc-ml-2022a/file/taskA/supplement/train_data_A.npy\")\n",
    "labels = np.load(\"../input/icc-ml-2022a/file/taskA/supplement/train_label_A.npy\")"
   ]
  },
  {
   "cell_type": "code",
   "execution_count": 8,
   "id": "bd8a58e1",
   "metadata": {
    "execution": {
     "iopub.execute_input": "2022-10-23T17:13:16.904334Z",
     "iopub.status.busy": "2022-10-23T17:13:16.903961Z",
     "iopub.status.idle": "2022-10-23T17:47:06.630904Z",
     "shell.execute_reply": "2022-10-23T17:47:06.629737Z"
    },
    "papermill": {
     "duration": 2029.734513,
     "end_time": "2022-10-23T17:47:06.633042",
     "exception": false,
     "start_time": "2022-10-23T17:13:16.898529",
     "status": "completed"
    },
    "tags": []
   },
   "outputs": [
    {
     "name": "stdout",
     "output_type": "stream",
     "text": [
      "\n",
      "**************************************************\n",
      "\n",
      "Training Fold 1...\n",
      "\n",
      "**************************************************\n",
      "\n",
      "Epoch: 1 | Train Loss: 1.33233 | Valid Loss: 1.02068 | Train Accs: 0.42911 | Valid Accs: 0.58525 | Time: 22.80 seconds\n",
      "Epoch: 2 | Train Loss: 1.14409 | Valid Loss: 0.97707 | Train Accs: 0.52566 | Valid Accs: 0.59771 | Time: 16.29 seconds\n",
      "Epoch: 3 | Train Loss: 1.07387 | Valid Loss: 0.93548 | Train Accs: 0.56015 | Valid Accs: 0.61234 | Time: 16.97 seconds\n",
      "Epoch: 4 | Train Loss: 1.00759 | Valid Loss: 0.93132 | Train Accs: 0.59864 | Valid Accs: 0.63528 | Time: 16.29 seconds\n",
      "Epoch: 5 | Train Loss: 0.96162 | Valid Loss: 0.88171 | Train Accs: 0.61482 | Valid Accs: 0.64854 | Time: 16.49 seconds\n",
      "Epoch: 6 | Train Loss: 0.90038 | Valid Loss: 0.80568 | Train Accs: 0.64502 | Valid Accs: 0.68710 | Time: 16.27 seconds\n",
      "Epoch: 7 | Train Loss: 0.86140 | Valid Loss: 0.70365 | Train Accs: 0.66673 | Valid Accs: 0.73556 | Time: 16.56 seconds\n",
      "Epoch: 8 | Train Loss: 0.83520 | Valid Loss: 0.67666 | Train Accs: 0.67018 | Valid Accs: 0.74604 | Time: 16.50 seconds\n",
      "Epoch: 9 | Train Loss: 0.80436 | Valid Loss: 0.67226 | Train Accs: 0.68970 | Valid Accs: 0.74486 | Time: 16.34 seconds\n",
      "Epoch: 10 | Train Loss: 0.78737 | Valid Loss: 0.62007 | Train Accs: 0.69514 | Valid Accs: 0.76404 | Time: 16.20 seconds\n",
      "Epoch: 11 | Train Loss: 0.76436 | Valid Loss: 0.58687 | Train Accs: 0.70697 | Valid Accs: 0.78204 | Time: 16.64 seconds\n",
      "Epoch: 12 | Train Loss: 0.74230 | Valid Loss: 0.58464 | Train Accs: 0.71526 | Valid Accs: 0.78481 | Time: 15.96 seconds\n",
      "Epoch: 13 | Train Loss: 0.71701 | Valid Loss: 0.60108 | Train Accs: 0.72389 | Valid Accs: 0.77907 | Time: 16.36 seconds\n",
      "Epoch: 14 | Train Loss: 0.69506 | Valid Loss: 0.57568 | Train Accs: 0.73717 | Valid Accs: 0.79213 | Time: 16.50 seconds\n",
      "Epoch: 15 | Train Loss: 0.68337 | Valid Loss: 0.50716 | Train Accs: 0.74126 | Valid Accs: 0.81388 | Time: 16.79 seconds\n",
      "Epoch: 16 | Train Loss: 0.66251 | Valid Loss: 0.54406 | Train Accs: 0.75065 | Valid Accs: 0.79509 | Time: 15.70 seconds\n",
      "Epoch: 17 | Train Loss: 0.64035 | Valid Loss: 0.46855 | Train Accs: 0.76118 | Valid Accs: 0.82575 | Time: 17.04 seconds\n",
      "Epoch: 18 | Train Loss: 0.62378 | Valid Loss: 0.48878 | Train Accs: 0.76782 | Valid Accs: 0.82358 | Time: 15.98 seconds\n",
      "Epoch: 19 | Train Loss: 0.60826 | Valid Loss: 0.45142 | Train Accs: 0.77281 | Valid Accs: 0.83327 | Time: 16.84 seconds\n",
      "Epoch: 20 | Train Loss: 0.59666 | Valid Loss: 0.43956 | Train Accs: 0.77671 | Valid Accs: 0.84098 | Time: 16.14 seconds\n",
      "Epoch: 21 | Train Loss: 0.57409 | Valid Loss: 0.42556 | Train Accs: 0.78744 | Valid Accs: 0.84771 | Time: 16.80 seconds\n",
      "Epoch: 22 | Train Loss: 0.56105 | Valid Loss: 0.42501 | Train Accs: 0.79078 | Valid Accs: 0.84355 | Time: 16.31 seconds\n",
      "Epoch: 23 | Train Loss: 0.55152 | Valid Loss: 0.41715 | Train Accs: 0.79683 | Valid Accs: 0.84454 | Time: 16.53 seconds\n",
      "Epoch: 24 | Train Loss: 0.54338 | Valid Loss: 0.41567 | Train Accs: 0.80217 | Valid Accs: 0.85067 | Time: 16.60 seconds\n",
      "Epoch: 25 | Train Loss: 0.54713 | Valid Loss: 0.41433 | Train Accs: 0.79707 | Valid Accs: 0.84830 | Time: 16.17 seconds\n",
      "\n",
      "**************************************************\n",
      "\n",
      "Best Validation Loss at Epoch 25\n",
      "\n",
      "**************************************************\n",
      "\n",
      "Best Validation Accs at Epoch 24\n",
      "\n",
      "**************************************************\n",
      "\n",
      "Time Taken [25 Epochs] : 6.95 minutes\n",
      "\n",
      "**************************************************\n",
      "\n"
     ]
    },
    {
     "data": {
      "image/png": "[encoded data removed]",
      "text/plain": [
       "<Figure size 432x288 with 1 Axes>"
      ]
     },
     "metadata": {
      "needs_background": "light"
     },
     "output_type": "display_data"
    },
    {
     "name": "stdout",
     "output_type": "stream",
     "text": [
      "\n",
      "**************************************************\n",
      "\n"
     ]
    },
    {
     "data": {
      "image/png": "[encoded data removed]",
      "text/plain": [
       "<Figure size 432x288 with 1 Axes>"
      ]
     },
     "metadata": {
      "needs_background": "light"
     },
     "output_type": "display_data"
    },
    {
     "name": "stdout",
     "output_type": "stream",
     "text": [
      "\n",
      "**************************************************\n",
      "\n"
     ]
    },
    {
     "data": {
      "image/png": "[encoded data removed]",
      "text/plain": [
       "<Figure size 576x432 with 1 Axes>"
      ]
     },
     "metadata": {
      "needs_background": "light"
     },
     "output_type": "display_data"
    },
    {
     "name": "stdout",
     "output_type": "stream",
     "text": [
      "\n",
      "**************************************************\n",
      "\n",
      "\n",
      "**************************************************\n",
      "\n",
      "Training Fold 2...\n",
      "\n",
      "**************************************************\n",
      "\n",
      "Epoch: 1 | Train Loss: 1.33827 | Valid Loss: 1.04882 | Train Accs: 0.42307 | Valid Accs: 0.59335 | Time: 16.32 seconds\n",
      "Epoch: 2 | Train Loss: 1.14312 | Valid Loss: 1.03371 | Train Accs: 0.52875 | Valid Accs: 0.58109 | Time: 16.07 seconds\n",
      "Epoch: 3 | Train Loss: 1.07366 | Valid Loss: 0.87403 | Train Accs: 0.56260 | Valid Accs: 0.66199 | Time: 16.42 seconds\n",
      "Epoch: 4 | Train Loss: 1.01044 | Valid Loss: 0.75520 | Train Accs: 0.59430 | Valid Accs: 0.71064 | Time: 16.18 seconds\n",
      "Epoch: 5 | Train Loss: 0.96636 | Valid Loss: 0.74555 | Train Accs: 0.61427 | Valid Accs: 0.72508 | Time: 16.63 seconds\n",
      "Epoch: 6 | Train Loss: 0.90889 | Valid Loss: 0.82219 | Train Accs: 0.64177 | Valid Accs: 0.67563 | Time: 15.93 seconds\n",
      "Epoch: 7 | Train Loss: 0.86553 | Valid Loss: 0.66817 | Train Accs: 0.66059 | Valid Accs: 0.75040 | Time: 16.55 seconds\n",
      "Epoch: 8 | Train Loss: 0.83800 | Valid Loss: 0.64173 | Train Accs: 0.67277 | Valid Accs: 0.76028 | Time: 16.27 seconds\n",
      "Epoch: 9 | Train Loss: 0.81430 | Valid Loss: 0.60366 | Train Accs: 0.68401 | Valid Accs: 0.77255 | Time: 16.89 seconds\n",
      "Epoch: 10 | Train Loss: 0.78671 | Valid Loss: 0.57888 | Train Accs: 0.69963 | Valid Accs: 0.78619 | Time: 16.69 seconds\n",
      "Epoch: 11 | Train Loss: 0.75519 | Valid Loss: 0.52103 | Train Accs: 0.70767 | Valid Accs: 0.81606 | Time: 16.65 seconds\n",
      "Epoch: 12 | Train Loss: 0.73115 | Valid Loss: 0.53185 | Train Accs: 0.71531 | Valid Accs: 0.79747 | Time: 16.27 seconds\n",
      "Epoch: 13 | Train Loss: 0.71767 | Valid Loss: 0.51680 | Train Accs: 0.72639 | Valid Accs: 0.81092 | Time: 16.55 seconds\n",
      "Epoch: 14 | Train Loss: 0.69251 | Valid Loss: 0.51300 | Train Accs: 0.73517 | Valid Accs: 0.81072 | Time: 16.43 seconds\n",
      "Epoch: 15 | Train Loss: 0.68386 | Valid Loss: 0.49641 | Train Accs: 0.73972 | Valid Accs: 0.81804 | Time: 16.74 seconds\n",
      "Epoch: 16 | Train Loss: 0.65914 | Valid Loss: 0.52298 | Train Accs: 0.75170 | Valid Accs: 0.80657 | Time: 16.37 seconds\n",
      "Epoch: 17 | Train Loss: 0.64633 | Valid Loss: 0.45775 | Train Accs: 0.75764 | Valid Accs: 0.82931 | Time: 16.72 seconds\n",
      "Epoch: 18 | Train Loss: 0.62417 | Valid Loss: 0.43033 | Train Accs: 0.76223 | Valid Accs: 0.83881 | Time: 16.39 seconds\n",
      "Epoch: 19 | Train Loss: 0.61473 | Valid Loss: 0.42525 | Train Accs: 0.76812 | Valid Accs: 0.85107 | Time: 16.64 seconds\n",
      "Epoch: 20 | Train Loss: 0.59024 | Valid Loss: 0.42952 | Train Accs: 0.77890 | Valid Accs: 0.84395 | Time: 16.54 seconds\n",
      "Epoch: 21 | Train Loss: 0.57596 | Valid Loss: 0.39889 | Train Accs: 0.78350 | Valid Accs: 0.85285 | Time: 16.29 seconds\n",
      "Epoch: 22 | Train Loss: 0.56925 | Valid Loss: 0.39455 | Train Accs: 0.78914 | Valid Accs: 0.85977 | Time: 17.08 seconds\n",
      "Epoch: 23 | Train Loss: 0.55597 | Valid Loss: 0.38822 | Train Accs: 0.79343 | Valid Accs: 0.86056 | Time: 16.11 seconds\n",
      "Epoch: 24 | Train Loss: 0.54728 | Valid Loss: 0.38664 | Train Accs: 0.79757 | Valid Accs: 0.86353 | Time: 16.57 seconds\n",
      "Epoch: 25 | Train Loss: 0.54262 | Valid Loss: 0.38751 | Train Accs: 0.79802 | Valid Accs: 0.86254 | Time: 15.60 seconds\n",
      "\n",
      "**************************************************\n",
      "\n",
      "Best Validation Loss at Epoch 24\n",
      "\n",
      "**************************************************\n",
      "\n",
      "Best Validation Accs at Epoch 24\n",
      "\n",
      "**************************************************\n",
      "\n",
      "Time Taken [25 Epochs] : 6.85 minutes\n",
      "\n",
      "**************************************************\n",
      "\n"
     ]
    },
    {
     "data": {
      "image/png": "[encoded data removed]",
      "text/plain": [
       "<Figure size 432x288 with 1 Axes>"
      ]
     },
     "metadata": {
      "needs_background": "light"
     },
     "output_type": "display_data"
    },
    {
     "name": "stdout",
     "output_type": "stream",
     "text": [
      "\n",
      "**************************************************\n",
      "\n"
     ]
    },
    {
     "data": {
      "image/png": "[encoded data removed]",
      "text/plain": [
       "<Figure size 432x288 with 1 Axes>"
      ]
     },
     "metadata": {
      "needs_background": "light"
     },
     "output_type": "display_data"
    },
    {
     "name": "stdout",
     "output_type": "stream",
     "text": [
      "\n",
      "**************************************************\n",
      "\n"
     ]
    },
    {
     "data": {
      "image/png": "[encoded data removed]",
      "text/plain": [
       "<Figure size 576x432 with 1 Axes>"
      ]
     },
     "metadata": {
      "needs_background": "light"
     },
     "output_type": "display_data"
    },
    {
     "name": "stdout",
     "output_type": "stream",
     "text": [
      "\n",
      "**************************************************\n",
      "\n",
      "\n",
      "**************************************************\n",
      "\n",
      "Training Fold 3...\n",
      "\n",
      "**************************************************\n",
      "\n",
      "Epoch: 1 | Train Loss: 1.33773 | Valid Loss: 1.01769 | Train Accs: 0.42402 | Valid Accs: 0.58940 | Time: 16.85 seconds\n",
      "Epoch: 2 | Train Loss: 1.15227 | Valid Loss: 1.04644 | Train Accs: 0.52261 | Valid Accs: 0.54272 | Time: 15.77 seconds\n",
      "Epoch: 3 | Train Loss: 1.08348 | Valid Loss: 0.89051 | Train Accs: 0.55965 | Valid Accs: 0.61986 | Time: 16.57 seconds\n",
      "Epoch: 4 | Train Loss: 1.02019 | Valid Loss: 0.96137 | Train Accs: 0.59046 | Valid Accs: 0.61452 | Time: 15.94 seconds\n",
      "Epoch: 5 | Train Loss: 0.96340 | Valid Loss: 0.78872 | Train Accs: 0.61766 | Valid Accs: 0.69521 | Time: 17.01 seconds\n",
      "Epoch: 6 | Train Loss: 0.91031 | Valid Loss: 0.64185 | Train Accs: 0.63858 | Valid Accs: 0.75218 | Time: 15.85 seconds\n",
      "Epoch: 7 | Train Loss: 0.87406 | Valid Loss: 0.66398 | Train Accs: 0.65590 | Valid Accs: 0.74011 | Time: 16.21 seconds\n",
      "Epoch: 8 | Train Loss: 0.83685 | Valid Loss: 0.66385 | Train Accs: 0.67487 | Valid Accs: 0.74268 | Time: 15.64 seconds\n",
      "Epoch: 9 | Train Loss: 0.81184 | Valid Loss: 0.64145 | Train Accs: 0.68500 | Valid Accs: 0.76028 | Time: 16.42 seconds\n",
      "Epoch: 10 | Train Loss: 0.78442 | Valid Loss: 0.55957 | Train Accs: 0.69753 | Valid Accs: 0.78936 | Time: 15.72 seconds\n",
      "Epoch: 11 | Train Loss: 0.75815 | Valid Loss: 0.53429 | Train Accs: 0.70632 | Valid Accs: 0.80123 | Time: 16.40 seconds\n",
      "Epoch: 12 | Train Loss: 0.75062 | Valid Loss: 0.57100 | Train Accs: 0.71051 | Valid Accs: 0.79549 | Time: 16.00 seconds\n",
      "Epoch: 13 | Train Loss: 0.71416 | Valid Loss: 0.51197 | Train Accs: 0.72988 | Valid Accs: 0.81487 | Time: 16.57 seconds\n",
      "Epoch: 14 | Train Loss: 0.70429 | Valid Loss: 0.50702 | Train Accs: 0.73318 | Valid Accs: 0.80953 | Time: 15.54 seconds\n",
      "Epoch: 15 | Train Loss: 0.68409 | Valid Loss: 0.51588 | Train Accs: 0.73902 | Valid Accs: 0.81092 | Time: 16.00 seconds\n",
      "Epoch: 16 | Train Loss: 0.66891 | Valid Loss: 0.45603 | Train Accs: 0.74740 | Valid Accs: 0.84177 | Time: 16.18 seconds\n",
      "Epoch: 17 | Train Loss: 0.64924 | Valid Loss: 0.44687 | Train Accs: 0.75719 | Valid Accs: 0.84415 | Time: 16.41 seconds\n",
      "Epoch: 18 | Train Loss: 0.62722 | Valid Loss: 0.41940 | Train Accs: 0.76538 | Valid Accs: 0.84929 | Time: 16.03 seconds\n",
      "Epoch: 19 | Train Loss: 0.61965 | Valid Loss: 0.43623 | Train Accs: 0.76787 | Valid Accs: 0.85028 | Time: 16.04 seconds\n",
      "Epoch: 20 | Train Loss: 0.60255 | Valid Loss: 0.39895 | Train Accs: 0.77376 | Valid Accs: 0.86373 | Time: 15.90 seconds\n",
      "Epoch: 21 | Train Loss: 0.58074 | Valid Loss: 0.38818 | Train Accs: 0.78140 | Valid Accs: 0.86214 | Time: 16.26 seconds\n",
      "Epoch: 22 | Train Loss: 0.56828 | Valid Loss: 0.39717 | Train Accs: 0.78854 | Valid Accs: 0.86195 | Time: 15.70 seconds\n",
      "Epoch: 23 | Train Loss: 0.55899 | Valid Loss: 0.39758 | Train Accs: 0.79088 | Valid Accs: 0.85918 | Time: 15.76 seconds\n",
      "Epoch: 24 | Train Loss: 0.55450 | Valid Loss: 0.38489 | Train Accs: 0.79528 | Valid Accs: 0.86748 | Time: 15.82 seconds\n",
      "Epoch: 25 | Train Loss: 0.54810 | Valid Loss: 0.38753 | Train Accs: 0.79563 | Valid Accs: 0.86590 | Time: 15.88 seconds\n",
      "\n",
      "**************************************************\n",
      "\n",
      "Best Validation Loss at Epoch 24\n",
      "\n",
      "**************************************************\n",
      "\n",
      "Best Validation Accs at Epoch 24\n",
      "\n",
      "**************************************************\n",
      "\n",
      "Time Taken [25 Epochs] : 6.71 minutes\n",
      "\n",
      "**************************************************\n",
      "\n"
     ]
    },
    {
     "data": {
      "image/png": "[encoded data removed]",
      "text/plain": [
       "<Figure size 432x288 with 1 Axes>"
      ]
     },
     "metadata": {
      "needs_background": "light"
     },
     "output_type": "display_data"
    },
    {
     "name": "stdout",
     "output_type": "stream",
     "text": [
      "\n",
      "**************************************************\n",
      "\n"
     ]
    },
    {
     "data": {
      "image/png": "[encoded data removed]",
      "text/plain": [
       "<Figure size 432x288 with 1 Axes>"
      ]
     },
     "metadata": {
      "needs_background": "light"
     },
     "output_type": "display_data"
    },
    {
     "name": "stdout",
     "output_type": "stream",
     "text": [
      "\n",
      "**************************************************\n",
      "\n"
     ]
    },
    {
     "data": {
      "image/png": "[encoded data removed]",
      "text/plain": [
       "<Figure size 576x432 with 1 Axes>"
      ]
     },
     "metadata": {
      "needs_background": "light"
     },
     "output_type": "display_data"
    },
    {
     "name": "stdout",
     "output_type": "stream",
     "text": [
      "\n",
      "**************************************************\n",
      "\n",
      "\n",
      "**************************************************\n",
      "\n",
      "Training Fold 4...\n",
      "\n",
      "**************************************************\n",
      "\n",
      "Epoch: 1 | Train Loss: 1.33037 | Valid Loss: 1.03140 | Train Accs: 0.42307 | Valid Accs: 0.56764 | Time: 15.44 seconds\n",
      "Epoch: 2 | Train Loss: 1.15560 | Valid Loss: 0.96989 | Train Accs: 0.52366 | Valid Accs: 0.61333 | Time: 16.25 seconds\n",
      "Epoch: 3 | Train Loss: 1.07464 | Valid Loss: 0.91015 | Train Accs: 0.56045 | Valid Accs: 0.65625 | Time: 15.75 seconds\n",
      "Epoch: 4 | Train Loss: 1.00584 | Valid Loss: 0.83292 | Train Accs: 0.59919 | Valid Accs: 0.68473 | Time: 16.32 seconds\n",
      "Epoch: 5 | Train Loss: 0.94942 | Valid Loss: 0.72215 | Train Accs: 0.62565 | Valid Accs: 0.73220 | Time: 15.62 seconds\n",
      "Epoch: 6 | Train Loss: 0.90470 | Valid Loss: 0.64890 | Train Accs: 0.64821 | Valid Accs: 0.75237 | Time: 16.67 seconds\n",
      "Epoch: 7 | Train Loss: 0.85902 | Valid Loss: 0.75795 | Train Accs: 0.66818 | Valid Accs: 0.72013 | Time: 15.69 seconds\n",
      "Epoch: 8 | Train Loss: 0.84238 | Valid Loss: 0.63232 | Train Accs: 0.67422 | Valid Accs: 0.76404 | Time: 16.02 seconds\n",
      "Epoch: 9 | Train Loss: 0.80243 | Valid Loss: 0.72612 | Train Accs: 0.68990 | Valid Accs: 0.72211 | Time: 15.62 seconds\n",
      "Epoch: 10 | Train Loss: 0.78041 | Valid Loss: 0.60408 | Train Accs: 0.70068 | Valid Accs: 0.77631 | Time: 16.25 seconds\n",
      "Epoch: 11 | Train Loss: 0.75192 | Valid Loss: 0.63121 | Train Accs: 0.71016 | Valid Accs: 0.76048 | Time: 15.76 seconds\n",
      "Epoch: 12 | Train Loss: 0.74250 | Valid Loss: 0.56808 | Train Accs: 0.71645 | Valid Accs: 0.79035 | Time: 15.65 seconds\n",
      "Epoch: 13 | Train Loss: 0.72360 | Valid Loss: 0.55013 | Train Accs: 0.72494 | Valid Accs: 0.80024 | Time: 16.23 seconds\n",
      "Epoch: 14 | Train Loss: 0.69703 | Valid Loss: 0.49671 | Train Accs: 0.73627 | Valid Accs: 0.82377 | Time: 15.73 seconds\n",
      "Epoch: 15 | Train Loss: 0.67840 | Valid Loss: 0.51767 | Train Accs: 0.74336 | Valid Accs: 0.80914 | Time: 15.72 seconds\n",
      "Epoch: 16 | Train Loss: 0.66844 | Valid Loss: 0.52626 | Train Accs: 0.74855 | Valid Accs: 0.80558 | Time: 15.52 seconds\n",
      "Epoch: 17 | Train Loss: 0.64506 | Valid Loss: 0.45298 | Train Accs: 0.75909 | Valid Accs: 0.83940 | Time: 16.19 seconds\n",
      "Epoch: 18 | Train Loss: 0.63059 | Valid Loss: 0.47993 | Train Accs: 0.76587 | Valid Accs: 0.83327 | Time: 15.56 seconds\n",
      "Epoch: 19 | Train Loss: 0.60786 | Valid Loss: 0.43385 | Train Accs: 0.77276 | Valid Accs: 0.84197 | Time: 15.95 seconds\n",
      "Epoch: 20 | Train Loss: 0.58684 | Valid Loss: 0.44246 | Train Accs: 0.78090 | Valid Accs: 0.83920 | Time: 15.60 seconds\n",
      "Epoch: 21 | Train Loss: 0.56749 | Valid Loss: 0.41559 | Train Accs: 0.79103 | Valid Accs: 0.85483 | Time: 16.14 seconds\n",
      "Epoch: 22 | Train Loss: 0.56552 | Valid Loss: 0.41890 | Train Accs: 0.78569 | Valid Accs: 0.85166 | Time: 15.65 seconds\n",
      "Epoch: 23 | Train Loss: 0.54823 | Valid Loss: 0.40757 | Train Accs: 0.79513 | Valid Accs: 0.85522 | Time: 15.98 seconds\n",
      "Epoch: 24 | Train Loss: 0.54425 | Valid Loss: 0.40552 | Train Accs: 0.79947 | Valid Accs: 0.85779 | Time: 15.81 seconds\n",
      "Epoch: 25 | Train Loss: 0.54739 | Valid Loss: 0.40578 | Train Accs: 0.79673 | Valid Accs: 0.85601 | Time: 15.92 seconds\n",
      "\n",
      "**************************************************\n",
      "\n",
      "Best Validation Loss at Epoch 24\n",
      "\n",
      "**************************************************\n",
      "\n",
      "Best Validation Accs at Epoch 24\n",
      "\n",
      "**************************************************\n",
      "\n",
      "Time Taken [25 Epochs] : 6.62 minutes\n",
      "\n",
      "**************************************************\n",
      "\n"
     ]
    },
    {
     "data": {
      "image/png": "[encoded data removed]",
      "text/plain": [
       "<Figure size 432x288 with 1 Axes>"
      ]
     },
     "metadata": {
      "needs_background": "light"
     },
     "output_type": "display_data"
    },
    {
     "name": "stdout",
     "output_type": "stream",
     "text": [
      "\n",
      "**************************************************\n",
      "\n"
     ]
    },
    {
     "data": {
      "image/png": "[encoded data removed]",
      "text/plain": [
       "<Figure size 432x288 with 1 Axes>"
      ]
     },
     "metadata": {
      "needs_background": "light"
     },
     "output_type": "display_data"
    },
    {
     "name": "stdout",
     "output_type": "stream",
     "text": [
      "\n",
      "**************************************************\n",
      "\n"
     ]
    },
    {
     "data": {
      "image/png": "[encoded data removed]",
      "text/plain": [
       "<Figure size 576x432 with 1 Axes>"
      ]
     },
     "metadata": {
      "needs_background": "light"
     },
     "output_type": "display_data"
    },
    {
     "name": "stdout",
     "output_type": "stream",
     "text": [
      "\n",
      "**************************************************\n",
      "\n",
      "\n",
      "**************************************************\n",
      "\n",
      "Training Fold 5...\n",
      "\n",
      "**************************************************\n",
      "\n",
      "Epoch: 1 | Train Loss: 1.33528 | Valid Loss: 1.02608 | Train Accs: 0.42497 | Valid Accs: 0.56626 | Time: 15.76 seconds\n",
      "Epoch: 2 | Train Loss: 1.14519 | Valid Loss: 1.04033 | Train Accs: 0.52776 | Valid Accs: 0.57654 | Time: 15.78 seconds\n",
      "Epoch: 3 | Train Loss: 1.08295 | Valid Loss: 0.79720 | Train Accs: 0.55950 | Valid Accs: 0.69462 | Time: 15.57 seconds\n",
      "Epoch: 4 | Train Loss: 1.01609 | Valid Loss: 0.81049 | Train Accs: 0.59420 | Valid Accs: 0.68078 | Time: 15.95 seconds\n",
      "Epoch: 5 | Train Loss: 0.96835 | Valid Loss: 0.78141 | Train Accs: 0.61751 | Valid Accs: 0.70055 | Time: 15.62 seconds\n",
      "Epoch: 6 | Train Loss: 0.90970 | Valid Loss: 0.67804 | Train Accs: 0.64122 | Valid Accs: 0.73596 | Time: 16.51 seconds\n",
      "Epoch: 7 | Train Loss: 0.86602 | Valid Loss: 0.64895 | Train Accs: 0.66224 | Valid Accs: 0.74466 | Time: 15.46 seconds\n",
      "Epoch: 8 | Train Loss: 0.84257 | Valid Loss: 0.71830 | Train Accs: 0.67053 | Valid Accs: 0.72251 | Time: 15.91 seconds\n",
      "Epoch: 9 | Train Loss: 0.80138 | Valid Loss: 0.61040 | Train Accs: 0.69304 | Valid Accs: 0.77967 | Time: 15.54 seconds\n",
      "Epoch: 10 | Train Loss: 0.78388 | Valid Loss: 0.61528 | Train Accs: 0.69998 | Valid Accs: 0.76622 | Time: 16.13 seconds\n",
      "Epoch: 11 | Train Loss: 0.75665 | Valid Loss: 0.57519 | Train Accs: 0.71086 | Valid Accs: 0.78441 | Time: 15.51 seconds\n",
      "Epoch: 12 | Train Loss: 0.74042 | Valid Loss: 0.61291 | Train Accs: 0.72239 | Valid Accs: 0.76721 | Time: 16.04 seconds\n",
      "Epoch: 13 | Train Loss: 0.71877 | Valid Loss: 0.53309 | Train Accs: 0.72534 | Valid Accs: 0.80360 | Time: 15.69 seconds\n",
      "Epoch: 14 | Train Loss: 0.69827 | Valid Loss: 0.47685 | Train Accs: 0.73572 | Valid Accs: 0.82397 | Time: 16.09 seconds\n",
      "Epoch: 15 | Train Loss: 0.68093 | Valid Loss: 0.51118 | Train Accs: 0.74176 | Valid Accs: 0.81665 | Time: 15.53 seconds\n",
      "Epoch: 16 | Train Loss: 0.65858 | Valid Loss: 0.50626 | Train Accs: 0.75255 | Valid Accs: 0.81527 | Time: 15.92 seconds\n",
      "Epoch: 17 | Train Loss: 0.63684 | Valid Loss: 0.48156 | Train Accs: 0.76218 | Valid Accs: 0.82911 | Time: 15.55 seconds\n",
      "Epoch: 18 | Train Loss: 0.62471 | Valid Loss: 0.47352 | Train Accs: 0.76293 | Valid Accs: 0.82852 | Time: 16.09 seconds\n",
      "Epoch: 19 | Train Loss: 0.61289 | Valid Loss: 0.44232 | Train Accs: 0.77032 | Valid Accs: 0.84098 | Time: 16.06 seconds\n",
      "Epoch: 20 | Train Loss: 0.59079 | Valid Loss: 0.43330 | Train Accs: 0.78125 | Valid Accs: 0.84553 | Time: 16.11 seconds\n",
      "Epoch: 21 | Train Loss: 0.57646 | Valid Loss: 0.41711 | Train Accs: 0.78569 | Valid Accs: 0.85028 | Time: 15.52 seconds\n",
      "Epoch: 22 | Train Loss: 0.55967 | Valid Loss: 0.41396 | Train Accs: 0.78759 | Valid Accs: 0.85285 | Time: 16.36 seconds\n",
      "Epoch: 23 | Train Loss: 0.55040 | Valid Loss: 0.40876 | Train Accs: 0.79598 | Valid Accs: 0.85443 | Time: 15.46 seconds\n",
      "Epoch: 24 | Train Loss: 0.54372 | Valid Loss: 0.40778 | Train Accs: 0.80222 | Valid Accs: 0.85403 | Time: 16.23 seconds\n",
      "Epoch: 25 | Train Loss: 0.54397 | Valid Loss: 0.40539 | Train Accs: 0.79787 | Valid Accs: 0.85463 | Time: 15.67 seconds\n",
      "\n",
      "**************************************************\n",
      "\n",
      "Best Validation Loss at Epoch 25\n",
      "\n",
      "**************************************************\n",
      "\n",
      "Best Validation Accs at Epoch 25\n",
      "\n",
      "**************************************************\n",
      "\n",
      "Time Taken [25 Epochs] : 6.60 minutes\n",
      "\n",
      "**************************************************\n",
      "\n"
     ]
    },
    {
     "data": {
      "image/png": "[encoded data removed]",
      "text/plain": [
       "<Figure size 432x288 with 1 Axes>"
      ]
     },
     "metadata": {
      "needs_background": "light"
     },
     "output_type": "display_data"
    },
    {
     "name": "stdout",
     "output_type": "stream",
     "text": [
      "\n",
      "**************************************************\n",
      "\n"
     ]
    },
    {
     "data": {
      "image/png": "[encoded data removed]",
      "text/plain": [
       "<Figure size 432x288 with 1 Axes>"
      ]
     },
     "metadata": {
      "needs_background": "light"
     },
     "output_type": "display_data"
    },
    {
     "name": "stdout",
     "output_type": "stream",
     "text": [
      "\n",
      "**************************************************\n",
      "\n"
     ]
    },
    {
     "data": {
      "image/png": "[encoded data removed]",
      "text/plain": [
       "<Figure size 576x432 with 1 Axes>"
      ]
     },
     "metadata": {
      "needs_background": "light"
     },
     "output_type": "display_data"
    },
    {
     "name": "stdout",
     "output_type": "stream",
     "text": [
      "\n",
      "**************************************************\n",
      "\n"
     ]
    }
   ],
   "source": [
    "fold: int = 1\n",
    "BLs: list = []\n",
    "BAs: list = []\n",
    "\n",
    "# # Test \n",
    "# cfg.epochs = 2\n",
    "# cfg.n_splits = 3\n",
    "\n",
    "cfg.batch_size = 64\n",
    "    \n",
    "for tr_idx, va_idx in StratifiedKFold(n_splits=cfg.n_splits, random_state=cfg.seed, shuffle=True).split(images, labels):\n",
    "\n",
    "    tr_images, va_images = images[tr_idx], images[va_idx] \n",
    "    tr_labels, va_labels = labels[tr_idx], labels[va_idx]\n",
    "    \n",
    "    tr_data_setup = DS(\n",
    "        images=tr_images, \n",
    "        labels=tr_labels.reshape(-1, 1),\n",
    "        transform=cfg.train_transform\n",
    "    )\n",
    "    \n",
    "    va_data_setup = DS(\n",
    "        images=va_images, \n",
    "        labels=va_labels.reshape(-1, 1),\n",
    "        transform=cfg.valid_transform\n",
    "    )\n",
    "\n",
    "    dataloaders = {\n",
    "        \"train\" : DL(tr_data_setup, batch_size=cfg.batch_size, shuffle=True, generator=torch.manual_seed(cfg.seed)),\n",
    "        \"valid\" : DL(va_data_setup, batch_size=cfg.batch_size, shuffle=False),\n",
    "    }\n",
    "\n",
    "    cfg.steps_per_epoch = len(dataloaders[\"train\"])\n",
    "    \n",
    "    torch.manual_seed(cfg.seed)\n",
    "    model = Model(filter_sizes=[64, 128, 256, 512], HLs=[1024]).to(cfg.device)\n",
    "\n",
    "    optimizer = optim.Adam([p for p in model.parameters() if p.requires_grad], lr=cfg.lr, weight_decay=cfg.wd)\n",
    "    # optimizer = optim.AdamW([p for p in model.parameters() if p.requires_grad], lr=cfg.lr, weight_decay=cfg.wd)\n",
    "    # optimizer = optim.SGD([p for p in model.parameters() if p.requires_grad], lr=cfg.lr, weight_decay=cfg.wd, momentum=0.9)\n",
    "    \n",
    "    scheduler_oclr = optim.lr_scheduler.OneCycleLR(\n",
    "        optimizer=optimizer, \n",
    "        max_lr=cfg.max_lr, \n",
    "        epochs=cfg.epochs, \n",
    "        steps_per_epoch=cfg.steps_per_epoch,\n",
    "        pct_start=cfg.pct_start, \n",
    "        div_factor=cfg.div_factor, \n",
    "        final_div_factor=cfg.final_div_factor\n",
    "    )\n",
    "\n",
    "    # scheduler_rlrop = optim.lr_scheduler.ReduceLROnPlateau(\n",
    "    #     optimizer=optimizer,\n",
    "    #     patience=cfg.patience,\n",
    "    #     eps=cfg.eps,\n",
    "    #     verbose=True\n",
    "    # )\n",
    "\n",
    "    # scheduler_oclr = None\n",
    "    scheduler_rlrop = None\n",
    "    \n",
    "    L, A, LR, BL, BA, _, _, _, _ = fit(\n",
    "        model=model, \n",
    "        optimizer=optimizer, \n",
    "        scheduler_oclr=scheduler_oclr,\n",
    "        scheduler_rlrop=scheduler_rlrop,\n",
    "        epochs=cfg.epochs, \n",
    "        early_stopping_patience=cfg.early_stopping, \n",
    "        dataloaders=dataloaders, \n",
    "        device=cfg.device,\n",
    "        save_path=cfg.save_path,\n",
    "        fold=fold,\n",
    "        verbose=True\n",
    "    )\n",
    "    \n",
    "    breaker()\n",
    "    show_loss_graphs(L)\n",
    "    breaker()\n",
    "    show_accuracy_graphs(A)\n",
    "    breaker()\n",
    "    if scheduler_oclr:\n",
    "        show_lr_graph(LR)\n",
    "        breaker()\n",
    "    \n",
    "    BLs.append(BL)\n",
    "    BAs.append(BA)\n",
    "    \n",
    "    fold += 1"
   ]
  },
  {
   "cell_type": "markdown",
   "id": "c025a7d9",
   "metadata": {
    "papermill": {
     "duration": 0.014154,
     "end_time": "2022-10-23T17:47:06.661738",
     "exception": false,
     "start_time": "2022-10-23T17:47:06.647584",
     "status": "completed"
    },
    "tags": []
   },
   "source": [
    "### **Best Model**"
   ]
  },
  {
   "cell_type": "code",
   "execution_count": 9,
   "id": "6d75418c",
   "metadata": {
    "execution": {
     "iopub.execute_input": "2022-10-23T17:47:06.691791Z",
     "iopub.status.busy": "2022-10-23T17:47:06.690895Z",
     "iopub.status.idle": "2022-10-23T17:47:06.699585Z",
     "shell.execute_reply": "2022-10-23T17:47:06.698671Z"
    },
    "papermill": {
     "duration": 0.025775,
     "end_time": "2022-10-23T17:47:06.701529",
     "exception": false,
     "start_time": "2022-10-23T17:47:06.675754",
     "status": "completed"
    },
    "tags": []
   },
   "outputs": [
    {
     "name": "stdout",
     "output_type": "stream",
     "text": [
      "\n",
      "**************************************************\n",
      "\n",
      "Best Loss Model Fold     : 3\n",
      "Best Accuracy Model Fold : 3\n",
      "\n",
      "**************************************************\n",
      "\n"
     ]
    }
   ],
   "source": [
    "BL = np.inf\n",
    "for i in range(len(BLs)):\n",
    "    if BLs[i][\"valid\"] < BL:\n",
    "        BL = BLs[i][\"valid\"]\n",
    "        best_loss_index = i\n",
    "\n",
    "        \n",
    "BA = 0.0\n",
    "for i in range(len(BAs)):\n",
    "    if BAs[i][\"valid\"] > BA:\n",
    "        BA = BAs[i][\"valid\"]\n",
    "        best_accs_index = i\n",
    "\n",
    "breaker()\n",
    "print(f\"Best Loss Model Fold     : {best_loss_index + 1}\")\n",
    "print(f\"Best Accuracy Model Fold : {best_accs_index + 1}\")\n",
    "breaker()"
   ]
  }
 ],
 "metadata": {
  "kernelspec": {
   "display_name": "Python 3",
   "language": "python",
   "name": "python3"
  },
  "language_info": {
   "codemirror_mode": {
    "name": "ipython",
    "version": 3
   },
   "file_extension": ".py",
   "mimetype": "text/x-python",
   "name": "python",
   "nbconvert_exporter": "python",
   "pygments_lexer": "ipython3",
   "version": "3.7.12"
  },
  "papermill": {
   "default_parameters": {},
   "duration": 2043.60424,
   "end_time": "2022-10-23T17:47:08.142381",
   "environment_variables": {},
   "exception": null,
   "input_path": "__notebook__.ipynb",
   "output_path": "__notebook__.ipynb",
   "parameters": {},
   "start_time": "2022-10-23T17:13:04.538141",
   "version": "2.3.4"
  }
 },
 "nbformat": 4,
 "nbformat_minor": 5
}
