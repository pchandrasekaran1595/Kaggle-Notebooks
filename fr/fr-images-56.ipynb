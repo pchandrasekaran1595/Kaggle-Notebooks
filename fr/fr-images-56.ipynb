{
 "cells": [
  {
   "cell_type": "code",
   "execution_count": 1,
   "id": "02395f9a",
   "metadata": {
    "_cell_guid": "b1076dfc-b9ad-4769-8c92-a6c4dae69d19",
    "_uuid": "8f2839f25d086af736a60e9eeb907d3b93b6e0e5",
    "execution": {
     "iopub.execute_input": "2022-10-17T05:25:02.580067Z",
     "iopub.status.busy": "2022-10-17T05:25:02.579313Z",
     "iopub.status.idle": "2022-10-17T05:25:02.764418Z",
     "shell.execute_reply": "2022-10-17T05:25:02.763192Z"
    },
    "papermill": {
     "duration": 0.192663,
     "end_time": "2022-10-17T05:25:02.767353",
     "exception": false,
     "start_time": "2022-10-17T05:25:02.574690",
     "status": "completed"
    },
    "tags": []
   },
   "outputs": [],
   "source": [
    "import os\n",
    "import cv2\n",
    "import numpy as np\n",
    "import pandas as pd"
   ]
  },
  {
   "cell_type": "code",
   "execution_count": 2,
   "id": "3a90fcf7",
   "metadata": {
    "execution": {
     "iopub.execute_input": "2022-10-17T05:25:02.773186Z",
     "iopub.status.busy": "2022-10-17T05:25:02.772788Z",
     "iopub.status.idle": "2022-10-17T05:25:02.779374Z",
     "shell.execute_reply": "2022-10-17T05:25:02.778215Z"
    },
    "papermill": {
     "duration": 0.012074,
     "end_time": "2022-10-17T05:25:02.781731",
     "exception": false,
     "start_time": "2022-10-17T05:25:02.769657",
     "status": "completed"
    },
    "tags": []
   },
   "outputs": [],
   "source": [
    "def get_image(path: str, size: int=56) -> np.ndarray:\n",
    "    image = cv2.imread(path, cv2.IMREAD_COLOR)\n",
    "    image = cv2.cvtColor(src=image, code=cv2.COLOR_BGR2RGB)\n",
    "    return cv2.resize(src=image, dsize=(size, size), interpolation=cv2.INTER_AREA)"
   ]
  },
  {
   "cell_type": "code",
   "execution_count": 3,
   "id": "3c8a0a80",
   "metadata": {
    "execution": {
     "iopub.execute_input": "2022-10-17T05:25:02.787230Z",
     "iopub.status.busy": "2022-10-17T05:25:02.786870Z",
     "iopub.status.idle": "2022-10-17T05:38:25.773214Z",
     "shell.execute_reply": "2022-10-17T05:38:25.771895Z"
    },
    "papermill": {
     "duration": 802.99234,
     "end_time": "2022-10-17T05:38:25.776088",
     "exception": false,
     "start_time": "2022-10-17T05:25:02.783748",
     "status": "completed"
    },
    "tags": []
   },
   "outputs": [],
   "source": [
    "tr_df = pd.read_csv(\"../input/fr-dataframe/train.csv\")\n",
    "\n",
    "images = np.zeros((tr_df.shape[0], 56, 56, 3), dtype=np.uint8)\n",
    "\n",
    "i = 0\n",
    "for filepath in tr_df.filepaths.values:\n",
    "    images[i] = get_image(filepath)\n",
    "labels = tr_df.labels.copy().values\n",
    "\n",
    "np.save(\"images.npy\", images)\n",
    "np.save(\"labels.npy\", labels)"
   ]
  },
  {
   "cell_type": "code",
   "execution_count": 4,
   "id": "1ff854d0",
   "metadata": {
    "execution": {
     "iopub.execute_input": "2022-10-17T05:38:25.781530Z",
     "iopub.status.busy": "2022-10-17T05:38:25.781168Z",
     "iopub.status.idle": "2022-10-17T05:43:59.409683Z",
     "shell.execute_reply": "2022-10-17T05:43:59.408211Z"
    },
    "papermill": {
     "duration": 333.634462,
     "end_time": "2022-10-17T05:43:59.412664",
     "exception": false,
     "start_time": "2022-10-17T05:38:25.778202",
     "status": "completed"
    },
    "tags": []
   },
   "outputs": [],
   "source": [
    "ts_df = pd.read_csv(\"../input/fr-dataframe/test.csv\")\n",
    "\n",
    "images = np.zeros((ts_df.shape[0], 56, 56, 3), dtype=np.uint8)\n",
    "\n",
    "i = 0\n",
    "for filepath in ts_df.filepaths.values:\n",
    "    images[i] = get_image(filepath)\n",
    "\n",
    "np.save(\"ts_images.npy\", images)"
   ]
  }
 ],
 "metadata": {
  "kernelspec": {
   "display_name": "Python 3",
   "language": "python",
   "name": "python3"
  },
  "language_info": {
   "codemirror_mode": {
    "name": "ipython",
    "version": 3
   },
   "file_extension": ".py",
   "mimetype": "text/x-python",
   "name": "python",
   "nbconvert_exporter": "python",
   "pygments_lexer": "ipython3",
   "version": "3.7.12"
  },
  "papermill": {
   "default_parameters": {},
   "duration": 1146.093639,
   "end_time": "2022-10-17T05:44:00.036916",
   "environment_variables": {},
   "exception": null,
   "input_path": "__notebook__.ipynb",
   "output_path": "__notebook__.ipynb",
   "parameters": {},
   "start_time": "2022-10-17T05:24:53.943277",
   "version": "2.3.4"
  }
 },
 "nbformat": 4,
 "nbformat_minor": 5
}
