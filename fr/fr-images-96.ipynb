{
 "cells": [
  {
   "cell_type": "code",
   "execution_count": 1,
   "id": "cbcb5d83",
   "metadata": {
    "_cell_guid": "b1076dfc-b9ad-4769-8c92-a6c4dae69d19",
    "_uuid": "8f2839f25d086af736a60e9eeb907d3b93b6e0e5",
    "execution": {
     "iopub.execute_input": "2022-10-17T05:28:24.833053Z",
     "iopub.status.busy": "2022-10-17T05:28:24.832419Z",
     "iopub.status.idle": "2022-10-17T05:28:25.056062Z",
     "shell.execute_reply": "2022-10-17T05:28:25.054694Z"
    },
    "papermill": {
     "duration": 0.231575,
     "end_time": "2022-10-17T05:28:25.059033",
     "exception": false,
     "start_time": "2022-10-17T05:28:24.827458",
     "status": "completed"
    },
    "tags": []
   },
   "outputs": [],
   "source": [
    "import os\n",
    "import cv2\n",
    "import numpy as np\n",
    "import pandas as pd"
   ]
  },
  {
   "cell_type": "code",
   "execution_count": 2,
   "id": "243abfef",
   "metadata": {
    "execution": {
     "iopub.execute_input": "2022-10-17T05:28:25.065147Z",
     "iopub.status.busy": "2022-10-17T05:28:25.064740Z",
     "iopub.status.idle": "2022-10-17T05:28:25.071474Z",
     "shell.execute_reply": "2022-10-17T05:28:25.070118Z"
    },
    "papermill": {
     "duration": 0.012739,
     "end_time": "2022-10-17T05:28:25.074078",
     "exception": false,
     "start_time": "2022-10-17T05:28:25.061339",
     "status": "completed"
    },
    "tags": []
   },
   "outputs": [],
   "source": [
    "def get_image(path: str, size: int=96) -> np.ndarray:\n",
    "    image = cv2.imread(path, cv2.IMREAD_COLOR)\n",
    "    image = cv2.cvtColor(src=image, code=cv2.COLOR_BGR2RGB)\n",
    "    return cv2.resize(src=image, dsize=(size, size), interpolation=cv2.INTER_AREA)"
   ]
  },
  {
   "cell_type": "code",
   "execution_count": 3,
   "id": "c32a0566",
   "metadata": {
    "execution": {
     "iopub.execute_input": "2022-10-17T05:28:25.080006Z",
     "iopub.status.busy": "2022-10-17T05:28:25.079612Z",
     "iopub.status.idle": "2022-10-17T05:41:05.598342Z",
     "shell.execute_reply": "2022-10-17T05:41:05.597302Z"
    },
    "papermill": {
     "duration": 760.525224,
     "end_time": "2022-10-17T05:41:05.601417",
     "exception": false,
     "start_time": "2022-10-17T05:28:25.076193",
     "status": "completed"
    },
    "tags": []
   },
   "outputs": [],
   "source": [
    "tr_df = pd.read_csv(\"../input/fr-dataframe/train.csv\")\n",
    "\n",
    "images = np.zeros((tr_df.shape[0], 96, 96, 3), dtype=np.uint8)\n",
    "\n",
    "i = 0\n",
    "for filepath in tr_df.filepaths.values:\n",
    "    images[i] = get_image(filepath)\n",
    "labels = tr_df.labels.copy().values\n",
    "\n",
    "np.save(\"images.npy\", images)\n",
    "np.save(\"labels.npy\", labels)"
   ]
  },
  {
   "cell_type": "code",
   "execution_count": 4,
   "id": "9b9661c5",
   "metadata": {
    "execution": {
     "iopub.execute_input": "2022-10-17T05:41:11.437936Z",
     "iopub.status.busy": "2022-10-17T05:41:11.435392Z",
     "iopub.status.idle": "2022-10-17T05:44:21.024205Z",
     "shell.execute_reply": "2022-10-17T05:44:21.021722Z"
    },
    "papermill": {
     "duration": 189.600323,
     "end_time": "2022-10-17T05:44:21.030433",
     "exception": false,
     "start_time": "2022-10-17T05:41:11.430110",
     "status": "completed"
    },
    "tags": []
   },
   "outputs": [],
   "source": [
    "ts_df = pd.read_csv(\"../input/fr-dataframe/test.csv\")\n",
    "\n",
    "images = np.zeros((ts_df.shape[0], 96, 96, 3), dtype=np.uint8)\n",
    "\n",
    "i = 0\n",
    "for filepath in ts_df.filepaths.values:\n",
    "    images[i] = get_image(filepath)\n",
    "\n",
    "np.save(\"ts_images.npy\", images)"
   ]
  }
 ],
 "metadata": {
  "kernelspec": {
   "display_name": "Python 3",
   "language": "python",
   "name": "python3"
  },
  "language_info": {
   "codemirror_mode": {
    "name": "ipython",
    "version": 3
   },
   "file_extension": ".py",
   "mimetype": "text/x-python",
   "name": "python",
   "nbconvert_exporter": "python",
   "pygments_lexer": "ipython3",
   "version": "3.7.12"
  },
  "papermill": {
   "default_parameters": {},
   "duration": 966.907521,
   "end_time": "2022-10-17T05:44:21.965716",
   "environment_variables": {},
   "exception": null,
   "input_path": "__notebook__.ipynb",
   "output_path": "__notebook__.ipynb",
   "parameters": {},
   "start_time": "2022-10-17T05:28:15.058195",
   "version": "2.3.4"
  }
 },
 "nbformat": 4,
 "nbformat_minor": 5
}
