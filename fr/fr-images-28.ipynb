{
 "cells": [
  {
   "cell_type": "code",
   "execution_count": 1,
   "id": "c73476e6",
   "metadata": {
    "_cell_guid": "b1076dfc-b9ad-4769-8c92-a6c4dae69d19",
    "_uuid": "8f2839f25d086af736a60e9eeb907d3b93b6e0e5",
    "execution": {
     "iopub.execute_input": "2022-10-17T05:10:19.834758Z",
     "iopub.status.busy": "2022-10-17T05:10:19.833659Z",
     "iopub.status.idle": "2022-10-17T05:10:20.096205Z",
     "shell.execute_reply": "2022-10-17T05:10:20.094854Z"
    },
    "papermill": {
     "duration": 0.271494,
     "end_time": "2022-10-17T05:10:20.099634",
     "exception": false,
     "start_time": "2022-10-17T05:10:19.828140",
     "status": "completed"
    },
    "tags": []
   },
   "outputs": [],
   "source": [
    "import os\n",
    "import cv2\n",
    "import numpy as np\n",
    "import pandas as pd"
   ]
  },
  {
   "cell_type": "code",
   "execution_count": 2,
   "id": "33bab268",
   "metadata": {
    "execution": {
     "iopub.execute_input": "2022-10-17T05:10:20.105914Z",
     "iopub.status.busy": "2022-10-17T05:10:20.105499Z",
     "iopub.status.idle": "2022-10-17T05:10:20.112370Z",
     "shell.execute_reply": "2022-10-17T05:10:20.111123Z"
    },
    "papermill": {
     "duration": 0.012832,
     "end_time": "2022-10-17T05:10:20.114749",
     "exception": false,
     "start_time": "2022-10-17T05:10:20.101917",
     "status": "completed"
    },
    "tags": []
   },
   "outputs": [],
   "source": [
    "def get_image(path: str, size: int=28) -> np.ndarray:\n",
    "    image = cv2.imread(path, cv2.IMREAD_COLOR)\n",
    "    image = cv2.cvtColor(src=image, code=cv2.COLOR_BGR2RGB)\n",
    "    return cv2.resize(src=image, dsize=(size, size), interpolation=cv2.INTER_AREA)"
   ]
  },
  {
   "cell_type": "code",
   "execution_count": 3,
   "id": "67bae995",
   "metadata": {
    "execution": {
     "iopub.execute_input": "2022-10-17T05:10:20.120874Z",
     "iopub.status.busy": "2022-10-17T05:10:20.120420Z",
     "iopub.status.idle": "2022-10-17T05:22:09.140952Z",
     "shell.execute_reply": "2022-10-17T05:22:09.139634Z"
    },
    "papermill": {
     "duration": 709.027136,
     "end_time": "2022-10-17T05:22:09.143993",
     "exception": false,
     "start_time": "2022-10-17T05:10:20.116857",
     "status": "completed"
    },
    "tags": []
   },
   "outputs": [],
   "source": [
    "tr_df = pd.read_csv(\"../input/fr-dataframe/train.csv\")\n",
    "\n",
    "images = np.zeros((tr_df.shape[0], 28, 28, 3), dtype=np.uint8)\n",
    "\n",
    "i = 0\n",
    "for filepath in tr_df.filepaths.values:\n",
    "    images[i] = get_image(filepath)\n",
    "labels = tr_df.labels.copy().values\n",
    "\n",
    "np.save(\"images.npy\", images)\n",
    "np.save(\"labels.npy\", labels)"
   ]
  },
  {
   "cell_type": "code",
   "execution_count": 4,
   "id": "a5a2f082",
   "metadata": {
    "execution": {
     "iopub.execute_input": "2022-10-17T05:22:09.150008Z",
     "iopub.status.busy": "2022-10-17T05:22:09.149598Z",
     "iopub.status.idle": "2022-10-17T05:27:24.256622Z",
     "shell.execute_reply": "2022-10-17T05:27:24.255225Z"
    },
    "papermill": {
     "duration": 315.113458,
     "end_time": "2022-10-17T05:27:24.259801",
     "exception": false,
     "start_time": "2022-10-17T05:22:09.146343",
     "status": "completed"
    },
    "tags": []
   },
   "outputs": [],
   "source": [
    "ts_df = pd.read_csv(\"../input/fr-dataframe/test.csv\")\n",
    "\n",
    "images = np.zeros((ts_df.shape[0], 28, 28, 3), dtype=np.uint8)\n",
    "\n",
    "i = 0\n",
    "for filepath in ts_df.filepaths.values:\n",
    "    images[i] = get_image(filepath)\n",
    "\n",
    "np.save(\"ts_images.npy\", images)"
   ]
  }
 ],
 "metadata": {
  "kernelspec": {
   "display_name": "Python 3",
   "language": "python",
   "name": "python3"
  },
  "language_info": {
   "codemirror_mode": {
    "name": "ipython",
    "version": 3
   },
   "file_extension": ".py",
   "mimetype": "text/x-python",
   "name": "python",
   "nbconvert_exporter": "python",
   "pygments_lexer": "ipython3",
   "version": "3.7.12"
  },
  "papermill": {
   "default_parameters": {},
   "duration": 1035.046737,
   "end_time": "2022-10-17T05:27:24.987118",
   "environment_variables": {},
   "exception": null,
   "input_path": "__notebook__.ipynb",
   "output_path": "__notebook__.ipynb",
   "parameters": {},
   "start_time": "2022-10-17T05:10:09.940381",
   "version": "2.3.4"
  }
 },
 "nbformat": 4,
 "nbformat_minor": 5
}
