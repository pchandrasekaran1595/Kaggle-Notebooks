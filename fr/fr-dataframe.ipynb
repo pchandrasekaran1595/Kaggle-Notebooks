{
 "cells": [
  {
   "cell_type": "code",
   "execution_count": 1,
   "id": "519dd8e0",
   "metadata": {
    "execution": {
     "iopub.execute_input": "2022-10-16T10:09:34.360191Z",
     "iopub.status.busy": "2022-10-16T10:09:34.359711Z",
     "iopub.status.idle": "2022-10-16T10:09:34.370236Z",
     "shell.execute_reply": "2022-10-16T10:09:34.369234Z"
    },
    "papermill": {
     "duration": 0.019164,
     "end_time": "2022-10-16T10:09:34.373394",
     "exception": false,
     "start_time": "2022-10-16T10:09:34.354230",
     "status": "completed"
    },
    "tags": []
   },
   "outputs": [],
   "source": [
    "import os\n",
    "import pandas as pd\n",
    "\n",
    "BASE_PATH: str = \"../input/11-785-f22-hw2p2-classification/11-785-f22-hw2p2-classification/classification\""
   ]
  },
  {
   "cell_type": "code",
   "execution_count": 2,
   "id": "27937b48",
   "metadata": {
    "_cell_guid": "b1076dfc-b9ad-4769-8c92-a6c4dae69d19",
    "_uuid": "8f2839f25d086af736a60e9eeb907d3b93b6e0e5",
    "execution": {
     "iopub.execute_input": "2022-10-16T10:09:34.380222Z",
     "iopub.status.busy": "2022-10-16T10:09:34.379865Z",
     "iopub.status.idle": "2022-10-16T10:09:34.393358Z",
     "shell.execute_reply": "2022-10-16T10:09:34.392609Z"
    },
    "papermill": {
     "duration": 0.019829,
     "end_time": "2022-10-16T10:09:34.396105",
     "exception": false,
     "start_time": "2022-10-16T10:09:34.376276",
     "status": "completed"
    },
    "tags": []
   },
   "outputs": [],
   "source": [
    "tr_df: pd.DataFrame = pd.DataFrame(data=None, columns=[\"filepaths\", \"labels\"])\n",
    "ts_df: pd.DataFrame = pd.DataFrame(data=None, columns=[\"filepaths\"])"
   ]
  },
  {
   "cell_type": "code",
   "execution_count": 3,
   "id": "7440d7e4",
   "metadata": {
    "execution": {
     "iopub.execute_input": "2022-10-16T10:09:34.403112Z",
     "iopub.status.busy": "2022-10-16T10:09:34.402742Z",
     "iopub.status.idle": "2022-10-16T10:10:12.596081Z",
     "shell.execute_reply": "2022-10-16T10:10:12.594750Z"
    },
    "papermill": {
     "duration": 38.200483,
     "end_time": "2022-10-16T10:10:12.599396",
     "exception": false,
     "start_time": "2022-10-16T10:09:34.398913",
     "status": "completed"
    },
    "tags": []
   },
   "outputs": [],
   "source": [
    "filepaths: list = []\n",
    "labels: list = []\n",
    "\n",
    "for folder in sorted(os.listdir(f\"{BASE_PATH}/train\")):\n",
    "    for filename in os.listdir(f\"{BASE_PATH}/train/{folder}\"):\n",
    "        filepaths.append(os.path.join(f\"{BASE_PATH}/known/{folder}\", filename))\n",
    "        labels.append(folder)\n",
    "\n",
    "tr_df.filepaths = filepaths\n",
    "tr_df.labels = labels\n",
    "tr_df.to_csv(\"train.csv\", index=False)"
   ]
  },
  {
   "cell_type": "code",
   "execution_count": 4,
   "id": "a6d7bcc8",
   "metadata": {
    "execution": {
     "iopub.execute_input": "2022-10-16T10:10:12.605592Z",
     "iopub.status.busy": "2022-10-16T10:10:12.605157Z",
     "iopub.status.idle": "2022-10-16T10:10:13.179089Z",
     "shell.execute_reply": "2022-10-16T10:10:13.177659Z"
    },
    "papermill": {
     "duration": 0.580284,
     "end_time": "2022-10-16T10:10:13.182043",
     "exception": false,
     "start_time": "2022-10-16T10:10:12.601759",
     "status": "completed"
    },
    "tags": []
   },
   "outputs": [],
   "source": [
    "filepaths: list = []\n",
    "\n",
    "for filename in os.listdir(f\"{BASE_PATH}/test\"):\n",
    "    filepaths.append(os.path.join(f\"{BASE_PATH}/test\", filename))\n",
    "\n",
    "ts_df.filepaths = filepaths\n",
    "ts_df.to_csv(\"test.csv\", index=False)"
   ]
  }
 ],
 "metadata": {
  "kernelspec": {
   "display_name": "Python 3",
   "language": "python",
   "name": "python3"
  },
  "language_info": {
   "codemirror_mode": {
    "name": "ipython",
    "version": 3
   },
   "file_extension": ".py",
   "mimetype": "text/x-python",
   "name": "python",
   "nbconvert_exporter": "python",
   "pygments_lexer": "ipython3",
   "version": "3.7.12"
  },
  "papermill": {
   "default_parameters": {},
   "duration": 48.892685,
   "end_time": "2022-10-16T10:10:13.907113",
   "environment_variables": {},
   "exception": null,
   "input_path": "__notebook__.ipynb",
   "output_path": "__notebook__.ipynb",
   "parameters": {},
   "start_time": "2022-10-16T10:09:25.014428",
   "version": "2.3.4"
  }
 },
 "nbformat": 4,
 "nbformat_minor": 5
}
