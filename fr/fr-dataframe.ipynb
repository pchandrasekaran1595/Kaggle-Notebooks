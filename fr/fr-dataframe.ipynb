{
 "cells": [
  {
   "cell_type": "code",
   "execution_count": 1,
   "id": "551a0a3d",
   "metadata": {
    "execution": {
     "iopub.execute_input": "2022-10-16T10:31:40.502152Z",
     "iopub.status.busy": "2022-10-16T10:31:40.501374Z",
     "iopub.status.idle": "2022-10-16T10:31:40.511571Z",
     "shell.execute_reply": "2022-10-16T10:31:40.510563Z"
    },
    "papermill": {
     "duration": 0.017807,
     "end_time": "2022-10-16T10:31:40.514058",
     "exception": false,
     "start_time": "2022-10-16T10:31:40.496251",
     "status": "completed"
    },
    "tags": []
   },
   "outputs": [],
   "source": [
    "import os\n",
    "import pandas as pd\n",
    "\n",
    "BASE_PATH: str = \"../input/11-785-f22-hw2p2-classification/11-785-f22-hw2p2-classification/classification\""
   ]
  },
  {
   "cell_type": "code",
   "execution_count": 2,
   "id": "8012162c",
   "metadata": {
    "_cell_guid": "b1076dfc-b9ad-4769-8c92-a6c4dae69d19",
    "_uuid": "8f2839f25d086af736a60e9eeb907d3b93b6e0e5",
    "execution": {
     "iopub.execute_input": "2022-10-16T10:31:40.519963Z",
     "iopub.status.busy": "2022-10-16T10:31:40.519332Z",
     "iopub.status.idle": "2022-10-16T10:31:40.533418Z",
     "shell.execute_reply": "2022-10-16T10:31:40.532309Z"
    },
    "papermill": {
     "duration": 0.019667,
     "end_time": "2022-10-16T10:31:40.536043",
     "exception": false,
     "start_time": "2022-10-16T10:31:40.516376",
     "status": "completed"
    },
    "tags": []
   },
   "outputs": [],
   "source": [
    "tr_df: pd.DataFrame = pd.DataFrame(data=None, columns=[\"filepaths\", \"labels\"])\n",
    "ts_df: pd.DataFrame = pd.DataFrame(data=None, columns=[\"filepaths\"])"
   ]
  },
  {
   "cell_type": "code",
   "execution_count": 3,
   "id": "ce323608",
   "metadata": {
    "execution": {
     "iopub.execute_input": "2022-10-16T10:31:40.541332Z",
     "iopub.status.busy": "2022-10-16T10:31:40.540962Z",
     "iopub.status.idle": "2022-10-16T10:32:19.873464Z",
     "shell.execute_reply": "2022-10-16T10:32:19.872115Z"
    },
    "papermill": {
     "duration": 39.338385,
     "end_time": "2022-10-16T10:32:19.876406",
     "exception": false,
     "start_time": "2022-10-16T10:31:40.538021",
     "status": "completed"
    },
    "tags": []
   },
   "outputs": [],
   "source": [
    "filepaths: list = []\n",
    "labels: list = []\n",
    "\n",
    "for folder in sorted(os.listdir(f\"{BASE_PATH}/train\")):\n",
    "    for filename in os.listdir(f\"{BASE_PATH}/train/{folder}\"):\n",
    "        filepaths.append(os.path.join(f\"{BASE_PATH}/train/{folder}\", filename))\n",
    "        labels.append(folder)\n",
    "\n",
    "tr_df.filepaths = filepaths\n",
    "tr_df.labels = labels\n",
    "tr_df.to_csv(\"train.csv\", index=False)"
   ]
  },
  {
   "cell_type": "code",
   "execution_count": 4,
   "id": "67b082da",
   "metadata": {
    "execution": {
     "iopub.execute_input": "2022-10-16T10:32:19.882406Z",
     "iopub.status.busy": "2022-10-16T10:32:19.882012Z",
     "iopub.status.idle": "2022-10-16T10:32:20.458182Z",
     "shell.execute_reply": "2022-10-16T10:32:20.456888Z"
    },
    "papermill": {
     "duration": 0.582344,
     "end_time": "2022-10-16T10:32:20.460978",
     "exception": false,
     "start_time": "2022-10-16T10:32:19.878634",
     "status": "completed"
    },
    "tags": []
   },
   "outputs": [],
   "source": [
    "filepaths: list = []\n",
    "\n",
    "for filename in os.listdir(f\"{BASE_PATH}/test\"):\n",
    "    filepaths.append(os.path.join(f\"{BASE_PATH}/test\", filename))\n",
    "\n",
    "ts_df.filepaths = filepaths\n",
    "ts_df.to_csv(\"test.csv\", index=False)"
   ]
  }
 ],
 "metadata": {
  "kernelspec": {
   "display_name": "Python 3",
   "language": "python",
   "name": "python3"
  },
  "language_info": {
   "codemirror_mode": {
    "name": "ipython",
    "version": 3
   },
   "file_extension": ".py",
   "mimetype": "text/x-python",
   "name": "python",
   "nbconvert_exporter": "python",
   "pygments_lexer": "ipython3",
   "version": "3.7.12"
  },
  "papermill": {
   "default_parameters": {},
   "duration": 50.045607,
   "end_time": "2022-10-16T10:32:21.183703",
   "environment_variables": {},
   "exception": null,
   "input_path": "__notebook__.ipynb",
   "output_path": "__notebook__.ipynb",
   "parameters": {},
   "start_time": "2022-10-16T10:31:31.138096",
   "version": "2.3.4"
  }
 },
 "nbformat": 4,
 "nbformat_minor": 5
}
