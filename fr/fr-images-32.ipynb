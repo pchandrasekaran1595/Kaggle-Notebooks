{
 "cells": [
  {
   "cell_type": "code",
   "execution_count": 1,
   "id": "99a23ee8",
   "metadata": {
    "_cell_guid": "b1076dfc-b9ad-4769-8c92-a6c4dae69d19",
    "_uuid": "8f2839f25d086af736a60e9eeb907d3b93b6e0e5",
    "execution": {
     "iopub.execute_input": "2022-10-17T05:24:11.913615Z",
     "iopub.status.busy": "2022-10-17T05:24:11.909395Z",
     "iopub.status.idle": "2022-10-17T05:24:12.187882Z",
     "shell.execute_reply": "2022-10-17T05:24:12.186744Z"
    },
    "papermill": {
     "duration": 0.286039,
     "end_time": "2022-10-17T05:24:12.190697",
     "exception": false,
     "start_time": "2022-10-17T05:24:11.904658",
     "status": "completed"
    },
    "tags": []
   },
   "outputs": [],
   "source": [
    "import os\n",
    "import cv2\n",
    "import numpy as np\n",
    "import pandas as pd"
   ]
  },
  {
   "cell_type": "code",
   "execution_count": 2,
   "id": "ef3062ca",
   "metadata": {
    "execution": {
     "iopub.execute_input": "2022-10-17T05:24:12.197488Z",
     "iopub.status.busy": "2022-10-17T05:24:12.196914Z",
     "iopub.status.idle": "2022-10-17T05:24:12.203654Z",
     "shell.execute_reply": "2022-10-17T05:24:12.201482Z"
    },
    "papermill": {
     "duration": 0.013007,
     "end_time": "2022-10-17T05:24:12.206515",
     "exception": false,
     "start_time": "2022-10-17T05:24:12.193508",
     "status": "completed"
    },
    "tags": []
   },
   "outputs": [],
   "source": [
    "def get_image(path: str, size: int=32) -> np.ndarray:\n",
    "    image = cv2.imread(path, cv2.IMREAD_COLOR)\n",
    "    image = cv2.cvtColor(src=image, code=cv2.COLOR_BGR2RGB)\n",
    "    return cv2.resize(src=image, dsize=(size, size), interpolation=cv2.INTER_AREA)"
   ]
  },
  {
   "cell_type": "code",
   "execution_count": 3,
   "id": "9a84c2cc",
   "metadata": {
    "execution": {
     "iopub.execute_input": "2022-10-17T05:24:12.213132Z",
     "iopub.status.busy": "2022-10-17T05:24:12.212736Z",
     "iopub.status.idle": "2022-10-17T05:45:47.154436Z",
     "shell.execute_reply": "2022-10-17T05:45:47.152678Z"
    },
    "papermill": {
     "duration": 1294.948541,
     "end_time": "2022-10-17T05:45:47.156879",
     "exception": false,
     "start_time": "2022-10-17T05:24:12.208338",
     "status": "completed"
    },
    "tags": []
   },
   "outputs": [],
   "source": [
    "tr_df = pd.read_csv(\"../input/fr-dataframe/train.csv\")\n",
    "\n",
    "images = np.zeros((tr_df.shape[0], 32, 32, 3), dtype=np.uint8)\n",
    "\n",
    "i = 0\n",
    "for filepath in tr_df.filepaths.values:\n",
    "    images[i] = get_image(filepath)\n",
    "labels = tr_df.labels.copy().values\n",
    "\n",
    "np.save(\"images.npy\", images)\n",
    "np.save(\"labels.npy\", labels)"
   ]
  },
  {
   "cell_type": "code",
   "execution_count": 4,
   "id": "21e1fbfb",
   "metadata": {
    "execution": {
     "iopub.execute_input": "2022-10-17T05:45:47.161319Z",
     "iopub.status.busy": "2022-10-17T05:45:47.160993Z",
     "iopub.status.idle": "2022-10-17T05:52:15.668237Z",
     "shell.execute_reply": "2022-10-17T05:52:15.667324Z"
    },
    "papermill": {
     "duration": 388.511681,
     "end_time": "2022-10-17T05:52:15.670308",
     "exception": false,
     "start_time": "2022-10-17T05:45:47.158627",
     "status": "completed"
    },
    "tags": []
   },
   "outputs": [],
   "source": [
    "ts_df = pd.read_csv(\"../input/fr-dataframe/test.csv\")\n",
    "\n",
    "images = np.zeros((ts_df.shape[0], 32, 32, 3), dtype=np.uint8)\n",
    "\n",
    "i = 0\n",
    "for filepath in ts_df.filepaths.values:\n",
    "    images[i] = get_image(filepath)\n",
    "\n",
    "np.save(\"ts_images.npy\", images)"
   ]
  }
 ],
 "metadata": {
  "kernelspec": {
   "display_name": "Python 3",
   "language": "python",
   "name": "python3"
  },
  "language_info": {
   "codemirror_mode": {
    "name": "ipython",
    "version": 3
   },
   "file_extension": ".py",
   "mimetype": "text/x-python",
   "name": "python",
   "nbconvert_exporter": "python",
   "pygments_lexer": "ipython3",
   "version": "3.7.12"
  },
  "papermill": {
   "default_parameters": {},
   "duration": 1692.979159,
   "end_time": "2022-10-17T05:52:16.297874",
   "environment_variables": {},
   "exception": null,
   "input_path": "__notebook__.ipynb",
   "output_path": "__notebook__.ipynb",
   "parameters": {},
   "start_time": "2022-10-17T05:24:03.318715",
   "version": "2.3.4"
  }
 },
 "nbformat": 4,
 "nbformat_minor": 5
}
