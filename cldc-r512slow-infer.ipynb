{
 "cells": [
  {
   "cell_type": "markdown",
   "id": "a491009d",
   "metadata": {
    "papermill": {
     "duration": 0.016036,
     "end_time": "2022-03-24T05:03:29.041817",
     "exception": false,
     "start_time": "2022-03-24T05:03:29.025781",
     "status": "completed"
    },
    "tags": []
   },
   "source": [
    "### **Library Imports**"
   ]
  },
  {
   "cell_type": "code",
   "execution_count": 1,
   "id": "21b28233",
   "metadata": {
    "execution": {
     "iopub.execute_input": "2022-03-24T05:03:29.085468Z",
     "iopub.status.busy": "2022-03-24T05:03:29.084574Z",
     "iopub.status.idle": "2022-03-24T05:03:31.974422Z",
     "shell.execute_reply": "2022-03-24T05:03:31.973813Z",
     "shell.execute_reply.started": "2022-03-23T11:47:34.073799Z"
    },
    "papermill": {
     "duration": 2.916793,
     "end_time": "2022-03-24T05:03:31.974573",
     "exception": false,
     "start_time": "2022-03-24T05:03:29.057780",
     "status": "completed"
    },
    "tags": []
   },
   "outputs": [],
   "source": [
    "import os\n",
    "import re\n",
    "import cv2\n",
    "import torch\n",
    "import pickle\n",
    "import numpy as np\n",
    "import pandas as pd\n",
    "import matplotlib.pyplot as plt\n",
    "\n",
    "from time import time\n",
    "from torch import nn, optim\n",
    "from torch.utils.data import Dataset\n",
    "from torch.utils.data import DataLoader as DL\n",
    "from torch.nn.utils import weight_norm as WN\n",
    "from torchvision import models, transforms\n",
    "\n",
    "from sklearn.model_selection import StratifiedKFold\n",
    "from sklearn.preprocessing import StandardScaler, LabelEncoder"
   ]
  },
  {
   "cell_type": "markdown",
   "id": "87703e68",
   "metadata": {
    "papermill": {
     "duration": 0.014238,
     "end_time": "2022-03-24T05:03:32.004107",
     "exception": false,
     "start_time": "2022-03-24T05:03:31.989869",
     "status": "completed"
    },
    "tags": []
   },
   "source": [
    "### **Utilities and Constants**"
   ]
  },
  {
   "cell_type": "code",
   "execution_count": 2,
   "id": "06dc1bb1",
   "metadata": {
    "execution": {
     "iopub.execute_input": "2022-03-24T05:03:32.085967Z",
     "iopub.status.busy": "2022-03-24T05:03:32.085373Z",
     "iopub.status.idle": "2022-03-24T05:03:32.089312Z",
     "shell.execute_reply": "2022-03-24T05:03:32.088885Z",
     "shell.execute_reply.started": "2022-03-23T11:48:30.966587Z"
    },
    "papermill": {
     "duration": 0.07105,
     "end_time": "2022-03-24T05:03:32.089431",
     "exception": false,
     "start_time": "2022-03-24T05:03:32.018381",
     "status": "completed"
    },
    "tags": []
   },
   "outputs": [],
   "source": [
    "le = LabelEncoder()\n",
    "\n",
    "SEED = 42\n",
    "SIZE = 512\n",
    "DEVICE = torch.device(\"cuda\" if torch.cuda.is_available() else \"cpu\")\n",
    "\n",
    "TRANSFORM_FINAL = transforms.Compose([transforms.ToTensor(), transforms.Normalize([0.485, 0.456, 0.406], [0.229, 0.224, 0.225])])\n",
    "TRANSFORM = transforms.Compose([transforms.ToTensor(), transforms.Normalize([0.43032, 0.49672, 0.31341], [0.21288, 0.21768, 0.19433])])"
   ]
  },
  {
   "cell_type": "code",
   "execution_count": 3,
   "id": "8e792470",
   "metadata": {
    "execution": {
     "iopub.execute_input": "2022-03-24T05:03:32.125613Z",
     "iopub.status.busy": "2022-03-24T05:03:32.125101Z",
     "iopub.status.idle": "2022-03-24T05:03:32.128622Z",
     "shell.execute_reply": "2022-03-24T05:03:32.128234Z",
     "shell.execute_reply.started": "2022-03-23T11:48:51.362397Z"
    },
    "papermill": {
     "duration": 0.024834,
     "end_time": "2022-03-24T05:03:32.128724",
     "exception": false,
     "start_time": "2022-03-24T05:03:32.103890",
     "status": "completed"
    },
    "tags": []
   },
   "outputs": [],
   "source": [
    "def breaker(num: int = 50, char: str = \"*\") -> None:\n",
    "    print(\"\\n\" + num*char + \"\\n\")\n",
    "\n",
    "\n",
    "# def show_graphs(L: list, A: list) -> None:\n",
    "#     TL, VL, TA, VA = [], [], [], []\n",
    "#     for i in range(len(L)):\n",
    "#         TL.append(L[i][\"train\"])\n",
    "#         VL.append(L[i][\"valid\"])\n",
    "#         TA.append(A[i][\"train\"])\n",
    "#         VA.append(A[i][\"valid\"])\n",
    "#     x_Axis = np.arange(1, len(TL) + 1)\n",
    "#     plt.figure(figsize=(8, 6))\n",
    "#     plt.subplot(1, 2, 1)\n",
    "#     plt.plot(x_Axis, TL, \"r\", label=\"Train\")\n",
    "#     plt.plot(x_Axis, VL, \"b\", label=\"Valid\")\n",
    "#     plt.legend()\n",
    "#     plt.grid()\n",
    "#     plt.title(\"Loss Graph\")\n",
    "#     plt.subplot(1, 2, 2)\n",
    "#     plt.plot(x_Axis, TA, \"r\", label=\"Train\")\n",
    "#     plt.plot(x_Axis, VA, \"b\", label=\"Valid\")\n",
    "#     plt.legend()\n",
    "#     plt.grid()\n",
    "#     plt.title(\"Accuracy Graph\")\n",
    "#     plt.show()\n",
    "\n",
    "    \n",
    "# def load_image(path: str, size: int, make_rgb: bool=False) -> np.ndarray:\n",
    "#     image = cv2.imread(path, cv2.IMREAD_COLOR).astype(\"uint8\")\n",
    "#     if make_rgb:\n",
    "#         image = cv2.cvtColor(src=image, code=cv2.COLOR_BGR2RGB)\n",
    "#     image = cv2.resize(src=image, dsize=(size, size), interpolation=cv2.INTER_AREA)\n",
    "#     return image\n",
    "\n",
    "\n",
    "def load_image(path: str, size: int) -> np.ndarray:\n",
    "    image = cv2.imread(path, cv2.IMREAD_COLOR)\n",
    "    image = cv2.cvtColor(src=image, code=cv2.COLOR_BGR2RGB)\n",
    "    image = cv2.resize(src=image, dsize=(size, size), interpolation=cv2.INTER_AREA)\n",
    "    return image\n",
    "\n",
    "\n",
    "def show_image(image: np.ndarray, cmap: str = \"gnuplot2\") -> None:\n",
    "    plt.figure()\n",
    "    plt.imshow(image, cmap=cmap)\n",
    "    plt.axis(\"off\")\n",
    "    plt.show()"
   ]
  },
  {
   "cell_type": "markdown",
   "id": "b3ad437a",
   "metadata": {
    "papermill": {
     "duration": 0.014276,
     "end_time": "2022-03-24T05:03:32.157043",
     "exception": false,
     "start_time": "2022-03-24T05:03:32.142767",
     "status": "completed"
    },
    "tags": []
   },
   "source": [
    "### **Dataset Template**"
   ]
  },
  {
   "cell_type": "code",
   "execution_count": 4,
   "id": "c7910e30",
   "metadata": {
    "execution": {
     "iopub.execute_input": "2022-03-24T05:03:32.195181Z",
     "iopub.status.busy": "2022-03-24T05:03:32.194368Z",
     "iopub.status.idle": "2022-03-24T05:03:32.196194Z",
     "shell.execute_reply": "2022-03-24T05:03:32.196586Z",
     "shell.execute_reply.started": "2022-03-23T11:48:53.529551Z"
    },
    "papermill": {
     "duration": 0.025173,
     "end_time": "2022-03-24T05:03:32.196714",
     "exception": false,
     "start_time": "2022-03-24T05:03:32.171541",
     "status": "completed"
    },
    "tags": []
   },
   "outputs": [],
   "source": [
    "class DS(Dataset):\n",
    "    def __init__(self, base_path: str, filenames: np.ndarray, labels: np.ndarray = None, mode: str = \"train\", transform = None):\n",
    "\n",
    "        assert re.match(r\"^train$\", mode, re.IGNORECASE) or re.match(r\"^valid$\", mode, re.IGNORECASE) or re.match(r\"^test$\", mode, re.IGNORECASE), \"Invalid Mode\"\n",
    "        \n",
    "        self.mode = mode\n",
    "        self.base_path = base_path\n",
    "        self.filenames = filenames\n",
    "        self.transform = transform\n",
    "\n",
    "        if re.match(r\"^train$\", mode, re.IGNORECASE) or re.match(r\"^valid$\", mode, re.IGNORECASE):\n",
    "            self.labels = labels\n",
    "\n",
    "    def __len__(self):\n",
    "        return self.filenames.shape[0]\n",
    "\n",
    "    def __getitem__(self, idx):\n",
    "        image = load_image(os.path.join(self.base_path, self.filenames[idx]), SIZE)\n",
    "        if re.match(r\"^train$\", self.mode, re.IGNORECASE) or re.match(r\"^valid$\", self.mode, re.IGNORECASE):\n",
    "            return self.transform(image), torch.LongTensor(self.labels[idx])\n",
    "        else:\n",
    "            return self.transform(image)"
   ]
  },
  {
   "cell_type": "markdown",
   "id": "cde7734b",
   "metadata": {
    "papermill": {
     "duration": 0.014298,
     "end_time": "2022-03-24T05:03:32.224978",
     "exception": false,
     "start_time": "2022-03-24T05:03:32.210680",
     "status": "completed"
    },
    "tags": []
   },
   "source": [
    "### **Model**"
   ]
  },
  {
   "cell_type": "code",
   "execution_count": 5,
   "id": "ce308858",
   "metadata": {
    "execution": {
     "iopub.execute_input": "2022-03-24T05:03:32.391102Z",
     "iopub.status.busy": "2022-03-24T05:03:32.387869Z",
     "iopub.status.idle": "2022-03-24T05:03:32.393968Z",
     "shell.execute_reply": "2022-03-24T05:03:32.393159Z",
     "shell.execute_reply.started": "2022-03-23T11:48:55.696859Z"
    },
    "papermill": {
     "duration": 0.154577,
     "end_time": "2022-03-24T05:03:32.394099",
     "exception": false,
     "start_time": "2022-03-24T05:03:32.239522",
     "status": "completed"
    },
    "tags": []
   },
   "outputs": [],
   "source": [
    "class CNN(nn.Module):\n",
    "    def __init__(self, mode: str, model_name: str):\n",
    "        \n",
    "        super(CNN, self).__init__()\n",
    "        \n",
    "        self.model_name = model_name\n",
    "        self.mode = mode\n",
    "        \n",
    "        if re.match(r\"^vgg$\", self.model_name, re.IGNORECASE):\n",
    "            if re.match(r\"^full$\", self.mode, re.IGNORECASE):\n",
    "                self.model = models.vgg16_bn(pretrained=False, progress=True)\n",
    "                self.model.classifier[-1] = nn.Linear(in_features=self.model.classifier[-1].in_features, out_features=10)\n",
    "            elif re.match(r\"^semi$\", self.mode, re.IGNORECASE) or re.match(r\"^final$\", self.mode, re.IGNORECASE):\n",
    "                self.model = models.vgg16_bn(pretrained=True, progress=True)\n",
    "                self.freeze()\n",
    "                self.model.classifier[-1] = nn.Linear(in_features=self.model.classifier[-1].in_features, out_features=10)\n",
    "            \n",
    "        elif re.match(r\"^resnet$\", self.model_name, re.IGNORECASE):\n",
    "            if re.match(r\"^full$\", self.mode, re.IGNORECASE):\n",
    "                self.model = models.resnet50(pretrained=False, progress=True)\n",
    "                self.model.fc = nn.Linear(in_features=self.model.fc.in_features, out_features=10)\n",
    "            elif re.match(r\"^semi$\", self.mode, re.IGNORECASE) or re.match(r\"^final$\", self.mode, re.IGNORECASE):\n",
    "                self.model = models.resnet50(pretrained=True, progress=True)\n",
    "                self.freeze()\n",
    "                self.model.fc = nn.Linear(in_features=self.model.fc.in_features, out_features=10)\n",
    "        \n",
    "        elif re.match(r\"^densenet$\", self.model_name, re.IGNORECASE):\n",
    "            if re.match(r\"^full$\", self.mode, re.IGNORECASE):\n",
    "                self.model = models.densenet169(pretrained=False, progress=True)\n",
    "                self.model.classifier = nn.Linear(in_features=self.model.classifier.in_features, out_features=10)\n",
    "            elif re.match(r\"^semi$\", self.mode, re.IGNORECASE) or re.match(r\"^final$\", self.mode, re.IGNORECASE):\n",
    "                self.model = models.densenet169(pretrained=True, progress=True)\n",
    "                self.freeze()\n",
    "                self.model.classifier = nn.Linear(in_features=self.model.classifier.in_features, out_features=10)\n",
    "        \n",
    "        elif re.match(r\"^mobilenet$\", self.model_name, re.IGNORECASE):\n",
    "            if re.match(r\"^full$\", self.mode, re.IGNORECASE):\n",
    "                self.model = models.mobilenet_v3_small(pretrained=False, progress=True)\n",
    "                self.model.classifier[-1] = nn.Linear(in_features=self.model.classifier[-1].in_features, out_features=10)\n",
    "            elif re.match(r\"^semi$\", self.mode, re.IGNORECASE) or re.match(r\"^final$\", self.mode, re.IGNORECASE):\n",
    "                self.model = models.mobilenet_v3_small(pretrained=True, progress=True)\n",
    "                self.freeze()\n",
    "                self.model.classifier[-1] = nn.Linear(in_features=self.model.classifier[-1].in_features, out_features=10)\n",
    "\n",
    "    def freeze(self):\n",
    "        for params in self.parameters():\n",
    "            params.requires_grad = False\n",
    "\n",
    "        if re.match(r\"^vgg$\", self.model_name, re.IGNORECASE):\n",
    "            if re.match(r\"^semi$\", self.mode, re.IGNORECASE):\n",
    "                for names, params in self.named_parameters():\n",
    "                    if re.match(r\".*features.3[4-9].*\", names, re.IGNORECASE) or re.match(r\".*features.4[0-9].*\", names, re.IGNORECASE) or re.match(r\".*classifier.*\", names, re.IGNORECASE):\n",
    "                        params.requires_grad = True\n",
    "        \n",
    "        elif re.match(r\"^resnet$\", self.model_name, re.IGNORECASE):\n",
    "            if re.match(r\"^semi$\", self.mode, re.IGNORECASE):\n",
    "                for names, params in self.named_parameters():\n",
    "                    if re.match(r\".*layer4.*\", names, re.IGNORECASE):\n",
    "                        params.requires_grad = True\n",
    "        \n",
    "        elif re.match(r\"^densenet$\", self.model_name, re.IGNORECASE):\n",
    "            if re.match(r\"^semi$\", self.mode, re.IGNORECASE):\n",
    "                for names, params in self.named_parameters():\n",
    "                    if re.match(r\".*denseblock4.*\", names, re.IGNORECASE) or re.match(r\".*norm5.*\", names, re.IGNORECASE):\n",
    "                        params.requires_grad = True\n",
    "        \n",
    "        elif re.match(r\"^mobilenet$\", self.model_name, re.IGNORECASE):\n",
    "            if re.match(r\"^semi$\", self.mode, re.IGNORECASE):\n",
    "                for names, params in self.named_parameters():\n",
    "                    if re.match(r\".*features.9.*\", names, re.IGNORECASE) or re.match(r\".*features.1[0-2].*\", names, re.IGNORECASE) or re.match(r\".*classifier.*\", names, re.IGNORECASE):\n",
    "                        params.requires_grad = True\n",
    "    \n",
    "    def get_optimizer(self, lr=1e-3, wd=0.0):\n",
    "        params = [p for p in self.parameters() if p.requires_grad]\n",
    "        return optim.Adam(params, lr=lr, weight_decay=wd)\n",
    "\n",
    "    def get_plateau_scheduler(self, optimizer=None, patience=5, eps=1e-8):\n",
    "        return optim.lr_scheduler.ReduceLROnPlateau(optimizer=optimizer, patience=patience, eps=eps)\n",
    "    \n",
    "    def forward(self, x):\n",
    "        return nn.LogSoftmax(dim=1)(self.model(x))"
   ]
  },
  {
   "cell_type": "markdown",
   "id": "92b1ddb0",
   "metadata": {
    "papermill": {
     "duration": 0.014041,
     "end_time": "2022-03-24T05:03:32.422748",
     "exception": false,
     "start_time": "2022-03-24T05:03:32.408707",
     "status": "completed"
    },
    "tags": []
   },
   "source": [
    "### **Fit and Predict Helpers**"
   ]
  },
  {
   "cell_type": "code",
   "execution_count": 6,
   "id": "48cb5ddb",
   "metadata": {
    "execution": {
     "iopub.execute_input": "2022-03-24T05:03:32.462200Z",
     "iopub.status.busy": "2022-03-24T05:03:32.461246Z",
     "iopub.status.idle": "2022-03-24T05:03:32.462957Z",
     "shell.execute_reply": "2022-03-24T05:03:32.463448Z",
     "shell.execute_reply.started": "2022-03-23T11:48:58.715118Z"
    },
    "papermill": {
     "duration": 0.026505,
     "end_time": "2022-03-24T05:03:32.463573",
     "exception": false,
     "start_time": "2022-03-24T05:03:32.437068",
     "status": "completed"
    },
    "tags": []
   },
   "outputs": [],
   "source": [
    "# def fit(model=None, optimizer=None, scheduler=None, epochs=None, early_stopping_patience=None, dataloaders=None, verbose=False) -> tuple:\n",
    "    \n",
    "#     def get_accuracy(y_pred, y_true):\n",
    "#         y_pred = torch.argmax(y_pred, dim=1)\n",
    "#         return torch.count_nonzero(y_pred == y_true).item() / len(y_pred)\n",
    "    \n",
    "#     if verbose:\n",
    "#         breaker()\n",
    "#         print(f\"Training ...\")\n",
    "#         breaker()\n",
    "\n",
    "#     bestLoss, bestAccs = {\"train\" : np.inf, \"valid\" : np.inf}, {\"train\" : 0.0, \"valid\" : 0.0}\n",
    "#     Losses, Accuracies = [], []\n",
    "#     name = f\"state.pt\"\n",
    "\n",
    "#     start_time = time()\n",
    "#     for e in range(epochs):\n",
    "#         e_st = time()\n",
    "#         epochLoss, epochAccs = {\"train\" : 0.0, \"valid\" : 0.0}, {\"train\" : 0.0, \"valid\" : 0.0}\n",
    "\n",
    "#         for phase in [\"train\", \"valid\"]:\n",
    "#             if phase == \"train\":\n",
    "#                 model.train()\n",
    "#             else:\n",
    "#                 model.eval()\n",
    "            \n",
    "#             lossPerPass, accsPerPass = [], []\n",
    "\n",
    "#             for X, y in dataloaders[phase]:\n",
    "#                 X, y = X.to(DEVICE), y.to(DEVICE).view(-1)\n",
    "\n",
    "#                 optimizer.zero_grad()\n",
    "#                 with torch.set_grad_enabled(phase == \"train\"):\n",
    "#                     output = model(X)\n",
    "#                     loss = torch.nn.NLLLoss()(output, y)\n",
    "#                     if phase == \"train\":\n",
    "#                         loss.backward()\n",
    "#                         optimizer.step()\n",
    "#                 lossPerPass.append(loss.item())\n",
    "#                 accsPerPass.append(get_accuracy(output, y))\n",
    "#             epochLoss[phase] = np.mean(np.array(lossPerPass))\n",
    "#             epochAccs[phase] = np.mean(np.array(accsPerPass))\n",
    "#         Losses.append(epochLoss)\n",
    "#         Accuracies.append(epochAccs)\n",
    "\n",
    "#         if early_stopping_patience:\n",
    "#             if epochLoss[\"valid\"] < bestLoss[\"valid\"]:\n",
    "#                 bestLoss = epochLoss\n",
    "#                 BLE = e + 1\n",
    "#                 torch.save({\"model_state_dict\": model.state_dict(),\n",
    "#                             \"optim_state_dict\": optimizer.state_dict()},\n",
    "#                            os.path.join(SAVE_PATH, name))\n",
    "#                 early_stopping_step = 0\n",
    "#             else:\n",
    "#                 early_stopping_step += 1\n",
    "#                 if early_stopping_step > early_stopping_patience:\n",
    "#                     print(\"\\nEarly Stopping at Epoch {}\".format(e + 1))\n",
    "#                     break\n",
    "        \n",
    "#         if epochLoss[\"valid\"] < bestLoss[\"valid\"]:\n",
    "#             bestLoss = epochLoss\n",
    "#             BLE = e + 1\n",
    "#             torch.save({\"model_state_dict\" : model.state_dict(),\n",
    "#                         \"optim_state_dict\" : optimizer.state_dict()},\n",
    "#                         os.path.join(SAVE_PATH, name))\n",
    "        \n",
    "#         if epochAccs[\"valid\"] > bestAccs[\"valid\"]:\n",
    "#             bestAccs = epochAccs\n",
    "#             BAE = e + 1\n",
    "        \n",
    "#         if scheduler:\n",
    "#             scheduler.step(epochLoss[\"valid\"])\n",
    "        \n",
    "#         if verbose:\n",
    "#             print(\"Epoch: {} | Train Loss: {:.5f} | Valid Loss: {:.5f} |\\\n",
    "# Train Accs: {:.5f} | Valid Accs: {:.5f} | Time: {:.2f} seconds\".format(e+1, \n",
    "#                                                                        epochLoss[\"train\"], epochLoss[\"valid\"], \n",
    "#                                                                        epochAccs[\"train\"], epochAccs[\"valid\"], \n",
    "#                                                                        time()-e_st))\n",
    "\n",
    "#     if verbose:                                           \n",
    "#         breaker()\n",
    "#         print(f\"Best Validation Loss at Epoch {BLE}\")\n",
    "#         breaker()\n",
    "#         print(f\"Best Validation Accs at Epoch {BAE}\")\n",
    "#         breaker()\n",
    "#         print(\"Time Taken [{} Epochs] : {:.2f} minutes\".format(len(Losses), (time()-start_time)/60))\n",
    "#         breaker()\n",
    "#         print(\"Training Completed\")\n",
    "#         breaker()\n",
    "\n",
    "#     return Losses, Accuracies, BLE, BAE, name\n",
    "\n",
    "\n",
    "def predict(model=None, dataloader=None, path=None) -> np.ndarray:\n",
    "    model.load_state_dict(torch.load(path, map_location=DEVICE)[\"model_state_dict\"])\n",
    "    model.to(DEVICE)    \n",
    "    model.eval()\n",
    "    \n",
    "    y_pred = torch.zeros(1, 1).to(DEVICE)\n",
    "    \n",
    "    for X in dataloader:\n",
    "        X = X.to(DEVICE)\n",
    "        with torch.no_grad():\n",
    "            output = torch.argmax(torch.exp(model(X)), dim=1)\n",
    "        y_pred = torch.cat((y_pred, output.view(-1, 1)), dim=0)\n",
    "    \n",
    "    return y_pred[1:].detach().cpu().numpy()"
   ]
  },
  {
   "cell_type": "markdown",
   "id": "e686ae04",
   "metadata": {
    "papermill": {
     "duration": 0.013863,
     "end_time": "2022-03-24T05:03:32.491505",
     "exception": false,
     "start_time": "2022-03-24T05:03:32.477642",
     "status": "completed"
    },
    "tags": []
   },
   "source": [
    "### **Params**"
   ]
  },
  {
   "cell_type": "code",
   "execution_count": 7,
   "id": "3393da56",
   "metadata": {
    "execution": {
     "iopub.execute_input": "2022-03-24T05:03:32.524699Z",
     "iopub.status.busy": "2022-03-24T05:03:32.523954Z",
     "iopub.status.idle": "2022-03-24T05:03:32.526324Z",
     "shell.execute_reply": "2022-03-24T05:03:32.525903Z",
     "shell.execute_reply.started": "2022-03-23T11:49:03.073308Z"
    },
    "papermill": {
     "duration": 0.021013,
     "end_time": "2022-03-24T05:03:32.526423",
     "exception": false,
     "start_time": "2022-03-24T05:03:32.505410",
     "status": "completed"
    },
    "tags": []
   },
   "outputs": [],
   "source": [
    "DEBUG: bool = False\n",
    "    \n",
    "if DEBUG:\n",
    "    n_splits = 3\n",
    "    epochs = 2\n",
    "    mode = \"semi\"\n",
    "    model_name = \"mobilenet\"\n",
    "else:\n",
    "    n_splits = 25\n",
    "    epochs = 250\n",
    "    mode = \"semi\"\n",
    "    model_name = \"resnet\"\n",
    "\n",
    "batch_size = 128\n",
    "lr = 1e-6\n",
    "wd = 1e-5\n",
    "early_stopping = 5\n",
    "patience = None\n",
    "eps = None"
   ]
  },
  {
   "cell_type": "markdown",
   "id": "b2cc4bf0",
   "metadata": {
    "papermill": {
     "duration": 0.01371,
     "end_time": "2022-03-24T05:03:32.554019",
     "exception": false,
     "start_time": "2022-03-24T05:03:32.540309",
     "status": "completed"
    },
    "tags": []
   },
   "source": [
    "### **Load & Preprocess Data**"
   ]
  },
  {
   "cell_type": "code",
   "execution_count": 8,
   "id": "6ca603da",
   "metadata": {
    "execution": {
     "iopub.execute_input": "2022-03-24T05:03:32.587182Z",
     "iopub.status.busy": "2022-03-24T05:03:32.586303Z",
     "iopub.status.idle": "2022-03-24T05:03:32.588360Z",
     "shell.execute_reply": "2022-03-24T05:03:32.588778Z",
     "shell.execute_reply.started": "2022-03-22T13:27:37.421841Z"
    },
    "papermill": {
     "duration": 0.020894,
     "end_time": "2022-03-24T05:03:32.588897",
     "exception": false,
     "start_time": "2022-03-24T05:03:32.568003",
     "status": "completed"
    },
    "tags": []
   },
   "outputs": [],
   "source": [
    "# start_time = time()\n",
    "\n",
    "# train_df = pd.read_csv(\"../input/cassava-leaf-disease-classification/train.csv\")\n",
    "# train_df.head()\n",
    "\n",
    "# filenames = train_df.iloc[:, 0].copy().values\n",
    "# labels = train_df.iloc[:, -1].copy().values"
   ]
  },
  {
   "cell_type": "markdown",
   "id": "3af44d32",
   "metadata": {
    "papermill": {
     "duration": 0.013711,
     "end_time": "2022-03-24T05:03:32.616467",
     "exception": false,
     "start_time": "2022-03-24T05:03:32.602756",
     "status": "completed"
    },
    "tags": []
   },
   "source": [
    "### **Train**"
   ]
  },
  {
   "cell_type": "code",
   "execution_count": 9,
   "id": "68739c42",
   "metadata": {
    "execution": {
     "iopub.execute_input": "2022-03-24T05:03:32.647573Z",
     "iopub.status.busy": "2022-03-24T05:03:32.646793Z",
     "iopub.status.idle": "2022-03-24T05:03:32.651487Z",
     "shell.execute_reply": "2022-03-24T05:03:32.651068Z",
     "shell.execute_reply.started": "2022-03-22T13:27:38.02605Z"
    },
    "papermill": {
     "duration": 0.021057,
     "end_time": "2022-03-24T05:03:32.651584",
     "exception": false,
     "start_time": "2022-03-24T05:03:32.630527",
     "status": "completed"
    },
    "tags": []
   },
   "outputs": [],
   "source": [
    "# for tr_idx, va_idx in StratifiedKFold(n_splits=n_splits, random_state=SEED, shuffle=True).split(filenames, labels):\n",
    "#     break\n",
    "\n",
    "# tr_filenames, va_filenames, tr_labels, va_labels = filenames[tr_idx], filenames[va_idx], labels[tr_idx], labels[va_idx]\n",
    "\n",
    "# tr_data_setup = DS(\"../input/cassava-leaf-disease-classification/train_images\", tr_filenames, tr_labels.reshape(-1, 1), \"train\", TRANSFORM)\n",
    "# va_data_setup = DS(\"../input/cassava-leaf-disease-classification/train_images\", va_filenames, va_labels.reshape(-1, 1), \"valid\", TRANSFORM)\n",
    "\n",
    "# dataloaders = {\n",
    "#     \"train\" : DL(tr_data_setup, batch_size=batch_size, shuffle=True, generator=torch.manual_seed(SEED)),\n",
    "#     \"valid\" : DL(va_data_setup, batch_size=batch_size, shuffle=False),\n",
    "# }\n",
    "\n",
    "# torch.manual_seed(SEED)\n",
    "# model = CNN(mode=mode, model_name=model_name).to(DEVICE)\n",
    "# optimizer = model.get_optimizer(lr=lr, wd=wd)\n",
    "# scheduler = None\n",
    "# if isinstance(patience, int) and isinstance(eps, float):\n",
    "#     scheduler = get_plateau_scheduler(optimizer=optimizer, patience=patience, eps=eps)\n",
    "\n",
    "# L, A, BLE, BAE, name = fit(model=model, optimizer=optimizer, scheduler=scheduler, \n",
    "#                            epochs=epochs, early_stopping_patience=early_stopping, \n",
    "#                            dataloaders=dataloaders, verbose=True)\n",
    "\n",
    "# show_graphs(L, A)"
   ]
  },
  {
   "cell_type": "markdown",
   "id": "01ef7757",
   "metadata": {
    "papermill": {
     "duration": 0.013781,
     "end_time": "2022-03-24T05:03:32.679247",
     "exception": false,
     "start_time": "2022-03-24T05:03:32.665466",
     "status": "completed"
    },
    "tags": []
   },
   "source": [
    "### **Submission**"
   ]
  },
  {
   "cell_type": "code",
   "execution_count": 10,
   "id": "172005de",
   "metadata": {
    "execution": {
     "iopub.execute_input": "2022-03-24T05:03:32.714059Z",
     "iopub.status.busy": "2022-03-24T05:03:32.713359Z",
     "iopub.status.idle": "2022-03-24T05:03:44.127651Z",
     "shell.execute_reply": "2022-03-24T05:03:44.127175Z",
     "shell.execute_reply.started": "2022-03-23T11:52:53.944575Z"
    },
    "papermill": {
     "duration": 11.43396,
     "end_time": "2022-03-24T05:03:44.127808",
     "exception": false,
     "start_time": "2022-03-24T05:03:32.693848",
     "status": "completed"
    },
    "tags": []
   },
   "outputs": [],
   "source": [
    "ss_df = pd.read_csv(\"../input/cassava-leaf-disease-classification/sample_submission.csv\")\n",
    "ts_filenames = ss_df.image_id.copy().values\n",
    "\n",
    "ts_data_setup = DS(\"../input/cassava-leaf-disease-classification/test_images\", ts_filenames, None, \"test\", TRANSFORM)\n",
    "ts_data = DL(ts_data_setup, batch_size=batch_size, shuffle=False)\n",
    "\n",
    "model = CNN(mode=\"full\", model_name=model_name).to(DEVICE)\n",
    "y_pred = predict(model=model, dataloader=ts_data, path=\"../input/cldc-r512slow/saves/state.pt\")\n",
    "\n",
    "ss_df[\"label\"] = y_pred.astype(\"uint8\")\n",
    "ss_df.to_csv(\"submission.csv\", index=False)"
   ]
  }
 ],
 "metadata": {
  "kernelspec": {
   "display_name": "Python 3",
   "language": "python",
   "name": "python3"
  },
  "language_info": {
   "codemirror_mode": {
    "name": "ipython",
    "version": 3
   },
   "file_extension": ".py",
   "mimetype": "text/x-python",
   "name": "python",
   "nbconvert_exporter": "python",
   "pygments_lexer": "ipython3",
   "version": "3.7.12"
  },
  "papermill": {
   "default_parameters": {},
   "duration": 25.291529,
   "end_time": "2022-03-24T05:03:46.304825",
   "environment_variables": {},
   "exception": null,
   "input_path": "__notebook__.ipynb",
   "output_path": "__notebook__.ipynb",
   "parameters": {},
   "start_time": "2022-03-24T05:03:21.013296",
   "version": "2.3.3"
  }
 },
 "nbformat": 4,
 "nbformat_minor": 5
}
