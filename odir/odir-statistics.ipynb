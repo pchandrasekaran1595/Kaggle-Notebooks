{
 "cells": [
  {
   "cell_type": "code",
   "execution_count": 1,
   "id": "6b19bf95",
   "metadata": {
    "_cell_guid": "b1076dfc-b9ad-4769-8c92-a6c4dae69d19",
    "_uuid": "8f2839f25d086af736a60e9eeb907d3b93b6e0e5",
    "execution": {
     "iopub.execute_input": "2022-04-24T09:01:00.074872Z",
     "iopub.status.busy": "2022-04-24T09:01:00.074395Z",
     "iopub.status.idle": "2022-04-24T09:01:11.954051Z",
     "shell.execute_reply": "2022-04-24T09:01:11.953083Z"
    },
    "papermill": {
     "duration": 11.895039,
     "end_time": "2022-04-24T09:01:11.957647",
     "exception": false,
     "start_time": "2022-04-24T09:01:00.062608",
     "status": "completed"
    },
    "tags": []
   },
   "outputs": [
    {
     "name": "stdout",
     "output_type": "stream",
     "text": [
      "Collecting openpyxl\n",
      "  Downloading openpyxl-3.0.9-py2.py3-none-any.whl (242 kB)\n",
      "     ━━━━━━━━━━━━━━━━━━━━━━━━━━━━━━━━━━━━━━━ 242.2/242.2 KB 4.9 MB/s eta 0:00:00\n",
      "Collecting et-xmlfile\n",
      "  Downloading et_xmlfile-1.1.0-py3-none-any.whl (4.7 kB)\n",
      "Installing collected packages: et-xmlfile, openpyxl\n",
      "Successfully installed et-xmlfile-1.1.0 openpyxl-3.0.9\n"
     ]
    },
    {
     "name": "stderr",
     "output_type": "stream",
     "text": [
      "WARNING: Running pip as the 'root' user can result in broken permissions and conflicting behaviour with the system package manager. It is recommended to use a virtual environment instead: https://pip.pypa.io/warnings/venv\n"
     ]
    }
   ],
   "source": [
    "%%bash\n",
    "pip install openpyxl"
   ]
  },
  {
   "cell_type": "code",
   "execution_count": 2,
   "id": "a7b1693e",
   "metadata": {
    "execution": {
     "iopub.execute_input": "2022-04-24T09:01:11.978926Z",
     "iopub.status.busy": "2022-04-24T09:01:11.978505Z",
     "iopub.status.idle": "2022-04-24T09:01:12.188183Z",
     "shell.execute_reply": "2022-04-24T09:01:12.187102Z"
    },
    "papermill": {
     "duration": 0.22279,
     "end_time": "2022-04-24T09:01:12.190702",
     "exception": false,
     "start_time": "2022-04-24T09:01:11.967912",
     "status": "completed"
    },
    "tags": []
   },
   "outputs": [],
   "source": [
    "import os\n",
    "import cv2\n",
    "import numpy as np\n",
    "import pandas as pd\n",
    "\n",
    "BASE_PATH = \"../input/ocular-disease-recognition-odir5k/ODIR-5K/ODIR-5K\""
   ]
  },
  {
   "cell_type": "code",
   "execution_count": 3,
   "id": "407ef54b",
   "metadata": {
    "execution": {
     "iopub.execute_input": "2022-04-24T09:01:12.210840Z",
     "iopub.status.busy": "2022-04-24T09:01:12.210526Z",
     "iopub.status.idle": "2022-04-24T09:01:12.226858Z",
     "shell.execute_reply": "2022-04-24T09:01:12.225876Z"
    },
    "papermill": {
     "duration": 0.029167,
     "end_time": "2022-04-24T09:01:12.229142",
     "exception": false,
     "start_time": "2022-04-24T09:01:12.199975",
     "status": "completed"
    },
    "tags": []
   },
   "outputs": [],
   "source": [
    "def breaker(num: int = 50, char: str = \"*\") -> None:\n",
    "    print(\"\\n\" + num*char + \"\\n\")\n",
    "\n",
    "\n",
    "def preprocess(image: np.ndarray) -> np.ndarray:\n",
    "    return cv2.cvtColor(src=image, code=cv2.COLOR_BGR2RGB)\n",
    "\n",
    "\n",
    "def get_image(path: str, size: int = None) -> np.ndarray:\n",
    "    image = cv2.cvtColor(src=cv2.imread(path, cv2.IMREAD_COLOR), code=cv2.COLOR_BGR2RGB)\n",
    "    if size:\n",
    "        return cv2.resize(src=image, dsize=(size, size), interpolation=cv2.INTER_AREA)\n",
    "    return image\n",
    "\n",
    "\n",
    "def get_statistics(path: str, names: np.ndarray, sizes: list) -> list:\n",
    "    r_means, g_means, b_means, r_stds, g_stds, b_stds = [], [], [], [], [], []\n",
    "\n",
    "    i = 0\n",
    "    for size in sizes:\n",
    "        r_mean, g_mean, b_mean, r_std, g_std, b_std = 0.0, 0.0, 0.0, 0.0, 0.0, 0.0\n",
    "        for name in names:\n",
    "            main_image = preprocess(cv2.imread(os.path.join(path, name), cv2.IMREAD_COLOR))\n",
    "            image = cv2.resize(src=main_image, dsize=(size, size), interpolation=cv2.INTER_AREA)\n",
    "            r_mean += image[:, :, 0].mean()\n",
    "            g_mean += image[:, :, 1].mean()\n",
    "            b_mean += image[:, :, 2].mean()\n",
    "            r_std  += image[:, :, 0].std()\n",
    "            g_std  += image[:, :, 1].std()\n",
    "            b_std  += image[:, :, 2].std()\n",
    "        \n",
    "        r_means.append(r_mean / len(names))\n",
    "        g_means.append(g_mean / len(names))\n",
    "        b_means.append(b_mean / len(names))\n",
    "\n",
    "        r_stds.append(r_std / len(names))\n",
    "        g_stds.append(g_std / len(names))\n",
    "        b_stds.append(b_std / len(names))\n",
    "    \n",
    "    return r_means, g_means, b_means, r_stds, g_stds, b_stds "
   ]
  },
  {
   "cell_type": "code",
   "execution_count": 4,
   "id": "f15fbca8",
   "metadata": {
    "execution": {
     "iopub.execute_input": "2022-04-24T09:01:12.249272Z",
     "iopub.status.busy": "2022-04-24T09:01:12.248522Z",
     "iopub.status.idle": "2022-04-24T09:01:13.810882Z",
     "shell.execute_reply": "2022-04-24T09:01:13.809895Z"
    },
    "papermill": {
     "duration": 1.575277,
     "end_time": "2022-04-24T09:01:13.813558",
     "exception": false,
     "start_time": "2022-04-24T09:01:12.238281",
     "status": "completed"
    },
    "tags": []
   },
   "outputs": [],
   "source": [
    "df = pd.read_excel(os.path.join(BASE_PATH, \"data.xlsx\"))\n",
    "\n",
    "left_filenames = df[\"Left-Fundus\"].copy().values\n",
    "right_filenames = df[\"Right-Fundus\"].copy().values\n",
    "\n",
    "sizes = [256, 384, 512, 768, 1024]"
   ]
  },
  {
   "cell_type": "code",
   "execution_count": 5,
   "id": "6b08858f",
   "metadata": {
    "execution": {
     "iopub.execute_input": "2022-04-24T09:01:13.834192Z",
     "iopub.status.busy": "2022-04-24T09:01:13.833886Z",
     "iopub.status.idle": "2022-04-24T09:45:58.760735Z",
     "shell.execute_reply": "2022-04-24T09:45:58.759818Z"
    },
    "papermill": {
     "duration": 2684.940053,
     "end_time": "2022-04-24T09:45:58.763450",
     "exception": false,
     "start_time": "2022-04-24T09:01:13.823397",
     "status": "completed"
    },
    "tags": []
   },
   "outputs": [],
   "source": [
    "left_r_means, left_g_means, left_b_means, left_r_stds, left_g_stds, left_b_stds       = get_statistics(os.path.join(BASE_PATH, \"Training Images\"), left_filenames, sizes)\n",
    "right_r_means, right_g_means, right_b_means, right_r_stds, right_g_stds, right_b_stds = get_statistics(os.path.join(BASE_PATH, \"Training Images\"), right_filenames, sizes)"
   ]
  },
  {
   "cell_type": "code",
   "execution_count": 6,
   "id": "8aa2d5f7",
   "metadata": {
    "execution": {
     "iopub.execute_input": "2022-04-24T09:45:58.784996Z",
     "iopub.status.busy": "2022-04-24T09:45:58.784369Z",
     "iopub.status.idle": "2022-04-24T09:45:58.801071Z",
     "shell.execute_reply": "2022-04-24T09:45:58.799867Z"
    },
    "papermill": {
     "duration": 0.029771,
     "end_time": "2022-04-24T09:45:58.803202",
     "exception": false,
     "start_time": "2022-04-24T09:45:58.773431",
     "status": "completed"
    },
    "tags": []
   },
   "outputs": [
    {
     "name": "stdout",
     "output_type": "stream",
     "text": [
      "\n",
      "**************************************************\n",
      "\n",
      "Left-Fundus Images\n",
      "\n",
      "Red Channel Mean (256)   : 0.29863\n",
      "Green Channel Mean (256) : 0.18990\n",
      "Blue Channel Mean (256)  : 0.10370\n",
      "\n",
      "\n",
      "Red Channel Std (256)    : 0.28263\n",
      "Green Channel Std (256)  : 0.18761\n",
      "Blue Channel Std (256)   : 0.10822\n",
      "\n",
      "**************************************************\n",
      "\n",
      "Red Channel Mean (384)   : 0.29863\n",
      "Green Channel Mean (384) : 0.18990\n",
      "Blue Channel Mean (384)  : 0.10370\n",
      "\n",
      "\n",
      "Red Channel Std (384)    : 0.28289\n",
      "Green Channel Std (384)  : 0.18788\n",
      "Blue Channel Std (384)   : 0.10848\n",
      "\n",
      "**************************************************\n",
      "\n",
      "Red Channel Mean (512)   : 0.29863\n",
      "Green Channel Mean (512) : 0.18990\n",
      "Blue Channel Mean (512)  : 0.10370\n",
      "\n",
      "\n",
      "Red Channel Std (512)    : 0.28301\n",
      "Green Channel Std (512)  : 0.18801\n",
      "Blue Channel Std (512)   : 0.10863\n",
      "\n",
      "**************************************************\n",
      "\n",
      "Red Channel Mean (768)   : 0.29863\n",
      "Green Channel Mean (768) : 0.18990\n",
      "Blue Channel Mean (768)  : 0.10370\n",
      "\n",
      "\n",
      "Red Channel Std (768)    : 0.28314\n",
      "Green Channel Std (768)  : 0.18815\n",
      "Blue Channel Std (768)   : 0.10881\n",
      "\n",
      "**************************************************\n",
      "\n",
      "Red Channel Mean (1024)   : 0.29863\n",
      "Green Channel Mean (1024) : 0.18990\n",
      "Blue Channel Mean (1024)  : 0.10370\n",
      "\n",
      "\n",
      "Red Channel Std (1024)    : 0.28319\n",
      "Green Channel Std (1024)  : 0.18821\n",
      "Blue Channel Std (1024)   : 0.10892\n",
      "\n",
      "**************************************************\n",
      "\n"
     ]
    }
   ],
   "source": [
    "breaker()\n",
    "print(\"Left-Fundus Images\\n\")\n",
    "for i in range(len(sizes)):\n",
    "    print(f\"Red Channel Mean ({sizes[i]})   : {left_r_means[i] / 255:.5f}\")\n",
    "    print(f\"Green Channel Mean ({sizes[i]}) : {left_g_means[i] / 255:.5f}\")\n",
    "    print(f\"Blue Channel Mean ({sizes[i]})  : {left_b_means[i] / 255:.5f}\")\n",
    "    print(\"\\n\")\n",
    "    print(f\"Red Channel Std ({sizes[i]})    : {left_r_stds[i] / 255:.5f}\")\n",
    "    print(f\"Green Channel Std ({sizes[i]})  : {left_g_stds[i] / 255:.5f}\")\n",
    "    print(f\"Blue Channel Std ({sizes[i]})   : {left_b_stds[i] / 255:.5f}\")\n",
    "    breaker()"
   ]
  },
  {
   "cell_type": "code",
   "execution_count": 7,
   "id": "5e9ed6de",
   "metadata": {
    "execution": {
     "iopub.execute_input": "2022-04-24T09:45:58.824885Z",
     "iopub.status.busy": "2022-04-24T09:45:58.824626Z",
     "iopub.status.idle": "2022-04-24T09:45:58.836148Z",
     "shell.execute_reply": "2022-04-24T09:45:58.835529Z"
    },
    "papermill": {
     "duration": 0.025307,
     "end_time": "2022-04-24T09:45:58.838156",
     "exception": false,
     "start_time": "2022-04-24T09:45:58.812849",
     "status": "completed"
    },
    "tags": []
   },
   "outputs": [
    {
     "name": "stdout",
     "output_type": "stream",
     "text": [
      "\n",
      "**************************************************\n",
      "\n",
      "Right-Fundus Images\n",
      "\n",
      "Red Channel Mean (256)   : 0.30126\n",
      "Green Channel Mean (256) : 0.19034\n",
      "Blue Channel Mean (256)  : 0.10204\n",
      "\n",
      "\n",
      "Red Channel Std (256)    : 0.28629\n",
      "Green Channel Std (256)  : 0.18920\n",
      "Blue Channel Std (256)   : 0.10751\n",
      "\n",
      "**************************************************\n",
      "\n",
      "Red Channel Mean (384)   : 0.30126\n",
      "Green Channel Mean (384) : 0.19034\n",
      "Blue Channel Mean (384)  : 0.10203\n",
      "\n",
      "\n",
      "Red Channel Std (384)    : 0.28655\n",
      "Green Channel Std (384)  : 0.18947\n",
      "Blue Channel Std (384)   : 0.10776\n",
      "\n",
      "**************************************************\n",
      "\n",
      "Red Channel Mean (512)   : 0.30126\n",
      "Green Channel Mean (512) : 0.19034\n",
      "Blue Channel Mean (512)  : 0.10203\n",
      "\n",
      "\n",
      "Red Channel Std (512)    : 0.28667\n",
      "Green Channel Std (512)  : 0.18960\n",
      "Blue Channel Std (512)   : 0.10791\n",
      "\n",
      "**************************************************\n",
      "\n",
      "Red Channel Mean (768)   : 0.30126\n",
      "Green Channel Mean (768) : 0.19034\n",
      "Blue Channel Mean (768)  : 0.10203\n",
      "\n",
      "\n",
      "Red Channel Std (768)    : 0.28680\n",
      "Green Channel Std (768)  : 0.18974\n",
      "Blue Channel Std (768)   : 0.10809\n",
      "\n",
      "**************************************************\n",
      "\n",
      "Red Channel Mean (1024)   : 0.30126\n",
      "Green Channel Mean (1024) : 0.19034\n",
      "Blue Channel Mean (1024)  : 0.10203\n",
      "\n",
      "\n",
      "Red Channel Std (1024)    : 0.28685\n",
      "Green Channel Std (1024)  : 0.18981\n",
      "Blue Channel Std (1024)   : 0.10819\n",
      "\n",
      "**************************************************\n",
      "\n"
     ]
    }
   ],
   "source": [
    "breaker()\n",
    "print(\"Right-Fundus Images\\n\")\n",
    "for i in range(len(sizes)):\n",
    "    print(f\"Red Channel Mean ({sizes[i]})   : {right_r_means[i] / 255:.5f}\")\n",
    "    print(f\"Green Channel Mean ({sizes[i]}) : {right_g_means[i] / 255:.5f}\")\n",
    "    print(f\"Blue Channel Mean ({sizes[i]})  : {right_b_means[i] / 255:.5f}\")\n",
    "    print(\"\\n\")\n",
    "    print(f\"Red Channel Std ({sizes[i]})    : {right_r_stds[i] / 255:.5f}\")\n",
    "    print(f\"Green Channel Std ({sizes[i]})  : {right_g_stds[i] / 255:.5f}\")\n",
    "    print(f\"Blue Channel Std ({sizes[i]})   : {right_b_stds[i] / 255:.5f}\")\n",
    "    breaker()"
   ]
  }
 ],
 "metadata": {
  "kernelspec": {
   "display_name": "Python 3",
   "language": "python",
   "name": "python3"
  },
  "language_info": {
   "codemirror_mode": {
    "name": "ipython",
    "version": 3
   },
   "file_extension": ".py",
   "mimetype": "text/x-python",
   "name": "python",
   "nbconvert_exporter": "python",
   "pygments_lexer": "ipython3",
   "version": "3.7.12"
  },
  "papermill": {
   "default_parameters": {},
   "duration": 2709.251375,
   "end_time": "2022-04-24T09:45:59.575126",
   "environment_variables": {},
   "exception": null,
   "input_path": "__notebook__.ipynb",
   "output_path": "__notebook__.ipynb",
   "parameters": {},
   "start_time": "2022-04-24T09:00:50.323751",
   "version": "2.3.4"
  }
 },
 "nbformat": 4,
 "nbformat_minor": 5
}
