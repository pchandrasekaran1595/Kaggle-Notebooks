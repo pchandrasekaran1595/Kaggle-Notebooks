{
 "cells": [
  {
   "cell_type": "code",
   "execution_count": 1,
   "id": "74ef78e6",
   "metadata": {
    "_cell_guid": "b1076dfc-b9ad-4769-8c92-a6c4dae69d19",
    "_uuid": "8f2839f25d086af736a60e9eeb907d3b93b6e0e5",
    "execution": {
     "iopub.execute_input": "2022-04-25T09:02:33.843648Z",
     "iopub.status.busy": "2022-04-25T09:02:33.842596Z",
     "iopub.status.idle": "2022-04-25T09:02:47.234834Z",
     "shell.execute_reply": "2022-04-25T09:02:47.233563Z"
    },
    "papermill": {
     "duration": 13.404988,
     "end_time": "2022-04-25T09:02:47.237439",
     "exception": false,
     "start_time": "2022-04-25T09:02:33.832451",
     "status": "completed"
    },
    "tags": []
   },
   "outputs": [
    {
     "name": "stdout",
     "output_type": "stream",
     "text": [
      "Collecting openpyxl\n",
      "  Downloading openpyxl-3.0.9-py2.py3-none-any.whl (242 kB)\n",
      "     ━━━━━━━━━━━━━━━━━━━━━━━━━━━━━━━━━━━━━━━ 242.2/242.2 KB 1.6 MB/s eta 0:00:00\n",
      "Collecting et-xmlfile\n",
      "  Downloading et_xmlfile-1.1.0-py3-none-any.whl (4.7 kB)\n",
      "Installing collected packages: et-xmlfile, openpyxl\n",
      "Successfully installed et-xmlfile-1.1.0 openpyxl-3.0.9\n"
     ]
    },
    {
     "name": "stderr",
     "output_type": "stream",
     "text": [
      "WARNING: Running pip as the 'root' user can result in broken permissions and conflicting behaviour with the system package manager. It is recommended to use a virtual environment instead: https://pip.pypa.io/warnings/venv\n"
     ]
    }
   ],
   "source": [
    "%%bash\n",
    "pip install openpyxl"
   ]
  },
  {
   "cell_type": "code",
   "execution_count": 2,
   "id": "e46cf326",
   "metadata": {
    "execution": {
     "iopub.execute_input": "2022-04-25T09:02:47.255575Z",
     "iopub.status.busy": "2022-04-25T09:02:47.255237Z",
     "iopub.status.idle": "2022-04-25T09:02:47.487499Z",
     "shell.execute_reply": "2022-04-25T09:02:47.486803Z"
    },
    "papermill": {
     "duration": 0.244024,
     "end_time": "2022-04-25T09:02:47.490075",
     "exception": false,
     "start_time": "2022-04-25T09:02:47.246051",
     "status": "completed"
    },
    "tags": []
   },
   "outputs": [],
   "source": [
    "import os\n",
    "import cv2\n",
    "import numpy as np\n",
    "import pandas as pd\n",
    "\n",
    "BASE_PATH = \"../input/ocular-disease-recognition-odir5k/ODIR-5K/ODIR-5K\"\n",
    "SIZE = 256"
   ]
  },
  {
   "cell_type": "code",
   "execution_count": 3,
   "id": "d556bdef",
   "metadata": {
    "execution": {
     "iopub.execute_input": "2022-04-25T09:02:47.507698Z",
     "iopub.status.busy": "2022-04-25T09:02:47.507216Z",
     "iopub.status.idle": "2022-04-25T09:02:47.517737Z",
     "shell.execute_reply": "2022-04-25T09:02:47.517096Z"
    },
    "papermill": {
     "duration": 0.021873,
     "end_time": "2022-04-25T09:02:47.520072",
     "exception": false,
     "start_time": "2022-04-25T09:02:47.498199",
     "status": "completed"
    },
    "tags": []
   },
   "outputs": [],
   "source": [
    "def breaker(num: int = 50, char: str = \"*\") -> None:\n",
    "    print(\"\\n\" + num*char + \"\\n\")\n",
    "\n",
    "    \n",
    "def preprocess(image: np.ndarray, size: int) -> np.ndarray:\n",
    "    return cv2.resize(src=cv2.cvtColor(src=image, code=cv2.COLOR_BGR2RGB), dsize=(size, size), interpolation=cv2.INTER_AREA)\n",
    "\n",
    "\n",
    "def get_images(path: str, names: np.ndarray, size: int) -> np.ndarray:\n",
    "    images = np.zeros((len(names), size, size, 3), dtype=np.uint8)\n",
    "    \n",
    "    i = 0\n",
    "    for name in names:\n",
    "        images[i] = preprocess(cv2.imread(os.path.join(path, name), cv2.IMREAD_COLOR), size)\n",
    "        i += 1\n",
    "    return images\n",
    "\n",
    "\n",
    "def get_statistics(images: np.ndarray, size: int) -> None:\n",
    "    print(f\"Mean {size}x{size}\\n\")\n",
    "    print(f\"Red Channel Mean   {size} : {images[:, :, :, 0].mean() / 255:.5f}\")\n",
    "    print(f\"Green Channel Mean {size} : {images[:, :, :, 1].mean() / 255:.5f}\")\n",
    "    print(f\"Blue Channel Mean  {size} : {images[:, :, :, 2].mean() / 255:.5f}\")\n",
    "    print(\"\")\n",
    "    print(f\"Standard Deviation {size}x{size}\\n\")\n",
    "    print(f\"Red Channel Std    {size} : {images[:, :, :, 0].std() / 255:.5f}\")\n",
    "    print(f\"Green Channel Std  {size} : {images[:, :, :, 1].std() / 255:.5f}\")\n",
    "    print(f\"Blue Channel Std   {size} : {images[:, :, :, 2].std() / 255:.5f}\")"
   ]
  },
  {
   "cell_type": "code",
   "execution_count": 4,
   "id": "5aaf4dad",
   "metadata": {
    "execution": {
     "iopub.execute_input": "2022-04-25T09:02:47.537420Z",
     "iopub.status.busy": "2022-04-25T09:02:47.536668Z",
     "iopub.status.idle": "2022-04-25T09:12:22.937498Z",
     "shell.execute_reply": "2022-04-25T09:12:22.936426Z"
    },
    "papermill": {
     "duration": 575.412916,
     "end_time": "2022-04-25T09:12:22.940563",
     "exception": false,
     "start_time": "2022-04-25T09:02:47.527647",
     "status": "completed"
    },
    "tags": []
   },
   "outputs": [],
   "source": [
    "df = pd.read_excel(os.path.join(BASE_PATH, \"data.xlsx\"))\n",
    "\n",
    "left_filenames = df[\"Left-Fundus\"].copy().values\n",
    "right_filenames = df[\"Right-Fundus\"].copy().values\n",
    "targets = df.iloc[:, -8:].copy().values\n",
    "\n",
    "left_images  = get_images(os.path.join(BASE_PATH, \"Training Images\"), left_filenames, SIZE)\n",
    "right_images = get_images(os.path.join(BASE_PATH, \"Training Images\"), right_filenames, SIZE)\n",
    "\n",
    "np.save(f\"./left_images_{SIZE}.npy\", left_images)\n",
    "np.save(f\"./right_images_{SIZE}.npy\", right_images)\n",
    "np.save(f\"./targets_{SIZE}.npy\", targets)"
   ]
  },
  {
   "cell_type": "code",
   "execution_count": 5,
   "id": "dd0e80b6",
   "metadata": {
    "execution": {
     "iopub.execute_input": "2022-04-25T09:12:22.957705Z",
     "iopub.status.busy": "2022-04-25T09:12:22.957397Z",
     "iopub.status.idle": "2022-04-25T09:12:42.245886Z",
     "shell.execute_reply": "2022-04-25T09:12:42.244181Z"
    },
    "papermill": {
     "duration": 19.300905,
     "end_time": "2022-04-25T09:12:42.249178",
     "exception": false,
     "start_time": "2022-04-25T09:12:22.948273",
     "status": "completed"
    },
    "tags": []
   },
   "outputs": [
    {
     "name": "stdout",
     "output_type": "stream",
     "text": [
      "\n",
      "**************************************************\n",
      "\n",
      "Left-Fundus Images\n",
      "\n",
      "Mean 256x256\n",
      "\n",
      "Red Channel Mean   256 : 0.29863\n",
      "Green Channel Mean 256 : 0.18990\n",
      "Blue Channel Mean  256 : 0.10370\n",
      "\n",
      "Standard Deviation 256x256\n",
      "\n",
      "Red Channel Std    256 : 0.30966\n",
      "Green Channel Std  256 : 0.21207\n",
      "Blue Channel Std   256 : 0.13875\n",
      "\n",
      "**************************************************\n",
      "\n",
      "Right-Fundus Images\n",
      "\n",
      "Mean 256x256\n",
      "\n",
      "Red Channel Mean   256 : 0.30126\n",
      "Green Channel Mean 256 : 0.19034\n",
      "Blue Channel Mean  256 : 0.10204\n",
      "\n",
      "Standard Deviation 256x256\n",
      "\n",
      "Red Channel Std    256 : 0.31159\n",
      "Green Channel Std  256 : 0.21214\n",
      "Blue Channel Std   256 : 0.13689\n",
      "\n",
      "**************************************************\n",
      "\n"
     ]
    }
   ],
   "source": [
    "breaker()\n",
    "print(\"Left-Fundus Images\\n\")\n",
    "get_statistics(left_images, SIZE)\n",
    "breaker()\n",
    "print(\"Right-Fundus Images\\n\")\n",
    "get_statistics(right_images, SIZE)\n",
    "breaker()"
   ]
  }
 ],
 "metadata": {
  "kernelspec": {
   "display_name": "Python 3",
   "language": "python",
   "name": "python3"
  },
  "language_info": {
   "codemirror_mode": {
    "name": "ipython",
    "version": 3
   },
   "file_extension": ".py",
   "mimetype": "text/x-python",
   "name": "python",
   "nbconvert_exporter": "python",
   "pygments_lexer": "ipython3",
   "version": "3.7.12"
  },
  "papermill": {
   "default_parameters": {},
   "duration": 620.946339,
   "end_time": "2022-04-25T09:12:43.494239",
   "environment_variables": {},
   "exception": null,
   "input_path": "__notebook__.ipynb",
   "output_path": "__notebook__.ipynb",
   "parameters": {},
   "start_time": "2022-04-25T09:02:22.547900",
   "version": "2.3.4"
  }
 },
 "nbformat": 4,
 "nbformat_minor": 5
}
