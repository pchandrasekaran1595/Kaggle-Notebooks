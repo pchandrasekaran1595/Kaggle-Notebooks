{
 "cells": [
  {
   "cell_type": "code",
   "execution_count": 1,
   "id": "01491b76",
   "metadata": {
    "_cell_guid": "b1076dfc-b9ad-4769-8c92-a6c4dae69d19",
    "_uuid": "8f2839f25d086af736a60e9eeb907d3b93b6e0e5",
    "execution": {
     "iopub.execute_input": "2022-04-25T06:27:07.360531Z",
     "iopub.status.busy": "2022-04-25T06:27:07.359920Z",
     "iopub.status.idle": "2022-04-25T06:27:19.311198Z",
     "shell.execute_reply": "2022-04-25T06:27:19.310295Z"
    },
    "papermill": {
     "duration": 11.962573,
     "end_time": "2022-04-25T06:27:19.313378",
     "exception": false,
     "start_time": "2022-04-25T06:27:07.350805",
     "status": "completed"
    },
    "tags": []
   },
   "outputs": [
    {
     "name": "stdout",
     "output_type": "stream",
     "text": [
      "Collecting openpyxl\n",
      "  Downloading openpyxl-3.0.9-py2.py3-none-any.whl (242 kB)\n",
      "     ━━━━━━━━━━━━━━━━━━━━━━━━━━━━━━━━━━━━━━━ 242.2/242.2 KB 1.3 MB/s eta 0:00:00\n",
      "Collecting et-xmlfile\n",
      "  Downloading et_xmlfile-1.1.0-py3-none-any.whl (4.7 kB)\n",
      "Installing collected packages: et-xmlfile, openpyxl\n",
      "Successfully installed et-xmlfile-1.1.0 openpyxl-3.0.9\n"
     ]
    },
    {
     "name": "stderr",
     "output_type": "stream",
     "text": [
      "WARNING: Running pip as the 'root' user can result in broken permissions and conflicting behaviour with the system package manager. It is recommended to use a virtual environment instead: https://pip.pypa.io/warnings/venv\n"
     ]
    }
   ],
   "source": [
    "%%bash\n",
    "pip install openpyxl"
   ]
  },
  {
   "cell_type": "code",
   "execution_count": 2,
   "id": "9f07327e",
   "metadata": {
    "execution": {
     "iopub.execute_input": "2022-04-25T06:27:19.329600Z",
     "iopub.status.busy": "2022-04-25T06:27:19.329350Z",
     "iopub.status.idle": "2022-04-25T06:27:19.540034Z",
     "shell.execute_reply": "2022-04-25T06:27:19.539254Z"
    },
    "papermill": {
     "duration": 0.22139,
     "end_time": "2022-04-25T06:27:19.542419",
     "exception": false,
     "start_time": "2022-04-25T06:27:19.321029",
     "status": "completed"
    },
    "tags": []
   },
   "outputs": [],
   "source": [
    "import os\n",
    "import cv2\n",
    "import numpy as np\n",
    "import pandas as pd\n",
    "\n",
    "BASE_PATH = \"../input/ocular-disease-recognition-odir5k/ODIR-5K/ODIR-5K\"\n",
    "SIZE = 512"
   ]
  },
  {
   "cell_type": "code",
   "execution_count": 3,
   "id": "08c5b280",
   "metadata": {
    "execution": {
     "iopub.execute_input": "2022-04-25T06:27:19.558817Z",
     "iopub.status.busy": "2022-04-25T06:27:19.558150Z",
     "iopub.status.idle": "2022-04-25T06:27:19.570333Z",
     "shell.execute_reply": "2022-04-25T06:27:19.569585Z"
    },
    "papermill": {
     "duration": 0.02275,
     "end_time": "2022-04-25T06:27:19.572317",
     "exception": false,
     "start_time": "2022-04-25T06:27:19.549567",
     "status": "completed"
    },
    "tags": []
   },
   "outputs": [],
   "source": [
    "def breaker(num: int = 50, char: str = \"*\") -> None:\n",
    "    print(\"\\n\" + num*char + \"\\n\")\n",
    "\n",
    "    \n",
    "def preprocess(image: np.ndarray, size: int) -> np.ndarray:\n",
    "    return cv2.resize(src=cv2.cvtColor(src=image, code=cv2.COLOR_BGR2RGB), dsize=(size, size), interpolation=cv2.INTER_AREA)\n",
    "\n",
    "\n",
    "def get_images(path: str, names: np.ndarray, size: int) -> np.ndarray:\n",
    "    images = np.zeros((len(names), size, size, 3), dtype=np.uint8)\n",
    "    \n",
    "    i = 0\n",
    "    for name in names:\n",
    "        images[i] = preprocess(cv2.imread(os.path.join(path, name), cv2.IMREAD_COLOR), size)\n",
    "        i += 1\n",
    "    return images\n",
    "\n",
    "\n",
    "def get_statistics(images: np.ndarray, size: int) -> None:\n",
    "    print(f\"Mean {size}x{size}\\n\")\n",
    "    print(f\"Red Channel Mean   {size} : {images[:, :, 0].mean() / 255:.5f}\")\n",
    "    print(f\"Green Channel Mean {size} : {images[:, :, 1].mean() / 255:.5f}\")\n",
    "    print(f\"Blue Channel Mean  {size} : {images[:, :, 2].mean() / 255:.5f}\")\n",
    "    print(\"\")\n",
    "    print(f\"Standard Deviation {size}x{size}\\n\")\n",
    "    print(f\"Red Channel Std    {size} : {images[:, :, 0].std() / 255:.5f}\")\n",
    "    print(f\"Green Channel Std  {size} : {images[:, :, 1].std() / 255:.5f}\")\n",
    "    print(f\"Blue Channel Std   {size} : {images[:, :, 2].std() / 255:.5f}\")"
   ]
  },
  {
   "cell_type": "code",
   "execution_count": 4,
   "id": "72febdd9",
   "metadata": {
    "execution": {
     "iopub.execute_input": "2022-04-25T06:27:19.587968Z",
     "iopub.status.busy": "2022-04-25T06:27:19.587290Z",
     "iopub.status.idle": "2022-04-25T06:35:44.177618Z",
     "shell.execute_reply": "2022-04-25T06:35:44.175240Z"
    },
    "papermill": {
     "duration": 504.604838,
     "end_time": "2022-04-25T06:35:44.184384",
     "exception": false,
     "start_time": "2022-04-25T06:27:19.579546",
     "status": "completed"
    },
    "tags": []
   },
   "outputs": [],
   "source": [
    "df = pd.read_excel(os.path.join(BASE_PATH, \"data.xlsx\"))\n",
    "\n",
    "left_filenames = df[\"Left-Fundus\"].copy().values\n",
    "right_filenames = df[\"Right-Fundus\"].copy().values\n",
    "targets = df.iloc[:, -8:].copy().values\n",
    "\n",
    "left_images  = get_images(os.path.join(BASE_PATH, \"Training Images\"), left_filenames, SIZE)\n",
    "right_images = get_images(os.path.join(BASE_PATH, \"Training Images\"), right_filenames, SIZE)\n",
    "\n",
    "np.save(f\"./left_images_{SIZE}.npy\", left_images)\n",
    "np.save(f\"./right_images_{SIZE}.npy\", right_images)\n",
    "np.save(f\"./targets_{SIZE}.npy\", targets)"
   ]
  },
  {
   "cell_type": "code",
   "execution_count": 5,
   "id": "97b81f9f",
   "metadata": {
    "execution": {
     "iopub.execute_input": "2022-04-25T06:35:46.668647Z",
     "iopub.status.busy": "2022-04-25T06:35:46.668202Z",
     "iopub.status.idle": "2022-04-25T06:35:51.740675Z",
     "shell.execute_reply": "2022-04-25T06:35:51.739693Z"
    },
    "papermill": {
     "duration": 5.659729,
     "end_time": "2022-04-25T06:35:51.743164",
     "exception": false,
     "start_time": "2022-04-25T06:35:46.083435",
     "status": "completed"
    },
    "tags": []
   },
   "outputs": [
    {
     "name": "stdout",
     "output_type": "stream",
     "text": [
      "\n",
      "**************************************************\n",
      "\n",
      "Left-Fundus Images\n",
      "\n",
      "Mean 512x512\n",
      "\n",
      "Red Channel Mean   512 : 0.00194\n",
      "Green Channel Mean 512 : 0.00194\n",
      "Blue Channel Mean  512 : 0.00200\n",
      "\n",
      "Standard Deviation 512x512\n",
      "\n",
      "Red Channel Std    512 : 0.04355\n",
      "Green Channel Std  512 : 0.04347\n",
      "Blue Channel Std   512 : 0.04350\n",
      "\n",
      "**************************************************\n",
      "\n",
      "Right-Fundus Images\n",
      "\n",
      "Mean 512x512\n",
      "\n",
      "Red Channel Mean   512 : 0.00232\n",
      "Green Channel Mean 512 : 0.00232\n",
      "Blue Channel Mean  512 : 0.00238\n",
      "\n",
      "Standard Deviation 512x512\n",
      "\n",
      "Red Channel Std    512 : 0.04776\n",
      "Green Channel Std  512 : 0.04776\n",
      "Blue Channel Std   512 : 0.04782\n",
      "\n",
      "**************************************************\n",
      "\n"
     ]
    }
   ],
   "source": [
    "breaker()\n",
    "print(\"Left-Fundus Images\\n\")\n",
    "get_statistics(left_images, SIZE)\n",
    "breaker()\n",
    "print(\"Right-Fundus Images\\n\")\n",
    "get_statistics(right_images, SIZE)\n",
    "breaker()"
   ]
  }
 ],
 "metadata": {
  "kernelspec": {
   "display_name": "Python 3",
   "language": "python",
   "name": "python3"
  },
  "language_info": {
   "codemirror_mode": {
    "name": "ipython",
    "version": 3
   },
   "file_extension": ".py",
   "mimetype": "text/x-python",
   "name": "python",
   "nbconvert_exporter": "python",
   "pygments_lexer": "ipython3",
   "version": "3.7.12"
  },
  "papermill": {
   "default_parameters": {},
   "duration": 535.880774,
   "end_time": "2022-04-25T06:35:53.288824",
   "environment_variables": {},
   "exception": null,
   "input_path": "__notebook__.ipynb",
   "output_path": "__notebook__.ipynb",
   "parameters": {},
   "start_time": "2022-04-25T06:26:57.408050",
   "version": "2.3.4"
  }
 },
 "nbformat": 4,
 "nbformat_minor": 5
}
