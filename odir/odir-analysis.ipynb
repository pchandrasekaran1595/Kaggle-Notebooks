{
 "cells": [
  {
   "cell_type": "code",
   "execution_count": 1,
   "id": "5836cdbe",
   "metadata": {
    "_cell_guid": "b1076dfc-b9ad-4769-8c92-a6c4dae69d19",
    "_uuid": "8f2839f25d086af736a60e9eeb907d3b93b6e0e5",
    "execution": {
     "iopub.execute_input": "2022-04-24T08:35:14.938184Z",
     "iopub.status.busy": "2022-04-24T08:35:14.937718Z",
     "iopub.status.idle": "2022-04-24T08:35:30.327445Z",
     "shell.execute_reply": "2022-04-24T08:35:30.326472Z"
    },
    "papermill": {
     "duration": 15.403468,
     "end_time": "2022-04-24T08:35:30.329426",
     "exception": false,
     "start_time": "2022-04-24T08:35:14.925958",
     "status": "completed"
    },
    "tags": []
   },
   "outputs": [
    {
     "name": "stdout",
     "output_type": "stream",
     "text": [
      "Collecting openpyxl\n",
      "  Downloading openpyxl-3.0.9-py2.py3-none-any.whl (242 kB)\n",
      "     ━━━━━━━━━━━━━━━━━━━━━━━━━━━━━━━━━━━━━ 242.2/242.2 KB 959.2 kB/s eta 0:00:00\n",
      "Collecting et-xmlfile\n",
      "  Downloading et_xmlfile-1.1.0-py3-none-any.whl (4.7 kB)\n",
      "Installing collected packages: et-xmlfile, openpyxl\n",
      "Successfully installed et-xmlfile-1.1.0 openpyxl-3.0.9\n"
     ]
    },
    {
     "name": "stderr",
     "output_type": "stream",
     "text": [
      "WARNING: Running pip as the 'root' user can result in broken permissions and conflicting behaviour with the system package manager. It is recommended to use a virtual environment instead: https://pip.pypa.io/warnings/venv\n"
     ]
    }
   ],
   "source": [
    "%%bash\n",
    "pip install openpyxl"
   ]
  },
  {
   "cell_type": "code",
   "execution_count": 2,
   "id": "10b15e07",
   "metadata": {
    "execution": {
     "iopub.execute_input": "2022-04-24T08:35:30.345486Z",
     "iopub.status.busy": "2022-04-24T08:35:30.345186Z",
     "iopub.status.idle": "2022-04-24T08:35:32.123872Z",
     "shell.execute_reply": "2022-04-24T08:35:32.122923Z"
    },
    "papermill": {
     "duration": 1.789937,
     "end_time": "2022-04-24T08:35:32.126789",
     "exception": false,
     "start_time": "2022-04-24T08:35:30.336852",
     "status": "completed"
    },
    "tags": []
   },
   "outputs": [],
   "source": [
    "import os\n",
    "import cv2\n",
    "import random as r\n",
    "import numpy as np\n",
    "import pandas as pd\n",
    "import seaborn as sns\n",
    "import matplotlib.pyplot as plt\n",
    "\n",
    "BASE_PATH = \"../input/ocular-disease-recognition-odir5k/ODIR-5K/ODIR-5K\""
   ]
  },
  {
   "cell_type": "code",
   "execution_count": 3,
   "id": "b39f4989",
   "metadata": {
    "execution": {
     "iopub.execute_input": "2022-04-24T08:35:32.149385Z",
     "iopub.status.busy": "2022-04-24T08:35:32.149084Z",
     "iopub.status.idle": "2022-04-24T08:35:34.124481Z",
     "shell.execute_reply": "2022-04-24T08:35:34.123493Z"
    },
    "papermill": {
     "duration": 1.989143,
     "end_time": "2022-04-24T08:35:34.126496",
     "exception": false,
     "start_time": "2022-04-24T08:35:32.137353",
     "status": "completed"
    },
    "tags": []
   },
   "outputs": [
    {
     "data": {
      "text/html": [
       "<div>\n",
       "<style scoped>\n",
       "    .dataframe tbody tr th:only-of-type {\n",
       "        vertical-align: middle;\n",
       "    }\n",
       "\n",
       "    .dataframe tbody tr th {\n",
       "        vertical-align: top;\n",
       "    }\n",
       "\n",
       "    .dataframe thead th {\n",
       "        text-align: right;\n",
       "    }\n",
       "</style>\n",
       "<table border=\"1\" class=\"dataframe\">\n",
       "  <thead>\n",
       "    <tr style=\"text-align: right;\">\n",
       "      <th></th>\n",
       "      <th>ID</th>\n",
       "      <th>Patient Age</th>\n",
       "      <th>Patient Sex</th>\n",
       "      <th>Left-Fundus</th>\n",
       "      <th>Right-Fundus</th>\n",
       "      <th>Left-Diagnostic Keywords</th>\n",
       "      <th>Right-Diagnostic Keywords</th>\n",
       "      <th>N</th>\n",
       "      <th>D</th>\n",
       "      <th>G</th>\n",
       "      <th>C</th>\n",
       "      <th>A</th>\n",
       "      <th>H</th>\n",
       "      <th>M</th>\n",
       "      <th>O</th>\n",
       "    </tr>\n",
       "  </thead>\n",
       "  <tbody>\n",
       "    <tr>\n",
       "      <th>0</th>\n",
       "      <td>0</td>\n",
       "      <td>69</td>\n",
       "      <td>Female</td>\n",
       "      <td>0_left.jpg</td>\n",
       "      <td>0_right.jpg</td>\n",
       "      <td>cataract</td>\n",
       "      <td>normal fundus</td>\n",
       "      <td>0</td>\n",
       "      <td>0</td>\n",
       "      <td>0</td>\n",
       "      <td>1</td>\n",
       "      <td>0</td>\n",
       "      <td>0</td>\n",
       "      <td>0</td>\n",
       "      <td>0</td>\n",
       "    </tr>\n",
       "    <tr>\n",
       "      <th>1</th>\n",
       "      <td>1</td>\n",
       "      <td>57</td>\n",
       "      <td>Male</td>\n",
       "      <td>1_left.jpg</td>\n",
       "      <td>1_right.jpg</td>\n",
       "      <td>normal fundus</td>\n",
       "      <td>normal fundus</td>\n",
       "      <td>1</td>\n",
       "      <td>0</td>\n",
       "      <td>0</td>\n",
       "      <td>0</td>\n",
       "      <td>0</td>\n",
       "      <td>0</td>\n",
       "      <td>0</td>\n",
       "      <td>0</td>\n",
       "    </tr>\n",
       "    <tr>\n",
       "      <th>2</th>\n",
       "      <td>2</td>\n",
       "      <td>42</td>\n",
       "      <td>Male</td>\n",
       "      <td>2_left.jpg</td>\n",
       "      <td>2_right.jpg</td>\n",
       "      <td>laser spot，moderate non proliferative retinopathy</td>\n",
       "      <td>moderate non proliferative retinopathy</td>\n",
       "      <td>0</td>\n",
       "      <td>1</td>\n",
       "      <td>0</td>\n",
       "      <td>0</td>\n",
       "      <td>0</td>\n",
       "      <td>0</td>\n",
       "      <td>0</td>\n",
       "      <td>1</td>\n",
       "    </tr>\n",
       "    <tr>\n",
       "      <th>3</th>\n",
       "      <td>3</td>\n",
       "      <td>66</td>\n",
       "      <td>Male</td>\n",
       "      <td>3_left.jpg</td>\n",
       "      <td>3_right.jpg</td>\n",
       "      <td>normal fundus</td>\n",
       "      <td>branch retinal artery occlusion</td>\n",
       "      <td>0</td>\n",
       "      <td>0</td>\n",
       "      <td>0</td>\n",
       "      <td>0</td>\n",
       "      <td>0</td>\n",
       "      <td>0</td>\n",
       "      <td>0</td>\n",
       "      <td>1</td>\n",
       "    </tr>\n",
       "    <tr>\n",
       "      <th>4</th>\n",
       "      <td>4</td>\n",
       "      <td>53</td>\n",
       "      <td>Male</td>\n",
       "      <td>4_left.jpg</td>\n",
       "      <td>4_right.jpg</td>\n",
       "      <td>macular epiretinal membrane</td>\n",
       "      <td>mild nonproliferative retinopathy</td>\n",
       "      <td>0</td>\n",
       "      <td>1</td>\n",
       "      <td>0</td>\n",
       "      <td>0</td>\n",
       "      <td>0</td>\n",
       "      <td>0</td>\n",
       "      <td>0</td>\n",
       "      <td>1</td>\n",
       "    </tr>\n",
       "  </tbody>\n",
       "</table>\n",
       "</div>"
      ],
      "text/plain": [
       "   ID  Patient Age Patient Sex Left-Fundus Right-Fundus  \\\n",
       "0   0           69      Female  0_left.jpg  0_right.jpg   \n",
       "1   1           57        Male  1_left.jpg  1_right.jpg   \n",
       "2   2           42        Male  2_left.jpg  2_right.jpg   \n",
       "3   3           66        Male  3_left.jpg  3_right.jpg   \n",
       "4   4           53        Male  4_left.jpg  4_right.jpg   \n",
       "\n",
       "                            Left-Diagnostic Keywords  \\\n",
       "0                                           cataract   \n",
       "1                                      normal fundus   \n",
       "2  laser spot，moderate non proliferative retinopathy   \n",
       "3                                      normal fundus   \n",
       "4                        macular epiretinal membrane   \n",
       "\n",
       "                Right-Diagnostic Keywords  N  D  G  C  A  H  M  O  \n",
       "0                           normal fundus  0  0  0  1  0  0  0  0  \n",
       "1                           normal fundus  1  0  0  0  0  0  0  0  \n",
       "2  moderate non proliferative retinopathy  0  1  0  0  0  0  0  1  \n",
       "3         branch retinal artery occlusion  0  0  0  0  0  0  0  1  \n",
       "4       mild nonproliferative retinopathy  0  1  0  0  0  0  0  1  "
      ]
     },
     "execution_count": 3,
     "metadata": {},
     "output_type": "execute_result"
    }
   ],
   "source": [
    "df = pd.read_excel(os.path.join(BASE_PATH, \"data.xlsx\"))\n",
    "df.head(5)"
   ]
  },
  {
   "cell_type": "code",
   "execution_count": 4,
   "id": "b095b87c",
   "metadata": {
    "execution": {
     "iopub.execute_input": "2022-04-24T08:35:34.150561Z",
     "iopub.status.busy": "2022-04-24T08:35:34.150240Z",
     "iopub.status.idle": "2022-04-24T08:35:34.154207Z",
     "shell.execute_reply": "2022-04-24T08:35:34.153340Z"
    },
    "papermill": {
     "duration": 0.018454,
     "end_time": "2022-04-24T08:35:34.156250",
     "exception": false,
     "start_time": "2022-04-24T08:35:34.137796",
     "status": "completed"
    },
    "tags": []
   },
   "outputs": [],
   "source": [
    "# df[\"Left-Fundus\"][:5]\n",
    "# df[\"Right-Fundus\"][:5]\n",
    "# df.iloc[:, -8:]"
   ]
  },
  {
   "cell_type": "code",
   "execution_count": 5,
   "id": "9e374adf",
   "metadata": {
    "execution": {
     "iopub.execute_input": "2022-04-24T08:35:34.179837Z",
     "iopub.status.busy": "2022-04-24T08:35:34.179573Z",
     "iopub.status.idle": "2022-04-24T08:35:34.189804Z",
     "shell.execute_reply": "2022-04-24T08:35:34.188603Z"
    },
    "papermill": {
     "duration": 0.024485,
     "end_time": "2022-04-24T08:35:34.191943",
     "exception": false,
     "start_time": "2022-04-24T08:35:34.167458",
     "status": "completed"
    },
    "tags": []
   },
   "outputs": [],
   "source": [
    "def breaker(num: int = 50, char: str = \"*\") -> None:\n",
    "    print(\"\\n\" + num*char + \"\\n\")\n",
    "\n",
    "\n",
    "def get_image(path: str, size: int = None) -> np.ndarray:\n",
    "    image = cv2.cvtColor(src=cv2.imread(path, cv2.IMREAD_COLOR), code=cv2.COLOR_BGR2RGB)\n",
    "    if size:\n",
    "        return cv2.resize(src=image, dsize=(size, size), interpolation=cv2.INTER_AREA)\n",
    "    return image\n",
    "\n",
    "\n",
    "def show_images(image_1: np.ndarray, image_2:np.ndarray, cmap: str = \"gnuplot2\") -> None:\n",
    "    plt.figure()\n",
    "    plt.subplot(1, 2, 1)\n",
    "    plt.imshow(image_1, cmap=cmap)\n",
    "    plt.axis(\"off\")\n",
    "    plt.title(\"Left\")\n",
    "    plt.subplot(1, 2, 2)\n",
    "    plt.imshow(image_2, cmap=cmap)\n",
    "    plt.axis(\"off\")\n",
    "    plt.title(\"Right\")\n",
    "    plt.show()"
   ]
  },
  {
   "cell_type": "code",
   "execution_count": 6,
   "id": "f85e0913",
   "metadata": {
    "execution": {
     "iopub.execute_input": "2022-04-24T08:35:34.214782Z",
     "iopub.status.busy": "2022-04-24T08:35:34.214536Z",
     "iopub.status.idle": "2022-04-24T08:35:35.855477Z",
     "shell.execute_reply": "2022-04-24T08:35:35.854555Z"
    },
    "papermill": {
     "duration": 1.655172,
     "end_time": "2022-04-24T08:35:35.857801",
     "exception": false,
     "start_time": "2022-04-24T08:35:34.202629",
     "status": "completed"
    },
    "tags": []
   },
   "outputs": [
    {
     "name": "stdout",
     "output_type": "stream",
     "text": [
      "\n",
      "**************************************************\n",
      "\n",
      "2001\n",
      "\n",
      "**************************************************\n",
      "\n"
     ]
    },
    {
     "data": {
      "image/png": "[encoded data removed]",
      "text/plain": [
       "<Figure size 432x288 with 2 Axes>"
      ]
     },
     "metadata": {
      "needs_background": "light"
     },
     "output_type": "display_data"
    },
    {
     "name": "stdout",
     "output_type": "stream",
     "text": [
      "\n",
      "**************************************************\n",
      "\n",
      "Left Image Size  : (1728, 2592, 3)\n",
      "Right Image Size : (1728, 2592, 3)\n",
      "\n",
      "**************************************************\n",
      "\n"
     ]
    }
   ],
   "source": [
    "index = r.randint(0, df.shape[0])\n",
    "\n",
    "breaker()\n",
    "print(index)\n",
    "\n",
    "image_1 = get_image(os.path.join(os.path.join(BASE_PATH, \"Training Images\"), df[\"Left-Fundus\"][index]))\n",
    "image_2 = get_image(os.path.join(os.path.join(BASE_PATH, \"Training Images\"), df[\"Right-Fundus\"][index]))\n",
    "\n",
    "breaker()\n",
    "show_images(image_1, image_2)\n",
    "\n",
    "breaker()\n",
    "print(f\"Left Image Size  : {image_1.shape}\")\n",
    "print(f\"Right Image Size : {image_2.shape}\")\n",
    "\n",
    "breaker()"
   ]
  }
 ],
 "metadata": {
  "kernelspec": {
   "display_name": "Python 3",
   "language": "python",
   "name": "python3"
  },
  "language_info": {
   "codemirror_mode": {
    "name": "ipython",
    "version": 3
   },
   "file_extension": ".py",
   "mimetype": "text/x-python",
   "name": "python",
   "nbconvert_exporter": "python",
   "pygments_lexer": "ipython3",
   "version": "3.7.12"
  },
  "papermill": {
   "default_parameters": {},
   "duration": 34.085201,
   "end_time": "2022-04-24T08:35:36.793679",
   "environment_variables": {},
   "exception": null,
   "input_path": "__notebook__.ipynb",
   "output_path": "__notebook__.ipynb",
   "parameters": {},
   "start_time": "2022-04-24T08:35:02.708478",
   "version": "2.3.4"
  }
 },
 "nbformat": 4,
 "nbformat_minor": 5
}
