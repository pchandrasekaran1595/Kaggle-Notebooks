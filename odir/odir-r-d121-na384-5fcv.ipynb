{
 "cells": [
  {
   "cell_type": "code",
   "execution_count": 1,
   "id": "99da5169",
   "metadata": {
    "_cell_guid": "b1076dfc-b9ad-4769-8c92-a6c4dae69d19",
    "_uuid": "8f2839f25d086af736a60e9eeb907d3b93b6e0e5",
    "execution": {
     "iopub.execute_input": "2022-05-08T05:30:17.892482Z",
     "iopub.status.busy": "2022-05-08T05:30:17.890964Z",
     "iopub.status.idle": "2022-05-08T05:30:27.099661Z",
     "shell.execute_reply": "2022-05-08T05:30:27.100089Z"
    },
    "papermill": {
     "duration": 9.225706,
     "end_time": "2022-05-08T05:30:27.100438",
     "exception": false,
     "start_time": "2022-05-08T05:30:17.874732",
     "status": "completed"
    },
    "tags": []
   },
   "outputs": [
    {
     "name": "stdout",
     "output_type": "stream",
     "text": [
      "Collecting openpyxl\n",
      "  Downloading openpyxl-3.0.9-py2.py3-none-any.whl (242 kB)\n",
      "Collecting et-xmlfile\n",
      "  Downloading et_xmlfile-1.1.0-py3-none-any.whl (4.7 kB)\n",
      "Installing collected packages: et-xmlfile, openpyxl\n",
      "Successfully installed et-xmlfile-1.1.0 openpyxl-3.0.9\n"
     ]
    },
    {
     "name": "stderr",
     "output_type": "stream",
     "text": [
      "WARNING: Running pip as the 'root' user can result in broken permissions and conflicting behaviour with the system package manager. It is recommended to use a virtual environment instead: https://pip.pypa.io/warnings/venv\n"
     ]
    }
   ],
   "source": [
    "%%bash\n",
    "pip install openpyxl"
   ]
  },
  {
   "cell_type": "markdown",
   "id": "f30485a7",
   "metadata": {
    "papermill": {
     "duration": 0.011424,
     "end_time": "2022-05-08T05:30:27.124297",
     "exception": false,
     "start_time": "2022-05-08T05:30:27.112873",
     "status": "completed"
    },
    "tags": []
   },
   "source": [
    "### **Library Imports**"
   ]
  },
  {
   "cell_type": "code",
   "execution_count": 2,
   "id": "dfbfd6a9",
   "metadata": {
    "execution": {
     "iopub.execute_input": "2022-05-08T05:30:27.153336Z",
     "iopub.status.busy": "2022-05-08T05:30:27.152581Z",
     "iopub.status.idle": "2022-05-08T05:30:29.573622Z",
     "shell.execute_reply": "2022-05-08T05:30:29.572925Z"
    },
    "papermill": {
     "duration": 2.43774,
     "end_time": "2022-05-08T05:30:29.573763",
     "exception": false,
     "start_time": "2022-05-08T05:30:27.136023",
     "status": "completed"
    },
    "tags": []
   },
   "outputs": [],
   "source": [
    "import os\n",
    "import re\n",
    "import torch\n",
    "import numpy as np\n",
    "import pandas as pd\n",
    "import matplotlib.pyplot as plt\n",
    "\n",
    "from time import time\n",
    "from torch import nn, optim\n",
    "from torch.utils.data import Dataset\n",
    "from torch.utils.data import DataLoader as DL\n",
    "from torchvision import models, transforms\n",
    "\n",
    "from sklearn.model_selection import KFold"
   ]
  },
  {
   "cell_type": "markdown",
   "id": "2ad73d13",
   "metadata": {
    "papermill": {
     "duration": 0.012641,
     "end_time": "2022-05-08T05:30:29.599679",
     "exception": false,
     "start_time": "2022-05-08T05:30:29.587038",
     "status": "completed"
    },
    "tags": []
   },
   "source": [
    "### **Utilities and Constants**"
   ]
  },
  {
   "cell_type": "code",
   "execution_count": 3,
   "id": "823d97b8",
   "metadata": {
    "execution": {
     "iopub.execute_input": "2022-05-08T05:30:29.626622Z",
     "iopub.status.busy": "2022-05-08T05:30:29.625832Z",
     "iopub.status.idle": "2022-05-08T05:30:29.634762Z",
     "shell.execute_reply": "2022-05-08T05:30:29.634332Z"
    },
    "papermill": {
     "duration": 0.023207,
     "end_time": "2022-05-08T05:30:29.634865",
     "exception": false,
     "start_time": "2022-05-08T05:30:29.611658",
     "status": "completed"
    },
    "tags": []
   },
   "outputs": [],
   "source": [
    "SEED = 42\n",
    "SIZE = 384\n",
    "\n",
    "def breaker(num: int=50, char: str=\"*\") -> None:\n",
    "    print(\"\\n\" + num*char + \"\\n\")\n",
    "\n",
    "    \n",
    "def show_loss_graph(L: list) -> None:\n",
    "    TL, VL = [], []\n",
    "    for i in range(len(L)):\n",
    "        TL.append(L[i][\"train\"])\n",
    "        VL.append(L[i][\"valid\"])\n",
    "    \n",
    "    x_Axis = np.arange(1, len(TL) + 1)\n",
    "    \n",
    "    plt.figure(figsize=(8, 6))\n",
    "    plt.plot(x_Axis, TL, \"r\", label=\"Train\")\n",
    "    plt.plot(x_Axis, VL, \"b\", label=\"Valid\")\n",
    "    plt.legend()\n",
    "    plt.grid()\n",
    "    plt.title(\"Loss Graph\")\n",
    "    plt.show()\n",
    "\n",
    "    \n",
    "def show_lr_graph(LR: list) -> None:\n",
    "    x_Axis = [i+1 for i in range(len(LR))]\n",
    "    plt.figure(figsize=(8, 6))\n",
    "    plt.plot(x_Axis, LR, \"rx\")\n",
    "    plt.grid()\n",
    "    plt.show()"
   ]
  },
  {
   "cell_type": "markdown",
   "id": "b0ccd082",
   "metadata": {
    "papermill": {
     "duration": 0.011885,
     "end_time": "2022-05-08T05:30:29.658574",
     "exception": false,
     "start_time": "2022-05-08T05:30:29.646689",
     "status": "completed"
    },
    "tags": []
   },
   "source": [
    "### **Configuration**"
   ]
  },
  {
   "cell_type": "code",
   "execution_count": 4,
   "id": "5fbdc452",
   "metadata": {
    "execution": {
     "iopub.execute_input": "2022-05-08T05:30:29.740908Z",
     "iopub.status.busy": "2022-05-08T05:30:29.739704Z",
     "iopub.status.idle": "2022-05-08T05:30:29.744052Z",
     "shell.execute_reply": "2022-05-08T05:30:29.743595Z"
    },
    "papermill": {
     "duration": 0.073775,
     "end_time": "2022-05-08T05:30:29.744162",
     "exception": false,
     "start_time": "2022-05-08T05:30:29.670387",
     "status": "completed"
    },
    "tags": []
   },
   "outputs": [],
   "source": [
    "class CFG(object):\n",
    "    def __init__(self, \n",
    "                 seed: int = 42,\n",
    "                 n_splits: int = 5,\n",
    "                 batch_size: int = 16,\n",
    "                 epochs: int = 25,\n",
    "                 early_stopping: int = 5,\n",
    "                 lr: float = 1e-4,\n",
    "                 wd: float = 0.0,\n",
    "                 max_lr: float = 1e-3,\n",
    "                 pct_start: float = 0.2,\n",
    "                 steps_per_epoch: int = 100,\n",
    "                 div_factor: int = 1e3, \n",
    "                 final_div_factor: float = 1e3,\n",
    "                 patience: int = 5,\n",
    "                 eps: float = 1e-8\n",
    "                 ):\n",
    "        self.seed = seed\n",
    "        self.n_splits = n_splits\n",
    "        self.batch_size = batch_size\n",
    "        self.epochs = epochs\n",
    "        self.early_stopping = early_stopping\n",
    "        self.lr = lr\n",
    "        self.wd = wd\n",
    "        self.max_lr = max_lr\n",
    "        self.pct_start = pct_start\n",
    "        self.steps_per_epoch = steps_per_epoch\n",
    "        self.div_factor = div_factor\n",
    "        self.final_div_factor = final_div_factor\n",
    "        self.patience = patience\n",
    "        self.eps = eps\n",
    "        self.device = torch.device(\"cuda\" if torch.cuda.is_available() else \"cpu\")\n",
    "        self.transform = transforms.Compose([transforms.ToTensor(),\n",
    "                                transforms.Normalize([0.30126, 0.19034, 0.10203],\n",
    "                                                     [0.31185, 0.21239, 0.13708]),\n",
    "                                ])\n",
    "        self.data_path = \"../input/odir-images-384\"\n",
    "        self.save_path = \"saves\"\n",
    "        if not os.path.exists(self.save_path): os.makedirs(self.save_path)\n",
    "\n",
    "cfg = CFG(seed=SEED)"
   ]
  },
  {
   "cell_type": "markdown",
   "id": "b6a3a2b5",
   "metadata": {
    "papermill": {
     "duration": 0.011802,
     "end_time": "2022-05-08T05:30:29.767936",
     "exception": false,
     "start_time": "2022-05-08T05:30:29.756134",
     "status": "completed"
    },
    "tags": []
   },
   "source": [
    "### **Dataset Template**"
   ]
  },
  {
   "cell_type": "code",
   "execution_count": 5,
   "id": "8b53bcd9",
   "metadata": {
    "execution": {
     "iopub.execute_input": "2022-05-08T05:30:29.798067Z",
     "iopub.status.busy": "2022-05-08T05:30:29.797296Z",
     "iopub.status.idle": "2022-05-08T05:30:29.799205Z",
     "shell.execute_reply": "2022-05-08T05:30:29.799598Z"
    },
    "papermill": {
     "duration": 0.019885,
     "end_time": "2022-05-08T05:30:29.799723",
     "exception": false,
     "start_time": "2022-05-08T05:30:29.779838",
     "status": "completed"
    },
    "tags": []
   },
   "outputs": [],
   "source": [
    "class DS(Dataset):\n",
    "    def __init__(self, images: np.ndarray, labels: np.ndarray = None, transform=None):\n",
    "        self.images = images\n",
    "        self.labels = labels\n",
    "        self.transform = transform\n",
    "    \n",
    "    def __len__(self):\n",
    "        return self.images.shape[0]\n",
    "    \n",
    "    def __getitem__(self, idx):\n",
    "        if self.labels is not None:\n",
    "            return self.transform(self.images[idx]), torch.FloatTensor(self.labels[idx])\n",
    "        else:\n",
    "            return self.transform(self.images[idx])"
   ]
  },
  {
   "cell_type": "markdown",
   "id": "53136809",
   "metadata": {
    "papermill": {
     "duration": 0.011887,
     "end_time": "2022-05-08T05:30:29.823599",
     "exception": false,
     "start_time": "2022-05-08T05:30:29.811712",
     "status": "completed"
    },
    "tags": []
   },
   "source": [
    "### **Model**"
   ]
  },
  {
   "cell_type": "code",
   "execution_count": 6,
   "id": "2c7e6f15",
   "metadata": {
    "execution": {
     "iopub.execute_input": "2022-05-08T05:30:29.853084Z",
     "iopub.status.busy": "2022-05-08T05:30:29.852328Z",
     "iopub.status.idle": "2022-05-08T05:30:29.854646Z",
     "shell.execute_reply": "2022-05-08T05:30:29.854252Z"
    },
    "papermill": {
     "duration": 0.018896,
     "end_time": "2022-05-08T05:30:29.854746",
     "exception": false,
     "start_time": "2022-05-08T05:30:29.835850",
     "status": "completed"
    },
    "tags": []
   },
   "outputs": [],
   "source": [
    "class Model(nn.Module):\n",
    "    def __init__(self):\n",
    "        super(Model, self).__init__()\n",
    "\n",
    "        self.model = models.densenet121(pretrained=True, progress=True)\n",
    "        self.model.classifier = nn.Linear(in_features=self.model.classifier.in_features, out_features=8)\n",
    "\n",
    "    def forward(self, x):\n",
    "        return self.model(x)"
   ]
  },
  {
   "cell_type": "markdown",
   "id": "2a7c92ca",
   "metadata": {
    "papermill": {
     "duration": 0.012381,
     "end_time": "2022-05-08T05:30:29.879435",
     "exception": false,
     "start_time": "2022-05-08T05:30:29.867054",
     "status": "completed"
    },
    "tags": []
   },
   "source": [
    "### **Fit and Predict Helper**"
   ]
  },
  {
   "cell_type": "code",
   "execution_count": 7,
   "id": "780cd203",
   "metadata": {
    "execution": {
     "iopub.execute_input": "2022-05-08T05:30:29.926453Z",
     "iopub.status.busy": "2022-05-08T05:30:29.925676Z",
     "iopub.status.idle": "2022-05-08T05:30:29.928022Z",
     "shell.execute_reply": "2022-05-08T05:30:29.927593Z"
    },
    "papermill": {
     "duration": 0.036505,
     "end_time": "2022-05-08T05:30:29.928121",
     "exception": false,
     "start_time": "2022-05-08T05:30:29.891616",
     "status": "completed"
    },
    "tags": []
   },
   "outputs": [],
   "source": [
    "def fit(model=None, \n",
    "        optimizer=None, \n",
    "        scheduler_oclr=None,\n",
    "        scheduler_rlrop=None, \n",
    "        epochs=None, \n",
    "        early_stopping_patience=None, \n",
    "        dataloaders=None, \n",
    "        fold=None, \n",
    "        save_path=None, \n",
    "        device=None,\n",
    "        verbose=False) -> tuple:\n",
    "    \n",
    "    def get_accuracy(y_pred, y_true):\n",
    "        y_pred = torch.argmax(y_pred, dim=1)\n",
    "        return torch.count_nonzero(y_pred == y_true).item() / len(y_pred)\n",
    "    \n",
    "    if verbose:\n",
    "        breaker()\n",
    "        if fold: print(f\"Training Fold {fold}...\")\n",
    "        else: print(\"Training ...\")\n",
    "        breaker()\n",
    "        \n",
    "    bestLoss = {\"train\" : np.inf, \"valid\" : np.inf}\n",
    "    Losses, LRs = [], []\n",
    "    \n",
    "    if fold: name = f\"state_fold_{fold}.pt\"\n",
    "    else: name = \"state.pt\"\n",
    "        \n",
    "    start_time = time()\n",
    "    for e in range(epochs):\n",
    "        e_st = time()\n",
    "        epochLoss = {\"train\" : 0.0, \"valid\" : 0.0}\n",
    "\n",
    "        for phase in [\"train\", \"valid\"]:\n",
    "            if phase == \"train\":\n",
    "                model.train()\n",
    "            else:\n",
    "                model.eval()\n",
    "            \n",
    "            lossPerPass = []\n",
    "            \n",
    "            for X, y in dataloaders[phase]:\n",
    "                X, y = X.to(device), y.to(device)\n",
    "\n",
    "                optimizer.zero_grad()\n",
    "                with torch.set_grad_enabled(phase == \"train\"):\n",
    "                    output = model(X)\n",
    "                    loss = torch.nn.BCEWithLogitsLoss()(output, y)\n",
    "                    if phase == \"train\":\n",
    "                        loss.backward()\n",
    "                        optimizer.step()\n",
    "                        if scheduler_oclr: scheduler_oclr.step()\n",
    "                lossPerPass.append(loss.item())\n",
    "            epochLoss[phase] = np.mean(np.array(lossPerPass))\n",
    "        if scheduler_oclr: LRs.append(scheduler_oclr.get_last_lr())\n",
    "        Losses.append(epochLoss)\n",
    "        \n",
    "        if scheduler_oclr:\n",
    "            save_dict = {\n",
    "                \"model_state_dict\"     : model.state_dict(),\n",
    "                \"optim_state_dict\"     : optimizer.state_dict(),\n",
    "                \"scheduler_state_dict\" : scheduler_oclr.state_dict(),\n",
    "            }\n",
    "        \n",
    "        elif scheduler_rlrop:\n",
    "            save_dict = {\n",
    "                \"model_state_dict\"     : model.state_dict(),\n",
    "                \"optim_state_dict\"     : optimizer.state_dict(),\n",
    "                \"scheduler_state_dict\" : scheduler_rlrop.state_dict(),\n",
    "            }\n",
    "        \n",
    "        else:\n",
    "            save_dict = {\n",
    "                \"model_state_dict\"     : model.state_dict(),\n",
    "                \"optim_state_dict\"     : optimizer.state_dict(),\n",
    "            }\n",
    "            \n",
    "        \n",
    "        if early_stopping_patience:\n",
    "            if epochLoss[\"valid\"] < bestLoss[\"valid\"]:\n",
    "                bestLoss = epochLoss\n",
    "                BLE = e + 1\n",
    "                torch.save(save_dict, os.path.join(save_path, name))\n",
    "                early_stopping_step = 0\n",
    "            else:\n",
    "                early_stopping_step += 1\n",
    "                if early_stopping_step > early_stopping_patience:\n",
    "                    print(\"\\nEarly Stopping at Epoch {}\".format(e + 1))\n",
    "                    break\n",
    "            \n",
    "        if epochLoss[\"valid\"] < bestLoss[\"valid\"]:\n",
    "            bestLoss = epochLoss\n",
    "            BLE = e + 1\n",
    "            torch.save(save_dict, os.path.join(save_path, name))\n",
    "    \n",
    "        if scheduler_rlrop: scheduler_rlrop.step(epochLoss[\"valid\"])\n",
    "        \n",
    "        if verbose:\n",
    "            print(\"Epoch: {} | Train Loss: {:.5f} | Valid Loss: {:.5f} | Time: {:.2f} seconds\".format(e+1, epochLoss[\"train\"], epochLoss[\"valid\"], time()-e_st))\n",
    "        \n",
    "    \n",
    "    if verbose:                                           \n",
    "        breaker()\n",
    "        print(f\"Best Validation Loss at Epoch {BLE}\")\n",
    "        breaker()\n",
    "        print(\"Time Taken [{} Epochs] : {:.2f} minutes\".format(len(Losses), (time()-start_time)/60))\n",
    "        breaker()\n",
    "        print(\"Training Completed\")\n",
    "        breaker()\n",
    "    \n",
    "    return Losses, LRs, BLE, name\n",
    "\n",
    "\n",
    "def predict(model=None, dataloader=None, path=None, device=None) -> np.ndarray:\n",
    "    model.load_state_dict(torch.load(path, map_location=device)[\"model_state_dict\"])\n",
    "    model.to(device)    \n",
    "    model.eval()\n",
    "    \n",
    "    y_pred = torch.zeros(1, 8).to(device)\n",
    "    \n",
    "    for X in dataloader:\n",
    "        X = X.to(device)\n",
    "        with torch.no_grad():\n",
    "            output = torch.sigmoid(model(X))\n",
    "        y_pred = torch.cat((y_pred, output), dim=0)\n",
    "    \n",
    "    return y_pred[1:].detach().cpu().numpy()"
   ]
  },
  {
   "cell_type": "markdown",
   "id": "ab03962e",
   "metadata": {
    "papermill": {
     "duration": 0.012091,
     "end_time": "2022-05-08T05:30:29.952586",
     "exception": false,
     "start_time": "2022-05-08T05:30:29.940495",
     "status": "completed"
    },
    "tags": []
   },
   "source": [
    "### **Train**"
   ]
  },
  {
   "cell_type": "code",
   "execution_count": 8,
   "id": "b3830f17",
   "metadata": {
    "execution": {
     "iopub.execute_input": "2022-05-08T05:30:29.981197Z",
     "iopub.status.busy": "2022-05-08T05:30:29.980699Z",
     "iopub.status.idle": "2022-05-08T05:30:39.623255Z",
     "shell.execute_reply": "2022-05-08T05:30:39.622719Z"
    },
    "papermill": {
     "duration": 9.658542,
     "end_time": "2022-05-08T05:30:39.623394",
     "exception": false,
     "start_time": "2022-05-08T05:30:29.964852",
     "status": "completed"
    },
    "tags": []
   },
   "outputs": [],
   "source": [
    "images  = np.load(os.path.join(cfg.data_path, f\"right_images_{SIZE}.npy\"))\n",
    "targets = np.load(os.path.join(cfg.data_path, f\"targets_{SIZE}.npy\"))"
   ]
  },
  {
   "cell_type": "code",
   "execution_count": 9,
   "id": "4057d711",
   "metadata": {
    "execution": {
     "iopub.execute_input": "2022-05-08T05:30:39.664224Z",
     "iopub.status.busy": "2022-05-08T05:30:39.663362Z",
     "iopub.status.idle": "2022-05-08T05:55:47.760335Z",
     "shell.execute_reply": "2022-05-08T05:55:47.759846Z"
    },
    "papermill": {
     "duration": 1508.122374,
     "end_time": "2022-05-08T05:55:47.760478",
     "exception": false,
     "start_time": "2022-05-08T05:30:39.638104",
     "status": "completed"
    },
    "tags": []
   },
   "outputs": [
    {
     "name": "stderr",
     "output_type": "stream",
     "text": [
      "Downloading: \"https://download.pytorch.org/models/densenet121-a639ec97.pth\" to /root/.cache/torch/hub/checkpoints/densenet121-a639ec97.pth\n"
     ]
    },
    {
     "data": {
      "application/vnd.jupyter.widget-view+json": {
       "model_id": "60e95f3507eb48bc9a854c874286ff63",
       "version_major": 2,
       "version_minor": 0
      },
      "text/plain": [
       "  0%|          | 0.00/30.8M [00:00<?, ?B/s]"
      ]
     },
     "metadata": {},
     "output_type": "display_data"
    },
    {
     "name": "stdout",
     "output_type": "stream",
     "text": [
      "\n",
      "**************************************************\n",
      "\n",
      "Training Fold 1...\n",
      "\n",
      "**************************************************\n",
      "\n",
      "Epoch: 1 | Train Loss: 0.39694 | Valid Loss: 0.35786 | Time: 63.15 seconds\n",
      "Epoch: 2 | Train Loss: 0.31297 | Valid Loss: 0.32042 | Time: 57.50 seconds\n",
      "Epoch: 3 | Train Loss: 0.29387 | Valid Loss: 0.30511 | Time: 57.11 seconds\n",
      "Epoch: 4 | Train Loss: 0.27408 | Valid Loss: 0.29206 | Time: 57.08 seconds\n",
      "Epoch: 5 | Train Loss: 0.24371 | Valid Loss: 0.29005 | Time: 57.17 seconds\n",
      "\n",
      "**************************************************\n",
      "\n",
      "Best Validation Loss at Epoch 5\n",
      "\n",
      "**************************************************\n",
      "\n",
      "Time Taken [5 Epochs] : 4.87 minutes\n",
      "\n",
      "**************************************************\n",
      "\n",
      "Training Completed\n",
      "\n",
      "**************************************************\n",
      "\n",
      "\n",
      "**************************************************\n",
      "\n"
     ]
    },
    {
     "data": {
      "image/png": "[encoded data removed]",
      "text/plain": [
       "<Figure size 576x432 with 1 Axes>"
      ]
     },
     "metadata": {
      "needs_background": "light"
     },
     "output_type": "display_data"
    },
    {
     "name": "stdout",
     "output_type": "stream",
     "text": [
      "\n",
      "**************************************************\n",
      "\n"
     ]
    },
    {
     "data": {
      "image/png": "[encoded data removed]",
      "text/plain": [
       "<Figure size 576x432 with 1 Axes>"
      ]
     },
     "metadata": {
      "needs_background": "light"
     },
     "output_type": "display_data"
    },
    {
     "name": "stdout",
     "output_type": "stream",
     "text": [
      "\n",
      "**************************************************\n",
      "\n",
      "\n",
      "**************************************************\n",
      "\n",
      "Training Fold 2...\n",
      "\n",
      "**************************************************\n",
      "\n",
      "Epoch: 1 | Train Loss: 0.40336 | Valid Loss: 0.35814 | Time: 59.00 seconds\n",
      "Epoch: 2 | Train Loss: 0.31602 | Valid Loss: 0.30734 | Time: 58.86 seconds\n",
      "Epoch: 3 | Train Loss: 0.29399 | Valid Loss: 0.29415 | Time: 59.13 seconds\n",
      "Epoch: 4 | Train Loss: 0.27079 | Valid Loss: 0.27209 | Time: 59.23 seconds\n",
      "Epoch: 5 | Train Loss: 0.23757 | Valid Loss: 0.27313 | Time: 58.78 seconds\n",
      "\n",
      "**************************************************\n",
      "\n",
      "Best Validation Loss at Epoch 4\n",
      "\n",
      "**************************************************\n",
      "\n",
      "Time Taken [5 Epochs] : 4.92 minutes\n",
      "\n",
      "**************************************************\n",
      "\n",
      "Training Completed\n",
      "\n",
      "**************************************************\n",
      "\n",
      "\n",
      "**************************************************\n",
      "\n"
     ]
    },
    {
     "data": {
      "image/png": "[encoded data removed]",
      "text/plain": [
       "<Figure size 576x432 with 1 Axes>"
      ]
     },
     "metadata": {
      "needs_background": "light"
     },
     "output_type": "display_data"
    },
    {
     "name": "stdout",
     "output_type": "stream",
     "text": [
      "\n",
      "**************************************************\n",
      "\n"
     ]
    },
    {
     "data": {
      "image/png": "[encoded data removed]",
      "text/plain": [
       "<Figure size 576x432 with 1 Axes>"
      ]
     },
     "metadata": {
      "needs_background": "light"
     },
     "output_type": "display_data"
    },
    {
     "name": "stdout",
     "output_type": "stream",
     "text": [
      "\n",
      "**************************************************\n",
      "\n",
      "\n",
      "**************************************************\n",
      "\n",
      "Training Fold 3...\n",
      "\n",
      "**************************************************\n",
      "\n",
      "Epoch: 1 | Train Loss: 0.40478 | Valid Loss: 0.31600 | Time: 62.13 seconds\n",
      "Epoch: 2 | Train Loss: 0.31241 | Valid Loss: 0.36225 | Time: 60.94 seconds\n",
      "Epoch: 3 | Train Loss: 0.29401 | Valid Loss: 0.28324 | Time: 61.50 seconds\n",
      "Epoch: 4 | Train Loss: 0.26832 | Valid Loss: 0.26102 | Time: 61.81 seconds\n",
      "Epoch: 5 | Train Loss: 0.23323 | Valid Loss: 0.25764 | Time: 61.46 seconds\n",
      "\n",
      "**************************************************\n",
      "\n",
      "Best Validation Loss at Epoch 5\n",
      "\n",
      "**************************************************\n",
      "\n",
      "Time Taken [5 Epochs] : 5.13 minutes\n",
      "\n",
      "**************************************************\n",
      "\n",
      "Training Completed\n",
      "\n",
      "**************************************************\n",
      "\n",
      "\n",
      "**************************************************\n",
      "\n"
     ]
    },
    {
     "data": {
      "image/png": "[encoded data removed]",
      "text/plain": [
       "<Figure size 576x432 with 1 Axes>"
      ]
     },
     "metadata": {
      "needs_background": "light"
     },
     "output_type": "display_data"
    },
    {
     "name": "stdout",
     "output_type": "stream",
     "text": [
      "\n",
      "**************************************************\n",
      "\n"
     ]
    },
    {
     "data": {
      "image/png": "[encoded data removed]",
      "text/plain": [
       "<Figure size 576x432 with 1 Axes>"
      ]
     },
     "metadata": {
      "needs_background": "light"
     },
     "output_type": "display_data"
    },
    {
     "name": "stdout",
     "output_type": "stream",
     "text": [
      "\n",
      "**************************************************\n",
      "\n",
      "\n",
      "**************************************************\n",
      "\n",
      "Training Fold 4...\n",
      "\n",
      "**************************************************\n",
      "\n",
      "Epoch: 1 | Train Loss: 0.40400 | Valid Loss: 0.36335 | Time: 61.55 seconds\n",
      "Epoch: 2 | Train Loss: 0.31143 | Valid Loss: 0.31128 | Time: 61.79 seconds\n",
      "Epoch: 3 | Train Loss: 0.29015 | Valid Loss: 0.30144 | Time: 61.52 seconds\n",
      "Epoch: 4 | Train Loss: 0.26590 | Valid Loss: 0.28923 | Time: 61.75 seconds\n",
      "Epoch: 5 | Train Loss: 0.23665 | Valid Loss: 0.28189 | Time: 61.49 seconds\n",
      "\n",
      "**************************************************\n",
      "\n",
      "Best Validation Loss at Epoch 5\n",
      "\n",
      "**************************************************\n",
      "\n",
      "Time Taken [5 Epochs] : 5.13 minutes\n",
      "\n",
      "**************************************************\n",
      "\n",
      "Training Completed\n",
      "\n",
      "**************************************************\n",
      "\n",
      "\n",
      "**************************************************\n",
      "\n"
     ]
    },
    {
     "data": {
      "image/png": "[encoded data removed]",
      "text/plain": [
       "<Figure size 576x432 with 1 Axes>"
      ]
     },
     "metadata": {
      "needs_background": "light"
     },
     "output_type": "display_data"
    },
    {
     "name": "stdout",
     "output_type": "stream",
     "text": [
      "\n",
      "**************************************************\n",
      "\n"
     ]
    },
    {
     "data": {
      "image/png": "[encoded data removed]",
      "text/plain": [
       "<Figure size 576x432 with 1 Axes>"
      ]
     },
     "metadata": {
      "needs_background": "light"
     },
     "output_type": "display_data"
    },
    {
     "name": "stdout",
     "output_type": "stream",
     "text": [
      "\n",
      "**************************************************\n",
      "\n",
      "\n",
      "**************************************************\n",
      "\n",
      "Training Fold 5...\n",
      "\n",
      "**************************************************\n",
      "\n",
      "Epoch: 1 | Train Loss: 0.40399 | Valid Loss: 0.33076 | Time: 59.65 seconds\n",
      "Epoch: 2 | Train Loss: 0.31298 | Valid Loss: 0.32206 | Time: 59.65 seconds\n",
      "Epoch: 3 | Train Loss: 0.29187 | Valid Loss: 0.31059 | Time: 59.57 seconds\n",
      "Epoch: 4 | Train Loss: 0.26811 | Valid Loss: 0.27329 | Time: 56.96 seconds\n",
      "Epoch: 5 | Train Loss: 0.23699 | Valid Loss: 0.26716 | Time: 57.07 seconds\n",
      "\n",
      "**************************************************\n",
      "\n",
      "Best Validation Loss at Epoch 5\n",
      "\n",
      "**************************************************\n",
      "\n",
      "Time Taken [5 Epochs] : 4.88 minutes\n",
      "\n",
      "**************************************************\n",
      "\n",
      "Training Completed\n",
      "\n",
      "**************************************************\n",
      "\n",
      "\n",
      "**************************************************\n",
      "\n"
     ]
    },
    {
     "data": {
      "image/png": "[encoded data removed]",
      "text/plain": [
       "<Figure size 576x432 with 1 Axes>"
      ]
     },
     "metadata": {
      "needs_background": "light"
     },
     "output_type": "display_data"
    },
    {
     "name": "stdout",
     "output_type": "stream",
     "text": [
      "\n",
      "**************************************************\n",
      "\n"
     ]
    },
    {
     "data": {
      "image/png": "[encoded data removed]",
      "text/plain": [
       "<Figure size 576x432 with 1 Axes>"
      ]
     },
     "metadata": {
      "needs_background": "light"
     },
     "output_type": "display_data"
    },
    {
     "name": "stdout",
     "output_type": "stream",
     "text": [
      "\n",
      "**************************************************\n",
      "\n"
     ]
    }
   ],
   "source": [
    "fold = 1\n",
    "BLEs = []\n",
    "\n",
    "if images.shape[0] != 3500:\n",
    "    raise ValueError(\"Error in loading Images\")\n",
    "\n",
    "else:\n",
    "    for tr_idx, va_idx in KFold(n_splits=cfg.n_splits, random_state=cfg.seed, shuffle=True).split(images):\n",
    "        tr_images, va_images, tr_targets, va_targets = images[tr_idx], images[va_idx], targets[tr_idx], targets[va_idx]\n",
    "\n",
    "        tr_data_setup = DS(tr_images, tr_targets, cfg.transform)\n",
    "        va_data_setup = DS(va_images, va_targets, cfg.transform)\n",
    "\n",
    "        dataloaders = {\n",
    "            \"train\" : DL(tr_data_setup, batch_size=cfg.batch_size, shuffle=True, generator=torch.manual_seed(cfg.seed)),\n",
    "            \"valid\" : DL(va_data_setup, batch_size=cfg.batch_size, shuffle=False),\n",
    "        }\n",
    "\n",
    "        cfg = CFG(epochs=5, lr=1e-3, wd=0.0, batch_size=20, steps_per_epoch=len(dataloaders[\"train\"]))\n",
    "\n",
    "        torch.manual_seed(cfg.seed)\n",
    "        model = Model().to(cfg.device)\n",
    "        optimizer = optim.Adam([p for p in model.parameters() if p.requires_grad], lr=cfg.lr, weight_decay=cfg.wd)\n",
    "        scheduler_oclr = optim.lr_scheduler.OneCycleLR(optimizer=optimizer, \n",
    "                                                       max_lr=cfg.max_lr, \n",
    "                                                       epochs=cfg.epochs, \n",
    "                                                       steps_per_epoch=cfg.steps_per_epoch,\n",
    "                                                       pct_start=cfg.pct_start, \n",
    "                                                       div_factor=cfg.div_factor, \n",
    "                                                       final_div_factor=cfg.final_div_factor)\n",
    "        # scheduler_rlrop = optim.lr_scheduler.ReduceLROnPlateau(optimizer=optimizer,\n",
    "        #                                                       patience=cfg.patience,\n",
    "        #                                                       eps=cfg.eps,\n",
    "        #                                                       verbose=True)\n",
    "\n",
    "        # scheduler_oclr = None\n",
    "        scheduler_rlrop = None\n",
    "\n",
    "        L, LR, BLE, name = fit(model=model, \n",
    "                               optimizer=optimizer, \n",
    "                               scheduler_oclr=scheduler_oclr,\n",
    "                               scheduler_rlrop=scheduler_rlrop,\n",
    "                               epochs=cfg.epochs, \n",
    "                               early_stopping_patience=cfg.early_stopping, \n",
    "                               dataloaders=dataloaders, \n",
    "                               device=cfg.device,\n",
    "                               save_path=cfg.save_path,\n",
    "                               fold=fold,\n",
    "                               verbose=True)\n",
    "\n",
    "        breaker()\n",
    "        show_loss_graph(L)\n",
    "        breaker()\n",
    "        \n",
    "        if scheduler_oclr:\n",
    "            show_lr_graph(LR)\n",
    "            breaker()\n",
    "\n",
    "        BLEs.append(BLE)\n",
    "\n",
    "        fold += 1"
   ]
  }
 ],
 "metadata": {
  "kernelspec": {
   "display_name": "Python 3",
   "language": "python",
   "name": "python3"
  },
  "language_info": {
   "codemirror_mode": {
    "name": "ipython",
    "version": 3
   },
   "file_extension": ".py",
   "mimetype": "text/x-python",
   "name": "python",
   "nbconvert_exporter": "python",
   "pygments_lexer": "ipython3",
   "version": "3.7.12"
  },
  "papermill": {
   "default_parameters": {},
   "duration": 1539.824524,
   "end_time": "2022-05-08T05:55:49.953500",
   "environment_variables": {},
   "exception": null,
   "input_path": "__notebook__.ipynb",
   "output_path": "__notebook__.ipynb",
   "parameters": {},
   "start_time": "2022-05-08T05:30:10.128976",
   "version": "2.3.3"
  },
  "widgets": {
   "application/vnd.jupyter.widget-state+json": {
    "state": {
     "56dbca6a581d4cd2a649376a779b9be3": {
      "model_module": "@jupyter-widgets/base",
      "model_module_version": "1.2.0",
      "model_name": "LayoutModel",
      "state": {
       "_model_module": "@jupyter-widgets/base",
       "_model_module_version": "1.2.0",
       "_model_name": "LayoutModel",
       "_view_count": null,
       "_view_module": "@jupyter-widgets/base",
       "_view_module_version": "1.2.0",
       "_view_name": "LayoutView",
       "align_content": null,
       "align_items": null,
       "align_self": null,
       "border": null,
       "bottom": null,
       "display": null,
       "flex": null,
       "flex_flow": null,
       "grid_area": null,
       "grid_auto_columns": null,
       "grid_auto_flow": null,
       "grid_auto_rows": null,
       "grid_column": null,
       "grid_gap": null,
       "grid_row": null,
       "grid_template_areas": null,
       "grid_template_columns": null,
       "grid_template_rows": null,
       "height": null,
       "justify_content": null,
       "justify_items": null,
       "left": null,
       "margin": null,
       "max_height": null,
       "max_width": null,
       "min_height": null,
       "min_width": null,
       "object_fit": null,
       "object_position": null,
       "order": null,
       "overflow": null,
       "overflow_x": null,
       "overflow_y": null,
       "padding": null,
       "right": null,
       "top": null,
       "visibility": null,
       "width": null
      }
     },
     "58e35be7a12442029c1daca929180e61": {
      "model_module": "@jupyter-widgets/controls",
      "model_module_version": "1.5.0",
      "model_name": "HTMLModel",
      "state": {
       "_dom_classes": [],
       "_model_module": "@jupyter-widgets/controls",
       "_model_module_version": "1.5.0",
       "_model_name": "HTMLModel",
       "_view_count": null,
       "_view_module": "@jupyter-widgets/controls",
       "_view_module_version": "1.5.0",
       "_view_name": "HTMLView",
       "description": "",
       "description_tooltip": null,
       "layout": "IPY_MODEL_e265a7e29aed40b8b7b1b1e34e16f5d7",
       "placeholder": "​",
       "style": "IPY_MODEL_86b8d10297084282b68cf668ed0db3a7",
       "value": "100%"
      }
     },
     "60e95f3507eb48bc9a854c874286ff63": {
      "model_module": "@jupyter-widgets/controls",
      "model_module_version": "1.5.0",
      "model_name": "HBoxModel",
      "state": {
       "_dom_classes": [],
       "_model_module": "@jupyter-widgets/controls",
       "_model_module_version": "1.5.0",
       "_model_name": "HBoxModel",
       "_view_count": null,
       "_view_module": "@jupyter-widgets/controls",
       "_view_module_version": "1.5.0",
       "_view_name": "HBoxView",
       "box_style": "",
       "children": [
        "IPY_MODEL_58e35be7a12442029c1daca929180e61",
        "IPY_MODEL_626854eafae9483884ed20b3093dda18",
        "IPY_MODEL_8aa79f38a0134995a8f97b21d792418d"
       ],
       "layout": "IPY_MODEL_56dbca6a581d4cd2a649376a779b9be3"
      }
     },
     "626854eafae9483884ed20b3093dda18": {
      "model_module": "@jupyter-widgets/controls",
      "model_module_version": "1.5.0",
      "model_name": "FloatProgressModel",
      "state": {
       "_dom_classes": [],
       "_model_module": "@jupyter-widgets/controls",
       "_model_module_version": "1.5.0",
       "_model_name": "FloatProgressModel",
       "_view_count": null,
       "_view_module": "@jupyter-widgets/controls",
       "_view_module_version": "1.5.0",
       "_view_name": "ProgressView",
       "bar_style": "success",
       "description": "",
       "description_tooltip": null,
       "layout": "IPY_MODEL_bb7cd085c7254b968b1b72beb6986a33",
       "max": 32342954.0,
       "min": 0.0,
       "orientation": "horizontal",
       "style": "IPY_MODEL_f5679589a7724ffca7a7b428f898e19e",
       "value": 32342954.0
      }
     },
     "7ede439ceaee431799ac84487e66b57c": {
      "model_module": "@jupyter-widgets/base",
      "model_module_version": "1.2.0",
      "model_name": "LayoutModel",
      "state": {
       "_model_module": "@jupyter-widgets/base",
       "_model_module_version": "1.2.0",
       "_model_name": "LayoutModel",
       "_view_count": null,
       "_view_module": "@jupyter-widgets/base",
       "_view_module_version": "1.2.0",
       "_view_name": "LayoutView",
       "align_content": null,
       "align_items": null,
       "align_self": null,
       "border": null,
       "bottom": null,
       "display": null,
       "flex": null,
       "flex_flow": null,
       "grid_area": null,
       "grid_auto_columns": null,
       "grid_auto_flow": null,
       "grid_auto_rows": null,
       "grid_column": null,
       "grid_gap": null,
       "grid_row": null,
       "grid_template_areas": null,
       "grid_template_columns": null,
       "grid_template_rows": null,
       "height": null,
       "justify_content": null,
       "justify_items": null,
       "left": null,
       "margin": null,
       "max_height": null,
       "max_width": null,
       "min_height": null,
       "min_width": null,
       "object_fit": null,
       "object_position": null,
       "order": null,
       "overflow": null,
       "overflow_x": null,
       "overflow_y": null,
       "padding": null,
       "right": null,
       "top": null,
       "visibility": null,
       "width": null
      }
     },
     "86b8d10297084282b68cf668ed0db3a7": {
      "model_module": "@jupyter-widgets/controls",
      "model_module_version": "1.5.0",
      "model_name": "DescriptionStyleModel",
      "state": {
       "_model_module": "@jupyter-widgets/controls",
       "_model_module_version": "1.5.0",
       "_model_name": "DescriptionStyleModel",
       "_view_count": null,
       "_view_module": "@jupyter-widgets/base",
       "_view_module_version": "1.2.0",
       "_view_name": "StyleView",
       "description_width": ""
      }
     },
     "8aa79f38a0134995a8f97b21d792418d": {
      "model_module": "@jupyter-widgets/controls",
      "model_module_version": "1.5.0",
      "model_name": "HTMLModel",
      "state": {
       "_dom_classes": [],
       "_model_module": "@jupyter-widgets/controls",
       "_model_module_version": "1.5.0",
       "_model_name": "HTMLModel",
       "_view_count": null,
       "_view_module": "@jupyter-widgets/controls",
       "_view_module_version": "1.5.0",
       "_view_name": "HTMLView",
       "description": "",
       "description_tooltip": null,
       "layout": "IPY_MODEL_7ede439ceaee431799ac84487e66b57c",
       "placeholder": "​",
       "style": "IPY_MODEL_9dca7184ce4a404bba8a16bcc1553777",
       "value": " 30.8M/30.8M [00:02&lt;00:00, 23.5MB/s]"
      }
     },
     "9dca7184ce4a404bba8a16bcc1553777": {
      "model_module": "@jupyter-widgets/controls",
      "model_module_version": "1.5.0",
      "model_name": "DescriptionStyleModel",
      "state": {
       "_model_module": "@jupyter-widgets/controls",
       "_model_module_version": "1.5.0",
       "_model_name": "DescriptionStyleModel",
       "_view_count": null,
       "_view_module": "@jupyter-widgets/base",
       "_view_module_version": "1.2.0",
       "_view_name": "StyleView",
       "description_width": ""
      }
     },
     "bb7cd085c7254b968b1b72beb6986a33": {
      "model_module": "@jupyter-widgets/base",
      "model_module_version": "1.2.0",
      "model_name": "LayoutModel",
      "state": {
       "_model_module": "@jupyter-widgets/base",
       "_model_module_version": "1.2.0",
       "_model_name": "LayoutModel",
       "_view_count": null,
       "_view_module": "@jupyter-widgets/base",
       "_view_module_version": "1.2.0",
       "_view_name": "LayoutView",
       "align_content": null,
       "align_items": null,
       "align_self": null,
       "border": null,
       "bottom": null,
       "display": null,
       "flex": null,
       "flex_flow": null,
       "grid_area": null,
       "grid_auto_columns": null,
       "grid_auto_flow": null,
       "grid_auto_rows": null,
       "grid_column": null,
       "grid_gap": null,
       "grid_row": null,
       "grid_template_areas": null,
       "grid_template_columns": null,
       "grid_template_rows": null,
       "height": null,
       "justify_content": null,
       "justify_items": null,
       "left": null,
       "margin": null,
       "max_height": null,
       "max_width": null,
       "min_height": null,
       "min_width": null,
       "object_fit": null,
       "object_position": null,
       "order": null,
       "overflow": null,
       "overflow_x": null,
       "overflow_y": null,
       "padding": null,
       "right": null,
       "top": null,
       "visibility": null,
       "width": null
      }
     },
     "e265a7e29aed40b8b7b1b1e34e16f5d7": {
      "model_module": "@jupyter-widgets/base",
      "model_module_version": "1.2.0",
      "model_name": "LayoutModel",
      "state": {
       "_model_module": "@jupyter-widgets/base",
       "_model_module_version": "1.2.0",
       "_model_name": "LayoutModel",
       "_view_count": null,
       "_view_module": "@jupyter-widgets/base",
       "_view_module_version": "1.2.0",
       "_view_name": "LayoutView",
       "align_content": null,
       "align_items": null,
       "align_self": null,
       "border": null,
       "bottom": null,
       "display": null,
       "flex": null,
       "flex_flow": null,
       "grid_area": null,
       "grid_auto_columns": null,
       "grid_auto_flow": null,
       "grid_auto_rows": null,
       "grid_column": null,
       "grid_gap": null,
       "grid_row": null,
       "grid_template_areas": null,
       "grid_template_columns": null,
       "grid_template_rows": null,
       "height": null,
       "justify_content": null,
       "justify_items": null,
       "left": null,
       "margin": null,
       "max_height": null,
       "max_width": null,
       "min_height": null,
       "min_width": null,
       "object_fit": null,
       "object_position": null,
       "order": null,
       "overflow": null,
       "overflow_x": null,
       "overflow_y": null,
       "padding": null,
       "right": null,
       "top": null,
       "visibility": null,
       "width": null
      }
     },
     "f5679589a7724ffca7a7b428f898e19e": {
      "model_module": "@jupyter-widgets/controls",
      "model_module_version": "1.5.0",
      "model_name": "ProgressStyleModel",
      "state": {
       "_model_module": "@jupyter-widgets/controls",
       "_model_module_version": "1.5.0",
       "_model_name": "ProgressStyleModel",
       "_view_count": null,
       "_view_module": "@jupyter-widgets/base",
       "_view_module_version": "1.2.0",
       "_view_name": "StyleView",
       "bar_color": null,
       "description_width": ""
      }
     }
    },
    "version_major": 2,
    "version_minor": 0
   }
  }
 },
 "nbformat": 4,
 "nbformat_minor": 5
}
