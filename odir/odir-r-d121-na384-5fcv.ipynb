{
 "cells": [
  {
   "cell_type": "code",
   "execution_count": 1,
   "id": "894c7acb",
   "metadata": {
    "_cell_guid": "b1076dfc-b9ad-4769-8c92-a6c4dae69d19",
    "_uuid": "8f2839f25d086af736a60e9eeb907d3b93b6e0e5",
    "execution": {
     "iopub.execute_input": "2022-04-25T09:16:04.477178Z",
     "iopub.status.busy": "2022-04-25T09:16:04.476504Z",
     "iopub.status.idle": "2022-04-25T09:16:16.990234Z",
     "shell.execute_reply": "2022-04-25T09:16:16.989170Z"
    },
    "papermill": {
     "duration": 12.532883,
     "end_time": "2022-04-25T09:16:16.992395",
     "exception": false,
     "start_time": "2022-04-25T09:16:04.459512",
     "status": "completed"
    },
    "tags": []
   },
   "outputs": [
    {
     "name": "stdout",
     "output_type": "stream",
     "text": [
      "Collecting openpyxl\n",
      "  Downloading openpyxl-3.0.9-py2.py3-none-any.whl (242 kB)\n",
      "     ━━━━━━━━━━━━━━━━━━━━━━━━━━━━━━━━━━━━━━━ 242.2/242.2 KB 1.0 MB/s eta 0:00:00\n",
      "Collecting et-xmlfile\n",
      "  Downloading et_xmlfile-1.1.0-py3-none-any.whl (4.7 kB)\n",
      "Installing collected packages: et-xmlfile, openpyxl\n",
      "Successfully installed et-xmlfile-1.1.0 openpyxl-3.0.9\n"
     ]
    },
    {
     "name": "stderr",
     "output_type": "stream",
     "text": [
      "WARNING: Running pip as the 'root' user can result in broken permissions and conflicting behaviour with the system package manager. It is recommended to use a virtual environment instead: https://pip.pypa.io/warnings/venv\n"
     ]
    }
   ],
   "source": [
    "%%bash\n",
    "pip install openpyxl"
   ]
  },
  {
   "cell_type": "markdown",
   "id": "73db64b1",
   "metadata": {
    "papermill": {
     "duration": 0.013694,
     "end_time": "2022-04-25T09:16:17.021229",
     "exception": false,
     "start_time": "2022-04-25T09:16:17.007535",
     "status": "completed"
    },
    "tags": []
   },
   "source": [
    "### **Library Imports**"
   ]
  },
  {
   "cell_type": "code",
   "execution_count": 2,
   "id": "c5becb1c",
   "metadata": {
    "execution": {
     "iopub.execute_input": "2022-04-25T09:16:17.051093Z",
     "iopub.status.busy": "2022-04-25T09:16:17.050782Z",
     "iopub.status.idle": "2022-04-25T09:16:19.297995Z",
     "shell.execute_reply": "2022-04-25T09:16:19.297383Z"
    },
    "papermill": {
     "duration": 2.264807,
     "end_time": "2022-04-25T09:16:19.300218",
     "exception": false,
     "start_time": "2022-04-25T09:16:17.035411",
     "status": "completed"
    },
    "tags": []
   },
   "outputs": [],
   "source": [
    "import os\n",
    "import re\n",
    "import torch\n",
    "import numpy as np\n",
    "import pandas as pd\n",
    "import matplotlib.pyplot as plt\n",
    "\n",
    "from time import time\n",
    "from torch import nn, optim\n",
    "from torch.utils.data import Dataset\n",
    "from torch.utils.data import DataLoader as DL\n",
    "from torchvision import models, transforms\n",
    "\n",
    "from sklearn.model_selection import KFold"
   ]
  },
  {
   "cell_type": "markdown",
   "id": "6d399eb9",
   "metadata": {
    "papermill": {
     "duration": 0.014034,
     "end_time": "2022-04-25T09:16:19.328832",
     "exception": false,
     "start_time": "2022-04-25T09:16:19.314798",
     "status": "completed"
    },
    "tags": []
   },
   "source": [
    "### **Utilities and Constants**"
   ]
  },
  {
   "cell_type": "code",
   "execution_count": 3,
   "id": "4af718cf",
   "metadata": {
    "execution": {
     "iopub.execute_input": "2022-04-25T09:16:19.359236Z",
     "iopub.status.busy": "2022-04-25T09:16:19.358677Z",
     "iopub.status.idle": "2022-04-25T09:16:19.369154Z",
     "shell.execute_reply": "2022-04-25T09:16:19.368276Z"
    },
    "papermill": {
     "duration": 0.02828,
     "end_time": "2022-04-25T09:16:19.371274",
     "exception": false,
     "start_time": "2022-04-25T09:16:19.342994",
     "status": "completed"
    },
    "tags": []
   },
   "outputs": [],
   "source": [
    "SEED = 42\n",
    "SIZE = 384\n",
    "\n",
    "def breaker(num: int=50, char: str=\"*\") -> None:\n",
    "    print(\"\\n\" + num*char + \"\\n\")\n",
    "\n",
    "    \n",
    "def show_graphs(L: list, LR: list) -> None:\n",
    "    TL, VL = [], []\n",
    "    for i in range(len(L)):\n",
    "        TL.append(L[i][\"train\"])\n",
    "        VL.append(L[i][\"valid\"])\n",
    "    \n",
    "    x_Axis_1 = np.arange(1, len(TL) + 1)\n",
    "    x_Axis_2 = np.arange(1, len(LR) + 1)\n",
    "    \n",
    "    plt.figure(figsize=(8, 6))\n",
    "    plt.subplot(1, 2, 1)\n",
    "    plt.plot(x_Axis_1, TL, \"r\", label=\"Train\")\n",
    "    plt.plot(x_Axis_1, VL, \"b\", label=\"Valid\")\n",
    "    plt.legend()\n",
    "    plt.grid()\n",
    "    plt.title(\"Loss Graph\")\n",
    "    plt.subplot(1, 2, 2)\n",
    "    plt.plot(x_Axis_2, LR, \"rx\")\n",
    "    plt.legend()\n",
    "    plt.grid()\n",
    "    plt.title(\"Learning Rate Graph\")\n",
    "    plt.show()"
   ]
  },
  {
   "cell_type": "markdown",
   "id": "5db6585b",
   "metadata": {
    "papermill": {
     "duration": 0.014139,
     "end_time": "2022-04-25T09:16:19.399811",
     "exception": false,
     "start_time": "2022-04-25T09:16:19.385672",
     "status": "completed"
    },
    "tags": []
   },
   "source": [
    "### **Configuration**"
   ]
  },
  {
   "cell_type": "code",
   "execution_count": 4,
   "id": "45d2de48",
   "metadata": {
    "execution": {
     "iopub.execute_input": "2022-04-25T09:16:19.430775Z",
     "iopub.status.busy": "2022-04-25T09:16:19.430196Z",
     "iopub.status.idle": "2022-04-25T09:16:19.441288Z",
     "shell.execute_reply": "2022-04-25T09:16:19.440692Z"
    },
    "papermill": {
     "duration": 0.029245,
     "end_time": "2022-04-25T09:16:19.443434",
     "exception": false,
     "start_time": "2022-04-25T09:16:19.414189",
     "status": "completed"
    },
    "tags": []
   },
   "outputs": [],
   "source": [
    "class CFG(object):\n",
    "    def __init__(self, \n",
    "                 seed: int = 42,\n",
    "                 n_splits: int = 5,\n",
    "                 batch_size: int = 16,\n",
    "                 epochs: int = 25,\n",
    "                 early_stopping: int = 5,\n",
    "                 lr: float = 1e-4,\n",
    "                 wd: float = 0.0,\n",
    "                 max_lr: float = 1e-3,\n",
    "                 pct_start: float = 0.2,\n",
    "                 steps_per_epoch: int = 100,\n",
    "                 div_factor: int = 1e3, \n",
    "                 final_div_factor: float = 1e3,\n",
    "                 ):\n",
    "        self.seed = seed\n",
    "        self.n_splits = n_splits\n",
    "        self.batch_size = batch_size\n",
    "        self.epochs = epochs\n",
    "        self.early_stopping = early_stopping\n",
    "        self.lr = lr\n",
    "        self.wd = wd\n",
    "        self.max_lr = max_lr\n",
    "        self.pct_start = pct_start\n",
    "        self.steps_per_epoch = steps_per_epoch\n",
    "        self.div_factor = div_factor\n",
    "        self.final_div_factor = final_div_factor\n",
    "        self.device = torch.device(\"cuda\" if torch.cuda.is_available() else \"cpu\")\n",
    "        self.transform = transforms.Compose([transforms.ToTensor(),\n",
    "                                transforms.Normalize([0.29863, 0.18990, 0.10370],\n",
    "                                                     [0.30992, 0.21233, 0.13985]),\n",
    "                                ])\n",
    "        self.data_path = \"../input/odir-images-384\"\n",
    "        self.save_path = \"saves\"\n",
    "        if not os.path.exists(self.save_path): os.makedirs(self.save_path)\n",
    "\n",
    "cfg = CFG(seed=SEED)"
   ]
  },
  {
   "cell_type": "markdown",
   "id": "d8c9a95f",
   "metadata": {
    "papermill": {
     "duration": 0.014263,
     "end_time": "2022-04-25T09:16:19.472133",
     "exception": false,
     "start_time": "2022-04-25T09:16:19.457870",
     "status": "completed"
    },
    "tags": []
   },
   "source": [
    "### **Dataset Template**"
   ]
  },
  {
   "cell_type": "code",
   "execution_count": 5,
   "id": "847e95ec",
   "metadata": {
    "execution": {
     "iopub.execute_input": "2022-04-25T09:16:19.503089Z",
     "iopub.status.busy": "2022-04-25T09:16:19.502798Z",
     "iopub.status.idle": "2022-04-25T09:16:19.509888Z",
     "shell.execute_reply": "2022-04-25T09:16:19.509117Z"
    },
    "papermill": {
     "duration": 0.024537,
     "end_time": "2022-04-25T09:16:19.511779",
     "exception": false,
     "start_time": "2022-04-25T09:16:19.487242",
     "status": "completed"
    },
    "tags": []
   },
   "outputs": [],
   "source": [
    "class DS(Dataset):\n",
    "    def __init__(self, images: np.ndarray, labels: np.ndarray = None, transform=None):\n",
    "        self.images = images\n",
    "        self.labels = labels\n",
    "        self.transform = transform\n",
    "    \n",
    "    def __len__(self):\n",
    "        return self.images.shape[0]\n",
    "    \n",
    "    def __getitem__(self, idx):\n",
    "        if self.labels is not None:\n",
    "            return self.transform(self.images[idx]), torch.FloatTensor(self.labels[idx])\n",
    "        else:\n",
    "            return self.transform(self.images[idx])"
   ]
  },
  {
   "cell_type": "markdown",
   "id": "566c834c",
   "metadata": {
    "papermill": {
     "duration": 0.014579,
     "end_time": "2022-04-25T09:16:19.541132",
     "exception": false,
     "start_time": "2022-04-25T09:16:19.526553",
     "status": "completed"
    },
    "tags": []
   },
   "source": [
    "### **Model**"
   ]
  },
  {
   "cell_type": "code",
   "execution_count": 6,
   "id": "4067d495",
   "metadata": {
    "execution": {
     "iopub.execute_input": "2022-04-25T09:16:19.572731Z",
     "iopub.status.busy": "2022-04-25T09:16:19.572409Z",
     "iopub.status.idle": "2022-04-25T09:16:19.578190Z",
     "shell.execute_reply": "2022-04-25T09:16:19.577368Z"
    },
    "papermill": {
     "duration": 0.024283,
     "end_time": "2022-04-25T09:16:19.580458",
     "exception": false,
     "start_time": "2022-04-25T09:16:19.556175",
     "status": "completed"
    },
    "tags": []
   },
   "outputs": [],
   "source": [
    "class Model(nn.Module):\n",
    "    def __init__(self):\n",
    "        super(Model, self).__init__()\n",
    "\n",
    "        self.model = models.densenet121(pretrained=True, progress=True)\n",
    "        self.model.classifier = nn.Linear(in_features=self.model.classifier.in_features, out_features=8)\n",
    "\n",
    "    def forward(self, x):\n",
    "        return self.model(x)"
   ]
  },
  {
   "cell_type": "markdown",
   "id": "0bf5c6b0",
   "metadata": {
    "papermill": {
     "duration": 0.014791,
     "end_time": "2022-04-25T09:16:19.610201",
     "exception": false,
     "start_time": "2022-04-25T09:16:19.595410",
     "status": "completed"
    },
    "tags": []
   },
   "source": [
    "### **Fit and Predict Helper**"
   ]
  },
  {
   "cell_type": "code",
   "execution_count": 7,
   "id": "df49b37d",
   "metadata": {
    "execution": {
     "iopub.execute_input": "2022-04-25T09:16:19.642489Z",
     "iopub.status.busy": "2022-04-25T09:16:19.641941Z",
     "iopub.status.idle": "2022-04-25T09:16:19.664943Z",
     "shell.execute_reply": "2022-04-25T09:16:19.664327Z"
    },
    "papermill": {
     "duration": 0.04185,
     "end_time": "2022-04-25T09:16:19.667146",
     "exception": false,
     "start_time": "2022-04-25T09:16:19.625296",
     "status": "completed"
    },
    "tags": []
   },
   "outputs": [],
   "source": [
    "def fit(model=None, \n",
    "        optimizer=None, \n",
    "        scheduler=None, \n",
    "        epochs=None, \n",
    "        early_stopping_patience=None, \n",
    "        dataloaders=None, \n",
    "        fold=None, \n",
    "        save_path=None, \n",
    "        device=None,\n",
    "        verbose=False) -> tuple:\n",
    "    \n",
    "    if verbose:\n",
    "        breaker()\n",
    "        if fold: print(f\"Training Fold {fold}...\")\n",
    "        else: print(\"Training ...\")\n",
    "        breaker()\n",
    "        \n",
    "    bestLos = {\"train\" : np.inf, \"valid\" : np.inf}\n",
    "    Losses, LRs = [], []\n",
    "    if fold: name = f\"state_fold_{fold}.pt\"\n",
    "    else: name = \"state.pt\"\n",
    "        \n",
    "    start_time = time()\n",
    "    for e in range(epochs):\n",
    "        e_st = time()\n",
    "        epochLoss = {\"train\" : 0.0, \"valid\" : 0.0}\n",
    "\n",
    "        for phase in [\"train\", \"valid\"]:\n",
    "            if phase == \"train\":\n",
    "                model.train()\n",
    "            else:\n",
    "                model.eval()\n",
    "            \n",
    "            lossPerPass = []\n",
    "            \n",
    "            for X, y in dataloaders[phase]:\n",
    "                X, y = X.to(device), y.to(device)\n",
    "\n",
    "                optimizer.zero_grad()\n",
    "                with torch.set_grad_enabled(phase == \"train\"):\n",
    "                    output = model(X)\n",
    "                    loss = torch.nn.BCEWithLogitsLoss()(output, y)\n",
    "                    if phase == \"train\":\n",
    "                        loss.backward()\n",
    "                        optimizer.step()\n",
    "                        if scheduler: scheduler.step()\n",
    "                lossPerPass.append(loss.item())\n",
    "            epochLoss[phase] = np.mean(np.array(lossPerPass))     \n",
    "        LRs.append(scheduler.get_last_lr())\n",
    "        Losses.append(epochLoss)\n",
    "        \n",
    "        if early_stopping_patience:\n",
    "            if epochLoss[\"valid\"] < bestLoss[\"valid\"]:\n",
    "                bestLoss = epochLoss\n",
    "                BLE = e + 1\n",
    "                torch.save({\"model_state_dict\"     : model.state_dict(),\n",
    "                            \"optim_state_dict\"     : optimizer.state_dict()},\n",
    "                           os.path.join(save_path, name))\n",
    "                early_stopping_step = 0\n",
    "            else:\n",
    "                early_stopping_step += 1\n",
    "                if early_stopping_step > early_stopping_patience:\n",
    "                    print(\"\\nEarly Stopping at Epoch {}\".format(e + 1))\n",
    "                    break\n",
    "            \n",
    "        if epochLoss[\"valid\"] < bestLoss[\"valid\"]:\n",
    "            bestLoss = epochLoss\n",
    "            BLE = e + 1\n",
    "            torch.save({\"model_state_dict\"     : model.state_dict(),\n",
    "                        \"optim_state_dict\"     : optimizer.state_dict()},\n",
    "                        os.path.join(save_path, name))\n",
    "        \n",
    "        if verbose:\n",
    "            print(\"Epoch: {} | Train Loss: {:.5f} | Valid Loss: {:.5f} | Time: {:.2f} seconds\".format(e+1, epochLoss[\"train\"], epochLoss[\"valid\"], time()-e_st))\n",
    "        \n",
    "    \n",
    "    if verbose:                                           \n",
    "        breaker()\n",
    "        print(f\"Best Validation Loss at Epoch {BLE}\")\n",
    "        breaker()\n",
    "        print(\"Time Taken [{} Epochs] : {:.2f} minutes\".format(len(Losses), (time()-start_time)/60))\n",
    "    \n",
    "    return Losses, LRs, BLE, name\n",
    "\n",
    "\n",
    "def predict(model=None, dataloader=None, path=None, device=None) -> np.ndarray:\n",
    "    model.load_state_dict(torch.load(path, map_location=device)[\"model_state_dict\"])\n",
    "    model.to(device)    \n",
    "    model.eval()\n",
    "    \n",
    "    y_pred = torch.zeros(1, 8).to(device)\n",
    "    \n",
    "    for X in dataloader:\n",
    "        X = X.to(device)\n",
    "        with torch.no_grad():\n",
    "            output = torch.sigmoid(model(X))\n",
    "        y_pred = torch.cat((y_pred, output), dim=0)\n",
    "    \n",
    "    return y_pred[1:].detach().cpu().numpy()"
   ]
  },
  {
   "cell_type": "markdown",
   "id": "f5b007c4",
   "metadata": {
    "papermill": {
     "duration": 0.015022,
     "end_time": "2022-04-25T09:16:19.697086",
     "exception": false,
     "start_time": "2022-04-25T09:16:19.682064",
     "status": "completed"
    },
    "tags": []
   },
   "source": [
    "### **Train**"
   ]
  },
  {
   "cell_type": "code",
   "execution_count": 8,
   "id": "695e2057",
   "metadata": {
    "execution": {
     "iopub.execute_input": "2022-04-25T09:16:19.729181Z",
     "iopub.status.busy": "2022-04-25T09:16:19.728596Z",
     "iopub.status.idle": "2022-04-25T09:16:30.993631Z",
     "shell.execute_reply": "2022-04-25T09:16:30.992703Z"
    },
    "papermill": {
     "duration": 11.284192,
     "end_time": "2022-04-25T09:16:30.996407",
     "exception": false,
     "start_time": "2022-04-25T09:16:19.712215",
     "status": "completed"
    },
    "tags": []
   },
   "outputs": [],
   "source": [
    "images  = np.load(os.path.join(cfg.data_path, f\"right_images_{SIZE}.npy\"))\n",
    "targets = np.load(os.path.join(cfg.data_path, f\"targets_{SIZE}.npy\"))"
   ]
  },
  {
   "cell_type": "code",
   "execution_count": 9,
   "id": "1d9e6a38",
   "metadata": {
    "execution": {
     "iopub.execute_input": "2022-04-25T09:16:31.032994Z",
     "iopub.status.busy": "2022-04-25T09:16:31.032686Z",
     "iopub.status.idle": "2022-04-25T09:16:31.038506Z",
     "shell.execute_reply": "2022-04-25T09:16:31.037587Z"
    },
    "papermill": {
     "duration": 0.025958,
     "end_time": "2022-04-25T09:16:31.040717",
     "exception": false,
     "start_time": "2022-04-25T09:16:31.014759",
     "status": "completed"
    },
    "tags": []
   },
   "outputs": [],
   "source": [
    "# fold = 1\n",
    "# BLEs = []\n",
    "\n",
    "# for tr_idx, va_idx in KFold(n_splits=cfg.n_splits, random_state=SEED, shuffle=True).split(images):\n",
    "#     tr_images, va_images, tr_labels, va_labels = images[tr_idx], images[va_idx], labels[tr_idx], labels[va_idx]\n",
    "\n",
    "#     tr_data_setup = DS(tr_images, tr_labels.reshape(-1, 1), cfg.transform)\n",
    "#     va_data_setup = DS(va_images, va_labels.reshape(-1, 1), cfg.transform)\n",
    "    \n",
    "#     dataloaders = {\n",
    "#         \"train\" : DL(tr_data_setup, batch_size=cfg.batch_size, shuffle=True, generator=torch.manual_seed(cfg.seed)),\n",
    "#         \"valid\" : DL(va_data_setup, batch_size=cfg.batch_size, shuffle=False),\n",
    "#     }\n",
    "\n",
    "#     cfg = CFG(epochs=20, lr=1e-3, wd=0.0, batch_size=16, steps_per_epoch=len(dataloaders[\"train\"]))\n",
    "    \n",
    "#     torch.manual_seed(cfg.seed)\n",
    "#     model = Model().to(cfg.device)\n",
    "#     optimizer = optim.Adam([p for p in model.parameters() if p.requires_grad], lr=cfg.lr, weight_decay=cfg.wd)\n",
    "#     scheduler = optim.lr_scheduler.OneCycleLR(optimizer=optimizer, \n",
    "#                                               max_lr=cfg.max_lr, \n",
    "#                                               epochs=cfg.epochs, \n",
    "#                                               steps_per_epoch=cfg.steps_per_epoch,\n",
    "#                                               pct_start=cfg.pct_start, \n",
    "#                                               div_factor=cfg.div_factor, \n",
    "#                                               final_div_factor=cfg.final_div_factor)\n",
    "#     # scheduler = None\n",
    "    \n",
    "#     L, LR, BLE, name = fit(model=model, \n",
    "#                            optimizer=optimizer, \n",
    "#                            scheduler=scheduler, \n",
    "#                            epochs=cfg.epochs, \n",
    "#                            early_stopping_patience=cfg.early_stopping, \n",
    "#                            dataloaders=dataloaders, \n",
    "#                            device=cfg.device,\n",
    "#                            save_path=cfg.save_path,\n",
    "#                            fold=fold,\n",
    "#                            verbose=True)\n",
    "\n",
    "#     breaker()\n",
    "#     show_graphs(L, LR)\n",
    "    \n",
    "#     BLEs.append(BLE)\n",
    "\n",
    "#     fold += 1"
   ]
  }
 ],
 "metadata": {
  "kernelspec": {
   "display_name": "Python 3",
   "language": "python",
   "name": "python3"
  },
  "language_info": {
   "codemirror_mode": {
    "name": "ipython",
    "version": 3
   },
   "file_extension": ".py",
   "mimetype": "text/x-python",
   "name": "python",
   "nbconvert_exporter": "python",
   "pygments_lexer": "ipython3",
   "version": "3.7.12"
  },
  "papermill": {
   "default_parameters": {},
   "duration": 37.039122,
   "end_time": "2022-04-25T09:16:31.978634",
   "environment_variables": {},
   "exception": null,
   "input_path": "__notebook__.ipynb",
   "output_path": "__notebook__.ipynb",
   "parameters": {},
   "start_time": "2022-04-25T09:15:54.939512",
   "version": "2.3.4"
  }
 },
 "nbformat": 4,
 "nbformat_minor": 5
}
