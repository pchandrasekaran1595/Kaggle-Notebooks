{
 "cells": [
  {
   "cell_type": "code",
   "execution_count": 1,
   "id": "f1ce0f96",
   "metadata": {
    "_cell_guid": "b1076dfc-b9ad-4769-8c92-a6c4dae69d19",
    "_uuid": "8f2839f25d086af736a60e9eeb907d3b93b6e0e5",
    "execution": {
     "iopub.execute_input": "2022-05-08T06:11:07.859513Z",
     "iopub.status.busy": "2022-05-08T06:11:07.857946Z",
     "iopub.status.idle": "2022-05-08T06:11:16.735905Z",
     "shell.execute_reply": "2022-05-08T06:11:16.736548Z"
    },
    "papermill": {
     "duration": 8.896217,
     "end_time": "2022-05-08T06:11:16.736885",
     "exception": false,
     "start_time": "2022-05-08T06:11:07.840668",
     "status": "completed"
    },
    "tags": []
   },
   "outputs": [
    {
     "name": "stdout",
     "output_type": "stream",
     "text": [
      "Collecting openpyxl\n",
      "  Downloading openpyxl-3.0.9-py2.py3-none-any.whl (242 kB)\n",
      "Collecting et-xmlfile\n",
      "  Downloading et_xmlfile-1.1.0-py3-none-any.whl (4.7 kB)\n",
      "Installing collected packages: et-xmlfile, openpyxl\n",
      "Successfully installed et-xmlfile-1.1.0 openpyxl-3.0.9\n"
     ]
    },
    {
     "name": "stderr",
     "output_type": "stream",
     "text": [
      "WARNING: Running pip as the 'root' user can result in broken permissions and conflicting behaviour with the system package manager. It is recommended to use a virtual environment instead: https://pip.pypa.io/warnings/venv\n"
     ]
    }
   ],
   "source": [
    "%%bash\n",
    "pip install openpyxl"
   ]
  },
  {
   "cell_type": "markdown",
   "id": "4e80dc8e",
   "metadata": {
    "papermill": {
     "duration": 0.012333,
     "end_time": "2022-05-08T06:11:16.763244",
     "exception": false,
     "start_time": "2022-05-08T06:11:16.750911",
     "status": "completed"
    },
    "tags": []
   },
   "source": [
    "### **Library Imports**"
   ]
  },
  {
   "cell_type": "code",
   "execution_count": 2,
   "id": "c8507131",
   "metadata": {
    "execution": {
     "iopub.execute_input": "2022-05-08T06:11:16.792479Z",
     "iopub.status.busy": "2022-05-08T06:11:16.791598Z",
     "iopub.status.idle": "2022-05-08T06:11:19.275015Z",
     "shell.execute_reply": "2022-05-08T06:11:19.274536Z"
    },
    "papermill": {
     "duration": 2.499438,
     "end_time": "2022-05-08T06:11:19.275212",
     "exception": false,
     "start_time": "2022-05-08T06:11:16.775774",
     "status": "completed"
    },
    "tags": []
   },
   "outputs": [],
   "source": [
    "import os\n",
    "import re\n",
    "import torch\n",
    "import numpy as np\n",
    "import pandas as pd\n",
    "import matplotlib.pyplot as plt\n",
    "\n",
    "from time import time\n",
    "from torch import nn, optim\n",
    "from torch.utils.data import Dataset\n",
    "from torch.utils.data import DataLoader as DL\n",
    "from torchvision import models, transforms\n",
    "\n",
    "from sklearn.model_selection import KFold"
   ]
  },
  {
   "cell_type": "markdown",
   "id": "4a2fda7c",
   "metadata": {
    "papermill": {
     "duration": 0.011673,
     "end_time": "2022-05-08T06:11:19.298940",
     "exception": false,
     "start_time": "2022-05-08T06:11:19.287267",
     "status": "completed"
    },
    "tags": []
   },
   "source": [
    "### **Utilities and Constants**"
   ]
  },
  {
   "cell_type": "code",
   "execution_count": 3,
   "id": "4992cd20",
   "metadata": {
    "execution": {
     "iopub.execute_input": "2022-05-08T06:11:19.332874Z",
     "iopub.status.busy": "2022-05-08T06:11:19.331969Z",
     "iopub.status.idle": "2022-05-08T06:11:19.333797Z",
     "shell.execute_reply": "2022-05-08T06:11:19.334221Z"
    },
    "papermill": {
     "duration": 0.023523,
     "end_time": "2022-05-08T06:11:19.334361",
     "exception": false,
     "start_time": "2022-05-08T06:11:19.310838",
     "status": "completed"
    },
    "tags": []
   },
   "outputs": [],
   "source": [
    "SEED = 42\n",
    "SIZE = 384\n",
    "\n",
    "def breaker(num: int=50, char: str=\"*\") -> None:\n",
    "    print(\"\\n\" + num*char + \"\\n\")\n",
    "\n",
    "    \n",
    "def show_loss_graph(L: list) -> None:\n",
    "    TL, VL = [], []\n",
    "    for i in range(len(L)):\n",
    "        TL.append(L[i][\"train\"])\n",
    "        VL.append(L[i][\"valid\"])\n",
    "    \n",
    "    x_Axis = np.arange(1, len(TL) + 1)\n",
    "    \n",
    "    plt.figure(figsize=(8, 6))\n",
    "    plt.plot(x_Axis, TL, \"r\", label=\"Train\")\n",
    "    plt.plot(x_Axis, VL, \"b\", label=\"Valid\")\n",
    "    plt.legend()\n",
    "    plt.grid()\n",
    "    plt.title(\"Loss Graph\")\n",
    "    plt.show()\n",
    "\n",
    "    \n",
    "def show_lr_graph(LR: list) -> None:\n",
    "    x_Axis = [i+1 for i in range(len(LR))]\n",
    "    plt.figure(figsize=(8, 6))\n",
    "    plt.plot(x_Axis, LR, \"rx\")\n",
    "    plt.grid()\n",
    "    plt.show()"
   ]
  },
  {
   "cell_type": "markdown",
   "id": "83d62bc4",
   "metadata": {
    "papermill": {
     "duration": 0.012157,
     "end_time": "2022-05-08T06:11:19.358707",
     "exception": false,
     "start_time": "2022-05-08T06:11:19.346550",
     "status": "completed"
    },
    "tags": []
   },
   "source": [
    "### **Configuration**"
   ]
  },
  {
   "cell_type": "code",
   "execution_count": 4,
   "id": "210d6cd8",
   "metadata": {
    "execution": {
     "iopub.execute_input": "2022-05-08T06:11:19.457029Z",
     "iopub.status.busy": "2022-05-08T06:11:19.456213Z",
     "iopub.status.idle": "2022-05-08T06:11:19.459021Z",
     "shell.execute_reply": "2022-05-08T06:11:19.458579Z"
    },
    "papermill": {
     "duration": 0.087821,
     "end_time": "2022-05-08T06:11:19.459151",
     "exception": false,
     "start_time": "2022-05-08T06:11:19.371330",
     "status": "completed"
    },
    "tags": []
   },
   "outputs": [],
   "source": [
    "class CFG(object):\n",
    "    def __init__(self, \n",
    "                 seed: int = 42,\n",
    "                 n_splits: int = 5,\n",
    "                 batch_size: int = 16,\n",
    "                 epochs: int = 25,\n",
    "                 early_stopping: int = 5,\n",
    "                 lr: float = 1e-4,\n",
    "                 wd: float = 0.0,\n",
    "                 max_lr: float = 1e-3,\n",
    "                 pct_start: float = 0.2,\n",
    "                 steps_per_epoch: int = 100,\n",
    "                 div_factor: int = 1e3, \n",
    "                 final_div_factor: float = 1e3,\n",
    "                 patience: int = 5,\n",
    "                 eps: float = 1e-8\n",
    "                 ):\n",
    "        self.seed = seed\n",
    "        self.n_splits = n_splits\n",
    "        self.batch_size = batch_size\n",
    "        self.epochs = epochs\n",
    "        self.early_stopping = early_stopping\n",
    "        self.lr = lr\n",
    "        self.wd = wd\n",
    "        self.max_lr = max_lr\n",
    "        self.pct_start = pct_start\n",
    "        self.steps_per_epoch = steps_per_epoch\n",
    "        self.div_factor = div_factor\n",
    "        self.final_div_factor = final_div_factor\n",
    "        self.patience = patience\n",
    "        self.eps = eps\n",
    "        self.device = torch.device(\"cuda\" if torch.cuda.is_available() else \"cpu\")\n",
    "        self.transform = transforms.Compose([transforms.ToTensor(),\n",
    "                                transforms.Normalize([0.30126, 0.19034, 0.10203],\n",
    "                                                     [0.31185, 0.21239, 0.13708]),\n",
    "                                ])\n",
    "        self.data_path = \"../input/odir-images-384\"\n",
    "        self.save_path = \"saves\"\n",
    "        if not os.path.exists(self.save_path): os.makedirs(self.save_path)\n",
    "\n",
    "cfg = CFG(seed=SEED)"
   ]
  },
  {
   "cell_type": "markdown",
   "id": "20972a10",
   "metadata": {
    "papermill": {
     "duration": 0.011934,
     "end_time": "2022-05-08T06:11:19.483235",
     "exception": false,
     "start_time": "2022-05-08T06:11:19.471301",
     "status": "completed"
    },
    "tags": []
   },
   "source": [
    "### **Dataset Template**"
   ]
  },
  {
   "cell_type": "code",
   "execution_count": 5,
   "id": "59550c23",
   "metadata": {
    "execution": {
     "iopub.execute_input": "2022-05-08T06:11:19.514478Z",
     "iopub.status.busy": "2022-05-08T06:11:19.512888Z",
     "iopub.status.idle": "2022-05-08T06:11:19.515072Z",
     "shell.execute_reply": "2022-05-08T06:11:19.515490Z"
    },
    "papermill": {
     "duration": 0.02053,
     "end_time": "2022-05-08T06:11:19.515613",
     "exception": false,
     "start_time": "2022-05-08T06:11:19.495083",
     "status": "completed"
    },
    "tags": []
   },
   "outputs": [],
   "source": [
    "class DS(Dataset):\n",
    "    def __init__(self, images: np.ndarray, labels: np.ndarray = None, transform=None):\n",
    "        self.images = images\n",
    "        self.labels = labels\n",
    "        self.transform = transform\n",
    "    \n",
    "    def __len__(self):\n",
    "        return self.images.shape[0]\n",
    "    \n",
    "    def __getitem__(self, idx):\n",
    "        if self.labels is not None:\n",
    "            return self.transform(self.images[idx]), torch.FloatTensor(self.labels[idx])\n",
    "        else:\n",
    "            return self.transform(self.images[idx])"
   ]
  },
  {
   "cell_type": "markdown",
   "id": "25543858",
   "metadata": {
    "papermill": {
     "duration": 0.01176,
     "end_time": "2022-05-08T06:11:19.539211",
     "exception": false,
     "start_time": "2022-05-08T06:11:19.527451",
     "status": "completed"
    },
    "tags": []
   },
   "source": [
    "### **Model**"
   ]
  },
  {
   "cell_type": "code",
   "execution_count": 6,
   "id": "82d717cc",
   "metadata": {
    "execution": {
     "iopub.execute_input": "2022-05-08T06:11:19.568399Z",
     "iopub.status.busy": "2022-05-08T06:11:19.567687Z",
     "iopub.status.idle": "2022-05-08T06:11:19.570328Z",
     "shell.execute_reply": "2022-05-08T06:11:19.569863Z"
    },
    "papermill": {
     "duration": 0.019322,
     "end_time": "2022-05-08T06:11:19.570438",
     "exception": false,
     "start_time": "2022-05-08T06:11:19.551116",
     "status": "completed"
    },
    "tags": []
   },
   "outputs": [],
   "source": [
    "class Model(nn.Module):\n",
    "    def __init__(self):\n",
    "        super(Model, self).__init__()\n",
    "\n",
    "        self.model = models.densenet121(pretrained=True, progress=True)\n",
    "        self.model.classifier = nn.Linear(in_features=self.model.classifier.in_features, out_features=8)\n",
    "\n",
    "    def forward(self, x):\n",
    "        return self.model(x)"
   ]
  },
  {
   "cell_type": "markdown",
   "id": "79d99f81",
   "metadata": {
    "papermill": {
     "duration": 0.011948,
     "end_time": "2022-05-08T06:11:19.594316",
     "exception": false,
     "start_time": "2022-05-08T06:11:19.582368",
     "status": "completed"
    },
    "tags": []
   },
   "source": [
    "### **Fit and Predict Helper**"
   ]
  },
  {
   "cell_type": "code",
   "execution_count": 7,
   "id": "a6d6bd15",
   "metadata": {
    "execution": {
     "iopub.execute_input": "2022-05-08T06:11:19.642687Z",
     "iopub.status.busy": "2022-05-08T06:11:19.641655Z",
     "iopub.status.idle": "2022-05-08T06:11:19.643536Z",
     "shell.execute_reply": "2022-05-08T06:11:19.644061Z"
    },
    "papermill": {
     "duration": 0.037726,
     "end_time": "2022-05-08T06:11:19.644208",
     "exception": false,
     "start_time": "2022-05-08T06:11:19.606482",
     "status": "completed"
    },
    "tags": []
   },
   "outputs": [],
   "source": [
    "def fit(model=None, \n",
    "        optimizer=None, \n",
    "        scheduler_oclr=None,\n",
    "        scheduler_rlrop=None, \n",
    "        epochs=None, \n",
    "        early_stopping_patience=None, \n",
    "        dataloaders=None, \n",
    "        fold=None, \n",
    "        save_path=None, \n",
    "        device=None,\n",
    "        verbose=False) -> tuple:\n",
    "    \n",
    "    def get_accuracy(y_pred, y_true):\n",
    "        y_pred = torch.argmax(y_pred, dim=1)\n",
    "        return torch.count_nonzero(y_pred == y_true).item() / len(y_pred)\n",
    "    \n",
    "    if verbose:\n",
    "        breaker()\n",
    "        if fold: print(f\"Training Fold {fold}...\")\n",
    "        else: print(\"Training ...\")\n",
    "        breaker()\n",
    "        \n",
    "    bestLoss = {\"train\" : np.inf, \"valid\" : np.inf}\n",
    "    Losses, LRs = [], []\n",
    "    \n",
    "    if fold: name = f\"state_fold_{fold}.pt\"\n",
    "    else: name = \"state.pt\"\n",
    "        \n",
    "    start_time = time()\n",
    "    for e in range(epochs):\n",
    "        e_st = time()\n",
    "        epochLoss = {\"train\" : 0.0, \"valid\" : 0.0}\n",
    "\n",
    "        for phase in [\"train\", \"valid\"]:\n",
    "            if phase == \"train\":\n",
    "                model.train()\n",
    "            else:\n",
    "                model.eval()\n",
    "            \n",
    "            lossPerPass = []\n",
    "            \n",
    "            for X, y in dataloaders[phase]:\n",
    "                X, y = X.to(device), y.to(device)\n",
    "\n",
    "                optimizer.zero_grad()\n",
    "                with torch.set_grad_enabled(phase == \"train\"):\n",
    "                    output = model(X)\n",
    "                    loss = torch.nn.BCEWithLogitsLoss()(output, y)\n",
    "                    if phase == \"train\":\n",
    "                        loss.backward()\n",
    "                        optimizer.step()\n",
    "                        if scheduler_oclr: scheduler_oclr.step()\n",
    "                lossPerPass.append(loss.item())\n",
    "            epochLoss[phase] = np.mean(np.array(lossPerPass))\n",
    "        if scheduler_oclr: LRs.append(scheduler_oclr.get_last_lr())\n",
    "        Losses.append(epochLoss)\n",
    "        \n",
    "        if scheduler_oclr:\n",
    "            save_dict = {\n",
    "                \"model_state_dict\"     : model.state_dict(),\n",
    "                \"optim_state_dict\"     : optimizer.state_dict(),\n",
    "                \"scheduler_state_dict\" : scheduler_oclr.state_dict(),\n",
    "            }\n",
    "        \n",
    "        elif scheduler_rlrop:\n",
    "            save_dict = {\n",
    "                \"model_state_dict\"     : model.state_dict(),\n",
    "                \"optim_state_dict\"     : optimizer.state_dict(),\n",
    "                \"scheduler_state_dict\" : scheduler_rlrop.state_dict(),\n",
    "            }\n",
    "        \n",
    "        else:\n",
    "            save_dict = {\n",
    "                \"model_state_dict\"     : model.state_dict(),\n",
    "                \"optim_state_dict\"     : optimizer.state_dict(),\n",
    "            }\n",
    "            \n",
    "        \n",
    "        if early_stopping_patience:\n",
    "            if epochLoss[\"valid\"] < bestLoss[\"valid\"]:\n",
    "                bestLoss = epochLoss\n",
    "                BLE = e + 1\n",
    "                torch.save(save_dict, os.path.join(save_path, name))\n",
    "                early_stopping_step = 0\n",
    "            else:\n",
    "                early_stopping_step += 1\n",
    "                if early_stopping_step > early_stopping_patience:\n",
    "                    print(\"\\nEarly Stopping at Epoch {}\".format(e + 1))\n",
    "                    break\n",
    "            \n",
    "        if epochLoss[\"valid\"] < bestLoss[\"valid\"]:\n",
    "            bestLoss = epochLoss\n",
    "            BLE = e + 1\n",
    "            torch.save(save_dict, os.path.join(save_path, name))\n",
    "    \n",
    "        if scheduler_rlrop: scheduler_rlrop.step(epochLoss[\"valid\"])\n",
    "        \n",
    "        if verbose:\n",
    "            print(\"Epoch: {} | Train Loss: {:.5f} | Valid Loss: {:.5f} | Time: {:.2f} seconds\".format(e+1, epochLoss[\"train\"], epochLoss[\"valid\"], time()-e_st))\n",
    "        \n",
    "    \n",
    "    if verbose:                                           \n",
    "        breaker()\n",
    "        print(f\"Best Validation Loss at Epoch {BLE}\")\n",
    "        breaker()\n",
    "        print(\"Time Taken [{} Epochs] : {:.2f} minutes\".format(len(Losses), (time()-start_time)/60))\n",
    "    \n",
    "    return Losses, LRs, BLE, name\n",
    "\n",
    "\n",
    "def predict(model=None, dataloader=None, path=None, device=None) -> np.ndarray:\n",
    "    model.load_state_dict(torch.load(path, map_location=device)[\"model_state_dict\"])\n",
    "    model.to(device)    \n",
    "    model.eval()\n",
    "    \n",
    "    y_pred = torch.zeros(1, 8).to(device)\n",
    "    \n",
    "    for X in dataloader:\n",
    "        X = X.to(device)\n",
    "        with torch.no_grad():\n",
    "            output = torch.sigmoid(model(X))\n",
    "        y_pred = torch.cat((y_pred, output), dim=0)\n",
    "    \n",
    "    return y_pred[1:].detach().cpu().numpy()"
   ]
  },
  {
   "cell_type": "markdown",
   "id": "2a27b168",
   "metadata": {
    "papermill": {
     "duration": 0.012329,
     "end_time": "2022-05-08T06:11:19.669169",
     "exception": false,
     "start_time": "2022-05-08T06:11:19.656840",
     "status": "completed"
    },
    "tags": []
   },
   "source": [
    "### **Train**"
   ]
  },
  {
   "cell_type": "code",
   "execution_count": 8,
   "id": "8121d53a",
   "metadata": {
    "execution": {
     "iopub.execute_input": "2022-05-08T06:11:19.699174Z",
     "iopub.status.busy": "2022-05-08T06:11:19.698587Z",
     "iopub.status.idle": "2022-05-08T06:11:29.264574Z",
     "shell.execute_reply": "2022-05-08T06:11:29.264089Z"
    },
    "papermill": {
     "duration": 9.583002,
     "end_time": "2022-05-08T06:11:29.264705",
     "exception": false,
     "start_time": "2022-05-08T06:11:19.681703",
     "status": "completed"
    },
    "tags": []
   },
   "outputs": [],
   "source": [
    "images  = np.load(os.path.join(cfg.data_path, f\"right_images_{SIZE}.npy\"))\n",
    "targets = np.load(os.path.join(cfg.data_path, f\"targets_{SIZE}.npy\"))"
   ]
  },
  {
   "cell_type": "code",
   "execution_count": 9,
   "id": "c7fd571b",
   "metadata": {
    "execution": {
     "iopub.execute_input": "2022-05-08T06:11:29.306836Z",
     "iopub.status.busy": "2022-05-08T06:11:29.305639Z",
     "iopub.status.idle": "2022-05-08T07:23:32.198038Z",
     "shell.execute_reply": "2022-05-08T07:23:32.198462Z"
    },
    "papermill": {
     "duration": 4322.919471,
     "end_time": "2022-05-08T07:23:32.198621",
     "exception": false,
     "start_time": "2022-05-08T06:11:29.279150",
     "status": "completed"
    },
    "tags": []
   },
   "outputs": [
    {
     "name": "stderr",
     "output_type": "stream",
     "text": [
      "Downloading: \"https://download.pytorch.org/models/densenet121-a639ec97.pth\" to /root/.cache/torch/hub/checkpoints/densenet121-a639ec97.pth\n"
     ]
    },
    {
     "data": {
      "application/vnd.jupyter.widget-view+json": {
       "model_id": "2ab595cd6a2a4144ab854a458fa54efe",
       "version_major": 2,
       "version_minor": 0
      },
      "text/plain": [
       "  0%|          | 0.00/30.8M [00:00<?, ?B/s]"
      ]
     },
     "metadata": {},
     "output_type": "display_data"
    },
    {
     "name": "stdout",
     "output_type": "stream",
     "text": [
      "\n",
      "**************************************************\n",
      "\n",
      "Training Fold 1...\n",
      "\n",
      "**************************************************\n",
      "\n",
      "Epoch: 1 | Train Loss: 0.52780 | Valid Loss: 0.34555 | Time: 63.51 seconds\n",
      "Epoch: 2 | Train Loss: 0.30368 | Valid Loss: 0.32716 | Time: 57.54 seconds\n",
      "Epoch: 3 | Train Loss: 0.29145 | Valid Loss: 0.34735 | Time: 57.13 seconds\n",
      "Epoch: 4 | Train Loss: 0.30216 | Valid Loss: 0.31847 | Time: 57.56 seconds\n",
      "Epoch: 5 | Train Loss: 0.29331 | Valid Loss: 0.34072 | Time: 57.22 seconds\n",
      "Epoch: 6 | Train Loss: 0.28913 | Valid Loss: 0.33654 | Time: 57.23 seconds\n",
      "Epoch: 7 | Train Loss: 0.27961 | Valid Loss: 0.32710 | Time: 57.40 seconds\n",
      "Epoch: 8 | Train Loss: 0.27489 | Valid Loss: 0.29775 | Time: 57.47 seconds\n",
      "Epoch: 9 | Train Loss: 0.26382 | Valid Loss: 0.31277 | Time: 57.31 seconds\n",
      "Epoch: 10 | Train Loss: 0.25654 | Valid Loss: 0.31004 | Time: 57.32 seconds\n",
      "Epoch: 11 | Train Loss: 0.24939 | Valid Loss: 0.31064 | Time: 57.15 seconds\n",
      "Epoch: 12 | Train Loss: 0.23392 | Valid Loss: 0.30464 | Time: 57.13 seconds\n",
      "Epoch: 13 | Train Loss: 0.22124 | Valid Loss: 0.32171 | Time: 57.15 seconds\n",
      "\n",
      "Early Stopping at Epoch 14\n",
      "\n",
      "**************************************************\n",
      "\n",
      "Best Validation Loss at Epoch 8\n",
      "\n",
      "**************************************************\n",
      "\n",
      "Time Taken [14 Epochs] : 13.47 minutes\n",
      "\n",
      "**************************************************\n",
      "\n"
     ]
    },
    {
     "data": {
      "image/png": "[encoded data removed]",
      "text/plain": [
       "<Figure size 576x432 with 1 Axes>"
      ]
     },
     "metadata": {
      "needs_background": "light"
     },
     "output_type": "display_data"
    },
    {
     "name": "stdout",
     "output_type": "stream",
     "text": [
      "\n",
      "**************************************************\n",
      "\n"
     ]
    },
    {
     "data": {
      "image/png": "[encoded data removed]",
      "text/plain": [
       "<Figure size 576x432 with 1 Axes>"
      ]
     },
     "metadata": {
      "needs_background": "light"
     },
     "output_type": "display_data"
    },
    {
     "name": "stdout",
     "output_type": "stream",
     "text": [
      "\n",
      "**************************************************\n",
      "\n",
      "\n",
      "**************************************************\n",
      "\n",
      "Training Fold 2...\n",
      "\n",
      "**************************************************\n",
      "\n",
      "Epoch: 1 | Train Loss: 0.54180 | Valid Loss: 0.35633 | Time: 59.34 seconds\n",
      "Epoch: 2 | Train Loss: 0.30885 | Valid Loss: 0.30187 | Time: 59.31 seconds\n",
      "Epoch: 3 | Train Loss: 0.29452 | Valid Loss: 0.31807 | Time: 59.26 seconds\n",
      "Epoch: 4 | Train Loss: 0.29456 | Valid Loss: 0.54018 | Time: 59.47 seconds\n",
      "Epoch: 5 | Train Loss: 0.29557 | Valid Loss: 0.29129 | Time: 59.64 seconds\n",
      "Epoch: 6 | Train Loss: 0.28345 | Valid Loss: 0.31680 | Time: 59.37 seconds\n",
      "Epoch: 7 | Train Loss: 0.28091 | Valid Loss: 0.28364 | Time: 59.26 seconds\n",
      "Epoch: 8 | Train Loss: 0.27263 | Valid Loss: 0.30514 | Time: 59.22 seconds\n",
      "Epoch: 9 | Train Loss: 0.26057 | Valid Loss: 0.32400 | Time: 59.14 seconds\n",
      "Epoch: 10 | Train Loss: 0.25253 | Valid Loss: 0.29251 | Time: 58.98 seconds\n",
      "Epoch: 11 | Train Loss: 0.23915 | Valid Loss: 0.32136 | Time: 59.15 seconds\n",
      "Epoch: 12 | Train Loss: 0.22767 | Valid Loss: 0.35560 | Time: 59.08 seconds\n",
      "\n",
      "Early Stopping at Epoch 13\n",
      "\n",
      "**************************************************\n",
      "\n",
      "Best Validation Loss at Epoch 7\n",
      "\n",
      "**************************************************\n",
      "\n",
      "Time Taken [13 Epochs] : 12.84 minutes\n",
      "\n",
      "**************************************************\n",
      "\n"
     ]
    },
    {
     "data": {
      "image/png": "[encoded data removed]",
      "text/plain": [
       "<Figure size 576x432 with 1 Axes>"
      ]
     },
     "metadata": {
      "needs_background": "light"
     },
     "output_type": "display_data"
    },
    {
     "name": "stdout",
     "output_type": "stream",
     "text": [
      "\n",
      "**************************************************\n",
      "\n"
     ]
    },
    {
     "data": {
      "image/png": "[encoded data removed]",
      "text/plain": [
       "<Figure size 576x432 with 1 Axes>"
      ]
     },
     "metadata": {
      "needs_background": "light"
     },
     "output_type": "display_data"
    },
    {
     "name": "stdout",
     "output_type": "stream",
     "text": [
      "\n",
      "**************************************************\n",
      "\n",
      "\n",
      "**************************************************\n",
      "\n",
      "Training Fold 3...\n",
      "\n",
      "**************************************************\n",
      "\n",
      "Epoch: 1 | Train Loss: 0.54182 | Valid Loss: 0.34979 | Time: 59.53 seconds\n",
      "Epoch: 2 | Train Loss: 0.30727 | Valid Loss: 0.29534 | Time: 59.72 seconds\n",
      "Epoch: 3 | Train Loss: 0.29748 | Valid Loss: 0.34802 | Time: 59.21 seconds\n",
      "Epoch: 4 | Train Loss: 0.30053 | Valid Loss: 0.28456 | Time: 59.39 seconds\n",
      "Epoch: 5 | Train Loss: 0.29157 | Valid Loss: 0.28762 | Time: 59.27 seconds\n",
      "Epoch: 6 | Train Loss: 0.28290 | Valid Loss: 0.28957 | Time: 59.23 seconds\n",
      "Epoch: 7 | Train Loss: 0.27430 | Valid Loss: 0.28560 | Time: 59.07 seconds\n",
      "Epoch: 8 | Train Loss: 0.27192 | Valid Loss: 0.27593 | Time: 59.63 seconds\n",
      "Epoch: 9 | Train Loss: 0.26143 | Valid Loss: 0.28640 | Time: 59.42 seconds\n",
      "Epoch: 10 | Train Loss: 0.25373 | Valid Loss: 0.31572 | Time: 59.37 seconds\n",
      "Epoch: 11 | Train Loss: 0.23782 | Valid Loss: 0.29492 | Time: 59.17 seconds\n",
      "Epoch: 12 | Train Loss: 0.22461 | Valid Loss: 0.34760 | Time: 59.30 seconds\n",
      "Epoch: 13 | Train Loss: 0.20694 | Valid Loss: 0.30685 | Time: 59.19 seconds\n",
      "\n",
      "Early Stopping at Epoch 14\n",
      "\n",
      "**************************************************\n",
      "\n",
      "Best Validation Loss at Epoch 8\n",
      "\n",
      "**************************************************\n",
      "\n",
      "Time Taken [14 Epochs] : 13.84 minutes\n",
      "\n",
      "**************************************************\n",
      "\n"
     ]
    },
    {
     "data": {
      "image/png": "[encoded data removed]",
      "text/plain": [
       "<Figure size 576x432 with 1 Axes>"
      ]
     },
     "metadata": {
      "needs_background": "light"
     },
     "output_type": "display_data"
    },
    {
     "name": "stdout",
     "output_type": "stream",
     "text": [
      "\n",
      "**************************************************\n",
      "\n"
     ]
    },
    {
     "data": {
      "image/png": "[encoded data removed]",
      "text/plain": [
       "<Figure size 576x432 with 1 Axes>"
      ]
     },
     "metadata": {
      "needs_background": "light"
     },
     "output_type": "display_data"
    },
    {
     "name": "stdout",
     "output_type": "stream",
     "text": [
      "\n",
      "**************************************************\n",
      "\n",
      "\n",
      "**************************************************\n",
      "\n",
      "Training Fold 4...\n",
      "\n",
      "**************************************************\n",
      "\n",
      "Epoch: 1 | Train Loss: 0.54108 | Valid Loss: 0.35230 | Time: 59.49 seconds\n",
      "Epoch: 2 | Train Loss: 0.30754 | Valid Loss: 0.31760 | Time: 59.49 seconds\n",
      "Epoch: 3 | Train Loss: 0.29568 | Valid Loss: 0.36399 | Time: 59.30 seconds\n",
      "Epoch: 4 | Train Loss: 0.29485 | Valid Loss: 0.33287 | Time: 59.59 seconds\n",
      "Epoch: 5 | Train Loss: 0.29220 | Valid Loss: 0.31570 | Time: 59.71 seconds\n",
      "Epoch: 6 | Train Loss: 0.28118 | Valid Loss: 0.31703 | Time: 59.32 seconds\n",
      "Epoch: 7 | Train Loss: 0.27685 | Valid Loss: 0.32684 | Time: 59.45 seconds\n",
      "Epoch: 8 | Train Loss: 0.26852 | Valid Loss: 0.30014 | Time: 59.98 seconds\n",
      "Epoch: 9 | Train Loss: 0.25776 | Valid Loss: 0.32613 | Time: 59.52 seconds\n",
      "Epoch: 10 | Train Loss: 0.24967 | Valid Loss: 0.31001 | Time: 59.24 seconds\n",
      "Epoch: 11 | Train Loss: 0.24005 | Valid Loss: 0.35624 | Time: 59.15 seconds\n",
      "Epoch: 12 | Train Loss: 0.22543 | Valid Loss: 0.30173 | Time: 59.23 seconds\n",
      "Epoch: 13 | Train Loss: 0.20597 | Valid Loss: 0.33680 | Time: 59.25 seconds\n",
      "\n",
      "Early Stopping at Epoch 14\n",
      "\n",
      "**************************************************\n",
      "\n",
      "Best Validation Loss at Epoch 8\n",
      "\n",
      "**************************************************\n",
      "\n",
      "Time Taken [14 Epochs] : 13.87 minutes\n",
      "\n",
      "**************************************************\n",
      "\n"
     ]
    },
    {
     "data": {
      "image/png": "[encoded data removed]",
      "text/plain": [
       "<Figure size 576x432 with 1 Axes>"
      ]
     },
     "metadata": {
      "needs_background": "light"
     },
     "output_type": "display_data"
    },
    {
     "name": "stdout",
     "output_type": "stream",
     "text": [
      "\n",
      "**************************************************\n",
      "\n"
     ]
    },
    {
     "data": {
      "image/png": "[encoded data removed]",
      "text/plain": [
       "<Figure size 576x432 with 1 Axes>"
      ]
     },
     "metadata": {
      "needs_background": "light"
     },
     "output_type": "display_data"
    },
    {
     "name": "stdout",
     "output_type": "stream",
     "text": [
      "\n",
      "**************************************************\n",
      "\n",
      "\n",
      "**************************************************\n",
      "\n",
      "Training Fold 5...\n",
      "\n",
      "**************************************************\n",
      "\n",
      "Epoch: 1 | Train Loss: 0.54115 | Valid Loss: 0.34724 | Time: 59.39 seconds\n",
      "Epoch: 2 | Train Loss: 0.30679 | Valid Loss: 0.31256 | Time: 59.73 seconds\n",
      "Epoch: 3 | Train Loss: 0.29486 | Valid Loss: 0.32637 | Time: 59.25 seconds\n",
      "Epoch: 4 | Train Loss: 0.29771 | Valid Loss: 0.32297 | Time: 59.37 seconds\n",
      "Epoch: 5 | Train Loss: 0.29058 | Valid Loss: 0.30239 | Time: 59.59 seconds\n",
      "Epoch: 6 | Train Loss: 0.28748 | Valid Loss: 0.32841 | Time: 59.15 seconds\n",
      "Epoch: 7 | Train Loss: 0.27860 | Valid Loss: 0.30981 | Time: 59.33 seconds\n",
      "Epoch: 8 | Train Loss: 0.27452 | Valid Loss: 0.31643 | Time: 59.27 seconds\n",
      "Epoch: 9 | Train Loss: 0.26316 | Valid Loss: 0.30107 | Time: 59.87 seconds\n",
      "Epoch: 10 | Train Loss: 0.25672 | Valid Loss: 0.33603 | Time: 59.27 seconds\n",
      "Epoch: 11 | Train Loss: 0.24387 | Valid Loss: 0.31187 | Time: 59.40 seconds\n",
      "Epoch: 12 | Train Loss: 0.23069 | Valid Loss: 0.29016 | Time: 59.64 seconds\n",
      "Epoch: 13 | Train Loss: 0.21359 | Valid Loss: 0.30540 | Time: 59.50 seconds\n",
      "Epoch: 14 | Train Loss: 0.18764 | Valid Loss: 0.36446 | Time: 59.34 seconds\n",
      "Epoch: 15 | Train Loss: 0.15455 | Valid Loss: 0.36422 | Time: 59.38 seconds\n",
      "Epoch: 16 | Train Loss: 0.12491 | Valid Loss: 0.37255 | Time: 59.31 seconds\n",
      "Epoch: 17 | Train Loss: 0.07948 | Valid Loss: 0.40116 | Time: 59.41 seconds\n",
      "\n",
      "Early Stopping at Epoch 18\n",
      "\n",
      "**************************************************\n",
      "\n",
      "Best Validation Loss at Epoch 12\n",
      "\n",
      "**************************************************\n",
      "\n",
      "Time Taken [18 Epochs] : 17.83 minutes\n",
      "\n",
      "**************************************************\n",
      "\n"
     ]
    },
    {
     "data": {
      "image/png": "[encoded data removed]",
      "text/plain": [
       "<Figure size 576x432 with 1 Axes>"
      ]
     },
     "metadata": {
      "needs_background": "light"
     },
     "output_type": "display_data"
    },
    {
     "name": "stdout",
     "output_type": "stream",
     "text": [
      "\n",
      "**************************************************\n",
      "\n"
     ]
    },
    {
     "data": {
      "image/png": "[encoded data removed]",
      "text/plain": [
       "<Figure size 576x432 with 1 Axes>"
      ]
     },
     "metadata": {
      "needs_background": "light"
     },
     "output_type": "display_data"
    },
    {
     "name": "stdout",
     "output_type": "stream",
     "text": [
      "\n",
      "**************************************************\n",
      "\n"
     ]
    }
   ],
   "source": [
    "fold = 1\n",
    "BLEs = []\n",
    "\n",
    "if images.shape[0] != 3500:\n",
    "    raise ValueError(\"Error in loading Images\")\n",
    "\n",
    "else:\n",
    "    for tr_idx, va_idx in KFold(n_splits=cfg.n_splits, random_state=cfg.seed, shuffle=True).split(images):\n",
    "        tr_images, va_images, tr_targets, va_targets = images[tr_idx], images[va_idx], targets[tr_idx], targets[va_idx]\n",
    "\n",
    "        tr_data_setup = DS(tr_images, tr_targets, cfg.transform)\n",
    "        va_data_setup = DS(va_images, va_targets, cfg.transform)\n",
    "\n",
    "        dataloaders = {\n",
    "            \"train\" : DL(tr_data_setup, batch_size=cfg.batch_size, shuffle=True, generator=torch.manual_seed(cfg.seed)),\n",
    "            \"valid\" : DL(va_data_setup, batch_size=cfg.batch_size, shuffle=False),\n",
    "        }\n",
    "\n",
    "        cfg = CFG(epochs=25, lr=1e-3, wd=0.0, batch_size=20, steps_per_epoch=len(dataloaders[\"train\"]))\n",
    "\n",
    "        torch.manual_seed(cfg.seed)\n",
    "        model = Model().to(cfg.device)\n",
    "        optimizer = optim.Adam([p for p in model.parameters() if p.requires_grad], lr=cfg.lr, weight_decay=cfg.wd)\n",
    "        scheduler_oclr = optim.lr_scheduler.OneCycleLR(optimizer=optimizer, \n",
    "                                                       max_lr=cfg.max_lr, \n",
    "                                                       epochs=cfg.epochs, \n",
    "                                                       steps_per_epoch=cfg.steps_per_epoch,\n",
    "                                                       pct_start=cfg.pct_start, \n",
    "                                                       div_factor=cfg.div_factor, \n",
    "                                                       final_div_factor=cfg.final_div_factor)\n",
    "        # scheduler_rlrop = optim.lr_scheduler.ReduceLROnPlateau(optimizer=optimizer,\n",
    "        #                                                       patience=cfg.patience,\n",
    "        #                                                       eps=cfg.eps,\n",
    "        #                                                       verbose=True)\n",
    "\n",
    "        # scheduler_oclr = None\n",
    "        scheduler_rlrop = None\n",
    "\n",
    "        L, LR, BLE, name = fit(model=model, \n",
    "                               optimizer=optimizer, \n",
    "                               scheduler_oclr=scheduler_oclr,\n",
    "                               scheduler_rlrop=scheduler_rlrop,\n",
    "                               epochs=cfg.epochs, \n",
    "                               early_stopping_patience=cfg.early_stopping, \n",
    "                               dataloaders=dataloaders, \n",
    "                               device=cfg.device,\n",
    "                               save_path=cfg.save_path,\n",
    "                               fold=fold,\n",
    "                               verbose=True)\n",
    "\n",
    "        breaker()\n",
    "        show_loss_graph(L)\n",
    "        breaker()\n",
    "        \n",
    "        if scheduler_oclr:\n",
    "            show_lr_graph(LR)\n",
    "            breaker()\n",
    "\n",
    "        BLEs.append(BLE)\n",
    "\n",
    "        fold += 1"
   ]
  }
 ],
 "metadata": {
  "kernelspec": {
   "display_name": "Python 3",
   "language": "python",
   "name": "python3"
  },
  "language_info": {
   "codemirror_mode": {
    "name": "ipython",
    "version": 3
   },
   "file_extension": ".py",
   "mimetype": "text/x-python",
   "name": "python",
   "nbconvert_exporter": "python",
   "pygments_lexer": "ipython3",
   "version": "3.7.12"
  },
  "papermill": {
   "default_parameters": {},
   "duration": 4355.25356,
   "end_time": "2022-05-08T07:23:34.915564",
   "environment_variables": {},
   "exception": null,
   "input_path": "__notebook__.ipynb",
   "output_path": "__notebook__.ipynb",
   "parameters": {},
   "start_time": "2022-05-08T06:10:59.662004",
   "version": "2.3.3"
  },
  "widgets": {
   "application/vnd.jupyter.widget-state+json": {
    "state": {
     "2ab595cd6a2a4144ab854a458fa54efe": {
      "model_module": "@jupyter-widgets/controls",
      "model_module_version": "1.5.0",
      "model_name": "HBoxModel",
      "state": {
       "_dom_classes": [],
       "_model_module": "@jupyter-widgets/controls",
       "_model_module_version": "1.5.0",
       "_model_name": "HBoxModel",
       "_view_count": null,
       "_view_module": "@jupyter-widgets/controls",
       "_view_module_version": "1.5.0",
       "_view_name": "HBoxView",
       "box_style": "",
       "children": [
        "IPY_MODEL_60f6a1e942b2435199155c92e3ad9e28",
        "IPY_MODEL_4e7a255dcd6742428b24671fe5b3d34c",
        "IPY_MODEL_40f2e1659f60430886754688af0a9bbc"
       ],
       "layout": "IPY_MODEL_4d1dd70f4e9d4f98bd7b0fbd2b738573"
      }
     },
     "40f2e1659f60430886754688af0a9bbc": {
      "model_module": "@jupyter-widgets/controls",
      "model_module_version": "1.5.0",
      "model_name": "HTMLModel",
      "state": {
       "_dom_classes": [],
       "_model_module": "@jupyter-widgets/controls",
       "_model_module_version": "1.5.0",
       "_model_name": "HTMLModel",
       "_view_count": null,
       "_view_module": "@jupyter-widgets/controls",
       "_view_module_version": "1.5.0",
       "_view_name": "HTMLView",
       "description": "",
       "description_tooltip": null,
       "layout": "IPY_MODEL_6b34db3e27894296983475648a3fad58",
       "placeholder": "​",
       "style": "IPY_MODEL_b7b82ae8c4d64270b26b43b99206b7f3",
       "value": " 30.8M/30.8M [00:02&lt;00:00, 23.6MB/s]"
      }
     },
     "4d1dd70f4e9d4f98bd7b0fbd2b738573": {
      "model_module": "@jupyter-widgets/base",
      "model_module_version": "1.2.0",
      "model_name": "LayoutModel",
      "state": {
       "_model_module": "@jupyter-widgets/base",
       "_model_module_version": "1.2.0",
       "_model_name": "LayoutModel",
       "_view_count": null,
       "_view_module": "@jupyter-widgets/base",
       "_view_module_version": "1.2.0",
       "_view_name": "LayoutView",
       "align_content": null,
       "align_items": null,
       "align_self": null,
       "border": null,
       "bottom": null,
       "display": null,
       "flex": null,
       "flex_flow": null,
       "grid_area": null,
       "grid_auto_columns": null,
       "grid_auto_flow": null,
       "grid_auto_rows": null,
       "grid_column": null,
       "grid_gap": null,
       "grid_row": null,
       "grid_template_areas": null,
       "grid_template_columns": null,
       "grid_template_rows": null,
       "height": null,
       "justify_content": null,
       "justify_items": null,
       "left": null,
       "margin": null,
       "max_height": null,
       "max_width": null,
       "min_height": null,
       "min_width": null,
       "object_fit": null,
       "object_position": null,
       "order": null,
       "overflow": null,
       "overflow_x": null,
       "overflow_y": null,
       "padding": null,
       "right": null,
       "top": null,
       "visibility": null,
       "width": null
      }
     },
     "4e7a255dcd6742428b24671fe5b3d34c": {
      "model_module": "@jupyter-widgets/controls",
      "model_module_version": "1.5.0",
      "model_name": "FloatProgressModel",
      "state": {
       "_dom_classes": [],
       "_model_module": "@jupyter-widgets/controls",
       "_model_module_version": "1.5.0",
       "_model_name": "FloatProgressModel",
       "_view_count": null,
       "_view_module": "@jupyter-widgets/controls",
       "_view_module_version": "1.5.0",
       "_view_name": "ProgressView",
       "bar_style": "success",
       "description": "",
       "description_tooltip": null,
       "layout": "IPY_MODEL_88683f6a16a34ddb83716e0b13d86dfa",
       "max": 32342954.0,
       "min": 0.0,
       "orientation": "horizontal",
       "style": "IPY_MODEL_8cf54b961802478eb8fd1bead617a729",
       "value": 32342954.0
      }
     },
     "60f6a1e942b2435199155c92e3ad9e28": {
      "model_module": "@jupyter-widgets/controls",
      "model_module_version": "1.5.0",
      "model_name": "HTMLModel",
      "state": {
       "_dom_classes": [],
       "_model_module": "@jupyter-widgets/controls",
       "_model_module_version": "1.5.0",
       "_model_name": "HTMLModel",
       "_view_count": null,
       "_view_module": "@jupyter-widgets/controls",
       "_view_module_version": "1.5.0",
       "_view_name": "HTMLView",
       "description": "",
       "description_tooltip": null,
       "layout": "IPY_MODEL_f270c38605bf4ee294f21feae43907de",
       "placeholder": "​",
       "style": "IPY_MODEL_f46c5c1cc2a94c938a4b71f0389c3740",
       "value": "100%"
      }
     },
     "6b34db3e27894296983475648a3fad58": {
      "model_module": "@jupyter-widgets/base",
      "model_module_version": "1.2.0",
      "model_name": "LayoutModel",
      "state": {
       "_model_module": "@jupyter-widgets/base",
       "_model_module_version": "1.2.0",
       "_model_name": "LayoutModel",
       "_view_count": null,
       "_view_module": "@jupyter-widgets/base",
       "_view_module_version": "1.2.0",
       "_view_name": "LayoutView",
       "align_content": null,
       "align_items": null,
       "align_self": null,
       "border": null,
       "bottom": null,
       "display": null,
       "flex": null,
       "flex_flow": null,
       "grid_area": null,
       "grid_auto_columns": null,
       "grid_auto_flow": null,
       "grid_auto_rows": null,
       "grid_column": null,
       "grid_gap": null,
       "grid_row": null,
       "grid_template_areas": null,
       "grid_template_columns": null,
       "grid_template_rows": null,
       "height": null,
       "justify_content": null,
       "justify_items": null,
       "left": null,
       "margin": null,
       "max_height": null,
       "max_width": null,
       "min_height": null,
       "min_width": null,
       "object_fit": null,
       "object_position": null,
       "order": null,
       "overflow": null,
       "overflow_x": null,
       "overflow_y": null,
       "padding": null,
       "right": null,
       "top": null,
       "visibility": null,
       "width": null
      }
     },
     "88683f6a16a34ddb83716e0b13d86dfa": {
      "model_module": "@jupyter-widgets/base",
      "model_module_version": "1.2.0",
      "model_name": "LayoutModel",
      "state": {
       "_model_module": "@jupyter-widgets/base",
       "_model_module_version": "1.2.0",
       "_model_name": "LayoutModel",
       "_view_count": null,
       "_view_module": "@jupyter-widgets/base",
       "_view_module_version": "1.2.0",
       "_view_name": "LayoutView",
       "align_content": null,
       "align_items": null,
       "align_self": null,
       "border": null,
       "bottom": null,
       "display": null,
       "flex": null,
       "flex_flow": null,
       "grid_area": null,
       "grid_auto_columns": null,
       "grid_auto_flow": null,
       "grid_auto_rows": null,
       "grid_column": null,
       "grid_gap": null,
       "grid_row": null,
       "grid_template_areas": null,
       "grid_template_columns": null,
       "grid_template_rows": null,
       "height": null,
       "justify_content": null,
       "justify_items": null,
       "left": null,
       "margin": null,
       "max_height": null,
       "max_width": null,
       "min_height": null,
       "min_width": null,
       "object_fit": null,
       "object_position": null,
       "order": null,
       "overflow": null,
       "overflow_x": null,
       "overflow_y": null,
       "padding": null,
       "right": null,
       "top": null,
       "visibility": null,
       "width": null
      }
     },
     "8cf54b961802478eb8fd1bead617a729": {
      "model_module": "@jupyter-widgets/controls",
      "model_module_version": "1.5.0",
      "model_name": "ProgressStyleModel",
      "state": {
       "_model_module": "@jupyter-widgets/controls",
       "_model_module_version": "1.5.0",
       "_model_name": "ProgressStyleModel",
       "_view_count": null,
       "_view_module": "@jupyter-widgets/base",
       "_view_module_version": "1.2.0",
       "_view_name": "StyleView",
       "bar_color": null,
       "description_width": ""
      }
     },
     "b7b82ae8c4d64270b26b43b99206b7f3": {
      "model_module": "@jupyter-widgets/controls",
      "model_module_version": "1.5.0",
      "model_name": "DescriptionStyleModel",
      "state": {
       "_model_module": "@jupyter-widgets/controls",
       "_model_module_version": "1.5.0",
       "_model_name": "DescriptionStyleModel",
       "_view_count": null,
       "_view_module": "@jupyter-widgets/base",
       "_view_module_version": "1.2.0",
       "_view_name": "StyleView",
       "description_width": ""
      }
     },
     "f270c38605bf4ee294f21feae43907de": {
      "model_module": "@jupyter-widgets/base",
      "model_module_version": "1.2.0",
      "model_name": "LayoutModel",
      "state": {
       "_model_module": "@jupyter-widgets/base",
       "_model_module_version": "1.2.0",
       "_model_name": "LayoutModel",
       "_view_count": null,
       "_view_module": "@jupyter-widgets/base",
       "_view_module_version": "1.2.0",
       "_view_name": "LayoutView",
       "align_content": null,
       "align_items": null,
       "align_self": null,
       "border": null,
       "bottom": null,
       "display": null,
       "flex": null,
       "flex_flow": null,
       "grid_area": null,
       "grid_auto_columns": null,
       "grid_auto_flow": null,
       "grid_auto_rows": null,
       "grid_column": null,
       "grid_gap": null,
       "grid_row": null,
       "grid_template_areas": null,
       "grid_template_columns": null,
       "grid_template_rows": null,
       "height": null,
       "justify_content": null,
       "justify_items": null,
       "left": null,
       "margin": null,
       "max_height": null,
       "max_width": null,
       "min_height": null,
       "min_width": null,
       "object_fit": null,
       "object_position": null,
       "order": null,
       "overflow": null,
       "overflow_x": null,
       "overflow_y": null,
       "padding": null,
       "right": null,
       "top": null,
       "visibility": null,
       "width": null
      }
     },
     "f46c5c1cc2a94c938a4b71f0389c3740": {
      "model_module": "@jupyter-widgets/controls",
      "model_module_version": "1.5.0",
      "model_name": "DescriptionStyleModel",
      "state": {
       "_model_module": "@jupyter-widgets/controls",
       "_model_module_version": "1.5.0",
       "_model_name": "DescriptionStyleModel",
       "_view_count": null,
       "_view_module": "@jupyter-widgets/base",
       "_view_module_version": "1.2.0",
       "_view_name": "StyleView",
       "description_width": ""
      }
     }
    },
    "version_major": 2,
    "version_minor": 0
   }
  }
 },
 "nbformat": 4,
 "nbformat_minor": 5
}
