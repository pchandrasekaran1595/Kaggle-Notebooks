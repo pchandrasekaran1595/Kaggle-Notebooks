{
 "cells": [
  {
   "cell_type": "code",
   "execution_count": 1,
   "id": "ca1c9f58",
   "metadata": {
    "_cell_guid": "b1076dfc-b9ad-4769-8c92-a6c4dae69d19",
    "_uuid": "8f2839f25d086af736a60e9eeb907d3b93b6e0e5",
    "execution": {
     "iopub.execute_input": "2022-04-25T09:02:13.716931Z",
     "iopub.status.busy": "2022-04-25T09:02:13.716391Z",
     "iopub.status.idle": "2022-04-25T09:02:25.955910Z",
     "shell.execute_reply": "2022-04-25T09:02:25.954746Z"
    },
    "papermill": {
     "duration": 12.251421,
     "end_time": "2022-04-25T09:02:25.958707",
     "exception": false,
     "start_time": "2022-04-25T09:02:13.707286",
     "status": "completed"
    },
    "tags": []
   },
   "outputs": [
    {
     "name": "stdout",
     "output_type": "stream",
     "text": [
      "Collecting openpyxl\n",
      "  Downloading openpyxl-3.0.9-py2.py3-none-any.whl (242 kB)\n",
      "     ━━━━━━━━━━━━━━━━━━━━━━━━━━━━━━━━━━━━━━━ 242.2/242.2 KB 5.7 MB/s eta 0:00:00\n",
      "Collecting et-xmlfile\n",
      "  Downloading et_xmlfile-1.1.0-py3-none-any.whl (4.7 kB)\n",
      "Installing collected packages: et-xmlfile, openpyxl\n",
      "Successfully installed et-xmlfile-1.1.0 openpyxl-3.0.9\n"
     ]
    },
    {
     "name": "stderr",
     "output_type": "stream",
     "text": [
      "WARNING: Running pip as the 'root' user can result in broken permissions and conflicting behaviour with the system package manager. It is recommended to use a virtual environment instead: https://pip.pypa.io/warnings/venv\n"
     ]
    }
   ],
   "source": [
    "%%bash\n",
    "pip install openpyxl"
   ]
  },
  {
   "cell_type": "code",
   "execution_count": 2,
   "id": "d5c36923",
   "metadata": {
    "execution": {
     "iopub.execute_input": "2022-04-25T09:02:25.975870Z",
     "iopub.status.busy": "2022-04-25T09:02:25.975580Z",
     "iopub.status.idle": "2022-04-25T09:02:26.197510Z",
     "shell.execute_reply": "2022-04-25T09:02:26.196277Z"
    },
    "papermill": {
     "duration": 0.233692,
     "end_time": "2022-04-25T09:02:26.200316",
     "exception": false,
     "start_time": "2022-04-25T09:02:25.966624",
     "status": "completed"
    },
    "tags": []
   },
   "outputs": [],
   "source": [
    "import os\n",
    "import cv2\n",
    "import numpy as np\n",
    "import pandas as pd\n",
    "\n",
    "BASE_PATH = \"../input/ocular-disease-recognition-odir5k/ODIR-5K/ODIR-5K\"\n",
    "SIZE = 384"
   ]
  },
  {
   "cell_type": "code",
   "execution_count": 3,
   "id": "605dda52",
   "metadata": {
    "execution": {
     "iopub.execute_input": "2022-04-25T09:02:26.216598Z",
     "iopub.status.busy": "2022-04-25T09:02:26.216309Z",
     "iopub.status.idle": "2022-04-25T09:02:26.229013Z",
     "shell.execute_reply": "2022-04-25T09:02:26.227987Z"
    },
    "papermill": {
     "duration": 0.024052,
     "end_time": "2022-04-25T09:02:26.231819",
     "exception": false,
     "start_time": "2022-04-25T09:02:26.207767",
     "status": "completed"
    },
    "tags": []
   },
   "outputs": [],
   "source": [
    "def breaker(num: int = 50, char: str = \"*\") -> None:\n",
    "    print(\"\\n\" + num*char + \"\\n\")\n",
    "\n",
    "    \n",
    "def preprocess(image: np.ndarray, size: int) -> np.ndarray:\n",
    "    return cv2.resize(src=cv2.cvtColor(src=image, code=cv2.COLOR_BGR2RGB), dsize=(size, size), interpolation=cv2.INTER_AREA)\n",
    "\n",
    "\n",
    "def get_images(path: str, names: np.ndarray, size: int) -> np.ndarray:\n",
    "    images = np.zeros((len(names), size, size, 3), dtype=np.uint8)\n",
    "    \n",
    "    i = 0\n",
    "    for name in names:\n",
    "        images[i] = preprocess(cv2.imread(os.path.join(path, name), cv2.IMREAD_COLOR), size)\n",
    "        i += 1\n",
    "    return images\n",
    "\n",
    "\n",
    "def get_statistics(images: np.ndarray, size: int) -> None:\n",
    "    print(f\"Mean {size}x{size}\\n\")\n",
    "    print(f\"Red Channel Mean   {size} : {images[:, :, :, 0].mean() / 255:.5f}\")\n",
    "    print(f\"Green Channel Mean {size} : {images[:, :, :, 1].mean() / 255:.5f}\")\n",
    "    print(f\"Blue Channel Mean  {size} : {images[:, :, :, 2].mean() / 255:.5f}\")\n",
    "    print(\"\")\n",
    "    print(f\"Standard Deviation {size}x{size}\\n\")\n",
    "    print(f\"Red Channel Std    {size} : {images[:, :, :, 0].std() / 255:.5f}\")\n",
    "    print(f\"Green Channel Std  {size} : {images[:, :, :, 1].std() / 255:.5f}\")\n",
    "    print(f\"Blue Channel Std   {size} : {images[:, :, :, 2].std() / 255:.5f}\")"
   ]
  },
  {
   "cell_type": "code",
   "execution_count": 4,
   "id": "54dea136",
   "metadata": {
    "execution": {
     "iopub.execute_input": "2022-04-25T09:02:26.249169Z",
     "iopub.status.busy": "2022-04-25T09:02:26.248642Z",
     "iopub.status.idle": "2022-04-25T09:10:55.138288Z",
     "shell.execute_reply": "2022-04-25T09:10:55.135340Z"
    },
    "papermill": {
     "duration": 508.90916,
     "end_time": "2022-04-25T09:10:55.148595",
     "exception": false,
     "start_time": "2022-04-25T09:02:26.239435",
     "status": "completed"
    },
    "tags": []
   },
   "outputs": [],
   "source": [
    "df = pd.read_excel(os.path.join(BASE_PATH, \"data.xlsx\"))\n",
    "\n",
    "left_filenames = df[\"Left-Fundus\"].copy().values\n",
    "right_filenames = df[\"Right-Fundus\"].copy().values\n",
    "targets = df.iloc[:, -8:].copy().values\n",
    "\n",
    "left_images  = get_images(os.path.join(BASE_PATH, \"Training Images\"), left_filenames, SIZE)\n",
    "right_images = get_images(os.path.join(BASE_PATH, \"Training Images\"), right_filenames, SIZE)\n",
    "\n",
    "np.save(f\"./left_images_{SIZE}.npy\", left_images)\n",
    "np.save(f\"./right_images_{SIZE}.npy\", right_images)\n",
    "np.save(f\"./targets_{SIZE}.npy\", targets)"
   ]
  },
  {
   "cell_type": "code",
   "execution_count": 5,
   "id": "fa67bd49",
   "metadata": {
    "execution": {
     "iopub.execute_input": "2022-04-25T09:10:55.346812Z",
     "iopub.status.busy": "2022-04-25T09:10:55.345522Z",
     "iopub.status.idle": "2022-04-25T09:11:25.489817Z",
     "shell.execute_reply": "2022-04-25T09:11:25.488484Z"
    },
    "papermill": {
     "duration": 30.172972,
     "end_time": "2022-04-25T09:11:25.503809",
     "exception": false,
     "start_time": "2022-04-25T09:10:55.330837",
     "status": "completed"
    },
    "tags": []
   },
   "outputs": [
    {
     "name": "stdout",
     "output_type": "stream",
     "text": [
      "\n",
      "**************************************************\n",
      "\n",
      "Left-Fundus Images\n",
      "\n",
      "Mean 384x384\n",
      "\n",
      "Red Channel Mean   384 : 0.29863\n",
      "Green Channel Mean 384 : 0.18990\n",
      "Blue Channel Mean  384 : 0.10370\n",
      "\n",
      "Standard Deviation 384x384\n",
      "\n",
      "Red Channel Std    384 : 0.30992\n",
      "Green Channel Std  384 : 0.21233\n",
      "Blue Channel Std   384 : 0.13895\n",
      "\n",
      "**************************************************\n",
      "\n",
      "Right-Fundus Images\n",
      "\n",
      "Mean 384x384\n",
      "\n",
      "Red Channel Mean   384 : 0.30126\n",
      "Green Channel Mean 384 : 0.19034\n",
      "Blue Channel Mean  384 : 0.10203\n",
      "\n",
      "Standard Deviation 384x384\n",
      "\n",
      "Red Channel Std    384 : 0.31185\n",
      "Green Channel Std  384 : 0.21239\n",
      "Blue Channel Std   384 : 0.13708\n",
      "\n",
      "**************************************************\n",
      "\n"
     ]
    }
   ],
   "source": [
    "breaker()\n",
    "print(\"Left-Fundus Images\\n\")\n",
    "get_statistics(left_images, SIZE)\n",
    "breaker()\n",
    "print(\"Right-Fundus Images\\n\")\n",
    "get_statistics(right_images, SIZE)\n",
    "breaker()"
   ]
  }
 ],
 "metadata": {
  "kernelspec": {
   "display_name": "Python 3",
   "language": "python",
   "name": "python3"
  },
  "language_info": {
   "codemirror_mode": {
    "name": "ipython",
    "version": 3
   },
   "file_extension": ".py",
   "mimetype": "text/x-python",
   "name": "python",
   "nbconvert_exporter": "python",
   "pygments_lexer": "ipython3",
   "version": "3.7.12"
  },
  "papermill": {
   "default_parameters": {},
   "duration": 563.407577,
   "end_time": "2022-04-25T09:11:26.540777",
   "environment_variables": {},
   "exception": null,
   "input_path": "__notebook__.ipynb",
   "output_path": "__notebook__.ipynb",
   "parameters": {},
   "start_time": "2022-04-25T09:02:03.133200",
   "version": "2.3.4"
  }
 },
 "nbformat": 4,
 "nbformat_minor": 5
}
