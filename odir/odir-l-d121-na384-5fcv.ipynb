{
 "cells": [
  {
   "cell_type": "code",
   "execution_count": 1,
   "id": "2c9a8c66",
   "metadata": {
    "_cell_guid": "b1076dfc-b9ad-4769-8c92-a6c4dae69d19",
    "_uuid": "8f2839f25d086af736a60e9eeb907d3b93b6e0e5",
    "execution": {
     "iopub.execute_input": "2022-05-08T06:11:12.298684Z",
     "iopub.status.busy": "2022-05-08T06:11:12.297204Z",
     "iopub.status.idle": "2022-05-08T06:11:21.259620Z",
     "shell.execute_reply": "2022-05-08T06:11:21.260045Z",
     "shell.execute_reply.started": "2022-05-08T05:05:43.189145Z"
    },
    "papermill": {
     "duration": 8.980777,
     "end_time": "2022-05-08T06:11:21.260297",
     "exception": false,
     "start_time": "2022-05-08T06:11:12.279520",
     "status": "completed"
    },
    "tags": []
   },
   "outputs": [
    {
     "name": "stdout",
     "output_type": "stream",
     "text": [
      "Collecting openpyxl\n",
      "  Downloading openpyxl-3.0.9-py2.py3-none-any.whl (242 kB)\n",
      "Collecting et-xmlfile\n",
      "  Downloading et_xmlfile-1.1.0-py3-none-any.whl (4.7 kB)\n",
      "Installing collected packages: et-xmlfile, openpyxl\n",
      "Successfully installed et-xmlfile-1.1.0 openpyxl-3.0.9\n"
     ]
    },
    {
     "name": "stderr",
     "output_type": "stream",
     "text": [
      "WARNING: Running pip as the 'root' user can result in broken permissions and conflicting behaviour with the system package manager. It is recommended to use a virtual environment instead: https://pip.pypa.io/warnings/venv\n"
     ]
    }
   ],
   "source": [
    "%%bash\n",
    "pip install openpyxl"
   ]
  },
  {
   "cell_type": "markdown",
   "id": "c919a089",
   "metadata": {
    "papermill": {
     "duration": 0.01325,
     "end_time": "2022-05-08T06:11:21.287382",
     "exception": false,
     "start_time": "2022-05-08T06:11:21.274132",
     "status": "completed"
    },
    "tags": []
   },
   "source": [
    "### **Library Imports**"
   ]
  },
  {
   "cell_type": "code",
   "execution_count": 2,
   "id": "ef51f308",
   "metadata": {
    "execution": {
     "iopub.execute_input": "2022-05-08T06:11:21.320727Z",
     "iopub.status.busy": "2022-05-08T06:11:21.319926Z",
     "iopub.status.idle": "2022-05-08T06:11:23.769908Z",
     "shell.execute_reply": "2022-05-08T06:11:23.769354Z",
     "shell.execute_reply.started": "2022-05-08T05:05:52.441602Z"
    },
    "papermill": {
     "duration": 2.469142,
     "end_time": "2022-05-08T06:11:23.770035",
     "exception": false,
     "start_time": "2022-05-08T06:11:21.300893",
     "status": "completed"
    },
    "tags": []
   },
   "outputs": [],
   "source": [
    "import os\n",
    "import re\n",
    "import torch\n",
    "import numpy as np\n",
    "import pandas as pd\n",
    "import matplotlib.pyplot as plt\n",
    "\n",
    "from time import time\n",
    "from torch import nn, optim\n",
    "from torch.utils.data import Dataset\n",
    "from torch.utils.data import DataLoader as DL\n",
    "from torchvision import models, transforms\n",
    "\n",
    "from sklearn.model_selection import KFold"
   ]
  },
  {
   "cell_type": "markdown",
   "id": "5a314d30",
   "metadata": {
    "papermill": {
     "duration": 0.013078,
     "end_time": "2022-05-08T06:11:23.796746",
     "exception": false,
     "start_time": "2022-05-08T06:11:23.783668",
     "status": "completed"
    },
    "tags": []
   },
   "source": [
    "### **Utilities and Constants**"
   ]
  },
  {
   "cell_type": "code",
   "execution_count": 3,
   "id": "863618db",
   "metadata": {
    "execution": {
     "iopub.execute_input": "2022-05-08T06:11:23.831829Z",
     "iopub.status.busy": "2022-05-08T06:11:23.830980Z",
     "iopub.status.idle": "2022-05-08T06:11:23.834264Z",
     "shell.execute_reply": "2022-05-08T06:11:23.833870Z",
     "shell.execute_reply.started": "2022-05-08T05:21:09.309486Z"
    },
    "papermill": {
     "duration": 0.024416,
     "end_time": "2022-05-08T06:11:23.834368",
     "exception": false,
     "start_time": "2022-05-08T06:11:23.809952",
     "status": "completed"
    },
    "tags": []
   },
   "outputs": [],
   "source": [
    "SEED = 42\n",
    "SIZE = 384\n",
    "\n",
    "def breaker(num: int=50, char: str=\"*\") -> None:\n",
    "    print(\"\\n\" + num*char + \"\\n\")\n",
    "\n",
    "    \n",
    "def show_loss_graph(L: list) -> None:\n",
    "    TL, VL = [], []\n",
    "    for i in range(len(L)):\n",
    "        TL.append(L[i][\"train\"])\n",
    "        VL.append(L[i][\"valid\"])\n",
    "    \n",
    "    x_Axis = np.arange(1, len(TL) + 1)\n",
    "    \n",
    "    plt.figure(figsize=(8, 6))\n",
    "    plt.plot(x_Axis, TL, \"r\", label=\"Train\")\n",
    "    plt.plot(x_Axis, VL, \"b\", label=\"Valid\")\n",
    "    plt.legend()\n",
    "    plt.grid()\n",
    "    plt.title(\"Loss Graph\")\n",
    "    plt.show()\n",
    "\n",
    "    \n",
    "def show_lr_graph(LR: list) -> None:\n",
    "    x_Axis = [i+1 for i in range(len(LR))]\n",
    "    plt.figure(figsize=(8, 6))\n",
    "    plt.plot(x_Axis, LR, \"rx\")\n",
    "    plt.grid()\n",
    "    plt.show()"
   ]
  },
  {
   "cell_type": "markdown",
   "id": "fb72be50",
   "metadata": {
    "papermill": {
     "duration": 0.013374,
     "end_time": "2022-05-08T06:11:23.860805",
     "exception": false,
     "start_time": "2022-05-08T06:11:23.847431",
     "status": "completed"
    },
    "tags": []
   },
   "source": [
    "### **Configuration**"
   ]
  },
  {
   "cell_type": "code",
   "execution_count": 4,
   "id": "51d36943",
   "metadata": {
    "execution": {
     "iopub.execute_input": "2022-05-08T06:11:23.974884Z",
     "iopub.status.busy": "2022-05-08T06:11:23.974103Z",
     "iopub.status.idle": "2022-05-08T06:11:23.976379Z",
     "shell.execute_reply": "2022-05-08T06:11:23.976841Z",
     "shell.execute_reply.started": "2022-05-08T05:05:54.729322Z"
    },
    "papermill": {
     "duration": 0.102917,
     "end_time": "2022-05-08T06:11:23.976998",
     "exception": false,
     "start_time": "2022-05-08T06:11:23.874081",
     "status": "completed"
    },
    "tags": []
   },
   "outputs": [],
   "source": [
    "class CFG(object):\n",
    "    def __init__(self, \n",
    "                 seed: int = 42,\n",
    "                 n_splits: int = 5,\n",
    "                 batch_size: int = 16,\n",
    "                 epochs: int = 25,\n",
    "                 early_stopping: int = 5,\n",
    "                 lr: float = 1e-4,\n",
    "                 wd: float = 0.0,\n",
    "                 max_lr: float = 1e-3,\n",
    "                 pct_start: float = 0.2,\n",
    "                 steps_per_epoch: int = 100,\n",
    "                 div_factor: int = 1e3, \n",
    "                 final_div_factor: float = 1e3,\n",
    "                 patience: int = 5,\n",
    "                 eps: float = 1e-8\n",
    "                 ):\n",
    "        self.seed = seed\n",
    "        self.n_splits = n_splits\n",
    "        self.batch_size = batch_size\n",
    "        self.epochs = epochs\n",
    "        self.early_stopping = early_stopping\n",
    "        self.lr = lr\n",
    "        self.wd = wd\n",
    "        self.max_lr = max_lr\n",
    "        self.pct_start = pct_start\n",
    "        self.steps_per_epoch = steps_per_epoch\n",
    "        self.div_factor = div_factor\n",
    "        self.final_div_factor = final_div_factor\n",
    "        self.patience = patience\n",
    "        self.eps = eps\n",
    "        self.device = torch.device(\"cuda\" if torch.cuda.is_available() else \"cpu\")\n",
    "        self.transform = transforms.Compose([transforms.ToTensor(),\n",
    "                                transforms.Normalize([0.29863, 0.18990, 0.10370],\n",
    "                                                     [0.30992, 0.21233, 0.13985]),\n",
    "                                ])\n",
    "        self.data_path = \"../input/odir-images-384\"\n",
    "        self.save_path = \"saves\"\n",
    "        if not os.path.exists(self.save_path): os.makedirs(self.save_path)\n",
    "\n",
    "cfg = CFG(seed=SEED)"
   ]
  },
  {
   "cell_type": "markdown",
   "id": "d3783c99",
   "metadata": {
    "papermill": {
     "duration": 0.013206,
     "end_time": "2022-05-08T06:11:24.003860",
     "exception": false,
     "start_time": "2022-05-08T06:11:23.990654",
     "status": "completed"
    },
    "tags": []
   },
   "source": [
    "### **Dataset Template**"
   ]
  },
  {
   "cell_type": "code",
   "execution_count": 5,
   "id": "9781ca65",
   "metadata": {
    "execution": {
     "iopub.execute_input": "2022-05-08T06:11:24.037796Z",
     "iopub.status.busy": "2022-05-08T06:11:24.036228Z",
     "iopub.status.idle": "2022-05-08T06:11:24.038401Z",
     "shell.execute_reply": "2022-05-08T06:11:24.038837Z",
     "shell.execute_reply.started": "2022-05-08T05:05:54.793481Z"
    },
    "papermill": {
     "duration": 0.021866,
     "end_time": "2022-05-08T06:11:24.038963",
     "exception": false,
     "start_time": "2022-05-08T06:11:24.017097",
     "status": "completed"
    },
    "tags": []
   },
   "outputs": [],
   "source": [
    "class DS(Dataset):\n",
    "    def __init__(self, images: np.ndarray, labels: np.ndarray = None, transform=None):\n",
    "        self.images = images\n",
    "        self.labels = labels\n",
    "        self.transform = transform\n",
    "    \n",
    "    def __len__(self):\n",
    "        return self.images.shape[0]\n",
    "    \n",
    "    def __getitem__(self, idx):\n",
    "        if self.labels is not None:\n",
    "            return self.transform(self.images[idx]), torch.FloatTensor(self.labels[idx])\n",
    "        else:\n",
    "            return self.transform(self.images[idx])"
   ]
  },
  {
   "cell_type": "markdown",
   "id": "2367512c",
   "metadata": {
    "papermill": {
     "duration": 0.013026,
     "end_time": "2022-05-08T06:11:24.065109",
     "exception": false,
     "start_time": "2022-05-08T06:11:24.052083",
     "status": "completed"
    },
    "tags": []
   },
   "source": [
    "### **Model**"
   ]
  },
  {
   "cell_type": "code",
   "execution_count": 6,
   "id": "61374abc",
   "metadata": {
    "execution": {
     "iopub.execute_input": "2022-05-08T06:11:24.096651Z",
     "iopub.status.busy": "2022-05-08T06:11:24.096101Z",
     "iopub.status.idle": "2022-05-08T06:11:24.099928Z",
     "shell.execute_reply": "2022-05-08T06:11:24.099527Z",
     "shell.execute_reply.started": "2022-05-08T05:05:54.804557Z"
    },
    "papermill": {
     "duration": 0.021672,
     "end_time": "2022-05-08T06:11:24.100033",
     "exception": false,
     "start_time": "2022-05-08T06:11:24.078361",
     "status": "completed"
    },
    "tags": []
   },
   "outputs": [],
   "source": [
    "class Model(nn.Module):\n",
    "    def __init__(self):\n",
    "        super(Model, self).__init__()\n",
    "\n",
    "        self.model = models.densenet121(pretrained=True, progress=True)\n",
    "        self.model.classifier = nn.Linear(in_features=self.model.classifier.in_features, out_features=8)\n",
    "\n",
    "    def forward(self, x):\n",
    "        return self.model(x)"
   ]
  },
  {
   "cell_type": "markdown",
   "id": "11bd41ff",
   "metadata": {
    "papermill": {
     "duration": 0.013046,
     "end_time": "2022-05-08T06:11:24.126208",
     "exception": false,
     "start_time": "2022-05-08T06:11:24.113162",
     "status": "completed"
    },
    "tags": []
   },
   "source": [
    "### **Fit and Predict Helper**"
   ]
  },
  {
   "cell_type": "code",
   "execution_count": 7,
   "id": "605ab50a",
   "metadata": {
    "execution": {
     "iopub.execute_input": "2022-05-08T06:11:24.176559Z",
     "iopub.status.busy": "2022-05-08T06:11:24.174952Z",
     "iopub.status.idle": "2022-05-08T06:11:24.177167Z",
     "shell.execute_reply": "2022-05-08T06:11:24.177590Z",
     "shell.execute_reply.started": "2022-05-08T05:09:11.733475Z"
    },
    "papermill": {
     "duration": 0.038371,
     "end_time": "2022-05-08T06:11:24.177711",
     "exception": false,
     "start_time": "2022-05-08T06:11:24.139340",
     "status": "completed"
    },
    "tags": []
   },
   "outputs": [],
   "source": [
    "def fit(model=None, \n",
    "        optimizer=None, \n",
    "        scheduler_oclr=None,\n",
    "        scheduler_rlrop=None, \n",
    "        epochs=None, \n",
    "        early_stopping_patience=None, \n",
    "        dataloaders=None, \n",
    "        fold=None, \n",
    "        save_path=None, \n",
    "        device=None,\n",
    "        verbose=False) -> tuple:\n",
    "    \n",
    "    def get_accuracy(y_pred, y_true):\n",
    "        y_pred = torch.argmax(y_pred, dim=1)\n",
    "        return torch.count_nonzero(y_pred == y_true).item() / len(y_pred)\n",
    "    \n",
    "    if verbose:\n",
    "        breaker()\n",
    "        if fold: print(f\"Training Fold {fold}...\")\n",
    "        else: print(\"Training ...\")\n",
    "        breaker()\n",
    "        \n",
    "    bestLoss = {\"train\" : np.inf, \"valid\" : np.inf}\n",
    "    Losses, LRs = [], []\n",
    "    \n",
    "    if fold: name = f\"state_fold_{fold}.pt\"\n",
    "    else: name = \"state.pt\"\n",
    "        \n",
    "    start_time = time()\n",
    "    for e in range(epochs):\n",
    "        e_st = time()\n",
    "        epochLoss = {\"train\" : 0.0, \"valid\" : 0.0}\n",
    "\n",
    "        for phase in [\"train\", \"valid\"]:\n",
    "            if phase == \"train\":\n",
    "                model.train()\n",
    "            else:\n",
    "                model.eval()\n",
    "            \n",
    "            lossPerPass = []\n",
    "            \n",
    "            for X, y in dataloaders[phase]:\n",
    "                X, y = X.to(device), y.to(device)\n",
    "\n",
    "                optimizer.zero_grad()\n",
    "                with torch.set_grad_enabled(phase == \"train\"):\n",
    "                    output = model(X)\n",
    "                    loss = torch.nn.BCEWithLogitsLoss()(output, y)\n",
    "                    if phase == \"train\":\n",
    "                        loss.backward()\n",
    "                        optimizer.step()\n",
    "                        if scheduler_oclr: scheduler_oclr.step()\n",
    "                lossPerPass.append(loss.item())\n",
    "            epochLoss[phase] = np.mean(np.array(lossPerPass))\n",
    "        if scheduler_oclr: LRs.append(scheduler_oclr.get_last_lr())\n",
    "        Losses.append(epochLoss)\n",
    "        \n",
    "        if scheduler_oclr:\n",
    "            save_dict = {\n",
    "                \"model_state_dict\"     : model.state_dict(),\n",
    "                \"optim_state_dict\"     : optimizer.state_dict(),\n",
    "                \"scheduler_state_dict\" : scheduler_oclr.state_dict(),\n",
    "            }\n",
    "        \n",
    "        elif scheduler_rlrop:\n",
    "            save_dict = {\n",
    "                \"model_state_dict\"     : model.state_dict(),\n",
    "                \"optim_state_dict\"     : optimizer.state_dict(),\n",
    "                \"scheduler_state_dict\" : scheduler_rlrop.state_dict(),\n",
    "            }\n",
    "        \n",
    "        else:\n",
    "            save_dict = {\n",
    "                \"model_state_dict\"     : model.state_dict(),\n",
    "                \"optim_state_dict\"     : optimizer.state_dict(),\n",
    "            }\n",
    "            \n",
    "        \n",
    "        if early_stopping_patience:\n",
    "            if epochLoss[\"valid\"] < bestLoss[\"valid\"]:\n",
    "                bestLoss = epochLoss\n",
    "                BLE = e + 1\n",
    "                torch.save(save_dict, os.path.join(save_path, name))\n",
    "                early_stopping_step = 0\n",
    "            else:\n",
    "                early_stopping_step += 1\n",
    "                if early_stopping_step > early_stopping_patience:\n",
    "                    print(\"\\nEarly Stopping at Epoch {}\".format(e + 1))\n",
    "                    break\n",
    "            \n",
    "        if epochLoss[\"valid\"] < bestLoss[\"valid\"]:\n",
    "            bestLoss = epochLoss\n",
    "            BLE = e + 1\n",
    "            torch.save(save_dict, os.path.join(save_path, name))\n",
    "    \n",
    "        if scheduler_rlrop: scheduler_rlrop.step(epochLoss[\"valid\"])\n",
    "        \n",
    "        if verbose:\n",
    "            print(\"Epoch: {} | Train Loss: {:.5f} | Valid Loss: {:.5f} | Time: {:.2f} seconds\".format(e+1, epochLoss[\"train\"], epochLoss[\"valid\"], time()-e_st))\n",
    "        \n",
    "    \n",
    "    if verbose:                                           \n",
    "        breaker()\n",
    "        print(f\"Best Validation Loss at Epoch {BLE}\")\n",
    "        breaker()\n",
    "        print(\"Time Taken [{} Epochs] : {:.2f} minutes\".format(len(Losses), (time()-start_time)/60))\n",
    "    \n",
    "    return Losses, LRs, BLE, name\n",
    "\n",
    "\n",
    "def predict(model=None, dataloader=None, path=None, device=None) -> np.ndarray:\n",
    "    model.load_state_dict(torch.load(path, map_location=device)[\"model_state_dict\"])\n",
    "    model.to(device)    \n",
    "    model.eval()\n",
    "    \n",
    "    y_pred = torch.zeros(1, 8).to(device)\n",
    "    \n",
    "    for X in dataloader:\n",
    "        X = X.to(device)\n",
    "        with torch.no_grad():\n",
    "            output = torch.sigmoid(model(X))\n",
    "        y_pred = torch.cat((y_pred, output), dim=0)\n",
    "    \n",
    "    return y_pred[1:].detach().cpu().numpy()"
   ]
  },
  {
   "cell_type": "markdown",
   "id": "7cba8983",
   "metadata": {
    "papermill": {
     "duration": 0.012932,
     "end_time": "2022-05-08T06:11:24.204616",
     "exception": false,
     "start_time": "2022-05-08T06:11:24.191684",
     "status": "completed"
    },
    "tags": []
   },
   "source": [
    "### **Train**"
   ]
  },
  {
   "cell_type": "code",
   "execution_count": 8,
   "id": "d4329803",
   "metadata": {
    "execution": {
     "iopub.execute_input": "2022-05-08T06:11:24.236406Z",
     "iopub.status.busy": "2022-05-08T06:11:24.235896Z",
     "iopub.status.idle": "2022-05-08T06:11:33.699431Z",
     "shell.execute_reply": "2022-05-08T06:11:33.698914Z",
     "shell.execute_reply.started": "2022-05-08T05:05:54.847517Z"
    },
    "papermill": {
     "duration": 9.481882,
     "end_time": "2022-05-08T06:11:33.699592",
     "exception": false,
     "start_time": "2022-05-08T06:11:24.217710",
     "status": "completed"
    },
    "tags": []
   },
   "outputs": [],
   "source": [
    "images  = np.load(os.path.join(cfg.data_path, f\"left_images_{SIZE}.npy\"))\n",
    "targets = np.load(os.path.join(cfg.data_path, f\"targets_{SIZE}.npy\"))"
   ]
  },
  {
   "cell_type": "code",
   "execution_count": 9,
   "id": "2226d032",
   "metadata": {
    "execution": {
     "iopub.execute_input": "2022-05-08T06:11:33.741125Z",
     "iopub.status.busy": "2022-05-08T06:11:33.740147Z",
     "iopub.status.idle": "2022-05-08T07:24:07.452745Z",
     "shell.execute_reply": "2022-05-08T07:24:07.453165Z"
    },
    "papermill": {
     "duration": 4353.739752,
     "end_time": "2022-05-08T07:24:07.453343",
     "exception": false,
     "start_time": "2022-05-08T06:11:33.713591",
     "status": "completed"
    },
    "tags": []
   },
   "outputs": [
    {
     "name": "stderr",
     "output_type": "stream",
     "text": [
      "Downloading: \"https://download.pytorch.org/models/densenet121-a639ec97.pth\" to /root/.cache/torch/hub/checkpoints/densenet121-a639ec97.pth\n"
     ]
    },
    {
     "data": {
      "application/vnd.jupyter.widget-view+json": {
       "model_id": "2a2bf4def68043eab6afdbbc247c6dc0",
       "version_major": 2,
       "version_minor": 0
      },
      "text/plain": [
       "  0%|          | 0.00/30.8M [00:00<?, ?B/s]"
      ]
     },
     "metadata": {},
     "output_type": "display_data"
    },
    {
     "name": "stdout",
     "output_type": "stream",
     "text": [
      "\n",
      "**************************************************\n",
      "\n",
      "Training Fold 1...\n",
      "\n",
      "**************************************************\n",
      "\n",
      "Epoch: 1 | Train Loss: 0.52589 | Valid Loss: 0.34832 | Time: 63.98 seconds\n",
      "Epoch: 2 | Train Loss: 0.30448 | Valid Loss: 0.31966 | Time: 57.43 seconds\n",
      "Epoch: 3 | Train Loss: 0.29493 | Valid Loss: 0.34540 | Time: 57.04 seconds\n",
      "Epoch: 4 | Train Loss: 0.29923 | Valid Loss: 0.35161 | Time: 56.83 seconds\n",
      "Epoch: 5 | Train Loss: 0.29449 | Valid Loss: 0.31598 | Time: 57.29 seconds\n",
      "Epoch: 6 | Train Loss: 0.28459 | Valid Loss: 0.30382 | Time: 57.41 seconds\n",
      "Epoch: 7 | Train Loss: 0.28152 | Valid Loss: 0.29624 | Time: 57.36 seconds\n",
      "Epoch: 8 | Train Loss: 0.27570 | Valid Loss: 0.29103 | Time: 57.23 seconds\n",
      "Epoch: 9 | Train Loss: 0.26333 | Valid Loss: 0.29938 | Time: 56.97 seconds\n",
      "Epoch: 10 | Train Loss: 0.26091 | Valid Loss: 0.29952 | Time: 57.00 seconds\n",
      "Epoch: 11 | Train Loss: 0.25021 | Valid Loss: 0.35065 | Time: 57.15 seconds\n",
      "Epoch: 12 | Train Loss: 0.23610 | Valid Loss: 0.31129 | Time: 56.83 seconds\n",
      "Epoch: 13 | Train Loss: 0.22611 | Valid Loss: 0.30886 | Time: 56.98 seconds\n",
      "\n",
      "Early Stopping at Epoch 14\n",
      "\n",
      "**************************************************\n",
      "\n",
      "Best Validation Loss at Epoch 8\n",
      "\n",
      "**************************************************\n",
      "\n",
      "Time Taken [14 Epochs] : 13.44 minutes\n",
      "\n",
      "**************************************************\n",
      "\n"
     ]
    },
    {
     "data": {
      "image/png": "[encoded data removed]",
      "text/plain": [
       "<Figure size 576x432 with 1 Axes>"
      ]
     },
     "metadata": {
      "needs_background": "light"
     },
     "output_type": "display_data"
    },
    {
     "name": "stdout",
     "output_type": "stream",
     "text": [
      "\n",
      "**************************************************\n",
      "\n"
     ]
    },
    {
     "data": {
      "image/png": "[encoded data removed]",
      "text/plain": [
       "<Figure size 576x432 with 1 Axes>"
      ]
     },
     "metadata": {
      "needs_background": "light"
     },
     "output_type": "display_data"
    },
    {
     "name": "stdout",
     "output_type": "stream",
     "text": [
      "\n",
      "**************************************************\n",
      "\n",
      "\n",
      "**************************************************\n",
      "\n",
      "Training Fold 2...\n",
      "\n",
      "**************************************************\n",
      "\n",
      "Epoch: 1 | Train Loss: 0.53997 | Valid Loss: 0.35062 | Time: 59.05 seconds\n",
      "Epoch: 2 | Train Loss: 0.30903 | Valid Loss: 0.29826 | Time: 58.95 seconds\n",
      "Epoch: 3 | Train Loss: 0.29448 | Valid Loss: 0.31357 | Time: 58.64 seconds\n",
      "Epoch: 4 | Train Loss: 0.29476 | Valid Loss: 0.32788 | Time: 58.65 seconds\n",
      "Epoch: 5 | Train Loss: 0.29135 | Valid Loss: 0.32163 | Time: 58.60 seconds\n",
      "Epoch: 6 | Train Loss: 0.28455 | Valid Loss: 0.29469 | Time: 58.91 seconds\n",
      "Epoch: 7 | Train Loss: 0.27844 | Valid Loss: 0.30553 | Time: 58.66 seconds\n",
      "Epoch: 8 | Train Loss: 0.27590 | Valid Loss: 0.30224 | Time: 58.70 seconds\n",
      "Epoch: 9 | Train Loss: 0.26210 | Valid Loss: 0.29837 | Time: 58.84 seconds\n",
      "Epoch: 10 | Train Loss: 0.25273 | Valid Loss: 0.31116 | Time: 58.65 seconds\n",
      "Epoch: 11 | Train Loss: 0.24221 | Valid Loss: 0.29372 | Time: 58.94 seconds\n",
      "Epoch: 12 | Train Loss: 0.22470 | Valid Loss: 0.31784 | Time: 58.70 seconds\n",
      "Epoch: 13 | Train Loss: 0.20987 | Valid Loss: 0.34377 | Time: 58.73 seconds\n",
      "Epoch: 14 | Train Loss: 0.18388 | Valid Loss: 0.32866 | Time: 58.55 seconds\n",
      "Epoch: 15 | Train Loss: 0.14643 | Valid Loss: 0.33259 | Time: 58.69 seconds\n",
      "Epoch: 16 | Train Loss: 0.11386 | Valid Loss: 0.35306 | Time: 58.82 seconds\n",
      "\n",
      "Early Stopping at Epoch 17\n",
      "\n",
      "**************************************************\n",
      "\n",
      "Best Validation Loss at Epoch 11\n",
      "\n",
      "**************************************************\n",
      "\n",
      "Time Taken [17 Epochs] : 16.64 minutes\n",
      "\n",
      "**************************************************\n",
      "\n"
     ]
    },
    {
     "data": {
      "image/png": "[encoded data removed]",
      "text/plain": [
       "<Figure size 576x432 with 1 Axes>"
      ]
     },
     "metadata": {
      "needs_background": "light"
     },
     "output_type": "display_data"
    },
    {
     "name": "stdout",
     "output_type": "stream",
     "text": [
      "\n",
      "**************************************************\n",
      "\n"
     ]
    },
    {
     "data": {
      "image/png": "[encoded data removed]",
      "text/plain": [
       "<Figure size 576x432 with 1 Axes>"
      ]
     },
     "metadata": {
      "needs_background": "light"
     },
     "output_type": "display_data"
    },
    {
     "name": "stdout",
     "output_type": "stream",
     "text": [
      "\n",
      "**************************************************\n",
      "\n",
      "\n",
      "**************************************************\n",
      "\n",
      "Training Fold 3...\n",
      "\n",
      "**************************************************\n",
      "\n",
      "Epoch: 1 | Train Loss: 0.54065 | Valid Loss: 0.35434 | Time: 59.16 seconds\n",
      "Epoch: 2 | Train Loss: 0.30867 | Valid Loss: 0.29166 | Time: 59.03 seconds\n",
      "Epoch: 3 | Train Loss: 0.29911 | Valid Loss: 0.29053 | Time: 59.07 seconds\n",
      "Epoch: 4 | Train Loss: 0.29695 | Valid Loss: 0.34060 | Time: 58.87 seconds\n",
      "Epoch: 5 | Train Loss: 0.29390 | Valid Loss: 0.30329 | Time: 58.83 seconds\n",
      "Epoch: 6 | Train Loss: 0.28661 | Valid Loss: 0.29149 | Time: 58.81 seconds\n",
      "Epoch: 7 | Train Loss: 0.27863 | Valid Loss: 0.32237 | Time: 58.86 seconds\n",
      "Epoch: 8 | Train Loss: 0.27346 | Valid Loss: 0.28325 | Time: 59.16 seconds\n",
      "Epoch: 9 | Train Loss: 0.26125 | Valid Loss: 0.30837 | Time: 58.85 seconds\n",
      "Epoch: 10 | Train Loss: 0.25775 | Valid Loss: 0.27775 | Time: 59.25 seconds\n",
      "Epoch: 11 | Train Loss: 0.24049 | Valid Loss: 0.27908 | Time: 58.81 seconds\n",
      "Epoch: 12 | Train Loss: 0.23073 | Valid Loss: 0.28490 | Time: 58.75 seconds\n",
      "Epoch: 13 | Train Loss: 0.21041 | Valid Loss: 0.30596 | Time: 58.72 seconds\n",
      "Epoch: 14 | Train Loss: 0.18581 | Valid Loss: 0.32263 | Time: 58.77 seconds\n",
      "Epoch: 15 | Train Loss: 0.15505 | Valid Loss: 0.34634 | Time: 58.87 seconds\n",
      "\n",
      "Early Stopping at Epoch 16\n",
      "\n",
      "**************************************************\n",
      "\n",
      "Best Validation Loss at Epoch 10\n",
      "\n",
      "**************************************************\n",
      "\n",
      "Time Taken [16 Epochs] : 15.71 minutes\n",
      "\n",
      "**************************************************\n",
      "\n"
     ]
    },
    {
     "data": {
      "image/png": "[encoded data removed]",
      "text/plain": [
       "<Figure size 576x432 with 1 Axes>"
      ]
     },
     "metadata": {
      "needs_background": "light"
     },
     "output_type": "display_data"
    },
    {
     "name": "stdout",
     "output_type": "stream",
     "text": [
      "\n",
      "**************************************************\n",
      "\n"
     ]
    },
    {
     "data": {
      "image/png": "[encoded data removed]",
      "text/plain": [
       "<Figure size 576x432 with 1 Axes>"
      ]
     },
     "metadata": {
      "needs_background": "light"
     },
     "output_type": "display_data"
    },
    {
     "name": "stdout",
     "output_type": "stream",
     "text": [
      "\n",
      "**************************************************\n",
      "\n",
      "\n",
      "**************************************************\n",
      "\n",
      "Training Fold 4...\n",
      "\n",
      "**************************************************\n",
      "\n",
      "Epoch: 1 | Train Loss: 0.53876 | Valid Loss: 0.35525 | Time: 59.20 seconds\n",
      "Epoch: 2 | Train Loss: 0.30465 | Valid Loss: 0.34951 | Time: 59.28 seconds\n",
      "Epoch: 3 | Train Loss: 0.29209 | Valid Loss: 0.33003 | Time: 59.03 seconds\n",
      "Epoch: 4 | Train Loss: 0.28901 | Valid Loss: 0.34965 | Time: 58.75 seconds\n",
      "Epoch: 5 | Train Loss: 0.28769 | Valid Loss: 0.31239 | Time: 59.23 seconds\n",
      "Epoch: 6 | Train Loss: 0.28068 | Valid Loss: 0.33769 | Time: 58.61 seconds\n",
      "Epoch: 7 | Train Loss: 0.27499 | Valid Loss: 0.30262 | Time: 59.29 seconds\n",
      "Epoch: 8 | Train Loss: 0.26712 | Valid Loss: 0.30177 | Time: 59.26 seconds\n",
      "Epoch: 9 | Train Loss: 0.25529 | Valid Loss: 0.31132 | Time: 58.94 seconds\n",
      "Epoch: 10 | Train Loss: 0.25138 | Valid Loss: 0.31207 | Time: 59.02 seconds\n",
      "Epoch: 11 | Train Loss: 0.24204 | Valid Loss: 0.32781 | Time: 58.96 seconds\n",
      "Epoch: 12 | Train Loss: 0.22216 | Valid Loss: 0.31650 | Time: 59.06 seconds\n",
      "Epoch: 13 | Train Loss: 0.20965 | Valid Loss: 0.32550 | Time: 58.88 seconds\n",
      "\n",
      "Early Stopping at Epoch 14\n",
      "\n",
      "**************************************************\n",
      "\n",
      "Best Validation Loss at Epoch 8\n",
      "\n",
      "**************************************************\n",
      "\n",
      "Time Taken [14 Epochs] : 13.78 minutes\n",
      "\n",
      "**************************************************\n",
      "\n"
     ]
    },
    {
     "data": {
      "image/png": "[encoded data removed]",
      "text/plain": [
       "<Figure size 576x432 with 1 Axes>"
      ]
     },
     "metadata": {
      "needs_background": "light"
     },
     "output_type": "display_data"
    },
    {
     "name": "stdout",
     "output_type": "stream",
     "text": [
      "\n",
      "**************************************************\n",
      "\n"
     ]
    },
    {
     "data": {
      "image/png": "[encoded data removed]",
      "text/plain": [
       "<Figure size 576x432 with 1 Axes>"
      ]
     },
     "metadata": {
      "needs_background": "light"
     },
     "output_type": "display_data"
    },
    {
     "name": "stdout",
     "output_type": "stream",
     "text": [
      "\n",
      "**************************************************\n",
      "\n",
      "\n",
      "**************************************************\n",
      "\n",
      "Training Fold 5...\n",
      "\n",
      "**************************************************\n",
      "\n",
      "Epoch: 1 | Train Loss: 0.54119 | Valid Loss: 0.35652 | Time: 59.52 seconds\n",
      "Epoch: 2 | Train Loss: 0.30714 | Valid Loss: 0.29098 | Time: 59.16 seconds\n",
      "Epoch: 3 | Train Loss: 0.29654 | Valid Loss: 0.30053 | Time: 58.74 seconds\n",
      "Epoch: 4 | Train Loss: 0.29703 | Valid Loss: 0.29173 | Time: 58.96 seconds\n",
      "Epoch: 5 | Train Loss: 0.29151 | Valid Loss: 0.29516 | Time: 58.75 seconds\n",
      "Epoch: 6 | Train Loss: 0.28350 | Valid Loss: 0.30556 | Time: 59.11 seconds\n",
      "Epoch: 7 | Train Loss: 0.27839 | Valid Loss: 0.28550 | Time: 59.56 seconds\n",
      "Epoch: 8 | Train Loss: 0.26834 | Valid Loss: 0.31533 | Time: 58.99 seconds\n",
      "Epoch: 9 | Train Loss: 0.26430 | Valid Loss: 0.31984 | Time: 58.94 seconds\n",
      "Epoch: 10 | Train Loss: 0.25642 | Valid Loss: 0.29070 | Time: 58.76 seconds\n",
      "Epoch: 11 | Train Loss: 0.24423 | Valid Loss: 0.30220 | Time: 58.94 seconds\n",
      "Epoch: 12 | Train Loss: 0.22669 | Valid Loss: 0.30985 | Time: 58.90 seconds\n",
      "\n",
      "Early Stopping at Epoch 13\n",
      "\n",
      "**************************************************\n",
      "\n",
      "Best Validation Loss at Epoch 7\n",
      "\n",
      "**************************************************\n",
      "\n",
      "Time Taken [13 Epochs] : 12.79 minutes\n",
      "\n",
      "**************************************************\n",
      "\n"
     ]
    },
    {
     "data": {
      "image/png": "[encoded data removed]",
      "text/plain": [
       "<Figure size 576x432 with 1 Axes>"
      ]
     },
     "metadata": {
      "needs_background": "light"
     },
     "output_type": "display_data"
    },
    {
     "name": "stdout",
     "output_type": "stream",
     "text": [
      "\n",
      "**************************************************\n",
      "\n"
     ]
    },
    {
     "data": {
      "image/png": "[encoded data removed]",
      "text/plain": [
       "<Figure size 576x432 with 1 Axes>"
      ]
     },
     "metadata": {
      "needs_background": "light"
     },
     "output_type": "display_data"
    },
    {
     "name": "stdout",
     "output_type": "stream",
     "text": [
      "\n",
      "**************************************************\n",
      "\n"
     ]
    }
   ],
   "source": [
    "fold = 1\n",
    "BLEs = []\n",
    "\n",
    "if images.shape[0] != 3500:\n",
    "    raise ValueError(\"Error in loading Images\")\n",
    "\n",
    "else:\n",
    "    for tr_idx, va_idx in KFold(n_splits=cfg.n_splits, random_state=cfg.seed, shuffle=True).split(images):\n",
    "        tr_images, va_images, tr_targets, va_targets = images[tr_idx], images[va_idx], targets[tr_idx], targets[va_idx]\n",
    "\n",
    "        tr_data_setup = DS(tr_images, tr_targets, cfg.transform)\n",
    "        va_data_setup = DS(va_images, va_targets, cfg.transform)\n",
    "\n",
    "        dataloaders = {\n",
    "            \"train\" : DL(tr_data_setup, batch_size=cfg.batch_size, shuffle=True, generator=torch.manual_seed(cfg.seed)),\n",
    "            \"valid\" : DL(va_data_setup, batch_size=cfg.batch_size, shuffle=False),\n",
    "        }\n",
    "\n",
    "        cfg = CFG(epochs=25, lr=1e-3, wd=0.0, batch_size=20, steps_per_epoch=len(dataloaders[\"train\"]))\n",
    "\n",
    "        torch.manual_seed(cfg.seed)\n",
    "        model = Model().to(cfg.device)\n",
    "        optimizer = optim.Adam([p for p in model.parameters() if p.requires_grad], lr=cfg.lr, weight_decay=cfg.wd)\n",
    "        scheduler_oclr = optim.lr_scheduler.OneCycleLR(optimizer=optimizer, \n",
    "                                                       max_lr=cfg.max_lr, \n",
    "                                                       epochs=cfg.epochs, \n",
    "                                                       steps_per_epoch=cfg.steps_per_epoch,\n",
    "                                                       pct_start=cfg.pct_start, \n",
    "                                                       div_factor=cfg.div_factor, \n",
    "                                                       final_div_factor=cfg.final_div_factor)\n",
    "        # scheduler_rlrop = optim.lr_scheduler.ReduceLROnPlateau(optimizer=optimizer,\n",
    "        #                                                       patience=cfg.patience,\n",
    "        #                                                       eps=cfg.eps,\n",
    "        #                                                       verbose=True)\n",
    "\n",
    "        # scheduler_oclr = None\n",
    "        scheduler_rlrop = None\n",
    "\n",
    "        L, LR, BLE, name = fit(model=model, \n",
    "                               optimizer=optimizer, \n",
    "                               scheduler_oclr=scheduler_oclr,\n",
    "                               scheduler_rlrop=scheduler_rlrop,\n",
    "                               epochs=cfg.epochs, \n",
    "                               early_stopping_patience=cfg.early_stopping, \n",
    "                               dataloaders=dataloaders, \n",
    "                               device=cfg.device,\n",
    "                               save_path=cfg.save_path,\n",
    "                               fold=fold,\n",
    "                               verbose=True)\n",
    "\n",
    "        breaker()\n",
    "        show_loss_graph(L)\n",
    "        breaker()\n",
    "        \n",
    "        if scheduler_oclr:\n",
    "            show_lr_graph(LR)\n",
    "            breaker()\n",
    "\n",
    "        BLEs.append(BLE)\n",
    "\n",
    "        fold += 1"
   ]
  },
  {
   "cell_type": "code",
   "execution_count": null,
   "id": "fb0dbd29",
   "metadata": {
    "papermill": {
     "duration": 0.048842,
     "end_time": "2022-05-08T07:24:07.551550",
     "exception": false,
     "start_time": "2022-05-08T07:24:07.502708",
     "status": "completed"
    },
    "tags": []
   },
   "outputs": [],
   "source": []
  }
 ],
 "metadata": {
  "kernelspec": {
   "display_name": "Python 3",
   "language": "python",
   "name": "python3"
  },
  "language_info": {
   "codemirror_mode": {
    "name": "ipython",
    "version": 3
   },
   "file_extension": ".py",
   "mimetype": "text/x-python",
   "name": "python",
   "nbconvert_exporter": "python",
   "pygments_lexer": "ipython3",
   "version": "3.7.12"
  },
  "papermill": {
   "default_parameters": {},
   "duration": 4384.960427,
   "end_time": "2022-05-08T07:24:09.220035",
   "environment_variables": {},
   "exception": null,
   "input_path": "__notebook__.ipynb",
   "output_path": "__notebook__.ipynb",
   "parameters": {},
   "start_time": "2022-05-08T06:11:04.259608",
   "version": "2.3.3"
  },
  "widgets": {
   "application/vnd.jupyter.widget-state+json": {
    "state": {
     "1a2e5788152f4231b7c30b83d75e5f58": {
      "model_module": "@jupyter-widgets/base",
      "model_module_version": "1.2.0",
      "model_name": "LayoutModel",
      "state": {
       "_model_module": "@jupyter-widgets/base",
       "_model_module_version": "1.2.0",
       "_model_name": "LayoutModel",
       "_view_count": null,
       "_view_module": "@jupyter-widgets/base",
       "_view_module_version": "1.2.0",
       "_view_name": "LayoutView",
       "align_content": null,
       "align_items": null,
       "align_self": null,
       "border": null,
       "bottom": null,
       "display": null,
       "flex": null,
       "flex_flow": null,
       "grid_area": null,
       "grid_auto_columns": null,
       "grid_auto_flow": null,
       "grid_auto_rows": null,
       "grid_column": null,
       "grid_gap": null,
       "grid_row": null,
       "grid_template_areas": null,
       "grid_template_columns": null,
       "grid_template_rows": null,
       "height": null,
       "justify_content": null,
       "justify_items": null,
       "left": null,
       "margin": null,
       "max_height": null,
       "max_width": null,
       "min_height": null,
       "min_width": null,
       "object_fit": null,
       "object_position": null,
       "order": null,
       "overflow": null,
       "overflow_x": null,
       "overflow_y": null,
       "padding": null,
       "right": null,
       "top": null,
       "visibility": null,
       "width": null
      }
     },
     "1dab938ff5e248e8ba4eb8e19bf02b91": {
      "model_module": "@jupyter-widgets/controls",
      "model_module_version": "1.5.0",
      "model_name": "HTMLModel",
      "state": {
       "_dom_classes": [],
       "_model_module": "@jupyter-widgets/controls",
       "_model_module_version": "1.5.0",
       "_model_name": "HTMLModel",
       "_view_count": null,
       "_view_module": "@jupyter-widgets/controls",
       "_view_module_version": "1.5.0",
       "_view_name": "HTMLView",
       "description": "",
       "description_tooltip": null,
       "layout": "IPY_MODEL_e06d1b7ff7864cc1b6a7667e6f7205fb",
       "placeholder": "​",
       "style": "IPY_MODEL_49f9f0b5e6e64a6ca0fe39613b16a366",
       "value": " 30.8M/30.8M [00:02&lt;00:00, 23.5MB/s]"
      }
     },
     "2a2bf4def68043eab6afdbbc247c6dc0": {
      "model_module": "@jupyter-widgets/controls",
      "model_module_version": "1.5.0",
      "model_name": "HBoxModel",
      "state": {
       "_dom_classes": [],
       "_model_module": "@jupyter-widgets/controls",
       "_model_module_version": "1.5.0",
       "_model_name": "HBoxModel",
       "_view_count": null,
       "_view_module": "@jupyter-widgets/controls",
       "_view_module_version": "1.5.0",
       "_view_name": "HBoxView",
       "box_style": "",
       "children": [
        "IPY_MODEL_a969962d16e141bbbd6f0f42c76d170a",
        "IPY_MODEL_dfbf3acccf614b068a1f4d610274aa2f",
        "IPY_MODEL_1dab938ff5e248e8ba4eb8e19bf02b91"
       ],
       "layout": "IPY_MODEL_1a2e5788152f4231b7c30b83d75e5f58"
      }
     },
     "2f6526be00d14cfc9b38f7886cf9bcdc": {
      "model_module": "@jupyter-widgets/base",
      "model_module_version": "1.2.0",
      "model_name": "LayoutModel",
      "state": {
       "_model_module": "@jupyter-widgets/base",
       "_model_module_version": "1.2.0",
       "_model_name": "LayoutModel",
       "_view_count": null,
       "_view_module": "@jupyter-widgets/base",
       "_view_module_version": "1.2.0",
       "_view_name": "LayoutView",
       "align_content": null,
       "align_items": null,
       "align_self": null,
       "border": null,
       "bottom": null,
       "display": null,
       "flex": null,
       "flex_flow": null,
       "grid_area": null,
       "grid_auto_columns": null,
       "grid_auto_flow": null,
       "grid_auto_rows": null,
       "grid_column": null,
       "grid_gap": null,
       "grid_row": null,
       "grid_template_areas": null,
       "grid_template_columns": null,
       "grid_template_rows": null,
       "height": null,
       "justify_content": null,
       "justify_items": null,
       "left": null,
       "margin": null,
       "max_height": null,
       "max_width": null,
       "min_height": null,
       "min_width": null,
       "object_fit": null,
       "object_position": null,
       "order": null,
       "overflow": null,
       "overflow_x": null,
       "overflow_y": null,
       "padding": null,
       "right": null,
       "top": null,
       "visibility": null,
       "width": null
      }
     },
     "49f9f0b5e6e64a6ca0fe39613b16a366": {
      "model_module": "@jupyter-widgets/controls",
      "model_module_version": "1.5.0",
      "model_name": "DescriptionStyleModel",
      "state": {
       "_model_module": "@jupyter-widgets/controls",
       "_model_module_version": "1.5.0",
       "_model_name": "DescriptionStyleModel",
       "_view_count": null,
       "_view_module": "@jupyter-widgets/base",
       "_view_module_version": "1.2.0",
       "_view_name": "StyleView",
       "description_width": ""
      }
     },
     "a969962d16e141bbbd6f0f42c76d170a": {
      "model_module": "@jupyter-widgets/controls",
      "model_module_version": "1.5.0",
      "model_name": "HTMLModel",
      "state": {
       "_dom_classes": [],
       "_model_module": "@jupyter-widgets/controls",
       "_model_module_version": "1.5.0",
       "_model_name": "HTMLModel",
       "_view_count": null,
       "_view_module": "@jupyter-widgets/controls",
       "_view_module_version": "1.5.0",
       "_view_name": "HTMLView",
       "description": "",
       "description_tooltip": null,
       "layout": "IPY_MODEL_2f6526be00d14cfc9b38f7886cf9bcdc",
       "placeholder": "​",
       "style": "IPY_MODEL_c3e24de9f727405ebe2e6add0b167b6b",
       "value": "100%"
      }
     },
     "acdd81ca8df641e6b9dcd96a428fe18d": {
      "model_module": "@jupyter-widgets/controls",
      "model_module_version": "1.5.0",
      "model_name": "ProgressStyleModel",
      "state": {
       "_model_module": "@jupyter-widgets/controls",
       "_model_module_version": "1.5.0",
       "_model_name": "ProgressStyleModel",
       "_view_count": null,
       "_view_module": "@jupyter-widgets/base",
       "_view_module_version": "1.2.0",
       "_view_name": "StyleView",
       "bar_color": null,
       "description_width": ""
      }
     },
     "c3e24de9f727405ebe2e6add0b167b6b": {
      "model_module": "@jupyter-widgets/controls",
      "model_module_version": "1.5.0",
      "model_name": "DescriptionStyleModel",
      "state": {
       "_model_module": "@jupyter-widgets/controls",
       "_model_module_version": "1.5.0",
       "_model_name": "DescriptionStyleModel",
       "_view_count": null,
       "_view_module": "@jupyter-widgets/base",
       "_view_module_version": "1.2.0",
       "_view_name": "StyleView",
       "description_width": ""
      }
     },
     "d41d0db87c1842408023a2e011ce6b89": {
      "model_module": "@jupyter-widgets/base",
      "model_module_version": "1.2.0",
      "model_name": "LayoutModel",
      "state": {
       "_model_module": "@jupyter-widgets/base",
       "_model_module_version": "1.2.0",
       "_model_name": "LayoutModel",
       "_view_count": null,
       "_view_module": "@jupyter-widgets/base",
       "_view_module_version": "1.2.0",
       "_view_name": "LayoutView",
       "align_content": null,
       "align_items": null,
       "align_self": null,
       "border": null,
       "bottom": null,
       "display": null,
       "flex": null,
       "flex_flow": null,
       "grid_area": null,
       "grid_auto_columns": null,
       "grid_auto_flow": null,
       "grid_auto_rows": null,
       "grid_column": null,
       "grid_gap": null,
       "grid_row": null,
       "grid_template_areas": null,
       "grid_template_columns": null,
       "grid_template_rows": null,
       "height": null,
       "justify_content": null,
       "justify_items": null,
       "left": null,
       "margin": null,
       "max_height": null,
       "max_width": null,
       "min_height": null,
       "min_width": null,
       "object_fit": null,
       "object_position": null,
       "order": null,
       "overflow": null,
       "overflow_x": null,
       "overflow_y": null,
       "padding": null,
       "right": null,
       "top": null,
       "visibility": null,
       "width": null
      }
     },
     "dfbf3acccf614b068a1f4d610274aa2f": {
      "model_module": "@jupyter-widgets/controls",
      "model_module_version": "1.5.0",
      "model_name": "FloatProgressModel",
      "state": {
       "_dom_classes": [],
       "_model_module": "@jupyter-widgets/controls",
       "_model_module_version": "1.5.0",
       "_model_name": "FloatProgressModel",
       "_view_count": null,
       "_view_module": "@jupyter-widgets/controls",
       "_view_module_version": "1.5.0",
       "_view_name": "ProgressView",
       "bar_style": "success",
       "description": "",
       "description_tooltip": null,
       "layout": "IPY_MODEL_d41d0db87c1842408023a2e011ce6b89",
       "max": 32342954.0,
       "min": 0.0,
       "orientation": "horizontal",
       "style": "IPY_MODEL_acdd81ca8df641e6b9dcd96a428fe18d",
       "value": 32342954.0
      }
     },
     "e06d1b7ff7864cc1b6a7667e6f7205fb": {
      "model_module": "@jupyter-widgets/base",
      "model_module_version": "1.2.0",
      "model_name": "LayoutModel",
      "state": {
       "_model_module": "@jupyter-widgets/base",
       "_model_module_version": "1.2.0",
       "_model_name": "LayoutModel",
       "_view_count": null,
       "_view_module": "@jupyter-widgets/base",
       "_view_module_version": "1.2.0",
       "_view_name": "LayoutView",
       "align_content": null,
       "align_items": null,
       "align_self": null,
       "border": null,
       "bottom": null,
       "display": null,
       "flex": null,
       "flex_flow": null,
       "grid_area": null,
       "grid_auto_columns": null,
       "grid_auto_flow": null,
       "grid_auto_rows": null,
       "grid_column": null,
       "grid_gap": null,
       "grid_row": null,
       "grid_template_areas": null,
       "grid_template_columns": null,
       "grid_template_rows": null,
       "height": null,
       "justify_content": null,
       "justify_items": null,
       "left": null,
       "margin": null,
       "max_height": null,
       "max_width": null,
       "min_height": null,
       "min_width": null,
       "object_fit": null,
       "object_position": null,
       "order": null,
       "overflow": null,
       "overflow_x": null,
       "overflow_y": null,
       "padding": null,
       "right": null,
       "top": null,
       "visibility": null,
       "width": null
      }
     }
    },
    "version_major": 2,
    "version_minor": 0
   }
  }
 },
 "nbformat": 4,
 "nbformat_minor": 5
}
