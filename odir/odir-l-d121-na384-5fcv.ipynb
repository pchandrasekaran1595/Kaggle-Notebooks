{
 "cells": [
  {
   "cell_type": "code",
   "execution_count": 1,
   "id": "213057a9",
   "metadata": {
    "_cell_guid": "b1076dfc-b9ad-4769-8c92-a6c4dae69d19",
    "_uuid": "8f2839f25d086af736a60e9eeb907d3b93b6e0e5",
    "execution": {
     "iopub.execute_input": "2022-04-25T09:15:39.712664Z",
     "iopub.status.busy": "2022-04-25T09:15:39.712075Z",
     "iopub.status.idle": "2022-04-25T09:15:52.830636Z",
     "shell.execute_reply": "2022-04-25T09:15:52.829613Z"
    },
    "papermill": {
     "duration": 13.137727,
     "end_time": "2022-04-25T09:15:52.832860",
     "exception": false,
     "start_time": "2022-04-25T09:15:39.695133",
     "status": "completed"
    },
    "tags": []
   },
   "outputs": [
    {
     "name": "stdout",
     "output_type": "stream",
     "text": [
      "Collecting openpyxl\n",
      "  Downloading openpyxl-3.0.9-py2.py3-none-any.whl (242 kB)\n",
      "     ━━━━━━━━━━━━━━━━━━━━━━━━━━━━━━━━━━━━━ 242.2/242.2 KB 516.6 kB/s eta 0:00:00\n",
      "Collecting et-xmlfile\n",
      "  Downloading et_xmlfile-1.1.0-py3-none-any.whl (4.7 kB)\n",
      "Installing collected packages: et-xmlfile, openpyxl\n",
      "Successfully installed et-xmlfile-1.1.0 openpyxl-3.0.9\n"
     ]
    },
    {
     "name": "stderr",
     "output_type": "stream",
     "text": [
      "WARNING: Running pip as the 'root' user can result in broken permissions and conflicting behaviour with the system package manager. It is recommended to use a virtual environment instead: https://pip.pypa.io/warnings/venv\n"
     ]
    }
   ],
   "source": [
    "%%bash\n",
    "pip install openpyxl"
   ]
  },
  {
   "cell_type": "markdown",
   "id": "85d34d40",
   "metadata": {
    "papermill": {
     "duration": 0.014172,
     "end_time": "2022-04-25T09:15:52.862124",
     "exception": false,
     "start_time": "2022-04-25T09:15:52.847952",
     "status": "completed"
    },
    "tags": []
   },
   "source": [
    "### **Library Imports**"
   ]
  },
  {
   "cell_type": "code",
   "execution_count": 2,
   "id": "4ce824a8",
   "metadata": {
    "execution": {
     "iopub.execute_input": "2022-04-25T09:15:52.894620Z",
     "iopub.status.busy": "2022-04-25T09:15:52.894333Z",
     "iopub.status.idle": "2022-04-25T09:15:55.018419Z",
     "shell.execute_reply": "2022-04-25T09:15:55.017610Z"
    },
    "papermill": {
     "duration": 2.142704,
     "end_time": "2022-04-25T09:15:55.021117",
     "exception": false,
     "start_time": "2022-04-25T09:15:52.878413",
     "status": "completed"
    },
    "tags": []
   },
   "outputs": [],
   "source": [
    "import os\n",
    "import re\n",
    "import torch\n",
    "import numpy as np\n",
    "import pandas as pd\n",
    "import matplotlib.pyplot as plt\n",
    "\n",
    "from time import time\n",
    "from torch import nn, optim\n",
    "from torch.utils.data import Dataset\n",
    "from torch.utils.data import DataLoader as DL\n",
    "from torchvision import models, transforms\n",
    "\n",
    "from sklearn.model_selection import KFold"
   ]
  },
  {
   "cell_type": "markdown",
   "id": "923585dc",
   "metadata": {
    "papermill": {
     "duration": 0.013844,
     "end_time": "2022-04-25T09:15:55.049079",
     "exception": false,
     "start_time": "2022-04-25T09:15:55.035235",
     "status": "completed"
    },
    "tags": []
   },
   "source": [
    "### **Utilities and Constants**"
   ]
  },
  {
   "cell_type": "code",
   "execution_count": 3,
   "id": "d43ad99e",
   "metadata": {
    "execution": {
     "iopub.execute_input": "2022-04-25T09:15:55.079067Z",
     "iopub.status.busy": "2022-04-25T09:15:55.078181Z",
     "iopub.status.idle": "2022-04-25T09:15:55.088022Z",
     "shell.execute_reply": "2022-04-25T09:15:55.087451Z"
    },
    "papermill": {
     "duration": 0.026606,
     "end_time": "2022-04-25T09:15:55.089719",
     "exception": false,
     "start_time": "2022-04-25T09:15:55.063113",
     "status": "completed"
    },
    "tags": []
   },
   "outputs": [],
   "source": [
    "SEED = 42\n",
    "SIZE = 384\n",
    "\n",
    "def breaker(num: int=50, char: str=\"*\") -> None:\n",
    "    print(\"\\n\" + num*char + \"\\n\")\n",
    "\n",
    "    \n",
    "def show_graphs(L: list, LR: list) -> None:\n",
    "    TL, VL = [], []\n",
    "    for i in range(len(L)):\n",
    "        TL.append(L[i][\"train\"])\n",
    "        VL.append(L[i][\"valid\"])\n",
    "    \n",
    "    x_Axis_1 = np.arange(1, len(TL) + 1)\n",
    "    x_Axis_2 = np.arange(1, len(LR) + 1)\n",
    "    \n",
    "    plt.figure(figsize=(8, 6))\n",
    "    plt.subplot(1, 2, 1)\n",
    "    plt.plot(x_Axis_1, TL, \"r\", label=\"Train\")\n",
    "    plt.plot(x_Axis_1, VL, \"b\", label=\"Valid\")\n",
    "    plt.legend()\n",
    "    plt.grid()\n",
    "    plt.title(\"Loss Graph\")\n",
    "    plt.subplot(1, 2, 2)\n",
    "    plt.plot(x_Axis_2, LR, \"rx\")\n",
    "    plt.legend()\n",
    "    plt.grid()\n",
    "    plt.title(\"Learning Rate Graph\")\n",
    "    plt.show()"
   ]
  },
  {
   "cell_type": "markdown",
   "id": "79179eba",
   "metadata": {
    "papermill": {
     "duration": 0.013726,
     "end_time": "2022-04-25T09:15:55.117843",
     "exception": false,
     "start_time": "2022-04-25T09:15:55.104117",
     "status": "completed"
    },
    "tags": []
   },
   "source": [
    "### **Configuration**"
   ]
  },
  {
   "cell_type": "code",
   "execution_count": 4,
   "id": "d642c8fe",
   "metadata": {
    "execution": {
     "iopub.execute_input": "2022-04-25T09:15:55.147454Z",
     "iopub.status.busy": "2022-04-25T09:15:55.147170Z",
     "iopub.status.idle": "2022-04-25T09:15:55.157711Z",
     "shell.execute_reply": "2022-04-25T09:15:55.157153Z"
    },
    "papermill": {
     "duration": 0.027554,
     "end_time": "2022-04-25T09:15:55.159451",
     "exception": false,
     "start_time": "2022-04-25T09:15:55.131897",
     "status": "completed"
    },
    "tags": []
   },
   "outputs": [],
   "source": [
    "class CFG(object):\n",
    "    def __init__(self, \n",
    "                 seed: int = 42,\n",
    "                 n_splits: int = 5,\n",
    "                 batch_size: int = 16,\n",
    "                 epochs: int = 25,\n",
    "                 early_stopping: int = 5,\n",
    "                 lr: float = 1e-4,\n",
    "                 wd: float = 0.0,\n",
    "                 max_lr: float = 1e-3,\n",
    "                 pct_start: float = 0.2,\n",
    "                 steps_per_epoch: int = 100,\n",
    "                 div_factor: int = 1e3, \n",
    "                 final_div_factor: float = 1e3,\n",
    "                 ):\n",
    "        self.seed = seed\n",
    "        self.n_splits = n_splits\n",
    "        self.batch_size = batch_size\n",
    "        self.epochs = epochs\n",
    "        self.early_stopping = early_stopping\n",
    "        self.lr = lr\n",
    "        self.wd = wd\n",
    "        self.max_lr = max_lr\n",
    "        self.pct_start = pct_start\n",
    "        self.steps_per_epoch = steps_per_epoch\n",
    "        self.div_factor = div_factor\n",
    "        self.final_div_factor = final_div_factor\n",
    "        self.device = torch.device(\"cuda\" if torch.cuda.is_available() else \"cpu\")\n",
    "        self.transform = transforms.Compose([transforms.ToTensor(),\n",
    "                                transforms.Normalize([0.29863, 0.18990, 0.10370],\n",
    "                                                     [0.30992, 0.21233, 0.13985]),\n",
    "                                ])\n",
    "        self.data_path = \"../input/odir-images-384\"\n",
    "        self.save_path = \"saves\"\n",
    "        if not os.path.exists(self.save_path): os.makedirs(self.save_path)\n",
    "\n",
    "cfg = CFG(seed=SEED)"
   ]
  },
  {
   "cell_type": "markdown",
   "id": "4af72c3b",
   "metadata": {
    "papermill": {
     "duration": 0.013958,
     "end_time": "2022-04-25T09:15:55.187397",
     "exception": false,
     "start_time": "2022-04-25T09:15:55.173439",
     "status": "completed"
    },
    "tags": []
   },
   "source": [
    "### **Dataset Template**"
   ]
  },
  {
   "cell_type": "code",
   "execution_count": 5,
   "id": "f52da0a2",
   "metadata": {
    "execution": {
     "iopub.execute_input": "2022-04-25T09:15:55.217197Z",
     "iopub.status.busy": "2022-04-25T09:15:55.216773Z",
     "iopub.status.idle": "2022-04-25T09:15:55.223860Z",
     "shell.execute_reply": "2022-04-25T09:15:55.223085Z"
    },
    "papermill": {
     "duration": 0.024212,
     "end_time": "2022-04-25T09:15:55.225765",
     "exception": false,
     "start_time": "2022-04-25T09:15:55.201553",
     "status": "completed"
    },
    "tags": []
   },
   "outputs": [],
   "source": [
    "class DS(Dataset):\n",
    "    def __init__(self, images: np.ndarray, labels: np.ndarray = None, transform=None):\n",
    "        self.images = images\n",
    "        self.labels = labels\n",
    "        self.transform = transform\n",
    "    \n",
    "    def __len__(self):\n",
    "        return self.images.shape[0]\n",
    "    \n",
    "    def __getitem__(self, idx):\n",
    "        if self.labels is not None:\n",
    "            return self.transform(self.images[idx]), torch.FloatTensor(self.labels[idx])\n",
    "        else:\n",
    "            return self.transform(self.images[idx])"
   ]
  },
  {
   "cell_type": "markdown",
   "id": "ca2777be",
   "metadata": {
    "papermill": {
     "duration": 0.014163,
     "end_time": "2022-04-25T09:15:55.254265",
     "exception": false,
     "start_time": "2022-04-25T09:15:55.240102",
     "status": "completed"
    },
    "tags": []
   },
   "source": [
    "### **Model**"
   ]
  },
  {
   "cell_type": "code",
   "execution_count": 6,
   "id": "9ce1bb55",
   "metadata": {
    "execution": {
     "iopub.execute_input": "2022-04-25T09:15:55.284737Z",
     "iopub.status.busy": "2022-04-25T09:15:55.284448Z",
     "iopub.status.idle": "2022-04-25T09:15:55.290539Z",
     "shell.execute_reply": "2022-04-25T09:15:55.289582Z"
    },
    "papermill": {
     "duration": 0.023821,
     "end_time": "2022-04-25T09:15:55.292442",
     "exception": false,
     "start_time": "2022-04-25T09:15:55.268621",
     "status": "completed"
    },
    "tags": []
   },
   "outputs": [],
   "source": [
    "class Model(nn.Module):\n",
    "    def __init__(self):\n",
    "        super(Model, self).__init__()\n",
    "\n",
    "        self.model = models.densenet121(pretrained=True, progress=True)\n",
    "        self.model.classifier = nn.Linear(in_features=self.model.classifier.in_features, out_features=8)\n",
    "\n",
    "    def forward(self, x):\n",
    "        return self.model(x)"
   ]
  },
  {
   "cell_type": "markdown",
   "id": "b6f27043",
   "metadata": {
    "papermill": {
     "duration": 0.019153,
     "end_time": "2022-04-25T09:15:55.326252",
     "exception": false,
     "start_time": "2022-04-25T09:15:55.307099",
     "status": "completed"
    },
    "tags": []
   },
   "source": [
    "### **Fit and Predict Helper**"
   ]
  },
  {
   "cell_type": "code",
   "execution_count": 7,
   "id": "5cb98d85",
   "metadata": {
    "execution": {
     "iopub.execute_input": "2022-04-25T09:15:55.366970Z",
     "iopub.status.busy": "2022-04-25T09:15:55.366192Z",
     "iopub.status.idle": "2022-04-25T09:15:55.400383Z",
     "shell.execute_reply": "2022-04-25T09:15:55.399223Z"
    },
    "papermill": {
     "duration": 0.060803,
     "end_time": "2022-04-25T09:15:55.402583",
     "exception": false,
     "start_time": "2022-04-25T09:15:55.341780",
     "status": "completed"
    },
    "tags": []
   },
   "outputs": [],
   "source": [
    "def fit(model=None, \n",
    "        optimizer=None, \n",
    "        scheduler=None, \n",
    "        epochs=None, \n",
    "        early_stopping_patience=None, \n",
    "        dataloaders=None, \n",
    "        fold=None, \n",
    "        save_path=None, \n",
    "        device=None,\n",
    "        verbose=False) -> tuple:\n",
    "    \n",
    "    if verbose:\n",
    "        breaker()\n",
    "        if fold: print(f\"Training Fold {fold}...\")\n",
    "        else: print(\"Training ...\")\n",
    "        breaker()\n",
    "        \n",
    "    bestLos = {\"train\" : np.inf, \"valid\" : np.inf}\n",
    "    Losses, LRs = [], []\n",
    "    if fold: name = f\"state_fold_{fold}.pt\"\n",
    "    else: name = \"state.pt\"\n",
    "        \n",
    "    start_time = time()\n",
    "    for e in range(epochs):\n",
    "        e_st = time()\n",
    "        epochLoss = {\"train\" : 0.0, \"valid\" : 0.0}\n",
    "\n",
    "        for phase in [\"train\", \"valid\"]:\n",
    "            if phase == \"train\":\n",
    "                model.train()\n",
    "            else:\n",
    "                model.eval()\n",
    "            \n",
    "            lossPerPass = []\n",
    "            \n",
    "            for X, y in dataloaders[phase]:\n",
    "                X, y = X.to(device), y.to(device)\n",
    "\n",
    "                optimizer.zero_grad()\n",
    "                with torch.set_grad_enabled(phase == \"train\"):\n",
    "                    output = model(X)\n",
    "                    loss = torch.nn.BCEWithLogitsLoss()(output, y)\n",
    "                    if phase == \"train\":\n",
    "                        loss.backward()\n",
    "                        optimizer.step()\n",
    "                        if scheduler: scheduler.step()\n",
    "                lossPerPass.append(loss.item())\n",
    "            epochLoss[phase] = np.mean(np.array(lossPerPass))     \n",
    "        LRs.append(scheduler.get_last_lr())\n",
    "        Losses.append(epochLoss)\n",
    "        \n",
    "        if early_stopping_patience:\n",
    "            if epochLoss[\"valid\"] < bestLoss[\"valid\"]:\n",
    "                bestLoss = epochLoss\n",
    "                BLE = e + 1\n",
    "                torch.save({\"model_state_dict\"     : model.state_dict(),\n",
    "                            \"optim_state_dict\"     : optimizer.state_dict()},\n",
    "                           os.path.join(save_path, name))\n",
    "                early_stopping_step = 0\n",
    "            else:\n",
    "                early_stopping_step += 1\n",
    "                if early_stopping_step > early_stopping_patience:\n",
    "                    print(\"\\nEarly Stopping at Epoch {}\".format(e + 1))\n",
    "                    break\n",
    "            \n",
    "        if epochLoss[\"valid\"] < bestLoss[\"valid\"]:\n",
    "            bestLoss = epochLoss\n",
    "            BLE = e + 1\n",
    "            torch.save({\"model_state_dict\"     : model.state_dict(),\n",
    "                        \"optim_state_dict\"     : optimizer.state_dict()},\n",
    "                        os.path.join(save_path, name))\n",
    "        \n",
    "        if verbose:\n",
    "            print(\"Epoch: {} | Train Loss: {:.5f} | Valid Loss: {:.5f} | Time: {:.2f} seconds\".format(e+1, epochLoss[\"train\"], epochLoss[\"valid\"], time()-e_st))\n",
    "        \n",
    "    \n",
    "    if verbose:                                           \n",
    "        breaker()\n",
    "        print(f\"Best Validation Loss at Epoch {BLE}\")\n",
    "        breaker()\n",
    "        print(\"Time Taken [{} Epochs] : {:.2f} minutes\".format(len(Losses), (time()-start_time)/60))\n",
    "    \n",
    "    return Losses, LRs, BLE, name\n",
    "\n",
    "\n",
    "def predict(model=None, dataloader=None, path=None, device=None) -> np.ndarray:\n",
    "    model.load_state_dict(torch.load(path, map_location=device)[\"model_state_dict\"])\n",
    "    model.to(device)    \n",
    "    model.eval()\n",
    "    \n",
    "    y_pred = torch.zeros(1, 8).to(device)\n",
    "    \n",
    "    for X in dataloader:\n",
    "        X = X.to(device)\n",
    "        with torch.no_grad():\n",
    "            output = torch.sigmoid(model(X))\n",
    "        y_pred = torch.cat((y_pred, output), dim=0)\n",
    "    \n",
    "    return y_pred[1:].detach().cpu().numpy()"
   ]
  },
  {
   "cell_type": "markdown",
   "id": "1cc8f7a6",
   "metadata": {
    "papermill": {
     "duration": 0.014504,
     "end_time": "2022-04-25T09:15:55.432246",
     "exception": false,
     "start_time": "2022-04-25T09:15:55.417742",
     "status": "completed"
    },
    "tags": []
   },
   "source": [
    "### **Train**"
   ]
  },
  {
   "cell_type": "code",
   "execution_count": 8,
   "id": "4cf67523",
   "metadata": {
    "execution": {
     "iopub.execute_input": "2022-04-25T09:15:55.463596Z",
     "iopub.status.busy": "2022-04-25T09:15:55.462927Z",
     "iopub.status.idle": "2022-04-25T09:16:05.777664Z",
     "shell.execute_reply": "2022-04-25T09:16:05.776784Z"
    },
    "papermill": {
     "duration": 10.333705,
     "end_time": "2022-04-25T09:16:05.780540",
     "exception": false,
     "start_time": "2022-04-25T09:15:55.446835",
     "status": "completed"
    },
    "tags": []
   },
   "outputs": [],
   "source": [
    "images  = np.load(os.path.join(cfg.data_path, f\"left_images_{SIZE}.npy\"))\n",
    "targets = np.load(os.path.join(cfg.data_path, f\"targets_{SIZE}.npy\"))"
   ]
  },
  {
   "cell_type": "code",
   "execution_count": 9,
   "id": "1cdd48bb",
   "metadata": {
    "execution": {
     "iopub.execute_input": "2022-04-25T09:16:05.818403Z",
     "iopub.status.busy": "2022-04-25T09:16:05.817563Z",
     "iopub.status.idle": "2022-04-25T09:16:05.824019Z",
     "shell.execute_reply": "2022-04-25T09:16:05.823116Z"
    },
    "papermill": {
     "duration": 0.026851,
     "end_time": "2022-04-25T09:16:05.826364",
     "exception": false,
     "start_time": "2022-04-25T09:16:05.799513",
     "status": "completed"
    },
    "tags": []
   },
   "outputs": [],
   "source": [
    "# fold = 1\n",
    "# BLEs = []\n",
    "\n",
    "# for tr_idx, va_idx in KFold(n_splits=cfg.n_splits, random_state=SEED, shuffle=True).split(images):\n",
    "#     tr_images, va_images, tr_labels, va_labels = images[tr_idx], images[va_idx], labels[tr_idx], labels[va_idx]\n",
    "\n",
    "#     tr_data_setup = DS(tr_images, tr_labels.reshape(-1, 1), cfg.transform)\n",
    "#     va_data_setup = DS(va_images, va_labels.reshape(-1, 1), cfg.transform)\n",
    "    \n",
    "#     dataloaders = {\n",
    "#         \"train\" : DL(tr_data_setup, batch_size=cfg.batch_size, shuffle=True, generator=torch.manual_seed(cfg.seed)),\n",
    "#         \"valid\" : DL(va_data_setup, batch_size=cfg.batch_size, shuffle=False),\n",
    "#     }\n",
    "\n",
    "#     cfg = CFG(epochs=20, lr=1e-3, wd=0.0, batch_size=16, steps_per_epoch=len(dataloaders[\"train\"]))\n",
    "    \n",
    "#     torch.manual_seed(cfg.seed)\n",
    "#     model = Model().to(cfg.device)\n",
    "#     optimizer = optim.Adam([p for p in model.parameters() if p.requires_grad], lr=cfg.lr, weight_decay=cfg.wd)\n",
    "#     scheduler = optim.lr_scheduler.OneCycleLR(optimizer=optimizer, \n",
    "#                                               max_lr=cfg.max_lr, \n",
    "#                                               epochs=cfg.epochs, \n",
    "#                                               steps_per_epoch=cfg.steps_per_epoch,\n",
    "#                                               pct_start=cfg.pct_start, \n",
    "#                                               div_factor=cfg.div_factor, \n",
    "#                                               final_div_factor=cfg.final_div_factor)\n",
    "#     # scheduler = None\n",
    "    \n",
    "#     L, LR, BLE, name = fit(model=model, \n",
    "#                            optimizer=optimizer, \n",
    "#                            scheduler=scheduler, \n",
    "#                            epochs=cfg.epochs, \n",
    "#                            early_stopping_patience=cfg.early_stopping, \n",
    "#                            dataloaders=dataloaders, \n",
    "#                            device=cfg.device,\n",
    "#                            save_path=cfg.save_path,\n",
    "#                            fold=fold,\n",
    "#                            verbose=True)\n",
    "\n",
    "#     breaker()\n",
    "#     show_graphs(L, LR)\n",
    "    \n",
    "#     BLEs.append(BLE)\n",
    "\n",
    "#     fold += 1"
   ]
  }
 ],
 "metadata": {
  "kernelspec": {
   "display_name": "Python 3",
   "language": "python",
   "name": "python3"
  },
  "language_info": {
   "codemirror_mode": {
    "name": "ipython",
    "version": 3
   },
   "file_extension": ".py",
   "mimetype": "text/x-python",
   "name": "python",
   "nbconvert_exporter": "python",
   "pygments_lexer": "ipython3",
   "version": "3.7.12"
  },
  "papermill": {
   "default_parameters": {},
   "duration": 36.264698,
   "end_time": "2022-04-25T09:16:06.663913",
   "environment_variables": {},
   "exception": null,
   "input_path": "__notebook__.ipynb",
   "output_path": "__notebook__.ipynb",
   "parameters": {},
   "start_time": "2022-04-25T09:15:30.399215",
   "version": "2.3.4"
  }
 },
 "nbformat": 4,
 "nbformat_minor": 5
}
