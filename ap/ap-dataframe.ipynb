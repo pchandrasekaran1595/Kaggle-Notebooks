{
 "cells": [
  {
   "cell_type": "code",
   "execution_count": 1,
   "id": "746baf38",
   "metadata": {
    "execution": {
     "iopub.execute_input": "2022-11-06T05:46:15.473742Z",
     "iopub.status.busy": "2022-11-06T05:46:15.472293Z",
     "iopub.status.idle": "2022-11-06T05:46:15.701098Z",
     "shell.execute_reply": "2022-11-06T05:46:15.700202Z"
    },
    "papermill": {
     "duration": 0.236313,
     "end_time": "2022-11-06T05:46:15.703937",
     "exception": false,
     "start_time": "2022-11-06T05:46:15.467624",
     "status": "completed"
    },
    "tags": []
   },
   "outputs": [],
   "source": [
    "import os\n",
    "import cv2\n",
    "import numpy as np\n",
    "import pandas as pd\n",
    "\n",
    "BASE_PATH: str = \"../input/modern-architecture-100k-small-images/Dataset_128px_128px_Images\""
   ]
  },
  {
   "cell_type": "code",
   "execution_count": 2,
   "id": "8f7e3a55",
   "metadata": {
    "_cell_guid": "b1076dfc-b9ad-4769-8c92-a6c4dae69d19",
    "_uuid": "8f2839f25d086af736a60e9eeb907d3b93b6e0e5",
    "execution": {
     "iopub.execute_input": "2022-11-06T05:46:15.708876Z",
     "iopub.status.busy": "2022-11-06T05:46:15.708528Z",
     "iopub.status.idle": "2022-11-06T05:46:18.063603Z",
     "shell.execute_reply": "2022-11-06T05:46:18.062437Z"
    },
    "papermill": {
     "duration": 2.360453,
     "end_time": "2022-11-06T05:46:18.066417",
     "exception": false,
     "start_time": "2022-11-06T05:46:15.705964",
     "status": "completed"
    },
    "tags": []
   },
   "outputs": [],
   "source": [
    "df = pd.DataFrame(data=None, columns=[\"filepaths\", \"labels\"])\n",
    "\n",
    "folders: list = sorted([folder_name for folder_name in os.listdir(BASE_PATH) if folder_name[-3:] != \"npy\"])\n",
    "filepaths: list = []\n",
    "labels: list = []\n",
    "    \n",
    "i: int = 0\n",
    "for folder in folders:\n",
    "    for filename in os.listdir(os.path.join(BASE_PATH, folder)):\n",
    "        filepaths.append(os.path.join(os.path.join(BASE_PATH, folder), filename))\n",
    "        labels.append(i)\n",
    "    i += 1\n",
    "\n",
    "df.filepaths = filepaths\n",
    "df.labels    = labels\n",
    "df.to_csv(\"data.csv\", index=False)"
   ]
  }
 ],
 "metadata": {
  "kernelspec": {
   "display_name": "Python 3",
   "language": "python",
   "name": "python3"
  },
  "language_info": {
   "codemirror_mode": {
    "name": "ipython",
    "version": 3
   },
   "file_extension": ".py",
   "mimetype": "text/x-python",
   "name": "python",
   "nbconvert_exporter": "python",
   "pygments_lexer": "ipython3",
   "version": "3.7.12"
  },
  "papermill": {
   "default_parameters": {},
   "duration": 11.719873,
   "end_time": "2022-11-06T05:46:18.790791",
   "environment_variables": {},
   "exception": null,
   "input_path": "__notebook__.ipynb",
   "output_path": "__notebook__.ipynb",
   "parameters": {},
   "start_time": "2022-11-06T05:46:07.070918",
   "version": "2.3.4"
  }
 },
 "nbformat": 4,
 "nbformat_minor": 5
}
