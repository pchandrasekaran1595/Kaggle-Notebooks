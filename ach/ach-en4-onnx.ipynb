{
 "cells": [
  {
   "cell_type": "code",
   "execution_count": 1,
   "id": "8a9c7f49",
   "metadata": {
    "_cell_guid": "b1076dfc-b9ad-4769-8c92-a6c4dae69d19",
    "_uuid": "8f2839f25d086af736a60e9eeb907d3b93b6e0e5",
    "execution": {
     "iopub.execute_input": "2022-12-06T04:24:21.313881Z",
     "iopub.status.busy": "2022-12-06T04:24:21.313443Z",
     "iopub.status.idle": "2022-12-06T04:24:51.745759Z",
     "shell.execute_reply": "2022-12-06T04:24:51.744118Z"
    },
    "papermill": {
     "duration": 30.440154,
     "end_time": "2022-12-06T04:24:51.748741",
     "exception": false,
     "start_time": "2022-12-06T04:24:21.308587",
     "status": "completed"
    },
    "tags": []
   },
   "outputs": [
    {
     "name": "stderr",
     "output_type": "stream",
     "text": [
      "WARNING: Running pip as the 'root' user can result in broken permissions and conflicting behaviour with the system package manager. It is recommended to use a virtual environment instead: https://pip.pypa.io/warnings/venv\n",
      "WARNING: Running pip as the 'root' user can result in broken permissions and conflicting behaviour with the system package manager. It is recommended to use a virtual environment instead: https://pip.pypa.io/warnings/venv\n",
      "WARNING: Running pip as the 'root' user can result in broken permissions and conflicting behaviour with the system package manager. It is recommended to use a virtual environment instead: https://pip.pypa.io/warnings/venv\n"
     ]
    }
   ],
   "source": [
    "%%bash\n",
    "pip install timm -q\n",
    "pip install onnx -q\n",
    "pip install onnxruntime -q"
   ]
  },
  {
   "cell_type": "code",
   "execution_count": 2,
   "id": "30be5e5c",
   "metadata": {
    "execution": {
     "iopub.execute_input": "2022-12-06T04:24:51.756103Z",
     "iopub.status.busy": "2022-12-06T04:24:51.755694Z",
     "iopub.status.idle": "2022-12-06T04:24:55.324097Z",
     "shell.execute_reply": "2022-12-06T04:24:55.323032Z"
    },
    "papermill": {
     "duration": 3.575211,
     "end_time": "2022-12-06T04:24:55.326989",
     "exception": false,
     "start_time": "2022-12-06T04:24:51.751778",
     "status": "completed"
    },
    "tags": []
   },
   "outputs": [],
   "source": [
    "import os\n",
    "import sys\n",
    "import cv2\n",
    "import onnx\n",
    "import timm\n",
    "import torch\n",
    "import random as r\n",
    "import numpy as np\n",
    "import pandas as pd\n",
    "import onnxruntime as ort\n",
    "import matplotlib.pyplot as plt\n",
    "\n",
    "from typing import Union\n",
    "from torchvision import models\n",
    "from IPython.display import clear_output\n",
    "\n",
    "import warnings\n",
    "warnings.filterwarnings(\"ignore\")\n",
    "\n",
    "if not os.path.exists(\"onnx\"): os.makedirs(\"onnx\")"
   ]
  },
  {
   "cell_type": "code",
   "execution_count": 3,
   "id": "f300d233",
   "metadata": {
    "execution": {
     "iopub.execute_input": "2022-12-06T04:24:55.334496Z",
     "iopub.status.busy": "2022-12-06T04:24:55.333159Z",
     "iopub.status.idle": "2022-12-06T04:24:55.343028Z",
     "shell.execute_reply": "2022-12-06T04:24:55.341500Z"
    },
    "papermill": {
     "duration": 0.01563,
     "end_time": "2022-12-06T04:24:55.345206",
     "exception": false,
     "start_time": "2022-12-06T04:24:55.329576",
     "status": "completed"
    },
    "tags": []
   },
   "outputs": [],
   "source": [
    "labels: dict = {\n",
    "    0 : \"Anime\",\n",
    "    1 : \"Cartoon\",\n",
    "    2 : \"Human\"\n",
    "}\n",
    "    \n",
    "    \n",
    "def breaker() -> None:\n",
    "    print(\"\\n\" + 50*\"*\" + \"\\n\")\n",
    "\n",
    "\n",
    "def get_image(path: str, size: int=224) -> np.ndarray:\n",
    "    image = cv2.imread(path, cv2.IMREAD_COLOR)\n",
    "    image = cv2.cvtColor(src=image, code=cv2.COLOR_BGR2RGB)\n",
    "    return cv2.resize(src=image, dsize=(size, size), interpolation=cv2.INTER_AREA)\n",
    "\n",
    "\n",
    "def show_image(image: np.ndarray, cmap: str=\"gnuplot2\", title: Union[str, None]=None) -> None:\n",
    "    plt.figure()\n",
    "    plt.imshow(image, cmap=cmap)\n",
    "    plt.axis(\"off\")\n",
    "    if title: plt.title(title)\n",
    "    plt.show()"
   ]
  },
  {
   "cell_type": "code",
   "execution_count": 4,
   "id": "17a6b1e8",
   "metadata": {
    "execution": {
     "iopub.execute_input": "2022-12-06T04:24:55.352556Z",
     "iopub.status.busy": "2022-12-06T04:24:55.351573Z",
     "iopub.status.idle": "2022-12-06T04:24:55.359846Z",
     "shell.execute_reply": "2022-12-06T04:24:55.358702Z"
    },
    "papermill": {
     "duration": 0.013695,
     "end_time": "2022-12-06T04:24:55.361694",
     "exception": false,
     "start_time": "2022-12-06T04:24:55.347999",
     "status": "completed"
    },
    "tags": []
   },
   "outputs": [],
   "source": [
    "class Model(torch.nn.Module):\n",
    "    def __init__(self):\n",
    "        super(Model, self).__init__()\n",
    "        \n",
    "        self.model = timm.create_model(model_name=\"efficientnet_b4\", pretrained=False)\n",
    "        self.model.classifier = torch.nn.Linear(in_features=self.model.classifier.in_features, out_features=3)\n",
    "\n",
    "    def forward(self, x):\n",
    "        return self.model(x)\n",
    "\n",
    "    \n",
    "    \n",
    "class CFG(object):  \n",
    "    def __init__(\n",
    "        self, \n",
    "        in_channels: int=3, \n",
    "        size: int=256, \n",
    "        opset_version: int=9, \n",
    "        path: str=None\n",
    "    ):\n",
    "        self.in_channels = in_channels\n",
    "        self.size = size\n",
    "        self.dummy = torch.randn(1, self.in_channels, self.size, self.size)\n",
    "        self.opset_version = opset_version\n",
    "        self.path = path"
   ]
  },
  {
   "cell_type": "code",
   "execution_count": 5,
   "id": "a7c1d6f2",
   "metadata": {
    "execution": {
     "iopub.execute_input": "2022-12-06T04:24:55.368819Z",
     "iopub.status.busy": "2022-12-06T04:24:55.368261Z",
     "iopub.status.idle": "2022-12-06T04:28:06.196490Z",
     "shell.execute_reply": "2022-12-06T04:28:06.195523Z"
    },
    "papermill": {
     "duration": 190.834822,
     "end_time": "2022-12-06T04:28:06.199151",
     "exception": false,
     "start_time": "2022-12-06T04:24:55.364329",
     "status": "completed"
    },
    "tags": []
   },
   "outputs": [],
   "source": [
    "MODEL_BASE_PATH: str = \"/kaggle/input/ach-en4-a384-e10/saves\"\n",
    "MODEL_NAMES: list = os.listdir(MODEL_BASE_PATH)\n",
    "    \n",
    "for model_name in MODEL_NAMES:\n",
    "\n",
    "    cfg = CFG(\n",
    "        in_channels=3, \n",
    "        size=384, \n",
    "        opset_version=13, \n",
    "        path=f\"/kaggle/input/ach-en4-a384-e10/saves/{model_name}\"\n",
    "    )\n",
    "    \n",
    "    model = Model()\n",
    "    model.load_state_dict(torch.load(cfg.path, map_location=torch.device(\"cpu\"))[\"model_state_dict\"])\n",
    "    model.eval()\n",
    "\n",
    "    clear_output()\n",
    "    \n",
    "#     param_size = 0\n",
    "#     for param in model.parameters():\n",
    "#         param_size += param.nelement() * param.element_size()\n",
    "\n",
    "#     buffer_size = 0\n",
    "#     for buffer in model.buffers():\n",
    "#         buffer_size += buffer.nelement() * buffer.element_size()\n",
    "\n",
    "#     size_all_mb = (param_size + buffer_size) / 1024**2\n",
    "\n",
    "#     breaker()\n",
    "#     print(f\"Model size: {size_all_mb:.3f} MB\")\n",
    "#     breaker()\n",
    "\n",
    "    torch.onnx.export(\n",
    "        model=model, \n",
    "        args=cfg.dummy, \n",
    "        f=f\"onnx/ach-en4-{model_name.split('_')[0]}-f{model_name.split('_')[-1]}.onnx\", \n",
    "        input_names=[\"input\"], \n",
    "        output_names=[\"output\"], \n",
    "        opset_version=cfg.opset_version,\n",
    "        export_params=True,\n",
    "        training=torch.onnx.TrainingMode.EVAL,\n",
    "        operator_export_type=torch.onnx.OperatorExportTypes.ONNX_ATEN_FALLBACK,\n",
    "        dynamic_axes={\n",
    "          \"input\"  : {0 : \"batch_size\"},\n",
    "          \"output\" : {0 : \"batch_size\"},\n",
    "        }\n",
    "    )\n"
   ]
  },
  {
   "cell_type": "code",
   "execution_count": 6,
   "id": "2a67acb4",
   "metadata": {
    "execution": {
     "iopub.execute_input": "2022-12-06T04:28:06.206157Z",
     "iopub.status.busy": "2022-12-06T04:28:06.205753Z",
     "iopub.status.idle": "2022-12-06T04:28:06.216365Z",
     "shell.execute_reply": "2022-12-06T04:28:06.215093Z"
    },
    "papermill": {
     "duration": 0.016644,
     "end_time": "2022-12-06T04:28:06.218583",
     "exception": false,
     "start_time": "2022-12-06T04:28:06.201939",
     "status": "completed"
    },
    "tags": []
   },
   "outputs": [],
   "source": [
    "class OnnxModel(object):\n",
    "    def __init__(self, path: str) -> None:\n",
    "        self.ort_session = None\n",
    "        self.size: int = 384\n",
    "        \n",
    "        self.mean: list = [0.59090, 0.51873, 0.48801]\n",
    "        self.std: list  = [0.26181, 0.25198, 0.25229]\n",
    "        \n",
    "        self.path: str = path\n",
    "\n",
    "        ort.set_default_logger_severity(3)\n",
    "    \n",
    "    def setup(self) -> None:\n",
    "        model = onnx.load(self.path)\n",
    "        onnx.checker.check_model(model)\n",
    "        self.ort_session = ort.InferenceSession(self.path)\n",
    "    \n",
    "    def infer(self, image: np.ndarray, labels: dict) -> np.ndarray:\n",
    "        h, w, _ = image.shape\n",
    "\n",
    "        image = image / 255\n",
    "        image = cv2.resize(src=image, dsize=(self.size, self.size), interpolation=cv2.INTER_AREA).transpose(2, 0, 1)\n",
    "        for i in range(image.shape[0]): image[i, :, :] = (image[i, :, :] - self.mean[i]) / self.std[i]\n",
    "        image = np.expand_dims(image, axis=0)\n",
    "        input = {self.ort_session.get_inputs()[0].name : image.astype(\"float32\")}\n",
    "        return labels[np.argmax(self.ort_session.run(None, input))].title()"
   ]
  },
  {
   "cell_type": "code",
   "execution_count": 7,
   "id": "f392fcf7",
   "metadata": {
    "execution": {
     "iopub.execute_input": "2022-12-06T04:28:06.225153Z",
     "iopub.status.busy": "2022-12-06T04:28:06.224818Z",
     "iopub.status.idle": "2022-12-06T04:28:33.108909Z",
     "shell.execute_reply": "2022-12-06T04:28:33.107924Z"
    },
    "papermill": {
     "duration": 26.889698,
     "end_time": "2022-12-06T04:28:33.111044",
     "exception": false,
     "start_time": "2022-12-06T04:28:06.221346",
     "status": "completed"
    },
    "tags": []
   },
   "outputs": [
    {
     "name": "stdout",
     "output_type": "stream",
     "text": [
      "\n",
      "**************************************************\n",
      "\n",
      "ach-en4-bae-f5.pt.onnx\n",
      "\n",
      "\n",
      "**************************************************\n",
      "\n",
      "ach-en4-bae-f1.pt.onnx\n",
      "\n",
      "\n",
      "**************************************************\n",
      "\n",
      "ach-en4-bae-f3.pt.onnx\n",
      "\n",
      "\n",
      "**************************************************\n",
      "\n",
      "ach-en4-ble-f4.pt.onnx\n",
      "\n",
      "\n",
      "**************************************************\n",
      "\n",
      "ach-en4-bae-f2.pt.onnx\n",
      "\n",
      "\n",
      "**************************************************\n",
      "\n",
      "ach-en4-bae-f4.pt.onnx\n",
      "\n",
      "\n",
      "**************************************************\n",
      "\n",
      "ach-en4-ble-f3.pt.onnx\n",
      "\n",
      "\n",
      "**************************************************\n",
      "\n",
      "ach-en4-ble-f2.pt.onnx\n",
      "\n",
      "\n",
      "**************************************************\n",
      "\n",
      "ach-en4-ble-f5.pt.onnx\n",
      "\n",
      "\n",
      "**************************************************\n",
      "\n",
      "ach-en4-ble-f1.pt.onnx\n",
      "\n",
      "\n",
      "**************************************************\n",
      "\n"
     ]
    }
   ],
   "source": [
    "TEST_BASE_PATH: str = \"/kaggle/input/anime-and-cartoon-image-classification/Training Data\"\n",
    "\n",
    "    \n",
    "breaker()\n",
    "for model_name in os.listdir(\"onnx\"):\n",
    "    \n",
    "    print(f\"{model_name}\\n\")\n",
    "    \n",
    "    onnx_model = OnnxModel(f\"onnx/{model_name}\")\n",
    "    onnx_model.setup()\n",
    "    \n",
    "    for i in range(9):\n",
    "        \n",
    "        folder_1 = os.listdir(TEST_BASE_PATH)[r.randint(0, len(os.listdir(TEST_BASE_PATH)) - 1)]\n",
    "        folder_2 = os.listdir(f\"{TEST_BASE_PATH}/{folder_1}\")[r.randint(0, len(os.listdir(f\"{TEST_BASE_PATH}/{folder_1}\")) - 1)]\n",
    "        filename = os.listdir(f\"{TEST_BASE_PATH}/{folder_1}/{folder_2}\")[r.randint(0, len(os.listdir(f\"{TEST_BASE_PATH}/{folder_1}/{folder_2}\")) - 1)]\n",
    "\n",
    "        filepath = f\"{TEST_BASE_PATH}/{folder_1}/{folder_2}/{filename}\"\n",
    "\n",
    "        image = get_image(filepath, cfg.size)\n",
    "\n",
    "        y_pred = onnx_model.infer(image, labels)\n",
    "\n",
    "        # print(f\"{i+1}. Actual     : {folder_1}\") \n",
    "        # print(f\"{i+1}. Prediction : {y_pred}\")\n",
    "        # print(\"-\")\n",
    "\n",
    "    breaker()"
   ]
  }
 ],
 "metadata": {
  "kernelspec": {
   "display_name": "Python 3",
   "language": "python",
   "name": "python3"
  },
  "language_info": {
   "codemirror_mode": {
    "name": "ipython",
    "version": 3
   },
   "file_extension": ".py",
   "mimetype": "text/x-python",
   "name": "python",
   "nbconvert_exporter": "python",
   "pygments_lexer": "ipython3",
   "version": "3.7.12"
  },
  "papermill": {
   "default_parameters": {},
   "duration": 260.452068,
   "end_time": "2022-12-06T04:28:34.240285",
   "environment_variables": {},
   "exception": null,
   "input_path": "__notebook__.ipynb",
   "output_path": "__notebook__.ipynb",
   "parameters": {},
   "start_time": "2022-12-06T04:24:13.788217",
   "version": "2.3.4"
  }
 },
 "nbformat": 4,
 "nbformat_minor": 5
}
