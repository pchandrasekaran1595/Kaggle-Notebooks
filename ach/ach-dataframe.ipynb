{
 "cells": [
  {
   "cell_type": "code",
   "execution_count": 1,
   "id": "8854974a",
   "metadata": {
    "_cell_guid": "b1076dfc-b9ad-4769-8c92-a6c4dae69d19",
    "_uuid": "8f2839f25d086af736a60e9eeb907d3b93b6e0e5",
    "execution": {
     "iopub.execute_input": "2022-12-04T10:08:07.889062Z",
     "iopub.status.busy": "2022-12-04T10:08:07.888202Z",
     "iopub.status.idle": "2022-12-04T10:08:08.160153Z",
     "shell.execute_reply": "2022-12-04T10:08:08.158857Z"
    },
    "papermill": {
     "duration": 0.282313,
     "end_time": "2022-12-04T10:08:08.163352",
     "exception": false,
     "start_time": "2022-12-04T10:08:07.881039",
     "status": "completed"
    },
    "tags": []
   },
   "outputs": [],
   "source": [
    "import os\n",
    "import cv2\n",
    "import numpy as np\n",
    "import pandas as pd\n",
    "\n",
    "DATASET_PATH: str = \"/kaggle/input/anime-vs-cartoon-vs-human/Data\"\n",
    "\n",
    "LABELS: dict = {\n",
    "    0 : \"Anime\",\n",
    "    1 : \"Cartoon\",\n",
    "    2 : \"Human\",\n",
    "}"
   ]
  },
  {
   "cell_type": "code",
   "execution_count": 2,
   "id": "51ce97c7",
   "metadata": {
    "execution": {
     "iopub.execute_input": "2022-12-04T10:08:08.168858Z",
     "iopub.status.busy": "2022-12-04T10:08:08.168381Z",
     "iopub.status.idle": "2022-12-04T10:08:08.581736Z",
     "shell.execute_reply": "2022-12-04T10:08:08.580642Z"
    },
    "papermill": {
     "duration": 0.418971,
     "end_time": "2022-12-04T10:08:08.584437",
     "exception": false,
     "start_time": "2022-12-04T10:08:08.165466",
     "status": "completed"
    },
    "tags": []
   },
   "outputs": [],
   "source": [
    "df: pd.DataFrame = pd.DataFrame(data=None, columns=[\"filepaths\", \"labels\"])\n",
    "    \n",
    "filepaths: list = []\n",
    "labels: list = []\n",
    "    \n",
    "i: int = 0\n",
    "for folder in sorted(os.listdir(f\"{DATASET_PATH}\")):\n",
    "    for filename in os.listdir(f\"{DATASET_PATH}/{folder}\"):\n",
    "        filepaths.append(f\"{DATASET_PATH}/{folder}/{filename}\")\n",
    "        labels.append(i)\n",
    "    i += 1\n",
    "\n",
    "df.filepaths = filepaths\n",
    "df.labels = labels\n",
    "df.to_csv(\"dataframe.csv\", index=False)"
   ]
  }
 ],
 "metadata": {
  "kernelspec": {
   "display_name": "Python 3",
   "language": "python",
   "name": "python3"
  },
  "language_info": {
   "codemirror_mode": {
    "name": "ipython",
    "version": 3
   },
   "file_extension": ".py",
   "mimetype": "text/x-python",
   "name": "python",
   "nbconvert_exporter": "python",
   "pygments_lexer": "ipython3",
   "version": "3.7.12"
  },
  "papermill": {
   "default_parameters": {},
   "duration": 11.098708,
   "end_time": "2022-12-04T10:08:09.610660",
   "environment_variables": {},
   "exception": null,
   "input_path": "__notebook__.ipynb",
   "output_path": "__notebook__.ipynb",
   "parameters": {},
   "start_time": "2022-12-04T10:07:58.511952",
   "version": "2.3.4"
  }
 },
 "nbformat": 4,
 "nbformat_minor": 5
}
