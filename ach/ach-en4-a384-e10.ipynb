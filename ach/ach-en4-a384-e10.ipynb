{
 "cells": [
  {
   "cell_type": "markdown",
   "id": "31866d11",
   "metadata": {
    "_cell_guid": "b1076dfc-b9ad-4769-8c92-a6c4dae69d19",
    "_uuid": "8f2839f25d086af736a60e9eeb907d3b93b6e0e5",
    "papermill": {
     "duration": 0.006768,
     "end_time": "2022-12-04T10:45:01.262591",
     "exception": false,
     "start_time": "2022-12-04T10:45:01.255823",
     "status": "completed"
    },
    "tags": []
   },
   "source": [
    "### **Setup**"
   ]
  },
  {
   "cell_type": "code",
   "execution_count": 1,
   "id": "2d09c629",
   "metadata": {
    "execution": {
     "iopub.execute_input": "2022-12-04T10:45:01.277388Z",
     "iopub.status.busy": "2022-12-04T10:45:01.275486Z",
     "iopub.status.idle": "2022-12-04T10:45:13.420578Z",
     "shell.execute_reply": "2022-12-04T10:45:13.419059Z"
    },
    "papermill": {
     "duration": 12.154364,
     "end_time": "2022-12-04T10:45:13.422781",
     "exception": false,
     "start_time": "2022-12-04T10:45:01.268417",
     "status": "completed"
    },
    "tags": []
   },
   "outputs": [
    {
     "name": "stderr",
     "output_type": "stream",
     "text": [
      "WARNING: Running pip as the 'root' user can result in broken permissions and conflicting behaviour with the system package manager. It is recommended to use a virtual environment instead: https://pip.pypa.io/warnings/venv\n"
     ]
    }
   ],
   "source": [
    "%%bash\n",
    "pip install timm -q"
   ]
  },
  {
   "cell_type": "markdown",
   "id": "06627f9f",
   "metadata": {
    "papermill": {
     "duration": 0.003462,
     "end_time": "2022-12-04T10:45:13.430080",
     "exception": false,
     "start_time": "2022-12-04T10:45:13.426618",
     "status": "completed"
    },
    "tags": []
   },
   "source": [
    "### **Library Imports**"
   ]
  },
  {
   "cell_type": "code",
   "execution_count": 2,
   "id": "47ac3e55",
   "metadata": {
    "execution": {
     "iopub.execute_input": "2022-12-04T10:45:13.438782Z",
     "iopub.status.busy": "2022-12-04T10:45:13.438433Z",
     "iopub.status.idle": "2022-12-04T10:45:16.771202Z",
     "shell.execute_reply": "2022-12-04T10:45:16.770086Z"
    },
    "papermill": {
     "duration": 3.340138,
     "end_time": "2022-12-04T10:45:16.773768",
     "exception": false,
     "start_time": "2022-12-04T10:45:13.433630",
     "status": "completed"
    },
    "tags": []
   },
   "outputs": [],
   "source": [
    "import os\n",
    "import re\n",
    "import cv2\n",
    "import timm\n",
    "import torch\n",
    "import numpy as np\n",
    "import pandas as pd\n",
    "import matplotlib.pyplot as plt\n",
    "\n",
    "from time import time\n",
    "from typing import Union\n",
    "from torch import nn, optim\n",
    "from torch.utils.data import Dataset\n",
    "from torch.utils.data import DataLoader as DL\n",
    "from torchvision import transforms\n",
    "\n",
    "from sklearn.model_selection import KFold"
   ]
  },
  {
   "cell_type": "markdown",
   "id": "29420ce6",
   "metadata": {
    "papermill": {
     "duration": 0.003562,
     "end_time": "2022-12-04T10:45:16.781403",
     "exception": false,
     "start_time": "2022-12-04T10:45:16.777841",
     "status": "completed"
    },
    "tags": []
   },
   "source": [
    "### **Utilities and Helpers**"
   ]
  },
  {
   "cell_type": "code",
   "execution_count": 3,
   "id": "370ff797",
   "metadata": {
    "execution": {
     "iopub.execute_input": "2022-12-04T10:45:16.790921Z",
     "iopub.status.busy": "2022-12-04T10:45:16.790025Z",
     "iopub.status.idle": "2022-12-04T10:45:16.803494Z",
     "shell.execute_reply": "2022-12-04T10:45:16.802654Z"
    },
    "papermill": {
     "duration": 0.020522,
     "end_time": "2022-12-04T10:45:16.805679",
     "exception": false,
     "start_time": "2022-12-04T10:45:16.785157",
     "status": "completed"
    },
    "tags": []
   },
   "outputs": [],
   "source": [
    "SEED: int = 42\n",
    "SIZE: int = 384\n",
    "\n",
    "\n",
    "def breaker(num: int=50, char: str=\"*\") -> None: print(\"\\n\" + num*char + \"\\n\")\n",
    "\n",
    "    \n",
    "def get_image(path: str, size: int=224) -> np.ndarray:\n",
    "    image = cv2.imread(path, cv2.IMREAD_COLOR)\n",
    "    image = cv2.cvtColor(src=image, code=cv2.COLOR_BGR2RGB)\n",
    "    return cv2.resize(src=image, dsize=(size, size), interpolation=cv2.INTER_AREA)\n",
    "\n",
    "    \n",
    "def show_loss_graphs(L: list) -> None:\n",
    "    TL, VL = [], []\n",
    "    for i in range(len(L)):\n",
    "        TL.append(L[i][\"train\"])\n",
    "        VL.append(L[i][\"valid\"])\n",
    "    x_Axis = np.arange(1, len(TL) + 1)\n",
    "    plt.figure()\n",
    "    plt.plot(x_Axis, TL, \"r\", label=\"Train\")\n",
    "    plt.plot(x_Axis, VL, \"b\", label=\"Valid\")\n",
    "    plt.legend()\n",
    "    plt.grid()\n",
    "    plt.title(\"Loss Graph\")\n",
    "    plt.show()\n",
    "\n",
    "    \n",
    "def show_accuracy_graphs(A: list) -> None:\n",
    "    TA, VA = [], []\n",
    "    for i in range(len(A)):\n",
    "        TA.append(A[i][\"train\"])\n",
    "        VA.append(A[i][\"valid\"])\n",
    "    x_Axis = np.arange(1, len(TA) + 1)\n",
    "    plt.figure()\n",
    "    plt.plot(x_Axis, TA, \"r\", label=\"Train\")\n",
    "    plt.plot(x_Axis, VA, \"b\", label=\"Valid\")\n",
    "    plt.legend()\n",
    "    plt.grid()\n",
    "    plt.title(\"Accuracy Graph\")\n",
    "    plt.show()\n",
    "    \n",
    "\n",
    "def show_lr_graph(LR: list) -> None:\n",
    "    x_Axis = [i+1 for i in range(len(LR))]\n",
    "    plt.figure(figsize=(8, 6))\n",
    "    plt.plot(x_Axis, LR, \"rx\")\n",
    "    plt.grid()\n",
    "    plt.show()"
   ]
  },
  {
   "cell_type": "markdown",
   "id": "6b74c02b",
   "metadata": {
    "papermill": {
     "duration": 0.003761,
     "end_time": "2022-12-04T10:45:16.813303",
     "exception": false,
     "start_time": "2022-12-04T10:45:16.809542",
     "status": "completed"
    },
    "tags": []
   },
   "source": [
    "\n",
    "\n",
    "### **Configuration**"
   ]
  },
  {
   "cell_type": "code",
   "execution_count": 4,
   "id": "98a0736d",
   "metadata": {
    "execution": {
     "iopub.execute_input": "2022-12-04T10:45:16.822454Z",
     "iopub.status.busy": "2022-12-04T10:45:16.822127Z",
     "iopub.status.idle": "2022-12-04T10:45:16.914411Z",
     "shell.execute_reply": "2022-12-04T10:45:16.913212Z"
    },
    "papermill": {
     "duration": 0.102043,
     "end_time": "2022-12-04T10:45:16.919052",
     "exception": false,
     "start_time": "2022-12-04T10:45:16.817009",
     "status": "completed"
    },
    "tags": []
   },
   "outputs": [],
   "source": [
    "class CFG(object):\n",
    "    def __init__(self, \n",
    "                 seed: int = 42,\n",
    "                 size: int = 224,\n",
    "                 n_splits: int = 5,\n",
    "                 batch_size: int = 16,\n",
    "                 epochs: int = 25,\n",
    "                 early_stopping: int = 5,\n",
    "                 lr: float = 1e-4,\n",
    "                 wd: float = 0.0,\n",
    "                 max_lr: float = 1e-3,\n",
    "                 pct_start: float = 0.2,\n",
    "                 steps_per_epoch: int = 100,\n",
    "                 div_factor: int = 1e3, \n",
    "                 final_div_factor: float = 1e3,\n",
    "                 ):\n",
    "        self.seed = seed\n",
    "        self.size = size\n",
    "        self.n_splits = n_splits\n",
    "        self.batch_size = batch_size\n",
    "        self.epochs = epochs\n",
    "        self.early_stopping = early_stopping\n",
    "        self.lr = lr\n",
    "        self.wd = wd\n",
    "        self.max_lr = max_lr\n",
    "        self.pct_start = pct_start\n",
    "        self.steps_per_epoch = steps_per_epoch\n",
    "        self.div_factor = div_factor\n",
    "        self.final_div_factor = final_div_factor\n",
    "        self.device = torch.device(\"cuda\" if torch.cuda.is_available() else \"cpu\")\n",
    "        \n",
    "        if self.size == 224:\n",
    "            self.train_transform = transforms.Compose([\n",
    "                transforms.ToTensor(),\n",
    "                transforms.Normalize([0.59084, 0.51867, 0.48795], [0.26035, 0.25051, 0.25087]),\n",
    "                transforms.RandomAffine(degrees=(-45, 45), translate=(0.15, 0.15), scale=(0.5, 1.5)),\n",
    "                transforms.RandomHorizontalFlip(p=0.25),\n",
    "                transforms.RandomVerticalFlip(p=0.25),\n",
    "            ])\n",
    "            self.valid_transform = transforms.Compose([\n",
    "                transforms.ToTensor(),\n",
    "                transforms.Normalize([0.59084, 0.51867, 0.48795], [0.26035, 0.25051, 0.25087]),\n",
    "            ])\n",
    "        \n",
    "        if self.size == 384:\n",
    "            self.train_transform = transforms.Compose([\n",
    "                transforms.ToTensor(),\n",
    "                transforms.Normalize([0.59090, 0.51873, 0.48801], [0.26181, 0.25198, 0.25229]),\n",
    "                transforms.RandomAffine(degrees=(-45, 45), translate=(0.15, 0.15), scale=(0.5, 1.5)),\n",
    "                transforms.RandomHorizontalFlip(p=0.25),\n",
    "                transforms.RandomVerticalFlip(p=0.25),\n",
    "            ])\n",
    "            self.valid_transform = transforms.Compose([\n",
    "                transforms.ToTensor(),\n",
    "                transforms.Normalize([0.59090, 0.51873, 0.48801], [0.26181, 0.25198, 0.25229]),\n",
    "            ])\n",
    "        \n",
    "        if self.size == 512:\n",
    "            self.train_transform = transforms.Compose([\n",
    "                transforms.ToTensor(),\n",
    "                transforms.Normalize([0.59108, 0.51891, 0.48819], [0.26242, 0.25261, 0.25290]),\n",
    "                transforms.RandomAffine(degrees=(-45, 45), translate=(0.15, 0.15), scale=(0.5, 1.5)),\n",
    "                transforms.RandomHorizontalFlip(p=0.25),\n",
    "                transforms.RandomVerticalFlip(p=0.25),\n",
    "            ])\n",
    "            self.valid_transform = transforms.Compose([\n",
    "                transforms.ToTensor(),\n",
    "                transforms.Normalize([0.59108, 0.51891, 0.48819], [0.26242, 0.25261, 0.25290]),\n",
    "            ])\n",
    "                                \n",
    "        self.save_path = \"saves\"\n",
    "        if not os.path.exists(self.save_path): os.makedirs(self.save_path)\n",
    "    \n",
    "cfg = CFG(\n",
    "    seed=SEED, \n",
    "    size=SIZE\n",
    ")"
   ]
  },
  {
   "cell_type": "markdown",
   "id": "63c495d7",
   "metadata": {
    "papermill": {
     "duration": 0.008969,
     "end_time": "2022-12-04T10:45:16.939991",
     "exception": false,
     "start_time": "2022-12-04T10:45:16.931022",
     "status": "completed"
    },
    "tags": []
   },
   "source": [
    "### **Dataset Template**"
   ]
  },
  {
   "cell_type": "code",
   "execution_count": 5,
   "id": "2e554255",
   "metadata": {
    "execution": {
     "iopub.execute_input": "2022-12-04T10:45:16.954649Z",
     "iopub.status.busy": "2022-12-04T10:45:16.954218Z",
     "iopub.status.idle": "2022-12-04T10:45:16.962999Z",
     "shell.execute_reply": "2022-12-04T10:45:16.962305Z"
    },
    "papermill": {
     "duration": 0.019165,
     "end_time": "2022-12-04T10:45:16.965460",
     "exception": false,
     "start_time": "2022-12-04T10:45:16.946295",
     "status": "completed"
    },
    "tags": []
   },
   "outputs": [],
   "source": [
    "class DS(Dataset):\n",
    "    def __init__(\n",
    "        self, \n",
    "        filepaths: np.ndarray, \n",
    "        size: int,\n",
    "        labels: Union[np.ndarray, None]=None, \n",
    "        transform=None\n",
    "    ):\n",
    "        \n",
    "        self.filepaths = filepaths\n",
    "        self.labels = labels\n",
    "        self.size = size\n",
    "        self.transform = transform\n",
    "    \n",
    "    def __len__(self):\n",
    "        return self.filepaths.shape[0]\n",
    "    \n",
    "    def __getitem__(self, idx):\n",
    "        image = get_image(self.filepaths[idx], self.size)\n",
    "        if self.labels is None:\n",
    "            return self.transform(image)\n",
    "        return self.transform(image), torch.LongTensor(self.labels[idx])"
   ]
  },
  {
   "cell_type": "markdown",
   "id": "703d38ee",
   "metadata": {
    "papermill": {
     "duration": 0.005356,
     "end_time": "2022-12-04T10:45:16.976807",
     "exception": false,
     "start_time": "2022-12-04T10:45:16.971451",
     "status": "completed"
    },
    "tags": []
   },
   "source": [
    "### **Model**"
   ]
  },
  {
   "cell_type": "code",
   "execution_count": 6,
   "id": "70ea6096",
   "metadata": {
    "execution": {
     "iopub.execute_input": "2022-12-04T10:45:16.989022Z",
     "iopub.status.busy": "2022-12-04T10:45:16.988706Z",
     "iopub.status.idle": "2022-12-04T10:45:16.996822Z",
     "shell.execute_reply": "2022-12-04T10:45:16.995910Z"
    },
    "papermill": {
     "duration": 0.016866,
     "end_time": "2022-12-04T10:45:16.999192",
     "exception": false,
     "start_time": "2022-12-04T10:45:16.982326",
     "status": "completed"
    },
    "tags": []
   },
   "outputs": [],
   "source": [
    "class Model(nn.Module):\n",
    "    def __init__(self):\n",
    "        super(Model, self).__init__()\n",
    "            \n",
    "        self.model = timm.create_model(model_name=\"efficientnet_b4\", pretrained=True)\n",
    "        self.model.classifier = nn.Linear(in_features=self.model.classifier.in_features, out_features=3)\n",
    "\n",
    "    def forward(self, x):\n",
    "        return nn.LogSoftmax(dim=1)(self.model(x))"
   ]
  },
  {
   "cell_type": "markdown",
   "id": "dc86c67a",
   "metadata": {
    "papermill": {
     "duration": 0.005158,
     "end_time": "2022-12-04T10:45:17.009826",
     "exception": false,
     "start_time": "2022-12-04T10:45:17.004668",
     "status": "completed"
    },
    "tags": []
   },
   "source": [
    "### **Fit and Predict**"
   ]
  },
  {
   "cell_type": "code",
   "execution_count": 7,
   "id": "f3053422",
   "metadata": {
    "execution": {
     "iopub.execute_input": "2022-12-04T10:45:17.022198Z",
     "iopub.status.busy": "2022-12-04T10:45:17.021892Z",
     "iopub.status.idle": "2022-12-04T10:45:17.053529Z",
     "shell.execute_reply": "2022-12-04T10:45:17.052529Z"
    },
    "papermill": {
     "duration": 0.040358,
     "end_time": "2022-12-04T10:45:17.055596",
     "exception": false,
     "start_time": "2022-12-04T10:45:17.015238",
     "status": "completed"
    },
    "tags": []
   },
   "outputs": [],
   "source": [
    "def fit(\n",
    "    model=None,\n",
    "    optimizer=None, \n",
    "    scheduler_rlrop=None,\n",
    "    scheduler_oclr=None,\n",
    "    epochs=None, \n",
    "    early_stopping_patience=None, \n",
    "    dataloaders=None, \n",
    "    fold=None, \n",
    "    save_path=None,\n",
    "    device=None,\n",
    "    verbose=False\n",
    ") -> tuple:\n",
    "    \n",
    "    def get_accuracy(y_pred, y_true):\n",
    "        y_pred = torch.argmax(y_pred, dim=1)\n",
    "        return torch.count_nonzero(y_pred == y_true).item() / len(y_pred)\n",
    "    \n",
    "    \n",
    "    if verbose:\n",
    "        breaker()\n",
    "        if fold: print(f\"Training Fold {fold}...\")\n",
    "        else: print(\"Training ...\")\n",
    "        breaker()\n",
    "        \n",
    "    bestLoss: dict = {\"train\" : np.inf, \"valid\" : np.inf} \n",
    "    bestAccs: dict = {\"train\" : 0.0, \"valid\" : 0.0}\n",
    "    \n",
    "    Losses: list = []\n",
    "    Accuracies: list = [] \n",
    "    LRs: list = []\n",
    "        \n",
    "    if fold: \n",
    "        ble_name = f\"ble_state_fold_{fold}.pt\"\n",
    "        bae_name = f\"bae_state_fold_{fold}.pt\"\n",
    "    else: \n",
    "        ble_name = f\"ble_state.pt\"\n",
    "        bae_name = f\"bae_state.pt\"\n",
    "        \n",
    "    start_time = time()\n",
    "    for e in range(epochs):\n",
    "        e_st = time()\n",
    "        epochLoss: dict = {\"train\" : 0.0, \"valid\" : 0.0} \n",
    "        epochAccs: dict = {\"train\" : 0.0, \"valid\" : 0.0}\n",
    "\n",
    "        for phase in [\"train\", \"valid\"]:\n",
    "            if phase == \"train\":\n",
    "                model.train()\n",
    "            else:\n",
    "                model.eval()\n",
    "            \n",
    "            lossPerPass: list = []\n",
    "            accsPerPass: list = []\n",
    "                \n",
    "            for X, y in dataloaders[phase]:\n",
    "                X, y = X.to(device), y.to(device).view(-1)\n",
    "\n",
    "                optimizer.zero_grad()\n",
    "                with torch.set_grad_enabled(phase == \"train\"):\n",
    "                    output = model(X)\n",
    "                    loss = nn.NLLLoss()(output, y)\n",
    "                    if phase == \"train\":\n",
    "                        loss.backward()\n",
    "                        optimizer.step()\n",
    "                        if scheduler_oclr: scheduler_oclr.step()\n",
    "                lossPerPass.append(loss.item())\n",
    "                accsPerPass.append(get_accuracy(output, y))\n",
    "            epochLoss[phase] = np.mean(np.array(lossPerPass))\n",
    "            epochAccs[phase] = np.mean(np.array(accsPerPass))\n",
    "        if scheduler_oclr: LRs.append(scheduler_oclr.get_last_lr())\n",
    "        Losses.append(epochLoss)\n",
    "        Accuracies.append(epochAccs)\n",
    "        \n",
    "        if scheduler_oclr:\n",
    "            save_dict = {\"model_state_dict\"     : model.state_dict(),\n",
    "                         \"optim_state_dict\"     : optimizer.state_dict(),\n",
    "                         \"scheduler_state_dict\" : scheduler_oclr.state_dict()}\n",
    "        \n",
    "        elif scheduler_rlrop:\n",
    "            save_dict = {\"model_state_dict\"     : model.state_dict(),\n",
    "                         \"optim_state_dict\"     : optimizer.state_dict(),\n",
    "                         \"scheduler_state_dict\" : scheduler_rlrop.state_dict()}\n",
    "        \n",
    "        else:\n",
    "            save_dict = {\"model_state_dict\"     : model.state_dict(),\n",
    "                         \"optim_state_dict\"     : optimizer.state_dict()}\n",
    "        \n",
    "        if early_stopping_patience:\n",
    "            if epochLoss[\"valid\"] < bestLoss[\"valid\"]:\n",
    "                bestLoss = epochLoss\n",
    "                BLE = e + 1\n",
    "                torch.save(save_dict, os.path.join(save_path, ble_name))\n",
    "                torch.save(save_dict, os.path.join(save_path, bae_name))\n",
    "                early_stopping_step = 0\n",
    "            else:\n",
    "                early_stopping_step += 1\n",
    "                if early_stopping_step > early_stopping_patience:\n",
    "                    print(\"\\nEarly Stopping at Epoch {}\".format(e + 1))\n",
    "                    break\n",
    "        \n",
    "        if epochLoss[\"valid\"] < bestLoss[\"valid\"]:\n",
    "            bestLoss = epochLoss\n",
    "            BLE = e + 1\n",
    "            torch.save(save_dict,os.path.join(save_path, ble_name))\n",
    "        \n",
    "        if epochAccs[\"valid\"] > bestAccs[\"valid\"]:\n",
    "            bestAccs = epochAccs\n",
    "            BAE = e + 1\n",
    "            torch.save(save_dict,os.path.join(save_path, bae_name))\n",
    "        \n",
    "        if scheduler_rlrop: scheduler_rlrop.step(epochLoss[\"valid\"])\n",
    "        \n",
    "        if verbose:\n",
    "            print(\"Epoch: {} | Train Loss: {:.5f} | Valid Loss: {:.5f} |\\\n",
    " Train Accs: {:.5f} | Valid Accs: {:.5f} | Time: {:.2f} seconds\".format(e+1, \n",
    "                                                                        epochLoss[\"train\"], epochLoss[\"valid\"], \n",
    "                                                                        epochAccs[\"train\"], epochAccs[\"valid\"], \n",
    "                                                                        time()-e_st))\n",
    "\n",
    "    if verbose:                                           \n",
    "        breaker()\n",
    "        print(f\"Best Validation Loss at Epoch {BLE}\")\n",
    "        breaker()\n",
    "        print(f\"Best Validation Accs at Epoch {BAE}\")\n",
    "        breaker()\n",
    "        print(\"Time Taken [{} Epochs] : {:.2f} minutes\".format(len(Losses), (time()-start_time)/60))\n",
    "    \n",
    "    return Losses, Accuracies, LRs, bestLoss, bestAccs, BLE, BAE, ble_name, bae_name\n",
    "\n",
    "\n",
    "# def predict_batch(model=None, dataloader=None, path=None, device=None) -> np.ndarray:\n",
    "#     model.load_state_dict(torch.load(path, map_location=device)[\"model_state_dict\"])\n",
    "#     model.to(device)    \n",
    "#     model.eval()\n",
    "    \n",
    "#     y_pred = torch.zeros(1, 1).to(device)\n",
    "    \n",
    "#     for X in dataloader:\n",
    "#         X = X.to(device)\n",
    "#         with torch.no_grad():\n",
    "#             output = torch.argmax(torch.exp(model(X)), dim=1)\n",
    "#         y_pred = torch.cat((y_pred, output.view(-1, 1)), dim=0)\n",
    "    \n",
    "#     return y_pred[1:].detach().cpu().numpy()"
   ]
  },
  {
   "cell_type": "markdown",
   "id": "60833877",
   "metadata": {
    "papermill": {
     "duration": 0.005223,
     "end_time": "2022-12-04T10:45:17.067470",
     "exception": false,
     "start_time": "2022-12-04T10:45:17.062247",
     "status": "completed"
    },
    "tags": []
   },
   "source": [
    "### **Train**"
   ]
  },
  {
   "cell_type": "code",
   "execution_count": 8,
   "id": "ed0084c2",
   "metadata": {
    "execution": {
     "iopub.execute_input": "2022-12-04T10:45:17.079776Z",
     "iopub.status.busy": "2022-12-04T10:45:17.079238Z",
     "iopub.status.idle": "2022-12-04T10:45:17.126721Z",
     "shell.execute_reply": "2022-12-04T10:45:17.125779Z"
    },
    "papermill": {
     "duration": 0.0566,
     "end_time": "2022-12-04T10:45:17.129473",
     "exception": false,
     "start_time": "2022-12-04T10:45:17.072873",
     "status": "completed"
    },
    "tags": []
   },
   "outputs": [],
   "source": [
    "df = pd.read_csv(\"/kaggle/input/ach-dataframe/dataframe.csv\")\n",
    "\n",
    "filepaths = df.filepaths.copy().values\n",
    "labels = df.labels.copy().values"
   ]
  },
  {
   "cell_type": "code",
   "execution_count": 9,
   "id": "0e2ce237",
   "metadata": {
    "execution": {
     "iopub.execute_input": "2022-12-04T10:45:17.143045Z",
     "iopub.status.busy": "2022-12-04T10:45:17.142088Z",
     "iopub.status.idle": "2022-12-04T17:12:10.624099Z",
     "shell.execute_reply": "2022-12-04T17:12:10.623178Z"
    },
    "papermill": {
     "duration": 23213.490874,
     "end_time": "2022-12-04T17:12:10.626241",
     "exception": false,
     "start_time": "2022-12-04T10:45:17.135367",
     "status": "completed"
    },
    "tags": []
   },
   "outputs": [
    {
     "name": "stderr",
     "output_type": "stream",
     "text": [
      "Downloading: \"https://github.com/rwightman/pytorch-image-models/releases/download/v0.1-weights/efficientnet_b4_ra2_320-7eb33cd5.pth\" to /root/.cache/torch/hub/checkpoints/efficientnet_b4_ra2_320-7eb33cd5.pth\n"
     ]
    },
    {
     "name": "stdout",
     "output_type": "stream",
     "text": [
      "\n",
      "**************************************************\n",
      "\n",
      "Training Fold 1...\n",
      "\n",
      "**************************************************\n",
      "\n",
      "Epoch: 1 | Train Loss: 0.38024 | Valid Loss: 0.00076 | Train Accs: 0.88719 | Valid Accs: 1.00000 | Time: 518.94 seconds\n",
      "Epoch: 2 | Train Loss: 0.02678 | Valid Loss: 0.00149 | Train Accs: 0.99313 | Valid Accs: 0.99944 | Time: 472.19 seconds\n",
      "Epoch: 3 | Train Loss: 0.01611 | Valid Loss: 0.00078 | Train Accs: 0.99580 | Valid Accs: 1.00000 | Time: 465.42 seconds\n",
      "Epoch: 4 | Train Loss: 0.01942 | Valid Loss: 0.00284 | Train Accs: 0.99524 | Valid Accs: 0.99944 | Time: 466.40 seconds\n",
      "Epoch: 5 | Train Loss: 0.01916 | Valid Loss: 0.00224 | Train Accs: 0.99566 | Valid Accs: 0.99944 | Time: 465.34 seconds\n",
      "Epoch: 6 | Train Loss: 0.00445 | Valid Loss: 0.00022 | Train Accs: 0.99846 | Valid Accs: 1.00000 | Time: 466.95 seconds\n",
      "Epoch: 7 | Train Loss: 0.00170 | Valid Loss: 0.00042 | Train Accs: 0.99930 | Valid Accs: 1.00000 | Time: 463.91 seconds\n",
      "Epoch: 8 | Train Loss: 0.00081 | Valid Loss: 0.00029 | Train Accs: 0.99986 | Valid Accs: 1.00000 | Time: 459.19 seconds\n",
      "Epoch: 9 | Train Loss: 0.00015 | Valid Loss: 0.00006 | Train Accs: 1.00000 | Valid Accs: 1.00000 | Time: 457.51 seconds\n",
      "Epoch: 10 | Train Loss: 0.00031 | Valid Loss: 0.00080 | Train Accs: 0.99986 | Valid Accs: 0.99944 | Time: 454.04 seconds\n",
      "\n",
      "**************************************************\n",
      "\n",
      "Best Validation Loss at Epoch 9\n",
      "\n",
      "**************************************************\n",
      "\n",
      "Best Validation Accs at Epoch 1\n",
      "\n",
      "**************************************************\n",
      "\n",
      "Time Taken [10 Epochs] : 78.17 minutes\n",
      "\n",
      "**************************************************\n",
      "\n"
     ]
    },
    {
     "data": {
      "image/png": "[encoded data removed]",
      "text/plain": [
       "<Figure size 432x288 with 1 Axes>"
      ]
     },
     "metadata": {
      "needs_background": "light"
     },
     "output_type": "display_data"
    },
    {
     "name": "stdout",
     "output_type": "stream",
     "text": [
      "\n",
      "**************************************************\n",
      "\n"
     ]
    },
    {
     "data": {
      "image/png": "[encoded data removed]",
      "text/plain": [
       "<Figure size 432x288 with 1 Axes>"
      ]
     },
     "metadata": {
      "needs_background": "light"
     },
     "output_type": "display_data"
    },
    {
     "name": "stdout",
     "output_type": "stream",
     "text": [
      "\n",
      "**************************************************\n",
      "\n"
     ]
    },
    {
     "data": {
      "image/png": "[encoded data removed]",
      "text/plain": [
       "<Figure size 576x432 with 1 Axes>"
      ]
     },
     "metadata": {
      "needs_background": "light"
     },
     "output_type": "display_data"
    },
    {
     "name": "stdout",
     "output_type": "stream",
     "text": [
      "\n",
      "**************************************************\n",
      "\n",
      "\n",
      "**************************************************\n",
      "\n",
      "Training Fold 2...\n",
      "\n",
      "**************************************************\n",
      "\n",
      "Epoch: 1 | Train Loss: 0.38060 | Valid Loss: 0.00203 | Train Accs: 0.89098 | Valid Accs: 0.99944 | Time: 458.66 seconds\n",
      "Epoch: 2 | Train Loss: 0.01722 | Valid Loss: 0.00864 | Train Accs: 0.99453 | Valid Accs: 0.99944 | Time: 460.37 seconds\n",
      "Epoch: 3 | Train Loss: 0.01898 | Valid Loss: 0.00031 | Train Accs: 0.99439 | Valid Accs: 1.00000 | Time: 463.03 seconds\n",
      "Epoch: 4 | Train Loss: 0.00358 | Valid Loss: 0.00005 | Train Accs: 0.99888 | Valid Accs: 1.00000 | Time: 466.94 seconds\n",
      "Epoch: 5 | Train Loss: 0.02914 | Valid Loss: 0.00558 | Train Accs: 0.99453 | Valid Accs: 0.99833 | Time: 464.58 seconds\n",
      "Epoch: 6 | Train Loss: 0.00842 | Valid Loss: 0.00194 | Train Accs: 0.99734 | Valid Accs: 0.99888 | Time: 467.29 seconds\n",
      "Epoch: 7 | Train Loss: 0.00253 | Valid Loss: 0.00008 | Train Accs: 0.99874 | Valid Accs: 1.00000 | Time: 468.42 seconds\n",
      "Epoch: 8 | Train Loss: 0.00053 | Valid Loss: 0.00049 | Train Accs: 0.99972 | Valid Accs: 0.99944 | Time: 463.58 seconds\n",
      "Epoch: 9 | Train Loss: 0.00459 | Valid Loss: 0.00007 | Train Accs: 0.99930 | Valid Accs: 1.00000 | Time: 464.35 seconds\n",
      "\n",
      "Early Stopping at Epoch 10\n",
      "\n",
      "**************************************************\n",
      "\n",
      "Best Validation Loss at Epoch 4\n",
      "\n",
      "**************************************************\n",
      "\n",
      "Best Validation Accs at Epoch 3\n",
      "\n",
      "**************************************************\n",
      "\n",
      "Time Taken [10 Epochs] : 77.34 minutes\n",
      "\n",
      "**************************************************\n",
      "\n"
     ]
    },
    {
     "data": {
      "image/png": "[encoded data removed]",
      "text/plain": [
       "<Figure size 432x288 with 1 Axes>"
      ]
     },
     "metadata": {
      "needs_background": "light"
     },
     "output_type": "display_data"
    },
    {
     "name": "stdout",
     "output_type": "stream",
     "text": [
      "\n",
      "**************************************************\n",
      "\n"
     ]
    },
    {
     "data": {
      "image/png": "[encoded data removed]",
      "text/plain": [
       "<Figure size 432x288 with 1 Axes>"
      ]
     },
     "metadata": {
      "needs_background": "light"
     },
     "output_type": "display_data"
    },
    {
     "name": "stdout",
     "output_type": "stream",
     "text": [
      "\n",
      "**************************************************\n",
      "\n"
     ]
    },
    {
     "data": {
      "image/png": "[encoded data removed]",
      "text/plain": [
       "<Figure size 576x432 with 1 Axes>"
      ]
     },
     "metadata": {
      "needs_background": "light"
     },
     "output_type": "display_data"
    },
    {
     "name": "stdout",
     "output_type": "stream",
     "text": [
      "\n",
      "**************************************************\n",
      "\n",
      "\n",
      "**************************************************\n",
      "\n",
      "Training Fold 3...\n",
      "\n",
      "**************************************************\n",
      "\n",
      "Epoch: 1 | Train Loss: 0.38333 | Valid Loss: 0.00152 | Train Accs: 0.88607 | Valid Accs: 1.00000 | Time: 462.88 seconds\n",
      "Epoch: 2 | Train Loss: 0.01931 | Valid Loss: 0.00405 | Train Accs: 0.99369 | Valid Accs: 0.99944 | Time: 460.75 seconds\n",
      "Epoch: 3 | Train Loss: 0.00813 | Valid Loss: 0.00321 | Train Accs: 0.99790 | Valid Accs: 0.99888 | Time: 477.07 seconds\n",
      "Epoch: 4 | Train Loss: 0.02500 | Valid Loss: 0.02818 | Train Accs: 0.99510 | Valid Accs: 0.99330 | Time: 473.58 seconds\n",
      "Epoch: 5 | Train Loss: 0.00915 | Valid Loss: 0.00059 | Train Accs: 0.99748 | Valid Accs: 0.99944 | Time: 460.08 seconds\n",
      "Epoch: 6 | Train Loss: 0.01344 | Valid Loss: 0.01479 | Train Accs: 0.99776 | Valid Accs: 0.99833 | Time: 459.61 seconds\n",
      "Epoch: 7 | Train Loss: 0.00431 | Valid Loss: 0.00208 | Train Accs: 0.99846 | Valid Accs: 0.99888 | Time: 463.13 seconds\n",
      "Epoch: 8 | Train Loss: 0.00803 | Valid Loss: 0.00040 | Train Accs: 0.99902 | Valid Accs: 1.00000 | Time: 464.03 seconds\n",
      "Epoch: 9 | Train Loss: 0.00031 | Valid Loss: 0.00017 | Train Accs: 1.00000 | Valid Accs: 1.00000 | Time: 461.79 seconds\n",
      "Epoch: 10 | Train Loss: 0.00025 | Valid Loss: 0.00007 | Train Accs: 1.00000 | Valid Accs: 1.00000 | Time: 462.78 seconds\n",
      "\n",
      "**************************************************\n",
      "\n",
      "Best Validation Loss at Epoch 10\n",
      "\n",
      "**************************************************\n",
      "\n",
      "Best Validation Accs at Epoch 1\n",
      "\n",
      "**************************************************\n",
      "\n",
      "Time Taken [10 Epochs] : 77.43 minutes\n",
      "\n",
      "**************************************************\n",
      "\n"
     ]
    },
    {
     "data": {
      "image/png": "[encoded data removed]",
      "text/plain": [
       "<Figure size 432x288 with 1 Axes>"
      ]
     },
     "metadata": {
      "needs_background": "light"
     },
     "output_type": "display_data"
    },
    {
     "name": "stdout",
     "output_type": "stream",
     "text": [
      "\n",
      "**************************************************\n",
      "\n"
     ]
    },
    {
     "data": {
      "image/png": "[encoded data removed]",
      "text/plain": [
       "<Figure size 432x288 with 1 Axes>"
      ]
     },
     "metadata": {
      "needs_background": "light"
     },
     "output_type": "display_data"
    },
    {
     "name": "stdout",
     "output_type": "stream",
     "text": [
      "\n",
      "**************************************************\n",
      "\n"
     ]
    },
    {
     "data": {
      "image/png": "[encoded data removed]",
      "text/plain": [
       "<Figure size 576x432 with 1 Axes>"
      ]
     },
     "metadata": {
      "needs_background": "light"
     },
     "output_type": "display_data"
    },
    {
     "name": "stdout",
     "output_type": "stream",
     "text": [
      "\n",
      "**************************************************\n",
      "\n",
      "\n",
      "**************************************************\n",
      "\n",
      "Training Fold 4...\n",
      "\n",
      "**************************************************\n",
      "\n",
      "Epoch: 1 | Train Loss: 0.38651 | Valid Loss: 0.00192 | Train Accs: 0.88621 | Valid Accs: 0.99944 | Time: 462.18 seconds\n",
      "Epoch: 2 | Train Loss: 0.02302 | Valid Loss: 0.03091 | Train Accs: 0.99369 | Valid Accs: 0.99777 | Time: 462.37 seconds\n",
      "Epoch: 3 | Train Loss: 0.01870 | Valid Loss: 0.00154 | Train Accs: 0.99496 | Valid Accs: 0.99944 | Time: 465.76 seconds\n",
      "Epoch: 4 | Train Loss: 0.00718 | Valid Loss: 0.00063 | Train Accs: 0.99790 | Valid Accs: 1.00000 | Time: 468.72 seconds\n",
      "Epoch: 5 | Train Loss: 0.00042 | Valid Loss: 0.00019 | Train Accs: 0.99986 | Valid Accs: 1.00000 | Time: 458.90 seconds\n",
      "Epoch: 6 | Train Loss: 0.01435 | Valid Loss: 0.00031 | Train Accs: 0.99608 | Valid Accs: 1.00000 | Time: 455.92 seconds\n",
      "Epoch: 7 | Train Loss: 0.00302 | Valid Loss: 0.00019 | Train Accs: 0.99930 | Valid Accs: 1.00000 | Time: 454.88 seconds\n",
      "Epoch: 8 | Train Loss: 0.00103 | Valid Loss: 0.00014 | Train Accs: 0.99944 | Valid Accs: 1.00000 | Time: 456.04 seconds\n",
      "Epoch: 9 | Train Loss: 0.00025 | Valid Loss: 0.00002 | Train Accs: 1.00000 | Valid Accs: 1.00000 | Time: 455.08 seconds\n",
      "Epoch: 10 | Train Loss: 0.00035 | Valid Loss: 0.00002 | Train Accs: 0.99986 | Valid Accs: 1.00000 | Time: 459.58 seconds\n",
      "\n",
      "**************************************************\n",
      "\n",
      "Best Validation Loss at Epoch 9\n",
      "\n",
      "**************************************************\n",
      "\n",
      "Best Validation Accs at Epoch 4\n",
      "\n",
      "**************************************************\n",
      "\n",
      "Time Taken [10 Epochs] : 76.66 minutes\n",
      "\n",
      "**************************************************\n",
      "\n"
     ]
    },
    {
     "data": {
      "image/png": "[encoded data removed]",
      "text/plain": [
       "<Figure size 432x288 with 1 Axes>"
      ]
     },
     "metadata": {
      "needs_background": "light"
     },
     "output_type": "display_data"
    },
    {
     "name": "stdout",
     "output_type": "stream",
     "text": [
      "\n",
      "**************************************************\n",
      "\n"
     ]
    },
    {
     "data": {
      "image/png": "[encoded data removed]",
      "text/plain": [
       "<Figure size 432x288 with 1 Axes>"
      ]
     },
     "metadata": {
      "needs_background": "light"
     },
     "output_type": "display_data"
    },
    {
     "name": "stdout",
     "output_type": "stream",
     "text": [
      "\n",
      "**************************************************\n",
      "\n"
     ]
    },
    {
     "data": {
      "image/png": "[encoded data removed]",
      "text/plain": [
       "<Figure size 576x432 with 1 Axes>"
      ]
     },
     "metadata": {
      "needs_background": "light"
     },
     "output_type": "display_data"
    },
    {
     "name": "stdout",
     "output_type": "stream",
     "text": [
      "\n",
      "**************************************************\n",
      "\n",
      "\n",
      "**************************************************\n",
      "\n",
      "Training Fold 5...\n",
      "\n",
      "**************************************************\n",
      "\n",
      "Epoch: 1 | Train Loss: 0.38515 | Valid Loss: 0.00283 | Train Accs: 0.88845 | Valid Accs: 1.00000 | Time: 461.67 seconds\n",
      "Epoch: 2 | Train Loss: 0.01342 | Valid Loss: 0.87382 | Train Accs: 0.99648 | Valid Accs: 0.88752 | Time: 462.81 seconds\n",
      "Epoch: 3 | Train Loss: 0.02801 | Valid Loss: 0.00469 | Train Accs: 0.99313 | Valid Accs: 0.99833 | Time: 467.02 seconds\n",
      "Epoch: 4 | Train Loss: 0.00558 | Valid Loss: 0.00019 | Train Accs: 0.99818 | Valid Accs: 1.00000 | Time: 464.27 seconds\n",
      "Epoch: 5 | Train Loss: 0.00255 | Valid Loss: 0.00247 | Train Accs: 0.99986 | Valid Accs: 0.99944 | Time: 464.25 seconds\n",
      "Epoch: 6 | Train Loss: 0.00976 | Valid Loss: 0.00653 | Train Accs: 0.99748 | Valid Accs: 0.99833 | Time: 461.72 seconds\n",
      "Epoch: 7 | Train Loss: 0.00156 | Valid Loss: 0.00320 | Train Accs: 0.99944 | Valid Accs: 0.99888 | Time: 456.79 seconds\n",
      "Epoch: 8 | Train Loss: 0.00112 | Valid Loss: 0.00006 | Train Accs: 0.99944 | Valid Accs: 1.00000 | Time: 463.17 seconds\n",
      "Epoch: 9 | Train Loss: 0.00078 | Valid Loss: 0.00083 | Train Accs: 0.99958 | Valid Accs: 0.99944 | Time: 458.84 seconds\n",
      "Epoch: 10 | Train Loss: 0.00025 | Valid Loss: 0.00185 | Train Accs: 0.99986 | Valid Accs: 0.99888 | Time: 460.10 seconds\n",
      "\n",
      "**************************************************\n",
      "\n",
      "Best Validation Loss at Epoch 8\n",
      "\n",
      "**************************************************\n",
      "\n",
      "Best Validation Accs at Epoch 1\n",
      "\n",
      "**************************************************\n",
      "\n",
      "Time Taken [10 Epochs] : 77.01 minutes\n",
      "\n",
      "**************************************************\n",
      "\n"
     ]
    },
    {
     "data": {
      "image/png": "[encoded data removed]",
      "text/plain": [
       "<Figure size 432x288 with 1 Axes>"
      ]
     },
     "metadata": {
      "needs_background": "light"
     },
     "output_type": "display_data"
    },
    {
     "name": "stdout",
     "output_type": "stream",
     "text": [
      "\n",
      "**************************************************\n",
      "\n"
     ]
    },
    {
     "data": {
      "image/png": "[encoded data removed]",
      "text/plain": [
       "<Figure size 432x288 with 1 Axes>"
      ]
     },
     "metadata": {
      "needs_background": "light"
     },
     "output_type": "display_data"
    },
    {
     "name": "stdout",
     "output_type": "stream",
     "text": [
      "\n",
      "**************************************************\n",
      "\n"
     ]
    },
    {
     "data": {
      "image/png": "[encoded data removed]",
      "text/plain": [
       "<Figure size 576x432 with 1 Axes>"
      ]
     },
     "metadata": {
      "needs_background": "light"
     },
     "output_type": "display_data"
    },
    {
     "name": "stdout",
     "output_type": "stream",
     "text": [
      "\n",
      "**************************************************\n",
      "\n"
     ]
    }
   ],
   "source": [
    "fold: int = 1\n",
    "BLs: list = []\n",
    "BAs: list = []\n",
    "    \n",
    "cfg.batch_size = 16\n",
    "cfg.epochs = 10\n",
    "    \n",
    "for tr_idx, va_idx in KFold(n_splits=cfg.n_splits, random_state=cfg.seed, shuffle=True).split(filepaths):\n",
    "\n",
    "    tr_filepaths, va_filepaths = filepaths[tr_idx], filepaths[va_idx] \n",
    "    tr_labels, va_labels       = labels[tr_idx], labels[va_idx]\n",
    "\n",
    "    tr_data_setup = DS(\n",
    "        filepaths=tr_filepaths, \n",
    "        labels=tr_labels.reshape(-1, 1),\n",
    "        size=cfg.size,\n",
    "        transform=cfg.train_transform\n",
    "    )\n",
    "    \n",
    "    va_data_setup = DS(\n",
    "        filepaths=va_filepaths, \n",
    "        labels=va_labels.reshape(-1, 1),\n",
    "        size=cfg.size,\n",
    "        transform=cfg.train_transform\n",
    "    )\n",
    "\n",
    "    dataloaders = {\n",
    "        \"train\" : DL(tr_data_setup, batch_size=cfg.batch_size, shuffle=True, generator=torch.manual_seed(cfg.seed)),\n",
    "        \"valid\" : DL(va_data_setup, batch_size=cfg.batch_size, shuffle=False),\n",
    "    }\n",
    "\n",
    "    cfg.steps_per_epoch=len(dataloaders[\"train\"])\n",
    "    \n",
    "    torch.manual_seed(cfg.seed)\n",
    "    model = Model().to(cfg.device)\n",
    "\n",
    "    optimizer = optim.Adam([p for p in model.parameters() if p.requires_grad], lr=cfg.lr, weight_decay=cfg.wd)\n",
    "    # optimizer = optim.AdamW([p for p in model.parameters() if p.requires_grad], lr=cfg.lr, weight_decay=cfg.wd)\n",
    "    # optimizer = optim.SGD([p for p in model.parameters() if p.requires_grad], lr=cfg.lr, weight_decay=cfg.wd, momentum=0.9)\n",
    "\n",
    "    scheduler_oclr = optim.lr_scheduler.OneCycleLR(\n",
    "        optimizer=optimizer, \n",
    "        max_lr=cfg.max_lr, \n",
    "        epochs=cfg.epochs, \n",
    "        steps_per_epoch=cfg.steps_per_epoch,\n",
    "        pct_start=cfg.pct_start, \n",
    "        div_factor=cfg.div_factor, \n",
    "        final_div_factor=cfg.final_div_factor\n",
    "    )\n",
    "\n",
    "    # scheduler_rlrop = optim.lr_scheduler.ReduceLROnPlateau(\n",
    "    #     optimizer=optimizer,\n",
    "    #     patience=cfg.patience,\n",
    "    #     eps=cfg.eps,\n",
    "    #     verbose=True\n",
    "    # )\n",
    "\n",
    "    # scheduler_oclr = None\n",
    "    scheduler_rlrop = None\n",
    "\n",
    "\n",
    "    L, A, LR, BL, BA, _, _, _, _ = fit(\n",
    "        model=model, \n",
    "        optimizer=optimizer, \n",
    "        scheduler_oclr=scheduler_oclr,\n",
    "        scheduler_rlrop=scheduler_rlrop,\n",
    "        epochs=cfg.epochs, \n",
    "        early_stopping_patience=cfg.early_stopping, \n",
    "        dataloaders=dataloaders, \n",
    "        device=cfg.device,\n",
    "        save_path=cfg.save_path,\n",
    "        fold=fold,\n",
    "        verbose=True\n",
    "    )\n",
    "\n",
    "\n",
    "    breaker()\n",
    "    show_loss_graphs(L)\n",
    "    breaker()\n",
    "    show_accuracy_graphs(A)\n",
    "    breaker()\n",
    "    if scheduler_oclr:\n",
    "        show_lr_graph(LR)\n",
    "        breaker()\n",
    "    \n",
    "    BLs.append(BL)\n",
    "    BAs.append(BA)\n",
    "    \n",
    "    fold += 1"
   ]
  },
  {
   "cell_type": "markdown",
   "id": "31f3e1df",
   "metadata": {
    "papermill": {
     "duration": 0.010463,
     "end_time": "2022-12-04T17:12:10.647652",
     "exception": false,
     "start_time": "2022-12-04T17:12:10.637189",
     "status": "completed"
    },
    "tags": []
   },
   "source": [
    "### **Best Model**"
   ]
  },
  {
   "cell_type": "code",
   "execution_count": 10,
   "id": "ca01c27c",
   "metadata": {
    "execution": {
     "iopub.execute_input": "2022-12-04T17:12:10.671293Z",
     "iopub.status.busy": "2022-12-04T17:12:10.669798Z",
     "iopub.status.idle": "2022-12-04T17:12:10.677383Z",
     "shell.execute_reply": "2022-12-04T17:12:10.676349Z"
    },
    "papermill": {
     "duration": 0.021087,
     "end_time": "2022-12-04T17:12:10.679301",
     "exception": false,
     "start_time": "2022-12-04T17:12:10.658214",
     "status": "completed"
    },
    "tags": []
   },
   "outputs": [
    {
     "name": "stdout",
     "output_type": "stream",
     "text": [
      "\n",
      "**************************************************\n",
      "\n",
      "Best Loss Model Fold     : 4\n",
      "Best Accuracy Model Fold : 1\n",
      "\n",
      "**************************************************\n",
      "\n"
     ]
    }
   ],
   "source": [
    "BL = np.inf\n",
    "for i in range(len(BLs)):\n",
    "    if BLs[i][\"valid\"] < BL:\n",
    "        BL = BLs[i][\"valid\"]\n",
    "        best_loss_index = i\n",
    "\n",
    "        \n",
    "BA = 0.0\n",
    "for i in range(len(BAs)):\n",
    "    if BAs[i][\"valid\"] > BA:\n",
    "        BA = BAs[i][\"valid\"]\n",
    "        best_accs_index = i\n",
    "\n",
    "breaker()\n",
    "print(f\"Best Loss Model Fold     : {best_loss_index + 1}\")\n",
    "print(f\"Best Accuracy Model Fold : {best_accs_index + 1}\")\n",
    "breaker()"
   ]
  }
 ],
 "metadata": {
  "kernelspec": {
   "display_name": "Python 3",
   "language": "python",
   "name": "python3"
  },
  "language_info": {
   "codemirror_mode": {
    "name": "ipython",
    "version": 3
   },
   "file_extension": ".py",
   "mimetype": "text/x-python",
   "name": "python",
   "nbconvert_exporter": "python",
   "pygments_lexer": "ipython3",
   "version": "3.7.12"
  },
  "papermill": {
   "default_parameters": {},
   "duration": 23239.467749,
   "end_time": "2022-12-04T17:12:13.118917",
   "environment_variables": {},
   "exception": null,
   "input_path": "__notebook__.ipynb",
   "output_path": "__notebook__.ipynb",
   "parameters": {},
   "start_time": "2022-12-04T10:44:53.651168",
   "version": "2.3.4"
  }
 },
 "nbformat": 4,
 "nbformat_minor": 5
}
