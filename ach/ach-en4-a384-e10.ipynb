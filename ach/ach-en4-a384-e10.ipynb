{
 "cells": [
  {
   "cell_type": "markdown",
   "id": "9939eae6",
   "metadata": {
    "_cell_guid": "b1076dfc-b9ad-4769-8c92-a6c4dae69d19",
    "_uuid": "8f2839f25d086af736a60e9eeb907d3b93b6e0e5",
    "papermill": {
     "duration": 0.004661,
     "end_time": "2022-12-05T11:28:07.647360",
     "exception": false,
     "start_time": "2022-12-05T11:28:07.642699",
     "status": "completed"
    },
    "tags": []
   },
   "source": [
    "### **Setup**"
   ]
  },
  {
   "cell_type": "code",
   "execution_count": 1,
   "id": "85c1623b",
   "metadata": {
    "execution": {
     "iopub.execute_input": "2022-12-05T11:28:07.657280Z",
     "iopub.status.busy": "2022-12-05T11:28:07.656408Z",
     "iopub.status.idle": "2022-12-05T11:28:19.772510Z",
     "shell.execute_reply": "2022-12-05T11:28:19.771414Z"
    },
    "papermill": {
     "duration": 12.123817,
     "end_time": "2022-12-05T11:28:19.775059",
     "exception": false,
     "start_time": "2022-12-05T11:28:07.651242",
     "status": "completed"
    },
    "tags": []
   },
   "outputs": [
    {
     "name": "stderr",
     "output_type": "stream",
     "text": [
      "WARNING: Running pip as the 'root' user can result in broken permissions and conflicting behaviour with the system package manager. It is recommended to use a virtual environment instead: https://pip.pypa.io/warnings/venv\n"
     ]
    }
   ],
   "source": [
    "%%bash\n",
    "pip install timm -q"
   ]
  },
  {
   "cell_type": "markdown",
   "id": "e07f4110",
   "metadata": {
    "papermill": {
     "duration": 0.003426,
     "end_time": "2022-12-05T11:28:19.782300",
     "exception": false,
     "start_time": "2022-12-05T11:28:19.778874",
     "status": "completed"
    },
    "tags": []
   },
   "source": [
    "### **Library Imports**"
   ]
  },
  {
   "cell_type": "code",
   "execution_count": 2,
   "id": "5254fb31",
   "metadata": {
    "execution": {
     "iopub.execute_input": "2022-12-05T11:28:19.790889Z",
     "iopub.status.busy": "2022-12-05T11:28:19.790569Z",
     "iopub.status.idle": "2022-12-05T11:28:23.074957Z",
     "shell.execute_reply": "2022-12-05T11:28:23.073819Z"
    },
    "papermill": {
     "duration": 3.29172,
     "end_time": "2022-12-05T11:28:23.077555",
     "exception": false,
     "start_time": "2022-12-05T11:28:19.785835",
     "status": "completed"
    },
    "tags": []
   },
   "outputs": [],
   "source": [
    "import os\n",
    "import re\n",
    "import cv2\n",
    "import timm\n",
    "import torch\n",
    "import numpy as np\n",
    "import pandas as pd\n",
    "import matplotlib.pyplot as plt\n",
    "\n",
    "from time import time\n",
    "from typing import Union\n",
    "from torch import nn, optim\n",
    "from torch.utils.data import Dataset\n",
    "from torch.utils.data import DataLoader as DL\n",
    "from torchvision import transforms\n",
    "\n",
    "from sklearn.model_selection import StratifiedKFold"
   ]
  },
  {
   "cell_type": "markdown",
   "id": "d0661862",
   "metadata": {
    "papermill": {
     "duration": 0.003673,
     "end_time": "2022-12-05T11:28:23.085562",
     "exception": false,
     "start_time": "2022-12-05T11:28:23.081889",
     "status": "completed"
    },
    "tags": []
   },
   "source": [
    "### **Utilities and Helpers**"
   ]
  },
  {
   "cell_type": "code",
   "execution_count": 3,
   "id": "1e9b02ae",
   "metadata": {
    "execution": {
     "iopub.execute_input": "2022-12-05T11:28:23.095409Z",
     "iopub.status.busy": "2022-12-05T11:28:23.094188Z",
     "iopub.status.idle": "2022-12-05T11:28:23.107005Z",
     "shell.execute_reply": "2022-12-05T11:28:23.106150Z"
    },
    "papermill": {
     "duration": 0.019904,
     "end_time": "2022-12-05T11:28:23.109260",
     "exception": false,
     "start_time": "2022-12-05T11:28:23.089356",
     "status": "completed"
    },
    "tags": []
   },
   "outputs": [],
   "source": [
    "SEED: int = 42\n",
    "SIZE: int = 384\n",
    "\n",
    "\n",
    "def breaker(num: int=50, char: str=\"*\") -> None: print(\"\\n\" + num*char + \"\\n\")\n",
    "\n",
    "    \n",
    "def get_image(path: str, size: int=224) -> np.ndarray:\n",
    "    image = cv2.imread(path, cv2.IMREAD_COLOR)\n",
    "    image = cv2.cvtColor(src=image, code=cv2.COLOR_BGR2RGB)\n",
    "    return cv2.resize(src=image, dsize=(size, size), interpolation=cv2.INTER_AREA)\n",
    "\n",
    "    \n",
    "def show_loss_graphs(L: list) -> None:\n",
    "    TL, VL = [], []\n",
    "    for i in range(len(L)):\n",
    "        TL.append(L[i][\"train\"])\n",
    "        VL.append(L[i][\"valid\"])\n",
    "    x_Axis = np.arange(1, len(TL) + 1)\n",
    "    plt.figure()\n",
    "    plt.plot(x_Axis, TL, \"r\", label=\"Train\")\n",
    "    plt.plot(x_Axis, VL, \"b\", label=\"Valid\")\n",
    "    plt.legend()\n",
    "    plt.grid()\n",
    "    plt.title(\"Loss Graph\")\n",
    "    plt.show()\n",
    "\n",
    "    \n",
    "def show_accuracy_graphs(A: list) -> None:\n",
    "    TA, VA = [], []\n",
    "    for i in range(len(A)):\n",
    "        TA.append(A[i][\"train\"])\n",
    "        VA.append(A[i][\"valid\"])\n",
    "    x_Axis = np.arange(1, len(TA) + 1)\n",
    "    plt.figure()\n",
    "    plt.plot(x_Axis, TA, \"r\", label=\"Train\")\n",
    "    plt.plot(x_Axis, VA, \"b\", label=\"Valid\")\n",
    "    plt.legend()\n",
    "    plt.grid()\n",
    "    plt.title(\"Accuracy Graph\")\n",
    "    plt.show()\n",
    "    \n",
    "\n",
    "def show_lr_graph(LR: list) -> None:\n",
    "    x_Axis = [i+1 for i in range(len(LR))]\n",
    "    plt.figure(figsize=(8, 6))\n",
    "    plt.plot(x_Axis, LR, \"rx\")\n",
    "    plt.grid()\n",
    "    plt.show()"
   ]
  },
  {
   "cell_type": "markdown",
   "id": "c7fbd9a9",
   "metadata": {
    "papermill": {
     "duration": 0.003701,
     "end_time": "2022-12-05T11:28:23.116841",
     "exception": false,
     "start_time": "2022-12-05T11:28:23.113140",
     "status": "completed"
    },
    "tags": []
   },
   "source": [
    "\n",
    "\n",
    "### **Configuration**"
   ]
  },
  {
   "cell_type": "code",
   "execution_count": 4,
   "id": "d4b0b0e7",
   "metadata": {
    "execution": {
     "iopub.execute_input": "2022-12-05T11:28:23.126116Z",
     "iopub.status.busy": "2022-12-05T11:28:23.125732Z",
     "iopub.status.idle": "2022-12-05T11:28:23.190702Z",
     "shell.execute_reply": "2022-12-05T11:28:23.189705Z"
    },
    "papermill": {
     "duration": 0.072265,
     "end_time": "2022-12-05T11:28:23.192995",
     "exception": false,
     "start_time": "2022-12-05T11:28:23.120730",
     "status": "completed"
    },
    "tags": []
   },
   "outputs": [],
   "source": [
    "class CFG(object):\n",
    "    def __init__(self, \n",
    "                 seed: int = 42,\n",
    "                 size: int = 224,\n",
    "                 n_splits: int = 5,\n",
    "                 batch_size: int = 16,\n",
    "                 epochs: int = 25,\n",
    "                 early_stopping: int = 5,\n",
    "                 lr: float = 1e-4,\n",
    "                 wd: float = 0.0,\n",
    "                 max_lr: float = 1e-3,\n",
    "                 pct_start: float = 0.2,\n",
    "                 steps_per_epoch: int = 100,\n",
    "                 div_factor: int = 1e3, \n",
    "                 final_div_factor: float = 1e3,\n",
    "                 ):\n",
    "        self.seed = seed\n",
    "        self.size = size\n",
    "        self.n_splits = n_splits\n",
    "        self.batch_size = batch_size\n",
    "        self.epochs = epochs\n",
    "        self.early_stopping = early_stopping\n",
    "        self.lr = lr\n",
    "        self.wd = wd\n",
    "        self.max_lr = max_lr\n",
    "        self.pct_start = pct_start\n",
    "        self.steps_per_epoch = steps_per_epoch\n",
    "        self.div_factor = div_factor\n",
    "        self.final_div_factor = final_div_factor\n",
    "        self.device = torch.device(\"cuda\" if torch.cuda.is_available() else \"cpu\")\n",
    "        \n",
    "        if self.size == 224:\n",
    "            self.train_transform = transforms.Compose([\n",
    "                transforms.ToTensor(),\n",
    "                transforms.Normalize([0.59084, 0.51867, 0.48795], [0.26035, 0.25051, 0.25087]),\n",
    "                transforms.RandomAffine(degrees=(-45, 45), translate=(0.15, 0.15), scale=(0.5, 1.5)),\n",
    "                transforms.RandomHorizontalFlip(p=0.25),\n",
    "                transforms.RandomVerticalFlip(p=0.25),\n",
    "            ])\n",
    "            self.valid_transform = transforms.Compose([\n",
    "                transforms.ToTensor(),\n",
    "                transforms.Normalize([0.59084, 0.51867, 0.48795], [0.26035, 0.25051, 0.25087]),\n",
    "            ])\n",
    "        \n",
    "        if self.size == 384:\n",
    "            self.train_transform = transforms.Compose([\n",
    "                transforms.ToTensor(),\n",
    "                transforms.Normalize([0.59090, 0.51873, 0.48801], [0.26181, 0.25198, 0.25229]),\n",
    "                transforms.RandomAffine(degrees=(-45, 45), translate=(0.15, 0.15), scale=(0.5, 1.5)),\n",
    "                transforms.RandomHorizontalFlip(p=0.25),\n",
    "                transforms.RandomVerticalFlip(p=0.25),\n",
    "            ])\n",
    "            self.valid_transform = transforms.Compose([\n",
    "                transforms.ToTensor(),\n",
    "                transforms.Normalize([0.59090, 0.51873, 0.48801], [0.26181, 0.25198, 0.25229]),\n",
    "            ])\n",
    "        \n",
    "        if self.size == 512:\n",
    "            self.train_transform = transforms.Compose([\n",
    "                transforms.ToTensor(),\n",
    "                transforms.Normalize([0.59108, 0.51891, 0.48819], [0.26242, 0.25261, 0.25290]),\n",
    "                transforms.RandomAffine(degrees=(-45, 45), translate=(0.15, 0.15), scale=(0.5, 1.5)),\n",
    "                transforms.RandomHorizontalFlip(p=0.25),\n",
    "                transforms.RandomVerticalFlip(p=0.25),\n",
    "            ])\n",
    "            self.valid_transform = transforms.Compose([\n",
    "                transforms.ToTensor(),\n",
    "                transforms.Normalize([0.59108, 0.51891, 0.48819], [0.26242, 0.25261, 0.25290]),\n",
    "            ])\n",
    "                                \n",
    "        self.save_path = \"saves\"\n",
    "        if not os.path.exists(self.save_path): os.makedirs(self.save_path)\n",
    "    \n",
    "cfg = CFG(\n",
    "    seed=SEED, \n",
    "    size=SIZE\n",
    ")"
   ]
  },
  {
   "cell_type": "markdown",
   "id": "fbf9432c",
   "metadata": {
    "papermill": {
     "duration": 0.003782,
     "end_time": "2022-12-05T11:28:23.201085",
     "exception": false,
     "start_time": "2022-12-05T11:28:23.197303",
     "status": "completed"
    },
    "tags": []
   },
   "source": [
    "### **Dataset Template**"
   ]
  },
  {
   "cell_type": "code",
   "execution_count": 5,
   "id": "abc73686",
   "metadata": {
    "execution": {
     "iopub.execute_input": "2022-12-05T11:28:23.210042Z",
     "iopub.status.busy": "2022-12-05T11:28:23.209715Z",
     "iopub.status.idle": "2022-12-05T11:28:23.217036Z",
     "shell.execute_reply": "2022-12-05T11:28:23.215965Z"
    },
    "papermill": {
     "duration": 0.014216,
     "end_time": "2022-12-05T11:28:23.219044",
     "exception": false,
     "start_time": "2022-12-05T11:28:23.204828",
     "status": "completed"
    },
    "tags": []
   },
   "outputs": [],
   "source": [
    "class DS(Dataset):\n",
    "    def __init__(\n",
    "        self, \n",
    "        filepaths: np.ndarray, \n",
    "        size: int,\n",
    "        labels: Union[np.ndarray, None]=None, \n",
    "        transform=None\n",
    "    ):\n",
    "        \n",
    "        self.filepaths = filepaths\n",
    "        self.labels = labels\n",
    "        self.size = size\n",
    "        self.transform = transform\n",
    "    \n",
    "    def __len__(self):\n",
    "        return self.filepaths.shape[0]\n",
    "    \n",
    "    def __getitem__(self, idx):\n",
    "        image = get_image(self.filepaths[idx], self.size)\n",
    "        if self.labels is None:\n",
    "            return self.transform(image)\n",
    "        return self.transform(image), torch.LongTensor(self.labels[idx])"
   ]
  },
  {
   "cell_type": "markdown",
   "id": "afd35aec",
   "metadata": {
    "papermill": {
     "duration": 0.003657,
     "end_time": "2022-12-05T11:28:23.226503",
     "exception": false,
     "start_time": "2022-12-05T11:28:23.222846",
     "status": "completed"
    },
    "tags": []
   },
   "source": [
    "### **Model**"
   ]
  },
  {
   "cell_type": "code",
   "execution_count": 6,
   "id": "7061de07",
   "metadata": {
    "execution": {
     "iopub.execute_input": "2022-12-05T11:28:23.236040Z",
     "iopub.status.busy": "2022-12-05T11:28:23.235129Z",
     "iopub.status.idle": "2022-12-05T11:28:23.241726Z",
     "shell.execute_reply": "2022-12-05T11:28:23.240800Z"
    },
    "papermill": {
     "duration": 0.013416,
     "end_time": "2022-12-05T11:28:23.243789",
     "exception": false,
     "start_time": "2022-12-05T11:28:23.230373",
     "status": "completed"
    },
    "tags": []
   },
   "outputs": [],
   "source": [
    "class Model(nn.Module):\n",
    "    def __init__(self):\n",
    "        super(Model, self).__init__()\n",
    "            \n",
    "        self.model = timm.create_model(model_name=\"efficientnet_b4\", pretrained=True)\n",
    "        self.model.classifier = nn.Linear(in_features=self.model.classifier.in_features, out_features=3)\n",
    "\n",
    "    def forward(self, x):\n",
    "        return nn.LogSoftmax(dim=1)(self.model(x))"
   ]
  },
  {
   "cell_type": "markdown",
   "id": "08f14dc8",
   "metadata": {
    "papermill": {
     "duration": 0.003717,
     "end_time": "2022-12-05T11:28:23.251345",
     "exception": false,
     "start_time": "2022-12-05T11:28:23.247628",
     "status": "completed"
    },
    "tags": []
   },
   "source": [
    "### **Fit and Predict**"
   ]
  },
  {
   "cell_type": "code",
   "execution_count": 7,
   "id": "c63b4242",
   "metadata": {
    "execution": {
     "iopub.execute_input": "2022-12-05T11:28:23.260654Z",
     "iopub.status.busy": "2022-12-05T11:28:23.260387Z",
     "iopub.status.idle": "2022-12-05T11:28:23.281128Z",
     "shell.execute_reply": "2022-12-05T11:28:23.280130Z"
    },
    "papermill": {
     "duration": 0.027827,
     "end_time": "2022-12-05T11:28:23.283134",
     "exception": false,
     "start_time": "2022-12-05T11:28:23.255307",
     "status": "completed"
    },
    "tags": []
   },
   "outputs": [],
   "source": [
    "def fit(\n",
    "    model=None,\n",
    "    optimizer=None, \n",
    "    scheduler_rlrop=None,\n",
    "    scheduler_oclr=None,\n",
    "    epochs=None, \n",
    "    early_stopping_patience=None, \n",
    "    dataloaders=None, \n",
    "    fold=None, \n",
    "    save_path=None,\n",
    "    device=None,\n",
    "    verbose=False\n",
    ") -> tuple:\n",
    "    \n",
    "    def get_accuracy(y_pred, y_true):\n",
    "        y_pred = torch.argmax(y_pred, dim=1)\n",
    "        return torch.count_nonzero(y_pred == y_true).item() / len(y_pred)\n",
    "    \n",
    "    \n",
    "    if verbose:\n",
    "        breaker()\n",
    "        if fold: print(f\"Training Fold {fold}...\")\n",
    "        else: print(\"Training ...\")\n",
    "        breaker()\n",
    "        \n",
    "    bestLoss: dict = {\"train\" : np.inf, \"valid\" : np.inf} \n",
    "    bestAccs: dict = {\"train\" : 0.0, \"valid\" : 0.0}\n",
    "    \n",
    "    Losses: list = []\n",
    "    Accuracies: list = [] \n",
    "    LRs: list = []\n",
    "        \n",
    "    if fold: \n",
    "        ble_name = f\"ble_state_fold_{fold}.pt\"\n",
    "        bae_name = f\"bae_state_fold_{fold}.pt\"\n",
    "    else: \n",
    "        ble_name = f\"ble_state.pt\"\n",
    "        bae_name = f\"bae_state.pt\"\n",
    "        \n",
    "    start_time = time()\n",
    "    for e in range(epochs):\n",
    "        e_st = time()\n",
    "        epochLoss: dict = {\"train\" : 0.0, \"valid\" : 0.0} \n",
    "        epochAccs: dict = {\"train\" : 0.0, \"valid\" : 0.0}\n",
    "\n",
    "        for phase in [\"train\", \"valid\"]:\n",
    "            if phase == \"train\":\n",
    "                model.train()\n",
    "            else:\n",
    "                model.eval()\n",
    "            \n",
    "            lossPerPass: list = []\n",
    "            accsPerPass: list = []\n",
    "                \n",
    "            for X, y in dataloaders[phase]:\n",
    "                X, y = X.to(device), y.to(device).view(-1)\n",
    "\n",
    "                optimizer.zero_grad()\n",
    "                with torch.set_grad_enabled(phase == \"train\"):\n",
    "                    output = model(X)\n",
    "                    loss = nn.NLLLoss()(output, y)\n",
    "                    if phase == \"train\":\n",
    "                        loss.backward()\n",
    "                        optimizer.step()\n",
    "                        if scheduler_oclr: scheduler_oclr.step()\n",
    "                lossPerPass.append(loss.item())\n",
    "                accsPerPass.append(get_accuracy(output, y))\n",
    "            epochLoss[phase] = np.mean(np.array(lossPerPass))\n",
    "            epochAccs[phase] = np.mean(np.array(accsPerPass))\n",
    "        if scheduler_oclr: LRs.append(scheduler_oclr.get_last_lr())\n",
    "        Losses.append(epochLoss)\n",
    "        Accuracies.append(epochAccs)\n",
    "        \n",
    "        if scheduler_oclr:\n",
    "            save_dict = {\"model_state_dict\"     : model.state_dict(),\n",
    "                         \"optim_state_dict\"     : optimizer.state_dict(),\n",
    "                         \"scheduler_state_dict\" : scheduler_oclr.state_dict()}\n",
    "        \n",
    "        elif scheduler_rlrop:\n",
    "            save_dict = {\"model_state_dict\"     : model.state_dict(),\n",
    "                         \"optim_state_dict\"     : optimizer.state_dict(),\n",
    "                         \"scheduler_state_dict\" : scheduler_rlrop.state_dict()}\n",
    "        \n",
    "        else:\n",
    "            save_dict = {\"model_state_dict\"     : model.state_dict(),\n",
    "                         \"optim_state_dict\"     : optimizer.state_dict()}\n",
    "        \n",
    "        if early_stopping_patience:\n",
    "            if epochLoss[\"valid\"] < bestLoss[\"valid\"]:\n",
    "                bestLoss = epochLoss\n",
    "                BLE = e + 1\n",
    "                torch.save(save_dict, os.path.join(save_path, ble_name))\n",
    "                torch.save(save_dict, os.path.join(save_path, bae_name))\n",
    "                early_stopping_step = 0\n",
    "            else:\n",
    "                early_stopping_step += 1\n",
    "                if early_stopping_step > early_stopping_patience:\n",
    "                    print(\"\\nEarly Stopping at Epoch {}\".format(e + 1))\n",
    "                    break\n",
    "        \n",
    "        if epochLoss[\"valid\"] < bestLoss[\"valid\"]:\n",
    "            bestLoss = epochLoss\n",
    "            BLE = e + 1\n",
    "            torch.save(save_dict,os.path.join(save_path, ble_name))\n",
    "        \n",
    "        if epochAccs[\"valid\"] > bestAccs[\"valid\"]:\n",
    "            bestAccs = epochAccs\n",
    "            BAE = e + 1\n",
    "            torch.save(save_dict,os.path.join(save_path, bae_name))\n",
    "        \n",
    "        if scheduler_rlrop: scheduler_rlrop.step(epochLoss[\"valid\"])\n",
    "        \n",
    "        if verbose:\n",
    "            print(\"Epoch: {} | Train Loss: {:.5f} | Valid Loss: {:.5f} |\\\n",
    " Train Accs: {:.5f} | Valid Accs: {:.5f} | Time: {:.2f} seconds\".format(e+1, \n",
    "                                                                        epochLoss[\"train\"], epochLoss[\"valid\"], \n",
    "                                                                        epochAccs[\"train\"], epochAccs[\"valid\"], \n",
    "                                                                        time()-e_st))\n",
    "\n",
    "    if verbose:                                           \n",
    "        breaker()\n",
    "        print(f\"Best Validation Loss at Epoch {BLE}\")\n",
    "        breaker()\n",
    "        print(f\"Best Validation Accs at Epoch {BAE}\")\n",
    "        breaker()\n",
    "        print(\"Time Taken [{} Epochs] : {:.2f} minutes\".format(len(Losses), (time()-start_time)/60))\n",
    "    \n",
    "    return Losses, Accuracies, LRs, bestLoss, bestAccs, BLE, BAE, ble_name, bae_name\n",
    "\n",
    "\n",
    "# def predict_batch(model=None, dataloader=None, path=None, device=None) -> np.ndarray:\n",
    "#     model.load_state_dict(torch.load(path, map_location=device)[\"model_state_dict\"])\n",
    "#     model.to(device)    \n",
    "#     model.eval()\n",
    "    \n",
    "#     y_pred = torch.zeros(1, 1).to(device)\n",
    "    \n",
    "#     for X in dataloader:\n",
    "#         X = X.to(device)\n",
    "#         with torch.no_grad():\n",
    "#             output = torch.argmax(torch.exp(model(X)), dim=1)\n",
    "#         y_pred = torch.cat((y_pred, output.view(-1, 1)), dim=0)\n",
    "    \n",
    "#     return y_pred[1:].detach().cpu().numpy()"
   ]
  },
  {
   "cell_type": "markdown",
   "id": "18bd07f1",
   "metadata": {
    "papermill": {
     "duration": 0.004747,
     "end_time": "2022-12-05T11:28:23.291892",
     "exception": false,
     "start_time": "2022-12-05T11:28:23.287145",
     "status": "completed"
    },
    "tags": []
   },
   "source": [
    "### **Train**"
   ]
  },
  {
   "cell_type": "code",
   "execution_count": 8,
   "id": "222f5111",
   "metadata": {
    "execution": {
     "iopub.execute_input": "2022-12-05T11:28:23.300839Z",
     "iopub.status.busy": "2022-12-05T11:28:23.300505Z",
     "iopub.status.idle": "2022-12-05T11:28:23.364258Z",
     "shell.execute_reply": "2022-12-05T11:28:23.363105Z"
    },
    "papermill": {
     "duration": 0.071052,
     "end_time": "2022-12-05T11:28:23.366837",
     "exception": false,
     "start_time": "2022-12-05T11:28:23.295785",
     "status": "completed"
    },
    "tags": []
   },
   "outputs": [],
   "source": [
    "df = pd.read_csv(\"/kaggle/input/ach-dataframe/dataframe.csv\")\n",
    "\n",
    "filepaths = df.filepaths.copy().values\n",
    "labels = df.labels.copy().values"
   ]
  },
  {
   "cell_type": "code",
   "execution_count": 9,
   "id": "099a600a",
   "metadata": {
    "execution": {
     "iopub.execute_input": "2022-12-05T11:28:23.385241Z",
     "iopub.status.busy": "2022-12-05T11:28:23.384781Z",
     "iopub.status.idle": "2022-12-05T17:54:53.504994Z",
     "shell.execute_reply": "2022-12-05T17:54:53.503485Z"
    },
    "papermill": {
     "duration": 23190.132272,
     "end_time": "2022-12-05T17:54:53.507327",
     "exception": false,
     "start_time": "2022-12-05T11:28:23.375055",
     "status": "completed"
    },
    "tags": []
   },
   "outputs": [
    {
     "name": "stderr",
     "output_type": "stream",
     "text": [
      "Downloading: \"https://github.com/rwightman/pytorch-image-models/releases/download/v0.1-weights/efficientnet_b4_ra2_320-7eb33cd5.pth\" to /root/.cache/torch/hub/checkpoints/efficientnet_b4_ra2_320-7eb33cd5.pth\n"
     ]
    },
    {
     "name": "stdout",
     "output_type": "stream",
     "text": [
      "\n",
      "**************************************************\n",
      "\n",
      "Training Fold 1...\n",
      "\n",
      "**************************************************\n",
      "\n",
      "Epoch: 1 | Train Loss: 0.38260 | Valid Loss: 0.00717 | Train Accs: 0.88607 | Valid Accs: 0.99833 | Time: 542.30 seconds\n",
      "Epoch: 2 | Train Loss: 0.02463 | Valid Loss: 0.00275 | Train Accs: 0.99341 | Valid Accs: 0.99888 | Time: 462.79 seconds\n",
      "Epoch: 3 | Train Loss: 0.01550 | Valid Loss: 0.00456 | Train Accs: 0.99594 | Valid Accs: 0.99833 | Time: 466.66 seconds\n",
      "Epoch: 4 | Train Loss: 0.00482 | Valid Loss: 0.00007 | Train Accs: 0.99874 | Valid Accs: 1.00000 | Time: 462.08 seconds\n",
      "Epoch: 5 | Train Loss: 0.01157 | Valid Loss: 0.00054 | Train Accs: 0.99804 | Valid Accs: 0.99944 | Time: 461.05 seconds\n",
      "Epoch: 6 | Train Loss: 0.00090 | Valid Loss: 0.00110 | Train Accs: 0.99986 | Valid Accs: 0.99944 | Time: 472.61 seconds\n",
      "Epoch: 7 | Train Loss: 0.00327 | Valid Loss: 0.00012 | Train Accs: 0.99902 | Valid Accs: 1.00000 | Time: 466.74 seconds\n",
      "Epoch: 8 | Train Loss: 0.00030 | Valid Loss: 0.00005 | Train Accs: 0.99986 | Valid Accs: 1.00000 | Time: 459.69 seconds\n",
      "Epoch: 9 | Train Loss: 0.00015 | Valid Loss: 0.00205 | Train Accs: 1.00000 | Valid Accs: 0.99944 | Time: 459.87 seconds\n",
      "Epoch: 10 | Train Loss: 0.00032 | Valid Loss: 0.00139 | Train Accs: 0.99986 | Valid Accs: 0.99944 | Time: 466.85 seconds\n",
      "\n",
      "**************************************************\n",
      "\n",
      "Best Validation Loss at Epoch 8\n",
      "\n",
      "**************************************************\n",
      "\n",
      "Best Validation Accs at Epoch 4\n",
      "\n",
      "**************************************************\n",
      "\n",
      "Time Taken [10 Epochs] : 78.68 minutes\n",
      "\n",
      "**************************************************\n",
      "\n"
     ]
    },
    {
     "data": {
      "image/png": "[encoded data removed]",
      "text/plain": [
       "<Figure size 432x288 with 1 Axes>"
      ]
     },
     "metadata": {
      "needs_background": "light"
     },
     "output_type": "display_data"
    },
    {
     "name": "stdout",
     "output_type": "stream",
     "text": [
      "\n",
      "**************************************************\n",
      "\n"
     ]
    },
    {
     "data": {
      "image/png": "[encoded data removed]",
      "text/plain": [
       "<Figure size 432x288 with 1 Axes>"
      ]
     },
     "metadata": {
      "needs_background": "light"
     },
     "output_type": "display_data"
    },
    {
     "name": "stdout",
     "output_type": "stream",
     "text": [
      "\n",
      "**************************************************\n",
      "\n"
     ]
    },
    {
     "data": {
      "image/png": "[encoded data removed]",
      "text/plain": [
       "<Figure size 576x432 with 1 Axes>"
      ]
     },
     "metadata": {
      "needs_background": "light"
     },
     "output_type": "display_data"
    },
    {
     "name": "stdout",
     "output_type": "stream",
     "text": [
      "\n",
      "**************************************************\n",
      "\n",
      "\n",
      "**************************************************\n",
      "\n",
      "Training Fold 2...\n",
      "\n",
      "**************************************************\n",
      "\n",
      "Epoch: 1 | Train Loss: 0.37767 | Valid Loss: 0.00199 | Train Accs: 0.88551 | Valid Accs: 0.99944 | Time: 465.06 seconds\n",
      "Epoch: 2 | Train Loss: 0.02206 | Valid Loss: 0.00988 | Train Accs: 0.99355 | Valid Accs: 0.99888 | Time: 462.95 seconds\n",
      "Epoch: 3 | Train Loss: 0.02129 | Valid Loss: 0.00004 | Train Accs: 0.99453 | Valid Accs: 1.00000 | Time: 468.37 seconds\n",
      "Epoch: 4 | Train Loss: 0.01058 | Valid Loss: 0.00124 | Train Accs: 0.99762 | Valid Accs: 0.99944 | Time: 463.18 seconds\n",
      "Epoch: 5 | Train Loss: 0.02134 | Valid Loss: 0.00462 | Train Accs: 0.99482 | Valid Accs: 0.99888 | Time: 466.78 seconds\n",
      "Epoch: 6 | Train Loss: 0.00162 | Valid Loss: 0.00085 | Train Accs: 0.99944 | Valid Accs: 1.00000 | Time: 464.69 seconds\n",
      "Epoch: 7 | Train Loss: 0.00260 | Valid Loss: 0.00020 | Train Accs: 0.99916 | Valid Accs: 1.00000 | Time: 463.78 seconds\n",
      "Epoch: 8 | Train Loss: 0.00113 | Valid Loss: 0.00002 | Train Accs: 0.99958 | Valid Accs: 1.00000 | Time: 464.19 seconds\n",
      "Epoch: 9 | Train Loss: 0.00131 | Valid Loss: 0.00029 | Train Accs: 0.99944 | Valid Accs: 1.00000 | Time: 463.88 seconds\n",
      "Epoch: 10 | Train Loss: 0.00107 | Valid Loss: 0.00088 | Train Accs: 0.99972 | Valid Accs: 0.99944 | Time: 463.01 seconds\n",
      "\n",
      "**************************************************\n",
      "\n",
      "Best Validation Loss at Epoch 8\n",
      "\n",
      "**************************************************\n",
      "\n",
      "Best Validation Accs at Epoch 3\n",
      "\n",
      "**************************************************\n",
      "\n",
      "Time Taken [10 Epochs] : 77.43 minutes\n",
      "\n",
      "**************************************************\n",
      "\n"
     ]
    },
    {
     "data": {
      "image/png": "[encoded data removed]",
      "text/plain": [
       "<Figure size 432x288 with 1 Axes>"
      ]
     },
     "metadata": {
      "needs_background": "light"
     },
     "output_type": "display_data"
    },
    {
     "name": "stdout",
     "output_type": "stream",
     "text": [
      "\n",
      "**************************************************\n",
      "\n"
     ]
    },
    {
     "data": {
      "image/png": "[encoded data removed]",
      "text/plain": [
       "<Figure size 432x288 with 1 Axes>"
      ]
     },
     "metadata": {
      "needs_background": "light"
     },
     "output_type": "display_data"
    },
    {
     "name": "stdout",
     "output_type": "stream",
     "text": [
      "\n",
      "**************************************************\n",
      "\n"
     ]
    },
    {
     "data": {
      "image/png": "[encoded data removed]",
      "text/plain": [
       "<Figure size 576x432 with 1 Axes>"
      ]
     },
     "metadata": {
      "needs_background": "light"
     },
     "output_type": "display_data"
    },
    {
     "name": "stdout",
     "output_type": "stream",
     "text": [
      "\n",
      "**************************************************\n",
      "\n",
      "\n",
      "**************************************************\n",
      "\n",
      "Training Fold 3...\n",
      "\n",
      "**************************************************\n",
      "\n",
      "Epoch: 1 | Train Loss: 0.38127 | Valid Loss: 0.00107 | Train Accs: 0.89196 | Valid Accs: 1.00000 | Time: 466.27 seconds\n",
      "Epoch: 2 | Train Loss: 0.01451 | Valid Loss: 0.00146 | Train Accs: 0.99566 | Valid Accs: 0.99944 | Time: 462.56 seconds\n",
      "Epoch: 3 | Train Loss: 0.02797 | Valid Loss: 0.00340 | Train Accs: 0.99229 | Valid Accs: 0.99944 | Time: 466.73 seconds\n",
      "Epoch: 4 | Train Loss: 0.00539 | Valid Loss: 0.00011 | Train Accs: 0.99846 | Valid Accs: 1.00000 | Time: 466.78 seconds\n",
      "Epoch: 5 | Train Loss: 0.00210 | Valid Loss: 0.00231 | Train Accs: 0.99958 | Valid Accs: 0.99944 | Time: 465.54 seconds\n",
      "Epoch: 6 | Train Loss: 0.02288 | Valid Loss: 0.00130 | Train Accs: 0.99594 | Valid Accs: 0.99944 | Time: 464.68 seconds\n",
      "Epoch: 7 | Train Loss: 0.01649 | Valid Loss: 0.00020 | Train Accs: 0.99902 | Valid Accs: 1.00000 | Time: 462.93 seconds\n",
      "Epoch: 8 | Train Loss: 0.00096 | Valid Loss: 0.00029 | Train Accs: 0.99986 | Valid Accs: 1.00000 | Time: 463.98 seconds\n",
      "Epoch: 9 | Train Loss: 0.00041 | Valid Loss: 0.00005 | Train Accs: 0.99986 | Valid Accs: 1.00000 | Time: 464.52 seconds\n",
      "Epoch: 10 | Train Loss: 0.00036 | Valid Loss: 0.00023 | Train Accs: 1.00000 | Valid Accs: 1.00000 | Time: 464.14 seconds\n",
      "\n",
      "**************************************************\n",
      "\n",
      "Best Validation Loss at Epoch 9\n",
      "\n",
      "**************************************************\n",
      "\n",
      "Best Validation Accs at Epoch 1\n",
      "\n",
      "**************************************************\n",
      "\n",
      "Time Taken [10 Epochs] : 77.47 minutes\n",
      "\n",
      "**************************************************\n",
      "\n"
     ]
    },
    {
     "data": {
      "image/png": "[encoded data removed]",
      "text/plain": [
       "<Figure size 432x288 with 1 Axes>"
      ]
     },
     "metadata": {
      "needs_background": "light"
     },
     "output_type": "display_data"
    },
    {
     "name": "stdout",
     "output_type": "stream",
     "text": [
      "\n",
      "**************************************************\n",
      "\n"
     ]
    },
    {
     "data": {
      "image/png": "[encoded data removed]",
      "text/plain": [
       "<Figure size 432x288 with 1 Axes>"
      ]
     },
     "metadata": {
      "needs_background": "light"
     },
     "output_type": "display_data"
    },
    {
     "name": "stdout",
     "output_type": "stream",
     "text": [
      "\n",
      "**************************************************\n",
      "\n"
     ]
    },
    {
     "data": {
      "image/png": "[encoded data removed]",
      "text/plain": [
       "<Figure size 576x432 with 1 Axes>"
      ]
     },
     "metadata": {
      "needs_background": "light"
     },
     "output_type": "display_data"
    },
    {
     "name": "stdout",
     "output_type": "stream",
     "text": [
      "\n",
      "**************************************************\n",
      "\n",
      "\n",
      "**************************************************\n",
      "\n",
      "Training Fold 4...\n",
      "\n",
      "**************************************************\n",
      "\n",
      "Epoch: 1 | Train Loss: 0.38441 | Valid Loss: 0.00211 | Train Accs: 0.88341 | Valid Accs: 1.00000 | Time: 466.15 seconds\n",
      "Epoch: 2 | Train Loss: 0.02242 | Valid Loss: 0.00372 | Train Accs: 0.99369 | Valid Accs: 0.99888 | Time: 463.63 seconds\n",
      "Epoch: 3 | Train Loss: 0.01611 | Valid Loss: 0.00225 | Train Accs: 0.99580 | Valid Accs: 0.99944 | Time: 464.52 seconds\n",
      "Epoch: 4 | Train Loss: 0.00189 | Valid Loss: 0.00011 | Train Accs: 0.99972 | Valid Accs: 1.00000 | Time: 465.99 seconds\n",
      "Epoch: 5 | Train Loss: 0.00238 | Valid Loss: 0.00623 | Train Accs: 0.99958 | Valid Accs: 0.99888 | Time: 462.95 seconds\n",
      "Epoch: 6 | Train Loss: 0.02160 | Valid Loss: 0.00128 | Train Accs: 0.99594 | Valid Accs: 0.99944 | Time: 463.52 seconds\n",
      "Epoch: 7 | Train Loss: 0.01150 | Valid Loss: 0.00020 | Train Accs: 0.99916 | Valid Accs: 1.00000 | Time: 457.73 seconds\n",
      "Epoch: 8 | Train Loss: 0.00200 | Valid Loss: 0.00005 | Train Accs: 0.99930 | Valid Accs: 1.00000 | Time: 455.13 seconds\n",
      "Epoch: 9 | Train Loss: 0.00029 | Valid Loss: 0.00055 | Train Accs: 1.00000 | Valid Accs: 0.99944 | Time: 453.05 seconds\n",
      "Epoch: 10 | Train Loss: 0.00016 | Valid Loss: 0.00011 | Train Accs: 1.00000 | Valid Accs: 1.00000 | Time: 453.17 seconds\n",
      "\n",
      "**************************************************\n",
      "\n",
      "Best Validation Loss at Epoch 8\n",
      "\n",
      "**************************************************\n",
      "\n",
      "Best Validation Accs at Epoch 1\n",
      "\n",
      "**************************************************\n",
      "\n",
      "Time Taken [10 Epochs] : 76.76 minutes\n",
      "\n",
      "**************************************************\n",
      "\n"
     ]
    },
    {
     "data": {
      "image/png": "[encoded data removed]",
      "text/plain": [
       "<Figure size 432x288 with 1 Axes>"
      ]
     },
     "metadata": {
      "needs_background": "light"
     },
     "output_type": "display_data"
    },
    {
     "name": "stdout",
     "output_type": "stream",
     "text": [
      "\n",
      "**************************************************\n",
      "\n"
     ]
    },
    {
     "data": {
      "image/png": "[encoded data removed]",
      "text/plain": [
       "<Figure size 432x288 with 1 Axes>"
      ]
     },
     "metadata": {
      "needs_background": "light"
     },
     "output_type": "display_data"
    },
    {
     "name": "stdout",
     "output_type": "stream",
     "text": [
      "\n",
      "**************************************************\n",
      "\n"
     ]
    },
    {
     "data": {
      "image/png": "[encoded data removed]",
      "text/plain": [
       "<Figure size 576x432 with 1 Axes>"
      ]
     },
     "metadata": {
      "needs_background": "light"
     },
     "output_type": "display_data"
    },
    {
     "name": "stdout",
     "output_type": "stream",
     "text": [
      "\n",
      "**************************************************\n",
      "\n",
      "\n",
      "**************************************************\n",
      "\n",
      "Training Fold 5...\n",
      "\n",
      "**************************************************\n",
      "\n",
      "Epoch: 1 | Train Loss: 0.38620 | Valid Loss: 0.00283 | Train Accs: 0.88187 | Valid Accs: 0.99944 | Time: 453.64 seconds\n",
      "Epoch: 2 | Train Loss: 0.01366 | Valid Loss: 0.00023 | Train Accs: 0.99622 | Valid Accs: 1.00000 | Time: 454.15 seconds\n",
      "Epoch: 3 | Train Loss: 0.03636 | Valid Loss: 0.00106 | Train Accs: 0.99115 | Valid Accs: 1.00000 | Time: 454.11 seconds\n",
      "Epoch: 4 | Train Loss: 0.00353 | Valid Loss: 0.00158 | Train Accs: 0.99916 | Valid Accs: 0.99888 | Time: 454.87 seconds\n",
      "Epoch: 5 | Train Loss: 0.00115 | Valid Loss: 0.00083 | Train Accs: 0.99958 | Valid Accs: 0.99944 | Time: 456.84 seconds\n",
      "Epoch: 6 | Train Loss: 0.00771 | Valid Loss: 0.00052 | Train Accs: 0.99804 | Valid Accs: 0.99944 | Time: 454.76 seconds\n",
      "Epoch: 7 | Train Loss: 0.00067 | Valid Loss: 0.00001 | Train Accs: 0.99986 | Valid Accs: 1.00000 | Time: 455.08 seconds\n",
      "Epoch: 8 | Train Loss: 0.00112 | Valid Loss: 0.00147 | Train Accs: 0.99944 | Valid Accs: 0.99944 | Time: 452.28 seconds\n",
      "Epoch: 9 | Train Loss: 0.00017 | Valid Loss: 0.00004 | Train Accs: 1.00000 | Valid Accs: 1.00000 | Time: 457.41 seconds\n",
      "Epoch: 10 | Train Loss: 0.00040 | Valid Loss: 0.00001 | Train Accs: 0.99972 | Valid Accs: 1.00000 | Time: 458.36 seconds\n",
      "\n",
      "**************************************************\n",
      "\n",
      "Best Validation Loss at Epoch 7\n",
      "\n",
      "**************************************************\n",
      "\n",
      "Best Validation Accs at Epoch 2\n",
      "\n",
      "**************************************************\n",
      "\n",
      "Time Taken [10 Epochs] : 75.86 minutes\n",
      "\n",
      "**************************************************\n",
      "\n"
     ]
    },
    {
     "data": {
      "image/png": "[encoded data removed]",
      "text/plain": [
       "<Figure size 432x288 with 1 Axes>"
      ]
     },
     "metadata": {
      "needs_background": "light"
     },
     "output_type": "display_data"
    },
    {
     "name": "stdout",
     "output_type": "stream",
     "text": [
      "\n",
      "**************************************************\n",
      "\n"
     ]
    },
    {
     "data": {
      "image/png": "[encoded data removed]",
      "text/plain": [
       "<Figure size 432x288 with 1 Axes>"
      ]
     },
     "metadata": {
      "needs_background": "light"
     },
     "output_type": "display_data"
    },
    {
     "name": "stdout",
     "output_type": "stream",
     "text": [
      "\n",
      "**************************************************\n",
      "\n"
     ]
    },
    {
     "data": {
      "image/png": "[encoded data removed]",
      "text/plain": [
       "<Figure size 576x432 with 1 Axes>"
      ]
     },
     "metadata": {
      "needs_background": "light"
     },
     "output_type": "display_data"
    },
    {
     "name": "stdout",
     "output_type": "stream",
     "text": [
      "\n",
      "**************************************************\n",
      "\n"
     ]
    }
   ],
   "source": [
    "fold: int = 1\n",
    "BLs: list = []\n",
    "BAs: list = []\n",
    "    \n",
    "cfg.batch_size = 16\n",
    "cfg.epochs = 10\n",
    "    \n",
    "for tr_idx, va_idx in StratifiedKFold(n_splits=cfg.n_splits, random_state=cfg.seed, shuffle=True).split(filepaths, labels):\n",
    "\n",
    "    tr_filepaths, va_filepaths = filepaths[tr_idx], filepaths[va_idx] \n",
    "    tr_labels, va_labels       = labels[tr_idx], labels[va_idx]\n",
    "\n",
    "    tr_data_setup = DS(\n",
    "        filepaths=tr_filepaths, \n",
    "        labels=tr_labels.reshape(-1, 1),\n",
    "        size=cfg.size,\n",
    "        transform=cfg.train_transform\n",
    "    )\n",
    "    \n",
    "    va_data_setup = DS(\n",
    "        filepaths=va_filepaths, \n",
    "        labels=va_labels.reshape(-1, 1),\n",
    "        size=cfg.size,\n",
    "        transform=cfg.train_transform\n",
    "    )\n",
    "\n",
    "    dataloaders = {\n",
    "        \"train\" : DL(tr_data_setup, batch_size=cfg.batch_size, shuffle=True, generator=torch.manual_seed(cfg.seed)),\n",
    "        \"valid\" : DL(va_data_setup, batch_size=cfg.batch_size, shuffle=False),\n",
    "    }\n",
    "\n",
    "    cfg.steps_per_epoch=len(dataloaders[\"train\"])\n",
    "    \n",
    "    torch.manual_seed(cfg.seed)\n",
    "    model = Model().to(cfg.device)\n",
    "\n",
    "    optimizer = optim.Adam([p for p in model.parameters() if p.requires_grad], lr=cfg.lr, weight_decay=cfg.wd)\n",
    "    # optimizer = optim.AdamW([p for p in model.parameters() if p.requires_grad], lr=cfg.lr, weight_decay=cfg.wd)\n",
    "    # optimizer = optim.SGD([p for p in model.parameters() if p.requires_grad], lr=cfg.lr, weight_decay=cfg.wd, momentum=0.9)\n",
    "\n",
    "    scheduler_oclr = optim.lr_scheduler.OneCycleLR(\n",
    "        optimizer=optimizer, \n",
    "        max_lr=cfg.max_lr, \n",
    "        epochs=cfg.epochs, \n",
    "        steps_per_epoch=cfg.steps_per_epoch,\n",
    "        pct_start=cfg.pct_start, \n",
    "        div_factor=cfg.div_factor, \n",
    "        final_div_factor=cfg.final_div_factor\n",
    "    )\n",
    "\n",
    "    # scheduler_rlrop = optim.lr_scheduler.ReduceLROnPlateau(\n",
    "    #     optimizer=optimizer,\n",
    "    #     patience=cfg.patience,\n",
    "    #     eps=cfg.eps,\n",
    "    #     verbose=True\n",
    "    # )\n",
    "\n",
    "    # scheduler_oclr = None\n",
    "    scheduler_rlrop = None\n",
    "\n",
    "\n",
    "    L, A, LR, BL, BA, _, _, _, _ = fit(\n",
    "        model=model, \n",
    "        optimizer=optimizer, \n",
    "        scheduler_oclr=scheduler_oclr,\n",
    "        scheduler_rlrop=scheduler_rlrop,\n",
    "        epochs=cfg.epochs, \n",
    "        early_stopping_patience=cfg.early_stopping, \n",
    "        dataloaders=dataloaders, \n",
    "        device=cfg.device,\n",
    "        save_path=cfg.save_path,\n",
    "        fold=fold,\n",
    "        verbose=True\n",
    "    )\n",
    "\n",
    "\n",
    "    breaker()\n",
    "    show_loss_graphs(L)\n",
    "    breaker()\n",
    "    show_accuracy_graphs(A)\n",
    "    breaker()\n",
    "    if scheduler_oclr:\n",
    "        show_lr_graph(LR)\n",
    "        breaker()\n",
    "    \n",
    "    BLs.append(BL)\n",
    "    BAs.append(BA)\n",
    "    \n",
    "    fold += 1"
   ]
  },
  {
   "cell_type": "markdown",
   "id": "c8e9b56b",
   "metadata": {
    "papermill": {
     "duration": 0.010356,
     "end_time": "2022-12-05T17:54:53.528526",
     "exception": false,
     "start_time": "2022-12-05T17:54:53.518170",
     "status": "completed"
    },
    "tags": []
   },
   "source": [
    "### **Best Model**"
   ]
  },
  {
   "cell_type": "code",
   "execution_count": 10,
   "id": "9630b39e",
   "metadata": {
    "execution": {
     "iopub.execute_input": "2022-12-05T17:54:53.551982Z",
     "iopub.status.busy": "2022-12-05T17:54:53.550572Z",
     "iopub.status.idle": "2022-12-05T17:54:53.558760Z",
     "shell.execute_reply": "2022-12-05T17:54:53.557897Z"
    },
    "papermill": {
     "duration": 0.021642,
     "end_time": "2022-12-05T17:54:53.560660",
     "exception": false,
     "start_time": "2022-12-05T17:54:53.539018",
     "status": "completed"
    },
    "tags": []
   },
   "outputs": [
    {
     "name": "stdout",
     "output_type": "stream",
     "text": [
      "\n",
      "**************************************************\n",
      "\n",
      "Best Loss Model Fold     : 5\n",
      "Best Accuracy Model Fold : 1\n",
      "\n",
      "**************************************************\n",
      "\n"
     ]
    }
   ],
   "source": [
    "BL = np.inf\n",
    "for i in range(len(BLs)):\n",
    "    if BLs[i][\"valid\"] < BL:\n",
    "        BL = BLs[i][\"valid\"]\n",
    "        best_loss_index = i\n",
    "\n",
    "        \n",
    "BA = 0.0\n",
    "for i in range(len(BAs)):\n",
    "    if BAs[i][\"valid\"] > BA:\n",
    "        BA = BAs[i][\"valid\"]\n",
    "        best_accs_index = i\n",
    "\n",
    "breaker()\n",
    "print(f\"Best Loss Model Fold     : {best_loss_index + 1}\")\n",
    "print(f\"Best Accuracy Model Fold : {best_accs_index + 1}\")\n",
    "breaker()"
   ]
  }
 ],
 "metadata": {
  "kernelspec": {
   "display_name": "Python 3",
   "language": "python",
   "name": "python3"
  },
  "language_info": {
   "codemirror_mode": {
    "name": "ipython",
    "version": 3
   },
   "file_extension": ".py",
   "mimetype": "text/x-python",
   "name": "python",
   "nbconvert_exporter": "python",
   "pygments_lexer": "ipython3",
   "version": "3.7.12"
  },
  "papermill": {
   "default_parameters": {},
   "duration": 23215.17192,
   "end_time": "2022-12-05T17:54:55.326460",
   "environment_variables": {},
   "exception": null,
   "input_path": "__notebook__.ipynb",
   "output_path": "__notebook__.ipynb",
   "parameters": {},
   "start_time": "2022-12-05T11:28:00.154540",
   "version": "2.3.4"
  }
 },
 "nbformat": 4,
 "nbformat_minor": 5
}
