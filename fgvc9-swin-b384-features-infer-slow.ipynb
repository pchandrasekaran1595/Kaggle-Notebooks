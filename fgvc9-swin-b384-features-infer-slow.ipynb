{
 "cells": [
  {
   "cell_type": "code",
   "execution_count": 1,
   "id": "d0732438",
   "metadata": {
    "execution": {
     "iopub.execute_input": "2022-03-26T23:51:13.831689Z",
     "iopub.status.busy": "2022-03-26T23:51:13.831013Z",
     "iopub.status.idle": "2022-03-26T23:51:22.460982Z",
     "shell.execute_reply": "2022-03-26T23:51:22.461458Z",
     "shell.execute_reply.started": "2022-03-26T16:05:06.556238Z"
    },
    "papermill": {
     "duration": 8.658946,
     "end_time": "2022-03-26T23:51:22.461727",
     "exception": false,
     "start_time": "2022-03-26T23:51:13.802781",
     "status": "completed"
    },
    "tags": []
   },
   "outputs": [
    {
     "name": "stderr",
     "output_type": "stream",
     "text": [
      "WARNING: Running pip as the 'root' user can result in broken permissions and conflicting behaviour with the system package manager. It is recommended to use a virtual environment instead: https://pip.pypa.io/warnings/venv\n"
     ]
    }
   ],
   "source": [
    "%%bash\n",
    "pip install transformers -q"
   ]
  },
  {
   "cell_type": "markdown",
   "id": "5c03f60c",
   "metadata": {
    "_cell_guid": "b1076dfc-b9ad-4769-8c92-a6c4dae69d19",
    "_uuid": "8f2839f25d086af736a60e9eeb907d3b93b6e0e5",
    "papermill": {
     "duration": 0.016508,
     "end_time": "2022-03-26T23:51:22.495562",
     "exception": false,
     "start_time": "2022-03-26T23:51:22.479054",
     "status": "completed"
    },
    "tags": []
   },
   "source": [
    "### **Library Imports**"
   ]
  },
  {
   "cell_type": "code",
   "execution_count": 2,
   "id": "203378a8",
   "metadata": {
    "execution": {
     "iopub.execute_input": "2022-03-26T23:51:22.535636Z",
     "iopub.status.busy": "2022-03-26T23:51:22.535092Z",
     "iopub.status.idle": "2022-03-26T23:51:25.654327Z",
     "shell.execute_reply": "2022-03-26T23:51:25.653841Z",
     "shell.execute_reply.started": "2022-03-26T16:05:40.739034Z"
    },
    "papermill": {
     "duration": 3.142111,
     "end_time": "2022-03-26T23:51:25.654457",
     "exception": false,
     "start_time": "2022-03-26T23:51:22.512346",
     "status": "completed"
    },
    "tags": []
   },
   "outputs": [],
   "source": [
    "import os\n",
    "import re\n",
    "import cv2\n",
    "import torch\n",
    "import pickle\n",
    "import numpy as np\n",
    "import pandas as pd\n",
    "import matplotlib.pyplot as plt\n",
    "\n",
    "from time import time\n",
    "from torch import nn, optim\n",
    "from torch.utils.data import Dataset\n",
    "from torch.utils.data import DataLoader as DL\n",
    "from torch.nn.utils import weight_norm as WN\n",
    "from torchvision import transforms\n",
    "\n",
    "from sklearn.preprocessing import LabelEncoder\n",
    "from sklearn.model_selection import StratifiedKFold\n",
    "from transformers import AutoFeatureExtractor, SwinForImageClassification, SwinModel, SwinConfig"
   ]
  },
  {
   "cell_type": "markdown",
   "id": "3d1ecc5b",
   "metadata": {
    "papermill": {
     "duration": 0.017776,
     "end_time": "2022-03-26T23:51:25.689745",
     "exception": false,
     "start_time": "2022-03-26T23:51:25.671969",
     "status": "completed"
    },
    "tags": []
   },
   "source": [
    "### **Utilities and Constants**"
   ]
  },
  {
   "cell_type": "code",
   "execution_count": 3,
   "id": "0dbbb869",
   "metadata": {
    "execution": {
     "iopub.execute_input": "2022-03-26T23:51:25.771509Z",
     "iopub.status.busy": "2022-03-26T23:51:25.770311Z",
     "iopub.status.idle": "2022-03-26T23:51:25.772778Z",
     "shell.execute_reply": "2022-03-26T23:51:25.773188Z",
     "shell.execute_reply.started": "2022-03-26T16:05:42.899664Z"
    },
    "papermill": {
     "duration": 0.066599,
     "end_time": "2022-03-26T23:51:25.773339",
     "exception": false,
     "start_time": "2022-03-26T23:51:25.706740",
     "status": "completed"
    },
    "tags": []
   },
   "outputs": [],
   "source": [
    "SEED = 42\n",
    "\n",
    "le = LabelEncoder()\n",
    "\n",
    "NAMES = [\n",
    "    \"swin-tiny-patch4-window7-224\",\n",
    "    \"swin-small-patch4-window7-224\",\n",
    "    \"swin-base-patch4-window7-224\",\n",
    "    \"swin-base-patch4-window12-384\",\n",
    "]\n",
    "\n",
    "DEVICE = torch.device(\"cuda\" if torch.cuda.is_available() else \"cpu\")\n",
    "TRANSFORM = transforms.Compose([transforms.ToTensor(), \n",
    "                                transforms.Normalize([0.485, 0.456, 0.406], \n",
    "                                                     [0.229, 0.224, 0.225]),\n",
    "                               ])\n",
    "\n",
    "CLASSIFIER_HEAD_PATH = \"../input/fgvc9-swin-b384-features-train-slow/saves\"\n",
    "\n",
    "SAVE_PATH = \"saves\"\n",
    "if not os.path.exists(SAVE_PATH):\n",
    "    os.makedirs(SAVE_PATH)"
   ]
  },
  {
   "cell_type": "code",
   "execution_count": 4,
   "id": "172a2777",
   "metadata": {
    "execution": {
     "iopub.execute_input": "2022-03-26T23:51:25.815681Z",
     "iopub.status.busy": "2022-03-26T23:51:25.814857Z",
     "iopub.status.idle": "2022-03-26T23:51:25.816593Z",
     "shell.execute_reply": "2022-03-26T23:51:25.817099Z",
     "shell.execute_reply.started": "2022-03-26T16:09:29.16108Z"
    },
    "papermill": {
     "duration": 0.02598,
     "end_time": "2022-03-26T23:51:25.817233",
     "exception": false,
     "start_time": "2022-03-26T23:51:25.791253",
     "status": "completed"
    },
    "tags": []
   },
   "outputs": [],
   "source": [
    "def breaker(num: int=50, char: str=\"*\") -> None:\n",
    "    print(\"\\n\" + num*char + \"\\n\")\n",
    "\n",
    "    \n",
    "def get_image(path: str) -> np.ndarray:\n",
    "    image = cv2.imread(path, cv2.IMREAD_COLOR)\n",
    "    image = cv2.cvtColor(src=image, code=cv2.COLOR_BGR2RGB)\n",
    "    return cv2.resize(src=image, dsize=(384, 384), interpolation=cv2.INTER_AREA)"
   ]
  },
  {
   "cell_type": "markdown",
   "id": "b5d95847",
   "metadata": {
    "papermill": {
     "duration": 0.016654,
     "end_time": "2022-03-26T23:51:25.851713",
     "exception": false,
     "start_time": "2022-03-26T23:51:25.835059",
     "status": "completed"
    },
    "tags": []
   },
   "source": [
    "### **Dataset Template**"
   ]
  },
  {
   "cell_type": "code",
   "execution_count": 5,
   "id": "57c178d5",
   "metadata": {
    "execution": {
     "iopub.execute_input": "2022-03-26T23:51:25.889055Z",
     "iopub.status.busy": "2022-03-26T23:51:25.888130Z",
     "iopub.status.idle": "2022-03-26T23:51:25.899314Z",
     "shell.execute_reply": "2022-03-26T23:51:25.898874Z",
     "shell.execute_reply.started": "2022-03-26T16:05:47.615681Z"
    },
    "papermill": {
     "duration": 0.030648,
     "end_time": "2022-03-26T23:51:25.899422",
     "exception": false,
     "start_time": "2022-03-26T23:51:25.868774",
     "status": "completed"
    },
    "tags": []
   },
   "outputs": [],
   "source": [
    "class FEDS(Dataset):\n",
    "    def __init__(self, base_path: str, filenames: np.ndarray, transform):\n",
    "        self.base_path = base_path\n",
    "        self.filenames = filenames\n",
    "        self.transform = transform\n",
    "    \n",
    "    def __len__(self):\n",
    "        return self.filenames.shape[0]\n",
    "    \n",
    "    def __getitem__(self, idx):\n",
    "        return self.transform(get_image(os.path.join(self.base_path, self.filenames[idx])))\n",
    "\n",
    "    \n",
    "class DS(Dataset):\n",
    "    def __init__(self, X=None, y=None, mode=\"train\"):\n",
    "        self.mode = mode\n",
    "\n",
    "        assert(re.match(r\"train\", self.mode, re.IGNORECASE) or re.match(r\"valid\", self.mode, re.IGNORECASE) or re.match(r\"test\", self.mode, re.IGNORECASE))\n",
    "\n",
    "        self.X = X\n",
    "        if re.match(r\"train\", self.mode, re.IGNORECASE) or re.match(r\"valid\", self.mode, re.IGNORECASE):\n",
    "            self.y = y\n",
    "    \n",
    "    def __len__(self):\n",
    "        return self.X.shape[0]\n",
    "    \n",
    "    def __getitem__(self, idx):\n",
    "        if re.match(r\"train\", self.mode, re.IGNORECASE) or re.match(r\"valid\", self.mode, re.IGNORECASE):\n",
    "            return torch.FloatTensor(self.X[idx]), torch.LongTensor(self.y[idx])\n",
    "        else:\n",
    "            return torch.FloatTensor(self.X[idx])"
   ]
  },
  {
   "cell_type": "markdown",
   "id": "8fc197c3",
   "metadata": {
    "papermill": {
     "duration": 0.01687,
     "end_time": "2022-03-26T23:51:25.934152",
     "exception": false,
     "start_time": "2022-03-26T23:51:25.917282",
     "status": "completed"
    },
    "tags": []
   },
   "source": [
    "### **Model**"
   ]
  },
  {
   "cell_type": "code",
   "execution_count": 6,
   "id": "b9bcf9a1",
   "metadata": {
    "execution": {
     "iopub.execute_input": "2022-03-26T23:51:25.998241Z",
     "iopub.status.busy": "2022-03-26T23:51:25.997447Z",
     "iopub.status.idle": "2022-03-26T23:51:26.000948Z",
     "shell.execute_reply": "2022-03-26T23:51:26.000471Z",
     "shell.execute_reply.started": "2022-03-26T16:05:49.353826Z"
    },
    "papermill": {
     "duration": 0.050096,
     "end_time": "2022-03-26T23:51:26.001054",
     "exception": false,
     "start_time": "2022-03-26T23:51:25.950958",
     "status": "completed"
    },
    "tags": []
   },
   "outputs": [],
   "source": [
    "class Model(nn.Module):\n",
    "    def __init__(self, IL: int=None, HL: list=None, DP: float=None, use_WN: bool=False):\n",
    "        super(Model, self).__init__()\n",
    "\n",
    "        self.model = nn.Sequential()\n",
    "\n",
    "        if len(HL) == 1:\n",
    "            self.model.add_module(\"BN1\", nn.BatchNorm1d(num_features=IL, eps=1e-5))\n",
    "            if use_WN: \n",
    "                self.model.add_module(\"FC1\", WN(nn.Linear(in_features=IL, out_features=HL[0])))\n",
    "            else: \n",
    "                self.model.add_module(\"FC1\", nn.Linear(in_features=IL, out_features=HL[0]))\n",
    "            if isinstance(DP, float):\n",
    "                self.model.add_module(\"DP1\", nn.Dropout(p=DP))\n",
    "            self.model.add_module(\"AN1\", nn.ReLU())\n",
    "            self.model.add_module(\"BN2\", nn.BatchNorm1d(num_features=HL[0], eps=1e-5))\n",
    "            if use_WN: \n",
    "                self.model.add_module(\"FC2\", WN(nn.Linear(in_features=HL[0], out_features=100)))\n",
    "            else:\n",
    "                self.model.add_module(\"FC2\", nn.Linear(in_features=HL[0], out_features=100))\n",
    "\n",
    "        \n",
    "        elif len(HL) == 2:\n",
    "            self.model.add_module(\"BN1\", nn.BatchNorm1d(num_features=IL, eps=1e-5))\n",
    "            if use_WN: \n",
    "                self.model.add_module(\"FC1\", WN(nn.Linear(in_features=IL, out_features=HL[0])))\n",
    "            else: \n",
    "                self.model.add_module(\"FC1\", nn.Linear(in_features=IL, out_features=HL[0]))\n",
    "            if isinstance(DP, float):\n",
    "                self.model.add_module(\"DP1\", nn.Dropout(p=DP))\n",
    "            self.model.add_module(\"AN1\", nn.ReLU())\n",
    "            self.model.add_module(\"BN2\", nn.BatchNorm1d(num_features=HL[0], eps=1e-5))\n",
    "            if use_WN:\n",
    "                self.model.add_module(\"FC2\", WN(nn.Linear(in_features=HL[0], out_features=HL[1])))\n",
    "            else:\n",
    "                self.model.add_module(\"FC2\", nn.Linear(in_features=HL[0], out_features=HL[1]))\n",
    "            if isinstance(DP, float):\n",
    "                self.model.add_module(\"DP2\", nn.Dropout(p=DP))\n",
    "            self.model.add_module(\"AN2\", nn.ReLU())\n",
    "            self.model.add_module(\"BN3\", nn.BatchNorm1d(num_features=HL[1], eps=1e-5))\n",
    "            if use_WN: \n",
    "                self.model.add_module(\"FC3\", WN(nn.Linear(in_features=HL[1], out_features=100)))\n",
    "            else:\n",
    "                self.model.add_module(\"FC3\", nn.Linear(in_features=HL[1], out_features=100))\n",
    "        \n",
    "        elif len(HL) == 3:\n",
    "            self.model.add_module(\"BN1\", nn.BatchNorm1d(num_features=IL, eps=1e-5))\n",
    "            if use_WN: \n",
    "                self.model.add_module(\"FC1\", WN(nn.Linear(in_features=IL, out_features=HL[0])))\n",
    "            else: \n",
    "                self.model.add_module(\"FC1\", nn.Linear(in_features=IL, out_features=HL[0]))\n",
    "            if isinstance(DP, float):\n",
    "                self.model.add_module(\"DP1\", nn.Dropout(p=DP))\n",
    "            self.model.add_module(\"AN1\", nn.ReLU())\n",
    "            self.model.add_module(\"BN2\", nn.BatchNorm1d(num_features=HL[0], eps=1e-5))\n",
    "            if use_WN:\n",
    "                self.model.add_module(\"FC2\", WN(nn.Linear(in_features=HL[0], out_features=HL[1])))\n",
    "            else:\n",
    "                self.model.add_module(\"FC2\", nn.Linear(in_features=HL[0], out_features=HL[1]))\n",
    "            if isinstance(DP, float):\n",
    "                self.model.add_module(\"DP2\", nn.Dropout(p=DP))\n",
    "            self.model.add_module(\"AN2\", nn.ReLU())\n",
    "            self.model.add_module(\"BN3\", nn.BatchNorm1d(num_features=HL[1], eps=1e-5))\n",
    "            if use_WN:\n",
    "                self.model.add_module(\"FC3\", WN(nn.Linear(in_features=HL[1], out_features=HL[2])))\n",
    "            else:\n",
    "                self.model.add_module(\"FC3\", nn.Linear(in_features=HL[1], out_features=HL[2]))\n",
    "            if isinstance(DP, float):\n",
    "                self.model.add_module(\"DP3\", nn.Dropout(p=DP))\n",
    "            self.model.add_module(\"AN3\", nn.ReLU())\n",
    "            self.model.add_module(\"BN4\", nn.BatchNorm1d(num_features=HL[2], eps=1e-5))\n",
    "            if use_WN: \n",
    "                self.model.add_module(\"FC4\", WN(nn.Linear(in_features=HL[2], out_features=100)))\n",
    "            else:\n",
    "                self.model.add_module(\"FC4\", nn.Linear(in_features=HL[2], out_features=100))\n",
    "    \n",
    "    def get_optimizer(self, lr=1e-3, wd=0.0):\n",
    "        return optim.Adam(self.parameters(), lr=lr, weight_decay=wd)\n",
    "\n",
    "    def get_plateau_scheduler(self, optimizer=None, patience=5, eps=1e-8):\n",
    "        return optim.lr_scheduler.ReduceLROnPlateau(optimizer=optimizer, patience=patience, eps=eps)\n",
    "    \n",
    "    def forward(self, x):\n",
    "        return nn.LogSoftmax(dim=1)(self.model(x))"
   ]
  },
  {
   "cell_type": "markdown",
   "id": "f1dcb1b7",
   "metadata": {
    "papermill": {
     "duration": 0.016314,
     "end_time": "2022-03-26T23:51:26.033918",
     "exception": false,
     "start_time": "2022-03-26T23:51:26.017604",
     "status": "completed"
    },
    "tags": []
   },
   "source": [
    "### **Fit and Predict Helper**"
   ]
  },
  {
   "cell_type": "code",
   "execution_count": 7,
   "id": "ffadba12",
   "metadata": {
    "execution": {
     "iopub.execute_input": "2022-03-26T23:51:26.078979Z",
     "iopub.status.busy": "2022-03-26T23:51:26.077938Z",
     "iopub.status.idle": "2022-03-26T23:51:26.079998Z",
     "shell.execute_reply": "2022-03-26T23:51:26.080379Z",
     "shell.execute_reply.started": "2022-03-26T16:05:50.865583Z"
    },
    "papermill": {
     "duration": 0.02939,
     "end_time": "2022-03-26T23:51:26.080508",
     "exception": false,
     "start_time": "2022-03-26T23:51:26.051118",
     "status": "completed"
    },
    "tags": []
   },
   "outputs": [],
   "source": [
    "# def fit(model=None, optimizer=None, scheduler=None, epochs=None, early_stopping_patience=None, dataloaders=None, fold=None, verbose=False) -> tuple:\n",
    "    \n",
    "#     def get_accuracy(y_pred, y_true):\n",
    "#         y_pred = torch.argmax(y_pred, dim=1)\n",
    "#         return torch.count_nonzero(y_pred == y_true).item() / len(y_pred)\n",
    "    \n",
    "#     if verbose:\n",
    "#         breaker()\n",
    "#         print(f\"Training Fold {fold}...\")\n",
    "#         breaker()\n",
    "        \n",
    "#     bestLoss, bestAccs = {\"train\" : np.inf, \"valid\" : np.inf}, {\"train\" : 0.0, \"valid\" : 0.0}\n",
    "#     Losses, Accuracies = [], []\n",
    "#     name = f\"state_fold_{fold}.pt\"\n",
    "\n",
    "#     start_time = time()\n",
    "#     for e in range(epochs):\n",
    "#         e_st = time()\n",
    "#         epochLoss, epochAccs = {\"train\" : 0.0, \"valid\" : 0.0}, {\"train\" : 0.0, \"valid\" : 0.0}\n",
    "\n",
    "#         for phase in [\"train\", \"valid\"]:\n",
    "#             if phase == \"train\":\n",
    "#                 model.train()\n",
    "#             else:\n",
    "#                 model.eval()\n",
    "            \n",
    "#             lossPerPass, accsPerPass = [], []\n",
    "            \n",
    "#             for X, y in dataloaders[phase]:\n",
    "#                 X, y = X.to(DEVICE), y.to(DEVICE).view(-1)\n",
    "\n",
    "#                 optimizer.zero_grad()\n",
    "#                 with torch.set_grad_enabled(phase == \"train\"):\n",
    "#                     output = model(X)\n",
    "#                     loss = torch.nn.NLLLoss()(output, y)\n",
    "#                     if phase == \"train\":\n",
    "#                         loss.backward()\n",
    "#                         optimizer.step()\n",
    "#                 lossPerPass.append(loss.item())\n",
    "#                 accsPerPass.append(get_accuracy(output, y))\n",
    "#             epochLoss[phase] = np.mean(np.array(lossPerPass))\n",
    "#             epochAccs[phase] = np.mean(np.array(accsPerPass))\n",
    "#         Losses.append(epochLoss)\n",
    "#         Accuracies.append(epochAccs)\n",
    "        \n",
    "#         if early_stopping_patience:\n",
    "#             if epochLoss[\"valid\"] < bestLoss[\"valid\"]:\n",
    "#                 bestLoss = epochLoss\n",
    "#                 BLE = e + 1\n",
    "#                 torch.save({\"model_state_dict\": model.state_dict(),\n",
    "#                             \"optim_state_dict\": optimizer.state_dict()},\n",
    "#                            os.path.join(SAVE_PATH, name))\n",
    "#                 early_stopping_step = 0\n",
    "#             else:\n",
    "#                 early_stopping_step += 1\n",
    "#                 if early_stopping_step > early_stopping_patience:\n",
    "#                     print(\"\\nEarly Stopping at Epoch {}\".format(e + 1))\n",
    "#                     break\n",
    "        \n",
    "#         if epochLoss[\"valid\"] < bestLoss[\"valid\"]:\n",
    "#             bestLoss = epochLoss\n",
    "#             BLE = e + 1\n",
    "#             torch.save({\"model_state_dict\" : model.state_dict(),\n",
    "#                         \"optim_state_dict\" : optimizer.state_dict()},\n",
    "#                         os.path.join(SAVE_PATH, name))\n",
    "        \n",
    "#         if epochAccs[\"valid\"] > bestAccs[\"valid\"]:\n",
    "#             bestAccs = epochAccs\n",
    "#             BAE = e + 1\n",
    "        \n",
    "#         if scheduler:\n",
    "#             scheduler.step(epochLoss[\"valid\"])\n",
    "        \n",
    "#         if verbose:\n",
    "#             print(\"Epoch: {} | Train Loss: {:.5f} | Valid Loss: {:.5f} |\\\n",
    "# Train Accs: {:.5f} | Valid Accs: {:.5f} | Time: {:.2f} seconds\".format(e+1, \n",
    "#                                                                        epochLoss[\"train\"], epochLoss[\"valid\"], \n",
    "#                                                                        epochAccs[\"train\"], epochAccs[\"valid\"], \n",
    "#                                                                        time()-e_st))\n",
    "\n",
    "#     if verbose:                                           \n",
    "#         breaker()\n",
    "#         print(f\"Best Validation Loss at Epoch {BLE}\")\n",
    "#         breaker()\n",
    "#         print(f\"Best Validation Accs at Epoch {BAE}\")\n",
    "#         breaker()\n",
    "#         print(\"Time Taken [{} Epochs] : {:.2f} minutes\".format(len(Losses), (time()-start_time)/60))\n",
    "    \n",
    "#     return Losses, Accuracies, BLE, BAE, name\n",
    "\n",
    "\n",
    "def predict(model=None, dataloader=None, path=None) -> np.ndarray:\n",
    "    model.load_state_dict(torch.load(path, map_location=DEVICE)[\"model_state_dict\"])\n",
    "    model.to(DEVICE)    \n",
    "    model.eval()\n",
    "    \n",
    "    y_pred = torch.zeros(1, 1).to(DEVICE)\n",
    "    \n",
    "    for X in dataloader:\n",
    "        X = X.to(DEVICE)\n",
    "        with torch.no_grad():\n",
    "            output = torch.argmax(torch.exp(model(X)), dim=1)\n",
    "        y_pred = torch.cat((y_pred, output.view(-1, 1)), dim=0)\n",
    "    \n",
    "    return y_pred[1:].detach().cpu().numpy()"
   ]
  },
  {
   "cell_type": "markdown",
   "id": "3ae7d19b",
   "metadata": {
    "papermill": {
     "duration": 0.020109,
     "end_time": "2022-03-26T23:51:26.118428",
     "exception": false,
     "start_time": "2022-03-26T23:51:26.098319",
     "status": "completed"
    },
    "tags": []
   },
   "source": [
    "### **Load and Preprocess Data**"
   ]
  },
  {
   "cell_type": "code",
   "execution_count": 8,
   "id": "3d158aa0",
   "metadata": {
    "execution": {
     "iopub.execute_input": "2022-03-26T23:51:26.163435Z",
     "iopub.status.busy": "2022-03-26T23:51:26.162787Z",
     "iopub.status.idle": "2022-03-26T23:54:39.225365Z",
     "shell.execute_reply": "2022-03-26T23:54:39.224354Z",
     "shell.execute_reply.started": "2022-03-26T16:05:53.329979Z"
    },
    "papermill": {
     "duration": 193.088431,
     "end_time": "2022-03-26T23:54:39.225522",
     "exception": false,
     "start_time": "2022-03-26T23:51:26.137091",
     "status": "completed"
    },
    "tags": []
   },
   "outputs": [],
   "source": [
    "train_df = pd.read_csv(\"../input/sorghum-id-fgvc-9/train_cultivar_mapping.csv\")\n",
    "ss_df = pd.read_csv(\"../input/sorghum-id-fgvc-9/sample_submission.csv\")\n",
    "\n",
    "broken_images = [filename for filename in train_df.image if filename not in os.listdir(\"../input/sorghum-id-fgvc-9/train_images\")]\n",
    "for broken_image in broken_images:\n",
    "    index = train_df.index[train_df.image == broken_image]\n",
    "    train_df = train_df.drop(index=index)\n",
    "    \n",
    "filenames = train_df.image.copy().values\n",
    "labels    = train_df.cultivar.copy().values \n",
    "\n",
    "labels = le.fit_transform(labels)\n",
    "\n",
    "ts_filenames = ss_df.filename.copy().values\n",
    "ts_features = np.zeros((len(ts_filenames), 1024))"
   ]
  },
  {
   "cell_type": "markdown",
   "id": "c07197d1",
   "metadata": {
    "papermill": {
     "duration": 0.018273,
     "end_time": "2022-03-26T23:54:39.261114",
     "exception": false,
     "start_time": "2022-03-26T23:54:39.242841",
     "status": "completed"
    },
    "tags": []
   },
   "source": [
    "### **Get SWIN Features**"
   ]
  },
  {
   "cell_type": "code",
   "execution_count": 9,
   "id": "f16900a6",
   "metadata": {
    "execution": {
     "iopub.execute_input": "2022-03-26T23:54:39.303455Z",
     "iopub.status.busy": "2022-03-26T23:54:39.302586Z",
     "iopub.status.idle": "2022-03-27T00:19:34.195221Z",
     "shell.execute_reply": "2022-03-27T00:19:34.194610Z",
     "shell.execute_reply.started": "2022-03-26T16:09:57.87474Z"
    },
    "papermill": {
     "duration": 1494.91729,
     "end_time": "2022-03-27T00:19:34.195374",
     "exception": false,
     "start_time": "2022-03-26T23:54:39.278084",
     "status": "completed"
    },
    "tags": []
   },
   "outputs": [
    {
     "data": {
      "application/vnd.jupyter.widget-view+json": {
       "model_id": "45a7e0d0d57343e08a5b01947829b4a8",
       "version_major": 2,
       "version_minor": 0
      },
      "text/plain": [
       "Downloading:   0%|          | 0.00/70.1k [00:00<?, ?B/s]"
      ]
     },
     "metadata": {},
     "output_type": "display_data"
    },
    {
     "data": {
      "application/vnd.jupyter.widget-view+json": {
       "model_id": "d9a169b2890d4968b9a4a3787b99d4b7",
       "version_major": 2,
       "version_minor": 0
      },
      "text/plain": [
       "Downloading:   0%|          | 0.00/255 [00:00<?, ?B/s]"
      ]
     },
     "metadata": {},
     "output_type": "display_data"
    },
    {
     "data": {
      "application/vnd.jupyter.widget-view+json": {
       "model_id": "0458bd245be24def83a3cbe097ad21b1",
       "version_major": 2,
       "version_minor": 0
      },
      "text/plain": [
       "Downloading:   0%|          | 0.00/339M [00:00<?, ?B/s]"
      ]
     },
     "metadata": {},
     "output_type": "display_data"
    },
    {
     "name": "stderr",
     "output_type": "stream",
     "text": [
      "Some weights of the model checkpoint at microsoft/swin-base-patch4-window12-384 were not used when initializing SwinModel: ['classifier.weight', 'classifier.bias']\n",
      "- This IS expected if you are initializing SwinModel from the checkpoint of a model trained on another task or with another architecture (e.g. initializing a BertForSequenceClassification model from a BertForPreTraining model).\n",
      "- This IS NOT expected if you are initializing SwinModel from the checkpoint of a model that you expect to be exactly identical (initializing a BertForSequenceClassification model from a BertForSequenceClassification model).\n"
     ]
    }
   ],
   "source": [
    "pretrained = AutoFeatureExtractor.from_pretrained(\"microsoft/\" + NAMES[3])\n",
    "model = SwinModel.from_pretrained(\"microsoft/\" + NAMES[3]).to(DEVICE)\n",
    "\n",
    "dataloader_setup = FEDS(\"../input/sorghum-id-fgvc-9/test\", ts_filenames, TRANSFORM)\n",
    "dataloader = DL(dataloader_setup, batch_size=64, shuffle=False)\n",
    "\n",
    "ts_features = torch.zeros(1, 1024).to(DEVICE)\n",
    "\n",
    "for X in dataloader:\n",
    "    X = X.to(DEVICE)\n",
    "    with torch.no_grad():\n",
    "        output = model(X).last_hidden_state\n",
    "    ts_features = torch.cat((ts_features, output[:, 0, :]), dim=0)\n",
    "\n",
    "ts_features = ts_features[1:].detach().cpu().numpy()"
   ]
  },
  {
   "cell_type": "markdown",
   "id": "81ed3397",
   "metadata": {
    "papermill": {
     "duration": 0.01842,
     "end_time": "2022-03-27T00:19:34.233698",
     "exception": false,
     "start_time": "2022-03-27T00:19:34.215278",
     "status": "completed"
    },
    "tags": []
   },
   "source": [
    "### **Params**"
   ]
  },
  {
   "cell_type": "code",
   "execution_count": 10,
   "id": "d955acc9",
   "metadata": {
    "execution": {
     "iopub.execute_input": "2022-03-27T00:19:34.278958Z",
     "iopub.status.busy": "2022-03-27T00:19:34.277277Z",
     "iopub.status.idle": "2022-03-27T00:19:34.279507Z",
     "shell.execute_reply": "2022-03-27T00:19:34.279941Z",
     "shell.execute_reply.started": "2022-03-26T16:18:49.700184Z"
    },
    "papermill": {
     "duration": 0.02717,
     "end_time": "2022-03-27T00:19:34.280073",
     "exception": false,
     "start_time": "2022-03-27T00:19:34.252903",
     "status": "completed"
    },
    "tags": []
   },
   "outputs": [],
   "source": [
    "DEBUG: bool = False\n",
    "    \n",
    "if DEBUG:\n",
    "    n_splits = 3\n",
    "    epochs = 2\n",
    "    HL = [4]\n",
    "else:\n",
    "    n_splits = 5\n",
    "    epochs = 500\n",
    "    HL = [2048, 1024, 512]\n",
    "\n",
    "batch_size = 512\n",
    "lr = 1e-6\n",
    "wd = 1e-5\n",
    "early_stopping = 50\n",
    "patience = None\n",
    "eps = None"
   ]
  },
  {
   "cell_type": "markdown",
   "id": "a8d504ad",
   "metadata": {
    "papermill": {
     "duration": 0.018904,
     "end_time": "2022-03-27T00:19:34.317668",
     "exception": false,
     "start_time": "2022-03-27T00:19:34.298764",
     "status": "completed"
    },
    "tags": []
   },
   "source": [
    "### **Train**"
   ]
  },
  {
   "cell_type": "code",
   "execution_count": 11,
   "id": "5ef3590d",
   "metadata": {
    "execution": {
     "iopub.execute_input": "2022-03-27T00:19:34.360998Z",
     "iopub.status.busy": "2022-03-27T00:19:34.360106Z",
     "iopub.status.idle": "2022-03-27T00:19:34.361954Z",
     "shell.execute_reply": "2022-03-27T00:19:34.362396Z",
     "shell.execute_reply.started": "2022-03-26T16:18:49.701911Z"
    },
    "papermill": {
     "duration": 0.026356,
     "end_time": "2022-03-27T00:19:34.362521",
     "exception": false,
     "start_time": "2022-03-27T00:19:34.336165",
     "status": "completed"
    },
    "tags": []
   },
   "outputs": [],
   "source": [
    "# fold = 1\n",
    "\n",
    "# start_time = time()\n",
    "# for tr_idx, va_idx in StratifiedKFold(n_splits=n_splits, random_state=SEED, shuffle=True).split(features, labels):\n",
    "#     tr_features, va_features, tr_labels, va_labels = features[tr_idx], features[va_idx], labels[tr_idx], labels[va_idx]\n",
    "    \n",
    "#     tr_data_setup = DS(tr_features, tr_labels.reshape(-1, 1), \"train\")\n",
    "#     va_data_setup = DS(va_features, va_labels.reshape(-1, 1), \"valid\")\n",
    "\n",
    "#     dataloaders = {\n",
    "#         \"train\" : DL(tr_data_setup, batch_size=batch_size, shuffle=True, generator=torch.manual_seed(SEED)),\n",
    "#         \"valid\" : DL(va_data_setup, batch_size=batch_size, shuffle=False),\n",
    "#     }\n",
    "\n",
    "#     torch.manual_seed(SEED)\n",
    "#     model = Model(IL=tr_features.shape[1], HL=HL, DP=0.25, use_WN=True).to(DEVICE)\n",
    "#     optimizer = model.get_optimizer(lr=lr, wd=wd)\n",
    "#     scheduler = None\n",
    "#     if isinstance(patience, int) and isinstance(eps, float):\n",
    "#         scheduler = get_plateau_scheduler(optimizer=optimizer, patience=patience, eps=eps)\n",
    "    \n",
    "#     L, A, BLE, BAE, name = fit(model=model, optimizer=optimizer, scheduler=scheduler, \n",
    "#                            epochs=epochs, early_stopping_patience=early_stopping, \n",
    "#                            dataloaders=dataloaders, fold=fold, verbose=True)\n",
    "\n",
    "#     breaker()\n",
    "#     show_graphs(L, A)\n",
    "#     fold += 1\n",
    "\n",
    "# breaker()\n",
    "# print(f\"Total Time Taken for {n_splits}-Fold CV : {(time()-start_time)/60:.2f} minutes\")\n",
    "# breaker()"
   ]
  },
  {
   "cell_type": "markdown",
   "id": "0cb4f9a3",
   "metadata": {
    "papermill": {
     "duration": 0.018152,
     "end_time": "2022-03-27T00:19:34.403317",
     "exception": false,
     "start_time": "2022-03-27T00:19:34.385165",
     "status": "completed"
    },
    "tags": []
   },
   "source": [
    "### **Submission**"
   ]
  },
  {
   "cell_type": "code",
   "execution_count": 12,
   "id": "21bdf7f9",
   "metadata": {
    "execution": {
     "iopub.execute_input": "2022-03-27T00:19:34.449431Z",
     "iopub.status.busy": "2022-03-27T00:19:34.448836Z",
     "iopub.status.idle": "2022-03-27T00:19:35.624358Z",
     "shell.execute_reply": "2022-03-27T00:19:35.624829Z",
     "shell.execute_reply.started": "2022-03-26T16:18:49.703553Z"
    },
    "papermill": {
     "duration": 1.203346,
     "end_time": "2022-03-27T00:19:35.624973",
     "exception": false,
     "start_time": "2022-03-27T00:19:34.421627",
     "status": "completed"
    },
    "tags": []
   },
   "outputs": [
    {
     "name": "stderr",
     "output_type": "stream",
     "text": [
      "/opt/conda/lib/python3.7/site-packages/sklearn/preprocessing/_label.py:154: DataConversionWarning: A column-vector y was passed when a 1d array was expected. Please change the shape of y to (n_samples, ), for example using ravel().\n",
      "  y = column_or_1d(y, warn=True)\n"
     ]
    }
   ],
   "source": [
    "ts_data_setup = DS(ts_features, None, \"test\")\n",
    "ts_data = DL(ts_data_setup, batch_size=batch_size, shuffle=False)\n",
    "\n",
    "torch.manual_seed(SEED)\n",
    "model = Model(IL=ts_features.shape[1], HL=HL, DP=0.25, use_WN=True).to(DEVICE)\n",
    "\n",
    "best_model_fold = 4\n",
    "y_pred = predict(model=model, dataloader=ts_data, path=os.path.join(CLASSIFIER_HEAD_PATH, f\"state_fold_{best_model_fold}.pt\"))\n",
    "\n",
    "ss_df[\"cultivar\"] = le.inverse_transform(y_pred.astype(\"uint8\"))\n",
    "ss_df.to_csv(\"submission.csv\", index=False)"
   ]
  }
 ],
 "metadata": {
  "kernelspec": {
   "display_name": "Python 3",
   "language": "python",
   "name": "python3"
  },
  "language_info": {
   "codemirror_mode": {
    "name": "ipython",
    "version": 3
   },
   "file_extension": ".py",
   "mimetype": "text/x-python",
   "name": "python",
   "nbconvert_exporter": "python",
   "pygments_lexer": "ipython3",
   "version": "3.7.12"
  },
  "papermill": {
   "default_parameters": {},
   "duration": 1711.833103,
   "end_time": "2022-03-27T00:19:37.361439",
   "environment_variables": {},
   "exception": null,
   "input_path": "__notebook__.ipynb",
   "output_path": "__notebook__.ipynb",
   "parameters": {},
   "start_time": "2022-03-26T23:51:05.528336",
   "version": "2.3.3"
  },
  "widgets": {
   "application/vnd.jupyter.widget-state+json": {
    "state": {
     "0458bd245be24def83a3cbe097ad21b1": {
      "model_module": "@jupyter-widgets/controls",
      "model_module_version": "1.5.0",
      "model_name": "HBoxModel",
      "state": {
       "_dom_classes": [],
       "_model_module": "@jupyter-widgets/controls",
       "_model_module_version": "1.5.0",
       "_model_name": "HBoxModel",
       "_view_count": null,
       "_view_module": "@jupyter-widgets/controls",
       "_view_module_version": "1.5.0",
       "_view_name": "HBoxView",
       "box_style": "",
       "children": [
        "IPY_MODEL_384879cf8a91441591ac82d799730cb0",
        "IPY_MODEL_1401beb8061348dcb1a077905ea1b5f7",
        "IPY_MODEL_76f51a6d090d4d07a82603ad6a2f799c"
       ],
       "layout": "IPY_MODEL_b99227a83dab40e6b7a04c6e7dea56b1"
      }
     },
     "13655d3efa2142179a9ea204e5455101": {
      "model_module": "@jupyter-widgets/base",
      "model_module_version": "1.2.0",
      "model_name": "LayoutModel",
      "state": {
       "_model_module": "@jupyter-widgets/base",
       "_model_module_version": "1.2.0",
       "_model_name": "LayoutModel",
       "_view_count": null,
       "_view_module": "@jupyter-widgets/base",
       "_view_module_version": "1.2.0",
       "_view_name": "LayoutView",
       "align_content": null,
       "align_items": null,
       "align_self": null,
       "border": null,
       "bottom": null,
       "display": null,
       "flex": null,
       "flex_flow": null,
       "grid_area": null,
       "grid_auto_columns": null,
       "grid_auto_flow": null,
       "grid_auto_rows": null,
       "grid_column": null,
       "grid_gap": null,
       "grid_row": null,
       "grid_template_areas": null,
       "grid_template_columns": null,
       "grid_template_rows": null,
       "height": null,
       "justify_content": null,
       "justify_items": null,
       "left": null,
       "margin": null,
       "max_height": null,
       "max_width": null,
       "min_height": null,
       "min_width": null,
       "object_fit": null,
       "object_position": null,
       "order": null,
       "overflow": null,
       "overflow_x": null,
       "overflow_y": null,
       "padding": null,
       "right": null,
       "top": null,
       "visibility": null,
       "width": null
      }
     },
     "1401beb8061348dcb1a077905ea1b5f7": {
      "model_module": "@jupyter-widgets/controls",
      "model_module_version": "1.5.0",
      "model_name": "FloatProgressModel",
      "state": {
       "_dom_classes": [],
       "_model_module": "@jupyter-widgets/controls",
       "_model_module_version": "1.5.0",
       "_model_name": "FloatProgressModel",
       "_view_count": null,
       "_view_module": "@jupyter-widgets/controls",
       "_view_module_version": "1.5.0",
       "_view_name": "ProgressView",
       "bar_style": "success",
       "description": "",
       "description_tooltip": null,
       "layout": "IPY_MODEL_ce1558168e0843cb9643c76610259730",
       "max": 355775743.0,
       "min": 0.0,
       "orientation": "horizontal",
       "style": "IPY_MODEL_210529bc04234764be27d8476172f09f",
       "value": 355775743.0
      }
     },
     "1908f2ec0f41493ea494a31f5332ddbc": {
      "model_module": "@jupyter-widgets/base",
      "model_module_version": "1.2.0",
      "model_name": "LayoutModel",
      "state": {
       "_model_module": "@jupyter-widgets/base",
       "_model_module_version": "1.2.0",
       "_model_name": "LayoutModel",
       "_view_count": null,
       "_view_module": "@jupyter-widgets/base",
       "_view_module_version": "1.2.0",
       "_view_name": "LayoutView",
       "align_content": null,
       "align_items": null,
       "align_self": null,
       "border": null,
       "bottom": null,
       "display": null,
       "flex": null,
       "flex_flow": null,
       "grid_area": null,
       "grid_auto_columns": null,
       "grid_auto_flow": null,
       "grid_auto_rows": null,
       "grid_column": null,
       "grid_gap": null,
       "grid_row": null,
       "grid_template_areas": null,
       "grid_template_columns": null,
       "grid_template_rows": null,
       "height": null,
       "justify_content": null,
       "justify_items": null,
       "left": null,
       "margin": null,
       "max_height": null,
       "max_width": null,
       "min_height": null,
       "min_width": null,
       "object_fit": null,
       "object_position": null,
       "order": null,
       "overflow": null,
       "overflow_x": null,
       "overflow_y": null,
       "padding": null,
       "right": null,
       "top": null,
       "visibility": null,
       "width": null
      }
     },
     "205a12cbefc54cf4be68058f6c0d5c49": {
      "model_module": "@jupyter-widgets/base",
      "model_module_version": "1.2.0",
      "model_name": "LayoutModel",
      "state": {
       "_model_module": "@jupyter-widgets/base",
       "_model_module_version": "1.2.0",
       "_model_name": "LayoutModel",
       "_view_count": null,
       "_view_module": "@jupyter-widgets/base",
       "_view_module_version": "1.2.0",
       "_view_name": "LayoutView",
       "align_content": null,
       "align_items": null,
       "align_self": null,
       "border": null,
       "bottom": null,
       "display": null,
       "flex": null,
       "flex_flow": null,
       "grid_area": null,
       "grid_auto_columns": null,
       "grid_auto_flow": null,
       "grid_auto_rows": null,
       "grid_column": null,
       "grid_gap": null,
       "grid_row": null,
       "grid_template_areas": null,
       "grid_template_columns": null,
       "grid_template_rows": null,
       "height": null,
       "justify_content": null,
       "justify_items": null,
       "left": null,
       "margin": null,
       "max_height": null,
       "max_width": null,
       "min_height": null,
       "min_width": null,
       "object_fit": null,
       "object_position": null,
       "order": null,
       "overflow": null,
       "overflow_x": null,
       "overflow_y": null,
       "padding": null,
       "right": null,
       "top": null,
       "visibility": null,
       "width": null
      }
     },
     "210529bc04234764be27d8476172f09f": {
      "model_module": "@jupyter-widgets/controls",
      "model_module_version": "1.5.0",
      "model_name": "ProgressStyleModel",
      "state": {
       "_model_module": "@jupyter-widgets/controls",
       "_model_module_version": "1.5.0",
       "_model_name": "ProgressStyleModel",
       "_view_count": null,
       "_view_module": "@jupyter-widgets/base",
       "_view_module_version": "1.2.0",
       "_view_name": "StyleView",
       "bar_color": null,
       "description_width": ""
      }
     },
     "24b4889dd3114393aa57d3a72092f545": {
      "model_module": "@jupyter-widgets/controls",
      "model_module_version": "1.5.0",
      "model_name": "DescriptionStyleModel",
      "state": {
       "_model_module": "@jupyter-widgets/controls",
       "_model_module_version": "1.5.0",
       "_model_name": "DescriptionStyleModel",
       "_view_count": null,
       "_view_module": "@jupyter-widgets/base",
       "_view_module_version": "1.2.0",
       "_view_name": "StyleView",
       "description_width": ""
      }
     },
     "2dc4d0f415d44588aa2918004ce1b0c6": {
      "model_module": "@jupyter-widgets/controls",
      "model_module_version": "1.5.0",
      "model_name": "FloatProgressModel",
      "state": {
       "_dom_classes": [],
       "_model_module": "@jupyter-widgets/controls",
       "_model_module_version": "1.5.0",
       "_model_name": "FloatProgressModel",
       "_view_count": null,
       "_view_module": "@jupyter-widgets/controls",
       "_view_module_version": "1.5.0",
       "_view_name": "ProgressView",
       "bar_style": "success",
       "description": "",
       "description_tooltip": null,
       "layout": "IPY_MODEL_1908f2ec0f41493ea494a31f5332ddbc",
       "max": 255.0,
       "min": 0.0,
       "orientation": "horizontal",
       "style": "IPY_MODEL_8ff6ae68dcc44c9a905c3899a59887c4",
       "value": 255.0
      }
     },
     "32b23a7f559044b88606de32f55e61de": {
      "model_module": "@jupyter-widgets/controls",
      "model_module_version": "1.5.0",
      "model_name": "HTMLModel",
      "state": {
       "_dom_classes": [],
       "_model_module": "@jupyter-widgets/controls",
       "_model_module_version": "1.5.0",
       "_model_name": "HTMLModel",
       "_view_count": null,
       "_view_module": "@jupyter-widgets/controls",
       "_view_module_version": "1.5.0",
       "_view_name": "HTMLView",
       "description": "",
       "description_tooltip": null,
       "layout": "IPY_MODEL_13655d3efa2142179a9ea204e5455101",
       "placeholder": "​",
       "style": "IPY_MODEL_8ae4a1017f084003a7a04d4eaee9049b",
       "value": " 70.1k/70.1k [00:00&lt;00:00, 1.92MB/s]"
      }
     },
     "384879cf8a91441591ac82d799730cb0": {
      "model_module": "@jupyter-widgets/controls",
      "model_module_version": "1.5.0",
      "model_name": "HTMLModel",
      "state": {
       "_dom_classes": [],
       "_model_module": "@jupyter-widgets/controls",
       "_model_module_version": "1.5.0",
       "_model_name": "HTMLModel",
       "_view_count": null,
       "_view_module": "@jupyter-widgets/controls",
       "_view_module_version": "1.5.0",
       "_view_name": "HTMLView",
       "description": "",
       "description_tooltip": null,
       "layout": "IPY_MODEL_a0fb5dfad81b4e17b6de5180dda60f28",
       "placeholder": "​",
       "style": "IPY_MODEL_24b4889dd3114393aa57d3a72092f545",
       "value": "Downloading: 100%"
      }
     },
     "3d79daa586d64adba76d7612d724eb35": {
      "model_module": "@jupyter-widgets/controls",
      "model_module_version": "1.5.0",
      "model_name": "HTMLModel",
      "state": {
       "_dom_classes": [],
       "_model_module": "@jupyter-widgets/controls",
       "_model_module_version": "1.5.0",
       "_model_name": "HTMLModel",
       "_view_count": null,
       "_view_module": "@jupyter-widgets/controls",
       "_view_module_version": "1.5.0",
       "_view_name": "HTMLView",
       "description": "",
       "description_tooltip": null,
       "layout": "IPY_MODEL_6e122f8e6e5948129d272ee44c0918e4",
       "placeholder": "​",
       "style": "IPY_MODEL_656cb527502a464b8d0020961b6ed953",
       "value": "Downloading: 100%"
      }
     },
     "41b8adfc6ab94a94a9e2b149d37f6f97": {
      "model_module": "@jupyter-widgets/base",
      "model_module_version": "1.2.0",
      "model_name": "LayoutModel",
      "state": {
       "_model_module": "@jupyter-widgets/base",
       "_model_module_version": "1.2.0",
       "_model_name": "LayoutModel",
       "_view_count": null,
       "_view_module": "@jupyter-widgets/base",
       "_view_module_version": "1.2.0",
       "_view_name": "LayoutView",
       "align_content": null,
       "align_items": null,
       "align_self": null,
       "border": null,
       "bottom": null,
       "display": null,
       "flex": null,
       "flex_flow": null,
       "grid_area": null,
       "grid_auto_columns": null,
       "grid_auto_flow": null,
       "grid_auto_rows": null,
       "grid_column": null,
       "grid_gap": null,
       "grid_row": null,
       "grid_template_areas": null,
       "grid_template_columns": null,
       "grid_template_rows": null,
       "height": null,
       "justify_content": null,
       "justify_items": null,
       "left": null,
       "margin": null,
       "max_height": null,
       "max_width": null,
       "min_height": null,
       "min_width": null,
       "object_fit": null,
       "object_position": null,
       "order": null,
       "overflow": null,
       "overflow_x": null,
       "overflow_y": null,
       "padding": null,
       "right": null,
       "top": null,
       "visibility": null,
       "width": null
      }
     },
     "4427e7f4cd3946cc999db8f3a068d141": {
      "model_module": "@jupyter-widgets/controls",
      "model_module_version": "1.5.0",
      "model_name": "DescriptionStyleModel",
      "state": {
       "_model_module": "@jupyter-widgets/controls",
       "_model_module_version": "1.5.0",
       "_model_name": "DescriptionStyleModel",
       "_view_count": null,
       "_view_module": "@jupyter-widgets/base",
       "_view_module_version": "1.2.0",
       "_view_name": "StyleView",
       "description_width": ""
      }
     },
     "45a7e0d0d57343e08a5b01947829b4a8": {
      "model_module": "@jupyter-widgets/controls",
      "model_module_version": "1.5.0",
      "model_name": "HBoxModel",
      "state": {
       "_dom_classes": [],
       "_model_module": "@jupyter-widgets/controls",
       "_model_module_version": "1.5.0",
       "_model_name": "HBoxModel",
       "_view_count": null,
       "_view_module": "@jupyter-widgets/controls",
       "_view_module_version": "1.5.0",
       "_view_name": "HBoxView",
       "box_style": "",
       "children": [
        "IPY_MODEL_e9207cd0b93e4a5ebb9fd34f1e8e1f5c",
        "IPY_MODEL_62d97e0edc7d420292b2e450ab015eba",
        "IPY_MODEL_32b23a7f559044b88606de32f55e61de"
       ],
       "layout": "IPY_MODEL_205a12cbefc54cf4be68058f6c0d5c49"
      }
     },
     "4968b1100eca4e14a8527cb0d472926f": {
      "model_module": "@jupyter-widgets/base",
      "model_module_version": "1.2.0",
      "model_name": "LayoutModel",
      "state": {
       "_model_module": "@jupyter-widgets/base",
       "_model_module_version": "1.2.0",
       "_model_name": "LayoutModel",
       "_view_count": null,
       "_view_module": "@jupyter-widgets/base",
       "_view_module_version": "1.2.0",
       "_view_name": "LayoutView",
       "align_content": null,
       "align_items": null,
       "align_self": null,
       "border": null,
       "bottom": null,
       "display": null,
       "flex": null,
       "flex_flow": null,
       "grid_area": null,
       "grid_auto_columns": null,
       "grid_auto_flow": null,
       "grid_auto_rows": null,
       "grid_column": null,
       "grid_gap": null,
       "grid_row": null,
       "grid_template_areas": null,
       "grid_template_columns": null,
       "grid_template_rows": null,
       "height": null,
       "justify_content": null,
       "justify_items": null,
       "left": null,
       "margin": null,
       "max_height": null,
       "max_width": null,
       "min_height": null,
       "min_width": null,
       "object_fit": null,
       "object_position": null,
       "order": null,
       "overflow": null,
       "overflow_x": null,
       "overflow_y": null,
       "padding": null,
       "right": null,
       "top": null,
       "visibility": null,
       "width": null
      }
     },
     "5a7868a997f24811b3d686e7352a5229": {
      "model_module": "@jupyter-widgets/controls",
      "model_module_version": "1.5.0",
      "model_name": "DescriptionStyleModel",
      "state": {
       "_model_module": "@jupyter-widgets/controls",
       "_model_module_version": "1.5.0",
       "_model_name": "DescriptionStyleModel",
       "_view_count": null,
       "_view_module": "@jupyter-widgets/base",
       "_view_module_version": "1.2.0",
       "_view_name": "StyleView",
       "description_width": ""
      }
     },
     "62d97e0edc7d420292b2e450ab015eba": {
      "model_module": "@jupyter-widgets/controls",
      "model_module_version": "1.5.0",
      "model_name": "FloatProgressModel",
      "state": {
       "_dom_classes": [],
       "_model_module": "@jupyter-widgets/controls",
       "_model_module_version": "1.5.0",
       "_model_name": "FloatProgressModel",
       "_view_count": null,
       "_view_module": "@jupyter-widgets/controls",
       "_view_module_version": "1.5.0",
       "_view_name": "ProgressView",
       "bar_style": "success",
       "description": "",
       "description_tooltip": null,
       "layout": "IPY_MODEL_709e23cc3ecd421db7756ceb57a2f5fc",
       "max": 71816.0,
       "min": 0.0,
       "orientation": "horizontal",
       "style": "IPY_MODEL_ff4ce0b64fab4bfaad5b59267dbed4b7",
       "value": 71816.0
      }
     },
     "656cb527502a464b8d0020961b6ed953": {
      "model_module": "@jupyter-widgets/controls",
      "model_module_version": "1.5.0",
      "model_name": "DescriptionStyleModel",
      "state": {
       "_model_module": "@jupyter-widgets/controls",
       "_model_module_version": "1.5.0",
       "_model_name": "DescriptionStyleModel",
       "_view_count": null,
       "_view_module": "@jupyter-widgets/base",
       "_view_module_version": "1.2.0",
       "_view_name": "StyleView",
       "description_width": ""
      }
     },
     "6e122f8e6e5948129d272ee44c0918e4": {
      "model_module": "@jupyter-widgets/base",
      "model_module_version": "1.2.0",
      "model_name": "LayoutModel",
      "state": {
       "_model_module": "@jupyter-widgets/base",
       "_model_module_version": "1.2.0",
       "_model_name": "LayoutModel",
       "_view_count": null,
       "_view_module": "@jupyter-widgets/base",
       "_view_module_version": "1.2.0",
       "_view_name": "LayoutView",
       "align_content": null,
       "align_items": null,
       "align_self": null,
       "border": null,
       "bottom": null,
       "display": null,
       "flex": null,
       "flex_flow": null,
       "grid_area": null,
       "grid_auto_columns": null,
       "grid_auto_flow": null,
       "grid_auto_rows": null,
       "grid_column": null,
       "grid_gap": null,
       "grid_row": null,
       "grid_template_areas": null,
       "grid_template_columns": null,
       "grid_template_rows": null,
       "height": null,
       "justify_content": null,
       "justify_items": null,
       "left": null,
       "margin": null,
       "max_height": null,
       "max_width": null,
       "min_height": null,
       "min_width": null,
       "object_fit": null,
       "object_position": null,
       "order": null,
       "overflow": null,
       "overflow_x": null,
       "overflow_y": null,
       "padding": null,
       "right": null,
       "top": null,
       "visibility": null,
       "width": null
      }
     },
     "709e23cc3ecd421db7756ceb57a2f5fc": {
      "model_module": "@jupyter-widgets/base",
      "model_module_version": "1.2.0",
      "model_name": "LayoutModel",
      "state": {
       "_model_module": "@jupyter-widgets/base",
       "_model_module_version": "1.2.0",
       "_model_name": "LayoutModel",
       "_view_count": null,
       "_view_module": "@jupyter-widgets/base",
       "_view_module_version": "1.2.0",
       "_view_name": "LayoutView",
       "align_content": null,
       "align_items": null,
       "align_self": null,
       "border": null,
       "bottom": null,
       "display": null,
       "flex": null,
       "flex_flow": null,
       "grid_area": null,
       "grid_auto_columns": null,
       "grid_auto_flow": null,
       "grid_auto_rows": null,
       "grid_column": null,
       "grid_gap": null,
       "grid_row": null,
       "grid_template_areas": null,
       "grid_template_columns": null,
       "grid_template_rows": null,
       "height": null,
       "justify_content": null,
       "justify_items": null,
       "left": null,
       "margin": null,
       "max_height": null,
       "max_width": null,
       "min_height": null,
       "min_width": null,
       "object_fit": null,
       "object_position": null,
       "order": null,
       "overflow": null,
       "overflow_x": null,
       "overflow_y": null,
       "padding": null,
       "right": null,
       "top": null,
       "visibility": null,
       "width": null
      }
     },
     "76f51a6d090d4d07a82603ad6a2f799c": {
      "model_module": "@jupyter-widgets/controls",
      "model_module_version": "1.5.0",
      "model_name": "HTMLModel",
      "state": {
       "_dom_classes": [],
       "_model_module": "@jupyter-widgets/controls",
       "_model_module_version": "1.5.0",
       "_model_name": "HTMLModel",
       "_view_count": null,
       "_view_module": "@jupyter-widgets/controls",
       "_view_module_version": "1.5.0",
       "_view_name": "HTMLView",
       "description": "",
       "description_tooltip": null,
       "layout": "IPY_MODEL_c2c71c5b5f314142807153328ea5cf7e",
       "placeholder": "​",
       "style": "IPY_MODEL_5a7868a997f24811b3d686e7352a5229",
       "value": " 339M/339M [00:07&lt;00:00, 48.3MB/s]"
      }
     },
     "81b38b6e685c49cf9c88e1b08b9f95c3": {
      "model_module": "@jupyter-widgets/controls",
      "model_module_version": "1.5.0",
      "model_name": "HTMLModel",
      "state": {
       "_dom_classes": [],
       "_model_module": "@jupyter-widgets/controls",
       "_model_module_version": "1.5.0",
       "_model_name": "HTMLModel",
       "_view_count": null,
       "_view_module": "@jupyter-widgets/controls",
       "_view_module_version": "1.5.0",
       "_view_name": "HTMLView",
       "description": "",
       "description_tooltip": null,
       "layout": "IPY_MODEL_41b8adfc6ab94a94a9e2b149d37f6f97",
       "placeholder": "​",
       "style": "IPY_MODEL_c3d45473ce304cd1b734989f5aa95d04",
       "value": " 255/255 [00:00&lt;00:00, 9.36kB/s]"
      }
     },
     "8ae4a1017f084003a7a04d4eaee9049b": {
      "model_module": "@jupyter-widgets/controls",
      "model_module_version": "1.5.0",
      "model_name": "DescriptionStyleModel",
      "state": {
       "_model_module": "@jupyter-widgets/controls",
       "_model_module_version": "1.5.0",
       "_model_name": "DescriptionStyleModel",
       "_view_count": null,
       "_view_module": "@jupyter-widgets/base",
       "_view_module_version": "1.2.0",
       "_view_name": "StyleView",
       "description_width": ""
      }
     },
     "8ff6ae68dcc44c9a905c3899a59887c4": {
      "model_module": "@jupyter-widgets/controls",
      "model_module_version": "1.5.0",
      "model_name": "ProgressStyleModel",
      "state": {
       "_model_module": "@jupyter-widgets/controls",
       "_model_module_version": "1.5.0",
       "_model_name": "ProgressStyleModel",
       "_view_count": null,
       "_view_module": "@jupyter-widgets/base",
       "_view_module_version": "1.2.0",
       "_view_name": "StyleView",
       "bar_color": null,
       "description_width": ""
      }
     },
     "a0fb5dfad81b4e17b6de5180dda60f28": {
      "model_module": "@jupyter-widgets/base",
      "model_module_version": "1.2.0",
      "model_name": "LayoutModel",
      "state": {
       "_model_module": "@jupyter-widgets/base",
       "_model_module_version": "1.2.0",
       "_model_name": "LayoutModel",
       "_view_count": null,
       "_view_module": "@jupyter-widgets/base",
       "_view_module_version": "1.2.0",
       "_view_name": "LayoutView",
       "align_content": null,
       "align_items": null,
       "align_self": null,
       "border": null,
       "bottom": null,
       "display": null,
       "flex": null,
       "flex_flow": null,
       "grid_area": null,
       "grid_auto_columns": null,
       "grid_auto_flow": null,
       "grid_auto_rows": null,
       "grid_column": null,
       "grid_gap": null,
       "grid_row": null,
       "grid_template_areas": null,
       "grid_template_columns": null,
       "grid_template_rows": null,
       "height": null,
       "justify_content": null,
       "justify_items": null,
       "left": null,
       "margin": null,
       "max_height": null,
       "max_width": null,
       "min_height": null,
       "min_width": null,
       "object_fit": null,
       "object_position": null,
       "order": null,
       "overflow": null,
       "overflow_x": null,
       "overflow_y": null,
       "padding": null,
       "right": null,
       "top": null,
       "visibility": null,
       "width": null
      }
     },
     "b99227a83dab40e6b7a04c6e7dea56b1": {
      "model_module": "@jupyter-widgets/base",
      "model_module_version": "1.2.0",
      "model_name": "LayoutModel",
      "state": {
       "_model_module": "@jupyter-widgets/base",
       "_model_module_version": "1.2.0",
       "_model_name": "LayoutModel",
       "_view_count": null,
       "_view_module": "@jupyter-widgets/base",
       "_view_module_version": "1.2.0",
       "_view_name": "LayoutView",
       "align_content": null,
       "align_items": null,
       "align_self": null,
       "border": null,
       "bottom": null,
       "display": null,
       "flex": null,
       "flex_flow": null,
       "grid_area": null,
       "grid_auto_columns": null,
       "grid_auto_flow": null,
       "grid_auto_rows": null,
       "grid_column": null,
       "grid_gap": null,
       "grid_row": null,
       "grid_template_areas": null,
       "grid_template_columns": null,
       "grid_template_rows": null,
       "height": null,
       "justify_content": null,
       "justify_items": null,
       "left": null,
       "margin": null,
       "max_height": null,
       "max_width": null,
       "min_height": null,
       "min_width": null,
       "object_fit": null,
       "object_position": null,
       "order": null,
       "overflow": null,
       "overflow_x": null,
       "overflow_y": null,
       "padding": null,
       "right": null,
       "top": null,
       "visibility": null,
       "width": null
      }
     },
     "c2c71c5b5f314142807153328ea5cf7e": {
      "model_module": "@jupyter-widgets/base",
      "model_module_version": "1.2.0",
      "model_name": "LayoutModel",
      "state": {
       "_model_module": "@jupyter-widgets/base",
       "_model_module_version": "1.2.0",
       "_model_name": "LayoutModel",
       "_view_count": null,
       "_view_module": "@jupyter-widgets/base",
       "_view_module_version": "1.2.0",
       "_view_name": "LayoutView",
       "align_content": null,
       "align_items": null,
       "align_self": null,
       "border": null,
       "bottom": null,
       "display": null,
       "flex": null,
       "flex_flow": null,
       "grid_area": null,
       "grid_auto_columns": null,
       "grid_auto_flow": null,
       "grid_auto_rows": null,
       "grid_column": null,
       "grid_gap": null,
       "grid_row": null,
       "grid_template_areas": null,
       "grid_template_columns": null,
       "grid_template_rows": null,
       "height": null,
       "justify_content": null,
       "justify_items": null,
       "left": null,
       "margin": null,
       "max_height": null,
       "max_width": null,
       "min_height": null,
       "min_width": null,
       "object_fit": null,
       "object_position": null,
       "order": null,
       "overflow": null,
       "overflow_x": null,
       "overflow_y": null,
       "padding": null,
       "right": null,
       "top": null,
       "visibility": null,
       "width": null
      }
     },
     "c3d45473ce304cd1b734989f5aa95d04": {
      "model_module": "@jupyter-widgets/controls",
      "model_module_version": "1.5.0",
      "model_name": "DescriptionStyleModel",
      "state": {
       "_model_module": "@jupyter-widgets/controls",
       "_model_module_version": "1.5.0",
       "_model_name": "DescriptionStyleModel",
       "_view_count": null,
       "_view_module": "@jupyter-widgets/base",
       "_view_module_version": "1.2.0",
       "_view_name": "StyleView",
       "description_width": ""
      }
     },
     "ce1558168e0843cb9643c76610259730": {
      "model_module": "@jupyter-widgets/base",
      "model_module_version": "1.2.0",
      "model_name": "LayoutModel",
      "state": {
       "_model_module": "@jupyter-widgets/base",
       "_model_module_version": "1.2.0",
       "_model_name": "LayoutModel",
       "_view_count": null,
       "_view_module": "@jupyter-widgets/base",
       "_view_module_version": "1.2.0",
       "_view_name": "LayoutView",
       "align_content": null,
       "align_items": null,
       "align_self": null,
       "border": null,
       "bottom": null,
       "display": null,
       "flex": null,
       "flex_flow": null,
       "grid_area": null,
       "grid_auto_columns": null,
       "grid_auto_flow": null,
       "grid_auto_rows": null,
       "grid_column": null,
       "grid_gap": null,
       "grid_row": null,
       "grid_template_areas": null,
       "grid_template_columns": null,
       "grid_template_rows": null,
       "height": null,
       "justify_content": null,
       "justify_items": null,
       "left": null,
       "margin": null,
       "max_height": null,
       "max_width": null,
       "min_height": null,
       "min_width": null,
       "object_fit": null,
       "object_position": null,
       "order": null,
       "overflow": null,
       "overflow_x": null,
       "overflow_y": null,
       "padding": null,
       "right": null,
       "top": null,
       "visibility": null,
       "width": null
      }
     },
     "d916f5da120b4a399f3f92dd9f31270e": {
      "model_module": "@jupyter-widgets/base",
      "model_module_version": "1.2.0",
      "model_name": "LayoutModel",
      "state": {
       "_model_module": "@jupyter-widgets/base",
       "_model_module_version": "1.2.0",
       "_model_name": "LayoutModel",
       "_view_count": null,
       "_view_module": "@jupyter-widgets/base",
       "_view_module_version": "1.2.0",
       "_view_name": "LayoutView",
       "align_content": null,
       "align_items": null,
       "align_self": null,
       "border": null,
       "bottom": null,
       "display": null,
       "flex": null,
       "flex_flow": null,
       "grid_area": null,
       "grid_auto_columns": null,
       "grid_auto_flow": null,
       "grid_auto_rows": null,
       "grid_column": null,
       "grid_gap": null,
       "grid_row": null,
       "grid_template_areas": null,
       "grid_template_columns": null,
       "grid_template_rows": null,
       "height": null,
       "justify_content": null,
       "justify_items": null,
       "left": null,
       "margin": null,
       "max_height": null,
       "max_width": null,
       "min_height": null,
       "min_width": null,
       "object_fit": null,
       "object_position": null,
       "order": null,
       "overflow": null,
       "overflow_x": null,
       "overflow_y": null,
       "padding": null,
       "right": null,
       "top": null,
       "visibility": null,
       "width": null
      }
     },
     "d9a169b2890d4968b9a4a3787b99d4b7": {
      "model_module": "@jupyter-widgets/controls",
      "model_module_version": "1.5.0",
      "model_name": "HBoxModel",
      "state": {
       "_dom_classes": [],
       "_model_module": "@jupyter-widgets/controls",
       "_model_module_version": "1.5.0",
       "_model_name": "HBoxModel",
       "_view_count": null,
       "_view_module": "@jupyter-widgets/controls",
       "_view_module_version": "1.5.0",
       "_view_name": "HBoxView",
       "box_style": "",
       "children": [
        "IPY_MODEL_3d79daa586d64adba76d7612d724eb35",
        "IPY_MODEL_2dc4d0f415d44588aa2918004ce1b0c6",
        "IPY_MODEL_81b38b6e685c49cf9c88e1b08b9f95c3"
       ],
       "layout": "IPY_MODEL_d916f5da120b4a399f3f92dd9f31270e"
      }
     },
     "e9207cd0b93e4a5ebb9fd34f1e8e1f5c": {
      "model_module": "@jupyter-widgets/controls",
      "model_module_version": "1.5.0",
      "model_name": "HTMLModel",
      "state": {
       "_dom_classes": [],
       "_model_module": "@jupyter-widgets/controls",
       "_model_module_version": "1.5.0",
       "_model_name": "HTMLModel",
       "_view_count": null,
       "_view_module": "@jupyter-widgets/controls",
       "_view_module_version": "1.5.0",
       "_view_name": "HTMLView",
       "description": "",
       "description_tooltip": null,
       "layout": "IPY_MODEL_4968b1100eca4e14a8527cb0d472926f",
       "placeholder": "​",
       "style": "IPY_MODEL_4427e7f4cd3946cc999db8f3a068d141",
       "value": "Downloading: 100%"
      }
     },
     "ff4ce0b64fab4bfaad5b59267dbed4b7": {
      "model_module": "@jupyter-widgets/controls",
      "model_module_version": "1.5.0",
      "model_name": "ProgressStyleModel",
      "state": {
       "_model_module": "@jupyter-widgets/controls",
       "_model_module_version": "1.5.0",
       "_model_name": "ProgressStyleModel",
       "_view_count": null,
       "_view_module": "@jupyter-widgets/base",
       "_view_module_version": "1.2.0",
       "_view_name": "StyleView",
       "bar_color": null,
       "description_width": ""
      }
     }
    },
    "version_major": 2,
    "version_minor": 0
   }
  }
 },
 "nbformat": 4,
 "nbformat_minor": 5
}
