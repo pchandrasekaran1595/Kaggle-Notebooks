{
 "cells": [
  {
   "cell_type": "code",
   "execution_count": 1,
   "id": "00382398",
   "metadata": {
    "execution": {
     "iopub.execute_input": "2022-03-26T19:24:12.077754Z",
     "iopub.status.busy": "2022-03-26T19:24:12.077126Z",
     "iopub.status.idle": "2022-03-26T19:24:19.857001Z",
     "shell.execute_reply": "2022-03-26T19:24:19.857395Z",
     "shell.execute_reply.started": "2022-03-26T16:05:06.556238Z"
    },
    "papermill": {
     "duration": 7.81317,
     "end_time": "2022-03-26T19:24:19.857650",
     "exception": false,
     "start_time": "2022-03-26T19:24:12.044480",
     "status": "completed"
    },
    "tags": []
   },
   "outputs": [
    {
     "name": "stderr",
     "output_type": "stream",
     "text": [
      "WARNING: Running pip as the 'root' user can result in broken permissions and conflicting behaviour with the system package manager. It is recommended to use a virtual environment instead: https://pip.pypa.io/warnings/venv\n"
     ]
    }
   ],
   "source": [
    "%%bash\n",
    "pip install transformers -q"
   ]
  },
  {
   "cell_type": "markdown",
   "id": "7bed6f97",
   "metadata": {
    "_cell_guid": "b1076dfc-b9ad-4769-8c92-a6c4dae69d19",
    "_uuid": "8f2839f25d086af736a60e9eeb907d3b93b6e0e5",
    "papermill": {
     "duration": 0.015951,
     "end_time": "2022-03-26T19:24:19.890436",
     "exception": false,
     "start_time": "2022-03-26T19:24:19.874485",
     "status": "completed"
    },
    "tags": []
   },
   "source": [
    "### **Library Imports**"
   ]
  },
  {
   "cell_type": "code",
   "execution_count": 2,
   "id": "d30a4d69",
   "metadata": {
    "execution": {
     "iopub.execute_input": "2022-03-26T19:24:19.929353Z",
     "iopub.status.busy": "2022-03-26T19:24:19.928771Z",
     "iopub.status.idle": "2022-03-26T19:24:22.876249Z",
     "shell.execute_reply": "2022-03-26T19:24:22.875450Z",
     "shell.execute_reply.started": "2022-03-26T16:05:40.739034Z"
    },
    "papermill": {
     "duration": 2.969851,
     "end_time": "2022-03-26T19:24:22.876376",
     "exception": false,
     "start_time": "2022-03-26T19:24:19.906525",
     "status": "completed"
    },
    "tags": []
   },
   "outputs": [],
   "source": [
    "import os\n",
    "import re\n",
    "import cv2\n",
    "import torch\n",
    "import pickle\n",
    "import numpy as np\n",
    "import pandas as pd\n",
    "import matplotlib.pyplot as plt\n",
    "\n",
    "from time import time\n",
    "from torch import nn, optim\n",
    "from torch.utils.data import Dataset\n",
    "from torch.utils.data import DataLoader as DL\n",
    "from torch.nn.utils import weight_norm as WN\n",
    "from torchvision import transforms\n",
    "\n",
    "from sklearn.preprocessing import LabelEncoder\n",
    "from sklearn.model_selection import StratifiedKFold\n",
    "from transformers import AutoFeatureExtractor, SwinForImageClassification, SwinModel, SwinConfig"
   ]
  },
  {
   "cell_type": "markdown",
   "id": "d33da28e",
   "metadata": {
    "papermill": {
     "duration": 0.016277,
     "end_time": "2022-03-26T19:24:22.908996",
     "exception": false,
     "start_time": "2022-03-26T19:24:22.892719",
     "status": "completed"
    },
    "tags": []
   },
   "source": [
    "### **Utilities and Constants**"
   ]
  },
  {
   "cell_type": "code",
   "execution_count": 3,
   "id": "46a92fdb",
   "metadata": {
    "execution": {
     "iopub.execute_input": "2022-03-26T19:24:22.987537Z",
     "iopub.status.busy": "2022-03-26T19:24:22.986027Z",
     "iopub.status.idle": "2022-03-26T19:24:22.989992Z",
     "shell.execute_reply": "2022-03-26T19:24:22.989537Z",
     "shell.execute_reply.started": "2022-03-26T16:05:42.899664Z"
    },
    "papermill": {
     "duration": 0.065053,
     "end_time": "2022-03-26T19:24:22.990113",
     "exception": false,
     "start_time": "2022-03-26T19:24:22.925060",
     "status": "completed"
    },
    "tags": []
   },
   "outputs": [],
   "source": [
    "SEED = 42\n",
    "\n",
    "le = LabelEncoder()\n",
    "\n",
    "NAMES = [\n",
    "    \"swin-tiny-patch4-window7-224\",\n",
    "    \"swin-small-patch4-window7-224\",\n",
    "    \"swin-base-patch4-window7-224\",\n",
    "    \"swin-base-patch4-window12-384\",\n",
    "]\n",
    "\n",
    "DEVICE = torch.device(\"cuda\" if torch.cuda.is_available() else \"cpu\")\n",
    "TRANSFORM = transforms.Compose([transforms.ToTensor(), \n",
    "                                transforms.Normalize([0.485, 0.456, 0.406], \n",
    "                                                     [0.229, 0.224, 0.225]),\n",
    "                               ])\n",
    "\n",
    "CLASSIFIER_HEAD_PATH = \"../input/fgvc9-swin-b384-features-train-slow/saves\"\n",
    "\n",
    "SAVE_PATH = \"saves\"\n",
    "if not os.path.exists(SAVE_PATH):\n",
    "    os.makedirs(SAVE_PATH)"
   ]
  },
  {
   "cell_type": "code",
   "execution_count": 4,
   "id": "06e4b48e",
   "metadata": {
    "execution": {
     "iopub.execute_input": "2022-03-26T19:24:23.029491Z",
     "iopub.status.busy": "2022-03-26T19:24:23.028909Z",
     "iopub.status.idle": "2022-03-26T19:24:23.031779Z",
     "shell.execute_reply": "2022-03-26T19:24:23.031388Z",
     "shell.execute_reply.started": "2022-03-26T16:09:29.16108Z"
    },
    "papermill": {
     "duration": 0.025296,
     "end_time": "2022-03-26T19:24:23.031912",
     "exception": false,
     "start_time": "2022-03-26T19:24:23.006616",
     "status": "completed"
    },
    "tags": []
   },
   "outputs": [],
   "source": [
    "def breaker(num: int=50, char: str=\"*\") -> None:\n",
    "    print(\"\\n\" + num*char + \"\\n\")\n",
    "\n",
    "    \n",
    "def get_image(path: str) -> np.ndarray:\n",
    "    image = cv2.imread(path, cv2.IMREAD_COLOR)\n",
    "    image = cv2.cvtColor(src=image, code=cv2.COLOR_BGR2RGB)\n",
    "    return cv2.resize(src=image, dsize=(384, 384), interpolation=cv2.INTER_AREA)"
   ]
  },
  {
   "cell_type": "markdown",
   "id": "227afd48",
   "metadata": {
    "papermill": {
     "duration": 0.016611,
     "end_time": "2022-03-26T19:24:23.065075",
     "exception": false,
     "start_time": "2022-03-26T19:24:23.048464",
     "status": "completed"
    },
    "tags": []
   },
   "source": [
    "### **Dataset Template**"
   ]
  },
  {
   "cell_type": "code",
   "execution_count": 5,
   "id": "dadfa204",
   "metadata": {
    "execution": {
     "iopub.execute_input": "2022-03-26T19:24:23.101124Z",
     "iopub.status.busy": "2022-03-26T19:24:23.100291Z",
     "iopub.status.idle": "2022-03-26T19:24:23.110947Z",
     "shell.execute_reply": "2022-03-26T19:24:23.110439Z",
     "shell.execute_reply.started": "2022-03-26T16:05:47.615681Z"
    },
    "papermill": {
     "duration": 0.029548,
     "end_time": "2022-03-26T19:24:23.111054",
     "exception": false,
     "start_time": "2022-03-26T19:24:23.081506",
     "status": "completed"
    },
    "tags": []
   },
   "outputs": [],
   "source": [
    "class FEDS(Dataset):\n",
    "    def __init__(self, base_path: str, filenames: np.ndarray, transform):\n",
    "        self.base_path = base_path\n",
    "        self.filenames = filenames\n",
    "        self.transform = transform\n",
    "    \n",
    "    def __len__(self):\n",
    "        return self.filenames.shape[0]\n",
    "    \n",
    "    def __getitem__(self, idx):\n",
    "        return self.transform(get_image(os.path.join(self.base_path, self.filenames[idx])))\n",
    "\n",
    "    \n",
    "class DS(Dataset):\n",
    "    def __init__(self, X=None, y=None, mode=\"train\"):\n",
    "        self.mode = mode\n",
    "\n",
    "        assert(re.match(r\"train\", self.mode, re.IGNORECASE) or re.match(r\"valid\", self.mode, re.IGNORECASE) or re.match(r\"test\", self.mode, re.IGNORECASE))\n",
    "\n",
    "        self.X = X\n",
    "        if re.match(r\"train\", self.mode, re.IGNORECASE) or re.match(r\"valid\", self.mode, re.IGNORECASE):\n",
    "            self.y = y\n",
    "    \n",
    "    def __len__(self):\n",
    "        return self.X.shape[0]\n",
    "    \n",
    "    def __getitem__(self, idx):\n",
    "        if re.match(r\"train\", self.mode, re.IGNORECASE) or re.match(r\"valid\", self.mode, re.IGNORECASE):\n",
    "            return torch.FloatTensor(self.X[idx]), torch.LongTensor(self.y[idx])\n",
    "        else:\n",
    "            return torch.FloatTensor(self.X[idx])"
   ]
  },
  {
   "cell_type": "markdown",
   "id": "01980b5a",
   "metadata": {
    "papermill": {
     "duration": 0.016213,
     "end_time": "2022-03-26T19:24:23.144034",
     "exception": false,
     "start_time": "2022-03-26T19:24:23.127821",
     "status": "completed"
    },
    "tags": []
   },
   "source": [
    "### **Model**"
   ]
  },
  {
   "cell_type": "code",
   "execution_count": 6,
   "id": "46cceff6",
   "metadata": {
    "execution": {
     "iopub.execute_input": "2022-03-26T19:24:23.206090Z",
     "iopub.status.busy": "2022-03-26T19:24:23.199825Z",
     "iopub.status.idle": "2022-03-26T19:24:23.208317Z",
     "shell.execute_reply": "2022-03-26T19:24:23.207869Z",
     "shell.execute_reply.started": "2022-03-26T16:05:49.353826Z"
    },
    "papermill": {
     "duration": 0.047749,
     "end_time": "2022-03-26T19:24:23.208419",
     "exception": false,
     "start_time": "2022-03-26T19:24:23.160670",
     "status": "completed"
    },
    "tags": []
   },
   "outputs": [],
   "source": [
    "class Model(nn.Module):\n",
    "    def __init__(self, IL: int=None, HL: list=None, DP: float=None, use_WN: bool=False):\n",
    "        super(Model, self).__init__()\n",
    "\n",
    "        self.model = nn.Sequential()\n",
    "\n",
    "        if len(HL) == 1:\n",
    "            self.model.add_module(\"BN1\", nn.BatchNorm1d(num_features=IL, eps=1e-5))\n",
    "            if use_WN: \n",
    "                self.model.add_module(\"FC1\", WN(nn.Linear(in_features=IL, out_features=HL[0])))\n",
    "            else: \n",
    "                self.model.add_module(\"FC1\", nn.Linear(in_features=IL, out_features=HL[0]))\n",
    "            if isinstance(DP, float):\n",
    "                self.model.add_module(\"DP1\", nn.Dropout(p=DP))\n",
    "            self.model.add_module(\"AN1\", nn.ReLU())\n",
    "            self.model.add_module(\"BN2\", nn.BatchNorm1d(num_features=HL[0], eps=1e-5))\n",
    "            if use_WN: \n",
    "                self.model.add_module(\"FC2\", WN(nn.Linear(in_features=HL[0], out_features=100)))\n",
    "            else:\n",
    "                self.model.add_module(\"FC2\", nn.Linear(in_features=HL[0], out_features=100))\n",
    "\n",
    "        \n",
    "        elif len(HL) == 2:\n",
    "            self.model.add_module(\"BN1\", nn.BatchNorm1d(num_features=IL, eps=1e-5))\n",
    "            if use_WN: \n",
    "                self.model.add_module(\"FC1\", WN(nn.Linear(in_features=IL, out_features=HL[0])))\n",
    "            else: \n",
    "                self.model.add_module(\"FC1\", nn.Linear(in_features=IL, out_features=HL[0]))\n",
    "            if isinstance(DP, float):\n",
    "                self.model.add_module(\"DP1\", nn.Dropout(p=DP))\n",
    "            self.model.add_module(\"AN1\", nn.ReLU())\n",
    "            self.model.add_module(\"BN2\", nn.BatchNorm1d(num_features=HL[0], eps=1e-5))\n",
    "            if use_WN:\n",
    "                self.model.add_module(\"FC2\", WN(nn.Linear(in_features=HL[0], out_features=HL[1])))\n",
    "            else:\n",
    "                self.model.add_module(\"FC2\", nn.Linear(in_features=HL[0], out_features=HL[1]))\n",
    "            if isinstance(DP, float):\n",
    "                self.model.add_module(\"DP2\", nn.Dropout(p=DP))\n",
    "            self.model.add_module(\"AN2\", nn.ReLU())\n",
    "            self.model.add_module(\"BN3\", nn.BatchNorm1d(num_features=HL[1], eps=1e-5))\n",
    "            if use_WN: \n",
    "                self.model.add_module(\"FC3\", WN(nn.Linear(in_features=HL[1], out_features=100)))\n",
    "            else:\n",
    "                self.model.add_module(\"FC3\", nn.Linear(in_features=HL[1], out_features=100))\n",
    "        \n",
    "        elif len(HL) == 3:\n",
    "            self.model.add_module(\"BN1\", nn.BatchNorm1d(num_features=IL, eps=1e-5))\n",
    "            if use_WN: \n",
    "                self.model.add_module(\"FC1\", WN(nn.Linear(in_features=IL, out_features=HL[0])))\n",
    "            else: \n",
    "                self.model.add_module(\"FC1\", nn.Linear(in_features=IL, out_features=HL[0]))\n",
    "            if isinstance(DP, float):\n",
    "                self.model.add_module(\"DP1\", nn.Dropout(p=DP))\n",
    "            self.model.add_module(\"AN1\", nn.ReLU())\n",
    "            self.model.add_module(\"BN2\", nn.BatchNorm1d(num_features=HL[0], eps=1e-5))\n",
    "            if use_WN:\n",
    "                self.model.add_module(\"FC2\", WN(nn.Linear(in_features=HL[0], out_features=HL[1])))\n",
    "            else:\n",
    "                self.model.add_module(\"FC2\", nn.Linear(in_features=HL[0], out_features=HL[1]))\n",
    "            if isinstance(DP, float):\n",
    "                self.model.add_module(\"DP2\", nn.Dropout(p=DP))\n",
    "            self.model.add_module(\"AN2\", nn.ReLU())\n",
    "            self.model.add_module(\"BN3\", nn.BatchNorm1d(num_features=HL[1], eps=1e-5))\n",
    "            if use_WN:\n",
    "                self.model.add_module(\"FC3\", WN(nn.Linear(in_features=HL[1], out_features=HL[2])))\n",
    "            else:\n",
    "                self.model.add_module(\"FC3\", nn.Linear(in_features=HL[1], out_features=HL[2]))\n",
    "            if isinstance(DP, float):\n",
    "                self.model.add_module(\"DP3\", nn.Dropout(p=DP))\n",
    "            self.model.add_module(\"AN3\", nn.ReLU())\n",
    "            self.model.add_module(\"BN4\", nn.BatchNorm1d(num_features=HL[2], eps=1e-5))\n",
    "            if use_WN: \n",
    "                self.model.add_module(\"FC4\", WN(nn.Linear(in_features=HL[2], out_features=100)))\n",
    "            else:\n",
    "                self.model.add_module(\"FC4\", nn.Linear(in_features=HL[2], out_features=100))\n",
    "    \n",
    "    def get_optimizer(self, lr=1e-3, wd=0.0):\n",
    "        return optim.Adam(self.parameters(), lr=lr, weight_decay=wd)\n",
    "\n",
    "    def get_plateau_scheduler(self, optimizer=None, patience=5, eps=1e-8):\n",
    "        return optim.lr_scheduler.ReduceLROnPlateau(optimizer=optimizer, patience=patience, eps=eps)\n",
    "    \n",
    "    def forward(self, x):\n",
    "        return nn.LogSoftmax(dim=1)(self.model(x))"
   ]
  },
  {
   "cell_type": "markdown",
   "id": "3d748bbf",
   "metadata": {
    "papermill": {
     "duration": 0.016722,
     "end_time": "2022-03-26T19:24:23.241863",
     "exception": false,
     "start_time": "2022-03-26T19:24:23.225141",
     "status": "completed"
    },
    "tags": []
   },
   "source": [
    "### **Fit and Predict Helper**"
   ]
  },
  {
   "cell_type": "code",
   "execution_count": 7,
   "id": "a105d632",
   "metadata": {
    "execution": {
     "iopub.execute_input": "2022-03-26T19:24:23.283521Z",
     "iopub.status.busy": "2022-03-26T19:24:23.277582Z",
     "iopub.status.idle": "2022-03-26T19:24:23.285939Z",
     "shell.execute_reply": "2022-03-26T19:24:23.285489Z",
     "shell.execute_reply.started": "2022-03-26T16:05:50.865583Z"
    },
    "papermill": {
     "duration": 0.028057,
     "end_time": "2022-03-26T19:24:23.286042",
     "exception": false,
     "start_time": "2022-03-26T19:24:23.257985",
     "status": "completed"
    },
    "tags": []
   },
   "outputs": [],
   "source": [
    "# def fit(model=None, optimizer=None, scheduler=None, epochs=None, early_stopping_patience=None, dataloaders=None, fold=None, verbose=False) -> tuple:\n",
    "    \n",
    "#     def get_accuracy(y_pred, y_true):\n",
    "#         y_pred = torch.argmax(y_pred, dim=1)\n",
    "#         return torch.count_nonzero(y_pred == y_true).item() / len(y_pred)\n",
    "    \n",
    "#     if verbose:\n",
    "#         breaker()\n",
    "#         print(f\"Training Fold {fold}...\")\n",
    "#         breaker()\n",
    "        \n",
    "#     bestLoss, bestAccs = {\"train\" : np.inf, \"valid\" : np.inf}, {\"train\" : 0.0, \"valid\" : 0.0}\n",
    "#     Losses, Accuracies = [], []\n",
    "#     name = f\"state_fold_{fold}.pt\"\n",
    "\n",
    "#     start_time = time()\n",
    "#     for e in range(epochs):\n",
    "#         e_st = time()\n",
    "#         epochLoss, epochAccs = {\"train\" : 0.0, \"valid\" : 0.0}, {\"train\" : 0.0, \"valid\" : 0.0}\n",
    "\n",
    "#         for phase in [\"train\", \"valid\"]:\n",
    "#             if phase == \"train\":\n",
    "#                 model.train()\n",
    "#             else:\n",
    "#                 model.eval()\n",
    "            \n",
    "#             lossPerPass, accsPerPass = [], []\n",
    "            \n",
    "#             for X, y in dataloaders[phase]:\n",
    "#                 X, y = X.to(DEVICE), y.to(DEVICE).view(-1)\n",
    "\n",
    "#                 optimizer.zero_grad()\n",
    "#                 with torch.set_grad_enabled(phase == \"train\"):\n",
    "#                     output = model(X)\n",
    "#                     loss = torch.nn.NLLLoss()(output, y)\n",
    "#                     if phase == \"train\":\n",
    "#                         loss.backward()\n",
    "#                         optimizer.step()\n",
    "#                 lossPerPass.append(loss.item())\n",
    "#                 accsPerPass.append(get_accuracy(output, y))\n",
    "#             epochLoss[phase] = np.mean(np.array(lossPerPass))\n",
    "#             epochAccs[phase] = np.mean(np.array(accsPerPass))\n",
    "#         Losses.append(epochLoss)\n",
    "#         Accuracies.append(epochAccs)\n",
    "        \n",
    "#         if early_stopping_patience:\n",
    "#             if epochLoss[\"valid\"] < bestLoss[\"valid\"]:\n",
    "#                 bestLoss = epochLoss\n",
    "#                 BLE = e + 1\n",
    "#                 torch.save({\"model_state_dict\": model.state_dict(),\n",
    "#                             \"optim_state_dict\": optimizer.state_dict()},\n",
    "#                            os.path.join(SAVE_PATH, name))\n",
    "#                 early_stopping_step = 0\n",
    "#             else:\n",
    "#                 early_stopping_step += 1\n",
    "#                 if early_stopping_step > early_stopping_patience:\n",
    "#                     print(\"\\nEarly Stopping at Epoch {}\".format(e + 1))\n",
    "#                     break\n",
    "        \n",
    "#         if epochLoss[\"valid\"] < bestLoss[\"valid\"]:\n",
    "#             bestLoss = epochLoss\n",
    "#             BLE = e + 1\n",
    "#             torch.save({\"model_state_dict\" : model.state_dict(),\n",
    "#                         \"optim_state_dict\" : optimizer.state_dict()},\n",
    "#                         os.path.join(SAVE_PATH, name))\n",
    "        \n",
    "#         if epochAccs[\"valid\"] > bestAccs[\"valid\"]:\n",
    "#             bestAccs = epochAccs\n",
    "#             BAE = e + 1\n",
    "        \n",
    "#         if scheduler:\n",
    "#             scheduler.step(epochLoss[\"valid\"])\n",
    "        \n",
    "#         if verbose:\n",
    "#             print(\"Epoch: {} | Train Loss: {:.5f} | Valid Loss: {:.5f} |\\\n",
    "# Train Accs: {:.5f} | Valid Accs: {:.5f} | Time: {:.2f} seconds\".format(e+1, \n",
    "#                                                                        epochLoss[\"train\"], epochLoss[\"valid\"], \n",
    "#                                                                        epochAccs[\"train\"], epochAccs[\"valid\"], \n",
    "#                                                                        time()-e_st))\n",
    "\n",
    "#     if verbose:                                           \n",
    "#         breaker()\n",
    "#         print(f\"Best Validation Loss at Epoch {BLE}\")\n",
    "#         breaker()\n",
    "#         print(f\"Best Validation Accs at Epoch {BAE}\")\n",
    "#         breaker()\n",
    "#         print(\"Time Taken [{} Epochs] : {:.2f} minutes\".format(len(Losses), (time()-start_time)/60))\n",
    "    \n",
    "#     return Losses, Accuracies, BLE, BAE, name\n",
    "\n",
    "\n",
    "def predict(model=None, dataloader=None, path=None) -> np.ndarray:\n",
    "    model.load_state_dict(torch.load(path, map_location=DEVICE)[\"model_state_dict\"])\n",
    "    model.to(DEVICE)    \n",
    "    model.eval()\n",
    "    \n",
    "    y_pred = torch.zeros(1, 1).to(DEVICE)\n",
    "    \n",
    "    for X in dataloader:\n",
    "        X = X.to(DEVICE)\n",
    "        with torch.no_grad():\n",
    "            output = torch.argmax(torch.exp(model(X)), dim=1)\n",
    "        y_pred = torch.cat((y_pred, output.view(-1, 1)), dim=0)\n",
    "    \n",
    "    return y_pred[1:].detach().cpu().numpy()"
   ]
  },
  {
   "cell_type": "markdown",
   "id": "36528547",
   "metadata": {
    "papermill": {
     "duration": 0.017429,
     "end_time": "2022-03-26T19:24:23.319827",
     "exception": false,
     "start_time": "2022-03-26T19:24:23.302398",
     "status": "completed"
    },
    "tags": []
   },
   "source": [
    "### **Load and Preprocess Data**"
   ]
  },
  {
   "cell_type": "code",
   "execution_count": 8,
   "id": "4de51f84",
   "metadata": {
    "execution": {
     "iopub.execute_input": "2022-03-26T19:24:23.358999Z",
     "iopub.status.busy": "2022-03-26T19:24:23.358408Z",
     "iopub.status.idle": "2022-03-26T19:27:25.245838Z",
     "shell.execute_reply": "2022-03-26T19:27:25.245319Z",
     "shell.execute_reply.started": "2022-03-26T16:05:53.329979Z"
    },
    "papermill": {
     "duration": 181.909597,
     "end_time": "2022-03-26T19:27:25.245995",
     "exception": false,
     "start_time": "2022-03-26T19:24:23.336398",
     "status": "completed"
    },
    "tags": []
   },
   "outputs": [],
   "source": [
    "train_df = pd.read_csv(\"../input/sorghum-id-fgvc-9/train_cultivar_mapping.csv\")\n",
    "ss_df = pd.read_csv(\"../input/sorghum-id-fgvc-9/sample_submission.csv\")\n",
    "\n",
    "broken_images = [filename for filename in train_df.image if filename not in os.listdir(\"../input/sorghum-id-fgvc-9/train_images\")]\n",
    "for broken_image in broken_images:\n",
    "    index = train_df.index[train_df.image == broken_image]\n",
    "    train_df = train_df.drop(index=index)\n",
    "    \n",
    "filenames = train_df.image.copy().values\n",
    "labels    = train_df.cultivar.copy().values \n",
    "\n",
    "labels = le.fit_transform(labels)\n",
    "\n",
    "ts_filenames = ss_df.filename.copy().values\n",
    "ts_features = np.zeros((len(ts_filenames), 1024))"
   ]
  },
  {
   "cell_type": "markdown",
   "id": "248b6730",
   "metadata": {
    "papermill": {
     "duration": 0.016484,
     "end_time": "2022-03-26T19:27:25.279431",
     "exception": false,
     "start_time": "2022-03-26T19:27:25.262947",
     "status": "completed"
    },
    "tags": []
   },
   "source": [
    "### **Get SWIN Features**"
   ]
  },
  {
   "cell_type": "code",
   "execution_count": 9,
   "id": "0d466e9a",
   "metadata": {
    "execution": {
     "iopub.execute_input": "2022-03-26T19:27:25.319632Z",
     "iopub.status.busy": "2022-03-26T19:27:25.318854Z",
     "iopub.status.idle": "2022-03-26T19:51:23.224339Z",
     "shell.execute_reply": "2022-03-26T19:51:23.223523Z",
     "shell.execute_reply.started": "2022-03-26T16:09:57.87474Z"
    },
    "papermill": {
     "duration": 1437.928547,
     "end_time": "2022-03-26T19:51:23.224489",
     "exception": false,
     "start_time": "2022-03-26T19:27:25.295942",
     "status": "completed"
    },
    "tags": []
   },
   "outputs": [
    {
     "data": {
      "application/vnd.jupyter.widget-view+json": {
       "model_id": "15057e76db5c4bc0a8fdaa31ef09fc35",
       "version_major": 2,
       "version_minor": 0
      },
      "text/plain": [
       "Downloading:   0%|          | 0.00/70.1k [00:00<?, ?B/s]"
      ]
     },
     "metadata": {},
     "output_type": "display_data"
    },
    {
     "data": {
      "application/vnd.jupyter.widget-view+json": {
       "model_id": "6cb5148ea8f94adaad78176ff843ff2e",
       "version_major": 2,
       "version_minor": 0
      },
      "text/plain": [
       "Downloading:   0%|          | 0.00/255 [00:00<?, ?B/s]"
      ]
     },
     "metadata": {},
     "output_type": "display_data"
    },
    {
     "data": {
      "application/vnd.jupyter.widget-view+json": {
       "model_id": "5bd32e9d31834c8fbad4228ae87633dc",
       "version_major": 2,
       "version_minor": 0
      },
      "text/plain": [
       "Downloading:   0%|          | 0.00/339M [00:00<?, ?B/s]"
      ]
     },
     "metadata": {},
     "output_type": "display_data"
    },
    {
     "name": "stderr",
     "output_type": "stream",
     "text": [
      "Some weights of the model checkpoint at microsoft/swin-base-patch4-window12-384 were not used when initializing SwinModel: ['classifier.bias', 'classifier.weight']\n",
      "- This IS expected if you are initializing SwinModel from the checkpoint of a model trained on another task or with another architecture (e.g. initializing a BertForSequenceClassification model from a BertForPreTraining model).\n",
      "- This IS NOT expected if you are initializing SwinModel from the checkpoint of a model that you expect to be exactly identical (initializing a BertForSequenceClassification model from a BertForSequenceClassification model).\n"
     ]
    }
   ],
   "source": [
    "pretrained = AutoFeatureExtractor.from_pretrained(\"microsoft/\" + NAMES[3])\n",
    "model = SwinModel.from_pretrained(\"microsoft/\" + NAMES[3]).to(DEVICE)\n",
    "\n",
    "dataloader_setup = FEDS(\"../input/sorghum-id-fgvc-9/test\", ts_filenames, TRANSFORM)\n",
    "dataloader = DL(dataloader_setup, batch_size=64, shuffle=False)\n",
    "\n",
    "ts_features = torch.zeros(1, 1024).to(DEVICE)\n",
    "\n",
    "for X in dataloader:\n",
    "    X = X.to(DEVICE)\n",
    "    with torch.no_grad():\n",
    "        output = model(X).last_hidden_state\n",
    "    ts_features = torch.cat((ts_features, output[:, 0, :]), dim=0)\n",
    "\n",
    "ts_features = ts_features[1:].detach().cpu().numpy()"
   ]
  },
  {
   "cell_type": "markdown",
   "id": "d96c28e9",
   "metadata": {
    "papermill": {
     "duration": 0.018422,
     "end_time": "2022-03-26T19:51:23.262678",
     "exception": false,
     "start_time": "2022-03-26T19:51:23.244256",
     "status": "completed"
    },
    "tags": []
   },
   "source": [
    "### **Params**"
   ]
  },
  {
   "cell_type": "code",
   "execution_count": 10,
   "id": "9c4c40a6",
   "metadata": {
    "execution": {
     "iopub.execute_input": "2022-03-26T19:51:23.305272Z",
     "iopub.status.busy": "2022-03-26T19:51:23.304430Z",
     "iopub.status.idle": "2022-03-26T19:51:23.306994Z",
     "shell.execute_reply": "2022-03-26T19:51:23.306526Z",
     "shell.execute_reply.started": "2022-03-26T16:18:49.700184Z"
    },
    "papermill": {
     "duration": 0.026056,
     "end_time": "2022-03-26T19:51:23.307108",
     "exception": false,
     "start_time": "2022-03-26T19:51:23.281052",
     "status": "completed"
    },
    "tags": []
   },
   "outputs": [],
   "source": [
    "DEBUG: bool = False\n",
    "    \n",
    "if DEBUG:\n",
    "    n_splits = 3\n",
    "    epochs = 2\n",
    "    HL = [4]\n",
    "else:\n",
    "    n_splits = 5\n",
    "    epochs = 500\n",
    "    HL = [2048, 1024, 512]\n",
    "\n",
    "batch_size = 512\n",
    "lr = 1e-6\n",
    "wd = 1e-5\n",
    "early_stopping = 50\n",
    "patience = None\n",
    "eps = None"
   ]
  },
  {
   "cell_type": "markdown",
   "id": "ee6e64ca",
   "metadata": {
    "papermill": {
     "duration": 0.017639,
     "end_time": "2022-03-26T19:51:23.342652",
     "exception": false,
     "start_time": "2022-03-26T19:51:23.325013",
     "status": "completed"
    },
    "tags": []
   },
   "source": [
    "### **Train**"
   ]
  },
  {
   "cell_type": "code",
   "execution_count": 11,
   "id": "d5263be1",
   "metadata": {
    "execution": {
     "iopub.execute_input": "2022-03-26T19:51:23.385084Z",
     "iopub.status.busy": "2022-03-26T19:51:23.383374Z",
     "iopub.status.idle": "2022-03-26T19:51:23.385694Z",
     "shell.execute_reply": "2022-03-26T19:51:23.386129Z",
     "shell.execute_reply.started": "2022-03-26T16:18:49.701911Z"
    },
    "papermill": {
     "duration": 0.025335,
     "end_time": "2022-03-26T19:51:23.386257",
     "exception": false,
     "start_time": "2022-03-26T19:51:23.360922",
     "status": "completed"
    },
    "tags": []
   },
   "outputs": [],
   "source": [
    "# fold = 1\n",
    "\n",
    "# start_time = time()\n",
    "# for tr_idx, va_idx in StratifiedKFold(n_splits=n_splits, random_state=SEED, shuffle=True).split(features, labels):\n",
    "#     tr_features, va_features, tr_labels, va_labels = features[tr_idx], features[va_idx], labels[tr_idx], labels[va_idx]\n",
    "    \n",
    "#     tr_data_setup = DS(tr_features, tr_labels.reshape(-1, 1), \"train\")\n",
    "#     va_data_setup = DS(va_features, va_labels.reshape(-1, 1), \"valid\")\n",
    "\n",
    "#     dataloaders = {\n",
    "#         \"train\" : DL(tr_data_setup, batch_size=batch_size, shuffle=True, generator=torch.manual_seed(SEED)),\n",
    "#         \"valid\" : DL(va_data_setup, batch_size=batch_size, shuffle=False),\n",
    "#     }\n",
    "\n",
    "#     torch.manual_seed(SEED)\n",
    "#     model = Model(IL=tr_features.shape[1], HL=HL, DP=0.25, use_WN=True).to(DEVICE)\n",
    "#     optimizer = model.get_optimizer(lr=lr, wd=wd)\n",
    "#     scheduler = None\n",
    "#     if isinstance(patience, int) and isinstance(eps, float):\n",
    "#         scheduler = get_plateau_scheduler(optimizer=optimizer, patience=patience, eps=eps)\n",
    "    \n",
    "#     L, A, BLE, BAE, name = fit(model=model, optimizer=optimizer, scheduler=scheduler, \n",
    "#                            epochs=epochs, early_stopping_patience=early_stopping, \n",
    "#                            dataloaders=dataloaders, fold=fold, verbose=True)\n",
    "\n",
    "#     breaker()\n",
    "#     show_graphs(L, A)\n",
    "#     fold += 1\n",
    "\n",
    "# breaker()\n",
    "# print(f\"Total Time Taken for {n_splits}-Fold CV : {(time()-start_time)/60:.2f} minutes\")\n",
    "# breaker()"
   ]
  },
  {
   "cell_type": "markdown",
   "id": "66854287",
   "metadata": {
    "papermill": {
     "duration": 0.01771,
     "end_time": "2022-03-26T19:51:23.422086",
     "exception": false,
     "start_time": "2022-03-26T19:51:23.404376",
     "status": "completed"
    },
    "tags": []
   },
   "source": [
    "### **Submission**"
   ]
  },
  {
   "cell_type": "code",
   "execution_count": 12,
   "id": "06f747f7",
   "metadata": {
    "execution": {
     "iopub.execute_input": "2022-03-26T19:51:23.467699Z",
     "iopub.status.busy": "2022-03-26T19:51:23.467097Z",
     "iopub.status.idle": "2022-03-26T19:51:24.544922Z",
     "shell.execute_reply": "2022-03-26T19:51:24.545373Z",
     "shell.execute_reply.started": "2022-03-26T16:18:49.703553Z"
    },
    "papermill": {
     "duration": 1.105573,
     "end_time": "2022-03-26T19:51:24.545521",
     "exception": false,
     "start_time": "2022-03-26T19:51:23.439948",
     "status": "completed"
    },
    "tags": []
   },
   "outputs": [
    {
     "name": "stderr",
     "output_type": "stream",
     "text": [
      "/opt/conda/lib/python3.7/site-packages/sklearn/preprocessing/_label.py:154: DataConversionWarning: A column-vector y was passed when a 1d array was expected. Please change the shape of y to (n_samples, ), for example using ravel().\n",
      "  y = column_or_1d(y, warn=True)\n"
     ]
    }
   ],
   "source": [
    "ts_data_setup = DS(ts_features, None, \"test\")\n",
    "ts_data = DL(ts_data_setup, batch_size=batch_size, shuffle=False)\n",
    "\n",
    "torch.manual_seed(SEED)\n",
    "model = Model(IL=ts_features.shape[1], HL=HL, DP=0.25, use_WN=True).to(DEVICE)\n",
    "\n",
    "best_model_fold = 2\n",
    "y_pred = predict(model=model, dataloader=ts_data, path=os.path.join(CLASSIFIER_HEAD_PATH, f\"state_fold_{best_model_fold}.pt\"))\n",
    "\n",
    "ss_df[\"cultivar\"] = le.inverse_transform(y_pred.astype(\"uint8\"))\n",
    "ss_df.to_csv(\"submission.csv\", index=False)"
   ]
  }
 ],
 "metadata": {
  "kernelspec": {
   "display_name": "Python 3",
   "language": "python",
   "name": "python3"
  },
  "language_info": {
   "codemirror_mode": {
    "name": "ipython",
    "version": 3
   },
   "file_extension": ".py",
   "mimetype": "text/x-python",
   "name": "python",
   "nbconvert_exporter": "python",
   "pygments_lexer": "ipython3",
   "version": "3.7.12"
  },
  "papermill": {
   "default_parameters": {},
   "duration": 1642.890497,
   "end_time": "2022-03-26T19:51:26.728182",
   "environment_variables": {},
   "exception": null,
   "input_path": "__notebook__.ipynb",
   "output_path": "__notebook__.ipynb",
   "parameters": {},
   "start_time": "2022-03-26T19:24:03.837685",
   "version": "2.3.3"
  },
  "widgets": {
   "application/vnd.jupyter.widget-state+json": {
    "state": {
     "02678da0081f4e9cba1414361b115598": {
      "model_module": "@jupyter-widgets/base",
      "model_module_version": "1.2.0",
      "model_name": "LayoutModel",
      "state": {
       "_model_module": "@jupyter-widgets/base",
       "_model_module_version": "1.2.0",
       "_model_name": "LayoutModel",
       "_view_count": null,
       "_view_module": "@jupyter-widgets/base",
       "_view_module_version": "1.2.0",
       "_view_name": "LayoutView",
       "align_content": null,
       "align_items": null,
       "align_self": null,
       "border": null,
       "bottom": null,
       "display": null,
       "flex": null,
       "flex_flow": null,
       "grid_area": null,
       "grid_auto_columns": null,
       "grid_auto_flow": null,
       "grid_auto_rows": null,
       "grid_column": null,
       "grid_gap": null,
       "grid_row": null,
       "grid_template_areas": null,
       "grid_template_columns": null,
       "grid_template_rows": null,
       "height": null,
       "justify_content": null,
       "justify_items": null,
       "left": null,
       "margin": null,
       "max_height": null,
       "max_width": null,
       "min_height": null,
       "min_width": null,
       "object_fit": null,
       "object_position": null,
       "order": null,
       "overflow": null,
       "overflow_x": null,
       "overflow_y": null,
       "padding": null,
       "right": null,
       "top": null,
       "visibility": null,
       "width": null
      }
     },
     "0ceee07c8d864977b1cbedabb533d8e1": {
      "model_module": "@jupyter-widgets/controls",
      "model_module_version": "1.5.0",
      "model_name": "HTMLModel",
      "state": {
       "_dom_classes": [],
       "_model_module": "@jupyter-widgets/controls",
       "_model_module_version": "1.5.0",
       "_model_name": "HTMLModel",
       "_view_count": null,
       "_view_module": "@jupyter-widgets/controls",
       "_view_module_version": "1.5.0",
       "_view_name": "HTMLView",
       "description": "",
       "description_tooltip": null,
       "layout": "IPY_MODEL_d935df1c35e54bbf94813623aa49916d",
       "placeholder": "​",
       "style": "IPY_MODEL_7798d3d5b85b483193d76d10f8d7a4a4",
       "value": " 70.1k/70.1k [00:00&lt;00:00, 1.92MB/s]"
      }
     },
     "0dcd390cf2d742b3966417f126f5b515": {
      "model_module": "@jupyter-widgets/controls",
      "model_module_version": "1.5.0",
      "model_name": "HTMLModel",
      "state": {
       "_dom_classes": [],
       "_model_module": "@jupyter-widgets/controls",
       "_model_module_version": "1.5.0",
       "_model_name": "HTMLModel",
       "_view_count": null,
       "_view_module": "@jupyter-widgets/controls",
       "_view_module_version": "1.5.0",
       "_view_name": "HTMLView",
       "description": "",
       "description_tooltip": null,
       "layout": "IPY_MODEL_14483050ac7542ef8d52b36be24d76ae",
       "placeholder": "​",
       "style": "IPY_MODEL_bf77c94a562147f1b7254d8e3a58a850",
       "value": " 255/255 [00:00&lt;00:00, 10.6kB/s]"
      }
     },
     "14483050ac7542ef8d52b36be24d76ae": {
      "model_module": "@jupyter-widgets/base",
      "model_module_version": "1.2.0",
      "model_name": "LayoutModel",
      "state": {
       "_model_module": "@jupyter-widgets/base",
       "_model_module_version": "1.2.0",
       "_model_name": "LayoutModel",
       "_view_count": null,
       "_view_module": "@jupyter-widgets/base",
       "_view_module_version": "1.2.0",
       "_view_name": "LayoutView",
       "align_content": null,
       "align_items": null,
       "align_self": null,
       "border": null,
       "bottom": null,
       "display": null,
       "flex": null,
       "flex_flow": null,
       "grid_area": null,
       "grid_auto_columns": null,
       "grid_auto_flow": null,
       "grid_auto_rows": null,
       "grid_column": null,
       "grid_gap": null,
       "grid_row": null,
       "grid_template_areas": null,
       "grid_template_columns": null,
       "grid_template_rows": null,
       "height": null,
       "justify_content": null,
       "justify_items": null,
       "left": null,
       "margin": null,
       "max_height": null,
       "max_width": null,
       "min_height": null,
       "min_width": null,
       "object_fit": null,
       "object_position": null,
       "order": null,
       "overflow": null,
       "overflow_x": null,
       "overflow_y": null,
       "padding": null,
       "right": null,
       "top": null,
       "visibility": null,
       "width": null
      }
     },
     "15057e76db5c4bc0a8fdaa31ef09fc35": {
      "model_module": "@jupyter-widgets/controls",
      "model_module_version": "1.5.0",
      "model_name": "HBoxModel",
      "state": {
       "_dom_classes": [],
       "_model_module": "@jupyter-widgets/controls",
       "_model_module_version": "1.5.0",
       "_model_name": "HBoxModel",
       "_view_count": null,
       "_view_module": "@jupyter-widgets/controls",
       "_view_module_version": "1.5.0",
       "_view_name": "HBoxView",
       "box_style": "",
       "children": [
        "IPY_MODEL_76c2f8eafd744525ad084bb2be826d82",
        "IPY_MODEL_d2431d2582944375b9e5c11c78f1d521",
        "IPY_MODEL_0ceee07c8d864977b1cbedabb533d8e1"
       ],
       "layout": "IPY_MODEL_6e3a97c65eea454690d5315faab703e0"
      }
     },
     "1781227c9e4a4f8dabd187e711061382": {
      "model_module": "@jupyter-widgets/controls",
      "model_module_version": "1.5.0",
      "model_name": "DescriptionStyleModel",
      "state": {
       "_model_module": "@jupyter-widgets/controls",
       "_model_module_version": "1.5.0",
       "_model_name": "DescriptionStyleModel",
       "_view_count": null,
       "_view_module": "@jupyter-widgets/base",
       "_view_module_version": "1.2.0",
       "_view_name": "StyleView",
       "description_width": ""
      }
     },
     "1b7aab11bf7745aea0d595f2165bca57": {
      "model_module": "@jupyter-widgets/base",
      "model_module_version": "1.2.0",
      "model_name": "LayoutModel",
      "state": {
       "_model_module": "@jupyter-widgets/base",
       "_model_module_version": "1.2.0",
       "_model_name": "LayoutModel",
       "_view_count": null,
       "_view_module": "@jupyter-widgets/base",
       "_view_module_version": "1.2.0",
       "_view_name": "LayoutView",
       "align_content": null,
       "align_items": null,
       "align_self": null,
       "border": null,
       "bottom": null,
       "display": null,
       "flex": null,
       "flex_flow": null,
       "grid_area": null,
       "grid_auto_columns": null,
       "grid_auto_flow": null,
       "grid_auto_rows": null,
       "grid_column": null,
       "grid_gap": null,
       "grid_row": null,
       "grid_template_areas": null,
       "grid_template_columns": null,
       "grid_template_rows": null,
       "height": null,
       "justify_content": null,
       "justify_items": null,
       "left": null,
       "margin": null,
       "max_height": null,
       "max_width": null,
       "min_height": null,
       "min_width": null,
       "object_fit": null,
       "object_position": null,
       "order": null,
       "overflow": null,
       "overflow_x": null,
       "overflow_y": null,
       "padding": null,
       "right": null,
       "top": null,
       "visibility": null,
       "width": null
      }
     },
     "3eeb8c40fad9443d8b4ac4a238f0b12a": {
      "model_module": "@jupyter-widgets/base",
      "model_module_version": "1.2.0",
      "model_name": "LayoutModel",
      "state": {
       "_model_module": "@jupyter-widgets/base",
       "_model_module_version": "1.2.0",
       "_model_name": "LayoutModel",
       "_view_count": null,
       "_view_module": "@jupyter-widgets/base",
       "_view_module_version": "1.2.0",
       "_view_name": "LayoutView",
       "align_content": null,
       "align_items": null,
       "align_self": null,
       "border": null,
       "bottom": null,
       "display": null,
       "flex": null,
       "flex_flow": null,
       "grid_area": null,
       "grid_auto_columns": null,
       "grid_auto_flow": null,
       "grid_auto_rows": null,
       "grid_column": null,
       "grid_gap": null,
       "grid_row": null,
       "grid_template_areas": null,
       "grid_template_columns": null,
       "grid_template_rows": null,
       "height": null,
       "justify_content": null,
       "justify_items": null,
       "left": null,
       "margin": null,
       "max_height": null,
       "max_width": null,
       "min_height": null,
       "min_width": null,
       "object_fit": null,
       "object_position": null,
       "order": null,
       "overflow": null,
       "overflow_x": null,
       "overflow_y": null,
       "padding": null,
       "right": null,
       "top": null,
       "visibility": null,
       "width": null
      }
     },
     "49f702a6f2f143e5ab844093c566b159": {
      "model_module": "@jupyter-widgets/controls",
      "model_module_version": "1.5.0",
      "model_name": "FloatProgressModel",
      "state": {
       "_dom_classes": [],
       "_model_module": "@jupyter-widgets/controls",
       "_model_module_version": "1.5.0",
       "_model_name": "FloatProgressModel",
       "_view_count": null,
       "_view_module": "@jupyter-widgets/controls",
       "_view_module_version": "1.5.0",
       "_view_name": "ProgressView",
       "bar_style": "success",
       "description": "",
       "description_tooltip": null,
       "layout": "IPY_MODEL_a6dd89ae53934284881ca721d8d8ebad",
       "max": 355775743.0,
       "min": 0.0,
       "orientation": "horizontal",
       "style": "IPY_MODEL_d38ad38c823e4fe1bfd01e1645c7dd78",
       "value": 355775743.0
      }
     },
     "4b9b1a60c4174084bdd27b3cb7e612de": {
      "model_module": "@jupyter-widgets/controls",
      "model_module_version": "1.5.0",
      "model_name": "ProgressStyleModel",
      "state": {
       "_model_module": "@jupyter-widgets/controls",
       "_model_module_version": "1.5.0",
       "_model_name": "ProgressStyleModel",
       "_view_count": null,
       "_view_module": "@jupyter-widgets/base",
       "_view_module_version": "1.2.0",
       "_view_name": "StyleView",
       "bar_color": null,
       "description_width": ""
      }
     },
     "4fb0015b2dd04808bad44fcdae0be371": {
      "model_module": "@jupyter-widgets/controls",
      "model_module_version": "1.5.0",
      "model_name": "DescriptionStyleModel",
      "state": {
       "_model_module": "@jupyter-widgets/controls",
       "_model_module_version": "1.5.0",
       "_model_name": "DescriptionStyleModel",
       "_view_count": null,
       "_view_module": "@jupyter-widgets/base",
       "_view_module_version": "1.2.0",
       "_view_name": "StyleView",
       "description_width": ""
      }
     },
     "55ffbbdf89b8497099164cb6e80f3b7a": {
      "model_module": "@jupyter-widgets/controls",
      "model_module_version": "1.5.0",
      "model_name": "ProgressStyleModel",
      "state": {
       "_model_module": "@jupyter-widgets/controls",
       "_model_module_version": "1.5.0",
       "_model_name": "ProgressStyleModel",
       "_view_count": null,
       "_view_module": "@jupyter-widgets/base",
       "_view_module_version": "1.2.0",
       "_view_name": "StyleView",
       "bar_color": null,
       "description_width": ""
      }
     },
     "5bd32e9d31834c8fbad4228ae87633dc": {
      "model_module": "@jupyter-widgets/controls",
      "model_module_version": "1.5.0",
      "model_name": "HBoxModel",
      "state": {
       "_dom_classes": [],
       "_model_module": "@jupyter-widgets/controls",
       "_model_module_version": "1.5.0",
       "_model_name": "HBoxModel",
       "_view_count": null,
       "_view_module": "@jupyter-widgets/controls",
       "_view_module_version": "1.5.0",
       "_view_name": "HBoxView",
       "box_style": "",
       "children": [
        "IPY_MODEL_658f700e02424da7b104a411c4467fc9",
        "IPY_MODEL_49f702a6f2f143e5ab844093c566b159",
        "IPY_MODEL_e33af7e1c1ce4e4a870d91096db1b1e8"
       ],
       "layout": "IPY_MODEL_02678da0081f4e9cba1414361b115598"
      }
     },
     "658f700e02424da7b104a411c4467fc9": {
      "model_module": "@jupyter-widgets/controls",
      "model_module_version": "1.5.0",
      "model_name": "HTMLModel",
      "state": {
       "_dom_classes": [],
       "_model_module": "@jupyter-widgets/controls",
       "_model_module_version": "1.5.0",
       "_model_name": "HTMLModel",
       "_view_count": null,
       "_view_module": "@jupyter-widgets/controls",
       "_view_module_version": "1.5.0",
       "_view_name": "HTMLView",
       "description": "",
       "description_tooltip": null,
       "layout": "IPY_MODEL_dd3cdc76c70d4ec284962069d888de56",
       "placeholder": "​",
       "style": "IPY_MODEL_1781227c9e4a4f8dabd187e711061382",
       "value": "Downloading: 100%"
      }
     },
     "6cb5148ea8f94adaad78176ff843ff2e": {
      "model_module": "@jupyter-widgets/controls",
      "model_module_version": "1.5.0",
      "model_name": "HBoxModel",
      "state": {
       "_dom_classes": [],
       "_model_module": "@jupyter-widgets/controls",
       "_model_module_version": "1.5.0",
       "_model_name": "HBoxModel",
       "_view_count": null,
       "_view_module": "@jupyter-widgets/controls",
       "_view_module_version": "1.5.0",
       "_view_name": "HBoxView",
       "box_style": "",
       "children": [
        "IPY_MODEL_929281df7ea344898eaaa0177e0e0f8c",
        "IPY_MODEL_afa9c88df9da40188babdecf900218a4",
        "IPY_MODEL_0dcd390cf2d742b3966417f126f5b515"
       ],
       "layout": "IPY_MODEL_ed31b192790e4771a6278862ce447523"
      }
     },
     "6e3a97c65eea454690d5315faab703e0": {
      "model_module": "@jupyter-widgets/base",
      "model_module_version": "1.2.0",
      "model_name": "LayoutModel",
      "state": {
       "_model_module": "@jupyter-widgets/base",
       "_model_module_version": "1.2.0",
       "_model_name": "LayoutModel",
       "_view_count": null,
       "_view_module": "@jupyter-widgets/base",
       "_view_module_version": "1.2.0",
       "_view_name": "LayoutView",
       "align_content": null,
       "align_items": null,
       "align_self": null,
       "border": null,
       "bottom": null,
       "display": null,
       "flex": null,
       "flex_flow": null,
       "grid_area": null,
       "grid_auto_columns": null,
       "grid_auto_flow": null,
       "grid_auto_rows": null,
       "grid_column": null,
       "grid_gap": null,
       "grid_row": null,
       "grid_template_areas": null,
       "grid_template_columns": null,
       "grid_template_rows": null,
       "height": null,
       "justify_content": null,
       "justify_items": null,
       "left": null,
       "margin": null,
       "max_height": null,
       "max_width": null,
       "min_height": null,
       "min_width": null,
       "object_fit": null,
       "object_position": null,
       "order": null,
       "overflow": null,
       "overflow_x": null,
       "overflow_y": null,
       "padding": null,
       "right": null,
       "top": null,
       "visibility": null,
       "width": null
      }
     },
     "76c2f8eafd744525ad084bb2be826d82": {
      "model_module": "@jupyter-widgets/controls",
      "model_module_version": "1.5.0",
      "model_name": "HTMLModel",
      "state": {
       "_dom_classes": [],
       "_model_module": "@jupyter-widgets/controls",
       "_model_module_version": "1.5.0",
       "_model_name": "HTMLModel",
       "_view_count": null,
       "_view_module": "@jupyter-widgets/controls",
       "_view_module_version": "1.5.0",
       "_view_name": "HTMLView",
       "description": "",
       "description_tooltip": null,
       "layout": "IPY_MODEL_7a34232266454235b5bf07b040a9a2ea",
       "placeholder": "​",
       "style": "IPY_MODEL_4fb0015b2dd04808bad44fcdae0be371",
       "value": "Downloading: 100%"
      }
     },
     "7798d3d5b85b483193d76d10f8d7a4a4": {
      "model_module": "@jupyter-widgets/controls",
      "model_module_version": "1.5.0",
      "model_name": "DescriptionStyleModel",
      "state": {
       "_model_module": "@jupyter-widgets/controls",
       "_model_module_version": "1.5.0",
       "_model_name": "DescriptionStyleModel",
       "_view_count": null,
       "_view_module": "@jupyter-widgets/base",
       "_view_module_version": "1.2.0",
       "_view_name": "StyleView",
       "description_width": ""
      }
     },
     "7a34232266454235b5bf07b040a9a2ea": {
      "model_module": "@jupyter-widgets/base",
      "model_module_version": "1.2.0",
      "model_name": "LayoutModel",
      "state": {
       "_model_module": "@jupyter-widgets/base",
       "_model_module_version": "1.2.0",
       "_model_name": "LayoutModel",
       "_view_count": null,
       "_view_module": "@jupyter-widgets/base",
       "_view_module_version": "1.2.0",
       "_view_name": "LayoutView",
       "align_content": null,
       "align_items": null,
       "align_self": null,
       "border": null,
       "bottom": null,
       "display": null,
       "flex": null,
       "flex_flow": null,
       "grid_area": null,
       "grid_auto_columns": null,
       "grid_auto_flow": null,
       "grid_auto_rows": null,
       "grid_column": null,
       "grid_gap": null,
       "grid_row": null,
       "grid_template_areas": null,
       "grid_template_columns": null,
       "grid_template_rows": null,
       "height": null,
       "justify_content": null,
       "justify_items": null,
       "left": null,
       "margin": null,
       "max_height": null,
       "max_width": null,
       "min_height": null,
       "min_width": null,
       "object_fit": null,
       "object_position": null,
       "order": null,
       "overflow": null,
       "overflow_x": null,
       "overflow_y": null,
       "padding": null,
       "right": null,
       "top": null,
       "visibility": null,
       "width": null
      }
     },
     "847ca3bcfb654de4b6e3d8739853aab6": {
      "model_module": "@jupyter-widgets/base",
      "model_module_version": "1.2.0",
      "model_name": "LayoutModel",
      "state": {
       "_model_module": "@jupyter-widgets/base",
       "_model_module_version": "1.2.0",
       "_model_name": "LayoutModel",
       "_view_count": null,
       "_view_module": "@jupyter-widgets/base",
       "_view_module_version": "1.2.0",
       "_view_name": "LayoutView",
       "align_content": null,
       "align_items": null,
       "align_self": null,
       "border": null,
       "bottom": null,
       "display": null,
       "flex": null,
       "flex_flow": null,
       "grid_area": null,
       "grid_auto_columns": null,
       "grid_auto_flow": null,
       "grid_auto_rows": null,
       "grid_column": null,
       "grid_gap": null,
       "grid_row": null,
       "grid_template_areas": null,
       "grid_template_columns": null,
       "grid_template_rows": null,
       "height": null,
       "justify_content": null,
       "justify_items": null,
       "left": null,
       "margin": null,
       "max_height": null,
       "max_width": null,
       "min_height": null,
       "min_width": null,
       "object_fit": null,
       "object_position": null,
       "order": null,
       "overflow": null,
       "overflow_x": null,
       "overflow_y": null,
       "padding": null,
       "right": null,
       "top": null,
       "visibility": null,
       "width": null
      }
     },
     "929281df7ea344898eaaa0177e0e0f8c": {
      "model_module": "@jupyter-widgets/controls",
      "model_module_version": "1.5.0",
      "model_name": "HTMLModel",
      "state": {
       "_dom_classes": [],
       "_model_module": "@jupyter-widgets/controls",
       "_model_module_version": "1.5.0",
       "_model_name": "HTMLModel",
       "_view_count": null,
       "_view_module": "@jupyter-widgets/controls",
       "_view_module_version": "1.5.0",
       "_view_name": "HTMLView",
       "description": "",
       "description_tooltip": null,
       "layout": "IPY_MODEL_1b7aab11bf7745aea0d595f2165bca57",
       "placeholder": "​",
       "style": "IPY_MODEL_f126bfeef437483ebb3c681f1f5f4303",
       "value": "Downloading: 100%"
      }
     },
     "a6dd89ae53934284881ca721d8d8ebad": {
      "model_module": "@jupyter-widgets/base",
      "model_module_version": "1.2.0",
      "model_name": "LayoutModel",
      "state": {
       "_model_module": "@jupyter-widgets/base",
       "_model_module_version": "1.2.0",
       "_model_name": "LayoutModel",
       "_view_count": null,
       "_view_module": "@jupyter-widgets/base",
       "_view_module_version": "1.2.0",
       "_view_name": "LayoutView",
       "align_content": null,
       "align_items": null,
       "align_self": null,
       "border": null,
       "bottom": null,
       "display": null,
       "flex": null,
       "flex_flow": null,
       "grid_area": null,
       "grid_auto_columns": null,
       "grid_auto_flow": null,
       "grid_auto_rows": null,
       "grid_column": null,
       "grid_gap": null,
       "grid_row": null,
       "grid_template_areas": null,
       "grid_template_columns": null,
       "grid_template_rows": null,
       "height": null,
       "justify_content": null,
       "justify_items": null,
       "left": null,
       "margin": null,
       "max_height": null,
       "max_width": null,
       "min_height": null,
       "min_width": null,
       "object_fit": null,
       "object_position": null,
       "order": null,
       "overflow": null,
       "overflow_x": null,
       "overflow_y": null,
       "padding": null,
       "right": null,
       "top": null,
       "visibility": null,
       "width": null
      }
     },
     "afa9c88df9da40188babdecf900218a4": {
      "model_module": "@jupyter-widgets/controls",
      "model_module_version": "1.5.0",
      "model_name": "FloatProgressModel",
      "state": {
       "_dom_classes": [],
       "_model_module": "@jupyter-widgets/controls",
       "_model_module_version": "1.5.0",
       "_model_name": "FloatProgressModel",
       "_view_count": null,
       "_view_module": "@jupyter-widgets/controls",
       "_view_module_version": "1.5.0",
       "_view_name": "ProgressView",
       "bar_style": "success",
       "description": "",
       "description_tooltip": null,
       "layout": "IPY_MODEL_e459680ee5f745519742216a6a0767e6",
       "max": 255.0,
       "min": 0.0,
       "orientation": "horizontal",
       "style": "IPY_MODEL_4b9b1a60c4174084bdd27b3cb7e612de",
       "value": 255.0
      }
     },
     "bf77c94a562147f1b7254d8e3a58a850": {
      "model_module": "@jupyter-widgets/controls",
      "model_module_version": "1.5.0",
      "model_name": "DescriptionStyleModel",
      "state": {
       "_model_module": "@jupyter-widgets/controls",
       "_model_module_version": "1.5.0",
       "_model_name": "DescriptionStyleModel",
       "_view_count": null,
       "_view_module": "@jupyter-widgets/base",
       "_view_module_version": "1.2.0",
       "_view_name": "StyleView",
       "description_width": ""
      }
     },
     "d2431d2582944375b9e5c11c78f1d521": {
      "model_module": "@jupyter-widgets/controls",
      "model_module_version": "1.5.0",
      "model_name": "FloatProgressModel",
      "state": {
       "_dom_classes": [],
       "_model_module": "@jupyter-widgets/controls",
       "_model_module_version": "1.5.0",
       "_model_name": "FloatProgressModel",
       "_view_count": null,
       "_view_module": "@jupyter-widgets/controls",
       "_view_module_version": "1.5.0",
       "_view_name": "ProgressView",
       "bar_style": "success",
       "description": "",
       "description_tooltip": null,
       "layout": "IPY_MODEL_3eeb8c40fad9443d8b4ac4a238f0b12a",
       "max": 71816.0,
       "min": 0.0,
       "orientation": "horizontal",
       "style": "IPY_MODEL_55ffbbdf89b8497099164cb6e80f3b7a",
       "value": 71816.0
      }
     },
     "d38ad38c823e4fe1bfd01e1645c7dd78": {
      "model_module": "@jupyter-widgets/controls",
      "model_module_version": "1.5.0",
      "model_name": "ProgressStyleModel",
      "state": {
       "_model_module": "@jupyter-widgets/controls",
       "_model_module_version": "1.5.0",
       "_model_name": "ProgressStyleModel",
       "_view_count": null,
       "_view_module": "@jupyter-widgets/base",
       "_view_module_version": "1.2.0",
       "_view_name": "StyleView",
       "bar_color": null,
       "description_width": ""
      }
     },
     "d935df1c35e54bbf94813623aa49916d": {
      "model_module": "@jupyter-widgets/base",
      "model_module_version": "1.2.0",
      "model_name": "LayoutModel",
      "state": {
       "_model_module": "@jupyter-widgets/base",
       "_model_module_version": "1.2.0",
       "_model_name": "LayoutModel",
       "_view_count": null,
       "_view_module": "@jupyter-widgets/base",
       "_view_module_version": "1.2.0",
       "_view_name": "LayoutView",
       "align_content": null,
       "align_items": null,
       "align_self": null,
       "border": null,
       "bottom": null,
       "display": null,
       "flex": null,
       "flex_flow": null,
       "grid_area": null,
       "grid_auto_columns": null,
       "grid_auto_flow": null,
       "grid_auto_rows": null,
       "grid_column": null,
       "grid_gap": null,
       "grid_row": null,
       "grid_template_areas": null,
       "grid_template_columns": null,
       "grid_template_rows": null,
       "height": null,
       "justify_content": null,
       "justify_items": null,
       "left": null,
       "margin": null,
       "max_height": null,
       "max_width": null,
       "min_height": null,
       "min_width": null,
       "object_fit": null,
       "object_position": null,
       "order": null,
       "overflow": null,
       "overflow_x": null,
       "overflow_y": null,
       "padding": null,
       "right": null,
       "top": null,
       "visibility": null,
       "width": null
      }
     },
     "dd3cdc76c70d4ec284962069d888de56": {
      "model_module": "@jupyter-widgets/base",
      "model_module_version": "1.2.0",
      "model_name": "LayoutModel",
      "state": {
       "_model_module": "@jupyter-widgets/base",
       "_model_module_version": "1.2.0",
       "_model_name": "LayoutModel",
       "_view_count": null,
       "_view_module": "@jupyter-widgets/base",
       "_view_module_version": "1.2.0",
       "_view_name": "LayoutView",
       "align_content": null,
       "align_items": null,
       "align_self": null,
       "border": null,
       "bottom": null,
       "display": null,
       "flex": null,
       "flex_flow": null,
       "grid_area": null,
       "grid_auto_columns": null,
       "grid_auto_flow": null,
       "grid_auto_rows": null,
       "grid_column": null,
       "grid_gap": null,
       "grid_row": null,
       "grid_template_areas": null,
       "grid_template_columns": null,
       "grid_template_rows": null,
       "height": null,
       "justify_content": null,
       "justify_items": null,
       "left": null,
       "margin": null,
       "max_height": null,
       "max_width": null,
       "min_height": null,
       "min_width": null,
       "object_fit": null,
       "object_position": null,
       "order": null,
       "overflow": null,
       "overflow_x": null,
       "overflow_y": null,
       "padding": null,
       "right": null,
       "top": null,
       "visibility": null,
       "width": null
      }
     },
     "e33af7e1c1ce4e4a870d91096db1b1e8": {
      "model_module": "@jupyter-widgets/controls",
      "model_module_version": "1.5.0",
      "model_name": "HTMLModel",
      "state": {
       "_dom_classes": [],
       "_model_module": "@jupyter-widgets/controls",
       "_model_module_version": "1.5.0",
       "_model_name": "HTMLModel",
       "_view_count": null,
       "_view_module": "@jupyter-widgets/controls",
       "_view_module_version": "1.5.0",
       "_view_name": "HTMLView",
       "description": "",
       "description_tooltip": null,
       "layout": "IPY_MODEL_847ca3bcfb654de4b6e3d8739853aab6",
       "placeholder": "​",
       "style": "IPY_MODEL_eeeb6a12bddc4122bae0e05e79be6bcf",
       "value": " 339M/339M [00:07&lt;00:00, 50.6MB/s]"
      }
     },
     "e459680ee5f745519742216a6a0767e6": {
      "model_module": "@jupyter-widgets/base",
      "model_module_version": "1.2.0",
      "model_name": "LayoutModel",
      "state": {
       "_model_module": "@jupyter-widgets/base",
       "_model_module_version": "1.2.0",
       "_model_name": "LayoutModel",
       "_view_count": null,
       "_view_module": "@jupyter-widgets/base",
       "_view_module_version": "1.2.0",
       "_view_name": "LayoutView",
       "align_content": null,
       "align_items": null,
       "align_self": null,
       "border": null,
       "bottom": null,
       "display": null,
       "flex": null,
       "flex_flow": null,
       "grid_area": null,
       "grid_auto_columns": null,
       "grid_auto_flow": null,
       "grid_auto_rows": null,
       "grid_column": null,
       "grid_gap": null,
       "grid_row": null,
       "grid_template_areas": null,
       "grid_template_columns": null,
       "grid_template_rows": null,
       "height": null,
       "justify_content": null,
       "justify_items": null,
       "left": null,
       "margin": null,
       "max_height": null,
       "max_width": null,
       "min_height": null,
       "min_width": null,
       "object_fit": null,
       "object_position": null,
       "order": null,
       "overflow": null,
       "overflow_x": null,
       "overflow_y": null,
       "padding": null,
       "right": null,
       "top": null,
       "visibility": null,
       "width": null
      }
     },
     "ed31b192790e4771a6278862ce447523": {
      "model_module": "@jupyter-widgets/base",
      "model_module_version": "1.2.0",
      "model_name": "LayoutModel",
      "state": {
       "_model_module": "@jupyter-widgets/base",
       "_model_module_version": "1.2.0",
       "_model_name": "LayoutModel",
       "_view_count": null,
       "_view_module": "@jupyter-widgets/base",
       "_view_module_version": "1.2.0",
       "_view_name": "LayoutView",
       "align_content": null,
       "align_items": null,
       "align_self": null,
       "border": null,
       "bottom": null,
       "display": null,
       "flex": null,
       "flex_flow": null,
       "grid_area": null,
       "grid_auto_columns": null,
       "grid_auto_flow": null,
       "grid_auto_rows": null,
       "grid_column": null,
       "grid_gap": null,
       "grid_row": null,
       "grid_template_areas": null,
       "grid_template_columns": null,
       "grid_template_rows": null,
       "height": null,
       "justify_content": null,
       "justify_items": null,
       "left": null,
       "margin": null,
       "max_height": null,
       "max_width": null,
       "min_height": null,
       "min_width": null,
       "object_fit": null,
       "object_position": null,
       "order": null,
       "overflow": null,
       "overflow_x": null,
       "overflow_y": null,
       "padding": null,
       "right": null,
       "top": null,
       "visibility": null,
       "width": null
      }
     },
     "eeeb6a12bddc4122bae0e05e79be6bcf": {
      "model_module": "@jupyter-widgets/controls",
      "model_module_version": "1.5.0",
      "model_name": "DescriptionStyleModel",
      "state": {
       "_model_module": "@jupyter-widgets/controls",
       "_model_module_version": "1.5.0",
       "_model_name": "DescriptionStyleModel",
       "_view_count": null,
       "_view_module": "@jupyter-widgets/base",
       "_view_module_version": "1.2.0",
       "_view_name": "StyleView",
       "description_width": ""
      }
     },
     "f126bfeef437483ebb3c681f1f5f4303": {
      "model_module": "@jupyter-widgets/controls",
      "model_module_version": "1.5.0",
      "model_name": "DescriptionStyleModel",
      "state": {
       "_model_module": "@jupyter-widgets/controls",
       "_model_module_version": "1.5.0",
       "_model_name": "DescriptionStyleModel",
       "_view_count": null,
       "_view_module": "@jupyter-widgets/base",
       "_view_module_version": "1.2.0",
       "_view_name": "StyleView",
       "description_width": ""
      }
     }
    },
    "version_major": 2,
    "version_minor": 0
   }
  }
 },
 "nbformat": 4,
 "nbformat_minor": 5
}
