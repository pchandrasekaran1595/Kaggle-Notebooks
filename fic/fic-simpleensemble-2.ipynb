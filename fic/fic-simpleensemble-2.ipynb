{
 "cells": [
  {
   "cell_type": "markdown",
   "id": "231017cd",
   "metadata": {
    "_cell_guid": "b1076dfc-b9ad-4769-8c92-a6c4dae69d19",
    "_uuid": "8f2839f25d086af736a60e9eeb907d3b93b6e0e5",
    "papermill": {
     "duration": 0.002027,
     "end_time": "2022-12-01T04:39:52.407638",
     "exception": false,
     "start_time": "2022-12-01T04:39:52.405611",
     "status": "completed"
    },
    "tags": []
   },
   "source": [
    "**All models up until 1/12/2022**"
   ]
  },
  {
   "cell_type": "code",
   "execution_count": 1,
   "id": "b1b267a2",
   "metadata": {
    "execution": {
     "iopub.execute_input": "2022-12-01T04:39:52.412416Z",
     "iopub.status.busy": "2022-12-01T04:39:52.411755Z",
     "iopub.status.idle": "2022-12-01T04:39:53.224758Z",
     "shell.execute_reply": "2022-12-01T04:39:53.223345Z"
    },
    "papermill": {
     "duration": 0.818271,
     "end_time": "2022-12-01T04:39:53.227312",
     "exception": false,
     "start_time": "2022-12-01T04:39:52.409041",
     "status": "completed"
    },
    "tags": []
   },
   "outputs": [],
   "source": [
    "import numpy as np\n",
    "import pandas as pd\n",
    "from scipy import stats"
   ]
  },
  {
   "cell_type": "code",
   "execution_count": 2,
   "id": "037fd8af",
   "metadata": {
    "execution": {
     "iopub.execute_input": "2022-12-01T04:39:53.235234Z",
     "iopub.status.busy": "2022-12-01T04:39:53.233752Z",
     "iopub.status.idle": "2022-12-01T04:39:53.453992Z",
     "shell.execute_reply": "2022-12-01T04:39:53.451061Z"
    },
    "papermill": {
     "duration": 0.226132,
     "end_time": "2022-12-01T04:39:53.456602",
     "exception": false,
     "start_time": "2022-12-01T04:39:53.230470",
     "status": "completed"
    },
    "tags": []
   },
   "outputs": [
    {
     "name": "stderr",
     "output_type": "stream",
     "text": [
      "/opt/conda/lib/python3.7/site-packages/ipykernel_launcher.py:20: UserWarning: Pandas doesn't allow columns to be created via a new attribute name - see https://pandas.pydata.org/pandas-docs/stable/indexing.html#attribute-access\n"
     ]
    }
   ],
   "source": [
    "sub_df_1 = pd.read_csv(\"/kaggle/input/fic-swin-features-train/submission.csv\")\n",
    "sub_df_2 = pd.read_csv(\"/kaggle/input/fic-en4-a384-e10-modeall-infer/submission.csv\")\n",
    "sub_df_3 = pd.read_csv(\"/kaggle/input/fic-en4-a384-e10-infer/submission.csv\")\n",
    "sub_df_4 = pd.read_csv(\"/kaggle/input/fic-rbit-a384-e10-infer/submission.csv\")\n",
    "sub_df_5 = pd.read_csv(\"/kaggle/input/fic-rbit-a384-e10-modeall-infer/submission.csv\")\n",
    "sub_df_6 = pd.read_csv(\"/kaggle/input/fic-rbit-a384-infer/submission.csv\")\n",
    "sub_df_7 = pd.read_csv(\"/kaggle/input/fic-rbit-a384-modeall-infer/submission.csv\")\n",
    "\n",
    "y_pred_1 = sub_df_1.label.copy().values.reshape(1, -1)\n",
    "y_pred_2 = sub_df_2.label.copy().values.reshape(1, -1)\n",
    "y_pred_3 = sub_df_3.label.copy().values.reshape(1, -1)\n",
    "y_pred_4 = sub_df_4.label.copy().values.reshape(1, -1)\n",
    "y_pred_5 = sub_df_5.label.copy().values.reshape(1, -1)\n",
    "y_pred_6 = sub_df_6.label.copy().values.reshape(1, -1)\n",
    "y_pred_7 = sub_df_7.label.copy().values.reshape(1, -1)\n",
    "\n",
    "y_pred = np.concatenate((y_pred_1, y_pred_2, y_pred_3, y_pred_4, y_pred_5, y_pred_6, y_pred_7), axis=0)\n",
    "y_pred = stats.mode(y_pred)[0]\n",
    "\n",
    "sub_df_1.labels = y_pred.astype(\"uint8\").reshape(-1)\n",
    "sub_df_1.to_csv(\"submission.csv\", index=False)"
   ]
  }
 ],
 "metadata": {
  "kernelspec": {
   "display_name": "Python 3",
   "language": "python",
   "name": "python3"
  },
  "language_info": {
   "codemirror_mode": {
    "name": "ipython",
    "version": 3
   },
   "file_extension": ".py",
   "mimetype": "text/x-python",
   "name": "python",
   "nbconvert_exporter": "python",
   "pygments_lexer": "ipython3",
   "version": "3.7.12"
  },
  "papermill": {
   "default_parameters": {},
   "duration": 9.93204,
   "end_time": "2022-12-01T04:39:54.282097",
   "environment_variables": {},
   "exception": null,
   "input_path": "__notebook__.ipynb",
   "output_path": "__notebook__.ipynb",
   "parameters": {},
   "start_time": "2022-12-01T04:39:44.350057",
   "version": "2.3.4"
  }
 },
 "nbformat": 4,
 "nbformat_minor": 5
}
