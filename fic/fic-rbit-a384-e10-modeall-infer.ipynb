{
 "cells": [
  {
   "cell_type": "markdown",
   "id": "3bd3e8f1",
   "metadata": {
    "_cell_guid": "b1076dfc-b9ad-4769-8c92-a6c4dae69d19",
    "_uuid": "8f2839f25d086af736a60e9eeb907d3b93b6e0e5",
    "papermill": {
     "duration": 0.005913,
     "end_time": "2022-11-30T13:31:39.503863",
     "exception": false,
     "start_time": "2022-11-30T13:31:39.497950",
     "status": "completed"
    },
    "tags": []
   },
   "source": [
    "### **Setup**"
   ]
  },
  {
   "cell_type": "code",
   "execution_count": 1,
   "id": "d12189a3",
   "metadata": {
    "execution": {
     "iopub.execute_input": "2022-11-30T13:31:39.515876Z",
     "iopub.status.busy": "2022-11-30T13:31:39.515055Z",
     "iopub.status.idle": "2022-11-30T13:31:50.777297Z",
     "shell.execute_reply": "2022-11-30T13:31:50.776154Z"
    },
    "papermill": {
     "duration": 11.270919,
     "end_time": "2022-11-30T13:31:50.779844",
     "exception": false,
     "start_time": "2022-11-30T13:31:39.508925",
     "status": "completed"
    },
    "tags": []
   },
   "outputs": [
    {
     "name": "stderr",
     "output_type": "stream",
     "text": [
      "WARNING: Running pip as the 'root' user can result in broken permissions and conflicting behaviour with the system package manager. It is recommended to use a virtual environment instead: https://pip.pypa.io/warnings/venv\n"
     ]
    }
   ],
   "source": [
    "%%bash\n",
    "pip install timm -q"
   ]
  },
  {
   "cell_type": "markdown",
   "id": "17d57b3e",
   "metadata": {
    "papermill": {
     "duration": 0.004775,
     "end_time": "2022-11-30T13:31:50.789493",
     "exception": false,
     "start_time": "2022-11-30T13:31:50.784718",
     "status": "completed"
    },
    "tags": []
   },
   "source": [
    "### **Library Imports**"
   ]
  },
  {
   "cell_type": "code",
   "execution_count": 2,
   "id": "2a3f98cb",
   "metadata": {
    "execution": {
     "iopub.execute_input": "2022-11-30T13:31:50.800994Z",
     "iopub.status.busy": "2022-11-30T13:31:50.800129Z",
     "iopub.status.idle": "2022-11-30T13:31:54.665495Z",
     "shell.execute_reply": "2022-11-30T13:31:54.664465Z"
    },
    "papermill": {
     "duration": 3.873983,
     "end_time": "2022-11-30T13:31:54.668162",
     "exception": false,
     "start_time": "2022-11-30T13:31:50.794179",
     "status": "completed"
    },
    "tags": []
   },
   "outputs": [],
   "source": [
    "import os\n",
    "import re\n",
    "import cv2\n",
    "import timm\n",
    "import torch\n",
    "import numpy as np\n",
    "import pandas as pd\n",
    "import matplotlib.pyplot as plt\n",
    "\n",
    "from time import time\n",
    "from scipy import stats\n",
    "from typing import Union\n",
    "from torch import nn, optim\n",
    "from torch.utils.data import Dataset\n",
    "from torch.utils.data import DataLoader as DL\n",
    "from torchvision import models, transforms\n",
    "\n",
    "# from sklearn.model_selection import StratifiedKFold"
   ]
  },
  {
   "cell_type": "markdown",
   "id": "5fce7239",
   "metadata": {
    "papermill": {
     "duration": 0.004875,
     "end_time": "2022-11-30T13:31:54.678247",
     "exception": false,
     "start_time": "2022-11-30T13:31:54.673372",
     "status": "completed"
    },
    "tags": []
   },
   "source": [
    "### **Utilities and Helpers**"
   ]
  },
  {
   "cell_type": "code",
   "execution_count": 3,
   "id": "f5b0be63",
   "metadata": {
    "execution": {
     "iopub.execute_input": "2022-11-30T13:31:54.690088Z",
     "iopub.status.busy": "2022-11-30T13:31:54.689189Z",
     "iopub.status.idle": "2022-11-30T13:31:54.697068Z",
     "shell.execute_reply": "2022-11-30T13:31:54.695951Z"
    },
    "papermill": {
     "duration": 0.016532,
     "end_time": "2022-11-30T13:31:54.699479",
     "exception": false,
     "start_time": "2022-11-30T13:31:54.682947",
     "status": "completed"
    },
    "tags": []
   },
   "outputs": [],
   "source": [
    "SEED = 42\n",
    "SIZE = 384\n",
    "\n",
    "\n",
    "def breaker(num: int=50, char: str=\"*\") -> None:\n",
    "    print(\"\\n\" + num*char + \"\\n\")\n",
    "\n",
    "    \n",
    "def get_image(path: str, size: int=224) -> np.ndarray:\n",
    "    image = cv2.imread(path, cv2.IMREAD_COLOR)\n",
    "    image = cv2.cvtColor(src=image, code=cv2.COLOR_BGR2RGB)\n",
    "    return cv2.resize(src=image, dsize=(size, size), interpolation=cv2.INTER_AREA)\n",
    "\n",
    "    \n",
    "# def show_loss_graphs(L: list) -> None:\n",
    "#     TL, VL = [], []\n",
    "#     for i in range(len(L)):\n",
    "#         TL.append(L[i][\"train\"])\n",
    "#         VL.append(L[i][\"valid\"])\n",
    "#     x_Axis = np.arange(1, len(TL) + 1)\n",
    "#     plt.figure()\n",
    "#     plt.plot(x_Axis, TL, \"r\", label=\"Train\")\n",
    "#     plt.plot(x_Axis, VL, \"b\", label=\"Valid\")\n",
    "#     plt.legend()\n",
    "#     plt.grid()\n",
    "#     plt.title(\"Loss Graph\")\n",
    "#     plt.show()\n",
    "\n",
    "    \n",
    "# def show_accuracy_graphs(A: list) -> None:\n",
    "#     TA, VA = [], []\n",
    "#     for i in range(len(A)):\n",
    "#         TA.append(A[i][\"train\"])\n",
    "#         VA.append(A[i][\"valid\"])\n",
    "#     x_Axis = np.arange(1, len(TA) + 1)\n",
    "#     plt.figure()\n",
    "#     plt.plot(x_Axis, TA, \"r\", label=\"Train\")\n",
    "#     plt.plot(x_Axis, VA, \"b\", label=\"Valid\")\n",
    "#     plt.legend()\n",
    "#     plt.grid()\n",
    "#     plt.title(\"Accuracy Graph\")\n",
    "#     plt.show()\n",
    "    \n",
    "\n",
    "# def show_lr_graph(LR: list) -> None:\n",
    "#     x_Axis = [i+1 for i in range(len(LR))]\n",
    "#     plt.figure(figsize=(8, 6))\n",
    "#     plt.plot(x_Axis, LR, \"rx\")\n",
    "#     plt.grid()\n",
    "#     plt.show()"
   ]
  },
  {
   "cell_type": "markdown",
   "id": "d1a421d6",
   "metadata": {
    "papermill": {
     "duration": 0.004948,
     "end_time": "2022-11-30T13:31:54.709600",
     "exception": false,
     "start_time": "2022-11-30T13:31:54.704652",
     "status": "completed"
    },
    "tags": []
   },
   "source": [
    "### **Configuration**"
   ]
  },
  {
   "cell_type": "code",
   "execution_count": 4,
   "id": "e00b866b",
   "metadata": {
    "execution": {
     "iopub.execute_input": "2022-11-30T13:31:54.722751Z",
     "iopub.status.busy": "2022-11-30T13:31:54.722466Z",
     "iopub.status.idle": "2022-11-30T13:31:54.794651Z",
     "shell.execute_reply": "2022-11-30T13:31:54.793777Z"
    },
    "papermill": {
     "duration": 0.08289,
     "end_time": "2022-11-30T13:31:54.797418",
     "exception": false,
     "start_time": "2022-11-30T13:31:54.714528",
     "status": "completed"
    },
    "tags": []
   },
   "outputs": [],
   "source": [
    "class CFG(object):\n",
    "    def __init__(self, \n",
    "                 seed: int = 42,\n",
    "                 size: int = 224,\n",
    "                 n_splits: int = 5,\n",
    "                 batch_size: int = 16,\n",
    "                 epochs: int = 25,\n",
    "                 early_stopping: int = 5,\n",
    "                 lr: float = 1e-4,\n",
    "                 wd: float = 0.0,\n",
    "                 max_lr: float = 1e-3,\n",
    "                 pct_start: float = 0.2,\n",
    "                 steps_per_epoch: int = 100,\n",
    "                 div_factor: int = 1e3, \n",
    "                 final_div_factor: float = 1e3,\n",
    "                 ):\n",
    "        self.seed = seed\n",
    "        self.size = size\n",
    "        self.n_splits = n_splits\n",
    "        self.batch_size = batch_size\n",
    "        self.epochs = epochs\n",
    "        self.early_stopping = early_stopping\n",
    "        self.lr = lr\n",
    "        self.wd = wd\n",
    "        self.max_lr = max_lr\n",
    "        self.pct_start = pct_start\n",
    "        self.steps_per_epoch = steps_per_epoch\n",
    "        self.div_factor = div_factor\n",
    "        self.final_div_factor = final_div_factor\n",
    "        self.device = torch.device(\"cuda\" if torch.cuda.is_available() else \"cpu\")\n",
    "        \n",
    "        if self.size == 224:\n",
    "            self.train_transform = transforms.Compose([\n",
    "                transforms.ToTensor(),\n",
    "                transforms.Normalize([0.45818, 0.41879, 0.29899], [0.24524, 0.21704, 0.22208]),\n",
    "                transforms.RandomAffine(degrees=(-45, 45), translate=(0.15, 0.15), scale=(0.5, 1.5)),\n",
    "                transforms.RandomHorizontalFlip(p=0.25),\n",
    "                transforms.RandomVerticalFlip(p=0.25),\n",
    "            ])\n",
    "            self.valid_transform = transforms.Compose([\n",
    "                transforms.ToTensor(),\n",
    "                transforms.Normalize([0.45818, 0.41879, 0.29899], [0.24524, 0.21704, 0.22208]),\n",
    "            ])\n",
    "        \n",
    "        if self.size == 384:\n",
    "            self.train_transform = transforms.Compose([\n",
    "                transforms.ToTensor(),\n",
    "                transforms.Normalize([0.45807, 0.41868, 0.29889], [0.24757, 0.21952, 0.22436]),\n",
    "                transforms.RandomAffine(degrees=(-45, 45), translate=(0.15, 0.15), scale=(0.5, 1.5)),\n",
    "                transforms.RandomHorizontalFlip(p=0.25),\n",
    "                transforms.RandomVerticalFlip(p=0.25),\n",
    "            ])\n",
    "            self.valid_transform = transforms.Compose([\n",
    "                transforms.ToTensor(),\n",
    "                transforms.Normalize([0.45807, 0.41868, 0.29889], [0.24757, 0.21952, 0.22436]),\n",
    "            ])\n",
    "        \n",
    "        if self.size == 512:\n",
    "            self.train_transform = transforms.Compose([\n",
    "                transforms.ToTensor(),\n",
    "                transforms.Normalize([0.45813, 0.41874, 0.29895], [0.24827, 0.22026, 0.22505]),\n",
    "                transforms.RandomAffine(degrees=(-45, 45), translate=(0.15, 0.15), scale=(0.5, 1.5)),\n",
    "                transforms.RandomHorizontalFlip(p=0.25),\n",
    "                transforms.RandomVerticalFlip(p=0.25),\n",
    "            ])\n",
    "            self.valid_transform = transforms.Compose([\n",
    "                transforms.ToTensor(),\n",
    "                transforms.Normalize([0.45813, 0.41874, 0.29895], [0.24827, 0.22026, 0.22505]),\n",
    "            ])\n",
    "                                \n",
    "        self.save_path = \"saves\"\n",
    "        if not os.path.exists(self.save_path): os.makedirs(self.save_path)\n",
    "    \n",
    "cfg = CFG(\n",
    "    seed=SEED, \n",
    "    size=SIZE\n",
    ")"
   ]
  },
  {
   "cell_type": "markdown",
   "id": "4978abf1",
   "metadata": {
    "papermill": {
     "duration": 0.004558,
     "end_time": "2022-11-30T13:31:54.806888",
     "exception": false,
     "start_time": "2022-11-30T13:31:54.802330",
     "status": "completed"
    },
    "tags": []
   },
   "source": [
    "### **Dataset Template**"
   ]
  },
  {
   "cell_type": "code",
   "execution_count": 5,
   "id": "e662d56f",
   "metadata": {
    "execution": {
     "iopub.execute_input": "2022-11-30T13:31:54.817387Z",
     "iopub.status.busy": "2022-11-30T13:31:54.817095Z",
     "iopub.status.idle": "2022-11-30T13:31:54.821623Z",
     "shell.execute_reply": "2022-11-30T13:31:54.820604Z"
    },
    "papermill": {
     "duration": 0.012337,
     "end_time": "2022-11-30T13:31:54.823873",
     "exception": false,
     "start_time": "2022-11-30T13:31:54.811536",
     "status": "completed"
    },
    "tags": []
   },
   "outputs": [],
   "source": [
    "# class DS(Dataset):\n",
    "#     def __init__(\n",
    "#         self, \n",
    "#         filepaths: np.ndarray, \n",
    "#         size: int,\n",
    "#         labels: Union[np.ndarray, None]=None, \n",
    "#         transform=None\n",
    "#     ):\n",
    "        \n",
    "#         self.filepaths = filepaths\n",
    "#         self.labels = labels\n",
    "#         self.size = size\n",
    "#         self.transform = transform\n",
    "    \n",
    "#     def __len__(self):\n",
    "#         return self.filepaths.shape[0]\n",
    "    \n",
    "#     def __getitem__(self, idx):\n",
    "#         image = get_image(self.filepaths[idx], self.size)\n",
    "#         if self.labels is None:\n",
    "#             return self.transform(image)\n",
    "#         return self.transform(image), torch.LongTensor(self.labels[idx])"
   ]
  },
  {
   "cell_type": "code",
   "execution_count": 6,
   "id": "ffe36170",
   "metadata": {
    "execution": {
     "iopub.execute_input": "2022-11-30T13:31:54.834910Z",
     "iopub.status.busy": "2022-11-30T13:31:54.834145Z",
     "iopub.status.idle": "2022-11-30T13:31:54.840900Z",
     "shell.execute_reply": "2022-11-30T13:31:54.839983Z"
    },
    "papermill": {
     "duration": 0.014388,
     "end_time": "2022-11-30T13:31:54.842929",
     "exception": false,
     "start_time": "2022-11-30T13:31:54.828541",
     "status": "completed"
    },
    "tags": []
   },
   "outputs": [],
   "source": [
    "class DS(Dataset):\n",
    "    def __init__(\n",
    "        self, \n",
    "        base_path: str,\n",
    "        filenames: np.ndarray, \n",
    "        size: int,\n",
    "        transform=None):\n",
    "        \n",
    "        self.base_path = base_path\n",
    "        self.filenames = filenames\n",
    "        self.size = size\n",
    "        self.transform = transform\n",
    "    \n",
    "    def __len__(self):\n",
    "        return self.filenames.shape[0]\n",
    "    \n",
    "    def __getitem__(self, idx):\n",
    "        path = os.path.join(self.base_path, str(self.filenames[idx]) + \".jpg\")\n",
    "        image = get_image(path, self.size)\n",
    "        return self.transform(image)"
   ]
  },
  {
   "cell_type": "markdown",
   "id": "384b1b04",
   "metadata": {
    "papermill": {
     "duration": 0.004535,
     "end_time": "2022-11-30T13:31:54.852184",
     "exception": false,
     "start_time": "2022-11-30T13:31:54.847649",
     "status": "completed"
    },
    "tags": []
   },
   "source": [
    "### **Model**"
   ]
  },
  {
   "cell_type": "code",
   "execution_count": 7,
   "id": "3120df0a",
   "metadata": {
    "execution": {
     "iopub.execute_input": "2022-11-30T13:31:54.862635Z",
     "iopub.status.busy": "2022-11-30T13:31:54.862384Z",
     "iopub.status.idle": "2022-11-30T13:31:54.869459Z",
     "shell.execute_reply": "2022-11-30T13:31:54.868590Z"
    },
    "papermill": {
     "duration": 0.014622,
     "end_time": "2022-11-30T13:31:54.871565",
     "exception": false,
     "start_time": "2022-11-30T13:31:54.856943",
     "status": "completed"
    },
    "tags": []
   },
   "outputs": [],
   "source": [
    "class Model(nn.Module):\n",
    "    def __init__(self):\n",
    "        super(Model, self).__init__()\n",
    "            \n",
    "        self.model = timm.create_model(\"resnetv2_50x1_bitm_in21k\", pretrained=True)\n",
    "        self.model.head.fc = torch.nn.Conv2d(\n",
    "                    in_channels=self.model.head.fc.in_channels, \n",
    "                    out_channels=5,\n",
    "                    kernel_size=self.model.head.fc.kernel_size,\n",
    "                    stride=self.model.head.fc.stride\n",
    "                )\n",
    "\n",
    "    def forward(self, x):\n",
    "        return nn.LogSoftmax(dim=1)(self.model(x))"
   ]
  },
  {
   "cell_type": "markdown",
   "id": "056aca52",
   "metadata": {
    "papermill": {
     "duration": 0.004443,
     "end_time": "2022-11-30T13:31:54.880741",
     "exception": false,
     "start_time": "2022-11-30T13:31:54.876298",
     "status": "completed"
    },
    "tags": []
   },
   "source": [
    "### **Fit and Predict**"
   ]
  },
  {
   "cell_type": "code",
   "execution_count": 8,
   "id": "a3520c2a",
   "metadata": {
    "execution": {
     "iopub.execute_input": "2022-11-30T13:31:54.891402Z",
     "iopub.status.busy": "2022-11-30T13:31:54.891158Z",
     "iopub.status.idle": "2022-11-30T13:31:54.901117Z",
     "shell.execute_reply": "2022-11-30T13:31:54.900221Z"
    },
    "papermill": {
     "duration": 0.017706,
     "end_time": "2022-11-30T13:31:54.903086",
     "exception": false,
     "start_time": "2022-11-30T13:31:54.885380",
     "status": "completed"
    },
    "tags": []
   },
   "outputs": [],
   "source": [
    "# def fit(\n",
    "#     model=None,\n",
    "#     optimizer=None, \n",
    "#     scheduler_rlrop=None,\n",
    "#     scheduler_oclr=None,\n",
    "#     epochs=None, \n",
    "#     early_stopping_patience=None, \n",
    "#     dataloaders=None, \n",
    "#     fold=None, \n",
    "#     save_path=None,\n",
    "#     device=None,\n",
    "#     verbose=False\n",
    "# ) -> tuple:\n",
    "    \n",
    "#     def get_accuracy(y_pred, y_true):\n",
    "#         y_pred = torch.argmax(y_pred, dim=1)\n",
    "#         return torch.count_nonzero(y_pred == y_true).item() / len(y_pred)\n",
    "    \n",
    "    \n",
    "#     if verbose:\n",
    "#         breaker()\n",
    "#         if fold: print(f\"Training Fold {fold}...\")\n",
    "#         else: print(\"Training ...\")\n",
    "#         breaker()\n",
    "        \n",
    "#     bestLoss: dict = {\"train\" : np.inf, \"valid\" : np.inf} \n",
    "#     bestAccs: dict = {\"train\" : 0.0, \"valid\" : 0.0}\n",
    "    \n",
    "#     Losses: list = []\n",
    "#     Accuracies: list = [] \n",
    "#     LRs: list = []\n",
    "        \n",
    "#     if fold: \n",
    "#         ble_name = f\"ble_state_fold_{fold}.pt\"\n",
    "#         bae_name = f\"bae_state_fold_{fold}.pt\"\n",
    "#     else: \n",
    "#         ble_name = f\"ble_state.pt\"\n",
    "#         bae_name = f\"bae_state.pt\"\n",
    "        \n",
    "#     start_time = time()\n",
    "#     for e in range(epochs):\n",
    "#         e_st = time()\n",
    "#         epochLoss: dict = {\"train\" : 0.0, \"valid\" : 0.0} \n",
    "#         epochAccs: dict = {\"train\" : 0.0, \"valid\" : 0.0}\n",
    "\n",
    "#         for phase in [\"train\", \"valid\"]:\n",
    "#             if phase == \"train\":\n",
    "#                 model.train()\n",
    "#             else:\n",
    "#                 model.eval()\n",
    "            \n",
    "#             lossPerPass: list = []\n",
    "#             accsPerPass: list = []\n",
    "                \n",
    "#             for X, y in dataloaders[phase]:\n",
    "#                 X, y = X.to(device), y.to(device).view(-1)\n",
    "\n",
    "#                 optimizer.zero_grad()\n",
    "#                 with torch.set_grad_enabled(phase == \"train\"):\n",
    "#                     output = model(X)\n",
    "#                     loss = torch.nn.NLLLoss()(output, y)\n",
    "#                     if phase == \"train\":\n",
    "#                         loss.backward()\n",
    "#                         optimizer.step()\n",
    "#                         if scheduler_oclr: scheduler_oclr.step()\n",
    "#                 lossPerPass.append(loss.item())\n",
    "#                 accsPerPass.append(get_accuracy(output, y))\n",
    "#             epochLoss[phase] = np.mean(np.array(lossPerPass))\n",
    "#             epochAccs[phase] = np.mean(np.array(accsPerPass))\n",
    "#         if scheduler_oclr: LRs.append(scheduler_oclr.get_last_lr())\n",
    "#         Losses.append(epochLoss)\n",
    "#         Accuracies.append(epochAccs)\n",
    "        \n",
    "#         if scheduler_oclr:\n",
    "#             save_dict = {\"model_state_dict\"     : model.state_dict(),\n",
    "#                          \"optim_state_dict\"     : optimizer.state_dict(),\n",
    "#                          \"scheduler_state_dict\" : scheduler_oclr.state_dict()}\n",
    "        \n",
    "#         elif scheduler_rlrop:\n",
    "#             save_dict = {\"model_state_dict\"     : model.state_dict(),\n",
    "#                          \"optim_state_dict\"     : optimizer.state_dict(),\n",
    "#                          \"scheduler_state_dict\" : scheduler_rlrop.state_dict()}\n",
    "        \n",
    "#         else:\n",
    "#             save_dict = {\"model_state_dict\"     : model.state_dict(),\n",
    "#                          \"optim_state_dict\"     : optimizer.state_dict()}\n",
    "        \n",
    "#         if early_stopping_patience:\n",
    "#             if epochLoss[\"valid\"] < bestLoss[\"valid\"]:\n",
    "#                 bestLoss = epochLoss\n",
    "#                 BLE = e + 1\n",
    "#                 torch.save(save_dict, os.path.join(save_path, ble_name))\n",
    "#                 torch.save(save_dict, os.path.join(save_path, bae_name))\n",
    "#                 early_stopping_step = 0\n",
    "#             else:\n",
    "#                 early_stopping_step += 1\n",
    "#                 if early_stopping_step > early_stopping_patience:\n",
    "#                     print(\"\\nEarly Stopping at Epoch {}\".format(e + 1))\n",
    "#                     break\n",
    "        \n",
    "#         if epochLoss[\"valid\"] < bestLoss[\"valid\"]:\n",
    "#             bestLoss = epochLoss\n",
    "#             BLE = e + 1\n",
    "#             torch.save(save_dict,os.path.join(save_path, ble_name))\n",
    "        \n",
    "#         if epochAccs[\"valid\"] > bestAccs[\"valid\"]:\n",
    "#             bestAccs = epochAccs\n",
    "#             BAE = e + 1\n",
    "#             torch.save(save_dict,os.path.join(save_path, bae_name))\n",
    "        \n",
    "#         if scheduler_rlrop: scheduler_rlrop.step(epochLoss[\"valid\"])\n",
    "        \n",
    "#         if verbose:\n",
    "#             print(\"Epoch: {} | Train Loss: {:.5f} | Valid Loss: {:.5f} |\\\n",
    "#  Train Accs: {:.5f} | Valid Accs: {:.5f} | Time: {:.2f} seconds\".format(e+1, \n",
    "#                                                                         epochLoss[\"train\"], epochLoss[\"valid\"], \n",
    "#                                                                         epochAccs[\"train\"], epochAccs[\"valid\"], \n",
    "#                                                                         time()-e_st))\n",
    "\n",
    "#     if verbose:                                           \n",
    "#         breaker()\n",
    "#         print(f\"Best Validation Loss at Epoch {BLE}\")\n",
    "#         breaker()\n",
    "#         print(f\"Best Validation Accs at Epoch {BAE}\")\n",
    "#         breaker()\n",
    "#         print(\"Time Taken [{} Epochs] : {:.2f} minutes\".format(len(Losses), (time()-start_time)/60))\n",
    "    \n",
    "#     return Losses, Accuracies, LRs, bestLoss, bestAccs, BLE, BAE, ble_name, bae_name\n",
    "\n",
    "\n",
    "def predict_batch(model=None, dataloader=None, path=None, device=None) -> np.ndarray:\n",
    "    model.load_state_dict(torch.load(path, map_location=device)[\"model_state_dict\"])\n",
    "    model.to(device)    \n",
    "    model.eval()\n",
    "    \n",
    "    y_pred = torch.zeros(1, 1).to(device)\n",
    "    \n",
    "    for X in dataloader:\n",
    "        X = X.to(device)\n",
    "        with torch.no_grad():\n",
    "            output = torch.argmax(torch.exp(model(X)), dim=1)\n",
    "        y_pred = torch.cat((y_pred, output.view(-1, 1)), dim=0)\n",
    "    \n",
    "    return y_pred[1:].detach().cpu().numpy()"
   ]
  },
  {
   "cell_type": "markdown",
   "id": "092c881e",
   "metadata": {
    "papermill": {
     "duration": 0.004531,
     "end_time": "2022-11-30T13:31:54.912353",
     "exception": false,
     "start_time": "2022-11-30T13:31:54.907822",
     "status": "completed"
    },
    "tags": []
   },
   "source": [
    "### **Train**"
   ]
  },
  {
   "cell_type": "code",
   "execution_count": 9,
   "id": "b501dba2",
   "metadata": {
    "execution": {
     "iopub.execute_input": "2022-11-30T13:31:54.923303Z",
     "iopub.status.busy": "2022-11-30T13:31:54.922548Z",
     "iopub.status.idle": "2022-11-30T13:31:54.927014Z",
     "shell.execute_reply": "2022-11-30T13:31:54.925891Z"
    },
    "papermill": {
     "duration": 0.011907,
     "end_time": "2022-11-30T13:31:54.929039",
     "exception": false,
     "start_time": "2022-11-30T13:31:54.917132",
     "status": "completed"
    },
    "tags": []
   },
   "outputs": [],
   "source": [
    "# df = pd.read_csv(\"../input/fic-dataframe/train.csv\")\n",
    "\n",
    "# filepaths = df.filepaths.copy().values\n",
    "# labels = df.labels.copy().values"
   ]
  },
  {
   "cell_type": "code",
   "execution_count": 10,
   "id": "d6b0dc5f",
   "metadata": {
    "execution": {
     "iopub.execute_input": "2022-11-30T13:31:54.940502Z",
     "iopub.status.busy": "2022-11-30T13:31:54.939678Z",
     "iopub.status.idle": "2022-11-30T13:31:54.946059Z",
     "shell.execute_reply": "2022-11-30T13:31:54.945239Z"
    },
    "papermill": {
     "duration": 0.014228,
     "end_time": "2022-11-30T13:31:54.947942",
     "exception": false,
     "start_time": "2022-11-30T13:31:54.933714",
     "status": "completed"
    },
    "tags": []
   },
   "outputs": [],
   "source": [
    "# fold: int = 1\n",
    "# BLs: list = []\n",
    "# BAs: list = []\n",
    "    \n",
    "# cfg.batch_size = 16\n",
    "# cfg.epochs = 10\n",
    "    \n",
    "# for tr_idx, va_idx in StratifiedKFold(n_splits=cfg.n_splits, random_state=cfg.seed, shuffle=True).split(filepaths, labels):\n",
    "\n",
    "#     tr_filepaths, va_filepaths = filepaths[tr_idx], filepaths[va_idx] \n",
    "#     tr_labels, va_labels       = labels[tr_idx], labels[va_idx]\n",
    "\n",
    "#     tr_data_setup = DS(\n",
    "#         filepaths=tr_filepaths, \n",
    "#         labels=tr_labels.reshape(-1, 1),\n",
    "#         size=cfg.size,\n",
    "#         transform=cfg.train_transform\n",
    "#     )\n",
    "    \n",
    "#     va_data_setup = DS(\n",
    "#         filepaths=va_filepaths, \n",
    "#         labels=va_labels.reshape(-1, 1),\n",
    "#         size=cfg.size,\n",
    "#         transform=cfg.train_transform\n",
    "#     )\n",
    "\n",
    "#     dataloaders = {\n",
    "#         \"train\" : DL(tr_data_setup, batch_size=cfg.batch_size, shuffle=True, generator=torch.manual_seed(cfg.seed)),\n",
    "#         \"valid\" : DL(va_data_setup, batch_size=cfg.batch_size, shuffle=False),\n",
    "#     }\n",
    "\n",
    "#     cfg.steps_per_epoch=len(dataloaders[\"train\"])\n",
    "    \n",
    "#     torch.manual_seed(cfg.seed)\n",
    "#     model = Model().to(cfg.device)\n",
    "\n",
    "#     optimizer = optim.Adam([p for p in model.parameters() if p.requires_grad], lr=cfg.lr, weight_decay=cfg.wd)\n",
    "#     # optimizer = optim.AdamW([p for p in model.parameters() if p.requires_grad], lr=cfg.lr, weight_decay=cfg.wd)\n",
    "#     # optimizer = optim.SGD([p for p in model.parameters() if p.requires_grad], lr=cfg.lr, weight_decay=cfg.wd, momentum=0.9)\n",
    "\n",
    "#     scheduler_oclr = optim.lr_scheduler.OneCycleLR(\n",
    "#         optimizer=optimizer, \n",
    "#         max_lr=cfg.max_lr, \n",
    "#         epochs=cfg.epochs, \n",
    "#         steps_per_epoch=cfg.steps_per_epoch,\n",
    "#         pct_start=cfg.pct_start, \n",
    "#         div_factor=cfg.div_factor, \n",
    "#         final_div_factor=cfg.final_div_factor\n",
    "#     )\n",
    "\n",
    "#     # scheduler_rlrop = optim.lr_scheduler.ReduceLROnPlateau(\n",
    "#     #     optimizer=optimizer,\n",
    "#     #     patience=cfg.patience,\n",
    "#     #     eps=cfg.eps,\n",
    "#     #     verbose=True\n",
    "#     # )\n",
    "\n",
    "#     # scheduler_oclr = None\n",
    "#     scheduler_rlrop = None\n",
    "\n",
    "\n",
    "#     L, A, LR, BL, BA, _, _, _, _ = fit(\n",
    "#         model=model, \n",
    "#         optimizer=optimizer, \n",
    "#         scheduler_oclr=scheduler_oclr,\n",
    "#         scheduler_rlrop=scheduler_rlrop,\n",
    "#         epochs=cfg.epochs, \n",
    "#         early_stopping_patience=cfg.early_stopping, \n",
    "#         dataloaders=dataloaders, \n",
    "#         device=cfg.device,\n",
    "#         save_path=cfg.save_path,\n",
    "#         fold=fold,\n",
    "#         verbose=True\n",
    "#     )\n",
    "\n",
    "\n",
    "#     breaker()\n",
    "#     show_loss_graphs(L)\n",
    "#     breaker()\n",
    "#     show_accuracy_graphs(A)\n",
    "#     breaker()\n",
    "#     if scheduler_oclr:\n",
    "#         show_lr_graph(LR)\n",
    "#         breaker()\n",
    "    \n",
    "#     BLs.append(BL)\n",
    "#     BAs.append(BA)\n",
    "    \n",
    "#     fold += 1"
   ]
  },
  {
   "cell_type": "markdown",
   "id": "c1759d3e",
   "metadata": {
    "papermill": {
     "duration": 0.004473,
     "end_time": "2022-11-30T13:31:54.957345",
     "exception": false,
     "start_time": "2022-11-30T13:31:54.952872",
     "status": "completed"
    },
    "tags": []
   },
   "source": [
    "### **Best Model**"
   ]
  },
  {
   "cell_type": "code",
   "execution_count": 11,
   "id": "3793db2e",
   "metadata": {
    "execution": {
     "iopub.execute_input": "2022-11-30T13:31:54.968201Z",
     "iopub.status.busy": "2022-11-30T13:31:54.967448Z",
     "iopub.status.idle": "2022-11-30T13:31:54.972160Z",
     "shell.execute_reply": "2022-11-30T13:31:54.971343Z"
    },
    "papermill": {
     "duration": 0.012063,
     "end_time": "2022-11-30T13:31:54.974063",
     "exception": false,
     "start_time": "2022-11-30T13:31:54.962000",
     "status": "completed"
    },
    "tags": []
   },
   "outputs": [],
   "source": [
    "# BL = np.inf\n",
    "# for i in range(len(BLs)):\n",
    "#     if BLs[i][\"valid\"] < BL:\n",
    "#         BL = BLs[i][\"valid\"]\n",
    "#         best_loss_index = i\n",
    "\n",
    "        \n",
    "# BA = 0.0\n",
    "# for i in range(len(BAs)):\n",
    "#     if BAs[i][\"valid\"] > BA:\n",
    "#         BA = BAs[i][\"valid\"]\n",
    "#         best_accs_index = i\n",
    "\n",
    "# breaker()\n",
    "# print(f\"Best Loss Model Fold     : {best_loss_index + 1}\")\n",
    "# print(f\"Best Accuracy Model Fold : {best_accs_index + 1}\")\n",
    "# breaker()"
   ]
  },
  {
   "cell_type": "markdown",
   "id": "2c43acdf",
   "metadata": {
    "papermill": {
     "duration": 0.004584,
     "end_time": "2022-11-30T13:31:54.983276",
     "exception": false,
     "start_time": "2022-11-30T13:31:54.978692",
     "status": "completed"
    },
    "tags": []
   },
   "source": [
    "### **Submission**"
   ]
  },
  {
   "cell_type": "code",
   "execution_count": 12,
   "id": "80c792c8",
   "metadata": {
    "execution": {
     "iopub.execute_input": "2022-11-30T13:31:54.994077Z",
     "iopub.status.busy": "2022-11-30T13:31:54.993330Z",
     "iopub.status.idle": "2022-11-30T13:32:01.133478Z",
     "shell.execute_reply": "2022-11-30T13:32:01.132378Z"
    },
    "papermill": {
     "duration": 6.148003,
     "end_time": "2022-11-30T13:32:01.135951",
     "exception": false,
     "start_time": "2022-11-30T13:31:54.987948",
     "status": "completed"
    },
    "tags": []
   },
   "outputs": [],
   "source": [
    "torch.manual_seed(cfg.seed)\n",
    "model = Model().to(cfg.device)\n",
    "\n",
    "ss_df = pd.read_csv(\"../input/5-flowers-image-classification/Sample_submission.csv\")\n",
    "ts_filenames = ss_df[\"id\"]\n",
    "\n",
    "ts_data_setup = DS(\n",
    "    base_path=\"../input/5-flowers-image-classification/test\", \n",
    "    filenames=ts_filenames, \n",
    "    size=cfg.size,\n",
    "    transform=cfg.valid_transform,\n",
    ")\n",
    "ts_data = DL(ts_data_setup, batch_size=cfg.batch_size, shuffle=False)"
   ]
  },
  {
   "cell_type": "code",
   "execution_count": 13,
   "id": "678168cc",
   "metadata": {
    "execution": {
     "iopub.execute_input": "2022-11-30T13:32:01.153424Z",
     "iopub.status.busy": "2022-11-30T13:32:01.153110Z",
     "iopub.status.idle": "2022-11-30T13:32:36.109142Z",
     "shell.execute_reply": "2022-11-30T13:32:36.108144Z"
    },
    "papermill": {
     "duration": 34.965393,
     "end_time": "2022-11-30T13:32:36.111650",
     "exception": false,
     "start_time": "2022-11-30T13:32:01.146257",
     "status": "completed"
    },
    "tags": []
   },
   "outputs": [],
   "source": [
    "y_pred_1_a = predict_batch(\n",
    "    model=model,\n",
    "    dataloader=ts_data,\n",
    "    path=\"../input/fic-rbit-a384-e10/saves/bae_state_fold_1.pt\",\n",
    "    device=cfg.device\n",
    ")\n",
    "\n",
    "y_pred_2_a = predict_batch(\n",
    "    model=model,\n",
    "    dataloader=ts_data,\n",
    "    path=\"../input/fic-rbit-a384-e10/saves/bae_state_fold_2.pt\",\n",
    "    device=cfg.device\n",
    ")\n",
    "\n",
    "y_pred_3_a = predict_batch(\n",
    "    model=model,\n",
    "    dataloader=ts_data,\n",
    "    path=\"../input/fic-rbit-a384-e10/saves/bae_state_fold_3.pt\",\n",
    "    device=cfg.device\n",
    ")\n",
    "\n",
    "y_pred_4_a = predict_batch(\n",
    "    model=model,\n",
    "    dataloader=ts_data,\n",
    "    path=\"../input/fic-rbit-a384-e10/saves/bae_state_fold_4.pt\",\n",
    "    device=cfg.device\n",
    ")\n",
    "\n",
    "y_pred_5_a = predict_batch(\n",
    "    model=model,\n",
    "    dataloader=ts_data,\n",
    "    path=\"../input/fic-rbit-a384-e10/saves/bae_state_fold_5.pt\",\n",
    "    device=cfg.device\n",
    ")"
   ]
  },
  {
   "cell_type": "code",
   "execution_count": 14,
   "id": "3e791fec",
   "metadata": {
    "execution": {
     "iopub.execute_input": "2022-11-30T13:32:36.125001Z",
     "iopub.status.busy": "2022-11-30T13:32:36.123225Z",
     "iopub.status.idle": "2022-11-30T13:32:59.548105Z",
     "shell.execute_reply": "2022-11-30T13:32:59.546842Z"
    },
    "papermill": {
     "duration": 23.438723,
     "end_time": "2022-11-30T13:32:59.555686",
     "exception": false,
     "start_time": "2022-11-30T13:32:36.116963",
     "status": "completed"
    },
    "tags": []
   },
   "outputs": [],
   "source": [
    "y_pred_1_l = predict_batch(\n",
    "    model=model,\n",
    "    dataloader=ts_data,\n",
    "    path=\"../input/fic-rbit-a384-e10/saves/ble_state_fold_1.pt\",\n",
    "    device=cfg.device\n",
    ")\n",
    "\n",
    "y_pred_2_l = predict_batch(\n",
    "    model=model,\n",
    "    dataloader=ts_data,\n",
    "    path=\"../input/fic-rbit-a384-e10/saves/ble_state_fold_2.pt\",\n",
    "    device=cfg.device\n",
    ")\n",
    "\n",
    "y_pred_3_l = predict_batch(\n",
    "    model=model,\n",
    "    dataloader=ts_data,\n",
    "    path=\"../input/fic-rbit-a384-e10/saves/ble_state_fold_3.pt\",\n",
    "    device=cfg.device\n",
    ")\n",
    "\n",
    "y_pred_4_l = predict_batch(\n",
    "    model=model,\n",
    "    dataloader=ts_data,\n",
    "    path=\"../input/fic-rbit-a384-e10/saves/ble_state_fold_4.pt\",\n",
    "    device=cfg.device\n",
    ")\n",
    "\n",
    "y_pred_5_l = predict_batch(\n",
    "    model=model,\n",
    "    dataloader=ts_data,\n",
    "    path=\"../input/fic-rbit-a384-e10/saves/ble_state_fold_5.pt\",\n",
    "    device=cfg.device\n",
    ")"
   ]
  },
  {
   "cell_type": "code",
   "execution_count": 15,
   "id": "47376bc5",
   "metadata": {
    "execution": {
     "iopub.execute_input": "2022-11-30T13:32:59.588966Z",
     "iopub.status.busy": "2022-11-30T13:32:59.588366Z",
     "iopub.status.idle": "2022-11-30T13:32:59.641389Z",
     "shell.execute_reply": "2022-11-30T13:32:59.640610Z"
    },
    "papermill": {
     "duration": 0.06588,
     "end_time": "2022-11-30T13:32:59.643481",
     "exception": false,
     "start_time": "2022-11-30T13:32:59.577601",
     "status": "completed"
    },
    "tags": []
   },
   "outputs": [],
   "source": [
    "y_pred = np.concatenate((\n",
    "    y_pred_1_a.reshape(1, -1),\n",
    "    y_pred_2_a.reshape(1, -1),\n",
    "    y_pred_3_a.reshape(1, -1),\n",
    "    y_pred_4_a.reshape(1, -1),\n",
    "    y_pred_5_a.reshape(1, -1),\n",
    "    y_pred_1_l.reshape(1, -1),\n",
    "    y_pred_2_l.reshape(1, -1),\n",
    "    y_pred_3_l.reshape(1, -1),\n",
    "    y_pred_4_l.reshape(1, -1),\n",
    "    y_pred_5_l.reshape(1, -1),\n",
    "), axis=0)\n",
    "\n",
    "y_pred = stats.mode(y_pred)[0]\n",
    "\n",
    "ss_df[\"label\"] = y_pred.astype(\"uint8\").reshape(-1)\n",
    "ss_df.to_csv(\"submission.csv\", index=False)"
   ]
  }
 ],
 "metadata": {
  "kernelspec": {
   "display_name": "Python 3",
   "language": "python",
   "name": "python3"
  },
  "language_info": {
   "codemirror_mode": {
    "name": "ipython",
    "version": 3
   },
   "file_extension": ".py",
   "mimetype": "text/x-python",
   "name": "python",
   "nbconvert_exporter": "python",
   "pygments_lexer": "ipython3",
   "version": "3.7.12"
  },
  "papermill": {
   "default_parameters": {},
   "duration": 89.174213,
   "end_time": "2022-11-30T13:33:01.182300",
   "environment_variables": {},
   "exception": null,
   "input_path": "__notebook__.ipynb",
   "output_path": "__notebook__.ipynb",
   "parameters": {},
   "start_time": "2022-11-30T13:31:32.008087",
   "version": "2.3.4"
  }
 },
 "nbformat": 4,
 "nbformat_minor": 5
}
