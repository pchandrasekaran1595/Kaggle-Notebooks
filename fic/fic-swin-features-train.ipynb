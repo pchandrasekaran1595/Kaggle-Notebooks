{
 "cells": [
  {
   "cell_type": "code",
   "execution_count": 1,
   "id": "e57c5e33",
   "metadata": {
    "_cell_guid": "b1076dfc-b9ad-4769-8c92-a6c4dae69d19",
    "_uuid": "8f2839f25d086af736a60e9eeb907d3b93b6e0e5",
    "execution": {
     "iopub.execute_input": "2022-11-20T14:18:08.534037Z",
     "iopub.status.busy": "2022-11-20T14:18:08.533249Z",
     "iopub.status.idle": "2022-11-20T14:18:10.371872Z",
     "shell.execute_reply": "2022-11-20T14:18:10.370945Z"
    },
    "papermill": {
     "duration": 1.846156,
     "end_time": "2022-11-20T14:18:10.374242",
     "exception": false,
     "start_time": "2022-11-20T14:18:08.528086",
     "status": "completed"
    },
    "tags": []
   },
   "outputs": [
    {
     "data": {
      "text/html": [
       "<style type='text/css'>\n",
       ".datatable table.frame { margin-bottom: 0; }\n",
       ".datatable table.frame thead { border-bottom: none; }\n",
       ".datatable table.frame tr.coltypes td {  color: #FFFFFF;  line-height: 6px;  padding: 0 0.5em;}\n",
       ".datatable .bool    { background: #DDDD99; }\n",
       ".datatable .object  { background: #565656; }\n",
       ".datatable .int     { background: #5D9E5D; }\n",
       ".datatable .float   { background: #4040CC; }\n",
       ".datatable .str     { background: #CC4040; }\n",
       ".datatable .time    { background: #40CC40; }\n",
       ".datatable .row_index {  background: var(--jp-border-color3);  border-right: 1px solid var(--jp-border-color0);  color: var(--jp-ui-font-color3);  font-size: 9px;}\n",
       ".datatable .frame tbody td { text-align: left; }\n",
       ".datatable .frame tr.coltypes .row_index {  background: var(--jp-border-color0);}\n",
       ".datatable th:nth-child(2) { padding-left: 12px; }\n",
       ".datatable .hellipsis {  color: var(--jp-cell-editor-border-color);}\n",
       ".datatable .vellipsis {  background: var(--jp-layout-color0);  color: var(--jp-cell-editor-border-color);}\n",
       ".datatable .na {  color: var(--jp-cell-editor-border-color);  font-size: 80%;}\n",
       ".datatable .sp {  opacity: 0.25;}\n",
       ".datatable .footer { font-size: 9px; }\n",
       ".datatable .frame_dimensions {  background: var(--jp-border-color3);  border-top: 1px solid var(--jp-border-color0);  color: var(--jp-ui-font-color3);  display: inline-block;  opacity: 0.6;  padding: 1px 10px 1px 5px;}\n",
       "</style>\n"
      ],
      "text/plain": [
       "<IPython.core.display.HTML object>"
      ]
     },
     "metadata": {},
     "output_type": "display_data"
    }
   ],
   "source": [
    "import os\n",
    "import pickle\n",
    "import numpy as np\n",
    "import pandas as pd\n",
    "import random as r\n",
    "import seaborn as sns\n",
    "import matplotlib.pyplot as plt\n",
    "\n",
    "from time import time\n",
    "from sklearn.pipeline import Pipeline\n",
    "from sklearn.model_selection import StratifiedKFold\n",
    "\n",
    "from sklearn.svm import SVC\n",
    "from sklearn.naive_bayes import GaussianNB\n",
    "from sklearn.neighbors import KNeighborsClassifier\n",
    "from sklearn.linear_model import LogisticRegression\n",
    "from sklearn.tree import DecisionTreeClassifier, ExtraTreeClassifier\n",
    "from sklearn.ensemble import AdaBoostClassifier, ExtraTreesClassifier, GradientBoostingClassifier, RandomForestClassifier\n",
    "from xgboost import XGBClassifier\n",
    "from lightgbm import LGBMClassifier\n",
    "\n",
    "from sklearn.metrics import accuracy_score"
   ]
  },
  {
   "cell_type": "code",
   "execution_count": 2,
   "id": "404e1b34",
   "metadata": {
    "execution": {
     "iopub.execute_input": "2022-11-20T14:18:10.380790Z",
     "iopub.status.busy": "2022-11-20T14:18:10.380469Z",
     "iopub.status.idle": "2022-11-20T14:18:10.385252Z",
     "shell.execute_reply": "2022-11-20T14:18:10.384168Z"
    },
    "papermill": {
     "duration": 0.009913,
     "end_time": "2022-11-20T14:18:10.386956",
     "exception": false,
     "start_time": "2022-11-20T14:18:10.377043",
     "status": "completed"
    },
    "tags": []
   },
   "outputs": [],
   "source": [
    "def breaker() -> None: print(\"\\n\" + 50*\"*\" + \"\\n\")"
   ]
  },
  {
   "cell_type": "code",
   "execution_count": 3,
   "id": "5c5c6abb",
   "metadata": {
    "execution": {
     "iopub.execute_input": "2022-11-20T14:18:10.393458Z",
     "iopub.status.busy": "2022-11-20T14:18:10.393122Z",
     "iopub.status.idle": "2022-11-20T14:18:10.399211Z",
     "shell.execute_reply": "2022-11-20T14:18:10.398572Z"
    },
    "papermill": {
     "duration": 0.011384,
     "end_time": "2022-11-20T14:18:10.400903",
     "exception": false,
     "start_time": "2022-11-20T14:18:10.389519",
     "status": "completed"
    },
    "tags": []
   },
   "outputs": [],
   "source": [
    "class CFG(object):\n",
    "    def __init__(self,\n",
    "                 seed: int = 42,\n",
    "                 n_splits: int = 5,\n",
    "                 show_info: bool = False,\n",
    "                 ):\n",
    "\n",
    "        self.seed = seed\n",
    "        self.n_splits = n_splits\n",
    "        self.show_info = show_info\n",
    "        self.features_path = \"../input/fic-swin-features\"\n",
    "        self.model_save_path = \"models\"\n",
    "        if not os.path.exists(self.model_save_path): os.makedirs(self.model_save_path)\n",
    "\n",
    "cfg = CFG(seed=42, show_info=True)"
   ]
  },
  {
   "cell_type": "code",
   "execution_count": 4,
   "id": "602dfe80",
   "metadata": {
    "execution": {
     "iopub.execute_input": "2022-11-20T14:18:10.407419Z",
     "iopub.status.busy": "2022-11-20T14:18:10.406760Z",
     "iopub.status.idle": "2022-11-20T14:18:10.441398Z",
     "shell.execute_reply": "2022-11-20T14:18:10.440628Z"
    },
    "papermill": {
     "duration": 0.039806,
     "end_time": "2022-11-20T14:18:10.443410",
     "exception": false,
     "start_time": "2022-11-20T14:18:10.403604",
     "status": "completed"
    },
    "tags": []
   },
   "outputs": [],
   "source": [
    "y = pd.read_csv(\"../input/fic-dataframe/train.csv\")\n",
    "y = y[\"labels\"].copy().values"
   ]
  },
  {
   "cell_type": "code",
   "execution_count": 5,
   "id": "ce1f2459",
   "metadata": {
    "execution": {
     "iopub.execute_input": "2022-11-20T14:18:10.449829Z",
     "iopub.status.busy": "2022-11-20T14:18:10.449215Z",
     "iopub.status.idle": "2022-11-20T14:18:10.461548Z",
     "shell.execute_reply": "2022-11-20T14:18:10.460677Z"
    },
    "papermill": {
     "duration": 0.017733,
     "end_time": "2022-11-20T14:18:10.463749",
     "exception": false,
     "start_time": "2022-11-20T14:18:10.446016",
     "status": "completed"
    },
    "tags": []
   },
   "outputs": [],
   "source": [
    "class Model(object):\n",
    "    def __init__(self, model_name: str, seed: int):\n",
    "        self.model_name = model_name\n",
    "\n",
    "        if self.model_name == \"lgr\":\n",
    "            self.model = Pipeline(\n",
    "                steps=[\n",
    "                    (\"classifier\", LogisticRegression(random_state=seed)),\n",
    "                ]\n",
    "            )\n",
    "        \n",
    "        elif self.model_name == \"knc\":\n",
    "            self.model = Pipeline(\n",
    "                steps=[\n",
    "                    (\"classifier\", KNeighborsClassifier()),\n",
    "                ]\n",
    "            )\n",
    "        \n",
    "        elif self.model_name == \"svc\":\n",
    "            self.model = Pipeline(\n",
    "                steps=[\n",
    "                    (\"classifier\", SVC()),\n",
    "                ]\n",
    "            )\n",
    "        \n",
    "        elif self.model_name == \"dtc\":\n",
    "            self.model = Pipeline(\n",
    "                steps=[\n",
    "                    (\"classifier\", DecisionTreeClassifier(random_state=seed)),\n",
    "                ]\n",
    "            )\n",
    "\n",
    "        elif self.model_name == \"etc\":\n",
    "            self.model = Pipeline(\n",
    "                steps=[\n",
    "                    (\"classifier\", ExtraTreeClassifier(random_state=seed)),\n",
    "                ]\n",
    "            )\n",
    "        \n",
    "        elif self.model_name == \"rfc\":\n",
    "            self.model = Pipeline(\n",
    "                steps=[\n",
    "                    (\"classifier\", RandomForestClassifier(random_state=seed)),\n",
    "                ]\n",
    "            )\n",
    "        \n",
    "        elif self.model_name == \"gbc\":\n",
    "            self.model = Pipeline(\n",
    "                steps=[\n",
    "                    (\"classifier\", GradientBoostingClassifier(random_state=seed)),\n",
    "                ]\n",
    "            )\n",
    "        \n",
    "        elif self.model_name == \"abc\":\n",
    "            self.model = Pipeline(\n",
    "                steps=[\n",
    "                    (\"classifier\", AdaBoostClassifier(random_state=seed)),\n",
    "                ]\n",
    "            )\n",
    "        \n",
    "        elif self.model_name == \"etcs\":\n",
    "            self.model = Pipeline(\n",
    "                steps=[\n",
    "                    (\"classifier\", ExtraTreesClassifier(random_state=seed)),\n",
    "                ]\n",
    "            )\n",
    "        \n",
    "        elif self.model_name == \"gnb\":\n",
    "            self.model = Pipeline(\n",
    "                steps=[\n",
    "                    (\"classifier\", GaussianNB()),\n",
    "                ]\n",
    "            )\n",
    "        \n",
    "        elif self.model_name == \"xgbc\":\n",
    "            self.model = Pipeline(\n",
    "                steps=[\n",
    "                    (\"classifier\", XGBClassifier(random_state=seed)),\n",
    "                ]\n",
    "            )\n",
    "        \n",
    "        elif self.model_name == \"lgbmc\":\n",
    "            self.model = Pipeline(\n",
    "                steps=[\n",
    "                    (\"classifier\", LGBMClassifier(random_state=seed)),\n",
    "                ]\n",
    "            )"
   ]
  },
  {
   "cell_type": "code",
   "execution_count": 6,
   "id": "3f534233",
   "metadata": {
    "execution": {
     "iopub.execute_input": "2022-11-20T14:18:10.470107Z",
     "iopub.status.busy": "2022-11-20T14:18:10.469799Z",
     "iopub.status.idle": "2022-11-20T14:20:34.408758Z",
     "shell.execute_reply": "2022-11-20T14:20:34.407664Z"
    },
    "papermill": {
     "duration": 143.944635,
     "end_time": "2022-11-20T14:20:34.410885",
     "exception": false,
     "start_time": "2022-11-20T14:18:10.466250",
     "status": "completed"
    },
    "tags": []
   },
   "outputs": [
    {
     "name": "stdout",
     "output_type": "stream",
     "text": [
      "\n",
      "**************************************************\n",
      "\n",
      "SWIN_LARGE_PATCH4_WINDOW12_384_IN22K\n",
      "\n",
      "**************************************************\n",
      "\n"
     ]
    },
    {
     "name": "stderr",
     "output_type": "stream",
     "text": [
      "/opt/conda/lib/python3.7/site-packages/sklearn/linear_model/_logistic.py:818: ConvergenceWarning: lbfgs failed to converge (status=1):\n",
      "STOP: TOTAL NO. of ITERATIONS REACHED LIMIT.\n",
      "\n",
      "Increase the number of iterations (max_iter) or scale the data as shown in:\n",
      "    https://scikit-learn.org/stable/modules/preprocessing.html\n",
      "Please also refer to the documentation for alternative solver options:\n",
      "    https://scikit-learn.org/stable/modules/linear_model.html#logistic-regression\n",
      "  extra_warning_msg=_LOGISTIC_SOLVER_CONVERGENCE_MSG,\n"
     ]
    },
    {
     "name": "stdout",
     "output_type": "stream",
     "text": [
      "lgr, 1, Accuracy : 0.98060\n"
     ]
    },
    {
     "name": "stderr",
     "output_type": "stream",
     "text": [
      "/opt/conda/lib/python3.7/site-packages/sklearn/linear_model/_logistic.py:818: ConvergenceWarning: lbfgs failed to converge (status=1):\n",
      "STOP: TOTAL NO. of ITERATIONS REACHED LIMIT.\n",
      "\n",
      "Increase the number of iterations (max_iter) or scale the data as shown in:\n",
      "    https://scikit-learn.org/stable/modules/preprocessing.html\n",
      "Please also refer to the documentation for alternative solver options:\n",
      "    https://scikit-learn.org/stable/modules/linear_model.html#logistic-regression\n",
      "  extra_warning_msg=_LOGISTIC_SOLVER_CONVERGENCE_MSG,\n"
     ]
    },
    {
     "name": "stdout",
     "output_type": "stream",
     "text": [
      "lgr, 2, Accuracy : 0.96766\n"
     ]
    },
    {
     "name": "stderr",
     "output_type": "stream",
     "text": [
      "/opt/conda/lib/python3.7/site-packages/sklearn/linear_model/_logistic.py:818: ConvergenceWarning: lbfgs failed to converge (status=1):\n",
      "STOP: TOTAL NO. of ITERATIONS REACHED LIMIT.\n",
      "\n",
      "Increase the number of iterations (max_iter) or scale the data as shown in:\n",
      "    https://scikit-learn.org/stable/modules/preprocessing.html\n",
      "Please also refer to the documentation for alternative solver options:\n",
      "    https://scikit-learn.org/stable/modules/linear_model.html#logistic-regression\n",
      "  extra_warning_msg=_LOGISTIC_SOLVER_CONVERGENCE_MSG,\n"
     ]
    },
    {
     "name": "stdout",
     "output_type": "stream",
     "text": [
      "lgr, 3, Accuracy : 0.97283\n"
     ]
    },
    {
     "name": "stderr",
     "output_type": "stream",
     "text": [
      "/opt/conda/lib/python3.7/site-packages/sklearn/linear_model/_logistic.py:818: ConvergenceWarning: lbfgs failed to converge (status=1):\n",
      "STOP: TOTAL NO. of ITERATIONS REACHED LIMIT.\n",
      "\n",
      "Increase the number of iterations (max_iter) or scale the data as shown in:\n",
      "    https://scikit-learn.org/stable/modules/preprocessing.html\n",
      "Please also refer to the documentation for alternative solver options:\n",
      "    https://scikit-learn.org/stable/modules/linear_model.html#logistic-regression\n",
      "  extra_warning_msg=_LOGISTIC_SOLVER_CONVERGENCE_MSG,\n"
     ]
    },
    {
     "name": "stdout",
     "output_type": "stream",
     "text": [
      "lgr, 4, Accuracy : 0.98189\n"
     ]
    },
    {
     "name": "stderr",
     "output_type": "stream",
     "text": [
      "/opt/conda/lib/python3.7/site-packages/sklearn/linear_model/_logistic.py:818: ConvergenceWarning: lbfgs failed to converge (status=1):\n",
      "STOP: TOTAL NO. of ITERATIONS REACHED LIMIT.\n",
      "\n",
      "Increase the number of iterations (max_iter) or scale the data as shown in:\n",
      "    https://scikit-learn.org/stable/modules/preprocessing.html\n",
      "Please also refer to the documentation for alternative solver options:\n",
      "    https://scikit-learn.org/stable/modules/linear_model.html#logistic-regression\n",
      "  extra_warning_msg=_LOGISTIC_SOLVER_CONVERGENCE_MSG,\n"
     ]
    },
    {
     "name": "stdout",
     "output_type": "stream",
     "text": [
      "lgr, 5, Accuracy : 0.98060\n",
      "\n",
      "Best : swin_large_patch4_window12_384_in22k_lgr_4\n",
      "\n",
      "**************************************************\n",
      "\n",
      "knc, 1, Accuracy : 0.97542\n",
      "knc, 2, Accuracy : 0.96636\n",
      "knc, 3, Accuracy : 0.96378\n",
      "knc, 4, Accuracy : 0.97154\n",
      "knc, 5, Accuracy : 0.97283\n",
      "\n",
      "Best : swin_large_patch4_window12_384_in22k_knc_1\n",
      "\n",
      "**************************************************\n",
      "\n",
      "svc, 1, Accuracy : 0.97154\n",
      "svc, 2, Accuracy : 0.96636\n",
      "svc, 3, Accuracy : 0.97283\n",
      "svc, 4, Accuracy : 0.97671\n",
      "svc, 5, Accuracy : 0.97930\n",
      "\n",
      "Best : swin_large_patch4_window12_384_in22k_svc_5\n",
      "\n",
      "**************************************************\n",
      "\n",
      "dtc, 1, Accuracy : 0.80207\n",
      "dtc, 2, Accuracy : 0.83571\n",
      "dtc, 3, Accuracy : 0.82665\n",
      "dtc, 4, Accuracy : 0.83441\n",
      "dtc, 5, Accuracy : 0.80595\n",
      "\n",
      "Best : swin_large_patch4_window12_384_in22k_dtc_2\n",
      "\n",
      "**************************************************\n",
      "\n",
      "etc, 1, Accuracy : 0.65977\n",
      "etc, 2, Accuracy : 0.66753\n",
      "etc, 3, Accuracy : 0.66365\n",
      "etc, 4, Accuracy : 0.67400\n",
      "etc, 5, Accuracy : 0.67529\n",
      "\n",
      "Best : swin_large_patch4_window12_384_in22k_etc_5\n",
      "\n",
      "**************************************************\n",
      "\n",
      "rfc, 1, Accuracy : 0.96895\n",
      "rfc, 2, Accuracy : 0.95990\n",
      "rfc, 3, Accuracy : 0.96378\n",
      "rfc, 4, Accuracy : 0.97542\n",
      "rfc, 5, Accuracy : 0.97154\n",
      "\n",
      "Best : swin_large_patch4_window12_384_in22k_rfc_4\n",
      "\n",
      "**************************************************\n",
      "\n",
      "etcs, 1, Accuracy : 0.96766\n",
      "etcs, 2, Accuracy : 0.95602\n",
      "etcs, 3, Accuracy : 0.97025\n",
      "etcs, 4, Accuracy : 0.97413\n",
      "etcs, 5, Accuracy : 0.96895\n",
      "\n",
      "Best : swin_large_patch4_window12_384_in22k_etcs_4\n",
      "\n",
      "**************************************************\n",
      "\n",
      "gnb, 1, Accuracy : 0.54075\n",
      "gnb, 2, Accuracy : 0.66753\n",
      "gnb, 3, Accuracy : 0.61190\n",
      "gnb, 4, Accuracy : 0.49806\n",
      "gnb, 5, Accuracy : 0.52523\n",
      "\n",
      "Best : swin_large_patch4_window12_384_in22k_gnb_2\n",
      "\n",
      "**************************************************\n",
      "\n",
      "SWIN_BASE_PATCH4_WINDOW12_384_IN22K\n",
      "\n",
      "**************************************************\n",
      "\n"
     ]
    },
    {
     "name": "stderr",
     "output_type": "stream",
     "text": [
      "/opt/conda/lib/python3.7/site-packages/sklearn/linear_model/_logistic.py:818: ConvergenceWarning: lbfgs failed to converge (status=1):\n",
      "STOP: TOTAL NO. of ITERATIONS REACHED LIMIT.\n",
      "\n",
      "Increase the number of iterations (max_iter) or scale the data as shown in:\n",
      "    https://scikit-learn.org/stable/modules/preprocessing.html\n",
      "Please also refer to the documentation for alternative solver options:\n",
      "    https://scikit-learn.org/stable/modules/linear_model.html#logistic-regression\n",
      "  extra_warning_msg=_LOGISTIC_SOLVER_CONVERGENCE_MSG,\n"
     ]
    },
    {
     "name": "stdout",
     "output_type": "stream",
     "text": [
      "lgr, 1, Accuracy : 0.97413\n"
     ]
    },
    {
     "name": "stderr",
     "output_type": "stream",
     "text": [
      "/opt/conda/lib/python3.7/site-packages/sklearn/linear_model/_logistic.py:818: ConvergenceWarning: lbfgs failed to converge (status=1):\n",
      "STOP: TOTAL NO. of ITERATIONS REACHED LIMIT.\n",
      "\n",
      "Increase the number of iterations (max_iter) or scale the data as shown in:\n",
      "    https://scikit-learn.org/stable/modules/preprocessing.html\n",
      "Please also refer to the documentation for alternative solver options:\n",
      "    https://scikit-learn.org/stable/modules/linear_model.html#logistic-regression\n",
      "  extra_warning_msg=_LOGISTIC_SOLVER_CONVERGENCE_MSG,\n"
     ]
    },
    {
     "name": "stdout",
     "output_type": "stream",
     "text": [
      "lgr, 2, Accuracy : 0.96895\n"
     ]
    },
    {
     "name": "stderr",
     "output_type": "stream",
     "text": [
      "/opt/conda/lib/python3.7/site-packages/sklearn/linear_model/_logistic.py:818: ConvergenceWarning: lbfgs failed to converge (status=1):\n",
      "STOP: TOTAL NO. of ITERATIONS REACHED LIMIT.\n",
      "\n",
      "Increase the number of iterations (max_iter) or scale the data as shown in:\n",
      "    https://scikit-learn.org/stable/modules/preprocessing.html\n",
      "Please also refer to the documentation for alternative solver options:\n",
      "    https://scikit-learn.org/stable/modules/linear_model.html#logistic-regression\n",
      "  extra_warning_msg=_LOGISTIC_SOLVER_CONVERGENCE_MSG,\n"
     ]
    },
    {
     "name": "stdout",
     "output_type": "stream",
     "text": [
      "lgr, 3, Accuracy : 0.96248\n"
     ]
    },
    {
     "name": "stderr",
     "output_type": "stream",
     "text": [
      "/opt/conda/lib/python3.7/site-packages/sklearn/linear_model/_logistic.py:818: ConvergenceWarning: lbfgs failed to converge (status=1):\n",
      "STOP: TOTAL NO. of ITERATIONS REACHED LIMIT.\n",
      "\n",
      "Increase the number of iterations (max_iter) or scale the data as shown in:\n",
      "    https://scikit-learn.org/stable/modules/preprocessing.html\n",
      "Please also refer to the documentation for alternative solver options:\n",
      "    https://scikit-learn.org/stable/modules/linear_model.html#logistic-regression\n",
      "  extra_warning_msg=_LOGISTIC_SOLVER_CONVERGENCE_MSG,\n"
     ]
    },
    {
     "name": "stdout",
     "output_type": "stream",
     "text": [
      "lgr, 4, Accuracy : 0.97801\n"
     ]
    },
    {
     "name": "stderr",
     "output_type": "stream",
     "text": [
      "/opt/conda/lib/python3.7/site-packages/sklearn/linear_model/_logistic.py:818: ConvergenceWarning: lbfgs failed to converge (status=1):\n",
      "STOP: TOTAL NO. of ITERATIONS REACHED LIMIT.\n",
      "\n",
      "Increase the number of iterations (max_iter) or scale the data as shown in:\n",
      "    https://scikit-learn.org/stable/modules/preprocessing.html\n",
      "Please also refer to the documentation for alternative solver options:\n",
      "    https://scikit-learn.org/stable/modules/linear_model.html#logistic-regression\n",
      "  extra_warning_msg=_LOGISTIC_SOLVER_CONVERGENCE_MSG,\n"
     ]
    },
    {
     "name": "stdout",
     "output_type": "stream",
     "text": [
      "lgr, 5, Accuracy : 0.96895\n",
      "\n",
      "Best : swin_base_patch4_window12_384_in22k_lgr_4\n",
      "\n",
      "**************************************************\n",
      "\n",
      "knc, 1, Accuracy : 0.95343\n",
      "knc, 2, Accuracy : 0.94955\n",
      "knc, 3, Accuracy : 0.94955\n",
      "knc, 4, Accuracy : 0.96248\n",
      "knc, 5, Accuracy : 0.96895\n",
      "\n",
      "Best : swin_base_patch4_window12_384_in22k_knc_5\n",
      "\n",
      "**************************************************\n",
      "\n",
      "svc, 1, Accuracy : 0.94955\n",
      "svc, 2, Accuracy : 0.94179\n",
      "svc, 3, Accuracy : 0.94567\n",
      "svc, 4, Accuracy : 0.95990\n",
      "svc, 5, Accuracy : 0.96119\n",
      "\n",
      "Best : swin_base_patch4_window12_384_in22k_svc_5\n",
      "\n",
      "**************************************************\n",
      "\n",
      "dtc, 1, Accuracy : 0.80595\n",
      "dtc, 2, Accuracy : 0.82536\n",
      "dtc, 3, Accuracy : 0.80983\n",
      "dtc, 4, Accuracy : 0.83571\n",
      "dtc, 5, Accuracy : 0.84476\n",
      "\n",
      "Best : swin_base_patch4_window12_384_in22k_dtc_5\n",
      "\n",
      "**************************************************\n",
      "\n",
      "etc, 1, Accuracy : 0.70246\n",
      "etc, 2, Accuracy : 0.71151\n",
      "etc, 3, Accuracy : 0.70893\n",
      "etc, 4, Accuracy : 0.76067\n",
      "etc, 5, Accuracy : 0.72186\n",
      "\n",
      "Best : swin_base_patch4_window12_384_in22k_etc_4\n",
      "\n",
      "**************************************************\n",
      "\n",
      "rfc, 1, Accuracy : 0.94696\n",
      "rfc, 2, Accuracy : 0.95602\n",
      "rfc, 3, Accuracy : 0.94437\n",
      "rfc, 4, Accuracy : 0.95472\n",
      "rfc, 5, Accuracy : 0.95731\n",
      "\n",
      "Best : swin_base_patch4_window12_384_in22k_rfc_5\n",
      "\n",
      "**************************************************\n",
      "\n",
      "etcs, 1, Accuracy : 0.95084\n",
      "etcs, 2, Accuracy : 0.95084\n",
      "etcs, 3, Accuracy : 0.94696\n",
      "etcs, 4, Accuracy : 0.95343\n",
      "etcs, 5, Accuracy : 0.96119\n",
      "\n",
      "Best : swin_base_patch4_window12_384_in22k_etcs_5\n",
      "\n",
      "**************************************************\n",
      "\n",
      "gnb, 1, Accuracy : 0.69082\n",
      "gnb, 2, Accuracy : 0.67917\n",
      "gnb, 3, Accuracy : 0.76326\n",
      "gnb, 4, Accuracy : 0.56662\n",
      "gnb, 5, Accuracy : 0.60414\n",
      "\n",
      "Best : swin_base_patch4_window12_384_in22k_gnb_3\n",
      "\n",
      "**************************************************\n",
      "\n",
      "Overall Best Model : swin_large_patch4_window12_384_in22k_lgr_4\n",
      "\n",
      "**************************************************\n",
      "\n"
     ]
    }
   ],
   "source": [
    "names: list = [\"lgr\", \"knc\", \"svc\", \"dtc\", \"etc\", \"rfc\", \"etcs\", \"gnb\"]\n",
    "\n",
    "model_names: list = [\n",
    "    \"swin_large_patch4_window12_384_in22k\",\n",
    "    \"swin_base_patch4_window12_384_in22k\",\n",
    "]\n",
    "\n",
    "overall_best_acc: float = 0.0\n",
    "for model_name in model_names:\n",
    "    X = np.load(os.path.join(cfg.features_path, f\"tr_{model_name}.npy\"))\n",
    "    if cfg.show_info: \n",
    "        breaker()\n",
    "        print(f\"{model_name.upper()}\")\n",
    "    for name in names:\n",
    "        fold: int = 1\n",
    "        best_name: str = None\n",
    "        best_acc: float = 0.0\n",
    "        if cfg.show_info: breaker()\n",
    "        for tr_idx, va_idx in StratifiedKFold(n_splits=cfg.n_splits, random_state=cfg.seed, shuffle=True).split(X, y):\n",
    "            X_train, X_valid, y_train, y_valid = X[tr_idx], X[va_idx], y[tr_idx], y[va_idx]\n",
    "            my_pipeline = Model(name, cfg.seed)\n",
    "            my_pipeline.model.fit(X_train, y_train)\n",
    "\n",
    "            y_pred = my_pipeline.model.predict(X_valid)\n",
    "            if cfg.show_info:\n",
    "                acc = accuracy_score(y_pred, y_valid)\n",
    "                print(f\"{my_pipeline.model_name}, {fold}, Accuracy : {acc:.5f}\")\n",
    "            else:\n",
    "                acc = accuracy_score(y_pred, y_valid)\n",
    "\n",
    "            if acc > overall_best_acc:\n",
    "                overall_best_acc = acc\n",
    "                overall_best_name = f\"{model_name}_{name}_{fold}\"\n",
    "\n",
    "            if acc > best_acc:\n",
    "                best_acc = acc\n",
    "                best_name = f\"{model_name}_{name}_{fold}\"\n",
    "\n",
    "            with open(os.path.join(cfg.model_save_path, f\"{model_name}_{name}_{fold}.pkl\"), \"wb\") as fp: pickle.dump(my_pipeline.model, fp)\n",
    "            fold += 1\n",
    "\n",
    "        print(f\"\\nBest : {best_name}\")\n",
    "\n",
    "\n",
    "if cfg.show_info: \n",
    "    breaker()\n",
    "    print(f\"Overall Best Model : {overall_best_name}\")\n",
    "\n",
    "breaker()"
   ]
  },
  {
   "cell_type": "code",
   "execution_count": 7,
   "id": "5a733d1c",
   "metadata": {
    "execution": {
     "iopub.execute_input": "2022-11-20T14:20:34.425171Z",
     "iopub.status.busy": "2022-11-20T14:20:34.424335Z",
     "iopub.status.idle": "2022-11-20T14:20:34.533756Z",
     "shell.execute_reply": "2022-11-20T14:20:34.532897Z"
    },
    "papermill": {
     "duration": 0.118595,
     "end_time": "2022-11-20T14:20:34.535973",
     "exception": false,
     "start_time": "2022-11-20T14:20:34.417378",
     "status": "completed"
    },
    "tags": []
   },
   "outputs": [
    {
     "name": "stderr",
     "output_type": "stream",
     "text": [
      "/opt/conda/lib/python3.7/site-packages/ipykernel_launcher.py:6: UserWarning: Pandas doesn't allow columns to be created via a new attribute name - see https://pandas.pydata.org/pandas-docs/stable/indexing.html#attribute-access\n",
      "  \n"
     ]
    }
   ],
   "source": [
    "ts_features = np.load(os.path.join(cfg.features_path, f\"ts_{model_names[0]}.npy\"))\n",
    "model = pickle.load(open(os.path.join(cfg.model_save_path, f\"{overall_best_name}.pkl\"), \"rb\"))\n",
    "y_pred = model.predict(ts_features)\n",
    "\n",
    "ss_df = pd.read_csv(\"../input/5-flowers-image-classification/Sample_submission.csv\")\n",
    "ss_df.Category = y_pred.astype(\"uint8\")\n",
    "ss_df.to_csv(\"submission.csv\", index=False)"
   ]
  }
 ],
 "metadata": {
  "kernelspec": {
   "display_name": "Python 3",
   "language": "python",
   "name": "python3"
  },
  "language_info": {
   "codemirror_mode": {
    "name": "ipython",
    "version": 3
   },
   "file_extension": ".py",
   "mimetype": "text/x-python",
   "name": "python",
   "nbconvert_exporter": "python",
   "pygments_lexer": "ipython3",
   "version": "3.7.12"
  },
  "papermill": {
   "default_parameters": {},
   "duration": 154.626422,
   "end_time": "2022-11-20T14:20:35.266950",
   "environment_variables": {},
   "exception": null,
   "input_path": "__notebook__.ipynb",
   "output_path": "__notebook__.ipynb",
   "parameters": {},
   "start_time": "2022-11-20T14:18:00.640528",
   "version": "2.3.4"
  }
 },
 "nbformat": 4,
 "nbformat_minor": 5
}
