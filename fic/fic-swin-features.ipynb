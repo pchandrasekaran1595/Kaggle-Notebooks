{
 "cells": [
  {
   "cell_type": "markdown",
   "id": "a9ee9c8b",
   "metadata": {
    "_cell_guid": "b1076dfc-b9ad-4769-8c92-a6c4dae69d19",
    "_uuid": "8f2839f25d086af736a60e9eeb907d3b93b6e0e5",
    "papermill": {
     "duration": 0.003923,
     "end_time": "2022-11-20T13:51:29.574187",
     "exception": false,
     "start_time": "2022-11-20T13:51:29.570264",
     "status": "completed"
    },
    "tags": []
   },
   "source": [
    "### **Setup**"
   ]
  },
  {
   "cell_type": "code",
   "execution_count": 1,
   "id": "9ba5c0e1",
   "metadata": {
    "execution": {
     "iopub.execute_input": "2022-11-20T13:51:29.582836Z",
     "iopub.status.busy": "2022-11-20T13:51:29.582034Z",
     "iopub.status.idle": "2022-11-20T13:51:41.393663Z",
     "shell.execute_reply": "2022-11-20T13:51:41.392503Z"
    },
    "papermill": {
     "duration": 11.818837,
     "end_time": "2022-11-20T13:51:41.396444",
     "exception": false,
     "start_time": "2022-11-20T13:51:29.577607",
     "status": "completed"
    },
    "tags": []
   },
   "outputs": [
    {
     "name": "stdout",
     "output_type": "stream",
     "text": [
      "\u001b[33mWARNING: Running pip as the 'root' user can result in broken permissions and conflicting behaviour with the system package manager. It is recommended to use a virtual environment instead: https://pip.pypa.io/warnings/venv\u001b[0m\u001b[33m\r\n",
      "\u001b[0m"
     ]
    }
   ],
   "source": [
    "!pip install timm -q"
   ]
  },
  {
   "cell_type": "markdown",
   "id": "b129bfd1",
   "metadata": {
    "papermill": {
     "duration": 0.002783,
     "end_time": "2022-11-20T13:51:41.402489",
     "exception": false,
     "start_time": "2022-11-20T13:51:41.399706",
     "status": "completed"
    },
    "tags": []
   },
   "source": [
    "### **Library Imports**"
   ]
  },
  {
   "cell_type": "code",
   "execution_count": 2,
   "id": "488d16f5",
   "metadata": {
    "execution": {
     "iopub.execute_input": "2022-11-20T13:51:41.409875Z",
     "iopub.status.busy": "2022-11-20T13:51:41.409563Z",
     "iopub.status.idle": "2022-11-20T13:51:44.549739Z",
     "shell.execute_reply": "2022-11-20T13:51:44.548452Z"
    },
    "papermill": {
     "duration": 3.147203,
     "end_time": "2022-11-20T13:51:44.552626",
     "exception": false,
     "start_time": "2022-11-20T13:51:41.405423",
     "status": "completed"
    },
    "tags": []
   },
   "outputs": [],
   "source": [
    "import os\n",
    "import re\n",
    "import cv2\n",
    "import timm\n",
    "import torch\n",
    "import numpy as np\n",
    "import pandas as pd\n",
    "\n",
    "from PIL import Image\n",
    "from time import time, sleep\n",
    "\n",
    "from torch import nn\n",
    "from torch.utils.data import Dataset\n",
    "from torch.utils.data import DataLoader as DL\n",
    "from torchvision import transforms"
   ]
  },
  {
   "cell_type": "markdown",
   "id": "16cc4f8c",
   "metadata": {
    "papermill": {
     "duration": 0.00316,
     "end_time": "2022-11-20T13:51:44.559060",
     "exception": false,
     "start_time": "2022-11-20T13:51:44.555900",
     "status": "completed"
    },
    "tags": []
   },
   "source": [
    "### **Models**"
   ]
  },
  {
   "cell_type": "code",
   "execution_count": 3,
   "id": "268977f9",
   "metadata": {
    "execution": {
     "iopub.execute_input": "2022-11-20T13:51:44.567027Z",
     "iopub.status.busy": "2022-11-20T13:51:44.566401Z",
     "iopub.status.idle": "2022-11-20T13:51:44.574405Z",
     "shell.execute_reply": "2022-11-20T13:51:44.573291Z"
    },
    "papermill": {
     "duration": 0.015064,
     "end_time": "2022-11-20T13:51:44.577155",
     "exception": false,
     "start_time": "2022-11-20T13:51:44.562091",
     "status": "completed"
    },
    "tags": []
   },
   "outputs": [],
   "source": [
    "class Model(nn.Module):\n",
    "    def __init__(self, model_name: str):\n",
    "        super(Model, self).__init__()\n",
    "        \n",
    "        if model_name == \"swin_base_patch4_window12_384_in22k\":\n",
    "            self.model = timm.create_model(model_name, pretrained=True)\n",
    "            self.freeze()\n",
    "            self.model = nn.Sequential(*[*self.model.children()][:-1])\n",
    "        \n",
    "        elif model_name == \"swin_large_patch4_window12_384_in22k\":\n",
    "            self.model = timm.create_model(model_name, pretrained=True)\n",
    "            self.freeze()\n",
    "            self.model = nn.Sequential(*[*self.model.children()][:-1])\n",
    "        \n",
    "    def freeze(self):\n",
    "        for p in self.parameters(): p.requires_grad = False\n",
    "    \n",
    "    def forward(self, x):\n",
    "        return self.model(x)"
   ]
  },
  {
   "cell_type": "markdown",
   "id": "53c09c96",
   "metadata": {
    "papermill": {
     "duration": 0.003598,
     "end_time": "2022-11-20T13:51:44.584366",
     "exception": false,
     "start_time": "2022-11-20T13:51:44.580768",
     "status": "completed"
    },
    "tags": []
   },
   "source": [
    "### **Utils**"
   ]
  },
  {
   "cell_type": "code",
   "execution_count": 4,
   "id": "aa56b8f9",
   "metadata": {
    "execution": {
     "iopub.execute_input": "2022-11-20T13:51:44.593318Z",
     "iopub.status.busy": "2022-11-20T13:51:44.593022Z",
     "iopub.status.idle": "2022-11-20T13:51:44.602410Z",
     "shell.execute_reply": "2022-11-20T13:51:44.601279Z"
    },
    "papermill": {
     "duration": 0.016686,
     "end_time": "2022-11-20T13:51:44.604734",
     "exception": false,
     "start_time": "2022-11-20T13:51:44.588048",
     "status": "completed"
    },
    "tags": []
   },
   "outputs": [],
   "source": [
    "def breaker(num: int=50, char: str=\"*\") -> None:\n",
    "    print(\"\\n\" + num*char + \"\\n\")\n",
    "\n",
    "    \n",
    "def get_image(path: str, size: int=224) -> np.ndarray:\n",
    "    image = cv2.imread(path, cv2.IMREAD_COLOR)\n",
    "    image = cv2.cvtColor(src=image, code=cv2.COLOR_BGR2RGB)\n",
    "    return cv2.resize(src=image, dsize=(size, size), interpolation=cv2.INTER_AREA)\n",
    "\n",
    "\n",
    "def get_features(model=None, dataloader=None, feature_length: int=None) -> np.ndarray: \n",
    "    model.eval()\n",
    "    \n",
    "    y_pred = torch.zeros(1, feature_length).to(torch.device(\"cuda\" if torch.cuda.is_available() else \"cpu\"))\n",
    "    \n",
    "    for X in dataloader:\n",
    "        X = X.to(torch.device(\"cuda\" if torch.cuda.is_available() else \"cpu\"))\n",
    "        with torch.no_grad():\n",
    "            output = model(X)[:, -1, :]\n",
    "        y_pred = torch.cat((y_pred, output), dim=0)\n",
    "    \n",
    "    return y_pred[1:].detach().cpu().numpy()"
   ]
  },
  {
   "cell_type": "markdown",
   "id": "150f8579",
   "metadata": {
    "papermill": {
     "duration": 0.003201,
     "end_time": "2022-11-20T13:51:44.611492",
     "exception": false,
     "start_time": "2022-11-20T13:51:44.608291",
     "status": "completed"
    },
    "tags": []
   },
   "source": [
    "### **Dataset Template**"
   ]
  },
  {
   "cell_type": "code",
   "execution_count": 5,
   "id": "47452e24",
   "metadata": {
    "execution": {
     "iopub.execute_input": "2022-11-20T13:51:44.619694Z",
     "iopub.status.busy": "2022-11-20T13:51:44.619369Z",
     "iopub.status.idle": "2022-11-20T13:51:44.626220Z",
     "shell.execute_reply": "2022-11-20T13:51:44.625181Z"
    },
    "papermill": {
     "duration": 0.013679,
     "end_time": "2022-11-20T13:51:44.628630",
     "exception": false,
     "start_time": "2022-11-20T13:51:44.614951",
     "status": "completed"
    },
    "tags": []
   },
   "outputs": [],
   "source": [
    "class DS(Dataset):\n",
    "    def __init__(\n",
    "        self, \n",
    "        filepaths: np.ndarray, \n",
    "        size: int,\n",
    "        transform=None\n",
    "    ):\n",
    "        \n",
    "        self.filepaths = filepaths\n",
    "        self.size = size\n",
    "        self.transform = transform\n",
    "    \n",
    "    def __len__(self):\n",
    "        if isinstance(self.filepaths, np.ndarray):\n",
    "            return self.filepaths.shape[0]\n",
    "        else:\n",
    "            return len(self.filepaths)\n",
    "    \n",
    "    def __getitem__(self, idx):\n",
    "        image = get_image(self.filepaths[idx], self.size)\n",
    "        return self.transform(image)"
   ]
  },
  {
   "cell_type": "code",
   "execution_count": 6,
   "id": "3d642913",
   "metadata": {
    "execution": {
     "iopub.execute_input": "2022-11-20T13:51:44.636855Z",
     "iopub.status.busy": "2022-11-20T13:51:44.636562Z",
     "iopub.status.idle": "2022-11-20T13:51:44.641638Z",
     "shell.execute_reply": "2022-11-20T13:51:44.640453Z"
    },
    "papermill": {
     "duration": 0.012287,
     "end_time": "2022-11-20T13:51:44.644439",
     "exception": false,
     "start_time": "2022-11-20T13:51:44.632152",
     "status": "completed"
    },
    "tags": []
   },
   "outputs": [],
   "source": [
    "model_names: list = [\n",
    "    \"swin_base_patch4_window12_384_in22k\",\n",
    "    \"swin_large_patch4_window12_384_in22k\"\n",
    "]\n",
    "    \n",
    "feature_lengths: list = [\n",
    "    1024,\n",
    "    1536\n",
    "]"
   ]
  },
  {
   "cell_type": "markdown",
   "id": "a4facc67",
   "metadata": {
    "papermill": {
     "duration": 0.003317,
     "end_time": "2022-11-20T13:51:44.651327",
     "exception": false,
     "start_time": "2022-11-20T13:51:44.648010",
     "status": "completed"
    },
    "tags": []
   },
   "source": [
    "### **Train Features**"
   ]
  },
  {
   "cell_type": "code",
   "execution_count": 7,
   "id": "ec7cee9d",
   "metadata": {
    "execution": {
     "iopub.execute_input": "2022-11-20T13:51:44.659822Z",
     "iopub.status.busy": "2022-11-20T13:51:44.659539Z",
     "iopub.status.idle": "2022-11-20T13:57:14.992084Z",
     "shell.execute_reply": "2022-11-20T13:57:14.990962Z"
    },
    "papermill": {
     "duration": 330.339923,
     "end_time": "2022-11-20T13:57:14.994808",
     "exception": false,
     "start_time": "2022-11-20T13:51:44.654885",
     "status": "completed"
    },
    "tags": []
   },
   "outputs": [
    {
     "name": "stderr",
     "output_type": "stream",
     "text": [
      "/opt/conda/lib/python3.7/site-packages/torch/functional.py:568: UserWarning: torch.meshgrid: in an upcoming release, it will be required to pass the indexing argument. (Triggered internally at  /usr/local/src/pytorch/aten/src/ATen/native/TensorShape.cpp:2227.)\n",
      "  return _VF.meshgrid(tensors, **kwargs)  # type: ignore[attr-defined]\n",
      "Downloading: \"https://github.com/SwinTransformer/storage/releases/download/v1.0.0/swin_base_patch4_window12_384_22k.pth\" to /root/.cache/torch/hub/checkpoints/swin_base_patch4_window12_384_22k.pth\n",
      "Downloading: \"https://github.com/SwinTransformer/storage/releases/download/v1.0.0/swin_large_patch4_window12_384_22k.pth\" to /root/.cache/torch/hub/checkpoints/swin_large_patch4_window12_384_22k.pth\n"
     ]
    }
   ],
   "source": [
    "df = pd.read_csv(\"../input/fic-dataframe/train.csv\")\n",
    "\n",
    "data_setup = DS(\n",
    "    filepaths=df.filepaths.copy().values, \n",
    "    size=384,\n",
    "    transform=transforms.Compose([\n",
    "        transforms.ToTensor(),\n",
    "        transforms.Normalize([0.45807, 0.41868, 0.29889], [0.24757, 0.21952, 0.22436]),\n",
    "    ])\n",
    ")\n",
    "    \n",
    "for i in range(len(model_names)):\n",
    "    model = Model(model_names[i]).to(torch.device(\"cuda\" if torch.cuda.is_available() else \"cpu\"))\n",
    "    data = DL(data_setup, batch_size=16, shuffle=False)\n",
    "    features = get_features(model=model, dataloader=data, feature_length=feature_lengths[i])\n",
    "    np.save(f\"tr_{model_names[i]}.npy\", features)\n",
    "    \n",
    "    del model, data\n",
    "    torch.cuda.empty_cache()\n",
    "    \n",
    "    sleep(30)"
   ]
  },
  {
   "cell_type": "markdown",
   "id": "8b987ce7",
   "metadata": {
    "papermill": {
     "duration": 0.003452,
     "end_time": "2022-11-20T13:57:15.002159",
     "exception": false,
     "start_time": "2022-11-20T13:57:14.998707",
     "status": "completed"
    },
    "tags": []
   },
   "source": [
    "### **Test Featues**"
   ]
  },
  {
   "cell_type": "code",
   "execution_count": 8,
   "id": "6ae8224c",
   "metadata": {
    "execution": {
     "iopub.execute_input": "2022-11-20T13:57:15.010807Z",
     "iopub.status.busy": "2022-11-20T13:57:15.010473Z",
     "iopub.status.idle": "2022-11-20T13:58:47.721702Z",
     "shell.execute_reply": "2022-11-20T13:58:47.720681Z"
    },
    "papermill": {
     "duration": 92.718875,
     "end_time": "2022-11-20T13:58:47.724606",
     "exception": false,
     "start_time": "2022-11-20T13:57:15.005731",
     "status": "completed"
    },
    "tags": []
   },
   "outputs": [],
   "source": [
    "ts_df = pd.read_csv(\"../input/5-flowers-image-classification/Sample_submission.csv\")\n",
    "ts_filenames = list(ts_df.id.copy().values)\n",
    "ts_filenames = [str(name) + \".jpg\" for name in ts_filenames]\n",
    "\n",
    "ts_filepaths = [os.path.join(\"../input/5-flowers-image-classification/test\", name) for name in ts_filenames]\n",
    "\n",
    "data_setup = DS(\n",
    "    filepaths=ts_filepaths,\n",
    "    size=384,\n",
    "    transform=transforms.Compose([\n",
    "        transforms.ToTensor(),\n",
    "        transforms.Normalize([0.45807, 0.41868, 0.29889], [0.24757, 0.21952, 0.22436]),\n",
    "    ])\n",
    ")\n",
    "    \n",
    "for i in range(len(model_names)):\n",
    "    model = Model(model_names[i]).to(torch.device(\"cuda\" if torch.cuda.is_available() else \"cpu\"))\n",
    "    data = DL(data_setup, batch_size=16, shuffle=False)\n",
    "    features = get_features(model=model, dataloader=data, feature_length=feature_lengths[i])\n",
    "    np.save(f\"ts_{model_names[i]}.npy\", features)\n",
    "    \n",
    "    del model, data\n",
    "    torch.cuda.empty_cache()\n",
    "    \n",
    "    sleep(30)"
   ]
  }
 ],
 "metadata": {
  "kernelspec": {
   "display_name": "Python 3",
   "language": "python",
   "name": "python3"
  },
  "language_info": {
   "codemirror_mode": {
    "name": "ipython",
    "version": 3
   },
   "file_extension": ".py",
   "mimetype": "text/x-python",
   "name": "python",
   "nbconvert_exporter": "python",
   "pygments_lexer": "ipython3",
   "version": "3.7.12"
  },
  "papermill": {
   "default_parameters": {},
   "duration": 447.355349,
   "end_time": "2022-11-20T13:58:49.353011",
   "environment_variables": {},
   "exception": null,
   "input_path": "__notebook__.ipynb",
   "output_path": "__notebook__.ipynb",
   "parameters": {},
   "start_time": "2022-11-20T13:51:21.997662",
   "version": "2.3.4"
  }
 },
 "nbformat": 4,
 "nbformat_minor": 5
}
