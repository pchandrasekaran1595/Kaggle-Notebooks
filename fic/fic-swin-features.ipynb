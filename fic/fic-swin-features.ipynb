{
 "cells": [
  {
   "cell_type": "markdown",
   "id": "14f7f30e",
   "metadata": {
    "_cell_guid": "b1076dfc-b9ad-4769-8c92-a6c4dae69d19",
    "_uuid": "8f2839f25d086af736a60e9eeb907d3b93b6e0e5",
    "papermill": {
     "duration": 0.005461,
     "end_time": "2022-11-20T10:36:08.762842",
     "exception": false,
     "start_time": "2022-11-20T10:36:08.757381",
     "status": "completed"
    },
    "tags": []
   },
   "source": [
    "### **Setup**"
   ]
  },
  {
   "cell_type": "code",
   "execution_count": 1,
   "id": "abeb9b3f",
   "metadata": {
    "execution": {
     "iopub.execute_input": "2022-11-20T10:36:08.774086Z",
     "iopub.status.busy": "2022-11-20T10:36:08.773372Z",
     "iopub.status.idle": "2022-11-20T10:36:26.043631Z",
     "shell.execute_reply": "2022-11-20T10:36:26.042054Z"
    },
    "papermill": {
     "duration": 17.279629,
     "end_time": "2022-11-20T10:36:26.047221",
     "exception": false,
     "start_time": "2022-11-20T10:36:08.767592",
     "status": "completed"
    },
    "tags": []
   },
   "outputs": [
    {
     "name": "stdout",
     "output_type": "stream",
     "text": [
      "\u001b[33mWARNING: Running pip as the 'root' user can result in broken permissions and conflicting behaviour with the system package manager. It is recommended to use a virtual environment instead: https://pip.pypa.io/warnings/venv\u001b[0m\u001b[33m\r\n",
      "\u001b[0m"
     ]
    }
   ],
   "source": [
    "!pip install timm -q"
   ]
  },
  {
   "cell_type": "markdown",
   "id": "08b9f340",
   "metadata": {
    "papermill": {
     "duration": 0.004155,
     "end_time": "2022-11-20T10:36:26.056724",
     "exception": false,
     "start_time": "2022-11-20T10:36:26.052569",
     "status": "completed"
    },
    "tags": []
   },
   "source": [
    "### **Library Imports**"
   ]
  },
  {
   "cell_type": "code",
   "execution_count": 2,
   "id": "b88f8920",
   "metadata": {
    "execution": {
     "iopub.execute_input": "2022-11-20T10:36:26.070614Z",
     "iopub.status.busy": "2022-11-20T10:36:26.070064Z",
     "iopub.status.idle": "2022-11-20T10:36:30.132160Z",
     "shell.execute_reply": "2022-11-20T10:36:30.130831Z"
    },
    "papermill": {
     "duration": 4.073325,
     "end_time": "2022-11-20T10:36:30.135083",
     "exception": false,
     "start_time": "2022-11-20T10:36:26.061758",
     "status": "completed"
    },
    "tags": []
   },
   "outputs": [],
   "source": [
    "import os\n",
    "import re\n",
    "import cv2\n",
    "import timm\n",
    "import torch\n",
    "import numpy as np\n",
    "import pandas as pd\n",
    "\n",
    "from PIL import Image\n",
    "from time import time, sleep\n",
    "\n",
    "from torch import nn\n",
    "from torch.utils.data import Dataset\n",
    "from torch.utils.data import DataLoader as DL\n",
    "from torchvision import transforms"
   ]
  },
  {
   "cell_type": "markdown",
   "id": "dc0de5ad",
   "metadata": {
    "papermill": {
     "duration": 0.004116,
     "end_time": "2022-11-20T10:36:30.144101",
     "exception": false,
     "start_time": "2022-11-20T10:36:30.139985",
     "status": "completed"
    },
    "tags": []
   },
   "source": [
    "### **Models**"
   ]
  },
  {
   "cell_type": "code",
   "execution_count": 3,
   "id": "bf4cefb9",
   "metadata": {
    "execution": {
     "iopub.execute_input": "2022-11-20T10:36:30.155305Z",
     "iopub.status.busy": "2022-11-20T10:36:30.154515Z",
     "iopub.status.idle": "2022-11-20T10:36:30.166083Z",
     "shell.execute_reply": "2022-11-20T10:36:30.164808Z"
    },
    "papermill": {
     "duration": 0.020378,
     "end_time": "2022-11-20T10:36:30.169107",
     "exception": false,
     "start_time": "2022-11-20T10:36:30.148729",
     "status": "completed"
    },
    "tags": []
   },
   "outputs": [],
   "source": [
    "class Model(nn.Module):\n",
    "    def __init__(self, model_name: str):\n",
    "        super(Model, self).__init__()\n",
    "        \n",
    "        if model_name == \"swin_base_patch4_window12_384_in22k\":\n",
    "            self.model = timm.create_model(model_name, pretrained=True)\n",
    "            self.freeze()\n",
    "            self.model = nn.Sequential(*[*self.model.children()][:-1])\n",
    "        \n",
    "        elif model_name == \"swin_large_patch4_window12_384_in22k\":\n",
    "            self.model = timm.create_model(model_name, pretrained=True)\n",
    "            self.freeze()\n",
    "            self.model = nn.Sequential(*[*self.model.children()][:-1])\n",
    "        \n",
    "    def freeze(self):\n",
    "        for p in self.parameters(): p.requires_grad = False\n",
    "    \n",
    "    def forward(self, x):\n",
    "        return self.model(x)"
   ]
  },
  {
   "cell_type": "markdown",
   "id": "54fce77e",
   "metadata": {
    "papermill": {
     "duration": 0.004471,
     "end_time": "2022-11-20T10:36:30.178218",
     "exception": false,
     "start_time": "2022-11-20T10:36:30.173747",
     "status": "completed"
    },
    "tags": []
   },
   "source": [
    "### **Utils**"
   ]
  },
  {
   "cell_type": "code",
   "execution_count": 4,
   "id": "ff5eb47f",
   "metadata": {
    "execution": {
     "iopub.execute_input": "2022-11-20T10:36:30.188907Z",
     "iopub.status.busy": "2022-11-20T10:36:30.188502Z",
     "iopub.status.idle": "2022-11-20T10:36:30.200870Z",
     "shell.execute_reply": "2022-11-20T10:36:30.199496Z"
    },
    "papermill": {
     "duration": 0.022133,
     "end_time": "2022-11-20T10:36:30.204794",
     "exception": false,
     "start_time": "2022-11-20T10:36:30.182661",
     "status": "completed"
    },
    "tags": []
   },
   "outputs": [],
   "source": [
    "def breaker(num: int=50, char: str=\"*\") -> None:\n",
    "    print(\"\\n\" + num*char + \"\\n\")\n",
    "\n",
    "    \n",
    "def get_image(path: str, size: int=224) -> np.ndarray:\n",
    "    image = cv2.imread(path, cv2.IMREAD_COLOR)\n",
    "    image = cv2.cvtColor(src=image, code=cv2.COLOR_BGR2RGB)\n",
    "    return cv2.resize(src=image, dsize=(size, size), interpolation=cv2.INTER_AREA)\n",
    "\n",
    "\n",
    "def get_features(model=None, dataloader=None, feature_length: int=None) -> np.ndarray: \n",
    "    model.eval()\n",
    "    \n",
    "    y_pred = torch.zeros(1, feature_length).to(torch.device(\"cuda\" if torch.cuda.is_available() else \"cpu\"))\n",
    "    \n",
    "    for X in dataloader:\n",
    "        X = X.to(torch.device(\"cuda\" if torch.cuda.is_available() else \"cpu\"))\n",
    "        with torch.no_grad():\n",
    "            output = model(X)[:, -1, :]\n",
    "        y_pred = torch.cat((y_pred, output), dim=0)\n",
    "    \n",
    "    return y_pred[1:].detach().cpu().numpy()"
   ]
  },
  {
   "cell_type": "markdown",
   "id": "aca29ca5",
   "metadata": {
    "papermill": {
     "duration": 0.003977,
     "end_time": "2022-11-20T10:36:30.213262",
     "exception": false,
     "start_time": "2022-11-20T10:36:30.209285",
     "status": "completed"
    },
    "tags": []
   },
   "source": [
    "### **Dataset Template**"
   ]
  },
  {
   "cell_type": "code",
   "execution_count": 5,
   "id": "a1073699",
   "metadata": {
    "execution": {
     "iopub.execute_input": "2022-11-20T10:36:30.224183Z",
     "iopub.status.busy": "2022-11-20T10:36:30.223693Z",
     "iopub.status.idle": "2022-11-20T10:36:30.232761Z",
     "shell.execute_reply": "2022-11-20T10:36:30.231583Z"
    },
    "papermill": {
     "duration": 0.017934,
     "end_time": "2022-11-20T10:36:30.235442",
     "exception": false,
     "start_time": "2022-11-20T10:36:30.217508",
     "status": "completed"
    },
    "tags": []
   },
   "outputs": [],
   "source": [
    "class DS(Dataset):\n",
    "    def __init__(\n",
    "        self, \n",
    "        filepaths: np.ndarray, \n",
    "        size: int,\n",
    "        transform=None\n",
    "    ):\n",
    "        \n",
    "        self.filepaths = filepaths\n",
    "        self.size = size\n",
    "        self.transform = transform\n",
    "    \n",
    "    def __len__(self):\n",
    "        if isinstance(self.filepaths, np.ndarray):\n",
    "            return self.filepaths.shape[0]\n",
    "        else:\n",
    "            return len(self.filepaths)\n",
    "    \n",
    "    def __getitem__(self, idx):\n",
    "        image = get_image(self.filepaths[idx], self.size)\n",
    "        return self.transform(image)"
   ]
  },
  {
   "cell_type": "code",
   "execution_count": 6,
   "id": "e4c118b6",
   "metadata": {
    "execution": {
     "iopub.execute_input": "2022-11-20T10:36:30.246268Z",
     "iopub.status.busy": "2022-11-20T10:36:30.245813Z",
     "iopub.status.idle": "2022-11-20T10:36:30.251939Z",
     "shell.execute_reply": "2022-11-20T10:36:30.250658Z"
    },
    "papermill": {
     "duration": 0.014149,
     "end_time": "2022-11-20T10:36:30.254198",
     "exception": false,
     "start_time": "2022-11-20T10:36:30.240049",
     "status": "completed"
    },
    "tags": []
   },
   "outputs": [],
   "source": [
    "model_names: list = [\n",
    "    \"swin_base_patch4_window12_384_in22k\",\n",
    "    \"swin_large_patch4_window12_384_in22k\"\n",
    "]\n",
    "    \n",
    "feature_lengths: list = [\n",
    "    1024,\n",
    "    1536\n",
    "]"
   ]
  },
  {
   "cell_type": "markdown",
   "id": "6b6725ec",
   "metadata": {
    "papermill": {
     "duration": 0.004498,
     "end_time": "2022-11-20T10:36:30.263094",
     "exception": false,
     "start_time": "2022-11-20T10:36:30.258596",
     "status": "completed"
    },
    "tags": []
   },
   "source": [
    "### **Train Features**"
   ]
  },
  {
   "cell_type": "code",
   "execution_count": 7,
   "id": "b555a1b5",
   "metadata": {
    "execution": {
     "iopub.execute_input": "2022-11-20T10:36:30.274442Z",
     "iopub.status.busy": "2022-11-20T10:36:30.273997Z",
     "iopub.status.idle": "2022-11-20T10:36:30.279104Z",
     "shell.execute_reply": "2022-11-20T10:36:30.277851Z"
    },
    "papermill": {
     "duration": 0.013393,
     "end_time": "2022-11-20T10:36:30.281393",
     "exception": false,
     "start_time": "2022-11-20T10:36:30.268000",
     "status": "completed"
    },
    "tags": []
   },
   "outputs": [],
   "source": [
    "# df = pd.read_csv(\"../input/fic-dataframe/train.csv\")\n",
    "\n",
    "# data_setup = DS(\n",
    "#     filepaths=df.filepaths.copy().values, \n",
    "#     size=384,\n",
    "#     transform=transforms.Compose([\n",
    "#         transforms.ToTensor(),\n",
    "#         transforms.Normalize([0.45807, 0.41868, 0.29889], [0.24757, 0.21952, 0.22436]),\n",
    "#     ])\n",
    "# )\n",
    "    \n",
    "# for i in range(len(model_names)):\n",
    "#     model = Model(model_names[i]).to(torch.device(\"cuda\" if torch.cuda.is_available() else \"cpu\"))\n",
    "#     data = DL(data_setup, batch_size=16, shuffle=False)\n",
    "#     features = get_features(model=model, dataloader=data, feature_length=feature_lengths[i])\n",
    "#     np.save(f\"tr_{model_names[i]}.npy\", features)\n",
    "    \n",
    "#     del model, data\n",
    "#     torch.cuda.empty_cache()\n",
    "    \n",
    "#     sleep(30)"
   ]
  },
  {
   "cell_type": "markdown",
   "id": "c712351c",
   "metadata": {
    "papermill": {
     "duration": 0.004871,
     "end_time": "2022-11-20T10:36:30.290758",
     "exception": false,
     "start_time": "2022-11-20T10:36:30.285887",
     "status": "completed"
    },
    "tags": []
   },
   "source": [
    "### **Test Featues**"
   ]
  },
  {
   "cell_type": "code",
   "execution_count": 8,
   "id": "0ad94d59",
   "metadata": {
    "execution": {
     "iopub.execute_input": "2022-11-20T10:36:30.301396Z",
     "iopub.status.busy": "2022-11-20T10:36:30.300980Z",
     "iopub.status.idle": "2022-11-20T11:08:56.277645Z",
     "shell.execute_reply": "2022-11-20T11:08:56.276504Z"
    },
    "papermill": {
     "duration": 1945.985229,
     "end_time": "2022-11-20T11:08:56.280509",
     "exception": false,
     "start_time": "2022-11-20T10:36:30.295280",
     "status": "completed"
    },
    "tags": []
   },
   "outputs": [
    {
     "name": "stderr",
     "output_type": "stream",
     "text": [
      "/opt/conda/lib/python3.7/site-packages/torch/functional.py:568: UserWarning: torch.meshgrid: in an upcoming release, it will be required to pass the indexing argument. (Triggered internally at  ../aten/src/ATen/native/TensorShape.cpp:2228.)\n",
      "  return _VF.meshgrid(tensors, **kwargs)  # type: ignore[attr-defined]\n",
      "Downloading: \"https://github.com/SwinTransformer/storage/releases/download/v1.0.0/swin_base_patch4_window12_384_22k.pth\" to /root/.cache/torch/hub/checkpoints/swin_base_patch4_window12_384_22k.pth\n",
      "Downloading: \"https://github.com/SwinTransformer/storage/releases/download/v1.0.0/swin_large_patch4_window12_384_22k.pth\" to /root/.cache/torch/hub/checkpoints/swin_large_patch4_window12_384_22k.pth\n"
     ]
    }
   ],
   "source": [
    "ts_df = pd.read_csv(\"../input/5-flowers-image-classification/Sample_submission.csv\")\n",
    "ts_filenames = list(ts_df.id.copy().values)\n",
    "ts_filenames = [str(name) + \".jpg\" for name in ts_filenames]\n",
    "\n",
    "ts_filepaths = [os.path.join(\"../input/5-flowers-image-classification/test\", name) for name in ts_filenames]\n",
    "\n",
    "data_setup = DS(\n",
    "    filepaths=ts_filepaths,\n",
    "    size=384,\n",
    "    transform=transforms.Compose([\n",
    "        transforms.ToTensor(),\n",
    "        transforms.Normalize([0.45807, 0.41868, 0.29889], [0.24757, 0.21952, 0.22436]),\n",
    "    ])\n",
    ")\n",
    "    \n",
    "for i in range(len(model_names)):\n",
    "    model = Model(model_names[i]).to(torch.device(\"cuda\" if torch.cuda.is_available() else \"cpu\"))\n",
    "    data = DL(data_setup, batch_size=16, shuffle=False)\n",
    "    features = get_features(model=model, dataloader=data, feature_length=feature_lengths[i])\n",
    "    np.save(f\"ts_{model_names[i]}.npy\", features)\n",
    "    \n",
    "    del model, data\n",
    "    torch.cuda.empty_cache()\n",
    "    \n",
    "    sleep(30)"
   ]
  },
  {
   "cell_type": "code",
   "execution_count": null,
   "id": "59dcf611",
   "metadata": {
    "papermill": {
     "duration": 0.004133,
     "end_time": "2022-11-20T11:08:56.289305",
     "exception": false,
     "start_time": "2022-11-20T11:08:56.285172",
     "status": "completed"
    },
    "tags": []
   },
   "outputs": [],
   "source": []
  }
 ],
 "metadata": {
  "kernelspec": {
   "display_name": "Python 3",
   "language": "python",
   "name": "python3"
  },
  "language_info": {
   "codemirror_mode": {
    "name": "ipython",
    "version": 3
   },
   "file_extension": ".py",
   "mimetype": "text/x-python",
   "name": "python",
   "nbconvert_exporter": "python",
   "pygments_lexer": "ipython3",
   "version": "3.7.12"
  },
  "papermill": {
   "default_parameters": {},
   "duration": 1978.869849,
   "end_time": "2022-11-20T11:08:57.723452",
   "environment_variables": {},
   "exception": null,
   "input_path": "__notebook__.ipynb",
   "output_path": "__notebook__.ipynb",
   "parameters": {},
   "start_time": "2022-11-20T10:35:58.853603",
   "version": "2.3.4"
  }
 },
 "nbformat": 4,
 "nbformat_minor": 5
}
