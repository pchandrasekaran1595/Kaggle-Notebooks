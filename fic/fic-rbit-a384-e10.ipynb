{
 "cells": [
  {
   "cell_type": "markdown",
   "id": "259ae3dc",
   "metadata": {
    "_cell_guid": "b1076dfc-b9ad-4769-8c92-a6c4dae69d19",
    "_uuid": "8f2839f25d086af736a60e9eeb907d3b93b6e0e5",
    "papermill": {
     "duration": 0.00935,
     "end_time": "2022-11-30T10:41:56.245155",
     "exception": false,
     "start_time": "2022-11-30T10:41:56.235805",
     "status": "completed"
    },
    "tags": []
   },
   "source": [
    "##### **Setup**"
   ]
  },
  {
   "cell_type": "code",
   "execution_count": 1,
   "id": "9d7b8127",
   "metadata": {
    "execution": {
     "iopub.execute_input": "2022-11-30T10:41:56.264328Z",
     "iopub.status.busy": "2022-11-30T10:41:56.263787Z",
     "iopub.status.idle": "2022-11-30T10:42:07.503577Z",
     "shell.execute_reply": "2022-11-30T10:42:07.502428Z"
    },
    "papermill": {
     "duration": 11.253927,
     "end_time": "2022-11-30T10:42:07.505962",
     "exception": false,
     "start_time": "2022-11-30T10:41:56.252035",
     "status": "completed"
    },
    "tags": []
   },
   "outputs": [
    {
     "name": "stderr",
     "output_type": "stream",
     "text": [
      "WARNING: Running pip as the 'root' user can result in broken permissions and conflicting behaviour with the system package manager. It is recommended to use a virtual environment instead: https://pip.pypa.io/warnings/venv\n"
     ]
    }
   ],
   "source": [
    "%%bash\n",
    "pip install timm -q"
   ]
  },
  {
   "cell_type": "markdown",
   "id": "0e4c2dfa",
   "metadata": {
    "papermill": {
     "duration": 0.003821,
     "end_time": "2022-11-30T10:42:07.514197",
     "exception": false,
     "start_time": "2022-11-30T10:42:07.510376",
     "status": "completed"
    },
    "tags": []
   },
   "source": [
    "### **Library Imports**"
   ]
  },
  {
   "cell_type": "code",
   "execution_count": 2,
   "id": "7673eb3c",
   "metadata": {
    "execution": {
     "iopub.execute_input": "2022-11-30T10:42:07.523519Z",
     "iopub.status.busy": "2022-11-30T10:42:07.523183Z",
     "iopub.status.idle": "2022-11-30T10:42:11.324540Z",
     "shell.execute_reply": "2022-11-30T10:42:11.323505Z"
    },
    "papermill": {
     "duration": 3.809319,
     "end_time": "2022-11-30T10:42:11.327382",
     "exception": false,
     "start_time": "2022-11-30T10:42:07.518063",
     "status": "completed"
    },
    "tags": []
   },
   "outputs": [],
   "source": [
    "import os\n",
    "import re\n",
    "import cv2\n",
    "import timm\n",
    "import torch\n",
    "import numpy as np\n",
    "import pandas as pd\n",
    "import matplotlib.pyplot as plt\n",
    "\n",
    "from time import time\n",
    "from typing import Union\n",
    "from torch import nn, optim\n",
    "from torch.utils.data import Dataset\n",
    "from torch.utils.data import DataLoader as DL\n",
    "from torchvision import models, transforms\n",
    "\n",
    "from sklearn.model_selection import StratifiedKFold"
   ]
  },
  {
   "cell_type": "markdown",
   "id": "dcfb78dc",
   "metadata": {
    "papermill": {
     "duration": 0.003752,
     "end_time": "2022-11-30T10:42:11.335365",
     "exception": false,
     "start_time": "2022-11-30T10:42:11.331613",
     "status": "completed"
    },
    "tags": []
   },
   "source": [
    "### **Utilities and Helpers**"
   ]
  },
  {
   "cell_type": "code",
   "execution_count": 3,
   "id": "e6949795",
   "metadata": {
    "execution": {
     "iopub.execute_input": "2022-11-30T10:42:11.346265Z",
     "iopub.status.busy": "2022-11-30T10:42:11.344406Z",
     "iopub.status.idle": "2022-11-30T10:42:11.357395Z",
     "shell.execute_reply": "2022-11-30T10:42:11.356452Z"
    },
    "papermill": {
     "duration": 0.020032,
     "end_time": "2022-11-30T10:42:11.359298",
     "exception": false,
     "start_time": "2022-11-30T10:42:11.339266",
     "status": "completed"
    },
    "tags": []
   },
   "outputs": [],
   "source": [
    "SEED = 42\n",
    "SIZE = 384\n",
    "\n",
    "\n",
    "def breaker(num: int=50, char: str=\"*\") -> None:\n",
    "    print(\"\\n\" + num*char + \"\\n\")\n",
    "\n",
    "    \n",
    "def get_image(path: str, size: int=224) -> np.ndarray:\n",
    "    image = cv2.imread(path, cv2.IMREAD_COLOR)\n",
    "    image = cv2.cvtColor(src=image, code=cv2.COLOR_BGR2RGB)\n",
    "    return cv2.resize(src=image, dsize=(size, size), interpolation=cv2.INTER_AREA)\n",
    "\n",
    "    \n",
    "def show_loss_graphs(L: list) -> None:\n",
    "    TL, VL = [], []\n",
    "    for i in range(len(L)):\n",
    "        TL.append(L[i][\"train\"])\n",
    "        VL.append(L[i][\"valid\"])\n",
    "    x_Axis = np.arange(1, len(TL) + 1)\n",
    "    plt.figure()\n",
    "    plt.plot(x_Axis, TL, \"r\", label=\"Train\")\n",
    "    plt.plot(x_Axis, VL, \"b\", label=\"Valid\")\n",
    "    plt.legend()\n",
    "    plt.grid()\n",
    "    plt.title(\"Loss Graph\")\n",
    "    plt.show()\n",
    "\n",
    "    \n",
    "def show_accuracy_graphs(A: list) -> None:\n",
    "    TA, VA = [], []\n",
    "    for i in range(len(A)):\n",
    "        TA.append(A[i][\"train\"])\n",
    "        VA.append(A[i][\"valid\"])\n",
    "    x_Axis = np.arange(1, len(TA) + 1)\n",
    "    plt.figure()\n",
    "    plt.plot(x_Axis, TA, \"r\", label=\"Train\")\n",
    "    plt.plot(x_Axis, VA, \"b\", label=\"Valid\")\n",
    "    plt.legend()\n",
    "    plt.grid()\n",
    "    plt.title(\"Accuracy Graph\")\n",
    "    plt.show()\n",
    "    \n",
    "\n",
    "def show_lr_graph(LR: list) -> None:\n",
    "    x_Axis = [i+1 for i in range(len(LR))]\n",
    "    plt.figure(figsize=(8, 6))\n",
    "    plt.plot(x_Axis, LR, \"rx\")\n",
    "    plt.grid()\n",
    "    plt.show()"
   ]
  },
  {
   "cell_type": "markdown",
   "id": "0c9d7821",
   "metadata": {
    "papermill": {
     "duration": 0.003764,
     "end_time": "2022-11-30T10:42:11.367107",
     "exception": false,
     "start_time": "2022-11-30T10:42:11.363343",
     "status": "completed"
    },
    "tags": []
   },
   "source": [
    "### **Configuration**"
   ]
  },
  {
   "cell_type": "code",
   "execution_count": 4,
   "id": "357facd8",
   "metadata": {
    "execution": {
     "iopub.execute_input": "2022-11-30T10:42:11.376733Z",
     "iopub.status.busy": "2022-11-30T10:42:11.376459Z",
     "iopub.status.idle": "2022-11-30T10:42:11.456189Z",
     "shell.execute_reply": "2022-11-30T10:42:11.455039Z"
    },
    "papermill": {
     "duration": 0.086877,
     "end_time": "2022-11-30T10:42:11.458242",
     "exception": false,
     "start_time": "2022-11-30T10:42:11.371365",
     "status": "completed"
    },
    "tags": []
   },
   "outputs": [],
   "source": [
    "class CFG(object):\n",
    "    def __init__(self, \n",
    "                 seed: int = 42,\n",
    "                 size: int = 224,\n",
    "                 n_splits: int = 5,\n",
    "                 batch_size: int = 16,\n",
    "                 epochs: int = 25,\n",
    "                 early_stopping: int = 5,\n",
    "                 lr: float = 1e-4,\n",
    "                 wd: float = 0.0,\n",
    "                 max_lr: float = 1e-3,\n",
    "                 pct_start: float = 0.2,\n",
    "                 steps_per_epoch: int = 100,\n",
    "                 div_factor: int = 1e3, \n",
    "                 final_div_factor: float = 1e3,\n",
    "                 ):\n",
    "        self.seed = seed\n",
    "        self.size = size\n",
    "        self.n_splits = n_splits\n",
    "        self.batch_size = batch_size\n",
    "        self.epochs = epochs\n",
    "        self.early_stopping = early_stopping\n",
    "        self.lr = lr\n",
    "        self.wd = wd\n",
    "        self.max_lr = max_lr\n",
    "        self.pct_start = pct_start\n",
    "        self.steps_per_epoch = steps_per_epoch\n",
    "        self.div_factor = div_factor\n",
    "        self.final_div_factor = final_div_factor\n",
    "        self.device = torch.device(\"cuda\" if torch.cuda.is_available() else \"cpu\")\n",
    "        \n",
    "        if self.size == 224:\n",
    "            self.train_transform = transforms.Compose([\n",
    "                transforms.ToTensor(),\n",
    "                transforms.Normalize([0.45818, 0.41879, 0.29899], [0.24524, 0.21704, 0.22208]),\n",
    "                transforms.RandomAffine(degrees=(-45, 45), translate=(0.15, 0.15), scale=(0.5, 1.5)),\n",
    "                transforms.RandomHorizontalFlip(p=0.25),\n",
    "                transforms.RandomVerticalFlip(p=0.25),\n",
    "            ])\n",
    "            self.valid_transform = transforms.Compose([\n",
    "                transforms.ToTensor(),\n",
    "                transforms.Normalize([0.45818, 0.41879, 0.29899], [0.24524, 0.21704, 0.22208]),\n",
    "            ])\n",
    "        \n",
    "        if self.size == 384:\n",
    "            self.train_transform = transforms.Compose([\n",
    "                transforms.ToTensor(),\n",
    "                transforms.Normalize([0.45807, 0.41868, 0.29889], [0.24757, 0.21952, 0.22436]),\n",
    "                transforms.RandomAffine(degrees=(-45, 45), translate=(0.15, 0.15), scale=(0.5, 1.5)),\n",
    "                transforms.RandomHorizontalFlip(p=0.25),\n",
    "                transforms.RandomVerticalFlip(p=0.25),\n",
    "            ])\n",
    "            self.valid_transform = transforms.Compose([\n",
    "                transforms.ToTensor(),\n",
    "                transforms.Normalize([0.45807, 0.41868, 0.29889], [0.24757, 0.21952, 0.22436]),\n",
    "            ])\n",
    "        \n",
    "        if self.size == 512:\n",
    "            self.train_transform = transforms.Compose([\n",
    "                transforms.ToTensor(),\n",
    "                transforms.Normalize([0.45813, 0.41874, 0.29895], [0.24827, 0.22026, 0.22505]),\n",
    "                transforms.RandomAffine(degrees=(-45, 45), translate=(0.15, 0.15), scale=(0.5, 1.5)),\n",
    "                transforms.RandomHorizontalFlip(p=0.25),\n",
    "                transforms.RandomVerticalFlip(p=0.25),\n",
    "            ])\n",
    "            self.valid_transform = transforms.Compose([\n",
    "                transforms.ToTensor(),\n",
    "                transforms.Normalize([0.45813, 0.41874, 0.29895], [0.24827, 0.22026, 0.22505]),\n",
    "            ])\n",
    "                                \n",
    "        self.save_path = \"saves\"\n",
    "        if not os.path.exists(self.save_path): os.makedirs(self.save_path)\n",
    "    \n",
    "cfg = CFG(\n",
    "    seed=SEED, \n",
    "    size=SIZE\n",
    ")"
   ]
  },
  {
   "cell_type": "markdown",
   "id": "fcbd7484",
   "metadata": {
    "papermill": {
     "duration": 0.003835,
     "end_time": "2022-11-30T10:42:11.466296",
     "exception": false,
     "start_time": "2022-11-30T10:42:11.462461",
     "status": "completed"
    },
    "tags": []
   },
   "source": [
    "### **Dataset Template**"
   ]
  },
  {
   "cell_type": "code",
   "execution_count": 5,
   "id": "3aedb944",
   "metadata": {
    "execution": {
     "iopub.execute_input": "2022-11-30T10:42:11.476698Z",
     "iopub.status.busy": "2022-11-30T10:42:11.474956Z",
     "iopub.status.idle": "2022-11-30T10:42:11.482668Z",
     "shell.execute_reply": "2022-11-30T10:42:11.481723Z"
    },
    "papermill": {
     "duration": 0.014505,
     "end_time": "2022-11-30T10:42:11.484671",
     "exception": false,
     "start_time": "2022-11-30T10:42:11.470166",
     "status": "completed"
    },
    "tags": []
   },
   "outputs": [],
   "source": [
    "class DS(Dataset):\n",
    "    def __init__(\n",
    "        self, \n",
    "        filepaths: np.ndarray, \n",
    "        size: int,\n",
    "        labels: Union[np.ndarray, None]=None, \n",
    "        transform=None\n",
    "    ):\n",
    "        \n",
    "        self.filepaths = filepaths\n",
    "        self.labels = labels\n",
    "        self.size = size\n",
    "        self.transform = transform\n",
    "    \n",
    "    def __len__(self):\n",
    "        return self.filepaths.shape[0]\n",
    "    \n",
    "    def __getitem__(self, idx):\n",
    "        image = get_image(self.filepaths[idx], self.size)\n",
    "        if self.labels is None:\n",
    "            return self.transform(image)\n",
    "        return self.transform(image), torch.LongTensor(self.labels[idx])"
   ]
  },
  {
   "cell_type": "markdown",
   "id": "5bf1501c",
   "metadata": {
    "papermill": {
     "duration": 0.003713,
     "end_time": "2022-11-30T10:42:11.492301",
     "exception": false,
     "start_time": "2022-11-30T10:42:11.488588",
     "status": "completed"
    },
    "tags": []
   },
   "source": [
    "### **Model**"
   ]
  },
  {
   "cell_type": "code",
   "execution_count": 6,
   "id": "74e69a9d",
   "metadata": {
    "execution": {
     "iopub.execute_input": "2022-11-30T10:42:11.501386Z",
     "iopub.status.busy": "2022-11-30T10:42:11.501088Z",
     "iopub.status.idle": "2022-11-30T10:42:11.508268Z",
     "shell.execute_reply": "2022-11-30T10:42:11.507389Z"
    },
    "papermill": {
     "duration": 0.013963,
     "end_time": "2022-11-30T10:42:11.510184",
     "exception": false,
     "start_time": "2022-11-30T10:42:11.496221",
     "status": "completed"
    },
    "tags": []
   },
   "outputs": [],
   "source": [
    "class Model(nn.Module):\n",
    "    def __init__(self):\n",
    "        super(Model, self).__init__()\n",
    "            \n",
    "        self.model = timm.create_model(\"resnetv2_50x1_bitm_in21k\", pretrained=True)\n",
    "        self.model.head.fc = torch.nn.Conv2d(\n",
    "                    in_channels=self.model.head.fc.in_channels, \n",
    "                    out_channels=5,\n",
    "                    kernel_size=self.model.head.fc.kernel_size,\n",
    "                    stride=self.model.head.fc.stride\n",
    "                )\n",
    "\n",
    "    def forward(self, x):\n",
    "        return nn.LogSoftmax(dim=1)(self.model(x))"
   ]
  },
  {
   "cell_type": "markdown",
   "id": "9affac74",
   "metadata": {
    "papermill": {
     "duration": 0.003748,
     "end_time": "2022-11-30T10:42:11.518046",
     "exception": false,
     "start_time": "2022-11-30T10:42:11.514298",
     "status": "completed"
    },
    "tags": []
   },
   "source": [
    "### **Fit and Predict**"
   ]
  },
  {
   "cell_type": "code",
   "execution_count": 7,
   "id": "53e6c730",
   "metadata": {
    "execution": {
     "iopub.execute_input": "2022-11-30T10:42:11.527259Z",
     "iopub.status.busy": "2022-11-30T10:42:11.526960Z",
     "iopub.status.idle": "2022-11-30T10:42:11.547609Z",
     "shell.execute_reply": "2022-11-30T10:42:11.546571Z"
    },
    "papermill": {
     "duration": 0.028097,
     "end_time": "2022-11-30T10:42:11.549972",
     "exception": false,
     "start_time": "2022-11-30T10:42:11.521875",
     "status": "completed"
    },
    "tags": []
   },
   "outputs": [],
   "source": [
    "def fit(\n",
    "    model=None,\n",
    "    optimizer=None, \n",
    "    scheduler_rlrop=None,\n",
    "    scheduler_oclr=None,\n",
    "    epochs=None, \n",
    "    early_stopping_patience=None, \n",
    "    dataloaders=None, \n",
    "    fold=None, \n",
    "    save_path=None,\n",
    "    device=None,\n",
    "    verbose=False\n",
    ") -> tuple:\n",
    "    \n",
    "    def get_accuracy(y_pred, y_true):\n",
    "        y_pred = torch.argmax(y_pred, dim=1)\n",
    "        return torch.count_nonzero(y_pred == y_true).item() / len(y_pred)\n",
    "    \n",
    "    \n",
    "    if verbose:\n",
    "        breaker()\n",
    "        if fold: print(f\"Training Fold {fold}...\")\n",
    "        else: print(\"Training ...\")\n",
    "        breaker()\n",
    "        \n",
    "    bestLoss: dict = {\"train\" : np.inf, \"valid\" : np.inf} \n",
    "    bestAccs: dict = {\"train\" : 0.0, \"valid\" : 0.0}\n",
    "    \n",
    "    Losses: list = []\n",
    "    Accuracies: list = [] \n",
    "    LRs: list = []\n",
    "        \n",
    "    if fold: \n",
    "        ble_name = f\"ble_state_fold_{fold}.pt\"\n",
    "        bae_name = f\"bae_state_fold_{fold}.pt\"\n",
    "    else: \n",
    "        ble_name = f\"ble_state.pt\"\n",
    "        bae_name = f\"bae_state.pt\"\n",
    "        \n",
    "    start_time = time()\n",
    "    for e in range(epochs):\n",
    "        e_st = time()\n",
    "        epochLoss: dict = {\"train\" : 0.0, \"valid\" : 0.0} \n",
    "        epochAccs: dict = {\"train\" : 0.0, \"valid\" : 0.0}\n",
    "\n",
    "        for phase in [\"train\", \"valid\"]:\n",
    "            if phase == \"train\":\n",
    "                model.train()\n",
    "            else:\n",
    "                model.eval()\n",
    "            \n",
    "            lossPerPass: list = []\n",
    "            accsPerPass: list = []\n",
    "                \n",
    "            for X, y in dataloaders[phase]:\n",
    "                X, y = X.to(device), y.to(device).view(-1)\n",
    "\n",
    "                optimizer.zero_grad()\n",
    "                with torch.set_grad_enabled(phase == \"train\"):\n",
    "                    output = model(X)\n",
    "                    loss = torch.nn.NLLLoss()(output, y)\n",
    "                    if phase == \"train\":\n",
    "                        loss.backward()\n",
    "                        optimizer.step()\n",
    "                        if scheduler_oclr: scheduler_oclr.step()\n",
    "                lossPerPass.append(loss.item())\n",
    "                accsPerPass.append(get_accuracy(output, y))\n",
    "            epochLoss[phase] = np.mean(np.array(lossPerPass))\n",
    "            epochAccs[phase] = np.mean(np.array(accsPerPass))\n",
    "        if scheduler_oclr: LRs.append(scheduler_oclr.get_last_lr())\n",
    "        Losses.append(epochLoss)\n",
    "        Accuracies.append(epochAccs)\n",
    "        \n",
    "        if scheduler_oclr:\n",
    "            save_dict = {\"model_state_dict\"     : model.state_dict(),\n",
    "                         \"optim_state_dict\"     : optimizer.state_dict(),\n",
    "                         \"scheduler_state_dict\" : scheduler_oclr.state_dict()}\n",
    "        \n",
    "        elif scheduler_rlrop:\n",
    "            save_dict = {\"model_state_dict\"     : model.state_dict(),\n",
    "                         \"optim_state_dict\"     : optimizer.state_dict(),\n",
    "                         \"scheduler_state_dict\" : scheduler_rlrop.state_dict()}\n",
    "        \n",
    "        else:\n",
    "            save_dict = {\"model_state_dict\"     : model.state_dict(),\n",
    "                         \"optim_state_dict\"     : optimizer.state_dict()}\n",
    "        \n",
    "        if early_stopping_patience:\n",
    "            if epochLoss[\"valid\"] < bestLoss[\"valid\"]:\n",
    "                bestLoss = epochLoss\n",
    "                BLE = e + 1\n",
    "                torch.save(save_dict, os.path.join(save_path, ble_name))\n",
    "                torch.save(save_dict, os.path.join(save_path, bae_name))\n",
    "                early_stopping_step = 0\n",
    "            else:\n",
    "                early_stopping_step += 1\n",
    "                if early_stopping_step > early_stopping_patience:\n",
    "                    print(\"\\nEarly Stopping at Epoch {}\".format(e + 1))\n",
    "                    break\n",
    "        \n",
    "        if epochLoss[\"valid\"] < bestLoss[\"valid\"]:\n",
    "            bestLoss = epochLoss\n",
    "            BLE = e + 1\n",
    "            torch.save(save_dict,os.path.join(save_path, ble_name))\n",
    "        \n",
    "        if epochAccs[\"valid\"] > bestAccs[\"valid\"]:\n",
    "            bestAccs = epochAccs\n",
    "            BAE = e + 1\n",
    "            torch.save(save_dict,os.path.join(save_path, bae_name))\n",
    "        \n",
    "        if scheduler_rlrop: scheduler_rlrop.step(epochLoss[\"valid\"])\n",
    "        \n",
    "        if verbose:\n",
    "            print(\"Epoch: {} | Train Loss: {:.5f} | Valid Loss: {:.5f} |\\\n",
    " Train Accs: {:.5f} | Valid Accs: {:.5f} | Time: {:.2f} seconds\".format(e+1, \n",
    "                                                                        epochLoss[\"train\"], epochLoss[\"valid\"], \n",
    "                                                                        epochAccs[\"train\"], epochAccs[\"valid\"], \n",
    "                                                                        time()-e_st))\n",
    "\n",
    "    if verbose:                                           \n",
    "        breaker()\n",
    "        print(f\"Best Validation Loss at Epoch {BLE}\")\n",
    "        breaker()\n",
    "        print(f\"Best Validation Accs at Epoch {BAE}\")\n",
    "        breaker()\n",
    "        print(\"Time Taken [{} Epochs] : {:.2f} minutes\".format(len(Losses), (time()-start_time)/60))\n",
    "    \n",
    "    return Losses, Accuracies, LRs, bestLoss, bestAccs, BLE, BAE, ble_name, bae_name\n",
    "\n",
    "\n",
    "# def predict_batch(model=None, dataloader=None, path=None, device=None) -> np.ndarray:\n",
    "#     model.load_state_dict(torch.load(path, map_location=device)[\"model_state_dict\"])\n",
    "#     model.to(device)    \n",
    "#     model.eval()\n",
    "    \n",
    "#     y_pred = torch.zeros(1, 1).to(device)\n",
    "    \n",
    "#     for X in dataloader:\n",
    "#         X = X.to(device)\n",
    "#         with torch.no_grad():\n",
    "#             output = torch.argmax(torch.exp(model(X)), dim=1)\n",
    "#         y_pred = torch.cat((y_pred, output.view(-1, 1)), dim=0)\n",
    "    \n",
    "#     return y_pred[1:].detach().cpu().numpy()"
   ]
  },
  {
   "cell_type": "markdown",
   "id": "c7b71a7b",
   "metadata": {
    "papermill": {
     "duration": 0.004635,
     "end_time": "2022-11-30T10:42:11.558561",
     "exception": false,
     "start_time": "2022-11-30T10:42:11.553926",
     "status": "completed"
    },
    "tags": []
   },
   "source": [
    "### **Train**"
   ]
  },
  {
   "cell_type": "code",
   "execution_count": 8,
   "id": "b7027f56",
   "metadata": {
    "execution": {
     "iopub.execute_input": "2022-11-30T10:42:11.567443Z",
     "iopub.status.busy": "2022-11-30T10:42:11.567168Z",
     "iopub.status.idle": "2022-11-30T10:42:11.601893Z",
     "shell.execute_reply": "2022-11-30T10:42:11.601018Z"
    },
    "papermill": {
     "duration": 0.041674,
     "end_time": "2022-11-30T10:42:11.604092",
     "exception": false,
     "start_time": "2022-11-30T10:42:11.562418",
     "status": "completed"
    },
    "tags": []
   },
   "outputs": [],
   "source": [
    "df = pd.read_csv(\"../input/fic-dataframe/train.csv\")\n",
    "\n",
    "filepaths = df.filepaths.copy().values\n",
    "labels = df.labels.copy().values"
   ]
  },
  {
   "cell_type": "code",
   "execution_count": 9,
   "id": "02620e63",
   "metadata": {
    "execution": {
     "iopub.execute_input": "2022-11-30T10:42:11.613924Z",
     "iopub.status.busy": "2022-11-30T10:42:11.613635Z",
     "iopub.status.idle": "2022-11-30T12:23:22.776302Z",
     "shell.execute_reply": "2022-11-30T12:23:22.775413Z"
    },
    "papermill": {
     "duration": 6071.170552,
     "end_time": "2022-11-30T12:23:22.778836",
     "exception": false,
     "start_time": "2022-11-30T10:42:11.608284",
     "status": "completed"
    },
    "tags": []
   },
   "outputs": [
    {
     "name": "stdout",
     "output_type": "stream",
     "text": [
      "\n",
      "**************************************************\n",
      "\n",
      "Training Fold 1...\n",
      "\n",
      "**************************************************\n",
      "\n",
      "Epoch: 1 | Train Loss: 0.78386 | Valid Loss: 0.75158 | Train Accs: 0.73164 | Valid Accs: 0.76990 | Time: 166.98 seconds\n",
      "Epoch: 2 | Train Loss: 0.85319 | Valid Loss: 0.78148 | Train Accs: 0.68943 | Valid Accs: 0.68776 | Time: 120.12 seconds\n",
      "Epoch: 3 | Train Loss: 0.62478 | Valid Loss: 0.51899 | Train Accs: 0.77126 | Valid Accs: 0.82704 | Time: 121.95 seconds\n",
      "Epoch: 4 | Train Loss: 0.52130 | Valid Loss: 0.50150 | Train Accs: 0.81604 | Valid Accs: 0.82959 | Time: 121.88 seconds\n",
      "Epoch: 5 | Train Loss: 0.39877 | Valid Loss: 0.62851 | Train Accs: 0.85696 | Valid Accs: 0.80026 | Time: 120.10 seconds\n",
      "Epoch: 6 | Train Loss: 0.33830 | Valid Loss: 0.39402 | Train Accs: 0.87532 | Valid Accs: 0.86658 | Time: 121.79 seconds\n",
      "Epoch: 7 | Train Loss: 0.26218 | Valid Loss: 0.28032 | Train Accs: 0.90174 | Valid Accs: 0.91020 | Time: 119.69 seconds\n",
      "Epoch: 8 | Train Loss: 0.18460 | Valid Loss: 0.24946 | Train Accs: 0.93009 | Valid Accs: 0.91888 | Time: 118.52 seconds\n",
      "Epoch: 9 | Train Loss: 0.10675 | Valid Loss: 0.26236 | Train Accs: 0.96585 | Valid Accs: 0.92704 | Time: 118.15 seconds\n",
      "Epoch: 10 | Train Loss: 0.09118 | Valid Loss: 0.24353 | Train Accs: 0.96939 | Valid Accs: 0.93699 | Time: 120.91 seconds\n",
      "\n",
      "**************************************************\n",
      "\n",
      "Best Validation Loss at Epoch 10\n",
      "\n",
      "**************************************************\n",
      "\n",
      "Best Validation Accs at Epoch 10\n",
      "\n",
      "**************************************************\n",
      "\n",
      "Time Taken [10 Epochs] : 20.83 minutes\n",
      "\n",
      "**************************************************\n",
      "\n"
     ]
    },
    {
     "data": {
      "image/png": "[encoded data removed]",
      "text/plain": [
       "<Figure size 432x288 with 1 Axes>"
      ]
     },
     "metadata": {
      "needs_background": "light"
     },
     "output_type": "display_data"
    },
    {
     "name": "stdout",
     "output_type": "stream",
     "text": [
      "\n",
      "**************************************************\n",
      "\n"
     ]
    },
    {
     "data": {
      "image/png": "[encoded data removed]",
      "text/plain": [
       "<Figure size 432x288 with 1 Axes>"
      ]
     },
     "metadata": {
      "needs_background": "light"
     },
     "output_type": "display_data"
    },
    {
     "name": "stdout",
     "output_type": "stream",
     "text": [
      "\n",
      "**************************************************\n",
      "\n"
     ]
    },
    {
     "data": {
      "image/png": "[encoded data removed]",
      "text/plain": [
       "<Figure size 576x432 with 1 Axes>"
      ]
     },
     "metadata": {
      "needs_background": "light"
     },
     "output_type": "display_data"
    },
    {
     "name": "stdout",
     "output_type": "stream",
     "text": [
      "\n",
      "**************************************************\n",
      "\n",
      "\n",
      "**************************************************\n",
      "\n",
      "Training Fold 2...\n",
      "\n",
      "**************************************************\n",
      "\n",
      "Epoch: 1 | Train Loss: 0.78362 | Valid Loss: 0.81125 | Train Accs: 0.74774 | Valid Accs: 0.72857 | Time: 119.68 seconds\n",
      "Epoch: 2 | Train Loss: 0.78698 | Valid Loss: 0.68676 | Train Accs: 0.71875 | Valid Accs: 0.74974 | Time: 120.51 seconds\n",
      "Epoch: 3 | Train Loss: 0.66696 | Valid Loss: 0.57793 | Train Accs: 0.76095 | Valid Accs: 0.77168 | Time: 119.94 seconds\n",
      "Epoch: 4 | Train Loss: 0.53231 | Valid Loss: 0.45943 | Train Accs: 0.80219 | Valid Accs: 0.82398 | Time: 119.63 seconds\n",
      "Epoch: 5 | Train Loss: 0.46068 | Valid Loss: 0.44972 | Train Accs: 0.83086 | Valid Accs: 0.83087 | Time: 119.66 seconds\n",
      "Epoch: 6 | Train Loss: 0.33294 | Valid Loss: 0.35237 | Train Accs: 0.87790 | Valid Accs: 0.86480 | Time: 120.16 seconds\n",
      "Epoch: 7 | Train Loss: 0.24616 | Valid Loss: 0.29186 | Train Accs: 0.91205 | Valid Accs: 0.90306 | Time: 120.09 seconds\n",
      "Epoch: 8 | Train Loss: 0.17807 | Valid Loss: 0.25986 | Train Accs: 0.93911 | Valid Accs: 0.90434 | Time: 120.39 seconds\n",
      "Epoch: 9 | Train Loss: 0.12944 | Valid Loss: 0.20876 | Train Accs: 0.95651 | Valid Accs: 0.92857 | Time: 121.00 seconds\n",
      "Epoch: 10 | Train Loss: 0.09707 | Valid Loss: 0.19829 | Train Accs: 0.96907 | Valid Accs: 0.92857 | Time: 119.74 seconds\n",
      "\n",
      "**************************************************\n",
      "\n",
      "Best Validation Loss at Epoch 10\n",
      "\n",
      "**************************************************\n",
      "\n",
      "Best Validation Accs at Epoch 9\n",
      "\n",
      "**************************************************\n",
      "\n",
      "Time Taken [10 Epochs] : 20.01 minutes\n",
      "\n",
      "**************************************************\n",
      "\n"
     ]
    },
    {
     "data": {
      "image/png": "[encoded data removed]",
      "text/plain": [
       "<Figure size 432x288 with 1 Axes>"
      ]
     },
     "metadata": {
      "needs_background": "light"
     },
     "output_type": "display_data"
    },
    {
     "name": "stdout",
     "output_type": "stream",
     "text": [
      "\n",
      "**************************************************\n",
      "\n"
     ]
    },
    {
     "data": {
      "image/png": "[encoded data removed]",
      "text/plain": [
       "<Figure size 432x288 with 1 Axes>"
      ]
     },
     "metadata": {
      "needs_background": "light"
     },
     "output_type": "display_data"
    },
    {
     "name": "stdout",
     "output_type": "stream",
     "text": [
      "\n",
      "**************************************************\n",
      "\n"
     ]
    },
    {
     "data": {
      "image/png": "[encoded data removed]",
      "text/plain": [
       "<Figure size 576x432 with 1 Axes>"
      ]
     },
     "metadata": {
      "needs_background": "light"
     },
     "output_type": "display_data"
    },
    {
     "name": "stdout",
     "output_type": "stream",
     "text": [
      "\n",
      "**************************************************\n",
      "\n",
      "\n",
      "**************************************************\n",
      "\n",
      "Training Fold 3...\n",
      "\n",
      "**************************************************\n",
      "\n",
      "Epoch: 1 | Train Loss: 0.76124 | Valid Loss: 0.58378 | Train Accs: 0.74452 | Valid Accs: 0.75995 | Time: 120.66 seconds\n",
      "Epoch: 2 | Train Loss: 0.73775 | Valid Loss: 0.59115 | Train Accs: 0.72906 | Valid Accs: 0.78801 | Time: 119.02 seconds\n",
      "Epoch: 3 | Train Loss: 0.59547 | Valid Loss: 0.58245 | Train Accs: 0.78866 | Valid Accs: 0.79184 | Time: 119.37 seconds\n",
      "Epoch: 4 | Train Loss: 0.52835 | Valid Loss: 0.49057 | Train Accs: 0.80477 | Valid Accs: 0.81582 | Time: 119.57 seconds\n",
      "Epoch: 5 | Train Loss: 0.42593 | Valid Loss: 0.54295 | Train Accs: 0.84375 | Valid Accs: 0.79260 | Time: 117.66 seconds\n",
      "Epoch: 6 | Train Loss: 0.33584 | Valid Loss: 0.35384 | Train Accs: 0.88563 | Valid Accs: 0.86276 | Time: 119.48 seconds\n",
      "Epoch: 7 | Train Loss: 0.24455 | Valid Loss: 0.23353 | Train Accs: 0.91140 | Valid Accs: 0.91454 | Time: 118.82 seconds\n",
      "Epoch: 8 | Train Loss: 0.17589 | Valid Loss: 0.20162 | Train Accs: 0.93331 | Valid Accs: 0.93342 | Time: 119.52 seconds\n",
      "Epoch: 9 | Train Loss: 0.11844 | Valid Loss: 0.22101 | Train Accs: 0.96005 | Valid Accs: 0.93342 | Time: 117.95 seconds\n",
      "Epoch: 10 | Train Loss: 0.08468 | Valid Loss: 0.20502 | Train Accs: 0.97133 | Valid Accs: 0.93724 | Time: 118.74 seconds\n",
      "\n",
      "**************************************************\n",
      "\n",
      "Best Validation Loss at Epoch 8\n",
      "\n",
      "**************************************************\n",
      "\n",
      "Best Validation Accs at Epoch 10\n",
      "\n",
      "**************************************************\n",
      "\n",
      "Time Taken [10 Epochs] : 19.85 minutes\n",
      "\n",
      "**************************************************\n",
      "\n"
     ]
    },
    {
     "data": {
      "image/png": "[encoded data removed]",
      "text/plain": [
       "<Figure size 432x288 with 1 Axes>"
      ]
     },
     "metadata": {
      "needs_background": "light"
     },
     "output_type": "display_data"
    },
    {
     "name": "stdout",
     "output_type": "stream",
     "text": [
      "\n",
      "**************************************************\n",
      "\n"
     ]
    },
    {
     "data": {
      "image/png": "[encoded data removed]",
      "text/plain": [
       "<Figure size 432x288 with 1 Axes>"
      ]
     },
     "metadata": {
      "needs_background": "light"
     },
     "output_type": "display_data"
    },
    {
     "name": "stdout",
     "output_type": "stream",
     "text": [
      "\n",
      "**************************************************\n",
      "\n"
     ]
    },
    {
     "data": {
      "image/png": "[encoded data removed]",
      "text/plain": [
       "<Figure size 576x432 with 1 Axes>"
      ]
     },
     "metadata": {
      "needs_background": "light"
     },
     "output_type": "display_data"
    },
    {
     "name": "stdout",
     "output_type": "stream",
     "text": [
      "\n",
      "**************************************************\n",
      "\n",
      "\n",
      "**************************************************\n",
      "\n",
      "Training Fold 4...\n",
      "\n",
      "**************************************************\n",
      "\n",
      "Epoch: 1 | Train Loss: 0.79638 | Valid Loss: 0.69967 | Train Accs: 0.73840 | Valid Accs: 0.75867 | Time: 120.80 seconds\n",
      "Epoch: 2 | Train Loss: 0.80491 | Valid Loss: 0.94368 | Train Accs: 0.70103 | Valid Accs: 0.69082 | Time: 117.66 seconds\n",
      "Epoch: 3 | Train Loss: 0.63665 | Valid Loss: 0.76784 | Train Accs: 0.77352 | Valid Accs: 0.73929 | Time: 118.16 seconds\n",
      "Epoch: 4 | Train Loss: 0.55031 | Valid Loss: 0.71353 | Train Accs: 0.79671 | Valid Accs: 0.76480 | Time: 119.08 seconds\n",
      "Epoch: 5 | Train Loss: 0.41983 | Valid Loss: 0.49990 | Train Accs: 0.84472 | Valid Accs: 0.81709 | Time: 120.33 seconds\n",
      "Epoch: 6 | Train Loss: 0.35614 | Valid Loss: 0.36729 | Train Accs: 0.87242 | Valid Accs: 0.86097 | Time: 120.06 seconds\n",
      "Epoch: 7 | Train Loss: 0.27182 | Valid Loss: 0.27751 | Train Accs: 0.90528 | Valid Accs: 0.90179 | Time: 120.80 seconds\n",
      "Epoch: 8 | Train Loss: 0.21038 | Valid Loss: 0.21362 | Train Accs: 0.92784 | Valid Accs: 0.92985 | Time: 120.64 seconds\n",
      "Epoch: 9 | Train Loss: 0.14364 | Valid Loss: 0.17290 | Train Accs: 0.94878 | Valid Accs: 0.93750 | Time: 121.04 seconds\n",
      "Epoch: 10 | Train Loss: 0.10405 | Valid Loss: 0.18625 | Train Accs: 0.96488 | Valid Accs: 0.93367 | Time: 119.29 seconds\n",
      "\n",
      "**************************************************\n",
      "\n",
      "Best Validation Loss at Epoch 9\n",
      "\n",
      "**************************************************\n",
      "\n",
      "Best Validation Accs at Epoch 9\n",
      "\n",
      "**************************************************\n",
      "\n",
      "Time Taken [10 Epochs] : 19.96 minutes\n",
      "\n",
      "**************************************************\n",
      "\n"
     ]
    },
    {
     "data": {
      "image/png": "[encoded data removed]",
      "text/plain": [
       "<Figure size 432x288 with 1 Axes>"
      ]
     },
     "metadata": {
      "needs_background": "light"
     },
     "output_type": "display_data"
    },
    {
     "name": "stdout",
     "output_type": "stream",
     "text": [
      "\n",
      "**************************************************\n",
      "\n"
     ]
    },
    {
     "data": {
      "image/png": "[encoded data removed]",
      "text/plain": [
       "<Figure size 432x288 with 1 Axes>"
      ]
     },
     "metadata": {
      "needs_background": "light"
     },
     "output_type": "display_data"
    },
    {
     "name": "stdout",
     "output_type": "stream",
     "text": [
      "\n",
      "**************************************************\n",
      "\n"
     ]
    },
    {
     "data": {
      "image/png": "[encoded data removed]",
      "text/plain": [
       "<Figure size 576x432 with 1 Axes>"
      ]
     },
     "metadata": {
      "needs_background": "light"
     },
     "output_type": "display_data"
    },
    {
     "name": "stdout",
     "output_type": "stream",
     "text": [
      "\n",
      "**************************************************\n",
      "\n",
      "\n",
      "**************************************************\n",
      "\n",
      "Training Fold 5...\n",
      "\n",
      "**************************************************\n",
      "\n",
      "Epoch: 1 | Train Loss: 0.78450 | Valid Loss: 1.09711 | Train Accs: 0.73840 | Valid Accs: 0.60051 | Time: 121.85 seconds\n",
      "Epoch: 2 | Train Loss: 0.79027 | Valid Loss: 1.04075 | Train Accs: 0.70844 | Valid Accs: 0.60332 | Time: 120.92 seconds\n",
      "Epoch: 3 | Train Loss: 0.77511 | Valid Loss: 0.78194 | Train Accs: 0.70425 | Valid Accs: 0.71862 | Time: 120.75 seconds\n",
      "Epoch: 4 | Train Loss: 0.52359 | Valid Loss: 0.47504 | Train Accs: 0.80928 | Valid Accs: 0.81607 | Time: 119.76 seconds\n",
      "Epoch: 5 | Train Loss: 0.44303 | Valid Loss: 0.37802 | Train Accs: 0.83602 | Valid Accs: 0.85816 | Time: 120.37 seconds\n",
      "Epoch: 6 | Train Loss: 0.33837 | Valid Loss: 0.36895 | Train Accs: 0.87887 | Valid Accs: 0.86607 | Time: 119.67 seconds\n",
      "Epoch: 7 | Train Loss: 0.29218 | Valid Loss: 0.33283 | Train Accs: 0.89240 | Valid Accs: 0.86735 | Time: 120.11 seconds\n",
      "Epoch: 8 | Train Loss: 0.18978 | Valid Loss: 0.26373 | Train Accs: 0.93009 | Valid Accs: 0.90561 | Time: 119.61 seconds\n",
      "Epoch: 9 | Train Loss: 0.12292 | Valid Loss: 0.24330 | Train Accs: 0.95586 | Valid Accs: 0.92347 | Time: 120.90 seconds\n",
      "Epoch: 10 | Train Loss: 0.09344 | Valid Loss: 0.22237 | Train Accs: 0.96811 | Valid Accs: 0.92857 | Time: 119.73 seconds\n",
      "\n",
      "**************************************************\n",
      "\n",
      "Best Validation Loss at Epoch 10\n",
      "\n",
      "**************************************************\n",
      "\n",
      "Best Validation Accs at Epoch 10\n",
      "\n",
      "**************************************************\n",
      "\n",
      "Time Taken [10 Epochs] : 20.06 minutes\n",
      "\n",
      "**************************************************\n",
      "\n"
     ]
    },
    {
     "data": {
      "image/png": "[encoded data removed]",
      "text/plain": [
       "<Figure size 432x288 with 1 Axes>"
      ]
     },
     "metadata": {
      "needs_background": "light"
     },
     "output_type": "display_data"
    },
    {
     "name": "stdout",
     "output_type": "stream",
     "text": [
      "\n",
      "**************************************************\n",
      "\n"
     ]
    },
    {
     "data": {
      "image/png": "[encoded data removed]",
      "text/plain": [
       "<Figure size 432x288 with 1 Axes>"
      ]
     },
     "metadata": {
      "needs_background": "light"
     },
     "output_type": "display_data"
    },
    {
     "name": "stdout",
     "output_type": "stream",
     "text": [
      "\n",
      "**************************************************\n",
      "\n"
     ]
    },
    {
     "data": {
      "image/png": "[encoded data removed]",
      "text/plain": [
       "<Figure size 576x432 with 1 Axes>"
      ]
     },
     "metadata": {
      "needs_background": "light"
     },
     "output_type": "display_data"
    },
    {
     "name": "stdout",
     "output_type": "stream",
     "text": [
      "\n",
      "**************************************************\n",
      "\n"
     ]
    }
   ],
   "source": [
    "fold: int = 1\n",
    "BLs: list = []\n",
    "BAs: list = []\n",
    "    \n",
    "cfg.batch_size = 16\n",
    "cfg.epochs = 10\n",
    "    \n",
    "for tr_idx, va_idx in StratifiedKFold(n_splits=cfg.n_splits, random_state=cfg.seed, shuffle=True).split(filepaths, labels):\n",
    "\n",
    "    tr_filepaths, va_filepaths = filepaths[tr_idx], filepaths[va_idx] \n",
    "    tr_labels, va_labels       = labels[tr_idx], labels[va_idx]\n",
    "\n",
    "    tr_data_setup = DS(\n",
    "        filepaths=tr_filepaths, \n",
    "        labels=tr_labels.reshape(-1, 1),\n",
    "        size=cfg.size,\n",
    "        transform=cfg.train_transform\n",
    "    )\n",
    "    \n",
    "    va_data_setup = DS(\n",
    "        filepaths=va_filepaths, \n",
    "        labels=va_labels.reshape(-1, 1),\n",
    "        size=cfg.size,\n",
    "        transform=cfg.train_transform\n",
    "    )\n",
    "\n",
    "    dataloaders = {\n",
    "        \"train\" : DL(tr_data_setup, batch_size=cfg.batch_size, shuffle=True, generator=torch.manual_seed(cfg.seed)),\n",
    "        \"valid\" : DL(va_data_setup, batch_size=cfg.batch_size, shuffle=False),\n",
    "    }\n",
    "\n",
    "    cfg.steps_per_epoch=len(dataloaders[\"train\"])\n",
    "    \n",
    "    torch.manual_seed(cfg.seed)\n",
    "    model = Model().to(cfg.device)\n",
    "\n",
    "    optimizer = optim.Adam([p for p in model.parameters() if p.requires_grad], lr=cfg.lr, weight_decay=cfg.wd)\n",
    "    # optimizer = optim.AdamW([p for p in model.parameters() if p.requires_grad], lr=cfg.lr, weight_decay=cfg.wd)\n",
    "    # optimizer = optim.SGD([p for p in model.parameters() if p.requires_grad], lr=cfg.lr, weight_decay=cfg.wd, momentum=0.9)\n",
    "\n",
    "    scheduler_oclr = optim.lr_scheduler.OneCycleLR(\n",
    "        optimizer=optimizer, \n",
    "        max_lr=cfg.max_lr, \n",
    "        epochs=cfg.epochs, \n",
    "        steps_per_epoch=cfg.steps_per_epoch,\n",
    "        pct_start=cfg.pct_start, \n",
    "        div_factor=cfg.div_factor, \n",
    "        final_div_factor=cfg.final_div_factor\n",
    "    )\n",
    "\n",
    "    # scheduler_rlrop = optim.lr_scheduler.ReduceLROnPlateau(\n",
    "    #     optimizer=optimizer,\n",
    "    #     patience=cfg.patience,\n",
    "    #     eps=cfg.eps,\n",
    "    #     verbose=True\n",
    "    # )\n",
    "\n",
    "    # scheduler_oclr = None\n",
    "    scheduler_rlrop = None\n",
    "\n",
    "\n",
    "    L, A, LR, BL, BA, _, _, _, _ = fit(\n",
    "        model=model, \n",
    "        optimizer=optimizer, \n",
    "        scheduler_oclr=scheduler_oclr,\n",
    "        scheduler_rlrop=scheduler_rlrop,\n",
    "        epochs=cfg.epochs, \n",
    "        early_stopping_patience=cfg.early_stopping, \n",
    "        dataloaders=dataloaders, \n",
    "        device=cfg.device,\n",
    "        save_path=cfg.save_path,\n",
    "        fold=fold,\n",
    "        verbose=True\n",
    "    )\n",
    "\n",
    "\n",
    "    breaker()\n",
    "    show_loss_graphs(L)\n",
    "    breaker()\n",
    "    show_accuracy_graphs(A)\n",
    "    breaker()\n",
    "    if scheduler_oclr:\n",
    "        show_lr_graph(LR)\n",
    "        breaker()\n",
    "    \n",
    "    BLs.append(BL)\n",
    "    BAs.append(BA)\n",
    "    \n",
    "    fold += 1"
   ]
  },
  {
   "cell_type": "markdown",
   "id": "fa9a307f",
   "metadata": {
    "papermill": {
     "duration": 0.017014,
     "end_time": "2022-11-30T12:23:22.813179",
     "exception": false,
     "start_time": "2022-11-30T12:23:22.796165",
     "status": "completed"
    },
    "tags": []
   },
   "source": [
    "### **Best Model**"
   ]
  },
  {
   "cell_type": "code",
   "execution_count": 10,
   "id": "d53c08f2",
   "metadata": {
    "execution": {
     "iopub.execute_input": "2022-11-30T12:23:22.854021Z",
     "iopub.status.busy": "2022-11-30T12:23:22.853613Z",
     "iopub.status.idle": "2022-11-30T12:23:22.862893Z",
     "shell.execute_reply": "2022-11-30T12:23:22.861958Z"
    },
    "papermill": {
     "duration": 0.03108,
     "end_time": "2022-11-30T12:23:22.864835",
     "exception": false,
     "start_time": "2022-11-30T12:23:22.833755",
     "status": "completed"
    },
    "tags": []
   },
   "outputs": [
    {
     "name": "stdout",
     "output_type": "stream",
     "text": [
      "\n",
      "**************************************************\n",
      "\n",
      "Best Loss Model Fold     : 4\n",
      "Best Accuracy Model Fold : 4\n",
      "\n",
      "**************************************************\n",
      "\n"
     ]
    }
   ],
   "source": [
    "BL = np.inf\n",
    "for i in range(len(BLs)):\n",
    "    if BLs[i][\"valid\"] < BL:\n",
    "        BL = BLs[i][\"valid\"]\n",
    "        best_loss_index = i\n",
    "\n",
    "        \n",
    "BA = 0.0\n",
    "for i in range(len(BAs)):\n",
    "    if BAs[i][\"valid\"] > BA:\n",
    "        BA = BAs[i][\"valid\"]\n",
    "        best_accs_index = i\n",
    "\n",
    "breaker()\n",
    "print(f\"Best Loss Model Fold     : {best_loss_index + 1}\")\n",
    "print(f\"Best Accuracy Model Fold : {best_accs_index + 1}\")\n",
    "breaker()"
   ]
  }
 ],
 "metadata": {
  "kernelspec": {
   "display_name": "Python 3",
   "language": "python",
   "name": "python3"
  },
  "language_info": {
   "codemirror_mode": {
    "name": "ipython",
    "version": 3
   },
   "file_extension": ".py",
   "mimetype": "text/x-python",
   "name": "python",
   "nbconvert_exporter": "python",
   "pygments_lexer": "ipython3",
   "version": "3.7.12"
  },
  "papermill": {
   "default_parameters": {},
   "duration": 6097.155712,
   "end_time": "2022-11-30T12:23:25.702527",
   "environment_variables": {},
   "exception": null,
   "input_path": "__notebook__.ipynb",
   "output_path": "__notebook__.ipynb",
   "parameters": {},
   "start_time": "2022-11-30T10:41:48.546815",
   "version": "2.3.4"
  }
 },
 "nbformat": 4,
 "nbformat_minor": 5
}
