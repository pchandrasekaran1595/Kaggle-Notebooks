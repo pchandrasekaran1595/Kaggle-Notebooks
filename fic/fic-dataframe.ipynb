{
 "cells": [
  {
   "cell_type": "code",
   "execution_count": 1,
   "id": "f4df1049",
   "metadata": {
    "_cell_guid": "b1076dfc-b9ad-4769-8c92-a6c4dae69d19",
    "_uuid": "8f2839f25d086af736a60e9eeb907d3b93b6e0e5",
    "execution": {
     "iopub.execute_input": "2022-11-20T05:50:55.342720Z",
     "iopub.status.busy": "2022-11-20T05:50:55.342302Z",
     "iopub.status.idle": "2022-11-20T05:50:55.532052Z",
     "shell.execute_reply": "2022-11-20T05:50:55.531083Z"
    },
    "papermill": {
     "duration": 0.196775,
     "end_time": "2022-11-20T05:50:55.535237",
     "exception": false,
     "start_time": "2022-11-20T05:50:55.338462",
     "status": "completed"
    },
    "tags": []
   },
   "outputs": [],
   "source": [
    "import os\n",
    "import cv2\n",
    "import numpy as np\n",
    "import pandas as pd\n",
    "\n",
    "BASE_PATH: str = \"../input/5-flowers-image-classification/train\"\n",
    "\n",
    "LABELS: dict = {\n",
    "    0 : \"Daisy\",\n",
    "    1 : \"Dandelion\",\n",
    "    2 : \"Rose\",\n",
    "    3 : \"Sunflower\",\n",
    "    4 : \"Tulip\"\n",
    "}"
   ]
  },
  {
   "cell_type": "code",
   "execution_count": 2,
   "id": "c267a9b0",
   "metadata": {
    "execution": {
     "iopub.execute_input": "2022-11-20T05:50:55.540642Z",
     "iopub.status.busy": "2022-11-20T05:50:55.539835Z",
     "iopub.status.idle": "2022-11-20T05:50:55.550982Z",
     "shell.execute_reply": "2022-11-20T05:50:55.550170Z"
    },
    "papermill": {
     "duration": 0.015847,
     "end_time": "2022-11-20T05:50:55.553146",
     "exception": false,
     "start_time": "2022-11-20T05:50:55.537299",
     "status": "completed"
    },
    "tags": []
   },
   "outputs": [],
   "source": [
    "df: pd.DataFrame = pd.DataFrame(data=None, columns=[\"filepaths\", \"labels\"])   "
   ]
  },
  {
   "cell_type": "code",
   "execution_count": 3,
   "id": "a92391e8",
   "metadata": {
    "execution": {
     "iopub.execute_input": "2022-11-20T05:50:55.557805Z",
     "iopub.status.busy": "2022-11-20T05:50:55.557223Z",
     "iopub.status.idle": "2022-11-20T05:50:55.886507Z",
     "shell.execute_reply": "2022-11-20T05:50:55.885615Z"
    },
    "papermill": {
     "duration": 0.334196,
     "end_time": "2022-11-20T05:50:55.888959",
     "exception": false,
     "start_time": "2022-11-20T05:50:55.554763",
     "status": "completed"
    },
    "tags": []
   },
   "outputs": [],
   "source": [
    "filepaths: list = []\n",
    "labels: list = []\n",
    "\n",
    "i: int = 0\n",
    "for folder in sorted(os.listdir(f\"{BASE_PATH}\")):\n",
    "    for filename in os.listdir(f\"{BASE_PATH}/{folder}\"):\n",
    "        filepaths.append(os.path.join(f\"{BASE_PATH}/{folder}\", filename))\n",
    "        labels.append(i)\n",
    "    i += 1\n",
    "\n",
    "df.filepaths = filepaths\n",
    "df.labels = labels\n",
    "df.to_csv(\"train.csv\", index=False)"
   ]
  }
 ],
 "metadata": {
  "kernelspec": {
   "display_name": "Python 3",
   "language": "python",
   "name": "python3"
  },
  "language_info": {
   "codemirror_mode": {
    "name": "ipython",
    "version": 3
   },
   "file_extension": ".py",
   "mimetype": "text/x-python",
   "name": "python",
   "nbconvert_exporter": "python",
   "pygments_lexer": "ipython3",
   "version": "3.7.12"
  },
  "papermill": {
   "default_parameters": {},
   "duration": 8.842781,
   "end_time": "2022-11-20T05:50:56.410654",
   "environment_variables": {},
   "exception": null,
   "input_path": "__notebook__.ipynb",
   "output_path": "__notebook__.ipynb",
   "parameters": {},
   "start_time": "2022-11-20T05:50:47.567873",
   "version": "2.3.4"
  }
 },
 "nbformat": 4,
 "nbformat_minor": 5
}
