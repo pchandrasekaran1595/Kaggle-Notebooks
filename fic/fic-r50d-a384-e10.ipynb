{
 "cells": [
  {
   "cell_type": "markdown",
   "id": "9522ce7d",
   "metadata": {
    "_cell_guid": "b1076dfc-b9ad-4769-8c92-a6c4dae69d19",
    "_uuid": "8f2839f25d086af736a60e9eeb907d3b93b6e0e5",
    "papermill": {
     "duration": 0.005024,
     "end_time": "2022-11-20T19:35:04.911393",
     "exception": false,
     "start_time": "2022-11-20T19:35:04.906369",
     "status": "completed"
    },
    "tags": []
   },
   "source": [
    "##### **Setup**"
   ]
  },
  {
   "cell_type": "code",
   "execution_count": 1,
   "id": "ab7f1df7",
   "metadata": {
    "execution": {
     "iopub.execute_input": "2022-11-20T19:35:04.922257Z",
     "iopub.status.busy": "2022-11-20T19:35:04.921321Z",
     "iopub.status.idle": "2022-11-20T19:35:15.598772Z",
     "shell.execute_reply": "2022-11-20T19:35:15.597680Z"
    },
    "papermill": {
     "duration": 10.685252,
     "end_time": "2022-11-20T19:35:15.601166",
     "exception": false,
     "start_time": "2022-11-20T19:35:04.915914",
     "status": "completed"
    },
    "tags": []
   },
   "outputs": [
    {
     "name": "stderr",
     "output_type": "stream",
     "text": [
      "WARNING: Running pip as the 'root' user can result in broken permissions and conflicting behaviour with the system package manager. It is recommended to use a virtual environment instead: https://pip.pypa.io/warnings/venv\n"
     ]
    }
   ],
   "source": [
    "%%bash\n",
    "pip install timm -q"
   ]
  },
  {
   "cell_type": "markdown",
   "id": "26921245",
   "metadata": {
    "papermill": {
     "duration": 0.003878,
     "end_time": "2022-11-20T19:35:15.609393",
     "exception": false,
     "start_time": "2022-11-20T19:35:15.605515",
     "status": "completed"
    },
    "tags": []
   },
   "source": [
    "### **Library Imports**"
   ]
  },
  {
   "cell_type": "code",
   "execution_count": 2,
   "id": "0fd5b128",
   "metadata": {
    "execution": {
     "iopub.execute_input": "2022-11-20T19:35:15.619296Z",
     "iopub.status.busy": "2022-11-20T19:35:15.618984Z",
     "iopub.status.idle": "2022-11-20T19:35:19.603721Z",
     "shell.execute_reply": "2022-11-20T19:35:19.602536Z"
    },
    "papermill": {
     "duration": 3.993333,
     "end_time": "2022-11-20T19:35:19.606767",
     "exception": false,
     "start_time": "2022-11-20T19:35:15.613434",
     "status": "completed"
    },
    "tags": []
   },
   "outputs": [],
   "source": [
    "import os\n",
    "import re\n",
    "import cv2\n",
    "import timm\n",
    "import torch\n",
    "import numpy as np\n",
    "import pandas as pd\n",
    "import matplotlib.pyplot as plt\n",
    "\n",
    "from time import time\n",
    "from typing import Union\n",
    "from torch import nn, optim\n",
    "from torch.utils.data import Dataset\n",
    "from torch.utils.data import DataLoader as DL\n",
    "from torchvision import models, transforms\n",
    "\n",
    "from sklearn.model_selection import StratifiedKFold"
   ]
  },
  {
   "cell_type": "markdown",
   "id": "0c5e3615",
   "metadata": {
    "papermill": {
     "duration": 0.004115,
     "end_time": "2022-11-20T19:35:19.615604",
     "exception": false,
     "start_time": "2022-11-20T19:35:19.611489",
     "status": "completed"
    },
    "tags": []
   },
   "source": [
    "### **Utilities and Helpers**"
   ]
  },
  {
   "cell_type": "code",
   "execution_count": 3,
   "id": "640e63dd",
   "metadata": {
    "execution": {
     "iopub.execute_input": "2022-11-20T19:35:19.626080Z",
     "iopub.status.busy": "2022-11-20T19:35:19.625450Z",
     "iopub.status.idle": "2022-11-20T19:35:19.640499Z",
     "shell.execute_reply": "2022-11-20T19:35:19.639604Z"
    },
    "papermill": {
     "duration": 0.022974,
     "end_time": "2022-11-20T19:35:19.642804",
     "exception": false,
     "start_time": "2022-11-20T19:35:19.619830",
     "status": "completed"
    },
    "tags": []
   },
   "outputs": [],
   "source": [
    "SEED = 42\n",
    "SIZE = 384\n",
    "\n",
    "\n",
    "def breaker(num: int=50, char: str=\"*\") -> None:\n",
    "    print(\"\\n\" + num*char + \"\\n\")\n",
    "\n",
    "    \n",
    "def get_image(path: str, size: int=224) -> np.ndarray:\n",
    "    image = cv2.imread(path, cv2.IMREAD_COLOR)\n",
    "    image = cv2.cvtColor(src=image, code=cv2.COLOR_BGR2RGB)\n",
    "    return cv2.resize(src=image, dsize=(size, size), interpolation=cv2.INTER_AREA)\n",
    "\n",
    "    \n",
    "def show_loss_graphs(L: list) -> None:\n",
    "    TL, VL = [], []\n",
    "    for i in range(len(L)):\n",
    "        TL.append(L[i][\"train\"])\n",
    "        VL.append(L[i][\"valid\"])\n",
    "    x_Axis = np.arange(1, len(TL) + 1)\n",
    "    plt.figure()\n",
    "    plt.plot(x_Axis, TL, \"r\", label=\"Train\")\n",
    "    plt.plot(x_Axis, VL, \"b\", label=\"Valid\")\n",
    "    plt.legend()\n",
    "    plt.grid()\n",
    "    plt.title(\"Loss Graph\")\n",
    "    plt.show()\n",
    "\n",
    "    \n",
    "def show_accuracy_graphs(A: list) -> None:\n",
    "    TA, VA = [], []\n",
    "    for i in range(len(A)):\n",
    "        TA.append(A[i][\"train\"])\n",
    "        VA.append(A[i][\"valid\"])\n",
    "    x_Axis = np.arange(1, len(TA) + 1)\n",
    "    plt.figure()\n",
    "    plt.plot(x_Axis, TA, \"r\", label=\"Train\")\n",
    "    plt.plot(x_Axis, VA, \"b\", label=\"Valid\")\n",
    "    plt.legend()\n",
    "    plt.grid()\n",
    "    plt.title(\"Accuracy Graph\")\n",
    "    plt.show()\n",
    "    \n",
    "\n",
    "def show_lr_graph(LR: list) -> None:\n",
    "    x_Axis = [i+1 for i in range(len(LR))]\n",
    "    plt.figure(figsize=(8, 6))\n",
    "    plt.plot(x_Axis, LR, \"rx\")\n",
    "    plt.grid()\n",
    "    plt.show()"
   ]
  },
  {
   "cell_type": "markdown",
   "id": "9d75d633",
   "metadata": {
    "papermill": {
     "duration": 0.004116,
     "end_time": "2022-11-20T19:35:19.651427",
     "exception": false,
     "start_time": "2022-11-20T19:35:19.647311",
     "status": "completed"
    },
    "tags": []
   },
   "source": [
    "### **Configuration**"
   ]
  },
  {
   "cell_type": "code",
   "execution_count": 4,
   "id": "a3ae8b4d",
   "metadata": {
    "execution": {
     "iopub.execute_input": "2022-11-20T19:35:19.662075Z",
     "iopub.status.busy": "2022-11-20T19:35:19.661409Z",
     "iopub.status.idle": "2022-11-20T19:35:19.739400Z",
     "shell.execute_reply": "2022-11-20T19:35:19.738440Z"
    },
    "papermill": {
     "duration": 0.085574,
     "end_time": "2022-11-20T19:35:19.741641",
     "exception": false,
     "start_time": "2022-11-20T19:35:19.656067",
     "status": "completed"
    },
    "tags": []
   },
   "outputs": [],
   "source": [
    "class CFG(object):\n",
    "    def __init__(self, \n",
    "                 seed: int = 42,\n",
    "                 size: int = 224,\n",
    "                 n_splits: int = 5,\n",
    "                 batch_size: int = 16,\n",
    "                 epochs: int = 25,\n",
    "                 early_stopping: int = 5,\n",
    "                 lr: float = 1e-4,\n",
    "                 wd: float = 0.0,\n",
    "                 max_lr: float = 1e-3,\n",
    "                 pct_start: float = 0.2,\n",
    "                 steps_per_epoch: int = 100,\n",
    "                 div_factor: int = 1e3, \n",
    "                 final_div_factor: float = 1e3,\n",
    "                 ):\n",
    "        self.seed = seed\n",
    "        self.size = size\n",
    "        self.n_splits = n_splits\n",
    "        self.batch_size = batch_size\n",
    "        self.epochs = epochs\n",
    "        self.early_stopping = early_stopping\n",
    "        self.lr = lr\n",
    "        self.wd = wd\n",
    "        self.max_lr = max_lr\n",
    "        self.pct_start = pct_start\n",
    "        self.steps_per_epoch = steps_per_epoch\n",
    "        self.div_factor = div_factor\n",
    "        self.final_div_factor = final_div_factor\n",
    "        self.device = torch.device(\"cuda\" if torch.cuda.is_available() else \"cpu\")\n",
    "        \n",
    "        if self.size == 224:\n",
    "            self.train_transform = transforms.Compose([\n",
    "                transforms.ToTensor(),\n",
    "                transforms.Normalize([0.45818, 0.41879, 0.29899], [0.24524, 0.21704, 0.22208]),\n",
    "                transforms.RandomAffine(degrees=(-45, 45), translate=(0.15, 0.15), scale=(0.5, 1.5)),\n",
    "                transforms.RandomHorizontalFlip(p=0.25),\n",
    "                transforms.RandomVerticalFlip(p=0.25),\n",
    "            ])\n",
    "            self.valid_transform = transforms.Compose([\n",
    "                transforms.ToTensor(),\n",
    "                transforms.Normalize([0.45818, 0.41879, 0.29899], [0.24524, 0.21704, 0.22208]),\n",
    "            ])\n",
    "        \n",
    "        if self.size == 384:\n",
    "            self.train_transform = transforms.Compose([\n",
    "                transforms.ToTensor(),\n",
    "                transforms.Normalize([0.45807, 0.41868, 0.29889], [0.24757, 0.21952, 0.22436]),\n",
    "                transforms.RandomAffine(degrees=(-45, 45), translate=(0.15, 0.15), scale=(0.5, 1.5)),\n",
    "                transforms.RandomHorizontalFlip(p=0.25),\n",
    "                transforms.RandomVerticalFlip(p=0.25),\n",
    "            ])\n",
    "            self.valid_transform = transforms.Compose([\n",
    "                transforms.ToTensor(),\n",
    "                transforms.Normalize([0.45807, 0.41868, 0.29889], [0.24757, 0.21952, 0.22436]),\n",
    "            ])\n",
    "        \n",
    "        if self.size == 512:\n",
    "            self.train_transform = transforms.Compose([\n",
    "                transforms.ToTensor(),\n",
    "                transforms.Normalize([0.45813, 0.41874, 0.29895], [0.24827, 0.22026, 0.22505]),\n",
    "                transforms.RandomAffine(degrees=(-45, 45), translate=(0.15, 0.15), scale=(0.5, 1.5)),\n",
    "                transforms.RandomHorizontalFlip(p=0.25),\n",
    "                transforms.RandomVerticalFlip(p=0.25),\n",
    "            ])\n",
    "            self.valid_transform = transforms.Compose([\n",
    "                transforms.ToTensor(),\n",
    "                transforms.Normalize([0.45813, 0.41874, 0.29895], [0.24827, 0.22026, 0.22505]),\n",
    "            ])\n",
    "                                \n",
    "        self.save_path = \"saves\"\n",
    "        if not os.path.exists(self.save_path): os.makedirs(self.save_path)\n",
    "    \n",
    "cfg = CFG(\n",
    "    seed=SEED, \n",
    "    size=SIZE\n",
    ")"
   ]
  },
  {
   "cell_type": "markdown",
   "id": "a1f80217",
   "metadata": {
    "papermill": {
     "duration": 0.003972,
     "end_time": "2022-11-20T19:35:19.750052",
     "exception": false,
     "start_time": "2022-11-20T19:35:19.746080",
     "status": "completed"
    },
    "tags": []
   },
   "source": [
    "### **Dataset Template**"
   ]
  },
  {
   "cell_type": "code",
   "execution_count": 5,
   "id": "d4348d5c",
   "metadata": {
    "execution": {
     "iopub.execute_input": "2022-11-20T19:35:19.760545Z",
     "iopub.status.busy": "2022-11-20T19:35:19.760199Z",
     "iopub.status.idle": "2022-11-20T19:35:19.769647Z",
     "shell.execute_reply": "2022-11-20T19:35:19.768582Z"
    },
    "papermill": {
     "duration": 0.017578,
     "end_time": "2022-11-20T19:35:19.772024",
     "exception": false,
     "start_time": "2022-11-20T19:35:19.754446",
     "status": "completed"
    },
    "tags": []
   },
   "outputs": [],
   "source": [
    "class DS(Dataset):\n",
    "    def __init__(\n",
    "        self, \n",
    "        filepaths: np.ndarray, \n",
    "        size: int,\n",
    "        labels: Union[np.ndarray, None]=None, \n",
    "        transform=None\n",
    "    ):\n",
    "        \n",
    "        self.filepaths = filepaths\n",
    "        self.labels = labels\n",
    "        self.size = size\n",
    "        self.transform = transform\n",
    "    \n",
    "    def __len__(self):\n",
    "        return self.filepaths.shape[0]\n",
    "    \n",
    "    def __getitem__(self, idx):\n",
    "        image = get_image(self.filepaths[idx], self.size)\n",
    "        if self.labels is None:\n",
    "            return self.transform(image)\n",
    "        return self.transform(image), torch.LongTensor(self.labels[idx])"
   ]
  },
  {
   "cell_type": "markdown",
   "id": "1c20b40f",
   "metadata": {
    "papermill": {
     "duration": 0.004467,
     "end_time": "2022-11-20T19:35:19.781523",
     "exception": false,
     "start_time": "2022-11-20T19:35:19.777056",
     "status": "completed"
    },
    "tags": []
   },
   "source": [
    "### **Model**"
   ]
  },
  {
   "cell_type": "code",
   "execution_count": 6,
   "id": "447203ed",
   "metadata": {
    "execution": {
     "iopub.execute_input": "2022-11-20T19:35:19.793877Z",
     "iopub.status.busy": "2022-11-20T19:35:19.792139Z",
     "iopub.status.idle": "2022-11-20T19:35:19.801502Z",
     "shell.execute_reply": "2022-11-20T19:35:19.800097Z"
    },
    "papermill": {
     "duration": 0.018237,
     "end_time": "2022-11-20T19:35:19.804491",
     "exception": false,
     "start_time": "2022-11-20T19:35:19.786254",
     "status": "completed"
    },
    "tags": []
   },
   "outputs": [],
   "source": [
    "class Model(nn.Module):\n",
    "    def __init__(self):\n",
    "        super(Model, self).__init__()\n",
    "            \n",
    "        self.model = timm.create_model(model_name=\"resnet50d\", pretrained=True)\n",
    "        self.model.fc = nn.Linear(in_features=self.model.fc.in_features, out_features=5)\n",
    "\n",
    "    def forward(self, x):\n",
    "        return nn.LogSoftmax(dim=1)(self.model(x))"
   ]
  },
  {
   "cell_type": "markdown",
   "id": "80ac8d75",
   "metadata": {
    "papermill": {
     "duration": 0.004597,
     "end_time": "2022-11-20T19:35:19.814162",
     "exception": false,
     "start_time": "2022-11-20T19:35:19.809565",
     "status": "completed"
    },
    "tags": []
   },
   "source": [
    "### **Fit and Predict**"
   ]
  },
  {
   "cell_type": "code",
   "execution_count": 7,
   "id": "741cad91",
   "metadata": {
    "execution": {
     "iopub.execute_input": "2022-11-20T19:35:19.826187Z",
     "iopub.status.busy": "2022-11-20T19:35:19.825470Z",
     "iopub.status.idle": "2022-11-20T19:35:19.851378Z",
     "shell.execute_reply": "2022-11-20T19:35:19.850348Z"
    },
    "papermill": {
     "duration": 0.034738,
     "end_time": "2022-11-20T19:35:19.853726",
     "exception": false,
     "start_time": "2022-11-20T19:35:19.818988",
     "status": "completed"
    },
    "tags": []
   },
   "outputs": [],
   "source": [
    "def fit(\n",
    "    model=None,\n",
    "    optimizer=None, \n",
    "    scheduler_rlrop=None,\n",
    "    scheduler_oclr=None,\n",
    "    epochs=None, \n",
    "    early_stopping_patience=None, \n",
    "    dataloaders=None, \n",
    "    fold=None, \n",
    "    save_path=None,\n",
    "    device=None,\n",
    "    verbose=False\n",
    ") -> tuple:\n",
    "    \n",
    "    def get_accuracy(y_pred, y_true):\n",
    "        y_pred = torch.argmax(y_pred, dim=1)\n",
    "        return torch.count_nonzero(y_pred == y_true).item() / len(y_pred)\n",
    "    \n",
    "    \n",
    "    if verbose:\n",
    "        breaker()\n",
    "        if fold: print(f\"Training Fold {fold}...\")\n",
    "        else: print(\"Training ...\")\n",
    "        breaker()\n",
    "        \n",
    "    bestLoss: dict = {\"train\" : np.inf, \"valid\" : np.inf} \n",
    "    bestAccs: dict = {\"train\" : 0.0, \"valid\" : 0.0}\n",
    "    \n",
    "    Losses: list = []\n",
    "    Accuracies: list = [] \n",
    "    LRs: list = []\n",
    "        \n",
    "    if fold: \n",
    "        ble_name = f\"ble_state_fold_{fold}.pt\"\n",
    "        bae_name = f\"bae_state_fold_{fold}.pt\"\n",
    "    else: \n",
    "        ble_name = f\"ble_state.pt\"\n",
    "        bae_name = f\"bae_state.pt\"\n",
    "        \n",
    "    start_time = time()\n",
    "    for e in range(epochs):\n",
    "        e_st = time()\n",
    "        epochLoss: dict = {\"train\" : 0.0, \"valid\" : 0.0} \n",
    "        epochAccs: dict = {\"train\" : 0.0, \"valid\" : 0.0}\n",
    "\n",
    "        for phase in [\"train\", \"valid\"]:\n",
    "            if phase == \"train\":\n",
    "                model.train()\n",
    "            else:\n",
    "                model.eval()\n",
    "            \n",
    "            lossPerPass: list = []\n",
    "            accsPerPass: list = []\n",
    "                \n",
    "            for X, y in dataloaders[phase]:\n",
    "                X, y = X.to(device), y.to(device).view(-1)\n",
    "\n",
    "                optimizer.zero_grad()\n",
    "                with torch.set_grad_enabled(phase == \"train\"):\n",
    "                    output = model(X)\n",
    "                    loss = torch.nn.NLLLoss()(output, y)\n",
    "                    if phase == \"train\":\n",
    "                        loss.backward()\n",
    "                        optimizer.step()\n",
    "                        if scheduler_oclr: scheduler_oclr.step()\n",
    "                lossPerPass.append(loss.item())\n",
    "                accsPerPass.append(get_accuracy(output, y))\n",
    "            epochLoss[phase] = np.mean(np.array(lossPerPass))\n",
    "            epochAccs[phase] = np.mean(np.array(accsPerPass))\n",
    "        if scheduler_oclr: LRs.append(scheduler_oclr.get_last_lr())\n",
    "        Losses.append(epochLoss)\n",
    "        Accuracies.append(epochAccs)\n",
    "        \n",
    "        if scheduler_oclr:\n",
    "            save_dict = {\"model_state_dict\"     : model.state_dict(),\n",
    "                         \"optim_state_dict\"     : optimizer.state_dict(),\n",
    "                         \"scheduler_state_dict\" : scheduler_oclr.state_dict()}\n",
    "        \n",
    "        elif scheduler_rlrop:\n",
    "            save_dict = {\"model_state_dict\"     : model.state_dict(),\n",
    "                         \"optim_state_dict\"     : optimizer.state_dict(),\n",
    "                         \"scheduler_state_dict\" : scheduler_rlrop.state_dict()}\n",
    "        \n",
    "        else:\n",
    "            save_dict = {\"model_state_dict\"     : model.state_dict(),\n",
    "                         \"optim_state_dict\"     : optimizer.state_dict()}\n",
    "        \n",
    "        if early_stopping_patience:\n",
    "            if epochLoss[\"valid\"] < bestLoss[\"valid\"]:\n",
    "                bestLoss = epochLoss\n",
    "                BLE = e + 1\n",
    "                torch.save(save_dict, os.path.join(save_path, ble_name))\n",
    "                torch.save(save_dict, os.path.join(save_path, bae_name))\n",
    "                early_stopping_step = 0\n",
    "            else:\n",
    "                early_stopping_step += 1\n",
    "                if early_stopping_step > early_stopping_patience:\n",
    "                    print(\"\\nEarly Stopping at Epoch {}\".format(e + 1))\n",
    "                    break\n",
    "        \n",
    "        if epochLoss[\"valid\"] < bestLoss[\"valid\"]:\n",
    "            bestLoss = epochLoss\n",
    "            BLE = e + 1\n",
    "            torch.save(save_dict,os.path.join(save_path, ble_name))\n",
    "        \n",
    "        if epochAccs[\"valid\"] > bestAccs[\"valid\"]:\n",
    "            bestAccs = epochAccs\n",
    "            BAE = e + 1\n",
    "            torch.save(save_dict,os.path.join(save_path, bae_name))\n",
    "        \n",
    "        if scheduler_rlrop: scheduler_rlrop.step(epochLoss[\"valid\"])\n",
    "        \n",
    "        if verbose:\n",
    "            print(\"Epoch: {} | Train Loss: {:.5f} | Valid Loss: {:.5f} |\\\n",
    " Train Accs: {:.5f} | Valid Accs: {:.5f} | Time: {:.2f} seconds\".format(e+1, \n",
    "                                                                        epochLoss[\"train\"], epochLoss[\"valid\"], \n",
    "                                                                        epochAccs[\"train\"], epochAccs[\"valid\"], \n",
    "                                                                        time()-e_st))\n",
    "\n",
    "    if verbose:                                           \n",
    "        breaker()\n",
    "        print(f\"Best Validation Loss at Epoch {BLE}\")\n",
    "        breaker()\n",
    "        print(f\"Best Validation Accs at Epoch {BAE}\")\n",
    "        breaker()\n",
    "        print(\"Time Taken [{} Epochs] : {:.2f} minutes\".format(len(Losses), (time()-start_time)/60))\n",
    "    \n",
    "    return Losses, Accuracies, LRs, bestLoss, bestAccs, BLE, BAE, ble_name, bae_name\n",
    "\n",
    "\n",
    "# def predict_batch(model=None, dataloader=None, path=None, device=None) -> np.ndarray:\n",
    "#     model.load_state_dict(torch.load(path, map_location=device)[\"model_state_dict\"])\n",
    "#     model.to(device)    \n",
    "#     model.eval()\n",
    "    \n",
    "#     y_pred = torch.zeros(1, 1).to(device)\n",
    "    \n",
    "#     for X in dataloader:\n",
    "#         X = X.to(device)\n",
    "#         with torch.no_grad():\n",
    "#             output = torch.argmax(torch.exp(model(X)), dim=1)\n",
    "#         y_pred = torch.cat((y_pred, output.view(-1, 1)), dim=0)\n",
    "    \n",
    "#     return y_pred[1:].detach().cpu().numpy()"
   ]
  },
  {
   "cell_type": "markdown",
   "id": "f3651162",
   "metadata": {
    "papermill": {
     "duration": 0.005945,
     "end_time": "2022-11-20T19:35:19.864455",
     "exception": false,
     "start_time": "2022-11-20T19:35:19.858510",
     "status": "completed"
    },
    "tags": []
   },
   "source": [
    "### **Train**"
   ]
  },
  {
   "cell_type": "code",
   "execution_count": 8,
   "id": "cabd0037",
   "metadata": {
    "execution": {
     "iopub.execute_input": "2022-11-20T19:35:19.875301Z",
     "iopub.status.busy": "2022-11-20T19:35:19.874946Z",
     "iopub.status.idle": "2022-11-20T19:35:19.913092Z",
     "shell.execute_reply": "2022-11-20T19:35:19.912050Z"
    },
    "papermill": {
     "duration": 0.046133,
     "end_time": "2022-11-20T19:35:19.915305",
     "exception": false,
     "start_time": "2022-11-20T19:35:19.869172",
     "status": "completed"
    },
    "tags": []
   },
   "outputs": [],
   "source": [
    "df = pd.read_csv(\"../input/fic-dataframe/train.csv\")\n",
    "\n",
    "filepaths = df.filepaths.copy().values\n",
    "labels = df.labels.copy().values"
   ]
  },
  {
   "cell_type": "code",
   "execution_count": 9,
   "id": "cb047f1a",
   "metadata": {
    "execution": {
     "iopub.execute_input": "2022-11-20T19:35:19.925746Z",
     "iopub.status.busy": "2022-11-20T19:35:19.925240Z",
     "iopub.status.idle": "2022-11-20T21:20:21.220004Z",
     "shell.execute_reply": "2022-11-20T21:20:21.219061Z"
    },
    "papermill": {
     "duration": 6301.302204,
     "end_time": "2022-11-20T21:20:21.222145",
     "exception": false,
     "start_time": "2022-11-20T19:35:19.919941",
     "status": "completed"
    },
    "tags": []
   },
   "outputs": [
    {
     "name": "stderr",
     "output_type": "stream",
     "text": [
      "Downloading: \"https://github.com/rwightman/pytorch-image-models/releases/download/v0.1-weights/resnet50d_ra2-464e36ba.pth\" to /root/.cache/torch/hub/checkpoints/resnet50d_ra2-464e36ba.pth\n"
     ]
    },
    {
     "name": "stdout",
     "output_type": "stream",
     "text": [
      "\n",
      "**************************************************\n",
      "\n",
      "Training Fold 1...\n",
      "\n",
      "**************************************************\n",
      "\n",
      "Epoch: 1 | Train Loss: 1.01328 | Valid Loss: 0.64409 | Train Accs: 0.60599 | Valid Accs: 0.81173 | Time: 150.34 seconds\n",
      "Epoch: 2 | Train Loss: 0.56102 | Valid Loss: 1.12661 | Train Accs: 0.80831 | Valid Accs: 0.73291 | Time: 124.48 seconds\n",
      "Epoch: 3 | Train Loss: 0.43349 | Valid Loss: 0.63116 | Train Accs: 0.84149 | Valid Accs: 0.81071 | Time: 125.79 seconds\n",
      "Epoch: 4 | Train Loss: 0.35385 | Valid Loss: 0.41047 | Train Accs: 0.87500 | Valid Accs: 0.86684 | Time: 128.06 seconds\n",
      "Epoch: 5 | Train Loss: 0.28587 | Valid Loss: 0.30141 | Train Accs: 0.89594 | Valid Accs: 0.92041 | Time: 126.14 seconds\n",
      "Epoch: 6 | Train Loss: 0.22099 | Valid Loss: 0.23531 | Train Accs: 0.92719 | Valid Accs: 0.91913 | Time: 124.42 seconds\n",
      "Epoch: 7 | Train Loss: 0.16194 | Valid Loss: 0.21877 | Train Accs: 0.94427 | Valid Accs: 0.92679 | Time: 126.43 seconds\n",
      "Epoch: 8 | Train Loss: 0.11930 | Valid Loss: 0.21391 | Train Accs: 0.96134 | Valid Accs: 0.94490 | Time: 125.28 seconds\n",
      "Epoch: 9 | Train Loss: 0.09451 | Valid Loss: 0.18610 | Train Accs: 0.96714 | Valid Accs: 0.95383 | Time: 125.88 seconds\n",
      "Epoch: 10 | Train Loss: 0.07449 | Valid Loss: 0.22294 | Train Accs: 0.97552 | Valid Accs: 0.94107 | Time: 122.83 seconds\n",
      "\n",
      "**************************************************\n",
      "\n",
      "Best Validation Loss at Epoch 9\n",
      "\n",
      "**************************************************\n",
      "\n",
      "Best Validation Accs at Epoch 9\n",
      "\n",
      "**************************************************\n",
      "\n",
      "Time Taken [10 Epochs] : 21.33 minutes\n",
      "\n",
      "**************************************************\n",
      "\n"
     ]
    },
    {
     "data": {
      "image/png": "[encoded data removed]",
      "text/plain": [
       "<Figure size 432x288 with 1 Axes>"
      ]
     },
     "metadata": {
      "needs_background": "light"
     },
     "output_type": "display_data"
    },
    {
     "name": "stdout",
     "output_type": "stream",
     "text": [
      "\n",
      "**************************************************\n",
      "\n"
     ]
    },
    {
     "data": {
      "image/png": "[encoded data removed]",
      "text/plain": [
       "<Figure size 432x288 with 1 Axes>"
      ]
     },
     "metadata": {
      "needs_background": "light"
     },
     "output_type": "display_data"
    },
    {
     "name": "stdout",
     "output_type": "stream",
     "text": [
      "\n",
      "**************************************************\n",
      "\n"
     ]
    },
    {
     "data": {
      "image/png": "[encoded data removed]",
      "text/plain": [
       "<Figure size 576x432 with 1 Axes>"
      ]
     },
     "metadata": {
      "needs_background": "light"
     },
     "output_type": "display_data"
    },
    {
     "name": "stdout",
     "output_type": "stream",
     "text": [
      "\n",
      "**************************************************\n",
      "\n",
      "\n",
      "**************************************************\n",
      "\n",
      "Training Fold 2...\n",
      "\n",
      "**************************************************\n",
      "\n",
      "Epoch: 1 | Train Loss: 1.01437 | Valid Loss: 0.40227 | Train Accs: 0.60309 | Valid Accs: 0.85791 | Time: 126.35 seconds\n",
      "Epoch: 2 | Train Loss: 0.56301 | Valid Loss: 0.72705 | Train Accs: 0.80380 | Valid Accs: 0.79056 | Time: 124.86 seconds\n",
      "Epoch: 3 | Train Loss: 0.43369 | Valid Loss: 0.51952 | Train Accs: 0.85599 | Valid Accs: 0.81760 | Time: 122.23 seconds\n",
      "Epoch: 4 | Train Loss: 0.37059 | Valid Loss: 0.31556 | Train Accs: 0.87339 | Valid Accs: 0.87832 | Time: 124.45 seconds\n",
      "Epoch: 5 | Train Loss: 0.27999 | Valid Loss: 0.33242 | Train Accs: 0.90528 | Valid Accs: 0.89872 | Time: 122.43 seconds\n",
      "Epoch: 6 | Train Loss: 0.22638 | Valid Loss: 0.25646 | Train Accs: 0.92751 | Valid Accs: 0.91301 | Time: 124.72 seconds\n",
      "Epoch: 7 | Train Loss: 0.16102 | Valid Loss: 0.20034 | Train Accs: 0.94491 | Valid Accs: 0.94260 | Time: 125.31 seconds\n",
      "Epoch: 8 | Train Loss: 0.11286 | Valid Loss: 0.17341 | Train Accs: 0.96424 | Valid Accs: 0.95153 | Time: 124.50 seconds\n",
      "Epoch: 9 | Train Loss: 0.08398 | Valid Loss: 0.16368 | Train Accs: 0.97358 | Valid Accs: 0.95918 | Time: 125.58 seconds\n",
      "Epoch: 10 | Train Loss: 0.07193 | Valid Loss: 0.15085 | Train Accs: 0.97809 | Valid Accs: 0.95536 | Time: 124.49 seconds\n",
      "\n",
      "**************************************************\n",
      "\n",
      "Best Validation Loss at Epoch 10\n",
      "\n",
      "**************************************************\n",
      "\n",
      "Best Validation Accs at Epoch 9\n",
      "\n",
      "**************************************************\n",
      "\n",
      "Time Taken [10 Epochs] : 20.75 minutes\n",
      "\n",
      "**************************************************\n",
      "\n"
     ]
    },
    {
     "data": {
      "image/png": "[encoded data removed]",
      "text/plain": [
       "<Figure size 432x288 with 1 Axes>"
      ]
     },
     "metadata": {
      "needs_background": "light"
     },
     "output_type": "display_data"
    },
    {
     "name": "stdout",
     "output_type": "stream",
     "text": [
      "\n",
      "**************************************************\n",
      "\n"
     ]
    },
    {
     "data": {
      "image/png": "[encoded data removed]",
      "text/plain": [
       "<Figure size 432x288 with 1 Axes>"
      ]
     },
     "metadata": {
      "needs_background": "light"
     },
     "output_type": "display_data"
    },
    {
     "name": "stdout",
     "output_type": "stream",
     "text": [
      "\n",
      "**************************************************\n",
      "\n"
     ]
    },
    {
     "data": {
      "image/png": "[encoded data removed]",
      "text/plain": [
       "<Figure size 576x432 with 1 Axes>"
      ]
     },
     "metadata": {
      "needs_background": "light"
     },
     "output_type": "display_data"
    },
    {
     "name": "stdout",
     "output_type": "stream",
     "text": [
      "\n",
      "**************************************************\n",
      "\n",
      "\n",
      "**************************************************\n",
      "\n",
      "Training Fold 3...\n",
      "\n",
      "**************************************************\n",
      "\n",
      "Epoch: 1 | Train Loss: 1.02967 | Valid Loss: 0.43617 | Train Accs: 0.59053 | Valid Accs: 0.85179 | Time: 124.94 seconds\n",
      "Epoch: 2 | Train Loss: 0.56130 | Valid Loss: 0.82181 | Train Accs: 0.81379 | Valid Accs: 0.71250 | Time: 122.27 seconds\n",
      "Epoch: 3 | Train Loss: 0.45454 | Valid Loss: 0.50146 | Train Accs: 0.83731 | Valid Accs: 0.82015 | Time: 122.94 seconds\n",
      "Epoch: 4 | Train Loss: 0.35963 | Valid Loss: 0.48585 | Train Accs: 0.88144 | Valid Accs: 0.84541 | Time: 126.20 seconds\n",
      "Epoch: 5 | Train Loss: 0.29751 | Valid Loss: 0.36186 | Train Accs: 0.89948 | Valid Accs: 0.88112 | Time: 127.00 seconds\n",
      "Epoch: 6 | Train Loss: 0.23238 | Valid Loss: 0.23094 | Train Accs: 0.91881 | Valid Accs: 0.92066 | Time: 129.36 seconds\n",
      "Epoch: 7 | Train Loss: 0.16530 | Valid Loss: 0.22816 | Train Accs: 0.94008 | Valid Accs: 0.92577 | Time: 128.13 seconds\n",
      "Epoch: 8 | Train Loss: 0.12102 | Valid Loss: 0.20644 | Train Accs: 0.95973 | Valid Accs: 0.94107 | Time: 124.92 seconds\n",
      "Epoch: 9 | Train Loss: 0.08402 | Valid Loss: 0.17967 | Train Accs: 0.97262 | Valid Accs: 0.95153 | Time: 125.56 seconds\n",
      "Epoch: 10 | Train Loss: 0.06522 | Valid Loss: 0.17402 | Train Accs: 0.97680 | Valid Accs: 0.95408 | Time: 126.36 seconds\n",
      "\n",
      "**************************************************\n",
      "\n",
      "Best Validation Loss at Epoch 10\n",
      "\n",
      "**************************************************\n",
      "\n",
      "Best Validation Accs at Epoch 10\n",
      "\n",
      "**************************************************\n",
      "\n",
      "Time Taken [10 Epochs] : 20.96 minutes\n",
      "\n",
      "**************************************************\n",
      "\n"
     ]
    },
    {
     "data": {
      "image/png": "[encoded data removed]",
      "text/plain": [
       "<Figure size 432x288 with 1 Axes>"
      ]
     },
     "metadata": {
      "needs_background": "light"
     },
     "output_type": "display_data"
    },
    {
     "name": "stdout",
     "output_type": "stream",
     "text": [
      "\n",
      "**************************************************\n",
      "\n"
     ]
    },
    {
     "data": {
      "image/png": "[encoded data removed]",
      "text/plain": [
       "<Figure size 432x288 with 1 Axes>"
      ]
     },
     "metadata": {
      "needs_background": "light"
     },
     "output_type": "display_data"
    },
    {
     "name": "stdout",
     "output_type": "stream",
     "text": [
      "\n",
      "**************************************************\n",
      "\n"
     ]
    },
    {
     "data": {
      "image/png": "[encoded data removed]",
      "text/plain": [
       "<Figure size 576x432 with 1 Axes>"
      ]
     },
     "metadata": {
      "needs_background": "light"
     },
     "output_type": "display_data"
    },
    {
     "name": "stdout",
     "output_type": "stream",
     "text": [
      "\n",
      "**************************************************\n",
      "\n",
      "\n",
      "**************************************************\n",
      "\n",
      "Training Fold 4...\n",
      "\n",
      "**************************************************\n",
      "\n",
      "Epoch: 1 | Train Loss: 1.00380 | Valid Loss: 0.46768 | Train Accs: 0.61340 | Valid Accs: 0.84311 | Time: 127.52 seconds\n",
      "Epoch: 2 | Train Loss: 0.57441 | Valid Loss: 0.87650 | Train Accs: 0.80541 | Valid Accs: 0.73291 | Time: 123.05 seconds\n",
      "Epoch: 3 | Train Loss: 0.47207 | Valid Loss: 0.68237 | Train Accs: 0.84117 | Valid Accs: 0.79566 | Time: 122.06 seconds\n",
      "Epoch: 4 | Train Loss: 0.36025 | Valid Loss: 0.40283 | Train Accs: 0.88434 | Valid Accs: 0.86862 | Time: 124.62 seconds\n",
      "Epoch: 5 | Train Loss: 0.28614 | Valid Loss: 0.42503 | Train Accs: 0.89820 | Valid Accs: 0.85408 | Time: 123.03 seconds\n",
      "Epoch: 6 | Train Loss: 0.25352 | Valid Loss: 0.22776 | Train Accs: 0.91302 | Valid Accs: 0.91709 | Time: 130.03 seconds\n",
      "Epoch: 7 | Train Loss: 0.17668 | Valid Loss: 0.20667 | Train Accs: 0.93976 | Valid Accs: 0.93750 | Time: 131.39 seconds\n",
      "Epoch: 8 | Train Loss: 0.12034 | Valid Loss: 0.16042 | Train Accs: 0.95844 | Valid Accs: 0.94898 | Time: 128.25 seconds\n",
      "Epoch: 9 | Train Loss: 0.09923 | Valid Loss: 0.16166 | Train Accs: 0.96682 | Valid Accs: 0.94643 | Time: 123.99 seconds\n",
      "Epoch: 10 | Train Loss: 0.08050 | Valid Loss: 0.15549 | Train Accs: 0.97326 | Valid Accs: 0.95153 | Time: 125.74 seconds\n",
      "\n",
      "**************************************************\n",
      "\n",
      "Best Validation Loss at Epoch 10\n",
      "\n",
      "**************************************************\n",
      "\n",
      "Best Validation Accs at Epoch 10\n",
      "\n",
      "**************************************************\n",
      "\n",
      "Time Taken [10 Epochs] : 20.99 minutes\n",
      "\n",
      "**************************************************\n",
      "\n"
     ]
    },
    {
     "data": {
      "image/png": "[encoded data removed]",
      "text/plain": [
       "<Figure size 432x288 with 1 Axes>"
      ]
     },
     "metadata": {
      "needs_background": "light"
     },
     "output_type": "display_data"
    },
    {
     "name": "stdout",
     "output_type": "stream",
     "text": [
      "\n",
      "**************************************************\n",
      "\n"
     ]
    },
    {
     "data": {
      "image/png": "[encoded data removed]",
      "text/plain": [
       "<Figure size 432x288 with 1 Axes>"
      ]
     },
     "metadata": {
      "needs_background": "light"
     },
     "output_type": "display_data"
    },
    {
     "name": "stdout",
     "output_type": "stream",
     "text": [
      "\n",
      "**************************************************\n",
      "\n"
     ]
    },
    {
     "data": {
      "image/png": "[encoded data removed]",
      "text/plain": [
       "<Figure size 576x432 with 1 Axes>"
      ]
     },
     "metadata": {
      "needs_background": "light"
     },
     "output_type": "display_data"
    },
    {
     "name": "stdout",
     "output_type": "stream",
     "text": [
      "\n",
      "**************************************************\n",
      "\n",
      "\n",
      "**************************************************\n",
      "\n",
      "Training Fold 5...\n",
      "\n",
      "**************************************************\n",
      "\n",
      "Epoch: 1 | Train Loss: 1.00480 | Valid Loss: 0.53211 | Train Accs: 0.60245 | Valid Accs: 0.80230 | Time: 125.42 seconds\n",
      "Epoch: 2 | Train Loss: 0.56763 | Valid Loss: 0.69367 | Train Accs: 0.80896 | Valid Accs: 0.75230 | Time: 124.05 seconds\n",
      "Epoch: 3 | Train Loss: 0.42650 | Valid Loss: 0.42364 | Train Accs: 0.84923 | Valid Accs: 0.85434 | Time: 125.18 seconds\n",
      "Epoch: 4 | Train Loss: 0.36640 | Valid Loss: 0.32320 | Train Accs: 0.87661 | Valid Accs: 0.88495 | Time: 125.78 seconds\n",
      "Epoch: 5 | Train Loss: 0.29371 | Valid Loss: 0.25827 | Train Accs: 0.89723 | Valid Accs: 0.91046 | Time: 124.89 seconds\n",
      "Epoch: 6 | Train Loss: 0.23236 | Valid Loss: 0.27883 | Train Accs: 0.92010 | Valid Accs: 0.91327 | Time: 124.00 seconds\n",
      "Epoch: 7 | Train Loss: 0.15644 | Valid Loss: 0.19342 | Train Accs: 0.94265 | Valid Accs: 0.93622 | Time: 125.78 seconds\n",
      "Epoch: 8 | Train Loss: 0.11691 | Valid Loss: 0.20321 | Train Accs: 0.96327 | Valid Accs: 0.93750 | Time: 123.74 seconds\n",
      "Epoch: 9 | Train Loss: 0.09293 | Valid Loss: 0.22552 | Train Accs: 0.96907 | Valid Accs: 0.93240 | Time: 124.06 seconds\n",
      "Epoch: 10 | Train Loss: 0.08031 | Valid Loss: 0.18027 | Train Accs: 0.97745 | Valid Accs: 0.93622 | Time: 125.98 seconds\n",
      "\n",
      "**************************************************\n",
      "\n",
      "Best Validation Loss at Epoch 10\n",
      "\n",
      "**************************************************\n",
      "\n",
      "Best Validation Accs at Epoch 8\n",
      "\n",
      "**************************************************\n",
      "\n",
      "Time Taken [10 Epochs] : 20.81 minutes\n",
      "\n",
      "**************************************************\n",
      "\n"
     ]
    },
    {
     "data": {
      "image/png": "[encoded data removed]",
      "text/plain": [
       "<Figure size 432x288 with 1 Axes>"
      ]
     },
     "metadata": {
      "needs_background": "light"
     },
     "output_type": "display_data"
    },
    {
     "name": "stdout",
     "output_type": "stream",
     "text": [
      "\n",
      "**************************************************\n",
      "\n"
     ]
    },
    {
     "data": {
      "image/png": "[encoded data removed]",
      "text/plain": [
       "<Figure size 432x288 with 1 Axes>"
      ]
     },
     "metadata": {
      "needs_background": "light"
     },
     "output_type": "display_data"
    },
    {
     "name": "stdout",
     "output_type": "stream",
     "text": [
      "\n",
      "**************************************************\n",
      "\n"
     ]
    },
    {
     "data": {
      "image/png": "[encoded data removed]",
      "text/plain": [
       "<Figure size 576x432 with 1 Axes>"
      ]
     },
     "metadata": {
      "needs_background": "light"
     },
     "output_type": "display_data"
    },
    {
     "name": "stdout",
     "output_type": "stream",
     "text": [
      "\n",
      "**************************************************\n",
      "\n"
     ]
    }
   ],
   "source": [
    "fold: int = 1\n",
    "BLs: list = []\n",
    "BAs: list = []\n",
    "    \n",
    "cfg.batch_size = 16\n",
    "cfg.epochs = 10\n",
    "    \n",
    "for tr_idx, va_idx in StratifiedKFold(n_splits=cfg.n_splits, random_state=cfg.seed, shuffle=True).split(filepaths, labels):\n",
    "\n",
    "    tr_filepaths, va_filepaths = filepaths[tr_idx], filepaths[va_idx] \n",
    "    tr_labels, va_labels       = labels[tr_idx], labels[va_idx]\n",
    "\n",
    "    tr_data_setup = DS(\n",
    "        filepaths=tr_filepaths, \n",
    "        labels=tr_labels.reshape(-1, 1),\n",
    "        size=cfg.size,\n",
    "        transform=cfg.train_transform\n",
    "    )\n",
    "    \n",
    "    va_data_setup = DS(\n",
    "        filepaths=va_filepaths, \n",
    "        labels=va_labels.reshape(-1, 1),\n",
    "        size=cfg.size,\n",
    "        transform=cfg.train_transform\n",
    "    )\n",
    "\n",
    "    dataloaders = {\n",
    "        \"train\" : DL(tr_data_setup, batch_size=cfg.batch_size, shuffle=True, generator=torch.manual_seed(cfg.seed)),\n",
    "        \"valid\" : DL(va_data_setup, batch_size=cfg.batch_size, shuffle=False),\n",
    "    }\n",
    "\n",
    "    cfg.steps_per_epoch=len(dataloaders[\"train\"])\n",
    "    \n",
    "    torch.manual_seed(cfg.seed)\n",
    "    model = Model().to(cfg.device)\n",
    "\n",
    "    optimizer = optim.Adam([p for p in model.parameters() if p.requires_grad], lr=cfg.lr, weight_decay=cfg.wd)\n",
    "    # optimizer = optim.AdamW([p for p in model.parameters() if p.requires_grad], lr=cfg.lr, weight_decay=cfg.wd)\n",
    "    # optimizer = optim.SGD([p for p in model.parameters() if p.requires_grad], lr=cfg.lr, weight_decay=cfg.wd, momentum=0.9)\n",
    "\n",
    "    scheduler_oclr = optim.lr_scheduler.OneCycleLR(\n",
    "        optimizer=optimizer, \n",
    "        max_lr=cfg.max_lr, \n",
    "        epochs=cfg.epochs, \n",
    "        steps_per_epoch=cfg.steps_per_epoch,\n",
    "        pct_start=cfg.pct_start, \n",
    "        div_factor=cfg.div_factor, \n",
    "        final_div_factor=cfg.final_div_factor\n",
    "    )\n",
    "\n",
    "    # scheduler_rlrop = optim.lr_scheduler.ReduceLROnPlateau(\n",
    "    #     optimizer=optimizer,\n",
    "    #     patience=cfg.patience,\n",
    "    #     eps=cfg.eps,\n",
    "    #     verbose=True\n",
    "    # )\n",
    "\n",
    "    # scheduler_oclr = None\n",
    "    scheduler_rlrop = None\n",
    "\n",
    "\n",
    "    L, A, LR, BL, BA, _, _, _, _ = fit(\n",
    "        model=model, \n",
    "        optimizer=optimizer, \n",
    "        scheduler_oclr=scheduler_oclr,\n",
    "        scheduler_rlrop=scheduler_rlrop,\n",
    "        epochs=cfg.epochs, \n",
    "        early_stopping_patience=cfg.early_stopping, \n",
    "        dataloaders=dataloaders, \n",
    "        device=cfg.device,\n",
    "        save_path=cfg.save_path,\n",
    "        fold=fold,\n",
    "        verbose=True\n",
    "    )\n",
    "\n",
    "\n",
    "    breaker()\n",
    "    show_loss_graphs(L)\n",
    "    breaker()\n",
    "    show_accuracy_graphs(A)\n",
    "    breaker()\n",
    "    if scheduler_oclr:\n",
    "        show_lr_graph(LR)\n",
    "        breaker()\n",
    "    \n",
    "    BLs.append(BL)\n",
    "    BAs.append(BA)\n",
    "    \n",
    "    fold += 1"
   ]
  },
  {
   "cell_type": "markdown",
   "id": "3a9f5db3",
   "metadata": {
    "papermill": {
     "duration": 0.010916,
     "end_time": "2022-11-20T21:20:21.244968",
     "exception": false,
     "start_time": "2022-11-20T21:20:21.234052",
     "status": "completed"
    },
    "tags": []
   },
   "source": [
    "### **Best Model**"
   ]
  },
  {
   "cell_type": "code",
   "execution_count": 10,
   "id": "eba15aa8",
   "metadata": {
    "execution": {
     "iopub.execute_input": "2022-11-20T21:20:21.268556Z",
     "iopub.status.busy": "2022-11-20T21:20:21.267895Z",
     "iopub.status.idle": "2022-11-20T21:20:21.274984Z",
     "shell.execute_reply": "2022-11-20T21:20:21.273878Z"
    },
    "papermill": {
     "duration": 0.022428,
     "end_time": "2022-11-20T21:20:21.278303",
     "exception": false,
     "start_time": "2022-11-20T21:20:21.255875",
     "status": "completed"
    },
    "tags": []
   },
   "outputs": [
    {
     "name": "stdout",
     "output_type": "stream",
     "text": [
      "\n",
      "**************************************************\n",
      "\n",
      "Best Loss Model Fold     : 2\n",
      "Best Accuracy Model Fold : 2\n",
      "\n",
      "**************************************************\n",
      "\n"
     ]
    }
   ],
   "source": [
    "BL = np.inf\n",
    "for i in range(len(BLs)):\n",
    "    if BLs[i][\"valid\"] < BL:\n",
    "        BL = BLs[i][\"valid\"]\n",
    "        best_loss_index = i\n",
    "\n",
    "        \n",
    "BA = 0.0\n",
    "for i in range(len(BAs)):\n",
    "    if BAs[i][\"valid\"] > BA:\n",
    "        BA = BAs[i][\"valid\"]\n",
    "        best_accs_index = i\n",
    "\n",
    "breaker()\n",
    "print(f\"Best Loss Model Fold     : {best_loss_index + 1}\")\n",
    "print(f\"Best Accuracy Model Fold : {best_accs_index + 1}\")\n",
    "breaker()"
   ]
  }
 ],
 "metadata": {
  "kernelspec": {
   "display_name": "Python 3",
   "language": "python",
   "name": "python3"
  },
  "language_info": {
   "codemirror_mode": {
    "name": "ipython",
    "version": 3
   },
   "file_extension": ".py",
   "mimetype": "text/x-python",
   "name": "python",
   "nbconvert_exporter": "python",
   "pygments_lexer": "ipython3",
   "version": "3.7.12"
  },
  "papermill": {
   "default_parameters": {},
   "duration": 6326.223622,
   "end_time": "2022-11-20T21:20:23.546874",
   "environment_variables": {},
   "exception": null,
   "input_path": "__notebook__.ipynb",
   "output_path": "__notebook__.ipynb",
   "parameters": {},
   "start_time": "2022-11-20T19:34:57.323252",
   "version": "2.3.4"
  }
 },
 "nbformat": 4,
 "nbformat_minor": 5
}
