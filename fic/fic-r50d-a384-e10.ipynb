{
 "cells": [
  {
   "cell_type": "markdown",
   "id": "102134fb",
   "metadata": {
    "_cell_guid": "b1076dfc-b9ad-4769-8c92-a6c4dae69d19",
    "_uuid": "8f2839f25d086af736a60e9eeb907d3b93b6e0e5",
    "papermill": {
     "duration": 0.005439,
     "end_time": "2022-11-20T10:01:54.579164",
     "exception": false,
     "start_time": "2022-11-20T10:01:54.573725",
     "status": "completed"
    },
    "tags": []
   },
   "source": [
    "##### **Setup**"
   ]
  },
  {
   "cell_type": "code",
   "execution_count": 1,
   "id": "9a3e1545",
   "metadata": {
    "execution": {
     "iopub.execute_input": "2022-11-20T10:01:54.589322Z",
     "iopub.status.busy": "2022-11-20T10:01:54.588801Z",
     "iopub.status.idle": "2022-11-20T10:02:04.893867Z",
     "shell.execute_reply": "2022-11-20T10:02:04.892489Z"
    },
    "papermill": {
     "duration": 10.318619,
     "end_time": "2022-11-20T10:02:04.901850",
     "exception": false,
     "start_time": "2022-11-20T10:01:54.583231",
     "status": "completed"
    },
    "tags": []
   },
   "outputs": [
    {
     "name": "stderr",
     "output_type": "stream",
     "text": [
      "WARNING: Running pip as the 'root' user can result in broken permissions and conflicting behaviour with the system package manager. It is recommended to use a virtual environment instead: https://pip.pypa.io/warnings/venv\n"
     ]
    }
   ],
   "source": [
    "%%bash\n",
    "pip install timm -q"
   ]
  },
  {
   "cell_type": "markdown",
   "id": "61456af2",
   "metadata": {
    "papermill": {
     "duration": 0.004415,
     "end_time": "2022-11-20T10:02:04.912274",
     "exception": false,
     "start_time": "2022-11-20T10:02:04.907859",
     "status": "completed"
    },
    "tags": []
   },
   "source": [
    "### **Library Imports**"
   ]
  },
  {
   "cell_type": "code",
   "execution_count": 2,
   "id": "05057649",
   "metadata": {
    "execution": {
     "iopub.execute_input": "2022-11-20T10:02:04.921576Z",
     "iopub.status.busy": "2022-11-20T10:02:04.921242Z",
     "iopub.status.idle": "2022-11-20T10:02:09.140570Z",
     "shell.execute_reply": "2022-11-20T10:02:09.139463Z"
    },
    "papermill": {
     "duration": 4.22725,
     "end_time": "2022-11-20T10:02:09.143416",
     "exception": false,
     "start_time": "2022-11-20T10:02:04.916166",
     "status": "completed"
    },
    "tags": []
   },
   "outputs": [],
   "source": [
    "import os\n",
    "import re\n",
    "import cv2\n",
    "import timm\n",
    "import torch\n",
    "import numpy as np\n",
    "import pandas as pd\n",
    "import matplotlib.pyplot as plt\n",
    "\n",
    "from time import time\n",
    "from typing import Union\n",
    "from torch import nn, optim\n",
    "from torch.utils.data import Dataset\n",
    "from torch.utils.data import DataLoader as DL\n",
    "from torchvision import models, transforms\n",
    "\n",
    "from sklearn.model_selection import StratifiedKFold"
   ]
  },
  {
   "cell_type": "markdown",
   "id": "f4574fe5",
   "metadata": {
    "papermill": {
     "duration": 0.00383,
     "end_time": "2022-11-20T10:02:09.151681",
     "exception": false,
     "start_time": "2022-11-20T10:02:09.147851",
     "status": "completed"
    },
    "tags": []
   },
   "source": [
    "### **Utilities and Helpers**"
   ]
  },
  {
   "cell_type": "code",
   "execution_count": 3,
   "id": "67e2fd54",
   "metadata": {
    "execution": {
     "iopub.execute_input": "2022-11-20T10:02:09.161254Z",
     "iopub.status.busy": "2022-11-20T10:02:09.160704Z",
     "iopub.status.idle": "2022-11-20T10:02:09.173689Z",
     "shell.execute_reply": "2022-11-20T10:02:09.172809Z"
    },
    "papermill": {
     "duration": 0.020244,
     "end_time": "2022-11-20T10:02:09.175807",
     "exception": false,
     "start_time": "2022-11-20T10:02:09.155563",
     "status": "completed"
    },
    "tags": []
   },
   "outputs": [],
   "source": [
    "SEED = 42\n",
    "SIZE = 384\n",
    "\n",
    "\n",
    "def breaker(num: int=50, char: str=\"*\") -> None:\n",
    "    print(\"\\n\" + num*char + \"\\n\")\n",
    "\n",
    "    \n",
    "def get_image(path: str, size: int=224) -> np.ndarray:\n",
    "    image = cv2.imread(path, cv2.IMREAD_COLOR)\n",
    "    image = cv2.cvtColor(src=image, code=cv2.COLOR_BGR2RGB)\n",
    "    return cv2.resize(src=image, dsize=(size, size), interpolation=cv2.INTER_AREA)\n",
    "\n",
    "    \n",
    "def show_loss_graphs(L: list) -> None:\n",
    "    TL, VL = [], []\n",
    "    for i in range(len(L)):\n",
    "        TL.append(L[i][\"train\"])\n",
    "        VL.append(L[i][\"valid\"])\n",
    "    x_Axis = np.arange(1, len(TL) + 1)\n",
    "    plt.figure()\n",
    "    plt.plot(x_Axis, TL, \"r\", label=\"Train\")\n",
    "    plt.plot(x_Axis, VL, \"b\", label=\"Valid\")\n",
    "    plt.legend()\n",
    "    plt.grid()\n",
    "    plt.title(\"Loss Graph\")\n",
    "    plt.show()\n",
    "\n",
    "    \n",
    "def show_accuracy_graphs(A: list) -> None:\n",
    "    TA, VA = [], []\n",
    "    for i in range(len(A)):\n",
    "        TA.append(A[i][\"train\"])\n",
    "        VA.append(A[i][\"valid\"])\n",
    "    x_Axis = np.arange(1, len(TA) + 1)\n",
    "    plt.figure()\n",
    "    plt.plot(x_Axis, TA, \"r\", label=\"Train\")\n",
    "    plt.plot(x_Axis, VA, \"b\", label=\"Valid\")\n",
    "    plt.legend()\n",
    "    plt.grid()\n",
    "    plt.title(\"Accuracy Graph\")\n",
    "    plt.show()\n",
    "    \n",
    "\n",
    "def show_lr_graph(LR: list) -> None:\n",
    "    x_Axis = [i+1 for i in range(len(LR))]\n",
    "    plt.figure(figsize=(8, 6))\n",
    "    plt.plot(x_Axis, LR, \"rx\")\n",
    "    plt.grid()\n",
    "    plt.show()"
   ]
  },
  {
   "cell_type": "markdown",
   "id": "aeaec8cb",
   "metadata": {
    "papermill": {
     "duration": 0.003913,
     "end_time": "2022-11-20T10:02:09.183854",
     "exception": false,
     "start_time": "2022-11-20T10:02:09.179941",
     "status": "completed"
    },
    "tags": []
   },
   "source": [
    "### **Configuration**"
   ]
  },
  {
   "cell_type": "code",
   "execution_count": 4,
   "id": "34e15a6d",
   "metadata": {
    "execution": {
     "iopub.execute_input": "2022-11-20T10:02:09.193760Z",
     "iopub.status.busy": "2022-11-20T10:02:09.193370Z",
     "iopub.status.idle": "2022-11-20T10:02:09.270865Z",
     "shell.execute_reply": "2022-11-20T10:02:09.269910Z"
    },
    "papermill": {
     "duration": 0.084979,
     "end_time": "2022-11-20T10:02:09.272897",
     "exception": false,
     "start_time": "2022-11-20T10:02:09.187918",
     "status": "completed"
    },
    "tags": []
   },
   "outputs": [],
   "source": [
    "class CFG(object):\n",
    "    def __init__(self, \n",
    "                 seed: int = 42,\n",
    "                 size: int = 224,\n",
    "                 n_splits: int = 5,\n",
    "                 batch_size: int = 16,\n",
    "                 epochs: int = 25,\n",
    "                 early_stopping: int = 5,\n",
    "                 lr: float = 1e-4,\n",
    "                 wd: float = 0.0,\n",
    "                 max_lr: float = 1e-3,\n",
    "                 pct_start: float = 0.2,\n",
    "                 steps_per_epoch: int = 100,\n",
    "                 div_factor: int = 1e3, \n",
    "                 final_div_factor: float = 1e3,\n",
    "                 ):\n",
    "        self.seed = seed\n",
    "        self.size = size\n",
    "        self.n_splits = n_splits\n",
    "        self.batch_size = batch_size\n",
    "        self.epochs = epochs\n",
    "        self.early_stopping = early_stopping\n",
    "        self.lr = lr\n",
    "        self.wd = wd\n",
    "        self.max_lr = max_lr\n",
    "        self.pct_start = pct_start\n",
    "        self.steps_per_epoch = steps_per_epoch\n",
    "        self.div_factor = div_factor\n",
    "        self.final_div_factor = final_div_factor\n",
    "        self.device = torch.device(\"cuda\" if torch.cuda.is_available() else \"cpu\")\n",
    "        \n",
    "        if self.size == 224:\n",
    "            self.train_transform = transforms.Compose([\n",
    "                transforms.ToTensor(),\n",
    "                transforms.Normalize([0.45818, 0.41879, 0.29899], [0.24524, 0.21704, 0.22208]),\n",
    "                transforms.RandomAffine(degrees=(-45, 45), translate=(0.15, 0.15), scale=(0.5, 1.5)),\n",
    "                transforms.RandomHorizontalFlip(p=0.25),\n",
    "                transforms.RandomVerticalFlip(p=0.25),\n",
    "            ])\n",
    "            self.valid_transform = transforms.Compose([\n",
    "                transforms.ToTensor(),\n",
    "                transforms.Normalize([0.45818, 0.41879, 0.29899], [0.24524, 0.21704, 0.22208]),\n",
    "            ])\n",
    "        \n",
    "        if self.size == 384:\n",
    "            self.train_transform = transforms.Compose([\n",
    "                transforms.ToTensor(),\n",
    "                transforms.Normalize([0.45807, 0.41868, 0.29889], [0.24757, 0.21952, 0.22436]),\n",
    "                transforms.RandomAffine(degrees=(-45, 45), translate=(0.15, 0.15), scale=(0.5, 1.5)),\n",
    "                transforms.RandomHorizontalFlip(p=0.25),\n",
    "                transforms.RandomVerticalFlip(p=0.25),\n",
    "            ])\n",
    "            self.valid_transform = transforms.Compose([\n",
    "                transforms.ToTensor(),\n",
    "                transforms.Normalize([0.45807, 0.41868, 0.29889], [0.24757, 0.21952, 0.22436]),\n",
    "            ])\n",
    "        \n",
    "        if self.size == 512:\n",
    "            self.train_transform = transforms.Compose([\n",
    "                transforms.ToTensor(),\n",
    "                transforms.Normalize([0.45813, 0.41874, 0.29895], [0.24827, 0.22026, 0.22505]),\n",
    "                transforms.RandomAffine(degrees=(-45, 45), translate=(0.15, 0.15), scale=(0.5, 1.5)),\n",
    "                transforms.RandomHorizontalFlip(p=0.25),\n",
    "                transforms.RandomVerticalFlip(p=0.25),\n",
    "            ])\n",
    "            self.valid_transform = transforms.Compose([\n",
    "                transforms.ToTensor(),\n",
    "                transforms.Normalize([0.45813, 0.41874, 0.29895], [0.24827, 0.22026, 0.22505]),\n",
    "            ])\n",
    "                                \n",
    "        self.save_path = \"saves\"\n",
    "        if not os.path.exists(self.save_path): os.makedirs(self.save_path)\n",
    "    \n",
    "cfg = CFG(\n",
    "    seed=SEED, \n",
    "    size=SIZE\n",
    ")"
   ]
  },
  {
   "cell_type": "markdown",
   "id": "9d5d9e4d",
   "metadata": {
    "papermill": {
     "duration": 0.003875,
     "end_time": "2022-11-20T10:02:09.281236",
     "exception": false,
     "start_time": "2022-11-20T10:02:09.277361",
     "status": "completed"
    },
    "tags": []
   },
   "source": [
    "### **Dataset Template**"
   ]
  },
  {
   "cell_type": "code",
   "execution_count": 5,
   "id": "a5961f37",
   "metadata": {
    "execution": {
     "iopub.execute_input": "2022-11-20T10:02:09.290861Z",
     "iopub.status.busy": "2022-11-20T10:02:09.290027Z",
     "iopub.status.idle": "2022-11-20T10:02:09.297116Z",
     "shell.execute_reply": "2022-11-20T10:02:09.296202Z"
    },
    "papermill": {
     "duration": 0.014011,
     "end_time": "2022-11-20T10:02:09.299134",
     "exception": false,
     "start_time": "2022-11-20T10:02:09.285123",
     "status": "completed"
    },
    "tags": []
   },
   "outputs": [],
   "source": [
    "class DS(Dataset):\n",
    "    def __init__(\n",
    "        self, \n",
    "        filepaths: np.ndarray, \n",
    "        size: int,\n",
    "        labels: Union[np.ndarray, None]=None, \n",
    "        transform=None\n",
    "    ):\n",
    "        \n",
    "        self.filepaths = filepaths\n",
    "        self.labels = labels\n",
    "        self.size = size\n",
    "        self.transform = transform\n",
    "    \n",
    "    def __len__(self):\n",
    "        return self.filepaths.shape[0]\n",
    "    \n",
    "    def __getitem__(self, idx):\n",
    "        image = get_image(self.filepaths[idx], self.size)\n",
    "        if self.labels is None:\n",
    "            return self.transform(image)\n",
    "        return self.transform(image), torch.LongTensor(self.labels[idx])"
   ]
  },
  {
   "cell_type": "markdown",
   "id": "9d851c75",
   "metadata": {
    "papermill": {
     "duration": 0.003715,
     "end_time": "2022-11-20T10:02:09.306798",
     "exception": false,
     "start_time": "2022-11-20T10:02:09.303083",
     "status": "completed"
    },
    "tags": []
   },
   "source": [
    "### **Model**"
   ]
  },
  {
   "cell_type": "code",
   "execution_count": 6,
   "id": "d7b9cd2d",
   "metadata": {
    "execution": {
     "iopub.execute_input": "2022-11-20T10:02:09.315701Z",
     "iopub.status.busy": "2022-11-20T10:02:09.315438Z",
     "iopub.status.idle": "2022-11-20T10:02:09.321207Z",
     "shell.execute_reply": "2022-11-20T10:02:09.320387Z"
    },
    "papermill": {
     "duration": 0.012483,
     "end_time": "2022-11-20T10:02:09.323111",
     "exception": false,
     "start_time": "2022-11-20T10:02:09.310628",
     "status": "completed"
    },
    "tags": []
   },
   "outputs": [],
   "source": [
    "class Model(nn.Module):\n",
    "    def __init__(self):\n",
    "        super(Model, self).__init__()\n",
    "            \n",
    "        self.model = timm.create_model(model_name=\"efficientnet_b4\", pretrained=True)\n",
    "        self.model.classifier = nn.Linear(in_features=self.model.classifier.in_features, out_features=11)\n",
    "\n",
    "    def forward(self, x):\n",
    "        return nn.LogSoftmax(dim=1)(self.model(x))"
   ]
  },
  {
   "cell_type": "markdown",
   "id": "57c686a2",
   "metadata": {
    "papermill": {
     "duration": 0.003705,
     "end_time": "2022-11-20T10:02:09.330742",
     "exception": false,
     "start_time": "2022-11-20T10:02:09.327037",
     "status": "completed"
    },
    "tags": []
   },
   "source": [
    "### **Fit and Predict**"
   ]
  },
  {
   "cell_type": "code",
   "execution_count": 7,
   "id": "7cd28105",
   "metadata": {
    "execution": {
     "iopub.execute_input": "2022-11-20T10:02:09.340213Z",
     "iopub.status.busy": "2022-11-20T10:02:09.339958Z",
     "iopub.status.idle": "2022-11-20T10:02:09.360237Z",
     "shell.execute_reply": "2022-11-20T10:02:09.359380Z"
    },
    "papermill": {
     "duration": 0.027583,
     "end_time": "2022-11-20T10:02:09.362172",
     "exception": false,
     "start_time": "2022-11-20T10:02:09.334589",
     "status": "completed"
    },
    "tags": []
   },
   "outputs": [],
   "source": [
    "def fit(\n",
    "    model=None,\n",
    "    optimizer=None, \n",
    "    scheduler_rlrop=None,\n",
    "    scheduler_oclr=None,\n",
    "    epochs=None, \n",
    "    early_stopping_patience=None, \n",
    "    dataloaders=None, \n",
    "    fold=None, \n",
    "    save_path=None,\n",
    "    device=None,\n",
    "    verbose=False\n",
    ") -> tuple:\n",
    "    \n",
    "    def get_accuracy(y_pred, y_true):\n",
    "        y_pred = torch.argmax(y_pred, dim=1)\n",
    "        return torch.count_nonzero(y_pred == y_true).item() / len(y_pred)\n",
    "    \n",
    "    \n",
    "    if verbose:\n",
    "        breaker()\n",
    "        if fold: print(f\"Training Fold {fold}...\")\n",
    "        else: print(\"Training ...\")\n",
    "        breaker()\n",
    "        \n",
    "    bestLoss: dict = {\"train\" : np.inf, \"valid\" : np.inf} \n",
    "    bestAccs: dict = {\"train\" : 0.0, \"valid\" : 0.0}\n",
    "    \n",
    "    Losses: list = []\n",
    "    Accuracies: list = [] \n",
    "    LRs: list = []\n",
    "        \n",
    "    if fold: \n",
    "        ble_name = f\"ble_state_fold_{fold}.pt\"\n",
    "        bae_name = f\"bae_state_fold_{fold}.pt\"\n",
    "    else: \n",
    "        ble_name = f\"ble_state.pt\"\n",
    "        bae_name = f\"bae_state.pt\"\n",
    "        \n",
    "    start_time = time()\n",
    "    for e in range(epochs):\n",
    "        e_st = time()\n",
    "        epochLoss: dict = {\"train\" : 0.0, \"valid\" : 0.0} \n",
    "        epochAccs: dict = {\"train\" : 0.0, \"valid\" : 0.0}\n",
    "\n",
    "        for phase in [\"train\", \"valid\"]:\n",
    "            if phase == \"train\":\n",
    "                model.train()\n",
    "            else:\n",
    "                model.eval()\n",
    "            \n",
    "            lossPerPass: list = []\n",
    "            accsPerPass: list = []\n",
    "                \n",
    "            for X, y in dataloaders[phase]:\n",
    "                X, y = X.to(device), y.to(device).view(-1)\n",
    "\n",
    "                optimizer.zero_grad()\n",
    "                with torch.set_grad_enabled(phase == \"train\"):\n",
    "                    output = model(X)\n",
    "                    loss = torch.nn.NLLLoss()(output, y)\n",
    "                    if phase == \"train\":\n",
    "                        loss.backward()\n",
    "                        optimizer.step()\n",
    "                        if scheduler_oclr: scheduler_oclr.step()\n",
    "                lossPerPass.append(loss.item())\n",
    "                accsPerPass.append(get_accuracy(output, y))\n",
    "            epochLoss[phase] = np.mean(np.array(lossPerPass))\n",
    "            epochAccs[phase] = np.mean(np.array(accsPerPass))\n",
    "        if scheduler_oclr: LRs.append(scheduler_oclr.get_last_lr())\n",
    "        Losses.append(epochLoss)\n",
    "        Accuracies.append(epochAccs)\n",
    "        \n",
    "        if scheduler_oclr:\n",
    "            save_dict = {\"model_state_dict\"     : model.state_dict(),\n",
    "                         \"optim_state_dict\"     : optimizer.state_dict(),\n",
    "                         \"scheduler_state_dict\" : scheduler_oclr.state_dict()}\n",
    "        \n",
    "        elif scheduler_rlrop:\n",
    "            save_dict = {\"model_state_dict\"     : model.state_dict(),\n",
    "                         \"optim_state_dict\"     : optimizer.state_dict(),\n",
    "                         \"scheduler_state_dict\" : scheduler_rlrop.state_dict()}\n",
    "        \n",
    "        else:\n",
    "            save_dict = {\"model_state_dict\"     : model.state_dict(),\n",
    "                         \"optim_state_dict\"     : optimizer.state_dict()}\n",
    "        \n",
    "        if early_stopping_patience:\n",
    "            if epochLoss[\"valid\"] < bestLoss[\"valid\"]:\n",
    "                bestLoss = epochLoss\n",
    "                BLE = e + 1\n",
    "                torch.save(save_dict, os.path.join(save_path, ble_name))\n",
    "                torch.save(save_dict, os.path.join(save_path, bae_name))\n",
    "                early_stopping_step = 0\n",
    "            else:\n",
    "                early_stopping_step += 1\n",
    "                if early_stopping_step > early_stopping_patience:\n",
    "                    print(\"\\nEarly Stopping at Epoch {}\".format(e + 1))\n",
    "                    break\n",
    "        \n",
    "        if epochLoss[\"valid\"] < bestLoss[\"valid\"]:\n",
    "            bestLoss = epochLoss\n",
    "            BLE = e + 1\n",
    "            torch.save(save_dict,os.path.join(save_path, ble_name))\n",
    "        \n",
    "        if epochAccs[\"valid\"] > bestAccs[\"valid\"]:\n",
    "            bestAccs = epochAccs\n",
    "            BAE = e + 1\n",
    "            torch.save(save_dict,os.path.join(save_path, bae_name))\n",
    "        \n",
    "        if scheduler_rlrop: scheduler_rlrop.step(epochLoss[\"valid\"])\n",
    "        \n",
    "        if verbose:\n",
    "            print(\"Epoch: {} | Train Loss: {:.5f} | Valid Loss: {:.5f} |\\\n",
    " Train Accs: {:.5f} | Valid Accs: {:.5f} | Time: {:.2f} seconds\".format(e+1, \n",
    "                                                                        epochLoss[\"train\"], epochLoss[\"valid\"], \n",
    "                                                                        epochAccs[\"train\"], epochAccs[\"valid\"], \n",
    "                                                                        time()-e_st))\n",
    "\n",
    "    if verbose:                                           \n",
    "        breaker()\n",
    "        print(f\"Best Validation Loss at Epoch {BLE}\")\n",
    "        breaker()\n",
    "        print(f\"Best Validation Accs at Epoch {BAE}\")\n",
    "        breaker()\n",
    "        print(\"Time Taken [{} Epochs] : {:.2f} minutes\".format(len(Losses), (time()-start_time)/60))\n",
    "    \n",
    "    return Losses, Accuracies, LRs, bestLoss, bestAccs, BLE, BAE, ble_name, bae_name\n",
    "\n",
    "\n",
    "# def predict_batch(model=None, dataloader=None, path=None, device=None) -> np.ndarray:\n",
    "#     model.load_state_dict(torch.load(path, map_location=device)[\"model_state_dict\"])\n",
    "#     model.to(device)    \n",
    "#     model.eval()\n",
    "    \n",
    "#     y_pred = torch.zeros(1, 1).to(device)\n",
    "    \n",
    "#     for X in dataloader:\n",
    "#         X = X.to(device)\n",
    "#         with torch.no_grad():\n",
    "#             output = torch.argmax(torch.exp(model(X)), dim=1)\n",
    "#         y_pred = torch.cat((y_pred, output.view(-1, 1)), dim=0)\n",
    "    \n",
    "#     return y_pred[1:].detach().cpu().numpy()"
   ]
  },
  {
   "cell_type": "markdown",
   "id": "f19af7c8",
   "metadata": {
    "papermill": {
     "duration": 0.004842,
     "end_time": "2022-11-20T10:02:09.371100",
     "exception": false,
     "start_time": "2022-11-20T10:02:09.366258",
     "status": "completed"
    },
    "tags": []
   },
   "source": [
    "### **Train**"
   ]
  },
  {
   "cell_type": "code",
   "execution_count": 8,
   "id": "34f66dc4",
   "metadata": {
    "execution": {
     "iopub.execute_input": "2022-11-20T10:02:09.380550Z",
     "iopub.status.busy": "2022-11-20T10:02:09.380020Z",
     "iopub.status.idle": "2022-11-20T10:02:09.417753Z",
     "shell.execute_reply": "2022-11-20T10:02:09.416851Z"
    },
    "papermill": {
     "duration": 0.045201,
     "end_time": "2022-11-20T10:02:09.420166",
     "exception": false,
     "start_time": "2022-11-20T10:02:09.374965",
     "status": "completed"
    },
    "tags": []
   },
   "outputs": [],
   "source": [
    "df = pd.read_csv(\"../input/fic-dataframe/train.csv\")\n",
    "\n",
    "filepaths = df.filepaths.copy().values\n",
    "labels = df.labels.copy().values"
   ]
  },
  {
   "cell_type": "code",
   "execution_count": 9,
   "id": "719f15ec",
   "metadata": {
    "execution": {
     "iopub.execute_input": "2022-11-20T10:02:09.429282Z",
     "iopub.status.busy": "2022-11-20T10:02:09.429015Z",
     "iopub.status.idle": "2022-11-20T12:11:31.107723Z",
     "shell.execute_reply": "2022-11-20T12:11:31.106655Z"
    },
    "papermill": {
     "duration": 7761.686054,
     "end_time": "2022-11-20T12:11:31.110178",
     "exception": false,
     "start_time": "2022-11-20T10:02:09.424124",
     "status": "completed"
    },
    "tags": []
   },
   "outputs": [
    {
     "name": "stderr",
     "output_type": "stream",
     "text": [
      "Downloading: \"https://github.com/rwightman/pytorch-image-models/releases/download/v0.1-weights/efficientnet_b4_ra2_320-7eb33cd5.pth\" to /root/.cache/torch/hub/checkpoints/efficientnet_b4_ra2_320-7eb33cd5.pth\n"
     ]
    },
    {
     "name": "stdout",
     "output_type": "stream",
     "text": [
      "\n",
      "**************************************************\n",
      "\n",
      "Training Fold 1...\n",
      "\n",
      "**************************************************\n",
      "\n",
      "Epoch: 1 | Train Loss: 1.50549 | Valid Loss: 0.37432 | Train Accs: 0.56927 | Valid Accs: 0.86837 | Time: 190.99 seconds\n",
      "Epoch: 2 | Train Loss: 0.32518 | Valid Loss: 0.26186 | Train Accs: 0.88950 | Valid Accs: 0.92066 | Time: 157.94 seconds\n",
      "Epoch: 3 | Train Loss: 0.22897 | Valid Loss: 0.29046 | Train Accs: 0.91849 | Valid Accs: 0.91403 | Time: 157.55 seconds\n",
      "Epoch: 4 | Train Loss: 0.16503 | Valid Loss: 0.20985 | Train Accs: 0.94781 | Valid Accs: 0.93724 | Time: 159.08 seconds\n",
      "Epoch: 5 | Train Loss: 0.11519 | Valid Loss: 0.18316 | Train Accs: 0.95941 | Valid Accs: 0.95000 | Time: 159.56 seconds\n",
      "Epoch: 6 | Train Loss: 0.08257 | Valid Loss: 0.21214 | Train Accs: 0.97262 | Valid Accs: 0.94082 | Time: 156.69 seconds\n",
      "Epoch: 7 | Train Loss: 0.03431 | Valid Loss: 0.19599 | Train Accs: 0.98905 | Valid Accs: 0.95102 | Time: 157.95 seconds\n",
      "Epoch: 8 | Train Loss: 0.02742 | Valid Loss: 0.19690 | Train Accs: 0.99130 | Valid Accs: 0.95383 | Time: 158.69 seconds\n",
      "Epoch: 9 | Train Loss: 0.02239 | Valid Loss: 0.21747 | Train Accs: 0.99291 | Valid Accs: 0.95638 | Time: 158.85 seconds\n",
      "Epoch: 10 | Train Loss: 0.01633 | Valid Loss: 0.22072 | Train Accs: 0.99452 | Valid Accs: 0.95255 | Time: 158.82 seconds\n",
      "\n",
      "**************************************************\n",
      "\n",
      "Best Validation Loss at Epoch 5\n",
      "\n",
      "**************************************************\n",
      "\n",
      "Best Validation Accs at Epoch 9\n",
      "\n",
      "**************************************************\n",
      "\n",
      "Time Taken [10 Epochs] : 26.94 minutes\n",
      "\n",
      "**************************************************\n",
      "\n"
     ]
    },
    {
     "data": {
      "image/png": "[encoded data removed]",
      "text/plain": [
       "<Figure size 432x288 with 1 Axes>"
      ]
     },
     "metadata": {
      "needs_background": "light"
     },
     "output_type": "display_data"
    },
    {
     "name": "stdout",
     "output_type": "stream",
     "text": [
      "\n",
      "**************************************************\n",
      "\n"
     ]
    },
    {
     "data": {
      "image/png": "[encoded data removed]",
      "text/plain": [
       "<Figure size 432x288 with 1 Axes>"
      ]
     },
     "metadata": {
      "needs_background": "light"
     },
     "output_type": "display_data"
    },
    {
     "name": "stdout",
     "output_type": "stream",
     "text": [
      "\n",
      "**************************************************\n",
      "\n"
     ]
    },
    {
     "data": {
      "image/png": "[encoded data removed]",
      "text/plain": [
       "<Figure size 576x432 with 1 Axes>"
      ]
     },
     "metadata": {
      "needs_background": "light"
     },
     "output_type": "display_data"
    },
    {
     "name": "stdout",
     "output_type": "stream",
     "text": [
      "\n",
      "**************************************************\n",
      "\n",
      "\n",
      "**************************************************\n",
      "\n",
      "Training Fold 2...\n",
      "\n",
      "**************************************************\n",
      "\n",
      "Epoch: 1 | Train Loss: 1.51381 | Valid Loss: 0.37198 | Train Accs: 0.57184 | Valid Accs: 0.86224 | Time: 158.31 seconds\n",
      "Epoch: 2 | Train Loss: 0.32971 | Valid Loss: 0.20120 | Train Accs: 0.88595 | Valid Accs: 0.92092 | Time: 156.87 seconds\n",
      "Epoch: 3 | Train Loss: 0.21376 | Valid Loss: 0.13666 | Train Accs: 0.92558 | Valid Accs: 0.95408 | Time: 157.71 seconds\n",
      "Epoch: 4 | Train Loss: 0.15626 | Valid Loss: 0.18096 | Train Accs: 0.94555 | Valid Accs: 0.94133 | Time: 154.81 seconds\n",
      "Epoch: 5 | Train Loss: 0.11655 | Valid Loss: 0.17859 | Train Accs: 0.96102 | Valid Accs: 0.94770 | Time: 154.16 seconds\n",
      "Epoch: 6 | Train Loss: 0.07936 | Valid Loss: 0.16790 | Train Accs: 0.97616 | Valid Accs: 0.95663 | Time: 157.67 seconds\n",
      "Epoch: 7 | Train Loss: 0.04310 | Valid Loss: 0.16740 | Train Accs: 0.98550 | Valid Accs: 0.95281 | Time: 155.05 seconds\n",
      "Epoch: 8 | Train Loss: 0.03258 | Valid Loss: 0.17344 | Train Accs: 0.99130 | Valid Accs: 0.95153 | Time: 154.41 seconds\n",
      "\n",
      "Early Stopping at Epoch 9\n",
      "\n",
      "**************************************************\n",
      "\n",
      "Best Validation Loss at Epoch 3\n",
      "\n",
      "**************************************************\n",
      "\n",
      "Best Validation Accs at Epoch 6\n",
      "\n",
      "**************************************************\n",
      "\n",
      "Time Taken [9 Epochs] : 23.40 minutes\n",
      "\n",
      "**************************************************\n",
      "\n"
     ]
    },
    {
     "data": {
      "image/png": "[encoded data removed]",
      "text/plain": [
       "<Figure size 432x288 with 1 Axes>"
      ]
     },
     "metadata": {
      "needs_background": "light"
     },
     "output_type": "display_data"
    },
    {
     "name": "stdout",
     "output_type": "stream",
     "text": [
      "\n",
      "**************************************************\n",
      "\n"
     ]
    },
    {
     "data": {
      "image/png": "[encoded data removed]",
      "text/plain": [
       "<Figure size 432x288 with 1 Axes>"
      ]
     },
     "metadata": {
      "needs_background": "light"
     },
     "output_type": "display_data"
    },
    {
     "name": "stdout",
     "output_type": "stream",
     "text": [
      "\n",
      "**************************************************\n",
      "\n"
     ]
    },
    {
     "data": {
      "image/png": "[encoded data removed]",
      "text/plain": [
       "<Figure size 576x432 with 1 Axes>"
      ]
     },
     "metadata": {
      "needs_background": "light"
     },
     "output_type": "display_data"
    },
    {
     "name": "stdout",
     "output_type": "stream",
     "text": [
      "\n",
      "**************************************************\n",
      "\n",
      "\n",
      "**************************************************\n",
      "\n",
      "Training Fold 3...\n",
      "\n",
      "**************************************************\n",
      "\n",
      "Epoch: 1 | Train Loss: 1.52406 | Valid Loss: 0.35309 | Train Accs: 0.57120 | Valid Accs: 0.85689 | Time: 156.76 seconds\n",
      "Epoch: 2 | Train Loss: 0.31412 | Valid Loss: 0.32213 | Train Accs: 0.89497 | Valid Accs: 0.91071 | Time: 155.86 seconds\n",
      "Epoch: 3 | Train Loss: 0.21037 | Valid Loss: 0.34761 | Train Accs: 0.93460 | Valid Accs: 0.91403 | Time: 156.13 seconds\n",
      "Epoch: 4 | Train Loss: 0.16422 | Valid Loss: 0.23538 | Train Accs: 0.94298 | Valid Accs: 0.94490 | Time: 157.32 seconds\n",
      "Epoch: 5 | Train Loss: 0.11060 | Valid Loss: 0.20251 | Train Accs: 0.96617 | Valid Accs: 0.94490 | Time: 158.85 seconds\n",
      "Epoch: 6 | Train Loss: 0.07466 | Valid Loss: 0.22074 | Train Accs: 0.97584 | Valid Accs: 0.94872 | Time: 154.69 seconds\n",
      "Epoch: 7 | Train Loss: 0.05051 | Valid Loss: 0.17320 | Train Accs: 0.98454 | Valid Accs: 0.95893 | Time: 156.65 seconds\n",
      "Epoch: 8 | Train Loss: 0.03355 | Valid Loss: 0.19990 | Train Accs: 0.98744 | Valid Accs: 0.95893 | Time: 156.43 seconds\n",
      "Epoch: 9 | Train Loss: 0.01969 | Valid Loss: 0.13140 | Train Accs: 0.99485 | Valid Accs: 0.96811 | Time: 155.72 seconds\n",
      "Epoch: 10 | Train Loss: 0.01828 | Valid Loss: 0.19592 | Train Accs: 0.99356 | Valid Accs: 0.95893 | Time: 154.10 seconds\n",
      "\n",
      "**************************************************\n",
      "\n",
      "Best Validation Loss at Epoch 9\n",
      "\n",
      "**************************************************\n",
      "\n",
      "Best Validation Accs at Epoch 9\n",
      "\n",
      "**************************************************\n",
      "\n",
      "Time Taken [10 Epochs] : 26.04 minutes\n",
      "\n",
      "**************************************************\n",
      "\n"
     ]
    },
    {
     "data": {
      "image/png": "[encoded data removed]",
      "text/plain": [
       "<Figure size 432x288 with 1 Axes>"
      ]
     },
     "metadata": {
      "needs_background": "light"
     },
     "output_type": "display_data"
    },
    {
     "name": "stdout",
     "output_type": "stream",
     "text": [
      "\n",
      "**************************************************\n",
      "\n"
     ]
    },
    {
     "data": {
      "image/png": "[encoded data removed]",
      "text/plain": [
       "<Figure size 432x288 with 1 Axes>"
      ]
     },
     "metadata": {
      "needs_background": "light"
     },
     "output_type": "display_data"
    },
    {
     "name": "stdout",
     "output_type": "stream",
     "text": [
      "\n",
      "**************************************************\n",
      "\n"
     ]
    },
    {
     "data": {
      "image/png": "[encoded data removed]",
      "text/plain": [
       "<Figure size 576x432 with 1 Axes>"
      ]
     },
     "metadata": {
      "needs_background": "light"
     },
     "output_type": "display_data"
    },
    {
     "name": "stdout",
     "output_type": "stream",
     "text": [
      "\n",
      "**************************************************\n",
      "\n",
      "\n",
      "**************************************************\n",
      "\n",
      "Training Fold 4...\n",
      "\n",
      "**************************************************\n",
      "\n",
      "Epoch: 1 | Train Loss: 1.51435 | Valid Loss: 0.47372 | Train Accs: 0.57249 | Valid Accs: 0.82270 | Time: 155.96 seconds\n",
      "Epoch: 2 | Train Loss: 0.32491 | Valid Loss: 0.29521 | Train Accs: 0.89207 | Valid Accs: 0.90434 | Time: 155.42 seconds\n",
      "Epoch: 3 | Train Loss: 0.23687 | Valid Loss: 0.21247 | Train Accs: 0.91527 | Valid Accs: 0.93622 | Time: 156.45 seconds\n",
      "Epoch: 4 | Train Loss: 0.16137 | Valid Loss: 0.15368 | Train Accs: 0.94362 | Valid Accs: 0.94388 | Time: 155.15 seconds\n",
      "Epoch: 5 | Train Loss: 0.11602 | Valid Loss: 0.14165 | Train Accs: 0.96102 | Valid Accs: 0.95026 | Time: 154.19 seconds\n",
      "Epoch: 6 | Train Loss: 0.08346 | Valid Loss: 0.14508 | Train Accs: 0.97455 | Valid Accs: 0.95408 | Time: 154.63 seconds\n",
      "Epoch: 7 | Train Loss: 0.04470 | Valid Loss: 0.16146 | Train Accs: 0.98776 | Valid Accs: 0.94770 | Time: 153.66 seconds\n",
      "Epoch: 8 | Train Loss: 0.02923 | Valid Loss: 0.16256 | Train Accs: 0.99162 | Valid Accs: 0.96046 | Time: 154.87 seconds\n",
      "Epoch: 9 | Train Loss: 0.02274 | Valid Loss: 0.12160 | Train Accs: 0.99227 | Valid Accs: 0.96556 | Time: 156.79 seconds\n",
      "Epoch: 10 | Train Loss: 0.01404 | Valid Loss: 0.12829 | Train Accs: 0.99517 | Valid Accs: 0.96684 | Time: 155.93 seconds\n",
      "\n",
      "**************************************************\n",
      "\n",
      "Best Validation Loss at Epoch 9\n",
      "\n",
      "**************************************************\n",
      "\n",
      "Best Validation Accs at Epoch 10\n",
      "\n",
      "**************************************************\n",
      "\n",
      "Time Taken [10 Epochs] : 25.88 minutes\n",
      "\n",
      "**************************************************\n",
      "\n"
     ]
    },
    {
     "data": {
      "image/png": "[encoded data removed]",
      "text/plain": [
       "<Figure size 432x288 with 1 Axes>"
      ]
     },
     "metadata": {
      "needs_background": "light"
     },
     "output_type": "display_data"
    },
    {
     "name": "stdout",
     "output_type": "stream",
     "text": [
      "\n",
      "**************************************************\n",
      "\n"
     ]
    },
    {
     "data": {
      "image/png": "[encoded data removed]",
      "text/plain": [
       "<Figure size 432x288 with 1 Axes>"
      ]
     },
     "metadata": {
      "needs_background": "light"
     },
     "output_type": "display_data"
    },
    {
     "name": "stdout",
     "output_type": "stream",
     "text": [
      "\n",
      "**************************************************\n",
      "\n"
     ]
    },
    {
     "data": {
      "image/png": "[encoded data removed]",
      "text/plain": [
       "<Figure size 576x432 with 1 Axes>"
      ]
     },
     "metadata": {
      "needs_background": "light"
     },
     "output_type": "display_data"
    },
    {
     "name": "stdout",
     "output_type": "stream",
     "text": [
      "\n",
      "**************************************************\n",
      "\n",
      "\n",
      "**************************************************\n",
      "\n",
      "Training Fold 5...\n",
      "\n",
      "**************************************************\n",
      "\n",
      "Epoch: 1 | Train Loss: 1.51308 | Valid Loss: 0.37092 | Train Accs: 0.57184 | Valid Accs: 0.86480 | Time: 157.19 seconds\n",
      "Epoch: 2 | Train Loss: 0.32624 | Valid Loss: 0.31855 | Train Accs: 0.88918 | Valid Accs: 0.89158 | Time: 158.23 seconds\n",
      "Epoch: 3 | Train Loss: 0.22180 | Valid Loss: 0.21312 | Train Accs: 0.92461 | Valid Accs: 0.92832 | Time: 156.01 seconds\n",
      "Epoch: 4 | Train Loss: 0.18048 | Valid Loss: 0.19126 | Train Accs: 0.93943 | Valid Accs: 0.94133 | Time: 157.55 seconds\n",
      "Epoch: 5 | Train Loss: 0.12000 | Valid Loss: 0.14237 | Train Accs: 0.95812 | Valid Accs: 0.95026 | Time: 159.81 seconds\n",
      "Epoch: 6 | Train Loss: 0.07729 | Valid Loss: 0.14399 | Train Accs: 0.97745 | Valid Accs: 0.94260 | Time: 164.16 seconds\n",
      "Epoch: 7 | Train Loss: 0.03953 | Valid Loss: 0.17071 | Train Accs: 0.98679 | Valid Accs: 0.95408 | Time: 164.77 seconds\n",
      "Epoch: 8 | Train Loss: 0.03734 | Valid Loss: 0.14014 | Train Accs: 0.98872 | Valid Accs: 0.95536 | Time: 166.51 seconds\n",
      "Epoch: 9 | Train Loss: 0.02587 | Valid Loss: 0.15997 | Train Accs: 0.99098 | Valid Accs: 0.95153 | Time: 165.53 seconds\n",
      "Epoch: 10 | Train Loss: 0.01921 | Valid Loss: 0.13593 | Train Accs: 0.99259 | Valid Accs: 0.96429 | Time: 165.56 seconds\n",
      "\n",
      "**************************************************\n",
      "\n",
      "Best Validation Loss at Epoch 10\n",
      "\n",
      "**************************************************\n",
      "\n",
      "Best Validation Accs at Epoch 10\n",
      "\n",
      "**************************************************\n",
      "\n",
      "Time Taken [10 Epochs] : 26.92 minutes\n",
      "\n",
      "**************************************************\n",
      "\n"
     ]
    },
    {
     "data": {
      "image/png": "[encoded data removed]",
      "text/plain": [
       "<Figure size 432x288 with 1 Axes>"
      ]
     },
     "metadata": {
      "needs_background": "light"
     },
     "output_type": "display_data"
    },
    {
     "name": "stdout",
     "output_type": "stream",
     "text": [
      "\n",
      "**************************************************\n",
      "\n"
     ]
    },
    {
     "data": {
      "image/png": "[encoded data removed]",
      "text/plain": [
       "<Figure size 432x288 with 1 Axes>"
      ]
     },
     "metadata": {
      "needs_background": "light"
     },
     "output_type": "display_data"
    },
    {
     "name": "stdout",
     "output_type": "stream",
     "text": [
      "\n",
      "**************************************************\n",
      "\n"
     ]
    },
    {
     "data": {
      "image/png": "[encoded data removed]",
      "text/plain": [
       "<Figure size 576x432 with 1 Axes>"
      ]
     },
     "metadata": {
      "needs_background": "light"
     },
     "output_type": "display_data"
    },
    {
     "name": "stdout",
     "output_type": "stream",
     "text": [
      "\n",
      "**************************************************\n",
      "\n"
     ]
    }
   ],
   "source": [
    "fold: int = 1\n",
    "BLs: list = []\n",
    "BAs: list = []\n",
    "    \n",
    "cfg.batch_size = 16\n",
    "cfg.epochs = 10\n",
    "    \n",
    "for tr_idx, va_idx in StratifiedKFold(n_splits=cfg.n_splits, random_state=cfg.seed, shuffle=True).split(filepaths, labels):\n",
    "\n",
    "    tr_filepaths, va_filepaths = filepaths[tr_idx], filepaths[va_idx] \n",
    "    tr_labels, va_labels       = labels[tr_idx], labels[va_idx]\n",
    "\n",
    "    tr_data_setup = DS(\n",
    "        filepaths=tr_filepaths, \n",
    "        labels=tr_labels.reshape(-1, 1),\n",
    "        size=cfg.size,\n",
    "        transform=cfg.train_transform\n",
    "    )\n",
    "    \n",
    "    va_data_setup = DS(\n",
    "        filepaths=va_filepaths, \n",
    "        labels=va_labels.reshape(-1, 1),\n",
    "        size=cfg.size,\n",
    "        transform=cfg.train_transform\n",
    "    )\n",
    "\n",
    "    dataloaders = {\n",
    "        \"train\" : DL(tr_data_setup, batch_size=cfg.batch_size, shuffle=True, generator=torch.manual_seed(cfg.seed)),\n",
    "        \"valid\" : DL(va_data_setup, batch_size=cfg.batch_size, shuffle=False),\n",
    "    }\n",
    "\n",
    "    cfg.steps_per_epoch=len(dataloaders[\"train\"])\n",
    "    \n",
    "    torch.manual_seed(cfg.seed)\n",
    "    model = Model().to(cfg.device)\n",
    "\n",
    "    optimizer = optim.Adam([p for p in model.parameters() if p.requires_grad], lr=cfg.lr, weight_decay=cfg.wd)\n",
    "    # optimizer = optim.AdamW([p for p in model.parameters() if p.requires_grad], lr=cfg.lr, weight_decay=cfg.wd)\n",
    "    # optimizer = optim.SGD([p for p in model.parameters() if p.requires_grad], lr=cfg.lr, weight_decay=cfg.wd, momentum=0.9)\n",
    "\n",
    "    scheduler_oclr = optim.lr_scheduler.OneCycleLR(\n",
    "        optimizer=optimizer, \n",
    "        max_lr=cfg.max_lr, \n",
    "        epochs=cfg.epochs, \n",
    "        steps_per_epoch=cfg.steps_per_epoch,\n",
    "        pct_start=cfg.pct_start, \n",
    "        div_factor=cfg.div_factor, \n",
    "        final_div_factor=cfg.final_div_factor\n",
    "    )\n",
    "\n",
    "    # scheduler_rlrop = optim.lr_scheduler.ReduceLROnPlateau(\n",
    "    #     optimizer=optimizer,\n",
    "    #     patience=cfg.patience,\n",
    "    #     eps=cfg.eps,\n",
    "    #     verbose=True\n",
    "    # )\n",
    "\n",
    "    # scheduler_oclr = None\n",
    "    scheduler_rlrop = None\n",
    "\n",
    "\n",
    "    L, A, LR, BL, BA, _, _, _, _ = fit(\n",
    "        model=model, \n",
    "        optimizer=optimizer, \n",
    "        scheduler_oclr=scheduler_oclr,\n",
    "        scheduler_rlrop=scheduler_rlrop,\n",
    "        epochs=cfg.epochs, \n",
    "        early_stopping_patience=cfg.early_stopping, \n",
    "        dataloaders=dataloaders, \n",
    "        device=cfg.device,\n",
    "        save_path=cfg.save_path,\n",
    "        fold=fold,\n",
    "        verbose=True\n",
    "    )\n",
    "\n",
    "\n",
    "    breaker()\n",
    "    show_loss_graphs(L)\n",
    "    breaker()\n",
    "    show_accuracy_graphs(A)\n",
    "    breaker()\n",
    "    if scheduler_oclr:\n",
    "        show_lr_graph(LR)\n",
    "        breaker()\n",
    "    \n",
    "    BLs.append(BL)\n",
    "    BAs.append(BA)\n",
    "    \n",
    "    fold += 1"
   ]
  },
  {
   "cell_type": "markdown",
   "id": "d28d96c7",
   "metadata": {
    "papermill": {
     "duration": 0.011698,
     "end_time": "2022-11-20T12:11:31.133772",
     "exception": false,
     "start_time": "2022-11-20T12:11:31.122074",
     "status": "completed"
    },
    "tags": []
   },
   "source": [
    "### **Best Model**"
   ]
  },
  {
   "cell_type": "code",
   "execution_count": 10,
   "id": "98ab1fd8",
   "metadata": {
    "execution": {
     "iopub.execute_input": "2022-11-20T12:11:31.159391Z",
     "iopub.status.busy": "2022-11-20T12:11:31.158310Z",
     "iopub.status.idle": "2022-11-20T12:11:31.170607Z",
     "shell.execute_reply": "2022-11-20T12:11:31.169654Z"
    },
    "papermill": {
     "duration": 0.027366,
     "end_time": "2022-11-20T12:11:31.172839",
     "exception": false,
     "start_time": "2022-11-20T12:11:31.145473",
     "status": "completed"
    },
    "tags": []
   },
   "outputs": [
    {
     "name": "stdout",
     "output_type": "stream",
     "text": [
      "\n",
      "**************************************************\n",
      "\n",
      "Best Loss Model Fold     : 4\n",
      "Best Accuracy Model Fold : 3\n",
      "\n",
      "**************************************************\n",
      "\n"
     ]
    }
   ],
   "source": [
    "BL = np.inf\n",
    "for i in range(len(BLs)):\n",
    "    if BLs[i][\"valid\"] < BL:\n",
    "        BL = BLs[i][\"valid\"]\n",
    "        best_loss_index = i\n",
    "\n",
    "        \n",
    "BA = 0.0\n",
    "for i in range(len(BAs)):\n",
    "    if BAs[i][\"valid\"] > BA:\n",
    "        BA = BAs[i][\"valid\"]\n",
    "        best_accs_index = i\n",
    "\n",
    "breaker()\n",
    "print(f\"Best Loss Model Fold     : {best_loss_index + 1}\")\n",
    "print(f\"Best Accuracy Model Fold : {best_accs_index + 1}\")\n",
    "breaker()"
   ]
  }
 ],
 "metadata": {
  "kernelspec": {
   "display_name": "Python 3",
   "language": "python",
   "name": "python3"
  },
  "language_info": {
   "codemirror_mode": {
    "name": "ipython",
    "version": 3
   },
   "file_extension": ".py",
   "mimetype": "text/x-python",
   "name": "python",
   "nbconvert_exporter": "python",
   "pygments_lexer": "ipython3",
   "version": "3.7.12"
  },
  "papermill": {
   "default_parameters": {},
   "duration": 7787.187781,
   "end_time": "2022-11-20T12:11:33.770036",
   "environment_variables": {},
   "exception": null,
   "input_path": "__notebook__.ipynb",
   "output_path": "__notebook__.ipynb",
   "parameters": {},
   "start_time": "2022-11-20T10:01:46.582255",
   "version": "2.3.4"
  }
 },
 "nbformat": 4,
 "nbformat_minor": 5
}
