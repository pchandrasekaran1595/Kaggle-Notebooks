{
 "cells": [
  {
   "cell_type": "markdown",
   "id": "55b9a3b7",
   "metadata": {
    "_cell_guid": "b1076dfc-b9ad-4769-8c92-a6c4dae69d19",
    "_uuid": "8f2839f25d086af736a60e9eeb907d3b93b6e0e5",
    "papermill": {
     "duration": 0.005003,
     "end_time": "2022-11-20T15:18:50.136067",
     "exception": false,
     "start_time": "2022-11-20T15:18:50.131064",
     "status": "completed"
    },
    "tags": []
   },
   "source": [
    "##### **Setup**"
   ]
  },
  {
   "cell_type": "code",
   "execution_count": 1,
   "id": "464366f6",
   "metadata": {
    "execution": {
     "iopub.execute_input": "2022-11-20T15:18:50.146348Z",
     "iopub.status.busy": "2022-11-20T15:18:50.145530Z",
     "iopub.status.idle": "2022-11-20T15:19:00.361835Z",
     "shell.execute_reply": "2022-11-20T15:19:00.360719Z"
    },
    "papermill": {
     "duration": 10.224077,
     "end_time": "2022-11-20T15:19:00.364219",
     "exception": false,
     "start_time": "2022-11-20T15:18:50.140142",
     "status": "completed"
    },
    "tags": []
   },
   "outputs": [
    {
     "name": "stderr",
     "output_type": "stream",
     "text": [
      "WARNING: Running pip as the 'root' user can result in broken permissions and conflicting behaviour with the system package manager. It is recommended to use a virtual environment instead: https://pip.pypa.io/warnings/venv\n"
     ]
    }
   ],
   "source": [
    "%%bash\n",
    "pip install timm -q"
   ]
  },
  {
   "cell_type": "markdown",
   "id": "794d53cc",
   "metadata": {
    "papermill": {
     "duration": 0.003752,
     "end_time": "2022-11-20T15:19:00.372398",
     "exception": false,
     "start_time": "2022-11-20T15:19:00.368646",
     "status": "completed"
    },
    "tags": []
   },
   "source": [
    "### **Library Imports**"
   ]
  },
  {
   "cell_type": "code",
   "execution_count": 2,
   "id": "0238c2ff",
   "metadata": {
    "execution": {
     "iopub.execute_input": "2022-11-20T15:19:00.381572Z",
     "iopub.status.busy": "2022-11-20T15:19:00.381251Z",
     "iopub.status.idle": "2022-11-20T15:19:04.061612Z",
     "shell.execute_reply": "2022-11-20T15:19:04.060445Z"
    },
    "papermill": {
     "duration": 3.687828,
     "end_time": "2022-11-20T15:19:04.064073",
     "exception": false,
     "start_time": "2022-11-20T15:19:00.376245",
     "status": "completed"
    },
    "tags": []
   },
   "outputs": [],
   "source": [
    "import os\n",
    "import re\n",
    "import cv2\n",
    "import timm\n",
    "import torch\n",
    "import numpy as np\n",
    "import pandas as pd\n",
    "import matplotlib.pyplot as plt\n",
    "\n",
    "from time import time\n",
    "from typing import Union\n",
    "from torch import nn, optim\n",
    "from torch.utils.data import Dataset\n",
    "from torch.utils.data import DataLoader as DL\n",
    "from torchvision import models, transforms\n",
    "\n",
    "from sklearn.model_selection import StratifiedKFold"
   ]
  },
  {
   "cell_type": "markdown",
   "id": "3db7a0ac",
   "metadata": {
    "papermill": {
     "duration": 0.00374,
     "end_time": "2022-11-20T15:19:04.072154",
     "exception": false,
     "start_time": "2022-11-20T15:19:04.068414",
     "status": "completed"
    },
    "tags": []
   },
   "source": [
    "### **Utilities and Helpers**"
   ]
  },
  {
   "cell_type": "code",
   "execution_count": 3,
   "id": "9329e677",
   "metadata": {
    "execution": {
     "iopub.execute_input": "2022-11-20T15:19:04.081587Z",
     "iopub.status.busy": "2022-11-20T15:19:04.081015Z",
     "iopub.status.idle": "2022-11-20T15:19:04.093190Z",
     "shell.execute_reply": "2022-11-20T15:19:04.092151Z"
    },
    "papermill": {
     "duration": 0.01949,
     "end_time": "2022-11-20T15:19:04.095565",
     "exception": false,
     "start_time": "2022-11-20T15:19:04.076075",
     "status": "completed"
    },
    "tags": []
   },
   "outputs": [],
   "source": [
    "SEED = 42\n",
    "SIZE = 384\n",
    "\n",
    "\n",
    "def breaker(num: int=50, char: str=\"*\") -> None:\n",
    "    print(\"\\n\" + num*char + \"\\n\")\n",
    "\n",
    "    \n",
    "def get_image(path: str, size: int=224) -> np.ndarray:\n",
    "    image = cv2.imread(path, cv2.IMREAD_COLOR)\n",
    "    image = cv2.cvtColor(src=image, code=cv2.COLOR_BGR2RGB)\n",
    "    return cv2.resize(src=image, dsize=(size, size), interpolation=cv2.INTER_AREA)\n",
    "\n",
    "    \n",
    "def show_loss_graphs(L: list) -> None:\n",
    "    TL, VL = [], []\n",
    "    for i in range(len(L)):\n",
    "        TL.append(L[i][\"train\"])\n",
    "        VL.append(L[i][\"valid\"])\n",
    "    x_Axis = np.arange(1, len(TL) + 1)\n",
    "    plt.figure()\n",
    "    plt.plot(x_Axis, TL, \"r\", label=\"Train\")\n",
    "    plt.plot(x_Axis, VL, \"b\", label=\"Valid\")\n",
    "    plt.legend()\n",
    "    plt.grid()\n",
    "    plt.title(\"Loss Graph\")\n",
    "    plt.show()\n",
    "\n",
    "    \n",
    "def show_accuracy_graphs(A: list) -> None:\n",
    "    TA, VA = [], []\n",
    "    for i in range(len(A)):\n",
    "        TA.append(A[i][\"train\"])\n",
    "        VA.append(A[i][\"valid\"])\n",
    "    x_Axis = np.arange(1, len(TA) + 1)\n",
    "    plt.figure()\n",
    "    plt.plot(x_Axis, TA, \"r\", label=\"Train\")\n",
    "    plt.plot(x_Axis, VA, \"b\", label=\"Valid\")\n",
    "    plt.legend()\n",
    "    plt.grid()\n",
    "    plt.title(\"Accuracy Graph\")\n",
    "    plt.show()\n",
    "    \n",
    "\n",
    "def show_lr_graph(LR: list) -> None:\n",
    "    x_Axis = [i+1 for i in range(len(LR))]\n",
    "    plt.figure(figsize=(8, 6))\n",
    "    plt.plot(x_Axis, LR, \"rx\")\n",
    "    plt.grid()\n",
    "    plt.show()"
   ]
  },
  {
   "cell_type": "markdown",
   "id": "1b3d567e",
   "metadata": {
    "papermill": {
     "duration": 0.003942,
     "end_time": "2022-11-20T15:19:04.103516",
     "exception": false,
     "start_time": "2022-11-20T15:19:04.099574",
     "status": "completed"
    },
    "tags": []
   },
   "source": [
    "### **Configuration**"
   ]
  },
  {
   "cell_type": "code",
   "execution_count": 4,
   "id": "fdadfbfb",
   "metadata": {
    "execution": {
     "iopub.execute_input": "2022-11-20T15:19:04.112932Z",
     "iopub.status.busy": "2022-11-20T15:19:04.112658Z",
     "iopub.status.idle": "2022-11-20T15:19:04.186257Z",
     "shell.execute_reply": "2022-11-20T15:19:04.185423Z"
    },
    "papermill": {
     "duration": 0.081052,
     "end_time": "2022-11-20T15:19:04.188447",
     "exception": false,
     "start_time": "2022-11-20T15:19:04.107395",
     "status": "completed"
    },
    "tags": []
   },
   "outputs": [],
   "source": [
    "class CFG(object):\n",
    "    def __init__(self, \n",
    "                 seed: int = 42,\n",
    "                 size: int = 224,\n",
    "                 n_splits: int = 5,\n",
    "                 batch_size: int = 16,\n",
    "                 epochs: int = 25,\n",
    "                 early_stopping: int = 5,\n",
    "                 lr: float = 1e-4,\n",
    "                 wd: float = 0.0,\n",
    "                 max_lr: float = 1e-3,\n",
    "                 pct_start: float = 0.2,\n",
    "                 steps_per_epoch: int = 100,\n",
    "                 div_factor: int = 1e3, \n",
    "                 final_div_factor: float = 1e3,\n",
    "                 ):\n",
    "        self.seed = seed\n",
    "        self.size = size\n",
    "        self.n_splits = n_splits\n",
    "        self.batch_size = batch_size\n",
    "        self.epochs = epochs\n",
    "        self.early_stopping = early_stopping\n",
    "        self.lr = lr\n",
    "        self.wd = wd\n",
    "        self.max_lr = max_lr\n",
    "        self.pct_start = pct_start\n",
    "        self.steps_per_epoch = steps_per_epoch\n",
    "        self.div_factor = div_factor\n",
    "        self.final_div_factor = final_div_factor\n",
    "        self.device = torch.device(\"cuda\" if torch.cuda.is_available() else \"cpu\")\n",
    "        \n",
    "        if self.size == 224:\n",
    "            self.train_transform = transforms.Compose([\n",
    "                transforms.ToTensor(),\n",
    "                transforms.Normalize([0.45818, 0.41879, 0.29899], [0.24524, 0.21704, 0.22208]),\n",
    "                transforms.RandomAffine(degrees=(-45, 45), translate=(0.15, 0.15), scale=(0.5, 1.5)),\n",
    "                transforms.RandomHorizontalFlip(p=0.25),\n",
    "                transforms.RandomVerticalFlip(p=0.25),\n",
    "            ])\n",
    "            self.valid_transform = transforms.Compose([\n",
    "                transforms.ToTensor(),\n",
    "                transforms.Normalize([0.45818, 0.41879, 0.29899], [0.24524, 0.21704, 0.22208]),\n",
    "            ])\n",
    "        \n",
    "        if self.size == 384:\n",
    "            self.train_transform = transforms.Compose([\n",
    "                transforms.ToTensor(),\n",
    "                transforms.Normalize([0.45807, 0.41868, 0.29889], [0.24757, 0.21952, 0.22436]),\n",
    "                transforms.RandomAffine(degrees=(-45, 45), translate=(0.15, 0.15), scale=(0.5, 1.5)),\n",
    "                transforms.RandomHorizontalFlip(p=0.25),\n",
    "                transforms.RandomVerticalFlip(p=0.25),\n",
    "            ])\n",
    "            self.valid_transform = transforms.Compose([\n",
    "                transforms.ToTensor(),\n",
    "                transforms.Normalize([0.45807, 0.41868, 0.29889], [0.24757, 0.21952, 0.22436]),\n",
    "            ])\n",
    "        \n",
    "        if self.size == 512:\n",
    "            self.train_transform = transforms.Compose([\n",
    "                transforms.ToTensor(),\n",
    "                transforms.Normalize([0.45813, 0.41874, 0.29895], [0.24827, 0.22026, 0.22505]),\n",
    "                transforms.RandomAffine(degrees=(-45, 45), translate=(0.15, 0.15), scale=(0.5, 1.5)),\n",
    "                transforms.RandomHorizontalFlip(p=0.25),\n",
    "                transforms.RandomVerticalFlip(p=0.25),\n",
    "            ])\n",
    "            self.valid_transform = transforms.Compose([\n",
    "                transforms.ToTensor(),\n",
    "                transforms.Normalize([0.45813, 0.41874, 0.29895], [0.24827, 0.22026, 0.22505]),\n",
    "            ])\n",
    "                                \n",
    "        self.save_path = \"saves\"\n",
    "        if not os.path.exists(self.save_path): os.makedirs(self.save_path)\n",
    "    \n",
    "cfg = CFG(\n",
    "    seed=SEED, \n",
    "    size=SIZE\n",
    ")"
   ]
  },
  {
   "cell_type": "markdown",
   "id": "30a0236a",
   "metadata": {
    "papermill": {
     "duration": 0.003646,
     "end_time": "2022-11-20T15:19:04.196130",
     "exception": false,
     "start_time": "2022-11-20T15:19:04.192484",
     "status": "completed"
    },
    "tags": []
   },
   "source": [
    "### **Dataset Template**"
   ]
  },
  {
   "cell_type": "code",
   "execution_count": 5,
   "id": "5028567f",
   "metadata": {
    "execution": {
     "iopub.execute_input": "2022-11-20T15:19:04.205542Z",
     "iopub.status.busy": "2022-11-20T15:19:04.204761Z",
     "iopub.status.idle": "2022-11-20T15:19:04.211668Z",
     "shell.execute_reply": "2022-11-20T15:19:04.210779Z"
    },
    "papermill": {
     "duration": 0.013627,
     "end_time": "2022-11-20T15:19:04.213714",
     "exception": false,
     "start_time": "2022-11-20T15:19:04.200087",
     "status": "completed"
    },
    "tags": []
   },
   "outputs": [],
   "source": [
    "class DS(Dataset):\n",
    "    def __init__(\n",
    "        self, \n",
    "        filepaths: np.ndarray, \n",
    "        size: int,\n",
    "        labels: Union[np.ndarray, None]=None, \n",
    "        transform=None\n",
    "    ):\n",
    "        \n",
    "        self.filepaths = filepaths\n",
    "        self.labels = labels\n",
    "        self.size = size\n",
    "        self.transform = transform\n",
    "    \n",
    "    def __len__(self):\n",
    "        return self.filepaths.shape[0]\n",
    "    \n",
    "    def __getitem__(self, idx):\n",
    "        image = get_image(self.filepaths[idx], self.size)\n",
    "        if self.labels is None:\n",
    "            return self.transform(image)\n",
    "        return self.transform(image), torch.LongTensor(self.labels[idx])"
   ]
  },
  {
   "cell_type": "markdown",
   "id": "45e6db1f",
   "metadata": {
    "papermill": {
     "duration": 0.00368,
     "end_time": "2022-11-20T15:19:04.221295",
     "exception": false,
     "start_time": "2022-11-20T15:19:04.217615",
     "status": "completed"
    },
    "tags": []
   },
   "source": [
    "### **Model**"
   ]
  },
  {
   "cell_type": "code",
   "execution_count": 6,
   "id": "1b0c7904",
   "metadata": {
    "execution": {
     "iopub.execute_input": "2022-11-20T15:19:04.230000Z",
     "iopub.status.busy": "2022-11-20T15:19:04.229747Z",
     "iopub.status.idle": "2022-11-20T15:19:04.234957Z",
     "shell.execute_reply": "2022-11-20T15:19:04.234068Z"
    },
    "papermill": {
     "duration": 0.011814,
     "end_time": "2022-11-20T15:19:04.236934",
     "exception": false,
     "start_time": "2022-11-20T15:19:04.225120",
     "status": "completed"
    },
    "tags": []
   },
   "outputs": [],
   "source": [
    "class Model(nn.Module):\n",
    "    def __init__(self):\n",
    "        super(Model, self).__init__()\n",
    "            \n",
    "        self.model = timm.create_model(model_name=\"efficientnet_b4\", pretrained=True)\n",
    "        self.model.classifier = nn.Linear(in_features=self.model.classifier.in_features, out_features=5)\n",
    "\n",
    "    def forward(self, x):\n",
    "        return nn.LogSoftmax(dim=1)(self.model(x))"
   ]
  },
  {
   "cell_type": "markdown",
   "id": "ee1c9742",
   "metadata": {
    "papermill": {
     "duration": 0.003636,
     "end_time": "2022-11-20T15:19:04.244616",
     "exception": false,
     "start_time": "2022-11-20T15:19:04.240980",
     "status": "completed"
    },
    "tags": []
   },
   "source": [
    "### **Fit and Predict**"
   ]
  },
  {
   "cell_type": "code",
   "execution_count": 7,
   "id": "1cd1f0f2",
   "metadata": {
    "execution": {
     "iopub.execute_input": "2022-11-20T15:19:04.253687Z",
     "iopub.status.busy": "2022-11-20T15:19:04.253434Z",
     "iopub.status.idle": "2022-11-20T15:19:04.273963Z",
     "shell.execute_reply": "2022-11-20T15:19:04.273063Z"
    },
    "papermill": {
     "duration": 0.027627,
     "end_time": "2022-11-20T15:19:04.276104",
     "exception": false,
     "start_time": "2022-11-20T15:19:04.248477",
     "status": "completed"
    },
    "tags": []
   },
   "outputs": [],
   "source": [
    "def fit(\n",
    "    model=None,\n",
    "    optimizer=None, \n",
    "    scheduler_rlrop=None,\n",
    "    scheduler_oclr=None,\n",
    "    epochs=None, \n",
    "    early_stopping_patience=None, \n",
    "    dataloaders=None, \n",
    "    fold=None, \n",
    "    save_path=None,\n",
    "    device=None,\n",
    "    verbose=False\n",
    ") -> tuple:\n",
    "    \n",
    "    def get_accuracy(y_pred, y_true):\n",
    "        y_pred = torch.argmax(y_pred, dim=1)\n",
    "        return torch.count_nonzero(y_pred == y_true).item() / len(y_pred)\n",
    "    \n",
    "    \n",
    "    if verbose:\n",
    "        breaker()\n",
    "        if fold: print(f\"Training Fold {fold}...\")\n",
    "        else: print(\"Training ...\")\n",
    "        breaker()\n",
    "        \n",
    "    bestLoss: dict = {\"train\" : np.inf, \"valid\" : np.inf} \n",
    "    bestAccs: dict = {\"train\" : 0.0, \"valid\" : 0.0}\n",
    "    \n",
    "    Losses: list = []\n",
    "    Accuracies: list = [] \n",
    "    LRs: list = []\n",
    "        \n",
    "    if fold: \n",
    "        ble_name = f\"ble_state_fold_{fold}.pt\"\n",
    "        bae_name = f\"bae_state_fold_{fold}.pt\"\n",
    "    else: \n",
    "        ble_name = f\"ble_state.pt\"\n",
    "        bae_name = f\"bae_state.pt\"\n",
    "        \n",
    "    start_time = time()\n",
    "    for e in range(epochs):\n",
    "        e_st = time()\n",
    "        epochLoss: dict = {\"train\" : 0.0, \"valid\" : 0.0} \n",
    "        epochAccs: dict = {\"train\" : 0.0, \"valid\" : 0.0}\n",
    "\n",
    "        for phase in [\"train\", \"valid\"]:\n",
    "            if phase == \"train\":\n",
    "                model.train()\n",
    "            else:\n",
    "                model.eval()\n",
    "            \n",
    "            lossPerPass: list = []\n",
    "            accsPerPass: list = []\n",
    "                \n",
    "            for X, y in dataloaders[phase]:\n",
    "                X, y = X.to(device), y.to(device).view(-1)\n",
    "\n",
    "                optimizer.zero_grad()\n",
    "                with torch.set_grad_enabled(phase == \"train\"):\n",
    "                    output = model(X)\n",
    "                    loss = torch.nn.NLLLoss()(output, y)\n",
    "                    if phase == \"train\":\n",
    "                        loss.backward()\n",
    "                        optimizer.step()\n",
    "                        if scheduler_oclr: scheduler_oclr.step()\n",
    "                lossPerPass.append(loss.item())\n",
    "                accsPerPass.append(get_accuracy(output, y))\n",
    "            epochLoss[phase] = np.mean(np.array(lossPerPass))\n",
    "            epochAccs[phase] = np.mean(np.array(accsPerPass))\n",
    "        if scheduler_oclr: LRs.append(scheduler_oclr.get_last_lr())\n",
    "        Losses.append(epochLoss)\n",
    "        Accuracies.append(epochAccs)\n",
    "        \n",
    "        if scheduler_oclr:\n",
    "            save_dict = {\"model_state_dict\"     : model.state_dict(),\n",
    "                         \"optim_state_dict\"     : optimizer.state_dict(),\n",
    "                         \"scheduler_state_dict\" : scheduler_oclr.state_dict()}\n",
    "        \n",
    "        elif scheduler_rlrop:\n",
    "            save_dict = {\"model_state_dict\"     : model.state_dict(),\n",
    "                         \"optim_state_dict\"     : optimizer.state_dict(),\n",
    "                         \"scheduler_state_dict\" : scheduler_rlrop.state_dict()}\n",
    "        \n",
    "        else:\n",
    "            save_dict = {\"model_state_dict\"     : model.state_dict(),\n",
    "                         \"optim_state_dict\"     : optimizer.state_dict()}\n",
    "        \n",
    "        if early_stopping_patience:\n",
    "            if epochLoss[\"valid\"] < bestLoss[\"valid\"]:\n",
    "                bestLoss = epochLoss\n",
    "                BLE = e + 1\n",
    "                torch.save(save_dict, os.path.join(save_path, ble_name))\n",
    "                torch.save(save_dict, os.path.join(save_path, bae_name))\n",
    "                early_stopping_step = 0\n",
    "            else:\n",
    "                early_stopping_step += 1\n",
    "                if early_stopping_step > early_stopping_patience:\n",
    "                    print(\"\\nEarly Stopping at Epoch {}\".format(e + 1))\n",
    "                    break\n",
    "        \n",
    "        if epochLoss[\"valid\"] < bestLoss[\"valid\"]:\n",
    "            bestLoss = epochLoss\n",
    "            BLE = e + 1\n",
    "            torch.save(save_dict,os.path.join(save_path, ble_name))\n",
    "        \n",
    "        if epochAccs[\"valid\"] > bestAccs[\"valid\"]:\n",
    "            bestAccs = epochAccs\n",
    "            BAE = e + 1\n",
    "            torch.save(save_dict,os.path.join(save_path, bae_name))\n",
    "        \n",
    "        if scheduler_rlrop: scheduler_rlrop.step(epochLoss[\"valid\"])\n",
    "        \n",
    "        if verbose:\n",
    "            print(\"Epoch: {} | Train Loss: {:.5f} | Valid Loss: {:.5f} |\\\n",
    " Train Accs: {:.5f} | Valid Accs: {:.5f} | Time: {:.2f} seconds\".format(e+1, \n",
    "                                                                        epochLoss[\"train\"], epochLoss[\"valid\"], \n",
    "                                                                        epochAccs[\"train\"], epochAccs[\"valid\"], \n",
    "                                                                        time()-e_st))\n",
    "\n",
    "    if verbose:                                           \n",
    "        breaker()\n",
    "        print(f\"Best Validation Loss at Epoch {BLE}\")\n",
    "        breaker()\n",
    "        print(f\"Best Validation Accs at Epoch {BAE}\")\n",
    "        breaker()\n",
    "        print(\"Time Taken [{} Epochs] : {:.2f} minutes\".format(len(Losses), (time()-start_time)/60))\n",
    "    \n",
    "    return Losses, Accuracies, LRs, bestLoss, bestAccs, BLE, BAE, ble_name, bae_name\n",
    "\n",
    "\n",
    "# def predict_batch(model=None, dataloader=None, path=None, device=None) -> np.ndarray:\n",
    "#     model.load_state_dict(torch.load(path, map_location=device)[\"model_state_dict\"])\n",
    "#     model.to(device)    \n",
    "#     model.eval()\n",
    "    \n",
    "#     y_pred = torch.zeros(1, 1).to(device)\n",
    "    \n",
    "#     for X in dataloader:\n",
    "#         X = X.to(device)\n",
    "#         with torch.no_grad():\n",
    "#             output = torch.argmax(torch.exp(model(X)), dim=1)\n",
    "#         y_pred = torch.cat((y_pred, output.view(-1, 1)), dim=0)\n",
    "    \n",
    "#     return y_pred[1:].detach().cpu().numpy()"
   ]
  },
  {
   "cell_type": "markdown",
   "id": "c4395234",
   "metadata": {
    "papermill": {
     "duration": 0.004567,
     "end_time": "2022-11-20T15:19:04.284636",
     "exception": false,
     "start_time": "2022-11-20T15:19:04.280069",
     "status": "completed"
    },
    "tags": []
   },
   "source": [
    "### **Train**"
   ]
  },
  {
   "cell_type": "code",
   "execution_count": 8,
   "id": "5143ef20",
   "metadata": {
    "execution": {
     "iopub.execute_input": "2022-11-20T15:19:04.293576Z",
     "iopub.status.busy": "2022-11-20T15:19:04.293300Z",
     "iopub.status.idle": "2022-11-20T15:19:04.329159Z",
     "shell.execute_reply": "2022-11-20T15:19:04.328306Z"
    },
    "papermill": {
     "duration": 0.042583,
     "end_time": "2022-11-20T15:19:04.331067",
     "exception": false,
     "start_time": "2022-11-20T15:19:04.288484",
     "status": "completed"
    },
    "tags": []
   },
   "outputs": [],
   "source": [
    "df = pd.read_csv(\"../input/fic-dataframe/train.csv\")\n",
    "\n",
    "filepaths = df.filepaths.copy().values\n",
    "labels = df.labels.copy().values"
   ]
  },
  {
   "cell_type": "code",
   "execution_count": 9,
   "id": "67a4b7be",
   "metadata": {
    "execution": {
     "iopub.execute_input": "2022-11-20T15:19:04.341305Z",
     "iopub.status.busy": "2022-11-20T15:19:04.340015Z",
     "iopub.status.idle": "2022-11-20T17:26:44.445810Z",
     "shell.execute_reply": "2022-11-20T17:26:44.444603Z"
    },
    "papermill": {
     "duration": 7660.112743,
     "end_time": "2022-11-20T17:26:44.447858",
     "exception": false,
     "start_time": "2022-11-20T15:19:04.335115",
     "status": "completed"
    },
    "tags": []
   },
   "outputs": [
    {
     "name": "stderr",
     "output_type": "stream",
     "text": [
      "Downloading: \"https://github.com/rwightman/pytorch-image-models/releases/download/v0.1-weights/efficientnet_b4_ra2_320-7eb33cd5.pth\" to /root/.cache/torch/hub/checkpoints/efficientnet_b4_ra2_320-7eb33cd5.pth\n"
     ]
    },
    {
     "name": "stdout",
     "output_type": "stream",
     "text": [
      "\n",
      "**************************************************\n",
      "\n",
      "Training Fold 1...\n",
      "\n",
      "**************************************************\n",
      "\n",
      "Epoch: 1 | Train Loss: 1.06783 | Valid Loss: 0.24910 | Train Accs: 0.63048 | Valid Accs: 0.92832 | Time: 181.05 seconds\n",
      "Epoch: 2 | Train Loss: 0.26691 | Valid Loss: 0.22297 | Train Accs: 0.90528 | Valid Accs: 0.92832 | Time: 153.87 seconds\n",
      "Epoch: 3 | Train Loss: 0.20928 | Valid Loss: 0.24109 | Train Accs: 0.93106 | Valid Accs: 0.92449 | Time: 151.94 seconds\n",
      "Epoch: 4 | Train Loss: 0.15064 | Valid Loss: 0.23606 | Train Accs: 0.94878 | Valid Accs: 0.93189 | Time: 151.37 seconds\n",
      "Epoch: 5 | Train Loss: 0.12367 | Valid Loss: 0.21250 | Train Accs: 0.95522 | Valid Accs: 0.94617 | Time: 152.59 seconds\n",
      "Epoch: 6 | Train Loss: 0.07991 | Valid Loss: 0.22987 | Train Accs: 0.97326 | Valid Accs: 0.95000 | Time: 152.00 seconds\n",
      "Epoch: 7 | Train Loss: 0.05354 | Valid Loss: 0.21188 | Train Accs: 0.98067 | Valid Accs: 0.94974 | Time: 153.30 seconds\n",
      "Epoch: 8 | Train Loss: 0.03548 | Valid Loss: 0.20775 | Train Accs: 0.98808 | Valid Accs: 0.95510 | Time: 153.60 seconds\n",
      "Epoch: 9 | Train Loss: 0.01836 | Valid Loss: 0.20913 | Train Accs: 0.99485 | Valid Accs: 0.96658 | Time: 151.78 seconds\n",
      "Epoch: 10 | Train Loss: 0.01683 | Valid Loss: 0.20285 | Train Accs: 0.99388 | Valid Accs: 0.96250 | Time: 153.58 seconds\n",
      "\n",
      "**************************************************\n",
      "\n",
      "Best Validation Loss at Epoch 10\n",
      "\n",
      "**************************************************\n",
      "\n",
      "Best Validation Accs at Epoch 9\n",
      "\n",
      "**************************************************\n",
      "\n",
      "Time Taken [10 Epochs] : 25.92 minutes\n",
      "\n",
      "**************************************************\n",
      "\n"
     ]
    },
    {
     "data": {
      "image/png": "[encoded data removed]",
      "text/plain": [
       "<Figure size 432x288 with 1 Axes>"
      ]
     },
     "metadata": {
      "needs_background": "light"
     },
     "output_type": "display_data"
    },
    {
     "name": "stdout",
     "output_type": "stream",
     "text": [
      "\n",
      "**************************************************\n",
      "\n"
     ]
    },
    {
     "data": {
      "image/png": "[encoded data removed]",
      "text/plain": [
       "<Figure size 432x288 with 1 Axes>"
      ]
     },
     "metadata": {
      "needs_background": "light"
     },
     "output_type": "display_data"
    },
    {
     "name": "stdout",
     "output_type": "stream",
     "text": [
      "\n",
      "**************************************************\n",
      "\n"
     ]
    },
    {
     "data": {
      "image/png": "[encoded data removed]",
      "text/plain": [
       "<Figure size 576x432 with 1 Axes>"
      ]
     },
     "metadata": {
      "needs_background": "light"
     },
     "output_type": "display_data"
    },
    {
     "name": "stdout",
     "output_type": "stream",
     "text": [
      "\n",
      "**************************************************\n",
      "\n",
      "\n",
      "**************************************************\n",
      "\n",
      "Training Fold 2...\n",
      "\n",
      "**************************************************\n",
      "\n",
      "Epoch: 1 | Train Loss: 1.06820 | Valid Loss: 0.26261 | Train Accs: 0.61920 | Valid Accs: 0.91071 | Time: 153.50 seconds\n",
      "Epoch: 2 | Train Loss: 0.29761 | Valid Loss: 0.27984 | Train Accs: 0.90271 | Valid Accs: 0.90944 | Time: 151.66 seconds\n",
      "Epoch: 3 | Train Loss: 0.21396 | Valid Loss: 0.19341 | Train Accs: 0.93009 | Valid Accs: 0.93495 | Time: 154.42 seconds\n",
      "Epoch: 4 | Train Loss: 0.14821 | Valid Loss: 0.16168 | Train Accs: 0.94910 | Valid Accs: 0.94643 | Time: 154.27 seconds\n",
      "Epoch: 5 | Train Loss: 0.10651 | Valid Loss: 0.16232 | Train Accs: 0.96295 | Valid Accs: 0.95026 | Time: 152.57 seconds\n",
      "Epoch: 6 | Train Loss: 0.07207 | Valid Loss: 0.16207 | Train Accs: 0.97390 | Valid Accs: 0.95281 | Time: 152.63 seconds\n",
      "Epoch: 7 | Train Loss: 0.03918 | Valid Loss: 0.18829 | Train Accs: 0.98840 | Valid Accs: 0.95281 | Time: 151.88 seconds\n",
      "Epoch: 8 | Train Loss: 0.02291 | Valid Loss: 0.13533 | Train Accs: 0.99291 | Valid Accs: 0.95536 | Time: 154.16 seconds\n",
      "Epoch: 9 | Train Loss: 0.02517 | Valid Loss: 0.13576 | Train Accs: 0.99291 | Valid Accs: 0.96301 | Time: 153.61 seconds\n",
      "Epoch: 10 | Train Loss: 0.02269 | Valid Loss: 0.13264 | Train Accs: 0.99130 | Valid Accs: 0.96301 | Time: 153.81 seconds\n",
      "\n",
      "**************************************************\n",
      "\n",
      "Best Validation Loss at Epoch 10\n",
      "\n",
      "**************************************************\n",
      "\n",
      "Best Validation Accs at Epoch 9\n",
      "\n",
      "**************************************************\n",
      "\n",
      "Time Taken [10 Epochs] : 25.54 minutes\n",
      "\n",
      "**************************************************\n",
      "\n"
     ]
    },
    {
     "data": {
      "image/png": "[encoded data removed]",
      "text/plain": [
       "<Figure size 432x288 with 1 Axes>"
      ]
     },
     "metadata": {
      "needs_background": "light"
     },
     "output_type": "display_data"
    },
    {
     "name": "stdout",
     "output_type": "stream",
     "text": [
      "\n",
      "**************************************************\n",
      "\n"
     ]
    },
    {
     "data": {
      "image/png": "[encoded data removed]",
      "text/plain": [
       "<Figure size 432x288 with 1 Axes>"
      ]
     },
     "metadata": {
      "needs_background": "light"
     },
     "output_type": "display_data"
    },
    {
     "name": "stdout",
     "output_type": "stream",
     "text": [
      "\n",
      "**************************************************\n",
      "\n"
     ]
    },
    {
     "data": {
      "image/png": "[encoded data removed]",
      "text/plain": [
       "<Figure size 576x432 with 1 Axes>"
      ]
     },
     "metadata": {
      "needs_background": "light"
     },
     "output_type": "display_data"
    },
    {
     "name": "stdout",
     "output_type": "stream",
     "text": [
      "\n",
      "**************************************************\n",
      "\n",
      "\n",
      "**************************************************\n",
      "\n",
      "Training Fold 3...\n",
      "\n",
      "**************************************************\n",
      "\n",
      "Epoch: 1 | Train Loss: 1.07036 | Valid Loss: 0.24949 | Train Accs: 0.62532 | Valid Accs: 0.91811 | Time: 152.60 seconds\n",
      "Epoch: 2 | Train Loss: 0.28845 | Valid Loss: 0.23943 | Train Accs: 0.90303 | Valid Accs: 0.93087 | Time: 151.72 seconds\n",
      "Epoch: 3 | Train Loss: 0.20151 | Valid Loss: 0.20367 | Train Accs: 0.93396 | Valid Accs: 0.93342 | Time: 152.25 seconds\n",
      "Epoch: 4 | Train Loss: 0.14706 | Valid Loss: 0.18890 | Train Accs: 0.95071 | Valid Accs: 0.94362 | Time: 152.80 seconds\n",
      "Epoch: 5 | Train Loss: 0.10311 | Valid Loss: 0.19384 | Train Accs: 0.96456 | Valid Accs: 0.95000 | Time: 151.64 seconds\n",
      "Epoch: 6 | Train Loss: 0.07303 | Valid Loss: 0.18234 | Train Accs: 0.97584 | Valid Accs: 0.94490 | Time: 151.67 seconds\n",
      "Epoch: 7 | Train Loss: 0.04524 | Valid Loss: 0.22442 | Train Accs: 0.98744 | Valid Accs: 0.94872 | Time: 151.12 seconds\n",
      "Epoch: 8 | Train Loss: 0.02885 | Valid Loss: 0.18116 | Train Accs: 0.99162 | Valid Accs: 0.95383 | Time: 152.19 seconds\n",
      "Epoch: 9 | Train Loss: 0.02374 | Valid Loss: 0.21397 | Train Accs: 0.99162 | Valid Accs: 0.95638 | Time: 151.88 seconds\n",
      "Epoch: 10 | Train Loss: 0.01527 | Valid Loss: 0.21332 | Train Accs: 0.99549 | Valid Accs: 0.95383 | Time: 151.66 seconds\n",
      "\n",
      "**************************************************\n",
      "\n",
      "Best Validation Loss at Epoch 8\n",
      "\n",
      "**************************************************\n",
      "\n",
      "Best Validation Accs at Epoch 9\n",
      "\n",
      "**************************************************\n",
      "\n",
      "Time Taken [10 Epochs] : 25.33 minutes\n",
      "\n",
      "**************************************************\n",
      "\n"
     ]
    },
    {
     "data": {
      "image/png": "[encoded data removed]",
      "text/plain": [
       "<Figure size 432x288 with 1 Axes>"
      ]
     },
     "metadata": {
      "needs_background": "light"
     },
     "output_type": "display_data"
    },
    {
     "name": "stdout",
     "output_type": "stream",
     "text": [
      "\n",
      "**************************************************\n",
      "\n"
     ]
    },
    {
     "data": {
      "image/png": "[encoded data removed]",
      "text/plain": [
       "<Figure size 432x288 with 1 Axes>"
      ]
     },
     "metadata": {
      "needs_background": "light"
     },
     "output_type": "display_data"
    },
    {
     "name": "stdout",
     "output_type": "stream",
     "text": [
      "\n",
      "**************************************************\n",
      "\n"
     ]
    },
    {
     "data": {
      "image/png": "[encoded data removed]",
      "text/plain": [
       "<Figure size 576x432 with 1 Axes>"
      ]
     },
     "metadata": {
      "needs_background": "light"
     },
     "output_type": "display_data"
    },
    {
     "name": "stdout",
     "output_type": "stream",
     "text": [
      "\n",
      "**************************************************\n",
      "\n",
      "\n",
      "**************************************************\n",
      "\n",
      "Training Fold 4...\n",
      "\n",
      "**************************************************\n",
      "\n",
      "Epoch: 1 | Train Loss: 1.07578 | Valid Loss: 0.25808 | Train Accs: 0.61727 | Valid Accs: 0.91071 | Time: 151.54 seconds\n",
      "Epoch: 2 | Train Loss: 0.30380 | Valid Loss: 0.23320 | Train Accs: 0.89497 | Valid Accs: 0.91582 | Time: 152.07 seconds\n",
      "Epoch: 3 | Train Loss: 0.20993 | Valid Loss: 0.17191 | Train Accs: 0.92816 | Valid Accs: 0.94898 | Time: 152.54 seconds\n",
      "Epoch: 4 | Train Loss: 0.15237 | Valid Loss: 0.13828 | Train Accs: 0.94845 | Valid Accs: 0.94643 | Time: 151.82 seconds\n",
      "Epoch: 5 | Train Loss: 0.10614 | Valid Loss: 0.15629 | Train Accs: 0.96843 | Valid Accs: 0.95408 | Time: 152.60 seconds\n",
      "Epoch: 6 | Train Loss: 0.07727 | Valid Loss: 0.11730 | Train Accs: 0.97487 | Valid Accs: 0.96811 | Time: 152.73 seconds\n",
      "Epoch: 7 | Train Loss: 0.05682 | Valid Loss: 0.14160 | Train Accs: 0.97809 | Valid Accs: 0.95663 | Time: 150.66 seconds\n",
      "Epoch: 8 | Train Loss: 0.03631 | Valid Loss: 0.10244 | Train Accs: 0.98872 | Valid Accs: 0.96429 | Time: 152.17 seconds\n",
      "Epoch: 9 | Train Loss: 0.02561 | Valid Loss: 0.11473 | Train Accs: 0.99195 | Valid Accs: 0.97066 | Time: 152.07 seconds\n",
      "Epoch: 10 | Train Loss: 0.02194 | Valid Loss: 0.10778 | Train Accs: 0.99259 | Valid Accs: 0.96173 | Time: 150.83 seconds\n",
      "\n",
      "**************************************************\n",
      "\n",
      "Best Validation Loss at Epoch 8\n",
      "\n",
      "**************************************************\n",
      "\n",
      "Best Validation Accs at Epoch 9\n",
      "\n",
      "**************************************************\n",
      "\n",
      "Time Taken [10 Epochs] : 25.32 minutes\n",
      "\n",
      "**************************************************\n",
      "\n"
     ]
    },
    {
     "data": {
      "image/png": "[encoded data removed]",
      "text/plain": [
       "<Figure size 432x288 with 1 Axes>"
      ]
     },
     "metadata": {
      "needs_background": "light"
     },
     "output_type": "display_data"
    },
    {
     "name": "stdout",
     "output_type": "stream",
     "text": [
      "\n",
      "**************************************************\n",
      "\n"
     ]
    },
    {
     "data": {
      "image/png": "[encoded data removed]",
      "text/plain": [
       "<Figure size 432x288 with 1 Axes>"
      ]
     },
     "metadata": {
      "needs_background": "light"
     },
     "output_type": "display_data"
    },
    {
     "name": "stdout",
     "output_type": "stream",
     "text": [
      "\n",
      "**************************************************\n",
      "\n"
     ]
    },
    {
     "data": {
      "image/png": "[encoded data removed]",
      "text/plain": [
       "<Figure size 576x432 with 1 Axes>"
      ]
     },
     "metadata": {
      "needs_background": "light"
     },
     "output_type": "display_data"
    },
    {
     "name": "stdout",
     "output_type": "stream",
     "text": [
      "\n",
      "**************************************************\n",
      "\n",
      "\n",
      "**************************************************\n",
      "\n",
      "Training Fold 5...\n",
      "\n",
      "**************************************************\n",
      "\n",
      "Epoch: 1 | Train Loss: 1.05698 | Valid Loss: 0.29296 | Train Accs: 0.63724 | Valid Accs: 0.89923 | Time: 152.84 seconds\n",
      "Epoch: 2 | Train Loss: 0.30383 | Valid Loss: 0.20843 | Train Accs: 0.89530 | Valid Accs: 0.93495 | Time: 152.95 seconds\n",
      "Epoch: 3 | Train Loss: 0.20904 | Valid Loss: 0.17975 | Train Accs: 0.93009 | Valid Accs: 0.93622 | Time: 153.79 seconds\n",
      "Epoch: 4 | Train Loss: 0.16776 | Valid Loss: 0.24642 | Train Accs: 0.93943 | Valid Accs: 0.91964 | Time: 151.22 seconds\n",
      "Epoch: 5 | Train Loss: 0.11096 | Valid Loss: 0.17715 | Train Accs: 0.96263 | Valid Accs: 0.94898 | Time: 153.02 seconds\n",
      "Epoch: 6 | Train Loss: 0.07638 | Valid Loss: 0.13838 | Train Accs: 0.97745 | Valid Accs: 0.94643 | Time: 152.74 seconds\n",
      "Epoch: 7 | Train Loss: 0.05411 | Valid Loss: 0.17663 | Train Accs: 0.98131 | Valid Accs: 0.94643 | Time: 151.40 seconds\n",
      "Epoch: 8 | Train Loss: 0.02467 | Valid Loss: 0.16697 | Train Accs: 0.99356 | Valid Accs: 0.95026 | Time: 152.77 seconds\n",
      "Epoch: 9 | Train Loss: 0.02052 | Valid Loss: 0.14381 | Train Accs: 0.99259 | Valid Accs: 0.95408 | Time: 152.35 seconds\n",
      "Epoch: 10 | Train Loss: 0.03105 | Valid Loss: 0.15941 | Train Accs: 0.99130 | Valid Accs: 0.95026 | Time: 151.43 seconds\n",
      "\n",
      "**************************************************\n",
      "\n",
      "Best Validation Loss at Epoch 6\n",
      "\n",
      "**************************************************\n",
      "\n",
      "Best Validation Accs at Epoch 9\n",
      "\n",
      "**************************************************\n",
      "\n",
      "Time Taken [10 Epochs] : 25.41 minutes\n",
      "\n",
      "**************************************************\n",
      "\n"
     ]
    },
    {
     "data": {
      "image/png": "[encoded data removed]",
      "text/plain": [
       "<Figure size 432x288 with 1 Axes>"
      ]
     },
     "metadata": {
      "needs_background": "light"
     },
     "output_type": "display_data"
    },
    {
     "name": "stdout",
     "output_type": "stream",
     "text": [
      "\n",
      "**************************************************\n",
      "\n"
     ]
    },
    {
     "data": {
      "image/png": "[encoded data removed]",
      "text/plain": [
       "<Figure size 432x288 with 1 Axes>"
      ]
     },
     "metadata": {
      "needs_background": "light"
     },
     "output_type": "display_data"
    },
    {
     "name": "stdout",
     "output_type": "stream",
     "text": [
      "\n",
      "**************************************************\n",
      "\n"
     ]
    },
    {
     "data": {
      "image/png": "[encoded data removed]",
      "text/plain": [
       "<Figure size 576x432 with 1 Axes>"
      ]
     },
     "metadata": {
      "needs_background": "light"
     },
     "output_type": "display_data"
    },
    {
     "name": "stdout",
     "output_type": "stream",
     "text": [
      "\n",
      "**************************************************\n",
      "\n"
     ]
    }
   ],
   "source": [
    "fold: int = 1\n",
    "BLs: list = []\n",
    "BAs: list = []\n",
    "    \n",
    "cfg.batch_size = 16\n",
    "cfg.epochs = 10\n",
    "    \n",
    "for tr_idx, va_idx in StratifiedKFold(n_splits=cfg.n_splits, random_state=cfg.seed, shuffle=True).split(filepaths, labels):\n",
    "\n",
    "    tr_filepaths, va_filepaths = filepaths[tr_idx], filepaths[va_idx] \n",
    "    tr_labels, va_labels       = labels[tr_idx], labels[va_idx]\n",
    "\n",
    "    tr_data_setup = DS(\n",
    "        filepaths=tr_filepaths, \n",
    "        labels=tr_labels.reshape(-1, 1),\n",
    "        size=cfg.size,\n",
    "        transform=cfg.train_transform\n",
    "    )\n",
    "    \n",
    "    va_data_setup = DS(\n",
    "        filepaths=va_filepaths, \n",
    "        labels=va_labels.reshape(-1, 1),\n",
    "        size=cfg.size,\n",
    "        transform=cfg.train_transform\n",
    "    )\n",
    "\n",
    "    dataloaders = {\n",
    "        \"train\" : DL(tr_data_setup, batch_size=cfg.batch_size, shuffle=True, generator=torch.manual_seed(cfg.seed)),\n",
    "        \"valid\" : DL(va_data_setup, batch_size=cfg.batch_size, shuffle=False),\n",
    "    }\n",
    "\n",
    "    cfg.steps_per_epoch=len(dataloaders[\"train\"])\n",
    "    \n",
    "    torch.manual_seed(cfg.seed)\n",
    "    model = Model().to(cfg.device)\n",
    "\n",
    "    optimizer = optim.Adam([p for p in model.parameters() if p.requires_grad], lr=cfg.lr, weight_decay=cfg.wd)\n",
    "    # optimizer = optim.AdamW([p for p in model.parameters() if p.requires_grad], lr=cfg.lr, weight_decay=cfg.wd)\n",
    "    # optimizer = optim.SGD([p for p in model.parameters() if p.requires_grad], lr=cfg.lr, weight_decay=cfg.wd, momentum=0.9)\n",
    "\n",
    "    scheduler_oclr = optim.lr_scheduler.OneCycleLR(\n",
    "        optimizer=optimizer, \n",
    "        max_lr=cfg.max_lr, \n",
    "        epochs=cfg.epochs, \n",
    "        steps_per_epoch=cfg.steps_per_epoch,\n",
    "        pct_start=cfg.pct_start, \n",
    "        div_factor=cfg.div_factor, \n",
    "        final_div_factor=cfg.final_div_factor\n",
    "    )\n",
    "\n",
    "    # scheduler_rlrop = optim.lr_scheduler.ReduceLROnPlateau(\n",
    "    #     optimizer=optimizer,\n",
    "    #     patience=cfg.patience,\n",
    "    #     eps=cfg.eps,\n",
    "    #     verbose=True\n",
    "    # )\n",
    "\n",
    "    # scheduler_oclr = None\n",
    "    scheduler_rlrop = None\n",
    "\n",
    "\n",
    "    L, A, LR, BL, BA, _, _, _, _ = fit(\n",
    "        model=model, \n",
    "        optimizer=optimizer, \n",
    "        scheduler_oclr=scheduler_oclr,\n",
    "        scheduler_rlrop=scheduler_rlrop,\n",
    "        epochs=cfg.epochs, \n",
    "        early_stopping_patience=cfg.early_stopping, \n",
    "        dataloaders=dataloaders, \n",
    "        device=cfg.device,\n",
    "        save_path=cfg.save_path,\n",
    "        fold=fold,\n",
    "        verbose=True\n",
    "    )\n",
    "\n",
    "\n",
    "    breaker()\n",
    "    show_loss_graphs(L)\n",
    "    breaker()\n",
    "    show_accuracy_graphs(A)\n",
    "    breaker()\n",
    "    if scheduler_oclr:\n",
    "        show_lr_graph(LR)\n",
    "        breaker()\n",
    "    \n",
    "    BLs.append(BL)\n",
    "    BAs.append(BA)\n",
    "    \n",
    "    fold += 1"
   ]
  },
  {
   "cell_type": "markdown",
   "id": "669ebc70",
   "metadata": {
    "papermill": {
     "duration": 0.010469,
     "end_time": "2022-11-20T17:26:44.469327",
     "exception": false,
     "start_time": "2022-11-20T17:26:44.458858",
     "status": "completed"
    },
    "tags": []
   },
   "source": [
    "### **Best Model**"
   ]
  },
  {
   "cell_type": "code",
   "execution_count": 10,
   "id": "cf398bb6",
   "metadata": {
    "execution": {
     "iopub.execute_input": "2022-11-20T17:26:44.492547Z",
     "iopub.status.busy": "2022-11-20T17:26:44.491604Z",
     "iopub.status.idle": "2022-11-20T17:26:44.498936Z",
     "shell.execute_reply": "2022-11-20T17:26:44.498280Z"
    },
    "papermill": {
     "duration": 0.020898,
     "end_time": "2022-11-20T17:26:44.500722",
     "exception": false,
     "start_time": "2022-11-20T17:26:44.479824",
     "status": "completed"
    },
    "tags": []
   },
   "outputs": [
    {
     "name": "stdout",
     "output_type": "stream",
     "text": [
      "\n",
      "**************************************************\n",
      "\n",
      "Best Loss Model Fold     : 4\n",
      "Best Accuracy Model Fold : 4\n",
      "\n",
      "**************************************************\n",
      "\n"
     ]
    }
   ],
   "source": [
    "BL = np.inf\n",
    "for i in range(len(BLs)):\n",
    "    if BLs[i][\"valid\"] < BL:\n",
    "        BL = BLs[i][\"valid\"]\n",
    "        best_loss_index = i\n",
    "\n",
    "        \n",
    "BA = 0.0\n",
    "for i in range(len(BAs)):\n",
    "    if BAs[i][\"valid\"] > BA:\n",
    "        BA = BAs[i][\"valid\"]\n",
    "        best_accs_index = i\n",
    "\n",
    "breaker()\n",
    "print(f\"Best Loss Model Fold     : {best_loss_index + 1}\")\n",
    "print(f\"Best Accuracy Model Fold : {best_accs_index + 1}\")\n",
    "breaker()"
   ]
  }
 ],
 "metadata": {
  "kernelspec": {
   "display_name": "Python 3",
   "language": "python",
   "name": "python3"
  },
  "language_info": {
   "codemirror_mode": {
    "name": "ipython",
    "version": 3
   },
   "file_extension": ".py",
   "mimetype": "text/x-python",
   "name": "python",
   "nbconvert_exporter": "python",
   "pygments_lexer": "ipython3",
   "version": "3.7.12"
  },
  "papermill": {
   "default_parameters": {},
   "duration": 7684.136389,
   "end_time": "2022-11-20T17:26:46.143418",
   "environment_variables": {},
   "exception": null,
   "input_path": "__notebook__.ipynb",
   "output_path": "__notebook__.ipynb",
   "parameters": {},
   "start_time": "2022-11-20T15:18:42.007029",
   "version": "2.3.4"
  }
 },
 "nbformat": 4,
 "nbformat_minor": 5
}
