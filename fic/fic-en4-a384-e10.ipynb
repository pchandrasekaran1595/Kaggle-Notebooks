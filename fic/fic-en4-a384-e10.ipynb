{
 "cells": [
  {
   "cell_type": "markdown",
   "id": "1a273e87",
   "metadata": {
    "_cell_guid": "b1076dfc-b9ad-4769-8c92-a6c4dae69d19",
    "_uuid": "8f2839f25d086af736a60e9eeb907d3b93b6e0e5",
    "papermill": {
     "duration": 0.00671,
     "end_time": "2022-11-20T07:16:56.757895",
     "exception": false,
     "start_time": "2022-11-20T07:16:56.751185",
     "status": "completed"
    },
    "tags": []
   },
   "source": [
    "##### **Setup**"
   ]
  },
  {
   "cell_type": "code",
   "execution_count": 1,
   "id": "204c69ab",
   "metadata": {
    "execution": {
     "iopub.execute_input": "2022-11-20T07:16:56.771505Z",
     "iopub.status.busy": "2022-11-20T07:16:56.770903Z",
     "iopub.status.idle": "2022-11-20T07:17:07.324358Z",
     "shell.execute_reply": "2022-11-20T07:17:07.323246Z"
    },
    "papermill": {
     "duration": 10.562806,
     "end_time": "2022-11-20T07:17:07.326681",
     "exception": false,
     "start_time": "2022-11-20T07:16:56.763875",
     "status": "completed"
    },
    "tags": []
   },
   "outputs": [
    {
     "name": "stderr",
     "output_type": "stream",
     "text": [
      "WARNING: Running pip as the 'root' user can result in broken permissions and conflicting behaviour with the system package manager. It is recommended to use a virtual environment instead: https://pip.pypa.io/warnings/venv\n"
     ]
    }
   ],
   "source": [
    "%%bash\n",
    "pip install timm -q"
   ]
  },
  {
   "cell_type": "markdown",
   "id": "75844319",
   "metadata": {
    "papermill": {
     "duration": 0.003883,
     "end_time": "2022-11-20T07:17:07.334840",
     "exception": false,
     "start_time": "2022-11-20T07:17:07.330957",
     "status": "completed"
    },
    "tags": []
   },
   "source": [
    "### **Library Imports**"
   ]
  },
  {
   "cell_type": "code",
   "execution_count": 2,
   "id": "ca23c754",
   "metadata": {
    "execution": {
     "iopub.execute_input": "2022-11-20T07:17:07.344000Z",
     "iopub.status.busy": "2022-11-20T07:17:07.343661Z",
     "iopub.status.idle": "2022-11-20T07:17:11.576975Z",
     "shell.execute_reply": "2022-11-20T07:17:11.575845Z"
    },
    "papermill": {
     "duration": 4.241322,
     "end_time": "2022-11-20T07:17:11.579980",
     "exception": false,
     "start_time": "2022-11-20T07:17:07.338658",
     "status": "completed"
    },
    "tags": []
   },
   "outputs": [],
   "source": [
    "import os\n",
    "import re\n",
    "import cv2\n",
    "import timm\n",
    "import torch\n",
    "import numpy as np\n",
    "import pandas as pd\n",
    "import matplotlib.pyplot as plt\n",
    "\n",
    "from time import time\n",
    "from typing import Union\n",
    "from torch import nn, optim\n",
    "from torch.utils.data import Dataset\n",
    "from torch.utils.data import DataLoader as DL\n",
    "from torchvision import models, transforms\n",
    "\n",
    "from sklearn.model_selection import StratifiedKFold"
   ]
  },
  {
   "cell_type": "markdown",
   "id": "76a6c2e9",
   "metadata": {
    "papermill": {
     "duration": 0.003975,
     "end_time": "2022-11-20T07:17:11.588448",
     "exception": false,
     "start_time": "2022-11-20T07:17:11.584473",
     "status": "completed"
    },
    "tags": []
   },
   "source": [
    "### **Utilities and Helpers**"
   ]
  },
  {
   "cell_type": "code",
   "execution_count": 3,
   "id": "ede2f098",
   "metadata": {
    "execution": {
     "iopub.execute_input": "2022-11-20T07:17:11.598632Z",
     "iopub.status.busy": "2022-11-20T07:17:11.598040Z",
     "iopub.status.idle": "2022-11-20T07:17:11.611745Z",
     "shell.execute_reply": "2022-11-20T07:17:11.610748Z"
    },
    "papermill": {
     "duration": 0.021224,
     "end_time": "2022-11-20T07:17:11.614045",
     "exception": false,
     "start_time": "2022-11-20T07:17:11.592821",
     "status": "completed"
    },
    "tags": []
   },
   "outputs": [],
   "source": [
    "SEED = 42\n",
    "SIZE = 384\n",
    "\n",
    "\n",
    "def breaker(num: int=50, char: str=\"*\") -> None:\n",
    "    print(\"\\n\" + num*char + \"\\n\")\n",
    "\n",
    "    \n",
    "def get_image(path: str, size: int=224) -> np.ndarray:\n",
    "    image = cv2.imread(path, cv2.IMREAD_COLOR)\n",
    "    image = cv2.cvtColor(src=image, code=cv2.COLOR_BGR2RGB)\n",
    "    return cv2.resize(src=image, dsize=(size, size), interpolation=cv2.INTER_AREA)\n",
    "\n",
    "    \n",
    "def show_loss_graphs(L: list) -> None:\n",
    "    TL, VL = [], []\n",
    "    for i in range(len(L)):\n",
    "        TL.append(L[i][\"train\"])\n",
    "        VL.append(L[i][\"valid\"])\n",
    "    x_Axis = np.arange(1, len(TL) + 1)\n",
    "    plt.figure()\n",
    "    plt.plot(x_Axis, TL, \"r\", label=\"Train\")\n",
    "    plt.plot(x_Axis, VL, \"b\", label=\"Valid\")\n",
    "    plt.legend()\n",
    "    plt.grid()\n",
    "    plt.title(\"Loss Graph\")\n",
    "    plt.show()\n",
    "\n",
    "    \n",
    "def show_accuracy_graphs(A: list) -> None:\n",
    "    TA, VA = [], []\n",
    "    for i in range(len(A)):\n",
    "        TA.append(A[i][\"train\"])\n",
    "        VA.append(A[i][\"valid\"])\n",
    "    x_Axis = np.arange(1, len(TA) + 1)\n",
    "    plt.figure()\n",
    "    plt.plot(x_Axis, TA, \"r\", label=\"Train\")\n",
    "    plt.plot(x_Axis, VA, \"b\", label=\"Valid\")\n",
    "    plt.legend()\n",
    "    plt.grid()\n",
    "    plt.title(\"Accuracy Graph\")\n",
    "    plt.show()\n",
    "    \n",
    "\n",
    "def show_lr_graph(LR: list) -> None:\n",
    "    x_Axis = [i+1 for i in range(len(LR))]\n",
    "    plt.figure(figsize=(8, 6))\n",
    "    plt.plot(x_Axis, LR, \"rx\")\n",
    "    plt.grid()\n",
    "    plt.show()"
   ]
  },
  {
   "cell_type": "markdown",
   "id": "4af5392f",
   "metadata": {
    "papermill": {
     "duration": 0.004093,
     "end_time": "2022-11-20T07:17:11.622333",
     "exception": false,
     "start_time": "2022-11-20T07:17:11.618240",
     "status": "completed"
    },
    "tags": []
   },
   "source": [
    "### **Configuration**"
   ]
  },
  {
   "cell_type": "code",
   "execution_count": 4,
   "id": "34efa997",
   "metadata": {
    "execution": {
     "iopub.execute_input": "2022-11-20T07:17:11.632134Z",
     "iopub.status.busy": "2022-11-20T07:17:11.631808Z",
     "iopub.status.idle": "2022-11-20T07:17:11.706376Z",
     "shell.execute_reply": "2022-11-20T07:17:11.705435Z"
    },
    "papermill": {
     "duration": 0.081935,
     "end_time": "2022-11-20T07:17:11.708459",
     "exception": false,
     "start_time": "2022-11-20T07:17:11.626524",
     "status": "completed"
    },
    "tags": []
   },
   "outputs": [],
   "source": [
    "class CFG(object):\n",
    "    def __init__(self, \n",
    "                 seed: int = 42,\n",
    "                 size: int = 224,\n",
    "                 n_splits: int = 5,\n",
    "                 batch_size: int = 16,\n",
    "                 epochs: int = 25,\n",
    "                 early_stopping: int = 5,\n",
    "                 lr: float = 1e-4,\n",
    "                 wd: float = 0.0,\n",
    "                 max_lr: float = 1e-3,\n",
    "                 pct_start: float = 0.2,\n",
    "                 steps_per_epoch: int = 100,\n",
    "                 div_factor: int = 1e3, \n",
    "                 final_div_factor: float = 1e3,\n",
    "                 ):\n",
    "        self.seed = seed\n",
    "        self.size = size\n",
    "        self.n_splits = n_splits\n",
    "        self.batch_size = batch_size\n",
    "        self.epochs = epochs\n",
    "        self.early_stopping = early_stopping\n",
    "        self.lr = lr\n",
    "        self.wd = wd\n",
    "        self.max_lr = max_lr\n",
    "        self.pct_start = pct_start\n",
    "        self.steps_per_epoch = steps_per_epoch\n",
    "        self.div_factor = div_factor\n",
    "        self.final_div_factor = final_div_factor\n",
    "        self.device = torch.device(\"cuda\" if torch.cuda.is_available() else \"cpu\")\n",
    "        \n",
    "        if self.size == 224:\n",
    "            self.train_transform = transforms.Compose([\n",
    "                transforms.ToTensor(),\n",
    "                transforms.Normalize([0.45818, 0.41879, 0.29899], [0.24524, 0.21704, 0.22208]),\n",
    "                transforms.RandomAffine(degrees=(-45, 45), translate=(0.15, 0.15), scale=(0.5, 1.5)),\n",
    "                transforms.RandomHorizontalFlip(p=0.25),\n",
    "                transforms.RandomVerticalFlip(p=0.25),\n",
    "            ])\n",
    "            self.valid_transform = transforms.Compose([\n",
    "                transforms.ToTensor(),\n",
    "                transforms.Normalize([0.45818, 0.41879, 0.29899], [0.24524, 0.21704, 0.22208]),\n",
    "            ])\n",
    "        \n",
    "        if self.size == 384:\n",
    "            self.train_transform = transforms.Compose([\n",
    "                transforms.ToTensor(),\n",
    "                transforms.Normalize([0.45807, 0.41868, 0.29889], [0.24757, 0.21952, 0.22436]),\n",
    "                transforms.RandomAffine(degrees=(-45, 45), translate=(0.15, 0.15), scale=(0.5, 1.5)),\n",
    "                transforms.RandomHorizontalFlip(p=0.25),\n",
    "                transforms.RandomVerticalFlip(p=0.25),\n",
    "            ])\n",
    "            self.valid_transform = transforms.Compose([\n",
    "                transforms.ToTensor(),\n",
    "                transforms.Normalize([0.45807, 0.41868, 0.29889], [0.24757, 0.21952, 0.22436]),\n",
    "            ])\n",
    "        \n",
    "        if self.size == 512:\n",
    "            self.train_transform = transforms.Compose([\n",
    "                transforms.ToTensor(),\n",
    "                transforms.Normalize([0.45813, 0.41874, 0.29895], [0.24827, 0.22026, 0.22505]),\n",
    "                transforms.RandomAffine(degrees=(-45, 45), translate=(0.15, 0.15), scale=(0.5, 1.5)),\n",
    "                transforms.RandomHorizontalFlip(p=0.25),\n",
    "                transforms.RandomVerticalFlip(p=0.25),\n",
    "            ])\n",
    "            self.valid_transform = transforms.Compose([\n",
    "                transforms.ToTensor(),\n",
    "                transforms.Normalize([0.45813, 0.41874, 0.29895], [0.24827, 0.22026, 0.22505]),\n",
    "            ])\n",
    "                                \n",
    "        self.save_path = \"saves\"\n",
    "        if not os.path.exists(self.save_path): os.makedirs(self.save_path)\n",
    "    \n",
    "cfg = CFG(\n",
    "    seed=SEED, \n",
    "    size=SIZE\n",
    ")"
   ]
  },
  {
   "cell_type": "markdown",
   "id": "d263f3a3",
   "metadata": {
    "papermill": {
     "duration": 0.003643,
     "end_time": "2022-11-20T07:17:11.716483",
     "exception": false,
     "start_time": "2022-11-20T07:17:11.712840",
     "status": "completed"
    },
    "tags": []
   },
   "source": [
    "### **Dataset Template**"
   ]
  },
  {
   "cell_type": "code",
   "execution_count": 5,
   "id": "8e15c882",
   "metadata": {
    "execution": {
     "iopub.execute_input": "2022-11-20T07:17:11.725424Z",
     "iopub.status.busy": "2022-11-20T07:17:11.725152Z",
     "iopub.status.idle": "2022-11-20T07:17:11.732003Z",
     "shell.execute_reply": "2022-11-20T07:17:11.730880Z"
    },
    "papermill": {
     "duration": 0.013709,
     "end_time": "2022-11-20T07:17:11.734133",
     "exception": false,
     "start_time": "2022-11-20T07:17:11.720424",
     "status": "completed"
    },
    "tags": []
   },
   "outputs": [],
   "source": [
    "class DS(Dataset):\n",
    "    def __init__(\n",
    "        self, \n",
    "        filepaths: np.ndarray, \n",
    "        size: int,\n",
    "        labels: Union[np.ndarray, None]=None, \n",
    "        transform=None\n",
    "    ):\n",
    "        \n",
    "        self.filepaths = filepaths\n",
    "        self.labels = labels\n",
    "        self.size = size\n",
    "        self.transform = transform\n",
    "    \n",
    "    def __len__(self):\n",
    "        return self.filepaths.shape[0]\n",
    "    \n",
    "    def __getitem__(self, idx):\n",
    "        image = get_image(self.filepaths[idx], self.size)\n",
    "        if self.labels is None:\n",
    "            return self.transform(image)\n",
    "        return self.transform(image), torch.LongTensor(self.labels[idx])"
   ]
  },
  {
   "cell_type": "markdown",
   "id": "214ec3fd",
   "metadata": {
    "papermill": {
     "duration": 0.003708,
     "end_time": "2022-11-20T07:17:11.741828",
     "exception": false,
     "start_time": "2022-11-20T07:17:11.738120",
     "status": "completed"
    },
    "tags": []
   },
   "source": [
    "### **Model**"
   ]
  },
  {
   "cell_type": "code",
   "execution_count": 6,
   "id": "054f4dc2",
   "metadata": {
    "execution": {
     "iopub.execute_input": "2022-11-20T07:17:11.750503Z",
     "iopub.status.busy": "2022-11-20T07:17:11.750242Z",
     "iopub.status.idle": "2022-11-20T07:17:11.755806Z",
     "shell.execute_reply": "2022-11-20T07:17:11.754774Z"
    },
    "papermill": {
     "duration": 0.01198,
     "end_time": "2022-11-20T07:17:11.757601",
     "exception": false,
     "start_time": "2022-11-20T07:17:11.745621",
     "status": "completed"
    },
    "tags": []
   },
   "outputs": [],
   "source": [
    "class Model(nn.Module):\n",
    "    def __init__(self):\n",
    "        super(Model, self).__init__()\n",
    "            \n",
    "        self.model = timm.create_model(model_name=\"efficientnet_b4\", pretrained=True)\n",
    "        self.model.classifier = nn.Linear(in_features=self.model.classifier.in_features, out_features=11)\n",
    "\n",
    "    def forward(self, x):\n",
    "        return nn.LogSoftmax(dim=1)(self.model(x))"
   ]
  },
  {
   "cell_type": "markdown",
   "id": "882184be",
   "metadata": {
    "papermill": {
     "duration": 0.003761,
     "end_time": "2022-11-20T07:17:11.765400",
     "exception": false,
     "start_time": "2022-11-20T07:17:11.761639",
     "status": "completed"
    },
    "tags": []
   },
   "source": [
    "### **Fit and Predict**"
   ]
  },
  {
   "cell_type": "code",
   "execution_count": 7,
   "id": "80cceef8",
   "metadata": {
    "execution": {
     "iopub.execute_input": "2022-11-20T07:17:11.774606Z",
     "iopub.status.busy": "2022-11-20T07:17:11.774353Z",
     "iopub.status.idle": "2022-11-20T07:17:11.794542Z",
     "shell.execute_reply": "2022-11-20T07:17:11.793734Z"
    },
    "papermill": {
     "duration": 0.02715,
     "end_time": "2022-11-20T07:17:11.796432",
     "exception": false,
     "start_time": "2022-11-20T07:17:11.769282",
     "status": "completed"
    },
    "tags": []
   },
   "outputs": [],
   "source": [
    "def fit(\n",
    "    model=None,\n",
    "    optimizer=None, \n",
    "    scheduler_rlrop=None,\n",
    "    scheduler_oclr=None,\n",
    "    epochs=None, \n",
    "    early_stopping_patience=None, \n",
    "    dataloaders=None, \n",
    "    fold=None, \n",
    "    save_path=None,\n",
    "    device=None,\n",
    "    verbose=False\n",
    ") -> tuple:\n",
    "    \n",
    "    def get_accuracy(y_pred, y_true):\n",
    "        y_pred = torch.argmax(y_pred, dim=1)\n",
    "        return torch.count_nonzero(y_pred == y_true).item() / len(y_pred)\n",
    "    \n",
    "    \n",
    "    if verbose:\n",
    "        breaker()\n",
    "        if fold: print(f\"Training Fold {fold}...\")\n",
    "        else: print(\"Training ...\")\n",
    "        breaker()\n",
    "        \n",
    "    bestLoss: dict = {\"train\" : np.inf, \"valid\" : np.inf} \n",
    "    bestAccs: dict = {\"train\" : 0.0, \"valid\" : 0.0}\n",
    "    \n",
    "    Losses: list = []\n",
    "    Accuracies: list = [] \n",
    "    LRs: list = []\n",
    "        \n",
    "    if fold: \n",
    "        ble_name = f\"ble_state_fold_{fold}.pt\"\n",
    "        bae_name = f\"bae_state_fold_{fold}.pt\"\n",
    "    else: \n",
    "        ble_name = f\"ble_state.pt\"\n",
    "        bae_name = f\"bae_state.pt\"\n",
    "        \n",
    "    start_time = time()\n",
    "    for e in range(epochs):\n",
    "        e_st = time()\n",
    "        epochLoss: dict = {\"train\" : 0.0, \"valid\" : 0.0} \n",
    "        epochAccs: dict = {\"train\" : 0.0, \"valid\" : 0.0}\n",
    "\n",
    "        for phase in [\"train\", \"valid\"]:\n",
    "            if phase == \"train\":\n",
    "                model.train()\n",
    "            else:\n",
    "                model.eval()\n",
    "            \n",
    "            lossPerPass: list = []\n",
    "            accsPerPass: list = []\n",
    "                \n",
    "            for X, y in dataloaders[phase]:\n",
    "                X, y = X.to(device), y.to(device).view(-1)\n",
    "\n",
    "                optimizer.zero_grad()\n",
    "                with torch.set_grad_enabled(phase == \"train\"):\n",
    "                    output = model(X)\n",
    "                    loss = torch.nn.NLLLoss()(output, y)\n",
    "                    if phase == \"train\":\n",
    "                        loss.backward()\n",
    "                        optimizer.step()\n",
    "                        if scheduler_oclr: scheduler_oclr.step()\n",
    "                lossPerPass.append(loss.item())\n",
    "                accsPerPass.append(get_accuracy(output, y))\n",
    "            epochLoss[phase] = np.mean(np.array(lossPerPass))\n",
    "            epochAccs[phase] = np.mean(np.array(accsPerPass))\n",
    "        if scheduler_oclr: LRs.append(scheduler_oclr.get_last_lr())\n",
    "        Losses.append(epochLoss)\n",
    "        Accuracies.append(epochAccs)\n",
    "        \n",
    "        if scheduler_oclr:\n",
    "            save_dict = {\"model_state_dict\"     : model.state_dict(),\n",
    "                         \"optim_state_dict\"     : optimizer.state_dict(),\n",
    "                         \"scheduler_state_dict\" : scheduler_oclr.state_dict()}\n",
    "        \n",
    "        elif scheduler_rlrop:\n",
    "            save_dict = {\"model_state_dict\"     : model.state_dict(),\n",
    "                         \"optim_state_dict\"     : optimizer.state_dict(),\n",
    "                         \"scheduler_state_dict\" : scheduler_rlrop.state_dict()}\n",
    "        \n",
    "        else:\n",
    "            save_dict = {\"model_state_dict\"     : model.state_dict(),\n",
    "                         \"optim_state_dict\"     : optimizer.state_dict()}\n",
    "        \n",
    "        if early_stopping_patience:\n",
    "            if epochLoss[\"valid\"] < bestLoss[\"valid\"]:\n",
    "                bestLoss = epochLoss\n",
    "                BLE = e + 1\n",
    "                torch.save(save_dict, os.path.join(save_path, ble_name))\n",
    "                torch.save(save_dict, os.path.join(save_path, bae_name))\n",
    "                early_stopping_step = 0\n",
    "            else:\n",
    "                early_stopping_step += 1\n",
    "                if early_stopping_step > early_stopping_patience:\n",
    "                    print(\"\\nEarly Stopping at Epoch {}\".format(e + 1))\n",
    "                    break\n",
    "        \n",
    "        if epochLoss[\"valid\"] < bestLoss[\"valid\"]:\n",
    "            bestLoss = epochLoss\n",
    "            BLE = e + 1\n",
    "            torch.save(save_dict,os.path.join(save_path, ble_name))\n",
    "        \n",
    "        if epochAccs[\"valid\"] > bestAccs[\"valid\"]:\n",
    "            bestAccs = epochAccs\n",
    "            BAE = e + 1\n",
    "            torch.save(save_dict,os.path.join(save_path, bae_name))\n",
    "        \n",
    "        if scheduler_rlrop: scheduler_rlrop.step(epochLoss[\"valid\"])\n",
    "        \n",
    "        if verbose:\n",
    "            print(\"Epoch: {} | Train Loss: {:.5f} | Valid Loss: {:.5f} |\\\n",
    " Train Accs: {:.5f} | Valid Accs: {:.5f} | Time: {:.2f} seconds\".format(e+1, \n",
    "                                                                        epochLoss[\"train\"], epochLoss[\"valid\"], \n",
    "                                                                        epochAccs[\"train\"], epochAccs[\"valid\"], \n",
    "                                                                        time()-e_st))\n",
    "\n",
    "    if verbose:                                           \n",
    "        breaker()\n",
    "        print(f\"Best Validation Loss at Epoch {BLE}\")\n",
    "        breaker()\n",
    "        print(f\"Best Validation Accs at Epoch {BAE}\")\n",
    "        breaker()\n",
    "        print(\"Time Taken [{} Epochs] : {:.2f} minutes\".format(len(Losses), (time()-start_time)/60))\n",
    "    \n",
    "    return Losses, Accuracies, LRs, bestLoss, bestAccs, BLE, BAE, ble_name, bae_name\n",
    "\n",
    "\n",
    "# def predict_batch(model=None, dataloader=None, path=None, device=None) -> np.ndarray:\n",
    "#     model.load_state_dict(torch.load(path, map_location=device)[\"model_state_dict\"])\n",
    "#     model.to(device)    \n",
    "#     model.eval()\n",
    "    \n",
    "#     y_pred = torch.zeros(1, 1).to(device)\n",
    "    \n",
    "#     for X in dataloader:\n",
    "#         X = X.to(device)\n",
    "#         with torch.no_grad():\n",
    "#             output = torch.argmax(torch.exp(model(X)), dim=1)\n",
    "#         y_pred = torch.cat((y_pred, output.view(-1, 1)), dim=0)\n",
    "    \n",
    "#     return y_pred[1:].detach().cpu().numpy()"
   ]
  },
  {
   "cell_type": "markdown",
   "id": "9723a5f3",
   "metadata": {
    "papermill": {
     "duration": 0.004873,
     "end_time": "2022-11-20T07:17:11.805126",
     "exception": false,
     "start_time": "2022-11-20T07:17:11.800253",
     "status": "completed"
    },
    "tags": []
   },
   "source": [
    "### **Train**"
   ]
  },
  {
   "cell_type": "code",
   "execution_count": 8,
   "id": "97fb9318",
   "metadata": {
    "execution": {
     "iopub.execute_input": "2022-11-20T07:17:11.814646Z",
     "iopub.status.busy": "2022-11-20T07:17:11.813907Z",
     "iopub.status.idle": "2022-11-20T07:17:11.855344Z",
     "shell.execute_reply": "2022-11-20T07:17:11.854487Z"
    },
    "papermill": {
     "duration": 0.048246,
     "end_time": "2022-11-20T07:17:11.857324",
     "exception": false,
     "start_time": "2022-11-20T07:17:11.809078",
     "status": "completed"
    },
    "tags": []
   },
   "outputs": [],
   "source": [
    "df = pd.read_csv(\"../input/fic-dataframe/train.csv\")\n",
    "\n",
    "filepaths = df.filepaths.copy().values\n",
    "labels = df.labels.copy().values"
   ]
  },
  {
   "cell_type": "code",
   "execution_count": 9,
   "id": "772dd7aa",
   "metadata": {
    "execution": {
     "iopub.execute_input": "2022-11-20T07:17:11.866799Z",
     "iopub.status.busy": "2022-11-20T07:17:11.866507Z",
     "iopub.status.idle": "2022-11-20T09:24:25.142460Z",
     "shell.execute_reply": "2022-11-20T09:24:25.141482Z"
    },
    "papermill": {
     "duration": 7633.283616,
     "end_time": "2022-11-20T09:24:25.144997",
     "exception": false,
     "start_time": "2022-11-20T07:17:11.861381",
     "status": "completed"
    },
    "tags": []
   },
   "outputs": [
    {
     "name": "stderr",
     "output_type": "stream",
     "text": [
      "Downloading: \"https://github.com/rwightman/pytorch-image-models/releases/download/v0.1-weights/efficientnet_b4_ra2_320-7eb33cd5.pth\" to /root/.cache/torch/hub/checkpoints/efficientnet_b4_ra2_320-7eb33cd5.pth\n"
     ]
    },
    {
     "name": "stdout",
     "output_type": "stream",
     "text": [
      "\n",
      "**************************************************\n",
      "\n",
      "Training Fold 1...\n",
      "\n",
      "**************************************************\n",
      "\n",
      "Epoch: 1 | Train Loss: 1.50549 | Valid Loss: 0.37432 | Train Accs: 0.56927 | Valid Accs: 0.86837 | Time: 183.98 seconds\n",
      "Epoch: 2 | Train Loss: 0.32469 | Valid Loss: 0.26069 | Train Accs: 0.88982 | Valid Accs: 0.92194 | Time: 163.78 seconds\n",
      "Epoch: 3 | Train Loss: 0.22315 | Valid Loss: 0.27554 | Train Accs: 0.92204 | Valid Accs: 0.92832 | Time: 159.21 seconds\n",
      "Epoch: 4 | Train Loss: 0.16318 | Valid Loss: 0.21880 | Train Accs: 0.94910 | Valid Accs: 0.93597 | Time: 158.79 seconds\n",
      "Epoch: 5 | Train Loss: 0.11453 | Valid Loss: 0.16330 | Train Accs: 0.96102 | Valid Accs: 0.94719 | Time: 162.85 seconds\n",
      "Epoch: 6 | Train Loss: 0.08077 | Valid Loss: 0.20243 | Train Accs: 0.97358 | Valid Accs: 0.94974 | Time: 154.10 seconds\n",
      "Epoch: 7 | Train Loss: 0.03961 | Valid Loss: 0.20732 | Train Accs: 0.98615 | Valid Accs: 0.96403 | Time: 154.67 seconds\n",
      "Epoch: 8 | Train Loss: 0.03103 | Valid Loss: 0.23067 | Train Accs: 0.98872 | Valid Accs: 0.94464 | Time: 156.86 seconds\n",
      "Epoch: 9 | Train Loss: 0.02408 | Valid Loss: 0.22918 | Train Accs: 0.99388 | Valid Accs: 0.95638 | Time: 150.82 seconds\n",
      "Epoch: 10 | Train Loss: 0.01794 | Valid Loss: 0.21950 | Train Accs: 0.99388 | Valid Accs: 0.95765 | Time: 151.67 seconds\n",
      "\n",
      "**************************************************\n",
      "\n",
      "Best Validation Loss at Epoch 5\n",
      "\n",
      "**************************************************\n",
      "\n",
      "Best Validation Accs at Epoch 7\n",
      "\n",
      "**************************************************\n",
      "\n",
      "Time Taken [10 Epochs] : 26.61 minutes\n",
      "\n",
      "**************************************************\n",
      "\n"
     ]
    },
    {
     "data": {
      "image/png": "[encoded data removed]",
      "text/plain": [
       "<Figure size 432x288 with 1 Axes>"
      ]
     },
     "metadata": {
      "needs_background": "light"
     },
     "output_type": "display_data"
    },
    {
     "name": "stdout",
     "output_type": "stream",
     "text": [
      "\n",
      "**************************************************\n",
      "\n"
     ]
    },
    {
     "data": {
      "image/png": "[encoded data removed]",
      "text/plain": [
       "<Figure size 432x288 with 1 Axes>"
      ]
     },
     "metadata": {
      "needs_background": "light"
     },
     "output_type": "display_data"
    },
    {
     "name": "stdout",
     "output_type": "stream",
     "text": [
      "\n",
      "**************************************************\n",
      "\n"
     ]
    },
    {
     "data": {
      "image/png": "[encoded data removed]",
      "text/plain": [
       "<Figure size 576x432 with 1 Axes>"
      ]
     },
     "metadata": {
      "needs_background": "light"
     },
     "output_type": "display_data"
    },
    {
     "name": "stdout",
     "output_type": "stream",
     "text": [
      "\n",
      "**************************************************\n",
      "\n",
      "\n",
      "**************************************************\n",
      "\n",
      "Training Fold 2...\n",
      "\n",
      "**************************************************\n",
      "\n",
      "Epoch: 1 | Train Loss: 1.51381 | Valid Loss: 0.37199 | Train Accs: 0.57184 | Valid Accs: 0.86224 | Time: 151.87 seconds\n",
      "Epoch: 2 | Train Loss: 0.32948 | Valid Loss: 0.19934 | Train Accs: 0.88595 | Valid Accs: 0.92347 | Time: 152.45 seconds\n",
      "Epoch: 3 | Train Loss: 0.22219 | Valid Loss: 0.14646 | Train Accs: 0.92429 | Valid Accs: 0.95536 | Time: 153.45 seconds\n",
      "Epoch: 4 | Train Loss: 0.16427 | Valid Loss: 0.18081 | Train Accs: 0.94942 | Valid Accs: 0.94643 | Time: 150.95 seconds\n",
      "Epoch: 5 | Train Loss: 0.10843 | Valid Loss: 0.22247 | Train Accs: 0.96488 | Valid Accs: 0.93852 | Time: 150.27 seconds\n",
      "Epoch: 6 | Train Loss: 0.07483 | Valid Loss: 0.20259 | Train Accs: 0.97455 | Valid Accs: 0.94643 | Time: 150.41 seconds\n",
      "Epoch: 7 | Train Loss: 0.04276 | Valid Loss: 0.16288 | Train Accs: 0.98582 | Valid Accs: 0.95153 | Time: 150.08 seconds\n",
      "Epoch: 8 | Train Loss: 0.03147 | Valid Loss: 0.18557 | Train Accs: 0.99034 | Valid Accs: 0.94643 | Time: 151.35 seconds\n",
      "\n",
      "Early Stopping at Epoch 9\n",
      "\n",
      "**************************************************\n",
      "\n",
      "Best Validation Loss at Epoch 3\n",
      "\n",
      "**************************************************\n",
      "\n",
      "Best Validation Accs at Epoch 3\n",
      "\n",
      "**************************************************\n",
      "\n",
      "Time Taken [9 Epochs] : 22.69 minutes\n",
      "\n",
      "**************************************************\n",
      "\n"
     ]
    },
    {
     "data": {
      "image/png": "[encoded data removed]",
      "text/plain": [
       "<Figure size 432x288 with 1 Axes>"
      ]
     },
     "metadata": {
      "needs_background": "light"
     },
     "output_type": "display_data"
    },
    {
     "name": "stdout",
     "output_type": "stream",
     "text": [
      "\n",
      "**************************************************\n",
      "\n"
     ]
    },
    {
     "data": {
      "image/png": "[encoded data removed]",
      "text/plain": [
       "<Figure size 432x288 with 1 Axes>"
      ]
     },
     "metadata": {
      "needs_background": "light"
     },
     "output_type": "display_data"
    },
    {
     "name": "stdout",
     "output_type": "stream",
     "text": [
      "\n",
      "**************************************************\n",
      "\n"
     ]
    },
    {
     "data": {
      "image/png": "[encoded data removed]",
      "text/plain": [
       "<Figure size 576x432 with 1 Axes>"
      ]
     },
     "metadata": {
      "needs_background": "light"
     },
     "output_type": "display_data"
    },
    {
     "name": "stdout",
     "output_type": "stream",
     "text": [
      "\n",
      "**************************************************\n",
      "\n",
      "\n",
      "**************************************************\n",
      "\n",
      "Training Fold 3...\n",
      "\n",
      "**************************************************\n",
      "\n",
      "Epoch: 1 | Train Loss: 1.52406 | Valid Loss: 0.35309 | Train Accs: 0.57120 | Valid Accs: 0.85689 | Time: 151.81 seconds\n",
      "Epoch: 2 | Train Loss: 0.31485 | Valid Loss: 0.32066 | Train Accs: 0.89369 | Valid Accs: 0.90408 | Time: 151.39 seconds\n",
      "Epoch: 3 | Train Loss: 0.21168 | Valid Loss: 0.30058 | Train Accs: 0.93009 | Valid Accs: 0.92194 | Time: 155.37 seconds\n",
      "Epoch: 4 | Train Loss: 0.15223 | Valid Loss: 0.18810 | Train Accs: 0.94394 | Valid Accs: 0.95000 | Time: 153.23 seconds\n",
      "Epoch: 5 | Train Loss: 0.12396 | Valid Loss: 0.18298 | Train Accs: 0.95715 | Valid Accs: 0.94745 | Time: 157.26 seconds\n",
      "Epoch: 6 | Train Loss: 0.07386 | Valid Loss: 0.22057 | Train Accs: 0.97809 | Valid Accs: 0.95893 | Time: 165.83 seconds\n",
      "Epoch: 7 | Train Loss: 0.05132 | Valid Loss: 0.15340 | Train Accs: 0.98260 | Valid Accs: 0.96020 | Time: 154.37 seconds\n",
      "Epoch: 8 | Train Loss: 0.03429 | Valid Loss: 0.18542 | Train Accs: 0.98808 | Valid Accs: 0.95765 | Time: 151.41 seconds\n",
      "Epoch: 9 | Train Loss: 0.02090 | Valid Loss: 0.13343 | Train Accs: 0.99356 | Valid Accs: 0.96403 | Time: 153.90 seconds\n",
      "Epoch: 10 | Train Loss: 0.01850 | Valid Loss: 0.18387 | Train Accs: 0.99323 | Valid Accs: 0.95893 | Time: 156.05 seconds\n",
      "\n",
      "**************************************************\n",
      "\n",
      "Best Validation Loss at Epoch 9\n",
      "\n",
      "**************************************************\n",
      "\n",
      "Best Validation Accs at Epoch 9\n",
      "\n",
      "**************************************************\n",
      "\n",
      "Time Taken [10 Epochs] : 25.84 minutes\n",
      "\n",
      "**************************************************\n",
      "\n"
     ]
    },
    {
     "data": {
      "image/png": "[encoded data removed]",
      "text/plain": [
       "<Figure size 432x288 with 1 Axes>"
      ]
     },
     "metadata": {
      "needs_background": "light"
     },
     "output_type": "display_data"
    },
    {
     "name": "stdout",
     "output_type": "stream",
     "text": [
      "\n",
      "**************************************************\n",
      "\n"
     ]
    },
    {
     "data": {
      "image/png": "[encoded data removed]",
      "text/plain": [
       "<Figure size 432x288 with 1 Axes>"
      ]
     },
     "metadata": {
      "needs_background": "light"
     },
     "output_type": "display_data"
    },
    {
     "name": "stdout",
     "output_type": "stream",
     "text": [
      "\n",
      "**************************************************\n",
      "\n"
     ]
    },
    {
     "data": {
      "image/png": "[encoded data removed]",
      "text/plain": [
       "<Figure size 576x432 with 1 Axes>"
      ]
     },
     "metadata": {
      "needs_background": "light"
     },
     "output_type": "display_data"
    },
    {
     "name": "stdout",
     "output_type": "stream",
     "text": [
      "\n",
      "**************************************************\n",
      "\n",
      "\n",
      "**************************************************\n",
      "\n",
      "Training Fold 4...\n",
      "\n",
      "**************************************************\n",
      "\n",
      "Epoch: 1 | Train Loss: 1.51435 | Valid Loss: 0.47372 | Train Accs: 0.57249 | Valid Accs: 0.82270 | Time: 164.55 seconds\n",
      "Epoch: 2 | Train Loss: 0.32487 | Valid Loss: 0.28630 | Train Accs: 0.89079 | Valid Accs: 0.90000 | Time: 154.55 seconds\n",
      "Epoch: 3 | Train Loss: 0.23734 | Valid Loss: 0.20086 | Train Accs: 0.91881 | Valid Accs: 0.94260 | Time: 153.50 seconds\n",
      "Epoch: 4 | Train Loss: 0.17092 | Valid Loss: 0.16236 | Train Accs: 0.93847 | Valid Accs: 0.94898 | Time: 156.41 seconds\n",
      "Epoch: 5 | Train Loss: 0.12154 | Valid Loss: 0.15859 | Train Accs: 0.95715 | Valid Accs: 0.94898 | Time: 153.84 seconds\n",
      "Epoch: 6 | Train Loss: 0.08724 | Valid Loss: 0.12940 | Train Accs: 0.97294 | Valid Accs: 0.95281 | Time: 158.06 seconds\n",
      "Epoch: 7 | Train Loss: 0.04074 | Valid Loss: 0.15214 | Train Accs: 0.98615 | Valid Accs: 0.95026 | Time: 160.11 seconds\n",
      "Epoch: 8 | Train Loss: 0.03615 | Valid Loss: 0.16700 | Train Accs: 0.98776 | Valid Accs: 0.95918 | Time: 153.43 seconds\n",
      "Epoch: 9 | Train Loss: 0.02675 | Valid Loss: 0.11124 | Train Accs: 0.99001 | Valid Accs: 0.96556 | Time: 157.35 seconds\n",
      "Epoch: 10 | Train Loss: 0.01814 | Valid Loss: 0.16771 | Train Accs: 0.99227 | Valid Accs: 0.95791 | Time: 151.60 seconds\n",
      "\n",
      "**************************************************\n",
      "\n",
      "Best Validation Loss at Epoch 9\n",
      "\n",
      "**************************************************\n",
      "\n",
      "Best Validation Accs at Epoch 9\n",
      "\n",
      "**************************************************\n",
      "\n",
      "Time Taken [10 Epochs] : 26.06 minutes\n",
      "\n",
      "**************************************************\n",
      "\n"
     ]
    },
    {
     "data": {
      "image/png": "[encoded data removed]",
      "text/plain": [
       "<Figure size 432x288 with 1 Axes>"
      ]
     },
     "metadata": {
      "needs_background": "light"
     },
     "output_type": "display_data"
    },
    {
     "name": "stdout",
     "output_type": "stream",
     "text": [
      "\n",
      "**************************************************\n",
      "\n"
     ]
    },
    {
     "data": {
      "image/png": "[encoded data removed]",
      "text/plain": [
       "<Figure size 432x288 with 1 Axes>"
      ]
     },
     "metadata": {
      "needs_background": "light"
     },
     "output_type": "display_data"
    },
    {
     "name": "stdout",
     "output_type": "stream",
     "text": [
      "\n",
      "**************************************************\n",
      "\n"
     ]
    },
    {
     "data": {
      "image/png": "[encoded data removed]",
      "text/plain": [
       "<Figure size 576x432 with 1 Axes>"
      ]
     },
     "metadata": {
      "needs_background": "light"
     },
     "output_type": "display_data"
    },
    {
     "name": "stdout",
     "output_type": "stream",
     "text": [
      "\n",
      "**************************************************\n",
      "\n",
      "\n",
      "**************************************************\n",
      "\n",
      "Training Fold 5...\n",
      "\n",
      "**************************************************\n",
      "\n",
      "Epoch: 1 | Train Loss: 1.51308 | Valid Loss: 0.37092 | Train Accs: 0.57184 | Valid Accs: 0.86480 | Time: 153.74 seconds\n",
      "Epoch: 2 | Train Loss: 0.32603 | Valid Loss: 0.31428 | Train Accs: 0.88918 | Valid Accs: 0.89286 | Time: 153.39 seconds\n",
      "Epoch: 3 | Train Loss: 0.21558 | Valid Loss: 0.20686 | Train Accs: 0.92558 | Valid Accs: 0.93597 | Time: 154.16 seconds\n",
      "Epoch: 4 | Train Loss: 0.17479 | Valid Loss: 0.24169 | Train Accs: 0.93911 | Valid Accs: 0.92857 | Time: 151.76 seconds\n",
      "Epoch: 5 | Train Loss: 0.13284 | Valid Loss: 0.14582 | Train Accs: 0.95296 | Valid Accs: 0.94260 | Time: 152.25 seconds\n",
      "Epoch: 6 | Train Loss: 0.07446 | Valid Loss: 0.19397 | Train Accs: 0.97841 | Valid Accs: 0.93112 | Time: 151.05 seconds\n",
      "Epoch: 7 | Train Loss: 0.03936 | Valid Loss: 0.16080 | Train Accs: 0.98840 | Valid Accs: 0.94898 | Time: 150.97 seconds\n",
      "Epoch: 8 | Train Loss: 0.02389 | Valid Loss: 0.12999 | Train Accs: 0.99162 | Valid Accs: 0.96556 | Time: 157.38 seconds\n",
      "Epoch: 9 | Train Loss: 0.02608 | Valid Loss: 0.15687 | Train Accs: 0.98937 | Valid Accs: 0.95408 | Time: 159.10 seconds\n",
      "Epoch: 10 | Train Loss: 0.01969 | Valid Loss: 0.11561 | Train Accs: 0.99195 | Valid Accs: 0.97066 | Time: 158.56 seconds\n",
      "\n",
      "**************************************************\n",
      "\n",
      "Best Validation Loss at Epoch 10\n",
      "\n",
      "**************************************************\n",
      "\n",
      "Best Validation Accs at Epoch 10\n",
      "\n",
      "**************************************************\n",
      "\n",
      "Time Taken [10 Epochs] : 25.71 minutes\n",
      "\n",
      "**************************************************\n",
      "\n"
     ]
    },
    {
     "data": {
      "image/png": "[encoded data removed]",
      "text/plain": [
       "<Figure size 432x288 with 1 Axes>"
      ]
     },
     "metadata": {
      "needs_background": "light"
     },
     "output_type": "display_data"
    },
    {
     "name": "stdout",
     "output_type": "stream",
     "text": [
      "\n",
      "**************************************************\n",
      "\n"
     ]
    },
    {
     "data": {
      "image/png": "[encoded data removed]",
      "text/plain": [
       "<Figure size 432x288 with 1 Axes>"
      ]
     },
     "metadata": {
      "needs_background": "light"
     },
     "output_type": "display_data"
    },
    {
     "name": "stdout",
     "output_type": "stream",
     "text": [
      "\n",
      "**************************************************\n",
      "\n"
     ]
    },
    {
     "data": {
      "image/png": "[encoded data removed]",
      "text/plain": [
       "<Figure size 576x432 with 1 Axes>"
      ]
     },
     "metadata": {
      "needs_background": "light"
     },
     "output_type": "display_data"
    },
    {
     "name": "stdout",
     "output_type": "stream",
     "text": [
      "\n",
      "**************************************************\n",
      "\n"
     ]
    }
   ],
   "source": [
    "fold: int = 1\n",
    "BLs: list = []\n",
    "BAs: list = []\n",
    "    \n",
    "cfg.batch_size = 16\n",
    "cfg.epochs = 10\n",
    "    \n",
    "for tr_idx, va_idx in StratifiedKFold(n_splits=cfg.n_splits, random_state=cfg.seed, shuffle=True).split(filepaths, labels):\n",
    "\n",
    "    tr_filepaths, va_filepaths = filepaths[tr_idx], filepaths[va_idx] \n",
    "    tr_labels, va_labels       = labels[tr_idx], labels[va_idx]\n",
    "\n",
    "    tr_data_setup = DS(\n",
    "        filepaths=tr_filepaths, \n",
    "        labels=tr_labels.reshape(-1, 1),\n",
    "        size=cfg.size,\n",
    "        transform=cfg.train_transform\n",
    "    )\n",
    "    \n",
    "    va_data_setup = DS(\n",
    "        filepaths=va_filepaths, \n",
    "        labels=va_labels.reshape(-1, 1),\n",
    "        size=cfg.size,\n",
    "        transform=cfg.train_transform\n",
    "    )\n",
    "\n",
    "    dataloaders = {\n",
    "        \"train\" : DL(tr_data_setup, batch_size=cfg.batch_size, shuffle=True, generator=torch.manual_seed(cfg.seed)),\n",
    "        \"valid\" : DL(va_data_setup, batch_size=cfg.batch_size, shuffle=False),\n",
    "    }\n",
    "\n",
    "    cfg.steps_per_epoch=len(dataloaders[\"train\"])\n",
    "    \n",
    "    torch.manual_seed(cfg.seed)\n",
    "    model = Model().to(cfg.device)\n",
    "\n",
    "    optimizer = optim.Adam([p for p in model.parameters() if p.requires_grad], lr=cfg.lr, weight_decay=cfg.wd)\n",
    "    # optimizer = optim.AdamW([p for p in model.parameters() if p.requires_grad], lr=cfg.lr, weight_decay=cfg.wd)\n",
    "    # optimizer = optim.SGD([p for p in model.parameters() if p.requires_grad], lr=cfg.lr, weight_decay=cfg.wd, momentum=0.9)\n",
    "\n",
    "    scheduler_oclr = optim.lr_scheduler.OneCycleLR(\n",
    "        optimizer=optimizer, \n",
    "        max_lr=cfg.max_lr, \n",
    "        epochs=cfg.epochs, \n",
    "        steps_per_epoch=cfg.steps_per_epoch,\n",
    "        pct_start=cfg.pct_start, \n",
    "        div_factor=cfg.div_factor, \n",
    "        final_div_factor=cfg.final_div_factor\n",
    "    )\n",
    "\n",
    "    # scheduler_rlrop = optim.lr_scheduler.ReduceLROnPlateau(\n",
    "    #     optimizer=optimizer,\n",
    "    #     patience=cfg.patience,\n",
    "    #     eps=cfg.eps,\n",
    "    #     verbose=True\n",
    "    # )\n",
    "\n",
    "    # scheduler_oclr = None\n",
    "    scheduler_rlrop = None\n",
    "\n",
    "\n",
    "    L, A, LR, BL, BA, _, _, _, _ = fit(\n",
    "        model=model, \n",
    "        optimizer=optimizer, \n",
    "        scheduler_oclr=scheduler_oclr,\n",
    "        scheduler_rlrop=scheduler_rlrop,\n",
    "        epochs=cfg.epochs, \n",
    "        early_stopping_patience=cfg.early_stopping, \n",
    "        dataloaders=dataloaders, \n",
    "        device=cfg.device,\n",
    "        save_path=cfg.save_path,\n",
    "        fold=fold,\n",
    "        verbose=True\n",
    "    )\n",
    "\n",
    "\n",
    "    breaker()\n",
    "    show_loss_graphs(L)\n",
    "    breaker()\n",
    "    show_accuracy_graphs(A)\n",
    "    breaker()\n",
    "    if scheduler_oclr:\n",
    "        show_lr_graph(LR)\n",
    "        breaker()\n",
    "    \n",
    "    BLs.append(BL)\n",
    "    BAs.append(BA)\n",
    "    \n",
    "    fold += 1"
   ]
  },
  {
   "cell_type": "markdown",
   "id": "7ae884aa",
   "metadata": {
    "papermill": {
     "duration": 0.010434,
     "end_time": "2022-11-20T09:24:25.166388",
     "exception": false,
     "start_time": "2022-11-20T09:24:25.155954",
     "status": "completed"
    },
    "tags": []
   },
   "source": [
    "### **Best Model**"
   ]
  },
  {
   "cell_type": "code",
   "execution_count": 10,
   "id": "1c84643d",
   "metadata": {
    "execution": {
     "iopub.execute_input": "2022-11-20T09:24:25.188972Z",
     "iopub.status.busy": "2022-11-20T09:24:25.188167Z",
     "iopub.status.idle": "2022-11-20T09:24:25.195547Z",
     "shell.execute_reply": "2022-11-20T09:24:25.194524Z"
    },
    "papermill": {
     "duration": 0.021475,
     "end_time": "2022-11-20T09:24:25.198300",
     "exception": false,
     "start_time": "2022-11-20T09:24:25.176825",
     "status": "completed"
    },
    "tags": []
   },
   "outputs": [
    {
     "name": "stdout",
     "output_type": "stream",
     "text": [
      "\n",
      "**************************************************\n",
      "\n",
      "Best Loss Model Fold     : 4\n",
      "Best Accuracy Model Fold : 5\n",
      "\n",
      "**************************************************\n",
      "\n"
     ]
    }
   ],
   "source": [
    "BL = np.inf\n",
    "for i in range(len(BLs)):\n",
    "    if BLs[i][\"valid\"] < BL:\n",
    "        BL = BLs[i][\"valid\"]\n",
    "        best_loss_index = i\n",
    "\n",
    "        \n",
    "BA = 0.0\n",
    "for i in range(len(BAs)):\n",
    "    if BAs[i][\"valid\"] > BA:\n",
    "        BA = BAs[i][\"valid\"]\n",
    "        best_accs_index = i\n",
    "\n",
    "breaker()\n",
    "print(f\"Best Loss Model Fold     : {best_loss_index + 1}\")\n",
    "print(f\"Best Accuracy Model Fold : {best_accs_index + 1}\")\n",
    "breaker()"
   ]
  }
 ],
 "metadata": {
  "kernelspec": {
   "display_name": "Python 3",
   "language": "python",
   "name": "python3"
  },
  "language_info": {
   "codemirror_mode": {
    "name": "ipython",
    "version": 3
   },
   "file_extension": ".py",
   "mimetype": "text/x-python",
   "name": "python",
   "nbconvert_exporter": "python",
   "pygments_lexer": "ipython3",
   "version": "3.7.12"
  },
  "papermill": {
   "default_parameters": {},
   "duration": 7657.925507,
   "end_time": "2022-11-20T09:24:27.045448",
   "environment_variables": {},
   "exception": null,
   "input_path": "__notebook__.ipynb",
   "output_path": "__notebook__.ipynb",
   "parameters": {},
   "start_time": "2022-11-20T07:16:49.119941",
   "version": "2.3.4"
  }
 },
 "nbformat": 4,
 "nbformat_minor": 5
}
