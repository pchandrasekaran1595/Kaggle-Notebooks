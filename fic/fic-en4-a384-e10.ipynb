{
 "cells": [
  {
   "cell_type": "markdown",
   "id": "079c0263",
   "metadata": {
    "_cell_guid": "b1076dfc-b9ad-4769-8c92-a6c4dae69d19",
    "_uuid": "8f2839f25d086af736a60e9eeb907d3b93b6e0e5",
    "papermill": {
     "duration": 0.005437,
     "end_time": "2022-11-20T15:18:45.588216",
     "exception": false,
     "start_time": "2022-11-20T15:18:45.582779",
     "status": "completed"
    },
    "tags": []
   },
   "source": [
    "##### **Setup**"
   ]
  },
  {
   "cell_type": "code",
   "execution_count": 1,
   "id": "234725b1",
   "metadata": {
    "execution": {
     "iopub.execute_input": "2022-11-20T15:18:45.604233Z",
     "iopub.status.busy": "2022-11-20T15:18:45.603080Z",
     "iopub.status.idle": "2022-11-20T15:18:56.071229Z",
     "shell.execute_reply": "2022-11-20T15:18:56.070082Z"
    },
    "papermill": {
     "duration": 10.479447,
     "end_time": "2022-11-20T15:18:56.073767",
     "exception": false,
     "start_time": "2022-11-20T15:18:45.594320",
     "status": "completed"
    },
    "tags": []
   },
   "outputs": [
    {
     "name": "stderr",
     "output_type": "stream",
     "text": [
      "WARNING: Running pip as the 'root' user can result in broken permissions and conflicting behaviour with the system package manager. It is recommended to use a virtual environment instead: https://pip.pypa.io/warnings/venv\n"
     ]
    }
   ],
   "source": [
    "%%bash\n",
    "pip install timm -q"
   ]
  },
  {
   "cell_type": "markdown",
   "id": "74ab0bce",
   "metadata": {
    "papermill": {
     "duration": 0.003769,
     "end_time": "2022-11-20T15:18:56.081792",
     "exception": false,
     "start_time": "2022-11-20T15:18:56.078023",
     "status": "completed"
    },
    "tags": []
   },
   "source": [
    "### **Library Imports**"
   ]
  },
  {
   "cell_type": "code",
   "execution_count": 2,
   "id": "70a154c0",
   "metadata": {
    "execution": {
     "iopub.execute_input": "2022-11-20T15:18:56.091072Z",
     "iopub.status.busy": "2022-11-20T15:18:56.090758Z",
     "iopub.status.idle": "2022-11-20T15:18:59.927630Z",
     "shell.execute_reply": "2022-11-20T15:18:59.926445Z"
    },
    "papermill": {
     "duration": 3.844419,
     "end_time": "2022-11-20T15:18:59.930099",
     "exception": false,
     "start_time": "2022-11-20T15:18:56.085680",
     "status": "completed"
    },
    "tags": []
   },
   "outputs": [],
   "source": [
    "import os\n",
    "import re\n",
    "import cv2\n",
    "import timm\n",
    "import torch\n",
    "import numpy as np\n",
    "import pandas as pd\n",
    "import matplotlib.pyplot as plt\n",
    "\n",
    "from time import time\n",
    "from typing import Union\n",
    "from torch import nn, optim\n",
    "from torch.utils.data import Dataset\n",
    "from torch.utils.data import DataLoader as DL\n",
    "from torchvision import models, transforms\n",
    "\n",
    "from sklearn.model_selection import StratifiedKFold"
   ]
  },
  {
   "cell_type": "markdown",
   "id": "9c5ce9a2",
   "metadata": {
    "papermill": {
     "duration": 0.00377,
     "end_time": "2022-11-20T15:18:59.938106",
     "exception": false,
     "start_time": "2022-11-20T15:18:59.934336",
     "status": "completed"
    },
    "tags": []
   },
   "source": [
    "### **Utilities and Helpers**"
   ]
  },
  {
   "cell_type": "code",
   "execution_count": 3,
   "id": "369b3e11",
   "metadata": {
    "execution": {
     "iopub.execute_input": "2022-11-20T15:18:59.947573Z",
     "iopub.status.busy": "2022-11-20T15:18:59.947040Z",
     "iopub.status.idle": "2022-11-20T15:18:59.958786Z",
     "shell.execute_reply": "2022-11-20T15:18:59.957849Z"
    },
    "papermill": {
     "duration": 0.018875,
     "end_time": "2022-11-20T15:18:59.960895",
     "exception": false,
     "start_time": "2022-11-20T15:18:59.942020",
     "status": "completed"
    },
    "tags": []
   },
   "outputs": [],
   "source": [
    "SEED = 42\n",
    "SIZE = 384\n",
    "\n",
    "\n",
    "def breaker(num: int=50, char: str=\"*\") -> None:\n",
    "    print(\"\\n\" + num*char + \"\\n\")\n",
    "\n",
    "    \n",
    "def get_image(path: str, size: int=224) -> np.ndarray:\n",
    "    image = cv2.imread(path, cv2.IMREAD_COLOR)\n",
    "    image = cv2.cvtColor(src=image, code=cv2.COLOR_BGR2RGB)\n",
    "    return cv2.resize(src=image, dsize=(size, size), interpolation=cv2.INTER_AREA)\n",
    "\n",
    "    \n",
    "def show_loss_graphs(L: list) -> None:\n",
    "    TL, VL = [], []\n",
    "    for i in range(len(L)):\n",
    "        TL.append(L[i][\"train\"])\n",
    "        VL.append(L[i][\"valid\"])\n",
    "    x_Axis = np.arange(1, len(TL) + 1)\n",
    "    plt.figure()\n",
    "    plt.plot(x_Axis, TL, \"r\", label=\"Train\")\n",
    "    plt.plot(x_Axis, VL, \"b\", label=\"Valid\")\n",
    "    plt.legend()\n",
    "    plt.grid()\n",
    "    plt.title(\"Loss Graph\")\n",
    "    plt.show()\n",
    "\n",
    "    \n",
    "def show_accuracy_graphs(A: list) -> None:\n",
    "    TA, VA = [], []\n",
    "    for i in range(len(A)):\n",
    "        TA.append(A[i][\"train\"])\n",
    "        VA.append(A[i][\"valid\"])\n",
    "    x_Axis = np.arange(1, len(TA) + 1)\n",
    "    plt.figure()\n",
    "    plt.plot(x_Axis, TA, \"r\", label=\"Train\")\n",
    "    plt.plot(x_Axis, VA, \"b\", label=\"Valid\")\n",
    "    plt.legend()\n",
    "    plt.grid()\n",
    "    plt.title(\"Accuracy Graph\")\n",
    "    plt.show()\n",
    "    \n",
    "\n",
    "def show_lr_graph(LR: list) -> None:\n",
    "    x_Axis = [i+1 for i in range(len(LR))]\n",
    "    plt.figure(figsize=(8, 6))\n",
    "    plt.plot(x_Axis, LR, \"rx\")\n",
    "    plt.grid()\n",
    "    plt.show()"
   ]
  },
  {
   "cell_type": "markdown",
   "id": "f5ed71e2",
   "metadata": {
    "papermill": {
     "duration": 0.003711,
     "end_time": "2022-11-20T15:18:59.968514",
     "exception": false,
     "start_time": "2022-11-20T15:18:59.964803",
     "status": "completed"
    },
    "tags": []
   },
   "source": [
    "### **Configuration**"
   ]
  },
  {
   "cell_type": "code",
   "execution_count": 4,
   "id": "969d9b72",
   "metadata": {
    "execution": {
     "iopub.execute_input": "2022-11-20T15:18:59.977921Z",
     "iopub.status.busy": "2022-11-20T15:18:59.977655Z",
     "iopub.status.idle": "2022-11-20T15:19:00.055040Z",
     "shell.execute_reply": "2022-11-20T15:19:00.053965Z"
    },
    "papermill": {
     "duration": 0.084829,
     "end_time": "2022-11-20T15:19:00.057200",
     "exception": false,
     "start_time": "2022-11-20T15:18:59.972371",
     "status": "completed"
    },
    "tags": []
   },
   "outputs": [],
   "source": [
    "class CFG(object):\n",
    "    def __init__(self, \n",
    "                 seed: int = 42,\n",
    "                 size: int = 224,\n",
    "                 n_splits: int = 5,\n",
    "                 batch_size: int = 16,\n",
    "                 epochs: int = 25,\n",
    "                 early_stopping: int = 5,\n",
    "                 lr: float = 1e-4,\n",
    "                 wd: float = 0.0,\n",
    "                 max_lr: float = 1e-3,\n",
    "                 pct_start: float = 0.2,\n",
    "                 steps_per_epoch: int = 100,\n",
    "                 div_factor: int = 1e3, \n",
    "                 final_div_factor: float = 1e3,\n",
    "                 ):\n",
    "        self.seed = seed\n",
    "        self.size = size\n",
    "        self.n_splits = n_splits\n",
    "        self.batch_size = batch_size\n",
    "        self.epochs = epochs\n",
    "        self.early_stopping = early_stopping\n",
    "        self.lr = lr\n",
    "        self.wd = wd\n",
    "        self.max_lr = max_lr\n",
    "        self.pct_start = pct_start\n",
    "        self.steps_per_epoch = steps_per_epoch\n",
    "        self.div_factor = div_factor\n",
    "        self.final_div_factor = final_div_factor\n",
    "        self.device = torch.device(\"cuda\" if torch.cuda.is_available() else \"cpu\")\n",
    "        \n",
    "        if self.size == 224:\n",
    "            self.train_transform = transforms.Compose([\n",
    "                transforms.ToTensor(),\n",
    "                transforms.Normalize([0.45818, 0.41879, 0.29899], [0.24524, 0.21704, 0.22208]),\n",
    "                transforms.RandomAffine(degrees=(-45, 45), translate=(0.15, 0.15), scale=(0.5, 1.5)),\n",
    "                transforms.RandomHorizontalFlip(p=0.25),\n",
    "                transforms.RandomVerticalFlip(p=0.25),\n",
    "            ])\n",
    "            self.valid_transform = transforms.Compose([\n",
    "                transforms.ToTensor(),\n",
    "                transforms.Normalize([0.45818, 0.41879, 0.29899], [0.24524, 0.21704, 0.22208]),\n",
    "            ])\n",
    "        \n",
    "        if self.size == 384:\n",
    "            self.train_transform = transforms.Compose([\n",
    "                transforms.ToTensor(),\n",
    "                transforms.Normalize([0.45807, 0.41868, 0.29889], [0.24757, 0.21952, 0.22436]),\n",
    "                transforms.RandomAffine(degrees=(-45, 45), translate=(0.15, 0.15), scale=(0.5, 1.5)),\n",
    "                transforms.RandomHorizontalFlip(p=0.25),\n",
    "                transforms.RandomVerticalFlip(p=0.25),\n",
    "            ])\n",
    "            self.valid_transform = transforms.Compose([\n",
    "                transforms.ToTensor(),\n",
    "                transforms.Normalize([0.45807, 0.41868, 0.29889], [0.24757, 0.21952, 0.22436]),\n",
    "            ])\n",
    "        \n",
    "        if self.size == 512:\n",
    "            self.train_transform = transforms.Compose([\n",
    "                transforms.ToTensor(),\n",
    "                transforms.Normalize([0.45813, 0.41874, 0.29895], [0.24827, 0.22026, 0.22505]),\n",
    "                transforms.RandomAffine(degrees=(-45, 45), translate=(0.15, 0.15), scale=(0.5, 1.5)),\n",
    "                transforms.RandomHorizontalFlip(p=0.25),\n",
    "                transforms.RandomVerticalFlip(p=0.25),\n",
    "            ])\n",
    "            self.valid_transform = transforms.Compose([\n",
    "                transforms.ToTensor(),\n",
    "                transforms.Normalize([0.45813, 0.41874, 0.29895], [0.24827, 0.22026, 0.22505]),\n",
    "            ])\n",
    "                                \n",
    "        self.save_path = \"saves\"\n",
    "        if not os.path.exists(self.save_path): os.makedirs(self.save_path)\n",
    "    \n",
    "cfg = CFG(\n",
    "    seed=SEED, \n",
    "    size=SIZE\n",
    ")"
   ]
  },
  {
   "cell_type": "markdown",
   "id": "f69f6916",
   "metadata": {
    "papermill": {
     "duration": 0.003991,
     "end_time": "2022-11-20T15:19:00.065424",
     "exception": false,
     "start_time": "2022-11-20T15:19:00.061433",
     "status": "completed"
    },
    "tags": []
   },
   "source": [
    "### **Dataset Template**"
   ]
  },
  {
   "cell_type": "code",
   "execution_count": 5,
   "id": "91855638",
   "metadata": {
    "execution": {
     "iopub.execute_input": "2022-11-20T15:19:00.074880Z",
     "iopub.status.busy": "2022-11-20T15:19:00.074100Z",
     "iopub.status.idle": "2022-11-20T15:19:00.081149Z",
     "shell.execute_reply": "2022-11-20T15:19:00.080256Z"
    },
    "papermill": {
     "duration": 0.013993,
     "end_time": "2022-11-20T15:19:00.083225",
     "exception": false,
     "start_time": "2022-11-20T15:19:00.069232",
     "status": "completed"
    },
    "tags": []
   },
   "outputs": [],
   "source": [
    "class DS(Dataset):\n",
    "    def __init__(\n",
    "        self, \n",
    "        filepaths: np.ndarray, \n",
    "        size: int,\n",
    "        labels: Union[np.ndarray, None]=None, \n",
    "        transform=None\n",
    "    ):\n",
    "        \n",
    "        self.filepaths = filepaths\n",
    "        self.labels = labels\n",
    "        self.size = size\n",
    "        self.transform = transform\n",
    "    \n",
    "    def __len__(self):\n",
    "        return self.filepaths.shape[0]\n",
    "    \n",
    "    def __getitem__(self, idx):\n",
    "        image = get_image(self.filepaths[idx], self.size)\n",
    "        if self.labels is None:\n",
    "            return self.transform(image)\n",
    "        return self.transform(image), torch.LongTensor(self.labels[idx])"
   ]
  },
  {
   "cell_type": "markdown",
   "id": "3e3ba465",
   "metadata": {
    "papermill": {
     "duration": 0.003637,
     "end_time": "2022-11-20T15:19:00.090767",
     "exception": false,
     "start_time": "2022-11-20T15:19:00.087130",
     "status": "completed"
    },
    "tags": []
   },
   "source": [
    "### **Model**"
   ]
  },
  {
   "cell_type": "code",
   "execution_count": 6,
   "id": "e1f24be6",
   "metadata": {
    "execution": {
     "iopub.execute_input": "2022-11-20T15:19:00.099462Z",
     "iopub.status.busy": "2022-11-20T15:19:00.099197Z",
     "iopub.status.idle": "2022-11-20T15:19:00.104927Z",
     "shell.execute_reply": "2022-11-20T15:19:00.103981Z"
    },
    "papermill": {
     "duration": 0.012151,
     "end_time": "2022-11-20T15:19:00.106764",
     "exception": false,
     "start_time": "2022-11-20T15:19:00.094613",
     "status": "completed"
    },
    "tags": []
   },
   "outputs": [],
   "source": [
    "class Model(nn.Module):\n",
    "    def __init__(self):\n",
    "        super(Model, self).__init__()\n",
    "            \n",
    "        self.model = timm.create_model(model_name=\"efficientnet_b4\", pretrained=True)\n",
    "        self.model.classifier = nn.Linear(in_features=self.model.classifier.in_features, out_features=5)\n",
    "\n",
    "    def forward(self, x):\n",
    "        return nn.LogSoftmax(dim=1)(self.model(x))"
   ]
  },
  {
   "cell_type": "markdown",
   "id": "4c239546",
   "metadata": {
    "papermill": {
     "duration": 0.00365,
     "end_time": "2022-11-20T15:19:00.114264",
     "exception": false,
     "start_time": "2022-11-20T15:19:00.110614",
     "status": "completed"
    },
    "tags": []
   },
   "source": [
    "### **Fit and Predict**"
   ]
  },
  {
   "cell_type": "code",
   "execution_count": 7,
   "id": "fd2fd1ec",
   "metadata": {
    "execution": {
     "iopub.execute_input": "2022-11-20T15:19:00.123340Z",
     "iopub.status.busy": "2022-11-20T15:19:00.123089Z",
     "iopub.status.idle": "2022-11-20T15:19:00.143161Z",
     "shell.execute_reply": "2022-11-20T15:19:00.142167Z"
    },
    "papermill": {
     "duration": 0.027294,
     "end_time": "2022-11-20T15:19:00.145417",
     "exception": false,
     "start_time": "2022-11-20T15:19:00.118123",
     "status": "completed"
    },
    "tags": []
   },
   "outputs": [],
   "source": [
    "def fit(\n",
    "    model=None,\n",
    "    optimizer=None, \n",
    "    scheduler_rlrop=None,\n",
    "    scheduler_oclr=None,\n",
    "    epochs=None, \n",
    "    early_stopping_patience=None, \n",
    "    dataloaders=None, \n",
    "    fold=None, \n",
    "    save_path=None,\n",
    "    device=None,\n",
    "    verbose=False\n",
    ") -> tuple:\n",
    "    \n",
    "    def get_accuracy(y_pred, y_true):\n",
    "        y_pred = torch.argmax(y_pred, dim=1)\n",
    "        return torch.count_nonzero(y_pred == y_true).item() / len(y_pred)\n",
    "    \n",
    "    \n",
    "    if verbose:\n",
    "        breaker()\n",
    "        if fold: print(f\"Training Fold {fold}...\")\n",
    "        else: print(\"Training ...\")\n",
    "        breaker()\n",
    "        \n",
    "    bestLoss: dict = {\"train\" : np.inf, \"valid\" : np.inf} \n",
    "    bestAccs: dict = {\"train\" : 0.0, \"valid\" : 0.0}\n",
    "    \n",
    "    Losses: list = []\n",
    "    Accuracies: list = [] \n",
    "    LRs: list = []\n",
    "        \n",
    "    if fold: \n",
    "        ble_name = f\"ble_state_fold_{fold}.pt\"\n",
    "        bae_name = f\"bae_state_fold_{fold}.pt\"\n",
    "    else: \n",
    "        ble_name = f\"ble_state.pt\"\n",
    "        bae_name = f\"bae_state.pt\"\n",
    "        \n",
    "    start_time = time()\n",
    "    for e in range(epochs):\n",
    "        e_st = time()\n",
    "        epochLoss: dict = {\"train\" : 0.0, \"valid\" : 0.0} \n",
    "        epochAccs: dict = {\"train\" : 0.0, \"valid\" : 0.0}\n",
    "\n",
    "        for phase in [\"train\", \"valid\"]:\n",
    "            if phase == \"train\":\n",
    "                model.train()\n",
    "            else:\n",
    "                model.eval()\n",
    "            \n",
    "            lossPerPass: list = []\n",
    "            accsPerPass: list = []\n",
    "                \n",
    "            for X, y in dataloaders[phase]:\n",
    "                X, y = X.to(device), y.to(device).view(-1)\n",
    "\n",
    "                optimizer.zero_grad()\n",
    "                with torch.set_grad_enabled(phase == \"train\"):\n",
    "                    output = model(X)\n",
    "                    loss = torch.nn.NLLLoss()(output, y)\n",
    "                    if phase == \"train\":\n",
    "                        loss.backward()\n",
    "                        optimizer.step()\n",
    "                        if scheduler_oclr: scheduler_oclr.step()\n",
    "                lossPerPass.append(loss.item())\n",
    "                accsPerPass.append(get_accuracy(output, y))\n",
    "            epochLoss[phase] = np.mean(np.array(lossPerPass))\n",
    "            epochAccs[phase] = np.mean(np.array(accsPerPass))\n",
    "        if scheduler_oclr: LRs.append(scheduler_oclr.get_last_lr())\n",
    "        Losses.append(epochLoss)\n",
    "        Accuracies.append(epochAccs)\n",
    "        \n",
    "        if scheduler_oclr:\n",
    "            save_dict = {\"model_state_dict\"     : model.state_dict(),\n",
    "                         \"optim_state_dict\"     : optimizer.state_dict(),\n",
    "                         \"scheduler_state_dict\" : scheduler_oclr.state_dict()}\n",
    "        \n",
    "        elif scheduler_rlrop:\n",
    "            save_dict = {\"model_state_dict\"     : model.state_dict(),\n",
    "                         \"optim_state_dict\"     : optimizer.state_dict(),\n",
    "                         \"scheduler_state_dict\" : scheduler_rlrop.state_dict()}\n",
    "        \n",
    "        else:\n",
    "            save_dict = {\"model_state_dict\"     : model.state_dict(),\n",
    "                         \"optim_state_dict\"     : optimizer.state_dict()}\n",
    "        \n",
    "        if early_stopping_patience:\n",
    "            if epochLoss[\"valid\"] < bestLoss[\"valid\"]:\n",
    "                bestLoss = epochLoss\n",
    "                BLE = e + 1\n",
    "                torch.save(save_dict, os.path.join(save_path, ble_name))\n",
    "                torch.save(save_dict, os.path.join(save_path, bae_name))\n",
    "                early_stopping_step = 0\n",
    "            else:\n",
    "                early_stopping_step += 1\n",
    "                if early_stopping_step > early_stopping_patience:\n",
    "                    print(\"\\nEarly Stopping at Epoch {}\".format(e + 1))\n",
    "                    break\n",
    "        \n",
    "        if epochLoss[\"valid\"] < bestLoss[\"valid\"]:\n",
    "            bestLoss = epochLoss\n",
    "            BLE = e + 1\n",
    "            torch.save(save_dict,os.path.join(save_path, ble_name))\n",
    "        \n",
    "        if epochAccs[\"valid\"] > bestAccs[\"valid\"]:\n",
    "            bestAccs = epochAccs\n",
    "            BAE = e + 1\n",
    "            torch.save(save_dict,os.path.join(save_path, bae_name))\n",
    "        \n",
    "        if scheduler_rlrop: scheduler_rlrop.step(epochLoss[\"valid\"])\n",
    "        \n",
    "        if verbose:\n",
    "            print(\"Epoch: {} | Train Loss: {:.5f} | Valid Loss: {:.5f} |\\\n",
    " Train Accs: {:.5f} | Valid Accs: {:.5f} | Time: {:.2f} seconds\".format(e+1, \n",
    "                                                                        epochLoss[\"train\"], epochLoss[\"valid\"], \n",
    "                                                                        epochAccs[\"train\"], epochAccs[\"valid\"], \n",
    "                                                                        time()-e_st))\n",
    "\n",
    "    if verbose:                                           \n",
    "        breaker()\n",
    "        print(f\"Best Validation Loss at Epoch {BLE}\")\n",
    "        breaker()\n",
    "        print(f\"Best Validation Accs at Epoch {BAE}\")\n",
    "        breaker()\n",
    "        print(\"Time Taken [{} Epochs] : {:.2f} minutes\".format(len(Losses), (time()-start_time)/60))\n",
    "    \n",
    "    return Losses, Accuracies, LRs, bestLoss, bestAccs, BLE, BAE, ble_name, bae_name\n",
    "\n",
    "\n",
    "# def predict_batch(model=None, dataloader=None, path=None, device=None) -> np.ndarray:\n",
    "#     model.load_state_dict(torch.load(path, map_location=device)[\"model_state_dict\"])\n",
    "#     model.to(device)    \n",
    "#     model.eval()\n",
    "    \n",
    "#     y_pred = torch.zeros(1, 1).to(device)\n",
    "    \n",
    "#     for X in dataloader:\n",
    "#         X = X.to(device)\n",
    "#         with torch.no_grad():\n",
    "#             output = torch.argmax(torch.exp(model(X)), dim=1)\n",
    "#         y_pred = torch.cat((y_pred, output.view(-1, 1)), dim=0)\n",
    "    \n",
    "#     return y_pred[1:].detach().cpu().numpy()"
   ]
  },
  {
   "cell_type": "markdown",
   "id": "f2ba390c",
   "metadata": {
    "papermill": {
     "duration": 0.004585,
     "end_time": "2022-11-20T15:19:00.153809",
     "exception": false,
     "start_time": "2022-11-20T15:19:00.149224",
     "status": "completed"
    },
    "tags": []
   },
   "source": [
    "### **Train**"
   ]
  },
  {
   "cell_type": "code",
   "execution_count": 8,
   "id": "66bfd4ed",
   "metadata": {
    "execution": {
     "iopub.execute_input": "2022-11-20T15:19:00.162401Z",
     "iopub.status.busy": "2022-11-20T15:19:00.162143Z",
     "iopub.status.idle": "2022-11-20T15:19:00.200636Z",
     "shell.execute_reply": "2022-11-20T15:19:00.199806Z"
    },
    "papermill": {
     "duration": 0.045161,
     "end_time": "2022-11-20T15:19:00.202748",
     "exception": false,
     "start_time": "2022-11-20T15:19:00.157587",
     "status": "completed"
    },
    "tags": []
   },
   "outputs": [],
   "source": [
    "df = pd.read_csv(\"../input/fic-dataframe/train.csv\")\n",
    "\n",
    "filepaths = df.filepaths.copy().values\n",
    "labels = df.labels.copy().values"
   ]
  },
  {
   "cell_type": "code",
   "execution_count": 9,
   "id": "0e7a4155",
   "metadata": {
    "execution": {
     "iopub.execute_input": "2022-11-20T15:19:00.212045Z",
     "iopub.status.busy": "2022-11-20T15:19:00.211653Z",
     "iopub.status.idle": "2022-11-20T17:28:15.889981Z",
     "shell.execute_reply": "2022-11-20T17:28:15.888850Z"
    },
    "papermill": {
     "duration": 7755.685446,
     "end_time": "2022-11-20T17:28:15.892116",
     "exception": false,
     "start_time": "2022-11-20T15:19:00.206670",
     "status": "completed"
    },
    "tags": []
   },
   "outputs": [
    {
     "name": "stderr",
     "output_type": "stream",
     "text": [
      "Downloading: \"https://github.com/rwightman/pytorch-image-models/releases/download/v0.1-weights/efficientnet_b4_ra2_320-7eb33cd5.pth\" to /root/.cache/torch/hub/checkpoints/efficientnet_b4_ra2_320-7eb33cd5.pth\n"
     ]
    },
    {
     "name": "stdout",
     "output_type": "stream",
     "text": [
      "\n",
      "**************************************************\n",
      "\n",
      "Training Fold 1...\n",
      "\n",
      "**************************************************\n",
      "\n",
      "Epoch: 1 | Train Loss: 1.06783 | Valid Loss: 0.24910 | Train Accs: 0.63048 | Valid Accs: 0.92832 | Time: 181.17 seconds\n",
      "Epoch: 2 | Train Loss: 0.26560 | Valid Loss: 0.22438 | Train Accs: 0.90528 | Valid Accs: 0.92704 | Time: 152.02 seconds\n",
      "Epoch: 3 | Train Loss: 0.21594 | Valid Loss: 0.22981 | Train Accs: 0.92558 | Valid Accs: 0.92321 | Time: 157.94 seconds\n",
      "Epoch: 4 | Train Loss: 0.16197 | Valid Loss: 0.19674 | Train Accs: 0.94298 | Valid Accs: 0.94872 | Time: 153.22 seconds\n",
      "Epoch: 5 | Train Loss: 0.11648 | Valid Loss: 0.20097 | Train Accs: 0.95941 | Valid Accs: 0.94847 | Time: 151.87 seconds\n",
      "Epoch: 6 | Train Loss: 0.07457 | Valid Loss: 0.20901 | Train Accs: 0.97487 | Valid Accs: 0.94592 | Time: 152.32 seconds\n",
      "Epoch: 7 | Train Loss: 0.04823 | Valid Loss: 0.22110 | Train Accs: 0.98228 | Valid Accs: 0.95102 | Time: 157.42 seconds\n",
      "Epoch: 8 | Train Loss: 0.03451 | Valid Loss: 0.21052 | Train Accs: 0.98937 | Valid Accs: 0.96020 | Time: 158.56 seconds\n",
      "Epoch: 9 | Train Loss: 0.02252 | Valid Loss: 0.22476 | Train Accs: 0.99066 | Valid Accs: 0.95102 | Time: 154.63 seconds\n",
      "\n",
      "Early Stopping at Epoch 10\n",
      "\n",
      "**************************************************\n",
      "\n",
      "Best Validation Loss at Epoch 4\n",
      "\n",
      "**************************************************\n",
      "\n",
      "Best Validation Accs at Epoch 8\n",
      "\n",
      "**************************************************\n",
      "\n",
      "Time Taken [10 Epochs] : 26.19 minutes\n",
      "\n",
      "**************************************************\n",
      "\n"
     ]
    },
    {
     "data": {
      "image/png": "[encoded data removed]",
      "text/plain": [
       "<Figure size 432x288 with 1 Axes>"
      ]
     },
     "metadata": {
      "needs_background": "light"
     },
     "output_type": "display_data"
    },
    {
     "name": "stdout",
     "output_type": "stream",
     "text": [
      "\n",
      "**************************************************\n",
      "\n"
     ]
    },
    {
     "data": {
      "image/png": "[encoded data removed]",
      "text/plain": [
       "<Figure size 432x288 with 1 Axes>"
      ]
     },
     "metadata": {
      "needs_background": "light"
     },
     "output_type": "display_data"
    },
    {
     "name": "stdout",
     "output_type": "stream",
     "text": [
      "\n",
      "**************************************************\n",
      "\n"
     ]
    },
    {
     "data": {
      "image/png": "[encoded data removed]",
      "text/plain": [
       "<Figure size 576x432 with 1 Axes>"
      ]
     },
     "metadata": {
      "needs_background": "light"
     },
     "output_type": "display_data"
    },
    {
     "name": "stdout",
     "output_type": "stream",
     "text": [
      "\n",
      "**************************************************\n",
      "\n",
      "\n",
      "**************************************************\n",
      "\n",
      "Training Fold 2...\n",
      "\n",
      "**************************************************\n",
      "\n",
      "Epoch: 1 | Train Loss: 1.06821 | Valid Loss: 0.26261 | Train Accs: 0.61952 | Valid Accs: 0.91071 | Time: 160.02 seconds\n",
      "Epoch: 2 | Train Loss: 0.29694 | Valid Loss: 0.28164 | Train Accs: 0.90206 | Valid Accs: 0.91454 | Time: 160.76 seconds\n",
      "Epoch: 3 | Train Loss: 0.20959 | Valid Loss: 0.20190 | Train Accs: 0.93009 | Valid Accs: 0.92985 | Time: 155.98 seconds\n",
      "Epoch: 4 | Train Loss: 0.15015 | Valid Loss: 0.18877 | Train Accs: 0.95039 | Valid Accs: 0.94107 | Time: 156.77 seconds\n",
      "Epoch: 5 | Train Loss: 0.10382 | Valid Loss: 0.21830 | Train Accs: 0.96649 | Valid Accs: 0.93878 | Time: 157.11 seconds\n",
      "Epoch: 6 | Train Loss: 0.07040 | Valid Loss: 0.16454 | Train Accs: 0.97423 | Valid Accs: 0.95918 | Time: 163.39 seconds\n",
      "Epoch: 7 | Train Loss: 0.04474 | Valid Loss: 0.18016 | Train Accs: 0.98260 | Valid Accs: 0.94898 | Time: 167.99 seconds\n",
      "Epoch: 8 | Train Loss: 0.03190 | Valid Loss: 0.14726 | Train Accs: 0.98937 | Valid Accs: 0.95281 | Time: 155.58 seconds\n",
      "Epoch: 9 | Train Loss: 0.02072 | Valid Loss: 0.14923 | Train Accs: 0.99420 | Valid Accs: 0.96301 | Time: 161.38 seconds\n",
      "Epoch: 10 | Train Loss: 0.01931 | Valid Loss: 0.14415 | Train Accs: 0.99388 | Valid Accs: 0.95918 | Time: 151.42 seconds\n",
      "\n",
      "**************************************************\n",
      "\n",
      "Best Validation Loss at Epoch 10\n",
      "\n",
      "**************************************************\n",
      "\n",
      "Best Validation Accs at Epoch 9\n",
      "\n",
      "**************************************************\n",
      "\n",
      "Time Taken [10 Epochs] : 26.51 minutes\n",
      "\n",
      "**************************************************\n",
      "\n"
     ]
    },
    {
     "data": {
      "image/png": "[encoded data removed]",
      "text/plain": [
       "<Figure size 432x288 with 1 Axes>"
      ]
     },
     "metadata": {
      "needs_background": "light"
     },
     "output_type": "display_data"
    },
    {
     "name": "stdout",
     "output_type": "stream",
     "text": [
      "\n",
      "**************************************************\n",
      "\n"
     ]
    },
    {
     "data": {
      "image/png": "[encoded data removed]",
      "text/plain": [
       "<Figure size 432x288 with 1 Axes>"
      ]
     },
     "metadata": {
      "needs_background": "light"
     },
     "output_type": "display_data"
    },
    {
     "name": "stdout",
     "output_type": "stream",
     "text": [
      "\n",
      "**************************************************\n",
      "\n"
     ]
    },
    {
     "data": {
      "image/png": "[encoded data removed]",
      "text/plain": [
       "<Figure size 576x432 with 1 Axes>"
      ]
     },
     "metadata": {
      "needs_background": "light"
     },
     "output_type": "display_data"
    },
    {
     "name": "stdout",
     "output_type": "stream",
     "text": [
      "\n",
      "**************************************************\n",
      "\n",
      "\n",
      "**************************************************\n",
      "\n",
      "Training Fold 3...\n",
      "\n",
      "**************************************************\n",
      "\n",
      "Epoch: 1 | Train Loss: 1.07036 | Valid Loss: 0.24948 | Train Accs: 0.62532 | Valid Accs: 0.91811 | Time: 150.65 seconds\n",
      "Epoch: 2 | Train Loss: 0.28817 | Valid Loss: 0.23525 | Train Accs: 0.90303 | Valid Accs: 0.93087 | Time: 151.07 seconds\n",
      "Epoch: 3 | Train Loss: 0.19902 | Valid Loss: 0.26007 | Train Accs: 0.93299 | Valid Accs: 0.92449 | Time: 150.48 seconds\n",
      "Epoch: 4 | Train Loss: 0.15745 | Valid Loss: 0.19803 | Train Accs: 0.94781 | Valid Accs: 0.93342 | Time: 151.90 seconds\n",
      "Epoch: 5 | Train Loss: 0.10963 | Valid Loss: 0.18058 | Train Accs: 0.96037 | Valid Accs: 0.94490 | Time: 151.18 seconds\n",
      "Epoch: 6 | Train Loss: 0.08005 | Valid Loss: 0.17668 | Train Accs: 0.97455 | Valid Accs: 0.94490 | Time: 155.42 seconds\n",
      "Epoch: 7 | Train Loss: 0.05326 | Valid Loss: 0.18296 | Train Accs: 0.98518 | Valid Accs: 0.95383 | Time: 160.17 seconds\n",
      "Epoch: 8 | Train Loss: 0.02843 | Valid Loss: 0.15934 | Train Accs: 0.99323 | Valid Accs: 0.95510 | Time: 155.65 seconds\n",
      "Epoch: 9 | Train Loss: 0.02535 | Valid Loss: 0.17723 | Train Accs: 0.99162 | Valid Accs: 0.96276 | Time: 151.42 seconds\n",
      "Epoch: 10 | Train Loss: 0.01849 | Valid Loss: 0.19589 | Train Accs: 0.99420 | Valid Accs: 0.95383 | Time: 154.18 seconds\n",
      "\n",
      "**************************************************\n",
      "\n",
      "Best Validation Loss at Epoch 8\n",
      "\n",
      "**************************************************\n",
      "\n",
      "Best Validation Accs at Epoch 9\n",
      "\n",
      "**************************************************\n",
      "\n",
      "Time Taken [10 Epochs] : 25.54 minutes\n",
      "\n",
      "**************************************************\n",
      "\n"
     ]
    },
    {
     "data": {
      "image/png": "[encoded data removed]",
      "text/plain": [
       "<Figure size 432x288 with 1 Axes>"
      ]
     },
     "metadata": {
      "needs_background": "light"
     },
     "output_type": "display_data"
    },
    {
     "name": "stdout",
     "output_type": "stream",
     "text": [
      "\n",
      "**************************************************\n",
      "\n"
     ]
    },
    {
     "data": {
      "image/png": "[encoded data removed]",
      "text/plain": [
       "<Figure size 432x288 with 1 Axes>"
      ]
     },
     "metadata": {
      "needs_background": "light"
     },
     "output_type": "display_data"
    },
    {
     "name": "stdout",
     "output_type": "stream",
     "text": [
      "\n",
      "**************************************************\n",
      "\n"
     ]
    },
    {
     "data": {
      "image/png": "[encoded data removed]",
      "text/plain": [
       "<Figure size 576x432 with 1 Axes>"
      ]
     },
     "metadata": {
      "needs_background": "light"
     },
     "output_type": "display_data"
    },
    {
     "name": "stdout",
     "output_type": "stream",
     "text": [
      "\n",
      "**************************************************\n",
      "\n",
      "\n",
      "**************************************************\n",
      "\n",
      "Training Fold 4...\n",
      "\n",
      "**************************************************\n",
      "\n",
      "Epoch: 1 | Train Loss: 1.07578 | Valid Loss: 0.25808 | Train Accs: 0.61727 | Valid Accs: 0.91071 | Time: 155.89 seconds\n",
      "Epoch: 2 | Train Loss: 0.30426 | Valid Loss: 0.23841 | Train Accs: 0.89465 | Valid Accs: 0.91582 | Time: 152.15 seconds\n",
      "Epoch: 3 | Train Loss: 0.20891 | Valid Loss: 0.17051 | Train Accs: 0.92848 | Valid Accs: 0.95026 | Time: 152.63 seconds\n",
      "Epoch: 4 | Train Loss: 0.16958 | Valid Loss: 0.15271 | Train Accs: 0.94298 | Valid Accs: 0.94133 | Time: 151.81 seconds\n",
      "Epoch: 5 | Train Loss: 0.11198 | Valid Loss: 0.12506 | Train Accs: 0.96166 | Valid Accs: 0.95791 | Time: 152.42 seconds\n",
      "Epoch: 6 | Train Loss: 0.07252 | Valid Loss: 0.11952 | Train Accs: 0.97713 | Valid Accs: 0.97066 | Time: 151.50 seconds\n",
      "Epoch: 7 | Train Loss: 0.05458 | Valid Loss: 0.11673 | Train Accs: 0.98228 | Valid Accs: 0.95918 | Time: 152.41 seconds\n",
      "Epoch: 8 | Train Loss: 0.02838 | Valid Loss: 0.09646 | Train Accs: 0.98969 | Valid Accs: 0.97449 | Time: 152.70 seconds\n",
      "Epoch: 9 | Train Loss: 0.02511 | Valid Loss: 0.10615 | Train Accs: 0.99259 | Valid Accs: 0.97449 | Time: 151.59 seconds\n",
      "Epoch: 10 | Train Loss: 0.02386 | Valid Loss: 0.11934 | Train Accs: 0.99227 | Valid Accs: 0.96046 | Time: 152.43 seconds\n",
      "\n",
      "**************************************************\n",
      "\n",
      "Best Validation Loss at Epoch 8\n",
      "\n",
      "**************************************************\n",
      "\n",
      "Best Validation Accs at Epoch 8\n",
      "\n",
      "**************************************************\n",
      "\n",
      "Time Taken [10 Epochs] : 25.43 minutes\n",
      "\n",
      "**************************************************\n",
      "\n"
     ]
    },
    {
     "data": {
      "image/png": "[encoded data removed]",
      "text/plain": [
       "<Figure size 432x288 with 1 Axes>"
      ]
     },
     "metadata": {
      "needs_background": "light"
     },
     "output_type": "display_data"
    },
    {
     "name": "stdout",
     "output_type": "stream",
     "text": [
      "\n",
      "**************************************************\n",
      "\n"
     ]
    },
    {
     "data": {
      "image/png": "[encoded data removed]",
      "text/plain": [
       "<Figure size 432x288 with 1 Axes>"
      ]
     },
     "metadata": {
      "needs_background": "light"
     },
     "output_type": "display_data"
    },
    {
     "name": "stdout",
     "output_type": "stream",
     "text": [
      "\n",
      "**************************************************\n",
      "\n"
     ]
    },
    {
     "data": {
      "image/png": "[encoded data removed]",
      "text/plain": [
       "<Figure size 576x432 with 1 Axes>"
      ]
     },
     "metadata": {
      "needs_background": "light"
     },
     "output_type": "display_data"
    },
    {
     "name": "stdout",
     "output_type": "stream",
     "text": [
      "\n",
      "**************************************************\n",
      "\n",
      "\n",
      "**************************************************\n",
      "\n",
      "Training Fold 5...\n",
      "\n",
      "**************************************************\n",
      "\n",
      "Epoch: 1 | Train Loss: 1.05698 | Valid Loss: 0.29296 | Train Accs: 0.63724 | Valid Accs: 0.89923 | Time: 153.63 seconds\n",
      "Epoch: 2 | Train Loss: 0.30291 | Valid Loss: 0.20648 | Train Accs: 0.89562 | Valid Accs: 0.93495 | Time: 156.06 seconds\n",
      "Epoch: 3 | Train Loss: 0.21341 | Valid Loss: 0.17820 | Train Accs: 0.92558 | Valid Accs: 0.94260 | Time: 152.81 seconds\n",
      "Epoch: 4 | Train Loss: 0.16318 | Valid Loss: 0.20796 | Train Accs: 0.94137 | Valid Accs: 0.93367 | Time: 150.22 seconds\n",
      "Epoch: 5 | Train Loss: 0.10919 | Valid Loss: 0.19760 | Train Accs: 0.96360 | Valid Accs: 0.93878 | Time: 150.62 seconds\n",
      "Epoch: 6 | Train Loss: 0.07614 | Valid Loss: 0.13760 | Train Accs: 0.97294 | Valid Accs: 0.94643 | Time: 151.80 seconds\n",
      "Epoch: 7 | Train Loss: 0.04662 | Valid Loss: 0.16292 | Train Accs: 0.98550 | Valid Accs: 0.94388 | Time: 150.47 seconds\n",
      "Epoch: 8 | Train Loss: 0.02958 | Valid Loss: 0.14473 | Train Accs: 0.99130 | Valid Accs: 0.95408 | Time: 155.87 seconds\n",
      "Epoch: 9 | Train Loss: 0.02459 | Valid Loss: 0.15311 | Train Accs: 0.99291 | Valid Accs: 0.95536 | Time: 151.37 seconds\n",
      "Epoch: 10 | Train Loss: 0.02431 | Valid Loss: 0.16248 | Train Accs: 0.99098 | Valid Accs: 0.95026 | Time: 150.62 seconds\n",
      "\n",
      "**************************************************\n",
      "\n",
      "Best Validation Loss at Epoch 6\n",
      "\n",
      "**************************************************\n",
      "\n",
      "Best Validation Accs at Epoch 9\n",
      "\n",
      "**************************************************\n",
      "\n",
      "Time Taken [10 Epochs] : 25.39 minutes\n",
      "\n",
      "**************************************************\n",
      "\n"
     ]
    },
    {
     "data": {
      "image/png": "[encoded data removed]",
      "text/plain": [
       "<Figure size 432x288 with 1 Axes>"
      ]
     },
     "metadata": {
      "needs_background": "light"
     },
     "output_type": "display_data"
    },
    {
     "name": "stdout",
     "output_type": "stream",
     "text": [
      "\n",
      "**************************************************\n",
      "\n"
     ]
    },
    {
     "data": {
      "image/png": "[encoded data removed]",
      "text/plain": [
       "<Figure size 432x288 with 1 Axes>"
      ]
     },
     "metadata": {
      "needs_background": "light"
     },
     "output_type": "display_data"
    },
    {
     "name": "stdout",
     "output_type": "stream",
     "text": [
      "\n",
      "**************************************************\n",
      "\n"
     ]
    },
    {
     "data": {
      "image/png": "[encoded data removed]",
      "text/plain": [
       "<Figure size 576x432 with 1 Axes>"
      ]
     },
     "metadata": {
      "needs_background": "light"
     },
     "output_type": "display_data"
    },
    {
     "name": "stdout",
     "output_type": "stream",
     "text": [
      "\n",
      "**************************************************\n",
      "\n"
     ]
    }
   ],
   "source": [
    "fold: int = 1\n",
    "BLs: list = []\n",
    "BAs: list = []\n",
    "    \n",
    "cfg.batch_size = 16\n",
    "cfg.epochs = 10\n",
    "    \n",
    "for tr_idx, va_idx in StratifiedKFold(n_splits=cfg.n_splits, random_state=cfg.seed, shuffle=True).split(filepaths, labels):\n",
    "\n",
    "    tr_filepaths, va_filepaths = filepaths[tr_idx], filepaths[va_idx] \n",
    "    tr_labels, va_labels       = labels[tr_idx], labels[va_idx]\n",
    "\n",
    "    tr_data_setup = DS(\n",
    "        filepaths=tr_filepaths, \n",
    "        labels=tr_labels.reshape(-1, 1),\n",
    "        size=cfg.size,\n",
    "        transform=cfg.train_transform\n",
    "    )\n",
    "    \n",
    "    va_data_setup = DS(\n",
    "        filepaths=va_filepaths, \n",
    "        labels=va_labels.reshape(-1, 1),\n",
    "        size=cfg.size,\n",
    "        transform=cfg.train_transform\n",
    "    )\n",
    "\n",
    "    dataloaders = {\n",
    "        \"train\" : DL(tr_data_setup, batch_size=cfg.batch_size, shuffle=True, generator=torch.manual_seed(cfg.seed)),\n",
    "        \"valid\" : DL(va_data_setup, batch_size=cfg.batch_size, shuffle=False),\n",
    "    }\n",
    "\n",
    "    cfg.steps_per_epoch=len(dataloaders[\"train\"])\n",
    "    \n",
    "    torch.manual_seed(cfg.seed)\n",
    "    model = Model().to(cfg.device)\n",
    "\n",
    "    optimizer = optim.Adam([p for p in model.parameters() if p.requires_grad], lr=cfg.lr, weight_decay=cfg.wd)\n",
    "    # optimizer = optim.AdamW([p for p in model.parameters() if p.requires_grad], lr=cfg.lr, weight_decay=cfg.wd)\n",
    "    # optimizer = optim.SGD([p for p in model.parameters() if p.requires_grad], lr=cfg.lr, weight_decay=cfg.wd, momentum=0.9)\n",
    "\n",
    "    scheduler_oclr = optim.lr_scheduler.OneCycleLR(\n",
    "        optimizer=optimizer, \n",
    "        max_lr=cfg.max_lr, \n",
    "        epochs=cfg.epochs, \n",
    "        steps_per_epoch=cfg.steps_per_epoch,\n",
    "        pct_start=cfg.pct_start, \n",
    "        div_factor=cfg.div_factor, \n",
    "        final_div_factor=cfg.final_div_factor\n",
    "    )\n",
    "\n",
    "    # scheduler_rlrop = optim.lr_scheduler.ReduceLROnPlateau(\n",
    "    #     optimizer=optimizer,\n",
    "    #     patience=cfg.patience,\n",
    "    #     eps=cfg.eps,\n",
    "    #     verbose=True\n",
    "    # )\n",
    "\n",
    "    # scheduler_oclr = None\n",
    "    scheduler_rlrop = None\n",
    "\n",
    "\n",
    "    L, A, LR, BL, BA, _, _, _, _ = fit(\n",
    "        model=model, \n",
    "        optimizer=optimizer, \n",
    "        scheduler_oclr=scheduler_oclr,\n",
    "        scheduler_rlrop=scheduler_rlrop,\n",
    "        epochs=cfg.epochs, \n",
    "        early_stopping_patience=cfg.early_stopping, \n",
    "        dataloaders=dataloaders, \n",
    "        device=cfg.device,\n",
    "        save_path=cfg.save_path,\n",
    "        fold=fold,\n",
    "        verbose=True\n",
    "    )\n",
    "\n",
    "\n",
    "    breaker()\n",
    "    show_loss_graphs(L)\n",
    "    breaker()\n",
    "    show_accuracy_graphs(A)\n",
    "    breaker()\n",
    "    if scheduler_oclr:\n",
    "        show_lr_graph(LR)\n",
    "        breaker()\n",
    "    \n",
    "    BLs.append(BL)\n",
    "    BAs.append(BA)\n",
    "    \n",
    "    fold += 1"
   ]
  },
  {
   "cell_type": "markdown",
   "id": "0ca4a686",
   "metadata": {
    "papermill": {
     "duration": 0.010548,
     "end_time": "2022-11-20T17:28:15.913889",
     "exception": false,
     "start_time": "2022-11-20T17:28:15.903341",
     "status": "completed"
    },
    "tags": []
   },
   "source": [
    "### **Best Model**"
   ]
  },
  {
   "cell_type": "code",
   "execution_count": 10,
   "id": "bda016d3",
   "metadata": {
    "execution": {
     "iopub.execute_input": "2022-11-20T17:28:15.938581Z",
     "iopub.status.busy": "2022-11-20T17:28:15.936999Z",
     "iopub.status.idle": "2022-11-20T17:28:15.944797Z",
     "shell.execute_reply": "2022-11-20T17:28:15.943743Z"
    },
    "papermill": {
     "duration": 0.022546,
     "end_time": "2022-11-20T17:28:15.947604",
     "exception": false,
     "start_time": "2022-11-20T17:28:15.925058",
     "status": "completed"
    },
    "tags": []
   },
   "outputs": [
    {
     "name": "stdout",
     "output_type": "stream",
     "text": [
      "\n",
      "**************************************************\n",
      "\n",
      "Best Loss Model Fold     : 4\n",
      "Best Accuracy Model Fold : 4\n",
      "\n",
      "**************************************************\n",
      "\n"
     ]
    }
   ],
   "source": [
    "BL = np.inf\n",
    "for i in range(len(BLs)):\n",
    "    if BLs[i][\"valid\"] < BL:\n",
    "        BL = BLs[i][\"valid\"]\n",
    "        best_loss_index = i\n",
    "\n",
    "        \n",
    "BA = 0.0\n",
    "for i in range(len(BAs)):\n",
    "    if BAs[i][\"valid\"] > BA:\n",
    "        BA = BAs[i][\"valid\"]\n",
    "        best_accs_index = i\n",
    "\n",
    "breaker()\n",
    "print(f\"Best Loss Model Fold     : {best_loss_index + 1}\")\n",
    "print(f\"Best Accuracy Model Fold : {best_accs_index + 1}\")\n",
    "breaker()"
   ]
  }
 ],
 "metadata": {
  "kernelspec": {
   "display_name": "Python 3",
   "language": "python",
   "name": "python3"
  },
  "language_info": {
   "codemirror_mode": {
    "name": "ipython",
    "version": 3
   },
   "file_extension": ".py",
   "mimetype": "text/x-python",
   "name": "python",
   "nbconvert_exporter": "python",
   "pygments_lexer": "ipython3",
   "version": "3.7.12"
  },
  "papermill": {
   "default_parameters": {},
   "duration": 7779.795517,
   "end_time": "2022-11-20T17:28:17.697101",
   "environment_variables": {},
   "exception": null,
   "input_path": "__notebook__.ipynb",
   "output_path": "__notebook__.ipynb",
   "parameters": {},
   "start_time": "2022-11-20T15:18:37.901584",
   "version": "2.3.4"
  }
 },
 "nbformat": 4,
 "nbformat_minor": 5
}
