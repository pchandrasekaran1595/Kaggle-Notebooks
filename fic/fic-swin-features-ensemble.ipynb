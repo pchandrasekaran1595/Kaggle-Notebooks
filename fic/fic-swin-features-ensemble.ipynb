{
 "cells": [
  {
   "cell_type": "code",
   "execution_count": 1,
   "id": "86320062",
   "metadata": {
    "_cell_guid": "b1076dfc-b9ad-4769-8c92-a6c4dae69d19",
    "_uuid": "8f2839f25d086af736a60e9eeb907d3b93b6e0e5",
    "execution": {
     "iopub.execute_input": "2022-11-20T15:16:07.461747Z",
     "iopub.status.busy": "2022-11-20T15:16:07.461085Z",
     "iopub.status.idle": "2022-11-20T15:16:08.414012Z",
     "shell.execute_reply": "2022-11-20T15:16:08.412816Z"
    },
    "papermill": {
     "duration": 0.961428,
     "end_time": "2022-11-20T15:16:08.416990",
     "exception": false,
     "start_time": "2022-11-20T15:16:07.455562",
     "status": "completed"
    },
    "tags": []
   },
   "outputs": [],
   "source": [
    "import os, pickle\n",
    "import numpy as np\n",
    "import pandas as pd\n",
    "from scipy import stats\n",
    "\n",
    "FEATURES_BASE_PATH: str = \"../input/fic-swin-features\"\n",
    "MODELS_BASE_PATH: str = \"../input/fic-swin-features-train/models\"\n",
    "MODEL_NAMES: str = os.listdir(MODELS_BASE_PATH)"
   ]
  },
  {
   "cell_type": "code",
   "execution_count": 2,
   "id": "6d0caf6e",
   "metadata": {
    "execution": {
     "iopub.execute_input": "2022-11-20T15:16:08.422795Z",
     "iopub.status.busy": "2022-11-20T15:16:08.422024Z",
     "iopub.status.idle": "2022-11-20T15:16:19.906548Z",
     "shell.execute_reply": "2022-11-20T15:16:19.905305Z"
    },
    "papermill": {
     "duration": 11.490737,
     "end_time": "2022-11-20T15:16:19.909751",
     "exception": false,
     "start_time": "2022-11-20T15:16:08.419014",
     "status": "completed"
    },
    "tags": []
   },
   "outputs": [],
   "source": [
    "ts_base_features  = np.load(\"../input/fic-swin-features/ts_swin_base_patch4_window12_384_in22k.npy\")\n",
    "ts_large_features = np.load(\"../input/fic-swin-features/ts_swin_large_patch4_window12_384_in22k.npy\")\n",
    "\n",
    "\n",
    "y_pred = np.zeros((1, ts_base_features.shape[0]), dtype=np.uint8)\n",
    "\n",
    "for model_name in MODEL_NAMES:\n",
    "    if \"lgr\" in model_name or \"knc\" in model_name or \"svc\" in model_name or \"rfc\" in model_name or \"etcs\" in model_name:\n",
    "        if \"base\" in model_name:\n",
    "            model = pickle.load(open(os.path.join(MODELS_BASE_PATH, model_name), \"rb\"))\n",
    "            y_pred = np.concatenate((y_pred, model.predict(ts_base_features).reshape(1, -1)), axis=0)\n",
    "        if \"large\" in model_name:\n",
    "            model = pickle.load(open(os.path.join(MODELS_BASE_PATH, model_name), \"rb\"))\n",
    "            y_pred = np.concatenate((y_pred, model.predict(ts_large_features).reshape(1, -1)), axis=0)\n",
    "\n",
    "y_pred = stats.mode(y_pred[1:])[0]\n",
    "                                    \n",
    "ss_df = pd.read_csv(\"../input/5-flowers-image-classification/Sample_submission.csv\")\n",
    "ss_df.label = y_pred.astype(\"uint8\").reshape(-1)\n",
    "ss_df.to_csv(\"submission.csv\", index=False)"
   ]
  }
 ],
 "metadata": {
  "kernelspec": {
   "display_name": "Python 3",
   "language": "python",
   "name": "python3"
  },
  "language_info": {
   "codemirror_mode": {
    "name": "ipython",
    "version": 3
   },
   "file_extension": ".py",
   "mimetype": "text/x-python",
   "name": "python",
   "nbconvert_exporter": "python",
   "pygments_lexer": "ipython3",
   "version": "3.7.12"
  },
  "papermill": {
   "default_parameters": {},
   "duration": 22.444509,
   "end_time": "2022-11-20T15:16:20.733909",
   "environment_variables": {},
   "exception": null,
   "input_path": "__notebook__.ipynb",
   "output_path": "__notebook__.ipynb",
   "parameters": {},
   "start_time": "2022-11-20T15:15:58.289400",
   "version": "2.3.4"
  }
 },
 "nbformat": 4,
 "nbformat_minor": 5
}
