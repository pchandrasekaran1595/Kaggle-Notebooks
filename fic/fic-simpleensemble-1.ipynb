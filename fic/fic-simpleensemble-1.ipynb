{
 "cells": [
  {
   "cell_type": "markdown",
   "id": "350bbc4c",
   "metadata": {
    "_cell_guid": "b1076dfc-b9ad-4769-8c92-a6c4dae69d19",
    "_uuid": "8f2839f25d086af736a60e9eeb907d3b93b6e0e5",
    "papermill": {
     "duration": 0.002887,
     "end_time": "2022-11-20T19:35:52.358333",
     "exception": false,
     "start_time": "2022-11-20T19:35:52.355446",
     "status": "completed"
    },
    "tags": []
   },
   "source": [
    "**ModeAll + Best SWIN**"
   ]
  },
  {
   "cell_type": "code",
   "execution_count": 1,
   "id": "5b231243",
   "metadata": {
    "execution": {
     "iopub.execute_input": "2022-11-20T19:35:52.365170Z",
     "iopub.status.busy": "2022-11-20T19:35:52.364096Z",
     "iopub.status.idle": "2022-11-20T19:35:53.118137Z",
     "shell.execute_reply": "2022-11-20T19:35:53.116864Z"
    },
    "papermill": {
     "duration": 0.7613,
     "end_time": "2022-11-20T19:35:53.121558",
     "exception": false,
     "start_time": "2022-11-20T19:35:52.360258",
     "status": "completed"
    },
    "tags": []
   },
   "outputs": [],
   "source": [
    "import numpy as np\n",
    "import pandas as pd\n",
    "from scipy import stats"
   ]
  },
  {
   "cell_type": "code",
   "execution_count": 2,
   "id": "b1e9f14e",
   "metadata": {
    "execution": {
     "iopub.execute_input": "2022-11-20T19:35:53.128148Z",
     "iopub.status.busy": "2022-11-20T19:35:53.127776Z",
     "iopub.status.idle": "2022-11-20T19:35:53.279792Z",
     "shell.execute_reply": "2022-11-20T19:35:53.278924Z"
    },
    "papermill": {
     "duration": 0.157724,
     "end_time": "2022-11-20T19:35:53.282685",
     "exception": false,
     "start_time": "2022-11-20T19:35:53.124961",
     "status": "completed"
    },
    "tags": []
   },
   "outputs": [
    {
     "name": "stderr",
     "output_type": "stream",
     "text": [
      "/opt/conda/lib/python3.7/site-packages/ipykernel_launcher.py:10: UserWarning: Pandas doesn't allow columns to be created via a new attribute name - see https://pandas.pydata.org/pandas-docs/stable/indexing.html#attribute-access\n",
      "  # Remove the CWD from sys.path while we load stuff.\n"
     ]
    }
   ],
   "source": [
    "sub_df_1 = pd.read_csv(\"../input/fic-en4-a384-e10-modeall-infer/submission.csv\")\n",
    "sub_df_2 = pd.read_csv(\"../input/fic-swin-features-train/submission.csv\")\n",
    "\n",
    "y_pred_1 = sub_df_1.label.copy().values.reshape(1, -1)\n",
    "y_pred_2 = sub_df_2.label.copy().values.reshape(1, -1)\n",
    "\n",
    "y_pred = np.concatenate((y_pred_1, y_pred_2), axis=0)\n",
    "y_pred = stats.mode(y_pred)[0]\n",
    "\n",
    "sub_df_1.labels = y_pred.astype(\"uint8\").reshape(-1)\n",
    "sub_df_1.to_csv(\"submission.csv\", index=False)"
   ]
  }
 ],
 "metadata": {
  "kernelspec": {
   "display_name": "Python 3",
   "language": "python",
   "name": "python3"
  },
  "language_info": {
   "codemirror_mode": {
    "name": "ipython",
    "version": 3
   },
   "file_extension": ".py",
   "mimetype": "text/x-python",
   "name": "python",
   "nbconvert_exporter": "python",
   "pygments_lexer": "ipython3",
   "version": "3.7.12"
  },
  "papermill": {
   "default_parameters": {},
   "duration": 9.902685,
   "end_time": "2022-11-20T19:35:54.005764",
   "environment_variables": {},
   "exception": null,
   "input_path": "__notebook__.ipynb",
   "output_path": "__notebook__.ipynb",
   "parameters": {},
   "start_time": "2022-11-20T19:35:44.103079",
   "version": "2.3.4"
  }
 },
 "nbformat": 4,
 "nbformat_minor": 5
}
