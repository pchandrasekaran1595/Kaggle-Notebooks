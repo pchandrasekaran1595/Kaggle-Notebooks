{
 "cells": [
  {
   "cell_type": "markdown",
   "id": "8bea5c6f",
   "metadata": {
    "_cell_guid": "b1076dfc-b9ad-4769-8c92-a6c4dae69d19",
    "_uuid": "8f2839f25d086af736a60e9eeb907d3b93b6e0e5",
    "papermill": {
     "duration": 0.002791,
     "end_time": "2022-11-20T14:57:18.703699",
     "exception": false,
     "start_time": "2022-11-20T14:57:18.700908",
     "status": "completed"
    },
    "tags": []
   },
   "source": [
    "**ModeAll + Best SWIN**"
   ]
  },
  {
   "cell_type": "code",
   "execution_count": 1,
   "id": "d9c847af",
   "metadata": {
    "execution": {
     "iopub.execute_input": "2022-11-20T14:57:18.710008Z",
     "iopub.status.busy": "2022-11-20T14:57:18.709356Z",
     "iopub.status.idle": "2022-11-20T14:57:19.555144Z",
     "shell.execute_reply": "2022-11-20T14:57:19.553875Z"
    },
    "papermill": {
     "duration": 0.852366,
     "end_time": "2022-11-20T14:57:19.558286",
     "exception": false,
     "start_time": "2022-11-20T14:57:18.705920",
     "status": "completed"
    },
    "tags": []
   },
   "outputs": [],
   "source": [
    "import numpy as np\n",
    "import pandas as pd\n",
    "from scipy import stats"
   ]
  },
  {
   "cell_type": "code",
   "execution_count": 2,
   "id": "775cb484",
   "metadata": {
    "execution": {
     "iopub.execute_input": "2022-11-20T14:57:19.563774Z",
     "iopub.status.busy": "2022-11-20T14:57:19.563367Z",
     "iopub.status.idle": "2022-11-20T14:57:19.717237Z",
     "shell.execute_reply": "2022-11-20T14:57:19.716057Z"
    },
    "papermill": {
     "duration": 0.160313,
     "end_time": "2022-11-20T14:57:19.720566",
     "exception": false,
     "start_time": "2022-11-20T14:57:19.560253",
     "status": "completed"
    },
    "tags": []
   },
   "outputs": [
    {
     "name": "stderr",
     "output_type": "stream",
     "text": [
      "/opt/conda/lib/python3.7/site-packages/ipykernel_launcher.py:10: UserWarning: Pandas doesn't allow columns to be created via a new attribute name - see https://pandas.pydata.org/pandas-docs/stable/indexing.html#attribute-access\n",
      "  # Remove the CWD from sys.path while we load stuff.\n"
     ]
    }
   ],
   "source": [
    "sub_df_1 = pd.read_csv(\"../input/fic-en4-a384-e10-modeall-infer/submission.csv\")\n",
    "sub_df_2 = pd.read_csv(\"../input/fic-swin-features-train/submission.csv\")\n",
    "\n",
    "y_pred_1 = sub_df_1.label.copy().values.reshape(1, -1)\n",
    "y_pred_2 = sub_df_2.label.copy().values.reshape(1, -1)\n",
    "\n",
    "y_pred = np.concatenate((y_pred_1, y_pred_2), axis=0)\n",
    "y_pred = stats.mode(y_pred)[0]\n",
    "\n",
    "sub_df_1.labels = y_pred.astype(\"uint8\").reshape(-1)\n",
    "sub_df_1.to_csv(\"submission.csv\", index=False)"
   ]
  }
 ],
 "metadata": {
  "kernelspec": {
   "display_name": "Python 3",
   "language": "python",
   "name": "python3"
  },
  "language_info": {
   "codemirror_mode": {
    "name": "ipython",
    "version": 3
   },
   "file_extension": ".py",
   "mimetype": "text/x-python",
   "name": "python",
   "nbconvert_exporter": "python",
   "pygments_lexer": "ipython3",
   "version": "3.7.12"
  },
  "papermill": {
   "default_parameters": {},
   "duration": 10.847855,
   "end_time": "2022-11-20T14:57:20.445959",
   "environment_variables": {},
   "exception": null,
   "input_path": "__notebook__.ipynb",
   "output_path": "__notebook__.ipynb",
   "parameters": {},
   "start_time": "2022-11-20T14:57:09.598104",
   "version": "2.3.4"
  }
 },
 "nbformat": 4,
 "nbformat_minor": 5
}
