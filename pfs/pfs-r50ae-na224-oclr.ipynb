{
 "cells": [
  {
   "cell_type": "markdown",
   "id": "5e634951",
   "metadata": {
    "_cell_guid": "b1076dfc-b9ad-4769-8c92-a6c4dae69d19",
    "_uuid": "8f2839f25d086af736a60e9eeb907d3b93b6e0e5",
    "papermill": {
     "duration": 0.013399,
     "end_time": "2022-05-08T08:00:15.585885",
     "exception": false,
     "start_time": "2022-05-08T08:00:15.572486",
     "status": "completed"
    },
    "tags": []
   },
   "source": [
    "### **Library Imports**"
   ]
  },
  {
   "cell_type": "code",
   "execution_count": 1,
   "id": "e07a7bae",
   "metadata": {
    "execution": {
     "iopub.execute_input": "2022-05-08T08:00:15.611693Z",
     "iopub.status.busy": "2022-05-08T08:00:15.611306Z",
     "iopub.status.idle": "2022-05-08T08:00:18.207951Z",
     "shell.execute_reply": "2022-05-08T08:00:18.207146Z"
    },
    "papermill": {
     "duration": 2.612676,
     "end_time": "2022-05-08T08:00:18.210470",
     "exception": false,
     "start_time": "2022-05-08T08:00:15.597794",
     "status": "completed"
    },
    "tags": []
   },
   "outputs": [],
   "source": [
    "import os\n",
    "import re\n",
    "import cv2\n",
    "import torch\n",
    "import random as r\n",
    "import numpy as np\n",
    "import pandas as pd\n",
    "import matplotlib.pyplot as plt\n",
    "\n",
    "from time import time\n",
    "from torch import nn, optim\n",
    "from torch.utils.data import Dataset\n",
    "from torch.utils.data import DataLoader as DL\n",
    "from torchvision import models, transforms\n",
    "\n",
    "from sklearn.model_selection import KFold"
   ]
  },
  {
   "cell_type": "markdown",
   "id": "b02c44d9",
   "metadata": {
    "papermill": {
     "duration": 0.01191,
     "end_time": "2022-05-08T08:00:18.235577",
     "exception": false,
     "start_time": "2022-05-08T08:00:18.223667",
     "status": "completed"
    },
    "tags": []
   },
   "source": [
    "### **Utilities and Constants**"
   ]
  },
  {
   "cell_type": "code",
   "execution_count": 2,
   "id": "522a5d2f",
   "metadata": {
    "execution": {
     "iopub.execute_input": "2022-05-08T08:00:18.262167Z",
     "iopub.status.busy": "2022-05-08T08:00:18.261926Z",
     "iopub.status.idle": "2022-05-08T08:00:18.273734Z",
     "shell.execute_reply": "2022-05-08T08:00:18.273082Z"
    },
    "papermill": {
     "duration": 0.027236,
     "end_time": "2022-05-08T08:00:18.275614",
     "exception": false,
     "start_time": "2022-05-08T08:00:18.248378",
     "status": "completed"
    },
    "tags": []
   },
   "outputs": [],
   "source": [
    "SEED = 42\n",
    "SIZE = 224\n",
    "\n",
    "\n",
    "def breaker(num: int=50, char: str=\"*\") -> None:\n",
    "    print(\"\\n\" + num*char + \"\\n\")\n",
    "    \n",
    "    \n",
    "def get_image(path: str) -> np.ndarray:\n",
    "    return cv2.resize(src=cv2.cvtColor(src=cv2.imread(path, cv2.IMREAD_COLOR), code=cv2.COLOR_BGR2RGB), dsize=(SIZE, SIZE), interpolation=cv2.INTER_AREA)\n",
    "\n",
    "\n",
    "def show_loss_graph(L: list) -> None:\n",
    "    TL, VL = [], []\n",
    "    for i in range(len(L)):\n",
    "        TL.append(L[i][\"train\"])\n",
    "        VL.append(L[i][\"valid\"])\n",
    "    x_Axis = np.arange(1, len(TL) + 1)\n",
    "    plt.figure(figsize=(8, 6))\n",
    "    plt.plot(x_Axis, TL, \"r\", label=\"Train\")\n",
    "    plt.plot(x_Axis, VL, \"b\", label=\"Valid\")\n",
    "    plt.legend()\n",
    "    plt.grid()\n",
    "    plt.title(\"Loss Graph\")\n",
    "    plt.show()\n",
    "\n",
    "    \n",
    "def show_lr_graph(LR: list) -> None:\n",
    "    x_Axis = [i+1 for i in range(len(LR))]\n",
    "    plt.figure(figsize=(8, 6))\n",
    "    plt.plot(x_Axis, LR, \"rx\")\n",
    "    plt.grid()\n",
    "    plt.show()\n",
    "\n",
    "    \n",
    "    \n",
    "def show(image: np.ndarray, cmap: str=\"gnuplot2\") -> None:\n",
    "    plt.figure()\n",
    "    plt.imshow(image, cmap=cmap)\n",
    "    plt.axis(\"off\")\n",
    "    plt.show()"
   ]
  },
  {
   "cell_type": "markdown",
   "id": "6190ff8a",
   "metadata": {
    "papermill": {
     "duration": 0.021433,
     "end_time": "2022-05-08T08:00:18.308783",
     "exception": false,
     "start_time": "2022-05-08T08:00:18.287350",
     "status": "completed"
    },
    "tags": []
   },
   "source": [
    "### **Configuration**"
   ]
  },
  {
   "cell_type": "code",
   "execution_count": 3,
   "id": "c88e5b35",
   "metadata": {
    "execution": {
     "iopub.execute_input": "2022-05-08T08:00:18.353384Z",
     "iopub.status.busy": "2022-05-08T08:00:18.352925Z",
     "iopub.status.idle": "2022-05-08T08:00:18.427726Z",
     "shell.execute_reply": "2022-05-08T08:00:18.426912Z"
    },
    "papermill": {
     "duration": 0.100683,
     "end_time": "2022-05-08T08:00:18.429833",
     "exception": false,
     "start_time": "2022-05-08T08:00:18.329150",
     "status": "completed"
    },
    "tags": []
   },
   "outputs": [],
   "source": [
    "class CFG(object):\n",
    "    def __init__(self, \n",
    "                 seed: int = 42,\n",
    "                 n_splits: int = 5,\n",
    "                 batch_size: int = 16,\n",
    "                 epochs: int = 25,\n",
    "                 early_stopping: int = 5,\n",
    "                 lr: float = 1e-4,\n",
    "                 wd: float = 0.0,\n",
    "                 max_lr: float = 1e-3,\n",
    "                 pct_start: float = 0.2,\n",
    "                 steps_per_epoch: int = 100,\n",
    "                 div_factor: int = 1e3, \n",
    "                 final_div_factor: float = 1e3,\n",
    "                 patience: int = 5,\n",
    "                 eps: float = 1e-8\n",
    "                 ):\n",
    "        self.seed = seed\n",
    "        self.n_splits = n_splits\n",
    "        self.batch_size = batch_size\n",
    "        self.epochs = epochs\n",
    "        self.early_stopping = early_stopping\n",
    "        self.lr = lr\n",
    "        self.wd = wd\n",
    "        self.max_lr = max_lr\n",
    "        self.pct_start = pct_start\n",
    "        self.steps_per_epoch = steps_per_epoch\n",
    "        self.div_factor = div_factor\n",
    "        self.final_div_factor = final_div_factor\n",
    "        self.patience = patience\n",
    "        self.eps = eps\n",
    "        self.device = torch.device(\"cuda\" if torch.cuda.is_available() else \"cpu\")\n",
    "        self.transform = transforms.Compose([transforms.ToTensor(),\n",
    "                                             transforms.Normalize([0.52046, 0.41952, 0.36597],\n",
    "                                                                  [0.26424, 0.23696, 0.23129]),\n",
    "                                            ])\n",
    "        self.plain_transform = transforms.Compose([transforms.ToTensor(),])\n",
    "        self.tr_data_path = \"../input/person-face-sketches/train\"\n",
    "        self.ts_data_path = \"../input/person-face-sketches/test\"\n",
    "        self.save_path = \"saves\"\n",
    "        if not os.path.exists(self.save_path): os.makedirs(self.save_path)\n",
    "\n",
    "cfg = CFG(seed=SEED)"
   ]
  },
  {
   "cell_type": "markdown",
   "id": "110243ea",
   "metadata": {
    "papermill": {
     "duration": 0.011534,
     "end_time": "2022-05-08T08:00:18.453936",
     "exception": false,
     "start_time": "2022-05-08T08:00:18.442402",
     "status": "completed"
    },
    "tags": []
   },
   "source": [
    "### **Dataset Template**"
   ]
  },
  {
   "cell_type": "code",
   "execution_count": 4,
   "id": "14ecf336",
   "metadata": {
    "execution": {
     "iopub.execute_input": "2022-05-08T08:00:18.482780Z",
     "iopub.status.busy": "2022-05-08T08:00:18.482527Z",
     "iopub.status.idle": "2022-05-08T08:00:18.490810Z",
     "shell.execute_reply": "2022-05-08T08:00:18.490054Z"
    },
    "papermill": {
     "duration": 0.025196,
     "end_time": "2022-05-08T08:00:18.492774",
     "exception": false,
     "start_time": "2022-05-08T08:00:18.467578",
     "status": "completed"
    },
    "tags": []
   },
   "outputs": [],
   "source": [
    "class DS(Dataset):\n",
    "    def __init__(self, \n",
    "                 path: str, \n",
    "                 filenames: list, \n",
    "                 transform_input=None, \n",
    "                 transform_output=None):\n",
    "        \n",
    "        self.photo_path = os.path.join(path, \"photo\")\n",
    "        self.sketch_path = os.path.join(path, \"sketch\")\n",
    "        self.transform_input = transform_input\n",
    "        self.transform_output = transform_output\n",
    "        self.filenames = filenames\n",
    "\n",
    "    def __len__(self):\n",
    "        return len(self.filenames)\n",
    "    \n",
    "    def __getitem__(self, idx):\n",
    "        photo = get_image(os.path.join(self.photo_path, filenames[idx]))\n",
    "        sketch = get_image(os.path.join(self.sketch_path, filenames[idx]))\n",
    "        return self.transform_input(photo), self.transform_output(sketch)"
   ]
  },
  {
   "cell_type": "markdown",
   "id": "2a2d17b7",
   "metadata": {
    "papermill": {
     "duration": 0.013987,
     "end_time": "2022-05-08T08:00:18.520565",
     "exception": false,
     "start_time": "2022-05-08T08:00:18.506578",
     "status": "completed"
    },
    "tags": []
   },
   "source": [
    "### **Model**"
   ]
  },
  {
   "cell_type": "code",
   "execution_count": 5,
   "id": "a0eae003",
   "metadata": {
    "execution": {
     "iopub.execute_input": "2022-05-08T08:00:18.550869Z",
     "iopub.status.busy": "2022-05-08T08:00:18.550069Z",
     "iopub.status.idle": "2022-05-08T08:00:18.668612Z",
     "shell.execute_reply": "2022-05-08T08:00:18.667905Z"
    },
    "papermill": {
     "duration": 0.134534,
     "end_time": "2022-05-08T08:00:18.670715",
     "exception": false,
     "start_time": "2022-05-08T08:00:18.536181",
     "status": "completed"
    },
    "tags": []
   },
   "outputs": [],
   "source": [
    "class Model(nn.Module):\n",
    "    def __init__(self, in_channels: int = 3):\n",
    "        super(Model, self).__init__()\n",
    "\n",
    "        self.encoder = models.resnet50(pretrained=True, progress=True)\n",
    "        # self.freeze()\n",
    "        self.encoder = nn.Sequential(*[*self.encoder.children()][:-2])\n",
    "        if in_channels != 3:\n",
    "            self.encoder[0] = nn.Conv2d(in_channels=in_channels, \n",
    "                                        out_channels=self.encoder[0].out_channels, \n",
    "                                        kernel_size=self.encoder[0].kernel_size, \n",
    "                                        stride=self.encoder[0].stride,\n",
    "                                        padding=self.encoder[0].padding)\n",
    "\n",
    "        self.decoder = nn.Sequential()\n",
    "        self.decoder.add_module(\"DC1\", nn.ConvTranspose2d(in_channels=2048, out_channels=512, kernel_size=(3, 3), stride=(1, 1), padding=(1, 1)))\n",
    "        self.decoder.add_module(\"AN1\", nn.ReLU())\n",
    "        self.decoder.add_module(\"UP1\", nn.Upsample(scale_factor=2))\n",
    "        self.decoder.add_module(\"DC2\", nn.ConvTranspose2d(in_channels=512, out_channels=256, kernel_size=(3, 3), stride=(1, 1), padding=(1, 1)))\n",
    "        self.decoder.add_module(\"AN2\", nn.ReLU())\n",
    "        self.decoder.add_module(\"UP2\", nn.Upsample(scale_factor=2))\n",
    "        self.decoder.add_module(\"DC3\", nn.ConvTranspose2d(in_channels=256, out_channels=128, kernel_size=(3, 3), stride=(1, 1), padding=(1, 1)))\n",
    "        self.decoder.add_module(\"AN3\", nn.ReLU())\n",
    "        self.decoder.add_module(\"UP3\", nn.Upsample(scale_factor=2))\n",
    "        self.decoder.add_module(\"DC4\", nn.ConvTranspose2d(in_channels=128, out_channels=64, kernel_size=(3, 3), stride=(1, 1), padding=(1, 1)))\n",
    "        self.decoder.add_module(\"AN4\", nn.ReLU())\n",
    "        self.decoder.add_module(\"UP4\", nn.Upsample(scale_factor=2))\n",
    "        self.decoder.add_module(\"DC5\", nn.ConvTranspose2d(in_channels=64, out_channels=in_channels, kernel_size=(3, 3), stride=(1, 1), padding=(1, 1)))\n",
    "        self.decoder.add_module(\"AN5\", nn.ReLU())\n",
    "        self.decoder.add_module(\"UP5\", nn.Upsample(scale_factor=2))\n",
    "    \n",
    "    def freeze(self):\n",
    "        for params in self.parameters(): params.requires_grad = False\n",
    "        \n",
    "    def forward(self, x):\n",
    "        encoded = self.encoder(x)\n",
    "        decoded = self.decoder(encoded)\n",
    "        \n",
    "        return encoded, decoded"
   ]
  },
  {
   "cell_type": "markdown",
   "id": "4905b158",
   "metadata": {
    "papermill": {
     "duration": 0.011549,
     "end_time": "2022-05-08T08:00:18.694303",
     "exception": false,
     "start_time": "2022-05-08T08:00:18.682754",
     "status": "completed"
    },
    "tags": []
   },
   "source": [
    "### **Fit and Predict Helper**"
   ]
  },
  {
   "cell_type": "code",
   "execution_count": 6,
   "id": "0c808d24",
   "metadata": {
    "execution": {
     "iopub.execute_input": "2022-05-08T08:00:18.719251Z",
     "iopub.status.busy": "2022-05-08T08:00:18.719016Z",
     "iopub.status.idle": "2022-05-08T08:00:18.740981Z",
     "shell.execute_reply": "2022-05-08T08:00:18.740172Z"
    },
    "papermill": {
     "duration": 0.03632,
     "end_time": "2022-05-08T08:00:18.742704",
     "exception": false,
     "start_time": "2022-05-08T08:00:18.706384",
     "status": "completed"
    },
    "tags": []
   },
   "outputs": [],
   "source": [
    "def fit(model=None, \n",
    "        optimizer=None, \n",
    "        scheduler_oclr=None,\n",
    "        scheduler_rlrop=None, \n",
    "        epochs=None, \n",
    "        early_stopping_patience=None, \n",
    "        dataloaders=None, \n",
    "        fold=None, \n",
    "        save_path=None, \n",
    "        device=None,\n",
    "        verbose=False) -> tuple:\n",
    "    \n",
    "    if verbose:\n",
    "        breaker()\n",
    "        if fold: print(f\"Training Fold {fold}...\")\n",
    "        else: print(\"Training ...\")\n",
    "        breaker()\n",
    "        \n",
    "    bestLoss = {\"train\" : np.inf, \"valid\" : np.inf}\n",
    "    Losses, LRs = [], []\n",
    "    \n",
    "    if fold: name = f\"state_fold_{fold}.pt\"\n",
    "    else: name = \"state.pt\"\n",
    "        \n",
    "    start_time = time()\n",
    "    for e in range(epochs):\n",
    "        e_st = time()\n",
    "        epochLoss = {\"train\" : 0.0, \"valid\" : 0.0}\n",
    "\n",
    "        for phase in [\"train\", \"valid\"]:\n",
    "            if phase == \"train\":\n",
    "                model.train()\n",
    "            else:\n",
    "                model.eval()\n",
    "            \n",
    "            lossPerPass = []\n",
    "            \n",
    "            for X, Y in dataloaders[phase]:\n",
    "                X, Y = X.to(device), Y.to(device)\n",
    "\n",
    "                optimizer.zero_grad()\n",
    "                with torch.set_grad_enabled(phase == \"train\"):\n",
    "                    _, output = model(X)\n",
    "                    loss = torch.nn.MSELoss()(output, Y)\n",
    "                    if phase == \"train\":\n",
    "                        loss.backward()\n",
    "                        optimizer.step()\n",
    "                        if scheduler_oclr: scheduler_oclr.step()\n",
    "                lossPerPass.append(loss.item())\n",
    "            epochLoss[phase] = np.mean(np.array(lossPerPass))\n",
    "        if scheduler_oclr: LRs.append(scheduler_oclr.get_last_lr())\n",
    "        Losses.append(epochLoss)\n",
    "        \n",
    "        if scheduler_oclr:\n",
    "            save_dict = {\n",
    "                \"model_state_dict\"     : model.state_dict(),\n",
    "                \"optim_state_dict\"     : optimizer.state_dict(),\n",
    "                \"scheduler_state_dict\" : scheduler_oclr.state_dict(),\n",
    "            }\n",
    "        \n",
    "        elif scheduler_rlrop:\n",
    "            save_dict = {\n",
    "                \"model_state_dict\"     : model.state_dict(),\n",
    "                \"optim_state_dict\"     : optimizer.state_dict(),\n",
    "                \"scheduler_state_dict\" : scheduler_rlrop.state_dict(),\n",
    "            }\n",
    "        \n",
    "        else:\n",
    "            save_dict = {\n",
    "                \"model_state_dict\"     : model.state_dict(),\n",
    "                \"optim_state_dict\"     : optimizer.state_dict(),\n",
    "            }\n",
    "            \n",
    "        \n",
    "        if early_stopping_patience:\n",
    "            if epochLoss[\"valid\"] < bestLoss[\"valid\"]:\n",
    "                bestLoss = epochLoss\n",
    "                BLE = e + 1\n",
    "                torch.save(save_dict, os.path.join(save_path, name))\n",
    "                early_stopping_step = 0\n",
    "            else:\n",
    "                early_stopping_step += 1\n",
    "                if early_stopping_step > early_stopping_patience:\n",
    "                    print(\"\\nEarly Stopping at Epoch {}\".format(e + 1))\n",
    "                    break\n",
    "            \n",
    "        if epochLoss[\"valid\"] < bestLoss[\"valid\"]:\n",
    "            bestLoss = epochLoss\n",
    "            BLE = e + 1\n",
    "            torch.save(save_dict, os.path.join(save_path, name))\n",
    "    \n",
    "        if scheduler_rlrop: scheduler_rlrop.step(epochLoss[\"valid\"])\n",
    "        \n",
    "        if verbose:\n",
    "            print(\"Epoch: {} | Train Loss: {:.5f} | Valid Loss: {:.5f} | Time: {:.2f} seconds\".format(e+1, epochLoss[\"train\"], epochLoss[\"valid\"], time()-e_st))\n",
    "        \n",
    "    \n",
    "    if verbose:                                           \n",
    "        breaker()\n",
    "        print(f\"Best Validation Loss at Epoch {BLE}\")\n",
    "        breaker()\n",
    "        print(\"Time Taken [{} Epochs] : {:.2f} minutes\".format(len(Losses), (time()-start_time)/60))\n",
    "    \n",
    "    return Losses, LRs, BLE, name\n",
    "\n",
    "\n",
    "def predict(model=None, device=None, image=None, size=None, path=None) -> np.ndarray:\n",
    "    model.load_state_dict(torch.load(path, map_location=device)[\"model_state_dict\"])\n",
    "    model.to(device)    \n",
    "    model.eval()\n",
    "    \n",
    "    h, w, _ = image.shape\n",
    "    temp_image = cv2.resize(src=image, dsize=(size, size), interpolation=cv2.INTER_AREA)\n",
    "\n",
    "    with torch.no_grad(): _, decoded = model(transforms.ToTensor()(temp_image).unsqueeze(dim=0).to(cfg.device))\n",
    "        \n",
    "    decoded_image = np.clip(decoded.squeeze().detach().cpu().numpy().transpose(1, 2, 0)*255, 0, 255).astype(\"uint8\")\n",
    "    return cv2.resize(src=decoded_image, dsize=(w, h), interpolation=cv2.INTER_AREA)"
   ]
  },
  {
   "cell_type": "markdown",
   "id": "dcee8f01",
   "metadata": {
    "papermill": {
     "duration": 0.011931,
     "end_time": "2022-05-08T08:00:18.766302",
     "exception": false,
     "start_time": "2022-05-08T08:00:18.754371",
     "status": "completed"
    },
    "tags": []
   },
   "source": [
    "### **Train**"
   ]
  },
  {
   "cell_type": "code",
   "execution_count": 7,
   "id": "beb48332",
   "metadata": {
    "execution": {
     "iopub.execute_input": "2022-05-08T08:00:18.790612Z",
     "iopub.status.busy": "2022-05-08T08:00:18.790405Z",
     "iopub.status.idle": "2022-05-08T08:42:11.777636Z",
     "shell.execute_reply": "2022-05-08T08:42:11.776914Z"
    },
    "papermill": {
     "duration": 2513.001665,
     "end_time": "2022-05-08T08:42:11.779593",
     "exception": false,
     "start_time": "2022-05-08T08:00:18.777928",
     "status": "completed"
    },
    "tags": []
   },
   "outputs": [
    {
     "name": "stderr",
     "output_type": "stream",
     "text": [
      "Downloading: \"https://download.pytorch.org/models/resnet50-0676ba61.pth\" to /root/.cache/torch/hub/checkpoints/resnet50-0676ba61.pth\n"
     ]
    },
    {
     "data": {
      "application/vnd.jupyter.widget-view+json": {
       "model_id": "ab30d692928d4f51a534fecbf380d878",
       "version_major": 2,
       "version_minor": 0
      },
      "text/plain": [
       "  0%|          | 0.00/97.8M [00:00<?, ?B/s]"
      ]
     },
     "metadata": {},
     "output_type": "display_data"
    },
    {
     "name": "stdout",
     "output_type": "stream",
     "text": [
      "\n",
      "**************************************************\n",
      "\n",
      "Training ...\n",
      "\n",
      "**************************************************\n",
      "\n",
      "Epoch: 1 | Train Loss: 0.07175 | Valid Loss: 0.03137 | Time: 397.98 seconds\n",
      "Epoch: 2 | Train Loss: 0.02660 | Valid Loss: 0.03018 | Time: 301.85 seconds\n",
      "Epoch: 3 | Train Loss: 0.02560 | Valid Loss: 0.03284 | Time: 299.67 seconds\n",
      "Epoch: 4 | Train Loss: 0.02418 | Valid Loss: 0.03054 | Time: 298.63 seconds\n",
      "Epoch: 5 | Train Loss: 0.02260 | Valid Loss: 0.03253 | Time: 300.21 seconds\n",
      "Epoch: 6 | Train Loss: 0.02166 | Valid Loss: 0.03070 | Time: 302.55 seconds\n",
      "Epoch: 7 | Train Loss: 0.02112 | Valid Loss: 0.03314 | Time: 298.64 seconds\n",
      "\n",
      "Early Stopping at Epoch 8\n",
      "\n",
      "**************************************************\n",
      "\n",
      "Best Validation Loss at Epoch 2\n",
      "\n",
      "**************************************************\n",
      "\n",
      "Time Taken [8 Epochs] : 41.62 minutes\n",
      "\n",
      "**************************************************\n",
      "\n"
     ]
    },
    {
     "data": {
      "image/png": "[encoded data removed]",
      "text/plain": [
       "<Figure size 576x432 with 1 Axes>"
      ]
     },
     "metadata": {
      "needs_background": "light"
     },
     "output_type": "display_data"
    },
    {
     "name": "stdout",
     "output_type": "stream",
     "text": [
      "\n",
      "**************************************************\n",
      "\n"
     ]
    },
    {
     "data": {
      "image/png": "[encoded data removed]",
      "text/plain": [
       "<Figure size 576x432 with 1 Axes>"
      ]
     },
     "metadata": {
      "needs_background": "light"
     },
     "output_type": "display_data"
    },
    {
     "name": "stdout",
     "output_type": "stream",
     "text": [
      "\n",
      "**************************************************\n",
      "\n"
     ]
    }
   ],
   "source": [
    "filenames = np.array(os.listdir(os.path.join(cfg.tr_data_path, \"photo\")))\n",
    "\n",
    "for tr_idx, va_idx in KFold(n_splits=cfg.n_splits, random_state=cfg.seed, shuffle=True).split(filenames):\n",
    "    break\n",
    "\n",
    "tr_filenames, va_filenames = filenames[tr_idx], filenames[va_idx]\n",
    "\n",
    "tr_data_setup = DS(cfg.tr_data_path, tr_filenames, cfg.transform, cfg.plain_transform)\n",
    "va_data_setup = DS(cfg.tr_data_path, va_filenames, cfg.plain_transform, cfg.plain_transform)\n",
    "\n",
    "dataloaders = {\n",
    "    \"train\" : DL(tr_data_setup, batch_size=cfg.batch_size, shuffle=True, generator=torch.manual_seed(cfg.seed)),\n",
    "    \"valid\" : DL(va_data_setup, batch_size=cfg.batch_size, shuffle=False)\n",
    "}\n",
    "\n",
    "cfg = CFG(seed=SEED, epochs=25, early_stopping=5, lr=1e-3, wd=0.0, steps_per_epoch=len(dataloaders[\"train\"]))\n",
    "\n",
    "torch.manual_seed(cfg.seed)\n",
    "model = Model().to(cfg.device)\n",
    "optimizer = optim.Adam([p for p in model.parameters() if p.requires_grad], lr=cfg.lr, weight_decay=cfg.wd)\n",
    "scheduler = optim.lr_scheduler.OneCycleLR(optimizer=optimizer, \n",
    "                                          max_lr=cfg.max_lr, \n",
    "                                          epochs=cfg.epochs, \n",
    "                                          steps_per_epoch=cfg.steps_per_epoch,\n",
    "                                          pct_start=cfg.pct_start, \n",
    "                                          div_factor=cfg.div_factor, \n",
    "                                          final_div_factor=cfg.final_div_factor)\n",
    "\n",
    "L, LR, BLE, name = fit(model=model, \n",
    "                       optimizer=optimizer, \n",
    "                       scheduler_oclr=scheduler, \n",
    "                       epochs=cfg.epochs, \n",
    "                       early_stopping_patience=cfg.early_stopping, \n",
    "                       dataloaders=dataloaders, \n",
    "                       device=cfg.device,\n",
    "                       save_path=cfg.save_path,\n",
    "                       verbose=True)\n",
    "\n",
    "breaker()\n",
    "show_loss_graph(L)\n",
    "breaker()\n",
    "if len(LR) > 0: show_lr_graph(LR)\n",
    "breaker()"
   ]
  },
  {
   "cell_type": "markdown",
   "id": "e4a766cb",
   "metadata": {
    "papermill": {
     "duration": 0.017442,
     "end_time": "2022-05-08T08:42:11.814725",
     "exception": false,
     "start_time": "2022-05-08T08:42:11.797283",
     "status": "completed"
    },
    "tags": []
   },
   "source": [
    "### **Test**"
   ]
  },
  {
   "cell_type": "code",
   "execution_count": 8,
   "id": "af929678",
   "metadata": {
    "execution": {
     "iopub.execute_input": "2022-05-08T08:42:11.851558Z",
     "iopub.status.busy": "2022-05-08T08:42:11.850949Z",
     "iopub.status.idle": "2022-05-08T08:42:12.784231Z",
     "shell.execute_reply": "2022-05-08T08:42:12.783259Z"
    },
    "papermill": {
     "duration": 0.954905,
     "end_time": "2022-05-08T08:42:12.787180",
     "exception": false,
     "start_time": "2022-05-08T08:42:11.832275",
     "status": "completed"
    },
    "tags": []
   },
   "outputs": [
    {
     "name": "stdout",
     "output_type": "stream",
     "text": [
      "\n",
      "**************************************************\n",
      "\n",
      "Test Sample 502\n",
      "\n",
      "**************************************************\n",
      "\n"
     ]
    },
    {
     "data": {
      "image/png": "[encoded data removed]",
      "text/plain": [
       "<Figure size 432x288 with 1 Axes>"
      ]
     },
     "metadata": {
      "needs_background": "light"
     },
     "output_type": "display_data"
    },
    {
     "name": "stdout",
     "output_type": "stream",
     "text": [
      "\n"
     ]
    },
    {
     "data": {
      "image/png": "[encoded data removed]",
      "text/plain": [
       "<Figure size 432x288 with 1 Axes>"
      ]
     },
     "metadata": {
      "needs_background": "light"
     },
     "output_type": "display_data"
    },
    {
     "name": "stdout",
     "output_type": "stream",
     "text": [
      "\n",
      "**************************************************\n",
      "\n"
     ]
    }
   ],
   "source": [
    "ts_filenames = os.listdir(os.path.join(cfg.ts_data_path, \"photo\"))\n",
    "\n",
    "index = r.randint(0, len(ts_filenames))\n",
    "\n",
    "image = cv2.cvtColor(src=cv2.imread(os.path.join(os.path.join(cfg.ts_data_path, \"photo\"), ts_filenames[index])), code=cv2.COLOR_BGR2RGB)\n",
    "\n",
    "decoded_image = predict(model, cfg.device, image, SIZE, \"saves/state.pt\")\n",
    "\n",
    "breaker()\n",
    "print(f\"Test Sample {index}\")\n",
    "breaker()\n",
    "show(image)\n",
    "print(\"\")\n",
    "show(decoded_image)\n",
    "breaker()"
   ]
  }
 ],
 "metadata": {
  "kernelspec": {
   "display_name": "Python 3",
   "language": "python",
   "name": "python3"
  },
  "language_info": {
   "codemirror_mode": {
    "name": "ipython",
    "version": 3
   },
   "file_extension": ".py",
   "mimetype": "text/x-python",
   "name": "python",
   "nbconvert_exporter": "python",
   "pygments_lexer": "ipython3",
   "version": "3.7.12"
  },
  "papermill": {
   "default_parameters": {},
   "duration": 2526.746759,
   "end_time": "2022-05-08T08:42:14.036210",
   "environment_variables": {},
   "exception": null,
   "input_path": "__notebook__.ipynb",
   "output_path": "__notebook__.ipynb",
   "parameters": {},
   "start_time": "2022-05-08T08:00:07.289451",
   "version": "2.3.4"
  },
  "widgets": {
   "application/vnd.jupyter.widget-state+json": {
    "state": {
     "218ec896c8a244b9aabaed06cbbe58f5": {
      "model_module": "@jupyter-widgets/controls",
      "model_module_version": "1.5.0",
      "model_name": "DescriptionStyleModel",
      "state": {
       "_model_module": "@jupyter-widgets/controls",
       "_model_module_version": "1.5.0",
       "_model_name": "DescriptionStyleModel",
       "_view_count": null,
       "_view_module": "@jupyter-widgets/base",
       "_view_module_version": "1.2.0",
       "_view_name": "StyleView",
       "description_width": ""
      }
     },
     "3046d5d2ba724e2eb3ee8fb544aa82f1": {
      "model_module": "@jupyter-widgets/controls",
      "model_module_version": "1.5.0",
      "model_name": "DescriptionStyleModel",
      "state": {
       "_model_module": "@jupyter-widgets/controls",
       "_model_module_version": "1.5.0",
       "_model_name": "DescriptionStyleModel",
       "_view_count": null,
       "_view_module": "@jupyter-widgets/base",
       "_view_module_version": "1.2.0",
       "_view_name": "StyleView",
       "description_width": ""
      }
     },
     "39102ac7d3964fbfa49d2cfea22cc04c": {
      "model_module": "@jupyter-widgets/base",
      "model_module_version": "1.2.0",
      "model_name": "LayoutModel",
      "state": {
       "_model_module": "@jupyter-widgets/base",
       "_model_module_version": "1.2.0",
       "_model_name": "LayoutModel",
       "_view_count": null,
       "_view_module": "@jupyter-widgets/base",
       "_view_module_version": "1.2.0",
       "_view_name": "LayoutView",
       "align_content": null,
       "align_items": null,
       "align_self": null,
       "border": null,
       "bottom": null,
       "display": null,
       "flex": null,
       "flex_flow": null,
       "grid_area": null,
       "grid_auto_columns": null,
       "grid_auto_flow": null,
       "grid_auto_rows": null,
       "grid_column": null,
       "grid_gap": null,
       "grid_row": null,
       "grid_template_areas": null,
       "grid_template_columns": null,
       "grid_template_rows": null,
       "height": null,
       "justify_content": null,
       "justify_items": null,
       "left": null,
       "margin": null,
       "max_height": null,
       "max_width": null,
       "min_height": null,
       "min_width": null,
       "object_fit": null,
       "object_position": null,
       "order": null,
       "overflow": null,
       "overflow_x": null,
       "overflow_y": null,
       "padding": null,
       "right": null,
       "top": null,
       "visibility": null,
       "width": null
      }
     },
     "5252674dea64494ebeb495d2fa4aa579": {
      "model_module": "@jupyter-widgets/base",
      "model_module_version": "1.2.0",
      "model_name": "LayoutModel",
      "state": {
       "_model_module": "@jupyter-widgets/base",
       "_model_module_version": "1.2.0",
       "_model_name": "LayoutModel",
       "_view_count": null,
       "_view_module": "@jupyter-widgets/base",
       "_view_module_version": "1.2.0",
       "_view_name": "LayoutView",
       "align_content": null,
       "align_items": null,
       "align_self": null,
       "border": null,
       "bottom": null,
       "display": null,
       "flex": null,
       "flex_flow": null,
       "grid_area": null,
       "grid_auto_columns": null,
       "grid_auto_flow": null,
       "grid_auto_rows": null,
       "grid_column": null,
       "grid_gap": null,
       "grid_row": null,
       "grid_template_areas": null,
       "grid_template_columns": null,
       "grid_template_rows": null,
       "height": null,
       "justify_content": null,
       "justify_items": null,
       "left": null,
       "margin": null,
       "max_height": null,
       "max_width": null,
       "min_height": null,
       "min_width": null,
       "object_fit": null,
       "object_position": null,
       "order": null,
       "overflow": null,
       "overflow_x": null,
       "overflow_y": null,
       "padding": null,
       "right": null,
       "top": null,
       "visibility": null,
       "width": null
      }
     },
     "53013497504d4e26af9fd1f31f8658dd": {
      "model_module": "@jupyter-widgets/controls",
      "model_module_version": "1.5.0",
      "model_name": "ProgressStyleModel",
      "state": {
       "_model_module": "@jupyter-widgets/controls",
       "_model_module_version": "1.5.0",
       "_model_name": "ProgressStyleModel",
       "_view_count": null,
       "_view_module": "@jupyter-widgets/base",
       "_view_module_version": "1.2.0",
       "_view_name": "StyleView",
       "bar_color": null,
       "description_width": ""
      }
     },
     "578bf1221023413b8e3ada450bf7112d": {
      "model_module": "@jupyter-widgets/base",
      "model_module_version": "1.2.0",
      "model_name": "LayoutModel",
      "state": {
       "_model_module": "@jupyter-widgets/base",
       "_model_module_version": "1.2.0",
       "_model_name": "LayoutModel",
       "_view_count": null,
       "_view_module": "@jupyter-widgets/base",
       "_view_module_version": "1.2.0",
       "_view_name": "LayoutView",
       "align_content": null,
       "align_items": null,
       "align_self": null,
       "border": null,
       "bottom": null,
       "display": null,
       "flex": null,
       "flex_flow": null,
       "grid_area": null,
       "grid_auto_columns": null,
       "grid_auto_flow": null,
       "grid_auto_rows": null,
       "grid_column": null,
       "grid_gap": null,
       "grid_row": null,
       "grid_template_areas": null,
       "grid_template_columns": null,
       "grid_template_rows": null,
       "height": null,
       "justify_content": null,
       "justify_items": null,
       "left": null,
       "margin": null,
       "max_height": null,
       "max_width": null,
       "min_height": null,
       "min_width": null,
       "object_fit": null,
       "object_position": null,
       "order": null,
       "overflow": null,
       "overflow_x": null,
       "overflow_y": null,
       "padding": null,
       "right": null,
       "top": null,
       "visibility": null,
       "width": null
      }
     },
     "59a73ec482a04db4afe76160dd9b5df4": {
      "model_module": "@jupyter-widgets/controls",
      "model_module_version": "1.5.0",
      "model_name": "FloatProgressModel",
      "state": {
       "_dom_classes": [],
       "_model_module": "@jupyter-widgets/controls",
       "_model_module_version": "1.5.0",
       "_model_name": "FloatProgressModel",
       "_view_count": null,
       "_view_module": "@jupyter-widgets/controls",
       "_view_module_version": "1.5.0",
       "_view_name": "ProgressView",
       "bar_style": "success",
       "description": "",
       "description_tooltip": null,
       "layout": "IPY_MODEL_e2176cfe334c474a9853adb562434fe1",
       "max": 102530333.0,
       "min": 0.0,
       "orientation": "horizontal",
       "style": "IPY_MODEL_53013497504d4e26af9fd1f31f8658dd",
       "value": 102530333.0
      }
     },
     "a52dcb8316584c0f912725e270ff7005": {
      "model_module": "@jupyter-widgets/controls",
      "model_module_version": "1.5.0",
      "model_name": "HTMLModel",
      "state": {
       "_dom_classes": [],
       "_model_module": "@jupyter-widgets/controls",
       "_model_module_version": "1.5.0",
       "_model_name": "HTMLModel",
       "_view_count": null,
       "_view_module": "@jupyter-widgets/controls",
       "_view_module_version": "1.5.0",
       "_view_name": "HTMLView",
       "description": "",
       "description_tooltip": null,
       "layout": "IPY_MODEL_5252674dea64494ebeb495d2fa4aa579",
       "placeholder": "​",
       "style": "IPY_MODEL_3046d5d2ba724e2eb3ee8fb544aa82f1",
       "value": " 97.8M/97.8M [00:10&lt;00:00, 11.4MB/s]"
      }
     },
     "ab30d692928d4f51a534fecbf380d878": {
      "model_module": "@jupyter-widgets/controls",
      "model_module_version": "1.5.0",
      "model_name": "HBoxModel",
      "state": {
       "_dom_classes": [],
       "_model_module": "@jupyter-widgets/controls",
       "_model_module_version": "1.5.0",
       "_model_name": "HBoxModel",
       "_view_count": null,
       "_view_module": "@jupyter-widgets/controls",
       "_view_module_version": "1.5.0",
       "_view_name": "HBoxView",
       "box_style": "",
       "children": [
        "IPY_MODEL_bdc4f42a55494658965eb4c659c1db31",
        "IPY_MODEL_59a73ec482a04db4afe76160dd9b5df4",
        "IPY_MODEL_a52dcb8316584c0f912725e270ff7005"
       ],
       "layout": "IPY_MODEL_39102ac7d3964fbfa49d2cfea22cc04c"
      }
     },
     "bdc4f42a55494658965eb4c659c1db31": {
      "model_module": "@jupyter-widgets/controls",
      "model_module_version": "1.5.0",
      "model_name": "HTMLModel",
      "state": {
       "_dom_classes": [],
       "_model_module": "@jupyter-widgets/controls",
       "_model_module_version": "1.5.0",
       "_model_name": "HTMLModel",
       "_view_count": null,
       "_view_module": "@jupyter-widgets/controls",
       "_view_module_version": "1.5.0",
       "_view_name": "HTMLView",
       "description": "",
       "description_tooltip": null,
       "layout": "IPY_MODEL_578bf1221023413b8e3ada450bf7112d",
       "placeholder": "​",
       "style": "IPY_MODEL_218ec896c8a244b9aabaed06cbbe58f5",
       "value": "100%"
      }
     },
     "e2176cfe334c474a9853adb562434fe1": {
      "model_module": "@jupyter-widgets/base",
      "model_module_version": "1.2.0",
      "model_name": "LayoutModel",
      "state": {
       "_model_module": "@jupyter-widgets/base",
       "_model_module_version": "1.2.0",
       "_model_name": "LayoutModel",
       "_view_count": null,
       "_view_module": "@jupyter-widgets/base",
       "_view_module_version": "1.2.0",
       "_view_name": "LayoutView",
       "align_content": null,
       "align_items": null,
       "align_self": null,
       "border": null,
       "bottom": null,
       "display": null,
       "flex": null,
       "flex_flow": null,
       "grid_area": null,
       "grid_auto_columns": null,
       "grid_auto_flow": null,
       "grid_auto_rows": null,
       "grid_column": null,
       "grid_gap": null,
       "grid_row": null,
       "grid_template_areas": null,
       "grid_template_columns": null,
       "grid_template_rows": null,
       "height": null,
       "justify_content": null,
       "justify_items": null,
       "left": null,
       "margin": null,
       "max_height": null,
       "max_width": null,
       "min_height": null,
       "min_width": null,
       "object_fit": null,
       "object_position": null,
       "order": null,
       "overflow": null,
       "overflow_x": null,
       "overflow_y": null,
       "padding": null,
       "right": null,
       "top": null,
       "visibility": null,
       "width": null
      }
     }
    },
    "version_major": 2,
    "version_minor": 0
   }
  }
 },
 "nbformat": 4,
 "nbformat_minor": 5
}
