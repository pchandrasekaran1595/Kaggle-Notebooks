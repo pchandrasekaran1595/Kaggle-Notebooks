{
 "cells": [
  {
   "cell_type": "markdown",
   "id": "d50cddca",
   "metadata": {
    "_cell_guid": "b1076dfc-b9ad-4769-8c92-a6c4dae69d19",
    "_uuid": "8f2839f25d086af736a60e9eeb907d3b93b6e0e5",
    "execution": {
     "iopub.execute_input": "2022-05-08T06:33:57.039371Z",
     "iopub.status.busy": "2022-05-08T06:33:57.038364Z",
     "iopub.status.idle": "2022-05-08T06:33:57.273332Z",
     "shell.execute_reply": "2022-05-08T06:33:57.272655Z",
     "shell.execute_reply.started": "2022-05-08T06:33:57.039239Z"
    },
    "papermill": {
     "duration": 0.010849,
     "end_time": "2022-05-08T06:42:55.303539",
     "exception": false,
     "start_time": "2022-05-08T06:42:55.292690",
     "status": "completed"
    },
    "tags": []
   },
   "source": [
    "### **Library Imports**"
   ]
  },
  {
   "cell_type": "code",
   "execution_count": 1,
   "id": "7d19e640",
   "metadata": {
    "execution": {
     "iopub.execute_input": "2022-05-08T06:42:55.326232Z",
     "iopub.status.busy": "2022-05-08T06:42:55.325474Z",
     "iopub.status.idle": "2022-05-08T06:42:55.604111Z",
     "shell.execute_reply": "2022-05-08T06:42:55.602981Z"
    },
    "papermill": {
     "duration": 0.292725,
     "end_time": "2022-05-08T06:42:55.606787",
     "exception": false,
     "start_time": "2022-05-08T06:42:55.314062",
     "status": "completed"
    },
    "tags": []
   },
   "outputs": [],
   "source": [
    "import os\n",
    "import cv2\n",
    "import numpy as np\n",
    "\n",
    "\n",
    "TRAIN_BASE_PATH = \"../input/person-face-sketches/train\""
   ]
  },
  {
   "cell_type": "markdown",
   "id": "b7da4ac0",
   "metadata": {
    "papermill": {
     "duration": 0.009484,
     "end_time": "2022-05-08T06:42:55.627462",
     "exception": false,
     "start_time": "2022-05-08T06:42:55.617978",
     "status": "completed"
    },
    "tags": []
   },
   "source": [
    "### **Helpers**"
   ]
  },
  {
   "cell_type": "code",
   "execution_count": 2,
   "id": "0dada2ed",
   "metadata": {
    "execution": {
     "iopub.execute_input": "2022-05-08T06:42:55.648968Z",
     "iopub.status.busy": "2022-05-08T06:42:55.648683Z",
     "iopub.status.idle": "2022-05-08T06:42:55.662253Z",
     "shell.execute_reply": "2022-05-08T06:42:55.661273Z"
    },
    "papermill": {
     "duration": 0.027038,
     "end_time": "2022-05-08T06:42:55.664270",
     "exception": false,
     "start_time": "2022-05-08T06:42:55.637232",
     "status": "completed"
    },
    "tags": []
   },
   "outputs": [],
   "source": [
    "def breaker(num: int = 50, char: str = \"*\") -> None:\n",
    "    print(\"\\n\" + num*char + \"\\n\")\n",
    "\n",
    "\n",
    "def preprocess(image: np.ndarray) -> np.ndarray:\n",
    "    return cv2.cvtColor(src=image, code=cv2.COLOR_BGR2RGB)\n",
    "\n",
    "\n",
    "def get_statistics(path: str, names: np.ndarray, sizes: list) -> list:\n",
    "    r_means, g_means, b_means, r_stds, g_stds, b_stds = [], [], [], [], [], []\n",
    "\n",
    "    i = 0\n",
    "    for size in sizes:\n",
    "        r_mean, g_mean, b_mean, r_std, g_std, b_std = 0.0, 0.0, 0.0, 0.0, 0.0, 0.0\n",
    "    \n",
    "        for name in names:\n",
    "            main_image = preprocess(cv2.imread(os.path.join(path, name), cv2.IMREAD_COLOR))\n",
    "            image = cv2.resize(src=main_image, dsize=(size, size), interpolation=cv2.INTER_AREA)\n",
    "            r_mean += image[:, :, 0].mean()\n",
    "            g_mean += image[:, :, 1].mean()\n",
    "            b_mean += image[:, :, 2].mean()\n",
    "            r_std  += image[:, :, 0].std()\n",
    "            g_std  += image[:, :, 1].std()\n",
    "            b_std  += image[:, :, 2].std()\n",
    "        \n",
    "        r_means.append(r_mean / len(names))\n",
    "        g_means.append(g_mean / len(names))\n",
    "        b_means.append(b_mean / len(names))\n",
    "\n",
    "        r_stds.append(r_std / len(names))\n",
    "        g_stds.append(g_std / len(names))\n",
    "        b_stds.append(b_std / len(names))\n",
    "    \n",
    "    return r_means, g_means, b_means, r_stds, g_stds, b_stds "
   ]
  },
  {
   "cell_type": "markdown",
   "id": "0b65ac4b",
   "metadata": {
    "papermill": {
     "duration": 0.009555,
     "end_time": "2022-05-08T06:42:55.684034",
     "exception": false,
     "start_time": "2022-05-08T06:42:55.674479",
     "status": "completed"
    },
    "tags": []
   },
   "source": [
    "### **Photo**"
   ]
  },
  {
   "cell_type": "code",
   "execution_count": 3,
   "id": "e16671c7",
   "metadata": {
    "execution": {
     "iopub.execute_input": "2022-05-08T06:42:55.704979Z",
     "iopub.status.busy": "2022-05-08T06:42:55.704673Z",
     "iopub.status.idle": "2022-05-08T06:54:36.657559Z",
     "shell.execute_reply": "2022-05-08T06:54:36.656640Z"
    },
    "papermill": {
     "duration": 700.966508,
     "end_time": "2022-05-08T06:54:36.660222",
     "exception": false,
     "start_time": "2022-05-08T06:42:55.693714",
     "status": "completed"
    },
    "tags": []
   },
   "outputs": [],
   "source": [
    "sizes = [224, 256, 384, 512]\n",
    "\n",
    "PATH = os.path.join(TRAIN_BASE_PATH, \"photo\")\n",
    "\n",
    "r_means, g_means, b_means, r_stds, g_stds, b_stds = get_statistics(PATH, \n",
    "                                                                   os.listdir(PATH), \n",
    "                                                                   sizes)"
   ]
  },
  {
   "cell_type": "code",
   "execution_count": 4,
   "id": "af10f973",
   "metadata": {
    "execution": {
     "iopub.execute_input": "2022-05-08T06:54:36.682508Z",
     "iopub.status.busy": "2022-05-08T06:54:36.682216Z",
     "iopub.status.idle": "2022-05-08T06:54:36.695513Z",
     "shell.execute_reply": "2022-05-08T06:54:36.694409Z"
    },
    "papermill": {
     "duration": 0.027732,
     "end_time": "2022-05-08T06:54:36.698276",
     "exception": false,
     "start_time": "2022-05-08T06:54:36.670544",
     "status": "completed"
    },
    "tags": []
   },
   "outputs": [
    {
     "name": "stdout",
     "output_type": "stream",
     "text": [
      "\n",
      "**************************************************\n",
      "\n",
      "Red Channel Mean (224)   : 0.52046\n",
      "Green Channel Mean (224) : 0.41952\n",
      "Blue Channel Mean (224)  : 0.36597\n",
      "\n",
      "\n",
      "Red Channel Std (224)    : 0.26424\n",
      "Green Channel Std (224)  : 0.23696\n",
      "Blue Channel Std (224)   : 0.23129\n",
      "\n",
      "**************************************************\n",
      "\n",
      "Red Channel Mean (256)   : 0.52092\n",
      "Green Channel Mean (256) : 0.41999\n",
      "Blue Channel Mean (256)  : 0.36644\n",
      "\n",
      "\n",
      "Red Channel Std (256)    : 0.26485\n",
      "Green Channel Std (256)  : 0.23761\n",
      "Blue Channel Std (256)   : 0.23195\n",
      "\n",
      "**************************************************\n",
      "\n",
      "Red Channel Mean (384)   : 0.52044\n",
      "Green Channel Mean (384) : 0.41950\n",
      "Blue Channel Mean (384)  : 0.36595\n",
      "\n",
      "\n",
      "Red Channel Std (384)    : 0.26502\n",
      "Green Channel Std (384)  : 0.23780\n",
      "Blue Channel Std (384)   : 0.23213\n",
      "\n",
      "**************************************************\n",
      "\n",
      "Red Channel Mean (512)   : 0.52045\n",
      "Green Channel Mean (512) : 0.41951\n",
      "Blue Channel Mean (512)  : 0.36596\n",
      "\n",
      "\n",
      "Red Channel Std (512)    : 0.26590\n",
      "Green Channel Std (512)  : 0.23875\n",
      "Blue Channel Std (512)   : 0.23310\n",
      "\n",
      "**************************************************\n",
      "\n"
     ]
    }
   ],
   "source": [
    "breaker()\n",
    "for i in range(len(sizes)):\n",
    "    print(f\"Red Channel Mean ({sizes[i]})   : {r_means[i] / 255:.5f}\")\n",
    "    print(f\"Green Channel Mean ({sizes[i]}) : {g_means[i] / 255:.5f}\")\n",
    "    print(f\"Blue Channel Mean ({sizes[i]})  : {b_means[i] / 255:.5f}\")\n",
    "    print(\"\\n\")\n",
    "    print(f\"Red Channel Std ({sizes[i]})    : {r_stds[i] / 255:.5f}\")\n",
    "    print(f\"Green Channel Std ({sizes[i]})  : {g_stds[i] / 255:.5f}\")\n",
    "    print(f\"Blue Channel Std ({sizes[i]})   : {b_stds[i] / 255:.5f}\")\n",
    "    breaker()"
   ]
  },
  {
   "cell_type": "markdown",
   "id": "5bd153f8",
   "metadata": {
    "papermill": {
     "duration": 0.010592,
     "end_time": "2022-05-08T06:54:36.719549",
     "exception": false,
     "start_time": "2022-05-08T06:54:36.708957",
     "status": "completed"
    },
    "tags": []
   },
   "source": [
    "### **Sketch**"
   ]
  },
  {
   "cell_type": "code",
   "execution_count": 5,
   "id": "28e9ed4c",
   "metadata": {
    "execution": {
     "iopub.execute_input": "2022-05-08T06:54:36.742324Z",
     "iopub.status.busy": "2022-05-08T06:54:36.742031Z",
     "iopub.status.idle": "2022-05-08T06:54:36.746256Z",
     "shell.execute_reply": "2022-05-08T06:54:36.745305Z"
    },
    "papermill": {
     "duration": 0.018768,
     "end_time": "2022-05-08T06:54:36.748969",
     "exception": false,
     "start_time": "2022-05-08T06:54:36.730201",
     "status": "completed"
    },
    "tags": []
   },
   "outputs": [],
   "source": [
    "# sizes = [224, 256, 384, 512]\n",
    "\n",
    "# PATH = os.path.join(TRAIN_BASE_PATH, \"sketch\")\n",
    "\n",
    "# r_means, g_means, b_means, r_stds, g_stds, b_stds = get_statistics(PATH, \n",
    "#                                                                    os.listdir(PATH), \n",
    "#                                                                    sizes)"
   ]
  },
  {
   "cell_type": "code",
   "execution_count": 6,
   "id": "ebf0441f",
   "metadata": {
    "execution": {
     "iopub.execute_input": "2022-05-08T06:54:36.771906Z",
     "iopub.status.busy": "2022-05-08T06:54:36.771579Z",
     "iopub.status.idle": "2022-05-08T06:54:36.776678Z",
     "shell.execute_reply": "2022-05-08T06:54:36.775408Z"
    },
    "papermill": {
     "duration": 0.019397,
     "end_time": "2022-05-08T06:54:36.778845",
     "exception": false,
     "start_time": "2022-05-08T06:54:36.759448",
     "status": "completed"
    },
    "tags": []
   },
   "outputs": [],
   "source": [
    "# breaker()\n",
    "# for i in range(len(sizes)):\n",
    "#     print(f\"Red Channel Mean ({sizes[i]})   : {r_means[i] / 255:.5f}\")\n",
    "#     print(f\"Green Channel Mean ({sizes[i]}) : {g_means[i] / 255:.5f}\")\n",
    "#     print(f\"Blue Channel Mean ({sizes[i]})  : {b_means[i] / 255:.5f}\")\n",
    "#     print(\"\\n\")\n",
    "#     print(f\"Red Channel Std ({sizes[i]})    : {r_stds[i] / 255:.5f}\")\n",
    "#     print(f\"Green Channel Std ({sizes[i]})  : {g_stds[i] / 255:.5f}\")\n",
    "#     print(f\"Blue Channel Std ({sizes[i]})   : {b_stds[i] / 255:.5f}\")\n",
    "#     breaker()"
   ]
  }
 ],
 "metadata": {
  "kernelspec": {
   "display_name": "Python 3",
   "language": "python",
   "name": "python3"
  },
  "language_info": {
   "codemirror_mode": {
    "name": "ipython",
    "version": 3
   },
   "file_extension": ".py",
   "mimetype": "text/x-python",
   "name": "python",
   "nbconvert_exporter": "python",
   "pygments_lexer": "ipython3",
   "version": "3.7.12"
  },
  "papermill": {
   "default_parameters": {},
   "duration": 713.201938,
   "end_time": "2022-05-08T06:54:37.514020",
   "environment_variables": {},
   "exception": null,
   "input_path": "__notebook__.ipynb",
   "output_path": "__notebook__.ipynb",
   "parameters": {},
   "start_time": "2022-05-08T06:42:44.312082",
   "version": "2.3.4"
  }
 },
 "nbformat": 4,
 "nbformat_minor": 5
}
