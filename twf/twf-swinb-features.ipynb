{
 "cells": [
  {
   "cell_type": "markdown",
   "id": "141c1ca7",
   "metadata": {
    "_cell_guid": "b1076dfc-b9ad-4769-8c92-a6c4dae69d19",
    "_uuid": "8f2839f25d086af736a60e9eeb907d3b93b6e0e5",
    "papermill": {
     "duration": 0.003909,
     "end_time": "2022-10-26T13:23:25.558916",
     "exception": false,
     "start_time": "2022-10-26T13:23:25.555007",
     "status": "completed"
    },
    "tags": []
   },
   "source": [
    "### **Setup**"
   ]
  },
  {
   "cell_type": "code",
   "execution_count": 1,
   "id": "4715f85e",
   "metadata": {
    "execution": {
     "iopub.execute_input": "2022-10-26T13:23:25.567459Z",
     "iopub.status.busy": "2022-10-26T13:23:25.566204Z",
     "iopub.status.idle": "2022-10-26T13:23:37.230829Z",
     "shell.execute_reply": "2022-10-26T13:23:37.229197Z"
    },
    "papermill": {
     "duration": 11.67313,
     "end_time": "2022-10-26T13:23:37.235068",
     "exception": false,
     "start_time": "2022-10-26T13:23:25.561938",
     "status": "completed"
    },
    "tags": []
   },
   "outputs": [
    {
     "name": "stdout",
     "output_type": "stream",
     "text": [
      "\u001b[33mWARNING: Running pip as the 'root' user can result in broken permissions and conflicting behaviour with the system package manager. It is recommended to use a virtual environment instead: https://pip.pypa.io/warnings/venv\u001b[0m\u001b[33m\r\n",
      "\u001b[0m"
     ]
    }
   ],
   "source": [
    "!pip install timm -q"
   ]
  },
  {
   "cell_type": "markdown",
   "id": "413328ee",
   "metadata": {
    "papermill": {
     "duration": 0.003536,
     "end_time": "2022-10-26T13:23:37.246547",
     "exception": false,
     "start_time": "2022-10-26T13:23:37.243011",
     "status": "completed"
    },
    "tags": []
   },
   "source": [
    "### **Library Imports**"
   ]
  },
  {
   "cell_type": "code",
   "execution_count": 2,
   "id": "45965ded",
   "metadata": {
    "execution": {
     "iopub.execute_input": "2022-10-26T13:23:37.256597Z",
     "iopub.status.busy": "2022-10-26T13:23:37.256206Z",
     "iopub.status.idle": "2022-10-26T13:23:40.666446Z",
     "shell.execute_reply": "2022-10-26T13:23:40.665420Z"
    },
    "papermill": {
     "duration": 3.419005,
     "end_time": "2022-10-26T13:23:40.669116",
     "exception": false,
     "start_time": "2022-10-26T13:23:37.250111",
     "status": "completed"
    },
    "tags": []
   },
   "outputs": [],
   "source": [
    "import os\n",
    "import re\n",
    "import cv2\n",
    "import timm\n",
    "import torch\n",
    "import numpy as np\n",
    "import pandas as pd\n",
    "\n",
    "from PIL import Image\n",
    "from time import time, sleep\n",
    "\n",
    "from torch import nn\n",
    "from torch.utils.data import Dataset\n",
    "from torch.utils.data import DataLoader as DL\n",
    "from torchvision import transforms"
   ]
  },
  {
   "cell_type": "markdown",
   "id": "cf675066",
   "metadata": {
    "papermill": {
     "duration": 0.002873,
     "end_time": "2022-10-26T13:23:40.675266",
     "exception": false,
     "start_time": "2022-10-26T13:23:40.672393",
     "status": "completed"
    },
    "tags": []
   },
   "source": [
    "### **Models**"
   ]
  },
  {
   "cell_type": "code",
   "execution_count": 3,
   "id": "471b7c87",
   "metadata": {
    "execution": {
     "iopub.execute_input": "2022-10-26T13:23:40.682861Z",
     "iopub.status.busy": "2022-10-26T13:23:40.682348Z",
     "iopub.status.idle": "2022-10-26T13:23:40.689846Z",
     "shell.execute_reply": "2022-10-26T13:23:40.688934Z"
    },
    "papermill": {
     "duration": 0.013519,
     "end_time": "2022-10-26T13:23:40.691904",
     "exception": false,
     "start_time": "2022-10-26T13:23:40.678385",
     "status": "completed"
    },
    "tags": []
   },
   "outputs": [],
   "source": [
    "class Model(nn.Module):\n",
    "    def __init__(self, model_name: str):\n",
    "        super(Model, self).__init__()\n",
    "        \n",
    "        if model_name == \"swin_base_patch4_window12_384_in22k\":\n",
    "            self.model = timm.create_model(model_name, pretrained=True)\n",
    "            self.freeze()\n",
    "            self.model = nn.Sequential(*[*self.model.children()][:-1])\n",
    "        \n",
    "        elif model_name == \"swin_large_patch4_window12_384_in22k\":\n",
    "            self.model = timm.create_model(model_name, pretrained=True)\n",
    "            self.freeze()\n",
    "            self.model = nn.Sequential(*[*self.model.children()][:-1])\n",
    "        \n",
    "    def freeze(self):\n",
    "        for p in self.parameters(): p.requires_grad = False\n",
    "    \n",
    "    def forward(self, x):\n",
    "        return self.model(x)"
   ]
  },
  {
   "cell_type": "markdown",
   "id": "33cb116e",
   "metadata": {
    "papermill": {
     "duration": 0.002849,
     "end_time": "2022-10-26T13:23:40.697688",
     "exception": false,
     "start_time": "2022-10-26T13:23:40.694839",
     "status": "completed"
    },
    "tags": []
   },
   "source": [
    "### **Utils**"
   ]
  },
  {
   "cell_type": "code",
   "execution_count": 4,
   "id": "cef6dd23",
   "metadata": {
    "execution": {
     "iopub.execute_input": "2022-10-26T13:23:40.704944Z",
     "iopub.status.busy": "2022-10-26T13:23:40.704663Z",
     "iopub.status.idle": "2022-10-26T13:23:40.716102Z",
     "shell.execute_reply": "2022-10-26T13:23:40.715129Z"
    },
    "papermill": {
     "duration": 0.017989,
     "end_time": "2022-10-26T13:23:40.718682",
     "exception": false,
     "start_time": "2022-10-26T13:23:40.700693",
     "status": "completed"
    },
    "tags": []
   },
   "outputs": [],
   "source": [
    "def breaker(num: int=50, char: str=\"*\") -> None:\n",
    "    print(\"\\n\" + num*char + \"\\n\")\n",
    "\n",
    "    \n",
    "def get_image(path: str, size: int=224) -> np.ndarray:\n",
    "    image = cv2.imread(path, cv2.IMREAD_COLOR)\n",
    "    if image is None: \n",
    "        image = np.asarray(Image.open(path))\n",
    "        if len(image.shape) == 2:\n",
    "            image = np.concatenate((\n",
    "                np.expand_dims(image, axis=2),\n",
    "                np.expand_dims(image, axis=2),\n",
    "                np.expand_dims(image, axis=2),\n",
    "            ), axis=2)\n",
    "    image = cv2.cvtColor(src=image, code=cv2.COLOR_BGR2RGB)\n",
    "    return cv2.resize(src=image, dsize=(size, size), interpolation=cv2.INTER_AREA)\n",
    "\n",
    "\n",
    "def get_features(model=None, dataloader=None, feature_length: int=None) -> np.ndarray: \n",
    "    model.eval()\n",
    "    \n",
    "    y_pred = torch.zeros(1, feature_length).to(torch.device(\"cuda\" if torch.cuda.is_available() else \"cpu\"))\n",
    "    \n",
    "    for X in dataloader:\n",
    "        X = X.to(torch.device(\"cuda\" if torch.cuda.is_available() else \"cpu\"))\n",
    "        with torch.no_grad():\n",
    "            output = model(X)[:, -1, :]\n",
    "        y_pred = torch.cat((y_pred, output), dim=0)\n",
    "    \n",
    "    return y_pred[1:].detach().cpu().numpy()"
   ]
  },
  {
   "cell_type": "markdown",
   "id": "bb24672c",
   "metadata": {
    "papermill": {
     "duration": 0.003194,
     "end_time": "2022-10-26T13:23:40.725299",
     "exception": false,
     "start_time": "2022-10-26T13:23:40.722105",
     "status": "completed"
    },
    "tags": []
   },
   "source": [
    "### **Dataset Template**"
   ]
  },
  {
   "cell_type": "code",
   "execution_count": 5,
   "id": "54fcac8b",
   "metadata": {
    "execution": {
     "iopub.execute_input": "2022-10-26T13:23:40.733958Z",
     "iopub.status.busy": "2022-10-26T13:23:40.732931Z",
     "iopub.status.idle": "2022-10-26T13:23:40.740190Z",
     "shell.execute_reply": "2022-10-26T13:23:40.739180Z"
    },
    "papermill": {
     "duration": 0.01382,
     "end_time": "2022-10-26T13:23:40.742444",
     "exception": false,
     "start_time": "2022-10-26T13:23:40.728624",
     "status": "completed"
    },
    "tags": []
   },
   "outputs": [],
   "source": [
    "class DS(Dataset):\n",
    "    def __init__(\n",
    "        self, \n",
    "        filepaths: np.ndarray, \n",
    "        size: int,\n",
    "        transform=None\n",
    "    ):\n",
    "        \n",
    "        self.filepaths = filepaths\n",
    "        self.size = size\n",
    "        self.transform = transform\n",
    "    \n",
    "    def __len__(self):\n",
    "        if isinstance(self.filepaths, np.ndarray):\n",
    "            return self.filepaths.shape[0]\n",
    "        else:\n",
    "            return len(self.filepaths)\n",
    "    \n",
    "    def __getitem__(self, idx):\n",
    "        image = get_image(self.filepaths[idx], self.size)\n",
    "        return self.transform(image)"
   ]
  },
  {
   "cell_type": "code",
   "execution_count": 6,
   "id": "bf0001bb",
   "metadata": {
    "execution": {
     "iopub.execute_input": "2022-10-26T13:23:40.751217Z",
     "iopub.status.busy": "2022-10-26T13:23:40.750292Z",
     "iopub.status.idle": "2022-10-26T13:23:40.755491Z",
     "shell.execute_reply": "2022-10-26T13:23:40.754638Z"
    },
    "papermill": {
     "duration": 0.011732,
     "end_time": "2022-10-26T13:23:40.757623",
     "exception": false,
     "start_time": "2022-10-26T13:23:40.745891",
     "status": "completed"
    },
    "tags": []
   },
   "outputs": [],
   "source": [
    "model_names: list = [\n",
    "    \"swin_base_patch4_window12_384_in22k\",\n",
    "    \"swin_large_patch4_window12_384_in22k\"\n",
    "]\n",
    "    \n",
    "feature_lengths: list = [\n",
    "    1024,\n",
    "    1536\n",
    "]"
   ]
  },
  {
   "cell_type": "markdown",
   "id": "b6867875",
   "metadata": {
    "papermill": {
     "duration": 0.003116,
     "end_time": "2022-10-26T13:23:40.764094",
     "exception": false,
     "start_time": "2022-10-26T13:23:40.760978",
     "status": "completed"
    },
    "tags": []
   },
   "source": [
    "### **Train Features**"
   ]
  },
  {
   "cell_type": "code",
   "execution_count": 7,
   "id": "dcd049f6",
   "metadata": {
    "execution": {
     "iopub.execute_input": "2022-10-26T13:23:40.772795Z",
     "iopub.status.busy": "2022-10-26T13:23:40.772087Z",
     "iopub.status.idle": "2022-10-26T13:50:37.820521Z",
     "shell.execute_reply": "2022-10-26T13:50:37.819346Z"
    },
    "papermill": {
     "duration": 1617.056117,
     "end_time": "2022-10-26T13:50:37.823466",
     "exception": false,
     "start_time": "2022-10-26T13:23:40.767349",
     "status": "completed"
    },
    "tags": []
   },
   "outputs": [
    {
     "name": "stderr",
     "output_type": "stream",
     "text": [
      "/opt/conda/lib/python3.7/site-packages/torch/functional.py:568: UserWarning: torch.meshgrid: in an upcoming release, it will be required to pass the indexing argument. (Triggered internally at  /usr/local/src/pytorch/aten/src/ATen/native/TensorShape.cpp:2227.)\n",
      "  return _VF.meshgrid(tensors, **kwargs)  # type: ignore[attr-defined]\n",
      "Downloading: \"https://github.com/SwinTransformer/storage/releases/download/v1.0.0/swin_base_patch4_window12_384_22k.pth\" to /root/.cache/torch/hub/checkpoints/swin_base_patch4_window12_384_22k.pth\n",
      "Corrupt JPEG data: 1 extraneous bytes before marker 0xdb\n",
      "Corrupt JPEG data: 1 extraneous bytes before marker 0xdb\n",
      "Downloading: \"https://github.com/SwinTransformer/storage/releases/download/v1.0.0/swin_large_patch4_window12_384_22k.pth\" to /root/.cache/torch/hub/checkpoints/swin_large_patch4_window12_384_22k.pth\n",
      "Corrupt JPEG data: 1 extraneous bytes before marker 0xdb\n",
      "Corrupt JPEG data: 1 extraneous bytes before marker 0xdb\n"
     ]
    }
   ],
   "source": [
    "df = pd.read_csv(\"../input/twf-dataframe/dataframe.csv\")\n",
    "\n",
    "data_setup = DS(\n",
    "    filepaths=df.filepaths.copy().values, \n",
    "    size=384,\n",
    "    transform=transforms.Compose([\n",
    "        transforms.ToTensor(),\n",
    "        transforms.Normalize([0.63013, 0.53300, 0.42632], [0.22750, 0.24143, 0.26503]),\n",
    "    ])\n",
    ")\n",
    "    \n",
    "for i in range(len(model_names)):\n",
    "    model = Model(model_names[i]).to(torch.device(\"cuda\" if torch.cuda.is_available() else \"cpu\"))\n",
    "    data = DL(data_setup, batch_size=16, shuffle=False)\n",
    "    features = get_features(model=model, dataloader=data, feature_length=feature_lengths[i])\n",
    "    np.save(f\"tr_{model_names[i]}.npy\", features)\n",
    "    \n",
    "    del model, data\n",
    "    torch.cuda.empty_cache()\n",
    "    \n",
    "    sleep(30)"
   ]
  },
  {
   "cell_type": "markdown",
   "id": "25f94316",
   "metadata": {
    "papermill": {
     "duration": 0.003461,
     "end_time": "2022-10-26T13:50:37.830988",
     "exception": false,
     "start_time": "2022-10-26T13:50:37.827527",
     "status": "completed"
    },
    "tags": []
   },
   "source": [
    "### **Test Featues**"
   ]
  },
  {
   "cell_type": "code",
   "execution_count": 8,
   "id": "ea2e3f6b",
   "metadata": {
    "execution": {
     "iopub.execute_input": "2022-10-26T13:50:37.839398Z",
     "iopub.status.busy": "2022-10-26T13:50:37.839087Z",
     "iopub.status.idle": "2022-10-26T13:57:30.844187Z",
     "shell.execute_reply": "2022-10-26T13:57:30.842786Z"
    },
    "papermill": {
     "duration": 413.013169,
     "end_time": "2022-10-26T13:57:30.847659",
     "exception": false,
     "start_time": "2022-10-26T13:50:37.834490",
     "status": "completed"
    },
    "tags": []
   },
   "outputs": [],
   "source": [
    "ts_df = pd.read_csv(\"../input/111-1-ntut-dl-app-hw2/tw_food_101_test_pred.csv\")\n",
    "ts_filepaths = list(ts_df.Id.copy().values)\n",
    "ts_filepaths = [str(name) for name in ts_filepaths]\n",
    "\n",
    "ts_filenames = sorted(os.listdir(\"../input/taiwanese-food-101/tw_food_101/tw_food_101/test\"))\n",
    "\n",
    "for i in range(len(ts_filenames)):\n",
    "    if ts_filenames[i].split(\".\")[0] in ts_filepaths:\n",
    "        ts_filepaths[ts_filepaths.index(ts_filenames[i].split(\".\")[0])] = ts_filenames[i]\n",
    "    \n",
    "ts_filepaths = [os.path.join(\"../input/taiwanese-food-101/tw_food_101/tw_food_101/test\", ts_filepath) for ts_filepath in ts_filepaths]\n",
    "\n",
    "data_setup = DS(\n",
    "    filepaths=ts_filepaths,\n",
    "    size=384,\n",
    "    transform=transforms.Compose([\n",
    "        transforms.ToTensor(),\n",
    "        transforms.Normalize([0.63017, 0.53304, 0.42636], [0.22549, 0.22932, 0.26291]),\n",
    "    ])\n",
    ")\n",
    "    \n",
    "for i in range(len(model_names)):\n",
    "    model = Model(model_names[i]).to(torch.device(\"cuda\" if torch.cuda.is_available() else \"cpu\"))\n",
    "    data = DL(data_setup, batch_size=16, shuffle=False)\n",
    "    features = get_features(model=model, dataloader=data, feature_length=feature_lengths[i])\n",
    "    np.save(f\"ts_{model_names[i]}.npy\", features)\n",
    "    \n",
    "    del model, data\n",
    "    torch.cuda.empty_cache()\n",
    "    \n",
    "    sleep(30)"
   ]
  }
 ],
 "metadata": {
  "kernelspec": {
   "display_name": "Python 3",
   "language": "python",
   "name": "python3"
  },
  "language_info": {
   "codemirror_mode": {
    "name": "ipython",
    "version": 3
   },
   "file_extension": ".py",
   "mimetype": "text/x-python",
   "name": "python",
   "nbconvert_exporter": "python",
   "pygments_lexer": "ipython3",
   "version": "3.7.12"
  },
  "papermill": {
   "default_parameters": {},
   "duration": 2055.13386,
   "end_time": "2022-10-26T13:57:32.685068",
   "environment_variables": {},
   "exception": null,
   "input_path": "__notebook__.ipynb",
   "output_path": "__notebook__.ipynb",
   "parameters": {},
   "start_time": "2022-10-26T13:23:17.551208",
   "version": "2.3.4"
  }
 },
 "nbformat": 4,
 "nbformat_minor": 5
}
