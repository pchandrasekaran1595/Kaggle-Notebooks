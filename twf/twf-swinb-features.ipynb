{
 "cells": [
  {
   "cell_type": "markdown",
   "id": "3ae4ab40",
   "metadata": {
    "_cell_guid": "b1076dfc-b9ad-4769-8c92-a6c4dae69d19",
    "_uuid": "8f2839f25d086af736a60e9eeb907d3b93b6e0e5",
    "papermill": {
     "duration": 0.003724,
     "end_time": "2022-10-26T11:39:31.327376",
     "exception": false,
     "start_time": "2022-10-26T11:39:31.323652",
     "status": "completed"
    },
    "tags": []
   },
   "source": [
    "### **Setup**"
   ]
  },
  {
   "cell_type": "code",
   "execution_count": 1,
   "id": "8bab78c0",
   "metadata": {
    "execution": {
     "iopub.execute_input": "2022-10-26T11:39:31.334954Z",
     "iopub.status.busy": "2022-10-26T11:39:31.334242Z",
     "iopub.status.idle": "2022-10-26T11:39:44.443361Z",
     "shell.execute_reply": "2022-10-26T11:39:44.442231Z"
    },
    "papermill": {
     "duration": 13.1159,
     "end_time": "2022-10-26T11:39:44.446228",
     "exception": false,
     "start_time": "2022-10-26T11:39:31.330328",
     "status": "completed"
    },
    "tags": []
   },
   "outputs": [
    {
     "name": "stdout",
     "output_type": "stream",
     "text": [
      "\u001b[33mWARNING: Running pip as the 'root' user can result in broken permissions and conflicting behaviour with the system package manager. It is recommended to use a virtual environment instead: https://pip.pypa.io/warnings/venv\u001b[0m\u001b[33m\r\n",
      "\u001b[0m"
     ]
    }
   ],
   "source": [
    "!pip install timm -q"
   ]
  },
  {
   "cell_type": "markdown",
   "id": "2ea8b9da",
   "metadata": {
    "papermill": {
     "duration": 0.002818,
     "end_time": "2022-10-26T11:39:44.452187",
     "exception": false,
     "start_time": "2022-10-26T11:39:44.449369",
     "status": "completed"
    },
    "tags": []
   },
   "source": [
    "### **Library Imports**"
   ]
  },
  {
   "cell_type": "code",
   "execution_count": 2,
   "id": "004bbf7a",
   "metadata": {
    "execution": {
     "iopub.execute_input": "2022-10-26T11:39:44.459997Z",
     "iopub.status.busy": "2022-10-26T11:39:44.459037Z",
     "iopub.status.idle": "2022-10-26T11:39:47.528702Z",
     "shell.execute_reply": "2022-10-26T11:39:47.527701Z"
    },
    "papermill": {
     "duration": 3.076105,
     "end_time": "2022-10-26T11:39:47.531078",
     "exception": false,
     "start_time": "2022-10-26T11:39:44.454973",
     "status": "completed"
    },
    "tags": []
   },
   "outputs": [],
   "source": [
    "import os\n",
    "import re\n",
    "import cv2\n",
    "import timm\n",
    "import torch\n",
    "import numpy as np\n",
    "import pandas as pd\n",
    "\n",
    "from PIL import Image\n",
    "from time import time, sleep\n",
    "\n",
    "from torch import nn\n",
    "from torch.utils.data import Dataset\n",
    "from torch.utils.data import DataLoader as DL\n",
    "from torchvision import transforms"
   ]
  },
  {
   "cell_type": "markdown",
   "id": "f8794e7c",
   "metadata": {
    "papermill": {
     "duration": 0.002792,
     "end_time": "2022-10-26T11:39:47.537027",
     "exception": false,
     "start_time": "2022-10-26T11:39:47.534235",
     "status": "completed"
    },
    "tags": []
   },
   "source": [
    "### **Models**"
   ]
  },
  {
   "cell_type": "code",
   "execution_count": 3,
   "id": "4fbd22f9",
   "metadata": {
    "execution": {
     "iopub.execute_input": "2022-10-26T11:39:47.544249Z",
     "iopub.status.busy": "2022-10-26T11:39:47.543739Z",
     "iopub.status.idle": "2022-10-26T11:39:47.551278Z",
     "shell.execute_reply": "2022-10-26T11:39:47.550254Z"
    },
    "papermill": {
     "duration": 0.01356,
     "end_time": "2022-10-26T11:39:47.553502",
     "exception": false,
     "start_time": "2022-10-26T11:39:47.539942",
     "status": "completed"
    },
    "tags": []
   },
   "outputs": [],
   "source": [
    "class Model(nn.Module):\n",
    "    def __init__(self, model_name: str):\n",
    "        super(Model, self).__init__()\n",
    "        \n",
    "        if model_name == \"swin_base_patch4_window12_384_in22k\":\n",
    "            self.model = timm.create_model(model_name, pretrained=True)\n",
    "            self.freeze()\n",
    "            self.model = nn.Sequential(*[*self.model.children()][:-1])\n",
    "        \n",
    "        elif model_name == \"swin_large_patch4_window12_384_in22k\":\n",
    "            self.model = timm.create_model(model_name, pretrained=True)\n",
    "            self.freeze()\n",
    "            self.model = nn.Sequential(*[*self.model.children()][:-1])\n",
    "        \n",
    "    def freeze(self):\n",
    "        for p in self.parameters(): p.requires_grad = False\n",
    "    \n",
    "    def forward(self, x):\n",
    "        return self.model(x)"
   ]
  },
  {
   "cell_type": "markdown",
   "id": "09cfdb20",
   "metadata": {
    "papermill": {
     "duration": 0.002728,
     "end_time": "2022-10-26T11:39:47.559471",
     "exception": false,
     "start_time": "2022-10-26T11:39:47.556743",
     "status": "completed"
    },
    "tags": []
   },
   "source": [
    "### **Utils**"
   ]
  },
  {
   "cell_type": "code",
   "execution_count": 4,
   "id": "50bea790",
   "metadata": {
    "execution": {
     "iopub.execute_input": "2022-10-26T11:39:47.566616Z",
     "iopub.status.busy": "2022-10-26T11:39:47.566174Z",
     "iopub.status.idle": "2022-10-26T11:39:47.575494Z",
     "shell.execute_reply": "2022-10-26T11:39:47.574543Z"
    },
    "papermill": {
     "duration": 0.015027,
     "end_time": "2022-10-26T11:39:47.577409",
     "exception": false,
     "start_time": "2022-10-26T11:39:47.562382",
     "status": "completed"
    },
    "tags": []
   },
   "outputs": [],
   "source": [
    "def breaker(num: int=50, char: str=\"*\") -> None:\n",
    "    print(\"\\n\" + num*char + \"\\n\")\n",
    "\n",
    "    \n",
    "def get_image(path: str, size: int=224) -> np.ndarray:\n",
    "    image = cv2.imread(path, cv2.IMREAD_COLOR)\n",
    "    if image is None: \n",
    "        image = np.asarray(Image.open(path))\n",
    "        if len(image.shape) == 2:\n",
    "            image = np.concatenate((\n",
    "                np.expand_dims(image, axis=2),\n",
    "                np.expand_dims(image, axis=2),\n",
    "                np.expand_dims(image, axis=2),\n",
    "            ), axis=2)\n",
    "    image = cv2.cvtColor(src=image, code=cv2.COLOR_BGR2RGB)\n",
    "    return cv2.resize(src=image, dsize=(size, size), interpolation=cv2.INTER_AREA)\n",
    "\n",
    "\n",
    "def get_features(model=None, dataloader=None, feature_length: int=None) -> np.ndarray: \n",
    "    model.eval()\n",
    "    \n",
    "    y_pred = torch.zeros(1, feature_length).to(torch.device(\"cuda\" if torch.cuda.is_available() else \"cpu\"))\n",
    "    \n",
    "    for X in dataloader:\n",
    "        X = X.to(torch.device(\"cuda\" if torch.cuda.is_available() else \"cpu\"))\n",
    "        with torch.no_grad():\n",
    "            output = model(X)[:, -1, :]\n",
    "        y_pred = torch.cat((y_pred, output), dim=0)\n",
    "    \n",
    "    return y_pred[1:].detach().cpu().numpy()"
   ]
  },
  {
   "cell_type": "markdown",
   "id": "42cd4a0d",
   "metadata": {
    "papermill": {
     "duration": 0.002768,
     "end_time": "2022-10-26T11:39:47.583111",
     "exception": false,
     "start_time": "2022-10-26T11:39:47.580343",
     "status": "completed"
    },
    "tags": []
   },
   "source": [
    "### **Dataset Template**"
   ]
  },
  {
   "cell_type": "code",
   "execution_count": 5,
   "id": "219b7321",
   "metadata": {
    "execution": {
     "iopub.execute_input": "2022-10-26T11:39:47.590116Z",
     "iopub.status.busy": "2022-10-26T11:39:47.589831Z",
     "iopub.status.idle": "2022-10-26T11:39:47.595579Z",
     "shell.execute_reply": "2022-10-26T11:39:47.594713Z"
    },
    "papermill": {
     "duration": 0.01146,
     "end_time": "2022-10-26T11:39:47.597487",
     "exception": false,
     "start_time": "2022-10-26T11:39:47.586027",
     "status": "completed"
    },
    "tags": []
   },
   "outputs": [],
   "source": [
    "class DS(Dataset):\n",
    "    def __init__(\n",
    "        self, \n",
    "        filepaths: np.ndarray, \n",
    "        size: int,\n",
    "        transform=None\n",
    "    ):\n",
    "        \n",
    "        self.filepaths = filepaths\n",
    "        self.size = size\n",
    "        self.transform = transform\n",
    "    \n",
    "    def __len__(self):\n",
    "        if isinstance(self.filepaths, np.ndarray):\n",
    "            return self.filepaths.shape[0]\n",
    "        else:\n",
    "            return len(self.filepaths)\n",
    "    \n",
    "    def __getitem__(self, idx):\n",
    "        image = get_image(self.filepaths[idx], self.size)\n",
    "        return self.transform(image)"
   ]
  },
  {
   "cell_type": "code",
   "execution_count": 6,
   "id": "6f9ad280",
   "metadata": {
    "execution": {
     "iopub.execute_input": "2022-10-26T11:39:47.604573Z",
     "iopub.status.busy": "2022-10-26T11:39:47.604318Z",
     "iopub.status.idle": "2022-10-26T11:39:47.609365Z",
     "shell.execute_reply": "2022-10-26T11:39:47.608553Z"
    },
    "papermill": {
     "duration": 0.01082,
     "end_time": "2022-10-26T11:39:47.611285",
     "exception": false,
     "start_time": "2022-10-26T11:39:47.600465",
     "status": "completed"
    },
    "tags": []
   },
   "outputs": [],
   "source": [
    "model_names: list = [\n",
    "    \"swin_base_patch4_window12_384_in22k\",\n",
    "    \"swin_large_patch4_window12_384_in22k\"\n",
    "]\n",
    "    \n",
    "feature_lengths: list = [\n",
    "    1024,\n",
    "    1536\n",
    "]"
   ]
  },
  {
   "cell_type": "markdown",
   "id": "5588cf29",
   "metadata": {
    "papermill": {
     "duration": 0.002862,
     "end_time": "2022-10-26T11:39:47.617165",
     "exception": false,
     "start_time": "2022-10-26T11:39:47.614303",
     "status": "completed"
    },
    "tags": []
   },
   "source": [
    "### **Train Features**"
   ]
  },
  {
   "cell_type": "code",
   "execution_count": 7,
   "id": "2c8d6097",
   "metadata": {
    "execution": {
     "iopub.execute_input": "2022-10-26T11:39:47.625396Z",
     "iopub.status.busy": "2022-10-26T11:39:47.624036Z",
     "iopub.status.idle": "2022-10-26T12:05:11.197971Z",
     "shell.execute_reply": "2022-10-26T12:05:11.196946Z"
    },
    "papermill": {
     "duration": 1523.580684,
     "end_time": "2022-10-26T12:05:11.200869",
     "exception": false,
     "start_time": "2022-10-26T11:39:47.620185",
     "status": "completed"
    },
    "tags": []
   },
   "outputs": [
    {
     "name": "stderr",
     "output_type": "stream",
     "text": [
      "/opt/conda/lib/python3.7/site-packages/torch/functional.py:568: UserWarning: torch.meshgrid: in an upcoming release, it will be required to pass the indexing argument. (Triggered internally at  /usr/local/src/pytorch/aten/src/ATen/native/TensorShape.cpp:2227.)\n",
      "  return _VF.meshgrid(tensors, **kwargs)  # type: ignore[attr-defined]\n",
      "Downloading: \"https://github.com/SwinTransformer/storage/releases/download/v1.0.0/swin_base_patch4_window12_384_22k.pth\" to /root/.cache/torch/hub/checkpoints/swin_base_patch4_window12_384_22k.pth\n",
      "Corrupt JPEG data: 1 extraneous bytes before marker 0xdb\n",
      "Corrupt JPEG data: 1 extraneous bytes before marker 0xdb\n",
      "Downloading: \"https://github.com/SwinTransformer/storage/releases/download/v1.0.0/swin_large_patch4_window12_384_22k.pth\" to /root/.cache/torch/hub/checkpoints/swin_large_patch4_window12_384_22k.pth\n",
      "Corrupt JPEG data: 1 extraneous bytes before marker 0xdb\n",
      "Corrupt JPEG data: 1 extraneous bytes before marker 0xdb\n"
     ]
    }
   ],
   "source": [
    "df = pd.read_csv(\"../input/twf-dataframe/dataframe.csv\")\n",
    "\n",
    "data_setup = DS(\n",
    "    filepaths=df.filepaths.copy().values, \n",
    "    size=384,\n",
    "    transform=transforms.Compose([\n",
    "        transforms.ToTensor(),\n",
    "        transforms.Normalize([0.63017, 0.53304, 0.42636], [0.22549, 0.22932, 0.26291]),\n",
    "    ])\n",
    ")\n",
    "    \n",
    "for i in range(len(model_names)):\n",
    "    model = Model(model_names[i]).to(torch.device(\"cuda\" if torch.cuda.is_available() else \"cpu\"))\n",
    "    data = DL(data_setup, batch_size=16, shuffle=False)\n",
    "    features = get_features(model=model, dataloader=data, feature_length=feature_lengths[i])\n",
    "    np.save(f\"tr_{model_names[i]}.npy\", features)\n",
    "    \n",
    "    del model, data\n",
    "    torch.cuda.empty_cache()\n",
    "    \n",
    "    sleep(30)"
   ]
  },
  {
   "cell_type": "markdown",
   "id": "7f5d5d63",
   "metadata": {
    "papermill": {
     "duration": 0.00339,
     "end_time": "2022-10-26T12:05:11.208844",
     "exception": false,
     "start_time": "2022-10-26T12:05:11.205454",
     "status": "completed"
    },
    "tags": []
   },
   "source": [
    "### **Test Featues**"
   ]
  },
  {
   "cell_type": "code",
   "execution_count": 8,
   "id": "741a1e7e",
   "metadata": {
    "execution": {
     "iopub.execute_input": "2022-10-26T12:05:11.217053Z",
     "iopub.status.busy": "2022-10-26T12:05:11.216736Z",
     "iopub.status.idle": "2022-10-26T12:12:03.084910Z",
     "shell.execute_reply": "2022-10-26T12:12:03.083820Z"
    },
    "papermill": {
     "duration": 411.875287,
     "end_time": "2022-10-26T12:12:03.087580",
     "exception": false,
     "start_time": "2022-10-26T12:05:11.212293",
     "status": "completed"
    },
    "tags": []
   },
   "outputs": [],
   "source": [
    "ts_df = pd.read_csv(\"../input/111-1-ntut-dl-app-hw2/tw_food_101_test_pred.csv\")\n",
    "ts_filepaths = list(ts_df.Id.copy().values)\n",
    "ts_filepaths = [str(name) for name in ts_filepaths]\n",
    "\n",
    "ts_filenames = sorted(os.listdir(\"../input/taiwanese-food-101/tw_food_101/tw_food_101/test\"))\n",
    "\n",
    "for i in range(len(ts_filenames)):\n",
    "    if ts_filenames[i].split(\".\")[0] in ts_filepaths:\n",
    "        ts_filepaths[ts_filepaths.index(ts_filenames[i].split(\".\")[0])] = ts_filenames[i]\n",
    "    \n",
    "ts_filepaths = [os.path.join(\"../input/taiwanese-food-101/tw_food_101/tw_food_101/test\", ts_filepath) for ts_filepath in ts_filepaths]\n",
    "\n",
    "data_setup = DS(\n",
    "    filepaths=ts_filepaths,\n",
    "    size=384,\n",
    "    transform=transforms.Compose([\n",
    "        transforms.ToTensor(),\n",
    "        transforms.Normalize([0.63017, 0.53304, 0.42636], [0.22549, 0.22932, 0.26291]),\n",
    "    ])\n",
    ")\n",
    "    \n",
    "for i in range(len(model_names)):\n",
    "    model = Model(model_names[i]).to(torch.device(\"cuda\" if torch.cuda.is_available() else \"cpu\"))\n",
    "    data = DL(data_setup, batch_size=16, shuffle=False)\n",
    "    features = get_features(model=model, dataloader=data, feature_length=feature_lengths[i])\n",
    "    np.save(f\"ts_{model_names[i]}.npy\", features)\n",
    "    \n",
    "    del model, data\n",
    "    torch.cuda.empty_cache()\n",
    "    \n",
    "    sleep(30)"
   ]
  }
 ],
 "metadata": {
  "kernelspec": {
   "display_name": "Python 3",
   "language": "python",
   "name": "python3"
  },
  "language_info": {
   "codemirror_mode": {
    "name": "ipython",
    "version": 3
   },
   "file_extension": ".py",
   "mimetype": "text/x-python",
   "name": "python",
   "nbconvert_exporter": "python",
   "pygments_lexer": "ipython3",
   "version": "3.7.12"
  },
  "papermill": {
   "default_parameters": {},
   "duration": 1961.048654,
   "end_time": "2022-10-26T12:12:04.725897",
   "environment_variables": {},
   "exception": null,
   "input_path": "__notebook__.ipynb",
   "output_path": "__notebook__.ipynb",
   "parameters": {},
   "start_time": "2022-10-26T11:39:23.677243",
   "version": "2.3.4"
  }
 },
 "nbformat": 4,
 "nbformat_minor": 5
}
