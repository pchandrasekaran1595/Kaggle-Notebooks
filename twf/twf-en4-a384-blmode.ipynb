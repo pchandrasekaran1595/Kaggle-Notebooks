{
 "cells": [
  {
   "cell_type": "code",
   "execution_count": 1,
   "id": "d6a75056",
   "metadata": {
    "_cell_guid": "b1076dfc-b9ad-4769-8c92-a6c4dae69d19",
    "_uuid": "8f2839f25d086af736a60e9eeb907d3b93b6e0e5",
    "execution": {
     "iopub.execute_input": "2022-10-29T13:47:25.677885Z",
     "iopub.status.busy": "2022-10-29T13:47:25.677389Z",
     "iopub.status.idle": "2022-10-29T13:47:26.679535Z",
     "shell.execute_reply": "2022-10-29T13:47:26.678328Z"
    },
    "papermill": {
     "duration": 1.007879,
     "end_time": "2022-10-29T13:47:26.681849",
     "exception": false,
     "start_time": "2022-10-29T13:47:25.673970",
     "status": "completed"
    },
    "tags": []
   },
   "outputs": [],
   "source": [
    "import numpy as np\n",
    "import pandas as pd\n",
    "from scipy import stats\n",
    "\n",
    "df_1 = pd.read_csv(\"../input/twf-en4-a384-f1-infer/submission.csv\")\n",
    "df_2 = pd.read_csv(\"../input/twf-en4-a384-f2-infer/submission.csv\")\n",
    "df_3 = pd.read_csv(\"../input/twf-en4-a384-f3-infer/submission.csv\")\n",
    "df_4 = pd.read_csv(\"../input/twf-en4-a384-f4-infer/submission.csv\")\n",
    "df_5 = pd.read_csv(\"../input/twf-en4-a384-f5-infer/submission.csv\")\n",
    "\n",
    "y_pred_1 = df_1.Category.copy().values\n",
    "y_pred_2 = df_2.Category.copy().values\n",
    "y_pred_3 = df_3.Category.copy().values\n",
    "y_pred_4 = df_4.Category.copy().values\n",
    "y_pred_5 = df_5.Category.copy().values\n",
    "\n",
    "y_pred = np.concatenate((\n",
    "    y_pred_1.reshape(1, -1),\n",
    "    y_pred_2.reshape(1, -1),\n",
    "    y_pred_3.reshape(1, -1),\n",
    "    y_pred_4.reshape(1, -1),\n",
    "    y_pred_5.reshape(1, -1),\n",
    "), axis=0)\n",
    "\n",
    "y_pred = stats.mode(y_pred)[0]\n",
    "\n",
    "df_1.Category = y_pred.astype(\"uint8\").reshape(-1)\n",
    "df_1.to_csv(\"submission.csv\", index=False)"
   ]
  }
 ],
 "metadata": {
  "kernelspec": {
   "display_name": "Python 3",
   "language": "python",
   "name": "python3"
  },
  "language_info": {
   "codemirror_mode": {
    "name": "ipython",
    "version": 3
   },
   "file_extension": ".py",
   "mimetype": "text/x-python",
   "name": "python",
   "nbconvert_exporter": "python",
   "pygments_lexer": "ipython3",
   "version": "3.7.12"
  },
  "papermill": {
   "default_parameters": {},
   "duration": 8.814241,
   "end_time": "2022-10-29T13:47:27.303879",
   "environment_variables": {},
   "exception": null,
   "input_path": "__notebook__.ipynb",
   "output_path": "__notebook__.ipynb",
   "parameters": {},
   "start_time": "2022-10-29T13:47:18.489638",
   "version": "2.3.4"
  }
 },
 "nbformat": 4,
 "nbformat_minor": 5
}
