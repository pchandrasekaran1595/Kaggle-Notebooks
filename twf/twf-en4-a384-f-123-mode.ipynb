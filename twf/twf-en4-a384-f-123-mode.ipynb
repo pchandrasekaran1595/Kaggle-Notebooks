{
 "cells": [
  {
   "cell_type": "code",
   "execution_count": 1,
   "id": "60b23c02",
   "metadata": {
    "_cell_guid": "b1076dfc-b9ad-4769-8c92-a6c4dae69d19",
    "_uuid": "8f2839f25d086af736a60e9eeb907d3b93b6e0e5",
    "execution": {
     "iopub.execute_input": "2022-10-26T13:34:18.315039Z",
     "iopub.status.busy": "2022-10-26T13:34:18.314366Z",
     "iopub.status.idle": "2022-10-26T13:34:19.464971Z",
     "shell.execute_reply": "2022-10-26T13:34:19.463493Z"
    },
    "papermill": {
     "duration": 1.158743,
     "end_time": "2022-10-26T13:34:19.468246",
     "exception": false,
     "start_time": "2022-10-26T13:34:18.309503",
     "status": "completed"
    },
    "tags": []
   },
   "outputs": [],
   "source": [
    "import numpy as np\n",
    "import pandas as pd\n",
    "from scipy import stats\n",
    "\n",
    "df_1 = pd.read_csv(\"../input/twf-en4-a384-f1-infer/submission.csv\")\n",
    "df_2 = pd.read_csv(\"../input/twf-en4-a384-f2-infer/submission.csv\")\n",
    "df_3 = pd.read_csv(\"../input/twf-en4-a384-f3-infer/submission.csv\")\n",
    "\n",
    "y_pred_1 = df_1.Category.copy().values\n",
    "y_pred_2 = df_2.Category.copy().values\n",
    "y_pred_3 = df_3.Category.copy().values\n",
    "\n",
    "y_pred = np.concatenate((\n",
    "    y_pred_1.reshape(1, -1),\n",
    "    y_pred_2.reshape(1, -1),\n",
    "    y_pred_3.reshape(1, -1),\n",
    "), axis=0)\n",
    "\n",
    "y_pred = stats.mode(y_pred)[0]\n",
    "\n",
    "df_1.Category = y_pred.astype(\"uint8\").reshape(-1)\n",
    "df_1.to_csv(\"submission.csv\")"
   ]
  }
 ],
 "metadata": {
  "kernelspec": {
   "display_name": "Python 3",
   "language": "python",
   "name": "python3"
  },
  "language_info": {
   "codemirror_mode": {
    "name": "ipython",
    "version": 3
   },
   "file_extension": ".py",
   "mimetype": "text/x-python",
   "name": "python",
   "nbconvert_exporter": "python",
   "pygments_lexer": "ipython3",
   "version": "3.7.12"
  },
  "papermill": {
   "default_parameters": {},
   "duration": 10.549007,
   "end_time": "2022-10-26T13:34:20.193878",
   "environment_variables": {},
   "exception": null,
   "input_path": "__notebook__.ipynb",
   "output_path": "__notebook__.ipynb",
   "parameters": {},
   "start_time": "2022-10-26T13:34:09.644871",
   "version": "2.3.4"
  }
 },
 "nbformat": 4,
 "nbformat_minor": 5
}
