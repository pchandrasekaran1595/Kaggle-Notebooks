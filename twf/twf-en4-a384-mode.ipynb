{
 "cells": [
  {
   "cell_type": "code",
   "execution_count": 1,
   "id": "3831d792",
   "metadata": {
    "_cell_guid": "b1076dfc-b9ad-4769-8c92-a6c4dae69d19",
    "_uuid": "8f2839f25d086af736a60e9eeb907d3b93b6e0e5",
    "execution": {
     "iopub.execute_input": "2022-10-29T15:46:57.373805Z",
     "iopub.status.busy": "2022-10-29T15:46:57.373149Z",
     "iopub.status.idle": "2022-10-29T15:46:58.551734Z",
     "shell.execute_reply": "2022-10-29T15:46:58.550414Z"
    },
    "papermill": {
     "duration": 1.186236,
     "end_time": "2022-10-29T15:46:58.554880",
     "exception": false,
     "start_time": "2022-10-29T15:46:57.368644",
     "status": "completed"
    },
    "tags": []
   },
   "outputs": [],
   "source": [
    "import numpy as np\n",
    "import pandas as pd\n",
    "from scipy import stats\n",
    "\n",
    "dfa_1 = pd.read_csv(\"../input/twf-en4-a384-f1a-infer/submission.csv\")\n",
    "dfa_2 = pd.read_csv(\"../input/twf-en4-a384-f2a-infer/submission.csv\")\n",
    "dfa_3 = pd.read_csv(\"../input/twf-en4-a384-f3a-infer/submission.csv\")\n",
    "dfa_4 = pd.read_csv(\"../input/twf-en4-a384-f4a-infer/submission.csv\")\n",
    "dfa_5 = pd.read_csv(\"../input/twf-en4-a384-f5a-infer/submission.csv\")\n",
    "\n",
    "dfl_1 = pd.read_csv(\"../input/twf-en4-a384-f1-infer/submission.csv\")\n",
    "dfl_2 = pd.read_csv(\"../input/twf-en4-a384-f2-infer/submission.csv\")\n",
    "dfl_3 = pd.read_csv(\"../input/twf-en4-a384-f3-infer/submission.csv\")\n",
    "dfl_4 = pd.read_csv(\"../input/twf-en4-a384-f4-infer/submission.csv\")\n",
    "dfl_5 = pd.read_csv(\"../input/twf-en4-a384-f5-infer/submission.csv\")\n",
    "\n",
    "y_pred_a_1 = dfa_1.Category.copy().values\n",
    "y_pred_a_2 = dfa_2.Category.copy().values\n",
    "y_pred_a_3 = dfa_3.Category.copy().values\n",
    "y_pred_a_4 = dfa_4.Category.copy().values\n",
    "y_pred_a_5 = dfa_5.Category.copy().values\n",
    "\n",
    "y_pred_l_1 = dfl_1.Category.copy().values\n",
    "y_pred_l_2 = dfl_2.Category.copy().values\n",
    "y_pred_l_3 = dfl_3.Category.copy().values\n",
    "y_pred_l_4 = dfl_4.Category.copy().values\n",
    "y_pred_l_5 = dfl_5.Category.copy().values\n",
    "\n",
    "y_pred = np.concatenate((\n",
    "    y_pred_a_1.reshape(1, -1),\n",
    "    y_pred_a_2.reshape(1, -1),\n",
    "    y_pred_a_3.reshape(1, -1),\n",
    "    y_pred_a_4.reshape(1, -1),\n",
    "    y_pred_a_5.reshape(1, -1),\n",
    "    y_pred_l_1.reshape(1, -1),\n",
    "    y_pred_l_2.reshape(1, -1),\n",
    "    y_pred_l_3.reshape(1, -1),\n",
    "    y_pred_l_4.reshape(1, -1),\n",
    "    y_pred_l_5.reshape(1, -1),\n",
    "), axis=0)\n",
    "\n",
    "y_pred = stats.mode(y_pred)[0]\n",
    "\n",
    "dfa_1.Category = y_pred.astype(\"uint8\").reshape(-1)\n",
    "dfa_1.to_csv(\"submission.csv\", index=False)"
   ]
  }
 ],
 "metadata": {
  "kernelspec": {
   "display_name": "Python 3",
   "language": "python",
   "name": "python3"
  },
  "language_info": {
   "codemirror_mode": {
    "name": "ipython",
    "version": 3
   },
   "file_extension": ".py",
   "mimetype": "text/x-python",
   "name": "python",
   "nbconvert_exporter": "python",
   "pygments_lexer": "ipython3",
   "version": "3.7.12"
  },
  "papermill": {
   "default_parameters": {},
   "duration": 12.506511,
   "end_time": "2022-10-29T15:46:59.282336",
   "environment_variables": {},
   "exception": null,
   "input_path": "__notebook__.ipynb",
   "output_path": "__notebook__.ipynb",
   "parameters": {},
   "start_time": "2022-10-29T15:46:46.775825",
   "version": "2.3.4"
  }
 },
 "nbformat": 4,
 "nbformat_minor": 5
}
