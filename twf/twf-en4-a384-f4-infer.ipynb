{
 "cells": [
  {
   "cell_type": "markdown",
   "id": "40550777",
   "metadata": {
    "_cell_guid": "b1076dfc-b9ad-4769-8c92-a6c4dae69d19",
    "_uuid": "8f2839f25d086af736a60e9eeb907d3b93b6e0e5",
    "papermill": {
     "duration": 0.004951,
     "end_time": "2022-10-29T13:41:13.133768",
     "exception": false,
     "start_time": "2022-10-29T13:41:13.128817",
     "status": "completed"
    },
    "tags": []
   },
   "source": [
    "### **Setup**"
   ]
  },
  {
   "cell_type": "code",
   "execution_count": 1,
   "id": "349b467e",
   "metadata": {
    "execution": {
     "iopub.execute_input": "2022-10-29T13:41:13.143695Z",
     "iopub.status.busy": "2022-10-29T13:41:13.143165Z",
     "iopub.status.idle": "2022-10-29T13:41:23.909757Z",
     "shell.execute_reply": "2022-10-29T13:41:23.908402Z"
    },
    "papermill": {
     "duration": 10.774653,
     "end_time": "2022-10-29T13:41:23.912455",
     "exception": false,
     "start_time": "2022-10-29T13:41:13.137802",
     "status": "completed"
    },
    "tags": []
   },
   "outputs": [
    {
     "name": "stderr",
     "output_type": "stream",
     "text": [
      "WARNING: Running pip as the 'root' user can result in broken permissions and conflicting behaviour with the system package manager. It is recommended to use a virtual environment instead: https://pip.pypa.io/warnings/venv\n"
     ]
    }
   ],
   "source": [
    "%%bash\n",
    "pip install timm -q"
   ]
  },
  {
   "cell_type": "markdown",
   "id": "2d125516",
   "metadata": {
    "papermill": {
     "duration": 0.003679,
     "end_time": "2022-10-29T13:41:23.920520",
     "exception": false,
     "start_time": "2022-10-29T13:41:23.916841",
     "status": "completed"
    },
    "tags": []
   },
   "source": [
    "### **Library Imports**"
   ]
  },
  {
   "cell_type": "code",
   "execution_count": 2,
   "id": "2a6da71e",
   "metadata": {
    "execution": {
     "iopub.execute_input": "2022-10-29T13:41:23.929697Z",
     "iopub.status.busy": "2022-10-29T13:41:23.929384Z",
     "iopub.status.idle": "2022-10-29T13:41:27.859580Z",
     "shell.execute_reply": "2022-10-29T13:41:27.858562Z"
    },
    "papermill": {
     "duration": 3.937666,
     "end_time": "2022-10-29T13:41:27.862042",
     "exception": false,
     "start_time": "2022-10-29T13:41:23.924376",
     "status": "completed"
    },
    "tags": []
   },
   "outputs": [],
   "source": [
    "import os\n",
    "import re\n",
    "import cv2\n",
    "import timm\n",
    "import torch\n",
    "import numpy as np\n",
    "import pandas as pd\n",
    "import matplotlib.pyplot as plt\n",
    "\n",
    "from time import time\n",
    "from PIL import Image\n",
    "from scipy import stats\n",
    "from typing import Union\n",
    "from torch import nn, optim\n",
    "from torch.utils.data import Dataset\n",
    "from torch.utils.data import DataLoader as DL\n",
    "from torchvision import models, transforms\n",
    "\n",
    "# from sklearn.metrics import accuracy_score\n",
    "# from sklearn.model_selection import StratifiedKFold"
   ]
  },
  {
   "cell_type": "markdown",
   "id": "622aaf3a",
   "metadata": {
    "papermill": {
     "duration": 0.003845,
     "end_time": "2022-10-29T13:41:27.870143",
     "exception": false,
     "start_time": "2022-10-29T13:41:27.866298",
     "status": "completed"
    },
    "tags": []
   },
   "source": [
    "### **Utilities and Helpers**"
   ]
  },
  {
   "cell_type": "code",
   "execution_count": 3,
   "id": "331c82b3",
   "metadata": {
    "execution": {
     "iopub.execute_input": "2022-10-29T13:41:27.880033Z",
     "iopub.status.busy": "2022-10-29T13:41:27.879111Z",
     "iopub.status.idle": "2022-10-29T13:41:27.893517Z",
     "shell.execute_reply": "2022-10-29T13:41:27.892691Z"
    },
    "papermill": {
     "duration": 0.021305,
     "end_time": "2022-10-29T13:41:27.895449",
     "exception": false,
     "start_time": "2022-10-29T13:41:27.874144",
     "status": "completed"
    },
    "tags": []
   },
   "outputs": [],
   "source": [
    "SEED: int = 42\n",
    "SIZE: int = 384\n",
    "\n",
    "\n",
    "def breaker(num: int=50, char: str=\"*\") -> None:\n",
    "    print(\"\\n\" + num*char + \"\\n\")\n",
    "\n",
    "    \n",
    "def get_image(path: str, size: int=224) -> np.ndarray:\n",
    "    image = cv2.imread(path, cv2.IMREAD_COLOR)\n",
    "    if image is None: \n",
    "        image = np.asarray(Image.open(path))\n",
    "        if len(image.shape) == 2:\n",
    "            image = np.concatenate((\n",
    "                np.expand_dims(image, axis=2),\n",
    "                np.expand_dims(image, axis=2),\n",
    "                np.expand_dims(image, axis=2),\n",
    "            ), axis=2)\n",
    "    image = cv2.cvtColor(src=image, code=cv2.COLOR_BGR2RGB)\n",
    "    return cv2.resize(src=image, dsize=(size, size), interpolation=cv2.INTER_AREA)\n",
    "\n",
    "\n",
    "def show_loss_graphs(L: list) -> None:\n",
    "    TL, VL = [], []\n",
    "    for i in range(len(L)):\n",
    "        TL.append(L[i][\"train\"])\n",
    "        VL.append(L[i][\"valid\"])\n",
    "    x_Axis = np.arange(1, len(TL) + 1)\n",
    "    plt.figure()\n",
    "    plt.plot(x_Axis, TL, \"r\", label=\"Train\")\n",
    "    plt.plot(x_Axis, VL, \"b\", label=\"Valid\")\n",
    "    plt.legend()\n",
    "    plt.grid()\n",
    "    plt.title(\"Loss Graph\")\n",
    "    plt.show()\n",
    "\n",
    "    \n",
    "def show_accuracy_graphs(A: list) -> None:\n",
    "    TA, VA = [], []\n",
    "    for i in range(len(A)):\n",
    "        TA.append(A[i][\"train\"])\n",
    "        VA.append(A[i][\"valid\"])\n",
    "    x_Axis = np.arange(1, len(TA) + 1)\n",
    "    plt.figure()\n",
    "    plt.plot(x_Axis, TA, \"r\", label=\"Train\")\n",
    "    plt.plot(x_Axis, VA, \"b\", label=\"Valid\")\n",
    "    plt.legend()\n",
    "    plt.grid()\n",
    "    plt.title(\"Accuracy Graph\")\n",
    "    plt.show()\n",
    "    \n",
    "\n",
    "def show_lr_graph(LR: list) -> None:\n",
    "    x_Axis = [i+1 for i in range(len(LR))]\n",
    "    plt.figure(figsize=(8, 6))\n",
    "    plt.plot(x_Axis, LR, \"rx\")\n",
    "    plt.grid()\n",
    "    plt.show()"
   ]
  },
  {
   "cell_type": "markdown",
   "id": "bc709e4e",
   "metadata": {
    "papermill": {
     "duration": 0.003757,
     "end_time": "2022-10-29T13:41:27.903368",
     "exception": false,
     "start_time": "2022-10-29T13:41:27.899611",
     "status": "completed"
    },
    "tags": []
   },
   "source": [
    "### **Configuration**"
   ]
  },
  {
   "cell_type": "code",
   "execution_count": 4,
   "id": "76abad1b",
   "metadata": {
    "execution": {
     "iopub.execute_input": "2022-10-29T13:41:27.912643Z",
     "iopub.status.busy": "2022-10-29T13:41:27.912363Z",
     "iopub.status.idle": "2022-10-29T13:41:27.984754Z",
     "shell.execute_reply": "2022-10-29T13:41:27.983674Z"
    },
    "papermill": {
     "duration": 0.079491,
     "end_time": "2022-10-29T13:41:27.986725",
     "exception": false,
     "start_time": "2022-10-29T13:41:27.907234",
     "status": "completed"
    },
    "tags": []
   },
   "outputs": [],
   "source": [
    "class CFG(object):\n",
    "    def __init__(self, \n",
    "                 seed: int = 42,\n",
    "                 size: int = 224,\n",
    "                 n_splits: int = 5,\n",
    "                 batch_size: int = 16,\n",
    "                 epochs: int = 25,\n",
    "                 early_stopping: int = 5,\n",
    "                 lr: float = 1e-4,\n",
    "                 wd: float = 0.0,\n",
    "                 max_lr: float = 1e-3,\n",
    "                 pct_start: float = 0.2,\n",
    "                 steps_per_epoch: int = 100,\n",
    "                 div_factor: int = 1e3, \n",
    "                 final_div_factor: float = 1e3,\n",
    "                 ):\n",
    "        self.seed = seed\n",
    "        self.size = size\n",
    "        self.n_splits = n_splits\n",
    "        self.batch_size = batch_size\n",
    "        self.epochs = epochs\n",
    "        self.early_stopping = early_stopping\n",
    "        self.lr = lr\n",
    "        self.wd = wd\n",
    "        self.max_lr = max_lr\n",
    "        self.pct_start = pct_start\n",
    "        self.steps_per_epoch = steps_per_epoch\n",
    "        self.div_factor = div_factor\n",
    "        self.final_div_factor = final_div_factor\n",
    "        self.device = torch.device(\"cuda\" if torch.cuda.is_available() else \"cpu\")\n",
    "        \n",
    "        if self.size == 224:\n",
    "            self.train_transform = transforms.Compose([\n",
    "                transforms.ToTensor(),\n",
    "                transforms.Normalize([0.63017, 0.53304, 0.42636], [0.22549, 0.22932, 0.26291]),\n",
    "                transforms.RandomAffine(degrees=(-45, 45), translate=(0.15, 0.15), scale=(0.5, 1.5)),\n",
    "                transforms.RandomHorizontalFlip(p=0.25),\n",
    "                transforms.RandomVerticalFlip(p=0.25),\n",
    "            ])\n",
    "            self.valid_transform = transforms.Compose([\n",
    "                transforms.ToTensor(),\n",
    "                transforms.Normalize([0.63017, 0.53304, 0.42636], [0.22549, 0.22932, 0.26291]),\n",
    "            ])\n",
    "        \n",
    "        if self.size == 384:\n",
    "            self.train_transform = transforms.Compose([\n",
    "                transforms.ToTensor(),\n",
    "                transforms.Normalize([0.63013, 0.53300, 0.42632], [0.22750, 0.24143, 0.26503]),\n",
    "                transforms.RandomAffine(degrees=(-45, 45), translate=(0.15, 0.15), scale=(0.5, 1.5)),\n",
    "                transforms.RandomHorizontalFlip(p=0.25),\n",
    "                transforms.RandomVerticalFlip(p=0.25),\n",
    "            ])\n",
    "            self.valid_transform = transforms.Compose([\n",
    "                transforms.ToTensor(),\n",
    "                transforms.Normalize([0.63013, 0.53300, 0.42632], [0.22750, 0.24143, 0.26503]),\n",
    "            ])\n",
    "        \n",
    "        if self.size == 512:\n",
    "            self.train_transform = transforms.Compose([\n",
    "                transforms.ToTensor(),\n",
    "                transforms.Normalize([0.63008, 0.53294, 0.42626], [0.22822, 0.24218, 0.26576]),\n",
    "                transforms.RandomAffine(degrees=(-45, 45), translate=(0.15, 0.15), scale=(0.5, 1.5)),\n",
    "                transforms.RandomHorizontalFlip(p=0.25),\n",
    "                transforms.RandomVerticalFlip(p=0.25),\n",
    "            ])\n",
    "            self.valid_transform = transforms.Compose([\n",
    "                transforms.ToTensor(),\n",
    "                transforms.Normalize([0.63008, 0.53294, 0.42626], [0.22822, 0.24218, 0.26576]),\n",
    "            ])\n",
    "                                \n",
    "        self.save_path = \"saves\"\n",
    "        if not os.path.exists(self.save_path): os.makedirs(self.save_path)\n",
    "    \n",
    "cfg = CFG(\n",
    "    seed=SEED, \n",
    "    size=SIZE\n",
    ")"
   ]
  },
  {
   "cell_type": "markdown",
   "id": "23cf4082",
   "metadata": {
    "papermill": {
     "duration": 0.003912,
     "end_time": "2022-10-29T13:41:27.994937",
     "exception": false,
     "start_time": "2022-10-29T13:41:27.991025",
     "status": "completed"
    },
    "tags": []
   },
   "source": [
    "### **Dataset Template**"
   ]
  },
  {
   "cell_type": "code",
   "execution_count": 5,
   "id": "49729eab",
   "metadata": {
    "execution": {
     "iopub.execute_input": "2022-10-29T13:41:28.004053Z",
     "iopub.status.busy": "2022-10-29T13:41:28.003751Z",
     "iopub.status.idle": "2022-10-29T13:41:28.010929Z",
     "shell.execute_reply": "2022-10-29T13:41:28.009926Z"
    },
    "papermill": {
     "duration": 0.014223,
     "end_time": "2022-10-29T13:41:28.013064",
     "exception": false,
     "start_time": "2022-10-29T13:41:27.998841",
     "status": "completed"
    },
    "tags": []
   },
   "outputs": [],
   "source": [
    "class DS(Dataset):\n",
    "    def __init__(\n",
    "        self, \n",
    "        filepaths: np.ndarray, \n",
    "        size: int,\n",
    "        labels: Union[np.ndarray, None]=None, \n",
    "        transform=None\n",
    "    ):\n",
    "        \n",
    "        self.filepaths = filepaths\n",
    "        self.labels = labels\n",
    "        self.size = size\n",
    "        self.transform = transform\n",
    "    \n",
    "    def __len__(self):\n",
    "        if isinstance(self.filepaths, np.ndarray):\n",
    "            return self.filepaths.shape[0]\n",
    "        else:\n",
    "            return len(self.filepaths)\n",
    "    \n",
    "    def __getitem__(self, idx):\n",
    "        image = get_image(self.filepaths[idx], self.size)\n",
    "        if self.labels is None:\n",
    "            return self.transform(image)\n",
    "        return self.transform(image), torch.LongTensor(self.labels[idx])"
   ]
  },
  {
   "cell_type": "markdown",
   "id": "134cb122",
   "metadata": {
    "papermill": {
     "duration": 0.003828,
     "end_time": "2022-10-29T13:41:28.020819",
     "exception": false,
     "start_time": "2022-10-29T13:41:28.016991",
     "status": "completed"
    },
    "tags": []
   },
   "source": [
    "### **Model**"
   ]
  },
  {
   "cell_type": "code",
   "execution_count": 6,
   "id": "49a146f0",
   "metadata": {
    "execution": {
     "iopub.execute_input": "2022-10-29T13:41:28.029943Z",
     "iopub.status.busy": "2022-10-29T13:41:28.029663Z",
     "iopub.status.idle": "2022-10-29T13:41:28.035906Z",
     "shell.execute_reply": "2022-10-29T13:41:28.034904Z"
    },
    "papermill": {
     "duration": 0.013465,
     "end_time": "2022-10-29T13:41:28.038183",
     "exception": false,
     "start_time": "2022-10-29T13:41:28.024718",
     "status": "completed"
    },
    "tags": []
   },
   "outputs": [],
   "source": [
    "class Model(nn.Module):\n",
    "    def __init__(self):\n",
    "        super(Model, self).__init__()\n",
    "            \n",
    "        self.model = timm.create_model(model_name=\"efficientnet_b4\", pretrained=False)\n",
    "        self.model.classifier = nn.Linear(in_features=self.model.classifier.in_features, out_features=101)\n",
    "            \n",
    "    def freeze(self):\n",
    "        for params in self.parameters(): params.requires_grad = False\n",
    "\n",
    "    def forward(self, x):\n",
    "        return nn.LogSoftmax(dim=1)(self.model(x))"
   ]
  },
  {
   "cell_type": "markdown",
   "id": "afeea420",
   "metadata": {
    "papermill": {
     "duration": 0.00381,
     "end_time": "2022-10-29T13:41:28.045980",
     "exception": false,
     "start_time": "2022-10-29T13:41:28.042170",
     "status": "completed"
    },
    "tags": []
   },
   "source": [
    "### **Fit and Predict**"
   ]
  },
  {
   "cell_type": "code",
   "execution_count": 7,
   "id": "5ba9a6d5",
   "metadata": {
    "execution": {
     "iopub.execute_input": "2022-10-29T13:41:28.055286Z",
     "iopub.status.busy": "2022-10-29T13:41:28.055025Z",
     "iopub.status.idle": "2022-10-29T13:41:28.064936Z",
     "shell.execute_reply": "2022-10-29T13:41:28.063952Z"
    },
    "papermill": {
     "duration": 0.017367,
     "end_time": "2022-10-29T13:41:28.067272",
     "exception": false,
     "start_time": "2022-10-29T13:41:28.049905",
     "status": "completed"
    },
    "tags": []
   },
   "outputs": [],
   "source": [
    "# def fit(\n",
    "#     model=None,\n",
    "#     optimizer=None, \n",
    "#     scheduler_rlrop=None,\n",
    "#     scheduler_oclr=None,\n",
    "#     epochs=None, \n",
    "#     early_stopping_patience=None, \n",
    "#     dataloaders=None, \n",
    "#     fold=None, \n",
    "#     save_path=None,\n",
    "#     device=None,\n",
    "#     verbose=False\n",
    "# ) -> tuple:\n",
    "    \n",
    "#     def get_accuracy(y_pred, y_true):\n",
    "#         y_pred = torch.argmax(y_pred, dim=1)\n",
    "#         return torch.count_nonzero(y_pred == y_true).item() / len(y_pred)\n",
    "    \n",
    "#     if verbose:\n",
    "#         breaker()\n",
    "#         if fold: print(f\"Training Fold {fold}...\")\n",
    "#         else: print(\"Training ...\")\n",
    "#         breaker()\n",
    "        \n",
    "#     bestLoss: dict = {\"train\" : np.inf, \"valid\" : np.inf} \n",
    "#     bestAccs: dict = {\"train\" : 0.0, \"valid\" : 0.0}\n",
    "        \n",
    "#     Losses: list = []\n",
    "#     Accuracies: list = [] \n",
    "#     LRs: list = []\n",
    "        \n",
    "#     if fold: \n",
    "#         ble_name = f\"ble_state_fold_{fold}.pt\"\n",
    "#         bae_name = f\"bae_state_fold_{fold}.pt\"\n",
    "#     else: \n",
    "#         ble_name = f\"ble_state.pt\"\n",
    "#         bae_name = f\"bae_state.pt\"\n",
    "    \n",
    "#     start_time = time()\n",
    "#     for e in range(epochs):\n",
    "#         e_st = time()\n",
    "#         epochLoss: dict = {\"train\" : 0.0, \"valid\" : 0.0} \n",
    "#         epochAccs: dict = {\"train\" : 0.0, \"valid\" : 0.0}\n",
    "\n",
    "#         for phase in [\"train\", \"valid\"]:\n",
    "#             if phase == \"train\":\n",
    "#                 model.train()\n",
    "#             else:\n",
    "#                 model.eval()\n",
    "            \n",
    "#             lossPerPass: list = []\n",
    "#             accsPerPass: list = []\n",
    "                \n",
    "#             for X, y in dataloaders[phase]:\n",
    "#                 X, y = X.to(device), y.to(device).view(-1)\n",
    "\n",
    "#                 optimizer.zero_grad()\n",
    "#                 with torch.set_grad_enabled(phase == \"train\"):\n",
    "#                     output = model(X)\n",
    "#                     loss = torch.nn.NLLLoss()(output, y)\n",
    "#                     if phase == \"train\":\n",
    "#                         loss.backward()\n",
    "#                         optimizer.step()\n",
    "#                         if scheduler_oclr: scheduler_oclr.step()\n",
    "#                 lossPerPass.append(loss.item())\n",
    "#                 accsPerPass.append(get_accuracy(output, y))\n",
    "#             epochLoss[phase] = np.mean(np.array(lossPerPass))\n",
    "#             epochAccs[phase] = np.mean(np.array(accsPerPass))\n",
    "#         if scheduler_oclr: LRs.append(scheduler_oclr.get_last_lr())\n",
    "#         Losses.append(epochLoss)\n",
    "#         Accuracies.append(epochAccs)\n",
    "    \n",
    "#         if scheduler_oclr:\n",
    "#             save_dict = {\"model_state_dict\"     : model.state_dict(),\n",
    "#                          \"optim_state_dict\"     : optimizer.state_dict(),\n",
    "#                          \"scheduler_state_dict\" : scheduler_oclr.state_dict()}\n",
    "        \n",
    "#         elif scheduler_rlrop:\n",
    "#             save_dict = {\"model_state_dict\"     : model.state_dict(),\n",
    "#                          \"optim_state_dict\"     : optimizer.state_dict(),\n",
    "#                          \"scheduler_state_dict\" : scheduler_rlrop.state_dict()}\n",
    "        \n",
    "#         else:\n",
    "#             save_dict = {\"model_state_dict\"     : model.state_dict(),\n",
    "#                          \"optim_state_dict\"     : optimizer.state_dict()}\n",
    "        \n",
    "        \n",
    "#         if early_stopping_patience:\n",
    "#             if epochLoss[\"valid\"] < bestLoss[\"valid\"]:\n",
    "#                 bestLoss = epochLoss\n",
    "#                 BLE = e + 1\n",
    "#                 torch.save(save_dict, os.path.join(save_path, ble_name))\n",
    "#                 torch.save(save_dict, os.path.join(save_path, bae_name))\n",
    "#                 early_stopping_step = 0\n",
    "#             else:\n",
    "#                 early_stopping_step += 1\n",
    "#                 if early_stopping_step > early_stopping_patience:\n",
    "#                     print(\"\\nEarly Stopping at Epoch {}\".format(e + 1))\n",
    "#                     break\n",
    "        \n",
    "#         if epochLoss[\"valid\"] < bestLoss[\"valid\"]:\n",
    "#             bestLoss = epochLoss\n",
    "#             BLE = e + 1\n",
    "#             torch.save(save_dict,os.path.join(save_path, ble_name))\n",
    "        \n",
    "#         if epochAccs[\"valid\"] > bestAccs[\"valid\"]:\n",
    "#             bestAccs = epochAccs\n",
    "#             BAE = e + 1\n",
    "#             torch.save(save_dict,os.path.join(save_path, bae_name))\n",
    "        \n",
    "#         if scheduler_rlrop: scheduler_rlrop.step(epochLoss[\"valid\"])\n",
    "        \n",
    "#         if verbose:\n",
    "#             print(\"Epoch: {} | Train Loss: {:.5f} | Valid Loss: {:.5f} |\\\n",
    "#  Train Accs: {:.5f} | Valid Accs: {:.5f} | Time: {:.2f} seconds\".format(e+1, \n",
    "#                                                                         epochLoss[\"train\"], epochLoss[\"valid\"], \n",
    "#                                                                         epochAccs[\"train\"], epochAccs[\"valid\"], \n",
    "#                                                                         time()-e_st))\n",
    "\n",
    "#     if verbose:                                           \n",
    "#         breaker()\n",
    "#         print(f\"Best Validation Loss at Epoch {BLE}\")\n",
    "#         breaker()\n",
    "#         print(f\"Best Validation Accs at Epoch {BAE}\")\n",
    "#         breaker()\n",
    "#         print(\"Time Taken [{} Epochs] : {:.2f} minutes\".format(len(Losses), (time()-start_time)/60))\n",
    "    \n",
    "#     return Losses, Accuracies, LRs, bestLoss, bestAccs, BLE, BAE, ble_name, bae_name\n",
    "\n",
    "\n",
    "def predict_batch(model=None, dataloader=None, path=None, device=None) -> np.ndarray:\n",
    "    model.load_state_dict(torch.load(path, map_location=device)[\"model_state_dict\"])\n",
    "    model.to(device)    \n",
    "    model.eval()\n",
    "    \n",
    "    y_pred = torch.zeros(1, 1).to(device)\n",
    "    \n",
    "    for X in dataloader:\n",
    "        X = X.to(device)\n",
    "        with torch.no_grad():\n",
    "            output = torch.argmax(torch.exp(model(X)), dim=1)\n",
    "        y_pred = torch.cat((y_pred, output.view(-1, 1)), dim=0)\n",
    "    \n",
    "    return y_pred[1:].detach().cpu().numpy()"
   ]
  },
  {
   "cell_type": "markdown",
   "id": "ca73d54c",
   "metadata": {
    "papermill": {
     "duration": 0.003799,
     "end_time": "2022-10-29T13:41:28.076115",
     "exception": false,
     "start_time": "2022-10-29T13:41:28.072316",
     "status": "completed"
    },
    "tags": []
   },
   "source": [
    "### **Train**"
   ]
  },
  {
   "cell_type": "code",
   "execution_count": 8,
   "id": "12e9c938",
   "metadata": {
    "execution": {
     "iopub.execute_input": "2022-10-29T13:41:28.085674Z",
     "iopub.status.busy": "2022-10-29T13:41:28.085376Z",
     "iopub.status.idle": "2022-10-29T13:41:28.089409Z",
     "shell.execute_reply": "2022-10-29T13:41:28.088395Z"
    },
    "papermill": {
     "duration": 0.011542,
     "end_time": "2022-10-29T13:41:28.091674",
     "exception": false,
     "start_time": "2022-10-29T13:41:28.080132",
     "status": "completed"
    },
    "tags": []
   },
   "outputs": [],
   "source": [
    "# tr_df = pd.read_csv(\"../input/twf-dataframe/dataframe.csv\")\n",
    "\n",
    "# filepaths = tr_df.filepaths.copy().values\n",
    "# labels = tr_df.labels.copy().values"
   ]
  },
  {
   "cell_type": "code",
   "execution_count": 9,
   "id": "021c3b24",
   "metadata": {
    "execution": {
     "iopub.execute_input": "2022-10-29T13:41:28.100991Z",
     "iopub.status.busy": "2022-10-29T13:41:28.100733Z",
     "iopub.status.idle": "2022-10-29T13:41:28.107125Z",
     "shell.execute_reply": "2022-10-29T13:41:28.106306Z"
    },
    "papermill": {
     "duration": 0.013235,
     "end_time": "2022-10-29T13:41:28.108988",
     "exception": false,
     "start_time": "2022-10-29T13:41:28.095753",
     "status": "completed"
    },
    "tags": []
   },
   "outputs": [],
   "source": [
    "# fold: int = 1\n",
    "# BLs: list = []\n",
    "# BAs: list = []\n",
    "\n",
    "# # # Test \n",
    "# # cfg.epochs = 2\n",
    "# # cfg.n_splits = 3\n",
    "\n",
    "# for tr_idx, va_idx in StratifiedKFold(n_splits=cfg.n_splits, random_state=cfg.seed, shuffle=True).split(filepaths, labels):\n",
    "#     if fold == 1: break\n",
    "#     fold += 1\n",
    "\n",
    "# tr_filepaths, va_filepaths = filepaths[tr_idx], filepaths[va_idx] \n",
    "# tr_labels, va_labels       = labels[tr_idx], labels[va_idx]\n",
    "\n",
    "# tr_data_setup = DS(\n",
    "#     filepaths=tr_filepaths, \n",
    "#     labels=tr_labels.reshape(-1, 1),\n",
    "#     size=cfg.size,\n",
    "#     transform=cfg.train_transform\n",
    "# )\n",
    "\n",
    "# va_data_setup = DS(\n",
    "#     filepaths=va_filepaths, \n",
    "#     labels=va_labels.reshape(-1, 1),\n",
    "#     size=cfg.size,\n",
    "#     transform=cfg.valid_transform\n",
    "# )\n",
    "\n",
    "# dataloaders = {\n",
    "#     \"train\" : DL(tr_data_setup, batch_size=cfg.batch_size, shuffle=True, generator=torch.manual_seed(cfg.seed)),\n",
    "#     \"valid\" : DL(va_data_setup, batch_size=cfg.batch_size, shuffle=False),\n",
    "# }\n",
    "\n",
    "# cfg.steps_per_epoch = len(dataloaders[\"train\"])\n",
    "\n",
    "# torch.manual_seed(cfg.seed)\n",
    "# model = Model().to(cfg.device)\n",
    "\n",
    "# optimizer = optim.Adam([p for p in model.parameters() if p.requires_grad], lr=cfg.lr, weight_decay=cfg.wd)\n",
    "# # optimizer = optim.AdamW([p for p in model.parameters() if p.requires_grad], lr=cfg.lr, weight_decay=cfg.wd)\n",
    "# # optimizer = optim.SGD([p for p in model.parameters() if p.requires_grad], lr=cfg.lr, weight_decay=cfg.wd, momentum=0.9)\n",
    "\n",
    "# scheduler_oclr = optim.lr_scheduler.OneCycleLR(\n",
    "#     optimizer=optimizer, \n",
    "#     max_lr=cfg.max_lr, \n",
    "#     epochs=cfg.epochs, \n",
    "#     steps_per_epoch=cfg.steps_per_epoch,\n",
    "#     pct_start=cfg.pct_start, \n",
    "#     div_factor=cfg.div_factor, \n",
    "#     final_div_factor=cfg.final_div_factor\n",
    "# )\n",
    "\n",
    "# # scheduler_rlrop = optim.lr_scheduler.ReduceLROnPlateau(\n",
    "# #     optimizer=optimizer,\n",
    "# #     patience=cfg.patience,\n",
    "# #     eps=cfg.eps,\n",
    "# #     verbose=True\n",
    "# # )\n",
    "\n",
    "# # scheduler_oclr = None\n",
    "# scheduler_rlrop = None\n",
    "\n",
    "# L, A, LR, BL, BA, _, _, _, _ = fit(\n",
    "#     model=model, \n",
    "#     optimizer=optimizer, \n",
    "#     scheduler_oclr=scheduler_oclr,\n",
    "#     scheduler_rlrop=scheduler_rlrop,\n",
    "#     epochs=cfg.epochs, \n",
    "#     early_stopping_patience=cfg.early_stopping, \n",
    "#     dataloaders=dataloaders, \n",
    "#     device=cfg.device,\n",
    "#     save_path=cfg.save_path,\n",
    "#     fold=fold,\n",
    "#     verbose=True\n",
    "# )\n",
    "\n",
    "# breaker()\n",
    "# show_loss_graphs(L)\n",
    "# breaker()\n",
    "# show_accuracy_graphs(A)\n",
    "# breaker()\n",
    "# if scheduler_oclr:\n",
    "#     show_lr_graph(LR)\n",
    "#     breaker()\n",
    "\n",
    "# # BLs.append(BL)\n",
    "# # BAs.append(BA)\n",
    "\n",
    "# # fold += 1"
   ]
  },
  {
   "cell_type": "markdown",
   "id": "f351c9ec",
   "metadata": {
    "papermill": {
     "duration": 0.003858,
     "end_time": "2022-10-29T13:41:28.117081",
     "exception": false,
     "start_time": "2022-10-29T13:41:28.113223",
     "status": "completed"
    },
    "tags": []
   },
   "source": [
    "### **Best Model**"
   ]
  },
  {
   "cell_type": "code",
   "execution_count": 10,
   "id": "d7ccd1c3",
   "metadata": {
    "execution": {
     "iopub.execute_input": "2022-10-29T13:41:28.126392Z",
     "iopub.status.busy": "2022-10-29T13:41:28.126119Z",
     "iopub.status.idle": "2022-10-29T13:41:28.129943Z",
     "shell.execute_reply": "2022-10-29T13:41:28.129086Z"
    },
    "papermill": {
     "duration": 0.010746,
     "end_time": "2022-10-29T13:41:28.131948",
     "exception": false,
     "start_time": "2022-10-29T13:41:28.121202",
     "status": "completed"
    },
    "tags": []
   },
   "outputs": [],
   "source": [
    "# BL = np.inf\n",
    "# for i in range(len(BLs)):\n",
    "#     if BLs[i][\"valid\"] < BL:\n",
    "#         BL = BLs[i][\"valid\"]\n",
    "#         best_loss_index = i\n",
    "\n",
    "        \n",
    "# BA = 0.0\n",
    "# for i in range(len(BAs)):\n",
    "#     if BAs[i][\"valid\"] > BA:\n",
    "#         BA = BAs[i][\"valid\"]\n",
    "#         best_accs_index = i\n",
    "\n",
    "# breaker()\n",
    "# print(f\"Best Loss Model Fold     : {best_loss_index + 1}\")\n",
    "# print(f\"Best Accuracy Model Fold : {best_accs_index + 1}\")\n",
    "# breaker()"
   ]
  },
  {
   "cell_type": "markdown",
   "id": "29c5cca8",
   "metadata": {
    "papermill": {
     "duration": 0.004179,
     "end_time": "2022-10-29T13:41:28.140199",
     "exception": false,
     "start_time": "2022-10-29T13:41:28.136020",
     "status": "completed"
    },
    "tags": []
   },
   "source": [
    "### **Submission**"
   ]
  },
  {
   "cell_type": "code",
   "execution_count": 11,
   "id": "8105356d",
   "metadata": {
    "execution": {
     "iopub.execute_input": "2022-10-29T13:41:28.149734Z",
     "iopub.status.busy": "2022-10-29T13:41:28.149476Z",
     "iopub.status.idle": "2022-10-29T13:43:51.134542Z",
     "shell.execute_reply": "2022-10-29T13:43:51.133560Z"
    },
    "papermill": {
     "duration": 142.99254,
     "end_time": "2022-10-29T13:43:51.137101",
     "exception": false,
     "start_time": "2022-10-29T13:41:28.144561",
     "status": "completed"
    },
    "tags": []
   },
   "outputs": [],
   "source": [
    "ss_df = pd.read_csv(\"../input/111-1-ntut-dl-app-hw2/tw_food_101_test_pred.csv\")\n",
    "ts_filepaths = list(ss_df.Id.copy().values)\n",
    "ts_filepaths = [str(name) for name in ts_filepaths]\n",
    "\n",
    "ts_filenames = sorted(os.listdir(\"../input/taiwanese-food-101/tw_food_101/tw_food_101/test\"))\n",
    "\n",
    "for i in range(len(ts_filenames)):\n",
    "    if ts_filenames[i].split(\".\")[0] in ts_filepaths:\n",
    "        ts_filepaths[ts_filepaths.index(ts_filenames[i].split(\".\")[0])] = ts_filenames[i]\n",
    "    \n",
    "ts_filepaths = [os.path.join(\"../input/taiwanese-food-101/tw_food_101/tw_food_101/test\", ts_filepath) for ts_filepath in ts_filepaths]\n",
    "\n",
    "model = Model().to(cfg.device)\n",
    "\n",
    "ts_data_setup = DS(\n",
    "    filepaths=ts_filepaths, \n",
    "    labels=None,\n",
    "    size=cfg.size,\n",
    "    transform=cfg.valid_transform\n",
    ")\n",
    "ts_data = DL(ts_data_setup, batch_size=16, shuffle=False)\n",
    "\n",
    "y_pred = predict_batch(\n",
    "    model=model, \n",
    "    dataloader=ts_data, \n",
    "    path=\"../input/twf-en4-a384-f4/saves/ble_state_fold_4.pt\", \n",
    "    device=cfg.device\n",
    ")\n",
    "\n",
    "ss_df.Category = y_pred.astype(\"uint8\")\n",
    "ss_df.to_csv(\"submission.csv\", index=False)"
   ]
  }
 ],
 "metadata": {
  "kernelspec": {
   "display_name": "Python 3",
   "language": "python",
   "name": "python3"
  },
  "language_info": {
   "codemirror_mode": {
    "name": "ipython",
    "version": 3
   },
   "file_extension": ".py",
   "mimetype": "text/x-python",
   "name": "python",
   "nbconvert_exporter": "python",
   "pygments_lexer": "ipython3",
   "version": "3.7.12"
  },
  "papermill": {
   "default_parameters": {},
   "duration": 167.182833,
   "end_time": "2022-10-29T13:43:52.765385",
   "environment_variables": {},
   "exception": null,
   "input_path": "__notebook__.ipynb",
   "output_path": "__notebook__.ipynb",
   "parameters": {},
   "start_time": "2022-10-29T13:41:05.582552",
   "version": "2.3.4"
  }
 },
 "nbformat": 4,
 "nbformat_minor": 5
}
