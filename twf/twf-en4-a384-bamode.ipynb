{
 "cells": [
  {
   "cell_type": "code",
   "execution_count": 1,
   "id": "53c38cab",
   "metadata": {
    "_cell_guid": "b1076dfc-b9ad-4769-8c92-a6c4dae69d19",
    "_uuid": "8f2839f25d086af736a60e9eeb907d3b93b6e0e5",
    "execution": {
     "iopub.execute_input": "2022-10-29T15:42:27.480426Z",
     "iopub.status.busy": "2022-10-29T15:42:27.479732Z",
     "iopub.status.idle": "2022-10-29T15:42:28.577579Z",
     "shell.execute_reply": "2022-10-29T15:42:28.576436Z"
    },
    "papermill": {
     "duration": 1.104639,
     "end_time": "2022-10-29T15:42:28.580219",
     "exception": false,
     "start_time": "2022-10-29T15:42:27.475580",
     "status": "completed"
    },
    "tags": []
   },
   "outputs": [],
   "source": [
    "import numpy as np\n",
    "import pandas as pd\n",
    "from scipy import stats\n",
    "\n",
    "df_1 = pd.read_csv(\"../input/twf-en4-a384-f1a-infer/submission.csv\")\n",
    "df_2 = pd.read_csv(\"../input/twf-en4-a384-f2a-infer/submission.csv\")\n",
    "df_3 = pd.read_csv(\"../input/twf-en4-a384-f3a-infer/submission.csv\")\n",
    "df_4 = pd.read_csv(\"../input/twf-en4-a384-f4a-infer/submission.csv\")\n",
    "df_5 = pd.read_csv(\"../input/twf-en4-a384-f5a-infer/submission.csv\")\n",
    "\n",
    "y_pred_1 = df_1.Category.copy().values\n",
    "y_pred_2 = df_2.Category.copy().values\n",
    "y_pred_3 = df_3.Category.copy().values\n",
    "y_pred_4 = df_4.Category.copy().values\n",
    "y_pred_5 = df_5.Category.copy().values\n",
    "\n",
    "y_pred = np.concatenate((\n",
    "    y_pred_1.reshape(1, -1),\n",
    "    y_pred_2.reshape(1, -1),\n",
    "    y_pred_3.reshape(1, -1),\n",
    "    y_pred_4.reshape(1, -1),\n",
    "    y_pred_5.reshape(1, -1),\n",
    "), axis=0)\n",
    "\n",
    "y_pred = stats.mode(y_pred)[0]\n",
    "\n",
    "df_1.Category = y_pred.astype(\"uint8\").reshape(-1)\n",
    "df_1.to_csv(\"submission.csv\", index=False)"
   ]
  }
 ],
 "metadata": {
  "kernelspec": {
   "display_name": "Python 3",
   "language": "python",
   "name": "python3"
  },
  "language_info": {
   "codemirror_mode": {
    "name": "ipython",
    "version": 3
   },
   "file_extension": ".py",
   "mimetype": "text/x-python",
   "name": "python",
   "nbconvert_exporter": "python",
   "pygments_lexer": "ipython3",
   "version": "3.7.12"
  },
  "papermill": {
   "default_parameters": {},
   "duration": 9.35142,
   "end_time": "2022-10-29T15:42:29.302560",
   "environment_variables": {},
   "exception": null,
   "input_path": "__notebook__.ipynb",
   "output_path": "__notebook__.ipynb",
   "parameters": {},
   "start_time": "2022-10-29T15:42:19.951140",
   "version": "2.3.4"
  }
 },
 "nbformat": 4,
 "nbformat_minor": 5
}
