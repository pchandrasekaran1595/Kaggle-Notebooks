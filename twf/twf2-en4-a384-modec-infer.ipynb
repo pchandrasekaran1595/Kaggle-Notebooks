{
 "cells": [
  {
   "cell_type": "markdown",
   "id": "520e6804",
   "metadata": {
    "_cell_guid": "b1076dfc-b9ad-4769-8c92-a6c4dae69d19",
    "_uuid": "8f2839f25d086af736a60e9eeb907d3b93b6e0e5",
    "papermill": {
     "duration": 0.006135,
     "end_time": "2022-10-31T10:09:33.802415",
     "exception": false,
     "start_time": "2022-10-31T10:09:33.796280",
     "status": "completed"
    },
    "tags": []
   },
   "source": [
    "### **Setup**"
   ]
  },
  {
   "cell_type": "code",
   "execution_count": 1,
   "id": "d1f221c2",
   "metadata": {
    "execution": {
     "iopub.execute_input": "2022-10-31T10:09:33.813713Z",
     "iopub.status.busy": "2022-10-31T10:09:33.813209Z",
     "iopub.status.idle": "2022-10-31T10:09:44.661459Z",
     "shell.execute_reply": "2022-10-31T10:09:44.660074Z"
    },
    "papermill": {
     "duration": 10.857152,
     "end_time": "2022-10-31T10:09:44.664428",
     "exception": false,
     "start_time": "2022-10-31T10:09:33.807276",
     "status": "completed"
    },
    "tags": []
   },
   "outputs": [
    {
     "name": "stderr",
     "output_type": "stream",
     "text": [
      "WARNING: Running pip as the 'root' user can result in broken permissions and conflicting behaviour with the system package manager. It is recommended to use a virtual environment instead: https://pip.pypa.io/warnings/venv\n"
     ]
    }
   ],
   "source": [
    "%%bash\n",
    "pip install timm -q"
   ]
  },
  {
   "cell_type": "markdown",
   "id": "35be0a7f",
   "metadata": {
    "papermill": {
     "duration": 0.004658,
     "end_time": "2022-10-31T10:09:44.674253",
     "exception": false,
     "start_time": "2022-10-31T10:09:44.669595",
     "status": "completed"
    },
    "tags": []
   },
   "source": [
    "### **Library Imports**"
   ]
  },
  {
   "cell_type": "code",
   "execution_count": 2,
   "id": "28d50139",
   "metadata": {
    "execution": {
     "iopub.execute_input": "2022-10-31T10:09:44.685379Z",
     "iopub.status.busy": "2022-10-31T10:09:44.685030Z",
     "iopub.status.idle": "2022-10-31T10:09:48.257435Z",
     "shell.execute_reply": "2022-10-31T10:09:48.256391Z"
    },
    "papermill": {
     "duration": 3.580858,
     "end_time": "2022-10-31T10:09:48.259927",
     "exception": false,
     "start_time": "2022-10-31T10:09:44.679069",
     "status": "completed"
    },
    "tags": []
   },
   "outputs": [],
   "source": [
    "import os\n",
    "import re\n",
    "import cv2\n",
    "import timm\n",
    "import torch\n",
    "import numpy as np\n",
    "import pandas as pd\n",
    "import matplotlib.pyplot as plt\n",
    "\n",
    "from time import time\n",
    "from PIL import Image\n",
    "from scipy import stats\n",
    "from typing import Union\n",
    "from torch import nn, optim\n",
    "from torch.utils.data import Dataset\n",
    "from torch.utils.data import DataLoader as DL\n",
    "from torchvision import models, transforms\n",
    "\n",
    "# from sklearn.metrics import accuracy_score\n",
    "# from sklearn.model_selection import StratifiedKFold"
   ]
  },
  {
   "cell_type": "markdown",
   "id": "8e6fdb6f",
   "metadata": {
    "papermill": {
     "duration": 0.004737,
     "end_time": "2022-10-31T10:09:48.269832",
     "exception": false,
     "start_time": "2022-10-31T10:09:48.265095",
     "status": "completed"
    },
    "tags": []
   },
   "source": [
    "### **Utilities and Helpers**"
   ]
  },
  {
   "cell_type": "code",
   "execution_count": 3,
   "id": "b5521d5c",
   "metadata": {
    "execution": {
     "iopub.execute_input": "2022-10-31T10:09:48.282892Z",
     "iopub.status.busy": "2022-10-31T10:09:48.280747Z",
     "iopub.status.idle": "2022-10-31T10:09:48.295319Z",
     "shell.execute_reply": "2022-10-31T10:09:48.294404Z"
    },
    "papermill": {
     "duration": 0.022516,
     "end_time": "2022-10-31T10:09:48.297284",
     "exception": false,
     "start_time": "2022-10-31T10:09:48.274768",
     "status": "completed"
    },
    "tags": []
   },
   "outputs": [],
   "source": [
    "SEED: int = 42\n",
    "SIZE: int = 384\n",
    "\n",
    "\n",
    "def breaker(num: int=50, char: str=\"*\") -> None:\n",
    "    print(\"\\n\" + num*char + \"\\n\")\n",
    "\n",
    "    \n",
    "def get_image(path: str, size: int=224) -> np.ndarray:\n",
    "    image = cv2.imread(path, cv2.IMREAD_COLOR)\n",
    "    if image is None: \n",
    "        image = np.asarray(Image.open(path))\n",
    "        if len(image.shape) == 2:\n",
    "            image = np.concatenate((\n",
    "                np.expand_dims(image, axis=2),\n",
    "                np.expand_dims(image, axis=2),\n",
    "                np.expand_dims(image, axis=2),\n",
    "            ), axis=2)\n",
    "    image = cv2.cvtColor(src=image, code=cv2.COLOR_BGR2RGB)\n",
    "    return cv2.resize(src=image, dsize=(size, size), interpolation=cv2.INTER_AREA)\n",
    "\n",
    "\n",
    "def show_loss_graphs(L: list) -> None:\n",
    "    TL, VL = [], []\n",
    "    for i in range(len(L)):\n",
    "        TL.append(L[i][\"train\"])\n",
    "        VL.append(L[i][\"valid\"])\n",
    "    x_Axis = np.arange(1, len(TL) + 1)\n",
    "    plt.figure()\n",
    "    plt.plot(x_Axis, TL, \"r\", label=\"Train\")\n",
    "    plt.plot(x_Axis, VL, \"b\", label=\"Valid\")\n",
    "    plt.legend()\n",
    "    plt.grid()\n",
    "    plt.title(\"Loss Graph\")\n",
    "    plt.show()\n",
    "\n",
    "    \n",
    "def show_accuracy_graphs(A: list) -> None:\n",
    "    TA, VA = [], []\n",
    "    for i in range(len(A)):\n",
    "        TA.append(A[i][\"train\"])\n",
    "        VA.append(A[i][\"valid\"])\n",
    "    x_Axis = np.arange(1, len(TA) + 1)\n",
    "    plt.figure()\n",
    "    plt.plot(x_Axis, TA, \"r\", label=\"Train\")\n",
    "    plt.plot(x_Axis, VA, \"b\", label=\"Valid\")\n",
    "    plt.legend()\n",
    "    plt.grid()\n",
    "    plt.title(\"Accuracy Graph\")\n",
    "    plt.show()\n",
    "    \n",
    "\n",
    "def show_lr_graph(LR: list) -> None:\n",
    "    x_Axis = [i+1 for i in range(len(LR))]\n",
    "    plt.figure(figsize=(8, 6))\n",
    "    plt.plot(x_Axis, LR, \"rx\")\n",
    "    plt.grid()\n",
    "    plt.show()"
   ]
  },
  {
   "cell_type": "markdown",
   "id": "df0555b3",
   "metadata": {
    "papermill": {
     "duration": 0.00479,
     "end_time": "2022-10-31T10:09:48.306943",
     "exception": false,
     "start_time": "2022-10-31T10:09:48.302153",
     "status": "completed"
    },
    "tags": []
   },
   "source": [
    "### **Configuration**"
   ]
  },
  {
   "cell_type": "code",
   "execution_count": 4,
   "id": "acbd1b2e",
   "metadata": {
    "execution": {
     "iopub.execute_input": "2022-10-31T10:09:48.318884Z",
     "iopub.status.busy": "2022-10-31T10:09:48.318620Z",
     "iopub.status.idle": "2022-10-31T10:09:48.394883Z",
     "shell.execute_reply": "2022-10-31T10:09:48.393958Z"
    },
    "papermill": {
     "duration": 0.085573,
     "end_time": "2022-10-31T10:09:48.397255",
     "exception": false,
     "start_time": "2022-10-31T10:09:48.311682",
     "status": "completed"
    },
    "tags": []
   },
   "outputs": [],
   "source": [
    "class CFG(object):\n",
    "    def __init__(self, \n",
    "                 seed: int = 42,\n",
    "                 size: int = 224,\n",
    "                 n_splits: int = 5,\n",
    "                 batch_size: int = 16,\n",
    "                 epochs: int = 25,\n",
    "                 early_stopping: int = 5,\n",
    "                 lr: float = 1e-4,\n",
    "                 wd: float = 0.0,\n",
    "                 max_lr: float = 1e-3,\n",
    "                 pct_start: float = 0.2,\n",
    "                 steps_per_epoch: int = 100,\n",
    "                 div_factor: int = 1e3, \n",
    "                 final_div_factor: float = 1e3,\n",
    "                 ):\n",
    "        self.seed = seed\n",
    "        self.size = size\n",
    "        self.n_splits = n_splits\n",
    "        self.batch_size = batch_size\n",
    "        self.epochs = epochs\n",
    "        self.early_stopping = early_stopping\n",
    "        self.lr = lr\n",
    "        self.wd = wd\n",
    "        self.max_lr = max_lr\n",
    "        self.pct_start = pct_start\n",
    "        self.steps_per_epoch = steps_per_epoch\n",
    "        self.div_factor = div_factor\n",
    "        self.final_div_factor = final_div_factor\n",
    "        self.device = torch.device(\"cuda\" if torch.cuda.is_available() else \"cpu\")\n",
    "        \n",
    "        if self.size == 224:\n",
    "            self.train_transform = transforms.Compose([\n",
    "                transforms.ToTensor(),\n",
    "                transforms.Normalize([0.63017, 0.53304, 0.42636], [0.22549, 0.22932, 0.26291]),\n",
    "                transforms.RandomAffine(degrees=(-45, 45), translate=(0.15, 0.15), scale=(0.5, 1.5)),\n",
    "                transforms.RandomHorizontalFlip(p=0.25),\n",
    "                transforms.RandomVerticalFlip(p=0.25),\n",
    "            ])\n",
    "            self.valid_transform = transforms.Compose([\n",
    "                transforms.ToTensor(),\n",
    "                transforms.Normalize([0.63017, 0.53304, 0.42636], [0.22549, 0.22932, 0.26291]),\n",
    "            ])\n",
    "        \n",
    "        if self.size == 384:\n",
    "            self.train_transform = transforms.Compose([\n",
    "                transforms.ToTensor(),\n",
    "                transforms.Normalize([0.63013, 0.53300, 0.42632], [0.22750, 0.24143, 0.26503]),\n",
    "                transforms.RandomAffine(degrees=(-45, 45), translate=(0.15, 0.15), scale=(0.5, 1.5)),\n",
    "                transforms.RandomHorizontalFlip(p=0.25),\n",
    "                transforms.RandomVerticalFlip(p=0.25),\n",
    "            ])\n",
    "            self.valid_transform = transforms.Compose([\n",
    "                transforms.ToTensor(),\n",
    "                transforms.Normalize([0.63013, 0.53300, 0.42632], [0.22750, 0.24143, 0.26503]),\n",
    "            ])\n",
    "        \n",
    "        if self.size == 512:\n",
    "            self.train_transform = transforms.Compose([\n",
    "                transforms.ToTensor(),\n",
    "                transforms.Normalize([0.63008, 0.53294, 0.42626], [0.22822, 0.24218, 0.26576]),\n",
    "                transforms.RandomAffine(degrees=(-45, 45), translate=(0.15, 0.15), scale=(0.5, 1.5)),\n",
    "                transforms.RandomHorizontalFlip(p=0.25),\n",
    "                transforms.RandomVerticalFlip(p=0.25),\n",
    "            ])\n",
    "            self.valid_transform = transforms.Compose([\n",
    "                transforms.ToTensor(),\n",
    "                transforms.Normalize([0.63008, 0.53294, 0.42626], [0.22822, 0.24218, 0.26576]),\n",
    "            ])\n",
    "                                \n",
    "        self.save_path = \"saves\"\n",
    "        if not os.path.exists(self.save_path): os.makedirs(self.save_path)\n",
    "    \n",
    "cfg = CFG(\n",
    "    seed=SEED, \n",
    "    size=SIZE\n",
    ")"
   ]
  },
  {
   "cell_type": "markdown",
   "id": "03b0e5ec",
   "metadata": {
    "papermill": {
     "duration": 0.004524,
     "end_time": "2022-10-31T10:09:48.406820",
     "exception": false,
     "start_time": "2022-10-31T10:09:48.402296",
     "status": "completed"
    },
    "tags": []
   },
   "source": [
    "### **Dataset Template**"
   ]
  },
  {
   "cell_type": "code",
   "execution_count": 5,
   "id": "e061cd75",
   "metadata": {
    "execution": {
     "iopub.execute_input": "2022-10-31T10:09:48.419037Z",
     "iopub.status.busy": "2022-10-31T10:09:48.417387Z",
     "iopub.status.idle": "2022-10-31T10:09:48.425468Z",
     "shell.execute_reply": "2022-10-31T10:09:48.424548Z"
    },
    "papermill": {
     "duration": 0.015971,
     "end_time": "2022-10-31T10:09:48.427563",
     "exception": false,
     "start_time": "2022-10-31T10:09:48.411592",
     "status": "completed"
    },
    "tags": []
   },
   "outputs": [],
   "source": [
    "class DS(Dataset):\n",
    "    def __init__(\n",
    "        self, \n",
    "        filepaths: np.ndarray, \n",
    "        size: int,\n",
    "        labels: Union[np.ndarray, None]=None, \n",
    "        transform=None\n",
    "    ):\n",
    "        \n",
    "        self.filepaths = filepaths\n",
    "        self.labels = labels\n",
    "        self.size = size\n",
    "        self.transform = transform\n",
    "    \n",
    "    def __len__(self):\n",
    "        if isinstance(self.filepaths, np.ndarray):\n",
    "            return self.filepaths.shape[0]\n",
    "        else:\n",
    "            return len(self.filepaths)\n",
    "    \n",
    "    def __getitem__(self, idx):\n",
    "        image = get_image(self.filepaths[idx], self.size)\n",
    "        if self.labels is None:\n",
    "            return self.transform(image)\n",
    "        return self.transform(image), torch.LongTensor(self.labels[idx])"
   ]
  },
  {
   "cell_type": "markdown",
   "id": "79995baa",
   "metadata": {
    "papermill": {
     "duration": 0.004532,
     "end_time": "2022-10-31T10:09:48.436769",
     "exception": false,
     "start_time": "2022-10-31T10:09:48.432237",
     "status": "completed"
    },
    "tags": []
   },
   "source": [
    "### **Model**"
   ]
  },
  {
   "cell_type": "code",
   "execution_count": 6,
   "id": "d3eb9fa5",
   "metadata": {
    "execution": {
     "iopub.execute_input": "2022-10-31T10:09:48.447661Z",
     "iopub.status.busy": "2022-10-31T10:09:48.447384Z",
     "iopub.status.idle": "2022-10-31T10:09:48.454090Z",
     "shell.execute_reply": "2022-10-31T10:09:48.453182Z"
    },
    "papermill": {
     "duration": 0.014682,
     "end_time": "2022-10-31T10:09:48.456172",
     "exception": false,
     "start_time": "2022-10-31T10:09:48.441490",
     "status": "completed"
    },
    "tags": []
   },
   "outputs": [],
   "source": [
    "class Model(nn.Module):\n",
    "    def __init__(self):\n",
    "        super(Model, self).__init__()\n",
    "            \n",
    "        self.model = timm.create_model(model_name=\"efficientnet_b4\", pretrained=False)\n",
    "        self.model.classifier = nn.Linear(in_features=self.model.classifier.in_features, out_features=101)\n",
    "            \n",
    "    def freeze(self):\n",
    "        for params in self.parameters(): params.requires_grad = False\n",
    "\n",
    "    def forward(self, x):\n",
    "        return nn.LogSoftmax(dim=1)(self.model(x))"
   ]
  },
  {
   "cell_type": "markdown",
   "id": "fb4a6679",
   "metadata": {
    "papermill": {
     "duration": 0.004613,
     "end_time": "2022-10-31T10:09:48.465476",
     "exception": false,
     "start_time": "2022-10-31T10:09:48.460863",
     "status": "completed"
    },
    "tags": []
   },
   "source": [
    "### **Fit and Predict**"
   ]
  },
  {
   "cell_type": "code",
   "execution_count": 7,
   "id": "d3c42c79",
   "metadata": {
    "execution": {
     "iopub.execute_input": "2022-10-31T10:09:48.476548Z",
     "iopub.status.busy": "2022-10-31T10:09:48.476294Z",
     "iopub.status.idle": "2022-10-31T10:09:48.486084Z",
     "shell.execute_reply": "2022-10-31T10:09:48.485020Z"
    },
    "papermill": {
     "duration": 0.018017,
     "end_time": "2022-10-31T10:09:48.488324",
     "exception": false,
     "start_time": "2022-10-31T10:09:48.470307",
     "status": "completed"
    },
    "tags": []
   },
   "outputs": [],
   "source": [
    "# def fit(\n",
    "#     model=None,\n",
    "#     optimizer=None, \n",
    "#     scheduler_rlrop=None,\n",
    "#     scheduler_oclr=None,\n",
    "#     epochs=None, \n",
    "#     early_stopping_patience=None, \n",
    "#     dataloaders=None, \n",
    "#     fold=None, \n",
    "#     save_path=None,\n",
    "#     device=None,\n",
    "#     verbose=False\n",
    "# ) -> tuple:\n",
    "    \n",
    "#     def get_accuracy(y_pred, y_true):\n",
    "#         y_pred = torch.argmax(y_pred, dim=1)\n",
    "#         return torch.count_nonzero(y_pred == y_true).item() / len(y_pred)\n",
    "    \n",
    "#     if verbose:\n",
    "#         breaker()\n",
    "#         if fold: print(f\"Training Fold {fold}...\")\n",
    "#         else: print(\"Training ...\")\n",
    "#         breaker()\n",
    "        \n",
    "#     bestLoss: dict = {\"train\" : np.inf, \"valid\" : np.inf} \n",
    "#     bestAccs: dict = {\"train\" : 0.0, \"valid\" : 0.0}\n",
    "        \n",
    "#     Losses: list = []\n",
    "#     Accuracies: list = [] \n",
    "#     LRs: list = []\n",
    "        \n",
    "#     if fold: \n",
    "#         ble_name = f\"ble_state_fold_{fold}.pt\"\n",
    "#         bae_name = f\"bae_state_fold_{fold}.pt\"\n",
    "#     else: \n",
    "#         ble_name = f\"ble_state.pt\"\n",
    "#         bae_name = f\"bae_state.pt\"\n",
    "    \n",
    "#     start_time = time()\n",
    "#     for e in range(epochs):\n",
    "#         e_st = time()\n",
    "#         epochLoss: dict = {\"train\" : 0.0, \"valid\" : 0.0} \n",
    "#         epochAccs: dict = {\"train\" : 0.0, \"valid\" : 0.0}\n",
    "\n",
    "#         for phase in [\"train\", \"valid\"]:\n",
    "#             if phase == \"train\":\n",
    "#                 model.train()\n",
    "#             else:\n",
    "#                 model.eval()\n",
    "            \n",
    "#             lossPerPass: list = []\n",
    "#             accsPerPass: list = []\n",
    "                \n",
    "#             for X, y in dataloaders[phase]:\n",
    "#                 X, y = X.to(device), y.to(device).view(-1)\n",
    "\n",
    "#                 optimizer.zero_grad()\n",
    "#                 with torch.set_grad_enabled(phase == \"train\"):\n",
    "#                     output = model(X)\n",
    "#                     loss = torch.nn.NLLLoss()(output, y)\n",
    "#                     if phase == \"train\":\n",
    "#                         loss.backward()\n",
    "#                         optimizer.step()\n",
    "#                         if scheduler_oclr: scheduler_oclr.step()\n",
    "#                 lossPerPass.append(loss.item())\n",
    "#                 accsPerPass.append(get_accuracy(output, y))\n",
    "#             epochLoss[phase] = np.mean(np.array(lossPerPass))\n",
    "#             epochAccs[phase] = np.mean(np.array(accsPerPass))\n",
    "#         if scheduler_oclr: LRs.append(scheduler_oclr.get_last_lr())\n",
    "#         Losses.append(epochLoss)\n",
    "#         Accuracies.append(epochAccs)\n",
    "    \n",
    "#         if scheduler_oclr:\n",
    "#             save_dict = {\"model_state_dict\"     : model.state_dict(),\n",
    "#                          \"optim_state_dict\"     : optimizer.state_dict(),\n",
    "#                          \"scheduler_state_dict\" : scheduler_oclr.state_dict()}\n",
    "        \n",
    "#         elif scheduler_rlrop:\n",
    "#             save_dict = {\"model_state_dict\"     : model.state_dict(),\n",
    "#                          \"optim_state_dict\"     : optimizer.state_dict(),\n",
    "#                          \"scheduler_state_dict\" : scheduler_rlrop.state_dict()}\n",
    "        \n",
    "#         else:\n",
    "#             save_dict = {\"model_state_dict\"     : model.state_dict(),\n",
    "#                          \"optim_state_dict\"     : optimizer.state_dict()}\n",
    "        \n",
    "        \n",
    "#         if early_stopping_patience:\n",
    "#             if epochLoss[\"valid\"] < bestLoss[\"valid\"]:\n",
    "#                 bestLoss = epochLoss\n",
    "#                 BLE = e + 1\n",
    "#                 torch.save(save_dict, os.path.join(save_path, ble_name))\n",
    "#                 torch.save(save_dict, os.path.join(save_path, bae_name))\n",
    "#                 early_stopping_step = 0\n",
    "#             else:\n",
    "#                 early_stopping_step += 1\n",
    "#                 if early_stopping_step > early_stopping_patience:\n",
    "#                     print(\"\\nEarly Stopping at Epoch {}\".format(e + 1))\n",
    "#                     break\n",
    "        \n",
    "#         if epochLoss[\"valid\"] < bestLoss[\"valid\"]:\n",
    "#             bestLoss = epochLoss\n",
    "#             BLE = e + 1\n",
    "#             torch.save(save_dict,os.path.join(save_path, ble_name))\n",
    "        \n",
    "#         if epochAccs[\"valid\"] > bestAccs[\"valid\"]:\n",
    "#             bestAccs = epochAccs\n",
    "#             BAE = e + 1\n",
    "#             torch.save(save_dict,os.path.join(save_path, bae_name))\n",
    "        \n",
    "#         if scheduler_rlrop: scheduler_rlrop.step(epochLoss[\"valid\"])\n",
    "        \n",
    "#         if verbose:\n",
    "#             print(\"Epoch: {} | Train Loss: {:.5f} | Valid Loss: {:.5f} |\\\n",
    "#  Train Accs: {:.5f} | Valid Accs: {:.5f} | Time: {:.2f} seconds\".format(e+1, \n",
    "#                                                                         epochLoss[\"train\"], epochLoss[\"valid\"], \n",
    "#                                                                         epochAccs[\"train\"], epochAccs[\"valid\"], \n",
    "#                                                                         time()-e_st))\n",
    "\n",
    "#     if verbose:                                           \n",
    "#         breaker()\n",
    "#         print(f\"Best Validation Loss at Epoch {BLE}\")\n",
    "#         breaker()\n",
    "#         print(f\"Best Validation Accs at Epoch {BAE}\")\n",
    "#         breaker()\n",
    "#         print(\"Time Taken [{} Epochs] : {:.2f} minutes\".format(len(Losses), (time()-start_time)/60))\n",
    "    \n",
    "#     return Losses, Accuracies, LRs, bestLoss, bestAccs, BLE, BAE, ble_name, bae_name\n",
    "\n",
    "\n",
    "def predict_batch(model=None, dataloader=None, path=None, device=None) -> np.ndarray:\n",
    "    model.load_state_dict(torch.load(path, map_location=device)[\"model_state_dict\"])\n",
    "    model.to(device)    \n",
    "    model.eval()\n",
    "    \n",
    "    y_pred = torch.zeros(1, 1).to(device)\n",
    "    \n",
    "    for X in dataloader:\n",
    "        X = X.to(device)\n",
    "        with torch.no_grad():\n",
    "            output = torch.argmax(torch.exp(model(X)), dim=1)\n",
    "        y_pred = torch.cat((y_pred, output.view(-1, 1)), dim=0)\n",
    "    \n",
    "    return y_pred[1:].detach().cpu().numpy()"
   ]
  },
  {
   "cell_type": "markdown",
   "id": "5cb90343",
   "metadata": {
    "papermill": {
     "duration": 0.004509,
     "end_time": "2022-10-31T10:09:48.497477",
     "exception": false,
     "start_time": "2022-10-31T10:09:48.492968",
     "status": "completed"
    },
    "tags": []
   },
   "source": [
    "### **Train**"
   ]
  },
  {
   "cell_type": "code",
   "execution_count": 8,
   "id": "453865a1",
   "metadata": {
    "execution": {
     "iopub.execute_input": "2022-10-31T10:09:48.507930Z",
     "iopub.status.busy": "2022-10-31T10:09:48.507675Z",
     "iopub.status.idle": "2022-10-31T10:09:48.512416Z",
     "shell.execute_reply": "2022-10-31T10:09:48.511631Z"
    },
    "papermill": {
     "duration": 0.012259,
     "end_time": "2022-10-31T10:09:48.514397",
     "exception": false,
     "start_time": "2022-10-31T10:09:48.502138",
     "status": "completed"
    },
    "tags": []
   },
   "outputs": [],
   "source": [
    "# tr_df = pd.read_csv(\"../input/twf-dataframe/dataframe.csv\")\n",
    "\n",
    "# filepaths = tr_df.filepaths.copy().values\n",
    "# labels = tr_df.labels.copy().values"
   ]
  },
  {
   "cell_type": "code",
   "execution_count": 9,
   "id": "a859a4fd",
   "metadata": {
    "execution": {
     "iopub.execute_input": "2022-10-31T10:09:48.526084Z",
     "iopub.status.busy": "2022-10-31T10:09:48.525811Z",
     "iopub.status.idle": "2022-10-31T10:09:48.531658Z",
     "shell.execute_reply": "2022-10-31T10:09:48.530747Z"
    },
    "papermill": {
     "duration": 0.014318,
     "end_time": "2022-10-31T10:09:48.533682",
     "exception": false,
     "start_time": "2022-10-31T10:09:48.519364",
     "status": "completed"
    },
    "tags": []
   },
   "outputs": [],
   "source": [
    "# fold: int = 1\n",
    "# BLs: list = []\n",
    "# BAs: list = []\n",
    "\n",
    "# # # Test \n",
    "# # cfg.epochs = 2\n",
    "# # cfg.n_splits = 3\n",
    "\n",
    "# for tr_idx, va_idx in StratifiedKFold(n_splits=cfg.n_splits, random_state=cfg.seed, shuffle=True).split(filepaths, labels):\n",
    "#     if fold == 1: break\n",
    "#     fold += 1\n",
    "\n",
    "# tr_filepaths, va_filepaths = filepaths[tr_idx], filepaths[va_idx] \n",
    "# tr_labels, va_labels       = labels[tr_idx], labels[va_idx]\n",
    "\n",
    "# tr_data_setup = DS(\n",
    "#     filepaths=tr_filepaths, \n",
    "#     labels=tr_labels.reshape(-1, 1),\n",
    "#     size=cfg.size,\n",
    "#     transform=cfg.train_transform\n",
    "# )\n",
    "\n",
    "# va_data_setup = DS(\n",
    "#     filepaths=va_filepaths, \n",
    "#     labels=va_labels.reshape(-1, 1),\n",
    "#     size=cfg.size,\n",
    "#     transform=cfg.valid_transform\n",
    "# )\n",
    "\n",
    "# dataloaders = {\n",
    "#     \"train\" : DL(tr_data_setup, batch_size=cfg.batch_size, shuffle=True, generator=torch.manual_seed(cfg.seed)),\n",
    "#     \"valid\" : DL(va_data_setup, batch_size=cfg.batch_size, shuffle=False),\n",
    "# }\n",
    "\n",
    "# cfg.steps_per_epoch = len(dataloaders[\"train\"])\n",
    "\n",
    "# torch.manual_seed(cfg.seed)\n",
    "# model = Model().to(cfg.device)\n",
    "\n",
    "# optimizer = optim.Adam([p for p in model.parameters() if p.requires_grad], lr=cfg.lr, weight_decay=cfg.wd)\n",
    "# # optimizer = optim.AdamW([p for p in model.parameters() if p.requires_grad], lr=cfg.lr, weight_decay=cfg.wd)\n",
    "# # optimizer = optim.SGD([p for p in model.parameters() if p.requires_grad], lr=cfg.lr, weight_decay=cfg.wd, momentum=0.9)\n",
    "\n",
    "# scheduler_oclr = optim.lr_scheduler.OneCycleLR(\n",
    "#     optimizer=optimizer, \n",
    "#     max_lr=cfg.max_lr, \n",
    "#     epochs=cfg.epochs, \n",
    "#     steps_per_epoch=cfg.steps_per_epoch,\n",
    "#     pct_start=cfg.pct_start, \n",
    "#     div_factor=cfg.div_factor, \n",
    "#     final_div_factor=cfg.final_div_factor\n",
    "# )\n",
    "\n",
    "# # scheduler_rlrop = optim.lr_scheduler.ReduceLROnPlateau(\n",
    "# #     optimizer=optimizer,\n",
    "# #     patience=cfg.patience,\n",
    "# #     eps=cfg.eps,\n",
    "# #     verbose=True\n",
    "# # )\n",
    "\n",
    "# # scheduler_oclr = None\n",
    "# scheduler_rlrop = None\n",
    "\n",
    "# L, A, LR, BL, BA, _, _, _, _ = fit(\n",
    "#     model=model, \n",
    "#     optimizer=optimizer, \n",
    "#     scheduler_oclr=scheduler_oclr,\n",
    "#     scheduler_rlrop=scheduler_rlrop,\n",
    "#     epochs=cfg.epochs, \n",
    "#     early_stopping_patience=cfg.early_stopping, \n",
    "#     dataloaders=dataloaders, \n",
    "#     device=cfg.device,\n",
    "#     save_path=cfg.save_path,\n",
    "#     fold=fold,\n",
    "#     verbose=True\n",
    "# )\n",
    "\n",
    "# breaker()\n",
    "# show_loss_graphs(L)\n",
    "# breaker()\n",
    "# show_accuracy_graphs(A)\n",
    "# breaker()\n",
    "# if scheduler_oclr:\n",
    "#     show_lr_graph(LR)\n",
    "#     breaker()\n",
    "\n",
    "# # BLs.append(BL)\n",
    "# # BAs.append(BA)\n",
    "\n",
    "# # fold += 1"
   ]
  },
  {
   "cell_type": "markdown",
   "id": "5d1b7462",
   "metadata": {
    "papermill": {
     "duration": 0.00486,
     "end_time": "2022-10-31T10:09:48.543280",
     "exception": false,
     "start_time": "2022-10-31T10:09:48.538420",
     "status": "completed"
    },
    "tags": []
   },
   "source": [
    "### **Best Model**"
   ]
  },
  {
   "cell_type": "code",
   "execution_count": 10,
   "id": "1b59ff6b",
   "metadata": {
    "execution": {
     "iopub.execute_input": "2022-10-31T10:09:48.553792Z",
     "iopub.status.busy": "2022-10-31T10:09:48.553532Z",
     "iopub.status.idle": "2022-10-31T10:09:48.557599Z",
     "shell.execute_reply": "2022-10-31T10:09:48.556617Z"
    },
    "papermill": {
     "duration": 0.01179,
     "end_time": "2022-10-31T10:09:48.559891",
     "exception": false,
     "start_time": "2022-10-31T10:09:48.548101",
     "status": "completed"
    },
    "tags": []
   },
   "outputs": [],
   "source": [
    "# BL = np.inf\n",
    "# for i in range(len(BLs)):\n",
    "#     if BLs[i][\"valid\"] < BL:\n",
    "#         BL = BLs[i][\"valid\"]\n",
    "#         best_loss_index = i\n",
    "\n",
    "        \n",
    "# BA = 0.0\n",
    "# for i in range(len(BAs)):\n",
    "#     if BAs[i][\"valid\"] > BA:\n",
    "#         BA = BAs[i][\"valid\"]\n",
    "#         best_accs_index = i\n",
    "\n",
    "# breaker()\n",
    "# print(f\"Best Loss Model Fold     : {best_loss_index + 1}\")\n",
    "# print(f\"Best Accuracy Model Fold : {best_accs_index + 1}\")\n",
    "# breaker()"
   ]
  },
  {
   "cell_type": "markdown",
   "id": "199944b2",
   "metadata": {
    "papermill": {
     "duration": 0.004647,
     "end_time": "2022-10-31T10:09:48.569331",
     "exception": false,
     "start_time": "2022-10-31T10:09:48.564684",
     "status": "completed"
    },
    "tags": []
   },
   "source": [
    "### **Submission**"
   ]
  },
  {
   "cell_type": "code",
   "execution_count": 11,
   "id": "3edc9e54",
   "metadata": {
    "execution": {
     "iopub.execute_input": "2022-10-31T10:09:48.579761Z",
     "iopub.status.busy": "2022-10-31T10:09:48.579501Z",
     "iopub.status.idle": "2022-10-31T10:09:52.388802Z",
     "shell.execute_reply": "2022-10-31T10:09:52.387764Z"
    },
    "papermill": {
     "duration": 3.817219,
     "end_time": "2022-10-31T10:09:52.391192",
     "exception": false,
     "start_time": "2022-10-31T10:09:48.573973",
     "status": "completed"
    },
    "tags": []
   },
   "outputs": [],
   "source": [
    "ss_df = pd.read_csv(\"../input/111-1-ntut-ee-ai-hw2/tw_food_101_test_pred.csv\")\n",
    "ts_filepaths = list(ss_df.Id.copy().values)\n",
    "ts_filepaths = [str(name) for name in ts_filepaths]\n",
    "\n",
    "ts_filenames = sorted(os.listdir(\"../input/taiwanese-food-101/tw_food_101/tw_food_101/test\"))\n",
    "\n",
    "for i in range(len(ts_filenames)):\n",
    "    if ts_filenames[i].split(\".\")[0] in ts_filepaths:\n",
    "        ts_filepaths[ts_filepaths.index(ts_filenames[i].split(\".\")[0])] = ts_filenames[i]\n",
    "    \n",
    "ts_filepaths = [os.path.join(\"../input/taiwanese-food-101/tw_food_101/tw_food_101/test\", ts_filepath) for ts_filepath in ts_filepaths]\n",
    "\n",
    "model = Model().to(cfg.device)\n",
    "\n",
    "ts_data_setup = DS(\n",
    "    filepaths=ts_filepaths, \n",
    "    labels=None,\n",
    "    size=cfg.size,\n",
    "    transform=cfg.valid_transform\n",
    ")\n",
    "ts_data = DL(ts_data_setup, batch_size=16, shuffle=False)\n",
    "\n"
   ]
  },
  {
   "cell_type": "code",
   "execution_count": 12,
   "id": "4c6835e5",
   "metadata": {
    "execution": {
     "iopub.execute_input": "2022-10-31T10:09:52.402451Z",
     "iopub.status.busy": "2022-10-31T10:09:52.402129Z",
     "iopub.status.idle": "2022-10-31T10:19:29.556534Z",
     "shell.execute_reply": "2022-10-31T10:19:29.555468Z"
    },
    "papermill": {
     "duration": 577.162799,
     "end_time": "2022-10-31T10:19:29.559092",
     "exception": false,
     "start_time": "2022-10-31T10:09:52.396293",
     "status": "completed"
    },
    "tags": []
   },
   "outputs": [],
   "source": [
    "y_pred_1_a = predict_batch(\n",
    "    model=model, \n",
    "    dataloader=ts_data, \n",
    "    path=\"../input/twf-en4-a384-f1/saves/bae_state_fold_1.pt\", \n",
    "    device=cfg.device\n",
    ")\n",
    "\n",
    "y_pred_2_a = predict_batch(\n",
    "    model=model, \n",
    "    dataloader=ts_data, \n",
    "    path=\"../input/twf-en4-a384-f2/saves/bae_state_fold_2.pt\", \n",
    "    device=cfg.device\n",
    ")\n",
    "\n",
    "y_pred_3_a = predict_batch(\n",
    "    model=model, \n",
    "    dataloader=ts_data, \n",
    "    path=\"../input/twf-en4-a384-f3/saves/bae_state_fold_3.pt\", \n",
    "    device=cfg.device\n",
    ")\n",
    "\n",
    "y_pred_4_a = predict_batch(\n",
    "    model=model, \n",
    "    dataloader=ts_data, \n",
    "    path=\"../input/twf-en4-a384-f4/saves/bae_state_fold_4.pt\", \n",
    "    device=cfg.device\n",
    ")\n",
    "\n",
    "y_pred_5_a = predict_batch(\n",
    "    model=model, \n",
    "    dataloader=ts_data, \n",
    "    path=\"../input/twf-en4-a384-f5/saves/bae_state_fold_5.pt\", \n",
    "    device=cfg.device\n",
    ")"
   ]
  },
  {
   "cell_type": "code",
   "execution_count": 13,
   "id": "b46e5c9a",
   "metadata": {
    "execution": {
     "iopub.execute_input": "2022-10-31T10:19:29.572299Z",
     "iopub.status.busy": "2022-10-31T10:19:29.570579Z",
     "iopub.status.idle": "2022-10-31T10:28:23.543918Z",
     "shell.execute_reply": "2022-10-31T10:28:23.542944Z"
    },
    "papermill": {
     "duration": 533.981798,
     "end_time": "2022-10-31T10:28:23.546405",
     "exception": false,
     "start_time": "2022-10-31T10:19:29.564607",
     "status": "completed"
    },
    "tags": []
   },
   "outputs": [],
   "source": [
    "y_pred_1_l = predict_batch(\n",
    "    model=model, \n",
    "    dataloader=ts_data, \n",
    "    path=\"../input/twf-en4-a384-f1/saves/ble_state_fold_1.pt\", \n",
    "    device=cfg.device\n",
    ")\n",
    "\n",
    "y_pred_2_l = predict_batch(\n",
    "    model=model, \n",
    "    dataloader=ts_data, \n",
    "    path=\"../input/twf-en4-a384-f2/saves/ble_state_fold_2.pt\", \n",
    "    device=cfg.device\n",
    ")\n",
    "\n",
    "y_pred_3_l = predict_batch(\n",
    "    model=model, \n",
    "    dataloader=ts_data, \n",
    "    path=\"../input/twf-en4-a384-f3/saves/ble_state_fold_3.pt\", \n",
    "    device=cfg.device\n",
    ")\n",
    "\n",
    "y_pred_4_l = predict_batch(\n",
    "    model=model, \n",
    "    dataloader=ts_data, \n",
    "    path=\"../input/twf-en4-a384-f4/saves/ble_state_fold_4.pt\", \n",
    "    device=cfg.device\n",
    ")\n",
    "\n",
    "y_pred_5_l = predict_batch(\n",
    "    model=model, \n",
    "    dataloader=ts_data, \n",
    "    path=\"../input/twf-en4-a384-f5/saves/ble_state_fold_5.pt\", \n",
    "    device=cfg.device\n",
    ")"
   ]
  },
  {
   "cell_type": "code",
   "execution_count": 14,
   "id": "f325cae6",
   "metadata": {
    "execution": {
     "iopub.execute_input": "2022-10-31T10:28:23.557812Z",
     "iopub.status.busy": "2022-10-31T10:28:23.557499Z",
     "iopub.status.idle": "2022-10-31T10:28:23.701721Z",
     "shell.execute_reply": "2022-10-31T10:28:23.699391Z"
    },
    "papermill": {
     "duration": 0.157564,
     "end_time": "2022-10-31T10:28:23.709236",
     "exception": false,
     "start_time": "2022-10-31T10:28:23.551672",
     "status": "completed"
    },
    "tags": []
   },
   "outputs": [],
   "source": [
    "y_pred = np.concatenate((\n",
    "    y_pred_1_a.reshape(1, -1),\n",
    "    y_pred_2_a.reshape(1, -1),\n",
    "    y_pred_3_a.reshape(1, -1),\n",
    "    y_pred_4_a.reshape(1, -1),\n",
    "    y_pred_5_a.reshape(1, -1),\n",
    "    y_pred_1_l.reshape(1, -1),\n",
    "    y_pred_2_l.reshape(1, -1),\n",
    "    y_pred_3_l.reshape(1, -1),\n",
    "    y_pred_4_l.reshape(1, -1),\n",
    "    y_pred_5_l.reshape(1, -1),\n",
    "), axis=0)\n",
    "\n",
    "y_pred = stats.mode(y_pred)[0]\n",
    "\n",
    "ss_df.Category = y_pred.astype(\"uint8\").reshape(-1)\n",
    "ss_df.to_csv(\"submission.csv\", index=False)"
   ]
  }
 ],
 "metadata": {
  "kernelspec": {
   "display_name": "Python 3",
   "language": "python",
   "name": "python3"
  },
  "language_info": {
   "codemirror_mode": {
    "name": "ipython",
    "version": 3
   },
   "file_extension": ".py",
   "mimetype": "text/x-python",
   "name": "python",
   "nbconvert_exporter": "python",
   "pygments_lexer": "ipython3",
   "version": "3.7.12"
  },
  "papermill": {
   "default_parameters": {},
   "duration": 1139.775417,
   "end_time": "2022-10-31T10:28:26.008210",
   "environment_variables": {},
   "exception": null,
   "input_path": "__notebook__.ipynb",
   "output_path": "__notebook__.ipynb",
   "parameters": {},
   "start_time": "2022-10-31T10:09:26.232793",
   "version": "2.3.4"
  }
 },
 "nbformat": 4,
 "nbformat_minor": 5
}
