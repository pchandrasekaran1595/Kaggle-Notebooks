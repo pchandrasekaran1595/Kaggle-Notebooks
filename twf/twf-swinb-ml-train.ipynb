{
 "cells": [
  {
   "cell_type": "code",
   "execution_count": 1,
   "id": "e13bbd9a",
   "metadata": {
    "_cell_guid": "b1076dfc-b9ad-4769-8c92-a6c4dae69d19",
    "_uuid": "8f2839f25d086af736a60e9eeb907d3b93b6e0e5",
    "execution": {
     "iopub.execute_input": "2022-10-26T15:17:52.449031Z",
     "iopub.status.busy": "2022-10-26T15:17:52.448278Z",
     "iopub.status.idle": "2022-10-26T15:17:53.980020Z",
     "shell.execute_reply": "2022-10-26T15:17:53.978665Z"
    },
    "papermill": {
     "duration": 1.540633,
     "end_time": "2022-10-26T15:17:53.983142",
     "exception": false,
     "start_time": "2022-10-26T15:17:52.442509",
     "status": "completed"
    },
    "tags": []
   },
   "outputs": [],
   "source": [
    "import os\n",
    "import pickle\n",
    "import numpy as np\n",
    "import pandas as pd\n",
    "import random as r\n",
    "import seaborn as sns\n",
    "import matplotlib.pyplot as plt\n",
    "\n",
    "from time import time\n",
    "from sklearn.pipeline import Pipeline\n",
    "from sklearn.model_selection import StratifiedKFold\n",
    "\n",
    "from sklearn.neighbors import KNeighborsClassifier\n",
    "from sklearn.linear_model import LogisticRegression\n",
    "from sklearn.svm import SVC\n",
    "\n",
    "from sklearn.metrics import accuracy_score"
   ]
  },
  {
   "cell_type": "code",
   "execution_count": 2,
   "id": "419ed5bf",
   "metadata": {
    "execution": {
     "iopub.execute_input": "2022-10-26T15:17:53.991261Z",
     "iopub.status.busy": "2022-10-26T15:17:53.990373Z",
     "iopub.status.idle": "2022-10-26T15:17:53.996399Z",
     "shell.execute_reply": "2022-10-26T15:17:53.995484Z"
    },
    "papermill": {
     "duration": 0.012377,
     "end_time": "2022-10-26T15:17:53.998711",
     "exception": false,
     "start_time": "2022-10-26T15:17:53.986334",
     "status": "completed"
    },
    "tags": []
   },
   "outputs": [],
   "source": [
    "def breaker() -> None: print(\"\\n\" + 50*\"*\" + \"\\n\")"
   ]
  },
  {
   "cell_type": "code",
   "execution_count": 3,
   "id": "09b1e8ec",
   "metadata": {
    "execution": {
     "iopub.execute_input": "2022-10-26T15:17:54.006862Z",
     "iopub.status.busy": "2022-10-26T15:17:54.006112Z",
     "iopub.status.idle": "2022-10-26T15:17:54.013854Z",
     "shell.execute_reply": "2022-10-26T15:17:54.012308Z"
    },
    "papermill": {
     "duration": 0.016718,
     "end_time": "2022-10-26T15:17:54.018383",
     "exception": false,
     "start_time": "2022-10-26T15:17:54.001665",
     "status": "completed"
    },
    "tags": []
   },
   "outputs": [],
   "source": [
    "class CFG(object):\n",
    "    def __init__(self,\n",
    "                 seed: int = 42,\n",
    "                 n_splits: int = 5,\n",
    "                 show_info: bool = False,\n",
    "                 ):\n",
    "\n",
    "        self.seed = seed\n",
    "        self.n_splits = n_splits\n",
    "        self.show_info = show_info\n",
    "        self.features_path = \"../input/twf-swinb-features\"\n",
    "        self.model_save_path = \"models\"\n",
    "        if not os.path.exists(self.model_save_path): os.makedirs(self.model_save_path)\n",
    "\n",
    "cfg = CFG(seed=42, show_info=True)"
   ]
  },
  {
   "cell_type": "code",
   "execution_count": 4,
   "id": "82a832c7",
   "metadata": {
    "execution": {
     "iopub.execute_input": "2022-10-26T15:17:54.028330Z",
     "iopub.status.busy": "2022-10-26T15:17:54.027742Z",
     "iopub.status.idle": "2022-10-26T15:17:54.154646Z",
     "shell.execute_reply": "2022-10-26T15:17:54.153161Z"
    },
    "papermill": {
     "duration": 0.134461,
     "end_time": "2022-10-26T15:17:54.157463",
     "exception": false,
     "start_time": "2022-10-26T15:17:54.023002",
     "status": "completed"
    },
    "tags": []
   },
   "outputs": [],
   "source": [
    "y = pd.read_csv(\"../input/twf-dataframe/dataframe.csv\")\n",
    "y = y[\"labels\"].copy().values"
   ]
  },
  {
   "cell_type": "code",
   "execution_count": 5,
   "id": "c58f1a55",
   "metadata": {
    "execution": {
     "iopub.execute_input": "2022-10-26T15:17:54.165377Z",
     "iopub.status.busy": "2022-10-26T15:17:54.164368Z",
     "iopub.status.idle": "2022-10-26T15:17:54.172292Z",
     "shell.execute_reply": "2022-10-26T15:17:54.171267Z"
    },
    "papermill": {
     "duration": 0.014062,
     "end_time": "2022-10-26T15:17:54.174595",
     "exception": false,
     "start_time": "2022-10-26T15:17:54.160533",
     "status": "completed"
    },
    "tags": []
   },
   "outputs": [],
   "source": [
    "class Pipelines(object):\n",
    "    def __init__(self, model_name: str, seed: int):\n",
    "        self.model_name = model_name\n",
    "\n",
    "        if self.model_name == \"lgr\":\n",
    "            self.model = Pipeline(\n",
    "                steps=[\n",
    "                    (\"classifier\", LogisticRegression(random_state=seed, max_iter=1000)),\n",
    "                ]\n",
    "            )\n",
    "        \n",
    "        elif self.model_name == \"knc\":\n",
    "            self.model = Pipeline(\n",
    "                steps=[\n",
    "                    (\"classifier\", KNeighborsClassifier()),\n",
    "                ]\n",
    "            )\n",
    "\n",
    "        elif self.model_name == \"svc\":\n",
    "            self.model = Pipeline(\n",
    "                steps=[\n",
    "                    (\"classifier\", SVC(random_state=seed)),\n",
    "                ]\n",
    "            )"
   ]
  },
  {
   "cell_type": "code",
   "execution_count": 6,
   "id": "19df9c72",
   "metadata": {
    "execution": {
     "iopub.execute_input": "2022-10-26T15:17:54.183265Z",
     "iopub.status.busy": "2022-10-26T15:17:54.181599Z",
     "iopub.status.idle": "2022-10-26T15:56:34.190291Z",
     "shell.execute_reply": "2022-10-26T15:56:34.188903Z"
    },
    "papermill": {
     "duration": 2320.015465,
     "end_time": "2022-10-26T15:56:34.193045",
     "exception": false,
     "start_time": "2022-10-26T15:17:54.177580",
     "status": "completed"
    },
    "tags": []
   },
   "outputs": [
    {
     "name": "stdout",
     "output_type": "stream",
     "text": [
      "\n",
      "**************************************************\n",
      "\n",
      "SWIN_BASE_PATCH4_WINDOW12_384_IN22K\n",
      "\n",
      "**************************************************\n",
      "\n",
      "lgr, 1, Accuracy : 0.88663\n",
      "lgr, 2, Accuracy : 0.88589\n",
      "lgr, 3, Accuracy : 0.88439\n",
      "lgr, 4, Accuracy : 0.89863\n",
      "lgr, 5, Accuracy : 0.89126\n",
      "\n",
      "Best : swin_base_patch4_window12_384_in22k_lgr_4\n",
      "\n",
      "**************************************************\n",
      "\n",
      "knc, 1, Accuracy : 0.71436\n",
      "knc, 2, Accuracy : 0.72025\n",
      "knc, 3, Accuracy : 0.72288\n",
      "knc, 4, Accuracy : 0.72067\n",
      "knc, 5, Accuracy : 0.71674\n",
      "\n",
      "Best : swin_base_patch4_window12_384_in22k_knc_3\n",
      "\n",
      "**************************************************\n",
      "\n",
      "svc, 1, Accuracy : 0.84785\n",
      "svc, 2, Accuracy : 0.85006\n",
      "svc, 3, Accuracy : 0.85101\n",
      "svc, 4, Accuracy : 0.86033\n",
      "svc, 5, Accuracy : 0.84880\n",
      "\n",
      "Best : swin_base_patch4_window12_384_in22k_svc_4\n",
      "\n",
      "**************************************************\n",
      "\n",
      "Overall Best Model : swin_base_patch4_window12_384_in22k_lgr_4\n",
      "\n",
      "**************************************************\n",
      "\n"
     ]
    }
   ],
   "source": [
    "names: list = [\n",
    "    \"lgr\", \n",
    "    \"knc\", \n",
    "    \"svc\",\n",
    "]\n",
    "\n",
    "model_names: list = [\n",
    "    \"swin_base_patch4_window12_384_in22k\",\n",
    "]\n",
    "\n",
    "overall_best_acc: float = 0.0\n",
    "for model_name in model_names:\n",
    "    X = np.load(os.path.join(cfg.features_path, f\"tr_{model_name}.npy\"))\n",
    "    if cfg.show_info: \n",
    "        breaker()\n",
    "        print(f\"{model_name.upper()}\")\n",
    "    for name in names:\n",
    "        fold: int = 1\n",
    "        best_name: str = None\n",
    "        best_acc: float = 0.0\n",
    "        if cfg.show_info: breaker()\n",
    "        for tr_idx, va_idx in StratifiedKFold(n_splits=cfg.n_splits, random_state=cfg.seed, shuffle=True).split(X, y):\n",
    "            X_train, X_valid, y_train, y_valid = X[tr_idx], X[va_idx], y[tr_idx], y[va_idx]\n",
    "            my_pipeline = Pipelines(name, cfg.seed)\n",
    "            my_pipeline.model.fit(X_train, y_train)\n",
    "\n",
    "            y_pred = my_pipeline.model.predict(X_valid)\n",
    "            if cfg.show_info:\n",
    "                acc = accuracy_score(y_pred, y_valid)\n",
    "                print(f\"{my_pipeline.model_name}, {fold}, Accuracy : {acc:.5f}\")\n",
    "            else:\n",
    "                acc = accuracy_score(y_pred, y_valid)\n",
    "\n",
    "            if acc > overall_best_acc:\n",
    "                overall_best_acc = acc\n",
    "                overall_best_name = f\"{model_name}_{name}_{fold}\"\n",
    "\n",
    "            if acc > best_acc:\n",
    "                best_acc = acc\n",
    "                best_name = f\"{model_name}_{name}_{fold}\"\n",
    "\n",
    "            with open(os.path.join(cfg.model_save_path, f\"{model_name}_{name}_{fold}.pkl\"), \"wb\") as fp: pickle.dump(my_pipeline.model, fp)\n",
    "            fold += 1\n",
    "\n",
    "        print(f\"\\nBest : {best_name}\")\n",
    "\n",
    "\n",
    "if cfg.show_info: \n",
    "    breaker()\n",
    "    print(f\"Overall Best Model : {overall_best_name}\")\n",
    "\n",
    "breaker()"
   ]
  },
  {
   "cell_type": "code",
   "execution_count": 7,
   "id": "b5569c27",
   "metadata": {
    "execution": {
     "iopub.execute_input": "2022-10-26T15:56:34.203598Z",
     "iopub.status.busy": "2022-10-26T15:56:34.203217Z",
     "iopub.status.idle": "2022-10-26T15:56:35.167452Z",
     "shell.execute_reply": "2022-10-26T15:56:35.165871Z"
    },
    "papermill": {
     "duration": 0.974014,
     "end_time": "2022-10-26T15:56:35.171949",
     "exception": false,
     "start_time": "2022-10-26T15:56:34.197935",
     "status": "completed"
    },
    "tags": []
   },
   "outputs": [],
   "source": [
    "ts_features = np.load(os.path.join(cfg.features_path, f\"ts_{model_names[0]}.npy\"))\n",
    "model = pickle.load(open(os.path.join(cfg.model_save_path, f\"{overall_best_name}.pkl\"), \"rb\"))\n",
    "y_pred = model.predict(ts_features)\n",
    "\n",
    "ss_df = pd.read_csv(\"../input/111-1-ntut-dl-app-hw2/tw_food_101_test_pred.csv\")\n",
    "ss_df.Category = y_pred.astype(\"uint8\")\n",
    "ss_df.to_csv(\"submission.csv\", index=False)"
   ]
  },
  {
   "cell_type": "code",
   "execution_count": null,
   "id": "9f73ce8d",
   "metadata": {
    "papermill": {
     "duration": 0.009008,
     "end_time": "2022-10-26T15:56:35.190482",
     "exception": false,
     "start_time": "2022-10-26T15:56:35.181474",
     "status": "completed"
    },
    "tags": []
   },
   "outputs": [],
   "source": []
  }
 ],
 "metadata": {
  "kernelspec": {
   "display_name": "Python 3",
   "language": "python",
   "name": "python3"
  },
  "language_info": {
   "codemirror_mode": {
    "name": "ipython",
    "version": 3
   },
   "file_extension": ".py",
   "mimetype": "text/x-python",
   "name": "python",
   "nbconvert_exporter": "python",
   "pygments_lexer": "ipython3",
   "version": "3.7.12"
  },
  "papermill": {
   "default_parameters": {},
   "duration": 2334.489968,
   "end_time": "2022-10-26T15:56:38.266051",
   "environment_variables": {},
   "exception": null,
   "input_path": "__notebook__.ipynb",
   "output_path": "__notebook__.ipynb",
   "parameters": {},
   "start_time": "2022-10-26T15:17:43.776083",
   "version": "2.3.4"
  }
 },
 "nbformat": 4,
 "nbformat_minor": 5
}
