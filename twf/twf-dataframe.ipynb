{
 "cells": [
  {
   "cell_type": "code",
   "execution_count": 1,
   "id": "d49437c3",
   "metadata": {
    "_cell_guid": "b1076dfc-b9ad-4769-8c92-a6c4dae69d19",
    "_uuid": "8f2839f25d086af736a60e9eeb907d3b93b6e0e5",
    "execution": {
     "iopub.execute_input": "2022-10-23T04:44:18.753922Z",
     "iopub.status.busy": "2022-10-23T04:44:18.753271Z",
     "iopub.status.idle": "2022-10-23T04:44:19.025426Z",
     "shell.execute_reply": "2022-10-23T04:44:19.023721Z"
    },
    "papermill": {
     "duration": 0.280443,
     "end_time": "2022-10-23T04:44:19.028672",
     "exception": false,
     "start_time": "2022-10-23T04:44:18.748229",
     "status": "completed"
    },
    "tags": []
   },
   "outputs": [],
   "source": [
    "import os\n",
    "import cv2\n",
    "import numpy as np\n",
    "import pandas as pd\n",
    "\n",
    "BASE_PATH: str = \"../input/taiwanese-food-101/tw_food_101/tw_food_101/train\""
   ]
  },
  {
   "cell_type": "code",
   "execution_count": 2,
   "id": "02f13e67",
   "metadata": {
    "execution": {
     "iopub.execute_input": "2022-10-23T04:44:19.034816Z",
     "iopub.status.busy": "2022-10-23T04:44:19.033907Z",
     "iopub.status.idle": "2022-10-23T04:44:19.049165Z",
     "shell.execute_reply": "2022-10-23T04:44:19.047276Z"
    },
    "papermill": {
     "duration": 0.022068,
     "end_time": "2022-10-23T04:44:19.052880",
     "exception": false,
     "start_time": "2022-10-23T04:44:19.030812",
     "status": "completed"
    },
    "tags": []
   },
   "outputs": [],
   "source": [
    "df: pd.DataFrame = pd.DataFrame(data=None, columns=[\"filepaths\", \"labels\"])"
   ]
  },
  {
   "cell_type": "code",
   "execution_count": 3,
   "id": "b2432304",
   "metadata": {
    "execution": {
     "iopub.execute_input": "2022-10-23T04:44:19.063718Z",
     "iopub.status.busy": "2022-10-23T04:44:19.062976Z",
     "iopub.status.idle": "2022-10-23T04:44:22.209964Z",
     "shell.execute_reply": "2022-10-23T04:44:22.208843Z"
    },
    "papermill": {
     "duration": 3.154362,
     "end_time": "2022-10-23T04:44:22.212725",
     "exception": false,
     "start_time": "2022-10-23T04:44:19.058363",
     "status": "completed"
    },
    "tags": []
   },
   "outputs": [],
   "source": [
    "filepaths: list = []\n",
    "labels: list = []\n",
    "i: int = 0\n",
    "    \n",
    "for folder in sorted(os.listdir(f\"{BASE_PATH}\")):\n",
    "    for filename in os.listdir(f\"{BASE_PATH}/{folder}\"):\n",
    "        filepaths.append(os.path.join(f\"{BASE_PATH}/{folder}\", filename))\n",
    "        labels.append(i)\n",
    "    i += 1\n",
    "\n",
    "df.filepaths = filepaths\n",
    "df.labels = labels\n",
    "df.to_csv(\"dataframe.csv\", index=False)"
   ]
  }
 ],
 "metadata": {
  "kernelspec": {
   "display_name": "Python 3",
   "language": "python",
   "name": "python3"
  },
  "language_info": {
   "codemirror_mode": {
    "name": "ipython",
    "version": 3
   },
   "file_extension": ".py",
   "mimetype": "text/x-python",
   "name": "python",
   "nbconvert_exporter": "python",
   "pygments_lexer": "ipython3",
   "version": "3.7.12"
  },
  "papermill": {
   "default_parameters": {},
   "duration": 12.93916,
   "end_time": "2022-10-23T04:44:22.938214",
   "environment_variables": {},
   "exception": null,
   "input_path": "__notebook__.ipynb",
   "output_path": "__notebook__.ipynb",
   "parameters": {},
   "start_time": "2022-10-23T04:44:09.999054",
   "version": "2.3.4"
  }
 },
 "nbformat": 4,
 "nbformat_minor": 5
}
