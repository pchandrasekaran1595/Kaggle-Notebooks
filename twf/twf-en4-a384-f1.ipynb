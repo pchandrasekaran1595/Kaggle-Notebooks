{
 "cells": [
  {
   "cell_type": "markdown",
   "id": "ad10c8dc",
   "metadata": {
    "_cell_guid": "b1076dfc-b9ad-4769-8c92-a6c4dae69d19",
    "_uuid": "8f2839f25d086af736a60e9eeb907d3b93b6e0e5",
    "papermill": {
     "duration": 0.005091,
     "end_time": "2022-10-25T13:16:57.229639",
     "exception": false,
     "start_time": "2022-10-25T13:16:57.224548",
     "status": "completed"
    },
    "tags": []
   },
   "source": [
    "### **Setup**"
   ]
  },
  {
   "cell_type": "code",
   "execution_count": 1,
   "id": "4d572b6c",
   "metadata": {
    "execution": {
     "iopub.execute_input": "2022-10-25T13:16:57.239855Z",
     "iopub.status.busy": "2022-10-25T13:16:57.239148Z",
     "iopub.status.idle": "2022-10-25T13:17:07.729852Z",
     "shell.execute_reply": "2022-10-25T13:17:07.728779Z"
    },
    "papermill": {
     "duration": 10.498492,
     "end_time": "2022-10-25T13:17:07.732275",
     "exception": false,
     "start_time": "2022-10-25T13:16:57.233783",
     "status": "completed"
    },
    "tags": []
   },
   "outputs": [
    {
     "name": "stderr",
     "output_type": "stream",
     "text": [
      "WARNING: Running pip as the 'root' user can result in broken permissions and conflicting behaviour with the system package manager. It is recommended to use a virtual environment instead: https://pip.pypa.io/warnings/venv\n"
     ]
    }
   ],
   "source": [
    "%%bash\n",
    "pip install timm -q"
   ]
  },
  {
   "cell_type": "markdown",
   "id": "97246d1a",
   "metadata": {
    "papermill": {
     "duration": 0.003833,
     "end_time": "2022-10-25T13:17:07.740404",
     "exception": false,
     "start_time": "2022-10-25T13:17:07.736571",
     "status": "completed"
    },
    "tags": []
   },
   "source": [
    "### **Library Imports**"
   ]
  },
  {
   "cell_type": "code",
   "execution_count": 2,
   "id": "1dbcfee7",
   "metadata": {
    "execution": {
     "iopub.execute_input": "2022-10-25T13:17:07.750376Z",
     "iopub.status.busy": "2022-10-25T13:17:07.749443Z",
     "iopub.status.idle": "2022-10-25T13:17:11.732464Z",
     "shell.execute_reply": "2022-10-25T13:17:11.731375Z"
    },
    "papermill": {
     "duration": 3.990571,
     "end_time": "2022-10-25T13:17:11.734904",
     "exception": false,
     "start_time": "2022-10-25T13:17:07.744333",
     "status": "completed"
    },
    "tags": []
   },
   "outputs": [],
   "source": [
    "import os\n",
    "import re\n",
    "import cv2\n",
    "import timm\n",
    "import torch\n",
    "import numpy as np\n",
    "import pandas as pd\n",
    "import matplotlib.pyplot as plt\n",
    "\n",
    "from time import time\n",
    "from PIL import Image\n",
    "from scipy import stats\n",
    "from typing import Union\n",
    "from torch import nn, optim\n",
    "from torch.utils.data import Dataset\n",
    "from torch.utils.data import DataLoader as DL\n",
    "from torchvision import models, transforms\n",
    "\n",
    "from sklearn.metrics import accuracy_score\n",
    "from sklearn.model_selection import StratifiedKFold"
   ]
  },
  {
   "cell_type": "markdown",
   "id": "0006bf24",
   "metadata": {
    "papermill": {
     "duration": 0.003859,
     "end_time": "2022-10-25T13:17:11.743275",
     "exception": false,
     "start_time": "2022-10-25T13:17:11.739416",
     "status": "completed"
    },
    "tags": []
   },
   "source": [
    "### **Utilities and Helpers**"
   ]
  },
  {
   "cell_type": "code",
   "execution_count": 3,
   "id": "d6999477",
   "metadata": {
    "execution": {
     "iopub.execute_input": "2022-10-25T13:17:11.753045Z",
     "iopub.status.busy": "2022-10-25T13:17:11.752508Z",
     "iopub.status.idle": "2022-10-25T13:17:11.766339Z",
     "shell.execute_reply": "2022-10-25T13:17:11.765322Z"
    },
    "papermill": {
     "duration": 0.021134,
     "end_time": "2022-10-25T13:17:11.768529",
     "exception": false,
     "start_time": "2022-10-25T13:17:11.747395",
     "status": "completed"
    },
    "tags": []
   },
   "outputs": [],
   "source": [
    "SEED: int = 42\n",
    "SIZE: int = 384\n",
    "\n",
    "\n",
    "def breaker(num: int=50, char: str=\"*\") -> None:\n",
    "    print(\"\\n\" + num*char + \"\\n\")\n",
    "\n",
    "    \n",
    "def get_image(path: str, size: int=224) -> np.ndarray:\n",
    "    image = cv2.imread(path, cv2.IMREAD_COLOR)\n",
    "    if image is None: \n",
    "        image = np.asarray(Image.open(path))\n",
    "        if len(image.shape) == 2:\n",
    "            image = np.concatenate((\n",
    "                np.expand_dims(image, axis=2),\n",
    "                np.expand_dims(image, axis=2),\n",
    "                np.expand_dims(image, axis=2),\n",
    "            ), axis=2)\n",
    "    image = cv2.cvtColor(src=image, code=cv2.COLOR_BGR2RGB)\n",
    "    return cv2.resize(src=image, dsize=(size, size), interpolation=cv2.INTER_AREA)\n",
    "\n",
    "\n",
    "def show_loss_graphs(L: list) -> None:\n",
    "    TL, VL = [], []\n",
    "    for i in range(len(L)):\n",
    "        TL.append(L[i][\"train\"])\n",
    "        VL.append(L[i][\"valid\"])\n",
    "    x_Axis = np.arange(1, len(TL) + 1)\n",
    "    plt.figure()\n",
    "    plt.plot(x_Axis, TL, \"r\", label=\"Train\")\n",
    "    plt.plot(x_Axis, VL, \"b\", label=\"Valid\")\n",
    "    plt.legend()\n",
    "    plt.grid()\n",
    "    plt.title(\"Loss Graph\")\n",
    "    plt.show()\n",
    "\n",
    "    \n",
    "def show_accuracy_graphs(A: list) -> None:\n",
    "    TA, VA = [], []\n",
    "    for i in range(len(A)):\n",
    "        TA.append(A[i][\"train\"])\n",
    "        VA.append(A[i][\"valid\"])\n",
    "    x_Axis = np.arange(1, len(TA) + 1)\n",
    "    plt.figure()\n",
    "    plt.plot(x_Axis, TA, \"r\", label=\"Train\")\n",
    "    plt.plot(x_Axis, VA, \"b\", label=\"Valid\")\n",
    "    plt.legend()\n",
    "    plt.grid()\n",
    "    plt.title(\"Accuracy Graph\")\n",
    "    plt.show()\n",
    "    \n",
    "\n",
    "def show_lr_graph(LR: list) -> None:\n",
    "    x_Axis = [i+1 for i in range(len(LR))]\n",
    "    plt.figure(figsize=(8, 6))\n",
    "    plt.plot(x_Axis, LR, \"rx\")\n",
    "    plt.grid()\n",
    "    plt.show()"
   ]
  },
  {
   "cell_type": "markdown",
   "id": "5baa8ebe",
   "metadata": {
    "papermill": {
     "duration": 0.003958,
     "end_time": "2022-10-25T13:17:11.776459",
     "exception": false,
     "start_time": "2022-10-25T13:17:11.772501",
     "status": "completed"
    },
    "tags": []
   },
   "source": [
    "### **Configuration**"
   ]
  },
  {
   "cell_type": "code",
   "execution_count": 4,
   "id": "27750c0b",
   "metadata": {
    "execution": {
     "iopub.execute_input": "2022-10-25T13:17:11.785977Z",
     "iopub.status.busy": "2022-10-25T13:17:11.785707Z",
     "iopub.status.idle": "2022-10-25T13:17:11.882101Z",
     "shell.execute_reply": "2022-10-25T13:17:11.881213Z"
    },
    "papermill": {
     "duration": 0.103892,
     "end_time": "2022-10-25T13:17:11.884349",
     "exception": false,
     "start_time": "2022-10-25T13:17:11.780457",
     "status": "completed"
    },
    "tags": []
   },
   "outputs": [],
   "source": [
    "class CFG(object):\n",
    "    def __init__(self, \n",
    "                 seed: int = 42,\n",
    "                 size: int = 224,\n",
    "                 n_splits: int = 5,\n",
    "                 batch_size: int = 16,\n",
    "                 epochs: int = 25,\n",
    "                 early_stopping: int = 5,\n",
    "                 lr: float = 1e-4,\n",
    "                 wd: float = 0.0,\n",
    "                 max_lr: float = 1e-3,\n",
    "                 pct_start: float = 0.2,\n",
    "                 steps_per_epoch: int = 100,\n",
    "                 div_factor: int = 1e3, \n",
    "                 final_div_factor: float = 1e3,\n",
    "                 ):\n",
    "        self.seed = seed\n",
    "        self.size = size\n",
    "        self.n_splits = n_splits\n",
    "        self.batch_size = batch_size\n",
    "        self.epochs = epochs\n",
    "        self.early_stopping = early_stopping\n",
    "        self.lr = lr\n",
    "        self.wd = wd\n",
    "        self.max_lr = max_lr\n",
    "        self.pct_start = pct_start\n",
    "        self.steps_per_epoch = steps_per_epoch\n",
    "        self.div_factor = div_factor\n",
    "        self.final_div_factor = final_div_factor\n",
    "        self.device = torch.device(\"cuda\" if torch.cuda.is_available() else \"cpu\")\n",
    "        \n",
    "        if self.size == 224:\n",
    "            self.train_transform = transforms.Compose([\n",
    "                transforms.ToTensor(),\n",
    "                transforms.Normalize([0.63017, 0.53304, 0.42636], [0.22549, 0.22932, 0.26291]),\n",
    "                transforms.RandomAffine(degrees=(-45, 45), translate=(0.15, 0.15), scale=(0.5, 1.5)),\n",
    "                transforms.RandomHorizontalFlip(p=0.25),\n",
    "                transforms.RandomVerticalFlip(p=0.25),\n",
    "            ])\n",
    "            self.valid_transform = transforms.Compose([\n",
    "                transforms.ToTensor(),\n",
    "                transforms.Normalize([0.63017, 0.53304, 0.42636], [0.22549, 0.22932, 0.26291]),\n",
    "            ])\n",
    "        \n",
    "        if self.size == 384:\n",
    "            self.train_transform = transforms.Compose([\n",
    "                transforms.ToTensor(),\n",
    "                transforms.Normalize([0.63013, 0.53300, 0.42632], [0.22750, 0.24143, 0.26503]),\n",
    "                transforms.RandomAffine(degrees=(-45, 45), translate=(0.15, 0.15), scale=(0.5, 1.5)),\n",
    "                transforms.RandomHorizontalFlip(p=0.25),\n",
    "                transforms.RandomVerticalFlip(p=0.25),\n",
    "            ])\n",
    "            self.valid_transform = transforms.Compose([\n",
    "                transforms.ToTensor(),\n",
    "                transforms.Normalize([0.63013, 0.53300, 0.42632], [0.22750, 0.24143, 0.26503]),\n",
    "            ])\n",
    "        \n",
    "        if self.size == 512:\n",
    "            self.train_transform = transforms.Compose([\n",
    "                transforms.ToTensor(),\n",
    "                transforms.Normalize([0.63008, 0.53294, 0.42626], [0.22822, 0.24218, 0.26576]),\n",
    "                transforms.RandomAffine(degrees=(-45, 45), translate=(0.15, 0.15), scale=(0.5, 1.5)),\n",
    "                transforms.RandomHorizontalFlip(p=0.25),\n",
    "                transforms.RandomVerticalFlip(p=0.25),\n",
    "            ])\n",
    "            self.valid_transform = transforms.Compose([\n",
    "                transforms.ToTensor(),\n",
    "                transforms.Normalize([0.63008, 0.53294, 0.42626], [0.22822, 0.24218, 0.26576]),\n",
    "            ])\n",
    "                                \n",
    "        self.save_path = \"saves\"\n",
    "        if not os.path.exists(self.save_path): os.makedirs(self.save_path)\n",
    "    \n",
    "cfg = CFG(\n",
    "    seed=SEED, \n",
    "    size=SIZE\n",
    ")"
   ]
  },
  {
   "cell_type": "markdown",
   "id": "14a4b696",
   "metadata": {
    "papermill": {
     "duration": 0.003722,
     "end_time": "2022-10-25T13:17:11.892099",
     "exception": false,
     "start_time": "2022-10-25T13:17:11.888377",
     "status": "completed"
    },
    "tags": []
   },
   "source": [
    "### **Dataset Template**"
   ]
  },
  {
   "cell_type": "code",
   "execution_count": 5,
   "id": "eb370c46",
   "metadata": {
    "execution": {
     "iopub.execute_input": "2022-10-25T13:17:11.901151Z",
     "iopub.status.busy": "2022-10-25T13:17:11.900867Z",
     "iopub.status.idle": "2022-10-25T13:17:11.907311Z",
     "shell.execute_reply": "2022-10-25T13:17:11.906326Z"
    },
    "papermill": {
     "duration": 0.013768,
     "end_time": "2022-10-25T13:17:11.909715",
     "exception": false,
     "start_time": "2022-10-25T13:17:11.895947",
     "status": "completed"
    },
    "tags": []
   },
   "outputs": [],
   "source": [
    "class DS(Dataset):\n",
    "    def __init__(\n",
    "        self, \n",
    "        filepaths: np.ndarray, \n",
    "        size: int,\n",
    "        labels: Union[np.ndarray, None]=None, \n",
    "        transform=None\n",
    "    ):\n",
    "        \n",
    "        self.filepaths = filepaths\n",
    "        self.labels = labels\n",
    "        self.size = size\n",
    "        self.transform = transform\n",
    "    \n",
    "    def __len__(self):\n",
    "        return self.filepaths.shape[0]\n",
    "    \n",
    "    def __getitem__(self, idx):\n",
    "        image = get_image(self.filepaths[idx], self.size)\n",
    "        if self.labels is None:\n",
    "            return self.transform(image)\n",
    "        return self.transform(image), torch.LongTensor(self.labels[idx])"
   ]
  },
  {
   "cell_type": "markdown",
   "id": "079d1a2d",
   "metadata": {
    "papermill": {
     "duration": 0.003679,
     "end_time": "2022-10-25T13:17:11.917350",
     "exception": false,
     "start_time": "2022-10-25T13:17:11.913671",
     "status": "completed"
    },
    "tags": []
   },
   "source": [
    "### **Model**"
   ]
  },
  {
   "cell_type": "code",
   "execution_count": 6,
   "id": "bdb12591",
   "metadata": {
    "execution": {
     "iopub.execute_input": "2022-10-25T13:17:11.926618Z",
     "iopub.status.busy": "2022-10-25T13:17:11.926131Z",
     "iopub.status.idle": "2022-10-25T13:17:11.932668Z",
     "shell.execute_reply": "2022-10-25T13:17:11.931684Z"
    },
    "papermill": {
     "duration": 0.013245,
     "end_time": "2022-10-25T13:17:11.934605",
     "exception": false,
     "start_time": "2022-10-25T13:17:11.921360",
     "status": "completed"
    },
    "tags": []
   },
   "outputs": [],
   "source": [
    "class Model(nn.Module):\n",
    "    def __init__(self):\n",
    "        super(Model, self).__init__()\n",
    "            \n",
    "        self.model = timm.create_model(model_name=\"efficientnet_b4\", pretrained=True)\n",
    "        self.model.classifier = nn.Linear(in_features=self.model.classifier.in_features, out_features=101)\n",
    "            \n",
    "    def freeze(self):\n",
    "        for params in self.parameters(): params.requires_grad = False\n",
    "\n",
    "    def forward(self, x):\n",
    "        return nn.LogSoftmax(dim=1)(self.model(x))"
   ]
  },
  {
   "cell_type": "markdown",
   "id": "cb5731c6",
   "metadata": {
    "papermill": {
     "duration": 0.003735,
     "end_time": "2022-10-25T13:17:11.942297",
     "exception": false,
     "start_time": "2022-10-25T13:17:11.938562",
     "status": "completed"
    },
    "tags": []
   },
   "source": [
    "### **Fit and Predict**"
   ]
  },
  {
   "cell_type": "code",
   "execution_count": 7,
   "id": "feaf13c5",
   "metadata": {
    "execution": {
     "iopub.execute_input": "2022-10-25T13:17:11.951436Z",
     "iopub.status.busy": "2022-10-25T13:17:11.951153Z",
     "iopub.status.idle": "2022-10-25T13:17:11.973945Z",
     "shell.execute_reply": "2022-10-25T13:17:11.972924Z"
    },
    "papermill": {
     "duration": 0.029846,
     "end_time": "2022-10-25T13:17:11.975970",
     "exception": false,
     "start_time": "2022-10-25T13:17:11.946124",
     "status": "completed"
    },
    "tags": []
   },
   "outputs": [],
   "source": [
    "def fit(\n",
    "    model=None,\n",
    "    optimizer=None, \n",
    "    scheduler_rlrop=None,\n",
    "    scheduler_oclr=None,\n",
    "    epochs=None, \n",
    "    early_stopping_patience=None, \n",
    "    dataloaders=None, \n",
    "    fold=None, \n",
    "    save_path=None,\n",
    "    device=None,\n",
    "    verbose=False\n",
    ") -> tuple:\n",
    "    \n",
    "    def get_accuracy(y_pred, y_true):\n",
    "        y_pred = torch.argmax(y_pred, dim=1)\n",
    "        return torch.count_nonzero(y_pred == y_true).item() / len(y_pred)\n",
    "    \n",
    "    if verbose:\n",
    "        breaker()\n",
    "        if fold: print(f\"Training Fold {fold}...\")\n",
    "        else: print(\"Training ...\")\n",
    "        breaker()\n",
    "        \n",
    "    bestLoss: dict = {\"train\" : np.inf, \"valid\" : np.inf} \n",
    "    bestAccs: dict = {\"train\" : 0.0, \"valid\" : 0.0}\n",
    "        \n",
    "    Losses: list = []\n",
    "    Accuracies: list = [] \n",
    "    LRs: list = []\n",
    "        \n",
    "    if fold: \n",
    "        ble_name = f\"ble_state_fold_{fold}.pt\"\n",
    "        bae_name = f\"bae_state_fold_{fold}.pt\"\n",
    "    else: \n",
    "        ble_name = f\"ble_state.pt\"\n",
    "        bae_name = f\"bae_state.pt\"\n",
    "    \n",
    "    start_time = time()\n",
    "    for e in range(epochs):\n",
    "        e_st = time()\n",
    "        epochLoss: dict = {\"train\" : 0.0, \"valid\" : 0.0} \n",
    "        epochAccs: dict = {\"train\" : 0.0, \"valid\" : 0.0}\n",
    "\n",
    "        for phase in [\"train\", \"valid\"]:\n",
    "            if phase == \"train\":\n",
    "                model.train()\n",
    "            else:\n",
    "                model.eval()\n",
    "            \n",
    "            lossPerPass: list = []\n",
    "            accsPerPass: list = []\n",
    "                \n",
    "            for X, y in dataloaders[phase]:\n",
    "                X, y = X.to(device), y.to(device).view(-1)\n",
    "\n",
    "                optimizer.zero_grad()\n",
    "                with torch.set_grad_enabled(phase == \"train\"):\n",
    "                    output = model(X)\n",
    "                    loss = torch.nn.NLLLoss()(output, y)\n",
    "                    if phase == \"train\":\n",
    "                        loss.backward()\n",
    "                        optimizer.step()\n",
    "                        if scheduler_oclr: scheduler_oclr.step()\n",
    "                lossPerPass.append(loss.item())\n",
    "                accsPerPass.append(get_accuracy(output, y))\n",
    "            epochLoss[phase] = np.mean(np.array(lossPerPass))\n",
    "            epochAccs[phase] = np.mean(np.array(accsPerPass))\n",
    "        if scheduler_oclr: LRs.append(scheduler_oclr.get_last_lr())\n",
    "        Losses.append(epochLoss)\n",
    "        Accuracies.append(epochAccs)\n",
    "    \n",
    "        if scheduler_oclr:\n",
    "            save_dict = {\"model_state_dict\"     : model.state_dict(),\n",
    "                         \"optim_state_dict\"     : optimizer.state_dict(),\n",
    "                         \"scheduler_state_dict\" : scheduler_oclr.state_dict()}\n",
    "        \n",
    "        elif scheduler_rlrop:\n",
    "            save_dict = {\"model_state_dict\"     : model.state_dict(),\n",
    "                         \"optim_state_dict\"     : optimizer.state_dict(),\n",
    "                         \"scheduler_state_dict\" : scheduler_rlrop.state_dict()}\n",
    "        \n",
    "        else:\n",
    "            save_dict = {\"model_state_dict\"     : model.state_dict(),\n",
    "                         \"optim_state_dict\"     : optimizer.state_dict()}\n",
    "        \n",
    "        \n",
    "        if early_stopping_patience:\n",
    "            if epochLoss[\"valid\"] < bestLoss[\"valid\"]:\n",
    "                bestLoss = epochLoss\n",
    "                BLE = e + 1\n",
    "                torch.save(save_dict, os.path.join(save_path, ble_name))\n",
    "                torch.save(save_dict, os.path.join(save_path, bae_name))\n",
    "                early_stopping_step = 0\n",
    "            else:\n",
    "                early_stopping_step += 1\n",
    "                if early_stopping_step > early_stopping_patience:\n",
    "                    print(\"\\nEarly Stopping at Epoch {}\".format(e + 1))\n",
    "                    break\n",
    "        \n",
    "        if epochLoss[\"valid\"] < bestLoss[\"valid\"]:\n",
    "            bestLoss = epochLoss\n",
    "            BLE = e + 1\n",
    "            torch.save(save_dict,os.path.join(save_path, ble_name))\n",
    "        \n",
    "        if epochAccs[\"valid\"] > bestAccs[\"valid\"]:\n",
    "            bestAccs = epochAccs\n",
    "            BAE = e + 1\n",
    "            torch.save(save_dict,os.path.join(save_path, bae_name))\n",
    "        \n",
    "        if scheduler_rlrop: scheduler_rlrop.step(epochLoss[\"valid\"])\n",
    "        \n",
    "        if verbose:\n",
    "            print(\"Epoch: {} | Train Loss: {:.5f} | Valid Loss: {:.5f} |\\\n",
    " Train Accs: {:.5f} | Valid Accs: {:.5f} | Time: {:.2f} seconds\".format(e+1, \n",
    "                                                                        epochLoss[\"train\"], epochLoss[\"valid\"], \n",
    "                                                                        epochAccs[\"train\"], epochAccs[\"valid\"], \n",
    "                                                                        time()-e_st))\n",
    "\n",
    "    if verbose:                                           \n",
    "        breaker()\n",
    "        print(f\"Best Validation Loss at Epoch {BLE}\")\n",
    "        breaker()\n",
    "        print(f\"Best Validation Accs at Epoch {BAE}\")\n",
    "        breaker()\n",
    "        print(\"Time Taken [{} Epochs] : {:.2f} minutes\".format(len(Losses), (time()-start_time)/60))\n",
    "    \n",
    "    return Losses, Accuracies, LRs, bestLoss, bestAccs, BLE, BAE, ble_name, bae_name\n",
    "\n",
    "\n",
    "def predict_batch(model=None, dataloader=None, path=None, device=None) -> np.ndarray:\n",
    "    model.load_state_dict(torch.load(path, map_location=device)[\"model_state_dict\"])\n",
    "    model.to(device)    \n",
    "    model.eval()\n",
    "    \n",
    "    y_pred = torch.zeros(1, 1).to(device)\n",
    "    \n",
    "    for X in dataloader:\n",
    "        X = X.to(device)\n",
    "        with torch.no_grad():\n",
    "            output = torch.argmax(torch.exp(model(X)), dim=1)\n",
    "        y_pred = torch.cat((y_pred, output.view(-1, 1)), dim=0)\n",
    "    \n",
    "    return y_pred[1:].detach().cpu().numpy()"
   ]
  },
  {
   "cell_type": "markdown",
   "id": "b82b9bb7",
   "metadata": {
    "papermill": {
     "duration": 0.004675,
     "end_time": "2022-10-25T13:17:11.984603",
     "exception": false,
     "start_time": "2022-10-25T13:17:11.979928",
     "status": "completed"
    },
    "tags": []
   },
   "source": [
    "### **Train**"
   ]
  },
  {
   "cell_type": "code",
   "execution_count": 8,
   "id": "0c2542ef",
   "metadata": {
    "execution": {
     "iopub.execute_input": "2022-10-25T13:17:11.994360Z",
     "iopub.status.busy": "2022-10-25T13:17:11.993518Z",
     "iopub.status.idle": "2022-10-25T13:17:12.073049Z",
     "shell.execute_reply": "2022-10-25T13:17:12.072214Z"
    },
    "papermill": {
     "duration": 0.086681,
     "end_time": "2022-10-25T13:17:12.075242",
     "exception": false,
     "start_time": "2022-10-25T13:17:11.988561",
     "status": "completed"
    },
    "tags": []
   },
   "outputs": [],
   "source": [
    "tr_df = pd.read_csv(\"../input/twf-dataframe/dataframe.csv\")\n",
    "\n",
    "filepaths = tr_df.filepaths.copy().values\n",
    "labels = tr_df.labels.copy().values"
   ]
  },
  {
   "cell_type": "code",
   "execution_count": 9,
   "id": "1799504f",
   "metadata": {
    "execution": {
     "iopub.execute_input": "2022-10-25T13:17:12.084433Z",
     "iopub.status.busy": "2022-10-25T13:17:12.084116Z",
     "iopub.status.idle": "2022-10-25T19:35:51.663413Z",
     "shell.execute_reply": "2022-10-25T19:35:51.662089Z"
    },
    "papermill": {
     "duration": 22719.586384,
     "end_time": "2022-10-25T19:35:51.665628",
     "exception": false,
     "start_time": "2022-10-25T13:17:12.079244",
     "status": "completed"
    },
    "tags": []
   },
   "outputs": [
    {
     "name": "stderr",
     "output_type": "stream",
     "text": [
      "Downloading: \"https://github.com/rwightman/pytorch-image-models/releases/download/v0.1-weights/efficientnet_b4_ra2_320-7eb33cd5.pth\" to /root/.cache/torch/hub/checkpoints/efficientnet_b4_ra2_320-7eb33cd5.pth\n"
     ]
    },
    {
     "name": "stdout",
     "output_type": "stream",
     "text": [
      "\n",
      "**************************************************\n",
      "\n",
      "Training Fold 1...\n",
      "\n",
      "**************************************************\n",
      "\n"
     ]
    },
    {
     "name": "stderr",
     "output_type": "stream",
     "text": [
      "Corrupt JPEG data: 1 extraneous bytes before marker 0xdb\n",
      "Corrupt JPEG data: 1 extraneous bytes before marker 0xdb\n"
     ]
    },
    {
     "name": "stdout",
     "output_type": "stream",
     "text": [
      "Epoch: 1 | Train Loss: 4.04067 | Valid Loss: 1.35633 | Train Accs: 0.12880 | Valid Accs: 0.63997 | Time: 1161.15 seconds\n"
     ]
    },
    {
     "name": "stderr",
     "output_type": "stream",
     "text": [
      "Corrupt JPEG data: 1 extraneous bytes before marker 0xdb\n",
      "Corrupt JPEG data: 1 extraneous bytes before marker 0xdb\n"
     ]
    },
    {
     "name": "stdout",
     "output_type": "stream",
     "text": [
      "Epoch: 2 | Train Loss: 1.12806 | Valid Loss: 0.64224 | Train Accs: 0.69297 | Valid Accs: 0.81865 | Time: 1014.06 seconds\n"
     ]
    },
    {
     "name": "stderr",
     "output_type": "stream",
     "text": [
      "Corrupt JPEG data: 1 extraneous bytes before marker 0xdb\n",
      "Corrupt JPEG data: 1 extraneous bytes before marker 0xdb\n"
     ]
    },
    {
     "name": "stdout",
     "output_type": "stream",
     "text": [
      "Epoch: 3 | Train Loss: 0.72265 | Valid Loss: 0.57965 | Train Accs: 0.79702 | Valid Accs: 0.84254 | Time: 1011.23 seconds\n"
     ]
    },
    {
     "name": "stderr",
     "output_type": "stream",
     "text": [
      "Corrupt JPEG data: 1 extraneous bytes before marker 0xdb\n",
      "Corrupt JPEG data: 1 extraneous bytes before marker 0xdb\n"
     ]
    },
    {
     "name": "stdout",
     "output_type": "stream",
     "text": [
      "Epoch: 4 | Train Loss: 0.59079 | Valid Loss: 0.61312 | Train Accs: 0.83147 | Valid Accs: 0.83213 | Time: 1023.97 seconds\n"
     ]
    },
    {
     "name": "stderr",
     "output_type": "stream",
     "text": [
      "Corrupt JPEG data: 1 extraneous bytes before marker 0xdb\n",
      "Corrupt JPEG data: 1 extraneous bytes before marker 0xdb\n"
     ]
    },
    {
     "name": "stdout",
     "output_type": "stream",
     "text": [
      "Epoch: 5 | Train Loss: 0.50619 | Valid Loss: 0.57893 | Train Accs: 0.85430 | Valid Accs: 0.84352 | Time: 1064.55 seconds\n"
     ]
    },
    {
     "name": "stderr",
     "output_type": "stream",
     "text": [
      "Corrupt JPEG data: 1 extraneous bytes before marker 0xdb\n",
      "Corrupt JPEG data: 1 extraneous bytes before marker 0xdb\n"
     ]
    },
    {
     "name": "stdout",
     "output_type": "stream",
     "text": [
      "Epoch: 6 | Train Loss: 0.41800 | Valid Loss: 0.60595 | Train Accs: 0.87841 | Valid Accs: 0.84855 | Time: 1044.06 seconds\n"
     ]
    },
    {
     "name": "stderr",
     "output_type": "stream",
     "text": [
      "Corrupt JPEG data: 1 extraneous bytes before marker 0xdb\n",
      "Corrupt JPEG data: 1 extraneous bytes before marker 0xdb\n"
     ]
    },
    {
     "name": "stdout",
     "output_type": "stream",
     "text": [
      "Epoch: 7 | Train Loss: 0.35245 | Valid Loss: 0.46384 | Train Accs: 0.89298 | Valid Accs: 0.88483 | Time: 1045.74 seconds\n"
     ]
    },
    {
     "name": "stderr",
     "output_type": "stream",
     "text": [
      "Corrupt JPEG data: 1 extraneous bytes before marker 0xdb\n",
      "Corrupt JPEG data: 1 extraneous bytes before marker 0xdb\n"
     ]
    },
    {
     "name": "stdout",
     "output_type": "stream",
     "text": [
      "Epoch: 8 | Train Loss: 0.29285 | Valid Loss: 0.55112 | Train Accs: 0.91121 | Valid Accs: 0.86154 | Time: 1094.42 seconds\n"
     ]
    },
    {
     "name": "stderr",
     "output_type": "stream",
     "text": [
      "Corrupt JPEG data: 1 extraneous bytes before marker 0xdb\n",
      "Corrupt JPEG data: 1 extraneous bytes before marker 0xdb\n"
     ]
    },
    {
     "name": "stdout",
     "output_type": "stream",
     "text": [
      "Epoch: 9 | Train Loss: 0.25734 | Valid Loss: 0.47479 | Train Accs: 0.92358 | Valid Accs: 0.88260 | Time: 1091.37 seconds\n"
     ]
    },
    {
     "name": "stderr",
     "output_type": "stream",
     "text": [
      "Corrupt JPEG data: 1 extraneous bytes before marker 0xdb\n",
      "Corrupt JPEG data: 1 extraneous bytes before marker 0xdb\n"
     ]
    },
    {
     "name": "stdout",
     "output_type": "stream",
     "text": [
      "Epoch: 10 | Train Loss: 0.22346 | Valid Loss: 0.47213 | Train Accs: 0.92972 | Valid Accs: 0.89363 | Time: 1102.50 seconds\n"
     ]
    },
    {
     "name": "stderr",
     "output_type": "stream",
     "text": [
      "Corrupt JPEG data: 1 extraneous bytes before marker 0xdb\n",
      "Corrupt JPEG data: 1 extraneous bytes before marker 0xdb\n"
     ]
    },
    {
     "name": "stdout",
     "output_type": "stream",
     "text": [
      "Epoch: 11 | Train Loss: 0.19307 | Valid Loss: 0.49423 | Train Accs: 0.93922 | Valid Accs: 0.88238 | Time: 1105.88 seconds\n"
     ]
    },
    {
     "name": "stderr",
     "output_type": "stream",
     "text": [
      "Corrupt JPEG data: 1 extraneous bytes before marker 0xdb\n",
      "Corrupt JPEG data: 1 extraneous bytes before marker 0xdb\n"
     ]
    },
    {
     "name": "stdout",
     "output_type": "stream",
     "text": [
      "Epoch: 12 | Train Loss: 0.15766 | Valid Loss: 0.52844 | Train Accs: 0.95038 | Valid Accs: 0.88812 | Time: 1112.71 seconds\n"
     ]
    },
    {
     "name": "stderr",
     "output_type": "stream",
     "text": [
      "Corrupt JPEG data: 1 extraneous bytes before marker 0xdb\n",
      "Corrupt JPEG data: 1 extraneous bytes before marker 0xdb\n"
     ]
    },
    {
     "name": "stdout",
     "output_type": "stream",
     "text": [
      "Epoch: 13 | Train Loss: 0.12357 | Valid Loss: 0.44515 | Train Accs: 0.96228 | Valid Accs: 0.90357 | Time: 1116.01 seconds\n"
     ]
    },
    {
     "name": "stderr",
     "output_type": "stream",
     "text": [
      "Corrupt JPEG data: 1 extraneous bytes before marker 0xdb\n",
      "Corrupt JPEG data: 1 extraneous bytes before marker 0xdb\n"
     ]
    },
    {
     "name": "stdout",
     "output_type": "stream",
     "text": [
      "Epoch: 14 | Train Loss: 0.10407 | Valid Loss: 0.46753 | Train Accs: 0.96806 | Valid Accs: 0.90258 | Time: 1113.44 seconds\n"
     ]
    },
    {
     "name": "stderr",
     "output_type": "stream",
     "text": [
      "Corrupt JPEG data: 1 extraneous bytes before marker 0xdb\n",
      "Corrupt JPEG data: 1 extraneous bytes before marker 0xdb\n"
     ]
    },
    {
     "name": "stdout",
     "output_type": "stream",
     "text": [
      "Epoch: 15 | Train Loss: 0.08343 | Valid Loss: 0.42686 | Train Accs: 0.97289 | Valid Accs: 0.90651 | Time: 1097.65 seconds\n"
     ]
    },
    {
     "name": "stderr",
     "output_type": "stream",
     "text": [
      "Corrupt JPEG data: 1 extraneous bytes before marker 0xdb\n",
      "Corrupt JPEG data: 1 extraneous bytes before marker 0xdb\n"
     ]
    },
    {
     "name": "stdout",
     "output_type": "stream",
     "text": [
      "Epoch: 16 | Train Loss: 0.06781 | Valid Loss: 0.42717 | Train Accs: 0.97921 | Valid Accs: 0.91484 | Time: 1095.13 seconds\n"
     ]
    },
    {
     "name": "stderr",
     "output_type": "stream",
     "text": [
      "Corrupt JPEG data: 1 extraneous bytes before marker 0xdb\n",
      "Corrupt JPEG data: 1 extraneous bytes before marker 0xdb\n"
     ]
    },
    {
     "name": "stdout",
     "output_type": "stream",
     "text": [
      "Epoch: 17 | Train Loss: 0.04602 | Valid Loss: 0.49453 | Train Accs: 0.98503 | Valid Accs: 0.90651 | Time: 1083.25 seconds\n"
     ]
    },
    {
     "name": "stderr",
     "output_type": "stream",
     "text": [
      "Corrupt JPEG data: 1 extraneous bytes before marker 0xdb\n",
      "Corrupt JPEG data: 1 extraneous bytes before marker 0xdb\n"
     ]
    },
    {
     "name": "stdout",
     "output_type": "stream",
     "text": [
      "Epoch: 18 | Train Loss: 0.03434 | Valid Loss: 0.47168 | Train Accs: 0.98890 | Valid Accs: 0.90798 | Time: 1087.17 seconds\n"
     ]
    },
    {
     "name": "stderr",
     "output_type": "stream",
     "text": [
      "Corrupt JPEG data: 1 extraneous bytes before marker 0xdb\n",
      "Corrupt JPEG data: 1 extraneous bytes before marker 0xdb\n"
     ]
    },
    {
     "name": "stdout",
     "output_type": "stream",
     "text": [
      "Epoch: 19 | Train Loss: 0.02551 | Valid Loss: 0.43999 | Train Accs: 0.99233 | Valid Accs: 0.91852 | Time: 1086.18 seconds\n"
     ]
    },
    {
     "name": "stderr",
     "output_type": "stream",
     "text": [
      "Corrupt JPEG data: 1 extraneous bytes before marker 0xdb\n",
      "Corrupt JPEG data: 1 extraneous bytes before marker 0xdb\n"
     ]
    },
    {
     "name": "stdout",
     "output_type": "stream",
     "text": [
      "Epoch: 20 | Train Loss: 0.01980 | Valid Loss: 0.45288 | Train Accs: 0.99368 | Valid Accs: 0.91950 | Time: 1069.93 seconds\n"
     ]
    },
    {
     "name": "stderr",
     "output_type": "stream",
     "text": [
      "Corrupt JPEG data: 1 extraneous bytes before marker 0xdb\n",
      "Corrupt JPEG data: 1 extraneous bytes before marker 0xdb\n"
     ]
    },
    {
     "name": "stdout",
     "output_type": "stream",
     "text": [
      "\n",
      "Early Stopping at Epoch 21\n",
      "\n",
      "**************************************************\n",
      "\n",
      "Best Validation Loss at Epoch 15\n",
      "\n",
      "**************************************************\n",
      "\n",
      "Best Validation Accs at Epoch 20\n",
      "\n",
      "**************************************************\n",
      "\n",
      "Time Taken [21 Epochs] : 378.54 minutes\n",
      "\n",
      "**************************************************\n",
      "\n"
     ]
    },
    {
     "data": {
      "image/png": "[encoded data removed]",
      "text/plain": [
       "<Figure size 432x288 with 1 Axes>"
      ]
     },
     "metadata": {
      "needs_background": "light"
     },
     "output_type": "display_data"
    },
    {
     "name": "stdout",
     "output_type": "stream",
     "text": [
      "\n",
      "**************************************************\n",
      "\n"
     ]
    },
    {
     "data": {
      "image/png": "[encoded data removed]",
      "text/plain": [
       "<Figure size 432x288 with 1 Axes>"
      ]
     },
     "metadata": {
      "needs_background": "light"
     },
     "output_type": "display_data"
    },
    {
     "name": "stdout",
     "output_type": "stream",
     "text": [
      "\n",
      "**************************************************\n",
      "\n"
     ]
    },
    {
     "data": {
      "image/png": "[encoded data removed]",
      "text/plain": [
       "<Figure size 576x432 with 1 Axes>"
      ]
     },
     "metadata": {
      "needs_background": "light"
     },
     "output_type": "display_data"
    },
    {
     "name": "stdout",
     "output_type": "stream",
     "text": [
      "\n",
      "**************************************************\n",
      "\n"
     ]
    }
   ],
   "source": [
    "fold: int = 1\n",
    "BLs: list = []\n",
    "BAs: list = []\n",
    "\n",
    "# # Test \n",
    "# cfg.epochs = 2\n",
    "# cfg.n_splits = 3\n",
    "\n",
    "for tr_idx, va_idx in StratifiedKFold(n_splits=cfg.n_splits, random_state=cfg.seed, shuffle=True).split(filepaths, labels):\n",
    "    if fold == 1: break\n",
    "    fold += 1\n",
    "\n",
    "tr_filepaths, va_filepaths = filepaths[tr_idx], filepaths[va_idx] \n",
    "tr_labels, va_labels       = labels[tr_idx], labels[va_idx]\n",
    "\n",
    "tr_data_setup = DS(\n",
    "    filepaths=tr_filepaths, \n",
    "    labels=tr_labels.reshape(-1, 1),\n",
    "    size=cfg.size,\n",
    "    transform=cfg.train_transform\n",
    ")\n",
    "\n",
    "va_data_setup = DS(\n",
    "    filepaths=va_filepaths, \n",
    "    labels=va_labels.reshape(-1, 1),\n",
    "    size=cfg.size,\n",
    "    transform=cfg.valid_transform\n",
    ")\n",
    "\n",
    "dataloaders = {\n",
    "    \"train\" : DL(tr_data_setup, batch_size=cfg.batch_size, shuffle=True, generator=torch.manual_seed(cfg.seed)),\n",
    "    \"valid\" : DL(va_data_setup, batch_size=cfg.batch_size, shuffle=False),\n",
    "}\n",
    "\n",
    "cfg.steps_per_epoch = len(dataloaders[\"train\"])\n",
    "\n",
    "torch.manual_seed(cfg.seed)\n",
    "model = Model().to(cfg.device)\n",
    "\n",
    "optimizer = optim.Adam([p for p in model.parameters() if p.requires_grad], lr=cfg.lr, weight_decay=cfg.wd)\n",
    "# optimizer = optim.AdamW([p for p in model.parameters() if p.requires_grad], lr=cfg.lr, weight_decay=cfg.wd)\n",
    "# optimizer = optim.SGD([p for p in model.parameters() if p.requires_grad], lr=cfg.lr, weight_decay=cfg.wd, momentum=0.9)\n",
    "\n",
    "scheduler_oclr = optim.lr_scheduler.OneCycleLR(\n",
    "    optimizer=optimizer, \n",
    "    max_lr=cfg.max_lr, \n",
    "    epochs=cfg.epochs, \n",
    "    steps_per_epoch=cfg.steps_per_epoch,\n",
    "    pct_start=cfg.pct_start, \n",
    "    div_factor=cfg.div_factor, \n",
    "    final_div_factor=cfg.final_div_factor\n",
    ")\n",
    "\n",
    "# scheduler_rlrop = optim.lr_scheduler.ReduceLROnPlateau(\n",
    "#     optimizer=optimizer,\n",
    "#     patience=cfg.patience,\n",
    "#     eps=cfg.eps,\n",
    "#     verbose=True\n",
    "# )\n",
    "\n",
    "# scheduler_oclr = None\n",
    "scheduler_rlrop = None\n",
    "\n",
    "L, A, LR, BL, BA, _, _, _, _ = fit(\n",
    "    model=model, \n",
    "    optimizer=optimizer, \n",
    "    scheduler_oclr=scheduler_oclr,\n",
    "    scheduler_rlrop=scheduler_rlrop,\n",
    "    epochs=cfg.epochs, \n",
    "    early_stopping_patience=cfg.early_stopping, \n",
    "    dataloaders=dataloaders, \n",
    "    device=cfg.device,\n",
    "    save_path=cfg.save_path,\n",
    "    fold=fold,\n",
    "    verbose=True\n",
    ")\n",
    "\n",
    "breaker()\n",
    "show_loss_graphs(L)\n",
    "breaker()\n",
    "show_accuracy_graphs(A)\n",
    "breaker()\n",
    "if scheduler_oclr:\n",
    "    show_lr_graph(LR)\n",
    "    breaker()\n",
    "\n",
    "# BLs.append(BL)\n",
    "# BAs.append(BA)\n",
    "\n",
    "# fold += 1"
   ]
  },
  {
   "cell_type": "markdown",
   "id": "b419d731",
   "metadata": {
    "papermill": {
     "duration": 0.008731,
     "end_time": "2022-10-25T19:35:51.683549",
     "exception": false,
     "start_time": "2022-10-25T19:35:51.674818",
     "status": "completed"
    },
    "tags": []
   },
   "source": [
    "### **Best Model**"
   ]
  },
  {
   "cell_type": "code",
   "execution_count": 10,
   "id": "f5dd0d66",
   "metadata": {
    "execution": {
     "iopub.execute_input": "2022-10-25T19:35:51.703599Z",
     "iopub.status.busy": "2022-10-25T19:35:51.702667Z",
     "iopub.status.idle": "2022-10-25T19:35:51.708087Z",
     "shell.execute_reply": "2022-10-25T19:35:51.707154Z"
    },
    "papermill": {
     "duration": 0.017677,
     "end_time": "2022-10-25T19:35:51.710320",
     "exception": false,
     "start_time": "2022-10-25T19:35:51.692643",
     "status": "completed"
    },
    "tags": []
   },
   "outputs": [],
   "source": [
    "# BL = np.inf\n",
    "# for i in range(len(BLs)):\n",
    "#     if BLs[i][\"valid\"] < BL:\n",
    "#         BL = BLs[i][\"valid\"]\n",
    "#         best_loss_index = i\n",
    "\n",
    "        \n",
    "# BA = 0.0\n",
    "# for i in range(len(BAs)):\n",
    "#     if BAs[i][\"valid\"] > BA:\n",
    "#         BA = BAs[i][\"valid\"]\n",
    "#         best_accs_index = i\n",
    "\n",
    "# breaker()\n",
    "# print(f\"Best Loss Model Fold     : {best_loss_index + 1}\")\n",
    "# print(f\"Best Accuracy Model Fold : {best_accs_index + 1}\")\n",
    "# breaker()"
   ]
  }
 ],
 "metadata": {
  "kernelspec": {
   "display_name": "Python 3",
   "language": "python",
   "name": "python3"
  },
  "language_info": {
   "codemirror_mode": {
    "name": "ipython",
    "version": 3
   },
   "file_extension": ".py",
   "mimetype": "text/x-python",
   "name": "python",
   "nbconvert_exporter": "python",
   "pygments_lexer": "ipython3",
   "version": "3.7.12"
  },
  "papermill": {
   "default_parameters": {},
   "duration": 22745.0526,
   "end_time": "2022-10-25T19:35:54.340087",
   "environment_variables": {},
   "exception": null,
   "input_path": "__notebook__.ipynb",
   "output_path": "__notebook__.ipynb",
   "parameters": {},
   "start_time": "2022-10-25T13:16:49.287487",
   "version": "2.3.4"
  }
 },
 "nbformat": 4,
 "nbformat_minor": 5
}
