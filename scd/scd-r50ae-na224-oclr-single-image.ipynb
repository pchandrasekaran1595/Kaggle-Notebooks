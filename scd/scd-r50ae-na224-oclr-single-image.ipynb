{
 "cells": [
  {
   "cell_type": "markdown",
   "id": "140a5d53",
   "metadata": {
    "_cell_guid": "b1076dfc-b9ad-4769-8c92-a6c4dae69d19",
    "_uuid": "8f2839f25d086af736a60e9eeb907d3b93b6e0e5",
    "papermill": {
     "duration": 0.028025,
     "end_time": "2022-05-19T05:51:53.371060",
     "exception": false,
     "start_time": "2022-05-19T05:51:53.343035",
     "status": "completed"
    },
    "tags": []
   },
   "source": [
    "### **Library Imports**"
   ]
  },
  {
   "cell_type": "code",
   "execution_count": 1,
   "id": "2af3d49d",
   "metadata": {
    "execution": {
     "iopub.execute_input": "2022-05-19T05:51:53.423627Z",
     "iopub.status.busy": "2022-05-19T05:51:53.423052Z",
     "iopub.status.idle": "2022-05-19T05:51:56.367946Z",
     "shell.execute_reply": "2022-05-19T05:51:56.367003Z"
    },
    "papermill": {
     "duration": 2.973436,
     "end_time": "2022-05-19T05:51:56.370654",
     "exception": false,
     "start_time": "2022-05-19T05:51:53.397218",
     "status": "completed"
    },
    "tags": []
   },
   "outputs": [],
   "source": [
    "import os\n",
    "import re\n",
    "import cv2\n",
    "import torch\n",
    "import random as r\n",
    "import numpy as np\n",
    "import pandas as pd\n",
    "import matplotlib.pyplot as plt\n",
    "\n",
    "from time import time\n",
    "from torch import nn, optim\n",
    "from torch.utils.data import Dataset\n",
    "from torch.utils.data import DataLoader as DL\n",
    "from torchvision import models, transforms\n",
    "\n",
    "from sklearn.model_selection import KFold"
   ]
  },
  {
   "cell_type": "markdown",
   "id": "43d29b40",
   "metadata": {
    "papermill": {
     "duration": 0.014597,
     "end_time": "2022-05-19T05:51:56.403739",
     "exception": false,
     "start_time": "2022-05-19T05:51:56.389142",
     "status": "completed"
    },
    "tags": []
   },
   "source": [
    "### **Utilities and Constants**"
   ]
  },
  {
   "cell_type": "code",
   "execution_count": 2,
   "id": "f0cbd98e",
   "metadata": {
    "execution": {
     "iopub.execute_input": "2022-05-19T05:51:56.434088Z",
     "iopub.status.busy": "2022-05-19T05:51:56.433847Z",
     "iopub.status.idle": "2022-05-19T05:51:56.442877Z",
     "shell.execute_reply": "2022-05-19T05:51:56.442166Z"
    },
    "papermill": {
     "duration": 0.026394,
     "end_time": "2022-05-19T05:51:56.444669",
     "exception": false,
     "start_time": "2022-05-19T05:51:56.418275",
     "status": "completed"
    },
    "tags": []
   },
   "outputs": [],
   "source": [
    "SEED = 42\n",
    "\n",
    "\n",
    "def breaker(num: int=50, char: str=\"*\") -> None:\n",
    "    print(\"\\n\" + num*char + \"\\n\")\n",
    "    \n",
    "\n",
    "def show_graphs(L: list) -> None:\n",
    "    TL, VL = [], []\n",
    "    for i in range(len(L)):\n",
    "        TL.append(L[i][\"train\"])\n",
    "        VL.append(L[i][\"valid\"])\n",
    "    x_Axis = np.arange(1, len(TL) + 1)\n",
    "    plt.figure(figsize=(8, 6))\n",
    "    plt.plot(x_Axis, TL, \"r\", label=\"Train\")\n",
    "    plt.plot(x_Axis, VL, \"b\", label=\"Valid\")\n",
    "    plt.legend()\n",
    "    plt.grid()\n",
    "    plt.title(\"Loss Graph\")\n",
    "    plt.show()\n",
    "\n",
    "\n",
    "def show(image: np.ndarray, cmap: str=\"gnuplot2\") -> None:\n",
    "    plt.figure()\n",
    "    plt.imshow(image, cmap=cmap)\n",
    "    plt.axis(\"off\")\n",
    "    plt.show()"
   ]
  },
  {
   "cell_type": "markdown",
   "id": "7d5b4dd3",
   "metadata": {
    "papermill": {
     "duration": 0.01439,
     "end_time": "2022-05-19T05:51:56.473594",
     "exception": false,
     "start_time": "2022-05-19T05:51:56.459204",
     "status": "completed"
    },
    "tags": []
   },
   "source": [
    "### **Augmenter**"
   ]
  },
  {
   "cell_type": "code",
   "execution_count": 3,
   "id": "8ff0717b",
   "metadata": {
    "execution": {
     "iopub.execute_input": "2022-05-19T05:51:56.504579Z",
     "iopub.status.busy": "2022-05-19T05:51:56.503833Z",
     "iopub.status.idle": "2022-05-19T05:51:56.512043Z",
     "shell.execute_reply": "2022-05-19T05:51:56.511300Z"
    },
    "papermill": {
     "duration": 0.025375,
     "end_time": "2022-05-19T05:51:56.513788",
     "exception": false,
     "start_time": "2022-05-19T05:51:56.488413",
     "status": "completed"
    },
    "tags": []
   },
   "outputs": [],
   "source": [
    "class Augmenter(object):\n",
    "    def __init__(self, seed: int=None):\n",
    "        self.seed = seed\n",
    "\n",
    "    def rotate_and_scale(self, image: np.ndarray, angle: float = 0.0, scale: float = 1.0) -> np.ndarray:\n",
    "        if self.seed is not None: r.seed(self.seed)\n",
    "        h, w, _ = image.shape\n",
    "        if angle != 0.0: angle = r.uniform(-1, 1) * angle\n",
    "        if scale != 1.0: scale = 1 + r.uniform(-1, 1) * scale\n",
    "        M = cv2.getRotationMatrix2D(center=(int(w/2), int(h/2)), angle=angle, scale=scale)\n",
    "        cv2.warpAffine(src=image, M=M, dsize=(w, h), dst=image)"
   ]
  },
  {
   "cell_type": "markdown",
   "id": "a28d158a",
   "metadata": {
    "papermill": {
     "duration": 0.014395,
     "end_time": "2022-05-19T05:51:56.542785",
     "exception": false,
     "start_time": "2022-05-19T05:51:56.528390",
     "status": "completed"
    },
    "tags": []
   },
   "source": [
    "### **Configuration**"
   ]
  },
  {
   "cell_type": "code",
   "execution_count": 4,
   "id": "37c6e295",
   "metadata": {
    "execution": {
     "iopub.execute_input": "2022-05-19T05:51:56.573438Z",
     "iopub.status.busy": "2022-05-19T05:51:56.572815Z",
     "iopub.status.idle": "2022-05-19T05:51:56.638349Z",
     "shell.execute_reply": "2022-05-19T05:51:56.637502Z"
    },
    "papermill": {
     "duration": 0.082991,
     "end_time": "2022-05-19T05:51:56.640333",
     "exception": false,
     "start_time": "2022-05-19T05:51:56.557342",
     "status": "completed"
    },
    "tags": []
   },
   "outputs": [],
   "source": [
    "class CFG(object):\n",
    "    def __init__(self, \n",
    "                 seed: int = 42,\n",
    "                 in_channels: int = 3,\n",
    "                 size: int = 224,\n",
    "                 n_splits: int = 5,\n",
    "                 batch_size: int = 16,\n",
    "                 epochs: int = 25,\n",
    "                 early_stopping: int = 5,\n",
    "                 lr: float = 1e-4,\n",
    "                 wd: float = 0.0,\n",
    "                 max_lr: float = 1e-3,\n",
    "                 pct_start: float = 0.2,\n",
    "                 steps_per_epoch: int = 100,\n",
    "                 div_factor: int = 1e3, \n",
    "                 final_div_factor: float = 1e3,\n",
    "                 ):\n",
    "        \n",
    "        self.seed = seed\n",
    "        self.in_channels = in_channels\n",
    "        self.size = size\n",
    "        self.n_splits = n_splits\n",
    "        self.batch_size = batch_size\n",
    "        self.epochs = epochs\n",
    "        self.early_stopping = early_stopping\n",
    "        self.lr = lr\n",
    "        self.wd = wd\n",
    "        self.max_lr = max_lr\n",
    "        self.pct_start = pct_start\n",
    "        self.steps_per_epoch = steps_per_epoch\n",
    "        self.div_factor = div_factor\n",
    "        self.final_div_factor = final_div_factor\n",
    "        self.device = torch.device(\"cuda\" if torch.cuda.is_available() else \"cpu\")\n",
    "        self.transform = transforms.Compose([transforms.ToTensor(),\n",
    "                                transforms.Normalize([0.39673, 0.44977, 0.47369],\n",
    "                                                     [0.28161, 0.28911, 0.29769]),\n",
    "                                ])\n",
    "        self.save_path = \"saves\"\n",
    "        if not os.path.exists(self.save_path): os.makedirs(self.save_path)\n",
    "    \n",
    "cfg = CFG(seed=SEED, size=224)"
   ]
  },
  {
   "cell_type": "markdown",
   "id": "d0db0216",
   "metadata": {
    "papermill": {
     "duration": 0.016655,
     "end_time": "2022-05-19T05:51:56.672006",
     "exception": false,
     "start_time": "2022-05-19T05:51:56.655351",
     "status": "completed"
    },
    "tags": []
   },
   "source": [
    "### **Dataset Template**"
   ]
  },
  {
   "cell_type": "code",
   "execution_count": 5,
   "id": "ba58e6ab",
   "metadata": {
    "execution": {
     "iopub.execute_input": "2022-05-19T05:51:56.703279Z",
     "iopub.status.busy": "2022-05-19T05:51:56.702558Z",
     "iopub.status.idle": "2022-05-19T05:51:56.708432Z",
     "shell.execute_reply": "2022-05-19T05:51:56.707600Z"
    },
    "papermill": {
     "duration": 0.023566,
     "end_time": "2022-05-19T05:51:56.710345",
     "exception": false,
     "start_time": "2022-05-19T05:51:56.686779",
     "status": "completed"
    },
    "tags": []
   },
   "outputs": [],
   "source": [
    "class DS(Dataset):\n",
    "    def __init__(self, images: np.ndarray, transform=None):\n",
    "        self.images = images\n",
    "        self.transform = transform\n",
    "    \n",
    "    def __len__(self):\n",
    "        return self.images.shape[0]\n",
    "    \n",
    "    def __getitem__(self, idx):\n",
    "        return self.transform(self.images[idx])"
   ]
  },
  {
   "cell_type": "markdown",
   "id": "9f691931",
   "metadata": {
    "papermill": {
     "duration": 0.014591,
     "end_time": "2022-05-19T05:51:56.739221",
     "exception": false,
     "start_time": "2022-05-19T05:51:56.724630",
     "status": "completed"
    },
    "tags": []
   },
   "source": [
    "### **Model**"
   ]
  },
  {
   "cell_type": "code",
   "execution_count": 6,
   "id": "294c16b2",
   "metadata": {
    "execution": {
     "iopub.execute_input": "2022-05-19T05:51:56.769633Z",
     "iopub.status.busy": "2022-05-19T05:51:56.769395Z",
     "iopub.status.idle": "2022-05-19T05:51:56.894741Z",
     "shell.execute_reply": "2022-05-19T05:51:56.893770Z"
    },
    "papermill": {
     "duration": 0.143521,
     "end_time": "2022-05-19T05:51:56.897325",
     "exception": false,
     "start_time": "2022-05-19T05:51:56.753804",
     "status": "completed"
    },
    "tags": []
   },
   "outputs": [],
   "source": [
    "class Model(nn.Module):\n",
    "    def __init__(self, in_channels: int = 3):\n",
    "        super(Model, self).__init__()\n",
    "\n",
    "        self.encoder = models.resnet50(pretrained=True, progress=True)\n",
    "        # self.freeze()\n",
    "        self.encoder = nn.Sequential(*[*self.encoder.children()][:-2])\n",
    "        if in_channels != 3:\n",
    "            self.encoder[0] = nn.Conv2d(in_channels=in_channels, \n",
    "                                        out_channels=self.encoder[0].out_channels, \n",
    "                                        kernel_size=self.encoder[0].kernel_size, \n",
    "                                        stride=self.encoder[0].stride,\n",
    "                                        padding=self.encoder[0].padding)\n",
    "\n",
    "        self.decoder = nn.Sequential()\n",
    "        self.decoder.add_module(\"DC1\", nn.ConvTranspose2d(in_channels=2048, out_channels=512, kernel_size=(3, 3), stride=(1, 1), padding=(1, 1)))\n",
    "        self.decoder.add_module(\"AN1\", nn.ReLU())\n",
    "        self.decoder.add_module(\"UP1\", nn.Upsample(scale_factor=2))\n",
    "        self.decoder.add_module(\"DC2\", nn.ConvTranspose2d(in_channels=512, out_channels=256, kernel_size=(3, 3), stride=(1, 1), padding=(1, 1)))\n",
    "        self.decoder.add_module(\"AN2\", nn.ReLU())\n",
    "        self.decoder.add_module(\"UP2\", nn.Upsample(scale_factor=2))\n",
    "        self.decoder.add_module(\"DC3\", nn.ConvTranspose2d(in_channels=256, out_channels=128, kernel_size=(3, 3), stride=(1, 1), padding=(1, 1)))\n",
    "        self.decoder.add_module(\"AN3\", nn.ReLU())\n",
    "        self.decoder.add_module(\"UP3\", nn.Upsample(scale_factor=2))\n",
    "        self.decoder.add_module(\"DC4\", nn.ConvTranspose2d(in_channels=128, out_channels=64, kernel_size=(3, 3), stride=(1, 1), padding=(1, 1)))\n",
    "        self.decoder.add_module(\"AN4\", nn.ReLU())\n",
    "        self.decoder.add_module(\"UP4\", nn.Upsample(scale_factor=2))\n",
    "        self.decoder.add_module(\"DC5\", nn.ConvTranspose2d(in_channels=64, out_channels=in_channels, kernel_size=(3, 3), stride=(1, 1), padding=(1, 1)))\n",
    "        self.decoder.add_module(\"AN5\", nn.ReLU())\n",
    "        self.decoder.add_module(\"UP5\", nn.Upsample(scale_factor=2))\n",
    "    \n",
    "    def freeze(self):\n",
    "        for params in self.parameters(): params.requires_grad = False\n",
    "    \n",
    "    def forward(self, x):\n",
    "        encoded = self.encoder(x)\n",
    "        decoded = self.decoder(encoded)\n",
    "        \n",
    "        return encoded, decoded"
   ]
  },
  {
   "cell_type": "markdown",
   "id": "1466f287",
   "metadata": {
    "papermill": {
     "duration": 0.014393,
     "end_time": "2022-05-19T05:51:56.926889",
     "exception": false,
     "start_time": "2022-05-19T05:51:56.912496",
     "status": "completed"
    },
    "tags": []
   },
   "source": [
    "### **Fit and Predict Helper**"
   ]
  },
  {
   "cell_type": "code",
   "execution_count": 7,
   "id": "5daf781f",
   "metadata": {
    "execution": {
     "iopub.execute_input": "2022-05-19T05:51:56.957229Z",
     "iopub.status.busy": "2022-05-19T05:51:56.956973Z",
     "iopub.status.idle": "2022-05-19T05:51:56.983360Z",
     "shell.execute_reply": "2022-05-19T05:51:56.982576Z"
    },
    "papermill": {
     "duration": 0.043997,
     "end_time": "2022-05-19T05:51:56.985287",
     "exception": false,
     "start_time": "2022-05-19T05:51:56.941290",
     "status": "completed"
    },
    "tags": []
   },
   "outputs": [],
   "source": [
    "def fit(model=None, \n",
    "        optimizer=None, \n",
    "        scheduler=None, \n",
    "        epochs=None, \n",
    "        early_stopping_patience=None, \n",
    "        dataloaders=None, \n",
    "        fold=None, \n",
    "        device=None,\n",
    "        save_path=None,\n",
    "        verbose=False) -> tuple:\n",
    "    \n",
    "    if verbose:\n",
    "        breaker()\n",
    "        if fold: print(f\"Training Fold {fold}...\")\n",
    "        else: print(\"Training ...\")\n",
    "        breaker()\n",
    "        \n",
    "    bestLoss = {\"train\" : np.inf, \"valid\" : np.inf}\n",
    "    Losses, LRs = [], []\n",
    "    if fold: name = f\"state_fold_{fold}.pt\"\n",
    "    else: name = \"state.pt\"\n",
    "\n",
    "    start_time = time()\n",
    "    for e in range(epochs):\n",
    "        e_st = time()\n",
    "        epochLoss = {\"train\" : 0.0, \"valid\" : 0.0}\n",
    "\n",
    "        for phase in [\"train\", \"valid\"]:\n",
    "            if phase == \"train\":\n",
    "                model.train()\n",
    "            else:\n",
    "                model.eval()\n",
    "            \n",
    "            lossPerPass = []\n",
    "\n",
    "            for X in dataloaders[phase]:\n",
    "                X = X.to(device)\n",
    "\n",
    "                optimizer.zero_grad()\n",
    "                with torch.set_grad_enabled(phase == \"train\"):\n",
    "                    _, decoded = model(X)\n",
    "                    loss = torch.nn.MSELoss()(decoded, X)\n",
    "                    if phase == \"train\":\n",
    "                        loss.backward()\n",
    "                        optimizer.step()\n",
    "                        if scheduler: scheduler.step()\n",
    "                lossPerPass.append(loss.item())\n",
    "            epochLoss[phase] = np.mean(np.array(lossPerPass))\n",
    "        LRs.append(scheduler.get_last_lr())\n",
    "        Losses.append(epochLoss)\n",
    "        \n",
    "        if early_stopping_patience:\n",
    "            if epochLoss[\"valid\"] < bestLoss[\"valid\"]:\n",
    "                bestLoss = epochLoss\n",
    "                BLE = e + 1\n",
    "                torch.save({\"model_state_dict\"     : model.state_dict(),\n",
    "                            \"optim_state_dict\"     : optimizer.state_dict(),\n",
    "                            \"scheduler_state_dict\" : scheduler.state_dict()},\n",
    "                           os.path.join(save_path, name))\n",
    "                early_stopping_step = 0\n",
    "            else:\n",
    "                early_stopping_step += 1\n",
    "                if early_stopping_step > early_stopping_patience:\n",
    "                    print(\"\\nEarly Stopping at Epoch {}\".format(e + 1))\n",
    "                    break\n",
    "        \n",
    "        if epochLoss[\"valid\"] < bestLoss[\"valid\"]:\n",
    "            bestLoss = epochLoss\n",
    "            BLE = e + 1\n",
    "            torch.save({\"model_state_dict\"     : model.state_dict(),\n",
    "                        \"optim_state_dict\"     : optimizer.state_dict(),\n",
    "                        \"scheduler_state_dict\" : scheduler.state_dict()},\n",
    "                        os.path.join(save_path, name))\n",
    "        \n",
    "        if verbose:\n",
    "            print(\"Epoch: {} | Train Loss: {:.5f} | Valid Loss: {:.5f} | Time: {:.2f} seconds\".format(e+1, epochLoss[\"train\"], epochLoss[\"valid\"], time()-e_st))\n",
    "\n",
    "    if verbose:                                           \n",
    "        breaker()\n",
    "        print(f\"Best Validation Loss at Epoch {BLE}\")\n",
    "        breaker()\n",
    "        print(\"Time Taken [{} Epochs] : {:.2f} minutes\".format(len(Losses), (time()-start_time)/60))\n",
    "    \n",
    "    return Losses, LRs, BLE, name\n",
    "\n",
    "\n",
    "def predict_batch(model=None, dataloader=None, device=None, in_channels=None, size=None, path=None) -> np.ndarray:\n",
    "    model.load_state_dict(torch.load(path, map_location=device)[\"model_state_dict\"])\n",
    "    model.to(device)    \n",
    "    model.eval()\n",
    "    \n",
    "    y_pred = torch.zeros(1, in_channels, size, size).to(device)\n",
    "    \n",
    "    for X in dataloader:\n",
    "        X = X.to(device)\n",
    "        with torch.no_grad():\n",
    "            output = torch.sigmoid(model(X))\n",
    "        y_pred = torch.cat((y_pred, output), dim=0)\n",
    "    \n",
    "    return y_pred[1:].detach().cpu().numpy()\n",
    "\n",
    "\n",
    "def predict(model=None, device=None, image=None, size=None, path=None) -> np.ndarray:\n",
    "    model.load_state_dict(torch.load(path, map_location=device)[\"model_state_dict\"])\n",
    "    model.to(device)    \n",
    "    model.eval()\n",
    "    \n",
    "    h, w, _ = image.shape\n",
    "    temp_image = cv2.resize(src=image, dsize=(size, size), interpolation=cv2.INTER_AREA)\n",
    "\n",
    "    with torch.no_grad(): _, decoded = model(transforms.ToTensor()(temp_image).unsqueeze(dim=0).to(cfg.device))\n",
    "        \n",
    "    decoded_image = np.clip(decoded.squeeze().detach().cpu().numpy().transpose(1, 2, 0)*255, 0, 255).astype(\"uint8\")\n",
    "    return cv2.resize(src=decoded_image, dsize=(w, h), interpolation=cv2.INTER_AREA)"
   ]
  },
  {
   "cell_type": "markdown",
   "id": "0ccf1192",
   "metadata": {
    "papermill": {
     "duration": 0.014477,
     "end_time": "2022-05-19T05:51:57.014590",
     "exception": false,
     "start_time": "2022-05-19T05:51:57.000113",
     "status": "completed"
    },
    "tags": []
   },
   "source": [
    "### **Train**"
   ]
  },
  {
   "cell_type": "code",
   "execution_count": 8,
   "id": "3704e896",
   "metadata": {
    "execution": {
     "iopub.execute_input": "2022-05-19T05:51:57.045016Z",
     "iopub.status.busy": "2022-05-19T05:51:57.044443Z",
     "iopub.status.idle": "2022-05-19T05:51:57.966119Z",
     "shell.execute_reply": "2022-05-19T05:51:57.965265Z"
    },
    "papermill": {
     "duration": 0.939442,
     "end_time": "2022-05-19T05:51:57.968483",
     "exception": false,
     "start_time": "2022-05-19T05:51:57.029041",
     "status": "completed"
    },
    "tags": []
   },
   "outputs": [],
   "source": [
    "# images = np.load(f\"../input/single-scd-images-{cfg.size}/images_{cfg.size}.npy\")\n",
    "image = cv2.resize(src=cv2.cvtColor(src=cv2.imread(\"../input/stanford-cars-dataset/cars_train/cars_train/00002.jpg\"), \n",
    "                                    code=cv2.COLOR_BGR2RGB), \n",
    "                   dsize=(cfg.size, cfg.size), interpolation=cv2.INTER_AREA)\n",
    "images = np.array([image for _ in range(25000)])"
   ]
  },
  {
   "cell_type": "code",
   "execution_count": 9,
   "id": "32d3f84e",
   "metadata": {
    "execution": {
     "iopub.execute_input": "2022-05-19T05:51:57.999336Z",
     "iopub.status.busy": "2022-05-19T05:51:57.998652Z",
     "iopub.status.idle": "2022-05-19T06:24:38.077599Z",
     "shell.execute_reply": "2022-05-19T06:24:38.076777Z"
    },
    "papermill": {
     "duration": 1960.096661,
     "end_time": "2022-05-19T06:24:38.079765",
     "exception": false,
     "start_time": "2022-05-19T05:51:57.983104",
     "status": "completed"
    },
    "tags": []
   },
   "outputs": [
    {
     "name": "stderr",
     "output_type": "stream",
     "text": [
      "Downloading: \"https://download.pytorch.org/models/resnet50-0676ba61.pth\" to /root/.cache/torch/hub/checkpoints/resnet50-0676ba61.pth\n"
     ]
    },
    {
     "data": {
      "application/vnd.jupyter.widget-view+json": {
       "model_id": "c3b4a2a55cd54e83a0c7a625b90280b2",
       "version_major": 2,
       "version_minor": 0
      },
      "text/plain": [
       "  0%|          | 0.00/97.8M [00:00<?, ?B/s]"
      ]
     },
     "metadata": {},
     "output_type": "display_data"
    },
    {
     "name": "stdout",
     "output_type": "stream",
     "text": [
      "\n",
      "**************************************************\n",
      "\n",
      "Training ...\n",
      "\n",
      "**************************************************\n",
      "\n",
      "Epoch: 1 | Train Loss: 0.33774 | Valid Loss: 0.29732 | Time: 166.91 seconds\n",
      "Epoch: 2 | Train Loss: 0.29354 | Valid Loss: 0.29177 | Time: 162.79 seconds\n",
      "Epoch: 3 | Train Loss: 0.29058 | Valid Loss: 0.28982 | Time: 162.41 seconds\n",
      "Epoch: 4 | Train Loss: 0.28937 | Valid Loss: 0.28945 | Time: 162.44 seconds\n",
      "Epoch: 5 | Train Loss: 0.28894 | Valid Loss: 0.28815 | Time: 162.38 seconds\n",
      "Epoch: 6 | Train Loss: 0.28858 | Valid Loss: 0.28799 | Time: 162.96 seconds\n",
      "Epoch: 7 | Train Loss: 0.44186 | Valid Loss: 0.72002 | Time: 161.73 seconds\n",
      "Epoch: 8 | Train Loss: 0.72002 | Valid Loss: 0.72002 | Time: 161.25 seconds\n",
      "Epoch: 9 | Train Loss: 0.72002 | Valid Loss: 0.72002 | Time: 161.49 seconds\n",
      "Epoch: 10 | Train Loss: 0.72002 | Valid Loss: 0.72002 | Time: 161.67 seconds\n",
      "Epoch: 11 | Train Loss: 0.72002 | Valid Loss: 0.72002 | Time: 161.40 seconds\n",
      "\n",
      "Early Stopping at Epoch 12\n",
      "\n",
      "**************************************************\n",
      "\n",
      "Best Validation Loss at Epoch 6\n",
      "\n",
      "**************************************************\n",
      "\n",
      "Time Taken [12 Epochs] : 32.48 minutes\n",
      "\n",
      "**************************************************\n",
      "\n"
     ]
    },
    {
     "data": {
      "image/png": "[encoded data removed]",
      "text/plain": [
       "<Figure size 576x432 with 1 Axes>"
      ]
     },
     "metadata": {
      "needs_background": "light"
     },
     "output_type": "display_data"
    },
    {
     "name": "stdout",
     "output_type": "stream",
     "text": [
      "\n",
      "**************************************************\n",
      "\n"
     ]
    },
    {
     "data": {
      "image/png": "[encoded data removed]",
      "text/plain": [
       "<Figure size 576x432 with 1 Axes>"
      ]
     },
     "metadata": {
      "needs_background": "light"
     },
     "output_type": "display_data"
    },
    {
     "name": "stdout",
     "output_type": "stream",
     "text": [
      "\n",
      "**************************************************\n",
      "\n"
     ]
    }
   ],
   "source": [
    "for tr_idx, va_idx in KFold(n_splits=cfg.n_splits, shuffle=True, random_state=cfg.seed).split(images):\n",
    "    break\n",
    "\n",
    "tr_images, va_images = images[tr_idx], images[va_idx]\n",
    "\n",
    "tr_data_setup = DS(tr_images, cfg.transform)\n",
    "va_data_setup = DS(va_images, cfg.transform)\n",
    "\n",
    "dataloaders = {\n",
    "    \"train\" : DL(tr_data_setup, batch_size=cfg.batch_size, shuffle=True, generator=torch.manual_seed(cfg.seed)),\n",
    "    \"valid\" : DL(va_data_setup, batch_size=cfg.batch_size, shuffle=False)\n",
    "}\n",
    "\n",
    "cfg = CFG(seed=SEED, size=224, epochs=50, early_stopping=5, lr=1e-3, wd=0.0, steps_per_epoch=len(dataloaders[\"train\"]))\n",
    "\n",
    "torch.manual_seed(cfg.seed)\n",
    "model = Model().to(cfg.device)\n",
    "optimizer = optim.Adam([p for p in model.parameters() if p.requires_grad], lr=cfg.lr, weight_decay=cfg.wd)\n",
    "scheduler = optim.lr_scheduler.OneCycleLR(optimizer=optimizer, \n",
    "                                          max_lr=cfg.max_lr, \n",
    "                                          epochs=cfg.epochs, \n",
    "                                          steps_per_epoch=cfg.steps_per_epoch,\n",
    "                                          pct_start=cfg.pct_start, \n",
    "                                          div_factor=cfg.div_factor, \n",
    "                                          final_div_factor=cfg.final_div_factor)\n",
    "\n",
    "L, LRs, BLE, name = fit(model=model, \n",
    "                        optimizer=optimizer, \n",
    "                        scheduler=scheduler, \n",
    "                        epochs=cfg.epochs, \n",
    "                        early_stopping_patience=cfg.early_stopping, \n",
    "                        dataloaders=dataloaders, \n",
    "                        device=cfg.device,\n",
    "                        save_path=cfg.save_path,\n",
    "                        verbose=True)\n",
    "\n",
    "breaker()\n",
    "show_graphs(L)\n",
    "breaker()\n",
    "x_Axis = [i+1 for i in range(len(LRs))]\n",
    "plt.figure(figsize=(8, 6))\n",
    "plt.plot(x_Axis, LRs, \"rx\")\n",
    "plt.grid()\n",
    "plt.show()\n",
    "breaker()"
   ]
  }
 ],
 "metadata": {
  "kernelspec": {
   "display_name": "Python 3",
   "language": "python",
   "name": "python3"
  },
  "language_info": {
   "codemirror_mode": {
    "name": "ipython",
    "version": 3
   },
   "file_extension": ".py",
   "mimetype": "text/x-python",
   "name": "python",
   "nbconvert_exporter": "python",
   "pygments_lexer": "ipython3",
   "version": "3.7.12"
  },
  "papermill": {
   "default_parameters": {},
   "duration": 1975.80782,
   "end_time": "2022-05-19T06:24:39.630947",
   "environment_variables": {},
   "exception": null,
   "input_path": "__notebook__.ipynb",
   "output_path": "__notebook__.ipynb",
   "parameters": {},
   "start_time": "2022-05-19T05:51:43.823127",
   "version": "2.3.4"
  },
  "widgets": {
   "application/vnd.jupyter.widget-state+json": {
    "state": {
     "2299e5d0d3b94d7a9a5fc454dcfe5c95": {
      "model_module": "@jupyter-widgets/base",
      "model_module_version": "1.2.0",
      "model_name": "LayoutModel",
      "state": {
       "_model_module": "@jupyter-widgets/base",
       "_model_module_version": "1.2.0",
       "_model_name": "LayoutModel",
       "_view_count": null,
       "_view_module": "@jupyter-widgets/base",
       "_view_module_version": "1.2.0",
       "_view_name": "LayoutView",
       "align_content": null,
       "align_items": null,
       "align_self": null,
       "border": null,
       "bottom": null,
       "display": null,
       "flex": null,
       "flex_flow": null,
       "grid_area": null,
       "grid_auto_columns": null,
       "grid_auto_flow": null,
       "grid_auto_rows": null,
       "grid_column": null,
       "grid_gap": null,
       "grid_row": null,
       "grid_template_areas": null,
       "grid_template_columns": null,
       "grid_template_rows": null,
       "height": null,
       "justify_content": null,
       "justify_items": null,
       "left": null,
       "margin": null,
       "max_height": null,
       "max_width": null,
       "min_height": null,
       "min_width": null,
       "object_fit": null,
       "object_position": null,
       "order": null,
       "overflow": null,
       "overflow_x": null,
       "overflow_y": null,
       "padding": null,
       "right": null,
       "top": null,
       "visibility": null,
       "width": null
      }
     },
     "27d26ac0c69c4981b730181305985965": {
      "model_module": "@jupyter-widgets/controls",
      "model_module_version": "1.5.0",
      "model_name": "DescriptionStyleModel",
      "state": {
       "_model_module": "@jupyter-widgets/controls",
       "_model_module_version": "1.5.0",
       "_model_name": "DescriptionStyleModel",
       "_view_count": null,
       "_view_module": "@jupyter-widgets/base",
       "_view_module_version": "1.2.0",
       "_view_name": "StyleView",
       "description_width": ""
      }
     },
     "3a42d41654bb4133883b207e832702c6": {
      "model_module": "@jupyter-widgets/base",
      "model_module_version": "1.2.0",
      "model_name": "LayoutModel",
      "state": {
       "_model_module": "@jupyter-widgets/base",
       "_model_module_version": "1.2.0",
       "_model_name": "LayoutModel",
       "_view_count": null,
       "_view_module": "@jupyter-widgets/base",
       "_view_module_version": "1.2.0",
       "_view_name": "LayoutView",
       "align_content": null,
       "align_items": null,
       "align_self": null,
       "border": null,
       "bottom": null,
       "display": null,
       "flex": null,
       "flex_flow": null,
       "grid_area": null,
       "grid_auto_columns": null,
       "grid_auto_flow": null,
       "grid_auto_rows": null,
       "grid_column": null,
       "grid_gap": null,
       "grid_row": null,
       "grid_template_areas": null,
       "grid_template_columns": null,
       "grid_template_rows": null,
       "height": null,
       "justify_content": null,
       "justify_items": null,
       "left": null,
       "margin": null,
       "max_height": null,
       "max_width": null,
       "min_height": null,
       "min_width": null,
       "object_fit": null,
       "object_position": null,
       "order": null,
       "overflow": null,
       "overflow_x": null,
       "overflow_y": null,
       "padding": null,
       "right": null,
       "top": null,
       "visibility": null,
       "width": null
      }
     },
     "75be6523c83b4b30b0944c2191c1f6d4": {
      "model_module": "@jupyter-widgets/controls",
      "model_module_version": "1.5.0",
      "model_name": "HTMLModel",
      "state": {
       "_dom_classes": [],
       "_model_module": "@jupyter-widgets/controls",
       "_model_module_version": "1.5.0",
       "_model_name": "HTMLModel",
       "_view_count": null,
       "_view_module": "@jupyter-widgets/controls",
       "_view_module_version": "1.5.0",
       "_view_name": "HTMLView",
       "description": "",
       "description_tooltip": null,
       "layout": "IPY_MODEL_2299e5d0d3b94d7a9a5fc454dcfe5c95",
       "placeholder": "​",
       "style": "IPY_MODEL_f9bcfba2f90e4641b07960002bbe5651",
       "value": " 97.8M/97.8M [00:05&lt;00:00, 24.4MB/s]"
      }
     },
     "874800ef1e6d4e0387972bb0e0ab9b89": {
      "model_module": "@jupyter-widgets/base",
      "model_module_version": "1.2.0",
      "model_name": "LayoutModel",
      "state": {
       "_model_module": "@jupyter-widgets/base",
       "_model_module_version": "1.2.0",
       "_model_name": "LayoutModel",
       "_view_count": null,
       "_view_module": "@jupyter-widgets/base",
       "_view_module_version": "1.2.0",
       "_view_name": "LayoutView",
       "align_content": null,
       "align_items": null,
       "align_self": null,
       "border": null,
       "bottom": null,
       "display": null,
       "flex": null,
       "flex_flow": null,
       "grid_area": null,
       "grid_auto_columns": null,
       "grid_auto_flow": null,
       "grid_auto_rows": null,
       "grid_column": null,
       "grid_gap": null,
       "grid_row": null,
       "grid_template_areas": null,
       "grid_template_columns": null,
       "grid_template_rows": null,
       "height": null,
       "justify_content": null,
       "justify_items": null,
       "left": null,
       "margin": null,
       "max_height": null,
       "max_width": null,
       "min_height": null,
       "min_width": null,
       "object_fit": null,
       "object_position": null,
       "order": null,
       "overflow": null,
       "overflow_x": null,
       "overflow_y": null,
       "padding": null,
       "right": null,
       "top": null,
       "visibility": null,
       "width": null
      }
     },
     "8847bef5156a4784a2570b4a3730e2ac": {
      "model_module": "@jupyter-widgets/controls",
      "model_module_version": "1.5.0",
      "model_name": "HTMLModel",
      "state": {
       "_dom_classes": [],
       "_model_module": "@jupyter-widgets/controls",
       "_model_module_version": "1.5.0",
       "_model_name": "HTMLModel",
       "_view_count": null,
       "_view_module": "@jupyter-widgets/controls",
       "_view_module_version": "1.5.0",
       "_view_name": "HTMLView",
       "description": "",
       "description_tooltip": null,
       "layout": "IPY_MODEL_3a42d41654bb4133883b207e832702c6",
       "placeholder": "​",
       "style": "IPY_MODEL_27d26ac0c69c4981b730181305985965",
       "value": "100%"
      }
     },
     "9e525bca697746a2b153317ef8770d32": {
      "model_module": "@jupyter-widgets/controls",
      "model_module_version": "1.5.0",
      "model_name": "ProgressStyleModel",
      "state": {
       "_model_module": "@jupyter-widgets/controls",
       "_model_module_version": "1.5.0",
       "_model_name": "ProgressStyleModel",
       "_view_count": null,
       "_view_module": "@jupyter-widgets/base",
       "_view_module_version": "1.2.0",
       "_view_name": "StyleView",
       "bar_color": null,
       "description_width": ""
      }
     },
     "bd81d6b5e6a04f419b22cfac22168696": {
      "model_module": "@jupyter-widgets/controls",
      "model_module_version": "1.5.0",
      "model_name": "FloatProgressModel",
      "state": {
       "_dom_classes": [],
       "_model_module": "@jupyter-widgets/controls",
       "_model_module_version": "1.5.0",
       "_model_name": "FloatProgressModel",
       "_view_count": null,
       "_view_module": "@jupyter-widgets/controls",
       "_view_module_version": "1.5.0",
       "_view_name": "ProgressView",
       "bar_style": "success",
       "description": "",
       "description_tooltip": null,
       "layout": "IPY_MODEL_874800ef1e6d4e0387972bb0e0ab9b89",
       "max": 102530333.0,
       "min": 0.0,
       "orientation": "horizontal",
       "style": "IPY_MODEL_9e525bca697746a2b153317ef8770d32",
       "value": 102530333.0
      }
     },
     "c3b4a2a55cd54e83a0c7a625b90280b2": {
      "model_module": "@jupyter-widgets/controls",
      "model_module_version": "1.5.0",
      "model_name": "HBoxModel",
      "state": {
       "_dom_classes": [],
       "_model_module": "@jupyter-widgets/controls",
       "_model_module_version": "1.5.0",
       "_model_name": "HBoxModel",
       "_view_count": null,
       "_view_module": "@jupyter-widgets/controls",
       "_view_module_version": "1.5.0",
       "_view_name": "HBoxView",
       "box_style": "",
       "children": [
        "IPY_MODEL_8847bef5156a4784a2570b4a3730e2ac",
        "IPY_MODEL_bd81d6b5e6a04f419b22cfac22168696",
        "IPY_MODEL_75be6523c83b4b30b0944c2191c1f6d4"
       ],
       "layout": "IPY_MODEL_f83d2d9f638d44bc8c080e0927689fdf"
      }
     },
     "f83d2d9f638d44bc8c080e0927689fdf": {
      "model_module": "@jupyter-widgets/base",
      "model_module_version": "1.2.0",
      "model_name": "LayoutModel",
      "state": {
       "_model_module": "@jupyter-widgets/base",
       "_model_module_version": "1.2.0",
       "_model_name": "LayoutModel",
       "_view_count": null,
       "_view_module": "@jupyter-widgets/base",
       "_view_module_version": "1.2.0",
       "_view_name": "LayoutView",
       "align_content": null,
       "align_items": null,
       "align_self": null,
       "border": null,
       "bottom": null,
       "display": null,
       "flex": null,
       "flex_flow": null,
       "grid_area": null,
       "grid_auto_columns": null,
       "grid_auto_flow": null,
       "grid_auto_rows": null,
       "grid_column": null,
       "grid_gap": null,
       "grid_row": null,
       "grid_template_areas": null,
       "grid_template_columns": null,
       "grid_template_rows": null,
       "height": null,
       "justify_content": null,
       "justify_items": null,
       "left": null,
       "margin": null,
       "max_height": null,
       "max_width": null,
       "min_height": null,
       "min_width": null,
       "object_fit": null,
       "object_position": null,
       "order": null,
       "overflow": null,
       "overflow_x": null,
       "overflow_y": null,
       "padding": null,
       "right": null,
       "top": null,
       "visibility": null,
       "width": null
      }
     },
     "f9bcfba2f90e4641b07960002bbe5651": {
      "model_module": "@jupyter-widgets/controls",
      "model_module_version": "1.5.0",
      "model_name": "DescriptionStyleModel",
      "state": {
       "_model_module": "@jupyter-widgets/controls",
       "_model_module_version": "1.5.0",
       "_model_name": "DescriptionStyleModel",
       "_view_count": null,
       "_view_module": "@jupyter-widgets/base",
       "_view_module_version": "1.2.0",
       "_view_name": "StyleView",
       "description_width": ""
      }
     }
    },
    "version_major": 2,
    "version_minor": 0
   }
  }
 },
 "nbformat": 4,
 "nbformat_minor": 5
}
