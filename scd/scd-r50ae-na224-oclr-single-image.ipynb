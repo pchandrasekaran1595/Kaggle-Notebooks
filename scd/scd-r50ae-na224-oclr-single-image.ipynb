{
 "cells": [
  {
   "cell_type": "markdown",
   "id": "bb52989b",
   "metadata": {
    "_cell_guid": "b1076dfc-b9ad-4769-8c92-a6c4dae69d19",
    "_uuid": "8f2839f25d086af736a60e9eeb907d3b93b6e0e5",
    "papermill": {
     "duration": 0.014867,
     "end_time": "2022-05-17T13:20:10.890256",
     "exception": false,
     "start_time": "2022-05-17T13:20:10.875389",
     "status": "completed"
    },
    "tags": []
   },
   "source": [
    "### **Library Imports**"
   ]
  },
  {
   "cell_type": "code",
   "execution_count": 1,
   "id": "60e75dea",
   "metadata": {
    "execution": {
     "iopub.execute_input": "2022-05-17T13:20:10.938906Z",
     "iopub.status.busy": "2022-05-17T13:20:10.937052Z",
     "iopub.status.idle": "2022-05-17T13:20:13.677887Z",
     "shell.execute_reply": "2022-05-17T13:20:13.677129Z"
    },
    "papermill": {
     "duration": 2.768003,
     "end_time": "2022-05-17T13:20:13.680092",
     "exception": false,
     "start_time": "2022-05-17T13:20:10.912089",
     "status": "completed"
    },
    "tags": []
   },
   "outputs": [],
   "source": [
    "import os\n",
    "import re\n",
    "import cv2\n",
    "import torch\n",
    "import random as r\n",
    "import numpy as np\n",
    "import pandas as pd\n",
    "import matplotlib.pyplot as plt\n",
    "\n",
    "from time import time\n",
    "from torch import nn, optim\n",
    "from torch.utils.data import Dataset\n",
    "from torch.utils.data import DataLoader as DL\n",
    "from torchvision import models, transforms\n",
    "\n",
    "from sklearn.model_selection import KFold"
   ]
  },
  {
   "cell_type": "markdown",
   "id": "2d3574e5",
   "metadata": {
    "papermill": {
     "duration": 0.012223,
     "end_time": "2022-05-17T13:20:13.705070",
     "exception": false,
     "start_time": "2022-05-17T13:20:13.692847",
     "status": "completed"
    },
    "tags": []
   },
   "source": [
    "### **Utilities and Constants**"
   ]
  },
  {
   "cell_type": "code",
   "execution_count": 2,
   "id": "357a07c5",
   "metadata": {
    "execution": {
     "iopub.execute_input": "2022-05-17T13:20:13.731094Z",
     "iopub.status.busy": "2022-05-17T13:20:13.730420Z",
     "iopub.status.idle": "2022-05-17T13:20:13.739130Z",
     "shell.execute_reply": "2022-05-17T13:20:13.738485Z"
    },
    "papermill": {
     "duration": 0.023477,
     "end_time": "2022-05-17T13:20:13.740752",
     "exception": false,
     "start_time": "2022-05-17T13:20:13.717275",
     "status": "completed"
    },
    "tags": []
   },
   "outputs": [],
   "source": [
    "SEED = 42\n",
    "\n",
    "\n",
    "def breaker(num: int=50, char: str=\"*\") -> None:\n",
    "    print(\"\\n\" + num*char + \"\\n\")\n",
    "    \n",
    "\n",
    "def show_graphs(L: list) -> None:\n",
    "    TL, VL = [], []\n",
    "    for i in range(len(L)):\n",
    "        TL.append(L[i][\"train\"])\n",
    "        VL.append(L[i][\"valid\"])\n",
    "    x_Axis = np.arange(1, len(TL) + 1)\n",
    "    plt.figure(figsize=(8, 6))\n",
    "    plt.plot(x_Axis, TL, \"r\", label=\"Train\")\n",
    "    plt.plot(x_Axis, VL, \"b\", label=\"Valid\")\n",
    "    plt.legend()\n",
    "    plt.grid()\n",
    "    plt.title(\"Loss Graph\")\n",
    "    plt.show()\n",
    "\n",
    "\n",
    "def show(image: np.ndarray, cmap: str=\"gnuplot2\") -> None:\n",
    "    plt.figure()\n",
    "    plt.imshow(image, cmap=cmap)\n",
    "    plt.axis(\"off\")\n",
    "    plt.show()"
   ]
  },
  {
   "cell_type": "markdown",
   "id": "ae8a659d",
   "metadata": {
    "papermill": {
     "duration": 0.01199,
     "end_time": "2022-05-17T13:20:13.764844",
     "exception": false,
     "start_time": "2022-05-17T13:20:13.752854",
     "status": "completed"
    },
    "tags": []
   },
   "source": [
    "### **Augmenter**"
   ]
  },
  {
   "cell_type": "code",
   "execution_count": 3,
   "id": "5c33bb72",
   "metadata": {
    "execution": {
     "iopub.execute_input": "2022-05-17T13:20:13.790383Z",
     "iopub.status.busy": "2022-05-17T13:20:13.790183Z",
     "iopub.status.idle": "2022-05-17T13:20:13.797848Z",
     "shell.execute_reply": "2022-05-17T13:20:13.796739Z"
    },
    "papermill": {
     "duration": 0.022458,
     "end_time": "2022-05-17T13:20:13.799513",
     "exception": false,
     "start_time": "2022-05-17T13:20:13.777055",
     "status": "completed"
    },
    "tags": []
   },
   "outputs": [],
   "source": [
    "class Augmenter(object):\n",
    "    def __init__(self, seed: int=None):\n",
    "        self.seed = seed\n",
    "\n",
    "    def rotate_and_scale(self, image: np.ndarray, angle: float = 0.0, scale: float = 1.0) -> np.ndarray:\n",
    "        if self.seed is not None: r.seed(self.seed)\n",
    "        h, w, _ = image.shape\n",
    "        if angle != 0.0: angle = r.uniform(-1, 1) * angle\n",
    "        if scale != 1.0: scale = 1 + r.uniform(-1, 1) * scale\n",
    "        M = cv2.getRotationMatrix2D(center=(int(w/2), int(h/2)), angle=angle, scale=scale)\n",
    "        cv2.warpAffine(src=image, M=M, dsize=(w, h), dst=image)"
   ]
  },
  {
   "cell_type": "markdown",
   "id": "24207332",
   "metadata": {
    "papermill": {
     "duration": 0.012873,
     "end_time": "2022-05-17T13:20:13.825946",
     "exception": false,
     "start_time": "2022-05-17T13:20:13.813073",
     "status": "completed"
    },
    "tags": []
   },
   "source": [
    "### **Configuration**"
   ]
  },
  {
   "cell_type": "code",
   "execution_count": 4,
   "id": "00ba0977",
   "metadata": {
    "execution": {
     "iopub.execute_input": "2022-05-17T13:20:13.855141Z",
     "iopub.status.busy": "2022-05-17T13:20:13.854429Z",
     "iopub.status.idle": "2022-05-17T13:20:13.921389Z",
     "shell.execute_reply": "2022-05-17T13:20:13.920532Z"
    },
    "papermill": {
     "duration": 0.083616,
     "end_time": "2022-05-17T13:20:13.923736",
     "exception": false,
     "start_time": "2022-05-17T13:20:13.840120",
     "status": "completed"
    },
    "tags": []
   },
   "outputs": [],
   "source": [
    "class CFG(object):\n",
    "    def __init__(self, \n",
    "                 seed: int = 42,\n",
    "                 in_channels: int = 3,\n",
    "                 size: int = 224,\n",
    "                 n_splits: int = 5,\n",
    "                 batch_size: int = 16,\n",
    "                 epochs: int = 25,\n",
    "                 early_stopping: int = 5,\n",
    "                 lr: float = 1e-4,\n",
    "                 wd: float = 0.0,\n",
    "                 max_lr: float = 1e-3,\n",
    "                 pct_start: float = 0.2,\n",
    "                 steps_per_epoch: int = 100,\n",
    "                 div_factor: int = 1e3, \n",
    "                 final_div_factor: float = 1e3,\n",
    "                 ):\n",
    "        \n",
    "        self.seed = seed\n",
    "        self.in_channels = in_channels\n",
    "        self.size = size\n",
    "        self.n_splits = n_splits\n",
    "        self.batch_size = batch_size\n",
    "        self.epochs = epochs\n",
    "        self.early_stopping = early_stopping\n",
    "        self.lr = lr\n",
    "        self.wd = wd\n",
    "        self.max_lr = max_lr\n",
    "        self.pct_start = pct_start\n",
    "        self.steps_per_epoch = steps_per_epoch\n",
    "        self.div_factor = div_factor\n",
    "        self.final_div_factor = final_div_factor\n",
    "        self.device = torch.device(\"cuda\" if torch.cuda.is_available() else \"cpu\")\n",
    "        self.transform = transforms.Compose([transforms.ToTensor(),\n",
    "                                transforms.Normalize([0.39673, 0.44977, 0.47369],\n",
    "                                                     [0.28161, 0.28911, 0.29769]),\n",
    "                                ])\n",
    "        self.save_path = \"saves\"\n",
    "        if not os.path.exists(self.save_path): os.makedirs(self.save_path)\n",
    "    \n",
    "cfg = CFG(seed=SEED, size=224)"
   ]
  },
  {
   "cell_type": "markdown",
   "id": "2af8961e",
   "metadata": {
    "papermill": {
     "duration": 0.016445,
     "end_time": "2022-05-17T13:20:13.954625",
     "exception": false,
     "start_time": "2022-05-17T13:20:13.938180",
     "status": "completed"
    },
    "tags": []
   },
   "source": [
    "### **Dataset Template**"
   ]
  },
  {
   "cell_type": "code",
   "execution_count": 5,
   "id": "7c8ab429",
   "metadata": {
    "execution": {
     "iopub.execute_input": "2022-05-17T13:20:13.987146Z",
     "iopub.status.busy": "2022-05-17T13:20:13.986416Z",
     "iopub.status.idle": "2022-05-17T13:20:13.991944Z",
     "shell.execute_reply": "2022-05-17T13:20:13.991180Z"
    },
    "papermill": {
     "duration": 0.024899,
     "end_time": "2022-05-17T13:20:13.993823",
     "exception": false,
     "start_time": "2022-05-17T13:20:13.968924",
     "status": "completed"
    },
    "tags": []
   },
   "outputs": [],
   "source": [
    "class DS(Dataset):\n",
    "    def __init__(self, images: np.ndarray, transform=None):\n",
    "        self.images = images\n",
    "        self.transform = transform\n",
    "    \n",
    "    def __len__(self):\n",
    "        return self.images.shape[0]\n",
    "    \n",
    "    def __getitem__(self, idx):\n",
    "        return self.transform(self.images[idx])"
   ]
  },
  {
   "cell_type": "markdown",
   "id": "c756a97b",
   "metadata": {
    "papermill": {
     "duration": 0.012956,
     "end_time": "2022-05-17T13:20:14.020242",
     "exception": false,
     "start_time": "2022-05-17T13:20:14.007286",
     "status": "completed"
    },
    "tags": []
   },
   "source": [
    "### **Model**"
   ]
  },
  {
   "cell_type": "code",
   "execution_count": 6,
   "id": "bce0da91",
   "metadata": {
    "execution": {
     "iopub.execute_input": "2022-05-17T13:20:14.048826Z",
     "iopub.status.busy": "2022-05-17T13:20:14.048080Z",
     "iopub.status.idle": "2022-05-17T13:20:14.180948Z",
     "shell.execute_reply": "2022-05-17T13:20:14.180134Z"
    },
    "papermill": {
     "duration": 0.149455,
     "end_time": "2022-05-17T13:20:14.182780",
     "exception": false,
     "start_time": "2022-05-17T13:20:14.033325",
     "status": "completed"
    },
    "tags": []
   },
   "outputs": [],
   "source": [
    "class Model(nn.Module):\n",
    "    def __init__(self, in_channels: int = 3):\n",
    "        super(Model, self).__init__()\n",
    "\n",
    "        self.encoder = models.resnet50(pretrained=True, progress=True)\n",
    "        # self.freeze()\n",
    "        self.encoder = nn.Sequential(*[*self.encoder.children()][:-2])\n",
    "        if in_channels != 3:\n",
    "            self.encoder[0] = nn.Conv2d(in_channels=in_channels, \n",
    "                                        out_channels=self.encoder[0].out_channels, \n",
    "                                        kernel_size=self.encoder[0].kernel_size, \n",
    "                                        stride=self.encoder[0].stride,\n",
    "                                        padding=self.encoder[0].padding)\n",
    "\n",
    "        self.decoder = nn.Sequential()\n",
    "        self.decoder.add_module(\"DC1\", nn.ConvTranspose2d(in_channels=2048, out_channels=512, kernel_size=(3, 3), stride=(1, 1), padding=(1, 1)))\n",
    "        self.decoder.add_module(\"AN1\", nn.ReLU())\n",
    "        self.decoder.add_module(\"UP1\", nn.Upsample(scale_factor=2))\n",
    "        self.decoder.add_module(\"DC2\", nn.ConvTranspose2d(in_channels=512, out_channels=256, kernel_size=(3, 3), stride=(1, 1), padding=(1, 1)))\n",
    "        self.decoder.add_module(\"AN2\", nn.ReLU())\n",
    "        self.decoder.add_module(\"UP2\", nn.Upsample(scale_factor=2))\n",
    "        self.decoder.add_module(\"DC3\", nn.ConvTranspose2d(in_channels=256, out_channels=128, kernel_size=(3, 3), stride=(1, 1), padding=(1, 1)))\n",
    "        self.decoder.add_module(\"AN3\", nn.ReLU())\n",
    "        self.decoder.add_module(\"UP3\", nn.Upsample(scale_factor=2))\n",
    "        self.decoder.add_module(\"DC4\", nn.ConvTranspose2d(in_channels=128, out_channels=64, kernel_size=(3, 3), stride=(1, 1), padding=(1, 1)))\n",
    "        self.decoder.add_module(\"AN4\", nn.ReLU())\n",
    "        self.decoder.add_module(\"UP4\", nn.Upsample(scale_factor=2))\n",
    "        self.decoder.add_module(\"DC5\", nn.ConvTranspose2d(in_channels=64, out_channels=in_channels, kernel_size=(3, 3), stride=(1, 1), padding=(1, 1)))\n",
    "        self.decoder.add_module(\"AN5\", nn.ReLU())\n",
    "        self.decoder.add_module(\"UP5\", nn.Upsample(scale_factor=2))\n",
    "    \n",
    "    def freeze(self):\n",
    "        for params in self.parameters(): params.requires_grad = False\n",
    "    \n",
    "    def forward(self, x):\n",
    "        encoded = self.encoder(x)\n",
    "        decoded = self.decoder(encoded)\n",
    "        \n",
    "        return encoded, decoded"
   ]
  },
  {
   "cell_type": "markdown",
   "id": "c1692ef1",
   "metadata": {
    "papermill": {
     "duration": 0.012984,
     "end_time": "2022-05-17T13:20:14.209119",
     "exception": false,
     "start_time": "2022-05-17T13:20:14.196135",
     "status": "completed"
    },
    "tags": []
   },
   "source": [
    "### **Fit and Predict Helper**"
   ]
  },
  {
   "cell_type": "code",
   "execution_count": 7,
   "id": "51d54fd0",
   "metadata": {
    "execution": {
     "iopub.execute_input": "2022-05-17T13:20:14.236889Z",
     "iopub.status.busy": "2022-05-17T13:20:14.236615Z",
     "iopub.status.idle": "2022-05-17T13:20:14.265860Z",
     "shell.execute_reply": "2022-05-17T13:20:14.265118Z"
    },
    "papermill": {
     "duration": 0.045676,
     "end_time": "2022-05-17T13:20:14.267753",
     "exception": false,
     "start_time": "2022-05-17T13:20:14.222077",
     "status": "completed"
    },
    "tags": []
   },
   "outputs": [],
   "source": [
    "def fit(model=None, \n",
    "        optimizer=None, \n",
    "        scheduler=None, \n",
    "        epochs=None, \n",
    "        early_stopping_patience=None, \n",
    "        dataloaders=None, \n",
    "        fold=None, \n",
    "        device=None,\n",
    "        save_path=None,\n",
    "        verbose=False) -> tuple:\n",
    "    \n",
    "    if verbose:\n",
    "        breaker()\n",
    "        if fold: print(f\"Training Fold {fold}...\")\n",
    "        else: print(\"Training ...\")\n",
    "        breaker()\n",
    "        \n",
    "    bestLoss = {\"train\" : np.inf, \"valid\" : np.inf}\n",
    "    Losses, LRs = [], []\n",
    "    if fold: name = f\"state_fold_{fold}.pt\"\n",
    "    else: name = \"state.pt\"\n",
    "\n",
    "    start_time = time()\n",
    "    for e in range(epochs):\n",
    "        e_st = time()\n",
    "        epochLoss = {\"train\" : 0.0, \"valid\" : 0.0}\n",
    "\n",
    "        for phase in [\"train\", \"valid\"]:\n",
    "            if phase == \"train\":\n",
    "                model.train()\n",
    "            else:\n",
    "                model.eval()\n",
    "            \n",
    "            lossPerPass = []\n",
    "\n",
    "            for X in dataloaders[phase]:\n",
    "                X = X.to(device)\n",
    "\n",
    "                optimizer.zero_grad()\n",
    "                with torch.set_grad_enabled(phase == \"train\"):\n",
    "                    _, decoded = model(X)\n",
    "                    loss = torch.nn.MSELoss()(decoded, X)\n",
    "                    if phase == \"train\":\n",
    "                        loss.backward()\n",
    "                        optimizer.step()\n",
    "                        if scheduler: scheduler.step()\n",
    "                lossPerPass.append(loss.item())\n",
    "            epochLoss[phase] = np.mean(np.array(lossPerPass))\n",
    "        LRs.append(scheduler.get_last_lr())\n",
    "        Losses.append(epochLoss)\n",
    "        \n",
    "        if early_stopping_patience:\n",
    "            if epochLoss[\"valid\"] < bestLoss[\"valid\"]:\n",
    "                bestLoss = epochLoss\n",
    "                BLE = e + 1\n",
    "                torch.save({\"model_state_dict\"     : model.state_dict(),\n",
    "                            \"optim_state_dict\"     : optimizer.state_dict(),\n",
    "                            \"scheduler_state_dict\" : scheduler.state_dict()},\n",
    "                           os.path.join(save_path, name))\n",
    "                early_stopping_step = 0\n",
    "            else:\n",
    "                early_stopping_step += 1\n",
    "                if early_stopping_step > early_stopping_patience:\n",
    "                    print(\"\\nEarly Stopping at Epoch {}\".format(e + 1))\n",
    "                    break\n",
    "        \n",
    "        if epochLoss[\"valid\"] < bestLoss[\"valid\"]:\n",
    "            bestLoss = epochLoss\n",
    "            BLE = e + 1\n",
    "            torch.save({\"model_state_dict\"     : model.state_dict(),\n",
    "                        \"optim_state_dict\"     : optimizer.state_dict(),\n",
    "                        \"scheduler_state_dict\" : scheduler.state_dict()},\n",
    "                        os.path.join(save_path, name))\n",
    "        \n",
    "        if verbose:\n",
    "            print(\"Epoch: {} | Train Loss: {:.5f} | Valid Loss: {:.5f} | Time: {:.2f} seconds\".format(e+1, epochLoss[\"train\"], epochLoss[\"valid\"], time()-e_st))\n",
    "\n",
    "    if verbose:                                           \n",
    "        breaker()\n",
    "        print(f\"Best Validation Loss at Epoch {BLE}\")\n",
    "        breaker()\n",
    "        print(\"Time Taken [{} Epochs] : {:.2f} minutes\".format(len(Losses), (time()-start_time)/60))\n",
    "    \n",
    "    return Losses, LRs, BLE, name\n",
    "\n",
    "\n",
    "def predict_batch(model=None, dataloader=None, device=None, in_channels=None, size=None, path=None) -> np.ndarray:\n",
    "    model.load_state_dict(torch.load(path, map_location=device)[\"model_state_dict\"])\n",
    "    model.to(device)    \n",
    "    model.eval()\n",
    "    \n",
    "    y_pred = torch.zeros(1, in_channels, size, size).to(device)\n",
    "    \n",
    "    for X in dataloader:\n",
    "        X = X.to(device)\n",
    "        with torch.no_grad():\n",
    "            output = torch.sigmoid(model(X))\n",
    "        y_pred = torch.cat((y_pred, output), dim=0)\n",
    "    \n",
    "    return y_pred[1:].detach().cpu().numpy()\n",
    "\n",
    "\n",
    "def predict(model=None, device=None, image=None, size=None, path=None) -> np.ndarray:\n",
    "    model.load_state_dict(torch.load(path, map_location=device)[\"model_state_dict\"])\n",
    "    model.to(device)    \n",
    "    model.eval()\n",
    "    \n",
    "    h, w, _ = image.shape\n",
    "    temp_image = cv2.resize(src=image, dsize=(size, size), interpolation=cv2.INTER_AREA)\n",
    "\n",
    "    with torch.no_grad(): _, decoded = model(transforms.ToTensor()(temp_image).unsqueeze(dim=0).to(cfg.device))\n",
    "        \n",
    "    decoded_image = np.clip(decoded.squeeze().detach().cpu().numpy().transpose(1, 2, 0)*255, 0, 255).astype(\"uint8\")\n",
    "    return cv2.resize(src=decoded_image, dsize=(w, h), interpolation=cv2.INTER_AREA)"
   ]
  },
  {
   "cell_type": "markdown",
   "id": "73bc5df8",
   "metadata": {
    "papermill": {
     "duration": 0.012744,
     "end_time": "2022-05-17T13:20:14.293648",
     "exception": false,
     "start_time": "2022-05-17T13:20:14.280904",
     "status": "completed"
    },
    "tags": []
   },
   "source": [
    "### **Train**"
   ]
  },
  {
   "cell_type": "code",
   "execution_count": 8,
   "id": "08f25b2f",
   "metadata": {
    "execution": {
     "iopub.execute_input": "2022-05-17T13:20:14.321687Z",
     "iopub.status.busy": "2022-05-17T13:20:14.320836Z",
     "iopub.status.idle": "2022-05-17T13:20:36.184854Z",
     "shell.execute_reply": "2022-05-17T13:20:36.184075Z"
    },
    "papermill": {
     "duration": 21.880374,
     "end_time": "2022-05-17T13:20:36.187328",
     "exception": false,
     "start_time": "2022-05-17T13:20:14.306954",
     "status": "completed"
    },
    "tags": []
   },
   "outputs": [],
   "source": [
    "images = np.load(f\"../input/single-scd-images-{cfg.size}/images_{cfg.size}.npy\")"
   ]
  },
  {
   "cell_type": "code",
   "execution_count": 9,
   "id": "1cb47c49",
   "metadata": {
    "execution": {
     "iopub.execute_input": "2022-05-17T13:20:36.214635Z",
     "iopub.status.busy": "2022-05-17T13:20:36.214394Z",
     "iopub.status.idle": "2022-05-17T14:43:48.645577Z",
     "shell.execute_reply": "2022-05-17T14:43:48.644914Z"
    },
    "papermill": {
     "duration": 4992.446865,
     "end_time": "2022-05-17T14:43:48.647720",
     "exception": false,
     "start_time": "2022-05-17T13:20:36.200855",
     "status": "completed"
    },
    "tags": []
   },
   "outputs": [
    {
     "name": "stderr",
     "output_type": "stream",
     "text": [
      "Downloading: \"https://download.pytorch.org/models/resnet50-0676ba61.pth\" to /root/.cache/torch/hub/checkpoints/resnet50-0676ba61.pth\n"
     ]
    },
    {
     "data": {
      "application/vnd.jupyter.widget-view+json": {
       "model_id": "13e384c5a8be4e1bbed2c55483c72269",
       "version_major": 2,
       "version_minor": 0
      },
      "text/plain": [
       "  0%|          | 0.00/97.8M [00:00<?, ?B/s]"
      ]
     },
     "metadata": {},
     "output_type": "display_data"
    },
    {
     "name": "stdout",
     "output_type": "stream",
     "text": [
      "\n",
      "**************************************************\n",
      "\n",
      "Training ...\n",
      "\n",
      "**************************************************\n",
      "\n",
      "Epoch: 1 | Train Loss: 0.66887 | Valid Loss: 0.57689 | Time: 134.18 seconds\n",
      "Epoch: 2 | Train Loss: 0.55120 | Valid Loss: 0.53924 | Time: 128.67 seconds\n",
      "Epoch: 3 | Train Loss: 0.53500 | Valid Loss: 0.53432 | Time: 128.55 seconds\n",
      "Epoch: 4 | Train Loss: 0.52888 | Valid Loss: 0.52678 | Time: 128.36 seconds\n",
      "Epoch: 5 | Train Loss: 0.52483 | Valid Loss: 0.52397 | Time: 128.39 seconds\n",
      "Epoch: 6 | Train Loss: 0.52079 | Valid Loss: 0.52171 | Time: 128.48 seconds\n",
      "Epoch: 7 | Train Loss: 0.51895 | Valid Loss: 0.51658 | Time: 128.60 seconds\n",
      "Epoch: 8 | Train Loss: 0.51477 | Valid Loss: 0.51555 | Time: 129.36 seconds\n",
      "Epoch: 9 | Train Loss: 0.51985 | Valid Loss: 0.51487 | Time: 128.32 seconds\n",
      "Epoch: 10 | Train Loss: 0.51205 | Valid Loss: 0.51384 | Time: 128.77 seconds\n",
      "Epoch: 11 | Train Loss: 0.51159 | Valid Loss: 0.51354 | Time: 128.71 seconds\n",
      "Epoch: 12 | Train Loss: 0.51110 | Valid Loss: 0.55966 | Time: 127.41 seconds\n",
      "Epoch: 13 | Train Loss: 0.51099 | Valid Loss: 0.51175 | Time: 128.87 seconds\n",
      "Epoch: 14 | Train Loss: 0.50988 | Valid Loss: 0.51157 | Time: 129.32 seconds\n",
      "Epoch: 15 | Train Loss: 0.50959 | Valid Loss: 0.51182 | Time: 127.72 seconds\n",
      "Epoch: 16 | Train Loss: 0.50930 | Valid Loss: 0.51153 | Time: 128.79 seconds\n",
      "Epoch: 17 | Train Loss: 0.50896 | Valid Loss: 0.51313 | Time: 127.70 seconds\n",
      "Epoch: 18 | Train Loss: 0.50872 | Valid Loss: 0.51038 | Time: 128.00 seconds\n",
      "Epoch: 19 | Train Loss: 0.50837 | Valid Loss: 0.50993 | Time: 128.49 seconds\n",
      "Epoch: 20 | Train Loss: 0.50807 | Valid Loss: 0.51012 | Time: 127.33 seconds\n",
      "Epoch: 21 | Train Loss: 0.50794 | Valid Loss: 0.50959 | Time: 128.54 seconds\n",
      "Epoch: 22 | Train Loss: 0.50772 | Valid Loss: 0.50956 | Time: 128.43 seconds\n",
      "Epoch: 23 | Train Loss: 0.50760 | Valid Loss: 0.50981 | Time: 127.20 seconds\n",
      "Epoch: 24 | Train Loss: 0.50740 | Valid Loss: 0.50924 | Time: 128.24 seconds\n",
      "Epoch: 25 | Train Loss: 0.50726 | Valid Loss: 0.50915 | Time: 128.25 seconds\n",
      "Epoch: 26 | Train Loss: 0.50719 | Valid Loss: 0.50904 | Time: 127.24 seconds\n",
      "Epoch: 27 | Train Loss: 0.50707 | Valid Loss: 0.50901 | Time: 126.45 seconds\n",
      "Epoch: 28 | Train Loss: 0.50698 | Valid Loss: 0.51074 | Time: 125.62 seconds\n",
      "Epoch: 29 | Train Loss: 0.50686 | Valid Loss: 0.50904 | Time: 126.23 seconds\n",
      "Epoch: 30 | Train Loss: 0.50681 | Valid Loss: 0.50875 | Time: 127.04 seconds\n",
      "Epoch: 31 | Train Loss: 0.50672 | Valid Loss: 0.51151 | Time: 126.58 seconds\n",
      "Epoch: 32 | Train Loss: 0.50667 | Valid Loss: 0.77281 | Time: 126.67 seconds\n",
      "Epoch: 33 | Train Loss: 0.50661 | Valid Loss: 0.50856 | Time: 127.27 seconds\n",
      "Epoch: 34 | Train Loss: 0.50656 | Valid Loss: 0.50958 | Time: 125.55 seconds\n",
      "Epoch: 35 | Train Loss: 0.50649 | Valid Loss: 0.53737 | Time: 125.52 seconds\n",
      "Epoch: 36 | Train Loss: 0.50645 | Valid Loss: 0.51001 | Time: 125.46 seconds\n",
      "Epoch: 37 | Train Loss: 0.50642 | Valid Loss: 0.51017 | Time: 125.89 seconds\n",
      "Epoch: 38 | Train Loss: 0.50638 | Valid Loss: 0.51810 | Time: 125.73 seconds\n",
      "\n",
      "Early Stopping at Epoch 39\n",
      "\n",
      "**************************************************\n",
      "\n",
      "Best Validation Loss at Epoch 33\n",
      "\n",
      "**************************************************\n",
      "\n",
      "Time Taken [39 Epochs] : 83.03 minutes\n",
      "\n",
      "**************************************************\n",
      "\n"
     ]
    },
    {
     "data": {
      "image/png": "[encoded data removed]",
      "text/plain": [
       "<Figure size 576x432 with 1 Axes>"
      ]
     },
     "metadata": {
      "needs_background": "light"
     },
     "output_type": "display_data"
    },
    {
     "name": "stdout",
     "output_type": "stream",
     "text": [
      "\n",
      "**************************************************\n",
      "\n"
     ]
    },
    {
     "data": {
      "image/png": "[encoded data removed]",
      "text/plain": [
       "<Figure size 576x432 with 1 Axes>"
      ]
     },
     "metadata": {
      "needs_background": "light"
     },
     "output_type": "display_data"
    },
    {
     "name": "stdout",
     "output_type": "stream",
     "text": [
      "\n",
      "**************************************************\n",
      "\n"
     ]
    }
   ],
   "source": [
    "for tr_idx, va_idx in KFold(n_splits=cfg.n_splits, shuffle=True, random_state=cfg.seed).split(images):\n",
    "    break\n",
    "\n",
    "tr_images, va_images = images[tr_idx], images[va_idx]\n",
    "\n",
    "tr_data_setup = DS(tr_images, cfg.transform)\n",
    "va_data_setup = DS(va_images, cfg.transform)\n",
    "\n",
    "dataloaders = {\n",
    "    \"train\" : DL(tr_data_setup, batch_size=cfg.batch_size, shuffle=True, generator=torch.manual_seed(cfg.seed)),\n",
    "    \"valid\" : DL(va_data_setup, batch_size=cfg.batch_size, shuffle=False)\n",
    "}\n",
    "\n",
    "cfg = CFG(seed=SEED, size=224, epochs=50, early_stopping=5, lr=1e-3, wd=0.0, steps_per_epoch=len(dataloaders[\"train\"]))\n",
    "\n",
    "torch.manual_seed(cfg.seed)\n",
    "model = Model().to(cfg.device)\n",
    "optimizer = optim.Adam([p for p in model.parameters() if p.requires_grad], lr=cfg.lr, weight_decay=cfg.wd)\n",
    "scheduler = optim.lr_scheduler.OneCycleLR(optimizer=optimizer, \n",
    "                                          max_lr=cfg.max_lr, \n",
    "                                          epochs=cfg.epochs, \n",
    "                                          steps_per_epoch=cfg.steps_per_epoch,\n",
    "                                          pct_start=cfg.pct_start, \n",
    "                                          div_factor=cfg.div_factor, \n",
    "                                          final_div_factor=cfg.final_div_factor)\n",
    "\n",
    "L, LRs, BLE, name = fit(model=model, \n",
    "                        optimizer=optimizer, \n",
    "                        scheduler=scheduler, \n",
    "                        epochs=cfg.epochs, \n",
    "                        early_stopping_patience=cfg.early_stopping, \n",
    "                        dataloaders=dataloaders, \n",
    "                        device=cfg.device,\n",
    "                        save_path=cfg.save_path,\n",
    "                        verbose=True)\n",
    "\n",
    "breaker()\n",
    "show_graphs(L)\n",
    "breaker()\n",
    "x_Axis = [i+1 for i in range(len(LRs))]\n",
    "plt.figure(figsize=(8, 6))\n",
    "plt.plot(x_Axis, LRs, \"rx\")\n",
    "plt.grid()\n",
    "plt.show()\n",
    "breaker()"
   ]
  }
 ],
 "metadata": {
  "kernelspec": {
   "display_name": "Python 3",
   "language": "python",
   "name": "python3"
  },
  "language_info": {
   "codemirror_mode": {
    "name": "ipython",
    "version": 3
   },
   "file_extension": ".py",
   "mimetype": "text/x-python",
   "name": "python",
   "nbconvert_exporter": "python",
   "pygments_lexer": "ipython3",
   "version": "3.7.12"
  },
  "papermill": {
   "default_parameters": {},
   "duration": 5027.250544,
   "end_time": "2022-05-17T14:43:50.312913",
   "environment_variables": {},
   "exception": null,
   "input_path": "__notebook__.ipynb",
   "output_path": "__notebook__.ipynb",
   "parameters": {},
   "start_time": "2022-05-17T13:20:03.062369",
   "version": "2.3.4"
  },
  "widgets": {
   "application/vnd.jupyter.widget-state+json": {
    "state": {
     "13e384c5a8be4e1bbed2c55483c72269": {
      "model_module": "@jupyter-widgets/controls",
      "model_module_version": "1.5.0",
      "model_name": "HBoxModel",
      "state": {
       "_dom_classes": [],
       "_model_module": "@jupyter-widgets/controls",
       "_model_module_version": "1.5.0",
       "_model_name": "HBoxModel",
       "_view_count": null,
       "_view_module": "@jupyter-widgets/controls",
       "_view_module_version": "1.5.0",
       "_view_name": "HBoxView",
       "box_style": "",
       "children": [
        "IPY_MODEL_45a411c01dd94b3498f89de70fab4576",
        "IPY_MODEL_df2f7bcd19be4ccda27e6e143e12de69",
        "IPY_MODEL_1cf092b361e9426c891e3f8b8fb55797"
       ],
       "layout": "IPY_MODEL_bba1bf3c2bc64a1a87b90f782ad366d7"
      }
     },
     "1cf092b361e9426c891e3f8b8fb55797": {
      "model_module": "@jupyter-widgets/controls",
      "model_module_version": "1.5.0",
      "model_name": "HTMLModel",
      "state": {
       "_dom_classes": [],
       "_model_module": "@jupyter-widgets/controls",
       "_model_module_version": "1.5.0",
       "_model_name": "HTMLModel",
       "_view_count": null,
       "_view_module": "@jupyter-widgets/controls",
       "_view_module_version": "1.5.0",
       "_view_name": "HTMLView",
       "description": "",
       "description_tooltip": null,
       "layout": "IPY_MODEL_dd2d14d54d184e76b5458abb869e86bf",
       "placeholder": "​",
       "style": "IPY_MODEL_dc99fdc89c3745d3910bf1c1f3fa3af4",
       "value": " 97.8M/97.8M [00:05&lt;00:00, 23.7MB/s]"
      }
     },
     "45a411c01dd94b3498f89de70fab4576": {
      "model_module": "@jupyter-widgets/controls",
      "model_module_version": "1.5.0",
      "model_name": "HTMLModel",
      "state": {
       "_dom_classes": [],
       "_model_module": "@jupyter-widgets/controls",
       "_model_module_version": "1.5.0",
       "_model_name": "HTMLModel",
       "_view_count": null,
       "_view_module": "@jupyter-widgets/controls",
       "_view_module_version": "1.5.0",
       "_view_name": "HTMLView",
       "description": "",
       "description_tooltip": null,
       "layout": "IPY_MODEL_cab46ed9ffb34178a2bed203aeb5aef1",
       "placeholder": "​",
       "style": "IPY_MODEL_84dc8d1e5d284dc9a25858924da266a1",
       "value": "100%"
      }
     },
     "752e95d3b46e48cbb958ec5c1412df4f": {
      "model_module": "@jupyter-widgets/base",
      "model_module_version": "1.2.0",
      "model_name": "LayoutModel",
      "state": {
       "_model_module": "@jupyter-widgets/base",
       "_model_module_version": "1.2.0",
       "_model_name": "LayoutModel",
       "_view_count": null,
       "_view_module": "@jupyter-widgets/base",
       "_view_module_version": "1.2.0",
       "_view_name": "LayoutView",
       "align_content": null,
       "align_items": null,
       "align_self": null,
       "border": null,
       "bottom": null,
       "display": null,
       "flex": null,
       "flex_flow": null,
       "grid_area": null,
       "grid_auto_columns": null,
       "grid_auto_flow": null,
       "grid_auto_rows": null,
       "grid_column": null,
       "grid_gap": null,
       "grid_row": null,
       "grid_template_areas": null,
       "grid_template_columns": null,
       "grid_template_rows": null,
       "height": null,
       "justify_content": null,
       "justify_items": null,
       "left": null,
       "margin": null,
       "max_height": null,
       "max_width": null,
       "min_height": null,
       "min_width": null,
       "object_fit": null,
       "object_position": null,
       "order": null,
       "overflow": null,
       "overflow_x": null,
       "overflow_y": null,
       "padding": null,
       "right": null,
       "top": null,
       "visibility": null,
       "width": null
      }
     },
     "84dc8d1e5d284dc9a25858924da266a1": {
      "model_module": "@jupyter-widgets/controls",
      "model_module_version": "1.5.0",
      "model_name": "DescriptionStyleModel",
      "state": {
       "_model_module": "@jupyter-widgets/controls",
       "_model_module_version": "1.5.0",
       "_model_name": "DescriptionStyleModel",
       "_view_count": null,
       "_view_module": "@jupyter-widgets/base",
       "_view_module_version": "1.2.0",
       "_view_name": "StyleView",
       "description_width": ""
      }
     },
     "87a6e57a59bc45598c752700c9ab31e0": {
      "model_module": "@jupyter-widgets/controls",
      "model_module_version": "1.5.0",
      "model_name": "ProgressStyleModel",
      "state": {
       "_model_module": "@jupyter-widgets/controls",
       "_model_module_version": "1.5.0",
       "_model_name": "ProgressStyleModel",
       "_view_count": null,
       "_view_module": "@jupyter-widgets/base",
       "_view_module_version": "1.2.0",
       "_view_name": "StyleView",
       "bar_color": null,
       "description_width": ""
      }
     },
     "bba1bf3c2bc64a1a87b90f782ad366d7": {
      "model_module": "@jupyter-widgets/base",
      "model_module_version": "1.2.0",
      "model_name": "LayoutModel",
      "state": {
       "_model_module": "@jupyter-widgets/base",
       "_model_module_version": "1.2.0",
       "_model_name": "LayoutModel",
       "_view_count": null,
       "_view_module": "@jupyter-widgets/base",
       "_view_module_version": "1.2.0",
       "_view_name": "LayoutView",
       "align_content": null,
       "align_items": null,
       "align_self": null,
       "border": null,
       "bottom": null,
       "display": null,
       "flex": null,
       "flex_flow": null,
       "grid_area": null,
       "grid_auto_columns": null,
       "grid_auto_flow": null,
       "grid_auto_rows": null,
       "grid_column": null,
       "grid_gap": null,
       "grid_row": null,
       "grid_template_areas": null,
       "grid_template_columns": null,
       "grid_template_rows": null,
       "height": null,
       "justify_content": null,
       "justify_items": null,
       "left": null,
       "margin": null,
       "max_height": null,
       "max_width": null,
       "min_height": null,
       "min_width": null,
       "object_fit": null,
       "object_position": null,
       "order": null,
       "overflow": null,
       "overflow_x": null,
       "overflow_y": null,
       "padding": null,
       "right": null,
       "top": null,
       "visibility": null,
       "width": null
      }
     },
     "cab46ed9ffb34178a2bed203aeb5aef1": {
      "model_module": "@jupyter-widgets/base",
      "model_module_version": "1.2.0",
      "model_name": "LayoutModel",
      "state": {
       "_model_module": "@jupyter-widgets/base",
       "_model_module_version": "1.2.0",
       "_model_name": "LayoutModel",
       "_view_count": null,
       "_view_module": "@jupyter-widgets/base",
       "_view_module_version": "1.2.0",
       "_view_name": "LayoutView",
       "align_content": null,
       "align_items": null,
       "align_self": null,
       "border": null,
       "bottom": null,
       "display": null,
       "flex": null,
       "flex_flow": null,
       "grid_area": null,
       "grid_auto_columns": null,
       "grid_auto_flow": null,
       "grid_auto_rows": null,
       "grid_column": null,
       "grid_gap": null,
       "grid_row": null,
       "grid_template_areas": null,
       "grid_template_columns": null,
       "grid_template_rows": null,
       "height": null,
       "justify_content": null,
       "justify_items": null,
       "left": null,
       "margin": null,
       "max_height": null,
       "max_width": null,
       "min_height": null,
       "min_width": null,
       "object_fit": null,
       "object_position": null,
       "order": null,
       "overflow": null,
       "overflow_x": null,
       "overflow_y": null,
       "padding": null,
       "right": null,
       "top": null,
       "visibility": null,
       "width": null
      }
     },
     "dc99fdc89c3745d3910bf1c1f3fa3af4": {
      "model_module": "@jupyter-widgets/controls",
      "model_module_version": "1.5.0",
      "model_name": "DescriptionStyleModel",
      "state": {
       "_model_module": "@jupyter-widgets/controls",
       "_model_module_version": "1.5.0",
       "_model_name": "DescriptionStyleModel",
       "_view_count": null,
       "_view_module": "@jupyter-widgets/base",
       "_view_module_version": "1.2.0",
       "_view_name": "StyleView",
       "description_width": ""
      }
     },
     "dd2d14d54d184e76b5458abb869e86bf": {
      "model_module": "@jupyter-widgets/base",
      "model_module_version": "1.2.0",
      "model_name": "LayoutModel",
      "state": {
       "_model_module": "@jupyter-widgets/base",
       "_model_module_version": "1.2.0",
       "_model_name": "LayoutModel",
       "_view_count": null,
       "_view_module": "@jupyter-widgets/base",
       "_view_module_version": "1.2.0",
       "_view_name": "LayoutView",
       "align_content": null,
       "align_items": null,
       "align_self": null,
       "border": null,
       "bottom": null,
       "display": null,
       "flex": null,
       "flex_flow": null,
       "grid_area": null,
       "grid_auto_columns": null,
       "grid_auto_flow": null,
       "grid_auto_rows": null,
       "grid_column": null,
       "grid_gap": null,
       "grid_row": null,
       "grid_template_areas": null,
       "grid_template_columns": null,
       "grid_template_rows": null,
       "height": null,
       "justify_content": null,
       "justify_items": null,
       "left": null,
       "margin": null,
       "max_height": null,
       "max_width": null,
       "min_height": null,
       "min_width": null,
       "object_fit": null,
       "object_position": null,
       "order": null,
       "overflow": null,
       "overflow_x": null,
       "overflow_y": null,
       "padding": null,
       "right": null,
       "top": null,
       "visibility": null,
       "width": null
      }
     },
     "df2f7bcd19be4ccda27e6e143e12de69": {
      "model_module": "@jupyter-widgets/controls",
      "model_module_version": "1.5.0",
      "model_name": "FloatProgressModel",
      "state": {
       "_dom_classes": [],
       "_model_module": "@jupyter-widgets/controls",
       "_model_module_version": "1.5.0",
       "_model_name": "FloatProgressModel",
       "_view_count": null,
       "_view_module": "@jupyter-widgets/controls",
       "_view_module_version": "1.5.0",
       "_view_name": "ProgressView",
       "bar_style": "success",
       "description": "",
       "description_tooltip": null,
       "layout": "IPY_MODEL_752e95d3b46e48cbb958ec5c1412df4f",
       "max": 102530333.0,
       "min": 0.0,
       "orientation": "horizontal",
       "style": "IPY_MODEL_87a6e57a59bc45598c752700c9ab31e0",
       "value": 102530333.0
      }
     }
    },
    "version_major": 2,
    "version_minor": 0
   }
  }
 },
 "nbformat": 4,
 "nbformat_minor": 5
}
