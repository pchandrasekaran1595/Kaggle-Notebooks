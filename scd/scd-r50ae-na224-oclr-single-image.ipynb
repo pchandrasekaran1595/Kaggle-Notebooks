{
 "cells": [
  {
   "cell_type": "markdown",
   "id": "ba5ce2f0",
   "metadata": {
    "_cell_guid": "b1076dfc-b9ad-4769-8c92-a6c4dae69d19",
    "_uuid": "8f2839f25d086af736a60e9eeb907d3b93b6e0e5",
    "papermill": {
     "duration": 0.016786,
     "end_time": "2022-05-19T06:52:51.059613",
     "exception": false,
     "start_time": "2022-05-19T06:52:51.042827",
     "status": "completed"
    },
    "tags": []
   },
   "source": [
    "### **Library Imports**"
   ]
  },
  {
   "cell_type": "code",
   "execution_count": 1,
   "id": "cb8a5835",
   "metadata": {
    "execution": {
     "iopub.execute_input": "2022-05-19T06:52:51.091401Z",
     "iopub.status.busy": "2022-05-19T06:52:51.091037Z",
     "iopub.status.idle": "2022-05-19T06:52:54.141861Z",
     "shell.execute_reply": "2022-05-19T06:52:54.141037Z"
    },
    "papermill": {
     "duration": 3.069483,
     "end_time": "2022-05-19T06:52:54.144272",
     "exception": false,
     "start_time": "2022-05-19T06:52:51.074789",
     "status": "completed"
    },
    "tags": []
   },
   "outputs": [],
   "source": [
    "import os\n",
    "import re\n",
    "import cv2\n",
    "import torch\n",
    "import random as r\n",
    "import numpy as np\n",
    "import pandas as pd\n",
    "import matplotlib.pyplot as plt\n",
    "\n",
    "from time import time\n",
    "from torch import nn, optim\n",
    "from torch.utils.data import Dataset\n",
    "from torch.utils.data import DataLoader as DL\n",
    "from torchvision import models, transforms\n",
    "\n",
    "from sklearn.model_selection import KFold"
   ]
  },
  {
   "cell_type": "markdown",
   "id": "7ef615e3",
   "metadata": {
    "papermill": {
     "duration": 0.014557,
     "end_time": "2022-05-19T06:52:54.172628",
     "exception": false,
     "start_time": "2022-05-19T06:52:54.158071",
     "status": "completed"
    },
    "tags": []
   },
   "source": [
    "### **Utilities and Constants**"
   ]
  },
  {
   "cell_type": "code",
   "execution_count": 2,
   "id": "cf691226",
   "metadata": {
    "execution": {
     "iopub.execute_input": "2022-05-19T06:52:54.202281Z",
     "iopub.status.busy": "2022-05-19T06:52:54.201812Z",
     "iopub.status.idle": "2022-05-19T06:52:54.332592Z",
     "shell.execute_reply": "2022-05-19T06:52:54.331726Z"
    },
    "papermill": {
     "duration": 0.148005,
     "end_time": "2022-05-19T06:52:54.334786",
     "exception": false,
     "start_time": "2022-05-19T06:52:54.186781",
     "status": "completed"
    },
    "tags": []
   },
   "outputs": [],
   "source": [
    "SEED = 42\n",
    "\n",
    "\n",
    "def breaker(num: int=50, char: str=\"*\") -> None:\n",
    "    print(\"\\n\" + num*char + \"\\n\")\n",
    "    \n",
    "\n",
    "def show_graphs(L: list) -> None:\n",
    "    TL, VL = [], []\n",
    "    for i in range(len(L)):\n",
    "        TL.append(L[i][\"train\"])\n",
    "        VL.append(L[i][\"valid\"])\n",
    "    x_Axis = np.arange(1, len(TL) + 1)\n",
    "    plt.figure(figsize=(8, 6))\n",
    "    plt.plot(x_Axis, TL, \"r\", label=\"Train\")\n",
    "    plt.plot(x_Axis, VL, \"b\", label=\"Valid\")\n",
    "    plt.legend()\n",
    "    plt.grid()\n",
    "    plt.title(\"Loss Graph\")\n",
    "    plt.show()\n",
    "\n",
    "    \n",
    "def get_statistics(images: list, size: int, verbose: bool = False) -> tuple:\n",
    "    if verbose:\n",
    "        print(f\"Statistics {size}x{size}\\n\")\n",
    "    \n",
    "    for i in range(3):\n",
    "        mean, std = 0.0, 0.0\n",
    "        for j in range(len(images)):\n",
    "            mean += images[j][:, :, i].mean()\n",
    "            std += images[j][:, :, i].std()\n",
    "        \n",
    "        if i == 0:\n",
    "            r_mean = mean / len(images) / 255\n",
    "            r_std  = std / len(images) / 255 \n",
    "            if verbose:\n",
    "                print(f\"\\nRed Channel Mean   {size} : {r_mean:.5f}\")\n",
    "                print(f\"Red Channel Std    {size} : {r_std:.5f}\")\n",
    "        \n",
    "        if i == 1:\n",
    "            g_mean = mean / len(images) / 255\n",
    "            g_std  = std / len(images) / 255 \n",
    "            if verbose:\n",
    "                print(f\"\\nGreen Channel Mean {size} : {g_mean:.5f}\")\n",
    "                print(f\"Green Channel Std  {size} : {g_std:.5f}\")\n",
    "\n",
    "        if i == 2:\n",
    "            b_mean = mean / len(images) / 255\n",
    "            b_std  = std / len(images) / 255 \n",
    "            if verbose:\n",
    "                print(f\"\\nBlue Channel Mean  {size} : {b_mean:.5f}\")\n",
    "                print(f\"Blue Channel Std   {size} : {b_std:.5f}\")\n",
    "    \n",
    "    return r_mean, g_mean, b_mean, r_std, g_std, b_std\n",
    "\n",
    "\n",
    "def show(image: np.ndarray, cmap: str=\"gnuplot2\") -> None:\n",
    "    plt.figure()\n",
    "    plt.imshow(image, cmap=cmap)\n",
    "    plt.axis(\"off\")\n",
    "    plt.show()"
   ]
  },
  {
   "cell_type": "markdown",
   "id": "c612531d",
   "metadata": {
    "papermill": {
     "duration": 0.014191,
     "end_time": "2022-05-19T06:52:54.363868",
     "exception": false,
     "start_time": "2022-05-19T06:52:54.349677",
     "status": "completed"
    },
    "tags": []
   },
   "source": [
    "### **Augmenter**"
   ]
  },
  {
   "cell_type": "code",
   "execution_count": 3,
   "id": "de3b5530",
   "metadata": {
    "execution": {
     "iopub.execute_input": "2022-05-19T06:52:54.393271Z",
     "iopub.status.busy": "2022-05-19T06:52:54.393009Z",
     "iopub.status.idle": "2022-05-19T06:52:54.401486Z",
     "shell.execute_reply": "2022-05-19T06:52:54.400808Z"
    },
    "papermill": {
     "duration": 0.025993,
     "end_time": "2022-05-19T06:52:54.403169",
     "exception": false,
     "start_time": "2022-05-19T06:52:54.377176",
     "status": "completed"
    },
    "tags": []
   },
   "outputs": [],
   "source": [
    "class Augmenter(object):\n",
    "    def __init__(self, seed: int=None):\n",
    "        self.seed = seed\n",
    "\n",
    "    def rotate_and_scale(self, image: np.ndarray, angle: float = 0.0, scale: float = 1.0) -> np.ndarray:\n",
    "        if self.seed is not None: r.seed(self.seed)\n",
    "        h, w, _ = image.shape\n",
    "        if angle != 0.0: angle = r.uniform(-1, 1) * angle\n",
    "        if scale != 1.0: scale = 1 + r.uniform(-1, 1) * scale\n",
    "        M = cv2.getRotationMatrix2D(center=(int(w/2), int(h/2)), angle=angle, scale=scale)\n",
    "        cv2.warpAffine(src=image, M=M, dsize=(w, h), dst=image)"
   ]
  },
  {
   "cell_type": "markdown",
   "id": "0d540cb7",
   "metadata": {
    "papermill": {
     "duration": 0.013991,
     "end_time": "2022-05-19T06:52:54.430937",
     "exception": false,
     "start_time": "2022-05-19T06:52:54.416946",
     "status": "completed"
    },
    "tags": []
   },
   "source": [
    "### **Configuration**"
   ]
  },
  {
   "cell_type": "code",
   "execution_count": 4,
   "id": "22eac32f",
   "metadata": {
    "execution": {
     "iopub.execute_input": "2022-05-19T06:52:54.460201Z",
     "iopub.status.busy": "2022-05-19T06:52:54.459946Z",
     "iopub.status.idle": "2022-05-19T06:52:54.523699Z",
     "shell.execute_reply": "2022-05-19T06:52:54.522923Z"
    },
    "papermill": {
     "duration": 0.082073,
     "end_time": "2022-05-19T06:52:54.525969",
     "exception": false,
     "start_time": "2022-05-19T06:52:54.443896",
     "status": "completed"
    },
    "tags": []
   },
   "outputs": [],
   "source": [
    "class CFG(object):\n",
    "    def __init__(self, \n",
    "                 seed: int = 42,\n",
    "                 in_channels: int = 3,\n",
    "                 size: int = 224,\n",
    "                 n_splits: int = 5,\n",
    "                 batch_size: int = 16,\n",
    "                 epochs: int = 25,\n",
    "                 early_stopping: int = 5,\n",
    "                 lr: float = 1e-4,\n",
    "                 wd: float = 0.0,\n",
    "                 max_lr: float = 1e-3,\n",
    "                 pct_start: float = 0.2,\n",
    "                 steps_per_epoch: int = 100,\n",
    "                 div_factor: int = 1e3, \n",
    "                 final_div_factor: float = 1e3,\n",
    "                 transform=None,\n",
    "                 ):\n",
    "        \n",
    "        self.seed = seed\n",
    "        self.in_channels = in_channels\n",
    "        self.size = size\n",
    "        self.n_splits = n_splits\n",
    "        self.batch_size = batch_size\n",
    "        self.epochs = epochs\n",
    "        self.early_stopping = early_stopping\n",
    "        self.lr = lr\n",
    "        self.wd = wd\n",
    "        self.max_lr = max_lr\n",
    "        self.pct_start = pct_start\n",
    "        self.steps_per_epoch = steps_per_epoch\n",
    "        self.div_factor = div_factor\n",
    "        self.final_div_factor = final_div_factor\n",
    "        self.device = torch.device(\"cuda\" if torch.cuda.is_available() else \"cpu\")\n",
    "        self.transform = transform\n",
    "        self.save_path = \"saves\"\n",
    "        if not os.path.exists(self.save_path): os.makedirs(self.save_path)\n",
    "    \n",
    "cfg = CFG(seed=SEED, size=224)"
   ]
  },
  {
   "cell_type": "markdown",
   "id": "f8a49271",
   "metadata": {
    "papermill": {
     "duration": 0.015022,
     "end_time": "2022-05-19T06:52:54.555461",
     "exception": false,
     "start_time": "2022-05-19T06:52:54.540439",
     "status": "completed"
    },
    "tags": []
   },
   "source": [
    "### **Dataset Template**"
   ]
  },
  {
   "cell_type": "code",
   "execution_count": 5,
   "id": "124ff8a6",
   "metadata": {
    "execution": {
     "iopub.execute_input": "2022-05-19T06:52:54.584130Z",
     "iopub.status.busy": "2022-05-19T06:52:54.583544Z",
     "iopub.status.idle": "2022-05-19T06:52:54.589336Z",
     "shell.execute_reply": "2022-05-19T06:52:54.588496Z"
    },
    "papermill": {
     "duration": 0.021485,
     "end_time": "2022-05-19T06:52:54.591203",
     "exception": false,
     "start_time": "2022-05-19T06:52:54.569718",
     "status": "completed"
    },
    "tags": []
   },
   "outputs": [],
   "source": [
    "class DS(Dataset):\n",
    "    def __init__(self, images: np.ndarray, transform=None):\n",
    "        self.images = images\n",
    "        \n",
    "        assert transform is not None, \"transform cannot be None\"\n",
    "        \n",
    "        self.transform = transform\n",
    "    \n",
    "    def __len__(self):\n",
    "        return self.images.shape[0]\n",
    "    \n",
    "    def __getitem__(self, idx):\n",
    "        return self.transform(self.images[idx])"
   ]
  },
  {
   "cell_type": "markdown",
   "id": "6f5ca7b2",
   "metadata": {
    "papermill": {
     "duration": 0.012829,
     "end_time": "2022-05-19T06:52:54.618795",
     "exception": false,
     "start_time": "2022-05-19T06:52:54.605966",
     "status": "completed"
    },
    "tags": []
   },
   "source": [
    "### **Model**"
   ]
  },
  {
   "cell_type": "code",
   "execution_count": 6,
   "id": "32cf78a8",
   "metadata": {
    "execution": {
     "iopub.execute_input": "2022-05-19T06:52:54.648998Z",
     "iopub.status.busy": "2022-05-19T06:52:54.648798Z",
     "iopub.status.idle": "2022-05-19T06:52:54.664421Z",
     "shell.execute_reply": "2022-05-19T06:52:54.663686Z"
    },
    "papermill": {
     "duration": 0.032942,
     "end_time": "2022-05-19T06:52:54.666200",
     "exception": false,
     "start_time": "2022-05-19T06:52:54.633258",
     "status": "completed"
    },
    "tags": []
   },
   "outputs": [],
   "source": [
    "class Model(nn.Module):\n",
    "    def __init__(self, in_channels: int = 3):\n",
    "        super(Model, self).__init__()\n",
    "\n",
    "        self.encoder = models.resnet50(pretrained=True, progress=True)\n",
    "        # self.freeze()\n",
    "        self.encoder = nn.Sequential(*[*self.encoder.children()][:-2])\n",
    "        if in_channels != 3:\n",
    "            self.encoder[0] = nn.Conv2d(in_channels=in_channels, \n",
    "                                        out_channels=self.encoder[0].out_channels, \n",
    "                                        kernel_size=self.encoder[0].kernel_size, \n",
    "                                        stride=self.encoder[0].stride,\n",
    "                                        padding=self.encoder[0].padding)\n",
    "\n",
    "        self.decoder = nn.Sequential()\n",
    "        self.decoder.add_module(\"DC1\", nn.ConvTranspose2d(in_channels=2048, out_channels=512, kernel_size=(3, 3), stride=(1, 1), padding=(1, 1)))\n",
    "        self.decoder.add_module(\"AN1\", nn.ReLU())\n",
    "        self.decoder.add_module(\"UP1\", nn.Upsample(scale_factor=2))\n",
    "        self.decoder.add_module(\"DC2\", nn.ConvTranspose2d(in_channels=512, out_channels=256, kernel_size=(3, 3), stride=(1, 1), padding=(1, 1)))\n",
    "        self.decoder.add_module(\"AN2\", nn.ReLU())\n",
    "        self.decoder.add_module(\"UP2\", nn.Upsample(scale_factor=2))\n",
    "        self.decoder.add_module(\"DC3\", nn.ConvTranspose2d(in_channels=256, out_channels=128, kernel_size=(3, 3), stride=(1, 1), padding=(1, 1)))\n",
    "        self.decoder.add_module(\"AN3\", nn.ReLU())\n",
    "        self.decoder.add_module(\"UP3\", nn.Upsample(scale_factor=2))\n",
    "        self.decoder.add_module(\"DC4\", nn.ConvTranspose2d(in_channels=128, out_channels=64, kernel_size=(3, 3), stride=(1, 1), padding=(1, 1)))\n",
    "        self.decoder.add_module(\"AN4\", nn.ReLU())\n",
    "        self.decoder.add_module(\"UP4\", nn.Upsample(scale_factor=2))\n",
    "        self.decoder.add_module(\"DC5\", nn.ConvTranspose2d(in_channels=64, out_channels=in_channels, kernel_size=(3, 3), stride=(1, 1), padding=(1, 1)))\n",
    "        self.decoder.add_module(\"AN5\", nn.ReLU())\n",
    "        self.decoder.add_module(\"UP5\", nn.Upsample(scale_factor=2))\n",
    "    \n",
    "    def freeze(self):\n",
    "        for params in self.parameters(): params.requires_grad = False\n",
    "    \n",
    "    def forward(self, x):\n",
    "        encoded = self.encoder(x)\n",
    "        decoded = self.decoder(encoded)\n",
    "        \n",
    "        return encoded, decoded"
   ]
  },
  {
   "cell_type": "markdown",
   "id": "3f11c98e",
   "metadata": {
    "papermill": {
     "duration": 0.012809,
     "end_time": "2022-05-19T06:52:54.693405",
     "exception": false,
     "start_time": "2022-05-19T06:52:54.680596",
     "status": "completed"
    },
    "tags": []
   },
   "source": [
    "### **Fit and Predict Helper**"
   ]
  },
  {
   "cell_type": "code",
   "execution_count": 7,
   "id": "d0eec1d1",
   "metadata": {
    "execution": {
     "iopub.execute_input": "2022-05-19T06:52:54.723834Z",
     "iopub.status.busy": "2022-05-19T06:52:54.723493Z",
     "iopub.status.idle": "2022-05-19T06:52:54.749706Z",
     "shell.execute_reply": "2022-05-19T06:52:54.749047Z"
    },
    "papermill": {
     "duration": 0.04345,
     "end_time": "2022-05-19T06:52:54.751577",
     "exception": false,
     "start_time": "2022-05-19T06:52:54.708127",
     "status": "completed"
    },
    "tags": []
   },
   "outputs": [],
   "source": [
    "def fit(model=None, \n",
    "        optimizer=None, \n",
    "        scheduler=None, \n",
    "        epochs=None, \n",
    "        early_stopping_patience=None, \n",
    "        dataloaders=None, \n",
    "        fold=None, \n",
    "        device=None,\n",
    "        save_path=None,\n",
    "        verbose=False) -> tuple:\n",
    "    \n",
    "    if verbose:\n",
    "        breaker()\n",
    "        if fold: print(f\"Training Fold {fold}...\")\n",
    "        else: print(\"Training ...\")\n",
    "        breaker()\n",
    "        \n",
    "    bestLoss = {\"train\" : np.inf, \"valid\" : np.inf}\n",
    "    Losses, LRs = [], []\n",
    "    if fold: name = f\"state_fold_{fold}.pt\"\n",
    "    else: name = \"state.pt\"\n",
    "\n",
    "    start_time = time()\n",
    "    for e in range(epochs):\n",
    "        e_st = time()\n",
    "        epochLoss = {\"train\" : 0.0, \"valid\" : 0.0}\n",
    "\n",
    "        for phase in [\"train\", \"valid\"]:\n",
    "            if phase == \"train\":\n",
    "                model.train()\n",
    "            else:\n",
    "                model.eval()\n",
    "            \n",
    "            lossPerPass = []\n",
    "\n",
    "            for X in dataloaders[phase]:\n",
    "                X = X.to(device)\n",
    "\n",
    "                optimizer.zero_grad()\n",
    "                with torch.set_grad_enabled(phase == \"train\"):\n",
    "                    _, decoded = model(X)\n",
    "                    loss = torch.nn.MSELoss()(decoded, X)\n",
    "                    if phase == \"train\":\n",
    "                        loss.backward()\n",
    "                        optimizer.step()\n",
    "                        if scheduler: scheduler.step()\n",
    "                lossPerPass.append(loss.item())\n",
    "            epochLoss[phase] = np.mean(np.array(lossPerPass))\n",
    "        LRs.append(scheduler.get_last_lr())\n",
    "        Losses.append(epochLoss)\n",
    "        \n",
    "        if early_stopping_patience:\n",
    "            if epochLoss[\"valid\"] < bestLoss[\"valid\"]:\n",
    "                bestLoss = epochLoss\n",
    "                BLE = e + 1\n",
    "                torch.save({\"model_state_dict\"     : model.state_dict(),\n",
    "                            \"optim_state_dict\"     : optimizer.state_dict(),\n",
    "                            \"scheduler_state_dict\" : scheduler.state_dict()},\n",
    "                           os.path.join(save_path, name))\n",
    "                early_stopping_step = 0\n",
    "            else:\n",
    "                early_stopping_step += 1\n",
    "                if early_stopping_step > early_stopping_patience:\n",
    "                    print(\"\\nEarly Stopping at Epoch {}\".format(e + 1))\n",
    "                    break\n",
    "        \n",
    "        if epochLoss[\"valid\"] < bestLoss[\"valid\"]:\n",
    "            bestLoss = epochLoss\n",
    "            BLE = e + 1\n",
    "            torch.save({\"model_state_dict\"     : model.state_dict(),\n",
    "                        \"optim_state_dict\"     : optimizer.state_dict(),\n",
    "                        \"scheduler_state_dict\" : scheduler.state_dict()},\n",
    "                        os.path.join(save_path, name))\n",
    "        \n",
    "        if verbose:\n",
    "            print(\"Epoch: {} | Train Loss: {:.5f} | Valid Loss: {:.5f} | Time: {:.2f} seconds\".format(e+1, epochLoss[\"train\"], epochLoss[\"valid\"], time()-e_st))\n",
    "\n",
    "    if verbose:                                           \n",
    "        breaker()\n",
    "        print(f\"Best Validation Loss at Epoch {BLE}\")\n",
    "        breaker()\n",
    "        print(\"Time Taken [{} Epochs] : {:.2f} minutes\".format(len(Losses), (time()-start_time)/60))\n",
    "    \n",
    "    return Losses, LRs, BLE, name\n",
    "\n",
    "\n",
    "def predict_batch(model=None, dataloader=None, device=None, in_channels=None, size=None, path=None) -> np.ndarray:\n",
    "    model.load_state_dict(torch.load(path, map_location=device)[\"model_state_dict\"])\n",
    "    model.to(device)    \n",
    "    model.eval()\n",
    "    \n",
    "    y_pred = torch.zeros(1, in_channels, size, size).to(device)\n",
    "    \n",
    "    for X in dataloader:\n",
    "        X = X.to(device)\n",
    "        with torch.no_grad():\n",
    "            output = torch.sigmoid(model(X))\n",
    "        y_pred = torch.cat((y_pred, output), dim=0)\n",
    "    \n",
    "    return y_pred[1:].detach().cpu().numpy()\n",
    "\n",
    "\n",
    "def predict(model=None, device=None, image=None, size=None, path=None) -> np.ndarray:\n",
    "    model.load_state_dict(torch.load(path, map_location=device)[\"model_state_dict\"])\n",
    "    model.to(device)    \n",
    "    model.eval()\n",
    "    \n",
    "    h, w, _ = image.shape\n",
    "    temp_image = cv2.resize(src=image, dsize=(size, size), interpolation=cv2.INTER_AREA)\n",
    "\n",
    "    with torch.no_grad(): _, decoded = model(transforms.ToTensor()(temp_image).unsqueeze(dim=0).to(cfg.device))\n",
    "        \n",
    "    decoded_image = np.clip(decoded.squeeze().detach().cpu().numpy().transpose(1, 2, 0)*255, 0, 255).astype(\"uint8\")\n",
    "    return cv2.resize(src=decoded_image, dsize=(w, h), interpolation=cv2.INTER_AREA)"
   ]
  },
  {
   "cell_type": "markdown",
   "id": "ccf33d29",
   "metadata": {
    "papermill": {
     "duration": 0.014269,
     "end_time": "2022-05-19T06:52:54.778821",
     "exception": false,
     "start_time": "2022-05-19T06:52:54.764552",
     "status": "completed"
    },
    "tags": []
   },
   "source": [
    "### **Train**"
   ]
  },
  {
   "cell_type": "code",
   "execution_count": 8,
   "id": "25cc3d09",
   "metadata": {
    "execution": {
     "iopub.execute_input": "2022-05-19T06:52:54.807439Z",
     "iopub.status.busy": "2022-05-19T06:52:54.807232Z",
     "iopub.status.idle": "2022-05-19T06:53:20.854673Z",
     "shell.execute_reply": "2022-05-19T06:53:20.853921Z"
    },
    "papermill": {
     "duration": 26.06368,
     "end_time": "2022-05-19T06:53:20.856898",
     "exception": false,
     "start_time": "2022-05-19T06:52:54.793218",
     "status": "completed"
    },
    "tags": []
   },
   "outputs": [],
   "source": [
    "# images = np.load(f\"../input/single-scd-images-{cfg.size}/images_{cfg.size}.npy\")\n",
    "image = cv2.resize(src=cv2.cvtColor(src=cv2.imread(\"../input/stanford-cars-dataset/cars_train/cars_train/00002.jpg\"), \n",
    "                                    code=cv2.COLOR_BGR2RGB), \n",
    "                   dsize=(cfg.size, cfg.size), interpolation=cv2.INTER_AREA)\n",
    "images = [image for _ in range(25000)]\n",
    "r_mean, g_mean, b_mean, r_std, g_std, b_std = get_statistics(images, cfg.size)\n",
    "images = np.array(images)\n",
    "\n",
    "cfg = CFG(transform=transforms.Compose([transforms.ToTensor(),\n",
    "                                        transforms.Normalize([r_mean, g_mean, b_mean],\n",
    "                                                             [r_std, g_std, b_std]),]))"
   ]
  },
  {
   "cell_type": "code",
   "execution_count": 9,
   "id": "b408c57f",
   "metadata": {
    "execution": {
     "iopub.execute_input": "2022-05-19T06:53:20.885329Z",
     "iopub.status.busy": "2022-05-19T06:53:20.885092Z",
     "iopub.status.idle": "2022-05-19T07:17:25.749694Z",
     "shell.execute_reply": "2022-05-19T07:17:25.749019Z"
    },
    "papermill": {
     "duration": 1444.880957,
     "end_time": "2022-05-19T07:17:25.751677",
     "exception": false,
     "start_time": "2022-05-19T06:53:20.870720",
     "status": "completed"
    },
    "tags": []
   },
   "outputs": [
    {
     "name": "stderr",
     "output_type": "stream",
     "text": [
      "Downloading: \"https://download.pytorch.org/models/resnet50-0676ba61.pth\" to /root/.cache/torch/hub/checkpoints/resnet50-0676ba61.pth\n"
     ]
    },
    {
     "data": {
      "application/vnd.jupyter.widget-view+json": {
       "model_id": "c69c6ca5fb8a4bfa90e0b35399f62231",
       "version_major": 2,
       "version_minor": 0
      },
      "text/plain": [
       "  0%|          | 0.00/97.8M [00:00<?, ?B/s]"
      ]
     },
     "metadata": {},
     "output_type": "display_data"
    },
    {
     "name": "stdout",
     "output_type": "stream",
     "text": [
      "\n",
      "**************************************************\n",
      "\n",
      "Training ...\n",
      "\n",
      "**************************************************\n",
      "\n",
      "Epoch: 1 | Train Loss: 0.60317 | Valid Loss: 0.55280 | Time: 165.60 seconds\n",
      "Epoch: 2 | Train Loss: 0.54999 | Valid Loss: 0.54681 | Time: 160.19 seconds\n",
      "Epoch: 3 | Train Loss: 0.54495 | Valid Loss: 0.54087 | Time: 159.89 seconds\n",
      "Epoch: 4 | Train Loss: 0.54052 | Valid Loss: 0.54327 | Time: 158.73 seconds\n",
      "Epoch: 5 | Train Loss: 0.53933 | Valid Loss: 0.54111 | Time: 158.60 seconds\n",
      "Epoch: 6 | Train Loss: 0.75207 | Valid Loss: 1.00000 | Time: 158.68 seconds\n",
      "Epoch: 7 | Train Loss: 1.00000 | Valid Loss: 1.00000 | Time: 159.25 seconds\n",
      "Epoch: 8 | Train Loss: 1.00000 | Valid Loss: 1.00000 | Time: 158.95 seconds\n",
      "\n",
      "Early Stopping at Epoch 9\n",
      "\n",
      "**************************************************\n",
      "\n",
      "Best Validation Loss at Epoch 3\n",
      "\n",
      "**************************************************\n",
      "\n",
      "Time Taken [9 Epochs] : 23.98 minutes\n",
      "\n",
      "**************************************************\n",
      "\n"
     ]
    },
    {
     "data": {
      "image/png": "[encoded data removed]",
      "text/plain": [
       "<Figure size 576x432 with 1 Axes>"
      ]
     },
     "metadata": {
      "needs_background": "light"
     },
     "output_type": "display_data"
    },
    {
     "name": "stdout",
     "output_type": "stream",
     "text": [
      "\n",
      "**************************************************\n",
      "\n"
     ]
    },
    {
     "data": {
      "image/png": "[encoded data removed]",
      "text/plain": [
       "<Figure size 576x432 with 1 Axes>"
      ]
     },
     "metadata": {
      "needs_background": "light"
     },
     "output_type": "display_data"
    },
    {
     "name": "stdout",
     "output_type": "stream",
     "text": [
      "\n",
      "**************************************************\n",
      "\n"
     ]
    }
   ],
   "source": [
    "for tr_idx, va_idx in KFold(n_splits=cfg.n_splits, shuffle=True, random_state=cfg.seed).split(images):\n",
    "    break\n",
    "\n",
    "tr_images, va_images = images[tr_idx], images[va_idx]\n",
    "\n",
    "tr_data_setup = DS(tr_images, cfg.transform)\n",
    "va_data_setup = DS(va_images, cfg.transform)\n",
    "\n",
    "dataloaders = {\n",
    "    \"train\" : DL(tr_data_setup, batch_size=cfg.batch_size, shuffle=True, generator=torch.manual_seed(cfg.seed)),\n",
    "    \"valid\" : DL(va_data_setup, batch_size=cfg.batch_size, shuffle=False)\n",
    "}\n",
    "\n",
    "cfg = CFG(seed=SEED, size=224, epochs=50, early_stopping=5, lr=1e-3, wd=0.0, steps_per_epoch=len(dataloaders[\"train\"]))\n",
    "\n",
    "torch.manual_seed(cfg.seed)\n",
    "model = Model().to(cfg.device)\n",
    "optimizer = optim.Adam([p for p in model.parameters() if p.requires_grad], lr=cfg.lr, weight_decay=cfg.wd)\n",
    "scheduler = optim.lr_scheduler.OneCycleLR(optimizer=optimizer, \n",
    "                                          max_lr=cfg.max_lr, \n",
    "                                          epochs=cfg.epochs, \n",
    "                                          steps_per_epoch=cfg.steps_per_epoch,\n",
    "                                          pct_start=cfg.pct_start, \n",
    "                                          div_factor=cfg.div_factor, \n",
    "                                          final_div_factor=cfg.final_div_factor)\n",
    "\n",
    "L, LRs, BLE, name = fit(model=model, \n",
    "                        optimizer=optimizer, \n",
    "                        scheduler=scheduler, \n",
    "                        epochs=cfg.epochs, \n",
    "                        early_stopping_patience=cfg.early_stopping, \n",
    "                        dataloaders=dataloaders, \n",
    "                        device=cfg.device,\n",
    "                        save_path=cfg.save_path,\n",
    "                        verbose=True)\n",
    "\n",
    "breaker()\n",
    "show_graphs(L)\n",
    "breaker()\n",
    "x_Axis = [i+1 for i in range(len(LRs))]\n",
    "plt.figure(figsize=(8, 6))\n",
    "plt.plot(x_Axis, LRs, \"rx\")\n",
    "plt.grid()\n",
    "plt.show()\n",
    "breaker()"
   ]
  }
 ],
 "metadata": {
  "kernelspec": {
   "display_name": "Python 3",
   "language": "python",
   "name": "python3"
  },
  "language_info": {
   "codemirror_mode": {
    "name": "ipython",
    "version": 3
   },
   "file_extension": ".py",
   "mimetype": "text/x-python",
   "name": "python",
   "nbconvert_exporter": "python",
   "pygments_lexer": "ipython3",
   "version": "3.7.12"
  },
  "papermill": {
   "default_parameters": {},
   "duration": 1484.745171,
   "end_time": "2022-05-19T07:17:27.399059",
   "environment_variables": {},
   "exception": null,
   "input_path": "__notebook__.ipynb",
   "output_path": "__notebook__.ipynb",
   "parameters": {},
   "start_time": "2022-05-19T06:52:42.653888",
   "version": "2.3.4"
  },
  "widgets": {
   "application/vnd.jupyter.widget-state+json": {
    "state": {
     "32b3a7e550674f94892356a503dc4840": {
      "model_module": "@jupyter-widgets/base",
      "model_module_version": "1.2.0",
      "model_name": "LayoutModel",
      "state": {
       "_model_module": "@jupyter-widgets/base",
       "_model_module_version": "1.2.0",
       "_model_name": "LayoutModel",
       "_view_count": null,
       "_view_module": "@jupyter-widgets/base",
       "_view_module_version": "1.2.0",
       "_view_name": "LayoutView",
       "align_content": null,
       "align_items": null,
       "align_self": null,
       "border": null,
       "bottom": null,
       "display": null,
       "flex": null,
       "flex_flow": null,
       "grid_area": null,
       "grid_auto_columns": null,
       "grid_auto_flow": null,
       "grid_auto_rows": null,
       "grid_column": null,
       "grid_gap": null,
       "grid_row": null,
       "grid_template_areas": null,
       "grid_template_columns": null,
       "grid_template_rows": null,
       "height": null,
       "justify_content": null,
       "justify_items": null,
       "left": null,
       "margin": null,
       "max_height": null,
       "max_width": null,
       "min_height": null,
       "min_width": null,
       "object_fit": null,
       "object_position": null,
       "order": null,
       "overflow": null,
       "overflow_x": null,
       "overflow_y": null,
       "padding": null,
       "right": null,
       "top": null,
       "visibility": null,
       "width": null
      }
     },
     "3c0c8ace4e3f49038d2dbd3a4f9cb996": {
      "model_module": "@jupyter-widgets/base",
      "model_module_version": "1.2.0",
      "model_name": "LayoutModel",
      "state": {
       "_model_module": "@jupyter-widgets/base",
       "_model_module_version": "1.2.0",
       "_model_name": "LayoutModel",
       "_view_count": null,
       "_view_module": "@jupyter-widgets/base",
       "_view_module_version": "1.2.0",
       "_view_name": "LayoutView",
       "align_content": null,
       "align_items": null,
       "align_self": null,
       "border": null,
       "bottom": null,
       "display": null,
       "flex": null,
       "flex_flow": null,
       "grid_area": null,
       "grid_auto_columns": null,
       "grid_auto_flow": null,
       "grid_auto_rows": null,
       "grid_column": null,
       "grid_gap": null,
       "grid_row": null,
       "grid_template_areas": null,
       "grid_template_columns": null,
       "grid_template_rows": null,
       "height": null,
       "justify_content": null,
       "justify_items": null,
       "left": null,
       "margin": null,
       "max_height": null,
       "max_width": null,
       "min_height": null,
       "min_width": null,
       "object_fit": null,
       "object_position": null,
       "order": null,
       "overflow": null,
       "overflow_x": null,
       "overflow_y": null,
       "padding": null,
       "right": null,
       "top": null,
       "visibility": null,
       "width": null
      }
     },
     "3ca8fab5faa24a2ba80f6019fc00b7ab": {
      "model_module": "@jupyter-widgets/controls",
      "model_module_version": "1.5.0",
      "model_name": "ProgressStyleModel",
      "state": {
       "_model_module": "@jupyter-widgets/controls",
       "_model_module_version": "1.5.0",
       "_model_name": "ProgressStyleModel",
       "_view_count": null,
       "_view_module": "@jupyter-widgets/base",
       "_view_module_version": "1.2.0",
       "_view_name": "StyleView",
       "bar_color": null,
       "description_width": ""
      }
     },
     "7dfd4fc470f84871834ef7470258553e": {
      "model_module": "@jupyter-widgets/base",
      "model_module_version": "1.2.0",
      "model_name": "LayoutModel",
      "state": {
       "_model_module": "@jupyter-widgets/base",
       "_model_module_version": "1.2.0",
       "_model_name": "LayoutModel",
       "_view_count": null,
       "_view_module": "@jupyter-widgets/base",
       "_view_module_version": "1.2.0",
       "_view_name": "LayoutView",
       "align_content": null,
       "align_items": null,
       "align_self": null,
       "border": null,
       "bottom": null,
       "display": null,
       "flex": null,
       "flex_flow": null,
       "grid_area": null,
       "grid_auto_columns": null,
       "grid_auto_flow": null,
       "grid_auto_rows": null,
       "grid_column": null,
       "grid_gap": null,
       "grid_row": null,
       "grid_template_areas": null,
       "grid_template_columns": null,
       "grid_template_rows": null,
       "height": null,
       "justify_content": null,
       "justify_items": null,
       "left": null,
       "margin": null,
       "max_height": null,
       "max_width": null,
       "min_height": null,
       "min_width": null,
       "object_fit": null,
       "object_position": null,
       "order": null,
       "overflow": null,
       "overflow_x": null,
       "overflow_y": null,
       "padding": null,
       "right": null,
       "top": null,
       "visibility": null,
       "width": null
      }
     },
     "85ef7df29d134298804d2085108aacbc": {
      "model_module": "@jupyter-widgets/controls",
      "model_module_version": "1.5.0",
      "model_name": "DescriptionStyleModel",
      "state": {
       "_model_module": "@jupyter-widgets/controls",
       "_model_module_version": "1.5.0",
       "_model_name": "DescriptionStyleModel",
       "_view_count": null,
       "_view_module": "@jupyter-widgets/base",
       "_view_module_version": "1.2.0",
       "_view_name": "StyleView",
       "description_width": ""
      }
     },
     "8e4b04cf685141d4a6991129ce92abd2": {
      "model_module": "@jupyter-widgets/controls",
      "model_module_version": "1.5.0",
      "model_name": "HTMLModel",
      "state": {
       "_dom_classes": [],
       "_model_module": "@jupyter-widgets/controls",
       "_model_module_version": "1.5.0",
       "_model_name": "HTMLModel",
       "_view_count": null,
       "_view_module": "@jupyter-widgets/controls",
       "_view_module_version": "1.5.0",
       "_view_name": "HTMLView",
       "description": "",
       "description_tooltip": null,
       "layout": "IPY_MODEL_32b3a7e550674f94892356a503dc4840",
       "placeholder": "​",
       "style": "IPY_MODEL_a612a521be90476992096855f31f9377",
       "value": "100%"
      }
     },
     "a612a521be90476992096855f31f9377": {
      "model_module": "@jupyter-widgets/controls",
      "model_module_version": "1.5.0",
      "model_name": "DescriptionStyleModel",
      "state": {
       "_model_module": "@jupyter-widgets/controls",
       "_model_module_version": "1.5.0",
       "_model_name": "DescriptionStyleModel",
       "_view_count": null,
       "_view_module": "@jupyter-widgets/base",
       "_view_module_version": "1.2.0",
       "_view_name": "StyleView",
       "description_width": ""
      }
     },
     "c69c6ca5fb8a4bfa90e0b35399f62231": {
      "model_module": "@jupyter-widgets/controls",
      "model_module_version": "1.5.0",
      "model_name": "HBoxModel",
      "state": {
       "_dom_classes": [],
       "_model_module": "@jupyter-widgets/controls",
       "_model_module_version": "1.5.0",
       "_model_name": "HBoxModel",
       "_view_count": null,
       "_view_module": "@jupyter-widgets/controls",
       "_view_module_version": "1.5.0",
       "_view_name": "HBoxView",
       "box_style": "",
       "children": [
        "IPY_MODEL_8e4b04cf685141d4a6991129ce92abd2",
        "IPY_MODEL_d2bfd050329c45d090e87360b79af114",
        "IPY_MODEL_d5bcc4615c85407485b1553ed5f8ee22"
       ],
       "layout": "IPY_MODEL_eaafef8124664575adde7e30e507299c"
      }
     },
     "d2bfd050329c45d090e87360b79af114": {
      "model_module": "@jupyter-widgets/controls",
      "model_module_version": "1.5.0",
      "model_name": "FloatProgressModel",
      "state": {
       "_dom_classes": [],
       "_model_module": "@jupyter-widgets/controls",
       "_model_module_version": "1.5.0",
       "_model_name": "FloatProgressModel",
       "_view_count": null,
       "_view_module": "@jupyter-widgets/controls",
       "_view_module_version": "1.5.0",
       "_view_name": "ProgressView",
       "bar_style": "success",
       "description": "",
       "description_tooltip": null,
       "layout": "IPY_MODEL_7dfd4fc470f84871834ef7470258553e",
       "max": 102530333.0,
       "min": 0.0,
       "orientation": "horizontal",
       "style": "IPY_MODEL_3ca8fab5faa24a2ba80f6019fc00b7ab",
       "value": 102530333.0
      }
     },
     "d5bcc4615c85407485b1553ed5f8ee22": {
      "model_module": "@jupyter-widgets/controls",
      "model_module_version": "1.5.0",
      "model_name": "HTMLModel",
      "state": {
       "_dom_classes": [],
       "_model_module": "@jupyter-widgets/controls",
       "_model_module_version": "1.5.0",
       "_model_name": "HTMLModel",
       "_view_count": null,
       "_view_module": "@jupyter-widgets/controls",
       "_view_module_version": "1.5.0",
       "_view_name": "HTMLView",
       "description": "",
       "description_tooltip": null,
       "layout": "IPY_MODEL_3c0c8ace4e3f49038d2dbd3a4f9cb996",
       "placeholder": "​",
       "style": "IPY_MODEL_85ef7df29d134298804d2085108aacbc",
       "value": " 97.8M/97.8M [00:00&lt;00:00, 230MB/s]"
      }
     },
     "eaafef8124664575adde7e30e507299c": {
      "model_module": "@jupyter-widgets/base",
      "model_module_version": "1.2.0",
      "model_name": "LayoutModel",
      "state": {
       "_model_module": "@jupyter-widgets/base",
       "_model_module_version": "1.2.0",
       "_model_name": "LayoutModel",
       "_view_count": null,
       "_view_module": "@jupyter-widgets/base",
       "_view_module_version": "1.2.0",
       "_view_name": "LayoutView",
       "align_content": null,
       "align_items": null,
       "align_self": null,
       "border": null,
       "bottom": null,
       "display": null,
       "flex": null,
       "flex_flow": null,
       "grid_area": null,
       "grid_auto_columns": null,
       "grid_auto_flow": null,
       "grid_auto_rows": null,
       "grid_column": null,
       "grid_gap": null,
       "grid_row": null,
       "grid_template_areas": null,
       "grid_template_columns": null,
       "grid_template_rows": null,
       "height": null,
       "justify_content": null,
       "justify_items": null,
       "left": null,
       "margin": null,
       "max_height": null,
       "max_width": null,
       "min_height": null,
       "min_width": null,
       "object_fit": null,
       "object_position": null,
       "order": null,
       "overflow": null,
       "overflow_x": null,
       "overflow_y": null,
       "padding": null,
       "right": null,
       "top": null,
       "visibility": null,
       "width": null
      }
     }
    },
    "version_major": 2,
    "version_minor": 0
   }
  }
 },
 "nbformat": 4,
 "nbformat_minor": 5
}
