{
 "cells": [
  {
   "cell_type": "code",
   "execution_count": 1,
   "id": "c3cfb598",
   "metadata": {
    "_cell_guid": "b1076dfc-b9ad-4769-8c92-a6c4dae69d19",
    "_uuid": "8f2839f25d086af736a60e9eeb907d3b93b6e0e5",
    "execution": {
     "iopub.execute_input": "2022-05-17T13:12:31.221731Z",
     "iopub.status.busy": "2022-05-17T13:12:31.221273Z",
     "iopub.status.idle": "2022-05-17T13:12:31.446956Z",
     "shell.execute_reply": "2022-05-17T13:12:31.445940Z"
    },
    "papermill": {
     "duration": 0.236143,
     "end_time": "2022-05-17T13:12:31.449563",
     "exception": false,
     "start_time": "2022-05-17T13:12:31.213420",
     "status": "completed"
    },
    "tags": []
   },
   "outputs": [],
   "source": [
    "import os\n",
    "import cv2\n",
    "import random as r\n",
    "import numpy as np"
   ]
  },
  {
   "cell_type": "code",
   "execution_count": 2,
   "id": "23f5c658",
   "metadata": {
    "execution": {
     "iopub.execute_input": "2022-05-17T13:12:31.460948Z",
     "iopub.status.busy": "2022-05-17T13:12:31.460663Z",
     "iopub.status.idle": "2022-05-17T13:12:31.468313Z",
     "shell.execute_reply": "2022-05-17T13:12:31.467375Z"
    },
    "papermill": {
     "duration": 0.015721,
     "end_time": "2022-05-17T13:12:31.470373",
     "exception": false,
     "start_time": "2022-05-17T13:12:31.454652",
     "status": "completed"
    },
    "tags": []
   },
   "outputs": [],
   "source": [
    "def breaker(num: int = 50, char: str = \"*\") -> None:\n",
    "    print(\"\\n\" + num*char + \"\\n\")\n",
    "\n",
    "\n",
    "def get_image(path: str=\"../input/stanford-cars-dataset/cars_train/cars_train/00001.jpg\", size: int=224) -> np.ndarray:\n",
    "    return cv2.resize(src=cv2.cvtColor(src=cv2.imread(path, cv2.IMREAD_COLOR), \n",
    "                                       code=cv2.COLOR_BGR2RGB), \n",
    "                      dsize=(size, size), \n",
    "                      interpolation=cv2.INTER_AREA)\n",
    "\n",
    "\n",
    "def get_statistics(images: np.ndarray, size: int=224) -> None:\n",
    "    print(f\"Mean {size}x{size}\\n\")\n",
    "    print(f\"Red Channel Mean   {size} : {images[:, :, :, 0].mean() / 255:.5f}\")\n",
    "    print(f\"Green Channel Mean {size} : {images[:, :, :, 1].mean() / 255:.5f}\")\n",
    "    print(f\"Blue Channel Mean  {size} : {images[:, :, :, 2].mean() / 255:.5f}\")\n",
    "    print(\"\")\n",
    "    print(f\"Standard Deviation {size}x{size}\\n\")\n",
    "    print(f\"Red Channel Std    {size} : {images[:, :, :, 0].std() / 255:.5f}\")\n",
    "    print(f\"Green Channel Std  {size} : {images[:, :, :, 1].std() / 255:.5f}\")\n",
    "    print(f\"Blue Channel Std   {size} : {images[:, :, :, 2].std() / 255:.5f}\") "
   ]
  },
  {
   "cell_type": "code",
   "execution_count": 3,
   "id": "eb076745",
   "metadata": {
    "execution": {
     "iopub.execute_input": "2022-05-17T13:12:31.482538Z",
     "iopub.status.busy": "2022-05-17T13:12:31.481664Z",
     "iopub.status.idle": "2022-05-17T13:12:31.490077Z",
     "shell.execute_reply": "2022-05-17T13:12:31.489434Z"
    },
    "papermill": {
     "duration": 0.016525,
     "end_time": "2022-05-17T13:12:31.492061",
     "exception": false,
     "start_time": "2022-05-17T13:12:31.475536",
     "status": "completed"
    },
    "tags": []
   },
   "outputs": [],
   "source": [
    "class Augmenter(object):\n",
    "    def __init__(self, seed: int=None):\n",
    "        self.seed = seed\n",
    "        if self.seed is not None: r.seed(self.seed)\n",
    "\n",
    "    def rotate_and_scale(self, image: np.ndarray, angle: float = 0.0, scale: float = 1.0) -> np.ndarray:\n",
    "        h, w, _ = image.shape\n",
    "        if angle != 0.0: angle = r.uniform(-1, 1) * angle\n",
    "        if scale != 1.0: scale = r.uniform(1-scale, 1+scale)\n",
    "        M = cv2.getRotationMatrix2D(center=(int(w/2), int(h/2)), angle=angle, scale=scale)\n",
    "        cv2.warpAffine(src=image, M=M, dsize=(w, h), dst=image)\n",
    "        return image\n",
    "\n",
    "\n",
    "augmenter = Augmenter(seed=42)"
   ]
  },
  {
   "cell_type": "code",
   "execution_count": 4,
   "id": "d3ce553d",
   "metadata": {
    "execution": {
     "iopub.execute_input": "2022-05-17T13:12:31.502981Z",
     "iopub.status.busy": "2022-05-17T13:12:31.502468Z",
     "iopub.status.idle": "2022-05-17T13:13:07.002101Z",
     "shell.execute_reply": "2022-05-17T13:13:07.001260Z"
    },
    "papermill": {
     "duration": 35.507851,
     "end_time": "2022-05-17T13:13:07.004425",
     "exception": false,
     "start_time": "2022-05-17T13:12:31.496574",
     "status": "completed"
    },
    "tags": []
   },
   "outputs": [
    {
     "name": "stdout",
     "output_type": "stream",
     "text": [
      "\n",
      "**************************************************\n",
      "\n",
      "Mean 224x224\n",
      "\n",
      "Red Channel Mean   224 : 0.39673\n",
      "Green Channel Mean 224 : 0.44977\n",
      "Blue Channel Mean  224 : 0.47369\n",
      "\n",
      "Standard Deviation 224x224\n",
      "\n",
      "Red Channel Std    224 : 0.28161\n",
      "Green Channel Std  224 : 0.28911\n",
      "Blue Channel Std   224 : 0.29769\n",
      "\n",
      "**************************************************\n",
      "\n"
     ]
    }
   ],
   "source": [
    "num_samples = 20000\n",
    "\n",
    "image  = get_image()\n",
    "images = np.array([image for _ in range(num_samples)])\n",
    "    \n",
    "for image in images: image = augmenter.rotate_and_scale(image, 45, 0.25)\n",
    "    \n",
    "breaker()\n",
    "get_statistics(images)\n",
    "breaker()\n",
    "\n",
    "np.save(f\"images_{224}.npy\", images)"
   ]
  }
 ],
 "metadata": {
  "kernelspec": {
   "display_name": "Python 3",
   "language": "python",
   "name": "python3"
  },
  "language_info": {
   "codemirror_mode": {
    "name": "ipython",
    "version": 3
   },
   "file_extension": ".py",
   "mimetype": "text/x-python",
   "name": "python",
   "nbconvert_exporter": "python",
   "pygments_lexer": "ipython3",
   "version": "3.7.12"
  },
  "papermill": {
   "default_parameters": {},
   "duration": 45.990856,
   "end_time": "2022-05-17T13:13:08.047644",
   "environment_variables": {},
   "exception": null,
   "input_path": "__notebook__.ipynb",
   "output_path": "__notebook__.ipynb",
   "parameters": {},
   "start_time": "2022-05-17T13:12:22.056788",
   "version": "2.3.4"
  }
 },
 "nbformat": 4,
 "nbformat_minor": 5
}
