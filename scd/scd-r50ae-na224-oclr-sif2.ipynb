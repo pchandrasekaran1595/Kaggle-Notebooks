{
 "cells": [
  {
   "cell_type": "markdown",
   "id": "b789e109",
   "metadata": {
    "_cell_guid": "b1076dfc-b9ad-4769-8c92-a6c4dae69d19",
    "_uuid": "8f2839f25d086af736a60e9eeb907d3b93b6e0e5",
    "papermill": {
     "duration": 0.016209,
     "end_time": "2022-05-19T09:14:33.777229",
     "exception": false,
     "start_time": "2022-05-19T09:14:33.761020",
     "status": "completed"
    },
    "tags": []
   },
   "source": [
    "### **Library Imports**"
   ]
  },
  {
   "cell_type": "code",
   "execution_count": 1,
   "id": "6d063d15",
   "metadata": {
    "execution": {
     "iopub.execute_input": "2022-05-19T09:14:33.809891Z",
     "iopub.status.busy": "2022-05-19T09:14:33.809391Z",
     "iopub.status.idle": "2022-05-19T09:14:37.565304Z",
     "shell.execute_reply": "2022-05-19T09:14:37.564122Z"
    },
    "papermill": {
     "duration": 3.776496,
     "end_time": "2022-05-19T09:14:37.568807",
     "exception": false,
     "start_time": "2022-05-19T09:14:33.792311",
     "status": "completed"
    },
    "tags": []
   },
   "outputs": [],
   "source": [
    "import os\n",
    "import re\n",
    "import cv2\n",
    "import torch\n",
    "import random as r\n",
    "import numpy as np\n",
    "import pandas as pd\n",
    "import matplotlib.pyplot as plt\n",
    "\n",
    "from time import time\n",
    "from torch import nn, optim\n",
    "from torch.utils.data import Dataset\n",
    "from torch.utils.data import DataLoader as DL\n",
    "from torchvision import models, transforms\n",
    "\n",
    "from sklearn.model_selection import KFold"
   ]
  },
  {
   "cell_type": "markdown",
   "id": "db9b369a",
   "metadata": {
    "papermill": {
     "duration": 0.016317,
     "end_time": "2022-05-19T09:14:37.603867",
     "exception": false,
     "start_time": "2022-05-19T09:14:37.587550",
     "status": "completed"
    },
    "tags": []
   },
   "source": [
    "### **Utilities and Constants**"
   ]
  },
  {
   "cell_type": "code",
   "execution_count": 2,
   "id": "b7dfe09c",
   "metadata": {
    "execution": {
     "iopub.execute_input": "2022-05-19T09:14:37.641517Z",
     "iopub.status.busy": "2022-05-19T09:14:37.640553Z",
     "iopub.status.idle": "2022-05-19T09:14:37.796298Z",
     "shell.execute_reply": "2022-05-19T09:14:37.794970Z"
    },
    "papermill": {
     "duration": 0.177194,
     "end_time": "2022-05-19T09:14:37.798585",
     "exception": false,
     "start_time": "2022-05-19T09:14:37.621391",
     "status": "completed"
    },
    "tags": []
   },
   "outputs": [],
   "source": [
    "SEED = 42\n",
    "\n",
    "\n",
    "def breaker(num: int=50, char: str=\"*\") -> None:\n",
    "    print(\"\\n\" + num*char + \"\\n\")\n",
    "\n",
    "    \n",
    "def get_image(path: str, size: int=224) -> np.ndarray:\n",
    "    return cv2.resize(src=cv2.cvtColor(src=cv2.imread(path, cv2.IMREAD_COLOR), code=cv2.COLOR_BGR2RGB), dsize=(size, size), interpolation=cv2.INTER_AREA)\n",
    "\n",
    "\n",
    "def show_graphs(L: list) -> None:\n",
    "    TL, VL = [], []\n",
    "    for i in range(len(L)):\n",
    "        TL.append(L[i][\"train\"])\n",
    "        VL.append(L[i][\"valid\"])\n",
    "    x_Axis = np.arange(1, len(TL) + 1)\n",
    "    plt.figure(figsize=(8, 6))\n",
    "    plt.plot(x_Axis, TL, \"r\", label=\"Train\")\n",
    "    plt.plot(x_Axis, VL, \"b\", label=\"Valid\")\n",
    "    plt.legend()\n",
    "    plt.grid()\n",
    "    plt.title(\"Loss Graph\")\n",
    "    plt.show()\n",
    "\n",
    "\n",
    "def show(image: np.ndarray, cmap: str=\"gnuplot2\") -> None:\n",
    "    plt.figure()\n",
    "    plt.imshow(image, cmap=cmap)\n",
    "    plt.axis(\"off\")\n",
    "    plt.show()\n",
    "\n",
    "    \n",
    "def get_statistics(images: list, size: int, verbose: bool = False) -> tuple:\n",
    "    if verbose:\n",
    "        print(f\"Statistics {size}x{size}\\n\")\n",
    "    \n",
    "    for i in range(3):\n",
    "        mean, std = 0.0, 0.0\n",
    "        for j in range(len(images)):\n",
    "            mean += images[j][:, :, i].mean()\n",
    "            std += images[j][:, :, i].std()\n",
    "        \n",
    "        if i == 0:\n",
    "            r_mean = mean / len(images) / 255\n",
    "            r_std  = std / len(images) / 255 \n",
    "            if verbose:\n",
    "                print(f\"\\nRed Channel Mean   {size} : {r_mean:.5f}\")\n",
    "                print(f\"Red Channel Std    {size} : {r_std:.5f}\")\n",
    "        \n",
    "        if i == 1:\n",
    "            g_mean = mean / len(images) / 255\n",
    "            g_std  = std / len(images) / 255 \n",
    "            if verbose:\n",
    "                print(f\"\\nGreen Channel Mean {size} : {g_mean:.5f}\")\n",
    "                print(f\"Green Channel Std  {size} : {g_std:.5f}\")\n",
    "\n",
    "        if i == 2:\n",
    "            b_mean = mean / len(images) / 255\n",
    "            b_std  = std / len(images) / 255 \n",
    "            if verbose:\n",
    "                print(f\"\\nBlue Channel Mean  {size} : {b_mean:.5f}\")\n",
    "                print(f\"Blue Channel Std   {size} : {b_std:.5f}\")\n",
    "    \n",
    "    return r_mean, g_mean, b_mean, r_std, g_std, b_std"
   ]
  },
  {
   "cell_type": "markdown",
   "id": "f15fd842",
   "metadata": {
    "papermill": {
     "duration": 0.014597,
     "end_time": "2022-05-19T09:14:37.828432",
     "exception": false,
     "start_time": "2022-05-19T09:14:37.813835",
     "status": "completed"
    },
    "tags": []
   },
   "source": [
    "### **Configuration**"
   ]
  },
  {
   "cell_type": "code",
   "execution_count": 3,
   "id": "209a598e",
   "metadata": {
    "execution": {
     "iopub.execute_input": "2022-05-19T09:14:37.859810Z",
     "iopub.status.busy": "2022-05-19T09:14:37.859048Z",
     "iopub.status.idle": "2022-05-19T09:14:37.934115Z",
     "shell.execute_reply": "2022-05-19T09:14:37.933104Z"
    },
    "papermill": {
     "duration": 0.093232,
     "end_time": "2022-05-19T09:14:37.936577",
     "exception": false,
     "start_time": "2022-05-19T09:14:37.843345",
     "status": "completed"
    },
    "tags": []
   },
   "outputs": [],
   "source": [
    "class CFG(object):\n",
    "    def __init__(self, \n",
    "                 seed: int = 42,\n",
    "                 in_channels: int = 3,\n",
    "                 size: int = 224,\n",
    "                 n_splits: int = 5,\n",
    "                 batch_size: int = 16,\n",
    "                 epochs: int = 25,\n",
    "                 early_stopping: int = 5,\n",
    "                 lr: float = 1e-4,\n",
    "                 wd: float = 0.0,\n",
    "                 max_lr: float = 1e-3,\n",
    "                 pct_start: float = 0.2,\n",
    "                 steps_per_epoch: int = 100,\n",
    "                 div_factor: int = 1e3, \n",
    "                 final_div_factor: float = 1e3,\n",
    "                 transform = None,\n",
    "                 ):\n",
    "        \n",
    "        self.seed = seed\n",
    "        self.in_channels = in_channels\n",
    "        self.size = size\n",
    "        self.n_splits = n_splits\n",
    "        self.batch_size = batch_size\n",
    "        self.epochs = epochs\n",
    "        self.early_stopping = early_stopping\n",
    "        self.lr = lr\n",
    "        self.wd = wd\n",
    "        self.max_lr = max_lr\n",
    "        self.pct_start = pct_start\n",
    "        self.steps_per_epoch = steps_per_epoch\n",
    "        self.div_factor = div_factor\n",
    "        self.final_div_factor = final_div_factor\n",
    "        self.device = torch.device(\"cuda\" if torch.cuda.is_available() else \"cpu\")\n",
    "        self.transform = transform\n",
    "        self.save_path = \"saves\"\n",
    "        if not os.path.exists(self.save_path): os.makedirs(self.save_path)\n",
    "    \n",
    "cfg = CFG(seed=SEED, size=224)"
   ]
  },
  {
   "cell_type": "markdown",
   "id": "9823e07d",
   "metadata": {
    "papermill": {
     "duration": 0.016429,
     "end_time": "2022-05-19T09:14:37.967469",
     "exception": false,
     "start_time": "2022-05-19T09:14:37.951040",
     "status": "completed"
    },
    "tags": []
   },
   "source": [
    "### **Dataset Template**"
   ]
  },
  {
   "cell_type": "code",
   "execution_count": 4,
   "id": "ea5b9f26",
   "metadata": {
    "execution": {
     "iopub.execute_input": "2022-05-19T09:14:37.997611Z",
     "iopub.status.busy": "2022-05-19T09:14:37.997335Z",
     "iopub.status.idle": "2022-05-19T09:14:38.005250Z",
     "shell.execute_reply": "2022-05-19T09:14:38.004378Z"
    },
    "papermill": {
     "duration": 0.025594,
     "end_time": "2022-05-19T09:14:38.007344",
     "exception": false,
     "start_time": "2022-05-19T09:14:37.981750",
     "status": "completed"
    },
    "tags": []
   },
   "outputs": [],
   "source": [
    "class DS(Dataset):\n",
    "    def __init__(self, images: np.ndarray, transform=None):\n",
    "        self.images = images\n",
    "        \n",
    "        assert transform is not None, \"transform cannot be None\"\n",
    "        \n",
    "        self.transform = transform\n",
    "    \n",
    "    def __len__(self):\n",
    "        return self.images.shape[0]\n",
    "    \n",
    "    def __getitem__(self, idx):\n",
    "        return self.transform(self.images[idx])"
   ]
  },
  {
   "cell_type": "markdown",
   "id": "a55de550",
   "metadata": {
    "papermill": {
     "duration": 0.013997,
     "end_time": "2022-05-19T09:14:38.035469",
     "exception": false,
     "start_time": "2022-05-19T09:14:38.021472",
     "status": "completed"
    },
    "tags": []
   },
   "source": [
    "### **Model**"
   ]
  },
  {
   "cell_type": "code",
   "execution_count": 5,
   "id": "e311c756",
   "metadata": {
    "execution": {
     "iopub.execute_input": "2022-05-19T09:14:38.065663Z",
     "iopub.status.busy": "2022-05-19T09:14:38.065402Z",
     "iopub.status.idle": "2022-05-19T09:14:38.084236Z",
     "shell.execute_reply": "2022-05-19T09:14:38.083249Z"
    },
    "papermill": {
     "duration": 0.036969,
     "end_time": "2022-05-19T09:14:38.086551",
     "exception": false,
     "start_time": "2022-05-19T09:14:38.049582",
     "status": "completed"
    },
    "tags": []
   },
   "outputs": [],
   "source": [
    "class Model(nn.Module):\n",
    "    def __init__(self, in_channels: int = 3):\n",
    "        super(Model, self).__init__()\n",
    "\n",
    "        self.encoder = models.resnet50(pretrained=True, progress=True)\n",
    "        # self.freeze()\n",
    "        self.encoder = nn.Sequential(*[*self.encoder.children()][:-2])\n",
    "        if in_channels != 3:\n",
    "            self.encoder[0] = nn.Conv2d(in_channels=in_channels, \n",
    "                                        out_channels=self.encoder[0].out_channels, \n",
    "                                        kernel_size=self.encoder[0].kernel_size, \n",
    "                                        stride=self.encoder[0].stride,\n",
    "                                        padding=self.encoder[0].padding)\n",
    "\n",
    "        self.decoder = nn.Sequential()\n",
    "        self.decoder.add_module(\"DC1\", nn.ConvTranspose2d(in_channels=2048, out_channels=512, kernel_size=(3, 3), stride=(1, 1), padding=(1, 1)))\n",
    "        self.decoder.add_module(\"AN1\", nn.ReLU())\n",
    "        self.decoder.add_module(\"UP1\", nn.Upsample(scale_factor=2))\n",
    "        self.decoder.add_module(\"DC2\", nn.ConvTranspose2d(in_channels=512, out_channels=256, kernel_size=(3, 3), stride=(1, 1), padding=(1, 1)))\n",
    "        self.decoder.add_module(\"AN2\", nn.ReLU())\n",
    "        self.decoder.add_module(\"UP2\", nn.Upsample(scale_factor=2))\n",
    "        self.decoder.add_module(\"DC3\", nn.ConvTranspose2d(in_channels=256, out_channels=128, kernel_size=(3, 3), stride=(1, 1), padding=(1, 1)))\n",
    "        self.decoder.add_module(\"AN3\", nn.ReLU())\n",
    "        self.decoder.add_module(\"UP3\", nn.Upsample(scale_factor=2))\n",
    "        self.decoder.add_module(\"DC4\", nn.ConvTranspose2d(in_channels=128, out_channels=64, kernel_size=(3, 3), stride=(1, 1), padding=(1, 1)))\n",
    "        self.decoder.add_module(\"AN4\", nn.ReLU())\n",
    "        self.decoder.add_module(\"UP4\", nn.Upsample(scale_factor=2))\n",
    "        self.decoder.add_module(\"DC5\", nn.ConvTranspose2d(in_channels=64, out_channels=in_channels, kernel_size=(3, 3), stride=(1, 1), padding=(1, 1)))\n",
    "        self.decoder.add_module(\"AN5\", nn.ReLU())\n",
    "        self.decoder.add_module(\"UP5\", nn.Upsample(scale_factor=2))\n",
    "    \n",
    "    def freeze(self):\n",
    "        for params in self.parameters(): params.requires_grad = False\n",
    "    \n",
    "    def forward(self, x):\n",
    "        encoded = self.encoder(x)\n",
    "        decoded = self.decoder(encoded)\n",
    "        \n",
    "        return encoded, decoded"
   ]
  },
  {
   "cell_type": "markdown",
   "id": "4427d3eb",
   "metadata": {
    "papermill": {
     "duration": 0.014389,
     "end_time": "2022-05-19T09:14:38.117400",
     "exception": false,
     "start_time": "2022-05-19T09:14:38.103011",
     "status": "completed"
    },
    "tags": []
   },
   "source": [
    "### **Fit and Predict Helper**"
   ]
  },
  {
   "cell_type": "code",
   "execution_count": 6,
   "id": "89995126",
   "metadata": {
    "execution": {
     "iopub.execute_input": "2022-05-19T09:14:38.148296Z",
     "iopub.status.busy": "2022-05-19T09:14:38.147533Z",
     "iopub.status.idle": "2022-05-19T09:14:38.172931Z",
     "shell.execute_reply": "2022-05-19T09:14:38.171941Z"
    },
    "papermill": {
     "duration": 0.043621,
     "end_time": "2022-05-19T09:14:38.175422",
     "exception": false,
     "start_time": "2022-05-19T09:14:38.131801",
     "status": "completed"
    },
    "tags": []
   },
   "outputs": [],
   "source": [
    "def fit(model=None, \n",
    "        optimizer=None, \n",
    "        scheduler=None, \n",
    "        epochs=None, \n",
    "        early_stopping_patience=None, \n",
    "        dataloaders=None, \n",
    "        fold=None, \n",
    "        device=None,\n",
    "        save_path=None,\n",
    "        verbose=False) -> tuple:\n",
    "    \n",
    "    if verbose:\n",
    "        breaker()\n",
    "        if fold: print(f\"Training Fold {fold}...\")\n",
    "        else: print(\"Training ...\")\n",
    "        breaker()\n",
    "        \n",
    "    bestLoss = {\"train\" : np.inf, \"valid\" : np.inf}\n",
    "    Losses, LRs = [], []\n",
    "    if fold: name = f\"state_fold_{fold}.pt\"\n",
    "    else: name = \"state.pt\"\n",
    "\n",
    "    start_time = time()\n",
    "    for e in range(epochs):\n",
    "        e_st = time()\n",
    "        epochLoss = {\"train\" : 0.0, \"valid\" : 0.0}\n",
    "\n",
    "        for phase in [\"train\", \"valid\"]:\n",
    "            if phase == \"train\":\n",
    "                model.train()\n",
    "            else:\n",
    "                model.eval()\n",
    "            \n",
    "            lossPerPass = []\n",
    "\n",
    "            for X in dataloaders[phase]:\n",
    "                X = X.to(device)\n",
    "\n",
    "                optimizer.zero_grad()\n",
    "                with torch.set_grad_enabled(phase == \"train\"):\n",
    "                    _, decoded = model(X)\n",
    "                    loss = torch.nn.MSELoss()(decoded, X)\n",
    "                    if phase == \"train\":\n",
    "                        loss.backward()\n",
    "                        optimizer.step()\n",
    "                        if scheduler: scheduler.step()\n",
    "                lossPerPass.append(loss.item())\n",
    "            epochLoss[phase] = np.mean(np.array(lossPerPass))\n",
    "        LRs.append(scheduler.get_last_lr())\n",
    "        Losses.append(epochLoss)\n",
    "        \n",
    "        if early_stopping_patience:\n",
    "            if epochLoss[\"valid\"] < bestLoss[\"valid\"]:\n",
    "                bestLoss = epochLoss\n",
    "                BLE = e + 1\n",
    "                torch.save({\"model_state_dict\"     : model.state_dict(),\n",
    "                            \"optim_state_dict\"     : optimizer.state_dict(),\n",
    "                            \"scheduler_state_dict\" : scheduler.state_dict()},\n",
    "                           os.path.join(save_path, name))\n",
    "                early_stopping_step = 0\n",
    "            else:\n",
    "                early_stopping_step += 1\n",
    "                if early_stopping_step > early_stopping_patience:\n",
    "                    print(\"\\nEarly Stopping at Epoch {}\".format(e + 1))\n",
    "                    break\n",
    "        \n",
    "        if epochLoss[\"valid\"] < bestLoss[\"valid\"]:\n",
    "            bestLoss = epochLoss\n",
    "            BLE = e + 1\n",
    "            torch.save({\"model_state_dict\"     : model.state_dict(),\n",
    "                        \"optim_state_dict\"     : optimizer.state_dict(),\n",
    "                        \"scheduler_state_dict\" : scheduler.state_dict()},\n",
    "                        os.path.join(save_path, name))\n",
    "        \n",
    "        if verbose:\n",
    "            print(\"Epoch: {} | Train Loss: {:.5f} | Valid Loss: {:.5f} | Time: {:.2f} seconds\".format(e+1, epochLoss[\"train\"], epochLoss[\"valid\"], time()-e_st))\n",
    "\n",
    "    if verbose:                                           \n",
    "        breaker()\n",
    "        print(f\"Best Validation Loss at Epoch {BLE}\")\n",
    "        breaker()\n",
    "        print(\"Time Taken [{} Epochs] : {:.2f} minutes\".format(len(Losses), (time()-start_time)/60))\n",
    "    \n",
    "    return Losses, LRs, BLE, name\n",
    "\n",
    "\n",
    "def predict(model=None, device=None, image=None, size=None, path=None) -> np.ndarray:\n",
    "    model.load_state_dict(torch.load(path, map_location=device)[\"model_state_dict\"])\n",
    "    model.to(device)    \n",
    "    model.eval()\n",
    "    \n",
    "    h, w, _ = image.shape\n",
    "    temp_image = cv2.resize(src=image, dsize=(size, size), interpolation=cv2.INTER_AREA)\n",
    "\n",
    "    with torch.no_grad(): _, decoded = model(transforms.ToTensor()(temp_image).unsqueeze(dim=0).to(cfg.device))\n",
    "        \n",
    "    decoded_image = np.clip(decoded.squeeze().detach().cpu().numpy().transpose(1, 2, 0)*255, 0, 255).astype(\"uint8\")\n",
    "    return cv2.resize(src=decoded_image, dsize=(w, h), interpolation=cv2.INTER_AREA)"
   ]
  },
  {
   "cell_type": "markdown",
   "id": "37c23cc2",
   "metadata": {
    "papermill": {
     "duration": 0.014696,
     "end_time": "2022-05-19T09:14:38.204799",
     "exception": false,
     "start_time": "2022-05-19T09:14:38.190103",
     "status": "completed"
    },
    "tags": []
   },
   "source": [
    "### **Train**"
   ]
  },
  {
   "cell_type": "code",
   "execution_count": 7,
   "id": "f08bfa2f",
   "metadata": {
    "execution": {
     "iopub.execute_input": "2022-05-19T09:14:38.235742Z",
     "iopub.status.busy": "2022-05-19T09:14:38.235288Z",
     "iopub.status.idle": "2022-05-19T09:14:39.385460Z",
     "shell.execute_reply": "2022-05-19T09:14:39.384425Z"
    },
    "papermill": {
     "duration": 1.168826,
     "end_time": "2022-05-19T09:14:39.388190",
     "exception": false,
     "start_time": "2022-05-19T09:14:38.219364",
     "status": "completed"
    },
    "tags": []
   },
   "outputs": [],
   "source": [
    "image = get_image(path=\"../input/stanford-cars-dataset/cars_train/cars_train/00002.jpg\", size=224)\n",
    "images = np.array([image for _ in range(25000)])\n",
    "\n",
    "cfg = CFG(transform=transforms.Compose([transforms.ToTensor(),\n",
    "                                        transforms.Normalize([image[:, :, 0].mean(), \n",
    "                                                              image[:, :, 1].mean(), \n",
    "                                                              image[:, :, 2].mean()],\n",
    "                                                             [image[:, :, 0].std(),\n",
    "                                                              image[:, :, 1].std(), \n",
    "                                                              image[:, :, 2].std()]),\n",
    "                                       ]))"
   ]
  },
  {
   "cell_type": "code",
   "execution_count": 8,
   "id": "d3971903",
   "metadata": {
    "execution": {
     "iopub.execute_input": "2022-05-19T09:14:39.420090Z",
     "iopub.status.busy": "2022-05-19T09:14:39.419811Z",
     "iopub.status.idle": "2022-05-19T09:34:03.529928Z",
     "shell.execute_reply": "2022-05-19T09:34:03.528814Z"
    },
    "papermill": {
     "duration": 1164.128854,
     "end_time": "2022-05-19T09:34:03.532471",
     "exception": false,
     "start_time": "2022-05-19T09:14:39.403617",
     "status": "completed"
    },
    "tags": []
   },
   "outputs": [
    {
     "name": "stderr",
     "output_type": "stream",
     "text": [
      "Downloading: \"https://download.pytorch.org/models/resnet50-0676ba61.pth\" to /root/.cache/torch/hub/checkpoints/resnet50-0676ba61.pth\n"
     ]
    },
    {
     "data": {
      "application/vnd.jupyter.widget-view+json": {
       "model_id": "eec2cef415be4d349d10215341fe66b3",
       "version_major": 2,
       "version_minor": 0
      },
      "text/plain": [
       "  0%|          | 0.00/97.8M [00:00<?, ?B/s]"
      ]
     },
     "metadata": {},
     "output_type": "display_data"
    },
    {
     "name": "stdout",
     "output_type": "stream",
     "text": [
      "\n",
      "**************************************************\n",
      "\n",
      "Training ...\n",
      "\n",
      "**************************************************\n",
      "\n",
      "Epoch: 1 | Train Loss: 4.00468 | Valid Loss: 3.99747 | Time: 171.04 seconds\n",
      "Epoch: 2 | Train Loss: 3.99747 | Valid Loss: 3.99747 | Time: 164.29 seconds\n",
      "Epoch: 3 | Train Loss: 3.99747 | Valid Loss: 3.99747 | Time: 164.35 seconds\n",
      "Epoch: 4 | Train Loss: 3.99747 | Valid Loss: 3.99747 | Time: 164.24 seconds\n",
      "Epoch: 5 | Train Loss: 3.99747 | Valid Loss: 3.99747 | Time: 164.23 seconds\n",
      "Epoch: 6 | Train Loss: 3.99747 | Valid Loss: 3.99747 | Time: 164.34 seconds\n",
      "\n",
      "Early Stopping at Epoch 7\n",
      "\n",
      "**************************************************\n",
      "\n",
      "Best Validation Loss at Epoch 1\n",
      "\n",
      "**************************************************\n",
      "\n",
      "Time Taken [7 Epochs] : 19.28 minutes\n",
      "\n",
      "**************************************************\n",
      "\n"
     ]
    },
    {
     "data": {
      "image/png": "[encoded data removed]",
      "text/plain": [
       "<Figure size 576x432 with 1 Axes>"
      ]
     },
     "metadata": {
      "needs_background": "light"
     },
     "output_type": "display_data"
    },
    {
     "name": "stdout",
     "output_type": "stream",
     "text": [
      "\n",
      "**************************************************\n",
      "\n"
     ]
    },
    {
     "data": {
      "image/png": "[encoded data removed]",
      "text/plain": [
       "<Figure size 576x432 with 1 Axes>"
      ]
     },
     "metadata": {
      "needs_background": "light"
     },
     "output_type": "display_data"
    },
    {
     "name": "stdout",
     "output_type": "stream",
     "text": [
      "\n",
      "**************************************************\n",
      "\n"
     ]
    }
   ],
   "source": [
    "for tr_idx, va_idx in KFold(n_splits=cfg.n_splits, shuffle=True, random_state=cfg.seed).split(images):\n",
    "    break\n",
    "\n",
    "tr_images, va_images = images[tr_idx], images[va_idx]\n",
    "\n",
    "tr_data_setup = DS(tr_images, cfg.transform)\n",
    "va_data_setup = DS(va_images, cfg.transform)\n",
    "\n",
    "dataloaders = {\n",
    "    \"train\" : DL(tr_data_setup, batch_size=cfg.batch_size, shuffle=True, generator=torch.manual_seed(cfg.seed)),\n",
    "    \"valid\" : DL(va_data_setup, batch_size=cfg.batch_size, shuffle=False)\n",
    "}\n",
    "\n",
    "cfg = CFG(seed=SEED, size=224, epochs=50, early_stopping=5, lr=1e-3, wd=0.0, steps_per_epoch=len(dataloaders[\"train\"]))\n",
    "\n",
    "torch.manual_seed(cfg.seed)\n",
    "model = Model().to(cfg.device)\n",
    "optimizer = optim.Adam([p for p in model.parameters() if p.requires_grad], lr=cfg.lr, weight_decay=cfg.wd)\n",
    "scheduler = optim.lr_scheduler.OneCycleLR(optimizer=optimizer, \n",
    "                                          max_lr=cfg.max_lr, \n",
    "                                          epochs=cfg.epochs, \n",
    "                                          steps_per_epoch=cfg.steps_per_epoch,\n",
    "                                          pct_start=cfg.pct_start, \n",
    "                                          div_factor=cfg.div_factor, \n",
    "                                          final_div_factor=cfg.final_div_factor)\n",
    "\n",
    "L, LRs, BLE, name = fit(model=model, \n",
    "                        optimizer=optimizer, \n",
    "                        scheduler=scheduler, \n",
    "                        epochs=cfg.epochs, \n",
    "                        early_stopping_patience=cfg.early_stopping, \n",
    "                        dataloaders=dataloaders, \n",
    "                        device=cfg.device,\n",
    "                        save_path=cfg.save_path,\n",
    "                        verbose=True)\n",
    "\n",
    "breaker()\n",
    "show_graphs(L)\n",
    "breaker()\n",
    "x_Axis = [i+1 for i in range(len(LRs))]\n",
    "plt.figure(figsize=(8, 6))\n",
    "plt.plot(x_Axis, LRs, \"rx\")\n",
    "plt.grid()\n",
    "plt.show()\n",
    "breaker()"
   ]
  }
 ],
 "metadata": {
  "kernelspec": {
   "display_name": "Python 3",
   "language": "python",
   "name": "python3"
  },
  "language_info": {
   "codemirror_mode": {
    "name": "ipython",
    "version": 3
   },
   "file_extension": ".py",
   "mimetype": "text/x-python",
   "name": "python",
   "nbconvert_exporter": "python",
   "pygments_lexer": "ipython3",
   "version": "3.7.12"
  },
  "papermill": {
   "default_parameters": {},
   "duration": 1182.309142,
   "end_time": "2022-05-19T09:34:05.776117",
   "environment_variables": {},
   "exception": null,
   "input_path": "__notebook__.ipynb",
   "output_path": "__notebook__.ipynb",
   "parameters": {},
   "start_time": "2022-05-19T09:14:23.466975",
   "version": "2.3.4"
  },
  "widgets": {
   "application/vnd.jupyter.widget-state+json": {
    "state": {
     "12aab4345b1c4a1ca0acaac8f2b789c1": {
      "model_module": "@jupyter-widgets/base",
      "model_module_version": "1.2.0",
      "model_name": "LayoutModel",
      "state": {
       "_model_module": "@jupyter-widgets/base",
       "_model_module_version": "1.2.0",
       "_model_name": "LayoutModel",
       "_view_count": null,
       "_view_module": "@jupyter-widgets/base",
       "_view_module_version": "1.2.0",
       "_view_name": "LayoutView",
       "align_content": null,
       "align_items": null,
       "align_self": null,
       "border": null,
       "bottom": null,
       "display": null,
       "flex": null,
       "flex_flow": null,
       "grid_area": null,
       "grid_auto_columns": null,
       "grid_auto_flow": null,
       "grid_auto_rows": null,
       "grid_column": null,
       "grid_gap": null,
       "grid_row": null,
       "grid_template_areas": null,
       "grid_template_columns": null,
       "grid_template_rows": null,
       "height": null,
       "justify_content": null,
       "justify_items": null,
       "left": null,
       "margin": null,
       "max_height": null,
       "max_width": null,
       "min_height": null,
       "min_width": null,
       "object_fit": null,
       "object_position": null,
       "order": null,
       "overflow": null,
       "overflow_x": null,
       "overflow_y": null,
       "padding": null,
       "right": null,
       "top": null,
       "visibility": null,
       "width": null
      }
     },
     "31925185222a44f3b738828d310a8319": {
      "model_module": "@jupyter-widgets/controls",
      "model_module_version": "1.5.0",
      "model_name": "FloatProgressModel",
      "state": {
       "_dom_classes": [],
       "_model_module": "@jupyter-widgets/controls",
       "_model_module_version": "1.5.0",
       "_model_name": "FloatProgressModel",
       "_view_count": null,
       "_view_module": "@jupyter-widgets/controls",
       "_view_module_version": "1.5.0",
       "_view_name": "ProgressView",
       "bar_style": "success",
       "description": "",
       "description_tooltip": null,
       "layout": "IPY_MODEL_12aab4345b1c4a1ca0acaac8f2b789c1",
       "max": 102530333.0,
       "min": 0.0,
       "orientation": "horizontal",
       "style": "IPY_MODEL_9fe775c1352343f692f61589c07b05f4",
       "value": 102530333.0
      }
     },
     "460e28f4082547df9bd1bf7afa336d1c": {
      "model_module": "@jupyter-widgets/controls",
      "model_module_version": "1.5.0",
      "model_name": "HTMLModel",
      "state": {
       "_dom_classes": [],
       "_model_module": "@jupyter-widgets/controls",
       "_model_module_version": "1.5.0",
       "_model_name": "HTMLModel",
       "_view_count": null,
       "_view_module": "@jupyter-widgets/controls",
       "_view_module_version": "1.5.0",
       "_view_name": "HTMLView",
       "description": "",
       "description_tooltip": null,
       "layout": "IPY_MODEL_aaae91df599a4f4c8697722a85cfc06c",
       "placeholder": "​",
       "style": "IPY_MODEL_b989fa80a34b41feb6ff062fc9ecc94b",
       "value": " 97.8M/97.8M [00:00&lt;00:00, 144MB/s]"
      }
     },
     "6941f25f35b74c5bb339ad4f4c886e20": {
      "model_module": "@jupyter-widgets/base",
      "model_module_version": "1.2.0",
      "model_name": "LayoutModel",
      "state": {
       "_model_module": "@jupyter-widgets/base",
       "_model_module_version": "1.2.0",
       "_model_name": "LayoutModel",
       "_view_count": null,
       "_view_module": "@jupyter-widgets/base",
       "_view_module_version": "1.2.0",
       "_view_name": "LayoutView",
       "align_content": null,
       "align_items": null,
       "align_self": null,
       "border": null,
       "bottom": null,
       "display": null,
       "flex": null,
       "flex_flow": null,
       "grid_area": null,
       "grid_auto_columns": null,
       "grid_auto_flow": null,
       "grid_auto_rows": null,
       "grid_column": null,
       "grid_gap": null,
       "grid_row": null,
       "grid_template_areas": null,
       "grid_template_columns": null,
       "grid_template_rows": null,
       "height": null,
       "justify_content": null,
       "justify_items": null,
       "left": null,
       "margin": null,
       "max_height": null,
       "max_width": null,
       "min_height": null,
       "min_width": null,
       "object_fit": null,
       "object_position": null,
       "order": null,
       "overflow": null,
       "overflow_x": null,
       "overflow_y": null,
       "padding": null,
       "right": null,
       "top": null,
       "visibility": null,
       "width": null
      }
     },
     "74be066251e04dbba79af30718dcc215": {
      "model_module": "@jupyter-widgets/controls",
      "model_module_version": "1.5.0",
      "model_name": "HTMLModel",
      "state": {
       "_dom_classes": [],
       "_model_module": "@jupyter-widgets/controls",
       "_model_module_version": "1.5.0",
       "_model_name": "HTMLModel",
       "_view_count": null,
       "_view_module": "@jupyter-widgets/controls",
       "_view_module_version": "1.5.0",
       "_view_name": "HTMLView",
       "description": "",
       "description_tooltip": null,
       "layout": "IPY_MODEL_8e48c0bf925441bea1ae5e5498684de6",
       "placeholder": "​",
       "style": "IPY_MODEL_e11630e640fe4370a4743f777b6afda0",
       "value": "100%"
      }
     },
     "8e48c0bf925441bea1ae5e5498684de6": {
      "model_module": "@jupyter-widgets/base",
      "model_module_version": "1.2.0",
      "model_name": "LayoutModel",
      "state": {
       "_model_module": "@jupyter-widgets/base",
       "_model_module_version": "1.2.0",
       "_model_name": "LayoutModel",
       "_view_count": null,
       "_view_module": "@jupyter-widgets/base",
       "_view_module_version": "1.2.0",
       "_view_name": "LayoutView",
       "align_content": null,
       "align_items": null,
       "align_self": null,
       "border": null,
       "bottom": null,
       "display": null,
       "flex": null,
       "flex_flow": null,
       "grid_area": null,
       "grid_auto_columns": null,
       "grid_auto_flow": null,
       "grid_auto_rows": null,
       "grid_column": null,
       "grid_gap": null,
       "grid_row": null,
       "grid_template_areas": null,
       "grid_template_columns": null,
       "grid_template_rows": null,
       "height": null,
       "justify_content": null,
       "justify_items": null,
       "left": null,
       "margin": null,
       "max_height": null,
       "max_width": null,
       "min_height": null,
       "min_width": null,
       "object_fit": null,
       "object_position": null,
       "order": null,
       "overflow": null,
       "overflow_x": null,
       "overflow_y": null,
       "padding": null,
       "right": null,
       "top": null,
       "visibility": null,
       "width": null
      }
     },
     "9fe775c1352343f692f61589c07b05f4": {
      "model_module": "@jupyter-widgets/controls",
      "model_module_version": "1.5.0",
      "model_name": "ProgressStyleModel",
      "state": {
       "_model_module": "@jupyter-widgets/controls",
       "_model_module_version": "1.5.0",
       "_model_name": "ProgressStyleModel",
       "_view_count": null,
       "_view_module": "@jupyter-widgets/base",
       "_view_module_version": "1.2.0",
       "_view_name": "StyleView",
       "bar_color": null,
       "description_width": ""
      }
     },
     "aaae91df599a4f4c8697722a85cfc06c": {
      "model_module": "@jupyter-widgets/base",
      "model_module_version": "1.2.0",
      "model_name": "LayoutModel",
      "state": {
       "_model_module": "@jupyter-widgets/base",
       "_model_module_version": "1.2.0",
       "_model_name": "LayoutModel",
       "_view_count": null,
       "_view_module": "@jupyter-widgets/base",
       "_view_module_version": "1.2.0",
       "_view_name": "LayoutView",
       "align_content": null,
       "align_items": null,
       "align_self": null,
       "border": null,
       "bottom": null,
       "display": null,
       "flex": null,
       "flex_flow": null,
       "grid_area": null,
       "grid_auto_columns": null,
       "grid_auto_flow": null,
       "grid_auto_rows": null,
       "grid_column": null,
       "grid_gap": null,
       "grid_row": null,
       "grid_template_areas": null,
       "grid_template_columns": null,
       "grid_template_rows": null,
       "height": null,
       "justify_content": null,
       "justify_items": null,
       "left": null,
       "margin": null,
       "max_height": null,
       "max_width": null,
       "min_height": null,
       "min_width": null,
       "object_fit": null,
       "object_position": null,
       "order": null,
       "overflow": null,
       "overflow_x": null,
       "overflow_y": null,
       "padding": null,
       "right": null,
       "top": null,
       "visibility": null,
       "width": null
      }
     },
     "b989fa80a34b41feb6ff062fc9ecc94b": {
      "model_module": "@jupyter-widgets/controls",
      "model_module_version": "1.5.0",
      "model_name": "DescriptionStyleModel",
      "state": {
       "_model_module": "@jupyter-widgets/controls",
       "_model_module_version": "1.5.0",
       "_model_name": "DescriptionStyleModel",
       "_view_count": null,
       "_view_module": "@jupyter-widgets/base",
       "_view_module_version": "1.2.0",
       "_view_name": "StyleView",
       "description_width": ""
      }
     },
     "e11630e640fe4370a4743f777b6afda0": {
      "model_module": "@jupyter-widgets/controls",
      "model_module_version": "1.5.0",
      "model_name": "DescriptionStyleModel",
      "state": {
       "_model_module": "@jupyter-widgets/controls",
       "_model_module_version": "1.5.0",
       "_model_name": "DescriptionStyleModel",
       "_view_count": null,
       "_view_module": "@jupyter-widgets/base",
       "_view_module_version": "1.2.0",
       "_view_name": "StyleView",
       "description_width": ""
      }
     },
     "eec2cef415be4d349d10215341fe66b3": {
      "model_module": "@jupyter-widgets/controls",
      "model_module_version": "1.5.0",
      "model_name": "HBoxModel",
      "state": {
       "_dom_classes": [],
       "_model_module": "@jupyter-widgets/controls",
       "_model_module_version": "1.5.0",
       "_model_name": "HBoxModel",
       "_view_count": null,
       "_view_module": "@jupyter-widgets/controls",
       "_view_module_version": "1.5.0",
       "_view_name": "HBoxView",
       "box_style": "",
       "children": [
        "IPY_MODEL_74be066251e04dbba79af30718dcc215",
        "IPY_MODEL_31925185222a44f3b738828d310a8319",
        "IPY_MODEL_460e28f4082547df9bd1bf7afa336d1c"
       ],
       "layout": "IPY_MODEL_6941f25f35b74c5bb339ad4f4c886e20"
      }
     }
    },
    "version_major": 2,
    "version_minor": 0
   }
  }
 },
 "nbformat": 4,
 "nbformat_minor": 5
}
