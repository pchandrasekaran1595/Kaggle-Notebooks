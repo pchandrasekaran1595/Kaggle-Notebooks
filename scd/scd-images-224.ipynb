{
 "cells": [
  {
   "cell_type": "code",
   "execution_count": 1,
   "id": "39b3cda4",
   "metadata": {
    "_cell_guid": "b1076dfc-b9ad-4769-8c92-a6c4dae69d19",
    "_uuid": "8f2839f25d086af736a60e9eeb907d3b93b6e0e5",
    "execution": {
     "iopub.execute_input": "2022-05-01T07:13:56.966615Z",
     "iopub.status.busy": "2022-05-01T07:13:56.965772Z",
     "iopub.status.idle": "2022-05-01T07:13:57.214799Z",
     "shell.execute_reply": "2022-05-01T07:13:57.213932Z"
    },
    "papermill": {
     "duration": 0.260626,
     "end_time": "2022-05-01T07:13:57.217177",
     "exception": false,
     "start_time": "2022-05-01T07:13:56.956551",
     "status": "completed"
    },
    "tags": []
   },
   "outputs": [],
   "source": [
    "import os\n",
    "import cv2\n",
    "import numpy as np"
   ]
  },
  {
   "cell_type": "code",
   "execution_count": 2,
   "id": "49490d51",
   "metadata": {
    "execution": {
     "iopub.execute_input": "2022-05-01T07:13:57.226810Z",
     "iopub.status.busy": "2022-05-01T07:13:57.225953Z",
     "iopub.status.idle": "2022-05-01T07:13:57.236368Z",
     "shell.execute_reply": "2022-05-01T07:13:57.235606Z"
    },
    "papermill": {
     "duration": 0.017186,
     "end_time": "2022-05-01T07:13:57.238391",
     "exception": false,
     "start_time": "2022-05-01T07:13:57.221205",
     "status": "completed"
    },
    "tags": []
   },
   "outputs": [],
   "source": [
    "def breaker(num: int = 50, char: str = \"*\") -> None:\n",
    "    print(\"\\n\" + num*char + \"\\n\")\n",
    "\n",
    "\n",
    "def preprocess(image: np.ndarray, size: int) -> np.ndarray:\n",
    "    return cv2.resize(src=cv2.cvtColor(src=image, code=cv2.COLOR_BGR2RGB), dsize=(size, size), interpolation=cv2.INTER_AREA)\n",
    "\n",
    "\n",
    "def get_images(path: str, names: np.ndarray, size: int) -> np.ndarray:\n",
    "    images = np.zeros((len(names), size, size, 3), dtype=np.uint8)\n",
    "    \n",
    "    i = 0\n",
    "    for name in names:\n",
    "        images[i] = preprocess(cv2.imread(os.path.join(path, name), cv2.IMREAD_COLOR), size)\n",
    "        i += 1\n",
    "    return images\n",
    "\n",
    "\n",
    "def get_statistics(images: np.ndarray, size: int) -> None:\n",
    "    print(f\"Mean {size}x{size}\\n\")\n",
    "    print(f\"Red Channel Mean   {size} : {images[:, :, :, 0].mean() / 255:.5f}\")\n",
    "    print(f\"Green Channel Mean {size} : {images[:, :, :, 1].mean() / 255:.5f}\")\n",
    "    print(f\"Blue Channel Mean  {size} : {images[:, :, :, 2].mean() / 255:.5f}\")\n",
    "    print(\"\")\n",
    "    print(f\"Standard Deviation {size}x{size}\\n\")\n",
    "    print(f\"Red Channel Std    {size} : {images[:, :, :, 0].std() / 255:.5f}\")\n",
    "    print(f\"Green Channel Std  {size} : {images[:, :, :, 1].std() / 255:.5f}\")\n",
    "    print(f\"Blue Channel Std   {size} : {images[:, :, :, 2].std() / 255:.5f}\") \n",
    "    \n",
    "\n",
    "    "
   ]
  },
  {
   "cell_type": "code",
   "execution_count": 3,
   "id": "a2818c77",
   "metadata": {
    "execution": {
     "iopub.execute_input": "2022-05-01T07:13:57.247080Z",
     "iopub.status.busy": "2022-05-01T07:13:57.246828Z",
     "iopub.status.idle": "2022-05-01T07:18:46.836109Z",
     "shell.execute_reply": "2022-05-01T07:18:46.834356Z"
    },
    "papermill": {
     "duration": 289.596326,
     "end_time": "2022-05-01T07:18:46.838337",
     "exception": false,
     "start_time": "2022-05-01T07:13:57.242011",
     "status": "completed"
    },
    "tags": []
   },
   "outputs": [
    {
     "name": "stdout",
     "output_type": "stream",
     "text": [
      "\n",
      "**************************************************\n",
      "\n",
      "Mean 224x224\n",
      "\n",
      "Red Channel Mean   224 : 0.46986\n",
      "Green Channel Mean 224 : 0.45942\n",
      "Blue Channel Mean  224 : 0.45442\n",
      "\n",
      "Standard Deviation 224x224\n",
      "\n",
      "Red Channel Std    224 : 0.29034\n",
      "Green Channel Std  224 : 0.28930\n",
      "Blue Channel Std   224 : 0.29758\n",
      "\n",
      "**************************************************\n",
      "\n"
     ]
    }
   ],
   "source": [
    "sizes = [224]\n",
    "\n",
    "tr_filenames = os.listdir(\"../input/stanford-cars-dataset/cars_train/cars_train\")\n",
    "ts_filenames = os.listdir(\"../input/stanford-cars-dataset/cars_test/cars_test\")\n",
    "\n",
    "\n",
    "breaker()\n",
    "for size in sizes:\n",
    "    tr_images = get_images(\"../input/stanford-cars-dataset/cars_train/cars_train\", tr_filenames, size)\n",
    "    ts_images = get_images(\"../input/stanford-cars-dataset/cars_test/cars_test\", ts_filenames, size)\n",
    "    \n",
    "    images = np.concatenate((tr_images, ts_images), axis=0)\n",
    "    \n",
    "    np.save(f\"images_{size}.npy\", images)\n",
    "    get_statistics(images, size)\n",
    "    breaker()"
   ]
  }
 ],
 "metadata": {
  "kernelspec": {
   "display_name": "Python 3",
   "language": "python",
   "name": "python3"
  },
  "language_info": {
   "codemirror_mode": {
    "name": "ipython",
    "version": 3
   },
   "file_extension": ".py",
   "mimetype": "text/x-python",
   "name": "python",
   "nbconvert_exporter": "python",
   "pygments_lexer": "ipython3",
   "version": "3.7.12"
  },
  "papermill": {
   "default_parameters": {},
   "duration": 299.41017,
   "end_time": "2022-05-01T07:18:47.668267",
   "environment_variables": {},
   "exception": null,
   "input_path": "__notebook__.ipynb",
   "output_path": "__notebook__.ipynb",
   "parameters": {},
   "start_time": "2022-05-01T07:13:48.258097",
   "version": "2.3.4"
  }
 },
 "nbformat": 4,
 "nbformat_minor": 5
}
