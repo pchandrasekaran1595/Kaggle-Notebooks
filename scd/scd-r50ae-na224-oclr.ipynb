{
 "cells": [
  {
   "cell_type": "markdown",
   "id": "78081185",
   "metadata": {
    "_cell_guid": "b1076dfc-b9ad-4769-8c92-a6c4dae69d19",
    "_uuid": "8f2839f25d086af736a60e9eeb907d3b93b6e0e5",
    "papermill": {
     "duration": 0.011349,
     "end_time": "2022-05-05T05:59:28.483864",
     "exception": false,
     "start_time": "2022-05-05T05:59:28.472515",
     "status": "completed"
    },
    "tags": []
   },
   "source": [
    "### **Library Imports**"
   ]
  },
  {
   "cell_type": "code",
   "execution_count": 1,
   "id": "338a0899",
   "metadata": {
    "execution": {
     "iopub.execute_input": "2022-05-05T05:59:28.506260Z",
     "iopub.status.busy": "2022-05-05T05:59:28.505611Z",
     "iopub.status.idle": "2022-05-05T05:59:31.011099Z",
     "shell.execute_reply": "2022-05-05T05:59:31.010225Z"
    },
    "papermill": {
     "duration": 2.51928,
     "end_time": "2022-05-05T05:59:31.013279",
     "exception": false,
     "start_time": "2022-05-05T05:59:28.493999",
     "status": "completed"
    },
    "tags": []
   },
   "outputs": [],
   "source": [
    "import os\n",
    "import re\n",
    "import torch\n",
    "import random as r\n",
    "import numpy as np\n",
    "import pandas as pd\n",
    "import matplotlib.pyplot as plt\n",
    "\n",
    "from time import time\n",
    "from torch import nn, optim\n",
    "from torch.utils.data import Dataset\n",
    "from torch.utils.data import DataLoader as DL\n",
    "from torchvision import models, transforms\n",
    "\n",
    "from sklearn.model_selection import KFold"
   ]
  },
  {
   "cell_type": "markdown",
   "id": "4cc2b281",
   "metadata": {
    "papermill": {
     "duration": 0.009997,
     "end_time": "2022-05-05T05:59:31.034202",
     "exception": false,
     "start_time": "2022-05-05T05:59:31.024205",
     "status": "completed"
    },
    "tags": []
   },
   "source": [
    "### **Utilities and Constants**"
   ]
  },
  {
   "cell_type": "code",
   "execution_count": 2,
   "id": "5dcae7c2",
   "metadata": {
    "execution": {
     "iopub.execute_input": "2022-05-05T05:59:31.056325Z",
     "iopub.status.busy": "2022-05-05T05:59:31.055687Z",
     "iopub.status.idle": "2022-05-05T05:59:31.064129Z",
     "shell.execute_reply": "2022-05-05T05:59:31.063474Z"
    },
    "papermill": {
     "duration": 0.021232,
     "end_time": "2022-05-05T05:59:31.065737",
     "exception": false,
     "start_time": "2022-05-05T05:59:31.044505",
     "status": "completed"
    },
    "tags": []
   },
   "outputs": [],
   "source": [
    "SEED = 42\n",
    "\n",
    "\n",
    "def breaker(num: int=50, char: str=\"*\") -> None:\n",
    "    print(\"\\n\" + num*char + \"\\n\")\n",
    "\n",
    "\n",
    "def show_graphs(L: list) -> None:\n",
    "    TL, VL = [], []\n",
    "    for i in range(len(L)):\n",
    "        TL.append(L[i][\"train\"])\n",
    "        VL.append(L[i][\"valid\"])\n",
    "    x_Axis = np.arange(1, len(TL) + 1)\n",
    "    plt.figure(figsize=(8, 6))\n",
    "    plt.plot(x_Axis, TL, \"r\", label=\"Train\")\n",
    "    plt.plot(x_Axis, VL, \"b\", label=\"Valid\")\n",
    "    plt.legend()\n",
    "    plt.grid()\n",
    "    plt.title(\"Loss Graph\")\n",
    "    plt.show()\n",
    "\n",
    "\n",
    "def show(image: np.ndarray, cmap: str=\"gnuplot2\") -> None:\n",
    "    plt.figure()\n",
    "    plt.imshow(image, cmap=cmap)\n",
    "    plt.axis(\"off\")\n",
    "    plt.show()"
   ]
  },
  {
   "cell_type": "markdown",
   "id": "deab5624",
   "metadata": {
    "papermill": {
     "duration": 0.010503,
     "end_time": "2022-05-05T05:59:31.086446",
     "exception": false,
     "start_time": "2022-05-05T05:59:31.075943",
     "status": "completed"
    },
    "tags": []
   },
   "source": [
    "### **Configuration**"
   ]
  },
  {
   "cell_type": "code",
   "execution_count": 3,
   "id": "7c73a6e3",
   "metadata": {
    "execution": {
     "iopub.execute_input": "2022-05-05T05:59:31.108196Z",
     "iopub.status.busy": "2022-05-05T05:59:31.107995Z",
     "iopub.status.idle": "2022-05-05T05:59:31.169308Z",
     "shell.execute_reply": "2022-05-05T05:59:31.168639Z"
    },
    "papermill": {
     "duration": 0.074586,
     "end_time": "2022-05-05T05:59:31.171407",
     "exception": false,
     "start_time": "2022-05-05T05:59:31.096821",
     "status": "completed"
    },
    "tags": []
   },
   "outputs": [],
   "source": [
    "class CFG(object):\n",
    "    def __init__(self, \n",
    "                 seed: int = 42,\n",
    "                 in_channels: int = 3,\n",
    "                 size: int = 224,\n",
    "                 n_splits: int = 5,\n",
    "                 batch_size: int = 16,\n",
    "                 epochs: int = 25,\n",
    "                 early_stopping: int = 5,\n",
    "                 lr: float = 1e-4,\n",
    "                 wd: float = 0.0,\n",
    "                 max_lr: float = 1e-3,\n",
    "                 pct_start: float = 0.2,\n",
    "                 steps_per_epoch: int = 100,\n",
    "                 div_factor: int = 1e3, \n",
    "                 final_div_factor: float = 1e3,\n",
    "                 ):\n",
    "        \n",
    "        self.seed = seed\n",
    "        self.in_channels = in_channels\n",
    "        self.size = size\n",
    "        self.n_splits = n_splits\n",
    "        self.batch_size = batch_size\n",
    "        self.epochs = epochs\n",
    "        self.early_stopping = early_stopping\n",
    "        self.lr = lr\n",
    "        self.wd = wd\n",
    "        self.max_lr = max_lr\n",
    "        self.pct_start = pct_start\n",
    "        self.steps_per_epoch = steps_per_epoch\n",
    "        self.div_factor = div_factor\n",
    "        self.final_div_factor = final_div_factor\n",
    "        self.device = torch.device(\"cuda\" if torch.cuda.is_available() else \"cpu\")\n",
    "        self.transform = transforms.Compose([transforms.ToTensor(),\n",
    "                                transforms.Normalize([0.46986, 0.45942, 0.45442],\n",
    "                                                     [0.29034, 0.28930, 0.29758]),\n",
    "                                ])\n",
    "        self.save_path = \"/content/saves\"\n",
    "        if not os.path.exists(self.save_path): os.makedirs(self.save_path)\n",
    "    \n",
    "cfg = CFG(seed=SEED, size=224)"
   ]
  },
  {
   "cell_type": "markdown",
   "id": "79f64a6e",
   "metadata": {
    "papermill": {
     "duration": 0.010314,
     "end_time": "2022-05-05T05:59:31.192404",
     "exception": false,
     "start_time": "2022-05-05T05:59:31.182090",
     "status": "completed"
    },
    "tags": []
   },
   "source": [
    "### **Dataset Template**"
   ]
  },
  {
   "cell_type": "code",
   "execution_count": 4,
   "id": "e9afc0c6",
   "metadata": {
    "execution": {
     "iopub.execute_input": "2022-05-05T05:59:31.214308Z",
     "iopub.status.busy": "2022-05-05T05:59:31.214103Z",
     "iopub.status.idle": "2022-05-05T05:59:31.218947Z",
     "shell.execute_reply": "2022-05-05T05:59:31.218193Z"
    },
    "papermill": {
     "duration": 0.017543,
     "end_time": "2022-05-05T05:59:31.220537",
     "exception": false,
     "start_time": "2022-05-05T05:59:31.202994",
     "status": "completed"
    },
    "tags": []
   },
   "outputs": [],
   "source": [
    "class DS(Dataset):\n",
    "    def __init__(self, images: np.ndarray, transform=None):\n",
    "        self.images = images\n",
    "        self.transform = transform\n",
    "    \n",
    "    def __len__(self):\n",
    "        return self.images.shape[0]\n",
    "    \n",
    "    def __getitem__(self, idx):\n",
    "        return self.transform(self.images[idx])"
   ]
  },
  {
   "cell_type": "markdown",
   "id": "2e3f286c",
   "metadata": {
    "papermill": {
     "duration": 0.011157,
     "end_time": "2022-05-05T05:59:31.242674",
     "exception": false,
     "start_time": "2022-05-05T05:59:31.231517",
     "status": "completed"
    },
    "tags": []
   },
   "source": [
    "### **Model**"
   ]
  },
  {
   "cell_type": "code",
   "execution_count": 5,
   "id": "07b8e51a",
   "metadata": {
    "execution": {
     "iopub.execute_input": "2022-05-05T05:59:31.265082Z",
     "iopub.status.busy": "2022-05-05T05:59:31.264892Z",
     "iopub.status.idle": "2022-05-05T05:59:31.279509Z",
     "shell.execute_reply": "2022-05-05T05:59:31.278862Z"
    },
    "papermill": {
     "duration": 0.027945,
     "end_time": "2022-05-05T05:59:31.281164",
     "exception": false,
     "start_time": "2022-05-05T05:59:31.253219",
     "status": "completed"
    },
    "tags": []
   },
   "outputs": [],
   "source": [
    "class Model(nn.Module):\n",
    "    def __init__(self, in_channels: int = 3):\n",
    "        super(Model, self).__init__()\n",
    "\n",
    "        self.encoder = models.resnet50(pretrained=True, progress=True)\n",
    "        # self.freeze()\n",
    "        self.encoder = nn.Sequential(*[*self.encoder.children()][:-2])\n",
    "        if in_channels != 3:\n",
    "            self.encoder[0] = nn.Conv2d(in_channels=in_channels, \n",
    "                                        out_channels=self.encoder[0].out_channels, \n",
    "                                        kernel_size=self.encoder[0].kernel_size, \n",
    "                                        stride=self.encoder[0].stride,\n",
    "                                        padding=self.encoder[0].padding)\n",
    "\n",
    "        self.decoder = nn.Sequential()\n",
    "        self.decoder.add_module(\"DC1\", nn.ConvTranspose2d(in_channels=2048, out_channels=512, kernel_size=(3, 3), stride=(1, 1), padding=(1, 1)))\n",
    "        self.decoder.add_module(\"AN1\", nn.ReLU())\n",
    "        self.decoder.add_module(\"UP1\", nn.Upsample(scale_factor=2))\n",
    "        self.decoder.add_module(\"DC2\", nn.ConvTranspose2d(in_channels=512, out_channels=256, kernel_size=(3, 3), stride=(1, 1), padding=(1, 1)))\n",
    "        self.decoder.add_module(\"AN2\", nn.ReLU())\n",
    "        self.decoder.add_module(\"UP2\", nn.Upsample(scale_factor=2))\n",
    "        self.decoder.add_module(\"DC3\", nn.ConvTranspose2d(in_channels=256, out_channels=128, kernel_size=(3, 3), stride=(1, 1), padding=(1, 1)))\n",
    "        self.decoder.add_module(\"AN3\", nn.ReLU())\n",
    "        self.decoder.add_module(\"UP3\", nn.Upsample(scale_factor=2))\n",
    "        self.decoder.add_module(\"DC4\", nn.ConvTranspose2d(in_channels=128, out_channels=64, kernel_size=(3, 3), stride=(1, 1), padding=(1, 1)))\n",
    "        self.decoder.add_module(\"AN4\", nn.ReLU())\n",
    "        self.decoder.add_module(\"UP4\", nn.Upsample(scale_factor=2))\n",
    "        self.decoder.add_module(\"DC5\", nn.ConvTranspose2d(in_channels=64, out_channels=in_channels, kernel_size=(3, 3), stride=(1, 1), padding=(1, 1)))\n",
    "        self.decoder.add_module(\"AN5\", nn.ReLU())\n",
    "        self.decoder.add_module(\"UP5\", nn.Upsample(scale_factor=2))\n",
    "    \n",
    "    def freeze(self):\n",
    "        for params in self.parameters(): params.requires_grad = False\n",
    "    \n",
    "    def forward(self, x):\n",
    "        encoded = self.encoder(x)\n",
    "        decoded = self.decoder(encoded)\n",
    "        \n",
    "        return encoded, decoded"
   ]
  },
  {
   "cell_type": "markdown",
   "id": "3431781c",
   "metadata": {
    "papermill": {
     "duration": 0.01055,
     "end_time": "2022-05-05T05:59:31.302188",
     "exception": false,
     "start_time": "2022-05-05T05:59:31.291638",
     "status": "completed"
    },
    "tags": []
   },
   "source": [
    "### **Fit and Predict Helper**"
   ]
  },
  {
   "cell_type": "code",
   "execution_count": 6,
   "id": "276322df",
   "metadata": {
    "execution": {
     "iopub.execute_input": "2022-05-05T05:59:31.326745Z",
     "iopub.status.busy": "2022-05-05T05:59:31.326532Z",
     "iopub.status.idle": "2022-05-05T05:59:31.349842Z",
     "shell.execute_reply": "2022-05-05T05:59:31.349114Z"
    },
    "papermill": {
     "duration": 0.037294,
     "end_time": "2022-05-05T05:59:31.351852",
     "exception": false,
     "start_time": "2022-05-05T05:59:31.314558",
     "status": "completed"
    },
    "tags": []
   },
   "outputs": [],
   "source": [
    "def fit(model=None, \n",
    "        optimizer=None, \n",
    "        scheduler=None, \n",
    "        epochs=None, \n",
    "        early_stopping_patience=None, \n",
    "        dataloaders=None, \n",
    "        fold=None, \n",
    "        device=None,\n",
    "        save_path=None,\n",
    "        verbose=False) -> tuple:\n",
    "    \n",
    "    if verbose:\n",
    "        breaker()\n",
    "        if fold: print(f\"Training Fold {fold}...\")\n",
    "        else: print(\"Training ...\")\n",
    "        breaker()\n",
    "        \n",
    "    bestLoss = {\"train\" : np.inf, \"valid\" : np.inf}\n",
    "    Losses, LRs = [], []\n",
    "    if fold: name = f\"state_fold_{fold}.pt\"\n",
    "    else: name = \"state.pt\"\n",
    "\n",
    "    start_time = time()\n",
    "    for e in range(epochs):\n",
    "        e_st = time()\n",
    "        epochLoss = {\"train\" : 0.0, \"valid\" : 0.0}\n",
    "\n",
    "        for phase in [\"train\", \"valid\"]:\n",
    "            if phase == \"train\":\n",
    "                model.train()\n",
    "            else:\n",
    "                model.eval()\n",
    "            \n",
    "            lossPerPass = []\n",
    "\n",
    "            for X in dataloaders[phase]:\n",
    "                X = X.to(device)\n",
    "\n",
    "                optimizer.zero_grad()\n",
    "                with torch.set_grad_enabled(phase == \"train\"):\n",
    "                    _, decoded = model(X)\n",
    "                    loss = torch.nn.MSELoss()(decoded, X)\n",
    "                    if phase == \"train\":\n",
    "                        loss.backward()\n",
    "                        optimizer.step()\n",
    "                        if scheduler: scheduler.step()\n",
    "                lossPerPass.append(loss.item())\n",
    "            epochLoss[phase] = np.mean(np.array(lossPerPass))\n",
    "        LRs.append(scheduler.get_last_lr())\n",
    "        Losses.append(epochLoss)\n",
    "        \n",
    "        if early_stopping_patience:\n",
    "            if epochLoss[\"valid\"] < bestLoss[\"valid\"]:\n",
    "                bestLoss = epochLoss\n",
    "                BLE = e + 1\n",
    "                torch.save({\"model_state_dict\"     : model.state_dict(),\n",
    "                            \"optim_state_dict\"     : optimizer.state_dict(),\n",
    "                            \"scheduler_state_dict\" : scheduler.state_dict()},\n",
    "                           os.path.join(save_path, name))\n",
    "                early_stopping_step = 0\n",
    "            else:\n",
    "                early_stopping_step += 1\n",
    "                if early_stopping_step > early_stopping_patience:\n",
    "                    print(\"\\nEarly Stopping at Epoch {}\".format(e + 1))\n",
    "                    break\n",
    "        \n",
    "        if epochLoss[\"valid\"] < bestLoss[\"valid\"]:\n",
    "            bestLoss = epochLoss\n",
    "            BLE = e + 1\n",
    "            torch.save({\"model_state_dict\"     : model.state_dict(),\n",
    "                        \"optim_state_dict\"     : optimizer.state_dict(),\n",
    "                        \"scheduler_state_dict\" : scheduler.state_dict()},\n",
    "                        os.path.join(save_path, name))\n",
    "        \n",
    "        if verbose:\n",
    "            print(\"Epoch: {} | Train Loss: {:.5f} | Valid Loss: {:.5f} | Time: {:.2f} seconds\".format(e+1, epochLoss[\"train\"], epochLoss[\"valid\"], time()-e_st))\n",
    "\n",
    "    if verbose:                                           \n",
    "        breaker()\n",
    "        print(f\"Best Validation Loss at Epoch {BLE}\")\n",
    "        breaker()\n",
    "        print(\"Time Taken [{} Epochs] : {:.2f} minutes\".format(len(Losses), (time()-start_time)/60))\n",
    "    \n",
    "    return Losses, LRs, BLE, name\n",
    "\n",
    "\n",
    "def predict_batch(model=None, dataloader=None, device=None, in_channels=None, size=None, path=None) -> np.ndarray:\n",
    "    model.load_state_dict(torch.load(path, map_location=device)[\"model_state_dict\"])\n",
    "    model.to(device)    \n",
    "    model.eval()\n",
    "    \n",
    "    y_pred = torch.zeros(1, in_channels, size, size).to(device)\n",
    "    \n",
    "    for X in dataloader:\n",
    "        X = X.to(device)\n",
    "        with torch.no_grad():\n",
    "            output = torch.sigmoid(model(X))\n",
    "        y_pred = torch.cat((y_pred, output), dim=0)\n",
    "    \n",
    "    return y_pred[1:].detach().cpu().numpy()\n",
    "\n",
    "\n",
    "def predict(model=None, device=None, image=None, size=None, path=None) -> np.ndarray:\n",
    "    model.load_state_dict(torch.load(path, map_location=device)[\"model_state_dict\"])\n",
    "    model.to(device)    \n",
    "    model.eval()\n",
    "    \n",
    "    h, w, _ = image.shape\n",
    "    temp_image = cv2.resize(src=image, dsize=(size, size), interpolation=cv2.INTER_AREA)\n",
    "\n",
    "    with torch.no_grad(): _, decoded = torch.sigmoid(model(transforms.ToTensor()(temp_image).unsqueeze(dim=0).to(cfg.device)))\n",
    "        \n",
    "    decoded_image = np.clip(decoded.squeeze().detach().cpu().numpy().transpose(1, 2, 0)*255, 0, 255).astype(\"uint8\")\n",
    "    return cv2.resize(src=decoded_image, dsize=(w, h), interpolation=cv2.INTER_AREA)"
   ]
  },
  {
   "cell_type": "markdown",
   "id": "cb4c1e7b",
   "metadata": {
    "papermill": {
     "duration": 0.010455,
     "end_time": "2022-05-05T05:59:31.373167",
     "exception": false,
     "start_time": "2022-05-05T05:59:31.362712",
     "status": "completed"
    },
    "tags": []
   },
   "source": [
    "### **Train**"
   ]
  },
  {
   "cell_type": "code",
   "execution_count": 7,
   "id": "57f16a98",
   "metadata": {
    "execution": {
     "iopub.execute_input": "2022-05-05T05:59:31.395767Z",
     "iopub.status.busy": "2022-05-05T05:59:31.395576Z",
     "iopub.status.idle": "2022-05-05T05:59:47.338189Z",
     "shell.execute_reply": "2022-05-05T05:59:47.337414Z"
    },
    "papermill": {
     "duration": 15.956248,
     "end_time": "2022-05-05T05:59:47.340286",
     "exception": false,
     "start_time": "2022-05-05T05:59:31.384038",
     "status": "completed"
    },
    "tags": []
   },
   "outputs": [],
   "source": [
    "images = np.load(f\"../input/scd-images-{cfg.size}/images_{cfg.size}.npy\")"
   ]
  },
  {
   "cell_type": "code",
   "execution_count": 8,
   "id": "3c6479b9",
   "metadata": {
    "execution": {
     "iopub.execute_input": "2022-05-05T05:59:47.364101Z",
     "iopub.status.busy": "2022-05-05T05:59:47.363885Z",
     "iopub.status.idle": "2022-05-05T07:14:08.794856Z",
     "shell.execute_reply": "2022-05-05T07:14:08.793944Z"
    },
    "papermill": {
     "duration": 4461.445041,
     "end_time": "2022-05-05T07:14:08.796652",
     "exception": false,
     "start_time": "2022-05-05T05:59:47.351611",
     "status": "completed"
    },
    "tags": []
   },
   "outputs": [
    {
     "name": "stderr",
     "output_type": "stream",
     "text": [
      "Downloading: \"https://download.pytorch.org/models/resnet50-0676ba61.pth\" to /root/.cache/torch/hub/checkpoints/resnet50-0676ba61.pth\n"
     ]
    },
    {
     "data": {
      "application/vnd.jupyter.widget-view+json": {
       "model_id": "c99a5ff9836143a9b5a7fb234049a24b",
       "version_major": 2,
       "version_minor": 0
      },
      "text/plain": [
       "  0%|          | 0.00/97.8M [00:00<?, ?B/s]"
      ]
     },
     "metadata": {},
     "output_type": "display_data"
    },
    {
     "name": "stdout",
     "output_type": "stream",
     "text": [
      "\n",
      "**************************************************\n",
      "\n",
      "Training ...\n",
      "\n",
      "**************************************************\n",
      "\n",
      "Epoch: 1 | Train Loss: 0.77605 | Valid Loss: 0.62439 | Time: 108.60 seconds\n",
      "Epoch: 2 | Train Loss: 0.59110 | Valid Loss: 0.55943 | Time: 104.02 seconds\n",
      "Epoch: 3 | Train Loss: 0.54824 | Valid Loss: 0.53950 | Time: 103.94 seconds\n",
      "Epoch: 4 | Train Loss: 0.53071 | Valid Loss: 0.52383 | Time: 104.06 seconds\n",
      "Epoch: 5 | Train Loss: 0.53526 | Valid Loss: 0.51766 | Time: 103.79 seconds\n",
      "Epoch: 6 | Train Loss: 0.51777 | Valid Loss: 0.51249 | Time: 103.86 seconds\n",
      "Epoch: 7 | Train Loss: 0.51782 | Valid Loss: 0.54674 | Time: 102.43 seconds\n",
      "Epoch: 8 | Train Loss: 0.51039 | Valid Loss: 0.51495 | Time: 102.44 seconds\n",
      "Epoch: 9 | Train Loss: 0.53200 | Valid Loss: 0.68054 | Time: 102.52 seconds\n",
      "Epoch: 10 | Train Loss: 0.53506 | Valid Loss: 0.51752 | Time: 102.65 seconds\n",
      "Epoch: 11 | Train Loss: 0.51405 | Valid Loss: 0.51075 | Time: 104.16 seconds\n",
      "Epoch: 12 | Train Loss: 0.50820 | Valid Loss: 0.50290 | Time: 103.98 seconds\n",
      "Epoch: 13 | Train Loss: 0.50525 | Valid Loss: 0.50481 | Time: 102.70 seconds\n",
      "Epoch: 14 | Train Loss: 0.50315 | Valid Loss: 0.50483 | Time: 102.87 seconds\n",
      "Epoch: 15 | Train Loss: 0.50140 | Valid Loss: 0.51332 | Time: 102.70 seconds\n",
      "Epoch: 16 | Train Loss: 0.49940 | Valid Loss: 0.49724 | Time: 104.52 seconds\n",
      "Epoch: 17 | Train Loss: 0.49926 | Valid Loss: 0.49643 | Time: 104.08 seconds\n",
      "Epoch: 18 | Train Loss: 0.49702 | Valid Loss: 0.49568 | Time: 104.16 seconds\n",
      "Epoch: 19 | Train Loss: 0.49599 | Valid Loss: 0.49480 | Time: 104.00 seconds\n",
      "Epoch: 20 | Train Loss: 0.49578 | Valid Loss: 0.49303 | Time: 104.07 seconds\n",
      "Epoch: 21 | Train Loss: 0.49355 | Valid Loss: 0.49248 | Time: 103.93 seconds\n",
      "Epoch: 22 | Train Loss: 0.49340 | Valid Loss: 0.49390 | Time: 102.91 seconds\n",
      "Epoch: 23 | Train Loss: 0.49388 | Valid Loss: 0.49182 | Time: 104.22 seconds\n",
      "Epoch: 24 | Train Loss: 0.49212 | Valid Loss: 0.49098 | Time: 104.01 seconds\n",
      "Epoch: 25 | Train Loss: 0.49136 | Valid Loss: 0.50490 | Time: 102.70 seconds\n",
      "Epoch: 26 | Train Loss: 0.49065 | Valid Loss: 0.63833 | Time: 102.65 seconds\n",
      "Epoch: 27 | Train Loss: 0.49084 | Valid Loss: 0.53130 | Time: 102.71 seconds\n",
      "Epoch: 28 | Train Loss: 0.49076 | Valid Loss: 0.53187 | Time: 102.69 seconds\n",
      "Epoch: 29 | Train Loss: 0.48940 | Valid Loss: 0.49043 | Time: 104.23 seconds\n",
      "Epoch: 30 | Train Loss: 0.48862 | Valid Loss: 0.51120 | Time: 102.71 seconds\n",
      "Epoch: 31 | Train Loss: 0.48817 | Valid Loss: 0.74317 | Time: 102.73 seconds\n",
      "Epoch: 32 | Train Loss: 0.48728 | Valid Loss: 0.48832 | Time: 104.08 seconds\n",
      "Epoch: 33 | Train Loss: 0.48722 | Valid Loss: 0.48936 | Time: 102.63 seconds\n",
      "Epoch: 34 | Train Loss: 0.48695 | Valid Loss: 0.48747 | Time: 104.10 seconds\n",
      "Epoch: 35 | Train Loss: 0.48650 | Valid Loss: 0.48652 | Time: 104.04 seconds\n",
      "Epoch: 36 | Train Loss: 0.48649 | Valid Loss: 0.48595 | Time: 104.27 seconds\n",
      "Epoch: 37 | Train Loss: 0.48616 | Valid Loss: 0.48460 | Time: 104.49 seconds\n",
      "Epoch: 38 | Train Loss: 0.48560 | Valid Loss: 0.48517 | Time: 103.20 seconds\n",
      "Epoch: 39 | Train Loss: 0.48549 | Valid Loss: 0.48571 | Time: 103.27 seconds\n",
      "Epoch: 40 | Train Loss: 0.48515 | Valid Loss: 0.49096 | Time: 103.09 seconds\n",
      "Epoch: 41 | Train Loss: 0.48487 | Valid Loss: 0.48864 | Time: 102.93 seconds\n",
      "Epoch: 42 | Train Loss: 0.48469 | Valid Loss: 0.48521 | Time: 102.62 seconds\n",
      "\n",
      "Early Stopping at Epoch 43\n",
      "\n",
      "**************************************************\n",
      "\n",
      "Best Validation Loss at Epoch 37\n",
      "\n",
      "**************************************************\n",
      "\n",
      "Time Taken [43 Epochs] : 74.21 minutes\n",
      "\n",
      "**************************************************\n",
      "\n"
     ]
    },
    {
     "data": {
      "image/png": "[encoded data removed]",
      "text/plain": [
       "<Figure size 576x432 with 1 Axes>"
      ]
     },
     "metadata": {
      "needs_background": "light"
     },
     "output_type": "display_data"
    },
    {
     "name": "stdout",
     "output_type": "stream",
     "text": [
      "\n",
      "**************************************************\n",
      "\n"
     ]
    },
    {
     "data": {
      "image/png": "[encoded data removed]",
      "text/plain": [
       "<Figure size 576x432 with 1 Axes>"
      ]
     },
     "metadata": {
      "needs_background": "light"
     },
     "output_type": "display_data"
    },
    {
     "name": "stdout",
     "output_type": "stream",
     "text": [
      "\n",
      "**************************************************\n",
      "\n"
     ]
    }
   ],
   "source": [
    "for tr_idx, va_idx in KFold(n_splits=cfg.n_splits, shuffle=True, random_state=cfg.seed).split(images):\n",
    "    break\n",
    "\n",
    "tr_images, va_images = images[tr_idx], images[va_idx]\n",
    "\n",
    "tr_data_setup = DS(tr_images, cfg.transform)\n",
    "va_data_setup = DS(va_images, cfg.transform)\n",
    "\n",
    "dataloaders = {\n",
    "    \"train\" : DL(tr_data_setup, batch_size=cfg.batch_size, shuffle=True, generator=torch.manual_seed(cfg.seed)),\n",
    "    \"valid\" : DL(va_data_setup, batch_size=cfg.batch_size, shuffle=False)\n",
    "}\n",
    "\n",
    "cfg = CFG(seed=SEED, size=224, epochs=50, early_stopping=5, lr=1e-3, wd=0.0, steps_per_epoch=len(dataloaders[\"train\"]))\n",
    "\n",
    "torch.manual_seed(cfg.seed)\n",
    "model = Model().to(cfg.device)\n",
    "optimizer = optim.Adam([p for p in model.parameters() if p.requires_grad], lr=cfg.lr, weight_decay=cfg.wd)\n",
    "scheduler = optim.lr_scheduler.OneCycleLR(optimizer=optimizer, \n",
    "                                          max_lr=cfg.max_lr, \n",
    "                                          epochs=cfg.epochs, \n",
    "                                          steps_per_epoch=cfg.steps_per_epoch,\n",
    "                                          pct_start=cfg.pct_start, \n",
    "                                          div_factor=cfg.div_factor, \n",
    "                                          final_div_factor=cfg.final_div_factor)\n",
    "\n",
    "L, LRs, BLE, name = fit(model=model, \n",
    "                        optimizer=optimizer, \n",
    "                        scheduler=scheduler, \n",
    "                        epochs=cfg.epochs, \n",
    "                        early_stopping_patience=cfg.early_stopping, \n",
    "                        dataloaders=dataloaders, \n",
    "                        device=cfg.device,\n",
    "                        save_path=cfg.save_path,\n",
    "                        verbose=True)\n",
    "\n",
    "breaker()\n",
    "show_graphs(L)\n",
    "breaker()\n",
    "x_Axis = [i+1 for i in range(len(LRs))]\n",
    "plt.figure(figsize=(8, 6))\n",
    "plt.plot(x_Axis, LRs, \"rx\")\n",
    "plt.grid()\n",
    "plt.show()\n",
    "breaker()"
   ]
  }
 ],
 "metadata": {
  "kernelspec": {
   "display_name": "Python 3",
   "language": "python",
   "name": "python3"
  },
  "language_info": {
   "codemirror_mode": {
    "name": "ipython",
    "version": 3
   },
   "file_extension": ".py",
   "mimetype": "text/x-python",
   "name": "python",
   "nbconvert_exporter": "python",
   "pygments_lexer": "ipython3",
   "version": "3.7.12"
  },
  "papermill": {
   "default_parameters": {},
   "duration": 4489.80339,
   "end_time": "2022-05-05T07:14:10.354583",
   "environment_variables": {},
   "exception": null,
   "input_path": "__notebook__.ipynb",
   "output_path": "__notebook__.ipynb",
   "parameters": {},
   "start_time": "2022-05-05T05:59:20.551193",
   "version": "2.3.4"
  },
  "widgets": {
   "application/vnd.jupyter.widget-state+json": {
    "state": {
     "1c62af477c3c40c3b9d9c40f9ee8be55": {
      "model_module": "@jupyter-widgets/controls",
      "model_module_version": "1.5.0",
      "model_name": "DescriptionStyleModel",
      "state": {
       "_model_module": "@jupyter-widgets/controls",
       "_model_module_version": "1.5.0",
       "_model_name": "DescriptionStyleModel",
       "_view_count": null,
       "_view_module": "@jupyter-widgets/base",
       "_view_module_version": "1.2.0",
       "_view_name": "StyleView",
       "description_width": ""
      }
     },
     "4340f6ffc27a44e2b66472f276d4a121": {
      "model_module": "@jupyter-widgets/controls",
      "model_module_version": "1.5.0",
      "model_name": "HTMLModel",
      "state": {
       "_dom_classes": [],
       "_model_module": "@jupyter-widgets/controls",
       "_model_module_version": "1.5.0",
       "_model_name": "HTMLModel",
       "_view_count": null,
       "_view_module": "@jupyter-widgets/controls",
       "_view_module_version": "1.5.0",
       "_view_name": "HTMLView",
       "description": "",
       "description_tooltip": null,
       "layout": "IPY_MODEL_69ebc501cdb54cde84310394b7328a03",
       "placeholder": "​",
       "style": "IPY_MODEL_1c62af477c3c40c3b9d9c40f9ee8be55",
       "value": " 97.8M/97.8M [00:04&lt;00:00, 55.0MB/s]"
      }
     },
     "5d7cfbe309764f3abd9675fce9d5fc43": {
      "model_module": "@jupyter-widgets/controls",
      "model_module_version": "1.5.0",
      "model_name": "ProgressStyleModel",
      "state": {
       "_model_module": "@jupyter-widgets/controls",
       "_model_module_version": "1.5.0",
       "_model_name": "ProgressStyleModel",
       "_view_count": null,
       "_view_module": "@jupyter-widgets/base",
       "_view_module_version": "1.2.0",
       "_view_name": "StyleView",
       "bar_color": null,
       "description_width": ""
      }
     },
     "69ebc501cdb54cde84310394b7328a03": {
      "model_module": "@jupyter-widgets/base",
      "model_module_version": "1.2.0",
      "model_name": "LayoutModel",
      "state": {
       "_model_module": "@jupyter-widgets/base",
       "_model_module_version": "1.2.0",
       "_model_name": "LayoutModel",
       "_view_count": null,
       "_view_module": "@jupyter-widgets/base",
       "_view_module_version": "1.2.0",
       "_view_name": "LayoutView",
       "align_content": null,
       "align_items": null,
       "align_self": null,
       "border": null,
       "bottom": null,
       "display": null,
       "flex": null,
       "flex_flow": null,
       "grid_area": null,
       "grid_auto_columns": null,
       "grid_auto_flow": null,
       "grid_auto_rows": null,
       "grid_column": null,
       "grid_gap": null,
       "grid_row": null,
       "grid_template_areas": null,
       "grid_template_columns": null,
       "grid_template_rows": null,
       "height": null,
       "justify_content": null,
       "justify_items": null,
       "left": null,
       "margin": null,
       "max_height": null,
       "max_width": null,
       "min_height": null,
       "min_width": null,
       "object_fit": null,
       "object_position": null,
       "order": null,
       "overflow": null,
       "overflow_x": null,
       "overflow_y": null,
       "padding": null,
       "right": null,
       "top": null,
       "visibility": null,
       "width": null
      }
     },
     "71cb41df8e254ec0a75308e5a2e995aa": {
      "model_module": "@jupyter-widgets/base",
      "model_module_version": "1.2.0",
      "model_name": "LayoutModel",
      "state": {
       "_model_module": "@jupyter-widgets/base",
       "_model_module_version": "1.2.0",
       "_model_name": "LayoutModel",
       "_view_count": null,
       "_view_module": "@jupyter-widgets/base",
       "_view_module_version": "1.2.0",
       "_view_name": "LayoutView",
       "align_content": null,
       "align_items": null,
       "align_self": null,
       "border": null,
       "bottom": null,
       "display": null,
       "flex": null,
       "flex_flow": null,
       "grid_area": null,
       "grid_auto_columns": null,
       "grid_auto_flow": null,
       "grid_auto_rows": null,
       "grid_column": null,
       "grid_gap": null,
       "grid_row": null,
       "grid_template_areas": null,
       "grid_template_columns": null,
       "grid_template_rows": null,
       "height": null,
       "justify_content": null,
       "justify_items": null,
       "left": null,
       "margin": null,
       "max_height": null,
       "max_width": null,
       "min_height": null,
       "min_width": null,
       "object_fit": null,
       "object_position": null,
       "order": null,
       "overflow": null,
       "overflow_x": null,
       "overflow_y": null,
       "padding": null,
       "right": null,
       "top": null,
       "visibility": null,
       "width": null
      }
     },
     "95184038b2644f769beeb1f181759fa1": {
      "model_module": "@jupyter-widgets/controls",
      "model_module_version": "1.5.0",
      "model_name": "FloatProgressModel",
      "state": {
       "_dom_classes": [],
       "_model_module": "@jupyter-widgets/controls",
       "_model_module_version": "1.5.0",
       "_model_name": "FloatProgressModel",
       "_view_count": null,
       "_view_module": "@jupyter-widgets/controls",
       "_view_module_version": "1.5.0",
       "_view_name": "ProgressView",
       "bar_style": "success",
       "description": "",
       "description_tooltip": null,
       "layout": "IPY_MODEL_e47015133535450bacda449fcc401588",
       "max": 102530333.0,
       "min": 0.0,
       "orientation": "horizontal",
       "style": "IPY_MODEL_5d7cfbe309764f3abd9675fce9d5fc43",
       "value": 102530333.0
      }
     },
     "a416c175efd64af18b9bd94cd34909cb": {
      "model_module": "@jupyter-widgets/base",
      "model_module_version": "1.2.0",
      "model_name": "LayoutModel",
      "state": {
       "_model_module": "@jupyter-widgets/base",
       "_model_module_version": "1.2.0",
       "_model_name": "LayoutModel",
       "_view_count": null,
       "_view_module": "@jupyter-widgets/base",
       "_view_module_version": "1.2.0",
       "_view_name": "LayoutView",
       "align_content": null,
       "align_items": null,
       "align_self": null,
       "border": null,
       "bottom": null,
       "display": null,
       "flex": null,
       "flex_flow": null,
       "grid_area": null,
       "grid_auto_columns": null,
       "grid_auto_flow": null,
       "grid_auto_rows": null,
       "grid_column": null,
       "grid_gap": null,
       "grid_row": null,
       "grid_template_areas": null,
       "grid_template_columns": null,
       "grid_template_rows": null,
       "height": null,
       "justify_content": null,
       "justify_items": null,
       "left": null,
       "margin": null,
       "max_height": null,
       "max_width": null,
       "min_height": null,
       "min_width": null,
       "object_fit": null,
       "object_position": null,
       "order": null,
       "overflow": null,
       "overflow_x": null,
       "overflow_y": null,
       "padding": null,
       "right": null,
       "top": null,
       "visibility": null,
       "width": null
      }
     },
     "c99a5ff9836143a9b5a7fb234049a24b": {
      "model_module": "@jupyter-widgets/controls",
      "model_module_version": "1.5.0",
      "model_name": "HBoxModel",
      "state": {
       "_dom_classes": [],
       "_model_module": "@jupyter-widgets/controls",
       "_model_module_version": "1.5.0",
       "_model_name": "HBoxModel",
       "_view_count": null,
       "_view_module": "@jupyter-widgets/controls",
       "_view_module_version": "1.5.0",
       "_view_name": "HBoxView",
       "box_style": "",
       "children": [
        "IPY_MODEL_eca946b834584a29969398e9d1561a38",
        "IPY_MODEL_95184038b2644f769beeb1f181759fa1",
        "IPY_MODEL_4340f6ffc27a44e2b66472f276d4a121"
       ],
       "layout": "IPY_MODEL_a416c175efd64af18b9bd94cd34909cb"
      }
     },
     "e47015133535450bacda449fcc401588": {
      "model_module": "@jupyter-widgets/base",
      "model_module_version": "1.2.0",
      "model_name": "LayoutModel",
      "state": {
       "_model_module": "@jupyter-widgets/base",
       "_model_module_version": "1.2.0",
       "_model_name": "LayoutModel",
       "_view_count": null,
       "_view_module": "@jupyter-widgets/base",
       "_view_module_version": "1.2.0",
       "_view_name": "LayoutView",
       "align_content": null,
       "align_items": null,
       "align_self": null,
       "border": null,
       "bottom": null,
       "display": null,
       "flex": null,
       "flex_flow": null,
       "grid_area": null,
       "grid_auto_columns": null,
       "grid_auto_flow": null,
       "grid_auto_rows": null,
       "grid_column": null,
       "grid_gap": null,
       "grid_row": null,
       "grid_template_areas": null,
       "grid_template_columns": null,
       "grid_template_rows": null,
       "height": null,
       "justify_content": null,
       "justify_items": null,
       "left": null,
       "margin": null,
       "max_height": null,
       "max_width": null,
       "min_height": null,
       "min_width": null,
       "object_fit": null,
       "object_position": null,
       "order": null,
       "overflow": null,
       "overflow_x": null,
       "overflow_y": null,
       "padding": null,
       "right": null,
       "top": null,
       "visibility": null,
       "width": null
      }
     },
     "ebd813dc9dbe4a589c451cc3b9603936": {
      "model_module": "@jupyter-widgets/controls",
      "model_module_version": "1.5.0",
      "model_name": "DescriptionStyleModel",
      "state": {
       "_model_module": "@jupyter-widgets/controls",
       "_model_module_version": "1.5.0",
       "_model_name": "DescriptionStyleModel",
       "_view_count": null,
       "_view_module": "@jupyter-widgets/base",
       "_view_module_version": "1.2.0",
       "_view_name": "StyleView",
       "description_width": ""
      }
     },
     "eca946b834584a29969398e9d1561a38": {
      "model_module": "@jupyter-widgets/controls",
      "model_module_version": "1.5.0",
      "model_name": "HTMLModel",
      "state": {
       "_dom_classes": [],
       "_model_module": "@jupyter-widgets/controls",
       "_model_module_version": "1.5.0",
       "_model_name": "HTMLModel",
       "_view_count": null,
       "_view_module": "@jupyter-widgets/controls",
       "_view_module_version": "1.5.0",
       "_view_name": "HTMLView",
       "description": "",
       "description_tooltip": null,
       "layout": "IPY_MODEL_71cb41df8e254ec0a75308e5a2e995aa",
       "placeholder": "​",
       "style": "IPY_MODEL_ebd813dc9dbe4a589c451cc3b9603936",
       "value": "100%"
      }
     }
    },
    "version_major": 2,
    "version_minor": 0
   }
  }
 },
 "nbformat": 4,
 "nbformat_minor": 5
}
