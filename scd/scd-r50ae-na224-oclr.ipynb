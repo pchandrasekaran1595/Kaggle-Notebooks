{
 "cells": [
  {
   "cell_type": "markdown",
   "id": "acd60ff1",
   "metadata": {
    "_cell_guid": "b1076dfc-b9ad-4769-8c92-a6c4dae69d19",
    "_uuid": "8f2839f25d086af736a60e9eeb907d3b93b6e0e5",
    "papermill": {
     "duration": 0.013137,
     "end_time": "2022-05-05T08:21:57.770320",
     "exception": false,
     "start_time": "2022-05-05T08:21:57.757183",
     "status": "completed"
    },
    "tags": []
   },
   "source": [
    "### **Library Imports**"
   ]
  },
  {
   "cell_type": "code",
   "execution_count": 1,
   "id": "aeebba4f",
   "metadata": {
    "execution": {
     "iopub.execute_input": "2022-05-05T08:21:57.797195Z",
     "iopub.status.busy": "2022-05-05T08:21:57.796487Z",
     "iopub.status.idle": "2022-05-05T08:22:00.437888Z",
     "shell.execute_reply": "2022-05-05T08:22:00.436972Z"
    },
    "papermill": {
     "duration": 2.657648,
     "end_time": "2022-05-05T08:22:00.440354",
     "exception": false,
     "start_time": "2022-05-05T08:21:57.782706",
     "status": "completed"
    },
    "tags": []
   },
   "outputs": [],
   "source": [
    "import os\n",
    "import re\n",
    "import torch\n",
    "import random as r\n",
    "import numpy as np\n",
    "import pandas as pd\n",
    "import matplotlib.pyplot as plt\n",
    "\n",
    "from time import time\n",
    "from torch import nn, optim\n",
    "from torch.utils.data import Dataset\n",
    "from torch.utils.data import DataLoader as DL\n",
    "from torchvision import models, transforms\n",
    "\n",
    "from sklearn.model_selection import KFold"
   ]
  },
  {
   "cell_type": "markdown",
   "id": "f0f625f9",
   "metadata": {
    "papermill": {
     "duration": 0.012086,
     "end_time": "2022-05-05T08:22:00.464258",
     "exception": false,
     "start_time": "2022-05-05T08:22:00.452172",
     "status": "completed"
    },
    "tags": []
   },
   "source": [
    "### **Utilities and Constants**"
   ]
  },
  {
   "cell_type": "code",
   "execution_count": 2,
   "id": "2737d0f0",
   "metadata": {
    "execution": {
     "iopub.execute_input": "2022-05-05T08:22:00.489587Z",
     "iopub.status.busy": "2022-05-05T08:22:00.489323Z",
     "iopub.status.idle": "2022-05-05T08:22:00.497932Z",
     "shell.execute_reply": "2022-05-05T08:22:00.496986Z"
    },
    "papermill": {
     "duration": 0.023958,
     "end_time": "2022-05-05T08:22:00.500074",
     "exception": false,
     "start_time": "2022-05-05T08:22:00.476116",
     "status": "completed"
    },
    "tags": []
   },
   "outputs": [],
   "source": [
    "SEED = 42\n",
    "\n",
    "\n",
    "def breaker(num: int=50, char: str=\"*\") -> None:\n",
    "    print(\"\\n\" + num*char + \"\\n\")\n",
    "\n",
    "\n",
    "def show_graphs(L: list) -> None:\n",
    "    TL, VL = [], []\n",
    "    for i in range(len(L)):\n",
    "        TL.append(L[i][\"train\"])\n",
    "        VL.append(L[i][\"valid\"])\n",
    "    x_Axis = np.arange(1, len(TL) + 1)\n",
    "    plt.figure(figsize=(8, 6))\n",
    "    plt.plot(x_Axis, TL, \"r\", label=\"Train\")\n",
    "    plt.plot(x_Axis, VL, \"b\", label=\"Valid\")\n",
    "    plt.legend()\n",
    "    plt.grid()\n",
    "    plt.title(\"Loss Graph\")\n",
    "    plt.show()\n",
    "\n",
    "\n",
    "def show(image: np.ndarray, cmap: str=\"gnuplot2\") -> None:\n",
    "    plt.figure()\n",
    "    plt.imshow(image, cmap=cmap)\n",
    "    plt.axis(\"off\")\n",
    "    plt.show()"
   ]
  },
  {
   "cell_type": "markdown",
   "id": "976931f5",
   "metadata": {
    "papermill": {
     "duration": 0.011335,
     "end_time": "2022-05-05T08:22:00.523163",
     "exception": false,
     "start_time": "2022-05-05T08:22:00.511828",
     "status": "completed"
    },
    "tags": []
   },
   "source": [
    "### **Configuration**"
   ]
  },
  {
   "cell_type": "code",
   "execution_count": 3,
   "id": "0a268ffa",
   "metadata": {
    "execution": {
     "iopub.execute_input": "2022-05-05T08:22:00.547930Z",
     "iopub.status.busy": "2022-05-05T08:22:00.547625Z",
     "iopub.status.idle": "2022-05-05T08:22:00.623237Z",
     "shell.execute_reply": "2022-05-05T08:22:00.622364Z"
    },
    "papermill": {
     "duration": 0.090378,
     "end_time": "2022-05-05T08:22:00.625155",
     "exception": false,
     "start_time": "2022-05-05T08:22:00.534777",
     "status": "completed"
    },
    "tags": []
   },
   "outputs": [],
   "source": [
    "class CFG(object):\n",
    "    def __init__(self, \n",
    "                 seed: int = 42,\n",
    "                 in_channels: int = 3,\n",
    "                 size: int = 224,\n",
    "                 n_splits: int = 5,\n",
    "                 batch_size: int = 16,\n",
    "                 epochs: int = 25,\n",
    "                 early_stopping: int = 5,\n",
    "                 lr: float = 1e-4,\n",
    "                 wd: float = 0.0,\n",
    "                 max_lr: float = 1e-3,\n",
    "                 pct_start: float = 0.2,\n",
    "                 steps_per_epoch: int = 100,\n",
    "                 div_factor: int = 1e3, \n",
    "                 final_div_factor: float = 1e3,\n",
    "                 ):\n",
    "        \n",
    "        self.seed = seed\n",
    "        self.in_channels = in_channels\n",
    "        self.size = size\n",
    "        self.n_splits = n_splits\n",
    "        self.batch_size = batch_size\n",
    "        self.epochs = epochs\n",
    "        self.early_stopping = early_stopping\n",
    "        self.lr = lr\n",
    "        self.wd = wd\n",
    "        self.max_lr = max_lr\n",
    "        self.pct_start = pct_start\n",
    "        self.steps_per_epoch = steps_per_epoch\n",
    "        self.div_factor = div_factor\n",
    "        self.final_div_factor = final_div_factor\n",
    "        self.device = torch.device(\"cuda\" if torch.cuda.is_available() else \"cpu\")\n",
    "        self.transform = transforms.Compose([transforms.ToTensor(),\n",
    "                                transforms.Normalize([0.46986, 0.45942, 0.45442],\n",
    "                                                     [0.29034, 0.28930, 0.29758]),\n",
    "                                ])\n",
    "        self.save_path = \"saves\"\n",
    "        if not os.path.exists(self.save_path): os.makedirs(self.save_path)\n",
    "    \n",
    "cfg = CFG(seed=SEED, size=224)"
   ]
  },
  {
   "cell_type": "markdown",
   "id": "e626ca89",
   "metadata": {
    "papermill": {
     "duration": 0.01133,
     "end_time": "2022-05-05T08:22:00.648401",
     "exception": false,
     "start_time": "2022-05-05T08:22:00.637071",
     "status": "completed"
    },
    "tags": []
   },
   "source": [
    "### **Dataset Template**"
   ]
  },
  {
   "cell_type": "code",
   "execution_count": 4,
   "id": "db5f9e98",
   "metadata": {
    "execution": {
     "iopub.execute_input": "2022-05-05T08:22:00.673285Z",
     "iopub.status.busy": "2022-05-05T08:22:00.672545Z",
     "iopub.status.idle": "2022-05-05T08:22:00.678552Z",
     "shell.execute_reply": "2022-05-05T08:22:00.677787Z"
    },
    "papermill": {
     "duration": 0.020244,
     "end_time": "2022-05-05T08:22:00.680276",
     "exception": false,
     "start_time": "2022-05-05T08:22:00.660032",
     "status": "completed"
    },
    "tags": []
   },
   "outputs": [],
   "source": [
    "class DS(Dataset):\n",
    "    def __init__(self, images: np.ndarray, transform=None):\n",
    "        self.images = images\n",
    "        self.transform = transform\n",
    "    \n",
    "    def __len__(self):\n",
    "        return self.images.shape[0]\n",
    "    \n",
    "    def __getitem__(self, idx):\n",
    "        return self.transform(self.images[idx])"
   ]
  },
  {
   "cell_type": "markdown",
   "id": "2effa4ee",
   "metadata": {
    "papermill": {
     "duration": 0.011145,
     "end_time": "2022-05-05T08:22:00.703163",
     "exception": false,
     "start_time": "2022-05-05T08:22:00.692018",
     "status": "completed"
    },
    "tags": []
   },
   "source": [
    "### **Model**"
   ]
  },
  {
   "cell_type": "code",
   "execution_count": 5,
   "id": "c925c0a6",
   "metadata": {
    "execution": {
     "iopub.execute_input": "2022-05-05T08:22:00.727386Z",
     "iopub.status.busy": "2022-05-05T08:22:00.727116Z",
     "iopub.status.idle": "2022-05-05T08:22:00.742435Z",
     "shell.execute_reply": "2022-05-05T08:22:00.741728Z"
    },
    "papermill": {
     "duration": 0.029906,
     "end_time": "2022-05-05T08:22:00.744274",
     "exception": false,
     "start_time": "2022-05-05T08:22:00.714368",
     "status": "completed"
    },
    "tags": []
   },
   "outputs": [],
   "source": [
    "class Model(nn.Module):\n",
    "    def __init__(self, in_channels: int = 3):\n",
    "        super(Model, self).__init__()\n",
    "\n",
    "        self.encoder = models.resnet50(pretrained=True, progress=True)\n",
    "        # self.freeze()\n",
    "        self.encoder = nn.Sequential(*[*self.encoder.children()][:-2])\n",
    "        if in_channels != 3:\n",
    "            self.encoder[0] = nn.Conv2d(in_channels=in_channels, \n",
    "                                        out_channels=self.encoder[0].out_channels, \n",
    "                                        kernel_size=self.encoder[0].kernel_size, \n",
    "                                        stride=self.encoder[0].stride,\n",
    "                                        padding=self.encoder[0].padding)\n",
    "\n",
    "        self.decoder = nn.Sequential()\n",
    "        self.decoder.add_module(\"DC1\", nn.ConvTranspose2d(in_channels=2048, out_channels=512, kernel_size=(3, 3), stride=(1, 1), padding=(1, 1)))\n",
    "        self.decoder.add_module(\"AN1\", nn.ReLU())\n",
    "        self.decoder.add_module(\"UP1\", nn.Upsample(scale_factor=2))\n",
    "        self.decoder.add_module(\"DC2\", nn.ConvTranspose2d(in_channels=512, out_channels=256, kernel_size=(3, 3), stride=(1, 1), padding=(1, 1)))\n",
    "        self.decoder.add_module(\"AN2\", nn.ReLU())\n",
    "        self.decoder.add_module(\"UP2\", nn.Upsample(scale_factor=2))\n",
    "        self.decoder.add_module(\"DC3\", nn.ConvTranspose2d(in_channels=256, out_channels=128, kernel_size=(3, 3), stride=(1, 1), padding=(1, 1)))\n",
    "        self.decoder.add_module(\"AN3\", nn.ReLU())\n",
    "        self.decoder.add_module(\"UP3\", nn.Upsample(scale_factor=2))\n",
    "        self.decoder.add_module(\"DC4\", nn.ConvTranspose2d(in_channels=128, out_channels=64, kernel_size=(3, 3), stride=(1, 1), padding=(1, 1)))\n",
    "        self.decoder.add_module(\"AN4\", nn.ReLU())\n",
    "        self.decoder.add_module(\"UP4\", nn.Upsample(scale_factor=2))\n",
    "        self.decoder.add_module(\"DC5\", nn.ConvTranspose2d(in_channels=64, out_channels=in_channels, kernel_size=(3, 3), stride=(1, 1), padding=(1, 1)))\n",
    "        self.decoder.add_module(\"AN5\", nn.ReLU())\n",
    "        self.decoder.add_module(\"UP5\", nn.Upsample(scale_factor=2))\n",
    "    \n",
    "    def freeze(self):\n",
    "        for params in self.parameters(): params.requires_grad = False\n",
    "    \n",
    "    def forward(self, x):\n",
    "        encoded = self.encoder(x)\n",
    "        decoded = self.decoder(encoded)\n",
    "        \n",
    "        return encoded, decoded"
   ]
  },
  {
   "cell_type": "markdown",
   "id": "e07ea895",
   "metadata": {
    "papermill": {
     "duration": 0.011082,
     "end_time": "2022-05-05T08:22:00.768411",
     "exception": false,
     "start_time": "2022-05-05T08:22:00.757329",
     "status": "completed"
    },
    "tags": []
   },
   "source": [
    "### **Fit and Predict Helper**"
   ]
  },
  {
   "cell_type": "code",
   "execution_count": 6,
   "id": "a194a02d",
   "metadata": {
    "execution": {
     "iopub.execute_input": "2022-05-05T08:22:00.792703Z",
     "iopub.status.busy": "2022-05-05T08:22:00.792319Z",
     "iopub.status.idle": "2022-05-05T08:22:00.816702Z",
     "shell.execute_reply": "2022-05-05T08:22:00.815999Z"
    },
    "papermill": {
     "duration": 0.039281,
     "end_time": "2022-05-05T08:22:00.818892",
     "exception": false,
     "start_time": "2022-05-05T08:22:00.779611",
     "status": "completed"
    },
    "tags": []
   },
   "outputs": [],
   "source": [
    "def fit(model=None, \n",
    "        optimizer=None, \n",
    "        scheduler=None, \n",
    "        epochs=None, \n",
    "        early_stopping_patience=None, \n",
    "        dataloaders=None, \n",
    "        fold=None, \n",
    "        device=None,\n",
    "        save_path=None,\n",
    "        verbose=False) -> tuple:\n",
    "    \n",
    "    if verbose:\n",
    "        breaker()\n",
    "        if fold: print(f\"Training Fold {fold}...\")\n",
    "        else: print(\"Training ...\")\n",
    "        breaker()\n",
    "        \n",
    "    bestLoss = {\"train\" : np.inf, \"valid\" : np.inf}\n",
    "    Losses, LRs = [], []\n",
    "    if fold: name = f\"state_fold_{fold}.pt\"\n",
    "    else: name = \"state.pt\"\n",
    "\n",
    "    start_time = time()\n",
    "    for e in range(epochs):\n",
    "        e_st = time()\n",
    "        epochLoss = {\"train\" : 0.0, \"valid\" : 0.0}\n",
    "\n",
    "        for phase in [\"train\", \"valid\"]:\n",
    "            if phase == \"train\":\n",
    "                model.train()\n",
    "            else:\n",
    "                model.eval()\n",
    "            \n",
    "            lossPerPass = []\n",
    "\n",
    "            for X in dataloaders[phase]:\n",
    "                X = X.to(device)\n",
    "\n",
    "                optimizer.zero_grad()\n",
    "                with torch.set_grad_enabled(phase == \"train\"):\n",
    "                    _, decoded = model(X)\n",
    "                    loss = torch.nn.MSELoss()(decoded, X)\n",
    "                    if phase == \"train\":\n",
    "                        loss.backward()\n",
    "                        optimizer.step()\n",
    "                        if scheduler: scheduler.step()\n",
    "                lossPerPass.append(loss.item())\n",
    "            epochLoss[phase] = np.mean(np.array(lossPerPass))\n",
    "        LRs.append(scheduler.get_last_lr())\n",
    "        Losses.append(epochLoss)\n",
    "        \n",
    "        if early_stopping_patience:\n",
    "            if epochLoss[\"valid\"] < bestLoss[\"valid\"]:\n",
    "                bestLoss = epochLoss\n",
    "                BLE = e + 1\n",
    "                torch.save({\"model_state_dict\"     : model.state_dict(),\n",
    "                            \"optim_state_dict\"     : optimizer.state_dict(),\n",
    "                            \"scheduler_state_dict\" : scheduler.state_dict()},\n",
    "                           os.path.join(save_path, name))\n",
    "                early_stopping_step = 0\n",
    "            else:\n",
    "                early_stopping_step += 1\n",
    "                if early_stopping_step > early_stopping_patience:\n",
    "                    print(\"\\nEarly Stopping at Epoch {}\".format(e + 1))\n",
    "                    break\n",
    "        \n",
    "        if epochLoss[\"valid\"] < bestLoss[\"valid\"]:\n",
    "            bestLoss = epochLoss\n",
    "            BLE = e + 1\n",
    "            torch.save({\"model_state_dict\"     : model.state_dict(),\n",
    "                        \"optim_state_dict\"     : optimizer.state_dict(),\n",
    "                        \"scheduler_state_dict\" : scheduler.state_dict()},\n",
    "                        os.path.join(save_path, name))\n",
    "        \n",
    "        if verbose:\n",
    "            print(\"Epoch: {} | Train Loss: {:.5f} | Valid Loss: {:.5f} | Time: {:.2f} seconds\".format(e+1, epochLoss[\"train\"], epochLoss[\"valid\"], time()-e_st))\n",
    "\n",
    "    if verbose:                                           \n",
    "        breaker()\n",
    "        print(f\"Best Validation Loss at Epoch {BLE}\")\n",
    "        breaker()\n",
    "        print(\"Time Taken [{} Epochs] : {:.2f} minutes\".format(len(Losses), (time()-start_time)/60))\n",
    "    \n",
    "    return Losses, LRs, BLE, name\n",
    "\n",
    "\n",
    "def predict_batch(model=None, dataloader=None, device=None, in_channels=None, size=None, path=None) -> np.ndarray:\n",
    "    model.load_state_dict(torch.load(path, map_location=device)[\"model_state_dict\"])\n",
    "    model.to(device)    \n",
    "    model.eval()\n",
    "    \n",
    "    y_pred = torch.zeros(1, in_channels, size, size).to(device)\n",
    "    \n",
    "    for X in dataloader:\n",
    "        X = X.to(device)\n",
    "        with torch.no_grad():\n",
    "            output = torch.sigmoid(model(X))\n",
    "        y_pred = torch.cat((y_pred, output), dim=0)\n",
    "    \n",
    "    return y_pred[1:].detach().cpu().numpy()\n",
    "\n",
    "\n",
    "def predict(model=None, device=None, image=None, size=None, path=None) -> np.ndarray:\n",
    "    model.load_state_dict(torch.load(path, map_location=device)[\"model_state_dict\"])\n",
    "    model.to(device)    \n",
    "    model.eval()\n",
    "    \n",
    "    h, w, _ = image.shape\n",
    "    temp_image = cv2.resize(src=image, dsize=(size, size), interpolation=cv2.INTER_AREA)\n",
    "\n",
    "    with torch.no_grad(): _, decoded = model(transforms.ToTensor()(temp_image).unsqueeze(dim=0).to(cfg.device))\n",
    "        \n",
    "    decoded_image = np.clip(decoded.squeeze().detach().cpu().numpy().transpose(1, 2, 0)*255, 0, 255).astype(\"uint8\")\n",
    "    return cv2.resize(src=decoded_image, dsize=(w, h), interpolation=cv2.INTER_AREA)"
   ]
  },
  {
   "cell_type": "markdown",
   "id": "65bfe28c",
   "metadata": {
    "papermill": {
     "duration": 0.011667,
     "end_time": "2022-05-05T08:22:00.842278",
     "exception": false,
     "start_time": "2022-05-05T08:22:00.830611",
     "status": "completed"
    },
    "tags": []
   },
   "source": [
    "### **Train**"
   ]
  },
  {
   "cell_type": "code",
   "execution_count": 7,
   "id": "5014d256",
   "metadata": {
    "execution": {
     "iopub.execute_input": "2022-05-05T08:22:00.866644Z",
     "iopub.status.busy": "2022-05-05T08:22:00.866387Z",
     "iopub.status.idle": "2022-05-05T08:22:18.670241Z",
     "shell.execute_reply": "2022-05-05T08:22:18.669413Z"
    },
    "papermill": {
     "duration": 17.818445,
     "end_time": "2022-05-05T08:22:18.672373",
     "exception": false,
     "start_time": "2022-05-05T08:22:00.853928",
     "status": "completed"
    },
    "tags": []
   },
   "outputs": [],
   "source": [
    "images = np.load(f\"../input/scd-images-{cfg.size}/images_{cfg.size}.npy\")"
   ]
  },
  {
   "cell_type": "code",
   "execution_count": 8,
   "id": "23343fb8",
   "metadata": {
    "execution": {
     "iopub.execute_input": "2022-05-05T08:22:18.697263Z",
     "iopub.status.busy": "2022-05-05T08:22:18.697001Z",
     "iopub.status.idle": "2022-05-05T09:49:25.785431Z",
     "shell.execute_reply": "2022-05-05T09:49:25.784685Z"
    },
    "papermill": {
     "duration": 5227.10418,
     "end_time": "2022-05-05T09:49:25.788384",
     "exception": false,
     "start_time": "2022-05-05T08:22:18.684204",
     "status": "completed"
    },
    "tags": []
   },
   "outputs": [
    {
     "name": "stderr",
     "output_type": "stream",
     "text": [
      "Downloading: \"https://download.pytorch.org/models/resnet50-0676ba61.pth\" to /root/.cache/torch/hub/checkpoints/resnet50-0676ba61.pth\n"
     ]
    },
    {
     "data": {
      "application/vnd.jupyter.widget-view+json": {
       "model_id": "5978c6cf446f4de2b403872668cc9e9a",
       "version_major": 2,
       "version_minor": 0
      },
      "text/plain": [
       "  0%|          | 0.00/97.8M [00:00<?, ?B/s]"
      ]
     },
     "metadata": {},
     "output_type": "display_data"
    },
    {
     "name": "stdout",
     "output_type": "stream",
     "text": [
      "\n",
      "**************************************************\n",
      "\n",
      "Training ...\n",
      "\n",
      "**************************************************\n",
      "\n",
      "Epoch: 1 | Train Loss: 0.77612 | Valid Loss: 0.62424 | Time: 109.86 seconds\n",
      "Epoch: 2 | Train Loss: 0.59120 | Valid Loss: 0.55933 | Time: 104.49 seconds\n",
      "Epoch: 3 | Train Loss: 0.54896 | Valid Loss: 0.53402 | Time: 104.43 seconds\n",
      "Epoch: 4 | Train Loss: 0.53058 | Valid Loss: 0.51984 | Time: 104.38 seconds\n",
      "Epoch: 5 | Train Loss: 0.53188 | Valid Loss: 0.51833 | Time: 104.73 seconds\n",
      "Epoch: 6 | Train Loss: 0.51721 | Valid Loss: 0.51094 | Time: 104.44 seconds\n",
      "Epoch: 7 | Train Loss: 0.51623 | Valid Loss: 0.52463 | Time: 103.20 seconds\n",
      "Epoch: 8 | Train Loss: 0.52487 | Valid Loss: 0.51544 | Time: 103.28 seconds\n",
      "Epoch: 9 | Train Loss: 0.53026 | Valid Loss: 0.51099 | Time: 103.29 seconds\n",
      "Epoch: 10 | Train Loss: 0.51358 | Valid Loss: 0.50719 | Time: 104.64 seconds\n",
      "Epoch: 11 | Train Loss: 0.50701 | Valid Loss: 0.50478 | Time: 104.68 seconds\n",
      "Epoch: 12 | Train Loss: 0.50423 | Valid Loss: 0.50118 | Time: 104.51 seconds\n",
      "Epoch: 13 | Train Loss: 0.50341 | Valid Loss: 0.50327 | Time: 104.65 seconds\n",
      "Epoch: 14 | Train Loss: 0.50231 | Valid Loss: 0.50077 | Time: 105.43 seconds\n",
      "Epoch: 15 | Train Loss: 0.49979 | Valid Loss: 0.49843 | Time: 104.85 seconds\n",
      "Epoch: 16 | Train Loss: 0.49904 | Valid Loss: 0.49711 | Time: 104.93 seconds\n",
      "Epoch: 17 | Train Loss: 0.49802 | Valid Loss: 0.49462 | Time: 104.65 seconds\n",
      "Epoch: 18 | Train Loss: 0.50294 | Valid Loss: 0.50504 | Time: 103.43 seconds\n",
      "Epoch: 19 | Train Loss: 0.50033 | Valid Loss: 0.49827 | Time: 103.53 seconds\n",
      "Epoch: 20 | Train Loss: 0.49600 | Valid Loss: 0.49386 | Time: 104.63 seconds\n",
      "Epoch: 21 | Train Loss: 0.49592 | Valid Loss: 0.49313 | Time: 104.80 seconds\n",
      "Epoch: 22 | Train Loss: 0.49412 | Valid Loss: 0.49412 | Time: 103.72 seconds\n",
      "Epoch: 23 | Train Loss: 0.49290 | Valid Loss: 0.49170 | Time: 104.54 seconds\n",
      "Epoch: 24 | Train Loss: 0.49205 | Valid Loss: 0.50315 | Time: 103.46 seconds\n",
      "Epoch: 25 | Train Loss: 0.49201 | Valid Loss: 0.49396 | Time: 103.77 seconds\n",
      "Epoch: 26 | Train Loss: 0.49210 | Valid Loss: 0.50447 | Time: 103.61 seconds\n",
      "Epoch: 27 | Train Loss: 0.49219 | Valid Loss: 0.49147 | Time: 104.78 seconds\n",
      "Epoch: 28 | Train Loss: 0.49012 | Valid Loss: 0.48897 | Time: 104.61 seconds\n",
      "Epoch: 29 | Train Loss: 0.48950 | Valid Loss: 0.49019 | Time: 103.47 seconds\n",
      "Epoch: 30 | Train Loss: 0.48871 | Valid Loss: 0.48765 | Time: 104.51 seconds\n",
      "Epoch: 31 | Train Loss: 0.48842 | Valid Loss: 0.48720 | Time: 104.81 seconds\n",
      "Epoch: 32 | Train Loss: 0.48767 | Valid Loss: 0.48889 | Time: 103.73 seconds\n",
      "Epoch: 33 | Train Loss: 0.48733 | Valid Loss: 0.48780 | Time: 103.50 seconds\n",
      "Epoch: 34 | Train Loss: 0.48693 | Valid Loss: 0.48788 | Time: 103.42 seconds\n",
      "Epoch: 35 | Train Loss: 0.48842 | Valid Loss: 0.48646 | Time: 104.48 seconds\n",
      "Epoch: 36 | Train Loss: 0.48687 | Valid Loss: 0.48621 | Time: 104.56 seconds\n",
      "Epoch: 37 | Train Loss: 0.48656 | Valid Loss: 0.48561 | Time: 104.93 seconds\n",
      "Epoch: 38 | Train Loss: 0.48595 | Valid Loss: 0.48569 | Time: 103.58 seconds\n",
      "Epoch: 39 | Train Loss: 0.48567 | Valid Loss: 0.48551 | Time: 104.76 seconds\n",
      "Epoch: 40 | Train Loss: 0.48540 | Valid Loss: 0.48523 | Time: 105.04 seconds\n",
      "Epoch: 41 | Train Loss: 0.48511 | Valid Loss: 0.48487 | Time: 105.02 seconds\n",
      "Epoch: 42 | Train Loss: 0.48498 | Valid Loss: 0.48448 | Time: 104.69 seconds\n",
      "Epoch: 43 | Train Loss: 0.48458 | Valid Loss: 0.48629 | Time: 103.40 seconds\n",
      "Epoch: 44 | Train Loss: 0.48450 | Valid Loss: 0.48560 | Time: 103.44 seconds\n",
      "Epoch: 45 | Train Loss: 0.48449 | Valid Loss: 0.48430 | Time: 104.55 seconds\n",
      "Epoch: 46 | Train Loss: 0.48439 | Valid Loss: 0.48403 | Time: 104.86 seconds\n",
      "Epoch: 47 | Train Loss: 0.48429 | Valid Loss: 0.48404 | Time: 103.65 seconds\n",
      "Epoch: 48 | Train Loss: 0.48421 | Valid Loss: 0.48427 | Time: 103.42 seconds\n",
      "Epoch: 49 | Train Loss: 0.48434 | Valid Loss: 0.48417 | Time: 103.57 seconds\n",
      "Epoch: 50 | Train Loss: 0.48417 | Valid Loss: 0.48443 | Time: 103.59 seconds\n",
      "\n",
      "**************************************************\n",
      "\n",
      "Best Validation Loss at Epoch 46\n",
      "\n",
      "**************************************************\n",
      "\n",
      "Time Taken [50 Epochs] : 86.94 minutes\n",
      "\n",
      "**************************************************\n",
      "\n"
     ]
    },
    {
     "data": {
      "image/png": "[encoded data removed]",
      "text/plain": [
       "<Figure size 576x432 with 1 Axes>"
      ]
     },
     "metadata": {
      "needs_background": "light"
     },
     "output_type": "display_data"
    },
    {
     "name": "stdout",
     "output_type": "stream",
     "text": [
      "\n",
      "**************************************************\n",
      "\n"
     ]
    },
    {
     "data": {
      "image/png": "[encoded data removed]",
      "text/plain": [
       "<Figure size 576x432 with 1 Axes>"
      ]
     },
     "metadata": {
      "needs_background": "light"
     },
     "output_type": "display_data"
    },
    {
     "name": "stdout",
     "output_type": "stream",
     "text": [
      "\n",
      "**************************************************\n",
      "\n"
     ]
    }
   ],
   "source": [
    "for tr_idx, va_idx in KFold(n_splits=cfg.n_splits, shuffle=True, random_state=cfg.seed).split(images):\n",
    "    break\n",
    "\n",
    "tr_images, va_images = images[tr_idx], images[va_idx]\n",
    "\n",
    "tr_data_setup = DS(tr_images, cfg.transform)\n",
    "va_data_setup = DS(va_images, cfg.transform)\n",
    "\n",
    "dataloaders = {\n",
    "    \"train\" : DL(tr_data_setup, batch_size=cfg.batch_size, shuffle=True, generator=torch.manual_seed(cfg.seed)),\n",
    "    \"valid\" : DL(va_data_setup, batch_size=cfg.batch_size, shuffle=False)\n",
    "}\n",
    "\n",
    "cfg = CFG(seed=SEED, size=224, epochs=50, early_stopping=5, lr=1e-3, wd=0.0, steps_per_epoch=len(dataloaders[\"train\"]))\n",
    "\n",
    "torch.manual_seed(cfg.seed)\n",
    "model = Model().to(cfg.device)\n",
    "optimizer = optim.Adam([p for p in model.parameters() if p.requires_grad], lr=cfg.lr, weight_decay=cfg.wd)\n",
    "scheduler = optim.lr_scheduler.OneCycleLR(optimizer=optimizer, \n",
    "                                          max_lr=cfg.max_lr, \n",
    "                                          epochs=cfg.epochs, \n",
    "                                          steps_per_epoch=cfg.steps_per_epoch,\n",
    "                                          pct_start=cfg.pct_start, \n",
    "                                          div_factor=cfg.div_factor, \n",
    "                                          final_div_factor=cfg.final_div_factor)\n",
    "\n",
    "L, LRs, BLE, name = fit(model=model, \n",
    "                        optimizer=optimizer, \n",
    "                        scheduler=scheduler, \n",
    "                        epochs=cfg.epochs, \n",
    "                        early_stopping_patience=cfg.early_stopping, \n",
    "                        dataloaders=dataloaders, \n",
    "                        device=cfg.device,\n",
    "                        save_path=cfg.save_path,\n",
    "                        verbose=True)\n",
    "\n",
    "breaker()\n",
    "show_graphs(L)\n",
    "breaker()\n",
    "x_Axis = [i+1 for i in range(len(LRs))]\n",
    "plt.figure(figsize=(8, 6))\n",
    "plt.plot(x_Axis, LRs, \"rx\")\n",
    "plt.grid()\n",
    "plt.show()\n",
    "breaker()"
   ]
  }
 ],
 "metadata": {
  "kernelspec": {
   "display_name": "Python 3",
   "language": "python",
   "name": "python3"
  },
  "language_info": {
   "codemirror_mode": {
    "name": "ipython",
    "version": 3
   },
   "file_extension": ".py",
   "mimetype": "text/x-python",
   "name": "python",
   "nbconvert_exporter": "python",
   "pygments_lexer": "ipython3",
   "version": "3.7.12"
  },
  "papermill": {
   "default_parameters": {},
   "duration": 5258.591553,
   "end_time": "2022-05-05T09:49:28.157105",
   "environment_variables": {},
   "exception": null,
   "input_path": "__notebook__.ipynb",
   "output_path": "__notebook__.ipynb",
   "parameters": {},
   "start_time": "2022-05-05T08:21:49.565552",
   "version": "2.3.4"
  },
  "widgets": {
   "application/vnd.jupyter.widget-state+json": {
    "state": {
     "448338cb2c6149088c822782ddc1925f": {
      "model_module": "@jupyter-widgets/base",
      "model_module_version": "1.2.0",
      "model_name": "LayoutModel",
      "state": {
       "_model_module": "@jupyter-widgets/base",
       "_model_module_version": "1.2.0",
       "_model_name": "LayoutModel",
       "_view_count": null,
       "_view_module": "@jupyter-widgets/base",
       "_view_module_version": "1.2.0",
       "_view_name": "LayoutView",
       "align_content": null,
       "align_items": null,
       "align_self": null,
       "border": null,
       "bottom": null,
       "display": null,
       "flex": null,
       "flex_flow": null,
       "grid_area": null,
       "grid_auto_columns": null,
       "grid_auto_flow": null,
       "grid_auto_rows": null,
       "grid_column": null,
       "grid_gap": null,
       "grid_row": null,
       "grid_template_areas": null,
       "grid_template_columns": null,
       "grid_template_rows": null,
       "height": null,
       "justify_content": null,
       "justify_items": null,
       "left": null,
       "margin": null,
       "max_height": null,
       "max_width": null,
       "min_height": null,
       "min_width": null,
       "object_fit": null,
       "object_position": null,
       "order": null,
       "overflow": null,
       "overflow_x": null,
       "overflow_y": null,
       "padding": null,
       "right": null,
       "top": null,
       "visibility": null,
       "width": null
      }
     },
     "5978c6cf446f4de2b403872668cc9e9a": {
      "model_module": "@jupyter-widgets/controls",
      "model_module_version": "1.5.0",
      "model_name": "HBoxModel",
      "state": {
       "_dom_classes": [],
       "_model_module": "@jupyter-widgets/controls",
       "_model_module_version": "1.5.0",
       "_model_name": "HBoxModel",
       "_view_count": null,
       "_view_module": "@jupyter-widgets/controls",
       "_view_module_version": "1.5.0",
       "_view_name": "HBoxView",
       "box_style": "",
       "children": [
        "IPY_MODEL_ffbc8c9b105646f19e2659e7db48b064",
        "IPY_MODEL_5ce3fc07c2da412d87a95efac14d1650",
        "IPY_MODEL_ba88f904fe6b4fe2a8a4781b7a22cc46"
       ],
       "layout": "IPY_MODEL_448338cb2c6149088c822782ddc1925f"
      }
     },
     "5ce3fc07c2da412d87a95efac14d1650": {
      "model_module": "@jupyter-widgets/controls",
      "model_module_version": "1.5.0",
      "model_name": "FloatProgressModel",
      "state": {
       "_dom_classes": [],
       "_model_module": "@jupyter-widgets/controls",
       "_model_module_version": "1.5.0",
       "_model_name": "FloatProgressModel",
       "_view_count": null,
       "_view_module": "@jupyter-widgets/controls",
       "_view_module_version": "1.5.0",
       "_view_name": "ProgressView",
       "bar_style": "success",
       "description": "",
       "description_tooltip": null,
       "layout": "IPY_MODEL_fbc5c0cf187741a2913669c4d70b1c7a",
       "max": 102530333.0,
       "min": 0.0,
       "orientation": "horizontal",
       "style": "IPY_MODEL_aa0be25387f74f2bb637c182b71675d0",
       "value": 102530333.0
      }
     },
     "8afe13d0a8f746ab927b683cd78882a7": {
      "model_module": "@jupyter-widgets/controls",
      "model_module_version": "1.5.0",
      "model_name": "DescriptionStyleModel",
      "state": {
       "_model_module": "@jupyter-widgets/controls",
       "_model_module_version": "1.5.0",
       "_model_name": "DescriptionStyleModel",
       "_view_count": null,
       "_view_module": "@jupyter-widgets/base",
       "_view_module_version": "1.2.0",
       "_view_name": "StyleView",
       "description_width": ""
      }
     },
     "9d134f6a645c441b99d34f731417a757": {
      "model_module": "@jupyter-widgets/base",
      "model_module_version": "1.2.0",
      "model_name": "LayoutModel",
      "state": {
       "_model_module": "@jupyter-widgets/base",
       "_model_module_version": "1.2.0",
       "_model_name": "LayoutModel",
       "_view_count": null,
       "_view_module": "@jupyter-widgets/base",
       "_view_module_version": "1.2.0",
       "_view_name": "LayoutView",
       "align_content": null,
       "align_items": null,
       "align_self": null,
       "border": null,
       "bottom": null,
       "display": null,
       "flex": null,
       "flex_flow": null,
       "grid_area": null,
       "grid_auto_columns": null,
       "grid_auto_flow": null,
       "grid_auto_rows": null,
       "grid_column": null,
       "grid_gap": null,
       "grid_row": null,
       "grid_template_areas": null,
       "grid_template_columns": null,
       "grid_template_rows": null,
       "height": null,
       "justify_content": null,
       "justify_items": null,
       "left": null,
       "margin": null,
       "max_height": null,
       "max_width": null,
       "min_height": null,
       "min_width": null,
       "object_fit": null,
       "object_position": null,
       "order": null,
       "overflow": null,
       "overflow_x": null,
       "overflow_y": null,
       "padding": null,
       "right": null,
       "top": null,
       "visibility": null,
       "width": null
      }
     },
     "aa0be25387f74f2bb637c182b71675d0": {
      "model_module": "@jupyter-widgets/controls",
      "model_module_version": "1.5.0",
      "model_name": "ProgressStyleModel",
      "state": {
       "_model_module": "@jupyter-widgets/controls",
       "_model_module_version": "1.5.0",
       "_model_name": "ProgressStyleModel",
       "_view_count": null,
       "_view_module": "@jupyter-widgets/base",
       "_view_module_version": "1.2.0",
       "_view_name": "StyleView",
       "bar_color": null,
       "description_width": ""
      }
     },
     "ba88f904fe6b4fe2a8a4781b7a22cc46": {
      "model_module": "@jupyter-widgets/controls",
      "model_module_version": "1.5.0",
      "model_name": "HTMLModel",
      "state": {
       "_dom_classes": [],
       "_model_module": "@jupyter-widgets/controls",
       "_model_module_version": "1.5.0",
       "_model_name": "HTMLModel",
       "_view_count": null,
       "_view_module": "@jupyter-widgets/controls",
       "_view_module_version": "1.5.0",
       "_view_name": "HTMLView",
       "description": "",
       "description_tooltip": null,
       "layout": "IPY_MODEL_f2c496500d1b4860810509b13b697d1e",
       "placeholder": "​",
       "style": "IPY_MODEL_bee3c320df3847f298eda1263cdd4580",
       "value": " 97.8M/97.8M [00:05&lt;00:00, 22.9MB/s]"
      }
     },
     "bee3c320df3847f298eda1263cdd4580": {
      "model_module": "@jupyter-widgets/controls",
      "model_module_version": "1.5.0",
      "model_name": "DescriptionStyleModel",
      "state": {
       "_model_module": "@jupyter-widgets/controls",
       "_model_module_version": "1.5.0",
       "_model_name": "DescriptionStyleModel",
       "_view_count": null,
       "_view_module": "@jupyter-widgets/base",
       "_view_module_version": "1.2.0",
       "_view_name": "StyleView",
       "description_width": ""
      }
     },
     "f2c496500d1b4860810509b13b697d1e": {
      "model_module": "@jupyter-widgets/base",
      "model_module_version": "1.2.0",
      "model_name": "LayoutModel",
      "state": {
       "_model_module": "@jupyter-widgets/base",
       "_model_module_version": "1.2.0",
       "_model_name": "LayoutModel",
       "_view_count": null,
       "_view_module": "@jupyter-widgets/base",
       "_view_module_version": "1.2.0",
       "_view_name": "LayoutView",
       "align_content": null,
       "align_items": null,
       "align_self": null,
       "border": null,
       "bottom": null,
       "display": null,
       "flex": null,
       "flex_flow": null,
       "grid_area": null,
       "grid_auto_columns": null,
       "grid_auto_flow": null,
       "grid_auto_rows": null,
       "grid_column": null,
       "grid_gap": null,
       "grid_row": null,
       "grid_template_areas": null,
       "grid_template_columns": null,
       "grid_template_rows": null,
       "height": null,
       "justify_content": null,
       "justify_items": null,
       "left": null,
       "margin": null,
       "max_height": null,
       "max_width": null,
       "min_height": null,
       "min_width": null,
       "object_fit": null,
       "object_position": null,
       "order": null,
       "overflow": null,
       "overflow_x": null,
       "overflow_y": null,
       "padding": null,
       "right": null,
       "top": null,
       "visibility": null,
       "width": null
      }
     },
     "fbc5c0cf187741a2913669c4d70b1c7a": {
      "model_module": "@jupyter-widgets/base",
      "model_module_version": "1.2.0",
      "model_name": "LayoutModel",
      "state": {
       "_model_module": "@jupyter-widgets/base",
       "_model_module_version": "1.2.0",
       "_model_name": "LayoutModel",
       "_view_count": null,
       "_view_module": "@jupyter-widgets/base",
       "_view_module_version": "1.2.0",
       "_view_name": "LayoutView",
       "align_content": null,
       "align_items": null,
       "align_self": null,
       "border": null,
       "bottom": null,
       "display": null,
       "flex": null,
       "flex_flow": null,
       "grid_area": null,
       "grid_auto_columns": null,
       "grid_auto_flow": null,
       "grid_auto_rows": null,
       "grid_column": null,
       "grid_gap": null,
       "grid_row": null,
       "grid_template_areas": null,
       "grid_template_columns": null,
       "grid_template_rows": null,
       "height": null,
       "justify_content": null,
       "justify_items": null,
       "left": null,
       "margin": null,
       "max_height": null,
       "max_width": null,
       "min_height": null,
       "min_width": null,
       "object_fit": null,
       "object_position": null,
       "order": null,
       "overflow": null,
       "overflow_x": null,
       "overflow_y": null,
       "padding": null,
       "right": null,
       "top": null,
       "visibility": null,
       "width": null
      }
     },
     "ffbc8c9b105646f19e2659e7db48b064": {
      "model_module": "@jupyter-widgets/controls",
      "model_module_version": "1.5.0",
      "model_name": "HTMLModel",
      "state": {
       "_dom_classes": [],
       "_model_module": "@jupyter-widgets/controls",
       "_model_module_version": "1.5.0",
       "_model_name": "HTMLModel",
       "_view_count": null,
       "_view_module": "@jupyter-widgets/controls",
       "_view_module_version": "1.5.0",
       "_view_name": "HTMLView",
       "description": "",
       "description_tooltip": null,
       "layout": "IPY_MODEL_9d134f6a645c441b99d34f731417a757",
       "placeholder": "​",
       "style": "IPY_MODEL_8afe13d0a8f746ab927b683cd78882a7",
       "value": "100%"
      }
     }
    },
    "version_major": 2,
    "version_minor": 0
   }
  }
 },
 "nbformat": 4,
 "nbformat_minor": 5
}
