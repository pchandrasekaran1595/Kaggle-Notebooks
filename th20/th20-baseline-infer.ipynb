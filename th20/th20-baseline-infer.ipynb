{
 "cells": [
  {
   "cell_type": "markdown",
   "id": "1beaa3e2",
   "metadata": {
    "papermill": {
     "duration": 0.00379,
     "end_time": "2022-09-07T11:46:17.634473",
     "exception": false,
     "start_time": "2022-09-07T11:46:17.630683",
     "status": "completed"
    },
    "tags": []
   },
   "source": [
    "### **Library Imports**"
   ]
  },
  {
   "cell_type": "code",
   "execution_count": 1,
   "id": "01967bf4",
   "metadata": {
    "_cell_guid": "b1076dfc-b9ad-4769-8c92-a6c4dae69d19",
    "_uuid": "8f2839f25d086af736a60e9eeb907d3b93b6e0e5",
    "execution": {
     "iopub.execute_input": "2022-09-07T11:46:17.643034Z",
     "iopub.status.busy": "2022-09-07T11:46:17.642514Z",
     "iopub.status.idle": "2022-09-07T11:46:18.935984Z",
     "shell.execute_reply": "2022-09-07T11:46:18.934227Z"
    },
    "papermill": {
     "duration": 1.301705,
     "end_time": "2022-09-07T11:46:18.939417",
     "exception": false,
     "start_time": "2022-09-07T11:46:17.637712",
     "status": "completed"
    },
    "tags": []
   },
   "outputs": [],
   "source": [
    "import os\n",
    "import pickle\n",
    "import numpy as np\n",
    "import pandas as pd\n",
    "import random as r\n",
    "import seaborn as sns\n",
    "import matplotlib.pyplot as plt\n",
    "\n",
    "from time import time"
   ]
  },
  {
   "cell_type": "markdown",
   "id": "c20dd33b",
   "metadata": {
    "papermill": {
     "duration": 0.002498,
     "end_time": "2022-09-07T11:46:18.944872",
     "exception": false,
     "start_time": "2022-09-07T11:46:18.942374",
     "status": "completed"
    },
    "tags": []
   },
   "source": [
    "### **Configuration**"
   ]
  },
  {
   "cell_type": "code",
   "execution_count": 2,
   "id": "e1fed18a",
   "metadata": {
    "execution": {
     "iopub.execute_input": "2022-09-07T11:46:18.952126Z",
     "iopub.status.busy": "2022-09-07T11:46:18.951703Z",
     "iopub.status.idle": "2022-09-07T11:46:18.958942Z",
     "shell.execute_reply": "2022-09-07T11:46:18.957794Z"
    },
    "papermill": {
     "duration": 0.013698,
     "end_time": "2022-09-07T11:46:18.961264",
     "exception": false,
     "start_time": "2022-09-07T11:46:18.947566",
     "status": "completed"
    },
    "tags": []
   },
   "outputs": [],
   "source": [
    "class CFG(object):\n",
    "    def __init__(self,\n",
    "                 seed: int = 42,\n",
    "                 n_splits: int = 5,\n",
    "                 show_info: bool = False,\n",
    "                 ):\n",
    "\n",
    "        self.seed = seed\n",
    "        self.n_splits = n_splits\n",
    "        self.show_info = show_info\n",
    "        self.train_data_read_path = \"../input/tab-hack-20/Week8_train.csv\"\n",
    "        self.test_data_read_path = \"../input/tab-hack-20/Week8_test.csv\"\n",
    "        self.model_save_path = \"models\"\n",
    "        if not os.path.exists(self.model_save_path): os.makedirs(self.model_save_path)\n",
    "\n",
    "cfg = CFG(seed=42, show_info=True)"
   ]
  },
  {
   "cell_type": "markdown",
   "id": "b7908da4",
   "metadata": {
    "papermill": {
     "duration": 0.002422,
     "end_time": "2022-09-07T11:46:18.966616",
     "exception": false,
     "start_time": "2022-09-07T11:46:18.964194",
     "status": "completed"
    },
    "tags": []
   },
   "source": [
    "### **Helpers**"
   ]
  },
  {
   "cell_type": "code",
   "execution_count": 3,
   "id": "7b000528",
   "metadata": {
    "execution": {
     "iopub.execute_input": "2022-09-07T11:46:18.974510Z",
     "iopub.status.busy": "2022-09-07T11:46:18.973366Z",
     "iopub.status.idle": "2022-09-07T11:46:18.980227Z",
     "shell.execute_reply": "2022-09-07T11:46:18.979280Z"
    },
    "papermill": {
     "duration": 0.013475,
     "end_time": "2022-09-07T11:46:18.982790",
     "exception": false,
     "start_time": "2022-09-07T11:46:18.969315",
     "status": "completed"
    },
    "tags": []
   },
   "outputs": [],
   "source": [
    "def breaker(num: int=50, char: str=\"*\") -> None:\n",
    "    print(\"\\n\" + num*char + \"\\n\")\n",
    "\n",
    "    \n",
    "def get_object_columns(df) -> list:\n",
    "    object_columns: list = []\n",
    "    for col in df.columns:\n",
    "        if df[col].dtype == \"object\":\n",
    "            object_columns.append(col)\n",
    "\n",
    "    return object_columns"
   ]
  },
  {
   "cell_type": "markdown",
   "id": "184387e9",
   "metadata": {
    "papermill": {
     "duration": 0.002439,
     "end_time": "2022-09-07T11:46:18.988108",
     "exception": false,
     "start_time": "2022-09-07T11:46:18.985669",
     "status": "completed"
    },
    "tags": []
   },
   "source": [
    "### **Predict**"
   ]
  },
  {
   "cell_type": "code",
   "execution_count": 4,
   "id": "cddebc18",
   "metadata": {
    "execution": {
     "iopub.execute_input": "2022-09-07T11:46:18.995826Z",
     "iopub.status.busy": "2022-09-07T11:46:18.995054Z",
     "iopub.status.idle": "2022-09-07T11:46:43.420687Z",
     "shell.execute_reply": "2022-09-07T11:46:43.419322Z"
    },
    "papermill": {
     "duration": 24.432539,
     "end_time": "2022-09-07T11:46:43.423352",
     "exception": false,
     "start_time": "2022-09-07T11:46:18.990813",
     "status": "completed"
    },
    "tags": []
   },
   "outputs": [],
   "source": [
    "df = pd.read_csv(cfg.test_data_read_path)\n",
    "df = df.drop(columns=[\"id\", \"PARTY_ID\"])\n",
    "object_columns = get_object_columns(df)\n",
    "df = df.drop(columns=object_columns)\n",
    "\n",
    "X = df.copy().values\n",
    "\n",
    "model = pickle.load(open(\"../input/th20-baseline/models/best_model.pkl\", \"rb\"))\n",
    "y_pred = model.predict_proba(X)[:, 1]\n",
    "\n",
    "ss_df = pd.DataFrame({\n",
    "    \"Id\" : pd.RangeIndex(0,df.shape[0]),\n",
    "    \"TARGET\" : y_pred.reshape(-1).astype(\"uint8\")\n",
    "})\n",
    "ss_df.to_csv(\"submission.csv\", index=False)"
   ]
  }
 ],
 "metadata": {
  "kernelspec": {
   "display_name": "Python 3",
   "language": "python",
   "name": "python3"
  },
  "language_info": {
   "codemirror_mode": {
    "name": "ipython",
    "version": 3
   },
   "file_extension": ".py",
   "mimetype": "text/x-python",
   "name": "python",
   "nbconvert_exporter": "python",
   "pygments_lexer": "ipython3",
   "version": "3.7.12"
  },
  "papermill": {
   "default_parameters": {},
   "duration": 37.896393,
   "end_time": "2022-09-07T11:46:44.351170",
   "environment_variables": {},
   "exception": null,
   "input_path": "__notebook__.ipynb",
   "output_path": "__notebook__.ipynb",
   "parameters": {},
   "start_time": "2022-09-07T11:46:06.454777",
   "version": "2.3.4"
  }
 },
 "nbformat": 4,
 "nbformat_minor": 5
}
