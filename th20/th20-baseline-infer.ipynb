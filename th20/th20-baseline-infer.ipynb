{
 "cells": [
  {
   "cell_type": "markdown",
   "id": "7a3a305f",
   "metadata": {
    "papermill": {
     "duration": 0.003994,
     "end_time": "2022-09-07T11:44:34.708719",
     "exception": false,
     "start_time": "2022-09-07T11:44:34.704725",
     "status": "completed"
    },
    "tags": []
   },
   "source": [
    "### **Library Imports**"
   ]
  },
  {
   "cell_type": "code",
   "execution_count": 1,
   "id": "20c48e9f",
   "metadata": {
    "_cell_guid": "b1076dfc-b9ad-4769-8c92-a6c4dae69d19",
    "_uuid": "8f2839f25d086af736a60e9eeb907d3b93b6e0e5",
    "execution": {
     "iopub.execute_input": "2022-09-07T11:44:34.717520Z",
     "iopub.status.busy": "2022-09-07T11:44:34.716537Z",
     "iopub.status.idle": "2022-09-07T11:44:35.799542Z",
     "shell.execute_reply": "2022-09-07T11:44:35.798601Z"
    },
    "papermill": {
     "duration": 1.090218,
     "end_time": "2022-09-07T11:44:35.802176",
     "exception": false,
     "start_time": "2022-09-07T11:44:34.711958",
     "status": "completed"
    },
    "tags": []
   },
   "outputs": [],
   "source": [
    "import os\n",
    "import pickle\n",
    "import numpy as np\n",
    "import pandas as pd\n",
    "import random as r\n",
    "import seaborn as sns\n",
    "import matplotlib.pyplot as plt\n",
    "\n",
    "from time import time"
   ]
  },
  {
   "cell_type": "markdown",
   "id": "a8f10f35",
   "metadata": {
    "papermill": {
     "duration": 0.002293,
     "end_time": "2022-09-07T11:44:35.807190",
     "exception": false,
     "start_time": "2022-09-07T11:44:35.804897",
     "status": "completed"
    },
    "tags": []
   },
   "source": [
    "### **Configuration**"
   ]
  },
  {
   "cell_type": "code",
   "execution_count": 2,
   "id": "63b2b7b4",
   "metadata": {
    "execution": {
     "iopub.execute_input": "2022-09-07T11:44:35.814102Z",
     "iopub.status.busy": "2022-09-07T11:44:35.813466Z",
     "iopub.status.idle": "2022-09-07T11:44:35.819819Z",
     "shell.execute_reply": "2022-09-07T11:44:35.819022Z"
    },
    "papermill": {
     "duration": 0.012269,
     "end_time": "2022-09-07T11:44:35.821896",
     "exception": false,
     "start_time": "2022-09-07T11:44:35.809627",
     "status": "completed"
    },
    "tags": []
   },
   "outputs": [],
   "source": [
    "class CFG(object):\n",
    "    def __init__(self,\n",
    "                 seed: int = 42,\n",
    "                 n_splits: int = 5,\n",
    "                 show_info: bool = False,\n",
    "                 ):\n",
    "\n",
    "        self.seed = seed\n",
    "        self.n_splits = n_splits\n",
    "        self.show_info = show_info\n",
    "        self.train_data_read_path = \"../input/tab-hack-20/Week8_train.csv\"\n",
    "        self.test_data_read_path = \"../input/tab-hack-20/Week8_test.csv\"\n",
    "        self.model_save_path = \"models\"\n",
    "        if not os.path.exists(self.model_save_path): os.makedirs(self.model_save_path)\n",
    "\n",
    "cfg = CFG(seed=42, show_info=True)"
   ]
  },
  {
   "cell_type": "markdown",
   "id": "779c65d0",
   "metadata": {
    "papermill": {
     "duration": 0.002266,
     "end_time": "2022-09-07T11:44:35.826757",
     "exception": false,
     "start_time": "2022-09-07T11:44:35.824491",
     "status": "completed"
    },
    "tags": []
   },
   "source": [
    "### **Helpers**"
   ]
  },
  {
   "cell_type": "code",
   "execution_count": 3,
   "id": "c94c9362",
   "metadata": {
    "execution": {
     "iopub.execute_input": "2022-09-07T11:44:35.833795Z",
     "iopub.status.busy": "2022-09-07T11:44:35.833174Z",
     "iopub.status.idle": "2022-09-07T11:44:35.839047Z",
     "shell.execute_reply": "2022-09-07T11:44:35.837976Z"
    },
    "papermill": {
     "duration": 0.012214,
     "end_time": "2022-09-07T11:44:35.841461",
     "exception": false,
     "start_time": "2022-09-07T11:44:35.829247",
     "status": "completed"
    },
    "tags": []
   },
   "outputs": [],
   "source": [
    "def breaker(num: int=50, char: str=\"*\") -> None:\n",
    "    print(\"\\n\" + num*char + \"\\n\")\n",
    "\n",
    "    \n",
    "def get_object_columns(df) -> list:\n",
    "    object_columns: list = []\n",
    "    for col in df.columns:\n",
    "        if df[col].dtype == \"object\":\n",
    "            object_columns.append(col)\n",
    "\n",
    "    return object_columns"
   ]
  },
  {
   "cell_type": "markdown",
   "id": "841f8a0e",
   "metadata": {
    "papermill": {
     "duration": 0.002215,
     "end_time": "2022-09-07T11:44:35.846232",
     "exception": false,
     "start_time": "2022-09-07T11:44:35.844017",
     "status": "completed"
    },
    "tags": []
   },
   "source": [
    "### **Predict**"
   ]
  },
  {
   "cell_type": "code",
   "execution_count": 4,
   "id": "5ff32fb7",
   "metadata": {
    "execution": {
     "iopub.execute_input": "2022-09-07T11:44:35.852792Z",
     "iopub.status.busy": "2022-09-07T11:44:35.852428Z",
     "iopub.status.idle": "2022-09-07T11:44:58.167513Z",
     "shell.execute_reply": "2022-09-07T11:44:58.166597Z"
    },
    "papermill": {
     "duration": 22.321501,
     "end_time": "2022-09-07T11:44:58.170154",
     "exception": false,
     "start_time": "2022-09-07T11:44:35.848653",
     "status": "completed"
    },
    "tags": []
   },
   "outputs": [],
   "source": [
    "df = pd.read_csv(cfg.test_data_read_path)\n",
    "df = df.drop(columns=[\"id\", \"PARTY_ID\"])\n",
    "object_columns = get_object_columns(df)\n",
    "df = df.drop(columns=object_columns)\n",
    "\n",
    "X = df.copy().values\n",
    "\n",
    "model = pickle.load(open(\"../input/th20-baseline/models/best_model.pkl\", \"rb\"))\n",
    "y_pred = model.predict_proba(X)[:, 1]\n",
    "\n",
    "ss_df = pd.DataFrame({\n",
    "    \"Id\" : pd.RangeIndex(1,df.shape[0]+1),\n",
    "    \"TARGET\" : y_pred.reshape(-1).astype(\"uint8\")\n",
    "})\n",
    "ss_df.to_csv(\"submission.csv\", index=False)"
   ]
  }
 ],
 "metadata": {
  "kernelspec": {
   "display_name": "Python 3",
   "language": "python",
   "name": "python3"
  },
  "language_info": {
   "codemirror_mode": {
    "name": "ipython",
    "version": 3
   },
   "file_extension": ".py",
   "mimetype": "text/x-python",
   "name": "python",
   "nbconvert_exporter": "python",
   "pygments_lexer": "ipython3",
   "version": "3.7.12"
  },
  "papermill": {
   "default_parameters": {},
   "duration": 33.61485,
   "end_time": "2022-09-07T11:44:58.994882",
   "environment_variables": {},
   "exception": null,
   "input_path": "__notebook__.ipynb",
   "output_path": "__notebook__.ipynb",
   "parameters": {},
   "start_time": "2022-09-07T11:44:25.380032",
   "version": "2.3.4"
  }
 },
 "nbformat": 4,
 "nbformat_minor": 5
}
