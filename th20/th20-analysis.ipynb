{
 "cells": [
  {
   "cell_type": "code",
   "execution_count": 1,
   "id": "d4ce4218",
   "metadata": {
    "_cell_guid": "b1076dfc-b9ad-4769-8c92-a6c4dae69d19",
    "_uuid": "8f2839f25d086af736a60e9eeb907d3b93b6e0e5",
    "execution": {
     "iopub.execute_input": "2022-09-07T10:12:22.747858Z",
     "iopub.status.busy": "2022-09-07T10:12:22.746918Z",
     "iopub.status.idle": "2022-09-07T10:12:23.970599Z",
     "shell.execute_reply": "2022-09-07T10:12:23.969219Z"
    },
    "papermill": {
     "duration": 1.233231,
     "end_time": "2022-09-07T10:12:23.973790",
     "exception": false,
     "start_time": "2022-09-07T10:12:22.740559",
     "status": "completed"
    },
    "tags": []
   },
   "outputs": [],
   "source": [
    "import os\n",
    "import pickle\n",
    "import numpy as np\n",
    "import pandas as pd\n",
    "import random as r\n",
    "import seaborn as sns\n",
    "import matplotlib.pyplot as plt"
   ]
  },
  {
   "cell_type": "code",
   "execution_count": 2,
   "id": "847b2789",
   "metadata": {
    "execution": {
     "iopub.execute_input": "2022-09-07T10:12:23.982144Z",
     "iopub.status.busy": "2022-09-07T10:12:23.981641Z",
     "iopub.status.idle": "2022-09-07T10:12:23.989270Z",
     "shell.execute_reply": "2022-09-07T10:12:23.987861Z"
    },
    "papermill": {
     "duration": 0.015173,
     "end_time": "2022-09-07T10:12:23.992245",
     "exception": false,
     "start_time": "2022-09-07T10:12:23.977072",
     "status": "completed"
    },
    "tags": []
   },
   "outputs": [],
   "source": [
    "def breaker(num: int=50, char: str=\"*\") -> None:\n",
    "    print(\"\\n\" + num*char + \"\\n\")\n",
    "\n",
    "    \n",
    "def get_object_columns(df) -> list:\n",
    "    object_columns: list = []\n",
    "    for col in df.columns:\n",
    "        if df[col].dtype == \"object\":\n",
    "            object_columns.append(col)\n",
    "\n",
    "    return object_columns"
   ]
  },
  {
   "cell_type": "code",
   "execution_count": 3,
   "id": "69761358",
   "metadata": {
    "execution": {
     "iopub.execute_input": "2022-09-07T10:12:23.999707Z",
     "iopub.status.busy": "2022-09-07T10:12:23.999288Z",
     "iopub.status.idle": "2022-09-07T10:12:24.006987Z",
     "shell.execute_reply": "2022-09-07T10:12:24.005859Z"
    },
    "papermill": {
     "duration": 0.014482,
     "end_time": "2022-09-07T10:12:24.009639",
     "exception": false,
     "start_time": "2022-09-07T10:12:23.995157",
     "status": "completed"
    },
    "tags": []
   },
   "outputs": [],
   "source": [
    "class CFG(object):\n",
    "    def __init__(self,\n",
    "                 seed: int = 42,\n",
    "                 n_splits: int = 5,\n",
    "                 show_info: bool = False,\n",
    "                 ):\n",
    "\n",
    "        self.seed = seed\n",
    "        self.n_splits = n_splits\n",
    "        self.show_info = show_info\n",
    "        self.train_data_read_path = \"../input/tab-hack-20/Week8_train.csv\"\n",
    "        self.test_data_read_path = \"../input/tab-hack-20/Week8_test.csv\"\n",
    "        self.model_save_path = \"models\"\n",
    "        if not os.path.exists(self.model_save_path): os.makedirs(self.model_save_path)\n",
    "\n",
    "cfg = CFG(seed=42, show_info=True)"
   ]
  },
  {
   "cell_type": "code",
   "execution_count": 4,
   "id": "0a5a29bd",
   "metadata": {
    "execution": {
     "iopub.execute_input": "2022-09-07T10:12:24.018739Z",
     "iopub.status.busy": "2022-09-07T10:12:24.016723Z",
     "iopub.status.idle": "2022-09-07T10:12:30.735157Z",
     "shell.execute_reply": "2022-09-07T10:12:30.733908Z"
    },
    "papermill": {
     "duration": 6.725166,
     "end_time": "2022-09-07T10:12:30.737697",
     "exception": false,
     "start_time": "2022-09-07T10:12:24.012531",
     "status": "completed"
    },
    "tags": []
   },
   "outputs": [
    {
     "data": {
      "text/html": [
       "<div>\n",
       "<style scoped>\n",
       "    .dataframe tbody tr th:only-of-type {\n",
       "        vertical-align: middle;\n",
       "    }\n",
       "\n",
       "    .dataframe tbody tr th {\n",
       "        vertical-align: top;\n",
       "    }\n",
       "\n",
       "    .dataframe thead th {\n",
       "        text-align: right;\n",
       "    }\n",
       "</style>\n",
       "<table border=\"1\" class=\"dataframe\">\n",
       "  <thead>\n",
       "    <tr style=\"text-align: right;\">\n",
       "      <th></th>\n",
       "      <th>V_1</th>\n",
       "      <th>V_2</th>\n",
       "      <th>V_3</th>\n",
       "      <th>V_4</th>\n",
       "      <th>V_5</th>\n",
       "      <th>V_6</th>\n",
       "      <th>V_7</th>\n",
       "      <th>V_8</th>\n",
       "      <th>V_9</th>\n",
       "      <th>V_10</th>\n",
       "      <th>...</th>\n",
       "      <th>V_474</th>\n",
       "      <th>V_475</th>\n",
       "      <th>V_476</th>\n",
       "      <th>V_477</th>\n",
       "      <th>V_478</th>\n",
       "      <th>V_479</th>\n",
       "      <th>V_480</th>\n",
       "      <th>V_481</th>\n",
       "      <th>V_482</th>\n",
       "      <th>TARGET</th>\n",
       "    </tr>\n",
       "  </thead>\n",
       "  <tbody>\n",
       "    <tr>\n",
       "      <th>0</th>\n",
       "      <td>0</td>\n",
       "      <td>0</td>\n",
       "      <td>0</td>\n",
       "      <td>0</td>\n",
       "      <td>0</td>\n",
       "      <td>0</td>\n",
       "      <td>0</td>\n",
       "      <td>0</td>\n",
       "      <td>0</td>\n",
       "      <td>0.000000</td>\n",
       "      <td>...</td>\n",
       "      <td>0</td>\n",
       "      <td>0</td>\n",
       "      <td>0</td>\n",
       "      <td>0</td>\n",
       "      <td>1</td>\n",
       "      <td>0</td>\n",
       "      <td>0.000000</td>\n",
       "      <td>0.0</td>\n",
       "      <td>0.0</td>\n",
       "      <td>0</td>\n",
       "    </tr>\n",
       "    <tr>\n",
       "      <th>1</th>\n",
       "      <td>0</td>\n",
       "      <td>0</td>\n",
       "      <td>0</td>\n",
       "      <td>0</td>\n",
       "      <td>0</td>\n",
       "      <td>0</td>\n",
       "      <td>0</td>\n",
       "      <td>0</td>\n",
       "      <td>0</td>\n",
       "      <td>110.038907</td>\n",
       "      <td>...</td>\n",
       "      <td>0</td>\n",
       "      <td>0</td>\n",
       "      <td>0</td>\n",
       "      <td>0</td>\n",
       "      <td>0</td>\n",
       "      <td>2</td>\n",
       "      <td>26.010373</td>\n",
       "      <td>0.0</td>\n",
       "      <td>0.0</td>\n",
       "      <td>0</td>\n",
       "    </tr>\n",
       "    <tr>\n",
       "      <th>2</th>\n",
       "      <td>0</td>\n",
       "      <td>0</td>\n",
       "      <td>0</td>\n",
       "      <td>0</td>\n",
       "      <td>0</td>\n",
       "      <td>0</td>\n",
       "      <td>0</td>\n",
       "      <td>0</td>\n",
       "      <td>0</td>\n",
       "      <td>0.000000</td>\n",
       "      <td>...</td>\n",
       "      <td>0</td>\n",
       "      <td>0</td>\n",
       "      <td>0</td>\n",
       "      <td>0</td>\n",
       "      <td>1</td>\n",
       "      <td>0</td>\n",
       "      <td>2248.357090</td>\n",
       "      <td>0.0</td>\n",
       "      <td>0.0</td>\n",
       "      <td>1</td>\n",
       "    </tr>\n",
       "    <tr>\n",
       "      <th>3</th>\n",
       "      <td>0</td>\n",
       "      <td>0</td>\n",
       "      <td>0</td>\n",
       "      <td>0</td>\n",
       "      <td>2</td>\n",
       "      <td>0</td>\n",
       "      <td>0</td>\n",
       "      <td>0</td>\n",
       "      <td>0</td>\n",
       "      <td>103.288586</td>\n",
       "      <td>...</td>\n",
       "      <td>0</td>\n",
       "      <td>0</td>\n",
       "      <td>0</td>\n",
       "      <td>0</td>\n",
       "      <td>0</td>\n",
       "      <td>0</td>\n",
       "      <td>2285.146561</td>\n",
       "      <td>0.0</td>\n",
       "      <td>0.0</td>\n",
       "      <td>0</td>\n",
       "    </tr>\n",
       "    <tr>\n",
       "      <th>4</th>\n",
       "      <td>0</td>\n",
       "      <td>0</td>\n",
       "      <td>0</td>\n",
       "      <td>0</td>\n",
       "      <td>0</td>\n",
       "      <td>0</td>\n",
       "      <td>0</td>\n",
       "      <td>0</td>\n",
       "      <td>0</td>\n",
       "      <td>0.000000</td>\n",
       "      <td>...</td>\n",
       "      <td>0</td>\n",
       "      <td>0</td>\n",
       "      <td>0</td>\n",
       "      <td>0</td>\n",
       "      <td>0</td>\n",
       "      <td>0</td>\n",
       "      <td>98.395599</td>\n",
       "      <td>0.0</td>\n",
       "      <td>0.0</td>\n",
       "      <td>0</td>\n",
       "    </tr>\n",
       "  </tbody>\n",
       "</table>\n",
       "<p>5 rows × 481 columns</p>\n",
       "</div>"
      ],
      "text/plain": [
       "   V_1  V_2  V_3  V_4  V_5  V_6  V_7  V_8  V_9        V_10  ...  V_474  V_475  \\\n",
       "0    0    0    0    0    0    0    0    0    0    0.000000  ...      0      0   \n",
       "1    0    0    0    0    0    0    0    0    0  110.038907  ...      0      0   \n",
       "2    0    0    0    0    0    0    0    0    0    0.000000  ...      0      0   \n",
       "3    0    0    0    0    2    0    0    0    0  103.288586  ...      0      0   \n",
       "4    0    0    0    0    0    0    0    0    0    0.000000  ...      0      0   \n",
       "\n",
       "   V_476  V_477  V_478  V_479        V_480  V_481  V_482  TARGET  \n",
       "0      0      0      1      0     0.000000    0.0    0.0       0  \n",
       "1      0      0      0      2    26.010373    0.0    0.0       0  \n",
       "2      0      0      1      0  2248.357090    0.0    0.0       1  \n",
       "3      0      0      0      0  2285.146561    0.0    0.0       0  \n",
       "4      0      0      0      0    98.395599    0.0    0.0       0  \n",
       "\n",
       "[5 rows x 481 columns]"
      ]
     },
     "execution_count": 4,
     "metadata": {},
     "output_type": "execute_result"
    }
   ],
   "source": [
    "tr_data = pd.read_csv(cfg.train_data_read_path)\n",
    "tr_data.drop(columns=[\"id\", \"PARTY_ID\"], inplace=True)\n",
    "tr_data.head(5)"
   ]
  },
  {
   "cell_type": "code",
   "execution_count": 5,
   "id": "690d204d",
   "metadata": {
    "execution": {
     "iopub.execute_input": "2022-09-07T10:12:30.745730Z",
     "iopub.status.busy": "2022-09-07T10:12:30.745312Z",
     "iopub.status.idle": "2022-09-07T10:12:30.826953Z",
     "shell.execute_reply": "2022-09-07T10:12:30.825651Z"
    },
    "papermill": {
     "duration": 0.088586,
     "end_time": "2022-09-07T10:12:30.829476",
     "exception": false,
     "start_time": "2022-09-07T10:12:30.740890",
     "status": "completed"
    },
    "tags": []
   },
   "outputs": [
    {
     "name": "stdout",
     "output_type": "stream",
     "text": [
      "\n",
      "**************************************************\n",
      "\n",
      "['V_245', 'V_271', 'V_301', 'V_304', 'V_316', 'V_400', 'V_410', 'V_434']\n",
      "\n",
      "**************************************************\n",
      "\n",
      "No.of Unique Values\n",
      "\n",
      "V_245 : 2\n",
      "V_271 : 7\n",
      "V_301 : 15\n",
      "V_304 : 2\n",
      "V_316 : 3\n",
      "V_400 : 3\n",
      "V_410 : 2\n",
      "V_434 : 85\n",
      "\n",
      "**************************************************\n",
      "\n"
     ]
    }
   ],
   "source": [
    "object_columns = get_object_columns(tr_data)\n",
    "breaker()\n",
    "print(object_columns)\n",
    "breaker()\n",
    "print(\"No.of Unique Values\\n\")\n",
    "for object_column in object_columns:\n",
    "    print(f\"{object_column} : {tr_data[object_column].nunique()}\")\n",
    "breaker()"
   ]
  },
  {
   "cell_type": "code",
   "execution_count": 6,
   "id": "8062f3e4",
   "metadata": {
    "execution": {
     "iopub.execute_input": "2022-09-07T10:12:30.837980Z",
     "iopub.status.busy": "2022-09-07T10:12:30.837354Z",
     "iopub.status.idle": "2022-09-07T10:12:31.011244Z",
     "shell.execute_reply": "2022-09-07T10:12:31.009896Z"
    },
    "papermill": {
     "duration": 0.181596,
     "end_time": "2022-09-07T10:12:31.014257",
     "exception": false,
     "start_time": "2022-09-07T10:12:30.832661",
     "status": "completed"
    },
    "tags": []
   },
   "outputs": [
    {
     "data": {
      "image/png": "[encoded data removed]",
      "text/plain": [
       "<Figure size 432x288 with 1 Axes>"
      ]
     },
     "metadata": {
      "needs_background": "light"
     },
     "output_type": "display_data"
    }
   ],
   "source": [
    "sns.countplot(data=tr_data, x=\"TARGET\")\n",
    "plt.grid()\n",
    "plt.title(\"TARGET Class Count\")\n",
    "plt.show()"
   ]
  },
  {
   "cell_type": "code",
   "execution_count": 7,
   "id": "08a37e02",
   "metadata": {
    "execution": {
     "iopub.execute_input": "2022-09-07T10:12:31.024364Z",
     "iopub.status.busy": "2022-09-07T10:12:31.022903Z",
     "iopub.status.idle": "2022-09-07T10:12:31.875250Z",
     "shell.execute_reply": "2022-09-07T10:12:31.874050Z"
    },
    "papermill": {
     "duration": 0.859728,
     "end_time": "2022-09-07T10:12:31.877725",
     "exception": false,
     "start_time": "2022-09-07T10:12:31.017997",
     "status": "completed"
    },
    "tags": []
   },
   "outputs": [
    {
     "name": "stdout",
     "output_type": "stream",
     "text": [
      "\n",
      "**************************************************\n",
      "\n",
      "Dataset Mean : 1975.16\n",
      "Dataset Std  : 32099.38\n",
      "\n",
      "**************************************************\n",
      "\n"
     ]
    }
   ],
   "source": [
    "tr_data.drop(columns=object_columns, inplace=True)\n",
    "features = tr_data.iloc[:, :-1]\n",
    "\n",
    "breaker()\n",
    "print(f\"Dataset Mean : {features.mean().mean():.2f}\")\n",
    "print(f\"Dataset Std  : {features.std().std():.2f}\")\n",
    "breaker()"
   ]
  }
 ],
 "metadata": {
  "kernelspec": {
   "display_name": "Python 3",
   "language": "python",
   "name": "python3"
  },
  "language_info": {
   "codemirror_mode": {
    "name": "ipython",
    "version": 3
   },
   "file_extension": ".py",
   "mimetype": "text/x-python",
   "name": "python",
   "nbconvert_exporter": "python",
   "pygments_lexer": "ipython3",
   "version": "3.7.12"
  },
  "papermill": {
   "default_parameters": {},
   "duration": 20.188251,
   "end_time": "2022-09-07T10:12:32.704081",
   "environment_variables": {},
   "exception": null,
   "input_path": "__notebook__.ipynb",
   "output_path": "__notebook__.ipynb",
   "parameters": {},
   "start_time": "2022-09-07T10:12:12.515830",
   "version": "2.3.4"
  }
 },
 "nbformat": 4,
 "nbformat_minor": 5
}
