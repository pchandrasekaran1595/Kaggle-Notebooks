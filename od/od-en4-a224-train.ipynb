{
 "cells": [
  {
   "cell_type": "markdown",
   "id": "b24592d0",
   "metadata": {
    "_cell_guid": "b1076dfc-b9ad-4769-8c92-a6c4dae69d19",
    "_uuid": "8f2839f25d086af736a60e9eeb907d3b93b6e0e5",
    "papermill": {
     "duration": 0.005007,
     "end_time": "2022-09-12T06:55:53.304188",
     "exception": false,
     "start_time": "2022-09-12T06:55:53.299181",
     "status": "completed"
    },
    "tags": []
   },
   "source": [
    "### **Setup**"
   ]
  },
  {
   "cell_type": "code",
   "execution_count": 1,
   "id": "49c5651d",
   "metadata": {
    "execution": {
     "iopub.execute_input": "2022-09-12T06:55:53.314253Z",
     "iopub.status.busy": "2022-09-12T06:55:53.313238Z",
     "iopub.status.idle": "2022-09-12T06:56:04.413740Z",
     "shell.execute_reply": "2022-09-12T06:56:04.412579Z"
    },
    "papermill": {
     "duration": 11.107933,
     "end_time": "2022-09-12T06:56:04.416149",
     "exception": false,
     "start_time": "2022-09-12T06:55:53.308216",
     "status": "completed"
    },
    "tags": []
   },
   "outputs": [
    {
     "name": "stderr",
     "output_type": "stream",
     "text": [
      "WARNING: Running pip as the 'root' user can result in broken permissions and conflicting behaviour with the system package manager. It is recommended to use a virtual environment instead: https://pip.pypa.io/warnings/venv\n"
     ]
    }
   ],
   "source": [
    "%%bash\n",
    "pip install timm -q"
   ]
  },
  {
   "cell_type": "markdown",
   "id": "d0e27dc2",
   "metadata": {
    "papermill": {
     "duration": 0.003749,
     "end_time": "2022-09-12T06:56:04.424329",
     "exception": false,
     "start_time": "2022-09-12T06:56:04.420580",
     "status": "completed"
    },
    "tags": []
   },
   "source": [
    "### **Library Imports**"
   ]
  },
  {
   "cell_type": "code",
   "execution_count": 2,
   "id": "fe8f82af",
   "metadata": {
    "execution": {
     "iopub.execute_input": "2022-09-12T06:56:04.433662Z",
     "iopub.status.busy": "2022-09-12T06:56:04.433303Z",
     "iopub.status.idle": "2022-09-12T06:56:08.529909Z",
     "shell.execute_reply": "2022-09-12T06:56:08.528643Z"
    },
    "papermill": {
     "duration": 4.104446,
     "end_time": "2022-09-12T06:56:08.532690",
     "exception": false,
     "start_time": "2022-09-12T06:56:04.428244",
     "status": "completed"
    },
    "tags": []
   },
   "outputs": [],
   "source": [
    "import os\n",
    "import re\n",
    "import cv2\n",
    "import timm\n",
    "import torch\n",
    "import numpy as np\n",
    "import pandas as pd\n",
    "import matplotlib.pyplot as plt\n",
    "\n",
    "from time import time\n",
    "from torch import nn, optim\n",
    "from torch.utils.data import Dataset\n",
    "from torch.utils.data import DataLoader as DL\n",
    "from torchvision import models, transforms\n",
    "\n",
    "from sklearn.model_selection import KFold"
   ]
  },
  {
   "cell_type": "markdown",
   "id": "1dcd787a",
   "metadata": {
    "papermill": {
     "duration": 0.003825,
     "end_time": "2022-09-12T06:56:08.540691",
     "exception": false,
     "start_time": "2022-09-12T06:56:08.536866",
     "status": "completed"
    },
    "tags": []
   },
   "source": [
    "### **Utilities and Helpers**"
   ]
  },
  {
   "cell_type": "code",
   "execution_count": 3,
   "id": "2a211bc8",
   "metadata": {
    "execution": {
     "iopub.execute_input": "2022-09-12T06:56:08.550263Z",
     "iopub.status.busy": "2022-09-12T06:56:08.549512Z",
     "iopub.status.idle": "2022-09-12T06:56:08.562558Z",
     "shell.execute_reply": "2022-09-12T06:56:08.561592Z"
    },
    "papermill": {
     "duration": 0.020056,
     "end_time": "2022-09-12T06:56:08.564515",
     "exception": false,
     "start_time": "2022-09-12T06:56:08.544459",
     "status": "completed"
    },
    "tags": []
   },
   "outputs": [],
   "source": [
    "SEED = 42\n",
    "SIZE = 224\n",
    "\n",
    "\n",
    "def breaker(num: int=50, char: str=\"*\") -> None:\n",
    "    print(\"\\n\" + num*char + \"\\n\")\n",
    "\n",
    "    \n",
    "def get_image(path: str, size: int=224) -> np.ndarray:\n",
    "    image = cv2.imread(path, cv2.IMREAD_COLOR)\n",
    "    image = cv2.cvtColor(src=image, code=cv2.COLOR_BGR2RGB)\n",
    "    if image.shape[0] == 224 and image.shape[1] == 224: return image\n",
    "    return cv2.resize(src=image, dsize=(size, size), interpolation=cv2.INTER_AREA)\n",
    "\n",
    "\n",
    "def show_loss_graphs(L: list) -> None:\n",
    "    TL, VL = [], []\n",
    "    for i in range(len(L)):\n",
    "        TL.append(L[i][\"train\"])\n",
    "        VL.append(L[i][\"valid\"])\n",
    "    x_Axis = np.arange(1, len(TL) + 1)\n",
    "    plt.figure()\n",
    "    plt.plot(x_Axis, TL, \"r\", label=\"Train\")\n",
    "    plt.plot(x_Axis, VL, \"b\", label=\"Valid\")\n",
    "    plt.legend()\n",
    "    plt.grid()\n",
    "    plt.title(\"Loss Graph\")\n",
    "    plt.show()\n",
    "\n",
    "    \n",
    "def show_accuracy_graphs(A: list) -> None:\n",
    "    TA, VA = [], []\n",
    "    for i in range(len(A)):\n",
    "        TA.append(A[i][\"train\"])\n",
    "        VA.append(A[i][\"valid\"])\n",
    "    x_Axis = np.arange(1, len(TA) + 1)\n",
    "    plt.figure()\n",
    "    plt.plot(x_Axis, TA, \"r\", label=\"Train\")\n",
    "    plt.plot(x_Axis, VA, \"b\", label=\"Valid\")\n",
    "    plt.legend()\n",
    "    plt.grid()\n",
    "    plt.title(\"Accuracy Graph\")\n",
    "    plt.show()\n",
    "    \n",
    "\n",
    "def show_lr_graph(LR: list) -> None:\n",
    "    x_Axis = [i+1 for i in range(len(LR))]\n",
    "    plt.figure(figsize=(8, 6))\n",
    "    plt.plot(x_Axis, LR, \"rx\")\n",
    "    plt.grid()\n",
    "    plt.show()"
   ]
  },
  {
   "cell_type": "markdown",
   "id": "6db970bd",
   "metadata": {
    "papermill": {
     "duration": 0.00364,
     "end_time": "2022-09-12T06:56:08.572247",
     "exception": false,
     "start_time": "2022-09-12T06:56:08.568607",
     "status": "completed"
    },
    "tags": []
   },
   "source": [
    "### **Configuration**"
   ]
  },
  {
   "cell_type": "code",
   "execution_count": 4,
   "id": "e3f1ae78",
   "metadata": {
    "execution": {
     "iopub.execute_input": "2022-09-12T06:56:08.581710Z",
     "iopub.status.busy": "2022-09-12T06:56:08.580927Z",
     "iopub.status.idle": "2022-09-12T06:56:08.651609Z",
     "shell.execute_reply": "2022-09-12T06:56:08.650679Z"
    },
    "papermill": {
     "duration": 0.077418,
     "end_time": "2022-09-12T06:56:08.653565",
     "exception": false,
     "start_time": "2022-09-12T06:56:08.576147",
     "status": "completed"
    },
    "tags": []
   },
   "outputs": [],
   "source": [
    "class CFG(object):\n",
    "    def __init__(self, \n",
    "                 seed: int = 42,\n",
    "                 size: int = 224,\n",
    "                 n_splits: int = 5,\n",
    "                 batch_size: int = 16,\n",
    "                 epochs: int = 25,\n",
    "                 early_stopping: int = 5,\n",
    "                 lr: float = 1e-4,\n",
    "                 wd: float = 0.0,\n",
    "                 max_lr: float = 1e-3,\n",
    "                 pct_start: float = 0.2,\n",
    "                 steps_per_epoch: int = 100,\n",
    "                 div_factor: int = 1e3, \n",
    "                 final_div_factor: float = 1e3,\n",
    "                 ):\n",
    "        self.seed = seed\n",
    "        self.size = size\n",
    "        self.n_splits = n_splits\n",
    "        self.batch_size = batch_size\n",
    "        self.epochs = epochs\n",
    "        self.early_stopping = early_stopping\n",
    "        self.lr = lr\n",
    "        self.wd = wd\n",
    "        self.max_lr = max_lr\n",
    "        self.pct_start = pct_start\n",
    "        self.steps_per_epoch = steps_per_epoch\n",
    "        self.div_factor = div_factor\n",
    "        self.final_div_factor = final_div_factor\n",
    "        self.device = torch.device(\"cuda\" if torch.cuda.is_available() else \"cpu\")\n",
    "        self.train_transform = transforms.Compose([\n",
    "            transforms.ToTensor(),\n",
    "            transforms.Normalize([0.56282, 0.56285, 0.56285], [0.17654, 0.17659, 0.17659]),\n",
    "            transforms.RandomAffine(degrees=(-45, 45), translate=(0.15, 0.15), scale=(0.5, 1.5)),\n",
    "            transforms.RandomHorizontalFlip(p=0.25),\n",
    "            transforms.RandomVerticalFlip(p=0.25),\n",
    "        ])\n",
    "        self.valid_transform = transforms.Compose([\n",
    "            transforms.ToTensor(),\n",
    "            transforms.Normalize([0.56282, 0.56285, 0.56285], [0.17654, 0.17659, 0.17659]),\n",
    "        ])\n",
    "                                \n",
    "        self.save_path = \"saves\"\n",
    "        if not os.path.exists(self.save_path): os.makedirs(self.save_path)\n",
    "    \n",
    "cfg = CFG(seed=SEED, size=SIZE)"
   ]
  },
  {
   "cell_type": "markdown",
   "id": "b5fefcba",
   "metadata": {
    "papermill": {
     "duration": 0.003793,
     "end_time": "2022-09-12T06:56:08.661555",
     "exception": false,
     "start_time": "2022-09-12T06:56:08.657762",
     "status": "completed"
    },
    "tags": []
   },
   "source": [
    "### **Dataset Template**"
   ]
  },
  {
   "cell_type": "code",
   "execution_count": 5,
   "id": "e8b4cdbc",
   "metadata": {
    "execution": {
     "iopub.execute_input": "2022-09-12T06:56:08.671095Z",
     "iopub.status.busy": "2022-09-12T06:56:08.670242Z",
     "iopub.status.idle": "2022-09-12T06:56:08.676996Z",
     "shell.execute_reply": "2022-09-12T06:56:08.676072Z"
    },
    "papermill": {
     "duration": 0.013775,
     "end_time": "2022-09-12T06:56:08.679156",
     "exception": false,
     "start_time": "2022-09-12T06:56:08.665381",
     "status": "completed"
    },
    "tags": []
   },
   "outputs": [],
   "source": [
    "class DS(Dataset):\n",
    "    def __init__(\n",
    "        self, \n",
    "        filenames: np.ndarray, \n",
    "        labels: np.ndarray, \n",
    "        size: int,\n",
    "        transform=None):\n",
    "        \n",
    "        self.filenames = filenames\n",
    "        self.labels = labels\n",
    "        self.size = size\n",
    "        self.transform = transform\n",
    "    \n",
    "    def __len__(self):\n",
    "        return self.filenames.shape[0]\n",
    "    \n",
    "    def __getitem__(self, idx):\n",
    "        image = get_image(filenames[idx], self.size)\n",
    "        return self.transform(image), torch.FloatTensor(self.labels[idx])"
   ]
  },
  {
   "cell_type": "markdown",
   "id": "797dbb1c",
   "metadata": {
    "papermill": {
     "duration": 0.004209,
     "end_time": "2022-09-12T06:56:08.687304",
     "exception": false,
     "start_time": "2022-09-12T06:56:08.683095",
     "status": "completed"
    },
    "tags": []
   },
   "source": [
    "### **Model**"
   ]
  },
  {
   "cell_type": "code",
   "execution_count": 6,
   "id": "2f574b6d",
   "metadata": {
    "execution": {
     "iopub.execute_input": "2022-09-12T06:56:08.696289Z",
     "iopub.status.busy": "2022-09-12T06:56:08.696032Z",
     "iopub.status.idle": "2022-09-12T06:56:08.702133Z",
     "shell.execute_reply": "2022-09-12T06:56:08.701088Z"
    },
    "papermill": {
     "duration": 0.013084,
     "end_time": "2022-09-12T06:56:08.704404",
     "exception": false,
     "start_time": "2022-09-12T06:56:08.691320",
     "status": "completed"
    },
    "tags": []
   },
   "outputs": [],
   "source": [
    "class Model(nn.Module):\n",
    "    def __init__(self):\n",
    "        super(Model, self).__init__()\n",
    "        \n",
    "        self.model = timm.create_model(model_name=\"efficientnet_b4\", pretrained=True)\n",
    "        self.model.classifier = nn.Linear(in_features=self.model.classifier.in_features, out_features=1)\n",
    "            \n",
    "    def freeze(self):\n",
    "        for params in self.parameters(): params.requires_grad = False\n",
    "\n",
    "    def forward(self, x):\n",
    "        return self.model(x)"
   ]
  },
  {
   "cell_type": "markdown",
   "id": "238e42fb",
   "metadata": {
    "papermill": {
     "duration": 0.003749,
     "end_time": "2022-09-12T06:56:08.712134",
     "exception": false,
     "start_time": "2022-09-12T06:56:08.708385",
     "status": "completed"
    },
    "tags": []
   },
   "source": [
    "### **Fit and Predict**"
   ]
  },
  {
   "cell_type": "code",
   "execution_count": 7,
   "id": "67257901",
   "metadata": {
    "execution": {
     "iopub.execute_input": "2022-09-12T06:56:08.721373Z",
     "iopub.status.busy": "2022-09-12T06:56:08.721120Z",
     "iopub.status.idle": "2022-09-12T06:56:08.745468Z",
     "shell.execute_reply": "2022-09-12T06:56:08.744645Z"
    },
    "papermill": {
     "duration": 0.031639,
     "end_time": "2022-09-12T06:56:08.747695",
     "exception": false,
     "start_time": "2022-09-12T06:56:08.716056",
     "status": "completed"
    },
    "tags": []
   },
   "outputs": [],
   "source": [
    "def fit(model=None,\n",
    "        optimizer=None, \n",
    "        scheduler_rlrop=None,\n",
    "        scheduler_oclr=None,\n",
    "        epochs=None, \n",
    "        early_stopping_patience=None, \n",
    "        dataloaders=None, \n",
    "        fold=None, \n",
    "        save_path=None,\n",
    "        device=None,\n",
    "        verbose=False) -> tuple:  \n",
    "    \n",
    "    def get_accuracy(y_pred, y_true):\n",
    "        y_pred = torch.sigmoid(y_pred)\n",
    "        \n",
    "        y_pred[y_pred <= 0.5] = 0\n",
    "        y_pred[y_pred > 0.5] = 1\n",
    "\n",
    "        return torch.count_nonzero(y_pred == y_true).item() / len(y_pred)\n",
    "    \n",
    "    if verbose:\n",
    "        breaker()\n",
    "        if fold: print(f\"Training Fold {fold}...\")\n",
    "        else: print(\"Training ...\")\n",
    "        breaker()\n",
    "        \n",
    "    bestLoss: dict = {\"train\" : np.inf, \"valid\" : np.inf} \n",
    "    bestAccs: dict = {\"train\" : 0.0, \"valid\" : 0.0}\n",
    "        \n",
    "    Losses: list = []\n",
    "    Accuracies: list = [] \n",
    "    LRs: list = []\n",
    "        \n",
    "    if fold: \n",
    "        ble_name = f\"ble_state_fold_{fold}.pt\"\n",
    "        bae_name = f\"bae_state_fold_{fold}.pt\"\n",
    "    else: \n",
    "        ble_name = f\"ble_state.pt\"\n",
    "        bae_name = f\"bae_state.pt\"\n",
    "    \n",
    "    start_time = time()\n",
    "    for e in range(epochs):\n",
    "        e_st = time()\n",
    "        epochLoss: dict = {\"train\" : 0.0, \"valid\" : 0.0} \n",
    "        epochAccs: dict = {\"train\" : 0.0, \"valid\" : 0.0}\n",
    "\n",
    "        for phase in [\"train\", \"valid\"]:\n",
    "            if phase == \"train\": model.train()\n",
    "            else: model.eval()\n",
    "            \n",
    "            lossPerPass: list = []\n",
    "            accsPerPass: list = []\n",
    "                \n",
    "            for X, y in dataloaders[phase]:\n",
    "                X, y = X.to(device), y.to(device)\n",
    "\n",
    "                optimizer.zero_grad()\n",
    "                with torch.set_grad_enabled(phase == \"train\"):\n",
    "                    output = model(X)\n",
    "                    loss = torch.nn.BCEWithLogitsLoss()(output, y)\n",
    "                    if phase == \"train\":\n",
    "                        loss.backward()\n",
    "                        optimizer.step()\n",
    "                        if scheduler_oclr: scheduler_oclr.step()\n",
    "                lossPerPass.append(loss.item())\n",
    "                accsPerPass.append(get_accuracy(output, y))\n",
    "            epochLoss[phase] = np.mean(np.array(lossPerPass))\n",
    "            epochAccs[phase] = np.mean(np.array(accsPerPass))\n",
    "        if scheduler_oclr: LRs.append(scheduler_oclr.get_last_lr())\n",
    "        Losses.append(epochLoss)\n",
    "        Accuracies.append(epochAccs)\n",
    "    \n",
    "        if scheduler_oclr:\n",
    "            save_dict = {\"model_state_dict\"     : model.state_dict(),\n",
    "                         \"optim_state_dict\"     : optimizer.state_dict(),\n",
    "                         \"scheduler_state_dict\" : scheduler_oclr.state_dict()}\n",
    "        \n",
    "        elif scheduler_rlrop:\n",
    "            save_dict = {\"model_state_dict\"     : model.state_dict(),\n",
    "                         \"optim_state_dict\"     : optimizer.state_dict(),\n",
    "                         \"scheduler_state_dict\" : scheduler_rlrop.state_dict()}\n",
    "        \n",
    "        else:\n",
    "            save_dict = {\"model_state_dict\"     : model.state_dict(),\n",
    "                         \"optim_state_dict\"     : optimizer.state_dict()}\n",
    "        \n",
    "        \n",
    "        if early_stopping_patience:\n",
    "            if epochLoss[\"valid\"] < bestLoss[\"valid\"]:\n",
    "                bestLoss = epochLoss\n",
    "                BLE = e + 1\n",
    "                torch.save(save_dict, os.path.join(save_path, ble_name))\n",
    "                early_stopping_step = 0\n",
    "            else:\n",
    "                early_stopping_step += 1\n",
    "                if early_stopping_step > early_stopping_patience:\n",
    "                    print(\"\\nEarly Stopping at Epoch {}\".format(e + 1))\n",
    "                    break\n",
    "        \n",
    "        if epochLoss[\"valid\"] < bestLoss[\"valid\"]:\n",
    "            bestLoss = epochLoss\n",
    "            BLE = e + 1\n",
    "            torch.save(save_dict,os.path.join(save_path, ble_name))\n",
    "        \n",
    "        if epochAccs[\"valid\"] > bestAccs[\"valid\"]:\n",
    "            bestAccs = epochAccs\n",
    "            BAE = e + 1\n",
    "            torch.save(save_dict,os.path.join(save_path, bae_name))\n",
    "        \n",
    "        if scheduler_rlrop: scheduler_rlrop.step(epochLoss[\"valid\"])\n",
    "        \n",
    "        if verbose:\n",
    "            print(\"Epoch: {} | Train Loss: {:.5f} | Valid Loss: {:.5f} |\\\n",
    " Train Accs: {:.5f} | Valid Accs: {:.5f} | Time: {:.2f} seconds\".format(e+1, \n",
    "                                                                        epochLoss[\"train\"], epochLoss[\"valid\"], \n",
    "                                                                        epochAccs[\"train\"], epochAccs[\"valid\"], \n",
    "                                                                        time()-e_st))\n",
    "\n",
    "    if verbose:                                           \n",
    "        breaker()\n",
    "        print(f\"Best Validation Loss at Epoch {BLE}\")\n",
    "        breaker()\n",
    "        print(f\"Best Validation Accs at Epoch {BAE}\")\n",
    "        breaker()\n",
    "        print(\"Time Taken [{} Epochs] : {:.2f} minutes\".format(len(Losses), (time()-start_time)/60))\n",
    "    \n",
    "    return Losses, Accuracies, LRs, BLE, BAE, ble_name, bae_name\n",
    "\n",
    "\n",
    "def predict_batch(\n",
    "    model=None, \n",
    "    dataloader=None, \n",
    "    path=None, \n",
    "    device=None\n",
    ") -> np.ndarray:\n",
    "    \n",
    "    model.load_state_dict(torch.load(path, map_location=device)[\"model_state_dict\"])\n",
    "    model.to(device)    \n",
    "    model.eval()\n",
    "    \n",
    "    y_pred = torch.zeros(1, 1).to(device)\n",
    "    \n",
    "    for X in dataloader:\n",
    "        X = X.to(device)\n",
    "        with torch.no_grad():\n",
    "            output = torch.sigmoid(model(X))\n",
    "        y_pred = torch.cat((y_pred, output.view(-1, 1)), dim=0)\n",
    "    \n",
    "    return y_pred[1:].detach().cpu().numpy()"
   ]
  },
  {
   "cell_type": "markdown",
   "id": "78af99de",
   "metadata": {
    "papermill": {
     "duration": 0.004663,
     "end_time": "2022-09-12T06:56:08.756724",
     "exception": false,
     "start_time": "2022-09-12T06:56:08.752061",
     "status": "completed"
    },
    "tags": []
   },
   "source": [
    "### **Train**"
   ]
  },
  {
   "cell_type": "code",
   "execution_count": 8,
   "id": "ea247477",
   "metadata": {
    "execution": {
     "iopub.execute_input": "2022-09-12T06:56:08.765631Z",
     "iopub.status.busy": "2022-09-12T06:56:08.765334Z",
     "iopub.status.idle": "2022-09-12T06:56:08.810633Z",
     "shell.execute_reply": "2022-09-12T06:56:08.809734Z"
    },
    "papermill": {
     "duration": 0.052096,
     "end_time": "2022-09-12T06:56:08.812746",
     "exception": false,
     "start_time": "2022-09-12T06:56:08.760650",
     "status": "completed"
    },
    "tags": []
   },
   "outputs": [],
   "source": [
    "tr_data = pd.read_csv(\"../input/od-dataframes/train.csv\")\n",
    "ts_data = pd.read_csv(\"../input/od-dataframes/test.csv\")\n",
    "\n",
    "filenames: np.ndarray = tr_data.filenames.copy().values\n",
    "labels: np.ndarray = tr_data.label.copy().values   "
   ]
  },
  {
   "cell_type": "code",
   "execution_count": 9,
   "id": "6962ebef",
   "metadata": {
    "execution": {
     "iopub.execute_input": "2022-09-12T06:56:08.821986Z",
     "iopub.status.busy": "2022-09-12T06:56:08.821717Z",
     "iopub.status.idle": "2022-09-12T07:23:52.324090Z",
     "shell.execute_reply": "2022-09-12T07:23:52.322847Z"
    },
    "papermill": {
     "duration": 1663.509562,
     "end_time": "2022-09-12T07:23:52.326226",
     "exception": false,
     "start_time": "2022-09-12T06:56:08.816664",
     "status": "completed"
    },
    "tags": []
   },
   "outputs": [
    {
     "name": "stderr",
     "output_type": "stream",
     "text": [
      "Downloading: \"https://github.com/rwightman/pytorch-image-models/releases/download/v0.1-weights/efficientnet_b4_ra2_320-7eb33cd5.pth\" to /root/.cache/torch/hub/checkpoints/efficientnet_b4_ra2_320-7eb33cd5.pth\n"
     ]
    },
    {
     "name": "stdout",
     "output_type": "stream",
     "text": [
      "\n",
      "**************************************************\n",
      "\n",
      "Training Fold 1...\n",
      "\n",
      "**************************************************\n",
      "\n",
      "Epoch: 1 | Train Loss: 0.66304 | Valid Loss: 0.66031 | Train Accs: 0.62708 | Valid Accs: 0.62993 | Time: 67.62 seconds\n",
      "Epoch: 2 | Train Loss: 0.48671 | Valid Loss: 0.91565 | Train Accs: 0.72958 | Valid Accs: 0.38651 | Time: 46.70 seconds\n",
      "Epoch: 3 | Train Loss: 0.39604 | Valid Loss: 0.92785 | Train Accs: 0.80375 | Valid Accs: 0.38980 | Time: 47.25 seconds\n",
      "Epoch: 4 | Train Loss: 0.35564 | Valid Loss: 1.48107 | Train Accs: 0.83417 | Valid Accs: 0.36842 | Time: 47.64 seconds\n",
      "Epoch: 5 | Train Loss: 0.36513 | Valid Loss: 0.88501 | Train Accs: 0.82125 | Valid Accs: 0.40461 | Time: 46.45 seconds\n",
      "Epoch: 6 | Train Loss: 0.33112 | Valid Loss: 1.26649 | Train Accs: 0.84792 | Valid Accs: 0.39967 | Time: 46.08 seconds\n",
      "\n",
      "Early Stopping at Epoch 7\n",
      "\n",
      "**************************************************\n",
      "\n",
      "Best Validation Loss at Epoch 1\n",
      "\n",
      "**************************************************\n",
      "\n",
      "Best Validation Accs at Epoch 1\n",
      "\n",
      "**************************************************\n",
      "\n",
      "Time Taken [7 Epochs] : 5.80 minutes\n",
      "\n",
      "**************************************************\n",
      "\n"
     ]
    },
    {
     "data": {
      "image/png": "[encoded data removed]",
      "text/plain": [
       "<Figure size 432x288 with 1 Axes>"
      ]
     },
     "metadata": {
      "needs_background": "light"
     },
     "output_type": "display_data"
    },
    {
     "name": "stdout",
     "output_type": "stream",
     "text": [
      "\n",
      "**************************************************\n",
      "\n"
     ]
    },
    {
     "data": {
      "image/png": "[encoded data removed]",
      "text/plain": [
       "<Figure size 432x288 with 1 Axes>"
      ]
     },
     "metadata": {
      "needs_background": "light"
     },
     "output_type": "display_data"
    },
    {
     "name": "stdout",
     "output_type": "stream",
     "text": [
      "\n",
      "**************************************************\n",
      "\n"
     ]
    },
    {
     "data": {
      "image/png": "[encoded data removed]",
      "text/plain": [
       "<Figure size 576x432 with 1 Axes>"
      ]
     },
     "metadata": {
      "needs_background": "light"
     },
     "output_type": "display_data"
    },
    {
     "name": "stdout",
     "output_type": "stream",
     "text": [
      "\n",
      "**************************************************\n",
      "\n",
      "\n",
      "**************************************************\n",
      "\n",
      "Training Fold 2...\n",
      "\n",
      "**************************************************\n",
      "\n",
      "Epoch: 1 | Train Loss: 0.67881 | Valid Loss: 0.67080 | Train Accs: 0.59995 | Valid Accs: 0.68594 | Time: 42.42 seconds\n",
      "Epoch: 2 | Train Loss: 0.57956 | Valid Loss: 0.66723 | Train Accs: 0.66949 | Valid Accs: 0.61463 | Time: 41.64 seconds\n",
      "Epoch: 3 | Train Loss: 0.41935 | Valid Loss: 1.22245 | Train Accs: 0.79243 | Valid Accs: 0.31250 | Time: 40.67 seconds\n",
      "Epoch: 4 | Train Loss: 0.34758 | Valid Loss: 1.03910 | Train Accs: 0.83748 | Valid Accs: 0.39006 | Time: 40.85 seconds\n",
      "Epoch: 5 | Train Loss: 0.32629 | Valid Loss: 2.68852 | Train Accs: 0.84388 | Valid Accs: 0.31094 | Time: 41.40 seconds\n",
      "Epoch: 6 | Train Loss: 0.32837 | Valid Loss: 1.06937 | Train Accs: 0.85257 | Valid Accs: 0.31875 | Time: 40.09 seconds\n",
      "Epoch: 7 | Train Loss: 0.27861 | Valid Loss: 1.12818 | Train Accs: 0.87102 | Valid Accs: 0.37770 | Time: 40.31 seconds\n",
      "\n",
      "Early Stopping at Epoch 8\n",
      "\n",
      "**************************************************\n",
      "\n",
      "Best Validation Loss at Epoch 2\n",
      "\n",
      "**************************************************\n",
      "\n",
      "Best Validation Accs at Epoch 1\n",
      "\n",
      "**************************************************\n",
      "\n",
      "Time Taken [8 Epochs] : 5.46 minutes\n",
      "\n",
      "**************************************************\n",
      "\n"
     ]
    },
    {
     "data": {
      "image/png": "[encoded data removed]",
      "text/plain": [
       "<Figure size 432x288 with 1 Axes>"
      ]
     },
     "metadata": {
      "needs_background": "light"
     },
     "output_type": "display_data"
    },
    {
     "name": "stdout",
     "output_type": "stream",
     "text": [
      "\n",
      "**************************************************\n",
      "\n"
     ]
    },
    {
     "data": {
      "image/png": "[encoded data removed]",
      "text/plain": [
       "<Figure size 432x288 with 1 Axes>"
      ]
     },
     "metadata": {
      "needs_background": "light"
     },
     "output_type": "display_data"
    },
    {
     "name": "stdout",
     "output_type": "stream",
     "text": [
      "\n",
      "**************************************************\n",
      "\n"
     ]
    },
    {
     "data": {
      "image/png": "[encoded data removed]",
      "text/plain": [
       "<Figure size 576x432 with 1 Axes>"
      ]
     },
     "metadata": {
      "needs_background": "light"
     },
     "output_type": "display_data"
    },
    {
     "name": "stdout",
     "output_type": "stream",
     "text": [
      "\n",
      "**************************************************\n",
      "\n",
      "\n",
      "**************************************************\n",
      "\n",
      "Training Fold 3...\n",
      "\n",
      "**************************************************\n",
      "\n",
      "Epoch: 1 | Train Loss: 0.67892 | Valid Loss: 0.66986 | Train Accs: 0.59995 | Valid Accs: 0.69844 | Time: 41.78 seconds\n",
      "Epoch: 2 | Train Loss: 0.58011 | Valid Loss: 0.66436 | Train Accs: 0.66414 | Valid Accs: 0.62244 | Time: 41.58 seconds\n",
      "Epoch: 3 | Train Loss: 0.41717 | Valid Loss: 1.24020 | Train Accs: 0.79408 | Valid Accs: 0.29844 | Time: 40.15 seconds\n",
      "Epoch: 4 | Train Loss: 0.34391 | Valid Loss: 1.07685 | Train Accs: 0.84324 | Valid Accs: 0.41662 | Time: 40.86 seconds\n",
      "Epoch: 5 | Train Loss: 0.32767 | Valid Loss: 3.17512 | Train Accs: 0.85480 | Valid Accs: 0.30156 | Time: 40.21 seconds\n",
      "Epoch: 6 | Train Loss: 0.32274 | Valid Loss: 0.99169 | Train Accs: 0.85339 | Valid Accs: 0.31406 | Time: 40.57 seconds\n",
      "Epoch: 7 | Train Loss: 0.28216 | Valid Loss: 1.12004 | Train Accs: 0.87092 | Valid Accs: 0.34517 | Time: 40.12 seconds\n",
      "\n",
      "Early Stopping at Epoch 8\n",
      "\n",
      "**************************************************\n",
      "\n",
      "Best Validation Loss at Epoch 2\n",
      "\n",
      "**************************************************\n",
      "\n",
      "Best Validation Accs at Epoch 1\n",
      "\n",
      "**************************************************\n",
      "\n",
      "Time Taken [8 Epochs] : 5.44 minutes\n",
      "\n",
      "**************************************************\n",
      "\n"
     ]
    },
    {
     "data": {
      "image/png": "[encoded data removed]",
      "text/plain": [
       "<Figure size 432x288 with 1 Axes>"
      ]
     },
     "metadata": {
      "needs_background": "light"
     },
     "output_type": "display_data"
    },
    {
     "name": "stdout",
     "output_type": "stream",
     "text": [
      "\n",
      "**************************************************\n",
      "\n"
     ]
    },
    {
     "data": {
      "image/png": "[encoded data removed]",
      "text/plain": [
       "<Figure size 432x288 with 1 Axes>"
      ]
     },
     "metadata": {
      "needs_background": "light"
     },
     "output_type": "display_data"
    },
    {
     "name": "stdout",
     "output_type": "stream",
     "text": [
      "\n",
      "**************************************************\n",
      "\n"
     ]
    },
    {
     "data": {
      "image/png": "[encoded data removed]",
      "text/plain": [
       "<Figure size 576x432 with 1 Axes>"
      ]
     },
     "metadata": {
      "needs_background": "light"
     },
     "output_type": "display_data"
    },
    {
     "name": "stdout",
     "output_type": "stream",
     "text": [
      "\n",
      "**************************************************\n",
      "\n",
      "\n",
      "**************************************************\n",
      "\n",
      "Training Fold 4...\n",
      "\n",
      "**************************************************\n",
      "\n",
      "Epoch: 1 | Train Loss: 0.67889 | Valid Loss: 0.67264 | Train Accs: 0.59707 | Valid Accs: 0.66875 | Time: 40.46 seconds\n",
      "Epoch: 2 | Train Loss: 0.57905 | Valid Loss: 0.66550 | Train Accs: 0.67137 | Valid Accs: 0.61932 | Time: 40.58 seconds\n",
      "Epoch: 3 | Train Loss: 0.42220 | Valid Loss: 1.10976 | Train Accs: 0.78439 | Valid Accs: 0.32969 | Time: 39.90 seconds\n",
      "Epoch: 4 | Train Loss: 0.35541 | Valid Loss: 0.98616 | Train Accs: 0.83132 | Valid Accs: 0.37330 | Time: 39.66 seconds\n",
      "Epoch: 5 | Train Loss: 0.32981 | Valid Loss: 3.01114 | Train Accs: 0.84512 | Valid Accs: 0.32656 | Time: 39.85 seconds\n",
      "Epoch: 6 | Train Loss: 0.32899 | Valid Loss: 1.03828 | Train Accs: 0.84845 | Valid Accs: 0.35923 | Time: 40.03 seconds\n",
      "Epoch: 7 | Train Loss: 0.28779 | Valid Loss: 1.04803 | Train Accs: 0.87061 | Valid Accs: 0.39020 | Time: 39.26 seconds\n",
      "\n",
      "Early Stopping at Epoch 8\n",
      "\n",
      "**************************************************\n",
      "\n",
      "Best Validation Loss at Epoch 2\n",
      "\n",
      "**************************************************\n",
      "\n",
      "Best Validation Accs at Epoch 1\n",
      "\n",
      "**************************************************\n",
      "\n",
      "Time Taken [8 Epochs] : 5.32 minutes\n",
      "\n",
      "**************************************************\n",
      "\n"
     ]
    },
    {
     "data": {
      "image/png": "[encoded data removed]",
      "text/plain": [
       "<Figure size 432x288 with 1 Axes>"
      ]
     },
     "metadata": {
      "needs_background": "light"
     },
     "output_type": "display_data"
    },
    {
     "name": "stdout",
     "output_type": "stream",
     "text": [
      "\n",
      "**************************************************\n",
      "\n"
     ]
    },
    {
     "data": {
      "image/png": "[encoded data removed]",
      "text/plain": [
       "<Figure size 432x288 with 1 Axes>"
      ]
     },
     "metadata": {
      "needs_background": "light"
     },
     "output_type": "display_data"
    },
    {
     "name": "stdout",
     "output_type": "stream",
     "text": [
      "\n",
      "**************************************************\n",
      "\n"
     ]
    },
    {
     "data": {
      "image/png": "[encoded data removed]",
      "text/plain": [
       "<Figure size 576x432 with 1 Axes>"
      ]
     },
     "metadata": {
      "needs_background": "light"
     },
     "output_type": "display_data"
    },
    {
     "name": "stdout",
     "output_type": "stream",
     "text": [
      "\n",
      "**************************************************\n",
      "\n",
      "\n",
      "**************************************************\n",
      "\n",
      "Training Fold 5...\n",
      "\n",
      "**************************************************\n",
      "\n",
      "Epoch: 1 | Train Loss: 0.67887 | Valid Loss: 0.67038 | Train Accs: 0.59995 | Valid Accs: 0.69219 | Time: 41.55 seconds\n",
      "Epoch: 2 | Train Loss: 0.57965 | Valid Loss: 0.66757 | Train Accs: 0.66579 | Valid Accs: 0.61619 | Time: 41.45 seconds\n",
      "Epoch: 3 | Train Loss: 0.41782 | Valid Loss: 1.20470 | Train Accs: 0.79285 | Valid Accs: 0.30625 | Time: 41.54 seconds\n",
      "Epoch: 4 | Train Loss: 0.34766 | Valid Loss: 0.98866 | Train Accs: 0.83625 | Valid Accs: 0.38082 | Time: 41.02 seconds\n",
      "Epoch: 5 | Train Loss: 0.32647 | Valid Loss: 2.52613 | Train Accs: 0.84918 | Valid Accs: 0.30625 | Time: 40.88 seconds\n",
      "Epoch: 6 | Train Loss: 0.32805 | Valid Loss: 1.03032 | Train Accs: 0.85380 | Valid Accs: 0.32173 | Time: 41.25 seconds\n",
      "Epoch: 7 | Train Loss: 0.28914 | Valid Loss: 1.33175 | Train Accs: 0.86891 | Valid Accs: 0.33736 | Time: 40.81 seconds\n",
      "\n",
      "Early Stopping at Epoch 8\n",
      "\n",
      "**************************************************\n",
      "\n",
      "Best Validation Loss at Epoch 2\n",
      "\n",
      "**************************************************\n",
      "\n",
      "Best Validation Accs at Epoch 1\n",
      "\n",
      "**************************************************\n",
      "\n",
      "Time Taken [8 Epochs] : 5.50 minutes\n",
      "\n",
      "**************************************************\n",
      "\n"
     ]
    },
    {
     "data": {
      "image/png": "[encoded data removed]",
      "text/plain": [
       "<Figure size 432x288 with 1 Axes>"
      ]
     },
     "metadata": {
      "needs_background": "light"
     },
     "output_type": "display_data"
    },
    {
     "name": "stdout",
     "output_type": "stream",
     "text": [
      "\n",
      "**************************************************\n",
      "\n"
     ]
    },
    {
     "data": {
      "image/png": "[encoded data removed]",
      "text/plain": [
       "<Figure size 432x288 with 1 Axes>"
      ]
     },
     "metadata": {
      "needs_background": "light"
     },
     "output_type": "display_data"
    },
    {
     "name": "stdout",
     "output_type": "stream",
     "text": [
      "\n",
      "**************************************************\n",
      "\n"
     ]
    },
    {
     "data": {
      "image/png": "[encoded data removed]",
      "text/plain": [
       "<Figure size 576x432 with 1 Axes>"
      ]
     },
     "metadata": {
      "needs_background": "light"
     },
     "output_type": "display_data"
    },
    {
     "name": "stdout",
     "output_type": "stream",
     "text": [
      "\n",
      "**************************************************\n",
      "\n"
     ]
    }
   ],
   "source": [
    "fold: int = 1\n",
    "BLEs: list = []\n",
    "BAEs: list = []\n",
    "\n",
    "for tr_idx, va_idx in KFold(n_splits=cfg.n_splits, random_state=cfg.seed, shuffle=True).split(filenames):\n",
    "\n",
    "    tr_filenames, va_filenames = filenames[tr_idx], filenames[va_idx] \n",
    "    tr_labels, va_labels       = labels[tr_idx], labels[va_idx]\n",
    "    \n",
    "    tr_data_setup = DS(\n",
    "        filenames=tr_filenames, \n",
    "        labels=tr_labels.reshape(-1, 1),\n",
    "        size=cfg.size,\n",
    "        transform=cfg.train_transform\n",
    "    )\n",
    "    \n",
    "    va_data_setup = DS(\n",
    "        filenames=va_filenames, \n",
    "        labels=va_labels.reshape(-1, 1),\n",
    "        size=cfg.size,\n",
    "        transform=cfg.valid_transform\n",
    "    )\n",
    "\n",
    "    dataloaders = {\n",
    "        \"train\" : DL(tr_data_setup, batch_size=cfg.batch_size, shuffle=True, generator=torch.manual_seed(cfg.seed)),\n",
    "        \"valid\" : DL(va_data_setup, batch_size=cfg.batch_size, shuffle=False),\n",
    "    }\n",
    "\n",
    "    cfg = CFG(\n",
    "        epochs=25, \n",
    "        batch_size=64, \n",
    "        early_stopping=5,\n",
    "        steps_per_epoch=len(dataloaders[\"train\"])\n",
    "    )\n",
    "    \n",
    "    torch.manual_seed(cfg.seed)\n",
    "    model = Model().to(cfg.device)\n",
    "\n",
    "    optimizer = optim.Adam([p for p in model.parameters() if p.requires_grad], lr=cfg.lr, weight_decay=cfg.wd)\n",
    "    # optimizer = optim.AdamW([p for p in model.parameters() if p.requires_grad], lr=cfg.lr, weight_decay=cfg.wd)\n",
    "    # optimizer = optim.SGD([p for p in model.parameters() if p.requires_grad], lr=cfg.lr, weight_decay=cfg.wd, momentum=0.9)\n",
    "    \n",
    "    scheduler_oclr = optim.lr_scheduler.OneCycleLR(\n",
    "        optimizer=optimizer, \n",
    "        max_lr=cfg.max_lr, \n",
    "        epochs=cfg.epochs, \n",
    "        steps_per_epoch=cfg.steps_per_epoch,\n",
    "        pct_start=cfg.pct_start, \n",
    "        div_factor=cfg.div_factor, \n",
    "        final_div_factor=cfg.final_div_factor\n",
    "    )\n",
    "\n",
    "    # scheduler_rlrop = optim.lr_scheduler.ReduceLROnPlateau(\n",
    "    #     optimizer=optimizer,\n",
    "    #     patience=cfg.patience,\n",
    "    #     eps=cfg.eps,\n",
    "    #     verbose=True\n",
    "    # )\n",
    "\n",
    "    # scheduler_oclr = None\n",
    "    scheduler_rlrop = None\n",
    "    \n",
    "    L, A, LR, BLE, BAE, _, _ = fit(\n",
    "        model=model, \n",
    "        optimizer=optimizer, \n",
    "        scheduler_oclr=scheduler_oclr,\n",
    "        scheduler_rlrop=scheduler_rlrop,\n",
    "        epochs=cfg.epochs, \n",
    "        early_stopping_patience=cfg.early_stopping, \n",
    "        dataloaders=dataloaders, \n",
    "        device=cfg.device,\n",
    "        save_path=cfg.save_path,\n",
    "        fold=fold,\n",
    "        verbose=True\n",
    "    )\n",
    "    \n",
    "    breaker()\n",
    "    show_loss_graphs(L)\n",
    "    breaker()\n",
    "    show_accuracy_graphs(A)\n",
    "    breaker()\n",
    "    if scheduler_oclr:\n",
    "        show_lr_graph(LR)\n",
    "        breaker()\n",
    "    \n",
    "    BLEs.append(BLE)\n",
    "    BAEs.append(BAE)\n",
    "    fold += 1"
   ]
  },
  {
   "cell_type": "markdown",
   "id": "c67ff42f",
   "metadata": {
    "papermill": {
     "duration": 0.010584,
     "end_time": "2022-09-12T07:23:52.347756",
     "exception": false,
     "start_time": "2022-09-12T07:23:52.337172",
     "status": "completed"
    },
    "tags": []
   },
   "source": [
    "### **Best Model**"
   ]
  },
  {
   "cell_type": "code",
   "execution_count": 10,
   "id": "b809526f",
   "metadata": {
    "execution": {
     "iopub.execute_input": "2022-09-12T07:23:52.371822Z",
     "iopub.status.busy": "2022-09-12T07:23:52.370259Z",
     "iopub.status.idle": "2022-09-12T07:23:52.377549Z",
     "shell.execute_reply": "2022-09-12T07:23:52.376566Z"
    },
    "papermill": {
     "duration": 0.021478,
     "end_time": "2022-09-12T07:23:52.379790",
     "exception": false,
     "start_time": "2022-09-12T07:23:52.358312",
     "status": "completed"
    },
    "tags": []
   },
   "outputs": [
    {
     "name": "stdout",
     "output_type": "stream",
     "text": [
      "\n",
      "**************************************************\n",
      "\n",
      "Best Loss Model Fold : 1\n",
      "Best Accs Model Fold : 1\n",
      "\n",
      "**************************************************\n",
      "\n"
     ]
    }
   ],
   "source": [
    "best_loss_index = BLEs.index(min(BLEs))\n",
    "best_accs_index = BAEs.index(max(BAEs))\n",
    "\n",
    "breaker()\n",
    "print(f\"Best Loss Model Fold : {best_loss_index + 1}\")\n",
    "print(f\"Best Accs Model Fold : {best_accs_index + 1}\")\n",
    "breaker()"
   ]
  }
 ],
 "metadata": {
  "kernelspec": {
   "display_name": "Python 3",
   "language": "python",
   "name": "python3"
  },
  "language_info": {
   "codemirror_mode": {
    "name": "ipython",
    "version": 3
   },
   "file_extension": ".py",
   "mimetype": "text/x-python",
   "name": "python",
   "nbconvert_exporter": "python",
   "pygments_lexer": "ipython3",
   "version": "3.7.12"
  },
  "papermill": {
   "default_parameters": {},
   "duration": 1689.073908,
   "end_time": "2022-09-12T07:23:54.823970",
   "environment_variables": {},
   "exception": null,
   "input_path": "__notebook__.ipynb",
   "output_path": "__notebook__.ipynb",
   "parameters": {},
   "start_time": "2022-09-12T06:55:45.750062",
   "version": "2.3.4"
  }
 },
 "nbformat": 4,
 "nbformat_minor": 5
}
