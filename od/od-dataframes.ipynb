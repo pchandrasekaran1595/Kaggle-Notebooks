{
 "cells": [
  {
   "cell_type": "code",
   "execution_count": 1,
   "id": "edf5c33f",
   "metadata": {
    "_cell_guid": "b1076dfc-b9ad-4769-8c92-a6c4dae69d19",
    "_uuid": "8f2839f25d086af736a60e9eeb907d3b93b6e0e5",
    "execution": {
     "iopub.execute_input": "2022-09-12T05:32:58.891523Z",
     "iopub.status.busy": "2022-09-12T05:32:58.890599Z",
     "iopub.status.idle": "2022-09-12T05:32:58.903077Z",
     "shell.execute_reply": "2022-09-12T05:32:58.902104Z"
    },
    "papermill": {
     "duration": 0.020934,
     "end_time": "2022-09-12T05:32:58.905903",
     "exception": false,
     "start_time": "2022-09-12T05:32:58.884969",
     "status": "completed"
    },
    "tags": []
   },
   "outputs": [],
   "source": [
    "import os\n",
    "import numpy as np\n",
    "import pandas as pd"
   ]
  },
  {
   "cell_type": "code",
   "execution_count": 2,
   "id": "2b0ee708",
   "metadata": {
    "execution": {
     "iopub.execute_input": "2022-09-12T05:32:58.912251Z",
     "iopub.status.busy": "2022-09-12T05:32:58.911778Z",
     "iopub.status.idle": "2022-09-12T05:32:59.671468Z",
     "shell.execute_reply": "2022-09-12T05:32:59.669825Z"
    },
    "papermill": {
     "duration": 0.766864,
     "end_time": "2022-09-12T05:32:59.675140",
     "exception": false,
     "start_time": "2022-09-12T05:32:58.908276",
     "status": "completed"
    },
    "tags": []
   },
   "outputs": [],
   "source": [
    "TRAIN_PATH: str = \"../input/osteoarthritis-dataset/Osteoarthritis Dataset/train\"\n",
    "VALID_PATH: str = \"../input/osteoarthritis-dataset/Osteoarthritis Dataset/Valid\"\n",
    "\n",
    "tr_normal_filenames: list = [os.path.join(TRAIN_PATH + \"/Normal\", name) for name in os.listdir(TRAIN_PATH + \"/Normal\")]\n",
    "va_normal_filenames: list = [os.path.join(VALID_PATH + \"/Normal\", name) for name in os.listdir(VALID_PATH + \"/Normal\")]\n",
    "tr_osteoa_filenames: list = [os.path.join(TRAIN_PATH + \"/Osteoarthritis\", name) for name in os.listdir(TRAIN_PATH + \"/Osteoarthritis\")]\n",
    "va_osteoa_filenames: list = [os.path.join(VALID_PATH + \"/Osteoarthritis\", name) for name in os.listdir(VALID_PATH + \"/Osteoarthritis\")]\n",
    "\n",
    "tr_data = pd.DataFrame(columns=[\"filenames\", \"label\"])\n",
    "\n",
    "tr_filenames: list = tr_normal_filenames + va_normal_filenames + tr_osteoa_filenames + va_osteoa_filenames\n",
    "\n",
    "tr_labels:  np.ndarray = np.concatenate((\n",
    "    np.zeros((len(tr_normal_filenames), ), dtype=np.uint8),\n",
    "    np.zeros((len(va_normal_filenames), ), dtype=np.uint8),\n",
    "    np.ones((len(tr_osteoa_filenames), ), dtype=np.uint8),\n",
    "    np.ones((len(va_osteoa_filenames), ), dtype=np.uint8)\n",
    "), axis=0)\n",
    "\n",
    "tr_data.filenames = tr_filenames\n",
    "tr_data.label = tr_labels\n",
    "\n",
    "tr_data.to_csv(\"train.csv\", index=False)"
   ]
  },
  {
   "cell_type": "code",
   "execution_count": 3,
   "id": "66a467ca",
   "metadata": {
    "execution": {
     "iopub.execute_input": "2022-09-12T05:32:59.681731Z",
     "iopub.status.busy": "2022-09-12T05:32:59.681242Z",
     "iopub.status.idle": "2022-09-12T05:33:00.022867Z",
     "shell.execute_reply": "2022-09-12T05:33:00.021872Z"
    },
    "papermill": {
     "duration": 0.348547,
     "end_time": "2022-09-12T05:33:00.026063",
     "exception": false,
     "start_time": "2022-09-12T05:32:59.677516",
     "status": "completed"
    },
    "tags": []
   },
   "outputs": [],
   "source": [
    "TEST_PATH: str = \"../input/osteoarthritis-dataset/Osteoarthritis Dataset/test\"\n",
    "\n",
    "ts_normal_filenames: list = [os.path.join(TEST_PATH + \"/Normal\", name) for name in os.listdir(TEST_PATH + \"/Normal\")]\n",
    "ts_osteoa_filenames: list = [os.path.join(TEST_PATH + \"/Osteoarthritis\", name) for name in os.listdir(TEST_PATH + \"/Osteoarthritis\")]\n",
    "\n",
    "ts_data = pd.DataFrame(columns=[\"filenames\", \"label\"])\n",
    "\n",
    "ts_filenames: list = ts_normal_filenames + ts_osteoa_filenames\n",
    "ts_labels:  np.ndarray = np.concatenate((\n",
    "    np.zeros((len(ts_normal_filenames), ), dtype=np.uint8),\n",
    "    np.ones((len(ts_osteoa_filenames), ), dtype=np.uint8)\n",
    "), axis=0)\n",
    "\n",
    "ts_data.filenames = ts_filenames\n",
    "ts_data.label = ts_labels\n",
    "\n",
    "ts_data.to_csv(\"test.csv\", index=False)"
   ]
  }
 ],
 "metadata": {
  "kernelspec": {
   "display_name": "Python 3",
   "language": "python",
   "name": "python3"
  },
  "language_info": {
   "codemirror_mode": {
    "name": "ipython",
    "version": 3
   },
   "file_extension": ".py",
   "mimetype": "text/x-python",
   "name": "python",
   "nbconvert_exporter": "python",
   "pygments_lexer": "ipython3",
   "version": "3.7.12"
  },
  "papermill": {
   "default_parameters": {},
   "duration": 11.816566,
   "end_time": "2022-09-12T05:33:00.951836",
   "environment_variables": {},
   "exception": null,
   "input_path": "__notebook__.ipynb",
   "output_path": "__notebook__.ipynb",
   "parameters": {},
   "start_time": "2022-09-12T05:32:49.135270",
   "version": "2.3.4"
  }
 },
 "nbformat": 4,
 "nbformat_minor": 5
}
