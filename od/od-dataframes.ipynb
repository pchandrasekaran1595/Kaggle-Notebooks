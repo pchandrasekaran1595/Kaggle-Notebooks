{
 "cells": [
  {
   "cell_type": "code",
   "execution_count": 1,
   "id": "8c64cbc5",
   "metadata": {
    "_cell_guid": "b1076dfc-b9ad-4769-8c92-a6c4dae69d19",
    "_uuid": "8f2839f25d086af736a60e9eeb907d3b93b6e0e5",
    "execution": {
     "iopub.execute_input": "2022-09-12T04:55:31.719139Z",
     "iopub.status.busy": "2022-09-12T04:55:31.718692Z",
     "iopub.status.idle": "2022-09-12T04:55:31.728883Z",
     "shell.execute_reply": "2022-09-12T04:55:31.728143Z"
    },
    "papermill": {
     "duration": 0.017408,
     "end_time": "2022-09-12T04:55:31.730904",
     "exception": false,
     "start_time": "2022-09-12T04:55:31.713496",
     "status": "completed"
    },
    "tags": []
   },
   "outputs": [],
   "source": [
    "import os\n",
    "import numpy as np\n",
    "import pandas as pd"
   ]
  },
  {
   "cell_type": "code",
   "execution_count": 2,
   "id": "4e5bb68b",
   "metadata": {
    "execution": {
     "iopub.execute_input": "2022-09-12T04:55:31.737383Z",
     "iopub.status.busy": "2022-09-12T04:55:31.736780Z",
     "iopub.status.idle": "2022-09-12T04:55:31.747072Z",
     "shell.execute_reply": "2022-09-12T04:55:31.746343Z"
    },
    "papermill": {
     "duration": 0.015697,
     "end_time": "2022-09-12T04:55:31.749288",
     "exception": false,
     "start_time": "2022-09-12T04:55:31.733591",
     "status": "completed"
    },
    "tags": []
   },
   "outputs": [],
   "source": [
    "ts_data = pd.DataFrame(columns=[\"filenames\", \"label\"])"
   ]
  },
  {
   "cell_type": "code",
   "execution_count": 3,
   "id": "b3f10753",
   "metadata": {
    "execution": {
     "iopub.execute_input": "2022-09-12T04:55:31.755553Z",
     "iopub.status.busy": "2022-09-12T04:55:31.754982Z",
     "iopub.status.idle": "2022-09-12T04:55:31.861373Z",
     "shell.execute_reply": "2022-09-12T04:55:31.860526Z"
    },
    "papermill": {
     "duration": 0.111969,
     "end_time": "2022-09-12T04:55:31.863714",
     "exception": false,
     "start_time": "2022-09-12T04:55:31.751745",
     "status": "completed"
    },
    "tags": []
   },
   "outputs": [],
   "source": [
    "\n",
    "\n",
    "\n",
    "\n",
    "ts_normal_filenames: list = os.listdir(\"../input/osteoarthritis-dataset/Osteoarthritis Dataset/test/Normal\")\n",
    "ts_osteoa_filenames: list = os.listdir(\"../input/osteoarthritis-dataset/Osteoarthritis Dataset/test/Osteoarthritis\")"
   ]
  },
  {
   "cell_type": "code",
   "execution_count": 4,
   "id": "40703ccf",
   "metadata": {
    "execution": {
     "iopub.execute_input": "2022-09-12T04:55:31.870398Z",
     "iopub.status.busy": "2022-09-12T04:55:31.869766Z",
     "iopub.status.idle": "2022-09-12T04:55:32.071653Z",
     "shell.execute_reply": "2022-09-12T04:55:32.070798Z"
    },
    "papermill": {
     "duration": 0.207588,
     "end_time": "2022-09-12T04:55:32.073902",
     "exception": false,
     "start_time": "2022-09-12T04:55:31.866314",
     "status": "completed"
    },
    "tags": []
   },
   "outputs": [],
   "source": [
    "tr_normal_filenames: list = os.listdir(\"../input/osteoarthritis-dataset/Osteoarthritis Dataset/train/Normal\")\n",
    "tr_osteoa_filenames: list = os.listdir(\"../input/osteoarthritis-dataset/Osteoarthritis Dataset/train/Osteoarthritis\")\n",
    "\n",
    "tr_data = pd.DataFrame(columns=[\"filenames\", \"label\"])\n",
    "\n",
    "tr_filenames: list = tr_normal_filenames + tr_osteoa_filenames\n",
    "tr_labels:  np.ndarray = np.concatenate((\n",
    "    np.zeros((len(tr_normal_filenames), ), dtype=np.uint8),\n",
    "    np.ones((len(tr_osteoa_filenames), ), dtype=np.uint8)\n",
    "), axis=0)\n",
    "\n",
    "tr_data.filenames = tr_filenames\n",
    "tr_data.label = tr_labels\n",
    "\n",
    "tr_data.to_csv(\"train.csv\", index=False)"
   ]
  },
  {
   "cell_type": "code",
   "execution_count": 5,
   "id": "a5377315",
   "metadata": {
    "execution": {
     "iopub.execute_input": "2022-09-12T04:55:32.082707Z",
     "iopub.status.busy": "2022-09-12T04:55:32.081047Z",
     "iopub.status.idle": "2022-09-12T04:55:32.152885Z",
     "shell.execute_reply": "2022-09-12T04:55:32.151889Z"
    },
    "papermill": {
     "duration": 0.078539,
     "end_time": "2022-09-12T04:55:32.155483",
     "exception": false,
     "start_time": "2022-09-12T04:55:32.076944",
     "status": "completed"
    },
    "tags": []
   },
   "outputs": [],
   "source": [
    "va_normal_filenames: list = os.listdir(\"../input/osteoarthritis-dataset/Osteoarthritis Dataset/Valid/Normal\")\n",
    "va_osteoa_filenames: list = os.listdir(\"../input/osteoarthritis-dataset/Osteoarthritis Dataset/Valid/Osteoarthritis\")\n",
    "\n",
    "va_data = pd.DataFrame(columns=[\"filenames\", \"label\"])\n",
    "\n",
    "va_filenames: list = va_normal_filenames + va_osteoa_filenames\n",
    "va_labels:  np.ndarray = np.concatenate((\n",
    "    np.zeros((len(va_normal_filenames), ), dtype=np.uint8),\n",
    "    np.ones((len(va_osteoa_filenames), ), dtype=np.uint8)\n",
    "), axis=0)\n",
    "\n",
    "va_data.filenames = va_filenames\n",
    "va_data.label = va_labels\n",
    "\n",
    "va_data.to_csv(\"valid.csv\", index=False)"
   ]
  },
  {
   "cell_type": "code",
   "execution_count": 6,
   "id": "1c9ddc73",
   "metadata": {
    "execution": {
     "iopub.execute_input": "2022-09-12T04:55:32.162559Z",
     "iopub.status.busy": "2022-09-12T04:55:32.161461Z",
     "iopub.status.idle": "2022-09-12T04:55:32.177842Z",
     "shell.execute_reply": "2022-09-12T04:55:32.177073Z"
    },
    "papermill": {
     "duration": 0.022084,
     "end_time": "2022-09-12T04:55:32.180043",
     "exception": false,
     "start_time": "2022-09-12T04:55:32.157959",
     "status": "completed"
    },
    "tags": []
   },
   "outputs": [],
   "source": [
    "ts_normal_filenames: list = os.listdir(\"../input/osteoarthritis-dataset/Osteoarthritis Dataset/test/Normal\")\n",
    "ts_osteoa_filenames: list = os.listdir(\"../input/osteoarthritis-dataset/Osteoarthritis Dataset/test/Osteoarthritis\")\n",
    "\n",
    "ts_data = pd.DataFrame(columns=[\"filenames\", \"label\"])\n",
    "\n",
    "ts_filenames: list = ts_normal_filenames + ts_osteoa_filenames\n",
    "ts_labels:  np.ndarray = np.concatenate((\n",
    "    np.zeros((len(ts_normal_filenames), ), dtype=np.uint8),\n",
    "    np.ones((len(ts_osteoa_filenames), ), dtype=np.uint8)\n",
    "), axis=0)\n",
    "\n",
    "ts_data.filenames = ts_filenames\n",
    "ts_data.label = ts_labels\n",
    "\n",
    "ts_data.to_csv(\"test.csv\", index=False)"
   ]
  }
 ],
 "metadata": {
  "kernelspec": {
   "display_name": "Python 3",
   "language": "python",
   "name": "python3"
  },
  "language_info": {
   "codemirror_mode": {
    "name": "ipython",
    "version": 3
   },
   "file_extension": ".py",
   "mimetype": "text/x-python",
   "name": "python",
   "nbconvert_exporter": "python",
   "pygments_lexer": "ipython3",
   "version": "3.7.12"
  },
  "papermill": {
   "default_parameters": {},
   "duration": 9.528947,
   "end_time": "2022-09-12T04:55:32.803873",
   "environment_variables": {},
   "exception": null,
   "input_path": "__notebook__.ipynb",
   "output_path": "__notebook__.ipynb",
   "parameters": {},
   "start_time": "2022-09-12T04:55:23.274926",
   "version": "2.3.4"
  }
 },
 "nbformat": 4,
 "nbformat_minor": 5
}
