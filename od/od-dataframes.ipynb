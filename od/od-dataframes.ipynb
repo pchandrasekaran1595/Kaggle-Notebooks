{
 "cells": [
  {
   "cell_type": "code",
   "execution_count": 1,
   "id": "40721356",
   "metadata": {
    "_cell_guid": "b1076dfc-b9ad-4769-8c92-a6c4dae69d19",
    "_uuid": "8f2839f25d086af736a60e9eeb907d3b93b6e0e5",
    "execution": {
     "iopub.execute_input": "2022-09-12T05:19:42.634619Z",
     "iopub.status.busy": "2022-09-12T05:19:42.634130Z",
     "iopub.status.idle": "2022-09-12T05:19:42.646746Z",
     "shell.execute_reply": "2022-09-12T05:19:42.645424Z"
    },
    "papermill": {
     "duration": 0.02052,
     "end_time": "2022-09-12T05:19:42.649527",
     "exception": false,
     "start_time": "2022-09-12T05:19:42.629007",
     "status": "completed"
    },
    "tags": []
   },
   "outputs": [],
   "source": [
    "import os\n",
    "import numpy as np\n",
    "import pandas as pd"
   ]
  },
  {
   "cell_type": "code",
   "execution_count": 2,
   "id": "bc1f7292",
   "metadata": {
    "execution": {
     "iopub.execute_input": "2022-09-12T05:19:42.655598Z",
     "iopub.status.busy": "2022-09-12T05:19:42.655176Z",
     "iopub.status.idle": "2022-09-12T05:19:42.944415Z",
     "shell.execute_reply": "2022-09-12T05:19:42.943308Z"
    },
    "papermill": {
     "duration": 0.296024,
     "end_time": "2022-09-12T05:19:42.947742",
     "exception": false,
     "start_time": "2022-09-12T05:19:42.651718",
     "status": "completed"
    },
    "tags": []
   },
   "outputs": [],
   "source": [
    "tr_normal_filenames: list = os.listdir(\"../input/osteoarthritis-dataset/Osteoarthritis Dataset/train/Normal\")\n",
    "tr_osteoa_filenames: list = os.listdir(\"../input/osteoarthritis-dataset/Osteoarthritis Dataset/train/Osteoarthritis\")\n",
    "va_normal_filenames: list = os.listdir(\"../input/osteoarthritis-dataset/Osteoarthritis Dataset/Valid/Normal\")\n",
    "va_osteoa_filenames: list = os.listdir(\"../input/osteoarthritis-dataset/Osteoarthritis Dataset/Valid/Osteoarthritis\")\n",
    "\n",
    "tr_data = pd.DataFrame(columns=[\"filenames\", \"label\"])\n",
    "\n",
    "tr_filenames: list = tr_normal_filenames + va_normal_filenames + tr_osteoa_filenames + va_osteoa_filenames\n",
    "tr_labels:  np.ndarray = np.concatenate((\n",
    "    np.zeros((len(tr_normal_filenames), ), dtype=np.uint8),\n",
    "    np.zeros((len(va_normal_filenames), ), dtype=np.uint8),\n",
    "    np.ones((len(tr_osteoa_filenames), ), dtype=np.uint8),\n",
    "    np.ones((len(va_osteoa_filenames), ), dtype=np.uint8)\n",
    "), axis=0)\n",
    "\n",
    "tr_data.filenames = tr_filenames\n",
    "tr_data.label = tr_labels\n",
    "\n",
    "tr_data.to_csv(\"train.csv\", index=False)"
   ]
  },
  {
   "cell_type": "code",
   "execution_count": 3,
   "id": "e2504f7b",
   "metadata": {
    "execution": {
     "iopub.execute_input": "2022-09-12T05:19:42.953685Z",
     "iopub.status.busy": "2022-09-12T05:19:42.953300Z",
     "iopub.status.idle": "2022-09-12T05:19:43.046064Z",
     "shell.execute_reply": "2022-09-12T05:19:43.045178Z"
    },
    "papermill": {
     "duration": 0.099118,
     "end_time": "2022-09-12T05:19:43.048952",
     "exception": false,
     "start_time": "2022-09-12T05:19:42.949834",
     "status": "completed"
    },
    "tags": []
   },
   "outputs": [],
   "source": [
    "ts_normal_filenames: list = os.listdir(\"../input/osteoarthritis-dataset/Osteoarthritis Dataset/test/Normal\")\n",
    "ts_osteoa_filenames: list = os.listdir(\"../input/osteoarthritis-dataset/Osteoarthritis Dataset/test/Osteoarthritis\")\n",
    "\n",
    "ts_data = pd.DataFrame(columns=[\"filenames\", \"label\"])\n",
    "\n",
    "ts_filenames: list = ts_normal_filenames + ts_osteoa_filenames\n",
    "ts_labels:  np.ndarray = np.concatenate((\n",
    "    np.zeros((len(ts_normal_filenames), ), dtype=np.uint8),\n",
    "    np.ones((len(ts_osteoa_filenames), ), dtype=np.uint8)\n",
    "), axis=0)\n",
    "\n",
    "ts_data.filenames = ts_filenames\n",
    "ts_data.label = ts_labels\n",
    "\n",
    "ts_data.to_csv(\"test.csv\", index=False)"
   ]
  }
 ],
 "metadata": {
  "kernelspec": {
   "display_name": "Python 3",
   "language": "python",
   "name": "python3"
  },
  "language_info": {
   "codemirror_mode": {
    "name": "ipython",
    "version": 3
   },
   "file_extension": ".py",
   "mimetype": "text/x-python",
   "name": "python",
   "nbconvert_exporter": "python",
   "pygments_lexer": "ipython3",
   "version": "3.7.12"
  },
  "papermill": {
   "default_parameters": {},
   "duration": 10.799065,
   "end_time": "2022-09-12T05:19:43.776489",
   "environment_variables": {},
   "exception": null,
   "input_path": "__notebook__.ipynb",
   "output_path": "__notebook__.ipynb",
   "parameters": {},
   "start_time": "2022-09-12T05:19:32.977424",
   "version": "2.3.4"
  }
 },
 "nbformat": 4,
 "nbformat_minor": 5
}
