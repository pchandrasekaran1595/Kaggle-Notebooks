{
 "cells": [
  {
   "cell_type": "markdown",
   "id": "27d9d55e",
   "metadata": {
    "_cell_guid": "b1076dfc-b9ad-4769-8c92-a6c4dae69d19",
    "_uuid": "8f2839f25d086af736a60e9eeb907d3b93b6e0e5",
    "papermill": {
     "duration": 0.007849,
     "end_time": "2022-09-12T07:57:29.101822",
     "exception": false,
     "start_time": "2022-09-12T07:57:29.093973",
     "status": "completed"
    },
    "tags": []
   },
   "source": [
    "### **Setup**"
   ]
  },
  {
   "cell_type": "code",
   "execution_count": 1,
   "id": "b0f5860c",
   "metadata": {
    "execution": {
     "iopub.execute_input": "2022-09-12T07:57:29.120475Z",
     "iopub.status.busy": "2022-09-12T07:57:29.119947Z",
     "iopub.status.idle": "2022-09-12T07:57:40.120216Z",
     "shell.execute_reply": "2022-09-12T07:57:40.118931Z"
    },
    "papermill": {
     "duration": 11.011407,
     "end_time": "2022-09-12T07:57:40.122468",
     "exception": false,
     "start_time": "2022-09-12T07:57:29.111061",
     "status": "completed"
    },
    "tags": []
   },
   "outputs": [
    {
     "name": "stderr",
     "output_type": "stream",
     "text": [
      "WARNING: Running pip as the 'root' user can result in broken permissions and conflicting behaviour with the system package manager. It is recommended to use a virtual environment instead: https://pip.pypa.io/warnings/venv\n"
     ]
    }
   ],
   "source": [
    "%%bash\n",
    "pip install timm -q"
   ]
  },
  {
   "cell_type": "markdown",
   "id": "84133744",
   "metadata": {
    "papermill": {
     "duration": 0.003724,
     "end_time": "2022-09-12T07:57:40.130381",
     "exception": false,
     "start_time": "2022-09-12T07:57:40.126657",
     "status": "completed"
    },
    "tags": []
   },
   "source": [
    "### **Library Imports**"
   ]
  },
  {
   "cell_type": "code",
   "execution_count": 2,
   "id": "371a294f",
   "metadata": {
    "execution": {
     "iopub.execute_input": "2022-09-12T07:57:40.139622Z",
     "iopub.status.busy": "2022-09-12T07:57:40.139306Z",
     "iopub.status.idle": "2022-09-12T07:57:44.140993Z",
     "shell.execute_reply": "2022-09-12T07:57:44.139884Z"
    },
    "papermill": {
     "duration": 4.00942,
     "end_time": "2022-09-12T07:57:44.143646",
     "exception": false,
     "start_time": "2022-09-12T07:57:40.134226",
     "status": "completed"
    },
    "tags": []
   },
   "outputs": [],
   "source": [
    "import os\n",
    "import re\n",
    "import cv2\n",
    "import timm\n",
    "import torch\n",
    "import numpy as np\n",
    "import pandas as pd\n",
    "import matplotlib.pyplot as plt\n",
    "\n",
    "from time import time\n",
    "from torch import nn, optim\n",
    "from torch.utils.data import Dataset\n",
    "from torch.utils.data import DataLoader as DL\n",
    "from torchvision import models, transforms\n",
    "\n",
    "from sklearn.model_selection import KFold"
   ]
  },
  {
   "cell_type": "markdown",
   "id": "495d4182",
   "metadata": {
    "papermill": {
     "duration": 0.004294,
     "end_time": "2022-09-12T07:57:44.152134",
     "exception": false,
     "start_time": "2022-09-12T07:57:44.147840",
     "status": "completed"
    },
    "tags": []
   },
   "source": [
    "### **Utilities and Helpers**"
   ]
  },
  {
   "cell_type": "code",
   "execution_count": 3,
   "id": "5b512f58",
   "metadata": {
    "execution": {
     "iopub.execute_input": "2022-09-12T07:57:44.161666Z",
     "iopub.status.busy": "2022-09-12T07:57:44.160966Z",
     "iopub.status.idle": "2022-09-12T07:57:44.174196Z",
     "shell.execute_reply": "2022-09-12T07:57:44.173354Z"
    },
    "papermill": {
     "duration": 0.020294,
     "end_time": "2022-09-12T07:57:44.176272",
     "exception": false,
     "start_time": "2022-09-12T07:57:44.155978",
     "status": "completed"
    },
    "tags": []
   },
   "outputs": [],
   "source": [
    "SEED = 42\n",
    "SIZE = 224\n",
    "\n",
    "\n",
    "def breaker(num: int=50, char: str=\"*\") -> None:\n",
    "    print(\"\\n\" + num*char + \"\\n\")\n",
    "\n",
    "    \n",
    "def get_image(path: str, size: int=224) -> np.ndarray:\n",
    "    image = cv2.imread(path, cv2.IMREAD_COLOR)\n",
    "    image = cv2.cvtColor(src=image, code=cv2.COLOR_BGR2RGB)\n",
    "    if image.shape[0] == 224 and image.shape[1] == 224: return image\n",
    "    return cv2.resize(src=image, dsize=(size, size), interpolation=cv2.INTER_AREA)\n",
    "\n",
    "\n",
    "def show_loss_graphs(L: list) -> None:\n",
    "    TL, VL = [], []\n",
    "    for i in range(len(L)):\n",
    "        TL.append(L[i][\"train\"])\n",
    "        VL.append(L[i][\"valid\"])\n",
    "    x_Axis = np.arange(1, len(TL) + 1)\n",
    "    plt.figure()\n",
    "    plt.plot(x_Axis, TL, \"r\", label=\"Train\")\n",
    "    plt.plot(x_Axis, VL, \"b\", label=\"Valid\")\n",
    "    plt.legend()\n",
    "    plt.grid()\n",
    "    plt.title(\"Loss Graph\")\n",
    "    plt.show()\n",
    "\n",
    "    \n",
    "def show_accuracy_graphs(A: list) -> None:\n",
    "    TA, VA = [], []\n",
    "    for i in range(len(A)):\n",
    "        TA.append(A[i][\"train\"])\n",
    "        VA.append(A[i][\"valid\"])\n",
    "    x_Axis = np.arange(1, len(TA) + 1)\n",
    "    plt.figure()\n",
    "    plt.plot(x_Axis, TA, \"r\", label=\"Train\")\n",
    "    plt.plot(x_Axis, VA, \"b\", label=\"Valid\")\n",
    "    plt.legend()\n",
    "    plt.grid()\n",
    "    plt.title(\"Accuracy Graph\")\n",
    "    plt.show()\n",
    "    \n",
    "\n",
    "def show_lr_graph(LR: list) -> None:\n",
    "    x_Axis = [i+1 for i in range(len(LR))]\n",
    "    plt.figure(figsize=(8, 6))\n",
    "    plt.plot(x_Axis, LR, \"rx\")\n",
    "    plt.grid()\n",
    "    plt.show()"
   ]
  },
  {
   "cell_type": "markdown",
   "id": "c7bf8657",
   "metadata": {
    "papermill": {
     "duration": 0.004146,
     "end_time": "2022-09-12T07:57:44.184265",
     "exception": false,
     "start_time": "2022-09-12T07:57:44.180119",
     "status": "completed"
    },
    "tags": []
   },
   "source": [
    "### **Configuration**"
   ]
  },
  {
   "cell_type": "code",
   "execution_count": 4,
   "id": "618d5d2d",
   "metadata": {
    "execution": {
     "iopub.execute_input": "2022-09-12T07:57:44.193370Z",
     "iopub.status.busy": "2022-09-12T07:57:44.193075Z",
     "iopub.status.idle": "2022-09-12T07:57:44.261991Z",
     "shell.execute_reply": "2022-09-12T07:57:44.261089Z"
    },
    "papermill": {
     "duration": 0.076018,
     "end_time": "2022-09-12T07:57:44.264185",
     "exception": false,
     "start_time": "2022-09-12T07:57:44.188167",
     "status": "completed"
    },
    "tags": []
   },
   "outputs": [],
   "source": [
    "class CFG(object):\n",
    "    def __init__(self, \n",
    "                 seed: int = 42,\n",
    "                 size: int = 224,\n",
    "                 n_splits: int = 5,\n",
    "                 batch_size: int = 16,\n",
    "                 epochs: int = 25,\n",
    "                 early_stopping: int = 5,\n",
    "                 lr: float = 1e-4,\n",
    "                 wd: float = 0.0,\n",
    "                 max_lr: float = 1e-3,\n",
    "                 pct_start: float = 0.2,\n",
    "                 steps_per_epoch: int = 100,\n",
    "                 div_factor: int = 1e3, \n",
    "                 final_div_factor: float = 1e3,\n",
    "                 ):\n",
    "        self.seed = seed\n",
    "        self.size = size\n",
    "        self.n_splits = n_splits\n",
    "        self.batch_size = batch_size\n",
    "        self.epochs = epochs\n",
    "        self.early_stopping = early_stopping\n",
    "        self.lr = lr\n",
    "        self.wd = wd\n",
    "        self.max_lr = max_lr\n",
    "        self.pct_start = pct_start\n",
    "        self.steps_per_epoch = steps_per_epoch\n",
    "        self.div_factor = div_factor\n",
    "        self.final_div_factor = final_div_factor\n",
    "        self.device = torch.device(\"cuda\" if torch.cuda.is_available() else \"cpu\")\n",
    "        self.train_transform = transforms.Compose([\n",
    "            transforms.ToTensor(),\n",
    "            transforms.Normalize([0.56282, 0.56285, 0.56285], [0.17654, 0.17659, 0.17659]),\n",
    "            transforms.RandomAffine(degrees=(-45, 45), translate=(0.15, 0.15), scale=(0.5, 1.5)),\n",
    "            transforms.RandomHorizontalFlip(p=0.25),\n",
    "            transforms.RandomVerticalFlip(p=0.25),\n",
    "        ])\n",
    "        self.valid_transform = transforms.Compose([\n",
    "            transforms.ToTensor(),\n",
    "            transforms.Normalize([0.56282, 0.56285, 0.56285], [0.17654, 0.17659, 0.17659]),\n",
    "        ])\n",
    "                                \n",
    "        self.save_path = \"saves\"\n",
    "        if not os.path.exists(self.save_path): os.makedirs(self.save_path)\n",
    "    \n",
    "cfg = CFG(seed=SEED, size=SIZE)"
   ]
  },
  {
   "cell_type": "markdown",
   "id": "73416f06",
   "metadata": {
    "papermill": {
     "duration": 0.003767,
     "end_time": "2022-09-12T07:57:44.272102",
     "exception": false,
     "start_time": "2022-09-12T07:57:44.268335",
     "status": "completed"
    },
    "tags": []
   },
   "source": [
    "### **Dataset Template**"
   ]
  },
  {
   "cell_type": "code",
   "execution_count": 5,
   "id": "ac208167",
   "metadata": {
    "execution": {
     "iopub.execute_input": "2022-09-12T07:57:44.281131Z",
     "iopub.status.busy": "2022-09-12T07:57:44.280821Z",
     "iopub.status.idle": "2022-09-12T07:57:44.286820Z",
     "shell.execute_reply": "2022-09-12T07:57:44.285798Z"
    },
    "papermill": {
     "duration": 0.012786,
     "end_time": "2022-09-12T07:57:44.288745",
     "exception": false,
     "start_time": "2022-09-12T07:57:44.275959",
     "status": "completed"
    },
    "tags": []
   },
   "outputs": [],
   "source": [
    "class DS(Dataset):\n",
    "    def __init__(\n",
    "        self, \n",
    "        filenames: np.ndarray, \n",
    "        labels: np.ndarray, \n",
    "        size: int,\n",
    "        transform=None):\n",
    "        \n",
    "        self.filenames = filenames\n",
    "        self.labels = labels\n",
    "        self.size = size\n",
    "        self.transform = transform\n",
    "    \n",
    "    def __len__(self):\n",
    "        return self.filenames.shape[0]\n",
    "    \n",
    "    def __getitem__(self, idx):\n",
    "        image = get_image(filenames[idx], self.size)\n",
    "        return self.transform(image), torch.FloatTensor(self.labels[idx])"
   ]
  },
  {
   "cell_type": "markdown",
   "id": "db596e6c",
   "metadata": {
    "papermill": {
     "duration": 0.003748,
     "end_time": "2022-09-12T07:57:44.296478",
     "exception": false,
     "start_time": "2022-09-12T07:57:44.292730",
     "status": "completed"
    },
    "tags": []
   },
   "source": [
    "### **Model**"
   ]
  },
  {
   "cell_type": "code",
   "execution_count": 6,
   "id": "8b71e6b6",
   "metadata": {
    "execution": {
     "iopub.execute_input": "2022-09-12T07:57:44.306776Z",
     "iopub.status.busy": "2022-09-12T07:57:44.305191Z",
     "iopub.status.idle": "2022-09-12T07:57:44.311825Z",
     "shell.execute_reply": "2022-09-12T07:57:44.310986Z"
    },
    "papermill": {
     "duration": 0.013357,
     "end_time": "2022-09-12T07:57:44.313793",
     "exception": false,
     "start_time": "2022-09-12T07:57:44.300436",
     "status": "completed"
    },
    "tags": []
   },
   "outputs": [],
   "source": [
    "class Model(nn.Module):\n",
    "    def __init__(self):\n",
    "        super(Model, self).__init__()\n",
    "        \n",
    "        self.model = models.densenet169(pretrained=True, progress=True)\n",
    "        self.model.classifier = nn.Linear(in_features=self.model.classifier.in_features, out_features=1)\n",
    "            \n",
    "    def freeze(self):\n",
    "        for params in self.parameters(): params.requires_grad = False\n",
    "\n",
    "    def forward(self, x):\n",
    "        return self.model(x)"
   ]
  },
  {
   "cell_type": "markdown",
   "id": "d4b9af59",
   "metadata": {
    "papermill": {
     "duration": 0.003759,
     "end_time": "2022-09-12T07:57:44.321516",
     "exception": false,
     "start_time": "2022-09-12T07:57:44.317757",
     "status": "completed"
    },
    "tags": []
   },
   "source": [
    "### **Fit and Predict**"
   ]
  },
  {
   "cell_type": "code",
   "execution_count": 7,
   "id": "104eef28",
   "metadata": {
    "execution": {
     "iopub.execute_input": "2022-09-12T07:57:44.331803Z",
     "iopub.status.busy": "2022-09-12T07:57:44.331141Z",
     "iopub.status.idle": "2022-09-12T07:57:44.354401Z",
     "shell.execute_reply": "2022-09-12T07:57:44.353583Z"
    },
    "papermill": {
     "duration": 0.030825,
     "end_time": "2022-09-12T07:57:44.356630",
     "exception": false,
     "start_time": "2022-09-12T07:57:44.325805",
     "status": "completed"
    },
    "tags": []
   },
   "outputs": [],
   "source": [
    "def fit(model=None,\n",
    "        optimizer=None, \n",
    "        scheduler_rlrop=None,\n",
    "        scheduler_oclr=None,\n",
    "        epochs=None, \n",
    "        early_stopping_patience=None, \n",
    "        dataloaders=None, \n",
    "        fold=None, \n",
    "        save_path=None,\n",
    "        device=None,\n",
    "        verbose=False) -> tuple:  \n",
    "    \n",
    "    def get_accuracy(y_pred, y_true):\n",
    "        y_pred = torch.sigmoid(y_pred)\n",
    "        \n",
    "        y_pred[y_pred <= 0.5] = 0\n",
    "        y_pred[y_pred > 0.5] = 1\n",
    "\n",
    "        return torch.count_nonzero(y_pred == y_true).item() / len(y_pred)\n",
    "    \n",
    "    if verbose:\n",
    "        breaker()\n",
    "        if fold: print(f\"Training Fold {fold}...\")\n",
    "        else: print(\"Training ...\")\n",
    "        breaker()\n",
    "        \n",
    "    bestLoss: dict = {\"train\" : np.inf, \"valid\" : np.inf} \n",
    "    bestAccs: dict = {\"train\" : 0.0, \"valid\" : 0.0}\n",
    "        \n",
    "    Losses: list = []\n",
    "    Accuracies: list = [] \n",
    "    LRs: list = []\n",
    "        \n",
    "    if fold: \n",
    "        ble_name = f\"ble_state_fold_{fold}.pt\"\n",
    "        bae_name = f\"bae_state_fold_{fold}.pt\"\n",
    "    else: \n",
    "        ble_name = f\"ble_state.pt\"\n",
    "        bae_name = f\"bae_state.pt\"\n",
    "    \n",
    "    start_time = time()\n",
    "    for e in range(epochs):\n",
    "        e_st = time()\n",
    "        epochLoss: dict = {\"train\" : 0.0, \"valid\" : 0.0} \n",
    "        epochAccs: dict = {\"train\" : 0.0, \"valid\" : 0.0}\n",
    "\n",
    "        for phase in [\"train\", \"valid\"]:\n",
    "            if phase == \"train\": model.train()\n",
    "            else: model.eval()\n",
    "            \n",
    "            lossPerPass: list = []\n",
    "            accsPerPass: list = []\n",
    "                \n",
    "            for X, y in dataloaders[phase]:\n",
    "                X, y = X.to(device), y.to(device)\n",
    "\n",
    "                optimizer.zero_grad()\n",
    "                with torch.set_grad_enabled(phase == \"train\"):\n",
    "                    output = model(X)\n",
    "                    loss = torch.nn.BCEWithLogitsLoss()(output, y)\n",
    "                    if phase == \"train\":\n",
    "                        loss.backward()\n",
    "                        optimizer.step()\n",
    "                        if scheduler_oclr: scheduler_oclr.step()\n",
    "                lossPerPass.append(loss.item())\n",
    "                accsPerPass.append(get_accuracy(output, y))\n",
    "            epochLoss[phase] = np.mean(np.array(lossPerPass))\n",
    "            epochAccs[phase] = np.mean(np.array(accsPerPass))\n",
    "        if scheduler_oclr: LRs.append(scheduler_oclr.get_last_lr())\n",
    "        Losses.append(epochLoss)\n",
    "        Accuracies.append(epochAccs)\n",
    "    \n",
    "        if scheduler_oclr:\n",
    "            save_dict = {\"model_state_dict\"     : model.state_dict(),\n",
    "                         \"optim_state_dict\"     : optimizer.state_dict(),\n",
    "                         \"scheduler_state_dict\" : scheduler_oclr.state_dict()}\n",
    "        \n",
    "        elif scheduler_rlrop:\n",
    "            save_dict = {\"model_state_dict\"     : model.state_dict(),\n",
    "                         \"optim_state_dict\"     : optimizer.state_dict(),\n",
    "                         \"scheduler_state_dict\" : scheduler_rlrop.state_dict()}\n",
    "        \n",
    "        else:\n",
    "            save_dict = {\"model_state_dict\"     : model.state_dict(),\n",
    "                         \"optim_state_dict\"     : optimizer.state_dict()}\n",
    "        \n",
    "        \n",
    "        if early_stopping_patience:\n",
    "            if epochLoss[\"valid\"] < bestLoss[\"valid\"]:\n",
    "                bestLoss = epochLoss\n",
    "                BLE = e + 1\n",
    "                torch.save(save_dict, os.path.join(save_path, ble_name))\n",
    "                early_stopping_step = 0\n",
    "            else:\n",
    "                early_stopping_step += 1\n",
    "                if early_stopping_step > early_stopping_patience:\n",
    "                    print(\"\\nEarly Stopping at Epoch {}\".format(e + 1))\n",
    "                    break\n",
    "        \n",
    "        if epochLoss[\"valid\"] < bestLoss[\"valid\"]:\n",
    "            bestLoss = epochLoss\n",
    "            BLE = e + 1\n",
    "            torch.save(save_dict,os.path.join(save_path, ble_name))\n",
    "        \n",
    "        if epochAccs[\"valid\"] > bestAccs[\"valid\"]:\n",
    "            bestAccs = epochAccs\n",
    "            BAE = e + 1\n",
    "            torch.save(save_dict,os.path.join(save_path, bae_name))\n",
    "        \n",
    "        if scheduler_rlrop: scheduler_rlrop.step(epochLoss[\"valid\"])\n",
    "        \n",
    "        if verbose:\n",
    "            print(\"Epoch: {} | Train Loss: {:.5f} | Valid Loss: {:.5f} |\\\n",
    " Train Accs: {:.5f} | Valid Accs: {:.5f} | Time: {:.2f} seconds\".format(e+1, \n",
    "                                                                        epochLoss[\"train\"], epochLoss[\"valid\"], \n",
    "                                                                        epochAccs[\"train\"], epochAccs[\"valid\"], \n",
    "                                                                        time()-e_st))\n",
    "\n",
    "    if verbose:                                           \n",
    "        breaker()\n",
    "        print(f\"Best Validation Loss at Epoch {BLE}\")\n",
    "        breaker()\n",
    "        print(f\"Best Validation Accs at Epoch {BAE}\")\n",
    "        breaker()\n",
    "        print(\"Time Taken [{} Epochs] : {:.2f} minutes\".format(len(Losses), (time()-start_time)/60))\n",
    "    \n",
    "    return Losses, Accuracies, LRs, BLE, BAE, ble_name, bae_name\n",
    "\n",
    "\n",
    "def predict_batch(\n",
    "    model=None, \n",
    "    dataloader=None, \n",
    "    path=None, \n",
    "    device=None\n",
    ") -> np.ndarray:\n",
    "    \n",
    "    model.load_state_dict(torch.load(path, map_location=device)[\"model_state_dict\"])\n",
    "    model.to(device)    \n",
    "    model.eval()\n",
    "    \n",
    "    y_pred = torch.zeros(1, 1).to(device)\n",
    "    \n",
    "    for X in dataloader:\n",
    "        X = X.to(device)\n",
    "        with torch.no_grad():\n",
    "            output = torch.sigmoid(model(X))\n",
    "        y_pred = torch.cat((y_pred, output.view(-1, 1)), dim=0)\n",
    "    \n",
    "    return y_pred[1:].detach().cpu().numpy()"
   ]
  },
  {
   "cell_type": "markdown",
   "id": "ff1a802e",
   "metadata": {
    "papermill": {
     "duration": 0.004604,
     "end_time": "2022-09-12T07:57:44.365090",
     "exception": false,
     "start_time": "2022-09-12T07:57:44.360486",
     "status": "completed"
    },
    "tags": []
   },
   "source": [
    "### **Train**"
   ]
  },
  {
   "cell_type": "code",
   "execution_count": 8,
   "id": "41117277",
   "metadata": {
    "execution": {
     "iopub.execute_input": "2022-09-12T07:57:44.374209Z",
     "iopub.status.busy": "2022-09-12T07:57:44.373952Z",
     "iopub.status.idle": "2022-09-12T07:57:44.415944Z",
     "shell.execute_reply": "2022-09-12T07:57:44.415115Z"
    },
    "papermill": {
     "duration": 0.048994,
     "end_time": "2022-09-12T07:57:44.418115",
     "exception": false,
     "start_time": "2022-09-12T07:57:44.369121",
     "status": "completed"
    },
    "tags": []
   },
   "outputs": [],
   "source": [
    "tr_data = pd.read_csv(\"../input/od-dataframes/train.csv\")\n",
    "ts_data = pd.read_csv(\"../input/od-dataframes/test.csv\")\n",
    "\n",
    "filenames: np.ndarray = tr_data.filenames.copy().values\n",
    "labels: np.ndarray = tr_data.label.copy().values   "
   ]
  },
  {
   "cell_type": "code",
   "execution_count": 9,
   "id": "9ebc3443",
   "metadata": {
    "execution": {
     "iopub.execute_input": "2022-09-12T07:57:44.427533Z",
     "iopub.status.busy": "2022-09-12T07:57:44.427279Z",
     "iopub.status.idle": "2022-09-12T08:21:35.648106Z",
     "shell.execute_reply": "2022-09-12T08:21:35.647016Z"
    },
    "papermill": {
     "duration": 1431.228095,
     "end_time": "2022-09-12T08:21:35.650204",
     "exception": false,
     "start_time": "2022-09-12T07:57:44.422109",
     "status": "completed"
    },
    "tags": []
   },
   "outputs": [
    {
     "name": "stderr",
     "output_type": "stream",
     "text": [
      "Downloading: \"https://download.pytorch.org/models/densenet169-b2777c0a.pth\" to /root/.cache/torch/hub/checkpoints/densenet169-b2777c0a.pth\n"
     ]
    },
    {
     "data": {
      "application/vnd.jupyter.widget-view+json": {
       "model_id": "98432c1161f949b5997c1a1cef4017f0",
       "version_major": 2,
       "version_minor": 0
      },
      "text/plain": [
       "  0%|          | 0.00/54.7M [00:00<?, ?B/s]"
      ]
     },
     "metadata": {},
     "output_type": "display_data"
    },
    {
     "name": "stdout",
     "output_type": "stream",
     "text": [
      "\n",
      "**************************************************\n",
      "\n",
      "Training Fold 1...\n",
      "\n",
      "**************************************************\n",
      "\n",
      "Epoch: 1 | Train Loss: 0.58391 | Valid Loss: 0.85116 | Train Accs: 0.66917 | Valid Accs: 0.41447 | Time: 67.01 seconds\n",
      "Epoch: 2 | Train Loss: 0.47209 | Valid Loss: 0.97916 | Train Accs: 0.75833 | Valid Accs: 0.39850 | Time: 42.50 seconds\n",
      "Epoch: 3 | Train Loss: 0.48751 | Valid Loss: 0.69811 | Train Accs: 0.74167 | Valid Accs: 0.48614 | Time: 43.75 seconds\n",
      "Epoch: 4 | Train Loss: 0.47637 | Valid Loss: 0.84945 | Train Accs: 0.75458 | Valid Accs: 0.60150 | Time: 43.52 seconds\n",
      "Epoch: 5 | Train Loss: 0.46197 | Valid Loss: 1.25551 | Train Accs: 0.76375 | Valid Accs: 0.41659 | Time: 42.66 seconds\n",
      "Epoch: 6 | Train Loss: 0.44768 | Valid Loss: 1.33660 | Train Accs: 0.74958 | Valid Accs: 0.36842 | Time: 42.43 seconds\n",
      "Epoch: 7 | Train Loss: 0.44541 | Valid Loss: 0.95979 | Train Accs: 0.75917 | Valid Accs: 0.37500 | Time: 42.51 seconds\n",
      "Epoch: 8 | Train Loss: 0.42654 | Valid Loss: 0.91975 | Train Accs: 0.78500 | Valid Accs: 0.37993 | Time: 42.53 seconds\n",
      "\n",
      "Early Stopping at Epoch 9\n",
      "\n",
      "**************************************************\n",
      "\n",
      "Best Validation Loss at Epoch 3\n",
      "\n",
      "**************************************************\n",
      "\n",
      "Best Validation Accs at Epoch 4\n",
      "\n",
      "**************************************************\n",
      "\n",
      "Time Taken [9 Epochs] : 6.82 minutes\n",
      "\n",
      "**************************************************\n",
      "\n"
     ]
    },
    {
     "data": {
      "image/png": "[encoded data removed]",
      "text/plain": [
       "<Figure size 432x288 with 1 Axes>"
      ]
     },
     "metadata": {
      "needs_background": "light"
     },
     "output_type": "display_data"
    },
    {
     "name": "stdout",
     "output_type": "stream",
     "text": [
      "\n",
      "**************************************************\n",
      "\n"
     ]
    },
    {
     "data": {
      "image/png": "[encoded data removed]",
      "text/plain": [
       "<Figure size 432x288 with 1 Axes>"
      ]
     },
     "metadata": {
      "needs_background": "light"
     },
     "output_type": "display_data"
    },
    {
     "name": "stdout",
     "output_type": "stream",
     "text": [
      "\n",
      "**************************************************\n",
      "\n"
     ]
    },
    {
     "data": {
      "image/png": "[encoded data removed]",
      "text/plain": [
       "<Figure size 576x432 with 1 Axes>"
      ]
     },
     "metadata": {
      "needs_background": "light"
     },
     "output_type": "display_data"
    },
    {
     "name": "stdout",
     "output_type": "stream",
     "text": [
      "\n",
      "**************************************************\n",
      "\n",
      "\n",
      "**************************************************\n",
      "\n",
      "Training Fold 2...\n",
      "\n",
      "**************************************************\n",
      "\n",
      "Epoch: 1 | Train Loss: 0.60891 | Valid Loss: 0.79131 | Train Accs: 0.65451 | Valid Accs: 0.34034 | Time: 36.86 seconds\n",
      "Epoch: 2 | Train Loss: 0.42996 | Valid Loss: 1.58352 | Train Accs: 0.77426 | Valid Accs: 0.33267 | Time: 36.00 seconds\n",
      "Epoch: 3 | Train Loss: 0.41075 | Valid Loss: 1.40675 | Train Accs: 0.79842 | Valid Accs: 0.30938 | Time: 36.62 seconds\n",
      "Epoch: 4 | Train Loss: 0.40045 | Valid Loss: 1.58646 | Train Accs: 0.79650 | Valid Accs: 0.68594 | Time: 36.51 seconds\n",
      "Epoch: 5 | Train Loss: 0.39987 | Valid Loss: 1.28827 | Train Accs: 0.79783 | Valid Accs: 0.44219 | Time: 35.88 seconds\n",
      "Epoch: 6 | Train Loss: 0.39442 | Valid Loss: 1.23878 | Train Accs: 0.81299 | Valid Accs: 0.32642 | Time: 35.55 seconds\n",
      "\n",
      "Early Stopping at Epoch 7\n",
      "\n",
      "**************************************************\n",
      "\n",
      "Best Validation Loss at Epoch 1\n",
      "\n",
      "**************************************************\n",
      "\n",
      "Best Validation Accs at Epoch 4\n",
      "\n",
      "**************************************************\n",
      "\n",
      "Time Taken [7 Epochs] : 4.22 minutes\n",
      "\n",
      "**************************************************\n",
      "\n"
     ]
    },
    {
     "data": {
      "image/png": "[encoded data removed]",
      "text/plain": [
       "<Figure size 432x288 with 1 Axes>"
      ]
     },
     "metadata": {
      "needs_background": "light"
     },
     "output_type": "display_data"
    },
    {
     "name": "stdout",
     "output_type": "stream",
     "text": [
      "\n",
      "**************************************************\n",
      "\n"
     ]
    },
    {
     "data": {
      "image/png": "[encoded data removed]",
      "text/plain": [
       "<Figure size 432x288 with 1 Axes>"
      ]
     },
     "metadata": {
      "needs_background": "light"
     },
     "output_type": "display_data"
    },
    {
     "name": "stdout",
     "output_type": "stream",
     "text": [
      "\n",
      "**************************************************\n",
      "\n"
     ]
    },
    {
     "data": {
      "image/png": "[encoded data removed]",
      "text/plain": [
       "<Figure size 576x432 with 1 Axes>"
      ]
     },
     "metadata": {
      "needs_background": "light"
     },
     "output_type": "display_data"
    },
    {
     "name": "stdout",
     "output_type": "stream",
     "text": [
      "\n",
      "**************************************************\n",
      "\n",
      "\n",
      "**************************************************\n",
      "\n",
      "Training Fold 3...\n",
      "\n",
      "**************************************************\n",
      "\n",
      "Epoch: 1 | Train Loss: 0.60899 | Valid Loss: 0.80658 | Train Accs: 0.65469 | Valid Accs: 0.31705 | Time: 36.56 seconds\n",
      "Epoch: 2 | Train Loss: 0.42982 | Valid Loss: 1.77743 | Train Accs: 0.77403 | Valid Accs: 0.29830 | Time: 35.68 seconds\n",
      "Epoch: 3 | Train Loss: 0.41129 | Valid Loss: 1.70579 | Train Accs: 0.79220 | Valid Accs: 0.29844 | Time: 35.91 seconds\n",
      "Epoch: 4 | Train Loss: 0.41321 | Valid Loss: 1.29644 | Train Accs: 0.78992 | Valid Accs: 0.63494 | Time: 36.38 seconds\n",
      "Epoch: 5 | Train Loss: 0.40392 | Valid Loss: 1.39186 | Train Accs: 0.80500 | Valid Accs: 0.37756 | Time: 35.86 seconds\n",
      "Epoch: 6 | Train Loss: 0.39633 | Valid Loss: 1.26313 | Train Accs: 0.80883 | Valid Accs: 0.30312 | Time: 35.37 seconds\n",
      "\n",
      "Early Stopping at Epoch 7\n",
      "\n",
      "**************************************************\n",
      "\n",
      "Best Validation Loss at Epoch 1\n",
      "\n",
      "**************************************************\n",
      "\n",
      "Best Validation Accs at Epoch 4\n",
      "\n",
      "**************************************************\n",
      "\n",
      "Time Taken [7 Epochs] : 4.19 minutes\n",
      "\n",
      "**************************************************\n",
      "\n"
     ]
    },
    {
     "data": {
      "image/png": "[encoded data removed]",
      "text/plain": [
       "<Figure size 432x288 with 1 Axes>"
      ]
     },
     "metadata": {
      "needs_background": "light"
     },
     "output_type": "display_data"
    },
    {
     "name": "stdout",
     "output_type": "stream",
     "text": [
      "\n",
      "**************************************************\n",
      "\n"
     ]
    },
    {
     "data": {
      "image/png": "[encoded data removed]",
      "text/plain": [
       "<Figure size 432x288 with 1 Axes>"
      ]
     },
     "metadata": {
      "needs_background": "light"
     },
     "output_type": "display_data"
    },
    {
     "name": "stdout",
     "output_type": "stream",
     "text": [
      "\n",
      "**************************************************\n",
      "\n"
     ]
    },
    {
     "data": {
      "image/png": "[encoded data removed]",
      "text/plain": [
       "<Figure size 576x432 with 1 Axes>"
      ]
     },
     "metadata": {
      "needs_background": "light"
     },
     "output_type": "display_data"
    },
    {
     "name": "stdout",
     "output_type": "stream",
     "text": [
      "\n",
      "**************************************************\n",
      "\n",
      "\n",
      "**************************************************\n",
      "\n",
      "Training Fold 4...\n",
      "\n",
      "**************************************************\n",
      "\n",
      "Epoch: 1 | Train Loss: 0.60872 | Valid Loss: 0.79605 | Train Accs: 0.65451 | Valid Accs: 0.34205 | Time: 36.63 seconds\n",
      "Epoch: 2 | Train Loss: 0.43289 | Valid Loss: 1.20511 | Train Accs: 0.76694 | Valid Accs: 0.34830 | Time: 36.19 seconds\n",
      "Epoch: 3 | Train Loss: 0.42664 | Valid Loss: 3.07071 | Train Accs: 0.77352 | Valid Accs: 0.32500 | Time: 35.84 seconds\n",
      "Epoch: 4 | Train Loss: 0.42991 | Valid Loss: 1.01426 | Train Accs: 0.77283 | Valid Accs: 0.59148 | Time: 36.00 seconds\n",
      "Epoch: 5 | Train Loss: 0.39638 | Valid Loss: 1.15475 | Train Accs: 0.79701 | Valid Accs: 0.36690 | Time: 35.44 seconds\n",
      "Epoch: 6 | Train Loss: 0.40799 | Valid Loss: 1.07615 | Train Accs: 0.79257 | Valid Accs: 0.45852 | Time: 35.87 seconds\n",
      "\n",
      "Early Stopping at Epoch 7\n",
      "\n",
      "**************************************************\n",
      "\n",
      "Best Validation Loss at Epoch 1\n",
      "\n",
      "**************************************************\n",
      "\n",
      "Best Validation Accs at Epoch 4\n",
      "\n",
      "**************************************************\n",
      "\n",
      "Time Taken [7 Epochs] : 4.19 minutes\n",
      "\n",
      "**************************************************\n",
      "\n"
     ]
    },
    {
     "data": {
      "image/png": "[encoded data removed]",
      "text/plain": [
       "<Figure size 432x288 with 1 Axes>"
      ]
     },
     "metadata": {
      "needs_background": "light"
     },
     "output_type": "display_data"
    },
    {
     "name": "stdout",
     "output_type": "stream",
     "text": [
      "\n",
      "**************************************************\n",
      "\n"
     ]
    },
    {
     "data": {
      "image/png": "[encoded data removed]",
      "text/plain": [
       "<Figure size 432x288 with 1 Axes>"
      ]
     },
     "metadata": {
      "needs_background": "light"
     },
     "output_type": "display_data"
    },
    {
     "name": "stdout",
     "output_type": "stream",
     "text": [
      "\n",
      "**************************************************\n",
      "\n"
     ]
    },
    {
     "data": {
      "image/png": "[encoded data removed]",
      "text/plain": [
       "<Figure size 576x432 with 1 Axes>"
      ]
     },
     "metadata": {
      "needs_background": "light"
     },
     "output_type": "display_data"
    },
    {
     "name": "stdout",
     "output_type": "stream",
     "text": [
      "\n",
      "**************************************************\n",
      "\n",
      "\n",
      "**************************************************\n",
      "\n",
      "Training Fold 5...\n",
      "\n",
      "**************************************************\n",
      "\n",
      "Epoch: 1 | Train Loss: 0.60897 | Valid Loss: 0.80540 | Train Accs: 0.65387 | Valid Accs: 0.32486 | Time: 36.67 seconds\n",
      "Epoch: 2 | Train Loss: 0.43304 | Valid Loss: 2.12850 | Train Accs: 0.76928 | Valid Accs: 0.30312 | Time: 36.00 seconds\n",
      "Epoch: 3 | Train Loss: 0.40864 | Valid Loss: 2.48065 | Train Accs: 0.79660 | Valid Accs: 0.30156 | Time: 35.85 seconds\n",
      "Epoch: 4 | Train Loss: 0.40501 | Valid Loss: 1.03170 | Train Accs: 0.79051 | Valid Accs: 0.41307 | Time: 36.32 seconds\n",
      "Epoch: 5 | Train Loss: 0.41033 | Valid Loss: 0.83573 | Train Accs: 0.79595 | Valid Accs: 0.48139 | Time: 36.49 seconds\n",
      "Epoch: 6 | Train Loss: 0.38865 | Valid Loss: 0.90005 | Train Accs: 0.81217 | Valid Accs: 0.45852 | Time: 35.60 seconds\n",
      "\n",
      "Early Stopping at Epoch 7\n",
      "\n",
      "**************************************************\n",
      "\n",
      "Best Validation Loss at Epoch 1\n",
      "\n",
      "**************************************************\n",
      "\n",
      "Best Validation Accs at Epoch 5\n",
      "\n",
      "**************************************************\n",
      "\n",
      "Time Taken [7 Epochs] : 4.21 minutes\n",
      "\n",
      "**************************************************\n",
      "\n"
     ]
    },
    {
     "data": {
      "image/png": "[encoded data removed]",
      "text/plain": [
       "<Figure size 432x288 with 1 Axes>"
      ]
     },
     "metadata": {
      "needs_background": "light"
     },
     "output_type": "display_data"
    },
    {
     "name": "stdout",
     "output_type": "stream",
     "text": [
      "\n",
      "**************************************************\n",
      "\n"
     ]
    },
    {
     "data": {
      "image/png": "[encoded data removed]",
      "text/plain": [
       "<Figure size 432x288 with 1 Axes>"
      ]
     },
     "metadata": {
      "needs_background": "light"
     },
     "output_type": "display_data"
    },
    {
     "name": "stdout",
     "output_type": "stream",
     "text": [
      "\n",
      "**************************************************\n",
      "\n"
     ]
    },
    {
     "data": {
      "image/png": "[encoded data removed]",
      "text/plain": [
       "<Figure size 576x432 with 1 Axes>"
      ]
     },
     "metadata": {
      "needs_background": "light"
     },
     "output_type": "display_data"
    },
    {
     "name": "stdout",
     "output_type": "stream",
     "text": [
      "\n",
      "**************************************************\n",
      "\n"
     ]
    }
   ],
   "source": [
    "fold: int = 1\n",
    "BLEs: list = []\n",
    "BAEs: list = []\n",
    "\n",
    "for tr_idx, va_idx in KFold(n_splits=cfg.n_splits, random_state=cfg.seed, shuffle=True).split(filenames):\n",
    "\n",
    "    tr_filenames, va_filenames = filenames[tr_idx], filenames[va_idx] \n",
    "    tr_labels, va_labels       = labels[tr_idx], labels[va_idx]\n",
    "    \n",
    "    tr_data_setup = DS(\n",
    "        filenames=tr_filenames, \n",
    "        labels=tr_labels.reshape(-1, 1),\n",
    "        size=cfg.size,\n",
    "        transform=cfg.train_transform\n",
    "    )\n",
    "    \n",
    "    va_data_setup = DS(\n",
    "        filenames=va_filenames, \n",
    "        labels=va_labels.reshape(-1, 1),\n",
    "        size=cfg.size,\n",
    "        transform=cfg.valid_transform\n",
    "    )\n",
    "\n",
    "    dataloaders = {\n",
    "        \"train\" : DL(tr_data_setup, batch_size=cfg.batch_size, shuffle=True, generator=torch.manual_seed(cfg.seed)),\n",
    "        \"valid\" : DL(va_data_setup, batch_size=cfg.batch_size, shuffle=False),\n",
    "    }\n",
    "\n",
    "    cfg = CFG(\n",
    "        epochs=25, \n",
    "        batch_size=64, \n",
    "        early_stopping=5,\n",
    "        steps_per_epoch=len(dataloaders[\"train\"])\n",
    "    )\n",
    "    \n",
    "    torch.manual_seed(cfg.seed)\n",
    "    model = Model().to(cfg.device)\n",
    "\n",
    "    optimizer = optim.Adam([p for p in model.parameters() if p.requires_grad], lr=cfg.lr, weight_decay=cfg.wd)\n",
    "    # optimizer = optim.AdamW([p for p in model.parameters() if p.requires_grad], lr=cfg.lr, weight_decay=cfg.wd)\n",
    "    # optimizer = optim.SGD([p for p in model.parameters() if p.requires_grad], lr=cfg.lr, weight_decay=cfg.wd, momentum=0.9)\n",
    "    \n",
    "    scheduler_oclr = optim.lr_scheduler.OneCycleLR(\n",
    "        optimizer=optimizer, \n",
    "        max_lr=cfg.max_lr, \n",
    "        epochs=cfg.epochs, \n",
    "        steps_per_epoch=cfg.steps_per_epoch,\n",
    "        pct_start=cfg.pct_start, \n",
    "        div_factor=cfg.div_factor, \n",
    "        final_div_factor=cfg.final_div_factor\n",
    "    )\n",
    "\n",
    "    # scheduler_rlrop = optim.lr_scheduler.ReduceLROnPlateau(\n",
    "    #     optimizer=optimizer,\n",
    "    #     patience=cfg.patience,\n",
    "    #     eps=cfg.eps,\n",
    "    #     verbose=True\n",
    "    # )\n",
    "\n",
    "    # scheduler_oclr = None\n",
    "    scheduler_rlrop = None\n",
    "    \n",
    "    L, A, LR, BLE, BAE, _, _ = fit(\n",
    "        model=model, \n",
    "        optimizer=optimizer, \n",
    "        scheduler_oclr=scheduler_oclr,\n",
    "        scheduler_rlrop=scheduler_rlrop,\n",
    "        epochs=cfg.epochs, \n",
    "        early_stopping_patience=cfg.early_stopping, \n",
    "        dataloaders=dataloaders, \n",
    "        device=cfg.device,\n",
    "        save_path=cfg.save_path,\n",
    "        fold=fold,\n",
    "        verbose=True\n",
    "    )\n",
    "    \n",
    "    breaker()\n",
    "    show_loss_graphs(L)\n",
    "    breaker()\n",
    "    show_accuracy_graphs(A)\n",
    "    breaker()\n",
    "    if scheduler_oclr:\n",
    "        show_lr_graph(LR)\n",
    "        breaker()\n",
    "    \n",
    "    BLEs.append(BLE)\n",
    "    BAEs.append(BAE)\n",
    "    fold += 1"
   ]
  },
  {
   "cell_type": "markdown",
   "id": "8ea39974",
   "metadata": {
    "papermill": {
     "duration": 0.01055,
     "end_time": "2022-09-12T08:21:35.671438",
     "exception": false,
     "start_time": "2022-09-12T08:21:35.660888",
     "status": "completed"
    },
    "tags": []
   },
   "source": [
    "### **Best Model**"
   ]
  },
  {
   "cell_type": "code",
   "execution_count": 10,
   "id": "7a8e64d0",
   "metadata": {
    "execution": {
     "iopub.execute_input": "2022-09-12T08:21:35.694255Z",
     "iopub.status.busy": "2022-09-12T08:21:35.693598Z",
     "iopub.status.idle": "2022-09-12T08:21:35.699935Z",
     "shell.execute_reply": "2022-09-12T08:21:35.698839Z"
    },
    "papermill": {
     "duration": 0.021172,
     "end_time": "2022-09-12T08:21:35.703218",
     "exception": false,
     "start_time": "2022-09-12T08:21:35.682046",
     "status": "completed"
    },
    "tags": []
   },
   "outputs": [
    {
     "name": "stdout",
     "output_type": "stream",
     "text": [
      "\n",
      "**************************************************\n",
      "\n",
      "Best Loss Model Fold : 2\n",
      "Best Accs Model Fold : 5\n",
      "\n",
      "**************************************************\n",
      "\n"
     ]
    }
   ],
   "source": [
    "best_loss_index = BLEs.index(min(BLEs))\n",
    "best_accs_index = BAEs.index(max(BAEs))\n",
    "\n",
    "breaker()\n",
    "print(f\"Best Loss Model Fold : {best_loss_index + 1}\")\n",
    "print(f\"Best Accs Model Fold : {best_accs_index + 1}\")\n",
    "breaker()"
   ]
  }
 ],
 "metadata": {
  "kernelspec": {
   "display_name": "Python 3",
   "language": "python",
   "name": "python3"
  },
  "language_info": {
   "codemirror_mode": {
    "name": "ipython",
    "version": 3
   },
   "file_extension": ".py",
   "mimetype": "text/x-python",
   "name": "python",
   "nbconvert_exporter": "python",
   "pygments_lexer": "ipython3",
   "version": "3.7.12"
  },
  "papermill": {
   "default_parameters": {},
   "duration": 1456.959167,
   "end_time": "2022-09-12T08:21:38.420742",
   "environment_variables": {},
   "exception": null,
   "input_path": "__notebook__.ipynb",
   "output_path": "__notebook__.ipynb",
   "parameters": {},
   "start_time": "2022-09-12T07:57:21.461575",
   "version": "2.3.4"
  },
  "widgets": {
   "application/vnd.jupyter.widget-state+json": {
    "state": {
     "149aa6ab7453426990271ff72609ba01": {
      "model_module": "@jupyter-widgets/controls",
      "model_module_version": "1.5.0",
      "model_name": "ProgressStyleModel",
      "state": {
       "_model_module": "@jupyter-widgets/controls",
       "_model_module_version": "1.5.0",
       "_model_name": "ProgressStyleModel",
       "_view_count": null,
       "_view_module": "@jupyter-widgets/base",
       "_view_module_version": "1.2.0",
       "_view_name": "StyleView",
       "bar_color": null,
       "description_width": ""
      }
     },
     "24b6391fbbde4c89a08b7d50f184fd55": {
      "model_module": "@jupyter-widgets/base",
      "model_module_version": "1.2.0",
      "model_name": "LayoutModel",
      "state": {
       "_model_module": "@jupyter-widgets/base",
       "_model_module_version": "1.2.0",
       "_model_name": "LayoutModel",
       "_view_count": null,
       "_view_module": "@jupyter-widgets/base",
       "_view_module_version": "1.2.0",
       "_view_name": "LayoutView",
       "align_content": null,
       "align_items": null,
       "align_self": null,
       "border": null,
       "bottom": null,
       "display": null,
       "flex": null,
       "flex_flow": null,
       "grid_area": null,
       "grid_auto_columns": null,
       "grid_auto_flow": null,
       "grid_auto_rows": null,
       "grid_column": null,
       "grid_gap": null,
       "grid_row": null,
       "grid_template_areas": null,
       "grid_template_columns": null,
       "grid_template_rows": null,
       "height": null,
       "justify_content": null,
       "justify_items": null,
       "left": null,
       "margin": null,
       "max_height": null,
       "max_width": null,
       "min_height": null,
       "min_width": null,
       "object_fit": null,
       "object_position": null,
       "order": null,
       "overflow": null,
       "overflow_x": null,
       "overflow_y": null,
       "padding": null,
       "right": null,
       "top": null,
       "visibility": null,
       "width": null
      }
     },
     "738213f163c34ce986e03006b958de87": {
      "model_module": "@jupyter-widgets/controls",
      "model_module_version": "1.5.0",
      "model_name": "HTMLModel",
      "state": {
       "_dom_classes": [],
       "_model_module": "@jupyter-widgets/controls",
       "_model_module_version": "1.5.0",
       "_model_name": "HTMLModel",
       "_view_count": null,
       "_view_module": "@jupyter-widgets/controls",
       "_view_module_version": "1.5.0",
       "_view_name": "HTMLView",
       "description": "",
       "description_tooltip": null,
       "layout": "IPY_MODEL_24b6391fbbde4c89a08b7d50f184fd55",
       "placeholder": "​",
       "style": "IPY_MODEL_8812183205f24bd98bddffe5d26d52f8",
       "value": " 54.7M/54.7M [00:03&lt;00:00, 20.7MB/s]"
      }
     },
     "8812183205f24bd98bddffe5d26d52f8": {
      "model_module": "@jupyter-widgets/controls",
      "model_module_version": "1.5.0",
      "model_name": "DescriptionStyleModel",
      "state": {
       "_model_module": "@jupyter-widgets/controls",
       "_model_module_version": "1.5.0",
       "_model_name": "DescriptionStyleModel",
       "_view_count": null,
       "_view_module": "@jupyter-widgets/base",
       "_view_module_version": "1.2.0",
       "_view_name": "StyleView",
       "description_width": ""
      }
     },
     "8b6491f29d6542bd9e81cb68b15641b6": {
      "model_module": "@jupyter-widgets/base",
      "model_module_version": "1.2.0",
      "model_name": "LayoutModel",
      "state": {
       "_model_module": "@jupyter-widgets/base",
       "_model_module_version": "1.2.0",
       "_model_name": "LayoutModel",
       "_view_count": null,
       "_view_module": "@jupyter-widgets/base",
       "_view_module_version": "1.2.0",
       "_view_name": "LayoutView",
       "align_content": null,
       "align_items": null,
       "align_self": null,
       "border": null,
       "bottom": null,
       "display": null,
       "flex": null,
       "flex_flow": null,
       "grid_area": null,
       "grid_auto_columns": null,
       "grid_auto_flow": null,
       "grid_auto_rows": null,
       "grid_column": null,
       "grid_gap": null,
       "grid_row": null,
       "grid_template_areas": null,
       "grid_template_columns": null,
       "grid_template_rows": null,
       "height": null,
       "justify_content": null,
       "justify_items": null,
       "left": null,
       "margin": null,
       "max_height": null,
       "max_width": null,
       "min_height": null,
       "min_width": null,
       "object_fit": null,
       "object_position": null,
       "order": null,
       "overflow": null,
       "overflow_x": null,
       "overflow_y": null,
       "padding": null,
       "right": null,
       "top": null,
       "visibility": null,
       "width": null
      }
     },
     "98432c1161f949b5997c1a1cef4017f0": {
      "model_module": "@jupyter-widgets/controls",
      "model_module_version": "1.5.0",
      "model_name": "HBoxModel",
      "state": {
       "_dom_classes": [],
       "_model_module": "@jupyter-widgets/controls",
       "_model_module_version": "1.5.0",
       "_model_name": "HBoxModel",
       "_view_count": null,
       "_view_module": "@jupyter-widgets/controls",
       "_view_module_version": "1.5.0",
       "_view_name": "HBoxView",
       "box_style": "",
       "children": [
        "IPY_MODEL_d90edbe5242d4ebfbf1879ff1abd763f",
        "IPY_MODEL_d557db5e87e9430ab1306d930f2bc0a0",
        "IPY_MODEL_738213f163c34ce986e03006b958de87"
       ],
       "layout": "IPY_MODEL_8b6491f29d6542bd9e81cb68b15641b6"
      }
     },
     "b0fde05e71d94411b3bb867e1e5e9542": {
      "model_module": "@jupyter-widgets/base",
      "model_module_version": "1.2.0",
      "model_name": "LayoutModel",
      "state": {
       "_model_module": "@jupyter-widgets/base",
       "_model_module_version": "1.2.0",
       "_model_name": "LayoutModel",
       "_view_count": null,
       "_view_module": "@jupyter-widgets/base",
       "_view_module_version": "1.2.0",
       "_view_name": "LayoutView",
       "align_content": null,
       "align_items": null,
       "align_self": null,
       "border": null,
       "bottom": null,
       "display": null,
       "flex": null,
       "flex_flow": null,
       "grid_area": null,
       "grid_auto_columns": null,
       "grid_auto_flow": null,
       "grid_auto_rows": null,
       "grid_column": null,
       "grid_gap": null,
       "grid_row": null,
       "grid_template_areas": null,
       "grid_template_columns": null,
       "grid_template_rows": null,
       "height": null,
       "justify_content": null,
       "justify_items": null,
       "left": null,
       "margin": null,
       "max_height": null,
       "max_width": null,
       "min_height": null,
       "min_width": null,
       "object_fit": null,
       "object_position": null,
       "order": null,
       "overflow": null,
       "overflow_x": null,
       "overflow_y": null,
       "padding": null,
       "right": null,
       "top": null,
       "visibility": null,
       "width": null
      }
     },
     "b6c7f3f939fa48e29672851aedede849": {
      "model_module": "@jupyter-widgets/base",
      "model_module_version": "1.2.0",
      "model_name": "LayoutModel",
      "state": {
       "_model_module": "@jupyter-widgets/base",
       "_model_module_version": "1.2.0",
       "_model_name": "LayoutModel",
       "_view_count": null,
       "_view_module": "@jupyter-widgets/base",
       "_view_module_version": "1.2.0",
       "_view_name": "LayoutView",
       "align_content": null,
       "align_items": null,
       "align_self": null,
       "border": null,
       "bottom": null,
       "display": null,
       "flex": null,
       "flex_flow": null,
       "grid_area": null,
       "grid_auto_columns": null,
       "grid_auto_flow": null,
       "grid_auto_rows": null,
       "grid_column": null,
       "grid_gap": null,
       "grid_row": null,
       "grid_template_areas": null,
       "grid_template_columns": null,
       "grid_template_rows": null,
       "height": null,
       "justify_content": null,
       "justify_items": null,
       "left": null,
       "margin": null,
       "max_height": null,
       "max_width": null,
       "min_height": null,
       "min_width": null,
       "object_fit": null,
       "object_position": null,
       "order": null,
       "overflow": null,
       "overflow_x": null,
       "overflow_y": null,
       "padding": null,
       "right": null,
       "top": null,
       "visibility": null,
       "width": null
      }
     },
     "d557db5e87e9430ab1306d930f2bc0a0": {
      "model_module": "@jupyter-widgets/controls",
      "model_module_version": "1.5.0",
      "model_name": "FloatProgressModel",
      "state": {
       "_dom_classes": [],
       "_model_module": "@jupyter-widgets/controls",
       "_model_module_version": "1.5.0",
       "_model_name": "FloatProgressModel",
       "_view_count": null,
       "_view_module": "@jupyter-widgets/controls",
       "_view_module_version": "1.5.0",
       "_view_name": "ProgressView",
       "bar_style": "success",
       "description": "",
       "description_tooltip": null,
       "layout": "IPY_MODEL_b6c7f3f939fa48e29672851aedede849",
       "max": 57365526.0,
       "min": 0.0,
       "orientation": "horizontal",
       "style": "IPY_MODEL_149aa6ab7453426990271ff72609ba01",
       "value": 57365526.0
      }
     },
     "d90edbe5242d4ebfbf1879ff1abd763f": {
      "model_module": "@jupyter-widgets/controls",
      "model_module_version": "1.5.0",
      "model_name": "HTMLModel",
      "state": {
       "_dom_classes": [],
       "_model_module": "@jupyter-widgets/controls",
       "_model_module_version": "1.5.0",
       "_model_name": "HTMLModel",
       "_view_count": null,
       "_view_module": "@jupyter-widgets/controls",
       "_view_module_version": "1.5.0",
       "_view_name": "HTMLView",
       "description": "",
       "description_tooltip": null,
       "layout": "IPY_MODEL_b0fde05e71d94411b3bb867e1e5e9542",
       "placeholder": "​",
       "style": "IPY_MODEL_e4f7f157a32b46fd85e5dc001aaa1a51",
       "value": "100%"
      }
     },
     "e4f7f157a32b46fd85e5dc001aaa1a51": {
      "model_module": "@jupyter-widgets/controls",
      "model_module_version": "1.5.0",
      "model_name": "DescriptionStyleModel",
      "state": {
       "_model_module": "@jupyter-widgets/controls",
       "_model_module_version": "1.5.0",
       "_model_name": "DescriptionStyleModel",
       "_view_count": null,
       "_view_module": "@jupyter-widgets/base",
       "_view_module_version": "1.2.0",
       "_view_name": "StyleView",
       "description_width": ""
      }
     }
    },
    "version_major": 2,
    "version_minor": 0
   }
  }
 },
 "nbformat": 4,
 "nbformat_minor": 5
}
