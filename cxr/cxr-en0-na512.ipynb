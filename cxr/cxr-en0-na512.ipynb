{
 "cells": [
  {
   "cell_type": "markdown",
   "id": "823fb374",
   "metadata": {
    "_cell_guid": "b1076dfc-b9ad-4769-8c92-a6c4dae69d19",
    "_uuid": "8f2839f25d086af736a60e9eeb907d3b93b6e0e5",
    "papermill": {
     "duration": 0.006445,
     "end_time": "2022-07-19T05:32:41.524787",
     "exception": false,
     "start_time": "2022-07-19T05:32:41.518342",
     "status": "completed"
    },
    "tags": []
   },
   "source": [
    "### **Setup**"
   ]
  },
  {
   "cell_type": "code",
   "execution_count": 1,
   "id": "ca0167bd",
   "metadata": {
    "execution": {
     "iopub.execute_input": "2022-07-19T05:32:41.538785Z",
     "iopub.status.busy": "2022-07-19T05:32:41.537610Z",
     "iopub.status.idle": "2022-07-19T05:32:52.941603Z",
     "shell.execute_reply": "2022-07-19T05:32:52.940533Z"
    },
    "papermill": {
     "duration": 11.413139,
     "end_time": "2022-07-19T05:32:52.943794",
     "exception": false,
     "start_time": "2022-07-19T05:32:41.530655",
     "status": "completed"
    },
    "tags": []
   },
   "outputs": [
    {
     "name": "stderr",
     "output_type": "stream",
     "text": [
      "WARNING: Running pip as the 'root' user can result in broken permissions and conflicting behaviour with the system package manager. It is recommended to use a virtual environment instead: https://pip.pypa.io/warnings/venv\n"
     ]
    }
   ],
   "source": [
    "%%bash\n",
    "pip install timm -q"
   ]
  },
  {
   "cell_type": "markdown",
   "id": "1bc9ee8b",
   "metadata": {
    "papermill": {
     "duration": 0.00501,
     "end_time": "2022-07-19T05:32:52.954851",
     "exception": false,
     "start_time": "2022-07-19T05:32:52.949841",
     "status": "completed"
    },
    "tags": []
   },
   "source": [
    "### **Library Imports**"
   ]
  },
  {
   "cell_type": "code",
   "execution_count": 2,
   "id": "1ed424e9",
   "metadata": {
    "execution": {
     "iopub.execute_input": "2022-07-19T05:32:52.968066Z",
     "iopub.status.busy": "2022-07-19T05:32:52.967688Z",
     "iopub.status.idle": "2022-07-19T05:32:57.477398Z",
     "shell.execute_reply": "2022-07-19T05:32:57.476318Z"
    },
    "papermill": {
     "duration": 4.518992,
     "end_time": "2022-07-19T05:32:57.480151",
     "exception": false,
     "start_time": "2022-07-19T05:32:52.961159",
     "status": "completed"
    },
    "tags": []
   },
   "outputs": [],
   "source": [
    "import os\n",
    "import re\n",
    "import cv2\n",
    "import timm\n",
    "import torch\n",
    "import numpy as np\n",
    "import pandas as pd\n",
    "import matplotlib.pyplot as plt\n",
    "\n",
    "from time import time\n",
    "from torch import nn, optim\n",
    "from torch.utils.data import Dataset\n",
    "from torch.utils.data import DataLoader as DL\n",
    "from torchvision import models, transforms\n",
    "\n",
    "from sklearn.model_selection import KFold\n",
    "from sklearn.preprocessing import LabelEncoder\n",
    "from sklearn.metrics import accuracy_score, \\\n",
    "                            precision_recall_fscore_support, \\\n",
    "                            roc_auc_score, \\\n",
    "                            classification_report, \\\n",
    "                            confusion_matrix"
   ]
  },
  {
   "cell_type": "markdown",
   "id": "79222323",
   "metadata": {
    "papermill": {
     "duration": 0.0052,
     "end_time": "2022-07-19T05:32:57.491223",
     "exception": false,
     "start_time": "2022-07-19T05:32:57.486023",
     "status": "completed"
    },
    "tags": []
   },
   "source": [
    "### **Helpers**"
   ]
  },
  {
   "cell_type": "code",
   "execution_count": 3,
   "id": "93bbc39a",
   "metadata": {
    "execution": {
     "iopub.execute_input": "2022-07-19T05:32:57.504127Z",
     "iopub.status.busy": "2022-07-19T05:32:57.502990Z",
     "iopub.status.idle": "2022-07-19T05:32:57.517955Z",
     "shell.execute_reply": "2022-07-19T05:32:57.517009Z"
    },
    "papermill": {
     "duration": 0.023809,
     "end_time": "2022-07-19T05:32:57.520173",
     "exception": false,
     "start_time": "2022-07-19T05:32:57.496364",
     "status": "completed"
    },
    "tags": []
   },
   "outputs": [],
   "source": [
    "SEED = 42\n",
    "SIZE = 384\n",
    "\n",
    "def breaker(num: int=50, char: str=\"*\") -> None:\n",
    "    print(\"\\n\" + num*char + \"\\n\")\n",
    "\n",
    "    \n",
    "def get_image(path: str, size: int=224) -> np.ndarray:\n",
    "    image = cv2.imread(path, cv2.IMREAD_COLOR)\n",
    "    image = cv2.cvtColor(src=image, code=cv2.COLOR_BGR2RGB)\n",
    "    return cv2.resize(src=image, dsize=(size, size), interpolation=cv2.INTER_AREA)\n",
    "\n",
    "\n",
    "def show_loss_graphs(L: list) -> None:\n",
    "    TL, VL = [], []\n",
    "    for i in range(len(L)):\n",
    "        TL.append(L[i][\"train\"])\n",
    "        VL.append(L[i][\"valid\"])\n",
    "    x_Axis = np.arange(1, len(TL) + 1)\n",
    "    plt.figure()\n",
    "    plt.plot(x_Axis, TL, \"r\", label=\"Train\")\n",
    "    plt.plot(x_Axis, VL, \"b\", label=\"Valid\")\n",
    "    plt.legend()\n",
    "    plt.grid()\n",
    "    plt.title(\"Loss Graph\")\n",
    "    plt.show()\n",
    "\n",
    "    \n",
    "def show_accuracy_graphs(A: list) -> None:\n",
    "    TA, VA = [], []\n",
    "    for i in range(len(A)):\n",
    "        TA.append(A[i][\"train\"])\n",
    "        VA.append(A[i][\"valid\"])\n",
    "    x_Axis = np.arange(1, len(TA) + 1)\n",
    "    plt.figure()\n",
    "    plt.plot(x_Axis, TA, \"r\", label=\"Train\")\n",
    "    plt.plot(x_Axis, VA, \"b\", label=\"Valid\")\n",
    "    plt.legend()\n",
    "    plt.grid()\n",
    "    plt.title(\"Accuracy Graph\")\n",
    "    plt.show()\n",
    "\n",
    "    \n",
    "def show_lr_graph(LR: list) -> None:\n",
    "    x_Axis = [i+1 for i in range(len(LR))]\n",
    "    plt.figure(figsize=(8, 6))\n",
    "    plt.plot(x_Axis, LR, \"rx\")\n",
    "    plt.grid()\n",
    "    plt.show()"
   ]
  },
  {
   "cell_type": "markdown",
   "id": "b363207d",
   "metadata": {
    "papermill": {
     "duration": 0.005229,
     "end_time": "2022-07-19T05:32:57.530495",
     "exception": false,
     "start_time": "2022-07-19T05:32:57.525266",
     "status": "completed"
    },
    "tags": []
   },
   "source": [
    "### **Configuration**"
   ]
  },
  {
   "cell_type": "code",
   "execution_count": 4,
   "id": "eed12a63",
   "metadata": {
    "execution": {
     "iopub.execute_input": "2022-07-19T05:32:57.542564Z",
     "iopub.status.busy": "2022-07-19T05:32:57.542243Z",
     "iopub.status.idle": "2022-07-19T05:32:57.611372Z",
     "shell.execute_reply": "2022-07-19T05:32:57.610252Z"
    },
    "papermill": {
     "duration": 0.077564,
     "end_time": "2022-07-19T05:32:57.613512",
     "exception": false,
     "start_time": "2022-07-19T05:32:57.535948",
     "status": "completed"
    },
    "tags": []
   },
   "outputs": [],
   "source": [
    "class CFG(object):\n",
    "    def __init__(self, \n",
    "                 seed: int = 42,\n",
    "                 size: int = 224,\n",
    "                 n_splits: int = 5,\n",
    "                 batch_size: int = 16,\n",
    "                 epochs: int = 25,\n",
    "                 early_stopping: int = 5,\n",
    "                 lr: float = 1e-4,\n",
    "                 wd: float = 0.0,\n",
    "                 max_lr: float = 1e-3,\n",
    "                 pct_start: float = 0.2,\n",
    "                 steps_per_epoch: int = 100,\n",
    "                 div_factor: int = 1e3, \n",
    "                 final_div_factor: float = 1e3,\n",
    "                 ):\n",
    "        self.seed = seed\n",
    "        self.size = size\n",
    "        self.n_splits = n_splits\n",
    "        self.batch_size = batch_size\n",
    "        self.epochs = epochs\n",
    "        self.early_stopping = early_stopping\n",
    "        self.lr = lr\n",
    "        self.wd = wd\n",
    "        self.max_lr = max_lr\n",
    "        self.pct_start = pct_start\n",
    "        self.steps_per_epoch = steps_per_epoch\n",
    "        self.div_factor = div_factor\n",
    "        self.final_div_factor = final_div_factor\n",
    "        self.device = torch.device(\"cuda\" if torch.cuda.is_available() else \"cpu\")\n",
    "        self.transform = transforms.Compose([transforms.ToTensor(),\n",
    "                                transforms.Normalize([0.48231, 0.48231, 0.48231],\n",
    "                                                     [0.22267, 0.22267, 0.22267]),\n",
    "                                ])\n",
    "        self.save_path = \"saves\"\n",
    "        if not os.path.exists(self.save_path): os.makedirs(self.save_path)\n",
    "    \n",
    "cfg = CFG(seed=SEED, size=SIZE)"
   ]
  },
  {
   "cell_type": "markdown",
   "id": "761d22dc",
   "metadata": {
    "papermill": {
     "duration": 0.005284,
     "end_time": "2022-07-19T05:32:57.624483",
     "exception": false,
     "start_time": "2022-07-19T05:32:57.619199",
     "status": "completed"
    },
    "tags": []
   },
   "source": [
    "### **Dataset Template**"
   ]
  },
  {
   "cell_type": "code",
   "execution_count": 5,
   "id": "c3ca0ce0",
   "metadata": {
    "execution": {
     "iopub.execute_input": "2022-07-19T05:32:57.636465Z",
     "iopub.status.busy": "2022-07-19T05:32:57.636157Z",
     "iopub.status.idle": "2022-07-19T05:32:57.643526Z",
     "shell.execute_reply": "2022-07-19T05:32:57.642636Z"
    },
    "papermill": {
     "duration": 0.015445,
     "end_time": "2022-07-19T05:32:57.645465",
     "exception": false,
     "start_time": "2022-07-19T05:32:57.630020",
     "status": "completed"
    },
    "tags": []
   },
   "outputs": [],
   "source": [
    "class DS(Dataset):\n",
    "    def __init__(self, \n",
    "                 filenames: np.ndarray,\n",
    "                 labels: np.ndarray,\n",
    "                 size: int,\n",
    "                 transform=None\n",
    "                ):\n",
    "        \n",
    "        self.filenames = filenames\n",
    "        self.labels = labels\n",
    "        self.size = size\n",
    "        self.transform = transform\n",
    "    \n",
    "    def __len__(self):\n",
    "        return self.filenames.shape[0]\n",
    "\n",
    "    def __getitem__(self, idx):\n",
    "        image = get_image(self.filenames[idx], self.size)\n",
    "        if self.labels is not None:\n",
    "            return self.transform(image), torch.FloatTensor(self.labels[idx])\n",
    "        else:\n",
    "            return self.transform(image)"
   ]
  },
  {
   "cell_type": "markdown",
   "id": "67335bb3",
   "metadata": {
    "papermill": {
     "duration": 0.00498,
     "end_time": "2022-07-19T05:32:57.655722",
     "exception": false,
     "start_time": "2022-07-19T05:32:57.650742",
     "status": "completed"
    },
    "tags": []
   },
   "source": [
    "### **Model**"
   ]
  },
  {
   "cell_type": "code",
   "execution_count": 6,
   "id": "0656de11",
   "metadata": {
    "execution": {
     "iopub.execute_input": "2022-07-19T05:32:57.668361Z",
     "iopub.status.busy": "2022-07-19T05:32:57.668044Z",
     "iopub.status.idle": "2022-07-19T05:32:57.681596Z",
     "shell.execute_reply": "2022-07-19T05:32:57.680693Z"
    },
    "papermill": {
     "duration": 0.022495,
     "end_time": "2022-07-19T05:32:57.683784",
     "exception": false,
     "start_time": "2022-07-19T05:32:57.661289",
     "status": "completed"
    },
    "tags": []
   },
   "outputs": [],
   "source": [
    "class Model(nn.Module):\n",
    "    def __init__(self, model_name: str=\"resnet50\"):\n",
    "        super(Model, self).__init__()\n",
    "\n",
    "        if model_name == \"resnet34\":\n",
    "            self.model = models.resnet34(pretrained=True, progress=False)\n",
    "            self.model.fc = nn.Linear(in_features=self.model.fc.in_features, out_features=1)\n",
    "        \n",
    "        elif model_name == \"resnet50\":\n",
    "            self.model = models.resnet50(pretrained=True, progress=False)\n",
    "            self.model.fc = nn.Linear(in_features=self.model.fc.in_features, out_features=1)\n",
    "        \n",
    "        elif model_name == \"tv_resnet50\":\n",
    "            self.model = timm.create_model(model_name=model_name, pretrained=True)\n",
    "            self.model.fc = nn.Linear(in_features=self.model.fc.in_features, out_features=1)\n",
    "\n",
    "        elif model_name == \"densenet169\":\n",
    "            self.model = models.densenet169(pretrained=True, progress=True)\n",
    "            self.model.classifier = nn.Linear(in_features=self.model.classifier.in_features, out_features=1)\n",
    "\n",
    "        elif model_name == \"densenet201\":\n",
    "            self.model = models.densenet201(pretrained=True, progress=True)\n",
    "            self.model.classifier = nn.Linear(in_features=self.model.classifier.in_features, out_features=1)\n",
    "            \n",
    "        elif model_name == \"tv_densenet121\":\n",
    "            self.model = timm.create_model(model_name=model_name, pretrained=True)\n",
    "            self.model.classifier = nn.Linear(in_features=self.model.classifier.in_features, out_features=1)\n",
    "        \n",
    "        elif model_name == \"efficientnet_b0\":\n",
    "            self.model = timm.create_model(model_name=model_name, pretrained=True)\n",
    "            self.model.classifier = nn.Linear(in_features=self.model.classifier.in_features, out_features=1)\n",
    "        \n",
    "        elif model_name == \"efficientnet_b2\":\n",
    "            self.model = timm.create_model(model_name=model_name, pretrained=True)\n",
    "            self.model.classifier = nn.Linear(in_features=self.model.classifier.in_features, out_features=1)\n",
    "        \n",
    "        else:\n",
    "            raise NotImplementedError(\"Invalid Model Name. Model not currently available\")\n",
    "            \n",
    "    def freeze(self):\n",
    "        for params in self.parameters(): params.requires_grad = False\n",
    "\n",
    "    def forward(self, x):\n",
    "        return self.model(x)"
   ]
  },
  {
   "cell_type": "markdown",
   "id": "231088b6",
   "metadata": {
    "papermill": {
     "duration": 0.004924,
     "end_time": "2022-07-19T05:32:57.694136",
     "exception": false,
     "start_time": "2022-07-19T05:32:57.689212",
     "status": "completed"
    },
    "tags": []
   },
   "source": [
    "### **Fit**"
   ]
  },
  {
   "cell_type": "code",
   "execution_count": 7,
   "id": "03bc3093",
   "metadata": {
    "execution": {
     "iopub.execute_input": "2022-07-19T05:32:57.706381Z",
     "iopub.status.busy": "2022-07-19T05:32:57.705843Z",
     "iopub.status.idle": "2022-07-19T05:32:57.730921Z",
     "shell.execute_reply": "2022-07-19T05:32:57.730084Z"
    },
    "papermill": {
     "duration": 0.033413,
     "end_time": "2022-07-19T05:32:57.732885",
     "exception": false,
     "start_time": "2022-07-19T05:32:57.699472",
     "status": "completed"
    },
    "tags": []
   },
   "outputs": [],
   "source": [
    "def fit(model=None,\n",
    "        model_name=None,\n",
    "        optimizer=None, \n",
    "        scheduler_rlrop=None,\n",
    "        scheduler_oclr=None,\n",
    "        epochs=None, \n",
    "        early_stopping_patience=None, \n",
    "        dataloaders=None, \n",
    "        fold=None, \n",
    "        save_path=None,\n",
    "        device=None,\n",
    "        verbose=False) -> tuple:\n",
    "    \n",
    "    def get_accuracy(y_pred, y_true):\n",
    "        y_pred = torch.sigmoid(y_pred)\n",
    "        \n",
    "        y_pred[y_pred > 0.5] = 1\n",
    "        y_pred[y_pred <= 0.5] = 0\n",
    "        \n",
    "        return torch.count_nonzero(y_pred == y_true).item() / len(y_pred)\n",
    "    \n",
    "    \n",
    "    if verbose:\n",
    "        breaker()\n",
    "        print(f\" ----- {model_name.upper()} -----\")\n",
    "        breaker()\n",
    "        if fold: print(f\"Training Fold {fold}...\")\n",
    "        else: print(\"Training ...\")\n",
    "        breaker()\n",
    "    \n",
    "    bestLoss: dict = {\"train\" : np.inf, \"valid\" : np.inf} \n",
    "    bestAccs: dict = {\"train\" : 0.0, \"valid\" : 0.0}\n",
    "    \n",
    "    Losses: list = []\n",
    "    Accuracies: list = [] \n",
    "    LRs: list = []\n",
    "        \n",
    "    if fold: \n",
    "        ble_name = f\"{model_name}_ble_state_fold_{fold}.pt\"\n",
    "        bae_name = f\"{model_name}_bae_state_fold_{fold}.pt\"\n",
    "    else: \n",
    "        ble_name = f\"{model_name}_ble_state.pt\"\n",
    "        bae_name = f\"{model_name}_bae_state.pt\"\n",
    "        \n",
    "    start_time = time()\n",
    "    for e in range(epochs):\n",
    "        e_st = time()\n",
    "        epochLoss: dict = {\"train\" : 0.0, \"valid\" : 0.0} \n",
    "        epochAccs: dict = {\"train\" : 0.0, \"valid\" : 0.0}\n",
    "\n",
    "        for phase in [\"train\", \"valid\"]:\n",
    "            if phase == \"train\":\n",
    "                model.train()\n",
    "            else:\n",
    "                model.eval()\n",
    "            \n",
    "            lossPerPass: list = []\n",
    "            accsPerPass: list = []\n",
    "            \n",
    "            for X, y in dataloaders[phase]:\n",
    "                X, y = X.to(device), y.to(device)\n",
    "\n",
    "                optimizer.zero_grad()\n",
    "                with torch.set_grad_enabled(phase == \"train\"):\n",
    "                    output = model(X)\n",
    "                    loss = torch.nn.BCEWithLogitsLoss()(output, y)\n",
    "                    if phase == \"train\":\n",
    "                        loss.backward()\n",
    "                        optimizer.step()\n",
    "                        if scheduler_oclr: scheduler_oclr.step()\n",
    "                lossPerPass.append(loss.item())\n",
    "                accsPerPass.append(get_accuracy(output, y))\n",
    "            epochLoss[phase] = np.mean(np.array(lossPerPass))\n",
    "            epochAccs[phase] = np.mean(np.array(accsPerPass))\n",
    "        if scheduler_oclr: LRs.append(scheduler_oclr.get_last_lr())\n",
    "        Losses.append(epochLoss)\n",
    "        Accuracies.append(epochAccs)\n",
    "        \n",
    "        if scheduler_oclr:\n",
    "            save_dict = {\"model_state_dict\"     : model.state_dict(),\n",
    "                         \"optim_state_dict\"     : optimizer.state_dict(),\n",
    "                         \"scheduler_state_dict\" : scheduler_oclr.state_dict()}\n",
    "        \n",
    "        elif scheduler_rlrop:\n",
    "            save_dict = {\"model_state_dict\"     : model.state_dict(),\n",
    "                         \"optim_state_dict\"     : optimizer.state_dict(),\n",
    "                         \"scheduler_state_dict\" : scheduler_rlrop.state_dict()}\n",
    "        \n",
    "        else:\n",
    "            save_dict = {\"model_state_dict\"     : model.state_dict(),\n",
    "                         \"optim_state_dict\"     : optimizer.state_dict()}\n",
    "        \n",
    "        if early_stopping_patience:\n",
    "            if epochLoss[\"valid\"] < bestLoss[\"valid\"]:\n",
    "                bestLoss = epochLoss\n",
    "                BLE = e + 1\n",
    "                torch.save(save_dict, os.path.join(save_path, ble_name))\n",
    "                torch.save(save_dict, os.path.join(save_path, bae_name))\n",
    "                early_stopping_step = 0\n",
    "            else:\n",
    "                early_stopping_step += 1\n",
    "                if early_stopping_step > early_stopping_patience:\n",
    "                    print(\"\\nEarly Stopping at Epoch {}\".format(e + 1))\n",
    "                    break\n",
    "        \n",
    "        if epochLoss[\"valid\"] < bestLoss[\"valid\"]:\n",
    "            bestLoss = epochLoss\n",
    "            BLE = e + 1\n",
    "            torch.save(save_dict,os.path.join(save_path, ble_name))\n",
    "        \n",
    "        if epochAccs[\"valid\"] > bestAccs[\"valid\"]:\n",
    "            bestAccs = epochAccs\n",
    "            BAE = e + 1\n",
    "            torch.save(save_dict,os.path.join(save_path, bae_name))\n",
    "        \n",
    "        if scheduler_rlrop: scheduler_rlrop.step(epochLoss[\"valid\"])\n",
    "        \n",
    "        if verbose:\n",
    "            print(\"Epoch: {} | Train Loss: {:.5f} | Valid Loss: {:.5f} |\\\n",
    " Train Accs: {:.5f} | Valid Accs: {:.5f} | Time: {:.2f} seconds\".format(e+1, \n",
    "                                                                        epochLoss[\"train\"], epochLoss[\"valid\"], \n",
    "                                                                        epochAccs[\"train\"], epochAccs[\"valid\"], \n",
    "                                                                        time()-e_st))\n",
    "    if verbose:                                           \n",
    "        breaker()\n",
    "        print(f\"Best Validation Loss at Epoch {BLE}\")\n",
    "        breaker()\n",
    "        print(f\"Best Validation Accs at Epoch {BAE}\")\n",
    "        breaker()\n",
    "        print(\"Time Taken [{} Epochs] : {:.2f} minutes\".format(len(Losses), (time()-start_time)/60))\n",
    "    \n",
    "    return Losses, Accuracies, LRs, BLE, BAE, ble_name, bae_name"
   ]
  },
  {
   "cell_type": "markdown",
   "id": "aa52b72b",
   "metadata": {
    "papermill": {
     "duration": 0.005337,
     "end_time": "2022-07-19T05:32:57.744423",
     "exception": false,
     "start_time": "2022-07-19T05:32:57.739086",
     "status": "completed"
    },
    "tags": []
   },
   "source": [
    "### **Train**"
   ]
  },
  {
   "cell_type": "code",
   "execution_count": 8,
   "id": "753bca55",
   "metadata": {
    "execution": {
     "iopub.execute_input": "2022-07-19T05:32:57.756661Z",
     "iopub.status.busy": "2022-07-19T05:32:57.756357Z",
     "iopub.status.idle": "2022-07-19T05:32:57.796325Z",
     "shell.execute_reply": "2022-07-19T05:32:57.795293Z"
    },
    "papermill": {
     "duration": 0.048754,
     "end_time": "2022-07-19T05:32:57.798791",
     "exception": false,
     "start_time": "2022-07-19T05:32:57.750037",
     "status": "completed"
    },
    "tags": []
   },
   "outputs": [],
   "source": [
    "tr_df = pd.read_csv(\"../input/cxr-dataframe/train.csv\")\n",
    "\n",
    "filenames = tr_df.filenames.copy().values\n",
    "labels = tr_df.label.copy().values"
   ]
  },
  {
   "cell_type": "code",
   "execution_count": 9,
   "id": "4ff429a5",
   "metadata": {
    "execution": {
     "iopub.execute_input": "2022-07-19T05:32:57.811197Z",
     "iopub.status.busy": "2022-07-19T05:32:57.810903Z",
     "iopub.status.idle": "2022-07-19T07:27:26.093192Z",
     "shell.execute_reply": "2022-07-19T07:27:26.092016Z"
    },
    "papermill": {
     "duration": 6868.290963,
     "end_time": "2022-07-19T07:27:26.095230",
     "exception": false,
     "start_time": "2022-07-19T05:32:57.804267",
     "status": "completed"
    },
    "tags": []
   },
   "outputs": [
    {
     "name": "stderr",
     "output_type": "stream",
     "text": [
      "Downloading: \"https://github.com/rwightman/pytorch-image-models/releases/download/v0.1-weights/efficientnet_b0_ra-3dd342df.pth\" to /root/.cache/torch/hub/checkpoints/efficientnet_b0_ra-3dd342df.pth\n"
     ]
    },
    {
     "name": "stdout",
     "output_type": "stream",
     "text": [
      "\n",
      "**************************************************\n",
      "\n",
      " ----- EFFICIENTNET_B0 -----\n",
      "\n",
      "**************************************************\n",
      "\n",
      "Training Fold 1...\n",
      "\n",
      "**************************************************\n",
      "\n",
      "Epoch: 1 | Train Loss: 0.29525 | Valid Loss: 0.08462 | Train Accs: 0.87768 | Valid Accs: 0.96591 | Time: 218.65 seconds\n",
      "Epoch: 2 | Train Loss: 0.08209 | Valid Loss: 0.04875 | Train Accs: 0.96875 | Valid Accs: 0.98106 | Time: 172.36 seconds\n",
      "Epoch: 3 | Train Loss: 0.05004 | Valid Loss: 0.03683 | Train Accs: 0.98335 | Valid Accs: 0.98390 | Time: 172.24 seconds\n",
      "Epoch: 4 | Train Loss: 0.04670 | Valid Loss: 0.02658 | Train Accs: 0.98115 | Valid Accs: 0.98864 | Time: 171.30 seconds\n",
      "Epoch: 5 | Train Loss: 0.01948 | Valid Loss: 0.03545 | Train Accs: 0.99356 | Valid Accs: 0.98485 | Time: 171.97 seconds\n",
      "Epoch: 6 | Train Loss: 0.00718 | Valid Loss: 0.00982 | Train Accs: 0.99833 | Valid Accs: 0.99621 | Time: 171.93 seconds\n",
      "Epoch: 7 | Train Loss: 0.00411 | Valid Loss: 0.01214 | Train Accs: 0.99905 | Valid Accs: 0.99527 | Time: 171.29 seconds\n",
      "Epoch: 8 | Train Loss: 0.00061 | Valid Loss: 0.01239 | Train Accs: 1.00000 | Valid Accs: 0.99527 | Time: 171.30 seconds\n",
      "Epoch: 9 | Train Loss: 0.00086 | Valid Loss: 0.01224 | Train Accs: 0.99976 | Valid Accs: 0.99621 | Time: 170.19 seconds\n",
      "Epoch: 10 | Train Loss: 0.00039 | Valid Loss: 0.01039 | Train Accs: 1.00000 | Valid Accs: 0.99716 | Time: 171.31 seconds\n",
      "\n",
      "**************************************************\n",
      "\n",
      "Best Validation Loss at Epoch 6\n",
      "\n",
      "**************************************************\n",
      "\n",
      "Best Validation Accs at Epoch 10\n",
      "\n",
      "**************************************************\n",
      "\n",
      "Time Taken [10 Epochs] : 29.38 minutes\n",
      "\n",
      "**************************************************\n",
      "\n"
     ]
    },
    {
     "data": {
      "image/png": "[encoded data removed]",
      "text/plain": [
       "<Figure size 432x288 with 1 Axes>"
      ]
     },
     "metadata": {
      "needs_background": "light"
     },
     "output_type": "display_data"
    },
    {
     "name": "stdout",
     "output_type": "stream",
     "text": [
      "\n",
      "**************************************************\n",
      "\n"
     ]
    },
    {
     "data": {
      "image/png": "[encoded data removed]",
      "text/plain": [
       "<Figure size 432x288 with 1 Axes>"
      ]
     },
     "metadata": {
      "needs_background": "light"
     },
     "output_type": "display_data"
    },
    {
     "name": "stdout",
     "output_type": "stream",
     "text": [
      "\n",
      "**************************************************\n",
      "\n"
     ]
    },
    {
     "data": {
      "image/png": "[encoded data removed]",
      "text/plain": [
       "<Figure size 576x432 with 1 Axes>"
      ]
     },
     "metadata": {
      "needs_background": "light"
     },
     "output_type": "display_data"
    },
    {
     "name": "stdout",
     "output_type": "stream",
     "text": [
      "\n",
      "**************************************************\n",
      "\n",
      "\n",
      "**************************************************\n",
      "\n",
      " ----- EFFICIENTNET_B0 -----\n",
      "\n",
      "**************************************************\n",
      "\n",
      "Training Fold 2...\n",
      "\n",
      "**************************************************\n",
      "\n",
      "Epoch: 1 | Train Loss: 0.37810 | Valid Loss: 0.08449 | Train Accs: 0.83652 | Valid Accs: 0.97335 | Time: 128.91 seconds\n",
      "Epoch: 2 | Train Loss: 0.05954 | Valid Loss: 0.09172 | Train Accs: 0.97714 | Valid Accs: 0.96783 | Time: 128.27 seconds\n",
      "Epoch: 3 | Train Loss: 0.03472 | Valid Loss: 0.04329 | Train Accs: 0.98753 | Valid Accs: 0.98621 | Time: 127.68 seconds\n",
      "Epoch: 4 | Train Loss: 0.01913 | Valid Loss: 0.12783 | Train Accs: 0.99348 | Valid Accs: 0.95588 | Time: 126.78 seconds\n",
      "Epoch: 5 | Train Loss: 0.00696 | Valid Loss: 0.05243 | Train Accs: 0.99716 | Valid Accs: 0.98162 | Time: 126.76 seconds\n",
      "Epoch: 6 | Train Loss: 0.01111 | Valid Loss: 0.06400 | Train Accs: 0.99584 | Valid Accs: 0.97886 | Time: 126.67 seconds\n",
      "Epoch: 7 | Train Loss: 0.00943 | Valid Loss: 0.03099 | Train Accs: 0.99811 | Valid Accs: 0.98805 | Time: 126.59 seconds\n",
      "Epoch: 8 | Train Loss: 0.00156 | Valid Loss: 0.02453 | Train Accs: 0.99953 | Valid Accs: 0.99265 | Time: 128.25 seconds\n",
      "Epoch: 9 | Train Loss: 0.00073 | Valid Loss: 0.02558 | Train Accs: 1.00000 | Valid Accs: 0.99081 | Time: 127.49 seconds\n",
      "Epoch: 10 | Train Loss: 0.00045 | Valid Loss: 0.02549 | Train Accs: 1.00000 | Valid Accs: 0.99081 | Time: 126.76 seconds\n",
      "\n",
      "**************************************************\n",
      "\n",
      "Best Validation Loss at Epoch 8\n",
      "\n",
      "**************************************************\n",
      "\n",
      "Best Validation Accs at Epoch 8\n",
      "\n",
      "**************************************************\n",
      "\n",
      "Time Taken [10 Epochs] : 21.24 minutes\n",
      "\n",
      "**************************************************\n",
      "\n"
     ]
    },
    {
     "data": {
      "image/png": "[encoded data removed]",
      "text/plain": [
       "<Figure size 432x288 with 1 Axes>"
      ]
     },
     "metadata": {
      "needs_background": "light"
     },
     "output_type": "display_data"
    },
    {
     "name": "stdout",
     "output_type": "stream",
     "text": [
      "\n",
      "**************************************************\n",
      "\n"
     ]
    },
    {
     "data": {
      "image/png": "[encoded data removed]",
      "text/plain": [
       "<Figure size 432x288 with 1 Axes>"
      ]
     },
     "metadata": {
      "needs_background": "light"
     },
     "output_type": "display_data"
    },
    {
     "name": "stdout",
     "output_type": "stream",
     "text": [
      "\n",
      "**************************************************\n",
      "\n"
     ]
    },
    {
     "data": {
      "image/png": "[encoded data removed]",
      "text/plain": [
       "<Figure size 576x432 with 1 Axes>"
      ]
     },
     "metadata": {
      "needs_background": "light"
     },
     "output_type": "display_data"
    },
    {
     "name": "stdout",
     "output_type": "stream",
     "text": [
      "\n",
      "**************************************************\n",
      "\n",
      "\n",
      "**************************************************\n",
      "\n",
      " ----- EFFICIENTNET_B0 -----\n",
      "\n",
      "**************************************************\n",
      "\n",
      "Training Fold 3...\n",
      "\n",
      "**************************************************\n",
      "\n",
      "Epoch: 1 | Train Loss: 0.38436 | Valid Loss: 0.08045 | Train Accs: 0.82765 | Valid Accs: 0.96608 | Time: 128.50 seconds\n",
      "Epoch: 2 | Train Loss: 0.07341 | Valid Loss: 0.05222 | Train Accs: 0.97445 | Valid Accs: 0.98538 | Time: 127.56 seconds\n",
      "Epoch: 3 | Train Loss: 0.02943 | Valid Loss: 0.09698 | Train Accs: 0.99100 | Valid Accs: 0.96248 | Time: 127.66 seconds\n",
      "Epoch: 4 | Train Loss: 0.02216 | Valid Loss: 0.03537 | Train Accs: 0.99221 | Valid Accs: 0.97995 | Time: 129.21 seconds\n",
      "Epoch: 5 | Train Loss: 0.02121 | Valid Loss: 0.03466 | Train Accs: 0.99148 | Valid Accs: 0.98722 | Time: 128.52 seconds\n",
      "Epoch: 6 | Train Loss: 0.00483 | Valid Loss: 0.03837 | Train Accs: 0.99905 | Valid Accs: 0.98905 | Time: 128.59 seconds\n",
      "Epoch: 7 | Train Loss: 0.00091 | Valid Loss: 0.02783 | Train Accs: 1.00000 | Valid Accs: 0.99273 | Time: 128.67 seconds\n",
      "Epoch: 8 | Train Loss: 0.00219 | Valid Loss: 0.03153 | Train Accs: 0.99929 | Valid Accs: 0.99273 | Time: 127.52 seconds\n",
      "Epoch: 9 | Train Loss: 0.00077 | Valid Loss: 0.03226 | Train Accs: 1.00000 | Valid Accs: 0.99181 | Time: 126.33 seconds\n",
      "Epoch: 10 | Train Loss: 0.00050 | Valid Loss: 0.03011 | Train Accs: 1.00000 | Valid Accs: 0.99181 | Time: 126.94 seconds\n",
      "\n",
      "**************************************************\n",
      "\n",
      "Best Validation Loss at Epoch 7\n",
      "\n",
      "**************************************************\n",
      "\n",
      "Best Validation Accs at Epoch 7\n",
      "\n",
      "**************************************************\n",
      "\n",
      "Time Taken [10 Epochs] : 21.32 minutes\n",
      "\n",
      "**************************************************\n",
      "\n"
     ]
    },
    {
     "data": {
      "image/png": "[encoded data removed]",
      "text/plain": [
       "<Figure size 432x288 with 1 Axes>"
      ]
     },
     "metadata": {
      "needs_background": "light"
     },
     "output_type": "display_data"
    },
    {
     "name": "stdout",
     "output_type": "stream",
     "text": [
      "\n",
      "**************************************************\n",
      "\n"
     ]
    },
    {
     "data": {
      "image/png": "[encoded data removed]",
      "text/plain": [
       "<Figure size 432x288 with 1 Axes>"
      ]
     },
     "metadata": {
      "needs_background": "light"
     },
     "output_type": "display_data"
    },
    {
     "name": "stdout",
     "output_type": "stream",
     "text": [
      "\n",
      "**************************************************\n",
      "\n"
     ]
    },
    {
     "data": {
      "image/png": "[encoded data removed]",
      "text/plain": [
       "<Figure size 576x432 with 1 Axes>"
      ]
     },
     "metadata": {
      "needs_background": "light"
     },
     "output_type": "display_data"
    },
    {
     "name": "stdout",
     "output_type": "stream",
     "text": [
      "\n",
      "**************************************************\n",
      "\n",
      "\n",
      "**************************************************\n",
      "\n",
      " ----- EFFICIENTNET_B0 -----\n",
      "\n",
      "**************************************************\n",
      "\n",
      "Training Fold 4...\n",
      "\n",
      "**************************************************\n",
      "\n",
      "Epoch: 1 | Train Loss: 0.39031 | Valid Loss: 0.15738 | Train Accs: 0.82315 | Valid Accs: 0.94118 | Time: 128.28 seconds\n",
      "Epoch: 2 | Train Loss: 0.05919 | Valid Loss: 0.05154 | Train Accs: 0.97775 | Valid Accs: 0.98621 | Time: 127.13 seconds\n",
      "Epoch: 3 | Train Loss: 0.04363 | Valid Loss: 0.06173 | Train Accs: 0.98319 | Valid Accs: 0.97794 | Time: 126.66 seconds\n",
      "Epoch: 4 | Train Loss: 0.01886 | Valid Loss: 0.02756 | Train Accs: 0.99231 | Valid Accs: 0.99265 | Time: 127.13 seconds\n",
      "Epoch: 5 | Train Loss: 0.01199 | Valid Loss: 0.02111 | Train Accs: 0.99550 | Valid Accs: 0.99357 | Time: 128.28 seconds\n",
      "Epoch: 6 | Train Loss: 0.00588 | Valid Loss: 0.02946 | Train Accs: 0.99811 | Valid Accs: 0.98713 | Time: 127.23 seconds\n",
      "Epoch: 7 | Train Loss: 0.00305 | Valid Loss: 0.02061 | Train Accs: 0.99858 | Valid Accs: 0.99357 | Time: 127.47 seconds\n",
      "Epoch: 8 | Train Loss: 0.00176 | Valid Loss: 0.01463 | Train Accs: 0.99953 | Valid Accs: 0.99265 | Time: 127.41 seconds\n",
      "Epoch: 9 | Train Loss: 0.00127 | Valid Loss: 0.01323 | Train Accs: 0.99976 | Valid Accs: 0.99540 | Time: 127.29 seconds\n",
      "Epoch: 10 | Train Loss: 0.00161 | Valid Loss: 0.01324 | Train Accs: 0.99942 | Valid Accs: 0.99357 | Time: 127.62 seconds\n",
      "\n",
      "**************************************************\n",
      "\n",
      "Best Validation Loss at Epoch 9\n",
      "\n",
      "**************************************************\n",
      "\n",
      "Best Validation Accs at Epoch 9\n",
      "\n",
      "**************************************************\n",
      "\n",
      "Time Taken [10 Epochs] : 21.24 minutes\n",
      "\n",
      "**************************************************\n",
      "\n"
     ]
    },
    {
     "data": {
      "image/png": "[encoded data removed]",
      "text/plain": [
       "<Figure size 432x288 with 1 Axes>"
      ]
     },
     "metadata": {
      "needs_background": "light"
     },
     "output_type": "display_data"
    },
    {
     "name": "stdout",
     "output_type": "stream",
     "text": [
      "\n",
      "**************************************************\n",
      "\n"
     ]
    },
    {
     "data": {
      "image/png": "[encoded data removed]",
      "text/plain": [
       "<Figure size 432x288 with 1 Axes>"
      ]
     },
     "metadata": {
      "needs_background": "light"
     },
     "output_type": "display_data"
    },
    {
     "name": "stdout",
     "output_type": "stream",
     "text": [
      "\n",
      "**************************************************\n",
      "\n"
     ]
    },
    {
     "data": {
      "image/png": "[encoded data removed]",
      "text/plain": [
       "<Figure size 576x432 with 1 Axes>"
      ]
     },
     "metadata": {
      "needs_background": "light"
     },
     "output_type": "display_data"
    },
    {
     "name": "stdout",
     "output_type": "stream",
     "text": [
      "\n",
      "**************************************************\n",
      "\n",
      "\n",
      "**************************************************\n",
      "\n",
      " ----- EFFICIENTNET_B0 -----\n",
      "\n",
      "**************************************************\n",
      "\n",
      "Training Fold 5...\n",
      "\n",
      "**************************************************\n",
      "\n",
      "Epoch: 1 | Train Loss: 0.38245 | Valid Loss: 0.24655 | Train Accs: 0.81878 | Valid Accs: 0.94210 | Time: 127.13 seconds\n",
      "Epoch: 2 | Train Loss: 0.06293 | Valid Loss: 0.12829 | Train Accs: 0.97751 | Valid Accs: 0.96324 | Time: 127.35 seconds\n",
      "Epoch: 3 | Train Loss: 0.03442 | Valid Loss: 0.02793 | Train Accs: 0.98663 | Valid Accs: 0.98989 | Time: 126.85 seconds\n",
      "Epoch: 4 | Train Loss: 0.02068 | Valid Loss: 0.02632 | Train Accs: 0.99148 | Valid Accs: 0.98713 | Time: 126.52 seconds\n",
      "Epoch: 5 | Train Loss: 0.01499 | Valid Loss: 0.03145 | Train Accs: 0.99455 | Valid Accs: 0.98805 | Time: 126.45 seconds\n",
      "Epoch: 6 | Train Loss: 0.00736 | Valid Loss: 0.01833 | Train Accs: 0.99729 | Valid Accs: 0.99265 | Time: 126.34 seconds\n",
      "Epoch: 7 | Train Loss: 0.00202 | Valid Loss: 0.01646 | Train Accs: 0.99929 | Valid Accs: 0.99173 | Time: 126.86 seconds\n",
      "Epoch: 8 | Train Loss: 0.00051 | Valid Loss: 0.01537 | Train Accs: 1.00000 | Valid Accs: 0.99173 | Time: 126.71 seconds\n",
      "Epoch: 9 | Train Loss: 0.00028 | Valid Loss: 0.01516 | Train Accs: 1.00000 | Valid Accs: 0.99265 | Time: 127.52 seconds\n",
      "Epoch: 10 | Train Loss: 0.00140 | Valid Loss: 0.01594 | Train Accs: 0.99942 | Valid Accs: 0.99265 | Time: 126.01 seconds\n",
      "\n",
      "**************************************************\n",
      "\n",
      "Best Validation Loss at Epoch 9\n",
      "\n",
      "**************************************************\n",
      "\n",
      "Best Validation Accs at Epoch 6\n",
      "\n",
      "**************************************************\n",
      "\n",
      "Time Taken [10 Epochs] : 21.13 minutes\n",
      "\n",
      "**************************************************\n",
      "\n"
     ]
    },
    {
     "data": {
      "image/png": "[encoded data removed]",
      "text/plain": [
       "<Figure size 432x288 with 1 Axes>"
      ]
     },
     "metadata": {
      "needs_background": "light"
     },
     "output_type": "display_data"
    },
    {
     "name": "stdout",
     "output_type": "stream",
     "text": [
      "\n",
      "**************************************************\n",
      "\n"
     ]
    },
    {
     "data": {
      "image/png": "[encoded data removed]",
      "text/plain": [
       "<Figure size 432x288 with 1 Axes>"
      ]
     },
     "metadata": {
      "needs_background": "light"
     },
     "output_type": "display_data"
    },
    {
     "name": "stdout",
     "output_type": "stream",
     "text": [
      "\n",
      "**************************************************\n",
      "\n"
     ]
    },
    {
     "data": {
      "image/png": "[encoded data removed]",
      "text/plain": [
       "<Figure size 576x432 with 1 Axes>"
      ]
     },
     "metadata": {
      "needs_background": "light"
     },
     "output_type": "display_data"
    },
    {
     "name": "stdout",
     "output_type": "stream",
     "text": [
      "\n",
      "**************************************************\n",
      "\n"
     ]
    }
   ],
   "source": [
    "fold: int = 1\n",
    "BLEs: list = []\n",
    "BAEs: list = []\n",
    "model_name: str = \"efficientnet_b0\"\n",
    "    \n",
    "for tr_idx, va_idx in KFold(n_splits=cfg.n_splits, random_state=cfg.seed, shuffle=True).split(filenames):\n",
    "\n",
    "    tr_filenames, va_filenames = filenames[tr_idx], filenames[va_idx] \n",
    "    tr_labels, va_labels       = labels[tr_idx], labels[va_idx]\n",
    "\n",
    "    tr_data_setup = DS(\n",
    "        filenames=tr_filenames, \n",
    "        labels=tr_labels.reshape(-1, 1),\n",
    "        size=cfg.size,\n",
    "        transform=cfg.transform\n",
    "    )\n",
    "\n",
    "    va_data_setup = DS(\n",
    "        filenames=va_filenames,\n",
    "        labels=va_labels.reshape(-1, 1),\n",
    "        size=cfg.size,\n",
    "        transform=cfg.transform\n",
    "    )\n",
    "\n",
    "    dataloaders = {\n",
    "        \"train\" : DL(tr_data_setup, batch_size=cfg.batch_size, shuffle=True, generator=torch.manual_seed(cfg.seed)),\n",
    "        \"valid\" : DL(va_data_setup, batch_size=cfg.batch_size, shuffle=False),\n",
    "    }\n",
    "\n",
    "    cfg = CFG(\n",
    "        epochs=10,\n",
    "        batch_size=64, \n",
    "        lr=1e-3,\n",
    "        wd=0.0,\n",
    "        early_stopping=5,\n",
    "        steps_per_epoch=len(dataloaders[\"train\"])\n",
    "    )\n",
    "\n",
    "    torch.manual_seed(cfg.seed)\n",
    "    model = Model(model_name=model_name).to(cfg.device)\n",
    "\n",
    "    optimizer = optim.Adam([p for p in model.parameters() if p.requires_grad], lr=cfg.lr, weight_decay=cfg.wd)\n",
    "    # optimizer = optim.AdamW([p for p in model.parameters() if p.requires_grad], lr=cfg.lr, weight_decay=cfg.wd)\n",
    "    # optimizer = optim.SGD([p for p in model.parameters() if p.requires_grad], lr=cfg.lr, weight_decay=cfg.wd, momentum=0.9)\n",
    "    \n",
    "    scheduler_oclr = optim.lr_scheduler.OneCycleLR(\n",
    "        optimizer=optimizer, \n",
    "        max_lr=cfg.max_lr, \n",
    "        epochs=cfg.epochs, \n",
    "        steps_per_epoch=cfg.steps_per_epoch,\n",
    "        pct_start=cfg.pct_start, \n",
    "        div_factor=cfg.div_factor, \n",
    "        final_div_factor=cfg.final_div_factor\n",
    "    )\n",
    "\n",
    "    # scheduler_rlrop = optim.lr_scheduler.ReduceLROnPlateau(\n",
    "    #     optimizer=optimizer,\n",
    "    #     patience=cfg.patience,\n",
    "    #     eps=cfg.eps,\n",
    "    #     verbose=True\n",
    "    # )\n",
    "    \n",
    "    # scheduler_oclr = None\n",
    "    scheduler_rlrop = None\n",
    "\n",
    "\n",
    "    L, A, LR, BLE, BAE, _, _ = fit(\n",
    "        model=model, \n",
    "        model_name=model_name,\n",
    "        optimizer=optimizer, \n",
    "        scheduler_oclr=scheduler_oclr,\n",
    "        scheduler_rlrop=scheduler_rlrop,\n",
    "        epochs=cfg.epochs, \n",
    "        early_stopping_patience=cfg.early_stopping, \n",
    "        dataloaders=dataloaders, \n",
    "        device=cfg.device,\n",
    "        save_path=cfg.save_path,\n",
    "        fold=fold,\n",
    "        verbose=True\n",
    "    )\n",
    "    \n",
    "    breaker()\n",
    "    show_loss_graphs(L)\n",
    "    breaker()\n",
    "    show_accuracy_graphs(A)\n",
    "    breaker()\n",
    "    if scheduler_oclr:\n",
    "        show_lr_graph(LR)\n",
    "        breaker()\n",
    "    \n",
    "    BLEs.append(BLE)\n",
    "    BAEs.append(BAE)\n",
    "    \n",
    "    fold += 1"
   ]
  },
  {
   "cell_type": "code",
   "execution_count": 10,
   "id": "fb920d9b",
   "metadata": {
    "execution": {
     "iopub.execute_input": "2022-07-19T07:27:26.124577Z",
     "iopub.status.busy": "2022-07-19T07:27:26.124283Z",
     "iopub.status.idle": "2022-07-19T07:27:26.130426Z",
     "shell.execute_reply": "2022-07-19T07:27:26.129323Z"
    },
    "papermill": {
     "duration": 0.02467,
     "end_time": "2022-07-19T07:27:26.133892",
     "exception": false,
     "start_time": "2022-07-19T07:27:26.109222",
     "status": "completed"
    },
    "tags": []
   },
   "outputs": [
    {
     "name": "stdout",
     "output_type": "stream",
     "text": [
      "\n",
      "**************************************************\n",
      "\n",
      "Best Loss Model Fold     : 1\n",
      "Best Accuracy Model Fold : 1\n",
      "\n",
      "**************************************************\n",
      "\n"
     ]
    }
   ],
   "source": [
    "best_loss_index = BLEs.index(min(BLEs))\n",
    "best_accs_index = BAEs.index(max(BAEs))\n",
    "\n",
    "breaker()\n",
    "print(f\"Best Loss Model Fold     : {best_loss_index + 1}\")\n",
    "print(f\"Best Accuracy Model Fold : {best_accs_index + 1}\")\n",
    "breaker()"
   ]
  },
  {
   "cell_type": "markdown",
   "id": "7113bb74",
   "metadata": {
    "papermill": {
     "duration": 0.013885,
     "end_time": "2022-07-19T07:27:26.161105",
     "exception": false,
     "start_time": "2022-07-19T07:27:26.147220",
     "status": "completed"
    },
    "tags": []
   },
   "source": [
    "### **Test Set Evalutaion**"
   ]
  },
  {
   "cell_type": "code",
   "execution_count": 11,
   "id": "601c05bb",
   "metadata": {
    "execution": {
     "iopub.execute_input": "2022-07-19T07:27:26.189720Z",
     "iopub.status.busy": "2022-07-19T07:27:26.189145Z",
     "iopub.status.idle": "2022-07-19T07:27:26.200846Z",
     "shell.execute_reply": "2022-07-19T07:27:26.199875Z"
    },
    "papermill": {
     "duration": 0.028345,
     "end_time": "2022-07-19T07:27:26.202869",
     "exception": false,
     "start_time": "2022-07-19T07:27:26.174524",
     "status": "completed"
    },
    "tags": []
   },
   "outputs": [],
   "source": [
    "def get_scores(y_true: np.ndarray, y_pred: np.ndarray) -> tuple:\n",
    "    accuracy = accuracy_score(y_pred, y_true)\n",
    "    try:\n",
    "        auc = roc_auc_score(y_pred, y_true)\n",
    "    except:\n",
    "        auc = 0\n",
    "    precision, recall, f_score, _ = precision_recall_fscore_support(y_pred, y_true)\n",
    "\n",
    "    return accuracy, auc, precision, recall, f_score\n",
    "\n",
    "\n",
    "def print_scores(\n",
    "    accuracy: float, \n",
    "    auc: float, \n",
    "    precision: np.ndarray, \n",
    "    recall: np.ndarray, \n",
    "    f_score: np.ndarray\n",
    ") -> None:\n",
    "    print(f\"Accuracy  : {accuracy:.5f}\")\n",
    "    print(f\"ROC-AUC   : {auc:.5f}\")\n",
    "    print(f\"Precision : {precision}\")\n",
    "    print(f\"Recall    : {recall}\")\n",
    "    print(f\"F-Score   : {f_score}\")\n",
    "\n",
    "\n",
    "def predict_batch(model=None, dataloader=None, path=None, device=None) -> np.ndarray:\n",
    "    model.load_state_dict(torch.load(path, map_location=device)[\"model_state_dict\"])\n",
    "    model.to(device)    \n",
    "    model.eval()\n",
    "    \n",
    "    y_pred = torch.zeros(1, 1).to(device)\n",
    "    for X in dataloader:\n",
    "        X = X.to(device)\n",
    "        with torch.no_grad():\n",
    "            output = torch.sigmoid(model(X))\n",
    "        y_pred = torch.cat((y_pred, output.view(-1, 1)), dim=0)\n",
    "    \n",
    "    y_pred[y_pred > 0.5] = 1\n",
    "    y_pred[y_pred <= 0.5] = 0\n",
    "    \n",
    "    return y_pred[1:].detach().cpu().numpy().astype(\"uint8\")"
   ]
  },
  {
   "cell_type": "code",
   "execution_count": 12,
   "id": "7ab65f20",
   "metadata": {
    "execution": {
     "iopub.execute_input": "2022-07-19T07:27:26.231661Z",
     "iopub.status.busy": "2022-07-19T07:27:26.231114Z",
     "iopub.status.idle": "2022-07-19T07:27:26.248746Z",
     "shell.execute_reply": "2022-07-19T07:27:26.247764Z"
    },
    "papermill": {
     "duration": 0.034665,
     "end_time": "2022-07-19T07:27:26.250791",
     "exception": false,
     "start_time": "2022-07-19T07:27:26.216126",
     "status": "completed"
    },
    "tags": []
   },
   "outputs": [],
   "source": [
    "ts_df = pd.read_csv(\"../input/cxr-dataframe/train.csv\")\n",
    "\n",
    "ts_filenames = ts_df.filenames.copy().values\n",
    "ts_labels = ts_df.label.copy().values"
   ]
  },
  {
   "cell_type": "code",
   "execution_count": 13,
   "id": "4e15797d",
   "metadata": {
    "execution": {
     "iopub.execute_input": "2022-07-19T07:27:26.280329Z",
     "iopub.status.busy": "2022-07-19T07:27:26.279643Z",
     "iopub.status.idle": "2022-07-19T07:36:37.831549Z",
     "shell.execute_reply": "2022-07-19T07:36:37.830382Z"
    },
    "papermill": {
     "duration": 551.582859,
     "end_time": "2022-07-19T07:36:37.847627",
     "exception": false,
     "start_time": "2022-07-19T07:27:26.264768",
     "status": "completed"
    },
    "tags": []
   },
   "outputs": [
    {
     "name": "stdout",
     "output_type": "stream",
     "text": [
      "\n",
      "**************************************************\n",
      "\n",
      "FOLD 1\n",
      "\n",
      "Accuracy  : 0.93979\n",
      "ROC-AUC   : 0.96210\n",
      "Precision : [0.76723499 0.99974247]\n",
      "Recall    : [0.99903475 0.92516683]\n",
      "F-Score   : [0.86792453 0.96101003]\n",
      "\n",
      "**************************************************\n",
      "\n",
      "FOLD 2\n",
      "\n",
      "Accuracy  : 0.99847\n",
      "ROC-AUC   : 0.99824\n",
      "Precision : [0.99629355 0.9992274 ]\n",
      "Recall    : [0.99777283 0.998713  ]\n",
      "F-Score   : [0.99703264 0.99897013]\n",
      "\n",
      "**************************************************\n",
      "\n",
      "FOLD 3\n",
      "\n",
      "Accuracy  : 0.99885\n",
      "ROC-AUC   : 0.99826\n",
      "Precision : [0.99851742 0.99896987]\n",
      "Recall    : [0.99703923 0.99948467]\n",
      "F-Score   : [0.99777778 0.9992272 ]\n",
      "\n",
      "**************************************************\n",
      "\n",
      "FOLD 4\n",
      "\n",
      "Accuracy  : 0.99904\n",
      "ROC-AUC   : 0.99863\n",
      "Precision : [0.99851742 0.9992274 ]\n",
      "Recall    : [0.99777778 0.9994848 ]\n",
      "F-Score   : [0.99814746 0.99935608]\n",
      "\n",
      "**************************************************\n",
      "\n",
      "FOLD 5\n",
      "\n",
      "Accuracy  : 0.99847\n",
      "ROC-AUC   : 0.99776\n",
      "Precision : [0.99777613 0.99871234]\n",
      "Recall    : [0.99629904 0.999227  ]\n",
      "F-Score   : [0.99703704 0.9989696 ]\n",
      "\n",
      "**************************************************\n",
      "\n"
     ]
    }
   ],
   "source": [
    "ts_data_setup = DS(\n",
    "    filenames=ts_filenames,\n",
    "    labels=None,\n",
    "    size=cfg.size,\n",
    "    transform=cfg.transform\n",
    ")\n",
    "ts_data = DL(ts_data_setup, batch_size=cfg.batch_size, shuffle=False)\n",
    "\n",
    "BACCs: list = []\n",
    "BAUCs: list = []\n",
    "\n",
    "breaker()\n",
    "for fold in range(cfg.n_splits):\n",
    "    model = Model(model_name=model_name).to(cfg.device)\n",
    "    \n",
    "    model_path = f\"saves/{model_name}_ble_state_fold_{fold + 1}.pt\"\n",
    "\n",
    "    y_pred = predict_batch(\n",
    "        model=model, \n",
    "        dataloader=ts_data, \n",
    "        path=model_path, \n",
    "        device=cfg.device\n",
    "    )\n",
    "    \n",
    "    accuracy, auc, precision, recall, f_score = get_scores(ts_labels, y_pred)\n",
    "    print(f\"FOLD {fold + 1}\\n\")\n",
    "    print_scores(accuracy, auc, precision, recall, f_score)\n",
    "    breaker()\n",
    "    \n",
    "    BACCs.append(accuracy)\n",
    "    BAUCs.append(auc)"
   ]
  },
  {
   "cell_type": "code",
   "execution_count": 14,
   "id": "6d2717a9",
   "metadata": {
    "execution": {
     "iopub.execute_input": "2022-07-19T07:36:37.877924Z",
     "iopub.status.busy": "2022-07-19T07:36:37.877598Z",
     "iopub.status.idle": "2022-07-19T07:36:37.883615Z",
     "shell.execute_reply": "2022-07-19T07:36:37.882684Z"
    },
    "papermill": {
     "duration": 0.024094,
     "end_time": "2022-07-19T07:36:37.885697",
     "exception": false,
     "start_time": "2022-07-19T07:36:37.861603",
     "status": "completed"
    },
    "tags": []
   },
   "outputs": [
    {
     "name": "stdout",
     "output_type": "stream",
     "text": [
      "\n",
      "**************************************************\n",
      "\n",
      "Best ACC Model Fold : 4\n",
      "Best AUC Model Fold : 4\n",
      "\n",
      "**************************************************\n",
      "\n"
     ]
    }
   ],
   "source": [
    "best_accs_index = BACCs.index(max(BACCs))\n",
    "best_aucs_index = BAUCs.index(max(BAUCs))\n",
    "\n",
    "breaker()\n",
    "print(f\"Best ACC Model Fold : {best_accs_index + 1}\")\n",
    "print(f\"Best AUC Model Fold : {best_aucs_index + 1}\")\n",
    "breaker()"
   ]
  }
 ],
 "metadata": {
  "kernelspec": {
   "display_name": "Python 3",
   "language": "python",
   "name": "python3"
  },
  "language_info": {
   "codemirror_mode": {
    "name": "ipython",
    "version": 3
   },
   "file_extension": ".py",
   "mimetype": "text/x-python",
   "name": "python",
   "nbconvert_exporter": "python",
   "pygments_lexer": "ipython3",
   "version": "3.7.12"
  },
  "papermill": {
   "default_parameters": {},
   "duration": 7446.689264,
   "end_time": "2022-07-19T07:36:39.736911",
   "environment_variables": {},
   "exception": null,
   "input_path": "__notebook__.ipynb",
   "output_path": "__notebook__.ipynb",
   "parameters": {},
   "start_time": "2022-07-19T05:32:33.047647",
   "version": "2.3.4"
  }
 },
 "nbformat": 4,
 "nbformat_minor": 5
}
