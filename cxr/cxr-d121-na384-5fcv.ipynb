{
 "cells": [
  {
   "cell_type": "markdown",
   "id": "404cba19",
   "metadata": {
    "_cell_guid": "b1076dfc-b9ad-4769-8c92-a6c4dae69d19",
    "_uuid": "8f2839f25d086af736a60e9eeb907d3b93b6e0e5",
    "papermill": {
     "duration": 0.013816,
     "end_time": "2022-04-21T05:37:07.886296",
     "exception": false,
     "start_time": "2022-04-21T05:37:07.872480",
     "status": "completed"
    },
    "tags": []
   },
   "source": [
    "### Library Imports"
   ]
  },
  {
   "cell_type": "code",
   "execution_count": 1,
   "id": "65eb2d99",
   "metadata": {
    "execution": {
     "iopub.execute_input": "2022-04-21T05:37:07.925192Z",
     "iopub.status.busy": "2022-04-21T05:37:07.922821Z",
     "iopub.status.idle": "2022-04-21T05:37:10.253819Z",
     "shell.execute_reply": "2022-04-21T05:37:10.254444Z",
     "shell.execute_reply.started": "2022-04-09T01:18:45.162484Z"
    },
    "papermill": {
     "duration": 2.354664,
     "end_time": "2022-04-21T05:37:10.254733",
     "exception": false,
     "start_time": "2022-04-21T05:37:07.900069",
     "status": "completed"
    },
    "tags": []
   },
   "outputs": [],
   "source": [
    "import os\n",
    "import re\n",
    "import torch\n",
    "import numpy as np\n",
    "import pandas as pd\n",
    "import matplotlib.pyplot as plt\n",
    "\n",
    "from time import time\n",
    "from torch import nn, optim\n",
    "from torch.utils.data import Dataset\n",
    "from torch.utils.data import DataLoader as DL\n",
    "from torchvision import models, transforms\n",
    "\n",
    "from sklearn.model_selection import KFold\n",
    "from sklearn.preprocessing import LabelEncoder\n",
    "from sklearn.metrics import accuracy_score, \\\n",
    "                            precision_recall_fscore_support, \\\n",
    "                            roc_auc_score, \\\n",
    "                            classification_report, \\\n",
    "                            confusion_matrix"
   ]
  },
  {
   "cell_type": "markdown",
   "id": "4e906418",
   "metadata": {
    "papermill": {
     "duration": 0.022186,
     "end_time": "2022-04-21T05:37:10.291001",
     "exception": false,
     "start_time": "2022-04-21T05:37:10.268815",
     "status": "completed"
    },
    "tags": []
   },
   "source": [
    "### **Utilities**"
   ]
  },
  {
   "cell_type": "code",
   "execution_count": 2,
   "id": "f152fd43",
   "metadata": {
    "execution": {
     "iopub.execute_input": "2022-04-21T05:37:10.347416Z",
     "iopub.status.busy": "2022-04-21T05:37:10.346536Z",
     "iopub.status.idle": "2022-04-21T05:37:10.348329Z",
     "shell.execute_reply": "2022-04-21T05:37:10.348836Z",
     "shell.execute_reply.started": "2022-04-09T01:18:47.512362Z"
    },
    "papermill": {
     "duration": 0.032895,
     "end_time": "2022-04-21T05:37:10.348964",
     "exception": false,
     "start_time": "2022-04-21T05:37:10.316069",
     "status": "completed"
    },
    "tags": []
   },
   "outputs": [],
   "source": [
    "SEED = 42\n",
    "SIZE = 384\n",
    "\n",
    "def breaker(num: int=50, char: str=\"*\") -> None:\n",
    "    print(\"\\n\" + num*char + \"\\n\")\n",
    "\n",
    "\n",
    "def show_graphs(L: list, A: list) -> None:\n",
    "    TL, VL, TA, VA = [], [], [], []\n",
    "    for i in range(len(L)):\n",
    "        TL.append(L[i][\"train\"])\n",
    "        VL.append(L[i][\"valid\"])\n",
    "        TA.append(A[i][\"train\"])\n",
    "        VA.append(A[i][\"valid\"])\n",
    "    x_Axis = np.arange(1, len(TL) + 1)\n",
    "    plt.figure(figsize=(8, 6))\n",
    "    plt.subplot(1, 2, 1)\n",
    "    plt.plot(x_Axis, TL, \"r\", label=\"Train\")\n",
    "    plt.plot(x_Axis, VL, \"b\", label=\"Valid\")\n",
    "    plt.legend()\n",
    "    plt.grid()\n",
    "    plt.title(\"Loss Graph\")\n",
    "    plt.subplot(1, 2, 2)\n",
    "    plt.plot(x_Axis, TA, \"r\", label=\"Train\")\n",
    "    plt.plot(x_Axis, VA, \"b\", label=\"Valid\")\n",
    "    plt.legend()\n",
    "    plt.grid()\n",
    "    plt.title(\"Accuracy Graph\")\n",
    "    plt.show()\n",
    "\n",
    "    \n",
    "def get_scores(y_true: np.ndarray, y_pred: np.ndarray) -> tuple:\n",
    "    accuracy = accuracy_score(y_pred, y_true)\n",
    "    try:\n",
    "        auc = roc_auc_score(y_pred, y_true)\n",
    "    except:\n",
    "        auc = 0\n",
    "    precision, recall, f_score, _ = precision_recall_fscore_support(y_pred, y_true)\n",
    "\n",
    "    return accuracy, auc, precision, recall, f_score\n",
    "\n",
    "\n",
    "def print_scores(accuracy: float, auc: float, precision: np.ndarray, recall: np.ndarray, f_score: np.ndarray) -> None:\n",
    "    print(f\"Accuracy  : {accuracy:.5f}\")\n",
    "    print(f\"ROC-AUC   : {auc:.5f}\")\n",
    "    print(f\"Precision : {precision}\")\n",
    "    print(f\"Recall    : {recall}\")\n",
    "    print(f\"F-Score   : {f_score}\")"
   ]
  },
  {
   "cell_type": "markdown",
   "id": "7a9fe5e2",
   "metadata": {
    "papermill": {
     "duration": 0.019151,
     "end_time": "2022-04-21T05:37:10.390120",
     "exception": false,
     "start_time": "2022-04-21T05:37:10.370969",
     "status": "completed"
    },
    "tags": []
   },
   "source": [
    "### **Configuration**"
   ]
  },
  {
   "cell_type": "code",
   "execution_count": 3,
   "id": "d008d3db",
   "metadata": {
    "execution": {
     "iopub.execute_input": "2022-04-21T05:37:10.444732Z",
     "iopub.status.busy": "2022-04-21T05:37:10.443926Z",
     "iopub.status.idle": "2022-04-21T05:37:10.511098Z",
     "shell.execute_reply": "2022-04-21T05:37:10.511828Z",
     "shell.execute_reply.started": "2022-04-09T01:36:52.976989Z"
    },
    "papermill": {
     "duration": 0.099072,
     "end_time": "2022-04-21T05:37:10.512014",
     "exception": false,
     "start_time": "2022-04-21T05:37:10.412942",
     "status": "completed"
    },
    "tags": []
   },
   "outputs": [],
   "source": [
    "class CFG(object):\n",
    "    def __init__(self, \n",
    "                 seed: int = 42,\n",
    "                 n_splits: int = 5,\n",
    "                 batch_size: int = 16,\n",
    "                 epochs: int = 25,\n",
    "                 early_stopping: int = 5,\n",
    "                 lr: float = 1e-4,\n",
    "                 wd: float = 0.0,\n",
    "                 max_lr: float = 1e-3,\n",
    "                 pct_start: float = 0.2,\n",
    "                 steps_per_epoch: int = 100,\n",
    "                 div_factor: int = 1e3, \n",
    "                 final_div_factor: float = 1e3,\n",
    "                 ):\n",
    "        \n",
    "        self.seed = seed\n",
    "        self.n_splits = n_splits\n",
    "        self.batch_size = batch_size\n",
    "        self.epochs = epochs\n",
    "        self.early_stopping = early_stopping\n",
    "        self.lr = lr\n",
    "        self.wd = wd\n",
    "        self.max_lr = max_lr\n",
    "        self.pct_start = pct_start\n",
    "        self.steps_per_epoch = steps_per_epoch\n",
    "        self.div_factor = div_factor\n",
    "        self.final_div_factor = final_div_factor\n",
    "        self.device = torch.device(\"cuda\" if torch.cuda.is_available() else \"cpu\")\n",
    "        self.transform = transforms.Compose([transforms.ToTensor(),\n",
    "                                transforms.Normalize([0.11899, 0.11923, 0.12643],\n",
    "                                                     [0.17037, 0.16976, 0.18014]),\n",
    "                                ])\n",
    "        self.save_path = \"saves\"\n",
    "        if not os.path.exists(self.save_path): os.makedirs(self.save_path)\n",
    "    \n",
    "cfg = CFG(seed=SEED)"
   ]
  },
  {
   "cell_type": "markdown",
   "id": "e5f7bbd1",
   "metadata": {
    "papermill": {
     "duration": 0.019839,
     "end_time": "2022-04-21T05:37:10.552198",
     "exception": false,
     "start_time": "2022-04-21T05:37:10.532359",
     "status": "completed"
    },
    "tags": []
   },
   "source": [
    "### **Dataset Template**"
   ]
  },
  {
   "cell_type": "code",
   "execution_count": 4,
   "id": "34154c7a",
   "metadata": {
    "execution": {
     "iopub.execute_input": "2022-04-21T05:37:10.602079Z",
     "iopub.status.busy": "2022-04-21T05:37:10.601300Z",
     "iopub.status.idle": "2022-04-21T05:37:10.604929Z",
     "shell.execute_reply": "2022-04-21T05:37:10.605869Z",
     "shell.execute_reply.started": "2022-04-09T01:18:47.593512Z"
    },
    "papermill": {
     "duration": 0.033759,
     "end_time": "2022-04-21T05:37:10.606065",
     "exception": false,
     "start_time": "2022-04-21T05:37:10.572306",
     "status": "completed"
    },
    "tags": []
   },
   "outputs": [],
   "source": [
    "class DS(Dataset):\n",
    "    def __init__(self, images: np.ndarray, labels: np.ndarray = None, transform=None):\n",
    "        self.images = images\n",
    "        self.labels = labels\n",
    "        self.transform = transform\n",
    "    \n",
    "    def __len__(self):\n",
    "        return self.images.shape[0]\n",
    "    \n",
    "    def __getitem__(self, idx):\n",
    "        if self.labels is not None:\n",
    "            return self.transform(self.images[idx]), torch.FloatTensor(self.labels[idx])\n",
    "        else:\n",
    "            return self.transform(self.images[idx])"
   ]
  },
  {
   "cell_type": "markdown",
   "id": "f90abd0d",
   "metadata": {
    "papermill": {
     "duration": 0.019967,
     "end_time": "2022-04-21T05:37:10.646675",
     "exception": false,
     "start_time": "2022-04-21T05:37:10.626708",
     "status": "completed"
    },
    "tags": []
   },
   "source": [
    "### **Model**"
   ]
  },
  {
   "cell_type": "code",
   "execution_count": 5,
   "id": "2f18f810",
   "metadata": {
    "execution": {
     "iopub.execute_input": "2022-04-21T05:37:10.693928Z",
     "iopub.status.busy": "2022-04-21T05:37:10.693159Z",
     "iopub.status.idle": "2022-04-21T05:37:10.696007Z",
     "shell.execute_reply": "2022-04-21T05:37:10.696582Z",
     "shell.execute_reply.started": "2022-04-09T01:18:47.606516Z"
    },
    "papermill": {
     "duration": 0.029909,
     "end_time": "2022-04-21T05:37:10.696759",
     "exception": false,
     "start_time": "2022-04-21T05:37:10.666850",
     "status": "completed"
    },
    "tags": []
   },
   "outputs": [],
   "source": [
    "class Model(nn.Module):\n",
    "    def __init__(self):\n",
    "        super(Model, self).__init__()\n",
    "\n",
    "        self.model = models.densenet121(pretrained=True, progress=True)\n",
    "        self.model.classifier = nn.Linear(in_features=self.model.classifier.in_features, out_features=1)\n",
    "\n",
    "    def forward(self, x):\n",
    "        return self.model(x)"
   ]
  },
  {
   "cell_type": "markdown",
   "id": "d072a8c1",
   "metadata": {
    "papermill": {
     "duration": 0.019679,
     "end_time": "2022-04-21T05:37:10.736337",
     "exception": false,
     "start_time": "2022-04-21T05:37:10.716658",
     "status": "completed"
    },
    "tags": []
   },
   "source": [
    "### Fit and Predict Helper"
   ]
  },
  {
   "cell_type": "code",
   "execution_count": 6,
   "id": "5ff64dc3",
   "metadata": {
    "execution": {
     "iopub.execute_input": "2022-04-21T05:37:10.785019Z",
     "iopub.status.busy": "2022-04-21T05:37:10.784205Z",
     "iopub.status.idle": "2022-04-21T05:37:10.812991Z",
     "shell.execute_reply": "2022-04-21T05:37:10.813808Z",
     "shell.execute_reply.started": "2022-04-09T01:18:47.615986Z"
    },
    "papermill": {
     "duration": 0.057694,
     "end_time": "2022-04-21T05:37:10.813998",
     "exception": false,
     "start_time": "2022-04-21T05:37:10.756304",
     "status": "completed"
    },
    "tags": []
   },
   "outputs": [],
   "source": [
    "def fit(model=None, \n",
    "        optimizer=None, \n",
    "        scheduler=None, \n",
    "        epochs=None, \n",
    "        early_stopping_patience=None, \n",
    "        dataloaders=None, \n",
    "        fold=None, \n",
    "        save_path=None, \n",
    "        device=None,\n",
    "        verbose=False) -> tuple:\n",
    "    \n",
    "    def get_accuracy(y_pred, y_true):\n",
    "        y_pred = torch.sigmoid(y_pred)\n",
    "        \n",
    "        y_pred[y_pred > 0.5] = 1\n",
    "        y_pred[y_pred <= 0.5] = 0\n",
    "        \n",
    "        return torch.count_nonzero(y_pred == y_true).item() / len(y_pred)\n",
    "    \n",
    "    if verbose:\n",
    "        breaker()\n",
    "        if fold: print(f\"Training Fold {fold}...\")\n",
    "        else: print(\"Training ...\")\n",
    "        breaker()\n",
    "        \n",
    "    bestLoss, bestAccs = {\"train\" : np.inf, \"valid\" : np.inf}, {\"train\" : 0.0, \"valid\" : 0.0}\n",
    "    Losses, LRs, Accuracies = [], [], []\n",
    "    if fold: name = f\"state_fold_{fold}.pt\"\n",
    "    else: name = \"state.pt\"\n",
    "\n",
    "    start_time = time()\n",
    "    for e in range(epochs):\n",
    "        e_st = time()\n",
    "        epochLoss, epochAccs = {\"train\" : 0.0, \"valid\" : 0.0}, {\"train\" : 0.0, \"valid\" : 0.0}\n",
    "\n",
    "        for phase in [\"train\", \"valid\"]:\n",
    "            if phase == \"train\":\n",
    "                model.train()\n",
    "            else:\n",
    "                model.eval()\n",
    "            \n",
    "            lossPerPass, accsPerPass = [], []\n",
    "\n",
    "            for X, y in dataloaders[phase]:\n",
    "                X, y = X.to(device), y.to(device)\n",
    "\n",
    "                optimizer.zero_grad()\n",
    "                with torch.set_grad_enabled(phase == \"train\"):\n",
    "                    output = model(X)\n",
    "                    loss = torch.nn.BCEWithLogitsLoss()(output, y)\n",
    "                    if phase == \"train\":\n",
    "                        loss.backward()\n",
    "                        optimizer.step()\n",
    "                        if scheduler: scheduler.step()\n",
    "                lossPerPass.append(loss.item())\n",
    "                accsPerPass.append(get_accuracy(output, y))\n",
    "            epochLoss[phase] = np.mean(np.array(lossPerPass))\n",
    "            epochAccs[phase] = np.mean(np.array(accsPerPass))\n",
    "        LRs.append(scheduler.get_last_lr())\n",
    "        Losses.append(epochLoss)\n",
    "        Accuracies.append(epochAccs)\n",
    "        \n",
    "        if early_stopping_patience:\n",
    "            if epochLoss[\"valid\"] < bestLoss[\"valid\"]:\n",
    "                bestLoss = epochLoss\n",
    "                BLE = e + 1\n",
    "                torch.save({\"model_state_dict\"     : model.state_dict(),\n",
    "                            \"optim_state_dict\"     : optimizer.state_dict()},\n",
    "                           os.path.join(save_path, name))\n",
    "                early_stopping_step = 0\n",
    "            else:\n",
    "                early_stopping_step += 1\n",
    "                if early_stopping_step > early_stopping_patience:\n",
    "                    print(\"\\nEarly Stopping at Epoch {}\".format(e + 1))\n",
    "                    break\n",
    "        \n",
    "        if epochLoss[\"valid\"] < bestLoss[\"valid\"]:\n",
    "            bestLoss = epochLoss\n",
    "            BLE = e + 1\n",
    "            torch.save({\"model_state_dict\"     : model.state_dict(),\n",
    "                        \"optim_state_dict\"     : optimizer.state_dict()},\n",
    "                        os.path.join(save_path, name))\n",
    "        \n",
    "        if epochAccs[\"valid\"] > bestAccs[\"valid\"]:\n",
    "            bestAccs = epochAccs\n",
    "            BAE = e + 1\n",
    "        \n",
    "        # if scheduler: scheduler.step(epochLoss[\"valid\"])\n",
    "        \n",
    "        if verbose:\n",
    "            print(\"Epoch: {} | Train Loss: {:.5f} | Valid Loss: {:.5f} | Train Accs: {:.5f} | Valid Accs: {:.5f} | Time: {:.2f} seconds\".format(e+1, \n",
    "                                                                       epochLoss[\"train\"], epochLoss[\"valid\"], \n",
    "                                                                       epochAccs[\"train\"], epochAccs[\"valid\"], \n",
    "                                                                       time()-e_st))\n",
    "\n",
    "    if verbose:                                           \n",
    "        breaker()\n",
    "        print(f\"Best Validation Loss at Epoch {BLE}\")\n",
    "        breaker()\n",
    "        print(f\"Best Validation Accs at Epoch {BAE}\")\n",
    "        breaker()\n",
    "        print(\"Time Taken [{} Epochs] : {:.2f} minutes\".format(len(Losses), (time()-start_time)/60))\n",
    "    \n",
    "    return Losses, Accuracies, LRs, BLE, BAE, name\n",
    "\n",
    "\n",
    "def predict(model=None, dataloader=None, path=None, device=None) -> np.ndarray:\n",
    "    model.load_state_dict(torch.load(path, map_location=device)[\"model_state_dict\"])\n",
    "    model.to(device)    \n",
    "    model.eval()\n",
    "    \n",
    "    y_pred = torch.zeros(1, 1).to(device)\n",
    "    \n",
    "    for X in dataloader:\n",
    "        X = X.to(device)\n",
    "        with torch.no_grad():\n",
    "            output = torch.sigmoid(model(X))\n",
    "        y_pred = torch.cat((y_pred, output.view(-1, 1)), dim=0)\n",
    "    \n",
    "    y_pred[y_pred > 0.5] = 1\n",
    "    y_pred[y_pred <= 0.5] = 0\n",
    "    \n",
    "    return y_pred[1:].detach().cpu().numpy()"
   ]
  },
  {
   "cell_type": "markdown",
   "id": "a07ff54a",
   "metadata": {
    "papermill": {
     "duration": 0.022465,
     "end_time": "2022-04-21T05:37:10.858543",
     "exception": false,
     "start_time": "2022-04-21T05:37:10.836078",
     "status": "completed"
    },
    "tags": []
   },
   "source": [
    "### **Train**"
   ]
  },
  {
   "cell_type": "code",
   "execution_count": 7,
   "id": "e215f965",
   "metadata": {
    "execution": {
     "iopub.execute_input": "2022-04-21T05:37:10.893171Z",
     "iopub.status.busy": "2022-04-21T05:37:10.892618Z",
     "iopub.status.idle": "2022-04-21T05:37:25.618173Z",
     "shell.execute_reply": "2022-04-21T05:37:25.618663Z",
     "shell.execute_reply.started": "2022-04-09T01:18:47.643848Z"
    },
    "papermill": {
     "duration": 14.742864,
     "end_time": "2022-04-21T05:37:25.618819",
     "exception": false,
     "start_time": "2022-04-21T05:37:10.875955",
     "status": "completed"
    },
    "tags": []
   },
   "outputs": [],
   "source": [
    "images = np.load(f\"../input/chest-x-rays-images/train_images_{SIZE}.npy\")\n",
    "labels = np.load(f\"../input/chest-x-rays-images/train_targets_{SIZE}.npy\")"
   ]
  },
  {
   "cell_type": "code",
   "execution_count": 8,
   "id": "73b427da",
   "metadata": {
    "execution": {
     "iopub.execute_input": "2022-04-21T05:37:25.659213Z",
     "iopub.status.busy": "2022-04-21T05:37:25.657978Z",
     "iopub.status.idle": "2022-04-21T08:02:30.739202Z",
     "shell.execute_reply": "2022-04-21T08:02:30.739665Z",
     "shell.execute_reply.started": "2022-04-09T01:36:59.635267Z"
    },
    "papermill": {
     "duration": 8705.106319,
     "end_time": "2022-04-21T08:02:30.739836",
     "exception": false,
     "start_time": "2022-04-21T05:37:25.633517",
     "status": "completed"
    },
    "tags": []
   },
   "outputs": [
    {
     "name": "stderr",
     "output_type": "stream",
     "text": [
      "Downloading: \"https://download.pytorch.org/models/densenet121-a639ec97.pth\" to /root/.cache/torch/hub/checkpoints/densenet121-a639ec97.pth\n"
     ]
    },
    {
     "data": {
      "application/vnd.jupyter.widget-view+json": {
       "model_id": "56f2fa727f5946f1a0c3f3f761aa26f3",
       "version_major": 2,
       "version_minor": 0
      },
      "text/plain": [
       "  0%|          | 0.00/30.8M [00:00<?, ?B/s]"
      ]
     },
     "metadata": {},
     "output_type": "display_data"
    },
    {
     "name": "stdout",
     "output_type": "stream",
     "text": [
      "\n",
      "**************************************************\n",
      "\n",
      "Training Fold 1...\n",
      "\n",
      "**************************************************\n",
      "\n",
      "Epoch: 1 | Train Loss: 0.33531 | Valid Loss: 0.15935 | Train Accs: 0.82257 | Valid Accs: 0.94034 | Time: 93.30 seconds\n",
      "Epoch: 2 | Train Loss: 0.07952 | Valid Loss: 0.08159 | Train Accs: 0.97071 | Valid Accs: 0.96970 | Time: 86.83 seconds\n",
      "Epoch: 3 | Train Loss: 0.08752 | Valid Loss: 0.15347 | Train Accs: 0.96613 | Valid Accs: 0.93669 | Time: 86.87 seconds\n",
      "Epoch: 4 | Train Loss: 0.07093 | Valid Loss: 0.05150 | Train Accs: 0.97233 | Valid Accs: 0.98106 | Time: 87.10 seconds\n",
      "Epoch: 5 | Train Loss: 0.06414 | Valid Loss: 0.07610 | Train Accs: 0.97577 | Valid Accs: 0.96821 | Time: 86.60 seconds\n",
      "Epoch: 6 | Train Loss: 0.06990 | Valid Loss: 0.04335 | Train Accs: 0.97381 | Valid Accs: 0.98485 | Time: 86.98 seconds\n",
      "Epoch: 7 | Train Loss: 0.05646 | Valid Loss: 0.04041 | Train Accs: 0.97615 | Valid Accs: 0.98458 | Time: 85.97 seconds\n",
      "Epoch: 8 | Train Loss: 0.04404 | Valid Loss: 0.03527 | Train Accs: 0.98306 | Valid Accs: 0.98837 | Time: 86.05 seconds\n",
      "Epoch: 9 | Train Loss: 0.03180 | Valid Loss: 0.07962 | Train Accs: 0.98879 | Valid Accs: 0.97200 | Time: 85.60 seconds\n",
      "Epoch: 10 | Train Loss: 0.01465 | Valid Loss: 0.05973 | Train Accs: 0.99618 | Valid Accs: 0.98174 | Time: 85.75 seconds\n",
      "Epoch: 11 | Train Loss: 0.02753 | Valid Loss: 0.06355 | Train Accs: 0.98974 | Valid Accs: 0.97511 | Time: 85.76 seconds\n",
      "Epoch: 12 | Train Loss: 0.02636 | Valid Loss: 0.02791 | Train Accs: 0.99094 | Valid Accs: 0.99121 | Time: 85.83 seconds\n",
      "Epoch: 13 | Train Loss: 0.00591 | Valid Loss: 0.03735 | Train Accs: 0.99905 | Valid Accs: 0.99121 | Time: 85.64 seconds\n",
      "Epoch: 14 | Train Loss: 0.00438 | Valid Loss: 0.03611 | Train Accs: 0.99857 | Valid Accs: 0.99026 | Time: 85.35 seconds\n",
      "Epoch: 15 | Train Loss: 0.00618 | Valid Loss: 0.03167 | Train Accs: 0.99833 | Valid Accs: 0.98931 | Time: 85.59 seconds\n",
      "Epoch: 16 | Train Loss: 0.00438 | Valid Loss: 0.03565 | Train Accs: 0.99905 | Valid Accs: 0.98837 | Time: 85.63 seconds\n",
      "Epoch: 17 | Train Loss: 0.00132 | Valid Loss: 0.03251 | Train Accs: 1.00000 | Valid Accs: 0.99121 | Time: 85.65 seconds\n",
      "\n",
      "Early Stopping at Epoch 18\n",
      "\n",
      "**************************************************\n",
      "\n",
      "Best Validation Loss at Epoch 12\n",
      "\n",
      "**************************************************\n",
      "\n",
      "Best Validation Accs at Epoch 12\n",
      "\n",
      "**************************************************\n",
      "\n",
      "Time Taken [18 Epochs] : 25.93 minutes\n",
      "\n",
      "**************************************************\n",
      "\n"
     ]
    },
    {
     "data": {
      "image/png": "[encoded data removed]",
      "text/plain": [
       "<Figure size 576x432 with 2 Axes>"
      ]
     },
     "metadata": {
      "needs_background": "light"
     },
     "output_type": "display_data"
    },
    {
     "name": "stdout",
     "output_type": "stream",
     "text": [
      "\n",
      "**************************************************\n",
      "\n",
      "Training Fold 2...\n",
      "\n",
      "**************************************************\n",
      "\n",
      "Epoch: 1 | Train Loss: 0.33662 | Valid Loss: 0.08437 | Train Accs: 0.81852 | Valid Accs: 0.97159 | Time: 86.78 seconds\n",
      "Epoch: 2 | Train Loss: 0.09074 | Valid Loss: 0.22882 | Train Accs: 0.96517 | Valid Accs: 0.92140 | Time: 86.62 seconds\n",
      "Epoch: 3 | Train Loss: 0.08630 | Valid Loss: 0.04770 | Train Accs: 0.96732 | Valid Accs: 0.97917 | Time: 86.30 seconds\n",
      "Epoch: 4 | Train Loss: 0.07728 | Valid Loss: 0.06080 | Train Accs: 0.97114 | Valid Accs: 0.97606 | Time: 86.36 seconds\n",
      "Epoch: 5 | Train Loss: 0.06655 | Valid Loss: 0.06372 | Train Accs: 0.97543 | Valid Accs: 0.97321 | Time: 86.62 seconds\n",
      "Epoch: 6 | Train Loss: 0.06180 | Valid Loss: 0.04663 | Train Accs: 0.97567 | Valid Accs: 0.98201 | Time: 86.73 seconds\n",
      "Epoch: 7 | Train Loss: 0.04729 | Valid Loss: 0.02456 | Train Accs: 0.98426 | Valid Accs: 0.99242 | Time: 86.79 seconds\n",
      "Epoch: 8 | Train Loss: 0.03404 | Valid Loss: 0.04028 | Train Accs: 0.98640 | Valid Accs: 0.98958 | Time: 86.26 seconds\n",
      "Epoch: 9 | Train Loss: 0.02921 | Valid Loss: 0.33674 | Train Accs: 0.98998 | Valid Accs: 0.87108 | Time: 86.29 seconds\n",
      "Epoch: 10 | Train Loss: 0.02470 | Valid Loss: 0.02996 | Train Accs: 0.99141 | Valid Accs: 0.98674 | Time: 86.27 seconds\n",
      "Epoch: 11 | Train Loss: 0.02434 | Valid Loss: 0.02630 | Train Accs: 0.99046 | Valid Accs: 0.98769 | Time: 86.27 seconds\n",
      "Epoch: 12 | Train Loss: 0.02011 | Valid Loss: 0.01914 | Train Accs: 0.99189 | Valid Accs: 0.99527 | Time: 86.72 seconds\n",
      "Epoch: 13 | Train Loss: 0.00750 | Valid Loss: 0.01943 | Train Accs: 0.99761 | Valid Accs: 0.99432 | Time: 85.84 seconds\n",
      "Epoch: 14 | Train Loss: 0.00364 | Valid Loss: 0.01646 | Train Accs: 0.99952 | Valid Accs: 0.99337 | Time: 86.71 seconds\n",
      "Epoch: 15 | Train Loss: 0.00743 | Valid Loss: 0.02202 | Train Accs: 0.99785 | Valid Accs: 0.98864 | Time: 86.56 seconds\n",
      "Epoch: 16 | Train Loss: 0.00382 | Valid Loss: 0.01451 | Train Accs: 0.99881 | Valid Accs: 0.99432 | Time: 86.96 seconds\n",
      "Epoch: 17 | Train Loss: 0.00223 | Valid Loss: 0.01361 | Train Accs: 0.99952 | Valid Accs: 0.99432 | Time: 86.71 seconds\n",
      "Epoch: 18 | Train Loss: 0.00107 | Valid Loss: 0.01277 | Train Accs: 1.00000 | Valid Accs: 0.99527 | Time: 86.53 seconds\n",
      "Epoch: 19 | Train Loss: 0.00130 | Valid Loss: 0.01340 | Train Accs: 1.00000 | Valid Accs: 0.99527 | Time: 86.22 seconds\n",
      "Epoch: 20 | Train Loss: 0.00113 | Valid Loss: 0.01282 | Train Accs: 1.00000 | Valid Accs: 0.99527 | Time: 86.38 seconds\n",
      "\n",
      "**************************************************\n",
      "\n",
      "Best Validation Loss at Epoch 18\n",
      "\n",
      "**************************************************\n",
      "\n",
      "Best Validation Accs at Epoch 12\n",
      "\n",
      "**************************************************\n",
      "\n",
      "Time Taken [20 Epochs] : 28.83 minutes\n",
      "\n",
      "**************************************************\n",
      "\n"
     ]
    },
    {
     "data": {
      "image/png": "[encoded data removed]",
      "text/plain": [
       "<Figure size 576x432 with 2 Axes>"
      ]
     },
     "metadata": {
      "needs_background": "light"
     },
     "output_type": "display_data"
    },
    {
     "name": "stdout",
     "output_type": "stream",
     "text": [
      "\n",
      "**************************************************\n",
      "\n",
      "Training Fold 3...\n",
      "\n",
      "**************************************************\n",
      "\n",
      "Epoch: 1 | Train Loss: 0.34281 | Valid Loss: 0.07750 | Train Accs: 0.81508 | Valid Accs: 0.97633 | Time: 86.07 seconds\n",
      "Epoch: 2 | Train Loss: 0.08673 | Valid Loss: 0.07440 | Train Accs: 0.97018 | Valid Accs: 0.97569 | Time: 86.08 seconds\n",
      "Epoch: 3 | Train Loss: 0.09169 | Valid Loss: 0.08096 | Train Accs: 0.96613 | Valid Accs: 0.96591 | Time: 85.78 seconds\n",
      "Epoch: 4 | Train Loss: 0.08799 | Valid Loss: 0.13990 | Train Accs: 0.96646 | Valid Accs: 0.94792 | Time: 85.73 seconds\n",
      "Epoch: 5 | Train Loss: 0.06971 | Valid Loss: 0.03143 | Train Accs: 0.97662 | Valid Accs: 0.99053 | Time: 86.16 seconds\n",
      "Epoch: 6 | Train Loss: 0.04995 | Valid Loss: 0.04948 | Train Accs: 0.98163 | Valid Accs: 0.97727 | Time: 85.85 seconds\n",
      "Epoch: 7 | Train Loss: 0.04183 | Valid Loss: 0.07499 | Train Accs: 0.98640 | Valid Accs: 0.97759 | Time: 85.71 seconds\n",
      "Epoch: 8 | Train Loss: 0.04621 | Valid Loss: 0.04255 | Train Accs: 0.98044 | Valid Accs: 0.97917 | Time: 85.88 seconds\n",
      "Epoch: 9 | Train Loss: 0.03582 | Valid Loss: 0.07404 | Train Accs: 0.98616 | Valid Accs: 0.97759 | Time: 85.82 seconds\n",
      "Epoch: 10 | Train Loss: 0.02311 | Valid Loss: 0.10507 | Train Accs: 0.99165 | Valid Accs: 0.96970 | Time: 85.80 seconds\n",
      "\n",
      "Early Stopping at Epoch 11\n",
      "\n",
      "**************************************************\n",
      "\n",
      "Best Validation Loss at Epoch 5\n",
      "\n",
      "**************************************************\n",
      "\n",
      "Best Validation Accs at Epoch 5\n",
      "\n",
      "**************************************************\n",
      "\n",
      "Time Taken [11 Epochs] : 15.75 minutes\n",
      "\n",
      "**************************************************\n",
      "\n"
     ]
    },
    {
     "data": {
      "image/png": "[encoded data removed]",
      "text/plain": [
       "<Figure size 576x432 with 2 Axes>"
      ]
     },
     "metadata": {
      "needs_background": "light"
     },
     "output_type": "display_data"
    },
    {
     "name": "stdout",
     "output_type": "stream",
     "text": [
      "\n",
      "**************************************************\n",
      "\n",
      "Training Fold 4...\n",
      "\n",
      "**************************************************\n",
      "\n",
      "Epoch: 1 | Train Loss: 0.33730 | Valid Loss: 0.08462 | Train Accs: 0.81617 | Valid Accs: 0.97569 | Time: 86.10 seconds\n",
      "Epoch: 2 | Train Loss: 0.09691 | Valid Loss: 0.18640 | Train Accs: 0.96398 | Valid Accs: 0.92424 | Time: 85.80 seconds\n",
      "Epoch: 3 | Train Loss: 0.10007 | Valid Loss: 0.23570 | Train Accs: 0.96326 | Valid Accs: 0.90436 | Time: 85.74 seconds\n",
      "Epoch: 4 | Train Loss: 0.07109 | Valid Loss: 0.05991 | Train Accs: 0.97328 | Valid Accs: 0.97254 | Time: 86.08 seconds\n",
      "Epoch: 5 | Train Loss: 0.07067 | Valid Loss: 0.06487 | Train Accs: 0.97448 | Valid Accs: 0.97727 | Time: 85.91 seconds\n",
      "Epoch: 6 | Train Loss: 0.05925 | Valid Loss: 0.04402 | Train Accs: 0.97686 | Valid Accs: 0.97917 | Time: 86.10 seconds\n",
      "Epoch: 7 | Train Loss: 0.05451 | Valid Loss: 0.03136 | Train Accs: 0.97972 | Valid Accs: 0.99053 | Time: 86.08 seconds\n",
      "Epoch: 8 | Train Loss: 0.03059 | Valid Loss: 0.08323 | Train Accs: 0.98974 | Valid Accs: 0.97159 | Time: 85.79 seconds\n",
      "Epoch: 9 | Train Loss: 0.02516 | Valid Loss: 0.06726 | Train Accs: 0.98998 | Valid Accs: 0.97696 | Time: 85.85 seconds\n",
      "Epoch: 10 | Train Loss: 0.03668 | Valid Loss: 0.01865 | Train Accs: 0.98521 | Valid Accs: 0.99242 | Time: 86.01 seconds\n",
      "Epoch: 11 | Train Loss: 0.02079 | Valid Loss: 0.02356 | Train Accs: 0.99237 | Valid Accs: 0.98864 | Time: 85.69 seconds\n",
      "Epoch: 12 | Train Loss: 0.01861 | Valid Loss: 0.07118 | Train Accs: 0.99284 | Valid Accs: 0.97380 | Time: 85.78 seconds\n",
      "Epoch: 13 | Train Loss: 0.00766 | Valid Loss: 0.02668 | Train Accs: 0.99809 | Valid Accs: 0.98864 | Time: 85.83 seconds\n",
      "Epoch: 14 | Train Loss: 0.00578 | Valid Loss: 0.02119 | Train Accs: 0.99857 | Valid Accs: 0.98958 | Time: 85.72 seconds\n",
      "Epoch: 15 | Train Loss: 0.00401 | Valid Loss: 0.01763 | Train Accs: 0.99928 | Valid Accs: 0.99337 | Time: 86.06 seconds\n",
      "Epoch: 16 | Train Loss: 0.00229 | Valid Loss: 0.01866 | Train Accs: 0.99952 | Valid Accs: 0.99337 | Time: 85.79 seconds\n",
      "Epoch: 17 | Train Loss: 0.00119 | Valid Loss: 0.01657 | Train Accs: 1.00000 | Valid Accs: 0.99432 | Time: 86.21 seconds\n",
      "Epoch: 18 | Train Loss: 0.00114 | Valid Loss: 0.01337 | Train Accs: 1.00000 | Valid Accs: 0.99242 | Time: 86.52 seconds\n",
      "Epoch: 19 | Train Loss: 0.00117 | Valid Loss: 0.01259 | Train Accs: 1.00000 | Valid Accs: 0.99337 | Time: 86.25 seconds\n",
      "Epoch: 20 | Train Loss: 0.00152 | Valid Loss: 0.01365 | Train Accs: 0.99952 | Valid Accs: 0.99337 | Time: 86.36 seconds\n",
      "\n",
      "**************************************************\n",
      "\n",
      "Best Validation Loss at Epoch 19\n",
      "\n",
      "**************************************************\n",
      "\n",
      "Best Validation Accs at Epoch 17\n",
      "\n",
      "**************************************************\n",
      "\n",
      "Time Taken [20 Epochs] : 28.66 minutes\n",
      "\n",
      "**************************************************\n",
      "\n"
     ]
    },
    {
     "data": {
      "image/png": "[encoded data removed]",
      "text/plain": [
       "<Figure size 576x432 with 2 Axes>"
      ]
     },
     "metadata": {
      "needs_background": "light"
     },
     "output_type": "display_data"
    },
    {
     "name": "stdout",
     "output_type": "stream",
     "text": [
      "\n",
      "**************************************************\n",
      "\n",
      "Training Fold 5...\n",
      "\n",
      "**************************************************\n",
      "\n",
      "Epoch: 1 | Train Loss: 0.34161 | Valid Loss: 0.10722 | Train Accs: 0.81393 | Valid Accs: 0.95455 | Time: 86.33 seconds\n",
      "Epoch: 2 | Train Loss: 0.09261 | Valid Loss: 0.46282 | Train Accs: 0.96732 | Valid Accs: 0.81913 | Time: 85.72 seconds\n",
      "Epoch: 3 | Train Loss: 0.09151 | Valid Loss: 0.09336 | Train Accs: 0.96302 | Valid Accs: 0.97348 | Time: 86.15 seconds\n",
      "Epoch: 4 | Train Loss: 0.07059 | Valid Loss: 0.25192 | Train Accs: 0.97443 | Valid Accs: 0.92898 | Time: 85.79 seconds\n",
      "Epoch: 5 | Train Loss: 0.08184 | Valid Loss: 0.08296 | Train Accs: 0.96646 | Valid Accs: 0.97001 | Time: 86.38 seconds\n",
      "Epoch: 6 | Train Loss: 0.05937 | Valid Loss: 0.06345 | Train Accs: 0.97877 | Valid Accs: 0.98011 | Time: 86.26 seconds\n",
      "Epoch: 7 | Train Loss: 0.05471 | Valid Loss: 0.03284 | Train Accs: 0.98044 | Valid Accs: 0.98958 | Time: 86.02 seconds\n",
      "Epoch: 8 | Train Loss: 0.03348 | Valid Loss: 0.50214 | Train Accs: 0.98783 | Valid Accs: 0.81061 | Time: 85.82 seconds\n",
      "Epoch: 9 | Train Loss: 0.04234 | Valid Loss: 0.03106 | Train Accs: 0.98306 | Valid Accs: 0.98864 | Time: 86.02 seconds\n",
      "Epoch: 10 | Train Loss: 0.02550 | Valid Loss: 0.02598 | Train Accs: 0.99189 | Valid Accs: 0.99148 | Time: 86.15 seconds\n",
      "Epoch: 11 | Train Loss: 0.01800 | Valid Loss: 0.03580 | Train Accs: 0.99404 | Valid Accs: 0.98580 | Time: 86.02 seconds\n",
      "Epoch: 12 | Train Loss: 0.01908 | Valid Loss: 0.01759 | Train Accs: 0.99198 | Valid Accs: 0.99432 | Time: 86.37 seconds\n",
      "Epoch: 13 | Train Loss: 0.00803 | Valid Loss: 0.02440 | Train Accs: 0.99761 | Valid Accs: 0.98864 | Time: 85.86 seconds\n",
      "Epoch: 14 | Train Loss: 0.00352 | Valid Loss: 0.02380 | Train Accs: 0.99928 | Valid Accs: 0.99053 | Time: 85.84 seconds\n",
      "Epoch: 15 | Train Loss: 0.00279 | Valid Loss: 0.02500 | Train Accs: 0.99928 | Valid Accs: 0.99242 | Time: 85.82 seconds\n",
      "Epoch: 16 | Train Loss: 0.00219 | Valid Loss: 0.02347 | Train Accs: 0.99952 | Valid Accs: 0.99053 | Time: 85.98 seconds\n",
      "Epoch: 17 | Train Loss: 0.00195 | Valid Loss: 0.02789 | Train Accs: 0.99928 | Valid Accs: 0.99242 | Time: 85.81 seconds\n",
      "Epoch: 18 | Train Loss: 0.00164 | Valid Loss: 0.01666 | Train Accs: 0.99952 | Valid Accs: 0.99432 | Time: 86.22 seconds\n",
      "Epoch: 19 | Train Loss: 0.00170 | Valid Loss: 0.01846 | Train Accs: 0.99976 | Valid Accs: 0.99337 | Time: 85.92 seconds\n",
      "Epoch: 20 | Train Loss: 0.00097 | Valid Loss: 0.01780 | Train Accs: 1.00000 | Valid Accs: 0.99337 | Time: 85.86 seconds\n",
      "\n",
      "**************************************************\n",
      "\n",
      "Best Validation Loss at Epoch 18\n",
      "\n",
      "**************************************************\n",
      "\n",
      "Best Validation Accs at Epoch 12\n",
      "\n",
      "**************************************************\n",
      "\n",
      "Time Taken [20 Epochs] : 28.67 minutes\n",
      "\n",
      "**************************************************\n",
      "\n"
     ]
    },
    {
     "data": {
      "image/png": "[encoded data removed]",
      "text/plain": [
       "<Figure size 576x432 with 2 Axes>"
      ]
     },
     "metadata": {
      "needs_background": "light"
     },
     "output_type": "display_data"
    }
   ],
   "source": [
    "fold = 1\n",
    "BLEs, BAEs = [], []\n",
    "\n",
    "for tr_idx, va_idx in KFold(n_splits=cfg.n_splits, random_state=SEED, shuffle=True).split(images):\n",
    "    tr_images, va_images, tr_labels, va_labels = images[tr_idx], images[va_idx], labels[tr_idx], labels[va_idx]\n",
    "\n",
    "    tr_data_setup = DS(tr_images, tr_labels.reshape(-1, 1), cfg.transform)\n",
    "    va_data_setup = DS(va_images, va_labels.reshape(-1, 1), cfg.transform)\n",
    "\n",
    "    dataloaders = {\n",
    "        \"train\" : DL(tr_data_setup, batch_size=cfg.batch_size, shuffle=True, generator=torch.manual_seed(cfg.seed)),\n",
    "        \"valid\" : DL(va_data_setup, batch_size=cfg.batch_size, shuffle=False),\n",
    "    }\n",
    "\n",
    "    cfg = CFG(epochs=20, lr=1e-3, wd=0.0, batch_size=16, steps_per_epoch=len(dataloaders[\"train\"]))\n",
    "\n",
    "    torch.manual_seed(cfg.seed)\n",
    "    model = Model().to(cfg.device)\n",
    "    optimizer = optim.Adam([p for p in model.parameters() if p.requires_grad], lr=cfg.lr, weight_decay=cfg.wd)\n",
    "    scheduler = optim.lr_scheduler.OneCycleLR(optimizer=optimizer, \n",
    "                                              max_lr=cfg.max_lr, \n",
    "                                              epochs=cfg.epochs, \n",
    "                                              steps_per_epoch=cfg.steps_per_epoch,\n",
    "                                              pct_start=cfg.pct_start, \n",
    "                                              div_factor=cfg.div_factor, \n",
    "                                              final_div_factor=cfg.final_div_factor)\n",
    "    # scheduler = None\n",
    "\n",
    "    L, A, LRs, BLE, BAE, name = fit(model=model, \n",
    "                                    optimizer=optimizer, \n",
    "                                    scheduler=scheduler, \n",
    "                                    epochs=cfg.epochs, \n",
    "                                    early_stopping_patience=cfg.early_stopping, \n",
    "                                    dataloaders=dataloaders, \n",
    "                                    device=cfg.device,\n",
    "                                    save_path=cfg.save_path,\n",
    "                                    fold = fold,\n",
    "                                    verbose=True)\n",
    "\n",
    "    breaker()\n",
    "    show_graphs(L, A)\n",
    "    \n",
    "    BLEs.append(BLE)\n",
    "    BAEs.append(BAE)\n",
    "\n",
    "    fold += 1"
   ]
  },
  {
   "cell_type": "markdown",
   "id": "9794220d",
   "metadata": {
    "papermill": {
     "duration": 0.05199,
     "end_time": "2022-04-21T08:02:30.845428",
     "exception": false,
     "start_time": "2022-04-21T08:02:30.793438",
     "status": "completed"
    },
    "tags": []
   },
   "source": [
    "### **Predictions**"
   ]
  },
  {
   "cell_type": "code",
   "execution_count": 9,
   "id": "fcf5c6a7",
   "metadata": {
    "execution": {
     "iopub.execute_input": "2022-04-21T08:02:30.954036Z",
     "iopub.status.busy": "2022-04-21T08:02:30.953510Z",
     "iopub.status.idle": "2022-04-21T08:02:37.487075Z",
     "shell.execute_reply": "2022-04-21T08:02:37.487507Z",
     "shell.execute_reply.started": "2022-04-09T01:41:41.028783Z"
    },
    "papermill": {
     "duration": 6.591222,
     "end_time": "2022-04-21T08:02:37.487659",
     "exception": false,
     "start_time": "2022-04-21T08:02:30.896437",
     "status": "completed"
    },
    "tags": []
   },
   "outputs": [
    {
     "name": "stdout",
     "output_type": "stream",
     "text": [
      "\n",
      "**************************************************\n",
      "\n",
      "Best Fold : 3\n",
      "\n",
      "**************************************************\n",
      "\n",
      "Accuracy  : 0.81731\n",
      "ROC-AUC   : 0.88335\n",
      "Precision : [0.51709402 0.9974359 ]\n",
      "Recall    : [0.99180328 0.7749004 ]\n",
      "F-Score   : [0.67977528 0.87219731]\n",
      "\n",
      "**************************************************\n",
      "\n",
      "              precision    recall  f1-score   support\n",
      "\n",
      "         0.0       0.99      0.52      0.68       234\n",
      "         1.0       0.77      1.00      0.87       390\n",
      "\n",
      "    accuracy                           0.82       624\n",
      "   macro avg       0.88      0.76      0.78       624\n",
      "weighted avg       0.86      0.82      0.80       624\n",
      "\n",
      "\n",
      "**************************************************\n",
      "\n",
      "[[121 113]\n",
      " [  1 389]]\n",
      "\n",
      "**************************************************\n",
      "\n"
     ]
    }
   ],
   "source": [
    "test_images = np.load(f\"../input/chest-x-rays-images/test_images_{SIZE}.npy\")\n",
    "test_labels = np.load(f\"../input/chest-x-rays-images/test_targets_{SIZE}.npy\")\n",
    "\n",
    "ts_data_setup = DS(test_images, None, cfg.transform)\n",
    "ts_data = DL(ts_data_setup, batch_size=cfg.batch_size, shuffle=False)\n",
    "\n",
    "best_fold = BLEs.index(min(BLEs)) + 1\n",
    "model_path = f\"saves/state_fold_{best_fold}.pt\"\n",
    "y_pred = predict(model=Model().to(cfg.device), dataloader=ts_data, path=model_path, device=cfg.device)\n",
    "\n",
    "accuracy, auc, precision, recall, f_score = get_scores(test_labels, y_pred)\n",
    "\n",
    "breaker()\n",
    "print(f\"Best Fold : {best_fold}\")\n",
    "breaker()\n",
    "print_scores(accuracy, auc, precision, recall, f_score)\n",
    "breaker()\n",
    "print(classification_report(test_labels, y_pred))\n",
    "breaker()\n",
    "print(confusion_matrix(test_labels, y_pred))\n",
    "breaker()"
   ]
  }
 ],
 "metadata": {
  "kernelspec": {
   "display_name": "Python 3",
   "language": "python",
   "name": "python3"
  },
  "language_info": {
   "codemirror_mode": {
    "name": "ipython",
    "version": 3
   },
   "file_extension": ".py",
   "mimetype": "text/x-python",
   "name": "python",
   "nbconvert_exporter": "python",
   "pygments_lexer": "ipython3",
   "version": "3.7.12"
  },
  "papermill": {
   "default_parameters": {},
   "duration": 8739.966398,
   "end_time": "2022-04-21T08:02:39.797361",
   "environment_variables": {},
   "exception": null,
   "input_path": "__notebook__.ipynb",
   "output_path": "__notebook__.ipynb",
   "parameters": {},
   "start_time": "2022-04-21T05:36:59.830963",
   "version": "2.3.3"
  },
  "widgets": {
   "application/vnd.jupyter.widget-state+json": {
    "state": {
     "06f5fca931844b4ea15d6e7016d02745": {
      "model_module": "@jupyter-widgets/base",
      "model_module_version": "1.2.0",
      "model_name": "LayoutModel",
      "state": {
       "_model_module": "@jupyter-widgets/base",
       "_model_module_version": "1.2.0",
       "_model_name": "LayoutModel",
       "_view_count": null,
       "_view_module": "@jupyter-widgets/base",
       "_view_module_version": "1.2.0",
       "_view_name": "LayoutView",
       "align_content": null,
       "align_items": null,
       "align_self": null,
       "border": null,
       "bottom": null,
       "display": null,
       "flex": null,
       "flex_flow": null,
       "grid_area": null,
       "grid_auto_columns": null,
       "grid_auto_flow": null,
       "grid_auto_rows": null,
       "grid_column": null,
       "grid_gap": null,
       "grid_row": null,
       "grid_template_areas": null,
       "grid_template_columns": null,
       "grid_template_rows": null,
       "height": null,
       "justify_content": null,
       "justify_items": null,
       "left": null,
       "margin": null,
       "max_height": null,
       "max_width": null,
       "min_height": null,
       "min_width": null,
       "object_fit": null,
       "object_position": null,
       "order": null,
       "overflow": null,
       "overflow_x": null,
       "overflow_y": null,
       "padding": null,
       "right": null,
       "top": null,
       "visibility": null,
       "width": null
      }
     },
     "27266de263c1495e9fae736589134c18": {
      "model_module": "@jupyter-widgets/base",
      "model_module_version": "1.2.0",
      "model_name": "LayoutModel",
      "state": {
       "_model_module": "@jupyter-widgets/base",
       "_model_module_version": "1.2.0",
       "_model_name": "LayoutModel",
       "_view_count": null,
       "_view_module": "@jupyter-widgets/base",
       "_view_module_version": "1.2.0",
       "_view_name": "LayoutView",
       "align_content": null,
       "align_items": null,
       "align_self": null,
       "border": null,
       "bottom": null,
       "display": null,
       "flex": null,
       "flex_flow": null,
       "grid_area": null,
       "grid_auto_columns": null,
       "grid_auto_flow": null,
       "grid_auto_rows": null,
       "grid_column": null,
       "grid_gap": null,
       "grid_row": null,
       "grid_template_areas": null,
       "grid_template_columns": null,
       "grid_template_rows": null,
       "height": null,
       "justify_content": null,
       "justify_items": null,
       "left": null,
       "margin": null,
       "max_height": null,
       "max_width": null,
       "min_height": null,
       "min_width": null,
       "object_fit": null,
       "object_position": null,
       "order": null,
       "overflow": null,
       "overflow_x": null,
       "overflow_y": null,
       "padding": null,
       "right": null,
       "top": null,
       "visibility": null,
       "width": null
      }
     },
     "56f2fa727f5946f1a0c3f3f761aa26f3": {
      "model_module": "@jupyter-widgets/controls",
      "model_module_version": "1.5.0",
      "model_name": "HBoxModel",
      "state": {
       "_dom_classes": [],
       "_model_module": "@jupyter-widgets/controls",
       "_model_module_version": "1.5.0",
       "_model_name": "HBoxModel",
       "_view_count": null,
       "_view_module": "@jupyter-widgets/controls",
       "_view_module_version": "1.5.0",
       "_view_name": "HBoxView",
       "box_style": "",
       "children": [
        "IPY_MODEL_d2b04d08a60c48208d9ae0376f98819d",
        "IPY_MODEL_f11b8947f2aa40d9ab3cb6ff16609c3d",
        "IPY_MODEL_9db178300b8d4f69a047df45fa578c72"
       ],
       "layout": "IPY_MODEL_e52933c9d2994e14b1728370a785817a"
      }
     },
     "943a64a3297c434999a4e66c941fa9aa": {
      "model_module": "@jupyter-widgets/base",
      "model_module_version": "1.2.0",
      "model_name": "LayoutModel",
      "state": {
       "_model_module": "@jupyter-widgets/base",
       "_model_module_version": "1.2.0",
       "_model_name": "LayoutModel",
       "_view_count": null,
       "_view_module": "@jupyter-widgets/base",
       "_view_module_version": "1.2.0",
       "_view_name": "LayoutView",
       "align_content": null,
       "align_items": null,
       "align_self": null,
       "border": null,
       "bottom": null,
       "display": null,
       "flex": null,
       "flex_flow": null,
       "grid_area": null,
       "grid_auto_columns": null,
       "grid_auto_flow": null,
       "grid_auto_rows": null,
       "grid_column": null,
       "grid_gap": null,
       "grid_row": null,
       "grid_template_areas": null,
       "grid_template_columns": null,
       "grid_template_rows": null,
       "height": null,
       "justify_content": null,
       "justify_items": null,
       "left": null,
       "margin": null,
       "max_height": null,
       "max_width": null,
       "min_height": null,
       "min_width": null,
       "object_fit": null,
       "object_position": null,
       "order": null,
       "overflow": null,
       "overflow_x": null,
       "overflow_y": null,
       "padding": null,
       "right": null,
       "top": null,
       "visibility": null,
       "width": null
      }
     },
     "9db178300b8d4f69a047df45fa578c72": {
      "model_module": "@jupyter-widgets/controls",
      "model_module_version": "1.5.0",
      "model_name": "HTMLModel",
      "state": {
       "_dom_classes": [],
       "_model_module": "@jupyter-widgets/controls",
       "_model_module_version": "1.5.0",
       "_model_name": "HTMLModel",
       "_view_count": null,
       "_view_module": "@jupyter-widgets/controls",
       "_view_module_version": "1.5.0",
       "_view_name": "HTMLView",
       "description": "",
       "description_tooltip": null,
       "layout": "IPY_MODEL_27266de263c1495e9fae736589134c18",
       "placeholder": "​",
       "style": "IPY_MODEL_c1b9ec123865419fad1dec54693bfddb",
       "value": " 30.8M/30.8M [16:59&lt;00:00, 32.7kB/s]"
      }
     },
     "c1b9ec123865419fad1dec54693bfddb": {
      "model_module": "@jupyter-widgets/controls",
      "model_module_version": "1.5.0",
      "model_name": "DescriptionStyleModel",
      "state": {
       "_model_module": "@jupyter-widgets/controls",
       "_model_module_version": "1.5.0",
       "_model_name": "DescriptionStyleModel",
       "_view_count": null,
       "_view_module": "@jupyter-widgets/base",
       "_view_module_version": "1.2.0",
       "_view_name": "StyleView",
       "description_width": ""
      }
     },
     "ca7563e8bdaa4df88d8b748653e946fb": {
      "model_module": "@jupyter-widgets/controls",
      "model_module_version": "1.5.0",
      "model_name": "ProgressStyleModel",
      "state": {
       "_model_module": "@jupyter-widgets/controls",
       "_model_module_version": "1.5.0",
       "_model_name": "ProgressStyleModel",
       "_view_count": null,
       "_view_module": "@jupyter-widgets/base",
       "_view_module_version": "1.2.0",
       "_view_name": "StyleView",
       "bar_color": null,
       "description_width": ""
      }
     },
     "d2b04d08a60c48208d9ae0376f98819d": {
      "model_module": "@jupyter-widgets/controls",
      "model_module_version": "1.5.0",
      "model_name": "HTMLModel",
      "state": {
       "_dom_classes": [],
       "_model_module": "@jupyter-widgets/controls",
       "_model_module_version": "1.5.0",
       "_model_name": "HTMLModel",
       "_view_count": null,
       "_view_module": "@jupyter-widgets/controls",
       "_view_module_version": "1.5.0",
       "_view_name": "HTMLView",
       "description": "",
       "description_tooltip": null,
       "layout": "IPY_MODEL_943a64a3297c434999a4e66c941fa9aa",
       "placeholder": "​",
       "style": "IPY_MODEL_d91040ada7a54776a7c0f4ce08770aab",
       "value": "100%"
      }
     },
     "d91040ada7a54776a7c0f4ce08770aab": {
      "model_module": "@jupyter-widgets/controls",
      "model_module_version": "1.5.0",
      "model_name": "DescriptionStyleModel",
      "state": {
       "_model_module": "@jupyter-widgets/controls",
       "_model_module_version": "1.5.0",
       "_model_name": "DescriptionStyleModel",
       "_view_count": null,
       "_view_module": "@jupyter-widgets/base",
       "_view_module_version": "1.2.0",
       "_view_name": "StyleView",
       "description_width": ""
      }
     },
     "e52933c9d2994e14b1728370a785817a": {
      "model_module": "@jupyter-widgets/base",
      "model_module_version": "1.2.0",
      "model_name": "LayoutModel",
      "state": {
       "_model_module": "@jupyter-widgets/base",
       "_model_module_version": "1.2.0",
       "_model_name": "LayoutModel",
       "_view_count": null,
       "_view_module": "@jupyter-widgets/base",
       "_view_module_version": "1.2.0",
       "_view_name": "LayoutView",
       "align_content": null,
       "align_items": null,
       "align_self": null,
       "border": null,
       "bottom": null,
       "display": null,
       "flex": null,
       "flex_flow": null,
       "grid_area": null,
       "grid_auto_columns": null,
       "grid_auto_flow": null,
       "grid_auto_rows": null,
       "grid_column": null,
       "grid_gap": null,
       "grid_row": null,
       "grid_template_areas": null,
       "grid_template_columns": null,
       "grid_template_rows": null,
       "height": null,
       "justify_content": null,
       "justify_items": null,
       "left": null,
       "margin": null,
       "max_height": null,
       "max_width": null,
       "min_height": null,
       "min_width": null,
       "object_fit": null,
       "object_position": null,
       "order": null,
       "overflow": null,
       "overflow_x": null,
       "overflow_y": null,
       "padding": null,
       "right": null,
       "top": null,
       "visibility": null,
       "width": null
      }
     },
     "f11b8947f2aa40d9ab3cb6ff16609c3d": {
      "model_module": "@jupyter-widgets/controls",
      "model_module_version": "1.5.0",
      "model_name": "FloatProgressModel",
      "state": {
       "_dom_classes": [],
       "_model_module": "@jupyter-widgets/controls",
       "_model_module_version": "1.5.0",
       "_model_name": "FloatProgressModel",
       "_view_count": null,
       "_view_module": "@jupyter-widgets/controls",
       "_view_module_version": "1.5.0",
       "_view_name": "ProgressView",
       "bar_style": "success",
       "description": "",
       "description_tooltip": null,
       "layout": "IPY_MODEL_06f5fca931844b4ea15d6e7016d02745",
       "max": 32342954.0,
       "min": 0.0,
       "orientation": "horizontal",
       "style": "IPY_MODEL_ca7563e8bdaa4df88d8b748653e946fb",
       "value": 32342954.0
      }
     }
    },
    "version_major": 2,
    "version_minor": 0
   }
  }
 },
 "nbformat": 4,
 "nbformat_minor": 5
}
