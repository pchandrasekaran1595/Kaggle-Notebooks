{
 "cells": [
  {
   "cell_type": "markdown",
   "id": "b8dda3a4",
   "metadata": {
    "_cell_guid": "b1076dfc-b9ad-4769-8c92-a6c4dae69d19",
    "_uuid": "8f2839f25d086af736a60e9eeb907d3b93b6e0e5",
    "papermill": {
     "duration": 0.014025,
     "end_time": "2022-04-25T08:15:26.317420",
     "exception": false,
     "start_time": "2022-04-25T08:15:26.303395",
     "status": "completed"
    },
    "tags": []
   },
   "source": [
    "### Library Imports"
   ]
  },
  {
   "cell_type": "code",
   "execution_count": 1,
   "id": "8272ebcd",
   "metadata": {
    "execution": {
     "iopub.execute_input": "2022-04-25T08:15:26.349615Z",
     "iopub.status.busy": "2022-04-25T08:15:26.348094Z",
     "iopub.status.idle": "2022-04-25T08:15:28.827668Z",
     "shell.execute_reply": "2022-04-25T08:15:28.826510Z",
     "shell.execute_reply.started": "2022-04-09T01:18:45.162484Z"
    },
    "papermill": {
     "duration": 2.497306,
     "end_time": "2022-04-25T08:15:28.828031",
     "exception": false,
     "start_time": "2022-04-25T08:15:26.330725",
     "status": "completed"
    },
    "tags": []
   },
   "outputs": [],
   "source": [
    "import os\n",
    "import re\n",
    "import torch\n",
    "import numpy as np\n",
    "import pandas as pd\n",
    "import matplotlib.pyplot as plt\n",
    "\n",
    "from time import time\n",
    "from torch import nn, optim\n",
    "from torch.utils.data import Dataset\n",
    "from torch.utils.data import DataLoader as DL\n",
    "from torchvision import models, transforms\n",
    "\n",
    "from sklearn.model_selection import KFold\n",
    "from sklearn.preprocessing import LabelEncoder\n",
    "from sklearn.metrics import accuracy_score, \\\n",
    "                            precision_recall_fscore_support, \\\n",
    "                            roc_auc_score, \\\n",
    "                            classification_report, \\\n",
    "                            confusion_matrix"
   ]
  },
  {
   "cell_type": "markdown",
   "id": "86bd6633",
   "metadata": {
    "papermill": {
     "duration": 0.027524,
     "end_time": "2022-04-25T08:15:28.882305",
     "exception": false,
     "start_time": "2022-04-25T08:15:28.854781",
     "status": "completed"
    },
    "tags": []
   },
   "source": [
    "### **Utilities**"
   ]
  },
  {
   "cell_type": "code",
   "execution_count": 2,
   "id": "0db359e5",
   "metadata": {
    "execution": {
     "iopub.execute_input": "2022-04-25T08:15:28.939766Z",
     "iopub.status.busy": "2022-04-25T08:15:28.937944Z",
     "iopub.status.idle": "2022-04-25T08:15:28.956734Z",
     "shell.execute_reply": "2022-04-25T08:15:28.955982Z",
     "shell.execute_reply.started": "2022-04-09T01:18:47.512362Z"
    },
    "papermill": {
     "duration": 0.054833,
     "end_time": "2022-04-25T08:15:28.957021",
     "exception": false,
     "start_time": "2022-04-25T08:15:28.902188",
     "status": "completed"
    },
    "tags": []
   },
   "outputs": [],
   "source": [
    "SEED = 42\n",
    "SIZE = 384\n",
    "\n",
    "def breaker(num: int=50, char: str=\"*\") -> None:\n",
    "    print(\"\\n\" + num*char + \"\\n\")\n",
    "\n",
    "\n",
    "def show_graphs(L: list, A: list) -> None:\n",
    "    TL, VL, TA, VA = [], [], [], []\n",
    "    for i in range(len(L)):\n",
    "        TL.append(L[i][\"train\"])\n",
    "        VL.append(L[i][\"valid\"])\n",
    "        TA.append(A[i][\"train\"])\n",
    "        VA.append(A[i][\"valid\"])\n",
    "    x_Axis = np.arange(1, len(TL) + 1)\n",
    "    plt.figure(figsize=(8, 6))\n",
    "    plt.subplot(1, 2, 1)\n",
    "    plt.plot(x_Axis, TL, \"r\", label=\"Train\")\n",
    "    plt.plot(x_Axis, VL, \"b\", label=\"Valid\")\n",
    "    plt.legend()\n",
    "    plt.grid()\n",
    "    plt.title(\"Loss Graph\")\n",
    "    plt.subplot(1, 2, 2)\n",
    "    plt.plot(x_Axis, TA, \"r\", label=\"Train\")\n",
    "    plt.plot(x_Axis, VA, \"b\", label=\"Valid\")\n",
    "    plt.legend()\n",
    "    plt.grid()\n",
    "    plt.title(\"Accuracy Graph\")\n",
    "    plt.show()\n",
    "\n",
    "    \n",
    "def get_scores(y_true: np.ndarray, y_pred: np.ndarray) -> tuple:\n",
    "    accuracy = accuracy_score(y_pred, y_true)\n",
    "    try:\n",
    "        auc = roc_auc_score(y_pred, y_true)\n",
    "    except:\n",
    "        auc = 0\n",
    "    precision, recall, f_score, _ = precision_recall_fscore_support(y_pred, y_true)\n",
    "\n",
    "    return accuracy, auc, precision, recall, f_score\n",
    "\n",
    "\n",
    "def print_scores(accuracy: float, auc: float, precision: np.ndarray, recall: np.ndarray, f_score: np.ndarray) -> None:\n",
    "    print(f\"Accuracy  : {accuracy:.5f}\")\n",
    "    print(f\"ROC-AUC   : {auc:.5f}\")\n",
    "    print(f\"Precision : {precision}\")\n",
    "    print(f\"Recall    : {recall}\")\n",
    "    print(f\"F-Score   : {f_score}\")"
   ]
  },
  {
   "cell_type": "markdown",
   "id": "698572c7",
   "metadata": {
    "papermill": {
     "duration": 0.025535,
     "end_time": "2022-04-25T08:15:29.009000",
     "exception": false,
     "start_time": "2022-04-25T08:15:28.983465",
     "status": "completed"
    },
    "tags": []
   },
   "source": [
    "### **Configuration**"
   ]
  },
  {
   "cell_type": "code",
   "execution_count": 3,
   "id": "778cef48",
   "metadata": {
    "execution": {
     "iopub.execute_input": "2022-04-25T08:15:29.071600Z",
     "iopub.status.busy": "2022-04-25T08:15:29.069366Z",
     "iopub.status.idle": "2022-04-25T08:15:29.146269Z",
     "shell.execute_reply": "2022-04-25T08:15:29.147355Z",
     "shell.execute_reply.started": "2022-04-09T01:36:52.976989Z"
    },
    "papermill": {
     "duration": 0.113091,
     "end_time": "2022-04-25T08:15:29.147541",
     "exception": false,
     "start_time": "2022-04-25T08:15:29.034450",
     "status": "completed"
    },
    "tags": []
   },
   "outputs": [],
   "source": [
    "class CFG(object):\n",
    "    def __init__(self, \n",
    "                 seed: int = 42,\n",
    "                 n_splits: int = 5,\n",
    "                 batch_size: int = 16,\n",
    "                 epochs: int = 25,\n",
    "                 early_stopping: int = 5,\n",
    "                 lr: float = 1e-4,\n",
    "                 wd: float = 0.0,\n",
    "                 max_lr: float = 1e-3,\n",
    "                 pct_start: float = 0.2,\n",
    "                 steps_per_epoch: int = 100,\n",
    "                 div_factor: int = 1e3, \n",
    "                 final_div_factor: float = 1e3,\n",
    "                 ):\n",
    "        \n",
    "        self.seed = seed\n",
    "        self.n_splits = n_splits\n",
    "        self.batch_size = batch_size\n",
    "        self.epochs = epochs\n",
    "        self.early_stopping = early_stopping\n",
    "        self.lr = lr\n",
    "        self.wd = wd\n",
    "        self.max_lr = max_lr\n",
    "        self.pct_start = pct_start\n",
    "        self.steps_per_epoch = steps_per_epoch\n",
    "        self.div_factor = div_factor\n",
    "        self.final_div_factor = final_div_factor\n",
    "        self.device = torch.device(\"cuda\" if torch.cuda.is_available() else \"cpu\")\n",
    "        self.transform = transforms.Compose([transforms.ToTensor(),\n",
    "                                transforms.Normalize([0.48232, 0.48232, 0.48232],\n",
    "                                                     [0.23703, 0.23703, 0.23703]),\n",
    "                                ])\n",
    "        self.save_path = \"saves\"\n",
    "        if not os.path.exists(self.save_path): os.makedirs(self.save_path)\n",
    "    \n",
    "cfg = CFG(seed=SEED)"
   ]
  },
  {
   "cell_type": "markdown",
   "id": "def41738",
   "metadata": {
    "papermill": {
     "duration": 0.0262,
     "end_time": "2022-04-25T08:15:29.201575",
     "exception": false,
     "start_time": "2022-04-25T08:15:29.175375",
     "status": "completed"
    },
    "tags": []
   },
   "source": [
    "### **Dataset Template**"
   ]
  },
  {
   "cell_type": "code",
   "execution_count": 4,
   "id": "a886c51f",
   "metadata": {
    "execution": {
     "iopub.execute_input": "2022-04-25T08:15:29.267794Z",
     "iopub.status.busy": "2022-04-25T08:15:29.264939Z",
     "iopub.status.idle": "2022-04-25T08:15:29.269003Z",
     "shell.execute_reply": "2022-04-25T08:15:29.269829Z",
     "shell.execute_reply.started": "2022-04-09T01:18:47.593512Z"
    },
    "papermill": {
     "duration": 0.041516,
     "end_time": "2022-04-25T08:15:29.270080",
     "exception": false,
     "start_time": "2022-04-25T08:15:29.228564",
     "status": "completed"
    },
    "tags": []
   },
   "outputs": [],
   "source": [
    "class DS(Dataset):\n",
    "    def __init__(self, images: np.ndarray, labels: np.ndarray = None, transform=None):\n",
    "        self.images = images\n",
    "        self.labels = labels\n",
    "        self.transform = transform\n",
    "    \n",
    "    def __len__(self):\n",
    "        return self.images.shape[0]\n",
    "    \n",
    "    def __getitem__(self, idx):\n",
    "        if self.labels is not None:\n",
    "            return self.transform(self.images[idx]), torch.FloatTensor(self.labels[idx])\n",
    "        else:\n",
    "            return self.transform(self.images[idx])"
   ]
  },
  {
   "cell_type": "markdown",
   "id": "d09e9b18",
   "metadata": {
    "papermill": {
     "duration": 0.023561,
     "end_time": "2022-04-25T08:15:29.319192",
     "exception": false,
     "start_time": "2022-04-25T08:15:29.295631",
     "status": "completed"
    },
    "tags": []
   },
   "source": [
    "### **Model**"
   ]
  },
  {
   "cell_type": "code",
   "execution_count": 5,
   "id": "586cb12c",
   "metadata": {
    "execution": {
     "iopub.execute_input": "2022-04-25T08:15:29.355757Z",
     "iopub.status.busy": "2022-04-25T08:15:29.354897Z",
     "iopub.status.idle": "2022-04-25T08:15:29.357087Z",
     "shell.execute_reply": "2022-04-25T08:15:29.357459Z",
     "shell.execute_reply.started": "2022-04-09T01:18:47.606516Z"
    },
    "papermill": {
     "duration": 0.022231,
     "end_time": "2022-04-25T08:15:29.357588",
     "exception": false,
     "start_time": "2022-04-25T08:15:29.335357",
     "status": "completed"
    },
    "tags": []
   },
   "outputs": [],
   "source": [
    "class Model(nn.Module):\n",
    "    def __init__(self):\n",
    "        super(Model, self).__init__()\n",
    "\n",
    "        self.model = models.densenet121(pretrained=True, progress=True)\n",
    "        self.model.classifier = nn.Linear(in_features=self.model.classifier.in_features, out_features=1)\n",
    "\n",
    "    def forward(self, x):\n",
    "        return self.model(x)"
   ]
  },
  {
   "cell_type": "markdown",
   "id": "515771f2",
   "metadata": {
    "papermill": {
     "duration": 0.013232,
     "end_time": "2022-04-25T08:15:29.384739",
     "exception": false,
     "start_time": "2022-04-25T08:15:29.371507",
     "status": "completed"
    },
    "tags": []
   },
   "source": [
    "### Fit and Predict Helper"
   ]
  },
  {
   "cell_type": "code",
   "execution_count": 6,
   "id": "4365370a",
   "metadata": {
    "execution": {
     "iopub.execute_input": "2022-04-25T08:15:29.438308Z",
     "iopub.status.busy": "2022-04-25T08:15:29.437347Z",
     "iopub.status.idle": "2022-04-25T08:15:29.440590Z",
     "shell.execute_reply": "2022-04-25T08:15:29.441025Z",
     "shell.execute_reply.started": "2022-04-09T01:18:47.615986Z"
    },
    "papermill": {
     "duration": 0.042515,
     "end_time": "2022-04-25T08:15:29.441232",
     "exception": false,
     "start_time": "2022-04-25T08:15:29.398717",
     "status": "completed"
    },
    "tags": []
   },
   "outputs": [],
   "source": [
    "def fit(model=None, \n",
    "        optimizer=None, \n",
    "        scheduler=None, \n",
    "        epochs=None, \n",
    "        early_stopping_patience=None, \n",
    "        dataloaders=None, \n",
    "        fold=None, \n",
    "        save_path=None, \n",
    "        device=None,\n",
    "        verbose=False) -> tuple:\n",
    "    \n",
    "    def get_accuracy(y_pred, y_true):\n",
    "        y_pred = torch.sigmoid(y_pred)\n",
    "        \n",
    "        y_pred[y_pred > 0.5] = 1\n",
    "        y_pred[y_pred <= 0.5] = 0\n",
    "        \n",
    "        return torch.count_nonzero(y_pred == y_true).item() / len(y_pred)\n",
    "    \n",
    "    if verbose:\n",
    "        breaker()\n",
    "        if fold: print(f\"Training Fold {fold}...\")\n",
    "        else: print(\"Training ...\")\n",
    "        breaker()\n",
    "        \n",
    "    bestLoss, bestAccs = {\"train\" : np.inf, \"valid\" : np.inf}, {\"train\" : 0.0, \"valid\" : 0.0}\n",
    "    Losses, LRs, Accuracies = [], [], []\n",
    "    if fold: name = f\"state_fold_{fold}.pt\"\n",
    "    else: name = \"state.pt\"\n",
    "\n",
    "    start_time = time()\n",
    "    for e in range(epochs):\n",
    "        e_st = time()\n",
    "        epochLoss, epochAccs = {\"train\" : 0.0, \"valid\" : 0.0}, {\"train\" : 0.0, \"valid\" : 0.0}\n",
    "\n",
    "        for phase in [\"train\", \"valid\"]:\n",
    "            if phase == \"train\":\n",
    "                model.train()\n",
    "            else:\n",
    "                model.eval()\n",
    "            \n",
    "            lossPerPass, accsPerPass = [], []\n",
    "\n",
    "            for X, y in dataloaders[phase]:\n",
    "                X, y = X.to(device), y.to(device)\n",
    "\n",
    "                optimizer.zero_grad()\n",
    "                with torch.set_grad_enabled(phase == \"train\"):\n",
    "                    output = model(X)\n",
    "                    loss = torch.nn.BCEWithLogitsLoss()(output, y)\n",
    "                    if phase == \"train\":\n",
    "                        loss.backward()\n",
    "                        optimizer.step()\n",
    "                        if scheduler: scheduler.step()\n",
    "                lossPerPass.append(loss.item())\n",
    "                accsPerPass.append(get_accuracy(output, y))\n",
    "            epochLoss[phase] = np.mean(np.array(lossPerPass))\n",
    "            epochAccs[phase] = np.mean(np.array(accsPerPass))\n",
    "        LRs.append(scheduler.get_last_lr())\n",
    "        Losses.append(epochLoss)\n",
    "        Accuracies.append(epochAccs)\n",
    "        \n",
    "        if early_stopping_patience:\n",
    "            if epochLoss[\"valid\"] < bestLoss[\"valid\"]:\n",
    "                bestLoss = epochLoss\n",
    "                BLE = e + 1\n",
    "                torch.save({\"model_state_dict\"     : model.state_dict(),\n",
    "                            \"optim_state_dict\"     : optimizer.state_dict()},\n",
    "                           os.path.join(save_path, name))\n",
    "                early_stopping_step = 0\n",
    "            else:\n",
    "                early_stopping_step += 1\n",
    "                if early_stopping_step > early_stopping_patience:\n",
    "                    print(\"\\nEarly Stopping at Epoch {}\".format(e + 1))\n",
    "                    break\n",
    "        \n",
    "        if epochLoss[\"valid\"] < bestLoss[\"valid\"]:\n",
    "            bestLoss = epochLoss\n",
    "            BLE = e + 1\n",
    "            torch.save({\"model_state_dict\"     : model.state_dict(),\n",
    "                        \"optim_state_dict\"     : optimizer.state_dict()},\n",
    "                        os.path.join(save_path, name))\n",
    "        \n",
    "        if epochAccs[\"valid\"] > bestAccs[\"valid\"]:\n",
    "            bestAccs = epochAccs\n",
    "            BAE = e + 1\n",
    "        \n",
    "        # if scheduler: scheduler.step(epochLoss[\"valid\"])\n",
    "        \n",
    "        if verbose:\n",
    "            print(\"Epoch: {} | Train Loss: {:.5f} | Valid Loss: {:.5f} | Train Accs: {:.5f} | Valid Accs: {:.5f} | Time: {:.2f} seconds\".format(e+1, \n",
    "                                                                       epochLoss[\"train\"], epochLoss[\"valid\"], \n",
    "                                                                       epochAccs[\"train\"], epochAccs[\"valid\"], \n",
    "                                                                       time()-e_st))\n",
    "\n",
    "    if verbose:                                           \n",
    "        breaker()\n",
    "        print(f\"Best Validation Loss at Epoch {BLE}\")\n",
    "        breaker()\n",
    "        print(f\"Best Validation Accs at Epoch {BAE}\")\n",
    "        breaker()\n",
    "        print(\"Time Taken [{} Epochs] : {:.2f} minutes\".format(len(Losses), (time()-start_time)/60))\n",
    "    \n",
    "    return Losses, Accuracies, LRs, BLE, BAE, name\n",
    "\n",
    "\n",
    "def predict(model=None, dataloader=None, path=None, device=None) -> np.ndarray:\n",
    "    model.load_state_dict(torch.load(path, map_location=device)[\"model_state_dict\"])\n",
    "    model.to(device)    \n",
    "    model.eval()\n",
    "    \n",
    "    y_pred = torch.zeros(1, 1).to(device)\n",
    "    \n",
    "    for X in dataloader:\n",
    "        X = X.to(device)\n",
    "        with torch.no_grad():\n",
    "            output = torch.sigmoid(model(X))\n",
    "        y_pred = torch.cat((y_pred, output.view(-1, 1)), dim=0)\n",
    "    \n",
    "    y_pred[y_pred > 0.5] = 1\n",
    "    y_pred[y_pred <= 0.5] = 0\n",
    "    \n",
    "    return y_pred[1:].detach().cpu().numpy()"
   ]
  },
  {
   "cell_type": "markdown",
   "id": "7f3a379a",
   "metadata": {
    "papermill": {
     "duration": 0.013603,
     "end_time": "2022-04-25T08:15:29.468796",
     "exception": false,
     "start_time": "2022-04-25T08:15:29.455193",
     "status": "completed"
    },
    "tags": []
   },
   "source": [
    "### **Train**"
   ]
  },
  {
   "cell_type": "code",
   "execution_count": 7,
   "id": "7bf4459c",
   "metadata": {
    "execution": {
     "iopub.execute_input": "2022-04-25T08:15:29.499848Z",
     "iopub.status.busy": "2022-04-25T08:15:29.499195Z",
     "iopub.status.idle": "2022-04-25T08:15:45.329943Z",
     "shell.execute_reply": "2022-04-25T08:15:45.329416Z",
     "shell.execute_reply.started": "2022-04-09T01:18:47.643848Z"
    },
    "papermill": {
     "duration": 15.847781,
     "end_time": "2022-04-25T08:15:45.330143",
     "exception": false,
     "start_time": "2022-04-25T08:15:29.482362",
     "status": "completed"
    },
    "tags": []
   },
   "outputs": [],
   "source": [
    "images = np.load(f\"../input/cxr-images-384/train_images_{SIZE}.npy\")\n",
    "labels = np.load(f\"../input/cxr-images-384/train_targets_{SIZE}.npy\")"
   ]
  },
  {
   "cell_type": "code",
   "execution_count": 8,
   "id": "861f3f49",
   "metadata": {
    "execution": {
     "iopub.execute_input": "2022-04-25T08:15:45.370102Z",
     "iopub.status.busy": "2022-04-25T08:15:45.368895Z",
     "iopub.status.idle": "2022-04-25T10:30:29.937428Z",
     "shell.execute_reply": "2022-04-25T10:30:29.937828Z",
     "shell.execute_reply.started": "2022-04-09T01:36:59.635267Z"
    },
    "papermill": {
     "duration": 8084.593525,
     "end_time": "2022-04-25T10:30:29.938014",
     "exception": false,
     "start_time": "2022-04-25T08:15:45.344489",
     "status": "completed"
    },
    "tags": []
   },
   "outputs": [
    {
     "name": "stderr",
     "output_type": "stream",
     "text": [
      "Downloading: \"https://download.pytorch.org/models/densenet121-a639ec97.pth\" to /root/.cache/torch/hub/checkpoints/densenet121-a639ec97.pth\n"
     ]
    },
    {
     "data": {
      "application/vnd.jupyter.widget-view+json": {
       "model_id": "6c5451212c58487b886fa521e3c9de97",
       "version_major": 2,
       "version_minor": 0
      },
      "text/plain": [
       "  0%|          | 0.00/30.8M [00:00<?, ?B/s]"
      ]
     },
     "metadata": {},
     "output_type": "display_data"
    },
    {
     "name": "stdout",
     "output_type": "stream",
     "text": [
      "\n",
      "**************************************************\n",
      "\n",
      "Training Fold 1...\n",
      "\n",
      "**************************************************\n",
      "\n",
      "Epoch: 1 | Train Loss: 0.34161 | Valid Loss: 0.05766 | Train Accs: 0.82114 | Valid Accs: 0.98431 | Time: 91.65 seconds\n",
      "Epoch: 2 | Train Loss: 0.08545 | Valid Loss: 0.04990 | Train Accs: 0.97172 | Valid Accs: 0.98363 | Time: 87.04 seconds\n",
      "Epoch: 3 | Train Loss: 0.08150 | Valid Loss: 0.07379 | Train Accs: 0.96994 | Valid Accs: 0.96970 | Time: 85.54 seconds\n",
      "Epoch: 4 | Train Loss: 0.11228 | Valid Loss: 0.09002 | Train Accs: 0.95682 | Valid Accs: 0.96469 | Time: 86.58 seconds\n",
      "Epoch: 5 | Train Loss: 0.06312 | Valid Loss: 0.09288 | Train Accs: 0.97734 | Valid Accs: 0.96496 | Time: 86.98 seconds\n",
      "Epoch: 6 | Train Loss: 0.06559 | Valid Loss: 0.05326 | Train Accs: 0.97644 | Valid Accs: 0.97822 | Time: 85.68 seconds\n",
      "Epoch: 7 | Train Loss: 0.04781 | Valid Loss: 0.04028 | Train Accs: 0.98282 | Valid Accs: 0.98363 | Time: 87.29 seconds\n",
      "Epoch: 8 | Train Loss: 0.04095 | Valid Loss: 0.03675 | Train Accs: 0.98216 | Valid Accs: 0.98647 | Time: 86.54 seconds\n",
      "Epoch: 9 | Train Loss: 0.03510 | Valid Loss: 0.03340 | Train Accs: 0.98807 | Valid Accs: 0.98864 | Time: 86.51 seconds\n",
      "Epoch: 10 | Train Loss: 0.02108 | Valid Loss: 0.10440 | Train Accs: 0.99237 | Valid Accs: 0.95306 | Time: 85.57 seconds\n",
      "Epoch: 11 | Train Loss: 0.03270 | Valid Loss: 0.10454 | Train Accs: 0.98831 | Valid Accs: 0.95874 | Time: 85.32 seconds\n",
      "Epoch: 12 | Train Loss: 0.01839 | Valid Loss: 0.04379 | Train Accs: 0.99308 | Valid Accs: 0.98268 | Time: 85.68 seconds\n",
      "Epoch: 13 | Train Loss: 0.01085 | Valid Loss: 0.03584 | Train Accs: 0.99594 | Valid Accs: 0.98931 | Time: 86.24 seconds\n",
      "Epoch: 14 | Train Loss: 0.00744 | Valid Loss: 0.02151 | Train Accs: 0.99738 | Valid Accs: 0.99337 | Time: 86.28 seconds\n",
      "Epoch: 15 | Train Loss: 0.00641 | Valid Loss: 0.02429 | Train Accs: 0.99833 | Valid Accs: 0.98931 | Time: 85.72 seconds\n",
      "Epoch: 16 | Train Loss: 0.00432 | Valid Loss: 0.02555 | Train Accs: 0.99928 | Valid Accs: 0.99121 | Time: 85.99 seconds\n",
      "Epoch: 17 | Train Loss: 0.00143 | Valid Loss: 0.02658 | Train Accs: 0.99976 | Valid Accs: 0.99121 | Time: 85.58 seconds\n",
      "Epoch: 18 | Train Loss: 0.00209 | Valid Loss: 0.02361 | Train Accs: 0.99976 | Valid Accs: 0.99337 | Time: 86.27 seconds\n",
      "Epoch: 19 | Train Loss: 0.00125 | Valid Loss: 0.02659 | Train Accs: 0.99976 | Valid Accs: 0.99242 | Time: 85.24 seconds\n",
      "\n",
      "Early Stopping at Epoch 20\n",
      "\n",
      "**************************************************\n",
      "\n",
      "Best Validation Loss at Epoch 14\n",
      "\n",
      "**************************************************\n",
      "\n",
      "Best Validation Accs at Epoch 14\n",
      "\n",
      "**************************************************\n",
      "\n",
      "Time Taken [20 Epochs] : 28.78 minutes\n",
      "\n",
      "**************************************************\n",
      "\n"
     ]
    },
    {
     "data": {
      "image/png": "[encoded data removed]",
      "text/plain": [
       "<Figure size 576x432 with 2 Axes>"
      ]
     },
     "metadata": {
      "needs_background": "light"
     },
     "output_type": "display_data"
    },
    {
     "name": "stdout",
     "output_type": "stream",
     "text": [
      "\n",
      "**************************************************\n",
      "\n",
      "Training Fold 2...\n",
      "\n",
      "**************************************************\n",
      "\n",
      "Epoch: 1 | Train Loss: 0.34221 | Valid Loss: 0.12049 | Train Accs: 0.81738 | Valid Accs: 0.95617 | Time: 85.66 seconds\n",
      "Epoch: 2 | Train Loss: 0.09054 | Valid Loss: 0.07605 | Train Accs: 0.96947 | Valid Accs: 0.97064 | Time: 85.75 seconds\n",
      "Epoch: 3 | Train Loss: 0.09137 | Valid Loss: 0.10742 | Train Accs: 0.96636 | Valid Accs: 0.96023 | Time: 85.63 seconds\n",
      "Epoch: 4 | Train Loss: 0.08088 | Valid Loss: 0.08978 | Train Accs: 0.96994 | Valid Accs: 0.96537 | Time: 85.46 seconds\n",
      "Epoch: 5 | Train Loss: 0.06296 | Valid Loss: 0.05290 | Train Accs: 0.97758 | Valid Accs: 0.98363 | Time: 85.79 seconds\n",
      "Epoch: 6 | Train Loss: 0.05273 | Valid Loss: 0.05459 | Train Accs: 0.98020 | Valid Accs: 0.98106 | Time: 85.40 seconds\n",
      "Epoch: 7 | Train Loss: 0.04346 | Valid Loss: 0.03830 | Train Accs: 0.98569 | Valid Accs: 0.99053 | Time: 85.79 seconds\n",
      "Epoch: 8 | Train Loss: 0.04014 | Valid Loss: 0.03382 | Train Accs: 0.98378 | Valid Accs: 0.98958 | Time: 85.57 seconds\n",
      "Epoch: 9 | Train Loss: 0.04111 | Valid Loss: 0.05593 | Train Accs: 0.98354 | Valid Accs: 0.98201 | Time: 85.45 seconds\n",
      "Epoch: 10 | Train Loss: 0.02468 | Valid Loss: 0.04657 | Train Accs: 0.99189 | Valid Accs: 0.98864 | Time: 85.46 seconds\n",
      "Epoch: 11 | Train Loss: 0.02305 | Valid Loss: 0.04471 | Train Accs: 0.99117 | Valid Accs: 0.98674 | Time: 85.29 seconds\n",
      "Epoch: 12 | Train Loss: 0.01194 | Valid Loss: 0.01559 | Train Accs: 0.99642 | Valid Accs: 0.99432 | Time: 85.90 seconds\n",
      "Epoch: 13 | Train Loss: 0.00749 | Valid Loss: 0.02294 | Train Accs: 0.99809 | Valid Accs: 0.99337 | Time: 85.96 seconds\n",
      "Epoch: 14 | Train Loss: 0.00681 | Valid Loss: 0.01438 | Train Accs: 0.99809 | Valid Accs: 0.99527 | Time: 86.33 seconds\n",
      "Epoch: 15 | Train Loss: 0.00571 | Valid Loss: 0.01961 | Train Accs: 0.99833 | Valid Accs: 0.99432 | Time: 85.69 seconds\n",
      "Epoch: 16 | Train Loss: 0.00366 | Valid Loss: 0.01810 | Train Accs: 0.99928 | Valid Accs: 0.99432 | Time: 85.23 seconds\n",
      "Epoch: 17 | Train Loss: 0.00157 | Valid Loss: 0.01826 | Train Accs: 0.99976 | Valid Accs: 0.99432 | Time: 85.46 seconds\n",
      "Epoch: 18 | Train Loss: 0.00097 | Valid Loss: 0.01703 | Train Accs: 1.00000 | Valid Accs: 0.99337 | Time: 85.58 seconds\n",
      "Epoch: 19 | Train Loss: 0.00108 | Valid Loss: 0.01894 | Train Accs: 1.00000 | Valid Accs: 0.99527 | Time: 85.51 seconds\n",
      "\n",
      "Early Stopping at Epoch 20\n",
      "\n",
      "**************************************************\n",
      "\n",
      "Best Validation Loss at Epoch 14\n",
      "\n",
      "**************************************************\n",
      "\n",
      "Best Validation Accs at Epoch 14\n",
      "\n",
      "**************************************************\n",
      "\n",
      "Time Taken [20 Epochs] : 28.54 minutes\n",
      "\n",
      "**************************************************\n",
      "\n"
     ]
    },
    {
     "data": {
      "image/png": "[encoded data removed]",
      "text/plain": [
       "<Figure size 576x432 with 2 Axes>"
      ]
     },
     "metadata": {
      "needs_background": "light"
     },
     "output_type": "display_data"
    },
    {
     "name": "stdout",
     "output_type": "stream",
     "text": [
      "\n",
      "**************************************************\n",
      "\n",
      "Training Fold 3...\n",
      "\n",
      "**************************************************\n",
      "\n",
      "Epoch: 1 | Train Loss: 0.34314 | Valid Loss: 0.04779 | Train Accs: 0.81460 | Valid Accs: 0.98485 | Time: 85.63 seconds\n",
      "Epoch: 2 | Train Loss: 0.08772 | Valid Loss: 0.08523 | Train Accs: 0.96813 | Valid Accs: 0.98201 | Time: 85.58 seconds\n",
      "Epoch: 3 | Train Loss: 0.08316 | Valid Loss: 0.06639 | Train Accs: 0.96899 | Valid Accs: 0.97569 | Time: 85.58 seconds\n",
      "Epoch: 4 | Train Loss: 0.10361 | Valid Loss: 0.05331 | Train Accs: 0.95868 | Valid Accs: 0.98516 | Time: 85.52 seconds\n",
      "Epoch: 5 | Train Loss: 0.06226 | Valid Loss: 0.02638 | Train Accs: 0.97877 | Valid Accs: 0.99148 | Time: 85.86 seconds\n",
      "Epoch: 6 | Train Loss: 0.05721 | Valid Loss: 0.04215 | Train Accs: 0.98115 | Valid Accs: 0.98390 | Time: 85.49 seconds\n",
      "Epoch: 7 | Train Loss: 0.04686 | Valid Loss: 0.05231 | Train Accs: 0.98354 | Valid Accs: 0.98201 | Time: 85.73 seconds\n",
      "Epoch: 8 | Train Loss: 0.04334 | Valid Loss: 0.02163 | Train Accs: 0.98235 | Valid Accs: 0.99242 | Time: 86.04 seconds\n",
      "Epoch: 9 | Train Loss: 0.03588 | Valid Loss: 0.04322 | Train Accs: 0.98616 | Valid Accs: 0.98485 | Time: 85.97 seconds\n",
      "Epoch: 10 | Train Loss: 0.02786 | Valid Loss: 0.02147 | Train Accs: 0.98927 | Valid Accs: 0.99527 | Time: 86.14 seconds\n",
      "Epoch: 11 | Train Loss: 0.02275 | Valid Loss: 0.11876 | Train Accs: 0.99213 | Valid Accs: 0.96149 | Time: 85.59 seconds\n",
      "Epoch: 12 | Train Loss: 0.01648 | Valid Loss: 0.02491 | Train Accs: 0.99475 | Valid Accs: 0.99053 | Time: 85.66 seconds\n",
      "Epoch: 13 | Train Loss: 0.00697 | Valid Loss: 0.01532 | Train Accs: 0.99809 | Valid Accs: 0.99148 | Time: 85.91 seconds\n",
      "Epoch: 14 | Train Loss: 0.00635 | Valid Loss: 0.02809 | Train Accs: 0.99857 | Valid Accs: 0.98864 | Time: 85.73 seconds\n",
      "Epoch: 15 | Train Loss: 0.00484 | Valid Loss: 0.01907 | Train Accs: 0.99857 | Valid Accs: 0.99242 | Time: 85.75 seconds\n",
      "Epoch: 16 | Train Loss: 0.00169 | Valid Loss: 0.01865 | Train Accs: 0.99976 | Valid Accs: 0.99148 | Time: 85.50 seconds\n",
      "Epoch: 17 | Train Loss: 0.00131 | Valid Loss: 0.01868 | Train Accs: 1.00000 | Valid Accs: 0.99148 | Time: 85.78 seconds\n",
      "Epoch: 18 | Train Loss: 0.00130 | Valid Loss: 0.01580 | Train Accs: 0.99976 | Valid Accs: 0.99148 | Time: 85.77 seconds\n",
      "Epoch: 19 | Train Loss: 0.00108 | Valid Loss: 0.01387 | Train Accs: 1.00000 | Valid Accs: 0.99148 | Time: 86.30 seconds\n",
      "Epoch: 20 | Train Loss: 0.00107 | Valid Loss: 0.01478 | Train Accs: 1.00000 | Valid Accs: 0.99148 | Time: 85.78 seconds\n",
      "\n",
      "**************************************************\n",
      "\n",
      "Best Validation Loss at Epoch 19\n",
      "\n",
      "**************************************************\n",
      "\n",
      "Best Validation Accs at Epoch 10\n",
      "\n",
      "**************************************************\n",
      "\n",
      "Time Taken [20 Epochs] : 28.59 minutes\n",
      "\n",
      "**************************************************\n",
      "\n"
     ]
    },
    {
     "data": {
      "image/png": "[encoded data removed]",
      "text/plain": [
       "<Figure size 576x432 with 2 Axes>"
      ]
     },
     "metadata": {
      "needs_background": "light"
     },
     "output_type": "display_data"
    },
    {
     "name": "stdout",
     "output_type": "stream",
     "text": [
      "\n",
      "**************************************************\n",
      "\n",
      "Training Fold 4...\n",
      "\n",
      "**************************************************\n",
      "\n",
      "Epoch: 1 | Train Loss: 0.34091 | Valid Loss: 0.06801 | Train Accs: 0.81570 | Valid Accs: 0.97506 | Time: 85.83 seconds\n",
      "Epoch: 2 | Train Loss: 0.08797 | Valid Loss: 0.36823 | Train Accs: 0.96994 | Valid Accs: 0.88068 | Time: 85.85 seconds\n",
      "Epoch: 3 | Train Loss: 0.09527 | Valid Loss: 0.08446 | Train Accs: 0.96302 | Valid Accs: 0.96938 | Time: 85.58 seconds\n",
      "Epoch: 4 | Train Loss: 0.07294 | Valid Loss: 0.03978 | Train Accs: 0.97195 | Valid Accs: 0.98485 | Time: 85.91 seconds\n",
      "Epoch: 5 | Train Loss: 0.06339 | Valid Loss: 0.05272 | Train Accs: 0.97710 | Valid Accs: 0.97948 | Time: 85.51 seconds\n",
      "Epoch: 6 | Train Loss: 0.04288 | Valid Loss: 0.04937 | Train Accs: 0.98449 | Valid Accs: 0.98011 | Time: 85.57 seconds\n",
      "Epoch: 7 | Train Loss: 0.05302 | Valid Loss: 0.03019 | Train Accs: 0.98092 | Valid Accs: 0.98674 | Time: 85.76 seconds\n",
      "Epoch: 8 | Train Loss: 0.04232 | Valid Loss: 0.04018 | Train Accs: 0.98545 | Valid Accs: 0.98580 | Time: 85.58 seconds\n",
      "Epoch: 9 | Train Loss: 0.03097 | Valid Loss: 0.02880 | Train Accs: 0.98927 | Valid Accs: 0.98422 | Time: 85.77 seconds\n",
      "Epoch: 10 | Train Loss: 0.02512 | Valid Loss: 0.06022 | Train Accs: 0.99213 | Valid Accs: 0.96717 | Time: 85.53 seconds\n",
      "Epoch: 11 | Train Loss: 0.01524 | Valid Loss: 0.01837 | Train Accs: 0.99451 | Valid Accs: 0.99337 | Time: 85.77 seconds\n",
      "Epoch: 12 | Train Loss: 0.01994 | Valid Loss: 0.01966 | Train Accs: 0.99332 | Valid Accs: 0.99179 | Time: 85.57 seconds\n",
      "Epoch: 13 | Train Loss: 0.00646 | Valid Loss: 0.01822 | Train Accs: 0.99809 | Valid Accs: 0.99432 | Time: 85.71 seconds\n",
      "Epoch: 14 | Train Loss: 0.00312 | Valid Loss: 0.01182 | Train Accs: 0.99952 | Valid Accs: 0.99527 | Time: 85.91 seconds\n",
      "Epoch: 15 | Train Loss: 0.00245 | Valid Loss: 0.01015 | Train Accs: 0.99976 | Valid Accs: 0.99716 | Time: 85.83 seconds\n",
      "Epoch: 16 | Train Loss: 0.00118 | Valid Loss: 0.00934 | Train Accs: 1.00000 | Valid Accs: 0.99716 | Time: 85.92 seconds\n",
      "Epoch: 17 | Train Loss: 0.00082 | Valid Loss: 0.01394 | Train Accs: 1.00000 | Valid Accs: 0.99527 | Time: 85.62 seconds\n",
      "Epoch: 18 | Train Loss: 0.00077 | Valid Loss: 0.01004 | Train Accs: 1.00000 | Valid Accs: 0.99716 | Time: 85.58 seconds\n",
      "Epoch: 19 | Train Loss: 0.00103 | Valid Loss: 0.00952 | Train Accs: 0.99976 | Valid Accs: 0.99621 | Time: 85.60 seconds\n",
      "Epoch: 20 | Train Loss: 0.00089 | Valid Loss: 0.01001 | Train Accs: 1.00000 | Valid Accs: 0.99621 | Time: 85.52 seconds\n",
      "\n",
      "**************************************************\n",
      "\n",
      "Best Validation Loss at Epoch 16\n",
      "\n",
      "**************************************************\n",
      "\n",
      "Best Validation Accs at Epoch 15\n",
      "\n",
      "**************************************************\n",
      "\n",
      "Time Taken [20 Epochs] : 28.57 minutes\n",
      "\n",
      "**************************************************\n",
      "\n"
     ]
    },
    {
     "data": {
      "image/png": "[encoded data removed]",
      "text/plain": [
       "<Figure size 576x432 with 2 Axes>"
      ]
     },
     "metadata": {
      "needs_background": "light"
     },
     "output_type": "display_data"
    },
    {
     "name": "stdout",
     "output_type": "stream",
     "text": [
      "\n",
      "**************************************************\n",
      "\n",
      "Training Fold 5...\n",
      "\n",
      "**************************************************\n",
      "\n",
      "Epoch: 1 | Train Loss: 0.34579 | Valid Loss: 0.10911 | Train Accs: 0.81393 | Valid Accs: 0.95833 | Time: 85.90 seconds\n",
      "Epoch: 2 | Train Loss: 0.09395 | Valid Loss: 0.10277 | Train Accs: 0.96503 | Valid Accs: 0.95928 | Time: 86.05 seconds\n",
      "Epoch: 3 | Train Loss: 0.08673 | Valid Loss: 0.05885 | Train Accs: 0.96718 | Valid Accs: 0.98138 | Time: 85.73 seconds\n",
      "Epoch: 4 | Train Loss: 0.06180 | Valid Loss: 0.09510 | Train Accs: 0.97696 | Valid Accs: 0.96212 | Time: 85.54 seconds\n",
      "Epoch: 5 | Train Loss: 0.06824 | Valid Loss: 0.05979 | Train Accs: 0.97400 | Valid Accs: 0.97664 | Time: 85.43 seconds\n",
      "Epoch: 6 | Train Loss: 0.04429 | Valid Loss: 0.12913 | Train Accs: 0.98378 | Valid Accs: 0.95928 | Time: 85.59 seconds\n",
      "Epoch: 7 | Train Loss: 0.06040 | Valid Loss: 0.03550 | Train Accs: 0.97734 | Valid Accs: 0.98611 | Time: 85.89 seconds\n",
      "Epoch: 8 | Train Loss: 0.02703 | Valid Loss: 0.02106 | Train Accs: 0.99094 | Valid Accs: 0.99148 | Time: 85.76 seconds\n",
      "Epoch: 9 | Train Loss: 0.03787 | Valid Loss: 0.04203 | Train Accs: 0.98688 | Valid Accs: 0.98580 | Time: 85.59 seconds\n",
      "Epoch: 10 | Train Loss: 0.03586 | Valid Loss: 0.02547 | Train Accs: 0.98712 | Valid Accs: 0.98769 | Time: 85.89 seconds\n",
      "Epoch: 11 | Train Loss: 0.01732 | Valid Loss: 0.04237 | Train Accs: 0.99404 | Valid Accs: 0.98580 | Time: 85.77 seconds\n",
      "Epoch: 12 | Train Loss: 0.01660 | Valid Loss: 0.02749 | Train Accs: 0.99380 | Valid Accs: 0.98958 | Time: 85.86 seconds\n",
      "Epoch: 13 | Train Loss: 0.00828 | Valid Loss: 0.03743 | Train Accs: 0.99714 | Valid Accs: 0.98674 | Time: 85.74 seconds\n",
      "\n",
      "Early Stopping at Epoch 14\n",
      "\n",
      "**************************************************\n",
      "\n",
      "Best Validation Loss at Epoch 8\n",
      "\n",
      "**************************************************\n",
      "\n",
      "Best Validation Accs at Epoch 8\n",
      "\n",
      "**************************************************\n",
      "\n",
      "Time Taken [14 Epochs] : 20.01 minutes\n",
      "\n",
      "**************************************************\n",
      "\n"
     ]
    },
    {
     "data": {
      "image/png": "[encoded data removed]",
      "text/plain": [
       "<Figure size 576x432 with 2 Axes>"
      ]
     },
     "metadata": {
      "needs_background": "light"
     },
     "output_type": "display_data"
    }
   ],
   "source": [
    "fold = 1\n",
    "BLEs, BAEs = [], []\n",
    "\n",
    "for tr_idx, va_idx in KFold(n_splits=cfg.n_splits, random_state=SEED, shuffle=True).split(images):\n",
    "    tr_images, va_images, tr_labels, va_labels = images[tr_idx], images[va_idx], labels[tr_idx], labels[va_idx]\n",
    "\n",
    "    tr_data_setup = DS(tr_images, tr_labels.reshape(-1, 1), cfg.transform)\n",
    "    va_data_setup = DS(va_images, va_labels.reshape(-1, 1), cfg.transform)\n",
    "\n",
    "    dataloaders = {\n",
    "        \"train\" : DL(tr_data_setup, batch_size=cfg.batch_size, shuffle=True, generator=torch.manual_seed(cfg.seed)),\n",
    "        \"valid\" : DL(va_data_setup, batch_size=cfg.batch_size, shuffle=False),\n",
    "    }\n",
    "\n",
    "    cfg = CFG(epochs=20, lr=1e-3, wd=0.0, batch_size=16, steps_per_epoch=len(dataloaders[\"train\"]))\n",
    "\n",
    "    torch.manual_seed(cfg.seed)\n",
    "    model = Model().to(cfg.device)\n",
    "    optimizer = optim.Adam([p for p in model.parameters() if p.requires_grad], lr=cfg.lr, weight_decay=cfg.wd)\n",
    "    scheduler = optim.lr_scheduler.OneCycleLR(optimizer=optimizer, \n",
    "                                              max_lr=cfg.max_lr, \n",
    "                                              epochs=cfg.epochs, \n",
    "                                              steps_per_epoch=cfg.steps_per_epoch,\n",
    "                                              pct_start=cfg.pct_start, \n",
    "                                              div_factor=cfg.div_factor, \n",
    "                                              final_div_factor=cfg.final_div_factor)\n",
    "    # scheduler = None\n",
    "\n",
    "    L, A, LRs, BLE, BAE, name = fit(model=model, \n",
    "                                    optimizer=optimizer, \n",
    "                                    scheduler=scheduler, \n",
    "                                    epochs=cfg.epochs, \n",
    "                                    early_stopping_patience=cfg.early_stopping, \n",
    "                                    dataloaders=dataloaders, \n",
    "                                    device=cfg.device,\n",
    "                                    save_path=cfg.save_path,\n",
    "                                    fold = fold,\n",
    "                                    verbose=True)\n",
    "\n",
    "    breaker()\n",
    "    show_graphs(L, A)\n",
    "    \n",
    "    BLEs.append(BLE)\n",
    "    BAEs.append(BAE)\n",
    "\n",
    "    fold += 1"
   ]
  },
  {
   "cell_type": "markdown",
   "id": "bf56c567",
   "metadata": {
    "papermill": {
     "duration": 0.049114,
     "end_time": "2022-04-25T10:30:30.036031",
     "exception": false,
     "start_time": "2022-04-25T10:30:29.986917",
     "status": "completed"
    },
    "tags": []
   },
   "source": [
    "### **Predictions**"
   ]
  },
  {
   "cell_type": "code",
   "execution_count": 9,
   "id": "b2377e57",
   "metadata": {
    "execution": {
     "iopub.execute_input": "2022-04-25T10:30:30.141533Z",
     "iopub.status.busy": "2022-04-25T10:30:30.140978Z",
     "iopub.status.idle": "2022-04-25T10:30:36.385621Z",
     "shell.execute_reply": "2022-04-25T10:30:36.386177Z",
     "shell.execute_reply.started": "2022-04-09T01:41:41.028783Z"
    },
    "papermill": {
     "duration": 6.30083,
     "end_time": "2022-04-25T10:30:36.386375",
     "exception": false,
     "start_time": "2022-04-25T10:30:30.085545",
     "status": "completed"
    },
    "tags": []
   },
   "outputs": [
    {
     "name": "stdout",
     "output_type": "stream",
     "text": [
      "\n",
      "**************************************************\n",
      "\n",
      "Best Fold : 5\n",
      "\n",
      "**************************************************\n",
      "\n",
      "Accuracy  : 0.75641\n",
      "ROC-AUC   : 0.85978\n",
      "Precision : [0.35042735 1.        ]\n",
      "Recall    : [1.        0.7195572]\n",
      "F-Score   : [0.51898734 0.83690987]\n",
      "\n",
      "**************************************************\n",
      "\n",
      "              precision    recall  f1-score   support\n",
      "\n",
      "         0.0       1.00      0.35      0.52       234\n",
      "         1.0       0.72      1.00      0.84       390\n",
      "\n",
      "    accuracy                           0.76       624\n",
      "   macro avg       0.86      0.68      0.68       624\n",
      "weighted avg       0.82      0.76      0.72       624\n",
      "\n",
      "\n",
      "**************************************************\n",
      "\n",
      "[[ 82 152]\n",
      " [  0 390]]\n",
      "\n",
      "**************************************************\n",
      "\n"
     ]
    }
   ],
   "source": [
    "test_images = np.load(f\"../input/cxr-images-384/test_images_{SIZE}.npy\")\n",
    "test_labels = np.load(f\"../input/cxr-images-384/test_targets_{SIZE}.npy\")\n",
    "\n",
    "ts_data_setup = DS(test_images, None, cfg.transform)\n",
    "ts_data = DL(ts_data_setup, batch_size=cfg.batch_size, shuffle=False)\n",
    "\n",
    "best_fold = BLEs.index(min(BLEs)) + 1\n",
    "model_path = f\"saves/state_fold_{best_fold}.pt\"\n",
    "y_pred = predict(model=Model().to(cfg.device), dataloader=ts_data, path=model_path, device=cfg.device)\n",
    "\n",
    "accuracy, auc, precision, recall, f_score = get_scores(test_labels, y_pred)\n",
    "\n",
    "breaker()\n",
    "print(f\"Best Fold : {best_fold}\")\n",
    "breaker()\n",
    "print_scores(accuracy, auc, precision, recall, f_score)\n",
    "breaker()\n",
    "print(classification_report(test_labels, y_pred))\n",
    "breaker()\n",
    "print(confusion_matrix(test_labels, y_pred))\n",
    "breaker()"
   ]
  }
 ],
 "metadata": {
  "kernelspec": {
   "display_name": "Python 3",
   "language": "python",
   "name": "python3"
  },
  "language_info": {
   "codemirror_mode": {
    "name": "ipython",
    "version": 3
   },
   "file_extension": ".py",
   "mimetype": "text/x-python",
   "name": "python",
   "nbconvert_exporter": "python",
   "pygments_lexer": "ipython3",
   "version": "3.7.12"
  },
  "papermill": {
   "default_parameters": {},
   "duration": 8120.597761,
   "end_time": "2022-04-25T10:30:38.865343",
   "environment_variables": {},
   "exception": null,
   "input_path": "__notebook__.ipynb",
   "output_path": "__notebook__.ipynb",
   "parameters": {},
   "start_time": "2022-04-25T08:15:18.267582",
   "version": "2.3.3"
  },
  "widgets": {
   "application/vnd.jupyter.widget-state+json": {
    "state": {
     "1f07092cc16c4c2e967f9a8f73da36a6": {
      "model_module": "@jupyter-widgets/controls",
      "model_module_version": "1.5.0",
      "model_name": "HTMLModel",
      "state": {
       "_dom_classes": [],
       "_model_module": "@jupyter-widgets/controls",
       "_model_module_version": "1.5.0",
       "_model_name": "HTMLModel",
       "_view_count": null,
       "_view_module": "@jupyter-widgets/controls",
       "_view_module_version": "1.5.0",
       "_view_name": "HTMLView",
       "description": "",
       "description_tooltip": null,
       "layout": "IPY_MODEL_4b79f31858854f5cbac92267fbefd6d5",
       "placeholder": "​",
       "style": "IPY_MODEL_4c87e8511cbe4ecab60fe13b644dad1b",
       "value": "100%"
      }
     },
     "314a5f9258f548ec81d9c701fd42b564": {
      "model_module": "@jupyter-widgets/controls",
      "model_module_version": "1.5.0",
      "model_name": "FloatProgressModel",
      "state": {
       "_dom_classes": [],
       "_model_module": "@jupyter-widgets/controls",
       "_model_module_version": "1.5.0",
       "_model_name": "FloatProgressModel",
       "_view_count": null,
       "_view_module": "@jupyter-widgets/controls",
       "_view_module_version": "1.5.0",
       "_view_name": "ProgressView",
       "bar_style": "success",
       "description": "",
       "description_tooltip": null,
       "layout": "IPY_MODEL_fe4bf010eaec4b009b563fc8c7720c1c",
       "max": 32342954.0,
       "min": 0.0,
       "orientation": "horizontal",
       "style": "IPY_MODEL_a19dbe6a1198497cb755aace86a1d41d",
       "value": 32342954.0
      }
     },
     "4b79f31858854f5cbac92267fbefd6d5": {
      "model_module": "@jupyter-widgets/base",
      "model_module_version": "1.2.0",
      "model_name": "LayoutModel",
      "state": {
       "_model_module": "@jupyter-widgets/base",
       "_model_module_version": "1.2.0",
       "_model_name": "LayoutModel",
       "_view_count": null,
       "_view_module": "@jupyter-widgets/base",
       "_view_module_version": "1.2.0",
       "_view_name": "LayoutView",
       "align_content": null,
       "align_items": null,
       "align_self": null,
       "border": null,
       "bottom": null,
       "display": null,
       "flex": null,
       "flex_flow": null,
       "grid_area": null,
       "grid_auto_columns": null,
       "grid_auto_flow": null,
       "grid_auto_rows": null,
       "grid_column": null,
       "grid_gap": null,
       "grid_row": null,
       "grid_template_areas": null,
       "grid_template_columns": null,
       "grid_template_rows": null,
       "height": null,
       "justify_content": null,
       "justify_items": null,
       "left": null,
       "margin": null,
       "max_height": null,
       "max_width": null,
       "min_height": null,
       "min_width": null,
       "object_fit": null,
       "object_position": null,
       "order": null,
       "overflow": null,
       "overflow_x": null,
       "overflow_y": null,
       "padding": null,
       "right": null,
       "top": null,
       "visibility": null,
       "width": null
      }
     },
     "4c87e8511cbe4ecab60fe13b644dad1b": {
      "model_module": "@jupyter-widgets/controls",
      "model_module_version": "1.5.0",
      "model_name": "DescriptionStyleModel",
      "state": {
       "_model_module": "@jupyter-widgets/controls",
       "_model_module_version": "1.5.0",
       "_model_name": "DescriptionStyleModel",
       "_view_count": null,
       "_view_module": "@jupyter-widgets/base",
       "_view_module_version": "1.2.0",
       "_view_name": "StyleView",
       "description_width": ""
      }
     },
     "5049f02699ce490f9a92f8042562ab59": {
      "model_module": "@jupyter-widgets/base",
      "model_module_version": "1.2.0",
      "model_name": "LayoutModel",
      "state": {
       "_model_module": "@jupyter-widgets/base",
       "_model_module_version": "1.2.0",
       "_model_name": "LayoutModel",
       "_view_count": null,
       "_view_module": "@jupyter-widgets/base",
       "_view_module_version": "1.2.0",
       "_view_name": "LayoutView",
       "align_content": null,
       "align_items": null,
       "align_self": null,
       "border": null,
       "bottom": null,
       "display": null,
       "flex": null,
       "flex_flow": null,
       "grid_area": null,
       "grid_auto_columns": null,
       "grid_auto_flow": null,
       "grid_auto_rows": null,
       "grid_column": null,
       "grid_gap": null,
       "grid_row": null,
       "grid_template_areas": null,
       "grid_template_columns": null,
       "grid_template_rows": null,
       "height": null,
       "justify_content": null,
       "justify_items": null,
       "left": null,
       "margin": null,
       "max_height": null,
       "max_width": null,
       "min_height": null,
       "min_width": null,
       "object_fit": null,
       "object_position": null,
       "order": null,
       "overflow": null,
       "overflow_x": null,
       "overflow_y": null,
       "padding": null,
       "right": null,
       "top": null,
       "visibility": null,
       "width": null
      }
     },
     "6481af347163426c828f7b48f448dd8c": {
      "model_module": "@jupyter-widgets/base",
      "model_module_version": "1.2.0",
      "model_name": "LayoutModel",
      "state": {
       "_model_module": "@jupyter-widgets/base",
       "_model_module_version": "1.2.0",
       "_model_name": "LayoutModel",
       "_view_count": null,
       "_view_module": "@jupyter-widgets/base",
       "_view_module_version": "1.2.0",
       "_view_name": "LayoutView",
       "align_content": null,
       "align_items": null,
       "align_self": null,
       "border": null,
       "bottom": null,
       "display": null,
       "flex": null,
       "flex_flow": null,
       "grid_area": null,
       "grid_auto_columns": null,
       "grid_auto_flow": null,
       "grid_auto_rows": null,
       "grid_column": null,
       "grid_gap": null,
       "grid_row": null,
       "grid_template_areas": null,
       "grid_template_columns": null,
       "grid_template_rows": null,
       "height": null,
       "justify_content": null,
       "justify_items": null,
       "left": null,
       "margin": null,
       "max_height": null,
       "max_width": null,
       "min_height": null,
       "min_width": null,
       "object_fit": null,
       "object_position": null,
       "order": null,
       "overflow": null,
       "overflow_x": null,
       "overflow_y": null,
       "padding": null,
       "right": null,
       "top": null,
       "visibility": null,
       "width": null
      }
     },
     "6c5451212c58487b886fa521e3c9de97": {
      "model_module": "@jupyter-widgets/controls",
      "model_module_version": "1.5.0",
      "model_name": "HBoxModel",
      "state": {
       "_dom_classes": [],
       "_model_module": "@jupyter-widgets/controls",
       "_model_module_version": "1.5.0",
       "_model_name": "HBoxModel",
       "_view_count": null,
       "_view_module": "@jupyter-widgets/controls",
       "_view_module_version": "1.5.0",
       "_view_name": "HBoxView",
       "box_style": "",
       "children": [
        "IPY_MODEL_1f07092cc16c4c2e967f9a8f73da36a6",
        "IPY_MODEL_314a5f9258f548ec81d9c701fd42b564",
        "IPY_MODEL_ae0a5fb29efb43a3ac1d3b7cff7ebb33"
       ],
       "layout": "IPY_MODEL_6481af347163426c828f7b48f448dd8c"
      }
     },
     "a19dbe6a1198497cb755aace86a1d41d": {
      "model_module": "@jupyter-widgets/controls",
      "model_module_version": "1.5.0",
      "model_name": "ProgressStyleModel",
      "state": {
       "_model_module": "@jupyter-widgets/controls",
       "_model_module_version": "1.5.0",
       "_model_name": "ProgressStyleModel",
       "_view_count": null,
       "_view_module": "@jupyter-widgets/base",
       "_view_module_version": "1.2.0",
       "_view_name": "StyleView",
       "bar_color": null,
       "description_width": ""
      }
     },
     "ae0a5fb29efb43a3ac1d3b7cff7ebb33": {
      "model_module": "@jupyter-widgets/controls",
      "model_module_version": "1.5.0",
      "model_name": "HTMLModel",
      "state": {
       "_dom_classes": [],
       "_model_module": "@jupyter-widgets/controls",
       "_model_module_version": "1.5.0",
       "_model_name": "HTMLModel",
       "_view_count": null,
       "_view_module": "@jupyter-widgets/controls",
       "_view_module_version": "1.5.0",
       "_view_name": "HTMLView",
       "description": "",
       "description_tooltip": null,
       "layout": "IPY_MODEL_5049f02699ce490f9a92f8042562ab59",
       "placeholder": "​",
       "style": "IPY_MODEL_bfa400db42d548af998aa36f78af4fb6",
       "value": " 30.8M/30.8M [00:01&lt;00:00, 30.5MB/s]"
      }
     },
     "bfa400db42d548af998aa36f78af4fb6": {
      "model_module": "@jupyter-widgets/controls",
      "model_module_version": "1.5.0",
      "model_name": "DescriptionStyleModel",
      "state": {
       "_model_module": "@jupyter-widgets/controls",
       "_model_module_version": "1.5.0",
       "_model_name": "DescriptionStyleModel",
       "_view_count": null,
       "_view_module": "@jupyter-widgets/base",
       "_view_module_version": "1.2.0",
       "_view_name": "StyleView",
       "description_width": ""
      }
     },
     "fe4bf010eaec4b009b563fc8c7720c1c": {
      "model_module": "@jupyter-widgets/base",
      "model_module_version": "1.2.0",
      "model_name": "LayoutModel",
      "state": {
       "_model_module": "@jupyter-widgets/base",
       "_model_module_version": "1.2.0",
       "_model_name": "LayoutModel",
       "_view_count": null,
       "_view_module": "@jupyter-widgets/base",
       "_view_module_version": "1.2.0",
       "_view_name": "LayoutView",
       "align_content": null,
       "align_items": null,
       "align_self": null,
       "border": null,
       "bottom": null,
       "display": null,
       "flex": null,
       "flex_flow": null,
       "grid_area": null,
       "grid_auto_columns": null,
       "grid_auto_flow": null,
       "grid_auto_rows": null,
       "grid_column": null,
       "grid_gap": null,
       "grid_row": null,
       "grid_template_areas": null,
       "grid_template_columns": null,
       "grid_template_rows": null,
       "height": null,
       "justify_content": null,
       "justify_items": null,
       "left": null,
       "margin": null,
       "max_height": null,
       "max_width": null,
       "min_height": null,
       "min_width": null,
       "object_fit": null,
       "object_position": null,
       "order": null,
       "overflow": null,
       "overflow_x": null,
       "overflow_y": null,
       "padding": null,
       "right": null,
       "top": null,
       "visibility": null,
       "width": null
      }
     }
    },
    "version_major": 2,
    "version_minor": 0
   }
  }
 },
 "nbformat": 4,
 "nbformat_minor": 5
}
