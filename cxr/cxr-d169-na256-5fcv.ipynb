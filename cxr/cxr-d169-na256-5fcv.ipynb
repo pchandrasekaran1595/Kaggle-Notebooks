{
 "cells": [
  {
   "cell_type": "markdown",
   "id": "499baed2",
   "metadata": {
    "_cell_guid": "b1076dfc-b9ad-4769-8c92-a6c4dae69d19",
    "_uuid": "8f2839f25d086af736a60e9eeb907d3b93b6e0e5",
    "papermill": {
     "duration": 0.017875,
     "end_time": "2022-04-14T08:15:03.677124",
     "exception": false,
     "start_time": "2022-04-14T08:15:03.659249",
     "status": "completed"
    },
    "tags": []
   },
   "source": [
    "### Library Imports"
   ]
  },
  {
   "cell_type": "code",
   "execution_count": 1,
   "id": "f66fd262",
   "metadata": {
    "execution": {
     "iopub.execute_input": "2022-04-14T08:15:03.722172Z",
     "iopub.status.busy": "2022-04-14T08:15:03.721096Z",
     "iopub.status.idle": "2022-04-14T08:15:06.517234Z",
     "shell.execute_reply": "2022-04-14T08:15:06.517941Z",
     "shell.execute_reply.started": "2022-04-09T01:18:45.162484Z"
    },
    "papermill": {
     "duration": 2.822725,
     "end_time": "2022-04-14T08:15:06.518261",
     "exception": false,
     "start_time": "2022-04-14T08:15:03.695536",
     "status": "completed"
    },
    "tags": []
   },
   "outputs": [],
   "source": [
    "import os\n",
    "import re\n",
    "import torch\n",
    "import numpy as np\n",
    "import pandas as pd\n",
    "import matplotlib.pyplot as plt\n",
    "\n",
    "from time import time\n",
    "from torch import nn, optim\n",
    "from torch.utils.data import Dataset\n",
    "from torch.utils.data import DataLoader as DL\n",
    "from torchvision import models, transforms\n",
    "\n",
    "from sklearn.model_selection import KFold\n",
    "from sklearn.preprocessing import LabelEncoder\n",
    "from sklearn.metrics import accuracy_score, \\\n",
    "                            precision_recall_fscore_support, \\\n",
    "                            roc_auc_score, \\\n",
    "                            classification_report, \\\n",
    "                            confusion_matrix"
   ]
  },
  {
   "cell_type": "markdown",
   "id": "802026e3",
   "metadata": {
    "papermill": {
     "duration": 0.016341,
     "end_time": "2022-04-14T08:15:06.551765",
     "exception": false,
     "start_time": "2022-04-14T08:15:06.535424",
     "status": "completed"
    },
    "tags": []
   },
   "source": [
    "### **Utilities**"
   ]
  },
  {
   "cell_type": "code",
   "execution_count": 2,
   "id": "d979ea0d",
   "metadata": {
    "execution": {
     "iopub.execute_input": "2022-04-14T08:15:06.601065Z",
     "iopub.status.busy": "2022-04-14T08:15:06.593474Z",
     "iopub.status.idle": "2022-04-14T08:15:06.603604Z",
     "shell.execute_reply": "2022-04-14T08:15:06.604095Z",
     "shell.execute_reply.started": "2022-04-09T01:18:47.512362Z"
    },
    "papermill": {
     "duration": 0.036339,
     "end_time": "2022-04-14T08:15:06.604265",
     "exception": false,
     "start_time": "2022-04-14T08:15:06.567926",
     "status": "completed"
    },
    "tags": []
   },
   "outputs": [],
   "source": [
    "SEED = 42\n",
    "SIZE = 256\n",
    "\n",
    "def breaker(num: int=50, char: str=\"*\") -> None:\n",
    "    print(\"\\n\" + num*char + \"\\n\")\n",
    "\n",
    "\n",
    "def show_graphs(L: list, A: list) -> None:\n",
    "    TL, VL, TA, VA = [], [], [], []\n",
    "    for i in range(len(L)):\n",
    "        TL.append(L[i][\"train\"])\n",
    "        VL.append(L[i][\"valid\"])\n",
    "        TA.append(A[i][\"train\"])\n",
    "        VA.append(A[i][\"valid\"])\n",
    "    x_Axis = np.arange(1, len(TL) + 1)\n",
    "    plt.figure(figsize=(8, 6))\n",
    "    plt.subplot(1, 2, 1)\n",
    "    plt.plot(x_Axis, TL, \"r\", label=\"Train\")\n",
    "    plt.plot(x_Axis, VL, \"b\", label=\"Valid\")\n",
    "    plt.legend()\n",
    "    plt.grid()\n",
    "    plt.title(\"Loss Graph\")\n",
    "    plt.subplot(1, 2, 2)\n",
    "    plt.plot(x_Axis, TA, \"r\", label=\"Train\")\n",
    "    plt.plot(x_Axis, VA, \"b\", label=\"Valid\")\n",
    "    plt.legend()\n",
    "    plt.grid()\n",
    "    plt.title(\"Accuracy Graph\")\n",
    "    plt.show()\n",
    "\n",
    "    \n",
    "def get_scores(y_true: np.ndarray, y_pred: np.ndarray) -> tuple:\n",
    "    accuracy = accuracy_score(y_pred, y_true)\n",
    "    try:\n",
    "        auc = roc_auc_score(y_pred, y_true)\n",
    "    except:\n",
    "        auc = 0\n",
    "    precision, recall, f_score, _ = precision_recall_fscore_support(y_pred, y_true)\n",
    "\n",
    "    return accuracy, auc, precision, recall, f_score\n",
    "\n",
    "\n",
    "def print_scores(accuracy: float, auc: float, precision: np.ndarray, recall: np.ndarray, f_score: np.ndarray) -> None:\n",
    "    print(f\"Accuracy  : {accuracy:.5f}\")\n",
    "    print(f\"ROC-AUC   : {auc:.5f}\")\n",
    "    print(f\"Precision : {precision}\")\n",
    "    print(f\"Recall    : {recall}\")\n",
    "    print(f\"F-Score   : {f_score}\")"
   ]
  },
  {
   "cell_type": "markdown",
   "id": "63d2b3f3",
   "metadata": {
    "papermill": {
     "duration": 0.016117,
     "end_time": "2022-04-14T08:15:06.636514",
     "exception": false,
     "start_time": "2022-04-14T08:15:06.620397",
     "status": "completed"
    },
    "tags": []
   },
   "source": [
    "### **Configuration**"
   ]
  },
  {
   "cell_type": "code",
   "execution_count": 3,
   "id": "2fa38335",
   "metadata": {
    "execution": {
     "iopub.execute_input": "2022-04-14T08:15:06.747633Z",
     "iopub.status.busy": "2022-04-14T08:15:06.746381Z",
     "iopub.status.idle": "2022-04-14T08:15:06.751136Z",
     "shell.execute_reply": "2022-04-14T08:15:06.750578Z",
     "shell.execute_reply.started": "2022-04-09T01:36:52.976989Z"
    },
    "papermill": {
     "duration": 0.098344,
     "end_time": "2022-04-14T08:15:06.751296",
     "exception": false,
     "start_time": "2022-04-14T08:15:06.652952",
     "status": "completed"
    },
    "tags": []
   },
   "outputs": [],
   "source": [
    "class CFG(object):\n",
    "    def __init__(self, \n",
    "                 seed: int = 42,\n",
    "                 n_splits: int = 5,\n",
    "                 batch_size: int = 16,\n",
    "                 epochs: int = 25,\n",
    "                 early_stopping: int = 5,\n",
    "                 lr: float = 1e-4,\n",
    "                 wd: float = 0.0,\n",
    "                 max_lr: float = 1e-3,\n",
    "                 pct_start: float = 0.2,\n",
    "                 steps_per_epoch: int = 100,\n",
    "                 div_factor: int = 1e3, \n",
    "                 final_div_factor: float = 1e3,\n",
    "                 ):\n",
    "        \n",
    "        self.seed = seed\n",
    "        self.n_splits = n_splits\n",
    "        self.batch_size = batch_size\n",
    "        self.epochs = epochs\n",
    "        self.early_stopping = early_stopping\n",
    "        self.lr = lr\n",
    "        self.wd = wd\n",
    "        self.max_lr = max_lr\n",
    "        self.pct_start = pct_start\n",
    "        self.steps_per_epoch = steps_per_epoch\n",
    "        self.div_factor = div_factor\n",
    "        self.final_div_factor = final_div_factor\n",
    "        self.device = torch.device(\"cuda\" if torch.cuda.is_available() else \"cpu\")\n",
    "        self.transform = transforms.Compose([transforms.ToTensor(),\n",
    "                                transforms.Normalize([0.11899, 0.11923, 0.12643],\n",
    "                                                     [0.17037, 0.16976, 0.18014]),\n",
    "                                ])\n",
    "        self.save_path = \"saves\"\n",
    "        if not os.path.exists(self.save_path): os.makedirs(self.save_path)\n",
    "    \n",
    "cfg = CFG(seed=SEED)"
   ]
  },
  {
   "cell_type": "markdown",
   "id": "b6ac10e7",
   "metadata": {
    "papermill": {
     "duration": 0.016102,
     "end_time": "2022-04-14T08:15:06.783915",
     "exception": false,
     "start_time": "2022-04-14T08:15:06.767813",
     "status": "completed"
    },
    "tags": []
   },
   "source": [
    "### **Dataset Template**"
   ]
  },
  {
   "cell_type": "code",
   "execution_count": 4,
   "id": "2dc98a83",
   "metadata": {
    "execution": {
     "iopub.execute_input": "2022-04-14T08:15:06.824393Z",
     "iopub.status.busy": "2022-04-14T08:15:06.823474Z",
     "iopub.status.idle": "2022-04-14T08:15:06.826731Z",
     "shell.execute_reply": "2022-04-14T08:15:06.826171Z",
     "shell.execute_reply.started": "2022-04-09T01:18:47.593512Z"
    },
    "papermill": {
     "duration": 0.026345,
     "end_time": "2022-04-14T08:15:06.826893",
     "exception": false,
     "start_time": "2022-04-14T08:15:06.800548",
     "status": "completed"
    },
    "tags": []
   },
   "outputs": [],
   "source": [
    "class DS(Dataset):\n",
    "    def __init__(self, images: np.ndarray, labels: np.ndarray = None, transform=None):\n",
    "        self.images = images\n",
    "        self.labels = labels\n",
    "        self.transform = transform\n",
    "    \n",
    "    def __len__(self):\n",
    "        return self.images.shape[0]\n",
    "    \n",
    "    def __getitem__(self, idx):\n",
    "        if self.labels is not None:\n",
    "            return self.transform(self.images[idx]), torch.FloatTensor(self.labels[idx])\n",
    "        else:\n",
    "            return self.transform(self.images[idx])"
   ]
  },
  {
   "cell_type": "markdown",
   "id": "030e975e",
   "metadata": {
    "papermill": {
     "duration": 0.016566,
     "end_time": "2022-04-14T08:15:06.859602",
     "exception": false,
     "start_time": "2022-04-14T08:15:06.843036",
     "status": "completed"
    },
    "tags": []
   },
   "source": [
    "### **Model**"
   ]
  },
  {
   "cell_type": "code",
   "execution_count": 5,
   "id": "e27b1d61",
   "metadata": {
    "execution": {
     "iopub.execute_input": "2022-04-14T08:15:06.899292Z",
     "iopub.status.busy": "2022-04-14T08:15:06.896489Z",
     "iopub.status.idle": "2022-04-14T08:15:06.902493Z",
     "shell.execute_reply": "2022-04-14T08:15:06.901935Z",
     "shell.execute_reply.started": "2022-04-09T01:18:47.606516Z"
    },
    "papermill": {
     "duration": 0.026258,
     "end_time": "2022-04-14T08:15:06.902662",
     "exception": false,
     "start_time": "2022-04-14T08:15:06.876404",
     "status": "completed"
    },
    "tags": []
   },
   "outputs": [],
   "source": [
    "class Model(nn.Module):\n",
    "    def __init__(self):\n",
    "        super(Model, self).__init__()\n",
    "\n",
    "        self.model = models.densenet169(pretrained=True, progress=True)\n",
    "        self.model.classifier = nn.Linear(in_features=self.model.classifier.in_features, out_features=1)\n",
    "\n",
    "    def forward(self, x):\n",
    "        return self.model(x)"
   ]
  },
  {
   "cell_type": "markdown",
   "id": "64386967",
   "metadata": {
    "papermill": {
     "duration": 0.016053,
     "end_time": "2022-04-14T08:15:06.934718",
     "exception": false,
     "start_time": "2022-04-14T08:15:06.918665",
     "status": "completed"
    },
    "tags": []
   },
   "source": [
    "### Fit and Predict Helper"
   ]
  },
  {
   "cell_type": "code",
   "execution_count": 6,
   "id": "6aa686d1",
   "metadata": {
    "execution": {
     "iopub.execute_input": "2022-04-14T08:15:06.995671Z",
     "iopub.status.busy": "2022-04-14T08:15:06.994528Z",
     "iopub.status.idle": "2022-04-14T08:15:06.996875Z",
     "shell.execute_reply": "2022-04-14T08:15:06.997502Z",
     "shell.execute_reply.started": "2022-04-09T01:18:47.615986Z"
    },
    "papermill": {
     "duration": 0.046792,
     "end_time": "2022-04-14T08:15:06.997660",
     "exception": false,
     "start_time": "2022-04-14T08:15:06.950868",
     "status": "completed"
    },
    "tags": []
   },
   "outputs": [],
   "source": [
    "def fit(model=None, \n",
    "        optimizer=None, \n",
    "        scheduler=None, \n",
    "        epochs=None, \n",
    "        early_stopping_patience=None, \n",
    "        dataloaders=None, \n",
    "        fold=None, \n",
    "        save_path=None, \n",
    "        device=None,\n",
    "        verbose=False) -> tuple:\n",
    "    \n",
    "    def get_accuracy(y_pred, y_true):\n",
    "        y_pred = torch.sigmoid(y_pred)\n",
    "        \n",
    "        y_pred[y_pred > 0.5] = 1\n",
    "        y_pred[y_pred <= 0.5] = 0\n",
    "        \n",
    "        return torch.count_nonzero(y_pred == y_true).item() / len(y_pred)\n",
    "    \n",
    "    if verbose:\n",
    "        breaker()\n",
    "        if fold: print(f\"Training Fold {fold}...\")\n",
    "        else: print(\"Training ...\")\n",
    "        breaker()\n",
    "        \n",
    "    bestLoss, bestAccs = {\"train\" : np.inf, \"valid\" : np.inf}, {\"train\" : 0.0, \"valid\" : 0.0}\n",
    "    Losses, LRs, Accuracies = [], [], []\n",
    "    if fold: name = f\"state_fold_{fold}.pt\"\n",
    "    else: name = \"state.pt\"\n",
    "\n",
    "    start_time = time()\n",
    "    for e in range(epochs):\n",
    "        e_st = time()\n",
    "        epochLoss, epochAccs = {\"train\" : 0.0, \"valid\" : 0.0}, {\"train\" : 0.0, \"valid\" : 0.0}\n",
    "\n",
    "        for phase in [\"train\", \"valid\"]:\n",
    "            if phase == \"train\":\n",
    "                model.train()\n",
    "            else:\n",
    "                model.eval()\n",
    "            \n",
    "            lossPerPass, accsPerPass = [], []\n",
    "\n",
    "            for X, y in dataloaders[phase]:\n",
    "                X, y = X.to(device), y.to(device)\n",
    "\n",
    "                optimizer.zero_grad()\n",
    "                with torch.set_grad_enabled(phase == \"train\"):\n",
    "                    output = model(X)\n",
    "                    loss = torch.nn.BCEWithLogitsLoss()(output, y)\n",
    "                    if phase == \"train\":\n",
    "                        loss.backward()\n",
    "                        optimizer.step()\n",
    "                        if scheduler: scheduler.step()\n",
    "                lossPerPass.append(loss.item())\n",
    "                accsPerPass.append(get_accuracy(output, y))\n",
    "            epochLoss[phase] = np.mean(np.array(lossPerPass))\n",
    "            epochAccs[phase] = np.mean(np.array(accsPerPass))\n",
    "        LRs.append(scheduler.get_last_lr())\n",
    "        Losses.append(epochLoss)\n",
    "        Accuracies.append(epochAccs)\n",
    "        \n",
    "        if early_stopping_patience:\n",
    "            if epochLoss[\"valid\"] < bestLoss[\"valid\"]:\n",
    "                bestLoss = epochLoss\n",
    "                BLE = e + 1\n",
    "                torch.save({\"model_state_dict\"     : model.state_dict(),\n",
    "                            \"optim_state_dict\"     : optimizer.state_dict()},\n",
    "                           os.path.join(save_path, name))\n",
    "                early_stopping_step = 0\n",
    "            else:\n",
    "                early_stopping_step += 1\n",
    "                if early_stopping_step > early_stopping_patience:\n",
    "                    print(\"\\nEarly Stopping at Epoch {}\".format(e + 1))\n",
    "                    break\n",
    "        \n",
    "        if epochLoss[\"valid\"] < bestLoss[\"valid\"]:\n",
    "            bestLoss = epochLoss\n",
    "            BLE = e + 1\n",
    "            torch.save({\"model_state_dict\"     : model.state_dict(),\n",
    "                        \"optim_state_dict\"     : optimizer.state_dict()},\n",
    "                        os.path.join(save_path, name))\n",
    "        \n",
    "        if epochAccs[\"valid\"] > bestAccs[\"valid\"]:\n",
    "            bestAccs = epochAccs\n",
    "            BAE = e + 1\n",
    "        \n",
    "        # if scheduler: scheduler.step(epochLoss[\"valid\"])\n",
    "        \n",
    "        if verbose:\n",
    "            print(\"Epoch: {} | Train Loss: {:.5f} | Valid Loss: {:.5f} | Train Accs: {:.5f} | Valid Accs: {:.5f} | Time: {:.2f} seconds\".format(e+1, \n",
    "                                                                       epochLoss[\"train\"], epochLoss[\"valid\"], \n",
    "                                                                       epochAccs[\"train\"], epochAccs[\"valid\"], \n",
    "                                                                       time()-e_st))\n",
    "\n",
    "    if verbose:                                           \n",
    "        breaker()\n",
    "        print(f\"Best Validation Loss at Epoch {BLE}\")\n",
    "        breaker()\n",
    "        print(f\"Best Validation Accs at Epoch {BAE}\")\n",
    "        breaker()\n",
    "        print(\"Time Taken [{} Epochs] : {:.2f} minutes\".format(len(Losses), (time()-start_time)/60))\n",
    "    \n",
    "    return Losses, Accuracies, LRs, BLE, BAE, name\n",
    "\n",
    "\n",
    "def predict(model=None, dataloader=None, path=None, device=None) -> np.ndarray:\n",
    "    model.load_state_dict(torch.load(path, map_location=device)[\"model_state_dict\"])\n",
    "    model.to(device)    \n",
    "    model.eval()\n",
    "    \n",
    "    y_pred = torch.zeros(1, 1).to(device)\n",
    "    \n",
    "    for X in dataloader:\n",
    "        X = X.to(device)\n",
    "        with torch.no_grad():\n",
    "            output = torch.sigmoid(model(X))\n",
    "        y_pred = torch.cat((y_pred, output.view(-1, 1)), dim=0)\n",
    "    \n",
    "    y_pred[y_pred > 0.5] = 1\n",
    "    y_pred[y_pred <= 0.5] = 0\n",
    "    \n",
    "    return y_pred[1:].detach().cpu().numpy()"
   ]
  },
  {
   "cell_type": "markdown",
   "id": "03c345e2",
   "metadata": {
    "papermill": {
     "duration": 0.016028,
     "end_time": "2022-04-14T08:15:07.030027",
     "exception": false,
     "start_time": "2022-04-14T08:15:07.013999",
     "status": "completed"
    },
    "tags": []
   },
   "source": [
    "### **Train**"
   ]
  },
  {
   "cell_type": "code",
   "execution_count": 7,
   "id": "7daef508",
   "metadata": {
    "execution": {
     "iopub.execute_input": "2022-04-14T08:15:07.067280Z",
     "iopub.status.busy": "2022-04-14T08:15:07.066412Z",
     "iopub.status.idle": "2022-04-14T08:15:18.413092Z",
     "shell.execute_reply": "2022-04-14T08:15:18.413880Z",
     "shell.execute_reply.started": "2022-04-09T01:18:47.643848Z"
    },
    "papermill": {
     "duration": 11.367901,
     "end_time": "2022-04-14T08:15:18.414096",
     "exception": false,
     "start_time": "2022-04-14T08:15:07.046195",
     "status": "completed"
    },
    "tags": []
   },
   "outputs": [],
   "source": [
    "images = np.load(f\"../input/chest-x-rays-images/train_images_{SIZE}.npy\")\n",
    "labels = np.load(f\"../input/chest-x-rays-images/train_targets_{SIZE}.npy\")"
   ]
  },
  {
   "cell_type": "code",
   "execution_count": 8,
   "id": "8c4cc5e8",
   "metadata": {
    "execution": {
     "iopub.execute_input": "2022-04-14T08:15:18.462677Z",
     "iopub.status.busy": "2022-04-14T08:15:18.452447Z",
     "iopub.status.idle": "2022-04-14T09:45:48.307963Z",
     "shell.execute_reply": "2022-04-14T09:45:48.308606Z",
     "shell.execute_reply.started": "2022-04-09T01:36:59.635267Z"
    },
    "papermill": {
     "duration": 5429.877868,
     "end_time": "2022-04-14T09:45:48.308788",
     "exception": false,
     "start_time": "2022-04-14T08:15:18.430920",
     "status": "completed"
    },
    "tags": []
   },
   "outputs": [
    {
     "name": "stderr",
     "output_type": "stream",
     "text": [
      "Downloading: \"https://download.pytorch.org/models/densenet169-b2777c0a.pth\" to /root/.cache/torch/hub/checkpoints/densenet169-b2777c0a.pth\n"
     ]
    },
    {
     "data": {
      "application/vnd.jupyter.widget-view+json": {
       "model_id": "989fed94e5424393a3c4fb2ef5900deb",
       "version_major": 2,
       "version_minor": 0
      },
      "text/plain": [
       "  0%|          | 0.00/54.7M [00:00<?, ?B/s]"
      ]
     },
     "metadata": {},
     "output_type": "display_data"
    },
    {
     "name": "stdout",
     "output_type": "stream",
     "text": [
      "\n",
      "**************************************************\n",
      "\n",
      "Training Fold 1...\n",
      "\n",
      "**************************************************\n",
      "\n",
      "Epoch: 1 | Train Loss: 0.26928 | Valid Loss: 0.07067 | Train Accs: 0.91985 | Valid Accs: 0.98390 | Time: 78.59 seconds\n",
      "Epoch: 2 | Train Loss: 0.08334 | Valid Loss: 0.11079 | Train Accs: 0.96785 | Valid Accs: 0.95806 | Time: 71.78 seconds\n",
      "Epoch: 3 | Train Loss: 0.10027 | Valid Loss: 0.07090 | Train Accs: 0.96302 | Valid Accs: 0.97321 | Time: 71.64 seconds\n",
      "Epoch: 4 | Train Loss: 0.10726 | Valid Loss: 0.05782 | Train Accs: 0.96022 | Valid Accs: 0.98201 | Time: 72.20 seconds\n",
      "Epoch: 5 | Train Loss: 0.07191 | Valid Loss: 0.06037 | Train Accs: 0.97519 | Valid Accs: 0.97578 | Time: 71.25 seconds\n",
      "Epoch: 6 | Train Loss: 0.05364 | Valid Loss: 0.05944 | Train Accs: 0.97948 | Valid Accs: 0.97511 | Time: 71.50 seconds\n",
      "Epoch: 7 | Train Loss: 0.04250 | Valid Loss: 0.05722 | Train Accs: 0.98402 | Valid Accs: 0.98485 | Time: 71.85 seconds\n",
      "Epoch: 8 | Train Loss: 0.04823 | Valid Loss: 0.34311 | Train Accs: 0.98121 | Valid Accs: 0.91396 | Time: 71.06 seconds\n",
      "Epoch: 9 | Train Loss: 0.04134 | Valid Loss: 0.06349 | Train Accs: 0.98449 | Valid Accs: 0.97822 | Time: 71.48 seconds\n",
      "Epoch: 10 | Train Loss: 0.01985 | Valid Loss: 0.02487 | Train Accs: 0.99380 | Valid Accs: 0.98864 | Time: 71.86 seconds\n",
      "Epoch: 11 | Train Loss: 0.02480 | Valid Loss: 0.03759 | Train Accs: 0.99027 | Valid Accs: 0.98580 | Time: 71.30 seconds\n",
      "Epoch: 12 | Train Loss: 0.02270 | Valid Loss: 0.07461 | Train Accs: 0.99284 | Valid Accs: 0.97159 | Time: 71.37 seconds\n",
      "Epoch: 13 | Train Loss: 0.01322 | Valid Loss: 0.04087 | Train Accs: 0.99480 | Valid Accs: 0.98390 | Time: 71.21 seconds\n",
      "Epoch: 14 | Train Loss: 0.01371 | Valid Loss: 0.02285 | Train Accs: 0.99618 | Valid Accs: 0.98958 | Time: 71.73 seconds\n",
      "Epoch: 15 | Train Loss: 0.00369 | Valid Loss: 0.02228 | Train Accs: 0.99952 | Valid Accs: 0.99242 | Time: 72.05 seconds\n",
      "Epoch: 16 | Train Loss: 0.00141 | Valid Loss: 0.02588 | Train Accs: 0.99976 | Valid Accs: 0.99148 | Time: 71.23 seconds\n",
      "Epoch: 17 | Train Loss: 0.00097 | Valid Loss: 0.02266 | Train Accs: 1.00000 | Valid Accs: 0.99053 | Time: 71.20 seconds\n",
      "Epoch: 18 | Train Loss: 0.00072 | Valid Loss: 0.02619 | Train Accs: 1.00000 | Valid Accs: 0.99053 | Time: 71.06 seconds\n",
      "Epoch: 19 | Train Loss: 0.00054 | Valid Loss: 0.02394 | Train Accs: 1.00000 | Valid Accs: 0.99337 | Time: 71.12 seconds\n",
      "Epoch: 20 | Train Loss: 0.00069 | Valid Loss: 0.02431 | Train Accs: 0.99976 | Valid Accs: 0.99242 | Time: 71.06 seconds\n",
      "\n",
      "**************************************************\n",
      "\n",
      "Best Validation Loss at Epoch 15\n",
      "\n",
      "**************************************************\n",
      "\n",
      "Best Validation Accs at Epoch 19\n",
      "\n",
      "**************************************************\n",
      "\n",
      "Time Taken [20 Epochs] : 23.94 minutes\n",
      "\n",
      "**************************************************\n",
      "\n"
     ]
    },
    {
     "data": {
      "image/png": "[encoded data removed]",
      "text/plain": [
       "<Figure size 576x432 with 2 Axes>"
      ]
     },
     "metadata": {
      "needs_background": "light"
     },
     "output_type": "display_data"
    },
    {
     "name": "stdout",
     "output_type": "stream",
     "text": [
      "\n",
      "**************************************************\n",
      "\n",
      "Training Fold 2...\n",
      "\n",
      "**************************************************\n",
      "\n",
      "Epoch: 1 | Train Loss: 0.33318 | Valid Loss: 0.29638 | Train Accs: 0.89580 | Valid Accs: 0.89522 | Time: 50.91 seconds\n",
      "Epoch: 2 | Train Loss: 0.05019 | Valid Loss: 0.25926 | Train Accs: 0.98011 | Valid Accs: 0.91452 | Time: 51.26 seconds\n",
      "Epoch: 3 | Train Loss: 0.04337 | Valid Loss: 0.62911 | Train Accs: 0.98316 | Valid Accs: 0.83272 | Time: 50.46 seconds\n",
      "Epoch: 4 | Train Loss: 0.06063 | Valid Loss: 0.21698 | Train Accs: 0.97477 | Valid Accs: 0.92923 | Time: 51.33 seconds\n",
      "Epoch: 5 | Train Loss: 0.03817 | Valid Loss: 0.09821 | Train Accs: 0.98556 | Valid Accs: 0.95852 | Time: 51.15 seconds\n",
      "Epoch: 6 | Train Loss: 0.01413 | Valid Loss: 0.04170 | Train Accs: 0.99527 | Valid Accs: 0.98621 | Time: 51.17 seconds\n",
      "Epoch: 7 | Train Loss: 0.01675 | Valid Loss: 0.02920 | Train Accs: 0.99266 | Valid Accs: 0.98805 | Time: 51.35 seconds\n",
      "Epoch: 8 | Train Loss: 0.02858 | Valid Loss: 0.03835 | Train Accs: 0.99029 | Valid Accs: 0.98713 | Time: 50.71 seconds\n",
      "Epoch: 9 | Train Loss: 0.01590 | Valid Loss: 0.02254 | Train Accs: 0.99479 | Valid Accs: 0.99173 | Time: 51.10 seconds\n",
      "Epoch: 10 | Train Loss: 0.00823 | Valid Loss: 0.05085 | Train Accs: 0.99763 | Valid Accs: 0.98090 | Time: 50.62 seconds\n",
      "Epoch: 11 | Train Loss: 0.01104 | Valid Loss: 0.02650 | Train Accs: 0.99621 | Valid Accs: 0.98989 | Time: 50.68 seconds\n",
      "Epoch: 12 | Train Loss: 0.00245 | Valid Loss: 0.01708 | Train Accs: 0.99929 | Valid Accs: 0.99540 | Time: 51.10 seconds\n",
      "Epoch: 13 | Train Loss: 0.00079 | Valid Loss: 0.01606 | Train Accs: 1.00000 | Valid Accs: 0.99265 | Time: 51.31 seconds\n",
      "Epoch: 14 | Train Loss: 0.00082 | Valid Loss: 0.01430 | Train Accs: 1.00000 | Valid Accs: 0.99357 | Time: 51.18 seconds\n",
      "Epoch: 15 | Train Loss: 0.00065 | Valid Loss: 0.01512 | Train Accs: 1.00000 | Valid Accs: 0.99357 | Time: 50.63 seconds\n",
      "Epoch: 16 | Train Loss: 0.00047 | Valid Loss: 0.01479 | Train Accs: 1.00000 | Valid Accs: 0.99449 | Time: 50.57 seconds\n",
      "Epoch: 17 | Train Loss: 0.00044 | Valid Loss: 0.01427 | Train Accs: 1.00000 | Valid Accs: 0.99173 | Time: 51.15 seconds\n",
      "Epoch: 18 | Train Loss: 0.00021 | Valid Loss: 0.01466 | Train Accs: 1.00000 | Valid Accs: 0.99540 | Time: 50.54 seconds\n",
      "Epoch: 19 | Train Loss: 0.00022 | Valid Loss: 0.01467 | Train Accs: 1.00000 | Valid Accs: 0.99632 | Time: 50.64 seconds\n",
      "Epoch: 20 | Train Loss: 0.00025 | Valid Loss: 0.01438 | Train Accs: 1.00000 | Valid Accs: 0.99540 | Time: 50.62 seconds\n",
      "\n",
      "**************************************************\n",
      "\n",
      "Best Validation Loss at Epoch 17\n",
      "\n",
      "**************************************************\n",
      "\n",
      "Best Validation Accs at Epoch 19\n",
      "\n",
      "**************************************************\n",
      "\n",
      "Time Taken [20 Epochs] : 16.97 minutes\n",
      "\n",
      "**************************************************\n",
      "\n"
     ]
    },
    {
     "data": {
      "image/png": "[encoded data removed]",
      "text/plain": [
       "<Figure size 576x432 with 2 Axes>"
      ]
     },
     "metadata": {
      "needs_background": "light"
     },
     "output_type": "display_data"
    },
    {
     "name": "stdout",
     "output_type": "stream",
     "text": [
      "\n",
      "**************************************************\n",
      "\n",
      "Training Fold 3...\n",
      "\n",
      "**************************************************\n",
      "\n",
      "Epoch: 1 | Train Loss: 0.33474 | Valid Loss: 0.07560 | Train Accs: 0.90246 | Valid Accs: 0.97610 | Time: 51.33 seconds\n",
      "Epoch: 2 | Train Loss: 0.05406 | Valid Loss: 0.08781 | Train Accs: 0.97990 | Valid Accs: 0.97059 | Time: 50.59 seconds\n",
      "Epoch: 3 | Train Loss: 0.04371 | Valid Loss: 0.06997 | Train Accs: 0.98272 | Valid Accs: 0.97000 | Time: 50.88 seconds\n",
      "Epoch: 4 | Train Loss: 0.04418 | Valid Loss: 0.70361 | Train Accs: 0.98201 | Valid Accs: 0.79345 | Time: 50.38 seconds\n",
      "Epoch: 5 | Train Loss: 0.02606 | Valid Loss: 0.04724 | Train Accs: 0.99100 | Valid Accs: 0.98722 | Time: 50.83 seconds\n",
      "Epoch: 6 | Train Loss: 0.03389 | Valid Loss: 0.05218 | Train Accs: 0.98603 | Valid Accs: 0.98070 | Time: 50.84 seconds\n",
      "Epoch: 7 | Train Loss: 0.01792 | Valid Loss: 0.08388 | Train Accs: 0.99361 | Valid Accs: 0.96875 | Time: 50.52 seconds\n",
      "Epoch: 8 | Train Loss: 0.01037 | Valid Loss: 0.02257 | Train Accs: 0.99763 | Valid Accs: 0.98997 | Time: 51.12 seconds\n",
      "Epoch: 9 | Train Loss: 0.00921 | Valid Loss: 0.04063 | Train Accs: 0.99692 | Valid Accs: 0.98538 | Time: 50.55 seconds\n",
      "Epoch: 10 | Train Loss: 0.00491 | Valid Loss: 0.02237 | Train Accs: 0.99834 | Valid Accs: 0.99081 | Time: 51.18 seconds\n",
      "Epoch: 11 | Train Loss: 0.00174 | Valid Loss: 0.01456 | Train Accs: 0.99976 | Valid Accs: 0.99540 | Time: 51.28 seconds\n",
      "Epoch: 12 | Train Loss: 0.00054 | Valid Loss: 0.01028 | Train Accs: 1.00000 | Valid Accs: 0.99540 | Time: 51.52 seconds\n",
      "Epoch: 13 | Train Loss: 0.00040 | Valid Loss: 0.00805 | Train Accs: 1.00000 | Valid Accs: 0.99724 | Time: 51.22 seconds\n",
      "Epoch: 14 | Train Loss: 0.00045 | Valid Loss: 0.00928 | Train Accs: 1.00000 | Valid Accs: 0.99816 | Time: 50.73 seconds\n",
      "Epoch: 15 | Train Loss: 0.00015 | Valid Loss: 0.00925 | Train Accs: 1.00000 | Valid Accs: 0.99724 | Time: 50.58 seconds\n",
      "Epoch: 16 | Train Loss: 0.00017 | Valid Loss: 0.00943 | Train Accs: 1.00000 | Valid Accs: 0.99724 | Time: 50.62 seconds\n",
      "Epoch: 17 | Train Loss: 0.00023 | Valid Loss: 0.00944 | Train Accs: 1.00000 | Valid Accs: 0.99816 | Time: 50.57 seconds\n",
      "Epoch: 18 | Train Loss: 0.00019 | Valid Loss: 0.01428 | Train Accs: 1.00000 | Valid Accs: 0.99540 | Time: 50.69 seconds\n",
      "\n",
      "Early Stopping at Epoch 19\n",
      "\n",
      "**************************************************\n",
      "\n",
      "Best Validation Loss at Epoch 13\n",
      "\n",
      "**************************************************\n",
      "\n",
      "Best Validation Accs at Epoch 14\n",
      "\n",
      "**************************************************\n",
      "\n",
      "Time Taken [19 Epochs] : 16.10 minutes\n",
      "\n",
      "**************************************************\n",
      "\n"
     ]
    },
    {
     "data": {
      "image/png": "[encoded data removed]",
      "text/plain": [
       "<Figure size 576x432 with 2 Axes>"
      ]
     },
     "metadata": {
      "needs_background": "light"
     },
     "output_type": "display_data"
    },
    {
     "name": "stdout",
     "output_type": "stream",
     "text": [
      "\n",
      "**************************************************\n",
      "\n",
      "Training Fold 4...\n",
      "\n",
      "**************************************************\n",
      "\n",
      "Epoch: 1 | Train Loss: 0.33128 | Valid Loss: 0.07544 | Train Accs: 0.90425 | Valid Accs: 0.97719 | Time: 51.25 seconds\n",
      "Epoch: 2 | Train Loss: 0.04826 | Valid Loss: 0.13343 | Train Accs: 0.98343 | Valid Accs: 0.94903 | Time: 50.93 seconds\n",
      "Epoch: 3 | Train Loss: 0.04506 | Valid Loss: 0.18294 | Train Accs: 0.98295 | Valid Accs: 0.93750 | Time: 50.81 seconds\n",
      "Epoch: 4 | Train Loss: 0.03857 | Valid Loss: 0.17664 | Train Accs: 0.98556 | Valid Accs: 0.93549 | Time: 50.88 seconds\n",
      "Epoch: 5 | Train Loss: 0.03082 | Valid Loss: 0.08292 | Train Accs: 0.98722 | Valid Accs: 0.97067 | Time: 51.28 seconds\n",
      "Epoch: 6 | Train Loss: 0.03083 | Valid Loss: 0.03926 | Train Accs: 0.98840 | Valid Accs: 0.98270 | Time: 51.61 seconds\n",
      "Epoch: 7 | Train Loss: 0.01451 | Valid Loss: 0.19398 | Train Accs: 0.99455 | Valid Accs: 0.94669 | Time: 50.83 seconds\n",
      "Epoch: 8 | Train Loss: 0.02286 | Valid Loss: 0.11529 | Train Accs: 0.99279 | Valid Accs: 0.95805 | Time: 50.79 seconds\n",
      "Epoch: 9 | Train Loss: 0.01580 | Valid Loss: 0.02775 | Train Accs: 0.99503 | Valid Accs: 0.98722 | Time: 51.48 seconds\n",
      "Epoch: 10 | Train Loss: 0.00565 | Valid Loss: 0.01593 | Train Accs: 0.99858 | Valid Accs: 0.99265 | Time: 51.38 seconds\n",
      "Epoch: 11 | Train Loss: 0.00293 | Valid Loss: 0.01463 | Train Accs: 0.99929 | Valid Accs: 0.99265 | Time: 51.59 seconds\n",
      "Epoch: 12 | Train Loss: 0.00078 | Valid Loss: 0.02864 | Train Accs: 0.99976 | Valid Accs: 0.98805 | Time: 51.05 seconds\n",
      "Epoch: 13 | Train Loss: 0.00068 | Valid Loss: 0.00973 | Train Accs: 1.00000 | Valid Accs: 0.99540 | Time: 51.69 seconds\n",
      "Epoch: 14 | Train Loss: 0.00031 | Valid Loss: 0.01147 | Train Accs: 1.00000 | Valid Accs: 0.99540 | Time: 50.76 seconds\n",
      "Epoch: 15 | Train Loss: 0.00023 | Valid Loss: 0.01061 | Train Accs: 1.00000 | Valid Accs: 0.99357 | Time: 50.75 seconds\n",
      "Epoch: 16 | Train Loss: 0.00026 | Valid Loss: 0.01442 | Train Accs: 1.00000 | Valid Accs: 0.99540 | Time: 50.75 seconds\n",
      "Epoch: 17 | Train Loss: 0.00045 | Valid Loss: 0.01304 | Train Accs: 1.00000 | Valid Accs: 0.99540 | Time: 50.82 seconds\n",
      "Epoch: 18 | Train Loss: 0.00029 | Valid Loss: 0.01777 | Train Accs: 1.00000 | Valid Accs: 0.99265 | Time: 50.77 seconds\n",
      "\n",
      "Early Stopping at Epoch 19\n",
      "\n",
      "**************************************************\n",
      "\n",
      "Best Validation Loss at Epoch 13\n",
      "\n",
      "**************************************************\n",
      "\n",
      "Best Validation Accs at Epoch 13\n",
      "\n",
      "**************************************************\n",
      "\n",
      "Time Taken [19 Epochs] : 16.17 minutes\n",
      "\n",
      "**************************************************\n",
      "\n"
     ]
    },
    {
     "data": {
      "image/png": "[encoded data removed]",
      "text/plain": [
       "<Figure size 576x432 with 2 Axes>"
      ]
     },
     "metadata": {
      "needs_background": "light"
     },
     "output_type": "display_data"
    },
    {
     "name": "stdout",
     "output_type": "stream",
     "text": [
      "\n",
      "**************************************************\n",
      "\n",
      "Training Fold 5...\n",
      "\n",
      "**************************************************\n",
      "\n",
      "Epoch: 1 | Train Loss: 0.33237 | Valid Loss: 0.06747 | Train Accs: 0.89796 | Valid Accs: 0.97527 | Time: 51.09 seconds\n",
      "Epoch: 2 | Train Loss: 0.04893 | Valid Loss: 0.16564 | Train Accs: 0.98379 | Valid Accs: 0.94026 | Time: 50.79 seconds\n",
      "Epoch: 3 | Train Loss: 0.05874 | Valid Loss: 0.08353 | Train Accs: 0.97751 | Valid Accs: 0.96967 | Time: 50.66 seconds\n",
      "Epoch: 4 | Train Loss: 0.04169 | Valid Loss: 0.09925 | Train Accs: 0.98427 | Valid Accs: 0.96349 | Time: 50.79 seconds\n",
      "Epoch: 5 | Train Loss: 0.04509 | Valid Loss: 0.32756 | Train Accs: 0.98485 | Valid Accs: 0.88511 | Time: 50.66 seconds\n",
      "Epoch: 6 | Train Loss: 0.02637 | Valid Loss: 0.04805 | Train Accs: 0.99053 | Valid Accs: 0.97886 | Time: 51.30 seconds\n",
      "Epoch: 7 | Train Loss: 0.01645 | Valid Loss: 0.04829 | Train Accs: 0.99455 | Valid Accs: 0.98529 | Time: 50.73 seconds\n",
      "Epoch: 8 | Train Loss: 0.01350 | Valid Loss: 0.02938 | Train Accs: 0.99432 | Valid Accs: 0.99173 | Time: 51.65 seconds\n",
      "Epoch: 9 | Train Loss: 0.00678 | Valid Loss: 0.02451 | Train Accs: 0.99811 | Valid Accs: 0.99449 | Time: 51.63 seconds\n",
      "Epoch: 10 | Train Loss: 0.00357 | Valid Loss: 0.14380 | Train Accs: 0.99929 | Valid Accs: 0.96507 | Time: 50.70 seconds\n",
      "Epoch: 11 | Train Loss: 0.00921 | Valid Loss: 0.12528 | Train Accs: 0.99692 | Valid Accs: 0.96415 | Time: 50.94 seconds\n",
      "Epoch: 12 | Train Loss: 0.00628 | Valid Loss: 0.03385 | Train Accs: 0.99858 | Valid Accs: 0.98897 | Time: 50.78 seconds\n",
      "Epoch: 13 | Train Loss: 0.00155 | Valid Loss: 0.02288 | Train Accs: 0.99976 | Valid Accs: 0.99265 | Time: 51.59 seconds\n",
      "Epoch: 14 | Train Loss: 0.00053 | Valid Loss: 0.02202 | Train Accs: 1.00000 | Valid Accs: 0.99265 | Time: 51.41 seconds\n",
      "Epoch: 15 | Train Loss: 0.00035 | Valid Loss: 0.01592 | Train Accs: 1.00000 | Valid Accs: 0.99265 | Time: 51.29 seconds\n",
      "Epoch: 16 | Train Loss: 0.00038 | Valid Loss: 0.02117 | Train Accs: 1.00000 | Valid Accs: 0.99265 | Time: 50.81 seconds\n",
      "Epoch: 17 | Train Loss: 0.00039 | Valid Loss: 0.01995 | Train Accs: 1.00000 | Valid Accs: 0.99357 | Time: 50.85 seconds\n",
      "Epoch: 18 | Train Loss: 0.00028 | Valid Loss: 0.02455 | Train Accs: 1.00000 | Valid Accs: 0.99449 | Time: 50.81 seconds\n",
      "Epoch: 19 | Train Loss: 0.00028 | Valid Loss: 0.01910 | Train Accs: 1.00000 | Valid Accs: 0.99265 | Time: 50.86 seconds\n",
      "Epoch: 20 | Train Loss: 0.00018 | Valid Loss: 0.02082 | Train Accs: 1.00000 | Valid Accs: 0.99357 | Time: 50.68 seconds\n",
      "\n",
      "**************************************************\n",
      "\n",
      "Best Validation Loss at Epoch 15\n",
      "\n",
      "**************************************************\n",
      "\n",
      "Best Validation Accs at Epoch 9\n",
      "\n",
      "**************************************************\n",
      "\n",
      "Time Taken [20 Epochs] : 17.00 minutes\n",
      "\n",
      "**************************************************\n",
      "\n"
     ]
    },
    {
     "data": {
      "image/png": "[encoded data removed]",
      "text/plain": [
       "<Figure size 576x432 with 2 Axes>"
      ]
     },
     "metadata": {
      "needs_background": "light"
     },
     "output_type": "display_data"
    }
   ],
   "source": [
    "fold = 1\n",
    "BLEs, BAEs = [], []\n",
    "\n",
    "for tr_idx, va_idx in KFold(n_splits=cfg.n_splits, random_state=SEED, shuffle=True).split(images):\n",
    "    tr_images, va_images, tr_labels, va_labels = images[tr_idx], images[va_idx], labels[tr_idx], labels[va_idx]\n",
    "\n",
    "    tr_data_setup = DS(tr_images, tr_labels.reshape(-1, 1), cfg.transform)\n",
    "    va_data_setup = DS(va_images, va_labels.reshape(-1, 1), cfg.transform)\n",
    "\n",
    "    dataloaders = {\n",
    "        \"train\" : DL(tr_data_setup, batch_size=cfg.batch_size, shuffle=True, generator=torch.manual_seed(cfg.seed)),\n",
    "        \"valid\" : DL(va_data_setup, batch_size=cfg.batch_size, shuffle=False),\n",
    "    }\n",
    "\n",
    "    cfg = CFG(epochs=20, lr=1e-3, wd=0.0, batch_size=64, steps_per_epoch=len(dataloaders[\"train\"]))\n",
    "\n",
    "    torch.manual_seed(cfg.seed)\n",
    "    model = Model().to(cfg.device)\n",
    "    optimizer = optim.Adam([p for p in model.parameters() if p.requires_grad], lr=cfg.lr, weight_decay=cfg.wd)\n",
    "    scheduler = optim.lr_scheduler.OneCycleLR(optimizer=optimizer, \n",
    "                                              max_lr=cfg.max_lr, \n",
    "                                              epochs=cfg.epochs, \n",
    "                                              steps_per_epoch=cfg.steps_per_epoch,\n",
    "                                              pct_start=cfg.pct_start, \n",
    "                                              div_factor=cfg.div_factor, \n",
    "                                              final_div_factor=cfg.final_div_factor)\n",
    "    # scheduler = None\n",
    "\n",
    "    L, A, LRs, BLE, BAE, name = fit(model=model, \n",
    "                                    optimizer=optimizer, \n",
    "                                    scheduler=scheduler, \n",
    "                                    epochs=cfg.epochs, \n",
    "                                    early_stopping_patience=cfg.early_stopping, \n",
    "                                    dataloaders=dataloaders, \n",
    "                                    device=cfg.device,\n",
    "                                    save_path=cfg.save_path,\n",
    "                                    fold = fold,\n",
    "                                    verbose=True)\n",
    "\n",
    "    breaker()\n",
    "    show_graphs(L, A)\n",
    "    \n",
    "    BLEs.append(BLE)\n",
    "    BAEs.append(BAE)\n",
    "\n",
    "    fold += 1"
   ]
  },
  {
   "cell_type": "markdown",
   "id": "6e03116c",
   "metadata": {
    "papermill": {
     "duration": 0.065004,
     "end_time": "2022-04-14T09:45:48.438322",
     "exception": false,
     "start_time": "2022-04-14T09:45:48.373318",
     "status": "completed"
    },
    "tags": []
   },
   "source": [
    "### **Predictions**"
   ]
  },
  {
   "cell_type": "code",
   "execution_count": 9,
   "id": "bf31a30b",
   "metadata": {
    "execution": {
     "iopub.execute_input": "2022-04-14T09:45:48.577260Z",
     "iopub.status.busy": "2022-04-14T09:45:48.576588Z",
     "iopub.status.idle": "2022-04-14T09:45:54.321293Z",
     "shell.execute_reply": "2022-04-14T09:45:54.320394Z",
     "shell.execute_reply.started": "2022-04-09T01:41:41.028783Z"
    },
    "papermill": {
     "duration": 5.818261,
     "end_time": "2022-04-14T09:45:54.321443",
     "exception": false,
     "start_time": "2022-04-14T09:45:48.503182",
     "status": "completed"
    },
    "tags": []
   },
   "outputs": [
    {
     "name": "stdout",
     "output_type": "stream",
     "text": [
      "\n",
      "**************************************************\n",
      "\n",
      "Best Fold : 3\n",
      "\n",
      "**************************************************\n",
      "\n",
      "Accuracy  : 0.81731\n",
      "ROC-AUC   : 0.88690\n",
      "Precision : [0.51282051 1.        ]\n",
      "Recall    : [1.         0.77380952]\n",
      "F-Score   : [0.6779661  0.87248322]\n",
      "\n",
      "**************************************************\n",
      "\n",
      "              precision    recall  f1-score   support\n",
      "\n",
      "         0.0       1.00      0.51      0.68       234\n",
      "         1.0       0.77      1.00      0.87       390\n",
      "\n",
      "    accuracy                           0.82       624\n",
      "   macro avg       0.89      0.76      0.78       624\n",
      "weighted avg       0.86      0.82      0.80       624\n",
      "\n",
      "\n",
      "**************************************************\n",
      "\n",
      "[[120 114]\n",
      " [  0 390]]\n",
      "\n",
      "**************************************************\n",
      "\n"
     ]
    }
   ],
   "source": [
    "test_images = np.load(f\"../input/chest-x-rays-images/test_images_{SIZE}.npy\")\n",
    "test_labels = np.load(f\"../input/chest-x-rays-images/test_targets_{SIZE}.npy\")\n",
    "\n",
    "ts_data_setup = DS(test_images, None, cfg.transform)\n",
    "ts_data = DL(ts_data_setup, batch_size=cfg.batch_size, shuffle=False)\n",
    "\n",
    "best_fold = BLEs.index(min(BLEs)) + 1\n",
    "model_path = f\"saves/state_fold_{best_fold}.pt\"\n",
    "y_pred = predict(model=Model().to(cfg.device), dataloader=ts_data, path=model_path, device=cfg.device)\n",
    "\n",
    "accuracy, auc, precision, recall, f_score = get_scores(test_labels, y_pred)\n",
    "\n",
    "breaker()\n",
    "print(f\"Best Fold : {best_fold}\")\n",
    "breaker()\n",
    "print_scores(accuracy, auc, precision, recall, f_score)\n",
    "breaker()\n",
    "print(classification_report(test_labels, y_pred))\n",
    "breaker()\n",
    "print(confusion_matrix(test_labels, y_pred))\n",
    "breaker()"
   ]
  }
 ],
 "metadata": {
  "kernelspec": {
   "display_name": "Python 3",
   "language": "python",
   "name": "python3"
  },
  "language_info": {
   "codemirror_mode": {
    "name": "ipython",
    "version": 3
   },
   "file_extension": ".py",
   "mimetype": "text/x-python",
   "name": "python",
   "nbconvert_exporter": "python",
   "pygments_lexer": "ipython3",
   "version": "3.7.12"
  },
  "papermill": {
   "default_parameters": {},
   "duration": 5463.211954,
   "end_time": "2022-04-14T09:45:57.095520",
   "environment_variables": {},
   "exception": null,
   "input_path": "__notebook__.ipynb",
   "output_path": "__notebook__.ipynb",
   "parameters": {},
   "start_time": "2022-04-14T08:14:53.883566",
   "version": "2.3.3"
  },
  "widgets": {
   "application/vnd.jupyter.widget-state+json": {
    "state": {
     "180ea0f97a6e4626886b495672284024": {
      "model_module": "@jupyter-widgets/base",
      "model_module_version": "1.2.0",
      "model_name": "LayoutModel",
      "state": {
       "_model_module": "@jupyter-widgets/base",
       "_model_module_version": "1.2.0",
       "_model_name": "LayoutModel",
       "_view_count": null,
       "_view_module": "@jupyter-widgets/base",
       "_view_module_version": "1.2.0",
       "_view_name": "LayoutView",
       "align_content": null,
       "align_items": null,
       "align_self": null,
       "border": null,
       "bottom": null,
       "display": null,
       "flex": null,
       "flex_flow": null,
       "grid_area": null,
       "grid_auto_columns": null,
       "grid_auto_flow": null,
       "grid_auto_rows": null,
       "grid_column": null,
       "grid_gap": null,
       "grid_row": null,
       "grid_template_areas": null,
       "grid_template_columns": null,
       "grid_template_rows": null,
       "height": null,
       "justify_content": null,
       "justify_items": null,
       "left": null,
       "margin": null,
       "max_height": null,
       "max_width": null,
       "min_height": null,
       "min_width": null,
       "object_fit": null,
       "object_position": null,
       "order": null,
       "overflow": null,
       "overflow_x": null,
       "overflow_y": null,
       "padding": null,
       "right": null,
       "top": null,
       "visibility": null,
       "width": null
      }
     },
     "1b13c0bfa8d5431eaaa371dd8420a8e9": {
      "model_module": "@jupyter-widgets/controls",
      "model_module_version": "1.5.0",
      "model_name": "HTMLModel",
      "state": {
       "_dom_classes": [],
       "_model_module": "@jupyter-widgets/controls",
       "_model_module_version": "1.5.0",
       "_model_name": "HTMLModel",
       "_view_count": null,
       "_view_module": "@jupyter-widgets/controls",
       "_view_module_version": "1.5.0",
       "_view_name": "HTMLView",
       "description": "",
       "description_tooltip": null,
       "layout": "IPY_MODEL_39086b8d1df14b86a57f379e851417f9",
       "placeholder": "​",
       "style": "IPY_MODEL_8269f912c94442bb8849bd24be13a749",
       "value": "100%"
      }
     },
     "28e69372995f486c9616396c90f6fa45": {
      "model_module": "@jupyter-widgets/controls",
      "model_module_version": "1.5.0",
      "model_name": "HTMLModel",
      "state": {
       "_dom_classes": [],
       "_model_module": "@jupyter-widgets/controls",
       "_model_module_version": "1.5.0",
       "_model_name": "HTMLModel",
       "_view_count": null,
       "_view_module": "@jupyter-widgets/controls",
       "_view_module_version": "1.5.0",
       "_view_name": "HTMLView",
       "description": "",
       "description_tooltip": null,
       "layout": "IPY_MODEL_180ea0f97a6e4626886b495672284024",
       "placeholder": "​",
       "style": "IPY_MODEL_9e105c641a52431b90c00b9b95cd7c9f",
       "value": " 54.7M/54.7M [00:05&lt;00:00, 26.4MB/s]"
      }
     },
     "39086b8d1df14b86a57f379e851417f9": {
      "model_module": "@jupyter-widgets/base",
      "model_module_version": "1.2.0",
      "model_name": "LayoutModel",
      "state": {
       "_model_module": "@jupyter-widgets/base",
       "_model_module_version": "1.2.0",
       "_model_name": "LayoutModel",
       "_view_count": null,
       "_view_module": "@jupyter-widgets/base",
       "_view_module_version": "1.2.0",
       "_view_name": "LayoutView",
       "align_content": null,
       "align_items": null,
       "align_self": null,
       "border": null,
       "bottom": null,
       "display": null,
       "flex": null,
       "flex_flow": null,
       "grid_area": null,
       "grid_auto_columns": null,
       "grid_auto_flow": null,
       "grid_auto_rows": null,
       "grid_column": null,
       "grid_gap": null,
       "grid_row": null,
       "grid_template_areas": null,
       "grid_template_columns": null,
       "grid_template_rows": null,
       "height": null,
       "justify_content": null,
       "justify_items": null,
       "left": null,
       "margin": null,
       "max_height": null,
       "max_width": null,
       "min_height": null,
       "min_width": null,
       "object_fit": null,
       "object_position": null,
       "order": null,
       "overflow": null,
       "overflow_x": null,
       "overflow_y": null,
       "padding": null,
       "right": null,
       "top": null,
       "visibility": null,
       "width": null
      }
     },
     "3cd812d4dbd94202adad8cbf4d7fd7d9": {
      "model_module": "@jupyter-widgets/base",
      "model_module_version": "1.2.0",
      "model_name": "LayoutModel",
      "state": {
       "_model_module": "@jupyter-widgets/base",
       "_model_module_version": "1.2.0",
       "_model_name": "LayoutModel",
       "_view_count": null,
       "_view_module": "@jupyter-widgets/base",
       "_view_module_version": "1.2.0",
       "_view_name": "LayoutView",
       "align_content": null,
       "align_items": null,
       "align_self": null,
       "border": null,
       "bottom": null,
       "display": null,
       "flex": null,
       "flex_flow": null,
       "grid_area": null,
       "grid_auto_columns": null,
       "grid_auto_flow": null,
       "grid_auto_rows": null,
       "grid_column": null,
       "grid_gap": null,
       "grid_row": null,
       "grid_template_areas": null,
       "grid_template_columns": null,
       "grid_template_rows": null,
       "height": null,
       "justify_content": null,
       "justify_items": null,
       "left": null,
       "margin": null,
       "max_height": null,
       "max_width": null,
       "min_height": null,
       "min_width": null,
       "object_fit": null,
       "object_position": null,
       "order": null,
       "overflow": null,
       "overflow_x": null,
       "overflow_y": null,
       "padding": null,
       "right": null,
       "top": null,
       "visibility": null,
       "width": null
      }
     },
     "8269f912c94442bb8849bd24be13a749": {
      "model_module": "@jupyter-widgets/controls",
      "model_module_version": "1.5.0",
      "model_name": "DescriptionStyleModel",
      "state": {
       "_model_module": "@jupyter-widgets/controls",
       "_model_module_version": "1.5.0",
       "_model_name": "DescriptionStyleModel",
       "_view_count": null,
       "_view_module": "@jupyter-widgets/base",
       "_view_module_version": "1.2.0",
       "_view_name": "StyleView",
       "description_width": ""
      }
     },
     "989fed94e5424393a3c4fb2ef5900deb": {
      "model_module": "@jupyter-widgets/controls",
      "model_module_version": "1.5.0",
      "model_name": "HBoxModel",
      "state": {
       "_dom_classes": [],
       "_model_module": "@jupyter-widgets/controls",
       "_model_module_version": "1.5.0",
       "_model_name": "HBoxModel",
       "_view_count": null,
       "_view_module": "@jupyter-widgets/controls",
       "_view_module_version": "1.5.0",
       "_view_name": "HBoxView",
       "box_style": "",
       "children": [
        "IPY_MODEL_1b13c0bfa8d5431eaaa371dd8420a8e9",
        "IPY_MODEL_9fcdf8ef1dc54ae9a0d5cd9184d27850",
        "IPY_MODEL_28e69372995f486c9616396c90f6fa45"
       ],
       "layout": "IPY_MODEL_3cd812d4dbd94202adad8cbf4d7fd7d9"
      }
     },
     "9e105c641a52431b90c00b9b95cd7c9f": {
      "model_module": "@jupyter-widgets/controls",
      "model_module_version": "1.5.0",
      "model_name": "DescriptionStyleModel",
      "state": {
       "_model_module": "@jupyter-widgets/controls",
       "_model_module_version": "1.5.0",
       "_model_name": "DescriptionStyleModel",
       "_view_count": null,
       "_view_module": "@jupyter-widgets/base",
       "_view_module_version": "1.2.0",
       "_view_name": "StyleView",
       "description_width": ""
      }
     },
     "9fcdf8ef1dc54ae9a0d5cd9184d27850": {
      "model_module": "@jupyter-widgets/controls",
      "model_module_version": "1.5.0",
      "model_name": "FloatProgressModel",
      "state": {
       "_dom_classes": [],
       "_model_module": "@jupyter-widgets/controls",
       "_model_module_version": "1.5.0",
       "_model_name": "FloatProgressModel",
       "_view_count": null,
       "_view_module": "@jupyter-widgets/controls",
       "_view_module_version": "1.5.0",
       "_view_name": "ProgressView",
       "bar_style": "success",
       "description": "",
       "description_tooltip": null,
       "layout": "IPY_MODEL_a9a512c022784b06b8016f6aecde2745",
       "max": 57365526.0,
       "min": 0.0,
       "orientation": "horizontal",
       "style": "IPY_MODEL_f128d353da4d4914b84212af054d435d",
       "value": 57365526.0
      }
     },
     "a9a512c022784b06b8016f6aecde2745": {
      "model_module": "@jupyter-widgets/base",
      "model_module_version": "1.2.0",
      "model_name": "LayoutModel",
      "state": {
       "_model_module": "@jupyter-widgets/base",
       "_model_module_version": "1.2.0",
       "_model_name": "LayoutModel",
       "_view_count": null,
       "_view_module": "@jupyter-widgets/base",
       "_view_module_version": "1.2.0",
       "_view_name": "LayoutView",
       "align_content": null,
       "align_items": null,
       "align_self": null,
       "border": null,
       "bottom": null,
       "display": null,
       "flex": null,
       "flex_flow": null,
       "grid_area": null,
       "grid_auto_columns": null,
       "grid_auto_flow": null,
       "grid_auto_rows": null,
       "grid_column": null,
       "grid_gap": null,
       "grid_row": null,
       "grid_template_areas": null,
       "grid_template_columns": null,
       "grid_template_rows": null,
       "height": null,
       "justify_content": null,
       "justify_items": null,
       "left": null,
       "margin": null,
       "max_height": null,
       "max_width": null,
       "min_height": null,
       "min_width": null,
       "object_fit": null,
       "object_position": null,
       "order": null,
       "overflow": null,
       "overflow_x": null,
       "overflow_y": null,
       "padding": null,
       "right": null,
       "top": null,
       "visibility": null,
       "width": null
      }
     },
     "f128d353da4d4914b84212af054d435d": {
      "model_module": "@jupyter-widgets/controls",
      "model_module_version": "1.5.0",
      "model_name": "ProgressStyleModel",
      "state": {
       "_model_module": "@jupyter-widgets/controls",
       "_model_module_version": "1.5.0",
       "_model_name": "ProgressStyleModel",
       "_view_count": null,
       "_view_module": "@jupyter-widgets/base",
       "_view_module_version": "1.2.0",
       "_view_name": "StyleView",
       "bar_color": null,
       "description_width": ""
      }
     }
    },
    "version_major": 2,
    "version_minor": 0
   }
  }
 },
 "nbformat": 4,
 "nbformat_minor": 5
}
