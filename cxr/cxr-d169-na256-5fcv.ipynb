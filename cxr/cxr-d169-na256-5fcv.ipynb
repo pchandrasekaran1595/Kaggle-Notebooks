{
 "cells": [
  {
   "cell_type": "markdown",
   "id": "3645e769",
   "metadata": {
    "_cell_guid": "b1076dfc-b9ad-4769-8c92-a6c4dae69d19",
    "_uuid": "8f2839f25d086af736a60e9eeb907d3b93b6e0e5",
    "papermill": {
     "duration": 0.013627,
     "end_time": "2022-04-13T10:17:08.671713",
     "exception": false,
     "start_time": "2022-04-13T10:17:08.658086",
     "status": "completed"
    },
    "tags": []
   },
   "source": [
    "### Library Imports"
   ]
  },
  {
   "cell_type": "code",
   "execution_count": 1,
   "id": "da8a426f",
   "metadata": {
    "execution": {
     "iopub.execute_input": "2022-04-13T10:17:08.708995Z",
     "iopub.status.busy": "2022-04-13T10:17:08.708275Z",
     "iopub.status.idle": "2022-04-13T10:17:11.219410Z",
     "shell.execute_reply": "2022-04-13T10:17:11.220032Z",
     "shell.execute_reply.started": "2022-04-09T01:18:45.162484Z"
    },
    "papermill": {
     "duration": 2.535388,
     "end_time": "2022-04-13T10:17:11.220314",
     "exception": false,
     "start_time": "2022-04-13T10:17:08.684926",
     "status": "completed"
    },
    "tags": []
   },
   "outputs": [],
   "source": [
    "import os\n",
    "import re\n",
    "import torch\n",
    "import numpy as np\n",
    "import pandas as pd\n",
    "import matplotlib.pyplot as plt\n",
    "\n",
    "from time import time\n",
    "from torch import nn, optim\n",
    "from torch.utils.data import Dataset\n",
    "from torch.utils.data import DataLoader as DL\n",
    "from torchvision import models, transforms\n",
    "\n",
    "from sklearn.model_selection import KFold\n",
    "from sklearn.preprocessing import LabelEncoder\n",
    "from sklearn.metrics import accuracy_score, \\\n",
    "                            precision_recall_fscore_support, \\\n",
    "                            roc_auc_score, \\\n",
    "                            classification_report"
   ]
  },
  {
   "cell_type": "markdown",
   "id": "7e246a33",
   "metadata": {
    "papermill": {
     "duration": 0.012478,
     "end_time": "2022-04-13T10:17:11.245884",
     "exception": false,
     "start_time": "2022-04-13T10:17:11.233406",
     "status": "completed"
    },
    "tags": []
   },
   "source": [
    "### **Utilities**"
   ]
  },
  {
   "cell_type": "code",
   "execution_count": 2,
   "id": "94a647fe",
   "metadata": {
    "execution": {
     "iopub.execute_input": "2022-04-13T10:17:11.284511Z",
     "iopub.status.busy": "2022-04-13T10:17:11.283871Z",
     "iopub.status.idle": "2022-04-13T10:17:11.286781Z",
     "shell.execute_reply": "2022-04-13T10:17:11.286138Z",
     "shell.execute_reply.started": "2022-04-09T01:18:47.512362Z"
    },
    "papermill": {
     "duration": 0.028482,
     "end_time": "2022-04-13T10:17:11.286887",
     "exception": false,
     "start_time": "2022-04-13T10:17:11.258405",
     "status": "completed"
    },
    "tags": []
   },
   "outputs": [],
   "source": [
    "SEED = 42\n",
    "SIZE = 256\n",
    "\n",
    "def breaker(num: int=50, char: str=\"*\") -> None:\n",
    "    print(\"\\n\" + num*char + \"\\n\")\n",
    "\n",
    "\n",
    "def show_graphs(L: list, A: list) -> None:\n",
    "    TL, VL, TA, VA = [], [], [], []\n",
    "    for i in range(len(L)):\n",
    "        TL.append(L[i][\"train\"])\n",
    "        VL.append(L[i][\"valid\"])\n",
    "        TA.append(A[i][\"train\"])\n",
    "        VA.append(A[i][\"valid\"])\n",
    "    x_Axis = np.arange(1, len(TL) + 1)\n",
    "    plt.figure(figsize=(8, 6))\n",
    "    plt.subplot(1, 2, 1)\n",
    "    plt.plot(x_Axis, TL, \"r\", label=\"Train\")\n",
    "    plt.plot(x_Axis, VL, \"b\", label=\"Valid\")\n",
    "    plt.legend()\n",
    "    plt.grid()\n",
    "    plt.title(\"Loss Graph\")\n",
    "    plt.subplot(1, 2, 2)\n",
    "    plt.plot(x_Axis, TA, \"r\", label=\"Train\")\n",
    "    plt.plot(x_Axis, VA, \"b\", label=\"Valid\")\n",
    "    plt.legend()\n",
    "    plt.grid()\n",
    "    plt.title(\"Accuracy Graph\")\n",
    "    plt.show()\n",
    "\n",
    "    \n",
    "def get_scores(y_true: np.ndarray, y_pred: np.ndarray) -> tuple:\n",
    "    accuracy = accuracy_score(y_pred, y_true)\n",
    "    try:\n",
    "        auc = roc_auc_score(y_pred, y_true)\n",
    "    except:\n",
    "        auc = 0\n",
    "    precision, recall, f_score, _ = precision_recall_fscore_support(y_pred, y_true)\n",
    "\n",
    "    return accuracy, auc, precision, recall, f_score\n",
    "\n",
    "\n",
    "def print_scores(accuracy: float, auc: float, precision: np.ndarray, recall: np.ndarray, f_score: np.ndarray) -> None:\n",
    "    print(f\"Accuracy  : {accuracy:.5f}\")\n",
    "    print(f\"ROC-AUC   : {auc:.5f}\")\n",
    "    print(f\"Precision : {precision}\")\n",
    "    print(f\"Recall    : {recall}\")\n",
    "    print(f\"F-Score   : {f_score}\")"
   ]
  },
  {
   "cell_type": "markdown",
   "id": "0c703948",
   "metadata": {
    "papermill": {
     "duration": 0.013604,
     "end_time": "2022-04-13T10:17:11.313064",
     "exception": false,
     "start_time": "2022-04-13T10:17:11.299460",
     "status": "completed"
    },
    "tags": []
   },
   "source": [
    "### **Configuration**"
   ]
  },
  {
   "cell_type": "code",
   "execution_count": 3,
   "id": "0cde2948",
   "metadata": {
    "execution": {
     "iopub.execute_input": "2022-04-13T10:17:11.416050Z",
     "iopub.status.busy": "2022-04-13T10:17:11.415507Z",
     "iopub.status.idle": "2022-04-13T10:17:11.418970Z",
     "shell.execute_reply": "2022-04-13T10:17:11.419330Z",
     "shell.execute_reply.started": "2022-04-09T01:36:52.976989Z"
    },
    "papermill": {
     "duration": 0.092545,
     "end_time": "2022-04-13T10:17:11.419488",
     "exception": false,
     "start_time": "2022-04-13T10:17:11.326943",
     "status": "completed"
    },
    "tags": []
   },
   "outputs": [],
   "source": [
    "class CFG(object):\n",
    "    def __init__(self, \n",
    "                 seed: int = 42,\n",
    "                 n_splits: int = 5,\n",
    "                 batch_size: int = 16,\n",
    "                 epochs: int = 25,\n",
    "                 early_stopping: int = 5,\n",
    "                 lr: float = 1e-4,\n",
    "                 wd: float = 0.0,\n",
    "                 max_lr: float = 1e-3,\n",
    "                 pct_start: float = 0.2,\n",
    "                 steps_per_epoch: int = 100,\n",
    "                 div_factor: int = 1e3, \n",
    "                 final_div_factor: float = 1e3,\n",
    "                 ):\n",
    "        \n",
    "        self.seed = seed\n",
    "        self.n_splits = n_splits\n",
    "        self.batch_size = batch_size\n",
    "        self.epochs = epochs\n",
    "        self.early_stopping = early_stopping\n",
    "        self.lr = lr\n",
    "        self.wd = wd\n",
    "        self.max_lr = max_lr\n",
    "        self.pct_start = pct_start\n",
    "        self.steps_per_epoch = steps_per_epoch\n",
    "        self.div_factor = div_factor\n",
    "        self.final_div_factor = final_div_factor\n",
    "        self.device = torch.device(\"cuda\" if torch.cuda.is_available() else \"cpu\")\n",
    "        self.transform = transforms.Compose([transforms.ToTensor(),\n",
    "                                transforms.Normalize([0.11899, 0.11923, 0.12643],\n",
    "                                                     [0.17037, 0.16976, 0.18014]),\n",
    "                                ])\n",
    "        self.save_path = \"saves\"\n",
    "        if not os.path.exists(self.save_path): os.makedirs(self.save_path)\n",
    "    \n",
    "cfg = CFG(seed=SEED)"
   ]
  },
  {
   "cell_type": "markdown",
   "id": "ef75c8c7",
   "metadata": {
    "papermill": {
     "duration": 0.012509,
     "end_time": "2022-04-13T10:17:11.445181",
     "exception": false,
     "start_time": "2022-04-13T10:17:11.432672",
     "status": "completed"
    },
    "tags": []
   },
   "source": [
    "### **Dataset Template**"
   ]
  },
  {
   "cell_type": "code",
   "execution_count": 4,
   "id": "8e624bac",
   "metadata": {
    "execution": {
     "iopub.execute_input": "2022-04-13T10:17:11.475970Z",
     "iopub.status.busy": "2022-04-13T10:17:11.475329Z",
     "iopub.status.idle": "2022-04-13T10:17:11.478417Z",
     "shell.execute_reply": "2022-04-13T10:17:11.478014Z",
     "shell.execute_reply.started": "2022-04-09T01:18:47.593512Z"
    },
    "papermill": {
     "duration": 0.020897,
     "end_time": "2022-04-13T10:17:11.478527",
     "exception": false,
     "start_time": "2022-04-13T10:17:11.457630",
     "status": "completed"
    },
    "tags": []
   },
   "outputs": [],
   "source": [
    "class DS(Dataset):\n",
    "    def __init__(self, images: np.ndarray, labels: np.ndarray = None, transform=None):\n",
    "        self.images = images\n",
    "        self.labels = labels\n",
    "        self.transform = transform\n",
    "    \n",
    "    def __len__(self):\n",
    "        return self.images.shape[0]\n",
    "    \n",
    "    def __getitem__(self, idx):\n",
    "        if self.labels is not None:\n",
    "            return self.transform(self.images[idx]), torch.FloatTensor(self.labels[idx])\n",
    "        else:\n",
    "            return self.transform(self.images[idx])"
   ]
  },
  {
   "cell_type": "markdown",
   "id": "3e44a463",
   "metadata": {
    "papermill": {
     "duration": 0.012202,
     "end_time": "2022-04-13T10:17:11.503311",
     "exception": false,
     "start_time": "2022-04-13T10:17:11.491109",
     "status": "completed"
    },
    "tags": []
   },
   "source": [
    "### **Model**"
   ]
  },
  {
   "cell_type": "code",
   "execution_count": 5,
   "id": "a6786412",
   "metadata": {
    "execution": {
     "iopub.execute_input": "2022-04-13T10:17:11.533467Z",
     "iopub.status.busy": "2022-04-13T10:17:11.532759Z",
     "iopub.status.idle": "2022-04-13T10:17:11.535239Z",
     "shell.execute_reply": "2022-04-13T10:17:11.534849Z",
     "shell.execute_reply.started": "2022-04-09T01:18:47.606516Z"
    },
    "papermill": {
     "duration": 0.019543,
     "end_time": "2022-04-13T10:17:11.535339",
     "exception": false,
     "start_time": "2022-04-13T10:17:11.515796",
     "status": "completed"
    },
    "tags": []
   },
   "outputs": [],
   "source": [
    "class Model(nn.Module):\n",
    "    def __init__(self):\n",
    "        super(Model, self).__init__()\n",
    "\n",
    "        self.model = models.densenet169(pretrained=True, progress=True)\n",
    "        self.model.classifier = nn.Linear(in_features=self.model.classifier.in_features, out_features=1)\n",
    "\n",
    "    def forward(self, x):\n",
    "        return self.model(x)"
   ]
  },
  {
   "cell_type": "markdown",
   "id": "50b67829",
   "metadata": {
    "papermill": {
     "duration": 0.01229,
     "end_time": "2022-04-13T10:17:11.560247",
     "exception": false,
     "start_time": "2022-04-13T10:17:11.547957",
     "status": "completed"
    },
    "tags": []
   },
   "source": [
    "### Fit and Predict Helper"
   ]
  },
  {
   "cell_type": "code",
   "execution_count": 6,
   "id": "f23a588e",
   "metadata": {
    "execution": {
     "iopub.execute_input": "2022-04-13T10:17:11.593920Z",
     "iopub.status.busy": "2022-04-13T10:17:11.593087Z",
     "iopub.status.idle": "2022-04-13T10:17:11.610314Z",
     "shell.execute_reply": "2022-04-13T10:17:11.610720Z",
     "shell.execute_reply.started": "2022-04-09T01:18:47.615986Z"
    },
    "papermill": {
     "duration": 0.038171,
     "end_time": "2022-04-13T10:17:11.610841",
     "exception": false,
     "start_time": "2022-04-13T10:17:11.572670",
     "status": "completed"
    },
    "tags": []
   },
   "outputs": [],
   "source": [
    "def fit(model=None, \n",
    "        optimizer=None, \n",
    "        scheduler=None, \n",
    "        epochs=None, \n",
    "        early_stopping_patience=None, \n",
    "        dataloaders=None, \n",
    "        fold=None, \n",
    "        save_path=None, \n",
    "        device=None,\n",
    "        verbose=False) -> tuple:\n",
    "    \n",
    "    def get_accuracy(y_pred, y_true):\n",
    "        y_pred = torch.sigmoid(y_pred)\n",
    "        \n",
    "        y_pred[y_pred > 0.5] = 1\n",
    "        y_pred[y_pred <= 0.5] = 0\n",
    "        \n",
    "        return torch.count_nonzero(y_pred == y_true).item() / len(y_pred)\n",
    "    \n",
    "    if verbose:\n",
    "        breaker()\n",
    "        if fold: print(f\"Training Fold {fold}...\")\n",
    "        else: print(\"Training ...\")\n",
    "        breaker()\n",
    "        \n",
    "    bestLoss, bestAccs = {\"train\" : np.inf, \"valid\" : np.inf}, {\"train\" : 0.0, \"valid\" : 0.0}\n",
    "    Losses, LRs, Accuracies = [], [], []\n",
    "    if fold: name = f\"state_fold_{fold}.pt\"\n",
    "    else: name = \"state.pt\"\n",
    "\n",
    "    start_time = time()\n",
    "    for e in range(epochs):\n",
    "        e_st = time()\n",
    "        epochLoss, epochAccs = {\"train\" : 0.0, \"valid\" : 0.0}, {\"train\" : 0.0, \"valid\" : 0.0}\n",
    "\n",
    "        for phase in [\"train\", \"valid\"]:\n",
    "            if phase == \"train\":\n",
    "                model.train()\n",
    "            else:\n",
    "                model.eval()\n",
    "            \n",
    "            lossPerPass, accsPerPass = [], []\n",
    "\n",
    "            for X, y in dataloaders[phase]:\n",
    "                X, y = X.to(device), y.to(device)\n",
    "\n",
    "                optimizer.zero_grad()\n",
    "                with torch.set_grad_enabled(phase == \"train\"):\n",
    "                    output = model(X)\n",
    "                    loss = torch.nn.BCEWithLogitsLoss()(output, y)\n",
    "                    if phase == \"train\":\n",
    "                        loss.backward()\n",
    "                        optimizer.step()\n",
    "                        if scheduler: scheduler.step()\n",
    "                lossPerPass.append(loss.item())\n",
    "                accsPerPass.append(get_accuracy(output, y))\n",
    "            epochLoss[phase] = np.mean(np.array(lossPerPass))\n",
    "            epochAccs[phase] = np.mean(np.array(accsPerPass))\n",
    "        LRs.append(scheduler.get_last_lr())\n",
    "        Losses.append(epochLoss)\n",
    "        Accuracies.append(epochAccs)\n",
    "        \n",
    "        if early_stopping_patience:\n",
    "            if epochLoss[\"valid\"] < bestLoss[\"valid\"]:\n",
    "                bestLoss = epochLoss\n",
    "                BLE = e + 1\n",
    "                torch.save({\"model_state_dict\"     : model.state_dict(),\n",
    "                            \"optim_state_dict\"     : optimizer.state_dict()},\n",
    "                           os.path.join(save_path, name))\n",
    "                early_stopping_step = 0\n",
    "            else:\n",
    "                early_stopping_step += 1\n",
    "                if early_stopping_step > early_stopping_patience:\n",
    "                    print(\"\\nEarly Stopping at Epoch {}\".format(e + 1))\n",
    "                    break\n",
    "        \n",
    "        if epochLoss[\"valid\"] < bestLoss[\"valid\"]:\n",
    "            bestLoss = epochLoss\n",
    "            BLE = e + 1\n",
    "            torch.save({\"model_state_dict\"     : model.state_dict(),\n",
    "                        \"optim_state_dict\"     : optimizer.state_dict()},\n",
    "                        os.path.join(save_path, name))\n",
    "        \n",
    "        if epochAccs[\"valid\"] > bestAccs[\"valid\"]:\n",
    "            bestAccs = epochAccs\n",
    "            BAE = e + 1\n",
    "        \n",
    "        # if scheduler: scheduler.step(epochLoss[\"valid\"])\n",
    "        \n",
    "        if verbose:\n",
    "            print(\"Epoch: {} | Train Loss: {:.5f} | Valid Loss: {:.5f} | Train Accs: {:.5f} | Valid Accs: {:.5f} | Time: {:.2f} seconds\".format(e+1, \n",
    "                                                                       epochLoss[\"train\"], epochLoss[\"valid\"], \n",
    "                                                                       epochAccs[\"train\"], epochAccs[\"valid\"], \n",
    "                                                                       time()-e_st))\n",
    "\n",
    "    if verbose:                                           \n",
    "        breaker()\n",
    "        print(f\"Best Validation Loss at Epoch {BLE}\")\n",
    "        breaker()\n",
    "        print(f\"Best Validation Accs at Epoch {BAE}\")\n",
    "        breaker()\n",
    "        print(\"Time Taken [{} Epochs] : {:.2f} minutes\".format(len(Losses), (time()-start_time)/60))\n",
    "    \n",
    "    return Losses, Accuracies, LRs, BLE, BAE, name\n",
    "\n",
    "\n",
    "def predict(model=None, dataloader=None, path=None, device=None) -> np.ndarray:\n",
    "    model.load_state_dict(torch.load(path, map_location=device)[\"model_state_dict\"])\n",
    "    model.to(device)    \n",
    "    model.eval()\n",
    "    \n",
    "    y_pred = torch.zeros(1, 1).to(device)\n",
    "    \n",
    "    for X in dataloader:\n",
    "        X = X.to(device)\n",
    "        with torch.no_grad():\n",
    "            output = torch.sigmoid(model(X))\n",
    "        y_pred = torch.cat((y_pred, output.view(-1, 1)), dim=0)\n",
    "    \n",
    "    y_pred[y_pred > 0.5] = 1\n",
    "    y_pred[y_pred <= 0.5] = 0\n",
    "    \n",
    "    return y_pred[1:].detach().cpu().numpy()"
   ]
  },
  {
   "cell_type": "markdown",
   "id": "e6f3adfa",
   "metadata": {
    "papermill": {
     "duration": 0.012372,
     "end_time": "2022-04-13T10:17:11.635651",
     "exception": false,
     "start_time": "2022-04-13T10:17:11.623279",
     "status": "completed"
    },
    "tags": []
   },
   "source": [
    "### **Train**"
   ]
  },
  {
   "cell_type": "code",
   "execution_count": 7,
   "id": "ba5d5a67",
   "metadata": {
    "execution": {
     "iopub.execute_input": "2022-04-13T10:17:11.663801Z",
     "iopub.status.busy": "2022-04-13T10:17:11.663256Z",
     "iopub.status.idle": "2022-04-13T10:17:19.067237Z",
     "shell.execute_reply": "2022-04-13T10:17:19.066762Z",
     "shell.execute_reply.started": "2022-04-09T01:18:47.643848Z"
    },
    "papermill": {
     "duration": 7.419237,
     "end_time": "2022-04-13T10:17:19.067368",
     "exception": false,
     "start_time": "2022-04-13T10:17:11.648131",
     "status": "completed"
    },
    "tags": []
   },
   "outputs": [],
   "source": [
    "images = np.load(f\"../input/chest-x-rays-images/train_images_{SIZE}.npy\")\n",
    "labels = np.load(f\"../input/chest-x-rays-images/train_targets_{SIZE}.npy\")"
   ]
  },
  {
   "cell_type": "code",
   "execution_count": 8,
   "id": "a071c792",
   "metadata": {
    "execution": {
     "iopub.execute_input": "2022-04-13T10:17:19.107672Z",
     "iopub.status.busy": "2022-04-13T10:17:19.107021Z",
     "iopub.status.idle": "2022-04-13T11:34:50.343103Z",
     "shell.execute_reply": "2022-04-13T11:34:50.343611Z",
     "shell.execute_reply.started": "2022-04-09T01:36:59.635267Z"
    },
    "papermill": {
     "duration": 4651.263049,
     "end_time": "2022-04-13T11:34:50.343825",
     "exception": false,
     "start_time": "2022-04-13T10:17:19.080776",
     "status": "completed"
    },
    "tags": []
   },
   "outputs": [
    {
     "name": "stderr",
     "output_type": "stream",
     "text": [
      "Downloading: \"https://download.pytorch.org/models/densenet169-b2777c0a.pth\" to /root/.cache/torch/hub/checkpoints/densenet169-b2777c0a.pth\n"
     ]
    },
    {
     "data": {
      "application/vnd.jupyter.widget-view+json": {
       "model_id": "2e4d32cbb0a8408f84d1bca7e6ca905d",
       "version_major": 2,
       "version_minor": 0
      },
      "text/plain": [
       "  0%|          | 0.00/54.7M [00:00<?, ?B/s]"
      ]
     },
     "metadata": {},
     "output_type": "display_data"
    },
    {
     "name": "stdout",
     "output_type": "stream",
     "text": [
      "\n",
      "**************************************************\n",
      "\n",
      "Training Fold 1...\n",
      "\n",
      "**************************************************\n",
      "\n",
      "Epoch: 1 | Train Loss: 0.26876 | Valid Loss: 0.05371 | Train Accs: 0.91913 | Valid Accs: 0.98485 | Time: 68.87 seconds\n",
      "Epoch: 2 | Train Loss: 0.08101 | Valid Loss: 0.13799 | Train Accs: 0.97114 | Valid Accs: 0.94927 | Time: 62.38 seconds\n",
      "Epoch: 3 | Train Loss: 0.10196 | Valid Loss: 0.04873 | Train Accs: 0.96159 | Valid Accs: 0.98363 | Time: 62.80 seconds\n",
      "Epoch: 4 | Train Loss: 0.10037 | Valid Loss: 0.06812 | Train Accs: 0.96446 | Valid Accs: 0.97606 | Time: 62.07 seconds\n",
      "Epoch: 5 | Train Loss: 0.07787 | Valid Loss: 0.05925 | Train Accs: 0.97233 | Valid Accs: 0.98390 | Time: 62.34 seconds\n",
      "Epoch: 6 | Train Loss: 0.04859 | Valid Loss: 0.04244 | Train Accs: 0.98306 | Valid Accs: 0.98485 | Time: 62.68 seconds\n",
      "Epoch: 7 | Train Loss: 0.05993 | Valid Loss: 0.04431 | Train Accs: 0.97972 | Valid Accs: 0.98390 | Time: 62.18 seconds\n",
      "Epoch: 8 | Train Loss: 0.05350 | Valid Loss: 0.03662 | Train Accs: 0.98025 | Valid Accs: 0.98674 | Time: 62.78 seconds\n",
      "Epoch: 9 | Train Loss: 0.04254 | Valid Loss: 0.07239 | Train Accs: 0.98521 | Valid Accs: 0.97064 | Time: 62.08 seconds\n",
      "Epoch: 10 | Train Loss: 0.03044 | Valid Loss: 0.02934 | Train Accs: 0.98760 | Valid Accs: 0.98931 | Time: 62.66 seconds\n",
      "Epoch: 11 | Train Loss: 0.02493 | Valid Loss: 0.03397 | Train Accs: 0.99003 | Valid Accs: 0.98958 | Time: 62.52 seconds\n",
      "Epoch: 12 | Train Loss: 0.02241 | Valid Loss: 0.04500 | Train Accs: 0.99070 | Valid Accs: 0.98674 | Time: 62.63 seconds\n",
      "Epoch: 13 | Train Loss: 0.01665 | Valid Loss: 0.03319 | Train Accs: 0.99451 | Valid Accs: 0.98769 | Time: 62.22 seconds\n",
      "Epoch: 14 | Train Loss: 0.01281 | Valid Loss: 0.03454 | Train Accs: 0.99433 | Valid Accs: 0.98674 | Time: 62.62 seconds\n",
      "Epoch: 15 | Train Loss: 0.00530 | Valid Loss: 0.03112 | Train Accs: 0.99905 | Valid Accs: 0.99148 | Time: 62.62 seconds\n",
      "\n",
      "Early Stopping at Epoch 16\n",
      "\n",
      "**************************************************\n",
      "\n",
      "Best Validation Loss at Epoch 10\n",
      "\n",
      "**************************************************\n",
      "\n",
      "Best Validation Accs at Epoch 15\n",
      "\n",
      "**************************************************\n",
      "\n",
      "Time Taken [16 Epochs] : 16.76 minutes\n",
      "\n",
      "**************************************************\n",
      "\n"
     ]
    },
    {
     "data": {
      "image/png": "[encoded data removed]",
      "text/plain": [
       "<Figure size 576x432 with 2 Axes>"
      ]
     },
     "metadata": {
      "needs_background": "light"
     },
     "output_type": "display_data"
    },
    {
     "name": "stdout",
     "output_type": "stream",
     "text": [
      "\n",
      "**************************************************\n",
      "\n",
      "Training Fold 2...\n",
      "\n",
      "**************************************************\n",
      "\n",
      "Epoch: 1 | Train Loss: 0.33307 | Valid Loss: 0.19852 | Train Accs: 0.89641 | Valid Accs: 0.93015 | Time: 48.71 seconds\n",
      "Epoch: 2 | Train Loss: 0.05029 | Valid Loss: 0.50642 | Train Accs: 0.98177 | Valid Accs: 0.81710 | Time: 48.05 seconds\n",
      "Epoch: 3 | Train Loss: 0.04590 | Valid Loss: 0.09016 | Train Accs: 0.98590 | Valid Accs: 0.96915 | Time: 49.00 seconds\n",
      "Epoch: 4 | Train Loss: 0.06330 | Valid Loss: 0.25282 | Train Accs: 0.97738 | Valid Accs: 0.90809 | Time: 48.04 seconds\n",
      "Epoch: 5 | Train Loss: 0.04311 | Valid Loss: 0.27606 | Train Accs: 0.98282 | Valid Accs: 0.90417 | Time: 47.91 seconds\n",
      "Epoch: 6 | Train Loss: 0.03860 | Valid Loss: 0.04870 | Train Accs: 0.98485 | Valid Accs: 0.98346 | Time: 48.74 seconds\n",
      "Epoch: 7 | Train Loss: 0.01941 | Valid Loss: 0.07649 | Train Accs: 0.99313 | Valid Accs: 0.97610 | Time: 48.28 seconds\n",
      "Epoch: 8 | Train Loss: 0.02360 | Valid Loss: 0.02650 | Train Accs: 0.99266 | Valid Accs: 0.98989 | Time: 48.91 seconds\n",
      "Epoch: 9 | Train Loss: 0.01379 | Valid Loss: 0.06393 | Train Accs: 0.99550 | Valid Accs: 0.97171 | Time: 48.07 seconds\n",
      "Epoch: 10 | Train Loss: 0.00437 | Valid Loss: 0.02174 | Train Accs: 0.99905 | Valid Accs: 0.99265 | Time: 48.62 seconds\n",
      "Epoch: 11 | Train Loss: 0.00451 | Valid Loss: 0.02818 | Train Accs: 0.99882 | Valid Accs: 0.99357 | Time: 48.06 seconds\n",
      "Epoch: 12 | Train Loss: 0.00157 | Valid Loss: 0.01868 | Train Accs: 1.00000 | Valid Accs: 0.99357 | Time: 48.66 seconds\n",
      "Epoch: 13 | Train Loss: 0.00055 | Valid Loss: 0.02173 | Train Accs: 1.00000 | Valid Accs: 0.99357 | Time: 48.19 seconds\n",
      "Epoch: 14 | Train Loss: 0.00088 | Valid Loss: 0.02172 | Train Accs: 0.99976 | Valid Accs: 0.99265 | Time: 48.12 seconds\n",
      "Epoch: 15 | Train Loss: 0.00081 | Valid Loss: 0.02402 | Train Accs: 1.00000 | Valid Accs: 0.99357 | Time: 48.13 seconds\n",
      "Epoch: 16 | Train Loss: 0.00047 | Valid Loss: 0.02249 | Train Accs: 1.00000 | Valid Accs: 0.99357 | Time: 48.26 seconds\n",
      "Epoch: 17 | Train Loss: 0.00033 | Valid Loss: 0.02220 | Train Accs: 1.00000 | Valid Accs: 0.99265 | Time: 48.11 seconds\n",
      "\n",
      "Early Stopping at Epoch 18\n",
      "\n",
      "**************************************************\n",
      "\n",
      "Best Validation Loss at Epoch 12\n",
      "\n",
      "**************************************************\n",
      "\n",
      "Best Validation Accs at Epoch 11\n",
      "\n",
      "**************************************************\n",
      "\n",
      "Time Taken [18 Epochs] : 14.50 minutes\n",
      "\n",
      "**************************************************\n",
      "\n"
     ]
    },
    {
     "data": {
      "image/png": "[encoded data removed]",
      "text/plain": [
       "<Figure size 576x432 with 2 Axes>"
      ]
     },
     "metadata": {
      "needs_background": "light"
     },
     "output_type": "display_data"
    },
    {
     "name": "stdout",
     "output_type": "stream",
     "text": [
      "\n",
      "**************************************************\n",
      "\n",
      "Training Fold 3...\n",
      "\n",
      "**************************************************\n",
      "\n",
      "Epoch: 1 | Train Loss: 0.33510 | Valid Loss: 0.07575 | Train Accs: 0.90270 | Valid Accs: 0.97610 | Time: 48.27 seconds\n",
      "Epoch: 2 | Train Loss: 0.05184 | Valid Loss: 0.04946 | Train Accs: 0.98013 | Valid Accs: 0.97986 | Time: 48.53 seconds\n",
      "Epoch: 3 | Train Loss: 0.05039 | Valid Loss: 0.05414 | Train Accs: 0.97940 | Valid Accs: 0.98438 | Time: 47.92 seconds\n",
      "Epoch: 4 | Train Loss: 0.03573 | Valid Loss: 0.03840 | Train Accs: 0.98556 | Valid Accs: 0.98621 | Time: 48.53 seconds\n",
      "Epoch: 5 | Train Loss: 0.02103 | Valid Loss: 0.08174 | Train Accs: 0.99290 | Valid Accs: 0.97802 | Time: 48.05 seconds\n",
      "Epoch: 6 | Train Loss: 0.03705 | Valid Loss: 0.12012 | Train Accs: 0.98580 | Valid Accs: 0.96048 | Time: 47.87 seconds\n",
      "Epoch: 7 | Train Loss: 0.02326 | Valid Loss: 0.08205 | Train Accs: 0.99077 | Valid Accs: 0.97335 | Time: 47.94 seconds\n",
      "Epoch: 8 | Train Loss: 0.02398 | Valid Loss: 0.06219 | Train Accs: 0.99006 | Valid Accs: 0.97610 | Time: 48.06 seconds\n",
      "Epoch: 9 | Train Loss: 0.00643 | Valid Loss: 0.03813 | Train Accs: 0.99811 | Valid Accs: 0.98730 | Time: 48.68 seconds\n",
      "Epoch: 10 | Train Loss: 0.00774 | Valid Loss: 0.03563 | Train Accs: 0.99763 | Valid Accs: 0.98538 | Time: 48.70 seconds\n",
      "Epoch: 11 | Train Loss: 0.00788 | Valid Loss: 0.04461 | Train Accs: 0.99716 | Valid Accs: 0.98997 | Time: 48.23 seconds\n",
      "Epoch: 12 | Train Loss: 0.00290 | Valid Loss: 0.02370 | Train Accs: 0.99929 | Valid Accs: 0.98997 | Time: 48.39 seconds\n",
      "Epoch: 13 | Train Loss: 0.00150 | Valid Loss: 0.01845 | Train Accs: 0.99953 | Valid Accs: 0.99181 | Time: 48.55 seconds\n",
      "Epoch: 14 | Train Loss: 0.00066 | Valid Loss: 0.01310 | Train Accs: 1.00000 | Valid Accs: 0.99365 | Time: 48.42 seconds\n",
      "Epoch: 15 | Train Loss: 0.00038 | Valid Loss: 0.01569 | Train Accs: 1.00000 | Valid Accs: 0.99365 | Time: 47.88 seconds\n",
      "Epoch: 16 | Train Loss: 0.00031 | Valid Loss: 0.01333 | Train Accs: 1.00000 | Valid Accs: 0.99365 | Time: 48.08 seconds\n",
      "Epoch: 17 | Train Loss: 0.00036 | Valid Loss: 0.01277 | Train Accs: 1.00000 | Valid Accs: 0.99365 | Time: 48.52 seconds\n",
      "Epoch: 18 | Train Loss: 0.00032 | Valid Loss: 0.01210 | Train Accs: 1.00000 | Valid Accs: 0.99273 | Time: 48.60 seconds\n",
      "Epoch: 19 | Train Loss: 0.00031 | Valid Loss: 0.01359 | Train Accs: 1.00000 | Valid Accs: 0.99365 | Time: 48.13 seconds\n",
      "Epoch: 20 | Train Loss: 0.00035 | Valid Loss: 0.01205 | Train Accs: 1.00000 | Valid Accs: 0.99365 | Time: 48.56 seconds\n",
      "\n",
      "**************************************************\n",
      "\n",
      "Best Validation Loss at Epoch 20\n",
      "\n",
      "**************************************************\n",
      "\n",
      "Best Validation Accs at Epoch 14\n",
      "\n",
      "**************************************************\n",
      "\n",
      "Time Taken [20 Epochs] : 16.10 minutes\n",
      "\n",
      "**************************************************\n",
      "\n"
     ]
    },
    {
     "data": {
      "image/png": "[encoded data removed]",
      "text/plain": [
       "<Figure size 576x432 with 2 Axes>"
      ]
     },
     "metadata": {
      "needs_background": "light"
     },
     "output_type": "display_data"
    },
    {
     "name": "stdout",
     "output_type": "stream",
     "text": [
      "\n",
      "**************************************************\n",
      "\n",
      "Training Fold 4...\n",
      "\n",
      "**************************************************\n",
      "\n",
      "Epoch: 1 | Train Loss: 0.33090 | Valid Loss: 0.07117 | Train Accs: 0.90448 | Valid Accs: 0.97903 | Time: 48.67 seconds\n",
      "Epoch: 2 | Train Loss: 0.05301 | Valid Loss: 0.05334 | Train Accs: 0.98166 | Valid Accs: 0.98446 | Time: 49.11 seconds\n",
      "Epoch: 3 | Train Loss: 0.04552 | Valid Loss: 0.25200 | Train Accs: 0.98414 | Valid Accs: 0.93474 | Time: 48.10 seconds\n",
      "Epoch: 4 | Train Loss: 0.04247 | Valid Loss: 1.76693 | Train Accs: 0.98319 | Valid Accs: 0.57169 | Time: 48.17 seconds\n",
      "Epoch: 5 | Train Loss: 0.02561 | Valid Loss: 0.06474 | Train Accs: 0.99100 | Valid Accs: 0.97360 | Time: 48.28 seconds\n",
      "Epoch: 6 | Train Loss: 0.03290 | Valid Loss: 0.12838 | Train Accs: 0.98864 | Valid Accs: 0.95070 | Time: 48.14 seconds\n",
      "Epoch: 7 | Train Loss: 0.02163 | Valid Loss: 0.28190 | Train Accs: 0.99124 | Valid Accs: 0.92923 | Time: 48.40 seconds\n",
      "Epoch: 8 | Train Loss: 0.02360 | Valid Loss: 0.04283 | Train Accs: 0.99148 | Valid Accs: 0.98362 | Time: 48.83 seconds\n",
      "Epoch: 9 | Train Loss: 0.00695 | Valid Loss: 0.03173 | Train Accs: 0.99763 | Valid Accs: 0.98989 | Time: 48.92 seconds\n",
      "Epoch: 10 | Train Loss: 0.00264 | Valid Loss: 0.01910 | Train Accs: 0.99929 | Valid Accs: 0.99449 | Time: 48.73 seconds\n",
      "Epoch: 11 | Train Loss: 0.00178 | Valid Loss: 0.01511 | Train Accs: 0.99976 | Valid Accs: 0.99632 | Time: 48.89 seconds\n",
      "Epoch: 12 | Train Loss: 0.00095 | Valid Loss: 0.01295 | Train Accs: 1.00000 | Valid Accs: 0.99632 | Time: 48.88 seconds\n",
      "Epoch: 13 | Train Loss: 0.00074 | Valid Loss: 0.01076 | Train Accs: 1.00000 | Valid Accs: 0.99632 | Time: 48.87 seconds\n",
      "Epoch: 14 | Train Loss: 0.00025 | Valid Loss: 0.00893 | Train Accs: 1.00000 | Valid Accs: 0.99632 | Time: 48.94 seconds\n",
      "Epoch: 15 | Train Loss: 0.00017 | Valid Loss: 0.00893 | Train Accs: 1.00000 | Valid Accs: 0.99632 | Time: 48.91 seconds\n",
      "Epoch: 16 | Train Loss: 0.00017 | Valid Loss: 0.01026 | Train Accs: 1.00000 | Valid Accs: 0.99540 | Time: 48.30 seconds\n",
      "Epoch: 17 | Train Loss: 0.00028 | Valid Loss: 0.01061 | Train Accs: 1.00000 | Valid Accs: 0.99540 | Time: 48.56 seconds\n",
      "Epoch: 18 | Train Loss: 0.00017 | Valid Loss: 0.01364 | Train Accs: 1.00000 | Valid Accs: 0.99632 | Time: 48.11 seconds\n",
      "Epoch: 19 | Train Loss: 0.00020 | Valid Loss: 0.01066 | Train Accs: 1.00000 | Valid Accs: 0.99540 | Time: 48.25 seconds\n",
      "Epoch: 20 | Train Loss: 0.00017 | Valid Loss: 0.01280 | Train Accs: 1.00000 | Valid Accs: 0.99449 | Time: 48.07 seconds\n",
      "\n",
      "**************************************************\n",
      "\n",
      "Best Validation Loss at Epoch 15\n",
      "\n",
      "**************************************************\n",
      "\n",
      "Best Validation Accs at Epoch 11\n",
      "\n",
      "**************************************************\n",
      "\n",
      "Time Taken [20 Epochs] : 16.19 minutes\n",
      "\n",
      "**************************************************\n",
      "\n"
     ]
    },
    {
     "data": {
      "image/png": "[encoded data removed]",
      "text/plain": [
       "<Figure size 576x432 with 2 Axes>"
      ]
     },
     "metadata": {
      "needs_background": "light"
     },
     "output_type": "display_data"
    },
    {
     "name": "stdout",
     "output_type": "stream",
     "text": [
      "\n",
      "**************************************************\n",
      "\n",
      "Training Fold 5...\n",
      "\n",
      "**************************************************\n",
      "\n",
      "Epoch: 1 | Train Loss: 0.33234 | Valid Loss: 0.07607 | Train Accs: 0.89820 | Valid Accs: 0.97159 | Time: 48.76 seconds\n",
      "Epoch: 2 | Train Loss: 0.05179 | Valid Loss: 0.10336 | Train Accs: 0.98356 | Valid Accs: 0.96415 | Time: 48.25 seconds\n",
      "Epoch: 3 | Train Loss: 0.05147 | Valid Loss: 0.07875 | Train Accs: 0.98248 | Valid Accs: 0.96875 | Time: 48.32 seconds\n",
      "Epoch: 4 | Train Loss: 0.04317 | Valid Loss: 0.06188 | Train Accs: 0.98224 | Valid Accs: 0.97343 | Time: 48.83 seconds\n",
      "Epoch: 5 | Train Loss: 0.04971 | Valid Loss: 0.11770 | Train Accs: 0.98166 | Valid Accs: 0.95956 | Time: 48.49 seconds\n",
      "Epoch: 6 | Train Loss: 0.02984 | Valid Loss: 0.03934 | Train Accs: 0.98958 | Valid Accs: 0.98805 | Time: 48.85 seconds\n",
      "Epoch: 7 | Train Loss: 0.01952 | Valid Loss: 0.04173 | Train Accs: 0.99384 | Valid Accs: 0.98621 | Time: 48.42 seconds\n",
      "Epoch: 8 | Train Loss: 0.01265 | Valid Loss: 0.18477 | Train Accs: 0.99645 | Valid Accs: 0.94761 | Time: 48.11 seconds\n",
      "Epoch: 9 | Train Loss: 0.01291 | Valid Loss: 0.03313 | Train Accs: 0.99421 | Valid Accs: 0.98805 | Time: 49.08 seconds\n",
      "Epoch: 10 | Train Loss: 0.01213 | Valid Loss: 0.04574 | Train Accs: 0.99669 | Valid Accs: 0.98529 | Time: 48.39 seconds\n",
      "Epoch: 11 | Train Loss: 0.00887 | Valid Loss: 0.02138 | Train Accs: 0.99787 | Valid Accs: 0.99357 | Time: 49.02 seconds\n",
      "Epoch: 12 | Train Loss: 0.00185 | Valid Loss: 0.03472 | Train Accs: 0.99953 | Valid Accs: 0.99081 | Time: 48.27 seconds\n",
      "Epoch: 13 | Train Loss: 0.00102 | Valid Loss: 0.02347 | Train Accs: 1.00000 | Valid Accs: 0.99265 | Time: 48.43 seconds\n",
      "Epoch: 14 | Train Loss: 0.00050 | Valid Loss: 0.02874 | Train Accs: 1.00000 | Valid Accs: 0.99173 | Time: 48.28 seconds\n",
      "Epoch: 15 | Train Loss: 0.00023 | Valid Loss: 0.02628 | Train Accs: 1.00000 | Valid Accs: 0.99173 | Time: 48.33 seconds\n",
      "Epoch: 16 | Train Loss: 0.00024 | Valid Loss: 0.02808 | Train Accs: 1.00000 | Valid Accs: 0.99173 | Time: 48.38 seconds\n",
      "\n",
      "Early Stopping at Epoch 17\n",
      "\n",
      "**************************************************\n",
      "\n",
      "Best Validation Loss at Epoch 11\n",
      "\n",
      "**************************************************\n",
      "\n",
      "Best Validation Accs at Epoch 11\n",
      "\n",
      "**************************************************\n",
      "\n",
      "Time Taken [17 Epochs] : 13.74 minutes\n",
      "\n",
      "**************************************************\n",
      "\n"
     ]
    },
    {
     "data": {
      "image/png": "[encoded data removed]",
      "text/plain": [
       "<Figure size 576x432 with 2 Axes>"
      ]
     },
     "metadata": {
      "needs_background": "light"
     },
     "output_type": "display_data"
    }
   ],
   "source": [
    "fold = 1\n",
    "BLEs, BAEs = [], []\n",
    "\n",
    "for tr_idx, va_idx in KFold(n_splits=cfg.n_splits, random_state=SEED, shuffle=True).split(images):\n",
    "    tr_images, va_images, tr_labels, va_labels = images[tr_idx], images[va_idx], labels[tr_idx], labels[va_idx]\n",
    "\n",
    "    tr_data_setup = DS(tr_images, tr_labels.reshape(-1, 1), cfg.transform)\n",
    "    va_data_setup = DS(va_images, va_labels.reshape(-1, 1), cfg.transform)\n",
    "\n",
    "    dataloaders = {\n",
    "        \"train\" : DL(tr_data_setup, batch_size=cfg.batch_size, shuffle=True, generator=torch.manual_seed(cfg.seed)),\n",
    "        \"valid\" : DL(va_data_setup, batch_size=cfg.batch_size, shuffle=False),\n",
    "    }\n",
    "\n",
    "    cfg = CFG(epochs=20, lr=1e-3, wd=0.0, batch_size=64, steps_per_epoch=len(dataloaders[\"train\"]))\n",
    "\n",
    "    torch.manual_seed(cfg.seed)\n",
    "    model = Model().to(cfg.device)\n",
    "    optimizer = optim.Adam([p for p in model.parameters() if p.requires_grad], lr=cfg.lr, weight_decay=cfg.wd)\n",
    "    scheduler = optim.lr_scheduler.OneCycleLR(optimizer=optimizer, \n",
    "                                              max_lr=cfg.max_lr, \n",
    "                                              epochs=cfg.epochs, \n",
    "                                              steps_per_epoch=cfg.steps_per_epoch,\n",
    "                                              pct_start=cfg.pct_start, \n",
    "                                              div_factor=cfg.div_factor, \n",
    "                                              final_div_factor=cfg.final_div_factor)\n",
    "    # scheduler = None\n",
    "\n",
    "    L, A, LRs, BLE, BAE, name = fit(model=model, \n",
    "                                    optimizer=optimizer, \n",
    "                                    scheduler=scheduler, \n",
    "                                    epochs=cfg.epochs, \n",
    "                                    early_stopping_patience=cfg.early_stopping, \n",
    "                                    dataloaders=dataloaders, \n",
    "                                    device=cfg.device,\n",
    "                                    save_path=cfg.save_path,\n",
    "                                    fold = fold,\n",
    "                                    verbose=True)\n",
    "\n",
    "    breaker()\n",
    "    show_graphs(L, A)\n",
    "    \n",
    "    BLEs.append(BLE)\n",
    "    BAEs.append(BAE)\n",
    "\n",
    "    fold += 1"
   ]
  },
  {
   "cell_type": "markdown",
   "id": "88155d8b",
   "metadata": {
    "papermill": {
     "duration": 0.073854,
     "end_time": "2022-04-13T11:34:50.493231",
     "exception": false,
     "start_time": "2022-04-13T11:34:50.419377",
     "status": "completed"
    },
    "tags": []
   },
   "source": [
    "### **Predictions**"
   ]
  },
  {
   "cell_type": "code",
   "execution_count": 9,
   "id": "07815b75",
   "metadata": {
    "execution": {
     "iopub.execute_input": "2022-04-13T11:34:50.660805Z",
     "iopub.status.busy": "2022-04-13T11:34:50.660006Z",
     "iopub.status.idle": "2022-04-13T11:34:54.271064Z",
     "shell.execute_reply": "2022-04-13T11:34:54.272623Z",
     "shell.execute_reply.started": "2022-04-09T01:41:41.028783Z"
    },
    "papermill": {
     "duration": 3.701875,
     "end_time": "2022-04-13T11:34:54.272843",
     "exception": false,
     "start_time": "2022-04-13T11:34:50.570968",
     "status": "completed"
    },
    "tags": []
   },
   "outputs": [
    {
     "name": "stdout",
     "output_type": "stream",
     "text": [
      "\n",
      "**************************************************\n",
      "\n",
      "Best Fold : 1\n",
      "\n",
      "**************************************************\n",
      "\n",
      "Accuracy  : 0.75641\n",
      "ROC-AUC   : 0.85423\n",
      "Precision : [0.35470085 0.9974359 ]\n",
      "Recall    : [0.98809524 0.72037037]\n",
      "F-Score   : [0.52201258 0.83655914]\n",
      "\n",
      "**************************************************\n",
      "\n"
     ]
    }
   ],
   "source": [
    "test_images = np.load(f\"../input/chest-x-rays-images/test_images_{SIZE}.npy\")\n",
    "test_labels = np.load(f\"../input/chest-x-rays-images/test_targets_{SIZE}.npy\")\n",
    "\n",
    "ts_data_setup = DS(test_images, None, cfg.transform)\n",
    "ts_data = DL(ts_data_setup, batch_size=cfg.batch_size, shuffle=False)\n",
    "\n",
    "best_fold = BLEs.index(min(BLEs)) + 1\n",
    "model_path = f\"saves/state_fold_{best_fold}.pt\"\n",
    "y_pred = predict(model=Model().to(cfg.device), dataloader=ts_data, path=model_path, device=cfg.device)\n",
    "\n",
    "accuracy, auc, precision, recall, f_score = get_scores(test_labels, y_pred)\n",
    "\n",
    "breaker()\n",
    "print(f\"Best Fold : {best_fold}\")\n",
    "breaker()\n",
    "print_scores(accuracy, auc, precision, recall, f_score)\n",
    "breaker()"
   ]
  }
 ],
 "metadata": {
  "kernelspec": {
   "display_name": "Python 3",
   "language": "python",
   "name": "python3"
  },
  "language_info": {
   "codemirror_mode": {
    "name": "ipython",
    "version": 3
   },
   "file_extension": ".py",
   "mimetype": "text/x-python",
   "name": "python",
   "nbconvert_exporter": "python",
   "pygments_lexer": "ipython3",
   "version": "3.7.12"
  },
  "papermill": {
   "default_parameters": {},
   "duration": 4676.225751,
   "end_time": "2022-04-13T11:34:56.592936",
   "environment_variables": {},
   "exception": null,
   "input_path": "__notebook__.ipynb",
   "output_path": "__notebook__.ipynb",
   "parameters": {},
   "start_time": "2022-04-13T10:17:00.367185",
   "version": "2.3.3"
  },
  "widgets": {
   "application/vnd.jupyter.widget-state+json": {
    "state": {
     "0696fb9e6c5e45e29eb6ca0134cdc3b0": {
      "model_module": "@jupyter-widgets/controls",
      "model_module_version": "1.5.0",
      "model_name": "FloatProgressModel",
      "state": {
       "_dom_classes": [],
       "_model_module": "@jupyter-widgets/controls",
       "_model_module_version": "1.5.0",
       "_model_name": "FloatProgressModel",
       "_view_count": null,
       "_view_module": "@jupyter-widgets/controls",
       "_view_module_version": "1.5.0",
       "_view_name": "ProgressView",
       "bar_style": "success",
       "description": "",
       "description_tooltip": null,
       "layout": "IPY_MODEL_c131ae18851d44da8790635ee943f7f5",
       "max": 57365526.0,
       "min": 0.0,
       "orientation": "horizontal",
       "style": "IPY_MODEL_ea016a9bf1174f4390037a67ffcc5154",
       "value": 57365526.0
      }
     },
     "29a5c79ae5bf4fe89933a957b9cf1115": {
      "model_module": "@jupyter-widgets/base",
      "model_module_version": "1.2.0",
      "model_name": "LayoutModel",
      "state": {
       "_model_module": "@jupyter-widgets/base",
       "_model_module_version": "1.2.0",
       "_model_name": "LayoutModel",
       "_view_count": null,
       "_view_module": "@jupyter-widgets/base",
       "_view_module_version": "1.2.0",
       "_view_name": "LayoutView",
       "align_content": null,
       "align_items": null,
       "align_self": null,
       "border": null,
       "bottom": null,
       "display": null,
       "flex": null,
       "flex_flow": null,
       "grid_area": null,
       "grid_auto_columns": null,
       "grid_auto_flow": null,
       "grid_auto_rows": null,
       "grid_column": null,
       "grid_gap": null,
       "grid_row": null,
       "grid_template_areas": null,
       "grid_template_columns": null,
       "grid_template_rows": null,
       "height": null,
       "justify_content": null,
       "justify_items": null,
       "left": null,
       "margin": null,
       "max_height": null,
       "max_width": null,
       "min_height": null,
       "min_width": null,
       "object_fit": null,
       "object_position": null,
       "order": null,
       "overflow": null,
       "overflow_x": null,
       "overflow_y": null,
       "padding": null,
       "right": null,
       "top": null,
       "visibility": null,
       "width": null
      }
     },
     "2e4d32cbb0a8408f84d1bca7e6ca905d": {
      "model_module": "@jupyter-widgets/controls",
      "model_module_version": "1.5.0",
      "model_name": "HBoxModel",
      "state": {
       "_dom_classes": [],
       "_model_module": "@jupyter-widgets/controls",
       "_model_module_version": "1.5.0",
       "_model_name": "HBoxModel",
       "_view_count": null,
       "_view_module": "@jupyter-widgets/controls",
       "_view_module_version": "1.5.0",
       "_view_name": "HBoxView",
       "box_style": "",
       "children": [
        "IPY_MODEL_dcf3977513154775907255134c1d3738",
        "IPY_MODEL_0696fb9e6c5e45e29eb6ca0134cdc3b0",
        "IPY_MODEL_df41a9f5fe164a0696ab1be3a689dc12"
       ],
       "layout": "IPY_MODEL_753df30400a94b9894afacb89f63b183"
      }
     },
     "5cabbc6e951a4bfa80bd91fe7b43890d": {
      "model_module": "@jupyter-widgets/controls",
      "model_module_version": "1.5.0",
      "model_name": "DescriptionStyleModel",
      "state": {
       "_model_module": "@jupyter-widgets/controls",
       "_model_module_version": "1.5.0",
       "_model_name": "DescriptionStyleModel",
       "_view_count": null,
       "_view_module": "@jupyter-widgets/base",
       "_view_module_version": "1.2.0",
       "_view_name": "StyleView",
       "description_width": ""
      }
     },
     "66cf0bb7db6d4974bd3173338f9ea164": {
      "model_module": "@jupyter-widgets/base",
      "model_module_version": "1.2.0",
      "model_name": "LayoutModel",
      "state": {
       "_model_module": "@jupyter-widgets/base",
       "_model_module_version": "1.2.0",
       "_model_name": "LayoutModel",
       "_view_count": null,
       "_view_module": "@jupyter-widgets/base",
       "_view_module_version": "1.2.0",
       "_view_name": "LayoutView",
       "align_content": null,
       "align_items": null,
       "align_self": null,
       "border": null,
       "bottom": null,
       "display": null,
       "flex": null,
       "flex_flow": null,
       "grid_area": null,
       "grid_auto_columns": null,
       "grid_auto_flow": null,
       "grid_auto_rows": null,
       "grid_column": null,
       "grid_gap": null,
       "grid_row": null,
       "grid_template_areas": null,
       "grid_template_columns": null,
       "grid_template_rows": null,
       "height": null,
       "justify_content": null,
       "justify_items": null,
       "left": null,
       "margin": null,
       "max_height": null,
       "max_width": null,
       "min_height": null,
       "min_width": null,
       "object_fit": null,
       "object_position": null,
       "order": null,
       "overflow": null,
       "overflow_x": null,
       "overflow_y": null,
       "padding": null,
       "right": null,
       "top": null,
       "visibility": null,
       "width": null
      }
     },
     "753df30400a94b9894afacb89f63b183": {
      "model_module": "@jupyter-widgets/base",
      "model_module_version": "1.2.0",
      "model_name": "LayoutModel",
      "state": {
       "_model_module": "@jupyter-widgets/base",
       "_model_module_version": "1.2.0",
       "_model_name": "LayoutModel",
       "_view_count": null,
       "_view_module": "@jupyter-widgets/base",
       "_view_module_version": "1.2.0",
       "_view_name": "LayoutView",
       "align_content": null,
       "align_items": null,
       "align_self": null,
       "border": null,
       "bottom": null,
       "display": null,
       "flex": null,
       "flex_flow": null,
       "grid_area": null,
       "grid_auto_columns": null,
       "grid_auto_flow": null,
       "grid_auto_rows": null,
       "grid_column": null,
       "grid_gap": null,
       "grid_row": null,
       "grid_template_areas": null,
       "grid_template_columns": null,
       "grid_template_rows": null,
       "height": null,
       "justify_content": null,
       "justify_items": null,
       "left": null,
       "margin": null,
       "max_height": null,
       "max_width": null,
       "min_height": null,
       "min_width": null,
       "object_fit": null,
       "object_position": null,
       "order": null,
       "overflow": null,
       "overflow_x": null,
       "overflow_y": null,
       "padding": null,
       "right": null,
       "top": null,
       "visibility": null,
       "width": null
      }
     },
     "c131ae18851d44da8790635ee943f7f5": {
      "model_module": "@jupyter-widgets/base",
      "model_module_version": "1.2.0",
      "model_name": "LayoutModel",
      "state": {
       "_model_module": "@jupyter-widgets/base",
       "_model_module_version": "1.2.0",
       "_model_name": "LayoutModel",
       "_view_count": null,
       "_view_module": "@jupyter-widgets/base",
       "_view_module_version": "1.2.0",
       "_view_name": "LayoutView",
       "align_content": null,
       "align_items": null,
       "align_self": null,
       "border": null,
       "bottom": null,
       "display": null,
       "flex": null,
       "flex_flow": null,
       "grid_area": null,
       "grid_auto_columns": null,
       "grid_auto_flow": null,
       "grid_auto_rows": null,
       "grid_column": null,
       "grid_gap": null,
       "grid_row": null,
       "grid_template_areas": null,
       "grid_template_columns": null,
       "grid_template_rows": null,
       "height": null,
       "justify_content": null,
       "justify_items": null,
       "left": null,
       "margin": null,
       "max_height": null,
       "max_width": null,
       "min_height": null,
       "min_width": null,
       "object_fit": null,
       "object_position": null,
       "order": null,
       "overflow": null,
       "overflow_x": null,
       "overflow_y": null,
       "padding": null,
       "right": null,
       "top": null,
       "visibility": null,
       "width": null
      }
     },
     "cb7e00d1f3024e208483f11dee7543f4": {
      "model_module": "@jupyter-widgets/controls",
      "model_module_version": "1.5.0",
      "model_name": "DescriptionStyleModel",
      "state": {
       "_model_module": "@jupyter-widgets/controls",
       "_model_module_version": "1.5.0",
       "_model_name": "DescriptionStyleModel",
       "_view_count": null,
       "_view_module": "@jupyter-widgets/base",
       "_view_module_version": "1.2.0",
       "_view_name": "StyleView",
       "description_width": ""
      }
     },
     "dcf3977513154775907255134c1d3738": {
      "model_module": "@jupyter-widgets/controls",
      "model_module_version": "1.5.0",
      "model_name": "HTMLModel",
      "state": {
       "_dom_classes": [],
       "_model_module": "@jupyter-widgets/controls",
       "_model_module_version": "1.5.0",
       "_model_name": "HTMLModel",
       "_view_count": null,
       "_view_module": "@jupyter-widgets/controls",
       "_view_module_version": "1.5.0",
       "_view_name": "HTMLView",
       "description": "",
       "description_tooltip": null,
       "layout": "IPY_MODEL_66cf0bb7db6d4974bd3173338f9ea164",
       "placeholder": "​",
       "style": "IPY_MODEL_cb7e00d1f3024e208483f11dee7543f4",
       "value": "100%"
      }
     },
     "df41a9f5fe164a0696ab1be3a689dc12": {
      "model_module": "@jupyter-widgets/controls",
      "model_module_version": "1.5.0",
      "model_name": "HTMLModel",
      "state": {
       "_dom_classes": [],
       "_model_module": "@jupyter-widgets/controls",
       "_model_module_version": "1.5.0",
       "_model_name": "HTMLModel",
       "_view_count": null,
       "_view_module": "@jupyter-widgets/controls",
       "_view_module_version": "1.5.0",
       "_view_name": "HTMLView",
       "description": "",
       "description_tooltip": null,
       "layout": "IPY_MODEL_29a5c79ae5bf4fe89933a957b9cf1115",
       "placeholder": "​",
       "style": "IPY_MODEL_5cabbc6e951a4bfa80bd91fe7b43890d",
       "value": " 54.7M/54.7M [00:02&lt;00:00, 26.0MB/s]"
      }
     },
     "ea016a9bf1174f4390037a67ffcc5154": {
      "model_module": "@jupyter-widgets/controls",
      "model_module_version": "1.5.0",
      "model_name": "ProgressStyleModel",
      "state": {
       "_model_module": "@jupyter-widgets/controls",
       "_model_module_version": "1.5.0",
       "_model_name": "ProgressStyleModel",
       "_view_count": null,
       "_view_module": "@jupyter-widgets/base",
       "_view_module_version": "1.2.0",
       "_view_name": "StyleView",
       "bar_color": null,
       "description_width": ""
      }
     }
    },
    "version_major": 2,
    "version_minor": 0
   }
  }
 },
 "nbformat": 4,
 "nbformat_minor": 5
}
