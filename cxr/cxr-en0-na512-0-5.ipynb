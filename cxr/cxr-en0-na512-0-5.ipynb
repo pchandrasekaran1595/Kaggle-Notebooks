{
 "cells": [
  {
   "cell_type": "markdown",
   "id": "90d142d1",
   "metadata": {
    "_cell_guid": "b1076dfc-b9ad-4769-8c92-a6c4dae69d19",
    "_uuid": "8f2839f25d086af736a60e9eeb907d3b93b6e0e5",
    "papermill": {
     "duration": 0.010825,
     "end_time": "2022-07-19T12:40:08.585237",
     "exception": false,
     "start_time": "2022-07-19T12:40:08.574412",
     "status": "completed"
    },
    "tags": []
   },
   "source": [
    "### **Setup**"
   ]
  },
  {
   "cell_type": "code",
   "execution_count": 1,
   "id": "0f6b6b98",
   "metadata": {
    "execution": {
     "iopub.execute_input": "2022-07-19T12:40:08.613326Z",
     "iopub.status.busy": "2022-07-19T12:40:08.611963Z",
     "iopub.status.idle": "2022-07-19T12:40:22.270377Z",
     "shell.execute_reply": "2022-07-19T12:40:22.268656Z"
    },
    "papermill": {
     "duration": 13.67746,
     "end_time": "2022-07-19T12:40:22.274413",
     "exception": false,
     "start_time": "2022-07-19T12:40:08.596953",
     "status": "completed"
    },
    "tags": []
   },
   "outputs": [
    {
     "name": "stderr",
     "output_type": "stream",
     "text": [
      "WARNING: Running pip as the 'root' user can result in broken permissions and conflicting behaviour with the system package manager. It is recommended to use a virtual environment instead: https://pip.pypa.io/warnings/venv\n"
     ]
    }
   ],
   "source": [
    "%%bash\n",
    "pip install timm -q"
   ]
  },
  {
   "cell_type": "markdown",
   "id": "a40ccacb",
   "metadata": {
    "papermill": {
     "duration": 0.005775,
     "end_time": "2022-07-19T12:40:22.286248",
     "exception": false,
     "start_time": "2022-07-19T12:40:22.280473",
     "status": "completed"
    },
    "tags": []
   },
   "source": [
    "### **Library Imports**"
   ]
  },
  {
   "cell_type": "code",
   "execution_count": 2,
   "id": "c0c50df5",
   "metadata": {
    "execution": {
     "iopub.execute_input": "2022-07-19T12:40:22.298811Z",
     "iopub.status.busy": "2022-07-19T12:40:22.298501Z",
     "iopub.status.idle": "2022-07-19T12:40:26.767520Z",
     "shell.execute_reply": "2022-07-19T12:40:26.766166Z"
    },
    "papermill": {
     "duration": 4.478776,
     "end_time": "2022-07-19T12:40:26.770541",
     "exception": false,
     "start_time": "2022-07-19T12:40:22.291765",
     "status": "completed"
    },
    "tags": []
   },
   "outputs": [],
   "source": [
    "import os\n",
    "import re\n",
    "import cv2\n",
    "import timm\n",
    "import torch\n",
    "import numpy as np\n",
    "import pandas as pd\n",
    "import matplotlib.pyplot as plt\n",
    "\n",
    "from time import time\n",
    "from torch import nn, optim\n",
    "from torch.utils.data import Dataset\n",
    "from torch.utils.data import DataLoader as DL\n",
    "from torchvision import models, transforms\n",
    "\n",
    "from sklearn.model_selection import KFold\n",
    "from sklearn.preprocessing import LabelEncoder\n",
    "from sklearn.metrics import accuracy_score, \\\n",
    "                            precision_recall_fscore_support, \\\n",
    "                            roc_auc_score, \\\n",
    "                            classification_report, \\\n",
    "                            confusion_matrix"
   ]
  },
  {
   "cell_type": "markdown",
   "id": "51ce8152",
   "metadata": {
    "papermill": {
     "duration": 0.006121,
     "end_time": "2022-07-19T12:40:26.782678",
     "exception": false,
     "start_time": "2022-07-19T12:40:26.776557",
     "status": "completed"
    },
    "tags": []
   },
   "source": [
    "### **Helpers**"
   ]
  },
  {
   "cell_type": "code",
   "execution_count": 3,
   "id": "e5ead642",
   "metadata": {
    "execution": {
     "iopub.execute_input": "2022-07-19T12:40:26.797554Z",
     "iopub.status.busy": "2022-07-19T12:40:26.795946Z",
     "iopub.status.idle": "2022-07-19T12:40:26.812590Z",
     "shell.execute_reply": "2022-07-19T12:40:26.811520Z"
    },
    "papermill": {
     "duration": 0.026848,
     "end_time": "2022-07-19T12:40:26.815333",
     "exception": false,
     "start_time": "2022-07-19T12:40:26.788485",
     "status": "completed"
    },
    "tags": []
   },
   "outputs": [],
   "source": [
    "SEED = 42\n",
    "SIZE = 384\n",
    "\n",
    "def breaker(num: int=50, char: str=\"*\") -> None:\n",
    "    print(\"\\n\" + num*char + \"\\n\")\n",
    "\n",
    "    \n",
    "def get_image(path: str, size: int=224) -> np.ndarray:\n",
    "    image = cv2.imread(path, cv2.IMREAD_COLOR)\n",
    "    image = cv2.cvtColor(src=image, code=cv2.COLOR_BGR2RGB)\n",
    "    return cv2.resize(src=image, dsize=(size, size), interpolation=cv2.INTER_AREA)\n",
    "\n",
    "\n",
    "def show_loss_graphs(L: list) -> None:\n",
    "    TL, VL = [], []\n",
    "    for i in range(len(L)):\n",
    "        TL.append(L[i][\"train\"])\n",
    "        VL.append(L[i][\"valid\"])\n",
    "    x_Axis = np.arange(1, len(TL) + 1)\n",
    "    plt.figure()\n",
    "    plt.plot(x_Axis, TL, \"r\", label=\"Train\")\n",
    "    plt.plot(x_Axis, VL, \"b\", label=\"Valid\")\n",
    "    plt.legend()\n",
    "    plt.grid()\n",
    "    plt.title(\"Loss Graph\")\n",
    "    plt.show()\n",
    "\n",
    "    \n",
    "def show_accuracy_graphs(A: list) -> None:\n",
    "    TA, VA = [], []\n",
    "    for i in range(len(A)):\n",
    "        TA.append(A[i][\"train\"])\n",
    "        VA.append(A[i][\"valid\"])\n",
    "    x_Axis = np.arange(1, len(TA) + 1)\n",
    "    plt.figure()\n",
    "    plt.plot(x_Axis, TA, \"r\", label=\"Train\")\n",
    "    plt.plot(x_Axis, VA, \"b\", label=\"Valid\")\n",
    "    plt.legend()\n",
    "    plt.grid()\n",
    "    plt.title(\"Accuracy Graph\")\n",
    "    plt.show()\n",
    "\n",
    "    \n",
    "def show_lr_graph(LR: list) -> None:\n",
    "    x_Axis = [i+1 for i in range(len(LR))]\n",
    "    plt.figure(figsize=(8, 6))\n",
    "    plt.plot(x_Axis, LR, \"rx\")\n",
    "    plt.grid()\n",
    "    plt.show()"
   ]
  },
  {
   "cell_type": "markdown",
   "id": "4133d218",
   "metadata": {
    "papermill": {
     "duration": 0.005583,
     "end_time": "2022-07-19T12:40:26.826798",
     "exception": false,
     "start_time": "2022-07-19T12:40:26.821215",
     "status": "completed"
    },
    "tags": []
   },
   "source": [
    "### **Configuration**"
   ]
  },
  {
   "cell_type": "code",
   "execution_count": 4,
   "id": "69670896",
   "metadata": {
    "execution": {
     "iopub.execute_input": "2022-07-19T12:40:26.839621Z",
     "iopub.status.busy": "2022-07-19T12:40:26.839339Z",
     "iopub.status.idle": "2022-07-19T12:40:26.926753Z",
     "shell.execute_reply": "2022-07-19T12:40:26.925672Z"
    },
    "papermill": {
     "duration": 0.096884,
     "end_time": "2022-07-19T12:40:26.929505",
     "exception": false,
     "start_time": "2022-07-19T12:40:26.832621",
     "status": "completed"
    },
    "tags": []
   },
   "outputs": [],
   "source": [
    "class CFG(object):\n",
    "    def __init__(self, \n",
    "                 seed: int = 42,\n",
    "                 size: int = 224,\n",
    "                 n_splits: int = 5,\n",
    "                 batch_size: int = 16,\n",
    "                 epochs: int = 25,\n",
    "                 early_stopping: int = 5,\n",
    "                 lr: float = 1e-4,\n",
    "                 wd: float = 0.0,\n",
    "                 max_lr: float = 1e-3,\n",
    "                 pct_start: float = 0.2,\n",
    "                 steps_per_epoch: int = 100,\n",
    "                 div_factor: int = 1e3, \n",
    "                 final_div_factor: float = 1e3,\n",
    "                 ):\n",
    "        self.seed = seed\n",
    "        self.size = size\n",
    "        self.n_splits = n_splits\n",
    "        self.batch_size = batch_size\n",
    "        self.epochs = epochs\n",
    "        self.early_stopping = early_stopping\n",
    "        self.lr = lr\n",
    "        self.wd = wd\n",
    "        self.max_lr = max_lr\n",
    "        self.pct_start = pct_start\n",
    "        self.steps_per_epoch = steps_per_epoch\n",
    "        self.div_factor = div_factor\n",
    "        self.final_div_factor = final_div_factor\n",
    "        self.device = torch.device(\"cuda\" if torch.cuda.is_available() else \"cpu\")\n",
    "        self.transform = transforms.Compose([transforms.ToTensor(),\n",
    "                                transforms.Normalize([0.5, 0.5, 0.5],\n",
    "                                                     [0.5, 0.5, 0.5]),\n",
    "                                ])\n",
    "        self.save_path = \"saves\"\n",
    "        if not os.path.exists(self.save_path): os.makedirs(self.save_path)\n",
    "    \n",
    "cfg = CFG(seed=SEED, size=SIZE)"
   ]
  },
  {
   "cell_type": "markdown",
   "id": "b9a1b786",
   "metadata": {
    "papermill": {
     "duration": 0.005475,
     "end_time": "2022-07-19T12:40:26.940496",
     "exception": false,
     "start_time": "2022-07-19T12:40:26.935021",
     "status": "completed"
    },
    "tags": []
   },
   "source": [
    "### **Dataset Template**"
   ]
  },
  {
   "cell_type": "code",
   "execution_count": 5,
   "id": "5dea4f25",
   "metadata": {
    "execution": {
     "iopub.execute_input": "2022-07-19T12:40:26.952745Z",
     "iopub.status.busy": "2022-07-19T12:40:26.952473Z",
     "iopub.status.idle": "2022-07-19T12:40:26.960453Z",
     "shell.execute_reply": "2022-07-19T12:40:26.959209Z"
    },
    "papermill": {
     "duration": 0.01699,
     "end_time": "2022-07-19T12:40:26.962989",
     "exception": false,
     "start_time": "2022-07-19T12:40:26.945999",
     "status": "completed"
    },
    "tags": []
   },
   "outputs": [],
   "source": [
    "class DS(Dataset):\n",
    "    def __init__(self, \n",
    "                 filenames: np.ndarray,\n",
    "                 labels: np.ndarray,\n",
    "                 size: int,\n",
    "                 transform=None\n",
    "                ):\n",
    "        \n",
    "        self.filenames = filenames\n",
    "        self.labels = labels\n",
    "        self.size = size\n",
    "        self.transform = transform\n",
    "    \n",
    "    def __len__(self):\n",
    "        return self.filenames.shape[0]\n",
    "\n",
    "    def __getitem__(self, idx):\n",
    "        image = get_image(self.filenames[idx], self.size)\n",
    "        if self.labels is not None:\n",
    "            return self.transform(image), torch.FloatTensor(self.labels[idx])\n",
    "        else:\n",
    "            return self.transform(image)"
   ]
  },
  {
   "cell_type": "markdown",
   "id": "5e33c21b",
   "metadata": {
    "papermill": {
     "duration": 0.005864,
     "end_time": "2022-07-19T12:40:26.974987",
     "exception": false,
     "start_time": "2022-07-19T12:40:26.969123",
     "status": "completed"
    },
    "tags": []
   },
   "source": [
    "### **Model**"
   ]
  },
  {
   "cell_type": "code",
   "execution_count": 6,
   "id": "d7673bf5",
   "metadata": {
    "execution": {
     "iopub.execute_input": "2022-07-19T12:40:26.989532Z",
     "iopub.status.busy": "2022-07-19T12:40:26.988982Z",
     "iopub.status.idle": "2022-07-19T12:40:27.005237Z",
     "shell.execute_reply": "2022-07-19T12:40:27.004034Z"
    },
    "papermill": {
     "duration": 0.02628,
     "end_time": "2022-07-19T12:40:27.007771",
     "exception": false,
     "start_time": "2022-07-19T12:40:26.981491",
     "status": "completed"
    },
    "tags": []
   },
   "outputs": [],
   "source": [
    "class Model(nn.Module):\n",
    "    def __init__(self, model_name: str=\"resnet50\"):\n",
    "        super(Model, self).__init__()\n",
    "\n",
    "        if model_name == \"resnet34\":\n",
    "            self.model = models.resnet34(pretrained=True, progress=False)\n",
    "            self.model.fc = nn.Linear(in_features=self.model.fc.in_features, out_features=1)\n",
    "        \n",
    "        elif model_name == \"resnet50\":\n",
    "            self.model = models.resnet50(pretrained=True, progress=False)\n",
    "            self.model.fc = nn.Linear(in_features=self.model.fc.in_features, out_features=1)\n",
    "        \n",
    "        elif model_name == \"tv_resnet50\":\n",
    "            self.model = timm.create_model(model_name=model_name, pretrained=True)\n",
    "            self.model.fc = nn.Linear(in_features=self.model.fc.in_features, out_features=1)\n",
    "\n",
    "        elif model_name == \"densenet169\":\n",
    "            self.model = models.densenet169(pretrained=True, progress=True)\n",
    "            self.model.classifier = nn.Linear(in_features=self.model.classifier.in_features, out_features=1)\n",
    "\n",
    "        elif model_name == \"densenet201\":\n",
    "            self.model = models.densenet201(pretrained=True, progress=True)\n",
    "            self.model.classifier = nn.Linear(in_features=self.model.classifier.in_features, out_features=1)\n",
    "            \n",
    "        elif model_name == \"tv_densenet121\":\n",
    "            self.model = timm.create_model(model_name=model_name, pretrained=True)\n",
    "            self.model.classifier = nn.Linear(in_features=self.model.classifier.in_features, out_features=1)\n",
    "        \n",
    "        elif model_name == \"efficientnet_b0\":\n",
    "            self.model = timm.create_model(model_name=model_name, pretrained=True)\n",
    "            self.model.classifier = nn.Linear(in_features=self.model.classifier.in_features, out_features=1)\n",
    "        \n",
    "        elif model_name == \"efficientnet_b2\":\n",
    "            self.model = timm.create_model(model_name=model_name, pretrained=True)\n",
    "            self.model.classifier = nn.Linear(in_features=self.model.classifier.in_features, out_features=1)\n",
    "        \n",
    "        else:\n",
    "            raise NotImplementedError(\"Invalid Model Name. Model not currently available\")\n",
    "            \n",
    "    def freeze(self):\n",
    "        for params in self.parameters(): params.requires_grad = False\n",
    "\n",
    "    def forward(self, x):\n",
    "        return self.model(x)"
   ]
  },
  {
   "cell_type": "markdown",
   "id": "7698fdeb",
   "metadata": {
    "papermill": {
     "duration": 0.00581,
     "end_time": "2022-07-19T12:40:27.019498",
     "exception": false,
     "start_time": "2022-07-19T12:40:27.013688",
     "status": "completed"
    },
    "tags": []
   },
   "source": [
    "### **Fit**"
   ]
  },
  {
   "cell_type": "code",
   "execution_count": 7,
   "id": "3b9845f3",
   "metadata": {
    "execution": {
     "iopub.execute_input": "2022-07-19T12:40:27.033532Z",
     "iopub.status.busy": "2022-07-19T12:40:27.032859Z",
     "iopub.status.idle": "2022-07-19T12:40:27.062688Z",
     "shell.execute_reply": "2022-07-19T12:40:27.061439Z"
    },
    "papermill": {
     "duration": 0.039811,
     "end_time": "2022-07-19T12:40:27.065389",
     "exception": false,
     "start_time": "2022-07-19T12:40:27.025578",
     "status": "completed"
    },
    "tags": []
   },
   "outputs": [],
   "source": [
    "def fit(model=None,\n",
    "        model_name=None,\n",
    "        optimizer=None, \n",
    "        scheduler_rlrop=None,\n",
    "        scheduler_oclr=None,\n",
    "        epochs=None, \n",
    "        early_stopping_patience=None, \n",
    "        dataloaders=None, \n",
    "        fold=None, \n",
    "        save_path=None,\n",
    "        device=None,\n",
    "        verbose=False) -> tuple:\n",
    "    \n",
    "    def get_accuracy(y_pred, y_true):\n",
    "        y_pred = torch.sigmoid(y_pred)\n",
    "        \n",
    "        y_pred[y_pred > 0.5] = 1\n",
    "        y_pred[y_pred <= 0.5] = 0\n",
    "        \n",
    "        return torch.count_nonzero(y_pred == y_true).item() / len(y_pred)\n",
    "    \n",
    "    \n",
    "    if verbose:\n",
    "        breaker()\n",
    "        print(f\" ----- {model_name.upper()} -----\")\n",
    "        breaker()\n",
    "        if fold: print(f\"Training Fold {fold}...\")\n",
    "        else: print(\"Training ...\")\n",
    "        breaker()\n",
    "    \n",
    "    bestLoss: dict = {\"train\" : np.inf, \"valid\" : np.inf} \n",
    "    bestAccs: dict = {\"train\" : 0.0, \"valid\" : 0.0}\n",
    "    \n",
    "    Losses: list = []\n",
    "    Accuracies: list = [] \n",
    "    LRs: list = []\n",
    "        \n",
    "    if fold: \n",
    "        ble_name = f\"{model_name}_ble_state_fold_{fold}.pt\"\n",
    "        bae_name = f\"{model_name}_bae_state_fold_{fold}.pt\"\n",
    "    else: \n",
    "        ble_name = f\"{model_name}_ble_state.pt\"\n",
    "        bae_name = f\"{model_name}_bae_state.pt\"\n",
    "        \n",
    "    start_time = time()\n",
    "    for e in range(epochs):\n",
    "        e_st = time()\n",
    "        epochLoss: dict = {\"train\" : 0.0, \"valid\" : 0.0} \n",
    "        epochAccs: dict = {\"train\" : 0.0, \"valid\" : 0.0}\n",
    "\n",
    "        for phase in [\"train\", \"valid\"]:\n",
    "            if phase == \"train\":\n",
    "                model.train()\n",
    "            else:\n",
    "                model.eval()\n",
    "            \n",
    "            lossPerPass: list = []\n",
    "            accsPerPass: list = []\n",
    "            \n",
    "            for X, y in dataloaders[phase]:\n",
    "                X, y = X.to(device), y.to(device)\n",
    "\n",
    "                optimizer.zero_grad()\n",
    "                with torch.set_grad_enabled(phase == \"train\"):\n",
    "                    output = model(X)\n",
    "                    loss = torch.nn.BCEWithLogitsLoss()(output, y)\n",
    "                    if phase == \"train\":\n",
    "                        loss.backward()\n",
    "                        optimizer.step()\n",
    "                        if scheduler_oclr: scheduler_oclr.step()\n",
    "                lossPerPass.append(loss.item())\n",
    "                accsPerPass.append(get_accuracy(output, y))\n",
    "            epochLoss[phase] = np.mean(np.array(lossPerPass))\n",
    "            epochAccs[phase] = np.mean(np.array(accsPerPass))\n",
    "        if scheduler_oclr: LRs.append(scheduler_oclr.get_last_lr())\n",
    "        Losses.append(epochLoss)\n",
    "        Accuracies.append(epochAccs)\n",
    "        \n",
    "        if scheduler_oclr:\n",
    "            save_dict = {\"model_state_dict\"     : model.state_dict(),\n",
    "                         \"optim_state_dict\"     : optimizer.state_dict(),\n",
    "                         \"scheduler_state_dict\" : scheduler_oclr.state_dict()}\n",
    "        \n",
    "        elif scheduler_rlrop:\n",
    "            save_dict = {\"model_state_dict\"     : model.state_dict(),\n",
    "                         \"optim_state_dict\"     : optimizer.state_dict(),\n",
    "                         \"scheduler_state_dict\" : scheduler_rlrop.state_dict()}\n",
    "        \n",
    "        else:\n",
    "            save_dict = {\"model_state_dict\"     : model.state_dict(),\n",
    "                         \"optim_state_dict\"     : optimizer.state_dict()}\n",
    "        \n",
    "        if early_stopping_patience:\n",
    "            if epochLoss[\"valid\"] < bestLoss[\"valid\"]:\n",
    "                bestLoss = epochLoss\n",
    "                BLE = e + 1\n",
    "                torch.save(save_dict, os.path.join(save_path, ble_name))\n",
    "                torch.save(save_dict, os.path.join(save_path, bae_name))\n",
    "                early_stopping_step = 0\n",
    "            else:\n",
    "                early_stopping_step += 1\n",
    "                if early_stopping_step > early_stopping_patience:\n",
    "                    print(\"\\nEarly Stopping at Epoch {}\".format(e + 1))\n",
    "                    break\n",
    "        \n",
    "        if epochLoss[\"valid\"] < bestLoss[\"valid\"]:\n",
    "            bestLoss = epochLoss\n",
    "            BLE = e + 1\n",
    "            torch.save(save_dict,os.path.join(save_path, ble_name))\n",
    "        \n",
    "        if epochAccs[\"valid\"] > bestAccs[\"valid\"]:\n",
    "            bestAccs = epochAccs\n",
    "            BAE = e + 1\n",
    "            torch.save(save_dict,os.path.join(save_path, bae_name))\n",
    "        \n",
    "        if scheduler_rlrop: scheduler_rlrop.step(epochLoss[\"valid\"])\n",
    "        \n",
    "        if verbose:\n",
    "            print(\"Epoch: {} | Train Loss: {:.5f} | Valid Loss: {:.5f} |\\\n",
    " Train Accs: {:.5f} | Valid Accs: {:.5f} | Time: {:.2f} seconds\".format(e+1, \n",
    "                                                                        epochLoss[\"train\"], epochLoss[\"valid\"], \n",
    "                                                                        epochAccs[\"train\"], epochAccs[\"valid\"], \n",
    "                                                                        time()-e_st))\n",
    "    if verbose:                                           \n",
    "        breaker()\n",
    "        print(f\"Best Validation Loss at Epoch {BLE}\")\n",
    "        breaker()\n",
    "        print(f\"Best Validation Accs at Epoch {BAE}\")\n",
    "        breaker()\n",
    "        print(\"Time Taken [{} Epochs] : {:.2f} minutes\".format(len(Losses), (time()-start_time)/60))\n",
    "    \n",
    "    return Losses, Accuracies, LRs, BLE, BAE, ble_name, bae_name"
   ]
  },
  {
   "cell_type": "markdown",
   "id": "aa5b0e2f",
   "metadata": {
    "papermill": {
     "duration": 0.005955,
     "end_time": "2022-07-19T12:40:27.077222",
     "exception": false,
     "start_time": "2022-07-19T12:40:27.071267",
     "status": "completed"
    },
    "tags": []
   },
   "source": [
    "### **Train**"
   ]
  },
  {
   "cell_type": "code",
   "execution_count": 8,
   "id": "b5042918",
   "metadata": {
    "execution": {
     "iopub.execute_input": "2022-07-19T12:40:27.090972Z",
     "iopub.status.busy": "2022-07-19T12:40:27.090657Z",
     "iopub.status.idle": "2022-07-19T12:40:27.130295Z",
     "shell.execute_reply": "2022-07-19T12:40:27.129119Z"
    },
    "papermill": {
     "duration": 0.049131,
     "end_time": "2022-07-19T12:40:27.132697",
     "exception": false,
     "start_time": "2022-07-19T12:40:27.083566",
     "status": "completed"
    },
    "tags": []
   },
   "outputs": [],
   "source": [
    "tr_df = pd.read_csv(\"../input/cxr-dataframe/train.csv\")\n",
    "\n",
    "filenames = tr_df.filenames.copy().values\n",
    "labels = tr_df.label.copy().values"
   ]
  },
  {
   "cell_type": "code",
   "execution_count": 9,
   "id": "cb91f551",
   "metadata": {
    "execution": {
     "iopub.execute_input": "2022-07-19T12:40:27.147559Z",
     "iopub.status.busy": "2022-07-19T12:40:27.146710Z",
     "iopub.status.idle": "2022-07-19T14:46:01.649471Z",
     "shell.execute_reply": "2022-07-19T14:46:01.648051Z"
    },
    "papermill": {
     "duration": 7534.512574,
     "end_time": "2022-07-19T14:46:01.652031",
     "exception": false,
     "start_time": "2022-07-19T12:40:27.139457",
     "status": "completed"
    },
    "tags": []
   },
   "outputs": [
    {
     "name": "stderr",
     "output_type": "stream",
     "text": [
      "Downloading: \"https://github.com/rwightman/pytorch-image-models/releases/download/v0.1-weights/efficientnet_b0_ra-3dd342df.pth\" to /root/.cache/torch/hub/checkpoints/efficientnet_b0_ra-3dd342df.pth\n"
     ]
    },
    {
     "name": "stdout",
     "output_type": "stream",
     "text": [
      "\n",
      "**************************************************\n",
      "\n",
      " ----- EFFICIENTNET_B0 -----\n",
      "\n",
      "**************************************************\n",
      "\n",
      "Training Fold 1...\n",
      "\n",
      "**************************************************\n",
      "\n",
      "Epoch: 1 | Train Loss: 0.29409 | Valid Loss: 0.07171 | Train Accs: 0.87696 | Valid Accs: 0.97822 | Time: 217.05 seconds\n",
      "Epoch: 2 | Train Loss: 0.08143 | Valid Loss: 0.12316 | Train Accs: 0.96809 | Valid Accs: 0.95360 | Time: 178.96 seconds\n",
      "Epoch: 3 | Train Loss: 0.05445 | Valid Loss: 0.01800 | Train Accs: 0.97763 | Valid Accs: 0.99527 | Time: 178.50 seconds\n",
      "Epoch: 4 | Train Loss: 0.05470 | Valid Loss: 0.02675 | Train Accs: 0.97996 | Valid Accs: 0.98958 | Time: 178.34 seconds\n",
      "Epoch: 5 | Train Loss: 0.01686 | Valid Loss: 0.03045 | Train Accs: 0.99571 | Valid Accs: 0.99148 | Time: 177.94 seconds\n",
      "Epoch: 6 | Train Loss: 0.00814 | Valid Loss: 0.01609 | Train Accs: 0.99761 | Valid Accs: 0.99621 | Time: 179.09 seconds\n",
      "Epoch: 7 | Train Loss: 0.00398 | Valid Loss: 0.01656 | Train Accs: 0.99928 | Valid Accs: 0.99527 | Time: 179.51 seconds\n",
      "Epoch: 8 | Train Loss: 0.00139 | Valid Loss: 0.01201 | Train Accs: 0.99976 | Valid Accs: 0.99527 | Time: 184.15 seconds\n",
      "Epoch: 9 | Train Loss: 0.00045 | Valid Loss: 0.01510 | Train Accs: 1.00000 | Valid Accs: 0.99337 | Time: 179.96 seconds\n",
      "Epoch: 10 | Train Loss: 0.00035 | Valid Loss: 0.01256 | Train Accs: 1.00000 | Valid Accs: 0.99527 | Time: 179.24 seconds\n",
      "\n",
      "**************************************************\n",
      "\n",
      "Best Validation Loss at Epoch 8\n",
      "\n",
      "**************************************************\n",
      "\n",
      "Best Validation Accs at Epoch 6\n",
      "\n",
      "**************************************************\n",
      "\n",
      "Time Taken [10 Epochs] : 30.55 minutes\n",
      "\n",
      "**************************************************\n",
      "\n"
     ]
    },
    {
     "data": {
      "image/png": "[encoded data removed]",
      "text/plain": [
       "<Figure size 432x288 with 1 Axes>"
      ]
     },
     "metadata": {
      "needs_background": "light"
     },
     "output_type": "display_data"
    },
    {
     "name": "stdout",
     "output_type": "stream",
     "text": [
      "\n",
      "**************************************************\n",
      "\n"
     ]
    },
    {
     "data": {
      "image/png": "[encoded data removed]",
      "text/plain": [
       "<Figure size 432x288 with 1 Axes>"
      ]
     },
     "metadata": {
      "needs_background": "light"
     },
     "output_type": "display_data"
    },
    {
     "name": "stdout",
     "output_type": "stream",
     "text": [
      "\n",
      "**************************************************\n",
      "\n"
     ]
    },
    {
     "data": {
      "image/png": "[encoded data removed]",
      "text/plain": [
       "<Figure size 576x432 with 1 Axes>"
      ]
     },
     "metadata": {
      "needs_background": "light"
     },
     "output_type": "display_data"
    },
    {
     "name": "stdout",
     "output_type": "stream",
     "text": [
      "\n",
      "**************************************************\n",
      "\n",
      "\n",
      "**************************************************\n",
      "\n",
      " ----- EFFICIENTNET_B0 -----\n",
      "\n",
      "**************************************************\n",
      "\n",
      "Training Fold 2...\n",
      "\n",
      "**************************************************\n",
      "\n",
      "Epoch: 1 | Train Loss: 0.37817 | Valid Loss: 0.08687 | Train Accs: 0.83699 | Valid Accs: 0.98070 | Time: 139.00 seconds\n",
      "Epoch: 2 | Train Loss: 0.05609 | Valid Loss: 0.09494 | Train Accs: 0.97856 | Valid Accs: 0.96507 | Time: 138.11 seconds\n",
      "Epoch: 3 | Train Loss: 0.03393 | Valid Loss: 0.04330 | Train Accs: 0.98942 | Valid Accs: 0.98621 | Time: 138.77 seconds\n",
      "Epoch: 4 | Train Loss: 0.02094 | Valid Loss: 0.04775 | Train Accs: 0.99277 | Valid Accs: 0.98897 | Time: 138.29 seconds\n",
      "Epoch: 5 | Train Loss: 0.01219 | Valid Loss: 0.03963 | Train Accs: 0.99598 | Valid Accs: 0.98713 | Time: 138.61 seconds\n",
      "Epoch: 6 | Train Loss: 0.00634 | Valid Loss: 0.05667 | Train Accs: 0.99787 | Valid Accs: 0.97702 | Time: 137.92 seconds\n",
      "Epoch: 7 | Train Loss: 0.01262 | Valid Loss: 0.03474 | Train Accs: 0.99479 | Valid Accs: 0.99081 | Time: 139.48 seconds\n",
      "Epoch: 8 | Train Loss: 0.00098 | Valid Loss: 0.03010 | Train Accs: 1.00000 | Valid Accs: 0.99081 | Time: 137.99 seconds\n",
      "Epoch: 9 | Train Loss: 0.00088 | Valid Loss: 0.03026 | Train Accs: 0.99976 | Valid Accs: 0.99173 | Time: 137.96 seconds\n",
      "Epoch: 10 | Train Loss: 0.00056 | Valid Loss: 0.02992 | Train Accs: 1.00000 | Valid Accs: 0.99173 | Time: 139.59 seconds\n",
      "\n",
      "**************************************************\n",
      "\n",
      "Best Validation Loss at Epoch 10\n",
      "\n",
      "**************************************************\n",
      "\n",
      "Best Validation Accs at Epoch 9\n",
      "\n",
      "**************************************************\n",
      "\n",
      "Time Taken [10 Epochs] : 23.10 minutes\n",
      "\n",
      "**************************************************\n",
      "\n"
     ]
    },
    {
     "data": {
      "image/png": "[encoded data removed]",
      "text/plain": [
       "<Figure size 432x288 with 1 Axes>"
      ]
     },
     "metadata": {
      "needs_background": "light"
     },
     "output_type": "display_data"
    },
    {
     "name": "stdout",
     "output_type": "stream",
     "text": [
      "\n",
      "**************************************************\n",
      "\n"
     ]
    },
    {
     "data": {
      "image/png": "[encoded data removed]",
      "text/plain": [
       "<Figure size 432x288 with 1 Axes>"
      ]
     },
     "metadata": {
      "needs_background": "light"
     },
     "output_type": "display_data"
    },
    {
     "name": "stdout",
     "output_type": "stream",
     "text": [
      "\n",
      "**************************************************\n",
      "\n"
     ]
    },
    {
     "data": {
      "image/png": "[encoded data removed]",
      "text/plain": [
       "<Figure size 576x432 with 1 Axes>"
      ]
     },
     "metadata": {
      "needs_background": "light"
     },
     "output_type": "display_data"
    },
    {
     "name": "stdout",
     "output_type": "stream",
     "text": [
      "\n",
      "**************************************************\n",
      "\n",
      "\n",
      "**************************************************\n",
      "\n",
      " ----- EFFICIENTNET_B0 -----\n",
      "\n",
      "**************************************************\n",
      "\n",
      "Training Fold 3...\n",
      "\n",
      "**************************************************\n",
      "\n",
      "Epoch: 1 | Train Loss: 0.38440 | Valid Loss: 0.11373 | Train Accs: 0.82907 | Valid Accs: 0.95496 | Time: 140.91 seconds\n",
      "Epoch: 2 | Train Loss: 0.07147 | Valid Loss: 0.04677 | Train Accs: 0.97574 | Valid Accs: 0.98446 | Time: 138.51 seconds\n",
      "Epoch: 3 | Train Loss: 0.03237 | Valid Loss: 0.10302 | Train Accs: 0.98769 | Valid Accs: 0.96800 | Time: 136.08 seconds\n",
      "Epoch: 4 | Train Loss: 0.01351 | Valid Loss: 0.03416 | Train Accs: 0.99598 | Valid Accs: 0.98546 | Time: 136.86 seconds\n",
      "Epoch: 5 | Train Loss: 0.01251 | Valid Loss: 0.04621 | Train Accs: 0.99527 | Valid Accs: 0.98538 | Time: 135.82 seconds\n",
      "Epoch: 6 | Train Loss: 0.00437 | Valid Loss: 0.05330 | Train Accs: 0.99929 | Valid Accs: 0.98722 | Time: 135.83 seconds\n",
      "Epoch: 7 | Train Loss: 0.00124 | Valid Loss: 0.03633 | Train Accs: 0.99953 | Valid Accs: 0.98997 | Time: 136.88 seconds\n",
      "Epoch: 8 | Train Loss: 0.00198 | Valid Loss: 0.03928 | Train Accs: 0.99929 | Valid Accs: 0.98905 | Time: 140.57 seconds\n",
      "Epoch: 9 | Train Loss: 0.00053 | Valid Loss: 0.03832 | Train Accs: 1.00000 | Valid Accs: 0.98905 | Time: 143.80 seconds\n",
      "\n",
      "Early Stopping at Epoch 10\n",
      "\n",
      "**************************************************\n",
      "\n",
      "Best Validation Loss at Epoch 4\n",
      "\n",
      "**************************************************\n",
      "\n",
      "Best Validation Accs at Epoch 7\n",
      "\n",
      "**************************************************\n",
      "\n",
      "Time Taken [10 Epochs] : 23.10 minutes\n",
      "\n",
      "**************************************************\n",
      "\n"
     ]
    },
    {
     "data": {
      "image/png": "[encoded data removed]",
      "text/plain": [
       "<Figure size 432x288 with 1 Axes>"
      ]
     },
     "metadata": {
      "needs_background": "light"
     },
     "output_type": "display_data"
    },
    {
     "name": "stdout",
     "output_type": "stream",
     "text": [
      "\n",
      "**************************************************\n",
      "\n"
     ]
    },
    {
     "data": {
      "image/png": "[encoded data removed]",
      "text/plain": [
       "<Figure size 432x288 with 1 Axes>"
      ]
     },
     "metadata": {
      "needs_background": "light"
     },
     "output_type": "display_data"
    },
    {
     "name": "stdout",
     "output_type": "stream",
     "text": [
      "\n",
      "**************************************************\n",
      "\n"
     ]
    },
    {
     "data": {
      "image/png": "[encoded data removed]",
      "text/plain": [
       "<Figure size 576x432 with 1 Axes>"
      ]
     },
     "metadata": {
      "needs_background": "light"
     },
     "output_type": "display_data"
    },
    {
     "name": "stdout",
     "output_type": "stream",
     "text": [
      "\n",
      "**************************************************\n",
      "\n",
      "\n",
      "**************************************************\n",
      "\n",
      " ----- EFFICIENTNET_B0 -----\n",
      "\n",
      "**************************************************\n",
      "\n",
      "Training Fold 4...\n",
      "\n",
      "**************************************************\n",
      "\n",
      "Epoch: 1 | Train Loss: 0.39026 | Valid Loss: 0.31734 | Train Accs: 0.82268 | Valid Accs: 0.88971 | Time: 143.26 seconds\n",
      "Epoch: 2 | Train Loss: 0.06024 | Valid Loss: 0.08050 | Train Accs: 0.97798 | Valid Accs: 0.97518 | Time: 141.32 seconds\n",
      "Epoch: 3 | Train Loss: 0.04865 | Valid Loss: 0.10841 | Train Accs: 0.98261 | Valid Accs: 0.96691 | Time: 142.49 seconds\n",
      "Epoch: 4 | Train Loss: 0.01666 | Valid Loss: 0.02726 | Train Accs: 0.99374 | Valid Accs: 0.99081 | Time: 142.66 seconds\n",
      "Epoch: 5 | Train Loss: 0.01173 | Valid Loss: 0.02831 | Train Accs: 0.99598 | Valid Accs: 0.99265 | Time: 142.64 seconds\n",
      "Epoch: 6 | Train Loss: 0.00506 | Valid Loss: 0.01816 | Train Accs: 0.99929 | Valid Accs: 0.99265 | Time: 143.70 seconds\n",
      "Epoch: 7 | Train Loss: 0.00301 | Valid Loss: 0.01018 | Train Accs: 0.99905 | Valid Accs: 0.99724 | Time: 147.26 seconds\n",
      "Epoch: 8 | Train Loss: 0.00099 | Valid Loss: 0.01202 | Train Accs: 0.99976 | Valid Accs: 0.99632 | Time: 147.36 seconds\n",
      "Epoch: 9 | Train Loss: 0.00068 | Valid Loss: 0.01498 | Train Accs: 1.00000 | Valid Accs: 0.99632 | Time: 146.80 seconds\n",
      "Epoch: 10 | Train Loss: 0.00143 | Valid Loss: 0.01229 | Train Accs: 0.99942 | Valid Accs: 0.99540 | Time: 146.97 seconds\n",
      "\n",
      "**************************************************\n",
      "\n",
      "Best Validation Loss at Epoch 7\n",
      "\n",
      "**************************************************\n",
      "\n",
      "Best Validation Accs at Epoch 7\n",
      "\n",
      "**************************************************\n",
      "\n",
      "Time Taken [10 Epochs] : 24.07 minutes\n",
      "\n",
      "**************************************************\n",
      "\n"
     ]
    },
    {
     "data": {
      "image/png": "[encoded data removed]",
      "text/plain": [
       "<Figure size 432x288 with 1 Axes>"
      ]
     },
     "metadata": {
      "needs_background": "light"
     },
     "output_type": "display_data"
    },
    {
     "name": "stdout",
     "output_type": "stream",
     "text": [
      "\n",
      "**************************************************\n",
      "\n"
     ]
    },
    {
     "data": {
      "image/png": "[encoded data removed]",
      "text/plain": [
       "<Figure size 432x288 with 1 Axes>"
      ]
     },
     "metadata": {
      "needs_background": "light"
     },
     "output_type": "display_data"
    },
    {
     "name": "stdout",
     "output_type": "stream",
     "text": [
      "\n",
      "**************************************************\n",
      "\n"
     ]
    },
    {
     "data": {
      "image/png": "[encoded data removed]",
      "text/plain": [
       "<Figure size 576x432 with 1 Axes>"
      ]
     },
     "metadata": {
      "needs_background": "light"
     },
     "output_type": "display_data"
    },
    {
     "name": "stdout",
     "output_type": "stream",
     "text": [
      "\n",
      "**************************************************\n",
      "\n",
      "\n",
      "**************************************************\n",
      "\n",
      " ----- EFFICIENTNET_B0 -----\n",
      "\n",
      "**************************************************\n",
      "\n",
      "Training Fold 5...\n",
      "\n",
      "**************************************************\n",
      "\n",
      "Epoch: 1 | Train Loss: 0.38259 | Valid Loss: 0.48816 | Train Accs: 0.82115 | Valid Accs: 0.89338 | Time: 148.65 seconds\n",
      "Epoch: 2 | Train Loss: 0.06382 | Valid Loss: 0.12019 | Train Accs: 0.97846 | Valid Accs: 0.96507 | Time: 148.28 seconds\n",
      "Epoch: 3 | Train Loss: 0.02729 | Valid Loss: 0.03641 | Train Accs: 0.99053 | Valid Accs: 0.98529 | Time: 147.38 seconds\n",
      "Epoch: 4 | Train Loss: 0.02392 | Valid Loss: 0.04821 | Train Accs: 0.99242 | Valid Accs: 0.97794 | Time: 147.60 seconds\n",
      "Epoch: 5 | Train Loss: 0.01260 | Valid Loss: 0.02417 | Train Accs: 0.99550 | Valid Accs: 0.99449 | Time: 147.49 seconds\n",
      "Epoch: 6 | Train Loss: 0.00595 | Valid Loss: 0.01350 | Train Accs: 0.99834 | Valid Accs: 0.99540 | Time: 147.86 seconds\n",
      "Epoch: 7 | Train Loss: 0.00169 | Valid Loss: 0.01199 | Train Accs: 0.99953 | Valid Accs: 0.99632 | Time: 147.06 seconds\n",
      "Epoch: 8 | Train Loss: 0.00090 | Valid Loss: 0.01410 | Train Accs: 0.99976 | Valid Accs: 0.99265 | Time: 146.68 seconds\n",
      "Epoch: 9 | Train Loss: 0.00070 | Valid Loss: 0.01469 | Train Accs: 1.00000 | Valid Accs: 0.99265 | Time: 146.66 seconds\n",
      "Epoch: 10 | Train Loss: 0.00022 | Valid Loss: 0.01373 | Train Accs: 1.00000 | Valid Accs: 0.99540 | Time: 147.15 seconds\n",
      "\n",
      "**************************************************\n",
      "\n",
      "Best Validation Loss at Epoch 7\n",
      "\n",
      "**************************************************\n",
      "\n",
      "Best Validation Accs at Epoch 7\n",
      "\n",
      "**************************************************\n",
      "\n",
      "Time Taken [10 Epochs] : 24.58 minutes\n",
      "\n",
      "**************************************************\n",
      "\n"
     ]
    },
    {
     "data": {
      "image/png": "[encoded data removed]",
      "text/plain": [
       "<Figure size 432x288 with 1 Axes>"
      ]
     },
     "metadata": {
      "needs_background": "light"
     },
     "output_type": "display_data"
    },
    {
     "name": "stdout",
     "output_type": "stream",
     "text": [
      "\n",
      "**************************************************\n",
      "\n"
     ]
    },
    {
     "data": {
      "image/png": "[encoded data removed]",
      "text/plain": [
       "<Figure size 432x288 with 1 Axes>"
      ]
     },
     "metadata": {
      "needs_background": "light"
     },
     "output_type": "display_data"
    },
    {
     "name": "stdout",
     "output_type": "stream",
     "text": [
      "\n",
      "**************************************************\n",
      "\n"
     ]
    },
    {
     "data": {
      "image/png": "[encoded data removed]",
      "text/plain": [
       "<Figure size 576x432 with 1 Axes>"
      ]
     },
     "metadata": {
      "needs_background": "light"
     },
     "output_type": "display_data"
    },
    {
     "name": "stdout",
     "output_type": "stream",
     "text": [
      "\n",
      "**************************************************\n",
      "\n"
     ]
    }
   ],
   "source": [
    "fold: int = 1\n",
    "BLEs: list = []\n",
    "BAEs: list = []\n",
    "model_name: str = \"efficientnet_b0\"\n",
    "    \n",
    "for tr_idx, va_idx in KFold(n_splits=cfg.n_splits, random_state=cfg.seed, shuffle=True).split(filenames):\n",
    "\n",
    "    tr_filenames, va_filenames = filenames[tr_idx], filenames[va_idx] \n",
    "    tr_labels, va_labels       = labels[tr_idx], labels[va_idx]\n",
    "\n",
    "    tr_data_setup = DS(\n",
    "        filenames=tr_filenames, \n",
    "        labels=tr_labels.reshape(-1, 1),\n",
    "        size=cfg.size,\n",
    "        transform=cfg.transform\n",
    "    )\n",
    "\n",
    "    va_data_setup = DS(\n",
    "        filenames=va_filenames,\n",
    "        labels=va_labels.reshape(-1, 1),\n",
    "        size=cfg.size,\n",
    "        transform=cfg.transform\n",
    "    )\n",
    "\n",
    "    dataloaders = {\n",
    "        \"train\" : DL(tr_data_setup, batch_size=cfg.batch_size, shuffle=True, generator=torch.manual_seed(cfg.seed)),\n",
    "        \"valid\" : DL(va_data_setup, batch_size=cfg.batch_size, shuffle=False),\n",
    "    }\n",
    "\n",
    "    cfg = CFG(\n",
    "        epochs=10,\n",
    "        batch_size=64, \n",
    "        lr=1e-3,\n",
    "        wd=0.0,\n",
    "        early_stopping=5,\n",
    "        steps_per_epoch=len(dataloaders[\"train\"])\n",
    "    )\n",
    "\n",
    "    torch.manual_seed(cfg.seed)\n",
    "    model = Model(model_name=model_name).to(cfg.device)\n",
    "\n",
    "    optimizer = optim.Adam([p for p in model.parameters() if p.requires_grad], lr=cfg.lr, weight_decay=cfg.wd)\n",
    "    # optimizer = optim.AdamW([p for p in model.parameters() if p.requires_grad], lr=cfg.lr, weight_decay=cfg.wd)\n",
    "    # optimizer = optim.SGD([p for p in model.parameters() if p.requires_grad], lr=cfg.lr, weight_decay=cfg.wd, momentum=0.9)\n",
    "    \n",
    "    scheduler_oclr = optim.lr_scheduler.OneCycleLR(\n",
    "        optimizer=optimizer, \n",
    "        max_lr=cfg.max_lr, \n",
    "        epochs=cfg.epochs, \n",
    "        steps_per_epoch=cfg.steps_per_epoch,\n",
    "        pct_start=cfg.pct_start, \n",
    "        div_factor=cfg.div_factor, \n",
    "        final_div_factor=cfg.final_div_factor\n",
    "    )\n",
    "\n",
    "    # scheduler_rlrop = optim.lr_scheduler.ReduceLROnPlateau(\n",
    "    #     optimizer=optimizer,\n",
    "    #     patience=cfg.patience,\n",
    "    #     eps=cfg.eps,\n",
    "    #     verbose=True\n",
    "    # )\n",
    "    \n",
    "    # scheduler_oclr = None\n",
    "    scheduler_rlrop = None\n",
    "\n",
    "\n",
    "    L, A, LR, BLE, BAE, _, _ = fit(\n",
    "        model=model, \n",
    "        model_name=model_name,\n",
    "        optimizer=optimizer, \n",
    "        scheduler_oclr=scheduler_oclr,\n",
    "        scheduler_rlrop=scheduler_rlrop,\n",
    "        epochs=cfg.epochs, \n",
    "        early_stopping_patience=cfg.early_stopping, \n",
    "        dataloaders=dataloaders, \n",
    "        device=cfg.device,\n",
    "        save_path=cfg.save_path,\n",
    "        fold=fold,\n",
    "        verbose=True\n",
    "    )\n",
    "    \n",
    "    breaker()\n",
    "    show_loss_graphs(L)\n",
    "    breaker()\n",
    "    show_accuracy_graphs(A)\n",
    "    breaker()\n",
    "    if scheduler_oclr:\n",
    "        show_lr_graph(LR)\n",
    "        breaker()\n",
    "    \n",
    "    BLEs.append(BLE)\n",
    "    BAEs.append(BAE)\n",
    "    \n",
    "    fold += 1"
   ]
  },
  {
   "cell_type": "code",
   "execution_count": 10,
   "id": "8736dc9a",
   "metadata": {
    "execution": {
     "iopub.execute_input": "2022-07-19T14:46:01.686653Z",
     "iopub.status.busy": "2022-07-19T14:46:01.685524Z",
     "iopub.status.idle": "2022-07-19T14:46:01.694153Z",
     "shell.execute_reply": "2022-07-19T14:46:01.692667Z"
    },
    "papermill": {
     "duration": 0.030012,
     "end_time": "2022-07-19T14:46:01.697947",
     "exception": false,
     "start_time": "2022-07-19T14:46:01.667935",
     "status": "completed"
    },
    "tags": []
   },
   "outputs": [
    {
     "name": "stdout",
     "output_type": "stream",
     "text": [
      "\n",
      "**************************************************\n",
      "\n",
      "Best Loss Model Fold     : 3\n",
      "Best Accuracy Model Fold : 2\n",
      "\n",
      "**************************************************\n",
      "\n"
     ]
    }
   ],
   "source": [
    "best_loss_index = BLEs.index(min(BLEs))\n",
    "best_accs_index = BAEs.index(max(BAEs))\n",
    "\n",
    "breaker()\n",
    "print(f\"Best Loss Model Fold     : {best_loss_index + 1}\")\n",
    "print(f\"Best Accuracy Model Fold : {best_accs_index + 1}\")\n",
    "breaker()"
   ]
  },
  {
   "cell_type": "markdown",
   "id": "d71169e7",
   "metadata": {
    "papermill": {
     "duration": 0.016024,
     "end_time": "2022-07-19T14:46:01.730093",
     "exception": false,
     "start_time": "2022-07-19T14:46:01.714069",
     "status": "completed"
    },
    "tags": []
   },
   "source": [
    "### **Test Set Evalutaion**"
   ]
  },
  {
   "cell_type": "code",
   "execution_count": 11,
   "id": "cffc62bf",
   "metadata": {
    "execution": {
     "iopub.execute_input": "2022-07-19T14:46:01.764693Z",
     "iopub.status.busy": "2022-07-19T14:46:01.763921Z",
     "iopub.status.idle": "2022-07-19T14:46:01.779325Z",
     "shell.execute_reply": "2022-07-19T14:46:01.778006Z"
    },
    "papermill": {
     "duration": 0.03557,
     "end_time": "2022-07-19T14:46:01.781881",
     "exception": false,
     "start_time": "2022-07-19T14:46:01.746311",
     "status": "completed"
    },
    "tags": []
   },
   "outputs": [],
   "source": [
    "def get_scores(y_true: np.ndarray, y_pred: np.ndarray) -> tuple:\n",
    "    accuracy = accuracy_score(y_pred, y_true)\n",
    "    try:\n",
    "        auc = roc_auc_score(y_pred, y_true)\n",
    "    except:\n",
    "        auc = 0\n",
    "    precision, recall, f_score, _ = precision_recall_fscore_support(y_pred, y_true)\n",
    "\n",
    "    return accuracy, auc, precision, recall, f_score\n",
    "\n",
    "\n",
    "def print_scores(\n",
    "    accuracy: float, \n",
    "    auc: float, \n",
    "    precision: np.ndarray, \n",
    "    recall: np.ndarray, \n",
    "    f_score: np.ndarray\n",
    ") -> None:\n",
    "    print(f\"Accuracy  : {accuracy:.5f}\")\n",
    "    print(f\"ROC-AUC   : {auc:.5f}\")\n",
    "    print(f\"Precision : {precision}\")\n",
    "    print(f\"Recall    : {recall}\")\n",
    "    print(f\"F-Score   : {f_score}\")\n",
    "\n",
    "\n",
    "def predict_batch(model=None, dataloader=None, path=None, device=None) -> np.ndarray:\n",
    "    model.load_state_dict(torch.load(path, map_location=device)[\"model_state_dict\"])\n",
    "    model.to(device)    \n",
    "    model.eval()\n",
    "    \n",
    "    y_pred = torch.zeros(1, 1).to(device)\n",
    "    for X in dataloader:\n",
    "        X = X.to(device)\n",
    "        with torch.no_grad():\n",
    "            output = torch.sigmoid(model(X))\n",
    "        y_pred = torch.cat((y_pred, output.view(-1, 1)), dim=0)\n",
    "    \n",
    "    y_pred[y_pred > 0.5] = 1\n",
    "    y_pred[y_pred <= 0.5] = 0\n",
    "    \n",
    "    return y_pred[1:].detach().cpu().numpy().astype(\"uint8\")"
   ]
  },
  {
   "cell_type": "code",
   "execution_count": 12,
   "id": "05beb054",
   "metadata": {
    "execution": {
     "iopub.execute_input": "2022-07-19T14:46:01.817471Z",
     "iopub.status.busy": "2022-07-19T14:46:01.816271Z",
     "iopub.status.idle": "2022-07-19T14:46:01.835088Z",
     "shell.execute_reply": "2022-07-19T14:46:01.833818Z"
    },
    "papermill": {
     "duration": 0.039977,
     "end_time": "2022-07-19T14:46:01.838054",
     "exception": false,
     "start_time": "2022-07-19T14:46:01.798077",
     "status": "completed"
    },
    "tags": []
   },
   "outputs": [],
   "source": [
    "ts_df = pd.read_csv(\"../input/cxr-dataframe/train.csv\")\n",
    "\n",
    "ts_filenames = ts_df.filenames.copy().values\n",
    "ts_labels = ts_df.label.copy().values"
   ]
  },
  {
   "cell_type": "code",
   "execution_count": 13,
   "id": "e81d0803",
   "metadata": {
    "execution": {
     "iopub.execute_input": "2022-07-19T14:46:01.872726Z",
     "iopub.status.busy": "2022-07-19T14:46:01.872331Z",
     "iopub.status.idle": "2022-07-19T14:57:07.125651Z",
     "shell.execute_reply": "2022-07-19T14:57:07.124220Z"
    },
    "papermill": {
     "duration": 665.290042,
     "end_time": "2022-07-19T14:57:07.144524",
     "exception": false,
     "start_time": "2022-07-19T14:46:01.854482",
     "status": "completed"
    },
    "tags": []
   },
   "outputs": [
    {
     "name": "stdout",
     "output_type": "stream",
     "text": [
      "\n",
      "**************************************************\n",
      "\n",
      "FOLD 1\n",
      "\n",
      "Accuracy  : 0.90787\n",
      "ROC-AUC   : 0.94286\n",
      "Precision : [0.64566345 0.99896987]\n",
      "Recall    : [0.99542857 0.89029148]\n",
      "F-Score   : [0.78327338 0.94150485]\n",
      "\n",
      "**************************************************\n",
      "\n",
      "FOLD 2\n",
      "\n",
      "Accuracy  : 0.99828\n",
      "ROC-AUC   : 0.99787\n",
      "Precision : [0.99629355 0.99896987]\n",
      "Recall    : [0.99703264 0.99871267]\n",
      "F-Score   : [0.99666296 0.99884125]\n",
      "\n",
      "**************************************************\n",
      "\n",
      "FOLD 3\n",
      "\n",
      "Accuracy  : 0.99446\n",
      "ROC-AUC   : 0.99171\n",
      "Precision : [0.9925871  0.99510688]\n",
      "Recall    : [0.98600884 0.99741869]\n",
      "F-Score   : [0.98928703 0.99626144]\n",
      "\n",
      "**************************************************\n",
      "\n",
      "FOLD 4\n",
      "\n",
      "Accuracy  : 0.99943\n",
      "ROC-AUC   : 0.99889\n",
      "Precision : [1.        0.9992274]\n",
      "Recall    : [0.99778107 1.        ]\n",
      "F-Score   : [0.9988893  0.99961355]\n",
      "\n",
      "**************************************************\n",
      "\n",
      "FOLD 5\n",
      "\n",
      "Accuracy  : 0.99924\n",
      "ROC-AUC   : 0.99900\n",
      "Precision : [0.99851742 0.99948493]\n",
      "Recall    : [0.99851742 0.99948493]\n",
      "F-Score   : [0.99851742 0.99948493]\n",
      "\n",
      "**************************************************\n",
      "\n"
     ]
    }
   ],
   "source": [
    "ts_data_setup = DS(\n",
    "    filenames=ts_filenames,\n",
    "    labels=None,\n",
    "    size=cfg.size,\n",
    "    transform=cfg.transform\n",
    ")\n",
    "ts_data = DL(ts_data_setup, batch_size=cfg.batch_size, shuffle=False)\n",
    "\n",
    "BACCs: list = []\n",
    "BAUCs: list = []\n",
    "\n",
    "breaker()\n",
    "for fold in range(cfg.n_splits):\n",
    "    model = Model(model_name=model_name).to(cfg.device)\n",
    "    \n",
    "    model_path = f\"saves/{model_name}_ble_state_fold_{fold + 1}.pt\"\n",
    "\n",
    "    y_pred = predict_batch(\n",
    "        model=model, \n",
    "        dataloader=ts_data, \n",
    "        path=model_path, \n",
    "        device=cfg.device\n",
    "    )\n",
    "    \n",
    "    accuracy, auc, precision, recall, f_score = get_scores(ts_labels, y_pred)\n",
    "    print(f\"FOLD {fold + 1}\\n\")\n",
    "    print_scores(accuracy, auc, precision, recall, f_score)\n",
    "    breaker()\n",
    "    \n",
    "    BACCs.append(accuracy)\n",
    "    BAUCs.append(auc)"
   ]
  },
  {
   "cell_type": "code",
   "execution_count": 14,
   "id": "68f437d1",
   "metadata": {
    "execution": {
     "iopub.execute_input": "2022-07-19T14:57:07.179368Z",
     "iopub.status.busy": "2022-07-19T14:57:07.178940Z",
     "iopub.status.idle": "2022-07-19T14:57:07.186417Z",
     "shell.execute_reply": "2022-07-19T14:57:07.185060Z"
    },
    "papermill": {
     "duration": 0.028378,
     "end_time": "2022-07-19T14:57:07.189605",
     "exception": false,
     "start_time": "2022-07-19T14:57:07.161227",
     "status": "completed"
    },
    "tags": []
   },
   "outputs": [
    {
     "name": "stdout",
     "output_type": "stream",
     "text": [
      "\n",
      "**************************************************\n",
      "\n",
      "Best ACC Model Fold : 4\n",
      "Best AUC Model Fold : 5\n",
      "\n",
      "**************************************************\n",
      "\n"
     ]
    }
   ],
   "source": [
    "best_accs_index = BACCs.index(max(BACCs))\n",
    "best_aucs_index = BAUCs.index(max(BAUCs))\n",
    "\n",
    "breaker()\n",
    "print(f\"Best ACC Model Fold : {best_accs_index + 1}\")\n",
    "print(f\"Best AUC Model Fold : {best_aucs_index + 1}\")\n",
    "breaker()"
   ]
  }
 ],
 "metadata": {
  "kernelspec": {
   "display_name": "Python 3",
   "language": "python",
   "name": "python3"
  },
  "language_info": {
   "codemirror_mode": {
    "name": "ipython",
    "version": 3
   },
   "file_extension": ".py",
   "mimetype": "text/x-python",
   "name": "python",
   "nbconvert_exporter": "python",
   "pygments_lexer": "ipython3",
   "version": "3.7.12"
  },
  "papermill": {
   "default_parameters": {},
   "duration": 8230.476607,
   "end_time": "2022-07-19T14:57:09.120382",
   "environment_variables": {},
   "exception": null,
   "input_path": "__notebook__.ipynb",
   "output_path": "__notebook__.ipynb",
   "parameters": {},
   "start_time": "2022-07-19T12:39:58.643775",
   "version": "2.3.4"
  }
 },
 "nbformat": 4,
 "nbformat_minor": 5
}
