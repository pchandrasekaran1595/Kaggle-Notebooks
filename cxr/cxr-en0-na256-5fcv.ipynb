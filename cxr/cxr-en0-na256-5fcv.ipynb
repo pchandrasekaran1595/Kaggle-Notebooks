{
 "cells": [
  {
   "cell_type": "code",
   "execution_count": 1,
   "id": "cf9fa5bb",
   "metadata": {
    "_cell_guid": "b1076dfc-b9ad-4769-8c92-a6c4dae69d19",
    "_uuid": "8f2839f25d086af736a60e9eeb907d3b93b6e0e5",
    "execution": {
     "iopub.execute_input": "2022-04-13T07:50:32.299609Z",
     "iopub.status.busy": "2022-04-13T07:50:32.296877Z",
     "iopub.status.idle": "2022-04-13T07:50:45.035001Z",
     "shell.execute_reply": "2022-04-13T07:50:45.033736Z"
    },
    "papermill": {
     "duration": 12.802832,
     "end_time": "2022-04-13T07:50:45.035326",
     "exception": false,
     "start_time": "2022-04-13T07:50:32.232494",
     "status": "completed"
    },
    "tags": []
   },
   "outputs": [
    {
     "name": "stderr",
     "output_type": "stream",
     "text": [
      "WARNING: Running pip as the 'root' user can result in broken permissions and conflicting behaviour with the system package manager. It is recommended to use a virtual environment instead: https://pip.pypa.io/warnings/venv\n"
     ]
    }
   ],
   "source": [
    "%%bash\n",
    "pip install --upgrade -q efficientnet_pytorch"
   ]
  },
  {
   "cell_type": "markdown",
   "id": "bf49670f",
   "metadata": {
    "papermill": {
     "duration": 0.016433,
     "end_time": "2022-04-13T07:50:45.071390",
     "exception": false,
     "start_time": "2022-04-13T07:50:45.054957",
     "status": "completed"
    },
    "tags": []
   },
   "source": [
    "### **Library Imports**"
   ]
  },
  {
   "cell_type": "code",
   "execution_count": 2,
   "id": "5affd427",
   "metadata": {
    "execution": {
     "iopub.execute_input": "2022-04-13T07:50:45.113523Z",
     "iopub.status.busy": "2022-04-13T07:50:45.112625Z",
     "iopub.status.idle": "2022-04-13T07:50:48.021528Z",
     "shell.execute_reply": "2022-04-13T07:50:48.021992Z",
     "shell.execute_reply.started": "2022-04-09T01:18:45.162484Z"
    },
    "papermill": {
     "duration": 2.933595,
     "end_time": "2022-04-13T07:50:48.022227",
     "exception": false,
     "start_time": "2022-04-13T07:50:45.088632",
     "status": "completed"
    },
    "tags": []
   },
   "outputs": [],
   "source": [
    "import os\n",
    "import re\n",
    "import torch\n",
    "import numpy as np\n",
    "import pandas as pd\n",
    "import matplotlib.pyplot as plt\n",
    "\n",
    "from time import time\n",
    "from torch import nn, optim\n",
    "from torch.utils.data import Dataset\n",
    "from torch.utils.data import DataLoader as DL\n",
    "from torchvision import models, transforms\n",
    "\n",
    "from sklearn.model_selection import KFold\n",
    "from sklearn.preprocessing import LabelEncoder\n",
    "from sklearn.metrics import accuracy_score, \\\n",
    "                            precision_recall_fscore_support, \\\n",
    "                            roc_auc_score, \\\n",
    "                            classification_report\n",
    "from efficientnet_pytorch import EfficientNet"
   ]
  },
  {
   "cell_type": "markdown",
   "id": "2d960d61",
   "metadata": {
    "papermill": {
     "duration": 0.017256,
     "end_time": "2022-04-13T07:50:48.057206",
     "exception": false,
     "start_time": "2022-04-13T07:50:48.039950",
     "status": "completed"
    },
    "tags": []
   },
   "source": [
    "### **Utilities**"
   ]
  },
  {
   "cell_type": "code",
   "execution_count": 3,
   "id": "9f9e5adc",
   "metadata": {
    "execution": {
     "iopub.execute_input": "2022-04-13T07:50:48.109656Z",
     "iopub.status.busy": "2022-04-13T07:50:48.108765Z",
     "iopub.status.idle": "2022-04-13T07:50:48.111873Z",
     "shell.execute_reply": "2022-04-13T07:50:48.111352Z",
     "shell.execute_reply.started": "2022-04-09T01:18:47.512362Z"
    },
    "papermill": {
     "duration": 0.035641,
     "end_time": "2022-04-13T07:50:48.111996",
     "exception": false,
     "start_time": "2022-04-13T07:50:48.076355",
     "status": "completed"
    },
    "tags": []
   },
   "outputs": [],
   "source": [
    "SEED = 42\n",
    "SIZE = 256\n",
    "\n",
    "def breaker(num: int=50, char: str=\"*\") -> None:\n",
    "    print(\"\\n\" + num*char + \"\\n\")\n",
    "\n",
    "\n",
    "def show_graphs(L: list, A: list) -> None:\n",
    "    TL, VL, TA, VA = [], [], [], []\n",
    "    for i in range(len(L)):\n",
    "        TL.append(L[i][\"train\"])\n",
    "        VL.append(L[i][\"valid\"])\n",
    "        TA.append(A[i][\"train\"])\n",
    "        VA.append(A[i][\"valid\"])\n",
    "    x_Axis = np.arange(1, len(TL) + 1)\n",
    "    plt.figure(figsize=(8, 6))\n",
    "    plt.subplot(1, 2, 1)\n",
    "    plt.plot(x_Axis, TL, \"r\", label=\"Train\")\n",
    "    plt.plot(x_Axis, VL, \"b\", label=\"Valid\")\n",
    "    plt.legend()\n",
    "    plt.grid()\n",
    "    plt.title(\"Loss Graph\")\n",
    "    plt.subplot(1, 2, 2)\n",
    "    plt.plot(x_Axis, TA, \"r\", label=\"Train\")\n",
    "    plt.plot(x_Axis, VA, \"b\", label=\"Valid\")\n",
    "    plt.legend()\n",
    "    plt.grid()\n",
    "    plt.title(\"Accuracy Graph\")\n",
    "    plt.show()\n",
    "\n",
    "    \n",
    "def get_scores(y_true: np.ndarray, y_pred: np.ndarray) -> tuple:\n",
    "    accuracy = accuracy_score(y_pred, y_true)\n",
    "    try:\n",
    "        auc = roc_auc_score(y_pred, y_true)\n",
    "    except:\n",
    "        auc = 0\n",
    "    precision, recall, f_score, _ = precision_recall_fscore_support(y_pred, y_true)\n",
    "\n",
    "    return accuracy, auc, precision, recall, f_score\n",
    "\n",
    "\n",
    "def print_scores(accuracy: float, auc: float, precision: np.ndarray, recall: np.ndarray, f_score: np.ndarray) -> None:\n",
    "    print(f\"Accuracy  : {accuracy:.5f}\")\n",
    "    print(f\"ROC-AUC   : {auc:.5f}\")\n",
    "    print(f\"Precision : {precision}\")\n",
    "    print(f\"Recall    : {recall}\")\n",
    "    print(f\"F-Score   : {f_score}\")"
   ]
  },
  {
   "cell_type": "markdown",
   "id": "d8467c42",
   "metadata": {
    "papermill": {
     "duration": 0.01657,
     "end_time": "2022-04-13T07:50:48.145854",
     "exception": false,
     "start_time": "2022-04-13T07:50:48.129284",
     "status": "completed"
    },
    "tags": []
   },
   "source": [
    "### **Configuration**"
   ]
  },
  {
   "cell_type": "code",
   "execution_count": 4,
   "id": "6445d16e",
   "metadata": {
    "execution": {
     "iopub.execute_input": "2022-04-13T07:50:48.252723Z",
     "iopub.status.busy": "2022-04-13T07:50:48.251782Z",
     "iopub.status.idle": "2022-04-13T07:50:48.255053Z",
     "shell.execute_reply": "2022-04-13T07:50:48.254532Z",
     "shell.execute_reply.started": "2022-04-09T01:36:52.976989Z"
    },
    "papermill": {
     "duration": 0.092037,
     "end_time": "2022-04-13T07:50:48.255215",
     "exception": false,
     "start_time": "2022-04-13T07:50:48.163178",
     "status": "completed"
    },
    "tags": []
   },
   "outputs": [],
   "source": [
    "class CFG(object):\n",
    "    def __init__(self, \n",
    "                 seed: int = 42,\n",
    "                 n_splits: int = 5,\n",
    "                 batch_size: int = 16,\n",
    "                 epochs: int = 25,\n",
    "                 early_stopping: int = 5,\n",
    "                 lr: float = 1e-4,\n",
    "                 wd: float = 0.0,\n",
    "                 max_lr: float = 1e-3,\n",
    "                 pct_start: float = 0.2,\n",
    "                 steps_per_epoch: int = 100,\n",
    "                 div_factor: int = 1e3, \n",
    "                 final_div_factor: float = 1e3,\n",
    "                 ):\n",
    "        \n",
    "        self.seed = seed\n",
    "        self.n_splits = n_splits\n",
    "        self.batch_size = batch_size\n",
    "        self.epochs = epochs\n",
    "        self.early_stopping = early_stopping\n",
    "        self.lr = lr\n",
    "        self.wd = wd\n",
    "        self.max_lr = max_lr\n",
    "        self.pct_start = pct_start\n",
    "        self.steps_per_epoch = steps_per_epoch\n",
    "        self.div_factor = div_factor\n",
    "        self.final_div_factor = final_div_factor\n",
    "        self.device = torch.device(\"cuda\" if torch.cuda.is_available() else \"cpu\")\n",
    "        self.transform = transforms.Compose([transforms.ToTensor(),\n",
    "                                transforms.Normalize([0.11899, 0.11923, 0.12643],\n",
    "                                                     [0.17037, 0.16976, 0.18014]),\n",
    "                                ])\n",
    "        self.save_path = \"saves\"\n",
    "        if not os.path.exists(self.save_path): os.makedirs(self.save_path)\n",
    "    \n",
    "cfg = CFG(seed=SEED)"
   ]
  },
  {
   "cell_type": "markdown",
   "id": "8610490f",
   "metadata": {
    "papermill": {
     "duration": 0.017485,
     "end_time": "2022-04-13T07:50:48.290423",
     "exception": false,
     "start_time": "2022-04-13T07:50:48.272938",
     "status": "completed"
    },
    "tags": []
   },
   "source": [
    "### **Dataset Template**"
   ]
  },
  {
   "cell_type": "code",
   "execution_count": 5,
   "id": "c45834c9",
   "metadata": {
    "execution": {
     "iopub.execute_input": "2022-04-13T07:50:48.333730Z",
     "iopub.status.busy": "2022-04-13T07:50:48.332594Z",
     "iopub.status.idle": "2022-04-13T07:50:48.335199Z",
     "shell.execute_reply": "2022-04-13T07:50:48.335684Z",
     "shell.execute_reply.started": "2022-04-09T01:18:47.593512Z"
    },
    "papermill": {
     "duration": 0.027607,
     "end_time": "2022-04-13T07:50:48.335829",
     "exception": false,
     "start_time": "2022-04-13T07:50:48.308222",
     "status": "completed"
    },
    "tags": []
   },
   "outputs": [],
   "source": [
    "class DS(Dataset):\n",
    "    def __init__(self, images: np.ndarray, labels: np.ndarray = None, transform=None):\n",
    "        self.images = images\n",
    "        self.labels = labels\n",
    "        self.transform = transform\n",
    "    \n",
    "    def __len__(self):\n",
    "        return self.images.shape[0]\n",
    "    \n",
    "    def __getitem__(self, idx):\n",
    "        if self.labels is not None:\n",
    "            return self.transform(self.images[idx]), torch.FloatTensor(self.labels[idx])\n",
    "        else:\n",
    "            return self.transform(self.images[idx])"
   ]
  },
  {
   "cell_type": "markdown",
   "id": "46b878e9",
   "metadata": {
    "papermill": {
     "duration": 0.017872,
     "end_time": "2022-04-13T07:50:48.372210",
     "exception": false,
     "start_time": "2022-04-13T07:50:48.354338",
     "status": "completed"
    },
    "tags": []
   },
   "source": [
    "### **Model**"
   ]
  },
  {
   "cell_type": "code",
   "execution_count": 6,
   "id": "31cb68a3",
   "metadata": {
    "execution": {
     "iopub.execute_input": "2022-04-13T07:50:48.412243Z",
     "iopub.status.busy": "2022-04-13T07:50:48.411242Z",
     "iopub.status.idle": "2022-04-13T07:50:48.414394Z",
     "shell.execute_reply": "2022-04-13T07:50:48.413829Z",
     "shell.execute_reply.started": "2022-04-09T01:18:47.606516Z"
    },
    "papermill": {
     "duration": 0.025238,
     "end_time": "2022-04-13T07:50:48.414520",
     "exception": false,
     "start_time": "2022-04-13T07:50:48.389282",
     "status": "completed"
    },
    "tags": []
   },
   "outputs": [],
   "source": [
    "class Model(nn.Module):\n",
    "    def __init__(self):\n",
    "        super(Model, self).__init__()\n",
    "\n",
    "        self.model = EfficientNet.from_pretrained(\"efficientnet-b0\")\n",
    "        self.model._fc = torch.nn.Linear(in_features=self.model._fc.in_features, out_features=1)\n",
    "\n",
    "    def forward(self, x):\n",
    "        return self.model(x)"
   ]
  },
  {
   "cell_type": "markdown",
   "id": "fb778c09",
   "metadata": {
    "papermill": {
     "duration": 0.017204,
     "end_time": "2022-04-13T07:50:48.449776",
     "exception": false,
     "start_time": "2022-04-13T07:50:48.432572",
     "status": "completed"
    },
    "tags": []
   },
   "source": [
    "### Fit and Predict Helper"
   ]
  },
  {
   "cell_type": "code",
   "execution_count": 7,
   "id": "c76e3f3a",
   "metadata": {
    "execution": {
     "iopub.execute_input": "2022-04-13T07:50:48.504372Z",
     "iopub.status.busy": "2022-04-13T07:50:48.499043Z",
     "iopub.status.idle": "2022-04-13T07:50:48.515997Z",
     "shell.execute_reply": "2022-04-13T07:50:48.516530Z",
     "shell.execute_reply.started": "2022-04-09T01:18:47.615986Z"
    },
    "papermill": {
     "duration": 0.048983,
     "end_time": "2022-04-13T07:50:48.516679",
     "exception": false,
     "start_time": "2022-04-13T07:50:48.467696",
     "status": "completed"
    },
    "tags": []
   },
   "outputs": [],
   "source": [
    "def fit(model=None, \n",
    "        optimizer=None, \n",
    "        scheduler=None, \n",
    "        epochs=None, \n",
    "        early_stopping_patience=None, \n",
    "        dataloaders=None, \n",
    "        fold=None, \n",
    "        save_path=None, \n",
    "        device=None,\n",
    "        verbose=False) -> tuple:\n",
    "    \n",
    "    def get_accuracy(y_pred, y_true):\n",
    "        y_pred = torch.sigmoid(y_pred)\n",
    "        \n",
    "        y_pred[y_pred > 0.5] = 1\n",
    "        y_pred[y_pred <= 0.5] = 0\n",
    "        \n",
    "        return torch.count_nonzero(y_pred == y_true).item() / len(y_pred)\n",
    "    \n",
    "    if verbose:\n",
    "        breaker()\n",
    "        if fold: print(f\"Training Fold {fold}...\")\n",
    "        else: print(\"Training ...\")\n",
    "        breaker()\n",
    "        \n",
    "    bestLoss, bestAccs = {\"train\" : np.inf, \"valid\" : np.inf}, {\"train\" : 0.0, \"valid\" : 0.0}\n",
    "    Losses, LRs, Accuracies = [], [], []\n",
    "    if fold: name = f\"state_fold_{fold}.pt\"\n",
    "    else: name = \"state.pt\"\n",
    "\n",
    "    start_time = time()\n",
    "    for e in range(epochs):\n",
    "        e_st = time()\n",
    "        epochLoss, epochAccs = {\"train\" : 0.0, \"valid\" : 0.0}, {\"train\" : 0.0, \"valid\" : 0.0}\n",
    "\n",
    "        for phase in [\"train\", \"valid\"]:\n",
    "            if phase == \"train\":\n",
    "                model.train()\n",
    "            else:\n",
    "                model.eval()\n",
    "            \n",
    "            lossPerPass, accsPerPass = [], []\n",
    "\n",
    "            for X, y in dataloaders[phase]:\n",
    "                X, y = X.to(device), y.to(device)\n",
    "\n",
    "                optimizer.zero_grad()\n",
    "                with torch.set_grad_enabled(phase == \"train\"):\n",
    "                    output = model(X)\n",
    "                    loss = torch.nn.BCEWithLogitsLoss()(output, y)\n",
    "                    if phase == \"train\":\n",
    "                        loss.backward()\n",
    "                        optimizer.step()\n",
    "                        if scheduler: scheduler.step()\n",
    "                lossPerPass.append(loss.item())\n",
    "                accsPerPass.append(get_accuracy(output, y))\n",
    "            epochLoss[phase] = np.mean(np.array(lossPerPass))\n",
    "            epochAccs[phase] = np.mean(np.array(accsPerPass))\n",
    "        LRs.append(scheduler.get_last_lr())\n",
    "        Losses.append(epochLoss)\n",
    "        Accuracies.append(epochAccs)\n",
    "        \n",
    "        if early_stopping_patience:\n",
    "            if epochLoss[\"valid\"] < bestLoss[\"valid\"]:\n",
    "                bestLoss = epochLoss\n",
    "                BLE = e + 1\n",
    "                torch.save({\"model_state_dict\"     : model.state_dict(),\n",
    "                            \"optim_state_dict\"     : optimizer.state_dict()},\n",
    "                           os.path.join(save_path, name))\n",
    "                early_stopping_step = 0\n",
    "            else:\n",
    "                early_stopping_step += 1\n",
    "                if early_stopping_step > early_stopping_patience:\n",
    "                    print(\"\\nEarly Stopping at Epoch {}\".format(e + 1))\n",
    "                    break\n",
    "        \n",
    "        if epochLoss[\"valid\"] < bestLoss[\"valid\"]:\n",
    "            bestLoss = epochLoss\n",
    "            BLE = e + 1\n",
    "            torch.save({\"model_state_dict\"     : model.state_dict(),\n",
    "                        \"optim_state_dict\"     : optimizer.state_dict()},\n",
    "                        os.path.join(save_path, name))\n",
    "        \n",
    "        if epochAccs[\"valid\"] > bestAccs[\"valid\"]:\n",
    "            bestAccs = epochAccs\n",
    "            BAE = e + 1\n",
    "        \n",
    "        # if scheduler: scheduler.step(epochLoss[\"valid\"])\n",
    "        \n",
    "        if verbose:\n",
    "            print(\"Epoch: {} | Train Loss: {:.5f} | Valid Loss: {:.5f} | Train Accs: {:.5f} | Valid Accs: {:.5f} | Time: {:.2f} seconds\".format(e+1, \n",
    "                                                                       epochLoss[\"train\"], epochLoss[\"valid\"], \n",
    "                                                                       epochAccs[\"train\"], epochAccs[\"valid\"], \n",
    "                                                                       time()-e_st))\n",
    "\n",
    "    if verbose:                                           \n",
    "        breaker()\n",
    "        print(f\"Best Validation Loss at Epoch {BLE}\")\n",
    "        breaker()\n",
    "        print(f\"Best Validation Accs at Epoch {BAE}\")\n",
    "        breaker()\n",
    "        print(\"Time Taken [{} Epochs] : {:.2f} minutes\".format(len(Losses), (time()-start_time)/60))\n",
    "    \n",
    "    return Losses, Accuracies, LRs, BLE, BAE, name\n",
    "\n",
    "\n",
    "def predict(model=None, dataloader=None, path=None, device=None) -> np.ndarray:\n",
    "    model.load_state_dict(torch.load(path, map_location=device)[\"model_state_dict\"])\n",
    "    model.to(device)    \n",
    "    model.eval()\n",
    "    \n",
    "    y_pred = torch.zeros(1, 1).to(device)\n",
    "    \n",
    "    for X in dataloader:\n",
    "        X = X.to(device)\n",
    "        with torch.no_grad():\n",
    "            output = torch.sigmoid(model(X))\n",
    "        y_pred = torch.cat((y_pred, output.view(-1, 1)), dim=0)\n",
    "    \n",
    "    y_pred[y_pred > 0.5] = 1\n",
    "    y_pred[y_pred <= 0.5] = 0\n",
    "    \n",
    "    return y_pred[1:].detach().cpu().numpy()"
   ]
  },
  {
   "cell_type": "markdown",
   "id": "4ad98ee3",
   "metadata": {
    "papermill": {
     "duration": 0.017291,
     "end_time": "2022-04-13T07:50:48.551426",
     "exception": false,
     "start_time": "2022-04-13T07:50:48.534135",
     "status": "completed"
    },
    "tags": []
   },
   "source": [
    "### **Train**"
   ]
  },
  {
   "cell_type": "code",
   "execution_count": 8,
   "id": "af7778e1",
   "metadata": {
    "execution": {
     "iopub.execute_input": "2022-04-13T07:50:48.591132Z",
     "iopub.status.busy": "2022-04-13T07:50:48.590081Z",
     "iopub.status.idle": "2022-04-13T07:50:55.912769Z",
     "shell.execute_reply": "2022-04-13T07:50:55.911974Z",
     "shell.execute_reply.started": "2022-04-09T01:18:47.643848Z"
    },
    "papermill": {
     "duration": 7.343203,
     "end_time": "2022-04-13T07:50:55.912966",
     "exception": false,
     "start_time": "2022-04-13T07:50:48.569763",
     "status": "completed"
    },
    "tags": []
   },
   "outputs": [],
   "source": [
    "images = np.load(f\"../input/chest-x-rays-images/train_images_{SIZE}.npy\")\n",
    "labels = np.load(f\"../input/chest-x-rays-images/train_targets_{SIZE}.npy\")"
   ]
  },
  {
   "cell_type": "code",
   "execution_count": 9,
   "id": "9900628a",
   "metadata": {
    "execution": {
     "iopub.execute_input": "2022-04-13T07:50:55.965763Z",
     "iopub.status.busy": "2022-04-13T07:50:55.964195Z",
     "iopub.status.idle": "2022-04-13T08:39:32.047268Z",
     "shell.execute_reply": "2022-04-13T08:39:32.047809Z",
     "shell.execute_reply.started": "2022-04-09T01:36:59.635267Z"
    },
    "papermill": {
     "duration": 2916.116056,
     "end_time": "2022-04-13T08:39:32.048000",
     "exception": false,
     "start_time": "2022-04-13T07:50:55.931944",
     "status": "completed"
    },
    "tags": []
   },
   "outputs": [
    {
     "name": "stderr",
     "output_type": "stream",
     "text": [
      "Downloading: \"https://github.com/lukemelas/EfficientNet-PyTorch/releases/download/1.0/efficientnet-b0-355c32eb.pth\" to /root/.cache/torch/hub/checkpoints/efficientnet-b0-355c32eb.pth\n"
     ]
    },
    {
     "data": {
      "application/vnd.jupyter.widget-view+json": {
       "model_id": "6060d330f9c74453874151b7fc5bdfe8",
       "version_major": 2,
       "version_minor": 0
      },
      "text/plain": [
       "  0%|          | 0.00/20.4M [00:00<?, ?B/s]"
      ]
     },
     "metadata": {},
     "output_type": "display_data"
    },
    {
     "name": "stdout",
     "output_type": "stream",
     "text": [
      "Loaded pretrained weights for efficientnet-b0\n",
      "\n",
      "**************************************************\n",
      "\n",
      "Training Fold 1...\n",
      "\n",
      "**************************************************\n",
      "\n",
      "Epoch: 1 | Train Loss: 0.42895 | Valid Loss: 0.43284 | Train Accs: 0.85125 | Valid Accs: 0.82224 | Time: 43.76 seconds\n",
      "Epoch: 2 | Train Loss: 0.09071 | Valid Loss: 0.56668 | Train Accs: 0.96875 | Valid Accs: 0.85633 | Time: 36.91 seconds\n",
      "Epoch: 3 | Train Loss: 0.08423 | Valid Loss: 0.12919 | Train Accs: 0.97400 | Valid Accs: 0.96280 | Time: 37.08 seconds\n",
      "Epoch: 4 | Train Loss: 0.05508 | Valid Loss: 0.17740 | Train Accs: 0.98330 | Valid Accs: 0.96510 | Time: 36.81 seconds\n",
      "Epoch: 5 | Train Loss: 0.04865 | Valid Loss: 0.03009 | Train Accs: 0.98282 | Valid Accs: 0.98864 | Time: 37.32 seconds\n",
      "Epoch: 6 | Train Loss: 0.02848 | Valid Loss: 0.04983 | Train Accs: 0.98927 | Valid Accs: 0.98552 | Time: 36.82 seconds\n",
      "Epoch: 7 | Train Loss: 0.01077 | Valid Loss: 0.02969 | Train Accs: 0.99594 | Valid Accs: 0.98837 | Time: 37.31 seconds\n",
      "Epoch: 8 | Train Loss: 0.01638 | Valid Loss: 0.03355 | Train Accs: 0.99404 | Valid Accs: 0.98864 | Time: 37.07 seconds\n",
      "Epoch: 9 | Train Loss: 0.00900 | Valid Loss: 0.03505 | Train Accs: 0.99618 | Valid Accs: 0.98958 | Time: 36.92 seconds\n",
      "Epoch: 10 | Train Loss: 0.01633 | Valid Loss: 0.03247 | Train Accs: 0.99594 | Valid Accs: 0.99053 | Time: 36.80 seconds\n",
      "Epoch: 11 | Train Loss: 0.01349 | Valid Loss: 0.06446 | Train Accs: 0.99380 | Valid Accs: 0.98201 | Time: 36.97 seconds\n",
      "Epoch: 12 | Train Loss: 0.00742 | Valid Loss: 0.03128 | Train Accs: 0.99761 | Valid Accs: 0.98958 | Time: 36.81 seconds\n",
      "\n",
      "Early Stopping at Epoch 13\n",
      "\n",
      "**************************************************\n",
      "\n",
      "Best Validation Loss at Epoch 7\n",
      "\n",
      "**************************************************\n",
      "\n",
      "Best Validation Accs at Epoch 10\n",
      "\n",
      "**************************************************\n",
      "\n",
      "Time Taken [13 Epochs] : 8.12 minutes\n",
      "\n",
      "**************************************************\n",
      "\n"
     ]
    },
    {
     "data": {
      "image/png": "[encoded data removed]",
      "text/plain": [
       "<Figure size 576x432 with 2 Axes>"
      ]
     },
     "metadata": {
      "needs_background": "light"
     },
     "output_type": "display_data"
    },
    {
     "name": "stdout",
     "output_type": "stream",
     "text": [
      "Loaded pretrained weights for efficientnet-b0\n",
      "\n",
      "**************************************************\n",
      "\n",
      "Training Fold 2...\n",
      "\n",
      "**************************************************\n",
      "\n",
      "Epoch: 1 | Train Loss: 0.54375 | Valid Loss: 0.32319 | Train Accs: 0.80845 | Valid Accs: 0.90825 | Time: 32.89 seconds\n",
      "Epoch: 2 | Train Loss: 0.09811 | Valid Loss: 0.27116 | Train Accs: 0.97146 | Valid Accs: 0.88823 | Time: 32.93 seconds\n",
      "Epoch: 3 | Train Loss: 0.05022 | Valid Loss: 0.11664 | Train Accs: 0.98364 | Valid Accs: 0.95892 | Time: 32.92 seconds\n",
      "Epoch: 4 | Train Loss: 0.02623 | Valid Loss: 0.03282 | Train Accs: 0.99077 | Valid Accs: 0.99357 | Time: 32.93 seconds\n",
      "Epoch: 5 | Train Loss: 0.03539 | Valid Loss: 0.06198 | Train Accs: 0.98827 | Valid Accs: 0.97558 | Time: 32.65 seconds\n",
      "Epoch: 6 | Train Loss: 0.01193 | Valid Loss: 0.05343 | Train Accs: 0.99527 | Valid Accs: 0.98897 | Time: 32.72 seconds\n",
      "Epoch: 7 | Train Loss: 0.01846 | Valid Loss: 0.06315 | Train Accs: 0.99361 | Valid Accs: 0.98713 | Time: 32.73 seconds\n",
      "Epoch: 8 | Train Loss: 0.00358 | Valid Loss: 0.04146 | Train Accs: 0.99929 | Valid Accs: 0.98733 | Time: 32.58 seconds\n",
      "Epoch: 9 | Train Loss: 0.00515 | Valid Loss: 0.02140 | Train Accs: 0.99858 | Valid Accs: 0.98989 | Time: 32.89 seconds\n",
      "Epoch: 10 | Train Loss: 0.00096 | Valid Loss: 0.03053 | Train Accs: 1.00000 | Valid Accs: 0.99081 | Time: 32.58 seconds\n",
      "Epoch: 11 | Train Loss: 0.00193 | Valid Loss: 0.06026 | Train Accs: 0.99905 | Valid Accs: 0.98621 | Time: 32.66 seconds\n",
      "Epoch: 12 | Train Loss: 0.00407 | Valid Loss: 0.02681 | Train Accs: 0.99858 | Valid Accs: 0.99357 | Time: 32.65 seconds\n",
      "Epoch: 13 | Train Loss: 0.00288 | Valid Loss: 0.02581 | Train Accs: 0.99858 | Valid Accs: 0.98989 | Time: 32.62 seconds\n",
      "Epoch: 14 | Train Loss: 0.00122 | Valid Loss: 0.02304 | Train Accs: 0.99976 | Valid Accs: 0.99449 | Time: 32.62 seconds\n",
      "\n",
      "Early Stopping at Epoch 15\n",
      "\n",
      "**************************************************\n",
      "\n",
      "Best Validation Loss at Epoch 9\n",
      "\n",
      "**************************************************\n",
      "\n",
      "Best Validation Accs at Epoch 14\n",
      "\n",
      "**************************************************\n",
      "\n",
      "Time Taken [15 Epochs] : 8.18 minutes\n",
      "\n",
      "**************************************************\n",
      "\n"
     ]
    },
    {
     "data": {
      "image/png": "[encoded data removed]",
      "text/plain": [
       "<Figure size 576x432 with 2 Axes>"
      ]
     },
     "metadata": {
      "needs_background": "light"
     },
     "output_type": "display_data"
    },
    {
     "name": "stdout",
     "output_type": "stream",
     "text": [
      "Loaded pretrained weights for efficientnet-b0\n",
      "\n",
      "**************************************************\n",
      "\n",
      "Training Fold 3...\n",
      "\n",
      "**************************************************\n",
      "\n",
      "Epoch: 1 | Train Loss: 0.54788 | Valid Loss: 0.31771 | Train Accs: 0.80307 | Valid Accs: 0.92797 | Time: 32.93 seconds\n",
      "Epoch: 2 | Train Loss: 0.09962 | Valid Loss: 0.29157 | Train Accs: 0.97135 | Valid Accs: 0.91034 | Time: 32.77 seconds\n",
      "Epoch: 3 | Train Loss: 0.04237 | Valid Loss: 0.12049 | Train Accs: 0.98509 | Valid Accs: 0.96716 | Time: 32.87 seconds\n",
      "Epoch: 4 | Train Loss: 0.04831 | Valid Loss: 0.09078 | Train Accs: 0.98250 | Valid Accs: 0.96516 | Time: 32.86 seconds\n",
      "Epoch: 5 | Train Loss: 0.02258 | Valid Loss: 0.09982 | Train Accs: 0.99148 | Valid Accs: 0.96725 | Time: 32.56 seconds\n",
      "Epoch: 6 | Train Loss: 0.03015 | Valid Loss: 0.03231 | Train Accs: 0.99077 | Valid Accs: 0.98814 | Time: 32.72 seconds\n",
      "Epoch: 7 | Train Loss: 0.01714 | Valid Loss: 0.03175 | Train Accs: 0.99479 | Valid Accs: 0.98814 | Time: 32.83 seconds\n",
      "Epoch: 8 | Train Loss: 0.00312 | Valid Loss: 0.03748 | Train Accs: 0.99929 | Valid Accs: 0.98905 | Time: 32.58 seconds\n",
      "Epoch: 9 | Train Loss: 0.00481 | Valid Loss: 0.03298 | Train Accs: 0.99811 | Valid Accs: 0.98814 | Time: 32.67 seconds\n",
      "Epoch: 10 | Train Loss: 0.00223 | Valid Loss: 0.05130 | Train Accs: 0.99953 | Valid Accs: 0.98722 | Time: 32.50 seconds\n",
      "Epoch: 11 | Train Loss: 0.00253 | Valid Loss: 0.02025 | Train Accs: 0.99882 | Valid Accs: 0.99449 | Time: 32.86 seconds\n",
      "Epoch: 12 | Train Loss: 0.00303 | Valid Loss: 0.05556 | Train Accs: 0.99905 | Valid Accs: 0.98346 | Time: 32.51 seconds\n",
      "Epoch: 13 | Train Loss: 0.00191 | Valid Loss: 0.02025 | Train Accs: 0.99953 | Valid Accs: 0.99273 | Time: 32.54 seconds\n",
      "Epoch: 14 | Train Loss: 0.00057 | Valid Loss: 0.02295 | Train Accs: 1.00000 | Valid Accs: 0.99181 | Time: 32.70 seconds\n",
      "Epoch: 15 | Train Loss: 0.00032 | Valid Loss: 0.02151 | Train Accs: 1.00000 | Valid Accs: 0.99181 | Time: 32.56 seconds\n",
      "Epoch: 16 | Train Loss: 0.00034 | Valid Loss: 0.02054 | Train Accs: 1.00000 | Valid Accs: 0.99181 | Time: 32.65 seconds\n",
      "Epoch: 17 | Train Loss: 0.00044 | Valid Loss: 0.01983 | Train Accs: 1.00000 | Valid Accs: 0.99457 | Time: 32.88 seconds\n",
      "Epoch: 18 | Train Loss: 0.00015 | Valid Loss: 0.01978 | Train Accs: 1.00000 | Valid Accs: 0.99457 | Time: 32.97 seconds\n",
      "Epoch: 19 | Train Loss: 0.00016 | Valid Loss: 0.01970 | Train Accs: 1.00000 | Valid Accs: 0.99365 | Time: 32.86 seconds\n",
      "Epoch: 20 | Train Loss: 0.00016 | Valid Loss: 0.01980 | Train Accs: 1.00000 | Valid Accs: 0.99365 | Time: 32.59 seconds\n",
      "\n",
      "**************************************************\n",
      "\n",
      "Best Validation Loss at Epoch 19\n",
      "\n",
      "**************************************************\n",
      "\n",
      "Best Validation Accs at Epoch 17\n",
      "\n",
      "**************************************************\n",
      "\n",
      "Time Taken [20 Epochs] : 10.91 minutes\n",
      "\n",
      "**************************************************\n",
      "\n"
     ]
    },
    {
     "data": {
      "image/png": "[encoded data removed]",
      "text/plain": [
       "<Figure size 576x432 with 2 Axes>"
      ]
     },
     "metadata": {
      "needs_background": "light"
     },
     "output_type": "display_data"
    },
    {
     "name": "stdout",
     "output_type": "stream",
     "text": [
      "Loaded pretrained weights for efficientnet-b0\n",
      "\n",
      "**************************************************\n",
      "\n",
      "Training Fold 4...\n",
      "\n",
      "**************************************************\n",
      "\n",
      "Epoch: 1 | Train Loss: 0.54115 | Valid Loss: 0.29949 | Train Accs: 0.80849 | Valid Accs: 0.95321 | Time: 32.79 seconds\n",
      "Epoch: 2 | Train Loss: 0.09487 | Valid Loss: 0.16315 | Train Accs: 0.97064 | Valid Accs: 0.93549 | Time: 32.94 seconds\n",
      "Epoch: 3 | Train Loss: 0.04656 | Valid Loss: 0.06923 | Train Accs: 0.98545 | Valid Accs: 0.97426 | Time: 32.86 seconds\n",
      "Epoch: 4 | Train Loss: 0.04333 | Valid Loss: 0.10522 | Train Accs: 0.98295 | Valid Accs: 0.96708 | Time: 32.75 seconds\n",
      "Epoch: 5 | Train Loss: 0.02248 | Valid Loss: 0.28576 | Train Accs: 0.99266 | Valid Accs: 0.93199 | Time: 32.88 seconds\n",
      "Epoch: 6 | Train Loss: 0.02047 | Valid Loss: 0.03521 | Train Accs: 0.99397 | Valid Accs: 0.98546 | Time: 32.84 seconds\n",
      "Epoch: 7 | Train Loss: 0.01751 | Valid Loss: 0.04157 | Train Accs: 0.99384 | Valid Accs: 0.98003 | Time: 32.66 seconds\n",
      "Epoch: 8 | Train Loss: 0.00139 | Valid Loss: 0.02173 | Train Accs: 0.99976 | Valid Accs: 0.99357 | Time: 33.03 seconds\n",
      "Epoch: 9 | Train Loss: 0.00559 | Valid Loss: 0.05849 | Train Accs: 0.99834 | Valid Accs: 0.98546 | Time: 32.50 seconds\n",
      "Epoch: 10 | Train Loss: 0.00348 | Valid Loss: 0.04714 | Train Accs: 0.99953 | Valid Accs: 0.98546 | Time: 32.59 seconds\n",
      "Epoch: 11 | Train Loss: 0.00497 | Valid Loss: 0.18815 | Train Accs: 0.99811 | Valid Accs: 0.94093 | Time: 32.70 seconds\n",
      "Epoch: 12 | Train Loss: 0.00568 | Valid Loss: 0.01407 | Train Accs: 0.99858 | Valid Accs: 0.99449 | Time: 32.83 seconds\n",
      "Epoch: 13 | Train Loss: 0.00069 | Valid Loss: 0.01127 | Train Accs: 1.00000 | Valid Accs: 0.99632 | Time: 32.82 seconds\n",
      "Epoch: 14 | Train Loss: 0.00045 | Valid Loss: 0.01204 | Train Accs: 1.00000 | Valid Accs: 0.99632 | Time: 32.48 seconds\n",
      "Epoch: 15 | Train Loss: 0.00030 | Valid Loss: 0.01220 | Train Accs: 1.00000 | Valid Accs: 0.99632 | Time: 32.51 seconds\n",
      "Epoch: 16 | Train Loss: 0.00015 | Valid Loss: 0.01369 | Train Accs: 1.00000 | Valid Accs: 0.99540 | Time: 32.34 seconds\n",
      "Epoch: 17 | Train Loss: 0.00028 | Valid Loss: 0.01411 | Train Accs: 1.00000 | Valid Accs: 0.99540 | Time: 32.69 seconds\n",
      "Epoch: 18 | Train Loss: 0.00014 | Valid Loss: 0.01416 | Train Accs: 1.00000 | Valid Accs: 0.99540 | Time: 32.41 seconds\n",
      "\n",
      "Early Stopping at Epoch 19\n",
      "\n",
      "**************************************************\n",
      "\n",
      "Best Validation Loss at Epoch 13\n",
      "\n",
      "**************************************************\n",
      "\n",
      "Best Validation Accs at Epoch 13\n",
      "\n",
      "**************************************************\n",
      "\n",
      "Time Taken [19 Epochs] : 10.35 minutes\n",
      "\n",
      "**************************************************\n",
      "\n"
     ]
    },
    {
     "data": {
      "image/png": "[encoded data removed]",
      "text/plain": [
       "<Figure size 576x432 with 2 Axes>"
      ]
     },
     "metadata": {
      "needs_background": "light"
     },
     "output_type": "display_data"
    },
    {
     "name": "stdout",
     "output_type": "stream",
     "text": [
      "Loaded pretrained weights for efficientnet-b0\n",
      "\n",
      "**************************************************\n",
      "\n",
      "Training Fold 5...\n",
      "\n",
      "**************************************************\n",
      "\n",
      "Epoch: 1 | Train Loss: 0.54528 | Valid Loss: 0.31492 | Train Accs: 0.80625 | Valid Accs: 0.92321 | Time: 32.73 seconds\n",
      "Epoch: 2 | Train Loss: 0.10289 | Valid Loss: 0.33814 | Train Accs: 0.96922 | Valid Accs: 0.88778 | Time: 32.55 seconds\n",
      "Epoch: 3 | Train Loss: 0.04678 | Valid Loss: 0.13268 | Train Accs: 0.98237 | Valid Accs: 0.95079 | Time: 32.65 seconds\n",
      "Epoch: 4 | Train Loss: 0.03471 | Valid Loss: 0.03508 | Train Accs: 0.99053 | Valid Accs: 0.98354 | Time: 32.76 seconds\n",
      "Epoch: 5 | Train Loss: 0.02479 | Valid Loss: 0.04795 | Train Accs: 0.99171 | Valid Accs: 0.98805 | Time: 32.63 seconds\n",
      "Epoch: 6 | Train Loss: 0.03004 | Valid Loss: 0.13207 | Train Accs: 0.99089 | Valid Accs: 0.96541 | Time: 32.66 seconds\n",
      "Epoch: 7 | Train Loss: 0.01835 | Valid Loss: 0.03154 | Train Accs: 0.99361 | Valid Accs: 0.98897 | Time: 32.82 seconds\n",
      "Epoch: 8 | Train Loss: 0.00724 | Valid Loss: 0.01367 | Train Accs: 0.99752 | Valid Accs: 0.99449 | Time: 32.82 seconds\n",
      "Epoch: 9 | Train Loss: 0.00369 | Valid Loss: 0.01739 | Train Accs: 0.99905 | Valid Accs: 0.99449 | Time: 32.61 seconds\n",
      "Epoch: 10 | Train Loss: 0.00345 | Valid Loss: 0.01708 | Train Accs: 0.99858 | Valid Accs: 0.99357 | Time: 32.53 seconds\n",
      "Epoch: 11 | Train Loss: 0.00191 | Valid Loss: 0.02422 | Train Accs: 0.99953 | Valid Accs: 0.99265 | Time: 32.36 seconds\n",
      "Epoch: 12 | Train Loss: 0.00057 | Valid Loss: 0.02204 | Train Accs: 1.00000 | Valid Accs: 0.99357 | Time: 32.48 seconds\n",
      "Epoch: 13 | Train Loss: 0.00211 | Valid Loss: 0.02117 | Train Accs: 0.99929 | Valid Accs: 0.99265 | Time: 32.49 seconds\n",
      "Epoch: 14 | Train Loss: 0.00153 | Valid Loss: 0.01352 | Train Accs: 0.99953 | Valid Accs: 0.99449 | Time: 32.58 seconds\n",
      "Epoch: 15 | Train Loss: 0.00038 | Valid Loss: 0.02030 | Train Accs: 1.00000 | Valid Accs: 0.99265 | Time: 32.46 seconds\n",
      "Epoch: 16 | Train Loss: 0.00016 | Valid Loss: 0.02055 | Train Accs: 1.00000 | Valid Accs: 0.99265 | Time: 32.48 seconds\n",
      "Epoch: 17 | Train Loss: 0.00132 | Valid Loss: 0.02142 | Train Accs: 0.99976 | Valid Accs: 0.99265 | Time: 32.50 seconds\n",
      "Epoch: 18 | Train Loss: 0.00054 | Valid Loss: 0.02090 | Train Accs: 0.99976 | Valid Accs: 0.99357 | Time: 32.54 seconds\n",
      "Epoch: 19 | Train Loss: 0.00022 | Valid Loss: 0.02021 | Train Accs: 1.00000 | Valid Accs: 0.99357 | Time: 32.47 seconds\n",
      "\n",
      "Early Stopping at Epoch 20\n",
      "\n",
      "**************************************************\n",
      "\n",
      "Best Validation Loss at Epoch 14\n",
      "\n",
      "**************************************************\n",
      "\n",
      "Best Validation Accs at Epoch 8\n",
      "\n",
      "**************************************************\n",
      "\n",
      "Time Taken [20 Epochs] : 10.86 minutes\n",
      "\n",
      "**************************************************\n",
      "\n"
     ]
    },
    {
     "data": {
      "image/png": "[encoded data removed]",
      "text/plain": [
       "<Figure size 576x432 with 2 Axes>"
      ]
     },
     "metadata": {
      "needs_background": "light"
     },
     "output_type": "display_data"
    }
   ],
   "source": [
    "fold = 1\n",
    "BLEs, BAEs = [], []\n",
    "\n",
    "for tr_idx, va_idx in KFold(n_splits=cfg.n_splits, random_state=SEED, shuffle=True).split(images):\n",
    "    tr_images, va_images, tr_labels, va_labels = images[tr_idx], images[va_idx], labels[tr_idx], labels[va_idx]\n",
    "\n",
    "    tr_data_setup = DS(tr_images, tr_labels.reshape(-1, 1), cfg.transform)\n",
    "    va_data_setup = DS(va_images, va_labels.reshape(-1, 1), cfg.transform)\n",
    "\n",
    "    dataloaders = {\n",
    "        \"train\" : DL(tr_data_setup, batch_size=cfg.batch_size, shuffle=True, generator=torch.manual_seed(cfg.seed)),\n",
    "        \"valid\" : DL(va_data_setup, batch_size=cfg.batch_size, shuffle=False),\n",
    "    }\n",
    "\n",
    "    cfg = CFG(epochs=20, lr=1e-3, wd=0.0, batch_size=64, steps_per_epoch=len(dataloaders[\"train\"]))\n",
    "\n",
    "    torch.manual_seed(cfg.seed)\n",
    "    model = Model().to(cfg.device)\n",
    "    optimizer = optim.Adam([p for p in model.parameters() if p.requires_grad], lr=cfg.lr, weight_decay=cfg.wd)\n",
    "    scheduler = optim.lr_scheduler.OneCycleLR(optimizer=optimizer, \n",
    "                                              max_lr=cfg.max_lr, \n",
    "                                              epochs=cfg.epochs, \n",
    "                                              steps_per_epoch=cfg.steps_per_epoch,\n",
    "                                              pct_start=cfg.pct_start, \n",
    "                                              div_factor=cfg.div_factor, \n",
    "                                              final_div_factor=cfg.final_div_factor)\n",
    "    # scheduler = None\n",
    "\n",
    "    L, A, LRs, BLE, BAE, name = fit(model=model, \n",
    "                                    optimizer=optimizer, \n",
    "                                    scheduler=scheduler, \n",
    "                                    epochs=cfg.epochs, \n",
    "                                    early_stopping_patience=cfg.early_stopping, \n",
    "                                    dataloaders=dataloaders, \n",
    "                                    device=cfg.device,\n",
    "                                    save_path=cfg.save_path,\n",
    "                                    fold = fold,\n",
    "                                    verbose=True)\n",
    "\n",
    "    breaker()\n",
    "    show_graphs(L, A)\n",
    "    \n",
    "    BLEs.append(BLE)\n",
    "    BAEs.append(BAE)\n",
    "\n",
    "    fold += 1"
   ]
  },
  {
   "cell_type": "markdown",
   "id": "052bae94",
   "metadata": {
    "papermill": {
     "duration": 0.060778,
     "end_time": "2022-04-13T08:39:32.168791",
     "exception": false,
     "start_time": "2022-04-13T08:39:32.108013",
     "status": "completed"
    },
    "tags": []
   },
   "source": [
    "### **Predictions**"
   ]
  },
  {
   "cell_type": "code",
   "execution_count": 10,
   "id": "2338ec0c",
   "metadata": {
    "execution": {
     "iopub.execute_input": "2022-04-13T08:39:32.297476Z",
     "iopub.status.busy": "2022-04-13T08:39:32.296709Z",
     "iopub.status.idle": "2022-04-13T08:39:34.957498Z",
     "shell.execute_reply": "2022-04-13T08:39:34.956889Z",
     "shell.execute_reply.started": "2022-04-09T01:41:41.028783Z"
    },
    "papermill": {
     "duration": 2.72894,
     "end_time": "2022-04-13T08:39:34.957635",
     "exception": false,
     "start_time": "2022-04-13T08:39:32.228695",
     "status": "completed"
    },
    "tags": []
   },
   "outputs": [
    {
     "name": "stdout",
     "output_type": "stream",
     "text": [
      "Loaded pretrained weights for efficientnet-b0\n",
      "\n",
      "**************************************************\n",
      "\n",
      "Best Fold : 1\n",
      "\n",
      "**************************************************\n",
      "\n",
      "Accuracy  : 0.75962\n",
      "ROC-AUC   : 0.86111\n",
      "Precision : [0.35897436 1.        ]\n",
      "Recall    : [1.         0.72222222]\n",
      "F-Score   : [0.52830189 0.83870968]\n",
      "\n",
      "**************************************************\n",
      "\n"
     ]
    }
   ],
   "source": [
    "test_images = np.load(f\"../input/chest-x-rays-images/test_images_{SIZE}.npy\")\n",
    "test_labels = np.load(f\"../input/chest-x-rays-images/test_targets_{SIZE}.npy\")\n",
    "\n",
    "ts_data_setup = DS(test_images, None, cfg.transform)\n",
    "ts_data = DL(ts_data_setup, batch_size=cfg.batch_size, shuffle=False)\n",
    "\n",
    "best_fold = BLEs.index(min(BLEs)) + 1\n",
    "model_path = f\"saves/state_fold_{best_fold}.pt\"\n",
    "y_pred = predict(model=Model().to(cfg.device), dataloader=ts_data, path=model_path, device=cfg.device)\n",
    "\n",
    "accuracy, auc, precision, recall, f_score = get_scores(test_labels, y_pred)\n",
    "\n",
    "breaker()\n",
    "print(f\"Best Fold : {best_fold}\")\n",
    "breaker()\n",
    "print_scores(accuracy, auc, precision, recall, f_score)\n",
    "breaker()"
   ]
  }
 ],
 "metadata": {
  "kernelspec": {
   "display_name": "Python 3",
   "language": "python",
   "name": "python3"
  },
  "language_info": {
   "codemirror_mode": {
    "name": "ipython",
    "version": 3
   },
   "file_extension": ".py",
   "mimetype": "text/x-python",
   "name": "python",
   "nbconvert_exporter": "python",
   "pygments_lexer": "ipython3",
   "version": "3.7.12"
  },
  "papermill": {
   "default_parameters": {},
   "duration": 2955.054647,
   "end_time": "2022-04-13T08:39:37.320621",
   "environment_variables": {},
   "exception": null,
   "input_path": "__notebook__.ipynb",
   "output_path": "__notebook__.ipynb",
   "parameters": {},
   "start_time": "2022-04-13T07:50:22.265974",
   "version": "2.3.3"
  },
  "widgets": {
   "application/vnd.jupyter.widget-state+json": {
    "state": {
     "0541fbce111e4d22aa66ef39d38610b2": {
      "model_module": "@jupyter-widgets/controls",
      "model_module_version": "1.5.0",
      "model_name": "ProgressStyleModel",
      "state": {
       "_model_module": "@jupyter-widgets/controls",
       "_model_module_version": "1.5.0",
       "_model_name": "ProgressStyleModel",
       "_view_count": null,
       "_view_module": "@jupyter-widgets/base",
       "_view_module_version": "1.2.0",
       "_view_name": "StyleView",
       "bar_color": null,
       "description_width": ""
      }
     },
     "431787f3e04a41e0be986d077afd507a": {
      "model_module": "@jupyter-widgets/base",
      "model_module_version": "1.2.0",
      "model_name": "LayoutModel",
      "state": {
       "_model_module": "@jupyter-widgets/base",
       "_model_module_version": "1.2.0",
       "_model_name": "LayoutModel",
       "_view_count": null,
       "_view_module": "@jupyter-widgets/base",
       "_view_module_version": "1.2.0",
       "_view_name": "LayoutView",
       "align_content": null,
       "align_items": null,
       "align_self": null,
       "border": null,
       "bottom": null,
       "display": null,
       "flex": null,
       "flex_flow": null,
       "grid_area": null,
       "grid_auto_columns": null,
       "grid_auto_flow": null,
       "grid_auto_rows": null,
       "grid_column": null,
       "grid_gap": null,
       "grid_row": null,
       "grid_template_areas": null,
       "grid_template_columns": null,
       "grid_template_rows": null,
       "height": null,
       "justify_content": null,
       "justify_items": null,
       "left": null,
       "margin": null,
       "max_height": null,
       "max_width": null,
       "min_height": null,
       "min_width": null,
       "object_fit": null,
       "object_position": null,
       "order": null,
       "overflow": null,
       "overflow_x": null,
       "overflow_y": null,
       "padding": null,
       "right": null,
       "top": null,
       "visibility": null,
       "width": null
      }
     },
     "5e70a58af9f5475a875d72cd67914816": {
      "model_module": "@jupyter-widgets/base",
      "model_module_version": "1.2.0",
      "model_name": "LayoutModel",
      "state": {
       "_model_module": "@jupyter-widgets/base",
       "_model_module_version": "1.2.0",
       "_model_name": "LayoutModel",
       "_view_count": null,
       "_view_module": "@jupyter-widgets/base",
       "_view_module_version": "1.2.0",
       "_view_name": "LayoutView",
       "align_content": null,
       "align_items": null,
       "align_self": null,
       "border": null,
       "bottom": null,
       "display": null,
       "flex": null,
       "flex_flow": null,
       "grid_area": null,
       "grid_auto_columns": null,
       "grid_auto_flow": null,
       "grid_auto_rows": null,
       "grid_column": null,
       "grid_gap": null,
       "grid_row": null,
       "grid_template_areas": null,
       "grid_template_columns": null,
       "grid_template_rows": null,
       "height": null,
       "justify_content": null,
       "justify_items": null,
       "left": null,
       "margin": null,
       "max_height": null,
       "max_width": null,
       "min_height": null,
       "min_width": null,
       "object_fit": null,
       "object_position": null,
       "order": null,
       "overflow": null,
       "overflow_x": null,
       "overflow_y": null,
       "padding": null,
       "right": null,
       "top": null,
       "visibility": null,
       "width": null
      }
     },
     "6060d330f9c74453874151b7fc5bdfe8": {
      "model_module": "@jupyter-widgets/controls",
      "model_module_version": "1.5.0",
      "model_name": "HBoxModel",
      "state": {
       "_dom_classes": [],
       "_model_module": "@jupyter-widgets/controls",
       "_model_module_version": "1.5.0",
       "_model_name": "HBoxModel",
       "_view_count": null,
       "_view_module": "@jupyter-widgets/controls",
       "_view_module_version": "1.5.0",
       "_view_name": "HBoxView",
       "box_style": "",
       "children": [
        "IPY_MODEL_63849d2151804984af0288d2af066062",
        "IPY_MODEL_a8ddb66ab1a546e694203e563d8810d7",
        "IPY_MODEL_914d78a1943445449ebfd8309733d61a"
       ],
       "layout": "IPY_MODEL_5e70a58af9f5475a875d72cd67914816"
      }
     },
     "63849d2151804984af0288d2af066062": {
      "model_module": "@jupyter-widgets/controls",
      "model_module_version": "1.5.0",
      "model_name": "HTMLModel",
      "state": {
       "_dom_classes": [],
       "_model_module": "@jupyter-widgets/controls",
       "_model_module_version": "1.5.0",
       "_model_name": "HTMLModel",
       "_view_count": null,
       "_view_module": "@jupyter-widgets/controls",
       "_view_module_version": "1.5.0",
       "_view_name": "HTMLView",
       "description": "",
       "description_tooltip": null,
       "layout": "IPY_MODEL_96f9198e8ac944a3b7e88220b32c1dff",
       "placeholder": "​",
       "style": "IPY_MODEL_fae262ef542d42ed84700795422e0f1e",
       "value": "100%"
      }
     },
     "914d78a1943445449ebfd8309733d61a": {
      "model_module": "@jupyter-widgets/controls",
      "model_module_version": "1.5.0",
      "model_name": "HTMLModel",
      "state": {
       "_dom_classes": [],
       "_model_module": "@jupyter-widgets/controls",
       "_model_module_version": "1.5.0",
       "_model_name": "HTMLModel",
       "_view_count": null,
       "_view_module": "@jupyter-widgets/controls",
       "_view_module_version": "1.5.0",
       "_view_name": "HTMLView",
       "description": "",
       "description_tooltip": null,
       "layout": "IPY_MODEL_c6fc1edd158948efbcc3620f19944da3",
       "placeholder": "​",
       "style": "IPY_MODEL_9bcca4a654c941e78cfdf2481c8bcf88",
       "value": " 20.4M/20.4M [00:00&lt;00:00, 25.2MB/s]"
      }
     },
     "96f9198e8ac944a3b7e88220b32c1dff": {
      "model_module": "@jupyter-widgets/base",
      "model_module_version": "1.2.0",
      "model_name": "LayoutModel",
      "state": {
       "_model_module": "@jupyter-widgets/base",
       "_model_module_version": "1.2.0",
       "_model_name": "LayoutModel",
       "_view_count": null,
       "_view_module": "@jupyter-widgets/base",
       "_view_module_version": "1.2.0",
       "_view_name": "LayoutView",
       "align_content": null,
       "align_items": null,
       "align_self": null,
       "border": null,
       "bottom": null,
       "display": null,
       "flex": null,
       "flex_flow": null,
       "grid_area": null,
       "grid_auto_columns": null,
       "grid_auto_flow": null,
       "grid_auto_rows": null,
       "grid_column": null,
       "grid_gap": null,
       "grid_row": null,
       "grid_template_areas": null,
       "grid_template_columns": null,
       "grid_template_rows": null,
       "height": null,
       "justify_content": null,
       "justify_items": null,
       "left": null,
       "margin": null,
       "max_height": null,
       "max_width": null,
       "min_height": null,
       "min_width": null,
       "object_fit": null,
       "object_position": null,
       "order": null,
       "overflow": null,
       "overflow_x": null,
       "overflow_y": null,
       "padding": null,
       "right": null,
       "top": null,
       "visibility": null,
       "width": null
      }
     },
     "9bcca4a654c941e78cfdf2481c8bcf88": {
      "model_module": "@jupyter-widgets/controls",
      "model_module_version": "1.5.0",
      "model_name": "DescriptionStyleModel",
      "state": {
       "_model_module": "@jupyter-widgets/controls",
       "_model_module_version": "1.5.0",
       "_model_name": "DescriptionStyleModel",
       "_view_count": null,
       "_view_module": "@jupyter-widgets/base",
       "_view_module_version": "1.2.0",
       "_view_name": "StyleView",
       "description_width": ""
      }
     },
     "a8ddb66ab1a546e694203e563d8810d7": {
      "model_module": "@jupyter-widgets/controls",
      "model_module_version": "1.5.0",
      "model_name": "FloatProgressModel",
      "state": {
       "_dom_classes": [],
       "_model_module": "@jupyter-widgets/controls",
       "_model_module_version": "1.5.0",
       "_model_name": "FloatProgressModel",
       "_view_count": null,
       "_view_module": "@jupyter-widgets/controls",
       "_view_module_version": "1.5.0",
       "_view_name": "ProgressView",
       "bar_style": "success",
       "description": "",
       "description_tooltip": null,
       "layout": "IPY_MODEL_431787f3e04a41e0be986d077afd507a",
       "max": 21388428.0,
       "min": 0.0,
       "orientation": "horizontal",
       "style": "IPY_MODEL_0541fbce111e4d22aa66ef39d38610b2",
       "value": 21388428.0
      }
     },
     "c6fc1edd158948efbcc3620f19944da3": {
      "model_module": "@jupyter-widgets/base",
      "model_module_version": "1.2.0",
      "model_name": "LayoutModel",
      "state": {
       "_model_module": "@jupyter-widgets/base",
       "_model_module_version": "1.2.0",
       "_model_name": "LayoutModel",
       "_view_count": null,
       "_view_module": "@jupyter-widgets/base",
       "_view_module_version": "1.2.0",
       "_view_name": "LayoutView",
       "align_content": null,
       "align_items": null,
       "align_self": null,
       "border": null,
       "bottom": null,
       "display": null,
       "flex": null,
       "flex_flow": null,
       "grid_area": null,
       "grid_auto_columns": null,
       "grid_auto_flow": null,
       "grid_auto_rows": null,
       "grid_column": null,
       "grid_gap": null,
       "grid_row": null,
       "grid_template_areas": null,
       "grid_template_columns": null,
       "grid_template_rows": null,
       "height": null,
       "justify_content": null,
       "justify_items": null,
       "left": null,
       "margin": null,
       "max_height": null,
       "max_width": null,
       "min_height": null,
       "min_width": null,
       "object_fit": null,
       "object_position": null,
       "order": null,
       "overflow": null,
       "overflow_x": null,
       "overflow_y": null,
       "padding": null,
       "right": null,
       "top": null,
       "visibility": null,
       "width": null
      }
     },
     "fae262ef542d42ed84700795422e0f1e": {
      "model_module": "@jupyter-widgets/controls",
      "model_module_version": "1.5.0",
      "model_name": "DescriptionStyleModel",
      "state": {
       "_model_module": "@jupyter-widgets/controls",
       "_model_module_version": "1.5.0",
       "_model_name": "DescriptionStyleModel",
       "_view_count": null,
       "_view_module": "@jupyter-widgets/base",
       "_view_module_version": "1.2.0",
       "_view_name": "StyleView",
       "description_width": ""
      }
     }
    },
    "version_major": 2,
    "version_minor": 0
   }
  }
 },
 "nbformat": 4,
 "nbformat_minor": 5
}
