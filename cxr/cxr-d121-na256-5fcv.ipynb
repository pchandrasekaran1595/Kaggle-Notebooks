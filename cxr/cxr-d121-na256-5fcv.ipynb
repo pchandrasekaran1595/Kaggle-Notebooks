{
 "cells": [
  {
   "cell_type": "markdown",
   "id": "7e696bbf",
   "metadata": {
    "_cell_guid": "b1076dfc-b9ad-4769-8c92-a6c4dae69d19",
    "_uuid": "8f2839f25d086af736a60e9eeb907d3b93b6e0e5",
    "papermill": {
     "duration": 0.014413,
     "end_time": "2022-04-17T09:04:59.504174",
     "exception": false,
     "start_time": "2022-04-17T09:04:59.489761",
     "status": "completed"
    },
    "tags": []
   },
   "source": [
    "### Library Imports"
   ]
  },
  {
   "cell_type": "code",
   "execution_count": 1,
   "id": "af97c373",
   "metadata": {
    "execution": {
     "iopub.execute_input": "2022-04-17T09:04:59.542931Z",
     "iopub.status.busy": "2022-04-17T09:04:59.542278Z",
     "iopub.status.idle": "2022-04-17T09:05:01.929284Z",
     "shell.execute_reply": "2022-04-17T09:05:01.928586Z",
     "shell.execute_reply.started": "2022-04-09T01:18:45.162484Z"
    },
    "papermill": {
     "duration": 2.411103,
     "end_time": "2022-04-17T09:05:01.929477",
     "exception": false,
     "start_time": "2022-04-17T09:04:59.518374",
     "status": "completed"
    },
    "tags": []
   },
   "outputs": [],
   "source": [
    "import os\n",
    "import re\n",
    "import torch\n",
    "import numpy as np\n",
    "import pandas as pd\n",
    "import matplotlib.pyplot as plt\n",
    "\n",
    "from time import time\n",
    "from torch import nn, optim\n",
    "from torch.utils.data import Dataset\n",
    "from torch.utils.data import DataLoader as DL\n",
    "from torchvision import models, transforms\n",
    "\n",
    "from sklearn.model_selection import KFold\n",
    "from sklearn.preprocessing import LabelEncoder\n",
    "from sklearn.metrics import accuracy_score, \\\n",
    "                            precision_recall_fscore_support, \\\n",
    "                            roc_auc_score, \\\n",
    "                            classification_report, \\\n",
    "                            confusion_matrix"
   ]
  },
  {
   "cell_type": "markdown",
   "id": "c40653ea",
   "metadata": {
    "papermill": {
     "duration": 0.013654,
     "end_time": "2022-04-17T09:05:01.957362",
     "exception": false,
     "start_time": "2022-04-17T09:05:01.943708",
     "status": "completed"
    },
    "tags": []
   },
   "source": [
    "### **Utilities**"
   ]
  },
  {
   "cell_type": "code",
   "execution_count": 2,
   "id": "08d1edec",
   "metadata": {
    "execution": {
     "iopub.execute_input": "2022-04-17T09:05:02.003769Z",
     "iopub.status.busy": "2022-04-17T09:05:02.002436Z",
     "iopub.status.idle": "2022-04-17T09:05:02.017443Z",
     "shell.execute_reply": "2022-04-17T09:05:02.018094Z",
     "shell.execute_reply.started": "2022-04-09T01:18:47.512362Z"
    },
    "papermill": {
     "duration": 0.047249,
     "end_time": "2022-04-17T09:05:02.018291",
     "exception": false,
     "start_time": "2022-04-17T09:05:01.971042",
     "status": "completed"
    },
    "tags": []
   },
   "outputs": [],
   "source": [
    "SEED = 42\n",
    "SIZE = 256\n",
    "\n",
    "def breaker(num: int=50, char: str=\"*\") -> None:\n",
    "    print(\"\\n\" + num*char + \"\\n\")\n",
    "\n",
    "\n",
    "def show_graphs(L: list, A: list) -> None:\n",
    "    TL, VL, TA, VA = [], [], [], []\n",
    "    for i in range(len(L)):\n",
    "        TL.append(L[i][\"train\"])\n",
    "        VL.append(L[i][\"valid\"])\n",
    "        TA.append(A[i][\"train\"])\n",
    "        VA.append(A[i][\"valid\"])\n",
    "    x_Axis = np.arange(1, len(TL) + 1)\n",
    "    plt.figure(figsize=(8, 6))\n",
    "    plt.subplot(1, 2, 1)\n",
    "    plt.plot(x_Axis, TL, \"r\", label=\"Train\")\n",
    "    plt.plot(x_Axis, VL, \"b\", label=\"Valid\")\n",
    "    plt.legend()\n",
    "    plt.grid()\n",
    "    plt.title(\"Loss Graph\")\n",
    "    plt.subplot(1, 2, 2)\n",
    "    plt.plot(x_Axis, TA, \"r\", label=\"Train\")\n",
    "    plt.plot(x_Axis, VA, \"b\", label=\"Valid\")\n",
    "    plt.legend()\n",
    "    plt.grid()\n",
    "    plt.title(\"Accuracy Graph\")\n",
    "    plt.show()\n",
    "\n",
    "    \n",
    "def get_scores(y_true: np.ndarray, y_pred: np.ndarray) -> tuple:\n",
    "    accuracy = accuracy_score(y_pred, y_true)\n",
    "    try:\n",
    "        auc = roc_auc_score(y_pred, y_true)\n",
    "    except:\n",
    "        auc = 0\n",
    "    precision, recall, f_score, _ = precision_recall_fscore_support(y_pred, y_true)\n",
    "\n",
    "    return accuracy, auc, precision, recall, f_score\n",
    "\n",
    "\n",
    "def print_scores(accuracy: float, auc: float, precision: np.ndarray, recall: np.ndarray, f_score: np.ndarray) -> None:\n",
    "    print(f\"Accuracy  : {accuracy:.5f}\")\n",
    "    print(f\"ROC-AUC   : {auc:.5f}\")\n",
    "    print(f\"Precision : {precision}\")\n",
    "    print(f\"Recall    : {recall}\")\n",
    "    print(f\"F-Score   : {f_score}\")"
   ]
  },
  {
   "cell_type": "markdown",
   "id": "8408485a",
   "metadata": {
    "papermill": {
     "duration": 0.024826,
     "end_time": "2022-04-17T09:05:02.073669",
     "exception": false,
     "start_time": "2022-04-17T09:05:02.048843",
     "status": "completed"
    },
    "tags": []
   },
   "source": [
    "### **Configuration**"
   ]
  },
  {
   "cell_type": "code",
   "execution_count": 3,
   "id": "1dc6bf38",
   "metadata": {
    "execution": {
     "iopub.execute_input": "2022-04-17T09:05:02.132179Z",
     "iopub.status.busy": "2022-04-17T09:05:02.131405Z",
     "iopub.status.idle": "2022-04-17T09:05:02.205196Z",
     "shell.execute_reply": "2022-04-17T09:05:02.204388Z",
     "shell.execute_reply.started": "2022-04-09T01:36:52.976989Z"
    },
    "papermill": {
     "duration": 0.103937,
     "end_time": "2022-04-17T09:05:02.205360",
     "exception": false,
     "start_time": "2022-04-17T09:05:02.101423",
     "status": "completed"
    },
    "tags": []
   },
   "outputs": [],
   "source": [
    "class CFG(object):\n",
    "    def __init__(self, \n",
    "                 seed: int = 42,\n",
    "                 n_splits: int = 5,\n",
    "                 batch_size: int = 16,\n",
    "                 epochs: int = 25,\n",
    "                 early_stopping: int = 5,\n",
    "                 lr: float = 1e-4,\n",
    "                 wd: float = 0.0,\n",
    "                 max_lr: float = 1e-3,\n",
    "                 pct_start: float = 0.2,\n",
    "                 steps_per_epoch: int = 100,\n",
    "                 div_factor: int = 1e3, \n",
    "                 final_div_factor: float = 1e3,\n",
    "                 ):\n",
    "        \n",
    "        self.seed = seed\n",
    "        self.n_splits = n_splits\n",
    "        self.batch_size = batch_size\n",
    "        self.epochs = epochs\n",
    "        self.early_stopping = early_stopping\n",
    "        self.lr = lr\n",
    "        self.wd = wd\n",
    "        self.max_lr = max_lr\n",
    "        self.pct_start = pct_start\n",
    "        self.steps_per_epoch = steps_per_epoch\n",
    "        self.div_factor = div_factor\n",
    "        self.final_div_factor = final_div_factor\n",
    "        self.device = torch.device(\"cuda\" if torch.cuda.is_available() else \"cpu\")\n",
    "        self.transform = transforms.Compose([transforms.ToTensor(),\n",
    "                                transforms.Normalize([0.11899, 0.11923, 0.12643],\n",
    "                                                     [0.17037, 0.16976, 0.18014]),\n",
    "                                ])\n",
    "        self.save_path = \"saves\"\n",
    "        if not os.path.exists(self.save_path): os.makedirs(self.save_path)\n",
    "    \n",
    "cfg = CFG(seed=SEED)"
   ]
  },
  {
   "cell_type": "markdown",
   "id": "d62c016b",
   "metadata": {
    "papermill": {
     "duration": 0.021564,
     "end_time": "2022-04-17T09:05:02.250184",
     "exception": false,
     "start_time": "2022-04-17T09:05:02.228620",
     "status": "completed"
    },
    "tags": []
   },
   "source": [
    "### **Dataset Template**"
   ]
  },
  {
   "cell_type": "code",
   "execution_count": 4,
   "id": "4f2e09d5",
   "metadata": {
    "execution": {
     "iopub.execute_input": "2022-04-17T09:05:02.304605Z",
     "iopub.status.busy": "2022-04-17T09:05:02.303984Z",
     "iopub.status.idle": "2022-04-17T09:05:02.309022Z",
     "shell.execute_reply": "2022-04-17T09:05:02.309668Z",
     "shell.execute_reply.started": "2022-04-09T01:18:47.593512Z"
    },
    "papermill": {
     "duration": 0.037362,
     "end_time": "2022-04-17T09:05:02.309844",
     "exception": false,
     "start_time": "2022-04-17T09:05:02.272482",
     "status": "completed"
    },
    "tags": []
   },
   "outputs": [],
   "source": [
    "class DS(Dataset):\n",
    "    def __init__(self, images: np.ndarray, labels: np.ndarray = None, transform=None):\n",
    "        self.images = images\n",
    "        self.labels = labels\n",
    "        self.transform = transform\n",
    "    \n",
    "    def __len__(self):\n",
    "        return self.images.shape[0]\n",
    "    \n",
    "    def __getitem__(self, idx):\n",
    "        if self.labels is not None:\n",
    "            return self.transform(self.images[idx]), torch.FloatTensor(self.labels[idx])\n",
    "        else:\n",
    "            return self.transform(self.images[idx])"
   ]
  },
  {
   "cell_type": "markdown",
   "id": "8230879f",
   "metadata": {
    "papermill": {
     "duration": 0.02126,
     "end_time": "2022-04-17T09:05:02.351970",
     "exception": false,
     "start_time": "2022-04-17T09:05:02.330710",
     "status": "completed"
    },
    "tags": []
   },
   "source": [
    "### **Model**"
   ]
  },
  {
   "cell_type": "code",
   "execution_count": 5,
   "id": "ac662317",
   "metadata": {
    "execution": {
     "iopub.execute_input": "2022-04-17T09:05:02.402966Z",
     "iopub.status.busy": "2022-04-17T09:05:02.402148Z",
     "iopub.status.idle": "2022-04-17T09:05:02.405074Z",
     "shell.execute_reply": "2022-04-17T09:05:02.405858Z",
     "shell.execute_reply.started": "2022-04-09T01:18:47.606516Z"
    },
    "papermill": {
     "duration": 0.032188,
     "end_time": "2022-04-17T09:05:02.406032",
     "exception": false,
     "start_time": "2022-04-17T09:05:02.373844",
     "status": "completed"
    },
    "tags": []
   },
   "outputs": [],
   "source": [
    "class Model(nn.Module):\n",
    "    def __init__(self):\n",
    "        super(Model, self).__init__()\n",
    "\n",
    "        self.model = models.densenet121(pretrained=True, progress=True)\n",
    "        self.model.classifier = nn.Linear(in_features=self.model.classifier.in_features, out_features=1)\n",
    "\n",
    "    def forward(self, x):\n",
    "        return self.model(x)"
   ]
  },
  {
   "cell_type": "markdown",
   "id": "2325966f",
   "metadata": {
    "papermill": {
     "duration": 0.021501,
     "end_time": "2022-04-17T09:05:02.449445",
     "exception": false,
     "start_time": "2022-04-17T09:05:02.427944",
     "status": "completed"
    },
    "tags": []
   },
   "source": [
    "### Fit and Predict Helper"
   ]
  },
  {
   "cell_type": "code",
   "execution_count": 6,
   "id": "2446715f",
   "metadata": {
    "execution": {
     "iopub.execute_input": "2022-04-17T09:05:02.500811Z",
     "iopub.status.busy": "2022-04-17T09:05:02.499934Z",
     "iopub.status.idle": "2022-04-17T09:05:02.531042Z",
     "shell.execute_reply": "2022-04-17T09:05:02.532037Z",
     "shell.execute_reply.started": "2022-04-09T01:18:47.615986Z"
    },
    "papermill": {
     "duration": 0.061683,
     "end_time": "2022-04-17T09:05:02.532222",
     "exception": false,
     "start_time": "2022-04-17T09:05:02.470539",
     "status": "completed"
    },
    "tags": []
   },
   "outputs": [],
   "source": [
    "def fit(model=None, \n",
    "        optimizer=None, \n",
    "        scheduler=None, \n",
    "        epochs=None, \n",
    "        early_stopping_patience=None, \n",
    "        dataloaders=None, \n",
    "        fold=None, \n",
    "        save_path=None, \n",
    "        device=None,\n",
    "        verbose=False) -> tuple:\n",
    "    \n",
    "    def get_accuracy(y_pred, y_true):\n",
    "        y_pred = torch.sigmoid(y_pred)\n",
    "        \n",
    "        y_pred[y_pred > 0.5] = 1\n",
    "        y_pred[y_pred <= 0.5] = 0\n",
    "        \n",
    "        return torch.count_nonzero(y_pred == y_true).item() / len(y_pred)\n",
    "    \n",
    "    if verbose:\n",
    "        breaker()\n",
    "        if fold: print(f\"Training Fold {fold}...\")\n",
    "        else: print(\"Training ...\")\n",
    "        breaker()\n",
    "        \n",
    "    bestLoss, bestAccs = {\"train\" : np.inf, \"valid\" : np.inf}, {\"train\" : 0.0, \"valid\" : 0.0}\n",
    "    Losses, LRs, Accuracies = [], [], []\n",
    "    if fold: name = f\"state_fold_{fold}.pt\"\n",
    "    else: name = \"state.pt\"\n",
    "\n",
    "    start_time = time()\n",
    "    for e in range(epochs):\n",
    "        e_st = time()\n",
    "        epochLoss, epochAccs = {\"train\" : 0.0, \"valid\" : 0.0}, {\"train\" : 0.0, \"valid\" : 0.0}\n",
    "\n",
    "        for phase in [\"train\", \"valid\"]:\n",
    "            if phase == \"train\":\n",
    "                model.train()\n",
    "            else:\n",
    "                model.eval()\n",
    "            \n",
    "            lossPerPass, accsPerPass = [], []\n",
    "\n",
    "            for X, y in dataloaders[phase]:\n",
    "                X, y = X.to(device), y.to(device)\n",
    "\n",
    "                optimizer.zero_grad()\n",
    "                with torch.set_grad_enabled(phase == \"train\"):\n",
    "                    output = model(X)\n",
    "                    loss = torch.nn.BCEWithLogitsLoss()(output, y)\n",
    "                    if phase == \"train\":\n",
    "                        loss.backward()\n",
    "                        optimizer.step()\n",
    "                        if scheduler: scheduler.step()\n",
    "                lossPerPass.append(loss.item())\n",
    "                accsPerPass.append(get_accuracy(output, y))\n",
    "            epochLoss[phase] = np.mean(np.array(lossPerPass))\n",
    "            epochAccs[phase] = np.mean(np.array(accsPerPass))\n",
    "        LRs.append(scheduler.get_last_lr())\n",
    "        Losses.append(epochLoss)\n",
    "        Accuracies.append(epochAccs)\n",
    "        \n",
    "        if early_stopping_patience:\n",
    "            if epochLoss[\"valid\"] < bestLoss[\"valid\"]:\n",
    "                bestLoss = epochLoss\n",
    "                BLE = e + 1\n",
    "                torch.save({\"model_state_dict\"     : model.state_dict(),\n",
    "                            \"optim_state_dict\"     : optimizer.state_dict()},\n",
    "                           os.path.join(save_path, name))\n",
    "                early_stopping_step = 0\n",
    "            else:\n",
    "                early_stopping_step += 1\n",
    "                if early_stopping_step > early_stopping_patience:\n",
    "                    print(\"\\nEarly Stopping at Epoch {}\".format(e + 1))\n",
    "                    break\n",
    "        \n",
    "        if epochLoss[\"valid\"] < bestLoss[\"valid\"]:\n",
    "            bestLoss = epochLoss\n",
    "            BLE = e + 1\n",
    "            torch.save({\"model_state_dict\"     : model.state_dict(),\n",
    "                        \"optim_state_dict\"     : optimizer.state_dict()},\n",
    "                        os.path.join(save_path, name))\n",
    "        \n",
    "        if epochAccs[\"valid\"] > bestAccs[\"valid\"]:\n",
    "            bestAccs = epochAccs\n",
    "            BAE = e + 1\n",
    "        \n",
    "        # if scheduler: scheduler.step(epochLoss[\"valid\"])\n",
    "        \n",
    "        if verbose:\n",
    "            print(\"Epoch: {} | Train Loss: {:.5f} | Valid Loss: {:.5f} | Train Accs: {:.5f} | Valid Accs: {:.5f} | Time: {:.2f} seconds\".format(e+1, \n",
    "                                                                       epochLoss[\"train\"], epochLoss[\"valid\"], \n",
    "                                                                       epochAccs[\"train\"], epochAccs[\"valid\"], \n",
    "                                                                       time()-e_st))\n",
    "\n",
    "    if verbose:                                           \n",
    "        breaker()\n",
    "        print(f\"Best Validation Loss at Epoch {BLE}\")\n",
    "        breaker()\n",
    "        print(f\"Best Validation Accs at Epoch {BAE}\")\n",
    "        breaker()\n",
    "        print(\"Time Taken [{} Epochs] : {:.2f} minutes\".format(len(Losses), (time()-start_time)/60))\n",
    "    \n",
    "    return Losses, Accuracies, LRs, BLE, BAE, name\n",
    "\n",
    "\n",
    "def predict(model=None, dataloader=None, path=None, device=None) -> np.ndarray:\n",
    "    model.load_state_dict(torch.load(path, map_location=device)[\"model_state_dict\"])\n",
    "    model.to(device)    \n",
    "    model.eval()\n",
    "    \n",
    "    y_pred = torch.zeros(1, 1).to(device)\n",
    "    \n",
    "    for X in dataloader:\n",
    "        X = X.to(device)\n",
    "        with torch.no_grad():\n",
    "            output = torch.sigmoid(model(X))\n",
    "        y_pred = torch.cat((y_pred, output.view(-1, 1)), dim=0)\n",
    "    \n",
    "    y_pred[y_pred > 0.5] = 1\n",
    "    y_pred[y_pred <= 0.5] = 0\n",
    "    \n",
    "    return y_pred[1:].detach().cpu().numpy()"
   ]
  },
  {
   "cell_type": "markdown",
   "id": "91039600",
   "metadata": {
    "papermill": {
     "duration": 0.021999,
     "end_time": "2022-04-17T09:05:02.575707",
     "exception": false,
     "start_time": "2022-04-17T09:05:02.553708",
     "status": "completed"
    },
    "tags": []
   },
   "source": [
    "### **Train**"
   ]
  },
  {
   "cell_type": "code",
   "execution_count": 7,
   "id": "79c4dfbe",
   "metadata": {
    "execution": {
     "iopub.execute_input": "2022-04-17T09:05:02.610379Z",
     "iopub.status.busy": "2022-04-17T09:05:02.609782Z",
     "iopub.status.idle": "2022-04-17T09:05:09.821894Z",
     "shell.execute_reply": "2022-04-17T09:05:09.821247Z",
     "shell.execute_reply.started": "2022-04-09T01:18:47.643848Z"
    },
    "papermill": {
     "duration": 7.228375,
     "end_time": "2022-04-17T09:05:09.822036",
     "exception": false,
     "start_time": "2022-04-17T09:05:02.593661",
     "status": "completed"
    },
    "tags": []
   },
   "outputs": [],
   "source": [
    "images = np.load(f\"../input/chest-x-rays-images/train_images_{SIZE}.npy\")\n",
    "labels = np.load(f\"../input/chest-x-rays-images/train_targets_{SIZE}.npy\")"
   ]
  },
  {
   "cell_type": "code",
   "execution_count": 8,
   "id": "a9271897",
   "metadata": {
    "execution": {
     "iopub.execute_input": "2022-04-17T09:05:09.863508Z",
     "iopub.status.busy": "2022-04-17T09:05:09.858577Z",
     "iopub.status.idle": "2022-04-17T10:07:21.768363Z",
     "shell.execute_reply": "2022-04-17T10:07:21.768798Z",
     "shell.execute_reply.started": "2022-04-09T01:36:59.635267Z"
    },
    "papermill": {
     "duration": 3731.933416,
     "end_time": "2022-04-17T10:07:21.768966",
     "exception": false,
     "start_time": "2022-04-17T09:05:09.835550",
     "status": "completed"
    },
    "tags": []
   },
   "outputs": [
    {
     "name": "stderr",
     "output_type": "stream",
     "text": [
      "Downloading: \"https://download.pytorch.org/models/densenet121-a639ec97.pth\" to /root/.cache/torch/hub/checkpoints/densenet121-a639ec97.pth\n"
     ]
    },
    {
     "data": {
      "application/vnd.jupyter.widget-view+json": {
       "model_id": "04c86c6a4eb74f3db2635e47fc3785c6",
       "version_major": 2,
       "version_minor": 0
      },
      "text/plain": [
       "  0%|          | 0.00/30.8M [00:00<?, ?B/s]"
      ]
     },
     "metadata": {},
     "output_type": "display_data"
    },
    {
     "name": "stdout",
     "output_type": "stream",
     "text": [
      "\n",
      "**************************************************\n",
      "\n",
      "Training Fold 1...\n",
      "\n",
      "**************************************************\n",
      "\n",
      "Epoch: 1 | Train Loss: 0.33418 | Valid Loss: 0.06457 | Train Accs: 0.82567 | Valid Accs: 0.97389 | Time: 55.72 seconds\n",
      "Epoch: 2 | Train Loss: 0.08758 | Valid Loss: 0.05804 | Train Accs: 0.96671 | Valid Accs: 0.98011 | Time: 50.02 seconds\n",
      "Epoch: 3 | Train Loss: 0.07830 | Valid Loss: 0.06535 | Train Accs: 0.97185 | Valid Accs: 0.97795 | Time: 49.69 seconds\n",
      "Epoch: 4 | Train Loss: 0.08570 | Valid Loss: 0.03915 | Train Accs: 0.96923 | Valid Accs: 0.98864 | Time: 50.07 seconds\n",
      "Epoch: 5 | Train Loss: 0.07379 | Valid Loss: 0.07915 | Train Accs: 0.97143 | Valid Accs: 0.97200 | Time: 49.67 seconds\n",
      "Epoch: 6 | Train Loss: 0.07361 | Valid Loss: 0.06199 | Train Accs: 0.97238 | Valid Accs: 0.97389 | Time: 49.86 seconds\n",
      "Epoch: 7 | Train Loss: 0.04659 | Valid Loss: 0.06849 | Train Accs: 0.98282 | Valid Accs: 0.97606 | Time: 49.93 seconds\n",
      "Epoch: 8 | Train Loss: 0.04244 | Valid Loss: 0.04625 | Train Accs: 0.98736 | Valid Accs: 0.98052 | Time: 49.59 seconds\n",
      "Epoch: 9 | Train Loss: 0.03495 | Valid Loss: 1.48263 | Train Accs: 0.98664 | Valid Accs: 0.77394 | Time: 49.61 seconds\n",
      "\n",
      "Early Stopping at Epoch 10\n",
      "\n",
      "**************************************************\n",
      "\n",
      "Best Validation Loss at Epoch 4\n",
      "\n",
      "**************************************************\n",
      "\n",
      "Best Validation Accs at Epoch 4\n",
      "\n",
      "**************************************************\n",
      "\n",
      "Time Taken [10 Epochs] : 8.40 minutes\n",
      "\n",
      "**************************************************\n",
      "\n"
     ]
    },
    {
     "data": {
      "image/png": "[encoded data removed]",
      "text/plain": [
       "<Figure size 576x432 with 2 Axes>"
      ]
     },
     "metadata": {
      "needs_background": "light"
     },
     "output_type": "display_data"
    },
    {
     "name": "stdout",
     "output_type": "stream",
     "text": [
      "\n",
      "**************************************************\n",
      "\n",
      "Training Fold 2...\n",
      "\n",
      "**************************************************\n",
      "\n",
      "Epoch: 1 | Train Loss: 0.42250 | Valid Loss: 0.08593 | Train Accs: 0.76028 | Valid Accs: 0.98090 | Time: 41.35 seconds\n",
      "Epoch: 2 | Train Loss: 0.05541 | Valid Loss: 0.06092 | Train Accs: 0.98103 | Valid Accs: 0.98182 | Time: 41.67 seconds\n",
      "Epoch: 3 | Train Loss: 0.04647 | Valid Loss: 0.07943 | Train Accs: 0.98282 | Valid Accs: 0.96272 | Time: 41.20 seconds\n",
      "Epoch: 4 | Train Loss: 0.04137 | Valid Loss: 0.12053 | Train Accs: 0.98722 | Valid Accs: 0.95596 | Time: 41.11 seconds\n",
      "Epoch: 5 | Train Loss: 0.02717 | Valid Loss: 0.07260 | Train Accs: 0.99195 | Valid Accs: 0.96915 | Time: 41.17 seconds\n",
      "Epoch: 6 | Train Loss: 0.01596 | Valid Loss: 0.06489 | Train Accs: 0.99395 | Valid Accs: 0.97335 | Time: 41.35 seconds\n",
      "Epoch: 7 | Train Loss: 0.01177 | Valid Loss: 0.02595 | Train Accs: 0.99645 | Valid Accs: 0.99265 | Time: 41.52 seconds\n",
      "Epoch: 8 | Train Loss: 0.00287 | Valid Loss: 0.04079 | Train Accs: 0.99976 | Valid Accs: 0.98897 | Time: 41.23 seconds\n",
      "Epoch: 9 | Train Loss: 0.02586 | Valid Loss: 0.05162 | Train Accs: 0.99100 | Valid Accs: 0.98162 | Time: 41.10 seconds\n",
      "Epoch: 10 | Train Loss: 0.01571 | Valid Loss: 0.02650 | Train Accs: 0.99384 | Valid Accs: 0.99173 | Time: 41.29 seconds\n",
      "Epoch: 11 | Train Loss: 0.00490 | Valid Loss: 0.02506 | Train Accs: 0.99858 | Valid Accs: 0.99081 | Time: 41.63 seconds\n",
      "Epoch: 12 | Train Loss: 0.00274 | Valid Loss: 0.01670 | Train Accs: 0.99929 | Valid Accs: 0.99449 | Time: 41.49 seconds\n",
      "Epoch: 13 | Train Loss: 0.00069 | Valid Loss: 0.01675 | Train Accs: 1.00000 | Valid Accs: 0.99265 | Time: 41.19 seconds\n",
      "Epoch: 14 | Train Loss: 0.00055 | Valid Loss: 0.02062 | Train Accs: 1.00000 | Valid Accs: 0.99449 | Time: 41.10 seconds\n",
      "Epoch: 15 | Train Loss: 0.00042 | Valid Loss: 0.01713 | Train Accs: 1.00000 | Valid Accs: 0.99081 | Time: 41.28 seconds\n",
      "Epoch: 16 | Train Loss: 0.00036 | Valid Loss: 0.02049 | Train Accs: 1.00000 | Valid Accs: 0.99357 | Time: 41.11 seconds\n",
      "Epoch: 17 | Train Loss: 0.00022 | Valid Loss: 0.01832 | Train Accs: 1.00000 | Valid Accs: 0.99265 | Time: 41.24 seconds\n",
      "\n",
      "Early Stopping at Epoch 18\n",
      "\n",
      "**************************************************\n",
      "\n",
      "Best Validation Loss at Epoch 12\n",
      "\n",
      "**************************************************\n",
      "\n",
      "Best Validation Accs at Epoch 12\n",
      "\n",
      "**************************************************\n",
      "\n",
      "Time Taken [18 Epochs] : 12.39 minutes\n",
      "\n",
      "**************************************************\n",
      "\n"
     ]
    },
    {
     "data": {
      "image/png": "[encoded data removed]",
      "text/plain": [
       "<Figure size 576x432 with 2 Axes>"
      ]
     },
     "metadata": {
      "needs_background": "light"
     },
     "output_type": "display_data"
    },
    {
     "name": "stdout",
     "output_type": "stream",
     "text": [
      "\n",
      "**************************************************\n",
      "\n",
      "Training Fold 3...\n",
      "\n",
      "**************************************************\n",
      "\n",
      "Epoch: 1 | Train Loss: 0.42217 | Valid Loss: 0.15284 | Train Accs: 0.75379 | Valid Accs: 0.95772 | Time: 41.27 seconds\n",
      "Epoch: 2 | Train Loss: 0.05641 | Valid Loss: 0.18634 | Train Accs: 0.98214 | Valid Accs: 0.91862 | Time: 41.05 seconds\n",
      "Epoch: 3 | Train Loss: 0.05077 | Valid Loss: 0.33087 | Train Accs: 0.98106 | Valid Accs: 0.89154 | Time: 41.11 seconds\n",
      "Epoch: 4 | Train Loss: 0.04475 | Valid Loss: 0.39950 | Train Accs: 0.98379 | Valid Accs: 0.83748 | Time: 41.11 seconds\n",
      "Epoch: 5 | Train Loss: 0.03893 | Valid Loss: 0.05856 | Train Accs: 0.98603 | Valid Accs: 0.97978 | Time: 41.45 seconds\n",
      "Epoch: 6 | Train Loss: 0.02020 | Valid Loss: 0.04216 | Train Accs: 0.99290 | Valid Accs: 0.98178 | Time: 41.40 seconds\n",
      "Epoch: 7 | Train Loss: 0.00641 | Valid Loss: 0.02001 | Train Accs: 0.99882 | Valid Accs: 0.98897 | Time: 41.38 seconds\n",
      "Epoch: 8 | Train Loss: 0.00509 | Valid Loss: 0.02339 | Train Accs: 0.99858 | Valid Accs: 0.99089 | Time: 41.12 seconds\n",
      "Epoch: 9 | Train Loss: 0.00122 | Valid Loss: 0.01212 | Train Accs: 1.00000 | Valid Accs: 0.99632 | Time: 41.29 seconds\n",
      "Epoch: 10 | Train Loss: 0.00548 | Valid Loss: 0.04610 | Train Accs: 0.99858 | Valid Accs: 0.98262 | Time: 41.12 seconds\n",
      "Epoch: 11 | Train Loss: 0.01102 | Valid Loss: 0.01329 | Train Accs: 0.99645 | Valid Accs: 0.99265 | Time: 41.14 seconds\n",
      "Epoch: 12 | Train Loss: 0.00377 | Valid Loss: 0.03076 | Train Accs: 0.99929 | Valid Accs: 0.98905 | Time: 41.06 seconds\n",
      "Epoch: 13 | Train Loss: 0.00191 | Valid Loss: 0.00752 | Train Accs: 0.99953 | Valid Accs: 0.99724 | Time: 41.34 seconds\n",
      "Epoch: 14 | Train Loss: 0.00090 | Valid Loss: 0.00630 | Train Accs: 0.99976 | Valid Accs: 0.99816 | Time: 41.30 seconds\n",
      "Epoch: 15 | Train Loss: 0.00050 | Valid Loss: 0.00586 | Train Accs: 1.00000 | Valid Accs: 0.99908 | Time: 41.49 seconds\n",
      "Epoch: 16 | Train Loss: 0.00037 | Valid Loss: 0.00820 | Train Accs: 1.00000 | Valid Accs: 0.99540 | Time: 41.16 seconds\n",
      "Epoch: 17 | Train Loss: 0.00055 | Valid Loss: 0.01098 | Train Accs: 1.00000 | Valid Accs: 0.99449 | Time: 41.05 seconds\n",
      "Epoch: 18 | Train Loss: 0.00026 | Valid Loss: 0.00827 | Train Accs: 1.00000 | Valid Accs: 0.99632 | Time: 41.00 seconds\n",
      "Epoch: 19 | Train Loss: 0.00036 | Valid Loss: 0.00589 | Train Accs: 1.00000 | Valid Accs: 0.99816 | Time: 41.26 seconds\n",
      "Epoch: 20 | Train Loss: 0.00023 | Valid Loss: 0.00584 | Train Accs: 1.00000 | Valid Accs: 0.99816 | Time: 41.46 seconds\n",
      "\n",
      "**************************************************\n",
      "\n",
      "Best Validation Loss at Epoch 20\n",
      "\n",
      "**************************************************\n",
      "\n",
      "Best Validation Accs at Epoch 15\n",
      "\n",
      "**************************************************\n",
      "\n",
      "Time Taken [20 Epochs] : 13.74 minutes\n",
      "\n",
      "**************************************************\n",
      "\n"
     ]
    },
    {
     "data": {
      "image/png": "[encoded data removed]",
      "text/plain": [
       "<Figure size 576x432 with 2 Axes>"
      ]
     },
     "metadata": {
      "needs_background": "light"
     },
     "output_type": "display_data"
    },
    {
     "name": "stdout",
     "output_type": "stream",
     "text": [
      "\n",
      "**************************************************\n",
      "\n",
      "Training Fold 4...\n",
      "\n",
      "**************************************************\n",
      "\n",
      "Epoch: 1 | Train Loss: 0.41572 | Valid Loss: 0.09379 | Train Accs: 0.75994 | Valid Accs: 0.97702 | Time: 41.37 seconds\n",
      "Epoch: 2 | Train Loss: 0.04807 | Valid Loss: 0.18450 | Train Accs: 0.98461 | Valid Accs: 0.91360 | Time: 41.24 seconds\n",
      "Epoch: 3 | Train Loss: 0.05043 | Valid Loss: 0.04264 | Train Accs: 0.98295 | Valid Accs: 0.98262 | Time: 41.57 seconds\n",
      "Epoch: 4 | Train Loss: 0.03723 | Valid Loss: 0.11505 | Train Accs: 0.98674 | Valid Accs: 0.96340 | Time: 41.14 seconds\n",
      "Epoch: 5 | Train Loss: 0.04865 | Valid Loss: 0.17855 | Train Accs: 0.98106 | Valid Accs: 0.92806 | Time: 40.99 seconds\n",
      "Epoch: 6 | Train Loss: 0.02029 | Valid Loss: 0.04627 | Train Accs: 0.99337 | Valid Accs: 0.98254 | Time: 41.05 seconds\n",
      "Epoch: 7 | Train Loss: 0.01230 | Valid Loss: 0.02194 | Train Accs: 0.99574 | Valid Accs: 0.99357 | Time: 41.40 seconds\n",
      "Epoch: 8 | Train Loss: 0.00402 | Valid Loss: 0.02129 | Train Accs: 0.99953 | Valid Accs: 0.99265 | Time: 41.40 seconds\n",
      "Epoch: 9 | Train Loss: 0.00378 | Valid Loss: 0.02564 | Train Accs: 0.99882 | Valid Accs: 0.98897 | Time: 41.03 seconds\n",
      "Epoch: 10 | Train Loss: 0.01070 | Valid Loss: 0.10257 | Train Accs: 0.99539 | Valid Accs: 0.96599 | Time: 41.18 seconds\n",
      "Epoch: 11 | Train Loss: 0.01827 | Valid Loss: 0.02693 | Train Accs: 0.99361 | Valid Accs: 0.99173 | Time: 41.19 seconds\n",
      "Epoch: 12 | Train Loss: 0.00671 | Valid Loss: 0.02677 | Train Accs: 0.99763 | Valid Accs: 0.98997 | Time: 41.01 seconds\n",
      "Epoch: 13 | Train Loss: 0.00211 | Valid Loss: 0.01785 | Train Accs: 0.99976 | Valid Accs: 0.99357 | Time: 41.41 seconds\n",
      "Epoch: 14 | Train Loss: 0.00086 | Valid Loss: 0.01461 | Train Accs: 1.00000 | Valid Accs: 0.99357 | Time: 41.39 seconds\n",
      "Epoch: 15 | Train Loss: 0.00038 | Valid Loss: 0.01582 | Train Accs: 1.00000 | Valid Accs: 0.99449 | Time: 41.16 seconds\n",
      "Epoch: 16 | Train Loss: 0.00070 | Valid Loss: 0.01633 | Train Accs: 1.00000 | Valid Accs: 0.99540 | Time: 41.19 seconds\n",
      "Epoch: 17 | Train Loss: 0.00058 | Valid Loss: 0.01675 | Train Accs: 1.00000 | Valid Accs: 0.99449 | Time: 40.99 seconds\n",
      "Epoch: 18 | Train Loss: 0.00028 | Valid Loss: 0.01623 | Train Accs: 1.00000 | Valid Accs: 0.99449 | Time: 41.05 seconds\n",
      "Epoch: 19 | Train Loss: 0.00041 | Valid Loss: 0.01642 | Train Accs: 1.00000 | Valid Accs: 0.99449 | Time: 41.13 seconds\n",
      "\n",
      "Early Stopping at Epoch 20\n",
      "\n",
      "**************************************************\n",
      "\n",
      "Best Validation Loss at Epoch 14\n",
      "\n",
      "**************************************************\n",
      "\n",
      "Best Validation Accs at Epoch 16\n",
      "\n",
      "**************************************************\n",
      "\n",
      "Time Taken [20 Epochs] : 13.73 minutes\n",
      "\n",
      "**************************************************\n",
      "\n"
     ]
    },
    {
     "data": {
      "image/png": "[encoded data removed]",
      "text/plain": [
       "<Figure size 576x432 with 2 Axes>"
      ]
     },
     "metadata": {
      "needs_background": "light"
     },
     "output_type": "display_data"
    },
    {
     "name": "stdout",
     "output_type": "stream",
     "text": [
      "\n",
      "**************************************************\n",
      "\n",
      "Training Fold 5...\n",
      "\n",
      "**************************************************\n",
      "\n",
      "Epoch: 1 | Train Loss: 0.41862 | Valid Loss: 0.16677 | Train Accs: 0.75592 | Valid Accs: 0.95129 | Time: 41.21 seconds\n",
      "Epoch: 2 | Train Loss: 0.05991 | Valid Loss: 0.04735 | Train Accs: 0.97940 | Valid Accs: 0.98346 | Time: 41.34 seconds\n",
      "Epoch: 3 | Train Loss: 0.04480 | Valid Loss: 0.08608 | Train Accs: 0.98627 | Valid Accs: 0.97076 | Time: 41.21 seconds\n",
      "Epoch: 4 | Train Loss: 0.03566 | Valid Loss: 1.99182 | Train Accs: 0.98580 | Valid Accs: 0.44485 | Time: 41.01 seconds\n",
      "Epoch: 5 | Train Loss: 0.04053 | Valid Loss: 0.51539 | Train Accs: 0.98509 | Valid Accs: 0.81927 | Time: 40.93 seconds\n",
      "Epoch: 6 | Train Loss: 0.02204 | Valid Loss: 0.03504 | Train Accs: 0.99219 | Valid Accs: 0.98805 | Time: 41.33 seconds\n",
      "Epoch: 7 | Train Loss: 0.01370 | Valid Loss: 0.03213 | Train Accs: 0.99550 | Valid Accs: 0.98897 | Time: 41.47 seconds\n",
      "Epoch: 8 | Train Loss: 0.00855 | Valid Loss: 0.02020 | Train Accs: 0.99621 | Valid Accs: 0.99173 | Time: 41.35 seconds\n",
      "Epoch: 9 | Train Loss: 0.00767 | Valid Loss: 0.04158 | Train Accs: 0.99811 | Valid Accs: 0.98621 | Time: 41.03 seconds\n",
      "Epoch: 10 | Train Loss: 0.00597 | Valid Loss: 0.03795 | Train Accs: 0.99787 | Valid Accs: 0.98446 | Time: 41.24 seconds\n",
      "Epoch: 11 | Train Loss: 0.00231 | Valid Loss: 0.02685 | Train Accs: 0.99929 | Valid Accs: 0.98897 | Time: 41.20 seconds\n",
      "Epoch: 12 | Train Loss: 0.00236 | Valid Loss: 0.02586 | Train Accs: 0.99953 | Valid Accs: 0.99081 | Time: 41.05 seconds\n",
      "Epoch: 13 | Train Loss: 0.00113 | Valid Loss: 0.01907 | Train Accs: 0.99976 | Valid Accs: 0.99357 | Time: 41.37 seconds\n",
      "Epoch: 14 | Train Loss: 0.00052 | Valid Loss: 0.01874 | Train Accs: 1.00000 | Valid Accs: 0.99265 | Time: 41.32 seconds\n",
      "Epoch: 15 | Train Loss: 0.00033 | Valid Loss: 0.01945 | Train Accs: 1.00000 | Valid Accs: 0.99265 | Time: 41.29 seconds\n",
      "Epoch: 16 | Train Loss: 0.00035 | Valid Loss: 0.01952 | Train Accs: 1.00000 | Valid Accs: 0.99265 | Time: 40.97 seconds\n",
      "Epoch: 17 | Train Loss: 0.00056 | Valid Loss: 0.02280 | Train Accs: 1.00000 | Valid Accs: 0.99357 | Time: 41.07 seconds\n",
      "Epoch: 18 | Train Loss: 0.00022 | Valid Loss: 0.02045 | Train Accs: 1.00000 | Valid Accs: 0.99265 | Time: 41.01 seconds\n",
      "Epoch: 19 | Train Loss: 0.00027 | Valid Loss: 0.01899 | Train Accs: 1.00000 | Valid Accs: 0.99265 | Time: 41.18 seconds\n",
      "\n",
      "Early Stopping at Epoch 20\n",
      "\n",
      "**************************************************\n",
      "\n",
      "Best Validation Loss at Epoch 14\n",
      "\n",
      "**************************************************\n",
      "\n",
      "Best Validation Accs at Epoch 13\n",
      "\n",
      "**************************************************\n",
      "\n",
      "Time Taken [20 Epochs] : 13.73 minutes\n",
      "\n",
      "**************************************************\n",
      "\n"
     ]
    },
    {
     "data": {
      "image/png": "[encoded data removed]",
      "text/plain": [
       "<Figure size 576x432 with 2 Axes>"
      ]
     },
     "metadata": {
      "needs_background": "light"
     },
     "output_type": "display_data"
    }
   ],
   "source": [
    "fold = 1\n",
    "BLEs, BAEs = [], []\n",
    "\n",
    "for tr_idx, va_idx in KFold(n_splits=cfg.n_splits, random_state=SEED, shuffle=True).split(images):\n",
    "    tr_images, va_images, tr_labels, va_labels = images[tr_idx], images[va_idx], labels[tr_idx], labels[va_idx]\n",
    "\n",
    "    tr_data_setup = DS(tr_images, tr_labels.reshape(-1, 1), cfg.transform)\n",
    "    va_data_setup = DS(va_images, va_labels.reshape(-1, 1), cfg.transform)\n",
    "\n",
    "    dataloaders = {\n",
    "        \"train\" : DL(tr_data_setup, batch_size=cfg.batch_size, shuffle=True, generator=torch.manual_seed(cfg.seed)),\n",
    "        \"valid\" : DL(va_data_setup, batch_size=cfg.batch_size, shuffle=False),\n",
    "    }\n",
    "\n",
    "    cfg = CFG(epochs=20, lr=1e-3, wd=0.0, batch_size=64, steps_per_epoch=len(dataloaders[\"train\"]))\n",
    "\n",
    "    torch.manual_seed(cfg.seed)\n",
    "    model = Model().to(cfg.device)\n",
    "    optimizer = optim.Adam([p for p in model.parameters() if p.requires_grad], lr=cfg.lr, weight_decay=cfg.wd)\n",
    "    scheduler = optim.lr_scheduler.OneCycleLR(optimizer=optimizer, \n",
    "                                              max_lr=cfg.max_lr, \n",
    "                                              epochs=cfg.epochs, \n",
    "                                              steps_per_epoch=cfg.steps_per_epoch,\n",
    "                                              pct_start=cfg.pct_start, \n",
    "                                              div_factor=cfg.div_factor, \n",
    "                                              final_div_factor=cfg.final_div_factor)\n",
    "    # scheduler = None\n",
    "\n",
    "    L, A, LRs, BLE, BAE, name = fit(model=model, \n",
    "                                    optimizer=optimizer, \n",
    "                                    scheduler=scheduler, \n",
    "                                    epochs=cfg.epochs, \n",
    "                                    early_stopping_patience=cfg.early_stopping, \n",
    "                                    dataloaders=dataloaders, \n",
    "                                    device=cfg.device,\n",
    "                                    save_path=cfg.save_path,\n",
    "                                    fold = fold,\n",
    "                                    verbose=True)\n",
    "\n",
    "    breaker()\n",
    "    show_graphs(L, A)\n",
    "    \n",
    "    BLEs.append(BLE)\n",
    "    BAEs.append(BAE)\n",
    "\n",
    "    fold += 1"
   ]
  },
  {
   "cell_type": "markdown",
   "id": "7d124919",
   "metadata": {
    "papermill": {
     "duration": 0.048596,
     "end_time": "2022-04-17T10:07:21.866697",
     "exception": false,
     "start_time": "2022-04-17T10:07:21.818101",
     "status": "completed"
    },
    "tags": []
   },
   "source": [
    "### **Predictions**"
   ]
  },
  {
   "cell_type": "code",
   "execution_count": 9,
   "id": "f15c11e4",
   "metadata": {
    "execution": {
     "iopub.execute_input": "2022-04-17T10:07:21.969527Z",
     "iopub.status.busy": "2022-04-17T10:07:21.968975Z",
     "iopub.status.idle": "2022-04-17T10:07:25.388630Z",
     "shell.execute_reply": "2022-04-17T10:07:25.388078Z",
     "shell.execute_reply.started": "2022-04-09T01:41:41.028783Z"
    },
    "papermill": {
     "duration": 3.474622,
     "end_time": "2022-04-17T10:07:25.388776",
     "exception": false,
     "start_time": "2022-04-17T10:07:21.914154",
     "status": "completed"
    },
    "tags": []
   },
   "outputs": [
    {
     "name": "stdout",
     "output_type": "stream",
     "text": [
      "\n",
      "**************************************************\n",
      "\n",
      "Best Fold : 1\n",
      "\n",
      "**************************************************\n",
      "\n",
      "Accuracy  : 0.85096\n",
      "ROC-AUC   : 0.89811\n",
      "Precision : [0.61111111 0.99487179]\n",
      "Recall    : [0.9862069  0.81002088]\n",
      "F-Score   : [0.75461741 0.89298044]\n",
      "\n",
      "**************************************************\n",
      "\n",
      "              precision    recall  f1-score   support\n",
      "\n",
      "         0.0       0.99      0.61      0.75       234\n",
      "         1.0       0.81      0.99      0.89       390\n",
      "\n",
      "    accuracy                           0.85       624\n",
      "   macro avg       0.90      0.80      0.82       624\n",
      "weighted avg       0.88      0.85      0.84       624\n",
      "\n",
      "\n",
      "**************************************************\n",
      "\n",
      "[[143  91]\n",
      " [  2 388]]\n",
      "\n",
      "**************************************************\n",
      "\n"
     ]
    }
   ],
   "source": [
    "test_images = np.load(f\"../input/chest-x-rays-images/test_images_{SIZE}.npy\")\n",
    "test_labels = np.load(f\"../input/chest-x-rays-images/test_targets_{SIZE}.npy\")\n",
    "\n",
    "ts_data_setup = DS(test_images, None, cfg.transform)\n",
    "ts_data = DL(ts_data_setup, batch_size=cfg.batch_size, shuffle=False)\n",
    "\n",
    "best_fold = BLEs.index(min(BLEs)) + 1\n",
    "model_path = f\"saves/state_fold_{best_fold}.pt\"\n",
    "y_pred = predict(model=Model().to(cfg.device), dataloader=ts_data, path=model_path, device=cfg.device)\n",
    "\n",
    "accuracy, auc, precision, recall, f_score = get_scores(test_labels, y_pred)\n",
    "\n",
    "breaker()\n",
    "print(f\"Best Fold : {best_fold}\")\n",
    "breaker()\n",
    "print_scores(accuracy, auc, precision, recall, f_score)\n",
    "breaker()\n",
    "print(classification_report(test_labels, y_pred))\n",
    "breaker()\n",
    "print(confusion_matrix(test_labels, y_pred))\n",
    "breaker()"
   ]
  }
 ],
 "metadata": {
  "kernelspec": {
   "display_name": "Python 3",
   "language": "python",
   "name": "python3"
  },
  "language_info": {
   "codemirror_mode": {
    "name": "ipython",
    "version": 3
   },
   "file_extension": ".py",
   "mimetype": "text/x-python",
   "name": "python",
   "nbconvert_exporter": "python",
   "pygments_lexer": "ipython3",
   "version": "3.7.12"
  },
  "papermill": {
   "default_parameters": {},
   "duration": 3755.433121,
   "end_time": "2022-04-17T10:07:26.859100",
   "environment_variables": {},
   "exception": null,
   "input_path": "__notebook__.ipynb",
   "output_path": "__notebook__.ipynb",
   "parameters": {},
   "start_time": "2022-04-17T09:04:51.425979",
   "version": "2.3.3"
  },
  "widgets": {
   "application/vnd.jupyter.widget-state+json": {
    "state": {
     "04c86c6a4eb74f3db2635e47fc3785c6": {
      "model_module": "@jupyter-widgets/controls",
      "model_module_version": "1.5.0",
      "model_name": "HBoxModel",
      "state": {
       "_dom_classes": [],
       "_model_module": "@jupyter-widgets/controls",
       "_model_module_version": "1.5.0",
       "_model_name": "HBoxModel",
       "_view_count": null,
       "_view_module": "@jupyter-widgets/controls",
       "_view_module_version": "1.5.0",
       "_view_name": "HBoxView",
       "box_style": "",
       "children": [
        "IPY_MODEL_120b555bec5e4a83b826b6d07e34ebcf",
        "IPY_MODEL_3e63ca5ee17d4936a6f6e903c2fa35f6",
        "IPY_MODEL_c13cd0631f09401aa3eeb373e12859e8"
       ],
       "layout": "IPY_MODEL_8c849a7dffbd4bb481856bbecd70ed3c"
      }
     },
     "1094c6bffda0409ba0cd19c4bfb91545": {
      "model_module": "@jupyter-widgets/base",
      "model_module_version": "1.2.0",
      "model_name": "LayoutModel",
      "state": {
       "_model_module": "@jupyter-widgets/base",
       "_model_module_version": "1.2.0",
       "_model_name": "LayoutModel",
       "_view_count": null,
       "_view_module": "@jupyter-widgets/base",
       "_view_module_version": "1.2.0",
       "_view_name": "LayoutView",
       "align_content": null,
       "align_items": null,
       "align_self": null,
       "border": null,
       "bottom": null,
       "display": null,
       "flex": null,
       "flex_flow": null,
       "grid_area": null,
       "grid_auto_columns": null,
       "grid_auto_flow": null,
       "grid_auto_rows": null,
       "grid_column": null,
       "grid_gap": null,
       "grid_row": null,
       "grid_template_areas": null,
       "grid_template_columns": null,
       "grid_template_rows": null,
       "height": null,
       "justify_content": null,
       "justify_items": null,
       "left": null,
       "margin": null,
       "max_height": null,
       "max_width": null,
       "min_height": null,
       "min_width": null,
       "object_fit": null,
       "object_position": null,
       "order": null,
       "overflow": null,
       "overflow_x": null,
       "overflow_y": null,
       "padding": null,
       "right": null,
       "top": null,
       "visibility": null,
       "width": null
      }
     },
     "120b555bec5e4a83b826b6d07e34ebcf": {
      "model_module": "@jupyter-widgets/controls",
      "model_module_version": "1.5.0",
      "model_name": "HTMLModel",
      "state": {
       "_dom_classes": [],
       "_model_module": "@jupyter-widgets/controls",
       "_model_module_version": "1.5.0",
       "_model_name": "HTMLModel",
       "_view_count": null,
       "_view_module": "@jupyter-widgets/controls",
       "_view_module_version": "1.5.0",
       "_view_name": "HTMLView",
       "description": "",
       "description_tooltip": null,
       "layout": "IPY_MODEL_aaaa5e4f4aff46e1b841ce93207dc9d1",
       "placeholder": "​",
       "style": "IPY_MODEL_7d244c8b5e5d4205ab14802e52019f57",
       "value": "100%"
      }
     },
     "1fa02aef312c43c590406ce8a4663095": {
      "model_module": "@jupyter-widgets/controls",
      "model_module_version": "1.5.0",
      "model_name": "ProgressStyleModel",
      "state": {
       "_model_module": "@jupyter-widgets/controls",
       "_model_module_version": "1.5.0",
       "_model_name": "ProgressStyleModel",
       "_view_count": null,
       "_view_module": "@jupyter-widgets/base",
       "_view_module_version": "1.2.0",
       "_view_name": "StyleView",
       "bar_color": null,
       "description_width": ""
      }
     },
     "3e63ca5ee17d4936a6f6e903c2fa35f6": {
      "model_module": "@jupyter-widgets/controls",
      "model_module_version": "1.5.0",
      "model_name": "FloatProgressModel",
      "state": {
       "_dom_classes": [],
       "_model_module": "@jupyter-widgets/controls",
       "_model_module_version": "1.5.0",
       "_model_name": "FloatProgressModel",
       "_view_count": null,
       "_view_module": "@jupyter-widgets/controls",
       "_view_module_version": "1.5.0",
       "_view_name": "ProgressView",
       "bar_style": "success",
       "description": "",
       "description_tooltip": null,
       "layout": "IPY_MODEL_be0c6163a0a147ffba33baf8ed078282",
       "max": 32342954.0,
       "min": 0.0,
       "orientation": "horizontal",
       "style": "IPY_MODEL_1fa02aef312c43c590406ce8a4663095",
       "value": 32342954.0
      }
     },
     "6627d2750cc24d708b202997444c3b64": {
      "model_module": "@jupyter-widgets/controls",
      "model_module_version": "1.5.0",
      "model_name": "DescriptionStyleModel",
      "state": {
       "_model_module": "@jupyter-widgets/controls",
       "_model_module_version": "1.5.0",
       "_model_name": "DescriptionStyleModel",
       "_view_count": null,
       "_view_module": "@jupyter-widgets/base",
       "_view_module_version": "1.2.0",
       "_view_name": "StyleView",
       "description_width": ""
      }
     },
     "7d244c8b5e5d4205ab14802e52019f57": {
      "model_module": "@jupyter-widgets/controls",
      "model_module_version": "1.5.0",
      "model_name": "DescriptionStyleModel",
      "state": {
       "_model_module": "@jupyter-widgets/controls",
       "_model_module_version": "1.5.0",
       "_model_name": "DescriptionStyleModel",
       "_view_count": null,
       "_view_module": "@jupyter-widgets/base",
       "_view_module_version": "1.2.0",
       "_view_name": "StyleView",
       "description_width": ""
      }
     },
     "8c849a7dffbd4bb481856bbecd70ed3c": {
      "model_module": "@jupyter-widgets/base",
      "model_module_version": "1.2.0",
      "model_name": "LayoutModel",
      "state": {
       "_model_module": "@jupyter-widgets/base",
       "_model_module_version": "1.2.0",
       "_model_name": "LayoutModel",
       "_view_count": null,
       "_view_module": "@jupyter-widgets/base",
       "_view_module_version": "1.2.0",
       "_view_name": "LayoutView",
       "align_content": null,
       "align_items": null,
       "align_self": null,
       "border": null,
       "bottom": null,
       "display": null,
       "flex": null,
       "flex_flow": null,
       "grid_area": null,
       "grid_auto_columns": null,
       "grid_auto_flow": null,
       "grid_auto_rows": null,
       "grid_column": null,
       "grid_gap": null,
       "grid_row": null,
       "grid_template_areas": null,
       "grid_template_columns": null,
       "grid_template_rows": null,
       "height": null,
       "justify_content": null,
       "justify_items": null,
       "left": null,
       "margin": null,
       "max_height": null,
       "max_width": null,
       "min_height": null,
       "min_width": null,
       "object_fit": null,
       "object_position": null,
       "order": null,
       "overflow": null,
       "overflow_x": null,
       "overflow_y": null,
       "padding": null,
       "right": null,
       "top": null,
       "visibility": null,
       "width": null
      }
     },
     "aaaa5e4f4aff46e1b841ce93207dc9d1": {
      "model_module": "@jupyter-widgets/base",
      "model_module_version": "1.2.0",
      "model_name": "LayoutModel",
      "state": {
       "_model_module": "@jupyter-widgets/base",
       "_model_module_version": "1.2.0",
       "_model_name": "LayoutModel",
       "_view_count": null,
       "_view_module": "@jupyter-widgets/base",
       "_view_module_version": "1.2.0",
       "_view_name": "LayoutView",
       "align_content": null,
       "align_items": null,
       "align_self": null,
       "border": null,
       "bottom": null,
       "display": null,
       "flex": null,
       "flex_flow": null,
       "grid_area": null,
       "grid_auto_columns": null,
       "grid_auto_flow": null,
       "grid_auto_rows": null,
       "grid_column": null,
       "grid_gap": null,
       "grid_row": null,
       "grid_template_areas": null,
       "grid_template_columns": null,
       "grid_template_rows": null,
       "height": null,
       "justify_content": null,
       "justify_items": null,
       "left": null,
       "margin": null,
       "max_height": null,
       "max_width": null,
       "min_height": null,
       "min_width": null,
       "object_fit": null,
       "object_position": null,
       "order": null,
       "overflow": null,
       "overflow_x": null,
       "overflow_y": null,
       "padding": null,
       "right": null,
       "top": null,
       "visibility": null,
       "width": null
      }
     },
     "be0c6163a0a147ffba33baf8ed078282": {
      "model_module": "@jupyter-widgets/base",
      "model_module_version": "1.2.0",
      "model_name": "LayoutModel",
      "state": {
       "_model_module": "@jupyter-widgets/base",
       "_model_module_version": "1.2.0",
       "_model_name": "LayoutModel",
       "_view_count": null,
       "_view_module": "@jupyter-widgets/base",
       "_view_module_version": "1.2.0",
       "_view_name": "LayoutView",
       "align_content": null,
       "align_items": null,
       "align_self": null,
       "border": null,
       "bottom": null,
       "display": null,
       "flex": null,
       "flex_flow": null,
       "grid_area": null,
       "grid_auto_columns": null,
       "grid_auto_flow": null,
       "grid_auto_rows": null,
       "grid_column": null,
       "grid_gap": null,
       "grid_row": null,
       "grid_template_areas": null,
       "grid_template_columns": null,
       "grid_template_rows": null,
       "height": null,
       "justify_content": null,
       "justify_items": null,
       "left": null,
       "margin": null,
       "max_height": null,
       "max_width": null,
       "min_height": null,
       "min_width": null,
       "object_fit": null,
       "object_position": null,
       "order": null,
       "overflow": null,
       "overflow_x": null,
       "overflow_y": null,
       "padding": null,
       "right": null,
       "top": null,
       "visibility": null,
       "width": null
      }
     },
     "c13cd0631f09401aa3eeb373e12859e8": {
      "model_module": "@jupyter-widgets/controls",
      "model_module_version": "1.5.0",
      "model_name": "HTMLModel",
      "state": {
       "_dom_classes": [],
       "_model_module": "@jupyter-widgets/controls",
       "_model_module_version": "1.5.0",
       "_model_name": "HTMLModel",
       "_view_count": null,
       "_view_module": "@jupyter-widgets/controls",
       "_view_module_version": "1.5.0",
       "_view_name": "HTMLView",
       "description": "",
       "description_tooltip": null,
       "layout": "IPY_MODEL_1094c6bffda0409ba0cd19c4bfb91545",
       "placeholder": "​",
       "style": "IPY_MODEL_6627d2750cc24d708b202997444c3b64",
       "value": " 30.8M/30.8M [00:04&lt;00:00, 12.3MB/s]"
      }
     }
    },
    "version_major": 2,
    "version_minor": 0
   }
  }
 },
 "nbformat": 4,
 "nbformat_minor": 5
}
