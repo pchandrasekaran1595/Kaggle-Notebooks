{
 "cells": [
  {
   "cell_type": "markdown",
   "id": "9db67086",
   "metadata": {
    "_cell_guid": "b1076dfc-b9ad-4769-8c92-a6c4dae69d19",
    "_uuid": "8f2839f25d086af736a60e9eeb907d3b93b6e0e5",
    "papermill": {
     "duration": 0.01574,
     "end_time": "2022-04-25T11:04:01.314615",
     "exception": false,
     "start_time": "2022-04-25T11:04:01.298875",
     "status": "completed"
    },
    "tags": []
   },
   "source": [
    "### Library Imports"
   ]
  },
  {
   "cell_type": "code",
   "execution_count": 1,
   "id": "b777a01d",
   "metadata": {
    "execution": {
     "iopub.execute_input": "2022-04-25T11:04:01.351813Z",
     "iopub.status.busy": "2022-04-25T11:04:01.351082Z",
     "iopub.status.idle": "2022-04-25T11:04:03.214897Z",
     "shell.execute_reply": "2022-04-25T11:04:03.214301Z",
     "shell.execute_reply.started": "2022-04-09T01:18:45.162484Z"
    },
    "papermill": {
     "duration": 1.887345,
     "end_time": "2022-04-25T11:04:03.215072",
     "exception": false,
     "start_time": "2022-04-25T11:04:01.327727",
     "status": "completed"
    },
    "tags": []
   },
   "outputs": [],
   "source": [
    "import os\n",
    "import re\n",
    "import torch\n",
    "import numpy as np\n",
    "import pandas as pd\n",
    "import matplotlib.pyplot as plt\n",
    "\n",
    "from time import time\n",
    "from torch import nn, optim\n",
    "from torch.utils.data import Dataset\n",
    "from torch.utils.data import DataLoader as DL\n",
    "from torchvision import models, transforms\n",
    "\n",
    "from sklearn.model_selection import KFold\n",
    "from sklearn.preprocessing import LabelEncoder\n",
    "from sklearn.metrics import accuracy_score, \\\n",
    "                            precision_recall_fscore_support, \\\n",
    "                            roc_auc_score, \\\n",
    "                            classification_report, \\\n",
    "                            confusion_matrix"
   ]
  },
  {
   "cell_type": "markdown",
   "id": "a197fb8e",
   "metadata": {
    "papermill": {
     "duration": 0.012694,
     "end_time": "2022-04-25T11:04:03.240515",
     "exception": false,
     "start_time": "2022-04-25T11:04:03.227821",
     "status": "completed"
    },
    "tags": []
   },
   "source": [
    "### **Utilities**"
   ]
  },
  {
   "cell_type": "code",
   "execution_count": 2,
   "id": "a449cdb9",
   "metadata": {
    "execution": {
     "iopub.execute_input": "2022-04-25T11:04:03.268623Z",
     "iopub.status.busy": "2022-04-25T11:04:03.267756Z",
     "iopub.status.idle": "2022-04-25T11:04:03.280762Z",
     "shell.execute_reply": "2022-04-25T11:04:03.281195Z",
     "shell.execute_reply.started": "2022-04-09T01:18:47.512362Z"
    },
    "papermill": {
     "duration": 0.028427,
     "end_time": "2022-04-25T11:04:03.281314",
     "exception": false,
     "start_time": "2022-04-25T11:04:03.252887",
     "status": "completed"
    },
    "tags": []
   },
   "outputs": [],
   "source": [
    "SEED = 42\n",
    "SIZE = 256\n",
    "\n",
    "def breaker(num: int=50, char: str=\"*\") -> None:\n",
    "    print(\"\\n\" + num*char + \"\\n\")\n",
    "\n",
    "\n",
    "def show_graphs(L: list, A: list) -> None:\n",
    "    TL, VL, TA, VA = [], [], [], []\n",
    "    for i in range(len(L)):\n",
    "        TL.append(L[i][\"train\"])\n",
    "        VL.append(L[i][\"valid\"])\n",
    "        TA.append(A[i][\"train\"])\n",
    "        VA.append(A[i][\"valid\"])\n",
    "    x_Axis = np.arange(1, len(TL) + 1)\n",
    "    plt.figure(figsize=(8, 6))\n",
    "    plt.subplot(1, 2, 1)\n",
    "    plt.plot(x_Axis, TL, \"r\", label=\"Train\")\n",
    "    plt.plot(x_Axis, VL, \"b\", label=\"Valid\")\n",
    "    plt.legend()\n",
    "    plt.grid()\n",
    "    plt.title(\"Loss Graph\")\n",
    "    plt.subplot(1, 2, 2)\n",
    "    plt.plot(x_Axis, TA, \"r\", label=\"Train\")\n",
    "    plt.plot(x_Axis, VA, \"b\", label=\"Valid\")\n",
    "    plt.legend()\n",
    "    plt.grid()\n",
    "    plt.title(\"Accuracy Graph\")\n",
    "    plt.show()\n",
    "\n",
    "    \n",
    "def get_scores(y_true: np.ndarray, y_pred: np.ndarray) -> tuple:\n",
    "    accuracy = accuracy_score(y_pred, y_true)\n",
    "    try:\n",
    "        auc = roc_auc_score(y_pred, y_true)\n",
    "    except:\n",
    "        auc = 0\n",
    "    precision, recall, f_score, _ = precision_recall_fscore_support(y_pred, y_true)\n",
    "\n",
    "    return accuracy, auc, precision, recall, f_score\n",
    "\n",
    "\n",
    "def print_scores(accuracy: float, auc: float, precision: np.ndarray, recall: np.ndarray, f_score: np.ndarray) -> None:\n",
    "    print(f\"Accuracy  : {accuracy:.5f}\")\n",
    "    print(f\"ROC-AUC   : {auc:.5f}\")\n",
    "    print(f\"Precision : {precision}\")\n",
    "    print(f\"Recall    : {recall}\")\n",
    "    print(f\"F-Score   : {f_score}\")"
   ]
  },
  {
   "cell_type": "markdown",
   "id": "55420459",
   "metadata": {
    "papermill": {
     "duration": 0.012325,
     "end_time": "2022-04-25T11:04:03.306670",
     "exception": false,
     "start_time": "2022-04-25T11:04:03.294345",
     "status": "completed"
    },
    "tags": []
   },
   "source": [
    "### **Configuration**"
   ]
  },
  {
   "cell_type": "code",
   "execution_count": 3,
   "id": "ee7f8090",
   "metadata": {
    "execution": {
     "iopub.execute_input": "2022-04-25T11:04:03.392501Z",
     "iopub.status.busy": "2022-04-25T11:04:03.338962Z",
     "iopub.status.idle": "2022-04-25T11:04:03.395412Z",
     "shell.execute_reply": "2022-04-25T11:04:03.394735Z",
     "shell.execute_reply.started": "2022-04-09T01:36:52.976989Z"
    },
    "papermill": {
     "duration": 0.076452,
     "end_time": "2022-04-25T11:04:03.395534",
     "exception": false,
     "start_time": "2022-04-25T11:04:03.319082",
     "status": "completed"
    },
    "tags": []
   },
   "outputs": [],
   "source": [
    "class CFG(object):\n",
    "    def __init__(self, \n",
    "                 seed: int = 42,\n",
    "                 n_splits: int = 5,\n",
    "                 batch_size: int = 16,\n",
    "                 epochs: int = 25,\n",
    "                 early_stopping: int = 5,\n",
    "                 lr: float = 1e-4,\n",
    "                 wd: float = 0.0,\n",
    "                 max_lr: float = 1e-3,\n",
    "                 pct_start: float = 0.2,\n",
    "                 steps_per_epoch: int = 100,\n",
    "                 div_factor: int = 1e3, \n",
    "                 final_div_factor: float = 1e3,\n",
    "                 ):\n",
    "        \n",
    "        self.seed = seed\n",
    "        self.n_splits = n_splits\n",
    "        self.batch_size = batch_size\n",
    "        self.epochs = epochs\n",
    "        self.early_stopping = early_stopping\n",
    "        self.lr = lr\n",
    "        self.wd = wd\n",
    "        self.max_lr = max_lr\n",
    "        self.pct_start = pct_start\n",
    "        self.steps_per_epoch = steps_per_epoch\n",
    "        self.div_factor = div_factor\n",
    "        self.final_div_factor = final_div_factor\n",
    "        self.device = torch.device(\"cuda\" if torch.cuda.is_available() else \"cpu\")\n",
    "        self.transform = transforms.Compose([transforms.ToTensor(),\n",
    "                                transforms.Normalize([0.48232, 0.48232, 0.48232],\n",
    "                                                     [0.23672, 0.23672, 0.23672]),\n",
    "                                ])\n",
    "        self.save_path = \"saves\"\n",
    "        if not os.path.exists(self.save_path): os.makedirs(self.save_path)\n",
    "    \n",
    "cfg = CFG(seed=SEED)"
   ]
  },
  {
   "cell_type": "markdown",
   "id": "7fa4d48e",
   "metadata": {
    "papermill": {
     "duration": 0.012325,
     "end_time": "2022-04-25T11:04:03.420478",
     "exception": false,
     "start_time": "2022-04-25T11:04:03.408153",
     "status": "completed"
    },
    "tags": []
   },
   "source": [
    "### **Dataset Template**"
   ]
  },
  {
   "cell_type": "code",
   "execution_count": 4,
   "id": "48b5997d",
   "metadata": {
    "execution": {
     "iopub.execute_input": "2022-04-25T11:04:03.451564Z",
     "iopub.status.busy": "2022-04-25T11:04:03.450853Z",
     "iopub.status.idle": "2022-04-25T11:04:03.453352Z",
     "shell.execute_reply": "2022-04-25T11:04:03.452922Z",
     "shell.execute_reply.started": "2022-04-09T01:18:47.593512Z"
    },
    "papermill": {
     "duration": 0.020635,
     "end_time": "2022-04-25T11:04:03.453484",
     "exception": false,
     "start_time": "2022-04-25T11:04:03.432849",
     "status": "completed"
    },
    "tags": []
   },
   "outputs": [],
   "source": [
    "class DS(Dataset):\n",
    "    def __init__(self, images: np.ndarray, labels: np.ndarray = None, transform=None):\n",
    "        self.images = images\n",
    "        self.labels = labels\n",
    "        self.transform = transform\n",
    "    \n",
    "    def __len__(self):\n",
    "        return self.images.shape[0]\n",
    "    \n",
    "    def __getitem__(self, idx):\n",
    "        if self.labels is not None:\n",
    "            return self.transform(self.images[idx]), torch.FloatTensor(self.labels[idx])\n",
    "        else:\n",
    "            return self.transform(self.images[idx])"
   ]
  },
  {
   "cell_type": "markdown",
   "id": "4748d13f",
   "metadata": {
    "papermill": {
     "duration": 0.012292,
     "end_time": "2022-04-25T11:04:03.478211",
     "exception": false,
     "start_time": "2022-04-25T11:04:03.465919",
     "status": "completed"
    },
    "tags": []
   },
   "source": [
    "### **Model**"
   ]
  },
  {
   "cell_type": "code",
   "execution_count": 5,
   "id": "5836ea50",
   "metadata": {
    "execution": {
     "iopub.execute_input": "2022-04-25T11:04:03.505797Z",
     "iopub.status.busy": "2022-04-25T11:04:03.505009Z",
     "iopub.status.idle": "2022-04-25T11:04:03.510200Z",
     "shell.execute_reply": "2022-04-25T11:04:03.510611Z",
     "shell.execute_reply.started": "2022-04-09T01:18:47.606516Z"
    },
    "papermill": {
     "duration": 0.020101,
     "end_time": "2022-04-25T11:04:03.510723",
     "exception": false,
     "start_time": "2022-04-25T11:04:03.490622",
     "status": "completed"
    },
    "tags": []
   },
   "outputs": [],
   "source": [
    "class Model(nn.Module):\n",
    "    def __init__(self):\n",
    "        super(Model, self).__init__()\n",
    "\n",
    "        self.model = models.densenet121(pretrained=True, progress=True)\n",
    "        self.model.classifier = nn.Linear(in_features=self.model.classifier.in_features, out_features=1)\n",
    "\n",
    "    def forward(self, x):\n",
    "        return self.model(x)"
   ]
  },
  {
   "cell_type": "markdown",
   "id": "0389f8a4",
   "metadata": {
    "papermill": {
     "duration": 0.012213,
     "end_time": "2022-04-25T11:04:03.535314",
     "exception": false,
     "start_time": "2022-04-25T11:04:03.523101",
     "status": "completed"
    },
    "tags": []
   },
   "source": [
    "### Fit and Predict Helper"
   ]
  },
  {
   "cell_type": "code",
   "execution_count": 6,
   "id": "5bd7ae47",
   "metadata": {
    "execution": {
     "iopub.execute_input": "2022-04-25T11:04:03.583791Z",
     "iopub.status.busy": "2022-04-25T11:04:03.582893Z",
     "iopub.status.idle": "2022-04-25T11:04:03.584865Z",
     "shell.execute_reply": "2022-04-25T11:04:03.585241Z",
     "shell.execute_reply.started": "2022-04-09T01:18:47.615986Z"
    },
    "papermill": {
     "duration": 0.037705,
     "end_time": "2022-04-25T11:04:03.585355",
     "exception": false,
     "start_time": "2022-04-25T11:04:03.547650",
     "status": "completed"
    },
    "tags": []
   },
   "outputs": [],
   "source": [
    "def fit(model=None, \n",
    "        optimizer=None, \n",
    "        scheduler=None, \n",
    "        epochs=None, \n",
    "        early_stopping_patience=None, \n",
    "        dataloaders=None, \n",
    "        fold=None, \n",
    "        save_path=None, \n",
    "        device=None,\n",
    "        verbose=False) -> tuple:\n",
    "    \n",
    "    def get_accuracy(y_pred, y_true):\n",
    "        y_pred = torch.sigmoid(y_pred)\n",
    "        \n",
    "        y_pred[y_pred > 0.5] = 1\n",
    "        y_pred[y_pred <= 0.5] = 0\n",
    "        \n",
    "        return torch.count_nonzero(y_pred == y_true).item() / len(y_pred)\n",
    "    \n",
    "    if verbose:\n",
    "        breaker()\n",
    "        if fold: print(f\"Training Fold {fold}...\")\n",
    "        else: print(\"Training ...\")\n",
    "        breaker()\n",
    "        \n",
    "    bestLoss, bestAccs = {\"train\" : np.inf, \"valid\" : np.inf}, {\"train\" : 0.0, \"valid\" : 0.0}\n",
    "    Losses, LRs, Accuracies = [], [], []\n",
    "    if fold: name = f\"state_fold_{fold}.pt\"\n",
    "    else: name = \"state.pt\"\n",
    "\n",
    "    start_time = time()\n",
    "    for e in range(epochs):\n",
    "        e_st = time()\n",
    "        epochLoss, epochAccs = {\"train\" : 0.0, \"valid\" : 0.0}, {\"train\" : 0.0, \"valid\" : 0.0}\n",
    "\n",
    "        for phase in [\"train\", \"valid\"]:\n",
    "            if phase == \"train\":\n",
    "                model.train()\n",
    "            else:\n",
    "                model.eval()\n",
    "            \n",
    "            lossPerPass, accsPerPass = [], []\n",
    "\n",
    "            for X, y in dataloaders[phase]:\n",
    "                X, y = X.to(device), y.to(device)\n",
    "\n",
    "                optimizer.zero_grad()\n",
    "                with torch.set_grad_enabled(phase == \"train\"):\n",
    "                    output = model(X)\n",
    "                    loss = torch.nn.BCEWithLogitsLoss()(output, y)\n",
    "                    if phase == \"train\":\n",
    "                        loss.backward()\n",
    "                        optimizer.step()\n",
    "                        if scheduler: scheduler.step()\n",
    "                lossPerPass.append(loss.item())\n",
    "                accsPerPass.append(get_accuracy(output, y))\n",
    "            epochLoss[phase] = np.mean(np.array(lossPerPass))\n",
    "            epochAccs[phase] = np.mean(np.array(accsPerPass))\n",
    "        LRs.append(scheduler.get_last_lr())\n",
    "        Losses.append(epochLoss)\n",
    "        Accuracies.append(epochAccs)\n",
    "        \n",
    "        if early_stopping_patience:\n",
    "            if epochLoss[\"valid\"] < bestLoss[\"valid\"]:\n",
    "                bestLoss = epochLoss\n",
    "                BLE = e + 1\n",
    "                torch.save({\"model_state_dict\"     : model.state_dict(),\n",
    "                            \"optim_state_dict\"     : optimizer.state_dict()},\n",
    "                           os.path.join(save_path, name))\n",
    "                early_stopping_step = 0\n",
    "            else:\n",
    "                early_stopping_step += 1\n",
    "                if early_stopping_step > early_stopping_patience:\n",
    "                    print(\"\\nEarly Stopping at Epoch {}\".format(e + 1))\n",
    "                    break\n",
    "        \n",
    "        if epochLoss[\"valid\"] < bestLoss[\"valid\"]:\n",
    "            bestLoss = epochLoss\n",
    "            BLE = e + 1\n",
    "            torch.save({\"model_state_dict\"     : model.state_dict(),\n",
    "                        \"optim_state_dict\"     : optimizer.state_dict()},\n",
    "                        os.path.join(save_path, name))\n",
    "        \n",
    "        if epochAccs[\"valid\"] > bestAccs[\"valid\"]:\n",
    "            bestAccs = epochAccs\n",
    "            BAE = e + 1\n",
    "        \n",
    "        # if scheduler: scheduler.step(epochLoss[\"valid\"])\n",
    "        \n",
    "        if verbose:\n",
    "            print(\"Epoch: {} | Train Loss: {:.5f} | Valid Loss: {:.5f} | Train Accs: {:.5f} | Valid Accs: {:.5f} | Time: {:.2f} seconds\".format(e+1, \n",
    "                                                                       epochLoss[\"train\"], epochLoss[\"valid\"], \n",
    "                                                                       epochAccs[\"train\"], epochAccs[\"valid\"], \n",
    "                                                                       time()-e_st))\n",
    "\n",
    "    if verbose:                                           \n",
    "        breaker()\n",
    "        print(f\"Best Validation Loss at Epoch {BLE}\")\n",
    "        breaker()\n",
    "        print(f\"Best Validation Accs at Epoch {BAE}\")\n",
    "        breaker()\n",
    "        print(\"Time Taken [{} Epochs] : {:.2f} minutes\".format(len(Losses), (time()-start_time)/60))\n",
    "    \n",
    "    return Losses, Accuracies, LRs, BLE, BAE, name\n",
    "\n",
    "\n",
    "def predict(model=None, dataloader=None, path=None, device=None) -> np.ndarray:\n",
    "    model.load_state_dict(torch.load(path, map_location=device)[\"model_state_dict\"])\n",
    "    model.to(device)    \n",
    "    model.eval()\n",
    "    \n",
    "    y_pred = torch.zeros(1, 1).to(device)\n",
    "    \n",
    "    for X in dataloader:\n",
    "        X = X.to(device)\n",
    "        with torch.no_grad():\n",
    "            output = torch.sigmoid(model(X))\n",
    "        y_pred = torch.cat((y_pred, output.view(-1, 1)), dim=0)\n",
    "    \n",
    "    y_pred[y_pred > 0.5] = 1\n",
    "    y_pred[y_pred <= 0.5] = 0\n",
    "    \n",
    "    return y_pred[1:].detach().cpu().numpy()"
   ]
  },
  {
   "cell_type": "markdown",
   "id": "289e6f06",
   "metadata": {
    "papermill": {
     "duration": 0.012475,
     "end_time": "2022-04-25T11:04:03.610281",
     "exception": false,
     "start_time": "2022-04-25T11:04:03.597806",
     "status": "completed"
    },
    "tags": []
   },
   "source": [
    "### **Train**"
   ]
  },
  {
   "cell_type": "code",
   "execution_count": 7,
   "id": "e2b4433d",
   "metadata": {
    "execution": {
     "iopub.execute_input": "2022-04-25T11:04:03.638628Z",
     "iopub.status.busy": "2022-04-25T11:04:03.638000Z",
     "iopub.status.idle": "2022-04-25T11:04:11.823241Z",
     "shell.execute_reply": "2022-04-25T11:04:11.822601Z",
     "shell.execute_reply.started": "2022-04-09T01:18:47.643848Z"
    },
    "papermill": {
     "duration": 8.200674,
     "end_time": "2022-04-25T11:04:11.823388",
     "exception": false,
     "start_time": "2022-04-25T11:04:03.622714",
     "status": "completed"
    },
    "tags": []
   },
   "outputs": [],
   "source": [
    "images = np.load(f\"../input/cxr-images-256/train_images_{SIZE}.npy\")\n",
    "labels = np.load(f\"../input/cxr-images-256/train_targets_{SIZE}.npy\")"
   ]
  },
  {
   "cell_type": "code",
   "execution_count": 8,
   "id": "5792f7e7",
   "metadata": {
    "execution": {
     "iopub.execute_input": "2022-04-25T11:04:11.863986Z",
     "iopub.status.busy": "2022-04-25T11:04:11.854763Z",
     "iopub.status.idle": "2022-04-25T12:06:06.423536Z",
     "shell.execute_reply": "2022-04-25T12:06:06.423954Z",
     "shell.execute_reply.started": "2022-04-09T01:36:59.635267Z"
    },
    "papermill": {
     "duration": 3714.587438,
     "end_time": "2022-04-25T12:06:06.424103",
     "exception": false,
     "start_time": "2022-04-25T11:04:11.836665",
     "status": "completed"
    },
    "tags": []
   },
   "outputs": [
    {
     "name": "stderr",
     "output_type": "stream",
     "text": [
      "Downloading: \"https://download.pytorch.org/models/densenet121-a639ec97.pth\" to /root/.cache/torch/hub/checkpoints/densenet121-a639ec97.pth\n"
     ]
    },
    {
     "data": {
      "application/vnd.jupyter.widget-view+json": {
       "model_id": "827eb8df7eea459fb41a19763821e9ef",
       "version_major": 2,
       "version_minor": 0
      },
      "text/plain": [
       "  0%|          | 0.00/30.8M [00:00<?, ?B/s]"
      ]
     },
     "metadata": {},
     "output_type": "display_data"
    },
    {
     "name": "stdout",
     "output_type": "stream",
     "text": [
      "\n",
      "**************************************************\n",
      "\n",
      "Training Fold 1...\n",
      "\n",
      "**************************************************\n",
      "\n",
      "Epoch: 1 | Train Loss: 0.34249 | Valid Loss: 0.05661 | Train Accs: 0.82329 | Valid Accs: 0.98268 | Time: 54.77 seconds\n",
      "Epoch: 2 | Train Loss: 0.07918 | Valid Loss: 0.27480 | Train Accs: 0.97262 | Valid Accs: 0.91951 | Time: 48.94 seconds\n",
      "Epoch: 3 | Train Loss: 0.08631 | Valid Loss: 0.06208 | Train Accs: 0.96803 | Valid Accs: 0.97294 | Time: 49.30 seconds\n",
      "Epoch: 4 | Train Loss: 0.08149 | Valid Loss: 0.07628 | Train Accs: 0.96970 | Valid Accs: 0.97606 | Time: 49.00 seconds\n",
      "Epoch: 5 | Train Loss: 0.06175 | Valid Loss: 0.13816 | Train Accs: 0.97567 | Valid Accs: 0.93764 | Time: 49.23 seconds\n",
      "Epoch: 6 | Train Loss: 0.05551 | Valid Loss: 0.07107 | Train Accs: 0.97954 | Valid Accs: 0.97348 | Time: 49.05 seconds\n",
      "\n",
      "Early Stopping at Epoch 7\n",
      "\n",
      "**************************************************\n",
      "\n",
      "Best Validation Loss at Epoch 1\n",
      "\n",
      "**************************************************\n",
      "\n",
      "Best Validation Accs at Epoch 1\n",
      "\n",
      "**************************************************\n",
      "\n",
      "Time Taken [7 Epochs] : 5.82 minutes\n",
      "\n",
      "**************************************************\n",
      "\n"
     ]
    },
    {
     "data": {
      "image/png": "[encoded data removed]",
      "text/plain": [
       "<Figure size 576x432 with 2 Axes>"
      ]
     },
     "metadata": {
      "needs_background": "light"
     },
     "output_type": "display_data"
    },
    {
     "name": "stdout",
     "output_type": "stream",
     "text": [
      "\n",
      "**************************************************\n",
      "\n",
      "Training Fold 2...\n",
      "\n",
      "**************************************************\n",
      "\n",
      "Epoch: 1 | Train Loss: 0.34458 | Valid Loss: 0.08936 | Train Accs: 0.81589 | Valid Accs: 0.96821 | Time: 49.43 seconds\n",
      "Epoch: 2 | Train Loss: 0.09173 | Valid Loss: 0.12158 | Train Accs: 0.96660 | Valid Accs: 0.95712 | Time: 49.47 seconds\n",
      "Epoch: 3 | Train Loss: 0.09306 | Valid Loss: 0.06071 | Train Accs: 0.96231 | Valid Accs: 0.97416 | Time: 49.61 seconds\n",
      "Epoch: 4 | Train Loss: 0.06992 | Valid Loss: 0.04446 | Train Accs: 0.97686 | Valid Accs: 0.98174 | Time: 49.53 seconds\n",
      "Epoch: 5 | Train Loss: 0.06105 | Valid Loss: 0.18705 | Train Accs: 0.97805 | Valid Accs: 0.92790 | Time: 49.39 seconds\n",
      "Epoch: 6 | Train Loss: 0.05925 | Valid Loss: 0.07975 | Train Accs: 0.97829 | Valid Accs: 0.97159 | Time: 49.36 seconds\n",
      "Epoch: 7 | Train Loss: 0.05541 | Valid Loss: 0.08372 | Train Accs: 0.97972 | Valid Accs: 0.97348 | Time: 49.41 seconds\n",
      "Epoch: 8 | Train Loss: 0.03731 | Valid Loss: 0.03121 | Train Accs: 0.98569 | Valid Accs: 0.98864 | Time: 49.75 seconds\n",
      "Epoch: 9 | Train Loss: 0.02588 | Valid Loss: 0.16967 | Train Accs: 0.99141 | Valid Accs: 0.93818 | Time: 49.65 seconds\n",
      "Epoch: 10 | Train Loss: 0.03109 | Valid Loss: 0.03087 | Train Accs: 0.98879 | Valid Accs: 0.98837 | Time: 49.85 seconds\n",
      "Epoch: 11 | Train Loss: 0.02548 | Valid Loss: 0.03669 | Train Accs: 0.99213 | Valid Accs: 0.98864 | Time: 49.71 seconds\n",
      "Epoch: 12 | Train Loss: 0.02827 | Valid Loss: 0.03767 | Train Accs: 0.98903 | Valid Accs: 0.99148 | Time: 49.38 seconds\n",
      "Epoch: 13 | Train Loss: 0.00830 | Valid Loss: 0.03513 | Train Accs: 0.99809 | Valid Accs: 0.98674 | Time: 49.40 seconds\n",
      "Epoch: 14 | Train Loss: 0.00788 | Valid Loss: 0.02718 | Train Accs: 0.99738 | Valid Accs: 0.99242 | Time: 49.47 seconds\n",
      "Epoch: 15 | Train Loss: 0.00729 | Valid Loss: 0.03048 | Train Accs: 0.99809 | Valid Accs: 0.99242 | Time: 49.31 seconds\n",
      "Epoch: 16 | Train Loss: 0.00481 | Valid Loss: 0.02511 | Train Accs: 0.99833 | Valid Accs: 0.99053 | Time: 49.47 seconds\n",
      "Epoch: 17 | Train Loss: 0.00144 | Valid Loss: 0.02477 | Train Accs: 0.99976 | Valid Accs: 0.99242 | Time: 49.58 seconds\n",
      "Epoch: 18 | Train Loss: 0.00124 | Valid Loss: 0.02138 | Train Accs: 0.99976 | Valid Accs: 0.99148 | Time: 49.56 seconds\n",
      "Epoch: 19 | Train Loss: 0.00179 | Valid Loss: 0.02255 | Train Accs: 0.99976 | Valid Accs: 0.99432 | Time: 49.21 seconds\n",
      "Epoch: 20 | Train Loss: 0.00096 | Valid Loss: 0.02256 | Train Accs: 1.00000 | Valid Accs: 0.99242 | Time: 49.26 seconds\n",
      "\n",
      "**************************************************\n",
      "\n",
      "Best Validation Loss at Epoch 18\n",
      "\n",
      "**************************************************\n",
      "\n",
      "Best Validation Accs at Epoch 19\n",
      "\n",
      "**************************************************\n",
      "\n",
      "Time Taken [20 Epochs] : 16.50 minutes\n",
      "\n",
      "**************************************************\n",
      "\n"
     ]
    },
    {
     "data": {
      "image/png": "[encoded data removed]",
      "text/plain": [
       "<Figure size 576x432 with 2 Axes>"
      ]
     },
     "metadata": {
      "needs_background": "light"
     },
     "output_type": "display_data"
    },
    {
     "name": "stdout",
     "output_type": "stream",
     "text": [
      "\n",
      "**************************************************\n",
      "\n",
      "Training Fold 3...\n",
      "\n",
      "**************************************************\n",
      "\n",
      "Epoch: 1 | Train Loss: 0.34580 | Valid Loss: 0.08159 | Train Accs: 0.81594 | Valid Accs: 0.97348 | Time: 49.34 seconds\n",
      "Epoch: 2 | Train Loss: 0.09015 | Valid Loss: 0.03895 | Train Accs: 0.96956 | Valid Accs: 0.98580 | Time: 49.41 seconds\n",
      "Epoch: 3 | Train Loss: 0.09661 | Valid Loss: 0.22363 | Train Accs: 0.96088 | Valid Accs: 0.95770 | Time: 49.08 seconds\n",
      "Epoch: 4 | Train Loss: 0.09657 | Valid Loss: 0.99052 | Train Accs: 0.96322 | Valid Accs: 0.59943 | Time: 49.26 seconds\n",
      "Epoch: 5 | Train Loss: 0.07421 | Valid Loss: 0.04440 | Train Accs: 0.97362 | Valid Accs: 0.98580 | Time: 49.12 seconds\n",
      "Epoch: 6 | Train Loss: 0.05911 | Valid Loss: 0.04115 | Train Accs: 0.97805 | Valid Accs: 0.98295 | Time: 49.18 seconds\n",
      "Epoch: 7 | Train Loss: 0.04290 | Valid Loss: 0.04606 | Train Accs: 0.98497 | Valid Accs: 0.98769 | Time: 49.34 seconds\n",
      "\n",
      "Early Stopping at Epoch 8\n",
      "\n",
      "**************************************************\n",
      "\n",
      "Best Validation Loss at Epoch 2\n",
      "\n",
      "**************************************************\n",
      "\n",
      "Best Validation Accs at Epoch 7\n",
      "\n",
      "**************************************************\n",
      "\n",
      "Time Taken [8 Epochs] : 6.56 minutes\n",
      "\n",
      "**************************************************\n",
      "\n"
     ]
    },
    {
     "data": {
      "image/png": "[encoded data removed]",
      "text/plain": [
       "<Figure size 576x432 with 2 Axes>"
      ]
     },
     "metadata": {
      "needs_background": "light"
     },
     "output_type": "display_data"
    },
    {
     "name": "stdout",
     "output_type": "stream",
     "text": [
      "\n",
      "**************************************************\n",
      "\n",
      "Training Fold 4...\n",
      "\n",
      "**************************************************\n",
      "\n",
      "Epoch: 1 | Train Loss: 0.34276 | Valid Loss: 0.05730 | Train Accs: 0.81164 | Valid Accs: 0.98327 | Time: 49.49 seconds\n",
      "Epoch: 2 | Train Loss: 0.09056 | Valid Loss: 0.06048 | Train Accs: 0.96613 | Valid Accs: 0.97917 | Time: 48.89 seconds\n",
      "Epoch: 3 | Train Loss: 0.09851 | Valid Loss: 0.05866 | Train Accs: 0.96622 | Valid Accs: 0.97917 | Time: 49.12 seconds\n",
      "Epoch: 4 | Train Loss: 0.07778 | Valid Loss: 0.35721 | Train Accs: 0.97338 | Valid Accs: 0.85985 | Time: 48.81 seconds\n",
      "Epoch: 5 | Train Loss: 0.05808 | Valid Loss: 0.08421 | Train Accs: 0.97996 | Valid Accs: 0.96591 | Time: 49.08 seconds\n",
      "Epoch: 6 | Train Loss: 0.06013 | Valid Loss: 0.07313 | Train Accs: 0.97781 | Valid Accs: 0.96591 | Time: 49.00 seconds\n",
      "Epoch: 7 | Train Loss: 0.05385 | Valid Loss: 0.03181 | Train Accs: 0.97901 | Valid Accs: 0.98864 | Time: 49.29 seconds\n",
      "Epoch: 8 | Train Loss: 0.03440 | Valid Loss: 0.07549 | Train Accs: 0.98640 | Valid Accs: 0.97443 | Time: 49.12 seconds\n",
      "Epoch: 9 | Train Loss: 0.03614 | Valid Loss: 0.04438 | Train Accs: 0.98688 | Valid Accs: 0.98295 | Time: 49.17 seconds\n",
      "Epoch: 10 | Train Loss: 0.02602 | Valid Loss: 0.02765 | Train Accs: 0.99141 | Valid Accs: 0.98769 | Time: 49.50 seconds\n",
      "Epoch: 11 | Train Loss: 0.02903 | Valid Loss: 0.03374 | Train Accs: 0.99022 | Valid Accs: 0.98958 | Time: 49.23 seconds\n",
      "Epoch: 12 | Train Loss: 0.01792 | Valid Loss: 0.02702 | Train Accs: 0.99404 | Valid Accs: 0.98990 | Time: 49.57 seconds\n",
      "Epoch: 13 | Train Loss: 0.00641 | Valid Loss: 0.02256 | Train Accs: 0.99905 | Valid Accs: 0.99242 | Time: 49.48 seconds\n",
      "Epoch: 14 | Train Loss: 0.00187 | Valid Loss: 0.02025 | Train Accs: 1.00000 | Valid Accs: 0.99148 | Time: 49.33 seconds\n",
      "Epoch: 15 | Train Loss: 0.00078 | Valid Loss: 0.01931 | Train Accs: 1.00000 | Valid Accs: 0.99148 | Time: 49.47 seconds\n",
      "Epoch: 16 | Train Loss: 0.00103 | Valid Loss: 0.01712 | Train Accs: 0.99976 | Valid Accs: 0.99337 | Time: 49.28 seconds\n",
      "Epoch: 17 | Train Loss: 0.00051 | Valid Loss: 0.01879 | Train Accs: 1.00000 | Valid Accs: 0.99148 | Time: 48.87 seconds\n",
      "Epoch: 18 | Train Loss: 0.00086 | Valid Loss: 0.01673 | Train Accs: 1.00000 | Valid Accs: 0.99337 | Time: 49.42 seconds\n",
      "Epoch: 19 | Train Loss: 0.00053 | Valid Loss: 0.01641 | Train Accs: 1.00000 | Valid Accs: 0.99337 | Time: 49.39 seconds\n",
      "Epoch: 20 | Train Loss: 0.00068 | Valid Loss: 0.01723 | Train Accs: 1.00000 | Valid Accs: 0.99337 | Time: 49.01 seconds\n",
      "\n",
      "**************************************************\n",
      "\n",
      "Best Validation Loss at Epoch 19\n",
      "\n",
      "**************************************************\n",
      "\n",
      "Best Validation Accs at Epoch 16\n",
      "\n",
      "**************************************************\n",
      "\n",
      "Time Taken [20 Epochs] : 16.41 minutes\n",
      "\n",
      "**************************************************\n",
      "\n"
     ]
    },
    {
     "data": {
      "image/png": "[encoded data removed]",
      "text/plain": [
       "<Figure size 576x432 with 2 Axes>"
      ]
     },
     "metadata": {
      "needs_background": "light"
     },
     "output_type": "display_data"
    },
    {
     "name": "stdout",
     "output_type": "stream",
     "text": [
      "\n",
      "**************************************************\n",
      "\n",
      "Training Fold 5...\n",
      "\n",
      "**************************************************\n",
      "\n",
      "Epoch: 1 | Train Loss: 0.34822 | Valid Loss: 0.11404 | Train Accs: 0.81345 | Valid Accs: 0.96023 | Time: 49.27 seconds\n",
      "Epoch: 2 | Train Loss: 0.10204 | Valid Loss: 0.07593 | Train Accs: 0.96374 | Valid Accs: 0.98011 | Time: 49.29 seconds\n",
      "Epoch: 3 | Train Loss: 0.09291 | Valid Loss: 0.05918 | Train Accs: 0.96302 | Valid Accs: 0.97664 | Time: 49.32 seconds\n",
      "Epoch: 4 | Train Loss: 0.07761 | Valid Loss: 0.03722 | Train Accs: 0.97161 | Valid Accs: 0.98674 | Time: 49.43 seconds\n",
      "Epoch: 5 | Train Loss: 0.05953 | Valid Loss: 0.03692 | Train Accs: 0.97743 | Valid Accs: 0.98674 | Time: 49.44 seconds\n",
      "Epoch: 6 | Train Loss: 0.05859 | Valid Loss: 0.11212 | Train Accs: 0.97853 | Valid Accs: 0.96023 | Time: 49.05 seconds\n",
      "Epoch: 7 | Train Loss: 0.05742 | Valid Loss: 0.03614 | Train Accs: 0.97829 | Valid Accs: 0.98864 | Time: 49.41 seconds\n",
      "Epoch: 8 | Train Loss: 0.03867 | Valid Loss: 0.02964 | Train Accs: 0.98593 | Valid Accs: 0.98958 | Time: 49.71 seconds\n",
      "Epoch: 9 | Train Loss: 0.03605 | Valid Loss: 0.03427 | Train Accs: 0.98616 | Valid Accs: 0.98958 | Time: 49.16 seconds\n",
      "Epoch: 10 | Train Loss: 0.02887 | Valid Loss: 0.02070 | Train Accs: 0.99022 | Valid Accs: 0.98958 | Time: 49.68 seconds\n",
      "Epoch: 11 | Train Loss: 0.01228 | Valid Loss: 0.01608 | Train Accs: 0.99690 | Valid Accs: 0.99242 | Time: 49.37 seconds\n",
      "Epoch: 12 | Train Loss: 0.00952 | Valid Loss: 0.02454 | Train Accs: 0.99738 | Valid Accs: 0.99242 | Time: 49.68 seconds\n",
      "Epoch: 13 | Train Loss: 0.01494 | Valid Loss: 0.04864 | Train Accs: 0.99523 | Valid Accs: 0.98295 | Time: 49.19 seconds\n",
      "Epoch: 14 | Train Loss: 0.00648 | Valid Loss: 0.01566 | Train Accs: 0.99857 | Valid Accs: 0.99337 | Time: 49.70 seconds\n",
      "Epoch: 15 | Train Loss: 0.00152 | Valid Loss: 0.01685 | Train Accs: 0.99976 | Valid Accs: 0.99432 | Time: 49.05 seconds\n",
      "Epoch: 16 | Train Loss: 0.00096 | Valid Loss: 0.01862 | Train Accs: 0.99976 | Valid Accs: 0.99053 | Time: 48.99 seconds\n",
      "Epoch: 17 | Train Loss: 0.00119 | Valid Loss: 0.02075 | Train Accs: 0.99976 | Valid Accs: 0.99148 | Time: 48.98 seconds\n",
      "Epoch: 18 | Train Loss: 0.00100 | Valid Loss: 0.01523 | Train Accs: 0.99976 | Valid Accs: 0.99527 | Time: 49.24 seconds\n",
      "Epoch: 19 | Train Loss: 0.00119 | Valid Loss: 0.01565 | Train Accs: 0.99976 | Valid Accs: 0.99527 | Time: 48.81 seconds\n",
      "Epoch: 20 | Train Loss: 0.00082 | Valid Loss: 0.01586 | Train Accs: 1.00000 | Valid Accs: 0.99527 | Time: 48.74 seconds\n",
      "\n",
      "**************************************************\n",
      "\n",
      "Best Validation Loss at Epoch 18\n",
      "\n",
      "**************************************************\n",
      "\n",
      "Best Validation Accs at Epoch 18\n",
      "\n",
      "**************************************************\n",
      "\n",
      "Time Taken [20 Epochs] : 16.43 minutes\n",
      "\n",
      "**************************************************\n",
      "\n"
     ]
    },
    {
     "data": {
      "image/png": "[encoded data removed]",
      "text/plain": [
       "<Figure size 576x432 with 2 Axes>"
      ]
     },
     "metadata": {
      "needs_background": "light"
     },
     "output_type": "display_data"
    }
   ],
   "source": [
    "fold = 1\n",
    "BLEs, BAEs = [], []\n",
    "\n",
    "for tr_idx, va_idx in KFold(n_splits=cfg.n_splits, random_state=SEED, shuffle=True).split(images):\n",
    "    tr_images, va_images, tr_labels, va_labels = images[tr_idx], images[va_idx], labels[tr_idx], labels[va_idx]\n",
    "\n",
    "    tr_data_setup = DS(tr_images, tr_labels.reshape(-1, 1), cfg.transform)\n",
    "    va_data_setup = DS(va_images, va_labels.reshape(-1, 1), cfg.transform)\n",
    "\n",
    "    dataloaders = {\n",
    "        \"train\" : DL(tr_data_setup, batch_size=cfg.batch_size, shuffle=True, generator=torch.manual_seed(cfg.seed)),\n",
    "        \"valid\" : DL(va_data_setup, batch_size=cfg.batch_size, shuffle=False),\n",
    "    }\n",
    "\n",
    "    cfg = CFG(epochs=20, lr=1e-3, wd=0.0, batch_size=16, steps_per_epoch=len(dataloaders[\"train\"]))\n",
    "\n",
    "    torch.manual_seed(cfg.seed)\n",
    "    model = Model().to(cfg.device)\n",
    "    optimizer = optim.Adam([p for p in model.parameters() if p.requires_grad], lr=cfg.lr, weight_decay=cfg.wd)\n",
    "    scheduler = optim.lr_scheduler.OneCycleLR(optimizer=optimizer, \n",
    "                                              max_lr=cfg.max_lr, \n",
    "                                              epochs=cfg.epochs, \n",
    "                                              steps_per_epoch=cfg.steps_per_epoch,\n",
    "                                              pct_start=cfg.pct_start, \n",
    "                                              div_factor=cfg.div_factor, \n",
    "                                              final_div_factor=cfg.final_div_factor)\n",
    "    # scheduler = None\n",
    "\n",
    "    L, A, LRs, BLE, BAE, name = fit(model=model, \n",
    "                                    optimizer=optimizer, \n",
    "                                    scheduler=scheduler, \n",
    "                                    epochs=cfg.epochs, \n",
    "                                    early_stopping_patience=cfg.early_stopping, \n",
    "                                    dataloaders=dataloaders, \n",
    "                                    device=cfg.device,\n",
    "                                    save_path=cfg.save_path,\n",
    "                                    fold = fold,\n",
    "                                    verbose=True)\n",
    "\n",
    "    breaker()\n",
    "    show_graphs(L, A)\n",
    "    \n",
    "    BLEs.append(BLE)\n",
    "    BAEs.append(BAE)\n",
    "\n",
    "    fold += 1"
   ]
  },
  {
   "cell_type": "markdown",
   "id": "04f2d76a",
   "metadata": {
    "papermill": {
     "duration": 0.043018,
     "end_time": "2022-04-25T12:06:06.509912",
     "exception": false,
     "start_time": "2022-04-25T12:06:06.466894",
     "status": "completed"
    },
    "tags": []
   },
   "source": [
    "### **Predictions**"
   ]
  },
  {
   "cell_type": "code",
   "execution_count": 9,
   "id": "f428bb85",
   "metadata": {
    "execution": {
     "iopub.execute_input": "2022-04-25T12:06:06.603073Z",
     "iopub.status.busy": "2022-04-25T12:06:06.602543Z",
     "iopub.status.idle": "2022-04-25T12:06:09.853742Z",
     "shell.execute_reply": "2022-04-25T12:06:09.853222Z",
     "shell.execute_reply.started": "2022-04-09T01:41:41.028783Z"
    },
    "papermill": {
     "duration": 3.300884,
     "end_time": "2022-04-25T12:06:09.853871",
     "exception": false,
     "start_time": "2022-04-25T12:06:06.552987",
     "status": "completed"
    },
    "tags": []
   },
   "outputs": [
    {
     "name": "stdout",
     "output_type": "stream",
     "text": [
      "\n",
      "**************************************************\n",
      "\n",
      "Best Fold : 1\n",
      "\n",
      "**************************************************\n",
      "\n",
      "Accuracy  : 0.78686\n",
      "ROC-AUC   : 0.86847\n",
      "Precision : [0.43589744 0.9974359 ]\n",
      "Recall    : [0.99029126 0.74664107]\n",
      "F-Score   : [0.60534125 0.85400659]\n",
      "\n",
      "**************************************************\n",
      "\n",
      "              precision    recall  f1-score   support\n",
      "\n",
      "         0.0       0.99      0.44      0.61       234\n",
      "         1.0       0.75      1.00      0.85       390\n",
      "\n",
      "    accuracy                           0.79       624\n",
      "   macro avg       0.87      0.72      0.73       624\n",
      "weighted avg       0.84      0.79      0.76       624\n",
      "\n",
      "\n",
      "**************************************************\n",
      "\n",
      "[[102 132]\n",
      " [  1 389]]\n",
      "\n",
      "**************************************************\n",
      "\n"
     ]
    }
   ],
   "source": [
    "test_images = np.load(f\"../input/cxr-images-256/test_images_{SIZE}.npy\")\n",
    "test_labels = np.load(f\"../input/cxr-images-256/test_targets_{SIZE}.npy\")\n",
    "\n",
    "ts_data_setup = DS(test_images, None, cfg.transform)\n",
    "ts_data = DL(ts_data_setup, batch_size=cfg.batch_size, shuffle=False)\n",
    "\n",
    "best_fold = BLEs.index(min(BLEs)) + 1\n",
    "model_path = f\"saves/state_fold_{best_fold}.pt\"\n",
    "y_pred = predict(model=Model().to(cfg.device), dataloader=ts_data, path=model_path, device=cfg.device)\n",
    "\n",
    "accuracy, auc, precision, recall, f_score = get_scores(test_labels, y_pred)\n",
    "\n",
    "breaker()\n",
    "print(f\"Best Fold : {best_fold}\")\n",
    "breaker()\n",
    "print_scores(accuracy, auc, precision, recall, f_score)\n",
    "breaker()\n",
    "print(classification_report(test_labels, y_pred))\n",
    "breaker()\n",
    "print(confusion_matrix(test_labels, y_pred))\n",
    "breaker()"
   ]
  }
 ],
 "metadata": {
  "kernelspec": {
   "display_name": "Python 3",
   "language": "python",
   "name": "python3"
  },
  "language_info": {
   "codemirror_mode": {
    "name": "ipython",
    "version": 3
   },
   "file_extension": ".py",
   "mimetype": "text/x-python",
   "name": "python",
   "nbconvert_exporter": "python",
   "pygments_lexer": "ipython3",
   "version": "3.7.12"
  },
  "papermill": {
   "default_parameters": {},
   "duration": 3738.704103,
   "end_time": "2022-04-25T12:06:12.187225",
   "environment_variables": {},
   "exception": null,
   "input_path": "__notebook__.ipynb",
   "output_path": "__notebook__.ipynb",
   "parameters": {},
   "start_time": "2022-04-25T11:03:53.483122",
   "version": "2.3.3"
  },
  "widgets": {
   "application/vnd.jupyter.widget-state+json": {
    "state": {
     "3853095d07c84e3f88ebd85dc49f1085": {
      "model_module": "@jupyter-widgets/base",
      "model_module_version": "1.2.0",
      "model_name": "LayoutModel",
      "state": {
       "_model_module": "@jupyter-widgets/base",
       "_model_module_version": "1.2.0",
       "_model_name": "LayoutModel",
       "_view_count": null,
       "_view_module": "@jupyter-widgets/base",
       "_view_module_version": "1.2.0",
       "_view_name": "LayoutView",
       "align_content": null,
       "align_items": null,
       "align_self": null,
       "border": null,
       "bottom": null,
       "display": null,
       "flex": null,
       "flex_flow": null,
       "grid_area": null,
       "grid_auto_columns": null,
       "grid_auto_flow": null,
       "grid_auto_rows": null,
       "grid_column": null,
       "grid_gap": null,
       "grid_row": null,
       "grid_template_areas": null,
       "grid_template_columns": null,
       "grid_template_rows": null,
       "height": null,
       "justify_content": null,
       "justify_items": null,
       "left": null,
       "margin": null,
       "max_height": null,
       "max_width": null,
       "min_height": null,
       "min_width": null,
       "object_fit": null,
       "object_position": null,
       "order": null,
       "overflow": null,
       "overflow_x": null,
       "overflow_y": null,
       "padding": null,
       "right": null,
       "top": null,
       "visibility": null,
       "width": null
      }
     },
     "407730014233466bbc9e5ef2aa5d4fa4": {
      "model_module": "@jupyter-widgets/controls",
      "model_module_version": "1.5.0",
      "model_name": "HTMLModel",
      "state": {
       "_dom_classes": [],
       "_model_module": "@jupyter-widgets/controls",
       "_model_module_version": "1.5.0",
       "_model_name": "HTMLModel",
       "_view_count": null,
       "_view_module": "@jupyter-widgets/controls",
       "_view_module_version": "1.5.0",
       "_view_name": "HTMLView",
       "description": "",
       "description_tooltip": null,
       "layout": "IPY_MODEL_3853095d07c84e3f88ebd85dc49f1085",
       "placeholder": "​",
       "style": "IPY_MODEL_5e6d072b369f4c488c72cd514d003b57",
       "value": "100%"
      }
     },
     "4679e2b4da764d8f9dfc639d450400f4": {
      "model_module": "@jupyter-widgets/base",
      "model_module_version": "1.2.0",
      "model_name": "LayoutModel",
      "state": {
       "_model_module": "@jupyter-widgets/base",
       "_model_module_version": "1.2.0",
       "_model_name": "LayoutModel",
       "_view_count": null,
       "_view_module": "@jupyter-widgets/base",
       "_view_module_version": "1.2.0",
       "_view_name": "LayoutView",
       "align_content": null,
       "align_items": null,
       "align_self": null,
       "border": null,
       "bottom": null,
       "display": null,
       "flex": null,
       "flex_flow": null,
       "grid_area": null,
       "grid_auto_columns": null,
       "grid_auto_flow": null,
       "grid_auto_rows": null,
       "grid_column": null,
       "grid_gap": null,
       "grid_row": null,
       "grid_template_areas": null,
       "grid_template_columns": null,
       "grid_template_rows": null,
       "height": null,
       "justify_content": null,
       "justify_items": null,
       "left": null,
       "margin": null,
       "max_height": null,
       "max_width": null,
       "min_height": null,
       "min_width": null,
       "object_fit": null,
       "object_position": null,
       "order": null,
       "overflow": null,
       "overflow_x": null,
       "overflow_y": null,
       "padding": null,
       "right": null,
       "top": null,
       "visibility": null,
       "width": null
      }
     },
     "5e6d072b369f4c488c72cd514d003b57": {
      "model_module": "@jupyter-widgets/controls",
      "model_module_version": "1.5.0",
      "model_name": "DescriptionStyleModel",
      "state": {
       "_model_module": "@jupyter-widgets/controls",
       "_model_module_version": "1.5.0",
       "_model_name": "DescriptionStyleModel",
       "_view_count": null,
       "_view_module": "@jupyter-widgets/base",
       "_view_module_version": "1.2.0",
       "_view_name": "StyleView",
       "description_width": ""
      }
     },
     "746eb3b4bc80454d8f040baa47d97811": {
      "model_module": "@jupyter-widgets/controls",
      "model_module_version": "1.5.0",
      "model_name": "ProgressStyleModel",
      "state": {
       "_model_module": "@jupyter-widgets/controls",
       "_model_module_version": "1.5.0",
       "_model_name": "ProgressStyleModel",
       "_view_count": null,
       "_view_module": "@jupyter-widgets/base",
       "_view_module_version": "1.2.0",
       "_view_name": "StyleView",
       "bar_color": null,
       "description_width": ""
      }
     },
     "827eb8df7eea459fb41a19763821e9ef": {
      "model_module": "@jupyter-widgets/controls",
      "model_module_version": "1.5.0",
      "model_name": "HBoxModel",
      "state": {
       "_dom_classes": [],
       "_model_module": "@jupyter-widgets/controls",
       "_model_module_version": "1.5.0",
       "_model_name": "HBoxModel",
       "_view_count": null,
       "_view_module": "@jupyter-widgets/controls",
       "_view_module_version": "1.5.0",
       "_view_name": "HBoxView",
       "box_style": "",
       "children": [
        "IPY_MODEL_407730014233466bbc9e5ef2aa5d4fa4",
        "IPY_MODEL_8ca5b6104a2849e19c1f9b13fa0a43fc",
        "IPY_MODEL_e6114707c37743b1bb24873a98e939f0"
       ],
       "layout": "IPY_MODEL_924fd2ffc2e14bf79556fb305a9d1ed8"
      }
     },
     "8ca5b6104a2849e19c1f9b13fa0a43fc": {
      "model_module": "@jupyter-widgets/controls",
      "model_module_version": "1.5.0",
      "model_name": "FloatProgressModel",
      "state": {
       "_dom_classes": [],
       "_model_module": "@jupyter-widgets/controls",
       "_model_module_version": "1.5.0",
       "_model_name": "FloatProgressModel",
       "_view_count": null,
       "_view_module": "@jupyter-widgets/controls",
       "_view_module_version": "1.5.0",
       "_view_name": "ProgressView",
       "bar_style": "success",
       "description": "",
       "description_tooltip": null,
       "layout": "IPY_MODEL_f302199a056a41a0927686c7447c7c12",
       "max": 32342954.0,
       "min": 0.0,
       "orientation": "horizontal",
       "style": "IPY_MODEL_746eb3b4bc80454d8f040baa47d97811",
       "value": 32342954.0
      }
     },
     "924fd2ffc2e14bf79556fb305a9d1ed8": {
      "model_module": "@jupyter-widgets/base",
      "model_module_version": "1.2.0",
      "model_name": "LayoutModel",
      "state": {
       "_model_module": "@jupyter-widgets/base",
       "_model_module_version": "1.2.0",
       "_model_name": "LayoutModel",
       "_view_count": null,
       "_view_module": "@jupyter-widgets/base",
       "_view_module_version": "1.2.0",
       "_view_name": "LayoutView",
       "align_content": null,
       "align_items": null,
       "align_self": null,
       "border": null,
       "bottom": null,
       "display": null,
       "flex": null,
       "flex_flow": null,
       "grid_area": null,
       "grid_auto_columns": null,
       "grid_auto_flow": null,
       "grid_auto_rows": null,
       "grid_column": null,
       "grid_gap": null,
       "grid_row": null,
       "grid_template_areas": null,
       "grid_template_columns": null,
       "grid_template_rows": null,
       "height": null,
       "justify_content": null,
       "justify_items": null,
       "left": null,
       "margin": null,
       "max_height": null,
       "max_width": null,
       "min_height": null,
       "min_width": null,
       "object_fit": null,
       "object_position": null,
       "order": null,
       "overflow": null,
       "overflow_x": null,
       "overflow_y": null,
       "padding": null,
       "right": null,
       "top": null,
       "visibility": null,
       "width": null
      }
     },
     "c1dcdf690b8448b0a15919b75ab8c393": {
      "model_module": "@jupyter-widgets/controls",
      "model_module_version": "1.5.0",
      "model_name": "DescriptionStyleModel",
      "state": {
       "_model_module": "@jupyter-widgets/controls",
       "_model_module_version": "1.5.0",
       "_model_name": "DescriptionStyleModel",
       "_view_count": null,
       "_view_module": "@jupyter-widgets/base",
       "_view_module_version": "1.2.0",
       "_view_name": "StyleView",
       "description_width": ""
      }
     },
     "e6114707c37743b1bb24873a98e939f0": {
      "model_module": "@jupyter-widgets/controls",
      "model_module_version": "1.5.0",
      "model_name": "HTMLModel",
      "state": {
       "_dom_classes": [],
       "_model_module": "@jupyter-widgets/controls",
       "_model_module_version": "1.5.0",
       "_model_name": "HTMLModel",
       "_view_count": null,
       "_view_module": "@jupyter-widgets/controls",
       "_view_module_version": "1.5.0",
       "_view_name": "HTMLView",
       "description": "",
       "description_tooltip": null,
       "layout": "IPY_MODEL_4679e2b4da764d8f9dfc639d450400f4",
       "placeholder": "​",
       "style": "IPY_MODEL_c1dcdf690b8448b0a15919b75ab8c393",
       "value": " 30.8M/30.8M [00:03&lt;00:00, 16.6MB/s]"
      }
     },
     "f302199a056a41a0927686c7447c7c12": {
      "model_module": "@jupyter-widgets/base",
      "model_module_version": "1.2.0",
      "model_name": "LayoutModel",
      "state": {
       "_model_module": "@jupyter-widgets/base",
       "_model_module_version": "1.2.0",
       "_model_name": "LayoutModel",
       "_view_count": null,
       "_view_module": "@jupyter-widgets/base",
       "_view_module_version": "1.2.0",
       "_view_name": "LayoutView",
       "align_content": null,
       "align_items": null,
       "align_self": null,
       "border": null,
       "bottom": null,
       "display": null,
       "flex": null,
       "flex_flow": null,
       "grid_area": null,
       "grid_auto_columns": null,
       "grid_auto_flow": null,
       "grid_auto_rows": null,
       "grid_column": null,
       "grid_gap": null,
       "grid_row": null,
       "grid_template_areas": null,
       "grid_template_columns": null,
       "grid_template_rows": null,
       "height": null,
       "justify_content": null,
       "justify_items": null,
       "left": null,
       "margin": null,
       "max_height": null,
       "max_width": null,
       "min_height": null,
       "min_width": null,
       "object_fit": null,
       "object_position": null,
       "order": null,
       "overflow": null,
       "overflow_x": null,
       "overflow_y": null,
       "padding": null,
       "right": null,
       "top": null,
       "visibility": null,
       "width": null
      }
     }
    },
    "version_major": 2,
    "version_minor": 0
   }
  }
 },
 "nbformat": 4,
 "nbformat_minor": 5
}
