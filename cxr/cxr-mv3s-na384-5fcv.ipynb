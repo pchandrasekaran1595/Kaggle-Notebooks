{
 "cells": [
  {
   "cell_type": "markdown",
   "id": "54d27d1c",
   "metadata": {
    "_cell_guid": "b1076dfc-b9ad-4769-8c92-a6c4dae69d19",
    "_uuid": "8f2839f25d086af736a60e9eeb907d3b93b6e0e5",
    "papermill": {
     "duration": 0.020264,
     "end_time": "2022-04-17T08:17:25.999204",
     "exception": false,
     "start_time": "2022-04-17T08:17:25.978940",
     "status": "completed"
    },
    "tags": []
   },
   "source": [
    "### Library Imports"
   ]
  },
  {
   "cell_type": "code",
   "execution_count": 1,
   "id": "cc1451ce",
   "metadata": {
    "execution": {
     "iopub.execute_input": "2022-04-17T08:17:26.053632Z",
     "iopub.status.busy": "2022-04-17T08:17:26.047573Z",
     "iopub.status.idle": "2022-04-17T08:17:28.944631Z",
     "shell.execute_reply": "2022-04-17T08:17:28.943930Z",
     "shell.execute_reply.started": "2022-04-09T01:18:45.162484Z"
    },
    "papermill": {
     "duration": 2.926763,
     "end_time": "2022-04-17T08:17:28.944821",
     "exception": false,
     "start_time": "2022-04-17T08:17:26.018058",
     "status": "completed"
    },
    "tags": []
   },
   "outputs": [],
   "source": [
    "import os\n",
    "import re\n",
    "import torch\n",
    "import numpy as np\n",
    "import pandas as pd\n",
    "import matplotlib.pyplot as plt\n",
    "\n",
    "from time import time\n",
    "from torch import nn, optim\n",
    "from torch.utils.data import Dataset\n",
    "from torch.utils.data import DataLoader as DL\n",
    "from torchvision import models, transforms\n",
    "\n",
    "from sklearn.model_selection import KFold\n",
    "from sklearn.preprocessing import LabelEncoder\n",
    "from sklearn.metrics import accuracy_score, \\\n",
    "                            precision_recall_fscore_support, \\\n",
    "                            roc_auc_score, \\\n",
    "                            classification_report, \\\n",
    "                            confusion_matrix"
   ]
  },
  {
   "cell_type": "markdown",
   "id": "4a2f749f",
   "metadata": {
    "papermill": {
     "duration": 0.016758,
     "end_time": "2022-04-17T08:17:28.979221",
     "exception": false,
     "start_time": "2022-04-17T08:17:28.962463",
     "status": "completed"
    },
    "tags": []
   },
   "source": [
    "### **Utilities**"
   ]
  },
  {
   "cell_type": "code",
   "execution_count": 2,
   "id": "74c00265",
   "metadata": {
    "execution": {
     "iopub.execute_input": "2022-04-17T08:17:29.028690Z",
     "iopub.status.busy": "2022-04-17T08:17:29.028009Z",
     "iopub.status.idle": "2022-04-17T08:17:29.032640Z",
     "shell.execute_reply": "2022-04-17T08:17:29.032090Z",
     "shell.execute_reply.started": "2022-04-09T01:18:47.512362Z"
    },
    "papermill": {
     "duration": 0.037563,
     "end_time": "2022-04-17T08:17:29.032793",
     "exception": false,
     "start_time": "2022-04-17T08:17:28.995230",
     "status": "completed"
    },
    "tags": []
   },
   "outputs": [],
   "source": [
    "SEED = 42\n",
    "SIZE = 384\n",
    "\n",
    "def breaker(num: int=50, char: str=\"*\") -> None:\n",
    "    print(\"\\n\" + num*char + \"\\n\")\n",
    "\n",
    "\n",
    "def show_graphs(L: list, A: list) -> None:\n",
    "    TL, VL, TA, VA = [], [], [], []\n",
    "    for i in range(len(L)):\n",
    "        TL.append(L[i][\"train\"])\n",
    "        VL.append(L[i][\"valid\"])\n",
    "        TA.append(A[i][\"train\"])\n",
    "        VA.append(A[i][\"valid\"])\n",
    "    x_Axis = np.arange(1, len(TL) + 1)\n",
    "    plt.figure(figsize=(8, 6))\n",
    "    plt.subplot(1, 2, 1)\n",
    "    plt.plot(x_Axis, TL, \"r\", label=\"Train\")\n",
    "    plt.plot(x_Axis, VL, \"b\", label=\"Valid\")\n",
    "    plt.legend()\n",
    "    plt.grid()\n",
    "    plt.title(\"Loss Graph\")\n",
    "    plt.subplot(1, 2, 2)\n",
    "    plt.plot(x_Axis, TA, \"r\", label=\"Train\")\n",
    "    plt.plot(x_Axis, VA, \"b\", label=\"Valid\")\n",
    "    plt.legend()\n",
    "    plt.grid()\n",
    "    plt.title(\"Accuracy Graph\")\n",
    "    plt.show()\n",
    "\n",
    "    \n",
    "def get_scores(y_true: np.ndarray, y_pred: np.ndarray) -> tuple:\n",
    "    accuracy = accuracy_score(y_pred, y_true)\n",
    "    try:\n",
    "        auc = roc_auc_score(y_pred, y_true)\n",
    "    except:\n",
    "        auc = 0\n",
    "    precision, recall, f_score, _ = precision_recall_fscore_support(y_pred, y_true)\n",
    "\n",
    "    return accuracy, auc, precision, recall, f_score\n",
    "\n",
    "\n",
    "def print_scores(accuracy: float, auc: float, precision: np.ndarray, recall: np.ndarray, f_score: np.ndarray) -> None:\n",
    "    print(f\"Accuracy  : {accuracy:.5f}\")\n",
    "    print(f\"ROC-AUC   : {auc:.5f}\")\n",
    "    print(f\"Precision : {precision}\")\n",
    "    print(f\"Recall    : {recall}\")\n",
    "    print(f\"F-Score   : {f_score}\")"
   ]
  },
  {
   "cell_type": "markdown",
   "id": "6f8a0fab",
   "metadata": {
    "papermill": {
     "duration": 0.015719,
     "end_time": "2022-04-17T08:17:29.064747",
     "exception": false,
     "start_time": "2022-04-17T08:17:29.049028",
     "status": "completed"
    },
    "tags": []
   },
   "source": [
    "### **Configuration**"
   ]
  },
  {
   "cell_type": "code",
   "execution_count": 3,
   "id": "56e2dc7f",
   "metadata": {
    "execution": {
     "iopub.execute_input": "2022-04-17T08:17:29.183651Z",
     "iopub.status.busy": "2022-04-17T08:17:29.182547Z",
     "iopub.status.idle": "2022-04-17T08:17:29.187165Z",
     "shell.execute_reply": "2022-04-17T08:17:29.186615Z",
     "shell.execute_reply.started": "2022-04-09T01:36:52.976989Z"
    },
    "papermill": {
     "duration": 0.105724,
     "end_time": "2022-04-17T08:17:29.187351",
     "exception": false,
     "start_time": "2022-04-17T08:17:29.081627",
     "status": "completed"
    },
    "tags": []
   },
   "outputs": [],
   "source": [
    "class CFG(object):\n",
    "    def __init__(self, \n",
    "                 seed: int = 42,\n",
    "                 n_splits: int = 5,\n",
    "                 batch_size: int = 16,\n",
    "                 epochs: int = 25,\n",
    "                 early_stopping: int = 5,\n",
    "                 lr: float = 1e-4,\n",
    "                 wd: float = 0.0,\n",
    "                 max_lr: float = 1e-3,\n",
    "                 pct_start: float = 0.2,\n",
    "                 steps_per_epoch: int = 100,\n",
    "                 div_factor: int = 1e3, \n",
    "                 final_div_factor: float = 1e3,\n",
    "                 ):\n",
    "        \n",
    "        self.seed = seed\n",
    "        self.n_splits = n_splits\n",
    "        self.batch_size = batch_size\n",
    "        self.epochs = epochs\n",
    "        self.early_stopping = early_stopping\n",
    "        self.lr = lr\n",
    "        self.wd = wd\n",
    "        self.max_lr = max_lr\n",
    "        self.pct_start = pct_start\n",
    "        self.steps_per_epoch = steps_per_epoch\n",
    "        self.div_factor = div_factor\n",
    "        self.final_div_factor = final_div_factor\n",
    "        self.device = torch.device(\"cuda\" if torch.cuda.is_available() else \"cpu\")\n",
    "        self.transform = transforms.Compose([transforms.ToTensor(),\n",
    "                                transforms.Normalize([0.11964, 0.11739, 0.12032],\n",
    "                                                     [0.17397, 0.17031, 0.17257]),\n",
    "                                ])\n",
    "        self.save_path = \"saves\"\n",
    "        if not os.path.exists(self.save_path): os.makedirs(self.save_path)\n",
    "    \n",
    "cfg = CFG(seed=SEED)"
   ]
  },
  {
   "cell_type": "markdown",
   "id": "9f38741b",
   "metadata": {
    "papermill": {
     "duration": 0.016371,
     "end_time": "2022-04-17T08:17:29.221030",
     "exception": false,
     "start_time": "2022-04-17T08:17:29.204659",
     "status": "completed"
    },
    "tags": []
   },
   "source": [
    "### **Dataset Template**"
   ]
  },
  {
   "cell_type": "code",
   "execution_count": 4,
   "id": "58ca310d",
   "metadata": {
    "execution": {
     "iopub.execute_input": "2022-04-17T08:17:29.261896Z",
     "iopub.status.busy": "2022-04-17T08:17:29.260761Z",
     "iopub.status.idle": "2022-04-17T08:17:29.263087Z",
     "shell.execute_reply": "2022-04-17T08:17:29.263710Z",
     "shell.execute_reply.started": "2022-04-09T01:18:47.593512Z"
    },
    "papermill": {
     "duration": 0.026659,
     "end_time": "2022-04-17T08:17:29.263858",
     "exception": false,
     "start_time": "2022-04-17T08:17:29.237199",
     "status": "completed"
    },
    "tags": []
   },
   "outputs": [],
   "source": [
    "class DS(Dataset):\n",
    "    def __init__(self, images: np.ndarray, labels: np.ndarray = None, transform=None):\n",
    "        self.images = images\n",
    "        self.labels = labels\n",
    "        self.transform = transform\n",
    "    \n",
    "    def __len__(self):\n",
    "        return self.images.shape[0]\n",
    "    \n",
    "    def __getitem__(self, idx):\n",
    "        if self.labels is not None:\n",
    "            return self.transform(self.images[idx]), torch.FloatTensor(self.labels[idx])\n",
    "        else:\n",
    "            return self.transform(self.images[idx])"
   ]
  },
  {
   "cell_type": "markdown",
   "id": "603ac414",
   "metadata": {
    "papermill": {
     "duration": 0.016527,
     "end_time": "2022-04-17T08:17:29.296564",
     "exception": false,
     "start_time": "2022-04-17T08:17:29.280037",
     "status": "completed"
    },
    "tags": []
   },
   "source": [
    "### **Model**"
   ]
  },
  {
   "cell_type": "code",
   "execution_count": 5,
   "id": "024be9ae",
   "metadata": {
    "execution": {
     "iopub.execute_input": "2022-04-17T08:17:29.337914Z",
     "iopub.status.busy": "2022-04-17T08:17:29.336775Z",
     "iopub.status.idle": "2022-04-17T08:17:29.339192Z",
     "shell.execute_reply": "2022-04-17T08:17:29.339824Z",
     "shell.execute_reply.started": "2022-04-09T01:18:47.606516Z"
    },
    "papermill": {
     "duration": 0.026783,
     "end_time": "2022-04-17T08:17:29.339980",
     "exception": false,
     "start_time": "2022-04-17T08:17:29.313197",
     "status": "completed"
    },
    "tags": []
   },
   "outputs": [],
   "source": [
    "class Model(nn.Module):\n",
    "    def __init__(self):\n",
    "        super(Model, self).__init__()\n",
    "\n",
    "        self.model = models.mobilenet_v3_small(pretrained=True, progress=True)\n",
    "        self.model.classifier[-1] = nn.Linear(in_features=self.model.classifier[-1].in_features, out_features=1)\n",
    "\n",
    "    def forward(self, x):\n",
    "        return self.model(x)"
   ]
  },
  {
   "cell_type": "markdown",
   "id": "b7d63e35",
   "metadata": {
    "papermill": {
     "duration": 0.016649,
     "end_time": "2022-04-17T08:17:29.373200",
     "exception": false,
     "start_time": "2022-04-17T08:17:29.356551",
     "status": "completed"
    },
    "tags": []
   },
   "source": [
    "### Fit and Predict Helper"
   ]
  },
  {
   "cell_type": "code",
   "execution_count": 6,
   "id": "2ddf923e",
   "metadata": {
    "execution": {
     "iopub.execute_input": "2022-04-17T08:17:29.436157Z",
     "iopub.status.busy": "2022-04-17T08:17:29.421257Z",
     "iopub.status.idle": "2022-04-17T08:17:29.439772Z",
     "shell.execute_reply": "2022-04-17T08:17:29.438815Z",
     "shell.execute_reply.started": "2022-04-09T01:18:47.615986Z"
    },
    "papermill": {
     "duration": 0.049434,
     "end_time": "2022-04-17T08:17:29.439918",
     "exception": false,
     "start_time": "2022-04-17T08:17:29.390484",
     "status": "completed"
    },
    "tags": []
   },
   "outputs": [],
   "source": [
    "def fit(model=None, \n",
    "        optimizer=None, \n",
    "        scheduler=None, \n",
    "        epochs=None, \n",
    "        early_stopping_patience=None, \n",
    "        dataloaders=None, \n",
    "        fold=None, \n",
    "        save_path=None, \n",
    "        device=None,\n",
    "        verbose=False) -> tuple:\n",
    "    \n",
    "    def get_accuracy(y_pred, y_true):\n",
    "        y_pred = torch.sigmoid(y_pred)\n",
    "        \n",
    "        y_pred[y_pred > 0.5] = 1\n",
    "        y_pred[y_pred <= 0.5] = 0\n",
    "        \n",
    "        return torch.count_nonzero(y_pred == y_true).item() / len(y_pred)\n",
    "    \n",
    "    if verbose:\n",
    "        breaker()\n",
    "        if fold: print(f\"Training Fold {fold}...\")\n",
    "        else: print(\"Training ...\")\n",
    "        breaker()\n",
    "        \n",
    "    bestLoss, bestAccs = {\"train\" : np.inf, \"valid\" : np.inf}, {\"train\" : 0.0, \"valid\" : 0.0}\n",
    "    Losses, LRs, Accuracies = [], [], []\n",
    "    if fold: name = f\"state_fold_{fold}.pt\"\n",
    "    else: name = \"state.pt\"\n",
    "\n",
    "    start_time = time()\n",
    "    for e in range(epochs):\n",
    "        e_st = time()\n",
    "        epochLoss, epochAccs = {\"train\" : 0.0, \"valid\" : 0.0}, {\"train\" : 0.0, \"valid\" : 0.0}\n",
    "\n",
    "        for phase in [\"train\", \"valid\"]:\n",
    "            if phase == \"train\":\n",
    "                model.train()\n",
    "            else:\n",
    "                model.eval()\n",
    "            \n",
    "            lossPerPass, accsPerPass = [], []\n",
    "\n",
    "            for X, y in dataloaders[phase]:\n",
    "                X, y = X.to(device), y.to(device)\n",
    "\n",
    "                optimizer.zero_grad()\n",
    "                with torch.set_grad_enabled(phase == \"train\"):\n",
    "                    output = model(X)\n",
    "                    loss = torch.nn.BCEWithLogitsLoss()(output, y)\n",
    "                    if phase == \"train\":\n",
    "                        loss.backward()\n",
    "                        optimizer.step()\n",
    "                        if scheduler: scheduler.step()\n",
    "                lossPerPass.append(loss.item())\n",
    "                accsPerPass.append(get_accuracy(output, y))\n",
    "            epochLoss[phase] = np.mean(np.array(lossPerPass))\n",
    "            epochAccs[phase] = np.mean(np.array(accsPerPass))\n",
    "        LRs.append(scheduler.get_last_lr())\n",
    "        Losses.append(epochLoss)\n",
    "        Accuracies.append(epochAccs)\n",
    "        \n",
    "        if early_stopping_patience:\n",
    "            if epochLoss[\"valid\"] < bestLoss[\"valid\"]:\n",
    "                bestLoss = epochLoss\n",
    "                BLE = e + 1\n",
    "                torch.save({\"model_state_dict\"     : model.state_dict(),\n",
    "                            \"optim_state_dict\"     : optimizer.state_dict()},\n",
    "                           os.path.join(save_path, name))\n",
    "                early_stopping_step = 0\n",
    "            else:\n",
    "                early_stopping_step += 1\n",
    "                if early_stopping_step > early_stopping_patience:\n",
    "                    print(\"\\nEarly Stopping at Epoch {}\".format(e + 1))\n",
    "                    break\n",
    "        \n",
    "        if epochLoss[\"valid\"] < bestLoss[\"valid\"]:\n",
    "            bestLoss = epochLoss\n",
    "            BLE = e + 1\n",
    "            torch.save({\"model_state_dict\"     : model.state_dict(),\n",
    "                        \"optim_state_dict\"     : optimizer.state_dict()},\n",
    "                        os.path.join(save_path, name))\n",
    "        \n",
    "        if epochAccs[\"valid\"] > bestAccs[\"valid\"]:\n",
    "            bestAccs = epochAccs\n",
    "            BAE = e + 1\n",
    "        \n",
    "        # if scheduler: scheduler.step(epochLoss[\"valid\"])\n",
    "        \n",
    "        if verbose:\n",
    "            print(\"Epoch: {} | Train Loss: {:.5f} | Valid Loss: {:.5f} | Train Accs: {:.5f} | Valid Accs: {:.5f} | Time: {:.2f} seconds\".format(e+1, \n",
    "                                                                       epochLoss[\"train\"], epochLoss[\"valid\"], \n",
    "                                                                       epochAccs[\"train\"], epochAccs[\"valid\"], \n",
    "                                                                       time()-e_st))\n",
    "\n",
    "    if verbose:                                           \n",
    "        breaker()\n",
    "        print(f\"Best Validation Loss at Epoch {BLE}\")\n",
    "        breaker()\n",
    "        print(f\"Best Validation Accs at Epoch {BAE}\")\n",
    "        breaker()\n",
    "        print(\"Time Taken [{} Epochs] : {:.2f} minutes\".format(len(Losses), (time()-start_time)/60))\n",
    "    \n",
    "    return Losses, Accuracies, LRs, BLE, BAE, name\n",
    "\n",
    "\n",
    "def predict(model=None, dataloader=None, path=None, device=None) -> np.ndarray:\n",
    "    model.load_state_dict(torch.load(path, map_location=device)[\"model_state_dict\"])\n",
    "    model.to(device)    \n",
    "    model.eval()\n",
    "    \n",
    "    y_pred = torch.zeros(1, 1).to(device)\n",
    "    \n",
    "    for X in dataloader:\n",
    "        X = X.to(device)\n",
    "        with torch.no_grad():\n",
    "            output = torch.sigmoid(model(X))\n",
    "        y_pred = torch.cat((y_pred, output.view(-1, 1)), dim=0)\n",
    "    \n",
    "    y_pred[y_pred > 0.5] = 1\n",
    "    y_pred[y_pred <= 0.5] = 0\n",
    "    \n",
    "    return y_pred[1:].detach().cpu().numpy()"
   ]
  },
  {
   "cell_type": "markdown",
   "id": "40bcf12b",
   "metadata": {
    "papermill": {
     "duration": 0.016978,
     "end_time": "2022-04-17T08:17:29.474011",
     "exception": false,
     "start_time": "2022-04-17T08:17:29.457033",
     "status": "completed"
    },
    "tags": []
   },
   "source": [
    "### **Train**"
   ]
  },
  {
   "cell_type": "code",
   "execution_count": 7,
   "id": "60d2c467",
   "metadata": {
    "execution": {
     "iopub.execute_input": "2022-04-17T08:17:29.512388Z",
     "iopub.status.busy": "2022-04-17T08:17:29.511525Z",
     "iopub.status.idle": "2022-04-17T08:18:12.002138Z",
     "shell.execute_reply": "2022-04-17T08:18:12.000775Z",
     "shell.execute_reply.started": "2022-04-09T01:18:47.643848Z"
    },
    "papermill": {
     "duration": 42.511921,
     "end_time": "2022-04-17T08:18:12.002426",
     "exception": false,
     "start_time": "2022-04-17T08:17:29.490505",
     "status": "completed"
    },
    "tags": []
   },
   "outputs": [],
   "source": [
    "images = np.load(f\"../input/chest-x-rays-images/train_images_{SIZE}.npy\")\n",
    "labels = np.load(f\"../input/chest-x-rays-images/train_targets_{SIZE}.npy\")"
   ]
  },
  {
   "cell_type": "code",
   "execution_count": 8,
   "id": "d8a80599",
   "metadata": {
    "execution": {
     "iopub.execute_input": "2022-04-17T08:18:12.062900Z",
     "iopub.status.busy": "2022-04-17T08:18:12.060537Z",
     "iopub.status.idle": "2022-04-17T08:53:08.381587Z",
     "shell.execute_reply": "2022-04-17T08:53:08.382085Z",
     "shell.execute_reply.started": "2022-04-09T01:36:59.635267Z"
    },
    "papermill": {
     "duration": 2096.356529,
     "end_time": "2022-04-17T08:53:08.382284",
     "exception": false,
     "start_time": "2022-04-17T08:18:12.025755",
     "status": "completed"
    },
    "tags": []
   },
   "outputs": [
    {
     "name": "stderr",
     "output_type": "stream",
     "text": [
      "Downloading: \"https://download.pytorch.org/models/mobilenet_v3_small-047dcff4.pth\" to /root/.cache/torch/hub/checkpoints/mobilenet_v3_small-047dcff4.pth\n"
     ]
    },
    {
     "data": {
      "application/vnd.jupyter.widget-view+json": {
       "model_id": "1c5d846b0aee4c24813765e123f03c63",
       "version_major": 2,
       "version_minor": 0
      },
      "text/plain": [
       "  0%|          | 0.00/9.83M [00:00<?, ?B/s]"
      ]
     },
     "metadata": {},
     "output_type": "display_data"
    },
    {
     "name": "stdout",
     "output_type": "stream",
     "text": [
      "\n",
      "**************************************************\n",
      "\n",
      "Training Fold 1...\n",
      "\n",
      "**************************************************\n",
      "\n",
      "Epoch: 1 | Train Loss: 0.37463 | Valid Loss: 0.49977 | Train Accs: 0.83993 | Valid Accs: 0.76515 | Time: 35.61 seconds\n",
      "Epoch: 2 | Train Loss: 0.08224 | Valid Loss: 0.15084 | Train Accs: 0.96613 | Valid Accs: 0.95739 | Time: 28.23 seconds\n",
      "Epoch: 3 | Train Loss: 0.06353 | Valid Loss: 0.19105 | Train Accs: 0.97638 | Valid Accs: 0.93371 | Time: 28.54 seconds\n",
      "Epoch: 4 | Train Loss: 0.05067 | Valid Loss: 0.03112 | Train Accs: 0.98187 | Valid Accs: 0.98864 | Time: 28.54 seconds\n",
      "Epoch: 5 | Train Loss: 0.02753 | Valid Loss: 0.21036 | Train Accs: 0.99022 | Valid Accs: 0.92330 | Time: 29.08 seconds\n",
      "Epoch: 6 | Train Loss: 0.03732 | Valid Loss: 0.02655 | Train Accs: 0.98640 | Valid Accs: 0.98769 | Time: 28.75 seconds\n",
      "Epoch: 7 | Train Loss: 0.01649 | Valid Loss: 0.09061 | Train Accs: 0.99308 | Valid Accs: 0.97917 | Time: 28.22 seconds\n",
      "Epoch: 8 | Train Loss: 0.02099 | Valid Loss: 0.04278 | Train Accs: 0.99404 | Valid Accs: 0.98552 | Time: 28.35 seconds\n",
      "Epoch: 9 | Train Loss: 0.00641 | Valid Loss: 0.02903 | Train Accs: 0.99761 | Valid Accs: 0.98837 | Time: 27.99 seconds\n",
      "Epoch: 10 | Train Loss: 0.01024 | Valid Loss: 0.06579 | Train Accs: 0.99642 | Valid Accs: 0.98079 | Time: 28.52 seconds\n",
      "Epoch: 11 | Train Loss: 0.00354 | Valid Loss: 0.04670 | Train Accs: 0.99928 | Valid Accs: 0.98552 | Time: 28.41 seconds\n",
      "\n",
      "Early Stopping at Epoch 12\n",
      "\n",
      "**************************************************\n",
      "\n",
      "Best Validation Loss at Epoch 6\n",
      "\n",
      "**************************************************\n",
      "\n",
      "Best Validation Accs at Epoch 4\n",
      "\n",
      "**************************************************\n",
      "\n",
      "Time Taken [12 Epochs] : 5.81 minutes\n",
      "\n",
      "**************************************************\n",
      "\n"
     ]
    },
    {
     "data": {
      "image/png": "[encoded data removed]",
      "text/plain": [
       "<Figure size 576x432 with 2 Axes>"
      ]
     },
     "metadata": {
      "needs_background": "light"
     },
     "output_type": "display_data"
    },
    {
     "name": "stdout",
     "output_type": "stream",
     "text": [
      "\n",
      "**************************************************\n",
      "\n",
      "Training Fold 2...\n",
      "\n",
      "**************************************************\n",
      "\n",
      "Epoch: 1 | Train Loss: 0.49719 | Valid Loss: 0.55284 | Train Accs: 0.76854 | Valid Accs: 0.71048 | Time: 27.04 seconds\n",
      "Epoch: 2 | Train Loss: 0.08802 | Valid Loss: 0.30137 | Train Accs: 0.96662 | Valid Accs: 0.85042 | Time: 26.49 seconds\n",
      "Epoch: 3 | Train Loss: 0.04840 | Valid Loss: 0.23032 | Train Accs: 0.98306 | Valid Accs: 0.89027 | Time: 27.23 seconds\n",
      "Epoch: 4 | Train Loss: 0.02713 | Valid Loss: 0.03645 | Train Accs: 0.99077 | Valid Accs: 0.98529 | Time: 26.81 seconds\n",
      "Epoch: 5 | Train Loss: 0.01473 | Valid Loss: 0.12407 | Train Accs: 0.99419 | Valid Accs: 0.96128 | Time: 27.17 seconds\n",
      "Epoch: 6 | Train Loss: 0.01560 | Valid Loss: 0.59360 | Train Accs: 0.99348 | Valid Accs: 0.89210 | Time: 26.78 seconds\n",
      "Epoch: 7 | Train Loss: 0.01855 | Valid Loss: 0.03651 | Train Accs: 0.99337 | Valid Accs: 0.98805 | Time: 27.19 seconds\n",
      "Epoch: 8 | Train Loss: 0.00612 | Valid Loss: 0.07089 | Train Accs: 0.99787 | Valid Accs: 0.98162 | Time: 26.99 seconds\n",
      "Epoch: 9 | Train Loss: 0.00493 | Valid Loss: 0.02723 | Train Accs: 0.99811 | Valid Accs: 0.98937 | Time: 26.52 seconds\n",
      "Epoch: 10 | Train Loss: 0.00235 | Valid Loss: 0.03537 | Train Accs: 0.99929 | Valid Accs: 0.98569 | Time: 27.09 seconds\n",
      "Epoch: 11 | Train Loss: 0.00053 | Valid Loss: 0.01597 | Train Accs: 1.00000 | Valid Accs: 0.99449 | Time: 27.01 seconds\n",
      "Epoch: 12 | Train Loss: 0.00024 | Valid Loss: 0.01869 | Train Accs: 1.00000 | Valid Accs: 0.99449 | Time: 27.46 seconds\n",
      "Epoch: 13 | Train Loss: 0.00013 | Valid Loss: 0.01828 | Train Accs: 1.00000 | Valid Accs: 0.99357 | Time: 26.48 seconds\n",
      "Epoch: 14 | Train Loss: 0.00020 | Valid Loss: 0.01545 | Train Accs: 1.00000 | Valid Accs: 0.99540 | Time: 27.18 seconds\n",
      "Epoch: 15 | Train Loss: 0.00008 | Valid Loss: 0.01487 | Train Accs: 1.00000 | Valid Accs: 0.99540 | Time: 26.56 seconds\n",
      "Epoch: 16 | Train Loss: 0.00005 | Valid Loss: 0.01533 | Train Accs: 1.00000 | Valid Accs: 0.99540 | Time: 27.37 seconds\n",
      "Epoch: 17 | Train Loss: 0.00003 | Valid Loss: 0.01524 | Train Accs: 1.00000 | Valid Accs: 0.99540 | Time: 27.05 seconds\n",
      "Epoch: 18 | Train Loss: 0.00012 | Valid Loss: 0.01515 | Train Accs: 1.00000 | Valid Accs: 0.99540 | Time: 27.06 seconds\n",
      "Epoch: 19 | Train Loss: 0.00004 | Valid Loss: 0.01517 | Train Accs: 1.00000 | Valid Accs: 0.99540 | Time: 26.79 seconds\n",
      "Epoch: 20 | Train Loss: 0.00005 | Valid Loss: 0.01526 | Train Accs: 1.00000 | Valid Accs: 0.99540 | Time: 26.84 seconds\n",
      "\n",
      "**************************************************\n",
      "\n",
      "Best Validation Loss at Epoch 15\n",
      "\n",
      "**************************************************\n",
      "\n",
      "Best Validation Accs at Epoch 14\n",
      "\n",
      "**************************************************\n",
      "\n",
      "Time Taken [20 Epochs] : 8.99 minutes\n",
      "\n",
      "**************************************************\n",
      "\n"
     ]
    },
    {
     "data": {
      "image/png": "[encoded data removed]",
      "text/plain": [
       "<Figure size 576x432 with 2 Axes>"
      ]
     },
     "metadata": {
      "needs_background": "light"
     },
     "output_type": "display_data"
    },
    {
     "name": "stdout",
     "output_type": "stream",
     "text": [
      "\n",
      "**************************************************\n",
      "\n",
      "Training Fold 3...\n",
      "\n",
      "**************************************************\n",
      "\n",
      "Epoch: 1 | Train Loss: 0.49687 | Valid Loss: 0.53605 | Train Accs: 0.77500 | Valid Accs: 0.69845 | Time: 26.60 seconds\n",
      "Epoch: 2 | Train Loss: 0.09250 | Valid Loss: 0.98637 | Train Accs: 0.96473 | Valid Accs: 0.70037 | Time: 26.70 seconds\n",
      "Epoch: 3 | Train Loss: 0.04086 | Valid Loss: 1.08771 | Train Accs: 0.98663 | Valid Accs: 0.72025 | Time: 26.84 seconds\n",
      "Epoch: 4 | Train Loss: 0.03413 | Valid Loss: 0.06219 | Train Accs: 0.98509 | Valid Accs: 0.98087 | Time: 26.68 seconds\n",
      "Epoch: 5 | Train Loss: 0.01668 | Valid Loss: 0.08987 | Train Accs: 0.99479 | Valid Accs: 0.96273 | Time: 26.63 seconds\n",
      "Epoch: 6 | Train Loss: 0.01052 | Valid Loss: 0.06452 | Train Accs: 0.99670 | Valid Accs: 0.97719 | Time: 26.58 seconds\n",
      "Epoch: 7 | Train Loss: 0.01733 | Valid Loss: 0.03899 | Train Accs: 0.99384 | Valid Accs: 0.98630 | Time: 26.91 seconds\n",
      "Epoch: 8 | Train Loss: 0.00557 | Valid Loss: 0.02073 | Train Accs: 0.99811 | Valid Accs: 0.99449 | Time: 26.70 seconds\n",
      "Epoch: 9 | Train Loss: 0.00389 | Valid Loss: 0.02801 | Train Accs: 0.99882 | Valid Accs: 0.99273 | Time: 26.47 seconds\n",
      "Epoch: 10 | Train Loss: 0.00193 | Valid Loss: 0.01452 | Train Accs: 0.99905 | Valid Accs: 0.99449 | Time: 26.66 seconds\n",
      "Epoch: 11 | Train Loss: 0.00108 | Valid Loss: 0.01894 | Train Accs: 0.99953 | Valid Accs: 0.99540 | Time: 26.52 seconds\n",
      "Epoch: 12 | Train Loss: 0.00046 | Valid Loss: 0.01943 | Train Accs: 0.99976 | Valid Accs: 0.99632 | Time: 26.91 seconds\n",
      "Epoch: 13 | Train Loss: 0.00026 | Valid Loss: 0.01841 | Train Accs: 1.00000 | Valid Accs: 0.99632 | Time: 26.49 seconds\n",
      "Epoch: 14 | Train Loss: 0.00013 | Valid Loss: 0.01863 | Train Accs: 1.00000 | Valid Accs: 0.99540 | Time: 26.68 seconds\n",
      "Epoch: 15 | Train Loss: 0.00255 | Valid Loss: 0.01653 | Train Accs: 0.99905 | Valid Accs: 0.99449 | Time: 26.53 seconds\n",
      "\n",
      "Early Stopping at Epoch 16\n",
      "\n",
      "**************************************************\n",
      "\n",
      "Best Validation Loss at Epoch 10\n",
      "\n",
      "**************************************************\n",
      "\n",
      "Best Validation Accs at Epoch 12\n",
      "\n",
      "**************************************************\n",
      "\n",
      "Time Taken [16 Epochs] : 7.11 minutes\n",
      "\n",
      "**************************************************\n",
      "\n"
     ]
    },
    {
     "data": {
      "image/png": "[encoded data removed]",
      "text/plain": [
       "<Figure size 576x432 with 2 Axes>"
      ]
     },
     "metadata": {
      "needs_background": "light"
     },
     "output_type": "display_data"
    },
    {
     "name": "stdout",
     "output_type": "stream",
     "text": [
      "\n",
      "**************************************************\n",
      "\n",
      "Training Fold 4...\n",
      "\n",
      "**************************************************\n",
      "\n",
      "Epoch: 1 | Train Loss: 0.49614 | Valid Loss: 0.55602 | Train Accs: 0.77300 | Valid Accs: 0.72610 | Time: 26.36 seconds\n",
      "Epoch: 2 | Train Loss: 0.08759 | Valid Loss: 0.14106 | Train Accs: 0.96875 | Valid Accs: 0.94068 | Time: 26.53 seconds\n",
      "Epoch: 3 | Train Loss: 0.04301 | Valid Loss: 0.35771 | Train Accs: 0.98532 | Valid Accs: 0.84592 | Time: 26.43 seconds\n",
      "Epoch: 4 | Train Loss: 0.03371 | Valid Loss: 0.14198 | Train Accs: 0.98745 | Valid Accs: 0.95271 | Time: 26.53 seconds\n",
      "Epoch: 5 | Train Loss: 0.01526 | Valid Loss: 0.21758 | Train Accs: 0.99479 | Valid Accs: 0.94903 | Time: 26.28 seconds\n",
      "Epoch: 6 | Train Loss: 0.00795 | Valid Loss: 0.05369 | Train Accs: 0.99811 | Valid Accs: 0.98713 | Time: 26.35 seconds\n",
      "Epoch: 7 | Train Loss: 0.00781 | Valid Loss: 0.13550 | Train Accs: 0.99716 | Valid Accs: 0.95555 | Time: 26.44 seconds\n",
      "Epoch: 8 | Train Loss: 0.01625 | Valid Loss: 0.07194 | Train Accs: 0.99479 | Valid Accs: 0.97828 | Time: 26.50 seconds\n",
      "Epoch: 9 | Train Loss: 0.00477 | Valid Loss: 0.11800 | Train Accs: 0.99882 | Valid Accs: 0.97819 | Time: 26.11 seconds\n",
      "Epoch: 10 | Train Loss: 0.00171 | Valid Loss: 0.05847 | Train Accs: 0.99929 | Valid Accs: 0.98630 | Time: 26.44 seconds\n",
      "Epoch: 11 | Train Loss: 0.00365 | Valid Loss: 0.09342 | Train Accs: 0.99858 | Valid Accs: 0.97719 | Time: 26.31 seconds\n",
      "\n",
      "Early Stopping at Epoch 12\n",
      "\n",
      "**************************************************\n",
      "\n",
      "Best Validation Loss at Epoch 6\n",
      "\n",
      "**************************************************\n",
      "\n",
      "Best Validation Accs at Epoch 6\n",
      "\n",
      "**************************************************\n",
      "\n",
      "Time Taken [12 Epochs] : 5.28 minutes\n",
      "\n",
      "**************************************************\n",
      "\n"
     ]
    },
    {
     "data": {
      "image/png": "[encoded data removed]",
      "text/plain": [
       "<Figure size 576x432 with 2 Axes>"
      ]
     },
     "metadata": {
      "needs_background": "light"
     },
     "output_type": "display_data"
    },
    {
     "name": "stdout",
     "output_type": "stream",
     "text": [
      "\n",
      "**************************************************\n",
      "\n",
      "Training Fold 5...\n",
      "\n",
      "**************************************************\n",
      "\n",
      "Epoch: 1 | Train Loss: 0.49290 | Valid Loss: 0.60388 | Train Accs: 0.77085 | Valid Accs: 0.71415 | Time: 26.50 seconds\n",
      "Epoch: 2 | Train Loss: 0.09458 | Valid Loss: 0.25074 | Train Accs: 0.96402 | Valid Accs: 0.88686 | Time: 26.63 seconds\n",
      "Epoch: 3 | Train Loss: 0.04108 | Valid Loss: 0.19137 | Train Accs: 0.98485 | Valid Accs: 0.91995 | Time: 26.34 seconds\n",
      "Epoch: 4 | Train Loss: 0.02721 | Valid Loss: 0.07379 | Train Accs: 0.99148 | Valid Accs: 0.97184 | Time: 26.30 seconds\n",
      "Epoch: 5 | Train Loss: 0.01990 | Valid Loss: 0.14902 | Train Accs: 0.99231 | Valid Accs: 0.94059 | Time: 26.54 seconds\n",
      "Epoch: 6 | Train Loss: 0.02012 | Valid Loss: 0.08967 | Train Accs: 0.99290 | Valid Accs: 0.96449 | Time: 26.24 seconds\n",
      "Epoch: 7 | Train Loss: 0.01492 | Valid Loss: 0.21911 | Train Accs: 0.99527 | Valid Accs: 0.93808 | Time: 26.43 seconds\n",
      "Epoch: 8 | Train Loss: 0.00339 | Valid Loss: 0.03292 | Train Accs: 0.99858 | Valid Accs: 0.98722 | Time: 26.12 seconds\n",
      "Epoch: 9 | Train Loss: 0.00036 | Valid Loss: 0.02421 | Train Accs: 1.00000 | Valid Accs: 0.99081 | Time: 26.38 seconds\n",
      "Epoch: 10 | Train Loss: 0.00039 | Valid Loss: 0.03325 | Train Accs: 1.00000 | Valid Accs: 0.98538 | Time: 26.18 seconds\n",
      "Epoch: 11 | Train Loss: 0.00023 | Valid Loss: 0.02322 | Train Accs: 1.00000 | Valid Accs: 0.99357 | Time: 26.65 seconds\n",
      "Epoch: 12 | Train Loss: 0.00012 | Valid Loss: 0.02494 | Train Accs: 1.00000 | Valid Accs: 0.99449 | Time: 26.37 seconds\n",
      "Epoch: 13 | Train Loss: 0.00008 | Valid Loss: 0.02549 | Train Accs: 1.00000 | Valid Accs: 0.99449 | Time: 26.20 seconds\n",
      "Epoch: 14 | Train Loss: 0.00005 | Valid Loss: 0.02831 | Train Accs: 1.00000 | Valid Accs: 0.99449 | Time: 26.49 seconds\n",
      "Epoch: 15 | Train Loss: 0.00009 | Valid Loss: 0.02972 | Train Accs: 1.00000 | Valid Accs: 0.99449 | Time: 26.35 seconds\n",
      "Epoch: 16 | Train Loss: 0.00012 | Valid Loss: 0.03347 | Train Accs: 1.00000 | Valid Accs: 0.99265 | Time: 26.41 seconds\n",
      "\n",
      "Early Stopping at Epoch 17\n",
      "\n",
      "**************************************************\n",
      "\n",
      "Best Validation Loss at Epoch 11\n",
      "\n",
      "**************************************************\n",
      "\n",
      "Best Validation Accs at Epoch 12\n",
      "\n",
      "**************************************************\n",
      "\n",
      "Time Taken [17 Epochs] : 7.48 minutes\n",
      "\n",
      "**************************************************\n",
      "\n"
     ]
    },
    {
     "data": {
      "image/png": "[encoded data removed]",
      "text/plain": [
       "<Figure size 576x432 with 2 Axes>"
      ]
     },
     "metadata": {
      "needs_background": "light"
     },
     "output_type": "display_data"
    }
   ],
   "source": [
    "fold = 1\n",
    "BLEs, BAEs = [], []\n",
    "\n",
    "for tr_idx, va_idx in KFold(n_splits=cfg.n_splits, random_state=SEED, shuffle=True).split(images):\n",
    "    tr_images, va_images, tr_labels, va_labels = images[tr_idx], images[va_idx], labels[tr_idx], labels[va_idx]\n",
    "\n",
    "    tr_data_setup = DS(tr_images, tr_labels.reshape(-1, 1), cfg.transform)\n",
    "    va_data_setup = DS(va_images, va_labels.reshape(-1, 1), cfg.transform)\n",
    "\n",
    "    dataloaders = {\n",
    "        \"train\" : DL(tr_data_setup, batch_size=cfg.batch_size, shuffle=True, generator=torch.manual_seed(cfg.seed)),\n",
    "        \"valid\" : DL(va_data_setup, batch_size=cfg.batch_size, shuffle=False),\n",
    "    }\n",
    "\n",
    "    cfg = CFG(epochs=20, lr=1e-3, wd=0.0, batch_size=64, steps_per_epoch=len(dataloaders[\"train\"]))\n",
    "\n",
    "    torch.manual_seed(cfg.seed)\n",
    "    model = Model().to(cfg.device)\n",
    "    optimizer = optim.Adam([p for p in model.parameters() if p.requires_grad], lr=cfg.lr, weight_decay=cfg.wd)\n",
    "    scheduler = optim.lr_scheduler.OneCycleLR(optimizer=optimizer, \n",
    "                                              max_lr=cfg.max_lr, \n",
    "                                              epochs=cfg.epochs, \n",
    "                                              steps_per_epoch=cfg.steps_per_epoch,\n",
    "                                              pct_start=cfg.pct_start, \n",
    "                                              div_factor=cfg.div_factor, \n",
    "                                              final_div_factor=cfg.final_div_factor)\n",
    "    # scheduler = None\n",
    "\n",
    "    L, A, LRs, BLE, BAE, name = fit(model=model, \n",
    "                                    optimizer=optimizer, \n",
    "                                    scheduler=scheduler, \n",
    "                                    epochs=cfg.epochs, \n",
    "                                    early_stopping_patience=cfg.early_stopping, \n",
    "                                    dataloaders=dataloaders, \n",
    "                                    device=cfg.device,\n",
    "                                    save_path=cfg.save_path,\n",
    "                                    fold = fold,\n",
    "                                    verbose=True)\n",
    "\n",
    "    breaker()\n",
    "    show_graphs(L, A)\n",
    "    \n",
    "    BLEs.append(BLE)\n",
    "    BAEs.append(BAE)\n",
    "\n",
    "    fold += 1"
   ]
  },
  {
   "cell_type": "markdown",
   "id": "2a53b3c5",
   "metadata": {
    "papermill": {
     "duration": 0.057979,
     "end_time": "2022-04-17T08:53:08.499954",
     "exception": false,
     "start_time": "2022-04-17T08:53:08.441975",
     "status": "completed"
    },
    "tags": []
   },
   "source": [
    "### **Predictions**"
   ]
  },
  {
   "cell_type": "code",
   "execution_count": 9,
   "id": "1822c198",
   "metadata": {
    "execution": {
     "iopub.execute_input": "2022-04-17T08:53:08.625266Z",
     "iopub.status.busy": "2022-04-17T08:53:08.624599Z",
     "iopub.status.idle": "2022-04-17T08:53:15.273628Z",
     "shell.execute_reply": "2022-04-17T08:53:15.272992Z",
     "shell.execute_reply.started": "2022-04-09T01:41:41.028783Z"
    },
    "papermill": {
     "duration": 6.715172,
     "end_time": "2022-04-17T08:53:15.273779",
     "exception": false,
     "start_time": "2022-04-17T08:53:08.558607",
     "status": "completed"
    },
    "tags": []
   },
   "outputs": [
    {
     "name": "stdout",
     "output_type": "stream",
     "text": [
      "\n",
      "**************************************************\n",
      "\n",
      "Best Fold : 1\n",
      "\n",
      "**************************************************\n",
      "\n",
      "Accuracy  : 0.70994\n",
      "ROC-AUC   : 0.84151\n",
      "Precision : [0.22649573 1.        ]\n",
      "Recall    : [1.         0.68301226]\n",
      "F-Score   : [0.36933798 0.81165453]\n",
      "\n",
      "**************************************************\n",
      "\n",
      "              precision    recall  f1-score   support\n",
      "\n",
      "         0.0       1.00      0.23      0.37       234\n",
      "         1.0       0.68      1.00      0.81       390\n",
      "\n",
      "    accuracy                           0.71       624\n",
      "   macro avg       0.84      0.61      0.59       624\n",
      "weighted avg       0.80      0.71      0.65       624\n",
      "\n",
      "\n",
      "**************************************************\n",
      "\n",
      "[[ 53 181]\n",
      " [  0 390]]\n",
      "\n",
      "**************************************************\n",
      "\n"
     ]
    }
   ],
   "source": [
    "test_images = np.load(f\"../input/chest-x-rays-images/test_images_{SIZE}.npy\")\n",
    "test_labels = np.load(f\"../input/chest-x-rays-images/test_targets_{SIZE}.npy\")\n",
    "\n",
    "ts_data_setup = DS(test_images, None, cfg.transform)\n",
    "ts_data = DL(ts_data_setup, batch_size=cfg.batch_size, shuffle=False)\n",
    "\n",
    "best_fold = BLEs.index(min(BLEs)) + 1\n",
    "model_path = f\"saves/state_fold_{best_fold}.pt\"\n",
    "y_pred = predict(model=Model().to(cfg.device), dataloader=ts_data, path=model_path, device=cfg.device)\n",
    "\n",
    "accuracy, auc, precision, recall, f_score = get_scores(test_labels, y_pred)\n",
    "\n",
    "breaker()\n",
    "print(f\"Best Fold : {best_fold}\")\n",
    "breaker()\n",
    "print_scores(accuracy, auc, precision, recall, f_score)\n",
    "breaker()\n",
    "print(classification_report(test_labels, y_pred))\n",
    "breaker()\n",
    "print(confusion_matrix(test_labels, y_pred))\n",
    "breaker()"
   ]
  }
 ],
 "metadata": {
  "kernelspec": {
   "display_name": "Python 3",
   "language": "python",
   "name": "python3"
  },
  "language_info": {
   "codemirror_mode": {
    "name": "ipython",
    "version": 3
   },
   "file_extension": ".py",
   "mimetype": "text/x-python",
   "name": "python",
   "nbconvert_exporter": "python",
   "pygments_lexer": "ipython3",
   "version": "3.7.12"
  },
  "papermill": {
   "default_parameters": {},
   "duration": 2161.857617,
   "end_time": "2022-04-17T08:53:17.595541",
   "environment_variables": {},
   "exception": null,
   "input_path": "__notebook__.ipynb",
   "output_path": "__notebook__.ipynb",
   "parameters": {},
   "start_time": "2022-04-17T08:17:15.737924",
   "version": "2.3.3"
  },
  "widgets": {
   "application/vnd.jupyter.widget-state+json": {
    "state": {
     "0c7c87792d3f4bd189bf821e6125bee1": {
      "model_module": "@jupyter-widgets/controls",
      "model_module_version": "1.5.0",
      "model_name": "HTMLModel",
      "state": {
       "_dom_classes": [],
       "_model_module": "@jupyter-widgets/controls",
       "_model_module_version": "1.5.0",
       "_model_name": "HTMLModel",
       "_view_count": null,
       "_view_module": "@jupyter-widgets/controls",
       "_view_module_version": "1.5.0",
       "_view_name": "HTMLView",
       "description": "",
       "description_tooltip": null,
       "layout": "IPY_MODEL_b4396ca392384163b6f49e4bc54f96b4",
       "placeholder": "​",
       "style": "IPY_MODEL_7924b3433319417db31596a1b87a8791",
       "value": " 9.83M/9.83M [00:02&lt;00:00, 11.5MB/s]"
      }
     },
     "1c5d846b0aee4c24813765e123f03c63": {
      "model_module": "@jupyter-widgets/controls",
      "model_module_version": "1.5.0",
      "model_name": "HBoxModel",
      "state": {
       "_dom_classes": [],
       "_model_module": "@jupyter-widgets/controls",
       "_model_module_version": "1.5.0",
       "_model_name": "HBoxModel",
       "_view_count": null,
       "_view_module": "@jupyter-widgets/controls",
       "_view_module_version": "1.5.0",
       "_view_name": "HBoxView",
       "box_style": "",
       "children": [
        "IPY_MODEL_695290509e6f4e6b9c09a1ae62cf6863",
        "IPY_MODEL_52055ae388ca483a96cab9342e2f980b",
        "IPY_MODEL_0c7c87792d3f4bd189bf821e6125bee1"
       ],
       "layout": "IPY_MODEL_fc13d6a7c7b241ffb73fda546b280c2b"
      }
     },
     "4f3b5cb54313490dacdb6a7aa9393ecf": {
      "model_module": "@jupyter-widgets/base",
      "model_module_version": "1.2.0",
      "model_name": "LayoutModel",
      "state": {
       "_model_module": "@jupyter-widgets/base",
       "_model_module_version": "1.2.0",
       "_model_name": "LayoutModel",
       "_view_count": null,
       "_view_module": "@jupyter-widgets/base",
       "_view_module_version": "1.2.0",
       "_view_name": "LayoutView",
       "align_content": null,
       "align_items": null,
       "align_self": null,
       "border": null,
       "bottom": null,
       "display": null,
       "flex": null,
       "flex_flow": null,
       "grid_area": null,
       "grid_auto_columns": null,
       "grid_auto_flow": null,
       "grid_auto_rows": null,
       "grid_column": null,
       "grid_gap": null,
       "grid_row": null,
       "grid_template_areas": null,
       "grid_template_columns": null,
       "grid_template_rows": null,
       "height": null,
       "justify_content": null,
       "justify_items": null,
       "left": null,
       "margin": null,
       "max_height": null,
       "max_width": null,
       "min_height": null,
       "min_width": null,
       "object_fit": null,
       "object_position": null,
       "order": null,
       "overflow": null,
       "overflow_x": null,
       "overflow_y": null,
       "padding": null,
       "right": null,
       "top": null,
       "visibility": null,
       "width": null
      }
     },
     "52055ae388ca483a96cab9342e2f980b": {
      "model_module": "@jupyter-widgets/controls",
      "model_module_version": "1.5.0",
      "model_name": "FloatProgressModel",
      "state": {
       "_dom_classes": [],
       "_model_module": "@jupyter-widgets/controls",
       "_model_module_version": "1.5.0",
       "_model_name": "FloatProgressModel",
       "_view_count": null,
       "_view_module": "@jupyter-widgets/controls",
       "_view_module_version": "1.5.0",
       "_view_name": "ProgressView",
       "bar_style": "success",
       "description": "",
       "description_tooltip": null,
       "layout": "IPY_MODEL_4f3b5cb54313490dacdb6a7aa9393ecf",
       "max": 10306551.0,
       "min": 0.0,
       "orientation": "horizontal",
       "style": "IPY_MODEL_b19d8bab5a2041ce8d732f5aeb6d0d75",
       "value": 10306551.0
      }
     },
     "695290509e6f4e6b9c09a1ae62cf6863": {
      "model_module": "@jupyter-widgets/controls",
      "model_module_version": "1.5.0",
      "model_name": "HTMLModel",
      "state": {
       "_dom_classes": [],
       "_model_module": "@jupyter-widgets/controls",
       "_model_module_version": "1.5.0",
       "_model_name": "HTMLModel",
       "_view_count": null,
       "_view_module": "@jupyter-widgets/controls",
       "_view_module_version": "1.5.0",
       "_view_name": "HTMLView",
       "description": "",
       "description_tooltip": null,
       "layout": "IPY_MODEL_c2a656ec84b34be5b2c1524625a67b92",
       "placeholder": "​",
       "style": "IPY_MODEL_b13d73ffcb6a45c2aea00d2391645b3d",
       "value": "100%"
      }
     },
     "7924b3433319417db31596a1b87a8791": {
      "model_module": "@jupyter-widgets/controls",
      "model_module_version": "1.5.0",
      "model_name": "DescriptionStyleModel",
      "state": {
       "_model_module": "@jupyter-widgets/controls",
       "_model_module_version": "1.5.0",
       "_model_name": "DescriptionStyleModel",
       "_view_count": null,
       "_view_module": "@jupyter-widgets/base",
       "_view_module_version": "1.2.0",
       "_view_name": "StyleView",
       "description_width": ""
      }
     },
     "b13d73ffcb6a45c2aea00d2391645b3d": {
      "model_module": "@jupyter-widgets/controls",
      "model_module_version": "1.5.0",
      "model_name": "DescriptionStyleModel",
      "state": {
       "_model_module": "@jupyter-widgets/controls",
       "_model_module_version": "1.5.0",
       "_model_name": "DescriptionStyleModel",
       "_view_count": null,
       "_view_module": "@jupyter-widgets/base",
       "_view_module_version": "1.2.0",
       "_view_name": "StyleView",
       "description_width": ""
      }
     },
     "b19d8bab5a2041ce8d732f5aeb6d0d75": {
      "model_module": "@jupyter-widgets/controls",
      "model_module_version": "1.5.0",
      "model_name": "ProgressStyleModel",
      "state": {
       "_model_module": "@jupyter-widgets/controls",
       "_model_module_version": "1.5.0",
       "_model_name": "ProgressStyleModel",
       "_view_count": null,
       "_view_module": "@jupyter-widgets/base",
       "_view_module_version": "1.2.0",
       "_view_name": "StyleView",
       "bar_color": null,
       "description_width": ""
      }
     },
     "b4396ca392384163b6f49e4bc54f96b4": {
      "model_module": "@jupyter-widgets/base",
      "model_module_version": "1.2.0",
      "model_name": "LayoutModel",
      "state": {
       "_model_module": "@jupyter-widgets/base",
       "_model_module_version": "1.2.0",
       "_model_name": "LayoutModel",
       "_view_count": null,
       "_view_module": "@jupyter-widgets/base",
       "_view_module_version": "1.2.0",
       "_view_name": "LayoutView",
       "align_content": null,
       "align_items": null,
       "align_self": null,
       "border": null,
       "bottom": null,
       "display": null,
       "flex": null,
       "flex_flow": null,
       "grid_area": null,
       "grid_auto_columns": null,
       "grid_auto_flow": null,
       "grid_auto_rows": null,
       "grid_column": null,
       "grid_gap": null,
       "grid_row": null,
       "grid_template_areas": null,
       "grid_template_columns": null,
       "grid_template_rows": null,
       "height": null,
       "justify_content": null,
       "justify_items": null,
       "left": null,
       "margin": null,
       "max_height": null,
       "max_width": null,
       "min_height": null,
       "min_width": null,
       "object_fit": null,
       "object_position": null,
       "order": null,
       "overflow": null,
       "overflow_x": null,
       "overflow_y": null,
       "padding": null,
       "right": null,
       "top": null,
       "visibility": null,
       "width": null
      }
     },
     "c2a656ec84b34be5b2c1524625a67b92": {
      "model_module": "@jupyter-widgets/base",
      "model_module_version": "1.2.0",
      "model_name": "LayoutModel",
      "state": {
       "_model_module": "@jupyter-widgets/base",
       "_model_module_version": "1.2.0",
       "_model_name": "LayoutModel",
       "_view_count": null,
       "_view_module": "@jupyter-widgets/base",
       "_view_module_version": "1.2.0",
       "_view_name": "LayoutView",
       "align_content": null,
       "align_items": null,
       "align_self": null,
       "border": null,
       "bottom": null,
       "display": null,
       "flex": null,
       "flex_flow": null,
       "grid_area": null,
       "grid_auto_columns": null,
       "grid_auto_flow": null,
       "grid_auto_rows": null,
       "grid_column": null,
       "grid_gap": null,
       "grid_row": null,
       "grid_template_areas": null,
       "grid_template_columns": null,
       "grid_template_rows": null,
       "height": null,
       "justify_content": null,
       "justify_items": null,
       "left": null,
       "margin": null,
       "max_height": null,
       "max_width": null,
       "min_height": null,
       "min_width": null,
       "object_fit": null,
       "object_position": null,
       "order": null,
       "overflow": null,
       "overflow_x": null,
       "overflow_y": null,
       "padding": null,
       "right": null,
       "top": null,
       "visibility": null,
       "width": null
      }
     },
     "fc13d6a7c7b241ffb73fda546b280c2b": {
      "model_module": "@jupyter-widgets/base",
      "model_module_version": "1.2.0",
      "model_name": "LayoutModel",
      "state": {
       "_model_module": "@jupyter-widgets/base",
       "_model_module_version": "1.2.0",
       "_model_name": "LayoutModel",
       "_view_count": null,
       "_view_module": "@jupyter-widgets/base",
       "_view_module_version": "1.2.0",
       "_view_name": "LayoutView",
       "align_content": null,
       "align_items": null,
       "align_self": null,
       "border": null,
       "bottom": null,
       "display": null,
       "flex": null,
       "flex_flow": null,
       "grid_area": null,
       "grid_auto_columns": null,
       "grid_auto_flow": null,
       "grid_auto_rows": null,
       "grid_column": null,
       "grid_gap": null,
       "grid_row": null,
       "grid_template_areas": null,
       "grid_template_columns": null,
       "grid_template_rows": null,
       "height": null,
       "justify_content": null,
       "justify_items": null,
       "left": null,
       "margin": null,
       "max_height": null,
       "max_width": null,
       "min_height": null,
       "min_width": null,
       "object_fit": null,
       "object_position": null,
       "order": null,
       "overflow": null,
       "overflow_x": null,
       "overflow_y": null,
       "padding": null,
       "right": null,
       "top": null,
       "visibility": null,
       "width": null
      }
     }
    },
    "version_major": 2,
    "version_minor": 0
   }
  }
 },
 "nbformat": 4,
 "nbformat_minor": 5
}
