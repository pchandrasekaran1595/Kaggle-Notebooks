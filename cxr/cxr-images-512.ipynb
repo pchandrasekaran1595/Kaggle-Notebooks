{
 "cells": [
  {
   "cell_type": "code",
   "execution_count": 1,
   "id": "7a063d59",
   "metadata": {
    "_cell_guid": "b1076dfc-b9ad-4769-8c92-a6c4dae69d19",
    "_uuid": "8f2839f25d086af736a60e9eeb907d3b93b6e0e5",
    "execution": {
     "iopub.execute_input": "2022-07-18T05:50:44.405541Z",
     "iopub.status.busy": "2022-07-18T05:50:44.404989Z",
     "iopub.status.idle": "2022-07-18T05:50:44.642203Z",
     "shell.execute_reply": "2022-07-18T05:50:44.641126Z"
    },
    "papermill": {
     "duration": 0.247755,
     "end_time": "2022-07-18T05:50:44.644883",
     "exception": false,
     "start_time": "2022-07-18T05:50:44.397128",
     "status": "completed"
    },
    "tags": []
   },
   "outputs": [],
   "source": [
    "import os\n",
    "import cv2\n",
    "import numpy as np"
   ]
  },
  {
   "cell_type": "code",
   "execution_count": 2,
   "id": "3d6763d2",
   "metadata": {
    "execution": {
     "iopub.execute_input": "2022-07-18T05:50:44.657603Z",
     "iopub.status.busy": "2022-07-18T05:50:44.656958Z",
     "iopub.status.idle": "2022-07-18T05:50:44.668147Z",
     "shell.execute_reply": "2022-07-18T05:50:44.667386Z"
    },
    "papermill": {
     "duration": 0.019899,
     "end_time": "2022-07-18T05:50:44.670421",
     "exception": false,
     "start_time": "2022-07-18T05:50:44.650522",
     "status": "completed"
    },
    "tags": []
   },
   "outputs": [],
   "source": [
    "def breaker(num: int = 50, char: str = \"*\") -> None:\n",
    "    print(\"\\n\" + num*char + \"\\n\")\n",
    "\n",
    "\n",
    "def preprocess(image: np.ndarray, size: int) -> np.ndarray:\n",
    "    return cv2.resize(src=cv2.cvtColor(src=image, code=cv2.COLOR_BGR2RGB), dsize=(size, size), interpolation=cv2.INTER_AREA)\n",
    "\n",
    "\n",
    "def get_images(path: str, names: np.ndarray, size: int) -> np.ndarray:\n",
    "    images = np.zeros((len(names), size, size, 3), dtype=np.uint8)\n",
    "    \n",
    "    i = 0\n",
    "    for name in names:\n",
    "        images[i] = preprocess(cv2.imread(os.path.join(path, name), cv2.IMREAD_COLOR), size)\n",
    "        i += 1\n",
    "    return images\n",
    "\n",
    "\n",
    "def save(train_images: np.ndarray, \n",
    "         test_images: np.ndarray, \n",
    "         train_targets: np.ndarray,\n",
    "         test_targets: np.ndarray, \n",
    "         size: int) -> None:\n",
    "    np.save(f\"train_images_{size}.npy\", train_images)\n",
    "    np.save(f\"test_images_{size}.npy\", test_images)\n",
    "    np.save(f\"train_targets_{size}.npy\", train_targets)\n",
    "    np.save(f\"test_targets_{size}.npy\", test_targets)\n",
    "\n",
    "    \n",
    "\n",
    "def get_statistics(images: np.ndarray, size: int) -> None:\n",
    "    print(f\"Mean {size}x{size}\\n\")\n",
    "    print(f\"Red Channel Mean   {size} : {images[:, :, :, 0].mean() / 255:.5f}\")\n",
    "    print(f\"Green Channel Mean {size} : {images[:, :, :, 1].mean() / 255:.5f}\")\n",
    "    print(f\"Blue Channel Mean  {size} : {images[:, :, :, 2].mean() / 255:.5f}\")\n",
    "    print(\"\")\n",
    "    print(f\"Standard Deviation {size}x{size}\\n\")\n",
    "    print(f\"Red Channel Std    {size} : {images[:, :, :, 0].std() / 255:.5f}\")\n",
    "    print(f\"Green Channel Std  {size} : {images[:, :, :, 1].std() / 255:.5f}\")\n",
    "    print(f\"Blue Channel Std   {size} : {images[:, :, :, 2].std() / 255:.5f}\")"
   ]
  },
  {
   "cell_type": "code",
   "execution_count": 3,
   "id": "da9b27be",
   "metadata": {
    "execution": {
     "iopub.execute_input": "2022-07-18T05:50:44.682361Z",
     "iopub.status.busy": "2022-07-18T05:50:44.681840Z",
     "iopub.status.idle": "2022-07-18T05:50:44.920476Z",
     "shell.execute_reply": "2022-07-18T05:50:44.919616Z"
    },
    "papermill": {
     "duration": 0.247048,
     "end_time": "2022-07-18T05:50:44.922724",
     "exception": false,
     "start_time": "2022-07-18T05:50:44.675676",
     "status": "completed"
    },
    "tags": []
   },
   "outputs": [],
   "source": [
    "size: int = 512\n",
    "\n",
    "train_filenames_pneumonia: list = os.listdir(\"../input/chest-xray-pneumonia/chest_xray/train/PNEUMONIA\")\n",
    "train_filenames_normal: list    = os.listdir(\"../input/chest-xray-pneumonia/chest_xray/train/NORMAL\")\n",
    "\n",
    "valid_filenames_pneumonia: list = os.listdir(\"../input/chest-xray-pneumonia/chest_xray/val/PNEUMONIA\")\n",
    "valid_filenames_normal: list    = os.listdir(\"../input/chest-xray-pneumonia/chest_xray/val/NORMAL\")\n",
    "\n",
    "test_filenames_pneumonia: list = os.listdir(\"../input/chest-xray-pneumonia/chest_xray/test/PNEUMONIA\")\n",
    "test_filenames_normal: list    = os.listdir(\"../input/chest-xray-pneumonia/chest_xray/test/NORMAL\")"
   ]
  },
  {
   "cell_type": "code",
   "execution_count": 4,
   "id": "82827640",
   "metadata": {
    "execution": {
     "iopub.execute_input": "2022-07-18T05:50:44.935154Z",
     "iopub.status.busy": "2022-07-18T05:50:44.934627Z",
     "iopub.status.idle": "2022-07-18T05:53:42.592153Z",
     "shell.execute_reply": "2022-07-18T05:53:42.590772Z"
    },
    "papermill": {
     "duration": 177.66828,
     "end_time": "2022-07-18T05:53:42.596342",
     "exception": false,
     "start_time": "2022-07-18T05:50:44.928062",
     "status": "completed"
    },
    "tags": []
   },
   "outputs": [],
   "source": [
    "train_pneumonia_images = get_images(\n",
    "    \"../input/chest-xray-pneumonia/chest_xray/train/PNEUMONIA\", \n",
    "    train_filenames_pneumonia, \n",
    "    size\n",
    ")\n",
    "train_normal_images    = get_images(\n",
    "    \"../input/chest-xray-pneumonia/chest_xray/train/NORMAL\", \n",
    "    train_filenames_normal, \n",
    "    size\n",
    ")\n",
    "\n",
    "valid_pneumonia_images = get_images(\n",
    "    \"../input/chest-xray-pneumonia/chest_xray/val/PNEUMONIA\", \n",
    "    valid_filenames_pneumonia, \n",
    "    size\n",
    ")\n",
    "valid_normal_images    = get_images(\n",
    "    \"../input/chest-xray-pneumonia/chest_xray/val/NORMAL\", \n",
    "    valid_filenames_normal, \n",
    "    size\n",
    ")\n",
    "\n",
    "test_pneumonia_images = get_images(\n",
    "    \"../input/chest-xray-pneumonia/chest_xray/test/PNEUMONIA\", \n",
    "    test_filenames_pneumonia, \n",
    "    size\n",
    ")\n",
    "test_normal_images    = get_images(\n",
    "    \"../input/chest-xray-pneumonia/chest_xray/test/NORMAL\", \n",
    "    test_filenames_normal, \n",
    "    size\n",
    ")\n",
    "\n",
    "train_pneumonia_images = np.concatenate((train_pneumonia_images, valid_pneumonia_images), axis=0)\n",
    "train_normal_images    = np.concatenate((train_normal_images, valid_normal_images), axis=0)\n",
    "\n",
    "train_images = np.concatenate((train_pneumonia_images, train_normal_images), axis=0)\n",
    "test_images  = np.concatenate((test_pneumonia_images, test_normal_images), axis=0)\n",
    "\n",
    "train_targets = np.concatenate((np.ones(len(train_pneumonia_images, )), np.zeros(len(train_normal_images, ))), axis=0)\n",
    "test_targets  = np.concatenate((np.ones(len(test_pneumonia_images, )), np.zeros(len(test_normal_images, ))), axis=0)\n",
    "\n",
    "save(train_images, test_images, train_targets, test_targets, size)"
   ]
  },
  {
   "cell_type": "code",
   "execution_count": 5,
   "id": "aa693dc1",
   "metadata": {
    "execution": {
     "iopub.execute_input": "2022-07-18T05:53:42.792335Z",
     "iopub.status.busy": "2022-07-18T05:53:42.790682Z",
     "iopub.status.idle": "2022-07-18T05:54:02.901002Z",
     "shell.execute_reply": "2022-07-18T05:54:02.899829Z"
    },
    "papermill": {
     "duration": 20.131733,
     "end_time": "2022-07-18T05:54:02.903927",
     "exception": false,
     "start_time": "2022-07-18T05:53:42.772194",
     "status": "completed"
    },
    "tags": []
   },
   "outputs": [
    {
     "name": "stdout",
     "output_type": "stream",
     "text": [
      "\n",
      "**************************************************\n",
      "\n",
      "Statistics 512x512\n",
      "\n",
      "\n",
      "Red Channel Mean   512 : 0.48231\n",
      "Red Channel Std    512 : 0.22267\n",
      "\n",
      "Green Channel Mean 512 : 0.48231\n",
      "Green Channel Std  512 : 0.22267\n",
      "\n",
      "Blue Channel Mean  512 : 0.48231\n",
      "Blue Channel Std   512 : 0.22267\n",
      "\n",
      "**************************************************\n",
      "\n"
     ]
    }
   ],
   "source": [
    "def get_statistics(images: list, size: int) -> None:\n",
    "    print(\"\\n\" + 50*\"*\" + \"\\n\")\n",
    "    print(f\"Statistics {size}x{size}\\n\")\n",
    "    \n",
    "    for i in range(3):\n",
    "        mean, std = 0.0, 0.0\n",
    "        for j in range(len(images)):\n",
    "            mean += images[j][:, :, i].mean()\n",
    "            std += images[j][:, :, i].std()\n",
    "        \n",
    "        if i == 0:\n",
    "            print(f\"\\nRed Channel Mean   {size} : {mean / len(images) / 255:.5f}\")\n",
    "            print(f\"Red Channel Std    {size} : {std / len(images) / 255:.5f}\")\n",
    "        \n",
    "        if i == 1:\n",
    "            print(f\"\\nGreen Channel Mean {size} : {mean / len(images) / 255:.5f}\")\n",
    "            print(f\"Green Channel Std  {size} : {std / len(images) / 255:.5f}\")\n",
    "\n",
    "        if i == 2:\n",
    "            print(f\"\\nBlue Channel Mean  {size} : {mean / len(images) / 255:.5f}\")\n",
    "            print(f\"Blue Channel Std   {size} : {std / len(images) / 255:.5f}\")\n",
    "    \n",
    "    print(\"\\n\" + 50*\"*\" + \"\\n\")\n",
    "\n",
    "get_statistics(list(train_images), size)"
   ]
  }
 ],
 "metadata": {
  "kernelspec": {
   "display_name": "Python 3",
   "language": "python",
   "name": "python3"
  },
  "language_info": {
   "codemirror_mode": {
    "name": "ipython",
    "version": 3
   },
   "file_extension": ".py",
   "mimetype": "text/x-python",
   "name": "python",
   "nbconvert_exporter": "python",
   "pygments_lexer": "ipython3",
   "version": "3.7.12"
  },
  "papermill": {
   "default_parameters": {},
   "duration": 208.215718,
   "end_time": "2022-07-18T05:54:03.735264",
   "environment_variables": {},
   "exception": null,
   "input_path": "__notebook__.ipynb",
   "output_path": "__notebook__.ipynb",
   "parameters": {},
   "start_time": "2022-07-18T05:50:35.519546",
   "version": "2.3.4"
  }
 },
 "nbformat": 4,
 "nbformat_minor": 5
}
