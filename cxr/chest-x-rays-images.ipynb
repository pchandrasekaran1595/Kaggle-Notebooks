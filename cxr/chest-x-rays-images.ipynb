{
 "cells": [
  {
   "cell_type": "code",
   "execution_count": 1,
   "id": "952e8678",
   "metadata": {
    "_cell_guid": "b1076dfc-b9ad-4769-8c92-a6c4dae69d19",
    "_uuid": "8f2839f25d086af736a60e9eeb907d3b93b6e0e5",
    "execution": {
     "iopub.execute_input": "2022-04-08T23:48:50.638647Z",
     "iopub.status.busy": "2022-04-08T23:48:50.637786Z",
     "iopub.status.idle": "2022-04-08T23:48:50.965079Z",
     "shell.execute_reply": "2022-04-08T23:48:50.964301Z",
     "shell.execute_reply.started": "2022-04-07T06:05:47.797328Z"
    },
    "papermill": {
     "duration": 0.345888,
     "end_time": "2022-04-08T23:48:50.965269",
     "exception": false,
     "start_time": "2022-04-08T23:48:50.619381",
     "status": "completed"
    },
    "tags": []
   },
   "outputs": [],
   "source": [
    "import os\n",
    "import cv2\n",
    "import numpy as np\n"
   ]
  },
  {
   "cell_type": "code",
   "execution_count": 2,
   "id": "4896a703",
   "metadata": {
    "execution": {
     "iopub.execute_input": "2022-04-08T23:48:50.981879Z",
     "iopub.status.busy": "2022-04-08T23:48:50.981153Z",
     "iopub.status.idle": "2022-04-08T23:48:50.995857Z",
     "shell.execute_reply": "2022-04-08T23:48:50.995230Z",
     "shell.execute_reply.started": "2022-04-07T06:06:36.75484Z"
    },
    "papermill": {
     "duration": 0.023916,
     "end_time": "2022-04-08T23:48:50.996008",
     "exception": false,
     "start_time": "2022-04-08T23:48:50.972092",
     "status": "completed"
    },
    "tags": []
   },
   "outputs": [],
   "source": [
    "def breaker(num: int = 50, char: str = \"*\") -> None:\n",
    "    print(\"\\n\" + num*char + \"\\n\")\n",
    "\n",
    "\n",
    "def preprocess(image: np.ndarray, size: int) -> np.ndarray:\n",
    "    return cv2.resize(src=cv2.cvtColor(src=image, code=cv2.COLOR_BGR2RGB), dsize=(size, size), interpolation=cv2.INTER_AREA)\n",
    "\n",
    "\n",
    "def get_images(path: str, names: np.ndarray, size: int) -> np.ndarray:\n",
    "    images = np.zeros((len(names), size, size, 3), dtype=np.uint8)\n",
    "    \n",
    "    i = 0\n",
    "    for name in names:\n",
    "        images[i] = preprocess(cv2.imread(os.path.join(path, name), cv2.IMREAD_COLOR), size)\n",
    "        i += 1\n",
    "    return images\n",
    "\n",
    "\n",
    "def save(train_images: np.ndarray, \n",
    "         test_images: np.ndarray, \n",
    "         train_targets: np.ndarray,\n",
    "         test_targets: np.ndarray, \n",
    "         size: int) -> None:\n",
    "    np.save(f\"./train_images_{size}.npy\", train_images)\n",
    "    np.save(f\"./test_images_{size}.npy\", test_images)\n",
    "    np.save(f\"./train_targets_{size}.npy\", train_targets)\n",
    "    np.save(f\"./test_targets_{size}.npy\", test_targets)\n",
    "\n",
    "    \n",
    "\n",
    "def get_statistics(images: np.ndarray, size: int) -> None:\n",
    "    print(f\"Mean {size}x{size}\\n\")\n",
    "    print(f\"Red Channel Mean   {size} : {train_images[:, :, 0].mean() / 255:.5f}\")\n",
    "    print(f\"Green Channel Mean {size} : {train_images[:, :, 1].mean() / 255:.5f}\")\n",
    "    print(f\"Blue Channel Mean  {size} : {train_images[:, :, 2].mean() / 255:.5f}\")\n",
    "    print(\"\")\n",
    "    print(f\"Standard Deviation {size}x{size}\\n\")\n",
    "    print(f\"Red Channel Std    {size} : {train_images[:, :, 0].std() / 255:.5f}\")\n",
    "    print(f\"Green Channel Std  {size} : {train_images[:, :, 1].std() / 255:.5f}\")\n",
    "    print(f\"Blue Channel Std   {size} : {train_images[:, :, 2].std() / 255:.5f}\")"
   ]
  },
  {
   "cell_type": "code",
   "execution_count": 3,
   "id": "7911daa2",
   "metadata": {
    "execution": {
     "iopub.execute_input": "2022-04-08T23:48:51.013100Z",
     "iopub.status.busy": "2022-04-08T23:48:51.012084Z",
     "iopub.status.idle": "2022-04-08T23:48:51.655170Z",
     "shell.execute_reply": "2022-04-08T23:48:51.655970Z",
     "shell.execute_reply.started": "2022-04-07T06:06:37.316526Z"
    },
    "papermill": {
     "duration": 0.653377,
     "end_time": "2022-04-08T23:48:51.656230",
     "exception": false,
     "start_time": "2022-04-08T23:48:51.002853",
     "status": "completed"
    },
    "tags": []
   },
   "outputs": [],
   "source": [
    "sizes = [256, 384, 512]\n",
    "\n",
    "train_filenames_pneumonia = os.listdir(\"../input/chest-xray-pneumonia/chest_xray/train/PNEUMONIA\")\n",
    "train_filenames_normal    = os.listdir(\"../input/chest-xray-pneumonia/chest_xray/train/NORMAL\")\n",
    "\n",
    "valid_filenames_pneumonia = os.listdir(\"../input/chest-xray-pneumonia/chest_xray/val/PNEUMONIA\")\n",
    "valid_filenames_normal    = os.listdir(\"../input/chest-xray-pneumonia/chest_xray/val/NORMAL\")\n",
    "\n",
    "test_filenames_pneumonia = os.listdir(\"../input/chest-xray-pneumonia/chest_xray/test/PNEUMONIA\")\n",
    "test_filenames_normal    = os.listdir(\"../input/chest-xray-pneumonia/chest_xray/test/NORMAL\")"
   ]
  },
  {
   "cell_type": "code",
   "execution_count": 4,
   "id": "e6591dc0",
   "metadata": {
    "execution": {
     "iopub.execute_input": "2022-04-08T23:48:51.672513Z",
     "iopub.status.busy": "2022-04-08T23:48:51.671441Z",
     "iopub.status.idle": "2022-04-08T23:56:54.446682Z",
     "shell.execute_reply": "2022-04-08T23:56:54.447377Z",
     "shell.execute_reply.started": "2022-04-07T06:14:32.673589Z"
    },
    "papermill": {
     "duration": 482.785093,
     "end_time": "2022-04-08T23:56:54.447669",
     "exception": false,
     "start_time": "2022-04-08T23:48:51.662576",
     "status": "completed"
    },
    "tags": []
   },
   "outputs": [
    {
     "name": "stdout",
     "output_type": "stream",
     "text": [
      "\n",
      "**************************************************\n",
      "\n",
      "Mean 256x256\n",
      "\n",
      "Red Channel Mean   256 : 0.11899\n",
      "Green Channel Mean 256 : 0.11923\n",
      "Blue Channel Mean  256 : 0.12643\n",
      "\n",
      "Standard Deviation 256x256\n",
      "\n",
      "Red Channel Std    256 : 0.17037\n",
      "Green Channel Std  256 : 0.16976\n",
      "Blue Channel Std   256 : 0.18014\n",
      "\n",
      "**************************************************\n",
      "\n",
      "Mean 384x384\n",
      "\n",
      "Red Channel Mean   384 : 0.11964\n",
      "Green Channel Mean 384 : 0.11739\n",
      "Blue Channel Mean  384 : 0.12032\n",
      "\n",
      "Standard Deviation 384x384\n",
      "\n",
      "Red Channel Std    384 : 0.17397\n",
      "Green Channel Std  384 : 0.17031\n",
      "Blue Channel Std   384 : 0.17257\n",
      "\n",
      "**************************************************\n",
      "\n",
      "Mean 512x512\n",
      "\n",
      "Red Channel Mean   512 : 0.11931\n",
      "Green Channel Mean 512 : 0.11869\n",
      "Blue Channel Mean  512 : 0.11732\n",
      "\n",
      "Standard Deviation 512x512\n",
      "\n",
      "Red Channel Std    512 : 0.17630\n",
      "Green Channel Std  512 : 0.17285\n",
      "Blue Channel Std   512 : 0.16997\n",
      "\n",
      "**************************************************\n",
      "\n"
     ]
    }
   ],
   "source": [
    "breaker()\n",
    "for size in sizes:\n",
    "\n",
    "    train_pneumonia_images = get_images(\"../input/chest-xray-pneumonia/chest_xray/train/PNEUMONIA\", \n",
    "                                        train_filenames_pneumonia, size)\n",
    "    train_normal_images    = get_images(\"../input/chest-xray-pneumonia/chest_xray/train/NORMAL\", \n",
    "                                        train_filenames_normal, size)\n",
    "\n",
    "    valid_pneumonia_images = get_images(\"../input/chest-xray-pneumonia/chest_xray/val/PNEUMONIA\", \n",
    "                                        valid_filenames_pneumonia, size)\n",
    "    valid_normal_images    = get_images(\"../input/chest-xray-pneumonia/chest_xray/val/NORMAL\", \n",
    "                                        valid_filenames_normal, size)\n",
    "\n",
    "    test_pneumonia_images = get_images(\"../input/chest-xray-pneumonia/chest_xray/test/PNEUMONIA\", \n",
    "                                        test_filenames_pneumonia, size)\n",
    "    test_normal_images    = get_images(\"../input/chest-xray-pneumonia/chest_xray/test/NORMAL\", \n",
    "                                        test_filenames_normal, size)\n",
    "    \n",
    "    train_pneumonia_images = np.concatenate((train_pneumonia_images, valid_pneumonia_images), axis=0)\n",
    "    train_normal_images    = np.concatenate((train_normal_images, valid_normal_images), axis=0)\n",
    "    \n",
    "    train_images = np.concatenate((train_pneumonia_images, train_normal_images), axis=0)\n",
    "    test_images  = np.concatenate((test_pneumonia_images, test_normal_images), axis=0)\n",
    "    \n",
    "    train_targets = np.concatenate((np.zeros(len(train_pneumonia_images, )), np.ones(len(train_normal_images, ))), axis=0)\n",
    "    test_targets  = np.concatenate((np.zeros(len(test_pneumonia_images, )), np.ones(len(test_normal_images, ))), axis=0)\n",
    "\n",
    "    save(train_images, test_images, train_targets, test_targets, size)\n",
    "    get_statistics(train_images, size)\n",
    "    breaker()"
   ]
  }
 ],
 "metadata": {
  "kernelspec": {
   "display_name": "Python 3",
   "language": "python",
   "name": "python3"
  },
  "language_info": {
   "codemirror_mode": {
    "name": "ipython",
    "version": 3
   },
   "file_extension": ".py",
   "mimetype": "text/x-python",
   "name": "python",
   "nbconvert_exporter": "python",
   "pygments_lexer": "ipython3",
   "version": "3.7.12"
  },
  "papermill": {
   "default_parameters": {},
   "duration": 494.993645,
   "end_time": "2022-04-08T23:56:55.663771",
   "environment_variables": {},
   "exception": null,
   "input_path": "__notebook__.ipynb",
   "output_path": "__notebook__.ipynb",
   "parameters": {},
   "start_time": "2022-04-08T23:48:40.670126",
   "version": "2.3.3"
  }
 },
 "nbformat": 4,
 "nbformat_minor": 5
}
