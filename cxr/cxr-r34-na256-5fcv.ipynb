{
 "cells": [
  {
   "cell_type": "markdown",
   "id": "484c5b90",
   "metadata": {
    "_cell_guid": "b1076dfc-b9ad-4769-8c92-a6c4dae69d19",
    "_uuid": "8f2839f25d086af736a60e9eeb907d3b93b6e0e5",
    "papermill": {
     "duration": 0.013871,
     "end_time": "2022-04-26T05:37:22.790452",
     "exception": false,
     "start_time": "2022-04-26T05:37:22.776581",
     "status": "completed"
    },
    "tags": []
   },
   "source": [
    "###### Library Imports"
   ]
  },
  {
   "cell_type": "code",
   "execution_count": 1,
   "id": "adb9e73b",
   "metadata": {
    "execution": {
     "iopub.execute_input": "2022-04-26T05:37:22.827840Z",
     "iopub.status.busy": "2022-04-26T05:37:22.827313Z",
     "iopub.status.idle": "2022-04-26T05:37:25.333305Z",
     "shell.execute_reply": "2022-04-26T05:37:25.332592Z",
     "shell.execute_reply.started": "2022-04-09T01:18:45.162484Z"
    },
    "papermill": {
     "duration": 2.529914,
     "end_time": "2022-04-26T05:37:25.333465",
     "exception": false,
     "start_time": "2022-04-26T05:37:22.803551",
     "status": "completed"
    },
    "tags": []
   },
   "outputs": [],
   "source": [
    "import os\n",
    "import re\n",
    "import torch\n",
    "import numpy as np\n",
    "import pandas as pd\n",
    "import matplotlib.pyplot as plt\n",
    "\n",
    "from time import time\n",
    "from torch import nn, optim\n",
    "from torch.utils.data import Dataset\n",
    "from torch.utils.data import DataLoader as DL\n",
    "from torchvision import models, transforms\n",
    "\n",
    "from sklearn.model_selection import KFold\n",
    "from sklearn.preprocessing import LabelEncoder\n",
    "from sklearn.metrics import accuracy_score, \\\n",
    "                            precision_recall_fscore_support, \\\n",
    "                            roc_auc_score, \\\n",
    "                            classification_report, \\\n",
    "                            confusion_matrix"
   ]
  },
  {
   "cell_type": "markdown",
   "id": "7e9155f2",
   "metadata": {
    "papermill": {
     "duration": 0.012551,
     "end_time": "2022-04-26T05:37:25.358981",
     "exception": false,
     "start_time": "2022-04-26T05:37:25.346430",
     "status": "completed"
    },
    "tags": []
   },
   "source": [
    "### **Utilities**"
   ]
  },
  {
   "cell_type": "code",
   "execution_count": 2,
   "id": "3cf18889",
   "metadata": {
    "execution": {
     "iopub.execute_input": "2022-04-26T05:37:25.398735Z",
     "iopub.status.busy": "2022-04-26T05:37:25.397487Z",
     "iopub.status.idle": "2022-04-26T05:37:25.400259Z",
     "shell.execute_reply": "2022-04-26T05:37:25.399850Z",
     "shell.execute_reply.started": "2022-04-09T01:18:47.512362Z"
    },
    "papermill": {
     "duration": 0.028803,
     "end_time": "2022-04-26T05:37:25.400365",
     "exception": false,
     "start_time": "2022-04-26T05:37:25.371562",
     "status": "completed"
    },
    "tags": []
   },
   "outputs": [],
   "source": [
    "SEED = 42\n",
    "SIZE = 256\n",
    "\n",
    "def breaker(num: int=50, char: str=\"*\") -> None:\n",
    "    print(\"\\n\" + num*char + \"\\n\")\n",
    "\n",
    "\n",
    "def show_graphs(L: list, A: list) -> None:\n",
    "    TL, VL, TA, VA = [], [], [], []\n",
    "    for i in range(len(L)):\n",
    "        TL.append(L[i][\"train\"])\n",
    "        VL.append(L[i][\"valid\"])\n",
    "        TA.append(A[i][\"train\"])\n",
    "        VA.append(A[i][\"valid\"])\n",
    "    x_Axis = np.arange(1, len(TL) + 1)\n",
    "    plt.figure(figsize=(8, 6))\n",
    "    plt.subplot(1, 2, 1)\n",
    "    plt.plot(x_Axis, TL, \"r\", label=\"Train\")\n",
    "    plt.plot(x_Axis, VL, \"b\", label=\"Valid\")\n",
    "    plt.legend()\n",
    "    plt.grid()\n",
    "    plt.title(\"Loss Graph\")\n",
    "    plt.subplot(1, 2, 2)\n",
    "    plt.plot(x_Axis, TA, \"r\", label=\"Train\")\n",
    "    plt.plot(x_Axis, VA, \"b\", label=\"Valid\")\n",
    "    plt.legend()\n",
    "    plt.grid()\n",
    "    plt.title(\"Accuracy Graph\")\n",
    "    plt.show()\n",
    "\n",
    "    \n",
    "def get_scores(y_true: np.ndarray, y_pred: np.ndarray) -> tuple:\n",
    "    accuracy = accuracy_score(y_pred, y_true)\n",
    "    try:\n",
    "        auc = roc_auc_score(y_pred, y_true)\n",
    "    except:\n",
    "        auc = 0\n",
    "    precision, recall, f_score, _ = precision_recall_fscore_support(y_pred, y_true)\n",
    "\n",
    "    return accuracy, auc, precision, recall, f_score\n",
    "\n",
    "\n",
    "def print_scores(accuracy: float, auc: float, precision: np.ndarray, recall: np.ndarray, f_score: np.ndarray) -> None:\n",
    "    print(f\"Accuracy  : {accuracy:.5f}\")\n",
    "    print(f\"ROC-AUC   : {auc:.5f}\")\n",
    "    print(f\"Precision : {precision}\")\n",
    "    print(f\"Recall    : {recall}\")\n",
    "    print(f\"F-Score   : {f_score}\")"
   ]
  },
  {
   "cell_type": "markdown",
   "id": "96bbb917",
   "metadata": {
    "papermill": {
     "duration": 0.012403,
     "end_time": "2022-04-26T05:37:25.425103",
     "exception": false,
     "start_time": "2022-04-26T05:37:25.412700",
     "status": "completed"
    },
    "tags": []
   },
   "source": [
    "### **Configuration**"
   ]
  },
  {
   "cell_type": "code",
   "execution_count": 3,
   "id": "71d5836f",
   "metadata": {
    "execution": {
     "iopub.execute_input": "2022-04-26T05:37:25.520595Z",
     "iopub.status.busy": "2022-04-26T05:37:25.519670Z",
     "iopub.status.idle": "2022-04-26T05:37:25.523705Z",
     "shell.execute_reply": "2022-04-26T05:37:25.523212Z",
     "shell.execute_reply.started": "2022-04-09T01:36:52.976989Z"
    },
    "papermill": {
     "duration": 0.085772,
     "end_time": "2022-04-26T05:37:25.523840",
     "exception": false,
     "start_time": "2022-04-26T05:37:25.438068",
     "status": "completed"
    },
    "tags": []
   },
   "outputs": [],
   "source": [
    "class CFG(object):\n",
    "    def __init__(self, \n",
    "                 seed: int = 42,\n",
    "                 n_splits: int = 5,\n",
    "                 batch_size: int = 16,\n",
    "                 epochs: int = 25,\n",
    "                 early_stopping: int = 5,\n",
    "                 lr: float = 1e-4,\n",
    "                 wd: float = 0.0,\n",
    "                 max_lr: float = 1e-3,\n",
    "                 pct_start: float = 0.2,\n",
    "                 steps_per_epoch: int = 100,\n",
    "                 div_factor: int = 1e3, \n",
    "                 final_div_factor: float = 1e3,\n",
    "                 ):\n",
    "        \n",
    "        self.seed = seed\n",
    "        self.n_splits = n_splits\n",
    "        self.batch_size = batch_size\n",
    "        self.epochs = epochs\n",
    "        self.early_stopping = early_stopping\n",
    "        self.lr = lr\n",
    "        self.wd = wd\n",
    "        self.max_lr = max_lr\n",
    "        self.pct_start = pct_start\n",
    "        self.steps_per_epoch = steps_per_epoch\n",
    "        self.div_factor = div_factor\n",
    "        self.final_div_factor = final_div_factor\n",
    "        self.device = torch.device(\"cuda\" if torch.cuda.is_available() else \"cpu\")\n",
    "        self.transform = transforms.Compose([transforms.ToTensor(),\n",
    "                                transforms.Normalize([0.48232, 0.48232, 0.48232],\n",
    "                                                     [0.23703, 0.23703, 0.23703]),\n",
    "                                ])\n",
    "        self.save_path = \"saves\"\n",
    "        if not os.path.exists(self.save_path): os.makedirs(self.save_path)\n",
    "    \n",
    "cfg = CFG(seed=SEED)"
   ]
  },
  {
   "cell_type": "markdown",
   "id": "5ee91aeb",
   "metadata": {
    "papermill": {
     "duration": 0.012401,
     "end_time": "2022-04-26T05:37:25.548900",
     "exception": false,
     "start_time": "2022-04-26T05:37:25.536499",
     "status": "completed"
    },
    "tags": []
   },
   "source": [
    "### **Dataset Template**"
   ]
  },
  {
   "cell_type": "code",
   "execution_count": 4,
   "id": "de5d20d4",
   "metadata": {
    "execution": {
     "iopub.execute_input": "2022-04-26T05:37:25.579856Z",
     "iopub.status.busy": "2022-04-26T05:37:25.579314Z",
     "iopub.status.idle": "2022-04-26T05:37:25.582803Z",
     "shell.execute_reply": "2022-04-26T05:37:25.582393Z",
     "shell.execute_reply.started": "2022-04-09T01:18:47.593512Z"
    },
    "papermill": {
     "duration": 0.021394,
     "end_time": "2022-04-26T05:37:25.582917",
     "exception": false,
     "start_time": "2022-04-26T05:37:25.561523",
     "status": "completed"
    },
    "tags": []
   },
   "outputs": [],
   "source": [
    "class DS(Dataset):\n",
    "    def __init__(self, images: np.ndarray, labels: np.ndarray = None, transform=None):\n",
    "        self.images = images\n",
    "        self.labels = labels\n",
    "        self.transform = transform\n",
    "    \n",
    "    def __len__(self):\n",
    "        return self.images.shape[0]\n",
    "    \n",
    "    def __getitem__(self, idx):\n",
    "        if self.labels is not None:\n",
    "            return self.transform(self.images[idx]), torch.FloatTensor(self.labels[idx])\n",
    "        else:\n",
    "            return self.transform(self.images[idx])"
   ]
  },
  {
   "cell_type": "markdown",
   "id": "cbb38d89",
   "metadata": {
    "papermill": {
     "duration": 0.012364,
     "end_time": "2022-04-26T05:37:25.607629",
     "exception": false,
     "start_time": "2022-04-26T05:37:25.595265",
     "status": "completed"
    },
    "tags": []
   },
   "source": [
    "### **Model**"
   ]
  },
  {
   "cell_type": "code",
   "execution_count": 5,
   "id": "d1f532e8",
   "metadata": {
    "execution": {
     "iopub.execute_input": "2022-04-26T05:37:25.637947Z",
     "iopub.status.busy": "2022-04-26T05:37:25.637266Z",
     "iopub.status.idle": "2022-04-26T05:37:25.640797Z",
     "shell.execute_reply": "2022-04-26T05:37:25.640373Z",
     "shell.execute_reply.started": "2022-04-09T01:18:47.606516Z"
    },
    "papermill": {
     "duration": 0.020346,
     "end_time": "2022-04-26T05:37:25.640905",
     "exception": false,
     "start_time": "2022-04-26T05:37:25.620559",
     "status": "completed"
    },
    "tags": []
   },
   "outputs": [],
   "source": [
    "class Model(nn.Module):\n",
    "    def __init__(self):\n",
    "        super(Model, self).__init__()\n",
    "\n",
    "        self.model = models.resnet34(pretrained=True, progress=True)\n",
    "        self.model.fc = nn.Linear(in_features=self.model.fc.in_features, out_features=1)\n",
    "\n",
    "    def forward(self, x):\n",
    "        return self.model(x)"
   ]
  },
  {
   "cell_type": "markdown",
   "id": "88ca5026",
   "metadata": {
    "papermill": {
     "duration": 0.012702,
     "end_time": "2022-04-26T05:37:25.665992",
     "exception": false,
     "start_time": "2022-04-26T05:37:25.653290",
     "status": "completed"
    },
    "tags": []
   },
   "source": [
    "### Fit and Predict Helper"
   ]
  },
  {
   "cell_type": "code",
   "execution_count": 6,
   "id": "4723db18",
   "metadata": {
    "execution": {
     "iopub.execute_input": "2022-04-26T05:37:25.700298Z",
     "iopub.status.busy": "2022-04-26T05:37:25.699459Z",
     "iopub.status.idle": "2022-04-26T05:37:25.717288Z",
     "shell.execute_reply": "2022-04-26T05:37:25.717714Z",
     "shell.execute_reply.started": "2022-04-09T01:18:47.615986Z"
    },
    "papermill": {
     "duration": 0.039071,
     "end_time": "2022-04-26T05:37:25.717877",
     "exception": false,
     "start_time": "2022-04-26T05:37:25.678806",
     "status": "completed"
    },
    "tags": []
   },
   "outputs": [],
   "source": [
    "def fit(model=None, \n",
    "        optimizer=None, \n",
    "        scheduler=None, \n",
    "        epochs=None, \n",
    "        early_stopping_patience=None, \n",
    "        dataloaders=None, \n",
    "        fold=None, \n",
    "        save_path=None, \n",
    "        device=None,\n",
    "        verbose=False) -> tuple:\n",
    "    \n",
    "    def get_accuracy(y_pred, y_true):\n",
    "        y_pred = torch.sigmoid(y_pred)\n",
    "        \n",
    "        y_pred[y_pred > 0.5] = 1\n",
    "        y_pred[y_pred <= 0.5] = 0\n",
    "        \n",
    "        return torch.count_nonzero(y_pred == y_true).item() / len(y_pred)\n",
    "    \n",
    "    if verbose:\n",
    "        breaker()\n",
    "        if fold: print(f\"Training Fold {fold}...\")\n",
    "        else: print(\"Training ...\")\n",
    "        breaker()\n",
    "        \n",
    "    bestLoss, bestAccs = {\"train\" : np.inf, \"valid\" : np.inf}, {\"train\" : 0.0, \"valid\" : 0.0}\n",
    "    Losses, LRs, Accuracies = [], [], []\n",
    "    if fold: name = f\"state_fold_{fold}.pt\"\n",
    "    else: name = \"state.pt\"\n",
    "\n",
    "    start_time = time()\n",
    "    for e in range(epochs):\n",
    "        e_st = time()\n",
    "        epochLoss, epochAccs = {\"train\" : 0.0, \"valid\" : 0.0}, {\"train\" : 0.0, \"valid\" : 0.0}\n",
    "\n",
    "        for phase in [\"train\", \"valid\"]:\n",
    "            if phase == \"train\":\n",
    "                model.train()\n",
    "            else:\n",
    "                model.eval()\n",
    "            \n",
    "            lossPerPass, accsPerPass = [], []\n",
    "\n",
    "            for X, y in dataloaders[phase]:\n",
    "                X, y = X.to(device), y.to(device)\n",
    "\n",
    "                optimizer.zero_grad()\n",
    "                with torch.set_grad_enabled(phase == \"train\"):\n",
    "                    output = model(X)\n",
    "                    loss = torch.nn.BCEWithLogitsLoss()(output, y)\n",
    "                    if phase == \"train\":\n",
    "                        loss.backward()\n",
    "                        optimizer.step()\n",
    "                        if scheduler: scheduler.step()\n",
    "                lossPerPass.append(loss.item())\n",
    "                accsPerPass.append(get_accuracy(output, y))\n",
    "            epochLoss[phase] = np.mean(np.array(lossPerPass))\n",
    "            epochAccs[phase] = np.mean(np.array(accsPerPass))\n",
    "        LRs.append(scheduler.get_last_lr())\n",
    "        Losses.append(epochLoss)\n",
    "        Accuracies.append(epochAccs)\n",
    "        \n",
    "        if early_stopping_patience:\n",
    "            if epochLoss[\"valid\"] < bestLoss[\"valid\"]:\n",
    "                bestLoss = epochLoss\n",
    "                BLE = e + 1\n",
    "                torch.save({\"model_state_dict\"     : model.state_dict(),\n",
    "                            \"optim_state_dict\"     : optimizer.state_dict()},\n",
    "                           os.path.join(save_path, name))\n",
    "                early_stopping_step = 0\n",
    "            else:\n",
    "                early_stopping_step += 1\n",
    "                if early_stopping_step > early_stopping_patience:\n",
    "                    print(\"\\nEarly Stopping at Epoch {}\".format(e + 1))\n",
    "                    break\n",
    "        \n",
    "        if epochLoss[\"valid\"] < bestLoss[\"valid\"]:\n",
    "            bestLoss = epochLoss\n",
    "            BLE = e + 1\n",
    "            torch.save({\"model_state_dict\"     : model.state_dict(),\n",
    "                        \"optim_state_dict\"     : optimizer.state_dict()},\n",
    "                        os.path.join(save_path, name))\n",
    "        \n",
    "        if epochAccs[\"valid\"] > bestAccs[\"valid\"]:\n",
    "            bestAccs = epochAccs\n",
    "            BAE = e + 1\n",
    "        \n",
    "        # if scheduler: scheduler.step(epochLoss[\"valid\"])\n",
    "        \n",
    "        if verbose:\n",
    "            print(\"Epoch: {} | Train Loss: {:.5f} | Valid Loss: {:.5f} | Train Accs: {:.5f} | Valid Accs: {:.5f} | Time: {:.2f} seconds\".format(e+1, \n",
    "                                                                       epochLoss[\"train\"], epochLoss[\"valid\"], \n",
    "                                                                       epochAccs[\"train\"], epochAccs[\"valid\"], \n",
    "                                                                       time()-e_st))\n",
    "\n",
    "    if verbose:                                           \n",
    "        breaker()\n",
    "        print(f\"Best Validation Loss at Epoch {BLE}\")\n",
    "        breaker()\n",
    "        print(f\"Best Validation Accs at Epoch {BAE}\")\n",
    "        breaker()\n",
    "        print(\"Time Taken [{} Epochs] : {:.2f} minutes\".format(len(Losses), (time()-start_time)/60))\n",
    "    \n",
    "    return Losses, Accuracies, LRs, BLE, BAE, name\n",
    "\n",
    "\n",
    "def predict(model=None, dataloader=None, path=None, device=None) -> np.ndarray:\n",
    "    model.load_state_dict(torch.load(path, map_location=device)[\"model_state_dict\"])\n",
    "    model.to(device)    \n",
    "    model.eval()\n",
    "    \n",
    "    y_pred = torch.zeros(1, 1).to(device)\n",
    "    \n",
    "    for X in dataloader:\n",
    "        X = X.to(device)\n",
    "        with torch.no_grad():\n",
    "            output = torch.sigmoid(model(X))\n",
    "        y_pred = torch.cat((y_pred, output.view(-1, 1)), dim=0)\n",
    "    \n",
    "    y_pred[y_pred > 0.5] = 1\n",
    "    y_pred[y_pred <= 0.5] = 0\n",
    "    \n",
    "    return y_pred[1:].detach().cpu().numpy()"
   ]
  },
  {
   "cell_type": "markdown",
   "id": "75819cd9",
   "metadata": {
    "papermill": {
     "duration": 0.012441,
     "end_time": "2022-04-26T05:37:25.742718",
     "exception": false,
     "start_time": "2022-04-26T05:37:25.730277",
     "status": "completed"
    },
    "tags": []
   },
   "source": [
    "### **Train**"
   ]
  },
  {
   "cell_type": "code",
   "execution_count": 7,
   "id": "91e6b89e",
   "metadata": {
    "execution": {
     "iopub.execute_input": "2022-04-26T05:37:25.771187Z",
     "iopub.status.busy": "2022-04-26T05:37:25.770570Z",
     "iopub.status.idle": "2022-04-26T05:37:35.159687Z",
     "shell.execute_reply": "2022-04-26T05:37:35.159221Z",
     "shell.execute_reply.started": "2022-04-09T01:18:47.643848Z"
    },
    "papermill": {
     "duration": 9.404699,
     "end_time": "2022-04-26T05:37:35.159848",
     "exception": false,
     "start_time": "2022-04-26T05:37:25.755149",
     "status": "completed"
    },
    "tags": []
   },
   "outputs": [],
   "source": [
    "images = np.load(f\"../input/cxr-images-{SIZE}/train_images_{SIZE}.npy\")\n",
    "labels = np.load(f\"../input/cxr-images-{SIZE}/train_targets_{SIZE}.npy\")"
   ]
  },
  {
   "cell_type": "code",
   "execution_count": 8,
   "id": "a4944b72",
   "metadata": {
    "execution": {
     "iopub.execute_input": "2022-04-26T05:37:35.200026Z",
     "iopub.status.busy": "2022-04-26T05:37:35.198967Z",
     "iopub.status.idle": "2022-04-26T06:08:54.413081Z",
     "shell.execute_reply": "2022-04-26T06:08:54.413518Z",
     "shell.execute_reply.started": "2022-04-09T01:36:59.635267Z"
    },
    "papermill": {
     "duration": 1879.241005,
     "end_time": "2022-04-26T06:08:54.413684",
     "exception": false,
     "start_time": "2022-04-26T05:37:35.172679",
     "status": "completed"
    },
    "tags": []
   },
   "outputs": [
    {
     "name": "stderr",
     "output_type": "stream",
     "text": [
      "Downloading: \"https://download.pytorch.org/models/resnet34-b627a593.pth\" to /root/.cache/torch/hub/checkpoints/resnet34-b627a593.pth\n"
     ]
    },
    {
     "data": {
      "application/vnd.jupyter.widget-view+json": {
       "model_id": "f54e282dad894abfab5503e456689a43",
       "version_major": 2,
       "version_minor": 0
      },
      "text/plain": [
       "  0%|          | 0.00/83.3M [00:00<?, ?B/s]"
      ]
     },
     "metadata": {},
     "output_type": "display_data"
    },
    {
     "name": "stdout",
     "output_type": "stream",
     "text": [
      "\n",
      "**************************************************\n",
      "\n",
      "Training Fold 1...\n",
      "\n",
      "**************************************************\n",
      "\n",
      "Epoch: 1 | Train Loss: 0.23533 | Valid Loss: 0.12791 | Train Accs: 0.91751 | Valid Accs: 0.94981 | Time: 38.87 seconds\n",
      "Epoch: 2 | Train Loss: 0.09348 | Valid Loss: 0.31754 | Train Accs: 0.96660 | Valid Accs: 0.85038 | Time: 32.68 seconds\n",
      "Epoch: 3 | Train Loss: 0.08159 | Valid Loss: 0.07442 | Train Accs: 0.97018 | Valid Accs: 0.97105 | Time: 32.60 seconds\n",
      "Epoch: 4 | Train Loss: 0.11146 | Valid Loss: 0.13294 | Train Accs: 0.95878 | Valid Accs: 0.95076 | Time: 31.87 seconds\n",
      "Epoch: 5 | Train Loss: 0.07086 | Valid Loss: 0.03670 | Train Accs: 0.97644 | Valid Accs: 0.98552 | Time: 32.48 seconds\n",
      "Epoch: 6 | Train Loss: 0.04717 | Valid Loss: 0.03679 | Train Accs: 0.98168 | Valid Accs: 0.98580 | Time: 32.01 seconds\n",
      "Epoch: 7 | Train Loss: 0.05329 | Valid Loss: 0.03733 | Train Accs: 0.98251 | Valid Accs: 0.98769 | Time: 32.01 seconds\n",
      "Epoch: 8 | Train Loss: 0.04654 | Valid Loss: 0.05440 | Train Accs: 0.98378 | Valid Accs: 0.98011 | Time: 32.05 seconds\n",
      "Epoch: 9 | Train Loss: 0.02143 | Valid Loss: 0.04175 | Train Accs: 0.99361 | Valid Accs: 0.98769 | Time: 32.00 seconds\n",
      "Epoch: 10 | Train Loss: 0.02112 | Valid Loss: 0.03937 | Train Accs: 0.99284 | Valid Accs: 0.98769 | Time: 31.94 seconds\n",
      "\n",
      "Early Stopping at Epoch 11\n",
      "\n",
      "**************************************************\n",
      "\n",
      "Best Validation Loss at Epoch 5\n",
      "\n",
      "**************************************************\n",
      "\n",
      "Best Validation Accs at Epoch 7\n",
      "\n",
      "**************************************************\n",
      "\n",
      "Time Taken [11 Epochs] : 6.01 minutes\n",
      "\n",
      "**************************************************\n",
      "\n"
     ]
    },
    {
     "data": {
      "image/png": "[encoded data removed]",
      "text/plain": [
       "<Figure size 576x432 with 2 Axes>"
      ]
     },
     "metadata": {
      "needs_background": "light"
     },
     "output_type": "display_data"
    },
    {
     "name": "stdout",
     "output_type": "stream",
     "text": [
      "\n",
      "**************************************************\n",
      "\n",
      "Training Fold 2...\n",
      "\n",
      "**************************************************\n",
      "\n",
      "Epoch: 1 | Train Loss: 0.26539 | Valid Loss: 0.05879 | Train Accs: 0.90554 | Valid Accs: 0.98201 | Time: 29.26 seconds\n",
      "Epoch: 2 | Train Loss: 0.05400 | Valid Loss: 0.04868 | Train Accs: 0.98011 | Valid Accs: 0.98368 | Time: 29.23 seconds\n",
      "Epoch: 3 | Train Loss: 0.06452 | Valid Loss: 0.59383 | Train Accs: 0.97514 | Valid Accs: 0.86080 | Time: 28.74 seconds\n",
      "Epoch: 4 | Train Loss: 0.05447 | Valid Loss: 0.76596 | Train Accs: 0.98248 | Valid Accs: 0.78489 | Time: 28.69 seconds\n",
      "Epoch: 5 | Train Loss: 0.02572 | Valid Loss: 0.06014 | Train Accs: 0.99077 | Valid Accs: 0.98011 | Time: 28.66 seconds\n",
      "Epoch: 6 | Train Loss: 0.02608 | Valid Loss: 0.32502 | Train Accs: 0.99242 | Valid Accs: 0.93655 | Time: 28.72 seconds\n",
      "Epoch: 7 | Train Loss: 0.02868 | Valid Loss: 1.17787 | Train Accs: 0.98950 | Valid Accs: 0.78030 | Time: 28.70 seconds\n",
      "\n",
      "Early Stopping at Epoch 8\n",
      "\n",
      "**************************************************\n",
      "\n",
      "Best Validation Loss at Epoch 2\n",
      "\n",
      "**************************************************\n",
      "\n",
      "Best Validation Accs at Epoch 2\n",
      "\n",
      "**************************************************\n",
      "\n",
      "Time Taken [8 Epochs] : 3.85 minutes\n",
      "\n",
      "**************************************************\n",
      "\n"
     ]
    },
    {
     "data": {
      "image/png": "[encoded data removed]",
      "text/plain": [
       "<Figure size 576x432 with 2 Axes>"
      ]
     },
     "metadata": {
      "needs_background": "light"
     },
     "output_type": "display_data"
    },
    {
     "name": "stdout",
     "output_type": "stream",
     "text": [
      "\n",
      "**************************************************\n",
      "\n",
      "Training Fold 3...\n",
      "\n",
      "**************************************************\n",
      "\n",
      "Epoch: 1 | Train Loss: 0.26650 | Valid Loss: 0.27948 | Train Accs: 0.90128 | Valid Accs: 0.91951 | Time: 29.08 seconds\n",
      "Epoch: 2 | Train Loss: 0.06301 | Valid Loss: 0.10758 | Train Accs: 0.97585 | Valid Accs: 0.95380 | Time: 29.25 seconds\n",
      "Epoch: 3 | Train Loss: 0.05024 | Valid Loss: 0.02477 | Train Accs: 0.97988 | Valid Accs: 0.99148 | Time: 29.24 seconds\n",
      "Epoch: 4 | Train Loss: 0.05926 | Valid Loss: 1.42177 | Train Accs: 0.98134 | Valid Accs: 0.67803 | Time: 28.86 seconds\n",
      "Epoch: 5 | Train Loss: 0.03852 | Valid Loss: 0.05605 | Train Accs: 0.98442 | Valid Accs: 0.98151 | Time: 28.72 seconds\n",
      "Epoch: 6 | Train Loss: 0.02841 | Valid Loss: 0.05700 | Train Accs: 0.98939 | Valid Accs: 0.97628 | Time: 28.88 seconds\n",
      "Epoch: 7 | Train Loss: 0.03323 | Valid Loss: 0.05087 | Train Accs: 0.98722 | Valid Accs: 0.97628 | Time: 28.69 seconds\n",
      "Epoch: 8 | Train Loss: 0.01520 | Valid Loss: 0.03887 | Train Accs: 0.99479 | Valid Accs: 0.98555 | Time: 28.68 seconds\n",
      "\n",
      "Early Stopping at Epoch 9\n",
      "\n",
      "**************************************************\n",
      "\n",
      "Best Validation Loss at Epoch 3\n",
      "\n",
      "**************************************************\n",
      "\n",
      "Best Validation Accs at Epoch 3\n",
      "\n",
      "**************************************************\n",
      "\n",
      "Time Taken [9 Epochs] : 4.34 minutes\n",
      "\n",
      "**************************************************\n",
      "\n"
     ]
    },
    {
     "data": {
      "image/png": "[encoded data removed]",
      "text/plain": [
       "<Figure size 576x432 with 2 Axes>"
      ]
     },
     "metadata": {
      "needs_background": "light"
     },
     "output_type": "display_data"
    },
    {
     "name": "stdout",
     "output_type": "stream",
     "text": [
      "\n",
      "**************************************************\n",
      "\n",
      "Training Fold 4...\n",
      "\n",
      "**************************************************\n",
      "\n",
      "Epoch: 1 | Train Loss: 0.26474 | Valid Loss: 0.12867 | Train Accs: 0.89796 | Valid Accs: 0.96212 | Time: 29.01 seconds\n",
      "Epoch: 2 | Train Loss: 0.06868 | Valid Loss: 0.31783 | Train Accs: 0.97656 | Valid Accs: 0.85875 | Time: 28.63 seconds\n",
      "Epoch: 3 | Train Loss: 0.05441 | Valid Loss: 0.53183 | Train Accs: 0.98177 | Valid Accs: 0.88756 | Time: 28.75 seconds\n",
      "Epoch: 4 | Train Loss: 0.04466 | Valid Loss: 0.65969 | Train Accs: 0.98305 | Valid Accs: 0.76206 | Time: 28.65 seconds\n",
      "Epoch: 5 | Train Loss: 0.06577 | Valid Loss: 0.05649 | Train Accs: 0.97661 | Valid Accs: 0.98246 | Time: 29.25 seconds\n",
      "Epoch: 6 | Train Loss: 0.03278 | Valid Loss: 0.02444 | Train Accs: 0.98840 | Valid Accs: 0.99028 | Time: 29.33 seconds\n",
      "Epoch: 7 | Train Loss: 0.02629 | Valid Loss: 0.07335 | Train Accs: 0.99006 | Valid Accs: 0.97149 | Time: 28.75 seconds\n",
      "Epoch: 8 | Train Loss: 0.01794 | Valid Loss: 0.02252 | Train Accs: 0.99626 | Valid Accs: 0.99148 | Time: 29.20 seconds\n",
      "Epoch: 9 | Train Loss: 0.01832 | Valid Loss: 0.02676 | Train Accs: 0.99361 | Valid Accs: 0.98744 | Time: 28.69 seconds\n",
      "Epoch: 10 | Train Loss: 0.01171 | Valid Loss: 0.02685 | Train Accs: 0.99598 | Valid Accs: 0.98933 | Time: 28.71 seconds\n",
      "Epoch: 11 | Train Loss: 0.00349 | Valid Loss: 0.02154 | Train Accs: 0.99905 | Valid Accs: 0.99337 | Time: 29.44 seconds\n",
      "Epoch: 12 | Train Loss: 0.00076 | Valid Loss: 0.01605 | Train Accs: 1.00000 | Valid Accs: 0.99432 | Time: 29.20 seconds\n",
      "Epoch: 13 | Train Loss: 0.00137 | Valid Loss: 0.02621 | Train Accs: 0.99976 | Valid Accs: 0.99148 | Time: 28.71 seconds\n",
      "Epoch: 14 | Train Loss: 0.00100 | Valid Loss: 0.01524 | Train Accs: 1.00000 | Valid Accs: 0.99432 | Time: 29.44 seconds\n",
      "Epoch: 15 | Train Loss: 0.00025 | Valid Loss: 0.02143 | Train Accs: 1.00000 | Valid Accs: 0.99242 | Time: 28.63 seconds\n",
      "Epoch: 16 | Train Loss: 0.00048 | Valid Loss: 0.01578 | Train Accs: 1.00000 | Valid Accs: 0.99432 | Time: 28.70 seconds\n",
      "Epoch: 17 | Train Loss: 0.00049 | Valid Loss: 0.01505 | Train Accs: 1.00000 | Valid Accs: 0.99527 | Time: 29.42 seconds\n",
      "Epoch: 18 | Train Loss: 0.00030 | Valid Loss: 0.01681 | Train Accs: 1.00000 | Valid Accs: 0.99337 | Time: 28.92 seconds\n",
      "Epoch: 19 | Train Loss: 0.00020 | Valid Loss: 0.01532 | Train Accs: 1.00000 | Valid Accs: 0.99527 | Time: 28.93 seconds\n",
      "Epoch: 20 | Train Loss: 0.00029 | Valid Loss: 0.01462 | Train Accs: 1.00000 | Valid Accs: 0.99432 | Time: 29.37 seconds\n",
      "\n",
      "**************************************************\n",
      "\n",
      "Best Validation Loss at Epoch 20\n",
      "\n",
      "**************************************************\n",
      "\n",
      "Best Validation Accs at Epoch 17\n",
      "\n",
      "**************************************************\n",
      "\n",
      "Time Taken [20 Epochs] : 9.66 minutes\n",
      "\n",
      "**************************************************\n",
      "\n"
     ]
    },
    {
     "data": {
      "image/png": "[encoded data removed]",
      "text/plain": [
       "<Figure size 576x432 with 2 Axes>"
      ]
     },
     "metadata": {
      "needs_background": "light"
     },
     "output_type": "display_data"
    },
    {
     "name": "stdout",
     "output_type": "stream",
     "text": [
      "\n",
      "**************************************************\n",
      "\n",
      "Training Fold 5...\n",
      "\n",
      "**************************************************\n",
      "\n",
      "Epoch: 1 | Train Loss: 0.26101 | Valid Loss: 0.09681 | Train Accs: 0.90294 | Valid Accs: 0.96970 | Time: 27.39 seconds\n",
      "Epoch: 2 | Train Loss: 0.06309 | Valid Loss: 0.13028 | Train Accs: 0.97869 | Valid Accs: 0.94214 | Time: 27.00 seconds\n",
      "Epoch: 3 | Train Loss: 0.06138 | Valid Loss: 0.06154 | Train Accs: 0.98016 | Valid Accs: 0.98081 | Time: 27.42 seconds\n",
      "Epoch: 4 | Train Loss: 0.05331 | Valid Loss: 0.35069 | Train Accs: 0.97874 | Valid Accs: 0.89015 | Time: 27.18 seconds\n",
      "Epoch: 5 | Train Loss: 0.04494 | Valid Loss: 0.05373 | Train Accs: 0.98366 | Valid Accs: 0.98011 | Time: 27.79 seconds\n",
      "Epoch: 6 | Train Loss: 0.02937 | Valid Loss: 0.07999 | Train Accs: 0.98987 | Valid Accs: 0.96870 | Time: 27.06 seconds\n",
      "Epoch: 7 | Train Loss: 0.04321 | Valid Loss: 0.09226 | Train Accs: 0.98509 | Valid Accs: 0.96591 | Time: 27.03 seconds\n",
      "Epoch: 8 | Train Loss: 0.02159 | Valid Loss: 0.03479 | Train Accs: 0.99313 | Valid Accs: 0.98674 | Time: 27.73 seconds\n",
      "Epoch: 9 | Train Loss: 0.00797 | Valid Loss: 0.02062 | Train Accs: 0.99787 | Valid Accs: 0.99053 | Time: 27.48 seconds\n",
      "Epoch: 10 | Train Loss: 0.00559 | Valid Loss: 0.01966 | Train Accs: 0.99858 | Valid Accs: 0.99053 | Time: 27.77 seconds\n",
      "Epoch: 11 | Train Loss: 0.00064 | Valid Loss: 0.02576 | Train Accs: 1.00000 | Valid Accs: 0.99053 | Time: 27.00 seconds\n",
      "Epoch: 12 | Train Loss: 0.00045 | Valid Loss: 0.01971 | Train Accs: 1.00000 | Valid Accs: 0.99148 | Time: 26.95 seconds\n",
      "Epoch: 13 | Train Loss: 0.00064 | Valid Loss: 0.02597 | Train Accs: 1.00000 | Valid Accs: 0.99148 | Time: 26.87 seconds\n",
      "Epoch: 14 | Train Loss: 0.00050 | Valid Loss: 0.02034 | Train Accs: 1.00000 | Valid Accs: 0.99242 | Time: 26.91 seconds\n",
      "Epoch: 15 | Train Loss: 0.00018 | Valid Loss: 0.02683 | Train Accs: 1.00000 | Valid Accs: 0.99148 | Time: 26.94 seconds\n",
      "\n",
      "Early Stopping at Epoch 16\n",
      "\n",
      "**************************************************\n",
      "\n",
      "Best Validation Loss at Epoch 10\n",
      "\n",
      "**************************************************\n",
      "\n",
      "Best Validation Accs at Epoch 14\n",
      "\n",
      "**************************************************\n",
      "\n",
      "Time Taken [16 Epochs] : 7.26 minutes\n",
      "\n",
      "**************************************************\n",
      "\n"
     ]
    },
    {
     "data": {
      "image/png": "[encoded data removed]",
      "text/plain": [
       "<Figure size 576x432 with 2 Axes>"
      ]
     },
     "metadata": {
      "needs_background": "light"
     },
     "output_type": "display_data"
    }
   ],
   "source": [
    "fold = 1\n",
    "BLEs, BAEs = [], []\n",
    "\n",
    "for tr_idx, va_idx in KFold(n_splits=cfg.n_splits, random_state=SEED, shuffle=True).split(images):\n",
    "    tr_images, va_images, tr_labels, va_labels = images[tr_idx], images[va_idx], labels[tr_idx], labels[va_idx]\n",
    "\n",
    "    tr_data_setup = DS(tr_images, tr_labels.reshape(-1, 1), cfg.transform)\n",
    "    va_data_setup = DS(va_images, va_labels.reshape(-1, 1), cfg.transform)\n",
    "\n",
    "    dataloaders = {\n",
    "        \"train\" : DL(tr_data_setup, batch_size=cfg.batch_size, shuffle=True, generator=torch.manual_seed(cfg.seed)),\n",
    "        \"valid\" : DL(va_data_setup, batch_size=cfg.batch_size, shuffle=False),\n",
    "    }\n",
    "\n",
    "    cfg = CFG(epochs=20, lr=1e-3, wd=0.0, batch_size=48, steps_per_epoch=len(dataloaders[\"train\"]))\n",
    "\n",
    "    torch.manual_seed(cfg.seed)\n",
    "    model = Model().to(cfg.device)\n",
    "    optimizer = optim.Adam([p for p in model.parameters() if p.requires_grad], lr=cfg.lr, weight_decay=cfg.wd)\n",
    "    scheduler = optim.lr_scheduler.OneCycleLR(optimizer=optimizer, \n",
    "                                              max_lr=cfg.max_lr, \n",
    "                                              epochs=cfg.epochs, \n",
    "                                              steps_per_epoch=cfg.steps_per_epoch,\n",
    "                                              pct_start=cfg.pct_start, \n",
    "                                              div_factor=cfg.div_factor, \n",
    "                                              final_div_factor=cfg.final_div_factor)\n",
    "    # scheduler = None\n",
    "\n",
    "    L, A, LRs, BLE, BAE, name = fit(model=model, \n",
    "                                    optimizer=optimizer, \n",
    "                                    scheduler=scheduler, \n",
    "                                    epochs=cfg.epochs, \n",
    "                                    early_stopping_patience=cfg.early_stopping, \n",
    "                                    dataloaders=dataloaders, \n",
    "                                    device=cfg.device,\n",
    "                                    save_path=cfg.save_path,\n",
    "                                    fold = fold,\n",
    "                                    verbose=True)\n",
    "\n",
    "    breaker()\n",
    "    show_graphs(L, A)\n",
    "    \n",
    "    BLEs.append(BLE)\n",
    "    BAEs.append(BAE)\n",
    "\n",
    "    fold += 1"
   ]
  },
  {
   "cell_type": "markdown",
   "id": "f9a03e2e",
   "metadata": {
    "papermill": {
     "duration": 0.04177,
     "end_time": "2022-04-26T06:08:54.498345",
     "exception": false,
     "start_time": "2022-04-26T06:08:54.456575",
     "status": "completed"
    },
    "tags": []
   },
   "source": [
    "### **Predictions**"
   ]
  },
  {
   "cell_type": "code",
   "execution_count": 9,
   "id": "f99c8288",
   "metadata": {
    "execution": {
     "iopub.execute_input": "2022-04-26T06:08:54.590634Z",
     "iopub.status.busy": "2022-04-26T06:08:54.589930Z",
     "iopub.status.idle": "2022-04-26T06:08:58.159345Z",
     "shell.execute_reply": "2022-04-26T06:08:58.158582Z",
     "shell.execute_reply.started": "2022-04-09T01:41:41.028783Z"
    },
    "papermill": {
     "duration": 3.618613,
     "end_time": "2022-04-26T06:08:58.159478",
     "exception": false,
     "start_time": "2022-04-26T06:08:54.540865",
     "status": "completed"
    },
    "tags": []
   },
   "outputs": [
    {
     "name": "stdout",
     "output_type": "stream",
     "text": [
      "\n",
      "**************************************************\n",
      "\n",
      "Best Fold : 2\n",
      "\n",
      "**************************************************\n",
      "\n",
      "Accuracy  : 0.78846\n",
      "ROC-AUC   : 0.86923\n",
      "Precision : [0.44017094 0.9974359 ]\n",
      "Recall    : [0.99038462 0.74807692]\n",
      "F-Score   : [0.60946746 0.85494505]\n",
      "\n",
      "**************************************************\n",
      "\n",
      "              precision    recall  f1-score   support\n",
      "\n",
      "         0.0       0.99      0.44      0.61       234\n",
      "         1.0       0.75      1.00      0.85       390\n",
      "\n",
      "    accuracy                           0.79       624\n",
      "   macro avg       0.87      0.72      0.73       624\n",
      "weighted avg       0.84      0.79      0.76       624\n",
      "\n",
      "\n",
      "**************************************************\n",
      "\n",
      "[[103 131]\n",
      " [  1 389]]\n",
      "\n",
      "**************************************************\n",
      "\n"
     ]
    }
   ],
   "source": [
    "test_images = np.load(f\"../input/cxr-images-{SIZE}/test_images_{SIZE}.npy\")\n",
    "test_labels = np.load(f\"../input/cxr-images-{SIZE}/test_targets_{SIZE}.npy\")\n",
    "\n",
    "ts_data_setup = DS(test_images, None, cfg.transform)\n",
    "ts_data = DL(ts_data_setup, batch_size=cfg.batch_size, shuffle=False)\n",
    "\n",
    "best_fold = BLEs.index(min(BLEs)) + 1\n",
    "model_path = f\"saves/state_fold_{best_fold}.pt\"\n",
    "y_pred = predict(model=Model().to(cfg.device), dataloader=ts_data, path=model_path, device=cfg.device)\n",
    "\n",
    "accuracy, auc, precision, recall, f_score = get_scores(test_labels, y_pred)\n",
    "\n",
    "breaker()\n",
    "print(f\"Best Fold : {best_fold}\")\n",
    "breaker()\n",
    "print_scores(accuracy, auc, precision, recall, f_score)\n",
    "breaker()\n",
    "print(classification_report(test_labels, y_pred))\n",
    "breaker()\n",
    "print(confusion_matrix(test_labels, y_pred))\n",
    "breaker()"
   ]
  }
 ],
 "metadata": {
  "kernelspec": {
   "display_name": "Python 3",
   "language": "python",
   "name": "python3"
  },
  "language_info": {
   "codemirror_mode": {
    "name": "ipython",
    "version": 3
   },
   "file_extension": ".py",
   "mimetype": "text/x-python",
   "name": "python",
   "nbconvert_exporter": "python",
   "pygments_lexer": "ipython3",
   "version": "3.7.12"
  },
  "papermill": {
   "default_parameters": {},
   "duration": 1906.087587,
   "end_time": "2022-04-26T06:09:00.805362",
   "environment_variables": {},
   "exception": null,
   "input_path": "__notebook__.ipynb",
   "output_path": "__notebook__.ipynb",
   "parameters": {},
   "start_time": "2022-04-26T05:37:14.717775",
   "version": "2.3.3"
  },
  "widgets": {
   "application/vnd.jupyter.widget-state+json": {
    "state": {
     "012327f3e08544acae3299549dd44e0e": {
      "model_module": "@jupyter-widgets/controls",
      "model_module_version": "1.5.0",
      "model_name": "HTMLModel",
      "state": {
       "_dom_classes": [],
       "_model_module": "@jupyter-widgets/controls",
       "_model_module_version": "1.5.0",
       "_model_name": "HTMLModel",
       "_view_count": null,
       "_view_module": "@jupyter-widgets/controls",
       "_view_module_version": "1.5.0",
       "_view_name": "HTMLView",
       "description": "",
       "description_tooltip": null,
       "layout": "IPY_MODEL_03246566ed254953ad49b9307ac666b1",
       "placeholder": "​",
       "style": "IPY_MODEL_2769ea72586a412d8befdb8556a52e80",
       "value": "100%"
      }
     },
     "03246566ed254953ad49b9307ac666b1": {
      "model_module": "@jupyter-widgets/base",
      "model_module_version": "1.2.0",
      "model_name": "LayoutModel",
      "state": {
       "_model_module": "@jupyter-widgets/base",
       "_model_module_version": "1.2.0",
       "_model_name": "LayoutModel",
       "_view_count": null,
       "_view_module": "@jupyter-widgets/base",
       "_view_module_version": "1.2.0",
       "_view_name": "LayoutView",
       "align_content": null,
       "align_items": null,
       "align_self": null,
       "border": null,
       "bottom": null,
       "display": null,
       "flex": null,
       "flex_flow": null,
       "grid_area": null,
       "grid_auto_columns": null,
       "grid_auto_flow": null,
       "grid_auto_rows": null,
       "grid_column": null,
       "grid_gap": null,
       "grid_row": null,
       "grid_template_areas": null,
       "grid_template_columns": null,
       "grid_template_rows": null,
       "height": null,
       "justify_content": null,
       "justify_items": null,
       "left": null,
       "margin": null,
       "max_height": null,
       "max_width": null,
       "min_height": null,
       "min_width": null,
       "object_fit": null,
       "object_position": null,
       "order": null,
       "overflow": null,
       "overflow_x": null,
       "overflow_y": null,
       "padding": null,
       "right": null,
       "top": null,
       "visibility": null,
       "width": null
      }
     },
     "2769ea72586a412d8befdb8556a52e80": {
      "model_module": "@jupyter-widgets/controls",
      "model_module_version": "1.5.0",
      "model_name": "DescriptionStyleModel",
      "state": {
       "_model_module": "@jupyter-widgets/controls",
       "_model_module_version": "1.5.0",
       "_model_name": "DescriptionStyleModel",
       "_view_count": null,
       "_view_module": "@jupyter-widgets/base",
       "_view_module_version": "1.2.0",
       "_view_name": "StyleView",
       "description_width": ""
      }
     },
     "3f7608bd46ce430eb332dfc963c0e6c9": {
      "model_module": "@jupyter-widgets/base",
      "model_module_version": "1.2.0",
      "model_name": "LayoutModel",
      "state": {
       "_model_module": "@jupyter-widgets/base",
       "_model_module_version": "1.2.0",
       "_model_name": "LayoutModel",
       "_view_count": null,
       "_view_module": "@jupyter-widgets/base",
       "_view_module_version": "1.2.0",
       "_view_name": "LayoutView",
       "align_content": null,
       "align_items": null,
       "align_self": null,
       "border": null,
       "bottom": null,
       "display": null,
       "flex": null,
       "flex_flow": null,
       "grid_area": null,
       "grid_auto_columns": null,
       "grid_auto_flow": null,
       "grid_auto_rows": null,
       "grid_column": null,
       "grid_gap": null,
       "grid_row": null,
       "grid_template_areas": null,
       "grid_template_columns": null,
       "grid_template_rows": null,
       "height": null,
       "justify_content": null,
       "justify_items": null,
       "left": null,
       "margin": null,
       "max_height": null,
       "max_width": null,
       "min_height": null,
       "min_width": null,
       "object_fit": null,
       "object_position": null,
       "order": null,
       "overflow": null,
       "overflow_x": null,
       "overflow_y": null,
       "padding": null,
       "right": null,
       "top": null,
       "visibility": null,
       "width": null
      }
     },
     "9081995ce76642d8aca67550576d6f97": {
      "model_module": "@jupyter-widgets/controls",
      "model_module_version": "1.5.0",
      "model_name": "HTMLModel",
      "state": {
       "_dom_classes": [],
       "_model_module": "@jupyter-widgets/controls",
       "_model_module_version": "1.5.0",
       "_model_name": "HTMLModel",
       "_view_count": null,
       "_view_module": "@jupyter-widgets/controls",
       "_view_module_version": "1.5.0",
       "_view_name": "HTMLView",
       "description": "",
       "description_tooltip": null,
       "layout": "IPY_MODEL_d260804b17774072b51ab26af4d76d95",
       "placeholder": "​",
       "style": "IPY_MODEL_c553698bfac343b1b57314ad7183a5de",
       "value": " 83.3M/83.3M [00:02&lt;00:00, 41.6MB/s]"
      }
     },
     "9dc66da94f3b449bbde6f68d5ceb6fe9": {
      "model_module": "@jupyter-widgets/controls",
      "model_module_version": "1.5.0",
      "model_name": "ProgressStyleModel",
      "state": {
       "_model_module": "@jupyter-widgets/controls",
       "_model_module_version": "1.5.0",
       "_model_name": "ProgressStyleModel",
       "_view_count": null,
       "_view_module": "@jupyter-widgets/base",
       "_view_module_version": "1.2.0",
       "_view_name": "StyleView",
       "bar_color": null,
       "description_width": ""
      }
     },
     "a6b72ee90a63492ab7e8852ddecc740e": {
      "model_module": "@jupyter-widgets/controls",
      "model_module_version": "1.5.0",
      "model_name": "FloatProgressModel",
      "state": {
       "_dom_classes": [],
       "_model_module": "@jupyter-widgets/controls",
       "_model_module_version": "1.5.0",
       "_model_name": "FloatProgressModel",
       "_view_count": null,
       "_view_module": "@jupyter-widgets/controls",
       "_view_module_version": "1.5.0",
       "_view_name": "ProgressView",
       "bar_style": "success",
       "description": "",
       "description_tooltip": null,
       "layout": "IPY_MODEL_3f7608bd46ce430eb332dfc963c0e6c9",
       "max": 87319819.0,
       "min": 0.0,
       "orientation": "horizontal",
       "style": "IPY_MODEL_9dc66da94f3b449bbde6f68d5ceb6fe9",
       "value": 87319819.0
      }
     },
     "c553698bfac343b1b57314ad7183a5de": {
      "model_module": "@jupyter-widgets/controls",
      "model_module_version": "1.5.0",
      "model_name": "DescriptionStyleModel",
      "state": {
       "_model_module": "@jupyter-widgets/controls",
       "_model_module_version": "1.5.0",
       "_model_name": "DescriptionStyleModel",
       "_view_count": null,
       "_view_module": "@jupyter-widgets/base",
       "_view_module_version": "1.2.0",
       "_view_name": "StyleView",
       "description_width": ""
      }
     },
     "d260804b17774072b51ab26af4d76d95": {
      "model_module": "@jupyter-widgets/base",
      "model_module_version": "1.2.0",
      "model_name": "LayoutModel",
      "state": {
       "_model_module": "@jupyter-widgets/base",
       "_model_module_version": "1.2.0",
       "_model_name": "LayoutModel",
       "_view_count": null,
       "_view_module": "@jupyter-widgets/base",
       "_view_module_version": "1.2.0",
       "_view_name": "LayoutView",
       "align_content": null,
       "align_items": null,
       "align_self": null,
       "border": null,
       "bottom": null,
       "display": null,
       "flex": null,
       "flex_flow": null,
       "grid_area": null,
       "grid_auto_columns": null,
       "grid_auto_flow": null,
       "grid_auto_rows": null,
       "grid_column": null,
       "grid_gap": null,
       "grid_row": null,
       "grid_template_areas": null,
       "grid_template_columns": null,
       "grid_template_rows": null,
       "height": null,
       "justify_content": null,
       "justify_items": null,
       "left": null,
       "margin": null,
       "max_height": null,
       "max_width": null,
       "min_height": null,
       "min_width": null,
       "object_fit": null,
       "object_position": null,
       "order": null,
       "overflow": null,
       "overflow_x": null,
       "overflow_y": null,
       "padding": null,
       "right": null,
       "top": null,
       "visibility": null,
       "width": null
      }
     },
     "dc95279236a643598156f4701cb199cb": {
      "model_module": "@jupyter-widgets/base",
      "model_module_version": "1.2.0",
      "model_name": "LayoutModel",
      "state": {
       "_model_module": "@jupyter-widgets/base",
       "_model_module_version": "1.2.0",
       "_model_name": "LayoutModel",
       "_view_count": null,
       "_view_module": "@jupyter-widgets/base",
       "_view_module_version": "1.2.0",
       "_view_name": "LayoutView",
       "align_content": null,
       "align_items": null,
       "align_self": null,
       "border": null,
       "bottom": null,
       "display": null,
       "flex": null,
       "flex_flow": null,
       "grid_area": null,
       "grid_auto_columns": null,
       "grid_auto_flow": null,
       "grid_auto_rows": null,
       "grid_column": null,
       "grid_gap": null,
       "grid_row": null,
       "grid_template_areas": null,
       "grid_template_columns": null,
       "grid_template_rows": null,
       "height": null,
       "justify_content": null,
       "justify_items": null,
       "left": null,
       "margin": null,
       "max_height": null,
       "max_width": null,
       "min_height": null,
       "min_width": null,
       "object_fit": null,
       "object_position": null,
       "order": null,
       "overflow": null,
       "overflow_x": null,
       "overflow_y": null,
       "padding": null,
       "right": null,
       "top": null,
       "visibility": null,
       "width": null
      }
     },
     "f54e282dad894abfab5503e456689a43": {
      "model_module": "@jupyter-widgets/controls",
      "model_module_version": "1.5.0",
      "model_name": "HBoxModel",
      "state": {
       "_dom_classes": [],
       "_model_module": "@jupyter-widgets/controls",
       "_model_module_version": "1.5.0",
       "_model_name": "HBoxModel",
       "_view_count": null,
       "_view_module": "@jupyter-widgets/controls",
       "_view_module_version": "1.5.0",
       "_view_name": "HBoxView",
       "box_style": "",
       "children": [
        "IPY_MODEL_012327f3e08544acae3299549dd44e0e",
        "IPY_MODEL_a6b72ee90a63492ab7e8852ddecc740e",
        "IPY_MODEL_9081995ce76642d8aca67550576d6f97"
       ],
       "layout": "IPY_MODEL_dc95279236a643598156f4701cb199cb"
      }
     }
    },
    "version_major": 2,
    "version_minor": 0
   }
  }
 },
 "nbformat": 4,
 "nbformat_minor": 5
}
