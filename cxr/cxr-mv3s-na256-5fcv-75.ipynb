{
 "cells": [
  {
   "cell_type": "markdown",
   "id": "b42f4c49",
   "metadata": {
    "_cell_guid": "b1076dfc-b9ad-4769-8c92-a6c4dae69d19",
    "_uuid": "8f2839f25d086af736a60e9eeb907d3b93b6e0e5",
    "papermill": {
     "duration": 0.013747,
     "end_time": "2022-04-17T09:04:32.465538",
     "exception": false,
     "start_time": "2022-04-17T09:04:32.451791",
     "status": "completed"
    },
    "tags": []
   },
   "source": [
    "### Library Imports"
   ]
  },
  {
   "cell_type": "code",
   "execution_count": 1,
   "id": "734f8700",
   "metadata": {
    "execution": {
     "iopub.execute_input": "2022-04-17T09:04:32.497165Z",
     "iopub.status.busy": "2022-04-17T09:04:32.495641Z",
     "iopub.status.idle": "2022-04-17T09:04:34.753127Z",
     "shell.execute_reply": "2022-04-17T09:04:34.752348Z",
     "shell.execute_reply.started": "2022-04-09T01:18:45.162484Z"
    },
    "papermill": {
     "duration": 2.274638,
     "end_time": "2022-04-17T09:04:34.753278",
     "exception": false,
     "start_time": "2022-04-17T09:04:32.478640",
     "status": "completed"
    },
    "tags": []
   },
   "outputs": [],
   "source": [
    "import os\n",
    "import re\n",
    "import torch\n",
    "import numpy as np\n",
    "import pandas as pd\n",
    "import matplotlib.pyplot as plt\n",
    "\n",
    "from time import time\n",
    "from torch import nn, optim\n",
    "from torch.utils.data import Dataset\n",
    "from torch.utils.data import DataLoader as DL\n",
    "from torchvision import models, transforms\n",
    "\n",
    "from sklearn.model_selection import KFold\n",
    "from sklearn.preprocessing import LabelEncoder\n",
    "from sklearn.metrics import accuracy_score, \\\n",
    "                            precision_recall_fscore_support, \\\n",
    "                            roc_auc_score, \\\n",
    "                            classification_report, \\\n",
    "                            confusion_matrix"
   ]
  },
  {
   "cell_type": "markdown",
   "id": "2c9e6f86",
   "metadata": {
    "papermill": {
     "duration": 0.012458,
     "end_time": "2022-04-17T09:04:34.778631",
     "exception": false,
     "start_time": "2022-04-17T09:04:34.766173",
     "status": "completed"
    },
    "tags": []
   },
   "source": [
    "### **Utilities**"
   ]
  },
  {
   "cell_type": "code",
   "execution_count": 2,
   "id": "a48e35b9",
   "metadata": {
    "execution": {
     "iopub.execute_input": "2022-04-17T09:04:34.817989Z",
     "iopub.status.busy": "2022-04-17T09:04:34.807235Z",
     "iopub.status.idle": "2022-04-17T09:04:34.820192Z",
     "shell.execute_reply": "2022-04-17T09:04:34.819784Z",
     "shell.execute_reply.started": "2022-04-09T01:18:47.512362Z"
    },
    "papermill": {
     "duration": 0.029137,
     "end_time": "2022-04-17T09:04:34.820301",
     "exception": false,
     "start_time": "2022-04-17T09:04:34.791164",
     "status": "completed"
    },
    "tags": []
   },
   "outputs": [],
   "source": [
    "SEED = 42\n",
    "SIZE = 256\n",
    "\n",
    "def breaker(num: int=50, char: str=\"*\") -> None:\n",
    "    print(\"\\n\" + num*char + \"\\n\")\n",
    "\n",
    "\n",
    "def show_graphs(L: list, A: list) -> None:\n",
    "    TL, VL, TA, VA = [], [], [], []\n",
    "    for i in range(len(L)):\n",
    "        TL.append(L[i][\"train\"])\n",
    "        VL.append(L[i][\"valid\"])\n",
    "        TA.append(A[i][\"train\"])\n",
    "        VA.append(A[i][\"valid\"])\n",
    "    x_Axis = np.arange(1, len(TL) + 1)\n",
    "    plt.figure(figsize=(8, 6))\n",
    "    plt.subplot(1, 2, 1)\n",
    "    plt.plot(x_Axis, TL, \"r\", label=\"Train\")\n",
    "    plt.plot(x_Axis, VL, \"b\", label=\"Valid\")\n",
    "    plt.legend()\n",
    "    plt.grid()\n",
    "    plt.title(\"Loss Graph\")\n",
    "    plt.subplot(1, 2, 2)\n",
    "    plt.plot(x_Axis, TA, \"r\", label=\"Train\")\n",
    "    plt.plot(x_Axis, VA, \"b\", label=\"Valid\")\n",
    "    plt.legend()\n",
    "    plt.grid()\n",
    "    plt.title(\"Accuracy Graph\")\n",
    "    plt.show()\n",
    "\n",
    "    \n",
    "def get_scores(y_true: np.ndarray, y_pred: np.ndarray) -> tuple:\n",
    "    accuracy = accuracy_score(y_pred, y_true)\n",
    "    try:\n",
    "        auc = roc_auc_score(y_pred, y_true)\n",
    "    except:\n",
    "        auc = 0\n",
    "    precision, recall, f_score, _ = precision_recall_fscore_support(y_pred, y_true)\n",
    "\n",
    "    return accuracy, auc, precision, recall, f_score\n",
    "\n",
    "\n",
    "def print_scores(accuracy: float, auc: float, precision: np.ndarray, recall: np.ndarray, f_score: np.ndarray) -> None:\n",
    "    print(f\"Accuracy  : {accuracy:.5f}\")\n",
    "    print(f\"ROC-AUC   : {auc:.5f}\")\n",
    "    print(f\"Precision : {precision}\")\n",
    "    print(f\"Recall    : {recall}\")\n",
    "    print(f\"F-Score   : {f_score}\")"
   ]
  },
  {
   "cell_type": "markdown",
   "id": "e34a2401",
   "metadata": {
    "papermill": {
     "duration": 0.012204,
     "end_time": "2022-04-17T09:04:34.845072",
     "exception": false,
     "start_time": "2022-04-17T09:04:34.832868",
     "status": "completed"
    },
    "tags": []
   },
   "source": [
    "### **Configuration**"
   ]
  },
  {
   "cell_type": "code",
   "execution_count": 3,
   "id": "6fa3b68c",
   "metadata": {
    "execution": {
     "iopub.execute_input": "2022-04-17T09:04:34.938885Z",
     "iopub.status.busy": "2022-04-17T09:04:34.937962Z",
     "iopub.status.idle": "2022-04-17T09:04:34.940610Z",
     "shell.execute_reply": "2022-04-17T09:04:34.940988Z",
     "shell.execute_reply.started": "2022-04-09T01:36:52.976989Z"
    },
    "papermill": {
     "duration": 0.08364,
     "end_time": "2022-04-17T09:04:34.941129",
     "exception": false,
     "start_time": "2022-04-17T09:04:34.857489",
     "status": "completed"
    },
    "tags": []
   },
   "outputs": [],
   "source": [
    "class CFG(object):\n",
    "    def __init__(self, \n",
    "                 seed: int = 42,\n",
    "                 n_splits: int = 5,\n",
    "                 batch_size: int = 16,\n",
    "                 epochs: int = 25,\n",
    "                 early_stopping: int = 5,\n",
    "                 lr: float = 1e-4,\n",
    "                 wd: float = 0.0,\n",
    "                 max_lr: float = 1e-3,\n",
    "                 pct_start: float = 0.2,\n",
    "                 steps_per_epoch: int = 100,\n",
    "                 div_factor: int = 1e3, \n",
    "                 final_div_factor: float = 1e3,\n",
    "                 ):\n",
    "        \n",
    "        self.seed = seed\n",
    "        self.n_splits = n_splits\n",
    "        self.batch_size = batch_size\n",
    "        self.epochs = epochs\n",
    "        self.early_stopping = early_stopping\n",
    "        self.lr = lr\n",
    "        self.wd = wd\n",
    "        self.max_lr = max_lr\n",
    "        self.pct_start = pct_start\n",
    "        self.steps_per_epoch = steps_per_epoch\n",
    "        self.div_factor = div_factor\n",
    "        self.final_div_factor = final_div_factor\n",
    "        self.device = torch.device(\"cuda\" if torch.cuda.is_available() else \"cpu\")\n",
    "        self.transform = transforms.Compose([transforms.ToTensor(),\n",
    "                                transforms.Normalize([0.11899, 0.11923, 0.12643],\n",
    "                                                     [0.17037, 0.16976, 0.18014]),\n",
    "                                ])\n",
    "        self.save_path = \"saves\"\n",
    "        if not os.path.exists(self.save_path): os.makedirs(self.save_path)\n",
    "    \n",
    "cfg = CFG(seed=SEED)"
   ]
  },
  {
   "cell_type": "markdown",
   "id": "2c127d19",
   "metadata": {
    "papermill": {
     "duration": 0.012469,
     "end_time": "2022-04-17T09:04:34.966243",
     "exception": false,
     "start_time": "2022-04-17T09:04:34.953774",
     "status": "completed"
    },
    "tags": []
   },
   "source": [
    "### **Dataset Template**"
   ]
  },
  {
   "cell_type": "code",
   "execution_count": 4,
   "id": "58d7b3ed",
   "metadata": {
    "execution": {
     "iopub.execute_input": "2022-04-17T09:04:34.998708Z",
     "iopub.status.busy": "2022-04-17T09:04:34.997602Z",
     "iopub.status.idle": "2022-04-17T09:04:35.000299Z",
     "shell.execute_reply": "2022-04-17T09:04:34.999903Z",
     "shell.execute_reply.started": "2022-04-09T01:18:47.593512Z"
    },
    "papermill": {
     "duration": 0.021352,
     "end_time": "2022-04-17T09:04:35.000430",
     "exception": false,
     "start_time": "2022-04-17T09:04:34.979078",
     "status": "completed"
    },
    "tags": []
   },
   "outputs": [],
   "source": [
    "class DS(Dataset):\n",
    "    def __init__(self, images: np.ndarray, labels: np.ndarray = None, transform=None):\n",
    "        self.images = images\n",
    "        self.labels = labels\n",
    "        self.transform = transform\n",
    "    \n",
    "    def __len__(self):\n",
    "        return self.images.shape[0]\n",
    "    \n",
    "    def __getitem__(self, idx):\n",
    "        if self.labels is not None:\n",
    "            return self.transform(self.images[idx]), torch.FloatTensor(self.labels[idx])\n",
    "        else:\n",
    "            return self.transform(self.images[idx])"
   ]
  },
  {
   "cell_type": "markdown",
   "id": "310e6c30",
   "metadata": {
    "papermill": {
     "duration": 0.012512,
     "end_time": "2022-04-17T09:04:35.025817",
     "exception": false,
     "start_time": "2022-04-17T09:04:35.013305",
     "status": "completed"
    },
    "tags": []
   },
   "source": [
    "### **Model**"
   ]
  },
  {
   "cell_type": "code",
   "execution_count": 5,
   "id": "cf3bcee5",
   "metadata": {
    "execution": {
     "iopub.execute_input": "2022-04-17T09:04:35.056224Z",
     "iopub.status.busy": "2022-04-17T09:04:35.055455Z",
     "iopub.status.idle": "2022-04-17T09:04:35.057356Z",
     "shell.execute_reply": "2022-04-17T09:04:35.057758Z",
     "shell.execute_reply.started": "2022-04-09T01:18:47.606516Z"
    },
    "papermill": {
     "duration": 0.019702,
     "end_time": "2022-04-17T09:04:35.057878",
     "exception": false,
     "start_time": "2022-04-17T09:04:35.038176",
     "status": "completed"
    },
    "tags": []
   },
   "outputs": [],
   "source": [
    "class Model(nn.Module):\n",
    "    def __init__(self):\n",
    "        super(Model, self).__init__()\n",
    "\n",
    "        self.model = models.mobilenet_v3_small(pretrained=True, progress=True)\n",
    "        self.model.classifier[-1] = nn.Linear(in_features=self.model.classifier[-1].in_features, out_features=1)\n",
    "\n",
    "    def forward(self, x):\n",
    "        return self.model(x)"
   ]
  },
  {
   "cell_type": "markdown",
   "id": "c6a25625",
   "metadata": {
    "papermill": {
     "duration": 0.012572,
     "end_time": "2022-04-17T09:04:35.083207",
     "exception": false,
     "start_time": "2022-04-17T09:04:35.070635",
     "status": "completed"
    },
    "tags": []
   },
   "source": [
    "### Fit and Predict Helper"
   ]
  },
  {
   "cell_type": "code",
   "execution_count": 6,
   "id": "e1203688",
   "metadata": {
    "execution": {
     "iopub.execute_input": "2022-04-17T09:04:35.132860Z",
     "iopub.status.busy": "2022-04-17T09:04:35.121724Z",
     "iopub.status.idle": "2022-04-17T09:04:35.135615Z",
     "shell.execute_reply": "2022-04-17T09:04:35.136014Z",
     "shell.execute_reply.started": "2022-04-09T01:18:47.615986Z"
    },
    "papermill": {
     "duration": 0.039957,
     "end_time": "2022-04-17T09:04:35.136155",
     "exception": false,
     "start_time": "2022-04-17T09:04:35.096198",
     "status": "completed"
    },
    "tags": []
   },
   "outputs": [],
   "source": [
    "def fit(model=None, \n",
    "        optimizer=None, \n",
    "        scheduler=None, \n",
    "        epochs=None, \n",
    "        early_stopping_patience=None, \n",
    "        dataloaders=None, \n",
    "        fold=None, \n",
    "        save_path=None, \n",
    "        device=None,\n",
    "        verbose=False) -> tuple:\n",
    "    \n",
    "    def get_accuracy(y_pred, y_true):\n",
    "        y_pred = torch.sigmoid(y_pred)\n",
    "        \n",
    "        y_pred[y_pred > 0.75] = 1\n",
    "        y_pred[y_pred <= 0.75] = 0\n",
    "        \n",
    "        return torch.count_nonzero(y_pred == y_true).item() / len(y_pred)\n",
    "    \n",
    "    if verbose:\n",
    "        breaker()\n",
    "        if fold: print(f\"Training Fold {fold}...\")\n",
    "        else: print(\"Training ...\")\n",
    "        breaker()\n",
    "        \n",
    "    bestLoss, bestAccs = {\"train\" : np.inf, \"valid\" : np.inf}, {\"train\" : 0.0, \"valid\" : 0.0}\n",
    "    Losses, LRs, Accuracies = [], [], []\n",
    "    if fold: name = f\"state_fold_{fold}.pt\"\n",
    "    else: name = \"state.pt\"\n",
    "\n",
    "    start_time = time()\n",
    "    for e in range(epochs):\n",
    "        e_st = time()\n",
    "        epochLoss, epochAccs = {\"train\" : 0.0, \"valid\" : 0.0}, {\"train\" : 0.0, \"valid\" : 0.0}\n",
    "\n",
    "        for phase in [\"train\", \"valid\"]:\n",
    "            if phase == \"train\":\n",
    "                model.train()\n",
    "            else:\n",
    "                model.eval()\n",
    "            \n",
    "            lossPerPass, accsPerPass = [], []\n",
    "\n",
    "            for X, y in dataloaders[phase]:\n",
    "                X, y = X.to(device), y.to(device)\n",
    "\n",
    "                optimizer.zero_grad()\n",
    "                with torch.set_grad_enabled(phase == \"train\"):\n",
    "                    output = model(X)\n",
    "                    loss = torch.nn.BCEWithLogitsLoss()(output, y)\n",
    "                    if phase == \"train\":\n",
    "                        loss.backward()\n",
    "                        optimizer.step()\n",
    "                        if scheduler: scheduler.step()\n",
    "                lossPerPass.append(loss.item())\n",
    "                accsPerPass.append(get_accuracy(output, y))\n",
    "            epochLoss[phase] = np.mean(np.array(lossPerPass))\n",
    "            epochAccs[phase] = np.mean(np.array(accsPerPass))\n",
    "        LRs.append(scheduler.get_last_lr())\n",
    "        Losses.append(epochLoss)\n",
    "        Accuracies.append(epochAccs)\n",
    "        \n",
    "        if early_stopping_patience:\n",
    "            if epochLoss[\"valid\"] < bestLoss[\"valid\"]:\n",
    "                bestLoss = epochLoss\n",
    "                BLE = e + 1\n",
    "                torch.save({\"model_state_dict\"     : model.state_dict(),\n",
    "                            \"optim_state_dict\"     : optimizer.state_dict()},\n",
    "                           os.path.join(save_path, name))\n",
    "                early_stopping_step = 0\n",
    "            else:\n",
    "                early_stopping_step += 1\n",
    "                if early_stopping_step > early_stopping_patience:\n",
    "                    print(\"\\nEarly Stopping at Epoch {}\".format(e + 1))\n",
    "                    break\n",
    "        \n",
    "        if epochLoss[\"valid\"] < bestLoss[\"valid\"]:\n",
    "            bestLoss = epochLoss\n",
    "            BLE = e + 1\n",
    "            torch.save({\"model_state_dict\"     : model.state_dict(),\n",
    "                        \"optim_state_dict\"     : optimizer.state_dict()},\n",
    "                        os.path.join(save_path, name))\n",
    "        \n",
    "        if epochAccs[\"valid\"] > bestAccs[\"valid\"]:\n",
    "            bestAccs = epochAccs\n",
    "            BAE = e + 1\n",
    "        \n",
    "        # if scheduler: scheduler.step(epochLoss[\"valid\"])\n",
    "        \n",
    "        if verbose:\n",
    "            print(\"Epoch: {} | Train Loss: {:.5f} | Valid Loss: {:.5f} | Train Accs: {:.5f} | Valid Accs: {:.5f} | Time: {:.2f} seconds\".format(e+1, \n",
    "                                                                       epochLoss[\"train\"], epochLoss[\"valid\"], \n",
    "                                                                       epochAccs[\"train\"], epochAccs[\"valid\"], \n",
    "                                                                       time()-e_st))\n",
    "\n",
    "    if verbose:                                           \n",
    "        breaker()\n",
    "        print(f\"Best Validation Loss at Epoch {BLE}\")\n",
    "        breaker()\n",
    "        print(f\"Best Validation Accs at Epoch {BAE}\")\n",
    "        breaker()\n",
    "        print(\"Time Taken [{} Epochs] : {:.2f} minutes\".format(len(Losses), (time()-start_time)/60))\n",
    "    \n",
    "    return Losses, Accuracies, LRs, BLE, BAE, name\n",
    "\n",
    "\n",
    "def predict(model=None, dataloader=None, path=None, device=None) -> np.ndarray:\n",
    "    model.load_state_dict(torch.load(path, map_location=device)[\"model_state_dict\"])\n",
    "    model.to(device)    \n",
    "    model.eval()\n",
    "    \n",
    "    y_pred = torch.zeros(1, 1).to(device)\n",
    "    \n",
    "    for X in dataloader:\n",
    "        X = X.to(device)\n",
    "        with torch.no_grad():\n",
    "            output = torch.sigmoid(model(X))\n",
    "        y_pred = torch.cat((y_pred, output.view(-1, 1)), dim=0)\n",
    "    \n",
    "    y_pred[y_pred > 0.75] = 1\n",
    "    y_pred[y_pred <= 0.75] = 0\n",
    "    \n",
    "    return y_pred[1:].detach().cpu().numpy()"
   ]
  },
  {
   "cell_type": "markdown",
   "id": "3d74bb4a",
   "metadata": {
    "papermill": {
     "duration": 0.012391,
     "end_time": "2022-04-17T09:04:35.161208",
     "exception": false,
     "start_time": "2022-04-17T09:04:35.148817",
     "status": "completed"
    },
    "tags": []
   },
   "source": [
    "### **Train**"
   ]
  },
  {
   "cell_type": "code",
   "execution_count": 7,
   "id": "716ea0bb",
   "metadata": {
    "execution": {
     "iopub.execute_input": "2022-04-17T09:04:35.190669Z",
     "iopub.status.busy": "2022-04-17T09:04:35.190119Z",
     "iopub.status.idle": "2022-04-17T09:04:43.643157Z",
     "shell.execute_reply": "2022-04-17T09:04:43.642614Z",
     "shell.execute_reply.started": "2022-04-09T01:18:47.643848Z"
    },
    "papermill": {
     "duration": 8.468801,
     "end_time": "2022-04-17T09:04:43.643282",
     "exception": false,
     "start_time": "2022-04-17T09:04:35.174481",
     "status": "completed"
    },
    "tags": []
   },
   "outputs": [],
   "source": [
    "images = np.load(f\"../input/chest-x-rays-images/train_images_{SIZE}.npy\")\n",
    "labels = np.load(f\"../input/chest-x-rays-images/train_targets_{SIZE}.npy\")"
   ]
  },
  {
   "cell_type": "code",
   "execution_count": 8,
   "id": "fc447c0c",
   "metadata": {
    "execution": {
     "iopub.execute_input": "2022-04-17T09:04:43.684076Z",
     "iopub.status.busy": "2022-04-17T09:04:43.683095Z",
     "iopub.status.idle": "2022-04-17T09:20:39.079999Z",
     "shell.execute_reply": "2022-04-17T09:20:39.079535Z",
     "shell.execute_reply.started": "2022-04-09T01:36:59.635267Z"
    },
    "papermill": {
     "duration": 955.423533,
     "end_time": "2022-04-17T09:20:39.080119",
     "exception": false,
     "start_time": "2022-04-17T09:04:43.656586",
     "status": "completed"
    },
    "tags": []
   },
   "outputs": [
    {
     "name": "stderr",
     "output_type": "stream",
     "text": [
      "Downloading: \"https://download.pytorch.org/models/mobilenet_v3_small-047dcff4.pth\" to /root/.cache/torch/hub/checkpoints/mobilenet_v3_small-047dcff4.pth\n"
     ]
    },
    {
     "data": {
      "application/vnd.jupyter.widget-view+json": {
       "model_id": "a13201b6cddb4e06805fb504538b4cc0",
       "version_major": 2,
       "version_minor": 0
      },
      "text/plain": [
       "  0%|          | 0.00/9.83M [00:00<?, ?B/s]"
      ]
     },
     "metadata": {},
     "output_type": "display_data"
    },
    {
     "name": "stdout",
     "output_type": "stream",
     "text": [
      "\n",
      "**************************************************\n",
      "\n",
      "Training Fold 1...\n",
      "\n",
      "**************************************************\n",
      "\n",
      "Epoch: 1 | Train Loss: 0.38920 | Valid Loss: 0.09667 | Train Accs: 0.62142 | Valid Accs: 0.97443 | Time: 20.05 seconds\n",
      "Epoch: 2 | Train Loss: 0.08183 | Valid Loss: 0.10279 | Train Accs: 0.96236 | Valid Accs: 0.95739 | Time: 13.87 seconds\n",
      "Epoch: 3 | Train Loss: 0.06645 | Valid Loss: 0.11751 | Train Accs: 0.97090 | Valid Accs: 0.96212 | Time: 14.06 seconds\n",
      "Epoch: 4 | Train Loss: 0.04172 | Valid Loss: 0.03509 | Train Accs: 0.98187 | Valid Accs: 0.98174 | Time: 13.91 seconds\n",
      "Epoch: 5 | Train Loss: 0.03740 | Valid Loss: 0.07647 | Train Accs: 0.98187 | Valid Accs: 0.96307 | Time: 14.02 seconds\n",
      "Epoch: 6 | Train Loss: 0.03019 | Valid Loss: 0.06867 | Train Accs: 0.98664 | Valid Accs: 0.98174 | Time: 14.06 seconds\n",
      "Epoch: 7 | Train Loss: 0.02020 | Valid Loss: 0.04581 | Train Accs: 0.98974 | Valid Accs: 0.98931 | Time: 13.53 seconds\n",
      "Epoch: 8 | Train Loss: 0.01050 | Valid Loss: 0.05422 | Train Accs: 0.99475 | Valid Accs: 0.98552 | Time: 14.03 seconds\n",
      "Epoch: 9 | Train Loss: 0.00503 | Valid Loss: 0.04284 | Train Accs: 0.99714 | Valid Accs: 0.97795 | Time: 13.68 seconds\n",
      "\n",
      "Early Stopping at Epoch 10\n",
      "\n",
      "**************************************************\n",
      "\n",
      "Best Validation Loss at Epoch 4\n",
      "\n",
      "**************************************************\n",
      "\n",
      "Best Validation Accs at Epoch 7\n",
      "\n",
      "**************************************************\n",
      "\n",
      "Time Taken [10 Epochs] : 2.42 minutes\n",
      "\n",
      "**************************************************\n",
      "\n"
     ]
    },
    {
     "data": {
      "image/png": "[encoded data removed]",
      "text/plain": [
       "<Figure size 576x432 with 2 Axes>"
      ]
     },
     "metadata": {
      "needs_background": "light"
     },
     "output_type": "display_data"
    },
    {
     "name": "stdout",
     "output_type": "stream",
     "text": [
      "\n",
      "**************************************************\n",
      "\n",
      "Training Fold 2...\n",
      "\n",
      "**************************************************\n",
      "\n",
      "Epoch: 1 | Train Loss: 0.51310 | Valid Loss: 0.30804 | Train Accs: 0.48811 | Valid Accs: 0.83660 | Time: 12.20 seconds\n",
      "Epoch: 2 | Train Loss: 0.08156 | Valid Loss: 0.08104 | Train Accs: 0.96341 | Valid Accs: 0.95772 | Time: 12.31 seconds\n",
      "Epoch: 3 | Train Loss: 0.04323 | Valid Loss: 0.20385 | Train Accs: 0.98106 | Valid Accs: 0.95320 | Time: 12.44 seconds\n",
      "Epoch: 4 | Train Loss: 0.03182 | Valid Loss: 0.20637 | Train Accs: 0.98651 | Valid Accs: 0.95301 | Time: 12.24 seconds\n",
      "Epoch: 5 | Train Loss: 0.01885 | Valid Loss: 0.11779 | Train Accs: 0.99077 | Valid Accs: 0.97486 | Time: 12.38 seconds\n",
      "Epoch: 6 | Train Loss: 0.01328 | Valid Loss: 0.12974 | Train Accs: 0.99242 | Valid Accs: 0.96324 | Time: 12.21 seconds\n",
      "Epoch: 7 | Train Loss: 0.00924 | Valid Loss: 0.16457 | Train Accs: 0.99621 | Valid Accs: 0.96004 | Time: 12.15 seconds\n",
      "Epoch: 8 | Train Loss: 0.00988 | Valid Loss: 0.04483 | Train Accs: 0.99574 | Valid Accs: 0.98182 | Time: 12.71 seconds\n",
      "Epoch: 9 | Train Loss: 0.00152 | Valid Loss: 0.02959 | Train Accs: 0.99953 | Valid Accs: 0.99101 | Time: 12.20 seconds\n",
      "Epoch: 10 | Train Loss: 0.00072 | Valid Loss: 0.02070 | Train Accs: 0.99953 | Valid Accs: 0.99101 | Time: 12.21 seconds\n",
      "Epoch: 11 | Train Loss: 0.00662 | Valid Loss: 0.02684 | Train Accs: 0.99855 | Valid Accs: 0.98917 | Time: 12.36 seconds\n",
      "Epoch: 12 | Train Loss: 0.01944 | Valid Loss: 0.02727 | Train Accs: 0.99348 | Valid Accs: 0.98805 | Time: 12.51 seconds\n",
      "Epoch: 13 | Train Loss: 0.00090 | Valid Loss: 0.01853 | Train Accs: 1.00000 | Valid Accs: 0.99357 | Time: 13.05 seconds\n",
      "Epoch: 14 | Train Loss: 0.00299 | Valid Loss: 0.03285 | Train Accs: 0.99882 | Valid Accs: 0.99357 | Time: 12.30 seconds\n",
      "Epoch: 15 | Train Loss: 0.00129 | Valid Loss: 0.02301 | Train Accs: 0.99953 | Valid Accs: 0.99101 | Time: 12.51 seconds\n",
      "Epoch: 16 | Train Loss: 0.00033 | Valid Loss: 0.02023 | Train Accs: 1.00000 | Valid Accs: 0.99285 | Time: 12.45 seconds\n",
      "Epoch: 17 | Train Loss: 0.00012 | Valid Loss: 0.01956 | Train Accs: 1.00000 | Valid Accs: 0.99193 | Time: 12.18 seconds\n",
      "Epoch: 18 | Train Loss: 0.00041 | Valid Loss: 0.01934 | Train Accs: 1.00000 | Valid Accs: 0.99193 | Time: 12.73 seconds\n",
      "\n",
      "Early Stopping at Epoch 19\n",
      "\n",
      "**************************************************\n",
      "\n",
      "Best Validation Loss at Epoch 13\n",
      "\n",
      "**************************************************\n",
      "\n",
      "Best Validation Accs at Epoch 13\n",
      "\n",
      "**************************************************\n",
      "\n",
      "Time Taken [19 Epochs] : 3.92 minutes\n",
      "\n",
      "**************************************************\n",
      "\n"
     ]
    },
    {
     "data": {
      "image/png": "[encoded data removed]",
      "text/plain": [
       "<Figure size 576x432 with 2 Axes>"
      ]
     },
     "metadata": {
      "needs_background": "light"
     },
     "output_type": "display_data"
    },
    {
     "name": "stdout",
     "output_type": "stream",
     "text": [
      "\n",
      "**************************************************\n",
      "\n",
      "Training Fold 3...\n",
      "\n",
      "**************************************************\n",
      "\n",
      "Epoch: 1 | Train Loss: 0.51198 | Valid Loss: 0.30687 | Train Accs: 0.48620 | Valid Accs: 0.83272 | Time: 12.14 seconds\n",
      "Epoch: 2 | Train Loss: 0.09098 | Valid Loss: 0.22039 | Train Accs: 0.95728 | Valid Accs: 0.93867 | Time: 12.21 seconds\n",
      "Epoch: 3 | Train Loss: 0.03257 | Valid Loss: 0.23341 | Train Accs: 0.98651 | Valid Accs: 0.94694 | Time: 11.88 seconds\n",
      "Epoch: 4 | Train Loss: 0.04315 | Valid Loss: 0.04863 | Train Accs: 0.98201 | Valid Accs: 0.98722 | Time: 11.99 seconds\n",
      "Epoch: 5 | Train Loss: 0.01849 | Valid Loss: 0.15678 | Train Accs: 0.99242 | Valid Accs: 0.96883 | Time: 12.09 seconds\n",
      "Epoch: 6 | Train Loss: 0.01727 | Valid Loss: 0.02469 | Train Accs: 0.99337 | Valid Accs: 0.99357 | Time: 12.18 seconds\n",
      "Epoch: 7 | Train Loss: 0.00751 | Valid Loss: 0.12227 | Train Accs: 0.99550 | Valid Accs: 0.97343 | Time: 11.98 seconds\n",
      "Epoch: 8 | Train Loss: 0.00122 | Valid Loss: 0.04235 | Train Accs: 0.99905 | Valid Accs: 0.98905 | Time: 12.05 seconds\n",
      "Epoch: 9 | Train Loss: 0.00020 | Valid Loss: 0.03668 | Train Accs: 1.00000 | Valid Accs: 0.98722 | Time: 11.94 seconds\n",
      "Epoch: 10 | Train Loss: 0.00078 | Valid Loss: 0.05540 | Train Accs: 0.99976 | Valid Accs: 0.98905 | Time: 12.31 seconds\n",
      "Epoch: 11 | Train Loss: 0.00195 | Valid Loss: 0.03897 | Train Accs: 0.99905 | Valid Accs: 0.98814 | Time: 12.11 seconds\n",
      "\n",
      "Early Stopping at Epoch 12\n",
      "\n",
      "**************************************************\n",
      "\n",
      "Best Validation Loss at Epoch 6\n",
      "\n",
      "**************************************************\n",
      "\n",
      "Best Validation Accs at Epoch 6\n",
      "\n",
      "**************************************************\n",
      "\n",
      "Time Taken [12 Epochs] : 2.41 minutes\n",
      "\n",
      "**************************************************\n",
      "\n"
     ]
    },
    {
     "data": {
      "image/png": "[encoded data removed]",
      "text/plain": [
       "<Figure size 576x432 with 2 Axes>"
      ]
     },
     "metadata": {
      "needs_background": "light"
     },
     "output_type": "display_data"
    },
    {
     "name": "stdout",
     "output_type": "stream",
     "text": [
      "\n",
      "**************************************************\n",
      "\n",
      "Training Fold 4...\n",
      "\n",
      "**************************************************\n",
      "\n",
      "Epoch: 1 | Train Loss: 0.51289 | Valid Loss: 0.31325 | Train Accs: 0.48986 | Valid Accs: 0.79688 | Time: 12.15 seconds\n",
      "Epoch: 2 | Train Loss: 0.08583 | Valid Loss: 0.13392 | Train Accs: 0.96070 | Valid Accs: 0.97184 | Time: 12.05 seconds\n",
      "Epoch: 3 | Train Loss: 0.03729 | Valid Loss: 0.16141 | Train Accs: 0.98461 | Valid Accs: 0.96441 | Time: 11.92 seconds\n",
      "Epoch: 4 | Train Loss: 0.03424 | Valid Loss: 0.11164 | Train Accs: 0.98485 | Valid Accs: 0.97076 | Time: 12.18 seconds\n",
      "Epoch: 5 | Train Loss: 0.01630 | Valid Loss: 0.20386 | Train Accs: 0.99100 | Valid Accs: 0.95998 | Time: 11.95 seconds\n",
      "Epoch: 6 | Train Loss: 0.01004 | Valid Loss: 0.08710 | Train Accs: 0.99492 | Valid Accs: 0.97268 | Time: 12.24 seconds\n",
      "Epoch: 7 | Train Loss: 0.01834 | Valid Loss: 0.18311 | Train Accs: 0.99219 | Valid Accs: 0.96181 | Time: 11.90 seconds\n",
      "Epoch: 8 | Train Loss: 0.00292 | Valid Loss: 0.04683 | Train Accs: 0.99882 | Valid Accs: 0.98997 | Time: 12.12 seconds\n",
      "Epoch: 9 | Train Loss: 0.00634 | Valid Loss: 0.03837 | Train Accs: 0.99716 | Valid Accs: 0.99081 | Time: 12.28 seconds\n",
      "Epoch: 10 | Train Loss: 0.00182 | Valid Loss: 0.07419 | Train Accs: 0.99882 | Valid Accs: 0.98270 | Time: 11.94 seconds\n",
      "Epoch: 11 | Train Loss: 0.00481 | Valid Loss: 0.04673 | Train Accs: 0.99763 | Valid Accs: 0.98630 | Time: 12.04 seconds\n",
      "Epoch: 12 | Train Loss: 0.00198 | Valid Loss: 0.05410 | Train Accs: 0.99905 | Valid Accs: 0.98162 | Time: 12.06 seconds\n",
      "Epoch: 13 | Train Loss: 0.00039 | Valid Loss: 0.03981 | Train Accs: 1.00000 | Valid Accs: 0.98722 | Time: 11.99 seconds\n",
      "Epoch: 14 | Train Loss: 0.00016 | Valid Loss: 0.03929 | Train Accs: 1.00000 | Valid Accs: 0.98546 | Time: 11.98 seconds\n",
      "\n",
      "Early Stopping at Epoch 15\n",
      "\n",
      "**************************************************\n",
      "\n",
      "Best Validation Loss at Epoch 9\n",
      "\n",
      "**************************************************\n",
      "\n",
      "Best Validation Accs at Epoch 9\n",
      "\n",
      "**************************************************\n",
      "\n",
      "Time Taken [15 Epochs] : 3.01 minutes\n",
      "\n",
      "**************************************************\n",
      "\n"
     ]
    },
    {
     "data": {
      "image/png": "[encoded data removed]",
      "text/plain": [
       "<Figure size 576x432 with 2 Axes>"
      ]
     },
     "metadata": {
      "needs_background": "light"
     },
     "output_type": "display_data"
    },
    {
     "name": "stdout",
     "output_type": "stream",
     "text": [
      "\n",
      "**************************************************\n",
      "\n",
      "Training Fold 5...\n",
      "\n",
      "**************************************************\n",
      "\n",
      "Epoch: 1 | Train Loss: 0.50975 | Valid Loss: 0.30227 | Train Accs: 0.49080 | Valid Accs: 0.84099 | Time: 12.10 seconds\n",
      "Epoch: 2 | Train Loss: 0.09255 | Valid Loss: 0.25526 | Train Accs: 0.96035 | Valid Accs: 0.94352 | Time: 12.16 seconds\n",
      "Epoch: 3 | Train Loss: 0.04005 | Valid Loss: 0.30486 | Train Accs: 0.98201 | Valid Accs: 0.92246 | Time: 12.08 seconds\n",
      "Epoch: 4 | Train Loss: 0.02958 | Valid Loss: 0.27558 | Train Accs: 0.98865 | Valid Accs: 0.93984 | Time: 11.99 seconds\n",
      "Epoch: 5 | Train Loss: 0.02476 | Valid Loss: 0.04470 | Train Accs: 0.99006 | Valid Accs: 0.97610 | Time: 12.15 seconds\n",
      "Epoch: 6 | Train Loss: 0.01805 | Valid Loss: 0.06455 | Train Accs: 0.99210 | Valid Accs: 0.98170 | Time: 11.92 seconds\n",
      "Epoch: 7 | Train Loss: 0.01896 | Valid Loss: 0.05977 | Train Accs: 0.99029 | Valid Accs: 0.98170 | Time: 12.30 seconds\n",
      "Epoch: 8 | Train Loss: 0.00381 | Valid Loss: 0.08605 | Train Accs: 0.99882 | Valid Accs: 0.98178 | Time: 11.91 seconds\n",
      "Epoch: 9 | Train Loss: 0.00141 | Valid Loss: 0.07215 | Train Accs: 0.99953 | Valid Accs: 0.98346 | Time: 11.92 seconds\n",
      "Epoch: 10 | Train Loss: 0.00077 | Valid Loss: 0.02982 | Train Accs: 0.99976 | Valid Accs: 0.98897 | Time: 12.16 seconds\n",
      "Epoch: 11 | Train Loss: 0.00253 | Valid Loss: 0.06068 | Train Accs: 0.99882 | Valid Accs: 0.98538 | Time: 11.89 seconds\n",
      "Epoch: 12 | Train Loss: 0.00483 | Valid Loss: 0.03922 | Train Accs: 0.99763 | Valid Accs: 0.98722 | Time: 11.93 seconds\n",
      "Epoch: 13 | Train Loss: 0.00335 | Valid Loss: 0.02766 | Train Accs: 0.99882 | Valid Accs: 0.99081 | Time: 12.45 seconds\n",
      "Epoch: 14 | Train Loss: 0.00054 | Valid Loss: 0.02422 | Train Accs: 0.99953 | Valid Accs: 0.98989 | Time: 12.15 seconds\n",
      "Epoch: 15 | Train Loss: 0.00045 | Valid Loss: 0.02047 | Train Accs: 1.00000 | Valid Accs: 0.99081 | Time: 12.02 seconds\n",
      "Epoch: 16 | Train Loss: 0.00023 | Valid Loss: 0.02129 | Train Accs: 1.00000 | Valid Accs: 0.98897 | Time: 12.07 seconds\n",
      "Epoch: 17 | Train Loss: 0.00008 | Valid Loss: 0.02016 | Train Accs: 1.00000 | Valid Accs: 0.98989 | Time: 12.00 seconds\n",
      "Epoch: 18 | Train Loss: 0.00012 | Valid Loss: 0.01910 | Train Accs: 1.00000 | Valid Accs: 0.99265 | Time: 12.31 seconds\n",
      "Epoch: 19 | Train Loss: 0.00021 | Valid Loss: 0.01909 | Train Accs: 0.99976 | Valid Accs: 0.99265 | Time: 11.99 seconds\n",
      "Epoch: 20 | Train Loss: 0.00045 | Valid Loss: 0.01922 | Train Accs: 0.99976 | Valid Accs: 0.99265 | Time: 11.91 seconds\n",
      "\n",
      "**************************************************\n",
      "\n",
      "Best Validation Loss at Epoch 19\n",
      "\n",
      "**************************************************\n",
      "\n",
      "Best Validation Accs at Epoch 18\n",
      "\n",
      "**************************************************\n",
      "\n",
      "Time Taken [20 Epochs] : 4.02 minutes\n",
      "\n",
      "**************************************************\n",
      "\n"
     ]
    },
    {
     "data": {
      "image/png": "[encoded data removed]",
      "text/plain": [
       "<Figure size 576x432 with 2 Axes>"
      ]
     },
     "metadata": {
      "needs_background": "light"
     },
     "output_type": "display_data"
    }
   ],
   "source": [
    "fold = 1\n",
    "BLEs, BAEs = [], []\n",
    "\n",
    "for tr_idx, va_idx in KFold(n_splits=cfg.n_splits, random_state=SEED, shuffle=True).split(images):\n",
    "    tr_images, va_images, tr_labels, va_labels = images[tr_idx], images[va_idx], labels[tr_idx], labels[va_idx]\n",
    "\n",
    "    tr_data_setup = DS(tr_images, tr_labels.reshape(-1, 1), cfg.transform)\n",
    "    va_data_setup = DS(va_images, va_labels.reshape(-1, 1), cfg.transform)\n",
    "\n",
    "    dataloaders = {\n",
    "        \"train\" : DL(tr_data_setup, batch_size=cfg.batch_size, shuffle=True, generator=torch.manual_seed(cfg.seed)),\n",
    "        \"valid\" : DL(va_data_setup, batch_size=cfg.batch_size, shuffle=False),\n",
    "    }\n",
    "\n",
    "    cfg = CFG(epochs=20, lr=1e-3, wd=0.0, batch_size=64, steps_per_epoch=len(dataloaders[\"train\"]))\n",
    "\n",
    "    torch.manual_seed(cfg.seed)\n",
    "    model = Model().to(cfg.device)\n",
    "    optimizer = optim.Adam([p for p in model.parameters() if p.requires_grad], lr=cfg.lr, weight_decay=cfg.wd)\n",
    "    scheduler = optim.lr_scheduler.OneCycleLR(optimizer=optimizer, \n",
    "                                              max_lr=cfg.max_lr, \n",
    "                                              epochs=cfg.epochs, \n",
    "                                              steps_per_epoch=cfg.steps_per_epoch,\n",
    "                                              pct_start=cfg.pct_start, \n",
    "                                              div_factor=cfg.div_factor, \n",
    "                                              final_div_factor=cfg.final_div_factor)\n",
    "    # scheduler = None\n",
    "\n",
    "    L, A, LRs, BLE, BAE, name = fit(model=model, \n",
    "                                    optimizer=optimizer, \n",
    "                                    scheduler=scheduler, \n",
    "                                    epochs=cfg.epochs, \n",
    "                                    early_stopping_patience=cfg.early_stopping, \n",
    "                                    dataloaders=dataloaders, \n",
    "                                    device=cfg.device,\n",
    "                                    save_path=cfg.save_path,\n",
    "                                    fold = fold,\n",
    "                                    verbose=True)\n",
    "\n",
    "    breaker()\n",
    "    show_graphs(L, A)\n",
    "    \n",
    "    BLEs.append(BLE)\n",
    "    BAEs.append(BAE)\n",
    "\n",
    "    fold += 1"
   ]
  },
  {
   "cell_type": "markdown",
   "id": "52da6186",
   "metadata": {
    "papermill": {
     "duration": 0.042378,
     "end_time": "2022-04-17T09:20:39.165489",
     "exception": false,
     "start_time": "2022-04-17T09:20:39.123111",
     "status": "completed"
    },
    "tags": []
   },
   "source": [
    "### **Predictions**"
   ]
  },
  {
   "cell_type": "code",
   "execution_count": 9,
   "id": "cacef612",
   "metadata": {
    "execution": {
     "iopub.execute_input": "2022-04-17T09:20:39.258193Z",
     "iopub.status.busy": "2022-04-17T09:20:39.257536Z",
     "iopub.status.idle": "2022-04-17T09:20:41.611477Z",
     "shell.execute_reply": "2022-04-17T09:20:41.612045Z",
     "shell.execute_reply.started": "2022-04-09T01:41:41.028783Z"
    },
    "papermill": {
     "duration": 2.404117,
     "end_time": "2022-04-17T09:20:41.612204",
     "exception": false,
     "start_time": "2022-04-17T09:20:39.208087",
     "status": "completed"
    },
    "tags": []
   },
   "outputs": [
    {
     "name": "stdout",
     "output_type": "stream",
     "text": [
      "\n",
      "**************************************************\n",
      "\n",
      "Best Fold : 1\n",
      "\n",
      "**************************************************\n",
      "\n",
      "Accuracy  : 0.80929\n",
      "ROC-AUC   : 0.87936\n",
      "Precision : [0.4957265 0.9974359]\n",
      "Recall    : [0.99145299 0.76725838]\n",
      "F-Score   : [0.66096866 0.86733556]\n",
      "\n",
      "**************************************************\n",
      "\n",
      "              precision    recall  f1-score   support\n",
      "\n",
      "         0.0       0.99      0.50      0.66       234\n",
      "         1.0       0.77      1.00      0.87       390\n",
      "\n",
      "    accuracy                           0.81       624\n",
      "   macro avg       0.88      0.75      0.76       624\n",
      "weighted avg       0.85      0.81      0.79       624\n",
      "\n",
      "\n",
      "**************************************************\n",
      "\n",
      "[[116 118]\n",
      " [  1 389]]\n",
      "\n",
      "**************************************************\n",
      "\n"
     ]
    }
   ],
   "source": [
    "test_images = np.load(f\"../input/chest-x-rays-images/test_images_{SIZE}.npy\")\n",
    "test_labels = np.load(f\"../input/chest-x-rays-images/test_targets_{SIZE}.npy\")\n",
    "\n",
    "ts_data_setup = DS(test_images, None, cfg.transform)\n",
    "ts_data = DL(ts_data_setup, batch_size=cfg.batch_size, shuffle=False)\n",
    "\n",
    "best_fold = BLEs.index(min(BLEs)) + 1\n",
    "model_path = f\"saves/state_fold_{best_fold}.pt\"\n",
    "y_pred = predict(model=Model().to(cfg.device), dataloader=ts_data, path=model_path, device=cfg.device)\n",
    "\n",
    "accuracy, auc, precision, recall, f_score = get_scores(test_labels, y_pred)\n",
    "\n",
    "breaker()\n",
    "print(f\"Best Fold : {best_fold}\")\n",
    "breaker()\n",
    "print_scores(accuracy, auc, precision, recall, f_score)\n",
    "breaker()\n",
    "print(classification_report(test_labels, y_pred))\n",
    "breaker()\n",
    "print(confusion_matrix(test_labels, y_pred))\n",
    "breaker()"
   ]
  }
 ],
 "metadata": {
  "kernelspec": {
   "display_name": "Python 3",
   "language": "python",
   "name": "python3"
  },
  "language_info": {
   "codemirror_mode": {
    "name": "ipython",
    "version": 3
   },
   "file_extension": ".py",
   "mimetype": "text/x-python",
   "name": "python",
   "nbconvert_exporter": "python",
   "pygments_lexer": "ipython3",
   "version": "3.7.12"
  },
  "papermill": {
   "default_parameters": {},
   "duration": 979.692797,
   "end_time": "2022-04-17T09:20:43.852153",
   "environment_variables": {},
   "exception": null,
   "input_path": "__notebook__.ipynb",
   "output_path": "__notebook__.ipynb",
   "parameters": {},
   "start_time": "2022-04-17T09:04:24.159356",
   "version": "2.3.3"
  },
  "widgets": {
   "application/vnd.jupyter.widget-state+json": {
    "state": {
     "1e27793d726a49e98da08b2f278551c9": {
      "model_module": "@jupyter-widgets/base",
      "model_module_version": "1.2.0",
      "model_name": "LayoutModel",
      "state": {
       "_model_module": "@jupyter-widgets/base",
       "_model_module_version": "1.2.0",
       "_model_name": "LayoutModel",
       "_view_count": null,
       "_view_module": "@jupyter-widgets/base",
       "_view_module_version": "1.2.0",
       "_view_name": "LayoutView",
       "align_content": null,
       "align_items": null,
       "align_self": null,
       "border": null,
       "bottom": null,
       "display": null,
       "flex": null,
       "flex_flow": null,
       "grid_area": null,
       "grid_auto_columns": null,
       "grid_auto_flow": null,
       "grid_auto_rows": null,
       "grid_column": null,
       "grid_gap": null,
       "grid_row": null,
       "grid_template_areas": null,
       "grid_template_columns": null,
       "grid_template_rows": null,
       "height": null,
       "justify_content": null,
       "justify_items": null,
       "left": null,
       "margin": null,
       "max_height": null,
       "max_width": null,
       "min_height": null,
       "min_width": null,
       "object_fit": null,
       "object_position": null,
       "order": null,
       "overflow": null,
       "overflow_x": null,
       "overflow_y": null,
       "padding": null,
       "right": null,
       "top": null,
       "visibility": null,
       "width": null
      }
     },
     "4feba56314684c55b181b630e26138cf": {
      "model_module": "@jupyter-widgets/controls",
      "model_module_version": "1.5.0",
      "model_name": "ProgressStyleModel",
      "state": {
       "_model_module": "@jupyter-widgets/controls",
       "_model_module_version": "1.5.0",
       "_model_name": "ProgressStyleModel",
       "_view_count": null,
       "_view_module": "@jupyter-widgets/base",
       "_view_module_version": "1.2.0",
       "_view_name": "StyleView",
       "bar_color": null,
       "description_width": ""
      }
     },
     "583b2f1e732243bd82369077955ebe1a": {
      "model_module": "@jupyter-widgets/controls",
      "model_module_version": "1.5.0",
      "model_name": "HTMLModel",
      "state": {
       "_dom_classes": [],
       "_model_module": "@jupyter-widgets/controls",
       "_model_module_version": "1.5.0",
       "_model_name": "HTMLModel",
       "_view_count": null,
       "_view_module": "@jupyter-widgets/controls",
       "_view_module_version": "1.5.0",
       "_view_name": "HTMLView",
       "description": "",
       "description_tooltip": null,
       "layout": "IPY_MODEL_92b8dbe74d9b433fb88aa339d84be0a0",
       "placeholder": "​",
       "style": "IPY_MODEL_7093e6a351f148fa8387c6287482aa68",
       "value": " 9.83M/9.83M [00:01&lt;00:00, 18.2MB/s]"
      }
     },
     "6e6cf6112de740c28400d43c052444de": {
      "model_module": "@jupyter-widgets/controls",
      "model_module_version": "1.5.0",
      "model_name": "DescriptionStyleModel",
      "state": {
       "_model_module": "@jupyter-widgets/controls",
       "_model_module_version": "1.5.0",
       "_model_name": "DescriptionStyleModel",
       "_view_count": null,
       "_view_module": "@jupyter-widgets/base",
       "_view_module_version": "1.2.0",
       "_view_name": "StyleView",
       "description_width": ""
      }
     },
     "7093e6a351f148fa8387c6287482aa68": {
      "model_module": "@jupyter-widgets/controls",
      "model_module_version": "1.5.0",
      "model_name": "DescriptionStyleModel",
      "state": {
       "_model_module": "@jupyter-widgets/controls",
       "_model_module_version": "1.5.0",
       "_model_name": "DescriptionStyleModel",
       "_view_count": null,
       "_view_module": "@jupyter-widgets/base",
       "_view_module_version": "1.2.0",
       "_view_name": "StyleView",
       "description_width": ""
      }
     },
     "717eea6ab90e4e619417d4cf050ae9cb": {
      "model_module": "@jupyter-widgets/controls",
      "model_module_version": "1.5.0",
      "model_name": "FloatProgressModel",
      "state": {
       "_dom_classes": [],
       "_model_module": "@jupyter-widgets/controls",
       "_model_module_version": "1.5.0",
       "_model_name": "FloatProgressModel",
       "_view_count": null,
       "_view_module": "@jupyter-widgets/controls",
       "_view_module_version": "1.5.0",
       "_view_name": "ProgressView",
       "bar_style": "success",
       "description": "",
       "description_tooltip": null,
       "layout": "IPY_MODEL_1e27793d726a49e98da08b2f278551c9",
       "max": 10306551.0,
       "min": 0.0,
       "orientation": "horizontal",
       "style": "IPY_MODEL_4feba56314684c55b181b630e26138cf",
       "value": 10306551.0
      }
     },
     "92b8dbe74d9b433fb88aa339d84be0a0": {
      "model_module": "@jupyter-widgets/base",
      "model_module_version": "1.2.0",
      "model_name": "LayoutModel",
      "state": {
       "_model_module": "@jupyter-widgets/base",
       "_model_module_version": "1.2.0",
       "_model_name": "LayoutModel",
       "_view_count": null,
       "_view_module": "@jupyter-widgets/base",
       "_view_module_version": "1.2.0",
       "_view_name": "LayoutView",
       "align_content": null,
       "align_items": null,
       "align_self": null,
       "border": null,
       "bottom": null,
       "display": null,
       "flex": null,
       "flex_flow": null,
       "grid_area": null,
       "grid_auto_columns": null,
       "grid_auto_flow": null,
       "grid_auto_rows": null,
       "grid_column": null,
       "grid_gap": null,
       "grid_row": null,
       "grid_template_areas": null,
       "grid_template_columns": null,
       "grid_template_rows": null,
       "height": null,
       "justify_content": null,
       "justify_items": null,
       "left": null,
       "margin": null,
       "max_height": null,
       "max_width": null,
       "min_height": null,
       "min_width": null,
       "object_fit": null,
       "object_position": null,
       "order": null,
       "overflow": null,
       "overflow_x": null,
       "overflow_y": null,
       "padding": null,
       "right": null,
       "top": null,
       "visibility": null,
       "width": null
      }
     },
     "a13201b6cddb4e06805fb504538b4cc0": {
      "model_module": "@jupyter-widgets/controls",
      "model_module_version": "1.5.0",
      "model_name": "HBoxModel",
      "state": {
       "_dom_classes": [],
       "_model_module": "@jupyter-widgets/controls",
       "_model_module_version": "1.5.0",
       "_model_name": "HBoxModel",
       "_view_count": null,
       "_view_module": "@jupyter-widgets/controls",
       "_view_module_version": "1.5.0",
       "_view_name": "HBoxView",
       "box_style": "",
       "children": [
        "IPY_MODEL_b0d1a6493c6143fbaa551acf9a92df39",
        "IPY_MODEL_717eea6ab90e4e619417d4cf050ae9cb",
        "IPY_MODEL_583b2f1e732243bd82369077955ebe1a"
       ],
       "layout": "IPY_MODEL_a8669298be6e482697f3d416dc6cc2f8"
      }
     },
     "a8669298be6e482697f3d416dc6cc2f8": {
      "model_module": "@jupyter-widgets/base",
      "model_module_version": "1.2.0",
      "model_name": "LayoutModel",
      "state": {
       "_model_module": "@jupyter-widgets/base",
       "_model_module_version": "1.2.0",
       "_model_name": "LayoutModel",
       "_view_count": null,
       "_view_module": "@jupyter-widgets/base",
       "_view_module_version": "1.2.0",
       "_view_name": "LayoutView",
       "align_content": null,
       "align_items": null,
       "align_self": null,
       "border": null,
       "bottom": null,
       "display": null,
       "flex": null,
       "flex_flow": null,
       "grid_area": null,
       "grid_auto_columns": null,
       "grid_auto_flow": null,
       "grid_auto_rows": null,
       "grid_column": null,
       "grid_gap": null,
       "grid_row": null,
       "grid_template_areas": null,
       "grid_template_columns": null,
       "grid_template_rows": null,
       "height": null,
       "justify_content": null,
       "justify_items": null,
       "left": null,
       "margin": null,
       "max_height": null,
       "max_width": null,
       "min_height": null,
       "min_width": null,
       "object_fit": null,
       "object_position": null,
       "order": null,
       "overflow": null,
       "overflow_x": null,
       "overflow_y": null,
       "padding": null,
       "right": null,
       "top": null,
       "visibility": null,
       "width": null
      }
     },
     "aabfde627bea4be98f42b3492ef96029": {
      "model_module": "@jupyter-widgets/base",
      "model_module_version": "1.2.0",
      "model_name": "LayoutModel",
      "state": {
       "_model_module": "@jupyter-widgets/base",
       "_model_module_version": "1.2.0",
       "_model_name": "LayoutModel",
       "_view_count": null,
       "_view_module": "@jupyter-widgets/base",
       "_view_module_version": "1.2.0",
       "_view_name": "LayoutView",
       "align_content": null,
       "align_items": null,
       "align_self": null,
       "border": null,
       "bottom": null,
       "display": null,
       "flex": null,
       "flex_flow": null,
       "grid_area": null,
       "grid_auto_columns": null,
       "grid_auto_flow": null,
       "grid_auto_rows": null,
       "grid_column": null,
       "grid_gap": null,
       "grid_row": null,
       "grid_template_areas": null,
       "grid_template_columns": null,
       "grid_template_rows": null,
       "height": null,
       "justify_content": null,
       "justify_items": null,
       "left": null,
       "margin": null,
       "max_height": null,
       "max_width": null,
       "min_height": null,
       "min_width": null,
       "object_fit": null,
       "object_position": null,
       "order": null,
       "overflow": null,
       "overflow_x": null,
       "overflow_y": null,
       "padding": null,
       "right": null,
       "top": null,
       "visibility": null,
       "width": null
      }
     },
     "b0d1a6493c6143fbaa551acf9a92df39": {
      "model_module": "@jupyter-widgets/controls",
      "model_module_version": "1.5.0",
      "model_name": "HTMLModel",
      "state": {
       "_dom_classes": [],
       "_model_module": "@jupyter-widgets/controls",
       "_model_module_version": "1.5.0",
       "_model_name": "HTMLModel",
       "_view_count": null,
       "_view_module": "@jupyter-widgets/controls",
       "_view_module_version": "1.5.0",
       "_view_name": "HTMLView",
       "description": "",
       "description_tooltip": null,
       "layout": "IPY_MODEL_aabfde627bea4be98f42b3492ef96029",
       "placeholder": "​",
       "style": "IPY_MODEL_6e6cf6112de740c28400d43c052444de",
       "value": "100%"
      }
     }
    },
    "version_major": 2,
    "version_minor": 0
   }
  }
 },
 "nbformat": 4,
 "nbformat_minor": 5
}
