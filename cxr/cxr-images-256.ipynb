{
 "cells": [
  {
   "cell_type": "code",
   "execution_count": 1,
   "id": "667e4b68",
   "metadata": {
    "_cell_guid": "b1076dfc-b9ad-4769-8c92-a6c4dae69d19",
    "_uuid": "8f2839f25d086af736a60e9eeb907d3b93b6e0e5",
    "execution": {
     "iopub.execute_input": "2022-04-25T08:03:08.659939Z",
     "iopub.status.busy": "2022-04-25T08:03:08.659574Z",
     "iopub.status.idle": "2022-04-25T08:03:08.889680Z",
     "shell.execute_reply": "2022-04-25T08:03:08.888662Z"
    },
    "papermill": {
     "duration": 0.241235,
     "end_time": "2022-04-25T08:03:08.892331",
     "exception": false,
     "start_time": "2022-04-25T08:03:08.651096",
     "status": "completed"
    },
    "tags": []
   },
   "outputs": [],
   "source": [
    "import os\n",
    "import cv2\n",
    "import numpy as np"
   ]
  },
  {
   "cell_type": "code",
   "execution_count": 2,
   "id": "ce4d1cef",
   "metadata": {
    "execution": {
     "iopub.execute_input": "2022-04-25T08:03:08.906528Z",
     "iopub.status.busy": "2022-04-25T08:03:08.906225Z",
     "iopub.status.idle": "2022-04-25T08:03:08.920594Z",
     "shell.execute_reply": "2022-04-25T08:03:08.919627Z"
    },
    "papermill": {
     "duration": 0.024219,
     "end_time": "2022-04-25T08:03:08.922733",
     "exception": false,
     "start_time": "2022-04-25T08:03:08.898514",
     "status": "completed"
    },
    "tags": []
   },
   "outputs": [],
   "source": [
    "def breaker(num: int = 50, char: str = \"*\") -> None:\n",
    "    print(\"\\n\" + num*char + \"\\n\")\n",
    "\n",
    "\n",
    "def preprocess(image: np.ndarray, size: int) -> np.ndarray:\n",
    "    return cv2.resize(src=cv2.cvtColor(src=image, code=cv2.COLOR_BGR2RGB), dsize=(size, size), interpolation=cv2.INTER_AREA)\n",
    "\n",
    "\n",
    "def get_images(path: str, names: np.ndarray, size: int) -> np.ndarray:\n",
    "    images = np.zeros((len(names), size, size, 3), dtype=np.uint8)\n",
    "    \n",
    "    i = 0\n",
    "    for name in names:\n",
    "        images[i] = preprocess(cv2.imread(os.path.join(path, name), cv2.IMREAD_COLOR), size)\n",
    "        i += 1\n",
    "    return images\n",
    "\n",
    "\n",
    "def save(train_images: np.ndarray, \n",
    "         test_images: np.ndarray, \n",
    "         train_targets: np.ndarray,\n",
    "         test_targets: np.ndarray, \n",
    "         size: int) -> None:\n",
    "    np.save(f\"train_images_{size}.npy\", train_images)\n",
    "    np.save(f\"test_images_{size}.npy\", test_images)\n",
    "    np.save(f\"train_targets_{size}.npy\", train_targets)\n",
    "    np.save(f\"test_targets_{size}.npy\", test_targets)\n",
    "\n",
    "    \n",
    "\n",
    "def get_statistics(images: np.ndarray, size: int) -> None:\n",
    "    print(f\"Mean {size}x{size}\\n\")\n",
    "    print(f\"Red Channel Mean   {size} : {images[:, :, :, 0].mean() / 255:.5f}\")\n",
    "    print(f\"Green Channel Mean {size} : {images[:, :, :, 1].mean() / 255:.5f}\")\n",
    "    print(f\"Blue Channel Mean  {size} : {images[:, :, :, 2].mean() / 255:.5f}\")\n",
    "    print(\"\")\n",
    "    print(f\"Standard Deviation {size}x{size}\\n\")\n",
    "    print(f\"Red Channel Std    {size} : {images[:, :, :, 0].std() / 255:.5f}\")\n",
    "    print(f\"Green Channel Std  {size} : {images[:, :, :, 1].std() / 255:.5f}\")\n",
    "    print(f\"Blue Channel Std   {size} : {images[:, :, :, 2].std() / 255:.5f}\")"
   ]
  },
  {
   "cell_type": "code",
   "execution_count": 3,
   "id": "6cdfead6",
   "metadata": {
    "execution": {
     "iopub.execute_input": "2022-04-25T08:03:08.936051Z",
     "iopub.status.busy": "2022-04-25T08:03:08.935233Z",
     "iopub.status.idle": "2022-04-25T08:03:09.175946Z",
     "shell.execute_reply": "2022-04-25T08:03:09.174942Z"
    },
    "papermill": {
     "duration": 0.249846,
     "end_time": "2022-04-25T08:03:09.178339",
     "exception": false,
     "start_time": "2022-04-25T08:03:08.928493",
     "status": "completed"
    },
    "tags": []
   },
   "outputs": [],
   "source": [
    "sizes = [256]\n",
    "\n",
    "train_filenames_pneumonia = os.listdir(\"../input/chest-xray-pneumonia/chest_xray/train/PNEUMONIA\")\n",
    "train_filenames_normal    = os.listdir(\"../input/chest-xray-pneumonia/chest_xray/train/NORMAL\")\n",
    "\n",
    "valid_filenames_pneumonia = os.listdir(\"../input/chest-xray-pneumonia/chest_xray/val/PNEUMONIA\")\n",
    "valid_filenames_normal    = os.listdir(\"../input/chest-xray-pneumonia/chest_xray/val/NORMAL\")\n",
    "\n",
    "test_filenames_pneumonia = os.listdir(\"../input/chest-xray-pneumonia/chest_xray/test/PNEUMONIA\")\n",
    "test_filenames_normal    = os.listdir(\"../input/chest-xray-pneumonia/chest_xray/test/NORMAL\")"
   ]
  },
  {
   "cell_type": "code",
   "execution_count": 4,
   "id": "cb92925a",
   "metadata": {
    "execution": {
     "iopub.execute_input": "2022-04-25T08:03:09.191541Z",
     "iopub.status.busy": "2022-04-25T08:03:09.191245Z",
     "iopub.status.idle": "2022-04-25T08:06:10.318104Z",
     "shell.execute_reply": "2022-04-25T08:06:10.316749Z"
    },
    "papermill": {
     "duration": 181.136408,
     "end_time": "2022-04-25T08:06:10.320603",
     "exception": false,
     "start_time": "2022-04-25T08:03:09.184195",
     "status": "completed"
    },
    "tags": []
   },
   "outputs": [
    {
     "name": "stdout",
     "output_type": "stream",
     "text": [
      "\n",
      "**************************************************\n",
      "\n",
      "Mean 256x256\n",
      "\n",
      "Red Channel Mean   256 : 0.48232\n",
      "Green Channel Mean 256 : 0.48232\n",
      "Blue Channel Mean  256 : 0.48232\n",
      "\n",
      "Standard Deviation 256x256\n",
      "\n",
      "Red Channel Std    256 : 0.23672\n",
      "Green Channel Std  256 : 0.23672\n",
      "Blue Channel Std   256 : 0.23672\n",
      "\n",
      "**************************************************\n",
      "\n"
     ]
    }
   ],
   "source": [
    "breaker()\n",
    "for size in sizes:\n",
    "\n",
    "    train_pneumonia_images = get_images(\"../input/chest-xray-pneumonia/chest_xray/train/PNEUMONIA\", \n",
    "                                        train_filenames_pneumonia, size)\n",
    "    train_normal_images    = get_images(\"../input/chest-xray-pneumonia/chest_xray/train/NORMAL\", \n",
    "                                        train_filenames_normal, size)\n",
    "\n",
    "    valid_pneumonia_images = get_images(\"../input/chest-xray-pneumonia/chest_xray/val/PNEUMONIA\", \n",
    "                                        valid_filenames_pneumonia, size)\n",
    "    valid_normal_images    = get_images(\"../input/chest-xray-pneumonia/chest_xray/val/NORMAL\", \n",
    "                                        valid_filenames_normal, size)\n",
    "\n",
    "    test_pneumonia_images = get_images(\"../input/chest-xray-pneumonia/chest_xray/test/PNEUMONIA\", \n",
    "                                        test_filenames_pneumonia, size)\n",
    "    test_normal_images    = get_images(\"../input/chest-xray-pneumonia/chest_xray/test/NORMAL\", \n",
    "                                        test_filenames_normal, size)\n",
    "    \n",
    "    train_pneumonia_images = np.concatenate((train_pneumonia_images, valid_pneumonia_images), axis=0)\n",
    "    train_normal_images    = np.concatenate((train_normal_images, valid_normal_images), axis=0)\n",
    "    \n",
    "    train_images = np.concatenate((train_pneumonia_images, train_normal_images), axis=0)\n",
    "    test_images  = np.concatenate((test_pneumonia_images, test_normal_images), axis=0)\n",
    "    \n",
    "    train_targets = np.concatenate((np.ones(len(train_pneumonia_images, )), np.zeros(len(train_normal_images, ))), axis=0)\n",
    "    test_targets  = np.concatenate((np.ones(len(test_pneumonia_images, )), np.zeros(len(test_normal_images, ))), axis=0)\n",
    "\n",
    "    save(train_images, test_images, train_targets, test_targets, size)\n",
    "    get_statistics(train_images, size)\n",
    "    breaker()"
   ]
  }
 ],
 "metadata": {
  "kernelspec": {
   "display_name": "Python 3",
   "language": "python",
   "name": "python3"
  },
  "language_info": {
   "codemirror_mode": {
    "name": "ipython",
    "version": 3
   },
   "file_extension": ".py",
   "mimetype": "text/x-python",
   "name": "python",
   "nbconvert_exporter": "python",
   "pygments_lexer": "ipython3",
   "version": "3.7.12"
  },
  "papermill": {
   "default_parameters": {},
   "duration": 192.727442,
   "end_time": "2022-04-25T08:06:11.055754",
   "environment_variables": {},
   "exception": null,
   "input_path": "__notebook__.ipynb",
   "output_path": "__notebook__.ipynb",
   "parameters": {},
   "start_time": "2022-04-25T08:02:58.328312",
   "version": "2.3.4"
  }
 },
 "nbformat": 4,
 "nbformat_minor": 5
}
