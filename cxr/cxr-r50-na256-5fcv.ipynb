{
 "cells": [
  {
   "cell_type": "markdown",
   "id": "013eed04",
   "metadata": {
    "_cell_guid": "b1076dfc-b9ad-4769-8c92-a6c4dae69d19",
    "_uuid": "8f2839f25d086af736a60e9eeb907d3b93b6e0e5",
    "papermill": {
     "duration": 0.032974,
     "end_time": "2022-04-25T11:03:12.737756",
     "exception": false,
     "start_time": "2022-04-25T11:03:12.704782",
     "status": "completed"
    },
    "tags": []
   },
   "source": [
    "### Library Imports"
   ]
  },
  {
   "cell_type": "code",
   "execution_count": 1,
   "id": "2842cb1e",
   "metadata": {
    "execution": {
     "iopub.execute_input": "2022-04-25T11:03:12.800625Z",
     "iopub.status.busy": "2022-04-25T11:03:12.799849Z",
     "iopub.status.idle": "2022-04-25T11:03:15.243146Z",
     "shell.execute_reply": "2022-04-25T11:03:15.243660Z",
     "shell.execute_reply.started": "2022-04-09T01:18:45.162484Z"
    },
    "papermill": {
     "duration": 2.482545,
     "end_time": "2022-04-25T11:03:15.243938",
     "exception": false,
     "start_time": "2022-04-25T11:03:12.761393",
     "status": "completed"
    },
    "tags": []
   },
   "outputs": [],
   "source": [
    "import os\n",
    "import re\n",
    "import torch\n",
    "import numpy as np\n",
    "import pandas as pd\n",
    "import matplotlib.pyplot as plt\n",
    "\n",
    "from time import time\n",
    "from torch import nn, optim\n",
    "from torch.utils.data import Dataset\n",
    "from torch.utils.data import DataLoader as DL\n",
    "from torchvision import models, transforms\n",
    "\n",
    "from sklearn.model_selection import KFold\n",
    "from sklearn.preprocessing import LabelEncoder\n",
    "from sklearn.metrics import accuracy_score, \\\n",
    "                            precision_recall_fscore_support, \\\n",
    "                            roc_auc_score, \\\n",
    "                            classification_report, \\\n",
    "                            confusion_matrix"
   ]
  },
  {
   "cell_type": "markdown",
   "id": "e5d69014",
   "metadata": {
    "papermill": {
     "duration": 0.012411,
     "end_time": "2022-04-25T11:03:15.269209",
     "exception": false,
     "start_time": "2022-04-25T11:03:15.256798",
     "status": "completed"
    },
    "tags": []
   },
   "source": [
    "### **Utilities**"
   ]
  },
  {
   "cell_type": "code",
   "execution_count": 2,
   "id": "ba3903fc",
   "metadata": {
    "execution": {
     "iopub.execute_input": "2022-04-25T11:03:15.308627Z",
     "iopub.status.busy": "2022-04-25T11:03:15.297120Z",
     "iopub.status.idle": "2022-04-25T11:03:15.310838Z",
     "shell.execute_reply": "2022-04-25T11:03:15.310439Z",
     "shell.execute_reply.started": "2022-04-09T01:18:47.512362Z"
    },
    "papermill": {
     "duration": 0.029108,
     "end_time": "2022-04-25T11:03:15.310953",
     "exception": false,
     "start_time": "2022-04-25T11:03:15.281845",
     "status": "completed"
    },
    "tags": []
   },
   "outputs": [],
   "source": [
    "SEED = 42\n",
    "SIZE = 256\n",
    "\n",
    "def breaker(num: int=50, char: str=\"*\") -> None:\n",
    "    print(\"\\n\" + num*char + \"\\n\")\n",
    "\n",
    "\n",
    "def show_graphs(L: list, A: list) -> None:\n",
    "    TL, VL, TA, VA = [], [], [], []\n",
    "    for i in range(len(L)):\n",
    "        TL.append(L[i][\"train\"])\n",
    "        VL.append(L[i][\"valid\"])\n",
    "        TA.append(A[i][\"train\"])\n",
    "        VA.append(A[i][\"valid\"])\n",
    "    x_Axis = np.arange(1, len(TL) + 1)\n",
    "    plt.figure(figsize=(8, 6))\n",
    "    plt.subplot(1, 2, 1)\n",
    "    plt.plot(x_Axis, TL, \"r\", label=\"Train\")\n",
    "    plt.plot(x_Axis, VL, \"b\", label=\"Valid\")\n",
    "    plt.legend()\n",
    "    plt.grid()\n",
    "    plt.title(\"Loss Graph\")\n",
    "    plt.subplot(1, 2, 2)\n",
    "    plt.plot(x_Axis, TA, \"r\", label=\"Train\")\n",
    "    plt.plot(x_Axis, VA, \"b\", label=\"Valid\")\n",
    "    plt.legend()\n",
    "    plt.grid()\n",
    "    plt.title(\"Accuracy Graph\")\n",
    "    plt.show()\n",
    "\n",
    "    \n",
    "def get_scores(y_true: np.ndarray, y_pred: np.ndarray) -> tuple:\n",
    "    accuracy = accuracy_score(y_pred, y_true)\n",
    "    try:\n",
    "        auc = roc_auc_score(y_pred, y_true)\n",
    "    except:\n",
    "        auc = 0\n",
    "    precision, recall, f_score, _ = precision_recall_fscore_support(y_pred, y_true)\n",
    "\n",
    "    return accuracy, auc, precision, recall, f_score\n",
    "\n",
    "\n",
    "def print_scores(accuracy: float, auc: float, precision: np.ndarray, recall: np.ndarray, f_score: np.ndarray) -> None:\n",
    "    print(f\"Accuracy  : {accuracy:.5f}\")\n",
    "    print(f\"ROC-AUC   : {auc:.5f}\")\n",
    "    print(f\"Precision : {precision}\")\n",
    "    print(f\"Recall    : {recall}\")\n",
    "    print(f\"F-Score   : {f_score}\")"
   ]
  },
  {
   "cell_type": "markdown",
   "id": "c64b4f81",
   "metadata": {
    "papermill": {
     "duration": 0.012436,
     "end_time": "2022-04-25T11:03:15.335937",
     "exception": false,
     "start_time": "2022-04-25T11:03:15.323501",
     "status": "completed"
    },
    "tags": []
   },
   "source": [
    "### **Configuration**"
   ]
  },
  {
   "cell_type": "code",
   "execution_count": 3,
   "id": "16cf8965",
   "metadata": {
    "execution": {
     "iopub.execute_input": "2022-04-25T11:03:15.425070Z",
     "iopub.status.busy": "2022-04-25T11:03:15.424290Z",
     "iopub.status.idle": "2022-04-25T11:03:15.426585Z",
     "shell.execute_reply": "2022-04-25T11:03:15.427003Z",
     "shell.execute_reply.started": "2022-04-09T01:36:52.976989Z"
    },
    "papermill": {
     "duration": 0.078162,
     "end_time": "2022-04-25T11:03:15.427144",
     "exception": false,
     "start_time": "2022-04-25T11:03:15.348982",
     "status": "completed"
    },
    "tags": []
   },
   "outputs": [],
   "source": [
    "class CFG(object):\n",
    "    def __init__(self, \n",
    "                 seed: int = 42,\n",
    "                 n_splits: int = 5,\n",
    "                 batch_size: int = 16,\n",
    "                 epochs: int = 25,\n",
    "                 early_stopping: int = 5,\n",
    "                 lr: float = 1e-4,\n",
    "                 wd: float = 0.0,\n",
    "                 max_lr: float = 1e-3,\n",
    "                 pct_start: float = 0.2,\n",
    "                 steps_per_epoch: int = 100,\n",
    "                 div_factor: int = 1e3, \n",
    "                 final_div_factor: float = 1e3,\n",
    "                 ):\n",
    "        \n",
    "        self.seed = seed\n",
    "        self.n_splits = n_splits\n",
    "        self.batch_size = batch_size\n",
    "        self.epochs = epochs\n",
    "        self.early_stopping = early_stopping\n",
    "        self.lr = lr\n",
    "        self.wd = wd\n",
    "        self.max_lr = max_lr\n",
    "        self.pct_start = pct_start\n",
    "        self.steps_per_epoch = steps_per_epoch\n",
    "        self.div_factor = div_factor\n",
    "        self.final_div_factor = final_div_factor\n",
    "        self.device = torch.device(\"cuda\" if torch.cuda.is_available() else \"cpu\")\n",
    "        self.transform = transforms.Compose([transforms.ToTensor(),\n",
    "                                transforms.Normalize([0.48232, 0.48232, 0.48232],\n",
    "                                                     [0.23672, 0.23672, 0.23672]),\n",
    "                                ])\n",
    "        self.save_path = \"saves\"\n",
    "        if not os.path.exists(self.save_path): os.makedirs(self.save_path)\n",
    "    \n",
    "cfg = CFG(seed=SEED)"
   ]
  },
  {
   "cell_type": "markdown",
   "id": "72815634",
   "metadata": {
    "papermill": {
     "duration": 0.012237,
     "end_time": "2022-04-25T11:03:15.451860",
     "exception": false,
     "start_time": "2022-04-25T11:03:15.439623",
     "status": "completed"
    },
    "tags": []
   },
   "source": [
    "### **Dataset Template**"
   ]
  },
  {
   "cell_type": "code",
   "execution_count": 4,
   "id": "befd1a1a",
   "metadata": {
    "execution": {
     "iopub.execute_input": "2022-04-25T11:03:15.484411Z",
     "iopub.status.busy": "2022-04-25T11:03:15.482867Z",
     "iopub.status.idle": "2022-04-25T11:03:15.485035Z",
     "shell.execute_reply": "2022-04-25T11:03:15.485488Z",
     "shell.execute_reply.started": "2022-04-09T01:18:47.593512Z"
    },
    "papermill": {
     "duration": 0.021109,
     "end_time": "2022-04-25T11:03:15.485609",
     "exception": false,
     "start_time": "2022-04-25T11:03:15.464500",
     "status": "completed"
    },
    "tags": []
   },
   "outputs": [],
   "source": [
    "class DS(Dataset):\n",
    "    def __init__(self, images: np.ndarray, labels: np.ndarray = None, transform=None):\n",
    "        self.images = images\n",
    "        self.labels = labels\n",
    "        self.transform = transform\n",
    "    \n",
    "    def __len__(self):\n",
    "        return self.images.shape[0]\n",
    "    \n",
    "    def __getitem__(self, idx):\n",
    "        if self.labels is not None:\n",
    "            return self.transform(self.images[idx]), torch.FloatTensor(self.labels[idx])\n",
    "        else:\n",
    "            return self.transform(self.images[idx])"
   ]
  },
  {
   "cell_type": "markdown",
   "id": "c974c310",
   "metadata": {
    "papermill": {
     "duration": 0.012634,
     "end_time": "2022-04-25T11:03:15.510793",
     "exception": false,
     "start_time": "2022-04-25T11:03:15.498159",
     "status": "completed"
    },
    "tags": []
   },
   "source": [
    "### **Model**"
   ]
  },
  {
   "cell_type": "code",
   "execution_count": 5,
   "id": "c9f11ed1",
   "metadata": {
    "execution": {
     "iopub.execute_input": "2022-04-25T11:03:15.541670Z",
     "iopub.status.busy": "2022-04-25T11:03:15.540133Z",
     "iopub.status.idle": "2022-04-25T11:03:15.542299Z",
     "shell.execute_reply": "2022-04-25T11:03:15.542697Z",
     "shell.execute_reply.started": "2022-04-09T01:18:47.606516Z"
    },
    "papermill": {
     "duration": 0.019635,
     "end_time": "2022-04-25T11:03:15.542808",
     "exception": false,
     "start_time": "2022-04-25T11:03:15.523173",
     "status": "completed"
    },
    "tags": []
   },
   "outputs": [],
   "source": [
    "class Model(nn.Module):\n",
    "    def __init__(self):\n",
    "        super(Model, self).__init__()\n",
    "\n",
    "        self.model = models.resnet50(pretrained=True, progress=True)\n",
    "        self.model.fc = nn.Linear(in_features=self.model.fc.in_features, out_features=1)\n",
    "\n",
    "    def forward(self, x):\n",
    "        return self.model(x)"
   ]
  },
  {
   "cell_type": "markdown",
   "id": "a22d022f",
   "metadata": {
    "papermill": {
     "duration": 0.012253,
     "end_time": "2022-04-25T11:03:15.567532",
     "exception": false,
     "start_time": "2022-04-25T11:03:15.555279",
     "status": "completed"
    },
    "tags": []
   },
   "source": [
    "### Fit and Predict Helper"
   ]
  },
  {
   "cell_type": "code",
   "execution_count": 6,
   "id": "f36c606f",
   "metadata": {
    "execution": {
     "iopub.execute_input": "2022-04-25T11:03:15.615477Z",
     "iopub.status.busy": "2022-04-25T11:03:15.614656Z",
     "iopub.status.idle": "2022-04-25T11:03:15.616589Z",
     "shell.execute_reply": "2022-04-25T11:03:15.616969Z",
     "shell.execute_reply.started": "2022-04-09T01:18:47.615986Z"
    },
    "papermill": {
     "duration": 0.037215,
     "end_time": "2022-04-25T11:03:15.617108",
     "exception": false,
     "start_time": "2022-04-25T11:03:15.579893",
     "status": "completed"
    },
    "tags": []
   },
   "outputs": [],
   "source": [
    "def fit(model=None, \n",
    "        optimizer=None, \n",
    "        scheduler=None, \n",
    "        epochs=None, \n",
    "        early_stopping_patience=None, \n",
    "        dataloaders=None, \n",
    "        fold=None, \n",
    "        save_path=None, \n",
    "        device=None,\n",
    "        verbose=False) -> tuple:\n",
    "    \n",
    "    def get_accuracy(y_pred, y_true):\n",
    "        y_pred = torch.sigmoid(y_pred)\n",
    "        \n",
    "        y_pred[y_pred > 0.5] = 1\n",
    "        y_pred[y_pred <= 0.5] = 0\n",
    "        \n",
    "        return torch.count_nonzero(y_pred == y_true).item() / len(y_pred)\n",
    "    \n",
    "    if verbose:\n",
    "        breaker()\n",
    "        if fold: print(f\"Training Fold {fold}...\")\n",
    "        else: print(\"Training ...\")\n",
    "        breaker()\n",
    "        \n",
    "    bestLoss, bestAccs = {\"train\" : np.inf, \"valid\" : np.inf}, {\"train\" : 0.0, \"valid\" : 0.0}\n",
    "    Losses, LRs, Accuracies = [], [], []\n",
    "    if fold: name = f\"state_fold_{fold}.pt\"\n",
    "    else: name = \"state.pt\"\n",
    "\n",
    "    start_time = time()\n",
    "    for e in range(epochs):\n",
    "        e_st = time()\n",
    "        epochLoss, epochAccs = {\"train\" : 0.0, \"valid\" : 0.0}, {\"train\" : 0.0, \"valid\" : 0.0}\n",
    "\n",
    "        for phase in [\"train\", \"valid\"]:\n",
    "            if phase == \"train\":\n",
    "                model.train()\n",
    "            else:\n",
    "                model.eval()\n",
    "            \n",
    "            lossPerPass, accsPerPass = [], []\n",
    "\n",
    "            for X, y in dataloaders[phase]:\n",
    "                X, y = X.to(device), y.to(device)\n",
    "\n",
    "                optimizer.zero_grad()\n",
    "                with torch.set_grad_enabled(phase == \"train\"):\n",
    "                    output = model(X)\n",
    "                    loss = torch.nn.BCEWithLogitsLoss()(output, y)\n",
    "                    if phase == \"train\":\n",
    "                        loss.backward()\n",
    "                        optimizer.step()\n",
    "                        if scheduler: scheduler.step()\n",
    "                lossPerPass.append(loss.item())\n",
    "                accsPerPass.append(get_accuracy(output, y))\n",
    "            epochLoss[phase] = np.mean(np.array(lossPerPass))\n",
    "            epochAccs[phase] = np.mean(np.array(accsPerPass))\n",
    "        LRs.append(scheduler.get_last_lr())\n",
    "        Losses.append(epochLoss)\n",
    "        Accuracies.append(epochAccs)\n",
    "        \n",
    "        if early_stopping_patience:\n",
    "            if epochLoss[\"valid\"] < bestLoss[\"valid\"]:\n",
    "                bestLoss = epochLoss\n",
    "                BLE = e + 1\n",
    "                torch.save({\"model_state_dict\"     : model.state_dict(),\n",
    "                            \"optim_state_dict\"     : optimizer.state_dict()},\n",
    "                           os.path.join(save_path, name))\n",
    "                early_stopping_step = 0\n",
    "            else:\n",
    "                early_stopping_step += 1\n",
    "                if early_stopping_step > early_stopping_patience:\n",
    "                    print(\"\\nEarly Stopping at Epoch {}\".format(e + 1))\n",
    "                    break\n",
    "        \n",
    "        if epochLoss[\"valid\"] < bestLoss[\"valid\"]:\n",
    "            bestLoss = epochLoss\n",
    "            BLE = e + 1\n",
    "            torch.save({\"model_state_dict\"     : model.state_dict(),\n",
    "                        \"optim_state_dict\"     : optimizer.state_dict()},\n",
    "                        os.path.join(save_path, name))\n",
    "        \n",
    "        if epochAccs[\"valid\"] > bestAccs[\"valid\"]:\n",
    "            bestAccs = epochAccs\n",
    "            BAE = e + 1\n",
    "        \n",
    "        # if scheduler: scheduler.step(epochLoss[\"valid\"])\n",
    "        \n",
    "        if verbose:\n",
    "            print(\"Epoch: {} | Train Loss: {:.5f} | Valid Loss: {:.5f} | Train Accs: {:.5f} | Valid Accs: {:.5f} | Time: {:.2f} seconds\".format(e+1, \n",
    "                                                                       epochLoss[\"train\"], epochLoss[\"valid\"], \n",
    "                                                                       epochAccs[\"train\"], epochAccs[\"valid\"], \n",
    "                                                                       time()-e_st))\n",
    "\n",
    "    if verbose:                                           \n",
    "        breaker()\n",
    "        print(f\"Best Validation Loss at Epoch {BLE}\")\n",
    "        breaker()\n",
    "        print(f\"Best Validation Accs at Epoch {BAE}\")\n",
    "        breaker()\n",
    "        print(\"Time Taken [{} Epochs] : {:.2f} minutes\".format(len(Losses), (time()-start_time)/60))\n",
    "    \n",
    "    return Losses, Accuracies, LRs, BLE, BAE, name\n",
    "\n",
    "\n",
    "def predict(model=None, dataloader=None, path=None, device=None) -> np.ndarray:\n",
    "    model.load_state_dict(torch.load(path, map_location=device)[\"model_state_dict\"])\n",
    "    model.to(device)    \n",
    "    model.eval()\n",
    "    \n",
    "    y_pred = torch.zeros(1, 1).to(device)\n",
    "    \n",
    "    for X in dataloader:\n",
    "        X = X.to(device)\n",
    "        with torch.no_grad():\n",
    "            output = torch.sigmoid(model(X))\n",
    "        y_pred = torch.cat((y_pred, output.view(-1, 1)), dim=0)\n",
    "    \n",
    "    y_pred[y_pred > 0.5] = 1\n",
    "    y_pred[y_pred <= 0.5] = 0\n",
    "    \n",
    "    return y_pred[1:].detach().cpu().numpy()"
   ]
  },
  {
   "cell_type": "markdown",
   "id": "c7d5a4b6",
   "metadata": {
    "papermill": {
     "duration": 0.012259,
     "end_time": "2022-04-25T11:03:15.641676",
     "exception": false,
     "start_time": "2022-04-25T11:03:15.629417",
     "status": "completed"
    },
    "tags": []
   },
   "source": [
    "### **Train**"
   ]
  },
  {
   "cell_type": "code",
   "execution_count": 7,
   "id": "eb56fb64",
   "metadata": {
    "execution": {
     "iopub.execute_input": "2022-04-25T11:03:15.669965Z",
     "iopub.status.busy": "2022-04-25T11:03:15.668039Z",
     "iopub.status.idle": "2022-04-25T11:03:24.050395Z",
     "shell.execute_reply": "2022-04-25T11:03:24.049860Z",
     "shell.execute_reply.started": "2022-04-09T01:18:47.643848Z"
    },
    "papermill": {
     "duration": 8.396475,
     "end_time": "2022-04-25T11:03:24.050541",
     "exception": false,
     "start_time": "2022-04-25T11:03:15.654066",
     "status": "completed"
    },
    "tags": []
   },
   "outputs": [],
   "source": [
    "images = np.load(f\"../input/cxr-images-256/train_images_{SIZE}.npy\")\n",
    "labels = np.load(f\"../input/cxr-images-256/train_targets_{SIZE}.npy\")"
   ]
  },
  {
   "cell_type": "code",
   "execution_count": 8,
   "id": "fb132d78",
   "metadata": {
    "execution": {
     "iopub.execute_input": "2022-04-25T11:03:24.091705Z",
     "iopub.status.busy": "2022-04-25T11:03:24.090053Z",
     "iopub.status.idle": "2022-04-25T12:02:41.651319Z",
     "shell.execute_reply": "2022-04-25T12:02:41.651732Z",
     "shell.execute_reply.started": "2022-04-09T01:36:59.635267Z"
    },
    "papermill": {
     "duration": 3557.58824,
     "end_time": "2022-04-25T12:02:41.651892",
     "exception": false,
     "start_time": "2022-04-25T11:03:24.063652",
     "status": "completed"
    },
    "tags": []
   },
   "outputs": [
    {
     "name": "stderr",
     "output_type": "stream",
     "text": [
      "Downloading: \"https://download.pytorch.org/models/resnet50-0676ba61.pth\" to /root/.cache/torch/hub/checkpoints/resnet50-0676ba61.pth\n"
     ]
    },
    {
     "data": {
      "application/vnd.jupyter.widget-view+json": {
       "model_id": "91b88b91984a4c62a51974810f674235",
       "version_major": 2,
       "version_minor": 0
      },
      "text/plain": [
       "  0%|          | 0.00/97.8M [00:00<?, ?B/s]"
      ]
     },
     "metadata": {},
     "output_type": "display_data"
    },
    {
     "name": "stdout",
     "output_type": "stream",
     "text": [
      "\n",
      "**************************************************\n",
      "\n",
      "Training Fold 1...\n",
      "\n",
      "**************************************************\n",
      "\n",
      "Epoch: 1 | Train Loss: 0.26418 | Valid Loss: 0.06093 | Train Accs: 0.91317 | Valid Accs: 0.97321 | Time: 47.96 seconds\n",
      "Epoch: 2 | Train Loss: 0.09240 | Valid Loss: 2.69836 | Train Accs: 0.96422 | Valid Accs: 0.64205 | Time: 41.70 seconds\n",
      "Epoch: 3 | Train Loss: 0.11206 | Valid Loss: 0.10031 | Train Accs: 0.95611 | Valid Accs: 0.96090 | Time: 41.79 seconds\n",
      "Epoch: 4 | Train Loss: 0.11560 | Valid Loss: 0.14587 | Train Accs: 0.95849 | Valid Accs: 0.94021 | Time: 41.73 seconds\n",
      "Epoch: 5 | Train Loss: 0.07768 | Valid Loss: 0.07660 | Train Accs: 0.97090 | Valid Accs: 0.97511 | Time: 41.85 seconds\n",
      "Epoch: 6 | Train Loss: 0.08086 | Valid Loss: 0.05110 | Train Accs: 0.97090 | Valid Accs: 0.98268 | Time: 42.22 seconds\n",
      "Epoch: 7 | Train Loss: 0.04731 | Valid Loss: 0.07787 | Train Accs: 0.98402 | Valid Accs: 0.96537 | Time: 41.50 seconds\n",
      "Epoch: 8 | Train Loss: 0.06651 | Valid Loss: 0.04592 | Train Accs: 0.97686 | Valid Accs: 0.98201 | Time: 42.36 seconds\n",
      "Epoch: 9 | Train Loss: 0.03141 | Valid Loss: 0.04307 | Train Accs: 0.99027 | Valid Accs: 0.98390 | Time: 42.23 seconds\n",
      "Epoch: 10 | Train Loss: 0.03693 | Valid Loss: 0.04196 | Train Accs: 0.98646 | Valid Accs: 0.98390 | Time: 42.19 seconds\n",
      "Epoch: 11 | Train Loss: 0.03137 | Valid Loss: 0.08158 | Train Accs: 0.98794 | Valid Accs: 0.97159 | Time: 41.45 seconds\n",
      "Epoch: 12 | Train Loss: 0.01661 | Valid Loss: 0.07129 | Train Accs: 0.99380 | Valid Accs: 0.98079 | Time: 41.47 seconds\n",
      "Epoch: 13 | Train Loss: 0.02014 | Valid Loss: 0.04330 | Train Accs: 0.99380 | Valid Accs: 0.98674 | Time: 41.50 seconds\n",
      "Epoch: 14 | Train Loss: 0.00842 | Valid Loss: 0.05291 | Train Accs: 0.99809 | Valid Accs: 0.98458 | Time: 41.59 seconds\n",
      "Epoch: 15 | Train Loss: 0.00660 | Valid Loss: 0.03560 | Train Accs: 0.99761 | Valid Accs: 0.98458 | Time: 42.23 seconds\n",
      "Epoch: 16 | Train Loss: 0.00389 | Valid Loss: 0.04788 | Train Accs: 0.99905 | Valid Accs: 0.98363 | Time: 41.53 seconds\n",
      "Epoch: 17 | Train Loss: 0.00292 | Valid Loss: 0.04695 | Train Accs: 0.99881 | Valid Accs: 0.98201 | Time: 41.53 seconds\n",
      "Epoch: 18 | Train Loss: 0.00111 | Valid Loss: 0.04526 | Train Accs: 1.00000 | Valid Accs: 0.97984 | Time: 41.42 seconds\n",
      "Epoch: 19 | Train Loss: 0.00122 | Valid Loss: 0.04590 | Train Accs: 1.00000 | Valid Accs: 0.97984 | Time: 41.60 seconds\n",
      "Epoch: 20 | Train Loss: 0.00142 | Valid Loss: 0.04965 | Train Accs: 0.99976 | Valid Accs: 0.98079 | Time: 41.49 seconds\n",
      "\n",
      "**************************************************\n",
      "\n",
      "Best Validation Loss at Epoch 15\n",
      "\n",
      "**************************************************\n",
      "\n",
      "Best Validation Accs at Epoch 13\n",
      "\n",
      "**************************************************\n",
      "\n",
      "Time Taken [20 Epochs] : 14.02 minutes\n",
      "\n",
      "**************************************************\n",
      "\n"
     ]
    },
    {
     "data": {
      "image/png": "[encoded data removed]",
      "text/plain": [
       "<Figure size 576x432 with 2 Axes>"
      ]
     },
     "metadata": {
      "needs_background": "light"
     },
     "output_type": "display_data"
    },
    {
     "name": "stdout",
     "output_type": "stream",
     "text": [
      "\n",
      "**************************************************\n",
      "\n",
      "Training Fold 2...\n",
      "\n",
      "**************************************************\n",
      "\n",
      "Epoch: 1 | Train Loss: 0.26584 | Valid Loss: 0.05835 | Train Accs: 0.91293 | Valid Accs: 0.97551 | Time: 41.88 seconds\n",
      "Epoch: 2 | Train Loss: 0.09644 | Valid Loss: 0.28356 | Train Accs: 0.96422 | Valid Accs: 0.91193 | Time: 41.23 seconds\n",
      "Epoch: 3 | Train Loss: 0.10409 | Valid Loss: 0.07157 | Train Accs: 0.95926 | Valid Accs: 0.97484 | Time: 41.25 seconds\n",
      "Epoch: 4 | Train Loss: 0.12070 | Valid Loss: 0.10332 | Train Accs: 0.95229 | Valid Accs: 0.95901 | Time: 41.32 seconds\n",
      "Epoch: 5 | Train Loss: 0.08443 | Valid Loss: 0.16244 | Train Accs: 0.96689 | Valid Accs: 0.93425 | Time: 41.16 seconds\n",
      "Epoch: 6 | Train Loss: 0.09410 | Valid Loss: 0.06209 | Train Accs: 0.96427 | Valid Accs: 0.97484 | Time: 41.18 seconds\n",
      "Epoch: 7 | Train Loss: 0.05997 | Valid Loss: 0.05206 | Train Accs: 0.98020 | Valid Accs: 0.98268 | Time: 41.85 seconds\n",
      "Epoch: 8 | Train Loss: 0.05047 | Valid Loss: 0.05431 | Train Accs: 0.98044 | Valid Accs: 0.98174 | Time: 41.49 seconds\n",
      "Epoch: 9 | Train Loss: 0.03431 | Valid Loss: 0.04665 | Train Accs: 0.98736 | Valid Accs: 0.98052 | Time: 41.93 seconds\n",
      "Epoch: 10 | Train Loss: 0.05765 | Valid Loss: 0.06215 | Train Accs: 0.97758 | Valid Accs: 0.97416 | Time: 41.39 seconds\n",
      "Epoch: 11 | Train Loss: 0.03268 | Valid Loss: 0.04630 | Train Accs: 0.98675 | Valid Accs: 0.98580 | Time: 41.87 seconds\n",
      "Epoch: 12 | Train Loss: 0.02605 | Valid Loss: 0.04436 | Train Accs: 0.98974 | Valid Accs: 0.98174 | Time: 42.16 seconds\n",
      "Epoch: 13 | Train Loss: 0.01889 | Valid Loss: 0.05728 | Train Accs: 0.99213 | Valid Accs: 0.97984 | Time: 41.34 seconds\n",
      "Epoch: 14 | Train Loss: 0.00883 | Valid Loss: 0.03975 | Train Accs: 0.99738 | Valid Accs: 0.98336 | Time: 41.86 seconds\n",
      "Epoch: 15 | Train Loss: 0.00485 | Valid Loss: 0.04009 | Train Accs: 0.99857 | Valid Accs: 0.98552 | Time: 41.27 seconds\n",
      "Epoch: 16 | Train Loss: 0.00340 | Valid Loss: 0.03798 | Train Accs: 0.99928 | Valid Accs: 0.98742 | Time: 42.13 seconds\n",
      "Epoch: 17 | Train Loss: 0.00167 | Valid Loss: 0.04103 | Train Accs: 1.00000 | Valid Accs: 0.98742 | Time: 41.52 seconds\n",
      "Epoch: 18 | Train Loss: 0.00153 | Valid Loss: 0.03783 | Train Accs: 0.99976 | Valid Accs: 0.98931 | Time: 41.89 seconds\n",
      "Epoch: 19 | Train Loss: 0.00121 | Valid Loss: 0.03692 | Train Accs: 0.99976 | Valid Accs: 0.99053 | Time: 41.90 seconds\n",
      "Epoch: 20 | Train Loss: 0.00105 | Valid Loss: 0.03644 | Train Accs: 1.00000 | Valid Accs: 0.98742 | Time: 41.89 seconds\n",
      "\n",
      "**************************************************\n",
      "\n",
      "Best Validation Loss at Epoch 20\n",
      "\n",
      "**************************************************\n",
      "\n",
      "Best Validation Accs at Epoch 19\n",
      "\n",
      "**************************************************\n",
      "\n",
      "Time Taken [20 Epochs] : 13.88 minutes\n",
      "\n",
      "**************************************************\n",
      "\n"
     ]
    },
    {
     "data": {
      "image/png": "[encoded data removed]",
      "text/plain": [
       "<Figure size 576x432 with 2 Axes>"
      ]
     },
     "metadata": {
      "needs_background": "light"
     },
     "output_type": "display_data"
    },
    {
     "name": "stdout",
     "output_type": "stream",
     "text": [
      "\n",
      "**************************************************\n",
      "\n",
      "Training Fold 3...\n",
      "\n",
      "**************************************************\n",
      "\n",
      "Epoch: 1 | Train Loss: 0.27097 | Valid Loss: 0.09731 | Train Accs: 0.90864 | Valid Accs: 0.96465 | Time: 41.63 seconds\n",
      "Epoch: 2 | Train Loss: 0.10831 | Valid Loss: 0.04535 | Train Accs: 0.96331 | Valid Accs: 0.98422 | Time: 41.89 seconds\n",
      "Epoch: 3 | Train Loss: 0.12839 | Valid Loss: 0.27131 | Train Accs: 0.94943 | Valid Accs: 0.88542 | Time: 41.30 seconds\n",
      "Epoch: 4 | Train Loss: 0.10934 | Valid Loss: 0.09916 | Train Accs: 0.95992 | Valid Accs: 0.96244 | Time: 41.14 seconds\n",
      "Epoch: 5 | Train Loss: 0.08369 | Valid Loss: 0.05282 | Train Accs: 0.96851 | Valid Accs: 0.97822 | Time: 41.19 seconds\n",
      "Epoch: 6 | Train Loss: 0.07074 | Valid Loss: 0.08216 | Train Accs: 0.97686 | Valid Accs: 0.96591 | Time: 41.20 seconds\n",
      "Epoch: 7 | Train Loss: 0.07151 | Valid Loss: 0.06031 | Train Accs: 0.97257 | Valid Accs: 0.98043 | Time: 41.26 seconds\n",
      "Epoch: 8 | Train Loss: 0.05442 | Valid Loss: 0.03430 | Train Accs: 0.97805 | Valid Accs: 0.98422 | Time: 41.81 seconds\n",
      "Epoch: 9 | Train Loss: 0.04275 | Valid Loss: 0.04671 | Train Accs: 0.98426 | Valid Accs: 0.98390 | Time: 41.18 seconds\n",
      "Epoch: 10 | Train Loss: 0.03943 | Valid Loss: 0.04296 | Train Accs: 0.98736 | Valid Accs: 0.98864 | Time: 41.20 seconds\n",
      "Epoch: 11 | Train Loss: 0.02298 | Valid Loss: 0.05547 | Train Accs: 0.99284 | Valid Accs: 0.97917 | Time: 41.27 seconds\n",
      "Epoch: 12 | Train Loss: 0.03076 | Valid Loss: 0.02752 | Train Accs: 0.98912 | Valid Accs: 0.98958 | Time: 41.94 seconds\n",
      "Epoch: 13 | Train Loss: 0.01884 | Valid Loss: 0.03264 | Train Accs: 0.99380 | Valid Accs: 0.98958 | Time: 41.04 seconds\n",
      "Epoch: 14 | Train Loss: 0.01536 | Valid Loss: 0.03338 | Train Accs: 0.99547 | Valid Accs: 0.98580 | Time: 41.16 seconds\n",
      "Epoch: 15 | Train Loss: 0.00402 | Valid Loss: 0.04912 | Train Accs: 0.99905 | Valid Accs: 0.99053 | Time: 41.31 seconds\n",
      "Epoch: 16 | Train Loss: 0.00474 | Valid Loss: 0.03269 | Train Accs: 0.99914 | Valid Accs: 0.98769 | Time: 41.16 seconds\n",
      "Epoch: 17 | Train Loss: 0.00293 | Valid Loss: 0.02965 | Train Accs: 0.99881 | Valid Accs: 0.98958 | Time: 41.13 seconds\n",
      "\n",
      "Early Stopping at Epoch 18\n",
      "\n",
      "**************************************************\n",
      "\n",
      "Best Validation Loss at Epoch 12\n",
      "\n",
      "**************************************************\n",
      "\n",
      "Best Validation Accs at Epoch 15\n",
      "\n",
      "**************************************************\n",
      "\n",
      "Time Taken [18 Epochs] : 12.40 minutes\n",
      "\n",
      "**************************************************\n",
      "\n"
     ]
    },
    {
     "data": {
      "image/png": "[encoded data removed]",
      "text/plain": [
       "<Figure size 576x432 with 2 Axes>"
      ]
     },
     "metadata": {
      "needs_background": "light"
     },
     "output_type": "display_data"
    },
    {
     "name": "stdout",
     "output_type": "stream",
     "text": [
      "\n",
      "**************************************************\n",
      "\n",
      "Training Fold 4...\n",
      "\n",
      "**************************************************\n",
      "\n",
      "Epoch: 1 | Train Loss: 0.26649 | Valid Loss: 0.10000 | Train Accs: 0.91031 | Valid Accs: 0.96338 | Time: 41.80 seconds\n",
      "Epoch: 2 | Train Loss: 0.10634 | Valid Loss: 0.06570 | Train Accs: 0.96178 | Valid Accs: 0.97727 | Time: 41.99 seconds\n",
      "Epoch: 3 | Train Loss: 0.09594 | Valid Loss: 0.05744 | Train Accs: 0.96374 | Valid Accs: 0.97727 | Time: 42.09 seconds\n",
      "Epoch: 4 | Train Loss: 0.11805 | Valid Loss: 0.92473 | Train Accs: 0.95358 | Valid Accs: 0.77115 | Time: 41.37 seconds\n",
      "Epoch: 5 | Train Loss: 0.08802 | Valid Loss: 0.04773 | Train Accs: 0.96899 | Valid Accs: 0.98390 | Time: 41.80 seconds\n",
      "Epoch: 6 | Train Loss: 0.07510 | Valid Loss: 0.03920 | Train Accs: 0.97114 | Valid Accs: 0.98201 | Time: 42.10 seconds\n",
      "Epoch: 7 | Train Loss: 0.07002 | Valid Loss: 0.04334 | Train Accs: 0.97495 | Valid Accs: 0.98674 | Time: 41.47 seconds\n",
      "Epoch: 8 | Train Loss: 0.04401 | Valid Loss: 0.03700 | Train Accs: 0.98316 | Valid Accs: 0.98674 | Time: 42.61 seconds\n",
      "Epoch: 9 | Train Loss: 0.03775 | Valid Loss: 0.07869 | Train Accs: 0.98459 | Valid Accs: 0.96970 | Time: 41.35 seconds\n",
      "Epoch: 10 | Train Loss: 0.04115 | Valid Loss: 0.04738 | Train Accs: 0.98807 | Valid Accs: 0.98011 | Time: 41.41 seconds\n",
      "Epoch: 11 | Train Loss: 0.03559 | Valid Loss: 0.03980 | Train Accs: 0.98736 | Valid Accs: 0.98580 | Time: 41.14 seconds\n",
      "Epoch: 12 | Train Loss: 0.01210 | Valid Loss: 0.03592 | Train Accs: 0.99618 | Valid Accs: 0.98864 | Time: 42.07 seconds\n",
      "Epoch: 13 | Train Loss: 0.00820 | Valid Loss: 0.04296 | Train Accs: 0.99761 | Valid Accs: 0.98201 | Time: 41.36 seconds\n",
      "Epoch: 14 | Train Loss: 0.00668 | Valid Loss: 0.02589 | Train Accs: 0.99714 | Valid Accs: 0.99148 | Time: 41.95 seconds\n",
      "Epoch: 15 | Train Loss: 0.00292 | Valid Loss: 0.02373 | Train Accs: 0.99905 | Valid Accs: 0.99148 | Time: 42.01 seconds\n",
      "Epoch: 16 | Train Loss: 0.00156 | Valid Loss: 0.03192 | Train Accs: 1.00000 | Valid Accs: 0.98864 | Time: 41.46 seconds\n",
      "Epoch: 17 | Train Loss: 0.00067 | Valid Loss: 0.02334 | Train Accs: 1.00000 | Valid Accs: 0.99053 | Time: 42.19 seconds\n",
      "Epoch: 18 | Train Loss: 0.00222 | Valid Loss: 0.03049 | Train Accs: 0.99905 | Valid Accs: 0.98864 | Time: 41.45 seconds\n",
      "Epoch: 19 | Train Loss: 0.00051 | Valid Loss: 0.02476 | Train Accs: 1.00000 | Valid Accs: 0.99242 | Time: 41.48 seconds\n",
      "Epoch: 20 | Train Loss: 0.00047 | Valid Loss: 0.02274 | Train Accs: 1.00000 | Valid Accs: 0.99148 | Time: 41.83 seconds\n",
      "\n",
      "**************************************************\n",
      "\n",
      "Best Validation Loss at Epoch 20\n",
      "\n",
      "**************************************************\n",
      "\n",
      "Best Validation Accs at Epoch 19\n",
      "\n",
      "**************************************************\n",
      "\n",
      "Time Taken [20 Epochs] : 13.92 minutes\n",
      "\n",
      "**************************************************\n",
      "\n"
     ]
    },
    {
     "data": {
      "image/png": "[encoded data removed]",
      "text/plain": [
       "<Figure size 576x432 with 2 Axes>"
      ]
     },
     "metadata": {
      "needs_background": "light"
     },
     "output_type": "display_data"
    },
    {
     "name": "stdout",
     "output_type": "stream",
     "text": [
      "\n",
      "**************************************************\n",
      "\n",
      "Training Fold 5...\n",
      "\n",
      "**************************************************\n",
      "\n",
      "Epoch: 1 | Train Loss: 0.26870 | Valid Loss: 0.06225 | Train Accs: 0.91245 | Valid Accs: 0.97222 | Time: 41.78 seconds\n",
      "Epoch: 2 | Train Loss: 0.11489 | Valid Loss: 0.10922 | Train Accs: 0.95902 | Valid Accs: 0.96307 | Time: 41.56 seconds\n",
      "Epoch: 3 | Train Loss: 0.09049 | Valid Loss: 0.09854 | Train Accs: 0.96622 | Valid Accs: 0.96654 | Time: 41.61 seconds\n",
      "Epoch: 4 | Train Loss: 0.10668 | Valid Loss: 0.06830 | Train Accs: 0.95930 | Valid Accs: 0.97443 | Time: 41.51 seconds\n",
      "Epoch: 5 | Train Loss: 0.10674 | Valid Loss: 0.10294 | Train Accs: 0.95978 | Valid Accs: 0.96528 | Time: 41.69 seconds\n",
      "Epoch: 6 | Train Loss: 0.06664 | Valid Loss: 0.06748 | Train Accs: 0.97471 | Valid Accs: 0.97159 | Time: 41.63 seconds\n",
      "\n",
      "Early Stopping at Epoch 7\n",
      "\n",
      "**************************************************\n",
      "\n",
      "Best Validation Loss at Epoch 1\n",
      "\n",
      "**************************************************\n",
      "\n",
      "Best Validation Accs at Epoch 4\n",
      "\n",
      "**************************************************\n",
      "\n",
      "Time Taken [7 Epochs] : 4.86 minutes\n",
      "\n",
      "**************************************************\n",
      "\n"
     ]
    },
    {
     "data": {
      "image/png": "[encoded data removed]",
      "text/plain": [
       "<Figure size 576x432 with 2 Axes>"
      ]
     },
     "metadata": {
      "needs_background": "light"
     },
     "output_type": "display_data"
    }
   ],
   "source": [
    "fold = 1\n",
    "BLEs, BAEs = [], []\n",
    "\n",
    "for tr_idx, va_idx in KFold(n_splits=cfg.n_splits, random_state=SEED, shuffle=True).split(images):\n",
    "    tr_images, va_images, tr_labels, va_labels = images[tr_idx], images[va_idx], labels[tr_idx], labels[va_idx]\n",
    "\n",
    "    tr_data_setup = DS(tr_images, tr_labels.reshape(-1, 1), cfg.transform)\n",
    "    va_data_setup = DS(va_images, va_labels.reshape(-1, 1), cfg.transform)\n",
    "\n",
    "    dataloaders = {\n",
    "        \"train\" : DL(tr_data_setup, batch_size=cfg.batch_size, shuffle=True, generator=torch.manual_seed(cfg.seed)),\n",
    "        \"valid\" : DL(va_data_setup, batch_size=cfg.batch_size, shuffle=False),\n",
    "    }\n",
    "\n",
    "    cfg = CFG(epochs=20, lr=1e-3, wd=0.0, batch_size=16, steps_per_epoch=len(dataloaders[\"train\"]))\n",
    "\n",
    "    torch.manual_seed(cfg.seed)\n",
    "    model = Model().to(cfg.device)\n",
    "    optimizer = optim.Adam([p for p in model.parameters() if p.requires_grad], lr=cfg.lr, weight_decay=cfg.wd)\n",
    "    scheduler = optim.lr_scheduler.OneCycleLR(optimizer=optimizer, \n",
    "                                              max_lr=cfg.max_lr, \n",
    "                                              epochs=cfg.epochs, \n",
    "                                              steps_per_epoch=cfg.steps_per_epoch,\n",
    "                                              pct_start=cfg.pct_start, \n",
    "                                              div_factor=cfg.div_factor, \n",
    "                                              final_div_factor=cfg.final_div_factor)\n",
    "    # scheduler = None\n",
    "\n",
    "    L, A, LRs, BLE, BAE, name = fit(model=model, \n",
    "                                    optimizer=optimizer, \n",
    "                                    scheduler=scheduler, \n",
    "                                    epochs=cfg.epochs, \n",
    "                                    early_stopping_patience=cfg.early_stopping, \n",
    "                                    dataloaders=dataloaders, \n",
    "                                    device=cfg.device,\n",
    "                                    save_path=cfg.save_path,\n",
    "                                    fold = fold,\n",
    "                                    verbose=True)\n",
    "\n",
    "    breaker()\n",
    "    show_graphs(L, A)\n",
    "    \n",
    "    BLEs.append(BLE)\n",
    "    BAEs.append(BAE)\n",
    "\n",
    "    fold += 1"
   ]
  },
  {
   "cell_type": "markdown",
   "id": "44a73dc0",
   "metadata": {
    "papermill": {
     "duration": 0.045613,
     "end_time": "2022-04-25T12:02:41.743131",
     "exception": false,
     "start_time": "2022-04-25T12:02:41.697518",
     "status": "completed"
    },
    "tags": []
   },
   "source": [
    "### **Predictions**"
   ]
  },
  {
   "cell_type": "code",
   "execution_count": 9,
   "id": "7d4ee682",
   "metadata": {
    "execution": {
     "iopub.execute_input": "2022-04-25T12:02:41.842673Z",
     "iopub.status.busy": "2022-04-25T12:02:41.842007Z",
     "iopub.status.idle": "2022-04-25T12:02:45.210442Z",
     "shell.execute_reply": "2022-04-25T12:02:45.209937Z",
     "shell.execute_reply.started": "2022-04-09T01:41:41.028783Z"
    },
    "papermill": {
     "duration": 3.421672,
     "end_time": "2022-04-25T12:02:45.210577",
     "exception": false,
     "start_time": "2022-04-25T12:02:41.788905",
     "status": "completed"
    },
    "tags": []
   },
   "outputs": [
    {
     "name": "stdout",
     "output_type": "stream",
     "text": [
      "\n",
      "**************************************************\n",
      "\n",
      "Best Fold : 5\n",
      "\n",
      "**************************************************\n",
      "\n",
      "Accuracy  : 0.83974\n",
      "ROC-AUC   : 0.89193\n",
      "Precision : [0.58119658 0.99487179]\n",
      "Recall    : [0.98550725 0.79835391]\n",
      "F-Score   : [0.7311828  0.88584475]\n",
      "\n",
      "**************************************************\n",
      "\n",
      "              precision    recall  f1-score   support\n",
      "\n",
      "         0.0       0.99      0.58      0.73       234\n",
      "         1.0       0.80      0.99      0.89       390\n",
      "\n",
      "    accuracy                           0.84       624\n",
      "   macro avg       0.89      0.79      0.81       624\n",
      "weighted avg       0.87      0.84      0.83       624\n",
      "\n",
      "\n",
      "**************************************************\n",
      "\n",
      "[[136  98]\n",
      " [  2 388]]\n",
      "\n",
      "**************************************************\n",
      "\n"
     ]
    }
   ],
   "source": [
    "test_images = np.load(f\"../input/cxr-images-256/test_images_{SIZE}.npy\")\n",
    "test_labels = np.load(f\"../input/cxr-images-256/test_targets_{SIZE}.npy\")\n",
    "\n",
    "ts_data_setup = DS(test_images, None, cfg.transform)\n",
    "ts_data = DL(ts_data_setup, batch_size=cfg.batch_size, shuffle=False)\n",
    "\n",
    "best_fold = BLEs.index(min(BLEs)) + 1\n",
    "model_path = f\"saves/state_fold_{best_fold}.pt\"\n",
    "y_pred = predict(model=Model().to(cfg.device), dataloader=ts_data, path=model_path, device=cfg.device)\n",
    "\n",
    "accuracy, auc, precision, recall, f_score = get_scores(test_labels, y_pred)\n",
    "\n",
    "breaker()\n",
    "print(f\"Best Fold : {best_fold}\")\n",
    "breaker()\n",
    "print_scores(accuracy, auc, precision, recall, f_score)\n",
    "breaker()\n",
    "print(classification_report(test_labels, y_pred))\n",
    "breaker()\n",
    "print(confusion_matrix(test_labels, y_pred))\n",
    "breaker()"
   ]
  }
 ],
 "metadata": {
  "kernelspec": {
   "display_name": "Python 3",
   "language": "python",
   "name": "python3"
  },
  "language_info": {
   "codemirror_mode": {
    "name": "ipython",
    "version": 3
   },
   "file_extension": ".py",
   "mimetype": "text/x-python",
   "name": "python",
   "nbconvert_exporter": "python",
   "pygments_lexer": "ipython3",
   "version": "3.7.12"
  },
  "papermill": {
   "default_parameters": {},
   "duration": 3582.796296,
   "end_time": "2022-04-25T12:02:47.498607",
   "environment_variables": {},
   "exception": null,
   "input_path": "__notebook__.ipynb",
   "output_path": "__notebook__.ipynb",
   "parameters": {},
   "start_time": "2022-04-25T11:03:04.702311",
   "version": "2.3.3"
  },
  "widgets": {
   "application/vnd.jupyter.widget-state+json": {
    "state": {
     "2df7e0b6e64b4a2c94bcd88f46a9f28a": {
      "model_module": "@jupyter-widgets/base",
      "model_module_version": "1.2.0",
      "model_name": "LayoutModel",
      "state": {
       "_model_module": "@jupyter-widgets/base",
       "_model_module_version": "1.2.0",
       "_model_name": "LayoutModel",
       "_view_count": null,
       "_view_module": "@jupyter-widgets/base",
       "_view_module_version": "1.2.0",
       "_view_name": "LayoutView",
       "align_content": null,
       "align_items": null,
       "align_self": null,
       "border": null,
       "bottom": null,
       "display": null,
       "flex": null,
       "flex_flow": null,
       "grid_area": null,
       "grid_auto_columns": null,
       "grid_auto_flow": null,
       "grid_auto_rows": null,
       "grid_column": null,
       "grid_gap": null,
       "grid_row": null,
       "grid_template_areas": null,
       "grid_template_columns": null,
       "grid_template_rows": null,
       "height": null,
       "justify_content": null,
       "justify_items": null,
       "left": null,
       "margin": null,
       "max_height": null,
       "max_width": null,
       "min_height": null,
       "min_width": null,
       "object_fit": null,
       "object_position": null,
       "order": null,
       "overflow": null,
       "overflow_x": null,
       "overflow_y": null,
       "padding": null,
       "right": null,
       "top": null,
       "visibility": null,
       "width": null
      }
     },
     "6aef34391e7545c39e2c043e5191d190": {
      "model_module": "@jupyter-widgets/controls",
      "model_module_version": "1.5.0",
      "model_name": "FloatProgressModel",
      "state": {
       "_dom_classes": [],
       "_model_module": "@jupyter-widgets/controls",
       "_model_module_version": "1.5.0",
       "_model_name": "FloatProgressModel",
       "_view_count": null,
       "_view_module": "@jupyter-widgets/controls",
       "_view_module_version": "1.5.0",
       "_view_name": "ProgressView",
       "bar_style": "success",
       "description": "",
       "description_tooltip": null,
       "layout": "IPY_MODEL_eb8eaaccbc614d869ee3c6d229169500",
       "max": 102530333.0,
       "min": 0.0,
       "orientation": "horizontal",
       "style": "IPY_MODEL_9dc639489b77490d9a6408c08aa39713",
       "value": 102530333.0
      }
     },
     "734d275b9cc6498ebfaa414560d7f001": {
      "model_module": "@jupyter-widgets/base",
      "model_module_version": "1.2.0",
      "model_name": "LayoutModel",
      "state": {
       "_model_module": "@jupyter-widgets/base",
       "_model_module_version": "1.2.0",
       "_model_name": "LayoutModel",
       "_view_count": null,
       "_view_module": "@jupyter-widgets/base",
       "_view_module_version": "1.2.0",
       "_view_name": "LayoutView",
       "align_content": null,
       "align_items": null,
       "align_self": null,
       "border": null,
       "bottom": null,
       "display": null,
       "flex": null,
       "flex_flow": null,
       "grid_area": null,
       "grid_auto_columns": null,
       "grid_auto_flow": null,
       "grid_auto_rows": null,
       "grid_column": null,
       "grid_gap": null,
       "grid_row": null,
       "grid_template_areas": null,
       "grid_template_columns": null,
       "grid_template_rows": null,
       "height": null,
       "justify_content": null,
       "justify_items": null,
       "left": null,
       "margin": null,
       "max_height": null,
       "max_width": null,
       "min_height": null,
       "min_width": null,
       "object_fit": null,
       "object_position": null,
       "order": null,
       "overflow": null,
       "overflow_x": null,
       "overflow_y": null,
       "padding": null,
       "right": null,
       "top": null,
       "visibility": null,
       "width": null
      }
     },
     "7cb5d1e93b4b44edb4ff9312664e4bf3": {
      "model_module": "@jupyter-widgets/base",
      "model_module_version": "1.2.0",
      "model_name": "LayoutModel",
      "state": {
       "_model_module": "@jupyter-widgets/base",
       "_model_module_version": "1.2.0",
       "_model_name": "LayoutModel",
       "_view_count": null,
       "_view_module": "@jupyter-widgets/base",
       "_view_module_version": "1.2.0",
       "_view_name": "LayoutView",
       "align_content": null,
       "align_items": null,
       "align_self": null,
       "border": null,
       "bottom": null,
       "display": null,
       "flex": null,
       "flex_flow": null,
       "grid_area": null,
       "grid_auto_columns": null,
       "grid_auto_flow": null,
       "grid_auto_rows": null,
       "grid_column": null,
       "grid_gap": null,
       "grid_row": null,
       "grid_template_areas": null,
       "grid_template_columns": null,
       "grid_template_rows": null,
       "height": null,
       "justify_content": null,
       "justify_items": null,
       "left": null,
       "margin": null,
       "max_height": null,
       "max_width": null,
       "min_height": null,
       "min_width": null,
       "object_fit": null,
       "object_position": null,
       "order": null,
       "overflow": null,
       "overflow_x": null,
       "overflow_y": null,
       "padding": null,
       "right": null,
       "top": null,
       "visibility": null,
       "width": null
      }
     },
     "91b88b91984a4c62a51974810f674235": {
      "model_module": "@jupyter-widgets/controls",
      "model_module_version": "1.5.0",
      "model_name": "HBoxModel",
      "state": {
       "_dom_classes": [],
       "_model_module": "@jupyter-widgets/controls",
       "_model_module_version": "1.5.0",
       "_model_name": "HBoxModel",
       "_view_count": null,
       "_view_module": "@jupyter-widgets/controls",
       "_view_module_version": "1.5.0",
       "_view_name": "HBoxView",
       "box_style": "",
       "children": [
        "IPY_MODEL_ea3a9cca46b344d3854bb6421ddb0e9e",
        "IPY_MODEL_6aef34391e7545c39e2c043e5191d190",
        "IPY_MODEL_f22fb438ffb54b19ba6afbee1865fa23"
       ],
       "layout": "IPY_MODEL_734d275b9cc6498ebfaa414560d7f001"
      }
     },
     "9790d99350084c74ac5a4d1f12534e26": {
      "model_module": "@jupyter-widgets/controls",
      "model_module_version": "1.5.0",
      "model_name": "DescriptionStyleModel",
      "state": {
       "_model_module": "@jupyter-widgets/controls",
       "_model_module_version": "1.5.0",
       "_model_name": "DescriptionStyleModel",
       "_view_count": null,
       "_view_module": "@jupyter-widgets/base",
       "_view_module_version": "1.2.0",
       "_view_name": "StyleView",
       "description_width": ""
      }
     },
     "9dc639489b77490d9a6408c08aa39713": {
      "model_module": "@jupyter-widgets/controls",
      "model_module_version": "1.5.0",
      "model_name": "ProgressStyleModel",
      "state": {
       "_model_module": "@jupyter-widgets/controls",
       "_model_module_version": "1.5.0",
       "_model_name": "ProgressStyleModel",
       "_view_count": null,
       "_view_module": "@jupyter-widgets/base",
       "_view_module_version": "1.2.0",
       "_view_name": "StyleView",
       "bar_color": null,
       "description_width": ""
      }
     },
     "e3877a662cbb4eb4ad48a55462d331d9": {
      "model_module": "@jupyter-widgets/controls",
      "model_module_version": "1.5.0",
      "model_name": "DescriptionStyleModel",
      "state": {
       "_model_module": "@jupyter-widgets/controls",
       "_model_module_version": "1.5.0",
       "_model_name": "DescriptionStyleModel",
       "_view_count": null,
       "_view_module": "@jupyter-widgets/base",
       "_view_module_version": "1.2.0",
       "_view_name": "StyleView",
       "description_width": ""
      }
     },
     "ea3a9cca46b344d3854bb6421ddb0e9e": {
      "model_module": "@jupyter-widgets/controls",
      "model_module_version": "1.5.0",
      "model_name": "HTMLModel",
      "state": {
       "_dom_classes": [],
       "_model_module": "@jupyter-widgets/controls",
       "_model_module_version": "1.5.0",
       "_model_name": "HTMLModel",
       "_view_count": null,
       "_view_module": "@jupyter-widgets/controls",
       "_view_module_version": "1.5.0",
       "_view_name": "HTMLView",
       "description": "",
       "description_tooltip": null,
       "layout": "IPY_MODEL_2df7e0b6e64b4a2c94bcd88f46a9f28a",
       "placeholder": "​",
       "style": "IPY_MODEL_e3877a662cbb4eb4ad48a55462d331d9",
       "value": "100%"
      }
     },
     "eb8eaaccbc614d869ee3c6d229169500": {
      "model_module": "@jupyter-widgets/base",
      "model_module_version": "1.2.0",
      "model_name": "LayoutModel",
      "state": {
       "_model_module": "@jupyter-widgets/base",
       "_model_module_version": "1.2.0",
       "_model_name": "LayoutModel",
       "_view_count": null,
       "_view_module": "@jupyter-widgets/base",
       "_view_module_version": "1.2.0",
       "_view_name": "LayoutView",
       "align_content": null,
       "align_items": null,
       "align_self": null,
       "border": null,
       "bottom": null,
       "display": null,
       "flex": null,
       "flex_flow": null,
       "grid_area": null,
       "grid_auto_columns": null,
       "grid_auto_flow": null,
       "grid_auto_rows": null,
       "grid_column": null,
       "grid_gap": null,
       "grid_row": null,
       "grid_template_areas": null,
       "grid_template_columns": null,
       "grid_template_rows": null,
       "height": null,
       "justify_content": null,
       "justify_items": null,
       "left": null,
       "margin": null,
       "max_height": null,
       "max_width": null,
       "min_height": null,
       "min_width": null,
       "object_fit": null,
       "object_position": null,
       "order": null,
       "overflow": null,
       "overflow_x": null,
       "overflow_y": null,
       "padding": null,
       "right": null,
       "top": null,
       "visibility": null,
       "width": null
      }
     },
     "f22fb438ffb54b19ba6afbee1865fa23": {
      "model_module": "@jupyter-widgets/controls",
      "model_module_version": "1.5.0",
      "model_name": "HTMLModel",
      "state": {
       "_dom_classes": [],
       "_model_module": "@jupyter-widgets/controls",
       "_model_module_version": "1.5.0",
       "_model_name": "HTMLModel",
       "_view_count": null,
       "_view_module": "@jupyter-widgets/controls",
       "_view_module_version": "1.5.0",
       "_view_name": "HTMLView",
       "description": "",
       "description_tooltip": null,
       "layout": "IPY_MODEL_7cb5d1e93b4b44edb4ff9312664e4bf3",
       "placeholder": "​",
       "style": "IPY_MODEL_9790d99350084c74ac5a4d1f12534e26",
       "value": " 97.8M/97.8M [00:02&lt;00:00, 56.1MB/s]"
      }
     }
    },
    "version_major": 2,
    "version_minor": 0
   }
  }
 },
 "nbformat": 4,
 "nbformat_minor": 5
}
