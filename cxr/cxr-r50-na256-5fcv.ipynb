{
 "cells": [
  {
   "cell_type": "markdown",
   "id": "55e0558d",
   "metadata": {
    "_cell_guid": "b1076dfc-b9ad-4769-8c92-a6c4dae69d19",
    "_uuid": "8f2839f25d086af736a60e9eeb907d3b93b6e0e5",
    "papermill": {
     "duration": 0.014518,
     "end_time": "2022-04-09T23:12:28.598969",
     "exception": false,
     "start_time": "2022-04-09T23:12:28.584451",
     "status": "completed"
    },
    "tags": []
   },
   "source": [
    "### Library Imports"
   ]
  },
  {
   "cell_type": "code",
   "execution_count": 1,
   "id": "1c7ac395",
   "metadata": {
    "execution": {
     "iopub.execute_input": "2022-04-09T23:12:28.641285Z",
     "iopub.status.busy": "2022-04-09T23:12:28.639720Z",
     "iopub.status.idle": "2022-04-09T23:12:30.787623Z",
     "shell.execute_reply": "2022-04-09T23:12:30.789167Z",
     "shell.execute_reply.started": "2022-04-09T01:18:45.162484Z"
    },
    "papermill": {
     "duration": 2.177303,
     "end_time": "2022-04-09T23:12:30.789500",
     "exception": false,
     "start_time": "2022-04-09T23:12:28.612197",
     "status": "completed"
    },
    "tags": []
   },
   "outputs": [],
   "source": [
    "import os\n",
    "import re\n",
    "import torch\n",
    "import numpy as np\n",
    "import pandas as pd\n",
    "import matplotlib.pyplot as plt\n",
    "\n",
    "from time import time\n",
    "from torch import nn, optim\n",
    "from torch.utils.data import Dataset\n",
    "from torch.utils.data import DataLoader as DL\n",
    "from torchvision import models, transforms\n",
    "\n",
    "from sklearn.model_selection import KFold\n",
    "from sklearn.preprocessing import LabelEncoder\n",
    "from sklearn.metrics import accuracy_score, \\\n",
    "                            precision_recall_fscore_support, \\\n",
    "                            roc_auc_score, \\\n",
    "                            classification_report"
   ]
  },
  {
   "cell_type": "markdown",
   "id": "1737fc0a",
   "metadata": {
    "papermill": {
     "duration": 0.025101,
     "end_time": "2022-04-09T23:12:30.843113",
     "exception": false,
     "start_time": "2022-04-09T23:12:30.818012",
     "status": "completed"
    },
    "tags": []
   },
   "source": [
    "### **Utilities**"
   ]
  },
  {
   "cell_type": "code",
   "execution_count": 2,
   "id": "18fa82b4",
   "metadata": {
    "execution": {
     "iopub.execute_input": "2022-04-09T23:12:30.902588Z",
     "iopub.status.busy": "2022-04-09T23:12:30.901795Z",
     "iopub.status.idle": "2022-04-09T23:12:30.916837Z",
     "shell.execute_reply": "2022-04-09T23:12:30.918034Z",
     "shell.execute_reply.started": "2022-04-09T01:18:47.512362Z"
    },
    "papermill": {
     "duration": 0.05083,
     "end_time": "2022-04-09T23:12:30.918242",
     "exception": false,
     "start_time": "2022-04-09T23:12:30.867412",
     "status": "completed"
    },
    "tags": []
   },
   "outputs": [],
   "source": [
    "SEED = 42\n",
    "SIZE = 256\n",
    "\n",
    "def breaker(num: int=50, char: str=\"*\") -> None:\n",
    "    print(\"\\n\" + num*char + \"\\n\")\n",
    "\n",
    "\n",
    "def show_graphs(L: list, A: list) -> None:\n",
    "    TL, VL, TA, VA = [], [], [], []\n",
    "    for i in range(len(L)):\n",
    "        TL.append(L[i][\"train\"])\n",
    "        VL.append(L[i][\"valid\"])\n",
    "        TA.append(A[i][\"train\"])\n",
    "        VA.append(A[i][\"valid\"])\n",
    "    x_Axis = np.arange(1, len(TL) + 1)\n",
    "    plt.figure(figsize=(8, 6))\n",
    "    plt.subplot(1, 2, 1)\n",
    "    plt.plot(x_Axis, TL, \"r\", label=\"Train\")\n",
    "    plt.plot(x_Axis, VL, \"b\", label=\"Valid\")\n",
    "    plt.legend()\n",
    "    plt.grid()\n",
    "    plt.title(\"Loss Graph\")\n",
    "    plt.subplot(1, 2, 2)\n",
    "    plt.plot(x_Axis, TA, \"r\", label=\"Train\")\n",
    "    plt.plot(x_Axis, VA, \"b\", label=\"Valid\")\n",
    "    plt.legend()\n",
    "    plt.grid()\n",
    "    plt.title(\"Accuracy Graph\")\n",
    "    plt.show()\n",
    "\n",
    "    \n",
    "def get_scores(y_true: np.ndarray, y_pred: np.ndarray) -> tuple:\n",
    "    accuracy = accuracy_score(y_pred, y_true)\n",
    "    try:\n",
    "        auc = roc_auc_score(y_pred, y_true)\n",
    "    except:\n",
    "        auc = 0\n",
    "    precision, recall, f_score, _ = precision_recall_fscore_support(y_pred, y_true)\n",
    "\n",
    "    return accuracy, auc, precision, recall, f_score\n",
    "\n",
    "\n",
    "def print_scores(accuracy: float, auc: float, precision: np.ndarray, recall: np.ndarray, f_score: np.ndarray) -> None:\n",
    "    print(f\"Accuracy  : {accuracy:.5f}\")\n",
    "    print(f\"ROC-AUC   : {auc:.5f}\")\n",
    "    print(f\"Precision : {precision}\")\n",
    "    print(f\"Recall    : {recall}\")\n",
    "    print(f\"F-Score   : {f_score}\")"
   ]
  },
  {
   "cell_type": "markdown",
   "id": "0848aea3",
   "metadata": {
    "papermill": {
     "duration": 0.02139,
     "end_time": "2022-04-09T23:12:30.962215",
     "exception": false,
     "start_time": "2022-04-09T23:12:30.940825",
     "status": "completed"
    },
    "tags": []
   },
   "source": [
    "### **Configuration**"
   ]
  },
  {
   "cell_type": "code",
   "execution_count": 3,
   "id": "0f87b9e3",
   "metadata": {
    "execution": {
     "iopub.execute_input": "2022-04-09T23:12:31.015139Z",
     "iopub.status.busy": "2022-04-09T23:12:31.014360Z",
     "iopub.status.idle": "2022-04-09T23:12:31.074400Z",
     "shell.execute_reply": "2022-04-09T23:12:31.073418Z",
     "shell.execute_reply.started": "2022-04-09T01:36:52.976989Z"
    },
    "papermill": {
     "duration": 0.090892,
     "end_time": "2022-04-09T23:12:31.074554",
     "exception": false,
     "start_time": "2022-04-09T23:12:30.983662",
     "status": "completed"
    },
    "tags": []
   },
   "outputs": [],
   "source": [
    "class CFG(object):\n",
    "    def __init__(self, \n",
    "                 seed: int = 42,\n",
    "                 n_splits: int = 5,\n",
    "                 batch_size: int = 16,\n",
    "                 epochs: int = 25,\n",
    "                 early_stopping: int = 5,\n",
    "                 lr: float = 1e-4,\n",
    "                 wd: float = 0.0,\n",
    "                 max_lr: float = 1e-3,\n",
    "                 pct_start: float = 0.2,\n",
    "                 steps_per_epoch: int = 100,\n",
    "                 div_factor: int = 1e3, \n",
    "                 final_div_factor: float = 1e3,\n",
    "                 ):\n",
    "        \n",
    "        self.seed = seed\n",
    "        self.n_splits = n_splits\n",
    "        self.batch_size = batch_size\n",
    "        self.epochs = epochs\n",
    "        self.early_stopping = early_stopping\n",
    "        self.lr = lr\n",
    "        self.wd = wd\n",
    "        self.max_lr = max_lr\n",
    "        self.pct_start = pct_start\n",
    "        self.steps_per_epoch = steps_per_epoch\n",
    "        self.div_factor = div_factor\n",
    "        self.final_div_factor = final_div_factor\n",
    "        self.device = torch.device(\"cuda\" if torch.cuda.is_available() else \"cpu\")\n",
    "        self.transform = transforms.Compose([transforms.ToTensor(),\n",
    "                                transforms.Normalize([0.11899, 0.11923, 0.12643],\n",
    "                                                     [0.17037, 0.16976, 0.18014]),\n",
    "                                ])\n",
    "        self.save_path = \"saves\"\n",
    "        if not os.path.exists(self.save_path): os.makedirs(self.save_path)\n",
    "    \n",
    "cfg = CFG(seed=SEED)"
   ]
  },
  {
   "cell_type": "markdown",
   "id": "db01a176",
   "metadata": {
    "papermill": {
     "duration": 0.023762,
     "end_time": "2022-04-09T23:12:31.121234",
     "exception": false,
     "start_time": "2022-04-09T23:12:31.097472",
     "status": "completed"
    },
    "tags": []
   },
   "source": [
    "### **Dataset Template**"
   ]
  },
  {
   "cell_type": "code",
   "execution_count": 4,
   "id": "100c82a0",
   "metadata": {
    "execution": {
     "iopub.execute_input": "2022-04-09T23:12:31.182342Z",
     "iopub.status.busy": "2022-04-09T23:12:31.181538Z",
     "iopub.status.idle": "2022-04-09T23:12:31.185894Z",
     "shell.execute_reply": "2022-04-09T23:12:31.186607Z",
     "shell.execute_reply.started": "2022-04-09T01:18:47.593512Z"
    },
    "papermill": {
     "duration": 0.041583,
     "end_time": "2022-04-09T23:12:31.186807",
     "exception": false,
     "start_time": "2022-04-09T23:12:31.145224",
     "status": "completed"
    },
    "tags": []
   },
   "outputs": [],
   "source": [
    "class DS(Dataset):\n",
    "    def __init__(self, images: np.ndarray, labels: np.ndarray = None, transform=None):\n",
    "        self.images = images\n",
    "        self.labels = labels\n",
    "        self.transform = transform\n",
    "    \n",
    "    def __len__(self):\n",
    "        return self.images.shape[0]\n",
    "    \n",
    "    def __getitem__(self, idx):\n",
    "        if self.labels is not None:\n",
    "            return self.transform(self.images[idx]), torch.FloatTensor(self.labels[idx])\n",
    "        else:\n",
    "            return self.transform(self.images[idx])"
   ]
  },
  {
   "cell_type": "markdown",
   "id": "70f6a3ac",
   "metadata": {
    "papermill": {
     "duration": 0.014101,
     "end_time": "2022-04-09T23:12:31.220521",
     "exception": false,
     "start_time": "2022-04-09T23:12:31.206420",
     "status": "completed"
    },
    "tags": []
   },
   "source": [
    "### **Model**"
   ]
  },
  {
   "cell_type": "code",
   "execution_count": 5,
   "id": "2a6e0c9f",
   "metadata": {
    "execution": {
     "iopub.execute_input": "2022-04-09T23:12:31.255251Z",
     "iopub.status.busy": "2022-04-09T23:12:31.253706Z",
     "iopub.status.idle": "2022-04-09T23:12:31.255904Z",
     "shell.execute_reply": "2022-04-09T23:12:31.256324Z",
     "shell.execute_reply.started": "2022-04-09T01:18:47.606516Z"
    },
    "papermill": {
     "duration": 0.0222,
     "end_time": "2022-04-09T23:12:31.256443",
     "exception": false,
     "start_time": "2022-04-09T23:12:31.234243",
     "status": "completed"
    },
    "tags": []
   },
   "outputs": [],
   "source": [
    "class MyResnet(nn.Module):\n",
    "    def __init__(self):\n",
    "        super(MyResnet, self).__init__()\n",
    "\n",
    "        self.model = models.resnet50(pretrained=True, progress=True)\n",
    "        self.model.fc = nn.Linear(in_features=self.model.fc.in_features, out_features=1)\n",
    "\n",
    "    def forward(self, x):\n",
    "        return self.model(x)"
   ]
  },
  {
   "cell_type": "markdown",
   "id": "1aebd51e",
   "metadata": {
    "papermill": {
     "duration": 0.013283,
     "end_time": "2022-04-09T23:12:31.283539",
     "exception": false,
     "start_time": "2022-04-09T23:12:31.270256",
     "status": "completed"
    },
    "tags": []
   },
   "source": [
    "### Fit and Predict Helper"
   ]
  },
  {
   "cell_type": "code",
   "execution_count": 6,
   "id": "bfc03aee",
   "metadata": {
    "execution": {
     "iopub.execute_input": "2022-04-09T23:12:31.337099Z",
     "iopub.status.busy": "2022-04-09T23:12:31.335643Z",
     "iopub.status.idle": "2022-04-09T23:12:31.337917Z",
     "shell.execute_reply": "2022-04-09T23:12:31.338577Z",
     "shell.execute_reply.started": "2022-04-09T01:18:47.615986Z"
    },
    "papermill": {
     "duration": 0.041749,
     "end_time": "2022-04-09T23:12:31.338758",
     "exception": false,
     "start_time": "2022-04-09T23:12:31.297009",
     "status": "completed"
    },
    "tags": []
   },
   "outputs": [],
   "source": [
    "def fit(model=None, \n",
    "        optimizer=None, \n",
    "        scheduler=None, \n",
    "        epochs=None, \n",
    "        early_stopping_patience=None, \n",
    "        dataloaders=None, \n",
    "        fold=None, \n",
    "        save_path=None, \n",
    "        device=None,\n",
    "        verbose=False) -> tuple:\n",
    "    \n",
    "    def get_accuracy(y_pred, y_true):\n",
    "        y_pred = torch.sigmoid(y_pred)\n",
    "        \n",
    "        y_pred[y_pred > 0.5] = 1\n",
    "        y_pred[y_pred <= 0.5] = 0\n",
    "        \n",
    "        return torch.count_nonzero(y_pred == y_true).item() / len(y_pred)\n",
    "    \n",
    "    if verbose:\n",
    "        breaker()\n",
    "        if fold: print(f\"Training Fold {fold}...\")\n",
    "        else: print(\"Training ...\")\n",
    "        breaker()\n",
    "        \n",
    "    bestLoss, bestAccs = {\"train\" : np.inf, \"valid\" : np.inf}, {\"train\" : 0.0, \"valid\" : 0.0}\n",
    "    Losses, LRs, Accuracies = [], [], []\n",
    "    if fold: name = f\"state_fold_{fold}.pt\"\n",
    "    else: name = \"state.pt\"\n",
    "\n",
    "    start_time = time()\n",
    "    for e in range(epochs):\n",
    "        e_st = time()\n",
    "        epochLoss, epochAccs = {\"train\" : 0.0, \"valid\" : 0.0}, {\"train\" : 0.0, \"valid\" : 0.0}\n",
    "\n",
    "        for phase in [\"train\", \"valid\"]:\n",
    "            if phase == \"train\":\n",
    "                model.train()\n",
    "            else:\n",
    "                model.eval()\n",
    "            \n",
    "            lossPerPass, accsPerPass = [], []\n",
    "\n",
    "            for X, y in dataloaders[phase]:\n",
    "                X, y = X.to(device), y.to(device)\n",
    "\n",
    "                optimizer.zero_grad()\n",
    "                with torch.set_grad_enabled(phase == \"train\"):\n",
    "                    output = model(X)\n",
    "                    loss = torch.nn.BCEWithLogitsLoss()(output, y)\n",
    "                    if phase == \"train\":\n",
    "                        loss.backward()\n",
    "                        optimizer.step()\n",
    "                        if scheduler: scheduler.step()\n",
    "                lossPerPass.append(loss.item())\n",
    "                accsPerPass.append(get_accuracy(output, y))\n",
    "            epochLoss[phase] = np.mean(np.array(lossPerPass))\n",
    "            epochAccs[phase] = np.mean(np.array(accsPerPass))\n",
    "        LRs.append(scheduler.get_last_lr())\n",
    "        Losses.append(epochLoss)\n",
    "        Accuracies.append(epochAccs)\n",
    "        \n",
    "        if early_stopping_patience:\n",
    "            if epochLoss[\"valid\"] < bestLoss[\"valid\"]:\n",
    "                bestLoss = epochLoss\n",
    "                BLE = e + 1\n",
    "                torch.save({\"model_state_dict\"     : model.state_dict(),\n",
    "                            \"optim_state_dict\"     : optimizer.state_dict()},\n",
    "                           os.path.join(save_path, name))\n",
    "                early_stopping_step = 0\n",
    "            else:\n",
    "                early_stopping_step += 1\n",
    "                if early_stopping_step > early_stopping_patience:\n",
    "                    print(\"\\nEarly Stopping at Epoch {}\".format(e + 1))\n",
    "                    break\n",
    "        \n",
    "        if epochLoss[\"valid\"] < bestLoss[\"valid\"]:\n",
    "            bestLoss = epochLoss\n",
    "            BLE = e + 1\n",
    "            torch.save({\"model_state_dict\"     : model.state_dict(),\n",
    "                        \"optim_state_dict\"     : optimizer.state_dict()},\n",
    "                        os.path.join(save_path, name))\n",
    "        \n",
    "        if epochAccs[\"valid\"] > bestAccs[\"valid\"]:\n",
    "            bestAccs = epochAccs\n",
    "            BAE = e + 1\n",
    "        \n",
    "        # if scheduler: scheduler.step(epochLoss[\"valid\"])\n",
    "        \n",
    "        if verbose:\n",
    "            print(\"Epoch: {} | Train Loss: {:.5f} | Valid Loss: {:.5f} | Train Accs: {:.5f} | Valid Accs: {:.5f} | Time: {:.2f} seconds\".format(e+1, \n",
    "                                                                       epochLoss[\"train\"], epochLoss[\"valid\"], \n",
    "                                                                       epochAccs[\"train\"], epochAccs[\"valid\"], \n",
    "                                                                       time()-e_st))\n",
    "\n",
    "    if verbose:                                           \n",
    "        breaker()\n",
    "        print(f\"Best Validation Loss at Epoch {BLE}\")\n",
    "        breaker()\n",
    "        print(f\"Best Validation Accs at Epoch {BAE}\")\n",
    "        breaker()\n",
    "        print(\"Time Taken [{} Epochs] : {:.2f} minutes\".format(len(Losses), (time()-start_time)/60))\n",
    "    \n",
    "    return Losses, Accuracies, LRs, BLE, BAE, name\n",
    "\n",
    "\n",
    "def predict(model=None, dataloader=None, path=None, device=None) -> np.ndarray:\n",
    "    model.load_state_dict(torch.load(path, map_location=device)[\"model_state_dict\"])\n",
    "    model.to(device)    \n",
    "    model.eval()\n",
    "    \n",
    "    y_pred = torch.zeros(1, 1).to(device)\n",
    "    \n",
    "    for X in dataloader:\n",
    "        X = X.to(device)\n",
    "        with torch.no_grad():\n",
    "            output = torch.sigmoid(model(X))\n",
    "        y_pred = torch.cat((y_pred, output.view(-1, 1)), dim=0)\n",
    "    \n",
    "    y_pred[y_pred > 0.5] = 1\n",
    "    y_pred[y_pred <= 0.5] = 0\n",
    "    \n",
    "    return y_pred[1:].detach().cpu().numpy()"
   ]
  },
  {
   "cell_type": "markdown",
   "id": "a9e739b6",
   "metadata": {
    "papermill": {
     "duration": 0.013151,
     "end_time": "2022-04-09T23:12:31.366517",
     "exception": false,
     "start_time": "2022-04-09T23:12:31.353366",
     "status": "completed"
    },
    "tags": []
   },
   "source": [
    "### **Train**"
   ]
  },
  {
   "cell_type": "code",
   "execution_count": 7,
   "id": "4783bfa2",
   "metadata": {
    "execution": {
     "iopub.execute_input": "2022-04-09T23:12:31.396987Z",
     "iopub.status.busy": "2022-04-09T23:12:31.396437Z",
     "iopub.status.idle": "2022-04-09T23:12:38.898410Z",
     "shell.execute_reply": "2022-04-09T23:12:38.898967Z",
     "shell.execute_reply.started": "2022-04-09T01:18:47.643848Z"
    },
    "papermill": {
     "duration": 7.518919,
     "end_time": "2022-04-09T23:12:38.899126",
     "exception": false,
     "start_time": "2022-04-09T23:12:31.380207",
     "status": "completed"
    },
    "tags": []
   },
   "outputs": [],
   "source": [
    "images = np.load(f\"../input/chest-x-rays-images/train_images_{SIZE}.npy\")\n",
    "labels = np.load(f\"../input/chest-x-rays-images/train_targets_{SIZE}.npy\")"
   ]
  },
  {
   "cell_type": "code",
   "execution_count": 8,
   "id": "4a23ae70",
   "metadata": {
    "execution": {
     "iopub.execute_input": "2022-04-09T23:12:38.939501Z",
     "iopub.status.busy": "2022-04-09T23:12:38.938561Z",
     "iopub.status.idle": "2022-04-10T00:00:03.868057Z",
     "shell.execute_reply": "2022-04-10T00:00:03.868479Z",
     "shell.execute_reply.started": "2022-04-09T01:36:59.635267Z"
    },
    "papermill": {
     "duration": 2844.956153,
     "end_time": "2022-04-10T00:00:03.868638",
     "exception": false,
     "start_time": "2022-04-09T23:12:38.912485",
     "status": "completed"
    },
    "tags": []
   },
   "outputs": [
    {
     "name": "stderr",
     "output_type": "stream",
     "text": [
      "Downloading: \"https://download.pytorch.org/models/resnet50-0676ba61.pth\" to /root/.cache/torch/hub/checkpoints/resnet50-0676ba61.pth\n"
     ]
    },
    {
     "data": {
      "application/vnd.jupyter.widget-view+json": {
       "model_id": "a894585b7c354c8c9c61ffaae263d373",
       "version_major": 2,
       "version_minor": 0
      },
      "text/plain": [
       "  0%|          | 0.00/97.8M [00:00<?, ?B/s]"
      ]
     },
     "metadata": {},
     "output_type": "display_data"
    },
    {
     "name": "stdout",
     "output_type": "stream",
     "text": [
      "\n",
      "**************************************************\n",
      "\n",
      "Training Fold 1...\n",
      "\n",
      "**************************************************\n",
      "\n",
      "Epoch: 1 | Train Loss: 0.25959 | Valid Loss: 0.09742 | Train Accs: 0.91460 | Valid Accs: 0.96347 | Time: 47.62 seconds\n",
      "Epoch: 2 | Train Loss: 0.08909 | Valid Loss: 0.15324 | Train Accs: 0.96517 | Valid Accs: 0.95049 | Time: 41.30 seconds\n",
      "Epoch: 3 | Train Loss: 0.11990 | Valid Loss: 0.10094 | Train Accs: 0.95587 | Valid Accs: 0.96158 | Time: 41.14 seconds\n",
      "Epoch: 4 | Train Loss: 0.12178 | Valid Loss: 0.16760 | Train Accs: 0.95324 | Valid Accs: 0.93696 | Time: 41.19 seconds\n",
      "Epoch: 5 | Train Loss: 0.08017 | Valid Loss: 0.04529 | Train Accs: 0.96970 | Valid Accs: 0.97984 | Time: 41.76 seconds\n",
      "Epoch: 6 | Train Loss: 0.07847 | Valid Loss: 0.12578 | Train Accs: 0.96947 | Valid Accs: 0.95495 | Time: 41.34 seconds\n",
      "Epoch: 7 | Train Loss: 0.07360 | Valid Loss: 0.05429 | Train Accs: 0.97328 | Valid Accs: 0.98363 | Time: 41.16 seconds\n",
      "Epoch: 8 | Train Loss: 0.06235 | Valid Loss: 0.04158 | Train Accs: 0.97686 | Valid Accs: 0.98147 | Time: 41.75 seconds\n",
      "Epoch: 9 | Train Loss: 0.03474 | Valid Loss: 0.04106 | Train Accs: 0.98712 | Valid Accs: 0.98674 | Time: 41.79 seconds\n",
      "Epoch: 10 | Train Loss: 0.03790 | Valid Loss: 0.06572 | Train Accs: 0.98712 | Valid Accs: 0.97727 | Time: 41.38 seconds\n",
      "Epoch: 11 | Train Loss: 0.02824 | Valid Loss: 0.04262 | Train Accs: 0.99152 | Valid Accs: 0.98458 | Time: 41.21 seconds\n",
      "Epoch: 12 | Train Loss: 0.01465 | Valid Loss: 0.07278 | Train Accs: 0.99427 | Valid Accs: 0.97294 | Time: 41.15 seconds\n",
      "Epoch: 13 | Train Loss: 0.01767 | Valid Loss: 0.05602 | Train Accs: 0.99427 | Valid Accs: 0.98742 | Time: 41.12 seconds\n",
      "Epoch: 14 | Train Loss: 0.01649 | Valid Loss: 0.05135 | Train Accs: 0.99380 | Valid Accs: 0.98011 | Time: 41.29 seconds\n",
      "\n",
      "Early Stopping at Epoch 15\n",
      "\n",
      "**************************************************\n",
      "\n",
      "Best Validation Loss at Epoch 9\n",
      "\n",
      "**************************************************\n",
      "\n",
      "Best Validation Accs at Epoch 13\n",
      "\n",
      "**************************************************\n",
      "\n",
      "Time Taken [15 Epochs] : 10.44 minutes\n",
      "\n",
      "**************************************************\n",
      "\n"
     ]
    },
    {
     "data": {
      "image/png": "[encoded data removed]",
      "text/plain": [
       "<Figure size 576x432 with 2 Axes>"
      ]
     },
     "metadata": {
      "needs_background": "light"
     },
     "output_type": "display_data"
    },
    {
     "name": "stdout",
     "output_type": "stream",
     "text": [
      "\n",
      "**************************************************\n",
      "\n",
      "Training Fold 2...\n",
      "\n",
      "**************************************************\n",
      "\n",
      "Epoch: 1 | Train Loss: 0.32276 | Valid Loss: 0.09835 | Train Accs: 0.89276 | Valid Accs: 0.95432 | Time: 36.94 seconds\n",
      "Epoch: 2 | Train Loss: 0.05375 | Valid Loss: 0.95790 | Train Accs: 0.97869 | Valid Accs: 0.73745 | Time: 36.54 seconds\n",
      "Epoch: 3 | Train Loss: 0.04663 | Valid Loss: 0.10439 | Train Accs: 0.98174 | Valid Accs: 0.96691 | Time: 36.62 seconds\n",
      "Epoch: 4 | Train Loss: 0.07557 | Valid Loss: 0.50293 | Train Accs: 0.97359 | Valid Accs: 0.81949 | Time: 36.44 seconds\n",
      "Epoch: 5 | Train Loss: 0.03451 | Valid Loss: 0.03893 | Train Accs: 0.98698 | Valid Accs: 0.98457 | Time: 37.15 seconds\n",
      "Epoch: 6 | Train Loss: 0.02147 | Valid Loss: 0.07855 | Train Accs: 0.99148 | Valid Accs: 0.97027 | Time: 37.04 seconds\n",
      "Epoch: 7 | Train Loss: 0.02820 | Valid Loss: 0.05191 | Train Accs: 0.98979 | Valid Accs: 0.98254 | Time: 36.57 seconds\n",
      "Epoch: 8 | Train Loss: 0.03126 | Valid Loss: 0.08591 | Train Accs: 0.98945 | Valid Accs: 0.97191 | Time: 36.56 seconds\n",
      "Epoch: 9 | Train Loss: 0.01101 | Valid Loss: 0.04442 | Train Accs: 0.99645 | Valid Accs: 0.98438 | Time: 36.58 seconds\n",
      "Epoch: 10 | Train Loss: 0.00378 | Valid Loss: 0.02765 | Train Accs: 0.99905 | Valid Accs: 0.99173 | Time: 37.25 seconds\n",
      "Epoch: 11 | Train Loss: 0.00261 | Valid Loss: 0.02447 | Train Accs: 0.99953 | Valid Accs: 0.99357 | Time: 37.49 seconds\n",
      "Epoch: 12 | Train Loss: 0.00097 | Valid Loss: 0.02487 | Train Accs: 1.00000 | Valid Accs: 0.99265 | Time: 36.62 seconds\n",
      "Epoch: 13 | Train Loss: 0.00079 | Valid Loss: 0.02918 | Train Accs: 0.99976 | Valid Accs: 0.99449 | Time: 36.57 seconds\n",
      "Epoch: 14 | Train Loss: 0.00037 | Valid Loss: 0.02736 | Train Accs: 1.00000 | Valid Accs: 0.99449 | Time: 36.63 seconds\n",
      "Epoch: 15 | Train Loss: 0.00029 | Valid Loss: 0.02780 | Train Accs: 1.00000 | Valid Accs: 0.99449 | Time: 36.85 seconds\n",
      "Epoch: 16 | Train Loss: 0.00024 | Valid Loss: 0.02648 | Train Accs: 1.00000 | Valid Accs: 0.99449 | Time: 36.54 seconds\n",
      "\n",
      "Early Stopping at Epoch 17\n",
      "\n",
      "**************************************************\n",
      "\n",
      "Best Validation Loss at Epoch 11\n",
      "\n",
      "**************************************************\n",
      "\n",
      "Best Validation Accs at Epoch 13\n",
      "\n",
      "**************************************************\n",
      "\n",
      "Time Taken [17 Epochs] : 10.42 minutes\n",
      "\n",
      "**************************************************\n",
      "\n"
     ]
    },
    {
     "data": {
      "image/png": "[encoded data removed]",
      "text/plain": [
       "<Figure size 576x432 with 2 Axes>"
      ]
     },
     "metadata": {
      "needs_background": "light"
     },
     "output_type": "display_data"
    },
    {
     "name": "stdout",
     "output_type": "stream",
     "text": [
      "\n",
      "**************************************************\n",
      "\n",
      "Training Fold 3...\n",
      "\n",
      "**************************************************\n",
      "\n",
      "Epoch: 1 | Train Loss: 0.32700 | Valid Loss: 0.07379 | Train Accs: 0.89323 | Valid Accs: 0.97527 | Time: 37.09 seconds\n",
      "Epoch: 2 | Train Loss: 0.07667 | Valid Loss: 2.19315 | Train Accs: 0.97374 | Valid Accs: 0.42923 | Time: 36.53 seconds\n",
      "Epoch: 3 | Train Loss: 0.04486 | Valid Loss: 0.10788 | Train Accs: 0.98651 | Valid Accs: 0.95413 | Time: 36.56 seconds\n",
      "Epoch: 4 | Train Loss: 0.06473 | Valid Loss: 1.16830 | Train Accs: 0.97562 | Valid Accs: 0.72961 | Time: 36.49 seconds\n",
      "Epoch: 5 | Train Loss: 0.04746 | Valid Loss: 0.27254 | Train Accs: 0.98295 | Valid Accs: 0.87834 | Time: 36.66 seconds\n",
      "Epoch: 6 | Train Loss: 0.02875 | Valid Loss: 0.14287 | Train Accs: 0.98924 | Valid Accs: 0.96716 | Time: 36.62 seconds\n",
      "\n",
      "Early Stopping at Epoch 7\n",
      "\n",
      "**************************************************\n",
      "\n",
      "Best Validation Loss at Epoch 1\n",
      "\n",
      "**************************************************\n",
      "\n",
      "Best Validation Accs at Epoch 1\n",
      "\n",
      "**************************************************\n",
      "\n",
      "Time Taken [7 Epochs] : 4.28 minutes\n",
      "\n",
      "**************************************************\n",
      "\n"
     ]
    },
    {
     "data": {
      "image/png": "[encoded data removed]",
      "text/plain": [
       "<Figure size 576x432 with 2 Axes>"
      ]
     },
     "metadata": {
      "needs_background": "light"
     },
     "output_type": "display_data"
    },
    {
     "name": "stdout",
     "output_type": "stream",
     "text": [
      "\n",
      "**************************************************\n",
      "\n",
      "Training Fold 4...\n",
      "\n",
      "**************************************************\n",
      "\n",
      "Epoch: 1 | Train Loss: 0.32521 | Valid Loss: 0.06543 | Train Accs: 0.88944 | Valid Accs: 0.97167 | Time: 37.03 seconds\n",
      "Epoch: 2 | Train Loss: 0.04797 | Valid Loss: 0.37518 | Train Accs: 0.98392 | Valid Accs: 0.86213 | Time: 36.74 seconds\n",
      "Epoch: 3 | Train Loss: 0.05825 | Valid Loss: 0.14883 | Train Accs: 0.97704 | Valid Accs: 0.94962 | Time: 36.67 seconds\n",
      "Epoch: 4 | Train Loss: 0.05815 | Valid Loss: 0.06395 | Train Accs: 0.97680 | Valid Accs: 0.97802 | Time: 37.46 seconds\n",
      "Epoch: 5 | Train Loss: 0.03183 | Valid Loss: 0.08395 | Train Accs: 0.98769 | Valid Accs: 0.97059 | Time: 36.85 seconds\n",
      "Epoch: 6 | Train Loss: 0.02671 | Valid Loss: 0.27766 | Train Accs: 0.99100 | Valid Accs: 0.89330 | Time: 36.62 seconds\n",
      "Epoch: 7 | Train Loss: 0.02697 | Valid Loss: 0.05992 | Train Accs: 0.99053 | Valid Accs: 0.97627 | Time: 37.41 seconds\n",
      "Epoch: 8 | Train Loss: 0.02328 | Valid Loss: 0.09801 | Train Accs: 0.99195 | Valid Accs: 0.96324 | Time: 36.55 seconds\n",
      "Epoch: 9 | Train Loss: 0.01533 | Valid Loss: 0.03491 | Train Accs: 0.99384 | Valid Accs: 0.98814 | Time: 37.25 seconds\n",
      "Epoch: 10 | Train Loss: 0.00751 | Valid Loss: 0.02915 | Train Accs: 0.99740 | Valid Accs: 0.99173 | Time: 37.40 seconds\n",
      "Epoch: 11 | Train Loss: 0.00275 | Valid Loss: 0.03202 | Train Accs: 0.99929 | Valid Accs: 0.98897 | Time: 36.70 seconds\n",
      "Epoch: 12 | Train Loss: 0.00120 | Valid Loss: 0.02535 | Train Accs: 1.00000 | Valid Accs: 0.99357 | Time: 37.20 seconds\n",
      "Epoch: 13 | Train Loss: 0.00121 | Valid Loss: 0.02587 | Train Accs: 0.99953 | Valid Accs: 0.98997 | Time: 36.84 seconds\n",
      "Epoch: 14 | Train Loss: 0.00062 | Valid Loss: 0.02692 | Train Accs: 1.00000 | Valid Accs: 0.99173 | Time: 36.64 seconds\n",
      "Epoch: 15 | Train Loss: 0.00043 | Valid Loss: 0.02702 | Train Accs: 1.00000 | Valid Accs: 0.99173 | Time: 36.68 seconds\n",
      "Epoch: 16 | Train Loss: 0.00049 | Valid Loss: 0.02881 | Train Accs: 1.00000 | Valid Accs: 0.99081 | Time: 36.73 seconds\n",
      "Epoch: 17 | Train Loss: 0.00017 | Valid Loss: 0.02693 | Train Accs: 1.00000 | Valid Accs: 0.98905 | Time: 36.67 seconds\n",
      "\n",
      "Early Stopping at Epoch 18\n",
      "\n",
      "**************************************************\n",
      "\n",
      "Best Validation Loss at Epoch 12\n",
      "\n",
      "**************************************************\n",
      "\n",
      "Best Validation Accs at Epoch 12\n",
      "\n",
      "**************************************************\n",
      "\n",
      "Time Taken [18 Epochs] : 11.07 minutes\n",
      "\n",
      "**************************************************\n",
      "\n"
     ]
    },
    {
     "data": {
      "image/png": "[encoded data removed]",
      "text/plain": [
       "<Figure size 576x432 with 2 Axes>"
      ]
     },
     "metadata": {
      "needs_background": "light"
     },
     "output_type": "display_data"
    },
    {
     "name": "stdout",
     "output_type": "stream",
     "text": [
      "\n",
      "**************************************************\n",
      "\n",
      "Training Fold 5...\n",
      "\n",
      "**************************************************\n",
      "\n",
      "Epoch: 1 | Train Loss: 0.32787 | Valid Loss: 0.11362 | Train Accs: 0.89052 | Valid Accs: 0.95956 | Time: 37.11 seconds\n",
      "Epoch: 2 | Train Loss: 0.06312 | Valid Loss: 0.11434 | Train Accs: 0.97598 | Valid Accs: 0.96340 | Time: 36.57 seconds\n",
      "Epoch: 3 | Train Loss: 0.04506 | Valid Loss: 0.10543 | Train Accs: 0.98403 | Valid Accs: 0.94619 | Time: 37.62 seconds\n",
      "Epoch: 4 | Train Loss: 0.06693 | Valid Loss: 31.75752 | Train Accs: 0.97622 | Valid Accs: 0.71415 | Time: 36.66 seconds\n",
      "Epoch: 5 | Train Loss: 0.05866 | Valid Loss: 0.12547 | Train Accs: 0.97882 | Valid Accs: 0.95129 | Time: 36.59 seconds\n",
      "Epoch: 6 | Train Loss: 0.02600 | Valid Loss: 0.04476 | Train Accs: 0.98982 | Valid Accs: 0.98070 | Time: 37.44 seconds\n",
      "Epoch: 7 | Train Loss: 0.01448 | Valid Loss: 0.09833 | Train Accs: 0.99550 | Valid Accs: 0.97426 | Time: 36.57 seconds\n",
      "Epoch: 8 | Train Loss: 0.01259 | Valid Loss: 0.18564 | Train Accs: 0.99479 | Valid Accs: 0.94276 | Time: 36.49 seconds\n",
      "Epoch: 9 | Train Loss: 0.01364 | Valid Loss: 0.06139 | Train Accs: 0.99503 | Valid Accs: 0.96984 | Time: 36.60 seconds\n",
      "Epoch: 10 | Train Loss: 0.00477 | Valid Loss: 0.09369 | Train Accs: 0.99858 | Valid Accs: 0.97886 | Time: 36.50 seconds\n",
      "Epoch: 11 | Train Loss: 0.00231 | Valid Loss: 0.03073 | Train Accs: 0.99929 | Valid Accs: 0.99357 | Time: 37.20 seconds\n",
      "Epoch: 12 | Train Loss: 0.00098 | Valid Loss: 0.02452 | Train Accs: 0.99976 | Valid Accs: 0.99265 | Time: 37.46 seconds\n",
      "Epoch: 13 | Train Loss: 0.00296 | Valid Loss: 0.05291 | Train Accs: 0.99905 | Valid Accs: 0.98346 | Time: 36.58 seconds\n",
      "Epoch: 14 | Train Loss: 0.00222 | Valid Loss: 0.03307 | Train Accs: 0.99905 | Valid Accs: 0.98722 | Time: 36.59 seconds\n",
      "Epoch: 15 | Train Loss: 0.00126 | Valid Loss: 0.04217 | Train Accs: 0.99976 | Valid Accs: 0.99081 | Time: 36.50 seconds\n",
      "Epoch: 16 | Train Loss: 0.00050 | Valid Loss: 0.03408 | Train Accs: 1.00000 | Valid Accs: 0.99173 | Time: 36.58 seconds\n",
      "Epoch: 17 | Train Loss: 0.00019 | Valid Loss: 0.02783 | Train Accs: 1.00000 | Valid Accs: 0.99173 | Time: 36.59 seconds\n",
      "\n",
      "Early Stopping at Epoch 18\n",
      "\n",
      "**************************************************\n",
      "\n",
      "Best Validation Loss at Epoch 12\n",
      "\n",
      "**************************************************\n",
      "\n",
      "Best Validation Accs at Epoch 11\n",
      "\n",
      "**************************************************\n",
      "\n",
      "Time Taken [18 Epochs] : 11.04 minutes\n",
      "\n",
      "**************************************************\n",
      "\n"
     ]
    },
    {
     "data": {
      "image/png": "[encoded data removed]",
      "text/plain": [
       "<Figure size 576x432 with 2 Axes>"
      ]
     },
     "metadata": {
      "needs_background": "light"
     },
     "output_type": "display_data"
    }
   ],
   "source": [
    "fold = 1\n",
    "BLEs, BAEs = [], []\n",
    "\n",
    "for tr_idx, va_idx in KFold(n_splits=cfg.n_splits, random_state=SEED, shuffle=True).split(images):\n",
    "    tr_images, va_images, tr_labels, va_labels = images[tr_idx], images[va_idx], labels[tr_idx], labels[va_idx]\n",
    "\n",
    "    tr_data_setup = DS(tr_images, tr_labels.reshape(-1, 1), cfg.transform)\n",
    "    va_data_setup = DS(va_images, va_labels.reshape(-1, 1), cfg.transform)\n",
    "\n",
    "    dataloaders = {\n",
    "        \"train\" : DL(tr_data_setup, batch_size=cfg.batch_size, shuffle=True, generator=torch.manual_seed(cfg.seed)),\n",
    "        \"valid\" : DL(va_data_setup, batch_size=cfg.batch_size, shuffle=False),\n",
    "    }\n",
    "\n",
    "    cfg = CFG(epochs=20, lr=1e-3, wd=0.0, batch_size=64, steps_per_epoch=len(dataloaders[\"train\"]))\n",
    "\n",
    "    torch.manual_seed(cfg.seed)\n",
    "    model = MyResnet().to(cfg.device)\n",
    "    optimizer = optim.Adam([p for p in model.parameters() if p.requires_grad], lr=cfg.lr, weight_decay=cfg.wd)\n",
    "    scheduler = optim.lr_scheduler.OneCycleLR(optimizer=optimizer, \n",
    "                                              max_lr=cfg.max_lr, \n",
    "                                              epochs=cfg.epochs, \n",
    "                                              steps_per_epoch=cfg.steps_per_epoch,\n",
    "                                              pct_start=cfg.pct_start, \n",
    "                                              div_factor=cfg.div_factor, \n",
    "                                              final_div_factor=cfg.final_div_factor)\n",
    "    # scheduler = None\n",
    "\n",
    "    L, A, LRs, BLE, BAE, name = fit(model=model, \n",
    "                                    optimizer=optimizer, \n",
    "                                    scheduler=scheduler, \n",
    "                                    epochs=cfg.epochs, \n",
    "                                    early_stopping_patience=cfg.early_stopping, \n",
    "                                    dataloaders=dataloaders, \n",
    "                                    device=cfg.device,\n",
    "                                    save_path=cfg.save_path,\n",
    "                                    fold = fold,\n",
    "                                    verbose=True)\n",
    "\n",
    "    breaker()\n",
    "    show_graphs(L, A)\n",
    "    \n",
    "    BLEs.append(BLE)\n",
    "    BAEs.append(BAE)\n",
    "\n",
    "    fold += 1"
   ]
  },
  {
   "cell_type": "markdown",
   "id": "9bd62143",
   "metadata": {
    "papermill": {
     "duration": 0.044927,
     "end_time": "2022-04-10T00:00:03.958686",
     "exception": false,
     "start_time": "2022-04-10T00:00:03.913759",
     "status": "completed"
    },
    "tags": []
   },
   "source": [
    "### **Predictions**"
   ]
  },
  {
   "cell_type": "code",
   "execution_count": 9,
   "id": "10807773",
   "metadata": {
    "execution": {
     "iopub.execute_input": "2022-04-10T00:00:04.060332Z",
     "iopub.status.busy": "2022-04-10T00:00:04.059698Z",
     "iopub.status.idle": "2022-04-10T00:00:07.158486Z",
     "shell.execute_reply": "2022-04-10T00:00:07.159048Z",
     "shell.execute_reply.started": "2022-04-09T01:41:41.028783Z"
    },
    "papermill": {
     "duration": 3.153167,
     "end_time": "2022-04-10T00:00:07.159210",
     "exception": false,
     "start_time": "2022-04-10T00:00:04.006043",
     "status": "completed"
    },
    "tags": []
   },
   "outputs": [
    {
     "name": "stdout",
     "output_type": "stream",
     "text": [
      "\n",
      "**************************************************\n",
      "\n",
      "Best Fold : 3\n",
      "\n",
      "**************************************************\n",
      "\n",
      "Accuracy  : 0.83814\n",
      "ROC-AUC   : 0.89106\n",
      "Precision : [0.57692308 0.99487179]\n",
      "Recall    : [0.98540146 0.79671458]\n",
      "F-Score   : [0.7277628  0.88483466]\n",
      "\n",
      "**************************************************\n",
      "\n"
     ]
    }
   ],
   "source": [
    "test_images = np.load(f\"../input/chest-x-rays-images/test_images_{SIZE}.npy\")\n",
    "test_labels = np.load(f\"../input/chest-x-rays-images/test_targets_{SIZE}.npy\")\n",
    "\n",
    "ts_data_setup = DS(test_images, None, cfg.transform)\n",
    "ts_data = DL(ts_data_setup, batch_size=cfg.batch_size, shuffle=False)\n",
    "\n",
    "best_fold = BLEs.index(min(BLEs)) + 1\n",
    "model_path = f\"saves/state_fold_{best_fold}.pt\"\n",
    "y_pred = predict(model=MyResnet().to(cfg.device), dataloader=ts_data, path=model_path, device=cfg.device)\n",
    "\n",
    "accuracy, auc, precision, recall, f_score = get_scores(test_labels, y_pred)\n",
    "\n",
    "breaker()\n",
    "print(f\"Best Fold : {best_fold}\")\n",
    "breaker()\n",
    "print_scores(accuracy, auc, precision, recall, f_score)\n",
    "breaker()"
   ]
  }
 ],
 "metadata": {
  "kernelspec": {
   "display_name": "Python 3",
   "language": "python",
   "name": "python3"
  },
  "language_info": {
   "codemirror_mode": {
    "name": "ipython",
    "version": 3
   },
   "file_extension": ".py",
   "mimetype": "text/x-python",
   "name": "python",
   "nbconvert_exporter": "python",
   "pygments_lexer": "ipython3",
   "version": "3.7.12"
  },
  "papermill": {
   "default_parameters": {},
   "duration": 2867.922968,
   "end_time": "2022-04-10T00:00:08.722822",
   "environment_variables": {},
   "exception": null,
   "input_path": "__notebook__.ipynb",
   "output_path": "__notebook__.ipynb",
   "parameters": {},
   "start_time": "2022-04-09T23:12:20.799854",
   "version": "2.3.3"
  },
  "widgets": {
   "application/vnd.jupyter.widget-state+json": {
    "state": {
     "5144de42d3f84a8a9934c4f35a5c5598": {
      "model_module": "@jupyter-widgets/base",
      "model_module_version": "1.2.0",
      "model_name": "LayoutModel",
      "state": {
       "_model_module": "@jupyter-widgets/base",
       "_model_module_version": "1.2.0",
       "_model_name": "LayoutModel",
       "_view_count": null,
       "_view_module": "@jupyter-widgets/base",
       "_view_module_version": "1.2.0",
       "_view_name": "LayoutView",
       "align_content": null,
       "align_items": null,
       "align_self": null,
       "border": null,
       "bottom": null,
       "display": null,
       "flex": null,
       "flex_flow": null,
       "grid_area": null,
       "grid_auto_columns": null,
       "grid_auto_flow": null,
       "grid_auto_rows": null,
       "grid_column": null,
       "grid_gap": null,
       "grid_row": null,
       "grid_template_areas": null,
       "grid_template_columns": null,
       "grid_template_rows": null,
       "height": null,
       "justify_content": null,
       "justify_items": null,
       "left": null,
       "margin": null,
       "max_height": null,
       "max_width": null,
       "min_height": null,
       "min_width": null,
       "object_fit": null,
       "object_position": null,
       "order": null,
       "overflow": null,
       "overflow_x": null,
       "overflow_y": null,
       "padding": null,
       "right": null,
       "top": null,
       "visibility": null,
       "width": null
      }
     },
     "5cc8c82326c947d896f6caca2c6bd336": {
      "model_module": "@jupyter-widgets/controls",
      "model_module_version": "1.5.0",
      "model_name": "FloatProgressModel",
      "state": {
       "_dom_classes": [],
       "_model_module": "@jupyter-widgets/controls",
       "_model_module_version": "1.5.0",
       "_model_name": "FloatProgressModel",
       "_view_count": null,
       "_view_module": "@jupyter-widgets/controls",
       "_view_module_version": "1.5.0",
       "_view_name": "ProgressView",
       "bar_style": "success",
       "description": "",
       "description_tooltip": null,
       "layout": "IPY_MODEL_a364613ae6b54235a07172fb38bc7795",
       "max": 102530333.0,
       "min": 0.0,
       "orientation": "horizontal",
       "style": "IPY_MODEL_dfce9ce6bcee4e128c168cd057744f74",
       "value": 102530333.0
      }
     },
     "695d8700a6dc48eca0a3b8790dac8dcb": {
      "model_module": "@jupyter-widgets/base",
      "model_module_version": "1.2.0",
      "model_name": "LayoutModel",
      "state": {
       "_model_module": "@jupyter-widgets/base",
       "_model_module_version": "1.2.0",
       "_model_name": "LayoutModel",
       "_view_count": null,
       "_view_module": "@jupyter-widgets/base",
       "_view_module_version": "1.2.0",
       "_view_name": "LayoutView",
       "align_content": null,
       "align_items": null,
       "align_self": null,
       "border": null,
       "bottom": null,
       "display": null,
       "flex": null,
       "flex_flow": null,
       "grid_area": null,
       "grid_auto_columns": null,
       "grid_auto_flow": null,
       "grid_auto_rows": null,
       "grid_column": null,
       "grid_gap": null,
       "grid_row": null,
       "grid_template_areas": null,
       "grid_template_columns": null,
       "grid_template_rows": null,
       "height": null,
       "justify_content": null,
       "justify_items": null,
       "left": null,
       "margin": null,
       "max_height": null,
       "max_width": null,
       "min_height": null,
       "min_width": null,
       "object_fit": null,
       "object_position": null,
       "order": null,
       "overflow": null,
       "overflow_x": null,
       "overflow_y": null,
       "padding": null,
       "right": null,
       "top": null,
       "visibility": null,
       "width": null
      }
     },
     "85a349fe4459483b8c35c210bd754bc8": {
      "model_module": "@jupyter-widgets/controls",
      "model_module_version": "1.5.0",
      "model_name": "DescriptionStyleModel",
      "state": {
       "_model_module": "@jupyter-widgets/controls",
       "_model_module_version": "1.5.0",
       "_model_name": "DescriptionStyleModel",
       "_view_count": null,
       "_view_module": "@jupyter-widgets/base",
       "_view_module_version": "1.2.0",
       "_view_name": "StyleView",
       "description_width": ""
      }
     },
     "9ddfaacf3d79476f83468e404ebc1e51": {
      "model_module": "@jupyter-widgets/controls",
      "model_module_version": "1.5.0",
      "model_name": "HTMLModel",
      "state": {
       "_dom_classes": [],
       "_model_module": "@jupyter-widgets/controls",
       "_model_module_version": "1.5.0",
       "_model_name": "HTMLModel",
       "_view_count": null,
       "_view_module": "@jupyter-widgets/controls",
       "_view_module_version": "1.5.0",
       "_view_name": "HTMLView",
       "description": "",
       "description_tooltip": null,
       "layout": "IPY_MODEL_a3b20dbd826c4e949a3cc63a705ae593",
       "placeholder": "​",
       "style": "IPY_MODEL_85a349fe4459483b8c35c210bd754bc8",
       "value": " 97.8M/97.8M [00:00&lt;00:00, 212MB/s]"
      }
     },
     "a364613ae6b54235a07172fb38bc7795": {
      "model_module": "@jupyter-widgets/base",
      "model_module_version": "1.2.0",
      "model_name": "LayoutModel",
      "state": {
       "_model_module": "@jupyter-widgets/base",
       "_model_module_version": "1.2.0",
       "_model_name": "LayoutModel",
       "_view_count": null,
       "_view_module": "@jupyter-widgets/base",
       "_view_module_version": "1.2.0",
       "_view_name": "LayoutView",
       "align_content": null,
       "align_items": null,
       "align_self": null,
       "border": null,
       "bottom": null,
       "display": null,
       "flex": null,
       "flex_flow": null,
       "grid_area": null,
       "grid_auto_columns": null,
       "grid_auto_flow": null,
       "grid_auto_rows": null,
       "grid_column": null,
       "grid_gap": null,
       "grid_row": null,
       "grid_template_areas": null,
       "grid_template_columns": null,
       "grid_template_rows": null,
       "height": null,
       "justify_content": null,
       "justify_items": null,
       "left": null,
       "margin": null,
       "max_height": null,
       "max_width": null,
       "min_height": null,
       "min_width": null,
       "object_fit": null,
       "object_position": null,
       "order": null,
       "overflow": null,
       "overflow_x": null,
       "overflow_y": null,
       "padding": null,
       "right": null,
       "top": null,
       "visibility": null,
       "width": null
      }
     },
     "a3b20dbd826c4e949a3cc63a705ae593": {
      "model_module": "@jupyter-widgets/base",
      "model_module_version": "1.2.0",
      "model_name": "LayoutModel",
      "state": {
       "_model_module": "@jupyter-widgets/base",
       "_model_module_version": "1.2.0",
       "_model_name": "LayoutModel",
       "_view_count": null,
       "_view_module": "@jupyter-widgets/base",
       "_view_module_version": "1.2.0",
       "_view_name": "LayoutView",
       "align_content": null,
       "align_items": null,
       "align_self": null,
       "border": null,
       "bottom": null,
       "display": null,
       "flex": null,
       "flex_flow": null,
       "grid_area": null,
       "grid_auto_columns": null,
       "grid_auto_flow": null,
       "grid_auto_rows": null,
       "grid_column": null,
       "grid_gap": null,
       "grid_row": null,
       "grid_template_areas": null,
       "grid_template_columns": null,
       "grid_template_rows": null,
       "height": null,
       "justify_content": null,
       "justify_items": null,
       "left": null,
       "margin": null,
       "max_height": null,
       "max_width": null,
       "min_height": null,
       "min_width": null,
       "object_fit": null,
       "object_position": null,
       "order": null,
       "overflow": null,
       "overflow_x": null,
       "overflow_y": null,
       "padding": null,
       "right": null,
       "top": null,
       "visibility": null,
       "width": null
      }
     },
     "a894585b7c354c8c9c61ffaae263d373": {
      "model_module": "@jupyter-widgets/controls",
      "model_module_version": "1.5.0",
      "model_name": "HBoxModel",
      "state": {
       "_dom_classes": [],
       "_model_module": "@jupyter-widgets/controls",
       "_model_module_version": "1.5.0",
       "_model_name": "HBoxModel",
       "_view_count": null,
       "_view_module": "@jupyter-widgets/controls",
       "_view_module_version": "1.5.0",
       "_view_name": "HBoxView",
       "box_style": "",
       "children": [
        "IPY_MODEL_e0421f680faf477097524c02e14299b8",
        "IPY_MODEL_5cc8c82326c947d896f6caca2c6bd336",
        "IPY_MODEL_9ddfaacf3d79476f83468e404ebc1e51"
       ],
       "layout": "IPY_MODEL_695d8700a6dc48eca0a3b8790dac8dcb"
      }
     },
     "dfce9ce6bcee4e128c168cd057744f74": {
      "model_module": "@jupyter-widgets/controls",
      "model_module_version": "1.5.0",
      "model_name": "ProgressStyleModel",
      "state": {
       "_model_module": "@jupyter-widgets/controls",
       "_model_module_version": "1.5.0",
       "_model_name": "ProgressStyleModel",
       "_view_count": null,
       "_view_module": "@jupyter-widgets/base",
       "_view_module_version": "1.2.0",
       "_view_name": "StyleView",
       "bar_color": null,
       "description_width": ""
      }
     },
     "e0421f680faf477097524c02e14299b8": {
      "model_module": "@jupyter-widgets/controls",
      "model_module_version": "1.5.0",
      "model_name": "HTMLModel",
      "state": {
       "_dom_classes": [],
       "_model_module": "@jupyter-widgets/controls",
       "_model_module_version": "1.5.0",
       "_model_name": "HTMLModel",
       "_view_count": null,
       "_view_module": "@jupyter-widgets/controls",
       "_view_module_version": "1.5.0",
       "_view_name": "HTMLView",
       "description": "",
       "description_tooltip": null,
       "layout": "IPY_MODEL_5144de42d3f84a8a9934c4f35a5c5598",
       "placeholder": "​",
       "style": "IPY_MODEL_e4ff0e8c10744e28a3a7fa578625ec1b",
       "value": "100%"
      }
     },
     "e4ff0e8c10744e28a3a7fa578625ec1b": {
      "model_module": "@jupyter-widgets/controls",
      "model_module_version": "1.5.0",
      "model_name": "DescriptionStyleModel",
      "state": {
       "_model_module": "@jupyter-widgets/controls",
       "_model_module_version": "1.5.0",
       "_model_name": "DescriptionStyleModel",
       "_view_count": null,
       "_view_module": "@jupyter-widgets/base",
       "_view_module_version": "1.2.0",
       "_view_name": "StyleView",
       "description_width": ""
      }
     }
    },
    "version_major": 2,
    "version_minor": 0
   }
  }
 },
 "nbformat": 4,
 "nbformat_minor": 5
}
