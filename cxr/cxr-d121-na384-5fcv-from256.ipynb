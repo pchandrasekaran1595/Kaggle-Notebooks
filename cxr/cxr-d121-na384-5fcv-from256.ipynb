{
 "cells": [
  {
   "cell_type": "markdown",
   "id": "bf2f2a8a",
   "metadata": {
    "_cell_guid": "b1076dfc-b9ad-4769-8c92-a6c4dae69d19",
    "_uuid": "8f2839f25d086af736a60e9eeb907d3b93b6e0e5",
    "papermill": {
     "duration": 0.015672,
     "end_time": "2022-04-26T07:33:21.056691",
     "exception": false,
     "start_time": "2022-04-26T07:33:21.041019",
     "status": "completed"
    },
    "tags": []
   },
   "source": [
    "### Library Imports"
   ]
  },
  {
   "cell_type": "code",
   "execution_count": 1,
   "id": "8affdd0a",
   "metadata": {
    "execution": {
     "iopub.execute_input": "2022-04-26T07:33:21.091777Z",
     "iopub.status.busy": "2022-04-26T07:33:21.090213Z",
     "iopub.status.idle": "2022-04-26T07:33:23.470593Z",
     "shell.execute_reply": "2022-04-26T07:33:23.469864Z",
     "shell.execute_reply.started": "2022-04-09T01:18:45.162484Z"
    },
    "papermill": {
     "duration": 2.398996,
     "end_time": "2022-04-26T07:33:23.470739",
     "exception": false,
     "start_time": "2022-04-26T07:33:21.071743",
     "status": "completed"
    },
    "tags": []
   },
   "outputs": [],
   "source": [
    "import os\n",
    "import re\n",
    "import torch\n",
    "import numpy as np\n",
    "import pandas as pd\n",
    "import matplotlib.pyplot as plt\n",
    "\n",
    "from time import time\n",
    "from torch import nn, optim\n",
    "from torch.utils.data import Dataset\n",
    "from torch.utils.data import DataLoader as DL\n",
    "from torchvision import models, transforms\n",
    "\n",
    "from sklearn.model_selection import KFold\n",
    "from sklearn.preprocessing import LabelEncoder\n",
    "from sklearn.metrics import accuracy_score, \\\n",
    "                            precision_recall_fscore_support, \\\n",
    "                            roc_auc_score, \\\n",
    "                            classification_report, \\\n",
    "                            confusion_matrix"
   ]
  },
  {
   "cell_type": "markdown",
   "id": "7475a0fc",
   "metadata": {
    "papermill": {
     "duration": 0.012668,
     "end_time": "2022-04-26T07:33:23.496729",
     "exception": false,
     "start_time": "2022-04-26T07:33:23.484061",
     "status": "completed"
    },
    "tags": []
   },
   "source": [
    "### **Utilities**"
   ]
  },
  {
   "cell_type": "code",
   "execution_count": 2,
   "id": "33745508",
   "metadata": {
    "execution": {
     "iopub.execute_input": "2022-04-26T07:33:23.536491Z",
     "iopub.status.busy": "2022-04-26T07:33:23.535786Z",
     "iopub.status.idle": "2022-04-26T07:33:23.539001Z",
     "shell.execute_reply": "2022-04-26T07:33:23.538577Z",
     "shell.execute_reply.started": "2022-04-09T01:18:47.512362Z"
    },
    "papermill": {
     "duration": 0.029486,
     "end_time": "2022-04-26T07:33:23.539119",
     "exception": false,
     "start_time": "2022-04-26T07:33:23.509633",
     "status": "completed"
    },
    "tags": []
   },
   "outputs": [],
   "source": [
    "SEED = 42\n",
    "SIZE = 384\n",
    "\n",
    "def breaker(num: int=50, char: str=\"*\") -> None:\n",
    "    print(\"\\n\" + num*char + \"\\n\")\n",
    "\n",
    "\n",
    "def show_graphs(L: list, A: list) -> None:\n",
    "    TL, VL, TA, VA = [], [], [], []\n",
    "    for i in range(len(L)):\n",
    "        TL.append(L[i][\"train\"])\n",
    "        VL.append(L[i][\"valid\"])\n",
    "        TA.append(A[i][\"train\"])\n",
    "        VA.append(A[i][\"valid\"])\n",
    "    x_Axis = np.arange(1, len(TL) + 1)\n",
    "    plt.figure(figsize=(8, 6))\n",
    "    plt.subplot(1, 2, 1)\n",
    "    plt.plot(x_Axis, TL, \"r\", label=\"Train\")\n",
    "    plt.plot(x_Axis, VL, \"b\", label=\"Valid\")\n",
    "    plt.legend()\n",
    "    plt.grid()\n",
    "    plt.title(\"Loss Graph\")\n",
    "    plt.subplot(1, 2, 2)\n",
    "    plt.plot(x_Axis, TA, \"r\", label=\"Train\")\n",
    "    plt.plot(x_Axis, VA, \"b\", label=\"Valid\")\n",
    "    plt.legend()\n",
    "    plt.grid()\n",
    "    plt.title(\"Accuracy Graph\")\n",
    "    plt.show()\n",
    "\n",
    "    \n",
    "def get_scores(y_true: np.ndarray, y_pred: np.ndarray) -> tuple:\n",
    "    accuracy = accuracy_score(y_pred, y_true)\n",
    "    try:\n",
    "        auc = roc_auc_score(y_pred, y_true)\n",
    "    except:\n",
    "        auc = 0\n",
    "    precision, recall, f_score, _ = precision_recall_fscore_support(y_pred, y_true)\n",
    "\n",
    "    return accuracy, auc, precision, recall, f_score\n",
    "\n",
    "\n",
    "def print_scores(accuracy: float, auc: float, precision: np.ndarray, recall: np.ndarray, f_score: np.ndarray) -> None:\n",
    "    print(f\"Accuracy  : {accuracy:.5f}\")\n",
    "    print(f\"ROC-AUC   : {auc:.5f}\")\n",
    "    print(f\"Precision : {precision}\")\n",
    "    print(f\"Recall    : {recall}\")\n",
    "    print(f\"F-Score   : {f_score}\")"
   ]
  },
  {
   "cell_type": "markdown",
   "id": "c78d337d",
   "metadata": {
    "papermill": {
     "duration": 0.012365,
     "end_time": "2022-04-26T07:33:23.563942",
     "exception": false,
     "start_time": "2022-04-26T07:33:23.551577",
     "status": "completed"
    },
    "tags": []
   },
   "source": [
    "### **Configuration**"
   ]
  },
  {
   "cell_type": "code",
   "execution_count": 3,
   "id": "9e59c7bb",
   "metadata": {
    "execution": {
     "iopub.execute_input": "2022-04-26T07:33:23.657022Z",
     "iopub.status.busy": "2022-04-26T07:33:23.596328Z",
     "iopub.status.idle": "2022-04-26T07:33:23.659844Z",
     "shell.execute_reply": "2022-04-26T07:33:23.659095Z",
     "shell.execute_reply.started": "2022-04-09T01:36:52.976989Z"
    },
    "papermill": {
     "duration": 0.083336,
     "end_time": "2022-04-26T07:33:23.659981",
     "exception": false,
     "start_time": "2022-04-26T07:33:23.576645",
     "status": "completed"
    },
    "tags": []
   },
   "outputs": [],
   "source": [
    "class CFG(object):\n",
    "    def __init__(self, \n",
    "                 seed: int = 42,\n",
    "                 n_splits: int = 5,\n",
    "                 batch_size: int = 16,\n",
    "                 epochs: int = 25,\n",
    "                 early_stopping: int = 5,\n",
    "                 lr: float = 1e-4,\n",
    "                 wd: float = 0.0,\n",
    "                 max_lr: float = 1e-3,\n",
    "                 pct_start: float = 0.2,\n",
    "                 steps_per_epoch: int = 100,\n",
    "                 div_factor: int = 1e3, \n",
    "                 final_div_factor: float = 1e3,\n",
    "                 ):\n",
    "        \n",
    "        self.seed = seed\n",
    "        self.n_splits = n_splits\n",
    "        self.batch_size = batch_size\n",
    "        self.epochs = epochs\n",
    "        self.early_stopping = early_stopping\n",
    "        self.lr = lr\n",
    "        self.wd = wd\n",
    "        self.max_lr = max_lr\n",
    "        self.pct_start = pct_start\n",
    "        self.steps_per_epoch = steps_per_epoch\n",
    "        self.div_factor = div_factor\n",
    "        self.final_div_factor = final_div_factor\n",
    "        self.device = torch.device(\"cuda\" if torch.cuda.is_available() else \"cpu\")\n",
    "        self.transform = transforms.Compose([transforms.ToTensor(),\n",
    "                                transforms.Normalize([0.48232, 0.48232, 0.48232],\n",
    "                                                     [0.23703, 0.23703, 0.23703]),\n",
    "                                ])\n",
    "        self.model_path_256 = \"../input/cxr-d121-na256-5fcv/saves/state_fold_1.pt\"\n",
    "        self.save_path = \"saves\"\n",
    "        if not os.path.exists(self.save_path): os.makedirs(self.save_path)\n",
    "    \n",
    "cfg = CFG(seed=SEED)"
   ]
  },
  {
   "cell_type": "markdown",
   "id": "d1bd878a",
   "metadata": {
    "papermill": {
     "duration": 0.013066,
     "end_time": "2022-04-26T07:33:23.685542",
     "exception": false,
     "start_time": "2022-04-26T07:33:23.672476",
     "status": "completed"
    },
    "tags": []
   },
   "source": [
    "### **Dataset Template**"
   ]
  },
  {
   "cell_type": "code",
   "execution_count": 4,
   "id": "dea49244",
   "metadata": {
    "execution": {
     "iopub.execute_input": "2022-04-26T07:33:23.716521Z",
     "iopub.status.busy": "2022-04-26T07:33:23.716013Z",
     "iopub.status.idle": "2022-04-26T07:33:23.718724Z",
     "shell.execute_reply": "2022-04-26T07:33:23.718317Z",
     "shell.execute_reply.started": "2022-04-09T01:18:47.593512Z"
    },
    "papermill": {
     "duration": 0.020694,
     "end_time": "2022-04-26T07:33:23.718822",
     "exception": false,
     "start_time": "2022-04-26T07:33:23.698128",
     "status": "completed"
    },
    "tags": []
   },
   "outputs": [],
   "source": [
    "class DS(Dataset):\n",
    "    def __init__(self, images: np.ndarray, labels: np.ndarray = None, transform=None):\n",
    "        self.images = images\n",
    "        self.labels = labels\n",
    "        self.transform = transform\n",
    "    \n",
    "    def __len__(self):\n",
    "        return self.images.shape[0]\n",
    "    \n",
    "    def __getitem__(self, idx):\n",
    "        if self.labels is not None:\n",
    "            return self.transform(self.images[idx]), torch.FloatTensor(self.labels[idx])\n",
    "        else:\n",
    "            return self.transform(self.images[idx])"
   ]
  },
  {
   "cell_type": "markdown",
   "id": "35c6624d",
   "metadata": {
    "papermill": {
     "duration": 0.01235,
     "end_time": "2022-04-26T07:33:23.743613",
     "exception": false,
     "start_time": "2022-04-26T07:33:23.731263",
     "status": "completed"
    },
    "tags": []
   },
   "source": [
    "### **Model**"
   ]
  },
  {
   "cell_type": "code",
   "execution_count": 5,
   "id": "6358401b",
   "metadata": {
    "execution": {
     "iopub.execute_input": "2022-04-26T07:33:23.773888Z",
     "iopub.status.busy": "2022-04-26T07:33:23.773218Z",
     "iopub.status.idle": "2022-04-26T07:33:23.775660Z",
     "shell.execute_reply": "2022-04-26T07:33:23.775278Z",
     "shell.execute_reply.started": "2022-04-09T01:18:47.606516Z"
    },
    "papermill": {
     "duration": 0.01943,
     "end_time": "2022-04-26T07:33:23.775760",
     "exception": false,
     "start_time": "2022-04-26T07:33:23.756330",
     "status": "completed"
    },
    "tags": []
   },
   "outputs": [],
   "source": [
    "class Model(nn.Module):\n",
    "    def __init__(self):\n",
    "        super(Model, self).__init__()\n",
    "\n",
    "        self.model = models.densenet121(pretrained=True, progress=True)\n",
    "        self.model.classifier = nn.Linear(in_features=self.model.classifier.in_features, out_features=1)\n",
    "\n",
    "    def forward(self, x):\n",
    "        return self.model(x)"
   ]
  },
  {
   "cell_type": "markdown",
   "id": "b1e780ac",
   "metadata": {
    "papermill": {
     "duration": 0.012291,
     "end_time": "2022-04-26T07:33:23.800850",
     "exception": false,
     "start_time": "2022-04-26T07:33:23.788559",
     "status": "completed"
    },
    "tags": []
   },
   "source": [
    "### Fit and Predict Helper"
   ]
  },
  {
   "cell_type": "code",
   "execution_count": 6,
   "id": "bb895c0d",
   "metadata": {
    "execution": {
     "iopub.execute_input": "2022-04-26T07:33:23.849031Z",
     "iopub.status.busy": "2022-04-26T07:33:23.838745Z",
     "iopub.status.idle": "2022-04-26T07:33:23.851239Z",
     "shell.execute_reply": "2022-04-26T07:33:23.850813Z",
     "shell.execute_reply.started": "2022-04-09T01:18:47.615986Z"
    },
    "papermill": {
     "duration": 0.038016,
     "end_time": "2022-04-26T07:33:23.851343",
     "exception": false,
     "start_time": "2022-04-26T07:33:23.813327",
     "status": "completed"
    },
    "tags": []
   },
   "outputs": [],
   "source": [
    "def fit(model=None, \n",
    "        optimizer=None, \n",
    "        scheduler=None, \n",
    "        epochs=None, \n",
    "        early_stopping_patience=None, \n",
    "        dataloaders=None, \n",
    "        fold=None, \n",
    "        save_path=None, \n",
    "        device=None,\n",
    "        verbose=False) -> tuple:\n",
    "    \n",
    "    def get_accuracy(y_pred, y_true):\n",
    "        y_pred = torch.sigmoid(y_pred)\n",
    "        \n",
    "        y_pred[y_pred > 0.5] = 1\n",
    "        y_pred[y_pred <= 0.5] = 0\n",
    "        \n",
    "        return torch.count_nonzero(y_pred == y_true).item() / len(y_pred)\n",
    "    \n",
    "    if verbose:\n",
    "        breaker()\n",
    "        if fold: print(f\"Training Fold {fold}...\")\n",
    "        else: print(\"Training ...\")\n",
    "        breaker()\n",
    "        \n",
    "    bestLoss, bestAccs = {\"train\" : np.inf, \"valid\" : np.inf}, {\"train\" : 0.0, \"valid\" : 0.0}\n",
    "    Losses, LRs, Accuracies = [], [], []\n",
    "    if fold: name = f\"state_fold_{fold}.pt\"\n",
    "    else: name = \"state.pt\"\n",
    "\n",
    "    start_time = time()\n",
    "    for e in range(epochs):\n",
    "        e_st = time()\n",
    "        epochLoss, epochAccs = {\"train\" : 0.0, \"valid\" : 0.0}, {\"train\" : 0.0, \"valid\" : 0.0}\n",
    "\n",
    "        for phase in [\"train\", \"valid\"]:\n",
    "            if phase == \"train\":\n",
    "                model.train()\n",
    "            else:\n",
    "                model.eval()\n",
    "            \n",
    "            lossPerPass, accsPerPass = [], []\n",
    "\n",
    "            for X, y in dataloaders[phase]:\n",
    "                X, y = X.to(device), y.to(device)\n",
    "\n",
    "                optimizer.zero_grad()\n",
    "                with torch.set_grad_enabled(phase == \"train\"):\n",
    "                    output = model(X)\n",
    "                    loss = torch.nn.BCEWithLogitsLoss()(output, y)\n",
    "                    if phase == \"train\":\n",
    "                        loss.backward()\n",
    "                        optimizer.step()\n",
    "                        if scheduler: scheduler.step()\n",
    "                lossPerPass.append(loss.item())\n",
    "                accsPerPass.append(get_accuracy(output, y))\n",
    "            epochLoss[phase] = np.mean(np.array(lossPerPass))\n",
    "            epochAccs[phase] = np.mean(np.array(accsPerPass))\n",
    "        LRs.append(scheduler.get_last_lr())\n",
    "        Losses.append(epochLoss)\n",
    "        Accuracies.append(epochAccs)\n",
    "        \n",
    "        if early_stopping_patience:\n",
    "            if epochLoss[\"valid\"] < bestLoss[\"valid\"]:\n",
    "                bestLoss = epochLoss\n",
    "                BLE = e + 1\n",
    "                torch.save({\"model_state_dict\"     : model.state_dict(),\n",
    "                            \"optim_state_dict\"     : optimizer.state_dict()},\n",
    "                           os.path.join(save_path, name))\n",
    "                early_stopping_step = 0\n",
    "            else:\n",
    "                early_stopping_step += 1\n",
    "                if early_stopping_step > early_stopping_patience:\n",
    "                    print(\"\\nEarly Stopping at Epoch {}\".format(e + 1))\n",
    "                    break\n",
    "        \n",
    "        if epochLoss[\"valid\"] < bestLoss[\"valid\"]:\n",
    "            bestLoss = epochLoss\n",
    "            BLE = e + 1\n",
    "            torch.save({\"model_state_dict\"     : model.state_dict(),\n",
    "                        \"optim_state_dict\"     : optimizer.state_dict()},\n",
    "                        os.path.join(save_path, name))\n",
    "        \n",
    "        if epochAccs[\"valid\"] > bestAccs[\"valid\"]:\n",
    "            bestAccs = epochAccs\n",
    "            BAE = e + 1\n",
    "        \n",
    "        # if scheduler: scheduler.step(epochLoss[\"valid\"])\n",
    "        \n",
    "        if verbose:\n",
    "            print(\"Epoch: {} | Train Loss: {:.5f} | Valid Loss: {:.5f} | Train Accs: {:.5f} | Valid Accs: {:.5f} | Time: {:.2f} seconds\".format(e+1, \n",
    "                                                                       epochLoss[\"train\"], epochLoss[\"valid\"], \n",
    "                                                                       epochAccs[\"train\"], epochAccs[\"valid\"], \n",
    "                                                                       time()-e_st))\n",
    "\n",
    "    if verbose:                                           \n",
    "        breaker()\n",
    "        print(f\"Best Validation Loss at Epoch {BLE}\")\n",
    "        breaker()\n",
    "        print(f\"Best Validation Accs at Epoch {BAE}\")\n",
    "        breaker()\n",
    "        print(\"Time Taken [{} Epochs] : {:.2f} minutes\".format(len(Losses), (time()-start_time)/60))\n",
    "    \n",
    "    return Losses, Accuracies, LRs, BLE, BAE, name\n",
    "\n",
    "\n",
    "def predict(model=None, dataloader=None, path=None, device=None) -> np.ndarray:\n",
    "    model.load_state_dict(torch.load(path, map_location=device)[\"model_state_dict\"])\n",
    "    model.to(device)    \n",
    "    model.eval()\n",
    "    \n",
    "    y_pred = torch.zeros(1, 1).to(device)\n",
    "    \n",
    "    for X in dataloader:\n",
    "        X = X.to(device)\n",
    "        with torch.no_grad():\n",
    "            output = torch.sigmoid(model(X))\n",
    "        y_pred = torch.cat((y_pred, output.view(-1, 1)), dim=0)\n",
    "    \n",
    "    y_pred[y_pred > 0.5] = 1\n",
    "    y_pred[y_pred <= 0.5] = 0\n",
    "    \n",
    "    return y_pred[1:].detach().cpu().numpy()"
   ]
  },
  {
   "cell_type": "markdown",
   "id": "a2553ebe",
   "metadata": {
    "papermill": {
     "duration": 0.012443,
     "end_time": "2022-04-26T07:33:23.876251",
     "exception": false,
     "start_time": "2022-04-26T07:33:23.863808",
     "status": "completed"
    },
    "tags": []
   },
   "source": [
    "### **Train**"
   ]
  },
  {
   "cell_type": "code",
   "execution_count": 7,
   "id": "ebf68bb8",
   "metadata": {
    "execution": {
     "iopub.execute_input": "2022-04-26T07:33:23.904495Z",
     "iopub.status.busy": "2022-04-26T07:33:23.904002Z",
     "iopub.status.idle": "2022-04-26T07:33:42.703930Z",
     "shell.execute_reply": "2022-04-26T07:33:42.703040Z",
     "shell.execute_reply.started": "2022-04-09T01:18:47.643848Z"
    },
    "papermill": {
     "duration": 18.815356,
     "end_time": "2022-04-26T07:33:42.704082",
     "exception": false,
     "start_time": "2022-04-26T07:33:23.888726",
     "status": "completed"
    },
    "tags": []
   },
   "outputs": [],
   "source": [
    "images = np.load(f\"../input/cxr-images-{SIZE}/train_images_{SIZE}.npy\")\n",
    "labels = np.load(f\"../input/cxr-images-{SIZE}/train_targets_{SIZE}.npy\")"
   ]
  },
  {
   "cell_type": "code",
   "execution_count": 8,
   "id": "65896343",
   "metadata": {
    "execution": {
     "iopub.execute_input": "2022-04-26T07:33:42.745053Z",
     "iopub.status.busy": "2022-04-26T07:33:42.743884Z",
     "iopub.status.idle": "2022-04-26T08:47:07.290621Z",
     "shell.execute_reply": "2022-04-26T08:47:07.291066Z",
     "shell.execute_reply.started": "2022-04-09T01:36:59.635267Z"
    },
    "papermill": {
     "duration": 4404.572635,
     "end_time": "2022-04-26T08:47:07.291236",
     "exception": false,
     "start_time": "2022-04-26T07:33:42.718601",
     "status": "completed"
    },
    "tags": []
   },
   "outputs": [
    {
     "name": "stderr",
     "output_type": "stream",
     "text": [
      "Downloading: \"https://download.pytorch.org/models/densenet121-a639ec97.pth\" to /root/.cache/torch/hub/checkpoints/densenet121-a639ec97.pth\n"
     ]
    },
    {
     "data": {
      "application/vnd.jupyter.widget-view+json": {
       "model_id": "ca0cd6d3234e4f4ca00ea1206e29fbcf",
       "version_major": 2,
       "version_minor": 0
      },
      "text/plain": [
       "  0%|          | 0.00/30.8M [00:00<?, ?B/s]"
      ]
     },
     "metadata": {},
     "output_type": "display_data"
    },
    {
     "name": "stdout",
     "output_type": "stream",
     "text": [
      "\n",
      "**************************************************\n",
      "\n",
      "Training Fold 1...\n",
      "\n",
      "**************************************************\n",
      "\n",
      "Epoch: 1 | Train Loss: 0.09422 | Valid Loss: 0.10247 | Train Accs: 0.96761 | Valid Accs: 0.96023 | Time: 94.24 seconds\n",
      "Epoch: 2 | Train Loss: 0.12389 | Valid Loss: 0.07050 | Train Accs: 0.95049 | Valid Accs: 0.97389 | Time: 87.55 seconds\n",
      "Epoch: 3 | Train Loss: 0.08959 | Valid Loss: 0.03868 | Train Accs: 0.96660 | Valid Accs: 0.98674 | Time: 87.73 seconds\n",
      "Epoch: 4 | Train Loss: 0.06150 | Valid Loss: 0.05496 | Train Accs: 0.97615 | Valid Accs: 0.98295 | Time: 87.47 seconds\n",
      "Epoch: 5 | Train Loss: 0.05247 | Valid Loss: 0.03883 | Train Accs: 0.98115 | Valid Accs: 0.98458 | Time: 87.34 seconds\n",
      "Epoch: 6 | Train Loss: 0.03808 | Valid Loss: 0.02243 | Train Accs: 0.98712 | Valid Accs: 0.99242 | Time: 87.90 seconds\n",
      "Epoch: 7 | Train Loss: 0.02269 | Valid Loss: 0.02433 | Train Accs: 0.99165 | Valid Accs: 0.99527 | Time: 87.44 seconds\n",
      "Epoch: 8 | Train Loss: 0.01358 | Valid Loss: 0.01913 | Train Accs: 0.99594 | Valid Accs: 0.99432 | Time: 87.56 seconds\n",
      "Epoch: 9 | Train Loss: 0.00607 | Valid Loss: 0.01809 | Train Accs: 0.99881 | Valid Accs: 0.99337 | Time: 87.18 seconds\n",
      "Epoch: 10 | Train Loss: 0.00544 | Valid Loss: 0.01766 | Train Accs: 0.99881 | Valid Accs: 0.99432 | Time: 87.52 seconds\n",
      "\n",
      "**************************************************\n",
      "\n",
      "Best Validation Loss at Epoch 10\n",
      "\n",
      "**************************************************\n",
      "\n",
      "Best Validation Accs at Epoch 7\n",
      "\n",
      "**************************************************\n",
      "\n",
      "Time Taken [10 Epochs] : 14.70 minutes\n",
      "\n",
      "**************************************************\n",
      "\n"
     ]
    },
    {
     "data": {
      "image/png": "[encoded data removed]",
      "text/plain": [
       "<Figure size 576x432 with 2 Axes>"
      ]
     },
     "metadata": {
      "needs_background": "light"
     },
     "output_type": "display_data"
    },
    {
     "name": "stdout",
     "output_type": "stream",
     "text": [
      "\n",
      "**************************************************\n",
      "\n",
      "Training Fold 2...\n",
      "\n",
      "**************************************************\n",
      "\n",
      "Epoch: 1 | Train Loss: 0.09384 | Valid Loss: 0.53917 | Train Accs: 0.96618 | Valid Accs: 0.80384 | Time: 87.52 seconds\n",
      "Epoch: 2 | Train Loss: 0.12339 | Valid Loss: 0.09168 | Train Accs: 0.95181 | Valid Accs: 0.96753 | Time: 87.25 seconds\n",
      "Epoch: 3 | Train Loss: 0.08137 | Valid Loss: 0.06604 | Train Accs: 0.96684 | Valid Accs: 0.97443 | Time: 87.52 seconds\n",
      "Epoch: 4 | Train Loss: 0.05131 | Valid Loss: 0.04854 | Train Accs: 0.98187 | Valid Accs: 0.98390 | Time: 87.83 seconds\n",
      "Epoch: 5 | Train Loss: 0.04985 | Valid Loss: 0.15679 | Train Accs: 0.98211 | Valid Accs: 0.94359 | Time: 87.15 seconds\n",
      "Epoch: 6 | Train Loss: 0.02765 | Valid Loss: 0.03109 | Train Accs: 0.98998 | Valid Accs: 0.99148 | Time: 87.60 seconds\n",
      "Epoch: 7 | Train Loss: 0.02227 | Valid Loss: 0.02065 | Train Accs: 0.99260 | Valid Accs: 0.99053 | Time: 87.51 seconds\n",
      "Epoch: 8 | Train Loss: 0.00962 | Valid Loss: 0.01299 | Train Accs: 0.99714 | Valid Accs: 0.99527 | Time: 87.36 seconds\n",
      "Epoch: 9 | Train Loss: 0.00474 | Valid Loss: 0.01373 | Train Accs: 0.99833 | Valid Accs: 0.99527 | Time: 87.26 seconds\n",
      "Epoch: 10 | Train Loss: 0.00417 | Valid Loss: 0.01278 | Train Accs: 0.99881 | Valid Accs: 0.99527 | Time: 87.51 seconds\n",
      "\n",
      "**************************************************\n",
      "\n",
      "Best Validation Loss at Epoch 10\n",
      "\n",
      "**************************************************\n",
      "\n",
      "Best Validation Accs at Epoch 8\n",
      "\n",
      "**************************************************\n",
      "\n",
      "Time Taken [10 Epochs] : 14.57 minutes\n",
      "\n",
      "**************************************************\n",
      "\n"
     ]
    },
    {
     "data": {
      "image/png": "[encoded data removed]",
      "text/plain": [
       "<Figure size 576x432 with 2 Axes>"
      ]
     },
     "metadata": {
      "needs_background": "light"
     },
     "output_type": "display_data"
    },
    {
     "name": "stdout",
     "output_type": "stream",
     "text": [
      "\n",
      "**************************************************\n",
      "\n",
      "Training Fold 3...\n",
      "\n",
      "**************************************************\n",
      "\n",
      "Epoch: 1 | Train Loss: 0.10197 | Valid Loss: 0.33495 | Train Accs: 0.96574 | Valid Accs: 0.90246 | Time: 88.34 seconds\n",
      "Epoch: 2 | Train Loss: 0.10790 | Valid Loss: 0.30035 | Train Accs: 0.96016 | Valid Accs: 0.87405 | Time: 88.32 seconds\n",
      "Epoch: 3 | Train Loss: 0.12069 | Valid Loss: 0.14676 | Train Accs: 0.95372 | Valid Accs: 0.94160 | Time: 88.44 seconds\n",
      "Epoch: 4 | Train Loss: 0.06955 | Valid Loss: 0.04630 | Train Accs: 0.97290 | Valid Accs: 0.98674 | Time: 88.41 seconds\n",
      "Epoch: 5 | Train Loss: 0.04788 | Valid Loss: 0.03377 | Train Accs: 0.98330 | Valid Accs: 0.98674 | Time: 88.54 seconds\n",
      "Epoch: 6 | Train Loss: 0.03831 | Valid Loss: 0.03149 | Train Accs: 0.98616 | Valid Accs: 0.98864 | Time: 88.07 seconds\n",
      "Epoch: 7 | Train Loss: 0.01650 | Valid Loss: 0.02773 | Train Accs: 0.99547 | Valid Accs: 0.98958 | Time: 87.99 seconds\n",
      "Epoch: 8 | Train Loss: 0.01400 | Valid Loss: 0.02128 | Train Accs: 0.99523 | Valid Accs: 0.99337 | Time: 87.94 seconds\n",
      "Epoch: 9 | Train Loss: 0.00828 | Valid Loss: 0.01872 | Train Accs: 0.99809 | Valid Accs: 0.99242 | Time: 88.23 seconds\n",
      "Epoch: 10 | Train Loss: 0.00450 | Valid Loss: 0.01848 | Train Accs: 0.99952 | Valid Accs: 0.99432 | Time: 88.22 seconds\n",
      "\n",
      "**************************************************\n",
      "\n",
      "Best Validation Loss at Epoch 10\n",
      "\n",
      "**************************************************\n",
      "\n",
      "Best Validation Accs at Epoch 10\n",
      "\n",
      "**************************************************\n",
      "\n",
      "Time Taken [10 Epochs] : 14.71 minutes\n",
      "\n",
      "**************************************************\n",
      "\n"
     ]
    },
    {
     "data": {
      "image/png": "[encoded data removed]",
      "text/plain": [
       "<Figure size 576x432 with 2 Axes>"
      ]
     },
     "metadata": {
      "needs_background": "light"
     },
     "output_type": "display_data"
    },
    {
     "name": "stdout",
     "output_type": "stream",
     "text": [
      "\n",
      "**************************************************\n",
      "\n",
      "Training Fold 4...\n",
      "\n",
      "**************************************************\n",
      "\n",
      "Epoch: 1 | Train Loss: 0.09740 | Valid Loss: 0.19495 | Train Accs: 0.96493 | Valid Accs: 0.92898 | Time: 87.71 seconds\n",
      "Epoch: 2 | Train Loss: 0.11450 | Valid Loss: 0.30292 | Train Accs: 0.95611 | Valid Accs: 0.88258 | Time: 87.13 seconds\n",
      "Epoch: 3 | Train Loss: 0.09997 | Valid Loss: 0.06471 | Train Accs: 0.96422 | Valid Accs: 0.97664 | Time: 87.51 seconds\n",
      "Epoch: 4 | Train Loss: 0.05108 | Valid Loss: 0.04086 | Train Accs: 0.97886 | Valid Accs: 0.97917 | Time: 87.58 seconds\n",
      "Epoch: 5 | Train Loss: 0.04922 | Valid Loss: 0.02935 | Train Accs: 0.98211 | Valid Accs: 0.99242 | Time: 87.29 seconds\n",
      "Epoch: 6 | Train Loss: 0.02798 | Valid Loss: 0.11263 | Train Accs: 0.98760 | Valid Accs: 0.95265 | Time: 87.34 seconds\n",
      "Epoch: 7 | Train Loss: 0.01867 | Valid Loss: 0.01969 | Train Accs: 0.99332 | Valid Accs: 0.99085 | Time: 87.64 seconds\n",
      "Epoch: 8 | Train Loss: 0.00807 | Valid Loss: 0.02164 | Train Accs: 0.99714 | Valid Accs: 0.99337 | Time: 86.98 seconds\n",
      "Epoch: 9 | Train Loss: 0.00537 | Valid Loss: 0.01876 | Train Accs: 0.99881 | Valid Accs: 0.99527 | Time: 87.58 seconds\n",
      "Epoch: 10 | Train Loss: 0.00407 | Valid Loss: 0.01821 | Train Accs: 0.99928 | Valid Accs: 0.99527 | Time: 87.47 seconds\n",
      "\n",
      "**************************************************\n",
      "\n",
      "Best Validation Loss at Epoch 10\n",
      "\n",
      "**************************************************\n",
      "\n",
      "Best Validation Accs at Epoch 9\n",
      "\n",
      "**************************************************\n",
      "\n",
      "Time Taken [10 Epochs] : 14.57 minutes\n",
      "\n",
      "**************************************************\n",
      "\n"
     ]
    },
    {
     "data": {
      "image/png": "[encoded data removed]",
      "text/plain": [
       "<Figure size 576x432 with 2 Axes>"
      ]
     },
     "metadata": {
      "needs_background": "light"
     },
     "output_type": "display_data"
    },
    {
     "name": "stdout",
     "output_type": "stream",
     "text": [
      "\n",
      "**************************************************\n",
      "\n",
      "Training Fold 5...\n",
      "\n",
      "**************************************************\n",
      "\n",
      "Epoch: 1 | Train Loss: 0.09379 | Valid Loss: 0.12780 | Train Accs: 0.96851 | Valid Accs: 0.95960 | Time: 87.42 seconds\n",
      "Epoch: 2 | Train Loss: 0.13214 | Valid Loss: 0.10457 | Train Accs: 0.94728 | Valid Accs: 0.95612 | Time: 87.76 seconds\n",
      "Epoch: 3 | Train Loss: 0.07946 | Valid Loss: 0.03740 | Train Accs: 0.97233 | Valid Accs: 0.98485 | Time: 87.60 seconds\n",
      "Epoch: 4 | Train Loss: 0.05006 | Valid Loss: 0.03386 | Train Accs: 0.98149 | Valid Accs: 0.98674 | Time: 87.57 seconds\n",
      "Epoch: 5 | Train Loss: 0.03632 | Valid Loss: 0.04118 | Train Accs: 0.98545 | Valid Accs: 0.98201 | Time: 87.41 seconds\n",
      "Epoch: 6 | Train Loss: 0.02333 | Valid Loss: 0.04074 | Train Accs: 0.99165 | Valid Accs: 0.98295 | Time: 87.45 seconds\n",
      "Epoch: 7 | Train Loss: 0.02385 | Valid Loss: 0.03039 | Train Accs: 0.99213 | Valid Accs: 0.98864 | Time: 87.41 seconds\n",
      "Epoch: 8 | Train Loss: 0.00721 | Valid Loss: 0.02261 | Train Accs: 0.99881 | Valid Accs: 0.99148 | Time: 87.43 seconds\n",
      "Epoch: 9 | Train Loss: 0.00645 | Valid Loss: 0.02443 | Train Accs: 0.99857 | Valid Accs: 0.99337 | Time: 87.23 seconds\n",
      "Epoch: 10 | Train Loss: 0.00432 | Valid Loss: 0.02633 | Train Accs: 0.99928 | Valid Accs: 0.99053 | Time: 87.24 seconds\n",
      "\n",
      "**************************************************\n",
      "\n",
      "Best Validation Loss at Epoch 8\n",
      "\n",
      "**************************************************\n",
      "\n",
      "Best Validation Accs at Epoch 9\n",
      "\n",
      "**************************************************\n",
      "\n",
      "Time Taken [10 Epochs] : 14.58 minutes\n",
      "\n",
      "**************************************************\n",
      "\n"
     ]
    },
    {
     "data": {
      "image/png": "[encoded data removed]",
      "text/plain": [
       "<Figure size 576x432 with 2 Axes>"
      ]
     },
     "metadata": {
      "needs_background": "light"
     },
     "output_type": "display_data"
    }
   ],
   "source": [
    "fold = 1\n",
    "BLEs, BAEs = [], []\n",
    "\n",
    "for tr_idx, va_idx in KFold(n_splits=cfg.n_splits, random_state=SEED, shuffle=True).split(images):\n",
    "    tr_images, va_images, tr_labels, va_labels = images[tr_idx], images[va_idx], labels[tr_idx], labels[va_idx]\n",
    "\n",
    "    tr_data_setup = DS(tr_images, tr_labels.reshape(-1, 1), cfg.transform)\n",
    "    va_data_setup = DS(va_images, va_labels.reshape(-1, 1), cfg.transform)\n",
    "\n",
    "    dataloaders = {\n",
    "        \"train\" : DL(tr_data_setup, batch_size=cfg.batch_size, shuffle=True, generator=torch.manual_seed(cfg.seed)),\n",
    "        \"valid\" : DL(va_data_setup, batch_size=cfg.batch_size, shuffle=False),\n",
    "    }\n",
    "\n",
    "    cfg = CFG(epochs=10, lr=1e-4, wd=1e-5, batch_size=16, steps_per_epoch=len(dataloaders[\"train\"]))\n",
    "\n",
    "    torch.manual_seed(cfg.seed)\n",
    "    model = Model().to(cfg.device)\n",
    "    model.load_state_dict(torch.load(cfg.model_path_256, map_location=cfg.device)[\"model_state_dict\"])\n",
    "    optimizer = optim.Adam([p for p in model.parameters() if p.requires_grad], lr=cfg.lr, weight_decay=cfg.wd)\n",
    "    scheduler = optim.lr_scheduler.OneCycleLR(optimizer=optimizer, \n",
    "                                              max_lr=cfg.max_lr, \n",
    "                                              epochs=cfg.epochs, \n",
    "                                              steps_per_epoch=cfg.steps_per_epoch,\n",
    "                                              pct_start=cfg.pct_start, \n",
    "                                              div_factor=cfg.div_factor, \n",
    "                                              final_div_factor=cfg.final_div_factor)\n",
    "    # scheduler = None\n",
    "\n",
    "    L, A, LRs, BLE, BAE, name = fit(model=model, \n",
    "                                    optimizer=optimizer, \n",
    "                                    scheduler=scheduler, \n",
    "                                    epochs=cfg.epochs, \n",
    "                                    early_stopping_patience=cfg.early_stopping, \n",
    "                                    dataloaders=dataloaders, \n",
    "                                    device=cfg.device,\n",
    "                                    save_path=cfg.save_path,\n",
    "                                    fold = fold,\n",
    "                                    verbose=True)\n",
    "\n",
    "    breaker()\n",
    "    show_graphs(L, A)\n",
    "    \n",
    "    BLEs.append(BLE)\n",
    "    BAEs.append(BAE)\n",
    "\n",
    "    fold += 1"
   ]
  },
  {
   "cell_type": "markdown",
   "id": "4008d830",
   "metadata": {
    "papermill": {
     "duration": 0.035657,
     "end_time": "2022-04-26T08:47:07.362933",
     "exception": false,
     "start_time": "2022-04-26T08:47:07.327276",
     "status": "completed"
    },
    "tags": []
   },
   "source": [
    "### **Predictions**"
   ]
  },
  {
   "cell_type": "code",
   "execution_count": 9,
   "id": "57afe312",
   "metadata": {
    "execution": {
     "iopub.execute_input": "2022-04-26T08:47:07.441312Z",
     "iopub.status.busy": "2022-04-26T08:47:07.440619Z",
     "iopub.status.idle": "2022-04-26T08:47:14.138480Z",
     "shell.execute_reply": "2022-04-26T08:47:14.137675Z",
     "shell.execute_reply.started": "2022-04-09T01:41:41.028783Z"
    },
    "papermill": {
     "duration": 6.74019,
     "end_time": "2022-04-26T08:47:14.138608",
     "exception": false,
     "start_time": "2022-04-26T08:47:07.398418",
     "status": "completed"
    },
    "tags": []
   },
   "outputs": [
    {
     "name": "stdout",
     "output_type": "stream",
     "text": [
      "\n",
      "**************************************************\n",
      "\n",
      "Best Fold : 5\n",
      "\n",
      "**************************************************\n",
      "\n",
      "Accuracy  : 0.77564\n",
      "ROC-AUC   : 0.86792\n",
      "Precision : [0.4017094 1.       ]\n",
      "Recall    : [1.         0.73584906]\n",
      "F-Score   : [0.57317073 0.84782609]\n",
      "\n",
      "**************************************************\n",
      "\n",
      "              precision    recall  f1-score   support\n",
      "\n",
      "         0.0       1.00      0.40      0.57       234\n",
      "         1.0       0.74      1.00      0.85       390\n",
      "\n",
      "    accuracy                           0.78       624\n",
      "   macro avg       0.87      0.70      0.71       624\n",
      "weighted avg       0.83      0.78      0.74       624\n",
      "\n",
      "\n",
      "**************************************************\n",
      "\n",
      "[[ 94 140]\n",
      " [  0 390]]\n",
      "\n",
      "**************************************************\n",
      "\n"
     ]
    }
   ],
   "source": [
    "test_images = np.load(f\"../input/cxr-images-{SIZE}/test_images_{SIZE}.npy\")\n",
    "test_labels = np.load(f\"../input/cxr-images-{SIZE}/test_targets_{SIZE}.npy\")\n",
    "\n",
    "ts_data_setup = DS(test_images, None, cfg.transform)\n",
    "ts_data = DL(ts_data_setup, batch_size=cfg.batch_size, shuffle=False)\n",
    "\n",
    "best_fold = BLEs.index(min(BLEs)) + 1\n",
    "model_path = f\"saves/state_fold_{best_fold}.pt\"\n",
    "y_pred = predict(model=Model().to(cfg.device), dataloader=ts_data, path=model_path, device=cfg.device)\n",
    "\n",
    "accuracy, auc, precision, recall, f_score = get_scores(test_labels, y_pred)\n",
    "\n",
    "breaker()\n",
    "print(f\"Best Fold : {best_fold}\")\n",
    "breaker()\n",
    "print_scores(accuracy, auc, precision, recall, f_score)\n",
    "breaker()\n",
    "print(classification_report(test_labels, y_pred))\n",
    "breaker()\n",
    "print(confusion_matrix(test_labels, y_pred))\n",
    "breaker()"
   ]
  }
 ],
 "metadata": {
  "kernelspec": {
   "display_name": "Python 3",
   "language": "python",
   "name": "python3"
  },
  "language_info": {
   "codemirror_mode": {
    "name": "ipython",
    "version": 3
   },
   "file_extension": ".py",
   "mimetype": "text/x-python",
   "name": "python",
   "nbconvert_exporter": "python",
   "pygments_lexer": "ipython3",
   "version": "3.7.12"
  },
  "papermill": {
   "default_parameters": {},
   "duration": 4442.974324,
   "end_time": "2022-04-26T08:47:15.698612",
   "environment_variables": {},
   "exception": null,
   "input_path": "__notebook__.ipynb",
   "output_path": "__notebook__.ipynb",
   "parameters": {},
   "start_time": "2022-04-26T07:33:12.724288",
   "version": "2.3.3"
  },
  "widgets": {
   "application/vnd.jupyter.widget-state+json": {
    "state": {
     "046597aae7c7485f841827925f2837f2": {
      "model_module": "@jupyter-widgets/base",
      "model_module_version": "1.2.0",
      "model_name": "LayoutModel",
      "state": {
       "_model_module": "@jupyter-widgets/base",
       "_model_module_version": "1.2.0",
       "_model_name": "LayoutModel",
       "_view_count": null,
       "_view_module": "@jupyter-widgets/base",
       "_view_module_version": "1.2.0",
       "_view_name": "LayoutView",
       "align_content": null,
       "align_items": null,
       "align_self": null,
       "border": null,
       "bottom": null,
       "display": null,
       "flex": null,
       "flex_flow": null,
       "grid_area": null,
       "grid_auto_columns": null,
       "grid_auto_flow": null,
       "grid_auto_rows": null,
       "grid_column": null,
       "grid_gap": null,
       "grid_row": null,
       "grid_template_areas": null,
       "grid_template_columns": null,
       "grid_template_rows": null,
       "height": null,
       "justify_content": null,
       "justify_items": null,
       "left": null,
       "margin": null,
       "max_height": null,
       "max_width": null,
       "min_height": null,
       "min_width": null,
       "object_fit": null,
       "object_position": null,
       "order": null,
       "overflow": null,
       "overflow_x": null,
       "overflow_y": null,
       "padding": null,
       "right": null,
       "top": null,
       "visibility": null,
       "width": null
      }
     },
     "29fc393393c2444186a53a4dab67197c": {
      "model_module": "@jupyter-widgets/controls",
      "model_module_version": "1.5.0",
      "model_name": "ProgressStyleModel",
      "state": {
       "_model_module": "@jupyter-widgets/controls",
       "_model_module_version": "1.5.0",
       "_model_name": "ProgressStyleModel",
       "_view_count": null,
       "_view_module": "@jupyter-widgets/base",
       "_view_module_version": "1.2.0",
       "_view_name": "StyleView",
       "bar_color": null,
       "description_width": ""
      }
     },
     "3267e1559f92485295fbb335c75db052": {
      "model_module": "@jupyter-widgets/controls",
      "model_module_version": "1.5.0",
      "model_name": "HTMLModel",
      "state": {
       "_dom_classes": [],
       "_model_module": "@jupyter-widgets/controls",
       "_model_module_version": "1.5.0",
       "_model_name": "HTMLModel",
       "_view_count": null,
       "_view_module": "@jupyter-widgets/controls",
       "_view_module_version": "1.5.0",
       "_view_name": "HTMLView",
       "description": "",
       "description_tooltip": null,
       "layout": "IPY_MODEL_aef6a3b49716413094988a06fd77b5bb",
       "placeholder": "​",
       "style": "IPY_MODEL_f06619591ebf4eb188ab2d4773705cb9",
       "value": "100%"
      }
     },
     "6c0aea88576f4281b05704227453d293": {
      "model_module": "@jupyter-widgets/base",
      "model_module_version": "1.2.0",
      "model_name": "LayoutModel",
      "state": {
       "_model_module": "@jupyter-widgets/base",
       "_model_module_version": "1.2.0",
       "_model_name": "LayoutModel",
       "_view_count": null,
       "_view_module": "@jupyter-widgets/base",
       "_view_module_version": "1.2.0",
       "_view_name": "LayoutView",
       "align_content": null,
       "align_items": null,
       "align_self": null,
       "border": null,
       "bottom": null,
       "display": null,
       "flex": null,
       "flex_flow": null,
       "grid_area": null,
       "grid_auto_columns": null,
       "grid_auto_flow": null,
       "grid_auto_rows": null,
       "grid_column": null,
       "grid_gap": null,
       "grid_row": null,
       "grid_template_areas": null,
       "grid_template_columns": null,
       "grid_template_rows": null,
       "height": null,
       "justify_content": null,
       "justify_items": null,
       "left": null,
       "margin": null,
       "max_height": null,
       "max_width": null,
       "min_height": null,
       "min_width": null,
       "object_fit": null,
       "object_position": null,
       "order": null,
       "overflow": null,
       "overflow_x": null,
       "overflow_y": null,
       "padding": null,
       "right": null,
       "top": null,
       "visibility": null,
       "width": null
      }
     },
     "8b4a37b65904442aad8d15df9da12968": {
      "model_module": "@jupyter-widgets/controls",
      "model_module_version": "1.5.0",
      "model_name": "DescriptionStyleModel",
      "state": {
       "_model_module": "@jupyter-widgets/controls",
       "_model_module_version": "1.5.0",
       "_model_name": "DescriptionStyleModel",
       "_view_count": null,
       "_view_module": "@jupyter-widgets/base",
       "_view_module_version": "1.2.0",
       "_view_name": "StyleView",
       "description_width": ""
      }
     },
     "aef6a3b49716413094988a06fd77b5bb": {
      "model_module": "@jupyter-widgets/base",
      "model_module_version": "1.2.0",
      "model_name": "LayoutModel",
      "state": {
       "_model_module": "@jupyter-widgets/base",
       "_model_module_version": "1.2.0",
       "_model_name": "LayoutModel",
       "_view_count": null,
       "_view_module": "@jupyter-widgets/base",
       "_view_module_version": "1.2.0",
       "_view_name": "LayoutView",
       "align_content": null,
       "align_items": null,
       "align_self": null,
       "border": null,
       "bottom": null,
       "display": null,
       "flex": null,
       "flex_flow": null,
       "grid_area": null,
       "grid_auto_columns": null,
       "grid_auto_flow": null,
       "grid_auto_rows": null,
       "grid_column": null,
       "grid_gap": null,
       "grid_row": null,
       "grid_template_areas": null,
       "grid_template_columns": null,
       "grid_template_rows": null,
       "height": null,
       "justify_content": null,
       "justify_items": null,
       "left": null,
       "margin": null,
       "max_height": null,
       "max_width": null,
       "min_height": null,
       "min_width": null,
       "object_fit": null,
       "object_position": null,
       "order": null,
       "overflow": null,
       "overflow_x": null,
       "overflow_y": null,
       "padding": null,
       "right": null,
       "top": null,
       "visibility": null,
       "width": null
      }
     },
     "afb0b11fe751467cbc690bd116fb6864": {
      "model_module": "@jupyter-widgets/controls",
      "model_module_version": "1.5.0",
      "model_name": "HTMLModel",
      "state": {
       "_dom_classes": [],
       "_model_module": "@jupyter-widgets/controls",
       "_model_module_version": "1.5.0",
       "_model_name": "HTMLModel",
       "_view_count": null,
       "_view_module": "@jupyter-widgets/controls",
       "_view_module_version": "1.5.0",
       "_view_name": "HTMLView",
       "description": "",
       "description_tooltip": null,
       "layout": "IPY_MODEL_6c0aea88576f4281b05704227453d293",
       "placeholder": "​",
       "style": "IPY_MODEL_8b4a37b65904442aad8d15df9da12968",
       "value": " 30.8M/30.8M [00:00&lt;00:00, 47.8MB/s]"
      }
     },
     "bc220fbeaad14db1b6feb521a7d126a8": {
      "model_module": "@jupyter-widgets/base",
      "model_module_version": "1.2.0",
      "model_name": "LayoutModel",
      "state": {
       "_model_module": "@jupyter-widgets/base",
       "_model_module_version": "1.2.0",
       "_model_name": "LayoutModel",
       "_view_count": null,
       "_view_module": "@jupyter-widgets/base",
       "_view_module_version": "1.2.0",
       "_view_name": "LayoutView",
       "align_content": null,
       "align_items": null,
       "align_self": null,
       "border": null,
       "bottom": null,
       "display": null,
       "flex": null,
       "flex_flow": null,
       "grid_area": null,
       "grid_auto_columns": null,
       "grid_auto_flow": null,
       "grid_auto_rows": null,
       "grid_column": null,
       "grid_gap": null,
       "grid_row": null,
       "grid_template_areas": null,
       "grid_template_columns": null,
       "grid_template_rows": null,
       "height": null,
       "justify_content": null,
       "justify_items": null,
       "left": null,
       "margin": null,
       "max_height": null,
       "max_width": null,
       "min_height": null,
       "min_width": null,
       "object_fit": null,
       "object_position": null,
       "order": null,
       "overflow": null,
       "overflow_x": null,
       "overflow_y": null,
       "padding": null,
       "right": null,
       "top": null,
       "visibility": null,
       "width": null
      }
     },
     "ca0cd6d3234e4f4ca00ea1206e29fbcf": {
      "model_module": "@jupyter-widgets/controls",
      "model_module_version": "1.5.0",
      "model_name": "HBoxModel",
      "state": {
       "_dom_classes": [],
       "_model_module": "@jupyter-widgets/controls",
       "_model_module_version": "1.5.0",
       "_model_name": "HBoxModel",
       "_view_count": null,
       "_view_module": "@jupyter-widgets/controls",
       "_view_module_version": "1.5.0",
       "_view_name": "HBoxView",
       "box_style": "",
       "children": [
        "IPY_MODEL_3267e1559f92485295fbb335c75db052",
        "IPY_MODEL_e03e4c0929b24b70af86456074b90870",
        "IPY_MODEL_afb0b11fe751467cbc690bd116fb6864"
       ],
       "layout": "IPY_MODEL_bc220fbeaad14db1b6feb521a7d126a8"
      }
     },
     "e03e4c0929b24b70af86456074b90870": {
      "model_module": "@jupyter-widgets/controls",
      "model_module_version": "1.5.0",
      "model_name": "FloatProgressModel",
      "state": {
       "_dom_classes": [],
       "_model_module": "@jupyter-widgets/controls",
       "_model_module_version": "1.5.0",
       "_model_name": "FloatProgressModel",
       "_view_count": null,
       "_view_module": "@jupyter-widgets/controls",
       "_view_module_version": "1.5.0",
       "_view_name": "ProgressView",
       "bar_style": "success",
       "description": "",
       "description_tooltip": null,
       "layout": "IPY_MODEL_046597aae7c7485f841827925f2837f2",
       "max": 32342954.0,
       "min": 0.0,
       "orientation": "horizontal",
       "style": "IPY_MODEL_29fc393393c2444186a53a4dab67197c",
       "value": 32342954.0
      }
     },
     "f06619591ebf4eb188ab2d4773705cb9": {
      "model_module": "@jupyter-widgets/controls",
      "model_module_version": "1.5.0",
      "model_name": "DescriptionStyleModel",
      "state": {
       "_model_module": "@jupyter-widgets/controls",
       "_model_module_version": "1.5.0",
       "_model_name": "DescriptionStyleModel",
       "_view_count": null,
       "_view_module": "@jupyter-widgets/base",
       "_view_module_version": "1.2.0",
       "_view_name": "StyleView",
       "description_width": ""
      }
     }
    },
    "version_major": 2,
    "version_minor": 0
   }
  }
 },
 "nbformat": 4,
 "nbformat_minor": 5
}
