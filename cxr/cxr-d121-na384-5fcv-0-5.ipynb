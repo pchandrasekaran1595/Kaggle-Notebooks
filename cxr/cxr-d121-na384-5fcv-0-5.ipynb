{
 "cells": [
  {
   "cell_type": "markdown",
   "id": "32860caa",
   "metadata": {
    "_cell_guid": "b1076dfc-b9ad-4769-8c92-a6c4dae69d19",
    "_uuid": "8f2839f25d086af736a60e9eeb907d3b93b6e0e5",
    "papermill": {
     "duration": 0.015577,
     "end_time": "2022-04-26T07:37:13.062755",
     "exception": false,
     "start_time": "2022-04-26T07:37:13.047178",
     "status": "completed"
    },
    "tags": []
   },
   "source": [
    "##### Library Imports"
   ]
  },
  {
   "cell_type": "code",
   "execution_count": 1,
   "id": "9a24dba8",
   "metadata": {
    "execution": {
     "iopub.execute_input": "2022-04-26T07:37:13.107886Z",
     "iopub.status.busy": "2022-04-26T07:37:13.107041Z",
     "iopub.status.idle": "2022-04-26T07:37:15.522591Z",
     "shell.execute_reply": "2022-04-26T07:37:15.521515Z",
     "shell.execute_reply.started": "2022-04-09T01:18:45.162484Z"
    },
    "papermill": {
     "duration": 2.444109,
     "end_time": "2022-04-26T07:37:15.522744",
     "exception": false,
     "start_time": "2022-04-26T07:37:13.078635",
     "status": "completed"
    },
    "tags": []
   },
   "outputs": [],
   "source": [
    "import os\n",
    "import re\n",
    "import torch\n",
    "import numpy as np\n",
    "import pandas as pd\n",
    "import matplotlib.pyplot as plt\n",
    "\n",
    "from time import time\n",
    "from torch import nn, optim\n",
    "from torch.utils.data import Dataset\n",
    "from torch.utils.data import DataLoader as DL\n",
    "from torchvision import models, transforms\n",
    "\n",
    "from sklearn.model_selection import KFold\n",
    "from sklearn.preprocessing import LabelEncoder\n",
    "from sklearn.metrics import accuracy_score, \\\n",
    "                            precision_recall_fscore_support, \\\n",
    "                            roc_auc_score, \\\n",
    "                            classification_report, \\\n",
    "                            confusion_matrix"
   ]
  },
  {
   "cell_type": "markdown",
   "id": "3e714a58",
   "metadata": {
    "papermill": {
     "duration": 0.012356,
     "end_time": "2022-04-26T07:37:15.547745",
     "exception": false,
     "start_time": "2022-04-26T07:37:15.535389",
     "status": "completed"
    },
    "tags": []
   },
   "source": [
    "### **Utilities**"
   ]
  },
  {
   "cell_type": "code",
   "execution_count": 2,
   "id": "59e3347b",
   "metadata": {
    "execution": {
     "iopub.execute_input": "2022-04-26T07:37:15.587590Z",
     "iopub.status.busy": "2022-04-26T07:37:15.587017Z",
     "iopub.status.idle": "2022-04-26T07:37:15.590372Z",
     "shell.execute_reply": "2022-04-26T07:37:15.591032Z",
     "shell.execute_reply.started": "2022-04-09T01:18:47.512362Z"
    },
    "papermill": {
     "duration": 0.030905,
     "end_time": "2022-04-26T07:37:15.591181",
     "exception": false,
     "start_time": "2022-04-26T07:37:15.560276",
     "status": "completed"
    },
    "tags": []
   },
   "outputs": [],
   "source": [
    "SEED = 42\n",
    "SIZE = 384\n",
    "\n",
    "def breaker(num: int=50, char: str=\"*\") -> None:\n",
    "    print(\"\\n\" + num*char + \"\\n\")\n",
    "\n",
    "\n",
    "def show_graphs(L: list, A: list) -> None:\n",
    "    TL, VL, TA, VA = [], [], [], []\n",
    "    for i in range(len(L)):\n",
    "        TL.append(L[i][\"train\"])\n",
    "        VL.append(L[i][\"valid\"])\n",
    "        TA.append(A[i][\"train\"])\n",
    "        VA.append(A[i][\"valid\"])\n",
    "    x_Axis = np.arange(1, len(TL) + 1)\n",
    "    plt.figure(figsize=(8, 6))\n",
    "    plt.subplot(1, 2, 1)\n",
    "    plt.plot(x_Axis, TL, \"r\", label=\"Train\")\n",
    "    plt.plot(x_Axis, VL, \"b\", label=\"Valid\")\n",
    "    plt.legend()\n",
    "    plt.grid()\n",
    "    plt.title(\"Loss Graph\")\n",
    "    plt.subplot(1, 2, 2)\n",
    "    plt.plot(x_Axis, TA, \"r\", label=\"Train\")\n",
    "    plt.plot(x_Axis, VA, \"b\", label=\"Valid\")\n",
    "    plt.legend()\n",
    "    plt.grid()\n",
    "    plt.title(\"Accuracy Graph\")\n",
    "    plt.show()\n",
    "\n",
    "    \n",
    "def get_scores(y_true: np.ndarray, y_pred: np.ndarray) -> tuple:\n",
    "    accuracy = accuracy_score(y_pred, y_true)\n",
    "    try:\n",
    "        auc = roc_auc_score(y_pred, y_true)\n",
    "    except:\n",
    "        auc = 0\n",
    "    precision, recall, f_score, _ = precision_recall_fscore_support(y_pred, y_true)\n",
    "\n",
    "    return accuracy, auc, precision, recall, f_score\n",
    "\n",
    "\n",
    "def print_scores(accuracy: float, auc: float, precision: np.ndarray, recall: np.ndarray, f_score: np.ndarray) -> None:\n",
    "    print(f\"Accuracy  : {accuracy:.5f}\")\n",
    "    print(f\"ROC-AUC   : {auc:.5f}\")\n",
    "    print(f\"Precision : {precision}\")\n",
    "    print(f\"Recall    : {recall}\")\n",
    "    print(f\"F-Score   : {f_score}\")"
   ]
  },
  {
   "cell_type": "markdown",
   "id": "a2f8fb41",
   "metadata": {
    "papermill": {
     "duration": 0.012811,
     "end_time": "2022-04-26T07:37:15.616731",
     "exception": false,
     "start_time": "2022-04-26T07:37:15.603920",
     "status": "completed"
    },
    "tags": []
   },
   "source": [
    "### **Configuration**"
   ]
  },
  {
   "cell_type": "code",
   "execution_count": 3,
   "id": "56b5634e",
   "metadata": {
    "execution": {
     "iopub.execute_input": "2022-04-26T07:37:15.708380Z",
     "iopub.status.busy": "2022-04-26T07:37:15.707559Z",
     "iopub.status.idle": "2022-04-26T07:37:15.710229Z",
     "shell.execute_reply": "2022-04-26T07:37:15.710643Z",
     "shell.execute_reply.started": "2022-04-09T01:36:52.976989Z"
    },
    "papermill": {
     "duration": 0.081554,
     "end_time": "2022-04-26T07:37:15.710796",
     "exception": false,
     "start_time": "2022-04-26T07:37:15.629242",
     "status": "completed"
    },
    "tags": []
   },
   "outputs": [],
   "source": [
    "class CFG(object):\n",
    "    def __init__(self, \n",
    "                 seed: int = 42,\n",
    "                 n_splits: int = 5,\n",
    "                 batch_size: int = 16,\n",
    "                 epochs: int = 25,\n",
    "                 early_stopping: int = 5,\n",
    "                 lr: float = 1e-4,\n",
    "                 wd: float = 0.0,\n",
    "                 max_lr: float = 1e-3,\n",
    "                 pct_start: float = 0.2,\n",
    "                 steps_per_epoch: int = 100,\n",
    "                 div_factor: int = 1e3, \n",
    "                 final_div_factor: float = 1e3,\n",
    "                 ):\n",
    "        \n",
    "        self.seed = seed\n",
    "        self.n_splits = n_splits\n",
    "        self.batch_size = batch_size\n",
    "        self.epochs = epochs\n",
    "        self.early_stopping = early_stopping\n",
    "        self.lr = lr\n",
    "        self.wd = wd\n",
    "        self.max_lr = max_lr\n",
    "        self.pct_start = pct_start\n",
    "        self.steps_per_epoch = steps_per_epoch\n",
    "        self.div_factor = div_factor\n",
    "        self.final_div_factor = final_div_factor\n",
    "        self.device = torch.device(\"cuda\" if torch.cuda.is_available() else \"cpu\")\n",
    "        self.transform = transforms.Compose([transforms.ToTensor(),\n",
    "                                transforms.Normalize([0.5, 0.5, 0.5],\n",
    "                                                     [0.5, 0.5, 0.5]),\n",
    "                                ])\n",
    "        self.save_path = \"saves\"\n",
    "        if not os.path.exists(self.save_path): os.makedirs(self.save_path)\n",
    "    \n",
    "cfg = CFG(seed=SEED)"
   ]
  },
  {
   "cell_type": "markdown",
   "id": "0f0d02a8",
   "metadata": {
    "papermill": {
     "duration": 0.012206,
     "end_time": "2022-04-26T07:37:15.735723",
     "exception": false,
     "start_time": "2022-04-26T07:37:15.723517",
     "status": "completed"
    },
    "tags": []
   },
   "source": [
    "### **Dataset Template**"
   ]
  },
  {
   "cell_type": "code",
   "execution_count": 4,
   "id": "7580d956",
   "metadata": {
    "execution": {
     "iopub.execute_input": "2022-04-26T07:37:15.768308Z",
     "iopub.status.busy": "2022-04-26T07:37:15.766515Z",
     "iopub.status.idle": "2022-04-26T07:37:15.769035Z",
     "shell.execute_reply": "2022-04-26T07:37:15.769515Z",
     "shell.execute_reply.started": "2022-04-09T01:18:47.593512Z"
    },
    "papermill": {
     "duration": 0.021575,
     "end_time": "2022-04-26T07:37:15.769651",
     "exception": false,
     "start_time": "2022-04-26T07:37:15.748076",
     "status": "completed"
    },
    "tags": []
   },
   "outputs": [],
   "source": [
    "class DS(Dataset):\n",
    "    def __init__(self, images: np.ndarray, labels: np.ndarray = None, transform=None):\n",
    "        self.images = images\n",
    "        self.labels = labels\n",
    "        self.transform = transform\n",
    "    \n",
    "    def __len__(self):\n",
    "        return self.images.shape[0]\n",
    "    \n",
    "    def __getitem__(self, idx):\n",
    "        if self.labels is not None:\n",
    "            return self.transform(self.images[idx]), torch.FloatTensor(self.labels[idx])\n",
    "        else:\n",
    "            return self.transform(self.images[idx])"
   ]
  },
  {
   "cell_type": "markdown",
   "id": "56f8522d",
   "metadata": {
    "papermill": {
     "duration": 0.012469,
     "end_time": "2022-04-26T07:37:15.794555",
     "exception": false,
     "start_time": "2022-04-26T07:37:15.782086",
     "status": "completed"
    },
    "tags": []
   },
   "source": [
    "### **Model**"
   ]
  },
  {
   "cell_type": "code",
   "execution_count": 5,
   "id": "66a9184a",
   "metadata": {
    "execution": {
     "iopub.execute_input": "2022-04-26T07:37:15.825671Z",
     "iopub.status.busy": "2022-04-26T07:37:15.824811Z",
     "iopub.status.idle": "2022-04-26T07:37:15.826605Z",
     "shell.execute_reply": "2022-04-26T07:37:15.827029Z",
     "shell.execute_reply.started": "2022-04-09T01:18:47.606516Z"
    },
    "papermill": {
     "duration": 0.020117,
     "end_time": "2022-04-26T07:37:15.827161",
     "exception": false,
     "start_time": "2022-04-26T07:37:15.807044",
     "status": "completed"
    },
    "tags": []
   },
   "outputs": [],
   "source": [
    "class Model(nn.Module):\n",
    "    def __init__(self):\n",
    "        super(Model, self).__init__()\n",
    "\n",
    "        self.model = models.densenet121(pretrained=True, progress=True)\n",
    "        self.model.classifier = nn.Linear(in_features=self.model.classifier.in_features, out_features=1)\n",
    "\n",
    "    def forward(self, x):\n",
    "        return self.model(x)"
   ]
  },
  {
   "cell_type": "markdown",
   "id": "e0a6c193",
   "metadata": {
    "papermill": {
     "duration": 0.012141,
     "end_time": "2022-04-26T07:37:15.851827",
     "exception": false,
     "start_time": "2022-04-26T07:37:15.839686",
     "status": "completed"
    },
    "tags": []
   },
   "source": [
    "### Fit and Predict Helper"
   ]
  },
  {
   "cell_type": "code",
   "execution_count": 6,
   "id": "d18443e5",
   "metadata": {
    "execution": {
     "iopub.execute_input": "2022-04-26T07:37:15.903473Z",
     "iopub.status.busy": "2022-04-26T07:37:15.902328Z",
     "iopub.status.idle": "2022-04-26T07:37:15.904582Z",
     "shell.execute_reply": "2022-04-26T07:37:15.905128Z",
     "shell.execute_reply.started": "2022-04-09T01:18:47.615986Z"
    },
    "papermill": {
     "duration": 0.040861,
     "end_time": "2022-04-26T07:37:15.905293",
     "exception": false,
     "start_time": "2022-04-26T07:37:15.864432",
     "status": "completed"
    },
    "tags": []
   },
   "outputs": [],
   "source": [
    "def fit(model=None, \n",
    "        optimizer=None, \n",
    "        scheduler=None, \n",
    "        epochs=None, \n",
    "        early_stopping_patience=None, \n",
    "        dataloaders=None, \n",
    "        fold=None, \n",
    "        save_path=None, \n",
    "        device=None,\n",
    "        verbose=False) -> tuple:\n",
    "    \n",
    "    def get_accuracy(y_pred, y_true):\n",
    "        y_pred = torch.sigmoid(y_pred)\n",
    "        \n",
    "        y_pred[y_pred > 0.5] = 1\n",
    "        y_pred[y_pred <= 0.5] = 0\n",
    "        \n",
    "        return torch.count_nonzero(y_pred == y_true).item() / len(y_pred)\n",
    "    \n",
    "    if verbose:\n",
    "        breaker()\n",
    "        if fold: print(f\"Training Fold {fold}...\")\n",
    "        else: print(\"Training ...\")\n",
    "        breaker()\n",
    "        \n",
    "    bestLoss, bestAccs = {\"train\" : np.inf, \"valid\" : np.inf}, {\"train\" : 0.0, \"valid\" : 0.0}\n",
    "    Losses, LRs, Accuracies = [], [], []\n",
    "    if fold: name = f\"state_fold_{fold}.pt\"\n",
    "    else: name = \"state.pt\"\n",
    "\n",
    "    start_time = time()\n",
    "    for e in range(epochs):\n",
    "        e_st = time()\n",
    "        epochLoss, epochAccs = {\"train\" : 0.0, \"valid\" : 0.0}, {\"train\" : 0.0, \"valid\" : 0.0}\n",
    "\n",
    "        for phase in [\"train\", \"valid\"]:\n",
    "            if phase == \"train\":\n",
    "                model.train()\n",
    "            else:\n",
    "                model.eval()\n",
    "            \n",
    "            lossPerPass, accsPerPass = [], []\n",
    "\n",
    "            for X, y in dataloaders[phase]:\n",
    "                X, y = X.to(device), y.to(device)\n",
    "\n",
    "                optimizer.zero_grad()\n",
    "                with torch.set_grad_enabled(phase == \"train\"):\n",
    "                    output = model(X)\n",
    "                    loss = torch.nn.BCEWithLogitsLoss()(output, y)\n",
    "                    if phase == \"train\":\n",
    "                        loss.backward()\n",
    "                        optimizer.step()\n",
    "                        if scheduler: scheduler.step()\n",
    "                lossPerPass.append(loss.item())\n",
    "                accsPerPass.append(get_accuracy(output, y))\n",
    "            epochLoss[phase] = np.mean(np.array(lossPerPass))\n",
    "            epochAccs[phase] = np.mean(np.array(accsPerPass))\n",
    "        LRs.append(scheduler.get_last_lr())\n",
    "        Losses.append(epochLoss)\n",
    "        Accuracies.append(epochAccs)\n",
    "        \n",
    "        if early_stopping_patience:\n",
    "            if epochLoss[\"valid\"] < bestLoss[\"valid\"]:\n",
    "                bestLoss = epochLoss\n",
    "                BLE = e + 1\n",
    "                torch.save({\"model_state_dict\"     : model.state_dict(),\n",
    "                            \"optim_state_dict\"     : optimizer.state_dict()},\n",
    "                           os.path.join(save_path, name))\n",
    "                early_stopping_step = 0\n",
    "            else:\n",
    "                early_stopping_step += 1\n",
    "                if early_stopping_step > early_stopping_patience:\n",
    "                    print(\"\\nEarly Stopping at Epoch {}\".format(e + 1))\n",
    "                    break\n",
    "        \n",
    "        if epochLoss[\"valid\"] < bestLoss[\"valid\"]:\n",
    "            bestLoss = epochLoss\n",
    "            BLE = e + 1\n",
    "            torch.save({\"model_state_dict\"     : model.state_dict(),\n",
    "                        \"optim_state_dict\"     : optimizer.state_dict()},\n",
    "                        os.path.join(save_path, name))\n",
    "        \n",
    "        if epochAccs[\"valid\"] > bestAccs[\"valid\"]:\n",
    "            bestAccs = epochAccs\n",
    "            BAE = e + 1\n",
    "        \n",
    "        # if scheduler: scheduler.step(epochLoss[\"valid\"])\n",
    "        \n",
    "        if verbose:\n",
    "            print(\"Epoch: {} | Train Loss: {:.5f} | Valid Loss: {:.5f} | Train Accs: {:.5f} | Valid Accs: {:.5f} | Time: {:.2f} seconds\".format(e+1, \n",
    "                                                                       epochLoss[\"train\"], epochLoss[\"valid\"], \n",
    "                                                                       epochAccs[\"train\"], epochAccs[\"valid\"], \n",
    "                                                                       time()-e_st))\n",
    "\n",
    "    if verbose:                                           \n",
    "        breaker()\n",
    "        print(f\"Best Validation Loss at Epoch {BLE}\")\n",
    "        breaker()\n",
    "        print(f\"Best Validation Accs at Epoch {BAE}\")\n",
    "        breaker()\n",
    "        print(\"Time Taken [{} Epochs] : {:.2f} minutes\".format(len(Losses), (time()-start_time)/60))\n",
    "    \n",
    "    return Losses, Accuracies, LRs, BLE, BAE, name\n",
    "\n",
    "\n",
    "def predict(model=None, dataloader=None, path=None, device=None) -> np.ndarray:\n",
    "    model.load_state_dict(torch.load(path, map_location=device)[\"model_state_dict\"])\n",
    "    model.to(device)    \n",
    "    model.eval()\n",
    "    \n",
    "    y_pred = torch.zeros(1, 1).to(device)\n",
    "    \n",
    "    for X in dataloader:\n",
    "        X = X.to(device)\n",
    "        with torch.no_grad():\n",
    "            output = torch.sigmoid(model(X))\n",
    "        y_pred = torch.cat((y_pred, output.view(-1, 1)), dim=0)\n",
    "    \n",
    "    y_pred[y_pred > 0.5] = 1\n",
    "    y_pred[y_pred <= 0.5] = 0\n",
    "    \n",
    "    return y_pred[1:].detach().cpu().numpy()"
   ]
  },
  {
   "cell_type": "markdown",
   "id": "8646f4ab",
   "metadata": {
    "papermill": {
     "duration": 0.013361,
     "end_time": "2022-04-26T07:37:15.933245",
     "exception": false,
     "start_time": "2022-04-26T07:37:15.919884",
     "status": "completed"
    },
    "tags": []
   },
   "source": [
    "### **Train**"
   ]
  },
  {
   "cell_type": "code",
   "execution_count": 7,
   "id": "4c7834c7",
   "metadata": {
    "execution": {
     "iopub.execute_input": "2022-04-26T07:37:15.964953Z",
     "iopub.status.busy": "2022-04-26T07:37:15.964369Z",
     "iopub.status.idle": "2022-04-26T07:37:31.441018Z",
     "shell.execute_reply": "2022-04-26T07:37:31.440520Z",
     "shell.execute_reply.started": "2022-04-09T01:18:47.643848Z"
    },
    "papermill": {
     "duration": 15.494542,
     "end_time": "2022-04-26T07:37:31.441152",
     "exception": false,
     "start_time": "2022-04-26T07:37:15.946610",
     "status": "completed"
    },
    "tags": []
   },
   "outputs": [],
   "source": [
    "images = np.load(f\"../input/cxr-images-{SIZE}/train_images_{SIZE}.npy\")\n",
    "labels = np.load(f\"../input/cxr-images-{SIZE}/train_targets_{SIZE}.npy\")"
   ]
  },
  {
   "cell_type": "code",
   "execution_count": 8,
   "id": "d7f91d54",
   "metadata": {
    "execution": {
     "iopub.execute_input": "2022-04-26T07:37:31.482882Z",
     "iopub.status.busy": "2022-04-26T07:37:31.481826Z",
     "iopub.status.idle": "2022-04-26T09:51:41.311630Z",
     "shell.execute_reply": "2022-04-26T09:51:41.312050Z"
    },
    "papermill": {
     "duration": 8049.857928,
     "end_time": "2022-04-26T09:51:41.312210",
     "exception": false,
     "start_time": "2022-04-26T07:37:31.454282",
     "status": "completed"
    },
    "tags": []
   },
   "outputs": [
    {
     "name": "stderr",
     "output_type": "stream",
     "text": [
      "Downloading: \"https://download.pytorch.org/models/densenet121-a639ec97.pth\" to /root/.cache/torch/hub/checkpoints/densenet121-a639ec97.pth\n"
     ]
    },
    {
     "data": {
      "application/vnd.jupyter.widget-view+json": {
       "model_id": "de8875f85bc44210819c1b4e4494cf58",
       "version_major": 2,
       "version_minor": 0
      },
      "text/plain": [
       "  0%|          | 0.00/30.8M [00:00<?, ?B/s]"
      ]
     },
     "metadata": {},
     "output_type": "display_data"
    },
    {
     "name": "stdout",
     "output_type": "stream",
     "text": [
      "\n",
      "**************************************************\n",
      "\n",
      "Training Fold 1...\n",
      "\n",
      "**************************************************\n",
      "\n",
      "Epoch: 1 | Train Loss: 0.34081 | Valid Loss: 0.06356 | Train Accs: 0.82305 | Valid Accs: 0.98241 | Time: 91.99 seconds\n",
      "Epoch: 2 | Train Loss: 0.09052 | Valid Loss: 0.16795 | Train Accs: 0.97029 | Valid Accs: 0.92898 | Time: 86.50 seconds\n",
      "Epoch: 3 | Train Loss: 0.09256 | Valid Loss: 0.05103 | Train Accs: 0.96589 | Valid Accs: 0.98268 | Time: 86.33 seconds\n",
      "Epoch: 4 | Train Loss: 0.06827 | Valid Loss: 0.13455 | Train Accs: 0.97686 | Valid Accs: 0.95170 | Time: 86.37 seconds\n",
      "Epoch: 5 | Train Loss: 0.05756 | Valid Loss: 0.07578 | Train Accs: 0.97864 | Valid Accs: 0.96943 | Time: 85.88 seconds\n",
      "Epoch: 6 | Train Loss: 0.06536 | Valid Loss: 0.05973 | Train Accs: 0.97567 | Valid Accs: 0.97822 | Time: 86.76 seconds\n",
      "Epoch: 7 | Train Loss: 0.04234 | Valid Loss: 0.08082 | Train Accs: 0.98473 | Valid Accs: 0.97484 | Time: 86.54 seconds\n",
      "Epoch: 8 | Train Loss: 0.04128 | Valid Loss: 0.02926 | Train Accs: 0.98550 | Valid Accs: 0.98931 | Time: 87.45 seconds\n",
      "Epoch: 9 | Train Loss: 0.02779 | Valid Loss: 0.15116 | Train Accs: 0.98927 | Valid Accs: 0.94359 | Time: 86.76 seconds\n",
      "Epoch: 10 | Train Loss: 0.02027 | Valid Loss: 0.04043 | Train Accs: 0.99404 | Valid Accs: 0.98458 | Time: 86.75 seconds\n",
      "Epoch: 11 | Train Loss: 0.01433 | Valid Loss: 0.05068 | Train Accs: 0.99523 | Valid Accs: 0.98431 | Time: 86.73 seconds\n",
      "Epoch: 12 | Train Loss: 0.01800 | Valid Loss: 0.04050 | Train Accs: 0.99451 | Valid Accs: 0.98715 | Time: 85.87 seconds\n",
      "Epoch: 13 | Train Loss: 0.01074 | Valid Loss: 0.02621 | Train Accs: 0.99618 | Valid Accs: 0.98837 | Time: 87.06 seconds\n",
      "Epoch: 14 | Train Loss: 0.00608 | Valid Loss: 0.02268 | Train Accs: 0.99809 | Valid Accs: 0.99148 | Time: 87.19 seconds\n",
      "Epoch: 15 | Train Loss: 0.00609 | Valid Loss: 0.03169 | Train Accs: 0.99833 | Valid Accs: 0.98931 | Time: 87.07 seconds\n",
      "Epoch: 16 | Train Loss: 0.00272 | Valid Loss: 0.02475 | Train Accs: 0.99952 | Valid Accs: 0.99337 | Time: 86.75 seconds\n",
      "Epoch: 17 | Train Loss: 0.00110 | Valid Loss: 0.02546 | Train Accs: 1.00000 | Valid Accs: 0.99242 | Time: 86.92 seconds\n",
      "Epoch: 18 | Train Loss: 0.00175 | Valid Loss: 0.02438 | Train Accs: 0.99976 | Valid Accs: 0.99337 | Time: 86.98 seconds\n",
      "Epoch: 19 | Train Loss: 0.00173 | Valid Loss: 0.02748 | Train Accs: 0.99976 | Valid Accs: 0.99148 | Time: 86.62 seconds\n",
      "\n",
      "Early Stopping at Epoch 20\n",
      "\n",
      "**************************************************\n",
      "\n",
      "Best Validation Loss at Epoch 14\n",
      "\n",
      "**************************************************\n",
      "\n",
      "Best Validation Accs at Epoch 16\n",
      "\n",
      "**************************************************\n",
      "\n",
      "Time Taken [20 Epochs] : 28.99 minutes\n",
      "\n",
      "**************************************************\n",
      "\n"
     ]
    },
    {
     "data": {
      "image/png": "[encoded data removed]",
      "text/plain": [
       "<Figure size 576x432 with 2 Axes>"
      ]
     },
     "metadata": {
      "needs_background": "light"
     },
     "output_type": "display_data"
    },
    {
     "name": "stdout",
     "output_type": "stream",
     "text": [
      "\n",
      "**************************************************\n",
      "\n",
      "Training Fold 2...\n",
      "\n",
      "**************************************************\n",
      "\n",
      "Epoch: 1 | Train Loss: 0.34112 | Valid Loss: 0.10005 | Train Accs: 0.81876 | Valid Accs: 0.96564 | Time: 86.46 seconds\n",
      "Epoch: 2 | Train Loss: 0.09022 | Valid Loss: 0.08552 | Train Accs: 0.96732 | Valid Accs: 0.96564 | Time: 86.42 seconds\n",
      "Epoch: 3 | Train Loss: 0.09832 | Valid Loss: 0.09635 | Train Accs: 0.96141 | Valid Accs: 0.96307 | Time: 85.94 seconds\n",
      "Epoch: 4 | Train Loss: 0.06768 | Valid Loss: 0.06653 | Train Accs: 0.97591 | Valid Accs: 0.96848 | Time: 86.37 seconds\n",
      "Epoch: 5 | Train Loss: 0.06339 | Valid Loss: 0.05347 | Train Accs: 0.97662 | Valid Accs: 0.97984 | Time: 86.69 seconds\n",
      "Epoch: 6 | Train Loss: 0.06248 | Valid Loss: 0.07079 | Train Accs: 0.97638 | Valid Accs: 0.97254 | Time: 86.30 seconds\n",
      "Epoch: 7 | Train Loss: 0.04706 | Valid Loss: 0.02726 | Train Accs: 0.98330 | Valid Accs: 0.98864 | Time: 86.22 seconds\n",
      "Epoch: 8 | Train Loss: 0.04143 | Valid Loss: 0.05450 | Train Accs: 0.98426 | Valid Accs: 0.98201 | Time: 86.29 seconds\n",
      "Epoch: 9 | Train Loss: 0.04605 | Valid Loss: 0.28259 | Train Accs: 0.98163 | Valid Accs: 0.90625 | Time: 85.90 seconds\n",
      "Epoch: 10 | Train Loss: 0.02953 | Valid Loss: 0.05012 | Train Accs: 0.98855 | Valid Accs: 0.98106 | Time: 86.37 seconds\n",
      "Epoch: 11 | Train Loss: 0.02553 | Valid Loss: 0.02742 | Train Accs: 0.99308 | Valid Accs: 0.99242 | Time: 86.34 seconds\n",
      "Epoch: 12 | Train Loss: 0.02304 | Valid Loss: 0.03138 | Train Accs: 0.99094 | Valid Accs: 0.99148 | Time: 86.04 seconds\n",
      "\n",
      "Early Stopping at Epoch 13\n",
      "\n",
      "**************************************************\n",
      "\n",
      "Best Validation Loss at Epoch 7\n",
      "\n",
      "**************************************************\n",
      "\n",
      "Best Validation Accs at Epoch 11\n",
      "\n",
      "**************************************************\n",
      "\n",
      "Time Taken [13 Epochs] : 18.70 minutes\n",
      "\n",
      "**************************************************\n",
      "\n"
     ]
    },
    {
     "data": {
      "image/png": "[encoded data removed]",
      "text/plain": [
       "<Figure size 576x432 with 2 Axes>"
      ]
     },
     "metadata": {
      "needs_background": "light"
     },
     "output_type": "display_data"
    },
    {
     "name": "stdout",
     "output_type": "stream",
     "text": [
      "\n",
      "**************************************************\n",
      "\n",
      "Training Fold 3...\n",
      "\n",
      "**************************************************\n",
      "\n",
      "Epoch: 1 | Train Loss: 0.34468 | Valid Loss: 0.08223 | Train Accs: 0.81474 | Valid Accs: 0.97633 | Time: 86.44 seconds\n",
      "Epoch: 2 | Train Loss: 0.08562 | Valid Loss: 0.20284 | Train Accs: 0.96803 | Valid Accs: 0.94318 | Time: 85.83 seconds\n",
      "Epoch: 3 | Train Loss: 0.09843 | Valid Loss: 0.16388 | Train Accs: 0.96207 | Valid Accs: 0.94886 | Time: 86.03 seconds\n",
      "Epoch: 4 | Train Loss: 0.10001 | Valid Loss: 0.08130 | Train Accs: 0.95835 | Valid Accs: 0.98011 | Time: 86.34 seconds\n",
      "Epoch: 5 | Train Loss: 0.06795 | Valid Loss: 0.57724 | Train Accs: 0.97257 | Valid Accs: 0.80114 | Time: 85.87 seconds\n",
      "Epoch: 6 | Train Loss: 0.05346 | Valid Loss: 0.03087 | Train Accs: 0.98020 | Valid Accs: 0.98864 | Time: 86.16 seconds\n",
      "Epoch: 7 | Train Loss: 0.03954 | Valid Loss: 0.04647 | Train Accs: 0.98593 | Valid Accs: 0.98706 | Time: 86.17 seconds\n",
      "Epoch: 8 | Train Loss: 0.04291 | Valid Loss: 0.02550 | Train Accs: 0.98292 | Valid Accs: 0.98769 | Time: 86.26 seconds\n",
      "Epoch: 9 | Train Loss: 0.03418 | Valid Loss: 0.04281 | Train Accs: 0.98664 | Valid Accs: 0.98485 | Time: 85.83 seconds\n",
      "Epoch: 10 | Train Loss: 0.02438 | Valid Loss: 0.02711 | Train Accs: 0.99189 | Valid Accs: 0.98864 | Time: 85.95 seconds\n",
      "Epoch: 11 | Train Loss: 0.02406 | Valid Loss: 0.21907 | Train Accs: 0.99141 | Valid Accs: 0.91761 | Time: 85.88 seconds\n",
      "Epoch: 12 | Train Loss: 0.01664 | Valid Loss: 0.01429 | Train Accs: 0.99356 | Valid Accs: 0.99527 | Time: 86.37 seconds\n",
      "Epoch: 13 | Train Loss: 0.00664 | Valid Loss: 0.02156 | Train Accs: 0.99809 | Valid Accs: 0.98864 | Time: 86.49 seconds\n",
      "Epoch: 14 | Train Loss: 0.00831 | Valid Loss: 0.01938 | Train Accs: 0.99809 | Valid Accs: 0.99148 | Time: 86.17 seconds\n",
      "Epoch: 15 | Train Loss: 0.00590 | Valid Loss: 0.01830 | Train Accs: 0.99905 | Valid Accs: 0.99242 | Time: 86.55 seconds\n",
      "Epoch: 16 | Train Loss: 0.00197 | Valid Loss: 0.01148 | Train Accs: 0.99976 | Valid Accs: 0.99527 | Time: 86.45 seconds\n",
      "Epoch: 17 | Train Loss: 0.00146 | Valid Loss: 0.01174 | Train Accs: 1.00000 | Valid Accs: 0.99337 | Time: 86.48 seconds\n",
      "Epoch: 18 | Train Loss: 0.00112 | Valid Loss: 0.01084 | Train Accs: 1.00000 | Valid Accs: 0.99337 | Time: 86.95 seconds\n",
      "Epoch: 19 | Train Loss: 0.00125 | Valid Loss: 0.00984 | Train Accs: 1.00000 | Valid Accs: 0.99337 | Time: 86.49 seconds\n",
      "Epoch: 20 | Train Loss: 0.00122 | Valid Loss: 0.00989 | Train Accs: 1.00000 | Valid Accs: 0.99527 | Time: 86.33 seconds\n",
      "\n",
      "**************************************************\n",
      "\n",
      "Best Validation Loss at Epoch 19\n",
      "\n",
      "**************************************************\n",
      "\n",
      "Best Validation Accs at Epoch 12\n",
      "\n",
      "**************************************************\n",
      "\n",
      "Time Taken [20 Epochs] : 28.75 minutes\n",
      "\n",
      "**************************************************\n",
      "\n"
     ]
    },
    {
     "data": {
      "image/png": "[encoded data removed]",
      "text/plain": [
       "<Figure size 576x432 with 2 Axes>"
      ]
     },
     "metadata": {
      "needs_background": "light"
     },
     "output_type": "display_data"
    },
    {
     "name": "stdout",
     "output_type": "stream",
     "text": [
      "\n",
      "**************************************************\n",
      "\n",
      "Training Fold 4...\n",
      "\n",
      "**************************************************\n",
      "\n",
      "Epoch: 1 | Train Loss: 0.34162 | Valid Loss: 0.08320 | Train Accs: 0.81365 | Valid Accs: 0.97317 | Time: 86.47 seconds\n",
      "Epoch: 2 | Train Loss: 0.09275 | Valid Loss: 0.28854 | Train Accs: 0.96622 | Valid Accs: 0.88920 | Time: 86.14 seconds\n",
      "Epoch: 3 | Train Loss: 0.11231 | Valid Loss: 0.07464 | Train Accs: 0.95802 | Valid Accs: 0.97254 | Time: 86.42 seconds\n",
      "Epoch: 4 | Train Loss: 0.07115 | Valid Loss: 0.04340 | Train Accs: 0.97099 | Valid Accs: 0.98390 | Time: 86.34 seconds\n",
      "Epoch: 5 | Train Loss: 0.07566 | Valid Loss: 0.05228 | Train Accs: 0.96851 | Valid Accs: 0.97633 | Time: 86.20 seconds\n",
      "Epoch: 6 | Train Loss: 0.05720 | Valid Loss: 0.04758 | Train Accs: 0.98139 | Valid Accs: 0.97822 | Time: 86.11 seconds\n",
      "Epoch: 7 | Train Loss: 0.05111 | Valid Loss: 0.03541 | Train Accs: 0.98187 | Valid Accs: 0.98769 | Time: 86.35 seconds\n",
      "Epoch: 8 | Train Loss: 0.03341 | Valid Loss: 0.02129 | Train Accs: 0.98879 | Valid Accs: 0.99337 | Time: 86.43 seconds\n",
      "Epoch: 9 | Train Loss: 0.02930 | Valid Loss: 0.10289 | Train Accs: 0.98927 | Valid Accs: 0.95739 | Time: 86.19 seconds\n",
      "Epoch: 10 | Train Loss: 0.03464 | Valid Loss: 0.04140 | Train Accs: 0.98760 | Valid Accs: 0.98327 | Time: 86.22 seconds\n",
      "Epoch: 11 | Train Loss: 0.01988 | Valid Loss: 0.02119 | Train Accs: 0.99451 | Valid Accs: 0.99432 | Time: 86.30 seconds\n",
      "Epoch: 12 | Train Loss: 0.01802 | Valid Loss: 0.04912 | Train Accs: 0.99284 | Valid Accs: 0.98201 | Time: 86.31 seconds\n",
      "Epoch: 13 | Train Loss: 0.01051 | Valid Loss: 0.03088 | Train Accs: 0.99618 | Valid Accs: 0.98864 | Time: 86.44 seconds\n",
      "Epoch: 14 | Train Loss: 0.00772 | Valid Loss: 0.02299 | Train Accs: 0.99857 | Valid Accs: 0.99148 | Time: 86.10 seconds\n",
      "Epoch: 15 | Train Loss: 0.00432 | Valid Loss: 0.01647 | Train Accs: 0.99905 | Valid Accs: 0.99432 | Time: 86.43 seconds\n",
      "Epoch: 16 | Train Loss: 0.00167 | Valid Loss: 0.02148 | Train Accs: 0.99976 | Valid Accs: 0.98958 | Time: 85.95 seconds\n",
      "Epoch: 17 | Train Loss: 0.00111 | Valid Loss: 0.01849 | Train Accs: 1.00000 | Valid Accs: 0.99337 | Time: 86.12 seconds\n",
      "Epoch: 18 | Train Loss: 0.00128 | Valid Loss: 0.01109 | Train Accs: 1.00000 | Valid Accs: 0.99621 | Time: 86.58 seconds\n",
      "Epoch: 19 | Train Loss: 0.00167 | Valid Loss: 0.01086 | Train Accs: 0.99976 | Valid Accs: 0.99621 | Time: 86.38 seconds\n",
      "Epoch: 20 | Train Loss: 0.00121 | Valid Loss: 0.01171 | Train Accs: 0.99976 | Valid Accs: 0.99621 | Time: 86.21 seconds\n",
      "\n",
      "**************************************************\n",
      "\n",
      "Best Validation Loss at Epoch 19\n",
      "\n",
      "**************************************************\n",
      "\n",
      "Best Validation Accs at Epoch 18\n",
      "\n",
      "**************************************************\n",
      "\n",
      "Time Taken [20 Epochs] : 28.76 minutes\n",
      "\n",
      "**************************************************\n",
      "\n"
     ]
    },
    {
     "data": {
      "image/png": "[encoded data removed]",
      "text/plain": [
       "<Figure size 576x432 with 2 Axes>"
      ]
     },
     "metadata": {
      "needs_background": "light"
     },
     "output_type": "display_data"
    },
    {
     "name": "stdout",
     "output_type": "stream",
     "text": [
      "\n",
      "**************************************************\n",
      "\n",
      "Training Fold 5...\n",
      "\n",
      "**************************************************\n",
      "\n",
      "Epoch: 1 | Train Loss: 0.34537 | Valid Loss: 0.15694 | Train Accs: 0.81345 | Valid Accs: 0.93750 | Time: 86.40 seconds\n",
      "Epoch: 2 | Train Loss: 0.09428 | Valid Loss: 2.11288 | Train Accs: 0.96780 | Valid Accs: 0.33333 | Time: 86.07 seconds\n",
      "Epoch: 3 | Train Loss: 0.09762 | Valid Loss: 0.05429 | Train Accs: 0.96088 | Valid Accs: 0.98106 | Time: 86.31 seconds\n",
      "Epoch: 4 | Train Loss: 0.08471 | Valid Loss: 0.75095 | Train Accs: 0.97037 | Valid Accs: 0.72159 | Time: 85.96 seconds\n",
      "Epoch: 5 | Train Loss: 0.08122 | Valid Loss: 0.16081 | Train Accs: 0.96827 | Valid Accs: 0.93845 | Time: 86.30 seconds\n",
      "Epoch: 6 | Train Loss: 0.04715 | Valid Loss: 0.03763 | Train Accs: 0.98306 | Valid Accs: 0.98485 | Time: 86.31 seconds\n",
      "Epoch: 7 | Train Loss: 0.04951 | Valid Loss: 0.05475 | Train Accs: 0.98187 | Valid Accs: 0.97822 | Time: 86.18 seconds\n",
      "Epoch: 8 | Train Loss: 0.02951 | Valid Loss: 0.06762 | Train Accs: 0.98855 | Valid Accs: 0.97254 | Time: 85.96 seconds\n",
      "Epoch: 9 | Train Loss: 0.04133 | Valid Loss: 0.03616 | Train Accs: 0.98426 | Valid Accs: 0.98485 | Time: 86.48 seconds\n",
      "Epoch: 10 | Train Loss: 0.02827 | Valid Loss: 0.03337 | Train Accs: 0.98879 | Valid Accs: 0.98674 | Time: 86.40 seconds\n",
      "Epoch: 11 | Train Loss: 0.01764 | Valid Loss: 0.04089 | Train Accs: 0.99451 | Valid Accs: 0.98674 | Time: 86.07 seconds\n",
      "Epoch: 12 | Train Loss: 0.02047 | Valid Loss: 0.03593 | Train Accs: 0.99189 | Valid Accs: 0.98674 | Time: 86.15 seconds\n",
      "Epoch: 13 | Train Loss: 0.01278 | Valid Loss: 0.05037 | Train Accs: 0.99523 | Valid Accs: 0.98201 | Time: 86.07 seconds\n",
      "Epoch: 14 | Train Loss: 0.00703 | Valid Loss: 0.03111 | Train Accs: 0.99761 | Valid Accs: 0.99053 | Time: 86.55 seconds\n",
      "Epoch: 15 | Train Loss: 0.00427 | Valid Loss: 0.01932 | Train Accs: 0.99928 | Valid Accs: 0.99432 | Time: 86.44 seconds\n",
      "Epoch: 16 | Train Loss: 0.00110 | Valid Loss: 0.01979 | Train Accs: 1.00000 | Valid Accs: 0.99432 | Time: 85.98 seconds\n",
      "Epoch: 17 | Train Loss: 0.00203 | Valid Loss: 0.03550 | Train Accs: 0.99976 | Valid Accs: 0.98864 | Time: 86.22 seconds\n",
      "Epoch: 18 | Train Loss: 0.00150 | Valid Loss: 0.02404 | Train Accs: 0.99952 | Valid Accs: 0.99432 | Time: 86.09 seconds\n",
      "Epoch: 19 | Train Loss: 0.00231 | Valid Loss: 0.02438 | Train Accs: 0.99976 | Valid Accs: 0.99432 | Time: 86.12 seconds\n",
      "Epoch: 20 | Train Loss: 0.00112 | Valid Loss: 0.02395 | Train Accs: 1.00000 | Valid Accs: 0.99432 | Time: 86.34 seconds\n",
      "\n",
      "**************************************************\n",
      "\n",
      "Best Validation Loss at Epoch 15\n",
      "\n",
      "**************************************************\n",
      "\n",
      "Best Validation Accs at Epoch 15\n",
      "\n",
      "**************************************************\n",
      "\n",
      "Time Taken [20 Epochs] : 28.74 minutes\n",
      "\n",
      "**************************************************\n",
      "\n"
     ]
    },
    {
     "data": {
      "image/png": "[encoded data removed]",
      "text/plain": [
       "<Figure size 576x432 with 2 Axes>"
      ]
     },
     "metadata": {
      "needs_background": "light"
     },
     "output_type": "display_data"
    }
   ],
   "source": [
    "fold = 1\n",
    "BLEs, BAEs = [], []\n",
    "\n",
    "for tr_idx, va_idx in KFold(n_splits=cfg.n_splits, random_state=SEED, shuffle=True).split(images):\n",
    "    tr_images, va_images, tr_labels, va_labels = images[tr_idx], images[va_idx], labels[tr_idx], labels[va_idx]\n",
    "\n",
    "    tr_data_setup = DS(tr_images, tr_labels.reshape(-1, 1), cfg.transform)\n",
    "    va_data_setup = DS(va_images, va_labels.reshape(-1, 1), cfg.transform)\n",
    "\n",
    "    dataloaders = {\n",
    "        \"train\" : DL(tr_data_setup, batch_size=cfg.batch_size, shuffle=True, generator=torch.manual_seed(cfg.seed)),\n",
    "        \"valid\" : DL(va_data_setup, batch_size=cfg.batch_size, shuffle=False),\n",
    "    }\n",
    "\n",
    "    cfg = CFG(epochs=20, lr=1e-3, wd=0.0, batch_size=16, steps_per_epoch=len(dataloaders[\"train\"]))\n",
    "\n",
    "    torch.manual_seed(cfg.seed)\n",
    "    model = Model().to(cfg.device)\n",
    "    optimizer = optim.Adam([p for p in model.parameters() if p.requires_grad], lr=cfg.lr, weight_decay=cfg.wd)\n",
    "    scheduler = optim.lr_scheduler.OneCycleLR(optimizer=optimizer, \n",
    "                                              max_lr=cfg.max_lr, \n",
    "                                              epochs=cfg.epochs, \n",
    "                                              steps_per_epoch=cfg.steps_per_epoch,\n",
    "                                              pct_start=cfg.pct_start, \n",
    "                                              div_factor=cfg.div_factor, \n",
    "                                              final_div_factor=cfg.final_div_factor)\n",
    "    # scheduler = None\n",
    "\n",
    "    L, A, LRs, BLE, BAE, name = fit(model=model, \n",
    "                                    optimizer=optimizer, \n",
    "                                    scheduler=scheduler, \n",
    "                                    epochs=cfg.epochs, \n",
    "                                    early_stopping_patience=cfg.early_stopping, \n",
    "                                    dataloaders=dataloaders, \n",
    "                                    device=cfg.device,\n",
    "                                    save_path=cfg.save_path,\n",
    "                                    fold = fold,\n",
    "                                    verbose=True)\n",
    "\n",
    "    breaker()\n",
    "    show_graphs(L, A)\n",
    "    \n",
    "    BLEs.append(BLE)\n",
    "    BAEs.append(BAE)\n",
    "\n",
    "    fold += 1"
   ]
  },
  {
   "cell_type": "markdown",
   "id": "44cf722f",
   "metadata": {
    "papermill": {
     "duration": 0.049739,
     "end_time": "2022-04-26T09:51:41.410721",
     "exception": false,
     "start_time": "2022-04-26T09:51:41.360982",
     "status": "completed"
    },
    "tags": []
   },
   "source": [
    "### **Predictions**"
   ]
  },
  {
   "cell_type": "code",
   "execution_count": 9,
   "id": "9ca6b2b8",
   "metadata": {
    "execution": {
     "iopub.execute_input": "2022-04-26T09:51:41.517231Z",
     "iopub.status.busy": "2022-04-26T09:51:41.516669Z",
     "iopub.status.idle": "2022-04-26T09:51:47.681296Z",
     "shell.execute_reply": "2022-04-26T09:51:47.680783Z",
     "shell.execute_reply.started": "2022-04-09T01:41:41.028783Z"
    },
    "papermill": {
     "duration": 6.221474,
     "end_time": "2022-04-26T09:51:47.681431",
     "exception": false,
     "start_time": "2022-04-26T09:51:41.459957",
     "status": "completed"
    },
    "tags": []
   },
   "outputs": [
    {
     "name": "stdout",
     "output_type": "stream",
     "text": [
      "\n",
      "**************************************************\n",
      "\n",
      "Best Fold : 2\n",
      "\n",
      "**************************************************\n",
      "\n",
      "Accuracy  : 0.78365\n",
      "ROC-AUC   : 0.87143\n",
      "Precision : [0.42307692 1.        ]\n",
      "Recall    : [1.         0.74285714]\n",
      "F-Score   : [0.59459459 0.85245902]\n",
      "\n",
      "**************************************************\n",
      "\n",
      "              precision    recall  f1-score   support\n",
      "\n",
      "         0.0       1.00      0.42      0.59       234\n",
      "         1.0       0.74      1.00      0.85       390\n",
      "\n",
      "    accuracy                           0.78       624\n",
      "   macro avg       0.87      0.71      0.72       624\n",
      "weighted avg       0.84      0.78      0.76       624\n",
      "\n",
      "\n",
      "**************************************************\n",
      "\n",
      "[[ 99 135]\n",
      " [  0 390]]\n",
      "\n",
      "**************************************************\n",
      "\n"
     ]
    }
   ],
   "source": [
    "test_images = np.load(f\"../input/cxr-images-{SIZE}/test_images_{SIZE}.npy\")\n",
    "test_labels = np.load(f\"../input/cxr-images-{SIZE}/test_targets_{SIZE}.npy\")\n",
    "\n",
    "ts_data_setup = DS(test_images, None, cfg.transform)\n",
    "ts_data = DL(ts_data_setup, batch_size=cfg.batch_size, shuffle=False)\n",
    "\n",
    "best_fold = BLEs.index(min(BLEs)) + 1\n",
    "model_path = f\"saves/state_fold_{best_fold}.pt\"\n",
    "y_pred = predict(model=Model().to(cfg.device), dataloader=ts_data, path=model_path, device=cfg.device)\n",
    "\n",
    "accuracy, auc, precision, recall, f_score = get_scores(test_labels, y_pred)\n",
    "\n",
    "breaker()\n",
    "print(f\"Best Fold : {best_fold}\")\n",
    "breaker()\n",
    "print_scores(accuracy, auc, precision, recall, f_score)\n",
    "breaker()\n",
    "print(classification_report(test_labels, y_pred))\n",
    "breaker()\n",
    "print(confusion_matrix(test_labels, y_pred))\n",
    "breaker()"
   ]
  }
 ],
 "metadata": {
  "kernelspec": {
   "display_name": "Python 3",
   "language": "python",
   "name": "python3"
  },
  "language_info": {
   "codemirror_mode": {
    "name": "ipython",
    "version": 3
   },
   "file_extension": ".py",
   "mimetype": "text/x-python",
   "name": "python",
   "nbconvert_exporter": "python",
   "pygments_lexer": "ipython3",
   "version": "3.7.12"
  },
  "papermill": {
   "default_parameters": {},
   "duration": 8084.963659,
   "end_time": "2022-04-26T09:51:49.458674",
   "environment_variables": {},
   "exception": null,
   "input_path": "__notebook__.ipynb",
   "output_path": "__notebook__.ipynb",
   "parameters": {},
   "start_time": "2022-04-26T07:37:04.495015",
   "version": "2.3.3"
  },
  "widgets": {
   "application/vnd.jupyter.widget-state+json": {
    "state": {
     "22d6aad4d543461d8310b0778a29efc5": {
      "model_module": "@jupyter-widgets/base",
      "model_module_version": "1.2.0",
      "model_name": "LayoutModel",
      "state": {
       "_model_module": "@jupyter-widgets/base",
       "_model_module_version": "1.2.0",
       "_model_name": "LayoutModel",
       "_view_count": null,
       "_view_module": "@jupyter-widgets/base",
       "_view_module_version": "1.2.0",
       "_view_name": "LayoutView",
       "align_content": null,
       "align_items": null,
       "align_self": null,
       "border": null,
       "bottom": null,
       "display": null,
       "flex": null,
       "flex_flow": null,
       "grid_area": null,
       "grid_auto_columns": null,
       "grid_auto_flow": null,
       "grid_auto_rows": null,
       "grid_column": null,
       "grid_gap": null,
       "grid_row": null,
       "grid_template_areas": null,
       "grid_template_columns": null,
       "grid_template_rows": null,
       "height": null,
       "justify_content": null,
       "justify_items": null,
       "left": null,
       "margin": null,
       "max_height": null,
       "max_width": null,
       "min_height": null,
       "min_width": null,
       "object_fit": null,
       "object_position": null,
       "order": null,
       "overflow": null,
       "overflow_x": null,
       "overflow_y": null,
       "padding": null,
       "right": null,
       "top": null,
       "visibility": null,
       "width": null
      }
     },
     "666dff643fc0499599f089e48062720e": {
      "model_module": "@jupyter-widgets/controls",
      "model_module_version": "1.5.0",
      "model_name": "HTMLModel",
      "state": {
       "_dom_classes": [],
       "_model_module": "@jupyter-widgets/controls",
       "_model_module_version": "1.5.0",
       "_model_name": "HTMLModel",
       "_view_count": null,
       "_view_module": "@jupyter-widgets/controls",
       "_view_module_version": "1.5.0",
       "_view_name": "HTMLView",
       "description": "",
       "description_tooltip": null,
       "layout": "IPY_MODEL_ef2ee78de3af479c851baf359e055999",
       "placeholder": "​",
       "style": "IPY_MODEL_a31517a64c764d33a402ce64efba9447",
       "value": " 30.8M/30.8M [00:00&lt;00:00, 53.2MB/s]"
      }
     },
     "68cf301d2cfb49928eac9219b55f54a0": {
      "model_module": "@jupyter-widgets/controls",
      "model_module_version": "1.5.0",
      "model_name": "ProgressStyleModel",
      "state": {
       "_model_module": "@jupyter-widgets/controls",
       "_model_module_version": "1.5.0",
       "_model_name": "ProgressStyleModel",
       "_view_count": null,
       "_view_module": "@jupyter-widgets/base",
       "_view_module_version": "1.2.0",
       "_view_name": "StyleView",
       "bar_color": null,
       "description_width": ""
      }
     },
     "7f100ec9167a407a9f9524c59ebd85dd": {
      "model_module": "@jupyter-widgets/base",
      "model_module_version": "1.2.0",
      "model_name": "LayoutModel",
      "state": {
       "_model_module": "@jupyter-widgets/base",
       "_model_module_version": "1.2.0",
       "_model_name": "LayoutModel",
       "_view_count": null,
       "_view_module": "@jupyter-widgets/base",
       "_view_module_version": "1.2.0",
       "_view_name": "LayoutView",
       "align_content": null,
       "align_items": null,
       "align_self": null,
       "border": null,
       "bottom": null,
       "display": null,
       "flex": null,
       "flex_flow": null,
       "grid_area": null,
       "grid_auto_columns": null,
       "grid_auto_flow": null,
       "grid_auto_rows": null,
       "grid_column": null,
       "grid_gap": null,
       "grid_row": null,
       "grid_template_areas": null,
       "grid_template_columns": null,
       "grid_template_rows": null,
       "height": null,
       "justify_content": null,
       "justify_items": null,
       "left": null,
       "margin": null,
       "max_height": null,
       "max_width": null,
       "min_height": null,
       "min_width": null,
       "object_fit": null,
       "object_position": null,
       "order": null,
       "overflow": null,
       "overflow_x": null,
       "overflow_y": null,
       "padding": null,
       "right": null,
       "top": null,
       "visibility": null,
       "width": null
      }
     },
     "8a80cd724d8d4c0bb7adec557fbae30b": {
      "model_module": "@jupyter-widgets/base",
      "model_module_version": "1.2.0",
      "model_name": "LayoutModel",
      "state": {
       "_model_module": "@jupyter-widgets/base",
       "_model_module_version": "1.2.0",
       "_model_name": "LayoutModel",
       "_view_count": null,
       "_view_module": "@jupyter-widgets/base",
       "_view_module_version": "1.2.0",
       "_view_name": "LayoutView",
       "align_content": null,
       "align_items": null,
       "align_self": null,
       "border": null,
       "bottom": null,
       "display": null,
       "flex": null,
       "flex_flow": null,
       "grid_area": null,
       "grid_auto_columns": null,
       "grid_auto_flow": null,
       "grid_auto_rows": null,
       "grid_column": null,
       "grid_gap": null,
       "grid_row": null,
       "grid_template_areas": null,
       "grid_template_columns": null,
       "grid_template_rows": null,
       "height": null,
       "justify_content": null,
       "justify_items": null,
       "left": null,
       "margin": null,
       "max_height": null,
       "max_width": null,
       "min_height": null,
       "min_width": null,
       "object_fit": null,
       "object_position": null,
       "order": null,
       "overflow": null,
       "overflow_x": null,
       "overflow_y": null,
       "padding": null,
       "right": null,
       "top": null,
       "visibility": null,
       "width": null
      }
     },
     "a31517a64c764d33a402ce64efba9447": {
      "model_module": "@jupyter-widgets/controls",
      "model_module_version": "1.5.0",
      "model_name": "DescriptionStyleModel",
      "state": {
       "_model_module": "@jupyter-widgets/controls",
       "_model_module_version": "1.5.0",
       "_model_name": "DescriptionStyleModel",
       "_view_count": null,
       "_view_module": "@jupyter-widgets/base",
       "_view_module_version": "1.2.0",
       "_view_name": "StyleView",
       "description_width": ""
      }
     },
     "bf9d86b91bbb42e3933c36b710f0130e": {
      "model_module": "@jupyter-widgets/controls",
      "model_module_version": "1.5.0",
      "model_name": "FloatProgressModel",
      "state": {
       "_dom_classes": [],
       "_model_module": "@jupyter-widgets/controls",
       "_model_module_version": "1.5.0",
       "_model_name": "FloatProgressModel",
       "_view_count": null,
       "_view_module": "@jupyter-widgets/controls",
       "_view_module_version": "1.5.0",
       "_view_name": "ProgressView",
       "bar_style": "success",
       "description": "",
       "description_tooltip": null,
       "layout": "IPY_MODEL_22d6aad4d543461d8310b0778a29efc5",
       "max": 32342954.0,
       "min": 0.0,
       "orientation": "horizontal",
       "style": "IPY_MODEL_68cf301d2cfb49928eac9219b55f54a0",
       "value": 32342954.0
      }
     },
     "de8875f85bc44210819c1b4e4494cf58": {
      "model_module": "@jupyter-widgets/controls",
      "model_module_version": "1.5.0",
      "model_name": "HBoxModel",
      "state": {
       "_dom_classes": [],
       "_model_module": "@jupyter-widgets/controls",
       "_model_module_version": "1.5.0",
       "_model_name": "HBoxModel",
       "_view_count": null,
       "_view_module": "@jupyter-widgets/controls",
       "_view_module_version": "1.5.0",
       "_view_name": "HBoxView",
       "box_style": "",
       "children": [
        "IPY_MODEL_eb7a25fa2f0f4a1ea9342934413f6e6b",
        "IPY_MODEL_bf9d86b91bbb42e3933c36b710f0130e",
        "IPY_MODEL_666dff643fc0499599f089e48062720e"
       ],
       "layout": "IPY_MODEL_7f100ec9167a407a9f9524c59ebd85dd"
      }
     },
     "eb7a25fa2f0f4a1ea9342934413f6e6b": {
      "model_module": "@jupyter-widgets/controls",
      "model_module_version": "1.5.0",
      "model_name": "HTMLModel",
      "state": {
       "_dom_classes": [],
       "_model_module": "@jupyter-widgets/controls",
       "_model_module_version": "1.5.0",
       "_model_name": "HTMLModel",
       "_view_count": null,
       "_view_module": "@jupyter-widgets/controls",
       "_view_module_version": "1.5.0",
       "_view_name": "HTMLView",
       "description": "",
       "description_tooltip": null,
       "layout": "IPY_MODEL_8a80cd724d8d4c0bb7adec557fbae30b",
       "placeholder": "​",
       "style": "IPY_MODEL_ec2e0512fdc74bf8997faf9cec78a8f1",
       "value": "100%"
      }
     },
     "ec2e0512fdc74bf8997faf9cec78a8f1": {
      "model_module": "@jupyter-widgets/controls",
      "model_module_version": "1.5.0",
      "model_name": "DescriptionStyleModel",
      "state": {
       "_model_module": "@jupyter-widgets/controls",
       "_model_module_version": "1.5.0",
       "_model_name": "DescriptionStyleModel",
       "_view_count": null,
       "_view_module": "@jupyter-widgets/base",
       "_view_module_version": "1.2.0",
       "_view_name": "StyleView",
       "description_width": ""
      }
     },
     "ef2ee78de3af479c851baf359e055999": {
      "model_module": "@jupyter-widgets/base",
      "model_module_version": "1.2.0",
      "model_name": "LayoutModel",
      "state": {
       "_model_module": "@jupyter-widgets/base",
       "_model_module_version": "1.2.0",
       "_model_name": "LayoutModel",
       "_view_count": null,
       "_view_module": "@jupyter-widgets/base",
       "_view_module_version": "1.2.0",
       "_view_name": "LayoutView",
       "align_content": null,
       "align_items": null,
       "align_self": null,
       "border": null,
       "bottom": null,
       "display": null,
       "flex": null,
       "flex_flow": null,
       "grid_area": null,
       "grid_auto_columns": null,
       "grid_auto_flow": null,
       "grid_auto_rows": null,
       "grid_column": null,
       "grid_gap": null,
       "grid_row": null,
       "grid_template_areas": null,
       "grid_template_columns": null,
       "grid_template_rows": null,
       "height": null,
       "justify_content": null,
       "justify_items": null,
       "left": null,
       "margin": null,
       "max_height": null,
       "max_width": null,
       "min_height": null,
       "min_width": null,
       "object_fit": null,
       "object_position": null,
       "order": null,
       "overflow": null,
       "overflow_x": null,
       "overflow_y": null,
       "padding": null,
       "right": null,
       "top": null,
       "visibility": null,
       "width": null
      }
     }
    },
    "version_major": 2,
    "version_minor": 0
   }
  }
 },
 "nbformat": 4,
 "nbformat_minor": 5
}
