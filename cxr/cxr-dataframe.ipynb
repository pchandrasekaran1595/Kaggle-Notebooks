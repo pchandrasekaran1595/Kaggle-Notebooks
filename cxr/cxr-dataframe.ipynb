{
 "cells": [
  {
   "cell_type": "code",
   "execution_count": 1,
   "id": "ac64a3fd",
   "metadata": {
    "_cell_guid": "b1076dfc-b9ad-4769-8c92-a6c4dae69d19",
    "_uuid": "8f2839f25d086af736a60e9eeb907d3b93b6e0e5",
    "execution": {
     "iopub.execute_input": "2022-07-18T06:16:21.053140Z",
     "iopub.status.busy": "2022-07-18T06:16:21.052460Z",
     "iopub.status.idle": "2022-07-18T06:16:21.064623Z",
     "shell.execute_reply": "2022-07-18T06:16:21.063400Z"
    },
    "papermill": {
     "duration": 0.019882,
     "end_time": "2022-07-18T06:16:21.067128",
     "exception": false,
     "start_time": "2022-07-18T06:16:21.047246",
     "status": "completed"
    },
    "tags": []
   },
   "outputs": [],
   "source": [
    "import os\n",
    "import numpy as np\n",
    "import pandas as pd\n",
    "\n",
    "BASE_PATH: str = \"../input/chest-xray-pneumonia/chest_xray\""
   ]
  },
  {
   "cell_type": "code",
   "execution_count": 2,
   "id": "a88f94b6",
   "metadata": {
    "execution": {
     "iopub.execute_input": "2022-07-18T06:16:21.074243Z",
     "iopub.status.busy": "2022-07-18T06:16:21.073546Z",
     "iopub.status.idle": "2022-07-18T06:16:21.085938Z",
     "shell.execute_reply": "2022-07-18T06:16:21.084829Z"
    },
    "papermill": {
     "duration": 0.018909,
     "end_time": "2022-07-18T06:16:21.088676",
     "exception": false,
     "start_time": "2022-07-18T06:16:21.069767",
     "status": "completed"
    },
    "tags": []
   },
   "outputs": [],
   "source": [
    "tr_data = pd.DataFrame(columns=[\"filenames\", \"label\"])\n",
    "ts_data = pd.DataFrame(columns=[\"filenames\", \"label\"])"
   ]
  },
  {
   "cell_type": "code",
   "execution_count": 3,
   "id": "025c86fb",
   "metadata": {
    "execution": {
     "iopub.execute_input": "2022-07-18T06:16:21.095550Z",
     "iopub.status.busy": "2022-07-18T06:16:21.094933Z",
     "iopub.status.idle": "2022-07-18T06:16:21.500970Z",
     "shell.execute_reply": "2022-07-18T06:16:21.500100Z"
    },
    "papermill": {
     "duration": 0.412077,
     "end_time": "2022-07-18T06:16:21.503345",
     "exception": false,
     "start_time": "2022-07-18T06:16:21.091268",
     "status": "completed"
    },
    "tags": []
   },
   "outputs": [
    {
     "data": {
      "text/html": [
       "<div>\n",
       "<style scoped>\n",
       "    .dataframe tbody tr th:only-of-type {\n",
       "        vertical-align: middle;\n",
       "    }\n",
       "\n",
       "    .dataframe tbody tr th {\n",
       "        vertical-align: top;\n",
       "    }\n",
       "\n",
       "    .dataframe thead th {\n",
       "        text-align: right;\n",
       "    }\n",
       "</style>\n",
       "<table border=\"1\" class=\"dataframe\">\n",
       "  <thead>\n",
       "    <tr style=\"text-align: right;\">\n",
       "      <th></th>\n",
       "      <th>filenames</th>\n",
       "      <th>label</th>\n",
       "    </tr>\n",
       "  </thead>\n",
       "  <tbody>\n",
       "    <tr>\n",
       "      <th>0</th>\n",
       "      <td>../input/chest-xray-pneumonia/chest_xray/train...</td>\n",
       "      <td>0</td>\n",
       "    </tr>\n",
       "    <tr>\n",
       "      <th>1</th>\n",
       "      <td>../input/chest-xray-pneumonia/chest_xray/train...</td>\n",
       "      <td>0</td>\n",
       "    </tr>\n",
       "    <tr>\n",
       "      <th>2</th>\n",
       "      <td>../input/chest-xray-pneumonia/chest_xray/train...</td>\n",
       "      <td>0</td>\n",
       "    </tr>\n",
       "    <tr>\n",
       "      <th>3</th>\n",
       "      <td>../input/chest-xray-pneumonia/chest_xray/train...</td>\n",
       "      <td>0</td>\n",
       "    </tr>\n",
       "    <tr>\n",
       "      <th>4</th>\n",
       "      <td>../input/chest-xray-pneumonia/chest_xray/train...</td>\n",
       "      <td>0</td>\n",
       "    </tr>\n",
       "  </tbody>\n",
       "</table>\n",
       "</div>"
      ],
      "text/plain": [
       "                                           filenames  label\n",
       "0  ../input/chest-xray-pneumonia/chest_xray/train...      0\n",
       "1  ../input/chest-xray-pneumonia/chest_xray/train...      0\n",
       "2  ../input/chest-xray-pneumonia/chest_xray/train...      0\n",
       "3  ../input/chest-xray-pneumonia/chest_xray/train...      0\n",
       "4  ../input/chest-xray-pneumonia/chest_xray/train...      0"
      ]
     },
     "execution_count": 3,
     "metadata": {},
     "output_type": "execute_result"
    }
   ],
   "source": [
    "train_filenames_1: list = [os.path.join(BASE_PATH + \"/train/NORMAL\", name) for name in os.listdir(BASE_PATH + \"/train/NORMAL\")]\n",
    "train_filenames_2: list = [os.path.join(BASE_PATH + \"/val/NORMAL\", name) for name in os.listdir(BASE_PATH + \"/val/NORMAL\")]\n",
    "train_filenames_3: list = [os.path.join(BASE_PATH + \"/train/PNEUMONIA\", name) for name in os.listdir(BASE_PATH + \"/train/PNEUMONIA\")]\n",
    "train_filenames_4: list = [os.path.join(BASE_PATH + \"/val/PNEUMONIA\", name) for name in os.listdir(BASE_PATH + \"/val/PNEUMONIA\")]\n",
    "\n",
    "train_filenames: list = train_filenames_1 + train_filenames_2 + train_filenames_3 + train_filenames_4\n",
    "train_labels = np.concatenate((\n",
    "        np.zeros((len(train_filenames_1), 1), dtype=np.uint8),\n",
    "        np.zeros((len(train_filenames_2), 1), dtype=np.uint8),\n",
    "        np.ones((len(train_filenames_3), 1), dtype=np.uint8),\n",
    "        np.ones((len(train_filenames_4), 1), dtype=np.uint8),\n",
    "    ), axis=0\n",
    ")\n",
    "\n",
    "tr_data.filenames = train_filenames\n",
    "tr_data.label = train_labels\n",
    "\n",
    "tr_data.head(5)"
   ]
  },
  {
   "cell_type": "code",
   "execution_count": 4,
   "id": "f3cba393",
   "metadata": {
    "execution": {
     "iopub.execute_input": "2022-07-18T06:16:21.510641Z",
     "iopub.status.busy": "2022-07-18T06:16:21.510019Z",
     "iopub.status.idle": "2022-07-18T06:16:21.572423Z",
     "shell.execute_reply": "2022-07-18T06:16:21.571300Z"
    },
    "papermill": {
     "duration": 0.068657,
     "end_time": "2022-07-18T06:16:21.574839",
     "exception": false,
     "start_time": "2022-07-18T06:16:21.506182",
     "status": "completed"
    },
    "tags": []
   },
   "outputs": [
    {
     "data": {
      "text/html": [
       "<div>\n",
       "<style scoped>\n",
       "    .dataframe tbody tr th:only-of-type {\n",
       "        vertical-align: middle;\n",
       "    }\n",
       "\n",
       "    .dataframe tbody tr th {\n",
       "        vertical-align: top;\n",
       "    }\n",
       "\n",
       "    .dataframe thead th {\n",
       "        text-align: right;\n",
       "    }\n",
       "</style>\n",
       "<table border=\"1\" class=\"dataframe\">\n",
       "  <thead>\n",
       "    <tr style=\"text-align: right;\">\n",
       "      <th></th>\n",
       "      <th>filenames</th>\n",
       "      <th>label</th>\n",
       "    </tr>\n",
       "  </thead>\n",
       "  <tbody>\n",
       "    <tr>\n",
       "      <th>0</th>\n",
       "      <td>../input/chest-xray-pneumonia/chest_xray/test/...</td>\n",
       "      <td>0</td>\n",
       "    </tr>\n",
       "    <tr>\n",
       "      <th>1</th>\n",
       "      <td>../input/chest-xray-pneumonia/chest_xray/test/...</td>\n",
       "      <td>0</td>\n",
       "    </tr>\n",
       "    <tr>\n",
       "      <th>2</th>\n",
       "      <td>../input/chest-xray-pneumonia/chest_xray/test/...</td>\n",
       "      <td>0</td>\n",
       "    </tr>\n",
       "    <tr>\n",
       "      <th>3</th>\n",
       "      <td>../input/chest-xray-pneumonia/chest_xray/test/...</td>\n",
       "      <td>0</td>\n",
       "    </tr>\n",
       "    <tr>\n",
       "      <th>4</th>\n",
       "      <td>../input/chest-xray-pneumonia/chest_xray/test/...</td>\n",
       "      <td>0</td>\n",
       "    </tr>\n",
       "  </tbody>\n",
       "</table>\n",
       "</div>"
      ],
      "text/plain": [
       "                                           filenames  label\n",
       "0  ../input/chest-xray-pneumonia/chest_xray/test/...      0\n",
       "1  ../input/chest-xray-pneumonia/chest_xray/test/...      0\n",
       "2  ../input/chest-xray-pneumonia/chest_xray/test/...      0\n",
       "3  ../input/chest-xray-pneumonia/chest_xray/test/...      0\n",
       "4  ../input/chest-xray-pneumonia/chest_xray/test/...      0"
      ]
     },
     "execution_count": 4,
     "metadata": {},
     "output_type": "execute_result"
    }
   ],
   "source": [
    "test_filenames_1: list = [os.path.join(BASE_PATH + \"/test/NORMAL\", name) for name in os.listdir(BASE_PATH + \"/test/NORMAL\")]\n",
    "test_filenames_2: list = [os.path.join(BASE_PATH + \"/test/PNEUMONIA\", name) for name in os.listdir(BASE_PATH + \"/test/PNEUMONIA\")]\n",
    "\n",
    "\n",
    "test_filenames: list = test_filenames_1 + test_filenames_2\n",
    "test_labels = np.concatenate((\n",
    "        np.zeros((len(test_filenames_1), 1), dtype=np.uint8),\n",
    "        np.ones((len(test_filenames_2), 1), dtype=np.uint8),\n",
    "    ), axis=0\n",
    ")\n",
    "\n",
    "ts_data.filenames = test_filenames\n",
    "ts_data.label = test_labels\n",
    "\n",
    "ts_data.head(5)"
   ]
  },
  {
   "cell_type": "code",
   "execution_count": 5,
   "id": "44e8863e",
   "metadata": {
    "execution": {
     "iopub.execute_input": "2022-07-18T06:16:21.582400Z",
     "iopub.status.busy": "2022-07-18T06:16:21.582022Z",
     "iopub.status.idle": "2022-07-18T06:16:21.619857Z",
     "shell.execute_reply": "2022-07-18T06:16:21.618765Z"
    },
    "papermill": {
     "duration": 0.044314,
     "end_time": "2022-07-18T06:16:21.622453",
     "exception": false,
     "start_time": "2022-07-18T06:16:21.578139",
     "status": "completed"
    },
    "tags": []
   },
   "outputs": [],
   "source": [
    "tr_data.to_csv(\"train.csv\", index=False)\n",
    "ts_data.to_csv(\"test.csv\", index=False)"
   ]
  }
 ],
 "metadata": {
  "kernelspec": {
   "display_name": "Python 3",
   "language": "python",
   "name": "python3"
  },
  "language_info": {
   "codemirror_mode": {
    "name": "ipython",
    "version": 3
   },
   "file_extension": ".py",
   "mimetype": "text/x-python",
   "name": "python",
   "nbconvert_exporter": "python",
   "pygments_lexer": "ipython3",
   "version": "3.7.12"
  },
  "papermill": {
   "default_parameters": {},
   "duration": 11.266636,
   "end_time": "2022-07-18T06:16:22.246162",
   "environment_variables": {},
   "exception": null,
   "input_path": "__notebook__.ipynb",
   "output_path": "__notebook__.ipynb",
   "parameters": {},
   "start_time": "2022-07-18T06:16:10.979526",
   "version": "2.3.4"
  }
 },
 "nbformat": 4,
 "nbformat_minor": 5
}
