{
 "cells": [
  {
   "cell_type": "code",
   "execution_count": 1,
   "id": "fb02c514",
   "metadata": {
    "_cell_guid": "b1076dfc-b9ad-4769-8c92-a6c4dae69d19",
    "_uuid": "8f2839f25d086af736a60e9eeb907d3b93b6e0e5",
    "execution": {
     "iopub.execute_input": "2022-04-25T08:03:56.320606Z",
     "iopub.status.busy": "2022-04-25T08:03:56.319689Z",
     "iopub.status.idle": "2022-04-25T08:03:56.551595Z",
     "shell.execute_reply": "2022-04-25T08:03:56.550072Z"
    },
    "papermill": {
     "duration": 0.243328,
     "end_time": "2022-04-25T08:03:56.554504",
     "exception": false,
     "start_time": "2022-04-25T08:03:56.311176",
     "status": "completed"
    },
    "tags": []
   },
   "outputs": [],
   "source": [
    "import os\n",
    "import cv2\n",
    "import numpy as np"
   ]
  },
  {
   "cell_type": "code",
   "execution_count": 2,
   "id": "3fddf11d",
   "metadata": {
    "execution": {
     "iopub.execute_input": "2022-04-25T08:03:56.568613Z",
     "iopub.status.busy": "2022-04-25T08:03:56.568098Z",
     "iopub.status.idle": "2022-04-25T08:03:56.582491Z",
     "shell.execute_reply": "2022-04-25T08:03:56.581837Z"
    },
    "papermill": {
     "duration": 0.024072,
     "end_time": "2022-04-25T08:03:56.584747",
     "exception": false,
     "start_time": "2022-04-25T08:03:56.560675",
     "status": "completed"
    },
    "tags": []
   },
   "outputs": [],
   "source": [
    "def breaker(num: int = 50, char: str = \"*\") -> None:\n",
    "    print(\"\\n\" + num*char + \"\\n\")\n",
    "\n",
    "\n",
    "def preprocess(image: np.ndarray, size: int) -> np.ndarray:\n",
    "    return cv2.resize(src=cv2.cvtColor(src=image, code=cv2.COLOR_BGR2RGB), dsize=(size, size), interpolation=cv2.INTER_AREA)\n",
    "\n",
    "\n",
    "def get_images(path: str, names: np.ndarray, size: int) -> np.ndarray:\n",
    "    images = np.zeros((len(names), size, size, 3), dtype=np.uint8)\n",
    "    \n",
    "    i = 0\n",
    "    for name in names:\n",
    "        images[i] = preprocess(cv2.imread(os.path.join(path, name), cv2.IMREAD_COLOR), size)\n",
    "        i += 1\n",
    "    return images\n",
    "\n",
    "\n",
    "def save(train_images: np.ndarray, \n",
    "         test_images: np.ndarray, \n",
    "         train_targets: np.ndarray,\n",
    "         test_targets: np.ndarray, \n",
    "         size: int) -> None:\n",
    "    np.save(f\"train_images_{size}.npy\", train_images)\n",
    "    np.save(f\"test_images_{size}.npy\", test_images)\n",
    "    np.save(f\"train_targets_{size}.npy\", train_targets)\n",
    "    np.save(f\"test_targets_{size}.npy\", test_targets)\n",
    "\n",
    "    \n",
    "\n",
    "def get_statistics(images: np.ndarray, size: int) -> None:\n",
    "    print(f\"Mean {size}x{size}\\n\")\n",
    "    print(f\"Red Channel Mean   {size} : {images[:, :, :, 0].mean() / 255:.5f}\")\n",
    "    print(f\"Green Channel Mean {size} : {images[:, :, :, 1].mean() / 255:.5f}\")\n",
    "    print(f\"Blue Channel Mean  {size} : {images[:, :, :, 2].mean() / 255:.5f}\")\n",
    "    print(\"\")\n",
    "    print(f\"Standard Deviation {size}x{size}\\n\")\n",
    "    print(f\"Red Channel Std    {size} : {images[:, :, :, 0].std() / 255:.5f}\")\n",
    "    print(f\"Green Channel Std  {size} : {images[:, :, :, 1].std() / 255:.5f}\")\n",
    "    print(f\"Blue Channel Std   {size} : {images[:, :, :, 2].std() / 255:.5f}\")"
   ]
  },
  {
   "cell_type": "code",
   "execution_count": 3,
   "id": "af419bb0",
   "metadata": {
    "execution": {
     "iopub.execute_input": "2022-04-25T08:03:56.598361Z",
     "iopub.status.busy": "2022-04-25T08:03:56.597839Z",
     "iopub.status.idle": "2022-04-25T08:03:56.841787Z",
     "shell.execute_reply": "2022-04-25T08:03:56.841039Z"
    },
    "papermill": {
     "duration": 0.253588,
     "end_time": "2022-04-25T08:03:56.844183",
     "exception": false,
     "start_time": "2022-04-25T08:03:56.590595",
     "status": "completed"
    },
    "tags": []
   },
   "outputs": [],
   "source": [
    "sizes = [384]\n",
    "\n",
    "train_filenames_pneumonia = os.listdir(\"../input/chest-xray-pneumonia/chest_xray/train/PNEUMONIA\")\n",
    "train_filenames_normal    = os.listdir(\"../input/chest-xray-pneumonia/chest_xray/train/NORMAL\")\n",
    "\n",
    "valid_filenames_pneumonia = os.listdir(\"../input/chest-xray-pneumonia/chest_xray/val/PNEUMONIA\")\n",
    "valid_filenames_normal    = os.listdir(\"../input/chest-xray-pneumonia/chest_xray/val/NORMAL\")\n",
    "\n",
    "test_filenames_pneumonia = os.listdir(\"../input/chest-xray-pneumonia/chest_xray/test/PNEUMONIA\")\n",
    "test_filenames_normal    = os.listdir(\"../input/chest-xray-pneumonia/chest_xray/test/NORMAL\")"
   ]
  },
  {
   "cell_type": "code",
   "execution_count": 4,
   "id": "9e1532db",
   "metadata": {
    "execution": {
     "iopub.execute_input": "2022-04-25T08:03:56.860004Z",
     "iopub.status.busy": "2022-04-25T08:03:56.859545Z",
     "iopub.status.idle": "2022-04-25T08:07:19.538722Z",
     "shell.execute_reply": "2022-04-25T08:07:19.537483Z"
    },
    "papermill": {
     "duration": 202.690714,
     "end_time": "2022-04-25T08:07:19.542014",
     "exception": false,
     "start_time": "2022-04-25T08:03:56.851300",
     "status": "completed"
    },
    "tags": []
   },
   "outputs": [
    {
     "name": "stdout",
     "output_type": "stream",
     "text": [
      "\n",
      "**************************************************\n",
      "\n",
      "Mean 384x384\n",
      "\n",
      "Red Channel Mean   384 : 0.48232\n",
      "Green Channel Mean 384 : 0.48232\n",
      "Blue Channel Mean  384 : 0.48232\n",
      "\n",
      "Standard Deviation 384x384\n",
      "\n",
      "Red Channel Std    384 : 0.23703\n",
      "Green Channel Std  384 : 0.23703\n",
      "Blue Channel Std   384 : 0.23703\n",
      "\n",
      "**************************************************\n",
      "\n"
     ]
    }
   ],
   "source": [
    "breaker()\n",
    "for size in sizes:\n",
    "\n",
    "    train_pneumonia_images = get_images(\"../input/chest-xray-pneumonia/chest_xray/train/PNEUMONIA\", \n",
    "                                        train_filenames_pneumonia, size)\n",
    "    train_normal_images    = get_images(\"../input/chest-xray-pneumonia/chest_xray/train/NORMAL\", \n",
    "                                        train_filenames_normal, size)\n",
    "\n",
    "    valid_pneumonia_images = get_images(\"../input/chest-xray-pneumonia/chest_xray/val/PNEUMONIA\", \n",
    "                                        valid_filenames_pneumonia, size)\n",
    "    valid_normal_images    = get_images(\"../input/chest-xray-pneumonia/chest_xray/val/NORMAL\", \n",
    "                                        valid_filenames_normal, size)\n",
    "\n",
    "    test_pneumonia_images = get_images(\"../input/chest-xray-pneumonia/chest_xray/test/PNEUMONIA\", \n",
    "                                        test_filenames_pneumonia, size)\n",
    "    test_normal_images    = get_images(\"../input/chest-xray-pneumonia/chest_xray/test/NORMAL\", \n",
    "                                        test_filenames_normal, size)\n",
    "    \n",
    "    train_pneumonia_images = np.concatenate((train_pneumonia_images, valid_pneumonia_images), axis=0)\n",
    "    train_normal_images    = np.concatenate((train_normal_images, valid_normal_images), axis=0)\n",
    "    \n",
    "    train_images = np.concatenate((train_pneumonia_images, train_normal_images), axis=0)\n",
    "    test_images  = np.concatenate((test_pneumonia_images, test_normal_images), axis=0)\n",
    "    \n",
    "    train_targets = np.concatenate((np.ones(len(train_pneumonia_images, )), np.zeros(len(train_normal_images, ))), axis=0)\n",
    "    test_targets  = np.concatenate((np.ones(len(test_pneumonia_images, )), np.zeros(len(test_normal_images, ))), axis=0)\n",
    "\n",
    "    save(train_images, test_images, train_targets, test_targets, size)\n",
    "    get_statistics(train_images, size)\n",
    "    breaker()"
   ]
  }
 ],
 "metadata": {
  "kernelspec": {
   "display_name": "Python 3",
   "language": "python",
   "name": "python3"
  },
  "language_info": {
   "codemirror_mode": {
    "name": "ipython",
    "version": 3
   },
   "file_extension": ".py",
   "mimetype": "text/x-python",
   "name": "python",
   "nbconvert_exporter": "python",
   "pygments_lexer": "ipython3",
   "version": "3.7.12"
  },
  "papermill": {
   "default_parameters": {},
   "duration": 215.059515,
   "end_time": "2022-04-25T08:07:20.376079",
   "environment_variables": {},
   "exception": null,
   "input_path": "__notebook__.ipynb",
   "output_path": "__notebook__.ipynb",
   "parameters": {},
   "start_time": "2022-04-25T08:03:45.316564",
   "version": "2.3.4"
  }
 },
 "nbformat": 4,
 "nbformat_minor": 5
}
