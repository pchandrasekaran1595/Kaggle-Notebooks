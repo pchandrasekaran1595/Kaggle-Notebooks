{
 "cells": [
  {
   "cell_type": "markdown",
   "id": "e433dcab",
   "metadata": {
    "_cell_guid": "b1076dfc-b9ad-4769-8c92-a6c4dae69d19",
    "_uuid": "8f2839f25d086af736a60e9eeb907d3b93b6e0e5",
    "papermill": {
     "duration": 0.030259,
     "end_time": "2022-04-25T21:26:40.794621",
     "exception": false,
     "start_time": "2022-04-25T21:26:40.764362",
     "status": "completed"
    },
    "tags": []
   },
   "source": [
    "### Library Imports"
   ]
  },
  {
   "cell_type": "code",
   "execution_count": 1,
   "id": "02900d96",
   "metadata": {
    "execution": {
     "iopub.execute_input": "2022-04-25T21:26:40.837445Z",
     "iopub.status.busy": "2022-04-25T21:26:40.836572Z",
     "iopub.status.idle": "2022-04-25T21:26:43.405520Z",
     "shell.execute_reply": "2022-04-25T21:26:43.406053Z",
     "shell.execute_reply.started": "2022-04-09T01:18:45.162484Z"
    },
    "papermill": {
     "duration": 2.592744,
     "end_time": "2022-04-25T21:26:43.406470",
     "exception": false,
     "start_time": "2022-04-25T21:26:40.813726",
     "status": "completed"
    },
    "tags": []
   },
   "outputs": [],
   "source": [
    "import os\n",
    "import re\n",
    "import torch\n",
    "import numpy as np\n",
    "import pandas as pd\n",
    "import matplotlib.pyplot as plt\n",
    "\n",
    "from time import time\n",
    "from torch import nn, optim\n",
    "from torch.utils.data import Dataset\n",
    "from torch.utils.data import DataLoader as DL\n",
    "from torchvision import models, transforms\n",
    "\n",
    "from sklearn.model_selection import KFold\n",
    "from sklearn.preprocessing import LabelEncoder\n",
    "from sklearn.metrics import accuracy_score, \\\n",
    "                            precision_recall_fscore_support, \\\n",
    "                            roc_auc_score, \\\n",
    "                            classification_report, \\\n",
    "                            confusion_matrix"
   ]
  },
  {
   "cell_type": "markdown",
   "id": "5885fdfd",
   "metadata": {
    "papermill": {
     "duration": 0.014212,
     "end_time": "2022-04-25T21:26:43.435811",
     "exception": false,
     "start_time": "2022-04-25T21:26:43.421599",
     "status": "completed"
    },
    "tags": []
   },
   "source": [
    "### **Utilities**"
   ]
  },
  {
   "cell_type": "code",
   "execution_count": 2,
   "id": "2813d581",
   "metadata": {
    "execution": {
     "iopub.execute_input": "2022-04-25T21:26:43.479595Z",
     "iopub.status.busy": "2022-04-25T21:26:43.479044Z",
     "iopub.status.idle": "2022-04-25T21:26:43.482865Z",
     "shell.execute_reply": "2022-04-25T21:26:43.482409Z",
     "shell.execute_reply.started": "2022-04-09T01:18:47.512362Z"
    },
    "papermill": {
     "duration": 0.032813,
     "end_time": "2022-04-25T21:26:43.483002",
     "exception": false,
     "start_time": "2022-04-25T21:26:43.450189",
     "status": "completed"
    },
    "tags": []
   },
   "outputs": [],
   "source": [
    "SEED = 42\n",
    "SIZE = 384\n",
    "\n",
    "def breaker(num: int=50, char: str=\"*\") -> None:\n",
    "    print(\"\\n\" + num*char + \"\\n\")\n",
    "\n",
    "\n",
    "def show_graphs(L: list, A: list) -> None:\n",
    "    TL, VL, TA, VA = [], [], [], []\n",
    "    for i in range(len(L)):\n",
    "        TL.append(L[i][\"train\"])\n",
    "        VL.append(L[i][\"valid\"])\n",
    "        TA.append(A[i][\"train\"])\n",
    "        VA.append(A[i][\"valid\"])\n",
    "    x_Axis = np.arange(1, len(TL) + 1)\n",
    "    plt.figure(figsize=(8, 6))\n",
    "    plt.subplot(1, 2, 1)\n",
    "    plt.plot(x_Axis, TL, \"r\", label=\"Train\")\n",
    "    plt.plot(x_Axis, VL, \"b\", label=\"Valid\")\n",
    "    plt.legend()\n",
    "    plt.grid()\n",
    "    plt.title(\"Loss Graph\")\n",
    "    plt.subplot(1, 2, 2)\n",
    "    plt.plot(x_Axis, TA, \"r\", label=\"Train\")\n",
    "    plt.plot(x_Axis, VA, \"b\", label=\"Valid\")\n",
    "    plt.legend()\n",
    "    plt.grid()\n",
    "    plt.title(\"Accuracy Graph\")\n",
    "    plt.show()\n",
    "\n",
    "    \n",
    "def get_scores(y_true: np.ndarray, y_pred: np.ndarray) -> tuple:\n",
    "    accuracy = accuracy_score(y_pred, y_true)\n",
    "    try:\n",
    "        auc = roc_auc_score(y_pred, y_true)\n",
    "    except:\n",
    "        auc = 0\n",
    "    precision, recall, f_score, _ = precision_recall_fscore_support(y_pred, y_true)\n",
    "\n",
    "    return accuracy, auc, precision, recall, f_score\n",
    "\n",
    "\n",
    "def print_scores(accuracy: float, auc: float, precision: np.ndarray, recall: np.ndarray, f_score: np.ndarray) -> None:\n",
    "    print(f\"Accuracy  : {accuracy:.5f}\")\n",
    "    print(f\"ROC-AUC   : {auc:.5f}\")\n",
    "    print(f\"Precision : {precision}\")\n",
    "    print(f\"Recall    : {recall}\")\n",
    "    print(f\"F-Score   : {f_score}\")"
   ]
  },
  {
   "cell_type": "markdown",
   "id": "0ebaaffb",
   "metadata": {
    "papermill": {
     "duration": 0.014065,
     "end_time": "2022-04-25T21:26:43.511143",
     "exception": false,
     "start_time": "2022-04-25T21:26:43.497078",
     "status": "completed"
    },
    "tags": []
   },
   "source": [
    "### **Configuration**"
   ]
  },
  {
   "cell_type": "code",
   "execution_count": 3,
   "id": "2e987f41",
   "metadata": {
    "execution": {
     "iopub.execute_input": "2022-04-25T21:26:43.611215Z",
     "iopub.status.busy": "2022-04-25T21:26:43.610397Z",
     "iopub.status.idle": "2022-04-25T21:26:43.613248Z",
     "shell.execute_reply": "2022-04-25T21:26:43.612789Z",
     "shell.execute_reply.started": "2022-04-09T01:36:52.976989Z"
    },
    "papermill": {
     "duration": 0.088222,
     "end_time": "2022-04-25T21:26:43.613370",
     "exception": false,
     "start_time": "2022-04-25T21:26:43.525148",
     "status": "completed"
    },
    "tags": []
   },
   "outputs": [],
   "source": [
    "class CFG(object):\n",
    "    def __init__(self, \n",
    "                 seed: int = 42,\n",
    "                 n_splits: int = 5,\n",
    "                 batch_size: int = 16,\n",
    "                 epochs: int = 25,\n",
    "                 early_stopping: int = 5,\n",
    "                 lr: float = 1e-4,\n",
    "                 wd: float = 0.0,\n",
    "                 max_lr: float = 1e-3,\n",
    "                 pct_start: float = 0.2,\n",
    "                 steps_per_epoch: int = 100,\n",
    "                 div_factor: int = 1e3, \n",
    "                 final_div_factor: float = 1e3,\n",
    "                 ):\n",
    "        \n",
    "        self.seed = seed\n",
    "        self.n_splits = n_splits\n",
    "        self.batch_size = batch_size\n",
    "        self.epochs = epochs\n",
    "        self.early_stopping = early_stopping\n",
    "        self.lr = lr\n",
    "        self.wd = wd\n",
    "        self.max_lr = max_lr\n",
    "        self.pct_start = pct_start\n",
    "        self.steps_per_epoch = steps_per_epoch\n",
    "        self.div_factor = div_factor\n",
    "        self.final_div_factor = final_div_factor\n",
    "        self.device = torch.device(\"cuda\" if torch.cuda.is_available() else \"cpu\")\n",
    "        self.transform = transforms.Compose([transforms.ToTensor(),\n",
    "                                transforms.Normalize([0.48232, 0.48232, 0.48232],\n",
    "                                                     [0.23703, 0.23703, 0.23703]),\n",
    "                                ])\n",
    "        self.save_path = \"saves\"\n",
    "        if not os.path.exists(self.save_path): os.makedirs(self.save_path)\n",
    "    \n",
    "cfg = CFG(seed=SEED)"
   ]
  },
  {
   "cell_type": "markdown",
   "id": "fd86ca31",
   "metadata": {
    "papermill": {
     "duration": 0.014206,
     "end_time": "2022-04-25T21:26:43.642013",
     "exception": false,
     "start_time": "2022-04-25T21:26:43.627807",
     "status": "completed"
    },
    "tags": []
   },
   "source": [
    "### **Dataset Template**"
   ]
  },
  {
   "cell_type": "code",
   "execution_count": 4,
   "id": "2ba88696",
   "metadata": {
    "execution": {
     "iopub.execute_input": "2022-04-25T21:26:43.677580Z",
     "iopub.status.busy": "2022-04-25T21:26:43.676650Z",
     "iopub.status.idle": "2022-04-25T21:26:43.679045Z",
     "shell.execute_reply": "2022-04-25T21:26:43.679499Z",
     "shell.execute_reply.started": "2022-04-09T01:18:47.593512Z"
    },
    "papermill": {
     "duration": 0.023355,
     "end_time": "2022-04-25T21:26:43.679652",
     "exception": false,
     "start_time": "2022-04-25T21:26:43.656297",
     "status": "completed"
    },
    "tags": []
   },
   "outputs": [],
   "source": [
    "class DS(Dataset):\n",
    "    def __init__(self, images: np.ndarray, labels: np.ndarray = None, transform=None):\n",
    "        self.images = images\n",
    "        self.labels = labels\n",
    "        self.transform = transform\n",
    "    \n",
    "    def __len__(self):\n",
    "        return self.images.shape[0]\n",
    "    \n",
    "    def __getitem__(self, idx):\n",
    "        if self.labels is not None:\n",
    "            return self.transform(self.images[idx]), torch.FloatTensor(self.labels[idx])\n",
    "        else:\n",
    "            return self.transform(self.images[idx])"
   ]
  },
  {
   "cell_type": "markdown",
   "id": "929f0576",
   "metadata": {
    "papermill": {
     "duration": 0.013736,
     "end_time": "2022-04-25T21:26:43.707395",
     "exception": false,
     "start_time": "2022-04-25T21:26:43.693659",
     "status": "completed"
    },
    "tags": []
   },
   "source": [
    "### **Model**"
   ]
  },
  {
   "cell_type": "code",
   "execution_count": 5,
   "id": "85f56c9e",
   "metadata": {
    "execution": {
     "iopub.execute_input": "2022-04-25T21:26:43.742024Z",
     "iopub.status.busy": "2022-04-25T21:26:43.741091Z",
     "iopub.status.idle": "2022-04-25T21:26:43.743660Z",
     "shell.execute_reply": "2022-04-25T21:26:43.743267Z",
     "shell.execute_reply.started": "2022-04-09T01:18:47.606516Z"
    },
    "papermill": {
     "duration": 0.022141,
     "end_time": "2022-04-25T21:26:43.743828",
     "exception": false,
     "start_time": "2022-04-25T21:26:43.721687",
     "status": "completed"
    },
    "tags": []
   },
   "outputs": [],
   "source": [
    "class Model(nn.Module):\n",
    "    def __init__(self):\n",
    "        super(Model, self).__init__()\n",
    "\n",
    "        self.model = models.resnet50(pretrained=True, progress=True)\n",
    "        self.model.fc = nn.Linear(in_features=self.model.fc.in_features, out_features=1)\n",
    "\n",
    "    def forward(self, x):\n",
    "        return self.model(x)"
   ]
  },
  {
   "cell_type": "markdown",
   "id": "6b0bcec4",
   "metadata": {
    "papermill": {
     "duration": 0.013839,
     "end_time": "2022-04-25T21:26:43.772346",
     "exception": false,
     "start_time": "2022-04-25T21:26:43.758507",
     "status": "completed"
    },
    "tags": []
   },
   "source": [
    "### Fit and Predict Helper"
   ]
  },
  {
   "cell_type": "code",
   "execution_count": 6,
   "id": "cf27e865",
   "metadata": {
    "execution": {
     "iopub.execute_input": "2022-04-25T21:26:43.827020Z",
     "iopub.status.busy": "2022-04-25T21:26:43.826221Z",
     "iopub.status.idle": "2022-04-25T21:26:43.830440Z",
     "shell.execute_reply": "2022-04-25T21:26:43.829870Z",
     "shell.execute_reply.started": "2022-04-09T01:18:47.615986Z"
    },
    "papermill": {
     "duration": 0.04405,
     "end_time": "2022-04-25T21:26:43.830563",
     "exception": false,
     "start_time": "2022-04-25T21:26:43.786513",
     "status": "completed"
    },
    "tags": []
   },
   "outputs": [],
   "source": [
    "def fit(model=None, \n",
    "        optimizer=None, \n",
    "        scheduler=None, \n",
    "        epochs=None, \n",
    "        early_stopping_patience=None, \n",
    "        dataloaders=None, \n",
    "        fold=None, \n",
    "        save_path=None, \n",
    "        device=None,\n",
    "        verbose=False) -> tuple:\n",
    "    \n",
    "    def get_accuracy(y_pred, y_true):\n",
    "        y_pred = torch.sigmoid(y_pred)\n",
    "        \n",
    "        y_pred[y_pred > 0.5] = 1\n",
    "        y_pred[y_pred <= 0.5] = 0\n",
    "        \n",
    "        return torch.count_nonzero(y_pred == y_true).item() / len(y_pred)\n",
    "    \n",
    "    if verbose:\n",
    "        breaker()\n",
    "        if fold: print(f\"Training Fold {fold}...\")\n",
    "        else: print(\"Training ...\")\n",
    "        breaker()\n",
    "        \n",
    "    bestLoss, bestAccs = {\"train\" : np.inf, \"valid\" : np.inf}, {\"train\" : 0.0, \"valid\" : 0.0}\n",
    "    Losses, LRs, Accuracies = [], [], []\n",
    "    if fold: name = f\"state_fold_{fold}.pt\"\n",
    "    else: name = \"state.pt\"\n",
    "\n",
    "    start_time = time()\n",
    "    for e in range(epochs):\n",
    "        e_st = time()\n",
    "        epochLoss, epochAccs = {\"train\" : 0.0, \"valid\" : 0.0}, {\"train\" : 0.0, \"valid\" : 0.0}\n",
    "\n",
    "        for phase in [\"train\", \"valid\"]:\n",
    "            if phase == \"train\":\n",
    "                model.train()\n",
    "            else:\n",
    "                model.eval()\n",
    "            \n",
    "            lossPerPass, accsPerPass = [], []\n",
    "\n",
    "            for X, y in dataloaders[phase]:\n",
    "                X, y = X.to(device), y.to(device)\n",
    "\n",
    "                optimizer.zero_grad()\n",
    "                with torch.set_grad_enabled(phase == \"train\"):\n",
    "                    output = model(X)\n",
    "                    loss = torch.nn.BCEWithLogitsLoss()(output, y)\n",
    "                    if phase == \"train\":\n",
    "                        loss.backward()\n",
    "                        optimizer.step()\n",
    "                        if scheduler: scheduler.step()\n",
    "                lossPerPass.append(loss.item())\n",
    "                accsPerPass.append(get_accuracy(output, y))\n",
    "            epochLoss[phase] = np.mean(np.array(lossPerPass))\n",
    "            epochAccs[phase] = np.mean(np.array(accsPerPass))\n",
    "        LRs.append(scheduler.get_last_lr())\n",
    "        Losses.append(epochLoss)\n",
    "        Accuracies.append(epochAccs)\n",
    "        \n",
    "        if early_stopping_patience:\n",
    "            if epochLoss[\"valid\"] < bestLoss[\"valid\"]:\n",
    "                bestLoss = epochLoss\n",
    "                BLE = e + 1\n",
    "                torch.save({\"model_state_dict\"     : model.state_dict(),\n",
    "                            \"optim_state_dict\"     : optimizer.state_dict()},\n",
    "                           os.path.join(save_path, name))\n",
    "                early_stopping_step = 0\n",
    "            else:\n",
    "                early_stopping_step += 1\n",
    "                if early_stopping_step > early_stopping_patience:\n",
    "                    print(\"\\nEarly Stopping at Epoch {}\".format(e + 1))\n",
    "                    break\n",
    "        \n",
    "        if epochLoss[\"valid\"] < bestLoss[\"valid\"]:\n",
    "            bestLoss = epochLoss\n",
    "            BLE = e + 1\n",
    "            torch.save({\"model_state_dict\"     : model.state_dict(),\n",
    "                        \"optim_state_dict\"     : optimizer.state_dict()},\n",
    "                        os.path.join(save_path, name))\n",
    "        \n",
    "        if epochAccs[\"valid\"] > bestAccs[\"valid\"]:\n",
    "            bestAccs = epochAccs\n",
    "            BAE = e + 1\n",
    "        \n",
    "        # if scheduler: scheduler.step(epochLoss[\"valid\"])\n",
    "        \n",
    "        if verbose:\n",
    "            print(\"Epoch: {} | Train Loss: {:.5f} | Valid Loss: {:.5f} | Train Accs: {:.5f} | Valid Accs: {:.5f} | Time: {:.2f} seconds\".format(e+1, \n",
    "                                                                       epochLoss[\"train\"], epochLoss[\"valid\"], \n",
    "                                                                       epochAccs[\"train\"], epochAccs[\"valid\"], \n",
    "                                                                       time()-e_st))\n",
    "\n",
    "    if verbose:                                           \n",
    "        breaker()\n",
    "        print(f\"Best Validation Loss at Epoch {BLE}\")\n",
    "        breaker()\n",
    "        print(f\"Best Validation Accs at Epoch {BAE}\")\n",
    "        breaker()\n",
    "        print(\"Time Taken [{} Epochs] : {:.2f} minutes\".format(len(Losses), (time()-start_time)/60))\n",
    "    \n",
    "    return Losses, Accuracies, LRs, BLE, BAE, name\n",
    "\n",
    "\n",
    "def predict(model=None, dataloader=None, path=None, device=None) -> np.ndarray:\n",
    "    model.load_state_dict(torch.load(path, map_location=device)[\"model_state_dict\"])\n",
    "    model.to(device)    \n",
    "    model.eval()\n",
    "    \n",
    "    y_pred = torch.zeros(1, 1).to(device)\n",
    "    \n",
    "    for X in dataloader:\n",
    "        X = X.to(device)\n",
    "        with torch.no_grad():\n",
    "            output = torch.sigmoid(model(X))\n",
    "        y_pred = torch.cat((y_pred, output.view(-1, 1)), dim=0)\n",
    "    \n",
    "    y_pred[y_pred > 0.5] = 1\n",
    "    y_pred[y_pred <= 0.5] = 0\n",
    "    \n",
    "    return y_pred[1:].detach().cpu().numpy()"
   ]
  },
  {
   "cell_type": "markdown",
   "id": "320d22e9",
   "metadata": {
    "papermill": {
     "duration": 0.01385,
     "end_time": "2022-04-25T21:26:43.858601",
     "exception": false,
     "start_time": "2022-04-25T21:26:43.844751",
     "status": "completed"
    },
    "tags": []
   },
   "source": [
    "### **Train**"
   ]
  },
  {
   "cell_type": "code",
   "execution_count": 7,
   "id": "452da219",
   "metadata": {
    "execution": {
     "iopub.execute_input": "2022-04-25T21:26:43.890604Z",
     "iopub.status.busy": "2022-04-25T21:26:43.889998Z",
     "iopub.status.idle": "2022-04-25T21:26:59.777265Z",
     "shell.execute_reply": "2022-04-25T21:26:59.776719Z",
     "shell.execute_reply.started": "2022-04-09T01:18:47.643848Z"
    },
    "papermill": {
     "duration": 15.904667,
     "end_time": "2022-04-25T21:26:59.777400",
     "exception": false,
     "start_time": "2022-04-25T21:26:43.872733",
     "status": "completed"
    },
    "tags": []
   },
   "outputs": [],
   "source": [
    "images = np.load(f\"../input/cxr-images-384/train_images_{SIZE}.npy\")\n",
    "labels = np.load(f\"../input/cxr-images-384/train_targets_{SIZE}.npy\")"
   ]
  },
  {
   "cell_type": "code",
   "execution_count": 8,
   "id": "073255b5",
   "metadata": {
    "execution": {
     "iopub.execute_input": "2022-04-25T21:26:59.818463Z",
     "iopub.status.busy": "2022-04-25T21:26:59.817578Z",
     "iopub.status.idle": "2022-04-25T23:27:40.257665Z",
     "shell.execute_reply": "2022-04-25T23:27:40.258110Z",
     "shell.execute_reply.started": "2022-04-09T01:36:59.635267Z"
    },
    "papermill": {
     "duration": 7240.465813,
     "end_time": "2022-04-25T23:27:40.258278",
     "exception": false,
     "start_time": "2022-04-25T21:26:59.792465",
     "status": "completed"
    },
    "tags": []
   },
   "outputs": [
    {
     "name": "stderr",
     "output_type": "stream",
     "text": [
      "Downloading: \"https://download.pytorch.org/models/resnet50-0676ba61.pth\" to /root/.cache/torch/hub/checkpoints/resnet50-0676ba61.pth\n"
     ]
    },
    {
     "data": {
      "application/vnd.jupyter.widget-view+json": {
       "model_id": "19c7fc45bea14b8e8e47ee6c057a2ad9",
       "version_major": 2,
       "version_minor": 0
      },
      "text/plain": [
       "  0%|          | 0.00/97.8M [00:00<?, ?B/s]"
      ]
     },
     "metadata": {},
     "output_type": "display_data"
    },
    {
     "name": "stdout",
     "output_type": "stream",
     "text": [
      "\n",
      "**************************************************\n",
      "\n",
      "Training Fold 1...\n",
      "\n",
      "**************************************************\n",
      "\n",
      "Epoch: 1 | Train Loss: 0.25795 | Valid Loss: 0.13473 | Train Accs: 0.91054 | Valid Accs: 0.94075 | Time: 85.58 seconds\n",
      "Epoch: 2 | Train Loss: 0.10502 | Valid Loss: 0.66101 | Train Accs: 0.95730 | Valid Accs: 0.85011 | Time: 80.32 seconds\n",
      "Epoch: 3 | Train Loss: 0.11618 | Valid Loss: 0.11892 | Train Accs: 0.95515 | Valid Accs: 0.95306 | Time: 81.01 seconds\n",
      "Epoch: 4 | Train Loss: 0.11848 | Valid Loss: 0.09470 | Train Accs: 0.95515 | Valid Accs: 0.96659 | Time: 80.71 seconds\n",
      "Epoch: 5 | Train Loss: 0.07989 | Valid Loss: 0.03895 | Train Accs: 0.97047 | Valid Accs: 0.98552 | Time: 80.98 seconds\n",
      "Epoch: 6 | Train Loss: 0.07835 | Valid Loss: 0.11261 | Train Accs: 0.97161 | Valid Accs: 0.95739 | Time: 79.98 seconds\n",
      "Epoch: 7 | Train Loss: 0.05433 | Valid Loss: 0.05851 | Train Accs: 0.97948 | Valid Accs: 0.98174 | Time: 78.57 seconds\n",
      "Epoch: 8 | Train Loss: 0.03635 | Valid Loss: 0.10461 | Train Accs: 0.98664 | Valid Accs: 0.96875 | Time: 79.83 seconds\n",
      "Epoch: 9 | Train Loss: 0.03269 | Valid Loss: 0.05773 | Train Accs: 0.98855 | Valid Accs: 0.98106 | Time: 79.73 seconds\n",
      "Epoch: 10 | Train Loss: 0.04747 | Valid Loss: 0.04347 | Train Accs: 0.98235 | Valid Accs: 0.98580 | Time: 78.89 seconds\n",
      "\n",
      "Early Stopping at Epoch 11\n",
      "\n",
      "**************************************************\n",
      "\n",
      "Best Validation Loss at Epoch 5\n",
      "\n",
      "**************************************************\n",
      "\n",
      "Best Validation Accs at Epoch 10\n",
      "\n",
      "**************************************************\n",
      "\n",
      "Time Taken [11 Epochs] : 14.74 minutes\n",
      "\n",
      "**************************************************\n",
      "\n"
     ]
    },
    {
     "data": {
      "image/png": "[encoded data removed]",
      "text/plain": [
       "<Figure size 576x432 with 2 Axes>"
      ]
     },
     "metadata": {
      "needs_background": "light"
     },
     "output_type": "display_data"
    },
    {
     "name": "stdout",
     "output_type": "stream",
     "text": [
      "\n",
      "**************************************************\n",
      "\n",
      "Training Fold 2...\n",
      "\n",
      "**************************************************\n",
      "\n",
      "Epoch: 1 | Train Loss: 0.26145 | Valid Loss: 0.06285 | Train Accs: 0.91269 | Valid Accs: 0.98079 | Time: 80.25 seconds\n",
      "Epoch: 2 | Train Loss: 0.09970 | Valid Loss: 0.08413 | Train Accs: 0.95921 | Valid Accs: 0.97010 | Time: 79.37 seconds\n",
      "Epoch: 3 | Train Loss: 0.14270 | Valid Loss: 0.16195 | Train Accs: 0.94328 | Valid Accs: 0.92817 | Time: 79.07 seconds\n",
      "Epoch: 4 | Train Loss: 0.11232 | Valid Loss: 0.06899 | Train Accs: 0.95825 | Valid Accs: 0.97159 | Time: 79.16 seconds\n",
      "Epoch: 5 | Train Loss: 0.07995 | Valid Loss: 0.10044 | Train Accs: 0.96970 | Valid Accs: 0.96212 | Time: 79.10 seconds\n",
      "Epoch: 6 | Train Loss: 0.08817 | Valid Loss: 0.04690 | Train Accs: 0.96522 | Valid Accs: 0.97917 | Time: 79.90 seconds\n",
      "Epoch: 7 | Train Loss: 0.05961 | Valid Loss: 0.05738 | Train Accs: 0.97858 | Valid Accs: 0.97917 | Time: 79.04 seconds\n",
      "Epoch: 8 | Train Loss: 0.04544 | Valid Loss: 0.03331 | Train Accs: 0.98282 | Valid Accs: 0.98485 | Time: 79.65 seconds\n",
      "Epoch: 9 | Train Loss: 0.04319 | Valid Loss: 0.05130 | Train Accs: 0.98282 | Valid Accs: 0.97890 | Time: 78.99 seconds\n",
      "Epoch: 10 | Train Loss: 0.04488 | Valid Loss: 0.03413 | Train Accs: 0.98235 | Valid Accs: 0.98837 | Time: 78.99 seconds\n",
      "Epoch: 11 | Train Loss: 0.03869 | Valid Loss: 0.02991 | Train Accs: 0.98497 | Valid Accs: 0.99053 | Time: 79.67 seconds\n",
      "Epoch: 12 | Train Loss: 0.02087 | Valid Loss: 0.04708 | Train Accs: 0.99284 | Valid Accs: 0.98011 | Time: 79.00 seconds\n",
      "Epoch: 13 | Train Loss: 0.03199 | Valid Loss: 0.02837 | Train Accs: 0.98736 | Valid Accs: 0.98958 | Time: 79.69 seconds\n",
      "Epoch: 14 | Train Loss: 0.01321 | Valid Loss: 0.02441 | Train Accs: 0.99499 | Valid Accs: 0.99242 | Time: 79.57 seconds\n",
      "Epoch: 15 | Train Loss: 0.00827 | Valid Loss: 0.02354 | Train Accs: 0.99690 | Valid Accs: 0.99337 | Time: 80.04 seconds\n",
      "Epoch: 16 | Train Loss: 0.00741 | Valid Loss: 0.04109 | Train Accs: 0.99714 | Valid Accs: 0.98864 | Time: 79.01 seconds\n",
      "Epoch: 17 | Train Loss: 0.00351 | Valid Loss: 0.02410 | Train Accs: 0.99928 | Valid Accs: 0.99148 | Time: 79.06 seconds\n",
      "Epoch: 18 | Train Loss: 0.00298 | Valid Loss: 0.02718 | Train Accs: 0.99905 | Valid Accs: 0.99053 | Time: 79.17 seconds\n",
      "Epoch: 19 | Train Loss: 0.00227 | Valid Loss: 0.02544 | Train Accs: 0.99952 | Valid Accs: 0.99053 | Time: 79.00 seconds\n",
      "Epoch: 20 | Train Loss: 0.00176 | Valid Loss: 0.02532 | Train Accs: 1.00000 | Valid Accs: 0.99053 | Time: 79.10 seconds\n",
      "\n",
      "**************************************************\n",
      "\n",
      "Best Validation Loss at Epoch 15\n",
      "\n",
      "**************************************************\n",
      "\n",
      "Best Validation Accs at Epoch 15\n",
      "\n",
      "**************************************************\n",
      "\n",
      "Time Taken [20 Epochs] : 26.45 minutes\n",
      "\n",
      "**************************************************\n",
      "\n"
     ]
    },
    {
     "data": {
      "image/png": "[encoded data removed]",
      "text/plain": [
       "<Figure size 576x432 with 2 Axes>"
      ]
     },
     "metadata": {
      "needs_background": "light"
     },
     "output_type": "display_data"
    },
    {
     "name": "stdout",
     "output_type": "stream",
     "text": [
      "\n",
      "**************************************************\n",
      "\n",
      "Training Fold 3...\n",
      "\n",
      "**************************************************\n",
      "\n",
      "Epoch: 1 | Train Loss: 0.26242 | Valid Loss: 0.11077 | Train Accs: 0.91269 | Valid Accs: 0.95896 | Time: 79.27 seconds\n",
      "Epoch: 2 | Train Loss: 0.11241 | Valid Loss: 0.30654 | Train Accs: 0.95964 | Valid Accs: 0.87027 | Time: 78.88 seconds\n",
      "Epoch: 3 | Train Loss: 0.10995 | Valid Loss: 0.06430 | Train Accs: 0.95873 | Valid Accs: 0.97096 | Time: 79.60 seconds\n",
      "Epoch: 4 | Train Loss: 0.08747 | Valid Loss: 0.13786 | Train Accs: 0.96589 | Valid Accs: 0.95644 | Time: 78.87 seconds\n",
      "Epoch: 5 | Train Loss: 0.06439 | Valid Loss: 0.07320 | Train Accs: 0.97519 | Valid Accs: 0.97822 | Time: 78.87 seconds\n",
      "Epoch: 6 | Train Loss: 0.07900 | Valid Loss: 0.09851 | Train Accs: 0.97257 | Valid Accs: 0.96875 | Time: 78.82 seconds\n",
      "Epoch: 7 | Train Loss: 0.05481 | Valid Loss: 0.03974 | Train Accs: 0.97934 | Valid Accs: 0.98674 | Time: 79.53 seconds\n",
      "Epoch: 8 | Train Loss: 0.04480 | Valid Loss: 0.06316 | Train Accs: 0.98402 | Valid Accs: 0.97917 | Time: 78.75 seconds\n",
      "Epoch: 9 | Train Loss: 0.03929 | Valid Loss: 0.06217 | Train Accs: 0.98593 | Valid Accs: 0.97633 | Time: 78.78 seconds\n",
      "Epoch: 10 | Train Loss: 0.04550 | Valid Loss: 0.05334 | Train Accs: 0.98125 | Valid Accs: 0.97822 | Time: 78.86 seconds\n",
      "Epoch: 11 | Train Loss: 0.01860 | Valid Loss: 0.03057 | Train Accs: 0.99404 | Valid Accs: 0.98769 | Time: 79.49 seconds\n",
      "Epoch: 12 | Train Loss: 0.03074 | Valid Loss: 0.04359 | Train Accs: 0.98731 | Valid Accs: 0.98769 | Time: 78.84 seconds\n",
      "Epoch: 13 | Train Loss: 0.01538 | Valid Loss: 0.03066 | Train Accs: 0.99594 | Valid Accs: 0.98769 | Time: 78.75 seconds\n",
      "Epoch: 14 | Train Loss: 0.00927 | Valid Loss: 0.02120 | Train Accs: 0.99738 | Valid Accs: 0.99148 | Time: 79.54 seconds\n",
      "Epoch: 15 | Train Loss: 0.00300 | Valid Loss: 0.02352 | Train Accs: 0.99952 | Valid Accs: 0.98864 | Time: 78.87 seconds\n",
      "Epoch: 16 | Train Loss: 0.00334 | Valid Loss: 0.02339 | Train Accs: 0.99905 | Valid Accs: 0.99053 | Time: 78.78 seconds\n",
      "Epoch: 17 | Train Loss: 0.00166 | Valid Loss: 0.02114 | Train Accs: 0.99976 | Valid Accs: 0.99148 | Time: 79.71 seconds\n",
      "Epoch: 18 | Train Loss: 0.00435 | Valid Loss: 0.02891 | Train Accs: 0.99857 | Valid Accs: 0.98958 | Time: 79.35 seconds\n",
      "Epoch: 19 | Train Loss: 0.00163 | Valid Loss: 0.02600 | Train Accs: 0.99976 | Valid Accs: 0.98958 | Time: 79.03 seconds\n",
      "Epoch: 20 | Train Loss: 0.00112 | Valid Loss: 0.02486 | Train Accs: 1.00000 | Valid Accs: 0.99148 | Time: 78.84 seconds\n",
      "\n",
      "**************************************************\n",
      "\n",
      "Best Validation Loss at Epoch 17\n",
      "\n",
      "**************************************************\n",
      "\n",
      "Best Validation Accs at Epoch 14\n",
      "\n",
      "**************************************************\n",
      "\n",
      "Time Taken [20 Epochs] : 26.36 minutes\n",
      "\n",
      "**************************************************\n",
      "\n"
     ]
    },
    {
     "data": {
      "image/png": "[encoded data removed]",
      "text/plain": [
       "<Figure size 576x432 with 2 Axes>"
      ]
     },
     "metadata": {
      "needs_background": "light"
     },
     "output_type": "display_data"
    },
    {
     "name": "stdout",
     "output_type": "stream",
     "text": [
      "\n",
      "**************************************************\n",
      "\n",
      "Training Fold 4...\n",
      "\n",
      "**************************************************\n",
      "\n",
      "Epoch: 1 | Train Loss: 0.26457 | Valid Loss: 0.14504 | Train Accs: 0.90887 | Valid Accs: 0.94981 | Time: 79.30 seconds\n",
      "Epoch: 2 | Train Loss: 0.10107 | Valid Loss: 0.17377 | Train Accs: 0.96613 | Valid Accs: 0.95107 | Time: 78.76 seconds\n",
      "Epoch: 3 | Train Loss: 0.09598 | Valid Loss: 0.21791 | Train Accs: 0.96374 | Valid Accs: 0.91288 | Time: 78.80 seconds\n",
      "Epoch: 4 | Train Loss: 0.09991 | Valid Loss: 0.11619 | Train Accs: 0.96589 | Valid Accs: 0.95833 | Time: 79.53 seconds\n",
      "Epoch: 5 | Train Loss: 0.07021 | Valid Loss: 0.04273 | Train Accs: 0.97242 | Valid Accs: 0.98485 | Time: 79.44 seconds\n",
      "Epoch: 6 | Train Loss: 0.06357 | Valid Loss: 0.14029 | Train Accs: 0.97638 | Valid Accs: 0.94508 | Time: 78.93 seconds\n",
      "Epoch: 7 | Train Loss: 0.07338 | Valid Loss: 0.06379 | Train Accs: 0.97290 | Valid Accs: 0.97538 | Time: 78.82 seconds\n",
      "Epoch: 8 | Train Loss: 0.05184 | Valid Loss: 0.45635 | Train Accs: 0.98235 | Valid Accs: 0.87532 | Time: 78.75 seconds\n",
      "Epoch: 9 | Train Loss: 0.04741 | Valid Loss: 0.07353 | Train Accs: 0.98163 | Valid Accs: 0.97348 | Time: 78.88 seconds\n",
      "Epoch: 10 | Train Loss: 0.06126 | Valid Loss: 0.02924 | Train Accs: 0.97734 | Valid Accs: 0.99148 | Time: 79.43 seconds\n",
      "Epoch: 11 | Train Loss: 0.02830 | Valid Loss: 0.04967 | Train Accs: 0.98974 | Valid Accs: 0.97759 | Time: 78.99 seconds\n",
      "Epoch: 12 | Train Loss: 0.02593 | Valid Loss: 0.02649 | Train Accs: 0.99031 | Valid Accs: 0.99053 | Time: 79.42 seconds\n",
      "Epoch: 13 | Train Loss: 0.01709 | Valid Loss: 0.03560 | Train Accs: 0.99475 | Valid Accs: 0.98516 | Time: 78.82 seconds\n",
      "Epoch: 14 | Train Loss: 0.00731 | Valid Loss: 0.01808 | Train Accs: 0.99881 | Valid Accs: 0.99432 | Time: 79.41 seconds\n",
      "Epoch: 15 | Train Loss: 0.00427 | Valid Loss: 0.02359 | Train Accs: 0.99928 | Valid Accs: 0.98958 | Time: 78.79 seconds\n",
      "Epoch: 16 | Train Loss: 0.00461 | Valid Loss: 0.01632 | Train Accs: 0.99905 | Valid Accs: 0.99432 | Time: 79.60 seconds\n",
      "Epoch: 17 | Train Loss: 0.00125 | Valid Loss: 0.01437 | Train Accs: 1.00000 | Valid Accs: 0.99337 | Time: 79.40 seconds\n",
      "Epoch: 18 | Train Loss: 0.00281 | Valid Loss: 0.02341 | Train Accs: 0.99928 | Valid Accs: 0.99053 | Time: 78.94 seconds\n",
      "Epoch: 19 | Train Loss: 0.00107 | Valid Loss: 0.01858 | Train Accs: 1.00000 | Valid Accs: 0.99432 | Time: 79.10 seconds\n",
      "Epoch: 20 | Train Loss: 0.00139 | Valid Loss: 0.01640 | Train Accs: 0.99976 | Valid Accs: 0.99432 | Time: 79.25 seconds\n",
      "\n",
      "**************************************************\n",
      "\n",
      "Best Validation Loss at Epoch 17\n",
      "\n",
      "**************************************************\n",
      "\n",
      "Best Validation Accs at Epoch 14\n",
      "\n",
      "**************************************************\n",
      "\n",
      "Time Taken [20 Epochs] : 26.37 minutes\n",
      "\n",
      "**************************************************\n",
      "\n"
     ]
    },
    {
     "data": {
      "image/png": "[encoded data removed]",
      "text/plain": [
       "<Figure size 576x432 with 2 Axes>"
      ]
     },
     "metadata": {
      "needs_background": "light"
     },
     "output_type": "display_data"
    },
    {
     "name": "stdout",
     "output_type": "stream",
     "text": [
      "\n",
      "**************************************************\n",
      "\n",
      "Training Fold 5...\n",
      "\n",
      "**************************************************\n",
      "\n",
      "Epoch: 1 | Train Loss: 0.26470 | Valid Loss: 0.10857 | Train Accs: 0.90887 | Valid Accs: 0.96780 | Time: 79.26 seconds\n",
      "Epoch: 2 | Train Loss: 0.11798 | Valid Loss: 0.06167 | Train Accs: 0.95429 | Valid Accs: 0.97854 | Time: 79.74 seconds\n",
      "Epoch: 3 | Train Loss: 0.10283 | Valid Loss: 0.11968 | Train Accs: 0.95992 | Valid Accs: 0.95455 | Time: 78.88 seconds\n",
      "Epoch: 4 | Train Loss: 0.10328 | Valid Loss: 0.13841 | Train Accs: 0.95658 | Valid Accs: 0.95549 | Time: 79.03 seconds\n",
      "Epoch: 5 | Train Loss: 0.07941 | Valid Loss: 0.09394 | Train Accs: 0.96861 | Valid Accs: 0.96338 | Time: 78.95 seconds\n",
      "Epoch: 6 | Train Loss: 0.07964 | Valid Loss: 0.04549 | Train Accs: 0.96756 | Valid Accs: 0.98201 | Time: 79.62 seconds\n",
      "Epoch: 7 | Train Loss: 0.06047 | Valid Loss: 0.24107 | Train Accs: 0.97758 | Valid Accs: 0.92898 | Time: 79.21 seconds\n",
      "Epoch: 8 | Train Loss: 0.05585 | Valid Loss: 0.15468 | Train Accs: 0.97996 | Valid Accs: 0.94602 | Time: 78.92 seconds\n",
      "Epoch: 9 | Train Loss: 0.04750 | Valid Loss: 0.04532 | Train Accs: 0.98220 | Valid Accs: 0.98611 | Time: 79.71 seconds\n",
      "Epoch: 10 | Train Loss: 0.04354 | Valid Loss: 0.05689 | Train Accs: 0.98306 | Valid Accs: 0.98295 | Time: 78.98 seconds\n",
      "Epoch: 11 | Train Loss: 0.02592 | Valid Loss: 0.08925 | Train Accs: 0.99046 | Valid Accs: 0.97096 | Time: 79.02 seconds\n",
      "Epoch: 12 | Train Loss: 0.03053 | Valid Loss: 0.05800 | Train Accs: 0.98879 | Valid Accs: 0.98295 | Time: 78.95 seconds\n",
      "Epoch: 13 | Train Loss: 0.01789 | Valid Loss: 0.03904 | Train Accs: 0.99404 | Valid Accs: 0.98295 | Time: 79.62 seconds\n",
      "Epoch: 14 | Train Loss: 0.00986 | Valid Loss: 0.03693 | Train Accs: 0.99738 | Valid Accs: 0.98958 | Time: 79.81 seconds\n",
      "Epoch: 15 | Train Loss: 0.00564 | Valid Loss: 0.03048 | Train Accs: 0.99857 | Valid Accs: 0.98864 | Time: 79.69 seconds\n",
      "Epoch: 16 | Train Loss: 0.00361 | Valid Loss: 0.02854 | Train Accs: 0.99881 | Valid Accs: 0.99053 | Time: 79.84 seconds\n",
      "Epoch: 17 | Train Loss: 0.00198 | Valid Loss: 0.03175 | Train Accs: 0.99976 | Valid Accs: 0.98958 | Time: 79.06 seconds\n",
      "Epoch: 18 | Train Loss: 0.00545 | Valid Loss: 0.03694 | Train Accs: 0.99857 | Valid Accs: 0.98958 | Time: 79.15 seconds\n",
      "Epoch: 19 | Train Loss: 0.00128 | Valid Loss: 0.02955 | Train Accs: 1.00000 | Valid Accs: 0.99242 | Time: 79.04 seconds\n",
      "Epoch: 20 | Train Loss: 0.00105 | Valid Loss: 0.03035 | Train Accs: 0.99976 | Valid Accs: 0.99242 | Time: 79.01 seconds\n",
      "\n",
      "**************************************************\n",
      "\n",
      "Best Validation Loss at Epoch 16\n",
      "\n",
      "**************************************************\n",
      "\n",
      "Best Validation Accs at Epoch 19\n",
      "\n",
      "**************************************************\n",
      "\n",
      "Time Taken [20 Epochs] : 26.43 minutes\n",
      "\n",
      "**************************************************\n",
      "\n"
     ]
    },
    {
     "data": {
      "image/png": "[encoded data removed]",
      "text/plain": [
       "<Figure size 576x432 with 2 Axes>"
      ]
     },
     "metadata": {
      "needs_background": "light"
     },
     "output_type": "display_data"
    }
   ],
   "source": [
    "fold = 1\n",
    "BLEs, BAEs = [], []\n",
    "\n",
    "for tr_idx, va_idx in KFold(n_splits=cfg.n_splits, random_state=SEED, shuffle=True).split(images):\n",
    "    tr_images, va_images, tr_labels, va_labels = images[tr_idx], images[va_idx], labels[tr_idx], labels[va_idx]\n",
    "\n",
    "    tr_data_setup = DS(tr_images, tr_labels.reshape(-1, 1), cfg.transform)\n",
    "    va_data_setup = DS(va_images, va_labels.reshape(-1, 1), cfg.transform)\n",
    "\n",
    "    dataloaders = {\n",
    "        \"train\" : DL(tr_data_setup, batch_size=cfg.batch_size, shuffle=True, generator=torch.manual_seed(cfg.seed)),\n",
    "        \"valid\" : DL(va_data_setup, batch_size=cfg.batch_size, shuffle=False),\n",
    "    }\n",
    "\n",
    "    cfg = CFG(epochs=20, lr=1e-3, wd=0.0, batch_size=16, steps_per_epoch=len(dataloaders[\"train\"]))\n",
    "\n",
    "    torch.manual_seed(cfg.seed)\n",
    "    model = Model().to(cfg.device)\n",
    "    optimizer = optim.Adam([p for p in model.parameters() if p.requires_grad], lr=cfg.lr, weight_decay=cfg.wd)\n",
    "    scheduler = optim.lr_scheduler.OneCycleLR(optimizer=optimizer, \n",
    "                                              max_lr=cfg.max_lr, \n",
    "                                              epochs=cfg.epochs, \n",
    "                                              steps_per_epoch=cfg.steps_per_epoch,\n",
    "                                              pct_start=cfg.pct_start, \n",
    "                                              div_factor=cfg.div_factor, \n",
    "                                              final_div_factor=cfg.final_div_factor)\n",
    "    # scheduler = None\n",
    "\n",
    "    L, A, LRs, BLE, BAE, name = fit(model=model, \n",
    "                                    optimizer=optimizer, \n",
    "                                    scheduler=scheduler, \n",
    "                                    epochs=cfg.epochs, \n",
    "                                    early_stopping_patience=cfg.early_stopping, \n",
    "                                    dataloaders=dataloaders, \n",
    "                                    device=cfg.device,\n",
    "                                    save_path=cfg.save_path,\n",
    "                                    fold = fold,\n",
    "                                    verbose=True)\n",
    "\n",
    "    breaker()\n",
    "    show_graphs(L, A)\n",
    "    \n",
    "    BLEs.append(BLE)\n",
    "    BAEs.append(BAE)\n",
    "\n",
    "    fold += 1"
   ]
  },
  {
   "cell_type": "markdown",
   "id": "3fb7447d",
   "metadata": {
    "papermill": {
     "duration": 0.049667,
     "end_time": "2022-04-25T23:27:40.365000",
     "exception": false,
     "start_time": "2022-04-25T23:27:40.315333",
     "status": "completed"
    },
    "tags": []
   },
   "source": [
    "### **Predictions**"
   ]
  },
  {
   "cell_type": "code",
   "execution_count": 9,
   "id": "f60c9f31",
   "metadata": {
    "execution": {
     "iopub.execute_input": "2022-04-25T23:27:40.471111Z",
     "iopub.status.busy": "2022-04-25T23:27:40.470587Z",
     "iopub.status.idle": "2022-04-25T23:27:47.691424Z",
     "shell.execute_reply": "2022-04-25T23:27:47.690643Z",
     "shell.execute_reply.started": "2022-04-09T01:41:41.028783Z"
    },
    "papermill": {
     "duration": 7.277192,
     "end_time": "2022-04-25T23:27:47.691562",
     "exception": false,
     "start_time": "2022-04-25T23:27:40.414370",
     "status": "completed"
    },
    "tags": []
   },
   "outputs": [
    {
     "name": "stdout",
     "output_type": "stream",
     "text": [
      "\n",
      "**************************************************\n",
      "\n",
      "Best Fold : 1\n",
      "\n",
      "**************************************************\n",
      "\n",
      "Accuracy  : 0.77083\n",
      "ROC-AUC   : 0.86585\n",
      "Precision : [0.38888889 1.        ]\n",
      "Recall    : [1.         0.73170732]\n",
      "F-Score   : [0.56       0.84507042]\n",
      "\n",
      "**************************************************\n",
      "\n",
      "              precision    recall  f1-score   support\n",
      "\n",
      "         0.0       1.00      0.39      0.56       234\n",
      "         1.0       0.73      1.00      0.85       390\n",
      "\n",
      "    accuracy                           0.77       624\n",
      "   macro avg       0.87      0.69      0.70       624\n",
      "weighted avg       0.83      0.77      0.74       624\n",
      "\n",
      "\n",
      "**************************************************\n",
      "\n",
      "[[ 91 143]\n",
      " [  0 390]]\n",
      "\n",
      "**************************************************\n",
      "\n"
     ]
    }
   ],
   "source": [
    "test_images = np.load(f\"../input/cxr-images-384/test_images_{SIZE}.npy\")\n",
    "test_labels = np.load(f\"../input/cxr-images-384/test_targets_{SIZE}.npy\")\n",
    "\n",
    "ts_data_setup = DS(test_images, None, cfg.transform)\n",
    "ts_data = DL(ts_data_setup, batch_size=cfg.batch_size, shuffle=False)\n",
    "\n",
    "best_fold = BLEs.index(min(BLEs)) + 1\n",
    "model_path = f\"saves/state_fold_{best_fold}.pt\"\n",
    "y_pred = predict(model=Model().to(cfg.device), dataloader=ts_data, path=model_path, device=cfg.device)\n",
    "\n",
    "accuracy, auc, precision, recall, f_score = get_scores(test_labels, y_pred)\n",
    "\n",
    "breaker()\n",
    "print(f\"Best Fold : {best_fold}\")\n",
    "breaker()\n",
    "print_scores(accuracy, auc, precision, recall, f_score)\n",
    "breaker()\n",
    "print(classification_report(test_labels, y_pred))\n",
    "breaker()\n",
    "print(confusion_matrix(test_labels, y_pred))\n",
    "breaker()"
   ]
  }
 ],
 "metadata": {
  "kernelspec": {
   "display_name": "Python 3",
   "language": "python",
   "name": "python3"
  },
  "language_info": {
   "codemirror_mode": {
    "name": "ipython",
    "version": 3
   },
   "file_extension": ".py",
   "mimetype": "text/x-python",
   "name": "python",
   "nbconvert_exporter": "python",
   "pygments_lexer": "ipython3",
   "version": "3.7.12"
  },
  "papermill": {
   "default_parameters": {},
   "duration": 7277.302947,
   "end_time": "2022-04-25T23:27:49.932457",
   "environment_variables": {},
   "exception": null,
   "input_path": "__notebook__.ipynb",
   "output_path": "__notebook__.ipynb",
   "parameters": {},
   "start_time": "2022-04-25T21:26:32.629510",
   "version": "2.3.3"
  },
  "widgets": {
   "application/vnd.jupyter.widget-state+json": {
    "state": {
     "10ce55229be747129c38fdc93525b95b": {
      "model_module": "@jupyter-widgets/controls",
      "model_module_version": "1.5.0",
      "model_name": "FloatProgressModel",
      "state": {
       "_dom_classes": [],
       "_model_module": "@jupyter-widgets/controls",
       "_model_module_version": "1.5.0",
       "_model_name": "FloatProgressModel",
       "_view_count": null,
       "_view_module": "@jupyter-widgets/controls",
       "_view_module_version": "1.5.0",
       "_view_name": "ProgressView",
       "bar_style": "success",
       "description": "",
       "description_tooltip": null,
       "layout": "IPY_MODEL_3a99c408727e48689ba27833e9715685",
       "max": 102530333.0,
       "min": 0.0,
       "orientation": "horizontal",
       "style": "IPY_MODEL_c295e990da744fb9adfb5909e724a86e",
       "value": 102530333.0
      }
     },
     "19c7fc45bea14b8e8e47ee6c057a2ad9": {
      "model_module": "@jupyter-widgets/controls",
      "model_module_version": "1.5.0",
      "model_name": "HBoxModel",
      "state": {
       "_dom_classes": [],
       "_model_module": "@jupyter-widgets/controls",
       "_model_module_version": "1.5.0",
       "_model_name": "HBoxModel",
       "_view_count": null,
       "_view_module": "@jupyter-widgets/controls",
       "_view_module_version": "1.5.0",
       "_view_name": "HBoxView",
       "box_style": "",
       "children": [
        "IPY_MODEL_26d5284deb8c4d38bed9bc9ea1f2fb47",
        "IPY_MODEL_10ce55229be747129c38fdc93525b95b",
        "IPY_MODEL_2f1de945b72143309af012ea36c68553"
       ],
       "layout": "IPY_MODEL_df846953b5764f219be1549bfd77d8e7"
      }
     },
     "26d5284deb8c4d38bed9bc9ea1f2fb47": {
      "model_module": "@jupyter-widgets/controls",
      "model_module_version": "1.5.0",
      "model_name": "HTMLModel",
      "state": {
       "_dom_classes": [],
       "_model_module": "@jupyter-widgets/controls",
       "_model_module_version": "1.5.0",
       "_model_name": "HTMLModel",
       "_view_count": null,
       "_view_module": "@jupyter-widgets/controls",
       "_view_module_version": "1.5.0",
       "_view_name": "HTMLView",
       "description": "",
       "description_tooltip": null,
       "layout": "IPY_MODEL_b2f3c72a918145f7a031dd6bc9dd8517",
       "placeholder": "​",
       "style": "IPY_MODEL_eb06a9cb88fb4d6b918de19139e2acbc",
       "value": "100%"
      }
     },
     "2f1de945b72143309af012ea36c68553": {
      "model_module": "@jupyter-widgets/controls",
      "model_module_version": "1.5.0",
      "model_name": "HTMLModel",
      "state": {
       "_dom_classes": [],
       "_model_module": "@jupyter-widgets/controls",
       "_model_module_version": "1.5.0",
       "_model_name": "HTMLModel",
       "_view_count": null,
       "_view_module": "@jupyter-widgets/controls",
       "_view_module_version": "1.5.0",
       "_view_name": "HTMLView",
       "description": "",
       "description_tooltip": null,
       "layout": "IPY_MODEL_8fe8e290e2874e7fa87fa9639a7aca0a",
       "placeholder": "​",
       "style": "IPY_MODEL_cb5e15e44ddf4b1c91736108e4332f3a",
       "value": " 97.8M/97.8M [00:02&lt;00:00, 46.1MB/s]"
      }
     },
     "3a99c408727e48689ba27833e9715685": {
      "model_module": "@jupyter-widgets/base",
      "model_module_version": "1.2.0",
      "model_name": "LayoutModel",
      "state": {
       "_model_module": "@jupyter-widgets/base",
       "_model_module_version": "1.2.0",
       "_model_name": "LayoutModel",
       "_view_count": null,
       "_view_module": "@jupyter-widgets/base",
       "_view_module_version": "1.2.0",
       "_view_name": "LayoutView",
       "align_content": null,
       "align_items": null,
       "align_self": null,
       "border": null,
       "bottom": null,
       "display": null,
       "flex": null,
       "flex_flow": null,
       "grid_area": null,
       "grid_auto_columns": null,
       "grid_auto_flow": null,
       "grid_auto_rows": null,
       "grid_column": null,
       "grid_gap": null,
       "grid_row": null,
       "grid_template_areas": null,
       "grid_template_columns": null,
       "grid_template_rows": null,
       "height": null,
       "justify_content": null,
       "justify_items": null,
       "left": null,
       "margin": null,
       "max_height": null,
       "max_width": null,
       "min_height": null,
       "min_width": null,
       "object_fit": null,
       "object_position": null,
       "order": null,
       "overflow": null,
       "overflow_x": null,
       "overflow_y": null,
       "padding": null,
       "right": null,
       "top": null,
       "visibility": null,
       "width": null
      }
     },
     "8fe8e290e2874e7fa87fa9639a7aca0a": {
      "model_module": "@jupyter-widgets/base",
      "model_module_version": "1.2.0",
      "model_name": "LayoutModel",
      "state": {
       "_model_module": "@jupyter-widgets/base",
       "_model_module_version": "1.2.0",
       "_model_name": "LayoutModel",
       "_view_count": null,
       "_view_module": "@jupyter-widgets/base",
       "_view_module_version": "1.2.0",
       "_view_name": "LayoutView",
       "align_content": null,
       "align_items": null,
       "align_self": null,
       "border": null,
       "bottom": null,
       "display": null,
       "flex": null,
       "flex_flow": null,
       "grid_area": null,
       "grid_auto_columns": null,
       "grid_auto_flow": null,
       "grid_auto_rows": null,
       "grid_column": null,
       "grid_gap": null,
       "grid_row": null,
       "grid_template_areas": null,
       "grid_template_columns": null,
       "grid_template_rows": null,
       "height": null,
       "justify_content": null,
       "justify_items": null,
       "left": null,
       "margin": null,
       "max_height": null,
       "max_width": null,
       "min_height": null,
       "min_width": null,
       "object_fit": null,
       "object_position": null,
       "order": null,
       "overflow": null,
       "overflow_x": null,
       "overflow_y": null,
       "padding": null,
       "right": null,
       "top": null,
       "visibility": null,
       "width": null
      }
     },
     "b2f3c72a918145f7a031dd6bc9dd8517": {
      "model_module": "@jupyter-widgets/base",
      "model_module_version": "1.2.0",
      "model_name": "LayoutModel",
      "state": {
       "_model_module": "@jupyter-widgets/base",
       "_model_module_version": "1.2.0",
       "_model_name": "LayoutModel",
       "_view_count": null,
       "_view_module": "@jupyter-widgets/base",
       "_view_module_version": "1.2.0",
       "_view_name": "LayoutView",
       "align_content": null,
       "align_items": null,
       "align_self": null,
       "border": null,
       "bottom": null,
       "display": null,
       "flex": null,
       "flex_flow": null,
       "grid_area": null,
       "grid_auto_columns": null,
       "grid_auto_flow": null,
       "grid_auto_rows": null,
       "grid_column": null,
       "grid_gap": null,
       "grid_row": null,
       "grid_template_areas": null,
       "grid_template_columns": null,
       "grid_template_rows": null,
       "height": null,
       "justify_content": null,
       "justify_items": null,
       "left": null,
       "margin": null,
       "max_height": null,
       "max_width": null,
       "min_height": null,
       "min_width": null,
       "object_fit": null,
       "object_position": null,
       "order": null,
       "overflow": null,
       "overflow_x": null,
       "overflow_y": null,
       "padding": null,
       "right": null,
       "top": null,
       "visibility": null,
       "width": null
      }
     },
     "c295e990da744fb9adfb5909e724a86e": {
      "model_module": "@jupyter-widgets/controls",
      "model_module_version": "1.5.0",
      "model_name": "ProgressStyleModel",
      "state": {
       "_model_module": "@jupyter-widgets/controls",
       "_model_module_version": "1.5.0",
       "_model_name": "ProgressStyleModel",
       "_view_count": null,
       "_view_module": "@jupyter-widgets/base",
       "_view_module_version": "1.2.0",
       "_view_name": "StyleView",
       "bar_color": null,
       "description_width": ""
      }
     },
     "cb5e15e44ddf4b1c91736108e4332f3a": {
      "model_module": "@jupyter-widgets/controls",
      "model_module_version": "1.5.0",
      "model_name": "DescriptionStyleModel",
      "state": {
       "_model_module": "@jupyter-widgets/controls",
       "_model_module_version": "1.5.0",
       "_model_name": "DescriptionStyleModel",
       "_view_count": null,
       "_view_module": "@jupyter-widgets/base",
       "_view_module_version": "1.2.0",
       "_view_name": "StyleView",
       "description_width": ""
      }
     },
     "df846953b5764f219be1549bfd77d8e7": {
      "model_module": "@jupyter-widgets/base",
      "model_module_version": "1.2.0",
      "model_name": "LayoutModel",
      "state": {
       "_model_module": "@jupyter-widgets/base",
       "_model_module_version": "1.2.0",
       "_model_name": "LayoutModel",
       "_view_count": null,
       "_view_module": "@jupyter-widgets/base",
       "_view_module_version": "1.2.0",
       "_view_name": "LayoutView",
       "align_content": null,
       "align_items": null,
       "align_self": null,
       "border": null,
       "bottom": null,
       "display": null,
       "flex": null,
       "flex_flow": null,
       "grid_area": null,
       "grid_auto_columns": null,
       "grid_auto_flow": null,
       "grid_auto_rows": null,
       "grid_column": null,
       "grid_gap": null,
       "grid_row": null,
       "grid_template_areas": null,
       "grid_template_columns": null,
       "grid_template_rows": null,
       "height": null,
       "justify_content": null,
       "justify_items": null,
       "left": null,
       "margin": null,
       "max_height": null,
       "max_width": null,
       "min_height": null,
       "min_width": null,
       "object_fit": null,
       "object_position": null,
       "order": null,
       "overflow": null,
       "overflow_x": null,
       "overflow_y": null,
       "padding": null,
       "right": null,
       "top": null,
       "visibility": null,
       "width": null
      }
     },
     "eb06a9cb88fb4d6b918de19139e2acbc": {
      "model_module": "@jupyter-widgets/controls",
      "model_module_version": "1.5.0",
      "model_name": "DescriptionStyleModel",
      "state": {
       "_model_module": "@jupyter-widgets/controls",
       "_model_module_version": "1.5.0",
       "_model_name": "DescriptionStyleModel",
       "_view_count": null,
       "_view_module": "@jupyter-widgets/base",
       "_view_module_version": "1.2.0",
       "_view_name": "StyleView",
       "description_width": ""
      }
     }
    },
    "version_major": 2,
    "version_minor": 0
   }
  }
 },
 "nbformat": 4,
 "nbformat_minor": 5
}
