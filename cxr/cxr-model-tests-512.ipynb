{
 "cells": [
  {
   "cell_type": "markdown",
   "id": "1f4d2ef2",
   "metadata": {
    "_cell_guid": "b1076dfc-b9ad-4769-8c92-a6c4dae69d19",
    "_uuid": "8f2839f25d086af736a60e9eeb907d3b93b6e0e5",
    "papermill": {
     "duration": 0.006588,
     "end_time": "2022-07-18T10:13:18.051710",
     "exception": false,
     "start_time": "2022-07-18T10:13:18.045122",
     "status": "completed"
    },
    "tags": []
   },
   "source": [
    "### **Setup**"
   ]
  },
  {
   "cell_type": "code",
   "execution_count": 1,
   "id": "0934577a",
   "metadata": {
    "execution": {
     "iopub.execute_input": "2022-07-18T10:13:18.063740Z",
     "iopub.status.busy": "2022-07-18T10:13:18.063222Z",
     "iopub.status.idle": "2022-07-18T10:13:29.154292Z",
     "shell.execute_reply": "2022-07-18T10:13:29.153207Z"
    },
    "papermill": {
     "duration": 11.099763,
     "end_time": "2022-07-18T10:13:29.156621",
     "exception": false,
     "start_time": "2022-07-18T10:13:18.056858",
     "status": "completed"
    },
    "tags": []
   },
   "outputs": [
    {
     "name": "stderr",
     "output_type": "stream",
     "text": [
      "WARNING: Running pip as the 'root' user can result in broken permissions and conflicting behaviour with the system package manager. It is recommended to use a virtual environment instead: https://pip.pypa.io/warnings/venv\n"
     ]
    }
   ],
   "source": [
    "%%bash\n",
    "pip install timm -q"
   ]
  },
  {
   "cell_type": "markdown",
   "id": "b0e9d96d",
   "metadata": {
    "papermill": {
     "duration": 0.004824,
     "end_time": "2022-07-18T10:13:29.166769",
     "exception": false,
     "start_time": "2022-07-18T10:13:29.161945",
     "status": "completed"
    },
    "tags": []
   },
   "source": [
    "### **Library Imports**"
   ]
  },
  {
   "cell_type": "code",
   "execution_count": 2,
   "id": "344542c2",
   "metadata": {
    "execution": {
     "iopub.execute_input": "2022-07-18T10:13:29.177881Z",
     "iopub.status.busy": "2022-07-18T10:13:29.177590Z",
     "iopub.status.idle": "2022-07-18T10:13:33.610561Z",
     "shell.execute_reply": "2022-07-18T10:13:33.609411Z"
    },
    "papermill": {
     "duration": 4.44141,
     "end_time": "2022-07-18T10:13:33.612960",
     "exception": false,
     "start_time": "2022-07-18T10:13:29.171550",
     "status": "completed"
    },
    "tags": []
   },
   "outputs": [],
   "source": [
    "import os\n",
    "import re\n",
    "import cv2\n",
    "import timm\n",
    "import torch\n",
    "import numpy as np\n",
    "import pandas as pd\n",
    "import matplotlib.pyplot as plt\n",
    "\n",
    "from time import time\n",
    "from torch import nn, optim\n",
    "from torch.utils.data import Dataset\n",
    "from torch.utils.data import DataLoader as DL\n",
    "from torchvision import models, transforms\n",
    "\n",
    "from sklearn.model_selection import KFold\n",
    "from sklearn.preprocessing import LabelEncoder\n",
    "from sklearn.metrics import accuracy_score, \\\n",
    "                            precision_recall_fscore_support, \\\n",
    "                            roc_auc_score, \\\n",
    "                            classification_report, \\\n",
    "                            confusion_matrix"
   ]
  },
  {
   "cell_type": "markdown",
   "id": "93214a72",
   "metadata": {
    "papermill": {
     "duration": 0.004691,
     "end_time": "2022-07-18T10:13:33.622864",
     "exception": false,
     "start_time": "2022-07-18T10:13:33.618173",
     "status": "completed"
    },
    "tags": []
   },
   "source": [
    "### **Helpers**"
   ]
  },
  {
   "cell_type": "code",
   "execution_count": 3,
   "id": "acb20df9",
   "metadata": {
    "execution": {
     "iopub.execute_input": "2022-07-18T10:13:33.634280Z",
     "iopub.status.busy": "2022-07-18T10:13:33.633642Z",
     "iopub.status.idle": "2022-07-18T10:13:33.648888Z",
     "shell.execute_reply": "2022-07-18T10:13:33.648081Z"
    },
    "papermill": {
     "duration": 0.023257,
     "end_time": "2022-07-18T10:13:33.650916",
     "exception": false,
     "start_time": "2022-07-18T10:13:33.627659",
     "status": "completed"
    },
    "tags": []
   },
   "outputs": [],
   "source": [
    "SEED = 42\n",
    "SIZE = 384\n",
    "\n",
    "def breaker(num: int=50, char: str=\"*\") -> None:\n",
    "    print(\"\\n\" + num*char + \"\\n\")\n",
    "\n",
    "    \n",
    "def get_image(path: str, size: int=224) -> np.ndarray:\n",
    "    image = cv2.imread(path, cv2.IMREAD_COLOR)\n",
    "    image = cv2.cvtColor(src=image, code=cv2.COLOR_BGR2RGB)\n",
    "    return cv2.resize(src=image, dsize=(size, size), interpolation=cv2.INTER_AREA)\n",
    "\n",
    "\n",
    "def show_loss_graphs(L: list) -> None:\n",
    "    TL, VL = [], []\n",
    "    for i in range(len(L)):\n",
    "        TL.append(L[i][\"train\"])\n",
    "        VL.append(L[i][\"valid\"])\n",
    "    x_Axis = np.arange(1, len(TL) + 1)\n",
    "    plt.figure()\n",
    "    plt.plot(x_Axis, TL, \"r\", label=\"Train\")\n",
    "    plt.plot(x_Axis, VL, \"b\", label=\"Valid\")\n",
    "    plt.legend()\n",
    "    plt.grid()\n",
    "    plt.title(\"Loss Graph\")\n",
    "    plt.show()\n",
    "\n",
    "    \n",
    "def show_accuracy_graphs(A: list) -> None:\n",
    "    TA, VA = [], []\n",
    "    for i in range(len(A)):\n",
    "        TA.append(A[i][\"train\"])\n",
    "        VA.append(A[i][\"valid\"])\n",
    "    x_Axis = np.arange(1, len(TA) + 1)\n",
    "    plt.figure()\n",
    "    plt.plot(x_Axis, TA, \"r\", label=\"Train\")\n",
    "    plt.plot(x_Axis, VA, \"b\", label=\"Valid\")\n",
    "    plt.legend()\n",
    "    plt.grid()\n",
    "    plt.title(\"Accuracy Graph\")\n",
    "    plt.show()\n",
    "\n",
    "    \n",
    "def show_lr_graph(LR: list) -> None:\n",
    "    x_Axis = [i+1 for i in range(len(LR))]\n",
    "    plt.figure(figsize=(8, 6))\n",
    "    plt.plot(x_Axis, LR, \"rx\")\n",
    "    plt.grid()\n",
    "    plt.show()"
   ]
  },
  {
   "cell_type": "markdown",
   "id": "a19499bf",
   "metadata": {
    "papermill": {
     "duration": 0.004587,
     "end_time": "2022-07-18T10:13:33.660294",
     "exception": false,
     "start_time": "2022-07-18T10:13:33.655707",
     "status": "completed"
    },
    "tags": []
   },
   "source": [
    "### **Configuration**"
   ]
  },
  {
   "cell_type": "code",
   "execution_count": 4,
   "id": "4117d3a8",
   "metadata": {
    "execution": {
     "iopub.execute_input": "2022-07-18T10:13:33.671124Z",
     "iopub.status.busy": "2022-07-18T10:13:33.670870Z",
     "iopub.status.idle": "2022-07-18T10:13:33.737095Z",
     "shell.execute_reply": "2022-07-18T10:13:33.736227Z"
    },
    "papermill": {
     "duration": 0.074039,
     "end_time": "2022-07-18T10:13:33.739077",
     "exception": false,
     "start_time": "2022-07-18T10:13:33.665038",
     "status": "completed"
    },
    "tags": []
   },
   "outputs": [],
   "source": [
    "class CFG(object):\n",
    "    def __init__(self, \n",
    "                 seed: int = 42,\n",
    "                 size: int = 224,\n",
    "                 n_splits: int = 5,\n",
    "                 batch_size: int = 16,\n",
    "                 epochs: int = 25,\n",
    "                 early_stopping: int = 5,\n",
    "                 lr: float = 1e-4,\n",
    "                 wd: float = 0.0,\n",
    "                 max_lr: float = 1e-3,\n",
    "                 pct_start: float = 0.2,\n",
    "                 steps_per_epoch: int = 100,\n",
    "                 div_factor: int = 1e3, \n",
    "                 final_div_factor: float = 1e3,\n",
    "                 ):\n",
    "        self.seed = seed\n",
    "        self.size = size\n",
    "        self.n_splits = n_splits\n",
    "        self.batch_size = batch_size\n",
    "        self.epochs = epochs\n",
    "        self.early_stopping = early_stopping\n",
    "        self.lr = lr\n",
    "        self.wd = wd\n",
    "        self.max_lr = max_lr\n",
    "        self.pct_start = pct_start\n",
    "        self.steps_per_epoch = steps_per_epoch\n",
    "        self.div_factor = div_factor\n",
    "        self.final_div_factor = final_div_factor\n",
    "        self.device = torch.device(\"cuda\" if torch.cuda.is_available() else \"cpu\")\n",
    "        self.transform = transforms.Compose([transforms.ToTensor(),\n",
    "                                transforms.Normalize([0.48231, 0.48231, 0.48231],\n",
    "                                                     [0.22267, 0.22267, 0.22267]),\n",
    "                                ])\n",
    "        self.save_path = \"saves\"\n",
    "        if not os.path.exists(self.save_path): os.makedirs(self.save_path)\n",
    "    \n",
    "cfg = CFG(seed=SEED, size=SIZE)"
   ]
  },
  {
   "cell_type": "markdown",
   "id": "14faf02a",
   "metadata": {
    "papermill": {
     "duration": 0.004666,
     "end_time": "2022-07-18T10:13:33.748972",
     "exception": false,
     "start_time": "2022-07-18T10:13:33.744306",
     "status": "completed"
    },
    "tags": []
   },
   "source": [
    "### **Dataset Template**"
   ]
  },
  {
   "cell_type": "code",
   "execution_count": 5,
   "id": "39532f67",
   "metadata": {
    "execution": {
     "iopub.execute_input": "2022-07-18T10:13:33.760873Z",
     "iopub.status.busy": "2022-07-18T10:13:33.759951Z",
     "iopub.status.idle": "2022-07-18T10:13:33.767482Z",
     "shell.execute_reply": "2022-07-18T10:13:33.766498Z"
    },
    "papermill": {
     "duration": 0.015217,
     "end_time": "2022-07-18T10:13:33.769507",
     "exception": false,
     "start_time": "2022-07-18T10:13:33.754290",
     "status": "completed"
    },
    "tags": []
   },
   "outputs": [],
   "source": [
    "class DS(Dataset):\n",
    "    def __init__(self, \n",
    "                 filenames: np.ndarray,\n",
    "                 labels: np.ndarray,\n",
    "                 size: int,\n",
    "                 transform=None\n",
    "                ):\n",
    "        \n",
    "        self.filenames = filenames\n",
    "        self.labels = labels\n",
    "        self.size = size\n",
    "        self.transform = transform\n",
    "    \n",
    "    def __len__(self):\n",
    "        return self.filenames.shape[0]\n",
    "\n",
    "    def __getitem__(self, idx):\n",
    "        image = get_image(self.filenames[idx], self.size)\n",
    "        if self.labels is not None:\n",
    "            return self.transform(image), torch.FloatTensor(self.labels[idx])\n",
    "        else:\n",
    "            return self.transform(image)"
   ]
  },
  {
   "cell_type": "markdown",
   "id": "9f7b8bf2",
   "metadata": {
    "papermill": {
     "duration": 0.004787,
     "end_time": "2022-07-18T10:13:33.779177",
     "exception": false,
     "start_time": "2022-07-18T10:13:33.774390",
     "status": "completed"
    },
    "tags": []
   },
   "source": [
    "### **Model**"
   ]
  },
  {
   "cell_type": "code",
   "execution_count": 6,
   "id": "6ed54c18",
   "metadata": {
    "execution": {
     "iopub.execute_input": "2022-07-18T10:13:33.790496Z",
     "iopub.status.busy": "2022-07-18T10:13:33.790208Z",
     "iopub.status.idle": "2022-07-18T10:13:33.803154Z",
     "shell.execute_reply": "2022-07-18T10:13:33.802305Z"
    },
    "papermill": {
     "duration": 0.020747,
     "end_time": "2022-07-18T10:13:33.804995",
     "exception": false,
     "start_time": "2022-07-18T10:13:33.784248",
     "status": "completed"
    },
    "tags": []
   },
   "outputs": [],
   "source": [
    "class Model(nn.Module):\n",
    "    def __init__(self, model_name: str=\"resnet50\"):\n",
    "        super(Model, self).__init__()\n",
    "\n",
    "        if model_name == \"resnet34\":\n",
    "            self.model = models.resnet34(pretrained=True, progress=False)\n",
    "            self.model.fc = nn.Linear(in_features=self.model.fc.in_features, out_features=1)\n",
    "        \n",
    "        elif model_name == \"resnet50\":\n",
    "            self.model = models.resnet50(pretrained=True, progress=False)\n",
    "            self.model.fc = nn.Linear(in_features=self.model.fc.in_features, out_features=1)\n",
    "        \n",
    "        elif model_name == \"tv_resnet50\":\n",
    "            self.model = timm.create_model(model_name=model_name, pretrained=True)\n",
    "            self.model.fc = nn.Linear(in_features=self.model.fc.in_features, out_features=1)\n",
    "\n",
    "        elif model_name == \"densenet169\":\n",
    "            self.model = models.densenet169(pretrained=True, progress=True)\n",
    "            self.model.classifier = nn.Linear(in_features=self.model.classifier.in_features, out_features=1)\n",
    "\n",
    "        elif model_name == \"densenet201\":\n",
    "            self.model = models.densenet201(pretrained=True, progress=True)\n",
    "            self.model.classifier = nn.Linear(in_features=self.model.classifier.in_features, out_features=1)\n",
    "            \n",
    "        elif model_name == \"tv_densenet121\":\n",
    "            self.model = timm.create_model(model_name=model_name, pretrained=True)\n",
    "            self.model.classifier = nn.Linear(in_features=self.model.classifier.in_features, out_features=1)\n",
    "        \n",
    "        elif model_name == \"efficientnet_b0\":\n",
    "            self.model = timm.create_model(model_name=model_name, pretrained=True)\n",
    "            self.model.classifier = nn.Linear(in_features=self.model.classifier.in_features, out_features=1)\n",
    "        \n",
    "        elif model_name == \"efficientnet_b2\":\n",
    "            self.model = timm.create_model(model_name=model_name, pretrained=True)\n",
    "            self.model.classifier = nn.Linear(in_features=self.model.classifier.in_features, out_features=1)\n",
    "        \n",
    "        else:\n",
    "            raise NotImplementedError(\"Invalid Model Name. Model not currently available\")\n",
    "            \n",
    "    def freeze(self):\n",
    "        for params in self.parameters(): params.requires_grad = False\n",
    "\n",
    "    def forward(self, x):\n",
    "        return self.model(x)"
   ]
  },
  {
   "cell_type": "markdown",
   "id": "3978a77c",
   "metadata": {
    "papermill": {
     "duration": 0.004572,
     "end_time": "2022-07-18T10:13:33.814319",
     "exception": false,
     "start_time": "2022-07-18T10:13:33.809747",
     "status": "completed"
    },
    "tags": []
   },
   "source": [
    "### **Fit**"
   ]
  },
  {
   "cell_type": "code",
   "execution_count": 7,
   "id": "3c9a644e",
   "metadata": {
    "execution": {
     "iopub.execute_input": "2022-07-18T10:13:33.825323Z",
     "iopub.status.busy": "2022-07-18T10:13:33.825083Z",
     "iopub.status.idle": "2022-07-18T10:13:33.848420Z",
     "shell.execute_reply": "2022-07-18T10:13:33.847506Z"
    },
    "papermill": {
     "duration": 0.031201,
     "end_time": "2022-07-18T10:13:33.850272",
     "exception": false,
     "start_time": "2022-07-18T10:13:33.819071",
     "status": "completed"
    },
    "tags": []
   },
   "outputs": [],
   "source": [
    "def fit(model=None,\n",
    "        model_name=None,\n",
    "        optimizer=None, \n",
    "        scheduler_rlrop=None,\n",
    "        scheduler_oclr=None,\n",
    "        epochs=None, \n",
    "        early_stopping_patience=None, \n",
    "        dataloaders=None, \n",
    "        fold=None, \n",
    "        save_path=None,\n",
    "        device=None,\n",
    "        verbose=False) -> tuple:\n",
    "    \n",
    "    def get_accuracy(y_pred, y_true):\n",
    "        y_pred = torch.argmax(y_pred, dim=1)\n",
    "        return torch.count_nonzero(y_pred == y_true).item() / len(y_pred)\n",
    "    \n",
    "    \n",
    "    if verbose:\n",
    "        breaker()\n",
    "        print(f\" ----- {model_name.upper()} -----\")\n",
    "        breaker()\n",
    "        if fold: print(f\"Training Fold {fold}...\")\n",
    "        else: print(\"Training ...\")\n",
    "        breaker()\n",
    "    \n",
    "    bestLoss: dict = {\"train\" : np.inf, \"valid\" : np.inf} \n",
    "    bestAccs: dict = {\"train\" : 0.0, \"valid\" : 0.0}\n",
    "    \n",
    "    Losses: list = []\n",
    "    Accuracies: list = [] \n",
    "    LRs: list = []\n",
    "        \n",
    "    if fold: \n",
    "        ble_name = f\"{model_name}_ble_state_fold_{fold}.pt\"\n",
    "        bae_name = f\"{model_name}_bae_state_fold_{fold}.pt\"\n",
    "    else: \n",
    "        ble_name = f\"{model_name}_ble_state.pt\"\n",
    "        bae_name = f\"{model_name}_bae_state.pt\"\n",
    "        \n",
    "    start_time = time()\n",
    "    for e in range(epochs):\n",
    "        e_st = time()\n",
    "        epochLoss: dict = {\"train\" : 0.0, \"valid\" : 0.0} \n",
    "        epochAccs: dict = {\"train\" : 0.0, \"valid\" : 0.0}\n",
    "\n",
    "        for phase in [\"train\", \"valid\"]:\n",
    "            if phase == \"train\":\n",
    "                model.train()\n",
    "            else:\n",
    "                model.eval()\n",
    "            \n",
    "            lossPerPass: list = []\n",
    "            accsPerPass: list = []\n",
    "            \n",
    "            for X, y in dataloaders[phase]:\n",
    "                X, y = X.to(device), y.to(device)\n",
    "\n",
    "                optimizer.zero_grad()\n",
    "                with torch.set_grad_enabled(phase == \"train\"):\n",
    "                    output = model(X)\n",
    "                    loss = torch.nn.BCEWithLogitsLoss()(output, y)\n",
    "                    if phase == \"train\":\n",
    "                        loss.backward()\n",
    "                        optimizer.step()\n",
    "                        if scheduler_oclr: scheduler_oclr.step()\n",
    "                lossPerPass.append(loss.item())\n",
    "                accsPerPass.append(get_accuracy(output, y))\n",
    "            epochLoss[phase] = np.mean(np.array(lossPerPass))\n",
    "            epochAccs[phase] = np.mean(np.array(accsPerPass))\n",
    "        if scheduler_oclr: LRs.append(scheduler_oclr.get_last_lr())\n",
    "        Losses.append(epochLoss)\n",
    "        Accuracies.append(epochAccs)\n",
    "        \n",
    "        if scheduler_oclr:\n",
    "            save_dict = {\"model_state_dict\"     : model.state_dict(),\n",
    "                         \"optim_state_dict\"     : optimizer.state_dict(),\n",
    "                         \"scheduler_state_dict\" : scheduler_oclr.state_dict()}\n",
    "        \n",
    "        elif scheduler_rlrop:\n",
    "            save_dict = {\"model_state_dict\"     : model.state_dict(),\n",
    "                         \"optim_state_dict\"     : optimizer.state_dict(),\n",
    "                         \"scheduler_state_dict\" : scheduler_rlrop.state_dict()}\n",
    "        \n",
    "        else:\n",
    "            save_dict = {\"model_state_dict\"     : model.state_dict(),\n",
    "                         \"optim_state_dict\"     : optimizer.state_dict()}\n",
    "        \n",
    "        if early_stopping_patience:\n",
    "            if epochLoss[\"valid\"] < bestLoss[\"valid\"]:\n",
    "                bestLoss = epochLoss\n",
    "                BLE = e + 1\n",
    "                torch.save(save_dict, os.path.join(save_path, ble_name))\n",
    "                torch.save(save_dict, os.path.join(save_path, bae_name))\n",
    "                early_stopping_step = 0\n",
    "            else:\n",
    "                early_stopping_step += 1\n",
    "                if early_stopping_step > early_stopping_patience:\n",
    "                    print(\"\\nEarly Stopping at Epoch {}\".format(e + 1))\n",
    "                    break\n",
    "        \n",
    "        if epochLoss[\"valid\"] < bestLoss[\"valid\"]:\n",
    "            bestLoss = epochLoss\n",
    "            BLE = e + 1\n",
    "            torch.save(save_dict,os.path.join(save_path, ble_name))\n",
    "        \n",
    "        if epochAccs[\"valid\"] > bestAccs[\"valid\"]:\n",
    "            bestAccs = epochAccs\n",
    "            BAE = e + 1\n",
    "            torch.save(save_dict,os.path.join(save_path, bae_name))\n",
    "        \n",
    "        if scheduler_rlrop: scheduler_rlrop.step(epochLoss[\"valid\"])\n",
    "        \n",
    "        if verbose:\n",
    "            print(\"Epoch: {} | Train Loss: {:.5f} | Valid Loss: {:.5f} |\\\n",
    " Train Accs: {:.5f} | Valid Accs: {:.5f} | Time: {:.2f} seconds\".format(e+1, \n",
    "                                                                        epochLoss[\"train\"], epochLoss[\"valid\"], \n",
    "                                                                        epochAccs[\"train\"], epochAccs[\"valid\"], \n",
    "                                                                        time()-e_st))\n",
    "    if verbose:                                           \n",
    "        breaker()\n",
    "        print(f\"Best Validation Loss at Epoch {BLE}\")\n",
    "        breaker()\n",
    "        print(f\"Best Validation Accs at Epoch {BAE}\")\n",
    "        breaker()\n",
    "        print(\"Time Taken [{} Epochs] : {:.2f} minutes\".format(len(Losses), (time()-start_time)/60))\n",
    "    \n",
    "    return Losses, Accuracies, LRs, BLE, BAE, ble_name, bae_name"
   ]
  },
  {
   "cell_type": "markdown",
   "id": "11e48e07",
   "metadata": {
    "papermill": {
     "duration": 0.004793,
     "end_time": "2022-07-18T10:13:33.860086",
     "exception": false,
     "start_time": "2022-07-18T10:13:33.855293",
     "status": "completed"
    },
    "tags": []
   },
   "source": [
    "### **Train**"
   ]
  },
  {
   "cell_type": "code",
   "execution_count": 8,
   "id": "51b0a5eb",
   "metadata": {
    "execution": {
     "iopub.execute_input": "2022-07-18T10:13:33.870941Z",
     "iopub.status.busy": "2022-07-18T10:13:33.870298Z",
     "iopub.status.idle": "2022-07-18T10:13:33.909549Z",
     "shell.execute_reply": "2022-07-18T10:13:33.908715Z"
    },
    "papermill": {
     "duration": 0.046758,
     "end_time": "2022-07-18T10:13:33.911578",
     "exception": false,
     "start_time": "2022-07-18T10:13:33.864820",
     "status": "completed"
    },
    "tags": []
   },
   "outputs": [],
   "source": [
    "tr_df = pd.read_csv(\"../input/cxr-dataframe/train.csv\")\n",
    "\n",
    "filenames = tr_df.filenames.copy().values\n",
    "labels = tr_df.label.copy().values"
   ]
  },
  {
   "cell_type": "code",
   "execution_count": 9,
   "id": "76e8c037",
   "metadata": {
    "execution": {
     "iopub.execute_input": "2022-07-18T10:13:33.923755Z",
     "iopub.status.busy": "2022-07-18T10:13:33.922951Z",
     "iopub.status.idle": "2022-07-18T10:19:47.430563Z",
     "shell.execute_reply": "2022-07-18T10:19:47.429585Z"
    },
    "papermill": {
     "duration": 373.517158,
     "end_time": "2022-07-18T10:19:47.433859",
     "exception": false,
     "start_time": "2022-07-18T10:13:33.916701",
     "status": "completed"
    },
    "tags": []
   },
   "outputs": [
    {
     "name": "stderr",
     "output_type": "stream",
     "text": [
      "Downloading: \"https://download.pytorch.org/models/resnet34-b627a593.pth\" to /root/.cache/torch/hub/checkpoints/resnet34-b627a593.pth\n"
     ]
    },
    {
     "name": "stdout",
     "output_type": "stream",
     "text": [
      "\n",
      "**************************************************\n",
      "\n",
      " ----- RESNET34 -----\n",
      "\n",
      "**************************************************\n",
      "\n",
      "Training ...\n",
      "\n",
      "**************************************************\n",
      "\n",
      "Epoch: 1 | Train Loss: 0.19015 | Valid Loss: 0.11494 | Train Accs: 4.04198 | Valid Accs: 4.39394 | Time: 198.89 seconds\n",
      "Epoch: 2 | Train Loss: 0.07732 | Valid Loss: 0.03079 | Train Accs: 4.04198 | Valid Accs: 4.39394 | Time: 165.51 seconds\n",
      "\n",
      "**************************************************\n",
      "\n",
      "Best Validation Loss at Epoch 2\n",
      "\n",
      "**************************************************\n",
      "\n",
      "Best Validation Accs at Epoch 1\n",
      "\n",
      "**************************************************\n",
      "\n",
      "Time Taken [2 Epochs] : 6.07 minutes\n",
      "\n",
      "**************************************************\n",
      "\n"
     ]
    },
    {
     "data": {
      "image/png": "[encoded data removed]",
      "text/plain": [
       "<Figure size 432x288 with 1 Axes>"
      ]
     },
     "metadata": {
      "needs_background": "light"
     },
     "output_type": "display_data"
    },
    {
     "name": "stdout",
     "output_type": "stream",
     "text": [
      "\n",
      "**************************************************\n",
      "\n"
     ]
    },
    {
     "data": {
      "image/png": "[encoded data removed]",
      "text/plain": [
       "<Figure size 432x288 with 1 Axes>"
      ]
     },
     "metadata": {
      "needs_background": "light"
     },
     "output_type": "display_data"
    },
    {
     "name": "stdout",
     "output_type": "stream",
     "text": [
      "\n",
      "**************************************************\n",
      "\n"
     ]
    },
    {
     "data": {
      "image/png": "[encoded data removed]",
      "text/plain": [
       "<Figure size 576x432 with 1 Axes>"
      ]
     },
     "metadata": {
      "needs_background": "light"
     },
     "output_type": "display_data"
    },
    {
     "name": "stdout",
     "output_type": "stream",
     "text": [
      "\n",
      "**************************************************\n",
      "\n"
     ]
    }
   ],
   "source": [
    "fold: int = 1\n",
    "BLEs: list = []\n",
    "BAEs: list = []\n",
    "model_names: list = [\"resnet34\"]\n",
    "    \n",
    "for tr_idx, va_idx in KFold(n_splits=cfg.n_splits, random_state=cfg.seed, shuffle=True).split(filenames):\n",
    "    break\n",
    "\n",
    "tr_filenames, va_filenames = filenames[tr_idx], filenames[va_idx] \n",
    "tr_labels, va_labels       = labels[tr_idx], labels[va_idx]\n",
    "\n",
    "tr_data_setup = DS(\n",
    "    filenames=tr_filenames, \n",
    "    labels=tr_labels.reshape(-1, 1),\n",
    "    size=cfg.size,\n",
    "    transform=cfg.transform\n",
    ")\n",
    "\n",
    "va_data_setup = DS(\n",
    "    filenames=va_filenames,\n",
    "    labels=va_labels.reshape(-1, 1),\n",
    "    size=cfg.size,\n",
    "    transform=cfg.transform\n",
    ")\n",
    "\n",
    "dataloaders = {\n",
    "    \"train\" : DL(tr_data_setup, batch_size=cfg.batch_size, shuffle=True, generator=torch.manual_seed(cfg.seed)),\n",
    "    \"valid\" : DL(va_data_setup, batch_size=cfg.batch_size, shuffle=False),\n",
    "}\n",
    "\n",
    "cfg = CFG(\n",
    "    epochs=2, \n",
    "    batch_size=64, \n",
    "    lr=1e-3,\n",
    "    wd=0.0,\n",
    "    early_stopping=5,\n",
    "    steps_per_epoch=len(dataloaders[\"train\"])\n",
    ")\n",
    "\n",
    "for model_name in model_names:\n",
    "    torch.manual_seed(cfg.seed)\n",
    "    model = Model(model_name=model_name).to(cfg.device)\n",
    "\n",
    "    optimizer = optim.Adam([p for p in model.parameters() if p.requires_grad], lr=cfg.lr, weight_decay=cfg.wd)\n",
    "    # optimizer = optim.AdamW([p for p in model.parameters() if p.requires_grad], lr=cfg.lr, weight_decay=cfg.wd)\n",
    "    # optimizer = optim.SGD([p for p in model.parameters() if p.requires_grad], lr=cfg.lr, weight_decay=cfg.wd, momentum=0.9)\n",
    "    \n",
    "    scheduler_oclr = optim.lr_scheduler.OneCycleLR(\n",
    "        optimizer=optimizer, \n",
    "        max_lr=cfg.max_lr, \n",
    "        epochs=cfg.epochs, \n",
    "        steps_per_epoch=cfg.steps_per_epoch,\n",
    "        pct_start=cfg.pct_start, \n",
    "        div_factor=cfg.div_factor, \n",
    "        final_div_factor=cfg.final_div_factor\n",
    "    )\n",
    "\n",
    "    # scheduler_rlrop = optim.lr_scheduler.ReduceLROnPlateau(\n",
    "    #     optimizer=optimizer,\n",
    "    #     patience=cfg.patience,\n",
    "    #     eps=cfg.eps,\n",
    "    #     verbose=True\n",
    "    # )\n",
    "    \n",
    "    # scheduler_oclr = None\n",
    "    scheduler_rlrop = None\n",
    "\n",
    "\n",
    "    L, A, LR, BLE, BAE, _, _ = fit(\n",
    "        model=model, \n",
    "        model_name=model_name,\n",
    "        optimizer=optimizer, \n",
    "        scheduler_oclr=scheduler_oclr,\n",
    "        scheduler_rlrop=scheduler_rlrop,\n",
    "        epochs=cfg.epochs, \n",
    "        early_stopping_patience=cfg.early_stopping, \n",
    "        dataloaders=dataloaders, \n",
    "        device=cfg.device,\n",
    "        save_path=cfg.save_path,\n",
    "        fold=None,\n",
    "        verbose=True\n",
    "    )\n",
    "    \n",
    "    breaker()\n",
    "    show_loss_graphs(L)\n",
    "    breaker()\n",
    "    show_accuracy_graphs(A)\n",
    "    breaker()\n",
    "    if scheduler_oclr:\n",
    "        show_lr_graph(LR)\n",
    "        breaker()\n",
    "    \n",
    "    BLEs.append(BLE)\n",
    "    BAEs.append(BAE)"
   ]
  },
  {
   "cell_type": "markdown",
   "id": "11e7be80",
   "metadata": {
    "papermill": {
     "duration": 0.006122,
     "end_time": "2022-07-18T10:19:47.447010",
     "exception": false,
     "start_time": "2022-07-18T10:19:47.440888",
     "status": "completed"
    },
    "tags": []
   },
   "source": [
    "### **Test Set Evalutaion**"
   ]
  },
  {
   "cell_type": "code",
   "execution_count": 10,
   "id": "e587fb85",
   "metadata": {
    "execution": {
     "iopub.execute_input": "2022-07-18T10:19:47.460707Z",
     "iopub.status.busy": "2022-07-18T10:19:47.460112Z",
     "iopub.status.idle": "2022-07-18T10:19:47.471706Z",
     "shell.execute_reply": "2022-07-18T10:19:47.470809Z"
    },
    "papermill": {
     "duration": 0.020736,
     "end_time": "2022-07-18T10:19:47.473757",
     "exception": false,
     "start_time": "2022-07-18T10:19:47.453021",
     "status": "completed"
    },
    "tags": []
   },
   "outputs": [],
   "source": [
    "def get_scores(y_true: np.ndarray, y_pred: np.ndarray) -> tuple:\n",
    "    accuracy = accuracy_score(y_pred, y_true)\n",
    "    try:\n",
    "        auc = roc_auc_score(y_pred, y_true)\n",
    "    except:\n",
    "        auc = 0\n",
    "    precision, recall, f_score, _ = precision_recall_fscore_support(y_pred, y_true)\n",
    "\n",
    "    return accuracy, auc, precision, recall, f_score\n",
    "\n",
    "\n",
    "def print_scores(\n",
    "    accuracy: float, \n",
    "    auc: float, \n",
    "    precision: np.ndarray, \n",
    "    recall: np.ndarray, \n",
    "    f_score: np.ndarray\n",
    ") -> None:\n",
    "    print(f\"Accuracy  : {accuracy:.5f}\")\n",
    "    print(f\"ROC-AUC   : {auc:.5f}\")\n",
    "    print(f\"Precision : {precision}\")\n",
    "    print(f\"Recall    : {recall}\")\n",
    "    print(f\"F-Score   : {f_score}\")\n",
    "\n",
    "\n",
    "def predict_batch(model=None, dataloader=None, path=None, device=None) -> np.ndarray:\n",
    "    model.load_state_dict(torch.load(path, map_location=device)[\"model_state_dict\"])\n",
    "    model.to(device)    \n",
    "    model.eval()\n",
    "    \n",
    "    y_pred = torch.zeros(1, 1).to(device)\n",
    "    for X in dataloader:\n",
    "        X = X.to(device)\n",
    "        with torch.no_grad():\n",
    "            output = torch.sigmoid(model(X))\n",
    "        y_pred = torch.cat((y_pred, output.view(-1, 1)), dim=0)\n",
    "    \n",
    "    y_pred[y_pred > 0.5] = 1\n",
    "    y_pred[y_pred <= 0.5] = 0\n",
    "    \n",
    "    return y_pred[1:].detach().cpu().numpy().astype(\"uint8\")"
   ]
  },
  {
   "cell_type": "code",
   "execution_count": 11,
   "id": "5be28464",
   "metadata": {
    "execution": {
     "iopub.execute_input": "2022-07-18T10:19:47.488294Z",
     "iopub.status.busy": "2022-07-18T10:19:47.486894Z",
     "iopub.status.idle": "2022-07-18T10:19:47.500775Z",
     "shell.execute_reply": "2022-07-18T10:19:47.499903Z"
    },
    "papermill": {
     "duration": 0.022944,
     "end_time": "2022-07-18T10:19:47.502801",
     "exception": false,
     "start_time": "2022-07-18T10:19:47.479857",
     "status": "completed"
    },
    "tags": []
   },
   "outputs": [],
   "source": [
    "ts_df = pd.read_csv(\"../input/cxr-dataframe/train.csv\")\n",
    "\n",
    "ts_filenames = ts_df.filenames.copy().values\n",
    "ts_labels = ts_df.label.copy().values"
   ]
  },
  {
   "cell_type": "code",
   "execution_count": 12,
   "id": "022660a6",
   "metadata": {
    "execution": {
     "iopub.execute_input": "2022-07-18T10:19:47.516290Z",
     "iopub.status.busy": "2022-07-18T10:19:47.516043Z",
     "iopub.status.idle": "2022-07-18T10:21:39.048194Z",
     "shell.execute_reply": "2022-07-18T10:21:39.047099Z"
    },
    "papermill": {
     "duration": 111.54969,
     "end_time": "2022-07-18T10:21:39.058393",
     "exception": false,
     "start_time": "2022-07-18T10:19:47.508703",
     "status": "completed"
    },
    "tags": []
   },
   "outputs": [
    {
     "name": "stdout",
     "output_type": "stream",
     "text": [
      "\n",
      "**************************************************\n",
      "\n",
      "RESNET34\n",
      "\n",
      "Accuracy  : 0.92068\n",
      "ROC-AUC   : 0.94024\n",
      "Precision : [0.71312083 0.99278908]\n",
      "Recall    : [0.97171717 0.90876945]\n",
      "F-Score   : [0.82257375 0.94892308]\n",
      "\n",
      "**************************************************\n",
      "\n"
     ]
    }
   ],
   "source": [
    "ts_data_setup = DS(\n",
    "    filenames=ts_filenames,\n",
    "    labels=None,\n",
    "    size=cfg.size,\n",
    "    transform=cfg.transform\n",
    ")\n",
    "ts_data = DL(ts_data_setup, batch_size=cfg.batch_size, shuffle=False)\n",
    "\n",
    "breaker()\n",
    "for model_name in model_names:\n",
    "    model = Model(model_name=model_name).to(cfg.device)\n",
    "    \n",
    "    model_path = f\"saves/{model_name}_ble_state.pt\"\n",
    "\n",
    "    y_pred = predict_batch(\n",
    "        model=model, \n",
    "        dataloader=ts_data, \n",
    "        path=model_path, \n",
    "        device=cfg.device\n",
    "    )\n",
    "    \n",
    "    accuracy, auc, precision, recall, f_score = get_scores(ts_labels, y_pred)\n",
    "    print(f\"{model_name.upper()}\\n\")\n",
    "    print_scores(accuracy, auc, precision, recall, f_score)\n",
    "    breaker()"
   ]
  }
 ],
 "metadata": {
  "kernelspec": {
   "display_name": "Python 3",
   "language": "python",
   "name": "python3"
  },
  "language_info": {
   "codemirror_mode": {
    "name": "ipython",
    "version": 3
   },
   "file_extension": ".py",
   "mimetype": "text/x-python",
   "name": "python",
   "nbconvert_exporter": "python",
   "pygments_lexer": "ipython3",
   "version": "3.7.12"
  },
  "papermill": {
   "default_parameters": {},
   "duration": 511.322859,
   "end_time": "2022-07-18T10:21:40.894414",
   "environment_variables": {},
   "exception": null,
   "input_path": "__notebook__.ipynb",
   "output_path": "__notebook__.ipynb",
   "parameters": {},
   "start_time": "2022-07-18T10:13:09.571555",
   "version": "2.3.4"
  }
 },
 "nbformat": 4,
 "nbformat_minor": 5
}
