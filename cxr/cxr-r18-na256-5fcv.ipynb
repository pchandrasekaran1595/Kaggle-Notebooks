{
 "cells": [
  {
   "cell_type": "markdown",
   "id": "a4149c31",
   "metadata": {
    "_cell_guid": "b1076dfc-b9ad-4769-8c92-a6c4dae69d19",
    "_uuid": "8f2839f25d086af736a60e9eeb907d3b93b6e0e5",
    "papermill": {
     "duration": 0.017148,
     "end_time": "2022-04-26T05:36:48.288475",
     "exception": false,
     "start_time": "2022-04-26T05:36:48.271327",
     "status": "completed"
    },
    "tags": []
   },
   "source": [
    "###### Library Imports"
   ]
  },
  {
   "cell_type": "code",
   "execution_count": 1,
   "id": "723e2bdd",
   "metadata": {
    "execution": {
     "iopub.execute_input": "2022-04-26T05:36:48.325791Z",
     "iopub.status.busy": "2022-04-26T05:36:48.325136Z",
     "iopub.status.idle": "2022-04-26T05:36:50.739742Z",
     "shell.execute_reply": "2022-04-26T05:36:50.738992Z",
     "shell.execute_reply.started": "2022-04-09T01:18:45.162484Z"
    },
    "papermill": {
     "duration": 2.438567,
     "end_time": "2022-04-26T05:36:50.739891",
     "exception": false,
     "start_time": "2022-04-26T05:36:48.301324",
     "status": "completed"
    },
    "tags": []
   },
   "outputs": [],
   "source": [
    "import os\n",
    "import re\n",
    "import torch\n",
    "import numpy as np\n",
    "import pandas as pd\n",
    "import matplotlib.pyplot as plt\n",
    "\n",
    "from time import time\n",
    "from torch import nn, optim\n",
    "from torch.utils.data import Dataset\n",
    "from torch.utils.data import DataLoader as DL\n",
    "from torchvision import models, transforms\n",
    "\n",
    "from sklearn.model_selection import KFold\n",
    "from sklearn.preprocessing import LabelEncoder\n",
    "from sklearn.metrics import accuracy_score, \\\n",
    "                            precision_recall_fscore_support, \\\n",
    "                            roc_auc_score, \\\n",
    "                            classification_report, \\\n",
    "                            confusion_matrix"
   ]
  },
  {
   "cell_type": "markdown",
   "id": "57cca884",
   "metadata": {
    "papermill": {
     "duration": 0.012834,
     "end_time": "2022-04-26T05:36:50.765802",
     "exception": false,
     "start_time": "2022-04-26T05:36:50.752968",
     "status": "completed"
    },
    "tags": []
   },
   "source": [
    "### **Utilities**"
   ]
  },
  {
   "cell_type": "code",
   "execution_count": 2,
   "id": "321c618d",
   "metadata": {
    "execution": {
     "iopub.execute_input": "2022-04-26T05:36:50.804916Z",
     "iopub.status.busy": "2022-04-26T05:36:50.799615Z",
     "iopub.status.idle": "2022-04-26T05:36:50.807939Z",
     "shell.execute_reply": "2022-04-26T05:36:50.808349Z",
     "shell.execute_reply.started": "2022-04-09T01:18:47.512362Z"
    },
    "papermill": {
     "duration": 0.029574,
     "end_time": "2022-04-26T05:36:50.808482",
     "exception": false,
     "start_time": "2022-04-26T05:36:50.778908",
     "status": "completed"
    },
    "tags": []
   },
   "outputs": [],
   "source": [
    "SEED = 42\n",
    "SIZE = 256\n",
    "\n",
    "def breaker(num: int=50, char: str=\"*\") -> None:\n",
    "    print(\"\\n\" + num*char + \"\\n\")\n",
    "\n",
    "\n",
    "def show_graphs(L: list, A: list) -> None:\n",
    "    TL, VL, TA, VA = [], [], [], []\n",
    "    for i in range(len(L)):\n",
    "        TL.append(L[i][\"train\"])\n",
    "        VL.append(L[i][\"valid\"])\n",
    "        TA.append(A[i][\"train\"])\n",
    "        VA.append(A[i][\"valid\"])\n",
    "    x_Axis = np.arange(1, len(TL) + 1)\n",
    "    plt.figure(figsize=(8, 6))\n",
    "    plt.subplot(1, 2, 1)\n",
    "    plt.plot(x_Axis, TL, \"r\", label=\"Train\")\n",
    "    plt.plot(x_Axis, VL, \"b\", label=\"Valid\")\n",
    "    plt.legend()\n",
    "    plt.grid()\n",
    "    plt.title(\"Loss Graph\")\n",
    "    plt.subplot(1, 2, 2)\n",
    "    plt.plot(x_Axis, TA, \"r\", label=\"Train\")\n",
    "    plt.plot(x_Axis, VA, \"b\", label=\"Valid\")\n",
    "    plt.legend()\n",
    "    plt.grid()\n",
    "    plt.title(\"Accuracy Graph\")\n",
    "    plt.show()\n",
    "\n",
    "    \n",
    "def get_scores(y_true: np.ndarray, y_pred: np.ndarray) -> tuple:\n",
    "    accuracy = accuracy_score(y_pred, y_true)\n",
    "    try:\n",
    "        auc = roc_auc_score(y_pred, y_true)\n",
    "    except:\n",
    "        auc = 0\n",
    "    precision, recall, f_score, _ = precision_recall_fscore_support(y_pred, y_true)\n",
    "\n",
    "    return accuracy, auc, precision, recall, f_score\n",
    "\n",
    "\n",
    "def print_scores(accuracy: float, auc: float, precision: np.ndarray, recall: np.ndarray, f_score: np.ndarray) -> None:\n",
    "    print(f\"Accuracy  : {accuracy:.5f}\")\n",
    "    print(f\"ROC-AUC   : {auc:.5f}\")\n",
    "    print(f\"Precision : {precision}\")\n",
    "    print(f\"Recall    : {recall}\")\n",
    "    print(f\"F-Score   : {f_score}\")"
   ]
  },
  {
   "cell_type": "markdown",
   "id": "02c6bb58",
   "metadata": {
    "papermill": {
     "duration": 0.012297,
     "end_time": "2022-04-26T05:36:50.833650",
     "exception": false,
     "start_time": "2022-04-26T05:36:50.821353",
     "status": "completed"
    },
    "tags": []
   },
   "source": [
    "### **Configuration**"
   ]
  },
  {
   "cell_type": "code",
   "execution_count": 3,
   "id": "b7989291",
   "metadata": {
    "execution": {
     "iopub.execute_input": "2022-04-26T05:36:50.928037Z",
     "iopub.status.busy": "2022-04-26T05:36:50.927330Z",
     "iopub.status.idle": "2022-04-26T05:36:50.929976Z",
     "shell.execute_reply": "2022-04-26T05:36:50.929554Z",
     "shell.execute_reply.started": "2022-04-09T01:36:52.976989Z"
    },
    "papermill": {
     "duration": 0.083844,
     "end_time": "2022-04-26T05:36:50.930084",
     "exception": false,
     "start_time": "2022-04-26T05:36:50.846240",
     "status": "completed"
    },
    "tags": []
   },
   "outputs": [],
   "source": [
    "class CFG(object):\n",
    "    def __init__(self, \n",
    "                 seed: int = 42,\n",
    "                 n_splits: int = 5,\n",
    "                 batch_size: int = 16,\n",
    "                 epochs: int = 25,\n",
    "                 early_stopping: int = 5,\n",
    "                 lr: float = 1e-4,\n",
    "                 wd: float = 0.0,\n",
    "                 max_lr: float = 1e-3,\n",
    "                 pct_start: float = 0.2,\n",
    "                 steps_per_epoch: int = 100,\n",
    "                 div_factor: int = 1e3, \n",
    "                 final_div_factor: float = 1e3,\n",
    "                 ):\n",
    "        \n",
    "        self.seed = seed\n",
    "        self.n_splits = n_splits\n",
    "        self.batch_size = batch_size\n",
    "        self.epochs = epochs\n",
    "        self.early_stopping = early_stopping\n",
    "        self.lr = lr\n",
    "        self.wd = wd\n",
    "        self.max_lr = max_lr\n",
    "        self.pct_start = pct_start\n",
    "        self.steps_per_epoch = steps_per_epoch\n",
    "        self.div_factor = div_factor\n",
    "        self.final_div_factor = final_div_factor\n",
    "        self.device = torch.device(\"cuda\" if torch.cuda.is_available() else \"cpu\")\n",
    "        self.transform = transforms.Compose([transforms.ToTensor(),\n",
    "                                transforms.Normalize([0.48232, 0.48232, 0.48232],\n",
    "                                                     [0.23703, 0.23703, 0.23703]),\n",
    "                                ])\n",
    "        self.save_path = \"saves\"\n",
    "        if not os.path.exists(self.save_path): os.makedirs(self.save_path)\n",
    "    \n",
    "cfg = CFG(seed=SEED)"
   ]
  },
  {
   "cell_type": "markdown",
   "id": "cd5d32d4",
   "metadata": {
    "papermill": {
     "duration": 0.012319,
     "end_time": "2022-04-26T05:36:50.955115",
     "exception": false,
     "start_time": "2022-04-26T05:36:50.942796",
     "status": "completed"
    },
    "tags": []
   },
   "source": [
    "### **Dataset Template**"
   ]
  },
  {
   "cell_type": "code",
   "execution_count": 4,
   "id": "c9c4a257",
   "metadata": {
    "execution": {
     "iopub.execute_input": "2022-04-26T05:36:50.986459Z",
     "iopub.status.busy": "2022-04-26T05:36:50.985706Z",
     "iopub.status.idle": "2022-04-26T05:36:50.988222Z",
     "shell.execute_reply": "2022-04-26T05:36:50.987757Z",
     "shell.execute_reply.started": "2022-04-09T01:18:47.593512Z"
    },
    "papermill": {
     "duration": 0.020687,
     "end_time": "2022-04-26T05:36:50.988335",
     "exception": false,
     "start_time": "2022-04-26T05:36:50.967648",
     "status": "completed"
    },
    "tags": []
   },
   "outputs": [],
   "source": [
    "class DS(Dataset):\n",
    "    def __init__(self, images: np.ndarray, labels: np.ndarray = None, transform=None):\n",
    "        self.images = images\n",
    "        self.labels = labels\n",
    "        self.transform = transform\n",
    "    \n",
    "    def __len__(self):\n",
    "        return self.images.shape[0]\n",
    "    \n",
    "    def __getitem__(self, idx):\n",
    "        if self.labels is not None:\n",
    "            return self.transform(self.images[idx]), torch.FloatTensor(self.labels[idx])\n",
    "        else:\n",
    "            return self.transform(self.images[idx])"
   ]
  },
  {
   "cell_type": "markdown",
   "id": "4116fdc7",
   "metadata": {
    "papermill": {
     "duration": 0.012342,
     "end_time": "2022-04-26T05:36:51.013151",
     "exception": false,
     "start_time": "2022-04-26T05:36:51.000809",
     "status": "completed"
    },
    "tags": []
   },
   "source": [
    "### **Model**"
   ]
  },
  {
   "cell_type": "code",
   "execution_count": 5,
   "id": "70078a2a",
   "metadata": {
    "execution": {
     "iopub.execute_input": "2022-04-26T05:36:51.043751Z",
     "iopub.status.busy": "2022-04-26T05:36:51.042950Z",
     "iopub.status.idle": "2022-04-26T05:36:51.045783Z",
     "shell.execute_reply": "2022-04-26T05:36:51.046215Z",
     "shell.execute_reply.started": "2022-04-09T01:18:47.606516Z"
    },
    "papermill": {
     "duration": 0.020699,
     "end_time": "2022-04-26T05:36:51.046341",
     "exception": false,
     "start_time": "2022-04-26T05:36:51.025642",
     "status": "completed"
    },
    "tags": []
   },
   "outputs": [],
   "source": [
    "class Model(nn.Module):\n",
    "    def __init__(self):\n",
    "        super(Model, self).__init__()\n",
    "\n",
    "        self.model = models.resnet18(pretrained=True, progress=True)\n",
    "        self.model.fc = nn.Linear(in_features=self.model.fc.in_features, out_features=1)\n",
    "\n",
    "    def forward(self, x):\n",
    "        return self.model(x)"
   ]
  },
  {
   "cell_type": "markdown",
   "id": "dfa392fe",
   "metadata": {
    "papermill": {
     "duration": 0.013656,
     "end_time": "2022-04-26T05:36:51.072969",
     "exception": false,
     "start_time": "2022-04-26T05:36:51.059313",
     "status": "completed"
    },
    "tags": []
   },
   "source": [
    "### Fit and Predict Helper"
   ]
  },
  {
   "cell_type": "code",
   "execution_count": 6,
   "id": "62e6503a",
   "metadata": {
    "execution": {
     "iopub.execute_input": "2022-04-26T05:36:51.121759Z",
     "iopub.status.busy": "2022-04-26T05:36:51.111086Z",
     "iopub.status.idle": "2022-04-26T05:36:51.124284Z",
     "shell.execute_reply": "2022-04-26T05:36:51.123599Z",
     "shell.execute_reply.started": "2022-04-09T01:18:47.615986Z"
    },
    "papermill": {
     "duration": 0.038752,
     "end_time": "2022-04-26T05:36:51.124394",
     "exception": false,
     "start_time": "2022-04-26T05:36:51.085642",
     "status": "completed"
    },
    "tags": []
   },
   "outputs": [],
   "source": [
    "def fit(model=None, \n",
    "        optimizer=None, \n",
    "        scheduler=None, \n",
    "        epochs=None, \n",
    "        early_stopping_patience=None, \n",
    "        dataloaders=None, \n",
    "        fold=None, \n",
    "        save_path=None, \n",
    "        device=None,\n",
    "        verbose=False) -> tuple:\n",
    "    \n",
    "    def get_accuracy(y_pred, y_true):\n",
    "        y_pred = torch.sigmoid(y_pred)\n",
    "        \n",
    "        y_pred[y_pred > 0.5] = 1\n",
    "        y_pred[y_pred <= 0.5] = 0\n",
    "        \n",
    "        return torch.count_nonzero(y_pred == y_true).item() / len(y_pred)\n",
    "    \n",
    "    if verbose:\n",
    "        breaker()\n",
    "        if fold: print(f\"Training Fold {fold}...\")\n",
    "        else: print(\"Training ...\")\n",
    "        breaker()\n",
    "        \n",
    "    bestLoss, bestAccs = {\"train\" : np.inf, \"valid\" : np.inf}, {\"train\" : 0.0, \"valid\" : 0.0}\n",
    "    Losses, LRs, Accuracies = [], [], []\n",
    "    if fold: name = f\"state_fold_{fold}.pt\"\n",
    "    else: name = \"state.pt\"\n",
    "\n",
    "    start_time = time()\n",
    "    for e in range(epochs):\n",
    "        e_st = time()\n",
    "        epochLoss, epochAccs = {\"train\" : 0.0, \"valid\" : 0.0}, {\"train\" : 0.0, \"valid\" : 0.0}\n",
    "\n",
    "        for phase in [\"train\", \"valid\"]:\n",
    "            if phase == \"train\":\n",
    "                model.train()\n",
    "            else:\n",
    "                model.eval()\n",
    "            \n",
    "            lossPerPass, accsPerPass = [], []\n",
    "\n",
    "            for X, y in dataloaders[phase]:\n",
    "                X, y = X.to(device), y.to(device)\n",
    "\n",
    "                optimizer.zero_grad()\n",
    "                with torch.set_grad_enabled(phase == \"train\"):\n",
    "                    output = model(X)\n",
    "                    loss = torch.nn.BCEWithLogitsLoss()(output, y)\n",
    "                    if phase == \"train\":\n",
    "                        loss.backward()\n",
    "                        optimizer.step()\n",
    "                        if scheduler: scheduler.step()\n",
    "                lossPerPass.append(loss.item())\n",
    "                accsPerPass.append(get_accuracy(output, y))\n",
    "            epochLoss[phase] = np.mean(np.array(lossPerPass))\n",
    "            epochAccs[phase] = np.mean(np.array(accsPerPass))\n",
    "        LRs.append(scheduler.get_last_lr())\n",
    "        Losses.append(epochLoss)\n",
    "        Accuracies.append(epochAccs)\n",
    "        \n",
    "        if early_stopping_patience:\n",
    "            if epochLoss[\"valid\"] < bestLoss[\"valid\"]:\n",
    "                bestLoss = epochLoss\n",
    "                BLE = e + 1\n",
    "                torch.save({\"model_state_dict\"     : model.state_dict(),\n",
    "                            \"optim_state_dict\"     : optimizer.state_dict()},\n",
    "                           os.path.join(save_path, name))\n",
    "                early_stopping_step = 0\n",
    "            else:\n",
    "                early_stopping_step += 1\n",
    "                if early_stopping_step > early_stopping_patience:\n",
    "                    print(\"\\nEarly Stopping at Epoch {}\".format(e + 1))\n",
    "                    break\n",
    "        \n",
    "        if epochLoss[\"valid\"] < bestLoss[\"valid\"]:\n",
    "            bestLoss = epochLoss\n",
    "            BLE = e + 1\n",
    "            torch.save({\"model_state_dict\"     : model.state_dict(),\n",
    "                        \"optim_state_dict\"     : optimizer.state_dict()},\n",
    "                        os.path.join(save_path, name))\n",
    "        \n",
    "        if epochAccs[\"valid\"] > bestAccs[\"valid\"]:\n",
    "            bestAccs = epochAccs\n",
    "            BAE = e + 1\n",
    "        \n",
    "        # if scheduler: scheduler.step(epochLoss[\"valid\"])\n",
    "        \n",
    "        if verbose:\n",
    "            print(\"Epoch: {} | Train Loss: {:.5f} | Valid Loss: {:.5f} | Train Accs: {:.5f} | Valid Accs: {:.5f} | Time: {:.2f} seconds\".format(e+1, \n",
    "                                                                       epochLoss[\"train\"], epochLoss[\"valid\"], \n",
    "                                                                       epochAccs[\"train\"], epochAccs[\"valid\"], \n",
    "                                                                       time()-e_st))\n",
    "\n",
    "    if verbose:                                           \n",
    "        breaker()\n",
    "        print(f\"Best Validation Loss at Epoch {BLE}\")\n",
    "        breaker()\n",
    "        print(f\"Best Validation Accs at Epoch {BAE}\")\n",
    "        breaker()\n",
    "        print(\"Time Taken [{} Epochs] : {:.2f} minutes\".format(len(Losses), (time()-start_time)/60))\n",
    "    \n",
    "    return Losses, Accuracies, LRs, BLE, BAE, name\n",
    "\n",
    "\n",
    "def predict(model=None, dataloader=None, path=None, device=None) -> np.ndarray:\n",
    "    model.load_state_dict(torch.load(path, map_location=device)[\"model_state_dict\"])\n",
    "    model.to(device)    \n",
    "    model.eval()\n",
    "    \n",
    "    y_pred = torch.zeros(1, 1).to(device)\n",
    "    \n",
    "    for X in dataloader:\n",
    "        X = X.to(device)\n",
    "        with torch.no_grad():\n",
    "            output = torch.sigmoid(model(X))\n",
    "        y_pred = torch.cat((y_pred, output.view(-1, 1)), dim=0)\n",
    "    \n",
    "    y_pred[y_pred > 0.5] = 1\n",
    "    y_pred[y_pred <= 0.5] = 0\n",
    "    \n",
    "    return y_pred[1:].detach().cpu().numpy()"
   ]
  },
  {
   "cell_type": "markdown",
   "id": "b3b79a22",
   "metadata": {
    "papermill": {
     "duration": 0.012376,
     "end_time": "2022-04-26T05:36:51.149280",
     "exception": false,
     "start_time": "2022-04-26T05:36:51.136904",
     "status": "completed"
    },
    "tags": []
   },
   "source": [
    "### **Train**"
   ]
  },
  {
   "cell_type": "code",
   "execution_count": 7,
   "id": "f01ab8b4",
   "metadata": {
    "execution": {
     "iopub.execute_input": "2022-04-26T05:36:51.178042Z",
     "iopub.status.busy": "2022-04-26T05:36:51.177560Z",
     "iopub.status.idle": "2022-04-26T05:37:00.908951Z",
     "shell.execute_reply": "2022-04-26T05:37:00.908228Z",
     "shell.execute_reply.started": "2022-04-09T01:18:47.643848Z"
    },
    "papermill": {
     "duration": 9.747142,
     "end_time": "2022-04-26T05:37:00.909181",
     "exception": false,
     "start_time": "2022-04-26T05:36:51.162039",
     "status": "completed"
    },
    "tags": []
   },
   "outputs": [],
   "source": [
    "images = np.load(f\"../input/cxr-images-{SIZE}/train_images_{SIZE}.npy\")\n",
    "labels = np.load(f\"../input/cxr-images-{SIZE}/train_targets_{SIZE}.npy\")"
   ]
  },
  {
   "cell_type": "code",
   "execution_count": 8,
   "id": "d2c3f22c",
   "metadata": {
    "execution": {
     "iopub.execute_input": "2022-04-26T05:37:00.972680Z",
     "iopub.status.busy": "2022-04-26T05:37:00.970550Z",
     "iopub.status.idle": "2022-04-26T06:06:59.251826Z",
     "shell.execute_reply": "2022-04-26T06:06:59.252305Z",
     "shell.execute_reply.started": "2022-04-09T01:36:59.635267Z"
    },
    "papermill": {
     "duration": 1798.317721,
     "end_time": "2022-04-26T06:06:59.252480",
     "exception": false,
     "start_time": "2022-04-26T05:37:00.934759",
     "status": "completed"
    },
    "tags": []
   },
   "outputs": [
    {
     "name": "stderr",
     "output_type": "stream",
     "text": [
      "Downloading: \"https://download.pytorch.org/models/resnet18-f37072fd.pth\" to /root/.cache/torch/hub/checkpoints/resnet18-f37072fd.pth\n"
     ]
    },
    {
     "data": {
      "application/vnd.jupyter.widget-view+json": {
       "model_id": "e6908bdbddf34ef7b46abbf643e549d6",
       "version_major": 2,
       "version_minor": 0
      },
      "text/plain": [
       "  0%|          | 0.00/44.7M [00:00<?, ?B/s]"
      ]
     },
     "metadata": {},
     "output_type": "display_data"
    },
    {
     "name": "stdout",
     "output_type": "stream",
     "text": [
      "\n",
      "**************************************************\n",
      "\n",
      "Training Fold 1...\n",
      "\n",
      "**************************************************\n",
      "\n",
      "Epoch: 1 | Train Loss: 0.27743 | Valid Loss: 0.11657 | Train Accs: 0.88693 | Valid Accs: 0.96023 | Time: 25.29 seconds\n",
      "Epoch: 2 | Train Loss: 0.10379 | Valid Loss: 0.13707 | Train Accs: 0.95979 | Valid Accs: 0.93845 | Time: 19.45 seconds\n",
      "Epoch: 3 | Train Loss: 0.08466 | Valid Loss: 0.05247 | Train Accs: 0.97023 | Valid Accs: 0.98458 | Time: 19.75 seconds\n",
      "Epoch: 4 | Train Loss: 0.07456 | Valid Loss: 0.08991 | Train Accs: 0.97304 | Valid Accs: 0.96780 | Time: 19.41 seconds\n",
      "Epoch: 5 | Train Loss: 0.04815 | Valid Loss: 0.04571 | Train Accs: 0.98187 | Valid Accs: 0.98390 | Time: 19.84 seconds\n",
      "Epoch: 6 | Train Loss: 0.04986 | Valid Loss: 0.04866 | Train Accs: 0.98168 | Valid Accs: 0.98106 | Time: 19.49 seconds\n",
      "Epoch: 7 | Train Loss: 0.03031 | Valid Loss: 0.27708 | Train Accs: 0.98974 | Valid Accs: 0.88961 | Time: 19.51 seconds\n",
      "Epoch: 8 | Train Loss: 0.03074 | Valid Loss: 0.03548 | Train Accs: 0.98927 | Valid Accs: 0.98931 | Time: 19.74 seconds\n",
      "Epoch: 9 | Train Loss: 0.02171 | Valid Loss: 0.03678 | Train Accs: 0.99308 | Valid Accs: 0.98485 | Time: 19.36 seconds\n",
      "Epoch: 10 | Train Loss: 0.01889 | Valid Loss: 0.16922 | Train Accs: 0.99242 | Valid Accs: 0.93642 | Time: 19.53 seconds\n",
      "Epoch: 11 | Train Loss: 0.01844 | Valid Loss: 0.07001 | Train Accs: 0.99356 | Valid Accs: 0.97538 | Time: 19.39 seconds\n",
      "Epoch: 12 | Train Loss: 0.01492 | Valid Loss: 0.03407 | Train Accs: 0.99594 | Valid Accs: 0.99053 | Time: 19.79 seconds\n",
      "Epoch: 13 | Train Loss: 0.00447 | Valid Loss: 0.17734 | Train Accs: 0.99857 | Valid Accs: 0.93006 | Time: 19.70 seconds\n",
      "Epoch: 14 | Train Loss: 0.00647 | Valid Loss: 0.03181 | Train Accs: 0.99809 | Valid Accs: 0.98864 | Time: 19.99 seconds\n",
      "Epoch: 15 | Train Loss: 0.00172 | Valid Loss: 0.03464 | Train Accs: 0.99976 | Valid Accs: 0.99053 | Time: 19.77 seconds\n",
      "Epoch: 16 | Train Loss: 0.00152 | Valid Loss: 0.03538 | Train Accs: 0.99976 | Valid Accs: 0.99053 | Time: 19.57 seconds\n",
      "Epoch: 17 | Train Loss: 0.00049 | Valid Loss: 0.03347 | Train Accs: 1.00000 | Valid Accs: 0.99053 | Time: 19.35 seconds\n",
      "Epoch: 18 | Train Loss: 0.00039 | Valid Loss: 0.03546 | Train Accs: 1.00000 | Valid Accs: 0.99053 | Time: 19.57 seconds\n",
      "Epoch: 19 | Train Loss: 0.00041 | Valid Loss: 0.03358 | Train Accs: 1.00000 | Valid Accs: 0.99053 | Time: 19.37 seconds\n",
      "\n",
      "Early Stopping at Epoch 20\n",
      "\n",
      "**************************************************\n",
      "\n",
      "Best Validation Loss at Epoch 14\n",
      "\n",
      "**************************************************\n",
      "\n",
      "Best Validation Accs at Epoch 12\n",
      "\n",
      "**************************************************\n",
      "\n",
      "Time Taken [20 Epochs] : 6.62 minutes\n",
      "\n",
      "**************************************************\n",
      "\n"
     ]
    },
    {
     "data": {
      "image/png": "[encoded data removed]",
      "text/plain": [
       "<Figure size 576x432 with 2 Axes>"
      ]
     },
     "metadata": {
      "needs_background": "light"
     },
     "output_type": "display_data"
    },
    {
     "name": "stdout",
     "output_type": "stream",
     "text": [
      "\n",
      "**************************************************\n",
      "\n",
      "Training Fold 2...\n",
      "\n",
      "**************************************************\n",
      "\n",
      "Epoch: 1 | Train Loss: 0.32465 | Valid Loss: 0.10063 | Train Accs: 0.85085 | Valid Accs: 0.96831 | Time: 19.13 seconds\n",
      "Epoch: 2 | Train Loss: 0.06855 | Valid Loss: 0.04383 | Train Accs: 0.97301 | Valid Accs: 0.97873 | Time: 19.05 seconds\n",
      "Epoch: 3 | Train Loss: 0.05064 | Valid Loss: 0.08910 | Train Accs: 0.98130 | Valid Accs: 0.96780 | Time: 18.93 seconds\n",
      "Epoch: 4 | Train Loss: 0.04637 | Valid Loss: 0.12179 | Train Accs: 0.98453 | Valid Accs: 0.95090 | Time: 18.76 seconds\n",
      "Epoch: 5 | Train Loss: 0.04075 | Valid Loss: 0.05242 | Train Accs: 0.98674 | Valid Accs: 0.98390 | Time: 18.90 seconds\n",
      "Epoch: 6 | Train Loss: 0.01851 | Valid Loss: 0.03425 | Train Accs: 0.99384 | Valid Accs: 0.98769 | Time: 19.09 seconds\n",
      "Epoch: 7 | Train Loss: 0.00894 | Valid Loss: 0.02096 | Train Accs: 0.99763 | Valid Accs: 0.99337 | Time: 18.97 seconds\n",
      "Epoch: 8 | Train Loss: 0.00927 | Valid Loss: 0.03476 | Train Accs: 0.99566 | Valid Accs: 0.98368 | Time: 18.77 seconds\n",
      "Epoch: 9 | Train Loss: 0.02324 | Valid Loss: 0.09181 | Train Accs: 0.99053 | Valid Accs: 0.96788 | Time: 18.74 seconds\n",
      "Epoch: 10 | Train Loss: 0.01247 | Valid Loss: 0.03585 | Train Accs: 0.99550 | Valid Accs: 0.98747 | Time: 18.89 seconds\n",
      "Epoch: 11 | Train Loss: 0.00362 | Valid Loss: 0.02202 | Train Accs: 0.99882 | Valid Accs: 0.99242 | Time: 18.80 seconds\n",
      "Epoch: 12 | Train Loss: 0.00094 | Valid Loss: 0.01941 | Train Accs: 0.99976 | Valid Accs: 0.99432 | Time: 19.19 seconds\n",
      "Epoch: 13 | Train Loss: 0.00163 | Valid Loss: 0.02436 | Train Accs: 0.99953 | Valid Accs: 0.99337 | Time: 18.98 seconds\n",
      "Epoch: 14 | Train Loss: 0.00110 | Valid Loss: 0.02053 | Train Accs: 0.99976 | Valid Accs: 0.99621 | Time: 18.79 seconds\n",
      "Epoch: 15 | Train Loss: 0.00039 | Valid Loss: 0.02110 | Train Accs: 1.00000 | Valid Accs: 0.99527 | Time: 18.97 seconds\n",
      "Epoch: 16 | Train Loss: 0.00045 | Valid Loss: 0.01954 | Train Accs: 1.00000 | Valid Accs: 0.99716 | Time: 18.96 seconds\n",
      "Epoch: 17 | Train Loss: 0.00030 | Valid Loss: 0.01915 | Train Accs: 1.00000 | Valid Accs: 0.99621 | Time: 19.22 seconds\n",
      "Epoch: 18 | Train Loss: 0.00034 | Valid Loss: 0.01927 | Train Accs: 1.00000 | Valid Accs: 0.99621 | Time: 18.99 seconds\n",
      "Epoch: 19 | Train Loss: 0.00038 | Valid Loss: 0.01880 | Train Accs: 1.00000 | Valid Accs: 0.99716 | Time: 19.17 seconds\n",
      "Epoch: 20 | Train Loss: 0.00030 | Valid Loss: 0.01847 | Train Accs: 1.00000 | Valid Accs: 0.99716 | Time: 19.34 seconds\n",
      "\n",
      "**************************************************\n",
      "\n",
      "Best Validation Loss at Epoch 20\n",
      "\n",
      "**************************************************\n",
      "\n",
      "Best Validation Accs at Epoch 16\n",
      "\n",
      "**************************************************\n",
      "\n",
      "Time Taken [20 Epochs] : 6.33 minutes\n",
      "\n",
      "**************************************************\n",
      "\n"
     ]
    },
    {
     "data": {
      "image/png": "[encoded data removed]",
      "text/plain": [
       "<Figure size 576x432 with 2 Axes>"
      ]
     },
     "metadata": {
      "needs_background": "light"
     },
     "output_type": "display_data"
    },
    {
     "name": "stdout",
     "output_type": "stream",
     "text": [
      "\n",
      "**************************************************\n",
      "\n",
      "Training Fold 3...\n",
      "\n",
      "**************************************************\n",
      "\n",
      "Epoch: 1 | Train Loss: 0.33551 | Valid Loss: 0.09449 | Train Accs: 0.84972 | Valid Accs: 0.96277 | Time: 18.46 seconds\n",
      "Epoch: 2 | Train Loss: 0.05044 | Valid Loss: 1.83655 | Train Accs: 0.98201 | Valid Accs: 0.64583 | Time: 18.54 seconds\n",
      "Epoch: 3 | Train Loss: 0.05645 | Valid Loss: 0.14714 | Train Accs: 0.97803 | Valid Accs: 0.94508 | Time: 18.67 seconds\n",
      "Epoch: 4 | Train Loss: 0.04505 | Valid Loss: 0.03903 | Train Accs: 0.98461 | Valid Accs: 0.98410 | Time: 18.73 seconds\n",
      "Epoch: 5 | Train Loss: 0.02619 | Valid Loss: 0.63245 | Train Accs: 0.98982 | Valid Accs: 0.86269 | Time: 18.66 seconds\n",
      "Epoch: 6 | Train Loss: 0.02797 | Valid Loss: 0.03863 | Train Accs: 0.99053 | Valid Accs: 0.98599 | Time: 18.73 seconds\n",
      "Epoch: 7 | Train Loss: 0.01556 | Valid Loss: 0.14420 | Train Accs: 0.99408 | Valid Accs: 0.95265 | Time: 18.74 seconds\n",
      "Epoch: 8 | Train Loss: 0.00557 | Valid Loss: 0.02923 | Train Accs: 0.99834 | Valid Accs: 0.98719 | Time: 18.89 seconds\n",
      "Epoch: 9 | Train Loss: 0.00783 | Valid Loss: 0.02425 | Train Accs: 0.99692 | Valid Accs: 0.98839 | Time: 18.80 seconds\n",
      "Epoch: 10 | Train Loss: 0.00374 | Valid Loss: 0.02192 | Train Accs: 0.99929 | Valid Accs: 0.99312 | Time: 19.01 seconds\n",
      "Epoch: 11 | Train Loss: 0.00268 | Valid Loss: 0.01995 | Train Accs: 0.99929 | Valid Accs: 0.99218 | Time: 18.33 seconds\n",
      "Epoch: 12 | Train Loss: 0.01257 | Valid Loss: 0.04907 | Train Accs: 0.99702 | Valid Accs: 0.98151 | Time: 18.52 seconds\n",
      "Epoch: 13 | Train Loss: 0.03706 | Valid Loss: 0.05240 | Train Accs: 0.98674 | Valid Accs: 0.98031 | Time: 18.51 seconds\n",
      "Epoch: 14 | Train Loss: 0.00456 | Valid Loss: 0.02124 | Train Accs: 0.99905 | Valid Accs: 0.99193 | Time: 18.65 seconds\n",
      "Epoch: 15 | Train Loss: 0.00526 | Valid Loss: 0.01873 | Train Accs: 0.99815 | Valid Accs: 0.99123 | Time: 19.06 seconds\n",
      "Epoch: 16 | Train Loss: 0.00321 | Valid Loss: 0.01512 | Train Accs: 0.99929 | Valid Accs: 0.99621 | Time: 18.83 seconds\n",
      "Epoch: 17 | Train Loss: 0.00179 | Valid Loss: 0.01322 | Train Accs: 0.99976 | Valid Accs: 0.99527 | Time: 18.92 seconds\n",
      "Epoch: 18 | Train Loss: 0.00099 | Valid Loss: 0.01358 | Train Accs: 1.00000 | Valid Accs: 0.99432 | Time: 18.58 seconds\n",
      "Epoch: 19 | Train Loss: 0.00076 | Valid Loss: 0.01341 | Train Accs: 1.00000 | Valid Accs: 0.99527 | Time: 18.60 seconds\n",
      "Epoch: 20 | Train Loss: 0.00094 | Valid Loss: 0.01242 | Train Accs: 1.00000 | Valid Accs: 0.99432 | Time: 18.73 seconds\n",
      "\n",
      "**************************************************\n",
      "\n",
      "Best Validation Loss at Epoch 20\n",
      "\n",
      "**************************************************\n",
      "\n",
      "Best Validation Accs at Epoch 16\n",
      "\n",
      "**************************************************\n",
      "\n",
      "Time Taken [20 Epochs] : 6.23 minutes\n",
      "\n",
      "**************************************************\n",
      "\n"
     ]
    },
    {
     "data": {
      "image/png": "[encoded data removed]",
      "text/plain": [
       "<Figure size 576x432 with 2 Axes>"
      ]
     },
     "metadata": {
      "needs_background": "light"
     },
     "output_type": "display_data"
    },
    {
     "name": "stdout",
     "output_type": "stream",
     "text": [
      "\n",
      "**************************************************\n",
      "\n",
      "Training Fold 4...\n",
      "\n",
      "**************************************************\n",
      "\n",
      "Epoch: 1 | Train Loss: 0.32855 | Valid Loss: 0.05102 | Train Accs: 0.85374 | Valid Accs: 0.98271 | Time: 17.27 seconds\n",
      "Epoch: 2 | Train Loss: 0.05177 | Valid Loss: 0.07866 | Train Accs: 0.98106 | Valid Accs: 0.97677 | Time: 17.19 seconds\n",
      "Epoch: 3 | Train Loss: 0.05389 | Valid Loss: 0.08196 | Train Accs: 0.98224 | Valid Accs: 0.96945 | Time: 17.14 seconds\n",
      "Epoch: 4 | Train Loss: 0.04385 | Valid Loss: 0.04106 | Train Accs: 0.98438 | Valid Accs: 0.98385 | Time: 17.55 seconds\n",
      "Epoch: 5 | Train Loss: 0.02478 | Valid Loss: 0.04243 | Train Accs: 0.98982 | Valid Accs: 0.98221 | Time: 17.22 seconds\n",
      "Epoch: 6 | Train Loss: 0.01879 | Valid Loss: 0.11874 | Train Accs: 0.99408 | Valid Accs: 0.96661 | Time: 17.17 seconds\n",
      "Epoch: 7 | Train Loss: 0.01290 | Valid Loss: 0.03285 | Train Accs: 0.99645 | Valid Accs: 0.98694 | Time: 17.36 seconds\n",
      "Epoch: 8 | Train Loss: 0.00896 | Valid Loss: 0.06040 | Train Accs: 0.99692 | Valid Accs: 0.97578 | Time: 17.20 seconds\n",
      "Epoch: 9 | Train Loss: 0.00709 | Valid Loss: 0.04459 | Train Accs: 0.99763 | Valid Accs: 0.98390 | Time: 17.04 seconds\n",
      "Epoch: 10 | Train Loss: 0.00396 | Valid Loss: 0.06389 | Train Accs: 0.99882 | Valid Accs: 0.97767 | Time: 17.20 seconds\n",
      "Epoch: 11 | Train Loss: 0.00891 | Valid Loss: 0.12025 | Train Accs: 0.99669 | Valid Accs: 0.96780 | Time: 17.05 seconds\n",
      "Epoch: 12 | Train Loss: 0.01187 | Valid Loss: 0.05908 | Train Accs: 0.99839 | Valid Accs: 0.97742 | Time: 17.22 seconds\n",
      "Epoch: 13 | Train Loss: 0.03710 | Valid Loss: 0.03206 | Train Accs: 0.98627 | Valid Accs: 0.98555 | Time: 17.32 seconds\n",
      "Epoch: 14 | Train Loss: 0.00676 | Valid Loss: 0.02805 | Train Accs: 0.99697 | Valid Accs: 0.99028 | Time: 17.47 seconds\n",
      "Epoch: 15 | Train Loss: 0.00744 | Valid Loss: 0.03150 | Train Accs: 0.99811 | Valid Accs: 0.98764 | Time: 17.15 seconds\n",
      "Epoch: 16 | Train Loss: 0.00140 | Valid Loss: 0.02635 | Train Accs: 1.00000 | Valid Accs: 0.99003 | Time: 17.37 seconds\n",
      "Epoch: 17 | Train Loss: 0.00097 | Valid Loss: 0.02434 | Train Accs: 1.00000 | Valid Accs: 0.98908 | Time: 17.56 seconds\n",
      "Epoch: 18 | Train Loss: 0.00072 | Valid Loss: 0.02580 | Train Accs: 1.00000 | Valid Accs: 0.98908 | Time: 17.05 seconds\n",
      "Epoch: 19 | Train Loss: 0.00062 | Valid Loss: 0.02461 | Train Accs: 1.00000 | Valid Accs: 0.99242 | Time: 17.26 seconds\n",
      "Epoch: 20 | Train Loss: 0.00081 | Valid Loss: 0.02430 | Train Accs: 1.00000 | Valid Accs: 0.98908 | Time: 17.38 seconds\n",
      "\n",
      "**************************************************\n",
      "\n",
      "Best Validation Loss at Epoch 20\n",
      "\n",
      "**************************************************\n",
      "\n",
      "Best Validation Accs at Epoch 19\n",
      "\n",
      "**************************************************\n",
      "\n",
      "Time Taken [20 Epochs] : 5.75 minutes\n",
      "\n",
      "**************************************************\n",
      "\n"
     ]
    },
    {
     "data": {
      "image/png": "[encoded data removed]",
      "text/plain": [
       "<Figure size 576x432 with 2 Axes>"
      ]
     },
     "metadata": {
      "needs_background": "light"
     },
     "output_type": "display_data"
    },
    {
     "name": "stdout",
     "output_type": "stream",
     "text": [
      "\n",
      "**************************************************\n",
      "\n",
      "Training Fold 5...\n",
      "\n",
      "**************************************************\n",
      "\n",
      "Epoch: 1 | Train Loss: 0.33010 | Valid Loss: 0.05729 | Train Accs: 0.84706 | Valid Accs: 0.98176 | Time: 17.42 seconds\n",
      "Epoch: 2 | Train Loss: 0.04931 | Valid Loss: 0.07299 | Train Accs: 0.98201 | Valid Accs: 0.97892 | Time: 17.11 seconds\n",
      "Epoch: 3 | Train Loss: 0.05216 | Valid Loss: 0.35879 | Train Accs: 0.98177 | Valid Accs: 0.86458 | Time: 17.17 seconds\n",
      "Epoch: 4 | Train Loss: 0.04237 | Valid Loss: 0.18806 | Train Accs: 0.98532 | Valid Accs: 0.92673 | Time: 17.11 seconds\n",
      "Epoch: 5 | Train Loss: 0.02539 | Valid Loss: 0.03736 | Train Accs: 0.99077 | Valid Accs: 0.98649 | Time: 17.45 seconds\n",
      "Epoch: 6 | Train Loss: 0.02010 | Valid Loss: 0.13414 | Train Accs: 0.99195 | Valid Accs: 0.94308 | Time: 17.30 seconds\n",
      "Epoch: 7 | Train Loss: 0.01277 | Valid Loss: 0.13429 | Train Accs: 0.99574 | Valid Accs: 0.96780 | Time: 16.99 seconds\n",
      "Epoch: 8 | Train Loss: 0.01137 | Valid Loss: 0.07022 | Train Accs: 0.99645 | Valid Accs: 0.97822 | Time: 17.29 seconds\n",
      "Epoch: 9 | Train Loss: 0.01941 | Valid Loss: 0.05984 | Train Accs: 0.99384 | Valid Accs: 0.98056 | Time: 17.01 seconds\n",
      "Epoch: 10 | Train Loss: 0.01070 | Valid Loss: 0.14171 | Train Accs: 0.99669 | Valid Accs: 0.94856 | Time: 17.30 seconds\n",
      "Epoch: 11 | Train Loss: 0.00407 | Valid Loss: 0.01957 | Train Accs: 0.99905 | Valid Accs: 0.99337 | Time: 17.56 seconds\n",
      "Epoch: 12 | Train Loss: 0.01281 | Valid Loss: 0.05953 | Train Accs: 0.99886 | Valid Accs: 0.97822 | Time: 17.17 seconds\n",
      "Epoch: 13 | Train Loss: 0.02786 | Valid Loss: 0.06001 | Train Accs: 0.98958 | Valid Accs: 0.98390 | Time: 17.06 seconds\n",
      "Epoch: 14 | Train Loss: 0.00423 | Valid Loss: 0.02525 | Train Accs: 0.99953 | Valid Accs: 0.99148 | Time: 17.14 seconds\n",
      "Epoch: 15 | Train Loss: 0.00416 | Valid Loss: 0.03348 | Train Accs: 0.99834 | Valid Accs: 0.98864 | Time: 17.07 seconds\n",
      "Epoch: 16 | Train Loss: 0.00204 | Valid Loss: 0.03376 | Train Accs: 0.99976 | Valid Accs: 0.98864 | Time: 17.13 seconds\n",
      "\n",
      "Early Stopping at Epoch 17\n",
      "\n",
      "**************************************************\n",
      "\n",
      "Best Validation Loss at Epoch 11\n",
      "\n",
      "**************************************************\n",
      "\n",
      "Best Validation Accs at Epoch 11\n",
      "\n",
      "**************************************************\n",
      "\n",
      "Time Taken [17 Epochs] : 4.87 minutes\n",
      "\n",
      "**************************************************\n",
      "\n"
     ]
    },
    {
     "data": {
      "image/png": "[encoded data removed]",
      "text/plain": [
       "<Figure size 576x432 with 2 Axes>"
      ]
     },
     "metadata": {
      "needs_background": "light"
     },
     "output_type": "display_data"
    }
   ],
   "source": [
    "fold = 1\n",
    "BLEs, BAEs = [], []\n",
    "\n",
    "for tr_idx, va_idx in KFold(n_splits=cfg.n_splits, random_state=SEED, shuffle=True).split(images):\n",
    "    tr_images, va_images, tr_labels, va_labels = images[tr_idx], images[va_idx], labels[tr_idx], labels[va_idx]\n",
    "\n",
    "    tr_data_setup = DS(tr_images, tr_labels.reshape(-1, 1), cfg.transform)\n",
    "    va_data_setup = DS(va_images, va_labels.reshape(-1, 1), cfg.transform)\n",
    "\n",
    "    dataloaders = {\n",
    "        \"train\" : DL(tr_data_setup, batch_size=cfg.batch_size, shuffle=True, generator=torch.manual_seed(cfg.seed)),\n",
    "        \"valid\" : DL(va_data_setup, batch_size=cfg.batch_size, shuffle=False),\n",
    "    }\n",
    "\n",
    "    cfg = CFG(epochs=20, lr=1e-3, wd=0.0, batch_size=48, steps_per_epoch=len(dataloaders[\"train\"]))\n",
    "\n",
    "    torch.manual_seed(cfg.seed)\n",
    "    model = Model().to(cfg.device)\n",
    "    optimizer = optim.Adam([p for p in model.parameters() if p.requires_grad], lr=cfg.lr, weight_decay=cfg.wd)\n",
    "    scheduler = optim.lr_scheduler.OneCycleLR(optimizer=optimizer, \n",
    "                                              max_lr=cfg.max_lr, \n",
    "                                              epochs=cfg.epochs, \n",
    "                                              steps_per_epoch=cfg.steps_per_epoch,\n",
    "                                              pct_start=cfg.pct_start, \n",
    "                                              div_factor=cfg.div_factor, \n",
    "                                              final_div_factor=cfg.final_div_factor)\n",
    "    # scheduler = None\n",
    "\n",
    "    L, A, LRs, BLE, BAE, name = fit(model=model, \n",
    "                                    optimizer=optimizer, \n",
    "                                    scheduler=scheduler, \n",
    "                                    epochs=cfg.epochs, \n",
    "                                    early_stopping_patience=cfg.early_stopping, \n",
    "                                    dataloaders=dataloaders, \n",
    "                                    device=cfg.device,\n",
    "                                    save_path=cfg.save_path,\n",
    "                                    fold = fold,\n",
    "                                    verbose=True)\n",
    "\n",
    "    breaker()\n",
    "    show_graphs(L, A)\n",
    "    \n",
    "    BLEs.append(BLE)\n",
    "    BAEs.append(BAE)\n",
    "\n",
    "    fold += 1"
   ]
  },
  {
   "cell_type": "markdown",
   "id": "32f99516",
   "metadata": {
    "papermill": {
     "duration": 0.050877,
     "end_time": "2022-04-26T06:06:59.354170",
     "exception": false,
     "start_time": "2022-04-26T06:06:59.303293",
     "status": "completed"
    },
    "tags": []
   },
   "source": [
    "### **Predictions**"
   ]
  },
  {
   "cell_type": "code",
   "execution_count": 9,
   "id": "e53bcf37",
   "metadata": {
    "execution": {
     "iopub.execute_input": "2022-04-26T06:06:59.462628Z",
     "iopub.status.busy": "2022-04-26T06:06:59.462073Z",
     "iopub.status.idle": "2022-04-26T06:07:02.619894Z",
     "shell.execute_reply": "2022-04-26T06:07:02.619405Z",
     "shell.execute_reply.started": "2022-04-09T01:41:41.028783Z"
    },
    "papermill": {
     "duration": 3.215237,
     "end_time": "2022-04-26T06:07:02.620040",
     "exception": false,
     "start_time": "2022-04-26T06:06:59.404803",
     "status": "completed"
    },
    "tags": []
   },
   "outputs": [
    {
     "name": "stdout",
     "output_type": "stream",
     "text": [
      "\n",
      "**************************************************\n",
      "\n",
      "Best Fold : 5\n",
      "\n",
      "**************************************************\n",
      "\n",
      "Accuracy  : 0.77404\n",
      "ROC-AUC   : 0.86241\n",
      "Precision : [0.4017094 0.9974359]\n",
      "Recall    : [0.98947368 0.73534972]\n",
      "F-Score   : [0.57142857 0.84657236]\n",
      "\n",
      "**************************************************\n",
      "\n",
      "              precision    recall  f1-score   support\n",
      "\n",
      "         0.0       0.99      0.40      0.57       234\n",
      "         1.0       0.74      1.00      0.85       390\n",
      "\n",
      "    accuracy                           0.77       624\n",
      "   macro avg       0.86      0.70      0.71       624\n",
      "weighted avg       0.83      0.77      0.74       624\n",
      "\n",
      "\n",
      "**************************************************\n",
      "\n",
      "[[ 94 140]\n",
      " [  1 389]]\n",
      "\n",
      "**************************************************\n",
      "\n"
     ]
    }
   ],
   "source": [
    "test_images = np.load(f\"../input/cxr-images-{SIZE}/test_images_{SIZE}.npy\")\n",
    "test_labels = np.load(f\"../input/cxr-images-{SIZE}/test_targets_{SIZE}.npy\")\n",
    "\n",
    "ts_data_setup = DS(test_images, None, cfg.transform)\n",
    "ts_data = DL(ts_data_setup, batch_size=cfg.batch_size, shuffle=False)\n",
    "\n",
    "best_fold = BLEs.index(min(BLEs)) + 1\n",
    "model_path = f\"saves/state_fold_{best_fold}.pt\"\n",
    "y_pred = predict(model=Model().to(cfg.device), dataloader=ts_data, path=model_path, device=cfg.device)\n",
    "\n",
    "accuracy, auc, precision, recall, f_score = get_scores(test_labels, y_pred)\n",
    "\n",
    "breaker()\n",
    "print(f\"Best Fold : {best_fold}\")\n",
    "breaker()\n",
    "print_scores(accuracy, auc, precision, recall, f_score)\n",
    "breaker()\n",
    "print(classification_report(test_labels, y_pred))\n",
    "breaker()\n",
    "print(confusion_matrix(test_labels, y_pred))\n",
    "breaker()"
   ]
  }
 ],
 "metadata": {
  "kernelspec": {
   "display_name": "Python 3",
   "language": "python",
   "name": "python3"
  },
  "language_info": {
   "codemirror_mode": {
    "name": "ipython",
    "version": 3
   },
   "file_extension": ".py",
   "mimetype": "text/x-python",
   "name": "python",
   "nbconvert_exporter": "python",
   "pygments_lexer": "ipython3",
   "version": "3.7.12"
  },
  "papermill": {
   "default_parameters": {},
   "duration": 1824.020276,
   "end_time": "2022-04-26T06:07:04.296104",
   "environment_variables": {},
   "exception": null,
   "input_path": "__notebook__.ipynb",
   "output_path": "__notebook__.ipynb",
   "parameters": {},
   "start_time": "2022-04-26T05:36:40.275828",
   "version": "2.3.3"
  },
  "widgets": {
   "application/vnd.jupyter.widget-state+json": {
    "state": {
     "1c7ee8aac4b347d3bc18bf0b0c134abb": {
      "model_module": "@jupyter-widgets/base",
      "model_module_version": "1.2.0",
      "model_name": "LayoutModel",
      "state": {
       "_model_module": "@jupyter-widgets/base",
       "_model_module_version": "1.2.0",
       "_model_name": "LayoutModel",
       "_view_count": null,
       "_view_module": "@jupyter-widgets/base",
       "_view_module_version": "1.2.0",
       "_view_name": "LayoutView",
       "align_content": null,
       "align_items": null,
       "align_self": null,
       "border": null,
       "bottom": null,
       "display": null,
       "flex": null,
       "flex_flow": null,
       "grid_area": null,
       "grid_auto_columns": null,
       "grid_auto_flow": null,
       "grid_auto_rows": null,
       "grid_column": null,
       "grid_gap": null,
       "grid_row": null,
       "grid_template_areas": null,
       "grid_template_columns": null,
       "grid_template_rows": null,
       "height": null,
       "justify_content": null,
       "justify_items": null,
       "left": null,
       "margin": null,
       "max_height": null,
       "max_width": null,
       "min_height": null,
       "min_width": null,
       "object_fit": null,
       "object_position": null,
       "order": null,
       "overflow": null,
       "overflow_x": null,
       "overflow_y": null,
       "padding": null,
       "right": null,
       "top": null,
       "visibility": null,
       "width": null
      }
     },
     "4bd338cacfcb4423800d98fe8e4ab79f": {
      "model_module": "@jupyter-widgets/controls",
      "model_module_version": "1.5.0",
      "model_name": "DescriptionStyleModel",
      "state": {
       "_model_module": "@jupyter-widgets/controls",
       "_model_module_version": "1.5.0",
       "_model_name": "DescriptionStyleModel",
       "_view_count": null,
       "_view_module": "@jupyter-widgets/base",
       "_view_module_version": "1.2.0",
       "_view_name": "StyleView",
       "description_width": ""
      }
     },
     "5b1e051e78b34780a2e4950baa976cf7": {
      "model_module": "@jupyter-widgets/controls",
      "model_module_version": "1.5.0",
      "model_name": "FloatProgressModel",
      "state": {
       "_dom_classes": [],
       "_model_module": "@jupyter-widgets/controls",
       "_model_module_version": "1.5.0",
       "_model_name": "FloatProgressModel",
       "_view_count": null,
       "_view_module": "@jupyter-widgets/controls",
       "_view_module_version": "1.5.0",
       "_view_name": "ProgressView",
       "bar_style": "success",
       "description": "",
       "description_tooltip": null,
       "layout": "IPY_MODEL_1c7ee8aac4b347d3bc18bf0b0c134abb",
       "max": 46830571.0,
       "min": 0.0,
       "orientation": "horizontal",
       "style": "IPY_MODEL_7b6d2dec9970486098547d8a41a9bec0",
       "value": 46830571.0
      }
     },
     "7b6d2dec9970486098547d8a41a9bec0": {
      "model_module": "@jupyter-widgets/controls",
      "model_module_version": "1.5.0",
      "model_name": "ProgressStyleModel",
      "state": {
       "_model_module": "@jupyter-widgets/controls",
       "_model_module_version": "1.5.0",
       "_model_name": "ProgressStyleModel",
       "_view_count": null,
       "_view_module": "@jupyter-widgets/base",
       "_view_module_version": "1.2.0",
       "_view_name": "StyleView",
       "bar_color": null,
       "description_width": ""
      }
     },
     "7dca87931b714faba624e0884825a874": {
      "model_module": "@jupyter-widgets/base",
      "model_module_version": "1.2.0",
      "model_name": "LayoutModel",
      "state": {
       "_model_module": "@jupyter-widgets/base",
       "_model_module_version": "1.2.0",
       "_model_name": "LayoutModel",
       "_view_count": null,
       "_view_module": "@jupyter-widgets/base",
       "_view_module_version": "1.2.0",
       "_view_name": "LayoutView",
       "align_content": null,
       "align_items": null,
       "align_self": null,
       "border": null,
       "bottom": null,
       "display": null,
       "flex": null,
       "flex_flow": null,
       "grid_area": null,
       "grid_auto_columns": null,
       "grid_auto_flow": null,
       "grid_auto_rows": null,
       "grid_column": null,
       "grid_gap": null,
       "grid_row": null,
       "grid_template_areas": null,
       "grid_template_columns": null,
       "grid_template_rows": null,
       "height": null,
       "justify_content": null,
       "justify_items": null,
       "left": null,
       "margin": null,
       "max_height": null,
       "max_width": null,
       "min_height": null,
       "min_width": null,
       "object_fit": null,
       "object_position": null,
       "order": null,
       "overflow": null,
       "overflow_x": null,
       "overflow_y": null,
       "padding": null,
       "right": null,
       "top": null,
       "visibility": null,
       "width": null
      }
     },
     "87584b5c63c2419b890401ff281de0a6": {
      "model_module": "@jupyter-widgets/controls",
      "model_module_version": "1.5.0",
      "model_name": "HTMLModel",
      "state": {
       "_dom_classes": [],
       "_model_module": "@jupyter-widgets/controls",
       "_model_module_version": "1.5.0",
       "_model_name": "HTMLModel",
       "_view_count": null,
       "_view_module": "@jupyter-widgets/controls",
       "_view_module_version": "1.5.0",
       "_view_name": "HTMLView",
       "description": "",
       "description_tooltip": null,
       "layout": "IPY_MODEL_bd5dab2dc9564d00a104814e5b3a294d",
       "placeholder": "​",
       "style": "IPY_MODEL_4bd338cacfcb4423800d98fe8e4ab79f",
       "value": " 44.7M/44.7M [00:01&lt;00:00, 52.1MB/s]"
      }
     },
     "8e70815ca9fb44ed842ed28887902105": {
      "model_module": "@jupyter-widgets/controls",
      "model_module_version": "1.5.0",
      "model_name": "HTMLModel",
      "state": {
       "_dom_classes": [],
       "_model_module": "@jupyter-widgets/controls",
       "_model_module_version": "1.5.0",
       "_model_name": "HTMLModel",
       "_view_count": null,
       "_view_module": "@jupyter-widgets/controls",
       "_view_module_version": "1.5.0",
       "_view_name": "HTMLView",
       "description": "",
       "description_tooltip": null,
       "layout": "IPY_MODEL_7dca87931b714faba624e0884825a874",
       "placeholder": "​",
       "style": "IPY_MODEL_bcaaea12bc244ab0bf73c61a2597e719",
       "value": "100%"
      }
     },
     "bcaaea12bc244ab0bf73c61a2597e719": {
      "model_module": "@jupyter-widgets/controls",
      "model_module_version": "1.5.0",
      "model_name": "DescriptionStyleModel",
      "state": {
       "_model_module": "@jupyter-widgets/controls",
       "_model_module_version": "1.5.0",
       "_model_name": "DescriptionStyleModel",
       "_view_count": null,
       "_view_module": "@jupyter-widgets/base",
       "_view_module_version": "1.2.0",
       "_view_name": "StyleView",
       "description_width": ""
      }
     },
     "bd5dab2dc9564d00a104814e5b3a294d": {
      "model_module": "@jupyter-widgets/base",
      "model_module_version": "1.2.0",
      "model_name": "LayoutModel",
      "state": {
       "_model_module": "@jupyter-widgets/base",
       "_model_module_version": "1.2.0",
       "_model_name": "LayoutModel",
       "_view_count": null,
       "_view_module": "@jupyter-widgets/base",
       "_view_module_version": "1.2.0",
       "_view_name": "LayoutView",
       "align_content": null,
       "align_items": null,
       "align_self": null,
       "border": null,
       "bottom": null,
       "display": null,
       "flex": null,
       "flex_flow": null,
       "grid_area": null,
       "grid_auto_columns": null,
       "grid_auto_flow": null,
       "grid_auto_rows": null,
       "grid_column": null,
       "grid_gap": null,
       "grid_row": null,
       "grid_template_areas": null,
       "grid_template_columns": null,
       "grid_template_rows": null,
       "height": null,
       "justify_content": null,
       "justify_items": null,
       "left": null,
       "margin": null,
       "max_height": null,
       "max_width": null,
       "min_height": null,
       "min_width": null,
       "object_fit": null,
       "object_position": null,
       "order": null,
       "overflow": null,
       "overflow_x": null,
       "overflow_y": null,
       "padding": null,
       "right": null,
       "top": null,
       "visibility": null,
       "width": null
      }
     },
     "e6908bdbddf34ef7b46abbf643e549d6": {
      "model_module": "@jupyter-widgets/controls",
      "model_module_version": "1.5.0",
      "model_name": "HBoxModel",
      "state": {
       "_dom_classes": [],
       "_model_module": "@jupyter-widgets/controls",
       "_model_module_version": "1.5.0",
       "_model_name": "HBoxModel",
       "_view_count": null,
       "_view_module": "@jupyter-widgets/controls",
       "_view_module_version": "1.5.0",
       "_view_name": "HBoxView",
       "box_style": "",
       "children": [
        "IPY_MODEL_8e70815ca9fb44ed842ed28887902105",
        "IPY_MODEL_5b1e051e78b34780a2e4950baa976cf7",
        "IPY_MODEL_87584b5c63c2419b890401ff281de0a6"
       ],
       "layout": "IPY_MODEL_eb33e38e8c414123982932181944d607"
      }
     },
     "eb33e38e8c414123982932181944d607": {
      "model_module": "@jupyter-widgets/base",
      "model_module_version": "1.2.0",
      "model_name": "LayoutModel",
      "state": {
       "_model_module": "@jupyter-widgets/base",
       "_model_module_version": "1.2.0",
       "_model_name": "LayoutModel",
       "_view_count": null,
       "_view_module": "@jupyter-widgets/base",
       "_view_module_version": "1.2.0",
       "_view_name": "LayoutView",
       "align_content": null,
       "align_items": null,
       "align_self": null,
       "border": null,
       "bottom": null,
       "display": null,
       "flex": null,
       "flex_flow": null,
       "grid_area": null,
       "grid_auto_columns": null,
       "grid_auto_flow": null,
       "grid_auto_rows": null,
       "grid_column": null,
       "grid_gap": null,
       "grid_row": null,
       "grid_template_areas": null,
       "grid_template_columns": null,
       "grid_template_rows": null,
       "height": null,
       "justify_content": null,
       "justify_items": null,
       "left": null,
       "margin": null,
       "max_height": null,
       "max_width": null,
       "min_height": null,
       "min_width": null,
       "object_fit": null,
       "object_position": null,
       "order": null,
       "overflow": null,
       "overflow_x": null,
       "overflow_y": null,
       "padding": null,
       "right": null,
       "top": null,
       "visibility": null,
       "width": null
      }
     }
    },
    "version_major": 2,
    "version_minor": 0
   }
  }
 },
 "nbformat": 4,
 "nbformat_minor": 5
}
