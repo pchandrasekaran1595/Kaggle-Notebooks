{
 "cells": [
  {
   "cell_type": "markdown",
   "id": "75c8728b",
   "metadata": {
    "_cell_guid": "b1076dfc-b9ad-4769-8c92-a6c4dae69d19",
    "_uuid": "8f2839f25d086af736a60e9eeb907d3b93b6e0e5",
    "papermill": {
     "duration": 0.013617,
     "end_time": "2022-07-04T10:14:35.696880",
     "exception": false,
     "start_time": "2022-07-04T10:14:35.683263",
     "status": "completed"
    },
    "tags": []
   },
   "source": [
    "##### Library Imports"
   ]
  },
  {
   "cell_type": "code",
   "execution_count": 1,
   "id": "2800042b",
   "metadata": {
    "execution": {
     "iopub.execute_input": "2022-07-04T10:14:35.729480Z",
     "iopub.status.busy": "2022-07-04T10:14:35.727980Z",
     "iopub.status.idle": "2022-07-04T10:14:38.389896Z",
     "shell.execute_reply": "2022-07-04T10:14:38.392808Z",
     "shell.execute_reply.started": "2022-04-09T01:18:45.162484Z"
    },
    "papermill": {
     "duration": 2.68176,
     "end_time": "2022-07-04T10:14:38.393214",
     "exception": false,
     "start_time": "2022-07-04T10:14:35.711454",
     "status": "completed"
    },
    "tags": []
   },
   "outputs": [],
   "source": [
    "import os\n",
    "import re\n",
    "import torch\n",
    "import numpy as np\n",
    "import pandas as pd\n",
    "import matplotlib.pyplot as plt\n",
    "\n",
    "from time import time\n",
    "from torch import nn, optim\n",
    "from torch.utils.data import Dataset\n",
    "from torch.utils.data import DataLoader as DL\n",
    "from torchvision import models, transforms\n",
    "\n",
    "from sklearn.model_selection import KFold\n",
    "from sklearn.preprocessing import LabelEncoder\n",
    "from sklearn.metrics import accuracy_score, \\\n",
    "                            precision_recall_fscore_support, \\\n",
    "                            roc_auc_score, \\\n",
    "                            classification_report, \\\n",
    "                            confusion_matrix"
   ]
  },
  {
   "cell_type": "markdown",
   "id": "657a0c0d",
   "metadata": {
    "papermill": {
     "duration": 0.020553,
     "end_time": "2022-07-04T10:14:38.442159",
     "exception": false,
     "start_time": "2022-07-04T10:14:38.421606",
     "status": "completed"
    },
    "tags": []
   },
   "source": [
    "### **Utilities**"
   ]
  },
  {
   "cell_type": "code",
   "execution_count": 2,
   "id": "754d7a75",
   "metadata": {
    "execution": {
     "iopub.execute_input": "2022-07-04T10:14:38.489402Z",
     "iopub.status.busy": "2022-07-04T10:14:38.481398Z",
     "iopub.status.idle": "2022-07-04T10:14:38.491663Z",
     "shell.execute_reply": "2022-07-04T10:14:38.491242Z",
     "shell.execute_reply.started": "2022-04-09T01:18:47.512362Z"
    },
    "papermill": {
     "duration": 0.02912,
     "end_time": "2022-07-04T10:14:38.491763",
     "exception": false,
     "start_time": "2022-07-04T10:14:38.462643",
     "status": "completed"
    },
    "tags": []
   },
   "outputs": [],
   "source": [
    "SEED = 42\n",
    "SIZE = 384\n",
    "\n",
    "def breaker(num: int=50, char: str=\"*\") -> None:\n",
    "    print(\"\\n\" + num*char + \"\\n\")\n",
    "\n",
    "\n",
    "def show_graphs(L: list, A: list) -> None:\n",
    "    TL, VL, TA, VA = [], [], [], []\n",
    "    for i in range(len(L)):\n",
    "        TL.append(L[i][\"train\"])\n",
    "        VL.append(L[i][\"valid\"])\n",
    "        TA.append(A[i][\"train\"])\n",
    "        VA.append(A[i][\"valid\"])\n",
    "    x_Axis = np.arange(1, len(TL) + 1)\n",
    "    plt.figure(figsize=(8, 6))\n",
    "    plt.subplot(1, 2, 1)\n",
    "    plt.plot(x_Axis, TL, \"r\", label=\"Train\")\n",
    "    plt.plot(x_Axis, VL, \"b\", label=\"Valid\")\n",
    "    plt.legend()\n",
    "    plt.grid()\n",
    "    plt.title(\"Loss Graph\")\n",
    "    plt.subplot(1, 2, 2)\n",
    "    plt.plot(x_Axis, TA, \"r\", label=\"Train\")\n",
    "    plt.plot(x_Axis, VA, \"b\", label=\"Valid\")\n",
    "    plt.legend()\n",
    "    plt.grid()\n",
    "    plt.title(\"Accuracy Graph\")\n",
    "    plt.show()\n",
    "\n",
    "    \n",
    "def get_scores(y_true: np.ndarray, y_pred: np.ndarray) -> tuple:\n",
    "    accuracy = accuracy_score(y_pred, y_true)\n",
    "    try:\n",
    "        auc = roc_auc_score(y_pred, y_true)\n",
    "    except:\n",
    "        auc = 0\n",
    "    precision, recall, f_score, _ = precision_recall_fscore_support(y_pred, y_true)\n",
    "\n",
    "    return accuracy, auc, precision, recall, f_score\n",
    "\n",
    "\n",
    "def print_scores(accuracy: float, auc: float, precision: np.ndarray, recall: np.ndarray, f_score: np.ndarray) -> None:\n",
    "    print(f\"Accuracy  : {accuracy:.5f}\")\n",
    "    print(f\"ROC-AUC   : {auc:.5f}\")\n",
    "    print(f\"Precision : {precision}\")\n",
    "    print(f\"Recall    : {recall}\")\n",
    "    print(f\"F-Score   : {f_score}\")"
   ]
  },
  {
   "cell_type": "markdown",
   "id": "402f1f3e",
   "metadata": {
    "papermill": {
     "duration": 0.012977,
     "end_time": "2022-07-04T10:14:38.517208",
     "exception": false,
     "start_time": "2022-07-04T10:14:38.504231",
     "status": "completed"
    },
    "tags": []
   },
   "source": [
    "### **Configuration**"
   ]
  },
  {
   "cell_type": "code",
   "execution_count": 3,
   "id": "fd28f311",
   "metadata": {
    "execution": {
     "iopub.execute_input": "2022-07-04T10:14:38.604377Z",
     "iopub.status.busy": "2022-07-04T10:14:38.603363Z",
     "iopub.status.idle": "2022-07-04T10:14:38.608190Z",
     "shell.execute_reply": "2022-07-04T10:14:38.607713Z",
     "shell.execute_reply.started": "2022-04-09T01:36:52.976989Z"
    },
    "papermill": {
     "duration": 0.078662,
     "end_time": "2022-07-04T10:14:38.608304",
     "exception": false,
     "start_time": "2022-07-04T10:14:38.529642",
     "status": "completed"
    },
    "tags": []
   },
   "outputs": [],
   "source": [
    "class CFG(object):\n",
    "    def __init__(self, \n",
    "                 seed: int = 42,\n",
    "                 n_splits: int = 5,\n",
    "                 batch_size: int = 16,\n",
    "                 epochs: int = 25,\n",
    "                 early_stopping: int = 5,\n",
    "                 lr: float = 1e-4,\n",
    "                 wd: float = 0.0,\n",
    "                 max_lr: float = 1e-3,\n",
    "                 pct_start: float = 0.2,\n",
    "                 steps_per_epoch: int = 100,\n",
    "                 div_factor: int = 1e3, \n",
    "                 final_div_factor: float = 1e3,\n",
    "                 ):\n",
    "        \n",
    "        self.seed = seed\n",
    "        self.n_splits = n_splits\n",
    "        self.batch_size = batch_size\n",
    "        self.epochs = epochs\n",
    "        self.early_stopping = early_stopping\n",
    "        self.lr = lr\n",
    "        self.wd = wd\n",
    "        self.max_lr = max_lr\n",
    "        self.pct_start = pct_start\n",
    "        self.steps_per_epoch = steps_per_epoch\n",
    "        self.div_factor = div_factor\n",
    "        self.final_div_factor = final_div_factor\n",
    "        self.device = torch.device(\"cuda\" if torch.cuda.is_available() else \"cpu\")\n",
    "        self.transform = transforms.Compose([transforms.ToTensor(),\n",
    "                                transforms.Normalize([0.5, 0.5, 0.5],\n",
    "                                                     [0.5, 0.5, 0.5]),\n",
    "                                ])\n",
    "        self.save_path = \"saves\"\n",
    "        if not os.path.exists(self.save_path): os.makedirs(self.save_path)\n",
    "    \n",
    "cfg = CFG(seed=SEED)"
   ]
  },
  {
   "cell_type": "markdown",
   "id": "afae6382",
   "metadata": {
    "papermill": {
     "duration": 0.012244,
     "end_time": "2022-07-04T10:14:38.633892",
     "exception": false,
     "start_time": "2022-07-04T10:14:38.621648",
     "status": "completed"
    },
    "tags": []
   },
   "source": [
    "### **Dataset Template**"
   ]
  },
  {
   "cell_type": "code",
   "execution_count": 4,
   "id": "2e897321",
   "metadata": {
    "execution": {
     "iopub.execute_input": "2022-07-04T10:14:38.664977Z",
     "iopub.status.busy": "2022-07-04T10:14:38.664231Z",
     "iopub.status.idle": "2022-07-04T10:14:38.666260Z",
     "shell.execute_reply": "2022-07-04T10:14:38.666627Z",
     "shell.execute_reply.started": "2022-04-09T01:18:47.593512Z"
    },
    "papermill": {
     "duration": 0.020449,
     "end_time": "2022-07-04T10:14:38.666749",
     "exception": false,
     "start_time": "2022-07-04T10:14:38.646300",
     "status": "completed"
    },
    "tags": []
   },
   "outputs": [],
   "source": [
    "class DS(Dataset):\n",
    "    def __init__(self, images: np.ndarray, labels: np.ndarray = None, transform=None):\n",
    "        self.images = images\n",
    "        self.labels = labels\n",
    "        self.transform = transform\n",
    "    \n",
    "    def __len__(self):\n",
    "        return self.images.shape[0]\n",
    "    \n",
    "    def __getitem__(self, idx):\n",
    "        if self.labels is not None:\n",
    "            return self.transform(self.images[idx]), torch.FloatTensor(self.labels[idx])\n",
    "        else:\n",
    "            return self.transform(self.images[idx])"
   ]
  },
  {
   "cell_type": "markdown",
   "id": "2da8bc68",
   "metadata": {
    "papermill": {
     "duration": 0.012556,
     "end_time": "2022-07-04T10:14:38.691904",
     "exception": false,
     "start_time": "2022-07-04T10:14:38.679348",
     "status": "completed"
    },
    "tags": []
   },
   "source": [
    "### **Model**"
   ]
  },
  {
   "cell_type": "code",
   "execution_count": 5,
   "id": "d2f57915",
   "metadata": {
    "execution": {
     "iopub.execute_input": "2022-07-04T10:14:38.723012Z",
     "iopub.status.busy": "2022-07-04T10:14:38.722272Z",
     "iopub.status.idle": "2022-07-04T10:14:38.724893Z",
     "shell.execute_reply": "2022-07-04T10:14:38.725384Z",
     "shell.execute_reply.started": "2022-04-09T01:18:47.606516Z"
    },
    "papermill": {
     "duration": 0.020505,
     "end_time": "2022-07-04T10:14:38.725534",
     "exception": false,
     "start_time": "2022-07-04T10:14:38.705029",
     "status": "completed"
    },
    "tags": []
   },
   "outputs": [],
   "source": [
    "class Model(nn.Module):\n",
    "    def __init__(self):\n",
    "        super(Model, self).__init__()\n",
    "\n",
    "        self.model = models.densenet169(pretrained=True, progress=True)\n",
    "        self.model.classifier = nn.Linear(in_features=self.model.classifier.in_features, out_features=1)\n",
    "\n",
    "    def forward(self, x):\n",
    "        return self.model(x)"
   ]
  },
  {
   "cell_type": "markdown",
   "id": "528b1928",
   "metadata": {
    "papermill": {
     "duration": 0.01223,
     "end_time": "2022-07-04T10:14:38.750283",
     "exception": false,
     "start_time": "2022-07-04T10:14:38.738053",
     "status": "completed"
    },
    "tags": []
   },
   "source": [
    "### Fit and Predict Helper"
   ]
  },
  {
   "cell_type": "code",
   "execution_count": 6,
   "id": "4c1195eb",
   "metadata": {
    "execution": {
     "iopub.execute_input": "2022-07-04T10:14:38.802443Z",
     "iopub.status.busy": "2022-07-04T10:14:38.801497Z",
     "iopub.status.idle": "2022-07-04T10:14:38.803153Z",
     "shell.execute_reply": "2022-07-04T10:14:38.803639Z",
     "shell.execute_reply.started": "2022-04-09T01:18:47.615986Z"
    },
    "papermill": {
     "duration": 0.040198,
     "end_time": "2022-07-04T10:14:38.803785",
     "exception": false,
     "start_time": "2022-07-04T10:14:38.763587",
     "status": "completed"
    },
    "tags": []
   },
   "outputs": [],
   "source": [
    "def fit(model=None, \n",
    "        optimizer=None,\n",
    "        scheduler_rlrop=None,\n",
    "        scheduler_oclr=None, \n",
    "        epochs=None, \n",
    "        early_stopping_patience=None, \n",
    "        dataloaders=None, \n",
    "        fold=None, \n",
    "        save_path=None, \n",
    "        device=None,\n",
    "        verbose=False) -> tuple:\n",
    "    \n",
    "    def get_accuracy(y_pred, y_true):\n",
    "        y_pred = torch.sigmoid(y_pred)\n",
    "        \n",
    "        y_pred[y_pred > 0.5] = 1\n",
    "        y_pred[y_pred <= 0.5] = 0\n",
    "        \n",
    "        return torch.count_nonzero(y_pred == y_true).item() / len(y_pred)\n",
    "    \n",
    "    if verbose:\n",
    "        breaker()\n",
    "        if fold: print(f\"Training Fold {fold}...\")\n",
    "        else: print(\"Training ...\")\n",
    "        breaker()\n",
    "        \n",
    "    bestLoss, bestAccs = {\"train\" : np.inf, \"valid\" : np.inf}, {\"train\" : 0.0, \"valid\" : 0.0}\n",
    "    Losses, LRs, Accuracies = [], [], []\n",
    "    if fold: name = f\"state_fold_{fold}.pt\"\n",
    "    else: name = \"state.pt\"\n",
    "        \n",
    "    start_time = time()\n",
    "    for e in range(epochs):\n",
    "        e_st = time()\n",
    "        epochLoss, epochAccs = {\"train\" : 0.0, \"valid\" : 0.0}, {\"train\" : 0.0, \"valid\" : 0.0}\n",
    "\n",
    "        for phase in [\"train\", \"valid\"]:\n",
    "            if phase == \"train\":\n",
    "                model.train()\n",
    "            else:\n",
    "                model.eval()\n",
    "            \n",
    "            lossPerPass, accsPerPass = [], []\n",
    "            \n",
    "            for X, y in dataloaders[phase]:\n",
    "                X, y = X.to(device), y.to(device)\n",
    "\n",
    "                optimizer.zero_grad()\n",
    "                with torch.set_grad_enabled(phase == \"train\"):\n",
    "                    output = model(X)\n",
    "                    loss = torch.nn.BCEWithLogitsLoss()(output, y)\n",
    "                    if phase == \"train\":\n",
    "                        loss.backward()\n",
    "                        optimizer.step()\n",
    "                        if scheduler_oclr: scheduler_oclr.step()\n",
    "                lossPerPass.append(loss.item())\n",
    "                accsPerPass.append(get_accuracy(output, y))\n",
    "            epochLoss[phase] = np.mean(np.array(lossPerPass))\n",
    "            epochAccs[phase] = np.mean(np.array(accsPerPass))\n",
    "        if scheduler_oclr: LRs.append(scheduler_oclr.get_last_lr())\n",
    "        Losses.append(epochLoss)\n",
    "        Accuracies.append(epochAccs)\n",
    "        \n",
    "        if scheduler_oclr:\n",
    "            save_dict = {\"model_state_dict\"     : model.state_dict(),\n",
    "                         \"optim_state_dict\"     : optimizer.state_dict(),\n",
    "                         \"scheduler_state_dict\" : scheduler_oclr.state_dict()}\n",
    "        \n",
    "        elif scheduler_rlrop:\n",
    "            save_dict = {\"model_state_dict\"     : model.state_dict(),\n",
    "                         \"optim_state_dict\"     : optimizer.state_dict(),\n",
    "                         \"scheduler_state_dict\" : scheduler_rlrop.state_dict()}\n",
    "        \n",
    "        else:\n",
    "            save_dict = {\"model_state_dict\"     : model.state_dict(),\n",
    "                         \"optim_state_dict\"     : optimizer.state_dict()}\n",
    "        \n",
    "        \n",
    "        if early_stopping_patience:\n",
    "            if epochLoss[\"valid\"] < bestLoss[\"valid\"]:\n",
    "                bestLoss = epochLoss\n",
    "                BLE = e + 1\n",
    "                torch.save(save_dict, os.path.join(save_path, name))\n",
    "                early_stopping_step = 0\n",
    "            else:\n",
    "                early_stopping_step += 1\n",
    "                if early_stopping_step > early_stopping_patience:\n",
    "                    print(\"\\nEarly Stopping at Epoch {}\".format(e + 1))\n",
    "                    break\n",
    "        \n",
    "        if epochLoss[\"valid\"] < bestLoss[\"valid\"]:\n",
    "            bestLoss = epochLoss\n",
    "            BLE = e + 1\n",
    "            torch.save(save_dict, os.path.join(save_path, name))\n",
    "        \n",
    "        if epochAccs[\"valid\"] > bestAccs[\"valid\"]:\n",
    "            bestAccs = epochAccs\n",
    "            BAE = e + 1            \n",
    "            # torch.save(save_dict, os.path.join(save_path, name))\n",
    "\n",
    "        \n",
    "        if scheduler_rlrop: scheduler_rlrop.step(epochLoss[\"valid\"])\n",
    "            \n",
    "        if verbose:\n",
    "            print(\"Epoch: {} | Train Loss: {:.5f} | Valid Loss: {:.5f} | Train Accs: {:.5f} | Valid Accs: {:.5f} | Time: {:.2f} seconds\".format(e+1, \n",
    "                                                                       epochLoss[\"train\"], epochLoss[\"valid\"], \n",
    "                                                                       epochAccs[\"train\"], epochAccs[\"valid\"], \n",
    "                                                                       time()-e_st))\n",
    "\n",
    "    del model, X, y\n",
    "    torch.cuda.empty_cache()\n",
    "    \n",
    "    if verbose:                                           \n",
    "        breaker()\n",
    "        print(f\"Best Validation Loss at Epoch {BLE}\")\n",
    "        breaker()\n",
    "        print(f\"Best Validation Accs at Epoch {BAE}\")\n",
    "        breaker()\n",
    "        print(\"Time Taken [{} Epochs] : {:.2f} minutes\".format(len(Losses), (time()-start_time)/60))\n",
    "    \n",
    "    return Losses, Accuracies, LRs, BLE, BAE, name\n",
    "\n",
    "\n",
    "def predict(model=None, dataloader=None, path=None, device=None) -> np.ndarray:\n",
    "    model.load_state_dict(torch.load(path, map_location=device)[\"model_state_dict\"])\n",
    "    model.to(device)    \n",
    "    model.eval()\n",
    "    \n",
    "    y_pred = torch.zeros(1, 1).to(device)\n",
    "    \n",
    "    for X in dataloader:\n",
    "        X = X.to(device)\n",
    "        with torch.no_grad():\n",
    "            output = torch.sigmoid(model(X))\n",
    "        y_pred = torch.cat((y_pred, output.view(-1, 1)), dim=0)\n",
    "    \n",
    "    y_pred[y_pred > 0.5] = 1\n",
    "    y_pred[y_pred <= 0.5] = 0\n",
    "    \n",
    "    return y_pred[1:].detach().cpu().numpy()"
   ]
  },
  {
   "cell_type": "markdown",
   "id": "fbd6c6e2",
   "metadata": {
    "papermill": {
     "duration": 0.012204,
     "end_time": "2022-07-04T10:14:38.828722",
     "exception": false,
     "start_time": "2022-07-04T10:14:38.816518",
     "status": "completed"
    },
    "tags": []
   },
   "source": [
    "### **Train**"
   ]
  },
  {
   "cell_type": "code",
   "execution_count": 7,
   "id": "ab27c607",
   "metadata": {
    "execution": {
     "iopub.execute_input": "2022-07-04T10:14:38.858304Z",
     "iopub.status.busy": "2022-07-04T10:14:38.857718Z",
     "iopub.status.idle": "2022-07-04T10:14:57.113350Z",
     "shell.execute_reply": "2022-07-04T10:14:57.113831Z",
     "shell.execute_reply.started": "2022-04-09T01:18:47.643848Z"
    },
    "papermill": {
     "duration": 18.272605,
     "end_time": "2022-07-04T10:14:57.114002",
     "exception": false,
     "start_time": "2022-07-04T10:14:38.841397",
     "status": "completed"
    },
    "tags": []
   },
   "outputs": [],
   "source": [
    "images = np.load(f\"../input/cxr-images-{SIZE}/train_images_{SIZE}.npy\")\n",
    "labels = np.load(f\"../input/cxr-images-{SIZE}/train_targets_{SIZE}.npy\")"
   ]
  },
  {
   "cell_type": "code",
   "execution_count": 8,
   "id": "12297c63",
   "metadata": {
    "execution": {
     "iopub.execute_input": "2022-07-04T10:14:57.155751Z",
     "iopub.status.busy": "2022-07-04T10:14:57.154547Z",
     "iopub.status.idle": "2022-07-04T13:20:59.661747Z",
     "shell.execute_reply": "2022-07-04T13:20:59.662204Z"
    },
    "papermill": {
     "duration": 11162.534016,
     "end_time": "2022-07-04T13:20:59.662368",
     "exception": false,
     "start_time": "2022-07-04T10:14:57.128352",
     "status": "completed"
    },
    "tags": []
   },
   "outputs": [
    {
     "name": "stderr",
     "output_type": "stream",
     "text": [
      "Downloading: \"https://download.pytorch.org/models/densenet169-b2777c0a.pth\" to /root/.cache/torch/hub/checkpoints/densenet169-b2777c0a.pth\n"
     ]
    },
    {
     "data": {
      "application/vnd.jupyter.widget-view+json": {
       "model_id": "9f16be3d077c4904944e852d66aaa341",
       "version_major": 2,
       "version_minor": 0
      },
      "text/plain": [
       "  0%|          | 0.00/54.7M [00:00<?, ?B/s]"
      ]
     },
     "metadata": {},
     "output_type": "display_data"
    },
    {
     "name": "stdout",
     "output_type": "stream",
     "text": [
      "\n",
      "**************************************************\n",
      "\n",
      "Training Fold 1...\n",
      "\n",
      "**************************************************\n",
      "\n",
      "Epoch: 1 | Train Loss: 0.30084 | Valid Loss: 0.06658 | Train Accs: 0.91078 | Valid Accs: 0.98106 | Time: 111.69 seconds\n",
      "Epoch: 2 | Train Loss: 0.07507 | Valid Loss: 0.06959 | Train Accs: 0.97448 | Valid Accs: 0.97984 | Time: 106.18 seconds\n",
      "Epoch: 3 | Train Loss: 0.09763 | Valid Loss: 0.04682 | Train Accs: 0.96302 | Valid Accs: 0.97768 | Time: 105.48 seconds\n",
      "Epoch: 4 | Train Loss: 0.10066 | Valid Loss: 0.15858 | Train Accs: 0.96379 | Valid Accs: 0.93953 | Time: 104.69 seconds\n",
      "Epoch: 5 | Train Loss: 0.08202 | Valid Loss: 0.11439 | Train Accs: 0.96923 | Valid Accs: 0.95455 | Time: 104.86 seconds\n",
      "Epoch: 6 | Train Loss: 0.05488 | Valid Loss: 0.04197 | Train Accs: 0.97758 | Valid Accs: 0.98390 | Time: 105.04 seconds\n",
      "Epoch: 7 | Train Loss: 0.04936 | Valid Loss: 0.08391 | Train Accs: 0.98330 | Valid Accs: 0.97064 | Time: 104.63 seconds\n",
      "Epoch: 8 | Train Loss: 0.04953 | Valid Loss: 0.07382 | Train Accs: 0.98115 | Valid Accs: 0.97064 | Time: 104.77 seconds\n",
      "Epoch: 9 | Train Loss: 0.05867 | Valid Loss: 0.03930 | Train Accs: 0.97972 | Valid Accs: 0.98268 | Time: 105.48 seconds\n",
      "Epoch: 10 | Train Loss: 0.03643 | Valid Loss: 0.08984 | Train Accs: 0.98736 | Valid Accs: 0.96726 | Time: 104.68 seconds\n",
      "Epoch: 11 | Train Loss: 0.03384 | Valid Loss: 0.04242 | Train Accs: 0.98783 | Valid Accs: 0.98742 | Time: 104.48 seconds\n",
      "Epoch: 12 | Train Loss: 0.01906 | Valid Loss: 0.03059 | Train Accs: 0.99308 | Valid Accs: 0.98864 | Time: 105.12 seconds\n",
      "Epoch: 13 | Train Loss: 0.01972 | Valid Loss: 0.02788 | Train Accs: 0.99266 | Valid Accs: 0.99026 | Time: 105.68 seconds\n",
      "Epoch: 14 | Train Loss: 0.01414 | Valid Loss: 0.02777 | Train Accs: 0.99427 | Valid Accs: 0.99242 | Time: 105.49 seconds\n",
      "Epoch: 15 | Train Loss: 0.01790 | Valid Loss: 0.02559 | Train Accs: 0.99308 | Valid Accs: 0.98931 | Time: 106.88 seconds\n",
      "Epoch: 16 | Train Loss: 0.01736 | Valid Loss: 0.03133 | Train Accs: 0.99332 | Valid Accs: 0.99053 | Time: 106.39 seconds\n",
      "Epoch: 17 | Train Loss: 0.00909 | Valid Loss: 0.02605 | Train Accs: 0.99690 | Valid Accs: 0.99242 | Time: 105.21 seconds\n",
      "Epoch: 18 | Train Loss: 0.00506 | Valid Loss: 0.02292 | Train Accs: 0.99833 | Valid Accs: 0.99242 | Time: 106.73 seconds\n",
      "Epoch: 19 | Train Loss: 0.00165 | Valid Loss: 0.02213 | Train Accs: 1.00000 | Valid Accs: 0.99432 | Time: 106.80 seconds\n",
      "Epoch: 20 | Train Loss: 0.00135 | Valid Loss: 0.02188 | Train Accs: 1.00000 | Valid Accs: 0.99432 | Time: 105.66 seconds\n",
      "Epoch: 21 | Train Loss: 0.00070 | Valid Loss: 0.02285 | Train Accs: 1.00000 | Valid Accs: 0.99337 | Time: 104.89 seconds\n",
      "Epoch: 22 | Train Loss: 0.00102 | Valid Loss: 0.02410 | Train Accs: 0.99976 | Valid Accs: 0.99337 | Time: 104.89 seconds\n",
      "Epoch: 23 | Train Loss: 0.00039 | Valid Loss: 0.02332 | Train Accs: 1.00000 | Valid Accs: 0.99337 | Time: 105.05 seconds\n",
      "Epoch: 24 | Train Loss: 0.00035 | Valid Loss: 0.02271 | Train Accs: 1.00000 | Valid Accs: 0.99337 | Time: 104.90 seconds\n",
      "Epoch: 25 | Train Loss: 0.00043 | Valid Loss: 0.02335 | Train Accs: 1.00000 | Valid Accs: 0.99337 | Time: 104.94 seconds\n",
      "\n",
      "**************************************************\n",
      "\n",
      "Best Validation Loss at Epoch 20\n",
      "\n",
      "**************************************************\n",
      "\n",
      "Best Validation Accs at Epoch 19\n",
      "\n",
      "**************************************************\n",
      "\n",
      "Time Taken [25 Epochs] : 44.02 minutes\n",
      "\n",
      "**************************************************\n",
      "\n"
     ]
    },
    {
     "data": {
      "image/png": "[encoded data removed]",
      "text/plain": [
       "<Figure size 576x432 with 2 Axes>"
      ]
     },
     "metadata": {
      "needs_background": "light"
     },
     "output_type": "display_data"
    },
    {
     "name": "stdout",
     "output_type": "stream",
     "text": [
      "\n",
      "**************************************************\n",
      "\n",
      "Training Fold 2...\n",
      "\n",
      "**************************************************\n",
      "\n",
      "Epoch: 1 | Train Loss: 0.30282 | Valid Loss: 0.08628 | Train Accs: 0.90887 | Valid Accs: 0.97633 | Time: 107.09 seconds\n",
      "Epoch: 2 | Train Loss: 0.08743 | Valid Loss: 0.08937 | Train Accs: 0.96780 | Valid Accs: 0.96564 | Time: 106.77 seconds\n",
      "Epoch: 3 | Train Loss: 0.09095 | Valid Loss: 0.29828 | Train Accs: 0.96493 | Valid Accs: 0.88068 | Time: 105.74 seconds\n",
      "Epoch: 4 | Train Loss: 0.08499 | Valid Loss: 0.14299 | Train Accs: 0.96618 | Valid Accs: 0.95238 | Time: 106.66 seconds\n",
      "Epoch: 5 | Train Loss: 0.07584 | Valid Loss: 0.14355 | Train Accs: 0.97114 | Valid Accs: 0.94981 | Time: 106.32 seconds\n",
      "Epoch: 6 | Train Loss: 0.05425 | Valid Loss: 0.04316 | Train Accs: 0.97925 | Valid Accs: 0.98363 | Time: 106.52 seconds\n",
      "Epoch: 7 | Train Loss: 0.06507 | Valid Loss: 0.08095 | Train Accs: 0.97495 | Valid Accs: 0.97890 | Time: 105.23 seconds\n",
      "Epoch: 8 | Train Loss: 0.05853 | Valid Loss: 0.04083 | Train Accs: 0.97758 | Valid Accs: 0.98485 | Time: 106.88 seconds\n",
      "Epoch: 9 | Train Loss: 0.04261 | Valid Loss: 0.02790 | Train Accs: 0.98330 | Valid Accs: 0.98958 | Time: 105.56 seconds\n",
      "Epoch: 10 | Train Loss: 0.03237 | Valid Loss: 0.03766 | Train Accs: 0.98807 | Valid Accs: 0.98363 | Time: 106.11 seconds\n",
      "Epoch: 11 | Train Loss: 0.02850 | Valid Loss: 0.02777 | Train Accs: 0.99094 | Valid Accs: 0.98864 | Time: 106.46 seconds\n",
      "Epoch: 12 | Train Loss: 0.02864 | Valid Loss: 0.02861 | Train Accs: 0.99094 | Valid Accs: 0.99242 | Time: 106.19 seconds\n",
      "Epoch: 13 | Train Loss: 0.02515 | Valid Loss: 0.03605 | Train Accs: 0.99170 | Valid Accs: 0.98864 | Time: 106.14 seconds\n",
      "Epoch: 14 | Train Loss: 0.02804 | Valid Loss: 0.03763 | Train Accs: 0.98884 | Valid Accs: 0.98958 | Time: 105.97 seconds\n",
      "Epoch: 15 | Train Loss: 0.01517 | Valid Loss: 0.01989 | Train Accs: 0.99523 | Valid Accs: 0.99432 | Time: 106.23 seconds\n",
      "Epoch: 16 | Train Loss: 0.00665 | Valid Loss: 0.02040 | Train Accs: 0.99785 | Valid Accs: 0.99527 | Time: 105.84 seconds\n",
      "Epoch: 17 | Train Loss: 0.00511 | Valid Loss: 0.02902 | Train Accs: 0.99881 | Valid Accs: 0.98769 | Time: 106.97 seconds\n",
      "Epoch: 18 | Train Loss: 0.00321 | Valid Loss: 0.02314 | Train Accs: 0.99881 | Valid Accs: 0.99432 | Time: 106.61 seconds\n",
      "Epoch: 19 | Train Loss: 0.00428 | Valid Loss: 0.02896 | Train Accs: 0.99857 | Valid Accs: 0.99242 | Time: 106.90 seconds\n",
      "Epoch: 20 | Train Loss: 0.00130 | Valid Loss: 0.02782 | Train Accs: 1.00000 | Valid Accs: 0.99242 | Time: 106.71 seconds\n",
      "\n",
      "Early Stopping at Epoch 21\n",
      "\n",
      "**************************************************\n",
      "\n",
      "Best Validation Loss at Epoch 15\n",
      "\n",
      "**************************************************\n",
      "\n",
      "Best Validation Accs at Epoch 16\n",
      "\n",
      "**************************************************\n",
      "\n",
      "Time Taken [21 Epochs] : 37.21 minutes\n",
      "\n",
      "**************************************************\n",
      "\n"
     ]
    },
    {
     "data": {
      "image/png": "[encoded data removed]",
      "text/plain": [
       "<Figure size 576x432 with 2 Axes>"
      ]
     },
     "metadata": {
      "needs_background": "light"
     },
     "output_type": "display_data"
    },
    {
     "name": "stdout",
     "output_type": "stream",
     "text": [
      "\n",
      "**************************************************\n",
      "\n",
      "Training Fold 3...\n",
      "\n",
      "**************************************************\n",
      "\n",
      "Epoch: 1 | Train Loss: 0.30791 | Valid Loss: 0.04915 | Train Accs: 0.90864 | Valid Accs: 0.99148 | Time: 107.46 seconds\n",
      "Epoch: 2 | Train Loss: 0.08487 | Valid Loss: 0.04813 | Train Accs: 0.97156 | Valid Accs: 0.99148 | Time: 107.26 seconds\n",
      "Epoch: 3 | Train Loss: 0.08226 | Valid Loss: 0.03890 | Train Accs: 0.96923 | Valid Accs: 0.98201 | Time: 107.53 seconds\n",
      "Epoch: 4 | Train Loss: 0.08533 | Valid Loss: 0.16942 | Train Accs: 0.96780 | Valid Accs: 0.93466 | Time: 105.27 seconds\n",
      "Epoch: 5 | Train Loss: 0.07901 | Valid Loss: 0.03807 | Train Accs: 0.96932 | Valid Accs: 0.98485 | Time: 107.23 seconds\n",
      "Epoch: 6 | Train Loss: 0.06887 | Valid Loss: 0.02681 | Train Accs: 0.97448 | Valid Accs: 0.99053 | Time: 107.99 seconds\n",
      "Epoch: 7 | Train Loss: 0.04730 | Valid Loss: 0.09688 | Train Accs: 0.98173 | Valid Accs: 0.96496 | Time: 107.34 seconds\n",
      "Epoch: 8 | Train Loss: 0.04905 | Valid Loss: 0.02802 | Train Accs: 0.98235 | Valid Accs: 0.99053 | Time: 108.01 seconds\n",
      "Epoch: 9 | Train Loss: 0.04090 | Valid Loss: 0.07793 | Train Accs: 0.98306 | Valid Accs: 0.97538 | Time: 108.02 seconds\n",
      "Epoch: 10 | Train Loss: 0.03024 | Valid Loss: 0.02970 | Train Accs: 0.98903 | Valid Accs: 0.98801 | Time: 107.58 seconds\n",
      "Epoch: 11 | Train Loss: 0.03665 | Valid Loss: 0.03008 | Train Accs: 0.98616 | Valid Accs: 0.98674 | Time: 107.65 seconds\n",
      "\n",
      "Early Stopping at Epoch 12\n",
      "\n",
      "**************************************************\n",
      "\n",
      "Best Validation Loss at Epoch 6\n",
      "\n",
      "**************************************************\n",
      "\n",
      "Best Validation Accs at Epoch 1\n",
      "\n",
      "**************************************************\n",
      "\n",
      "Time Taken [12 Epochs] : 21.47 minutes\n",
      "\n",
      "**************************************************\n",
      "\n"
     ]
    },
    {
     "data": {
      "image/png": "[encoded data removed]",
      "text/plain": [
       "<Figure size 576x432 with 2 Axes>"
      ]
     },
     "metadata": {
      "needs_background": "light"
     },
     "output_type": "display_data"
    },
    {
     "name": "stdout",
     "output_type": "stream",
     "text": [
      "\n",
      "**************************************************\n",
      "\n",
      "Training Fold 4...\n",
      "\n",
      "**************************************************\n",
      "\n",
      "Epoch: 1 | Train Loss: 0.29986 | Valid Loss: 0.06874 | Train Accs: 0.91446 | Valid Accs: 0.97759 | Time: 106.62 seconds\n",
      "Epoch: 2 | Train Loss: 0.08542 | Valid Loss: 0.13774 | Train Accs: 0.96980 | Valid Accs: 0.95076 | Time: 105.78 seconds\n",
      "Epoch: 3 | Train Loss: 0.08485 | Valid Loss: 0.18703 | Train Accs: 0.96970 | Valid Accs: 0.92551 | Time: 105.67 seconds\n",
      "Epoch: 4 | Train Loss: 0.09461 | Valid Loss: 0.17283 | Train Accs: 0.96264 | Valid Accs: 0.94318 | Time: 105.90 seconds\n",
      "Epoch: 5 | Train Loss: 0.07560 | Valid Loss: 0.31962 | Train Accs: 0.96932 | Valid Accs: 0.86364 | Time: 105.87 seconds\n",
      "Epoch: 6 | Train Loss: 0.07101 | Valid Loss: 0.14130 | Train Accs: 0.97352 | Valid Accs: 0.94729 | Time: 105.65 seconds\n",
      "Epoch: 7 | Train Loss: 0.05323 | Valid Loss: 0.03353 | Train Accs: 0.97972 | Valid Accs: 0.99053 | Time: 106.13 seconds\n",
      "Epoch: 8 | Train Loss: 0.04135 | Valid Loss: 0.03924 | Train Accs: 0.98578 | Valid Accs: 0.98769 | Time: 105.65 seconds\n",
      "Epoch: 9 | Train Loss: 0.04678 | Valid Loss: 0.06131 | Train Accs: 0.98235 | Valid Accs: 0.97443 | Time: 105.84 seconds\n",
      "Epoch: 10 | Train Loss: 0.02338 | Valid Loss: 0.08998 | Train Accs: 0.99213 | Valid Accs: 0.97917 | Time: 105.67 seconds\n",
      "Epoch: 11 | Train Loss: 0.03467 | Valid Loss: 0.01921 | Train Accs: 0.98817 | Valid Accs: 0.99242 | Time: 106.30 seconds\n",
      "Epoch: 12 | Train Loss: 0.02454 | Valid Loss: 0.05704 | Train Accs: 0.99141 | Valid Accs: 0.98201 | Time: 105.68 seconds\n",
      "Epoch: 13 | Train Loss: 0.03096 | Valid Loss: 0.04370 | Train Accs: 0.98984 | Valid Accs: 0.98295 | Time: 105.66 seconds\n",
      "Epoch: 14 | Train Loss: 0.01920 | Valid Loss: 0.01893 | Train Accs: 0.99308 | Valid Accs: 0.98958 | Time: 106.29 seconds\n",
      "Epoch: 15 | Train Loss: 0.01194 | Valid Loss: 0.02450 | Train Accs: 0.99571 | Valid Accs: 0.99053 | Time: 105.78 seconds\n",
      "Epoch: 16 | Train Loss: 0.00627 | Valid Loss: 0.05086 | Train Accs: 0.99833 | Valid Accs: 0.98011 | Time: 105.84 seconds\n",
      "Epoch: 17 | Train Loss: 0.00890 | Valid Loss: 0.01459 | Train Accs: 0.99714 | Valid Accs: 0.99242 | Time: 106.18 seconds\n",
      "Epoch: 18 | Train Loss: 0.00495 | Valid Loss: 0.01021 | Train Accs: 0.99857 | Valid Accs: 0.99527 | Time: 106.08 seconds\n",
      "Epoch: 19 | Train Loss: 0.00261 | Valid Loss: 0.01324 | Train Accs: 0.99952 | Valid Accs: 0.99432 | Time: 105.85 seconds\n",
      "Epoch: 20 | Train Loss: 0.00113 | Valid Loss: 0.01765 | Train Accs: 0.99976 | Valid Accs: 0.99242 | Time: 105.74 seconds\n",
      "Epoch: 21 | Train Loss: 0.00041 | Valid Loss: 0.01447 | Train Accs: 1.00000 | Valid Accs: 0.99337 | Time: 105.54 seconds\n",
      "Epoch: 22 | Train Loss: 0.00045 | Valid Loss: 0.01160 | Train Accs: 1.00000 | Valid Accs: 0.99337 | Time: 105.84 seconds\n",
      "Epoch: 23 | Train Loss: 0.00073 | Valid Loss: 0.00915 | Train Accs: 0.99976 | Valid Accs: 0.99527 | Time: 106.17 seconds\n",
      "Epoch: 24 | Train Loss: 0.00056 | Valid Loss: 0.01064 | Train Accs: 1.00000 | Valid Accs: 0.99432 | Time: 105.67 seconds\n",
      "Epoch: 25 | Train Loss: 0.00061 | Valid Loss: 0.01228 | Train Accs: 1.00000 | Valid Accs: 0.99242 | Time: 105.99 seconds\n",
      "\n",
      "**************************************************\n",
      "\n",
      "Best Validation Loss at Epoch 23\n",
      "\n",
      "**************************************************\n",
      "\n",
      "Best Validation Accs at Epoch 18\n",
      "\n",
      "**************************************************\n",
      "\n",
      "Time Taken [25 Epochs] : 44.13 minutes\n",
      "\n",
      "**************************************************\n",
      "\n"
     ]
    },
    {
     "data": {
      "image/png": "[encoded data removed]",
      "text/plain": [
       "<Figure size 576x432 with 2 Axes>"
      ]
     },
     "metadata": {
      "needs_background": "light"
     },
     "output_type": "display_data"
    },
    {
     "name": "stdout",
     "output_type": "stream",
     "text": [
      "\n",
      "**************************************************\n",
      "\n",
      "Training Fold 5...\n",
      "\n",
      "**************************************************\n",
      "\n",
      "Epoch: 1 | Train Loss: 0.30215 | Valid Loss: 0.05219 | Train Accs: 0.90530 | Valid Accs: 0.98769 | Time: 106.27 seconds\n",
      "Epoch: 2 | Train Loss: 0.08940 | Valid Loss: 0.11708 | Train Accs: 0.97185 | Valid Accs: 0.95170 | Time: 105.63 seconds\n",
      "Epoch: 3 | Train Loss: 0.08178 | Valid Loss: 0.14041 | Train Accs: 0.96956 | Valid Accs: 0.94697 | Time: 105.70 seconds\n",
      "Epoch: 4 | Train Loss: 0.07302 | Valid Loss: 0.22060 | Train Accs: 0.97233 | Valid Accs: 0.91383 | Time: 105.60 seconds\n",
      "Epoch: 5 | Train Loss: 0.07656 | Valid Loss: 0.05152 | Train Accs: 0.96851 | Valid Accs: 0.98011 | Time: 106.24 seconds\n",
      "Epoch: 6 | Train Loss: 0.06559 | Valid Loss: 0.06353 | Train Accs: 0.97471 | Valid Accs: 0.97538 | Time: 105.80 seconds\n",
      "Epoch: 7 | Train Loss: 0.05324 | Valid Loss: 0.08371 | Train Accs: 0.97853 | Valid Accs: 0.96622 | Time: 105.53 seconds\n",
      "Epoch: 8 | Train Loss: 0.04099 | Valid Loss: 0.07023 | Train Accs: 0.98411 | Valid Accs: 0.97727 | Time: 106.06 seconds\n",
      "Epoch: 9 | Train Loss: 0.04740 | Valid Loss: 0.05707 | Train Accs: 0.98197 | Valid Accs: 0.97759 | Time: 106.30 seconds\n",
      "Epoch: 10 | Train Loss: 0.03640 | Valid Loss: 0.08482 | Train Accs: 0.98736 | Valid Accs: 0.96875 | Time: 105.55 seconds\n",
      "Epoch: 11 | Train Loss: 0.03782 | Valid Loss: 0.03728 | Train Accs: 0.98664 | Valid Accs: 0.98769 | Time: 106.18 seconds\n",
      "Epoch: 12 | Train Loss: 0.01704 | Valid Loss: 0.08651 | Train Accs: 0.99380 | Valid Accs: 0.96433 | Time: 105.98 seconds\n",
      "Epoch: 13 | Train Loss: 0.02102 | Valid Loss: 0.02607 | Train Accs: 0.99260 | Valid Accs: 0.99053 | Time: 106.48 seconds\n",
      "Epoch: 14 | Train Loss: 0.01271 | Valid Loss: 0.05101 | Train Accs: 0.99475 | Valid Accs: 0.98390 | Time: 105.71 seconds\n",
      "Epoch: 15 | Train Loss: 0.02419 | Valid Loss: 0.03908 | Train Accs: 0.99332 | Valid Accs: 0.98674 | Time: 105.49 seconds\n",
      "Epoch: 16 | Train Loss: 0.00916 | Valid Loss: 0.02039 | Train Accs: 0.99642 | Valid Accs: 0.99053 | Time: 106.04 seconds\n",
      "Epoch: 17 | Train Loss: 0.00397 | Valid Loss: 0.02109 | Train Accs: 0.99905 | Valid Accs: 0.99148 | Time: 105.37 seconds\n",
      "Epoch: 18 | Train Loss: 0.00306 | Valid Loss: 0.02605 | Train Accs: 0.99952 | Valid Accs: 0.99053 | Time: 106.14 seconds\n",
      "Epoch: 19 | Train Loss: 0.00224 | Valid Loss: 0.02549 | Train Accs: 0.99952 | Valid Accs: 0.99242 | Time: 106.39 seconds\n",
      "Epoch: 20 | Train Loss: 0.00229 | Valid Loss: 0.03055 | Train Accs: 0.99952 | Valid Accs: 0.99148 | Time: 105.84 seconds\n",
      "Epoch: 21 | Train Loss: 0.00133 | Valid Loss: 0.02642 | Train Accs: 0.99952 | Valid Accs: 0.99053 | Time: 105.76 seconds\n",
      "\n",
      "Early Stopping at Epoch 22\n",
      "\n",
      "**************************************************\n",
      "\n",
      "Best Validation Loss at Epoch 16\n",
      "\n",
      "**************************************************\n",
      "\n",
      "Best Validation Accs at Epoch 19\n",
      "\n",
      "**************************************************\n",
      "\n",
      "Time Taken [22 Epochs] : 38.84 minutes\n",
      "\n",
      "**************************************************\n",
      "\n"
     ]
    },
    {
     "data": {
      "image/png": "[encoded data removed]",
      "text/plain": [
       "<Figure size 576x432 with 2 Axes>"
      ]
     },
     "metadata": {
      "needs_background": "light"
     },
     "output_type": "display_data"
    }
   ],
   "source": [
    "fold = 1\n",
    "BLEs, BAEs = [], []\n",
    "\n",
    "for tr_idx, va_idx in KFold(n_splits=cfg.n_splits, random_state=SEED, shuffle=True).split(images):\n",
    "    tr_images, va_images, tr_labels, va_labels = images[tr_idx], images[va_idx], labels[tr_idx], labels[va_idx]\n",
    "\n",
    "    tr_data_setup = DS(tr_images, tr_labels.reshape(-1, 1), cfg.transform)\n",
    "    va_data_setup = DS(va_images, va_labels.reshape(-1, 1), cfg.transform)\n",
    "\n",
    "    dataloaders = {\n",
    "        \"train\" : DL(tr_data_setup, batch_size=cfg.batch_size, shuffle=True, generator=torch.manual_seed(cfg.seed)),\n",
    "        \"valid\" : DL(va_data_setup, batch_size=cfg.batch_size, shuffle=False),\n",
    "    }\n",
    "\n",
    "    cfg = CFG(epochs=25, lr=1e-3, wd=0.0, batch_size=16, steps_per_epoch=len(dataloaders[\"train\"]))\n",
    "\n",
    "    torch.manual_seed(cfg.seed)\n",
    "    model = Model().to(cfg.device)\n",
    "    \n",
    "    optimizer = optim.Adam([p for p in model.parameters() if p.requires_grad], lr=cfg.lr, weight_decay=cfg.wd)\n",
    "    # optimizer = optim.AdamW([p for p in model.parameters() if p.requires_grad], lr=cfg.lr, weight_decay=cfg.wd)\n",
    "\n",
    "    # scheduler_rlrop = optim.lr_scheduler.ReduceLROnPlateau(optimizer=optimizer,\n",
    "    #                                                        patience=cfg.patience,\n",
    "    #                                                        eps=cfg.eps,\n",
    "    #                                                        verbose=True)\n",
    "    scheduler_oclr = optim.lr_scheduler.OneCycleLR(optimizer=optimizer, \n",
    "                                                   max_lr=cfg.max_lr, \n",
    "                                                   epochs=cfg.epochs, \n",
    "                                                   steps_per_epoch=cfg.steps_per_epoch,\n",
    "                                                   pct_start=cfg.pct_start, \n",
    "                                                   div_factor=cfg.div_factor, \n",
    "                                                   final_div_factor=cfg.final_div_factor)\n",
    "    scheduler_rlrop = None\n",
    "    # scheduler_oclr = None\n",
    "\n",
    "    L, A, LRs, BLE, BAE, name = fit(model=model, \n",
    "                                    optimizer=optimizer, \n",
    "                                    scheduler_rlrop=scheduler_rlrop,\n",
    "                                    scheduler_oclr=scheduler_oclr, \n",
    "                                    epochs=cfg.epochs, \n",
    "                                    early_stopping_patience=cfg.early_stopping, \n",
    "                                    dataloaders=dataloaders, \n",
    "                                    device=cfg.device,\n",
    "                                    save_path=cfg.save_path,\n",
    "                                    fold = fold,\n",
    "                                    verbose=True)\n",
    "\n",
    "    breaker()\n",
    "    show_graphs(L, A)\n",
    "    \n",
    "    BLEs.append(BLE)\n",
    "    BAEs.append(BAE)\n",
    "\n",
    "    fold += 1"
   ]
  },
  {
   "cell_type": "markdown",
   "id": "ed3b25a9",
   "metadata": {
    "papermill": {
     "duration": 0.054548,
     "end_time": "2022-07-04T13:20:59.771805",
     "exception": false,
     "start_time": "2022-07-04T13:20:59.717257",
     "status": "completed"
    },
    "tags": []
   },
   "source": [
    "### **Predictions**"
   ]
  },
  {
   "cell_type": "code",
   "execution_count": 9,
   "id": "1a6ba13a",
   "metadata": {
    "execution": {
     "iopub.execute_input": "2022-07-04T13:20:59.891144Z",
     "iopub.status.busy": "2022-07-04T13:20:59.890574Z",
     "iopub.status.idle": "2022-07-04T13:21:07.448606Z",
     "shell.execute_reply": "2022-07-04T13:21:07.448133Z",
     "shell.execute_reply.started": "2022-04-09T01:41:41.028783Z"
    },
    "papermill": {
     "duration": 7.620767,
     "end_time": "2022-07-04T13:21:07.448746",
     "exception": false,
     "start_time": "2022-07-04T13:20:59.827979",
     "status": "completed"
    },
    "tags": []
   },
   "outputs": [
    {
     "name": "stdout",
     "output_type": "stream",
     "text": [
      "\n",
      "**************************************************\n",
      "\n",
      "Best Fold : 3\n",
      "\n",
      "**************************************************\n",
      "\n",
      "Accuracy  : 0.78526\n",
      "ROC-AUC   : 0.87214\n",
      "Precision : [0.42735043 1.        ]\n",
      "Recall    : [1.         0.74427481]\n",
      "F-Score   : [0.5988024  0.85339168]\n",
      "\n",
      "**************************************************\n",
      "\n",
      "              precision    recall  f1-score   support\n",
      "\n",
      "         0.0       1.00      0.43      0.60       234\n",
      "         1.0       0.74      1.00      0.85       390\n",
      "\n",
      "    accuracy                           0.79       624\n",
      "   macro avg       0.87      0.71      0.73       624\n",
      "weighted avg       0.84      0.79      0.76       624\n",
      "\n",
      "\n",
      "**************************************************\n",
      "\n",
      "[[100 134]\n",
      " [  0 390]]\n",
      "\n",
      "**************************************************\n",
      "\n"
     ]
    }
   ],
   "source": [
    "test_images = np.load(f\"../input/cxr-images-{SIZE}/test_images_{SIZE}.npy\")\n",
    "test_labels = np.load(f\"../input/cxr-images-{SIZE}/test_targets_{SIZE}.npy\")\n",
    "\n",
    "ts_data_setup = DS(test_images, None, cfg.transform)\n",
    "ts_data = DL(ts_data_setup, batch_size=cfg.batch_size, shuffle=False)\n",
    "\n",
    "best_fold = BLEs.index(min(BLEs)) + 1\n",
    "model_path = f\"saves/state_fold_{best_fold}.pt\"\n",
    "y_pred = predict(model=Model().to(cfg.device), dataloader=ts_data, path=model_path, device=cfg.device)\n",
    "\n",
    "accuracy, auc, precision, recall, f_score = get_scores(test_labels, y_pred)\n",
    "\n",
    "breaker()\n",
    "print(f\"Best Fold : {best_fold}\")\n",
    "breaker()\n",
    "print_scores(accuracy, auc, precision, recall, f_score)\n",
    "breaker()\n",
    "print(classification_report(test_labels, y_pred))\n",
    "breaker()\n",
    "print(confusion_matrix(test_labels, y_pred))\n",
    "breaker()"
   ]
  }
 ],
 "metadata": {
  "kernelspec": {
   "display_name": "Python 3",
   "language": "python",
   "name": "python3"
  },
  "language_info": {
   "codemirror_mode": {
    "name": "ipython",
    "version": 3
   },
   "file_extension": ".py",
   "mimetype": "text/x-python",
   "name": "python",
   "nbconvert_exporter": "python",
   "pygments_lexer": "ipython3",
   "version": "3.7.12"
  },
  "papermill": {
   "default_parameters": {},
   "duration": 11202.343183,
   "end_time": "2022-07-04T13:21:09.829464",
   "environment_variables": {},
   "exception": null,
   "input_path": "__notebook__.ipynb",
   "output_path": "__notebook__.ipynb",
   "parameters": {},
   "start_time": "2022-07-04T10:14:27.486281",
   "version": "2.3.3"
  },
  "widgets": {
   "application/vnd.jupyter.widget-state+json": {
    "state": {
     "048b1142b9a846afabc68bad03e48c81": {
      "model_module": "@jupyter-widgets/base",
      "model_module_version": "1.2.0",
      "model_name": "LayoutModel",
      "state": {
       "_model_module": "@jupyter-widgets/base",
       "_model_module_version": "1.2.0",
       "_model_name": "LayoutModel",
       "_view_count": null,
       "_view_module": "@jupyter-widgets/base",
       "_view_module_version": "1.2.0",
       "_view_name": "LayoutView",
       "align_content": null,
       "align_items": null,
       "align_self": null,
       "border": null,
       "bottom": null,
       "display": null,
       "flex": null,
       "flex_flow": null,
       "grid_area": null,
       "grid_auto_columns": null,
       "grid_auto_flow": null,
       "grid_auto_rows": null,
       "grid_column": null,
       "grid_gap": null,
       "grid_row": null,
       "grid_template_areas": null,
       "grid_template_columns": null,
       "grid_template_rows": null,
       "height": null,
       "justify_content": null,
       "justify_items": null,
       "left": null,
       "margin": null,
       "max_height": null,
       "max_width": null,
       "min_height": null,
       "min_width": null,
       "object_fit": null,
       "object_position": null,
       "order": null,
       "overflow": null,
       "overflow_x": null,
       "overflow_y": null,
       "padding": null,
       "right": null,
       "top": null,
       "visibility": null,
       "width": null
      }
     },
     "2c25e2bc3ccd4586a7e871263048389e": {
      "model_module": "@jupyter-widgets/controls",
      "model_module_version": "1.5.0",
      "model_name": "ProgressStyleModel",
      "state": {
       "_model_module": "@jupyter-widgets/controls",
       "_model_module_version": "1.5.0",
       "_model_name": "ProgressStyleModel",
       "_view_count": null,
       "_view_module": "@jupyter-widgets/base",
       "_view_module_version": "1.2.0",
       "_view_name": "StyleView",
       "bar_color": null,
       "description_width": ""
      }
     },
     "3f16909440214833a1972e1dc3e14a7a": {
      "model_module": "@jupyter-widgets/base",
      "model_module_version": "1.2.0",
      "model_name": "LayoutModel",
      "state": {
       "_model_module": "@jupyter-widgets/base",
       "_model_module_version": "1.2.0",
       "_model_name": "LayoutModel",
       "_view_count": null,
       "_view_module": "@jupyter-widgets/base",
       "_view_module_version": "1.2.0",
       "_view_name": "LayoutView",
       "align_content": null,
       "align_items": null,
       "align_self": null,
       "border": null,
       "bottom": null,
       "display": null,
       "flex": null,
       "flex_flow": null,
       "grid_area": null,
       "grid_auto_columns": null,
       "grid_auto_flow": null,
       "grid_auto_rows": null,
       "grid_column": null,
       "grid_gap": null,
       "grid_row": null,
       "grid_template_areas": null,
       "grid_template_columns": null,
       "grid_template_rows": null,
       "height": null,
       "justify_content": null,
       "justify_items": null,
       "left": null,
       "margin": null,
       "max_height": null,
       "max_width": null,
       "min_height": null,
       "min_width": null,
       "object_fit": null,
       "object_position": null,
       "order": null,
       "overflow": null,
       "overflow_x": null,
       "overflow_y": null,
       "padding": null,
       "right": null,
       "top": null,
       "visibility": null,
       "width": null
      }
     },
     "45d11f143c824f18a83969946d6a3c6d": {
      "model_module": "@jupyter-widgets/controls",
      "model_module_version": "1.5.0",
      "model_name": "HTMLModel",
      "state": {
       "_dom_classes": [],
       "_model_module": "@jupyter-widgets/controls",
       "_model_module_version": "1.5.0",
       "_model_name": "HTMLModel",
       "_view_count": null,
       "_view_module": "@jupyter-widgets/controls",
       "_view_module_version": "1.5.0",
       "_view_name": "HTMLView",
       "description": "",
       "description_tooltip": null,
       "layout": "IPY_MODEL_4cc4ed5645ae4f3c8d59781cf9c40e24",
       "placeholder": "​",
       "style": "IPY_MODEL_ed6a4a3caa9a4da8964501a17e06a571",
       "value": " 54.7M/54.7M [00:06&lt;00:00, 11.8MB/s]"
      }
     },
     "4cc4ed5645ae4f3c8d59781cf9c40e24": {
      "model_module": "@jupyter-widgets/base",
      "model_module_version": "1.2.0",
      "model_name": "LayoutModel",
      "state": {
       "_model_module": "@jupyter-widgets/base",
       "_model_module_version": "1.2.0",
       "_model_name": "LayoutModel",
       "_view_count": null,
       "_view_module": "@jupyter-widgets/base",
       "_view_module_version": "1.2.0",
       "_view_name": "LayoutView",
       "align_content": null,
       "align_items": null,
       "align_self": null,
       "border": null,
       "bottom": null,
       "display": null,
       "flex": null,
       "flex_flow": null,
       "grid_area": null,
       "grid_auto_columns": null,
       "grid_auto_flow": null,
       "grid_auto_rows": null,
       "grid_column": null,
       "grid_gap": null,
       "grid_row": null,
       "grid_template_areas": null,
       "grid_template_columns": null,
       "grid_template_rows": null,
       "height": null,
       "justify_content": null,
       "justify_items": null,
       "left": null,
       "margin": null,
       "max_height": null,
       "max_width": null,
       "min_height": null,
       "min_width": null,
       "object_fit": null,
       "object_position": null,
       "order": null,
       "overflow": null,
       "overflow_x": null,
       "overflow_y": null,
       "padding": null,
       "right": null,
       "top": null,
       "visibility": null,
       "width": null
      }
     },
     "7cceffdd82fb4bc6b35e2776d3931ef0": {
      "model_module": "@jupyter-widgets/controls",
      "model_module_version": "1.5.0",
      "model_name": "HTMLModel",
      "state": {
       "_dom_classes": [],
       "_model_module": "@jupyter-widgets/controls",
       "_model_module_version": "1.5.0",
       "_model_name": "HTMLModel",
       "_view_count": null,
       "_view_module": "@jupyter-widgets/controls",
       "_view_module_version": "1.5.0",
       "_view_name": "HTMLView",
       "description": "",
       "description_tooltip": null,
       "layout": "IPY_MODEL_afbc5bb73ec1404c8041f5b81c60c9e8",
       "placeholder": "​",
       "style": "IPY_MODEL_8a5e45a978cc46aab703fa58e5217962",
       "value": "100%"
      }
     },
     "8a5e45a978cc46aab703fa58e5217962": {
      "model_module": "@jupyter-widgets/controls",
      "model_module_version": "1.5.0",
      "model_name": "DescriptionStyleModel",
      "state": {
       "_model_module": "@jupyter-widgets/controls",
       "_model_module_version": "1.5.0",
       "_model_name": "DescriptionStyleModel",
       "_view_count": null,
       "_view_module": "@jupyter-widgets/base",
       "_view_module_version": "1.2.0",
       "_view_name": "StyleView",
       "description_width": ""
      }
     },
     "9f16be3d077c4904944e852d66aaa341": {
      "model_module": "@jupyter-widgets/controls",
      "model_module_version": "1.5.0",
      "model_name": "HBoxModel",
      "state": {
       "_dom_classes": [],
       "_model_module": "@jupyter-widgets/controls",
       "_model_module_version": "1.5.0",
       "_model_name": "HBoxModel",
       "_view_count": null,
       "_view_module": "@jupyter-widgets/controls",
       "_view_module_version": "1.5.0",
       "_view_name": "HBoxView",
       "box_style": "",
       "children": [
        "IPY_MODEL_7cceffdd82fb4bc6b35e2776d3931ef0",
        "IPY_MODEL_a894c990487a44508105decbf42e5829",
        "IPY_MODEL_45d11f143c824f18a83969946d6a3c6d"
       ],
       "layout": "IPY_MODEL_048b1142b9a846afabc68bad03e48c81"
      }
     },
     "a894c990487a44508105decbf42e5829": {
      "model_module": "@jupyter-widgets/controls",
      "model_module_version": "1.5.0",
      "model_name": "FloatProgressModel",
      "state": {
       "_dom_classes": [],
       "_model_module": "@jupyter-widgets/controls",
       "_model_module_version": "1.5.0",
       "_model_name": "FloatProgressModel",
       "_view_count": null,
       "_view_module": "@jupyter-widgets/controls",
       "_view_module_version": "1.5.0",
       "_view_name": "ProgressView",
       "bar_style": "success",
       "description": "",
       "description_tooltip": null,
       "layout": "IPY_MODEL_3f16909440214833a1972e1dc3e14a7a",
       "max": 57365526.0,
       "min": 0.0,
       "orientation": "horizontal",
       "style": "IPY_MODEL_2c25e2bc3ccd4586a7e871263048389e",
       "value": 57365526.0
      }
     },
     "afbc5bb73ec1404c8041f5b81c60c9e8": {
      "model_module": "@jupyter-widgets/base",
      "model_module_version": "1.2.0",
      "model_name": "LayoutModel",
      "state": {
       "_model_module": "@jupyter-widgets/base",
       "_model_module_version": "1.2.0",
       "_model_name": "LayoutModel",
       "_view_count": null,
       "_view_module": "@jupyter-widgets/base",
       "_view_module_version": "1.2.0",
       "_view_name": "LayoutView",
       "align_content": null,
       "align_items": null,
       "align_self": null,
       "border": null,
       "bottom": null,
       "display": null,
       "flex": null,
       "flex_flow": null,
       "grid_area": null,
       "grid_auto_columns": null,
       "grid_auto_flow": null,
       "grid_auto_rows": null,
       "grid_column": null,
       "grid_gap": null,
       "grid_row": null,
       "grid_template_areas": null,
       "grid_template_columns": null,
       "grid_template_rows": null,
       "height": null,
       "justify_content": null,
       "justify_items": null,
       "left": null,
       "margin": null,
       "max_height": null,
       "max_width": null,
       "min_height": null,
       "min_width": null,
       "object_fit": null,
       "object_position": null,
       "order": null,
       "overflow": null,
       "overflow_x": null,
       "overflow_y": null,
       "padding": null,
       "right": null,
       "top": null,
       "visibility": null,
       "width": null
      }
     },
     "ed6a4a3caa9a4da8964501a17e06a571": {
      "model_module": "@jupyter-widgets/controls",
      "model_module_version": "1.5.0",
      "model_name": "DescriptionStyleModel",
      "state": {
       "_model_module": "@jupyter-widgets/controls",
       "_model_module_version": "1.5.0",
       "_model_name": "DescriptionStyleModel",
       "_view_count": null,
       "_view_module": "@jupyter-widgets/base",
       "_view_module_version": "1.2.0",
       "_view_name": "StyleView",
       "description_width": ""
      }
     }
    },
    "version_major": 2,
    "version_minor": 0
   }
  }
 },
 "nbformat": 4,
 "nbformat_minor": 5
}
