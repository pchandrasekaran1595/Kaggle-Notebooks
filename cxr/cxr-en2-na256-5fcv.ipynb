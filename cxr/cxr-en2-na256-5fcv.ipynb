{
 "cells": [
  {
   "cell_type": "code",
   "execution_count": 1,
   "id": "075f4cb2",
   "metadata": {
    "_cell_guid": "b1076dfc-b9ad-4769-8c92-a6c4dae69d19",
    "_uuid": "8f2839f25d086af736a60e9eeb907d3b93b6e0e5",
    "execution": {
     "iopub.execute_input": "2022-04-14T05:35:16.641670Z",
     "iopub.status.busy": "2022-04-14T05:35:16.640214Z",
     "iopub.status.idle": "2022-04-14T05:35:26.601051Z",
     "shell.execute_reply": "2022-04-14T05:35:26.600388Z"
    },
    "papermill": {
     "duration": 10.010571,
     "end_time": "2022-04-14T05:35:26.601236",
     "exception": false,
     "start_time": "2022-04-14T05:35:16.590665",
     "status": "completed"
    },
    "tags": []
   },
   "outputs": [
    {
     "name": "stderr",
     "output_type": "stream",
     "text": [
      "WARNING: Running pip as the 'root' user can result in broken permissions and conflicting behaviour with the system package manager. It is recommended to use a virtual environment instead: https://pip.pypa.io/warnings/venv\n"
     ]
    }
   ],
   "source": [
    "%%bash\n",
    "pip install --upgrade -q efficientnet_pytorch"
   ]
  },
  {
   "cell_type": "markdown",
   "id": "cc156e1c",
   "metadata": {
    "papermill": {
     "duration": 0.013572,
     "end_time": "2022-04-14T05:35:26.629173",
     "exception": false,
     "start_time": "2022-04-14T05:35:26.615601",
     "status": "completed"
    },
    "tags": []
   },
   "source": [
    "### **Library Imports**"
   ]
  },
  {
   "cell_type": "code",
   "execution_count": 2,
   "id": "2ba17490",
   "metadata": {
    "execution": {
     "iopub.execute_input": "2022-04-14T05:35:26.663626Z",
     "iopub.status.busy": "2022-04-14T05:35:26.662858Z",
     "iopub.status.idle": "2022-04-14T05:35:29.028102Z",
     "shell.execute_reply": "2022-04-14T05:35:29.027560Z",
     "shell.execute_reply.started": "2022-04-09T01:18:45.162484Z"
    },
    "papermill": {
     "duration": 2.38509,
     "end_time": "2022-04-14T05:35:29.028244",
     "exception": false,
     "start_time": "2022-04-14T05:35:26.643154",
     "status": "completed"
    },
    "tags": []
   },
   "outputs": [],
   "source": [
    "import os\n",
    "import re\n",
    "import torch\n",
    "import numpy as np\n",
    "import pandas as pd\n",
    "import matplotlib.pyplot as plt\n",
    "\n",
    "from time import time\n",
    "from torch import nn, optim\n",
    "from torch.utils.data import Dataset\n",
    "from torch.utils.data import DataLoader as DL\n",
    "from torchvision import models, transforms\n",
    "\n",
    "from sklearn.model_selection import KFold\n",
    "from sklearn.preprocessing import LabelEncoder\n",
    "from sklearn.metrics import accuracy_score, \\\n",
    "                            precision_recall_fscore_support, \\\n",
    "                            roc_auc_score, \\\n",
    "                            classification_report, \\\n",
    "                            confusion_matrix\n",
    "from efficientnet_pytorch import EfficientNet"
   ]
  },
  {
   "cell_type": "markdown",
   "id": "f332daa7",
   "metadata": {
    "papermill": {
     "duration": 0.013828,
     "end_time": "2022-04-14T05:35:29.056147",
     "exception": false,
     "start_time": "2022-04-14T05:35:29.042319",
     "status": "completed"
    },
    "tags": []
   },
   "source": [
    "### **Utilities**"
   ]
  },
  {
   "cell_type": "code",
   "execution_count": 3,
   "id": "5d21b663",
   "metadata": {
    "execution": {
     "iopub.execute_input": "2022-04-14T05:35:29.097093Z",
     "iopub.status.busy": "2022-04-14T05:35:29.096293Z",
     "iopub.status.idle": "2022-04-14T05:35:29.098227Z",
     "shell.execute_reply": "2022-04-14T05:35:29.098618Z",
     "shell.execute_reply.started": "2022-04-09T01:18:47.512362Z"
    },
    "papermill": {
     "duration": 0.028974,
     "end_time": "2022-04-14T05:35:29.098734",
     "exception": false,
     "start_time": "2022-04-14T05:35:29.069760",
     "status": "completed"
    },
    "tags": []
   },
   "outputs": [],
   "source": [
    "SEED = 42\n",
    "SIZE = 256\n",
    "\n",
    "def breaker(num: int=50, char: str=\"*\") -> None:\n",
    "    print(\"\\n\" + num*char + \"\\n\")\n",
    "\n",
    "\n",
    "def show_graphs(L: list, A: list) -> None:\n",
    "    TL, VL, TA, VA = [], [], [], []\n",
    "    for i in range(len(L)):\n",
    "        TL.append(L[i][\"train\"])\n",
    "        VL.append(L[i][\"valid\"])\n",
    "        TA.append(A[i][\"train\"])\n",
    "        VA.append(A[i][\"valid\"])\n",
    "    x_Axis = np.arange(1, len(TL) + 1)\n",
    "    plt.figure(figsize=(8, 6))\n",
    "    plt.subplot(1, 2, 1)\n",
    "    plt.plot(x_Axis, TL, \"r\", label=\"Train\")\n",
    "    plt.plot(x_Axis, VL, \"b\", label=\"Valid\")\n",
    "    plt.legend()\n",
    "    plt.grid()\n",
    "    plt.title(\"Loss Graph\")\n",
    "    plt.subplot(1, 2, 2)\n",
    "    plt.plot(x_Axis, TA, \"r\", label=\"Train\")\n",
    "    plt.plot(x_Axis, VA, \"b\", label=\"Valid\")\n",
    "    plt.legend()\n",
    "    plt.grid()\n",
    "    plt.title(\"Accuracy Graph\")\n",
    "    plt.show()\n",
    "\n",
    "    \n",
    "def get_scores(y_true: np.ndarray, y_pred: np.ndarray) -> tuple:\n",
    "    accuracy = accuracy_score(y_pred, y_true)\n",
    "    try:\n",
    "        auc = roc_auc_score(y_pred, y_true)\n",
    "    except:\n",
    "        auc = 0\n",
    "    precision, recall, f_score, _ = precision_recall_fscore_support(y_pred, y_true)\n",
    "\n",
    "    return accuracy, auc, precision, recall, f_score\n",
    "\n",
    "\n",
    "def print_scores(accuracy: float, auc: float, precision: np.ndarray, recall: np.ndarray, f_score: np.ndarray) -> None:\n",
    "    print(f\"Accuracy  : {accuracy:.5f}\")\n",
    "    print(f\"ROC-AUC   : {auc:.5f}\")\n",
    "    print(f\"Precision : {precision}\")\n",
    "    print(f\"Recall    : {recall}\")\n",
    "    print(f\"F-Score   : {f_score}\")"
   ]
  },
  {
   "cell_type": "markdown",
   "id": "7ff1e987",
   "metadata": {
    "papermill": {
     "duration": 0.01347,
     "end_time": "2022-04-14T05:35:29.125799",
     "exception": false,
     "start_time": "2022-04-14T05:35:29.112329",
     "status": "completed"
    },
    "tags": []
   },
   "source": [
    "### **Configuration**"
   ]
  },
  {
   "cell_type": "code",
   "execution_count": 4,
   "id": "b644cbcc",
   "metadata": {
    "execution": {
     "iopub.execute_input": "2022-04-14T05:35:29.211293Z",
     "iopub.status.busy": "2022-04-14T05:35:29.210654Z",
     "iopub.status.idle": "2022-04-14T05:35:29.213586Z",
     "shell.execute_reply": "2022-04-14T05:35:29.213186Z",
     "shell.execute_reply.started": "2022-04-09T01:36:52.976989Z"
    },
    "papermill": {
     "duration": 0.073993,
     "end_time": "2022-04-14T05:35:29.213693",
     "exception": false,
     "start_time": "2022-04-14T05:35:29.139700",
     "status": "completed"
    },
    "tags": []
   },
   "outputs": [],
   "source": [
    "class CFG(object):\n",
    "    def __init__(self, \n",
    "                 seed: int = 42,\n",
    "                 n_splits: int = 5,\n",
    "                 batch_size: int = 16,\n",
    "                 epochs: int = 25,\n",
    "                 early_stopping: int = 5,\n",
    "                 lr: float = 1e-4,\n",
    "                 wd: float = 0.0,\n",
    "                 max_lr: float = 1e-3,\n",
    "                 pct_start: float = 0.2,\n",
    "                 steps_per_epoch: int = 100,\n",
    "                 div_factor: int = 1e3, \n",
    "                 final_div_factor: float = 1e3,\n",
    "                 ):\n",
    "        \n",
    "        self.seed = seed\n",
    "        self.n_splits = n_splits\n",
    "        self.batch_size = batch_size\n",
    "        self.epochs = epochs\n",
    "        self.early_stopping = early_stopping\n",
    "        self.lr = lr\n",
    "        self.wd = wd\n",
    "        self.max_lr = max_lr\n",
    "        self.pct_start = pct_start\n",
    "        self.steps_per_epoch = steps_per_epoch\n",
    "        self.div_factor = div_factor\n",
    "        self.final_div_factor = final_div_factor\n",
    "        self.device = torch.device(\"cuda\" if torch.cuda.is_available() else \"cpu\")\n",
    "        self.transform = transforms.Compose([transforms.ToTensor(),\n",
    "                                transforms.Normalize([0.11899, 0.11923, 0.12643],\n",
    "                                                     [0.17037, 0.16976, 0.18014]),\n",
    "                                ])\n",
    "        self.save_path = \"saves\"\n",
    "        if not os.path.exists(self.save_path): os.makedirs(self.save_path)\n",
    "    \n",
    "cfg = CFG(seed=SEED)"
   ]
  },
  {
   "cell_type": "markdown",
   "id": "cec8ba26",
   "metadata": {
    "papermill": {
     "duration": 0.013462,
     "end_time": "2022-04-14T05:35:29.240998",
     "exception": false,
     "start_time": "2022-04-14T05:35:29.227536",
     "status": "completed"
    },
    "tags": []
   },
   "source": [
    "### **Dataset Template**"
   ]
  },
  {
   "cell_type": "code",
   "execution_count": 5,
   "id": "fb6d2e95",
   "metadata": {
    "execution": {
     "iopub.execute_input": "2022-04-14T05:35:29.274855Z",
     "iopub.status.busy": "2022-04-14T05:35:29.274229Z",
     "iopub.status.idle": "2022-04-14T05:35:29.276475Z",
     "shell.execute_reply": "2022-04-14T05:35:29.276908Z",
     "shell.execute_reply.started": "2022-04-09T01:18:47.593512Z"
    },
    "papermill": {
     "duration": 0.021954,
     "end_time": "2022-04-14T05:35:29.277029",
     "exception": false,
     "start_time": "2022-04-14T05:35:29.255075",
     "status": "completed"
    },
    "tags": []
   },
   "outputs": [],
   "source": [
    "class DS(Dataset):\n",
    "    def __init__(self, images: np.ndarray, labels: np.ndarray = None, transform=None):\n",
    "        self.images = images\n",
    "        self.labels = labels\n",
    "        self.transform = transform\n",
    "    \n",
    "    def __len__(self):\n",
    "        return self.images.shape[0]\n",
    "    \n",
    "    def __getitem__(self, idx):\n",
    "        if self.labels is not None:\n",
    "            return self.transform(self.images[idx]), torch.FloatTensor(self.labels[idx])\n",
    "        else:\n",
    "            return self.transform(self.images[idx])"
   ]
  },
  {
   "cell_type": "markdown",
   "id": "74fed98d",
   "metadata": {
    "papermill": {
     "duration": 0.029723,
     "end_time": "2022-04-14T05:35:29.334643",
     "exception": false,
     "start_time": "2022-04-14T05:35:29.304920",
     "status": "completed"
    },
    "tags": []
   },
   "source": [
    "### **Model**"
   ]
  },
  {
   "cell_type": "code",
   "execution_count": 6,
   "id": "d0c4eddf",
   "metadata": {
    "execution": {
     "iopub.execute_input": "2022-04-14T05:35:29.389714Z",
     "iopub.status.busy": "2022-04-14T05:35:29.388750Z",
     "iopub.status.idle": "2022-04-14T05:35:29.404231Z",
     "shell.execute_reply": "2022-04-14T05:35:29.405481Z",
     "shell.execute_reply.started": "2022-04-09T01:18:47.606516Z"
    },
    "papermill": {
     "duration": 0.044054,
     "end_time": "2022-04-14T05:35:29.405661",
     "exception": false,
     "start_time": "2022-04-14T05:35:29.361607",
     "status": "completed"
    },
    "tags": []
   },
   "outputs": [],
   "source": [
    "class Model(nn.Module):\n",
    "    def __init__(self):\n",
    "        super(Model, self).__init__()\n",
    "\n",
    "        self.model = EfficientNet.from_pretrained(\"efficientnet-b2\")\n",
    "        self.model._fc = torch.nn.Linear(in_features=self.model._fc.in_features, out_features=1)\n",
    "\n",
    "    def forward(self, x):\n",
    "        return self.model(x)"
   ]
  },
  {
   "cell_type": "markdown",
   "id": "39137d42",
   "metadata": {
    "papermill": {
     "duration": 0.028715,
     "end_time": "2022-04-14T05:35:29.455317",
     "exception": false,
     "start_time": "2022-04-14T05:35:29.426602",
     "status": "completed"
    },
    "tags": []
   },
   "source": [
    "### Fit and Predict Helper"
   ]
  },
  {
   "cell_type": "code",
   "execution_count": 7,
   "id": "1ca981d9",
   "metadata": {
    "execution": {
     "iopub.execute_input": "2022-04-14T05:35:29.517690Z",
     "iopub.status.busy": "2022-04-14T05:35:29.516859Z",
     "iopub.status.idle": "2022-04-14T05:35:29.545731Z",
     "shell.execute_reply": "2022-04-14T05:35:29.546676Z",
     "shell.execute_reply.started": "2022-04-09T01:18:47.615986Z"
    },
    "papermill": {
     "duration": 0.062722,
     "end_time": "2022-04-14T05:35:29.546863",
     "exception": false,
     "start_time": "2022-04-14T05:35:29.484141",
     "status": "completed"
    },
    "tags": []
   },
   "outputs": [],
   "source": [
    "def fit(model=None, \n",
    "        optimizer=None, \n",
    "        scheduler=None, \n",
    "        epochs=None, \n",
    "        early_stopping_patience=None, \n",
    "        dataloaders=None, \n",
    "        fold=None, \n",
    "        save_path=None, \n",
    "        device=None,\n",
    "        verbose=False) -> tuple:\n",
    "    \n",
    "    def get_accuracy(y_pred, y_true):\n",
    "        y_pred = torch.sigmoid(y_pred)\n",
    "        \n",
    "        y_pred[y_pred > 0.5] = 1\n",
    "        y_pred[y_pred <= 0.5] = 0\n",
    "        \n",
    "        return torch.count_nonzero(y_pred == y_true).item() / len(y_pred)\n",
    "    \n",
    "    if verbose:\n",
    "        breaker()\n",
    "        if fold: print(f\"Training Fold {fold}...\")\n",
    "        else: print(\"Training ...\")\n",
    "        breaker()\n",
    "        \n",
    "    bestLoss, bestAccs = {\"train\" : np.inf, \"valid\" : np.inf}, {\"train\" : 0.0, \"valid\" : 0.0}\n",
    "    Losses, LRs, Accuracies = [], [], []\n",
    "    if fold: name = f\"state_fold_{fold}.pt\"\n",
    "    else: name = \"state.pt\"\n",
    "\n",
    "    start_time = time()\n",
    "    for e in range(epochs):\n",
    "        e_st = time()\n",
    "        epochLoss, epochAccs = {\"train\" : 0.0, \"valid\" : 0.0}, {\"train\" : 0.0, \"valid\" : 0.0}\n",
    "\n",
    "        for phase in [\"train\", \"valid\"]:\n",
    "            if phase == \"train\":\n",
    "                model.train()\n",
    "            else:\n",
    "                model.eval()\n",
    "            \n",
    "            lossPerPass, accsPerPass = [], []\n",
    "\n",
    "            for X, y in dataloaders[phase]:\n",
    "                X, y = X.to(device), y.to(device)\n",
    "\n",
    "                optimizer.zero_grad()\n",
    "                with torch.set_grad_enabled(phase == \"train\"):\n",
    "                    output = model(X)\n",
    "                    loss = torch.nn.BCEWithLogitsLoss()(output, y)\n",
    "                    if phase == \"train\":\n",
    "                        loss.backward()\n",
    "                        optimizer.step()\n",
    "                        if scheduler: scheduler.step()\n",
    "                lossPerPass.append(loss.item())\n",
    "                accsPerPass.append(get_accuracy(output, y))\n",
    "            epochLoss[phase] = np.mean(np.array(lossPerPass))\n",
    "            epochAccs[phase] = np.mean(np.array(accsPerPass))\n",
    "        LRs.append(scheduler.get_last_lr())\n",
    "        Losses.append(epochLoss)\n",
    "        Accuracies.append(epochAccs)\n",
    "        \n",
    "        if early_stopping_patience:\n",
    "            if epochLoss[\"valid\"] < bestLoss[\"valid\"]:\n",
    "                bestLoss = epochLoss\n",
    "                BLE = e + 1\n",
    "                torch.save({\"model_state_dict\"     : model.state_dict(),\n",
    "                            \"optim_state_dict\"     : optimizer.state_dict()},\n",
    "                           os.path.join(save_path, name))\n",
    "                early_stopping_step = 0\n",
    "            else:\n",
    "                early_stopping_step += 1\n",
    "                if early_stopping_step > early_stopping_patience:\n",
    "                    print(\"\\nEarly Stopping at Epoch {}\".format(e + 1))\n",
    "                    break\n",
    "        \n",
    "        if epochLoss[\"valid\"] < bestLoss[\"valid\"]:\n",
    "            bestLoss = epochLoss\n",
    "            BLE = e + 1\n",
    "            torch.save({\"model_state_dict\"     : model.state_dict(),\n",
    "                        \"optim_state_dict\"     : optimizer.state_dict()},\n",
    "                        os.path.join(save_path, name))\n",
    "        \n",
    "        if epochAccs[\"valid\"] > bestAccs[\"valid\"]:\n",
    "            bestAccs = epochAccs\n",
    "            BAE = e + 1\n",
    "        \n",
    "        # if scheduler: scheduler.step(epochLoss[\"valid\"])\n",
    "        \n",
    "        if verbose:\n",
    "            print(\"Epoch: {} | Train Loss: {:.5f} | Valid Loss: {:.5f} | Train Accs: {:.5f} | Valid Accs: {:.5f} | Time: {:.2f} seconds\".format(e+1, \n",
    "                                                                       epochLoss[\"train\"], epochLoss[\"valid\"], \n",
    "                                                                       epochAccs[\"train\"], epochAccs[\"valid\"], \n",
    "                                                                       time()-e_st))\n",
    "\n",
    "    if verbose:                                           \n",
    "        breaker()\n",
    "        print(f\"Best Validation Loss at Epoch {BLE}\")\n",
    "        breaker()\n",
    "        print(f\"Best Validation Accs at Epoch {BAE}\")\n",
    "        breaker()\n",
    "        print(\"Time Taken [{} Epochs] : {:.2f} minutes\".format(len(Losses), (time()-start_time)/60))\n",
    "    \n",
    "    return Losses, Accuracies, LRs, BLE, BAE, name\n",
    "\n",
    "\n",
    "def predict(model=None, dataloader=None, path=None, device=None) -> np.ndarray:\n",
    "    model.load_state_dict(torch.load(path, map_location=device)[\"model_state_dict\"])\n",
    "    model.to(device)    \n",
    "    model.eval()\n",
    "    \n",
    "    y_pred = torch.zeros(1, 1).to(device)\n",
    "    \n",
    "    for X in dataloader:\n",
    "        X = X.to(device)\n",
    "        with torch.no_grad():\n",
    "            output = torch.sigmoid(model(X))\n",
    "        y_pred = torch.cat((y_pred, output.view(-1, 1)), dim=0)\n",
    "    \n",
    "    y_pred[y_pred > 0.5] = 1\n",
    "    y_pred[y_pred <= 0.5] = 0\n",
    "    \n",
    "    return y_pred[1:].detach().cpu().numpy()"
   ]
  },
  {
   "cell_type": "markdown",
   "id": "69276a1c",
   "metadata": {
    "papermill": {
     "duration": 0.02155,
     "end_time": "2022-04-14T05:35:29.590528",
     "exception": false,
     "start_time": "2022-04-14T05:35:29.568978",
     "status": "completed"
    },
    "tags": []
   },
   "source": [
    "### **Train**"
   ]
  },
  {
   "cell_type": "code",
   "execution_count": 8,
   "id": "c0bb4249",
   "metadata": {
    "execution": {
     "iopub.execute_input": "2022-04-14T05:35:29.638506Z",
     "iopub.status.busy": "2022-04-14T05:35:29.637614Z",
     "iopub.status.idle": "2022-04-14T05:35:38.276077Z",
     "shell.execute_reply": "2022-04-14T05:35:38.275444Z",
     "shell.execute_reply.started": "2022-04-09T01:18:47.643848Z"
    },
    "papermill": {
     "duration": 8.663919,
     "end_time": "2022-04-14T05:35:38.276215",
     "exception": false,
     "start_time": "2022-04-14T05:35:29.612296",
     "status": "completed"
    },
    "tags": []
   },
   "outputs": [],
   "source": [
    "images = np.load(f\"../input/chest-x-rays-images/train_images_{SIZE}.npy\")\n",
    "labels = np.load(f\"../input/chest-x-rays-images/train_targets_{SIZE}.npy\")"
   ]
  },
  {
   "cell_type": "code",
   "execution_count": 9,
   "id": "01397064",
   "metadata": {
    "execution": {
     "iopub.execute_input": "2022-04-14T05:35:38.320837Z",
     "iopub.status.busy": "2022-04-14T05:35:38.319935Z",
     "iopub.status.idle": "2022-04-14T06:31:46.109732Z",
     "shell.execute_reply": "2022-04-14T06:31:46.110191Z",
     "shell.execute_reply.started": "2022-04-09T01:36:59.635267Z"
    },
    "papermill": {
     "duration": 3367.818363,
     "end_time": "2022-04-14T06:31:46.110344",
     "exception": false,
     "start_time": "2022-04-14T05:35:38.291981",
     "status": "completed"
    },
    "tags": []
   },
   "outputs": [
    {
     "name": "stderr",
     "output_type": "stream",
     "text": [
      "Downloading: \"https://github.com/lukemelas/EfficientNet-PyTorch/releases/download/1.0/efficientnet-b2-8bb594d6.pth\" to /root/.cache/torch/hub/checkpoints/efficientnet-b2-8bb594d6.pth\n"
     ]
    },
    {
     "data": {
      "application/vnd.jupyter.widget-view+json": {
       "model_id": "07b4a097131a4cf1839b17cc4cc56b89",
       "version_major": 2,
       "version_minor": 0
      },
      "text/plain": [
       "  0%|          | 0.00/35.1M [00:00<?, ?B/s]"
      ]
     },
     "metadata": {},
     "output_type": "display_data"
    },
    {
     "name": "stdout",
     "output_type": "stream",
     "text": [
      "Loaded pretrained weights for efficientnet-b2\n",
      "\n",
      "**************************************************\n",
      "\n",
      "Training Fold 1...\n",
      "\n",
      "**************************************************\n",
      "\n",
      "Epoch: 1 | Train Loss: 0.43951 | Valid Loss: 0.07096 | Train Accs: 0.77648 | Valid Accs: 0.97362 | Time: 56.64 seconds\n",
      "Epoch: 2 | Train Loss: 0.09610 | Valid Loss: 0.08569 | Train Accs: 0.96756 | Valid Accs: 0.97538 | Time: 50.54 seconds\n",
      "Epoch: 3 | Train Loss: 0.06603 | Valid Loss: 0.11329 | Train Accs: 0.97596 | Valid Accs: 0.95373 | Time: 50.43 seconds\n",
      "Epoch: 4 | Train Loss: 0.06012 | Valid Loss: 0.37680 | Train Accs: 0.97858 | Valid Accs: 0.83509 | Time: 50.59 seconds\n",
      "Epoch: 5 | Train Loss: 0.04085 | Valid Loss: 0.05966 | Train Accs: 0.98760 | Valid Accs: 0.98011 | Time: 50.78 seconds\n",
      "Epoch: 6 | Train Loss: 0.02403 | Valid Loss: 0.02985 | Train Accs: 0.99070 | Valid Accs: 0.99053 | Time: 50.94 seconds\n",
      "Epoch: 7 | Train Loss: 0.02256 | Valid Loss: 0.02319 | Train Accs: 0.99141 | Valid Accs: 0.99432 | Time: 50.79 seconds\n",
      "Epoch: 8 | Train Loss: 0.01600 | Valid Loss: 0.03529 | Train Accs: 0.99642 | Valid Accs: 0.98580 | Time: 50.65 seconds\n",
      "Epoch: 9 | Train Loss: 0.01776 | Valid Loss: 0.05288 | Train Accs: 0.99356 | Valid Accs: 0.98201 | Time: 50.47 seconds\n",
      "Epoch: 10 | Train Loss: 0.00617 | Valid Loss: 0.04757 | Train Accs: 0.99809 | Valid Accs: 0.99053 | Time: 50.55 seconds\n",
      "Epoch: 11 | Train Loss: 0.00675 | Valid Loss: 0.05515 | Train Accs: 0.99761 | Valid Accs: 0.98390 | Time: 50.37 seconds\n",
      "Epoch: 12 | Train Loss: 0.00511 | Valid Loss: 0.04208 | Train Accs: 0.99809 | Valid Accs: 0.98864 | Time: 50.55 seconds\n",
      "\n",
      "Early Stopping at Epoch 13\n",
      "\n",
      "**************************************************\n",
      "\n",
      "Best Validation Loss at Epoch 7\n",
      "\n",
      "**************************************************\n",
      "\n",
      "Best Validation Accs at Epoch 7\n",
      "\n",
      "**************************************************\n",
      "\n",
      "Time Taken [13 Epochs] : 11.07 minutes\n",
      "\n",
      "**************************************************\n",
      "\n"
     ]
    },
    {
     "data": {
      "image/png": "[encoded data removed]",
      "text/plain": [
       "<Figure size 576x432 with 2 Axes>"
      ]
     },
     "metadata": {
      "needs_background": "light"
     },
     "output_type": "display_data"
    },
    {
     "name": "stdout",
     "output_type": "stream",
     "text": [
      "Loaded pretrained weights for efficientnet-b2\n",
      "\n",
      "**************************************************\n",
      "\n",
      "Training Fold 2...\n",
      "\n",
      "**************************************************\n",
      "\n",
      "Epoch: 1 | Train Loss: 0.56261 | Valid Loss: 0.25111 | Train Accs: 0.69339 | Valid Accs: 0.93514 | Time: 44.38 seconds\n",
      "Epoch: 2 | Train Loss: 0.08411 | Valid Loss: 0.09042 | Train Accs: 0.97562 | Valid Accs: 0.98070 | Time: 44.51 seconds\n",
      "Epoch: 3 | Train Loss: 0.05041 | Valid Loss: 0.05112 | Train Accs: 0.98272 | Valid Accs: 0.97375 | Time: 44.44 seconds\n",
      "Epoch: 4 | Train Loss: 0.03545 | Valid Loss: 0.04309 | Train Accs: 0.98921 | Valid Accs: 0.98897 | Time: 44.42 seconds\n",
      "Epoch: 5 | Train Loss: 0.02738 | Valid Loss: 0.16717 | Train Accs: 0.98935 | Valid Accs: 0.94853 | Time: 44.13 seconds\n",
      "Epoch: 6 | Train Loss: 0.01530 | Valid Loss: 0.38125 | Train Accs: 0.99584 | Valid Accs: 0.94210 | Time: 44.26 seconds\n",
      "Epoch: 7 | Train Loss: 0.01486 | Valid Loss: 0.03668 | Train Accs: 0.99408 | Valid Accs: 0.99173 | Time: 44.45 seconds\n",
      "Epoch: 8 | Train Loss: 0.00964 | Valid Loss: 0.07849 | Train Accs: 0.99669 | Valid Accs: 0.98621 | Time: 44.14 seconds\n",
      "Epoch: 9 | Train Loss: 0.01076 | Valid Loss: 0.01708 | Train Accs: 0.99726 | Valid Accs: 0.99449 | Time: 44.50 seconds\n",
      "Epoch: 10 | Train Loss: 0.00751 | Valid Loss: 0.02571 | Train Accs: 0.99716 | Valid Accs: 0.99540 | Time: 44.23 seconds\n",
      "Epoch: 11 | Train Loss: 0.00300 | Valid Loss: 0.02332 | Train Accs: 0.99929 | Valid Accs: 0.99449 | Time: 44.16 seconds\n",
      "Epoch: 12 | Train Loss: 0.00310 | Valid Loss: 0.02386 | Train Accs: 0.99905 | Valid Accs: 0.99449 | Time: 44.18 seconds\n",
      "Epoch: 13 | Train Loss: 0.00093 | Valid Loss: 0.01967 | Train Accs: 1.00000 | Valid Accs: 0.99540 | Time: 44.05 seconds\n",
      "Epoch: 14 | Train Loss: 0.00027 | Valid Loss: 0.01995 | Train Accs: 1.00000 | Valid Accs: 0.99540 | Time: 44.05 seconds\n",
      "\n",
      "Early Stopping at Epoch 15\n",
      "\n",
      "**************************************************\n",
      "\n",
      "Best Validation Loss at Epoch 9\n",
      "\n",
      "**************************************************\n",
      "\n",
      "Best Validation Accs at Epoch 10\n",
      "\n",
      "**************************************************\n",
      "\n",
      "Time Taken [15 Epochs] : 11.07 minutes\n",
      "\n",
      "**************************************************\n",
      "\n"
     ]
    },
    {
     "data": {
      "image/png": "[encoded data removed]",
      "text/plain": [
       "<Figure size 576x432 with 2 Axes>"
      ]
     },
     "metadata": {
      "needs_background": "light"
     },
     "output_type": "display_data"
    },
    {
     "name": "stdout",
     "output_type": "stream",
     "text": [
      "Loaded pretrained weights for efficientnet-b2\n",
      "\n",
      "**************************************************\n",
      "\n",
      "Training Fold 3...\n",
      "\n",
      "**************************************************\n",
      "\n",
      "Epoch: 1 | Train Loss: 0.56206 | Valid Loss: 0.23800 | Train Accs: 0.69449 | Valid Accs: 0.92848 | Time: 44.19 seconds\n",
      "Epoch: 2 | Train Loss: 0.09111 | Valid Loss: 0.06292 | Train Accs: 0.97325 | Valid Accs: 0.97802 | Time: 44.21 seconds\n",
      "Epoch: 3 | Train Loss: 0.04956 | Valid Loss: 0.05382 | Train Accs: 0.98037 | Valid Accs: 0.98254 | Time: 44.29 seconds\n",
      "Epoch: 4 | Train Loss: 0.03971 | Valid Loss: 0.14058 | Train Accs: 0.98651 | Valid Accs: 0.95805 | Time: 43.91 seconds\n",
      "Epoch: 5 | Train Loss: 0.02122 | Valid Loss: 0.04989 | Train Accs: 0.99266 | Valid Accs: 0.98814 | Time: 44.36 seconds\n",
      "Epoch: 6 | Train Loss: 0.01982 | Valid Loss: 0.10989 | Train Accs: 0.99219 | Valid Accs: 0.97811 | Time: 43.98 seconds\n",
      "Epoch: 7 | Train Loss: 0.01229 | Valid Loss: 0.06796 | Train Accs: 0.99598 | Valid Accs: 0.97811 | Time: 43.91 seconds\n",
      "Epoch: 8 | Train Loss: 0.00738 | Valid Loss: 0.03301 | Train Accs: 0.99692 | Valid Accs: 0.98805 | Time: 44.40 seconds\n",
      "Epoch: 9 | Train Loss: 0.00141 | Valid Loss: 0.01983 | Train Accs: 0.99976 | Valid Accs: 0.99089 | Time: 44.26 seconds\n",
      "Epoch: 10 | Train Loss: 0.00216 | Valid Loss: 0.03076 | Train Accs: 0.99953 | Valid Accs: 0.99273 | Time: 43.97 seconds\n",
      "Epoch: 11 | Train Loss: 0.00032 | Valid Loss: 0.02182 | Train Accs: 1.00000 | Valid Accs: 0.98997 | Time: 44.17 seconds\n",
      "Epoch: 12 | Train Loss: 0.00022 | Valid Loss: 0.02275 | Train Accs: 1.00000 | Valid Accs: 0.99181 | Time: 43.98 seconds\n",
      "Epoch: 13 | Train Loss: 0.00089 | Valid Loss: 0.02965 | Train Accs: 0.99953 | Valid Accs: 0.99089 | Time: 43.92 seconds\n",
      "Epoch: 14 | Train Loss: 0.00160 | Valid Loss: 0.03019 | Train Accs: 0.99929 | Valid Accs: 0.99089 | Time: 44.09 seconds\n",
      "\n",
      "Early Stopping at Epoch 15\n",
      "\n",
      "**************************************************\n",
      "\n",
      "Best Validation Loss at Epoch 9\n",
      "\n",
      "**************************************************\n",
      "\n",
      "Best Validation Accs at Epoch 10\n",
      "\n",
      "**************************************************\n",
      "\n",
      "Time Taken [15 Epochs] : 11.03 minutes\n",
      "\n",
      "**************************************************\n",
      "\n"
     ]
    },
    {
     "data": {
      "image/png": "[encoded data removed]",
      "text/plain": [
       "<Figure size 576x432 with 2 Axes>"
      ]
     },
     "metadata": {
      "needs_background": "light"
     },
     "output_type": "display_data"
    },
    {
     "name": "stdout",
     "output_type": "stream",
     "text": [
      "Loaded pretrained weights for efficientnet-b2\n",
      "\n",
      "**************************************************\n",
      "\n",
      "Training Fold 4...\n",
      "\n",
      "**************************************************\n",
      "\n",
      "Epoch: 1 | Train Loss: 0.55964 | Valid Loss: 0.24497 | Train Accs: 0.69213 | Valid Accs: 0.91920 | Time: 44.02 seconds\n",
      "Epoch: 2 | Train Loss: 0.09203 | Valid Loss: 0.04527 | Train Accs: 0.97053 | Valid Accs: 0.98438 | Time: 44.47 seconds\n",
      "Epoch: 3 | Train Loss: 0.05684 | Valid Loss: 0.16994 | Train Accs: 0.97977 | Valid Accs: 0.92455 | Time: 43.93 seconds\n",
      "Epoch: 4 | Train Loss: 0.04649 | Valid Loss: 0.06671 | Train Accs: 0.98272 | Valid Accs: 0.97978 | Time: 43.90 seconds\n",
      "Epoch: 5 | Train Loss: 0.02247 | Valid Loss: 0.09836 | Train Accs: 0.99479 | Valid Accs: 0.97426 | Time: 44.01 seconds\n",
      "Epoch: 6 | Train Loss: 0.01129 | Valid Loss: 0.05979 | Train Accs: 0.99645 | Valid Accs: 0.98446 | Time: 43.96 seconds\n",
      "Epoch: 7 | Train Loss: 0.01672 | Valid Loss: 0.07243 | Train Accs: 0.99527 | Valid Accs: 0.98170 | Time: 43.91 seconds\n",
      "Epoch: 8 | Train Loss: 0.00722 | Valid Loss: 0.02803 | Train Accs: 0.99763 | Valid Accs: 0.98997 | Time: 44.31 seconds\n",
      "Epoch: 9 | Train Loss: 0.00929 | Valid Loss: 0.02200 | Train Accs: 0.99763 | Valid Accs: 0.99357 | Time: 44.23 seconds\n",
      "Epoch: 10 | Train Loss: 0.00834 | Valid Loss: 0.04278 | Train Accs: 0.99716 | Valid Accs: 0.98621 | Time: 43.93 seconds\n",
      "Epoch: 11 | Train Loss: 0.00503 | Valid Loss: 0.02145 | Train Accs: 0.99905 | Valid Accs: 0.99357 | Time: 44.20 seconds\n",
      "Epoch: 12 | Train Loss: 0.00077 | Valid Loss: 0.01817 | Train Accs: 1.00000 | Valid Accs: 0.99540 | Time: 44.16 seconds\n",
      "Epoch: 13 | Train Loss: 0.00049 | Valid Loss: 0.03458 | Train Accs: 0.99976 | Valid Accs: 0.99173 | Time: 44.07 seconds\n",
      "Epoch: 14 | Train Loss: 0.00123 | Valid Loss: 0.02705 | Train Accs: 0.99953 | Valid Accs: 0.99265 | Time: 43.94 seconds\n",
      "Epoch: 15 | Train Loss: 0.00025 | Valid Loss: 0.03768 | Train Accs: 1.00000 | Valid Accs: 0.99081 | Time: 43.88 seconds\n",
      "Epoch: 16 | Train Loss: 0.00020 | Valid Loss: 0.03162 | Train Accs: 1.00000 | Valid Accs: 0.99265 | Time: 44.06 seconds\n",
      "Epoch: 17 | Train Loss: 0.00028 | Valid Loss: 0.02969 | Train Accs: 1.00000 | Valid Accs: 0.99449 | Time: 43.88 seconds\n",
      "\n",
      "Early Stopping at Epoch 18\n",
      "\n",
      "**************************************************\n",
      "\n",
      "Best Validation Loss at Epoch 12\n",
      "\n",
      "**************************************************\n",
      "\n",
      "Best Validation Accs at Epoch 12\n",
      "\n",
      "**************************************************\n",
      "\n",
      "Time Taken [18 Epochs] : 13.21 minutes\n",
      "\n",
      "**************************************************\n",
      "\n"
     ]
    },
    {
     "data": {
      "image/png": "[encoded data removed]",
      "text/plain": [
       "<Figure size 576x432 with 2 Axes>"
      ]
     },
     "metadata": {
      "needs_background": "light"
     },
     "output_type": "display_data"
    },
    {
     "name": "stdout",
     "output_type": "stream",
     "text": [
      "Loaded pretrained weights for efficientnet-b2\n",
      "\n",
      "**************************************************\n",
      "\n",
      "Training Fold 5...\n",
      "\n",
      "**************************************************\n",
      "\n",
      "Epoch: 1 | Train Loss: 0.56055 | Valid Loss: 0.23748 | Train Accs: 0.69828 | Valid Accs: 0.93951 | Time: 44.14 seconds\n",
      "Epoch: 2 | Train Loss: 0.11079 | Valid Loss: 0.13935 | Train Accs: 0.96212 | Valid Accs: 0.95864 | Time: 44.24 seconds\n",
      "Epoch: 3 | Train Loss: 0.04208 | Valid Loss: 0.08216 | Train Accs: 0.98698 | Valid Accs: 0.97610 | Time: 44.25 seconds\n",
      "Epoch: 4 | Train Loss: 0.03764 | Valid Loss: 0.06197 | Train Accs: 0.98581 | Valid Accs: 0.97435 | Time: 44.27 seconds\n",
      "Epoch: 5 | Train Loss: 0.03328 | Valid Loss: 0.20391 | Train Accs: 0.98982 | Valid Accs: 0.97059 | Time: 43.88 seconds\n",
      "Epoch: 6 | Train Loss: 0.02096 | Valid Loss: 0.02598 | Train Accs: 0.99313 | Valid Accs: 0.98989 | Time: 44.15 seconds\n",
      "Epoch: 7 | Train Loss: 0.01125 | Valid Loss: 0.01931 | Train Accs: 0.99681 | Valid Accs: 0.99449 | Time: 44.23 seconds\n",
      "Epoch: 8 | Train Loss: 0.00696 | Valid Loss: 0.02652 | Train Accs: 0.99740 | Valid Accs: 0.99449 | Time: 43.90 seconds\n",
      "Epoch: 9 | Train Loss: 0.00398 | Valid Loss: 0.16665 | Train Accs: 0.99905 | Valid Accs: 0.95271 | Time: 43.96 seconds\n",
      "Epoch: 10 | Train Loss: 0.00250 | Valid Loss: 0.02400 | Train Accs: 0.99976 | Valid Accs: 0.99357 | Time: 44.05 seconds\n",
      "Epoch: 11 | Train Loss: 0.00059 | Valid Loss: 0.04285 | Train Accs: 1.00000 | Valid Accs: 0.99081 | Time: 43.89 seconds\n",
      "Epoch: 12 | Train Loss: 0.00103 | Valid Loss: 0.03740 | Train Accs: 0.99976 | Valid Accs: 0.99357 | Time: 43.90 seconds\n",
      "\n",
      "Early Stopping at Epoch 13\n",
      "\n",
      "**************************************************\n",
      "\n",
      "Best Validation Loss at Epoch 7\n",
      "\n",
      "**************************************************\n",
      "\n",
      "Best Validation Accs at Epoch 7\n",
      "\n",
      "**************************************************\n",
      "\n",
      "Time Taken [13 Epochs] : 9.55 minutes\n",
      "\n",
      "**************************************************\n",
      "\n"
     ]
    },
    {
     "data": {
      "image/png": "[encoded data removed]",
      "text/plain": [
       "<Figure size 576x432 with 2 Axes>"
      ]
     },
     "metadata": {
      "needs_background": "light"
     },
     "output_type": "display_data"
    }
   ],
   "source": [
    "fold = 1\n",
    "BLEs, BAEs = [], []\n",
    "\n",
    "for tr_idx, va_idx in KFold(n_splits=cfg.n_splits, random_state=SEED, shuffle=True).split(images):\n",
    "    tr_images, va_images, tr_labels, va_labels = images[tr_idx], images[va_idx], labels[tr_idx], labels[va_idx]\n",
    "\n",
    "    tr_data_setup = DS(tr_images, tr_labels.reshape(-1, 1), cfg.transform)\n",
    "    va_data_setup = DS(va_images, va_labels.reshape(-1, 1), cfg.transform)\n",
    "\n",
    "    dataloaders = {\n",
    "        \"train\" : DL(tr_data_setup, batch_size=cfg.batch_size, shuffle=True, generator=torch.manual_seed(cfg.seed)),\n",
    "        \"valid\" : DL(va_data_setup, batch_size=cfg.batch_size, shuffle=False),\n",
    "    }\n",
    "\n",
    "    cfg = CFG(epochs=20, lr=1e-3, wd=0.0, batch_size=64, steps_per_epoch=len(dataloaders[\"train\"]))\n",
    "\n",
    "    torch.manual_seed(cfg.seed)\n",
    "    model = Model().to(cfg.device)\n",
    "    optimizer = optim.Adam([p for p in model.parameters() if p.requires_grad], lr=cfg.lr, weight_decay=cfg.wd)\n",
    "    scheduler = optim.lr_scheduler.OneCycleLR(optimizer=optimizer, \n",
    "                                              max_lr=cfg.max_lr, \n",
    "                                              epochs=cfg.epochs, \n",
    "                                              steps_per_epoch=cfg.steps_per_epoch,\n",
    "                                              pct_start=cfg.pct_start, \n",
    "                                              div_factor=cfg.div_factor, \n",
    "                                              final_div_factor=cfg.final_div_factor)\n",
    "    # scheduler = None\n",
    "\n",
    "    L, A, LRs, BLE, BAE, name = fit(model=model, \n",
    "                                    optimizer=optimizer, \n",
    "                                    scheduler=scheduler, \n",
    "                                    epochs=cfg.epochs, \n",
    "                                    early_stopping_patience=cfg.early_stopping, \n",
    "                                    dataloaders=dataloaders, \n",
    "                                    device=cfg.device,\n",
    "                                    save_path=cfg.save_path,\n",
    "                                    fold = fold,\n",
    "                                    verbose=True)\n",
    "\n",
    "    breaker()\n",
    "    show_graphs(L, A)\n",
    "    \n",
    "    BLEs.append(BLE)\n",
    "    BAEs.append(BAE)\n",
    "\n",
    "    fold += 1"
   ]
  },
  {
   "cell_type": "markdown",
   "id": "6ef6b2e7",
   "metadata": {
    "papermill": {
     "duration": 0.044681,
     "end_time": "2022-04-14T06:31:46.199347",
     "exception": false,
     "start_time": "2022-04-14T06:31:46.154666",
     "status": "completed"
    },
    "tags": []
   },
   "source": [
    "### **Predictions**"
   ]
  },
  {
   "cell_type": "code",
   "execution_count": 10,
   "id": "31b5397b",
   "metadata": {
    "execution": {
     "iopub.execute_input": "2022-04-14T06:31:46.309495Z",
     "iopub.status.busy": "2022-04-14T06:31:46.308643Z",
     "iopub.status.idle": "2022-04-14T06:31:49.613512Z",
     "shell.execute_reply": "2022-04-14T06:31:49.612709Z",
     "shell.execute_reply.started": "2022-04-09T01:41:41.028783Z"
    },
    "papermill": {
     "duration": 3.369951,
     "end_time": "2022-04-14T06:31:49.613644",
     "exception": false,
     "start_time": "2022-04-14T06:31:46.243693",
     "status": "completed"
    },
    "tags": []
   },
   "outputs": [
    {
     "name": "stdout",
     "output_type": "stream",
     "text": [
      "Loaded pretrained weights for efficientnet-b2\n",
      "\n",
      "**************************************************\n",
      "\n",
      "Best Fold : 1\n",
      "\n",
      "**************************************************\n",
      "\n",
      "Accuracy  : 0.80128\n",
      "ROC-AUC   : 0.87162\n",
      "Precision : [0.47863248 0.99487179]\n",
      "Recall    : [0.98245614 0.76078431]\n",
      "F-Score   : [0.64367816 0.86222222]\n",
      "\n",
      "**************************************************\n",
      "\n",
      "              precision    recall  f1-score   support\n",
      "\n",
      "         0.0       0.98      0.48      0.64       234\n",
      "         1.0       0.76      0.99      0.86       390\n",
      "\n",
      "    accuracy                           0.80       624\n",
      "   macro avg       0.87      0.74      0.75       624\n",
      "weighted avg       0.84      0.80      0.78       624\n",
      "\n",
      "\n",
      "**************************************************\n",
      "\n",
      "[[112 122]\n",
      " [  2 388]]\n",
      "\n",
      "**************************************************\n",
      "\n"
     ]
    }
   ],
   "source": [
    "test_images = np.load(f\"../input/chest-x-rays-images/test_images_{SIZE}.npy\")\n",
    "test_labels = np.load(f\"../input/chest-x-rays-images/test_targets_{SIZE}.npy\")\n",
    "\n",
    "ts_data_setup = DS(test_images, None, cfg.transform)\n",
    "ts_data = DL(ts_data_setup, batch_size=cfg.batch_size, shuffle=False)\n",
    "\n",
    "best_fold = BLEs.index(min(BLEs)) + 1\n",
    "model_path = f\"saves/state_fold_{best_fold}.pt\"\n",
    "y_pred = predict(model=Model().to(cfg.device), dataloader=ts_data, path=model_path, device=cfg.device)\n",
    "\n",
    "accuracy, auc, precision, recall, f_score = get_scores(test_labels, y_pred)\n",
    "\n",
    "breaker()\n",
    "print(f\"Best Fold : {best_fold}\")\n",
    "breaker()\n",
    "print_scores(accuracy, auc, precision, recall, f_score)\n",
    "breaker()\n",
    "print(classification_report(test_labels, y_pred))\n",
    "breaker()\n",
    "print(confusion_matrix(test_labels, y_pred))\n",
    "breaker()"
   ]
  }
 ],
 "metadata": {
  "kernelspec": {
   "display_name": "Python 3",
   "language": "python",
   "name": "python3"
  },
  "language_info": {
   "codemirror_mode": {
    "name": "ipython",
    "version": 3
   },
   "file_extension": ".py",
   "mimetype": "text/x-python",
   "name": "python",
   "nbconvert_exporter": "python",
   "pygments_lexer": "ipython3",
   "version": "3.7.12"
  },
  "papermill": {
   "default_parameters": {},
   "duration": 3402.42206,
   "end_time": "2022-04-14T06:31:50.975719",
   "environment_variables": {},
   "exception": null,
   "input_path": "__notebook__.ipynb",
   "output_path": "__notebook__.ipynb",
   "parameters": {},
   "start_time": "2022-04-14T05:35:08.553659",
   "version": "2.3.3"
  },
  "widgets": {
   "application/vnd.jupyter.widget-state+json": {
    "state": {
     "0368c3cab5c247d2990a50b6b92fe2c9": {
      "model_module": "@jupyter-widgets/controls",
      "model_module_version": "1.5.0",
      "model_name": "FloatProgressModel",
      "state": {
       "_dom_classes": [],
       "_model_module": "@jupyter-widgets/controls",
       "_model_module_version": "1.5.0",
       "_model_name": "FloatProgressModel",
       "_view_count": null,
       "_view_module": "@jupyter-widgets/controls",
       "_view_module_version": "1.5.0",
       "_view_name": "ProgressView",
       "bar_style": "success",
       "description": "",
       "description_tooltip": null,
       "layout": "IPY_MODEL_9567ba9b30914b1ab7944eec5da5aa81",
       "max": 36804509.0,
       "min": 0.0,
       "orientation": "horizontal",
       "style": "IPY_MODEL_baf15905724048a9b2e8bb8005e60787",
       "value": 36804509.0
      }
     },
     "07b4a097131a4cf1839b17cc4cc56b89": {
      "model_module": "@jupyter-widgets/controls",
      "model_module_version": "1.5.0",
      "model_name": "HBoxModel",
      "state": {
       "_dom_classes": [],
       "_model_module": "@jupyter-widgets/controls",
       "_model_module_version": "1.5.0",
       "_model_name": "HBoxModel",
       "_view_count": null,
       "_view_module": "@jupyter-widgets/controls",
       "_view_module_version": "1.5.0",
       "_view_name": "HBoxView",
       "box_style": "",
       "children": [
        "IPY_MODEL_f489b740bf8d4a388fbe8e40b80656d2",
        "IPY_MODEL_0368c3cab5c247d2990a50b6b92fe2c9",
        "IPY_MODEL_cf69a8d53f384c4fb5abb2fba7e2ff07"
       ],
       "layout": "IPY_MODEL_79b3c565f09d40239483612719485874"
      }
     },
     "54e243072c8e4b4a991b63138e92a0a2": {
      "model_module": "@jupyter-widgets/controls",
      "model_module_version": "1.5.0",
      "model_name": "DescriptionStyleModel",
      "state": {
       "_model_module": "@jupyter-widgets/controls",
       "_model_module_version": "1.5.0",
       "_model_name": "DescriptionStyleModel",
       "_view_count": null,
       "_view_module": "@jupyter-widgets/base",
       "_view_module_version": "1.2.0",
       "_view_name": "StyleView",
       "description_width": ""
      }
     },
     "6b4a2e8e26984683a163875ad34803d3": {
      "model_module": "@jupyter-widgets/base",
      "model_module_version": "1.2.0",
      "model_name": "LayoutModel",
      "state": {
       "_model_module": "@jupyter-widgets/base",
       "_model_module_version": "1.2.0",
       "_model_name": "LayoutModel",
       "_view_count": null,
       "_view_module": "@jupyter-widgets/base",
       "_view_module_version": "1.2.0",
       "_view_name": "LayoutView",
       "align_content": null,
       "align_items": null,
       "align_self": null,
       "border": null,
       "bottom": null,
       "display": null,
       "flex": null,
       "flex_flow": null,
       "grid_area": null,
       "grid_auto_columns": null,
       "grid_auto_flow": null,
       "grid_auto_rows": null,
       "grid_column": null,
       "grid_gap": null,
       "grid_row": null,
       "grid_template_areas": null,
       "grid_template_columns": null,
       "grid_template_rows": null,
       "height": null,
       "justify_content": null,
       "justify_items": null,
       "left": null,
       "margin": null,
       "max_height": null,
       "max_width": null,
       "min_height": null,
       "min_width": null,
       "object_fit": null,
       "object_position": null,
       "order": null,
       "overflow": null,
       "overflow_x": null,
       "overflow_y": null,
       "padding": null,
       "right": null,
       "top": null,
       "visibility": null,
       "width": null
      }
     },
     "79b3c565f09d40239483612719485874": {
      "model_module": "@jupyter-widgets/base",
      "model_module_version": "1.2.0",
      "model_name": "LayoutModel",
      "state": {
       "_model_module": "@jupyter-widgets/base",
       "_model_module_version": "1.2.0",
       "_model_name": "LayoutModel",
       "_view_count": null,
       "_view_module": "@jupyter-widgets/base",
       "_view_module_version": "1.2.0",
       "_view_name": "LayoutView",
       "align_content": null,
       "align_items": null,
       "align_self": null,
       "border": null,
       "bottom": null,
       "display": null,
       "flex": null,
       "flex_flow": null,
       "grid_area": null,
       "grid_auto_columns": null,
       "grid_auto_flow": null,
       "grid_auto_rows": null,
       "grid_column": null,
       "grid_gap": null,
       "grid_row": null,
       "grid_template_areas": null,
       "grid_template_columns": null,
       "grid_template_rows": null,
       "height": null,
       "justify_content": null,
       "justify_items": null,
       "left": null,
       "margin": null,
       "max_height": null,
       "max_width": null,
       "min_height": null,
       "min_width": null,
       "object_fit": null,
       "object_position": null,
       "order": null,
       "overflow": null,
       "overflow_x": null,
       "overflow_y": null,
       "padding": null,
       "right": null,
       "top": null,
       "visibility": null,
       "width": null
      }
     },
     "9567ba9b30914b1ab7944eec5da5aa81": {
      "model_module": "@jupyter-widgets/base",
      "model_module_version": "1.2.0",
      "model_name": "LayoutModel",
      "state": {
       "_model_module": "@jupyter-widgets/base",
       "_model_module_version": "1.2.0",
       "_model_name": "LayoutModel",
       "_view_count": null,
       "_view_module": "@jupyter-widgets/base",
       "_view_module_version": "1.2.0",
       "_view_name": "LayoutView",
       "align_content": null,
       "align_items": null,
       "align_self": null,
       "border": null,
       "bottom": null,
       "display": null,
       "flex": null,
       "flex_flow": null,
       "grid_area": null,
       "grid_auto_columns": null,
       "grid_auto_flow": null,
       "grid_auto_rows": null,
       "grid_column": null,
       "grid_gap": null,
       "grid_row": null,
       "grid_template_areas": null,
       "grid_template_columns": null,
       "grid_template_rows": null,
       "height": null,
       "justify_content": null,
       "justify_items": null,
       "left": null,
       "margin": null,
       "max_height": null,
       "max_width": null,
       "min_height": null,
       "min_width": null,
       "object_fit": null,
       "object_position": null,
       "order": null,
       "overflow": null,
       "overflow_x": null,
       "overflow_y": null,
       "padding": null,
       "right": null,
       "top": null,
       "visibility": null,
       "width": null
      }
     },
     "97f6422d2aee4f73b0509c1f3bfcf22d": {
      "model_module": "@jupyter-widgets/controls",
      "model_module_version": "1.5.0",
      "model_name": "DescriptionStyleModel",
      "state": {
       "_model_module": "@jupyter-widgets/controls",
       "_model_module_version": "1.5.0",
       "_model_name": "DescriptionStyleModel",
       "_view_count": null,
       "_view_module": "@jupyter-widgets/base",
       "_view_module_version": "1.2.0",
       "_view_name": "StyleView",
       "description_width": ""
      }
     },
     "b21381ce9e174324ad48ba83b6a03462": {
      "model_module": "@jupyter-widgets/base",
      "model_module_version": "1.2.0",
      "model_name": "LayoutModel",
      "state": {
       "_model_module": "@jupyter-widgets/base",
       "_model_module_version": "1.2.0",
       "_model_name": "LayoutModel",
       "_view_count": null,
       "_view_module": "@jupyter-widgets/base",
       "_view_module_version": "1.2.0",
       "_view_name": "LayoutView",
       "align_content": null,
       "align_items": null,
       "align_self": null,
       "border": null,
       "bottom": null,
       "display": null,
       "flex": null,
       "flex_flow": null,
       "grid_area": null,
       "grid_auto_columns": null,
       "grid_auto_flow": null,
       "grid_auto_rows": null,
       "grid_column": null,
       "grid_gap": null,
       "grid_row": null,
       "grid_template_areas": null,
       "grid_template_columns": null,
       "grid_template_rows": null,
       "height": null,
       "justify_content": null,
       "justify_items": null,
       "left": null,
       "margin": null,
       "max_height": null,
       "max_width": null,
       "min_height": null,
       "min_width": null,
       "object_fit": null,
       "object_position": null,
       "order": null,
       "overflow": null,
       "overflow_x": null,
       "overflow_y": null,
       "padding": null,
       "right": null,
       "top": null,
       "visibility": null,
       "width": null
      }
     },
     "baf15905724048a9b2e8bb8005e60787": {
      "model_module": "@jupyter-widgets/controls",
      "model_module_version": "1.5.0",
      "model_name": "ProgressStyleModel",
      "state": {
       "_model_module": "@jupyter-widgets/controls",
       "_model_module_version": "1.5.0",
       "_model_name": "ProgressStyleModel",
       "_view_count": null,
       "_view_module": "@jupyter-widgets/base",
       "_view_module_version": "1.2.0",
       "_view_name": "StyleView",
       "bar_color": null,
       "description_width": ""
      }
     },
     "cf69a8d53f384c4fb5abb2fba7e2ff07": {
      "model_module": "@jupyter-widgets/controls",
      "model_module_version": "1.5.0",
      "model_name": "HTMLModel",
      "state": {
       "_dom_classes": [],
       "_model_module": "@jupyter-widgets/controls",
       "_model_module_version": "1.5.0",
       "_model_name": "HTMLModel",
       "_view_count": null,
       "_view_module": "@jupyter-widgets/controls",
       "_view_module_version": "1.5.0",
       "_view_name": "HTMLView",
       "description": "",
       "description_tooltip": null,
       "layout": "IPY_MODEL_b21381ce9e174324ad48ba83b6a03462",
       "placeholder": "​",
       "style": "IPY_MODEL_54e243072c8e4b4a991b63138e92a0a2",
       "value": " 35.1M/35.1M [00:04&lt;00:00, 9.71MB/s]"
      }
     },
     "f489b740bf8d4a388fbe8e40b80656d2": {
      "model_module": "@jupyter-widgets/controls",
      "model_module_version": "1.5.0",
      "model_name": "HTMLModel",
      "state": {
       "_dom_classes": [],
       "_model_module": "@jupyter-widgets/controls",
       "_model_module_version": "1.5.0",
       "_model_name": "HTMLModel",
       "_view_count": null,
       "_view_module": "@jupyter-widgets/controls",
       "_view_module_version": "1.5.0",
       "_view_name": "HTMLView",
       "description": "",
       "description_tooltip": null,
       "layout": "IPY_MODEL_6b4a2e8e26984683a163875ad34803d3",
       "placeholder": "​",
       "style": "IPY_MODEL_97f6422d2aee4f73b0509c1f3bfcf22d",
       "value": "100%"
      }
     }
    },
    "version_major": 2,
    "version_minor": 0
   }
  }
 },
 "nbformat": 4,
 "nbformat_minor": 5
}
