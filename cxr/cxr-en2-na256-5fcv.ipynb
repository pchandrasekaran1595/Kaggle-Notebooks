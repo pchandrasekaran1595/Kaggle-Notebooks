{
 "cells": [
  {
   "cell_type": "code",
   "execution_count": 1,
   "id": "2536cb23",
   "metadata": {
    "_cell_guid": "b1076dfc-b9ad-4769-8c92-a6c4dae69d19",
    "_uuid": "8f2839f25d086af736a60e9eeb907d3b93b6e0e5",
    "execution": {
     "iopub.execute_input": "2022-04-13T09:09:08.654519Z",
     "iopub.status.busy": "2022-04-13T09:09:08.649798Z",
     "iopub.status.idle": "2022-04-13T09:09:17.974237Z",
     "shell.execute_reply": "2022-04-13T09:09:17.973524Z"
    },
    "papermill": {
     "duration": 9.343408,
     "end_time": "2022-04-13T09:09:17.974388",
     "exception": false,
     "start_time": "2022-04-13T09:09:08.630980",
     "status": "completed"
    },
    "tags": []
   },
   "outputs": [
    {
     "name": "stderr",
     "output_type": "stream",
     "text": [
      "WARNING: Running pip as the 'root' user can result in broken permissions and conflicting behaviour with the system package manager. It is recommended to use a virtual environment instead: https://pip.pypa.io/warnings/venv\n"
     ]
    }
   ],
   "source": [
    "%%bash\n",
    "pip install --upgrade -q efficientnet_pytorch"
   ]
  },
  {
   "cell_type": "markdown",
   "id": "ea166aaa",
   "metadata": {
    "papermill": {
     "duration": 0.013449,
     "end_time": "2022-04-13T09:09:18.002154",
     "exception": false,
     "start_time": "2022-04-13T09:09:17.988705",
     "status": "completed"
    },
    "tags": []
   },
   "source": [
    "### **Library Imports**"
   ]
  },
  {
   "cell_type": "code",
   "execution_count": 2,
   "id": "ff0215e0",
   "metadata": {
    "execution": {
     "iopub.execute_input": "2022-04-13T09:09:18.036392Z",
     "iopub.status.busy": "2022-04-13T09:09:18.035662Z",
     "iopub.status.idle": "2022-04-13T09:09:20.397336Z",
     "shell.execute_reply": "2022-04-13T09:09:20.396837Z",
     "shell.execute_reply.started": "2022-04-09T01:18:45.162484Z"
    },
    "papermill": {
     "duration": 2.381751,
     "end_time": "2022-04-13T09:09:20.397465",
     "exception": false,
     "start_time": "2022-04-13T09:09:18.015714",
     "status": "completed"
    },
    "tags": []
   },
   "outputs": [],
   "source": [
    "import os\n",
    "import re\n",
    "import torch\n",
    "import numpy as np\n",
    "import pandas as pd\n",
    "import matplotlib.pyplot as plt\n",
    "\n",
    "from time import time\n",
    "from torch import nn, optim\n",
    "from torch.utils.data import Dataset\n",
    "from torch.utils.data import DataLoader as DL\n",
    "from torchvision import models, transforms\n",
    "\n",
    "from sklearn.model_selection import KFold\n",
    "from sklearn.preprocessing import LabelEncoder\n",
    "from sklearn.metrics import accuracy_score, \\\n",
    "                            precision_recall_fscore_support, \\\n",
    "                            roc_auc_score, \\\n",
    "                            classification_report\n",
    "from efficientnet_pytorch import EfficientNet"
   ]
  },
  {
   "cell_type": "markdown",
   "id": "c84aa0c2",
   "metadata": {
    "papermill": {
     "duration": 0.014395,
     "end_time": "2022-04-13T09:09:20.426133",
     "exception": false,
     "start_time": "2022-04-13T09:09:20.411738",
     "status": "completed"
    },
    "tags": []
   },
   "source": [
    "### **Utilities**"
   ]
  },
  {
   "cell_type": "code",
   "execution_count": 3,
   "id": "0794e522",
   "metadata": {
    "execution": {
     "iopub.execute_input": "2022-04-13T09:09:20.466927Z",
     "iopub.status.busy": "2022-04-13T09:09:20.466181Z",
     "iopub.status.idle": "2022-04-13T09:09:20.468236Z",
     "shell.execute_reply": "2022-04-13T09:09:20.468611Z",
     "shell.execute_reply.started": "2022-04-09T01:18:47.512362Z"
    },
    "papermill": {
     "duration": 0.028894,
     "end_time": "2022-04-13T09:09:20.468733",
     "exception": false,
     "start_time": "2022-04-13T09:09:20.439839",
     "status": "completed"
    },
    "tags": []
   },
   "outputs": [],
   "source": [
    "SEED = 42\n",
    "SIZE = 256\n",
    "\n",
    "def breaker(num: int=50, char: str=\"*\") -> None:\n",
    "    print(\"\\n\" + num*char + \"\\n\")\n",
    "\n",
    "\n",
    "def show_graphs(L: list, A: list) -> None:\n",
    "    TL, VL, TA, VA = [], [], [], []\n",
    "    for i in range(len(L)):\n",
    "        TL.append(L[i][\"train\"])\n",
    "        VL.append(L[i][\"valid\"])\n",
    "        TA.append(A[i][\"train\"])\n",
    "        VA.append(A[i][\"valid\"])\n",
    "    x_Axis = np.arange(1, len(TL) + 1)\n",
    "    plt.figure(figsize=(8, 6))\n",
    "    plt.subplot(1, 2, 1)\n",
    "    plt.plot(x_Axis, TL, \"r\", label=\"Train\")\n",
    "    plt.plot(x_Axis, VL, \"b\", label=\"Valid\")\n",
    "    plt.legend()\n",
    "    plt.grid()\n",
    "    plt.title(\"Loss Graph\")\n",
    "    plt.subplot(1, 2, 2)\n",
    "    plt.plot(x_Axis, TA, \"r\", label=\"Train\")\n",
    "    plt.plot(x_Axis, VA, \"b\", label=\"Valid\")\n",
    "    plt.legend()\n",
    "    plt.grid()\n",
    "    plt.title(\"Accuracy Graph\")\n",
    "    plt.show()\n",
    "\n",
    "    \n",
    "def get_scores(y_true: np.ndarray, y_pred: np.ndarray) -> tuple:\n",
    "    accuracy = accuracy_score(y_pred, y_true)\n",
    "    try:\n",
    "        auc = roc_auc_score(y_pred, y_true)\n",
    "    except:\n",
    "        auc = 0\n",
    "    precision, recall, f_score, _ = precision_recall_fscore_support(y_pred, y_true)\n",
    "\n",
    "    return accuracy, auc, precision, recall, f_score\n",
    "\n",
    "\n",
    "def print_scores(accuracy: float, auc: float, precision: np.ndarray, recall: np.ndarray, f_score: np.ndarray) -> None:\n",
    "    print(f\"Accuracy  : {accuracy:.5f}\")\n",
    "    print(f\"ROC-AUC   : {auc:.5f}\")\n",
    "    print(f\"Precision : {precision}\")\n",
    "    print(f\"Recall    : {recall}\")\n",
    "    print(f\"F-Score   : {f_score}\")"
   ]
  },
  {
   "cell_type": "markdown",
   "id": "d192be8a",
   "metadata": {
    "papermill": {
     "duration": 0.013339,
     "end_time": "2022-04-13T09:09:20.495552",
     "exception": false,
     "start_time": "2022-04-13T09:09:20.482213",
     "status": "completed"
    },
    "tags": []
   },
   "source": [
    "### **Configuration**"
   ]
  },
  {
   "cell_type": "code",
   "execution_count": 4,
   "id": "a87aed35",
   "metadata": {
    "execution": {
     "iopub.execute_input": "2022-04-13T09:09:20.584521Z",
     "iopub.status.busy": "2022-04-13T09:09:20.583933Z",
     "iopub.status.idle": "2022-04-13T09:09:20.586745Z",
     "shell.execute_reply": "2022-04-13T09:09:20.586297Z",
     "shell.execute_reply.started": "2022-04-09T01:36:52.976989Z"
    },
    "papermill": {
     "duration": 0.077826,
     "end_time": "2022-04-13T09:09:20.586854",
     "exception": false,
     "start_time": "2022-04-13T09:09:20.509028",
     "status": "completed"
    },
    "tags": []
   },
   "outputs": [],
   "source": [
    "class CFG(object):\n",
    "    def __init__(self, \n",
    "                 seed: int = 42,\n",
    "                 n_splits: int = 5,\n",
    "                 batch_size: int = 16,\n",
    "                 epochs: int = 25,\n",
    "                 early_stopping: int = 5,\n",
    "                 lr: float = 1e-4,\n",
    "                 wd: float = 0.0,\n",
    "                 max_lr: float = 1e-3,\n",
    "                 pct_start: float = 0.2,\n",
    "                 steps_per_epoch: int = 100,\n",
    "                 div_factor: int = 1e3, \n",
    "                 final_div_factor: float = 1e3,\n",
    "                 ):\n",
    "        \n",
    "        self.seed = seed\n",
    "        self.n_splits = n_splits\n",
    "        self.batch_size = batch_size\n",
    "        self.epochs = epochs\n",
    "        self.early_stopping = early_stopping\n",
    "        self.lr = lr\n",
    "        self.wd = wd\n",
    "        self.max_lr = max_lr\n",
    "        self.pct_start = pct_start\n",
    "        self.steps_per_epoch = steps_per_epoch\n",
    "        self.div_factor = div_factor\n",
    "        self.final_div_factor = final_div_factor\n",
    "        self.device = torch.device(\"cuda\" if torch.cuda.is_available() else \"cpu\")\n",
    "        self.transform = transforms.Compose([transforms.ToTensor(),\n",
    "                                transforms.Normalize([0.11899, 0.11923, 0.12643],\n",
    "                                                     [0.17037, 0.16976, 0.18014]),\n",
    "                                ])\n",
    "        self.save_path = \"saves\"\n",
    "        if not os.path.exists(self.save_path): os.makedirs(self.save_path)\n",
    "    \n",
    "cfg = CFG(seed=SEED)"
   ]
  },
  {
   "cell_type": "markdown",
   "id": "a7000b25",
   "metadata": {
    "papermill": {
     "duration": 0.026361,
     "end_time": "2022-04-13T09:09:20.631740",
     "exception": false,
     "start_time": "2022-04-13T09:09:20.605379",
     "status": "completed"
    },
    "tags": []
   },
   "source": [
    "### **Dataset Template**"
   ]
  },
  {
   "cell_type": "code",
   "execution_count": 5,
   "id": "868d6a94",
   "metadata": {
    "execution": {
     "iopub.execute_input": "2022-04-13T09:09:20.696551Z",
     "iopub.status.busy": "2022-04-13T09:09:20.696008Z",
     "iopub.status.idle": "2022-04-13T09:09:20.701242Z",
     "shell.execute_reply": "2022-04-13T09:09:20.702745Z",
     "shell.execute_reply.started": "2022-04-09T01:18:47.593512Z"
    },
    "papermill": {
     "duration": 0.04285,
     "end_time": "2022-04-13T09:09:20.703750",
     "exception": false,
     "start_time": "2022-04-13T09:09:20.660900",
     "status": "completed"
    },
    "tags": []
   },
   "outputs": [],
   "source": [
    "class DS(Dataset):\n",
    "    def __init__(self, images: np.ndarray, labels: np.ndarray = None, transform=None):\n",
    "        self.images = images\n",
    "        self.labels = labels\n",
    "        self.transform = transform\n",
    "    \n",
    "    def __len__(self):\n",
    "        return self.images.shape[0]\n",
    "    \n",
    "    def __getitem__(self, idx):\n",
    "        if self.labels is not None:\n",
    "            return self.transform(self.images[idx]), torch.FloatTensor(self.labels[idx])\n",
    "        else:\n",
    "            return self.transform(self.images[idx])"
   ]
  },
  {
   "cell_type": "markdown",
   "id": "55fffe86",
   "metadata": {
    "papermill": {
     "duration": 0.024699,
     "end_time": "2022-04-13T09:09:20.753977",
     "exception": false,
     "start_time": "2022-04-13T09:09:20.729278",
     "status": "completed"
    },
    "tags": []
   },
   "source": [
    "### **Model**"
   ]
  },
  {
   "cell_type": "code",
   "execution_count": 6,
   "id": "9f3411b1",
   "metadata": {
    "execution": {
     "iopub.execute_input": "2022-04-13T09:09:20.810163Z",
     "iopub.status.busy": "2022-04-13T09:09:20.808076Z",
     "iopub.status.idle": "2022-04-13T09:09:20.811028Z",
     "shell.execute_reply": "2022-04-13T09:09:20.811695Z",
     "shell.execute_reply.started": "2022-04-09T01:18:47.606516Z"
    },
    "papermill": {
     "duration": 0.033924,
     "end_time": "2022-04-13T09:09:20.811869",
     "exception": false,
     "start_time": "2022-04-13T09:09:20.777945",
     "status": "completed"
    },
    "tags": []
   },
   "outputs": [],
   "source": [
    "class Model(nn.Module):\n",
    "    def __init__(self):\n",
    "        super(Model, self).__init__()\n",
    "\n",
    "        self.model = EfficientNet.from_pretrained(\"efficientnet-b2\")\n",
    "        self.model._fc = torch.nn.Linear(in_features=self.model._fc.in_features, out_features=1)\n",
    "\n",
    "    def forward(self, x):\n",
    "        return self.model(x)"
   ]
  },
  {
   "cell_type": "markdown",
   "id": "50b971d3",
   "metadata": {
    "papermill": {
     "duration": 0.023639,
     "end_time": "2022-04-13T09:09:20.858449",
     "exception": false,
     "start_time": "2022-04-13T09:09:20.834810",
     "status": "completed"
    },
    "tags": []
   },
   "source": [
    "### Fit and Predict Helper"
   ]
  },
  {
   "cell_type": "code",
   "execution_count": 7,
   "id": "4ad18181",
   "metadata": {
    "execution": {
     "iopub.execute_input": "2022-04-13T09:09:20.914834Z",
     "iopub.status.busy": "2022-04-13T09:09:20.913999Z",
     "iopub.status.idle": "2022-04-13T09:09:20.940514Z",
     "shell.execute_reply": "2022-04-13T09:09:20.941538Z",
     "shell.execute_reply.started": "2022-04-09T01:18:47.615986Z"
    },
    "papermill": {
     "duration": 0.060468,
     "end_time": "2022-04-13T09:09:20.941727",
     "exception": false,
     "start_time": "2022-04-13T09:09:20.881259",
     "status": "completed"
    },
    "tags": []
   },
   "outputs": [],
   "source": [
    "def fit(model=None, \n",
    "        optimizer=None, \n",
    "        scheduler=None, \n",
    "        epochs=None, \n",
    "        early_stopping_patience=None, \n",
    "        dataloaders=None, \n",
    "        fold=None, \n",
    "        save_path=None, \n",
    "        device=None,\n",
    "        verbose=False) -> tuple:\n",
    "    \n",
    "    def get_accuracy(y_pred, y_true):\n",
    "        y_pred = torch.sigmoid(y_pred)\n",
    "        \n",
    "        y_pred[y_pred > 0.5] = 1\n",
    "        y_pred[y_pred <= 0.5] = 0\n",
    "        \n",
    "        return torch.count_nonzero(y_pred == y_true).item() / len(y_pred)\n",
    "    \n",
    "    if verbose:\n",
    "        breaker()\n",
    "        if fold: print(f\"Training Fold {fold}...\")\n",
    "        else: print(\"Training ...\")\n",
    "        breaker()\n",
    "        \n",
    "    bestLoss, bestAccs = {\"train\" : np.inf, \"valid\" : np.inf}, {\"train\" : 0.0, \"valid\" : 0.0}\n",
    "    Losses, LRs, Accuracies = [], [], []\n",
    "    if fold: name = f\"state_fold_{fold}.pt\"\n",
    "    else: name = \"state.pt\"\n",
    "\n",
    "    start_time = time()\n",
    "    for e in range(epochs):\n",
    "        e_st = time()\n",
    "        epochLoss, epochAccs = {\"train\" : 0.0, \"valid\" : 0.0}, {\"train\" : 0.0, \"valid\" : 0.0}\n",
    "\n",
    "        for phase in [\"train\", \"valid\"]:\n",
    "            if phase == \"train\":\n",
    "                model.train()\n",
    "            else:\n",
    "                model.eval()\n",
    "            \n",
    "            lossPerPass, accsPerPass = [], []\n",
    "\n",
    "            for X, y in dataloaders[phase]:\n",
    "                X, y = X.to(device), y.to(device)\n",
    "\n",
    "                optimizer.zero_grad()\n",
    "                with torch.set_grad_enabled(phase == \"train\"):\n",
    "                    output = model(X)\n",
    "                    loss = torch.nn.BCEWithLogitsLoss()(output, y)\n",
    "                    if phase == \"train\":\n",
    "                        loss.backward()\n",
    "                        optimizer.step()\n",
    "                        if scheduler: scheduler.step()\n",
    "                lossPerPass.append(loss.item())\n",
    "                accsPerPass.append(get_accuracy(output, y))\n",
    "            epochLoss[phase] = np.mean(np.array(lossPerPass))\n",
    "            epochAccs[phase] = np.mean(np.array(accsPerPass))\n",
    "        LRs.append(scheduler.get_last_lr())\n",
    "        Losses.append(epochLoss)\n",
    "        Accuracies.append(epochAccs)\n",
    "        \n",
    "        if early_stopping_patience:\n",
    "            if epochLoss[\"valid\"] < bestLoss[\"valid\"]:\n",
    "                bestLoss = epochLoss\n",
    "                BLE = e + 1\n",
    "                torch.save({\"model_state_dict\"     : model.state_dict(),\n",
    "                            \"optim_state_dict\"     : optimizer.state_dict()},\n",
    "                           os.path.join(save_path, name))\n",
    "                early_stopping_step = 0\n",
    "            else:\n",
    "                early_stopping_step += 1\n",
    "                if early_stopping_step > early_stopping_patience:\n",
    "                    print(\"\\nEarly Stopping at Epoch {}\".format(e + 1))\n",
    "                    break\n",
    "        \n",
    "        if epochLoss[\"valid\"] < bestLoss[\"valid\"]:\n",
    "            bestLoss = epochLoss\n",
    "            BLE = e + 1\n",
    "            torch.save({\"model_state_dict\"     : model.state_dict(),\n",
    "                        \"optim_state_dict\"     : optimizer.state_dict()},\n",
    "                        os.path.join(save_path, name))\n",
    "        \n",
    "        if epochAccs[\"valid\"] > bestAccs[\"valid\"]:\n",
    "            bestAccs = epochAccs\n",
    "            BAE = e + 1\n",
    "        \n",
    "        # if scheduler: scheduler.step(epochLoss[\"valid\"])\n",
    "        \n",
    "        if verbose:\n",
    "            print(\"Epoch: {} | Train Loss: {:.5f} | Valid Loss: {:.5f} | Train Accs: {:.5f} | Valid Accs: {:.5f} | Time: {:.2f} seconds\".format(e+1, \n",
    "                                                                       epochLoss[\"train\"], epochLoss[\"valid\"], \n",
    "                                                                       epochAccs[\"train\"], epochAccs[\"valid\"], \n",
    "                                                                       time()-e_st))\n",
    "\n",
    "    if verbose:                                           \n",
    "        breaker()\n",
    "        print(f\"Best Validation Loss at Epoch {BLE}\")\n",
    "        breaker()\n",
    "        print(f\"Best Validation Accs at Epoch {BAE}\")\n",
    "        breaker()\n",
    "        print(\"Time Taken [{} Epochs] : {:.2f} minutes\".format(len(Losses), (time()-start_time)/60))\n",
    "    \n",
    "    return Losses, Accuracies, LRs, BLE, BAE, name\n",
    "\n",
    "\n",
    "def predict(model=None, dataloader=None, path=None, device=None) -> np.ndarray:\n",
    "    model.load_state_dict(torch.load(path, map_location=device)[\"model_state_dict\"])\n",
    "    model.to(device)    \n",
    "    model.eval()\n",
    "    \n",
    "    y_pred = torch.zeros(1, 1).to(device)\n",
    "    \n",
    "    for X in dataloader:\n",
    "        X = X.to(device)\n",
    "        with torch.no_grad():\n",
    "            output = torch.sigmoid(model(X))\n",
    "        y_pred = torch.cat((y_pred, output.view(-1, 1)), dim=0)\n",
    "    \n",
    "    y_pred[y_pred > 0.5] = 1\n",
    "    y_pred[y_pred <= 0.5] = 0\n",
    "    \n",
    "    return y_pred[1:].detach().cpu().numpy()"
   ]
  },
  {
   "cell_type": "markdown",
   "id": "3ed1a141",
   "metadata": {
    "papermill": {
     "duration": 0.02359,
     "end_time": "2022-04-13T09:09:20.989504",
     "exception": false,
     "start_time": "2022-04-13T09:09:20.965914",
     "status": "completed"
    },
    "tags": []
   },
   "source": [
    "### **Train**"
   ]
  },
  {
   "cell_type": "code",
   "execution_count": 8,
   "id": "e92719d4",
   "metadata": {
    "execution": {
     "iopub.execute_input": "2022-04-13T09:09:21.042124Z",
     "iopub.status.busy": "2022-04-13T09:09:21.041341Z",
     "iopub.status.idle": "2022-04-13T09:09:33.975159Z",
     "shell.execute_reply": "2022-04-13T09:09:33.974654Z",
     "shell.execute_reply.started": "2022-04-09T01:18:47.643848Z"
    },
    "papermill": {
     "duration": 12.96167,
     "end_time": "2022-04-13T09:09:33.975293",
     "exception": false,
     "start_time": "2022-04-13T09:09:21.013623",
     "status": "completed"
    },
    "tags": []
   },
   "outputs": [],
   "source": [
    "images = np.load(f\"../input/chest-x-rays-images/train_images_{SIZE}.npy\")\n",
    "labels = np.load(f\"../input/chest-x-rays-images/train_targets_{SIZE}.npy\")"
   ]
  },
  {
   "cell_type": "code",
   "execution_count": 9,
   "id": "6f43dff6",
   "metadata": {
    "execution": {
     "iopub.execute_input": "2022-04-13T09:09:34.017107Z",
     "iopub.status.busy": "2022-04-13T09:09:34.016148Z",
     "iopub.status.idle": "2022-04-13T10:06:48.303328Z",
     "shell.execute_reply": "2022-04-13T10:06:48.303766Z",
     "shell.execute_reply.started": "2022-04-09T01:36:59.635267Z"
    },
    "papermill": {
     "duration": 3434.313146,
     "end_time": "2022-04-13T10:06:48.303927",
     "exception": false,
     "start_time": "2022-04-13T09:09:33.990781",
     "status": "completed"
    },
    "tags": []
   },
   "outputs": [
    {
     "name": "stderr",
     "output_type": "stream",
     "text": [
      "Downloading: \"https://github.com/lukemelas/EfficientNet-PyTorch/releases/download/1.0/efficientnet-b2-8bb594d6.pth\" to /root/.cache/torch/hub/checkpoints/efficientnet-b2-8bb594d6.pth\n"
     ]
    },
    {
     "data": {
      "application/vnd.jupyter.widget-view+json": {
       "model_id": "caf4fea4956f47ad99b05ddd7ec7c5b5",
       "version_major": 2,
       "version_minor": 0
      },
      "text/plain": [
       "  0%|          | 0.00/35.1M [00:00<?, ?B/s]"
      ]
     },
     "metadata": {},
     "output_type": "display_data"
    },
    {
     "name": "stdout",
     "output_type": "stream",
     "text": [
      "Loaded pretrained weights for efficientnet-b2\n",
      "\n",
      "**************************************************\n",
      "\n",
      "Training Fold 1...\n",
      "\n",
      "**************************************************\n",
      "\n",
      "Epoch: 1 | Train Loss: 0.43951 | Valid Loss: 0.07096 | Train Accs: 0.77648 | Valid Accs: 0.97362 | Time: 56.83 seconds\n",
      "Epoch: 2 | Train Loss: 0.09609 | Valid Loss: 0.08462 | Train Accs: 0.96756 | Valid Accs: 0.97538 | Time: 50.42 seconds\n",
      "Epoch: 3 | Train Loss: 0.06207 | Valid Loss: 0.14739 | Train Accs: 0.97853 | Valid Accs: 0.95468 | Time: 50.46 seconds\n",
      "Epoch: 4 | Train Loss: 0.05646 | Valid Loss: 0.05382 | Train Accs: 0.98001 | Valid Accs: 0.97538 | Time: 50.65 seconds\n",
      "Epoch: 5 | Train Loss: 0.04401 | Valid Loss: 0.04498 | Train Accs: 0.98521 | Valid Accs: 0.98647 | Time: 51.19 seconds\n",
      "Epoch: 6 | Train Loss: 0.02591 | Valid Loss: 0.11178 | Train Accs: 0.99141 | Valid Accs: 0.95833 | Time: 50.38 seconds\n",
      "Epoch: 7 | Train Loss: 0.01598 | Valid Loss: 0.07101 | Train Accs: 0.99499 | Valid Accs: 0.97822 | Time: 50.45 seconds\n",
      "Epoch: 8 | Train Loss: 0.02278 | Valid Loss: 0.06396 | Train Accs: 0.99260 | Valid Accs: 0.98390 | Time: 50.29 seconds\n",
      "Epoch: 9 | Train Loss: 0.01624 | Valid Loss: 0.11692 | Train Accs: 0.99361 | Valid Accs: 0.97538 | Time: 50.61 seconds\n",
      "Epoch: 10 | Train Loss: 0.00255 | Valid Loss: 0.02630 | Train Accs: 0.99905 | Valid Accs: 0.99215 | Time: 50.90 seconds\n",
      "Epoch: 11 | Train Loss: 0.01232 | Valid Loss: 0.02248 | Train Accs: 0.99594 | Valid Accs: 0.99337 | Time: 50.67 seconds\n",
      "Epoch: 12 | Train Loss: 0.00720 | Valid Loss: 0.02425 | Train Accs: 0.99785 | Valid Accs: 0.99337 | Time: 50.58 seconds\n",
      "Epoch: 13 | Train Loss: 0.00043 | Valid Loss: 0.03144 | Train Accs: 1.00000 | Valid Accs: 0.99148 | Time: 50.41 seconds\n",
      "Epoch: 14 | Train Loss: 0.00095 | Valid Loss: 0.03050 | Train Accs: 0.99976 | Valid Accs: 0.99432 | Time: 50.47 seconds\n",
      "Epoch: 15 | Train Loss: 0.00020 | Valid Loss: 0.03089 | Train Accs: 1.00000 | Valid Accs: 0.99432 | Time: 50.37 seconds\n",
      "Epoch: 16 | Train Loss: 0.00012 | Valid Loss: 0.03255 | Train Accs: 1.00000 | Valid Accs: 0.99337 | Time: 50.26 seconds\n",
      "\n",
      "Early Stopping at Epoch 17\n",
      "\n",
      "**************************************************\n",
      "\n",
      "Best Validation Loss at Epoch 11\n",
      "\n",
      "**************************************************\n",
      "\n",
      "Best Validation Accs at Epoch 14\n",
      "\n",
      "**************************************************\n",
      "\n",
      "Time Taken [17 Epochs] : 14.42 minutes\n",
      "\n",
      "**************************************************\n",
      "\n"
     ]
    },
    {
     "data": {
      "image/png": "[encoded data removed]",
      "text/plain": [
       "<Figure size 576x432 with 2 Axes>"
      ]
     },
     "metadata": {
      "needs_background": "light"
     },
     "output_type": "display_data"
    },
    {
     "name": "stdout",
     "output_type": "stream",
     "text": [
      "Loaded pretrained weights for efficientnet-b2\n",
      "\n",
      "**************************************************\n",
      "\n",
      "Training Fold 2...\n",
      "\n",
      "**************************************************\n",
      "\n",
      "Epoch: 1 | Train Loss: 0.56261 | Valid Loss: 0.25111 | Train Accs: 0.69339 | Valid Accs: 0.93514 | Time: 44.58 seconds\n",
      "Epoch: 2 | Train Loss: 0.08411 | Valid Loss: 0.09043 | Train Accs: 0.97562 | Valid Accs: 0.98070 | Time: 44.56 seconds\n",
      "Epoch: 3 | Train Loss: 0.05041 | Valid Loss: 0.05115 | Train Accs: 0.98272 | Valid Accs: 0.97375 | Time: 44.62 seconds\n",
      "Epoch: 4 | Train Loss: 0.03544 | Valid Loss: 0.04319 | Train Accs: 0.98921 | Valid Accs: 0.98897 | Time: 44.27 seconds\n",
      "Epoch: 5 | Train Loss: 0.02740 | Valid Loss: 0.14011 | Train Accs: 0.98935 | Valid Accs: 0.96324 | Time: 43.99 seconds\n",
      "Epoch: 6 | Train Loss: 0.01509 | Valid Loss: 0.54088 | Train Accs: 0.99500 | Valid Accs: 0.91176 | Time: 44.17 seconds\n",
      "Epoch: 7 | Train Loss: 0.02120 | Valid Loss: 0.14971 | Train Accs: 0.99266 | Valid Accs: 0.95149 | Time: 44.03 seconds\n",
      "Epoch: 8 | Train Loss: 0.01182 | Valid Loss: 0.05268 | Train Accs: 0.99632 | Valid Accs: 0.98989 | Time: 44.10 seconds\n",
      "Epoch: 9 | Train Loss: 0.01726 | Valid Loss: 0.07640 | Train Accs: 0.99561 | Valid Accs: 0.98346 | Time: 44.14 seconds\n",
      "Epoch: 10 | Train Loss: 0.00495 | Valid Loss: 0.03289 | Train Accs: 0.99882 | Valid Accs: 0.98897 | Time: 44.32 seconds\n",
      "Epoch: 11 | Train Loss: 0.00292 | Valid Loss: 0.05688 | Train Accs: 0.99882 | Valid Accs: 0.98897 | Time: 44.11 seconds\n",
      "Epoch: 12 | Train Loss: 0.00136 | Valid Loss: 0.02732 | Train Accs: 0.99953 | Valid Accs: 0.99357 | Time: 44.43 seconds\n",
      "Epoch: 13 | Train Loss: 0.00107 | Valid Loss: 0.03089 | Train Accs: 0.99953 | Valid Accs: 0.99173 | Time: 44.06 seconds\n",
      "Epoch: 14 | Train Loss: 0.00031 | Valid Loss: 0.02448 | Train Accs: 1.00000 | Valid Accs: 0.99540 | Time: 44.31 seconds\n",
      "Epoch: 15 | Train Loss: 0.00038 | Valid Loss: 0.02621 | Train Accs: 1.00000 | Valid Accs: 0.99540 | Time: 44.19 seconds\n",
      "Epoch: 16 | Train Loss: 0.00025 | Valid Loss: 0.02806 | Train Accs: 1.00000 | Valid Accs: 0.99449 | Time: 44.05 seconds\n",
      "Epoch: 17 | Train Loss: 0.00088 | Valid Loss: 0.02934 | Train Accs: 0.99976 | Valid Accs: 0.99357 | Time: 44.12 seconds\n",
      "Epoch: 18 | Train Loss: 0.00058 | Valid Loss: 0.02692 | Train Accs: 1.00000 | Valid Accs: 0.99449 | Time: 44.08 seconds\n",
      "Epoch: 19 | Train Loss: 0.00023 | Valid Loss: 0.02701 | Train Accs: 1.00000 | Valid Accs: 0.99449 | Time: 44.25 seconds\n",
      "\n",
      "Early Stopping at Epoch 20\n",
      "\n",
      "**************************************************\n",
      "\n",
      "Best Validation Loss at Epoch 14\n",
      "\n",
      "**************************************************\n",
      "\n",
      "Best Validation Accs at Epoch 14\n",
      "\n",
      "**************************************************\n",
      "\n",
      "Time Taken [20 Epochs] : 14.74 minutes\n",
      "\n",
      "**************************************************\n",
      "\n"
     ]
    },
    {
     "data": {
      "image/png": "[encoded data removed]",
      "text/plain": [
       "<Figure size 576x432 with 2 Axes>"
      ]
     },
     "metadata": {
      "needs_background": "light"
     },
     "output_type": "display_data"
    },
    {
     "name": "stdout",
     "output_type": "stream",
     "text": [
      "Loaded pretrained weights for efficientnet-b2\n",
      "\n",
      "**************************************************\n",
      "\n",
      "Training Fold 3...\n",
      "\n",
      "**************************************************\n",
      "\n",
      "Epoch: 1 | Train Loss: 0.56206 | Valid Loss: 0.23800 | Train Accs: 0.69449 | Valid Accs: 0.92848 | Time: 44.20 seconds\n",
      "Epoch: 2 | Train Loss: 0.09111 | Valid Loss: 0.06291 | Train Accs: 0.97325 | Valid Accs: 0.97802 | Time: 44.23 seconds\n",
      "Epoch: 3 | Train Loss: 0.04955 | Valid Loss: 0.05382 | Train Accs: 0.98037 | Valid Accs: 0.98254 | Time: 44.38 seconds\n",
      "Epoch: 4 | Train Loss: 0.03968 | Valid Loss: 0.14042 | Train Accs: 0.98651 | Valid Accs: 0.95897 | Time: 43.97 seconds\n",
      "Epoch: 5 | Train Loss: 0.02093 | Valid Loss: 0.04523 | Train Accs: 0.99266 | Valid Accs: 0.98538 | Time: 44.25 seconds\n",
      "Epoch: 6 | Train Loss: 0.02317 | Valid Loss: 0.04652 | Train Accs: 0.99124 | Valid Accs: 0.98546 | Time: 44.10 seconds\n",
      "Epoch: 7 | Train Loss: 0.00752 | Valid Loss: 0.08453 | Train Accs: 0.99763 | Valid Accs: 0.97719 | Time: 43.98 seconds\n",
      "Epoch: 8 | Train Loss: 0.00580 | Valid Loss: 0.02399 | Train Accs: 0.99834 | Valid Accs: 0.99273 | Time: 44.31 seconds\n",
      "Epoch: 9 | Train Loss: 0.00636 | Valid Loss: 0.02435 | Train Accs: 0.99811 | Valid Accs: 0.99265 | Time: 44.00 seconds\n",
      "Epoch: 10 | Train Loss: 0.00303 | Valid Loss: 0.02591 | Train Accs: 0.99929 | Valid Accs: 0.99273 | Time: 43.95 seconds\n",
      "Epoch: 11 | Train Loss: 0.00377 | Valid Loss: 0.02672 | Train Accs: 0.99905 | Valid Accs: 0.99181 | Time: 43.90 seconds\n",
      "Epoch: 12 | Train Loss: 0.00046 | Valid Loss: 0.03713 | Train Accs: 1.00000 | Valid Accs: 0.98997 | Time: 44.02 seconds\n",
      "Epoch: 13 | Train Loss: 0.00056 | Valid Loss: 0.03241 | Train Accs: 1.00000 | Valid Accs: 0.99181 | Time: 44.04 seconds\n",
      "\n",
      "Early Stopping at Epoch 14\n",
      "\n",
      "**************************************************\n",
      "\n",
      "Best Validation Loss at Epoch 8\n",
      "\n",
      "**************************************************\n",
      "\n",
      "Best Validation Accs at Epoch 8\n",
      "\n",
      "**************************************************\n",
      "\n",
      "Time Taken [14 Epochs] : 10.29 minutes\n",
      "\n",
      "**************************************************\n",
      "\n"
     ]
    },
    {
     "data": {
      "image/png": "[encoded data removed]",
      "text/plain": [
       "<Figure size 576x432 with 2 Axes>"
      ]
     },
     "metadata": {
      "needs_background": "light"
     },
     "output_type": "display_data"
    },
    {
     "name": "stdout",
     "output_type": "stream",
     "text": [
      "Loaded pretrained weights for efficientnet-b2\n",
      "\n",
      "**************************************************\n",
      "\n",
      "Training Fold 4...\n",
      "\n",
      "**************************************************\n",
      "\n",
      "Epoch: 1 | Train Loss: 0.55964 | Valid Loss: 0.24497 | Train Accs: 0.69213 | Valid Accs: 0.91920 | Time: 44.25 seconds\n",
      "Epoch: 2 | Train Loss: 0.09203 | Valid Loss: 0.04527 | Train Accs: 0.97053 | Valid Accs: 0.98438 | Time: 44.44 seconds\n",
      "Epoch: 3 | Train Loss: 0.05684 | Valid Loss: 0.16971 | Train Accs: 0.97977 | Valid Accs: 0.92639 | Time: 43.94 seconds\n",
      "Epoch: 4 | Train Loss: 0.04649 | Valid Loss: 0.06606 | Train Accs: 0.98224 | Valid Accs: 0.97978 | Time: 43.94 seconds\n",
      "Epoch: 5 | Train Loss: 0.02249 | Valid Loss: 0.09909 | Train Accs: 0.99455 | Valid Accs: 0.97518 | Time: 44.01 seconds\n",
      "Epoch: 6 | Train Loss: 0.01133 | Valid Loss: 0.05253 | Train Accs: 0.99645 | Valid Accs: 0.98538 | Time: 43.92 seconds\n",
      "Epoch: 7 | Train Loss: 0.01832 | Valid Loss: 0.11515 | Train Accs: 0.99468 | Valid Accs: 0.97886 | Time: 43.96 seconds\n",
      "\n",
      "Early Stopping at Epoch 8\n",
      "\n",
      "**************************************************\n",
      "\n",
      "Best Validation Loss at Epoch 2\n",
      "\n",
      "**************************************************\n",
      "\n",
      "Best Validation Accs at Epoch 6\n",
      "\n",
      "**************************************************\n",
      "\n",
      "Time Taken [8 Epochs] : 5.88 minutes\n",
      "\n",
      "**************************************************\n",
      "\n"
     ]
    },
    {
     "data": {
      "image/png": "[encoded data removed]",
      "text/plain": [
       "<Figure size 576x432 with 2 Axes>"
      ]
     },
     "metadata": {
      "needs_background": "light"
     },
     "output_type": "display_data"
    },
    {
     "name": "stdout",
     "output_type": "stream",
     "text": [
      "Loaded pretrained weights for efficientnet-b2\n",
      "\n",
      "**************************************************\n",
      "\n",
      "Training Fold 5...\n",
      "\n",
      "**************************************************\n",
      "\n",
      "Epoch: 1 | Train Loss: 0.56055 | Valid Loss: 0.23748 | Train Accs: 0.69828 | Valid Accs: 0.93951 | Time: 44.20 seconds\n",
      "Epoch: 2 | Train Loss: 0.11079 | Valid Loss: 0.13934 | Train Accs: 0.96212 | Valid Accs: 0.95864 | Time: 44.30 seconds\n",
      "Epoch: 3 | Train Loss: 0.04209 | Valid Loss: 0.08222 | Train Accs: 0.98698 | Valid Accs: 0.97610 | Time: 44.39 seconds\n",
      "Epoch: 4 | Train Loss: 0.03761 | Valid Loss: 0.06368 | Train Accs: 0.98558 | Valid Accs: 0.97435 | Time: 44.30 seconds\n",
      "Epoch: 5 | Train Loss: 0.02972 | Valid Loss: 0.05875 | Train Accs: 0.99077 | Valid Accs: 0.98630 | Time: 44.32 seconds\n",
      "Epoch: 6 | Train Loss: 0.02650 | Valid Loss: 0.04007 | Train Accs: 0.99029 | Valid Accs: 0.98997 | Time: 44.44 seconds\n",
      "Epoch: 7 | Train Loss: 0.00594 | Valid Loss: 0.02929 | Train Accs: 0.99834 | Valid Accs: 0.99540 | Time: 44.21 seconds\n",
      "Epoch: 8 | Train Loss: 0.00530 | Valid Loss: 0.03004 | Train Accs: 0.99858 | Valid Accs: 0.99357 | Time: 44.04 seconds\n",
      "Epoch: 9 | Train Loss: 0.00166 | Valid Loss: 0.03085 | Train Accs: 0.99976 | Valid Accs: 0.99540 | Time: 44.14 seconds\n",
      "Epoch: 10 | Train Loss: 0.00075 | Valid Loss: 0.02344 | Train Accs: 0.99976 | Valid Accs: 0.99632 | Time: 44.19 seconds\n",
      "Epoch: 11 | Train Loss: 0.00073 | Valid Loss: 0.02738 | Train Accs: 0.99953 | Valid Accs: 0.99357 | Time: 44.06 seconds\n",
      "Epoch: 12 | Train Loss: 0.00548 | Valid Loss: 0.04497 | Train Accs: 0.99834 | Valid Accs: 0.98914 | Time: 44.24 seconds\n",
      "Epoch: 13 | Train Loss: 0.00142 | Valid Loss: 0.03894 | Train Accs: 0.99929 | Valid Accs: 0.99265 | Time: 44.01 seconds\n",
      "Epoch: 14 | Train Loss: 0.00420 | Valid Loss: 0.02865 | Train Accs: 0.99953 | Valid Accs: 0.99540 | Time: 43.94 seconds\n",
      "Epoch: 15 | Train Loss: 0.00035 | Valid Loss: 0.02995 | Train Accs: 1.00000 | Valid Accs: 0.99449 | Time: 44.18 seconds\n",
      "\n",
      "Early Stopping at Epoch 16\n",
      "\n",
      "**************************************************\n",
      "\n",
      "Best Validation Loss at Epoch 10\n",
      "\n",
      "**************************************************\n",
      "\n",
      "Best Validation Accs at Epoch 10\n",
      "\n",
      "**************************************************\n",
      "\n",
      "Time Taken [16 Epochs] : 11.78 minutes\n",
      "\n",
      "**************************************************\n",
      "\n"
     ]
    },
    {
     "data": {
      "image/png": "[encoded data removed]",
      "text/plain": [
       "<Figure size 576x432 with 2 Axes>"
      ]
     },
     "metadata": {
      "needs_background": "light"
     },
     "output_type": "display_data"
    }
   ],
   "source": [
    "fold = 1\n",
    "BLEs, BAEs = [], []\n",
    "\n",
    "for tr_idx, va_idx in KFold(n_splits=cfg.n_splits, random_state=SEED, shuffle=True).split(images):\n",
    "    tr_images, va_images, tr_labels, va_labels = images[tr_idx], images[va_idx], labels[tr_idx], labels[va_idx]\n",
    "\n",
    "    tr_data_setup = DS(tr_images, tr_labels.reshape(-1, 1), cfg.transform)\n",
    "    va_data_setup = DS(va_images, va_labels.reshape(-1, 1), cfg.transform)\n",
    "\n",
    "    dataloaders = {\n",
    "        \"train\" : DL(tr_data_setup, batch_size=cfg.batch_size, shuffle=True, generator=torch.manual_seed(cfg.seed)),\n",
    "        \"valid\" : DL(va_data_setup, batch_size=cfg.batch_size, shuffle=False),\n",
    "    }\n",
    "\n",
    "    cfg = CFG(epochs=20, lr=1e-3, wd=0.0, batch_size=64, steps_per_epoch=len(dataloaders[\"train\"]))\n",
    "\n",
    "    torch.manual_seed(cfg.seed)\n",
    "    model = Model().to(cfg.device)\n",
    "    optimizer = optim.Adam([p for p in model.parameters() if p.requires_grad], lr=cfg.lr, weight_decay=cfg.wd)\n",
    "    scheduler = optim.lr_scheduler.OneCycleLR(optimizer=optimizer, \n",
    "                                              max_lr=cfg.max_lr, \n",
    "                                              epochs=cfg.epochs, \n",
    "                                              steps_per_epoch=cfg.steps_per_epoch,\n",
    "                                              pct_start=cfg.pct_start, \n",
    "                                              div_factor=cfg.div_factor, \n",
    "                                              final_div_factor=cfg.final_div_factor)\n",
    "    # scheduler = None\n",
    "\n",
    "    L, A, LRs, BLE, BAE, name = fit(model=model, \n",
    "                                    optimizer=optimizer, \n",
    "                                    scheduler=scheduler, \n",
    "                                    epochs=cfg.epochs, \n",
    "                                    early_stopping_patience=cfg.early_stopping, \n",
    "                                    dataloaders=dataloaders, \n",
    "                                    device=cfg.device,\n",
    "                                    save_path=cfg.save_path,\n",
    "                                    fold = fold,\n",
    "                                    verbose=True)\n",
    "\n",
    "    breaker()\n",
    "    show_graphs(L, A)\n",
    "    \n",
    "    BLEs.append(BLE)\n",
    "    BAEs.append(BAE)\n",
    "\n",
    "    fold += 1"
   ]
  },
  {
   "cell_type": "markdown",
   "id": "3bae47f9",
   "metadata": {
    "papermill": {
     "duration": 0.050638,
     "end_time": "2022-04-13T10:06:48.399513",
     "exception": false,
     "start_time": "2022-04-13T10:06:48.348875",
     "status": "completed"
    },
    "tags": []
   },
   "source": [
    "### **Predictions**"
   ]
  },
  {
   "cell_type": "code",
   "execution_count": 10,
   "id": "21e511a0",
   "metadata": {
    "execution": {
     "iopub.execute_input": "2022-04-13T10:06:48.499610Z",
     "iopub.status.busy": "2022-04-13T10:06:48.498755Z",
     "iopub.status.idle": "2022-04-13T10:06:53.620538Z",
     "shell.execute_reply": "2022-04-13T10:06:53.621382Z",
     "shell.execute_reply.started": "2022-04-09T01:41:41.028783Z"
    },
    "papermill": {
     "duration": 5.17337,
     "end_time": "2022-04-13T10:06:53.621613",
     "exception": false,
     "start_time": "2022-04-13T10:06:48.448243",
     "status": "completed"
    },
    "tags": []
   },
   "outputs": [
    {
     "name": "stdout",
     "output_type": "stream",
     "text": [
      "Loaded pretrained weights for efficientnet-b2\n",
      "\n",
      "**************************************************\n",
      "\n",
      "Best Fold : 4\n",
      "\n",
      "**************************************************\n",
      "\n",
      "Accuracy  : 0.75160\n",
      "ROC-AUC   : 0.85202\n",
      "Precision : [0.34188034 0.9974359 ]\n",
      "Recall    : [0.98765432 0.71639042]\n",
      "F-Score   : [0.50793651 0.83386924]\n",
      "\n",
      "**************************************************\n",
      "\n"
     ]
    }
   ],
   "source": [
    "test_images = np.load(f\"../input/chest-x-rays-images/test_images_{SIZE}.npy\")\n",
    "test_labels = np.load(f\"../input/chest-x-rays-images/test_targets_{SIZE}.npy\")\n",
    "\n",
    "ts_data_setup = DS(test_images, None, cfg.transform)\n",
    "ts_data = DL(ts_data_setup, batch_size=cfg.batch_size, shuffle=False)\n",
    "\n",
    "best_fold = BLEs.index(min(BLEs)) + 1\n",
    "model_path = f\"saves/state_fold_{best_fold}.pt\"\n",
    "y_pred = predict(model=Model().to(cfg.device), dataloader=ts_data, path=model_path, device=cfg.device)\n",
    "\n",
    "accuracy, auc, precision, recall, f_score = get_scores(test_labels, y_pred)\n",
    "\n",
    "breaker()\n",
    "print(f\"Best Fold : {best_fold}\")\n",
    "breaker()\n",
    "print_scores(accuracy, auc, precision, recall, f_score)\n",
    "breaker()"
   ]
  }
 ],
 "metadata": {
  "kernelspec": {
   "display_name": "Python 3",
   "language": "python",
   "name": "python3"
  },
  "language_info": {
   "codemirror_mode": {
    "name": "ipython",
    "version": 3
   },
   "file_extension": ".py",
   "mimetype": "text/x-python",
   "name": "python",
   "nbconvert_exporter": "python",
   "pygments_lexer": "ipython3",
   "version": "3.7.12"
  },
  "papermill": {
   "default_parameters": {},
   "duration": 3475.135275,
   "end_time": "2022-04-13T10:06:55.192346",
   "environment_variables": {},
   "exception": null,
   "input_path": "__notebook__.ipynb",
   "output_path": "__notebook__.ipynb",
   "parameters": {},
   "start_time": "2022-04-13T09:09:00.057071",
   "version": "2.3.3"
  },
  "widgets": {
   "application/vnd.jupyter.widget-state+json": {
    "state": {
     "37c5ce84265a4979b143df10d1f6b8cb": {
      "model_module": "@jupyter-widgets/base",
      "model_module_version": "1.2.0",
      "model_name": "LayoutModel",
      "state": {
       "_model_module": "@jupyter-widgets/base",
       "_model_module_version": "1.2.0",
       "_model_name": "LayoutModel",
       "_view_count": null,
       "_view_module": "@jupyter-widgets/base",
       "_view_module_version": "1.2.0",
       "_view_name": "LayoutView",
       "align_content": null,
       "align_items": null,
       "align_self": null,
       "border": null,
       "bottom": null,
       "display": null,
       "flex": null,
       "flex_flow": null,
       "grid_area": null,
       "grid_auto_columns": null,
       "grid_auto_flow": null,
       "grid_auto_rows": null,
       "grid_column": null,
       "grid_gap": null,
       "grid_row": null,
       "grid_template_areas": null,
       "grid_template_columns": null,
       "grid_template_rows": null,
       "height": null,
       "justify_content": null,
       "justify_items": null,
       "left": null,
       "margin": null,
       "max_height": null,
       "max_width": null,
       "min_height": null,
       "min_width": null,
       "object_fit": null,
       "object_position": null,
       "order": null,
       "overflow": null,
       "overflow_x": null,
       "overflow_y": null,
       "padding": null,
       "right": null,
       "top": null,
       "visibility": null,
       "width": null
      }
     },
     "5910cdeeaea74246a4c5934e299db4c7": {
      "model_module": "@jupyter-widgets/base",
      "model_module_version": "1.2.0",
      "model_name": "LayoutModel",
      "state": {
       "_model_module": "@jupyter-widgets/base",
       "_model_module_version": "1.2.0",
       "_model_name": "LayoutModel",
       "_view_count": null,
       "_view_module": "@jupyter-widgets/base",
       "_view_module_version": "1.2.0",
       "_view_name": "LayoutView",
       "align_content": null,
       "align_items": null,
       "align_self": null,
       "border": null,
       "bottom": null,
       "display": null,
       "flex": null,
       "flex_flow": null,
       "grid_area": null,
       "grid_auto_columns": null,
       "grid_auto_flow": null,
       "grid_auto_rows": null,
       "grid_column": null,
       "grid_gap": null,
       "grid_row": null,
       "grid_template_areas": null,
       "grid_template_columns": null,
       "grid_template_rows": null,
       "height": null,
       "justify_content": null,
       "justify_items": null,
       "left": null,
       "margin": null,
       "max_height": null,
       "max_width": null,
       "min_height": null,
       "min_width": null,
       "object_fit": null,
       "object_position": null,
       "order": null,
       "overflow": null,
       "overflow_x": null,
       "overflow_y": null,
       "padding": null,
       "right": null,
       "top": null,
       "visibility": null,
       "width": null
      }
     },
     "6afe629d9d384d8da132e9e1351a66d3": {
      "model_module": "@jupyter-widgets/base",
      "model_module_version": "1.2.0",
      "model_name": "LayoutModel",
      "state": {
       "_model_module": "@jupyter-widgets/base",
       "_model_module_version": "1.2.0",
       "_model_name": "LayoutModel",
       "_view_count": null,
       "_view_module": "@jupyter-widgets/base",
       "_view_module_version": "1.2.0",
       "_view_name": "LayoutView",
       "align_content": null,
       "align_items": null,
       "align_self": null,
       "border": null,
       "bottom": null,
       "display": null,
       "flex": null,
       "flex_flow": null,
       "grid_area": null,
       "grid_auto_columns": null,
       "grid_auto_flow": null,
       "grid_auto_rows": null,
       "grid_column": null,
       "grid_gap": null,
       "grid_row": null,
       "grid_template_areas": null,
       "grid_template_columns": null,
       "grid_template_rows": null,
       "height": null,
       "justify_content": null,
       "justify_items": null,
       "left": null,
       "margin": null,
       "max_height": null,
       "max_width": null,
       "min_height": null,
       "min_width": null,
       "object_fit": null,
       "object_position": null,
       "order": null,
       "overflow": null,
       "overflow_x": null,
       "overflow_y": null,
       "padding": null,
       "right": null,
       "top": null,
       "visibility": null,
       "width": null
      }
     },
     "775c3b24ac95458cba7a7dcb70bc9ba0": {
      "model_module": "@jupyter-widgets/controls",
      "model_module_version": "1.5.0",
      "model_name": "ProgressStyleModel",
      "state": {
       "_model_module": "@jupyter-widgets/controls",
       "_model_module_version": "1.5.0",
       "_model_name": "ProgressStyleModel",
       "_view_count": null,
       "_view_module": "@jupyter-widgets/base",
       "_view_module_version": "1.2.0",
       "_view_name": "StyleView",
       "bar_color": null,
       "description_width": ""
      }
     },
     "7db5784e2ed54e418c6d3efa6cae116a": {
      "model_module": "@jupyter-widgets/controls",
      "model_module_version": "1.5.0",
      "model_name": "DescriptionStyleModel",
      "state": {
       "_model_module": "@jupyter-widgets/controls",
       "_model_module_version": "1.5.0",
       "_model_name": "DescriptionStyleModel",
       "_view_count": null,
       "_view_module": "@jupyter-widgets/base",
       "_view_module_version": "1.2.0",
       "_view_name": "StyleView",
       "description_width": ""
      }
     },
     "8c0c3b4f33e74491b618b48962aa0cce": {
      "model_module": "@jupyter-widgets/controls",
      "model_module_version": "1.5.0",
      "model_name": "DescriptionStyleModel",
      "state": {
       "_model_module": "@jupyter-widgets/controls",
       "_model_module_version": "1.5.0",
       "_model_name": "DescriptionStyleModel",
       "_view_count": null,
       "_view_module": "@jupyter-widgets/base",
       "_view_module_version": "1.2.0",
       "_view_name": "StyleView",
       "description_width": ""
      }
     },
     "924442c479c6409b9d80d01ee03e2e87": {
      "model_module": "@jupyter-widgets/controls",
      "model_module_version": "1.5.0",
      "model_name": "HTMLModel",
      "state": {
       "_dom_classes": [],
       "_model_module": "@jupyter-widgets/controls",
       "_model_module_version": "1.5.0",
       "_model_name": "HTMLModel",
       "_view_count": null,
       "_view_module": "@jupyter-widgets/controls",
       "_view_module_version": "1.5.0",
       "_view_name": "HTMLView",
       "description": "",
       "description_tooltip": null,
       "layout": "IPY_MODEL_aa2f6402b0324e0bace158a1cda3c6a4",
       "placeholder": "​",
       "style": "IPY_MODEL_8c0c3b4f33e74491b618b48962aa0cce",
       "value": "100%"
      }
     },
     "aa2f6402b0324e0bace158a1cda3c6a4": {
      "model_module": "@jupyter-widgets/base",
      "model_module_version": "1.2.0",
      "model_name": "LayoutModel",
      "state": {
       "_model_module": "@jupyter-widgets/base",
       "_model_module_version": "1.2.0",
       "_model_name": "LayoutModel",
       "_view_count": null,
       "_view_module": "@jupyter-widgets/base",
       "_view_module_version": "1.2.0",
       "_view_name": "LayoutView",
       "align_content": null,
       "align_items": null,
       "align_self": null,
       "border": null,
       "bottom": null,
       "display": null,
       "flex": null,
       "flex_flow": null,
       "grid_area": null,
       "grid_auto_columns": null,
       "grid_auto_flow": null,
       "grid_auto_rows": null,
       "grid_column": null,
       "grid_gap": null,
       "grid_row": null,
       "grid_template_areas": null,
       "grid_template_columns": null,
       "grid_template_rows": null,
       "height": null,
       "justify_content": null,
       "justify_items": null,
       "left": null,
       "margin": null,
       "max_height": null,
       "max_width": null,
       "min_height": null,
       "min_width": null,
       "object_fit": null,
       "object_position": null,
       "order": null,
       "overflow": null,
       "overflow_x": null,
       "overflow_y": null,
       "padding": null,
       "right": null,
       "top": null,
       "visibility": null,
       "width": null
      }
     },
     "caf4fea4956f47ad99b05ddd7ec7c5b5": {
      "model_module": "@jupyter-widgets/controls",
      "model_module_version": "1.5.0",
      "model_name": "HBoxModel",
      "state": {
       "_dom_classes": [],
       "_model_module": "@jupyter-widgets/controls",
       "_model_module_version": "1.5.0",
       "_model_name": "HBoxModel",
       "_view_count": null,
       "_view_module": "@jupyter-widgets/controls",
       "_view_module_version": "1.5.0",
       "_view_name": "HBoxView",
       "box_style": "",
       "children": [
        "IPY_MODEL_924442c479c6409b9d80d01ee03e2e87",
        "IPY_MODEL_e6479a91e05f447bac6789de137df617",
        "IPY_MODEL_da3e36aa9e1d4a7c815c5e2d4702f3ef"
       ],
       "layout": "IPY_MODEL_6afe629d9d384d8da132e9e1351a66d3"
      }
     },
     "da3e36aa9e1d4a7c815c5e2d4702f3ef": {
      "model_module": "@jupyter-widgets/controls",
      "model_module_version": "1.5.0",
      "model_name": "HTMLModel",
      "state": {
       "_dom_classes": [],
       "_model_module": "@jupyter-widgets/controls",
       "_model_module_version": "1.5.0",
       "_model_name": "HTMLModel",
       "_view_count": null,
       "_view_module": "@jupyter-widgets/controls",
       "_view_module_version": "1.5.0",
       "_view_name": "HTMLView",
       "description": "",
       "description_tooltip": null,
       "layout": "IPY_MODEL_5910cdeeaea74246a4c5934e299db4c7",
       "placeholder": "​",
       "style": "IPY_MODEL_7db5784e2ed54e418c6d3efa6cae116a",
       "value": " 35.1M/35.1M [00:00&lt;00:00, 109MB/s]"
      }
     },
     "e6479a91e05f447bac6789de137df617": {
      "model_module": "@jupyter-widgets/controls",
      "model_module_version": "1.5.0",
      "model_name": "FloatProgressModel",
      "state": {
       "_dom_classes": [],
       "_model_module": "@jupyter-widgets/controls",
       "_model_module_version": "1.5.0",
       "_model_name": "FloatProgressModel",
       "_view_count": null,
       "_view_module": "@jupyter-widgets/controls",
       "_view_module_version": "1.5.0",
       "_view_name": "ProgressView",
       "bar_style": "success",
       "description": "",
       "description_tooltip": null,
       "layout": "IPY_MODEL_37c5ce84265a4979b143df10d1f6b8cb",
       "max": 36804509.0,
       "min": 0.0,
       "orientation": "horizontal",
       "style": "IPY_MODEL_775c3b24ac95458cba7a7dcb70bc9ba0",
       "value": 36804509.0
      }
     }
    },
    "version_major": 2,
    "version_minor": 0
   }
  }
 },
 "nbformat": 4,
 "nbformat_minor": 5
}
