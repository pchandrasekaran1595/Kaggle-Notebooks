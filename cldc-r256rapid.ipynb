{
 "cells": [
  {
   "cell_type": "markdown",
   "id": "4b6f09cd",
   "metadata": {
    "papermill": {
     "duration": 0.015919,
     "end_time": "2022-03-22T13:28:13.667127",
     "exception": false,
     "start_time": "2022-03-22T13:28:13.651208",
     "status": "completed"
    },
    "tags": []
   },
   "source": [
    "### **Library Imports**"
   ]
  },
  {
   "cell_type": "code",
   "execution_count": 1,
   "id": "a3446d4c",
   "metadata": {
    "execution": {
     "iopub.execute_input": "2022-03-22T13:28:13.710527Z",
     "iopub.status.busy": "2022-03-22T13:28:13.709843Z",
     "iopub.status.idle": "2022-03-22T13:28:16.397401Z",
     "shell.execute_reply": "2022-03-22T13:28:16.396785Z",
     "shell.execute_reply.started": "2022-03-22T13:23:36.109879Z"
    },
    "papermill": {
     "duration": 2.714882,
     "end_time": "2022-03-22T13:28:16.397557",
     "exception": false,
     "start_time": "2022-03-22T13:28:13.682675",
     "status": "completed"
    },
    "tags": []
   },
   "outputs": [],
   "source": [
    "import os\n",
    "import re\n",
    "import cv2\n",
    "import torch\n",
    "import pickle\n",
    "import numpy as np\n",
    "import pandas as pd\n",
    "import matplotlib.pyplot as plt\n",
    "\n",
    "from time import time\n",
    "from torch import nn, optim\n",
    "from torch.utils.data import Dataset\n",
    "from torch.utils.data import DataLoader as DL\n",
    "from torch.nn.utils import weight_norm as WN\n",
    "from torchvision import models, transforms\n",
    "\n",
    "from sklearn.model_selection import StratifiedKFold\n",
    "from sklearn.preprocessing import StandardScaler, LabelEncoder"
   ]
  },
  {
   "cell_type": "markdown",
   "id": "206239f6",
   "metadata": {
    "papermill": {
     "duration": 0.014912,
     "end_time": "2022-03-22T13:28:16.427007",
     "exception": false,
     "start_time": "2022-03-22T13:28:16.412095",
     "status": "completed"
    },
    "tags": []
   },
   "source": [
    "### **Utilities and Constants**"
   ]
  },
  {
   "cell_type": "code",
   "execution_count": 2,
   "id": "c27b32d1",
   "metadata": {
    "execution": {
     "iopub.execute_input": "2022-03-22T13:28:16.515219Z",
     "iopub.status.busy": "2022-03-22T13:28:16.514311Z",
     "iopub.status.idle": "2022-03-22T13:28:16.516439Z",
     "shell.execute_reply": "2022-03-22T13:28:16.516805Z",
     "shell.execute_reply.started": "2022-03-22T13:23:36.837402Z"
    },
    "papermill": {
     "duration": 0.075844,
     "end_time": "2022-03-22T13:28:16.516938",
     "exception": false,
     "start_time": "2022-03-22T13:28:16.441094",
     "status": "completed"
    },
    "tags": []
   },
   "outputs": [],
   "source": [
    "le = LabelEncoder()\n",
    "\n",
    "SEED = 42\n",
    "SIZE = 256\n",
    "DEVICE = torch.device(\"cuda\" if torch.cuda.is_available() else \"cpu\")\n",
    "\n",
    "TRANSFORM_FINAL = transforms.Compose([transforms.ToTensor(), transforms.Normalize([0.485, 0.456, 0.406], [0.229, 0.224, 0.225])])\n",
    "TRANSFORM = transforms.Compose([transforms.ToTensor(), transforms.Normalize([0.43032, 0.49672, 0.31341], [0.20665, 0.21170, 0.18763])])\n",
    "\n",
    "SAVE_PATH = \"saves\"\n",
    "if not os.path.exists(SAVE_PATH):\n",
    "    os.makedirs(SAVE_PATH)"
   ]
  },
  {
   "cell_type": "code",
   "execution_count": 3,
   "id": "5d584ef3",
   "metadata": {
    "execution": {
     "iopub.execute_input": "2022-03-22T13:28:16.557842Z",
     "iopub.status.busy": "2022-03-22T13:28:16.557062Z",
     "iopub.status.idle": "2022-03-22T13:28:16.559045Z",
     "shell.execute_reply": "2022-03-22T13:28:16.559478Z",
     "shell.execute_reply.started": "2022-03-22T13:23:39.445919Z"
    },
    "papermill": {
     "duration": 0.028583,
     "end_time": "2022-03-22T13:28:16.559602",
     "exception": false,
     "start_time": "2022-03-22T13:28:16.531019",
     "status": "completed"
    },
    "tags": []
   },
   "outputs": [],
   "source": [
    "def breaker(num: int = 50, char: str = \"*\") -> None:\n",
    "    print(\"\\n\" + num*char + \"\\n\")\n",
    "\n",
    "\n",
    "def show_graphs(L: list, A: list) -> None:\n",
    "    TL, VL, TA, VA = [], [], [], []\n",
    "    for i in range(len(L)):\n",
    "        TL.append(L[i][\"train\"])\n",
    "        VL.append(L[i][\"valid\"])\n",
    "        TA.append(A[i][\"train\"])\n",
    "        VA.append(A[i][\"valid\"])\n",
    "    x_Axis = np.arange(1, len(TL) + 1)\n",
    "    plt.figure(figsize=(8, 6))\n",
    "    plt.subplot(1, 2, 1)\n",
    "    plt.plot(x_Axis, TL, \"r\", label=\"Train\")\n",
    "    plt.plot(x_Axis, VL, \"b\", label=\"Valid\")\n",
    "    plt.legend()\n",
    "    plt.grid()\n",
    "    plt.title(\"Loss Graph\")\n",
    "    plt.subplot(1, 2, 2)\n",
    "    plt.plot(x_Axis, TA, \"r\", label=\"Train\")\n",
    "    plt.plot(x_Axis, VA, \"b\", label=\"Valid\")\n",
    "    plt.legend()\n",
    "    plt.grid()\n",
    "    plt.title(\"Accuracy Graph\")\n",
    "    plt.show()\n",
    "\n",
    "    \n",
    "# def load_image(path: str, size: int, make_rgb: bool=False) -> np.ndarray:\n",
    "#     image = cv2.imread(path, cv2.IMREAD_COLOR).astype(\"uint8\")\n",
    "#     if make_rgb:\n",
    "#         image = cv2.cvtColor(src=image, code=cv2.COLOR_BGR2RGB)\n",
    "#     image = cv2.resize(src=image, dsize=(size, size), interpolation=cv2.INTER_AREA)\n",
    "#     return image\n",
    "\n",
    "\n",
    "def load_image(path: str, size: int) -> np.ndarray:\n",
    "    image = cv2.imread(path, cv2.IMREAD_COLOR)\n",
    "    image = cv2.cvtColor(src=image, code=cv2.COLOR_BGR2RGB)\n",
    "    image = cv2.resize(src=image, dsize=(size, size), interpolation=cv2.INTER_AREA)\n",
    "    return image\n",
    "\n",
    "\n",
    "def show_image(image: np.ndarray, cmap: str = \"gnuplot2\") -> None:\n",
    "    plt.figure()\n",
    "    plt.imshow(image, cmap=cmap)\n",
    "    plt.axis(\"off\")\n",
    "    plt.show()"
   ]
  },
  {
   "cell_type": "markdown",
   "id": "3e337940",
   "metadata": {
    "papermill": {
     "duration": 0.014244,
     "end_time": "2022-03-22T13:28:16.588224",
     "exception": false,
     "start_time": "2022-03-22T13:28:16.573980",
     "status": "completed"
    },
    "tags": []
   },
   "source": [
    "### **Dataset Template**"
   ]
  },
  {
   "cell_type": "code",
   "execution_count": 4,
   "id": "f287a883",
   "metadata": {
    "execution": {
     "iopub.execute_input": "2022-03-22T13:28:16.619625Z",
     "iopub.status.busy": "2022-03-22T13:28:16.618817Z",
     "iopub.status.idle": "2022-03-22T13:28:16.627830Z",
     "shell.execute_reply": "2022-03-22T13:28:16.627437Z",
     "shell.execute_reply.started": "2022-03-22T13:23:40.264368Z"
    },
    "papermill": {
     "duration": 0.025672,
     "end_time": "2022-03-22T13:28:16.627933",
     "exception": false,
     "start_time": "2022-03-22T13:28:16.602261",
     "status": "completed"
    },
    "tags": []
   },
   "outputs": [],
   "source": [
    "class DS(Dataset):\n",
    "    def __init__(self, base_path: str, filenames: np.ndarray, labels: np.ndarray = None, mode: str = \"train\", transform = None):\n",
    "\n",
    "        assert re.match(r\"^train$\", mode, re.IGNORECASE) or re.match(r\"^valid$\", mode, re.IGNORECASE) or re.match(r\"^test$\", mode, re.IGNORECASE), \"Invalid Mode\"\n",
    "        \n",
    "        self.mode = mode\n",
    "        self.base_path = base_path\n",
    "        self.filenames = filenames\n",
    "        self.transform = transform\n",
    "\n",
    "        if re.match(r\"^train$\", mode, re.IGNORECASE) or re.match(r\"^valid$\", mode, re.IGNORECASE):\n",
    "            self.labels = labels\n",
    "\n",
    "    def __len__(self):\n",
    "        return self.filenames.shape[0]\n",
    "\n",
    "    def __getitem__(self, idx):\n",
    "        image = load_image(os.path.join(self.base_path, self.filenames[idx]), SIZE)\n",
    "        if re.match(r\"^train$\", self.mode, re.IGNORECASE) or re.match(r\"^valid$\", self.mode, re.IGNORECASE):\n",
    "            return self.transform(image), torch.LongTensor(self.labels[idx])\n",
    "        else:\n",
    "            return self.transform(image)"
   ]
  },
  {
   "cell_type": "markdown",
   "id": "90600b67",
   "metadata": {
    "papermill": {
     "duration": 0.014009,
     "end_time": "2022-03-22T13:28:16.656223",
     "exception": false,
     "start_time": "2022-03-22T13:28:16.642214",
     "status": "completed"
    },
    "tags": []
   },
   "source": [
    "### **Model**"
   ]
  },
  {
   "cell_type": "code",
   "execution_count": 5,
   "id": "ad391d01",
   "metadata": {
    "execution": {
     "iopub.execute_input": "2022-03-22T13:28:16.816619Z",
     "iopub.status.busy": "2022-03-22T13:28:16.807426Z",
     "iopub.status.idle": "2022-03-22T13:28:16.818807Z",
     "shell.execute_reply": "2022-03-22T13:28:16.819210Z",
     "shell.execute_reply.started": "2022-03-22T13:27:31.073374Z"
    },
    "papermill": {
     "duration": 0.149121,
     "end_time": "2022-03-22T13:28:16.819363",
     "exception": false,
     "start_time": "2022-03-22T13:28:16.670242",
     "status": "completed"
    },
    "tags": []
   },
   "outputs": [],
   "source": [
    "class CNN(nn.Module):\n",
    "    def __init__(self, mode: str, model_name: str):\n",
    "        \n",
    "        super(CNN, self).__init__()\n",
    "        \n",
    "        self.model_name = model_name\n",
    "        self.mode = mode\n",
    "        \n",
    "        if re.match(r\"^vgg$\", self.model_name, re.IGNORECASE):\n",
    "            if re.match(r\"^full$\", self.mode, re.IGNORECASE):\n",
    "                self.model = models.vgg16_bn(pretrained=False, progress=True)\n",
    "                self.model.classifier[-1] = nn.Linear(in_features=self.model.classifier[-1].in_features, out_features=10)\n",
    "            elif re.match(r\"^semi$\", self.mode, re.IGNORECASE) or re.match(r\"^final$\", self.mode, re.IGNORECASE):\n",
    "                self.model = models.vgg16_bn(pretrained=True, progress=True)\n",
    "                self.freeze()\n",
    "                self.model.classifier[-1] = nn.Linear(in_features=self.model.classifier[-1].in_features, out_features=10)\n",
    "            \n",
    "        elif re.match(r\"^resnet$\", self.model_name, re.IGNORECASE):\n",
    "            if re.match(r\"^full$\", self.mode, re.IGNORECASE):\n",
    "                self.model = models.resnet50(pretrained=False, progress=True)\n",
    "                self.model.fc = nn.Linear(in_features=self.model.fc.in_features, out_features=10)\n",
    "            elif re.match(r\"^semi$\", self.mode, re.IGNORECASE) or re.match(r\"^final$\", self.mode, re.IGNORECASE):\n",
    "                self.model = models.resnet50(pretrained=True, progress=True)\n",
    "                self.freeze()\n",
    "                self.model.fc = nn.Linear(in_features=self.model.fc.in_features, out_features=10)\n",
    "        \n",
    "        elif re.match(r\"^densenet$\", self.model_name, re.IGNORECASE):\n",
    "            if re.match(r\"^full$\", self.mode, re.IGNORECASE):\n",
    "                self.model = models.densenet169(pretrained=False, progress=True)\n",
    "                self.model.classifier = nn.Linear(in_features=self.model.classifier.in_features, out_features=10)\n",
    "            elif re.match(r\"^semi$\", self.mode, re.IGNORECASE) or re.match(r\"^final$\", self.mode, re.IGNORECASE):\n",
    "                self.model = models.densenet169(pretrained=True, progress=True)\n",
    "                self.freeze()\n",
    "                self.model.classifier = nn.Linear(in_features=self.model.classifier.in_features, out_features=10)\n",
    "        \n",
    "        elif re.match(r\"^mobilenet$\", self.model_name, re.IGNORECASE):\n",
    "            if re.match(r\"^full$\", self.mode, re.IGNORECASE):\n",
    "                self.model = models.mobilenet_v3_small(pretrained=False, progress=True)\n",
    "                self.model.classifier[-1] = nn.Linear(in_features=self.model.classifier[-1].in_features, out_features=10)\n",
    "            elif re.match(r\"^semi$\", self.mode, re.IGNORECASE) or re.match(r\"^final$\", self.mode, re.IGNORECASE):\n",
    "                self.model = models.mobilenet_v3_small(pretrained=True, progress=True)\n",
    "                self.freeze()\n",
    "                self.model.classifier[-1] = nn.Linear(in_features=self.model.classifier[-1].in_features, out_features=10)\n",
    "\n",
    "    def freeze(self):\n",
    "        for params in self.parameters():\n",
    "            params.requires_grad = False\n",
    "\n",
    "        if re.match(r\"^vgg$\", self.model_name, re.IGNORECASE):\n",
    "            if re.match(r\"^semi$\", self.mode, re.IGNORECASE):\n",
    "                for names, params in self.named_parameters():\n",
    "                    if re.match(r\".*features.3[4-9].*\", names, re.IGNORECASE) or re.match(r\".*features.4[0-9].*\", names, re.IGNORECASE) or re.match(r\".*classifier.*\", names, re.IGNORECASE):\n",
    "                        params.requires_grad = True\n",
    "        \n",
    "        elif re.match(r\"^resnet$\", self.model_name, re.IGNORECASE):\n",
    "            if re.match(r\"^semi$\", self.mode, re.IGNORECASE):\n",
    "                for names, params in self.named_parameters():\n",
    "                    if re.match(r\".*layer4.*\", names, re.IGNORECASE):\n",
    "                        params.requires_grad = True\n",
    "        \n",
    "        elif re.match(r\"^densenet$\", self.model_name, re.IGNORECASE):\n",
    "            if re.match(r\"^semi$\", self.mode, re.IGNORECASE):\n",
    "                for names, params in self.named_parameters():\n",
    "                    if re.match(r\".*denseblock4.*\", names, re.IGNORECASE) or re.match(r\".*norm5.*\", names, re.IGNORECASE):\n",
    "                        params.requires_grad = True\n",
    "        \n",
    "        elif re.match(r\"^mobilenet$\", self.model_name, re.IGNORECASE):\n",
    "            if re.match(r\"^semi$\", self.mode, re.IGNORECASE):\n",
    "                for names, params in self.named_parameters():\n",
    "                    if re.match(r\".*features.9.*\", names, re.IGNORECASE) or re.match(r\".*features.1[0-2].*\", names, re.IGNORECASE) or re.match(r\".*classifier.*\", names, re.IGNORECASE):\n",
    "                        params.requires_grad = True\n",
    "    \n",
    "    def get_optimizer(self, lr=1e-3, wd=0.0):\n",
    "        params = [p for p in self.parameters() if p.requires_grad]\n",
    "        return optim.Adam(params, lr=lr, weight_decay=wd)\n",
    "\n",
    "    def get_plateau_scheduler(self, optimizer=None, patience=5, eps=1e-8):\n",
    "        return optim.lr_scheduler.ReduceLROnPlateau(optimizer=optimizer, patience=patience, eps=eps)\n",
    "    \n",
    "    def forward(self, x):\n",
    "        return nn.LogSoftmax(dim=1)(self.model(x))"
   ]
  },
  {
   "cell_type": "markdown",
   "id": "824cdc50",
   "metadata": {
    "papermill": {
     "duration": 0.014563,
     "end_time": "2022-03-22T13:28:16.848350",
     "exception": false,
     "start_time": "2022-03-22T13:28:16.833787",
     "status": "completed"
    },
    "tags": []
   },
   "source": [
    "### **Fit and Predict Helpers**"
   ]
  },
  {
   "cell_type": "code",
   "execution_count": 6,
   "id": "27105b60",
   "metadata": {
    "execution": {
     "iopub.execute_input": "2022-03-22T13:28:16.896237Z",
     "iopub.status.busy": "2022-03-22T13:28:16.895394Z",
     "iopub.status.idle": "2022-03-22T13:28:16.897894Z",
     "shell.execute_reply": "2022-03-22T13:28:16.897381Z",
     "shell.execute_reply.started": "2022-03-22T13:23:41.716556Z"
    },
    "papermill": {
     "duration": 0.035576,
     "end_time": "2022-03-22T13:28:16.897997",
     "exception": false,
     "start_time": "2022-03-22T13:28:16.862421",
     "status": "completed"
    },
    "tags": []
   },
   "outputs": [],
   "source": [
    "def fit(model=None, optimizer=None, scheduler=None, epochs=None, early_stopping_patience=None, dataloaders=None, verbose=False) -> tuple:\n",
    "    \n",
    "    def get_accuracy(y_pred, y_true):\n",
    "        y_pred = torch.argmax(y_pred, dim=1)\n",
    "        return torch.count_nonzero(y_pred == y_true).item() / len(y_pred)\n",
    "    \n",
    "    if verbose:\n",
    "        breaker()\n",
    "        print(f\"Training ...\")\n",
    "        breaker()\n",
    "\n",
    "    bestLoss, bestAccs = {\"train\" : np.inf, \"valid\" : np.inf}, {\"train\" : 0.0, \"valid\" : 0.0}\n",
    "    Losses, Accuracies = [], []\n",
    "    name = f\"state.pt\"\n",
    "\n",
    "    start_time = time()\n",
    "    for e in range(epochs):\n",
    "        e_st = time()\n",
    "        epochLoss, epochAccs = {\"train\" : 0.0, \"valid\" : 0.0}, {\"train\" : 0.0, \"valid\" : 0.0}\n",
    "\n",
    "        for phase in [\"train\", \"valid\"]:\n",
    "            if phase == \"train\":\n",
    "                model.train()\n",
    "            else:\n",
    "                model.eval()\n",
    "            \n",
    "            lossPerPass, accsPerPass = [], []\n",
    "\n",
    "            for X, y in dataloaders[phase]:\n",
    "                X, y = X.to(DEVICE), y.to(DEVICE).view(-1)\n",
    "\n",
    "                optimizer.zero_grad()\n",
    "                with torch.set_grad_enabled(phase == \"train\"):\n",
    "                    output = model(X)\n",
    "                    loss = torch.nn.NLLLoss()(output, y)\n",
    "                    if phase == \"train\":\n",
    "                        loss.backward()\n",
    "                        optimizer.step()\n",
    "                lossPerPass.append(loss.item())\n",
    "                accsPerPass.append(get_accuracy(output, y))\n",
    "            epochLoss[phase] = np.mean(np.array(lossPerPass))\n",
    "            epochAccs[phase] = np.mean(np.array(accsPerPass))\n",
    "        Losses.append(epochLoss)\n",
    "        Accuracies.append(epochAccs)\n",
    "\n",
    "        if early_stopping_patience:\n",
    "            if epochLoss[\"valid\"] < bestLoss[\"valid\"]:\n",
    "                bestLoss = epochLoss\n",
    "                BLE = e + 1\n",
    "                torch.save({\"model_state_dict\": model.state_dict(),\n",
    "                            \"optim_state_dict\": optimizer.state_dict()},\n",
    "                           os.path.join(SAVE_PATH, name))\n",
    "                early_stopping_step = 0\n",
    "            else:\n",
    "                early_stopping_step += 1\n",
    "                if early_stopping_step > early_stopping_patience:\n",
    "                    print(\"\\nEarly Stopping at Epoch {}\".format(e + 1))\n",
    "                    break\n",
    "        \n",
    "        if epochLoss[\"valid\"] < bestLoss[\"valid\"]:\n",
    "            bestLoss = epochLoss\n",
    "            BLE = e + 1\n",
    "            torch.save({\"model_state_dict\" : model.state_dict(),\n",
    "                        \"optim_state_dict\" : optimizer.state_dict()},\n",
    "                        os.path.join(SAVE_PATH, name))\n",
    "        \n",
    "        if epochAccs[\"valid\"] > bestAccs[\"valid\"]:\n",
    "            bestAccs = epochAccs\n",
    "            BAE = e + 1\n",
    "        \n",
    "        if scheduler:\n",
    "            scheduler.step(epochLoss[\"valid\"])\n",
    "        \n",
    "        if verbose:\n",
    "            print(\"Epoch: {} | Train Loss: {:.5f} | Valid Loss: {:.5f} |\\\n",
    "Train Accs: {:.5f} | Valid Accs: {:.5f} | Time: {:.2f} seconds\".format(e+1, \n",
    "                                                                       epochLoss[\"train\"], epochLoss[\"valid\"], \n",
    "                                                                       epochAccs[\"train\"], epochAccs[\"valid\"], \n",
    "                                                                       time()-e_st))\n",
    "\n",
    "    if verbose:                                           \n",
    "        breaker()\n",
    "        print(f\"Best Validation Loss at Epoch {BLE}\")\n",
    "        breaker()\n",
    "        print(f\"Best Validation Accs at Epoch {BAE}\")\n",
    "        breaker()\n",
    "        print(\"Time Taken [{} Epochs] : {:.2f} minutes\".format(len(Losses), (time()-start_time)/60))\n",
    "        breaker()\n",
    "        print(\"Training Completed\")\n",
    "        breaker()\n",
    "\n",
    "    return Losses, Accuracies, BLE, BAE, name\n",
    "\n",
    "\n",
    "# def predict(model=None, dataloader=None, path=None) -> np.ndarray:\n",
    "#     model.load_state_dict(torch.load(path, map_location=DEVICE)[\"model_state_dict\"])\n",
    "#     model.to(DEVICE)    \n",
    "#     model.eval()\n",
    "    \n",
    "#     y_pred = torch.zeros(1, 1).to(DEVICE)\n",
    "    \n",
    "#     for X in dataloader:\n",
    "#         X = X.to(DEVICE)\n",
    "#         with torch.no_grad():\n",
    "#             output = torch.argmax(torch.exp(model(X)), dim=1)\n",
    "#         y_pred = torch.cat((y_pred, output.view(-1, 1)), dim=0)\n",
    "    \n",
    "#     return y_pred[1:].detach().cpu().numpy()"
   ]
  },
  {
   "cell_type": "markdown",
   "id": "433c10bd",
   "metadata": {
    "papermill": {
     "duration": 0.013837,
     "end_time": "2022-03-22T13:28:16.925894",
     "exception": false,
     "start_time": "2022-03-22T13:28:16.912057",
     "status": "completed"
    },
    "tags": []
   },
   "source": [
    "### **Params**"
   ]
  },
  {
   "cell_type": "code",
   "execution_count": 7,
   "id": "52f378db",
   "metadata": {
    "execution": {
     "iopub.execute_input": "2022-03-22T13:28:16.964085Z",
     "iopub.status.busy": "2022-03-22T13:28:16.963120Z",
     "iopub.status.idle": "2022-03-22T13:28:16.966702Z",
     "shell.execute_reply": "2022-03-22T13:28:16.966260Z",
     "shell.execute_reply.started": "2022-03-22T13:26:39.718434Z"
    },
    "papermill": {
     "duration": 0.02699,
     "end_time": "2022-03-22T13:28:16.966818",
     "exception": false,
     "start_time": "2022-03-22T13:28:16.939828",
     "status": "completed"
    },
    "tags": []
   },
   "outputs": [],
   "source": [
    "DEBUG: bool = True\n",
    "    \n",
    "if DEBUG:\n",
    "    n_splits = 3\n",
    "    epochs = 2\n",
    "    mode = \"semi\"\n",
    "    model_name = \"mobilenet\"\n",
    "else:\n",
    "    n_splits = 25\n",
    "    epochs = 5\n",
    "    mode = \"semi\"\n",
    "    model_name = \"resnet\"\n",
    "\n",
    "batch_size = 128\n",
    "lr = 1e-3\n",
    "wd = 0.0\n",
    "early_stopping = 5\n",
    "patience = None\n",
    "eps = None"
   ]
  },
  {
   "cell_type": "markdown",
   "id": "aa0ead80",
   "metadata": {
    "papermill": {
     "duration": 0.01485,
     "end_time": "2022-03-22T13:28:16.996690",
     "exception": false,
     "start_time": "2022-03-22T13:28:16.981840",
     "status": "completed"
    },
    "tags": []
   },
   "source": [
    "### **Load & Preprocess Data**"
   ]
  },
  {
   "cell_type": "code",
   "execution_count": 8,
   "id": "bf51fd21",
   "metadata": {
    "execution": {
     "iopub.execute_input": "2022-03-22T13:28:17.032571Z",
     "iopub.status.busy": "2022-03-22T13:28:17.031956Z",
     "iopub.status.idle": "2022-03-22T13:28:17.061520Z",
     "shell.execute_reply": "2022-03-22T13:28:17.061044Z",
     "shell.execute_reply.started": "2022-03-22T13:27:37.421841Z"
    },
    "papermill": {
     "duration": 0.050022,
     "end_time": "2022-03-22T13:28:17.061631",
     "exception": false,
     "start_time": "2022-03-22T13:28:17.011609",
     "status": "completed"
    },
    "tags": []
   },
   "outputs": [],
   "source": [
    "start_time = time()\n",
    "\n",
    "train_df = pd.read_csv(\"../input/cassava-leaf-disease-classification/train.csv\")\n",
    "train_df.head()\n",
    "\n",
    "filenames = train_df.iloc[:, 0].copy().values\n",
    "labels = train_df.iloc[:, -1].copy().values"
   ]
  },
  {
   "cell_type": "markdown",
   "id": "9da409c3",
   "metadata": {
    "papermill": {
     "duration": 0.014512,
     "end_time": "2022-03-22T13:28:17.091269",
     "exception": false,
     "start_time": "2022-03-22T13:28:17.076757",
     "status": "completed"
    },
    "tags": []
   },
   "source": [
    "### **Train**"
   ]
  },
  {
   "cell_type": "code",
   "execution_count": 9,
   "id": "d297ebe2",
   "metadata": {
    "execution": {
     "iopub.execute_input": "2022-03-22T13:28:17.129789Z",
     "iopub.status.busy": "2022-03-22T13:28:17.128781Z",
     "iopub.status.idle": "2022-03-22T13:40:29.031824Z",
     "shell.execute_reply": "2022-03-22T13:40:29.032264Z",
     "shell.execute_reply.started": "2022-03-22T13:27:38.026050Z"
    },
    "papermill": {
     "duration": 731.926724,
     "end_time": "2022-03-22T13:40:29.032421",
     "exception": false,
     "start_time": "2022-03-22T13:28:17.105697",
     "status": "completed"
    },
    "tags": []
   },
   "outputs": [
    {
     "name": "stderr",
     "output_type": "stream",
     "text": [
      "Downloading: \"https://download.pytorch.org/models/mobilenet_v3_small-047dcff4.pth\" to /root/.cache/torch/hub/checkpoints/mobilenet_v3_small-047dcff4.pth\n"
     ]
    },
    {
     "data": {
      "application/vnd.jupyter.widget-view+json": {
       "model_id": "555b60e0d4654bea8717f6b53befe78a",
       "version_major": 2,
       "version_minor": 0
      },
      "text/plain": [
       "  0%|          | 0.00/9.83M [00:00<?, ?B/s]"
      ]
     },
     "metadata": {},
     "output_type": "display_data"
    },
    {
     "name": "stdout",
     "output_type": "stream",
     "text": [
      "\n",
      "**************************************************\n",
      "\n",
      "Training ...\n",
      "\n",
      "**************************************************\n",
      "\n",
      "Epoch: 1 | Train Loss: 0.70989 | Valid Loss: 1.19624 |Train Accs: 0.74329 | Valid Accs: 0.70586 | Time: 441.60 seconds\n",
      "Epoch: 2 | Train Loss: 0.50601 | Valid Loss: 0.62411 |Train Accs: 0.81723 | Valid Accs: 0.78932 | Time: 286.27 seconds\n",
      "\n",
      "**************************************************\n",
      "\n",
      "Best Validation Loss at Epoch 2\n",
      "\n",
      "**************************************************\n",
      "\n",
      "Best Validation Accs at Epoch 2\n",
      "\n",
      "**************************************************\n",
      "\n",
      "Time Taken [2 Epochs] : 12.13 minutes\n",
      "\n",
      "**************************************************\n",
      "\n",
      "Training Completed\n",
      "\n",
      "**************************************************\n",
      "\n"
     ]
    },
    {
     "data": {
      "image/png": "[encoded data removed]",
      "text/plain": [
       "<Figure size 576x432 with 2 Axes>"
      ]
     },
     "metadata": {
      "needs_background": "light"
     },
     "output_type": "display_data"
    }
   ],
   "source": [
    "for tr_idx, va_idx in StratifiedKFold(n_splits=n_splits, random_state=SEED, shuffle=True).split(filenames, labels):\n",
    "    break\n",
    "\n",
    "tr_filenames, va_filenames, tr_labels, va_labels = filenames[tr_idx], filenames[va_idx], labels[tr_idx], labels[va_idx]\n",
    "\n",
    "tr_data_setup = DS(\"../input/cassava-leaf-disease-classification/train_images\", tr_filenames, tr_labels.reshape(-1, 1), \"train\", TRANSFORM)\n",
    "va_data_setup = DS(\"../input/cassava-leaf-disease-classification/train_images\", va_filenames, va_labels.reshape(-1, 1), \"valid\", TRANSFORM)\n",
    "\n",
    "dataloaders = {\n",
    "    \"train\" : DL(tr_data_setup, batch_size=batch_size, shuffle=True, generator=torch.manual_seed(SEED)),\n",
    "    \"valid\" : DL(va_data_setup, batch_size=batch_size, shuffle=False),\n",
    "}\n",
    "\n",
    "torch.manual_seed(SEED)\n",
    "model = CNN(mode=mode, model_name=model_name).to(DEVICE)\n",
    "optimizer = model.get_optimizer(lr=lr, wd=wd)\n",
    "scheduler = None\n",
    "if isinstance(patience, int) and isinstance(eps, float):\n",
    "    scheduler = get_plateau_scheduler(optimizer=optimizer, patience=patience, eps=eps)\n",
    "\n",
    "L, A, BLE, BAE, name = fit(model=model, optimizer=optimizer, scheduler=scheduler, \n",
    "                           epochs=epochs, early_stopping_patience=early_stopping, \n",
    "                           dataloaders=dataloaders, verbose=True)\n",
    "\n",
    "show_graphs(L, A)"
   ]
  },
  {
   "cell_type": "markdown",
   "id": "81ca9098",
   "metadata": {
    "papermill": {
     "duration": 0.016896,
     "end_time": "2022-03-22T13:40:29.066991",
     "exception": false,
     "start_time": "2022-03-22T13:40:29.050095",
     "status": "completed"
    },
    "tags": []
   },
   "source": [
    "### **Submission**"
   ]
  },
  {
   "cell_type": "code",
   "execution_count": 10,
   "id": "034b668a",
   "metadata": {
    "execution": {
     "iopub.execute_input": "2022-03-22T13:40:29.105493Z",
     "iopub.status.busy": "2022-03-22T13:40:29.104604Z",
     "iopub.status.idle": "2022-03-22T13:40:29.106781Z",
     "shell.execute_reply": "2022-03-22T13:40:29.107241Z",
     "shell.execute_reply.started": "2022-03-22T13:10:55.383842Z"
    },
    "papermill": {
     "duration": 0.023482,
     "end_time": "2022-03-22T13:40:29.107363",
     "exception": false,
     "start_time": "2022-03-22T13:40:29.083881",
     "status": "completed"
    },
    "tags": []
   },
   "outputs": [],
   "source": [
    "# ss_df = pd.read_csv(\"../input/sorghum-id-fgvc-9/sample_submission.csv\")\n",
    "# ts_filenames = ss_df.filename.copy().values\n",
    "\n",
    "# ts_data_setup = DS(\"../input/sorghum-id-fgvc-9/test\", ts_filenames, None, \"test\", TRANSFORM)\n",
    "# ts_data = DL(ts_data_setup, batch_size=batch_size, shuffle=False)\n",
    "\n",
    "# y_pred = predict(model=model, dataloader=ts_data, path=\"../saves/state.pt\")\n",
    "\n",
    "# ss_df[\"cultivar\"] = y_pred.astype(\"uint8\")\n",
    "# ss_df.to_csv(\"submission.csv\", index=False)"
   ]
  }
 ],
 "metadata": {
  "kernelspec": {
   "display_name": "Python 3",
   "language": "python",
   "name": "python3"
  },
  "language_info": {
   "codemirror_mode": {
    "name": "ipython",
    "version": 3
   },
   "file_extension": ".py",
   "mimetype": "text/x-python",
   "name": "python",
   "nbconvert_exporter": "python",
   "pygments_lexer": "ipython3",
   "version": "3.7.12"
  },
  "papermill": {
   "default_parameters": {},
   "duration": 744.964987,
   "end_time": "2022-03-22T13:40:30.536189",
   "environment_variables": {},
   "exception": null,
   "input_path": "__notebook__.ipynb",
   "output_path": "__notebook__.ipynb",
   "parameters": {},
   "start_time": "2022-03-22T13:28:05.571202",
   "version": "2.3.3"
  },
  "widgets": {
   "application/vnd.jupyter.widget-state+json": {
    "state": {
     "11579c8b69244d63aa0eca61c7007abe": {
      "model_module": "@jupyter-widgets/base",
      "model_module_version": "1.2.0",
      "model_name": "LayoutModel",
      "state": {
       "_model_module": "@jupyter-widgets/base",
       "_model_module_version": "1.2.0",
       "_model_name": "LayoutModel",
       "_view_count": null,
       "_view_module": "@jupyter-widgets/base",
       "_view_module_version": "1.2.0",
       "_view_name": "LayoutView",
       "align_content": null,
       "align_items": null,
       "align_self": null,
       "border": null,
       "bottom": null,
       "display": null,
       "flex": null,
       "flex_flow": null,
       "grid_area": null,
       "grid_auto_columns": null,
       "grid_auto_flow": null,
       "grid_auto_rows": null,
       "grid_column": null,
       "grid_gap": null,
       "grid_row": null,
       "grid_template_areas": null,
       "grid_template_columns": null,
       "grid_template_rows": null,
       "height": null,
       "justify_content": null,
       "justify_items": null,
       "left": null,
       "margin": null,
       "max_height": null,
       "max_width": null,
       "min_height": null,
       "min_width": null,
       "object_fit": null,
       "object_position": null,
       "order": null,
       "overflow": null,
       "overflow_x": null,
       "overflow_y": null,
       "padding": null,
       "right": null,
       "top": null,
       "visibility": null,
       "width": null
      }
     },
     "29724e988879403982ce281ca0c95a70": {
      "model_module": "@jupyter-widgets/controls",
      "model_module_version": "1.5.0",
      "model_name": "ProgressStyleModel",
      "state": {
       "_model_module": "@jupyter-widgets/controls",
       "_model_module_version": "1.5.0",
       "_model_name": "ProgressStyleModel",
       "_view_count": null,
       "_view_module": "@jupyter-widgets/base",
       "_view_module_version": "1.2.0",
       "_view_name": "StyleView",
       "bar_color": null,
       "description_width": ""
      }
     },
     "31b917ebc69e4fb3844a152451657efc": {
      "model_module": "@jupyter-widgets/controls",
      "model_module_version": "1.5.0",
      "model_name": "DescriptionStyleModel",
      "state": {
       "_model_module": "@jupyter-widgets/controls",
       "_model_module_version": "1.5.0",
       "_model_name": "DescriptionStyleModel",
       "_view_count": null,
       "_view_module": "@jupyter-widgets/base",
       "_view_module_version": "1.2.0",
       "_view_name": "StyleView",
       "description_width": ""
      }
     },
     "555b60e0d4654bea8717f6b53befe78a": {
      "model_module": "@jupyter-widgets/controls",
      "model_module_version": "1.5.0",
      "model_name": "HBoxModel",
      "state": {
       "_dom_classes": [],
       "_model_module": "@jupyter-widgets/controls",
       "_model_module_version": "1.5.0",
       "_model_name": "HBoxModel",
       "_view_count": null,
       "_view_module": "@jupyter-widgets/controls",
       "_view_module_version": "1.5.0",
       "_view_name": "HBoxView",
       "box_style": "",
       "children": [
        "IPY_MODEL_b54d6c47182c40738b628b0f9963e114",
        "IPY_MODEL_e7b5e168bbc74e459fa6115fb28dbe3d",
        "IPY_MODEL_580cbd6ec4f04c9ca9f30e26bd0c55fd"
       ],
       "layout": "IPY_MODEL_e3a7609c525445d6b990cc90900b30a1"
      }
     },
     "580cbd6ec4f04c9ca9f30e26bd0c55fd": {
      "model_module": "@jupyter-widgets/controls",
      "model_module_version": "1.5.0",
      "model_name": "HTMLModel",
      "state": {
       "_dom_classes": [],
       "_model_module": "@jupyter-widgets/controls",
       "_model_module_version": "1.5.0",
       "_model_name": "HTMLModel",
       "_view_count": null,
       "_view_module": "@jupyter-widgets/controls",
       "_view_module_version": "1.5.0",
       "_view_name": "HTMLView",
       "description": "",
       "description_tooltip": null,
       "layout": "IPY_MODEL_11579c8b69244d63aa0eca61c7007abe",
       "placeholder": "​",
       "style": "IPY_MODEL_b28a7784a6e44479b3da996b546de479",
       "value": " 9.83M/9.83M [00:00&lt;00:00, 25.9MB/s]"
      }
     },
     "98f963027e93467a8c38d4f9751a4904": {
      "model_module": "@jupyter-widgets/base",
      "model_module_version": "1.2.0",
      "model_name": "LayoutModel",
      "state": {
       "_model_module": "@jupyter-widgets/base",
       "_model_module_version": "1.2.0",
       "_model_name": "LayoutModel",
       "_view_count": null,
       "_view_module": "@jupyter-widgets/base",
       "_view_module_version": "1.2.0",
       "_view_name": "LayoutView",
       "align_content": null,
       "align_items": null,
       "align_self": null,
       "border": null,
       "bottom": null,
       "display": null,
       "flex": null,
       "flex_flow": null,
       "grid_area": null,
       "grid_auto_columns": null,
       "grid_auto_flow": null,
       "grid_auto_rows": null,
       "grid_column": null,
       "grid_gap": null,
       "grid_row": null,
       "grid_template_areas": null,
       "grid_template_columns": null,
       "grid_template_rows": null,
       "height": null,
       "justify_content": null,
       "justify_items": null,
       "left": null,
       "margin": null,
       "max_height": null,
       "max_width": null,
       "min_height": null,
       "min_width": null,
       "object_fit": null,
       "object_position": null,
       "order": null,
       "overflow": null,
       "overflow_x": null,
       "overflow_y": null,
       "padding": null,
       "right": null,
       "top": null,
       "visibility": null,
       "width": null
      }
     },
     "abea14f221f44d5c836cee92a3dbad34": {
      "model_module": "@jupyter-widgets/base",
      "model_module_version": "1.2.0",
      "model_name": "LayoutModel",
      "state": {
       "_model_module": "@jupyter-widgets/base",
       "_model_module_version": "1.2.0",
       "_model_name": "LayoutModel",
       "_view_count": null,
       "_view_module": "@jupyter-widgets/base",
       "_view_module_version": "1.2.0",
       "_view_name": "LayoutView",
       "align_content": null,
       "align_items": null,
       "align_self": null,
       "border": null,
       "bottom": null,
       "display": null,
       "flex": null,
       "flex_flow": null,
       "grid_area": null,
       "grid_auto_columns": null,
       "grid_auto_flow": null,
       "grid_auto_rows": null,
       "grid_column": null,
       "grid_gap": null,
       "grid_row": null,
       "grid_template_areas": null,
       "grid_template_columns": null,
       "grid_template_rows": null,
       "height": null,
       "justify_content": null,
       "justify_items": null,
       "left": null,
       "margin": null,
       "max_height": null,
       "max_width": null,
       "min_height": null,
       "min_width": null,
       "object_fit": null,
       "object_position": null,
       "order": null,
       "overflow": null,
       "overflow_x": null,
       "overflow_y": null,
       "padding": null,
       "right": null,
       "top": null,
       "visibility": null,
       "width": null
      }
     },
     "b28a7784a6e44479b3da996b546de479": {
      "model_module": "@jupyter-widgets/controls",
      "model_module_version": "1.5.0",
      "model_name": "DescriptionStyleModel",
      "state": {
       "_model_module": "@jupyter-widgets/controls",
       "_model_module_version": "1.5.0",
       "_model_name": "DescriptionStyleModel",
       "_view_count": null,
       "_view_module": "@jupyter-widgets/base",
       "_view_module_version": "1.2.0",
       "_view_name": "StyleView",
       "description_width": ""
      }
     },
     "b54d6c47182c40738b628b0f9963e114": {
      "model_module": "@jupyter-widgets/controls",
      "model_module_version": "1.5.0",
      "model_name": "HTMLModel",
      "state": {
       "_dom_classes": [],
       "_model_module": "@jupyter-widgets/controls",
       "_model_module_version": "1.5.0",
       "_model_name": "HTMLModel",
       "_view_count": null,
       "_view_module": "@jupyter-widgets/controls",
       "_view_module_version": "1.5.0",
       "_view_name": "HTMLView",
       "description": "",
       "description_tooltip": null,
       "layout": "IPY_MODEL_abea14f221f44d5c836cee92a3dbad34",
       "placeholder": "​",
       "style": "IPY_MODEL_31b917ebc69e4fb3844a152451657efc",
       "value": "100%"
      }
     },
     "e3a7609c525445d6b990cc90900b30a1": {
      "model_module": "@jupyter-widgets/base",
      "model_module_version": "1.2.0",
      "model_name": "LayoutModel",
      "state": {
       "_model_module": "@jupyter-widgets/base",
       "_model_module_version": "1.2.0",
       "_model_name": "LayoutModel",
       "_view_count": null,
       "_view_module": "@jupyter-widgets/base",
       "_view_module_version": "1.2.0",
       "_view_name": "LayoutView",
       "align_content": null,
       "align_items": null,
       "align_self": null,
       "border": null,
       "bottom": null,
       "display": null,
       "flex": null,
       "flex_flow": null,
       "grid_area": null,
       "grid_auto_columns": null,
       "grid_auto_flow": null,
       "grid_auto_rows": null,
       "grid_column": null,
       "grid_gap": null,
       "grid_row": null,
       "grid_template_areas": null,
       "grid_template_columns": null,
       "grid_template_rows": null,
       "height": null,
       "justify_content": null,
       "justify_items": null,
       "left": null,
       "margin": null,
       "max_height": null,
       "max_width": null,
       "min_height": null,
       "min_width": null,
       "object_fit": null,
       "object_position": null,
       "order": null,
       "overflow": null,
       "overflow_x": null,
       "overflow_y": null,
       "padding": null,
       "right": null,
       "top": null,
       "visibility": null,
       "width": null
      }
     },
     "e7b5e168bbc74e459fa6115fb28dbe3d": {
      "model_module": "@jupyter-widgets/controls",
      "model_module_version": "1.5.0",
      "model_name": "FloatProgressModel",
      "state": {
       "_dom_classes": [],
       "_model_module": "@jupyter-widgets/controls",
       "_model_module_version": "1.5.0",
       "_model_name": "FloatProgressModel",
       "_view_count": null,
       "_view_module": "@jupyter-widgets/controls",
       "_view_module_version": "1.5.0",
       "_view_name": "ProgressView",
       "bar_style": "success",
       "description": "",
       "description_tooltip": null,
       "layout": "IPY_MODEL_98f963027e93467a8c38d4f9751a4904",
       "max": 10306551.0,
       "min": 0.0,
       "orientation": "horizontal",
       "style": "IPY_MODEL_29724e988879403982ce281ca0c95a70",
       "value": 10306551.0
      }
     }
    },
    "version_major": 2,
    "version_minor": 0
   }
  }
 },
 "nbformat": 4,
 "nbformat_minor": 5
}
