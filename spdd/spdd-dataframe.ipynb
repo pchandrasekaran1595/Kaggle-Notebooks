{
 "cells": [
  {
   "cell_type": "code",
   "execution_count": 1,
   "id": "04dd86ff",
   "metadata": {
    "_cell_guid": "b1076dfc-b9ad-4769-8c92-a6c4dae69d19",
    "_uuid": "8f2839f25d086af736a60e9eeb907d3b93b6e0e5",
    "execution": {
     "iopub.execute_input": "2022-11-28T13:02:42.448730Z",
     "iopub.status.busy": "2022-11-28T13:02:42.448192Z",
     "iopub.status.idle": "2022-11-28T13:02:42.708287Z",
     "shell.execute_reply": "2022-11-28T13:02:42.707133Z"
    },
    "papermill": {
     "duration": 0.26813,
     "end_time": "2022-11-28T13:02:42.711347",
     "exception": false,
     "start_time": "2022-11-28T13:02:42.443217",
     "status": "completed"
    },
    "tags": []
   },
   "outputs": [],
   "source": [
    "import os\n",
    "import cv2\n",
    "import numpy as np\n",
    "import pandas as pd\n",
    "\n",
    "DATASET_PATH: str = \"/kaggle/input/solar-panel-dust-detection/Detect_solar_dust\"\n",
    "\n",
    "LABELS: dict = {\n",
    "    0 : \"Clean\",\n",
    "    1 : \"Dusty\",\n",
    "}"
   ]
  },
  {
   "cell_type": "code",
   "execution_count": 2,
   "id": "893bc04d",
   "metadata": {
    "execution": {
     "iopub.execute_input": "2022-11-28T13:02:42.717584Z",
     "iopub.status.busy": "2022-11-28T13:02:42.716902Z",
     "iopub.status.idle": "2022-11-28T13:02:43.514878Z",
     "shell.execute_reply": "2022-11-28T13:02:43.513443Z"
    },
    "papermill": {
     "duration": 0.804874,
     "end_time": "2022-11-28T13:02:43.518437",
     "exception": false,
     "start_time": "2022-11-28T13:02:42.713563",
     "status": "completed"
    },
    "tags": []
   },
   "outputs": [],
   "source": [
    "df: pd.DataFrame = pd.DataFrame(data=None, columns=[\"filepaths\", \"labels\"])  \n",
    "\n",
    "filepaths: list = []\n",
    "labels: list = []\n",
    "    \n",
    "i: int = 0\n",
    "for folder in sorted(os.listdir(f\"{DATASET_PATH}\")):\n",
    "    for filename in os.listdir(f\"{DATASET_PATH}/{folder}\"):\n",
    "        filepaths.append(os.path.join(f\"{DATASET_PATH}/{folder}\", filename))\n",
    "        labels.append(i)\n",
    "    i += 1\n",
    "\n",
    "df.filepaths = filepaths\n",
    "df.labels = labels\n",
    "df.to_csv(\"dataframe.csv\", index=False)"
   ]
  }
 ],
 "metadata": {
  "kernelspec": {
   "display_name": "Python 3",
   "language": "python",
   "name": "python3"
  },
  "language_info": {
   "codemirror_mode": {
    "name": "ipython",
    "version": 3
   },
   "file_extension": ".py",
   "mimetype": "text/x-python",
   "name": "python",
   "nbconvert_exporter": "python",
   "pygments_lexer": "ipython3",
   "version": "3.7.12"
  },
  "papermill": {
   "default_parameters": {},
   "duration": 13.155057,
   "end_time": "2022-11-28T13:02:44.345220",
   "environment_variables": {},
   "exception": null,
   "input_path": "__notebook__.ipynb",
   "output_path": "__notebook__.ipynb",
   "parameters": {},
   "start_time": "2022-11-28T13:02:31.190163",
   "version": "2.3.4"
  }
 },
 "nbformat": 4,
 "nbformat_minor": 5
}
