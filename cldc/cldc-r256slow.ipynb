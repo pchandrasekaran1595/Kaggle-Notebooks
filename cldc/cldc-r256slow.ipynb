{
 "cells": [
  {
   "cell_type": "markdown",
   "id": "5442a901",
   "metadata": {
    "papermill": {
     "duration": 0.015248,
     "end_time": "2022-03-23T04:49:18.304515",
     "exception": false,
     "start_time": "2022-03-23T04:49:18.289267",
     "status": "completed"
    },
    "tags": []
   },
   "source": [
    "### **Library Imports**"
   ]
  },
  {
   "cell_type": "code",
   "execution_count": 1,
   "id": "e0a63938",
   "metadata": {
    "execution": {
     "iopub.execute_input": "2022-03-23T04:49:18.346390Z",
     "iopub.status.busy": "2022-03-23T04:49:18.345608Z",
     "iopub.status.idle": "2022-03-23T04:49:21.145330Z",
     "shell.execute_reply": "2022-03-23T04:49:21.145985Z",
     "shell.execute_reply.started": "2022-03-22T13:23:36.109879Z"
    },
    "papermill": {
     "duration": 2.825443,
     "end_time": "2022-03-23T04:49:21.146262",
     "exception": false,
     "start_time": "2022-03-23T04:49:18.320819",
     "status": "completed"
    },
    "tags": []
   },
   "outputs": [],
   "source": [
    "import os\n",
    "import re\n",
    "import cv2\n",
    "import torch\n",
    "import pickle\n",
    "import numpy as np\n",
    "import pandas as pd\n",
    "import matplotlib.pyplot as plt\n",
    "\n",
    "from time import time\n",
    "from torch import nn, optim\n",
    "from torch.utils.data import Dataset\n",
    "from torch.utils.data import DataLoader as DL\n",
    "from torch.nn.utils import weight_norm as WN\n",
    "from torchvision import models, transforms\n",
    "\n",
    "from sklearn.model_selection import StratifiedKFold\n",
    "from sklearn.preprocessing import StandardScaler, LabelEncoder"
   ]
  },
  {
   "cell_type": "markdown",
   "id": "8d55c57a",
   "metadata": {
    "papermill": {
     "duration": 0.014311,
     "end_time": "2022-03-23T04:49:21.175732",
     "exception": false,
     "start_time": "2022-03-23T04:49:21.161421",
     "status": "completed"
    },
    "tags": []
   },
   "source": [
    "### **Utilities and Constants**"
   ]
  },
  {
   "cell_type": "code",
   "execution_count": 2,
   "id": "d5c3092d",
   "metadata": {
    "execution": {
     "iopub.execute_input": "2022-03-23T04:49:21.255530Z",
     "iopub.status.busy": "2022-03-23T04:49:21.254677Z",
     "iopub.status.idle": "2022-03-23T04:49:21.257246Z",
     "shell.execute_reply": "2022-03-23T04:49:21.256830Z",
     "shell.execute_reply.started": "2022-03-22T13:23:36.837402Z"
    },
    "papermill": {
     "duration": 0.067128,
     "end_time": "2022-03-23T04:49:21.257368",
     "exception": false,
     "start_time": "2022-03-23T04:49:21.190240",
     "status": "completed"
    },
    "tags": []
   },
   "outputs": [],
   "source": [
    "le = LabelEncoder()\n",
    "\n",
    "SEED = 42\n",
    "SIZE = 256\n",
    "DEVICE = torch.device(\"cuda\" if torch.cuda.is_available() else \"cpu\")\n",
    "\n",
    "TRANSFORM_FINAL = transforms.Compose([transforms.ToTensor(), transforms.Normalize([0.485, 0.456, 0.406], [0.229, 0.224, 0.225])])\n",
    "TRANSFORM = transforms.Compose([transforms.ToTensor(), transforms.Normalize([0.43032, 0.49672, 0.31341], [0.20665, 0.21170, 0.18763])])\n",
    "\n",
    "SAVE_PATH = \"saves\"\n",
    "if not os.path.exists(SAVE_PATH):\n",
    "    os.makedirs(SAVE_PATH)"
   ]
  },
  {
   "cell_type": "code",
   "execution_count": 3,
   "id": "3947e1f0",
   "metadata": {
    "execution": {
     "iopub.execute_input": "2022-03-23T04:49:21.298581Z",
     "iopub.status.busy": "2022-03-23T04:49:21.297810Z",
     "iopub.status.idle": "2022-03-23T04:49:21.300278Z",
     "shell.execute_reply": "2022-03-23T04:49:21.299873Z",
     "shell.execute_reply.started": "2022-03-22T13:23:39.445919Z"
    },
    "papermill": {
     "duration": 0.028529,
     "end_time": "2022-03-23T04:49:21.300391",
     "exception": false,
     "start_time": "2022-03-23T04:49:21.271862",
     "status": "completed"
    },
    "tags": []
   },
   "outputs": [],
   "source": [
    "def breaker(num: int = 50, char: str = \"*\") -> None:\n",
    "    print(\"\\n\" + num*char + \"\\n\")\n",
    "\n",
    "\n",
    "def show_graphs(L: list, A: list) -> None:\n",
    "    TL, VL, TA, VA = [], [], [], []\n",
    "    for i in range(len(L)):\n",
    "        TL.append(L[i][\"train\"])\n",
    "        VL.append(L[i][\"valid\"])\n",
    "        TA.append(A[i][\"train\"])\n",
    "        VA.append(A[i][\"valid\"])\n",
    "    x_Axis = np.arange(1, len(TL) + 1)\n",
    "    plt.figure(figsize=(8, 6))\n",
    "    plt.subplot(1, 2, 1)\n",
    "    plt.plot(x_Axis, TL, \"r\", label=\"Train\")\n",
    "    plt.plot(x_Axis, VL, \"b\", label=\"Valid\")\n",
    "    plt.legend()\n",
    "    plt.grid()\n",
    "    plt.title(\"Loss Graph\")\n",
    "    plt.subplot(1, 2, 2)\n",
    "    plt.plot(x_Axis, TA, \"r\", label=\"Train\")\n",
    "    plt.plot(x_Axis, VA, \"b\", label=\"Valid\")\n",
    "    plt.legend()\n",
    "    plt.grid()\n",
    "    plt.title(\"Accuracy Graph\")\n",
    "    plt.show()\n",
    "\n",
    "    \n",
    "# def load_image(path: str, size: int, make_rgb: bool=False) -> np.ndarray:\n",
    "#     image = cv2.imread(path, cv2.IMREAD_COLOR).astype(\"uint8\")\n",
    "#     if make_rgb:\n",
    "#         image = cv2.cvtColor(src=image, code=cv2.COLOR_BGR2RGB)\n",
    "#     image = cv2.resize(src=image, dsize=(size, size), interpolation=cv2.INTER_AREA)\n",
    "#     return image\n",
    "\n",
    "\n",
    "def load_image(path: str, size: int) -> np.ndarray:\n",
    "    image = cv2.imread(path, cv2.IMREAD_COLOR)\n",
    "    image = cv2.cvtColor(src=image, code=cv2.COLOR_BGR2RGB)\n",
    "    image = cv2.resize(src=image, dsize=(size, size), interpolation=cv2.INTER_AREA)\n",
    "    return image\n",
    "\n",
    "\n",
    "def show_image(image: np.ndarray, cmap: str = \"gnuplot2\") -> None:\n",
    "    plt.figure()\n",
    "    plt.imshow(image, cmap=cmap)\n",
    "    plt.axis(\"off\")\n",
    "    plt.show()"
   ]
  },
  {
   "cell_type": "markdown",
   "id": "317b57f3",
   "metadata": {
    "papermill": {
     "duration": 0.014122,
     "end_time": "2022-03-23T04:49:21.328514",
     "exception": false,
     "start_time": "2022-03-23T04:49:21.314392",
     "status": "completed"
    },
    "tags": []
   },
   "source": [
    "### **Dataset Template**"
   ]
  },
  {
   "cell_type": "code",
   "execution_count": 4,
   "id": "5fc61d01",
   "metadata": {
    "execution": {
     "iopub.execute_input": "2022-03-23T04:49:21.366465Z",
     "iopub.status.busy": "2022-03-23T04:49:21.365917Z",
     "iopub.status.idle": "2022-03-23T04:49:21.369366Z",
     "shell.execute_reply": "2022-03-23T04:49:21.368962Z",
     "shell.execute_reply.started": "2022-03-22T13:23:40.264368Z"
    },
    "papermill": {
     "duration": 0.026751,
     "end_time": "2022-03-23T04:49:21.369523",
     "exception": false,
     "start_time": "2022-03-23T04:49:21.342772",
     "status": "completed"
    },
    "tags": []
   },
   "outputs": [],
   "source": [
    "class DS(Dataset):\n",
    "    def __init__(self, base_path: str, filenames: np.ndarray, labels: np.ndarray = None, mode: str = \"train\", transform = None):\n",
    "\n",
    "        assert re.match(r\"^train$\", mode, re.IGNORECASE) or re.match(r\"^valid$\", mode, re.IGNORECASE) or re.match(r\"^test$\", mode, re.IGNORECASE), \"Invalid Mode\"\n",
    "        \n",
    "        self.mode = mode\n",
    "        self.base_path = base_path\n",
    "        self.filenames = filenames\n",
    "        self.transform = transform\n",
    "\n",
    "        if re.match(r\"^train$\", mode, re.IGNORECASE) or re.match(r\"^valid$\", mode, re.IGNORECASE):\n",
    "            self.labels = labels\n",
    "\n",
    "    def __len__(self):\n",
    "        return self.filenames.shape[0]\n",
    "\n",
    "    def __getitem__(self, idx):\n",
    "        image = load_image(os.path.join(self.base_path, self.filenames[idx]), SIZE)\n",
    "        if re.match(r\"^train$\", self.mode, re.IGNORECASE) or re.match(r\"^valid$\", self.mode, re.IGNORECASE):\n",
    "            return self.transform(image), torch.LongTensor(self.labels[idx])\n",
    "        else:\n",
    "            return self.transform(image)"
   ]
  },
  {
   "cell_type": "markdown",
   "id": "8c9b3e3a",
   "metadata": {
    "papermill": {
     "duration": 0.014572,
     "end_time": "2022-03-23T04:49:21.398527",
     "exception": false,
     "start_time": "2022-03-23T04:49:21.383955",
     "status": "completed"
    },
    "tags": []
   },
   "source": [
    "### **Model**"
   ]
  },
  {
   "cell_type": "code",
   "execution_count": 5,
   "id": "32526c02",
   "metadata": {
    "execution": {
     "iopub.execute_input": "2022-03-23T04:49:21.562342Z",
     "iopub.status.busy": "2022-03-23T04:49:21.546865Z",
     "iopub.status.idle": "2022-03-23T04:49:21.569402Z",
     "shell.execute_reply": "2022-03-23T04:49:21.568925Z",
     "shell.execute_reply.started": "2022-03-22T13:27:31.073374Z"
    },
    "papermill": {
     "duration": 0.156998,
     "end_time": "2022-03-23T04:49:21.569551",
     "exception": false,
     "start_time": "2022-03-23T04:49:21.412553",
     "status": "completed"
    },
    "tags": []
   },
   "outputs": [],
   "source": [
    "class CNN(nn.Module):\n",
    "    def __init__(self, mode: str, model_name: str):\n",
    "        \n",
    "        super(CNN, self).__init__()\n",
    "        \n",
    "        self.model_name = model_name\n",
    "        self.mode = mode\n",
    "        \n",
    "        if re.match(r\"^vgg$\", self.model_name, re.IGNORECASE):\n",
    "            if re.match(r\"^full$\", self.mode, re.IGNORECASE):\n",
    "                self.model = models.vgg16_bn(pretrained=False, progress=True)\n",
    "                self.model.classifier[-1] = nn.Linear(in_features=self.model.classifier[-1].in_features, out_features=10)\n",
    "            elif re.match(r\"^semi$\", self.mode, re.IGNORECASE) or re.match(r\"^final$\", self.mode, re.IGNORECASE):\n",
    "                self.model = models.vgg16_bn(pretrained=True, progress=True)\n",
    "                self.freeze()\n",
    "                self.model.classifier[-1] = nn.Linear(in_features=self.model.classifier[-1].in_features, out_features=10)\n",
    "            \n",
    "        elif re.match(r\"^resnet$\", self.model_name, re.IGNORECASE):\n",
    "            if re.match(r\"^full$\", self.mode, re.IGNORECASE):\n",
    "                self.model = models.resnet50(pretrained=False, progress=True)\n",
    "                self.model.fc = nn.Linear(in_features=self.model.fc.in_features, out_features=10)\n",
    "            elif re.match(r\"^semi$\", self.mode, re.IGNORECASE) or re.match(r\"^final$\", self.mode, re.IGNORECASE):\n",
    "                self.model = models.resnet50(pretrained=True, progress=True)\n",
    "                self.freeze()\n",
    "                self.model.fc = nn.Linear(in_features=self.model.fc.in_features, out_features=10)\n",
    "        \n",
    "        elif re.match(r\"^densenet$\", self.model_name, re.IGNORECASE):\n",
    "            if re.match(r\"^full$\", self.mode, re.IGNORECASE):\n",
    "                self.model = models.densenet169(pretrained=False, progress=True)\n",
    "                self.model.classifier = nn.Linear(in_features=self.model.classifier.in_features, out_features=10)\n",
    "            elif re.match(r\"^semi$\", self.mode, re.IGNORECASE) or re.match(r\"^final$\", self.mode, re.IGNORECASE):\n",
    "                self.model = models.densenet169(pretrained=True, progress=True)\n",
    "                self.freeze()\n",
    "                self.model.classifier = nn.Linear(in_features=self.model.classifier.in_features, out_features=10)\n",
    "        \n",
    "        elif re.match(r\"^mobilenet$\", self.model_name, re.IGNORECASE):\n",
    "            if re.match(r\"^full$\", self.mode, re.IGNORECASE):\n",
    "                self.model = models.mobilenet_v3_small(pretrained=False, progress=True)\n",
    "                self.model.classifier[-1] = nn.Linear(in_features=self.model.classifier[-1].in_features, out_features=10)\n",
    "            elif re.match(r\"^semi$\", self.mode, re.IGNORECASE) or re.match(r\"^final$\", self.mode, re.IGNORECASE):\n",
    "                self.model = models.mobilenet_v3_small(pretrained=True, progress=True)\n",
    "                self.freeze()\n",
    "                self.model.classifier[-1] = nn.Linear(in_features=self.model.classifier[-1].in_features, out_features=10)\n",
    "\n",
    "    def freeze(self):\n",
    "        for params in self.parameters():\n",
    "            params.requires_grad = False\n",
    "\n",
    "        if re.match(r\"^vgg$\", self.model_name, re.IGNORECASE):\n",
    "            if re.match(r\"^semi$\", self.mode, re.IGNORECASE):\n",
    "                for names, params in self.named_parameters():\n",
    "                    if re.match(r\".*features.3[4-9].*\", names, re.IGNORECASE) or re.match(r\".*features.4[0-9].*\", names, re.IGNORECASE) or re.match(r\".*classifier.*\", names, re.IGNORECASE):\n",
    "                        params.requires_grad = True\n",
    "        \n",
    "        elif re.match(r\"^resnet$\", self.model_name, re.IGNORECASE):\n",
    "            if re.match(r\"^semi$\", self.mode, re.IGNORECASE):\n",
    "                for names, params in self.named_parameters():\n",
    "                    if re.match(r\".*layer4.*\", names, re.IGNORECASE):\n",
    "                        params.requires_grad = True\n",
    "        \n",
    "        elif re.match(r\"^densenet$\", self.model_name, re.IGNORECASE):\n",
    "            if re.match(r\"^semi$\", self.mode, re.IGNORECASE):\n",
    "                for names, params in self.named_parameters():\n",
    "                    if re.match(r\".*denseblock4.*\", names, re.IGNORECASE) or re.match(r\".*norm5.*\", names, re.IGNORECASE):\n",
    "                        params.requires_grad = True\n",
    "        \n",
    "        elif re.match(r\"^mobilenet$\", self.model_name, re.IGNORECASE):\n",
    "            if re.match(r\"^semi$\", self.mode, re.IGNORECASE):\n",
    "                for names, params in self.named_parameters():\n",
    "                    if re.match(r\".*features.9.*\", names, re.IGNORECASE) or re.match(r\".*features.1[0-2].*\", names, re.IGNORECASE) or re.match(r\".*classifier.*\", names, re.IGNORECASE):\n",
    "                        params.requires_grad = True\n",
    "    \n",
    "    def get_optimizer(self, lr=1e-3, wd=0.0):\n",
    "        params = [p for p in self.parameters() if p.requires_grad]\n",
    "        return optim.Adam(params, lr=lr, weight_decay=wd)\n",
    "\n",
    "    def get_plateau_scheduler(self, optimizer=None, patience=5, eps=1e-8):\n",
    "        return optim.lr_scheduler.ReduceLROnPlateau(optimizer=optimizer, patience=patience, eps=eps)\n",
    "    \n",
    "    def forward(self, x):\n",
    "        return nn.LogSoftmax(dim=1)(self.model(x))"
   ]
  },
  {
   "cell_type": "markdown",
   "id": "5c69dd6e",
   "metadata": {
    "papermill": {
     "duration": 0.013993,
     "end_time": "2022-03-23T04:49:21.598441",
     "exception": false,
     "start_time": "2022-03-23T04:49:21.584448",
     "status": "completed"
    },
    "tags": []
   },
   "source": [
    "### **Fit and Predict Helpers**"
   ]
  },
  {
   "cell_type": "code",
   "execution_count": 6,
   "id": "20ce5a16",
   "metadata": {
    "execution": {
     "iopub.execute_input": "2022-03-23T04:49:21.630077Z",
     "iopub.status.busy": "2022-03-23T04:49:21.629224Z",
     "iopub.status.idle": "2022-03-23T04:49:21.648299Z",
     "shell.execute_reply": "2022-03-23T04:49:21.647901Z",
     "shell.execute_reply.started": "2022-03-22T13:23:41.716556Z"
    },
    "papermill": {
     "duration": 0.035589,
     "end_time": "2022-03-23T04:49:21.648411",
     "exception": false,
     "start_time": "2022-03-23T04:49:21.612822",
     "status": "completed"
    },
    "tags": []
   },
   "outputs": [],
   "source": [
    "def fit(model=None, optimizer=None, scheduler=None, epochs=None, early_stopping_patience=None, dataloaders=None, verbose=False) -> tuple:\n",
    "    \n",
    "    def get_accuracy(y_pred, y_true):\n",
    "        y_pred = torch.argmax(y_pred, dim=1)\n",
    "        return torch.count_nonzero(y_pred == y_true).item() / len(y_pred)\n",
    "    \n",
    "    if verbose:\n",
    "        breaker()\n",
    "        print(f\"Training ...\")\n",
    "        breaker()\n",
    "\n",
    "    bestLoss, bestAccs = {\"train\" : np.inf, \"valid\" : np.inf}, {\"train\" : 0.0, \"valid\" : 0.0}\n",
    "    Losses, Accuracies = [], []\n",
    "    name = f\"state.pt\"\n",
    "\n",
    "    start_time = time()\n",
    "    for e in range(epochs):\n",
    "        e_st = time()\n",
    "        epochLoss, epochAccs = {\"train\" : 0.0, \"valid\" : 0.0}, {\"train\" : 0.0, \"valid\" : 0.0}\n",
    "\n",
    "        for phase in [\"train\", \"valid\"]:\n",
    "            if phase == \"train\":\n",
    "                model.train()\n",
    "            else:\n",
    "                model.eval()\n",
    "            \n",
    "            lossPerPass, accsPerPass = [], []\n",
    "\n",
    "            for X, y in dataloaders[phase]:\n",
    "                X, y = X.to(DEVICE), y.to(DEVICE).view(-1)\n",
    "\n",
    "                optimizer.zero_grad()\n",
    "                with torch.set_grad_enabled(phase == \"train\"):\n",
    "                    output = model(X)\n",
    "                    loss = torch.nn.NLLLoss()(output, y)\n",
    "                    if phase == \"train\":\n",
    "                        loss.backward()\n",
    "                        optimizer.step()\n",
    "                lossPerPass.append(loss.item())\n",
    "                accsPerPass.append(get_accuracy(output, y))\n",
    "            epochLoss[phase] = np.mean(np.array(lossPerPass))\n",
    "            epochAccs[phase] = np.mean(np.array(accsPerPass))\n",
    "        Losses.append(epochLoss)\n",
    "        Accuracies.append(epochAccs)\n",
    "\n",
    "        if early_stopping_patience:\n",
    "            if epochLoss[\"valid\"] < bestLoss[\"valid\"]:\n",
    "                bestLoss = epochLoss\n",
    "                BLE = e + 1\n",
    "                torch.save({\"model_state_dict\": model.state_dict(),\n",
    "                            \"optim_state_dict\": optimizer.state_dict()},\n",
    "                           os.path.join(SAVE_PATH, name))\n",
    "                early_stopping_step = 0\n",
    "            else:\n",
    "                early_stopping_step += 1\n",
    "                if early_stopping_step > early_stopping_patience:\n",
    "                    print(\"\\nEarly Stopping at Epoch {}\".format(e + 1))\n",
    "                    break\n",
    "        \n",
    "        if epochLoss[\"valid\"] < bestLoss[\"valid\"]:\n",
    "            bestLoss = epochLoss\n",
    "            BLE = e + 1\n",
    "            torch.save({\"model_state_dict\" : model.state_dict(),\n",
    "                        \"optim_state_dict\" : optimizer.state_dict()},\n",
    "                        os.path.join(SAVE_PATH, name))\n",
    "        \n",
    "        if epochAccs[\"valid\"] > bestAccs[\"valid\"]:\n",
    "            bestAccs = epochAccs\n",
    "            BAE = e + 1\n",
    "        \n",
    "        if scheduler:\n",
    "            scheduler.step(epochLoss[\"valid\"])\n",
    "        \n",
    "        if verbose:\n",
    "            print(\"Epoch: {} | Train Loss: {:.5f} | Valid Loss: {:.5f} |\\\n",
    "Train Accs: {:.5f} | Valid Accs: {:.5f} | Time: {:.2f} seconds\".format(e+1, \n",
    "                                                                       epochLoss[\"train\"], epochLoss[\"valid\"], \n",
    "                                                                       epochAccs[\"train\"], epochAccs[\"valid\"], \n",
    "                                                                       time()-e_st))\n",
    "\n",
    "    if verbose:                                           \n",
    "        breaker()\n",
    "        print(f\"Best Validation Loss at Epoch {BLE}\")\n",
    "        breaker()\n",
    "        print(f\"Best Validation Accs at Epoch {BAE}\")\n",
    "        breaker()\n",
    "        print(\"Time Taken [{} Epochs] : {:.2f} minutes\".format(len(Losses), (time()-start_time)/60))\n",
    "        breaker()\n",
    "        print(\"Training Completed\")\n",
    "        breaker()\n",
    "\n",
    "    return Losses, Accuracies, BLE, BAE, name\n",
    "\n",
    "\n",
    "# def predict(model=None, dataloader=None, path=None) -> np.ndarray:\n",
    "#     model.load_state_dict(torch.load(path, map_location=DEVICE)[\"model_state_dict\"])\n",
    "#     model.to(DEVICE)    \n",
    "#     model.eval()\n",
    "    \n",
    "#     y_pred = torch.zeros(1, 1).to(DEVICE)\n",
    "    \n",
    "#     for X in dataloader:\n",
    "#         X = X.to(DEVICE)\n",
    "#         with torch.no_grad():\n",
    "#             output = torch.argmax(torch.exp(model(X)), dim=1)\n",
    "#         y_pred = torch.cat((y_pred, output.view(-1, 1)), dim=0)\n",
    "    \n",
    "#     return y_pred[1:].detach().cpu().numpy()"
   ]
  },
  {
   "cell_type": "markdown",
   "id": "a9e30274",
   "metadata": {
    "papermill": {
     "duration": 0.013539,
     "end_time": "2022-03-23T04:49:21.676034",
     "exception": false,
     "start_time": "2022-03-23T04:49:21.662495",
     "status": "completed"
    },
    "tags": []
   },
   "source": [
    "### **Params**"
   ]
  },
  {
   "cell_type": "code",
   "execution_count": 7,
   "id": "6353af88",
   "metadata": {
    "execution": {
     "iopub.execute_input": "2022-03-23T04:49:21.709434Z",
     "iopub.status.busy": "2022-03-23T04:49:21.708601Z",
     "iopub.status.idle": "2022-03-23T04:49:21.710393Z",
     "shell.execute_reply": "2022-03-23T04:49:21.710859Z",
     "shell.execute_reply.started": "2022-03-22T13:26:39.718434Z"
    },
    "papermill": {
     "duration": 0.0212,
     "end_time": "2022-03-23T04:49:21.710998",
     "exception": false,
     "start_time": "2022-03-23T04:49:21.689798",
     "status": "completed"
    },
    "tags": []
   },
   "outputs": [],
   "source": [
    "DEBUG: bool = False\n",
    "    \n",
    "if DEBUG:\n",
    "    n_splits = 3\n",
    "    epochs = 2\n",
    "    mode = \"semi\"\n",
    "    model_name = \"mobilenet\"\n",
    "else:\n",
    "    n_splits = 25\n",
    "    epochs = 250\n",
    "    mode = \"semi\"\n",
    "    model_name = \"resnet\"\n",
    "\n",
    "batch_size = 128\n",
    "lr = 1e-6\n",
    "wd = 1e-5\n",
    "early_stopping = 5\n",
    "patience = None\n",
    "eps = None"
   ]
  },
  {
   "cell_type": "markdown",
   "id": "e0b413f5",
   "metadata": {
    "papermill": {
     "duration": 0.013666,
     "end_time": "2022-03-23T04:49:21.738354",
     "exception": false,
     "start_time": "2022-03-23T04:49:21.724688",
     "status": "completed"
    },
    "tags": []
   },
   "source": [
    "### **Load & Preprocess Data**"
   ]
  },
  {
   "cell_type": "code",
   "execution_count": 8,
   "id": "02d752e6",
   "metadata": {
    "execution": {
     "iopub.execute_input": "2022-03-23T04:49:21.773241Z",
     "iopub.status.busy": "2022-03-23T04:49:21.772554Z",
     "iopub.status.idle": "2022-03-23T04:49:21.799042Z",
     "shell.execute_reply": "2022-03-23T04:49:21.798623Z",
     "shell.execute_reply.started": "2022-03-22T13:27:37.421841Z"
    },
    "papermill": {
     "duration": 0.046836,
     "end_time": "2022-03-23T04:49:21.799158",
     "exception": false,
     "start_time": "2022-03-23T04:49:21.752322",
     "status": "completed"
    },
    "tags": []
   },
   "outputs": [],
   "source": [
    "start_time = time()\n",
    "\n",
    "train_df = pd.read_csv(\"../input/cassava-leaf-disease-classification/train.csv\")\n",
    "train_df.head()\n",
    "\n",
    "filenames = train_df.iloc[:, 0].copy().values\n",
    "labels = train_df.iloc[:, -1].copy().values"
   ]
  },
  {
   "cell_type": "markdown",
   "id": "e0dffb7e",
   "metadata": {
    "papermill": {
     "duration": 0.013785,
     "end_time": "2022-03-23T04:49:21.827281",
     "exception": false,
     "start_time": "2022-03-23T04:49:21.813496",
     "status": "completed"
    },
    "tags": []
   },
   "source": [
    "### **Train**"
   ]
  },
  {
   "cell_type": "code",
   "execution_count": 9,
   "id": "b92cc3f5",
   "metadata": {
    "execution": {
     "iopub.execute_input": "2022-03-23T04:49:21.868812Z",
     "iopub.status.busy": "2022-03-23T04:49:21.867876Z",
     "iopub.status.idle": "2022-03-23T09:01:28.228939Z",
     "shell.execute_reply": "2022-03-23T09:01:28.229361Z",
     "shell.execute_reply.started": "2022-03-22T13:27:38.02605Z"
    },
    "papermill": {
     "duration": 15126.388386,
     "end_time": "2022-03-23T09:01:28.229551",
     "exception": false,
     "start_time": "2022-03-23T04:49:21.841165",
     "status": "completed"
    },
    "tags": []
   },
   "outputs": [
    {
     "name": "stderr",
     "output_type": "stream",
     "text": [
      "Downloading: \"https://download.pytorch.org/models/resnet50-0676ba61.pth\" to /root/.cache/torch/hub/checkpoints/resnet50-0676ba61.pth\n"
     ]
    },
    {
     "data": {
      "application/vnd.jupyter.widget-view+json": {
       "model_id": "9935bebec1d84c9eb3f5297e060b361f",
       "version_major": 2,
       "version_minor": 0
      },
      "text/plain": [
       "  0%|          | 0.00/97.8M [00:00<?, ?B/s]"
      ]
     },
     "metadata": {},
     "output_type": "display_data"
    },
    {
     "name": "stdout",
     "output_type": "stream",
     "text": [
      "\n",
      "**************************************************\n",
      "\n",
      "Training ...\n",
      "\n",
      "**************************************************\n",
      "\n",
      "Epoch: 1 | Train Loss: 2.08879 | Valid Loss: 1.94704 |Train Accs: 0.26315 | Valid Accs: 0.46784 | Time: 500.11 seconds\n",
      "Epoch: 2 | Train Loss: 1.80368 | Valid Loss: 1.66269 |Train Accs: 0.57933 | Valid Accs: 0.63119 | Time: 331.87 seconds\n",
      "Epoch: 3 | Train Loss: 1.53829 | Valid Loss: 1.41978 |Train Accs: 0.65647 | Valid Accs: 0.67746 | Time: 332.08 seconds\n",
      "Epoch: 4 | Train Loss: 1.31594 | Valid Loss: 1.25955 |Train Accs: 0.69195 | Valid Accs: 0.70201 | Time: 331.88 seconds\n",
      "Epoch: 5 | Train Loss: 1.14417 | Valid Loss: 1.09795 |Train Accs: 0.71744 | Valid Accs: 0.72240 | Time: 333.96 seconds\n",
      "Epoch: 6 | Train Loss: 1.02141 | Valid Loss: 1.00215 |Train Accs: 0.73236 | Valid Accs: 0.75142 | Time: 331.93 seconds\n",
      "Epoch: 7 | Train Loss: 0.92904 | Valid Loss: 0.91301 |Train Accs: 0.74394 | Valid Accs: 0.76806 | Time: 331.68 seconds\n",
      "Epoch: 8 | Train Loss: 0.86135 | Valid Loss: 0.85599 |Train Accs: 0.75258 | Valid Accs: 0.76857 | Time: 334.13 seconds\n",
      "Epoch: 9 | Train Loss: 0.80582 | Valid Loss: 0.81556 |Train Accs: 0.76256 | Valid Accs: 0.77364 | Time: 333.97 seconds\n",
      "Epoch: 10 | Train Loss: 0.76264 | Valid Loss: 0.78089 |Train Accs: 0.76829 | Valid Accs: 0.77313 | Time: 333.89 seconds\n",
      "Epoch: 11 | Train Loss: 0.72721 | Valid Loss: 0.73775 |Train Accs: 0.77386 | Valid Accs: 0.77709 | Time: 332.38 seconds\n",
      "Epoch: 12 | Train Loss: 0.69373 | Valid Loss: 0.72199 |Train Accs: 0.78243 | Valid Accs: 0.78257 | Time: 332.49 seconds\n",
      "Epoch: 13 | Train Loss: 0.66519 | Valid Loss: 0.69951 |Train Accs: 0.78721 | Valid Accs: 0.78653 | Time: 332.29 seconds\n",
      "Epoch: 14 | Train Loss: 0.64246 | Valid Loss: 0.67382 |Train Accs: 0.79341 | Valid Accs: 0.78927 | Time: 332.47 seconds\n",
      "Epoch: 15 | Train Loss: 0.62055 | Valid Loss: 0.66031 |Train Accs: 0.79832 | Valid Accs: 0.79150 | Time: 332.67 seconds\n",
      "Epoch: 16 | Train Loss: 0.59831 | Valid Loss: 0.65266 |Train Accs: 0.80262 | Valid Accs: 0.79637 | Time: 331.67 seconds\n",
      "Epoch: 17 | Train Loss: 0.58309 | Valid Loss: 0.63602 |Train Accs: 0.80769 | Valid Accs: 0.79586 | Time: 330.42 seconds\n",
      "Epoch: 18 | Train Loss: 0.56485 | Valid Loss: 0.62368 |Train Accs: 0.81362 | Valid Accs: 0.79809 | Time: 333.35 seconds\n",
      "Epoch: 19 | Train Loss: 0.55034 | Valid Loss: 0.61805 |Train Accs: 0.81741 | Valid Accs: 0.80144 | Time: 334.47 seconds\n",
      "Epoch: 20 | Train Loss: 0.53733 | Valid Loss: 0.61331 |Train Accs: 0.82122 | Valid Accs: 0.79982 | Time: 333.36 seconds\n",
      "Epoch: 21 | Train Loss: 0.52281 | Valid Loss: 0.60115 |Train Accs: 0.82565 | Valid Accs: 0.80428 | Time: 333.95 seconds\n",
      "Epoch: 22 | Train Loss: 0.50949 | Valid Loss: 0.58946 |Train Accs: 0.82807 | Valid Accs: 0.80925 | Time: 331.88 seconds\n",
      "Epoch: 23 | Train Loss: 0.49576 | Valid Loss: 0.59077 |Train Accs: 0.83388 | Valid Accs: 0.80256 | Time: 329.64 seconds\n",
      "Epoch: 24 | Train Loss: 0.48402 | Valid Loss: 0.57544 |Train Accs: 0.83570 | Valid Accs: 0.80702 | Time: 331.08 seconds\n",
      "Epoch: 25 | Train Loss: 0.47069 | Valid Loss: 0.57490 |Train Accs: 0.84153 | Valid Accs: 0.80702 | Time: 330.52 seconds\n",
      "Epoch: 26 | Train Loss: 0.46077 | Valid Loss: 0.56604 |Train Accs: 0.84340 | Valid Accs: 0.80875 | Time: 332.85 seconds\n",
      "Epoch: 27 | Train Loss: 0.44956 | Valid Loss: 0.56427 |Train Accs: 0.84878 | Valid Accs: 0.81372 | Time: 335.07 seconds\n",
      "Epoch: 28 | Train Loss: 0.44011 | Valid Loss: 0.56038 |Train Accs: 0.85115 | Valid Accs: 0.81585 | Time: 334.15 seconds\n",
      "Epoch: 29 | Train Loss: 0.42805 | Valid Loss: 0.55202 |Train Accs: 0.85501 | Valid Accs: 0.81473 | Time: 333.49 seconds\n",
      "Epoch: 30 | Train Loss: 0.41874 | Valid Loss: 0.55245 |Train Accs: 0.85908 | Valid Accs: 0.81311 | Time: 333.11 seconds\n",
      "Epoch: 31 | Train Loss: 0.40591 | Valid Loss: 0.54871 |Train Accs: 0.86316 | Valid Accs: 0.81422 | Time: 333.10 seconds\n",
      "Epoch: 32 | Train Loss: 0.39708 | Valid Loss: 0.55111 |Train Accs: 0.86533 | Valid Accs: 0.81088 | Time: 331.04 seconds\n",
      "Epoch: 33 | Train Loss: 0.38725 | Valid Loss: 0.54327 |Train Accs: 0.86959 | Valid Accs: 0.81311 | Time: 332.52 seconds\n",
      "Epoch: 34 | Train Loss: 0.38032 | Valid Loss: 0.55163 |Train Accs: 0.87132 | Valid Accs: 0.80864 | Time: 332.60 seconds\n",
      "Epoch: 35 | Train Loss: 0.37096 | Valid Loss: 0.54319 |Train Accs: 0.87476 | Valid Accs: 0.81250 | Time: 332.64 seconds\n",
      "Epoch: 36 | Train Loss: 0.35878 | Valid Loss: 0.54634 |Train Accs: 0.87826 | Valid Accs: 0.81138 | Time: 331.14 seconds\n",
      "Epoch: 37 | Train Loss: 0.35098 | Valid Loss: 0.54070 |Train Accs: 0.88171 | Valid Accs: 0.81473 | Time: 331.17 seconds\n",
      "Epoch: 38 | Train Loss: 0.34169 | Valid Loss: 0.54214 |Train Accs: 0.88545 | Valid Accs: 0.81412 | Time: 333.06 seconds\n",
      "Epoch: 39 | Train Loss: 0.33147 | Valid Loss: 0.53678 |Train Accs: 0.89006 | Valid Accs: 0.81362 | Time: 329.15 seconds\n",
      "Epoch: 40 | Train Loss: 0.32470 | Valid Loss: 0.53966 |Train Accs: 0.89394 | Valid Accs: 0.81301 | Time: 332.67 seconds\n",
      "Epoch: 41 | Train Loss: 0.31487 | Valid Loss: 0.54220 |Train Accs: 0.89561 | Valid Accs: 0.81970 | Time: 331.58 seconds\n",
      "Epoch: 42 | Train Loss: 0.30782 | Valid Loss: 0.54430 |Train Accs: 0.90021 | Valid Accs: 0.81636 | Time: 331.62 seconds\n",
      "Epoch: 43 | Train Loss: 0.29840 | Valid Loss: 0.54205 |Train Accs: 0.90248 | Valid Accs: 0.81301 | Time: 330.76 seconds\n",
      "Epoch: 44 | Train Loss: 0.29126 | Valid Loss: 0.54127 |Train Accs: 0.90573 | Valid Accs: 0.81747 | Time: 330.04 seconds\n",
      "\n",
      "Early Stopping at Epoch 45\n",
      "\n",
      "**************************************************\n",
      "\n",
      "Best Validation Loss at Epoch 39\n",
      "\n",
      "**************************************************\n",
      "\n",
      "Best Validation Accs at Epoch 41\n",
      "\n",
      "**************************************************\n",
      "\n",
      "Time Taken [45 Epochs] : 252.00 minutes\n",
      "\n",
      "**************************************************\n",
      "\n",
      "Training Completed\n",
      "\n",
      "**************************************************\n",
      "\n"
     ]
    },
    {
     "data": {
      "image/png": "[encoded data removed]",
      "text/plain": [
       "<Figure size 576x432 with 2 Axes>"
      ]
     },
     "metadata": {
      "needs_background": "light"
     },
     "output_type": "display_data"
    }
   ],
   "source": [
    "for tr_idx, va_idx in StratifiedKFold(n_splits=n_splits, random_state=SEED, shuffle=True).split(filenames, labels):\n",
    "    break\n",
    "\n",
    "tr_filenames, va_filenames, tr_labels, va_labels = filenames[tr_idx], filenames[va_idx], labels[tr_idx], labels[va_idx]\n",
    "\n",
    "tr_data_setup = DS(\"../input/cassava-leaf-disease-classification/train_images\", tr_filenames, tr_labels.reshape(-1, 1), \"train\", TRANSFORM)\n",
    "va_data_setup = DS(\"../input/cassava-leaf-disease-classification/train_images\", va_filenames, va_labels.reshape(-1, 1), \"valid\", TRANSFORM)\n",
    "\n",
    "dataloaders = {\n",
    "    \"train\" : DL(tr_data_setup, batch_size=batch_size, shuffle=True, generator=torch.manual_seed(SEED)),\n",
    "    \"valid\" : DL(va_data_setup, batch_size=batch_size, shuffle=False),\n",
    "}\n",
    "\n",
    "torch.manual_seed(SEED)\n",
    "model = CNN(mode=mode, model_name=model_name).to(DEVICE)\n",
    "optimizer = model.get_optimizer(lr=lr, wd=wd)\n",
    "scheduler = None\n",
    "if isinstance(patience, int) and isinstance(eps, float):\n",
    "    scheduler = get_plateau_scheduler(optimizer=optimizer, patience=patience, eps=eps)\n",
    "\n",
    "L, A, BLE, BAE, name = fit(model=model, optimizer=optimizer, scheduler=scheduler, \n",
    "                           epochs=epochs, early_stopping_patience=early_stopping, \n",
    "                           dataloaders=dataloaders, verbose=True)\n",
    "\n",
    "show_graphs(L, A)"
   ]
  },
  {
   "cell_type": "markdown",
   "id": "a71f2615",
   "metadata": {
    "papermill": {
     "duration": 0.030909,
     "end_time": "2022-03-23T09:01:28.290689",
     "exception": false,
     "start_time": "2022-03-23T09:01:28.259780",
     "status": "completed"
    },
    "tags": []
   },
   "source": [
    "### **Submission**"
   ]
  },
  {
   "cell_type": "code",
   "execution_count": 10,
   "id": "d2563cbf",
   "metadata": {
    "execution": {
     "iopub.execute_input": "2022-03-23T09:01:28.355753Z",
     "iopub.status.busy": "2022-03-23T09:01:28.354904Z",
     "iopub.status.idle": "2022-03-23T09:01:28.357408Z",
     "shell.execute_reply": "2022-03-23T09:01:28.356977Z",
     "shell.execute_reply.started": "2022-03-22T13:10:55.383842Z"
    },
    "papermill": {
     "duration": 0.037136,
     "end_time": "2022-03-23T09:01:28.357547",
     "exception": false,
     "start_time": "2022-03-23T09:01:28.320411",
     "status": "completed"
    },
    "tags": []
   },
   "outputs": [],
   "source": [
    "# ss_df = pd.read_csv(\"../input/cassava-leaf-disease-classification/sample_submission.csv\")\n",
    "# ts_filenames = ss_df.filename.copy().values\n",
    "\n",
    "# ts_data_setup = DS(\"../input/cassava-leaf-disease-classification/test_images\", ts_filenames, None, \"test\", TRANSFORM)\n",
    "# ts_data = DL(ts_data_setup, batch_size=batch_size, shuffle=False)\n",
    "\n",
    "# y_pred = predict(model=model, dataloader=ts_data, path=\"../saves/state.pt\")\n",
    "\n",
    "# ss_df[\"cultivar\"] = y_pred.astype(\"uint8\")\n",
    "# ss_df.to_csv(\"submission.csv\", index=False)"
   ]
  }
 ],
 "metadata": {
  "kernelspec": {
   "display_name": "Python 3",
   "language": "python",
   "name": "python3"
  },
  "language_info": {
   "codemirror_mode": {
    "name": "ipython",
    "version": 3
   },
   "file_extension": ".py",
   "mimetype": "text/x-python",
   "name": "python",
   "nbconvert_exporter": "python",
   "pygments_lexer": "ipython3",
   "version": "3.7.12"
  },
  "papermill": {
   "default_parameters": {},
   "duration": 15141.04591,
   "end_time": "2022-03-23T09:01:31.130950",
   "environment_variables": {},
   "exception": null,
   "input_path": "__notebook__.ipynb",
   "output_path": "__notebook__.ipynb",
   "parameters": {},
   "start_time": "2022-03-23T04:49:10.085040",
   "version": "2.3.3"
  },
  "widgets": {
   "application/vnd.jupyter.widget-state+json": {
    "state": {
     "1814c5b0d1ef4cfb96716e552e010700": {
      "model_module": "@jupyter-widgets/base",
      "model_module_version": "1.2.0",
      "model_name": "LayoutModel",
      "state": {
       "_model_module": "@jupyter-widgets/base",
       "_model_module_version": "1.2.0",
       "_model_name": "LayoutModel",
       "_view_count": null,
       "_view_module": "@jupyter-widgets/base",
       "_view_module_version": "1.2.0",
       "_view_name": "LayoutView",
       "align_content": null,
       "align_items": null,
       "align_self": null,
       "border": null,
       "bottom": null,
       "display": null,
       "flex": null,
       "flex_flow": null,
       "grid_area": null,
       "grid_auto_columns": null,
       "grid_auto_flow": null,
       "grid_auto_rows": null,
       "grid_column": null,
       "grid_gap": null,
       "grid_row": null,
       "grid_template_areas": null,
       "grid_template_columns": null,
       "grid_template_rows": null,
       "height": null,
       "justify_content": null,
       "justify_items": null,
       "left": null,
       "margin": null,
       "max_height": null,
       "max_width": null,
       "min_height": null,
       "min_width": null,
       "object_fit": null,
       "object_position": null,
       "order": null,
       "overflow": null,
       "overflow_x": null,
       "overflow_y": null,
       "padding": null,
       "right": null,
       "top": null,
       "visibility": null,
       "width": null
      }
     },
     "34a07dc347954b0fa6800f7d06fc86a6": {
      "model_module": "@jupyter-widgets/controls",
      "model_module_version": "1.5.0",
      "model_name": "ProgressStyleModel",
      "state": {
       "_model_module": "@jupyter-widgets/controls",
       "_model_module_version": "1.5.0",
       "_model_name": "ProgressStyleModel",
       "_view_count": null,
       "_view_module": "@jupyter-widgets/base",
       "_view_module_version": "1.2.0",
       "_view_name": "StyleView",
       "bar_color": null,
       "description_width": ""
      }
     },
     "3cdd98f28c534b31a39216f3813a0c2e": {
      "model_module": "@jupyter-widgets/controls",
      "model_module_version": "1.5.0",
      "model_name": "HTMLModel",
      "state": {
       "_dom_classes": [],
       "_model_module": "@jupyter-widgets/controls",
       "_model_module_version": "1.5.0",
       "_model_name": "HTMLModel",
       "_view_count": null,
       "_view_module": "@jupyter-widgets/controls",
       "_view_module_version": "1.5.0",
       "_view_name": "HTMLView",
       "description": "",
       "description_tooltip": null,
       "layout": "IPY_MODEL_1814c5b0d1ef4cfb96716e552e010700",
       "placeholder": "​",
       "style": "IPY_MODEL_a9662a3540f240dd91d3565fe182c07c",
       "value": "100%"
      }
     },
     "665f19263f2b4ef4912295e9dac22e82": {
      "model_module": "@jupyter-widgets/controls",
      "model_module_version": "1.5.0",
      "model_name": "DescriptionStyleModel",
      "state": {
       "_model_module": "@jupyter-widgets/controls",
       "_model_module_version": "1.5.0",
       "_model_name": "DescriptionStyleModel",
       "_view_count": null,
       "_view_module": "@jupyter-widgets/base",
       "_view_module_version": "1.2.0",
       "_view_name": "StyleView",
       "description_width": ""
      }
     },
     "8445e3b8938a47bb8b25b31c8f3e12ba": {
      "model_module": "@jupyter-widgets/base",
      "model_module_version": "1.2.0",
      "model_name": "LayoutModel",
      "state": {
       "_model_module": "@jupyter-widgets/base",
       "_model_module_version": "1.2.0",
       "_model_name": "LayoutModel",
       "_view_count": null,
       "_view_module": "@jupyter-widgets/base",
       "_view_module_version": "1.2.0",
       "_view_name": "LayoutView",
       "align_content": null,
       "align_items": null,
       "align_self": null,
       "border": null,
       "bottom": null,
       "display": null,
       "flex": null,
       "flex_flow": null,
       "grid_area": null,
       "grid_auto_columns": null,
       "grid_auto_flow": null,
       "grid_auto_rows": null,
       "grid_column": null,
       "grid_gap": null,
       "grid_row": null,
       "grid_template_areas": null,
       "grid_template_columns": null,
       "grid_template_rows": null,
       "height": null,
       "justify_content": null,
       "justify_items": null,
       "left": null,
       "margin": null,
       "max_height": null,
       "max_width": null,
       "min_height": null,
       "min_width": null,
       "object_fit": null,
       "object_position": null,
       "order": null,
       "overflow": null,
       "overflow_x": null,
       "overflow_y": null,
       "padding": null,
       "right": null,
       "top": null,
       "visibility": null,
       "width": null
      }
     },
     "874329ec360d42499334cffe94d116f6": {
      "model_module": "@jupyter-widgets/base",
      "model_module_version": "1.2.0",
      "model_name": "LayoutModel",
      "state": {
       "_model_module": "@jupyter-widgets/base",
       "_model_module_version": "1.2.0",
       "_model_name": "LayoutModel",
       "_view_count": null,
       "_view_module": "@jupyter-widgets/base",
       "_view_module_version": "1.2.0",
       "_view_name": "LayoutView",
       "align_content": null,
       "align_items": null,
       "align_self": null,
       "border": null,
       "bottom": null,
       "display": null,
       "flex": null,
       "flex_flow": null,
       "grid_area": null,
       "grid_auto_columns": null,
       "grid_auto_flow": null,
       "grid_auto_rows": null,
       "grid_column": null,
       "grid_gap": null,
       "grid_row": null,
       "grid_template_areas": null,
       "grid_template_columns": null,
       "grid_template_rows": null,
       "height": null,
       "justify_content": null,
       "justify_items": null,
       "left": null,
       "margin": null,
       "max_height": null,
       "max_width": null,
       "min_height": null,
       "min_width": null,
       "object_fit": null,
       "object_position": null,
       "order": null,
       "overflow": null,
       "overflow_x": null,
       "overflow_y": null,
       "padding": null,
       "right": null,
       "top": null,
       "visibility": null,
       "width": null
      }
     },
     "9935bebec1d84c9eb3f5297e060b361f": {
      "model_module": "@jupyter-widgets/controls",
      "model_module_version": "1.5.0",
      "model_name": "HBoxModel",
      "state": {
       "_dom_classes": [],
       "_model_module": "@jupyter-widgets/controls",
       "_model_module_version": "1.5.0",
       "_model_name": "HBoxModel",
       "_view_count": null,
       "_view_module": "@jupyter-widgets/controls",
       "_view_module_version": "1.5.0",
       "_view_name": "HBoxView",
       "box_style": "",
       "children": [
        "IPY_MODEL_3cdd98f28c534b31a39216f3813a0c2e",
        "IPY_MODEL_bb8d526e0c2c431da42ca83c816dada4",
        "IPY_MODEL_f4007c2dbb6c437f87be6c00a86dfa78"
       ],
       "layout": "IPY_MODEL_874329ec360d42499334cffe94d116f6"
      }
     },
     "a9662a3540f240dd91d3565fe182c07c": {
      "model_module": "@jupyter-widgets/controls",
      "model_module_version": "1.5.0",
      "model_name": "DescriptionStyleModel",
      "state": {
       "_model_module": "@jupyter-widgets/controls",
       "_model_module_version": "1.5.0",
       "_model_name": "DescriptionStyleModel",
       "_view_count": null,
       "_view_module": "@jupyter-widgets/base",
       "_view_module_version": "1.2.0",
       "_view_name": "StyleView",
       "description_width": ""
      }
     },
     "bb8d526e0c2c431da42ca83c816dada4": {
      "model_module": "@jupyter-widgets/controls",
      "model_module_version": "1.5.0",
      "model_name": "FloatProgressModel",
      "state": {
       "_dom_classes": [],
       "_model_module": "@jupyter-widgets/controls",
       "_model_module_version": "1.5.0",
       "_model_name": "FloatProgressModel",
       "_view_count": null,
       "_view_module": "@jupyter-widgets/controls",
       "_view_module_version": "1.5.0",
       "_view_name": "ProgressView",
       "bar_style": "success",
       "description": "",
       "description_tooltip": null,
       "layout": "IPY_MODEL_8445e3b8938a47bb8b25b31c8f3e12ba",
       "max": 102530333.0,
       "min": 0.0,
       "orientation": "horizontal",
       "style": "IPY_MODEL_34a07dc347954b0fa6800f7d06fc86a6",
       "value": 102530333.0
      }
     },
     "cdb14970473b4163b76cd7055b94cf4d": {
      "model_module": "@jupyter-widgets/base",
      "model_module_version": "1.2.0",
      "model_name": "LayoutModel",
      "state": {
       "_model_module": "@jupyter-widgets/base",
       "_model_module_version": "1.2.0",
       "_model_name": "LayoutModel",
       "_view_count": null,
       "_view_module": "@jupyter-widgets/base",
       "_view_module_version": "1.2.0",
       "_view_name": "LayoutView",
       "align_content": null,
       "align_items": null,
       "align_self": null,
       "border": null,
       "bottom": null,
       "display": null,
       "flex": null,
       "flex_flow": null,
       "grid_area": null,
       "grid_auto_columns": null,
       "grid_auto_flow": null,
       "grid_auto_rows": null,
       "grid_column": null,
       "grid_gap": null,
       "grid_row": null,
       "grid_template_areas": null,
       "grid_template_columns": null,
       "grid_template_rows": null,
       "height": null,
       "justify_content": null,
       "justify_items": null,
       "left": null,
       "margin": null,
       "max_height": null,
       "max_width": null,
       "min_height": null,
       "min_width": null,
       "object_fit": null,
       "object_position": null,
       "order": null,
       "overflow": null,
       "overflow_x": null,
       "overflow_y": null,
       "padding": null,
       "right": null,
       "top": null,
       "visibility": null,
       "width": null
      }
     },
     "f4007c2dbb6c437f87be6c00a86dfa78": {
      "model_module": "@jupyter-widgets/controls",
      "model_module_version": "1.5.0",
      "model_name": "HTMLModel",
      "state": {
       "_dom_classes": [],
       "_model_module": "@jupyter-widgets/controls",
       "_model_module_version": "1.5.0",
       "_model_name": "HTMLModel",
       "_view_count": null,
       "_view_module": "@jupyter-widgets/controls",
       "_view_module_version": "1.5.0",
       "_view_name": "HTMLView",
       "description": "",
       "description_tooltip": null,
       "layout": "IPY_MODEL_cdb14970473b4163b76cd7055b94cf4d",
       "placeholder": "​",
       "style": "IPY_MODEL_665f19263f2b4ef4912295e9dac22e82",
       "value": " 97.8M/97.8M [00:02&lt;00:00, 56.0MB/s]"
      }
     }
    },
    "version_major": 2,
    "version_minor": 0
   }
  }
 },
 "nbformat": 4,
 "nbformat_minor": 5
}
