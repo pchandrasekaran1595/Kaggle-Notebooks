{
 "cells": [
  {
   "cell_type": "markdown",
   "id": "66b4d64e",
   "metadata": {
    "papermill": {
     "duration": 0.015195,
     "end_time": "2022-03-23T12:11:02.849476",
     "exception": false,
     "start_time": "2022-03-23T12:11:02.834281",
     "status": "completed"
    },
    "tags": []
   },
   "source": [
    "### **Library Imports**"
   ]
  },
  {
   "cell_type": "code",
   "execution_count": 1,
   "id": "fe1fe850",
   "metadata": {
    "execution": {
     "iopub.execute_input": "2022-03-23T12:11:02.884354Z",
     "iopub.status.busy": "2022-03-23T12:11:02.882480Z",
     "iopub.status.idle": "2022-03-23T12:11:05.493793Z",
     "shell.execute_reply": "2022-03-23T12:11:05.494332Z",
     "shell.execute_reply.started": "2022-03-22T13:23:36.109879Z"
    },
    "papermill": {
     "duration": 2.630672,
     "end_time": "2022-03-23T12:11:05.494589",
     "exception": false,
     "start_time": "2022-03-23T12:11:02.863917",
     "status": "completed"
    },
    "tags": []
   },
   "outputs": [],
   "source": [
    "import os\n",
    "import re\n",
    "import cv2\n",
    "import torch\n",
    "import pickle\n",
    "import numpy as np\n",
    "import pandas as pd\n",
    "import matplotlib.pyplot as plt\n",
    "\n",
    "from time import time\n",
    "from torch import nn, optim\n",
    "from torch.utils.data import Dataset\n",
    "from torch.utils.data import DataLoader as DL\n",
    "from torch.nn.utils import weight_norm as WN\n",
    "from torchvision import models, transforms\n",
    "\n",
    "from sklearn.model_selection import StratifiedKFold\n",
    "from sklearn.preprocessing import StandardScaler, LabelEncoder"
   ]
  },
  {
   "cell_type": "markdown",
   "id": "70826c76",
   "metadata": {
    "papermill": {
     "duration": 0.01376,
     "end_time": "2022-03-23T12:11:05.522701",
     "exception": false,
     "start_time": "2022-03-23T12:11:05.508941",
     "status": "completed"
    },
    "tags": []
   },
   "source": [
    "### **Utilities and Constants**"
   ]
  },
  {
   "cell_type": "code",
   "execution_count": 2,
   "id": "cf3c1956",
   "metadata": {
    "execution": {
     "iopub.execute_input": "2022-03-23T12:11:05.607883Z",
     "iopub.status.busy": "2022-03-23T12:11:05.553883Z",
     "iopub.status.idle": "2022-03-23T12:11:05.610843Z",
     "shell.execute_reply": "2022-03-23T12:11:05.610085Z",
     "shell.execute_reply.started": "2022-03-22T13:23:36.837402Z"
    },
    "papermill": {
     "duration": 0.074465,
     "end_time": "2022-03-23T12:11:05.610969",
     "exception": false,
     "start_time": "2022-03-23T12:11:05.536504",
     "status": "completed"
    },
    "tags": []
   },
   "outputs": [],
   "source": [
    "# le = LabelEncoder()\n",
    "\n",
    "SEED = 42\n",
    "SIZE = 512\n",
    "DEVICE = torch.device(\"cuda\" if torch.cuda.is_available() else \"cpu\")\n",
    "\n",
    "TRANSFORM_FINAL = transforms.Compose([transforms.ToTensor(), transforms.Normalize([0.485, 0.456, 0.406], [0.229, 0.224, 0.225])])\n",
    "TRANSFORM = transforms.Compose([transforms.ToTensor(), transforms.Normalize([0.43032, 0.49672, 0.31341], [0.21288, 0.21768, 0.19433])])\n",
    "\n",
    "SAVE_PATH = \"saves\"\n",
    "if not os.path.exists(SAVE_PATH):\n",
    "    os.makedirs(SAVE_PATH)"
   ]
  },
  {
   "cell_type": "code",
   "execution_count": 3,
   "id": "e7926389",
   "metadata": {
    "execution": {
     "iopub.execute_input": "2022-03-23T12:11:05.651799Z",
     "iopub.status.busy": "2022-03-23T12:11:05.650242Z",
     "iopub.status.idle": "2022-03-23T12:11:05.652383Z",
     "shell.execute_reply": "2022-03-23T12:11:05.652791Z",
     "shell.execute_reply.started": "2022-03-22T13:23:39.445919Z"
    },
    "papermill": {
     "duration": 0.027798,
     "end_time": "2022-03-23T12:11:05.652908",
     "exception": false,
     "start_time": "2022-03-23T12:11:05.625110",
     "status": "completed"
    },
    "tags": []
   },
   "outputs": [],
   "source": [
    "def breaker(num: int = 50, char: str = \"*\") -> None:\n",
    "    print(\"\\n\" + num*char + \"\\n\")\n",
    "\n",
    "\n",
    "def show_graphs(L: list, A: list) -> None:\n",
    "    TL, VL, TA, VA = [], [], [], []\n",
    "    for i in range(len(L)):\n",
    "        TL.append(L[i][\"train\"])\n",
    "        VL.append(L[i][\"valid\"])\n",
    "        TA.append(A[i][\"train\"])\n",
    "        VA.append(A[i][\"valid\"])\n",
    "    x_Axis = np.arange(1, len(TL) + 1)\n",
    "    plt.figure(figsize=(8, 6))\n",
    "    plt.subplot(1, 2, 1)\n",
    "    plt.plot(x_Axis, TL, \"r\", label=\"Train\")\n",
    "    plt.plot(x_Axis, VL, \"b\", label=\"Valid\")\n",
    "    plt.legend()\n",
    "    plt.grid()\n",
    "    plt.title(\"Loss Graph\")\n",
    "    plt.subplot(1, 2, 2)\n",
    "    plt.plot(x_Axis, TA, \"r\", label=\"Train\")\n",
    "    plt.plot(x_Axis, VA, \"b\", label=\"Valid\")\n",
    "    plt.legend()\n",
    "    plt.grid()\n",
    "    plt.title(\"Accuracy Graph\")\n",
    "    plt.show()\n",
    "\n",
    "    \n",
    "# def load_image(path: str, size: int, make_rgb: bool=False) -> np.ndarray:\n",
    "#     image = cv2.imread(path, cv2.IMREAD_COLOR).astype(\"uint8\")\n",
    "#     if make_rgb:\n",
    "#         image = cv2.cvtColor(src=image, code=cv2.COLOR_BGR2RGB)\n",
    "#     image = cv2.resize(src=image, dsize=(size, size), interpolation=cv2.INTER_AREA)\n",
    "#     return image\n",
    "\n",
    "\n",
    "def load_image(path: str, size: int) -> np.ndarray:\n",
    "    image = cv2.imread(path, cv2.IMREAD_COLOR)\n",
    "    image = cv2.cvtColor(src=image, code=cv2.COLOR_BGR2RGB)\n",
    "    image = cv2.resize(src=image, dsize=(size, size), interpolation=cv2.INTER_AREA)\n",
    "    return image\n",
    "\n",
    "\n",
    "# def show_image(image: np.ndarray, cmap: str = \"gnuplot2\") -> None:\n",
    "#     plt.figure()\n",
    "#     plt.imshow(image, cmap=cmap)\n",
    "#     plt.axis(\"off\")\n",
    "#     plt.show()"
   ]
  },
  {
   "cell_type": "markdown",
   "id": "64fda6d9",
   "metadata": {
    "papermill": {
     "duration": 0.013734,
     "end_time": "2022-03-23T12:11:05.680382",
     "exception": false,
     "start_time": "2022-03-23T12:11:05.666648",
     "status": "completed"
    },
    "tags": []
   },
   "source": [
    "### **Dataset Template**"
   ]
  },
  {
   "cell_type": "code",
   "execution_count": 4,
   "id": "86ddee34",
   "metadata": {
    "execution": {
     "iopub.execute_input": "2022-03-23T12:11:05.716745Z",
     "iopub.status.busy": "2022-03-23T12:11:05.716079Z",
     "iopub.status.idle": "2022-03-23T12:11:05.719123Z",
     "shell.execute_reply": "2022-03-23T12:11:05.718707Z",
     "shell.execute_reply.started": "2022-03-22T13:23:40.264368Z"
    },
    "papermill": {
     "duration": 0.025038,
     "end_time": "2022-03-23T12:11:05.719230",
     "exception": false,
     "start_time": "2022-03-23T12:11:05.694192",
     "status": "completed"
    },
    "tags": []
   },
   "outputs": [],
   "source": [
    "class DS(Dataset):\n",
    "    def __init__(self, base_path: str, filenames: np.ndarray, labels: np.ndarray = None, mode: str = \"train\", transform = None):\n",
    "\n",
    "        assert re.match(r\"^train$\", mode, re.IGNORECASE) or re.match(r\"^valid$\", mode, re.IGNORECASE) or re.match(r\"^test$\", mode, re.IGNORECASE), \"Invalid Mode\"\n",
    "        \n",
    "        self.mode = mode\n",
    "        self.base_path = base_path\n",
    "        self.filenames = filenames\n",
    "        self.transform = transform\n",
    "\n",
    "        if re.match(r\"^train$\", mode, re.IGNORECASE) or re.match(r\"^valid$\", mode, re.IGNORECASE):\n",
    "            self.labels = labels\n",
    "\n",
    "    def __len__(self):\n",
    "        return self.filenames.shape[0]\n",
    "\n",
    "    def __getitem__(self, idx):\n",
    "        image = load_image(os.path.join(self.base_path, self.filenames[idx]), SIZE)\n",
    "        if re.match(r\"^train$\", self.mode, re.IGNORECASE) or re.match(r\"^valid$\", self.mode, re.IGNORECASE):\n",
    "            return self.transform(image), torch.LongTensor(self.labels[idx])\n",
    "        else:\n",
    "            return self.transform(image)"
   ]
  },
  {
   "cell_type": "markdown",
   "id": "e078cdb1",
   "metadata": {
    "papermill": {
     "duration": 0.013684,
     "end_time": "2022-03-23T12:11:05.746822",
     "exception": false,
     "start_time": "2022-03-23T12:11:05.733138",
     "status": "completed"
    },
    "tags": []
   },
   "source": [
    "### **Model**"
   ]
  },
  {
   "cell_type": "code",
   "execution_count": 5,
   "id": "2e2b9de8",
   "metadata": {
    "execution": {
     "iopub.execute_input": "2022-03-23T12:11:05.908394Z",
     "iopub.status.busy": "2022-03-23T12:11:05.907537Z",
     "iopub.status.idle": "2022-03-23T12:11:05.910380Z",
     "shell.execute_reply": "2022-03-23T12:11:05.909713Z",
     "shell.execute_reply.started": "2022-03-22T13:27:31.073374Z"
    },
    "papermill": {
     "duration": 0.149716,
     "end_time": "2022-03-23T12:11:05.910507",
     "exception": false,
     "start_time": "2022-03-23T12:11:05.760791",
     "status": "completed"
    },
    "tags": []
   },
   "outputs": [],
   "source": [
    "class CNN(nn.Module):\n",
    "    def __init__(self, mode: str, model_name: str):\n",
    "        \n",
    "        super(CNN, self).__init__()\n",
    "        \n",
    "        self.model_name = model_name\n",
    "        self.mode = mode\n",
    "        \n",
    "        if re.match(r\"^vgg$\", self.model_name, re.IGNORECASE):\n",
    "            if re.match(r\"^full$\", self.mode, re.IGNORECASE):\n",
    "                self.model = models.vgg16_bn(pretrained=False, progress=True)\n",
    "                self.model.classifier[-1] = nn.Linear(in_features=self.model.classifier[-1].in_features, out_features=10)\n",
    "            elif re.match(r\"^semi$\", self.mode, re.IGNORECASE) or re.match(r\"^final$\", self.mode, re.IGNORECASE):\n",
    "                self.model = models.vgg16_bn(pretrained=True, progress=True)\n",
    "                self.freeze()\n",
    "                self.model.classifier[-1] = nn.Linear(in_features=self.model.classifier[-1].in_features, out_features=10)\n",
    "            \n",
    "        elif re.match(r\"^resnet$\", self.model_name, re.IGNORECASE):\n",
    "            if re.match(r\"^full$\", self.mode, re.IGNORECASE):\n",
    "                self.model = models.resnet50(pretrained=False, progress=True)\n",
    "                self.model.fc = nn.Linear(in_features=self.model.fc.in_features, out_features=10)\n",
    "            elif re.match(r\"^semi$\", self.mode, re.IGNORECASE) or re.match(r\"^final$\", self.mode, re.IGNORECASE):\n",
    "                self.model = models.resnet50(pretrained=True, progress=True)\n",
    "                self.freeze()\n",
    "                self.model.fc = nn.Linear(in_features=self.model.fc.in_features, out_features=10)\n",
    "        \n",
    "        elif re.match(r\"^densenet$\", self.model_name, re.IGNORECASE):\n",
    "            if re.match(r\"^full$\", self.mode, re.IGNORECASE):\n",
    "                self.model = models.densenet169(pretrained=False, progress=True)\n",
    "                self.model.classifier = nn.Linear(in_features=self.model.classifier.in_features, out_features=10)\n",
    "            elif re.match(r\"^semi$\", self.mode, re.IGNORECASE) or re.match(r\"^final$\", self.mode, re.IGNORECASE):\n",
    "                self.model = models.densenet169(pretrained=True, progress=True)\n",
    "                self.freeze()\n",
    "                self.model.classifier = nn.Linear(in_features=self.model.classifier.in_features, out_features=10)\n",
    "        \n",
    "        elif re.match(r\"^mobilenet$\", self.model_name, re.IGNORECASE):\n",
    "            if re.match(r\"^full$\", self.mode, re.IGNORECASE):\n",
    "                self.model = models.mobilenet_v3_small(pretrained=False, progress=True)\n",
    "                self.model.classifier[-1] = nn.Linear(in_features=self.model.classifier[-1].in_features, out_features=10)\n",
    "            elif re.match(r\"^semi$\", self.mode, re.IGNORECASE) or re.match(r\"^final$\", self.mode, re.IGNORECASE):\n",
    "                self.model = models.mobilenet_v3_small(pretrained=True, progress=True)\n",
    "                self.freeze()\n",
    "                self.model.classifier[-1] = nn.Linear(in_features=self.model.classifier[-1].in_features, out_features=10)\n",
    "\n",
    "    def freeze(self):\n",
    "        for params in self.parameters():\n",
    "            params.requires_grad = False\n",
    "\n",
    "        if re.match(r\"^vgg$\", self.model_name, re.IGNORECASE):\n",
    "            if re.match(r\"^semi$\", self.mode, re.IGNORECASE):\n",
    "                for names, params in self.named_parameters():\n",
    "                    if re.match(r\".*features.3[4-9].*\", names, re.IGNORECASE) or re.match(r\".*features.4[0-9].*\", names, re.IGNORECASE) or re.match(r\".*classifier.*\", names, re.IGNORECASE):\n",
    "                        params.requires_grad = True\n",
    "        \n",
    "        elif re.match(r\"^resnet$\", self.model_name, re.IGNORECASE):\n",
    "            if re.match(r\"^semi$\", self.mode, re.IGNORECASE):\n",
    "                for names, params in self.named_parameters():\n",
    "                    if re.match(r\".*layer4.*\", names, re.IGNORECASE):\n",
    "                        params.requires_grad = True\n",
    "        \n",
    "        elif re.match(r\"^densenet$\", self.model_name, re.IGNORECASE):\n",
    "            if re.match(r\"^semi$\", self.mode, re.IGNORECASE):\n",
    "                for names, params in self.named_parameters():\n",
    "                    if re.match(r\".*denseblock4.*\", names, re.IGNORECASE) or re.match(r\".*norm5.*\", names, re.IGNORECASE):\n",
    "                        params.requires_grad = True\n",
    "        \n",
    "        elif re.match(r\"^mobilenet$\", self.model_name, re.IGNORECASE):\n",
    "            if re.match(r\"^semi$\", self.mode, re.IGNORECASE):\n",
    "                for names, params in self.named_parameters():\n",
    "                    if re.match(r\".*features.9.*\", names, re.IGNORECASE) or re.match(r\".*features.1[0-2].*\", names, re.IGNORECASE) or re.match(r\".*classifier.*\", names, re.IGNORECASE):\n",
    "                        params.requires_grad = True\n",
    "    \n",
    "    def get_optimizer(self, lr=1e-3, wd=0.0):\n",
    "        params = [p for p in self.parameters() if p.requires_grad]\n",
    "        return optim.Adam(params, lr=lr, weight_decay=wd)\n",
    "\n",
    "    def get_plateau_scheduler(self, optimizer=None, patience=5, eps=1e-8):\n",
    "        return optim.lr_scheduler.ReduceLROnPlateau(optimizer=optimizer, patience=patience, eps=eps)\n",
    "    \n",
    "    def forward(self, x):\n",
    "        return nn.LogSoftmax(dim=1)(self.model(x))"
   ]
  },
  {
   "cell_type": "markdown",
   "id": "622e625b",
   "metadata": {
    "papermill": {
     "duration": 0.013733,
     "end_time": "2022-03-23T12:11:05.938353",
     "exception": false,
     "start_time": "2022-03-23T12:11:05.924620",
     "status": "completed"
    },
    "tags": []
   },
   "source": [
    "### **Fit and Predict Helpers**"
   ]
  },
  {
   "cell_type": "code",
   "execution_count": 6,
   "id": "33243ec7",
   "metadata": {
    "execution": {
     "iopub.execute_input": "2022-03-23T12:11:05.985274Z",
     "iopub.status.busy": "2022-03-23T12:11:05.984556Z",
     "iopub.status.idle": "2022-03-23T12:11:05.987276Z",
     "shell.execute_reply": "2022-03-23T12:11:05.986826Z",
     "shell.execute_reply.started": "2022-03-22T13:23:41.716556Z"
    },
    "papermill": {
     "duration": 0.03512,
     "end_time": "2022-03-23T12:11:05.987385",
     "exception": false,
     "start_time": "2022-03-23T12:11:05.952265",
     "status": "completed"
    },
    "tags": []
   },
   "outputs": [],
   "source": [
    "def fit(model=None, optimizer=None, scheduler=None, epochs=None, early_stopping_patience=None, dataloaders=None, verbose=False) -> tuple:\n",
    "    \n",
    "    def get_accuracy(y_pred, y_true):\n",
    "        y_pred = torch.argmax(y_pred, dim=1)\n",
    "        return torch.count_nonzero(y_pred == y_true).item() / len(y_pred)\n",
    "    \n",
    "    if verbose:\n",
    "        breaker()\n",
    "        print(f\"Training ...\")\n",
    "        breaker()\n",
    "\n",
    "    bestLoss, bestAccs = {\"train\" : np.inf, \"valid\" : np.inf}, {\"train\" : 0.0, \"valid\" : 0.0}\n",
    "    Losses, Accuracies = [], []\n",
    "    name = f\"state.pt\"\n",
    "\n",
    "    start_time = time()\n",
    "    for e in range(epochs):\n",
    "        e_st = time()\n",
    "        epochLoss, epochAccs = {\"train\" : 0.0, \"valid\" : 0.0}, {\"train\" : 0.0, \"valid\" : 0.0}\n",
    "\n",
    "        for phase in [\"train\", \"valid\"]:\n",
    "            if phase == \"train\":\n",
    "                model.train()\n",
    "            else:\n",
    "                model.eval()\n",
    "            \n",
    "            lossPerPass, accsPerPass = [], []\n",
    "\n",
    "            for X, y in dataloaders[phase]:\n",
    "                X, y = X.to(DEVICE), y.to(DEVICE).view(-1)\n",
    "\n",
    "                optimizer.zero_grad()\n",
    "                with torch.set_grad_enabled(phase == \"train\"):\n",
    "                    output = model(X)\n",
    "                    loss = torch.nn.NLLLoss()(output, y)\n",
    "                    if phase == \"train\":\n",
    "                        loss.backward()\n",
    "                        optimizer.step()\n",
    "                lossPerPass.append(loss.item())\n",
    "                accsPerPass.append(get_accuracy(output, y))\n",
    "            epochLoss[phase] = np.mean(np.array(lossPerPass))\n",
    "            epochAccs[phase] = np.mean(np.array(accsPerPass))\n",
    "        Losses.append(epochLoss)\n",
    "        Accuracies.append(epochAccs)\n",
    "\n",
    "        if early_stopping_patience:\n",
    "            if epochLoss[\"valid\"] < bestLoss[\"valid\"]:\n",
    "                bestLoss = epochLoss\n",
    "                BLE = e + 1\n",
    "                torch.save({\"model_state_dict\": model.state_dict(),\n",
    "                            \"optim_state_dict\": optimizer.state_dict()},\n",
    "                           os.path.join(SAVE_PATH, name))\n",
    "                early_stopping_step = 0\n",
    "            else:\n",
    "                early_stopping_step += 1\n",
    "                if early_stopping_step > early_stopping_patience:\n",
    "                    print(\"\\nEarly Stopping at Epoch {}\".format(e + 1))\n",
    "                    break\n",
    "        \n",
    "        if epochLoss[\"valid\"] < bestLoss[\"valid\"]:\n",
    "            bestLoss = epochLoss\n",
    "            BLE = e + 1\n",
    "            torch.save({\"model_state_dict\" : model.state_dict(),\n",
    "                        \"optim_state_dict\" : optimizer.state_dict()},\n",
    "                        os.path.join(SAVE_PATH, name))\n",
    "        \n",
    "        if epochAccs[\"valid\"] > bestAccs[\"valid\"]:\n",
    "            bestAccs = epochAccs\n",
    "            BAE = e + 1\n",
    "        \n",
    "        if scheduler:\n",
    "            scheduler.step(epochLoss[\"valid\"])\n",
    "        \n",
    "        if verbose:\n",
    "            print(\"Epoch: {} | Train Loss: {:.5f} | Valid Loss: {:.5f} |\\\n",
    "Train Accs: {:.5f} | Valid Accs: {:.5f} | Time: {:.2f} seconds\".format(e+1, \n",
    "                                                                       epochLoss[\"train\"], epochLoss[\"valid\"], \n",
    "                                                                       epochAccs[\"train\"], epochAccs[\"valid\"], \n",
    "                                                                       time()-e_st))\n",
    "\n",
    "    if verbose:                                           \n",
    "        breaker()\n",
    "        print(f\"Best Validation Loss at Epoch {BLE}\")\n",
    "        breaker()\n",
    "        print(f\"Best Validation Accs at Epoch {BAE}\")\n",
    "        breaker()\n",
    "        print(\"Time Taken [{} Epochs] : {:.2f} minutes\".format(len(Losses), (time()-start_time)/60))\n",
    "        breaker()\n",
    "        print(\"Training Completed\")\n",
    "        breaker()\n",
    "\n",
    "    return Losses, Accuracies, BLE, BAE, name\n",
    "\n",
    "\n",
    "# def predict(model=None, dataloader=None, path=None) -> np.ndarray:\n",
    "#     model.load_state_dict(torch.load(path, map_location=DEVICE)[\"model_state_dict\"])\n",
    "#     model.to(DEVICE)    \n",
    "#     model.eval()\n",
    "    \n",
    "#     y_pred = torch.zeros(1, 1).to(DEVICE)\n",
    "    \n",
    "#     for X in dataloader:\n",
    "#         X = X.to(DEVICE)\n",
    "#         with torch.no_grad():\n",
    "#             output = torch.argmax(torch.exp(model(X)), dim=1)\n",
    "#         y_pred = torch.cat((y_pred, output.view(-1, 1)), dim=0)\n",
    "    \n",
    "#     return y_pred[1:].detach().cpu().numpy()"
   ]
  },
  {
   "cell_type": "markdown",
   "id": "b3dcbcf7",
   "metadata": {
    "papermill": {
     "duration": 0.013949,
     "end_time": "2022-03-23T12:11:06.015129",
     "exception": false,
     "start_time": "2022-03-23T12:11:06.001180",
     "status": "completed"
    },
    "tags": []
   },
   "source": [
    "### **Params**"
   ]
  },
  {
   "cell_type": "code",
   "execution_count": 7,
   "id": "5ca0e249",
   "metadata": {
    "execution": {
     "iopub.execute_input": "2022-03-23T12:11:06.048258Z",
     "iopub.status.busy": "2022-03-23T12:11:06.047491Z",
     "iopub.status.idle": "2022-03-23T12:11:06.049497Z",
     "shell.execute_reply": "2022-03-23T12:11:06.049855Z",
     "shell.execute_reply.started": "2022-03-22T13:26:39.718434Z"
    },
    "papermill": {
     "duration": 0.021095,
     "end_time": "2022-03-23T12:11:06.049971",
     "exception": false,
     "start_time": "2022-03-23T12:11:06.028876",
     "status": "completed"
    },
    "tags": []
   },
   "outputs": [],
   "source": [
    "DEBUG: bool = False\n",
    "    \n",
    "if DEBUG:\n",
    "    n_splits = 3\n",
    "    epochs = 2\n",
    "    mode = \"semi\"\n",
    "    model_name = \"mobilenet\"\n",
    "else:\n",
    "    n_splits = 25\n",
    "    epochs = 250\n",
    "    mode = \"semi\"\n",
    "    model_name = \"resnet\"\n",
    "\n",
    "batch_size = 128\n",
    "lr = 1e-6\n",
    "wd = 1e-5\n",
    "early_stopping = 5\n",
    "patience = None\n",
    "eps = None"
   ]
  },
  {
   "cell_type": "markdown",
   "id": "d3f0114a",
   "metadata": {
    "papermill": {
     "duration": 0.013724,
     "end_time": "2022-03-23T12:11:06.077479",
     "exception": false,
     "start_time": "2022-03-23T12:11:06.063755",
     "status": "completed"
    },
    "tags": []
   },
   "source": [
    "### **Load & Preprocess Data**"
   ]
  },
  {
   "cell_type": "code",
   "execution_count": 8,
   "id": "5eb1f124",
   "metadata": {
    "execution": {
     "iopub.execute_input": "2022-03-23T12:11:06.109855Z",
     "iopub.status.busy": "2022-03-23T12:11:06.109371Z",
     "iopub.status.idle": "2022-03-23T12:11:06.136907Z",
     "shell.execute_reply": "2022-03-23T12:11:06.137606Z",
     "shell.execute_reply.started": "2022-03-22T13:27:37.421841Z"
    },
    "papermill": {
     "duration": 0.046307,
     "end_time": "2022-03-23T12:11:06.137725",
     "exception": false,
     "start_time": "2022-03-23T12:11:06.091418",
     "status": "completed"
    },
    "tags": []
   },
   "outputs": [],
   "source": [
    "start_time = time()\n",
    "\n",
    "train_df = pd.read_csv(\"../input/cassava-leaf-disease-classification/train.csv\")\n",
    "train_df.head()\n",
    "\n",
    "filenames = train_df.iloc[:, 0].copy().values\n",
    "labels = train_df.iloc[:, -1].copy().values"
   ]
  },
  {
   "cell_type": "markdown",
   "id": "8d515425",
   "metadata": {
    "papermill": {
     "duration": 0.014815,
     "end_time": "2022-03-23T12:11:06.166650",
     "exception": false,
     "start_time": "2022-03-23T12:11:06.151835",
     "status": "completed"
    },
    "tags": []
   },
   "source": [
    "### **Train**"
   ]
  },
  {
   "cell_type": "code",
   "execution_count": 9,
   "id": "385f51da",
   "metadata": {
    "execution": {
     "iopub.execute_input": "2022-03-23T12:11:06.208119Z",
     "iopub.status.busy": "2022-03-23T12:11:06.206028Z",
     "iopub.status.idle": "2022-03-23T22:29:12.537443Z",
     "shell.execute_reply": "2022-03-23T22:29:12.537858Z",
     "shell.execute_reply.started": "2022-03-22T13:27:38.02605Z"
    },
    "papermill": {
     "duration": 37086.357201,
     "end_time": "2022-03-23T22:29:12.538021",
     "exception": false,
     "start_time": "2022-03-23T12:11:06.180820",
     "status": "completed"
    },
    "tags": []
   },
   "outputs": [
    {
     "name": "stderr",
     "output_type": "stream",
     "text": [
      "Downloading: \"https://download.pytorch.org/models/resnet50-0676ba61.pth\" to /root/.cache/torch/hub/checkpoints/resnet50-0676ba61.pth\n"
     ]
    },
    {
     "data": {
      "application/vnd.jupyter.widget-view+json": {
       "model_id": "ee9e291897e9409a85596907d30becf4",
       "version_major": 2,
       "version_minor": 0
      },
      "text/plain": [
       "  0%|          | 0.00/97.8M [00:00<?, ?B/s]"
      ]
     },
     "metadata": {},
     "output_type": "display_data"
    },
    {
     "name": "stdout",
     "output_type": "stream",
     "text": [
      "\n",
      "**************************************************\n",
      "\n",
      "Training ...\n",
      "\n",
      "**************************************************\n",
      "\n",
      "Epoch: 1 | Train Loss: 2.07913 | Valid Loss: 1.92071 |Train Accs: 0.27903 | Valid Accs: 0.55743 | Time: 781.45 seconds\n",
      "Epoch: 2 | Train Loss: 1.77189 | Valid Loss: 1.60084 |Train Accs: 0.62975 | Valid Accs: 0.67461 | Time: 622.53 seconds\n",
      "Epoch: 3 | Train Loss: 1.47503 | Valid Loss: 1.33112 |Train Accs: 0.68991 | Valid Accs: 0.71013 | Time: 632.75 seconds\n",
      "Epoch: 4 | Train Loss: 1.22503 | Valid Loss: 1.14734 |Train Accs: 0.72733 | Valid Accs: 0.74635 | Time: 634.17 seconds\n",
      "Epoch: 5 | Train Loss: 1.03476 | Valid Loss: 0.97703 |Train Accs: 0.75317 | Valid Accs: 0.77476 | Time: 634.07 seconds\n",
      "Epoch: 6 | Train Loss: 0.90207 | Valid Loss: 0.86708 |Train Accs: 0.77135 | Valid Accs: 0.78967 | Time: 637.25 seconds\n",
      "Epoch: 7 | Train Loss: 0.80645 | Valid Loss: 0.77947 |Train Accs: 0.78417 | Valid Accs: 0.80854 | Time: 634.28 seconds\n",
      "Epoch: 8 | Train Loss: 0.73898 | Valid Loss: 0.71547 |Train Accs: 0.79615 | Valid Accs: 0.81463 | Time: 622.20 seconds\n",
      "Epoch: 9 | Train Loss: 0.68675 | Valid Loss: 0.68193 |Train Accs: 0.80460 | Valid Accs: 0.81463 | Time: 631.56 seconds\n",
      "Epoch: 10 | Train Loss: 0.64799 | Valid Loss: 0.64903 |Train Accs: 0.81494 | Valid Accs: 0.82244 | Time: 635.52 seconds\n",
      "Epoch: 11 | Train Loss: 0.61593 | Valid Loss: 0.60687 |Train Accs: 0.81918 | Valid Accs: 0.82194 | Time: 624.81 seconds\n",
      "Epoch: 12 | Train Loss: 0.58774 | Valid Loss: 0.59360 |Train Accs: 0.82383 | Valid Accs: 0.83127 | Time: 624.68 seconds\n",
      "Epoch: 13 | Train Loss: 0.56262 | Valid Loss: 0.57466 |Train Accs: 0.83051 | Valid Accs: 0.83787 | Time: 620.38 seconds\n",
      "Epoch: 14 | Train Loss: 0.54278 | Valid Loss: 0.55368 |Train Accs: 0.83400 | Valid Accs: 0.83898 | Time: 626.38 seconds\n",
      "Epoch: 15 | Train Loss: 0.52388 | Valid Loss: 0.53967 |Train Accs: 0.83839 | Valid Accs: 0.83959 | Time: 622.24 seconds\n",
      "Epoch: 16 | Train Loss: 0.50780 | Valid Loss: 0.53013 |Train Accs: 0.84188 | Valid Accs: 0.84953 | Time: 623.67 seconds\n",
      "Epoch: 17 | Train Loss: 0.49457 | Valid Loss: 0.51658 |Train Accs: 0.84477 | Valid Accs: 0.85075 | Time: 621.97 seconds\n",
      "Epoch: 18 | Train Loss: 0.47927 | Valid Loss: 0.50591 |Train Accs: 0.84994 | Valid Accs: 0.85288 | Time: 629.97 seconds\n",
      "Epoch: 19 | Train Loss: 0.46847 | Valid Loss: 0.50002 |Train Accs: 0.85308 | Valid Accs: 0.85349 | Time: 637.99 seconds\n",
      "Epoch: 20 | Train Loss: 0.45986 | Valid Loss: 0.49125 |Train Accs: 0.85456 | Valid Accs: 0.85846 | Time: 627.63 seconds\n",
      "Epoch: 21 | Train Loss: 0.44821 | Valid Loss: 0.48299 |Train Accs: 0.85619 | Valid Accs: 0.85684 | Time: 624.27 seconds\n",
      "Epoch: 22 | Train Loss: 0.43940 | Valid Loss: 0.47203 |Train Accs: 0.85898 | Valid Accs: 0.85684 | Time: 624.36 seconds\n",
      "Epoch: 23 | Train Loss: 0.42766 | Valid Loss: 0.47081 |Train Accs: 0.86382 | Valid Accs: 0.86019 | Time: 634.13 seconds\n",
      "Epoch: 24 | Train Loss: 0.41962 | Valid Loss: 0.45865 |Train Accs: 0.86481 | Valid Accs: 0.86019 | Time: 636.33 seconds\n",
      "Epoch: 25 | Train Loss: 0.40933 | Valid Loss: 0.45605 |Train Accs: 0.86750 | Valid Accs: 0.86019 | Time: 628.00 seconds\n",
      "Epoch: 26 | Train Loss: 0.40483 | Valid Loss: 0.44847 |Train Accs: 0.86870 | Valid Accs: 0.86019 | Time: 624.03 seconds\n",
      "Epoch: 27 | Train Loss: 0.39663 | Valid Loss: 0.44583 |Train Accs: 0.87072 | Valid Accs: 0.86293 | Time: 627.35 seconds\n",
      "Epoch: 28 | Train Loss: 0.39056 | Valid Loss: 0.44126 |Train Accs: 0.87189 | Valid Accs: 0.86465 | Time: 623.94 seconds\n",
      "Epoch: 29 | Train Loss: 0.38175 | Valid Loss: 0.43428 |Train Accs: 0.87330 | Valid Accs: 0.86800 | Time: 626.33 seconds\n",
      "Epoch: 30 | Train Loss: 0.37537 | Valid Loss: 0.43174 |Train Accs: 0.87676 | Valid Accs: 0.86688 | Time: 622.25 seconds\n",
      "Epoch: 31 | Train Loss: 0.36718 | Valid Loss: 0.42817 |Train Accs: 0.87957 | Valid Accs: 0.86353 | Time: 631.71 seconds\n",
      "Epoch: 32 | Train Loss: 0.36187 | Valid Loss: 0.42734 |Train Accs: 0.88073 | Valid Accs: 0.86851 | Time: 630.80 seconds\n",
      "Epoch: 33 | Train Loss: 0.35508 | Valid Loss: 0.42264 |Train Accs: 0.88171 | Valid Accs: 0.87135 | Time: 627.78 seconds\n",
      "Epoch: 34 | Train Loss: 0.35168 | Valid Loss: 0.42243 |Train Accs: 0.88409 | Valid Accs: 0.87470 | Time: 629.92 seconds\n",
      "Epoch: 35 | Train Loss: 0.34478 | Valid Loss: 0.41783 |Train Accs: 0.88577 | Valid Accs: 0.87632 | Time: 626.63 seconds\n",
      "Epoch: 36 | Train Loss: 0.33882 | Valid Loss: 0.41873 |Train Accs: 0.88506 | Valid Accs: 0.87246 | Time: 614.97 seconds\n",
      "Epoch: 37 | Train Loss: 0.33343 | Valid Loss: 0.41271 |Train Accs: 0.88773 | Valid Accs: 0.87794 | Time: 619.71 seconds\n",
      "Epoch: 38 | Train Loss: 0.32693 | Valid Loss: 0.41144 |Train Accs: 0.88981 | Valid Accs: 0.87794 | Time: 618.78 seconds\n",
      "Epoch: 39 | Train Loss: 0.32139 | Valid Loss: 0.40805 |Train Accs: 0.89477 | Valid Accs: 0.87632 | Time: 617.43 seconds\n",
      "Epoch: 40 | Train Loss: 0.31730 | Valid Loss: 0.40786 |Train Accs: 0.89412 | Valid Accs: 0.87683 | Time: 615.36 seconds\n",
      "Epoch: 41 | Train Loss: 0.31040 | Valid Loss: 0.40724 |Train Accs: 0.89561 | Valid Accs: 0.87855 | Time: 624.46 seconds\n",
      "Epoch: 42 | Train Loss: 0.30656 | Valid Loss: 0.40629 |Train Accs: 0.89735 | Valid Accs: 0.87744 | Time: 617.06 seconds\n",
      "Epoch: 43 | Train Loss: 0.30038 | Valid Loss: 0.40536 |Train Accs: 0.89982 | Valid Accs: 0.87744 | Time: 628.23 seconds\n",
      "Epoch: 44 | Train Loss: 0.29750 | Valid Loss: 0.40372 |Train Accs: 0.89985 | Valid Accs: 0.88078 | Time: 627.06 seconds\n",
      "Epoch: 45 | Train Loss: 0.29060 | Valid Loss: 0.40612 |Train Accs: 0.90096 | Valid Accs: 0.88403 | Time: 624.77 seconds\n",
      "Epoch: 46 | Train Loss: 0.28508 | Valid Loss: 0.40371 |Train Accs: 0.90553 | Valid Accs: 0.88180 | Time: 629.42 seconds\n",
      "Epoch: 47 | Train Loss: 0.28131 | Valid Loss: 0.40136 |Train Accs: 0.90600 | Valid Accs: 0.88403 | Time: 624.12 seconds\n",
      "Epoch: 48 | Train Loss: 0.27648 | Valid Loss: 0.40067 |Train Accs: 0.90691 | Valid Accs: 0.88342 | Time: 623.49 seconds\n",
      "Epoch: 49 | Train Loss: 0.26901 | Valid Loss: 0.40175 |Train Accs: 0.91026 | Valid Accs: 0.87957 | Time: 623.56 seconds\n",
      "Epoch: 50 | Train Loss: 0.26557 | Valid Loss: 0.40165 |Train Accs: 0.91245 | Valid Accs: 0.88403 | Time: 624.80 seconds\n",
      "Epoch: 51 | Train Loss: 0.25972 | Valid Loss: 0.40004 |Train Accs: 0.91432 | Valid Accs: 0.88180 | Time: 618.66 seconds\n",
      "Epoch: 52 | Train Loss: 0.25476 | Valid Loss: 0.39970 |Train Accs: 0.91508 | Valid Accs: 0.87957 | Time: 623.13 seconds\n",
      "Epoch: 53 | Train Loss: 0.25095 | Valid Loss: 0.39859 |Train Accs: 0.91593 | Valid Accs: 0.88180 | Time: 624.14 seconds\n",
      "Epoch: 54 | Train Loss: 0.24600 | Valid Loss: 0.40121 |Train Accs: 0.91951 | Valid Accs: 0.88180 | Time: 622.70 seconds\n",
      "Epoch: 55 | Train Loss: 0.24104 | Valid Loss: 0.40223 |Train Accs: 0.92170 | Valid Accs: 0.88291 | Time: 623.30 seconds\n",
      "Epoch: 56 | Train Loss: 0.23612 | Valid Loss: 0.40131 |Train Accs: 0.92107 | Valid Accs: 0.87957 | Time: 622.40 seconds\n",
      "Epoch: 57 | Train Loss: 0.23045 | Valid Loss: 0.40292 |Train Accs: 0.92391 | Valid Accs: 0.87845 | Time: 622.44 seconds\n",
      "Epoch: 58 | Train Loss: 0.22614 | Valid Loss: 0.40127 |Train Accs: 0.92612 | Valid Accs: 0.87794 | Time: 622.75 seconds\n",
      "\n",
      "Early Stopping at Epoch 59\n",
      "\n",
      "**************************************************\n",
      "\n",
      "Best Validation Loss at Epoch 53\n",
      "\n",
      "**************************************************\n",
      "\n",
      "Best Validation Accs at Epoch 45\n",
      "\n",
      "**************************************************\n",
      "\n",
      "Time Taken [59 Epochs] : 618.00 minutes\n",
      "\n",
      "**************************************************\n",
      "\n",
      "Training Completed\n",
      "\n",
      "**************************************************\n",
      "\n"
     ]
    },
    {
     "data": {
      "image/png": "[encoded data removed]",
      "text/plain": [
       "<Figure size 576x432 with 2 Axes>"
      ]
     },
     "metadata": {
      "needs_background": "light"
     },
     "output_type": "display_data"
    }
   ],
   "source": [
    "for tr_idx, va_idx in StratifiedKFold(n_splits=n_splits, random_state=SEED, shuffle=True).split(filenames, labels):\n",
    "    break\n",
    "\n",
    "tr_filenames, va_filenames, tr_labels, va_labels = filenames[tr_idx], filenames[va_idx], labels[tr_idx], labels[va_idx]\n",
    "\n",
    "tr_data_setup = DS(\"../input/cassava-leaf-disease-classification/train_images\", tr_filenames, tr_labels.reshape(-1, 1), \"train\", TRANSFORM)\n",
    "va_data_setup = DS(\"../input/cassava-leaf-disease-classification/train_images\", va_filenames, va_labels.reshape(-1, 1), \"valid\", TRANSFORM)\n",
    "\n",
    "dataloaders = {\n",
    "    \"train\" : DL(tr_data_setup, batch_size=batch_size, shuffle=True, generator=torch.manual_seed(SEED)),\n",
    "    \"valid\" : DL(va_data_setup, batch_size=batch_size, shuffle=False),\n",
    "}\n",
    "\n",
    "torch.manual_seed(SEED)\n",
    "model = CNN(mode=mode, model_name=model_name).to(DEVICE)\n",
    "optimizer = model.get_optimizer(lr=lr, wd=wd)\n",
    "scheduler = None\n",
    "if isinstance(patience, int) and isinstance(eps, float):\n",
    "    scheduler = get_plateau_scheduler(optimizer=optimizer, patience=patience, eps=eps)\n",
    "\n",
    "L, A, BLE, BAE, name = fit(model=model, optimizer=optimizer, scheduler=scheduler, \n",
    "                           epochs=epochs, early_stopping_patience=early_stopping, \n",
    "                           dataloaders=dataloaders, verbose=True)\n",
    "\n",
    "show_graphs(L, A)"
   ]
  },
  {
   "cell_type": "markdown",
   "id": "66380571",
   "metadata": {
    "papermill": {
     "duration": 0.052374,
     "end_time": "2022-03-23T22:29:12.624601",
     "exception": false,
     "start_time": "2022-03-23T22:29:12.572227",
     "status": "completed"
    },
    "tags": []
   },
   "source": [
    "### **Submission**"
   ]
  },
  {
   "cell_type": "code",
   "execution_count": 10,
   "id": "ef8c180b",
   "metadata": {
    "execution": {
     "iopub.execute_input": "2022-03-23T22:29:12.742341Z",
     "iopub.status.busy": "2022-03-23T22:29:12.740635Z",
     "iopub.status.idle": "2022-03-23T22:29:12.743165Z",
     "shell.execute_reply": "2022-03-23T22:29:12.743800Z",
     "shell.execute_reply.started": "2022-03-22T13:10:55.383842Z"
    },
    "papermill": {
     "duration": 0.063961,
     "end_time": "2022-03-23T22:29:12.743971",
     "exception": false,
     "start_time": "2022-03-23T22:29:12.680010",
     "status": "completed"
    },
    "tags": []
   },
   "outputs": [],
   "source": [
    "# ss_df = pd.read_csv(\"../input/cassava-leaf-disease-classification/sample_submission.csv\")\n",
    "# ts_filenames = ss_df.filename.copy().values\n",
    "\n",
    "# ts_data_setup = DS(\"../input/cassava-leaf-disease-classification/test_images\", ts_filenames, None, \"test\", TRANSFORM)\n",
    "# ts_data = DL(ts_data_setup, batch_size=batch_size, shuffle=False)\n",
    "\n",
    "# y_pred = predict(model=model, dataloader=ts_data, path=\"../saves/state.pt\")\n",
    "\n",
    "# ss_df[\"cultivar\"] = y_pred.astype(\"uint8\")\n",
    "# ss_df.to_csv(\"submission.csv\", index=False)"
   ]
  }
 ],
 "metadata": {
  "kernelspec": {
   "display_name": "Python 3",
   "language": "python",
   "name": "python3"
  },
  "language_info": {
   "codemirror_mode": {
    "name": "ipython",
    "version": 3
   },
   "file_extension": ".py",
   "mimetype": "text/x-python",
   "name": "python",
   "nbconvert_exporter": "python",
   "pygments_lexer": "ipython3",
   "version": "3.7.12"
  },
  "papermill": {
   "default_parameters": {},
   "duration": 37100.543519,
   "end_time": "2022-03-23T22:29:15.235195",
   "environment_variables": {},
   "exception": null,
   "input_path": "__notebook__.ipynb",
   "output_path": "__notebook__.ipynb",
   "parameters": {},
   "start_time": "2022-03-23T12:10:54.691676",
   "version": "2.3.3"
  },
  "widgets": {
   "application/vnd.jupyter.widget-state+json": {
    "state": {
     "02a0cdb7f7a7427ba7706d7d03e67c46": {
      "model_module": "@jupyter-widgets/controls",
      "model_module_version": "1.5.0",
      "model_name": "HTMLModel",
      "state": {
       "_dom_classes": [],
       "_model_module": "@jupyter-widgets/controls",
       "_model_module_version": "1.5.0",
       "_model_name": "HTMLModel",
       "_view_count": null,
       "_view_module": "@jupyter-widgets/controls",
       "_view_module_version": "1.5.0",
       "_view_name": "HTMLView",
       "description": "",
       "description_tooltip": null,
       "layout": "IPY_MODEL_bec9282c28064e18b54218c4820254ad",
       "placeholder": "​",
       "style": "IPY_MODEL_87a61e641ce24734b65f4d48c72d35b2",
       "value": "100%"
      }
     },
     "3e9a750d3ac34cf79356155edffd6a4b": {
      "model_module": "@jupyter-widgets/controls",
      "model_module_version": "1.5.0",
      "model_name": "ProgressStyleModel",
      "state": {
       "_model_module": "@jupyter-widgets/controls",
       "_model_module_version": "1.5.0",
       "_model_name": "ProgressStyleModel",
       "_view_count": null,
       "_view_module": "@jupyter-widgets/base",
       "_view_module_version": "1.2.0",
       "_view_name": "StyleView",
       "bar_color": null,
       "description_width": ""
      }
     },
     "53947eca293d4ff1980204a2686b5a62": {
      "model_module": "@jupyter-widgets/controls",
      "model_module_version": "1.5.0",
      "model_name": "DescriptionStyleModel",
      "state": {
       "_model_module": "@jupyter-widgets/controls",
       "_model_module_version": "1.5.0",
       "_model_name": "DescriptionStyleModel",
       "_view_count": null,
       "_view_module": "@jupyter-widgets/base",
       "_view_module_version": "1.2.0",
       "_view_name": "StyleView",
       "description_width": ""
      }
     },
     "87a61e641ce24734b65f4d48c72d35b2": {
      "model_module": "@jupyter-widgets/controls",
      "model_module_version": "1.5.0",
      "model_name": "DescriptionStyleModel",
      "state": {
       "_model_module": "@jupyter-widgets/controls",
       "_model_module_version": "1.5.0",
       "_model_name": "DescriptionStyleModel",
       "_view_count": null,
       "_view_module": "@jupyter-widgets/base",
       "_view_module_version": "1.2.0",
       "_view_name": "StyleView",
       "description_width": ""
      }
     },
     "8ba84528375e4a84a2df5f60584bd658": {
      "model_module": "@jupyter-widgets/controls",
      "model_module_version": "1.5.0",
      "model_name": "HTMLModel",
      "state": {
       "_dom_classes": [],
       "_model_module": "@jupyter-widgets/controls",
       "_model_module_version": "1.5.0",
       "_model_name": "HTMLModel",
       "_view_count": null,
       "_view_module": "@jupyter-widgets/controls",
       "_view_module_version": "1.5.0",
       "_view_name": "HTMLView",
       "description": "",
       "description_tooltip": null,
       "layout": "IPY_MODEL_9cb62da1c8b2491884e56afd11e56d9a",
       "placeholder": "​",
       "style": "IPY_MODEL_53947eca293d4ff1980204a2686b5a62",
       "value": " 97.8M/97.8M [00:02&lt;00:00, 56.2MB/s]"
      }
     },
     "93a50c0a0bd744e1bf415f1ec2236a3e": {
      "model_module": "@jupyter-widgets/controls",
      "model_module_version": "1.5.0",
      "model_name": "FloatProgressModel",
      "state": {
       "_dom_classes": [],
       "_model_module": "@jupyter-widgets/controls",
       "_model_module_version": "1.5.0",
       "_model_name": "FloatProgressModel",
       "_view_count": null,
       "_view_module": "@jupyter-widgets/controls",
       "_view_module_version": "1.5.0",
       "_view_name": "ProgressView",
       "bar_style": "success",
       "description": "",
       "description_tooltip": null,
       "layout": "IPY_MODEL_d8c3fcf6674342eda3a3b913464260ac",
       "max": 102530333.0,
       "min": 0.0,
       "orientation": "horizontal",
       "style": "IPY_MODEL_3e9a750d3ac34cf79356155edffd6a4b",
       "value": 102530333.0
      }
     },
     "9cb62da1c8b2491884e56afd11e56d9a": {
      "model_module": "@jupyter-widgets/base",
      "model_module_version": "1.2.0",
      "model_name": "LayoutModel",
      "state": {
       "_model_module": "@jupyter-widgets/base",
       "_model_module_version": "1.2.0",
       "_model_name": "LayoutModel",
       "_view_count": null,
       "_view_module": "@jupyter-widgets/base",
       "_view_module_version": "1.2.0",
       "_view_name": "LayoutView",
       "align_content": null,
       "align_items": null,
       "align_self": null,
       "border": null,
       "bottom": null,
       "display": null,
       "flex": null,
       "flex_flow": null,
       "grid_area": null,
       "grid_auto_columns": null,
       "grid_auto_flow": null,
       "grid_auto_rows": null,
       "grid_column": null,
       "grid_gap": null,
       "grid_row": null,
       "grid_template_areas": null,
       "grid_template_columns": null,
       "grid_template_rows": null,
       "height": null,
       "justify_content": null,
       "justify_items": null,
       "left": null,
       "margin": null,
       "max_height": null,
       "max_width": null,
       "min_height": null,
       "min_width": null,
       "object_fit": null,
       "object_position": null,
       "order": null,
       "overflow": null,
       "overflow_x": null,
       "overflow_y": null,
       "padding": null,
       "right": null,
       "top": null,
       "visibility": null,
       "width": null
      }
     },
     "bec9282c28064e18b54218c4820254ad": {
      "model_module": "@jupyter-widgets/base",
      "model_module_version": "1.2.0",
      "model_name": "LayoutModel",
      "state": {
       "_model_module": "@jupyter-widgets/base",
       "_model_module_version": "1.2.0",
       "_model_name": "LayoutModel",
       "_view_count": null,
       "_view_module": "@jupyter-widgets/base",
       "_view_module_version": "1.2.0",
       "_view_name": "LayoutView",
       "align_content": null,
       "align_items": null,
       "align_self": null,
       "border": null,
       "bottom": null,
       "display": null,
       "flex": null,
       "flex_flow": null,
       "grid_area": null,
       "grid_auto_columns": null,
       "grid_auto_flow": null,
       "grid_auto_rows": null,
       "grid_column": null,
       "grid_gap": null,
       "grid_row": null,
       "grid_template_areas": null,
       "grid_template_columns": null,
       "grid_template_rows": null,
       "height": null,
       "justify_content": null,
       "justify_items": null,
       "left": null,
       "margin": null,
       "max_height": null,
       "max_width": null,
       "min_height": null,
       "min_width": null,
       "object_fit": null,
       "object_position": null,
       "order": null,
       "overflow": null,
       "overflow_x": null,
       "overflow_y": null,
       "padding": null,
       "right": null,
       "top": null,
       "visibility": null,
       "width": null
      }
     },
     "d8c3fcf6674342eda3a3b913464260ac": {
      "model_module": "@jupyter-widgets/base",
      "model_module_version": "1.2.0",
      "model_name": "LayoutModel",
      "state": {
       "_model_module": "@jupyter-widgets/base",
       "_model_module_version": "1.2.0",
       "_model_name": "LayoutModel",
       "_view_count": null,
       "_view_module": "@jupyter-widgets/base",
       "_view_module_version": "1.2.0",
       "_view_name": "LayoutView",
       "align_content": null,
       "align_items": null,
       "align_self": null,
       "border": null,
       "bottom": null,
       "display": null,
       "flex": null,
       "flex_flow": null,
       "grid_area": null,
       "grid_auto_columns": null,
       "grid_auto_flow": null,
       "grid_auto_rows": null,
       "grid_column": null,
       "grid_gap": null,
       "grid_row": null,
       "grid_template_areas": null,
       "grid_template_columns": null,
       "grid_template_rows": null,
       "height": null,
       "justify_content": null,
       "justify_items": null,
       "left": null,
       "margin": null,
       "max_height": null,
       "max_width": null,
       "min_height": null,
       "min_width": null,
       "object_fit": null,
       "object_position": null,
       "order": null,
       "overflow": null,
       "overflow_x": null,
       "overflow_y": null,
       "padding": null,
       "right": null,
       "top": null,
       "visibility": null,
       "width": null
      }
     },
     "ed234c29f79e4659a3e42a2828f3d00c": {
      "model_module": "@jupyter-widgets/base",
      "model_module_version": "1.2.0",
      "model_name": "LayoutModel",
      "state": {
       "_model_module": "@jupyter-widgets/base",
       "_model_module_version": "1.2.0",
       "_model_name": "LayoutModel",
       "_view_count": null,
       "_view_module": "@jupyter-widgets/base",
       "_view_module_version": "1.2.0",
       "_view_name": "LayoutView",
       "align_content": null,
       "align_items": null,
       "align_self": null,
       "border": null,
       "bottom": null,
       "display": null,
       "flex": null,
       "flex_flow": null,
       "grid_area": null,
       "grid_auto_columns": null,
       "grid_auto_flow": null,
       "grid_auto_rows": null,
       "grid_column": null,
       "grid_gap": null,
       "grid_row": null,
       "grid_template_areas": null,
       "grid_template_columns": null,
       "grid_template_rows": null,
       "height": null,
       "justify_content": null,
       "justify_items": null,
       "left": null,
       "margin": null,
       "max_height": null,
       "max_width": null,
       "min_height": null,
       "min_width": null,
       "object_fit": null,
       "object_position": null,
       "order": null,
       "overflow": null,
       "overflow_x": null,
       "overflow_y": null,
       "padding": null,
       "right": null,
       "top": null,
       "visibility": null,
       "width": null
      }
     },
     "ee9e291897e9409a85596907d30becf4": {
      "model_module": "@jupyter-widgets/controls",
      "model_module_version": "1.5.0",
      "model_name": "HBoxModel",
      "state": {
       "_dom_classes": [],
       "_model_module": "@jupyter-widgets/controls",
       "_model_module_version": "1.5.0",
       "_model_name": "HBoxModel",
       "_view_count": null,
       "_view_module": "@jupyter-widgets/controls",
       "_view_module_version": "1.5.0",
       "_view_name": "HBoxView",
       "box_style": "",
       "children": [
        "IPY_MODEL_02a0cdb7f7a7427ba7706d7d03e67c46",
        "IPY_MODEL_93a50c0a0bd744e1bf415f1ec2236a3e",
        "IPY_MODEL_8ba84528375e4a84a2df5f60584bd658"
       ],
       "layout": "IPY_MODEL_ed234c29f79e4659a3e42a2828f3d00c"
      }
     }
    },
    "version_major": 2,
    "version_minor": 0
   }
  }
 },
 "nbformat": 4,
 "nbformat_minor": 5
}
