{
 "cells": [
  {
   "cell_type": "code",
   "execution_count": 1,
   "id": "885e56f7",
   "metadata": {
    "_cell_guid": "b1076dfc-b9ad-4769-8c92-a6c4dae69d19",
    "_uuid": "8f2839f25d086af736a60e9eeb907d3b93b6e0e5",
    "execution": {
     "iopub.execute_input": "2022-03-22T11:58:58.660869Z",
     "iopub.status.busy": "2022-03-22T11:58:58.654976Z",
     "iopub.status.idle": "2022-03-22T11:58:59.006927Z",
     "shell.execute_reply": "2022-03-22T11:58:59.007438Z",
     "shell.execute_reply.started": "2022-03-22T11:38:56.642879Z"
    },
    "papermill": {
     "duration": 0.364165,
     "end_time": "2022-03-22T11:58:59.007786",
     "exception": false,
     "start_time": "2022-03-22T11:58:58.643621",
     "status": "completed"
    },
    "tags": []
   },
   "outputs": [],
   "source": [
    "import os\n",
    "import cv2\n",
    "import numpy as np\n",
    "import pandas as pd"
   ]
  },
  {
   "cell_type": "code",
   "execution_count": 2,
   "id": "b1032c3e",
   "metadata": {
    "execution": {
     "iopub.execute_input": "2022-03-22T11:58:59.029576Z",
     "iopub.status.busy": "2022-03-22T11:58:59.028480Z",
     "iopub.status.idle": "2022-03-22T11:58:59.045087Z",
     "shell.execute_reply": "2022-03-22T11:58:59.044519Z"
    },
    "papermill": {
     "duration": 0.028244,
     "end_time": "2022-03-22T11:58:59.045235",
     "exception": false,
     "start_time": "2022-03-22T11:58:59.016991",
     "status": "completed"
    },
    "tags": []
   },
   "outputs": [],
   "source": [
    "def breaker(num: int = 50, char: str = \"*\") -> None:\n",
    "    print(\"\\n\" + num*char + \"\\n\")\n",
    "\n",
    "\n",
    "def preprocess(image: np.ndarray) -> np.ndarray:\n",
    "    return cv2.cvtColor(src=image, code=cv2.COLOR_BGR2RGB)\n",
    "\n",
    "\n",
    "def get_statistics(path: str, names: np.ndarray, sizes: list, broken_images: list=None) -> list:\n",
    "    r_means, g_means, b_means, r_stds, g_stds, b_stds = [], [], [], [], [], []\n",
    "\n",
    "    i = 0\n",
    "    for size in sizes:\n",
    "        r_mean, g_mean, b_mean, r_std, g_std, b_std = 0.0, 0.0, 0.0, 0.0, 0.0, 0.0\n",
    "        for name in names:\n",
    "            main_image = preprocess(cv2.imread(os.path.join(path, name), cv2.IMREAD_COLOR))\n",
    "            image = cv2.resize(src=main_image, dsize=(size, size), interpolation=cv2.INTER_AREA)\n",
    "            r_mean += image[:, :, 0].mean()\n",
    "            g_mean += image[:, :, 1].mean()\n",
    "            b_mean += image[:, :, 2].mean()\n",
    "            r_std  += image[:, :, 0].std()\n",
    "            g_std  += image[:, :, 1].std()\n",
    "            b_std  += image[:, :, 2].std()\n",
    "        r_means.append(r_mean / len(names))\n",
    "        g_means.append(g_mean / len(names))\n",
    "        b_means.append(b_mean / len(names))\n",
    "\n",
    "        r_stds.append(r_std / len(names))\n",
    "        g_stds.append(g_std / len(names))\n",
    "        b_stds.append(b_std / len(names))\n",
    "    \n",
    "    return r_means, g_means, b_means, r_stds, g_stds, b_stds "
   ]
  },
  {
   "cell_type": "code",
   "execution_count": 3,
   "id": "b6a384af",
   "metadata": {
    "execution": {
     "iopub.execute_input": "2022-03-22T11:58:59.062358Z",
     "iopub.status.busy": "2022-03-22T11:58:59.061723Z",
     "iopub.status.idle": "2022-03-22T11:58:59.095199Z",
     "shell.execute_reply": "2022-03-22T11:58:59.095735Z",
     "shell.execute_reply.started": "2022-03-22T11:39:22.165775Z"
    },
    "papermill": {
     "duration": 0.043365,
     "end_time": "2022-03-22T11:58:59.095918",
     "exception": false,
     "start_time": "2022-03-22T11:58:59.052553",
     "status": "completed"
    },
    "tags": []
   },
   "outputs": [],
   "source": [
    "train_df = pd.read_csv(\"../input/cassava-leaf-disease-classification/train.csv\")\n",
    "filenames = train_df.iloc[:, 0].copy().values"
   ]
  },
  {
   "cell_type": "code",
   "execution_count": 4,
   "id": "e407cf38",
   "metadata": {
    "execution": {
     "iopub.execute_input": "2022-03-22T11:58:59.112464Z",
     "iopub.status.busy": "2022-03-22T11:58:59.111846Z",
     "iopub.status.idle": "2022-03-22T12:38:21.059243Z",
     "shell.execute_reply": "2022-03-22T12:38:21.057987Z",
     "shell.execute_reply.started": "2022-03-22T08:28:46.856531Z"
    },
    "papermill": {
     "duration": 2361.957059,
     "end_time": "2022-03-22T12:38:21.059689",
     "exception": false,
     "start_time": "2022-03-22T11:58:59.102630",
     "status": "completed"
    },
    "tags": []
   },
   "outputs": [],
   "source": [
    "sizes = [256, 384, 512, 768, 1024]\n",
    "\n",
    "r_means, g_means, b_means, r_stds, g_stds, b_stds = get_statistics(\"../input/cassava-leaf-disease-classification/train_images\", filenames, sizes)"
   ]
  },
  {
   "cell_type": "code",
   "execution_count": 5,
   "id": "be2ef580",
   "metadata": {
    "execution": {
     "iopub.execute_input": "2022-03-22T12:38:21.081365Z",
     "iopub.status.busy": "2022-03-22T12:38:21.080583Z",
     "iopub.status.idle": "2022-03-22T12:38:21.097393Z",
     "shell.execute_reply": "2022-03-22T12:38:21.096821Z"
    },
    "papermill": {
     "duration": 0.028113,
     "end_time": "2022-03-22T12:38:21.097544",
     "exception": false,
     "start_time": "2022-03-22T12:38:21.069431",
     "status": "completed"
    },
    "tags": []
   },
   "outputs": [
    {
     "name": "stdout",
     "output_type": "stream",
     "text": [
      "\n",
      "**************************************************\n",
      "\n",
      "Red Channel Mean (256)   : 109.73170\n",
      "Green Channel Mean (256) : 126.66525\n",
      "Blue Channel Mean (256)  : 79.92143\n",
      "\n",
      "\n",
      "Red Channel Std (256)    : 52.69809\n",
      "Green Channel Std (256)  : 53.98474\n",
      "Blue Channel Std (256)   : 47.84714\n",
      "\n",
      "**************************************************\n",
      "\n",
      "Red Channel Mean (384)   : 109.73173\n",
      "Green Channel Mean (384) : 126.66527\n",
      "Blue Channel Mean (384)  : 79.92120\n",
      "\n",
      "\n",
      "Red Channel Std (384)    : 53.72632\n",
      "Green Channel Std (384)  : 54.99684\n",
      "Blue Channel Std (384)   : 48.91124\n",
      "\n",
      "**************************************************\n",
      "\n",
      "Red Channel Mean (512)   : 109.73171\n",
      "Green Channel Mean (512) : 126.66526\n",
      "Blue Channel Mean (512)  : 79.92122\n",
      "\n",
      "\n",
      "Red Channel Std (512)    : 54.24844\n",
      "Green Channel Std (512)  : 55.51078\n",
      "Blue Channel Std (512)   : 49.45564\n",
      "\n",
      "**************************************************\n",
      "\n",
      "Red Channel Mean (768)   : 109.63688\n",
      "Green Channel Mean (768) : 126.57040\n",
      "Blue Channel Mean (768)  : 79.83080\n",
      "\n",
      "\n",
      "Red Channel Std (768)    : 54.76817\n",
      "Green Channel Std (768)  : 56.02256\n",
      "Blue Channel Std (768)   : 49.99538\n",
      "\n",
      "**************************************************\n",
      "\n",
      "Red Channel Mean (1024)   : 109.66005\n",
      "Green Channel Mean (1024) : 126.59362\n",
      "Blue Channel Mean (1024)  : 79.85366\n",
      "\n",
      "\n",
      "Red Channel Std (1024)    : 55.03124\n",
      "Green Channel Std (1024)  : 56.28155\n",
      "Blue Channel Std (1024)   : 50.27154\n",
      "\n",
      "**************************************************\n",
      "\n"
     ]
    }
   ],
   "source": [
    "breaker()\n",
    "for i in range(len(sizes)):\n",
    "    print(f\"Red Channel Mean ({sizes[i]})   : {r_means[i]:.5f}\")\n",
    "    print(f\"Green Channel Mean ({sizes[i]}) : {g_means[i]:.5f}\")\n",
    "    print(f\"Blue Channel Mean ({sizes[i]})  : {b_means[i]:.5f}\")\n",
    "    print(\"\\n\")\n",
    "    print(f\"Red Channel Std ({sizes[i]})    : {r_stds[i]:.5f}\")\n",
    "    print(f\"Green Channel Std ({sizes[i]})  : {g_stds[i]:.5f}\")\n",
    "    print(f\"Blue Channel Std ({sizes[i]})   : {b_stds[i]:.5f}\")\n",
    "    breaker()"
   ]
  }
 ],
 "metadata": {
  "kernelspec": {
   "display_name": "Python 3",
   "language": "python",
   "name": "python3"
  },
  "language_info": {
   "codemirror_mode": {
    "name": "ipython",
    "version": 3
   },
   "file_extension": ".py",
   "mimetype": "text/x-python",
   "name": "python",
   "nbconvert_exporter": "python",
   "pygments_lexer": "ipython3",
   "version": "3.7.12"
  },
  "papermill": {
   "default_parameters": {},
   "duration": 2373.137978,
   "end_time": "2022-03-22T12:38:22.024771",
   "environment_variables": {},
   "exception": null,
   "input_path": "__notebook__.ipynb",
   "output_path": "__notebook__.ipynb",
   "parameters": {},
   "start_time": "2022-03-22T11:58:48.886793",
   "version": "2.3.3"
  }
 },
 "nbformat": 4,
 "nbformat_minor": 5
}
