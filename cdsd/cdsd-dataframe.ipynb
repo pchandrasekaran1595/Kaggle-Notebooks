{
 "cells": [
  {
   "cell_type": "code",
   "execution_count": 1,
   "id": "59697cab",
   "metadata": {
    "_cell_guid": "b1076dfc-b9ad-4769-8c92-a6c4dae69d19",
    "_uuid": "8f2839f25d086af736a60e9eeb907d3b93b6e0e5",
    "execution": {
     "iopub.execute_input": "2023-01-15T12:05:53.037991Z",
     "iopub.status.busy": "2023-01-15T12:05:53.037540Z",
     "iopub.status.idle": "2023-01-15T12:05:53.254741Z",
     "shell.execute_reply": "2023-01-15T12:05:53.253704Z"
    },
    "papermill": {
     "duration": 0.224245,
     "end_time": "2023-01-15T12:05:53.257521",
     "exception": false,
     "start_time": "2023-01-15T12:05:53.033276",
     "status": "completed"
    },
    "tags": []
   },
   "outputs": [],
   "source": [
    "import os\n",
    "import cv2\n",
    "import json\n",
    "import numpy as np\n",
    "import pandas as pd\n",
    "\n",
    "BASE_PATH: str = \"/kaggle/input/car-damage-severity-dataset/data3a\""
   ]
  },
  {
   "cell_type": "code",
   "execution_count": 2,
   "id": "3848d1d0",
   "metadata": {
    "execution": {
     "iopub.execute_input": "2023-01-15T12:05:53.267857Z",
     "iopub.status.busy": "2023-01-15T12:05:53.266610Z",
     "iopub.status.idle": "2023-01-15T12:05:54.134806Z",
     "shell.execute_reply": "2023-01-15T12:05:54.133559Z"
    },
    "papermill": {
     "duration": 0.875062,
     "end_time": "2023-01-15T12:05:54.137954",
     "exception": false,
     "start_time": "2023-01-15T12:05:53.262892",
     "status": "completed"
    },
    "tags": []
   },
   "outputs": [],
   "source": [
    "df: pd.DataFrame = pd.DataFrame(data=None, columns=[\"filepaths\", \"labels\"])\n",
    "    \n",
    "tr_filepaths: list = []\n",
    "tr_labels: list = []\n",
    "\n",
    "va_filepaths: list = []\n",
    "va_labels: list = []\n",
    "\n",
    "i: int = 0\n",
    "for folder in sorted(os.listdir(f\"{BASE_PATH}/training\")):\n",
    "    for filename in os.listdir(f\"{BASE_PATH}/training/{folder}\"):\n",
    "        tr_filepaths.append(os.path.join(f\"{BASE_PATH}/training/{folder}\", filename))\n",
    "        tr_labels.append(i)\n",
    "    i += 1\n",
    "\n",
    "\n",
    "i: int = 0\n",
    "for folder in sorted(os.listdir(f\"{BASE_PATH}/validation\")):\n",
    "    for filename in os.listdir(f\"{BASE_PATH}/validation/{folder}\"):\n",
    "        va_filepaths.append(os.path.join(f\"{BASE_PATH}/validation/{folder}\", filename))\n",
    "        va_labels.append(i)\n",
    "    i += 1\n",
    "\n",
    "df.filepaths = tr_filepaths + va_filepaths\n",
    "df.labels = tr_labels + va_labels\n",
    "df.to_csv(\"dataframe.csv\", index=False)"
   ]
  }
 ],
 "metadata": {
  "kernelspec": {
   "display_name": "Python 3",
   "language": "python",
   "name": "python3"
  },
  "language_info": {
   "codemirror_mode": {
    "name": "ipython",
    "version": 3
   },
   "file_extension": ".py",
   "mimetype": "text/x-python",
   "name": "python",
   "nbconvert_exporter": "python",
   "pygments_lexer": "ipython3",
   "version": "3.7.12"
  },
  "papermill": {
   "default_parameters": {},
   "duration": 10.705591,
   "end_time": "2023-01-15T12:05:54.863113",
   "environment_variables": {},
   "exception": null,
   "input_path": "__notebook__.ipynb",
   "output_path": "__notebook__.ipynb",
   "parameters": {},
   "start_time": "2023-01-15T12:05:44.157522",
   "version": "2.3.4"
  }
 },
 "nbformat": 4,
 "nbformat_minor": 5
}
