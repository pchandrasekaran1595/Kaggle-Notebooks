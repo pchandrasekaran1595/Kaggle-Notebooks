{
 "cells": [
  {
   "cell_type": "markdown",
   "id": "d035759d",
   "metadata": {
    "_cell_guid": "b1076dfc-b9ad-4769-8c92-a6c4dae69d19",
    "_uuid": "8f2839f25d086af736a60e9eeb907d3b93b6e0e5",
    "papermill": {
     "duration": 0.004807,
     "end_time": "2023-01-16T06:22:44.105892",
     "exception": false,
     "start_time": "2023-01-16T06:22:44.101085",
     "status": "completed"
    },
    "tags": []
   },
   "source": [
    "### **Setup**"
   ]
  },
  {
   "cell_type": "code",
   "execution_count": 1,
   "id": "8470ef98",
   "metadata": {
    "execution": {
     "iopub.execute_input": "2023-01-16T06:22:44.115785Z",
     "iopub.status.busy": "2023-01-16T06:22:44.114943Z",
     "iopub.status.idle": "2023-01-16T06:22:54.331337Z",
     "shell.execute_reply": "2023-01-16T06:22:54.330202Z"
    },
    "papermill": {
     "duration": 10.223943,
     "end_time": "2023-01-16T06:22:54.333570",
     "exception": false,
     "start_time": "2023-01-16T06:22:44.109627",
     "status": "completed"
    },
    "tags": []
   },
   "outputs": [
    {
     "name": "stderr",
     "output_type": "stream",
     "text": [
      "WARNING: Running pip as the 'root' user can result in broken permissions and conflicting behaviour with the system package manager. It is recommended to use a virtual environment instead: https://pip.pypa.io/warnings/venv\n"
     ]
    }
   ],
   "source": [
    "%%bash\n",
    "pip install timm -q"
   ]
  },
  {
   "cell_type": "markdown",
   "id": "3bdaa6cc",
   "metadata": {
    "papermill": {
     "duration": 0.003423,
     "end_time": "2023-01-16T06:22:54.341086",
     "exception": false,
     "start_time": "2023-01-16T06:22:54.337663",
     "status": "completed"
    },
    "tags": []
   },
   "source": [
    "### **Library Imports**"
   ]
  },
  {
   "cell_type": "code",
   "execution_count": 2,
   "id": "dec5dc9a",
   "metadata": {
    "execution": {
     "iopub.execute_input": "2023-01-16T06:22:54.349603Z",
     "iopub.status.busy": "2023-01-16T06:22:54.349270Z",
     "iopub.status.idle": "2023-01-16T06:22:58.199536Z",
     "shell.execute_reply": "2023-01-16T06:22:58.198336Z"
    },
    "papermill": {
     "duration": 3.857555,
     "end_time": "2023-01-16T06:22:58.202120",
     "exception": false,
     "start_time": "2023-01-16T06:22:54.344565",
     "status": "completed"
    },
    "tags": []
   },
   "outputs": [],
   "source": [
    "import os\n",
    "import re\n",
    "import cv2\n",
    "import timm\n",
    "import torch\n",
    "import numpy as np\n",
    "import pandas as pd\n",
    "import matplotlib.pyplot as plt\n",
    "\n",
    "from time import time\n",
    "from typing import Union\n",
    "from torch import nn, optim\n",
    "from torch.utils.data import Dataset\n",
    "from torch.utils.data import DataLoader as DL\n",
    "from torchvision import transforms\n",
    "\n",
    "from sklearn.model_selection import StratifiedKFold"
   ]
  },
  {
   "cell_type": "markdown",
   "id": "8193a314",
   "metadata": {
    "papermill": {
     "duration": 0.003526,
     "end_time": "2023-01-16T06:22:58.209577",
     "exception": false,
     "start_time": "2023-01-16T06:22:58.206051",
     "status": "completed"
    },
    "tags": []
   },
   "source": [
    "### **Utilities and Helpers**"
   ]
  },
  {
   "cell_type": "code",
   "execution_count": 3,
   "id": "460cb91b",
   "metadata": {
    "execution": {
     "iopub.execute_input": "2023-01-16T06:22:58.218310Z",
     "iopub.status.busy": "2023-01-16T06:22:58.218006Z",
     "iopub.status.idle": "2023-01-16T06:22:58.230089Z",
     "shell.execute_reply": "2023-01-16T06:22:58.229114Z"
    },
    "papermill": {
     "duration": 0.019131,
     "end_time": "2023-01-16T06:22:58.232261",
     "exception": false,
     "start_time": "2023-01-16T06:22:58.213130",
     "status": "completed"
    },
    "tags": []
   },
   "outputs": [],
   "source": [
    "SEED: int = 42\n",
    "SIZE: int = 224\n",
    "\n",
    "\n",
    "def breaker(num: int=50, char: str=\"*\") -> None: print(\"\\n\" + num*char + \"\\n\")\n",
    "\n",
    "    \n",
    "def get_image(path: str, size: int=224) -> np.ndarray:\n",
    "    image = cv2.imread(path, cv2.IMREAD_COLOR)\n",
    "    image = cv2.cvtColor(src=image, code=cv2.COLOR_BGR2RGB)\n",
    "    return cv2.resize(src=image, dsize=(size, size), interpolation=cv2.INTER_AREA)\n",
    "\n",
    "    \n",
    "def show_loss_graphs(L: list) -> None:\n",
    "    TL, VL = [], []\n",
    "    for i in range(len(L)):\n",
    "        TL.append(L[i][\"train\"])\n",
    "        VL.append(L[i][\"valid\"])\n",
    "    x_Axis = np.arange(1, len(TL) + 1)\n",
    "    plt.figure()\n",
    "    plt.plot(x_Axis, TL, \"r\", label=\"Train\")\n",
    "    plt.plot(x_Axis, VL, \"b\", label=\"Valid\")\n",
    "    plt.legend()\n",
    "    plt.grid()\n",
    "    plt.title(\"Loss Graph\")\n",
    "    plt.show()\n",
    "\n",
    "    \n",
    "def show_accuracy_graphs(A: list) -> None:\n",
    "    TA, VA = [], []\n",
    "    for i in range(len(A)):\n",
    "        TA.append(A[i][\"train\"])\n",
    "        VA.append(A[i][\"valid\"])\n",
    "    x_Axis = np.arange(1, len(TA) + 1)\n",
    "    plt.figure()\n",
    "    plt.plot(x_Axis, TA, \"r\", label=\"Train\")\n",
    "    plt.plot(x_Axis, VA, \"b\", label=\"Valid\")\n",
    "    plt.legend()\n",
    "    plt.grid()\n",
    "    plt.title(\"Accuracy Graph\")\n",
    "    plt.show()\n",
    "    \n",
    "\n",
    "def show_lr_graph(LR: list) -> None:\n",
    "    x_Axis = [i+1 for i in range(len(LR))]\n",
    "    plt.figure(figsize=(8, 6))\n",
    "    plt.plot(x_Axis, LR, \"rx\")\n",
    "    plt.grid()\n",
    "    plt.show()"
   ]
  },
  {
   "cell_type": "markdown",
   "id": "08b9d290",
   "metadata": {
    "papermill": {
     "duration": 0.003498,
     "end_time": "2023-01-16T06:22:58.239335",
     "exception": false,
     "start_time": "2023-01-16T06:22:58.235837",
     "status": "completed"
    },
    "tags": []
   },
   "source": [
    "\n",
    "\n",
    "### **Configuration**"
   ]
  },
  {
   "cell_type": "code",
   "execution_count": 4,
   "id": "a0d4ea3f",
   "metadata": {
    "execution": {
     "iopub.execute_input": "2023-01-16T06:22:58.248071Z",
     "iopub.status.busy": "2023-01-16T06:22:58.247805Z",
     "iopub.status.idle": "2023-01-16T06:22:58.330731Z",
     "shell.execute_reply": "2023-01-16T06:22:58.329187Z"
    },
    "papermill": {
     "duration": 0.090414,
     "end_time": "2023-01-16T06:22:58.333333",
     "exception": false,
     "start_time": "2023-01-16T06:22:58.242919",
     "status": "completed"
    },
    "tags": []
   },
   "outputs": [],
   "source": [
    "class CFG(object):\n",
    "    def __init__(self, \n",
    "                 seed: int = 42,\n",
    "                 size: int = 224,\n",
    "                 n_splits: int = 5,\n",
    "                 batch_size: int = 16,\n",
    "                 epochs: int = 25,\n",
    "                 early_stopping: int = 5,\n",
    "                 lr: float = 1e-4,\n",
    "                 wd: float = 0.0,\n",
    "                 max_lr: float = 1e-3,\n",
    "                 pct_start: float = 0.2,\n",
    "                 steps_per_epoch: int = 100,\n",
    "                 div_factor: int = 1e3, \n",
    "                 final_div_factor: float = 1e3,\n",
    "                 ):\n",
    "        self.seed = seed\n",
    "        self.size = size\n",
    "        self.n_splits = n_splits\n",
    "        self.batch_size = batch_size\n",
    "        self.epochs = epochs\n",
    "        self.early_stopping = early_stopping\n",
    "        self.lr = lr\n",
    "        self.wd = wd\n",
    "        self.max_lr = max_lr\n",
    "        self.pct_start = pct_start\n",
    "        self.steps_per_epoch = steps_per_epoch\n",
    "        self.div_factor = div_factor\n",
    "        self.final_div_factor = final_div_factor\n",
    "        self.device = torch.device(\"cuda\" if torch.cuda.is_available() else \"cpu\")\n",
    "        \n",
    "        if self.size == 224:\n",
    "            self.train_transform = transforms.Compose([\n",
    "                transforms.ToTensor(),\n",
    "                transforms.Normalize([0.45431, 0.44497, 0.44980], [0.25191, 0.24961, 0.25089]),\n",
    "                transforms.RandomAffine(degrees=(-45, 45), translate=(0.15, 0.15), scale=(0.5, 1.5)),\n",
    "                transforms.RandomHorizontalFlip(p=0.25),\n",
    "                transforms.RandomVerticalFlip(p=0.25),\n",
    "            ])\n",
    "            self.valid_transform = transforms.Compose([\n",
    "                transforms.ToTensor(),\n",
    "                transforms.Normalize([0.45431, 0.44497, 0.44980], [0.25191, 0.24961, 0.25089]),\n",
    "            ])\n",
    "        \n",
    "        if self.size == 384:\n",
    "            self.train_transform = transforms.Compose([\n",
    "                transforms.ToTensor(),\n",
    "                transforms.Normalize([0.45445, 0.44511, 0.44994], [0.25352, 0.25123, 0.25249]),\n",
    "                transforms.RandomAffine(degrees=(-45, 45), translate=(0.15, 0.15), scale=(0.5, 1.5)),\n",
    "                transforms.RandomHorizontalFlip(p=0.25),\n",
    "                transforms.RandomVerticalFlip(p=0.25),\n",
    "            ])\n",
    "            self.valid_transform = transforms.Compose([\n",
    "                transforms.ToTensor(),\n",
    "                transforms.Normalize([0.45445, 0.44511, 0.44994], [0.25352, 0.25123, 0.25249]),\n",
    "            ])\n",
    "        \n",
    "        if self.size == 512:\n",
    "            self.train_transform = transforms.Compose([\n",
    "                transforms.ToTensor(),\n",
    "                transforms.Normalize([0.45449, 0.44515, 0.44999], [0.25410, 0.25183, 0.25308]),\n",
    "                transforms.RandomAffine(degrees=(-45, 45), translate=(0.15, 0.15), scale=(0.5, 1.5)),\n",
    "                transforms.RandomHorizontalFlip(p=0.25),\n",
    "                transforms.RandomVerticalFlip(p=0.25),\n",
    "            ])\n",
    "            self.valid_transform = transforms.Compose([\n",
    "                transforms.ToTensor(),\n",
    "                transforms.Normalize([0.45449, 0.44515, 0.44999], [0.25410, 0.25183, 0.25308]),\n",
    "            ])\n",
    "                                \n",
    "        self.save_path = \"saves\"\n",
    "        if not os.path.exists(self.save_path): os.makedirs(self.save_path)\n",
    "    \n",
    "cfg = CFG(\n",
    "    seed=SEED, \n",
    "    size=SIZE\n",
    ")"
   ]
  },
  {
   "cell_type": "markdown",
   "id": "d2690ed9",
   "metadata": {
    "papermill": {
     "duration": 0.003747,
     "end_time": "2023-01-16T06:22:58.341188",
     "exception": false,
     "start_time": "2023-01-16T06:22:58.337441",
     "status": "completed"
    },
    "tags": []
   },
   "source": [
    "### **Dataset Template**"
   ]
  },
  {
   "cell_type": "code",
   "execution_count": 5,
   "id": "18a7c8f3",
   "metadata": {
    "execution": {
     "iopub.execute_input": "2023-01-16T06:22:58.350054Z",
     "iopub.status.busy": "2023-01-16T06:22:58.349735Z",
     "iopub.status.idle": "2023-01-16T06:22:58.357078Z",
     "shell.execute_reply": "2023-01-16T06:22:58.356027Z"
    },
    "papermill": {
     "duration": 0.014536,
     "end_time": "2023-01-16T06:22:58.359607",
     "exception": false,
     "start_time": "2023-01-16T06:22:58.345071",
     "status": "completed"
    },
    "tags": []
   },
   "outputs": [],
   "source": [
    "class DS(Dataset):\n",
    "    def __init__(\n",
    "        self, \n",
    "        filepaths: np.ndarray, \n",
    "        size: int,\n",
    "        labels: Union[np.ndarray, None]=None, \n",
    "        transform=None\n",
    "    ):\n",
    "        \n",
    "        self.filepaths = filepaths\n",
    "        self.labels = labels\n",
    "        self.size = size\n",
    "        self.transform = transform\n",
    "    \n",
    "    def __len__(self):\n",
    "        return self.filepaths.shape[0]\n",
    "    \n",
    "    def __getitem__(self, idx):\n",
    "        image = get_image(self.filepaths[idx], self.size)\n",
    "        if self.labels is None:\n",
    "            return self.transform(image)\n",
    "        return self.transform(image), torch.LongTensor(self.labels[idx])"
   ]
  },
  {
   "cell_type": "markdown",
   "id": "4f66d882",
   "metadata": {
    "papermill": {
     "duration": 0.003545,
     "end_time": "2023-01-16T06:22:58.367051",
     "exception": false,
     "start_time": "2023-01-16T06:22:58.363506",
     "status": "completed"
    },
    "tags": []
   },
   "source": [
    "### **Model**"
   ]
  },
  {
   "cell_type": "code",
   "execution_count": 6,
   "id": "8ff184c7",
   "metadata": {
    "execution": {
     "iopub.execute_input": "2023-01-16T06:22:58.376327Z",
     "iopub.status.busy": "2023-01-16T06:22:58.375665Z",
     "iopub.status.idle": "2023-01-16T06:22:58.382677Z",
     "shell.execute_reply": "2023-01-16T06:22:58.381851Z"
    },
    "papermill": {
     "duration": 0.013913,
     "end_time": "2023-01-16T06:22:58.384693",
     "exception": false,
     "start_time": "2023-01-16T06:22:58.370780",
     "status": "completed"
    },
    "tags": []
   },
   "outputs": [],
   "source": [
    "class Model(nn.Module):\n",
    "    def __init__(self):\n",
    "        super(Model, self).__init__()\n",
    "            \n",
    "        self.model = timm.create_model(model_name=\"efficientnet_b4\", pretrained=True)\n",
    "        self.model.classifier = nn.Linear(in_features=self.model.classifier.in_features, out_features=3)\n",
    "\n",
    "    def forward(self, x):\n",
    "        return nn.LogSoftmax(dim=1)(self.model(x))"
   ]
  },
  {
   "cell_type": "markdown",
   "id": "4700f5f3",
   "metadata": {
    "papermill": {
     "duration": 0.00374,
     "end_time": "2023-01-16T06:22:58.392212",
     "exception": false,
     "start_time": "2023-01-16T06:22:58.388472",
     "status": "completed"
    },
    "tags": []
   },
   "source": [
    "### **Fit and Predict**"
   ]
  },
  {
   "cell_type": "code",
   "execution_count": 7,
   "id": "ac7947a8",
   "metadata": {
    "execution": {
     "iopub.execute_input": "2023-01-16T06:22:58.401279Z",
     "iopub.status.busy": "2023-01-16T06:22:58.401009Z",
     "iopub.status.idle": "2023-01-16T06:22:58.421590Z",
     "shell.execute_reply": "2023-01-16T06:22:58.420643Z"
    },
    "papermill": {
     "duration": 0.027569,
     "end_time": "2023-01-16T06:22:58.423538",
     "exception": false,
     "start_time": "2023-01-16T06:22:58.395969",
     "status": "completed"
    },
    "tags": []
   },
   "outputs": [],
   "source": [
    "def fit(\n",
    "    model=None,\n",
    "    optimizer=None, \n",
    "    scheduler_rlrop=None,\n",
    "    scheduler_oclr=None,\n",
    "    epochs=None, \n",
    "    early_stopping_patience=None, \n",
    "    dataloaders=None, \n",
    "    fold=None, \n",
    "    save_path=None,\n",
    "    device=None,\n",
    "    verbose=False\n",
    ") -> tuple:\n",
    "    \n",
    "    def get_accuracy(y_pred, y_true):\n",
    "        y_pred = torch.argmax(y_pred, dim=1)\n",
    "        return torch.count_nonzero(y_pred == y_true).item() / len(y_pred)\n",
    "    \n",
    "    \n",
    "    if verbose:\n",
    "        breaker()\n",
    "        if fold: print(f\"Training Fold {fold}...\")\n",
    "        else: print(\"Training ...\")\n",
    "        breaker()\n",
    "        \n",
    "    bestLoss: dict = {\"train\" : np.inf, \"valid\" : np.inf} \n",
    "    bestAccs: dict = {\"train\" : 0.0, \"valid\" : 0.0}\n",
    "    \n",
    "    Losses: list = []\n",
    "    Accuracies: list = [] \n",
    "    LRs: list = []\n",
    "        \n",
    "    if fold: \n",
    "        ble_name = f\"ble_state_fold_{fold}.pt\"\n",
    "        bae_name = f\"bae_state_fold_{fold}.pt\"\n",
    "    else: \n",
    "        ble_name = f\"ble_state.pt\"\n",
    "        bae_name = f\"bae_state.pt\"\n",
    "        \n",
    "    start_time = time()\n",
    "    for e in range(epochs):\n",
    "        e_st = time()\n",
    "        epochLoss: dict = {\"train\" : 0.0, \"valid\" : 0.0} \n",
    "        epochAccs: dict = {\"train\" : 0.0, \"valid\" : 0.0}\n",
    "\n",
    "        for phase in [\"train\", \"valid\"]:\n",
    "            if phase == \"train\":\n",
    "                model.train()\n",
    "            else:\n",
    "                model.eval()\n",
    "            \n",
    "            lossPerPass: list = []\n",
    "            accsPerPass: list = []\n",
    "                \n",
    "            for X, y in dataloaders[phase]:\n",
    "                X, y = X.to(device), y.to(device).view(-1)\n",
    "\n",
    "                optimizer.zero_grad()\n",
    "                with torch.set_grad_enabled(phase == \"train\"):\n",
    "                    output = model(X)\n",
    "                    loss = nn.NLLLoss()(output, y)\n",
    "                    if phase == \"train\":\n",
    "                        loss.backward()\n",
    "                        optimizer.step()\n",
    "                        if scheduler_oclr: scheduler_oclr.step()\n",
    "                lossPerPass.append(loss.item())\n",
    "                accsPerPass.append(get_accuracy(output, y))\n",
    "            epochLoss[phase] = np.mean(np.array(lossPerPass))\n",
    "            epochAccs[phase] = np.mean(np.array(accsPerPass))\n",
    "        if scheduler_oclr: LRs.append(scheduler_oclr.get_last_lr())\n",
    "        Losses.append(epochLoss)\n",
    "        Accuracies.append(epochAccs)\n",
    "        \n",
    "        if scheduler_oclr:\n",
    "            save_dict = {\"model_state_dict\"     : model.state_dict(),\n",
    "                         \"optim_state_dict\"     : optimizer.state_dict(),\n",
    "                         \"scheduler_state_dict\" : scheduler_oclr.state_dict()}\n",
    "        \n",
    "        elif scheduler_rlrop:\n",
    "            save_dict = {\"model_state_dict\"     : model.state_dict(),\n",
    "                         \"optim_state_dict\"     : optimizer.state_dict(),\n",
    "                         \"scheduler_state_dict\" : scheduler_rlrop.state_dict()}\n",
    "        \n",
    "        else:\n",
    "            save_dict = {\"model_state_dict\"     : model.state_dict(),\n",
    "                         \"optim_state_dict\"     : optimizer.state_dict()}\n",
    "        \n",
    "        if early_stopping_patience:\n",
    "            if epochLoss[\"valid\"] < bestLoss[\"valid\"]:\n",
    "                bestLoss = epochLoss\n",
    "                BLE = e + 1\n",
    "                torch.save(save_dict, os.path.join(save_path, ble_name))\n",
    "                torch.save(save_dict, os.path.join(save_path, bae_name))\n",
    "                early_stopping_step = 0\n",
    "            else:\n",
    "                early_stopping_step += 1\n",
    "                if early_stopping_step > early_stopping_patience:\n",
    "                    print(\"\\nEarly Stopping at Epoch {}\".format(e + 1))\n",
    "                    break\n",
    "        \n",
    "        if epochLoss[\"valid\"] < bestLoss[\"valid\"]:\n",
    "            bestLoss = epochLoss\n",
    "            BLE = e + 1\n",
    "            torch.save(save_dict,os.path.join(save_path, ble_name))\n",
    "        \n",
    "        if epochAccs[\"valid\"] > bestAccs[\"valid\"]:\n",
    "            bestAccs = epochAccs\n",
    "            BAE = e + 1\n",
    "            torch.save(save_dict,os.path.join(save_path, bae_name))\n",
    "        \n",
    "        if scheduler_rlrop: scheduler_rlrop.step(epochLoss[\"valid\"])\n",
    "        \n",
    "        if verbose:\n",
    "            print(\"Epoch: {} | Train Loss: {:.5f} | Valid Loss: {:.5f} |\\\n",
    " Train Accs: {:.5f} | Valid Accs: {:.5f} | Time: {:.2f} seconds\".format(e+1, \n",
    "                                                                        epochLoss[\"train\"], epochLoss[\"valid\"], \n",
    "                                                                        epochAccs[\"train\"], epochAccs[\"valid\"], \n",
    "                                                                        time()-e_st))\n",
    "\n",
    "    if verbose:                                           \n",
    "        breaker()\n",
    "        print(f\"Best Validation Loss at Epoch {BLE}\")\n",
    "        breaker()\n",
    "        print(f\"Best Validation Accs at Epoch {BAE}\")\n",
    "        breaker()\n",
    "        print(\"Time Taken [{} Epochs] : {:.2f} minutes\".format(len(Losses), (time()-start_time)/60))\n",
    "    \n",
    "    return Losses, Accuracies, LRs, bestLoss, bestAccs, BLE, BAE, ble_name, bae_name\n",
    "\n",
    "\n",
    "# def predict_batch(model=None, dataloader=None, path=None, device=None) -> np.ndarray:\n",
    "#     model.load_state_dict(torch.load(path, map_location=device)[\"model_state_dict\"])\n",
    "#     model.to(device)    \n",
    "#     model.eval()\n",
    "    \n",
    "#     y_pred = torch.zeros(1, 1).to(device)\n",
    "    \n",
    "#     for X in dataloader:\n",
    "#         X = X.to(device)\n",
    "#         with torch.no_grad():\n",
    "#             output = torch.argmax(torch.exp(model(X)), dim=1)\n",
    "#         y_pred = torch.cat((y_pred, output.view(-1, 1)), dim=0)\n",
    "    \n",
    "#     return y_pred[1:].detach().cpu().numpy()"
   ]
  },
  {
   "cell_type": "markdown",
   "id": "87cf029c",
   "metadata": {
    "papermill": {
     "duration": 0.004582,
     "end_time": "2023-01-16T06:22:58.432217",
     "exception": false,
     "start_time": "2023-01-16T06:22:58.427635",
     "status": "completed"
    },
    "tags": []
   },
   "source": [
    "### **Train**"
   ]
  },
  {
   "cell_type": "code",
   "execution_count": 8,
   "id": "4936cb51",
   "metadata": {
    "execution": {
     "iopub.execute_input": "2023-01-16T06:22:58.441640Z",
     "iopub.status.busy": "2023-01-16T06:22:58.440785Z",
     "iopub.status.idle": "2023-01-16T06:22:58.470466Z",
     "shell.execute_reply": "2023-01-16T06:22:58.469625Z"
    },
    "papermill": {
     "duration": 0.036807,
     "end_time": "2023-01-16T06:22:58.472855",
     "exception": false,
     "start_time": "2023-01-16T06:22:58.436048",
     "status": "completed"
    },
    "tags": []
   },
   "outputs": [],
   "source": [
    "df = pd.read_csv(\"/kaggle/input/cdsd-dataframe/dataframe.csv\")\n",
    "\n",
    "filepaths = df.filepaths.copy().values\n",
    "labels = df.labels.copy().values"
   ]
  },
  {
   "cell_type": "code",
   "execution_count": 9,
   "id": "5f8f4498",
   "metadata": {
    "execution": {
     "iopub.execute_input": "2023-01-16T06:22:58.481866Z",
     "iopub.status.busy": "2023-01-16T06:22:58.481594Z",
     "iopub.status.idle": "2023-01-16T06:40:52.956742Z",
     "shell.execute_reply": "2023-01-16T06:40:52.955435Z"
    },
    "papermill": {
     "duration": 1074.482302,
     "end_time": "2023-01-16T06:40:52.959071",
     "exception": false,
     "start_time": "2023-01-16T06:22:58.476769",
     "status": "completed"
    },
    "tags": []
   },
   "outputs": [
    {
     "name": "stderr",
     "output_type": "stream",
     "text": [
      "Downloading: \"https://github.com/rwightman/pytorch-image-models/releases/download/v0.1-weights/efficientnet_b4_ra2_320-7eb33cd5.pth\" to /root/.cache/torch/hub/checkpoints/efficientnet_b4_ra2_320-7eb33cd5.pth\n"
     ]
    },
    {
     "name": "stdout",
     "output_type": "stream",
     "text": [
      "\n",
      "**************************************************\n",
      "\n",
      "Training Fold 1...\n",
      "\n",
      "**************************************************\n",
      "\n",
      "Epoch: 1 | Train Loss: 1.08640 | Valid Loss: 1.04170 | Train Accs: 0.38889 | Valid Accs: 0.56734 | Time: 37.41 seconds\n",
      "Epoch: 2 | Train Loss: 0.87712 | Valid Loss: 0.79653 | Train Accs: 0.59003 | Valid Accs: 0.63690 | Time: 25.04 seconds\n",
      "Epoch: 3 | Train Loss: 0.69606 | Valid Loss: 0.79632 | Train Accs: 0.69420 | Valid Accs: 0.65290 | Time: 25.01 seconds\n",
      "Epoch: 4 | Train Loss: 0.57810 | Valid Loss: 0.71443 | Train Accs: 0.75992 | Valid Accs: 0.71838 | Time: 25.24 seconds\n",
      "Epoch: 5 | Train Loss: 0.47866 | Valid Loss: 0.74380 | Train Accs: 0.79737 | Valid Accs: 0.66257 | Time: 23.60 seconds\n",
      "Epoch: 6 | Train Loss: 0.39786 | Valid Loss: 0.75812 | Train Accs: 0.83507 | Valid Accs: 0.72098 | Time: 23.86 seconds\n",
      "Epoch: 7 | Train Loss: 0.30722 | Valid Loss: 0.77500 | Train Accs: 0.88368 | Valid Accs: 0.73400 | Time: 24.16 seconds\n",
      "Epoch: 8 | Train Loss: 0.24110 | Valid Loss: 0.86534 | Train Accs: 0.90278 | Valid Accs: 0.70759 | Time: 23.33 seconds\n",
      "Epoch: 9 | Train Loss: 0.24202 | Valid Loss: 0.77436 | Train Accs: 0.90600 | Valid Accs: 0.69680 | Time: 23.41 seconds\n",
      "\n",
      "Early Stopping at Epoch 10\n",
      "\n",
      "**************************************************\n",
      "\n",
      "Best Validation Loss at Epoch 4\n",
      "\n",
      "**************************************************\n",
      "\n",
      "Best Validation Accs at Epoch 7\n",
      "\n",
      "**************************************************\n",
      "\n",
      "Time Taken [10 Epochs] : 4.23 minutes\n",
      "\n",
      "**************************************************\n",
      "\n"
     ]
    },
    {
     "data": {
      "image/png": "[encoded data removed]",
      "text/plain": [
       "<Figure size 432x288 with 1 Axes>"
      ]
     },
     "metadata": {
      "needs_background": "light"
     },
     "output_type": "display_data"
    },
    {
     "name": "stdout",
     "output_type": "stream",
     "text": [
      "\n",
      "**************************************************\n",
      "\n"
     ]
    },
    {
     "data": {
      "image/png": "[encoded data removed]",
      "text/plain": [
       "<Figure size 432x288 with 1 Axes>"
      ]
     },
     "metadata": {
      "needs_background": "light"
     },
     "output_type": "display_data"
    },
    {
     "name": "stdout",
     "output_type": "stream",
     "text": [
      "\n",
      "**************************************************\n",
      "\n"
     ]
    },
    {
     "data": {
      "image/png": "[encoded data removed]",
      "text/plain": [
       "<Figure size 576x432 with 1 Axes>"
      ]
     },
     "metadata": {
      "needs_background": "light"
     },
     "output_type": "display_data"
    },
    {
     "name": "stdout",
     "output_type": "stream",
     "text": [
      "\n",
      "**************************************************\n",
      "\n",
      "\n",
      "**************************************************\n",
      "\n",
      "Training Fold 2...\n",
      "\n",
      "**************************************************\n",
      "\n",
      "Epoch: 1 | Train Loss: 1.08400 | Valid Loss: 1.03364 | Train Accs: 0.41580 | Valid Accs: 0.56163 | Time: 25.23 seconds\n",
      "Epoch: 2 | Train Loss: 0.90175 | Valid Loss: 0.67562 | Train Accs: 0.57810 | Valid Accs: 0.69618 | Time: 25.23 seconds\n",
      "Epoch: 3 | Train Loss: 0.68574 | Valid Loss: 0.64745 | Train Accs: 0.69839 | Valid Accs: 0.72483 | Time: 25.04 seconds\n",
      "Epoch: 4 | Train Loss: 0.55467 | Valid Loss: 0.87465 | Train Accs: 0.75568 | Valid Accs: 0.56597 | Time: 23.25 seconds\n",
      "Epoch: 5 | Train Loss: 0.49910 | Valid Loss: 0.72420 | Train Accs: 0.80586 | Valid Accs: 0.65278 | Time: 23.55 seconds\n",
      "Epoch: 6 | Train Loss: 0.36916 | Valid Loss: 0.71916 | Train Accs: 0.84083 | Valid Accs: 0.69097 | Time: 23.51 seconds\n",
      "Epoch: 7 | Train Loss: 0.26930 | Valid Loss: 0.89381 | Train Accs: 0.89690 | Valid Accs: 0.68837 | Time: 23.56 seconds\n",
      "Epoch: 8 | Train Loss: 0.23153 | Valid Loss: 0.98513 | Train Accs: 0.90988 | Valid Accs: 0.65104 | Time: 23.33 seconds\n",
      "\n",
      "Early Stopping at Epoch 9\n",
      "\n",
      "**************************************************\n",
      "\n",
      "Best Validation Loss at Epoch 3\n",
      "\n",
      "**************************************************\n",
      "\n",
      "Best Validation Accs at Epoch 3\n",
      "\n",
      "**************************************************\n",
      "\n",
      "Time Taken [9 Epochs] : 3.60 minutes\n",
      "\n",
      "**************************************************\n",
      "\n"
     ]
    },
    {
     "data": {
      "image/png": "[encoded data removed]",
      "text/plain": [
       "<Figure size 432x288 with 1 Axes>"
      ]
     },
     "metadata": {
      "needs_background": "light"
     },
     "output_type": "display_data"
    },
    {
     "name": "stdout",
     "output_type": "stream",
     "text": [
      "\n",
      "**************************************************\n",
      "\n"
     ]
    },
    {
     "data": {
      "image/png": "[encoded data removed]",
      "text/plain": [
       "<Figure size 432x288 with 1 Axes>"
      ]
     },
     "metadata": {
      "needs_background": "light"
     },
     "output_type": "display_data"
    },
    {
     "name": "stdout",
     "output_type": "stream",
     "text": [
      "\n",
      "**************************************************\n",
      "\n"
     ]
    },
    {
     "data": {
      "image/png": "[encoded data removed]",
      "text/plain": [
       "<Figure size 576x432 with 1 Axes>"
      ]
     },
     "metadata": {
      "needs_background": "light"
     },
     "output_type": "display_data"
    },
    {
     "name": "stdout",
     "output_type": "stream",
     "text": [
      "\n",
      "**************************************************\n",
      "\n",
      "\n",
      "**************************************************\n",
      "\n",
      "Training Fold 3...\n",
      "\n",
      "**************************************************\n",
      "\n",
      "Epoch: 1 | Train Loss: 1.08541 | Valid Loss: 1.04306 | Train Accs: 0.40110 | Valid Accs: 0.54601 | Time: 24.96 seconds\n",
      "Epoch: 2 | Train Loss: 0.89503 | Valid Loss: 0.78086 | Train Accs: 0.59884 | Valid Accs: 0.66840 | Time: 25.19 seconds\n",
      "Epoch: 3 | Train Loss: 0.68487 | Valid Loss: 0.78597 | Train Accs: 0.68988 | Valid Accs: 0.63021 | Time: 23.41 seconds\n",
      "Epoch: 4 | Train Loss: 0.56323 | Valid Loss: 0.92981 | Train Accs: 0.76396 | Valid Accs: 0.60677 | Time: 23.33 seconds\n",
      "Epoch: 5 | Train Loss: 0.47397 | Valid Loss: 0.84142 | Train Accs: 0.80702 | Valid Accs: 0.69965 | Time: 23.77 seconds\n",
      "Epoch: 6 | Train Loss: 0.36045 | Valid Loss: 0.82280 | Train Accs: 0.85738 | Valid Accs: 0.65538 | Time: 23.34 seconds\n",
      "Epoch: 7 | Train Loss: 0.29139 | Valid Loss: 0.87857 | Train Accs: 0.89557 | Valid Accs: 0.65017 | Time: 23.22 seconds\n",
      "\n",
      "Early Stopping at Epoch 8\n",
      "\n",
      "**************************************************\n",
      "\n",
      "Best Validation Loss at Epoch 2\n",
      "\n",
      "**************************************************\n",
      "\n",
      "Best Validation Accs at Epoch 5\n",
      "\n",
      "**************************************************\n",
      "\n",
      "Time Taken [8 Epochs] : 3.17 minutes\n",
      "\n",
      "**************************************************\n",
      "\n"
     ]
    },
    {
     "data": {
      "image/png": "[encoded data removed]",
      "text/plain": [
       "<Figure size 432x288 with 1 Axes>"
      ]
     },
     "metadata": {
      "needs_background": "light"
     },
     "output_type": "display_data"
    },
    {
     "name": "stdout",
     "output_type": "stream",
     "text": [
      "\n",
      "**************************************************\n",
      "\n"
     ]
    },
    {
     "data": {
      "image/png": "[encoded data removed]",
      "text/plain": [
       "<Figure size 432x288 with 1 Axes>"
      ]
     },
     "metadata": {
      "needs_background": "light"
     },
     "output_type": "display_data"
    },
    {
     "name": "stdout",
     "output_type": "stream",
     "text": [
      "\n",
      "**************************************************\n",
      "\n"
     ]
    },
    {
     "data": {
      "image/png": "[encoded data removed]",
      "text/plain": [
       "<Figure size 576x432 with 1 Axes>"
      ]
     },
     "metadata": {
      "needs_background": "light"
     },
     "output_type": "display_data"
    },
    {
     "name": "stdout",
     "output_type": "stream",
     "text": [
      "\n",
      "**************************************************\n",
      "\n",
      "\n",
      "**************************************************\n",
      "\n",
      "Training Fold 4...\n",
      "\n",
      "**************************************************\n",
      "\n",
      "Epoch: 1 | Train Loss: 1.09049 | Valid Loss: 1.04226 | Train Accs: 0.36818 | Valid Accs: 0.52778 | Time: 25.01 seconds\n",
      "Epoch: 2 | Train Loss: 0.89736 | Valid Loss: 0.73104 | Train Accs: 0.58554 | Valid Accs: 0.70660 | Time: 25.02 seconds\n",
      "Epoch: 3 | Train Loss: 0.68201 | Valid Loss: 0.70276 | Train Accs: 0.70509 | Valid Accs: 0.71354 | Time: 24.92 seconds\n",
      "Epoch: 4 | Train Loss: 0.57088 | Valid Loss: 0.74184 | Train Accs: 0.74485 | Valid Accs: 0.65538 | Time: 22.99 seconds\n",
      "Epoch: 5 | Train Loss: 0.46066 | Valid Loss: 0.73083 | Train Accs: 0.80437 | Valid Accs: 0.69097 | Time: 23.31 seconds\n",
      "Epoch: 6 | Train Loss: 0.36252 | Valid Loss: 0.82793 | Train Accs: 0.84274 | Valid Accs: 0.69618 | Time: 23.30 seconds\n",
      "Epoch: 7 | Train Loss: 0.32326 | Valid Loss: 0.85425 | Train Accs: 0.88185 | Valid Accs: 0.70399 | Time: 23.17 seconds\n",
      "Epoch: 8 | Train Loss: 0.25087 | Valid Loss: 0.89861 | Train Accs: 0.89988 | Valid Accs: 0.67361 | Time: 23.08 seconds\n",
      "\n",
      "Early Stopping at Epoch 9\n",
      "\n",
      "**************************************************\n",
      "\n",
      "Best Validation Loss at Epoch 3\n",
      "\n",
      "**************************************************\n",
      "\n",
      "Best Validation Accs at Epoch 3\n",
      "\n",
      "**************************************************\n",
      "\n",
      "Time Taken [9 Epochs] : 3.57 minutes\n",
      "\n",
      "**************************************************\n",
      "\n"
     ]
    },
    {
     "data": {
      "image/png": "[encoded data removed]",
      "text/plain": [
       "<Figure size 432x288 with 1 Axes>"
      ]
     },
     "metadata": {
      "needs_background": "light"
     },
     "output_type": "display_data"
    },
    {
     "name": "stdout",
     "output_type": "stream",
     "text": [
      "\n",
      "**************************************************\n",
      "\n"
     ]
    },
    {
     "data": {
      "image/png": "[encoded data removed]",
      "text/plain": [
       "<Figure size 432x288 with 1 Axes>"
      ]
     },
     "metadata": {
      "needs_background": "light"
     },
     "output_type": "display_data"
    },
    {
     "name": "stdout",
     "output_type": "stream",
     "text": [
      "\n",
      "**************************************************\n",
      "\n"
     ]
    },
    {
     "data": {
      "image/png": "[encoded data removed]",
      "text/plain": [
       "<Figure size 576x432 with 1 Axes>"
      ]
     },
     "metadata": {
      "needs_background": "light"
     },
     "output_type": "display_data"
    },
    {
     "name": "stdout",
     "output_type": "stream",
     "text": [
      "\n",
      "**************************************************\n",
      "\n",
      "\n",
      "**************************************************\n",
      "\n",
      "Training Fold 5...\n",
      "\n",
      "**************************************************\n",
      "\n",
      "Epoch: 1 | Train Loss: 1.08585 | Valid Loss: 1.03262 | Train Accs: 0.39869 | Valid Accs: 0.57726 | Time: 24.53 seconds\n",
      "Epoch: 2 | Train Loss: 0.88707 | Valid Loss: 0.67507 | Train Accs: 0.60241 | Valid Accs: 0.70312 | Time: 25.17 seconds\n",
      "Epoch: 3 | Train Loss: 0.66822 | Valid Loss: 0.70313 | Train Accs: 0.71104 | Valid Accs: 0.68576 | Time: 23.24 seconds\n",
      "Epoch: 4 | Train Loss: 0.55014 | Valid Loss: 0.76019 | Train Accs: 0.76577 | Valid Accs: 0.65017 | Time: 23.00 seconds\n",
      "Epoch: 5 | Train Loss: 0.47958 | Valid Loss: 0.76658 | Train Accs: 0.79321 | Valid Accs: 0.68837 | Time: 23.19 seconds\n",
      "Epoch: 6 | Train Loss: 0.39543 | Valid Loss: 0.76132 | Train Accs: 0.84887 | Valid Accs: 0.68490 | Time: 23.09 seconds\n",
      "Epoch: 7 | Train Loss: 0.29668 | Valid Loss: 0.84004 | Train Accs: 0.88682 | Valid Accs: 0.67014 | Time: 23.17 seconds\n",
      "\n",
      "Early Stopping at Epoch 8\n",
      "\n",
      "**************************************************\n",
      "\n",
      "Best Validation Loss at Epoch 2\n",
      "\n",
      "**************************************************\n",
      "\n",
      "Best Validation Accs at Epoch 2\n",
      "\n",
      "**************************************************\n",
      "\n",
      "Time Taken [8 Epochs] : 3.14 minutes\n",
      "\n",
      "**************************************************\n",
      "\n"
     ]
    },
    {
     "data": {
      "image/png": "[encoded data removed]",
      "text/plain": [
       "<Figure size 432x288 with 1 Axes>"
      ]
     },
     "metadata": {
      "needs_background": "light"
     },
     "output_type": "display_data"
    },
    {
     "name": "stdout",
     "output_type": "stream",
     "text": [
      "\n",
      "**************************************************\n",
      "\n"
     ]
    },
    {
     "data": {
      "image/png": "[encoded data removed]",
      "text/plain": [
       "<Figure size 432x288 with 1 Axes>"
      ]
     },
     "metadata": {
      "needs_background": "light"
     },
     "output_type": "display_data"
    },
    {
     "name": "stdout",
     "output_type": "stream",
     "text": [
      "\n",
      "**************************************************\n",
      "\n"
     ]
    },
    {
     "data": {
      "image/png": "[encoded data removed]",
      "text/plain": [
       "<Figure size 576x432 with 1 Axes>"
      ]
     },
     "metadata": {
      "needs_background": "light"
     },
     "output_type": "display_data"
    },
    {
     "name": "stdout",
     "output_type": "stream",
     "text": [
      "\n",
      "**************************************************\n",
      "\n"
     ]
    }
   ],
   "source": [
    "fold: int = 1\n",
    "BLs: list = []\n",
    "BAs: list = []\n",
    "    \n",
    "cfg.batch_size = 64\n",
    "cfg.epochs = 10\n",
    "    \n",
    "for tr_idx, va_idx in StratifiedKFold(n_splits=cfg.n_splits, random_state=cfg.seed, shuffle=True).split(filepaths, labels):\n",
    "#     if fold == 1: break\n",
    "#     fold += 1\n",
    "\n",
    "    tr_filepaths, va_filepaths = filepaths[tr_idx], filepaths[va_idx] \n",
    "    tr_labels, va_labels       = labels[tr_idx], labels[va_idx]\n",
    "\n",
    "    tr_data_setup = DS(\n",
    "        filepaths=tr_filepaths, \n",
    "        labels=tr_labels.reshape(-1, 1),\n",
    "        size=cfg.size,\n",
    "        transform=cfg.train_transform\n",
    "    )\n",
    "\n",
    "    va_data_setup = DS(\n",
    "        filepaths=va_filepaths, \n",
    "        labels=va_labels.reshape(-1, 1),\n",
    "        size=cfg.size,\n",
    "        transform=cfg.train_transform\n",
    "    )\n",
    "\n",
    "    dataloaders = {\n",
    "        \"train\" : DL(tr_data_setup, batch_size=cfg.batch_size, shuffle=True, generator=torch.manual_seed(cfg.seed)),\n",
    "        \"valid\" : DL(va_data_setup, batch_size=cfg.batch_size, shuffle=False),\n",
    "    }\n",
    "\n",
    "    cfg.steps_per_epoch=len(dataloaders[\"train\"])\n",
    "\n",
    "    torch.manual_seed(cfg.seed)\n",
    "    model = Model().to(cfg.device)\n",
    "\n",
    "    optimizer = optim.Adam([p for p in model.parameters() if p.requires_grad], lr=cfg.lr, weight_decay=cfg.wd)\n",
    "    # optimizer = optim.AdamW([p for p in model.parameters() if p.requires_grad], lr=cfg.lr, weight_decay=cfg.wd)\n",
    "    # optimizer = optim.SGD([p for p in model.parameters() if p.requires_grad], lr=cfg.lr, weight_decay=cfg.wd, momentum=0.9)\n",
    "\n",
    "    scheduler_oclr = optim.lr_scheduler.OneCycleLR(\n",
    "        optimizer=optimizer, \n",
    "        max_lr=cfg.max_lr, \n",
    "        epochs=cfg.epochs, \n",
    "        steps_per_epoch=cfg.steps_per_epoch,\n",
    "        pct_start=cfg.pct_start, \n",
    "        div_factor=cfg.div_factor, \n",
    "        final_div_factor=cfg.final_div_factor\n",
    "    )\n",
    "\n",
    "    # scheduler_rlrop = optim.lr_scheduler.ReduceLROnPlateau(\n",
    "    #     optimizer=optimizer,\n",
    "    #     patience=cfg.patience,\n",
    "    #     eps=cfg.eps,\n",
    "    #     verbose=True\n",
    "    # )\n",
    "\n",
    "    # scheduler_oclr = None\n",
    "    scheduler_rlrop = None\n",
    "\n",
    "\n",
    "    L, A, LR, BL, BA, _, _, _, _ = fit(\n",
    "        model=model, \n",
    "        optimizer=optimizer, \n",
    "        scheduler_oclr=scheduler_oclr,\n",
    "        scheduler_rlrop=scheduler_rlrop,\n",
    "        epochs=cfg.epochs, \n",
    "        early_stopping_patience=cfg.early_stopping, \n",
    "        dataloaders=dataloaders, \n",
    "        device=cfg.device,\n",
    "        save_path=cfg.save_path,\n",
    "        fold=fold,\n",
    "        verbose=True\n",
    "    )\n",
    "\n",
    "\n",
    "    breaker()\n",
    "    show_loss_graphs(L)\n",
    "    breaker()\n",
    "    show_accuracy_graphs(A)\n",
    "    breaker()\n",
    "    if scheduler_oclr:\n",
    "        show_lr_graph(LR)\n",
    "        breaker()\n",
    "\n",
    "    BLs.append(BL)\n",
    "    BAs.append(BA)\n",
    "\n",
    "    fold += 1"
   ]
  },
  {
   "cell_type": "markdown",
   "id": "96665b48",
   "metadata": {
    "papermill": {
     "duration": 0.010826,
     "end_time": "2023-01-16T06:40:52.981621",
     "exception": false,
     "start_time": "2023-01-16T06:40:52.970795",
     "status": "completed"
    },
    "tags": []
   },
   "source": [
    "### **Best Model**"
   ]
  },
  {
   "cell_type": "code",
   "execution_count": 10,
   "id": "eaccb8de",
   "metadata": {
    "execution": {
     "iopub.execute_input": "2023-01-16T06:40:53.004897Z",
     "iopub.status.busy": "2023-01-16T06:40:53.004557Z",
     "iopub.status.idle": "2023-01-16T06:40:53.011916Z",
     "shell.execute_reply": "2023-01-16T06:40:53.010918Z"
    },
    "papermill": {
     "duration": 0.02187,
     "end_time": "2023-01-16T06:40:53.014356",
     "exception": false,
     "start_time": "2023-01-16T06:40:52.992486",
     "status": "completed"
    },
    "tags": []
   },
   "outputs": [
    {
     "name": "stdout",
     "output_type": "stream",
     "text": [
      "\n",
      "**************************************************\n",
      "\n",
      "Best Loss Model Fold     : 2\n",
      "Best Accuracy Model Fold : 1\n",
      "\n",
      "**************************************************\n",
      "\n"
     ]
    }
   ],
   "source": [
    "BL = np.inf\n",
    "for i in range(len(BLs)):\n",
    "    if BLs[i][\"valid\"] < BL:\n",
    "        BL = BLs[i][\"valid\"]\n",
    "        best_loss_index = i\n",
    "\n",
    "        \n",
    "BA = 0.0\n",
    "for i in range(len(BAs)):\n",
    "    if BAs[i][\"valid\"] > BA:\n",
    "        BA = BAs[i][\"valid\"]\n",
    "        best_accs_index = i\n",
    "\n",
    "breaker()\n",
    "print(f\"Best Loss Model Fold     : {best_loss_index + 1}\")\n",
    "print(f\"Best Accuracy Model Fold : {best_accs_index + 1}\")\n",
    "breaker()"
   ]
  }
 ],
 "metadata": {
  "kernelspec": {
   "display_name": "Python 3",
   "language": "python",
   "name": "python3"
  },
  "language_info": {
   "codemirror_mode": {
    "name": "ipython",
    "version": 3
   },
   "file_extension": ".py",
   "mimetype": "text/x-python",
   "name": "python",
   "nbconvert_exporter": "python",
   "pygments_lexer": "ipython3",
   "version": "3.7.12"
  },
  "papermill": {
   "default_parameters": {},
   "duration": 1098.811226,
   "end_time": "2023-01-16T06:40:54.758446",
   "environment_variables": {},
   "exception": null,
   "input_path": "__notebook__.ipynb",
   "output_path": "__notebook__.ipynb",
   "parameters": {},
   "start_time": "2023-01-16T06:22:35.947220",
   "version": "2.3.4"
  }
 },
 "nbformat": 4,
 "nbformat_minor": 5
}
