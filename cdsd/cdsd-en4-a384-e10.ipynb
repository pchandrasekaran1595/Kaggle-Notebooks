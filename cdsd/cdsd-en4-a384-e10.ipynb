{
 "cells": [
  {
   "cell_type": "markdown",
   "id": "6fcc8d9a",
   "metadata": {
    "_cell_guid": "b1076dfc-b9ad-4769-8c92-a6c4dae69d19",
    "_uuid": "8f2839f25d086af736a60e9eeb907d3b93b6e0e5",
    "papermill": {
     "duration": 0.00451,
     "end_time": "2023-01-16T05:27:41.569928",
     "exception": false,
     "start_time": "2023-01-16T05:27:41.565418",
     "status": "completed"
    },
    "tags": []
   },
   "source": [
    "### **Setup**"
   ]
  },
  {
   "cell_type": "code",
   "execution_count": 1,
   "id": "0837933c",
   "metadata": {
    "execution": {
     "iopub.execute_input": "2023-01-16T05:27:41.578867Z",
     "iopub.status.busy": "2023-01-16T05:27:41.578142Z",
     "iopub.status.idle": "2023-01-16T05:27:52.325599Z",
     "shell.execute_reply": "2023-01-16T05:27:52.323798Z"
    },
    "papermill": {
     "duration": 10.754436,
     "end_time": "2023-01-16T05:27:52.327949",
     "exception": false,
     "start_time": "2023-01-16T05:27:41.573513",
     "status": "completed"
    },
    "tags": []
   },
   "outputs": [
    {
     "name": "stderr",
     "output_type": "stream",
     "text": [
      "WARNING: Running pip as the 'root' user can result in broken permissions and conflicting behaviour with the system package manager. It is recommended to use a virtual environment instead: https://pip.pypa.io/warnings/venv\n"
     ]
    }
   ],
   "source": [
    "%%bash\n",
    "pip install timm -q"
   ]
  },
  {
   "cell_type": "markdown",
   "id": "bf2d3041",
   "metadata": {
    "papermill": {
     "duration": 0.003349,
     "end_time": "2023-01-16T05:27:52.335172",
     "exception": false,
     "start_time": "2023-01-16T05:27:52.331823",
     "status": "completed"
    },
    "tags": []
   },
   "source": [
    "### **Library Imports**"
   ]
  },
  {
   "cell_type": "code",
   "execution_count": 2,
   "id": "bc853269",
   "metadata": {
    "execution": {
     "iopub.execute_input": "2023-01-16T05:27:52.343662Z",
     "iopub.status.busy": "2023-01-16T05:27:52.343349Z",
     "iopub.status.idle": "2023-01-16T05:27:56.159793Z",
     "shell.execute_reply": "2023-01-16T05:27:56.158765Z"
    },
    "papermill": {
     "duration": 3.823828,
     "end_time": "2023-01-16T05:27:56.162515",
     "exception": false,
     "start_time": "2023-01-16T05:27:52.338687",
     "status": "completed"
    },
    "tags": []
   },
   "outputs": [],
   "source": [
    "import os\n",
    "import re\n",
    "import cv2\n",
    "import timm\n",
    "import torch\n",
    "import numpy as np\n",
    "import pandas as pd\n",
    "import matplotlib.pyplot as plt\n",
    "\n",
    "from time import time\n",
    "from typing import Union\n",
    "from torch import nn, optim\n",
    "from torch.utils.data import Dataset\n",
    "from torch.utils.data import DataLoader as DL\n",
    "from torchvision import transforms\n",
    "\n",
    "from sklearn.model_selection import StratifiedKFold"
   ]
  },
  {
   "cell_type": "markdown",
   "id": "9cd1a518",
   "metadata": {
    "papermill": {
     "duration": 0.003502,
     "end_time": "2023-01-16T05:27:56.170444",
     "exception": false,
     "start_time": "2023-01-16T05:27:56.166942",
     "status": "completed"
    },
    "tags": []
   },
   "source": [
    "### **Utilities and Helpers**"
   ]
  },
  {
   "cell_type": "code",
   "execution_count": 3,
   "id": "e4e0bc8f",
   "metadata": {
    "execution": {
     "iopub.execute_input": "2023-01-16T05:27:56.178881Z",
     "iopub.status.busy": "2023-01-16T05:27:56.178558Z",
     "iopub.status.idle": "2023-01-16T05:27:56.190750Z",
     "shell.execute_reply": "2023-01-16T05:27:56.189761Z"
    },
    "papermill": {
     "duration": 0.01903,
     "end_time": "2023-01-16T05:27:56.192982",
     "exception": false,
     "start_time": "2023-01-16T05:27:56.173952",
     "status": "completed"
    },
    "tags": []
   },
   "outputs": [],
   "source": [
    "SEED: int = 42\n",
    "SIZE: int = 384\n",
    "\n",
    "\n",
    "def breaker(num: int=50, char: str=\"*\") -> None: print(\"\\n\" + num*char + \"\\n\")\n",
    "\n",
    "    \n",
    "def get_image(path: str, size: int=224) -> np.ndarray:\n",
    "    image = cv2.imread(path, cv2.IMREAD_COLOR)\n",
    "    image = cv2.cvtColor(src=image, code=cv2.COLOR_BGR2RGB)\n",
    "    return cv2.resize(src=image, dsize=(size, size), interpolation=cv2.INTER_AREA)\n",
    "\n",
    "    \n",
    "def show_loss_graphs(L: list) -> None:\n",
    "    TL, VL = [], []\n",
    "    for i in range(len(L)):\n",
    "        TL.append(L[i][\"train\"])\n",
    "        VL.append(L[i][\"valid\"])\n",
    "    x_Axis = np.arange(1, len(TL) + 1)\n",
    "    plt.figure()\n",
    "    plt.plot(x_Axis, TL, \"r\", label=\"Train\")\n",
    "    plt.plot(x_Axis, VL, \"b\", label=\"Valid\")\n",
    "    plt.legend()\n",
    "    plt.grid()\n",
    "    plt.title(\"Loss Graph\")\n",
    "    plt.show()\n",
    "\n",
    "    \n",
    "def show_accuracy_graphs(A: list) -> None:\n",
    "    TA, VA = [], []\n",
    "    for i in range(len(A)):\n",
    "        TA.append(A[i][\"train\"])\n",
    "        VA.append(A[i][\"valid\"])\n",
    "    x_Axis = np.arange(1, len(TA) + 1)\n",
    "    plt.figure()\n",
    "    plt.plot(x_Axis, TA, \"r\", label=\"Train\")\n",
    "    plt.plot(x_Axis, VA, \"b\", label=\"Valid\")\n",
    "    plt.legend()\n",
    "    plt.grid()\n",
    "    plt.title(\"Accuracy Graph\")\n",
    "    plt.show()\n",
    "    \n",
    "\n",
    "def show_lr_graph(LR: list) -> None:\n",
    "    x_Axis = [i+1 for i in range(len(LR))]\n",
    "    plt.figure(figsize=(8, 6))\n",
    "    plt.plot(x_Axis, LR, \"rx\")\n",
    "    plt.grid()\n",
    "    plt.show()"
   ]
  },
  {
   "cell_type": "markdown",
   "id": "632116f8",
   "metadata": {
    "papermill": {
     "duration": 0.003446,
     "end_time": "2023-01-16T05:27:56.200008",
     "exception": false,
     "start_time": "2023-01-16T05:27:56.196562",
     "status": "completed"
    },
    "tags": []
   },
   "source": [
    "\n",
    "\n",
    "### **Configuration**"
   ]
  },
  {
   "cell_type": "code",
   "execution_count": 4,
   "id": "f059327a",
   "metadata": {
    "execution": {
     "iopub.execute_input": "2023-01-16T05:27:56.208839Z",
     "iopub.status.busy": "2023-01-16T05:27:56.208520Z",
     "iopub.status.idle": "2023-01-16T05:27:56.282995Z",
     "shell.execute_reply": "2023-01-16T05:27:56.282111Z"
    },
    "papermill": {
     "duration": 0.081514,
     "end_time": "2023-01-16T05:27:56.285043",
     "exception": false,
     "start_time": "2023-01-16T05:27:56.203529",
     "status": "completed"
    },
    "tags": []
   },
   "outputs": [],
   "source": [
    "class CFG(object):\n",
    "    def __init__(self, \n",
    "                 seed: int = 42,\n",
    "                 size: int = 224,\n",
    "                 n_splits: int = 5,\n",
    "                 batch_size: int = 16,\n",
    "                 epochs: int = 25,\n",
    "                 early_stopping: int = 5,\n",
    "                 lr: float = 1e-4,\n",
    "                 wd: float = 0.0,\n",
    "                 max_lr: float = 1e-3,\n",
    "                 pct_start: float = 0.2,\n",
    "                 steps_per_epoch: int = 100,\n",
    "                 div_factor: int = 1e3, \n",
    "                 final_div_factor: float = 1e3,\n",
    "                 ):\n",
    "        self.seed = seed\n",
    "        self.size = size\n",
    "        self.n_splits = n_splits\n",
    "        self.batch_size = batch_size\n",
    "        self.epochs = epochs\n",
    "        self.early_stopping = early_stopping\n",
    "        self.lr = lr\n",
    "        self.wd = wd\n",
    "        self.max_lr = max_lr\n",
    "        self.pct_start = pct_start\n",
    "        self.steps_per_epoch = steps_per_epoch\n",
    "        self.div_factor = div_factor\n",
    "        self.final_div_factor = final_div_factor\n",
    "        self.device = torch.device(\"cuda\" if torch.cuda.is_available() else \"cpu\")\n",
    "        \n",
    "        if self.size == 224:\n",
    "            self.train_transform = transforms.Compose([\n",
    "                transforms.ToTensor(),\n",
    "                transforms.Normalize([0.45431, 0.44497, 0.44980], [0.25191, 0.24961, 0.25089]),\n",
    "                transforms.RandomAffine(degrees=(-45, 45), translate=(0.15, 0.15), scale=(0.5, 1.5)),\n",
    "                transforms.RandomHorizontalFlip(p=0.25),\n",
    "                transforms.RandomVerticalFlip(p=0.25),\n",
    "            ])\n",
    "            self.valid_transform = transforms.Compose([\n",
    "                transforms.ToTensor(),\n",
    "                transforms.Normalize([0.45431, 0.44497, 0.44980], [0.25191, 0.24961, 0.25089]),\n",
    "            ])\n",
    "        \n",
    "        if self.size == 384:\n",
    "            self.train_transform = transforms.Compose([\n",
    "                transforms.ToTensor(),\n",
    "                transforms.Normalize([0.45445, 0.44511, 0.44994], [0.25352, 0.25123, 0.25249]),\n",
    "                transforms.RandomAffine(degrees=(-45, 45), translate=(0.15, 0.15), scale=(0.5, 1.5)),\n",
    "                transforms.RandomHorizontalFlip(p=0.25),\n",
    "                transforms.RandomVerticalFlip(p=0.25),\n",
    "            ])\n",
    "            self.valid_transform = transforms.Compose([\n",
    "                transforms.ToTensor(),\n",
    "                transforms.Normalize([0.45445, 0.44511, 0.44994], [0.25352, 0.25123, 0.25249]),\n",
    "            ])\n",
    "        \n",
    "        if self.size == 512:\n",
    "            self.train_transform = transforms.Compose([\n",
    "                transforms.ToTensor(),\n",
    "                transforms.Normalize([0.45449, 0.44515, 0.44999], [0.25410, 0.25183, 0.25308]),\n",
    "                transforms.RandomAffine(degrees=(-45, 45), translate=(0.15, 0.15), scale=(0.5, 1.5)),\n",
    "                transforms.RandomHorizontalFlip(p=0.25),\n",
    "                transforms.RandomVerticalFlip(p=0.25),\n",
    "            ])\n",
    "            self.valid_transform = transforms.Compose([\n",
    "                transforms.ToTensor(),\n",
    "                transforms.Normalize([0.45449, 0.44515, 0.44999], [0.25410, 0.25183, 0.25308]),\n",
    "            ])\n",
    "                                \n",
    "        self.save_path = \"saves\"\n",
    "        if not os.path.exists(self.save_path): os.makedirs(self.save_path)\n",
    "    \n",
    "cfg = CFG(\n",
    "    seed=SEED, \n",
    "    size=SIZE\n",
    ")"
   ]
  },
  {
   "cell_type": "markdown",
   "id": "c5738d45",
   "metadata": {
    "papermill": {
     "duration": 0.003479,
     "end_time": "2023-01-16T05:27:56.292438",
     "exception": false,
     "start_time": "2023-01-16T05:27:56.288959",
     "status": "completed"
    },
    "tags": []
   },
   "source": [
    "### **Dataset Template**"
   ]
  },
  {
   "cell_type": "code",
   "execution_count": 5,
   "id": "33d72e55",
   "metadata": {
    "execution": {
     "iopub.execute_input": "2023-01-16T05:27:56.302443Z",
     "iopub.status.busy": "2023-01-16T05:27:56.300893Z",
     "iopub.status.idle": "2023-01-16T05:27:56.308332Z",
     "shell.execute_reply": "2023-01-16T05:27:56.307472Z"
    },
    "papermill": {
     "duration": 0.014262,
     "end_time": "2023-01-16T05:27:56.310285",
     "exception": false,
     "start_time": "2023-01-16T05:27:56.296023",
     "status": "completed"
    },
    "tags": []
   },
   "outputs": [],
   "source": [
    "class DS(Dataset):\n",
    "    def __init__(\n",
    "        self, \n",
    "        filepaths: np.ndarray, \n",
    "        size: int,\n",
    "        labels: Union[np.ndarray, None]=None, \n",
    "        transform=None\n",
    "    ):\n",
    "        \n",
    "        self.filepaths = filepaths\n",
    "        self.labels = labels\n",
    "        self.size = size\n",
    "        self.transform = transform\n",
    "    \n",
    "    def __len__(self):\n",
    "        return self.filepaths.shape[0]\n",
    "    \n",
    "    def __getitem__(self, idx):\n",
    "        image = get_image(self.filepaths[idx], self.size)\n",
    "        if self.labels is None:\n",
    "            return self.transform(image)\n",
    "        return self.transform(image), torch.LongTensor(self.labels[idx])"
   ]
  },
  {
   "cell_type": "markdown",
   "id": "9b49d545",
   "metadata": {
    "papermill": {
     "duration": 0.003533,
     "end_time": "2023-01-16T05:27:56.317472",
     "exception": false,
     "start_time": "2023-01-16T05:27:56.313939",
     "status": "completed"
    },
    "tags": []
   },
   "source": [
    "### **Model**"
   ]
  },
  {
   "cell_type": "code",
   "execution_count": 6,
   "id": "0b49ac4a",
   "metadata": {
    "execution": {
     "iopub.execute_input": "2023-01-16T05:27:56.325985Z",
     "iopub.status.busy": "2023-01-16T05:27:56.325661Z",
     "iopub.status.idle": "2023-01-16T05:27:56.332225Z",
     "shell.execute_reply": "2023-01-16T05:27:56.331366Z"
    },
    "papermill": {
     "duration": 0.013201,
     "end_time": "2023-01-16T05:27:56.334310",
     "exception": false,
     "start_time": "2023-01-16T05:27:56.321109",
     "status": "completed"
    },
    "tags": []
   },
   "outputs": [],
   "source": [
    "class Model(nn.Module):\n",
    "    def __init__(self):\n",
    "        super(Model, self).__init__()\n",
    "            \n",
    "        self.model = timm.create_model(model_name=\"efficientnet_b4\", pretrained=True)\n",
    "        self.model.classifier = nn.Linear(in_features=self.model.classifier.in_features, out_features=3)\n",
    "\n",
    "    def forward(self, x):\n",
    "        return nn.LogSoftmax(dim=1)(self.model(x))"
   ]
  },
  {
   "cell_type": "markdown",
   "id": "1e9c4b22",
   "metadata": {
    "papermill": {
     "duration": 0.003774,
     "end_time": "2023-01-16T05:27:56.341854",
     "exception": false,
     "start_time": "2023-01-16T05:27:56.338080",
     "status": "completed"
    },
    "tags": []
   },
   "source": [
    "### **Fit and Predict**"
   ]
  },
  {
   "cell_type": "code",
   "execution_count": 7,
   "id": "778f9564",
   "metadata": {
    "execution": {
     "iopub.execute_input": "2023-01-16T05:27:56.350938Z",
     "iopub.status.busy": "2023-01-16T05:27:56.350659Z",
     "iopub.status.idle": "2023-01-16T05:27:56.371358Z",
     "shell.execute_reply": "2023-01-16T05:27:56.370504Z"
    },
    "papermill": {
     "duration": 0.027648,
     "end_time": "2023-01-16T05:27:56.373318",
     "exception": false,
     "start_time": "2023-01-16T05:27:56.345670",
     "status": "completed"
    },
    "tags": []
   },
   "outputs": [],
   "source": [
    "def fit(\n",
    "    model=None,\n",
    "    optimizer=None, \n",
    "    scheduler_rlrop=None,\n",
    "    scheduler_oclr=None,\n",
    "    epochs=None, \n",
    "    early_stopping_patience=None, \n",
    "    dataloaders=None, \n",
    "    fold=None, \n",
    "    save_path=None,\n",
    "    device=None,\n",
    "    verbose=False\n",
    ") -> tuple:\n",
    "    \n",
    "    def get_accuracy(y_pred, y_true):\n",
    "        y_pred = torch.argmax(y_pred, dim=1)\n",
    "        return torch.count_nonzero(y_pred == y_true).item() / len(y_pred)\n",
    "    \n",
    "    \n",
    "    if verbose:\n",
    "        breaker()\n",
    "        if fold: print(f\"Training Fold {fold}...\")\n",
    "        else: print(\"Training ...\")\n",
    "        breaker()\n",
    "        \n",
    "    bestLoss: dict = {\"train\" : np.inf, \"valid\" : np.inf} \n",
    "    bestAccs: dict = {\"train\" : 0.0, \"valid\" : 0.0}\n",
    "    \n",
    "    Losses: list = []\n",
    "    Accuracies: list = [] \n",
    "    LRs: list = []\n",
    "        \n",
    "    if fold: \n",
    "        ble_name = f\"ble_state_fold_{fold}.pt\"\n",
    "        bae_name = f\"bae_state_fold_{fold}.pt\"\n",
    "    else: \n",
    "        ble_name = f\"ble_state.pt\"\n",
    "        bae_name = f\"bae_state.pt\"\n",
    "        \n",
    "    start_time = time()\n",
    "    for e in range(epochs):\n",
    "        e_st = time()\n",
    "        epochLoss: dict = {\"train\" : 0.0, \"valid\" : 0.0} \n",
    "        epochAccs: dict = {\"train\" : 0.0, \"valid\" : 0.0}\n",
    "\n",
    "        for phase in [\"train\", \"valid\"]:\n",
    "            if phase == \"train\":\n",
    "                model.train()\n",
    "            else:\n",
    "                model.eval()\n",
    "            \n",
    "            lossPerPass: list = []\n",
    "            accsPerPass: list = []\n",
    "                \n",
    "            for X, y in dataloaders[phase]:\n",
    "                X, y = X.to(device), y.to(device).view(-1)\n",
    "\n",
    "                optimizer.zero_grad()\n",
    "                with torch.set_grad_enabled(phase == \"train\"):\n",
    "                    output = model(X)\n",
    "                    loss = nn.NLLLoss()(output, y)\n",
    "                    if phase == \"train\":\n",
    "                        loss.backward()\n",
    "                        optimizer.step()\n",
    "                        if scheduler_oclr: scheduler_oclr.step()\n",
    "                lossPerPass.append(loss.item())\n",
    "                accsPerPass.append(get_accuracy(output, y))\n",
    "            epochLoss[phase] = np.mean(np.array(lossPerPass))\n",
    "            epochAccs[phase] = np.mean(np.array(accsPerPass))\n",
    "        if scheduler_oclr: LRs.append(scheduler_oclr.get_last_lr())\n",
    "        Losses.append(epochLoss)\n",
    "        Accuracies.append(epochAccs)\n",
    "        \n",
    "        if scheduler_oclr:\n",
    "            save_dict = {\"model_state_dict\"     : model.state_dict(),\n",
    "                         \"optim_state_dict\"     : optimizer.state_dict(),\n",
    "                         \"scheduler_state_dict\" : scheduler_oclr.state_dict()}\n",
    "        \n",
    "        elif scheduler_rlrop:\n",
    "            save_dict = {\"model_state_dict\"     : model.state_dict(),\n",
    "                         \"optim_state_dict\"     : optimizer.state_dict(),\n",
    "                         \"scheduler_state_dict\" : scheduler_rlrop.state_dict()}\n",
    "        \n",
    "        else:\n",
    "            save_dict = {\"model_state_dict\"     : model.state_dict(),\n",
    "                         \"optim_state_dict\"     : optimizer.state_dict()}\n",
    "        \n",
    "        if early_stopping_patience:\n",
    "            if epochLoss[\"valid\"] < bestLoss[\"valid\"]:\n",
    "                bestLoss = epochLoss\n",
    "                BLE = e + 1\n",
    "                torch.save(save_dict, os.path.join(save_path, ble_name))\n",
    "                torch.save(save_dict, os.path.join(save_path, bae_name))\n",
    "                early_stopping_step = 0\n",
    "            else:\n",
    "                early_stopping_step += 1\n",
    "                if early_stopping_step > early_stopping_patience:\n",
    "                    print(\"\\nEarly Stopping at Epoch {}\".format(e + 1))\n",
    "                    break\n",
    "        \n",
    "        if epochLoss[\"valid\"] < bestLoss[\"valid\"]:\n",
    "            bestLoss = epochLoss\n",
    "            BLE = e + 1\n",
    "            torch.save(save_dict,os.path.join(save_path, ble_name))\n",
    "        \n",
    "        if epochAccs[\"valid\"] > bestAccs[\"valid\"]:\n",
    "            bestAccs = epochAccs\n",
    "            BAE = e + 1\n",
    "            torch.save(save_dict,os.path.join(save_path, bae_name))\n",
    "        \n",
    "        if scheduler_rlrop: scheduler_rlrop.step(epochLoss[\"valid\"])\n",
    "        \n",
    "        if verbose:\n",
    "            print(\"Epoch: {} | Train Loss: {:.5f} | Valid Loss: {:.5f} |\\\n",
    " Train Accs: {:.5f} | Valid Accs: {:.5f} | Time: {:.2f} seconds\".format(e+1, \n",
    "                                                                        epochLoss[\"train\"], epochLoss[\"valid\"], \n",
    "                                                                        epochAccs[\"train\"], epochAccs[\"valid\"], \n",
    "                                                                        time()-e_st))\n",
    "\n",
    "    if verbose:                                           \n",
    "        breaker()\n",
    "        print(f\"Best Validation Loss at Epoch {BLE}\")\n",
    "        breaker()\n",
    "        print(f\"Best Validation Accs at Epoch {BAE}\")\n",
    "        breaker()\n",
    "        print(\"Time Taken [{} Epochs] : {:.2f} minutes\".format(len(Losses), (time()-start_time)/60))\n",
    "    \n",
    "    return Losses, Accuracies, LRs, bestLoss, bestAccs, BLE, BAE, ble_name, bae_name\n",
    "\n",
    "\n",
    "# def predict_batch(model=None, dataloader=None, path=None, device=None) -> np.ndarray:\n",
    "#     model.load_state_dict(torch.load(path, map_location=device)[\"model_state_dict\"])\n",
    "#     model.to(device)    \n",
    "#     model.eval()\n",
    "    \n",
    "#     y_pred = torch.zeros(1, 1).to(device)\n",
    "    \n",
    "#     for X in dataloader:\n",
    "#         X = X.to(device)\n",
    "#         with torch.no_grad():\n",
    "#             output = torch.argmax(torch.exp(model(X)), dim=1)\n",
    "#         y_pred = torch.cat((y_pred, output.view(-1, 1)), dim=0)\n",
    "    \n",
    "#     return y_pred[1:].detach().cpu().numpy()"
   ]
  },
  {
   "cell_type": "markdown",
   "id": "c16c379b",
   "metadata": {
    "papermill": {
     "duration": 0.004498,
     "end_time": "2023-01-16T05:27:56.381617",
     "exception": false,
     "start_time": "2023-01-16T05:27:56.377119",
     "status": "completed"
    },
    "tags": []
   },
   "source": [
    "### **Train**"
   ]
  },
  {
   "cell_type": "code",
   "execution_count": 8,
   "id": "e25440d1",
   "metadata": {
    "execution": {
     "iopub.execute_input": "2023-01-16T05:27:56.390794Z",
     "iopub.status.busy": "2023-01-16T05:27:56.390129Z",
     "iopub.status.idle": "2023-01-16T05:27:56.416639Z",
     "shell.execute_reply": "2023-01-16T05:27:56.415834Z"
    },
    "papermill": {
     "duration": 0.033281,
     "end_time": "2023-01-16T05:27:56.418720",
     "exception": false,
     "start_time": "2023-01-16T05:27:56.385439",
     "status": "completed"
    },
    "tags": []
   },
   "outputs": [],
   "source": [
    "df = pd.read_csv(\"/kaggle/input/cdsd-dataframe/dataframe.csv\")\n",
    "\n",
    "filepaths = df.filepaths.copy().values\n",
    "labels = df.labels.copy().values"
   ]
  },
  {
   "cell_type": "code",
   "execution_count": 9,
   "id": "afa6706b",
   "metadata": {
    "execution": {
     "iopub.execute_input": "2023-01-16T05:27:56.427966Z",
     "iopub.status.busy": "2023-01-16T05:27:56.427690Z",
     "iopub.status.idle": "2023-01-16T06:16:26.540842Z",
     "shell.execute_reply": "2023-01-16T06:16:26.539876Z"
    },
    "papermill": {
     "duration": 2910.120296,
     "end_time": "2023-01-16T06:16:26.542851",
     "exception": false,
     "start_time": "2023-01-16T05:27:56.422555",
     "status": "completed"
    },
    "tags": []
   },
   "outputs": [
    {
     "name": "stderr",
     "output_type": "stream",
     "text": [
      "Downloading: \"https://github.com/rwightman/pytorch-image-models/releases/download/v0.1-weights/efficientnet_b4_ra2_320-7eb33cd5.pth\" to /root/.cache/torch/hub/checkpoints/efficientnet_b4_ra2_320-7eb33cd5.pth\n"
     ]
    },
    {
     "name": "stdout",
     "output_type": "stream",
     "text": [
      "\n",
      "**************************************************\n",
      "\n",
      "Training Fold 1...\n",
      "\n",
      "**************************************************\n",
      "\n",
      "Epoch: 1 | Train Loss: 1.05769 | Valid Loss: 0.82155 | Train Accs: 0.43674 | Valid Accs: 0.61607 | Time: 84.74 seconds\n",
      "Epoch: 2 | Train Loss: 0.83233 | Valid Loss: 0.82326 | Train Accs: 0.60442 | Valid Accs: 0.59566 | Time: 61.85 seconds\n",
      "Epoch: 3 | Train Loss: 0.72044 | Valid Loss: 0.79039 | Train Accs: 0.68521 | Valid Accs: 0.63138 | Time: 64.84 seconds\n",
      "Epoch: 4 | Train Loss: 0.62351 | Valid Loss: 0.66676 | Train Accs: 0.73628 | Valid Accs: 0.71939 | Time: 63.42 seconds\n",
      "Epoch: 5 | Train Loss: 0.55521 | Valid Loss: 0.71117 | Train Accs: 0.76677 | Valid Accs: 0.66922 | Time: 62.47 seconds\n",
      "Epoch: 6 | Train Loss: 0.43466 | Valid Loss: 0.73466 | Train Accs: 0.82698 | Valid Accs: 0.71556 | Time: 62.16 seconds\n",
      "Epoch: 7 | Train Loss: 0.35100 | Valid Loss: 0.75986 | Train Accs: 0.86433 | Valid Accs: 0.70281 | Time: 61.75 seconds\n",
      "Epoch: 8 | Train Loss: 0.24421 | Valid Loss: 0.80694 | Train Accs: 0.90777 | Valid Accs: 0.70663 | Time: 62.16 seconds\n",
      "Epoch: 9 | Train Loss: 0.19783 | Valid Loss: 0.80067 | Train Accs: 0.92454 | Valid Accs: 0.72747 | Time: 63.15 seconds\n",
      "\n",
      "Early Stopping at Epoch 10\n",
      "\n",
      "**************************************************\n",
      "\n",
      "Best Validation Loss at Epoch 4\n",
      "\n",
      "**************************************************\n",
      "\n",
      "Best Validation Accs at Epoch 9\n",
      "\n",
      "**************************************************\n",
      "\n",
      "Time Taken [10 Epochs] : 10.82 minutes\n",
      "\n",
      "**************************************************\n",
      "\n"
     ]
    },
    {
     "data": {
      "image/png": "[encoded data removed]",
      "text/plain": [
       "<Figure size 432x288 with 1 Axes>"
      ]
     },
     "metadata": {
      "needs_background": "light"
     },
     "output_type": "display_data"
    },
    {
     "name": "stdout",
     "output_type": "stream",
     "text": [
      "\n",
      "**************************************************\n",
      "\n"
     ]
    },
    {
     "data": {
      "image/png": "[encoded data removed]",
      "text/plain": [
       "<Figure size 432x288 with 1 Axes>"
      ]
     },
     "metadata": {
      "needs_background": "light"
     },
     "output_type": "display_data"
    },
    {
     "name": "stdout",
     "output_type": "stream",
     "text": [
      "\n",
      "**************************************************\n",
      "\n"
     ]
    },
    {
     "data": {
      "image/png": "[encoded data removed]",
      "text/plain": [
       "<Figure size 576x432 with 1 Axes>"
      ]
     },
     "metadata": {
      "needs_background": "light"
     },
     "output_type": "display_data"
    },
    {
     "name": "stdout",
     "output_type": "stream",
     "text": [
      "\n",
      "**************************************************\n",
      "\n",
      "\n",
      "**************************************************\n",
      "\n",
      "Training Fold 2...\n",
      "\n",
      "**************************************************\n",
      "\n",
      "Epoch: 1 | Train Loss: 1.05472 | Valid Loss: 0.81114 | Train Accs: 0.44385 | Valid Accs: 0.65476 | Time: 64.27 seconds\n",
      "Epoch: 2 | Train Loss: 0.79062 | Valid Loss: 0.89231 | Train Accs: 0.64092 | Valid Accs: 0.64286 | Time: 62.00 seconds\n",
      "Epoch: 3 | Train Loss: 0.74392 | Valid Loss: 0.76369 | Train Accs: 0.64829 | Valid Accs: 0.65774 | Time: 63.40 seconds\n",
      "Epoch: 4 | Train Loss: 0.62137 | Valid Loss: 0.74994 | Train Accs: 0.73772 | Valid Accs: 0.69940 | Time: 63.78 seconds\n",
      "Epoch: 5 | Train Loss: 0.53873 | Valid Loss: 0.65961 | Train Accs: 0.78218 | Valid Accs: 0.72024 | Time: 63.47 seconds\n",
      "Epoch: 6 | Train Loss: 0.43145 | Valid Loss: 0.77095 | Train Accs: 0.82868 | Valid Accs: 0.68452 | Time: 61.84 seconds\n",
      "Epoch: 7 | Train Loss: 0.32250 | Valid Loss: 0.90065 | Train Accs: 0.87364 | Valid Accs: 0.67063 | Time: 61.89 seconds\n",
      "Epoch: 8 | Train Loss: 0.23052 | Valid Loss: 0.93800 | Train Accs: 0.92319 | Valid Accs: 0.69345 | Time: 61.67 seconds\n",
      "Epoch: 9 | Train Loss: 0.17338 | Valid Loss: 1.00660 | Train Accs: 0.94131 | Valid Accs: 0.69246 | Time: 62.19 seconds\n",
      "Epoch: 10 | Train Loss: 0.14674 | Valid Loss: 0.97823 | Train Accs: 0.94284 | Valid Accs: 0.67460 | Time: 61.16 seconds\n",
      "\n",
      "**************************************************\n",
      "\n",
      "Best Validation Loss at Epoch 5\n",
      "\n",
      "**************************************************\n",
      "\n",
      "Best Validation Accs at Epoch 5\n",
      "\n",
      "**************************************************\n",
      "\n",
      "Time Taken [10 Epochs] : 10.43 minutes\n",
      "\n",
      "**************************************************\n",
      "\n"
     ]
    },
    {
     "data": {
      "image/png": "[encoded data removed]",
      "text/plain": [
       "<Figure size 432x288 with 1 Axes>"
      ]
     },
     "metadata": {
      "needs_background": "light"
     },
     "output_type": "display_data"
    },
    {
     "name": "stdout",
     "output_type": "stream",
     "text": [
      "\n",
      "**************************************************\n",
      "\n"
     ]
    },
    {
     "data": {
      "image/png": "[encoded data removed]",
      "text/plain": [
       "<Figure size 432x288 with 1 Axes>"
      ]
     },
     "metadata": {
      "needs_background": "light"
     },
     "output_type": "display_data"
    },
    {
     "name": "stdout",
     "output_type": "stream",
     "text": [
      "\n",
      "**************************************************\n",
      "\n"
     ]
    },
    {
     "data": {
      "image/png": "[encoded data removed]",
      "text/plain": [
       "<Figure size 576x432 with 1 Axes>"
      ]
     },
     "metadata": {
      "needs_background": "light"
     },
     "output_type": "display_data"
    },
    {
     "name": "stdout",
     "output_type": "stream",
     "text": [
      "\n",
      "**************************************************\n",
      "\n",
      "\n",
      "**************************************************\n",
      "\n",
      "Training Fold 3...\n",
      "\n",
      "**************************************************\n",
      "\n",
      "Epoch: 1 | Train Loss: 1.05369 | Valid Loss: 0.85388 | Train Accs: 0.43183 | Valid Accs: 0.57837 | Time: 63.40 seconds\n",
      "Epoch: 2 | Train Loss: 0.80542 | Valid Loss: 0.72597 | Train Accs: 0.63161 | Valid Accs: 0.65179 | Time: 63.60 seconds\n",
      "Epoch: 3 | Train Loss: 0.71924 | Valid Loss: 0.71850 | Train Accs: 0.67387 | Valid Accs: 0.69246 | Time: 64.10 seconds\n",
      "Epoch: 4 | Train Loss: 0.61611 | Valid Loss: 0.72604 | Train Accs: 0.74746 | Valid Accs: 0.70337 | Time: 62.77 seconds\n",
      "Epoch: 5 | Train Loss: 0.50640 | Valid Loss: 0.70692 | Train Accs: 0.80674 | Valid Accs: 0.68849 | Time: 62.72 seconds\n",
      "Epoch: 6 | Train Loss: 0.40762 | Valid Loss: 0.85135 | Train Accs: 0.84121 | Valid Accs: 0.66270 | Time: 61.57 seconds\n",
      "Epoch: 7 | Train Loss: 0.32025 | Valid Loss: 0.85888 | Train Accs: 0.87779 | Valid Accs: 0.68056 | Time: 61.55 seconds\n",
      "Epoch: 8 | Train Loss: 0.21737 | Valid Loss: 0.85787 | Train Accs: 0.91616 | Valid Accs: 0.71230 | Time: 61.96 seconds\n",
      "Epoch: 9 | Train Loss: 0.19118 | Valid Loss: 0.88973 | Train Accs: 0.92835 | Valid Accs: 0.71825 | Time: 62.58 seconds\n",
      "Epoch: 10 | Train Loss: 0.16757 | Valid Loss: 0.90640 | Train Accs: 0.93750 | Valid Accs: 0.70933 | Time: 61.29 seconds\n",
      "\n",
      "**************************************************\n",
      "\n",
      "Best Validation Loss at Epoch 5\n",
      "\n",
      "**************************************************\n",
      "\n",
      "Best Validation Accs at Epoch 9\n",
      "\n",
      "**************************************************\n",
      "\n",
      "Time Taken [10 Epochs] : 10.43 minutes\n",
      "\n",
      "**************************************************\n",
      "\n"
     ]
    },
    {
     "data": {
      "image/png": "[encoded data removed]",
      "text/plain": [
       "<Figure size 432x288 with 1 Axes>"
      ]
     },
     "metadata": {
      "needs_background": "light"
     },
     "output_type": "display_data"
    },
    {
     "name": "stdout",
     "output_type": "stream",
     "text": [
      "\n",
      "**************************************************\n",
      "\n"
     ]
    },
    {
     "data": {
      "image/png": "[encoded data removed]",
      "text/plain": [
       "<Figure size 432x288 with 1 Axes>"
      ]
     },
     "metadata": {
      "needs_background": "light"
     },
     "output_type": "display_data"
    },
    {
     "name": "stdout",
     "output_type": "stream",
     "text": [
      "\n",
      "**************************************************\n",
      "\n"
     ]
    },
    {
     "data": {
      "image/png": "[encoded data removed]",
      "text/plain": [
       "<Figure size 576x432 with 1 Axes>"
      ]
     },
     "metadata": {
      "needs_background": "light"
     },
     "output_type": "display_data"
    },
    {
     "name": "stdout",
     "output_type": "stream",
     "text": [
      "\n",
      "**************************************************\n",
      "\n",
      "\n",
      "**************************************************\n",
      "\n",
      "Training Fold 4...\n",
      "\n",
      "**************************************************\n",
      "\n",
      "Epoch: 1 | Train Loss: 1.04939 | Valid Loss: 0.83039 | Train Accs: 0.44411 | Valid Accs: 0.61706 | Time: 64.20 seconds\n",
      "Epoch: 2 | Train Loss: 0.80186 | Valid Loss: 0.70656 | Train Accs: 0.62356 | Valid Accs: 0.70536 | Time: 63.98 seconds\n",
      "Epoch: 3 | Train Loss: 0.71797 | Valid Loss: 0.76588 | Train Accs: 0.68589 | Valid Accs: 0.65873 | Time: 61.68 seconds\n",
      "Epoch: 4 | Train Loss: 0.64199 | Valid Loss: 0.72541 | Train Accs: 0.71867 | Valid Accs: 0.69345 | Time: 61.52 seconds\n",
      "Epoch: 5 | Train Loss: 0.49835 | Valid Loss: 0.76375 | Train Accs: 0.79302 | Valid Accs: 0.68750 | Time: 61.70 seconds\n",
      "Epoch: 6 | Train Loss: 0.39011 | Valid Loss: 0.77397 | Train Accs: 0.84925 | Valid Accs: 0.70635 | Time: 62.65 seconds\n",
      "Epoch: 7 | Train Loss: 0.31768 | Valid Loss: 0.95884 | Train Accs: 0.87441 | Valid Accs: 0.67262 | Time: 61.96 seconds\n",
      "\n",
      "Early Stopping at Epoch 8\n",
      "\n",
      "**************************************************\n",
      "\n",
      "Best Validation Loss at Epoch 2\n",
      "\n",
      "**************************************************\n",
      "\n",
      "Best Validation Accs at Epoch 6\n",
      "\n",
      "**************************************************\n",
      "\n",
      "Time Taken [8 Epochs] : 8.32 minutes\n",
      "\n",
      "**************************************************\n",
      "\n"
     ]
    },
    {
     "data": {
      "image/png": "[encoded data removed]",
      "text/plain": [
       "<Figure size 432x288 with 1 Axes>"
      ]
     },
     "metadata": {
      "needs_background": "light"
     },
     "output_type": "display_data"
    },
    {
     "name": "stdout",
     "output_type": "stream",
     "text": [
      "\n",
      "**************************************************\n",
      "\n"
     ]
    },
    {
     "data": {
      "image/png": "[encoded data removed]",
      "text/plain": [
       "<Figure size 432x288 with 1 Axes>"
      ]
     },
     "metadata": {
      "needs_background": "light"
     },
     "output_type": "display_data"
    },
    {
     "name": "stdout",
     "output_type": "stream",
     "text": [
      "\n",
      "**************************************************\n",
      "\n"
     ]
    },
    {
     "data": {
      "image/png": "[encoded data removed]",
      "text/plain": [
       "<Figure size 576x432 with 1 Axes>"
      ]
     },
     "metadata": {
      "needs_background": "light"
     },
     "output_type": "display_data"
    },
    {
     "name": "stdout",
     "output_type": "stream",
     "text": [
      "\n",
      "**************************************************\n",
      "\n",
      "\n",
      "**************************************************\n",
      "\n",
      "Training Fold 5...\n",
      "\n",
      "**************************************************\n",
      "\n",
      "Epoch: 1 | Train Loss: 1.04582 | Valid Loss: 0.81788 | Train Accs: 0.46443 | Valid Accs: 0.59425 | Time: 63.66 seconds\n",
      "Epoch: 2 | Train Loss: 0.79859 | Valid Loss: 0.75294 | Train Accs: 0.62568 | Valid Accs: 0.67063 | Time: 63.80 seconds\n",
      "Epoch: 3 | Train Loss: 0.72845 | Valid Loss: 0.80116 | Train Accs: 0.67124 | Valid Accs: 0.63790 | Time: 61.35 seconds\n",
      "Epoch: 4 | Train Loss: 0.62032 | Valid Loss: 0.81341 | Train Accs: 0.72612 | Valid Accs: 0.66071 | Time: 61.65 seconds\n",
      "Epoch: 5 | Train Loss: 0.52325 | Valid Loss: 0.77767 | Train Accs: 0.79209 | Valid Accs: 0.68552 | Time: 61.66 seconds\n",
      "Epoch: 6 | Train Loss: 0.42979 | Valid Loss: 0.86823 | Train Accs: 0.81877 | Valid Accs: 0.71131 | Time: 62.20 seconds\n",
      "Epoch: 7 | Train Loss: 0.29773 | Valid Loss: 0.88361 | Train Accs: 0.87881 | Valid Accs: 0.66468 | Time: 61.75 seconds\n",
      "\n",
      "Early Stopping at Epoch 8\n",
      "\n",
      "**************************************************\n",
      "\n",
      "Best Validation Loss at Epoch 2\n",
      "\n",
      "**************************************************\n",
      "\n",
      "Best Validation Accs at Epoch 6\n",
      "\n",
      "**************************************************\n",
      "\n",
      "Time Taken [8 Epochs] : 8.28 minutes\n",
      "\n",
      "**************************************************\n",
      "\n"
     ]
    },
    {
     "data": {
      "image/png": "[encoded data removed]",
      "text/plain": [
       "<Figure size 432x288 with 1 Axes>"
      ]
     },
     "metadata": {
      "needs_background": "light"
     },
     "output_type": "display_data"
    },
    {
     "name": "stdout",
     "output_type": "stream",
     "text": [
      "\n",
      "**************************************************\n",
      "\n"
     ]
    },
    {
     "data": {
      "image/png": "[encoded data removed]",
      "text/plain": [
       "<Figure size 432x288 with 1 Axes>"
      ]
     },
     "metadata": {
      "needs_background": "light"
     },
     "output_type": "display_data"
    },
    {
     "name": "stdout",
     "output_type": "stream",
     "text": [
      "\n",
      "**************************************************\n",
      "\n"
     ]
    },
    {
     "data": {
      "image/png": "[encoded data removed]",
      "text/plain": [
       "<Figure size 576x432 with 1 Axes>"
      ]
     },
     "metadata": {
      "needs_background": "light"
     },
     "output_type": "display_data"
    },
    {
     "name": "stdout",
     "output_type": "stream",
     "text": [
      "\n",
      "**************************************************\n",
      "\n"
     ]
    }
   ],
   "source": [
    "fold: int = 1\n",
    "BLs: list = []\n",
    "BAs: list = []\n",
    "    \n",
    "cfg.batch_size = 16\n",
    "cfg.epochs = 10\n",
    "    \n",
    "for tr_idx, va_idx in StratifiedKFold(n_splits=cfg.n_splits, random_state=cfg.seed, shuffle=True).split(filepaths, labels):\n",
    "#     if fold == 1: break\n",
    "#     fold += 1\n",
    "\n",
    "    tr_filepaths, va_filepaths = filepaths[tr_idx], filepaths[va_idx] \n",
    "    tr_labels, va_labels       = labels[tr_idx], labels[va_idx]\n",
    "\n",
    "    tr_data_setup = DS(\n",
    "        filepaths=tr_filepaths, \n",
    "        labels=tr_labels.reshape(-1, 1),\n",
    "        size=cfg.size,\n",
    "        transform=cfg.train_transform\n",
    "    )\n",
    "\n",
    "    va_data_setup = DS(\n",
    "        filepaths=va_filepaths, \n",
    "        labels=va_labels.reshape(-1, 1),\n",
    "        size=cfg.size,\n",
    "        transform=cfg.train_transform\n",
    "    )\n",
    "\n",
    "    dataloaders = {\n",
    "        \"train\" : DL(tr_data_setup, batch_size=cfg.batch_size, shuffle=True, generator=torch.manual_seed(cfg.seed)),\n",
    "        \"valid\" : DL(va_data_setup, batch_size=cfg.batch_size, shuffle=False),\n",
    "    }\n",
    "\n",
    "    cfg.steps_per_epoch=len(dataloaders[\"train\"])\n",
    "\n",
    "    torch.manual_seed(cfg.seed)\n",
    "    model = Model().to(cfg.device)\n",
    "\n",
    "    optimizer = optim.Adam([p for p in model.parameters() if p.requires_grad], lr=cfg.lr, weight_decay=cfg.wd)\n",
    "    # optimizer = optim.AdamW([p for p in model.parameters() if p.requires_grad], lr=cfg.lr, weight_decay=cfg.wd)\n",
    "    # optimizer = optim.SGD([p for p in model.parameters() if p.requires_grad], lr=cfg.lr, weight_decay=cfg.wd, momentum=0.9)\n",
    "\n",
    "    scheduler_oclr = optim.lr_scheduler.OneCycleLR(\n",
    "        optimizer=optimizer, \n",
    "        max_lr=cfg.max_lr, \n",
    "        epochs=cfg.epochs, \n",
    "        steps_per_epoch=cfg.steps_per_epoch,\n",
    "        pct_start=cfg.pct_start, \n",
    "        div_factor=cfg.div_factor, \n",
    "        final_div_factor=cfg.final_div_factor\n",
    "    )\n",
    "\n",
    "    # scheduler_rlrop = optim.lr_scheduler.ReduceLROnPlateau(\n",
    "    #     optimizer=optimizer,\n",
    "    #     patience=cfg.patience,\n",
    "    #     eps=cfg.eps,\n",
    "    #     verbose=True\n",
    "    # )\n",
    "\n",
    "    # scheduler_oclr = None\n",
    "    scheduler_rlrop = None\n",
    "\n",
    "\n",
    "    L, A, LR, BL, BA, _, _, _, _ = fit(\n",
    "        model=model, \n",
    "        optimizer=optimizer, \n",
    "        scheduler_oclr=scheduler_oclr,\n",
    "        scheduler_rlrop=scheduler_rlrop,\n",
    "        epochs=cfg.epochs, \n",
    "        early_stopping_patience=cfg.early_stopping, \n",
    "        dataloaders=dataloaders, \n",
    "        device=cfg.device,\n",
    "        save_path=cfg.save_path,\n",
    "        fold=fold,\n",
    "        verbose=True\n",
    "    )\n",
    "\n",
    "\n",
    "    breaker()\n",
    "    show_loss_graphs(L)\n",
    "    breaker()\n",
    "    show_accuracy_graphs(A)\n",
    "    breaker()\n",
    "    if scheduler_oclr:\n",
    "        show_lr_graph(LR)\n",
    "        breaker()\n",
    "\n",
    "    BLs.append(BL)\n",
    "    BAs.append(BA)\n",
    "\n",
    "    fold += 1"
   ]
  },
  {
   "cell_type": "markdown",
   "id": "0051f75f",
   "metadata": {
    "papermill": {
     "duration": 0.012222,
     "end_time": "2023-01-16T06:16:26.566695",
     "exception": false,
     "start_time": "2023-01-16T06:16:26.554473",
     "status": "completed"
    },
    "tags": []
   },
   "source": [
    "### **Best Model**"
   ]
  },
  {
   "cell_type": "code",
   "execution_count": 10,
   "id": "2cca74af",
   "metadata": {
    "execution": {
     "iopub.execute_input": "2023-01-16T06:16:26.589201Z",
     "iopub.status.busy": "2023-01-16T06:16:26.588911Z",
     "iopub.status.idle": "2023-01-16T06:16:26.595549Z",
     "shell.execute_reply": "2023-01-16T06:16:26.594626Z"
    },
    "papermill": {
     "duration": 0.020271,
     "end_time": "2023-01-16T06:16:26.597474",
     "exception": false,
     "start_time": "2023-01-16T06:16:26.577203",
     "status": "completed"
    },
    "tags": []
   },
   "outputs": [
    {
     "name": "stdout",
     "output_type": "stream",
     "text": [
      "\n",
      "**************************************************\n",
      "\n",
      "Best Loss Model Fold     : 2\n",
      "Best Accuracy Model Fold : 1\n",
      "\n",
      "**************************************************\n",
      "\n"
     ]
    }
   ],
   "source": [
    "BL = np.inf\n",
    "for i in range(len(BLs)):\n",
    "    if BLs[i][\"valid\"] < BL:\n",
    "        BL = BLs[i][\"valid\"]\n",
    "        best_loss_index = i\n",
    "\n",
    "        \n",
    "BA = 0.0\n",
    "for i in range(len(BAs)):\n",
    "    if BAs[i][\"valid\"] > BA:\n",
    "        BA = BAs[i][\"valid\"]\n",
    "        best_accs_index = i\n",
    "\n",
    "breaker()\n",
    "print(f\"Best Loss Model Fold     : {best_loss_index + 1}\")\n",
    "print(f\"Best Accuracy Model Fold : {best_accs_index + 1}\")\n",
    "breaker()"
   ]
  }
 ],
 "metadata": {
  "kernelspec": {
   "display_name": "Python 3",
   "language": "python",
   "name": "python3"
  },
  "language_info": {
   "codemirror_mode": {
    "name": "ipython",
    "version": 3
   },
   "file_extension": ".py",
   "mimetype": "text/x-python",
   "name": "python",
   "nbconvert_exporter": "python",
   "pygments_lexer": "ipython3",
   "version": "3.7.12"
  },
  "papermill": {
   "default_parameters": {},
   "duration": 2934.204927,
   "end_time": "2023-01-16T06:16:28.236830",
   "environment_variables": {},
   "exception": null,
   "input_path": "__notebook__.ipynb",
   "output_path": "__notebook__.ipynb",
   "parameters": {},
   "start_time": "2023-01-16T05:27:34.031903",
   "version": "2.3.4"
  }
 },
 "nbformat": 4,
 "nbformat_minor": 5
}
