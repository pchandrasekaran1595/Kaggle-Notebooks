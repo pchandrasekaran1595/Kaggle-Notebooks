{
 "cells": [
  {
   "cell_type": "markdown",
   "id": "40043a00",
   "metadata": {
    "_cell_guid": "b1076dfc-b9ad-4769-8c92-a6c4dae69d19",
    "_uuid": "8f2839f25d086af736a60e9eeb907d3b93b6e0e5",
    "papermill": {
     "duration": 0.004917,
     "end_time": "2022-11-21T04:25:39.707709",
     "exception": false,
     "start_time": "2022-11-21T04:25:39.702792",
     "status": "completed"
    },
    "tags": []
   },
   "source": [
    "##### **Setup**"
   ]
  },
  {
   "cell_type": "code",
   "execution_count": 1,
   "id": "b64519c3",
   "metadata": {
    "execution": {
     "iopub.execute_input": "2022-11-21T04:25:39.717597Z",
     "iopub.status.busy": "2022-11-21T04:25:39.717148Z",
     "iopub.status.idle": "2022-11-21T04:25:50.667694Z",
     "shell.execute_reply": "2022-11-21T04:25:50.666122Z"
    },
    "papermill": {
     "duration": 10.95839,
     "end_time": "2022-11-21T04:25:50.670336",
     "exception": false,
     "start_time": "2022-11-21T04:25:39.711946",
     "status": "completed"
    },
    "tags": []
   },
   "outputs": [
    {
     "name": "stderr",
     "output_type": "stream",
     "text": [
      "WARNING: Running pip as the 'root' user can result in broken permissions and conflicting behaviour with the system package manager. It is recommended to use a virtual environment instead: https://pip.pypa.io/warnings/venv\n"
     ]
    }
   ],
   "source": [
    "%%bash\n",
    "pip install timm -q"
   ]
  },
  {
   "cell_type": "markdown",
   "id": "81e7ffdf",
   "metadata": {
    "papermill": {
     "duration": 0.004814,
     "end_time": "2022-11-21T04:25:50.679348",
     "exception": false,
     "start_time": "2022-11-21T04:25:50.674534",
     "status": "completed"
    },
    "tags": []
   },
   "source": [
    "### **Library Imports**"
   ]
  },
  {
   "cell_type": "code",
   "execution_count": 2,
   "id": "0e4da4b0",
   "metadata": {
    "execution": {
     "iopub.execute_input": "2022-11-21T04:25:50.689172Z",
     "iopub.status.busy": "2022-11-21T04:25:50.688839Z",
     "iopub.status.idle": "2022-11-21T04:25:54.277257Z",
     "shell.execute_reply": "2022-11-21T04:25:54.276247Z"
    },
    "papermill": {
     "duration": 3.596089,
     "end_time": "2022-11-21T04:25:54.279636",
     "exception": false,
     "start_time": "2022-11-21T04:25:50.683547",
     "status": "completed"
    },
    "tags": []
   },
   "outputs": [],
   "source": [
    "import os\n",
    "import re\n",
    "import cv2\n",
    "import timm\n",
    "import torch\n",
    "import numpy as np\n",
    "import pandas as pd\n",
    "import matplotlib.pyplot as plt\n",
    "\n",
    "from time import time\n",
    "from typing import Union\n",
    "from torch import nn, optim\n",
    "from torch.utils.data import Dataset\n",
    "from torch.utils.data import DataLoader as DL\n",
    "from torchvision import models, transforms\n",
    "\n",
    "from sklearn.model_selection import StratifiedKFold"
   ]
  },
  {
   "cell_type": "markdown",
   "id": "f1e0146c",
   "metadata": {
    "papermill": {
     "duration": 0.003865,
     "end_time": "2022-11-21T04:25:54.287880",
     "exception": false,
     "start_time": "2022-11-21T04:25:54.284015",
     "status": "completed"
    },
    "tags": []
   },
   "source": [
    "### **Utilities and Helpers**"
   ]
  },
  {
   "cell_type": "code",
   "execution_count": 3,
   "id": "bf4b677f",
   "metadata": {
    "execution": {
     "iopub.execute_input": "2022-11-21T04:25:54.297478Z",
     "iopub.status.busy": "2022-11-21T04:25:54.296930Z",
     "iopub.status.idle": "2022-11-21T04:25:54.310179Z",
     "shell.execute_reply": "2022-11-21T04:25:54.309342Z"
    },
    "papermill": {
     "duration": 0.020459,
     "end_time": "2022-11-21T04:25:54.312246",
     "exception": false,
     "start_time": "2022-11-21T04:25:54.291787",
     "status": "completed"
    },
    "tags": []
   },
   "outputs": [],
   "source": [
    "SEED = 42\n",
    "SIZE = 384\n",
    "\n",
    "\n",
    "def breaker(num: int=50, char: str=\"*\") -> None:\n",
    "    print(\"\\n\" + num*char + \"\\n\")\n",
    "\n",
    "    \n",
    "def get_image(path: str, size: int=224) -> np.ndarray:\n",
    "    image = cv2.imread(path, cv2.IMREAD_COLOR)\n",
    "    image = cv2.cvtColor(src=image, code=cv2.COLOR_BGR2RGB)\n",
    "    return cv2.resize(src=image, dsize=(size, size), interpolation=cv2.INTER_AREA)\n",
    "\n",
    "    \n",
    "def show_loss_graphs(L: list) -> None:\n",
    "    TL, VL = [], []\n",
    "    for i in range(len(L)):\n",
    "        TL.append(L[i][\"train\"])\n",
    "        VL.append(L[i][\"valid\"])\n",
    "    x_Axis = np.arange(1, len(TL) + 1)\n",
    "    plt.figure()\n",
    "    plt.plot(x_Axis, TL, \"r\", label=\"Train\")\n",
    "    plt.plot(x_Axis, VL, \"b\", label=\"Valid\")\n",
    "    plt.legend()\n",
    "    plt.grid()\n",
    "    plt.title(\"Loss Graph\")\n",
    "    plt.show()\n",
    "\n",
    "    \n",
    "def show_accuracy_graphs(A: list) -> None:\n",
    "    TA, VA = [], []\n",
    "    for i in range(len(A)):\n",
    "        TA.append(A[i][\"train\"])\n",
    "        VA.append(A[i][\"valid\"])\n",
    "    x_Axis = np.arange(1, len(TA) + 1)\n",
    "    plt.figure()\n",
    "    plt.plot(x_Axis, TA, \"r\", label=\"Train\")\n",
    "    plt.plot(x_Axis, VA, \"b\", label=\"Valid\")\n",
    "    plt.legend()\n",
    "    plt.grid()\n",
    "    plt.title(\"Accuracy Graph\")\n",
    "    plt.show()\n",
    "    \n",
    "\n",
    "def show_lr_graph(LR: list) -> None:\n",
    "    x_Axis = [i+1 for i in range(len(LR))]\n",
    "    plt.figure(figsize=(8, 6))\n",
    "    plt.plot(x_Axis, LR, \"rx\")\n",
    "    plt.grid()\n",
    "    plt.show()"
   ]
  },
  {
   "cell_type": "markdown",
   "id": "ff9fbbda",
   "metadata": {
    "papermill": {
     "duration": 0.003725,
     "end_time": "2022-11-21T04:25:54.319809",
     "exception": false,
     "start_time": "2022-11-21T04:25:54.316084",
     "status": "completed"
    },
    "tags": []
   },
   "source": [
    "### **Configuration**"
   ]
  },
  {
   "cell_type": "code",
   "execution_count": 4,
   "id": "3a0e705a",
   "metadata": {
    "execution": {
     "iopub.execute_input": "2022-11-21T04:25:54.328706Z",
     "iopub.status.busy": "2022-11-21T04:25:54.328436Z",
     "iopub.status.idle": "2022-11-21T04:25:54.398736Z",
     "shell.execute_reply": "2022-11-21T04:25:54.397820Z"
    },
    "papermill": {
     "duration": 0.077174,
     "end_time": "2022-11-21T04:25:54.400834",
     "exception": false,
     "start_time": "2022-11-21T04:25:54.323660",
     "status": "completed"
    },
    "tags": []
   },
   "outputs": [],
   "source": [
    "class CFG(object):\n",
    "    def __init__(self, \n",
    "                 seed: int = 42,\n",
    "                 size: int = 224,\n",
    "                 n_splits: int = 5,\n",
    "                 batch_size: int = 16,\n",
    "                 epochs: int = 25,\n",
    "                 early_stopping: int = 5,\n",
    "                 lr: float = 1e-4,\n",
    "                 wd: float = 0.0,\n",
    "                 max_lr: float = 1e-3,\n",
    "                 pct_start: float = 0.2,\n",
    "                 steps_per_epoch: int = 100,\n",
    "                 div_factor: int = 1e3, \n",
    "                 final_div_factor: float = 1e3,\n",
    "                 ):\n",
    "        self.seed = seed\n",
    "        self.size = size\n",
    "        self.n_splits = n_splits\n",
    "        self.batch_size = batch_size\n",
    "        self.epochs = epochs\n",
    "        self.early_stopping = early_stopping\n",
    "        self.lr = lr\n",
    "        self.wd = wd\n",
    "        self.max_lr = max_lr\n",
    "        self.pct_start = pct_start\n",
    "        self.steps_per_epoch = steps_per_epoch\n",
    "        self.div_factor = div_factor\n",
    "        self.final_div_factor = final_div_factor\n",
    "        self.device = torch.device(\"cuda\" if torch.cuda.is_available() else \"cpu\")\n",
    "        \n",
    "        if self.size == 224:\n",
    "            self.train_transform = transforms.Compose([\n",
    "                transforms.ToTensor(),\n",
    "                transforms.Normalize([0.52544, 0.50744, 0.44312], [0.23076, 0.22994, 0.23781]),\n",
    "                transforms.RandomAffine(degrees=(-45, 45), translate=(0.15, 0.15), scale=(0.5, 1.5)),\n",
    "                transforms.RandomHorizontalFlip(p=0.25),\n",
    "                transforms.RandomVerticalFlip(p=0.25),\n",
    "            ])\n",
    "            self.valid_transform = transforms.Compose([\n",
    "                transforms.ToTensor(),\n",
    "                transforms.Normalize([0.52544, 0.50744, 0.44312], [0.23076, 0.22994, 0.23781]),\n",
    "            ])\n",
    "        \n",
    "        if self.size == 384:\n",
    "            self.train_transform = transforms.Compose([\n",
    "                transforms.ToTensor(),\n",
    "                transforms.Normalize([0.52556, 0.50756, 0.44324], [0.23221, 0.23140, 0.23923]),\n",
    "                transforms.RandomAffine(degrees=(-45, 45), translate=(0.15, 0.15), scale=(0.5, 1.5)),\n",
    "                transforms.RandomHorizontalFlip(p=0.25),\n",
    "                transforms.RandomVerticalFlip(p=0.25),\n",
    "            ])\n",
    "            self.valid_transform = transforms.Compose([\n",
    "                transforms.ToTensor(),\n",
    "                transforms.Normalize([0.52556, 0.50756, 0.44324], [0.23221, 0.23140, 0.23923]),\n",
    "            ])\n",
    "        \n",
    "        if self.size == 512:\n",
    "            self.train_transform = transforms.Compose([\n",
    "                transforms.ToTensor(),\n",
    "                transforms.Normalize([0.52560, 0.50760, 0.44328], [0.23278, 0.23197, 0.23979]),\n",
    "                transforms.RandomAffine(degrees=(-45, 45), translate=(0.15, 0.15), scale=(0.5, 1.5)),\n",
    "                transforms.RandomHorizontalFlip(p=0.25),\n",
    "                transforms.RandomVerticalFlip(p=0.25),\n",
    "            ])\n",
    "            self.valid_transform = transforms.Compose([\n",
    "                transforms.ToTensor(),\n",
    "                transforms.Normalize([0.52560, 0.50760, 0.44328], [0.23278, 0.23197, 0.23979]),\n",
    "            ])\n",
    "                                \n",
    "        self.save_path = \"saves\"\n",
    "        if not os.path.exists(self.save_path): os.makedirs(self.save_path)\n",
    "    \n",
    "cfg = CFG(\n",
    "    seed=SEED, \n",
    "    size=SIZE\n",
    ")"
   ]
  },
  {
   "cell_type": "markdown",
   "id": "570ce30f",
   "metadata": {
    "papermill": {
     "duration": 0.003777,
     "end_time": "2022-11-21T04:25:54.408745",
     "exception": false,
     "start_time": "2022-11-21T04:25:54.404968",
     "status": "completed"
    },
    "tags": []
   },
   "source": [
    "### **Dataset Template**"
   ]
  },
  {
   "cell_type": "code",
   "execution_count": 5,
   "id": "5893ec86",
   "metadata": {
    "execution": {
     "iopub.execute_input": "2022-11-21T04:25:54.417623Z",
     "iopub.status.busy": "2022-11-21T04:25:54.417353Z",
     "iopub.status.idle": "2022-11-21T04:25:54.423691Z",
     "shell.execute_reply": "2022-11-21T04:25:54.422744Z"
    },
    "papermill": {
     "duration": 0.013001,
     "end_time": "2022-11-21T04:25:54.425636",
     "exception": false,
     "start_time": "2022-11-21T04:25:54.412635",
     "status": "completed"
    },
    "tags": []
   },
   "outputs": [],
   "source": [
    "class DS(Dataset):\n",
    "    def __init__(\n",
    "        self, \n",
    "        filepaths: np.ndarray, \n",
    "        size: int,\n",
    "        labels: Union[np.ndarray, None]=None, \n",
    "        transform=None\n",
    "    ):\n",
    "        \n",
    "        self.filepaths = filepaths\n",
    "        self.labels = labels\n",
    "        self.size = size\n",
    "        self.transform = transform\n",
    "    \n",
    "    def __len__(self):\n",
    "        return self.filepaths.shape[0]\n",
    "    \n",
    "    def __getitem__(self, idx):\n",
    "        image = get_image(self.filepaths[idx], self.size)\n",
    "        if self.labels is None:\n",
    "            return self.transform(image)\n",
    "        return self.transform(image), torch.LongTensor(self.labels[idx])"
   ]
  },
  {
   "cell_type": "markdown",
   "id": "328a954a",
   "metadata": {
    "papermill": {
     "duration": 0.003962,
     "end_time": "2022-11-21T04:25:54.433451",
     "exception": false,
     "start_time": "2022-11-21T04:25:54.429489",
     "status": "completed"
    },
    "tags": []
   },
   "source": [
    "### **Model**"
   ]
  },
  {
   "cell_type": "code",
   "execution_count": 6,
   "id": "b2bd4cb2",
   "metadata": {
    "execution": {
     "iopub.execute_input": "2022-11-21T04:25:54.443554Z",
     "iopub.status.busy": "2022-11-21T04:25:54.442179Z",
     "iopub.status.idle": "2022-11-21T04:25:54.448395Z",
     "shell.execute_reply": "2022-11-21T04:25:54.447545Z"
    },
    "papermill": {
     "duration": 0.01313,
     "end_time": "2022-11-21T04:25:54.450474",
     "exception": false,
     "start_time": "2022-11-21T04:25:54.437344",
     "status": "completed"
    },
    "tags": []
   },
   "outputs": [],
   "source": [
    "class Model(nn.Module):\n",
    "    def __init__(self):\n",
    "        super(Model, self).__init__()\n",
    "            \n",
    "        self.model = timm.create_model(model_name=\"efficientnet_b4\", pretrained=True)\n",
    "        self.model.classifier = nn.Linear(in_features=self.model.classifier.in_features, out_features=5)\n",
    "\n",
    "    def forward(self, x):\n",
    "        return nn.LogSoftmax(dim=1)(self.model(x))"
   ]
  },
  {
   "cell_type": "markdown",
   "id": "14c10874",
   "metadata": {
    "papermill": {
     "duration": 0.003785,
     "end_time": "2022-11-21T04:25:54.458128",
     "exception": false,
     "start_time": "2022-11-21T04:25:54.454343",
     "status": "completed"
    },
    "tags": []
   },
   "source": [
    "### **Fit and Predict**"
   ]
  },
  {
   "cell_type": "code",
   "execution_count": 7,
   "id": "201c479c",
   "metadata": {
    "execution": {
     "iopub.execute_input": "2022-11-21T04:25:54.467189Z",
     "iopub.status.busy": "2022-11-21T04:25:54.466931Z",
     "iopub.status.idle": "2022-11-21T04:25:54.487456Z",
     "shell.execute_reply": "2022-11-21T04:25:54.486206Z"
    },
    "papermill": {
     "duration": 0.027501,
     "end_time": "2022-11-21T04:25:54.489441",
     "exception": false,
     "start_time": "2022-11-21T04:25:54.461940",
     "status": "completed"
    },
    "tags": []
   },
   "outputs": [],
   "source": [
    "def fit(\n",
    "    model=None,\n",
    "    optimizer=None, \n",
    "    scheduler_rlrop=None,\n",
    "    scheduler_oclr=None,\n",
    "    epochs=None, \n",
    "    early_stopping_patience=None, \n",
    "    dataloaders=None, \n",
    "    fold=None, \n",
    "    save_path=None,\n",
    "    device=None,\n",
    "    verbose=False\n",
    ") -> tuple:\n",
    "    \n",
    "    def get_accuracy(y_pred, y_true):\n",
    "        y_pred = torch.argmax(y_pred, dim=1)\n",
    "        return torch.count_nonzero(y_pred == y_true).item() / len(y_pred)\n",
    "    \n",
    "    \n",
    "    if verbose:\n",
    "        breaker()\n",
    "        if fold: print(f\"Training Fold {fold}...\")\n",
    "        else: print(\"Training ...\")\n",
    "        breaker()\n",
    "        \n",
    "    bestLoss: dict = {\"train\" : np.inf, \"valid\" : np.inf} \n",
    "    bestAccs: dict = {\"train\" : 0.0, \"valid\" : 0.0}\n",
    "    \n",
    "    Losses: list = []\n",
    "    Accuracies: list = [] \n",
    "    LRs: list = []\n",
    "        \n",
    "    if fold: \n",
    "        ble_name = f\"ble_state_fold_{fold}.pt\"\n",
    "        bae_name = f\"bae_state_fold_{fold}.pt\"\n",
    "    else: \n",
    "        ble_name = f\"ble_state.pt\"\n",
    "        bae_name = f\"bae_state.pt\"\n",
    "        \n",
    "    start_time = time()\n",
    "    for e in range(epochs):\n",
    "        e_st = time()\n",
    "        epochLoss: dict = {\"train\" : 0.0, \"valid\" : 0.0} \n",
    "        epochAccs: dict = {\"train\" : 0.0, \"valid\" : 0.0}\n",
    "\n",
    "        for phase in [\"train\", \"valid\"]:\n",
    "            if phase == \"train\":\n",
    "                model.train()\n",
    "            else:\n",
    "                model.eval()\n",
    "            \n",
    "            lossPerPass: list = []\n",
    "            accsPerPass: list = []\n",
    "                \n",
    "            for X, y in dataloaders[phase]:\n",
    "                X, y = X.to(device), y.to(device).view(-1)\n",
    "\n",
    "                optimizer.zero_grad()\n",
    "                with torch.set_grad_enabled(phase == \"train\"):\n",
    "                    output = model(X)\n",
    "                    loss = torch.nn.NLLLoss()(output, y)\n",
    "                    if phase == \"train\":\n",
    "                        loss.backward()\n",
    "                        optimizer.step()\n",
    "                        if scheduler_oclr: scheduler_oclr.step()\n",
    "                lossPerPass.append(loss.item())\n",
    "                accsPerPass.append(get_accuracy(output, y))\n",
    "            epochLoss[phase] = np.mean(np.array(lossPerPass))\n",
    "            epochAccs[phase] = np.mean(np.array(accsPerPass))\n",
    "        if scheduler_oclr: LRs.append(scheduler_oclr.get_last_lr())\n",
    "        Losses.append(epochLoss)\n",
    "        Accuracies.append(epochAccs)\n",
    "        \n",
    "        if scheduler_oclr:\n",
    "            save_dict = {\"model_state_dict\"     : model.state_dict(),\n",
    "                         \"optim_state_dict\"     : optimizer.state_dict(),\n",
    "                         \"scheduler_state_dict\" : scheduler_oclr.state_dict()}\n",
    "        \n",
    "        elif scheduler_rlrop:\n",
    "            save_dict = {\"model_state_dict\"     : model.state_dict(),\n",
    "                         \"optim_state_dict\"     : optimizer.state_dict(),\n",
    "                         \"scheduler_state_dict\" : scheduler_rlrop.state_dict()}\n",
    "        \n",
    "        else:\n",
    "            save_dict = {\"model_state_dict\"     : model.state_dict(),\n",
    "                         \"optim_state_dict\"     : optimizer.state_dict()}\n",
    "        \n",
    "        if early_stopping_patience:\n",
    "            if epochLoss[\"valid\"] < bestLoss[\"valid\"]:\n",
    "                bestLoss = epochLoss\n",
    "                BLE = e + 1\n",
    "                torch.save(save_dict, os.path.join(save_path, ble_name))\n",
    "                torch.save(save_dict, os.path.join(save_path, bae_name))\n",
    "                early_stopping_step = 0\n",
    "            else:\n",
    "                early_stopping_step += 1\n",
    "                if early_stopping_step > early_stopping_patience:\n",
    "                    print(\"\\nEarly Stopping at Epoch {}\".format(e + 1))\n",
    "                    break\n",
    "        \n",
    "        if epochLoss[\"valid\"] < bestLoss[\"valid\"]:\n",
    "            bestLoss = epochLoss\n",
    "            BLE = e + 1\n",
    "            torch.save(save_dict,os.path.join(save_path, ble_name))\n",
    "        \n",
    "        if epochAccs[\"valid\"] > bestAccs[\"valid\"]:\n",
    "            bestAccs = epochAccs\n",
    "            BAE = e + 1\n",
    "            torch.save(save_dict,os.path.join(save_path, bae_name))\n",
    "        \n",
    "        if scheduler_rlrop: scheduler_rlrop.step(epochLoss[\"valid\"])\n",
    "        \n",
    "        if verbose:\n",
    "            print(\"Epoch: {} | Train Loss: {:.5f} | Valid Loss: {:.5f} |\\\n",
    " Train Accs: {:.5f} | Valid Accs: {:.5f} | Time: {:.2f} seconds\".format(e+1, \n",
    "                                                                        epochLoss[\"train\"], epochLoss[\"valid\"], \n",
    "                                                                        epochAccs[\"train\"], epochAccs[\"valid\"], \n",
    "                                                                        time()-e_st))\n",
    "\n",
    "    if verbose:                                           \n",
    "        breaker()\n",
    "        print(f\"Best Validation Loss at Epoch {BLE}\")\n",
    "        breaker()\n",
    "        print(f\"Best Validation Accs at Epoch {BAE}\")\n",
    "        breaker()\n",
    "        print(\"Time Taken [{} Epochs] : {:.2f} minutes\".format(len(Losses), (time()-start_time)/60))\n",
    "    \n",
    "    return Losses, Accuracies, LRs, bestLoss, bestAccs, BLE, BAE, ble_name, bae_name\n",
    "\n",
    "\n",
    "# def predict_batch(model=None, dataloader=None, path=None, device=None) -> np.ndarray:\n",
    "#     model.load_state_dict(torch.load(path, map_location=device)[\"model_state_dict\"])\n",
    "#     model.to(device)    \n",
    "#     model.eval()\n",
    "    \n",
    "#     y_pred = torch.zeros(1, 1).to(device)\n",
    "    \n",
    "#     for X in dataloader:\n",
    "#         X = X.to(device)\n",
    "#         with torch.no_grad():\n",
    "#             output = torch.argmax(torch.exp(model(X)), dim=1)\n",
    "#         y_pred = torch.cat((y_pred, output.view(-1, 1)), dim=0)\n",
    "    \n",
    "#     return y_pred[1:].detach().cpu().numpy()"
   ]
  },
  {
   "cell_type": "markdown",
   "id": "c7acd083",
   "metadata": {
    "papermill": {
     "duration": 0.003758,
     "end_time": "2022-11-21T04:25:54.497093",
     "exception": false,
     "start_time": "2022-11-21T04:25:54.493335",
     "status": "completed"
    },
    "tags": []
   },
   "source": [
    "### **Train**"
   ]
  },
  {
   "cell_type": "code",
   "execution_count": 8,
   "id": "48cc4dcf",
   "metadata": {
    "execution": {
     "iopub.execute_input": "2022-11-21T04:25:54.505891Z",
     "iopub.status.busy": "2022-11-21T04:25:54.505643Z",
     "iopub.status.idle": "2022-11-21T04:25:54.558379Z",
     "shell.execute_reply": "2022-11-21T04:25:54.557539Z"
    },
    "papermill": {
     "duration": 0.059632,
     "end_time": "2022-11-21T04:25:54.560561",
     "exception": false,
     "start_time": "2022-11-21T04:25:54.500929",
     "status": "completed"
    },
    "tags": []
   },
   "outputs": [],
   "source": [
    "df = pd.read_csv(\"../input/aic-dataframe/train.csv\")\n",
    "\n",
    "filepaths = df.filepaths.copy().values\n",
    "labels = df.labels.copy().values"
   ]
  },
  {
   "cell_type": "code",
   "execution_count": 9,
   "id": "c30c3c2c",
   "metadata": {
    "execution": {
     "iopub.execute_input": "2022-11-21T04:25:54.569599Z",
     "iopub.status.busy": "2022-11-21T04:25:54.569342Z",
     "iopub.status.idle": "2022-11-21T10:12:55.715859Z",
     "shell.execute_reply": "2022-11-21T10:12:55.714916Z"
    },
    "papermill": {
     "duration": 20821.153453,
     "end_time": "2022-11-21T10:12:55.717951",
     "exception": false,
     "start_time": "2022-11-21T04:25:54.564498",
     "status": "completed"
    },
    "tags": []
   },
   "outputs": [
    {
     "name": "stderr",
     "output_type": "stream",
     "text": [
      "Downloading: \"https://github.com/rwightman/pytorch-image-models/releases/download/v0.1-weights/efficientnet_b4_ra2_320-7eb33cd5.pth\" to /root/.cache/torch/hub/checkpoints/efficientnet_b4_ra2_320-7eb33cd5.pth\n"
     ]
    },
    {
     "name": "stdout",
     "output_type": "stream",
     "text": [
      "\n",
      "**************************************************\n",
      "\n",
      "Training Fold 1...\n",
      "\n",
      "**************************************************\n",
      "\n",
      "Epoch: 1 | Train Loss: 0.73857 | Valid Loss: 0.08353 | Train Accs: 0.76963 | Valid Accs: 0.97750 | Time: 505.25 seconds\n",
      "Epoch: 2 | Train Loss: 0.15612 | Valid Loss: 0.13042 | Train Accs: 0.95025 | Valid Accs: 0.95700 | Time: 409.12 seconds\n",
      "Epoch: 3 | Train Loss: 0.12434 | Valid Loss: 0.13231 | Train Accs: 0.95862 | Valid Accs: 0.95700 | Time: 410.11 seconds\n",
      "Epoch: 4 | Train Loss: 0.09144 | Valid Loss: 0.08689 | Train Accs: 0.96950 | Valid Accs: 0.97400 | Time: 409.23 seconds\n",
      "Epoch: 5 | Train Loss: 0.06640 | Valid Loss: 0.05114 | Train Accs: 0.97850 | Valid Accs: 0.98450 | Time: 411.32 seconds\n",
      "Epoch: 6 | Train Loss: 0.04450 | Valid Loss: 0.05710 | Train Accs: 0.98487 | Valid Accs: 0.98250 | Time: 411.80 seconds\n",
      "Epoch: 7 | Train Loss: 0.02721 | Valid Loss: 0.03568 | Train Accs: 0.99162 | Valid Accs: 0.99000 | Time: 411.93 seconds\n",
      "Epoch: 8 | Train Loss: 0.02007 | Valid Loss: 0.05844 | Train Accs: 0.99350 | Valid Accs: 0.98400 | Time: 409.80 seconds\n",
      "Epoch: 9 | Train Loss: 0.00992 | Valid Loss: 0.03759 | Train Accs: 0.99700 | Valid Accs: 0.99150 | Time: 410.04 seconds\n",
      "Epoch: 10 | Train Loss: 0.00989 | Valid Loss: 0.04015 | Train Accs: 0.99662 | Valid Accs: 0.99150 | Time: 412.86 seconds\n",
      "\n",
      "**************************************************\n",
      "\n",
      "Best Validation Loss at Epoch 7\n",
      "\n",
      "**************************************************\n",
      "\n",
      "Best Validation Accs at Epoch 9\n",
      "\n",
      "**************************************************\n",
      "\n",
      "Time Taken [10 Epochs] : 70.02 minutes\n",
      "\n",
      "**************************************************\n",
      "\n"
     ]
    },
    {
     "data": {
      "image/png": "[encoded data removed]",
      "text/plain": [
       "<Figure size 432x288 with 1 Axes>"
      ]
     },
     "metadata": {
      "needs_background": "light"
     },
     "output_type": "display_data"
    },
    {
     "name": "stdout",
     "output_type": "stream",
     "text": [
      "\n",
      "**************************************************\n",
      "\n"
     ]
    },
    {
     "data": {
      "image/png": "[encoded data removed]",
      "text/plain": [
       "<Figure size 432x288 with 1 Axes>"
      ]
     },
     "metadata": {
      "needs_background": "light"
     },
     "output_type": "display_data"
    },
    {
     "name": "stdout",
     "output_type": "stream",
     "text": [
      "\n",
      "**************************************************\n",
      "\n"
     ]
    },
    {
     "data": {
      "image/png": "[encoded data removed]",
      "text/plain": [
       "<Figure size 576x432 with 1 Axes>"
      ]
     },
     "metadata": {
      "needs_background": "light"
     },
     "output_type": "display_data"
    },
    {
     "name": "stdout",
     "output_type": "stream",
     "text": [
      "\n",
      "**************************************************\n",
      "\n",
      "\n",
      "**************************************************\n",
      "\n",
      "Training Fold 2...\n",
      "\n",
      "**************************************************\n",
      "\n",
      "Epoch: 1 | Train Loss: 0.73624 | Valid Loss: 0.09570 | Train Accs: 0.77250 | Valid Accs: 0.96500 | Time: 409.27 seconds\n",
      "Epoch: 2 | Train Loss: 0.16067 | Valid Loss: 0.11002 | Train Accs: 0.94750 | Valid Accs: 0.96650 | Time: 409.20 seconds\n",
      "Epoch: 3 | Train Loss: 0.13792 | Valid Loss: 0.09196 | Train Accs: 0.95513 | Valid Accs: 0.97250 | Time: 410.13 seconds\n",
      "Epoch: 4 | Train Loss: 0.09271 | Valid Loss: 0.09723 | Train Accs: 0.96888 | Valid Accs: 0.97050 | Time: 409.24 seconds\n",
      "Epoch: 5 | Train Loss: 0.07255 | Valid Loss: 0.06505 | Train Accs: 0.97762 | Valid Accs: 0.97800 | Time: 411.43 seconds\n",
      "Epoch: 6 | Train Loss: 0.04155 | Valid Loss: 0.04087 | Train Accs: 0.98625 | Valid Accs: 0.98500 | Time: 411.86 seconds\n",
      "Epoch: 7 | Train Loss: 0.02547 | Valid Loss: 0.03743 | Train Accs: 0.99238 | Valid Accs: 0.98900 | Time: 411.70 seconds\n",
      "Epoch: 8 | Train Loss: 0.01683 | Valid Loss: 0.04426 | Train Accs: 0.99450 | Valid Accs: 0.98650 | Time: 409.55 seconds\n",
      "Epoch: 9 | Train Loss: 0.01391 | Valid Loss: 0.03734 | Train Accs: 0.99487 | Valid Accs: 0.98650 | Time: 409.76 seconds\n",
      "Epoch: 10 | Train Loss: 0.01061 | Valid Loss: 0.04633 | Train Accs: 0.99675 | Valid Accs: 0.98700 | Time: 410.39 seconds\n",
      "\n",
      "**************************************************\n",
      "\n",
      "Best Validation Loss at Epoch 9\n",
      "\n",
      "**************************************************\n",
      "\n",
      "Best Validation Accs at Epoch 7\n",
      "\n",
      "**************************************************\n",
      "\n",
      "Time Taken [10 Epochs] : 68.38 minutes\n",
      "\n",
      "**************************************************\n",
      "\n"
     ]
    },
    {
     "data": {
      "image/png": "[encoded data removed]",
      "text/plain": [
       "<Figure size 432x288 with 1 Axes>"
      ]
     },
     "metadata": {
      "needs_background": "light"
     },
     "output_type": "display_data"
    },
    {
     "name": "stdout",
     "output_type": "stream",
     "text": [
      "\n",
      "**************************************************\n",
      "\n"
     ]
    },
    {
     "data": {
      "image/png": "[encoded data removed]",
      "text/plain": [
       "<Figure size 432x288 with 1 Axes>"
      ]
     },
     "metadata": {
      "needs_background": "light"
     },
     "output_type": "display_data"
    },
    {
     "name": "stdout",
     "output_type": "stream",
     "text": [
      "\n",
      "**************************************************\n",
      "\n"
     ]
    },
    {
     "data": {
      "image/png": "[encoded data removed]",
      "text/plain": [
       "<Figure size 576x432 with 1 Axes>"
      ]
     },
     "metadata": {
      "needs_background": "light"
     },
     "output_type": "display_data"
    },
    {
     "name": "stdout",
     "output_type": "stream",
     "text": [
      "\n",
      "**************************************************\n",
      "\n",
      "\n",
      "**************************************************\n",
      "\n",
      "Training Fold 3...\n",
      "\n",
      "**************************************************\n",
      "\n",
      "Epoch: 1 | Train Loss: 0.74429 | Valid Loss: 0.10290 | Train Accs: 0.76775 | Valid Accs: 0.96900 | Time: 420.19 seconds\n",
      "Epoch: 2 | Train Loss: 0.16167 | Valid Loss: 0.14216 | Train Accs: 0.94837 | Valid Accs: 0.95750 | Time: 418.13 seconds\n",
      "Epoch: 3 | Train Loss: 0.13097 | Valid Loss: 0.10708 | Train Accs: 0.95850 | Valid Accs: 0.96700 | Time: 417.86 seconds\n",
      "Epoch: 4 | Train Loss: 0.09194 | Valid Loss: 0.07640 | Train Accs: 0.96850 | Valid Accs: 0.97150 | Time: 419.21 seconds\n",
      "Epoch: 5 | Train Loss: 0.07148 | Valid Loss: 0.07712 | Train Accs: 0.97513 | Valid Accs: 0.97800 | Time: 417.38 seconds\n",
      "Epoch: 6 | Train Loss: 0.04905 | Valid Loss: 0.07568 | Train Accs: 0.98475 | Valid Accs: 0.97450 | Time: 417.05 seconds\n",
      "Epoch: 7 | Train Loss: 0.02732 | Valid Loss: 0.07037 | Train Accs: 0.99162 | Valid Accs: 0.98100 | Time: 420.93 seconds\n",
      "Epoch: 8 | Train Loss: 0.02003 | Valid Loss: 0.04417 | Train Accs: 0.99387 | Valid Accs: 0.98600 | Time: 419.21 seconds\n",
      "Epoch: 9 | Train Loss: 0.01109 | Valid Loss: 0.05072 | Train Accs: 0.99613 | Valid Accs: 0.98700 | Time: 415.39 seconds\n",
      "Epoch: 10 | Train Loss: 0.01125 | Valid Loss: 0.04313 | Train Accs: 0.99675 | Valid Accs: 0.98900 | Time: 418.82 seconds\n",
      "\n",
      "**************************************************\n",
      "\n",
      "Best Validation Loss at Epoch 10\n",
      "\n",
      "**************************************************\n",
      "\n",
      "Best Validation Accs at Epoch 10\n",
      "\n",
      "**************************************************\n",
      "\n",
      "Time Taken [10 Epochs] : 69.74 minutes\n",
      "\n",
      "**************************************************\n",
      "\n"
     ]
    },
    {
     "data": {
      "image/png": "[encoded data removed]",
      "text/plain": [
       "<Figure size 432x288 with 1 Axes>"
      ]
     },
     "metadata": {
      "needs_background": "light"
     },
     "output_type": "display_data"
    },
    {
     "name": "stdout",
     "output_type": "stream",
     "text": [
      "\n",
      "**************************************************\n",
      "\n"
     ]
    },
    {
     "data": {
      "image/png": "[encoded data removed]",
      "text/plain": [
       "<Figure size 432x288 with 1 Axes>"
      ]
     },
     "metadata": {
      "needs_background": "light"
     },
     "output_type": "display_data"
    },
    {
     "name": "stdout",
     "output_type": "stream",
     "text": [
      "\n",
      "**************************************************\n",
      "\n"
     ]
    },
    {
     "data": {
      "image/png": "[encoded data removed]",
      "text/plain": [
       "<Figure size 576x432 with 1 Axes>"
      ]
     },
     "metadata": {
      "needs_background": "light"
     },
     "output_type": "display_data"
    },
    {
     "name": "stdout",
     "output_type": "stream",
     "text": [
      "\n",
      "**************************************************\n",
      "\n",
      "\n",
      "**************************************************\n",
      "\n",
      "Training Fold 4...\n",
      "\n",
      "**************************************************\n",
      "\n",
      "Epoch: 1 | Train Loss: 0.74229 | Valid Loss: 0.14276 | Train Accs: 0.77400 | Valid Accs: 0.95850 | Time: 415.76 seconds\n",
      "Epoch: 2 | Train Loss: 0.15908 | Valid Loss: 0.13492 | Train Accs: 0.94950 | Valid Accs: 0.95550 | Time: 417.81 seconds\n",
      "Epoch: 3 | Train Loss: 0.13027 | Valid Loss: 0.10973 | Train Accs: 0.95825 | Valid Accs: 0.96350 | Time: 417.01 seconds\n",
      "Epoch: 4 | Train Loss: 0.09304 | Valid Loss: 0.09638 | Train Accs: 0.97075 | Valid Accs: 0.97000 | Time: 414.28 seconds\n",
      "Epoch: 5 | Train Loss: 0.06965 | Valid Loss: 0.06192 | Train Accs: 0.97800 | Valid Accs: 0.98000 | Time: 413.17 seconds\n",
      "Epoch: 6 | Train Loss: 0.04909 | Valid Loss: 0.06420 | Train Accs: 0.98400 | Valid Accs: 0.97900 | Time: 421.81 seconds\n",
      "Epoch: 7 | Train Loss: 0.02288 | Valid Loss: 0.05507 | Train Accs: 0.99262 | Valid Accs: 0.98500 | Time: 424.39 seconds\n",
      "Epoch: 8 | Train Loss: 0.02011 | Valid Loss: 0.05393 | Train Accs: 0.99275 | Valid Accs: 0.98550 | Time: 424.76 seconds\n",
      "Epoch: 9 | Train Loss: 0.01263 | Valid Loss: 0.05340 | Train Accs: 0.99475 | Valid Accs: 0.98650 | Time: 423.46 seconds\n",
      "Epoch: 10 | Train Loss: 0.01464 | Valid Loss: 0.05052 | Train Accs: 0.99575 | Valid Accs: 0.98600 | Time: 415.22 seconds\n",
      "\n",
      "**************************************************\n",
      "\n",
      "Best Validation Loss at Epoch 10\n",
      "\n",
      "**************************************************\n",
      "\n",
      "Best Validation Accs at Epoch 9\n",
      "\n",
      "**************************************************\n",
      "\n",
      "Time Taken [10 Epochs] : 69.79 minutes\n",
      "\n",
      "**************************************************\n",
      "\n"
     ]
    },
    {
     "data": {
      "image/png": "[encoded data removed]",
      "text/plain": [
       "<Figure size 432x288 with 1 Axes>"
      ]
     },
     "metadata": {
      "needs_background": "light"
     },
     "output_type": "display_data"
    },
    {
     "name": "stdout",
     "output_type": "stream",
     "text": [
      "\n",
      "**************************************************\n",
      "\n"
     ]
    },
    {
     "data": {
      "image/png": "[encoded data removed]",
      "text/plain": [
       "<Figure size 432x288 with 1 Axes>"
      ]
     },
     "metadata": {
      "needs_background": "light"
     },
     "output_type": "display_data"
    },
    {
     "name": "stdout",
     "output_type": "stream",
     "text": [
      "\n",
      "**************************************************\n",
      "\n"
     ]
    },
    {
     "data": {
      "image/png": "[encoded data removed]",
      "text/plain": [
       "<Figure size 576x432 with 1 Axes>"
      ]
     },
     "metadata": {
      "needs_background": "light"
     },
     "output_type": "display_data"
    },
    {
     "name": "stdout",
     "output_type": "stream",
     "text": [
      "\n",
      "**************************************************\n",
      "\n",
      "\n",
      "**************************************************\n",
      "\n",
      "Training Fold 5...\n",
      "\n",
      "**************************************************\n",
      "\n",
      "Epoch: 1 | Train Loss: 0.73916 | Valid Loss: 0.09946 | Train Accs: 0.76887 | Valid Accs: 0.97200 | Time: 409.56 seconds\n",
      "Epoch: 2 | Train Loss: 0.16201 | Valid Loss: 0.16177 | Train Accs: 0.94537 | Valid Accs: 0.94000 | Time: 407.27 seconds\n",
      "Epoch: 3 | Train Loss: 0.13312 | Valid Loss: 0.11372 | Train Accs: 0.95675 | Valid Accs: 0.96150 | Time: 406.24 seconds\n",
      "Epoch: 4 | Train Loss: 0.08988 | Valid Loss: 0.09248 | Train Accs: 0.96913 | Valid Accs: 0.97250 | Time: 409.85 seconds\n",
      "Epoch: 5 | Train Loss: 0.06783 | Valid Loss: 0.06720 | Train Accs: 0.97750 | Valid Accs: 0.97850 | Time: 412.84 seconds\n",
      "Epoch: 6 | Train Loss: 0.04962 | Valid Loss: 0.07211 | Train Accs: 0.98275 | Valid Accs: 0.97950 | Time: 420.43 seconds\n",
      "Epoch: 7 | Train Loss: 0.02499 | Valid Loss: 0.07016 | Train Accs: 0.99262 | Valid Accs: 0.97900 | Time: 417.89 seconds\n",
      "Epoch: 8 | Train Loss: 0.01842 | Valid Loss: 0.06372 | Train Accs: 0.99400 | Valid Accs: 0.98250 | Time: 419.67 seconds\n",
      "Epoch: 9 | Train Loss: 0.01008 | Valid Loss: 0.07694 | Train Accs: 0.99613 | Valid Accs: 0.98350 | Time: 414.61 seconds\n",
      "Epoch: 10 | Train Loss: 0.00888 | Valid Loss: 0.06588 | Train Accs: 0.99762 | Valid Accs: 0.98400 | Time: 415.13 seconds\n",
      "\n",
      "**************************************************\n",
      "\n",
      "Best Validation Loss at Epoch 8\n",
      "\n",
      "**************************************************\n",
      "\n",
      "Best Validation Accs at Epoch 10\n",
      "\n",
      "**************************************************\n",
      "\n",
      "Time Taken [10 Epochs] : 68.89 minutes\n",
      "\n",
      "**************************************************\n",
      "\n"
     ]
    },
    {
     "data": {
      "image/png": "[encoded data removed]",
      "text/plain": [
       "<Figure size 432x288 with 1 Axes>"
      ]
     },
     "metadata": {
      "needs_background": "light"
     },
     "output_type": "display_data"
    },
    {
     "name": "stdout",
     "output_type": "stream",
     "text": [
      "\n",
      "**************************************************\n",
      "\n"
     ]
    },
    {
     "data": {
      "image/png": "[encoded data removed]",
      "text/plain": [
       "<Figure size 432x288 with 1 Axes>"
      ]
     },
     "metadata": {
      "needs_background": "light"
     },
     "output_type": "display_data"
    },
    {
     "name": "stdout",
     "output_type": "stream",
     "text": [
      "\n",
      "**************************************************\n",
      "\n"
     ]
    },
    {
     "data": {
      "image/png": "[encoded data removed]",
      "text/plain": [
       "<Figure size 576x432 with 1 Axes>"
      ]
     },
     "metadata": {
      "needs_background": "light"
     },
     "output_type": "display_data"
    },
    {
     "name": "stdout",
     "output_type": "stream",
     "text": [
      "\n",
      "**************************************************\n",
      "\n"
     ]
    }
   ],
   "source": [
    "fold: int = 1\n",
    "BLs: list = []\n",
    "BAs: list = []\n",
    "    \n",
    "cfg.batch_size = 16\n",
    "cfg.epochs = 10\n",
    "    \n",
    "for tr_idx, va_idx in StratifiedKFold(n_splits=cfg.n_splits, random_state=cfg.seed, shuffle=True).split(filepaths, labels):\n",
    "\n",
    "    tr_filepaths, va_filepaths = filepaths[tr_idx], filepaths[va_idx] \n",
    "    tr_labels, va_labels       = labels[tr_idx], labels[va_idx]\n",
    "\n",
    "    tr_data_setup = DS(\n",
    "        filepaths=tr_filepaths, \n",
    "        labels=tr_labels.reshape(-1, 1),\n",
    "        size=cfg.size,\n",
    "        transform=cfg.train_transform\n",
    "    )\n",
    "    \n",
    "    va_data_setup = DS(\n",
    "        filepaths=va_filepaths, \n",
    "        labels=va_labels.reshape(-1, 1),\n",
    "        size=cfg.size,\n",
    "        transform=cfg.train_transform\n",
    "    )\n",
    "\n",
    "    dataloaders = {\n",
    "        \"train\" : DL(tr_data_setup, batch_size=cfg.batch_size, shuffle=True, generator=torch.manual_seed(cfg.seed)),\n",
    "        \"valid\" : DL(va_data_setup, batch_size=cfg.batch_size, shuffle=False),\n",
    "    }\n",
    "\n",
    "    cfg.steps_per_epoch=len(dataloaders[\"train\"])\n",
    "    \n",
    "    torch.manual_seed(cfg.seed)\n",
    "    model = Model().to(cfg.device)\n",
    "\n",
    "    optimizer = optim.Adam([p for p in model.parameters() if p.requires_grad], lr=cfg.lr, weight_decay=cfg.wd)\n",
    "    # optimizer = optim.AdamW([p for p in model.parameters() if p.requires_grad], lr=cfg.lr, weight_decay=cfg.wd)\n",
    "    # optimizer = optim.SGD([p for p in model.parameters() if p.requires_grad], lr=cfg.lr, weight_decay=cfg.wd, momentum=0.9)\n",
    "\n",
    "    scheduler_oclr = optim.lr_scheduler.OneCycleLR(\n",
    "        optimizer=optimizer, \n",
    "        max_lr=cfg.max_lr, \n",
    "        epochs=cfg.epochs, \n",
    "        steps_per_epoch=cfg.steps_per_epoch,\n",
    "        pct_start=cfg.pct_start, \n",
    "        div_factor=cfg.div_factor, \n",
    "        final_div_factor=cfg.final_div_factor\n",
    "    )\n",
    "\n",
    "    # scheduler_rlrop = optim.lr_scheduler.ReduceLROnPlateau(\n",
    "    #     optimizer=optimizer,\n",
    "    #     patience=cfg.patience,\n",
    "    #     eps=cfg.eps,\n",
    "    #     verbose=True\n",
    "    # )\n",
    "\n",
    "    # scheduler_oclr = None\n",
    "    scheduler_rlrop = None\n",
    "\n",
    "\n",
    "    L, A, LR, BL, BA, _, _, _, _ = fit(\n",
    "        model=model, \n",
    "        optimizer=optimizer, \n",
    "        scheduler_oclr=scheduler_oclr,\n",
    "        scheduler_rlrop=scheduler_rlrop,\n",
    "        epochs=cfg.epochs, \n",
    "        early_stopping_patience=cfg.early_stopping, \n",
    "        dataloaders=dataloaders, \n",
    "        device=cfg.device,\n",
    "        save_path=cfg.save_path,\n",
    "        fold=fold,\n",
    "        verbose=True\n",
    "    )\n",
    "\n",
    "\n",
    "    breaker()\n",
    "    show_loss_graphs(L)\n",
    "    breaker()\n",
    "    show_accuracy_graphs(A)\n",
    "    breaker()\n",
    "    if scheduler_oclr:\n",
    "        show_lr_graph(LR)\n",
    "        breaker()\n",
    "    \n",
    "    BLs.append(BL)\n",
    "    BAs.append(BA)\n",
    "    \n",
    "    fold += 1"
   ]
  },
  {
   "cell_type": "markdown",
   "id": "1356cd77",
   "metadata": {
    "papermill": {
     "duration": 0.010696,
     "end_time": "2022-11-21T10:12:55.740140",
     "exception": false,
     "start_time": "2022-11-21T10:12:55.729444",
     "status": "completed"
    },
    "tags": []
   },
   "source": [
    "### **Best Model**"
   ]
  },
  {
   "cell_type": "code",
   "execution_count": 10,
   "id": "69ceff5b",
   "metadata": {
    "execution": {
     "iopub.execute_input": "2022-11-21T10:12:55.764363Z",
     "iopub.status.busy": "2022-11-21T10:12:55.762892Z",
     "iopub.status.idle": "2022-11-21T10:12:55.771097Z",
     "shell.execute_reply": "2022-11-21T10:12:55.770181Z"
    },
    "papermill": {
     "duration": 0.022167,
     "end_time": "2022-11-21T10:12:55.773283",
     "exception": false,
     "start_time": "2022-11-21T10:12:55.751116",
     "status": "completed"
    },
    "tags": []
   },
   "outputs": [
    {
     "name": "stdout",
     "output_type": "stream",
     "text": [
      "\n",
      "**************************************************\n",
      "\n",
      "Best Loss Model Fold     : 1\n",
      "Best Accuracy Model Fold : 1\n",
      "\n",
      "**************************************************\n",
      "\n"
     ]
    }
   ],
   "source": [
    "BL = np.inf\n",
    "for i in range(len(BLs)):\n",
    "    if BLs[i][\"valid\"] < BL:\n",
    "        BL = BLs[i][\"valid\"]\n",
    "        best_loss_index = i\n",
    "\n",
    "        \n",
    "BA = 0.0\n",
    "for i in range(len(BAs)):\n",
    "    if BAs[i][\"valid\"] > BA:\n",
    "        BA = BAs[i][\"valid\"]\n",
    "        best_accs_index = i\n",
    "\n",
    "breaker()\n",
    "print(f\"Best Loss Model Fold     : {best_loss_index + 1}\")\n",
    "print(f\"Best Accuracy Model Fold : {best_accs_index + 1}\")\n",
    "breaker()"
   ]
  }
 ],
 "metadata": {
  "kernelspec": {
   "display_name": "Python 3",
   "language": "python",
   "name": "python3"
  },
  "language_info": {
   "codemirror_mode": {
    "name": "ipython",
    "version": 3
   },
   "file_extension": ".py",
   "mimetype": "text/x-python",
   "name": "python",
   "nbconvert_exporter": "python",
   "pygments_lexer": "ipython3",
   "version": "3.7.12"
  },
  "papermill": {
   "default_parameters": {},
   "duration": 20845.510711,
   "end_time": "2022-11-21T10:12:57.635963",
   "environment_variables": {},
   "exception": null,
   "input_path": "__notebook__.ipynb",
   "output_path": "__notebook__.ipynb",
   "parameters": {},
   "start_time": "2022-11-21T04:25:32.125252",
   "version": "2.3.4"
  }
 },
 "nbformat": 4,
 "nbformat_minor": 5
}
