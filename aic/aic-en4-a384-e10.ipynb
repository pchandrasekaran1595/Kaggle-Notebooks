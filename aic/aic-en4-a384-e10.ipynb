{
 "cells": [
  {
   "cell_type": "markdown",
   "id": "cc5fe782",
   "metadata": {
    "_cell_guid": "b1076dfc-b9ad-4769-8c92-a6c4dae69d19",
    "_uuid": "8f2839f25d086af736a60e9eeb907d3b93b6e0e5",
    "papermill": {
     "duration": 0.005108,
     "end_time": "2022-11-18T14:41:45.268413",
     "exception": false,
     "start_time": "2022-11-18T14:41:45.263305",
     "status": "completed"
    },
    "tags": []
   },
   "source": [
    "##### **Setup**"
   ]
  },
  {
   "cell_type": "code",
   "execution_count": 1,
   "id": "f8ba83cf",
   "metadata": {
    "execution": {
     "iopub.execute_input": "2022-11-18T14:41:45.278188Z",
     "iopub.status.busy": "2022-11-18T14:41:45.277747Z",
     "iopub.status.idle": "2022-11-18T14:41:57.007030Z",
     "shell.execute_reply": "2022-11-18T14:41:57.005785Z"
    },
    "papermill": {
     "duration": 11.736748,
     "end_time": "2022-11-18T14:41:57.009509",
     "exception": false,
     "start_time": "2022-11-18T14:41:45.272761",
     "status": "completed"
    },
    "tags": []
   },
   "outputs": [
    {
     "name": "stderr",
     "output_type": "stream",
     "text": [
      "WARNING: Running pip as the 'root' user can result in broken permissions and conflicting behaviour with the system package manager. It is recommended to use a virtual environment instead: https://pip.pypa.io/warnings/venv\n"
     ]
    }
   ],
   "source": [
    "%%bash\n",
    "pip install timm -q"
   ]
  },
  {
   "cell_type": "markdown",
   "id": "94fe5ec1",
   "metadata": {
    "papermill": {
     "duration": 0.003842,
     "end_time": "2022-11-18T14:41:57.017714",
     "exception": false,
     "start_time": "2022-11-18T14:41:57.013872",
     "status": "completed"
    },
    "tags": []
   },
   "source": [
    "### **Library Imports**"
   ]
  },
  {
   "cell_type": "code",
   "execution_count": 2,
   "id": "0aa396ff",
   "metadata": {
    "execution": {
     "iopub.execute_input": "2022-11-18T14:41:57.027524Z",
     "iopub.status.busy": "2022-11-18T14:41:57.026810Z",
     "iopub.status.idle": "2022-11-18T14:42:00.959121Z",
     "shell.execute_reply": "2022-11-18T14:42:00.958067Z"
    },
    "papermill": {
     "duration": 3.940259,
     "end_time": "2022-11-18T14:42:00.961896",
     "exception": false,
     "start_time": "2022-11-18T14:41:57.021637",
     "status": "completed"
    },
    "tags": []
   },
   "outputs": [],
   "source": [
    "import os\n",
    "import re\n",
    "import cv2\n",
    "import timm\n",
    "import torch\n",
    "import numpy as np\n",
    "import pandas as pd\n",
    "import matplotlib.pyplot as plt\n",
    "\n",
    "from time import time\n",
    "from typing import Union\n",
    "from torch import nn, optim\n",
    "from torch.utils.data import Dataset\n",
    "from torch.utils.data import DataLoader as DL\n",
    "from torchvision import models, transforms\n",
    "\n",
    "from sklearn.model_selection import StratifiedKFold"
   ]
  },
  {
   "cell_type": "markdown",
   "id": "e1c172d8",
   "metadata": {
    "papermill": {
     "duration": 0.003814,
     "end_time": "2022-11-18T14:42:00.970099",
     "exception": false,
     "start_time": "2022-11-18T14:42:00.966285",
     "status": "completed"
    },
    "tags": []
   },
   "source": [
    "### **Utilities and Helpers**"
   ]
  },
  {
   "cell_type": "code",
   "execution_count": 3,
   "id": "c4c6b74b",
   "metadata": {
    "execution": {
     "iopub.execute_input": "2022-11-18T14:42:00.982002Z",
     "iopub.status.busy": "2022-11-18T14:42:00.980225Z",
     "iopub.status.idle": "2022-11-18T14:42:00.994023Z",
     "shell.execute_reply": "2022-11-18T14:42:00.992949Z"
    },
    "papermill": {
     "duration": 0.021228,
     "end_time": "2022-11-18T14:42:00.996041",
     "exception": false,
     "start_time": "2022-11-18T14:42:00.974813",
     "status": "completed"
    },
    "tags": []
   },
   "outputs": [],
   "source": [
    "SEED = 42\n",
    "SIZE = 384\n",
    "\n",
    "\n",
    "def breaker(num: int=50, char: str=\"*\") -> None:\n",
    "    print(\"\\n\" + num*char + \"\\n\")\n",
    "\n",
    "    \n",
    "def get_image(path: str, size: int=224) -> np.ndarray:\n",
    "    image = cv2.imread(path, cv2.IMREAD_COLOR)\n",
    "    image = cv2.cvtColor(src=image, code=cv2.COLOR_BGR2RGB)\n",
    "    return cv2.resize(src=image, dsize=(size, size), interpolation=cv2.INTER_AREA)\n",
    "\n",
    "    \n",
    "def show_loss_graphs(L: list) -> None:\n",
    "    TL, VL = [], []\n",
    "    for i in range(len(L)):\n",
    "        TL.append(L[i][\"train\"])\n",
    "        VL.append(L[i][\"valid\"])\n",
    "    x_Axis = np.arange(1, len(TL) + 1)\n",
    "    plt.figure()\n",
    "    plt.plot(x_Axis, TL, \"r\", label=\"Train\")\n",
    "    plt.plot(x_Axis, VL, \"b\", label=\"Valid\")\n",
    "    plt.legend()\n",
    "    plt.grid()\n",
    "    plt.title(\"Loss Graph\")\n",
    "    plt.show()\n",
    "\n",
    "    \n",
    "def show_accuracy_graphs(A: list) -> None:\n",
    "    TA, VA = [], []\n",
    "    for i in range(len(A)):\n",
    "        TA.append(A[i][\"train\"])\n",
    "        VA.append(A[i][\"valid\"])\n",
    "    x_Axis = np.arange(1, len(TA) + 1)\n",
    "    plt.figure()\n",
    "    plt.plot(x_Axis, TA, \"r\", label=\"Train\")\n",
    "    plt.plot(x_Axis, VA, \"b\", label=\"Valid\")\n",
    "    plt.legend()\n",
    "    plt.grid()\n",
    "    plt.title(\"Accuracy Graph\")\n",
    "    plt.show()\n",
    "    \n",
    "\n",
    "def show_lr_graph(LR: list) -> None:\n",
    "    x_Axis = [i+1 for i in range(len(LR))]\n",
    "    plt.figure(figsize=(8, 6))\n",
    "    plt.plot(x_Axis, LR, \"rx\")\n",
    "    plt.grid()\n",
    "    plt.show()"
   ]
  },
  {
   "cell_type": "markdown",
   "id": "1bac0367",
   "metadata": {
    "papermill": {
     "duration": 0.003827,
     "end_time": "2022-11-18T14:42:01.003888",
     "exception": false,
     "start_time": "2022-11-18T14:42:01.000061",
     "status": "completed"
    },
    "tags": []
   },
   "source": [
    "### **Configuration**"
   ]
  },
  {
   "cell_type": "code",
   "execution_count": 4,
   "id": "6c958a42",
   "metadata": {
    "execution": {
     "iopub.execute_input": "2022-11-18T14:42:01.013456Z",
     "iopub.status.busy": "2022-11-18T14:42:01.013191Z",
     "iopub.status.idle": "2022-11-18T14:42:01.082982Z",
     "shell.execute_reply": "2022-11-18T14:42:01.082113Z"
    },
    "papermill": {
     "duration": 0.077291,
     "end_time": "2022-11-18T14:42:01.085150",
     "exception": false,
     "start_time": "2022-11-18T14:42:01.007859",
     "status": "completed"
    },
    "tags": []
   },
   "outputs": [],
   "source": [
    "class CFG(object):\n",
    "    def __init__(self, \n",
    "                 seed: int = 42,\n",
    "                 size: int = 224,\n",
    "                 n_splits: int = 5,\n",
    "                 batch_size: int = 16,\n",
    "                 epochs: int = 25,\n",
    "                 early_stopping: int = 5,\n",
    "                 lr: float = 1e-4,\n",
    "                 wd: float = 0.0,\n",
    "                 max_lr: float = 1e-3,\n",
    "                 pct_start: float = 0.2,\n",
    "                 steps_per_epoch: int = 100,\n",
    "                 div_factor: int = 1e3, \n",
    "                 final_div_factor: float = 1e3,\n",
    "                 ):\n",
    "        self.seed = seed\n",
    "        self.size = size\n",
    "        self.n_splits = n_splits\n",
    "        self.batch_size = batch_size\n",
    "        self.epochs = epochs\n",
    "        self.early_stopping = early_stopping\n",
    "        self.lr = lr\n",
    "        self.wd = wd\n",
    "        self.max_lr = max_lr\n",
    "        self.pct_start = pct_start\n",
    "        self.steps_per_epoch = steps_per_epoch\n",
    "        self.div_factor = div_factor\n",
    "        self.final_div_factor = final_div_factor\n",
    "        self.device = torch.device(\"cuda\" if torch.cuda.is_available() else \"cpu\")\n",
    "        \n",
    "        if self.size == 224:\n",
    "            self.train_transform = transforms.Compose([\n",
    "                transforms.ToTensor(),\n",
    "                transforms.Normalize([0.52544, 0.50744, 0.44312], [0.23076, 0.22994, 0.23781]),\n",
    "                transforms.RandomAffine(degrees=(-45, 45), translate=(0.15, 0.15), scale=(0.5, 1.5)),\n",
    "                transforms.RandomHorizontalFlip(p=0.25),\n",
    "                transforms.RandomVerticalFlip(p=0.25),\n",
    "            ])\n",
    "            self.valid_transform = transforms.Compose([\n",
    "                transforms.ToTensor(),\n",
    "                transforms.Normalize([0.52544, 0.50744, 0.44312], [0.23076, 0.22994, 0.23781]),\n",
    "            ])\n",
    "        \n",
    "        if self.size == 384:\n",
    "            self.train_transform = transforms.Compose([\n",
    "                transforms.ToTensor(),\n",
    "                transforms.Normalize([0.52556, 0.50756, 0.44324], [0.23221, 0.23140, 0.23923]),\n",
    "                transforms.RandomAffine(degrees=(-45, 45), translate=(0.15, 0.15), scale=(0.5, 1.5)),\n",
    "                transforms.RandomHorizontalFlip(p=0.25),\n",
    "                transforms.RandomVerticalFlip(p=0.25),\n",
    "            ])\n",
    "            self.valid_transform = transforms.Compose([\n",
    "                transforms.ToTensor(),\n",
    "                transforms.Normalize([0.52556, 0.50756, 0.44324], [0.23221, 0.23140, 0.23923]),\n",
    "            ])\n",
    "        \n",
    "        if self.size == 512:\n",
    "            self.train_transform = transforms.Compose([\n",
    "                transforms.ToTensor(),\n",
    "                transforms.Normalize([0.52560, 0.50760, 0.44328], [0.23278, 0.23197, 0.23979]),\n",
    "                transforms.RandomAffine(degrees=(-45, 45), translate=(0.15, 0.15), scale=(0.5, 1.5)),\n",
    "                transforms.RandomHorizontalFlip(p=0.25),\n",
    "                transforms.RandomVerticalFlip(p=0.25),\n",
    "            ])\n",
    "            self.valid_transform = transforms.Compose([\n",
    "                transforms.ToTensor(),\n",
    "                transforms.Normalize([0.52560, 0.50760, 0.44328], [0.23278, 0.23197, 0.23979]),\n",
    "            ])\n",
    "                                \n",
    "        self.save_path = \"saves\"\n",
    "        if not os.path.exists(self.save_path): os.makedirs(self.save_path)\n",
    "    \n",
    "cfg = CFG(\n",
    "    seed=SEED, \n",
    "    size=SIZE\n",
    ")"
   ]
  },
  {
   "cell_type": "markdown",
   "id": "8efae9e6",
   "metadata": {
    "papermill": {
     "duration": 0.003751,
     "end_time": "2022-11-18T14:42:01.092855",
     "exception": false,
     "start_time": "2022-11-18T14:42:01.089104",
     "status": "completed"
    },
    "tags": []
   },
   "source": [
    "### **Dataset Template**"
   ]
  },
  {
   "cell_type": "code",
   "execution_count": 5,
   "id": "28c04c1a",
   "metadata": {
    "execution": {
     "iopub.execute_input": "2022-11-18T14:42:01.103196Z",
     "iopub.status.busy": "2022-11-18T14:42:01.101818Z",
     "iopub.status.idle": "2022-11-18T14:42:01.109536Z",
     "shell.execute_reply": "2022-11-18T14:42:01.108739Z"
    },
    "papermill": {
     "duration": 0.014706,
     "end_time": "2022-11-18T14:42:01.111425",
     "exception": false,
     "start_time": "2022-11-18T14:42:01.096719",
     "status": "completed"
    },
    "tags": []
   },
   "outputs": [],
   "source": [
    "class DS(Dataset):\n",
    "    def __init__(\n",
    "        self, \n",
    "        filepaths: np.ndarray, \n",
    "        size: int,\n",
    "        labels: Union[np.ndarray, None]=None, \n",
    "        transform=None\n",
    "    ):\n",
    "        \n",
    "        self.filepaths = filepaths\n",
    "        self.labels = labels\n",
    "        self.size = size\n",
    "        self.transform = transform\n",
    "    \n",
    "    def __len__(self):\n",
    "        return self.filepaths.shape[0]\n",
    "    \n",
    "    def __getitem__(self, idx):\n",
    "        image = get_image(self.filepaths[idx], self.size)\n",
    "        if self.labels is None:\n",
    "            return self.transform(image)\n",
    "        return self.transform(image), torch.LongTensor(self.labels[idx])"
   ]
  },
  {
   "cell_type": "markdown",
   "id": "9365e680",
   "metadata": {
    "papermill": {
     "duration": 0.003688,
     "end_time": "2022-11-18T14:42:01.119011",
     "exception": false,
     "start_time": "2022-11-18T14:42:01.115323",
     "status": "completed"
    },
    "tags": []
   },
   "source": [
    "### **Model**"
   ]
  },
  {
   "cell_type": "code",
   "execution_count": 6,
   "id": "625fdf89",
   "metadata": {
    "execution": {
     "iopub.execute_input": "2022-11-18T14:42:01.128392Z",
     "iopub.status.busy": "2022-11-18T14:42:01.127537Z",
     "iopub.status.idle": "2022-11-18T14:42:01.133451Z",
     "shell.execute_reply": "2022-11-18T14:42:01.132588Z"
    },
    "papermill": {
     "duration": 0.012586,
     "end_time": "2022-11-18T14:42:01.135441",
     "exception": false,
     "start_time": "2022-11-18T14:42:01.122855",
     "status": "completed"
    },
    "tags": []
   },
   "outputs": [],
   "source": [
    "class Model(nn.Module):\n",
    "    def __init__(self):\n",
    "        super(Model, self).__init__()\n",
    "            \n",
    "        self.model = timm.create_model(model_name=\"efficientnet_b4\", pretrained=True)\n",
    "        self.model.classifier = nn.Linear(in_features=self.model.classifier.in_features, out_features=11)\n",
    "\n",
    "    def forward(self, x):\n",
    "        return nn.LogSoftmax(dim=1)(self.model(x))"
   ]
  },
  {
   "cell_type": "markdown",
   "id": "248a069a",
   "metadata": {
    "papermill": {
     "duration": 0.003737,
     "end_time": "2022-11-18T14:42:01.143078",
     "exception": false,
     "start_time": "2022-11-18T14:42:01.139341",
     "status": "completed"
    },
    "tags": []
   },
   "source": [
    "### **Fit and Predict**"
   ]
  },
  {
   "cell_type": "code",
   "execution_count": 7,
   "id": "ba719d38",
   "metadata": {
    "execution": {
     "iopub.execute_input": "2022-11-18T14:42:01.153079Z",
     "iopub.status.busy": "2022-11-18T14:42:01.152495Z",
     "iopub.status.idle": "2022-11-18T14:42:01.176339Z",
     "shell.execute_reply": "2022-11-18T14:42:01.175490Z"
    },
    "papermill": {
     "duration": 0.031286,
     "end_time": "2022-11-18T14:42:01.178237",
     "exception": false,
     "start_time": "2022-11-18T14:42:01.146951",
     "status": "completed"
    },
    "tags": []
   },
   "outputs": [],
   "source": [
    "def fit(\n",
    "    model=None,\n",
    "    optimizer=None, \n",
    "    scheduler_rlrop=None,\n",
    "    scheduler_oclr=None,\n",
    "    epochs=None, \n",
    "    early_stopping_patience=None, \n",
    "    dataloaders=None, \n",
    "    fold=None, \n",
    "    save_path=None,\n",
    "    device=None,\n",
    "    verbose=False\n",
    ") -> tuple:\n",
    "    \n",
    "    def get_accuracy(y_pred, y_true):\n",
    "        y_pred = torch.argmax(y_pred, dim=1)\n",
    "        return torch.count_nonzero(y_pred == y_true).item() / len(y_pred)\n",
    "    \n",
    "    \n",
    "    if verbose:\n",
    "        breaker()\n",
    "        if fold: print(f\"Training Fold {fold}...\")\n",
    "        else: print(\"Training ...\")\n",
    "        breaker()\n",
    "        \n",
    "    bestLoss: dict = {\"train\" : np.inf, \"valid\" : np.inf} \n",
    "    bestAccs: dict = {\"train\" : 0.0, \"valid\" : 0.0}\n",
    "    \n",
    "    Losses: list = []\n",
    "    Accuracies: list = [] \n",
    "    LRs: list = []\n",
    "        \n",
    "    if fold: \n",
    "        ble_name = f\"ble_state_fold_{fold}.pt\"\n",
    "        bae_name = f\"bae_state_fold_{fold}.pt\"\n",
    "    else: \n",
    "        ble_name = f\"ble_state.pt\"\n",
    "        bae_name = f\"bae_state.pt\"\n",
    "        \n",
    "    start_time = time()\n",
    "    for e in range(epochs):\n",
    "        e_st = time()\n",
    "        epochLoss: dict = {\"train\" : 0.0, \"valid\" : 0.0} \n",
    "        epochAccs: dict = {\"train\" : 0.0, \"valid\" : 0.0}\n",
    "\n",
    "        for phase in [\"train\", \"valid\"]:\n",
    "            if phase == \"train\":\n",
    "                model.train()\n",
    "            else:\n",
    "                model.eval()\n",
    "            \n",
    "            lossPerPass: list = []\n",
    "            accsPerPass: list = []\n",
    "                \n",
    "            for X, y in dataloaders[phase]:\n",
    "                X, y = X.to(device), y.to(device).view(-1)\n",
    "\n",
    "                optimizer.zero_grad()\n",
    "                with torch.set_grad_enabled(phase == \"train\"):\n",
    "                    output = model(X)\n",
    "                    loss = torch.nn.NLLLoss()(output, y)\n",
    "                    if phase == \"train\":\n",
    "                        loss.backward()\n",
    "                        optimizer.step()\n",
    "                        if scheduler_oclr: scheduler_oclr.step()\n",
    "                lossPerPass.append(loss.item())\n",
    "                accsPerPass.append(get_accuracy(output, y))\n",
    "            epochLoss[phase] = np.mean(np.array(lossPerPass))\n",
    "            epochAccs[phase] = np.mean(np.array(accsPerPass))\n",
    "        if scheduler_oclr: LRs.append(scheduler_oclr.get_last_lr())\n",
    "        Losses.append(epochLoss)\n",
    "        Accuracies.append(epochAccs)\n",
    "        \n",
    "        if scheduler_oclr:\n",
    "            save_dict = {\"model_state_dict\"     : model.state_dict(),\n",
    "                         \"optim_state_dict\"     : optimizer.state_dict(),\n",
    "                         \"scheduler_state_dict\" : scheduler_oclr.state_dict()}\n",
    "        \n",
    "        elif scheduler_rlrop:\n",
    "            save_dict = {\"model_state_dict\"     : model.state_dict(),\n",
    "                         \"optim_state_dict\"     : optimizer.state_dict(),\n",
    "                         \"scheduler_state_dict\" : scheduler_rlrop.state_dict()}\n",
    "        \n",
    "        else:\n",
    "            save_dict = {\"model_state_dict\"     : model.state_dict(),\n",
    "                         \"optim_state_dict\"     : optimizer.state_dict()}\n",
    "        \n",
    "        if early_stopping_patience:\n",
    "            if epochLoss[\"valid\"] < bestLoss[\"valid\"]:\n",
    "                bestLoss = epochLoss\n",
    "                BLE = e + 1\n",
    "                torch.save(save_dict, os.path.join(save_path, ble_name))\n",
    "                torch.save(save_dict, os.path.join(save_path, bae_name))\n",
    "                early_stopping_step = 0\n",
    "            else:\n",
    "                early_stopping_step += 1\n",
    "                if early_stopping_step > early_stopping_patience:\n",
    "                    print(\"\\nEarly Stopping at Epoch {}\".format(e + 1))\n",
    "                    break\n",
    "        \n",
    "        if epochLoss[\"valid\"] < bestLoss[\"valid\"]:\n",
    "            bestLoss = epochLoss\n",
    "            BLE = e + 1\n",
    "            torch.save(save_dict,os.path.join(save_path, ble_name))\n",
    "        \n",
    "        if epochAccs[\"valid\"] > bestAccs[\"valid\"]:\n",
    "            bestAccs = epochAccs\n",
    "            BAE = e + 1\n",
    "            torch.save(save_dict,os.path.join(save_path, bae_name))\n",
    "        \n",
    "        if scheduler_rlrop: scheduler_rlrop.step(epochLoss[\"valid\"])\n",
    "        \n",
    "        if verbose:\n",
    "            print(\"Epoch: {} | Train Loss: {:.5f} | Valid Loss: {:.5f} |\\\n",
    " Train Accs: {:.5f} | Valid Accs: {:.5f} | Time: {:.2f} seconds\".format(e+1, \n",
    "                                                                        epochLoss[\"train\"], epochLoss[\"valid\"], \n",
    "                                                                        epochAccs[\"train\"], epochAccs[\"valid\"], \n",
    "                                                                        time()-e_st))\n",
    "\n",
    "    if verbose:                                           \n",
    "        breaker()\n",
    "        print(f\"Best Validation Loss at Epoch {BLE}\")\n",
    "        breaker()\n",
    "        print(f\"Best Validation Accs at Epoch {BAE}\")\n",
    "        breaker()\n",
    "        print(\"Time Taken [{} Epochs] : {:.2f} minutes\".format(len(Losses), (time()-start_time)/60))\n",
    "    \n",
    "    return Losses, Accuracies, LRs, bestLoss, bestAccs, BLE, BAE, ble_name, bae_name\n",
    "\n",
    "\n",
    "# def predict_batch(model=None, dataloader=None, path=None, device=None) -> np.ndarray:\n",
    "#     model.load_state_dict(torch.load(path, map_location=device)[\"model_state_dict\"])\n",
    "#     model.to(device)    \n",
    "#     model.eval()\n",
    "    \n",
    "#     y_pred = torch.zeros(1, 1).to(device)\n",
    "    \n",
    "#     for X in dataloader:\n",
    "#         X = X.to(device)\n",
    "#         with torch.no_grad():\n",
    "#             output = torch.argmax(torch.exp(model(X)), dim=1)\n",
    "#         y_pred = torch.cat((y_pred, output.view(-1, 1)), dim=0)\n",
    "    \n",
    "#     return y_pred[1:].detach().cpu().numpy()"
   ]
  },
  {
   "cell_type": "markdown",
   "id": "8da938fb",
   "metadata": {
    "papermill": {
     "duration": 0.004648,
     "end_time": "2022-11-18T14:42:01.186794",
     "exception": false,
     "start_time": "2022-11-18T14:42:01.182146",
     "status": "completed"
    },
    "tags": []
   },
   "source": [
    "### **Train**"
   ]
  },
  {
   "cell_type": "code",
   "execution_count": 8,
   "id": "e1efd576",
   "metadata": {
    "execution": {
     "iopub.execute_input": "2022-11-18T14:42:01.196056Z",
     "iopub.status.busy": "2022-11-18T14:42:01.195323Z",
     "iopub.status.idle": "2022-11-18T14:42:01.250653Z",
     "shell.execute_reply": "2022-11-18T14:42:01.249852Z"
    },
    "papermill": {
     "duration": 0.062059,
     "end_time": "2022-11-18T14:42:01.252810",
     "exception": false,
     "start_time": "2022-11-18T14:42:01.190751",
     "status": "completed"
    },
    "tags": []
   },
   "outputs": [],
   "source": [
    "df = pd.read_csv(\"../input/aic-dataframe/train.csv\")\n",
    "\n",
    "filepaths = df.filepaths.copy().values\n",
    "labels = df.labels.copy().values"
   ]
  },
  {
   "cell_type": "code",
   "execution_count": 9,
   "id": "969cefb5",
   "metadata": {
    "execution": {
     "iopub.execute_input": "2022-11-18T14:42:01.262036Z",
     "iopub.status.busy": "2022-11-18T14:42:01.261781Z",
     "iopub.status.idle": "2022-11-18T20:32:09.253846Z",
     "shell.execute_reply": "2022-11-18T20:32:09.252907Z"
    },
    "papermill": {
     "duration": 21007.999079,
     "end_time": "2022-11-18T20:32:09.255890",
     "exception": false,
     "start_time": "2022-11-18T14:42:01.256811",
     "status": "completed"
    },
    "tags": []
   },
   "outputs": [
    {
     "name": "stderr",
     "output_type": "stream",
     "text": [
      "Downloading: \"https://github.com/rwightman/pytorch-image-models/releases/download/v0.1-weights/efficientnet_b4_ra2_320-7eb33cd5.pth\" to /root/.cache/torch/hub/checkpoints/efficientnet_b4_ra2_320-7eb33cd5.pth\n"
     ]
    },
    {
     "name": "stdout",
     "output_type": "stream",
     "text": [
      "\n",
      "**************************************************\n",
      "\n",
      "Training Fold 1...\n",
      "\n",
      "**************************************************\n",
      "\n",
      "Epoch: 1 | Train Loss: 1.07552 | Valid Loss: 0.11791 | Train Accs: 0.72737 | Valid Accs: 0.96000 | Time: 458.13 seconds\n",
      "Epoch: 2 | Train Loss: 0.16977 | Valid Loss: 0.12373 | Train Accs: 0.94475 | Valid Accs: 0.96150 | Time: 419.39 seconds\n",
      "Epoch: 3 | Train Loss: 0.13566 | Valid Loss: 0.14109 | Train Accs: 0.95737 | Valid Accs: 0.95800 | Time: 418.13 seconds\n",
      "Epoch: 4 | Train Loss: 0.08809 | Valid Loss: 0.08242 | Train Accs: 0.97075 | Valid Accs: 0.97300 | Time: 420.14 seconds\n",
      "Epoch: 5 | Train Loss: 0.06274 | Valid Loss: 0.08132 | Train Accs: 0.98000 | Valid Accs: 0.97400 | Time: 419.18 seconds\n",
      "Epoch: 6 | Train Loss: 0.04670 | Valid Loss: 0.08959 | Train Accs: 0.98362 | Valid Accs: 0.97450 | Time: 415.86 seconds\n",
      "Epoch: 7 | Train Loss: 0.03648 | Valid Loss: 0.04369 | Train Accs: 0.98862 | Valid Accs: 0.98700 | Time: 418.09 seconds\n",
      "Epoch: 8 | Train Loss: 0.02230 | Valid Loss: 0.06507 | Train Accs: 0.99275 | Valid Accs: 0.97950 | Time: 416.60 seconds\n",
      "Epoch: 9 | Train Loss: 0.01072 | Valid Loss: 0.05995 | Train Accs: 0.99638 | Valid Accs: 0.98450 | Time: 417.62 seconds\n",
      "Epoch: 10 | Train Loss: 0.01346 | Valid Loss: 0.04836 | Train Accs: 0.99513 | Valid Accs: 0.98550 | Time: 416.27 seconds\n",
      "\n",
      "**************************************************\n",
      "\n",
      "Best Validation Loss at Epoch 7\n",
      "\n",
      "**************************************************\n",
      "\n",
      "Best Validation Accs at Epoch 7\n",
      "\n",
      "**************************************************\n",
      "\n",
      "Time Taken [10 Epochs] : 70.32 minutes\n",
      "\n",
      "**************************************************\n",
      "\n"
     ]
    },
    {
     "data": {
      "image/png": "[encoded data removed]",
      "text/plain": [
       "<Figure size 432x288 with 1 Axes>"
      ]
     },
     "metadata": {
      "needs_background": "light"
     },
     "output_type": "display_data"
    },
    {
     "name": "stdout",
     "output_type": "stream",
     "text": [
      "\n",
      "**************************************************\n",
      "\n"
     ]
    },
    {
     "data": {
      "image/png": "[encoded data removed]",
      "text/plain": [
       "<Figure size 432x288 with 1 Axes>"
      ]
     },
     "metadata": {
      "needs_background": "light"
     },
     "output_type": "display_data"
    },
    {
     "name": "stdout",
     "output_type": "stream",
     "text": [
      "\n",
      "**************************************************\n",
      "\n"
     ]
    },
    {
     "data": {
      "image/png": "[encoded data removed]",
      "text/plain": [
       "<Figure size 576x432 with 1 Axes>"
      ]
     },
     "metadata": {
      "needs_background": "light"
     },
     "output_type": "display_data"
    },
    {
     "name": "stdout",
     "output_type": "stream",
     "text": [
      "\n",
      "**************************************************\n",
      "\n",
      "\n",
      "**************************************************\n",
      "\n",
      "Training Fold 2...\n",
      "\n",
      "**************************************************\n",
      "\n",
      "Epoch: 1 | Train Loss: 1.07104 | Valid Loss: 0.10814 | Train Accs: 0.72413 | Valid Accs: 0.97050 | Time: 419.74 seconds\n",
      "Epoch: 2 | Train Loss: 0.17742 | Valid Loss: 0.10691 | Train Accs: 0.94475 | Valid Accs: 0.96400 | Time: 418.85 seconds\n",
      "Epoch: 3 | Train Loss: 0.13806 | Valid Loss: 0.06990 | Train Accs: 0.95625 | Valid Accs: 0.97950 | Time: 420.85 seconds\n",
      "Epoch: 4 | Train Loss: 0.10146 | Valid Loss: 0.09564 | Train Accs: 0.96675 | Valid Accs: 0.96900 | Time: 416.20 seconds\n",
      "Epoch: 5 | Train Loss: 0.07163 | Valid Loss: 0.07640 | Train Accs: 0.97650 | Valid Accs: 0.97750 | Time: 416.73 seconds\n",
      "Epoch: 6 | Train Loss: 0.04460 | Valid Loss: 0.06332 | Train Accs: 0.98438 | Valid Accs: 0.98250 | Time: 419.74 seconds\n",
      "Epoch: 7 | Train Loss: 0.03381 | Valid Loss: 0.08162 | Train Accs: 0.98825 | Valid Accs: 0.97900 | Time: 415.74 seconds\n",
      "Epoch: 8 | Train Loss: 0.02043 | Valid Loss: 0.04720 | Train Accs: 0.99338 | Valid Accs: 0.98450 | Time: 418.29 seconds\n",
      "Epoch: 9 | Train Loss: 0.01223 | Valid Loss: 0.05260 | Train Accs: 0.99613 | Valid Accs: 0.98800 | Time: 416.75 seconds\n",
      "Epoch: 10 | Train Loss: 0.01084 | Valid Loss: 0.03990 | Train Accs: 0.99687 | Valid Accs: 0.98850 | Time: 419.78 seconds\n",
      "\n",
      "**************************************************\n",
      "\n",
      "Best Validation Loss at Epoch 10\n",
      "\n",
      "**************************************************\n",
      "\n",
      "Best Validation Accs at Epoch 10\n",
      "\n",
      "**************************************************\n",
      "\n",
      "Time Taken [10 Epochs] : 69.71 minutes\n",
      "\n",
      "**************************************************\n",
      "\n"
     ]
    },
    {
     "data": {
      "image/png": "[encoded data removed]",
      "text/plain": [
       "<Figure size 432x288 with 1 Axes>"
      ]
     },
     "metadata": {
      "needs_background": "light"
     },
     "output_type": "display_data"
    },
    {
     "name": "stdout",
     "output_type": "stream",
     "text": [
      "\n",
      "**************************************************\n",
      "\n"
     ]
    },
    {
     "data": {
      "image/png": "[encoded data removed]",
      "text/plain": [
       "<Figure size 432x288 with 1 Axes>"
      ]
     },
     "metadata": {
      "needs_background": "light"
     },
     "output_type": "display_data"
    },
    {
     "name": "stdout",
     "output_type": "stream",
     "text": [
      "\n",
      "**************************************************\n",
      "\n"
     ]
    },
    {
     "data": {
      "image/png": "[encoded data removed]",
      "text/plain": [
       "<Figure size 576x432 with 1 Axes>"
      ]
     },
     "metadata": {
      "needs_background": "light"
     },
     "output_type": "display_data"
    },
    {
     "name": "stdout",
     "output_type": "stream",
     "text": [
      "\n",
      "**************************************************\n",
      "\n",
      "\n",
      "**************************************************\n",
      "\n",
      "Training Fold 3...\n",
      "\n",
      "**************************************************\n",
      "\n",
      "Epoch: 1 | Train Loss: 1.06629 | Valid Loss: 0.11172 | Train Accs: 0.72213 | Valid Accs: 0.96400 | Time: 421.47 seconds\n",
      "Epoch: 2 | Train Loss: 0.16393 | Valid Loss: 0.16620 | Train Accs: 0.94512 | Valid Accs: 0.95250 | Time: 419.62 seconds\n",
      "Epoch: 3 | Train Loss: 0.14154 | Valid Loss: 0.24302 | Train Accs: 0.95425 | Valid Accs: 0.93700 | Time: 419.29 seconds\n",
      "Epoch: 4 | Train Loss: 0.10244 | Valid Loss: 0.11192 | Train Accs: 0.96525 | Valid Accs: 0.96150 | Time: 420.52 seconds\n",
      "Epoch: 5 | Train Loss: 0.07242 | Valid Loss: 0.10150 | Train Accs: 0.97425 | Valid Accs: 0.96750 | Time: 427.49 seconds\n",
      "Epoch: 6 | Train Loss: 0.04032 | Valid Loss: 0.06176 | Train Accs: 0.98613 | Valid Accs: 0.97900 | Time: 419.55 seconds\n",
      "Epoch: 7 | Train Loss: 0.02957 | Valid Loss: 0.05991 | Train Accs: 0.99062 | Valid Accs: 0.98250 | Time: 421.88 seconds\n",
      "Epoch: 8 | Train Loss: 0.01923 | Valid Loss: 0.06058 | Train Accs: 0.99375 | Valid Accs: 0.98500 | Time: 425.27 seconds\n",
      "Epoch: 9 | Train Loss: 0.01201 | Valid Loss: 0.05748 | Train Accs: 0.99600 | Valid Accs: 0.98200 | Time: 424.63 seconds\n",
      "Epoch: 10 | Train Loss: 0.01279 | Valid Loss: 0.07549 | Train Accs: 0.99575 | Valid Accs: 0.98000 | Time: 421.54 seconds\n",
      "\n",
      "**************************************************\n",
      "\n",
      "Best Validation Loss at Epoch 9\n",
      "\n",
      "**************************************************\n",
      "\n",
      "Best Validation Accs at Epoch 8\n",
      "\n",
      "**************************************************\n",
      "\n",
      "Time Taken [10 Epochs] : 70.35 minutes\n",
      "\n",
      "**************************************************\n",
      "\n"
     ]
    },
    {
     "data": {
      "image/png": "[encoded data removed]",
      "text/plain": [
       "<Figure size 432x288 with 1 Axes>"
      ]
     },
     "metadata": {
      "needs_background": "light"
     },
     "output_type": "display_data"
    },
    {
     "name": "stdout",
     "output_type": "stream",
     "text": [
      "\n",
      "**************************************************\n",
      "\n"
     ]
    },
    {
     "data": {
      "image/png": "[encoded data removed]",
      "text/plain": [
       "<Figure size 432x288 with 1 Axes>"
      ]
     },
     "metadata": {
      "needs_background": "light"
     },
     "output_type": "display_data"
    },
    {
     "name": "stdout",
     "output_type": "stream",
     "text": [
      "\n",
      "**************************************************\n",
      "\n"
     ]
    },
    {
     "data": {
      "image/png": "[encoded data removed]",
      "text/plain": [
       "<Figure size 576x432 with 1 Axes>"
      ]
     },
     "metadata": {
      "needs_background": "light"
     },
     "output_type": "display_data"
    },
    {
     "name": "stdout",
     "output_type": "stream",
     "text": [
      "\n",
      "**************************************************\n",
      "\n",
      "\n",
      "**************************************************\n",
      "\n",
      "Training Fold 4...\n",
      "\n",
      "**************************************************\n",
      "\n",
      "Epoch: 1 | Train Loss: 1.07584 | Valid Loss: 0.11225 | Train Accs: 0.71925 | Valid Accs: 0.95650 | Time: 424.08 seconds\n",
      "Epoch: 2 | Train Loss: 0.17216 | Valid Loss: 0.11680 | Train Accs: 0.94500 | Valid Accs: 0.96200 | Time: 420.45 seconds\n",
      "Epoch: 3 | Train Loss: 0.13237 | Valid Loss: 0.13967 | Train Accs: 0.95975 | Valid Accs: 0.95700 | Time: 416.56 seconds\n",
      "Epoch: 4 | Train Loss: 0.09390 | Valid Loss: 0.10056 | Train Accs: 0.96850 | Valid Accs: 0.96750 | Time: 417.27 seconds\n",
      "Epoch: 5 | Train Loss: 0.07373 | Valid Loss: 0.08760 | Train Accs: 0.97513 | Valid Accs: 0.97200 | Time: 420.73 seconds\n",
      "Epoch: 6 | Train Loss: 0.04473 | Valid Loss: 0.07048 | Train Accs: 0.98525 | Valid Accs: 0.98400 | Time: 417.35 seconds\n",
      "Epoch: 7 | Train Loss: 0.02836 | Valid Loss: 0.04129 | Train Accs: 0.99113 | Valid Accs: 0.98700 | Time: 418.29 seconds\n",
      "Epoch: 8 | Train Loss: 0.02156 | Valid Loss: 0.04358 | Train Accs: 0.99362 | Valid Accs: 0.98800 | Time: 416.88 seconds\n",
      "Epoch: 9 | Train Loss: 0.01199 | Valid Loss: 0.04034 | Train Accs: 0.99638 | Valid Accs: 0.98950 | Time: 417.55 seconds\n",
      "Epoch: 10 | Train Loss: 0.01218 | Valid Loss: 0.04280 | Train Accs: 0.99662 | Valid Accs: 0.98800 | Time: 418.50 seconds\n",
      "\n",
      "**************************************************\n",
      "\n",
      "Best Validation Loss at Epoch 9\n",
      "\n",
      "**************************************************\n",
      "\n",
      "Best Validation Accs at Epoch 9\n",
      "\n",
      "**************************************************\n",
      "\n",
      "Time Taken [10 Epochs] : 69.79 minutes\n",
      "\n",
      "**************************************************\n",
      "\n"
     ]
    },
    {
     "data": {
      "image/png": "[encoded data removed]",
      "text/plain": [
       "<Figure size 432x288 with 1 Axes>"
      ]
     },
     "metadata": {
      "needs_background": "light"
     },
     "output_type": "display_data"
    },
    {
     "name": "stdout",
     "output_type": "stream",
     "text": [
      "\n",
      "**************************************************\n",
      "\n"
     ]
    },
    {
     "data": {
      "image/png": "[encoded data removed]",
      "text/plain": [
       "<Figure size 432x288 with 1 Axes>"
      ]
     },
     "metadata": {
      "needs_background": "light"
     },
     "output_type": "display_data"
    },
    {
     "name": "stdout",
     "output_type": "stream",
     "text": [
      "\n",
      "**************************************************\n",
      "\n"
     ]
    },
    {
     "data": {
      "image/png": "[encoded data removed]",
      "text/plain": [
       "<Figure size 576x432 with 1 Axes>"
      ]
     },
     "metadata": {
      "needs_background": "light"
     },
     "output_type": "display_data"
    },
    {
     "name": "stdout",
     "output_type": "stream",
     "text": [
      "\n",
      "**************************************************\n",
      "\n",
      "\n",
      "**************************************************\n",
      "\n",
      "Training Fold 5...\n",
      "\n",
      "**************************************************\n",
      "\n",
      "Epoch: 1 | Train Loss: 1.06738 | Valid Loss: 0.12558 | Train Accs: 0.72413 | Valid Accs: 0.96100 | Time: 420.78 seconds\n",
      "Epoch: 2 | Train Loss: 0.16587 | Valid Loss: 0.15073 | Train Accs: 0.94612 | Valid Accs: 0.95400 | Time: 418.13 seconds\n",
      "Epoch: 3 | Train Loss: 0.14215 | Valid Loss: 0.10722 | Train Accs: 0.95525 | Valid Accs: 0.96700 | Time: 418.12 seconds\n",
      "Epoch: 4 | Train Loss: 0.09766 | Valid Loss: 0.09379 | Train Accs: 0.96737 | Valid Accs: 0.97150 | Time: 417.57 seconds\n",
      "Epoch: 5 | Train Loss: 0.06881 | Valid Loss: 0.10070 | Train Accs: 0.97825 | Valid Accs: 0.97350 | Time: 418.68 seconds\n",
      "Epoch: 6 | Train Loss: 0.05260 | Valid Loss: 0.08115 | Train Accs: 0.98200 | Valid Accs: 0.97650 | Time: 418.25 seconds\n",
      "Epoch: 7 | Train Loss: 0.03126 | Valid Loss: 0.07268 | Train Accs: 0.98925 | Valid Accs: 0.97750 | Time: 417.18 seconds\n",
      "Epoch: 8 | Train Loss: 0.01569 | Valid Loss: 0.06552 | Train Accs: 0.99538 | Valid Accs: 0.98450 | Time: 418.28 seconds\n",
      "Epoch: 9 | Train Loss: 0.01431 | Valid Loss: 0.05900 | Train Accs: 0.99438 | Valid Accs: 0.98500 | Time: 419.12 seconds\n",
      "Epoch: 10 | Train Loss: 0.01314 | Valid Loss: 0.05522 | Train Accs: 0.99575 | Valid Accs: 0.98600 | Time: 418.87 seconds\n",
      "\n",
      "**************************************************\n",
      "\n",
      "Best Validation Loss at Epoch 10\n",
      "\n",
      "**************************************************\n",
      "\n",
      "Best Validation Accs at Epoch 10\n",
      "\n",
      "**************************************************\n",
      "\n",
      "Time Taken [10 Epochs] : 69.75 minutes\n",
      "\n",
      "**************************************************\n",
      "\n"
     ]
    },
    {
     "data": {
      "image/png": "[encoded data removed]",
      "text/plain": [
       "<Figure size 432x288 with 1 Axes>"
      ]
     },
     "metadata": {
      "needs_background": "light"
     },
     "output_type": "display_data"
    },
    {
     "name": "stdout",
     "output_type": "stream",
     "text": [
      "\n",
      "**************************************************\n",
      "\n"
     ]
    },
    {
     "data": {
      "image/png": "[encoded data removed]",
      "text/plain": [
       "<Figure size 432x288 with 1 Axes>"
      ]
     },
     "metadata": {
      "needs_background": "light"
     },
     "output_type": "display_data"
    },
    {
     "name": "stdout",
     "output_type": "stream",
     "text": [
      "\n",
      "**************************************************\n",
      "\n"
     ]
    },
    {
     "data": {
      "image/png": "[encoded data removed]",
      "text/plain": [
       "<Figure size 576x432 with 1 Axes>"
      ]
     },
     "metadata": {
      "needs_background": "light"
     },
     "output_type": "display_data"
    },
    {
     "name": "stdout",
     "output_type": "stream",
     "text": [
      "\n",
      "**************************************************\n",
      "\n"
     ]
    }
   ],
   "source": [
    "fold: int = 1\n",
    "BLs: list = []\n",
    "BAs: list = []\n",
    "    \n",
    "cfg.batch_size = 16\n",
    "cfg.epochs = 10\n",
    "    \n",
    "for tr_idx, va_idx in StratifiedKFold(n_splits=cfg.n_splits, random_state=cfg.seed, shuffle=True).split(filepaths, labels):\n",
    "\n",
    "    tr_filepaths, va_filepaths = filepaths[tr_idx], filepaths[va_idx] \n",
    "    tr_labels, va_labels       = labels[tr_idx], labels[va_idx]\n",
    "\n",
    "    tr_data_setup = DS(\n",
    "        filepaths=tr_filepaths, \n",
    "        labels=tr_labels.reshape(-1, 1),\n",
    "        size=cfg.size,\n",
    "        transform=cfg.train_transform\n",
    "    )\n",
    "    \n",
    "    va_data_setup = DS(\n",
    "        filepaths=va_filepaths, \n",
    "        labels=va_labels.reshape(-1, 1),\n",
    "        size=cfg.size,\n",
    "        transform=cfg.train_transform\n",
    "    )\n",
    "\n",
    "    dataloaders = {\n",
    "        \"train\" : DL(tr_data_setup, batch_size=cfg.batch_size, shuffle=True, generator=torch.manual_seed(cfg.seed)),\n",
    "        \"valid\" : DL(va_data_setup, batch_size=cfg.batch_size, shuffle=False),\n",
    "    }\n",
    "\n",
    "    cfg.steps_per_epoch=len(dataloaders[\"train\"])\n",
    "    \n",
    "    torch.manual_seed(cfg.seed)\n",
    "    model = Model().to(cfg.device)\n",
    "\n",
    "    optimizer = optim.Adam([p for p in model.parameters() if p.requires_grad], lr=cfg.lr, weight_decay=cfg.wd)\n",
    "    # optimizer = optim.AdamW([p for p in model.parameters() if p.requires_grad], lr=cfg.lr, weight_decay=cfg.wd)\n",
    "    # optimizer = optim.SGD([p for p in model.parameters() if p.requires_grad], lr=cfg.lr, weight_decay=cfg.wd, momentum=0.9)\n",
    "\n",
    "    scheduler_oclr = optim.lr_scheduler.OneCycleLR(\n",
    "        optimizer=optimizer, \n",
    "        max_lr=cfg.max_lr, \n",
    "        epochs=cfg.epochs, \n",
    "        steps_per_epoch=cfg.steps_per_epoch,\n",
    "        pct_start=cfg.pct_start, \n",
    "        div_factor=cfg.div_factor, \n",
    "        final_div_factor=cfg.final_div_factor\n",
    "    )\n",
    "\n",
    "    # scheduler_rlrop = optim.lr_scheduler.ReduceLROnPlateau(\n",
    "    #     optimizer=optimizer,\n",
    "    #     patience=cfg.patience,\n",
    "    #     eps=cfg.eps,\n",
    "    #     verbose=True\n",
    "    # )\n",
    "\n",
    "    # scheduler_oclr = None\n",
    "    scheduler_rlrop = None\n",
    "\n",
    "\n",
    "    L, A, LR, BL, BA, _, _, _, _ = fit(\n",
    "        model=model, \n",
    "        optimizer=optimizer, \n",
    "        scheduler_oclr=scheduler_oclr,\n",
    "        scheduler_rlrop=scheduler_rlrop,\n",
    "        epochs=cfg.epochs, \n",
    "        early_stopping_patience=cfg.early_stopping, \n",
    "        dataloaders=dataloaders, \n",
    "        device=cfg.device,\n",
    "        save_path=cfg.save_path,\n",
    "        fold=fold,\n",
    "        verbose=True\n",
    "    )\n",
    "\n",
    "\n",
    "    breaker()\n",
    "    show_loss_graphs(L)\n",
    "    breaker()\n",
    "    show_accuracy_graphs(A)\n",
    "    breaker()\n",
    "    if scheduler_oclr:\n",
    "        show_lr_graph(LR)\n",
    "        breaker()\n",
    "    \n",
    "    BLs.append(BL)\n",
    "    BAs.append(BA)\n",
    "    \n",
    "    fold += 1"
   ]
  },
  {
   "cell_type": "markdown",
   "id": "0b858fce",
   "metadata": {
    "papermill": {
     "duration": 0.010582,
     "end_time": "2022-11-18T20:32:09.277768",
     "exception": false,
     "start_time": "2022-11-18T20:32:09.267186",
     "status": "completed"
    },
    "tags": []
   },
   "source": [
    "### **Best Model**"
   ]
  },
  {
   "cell_type": "code",
   "execution_count": 10,
   "id": "6ece2425",
   "metadata": {
    "execution": {
     "iopub.execute_input": "2022-11-18T20:32:09.300408Z",
     "iopub.status.busy": "2022-11-18T20:32:09.300128Z",
     "iopub.status.idle": "2022-11-18T20:32:09.306809Z",
     "shell.execute_reply": "2022-11-18T20:32:09.305891Z"
    },
    "papermill": {
     "duration": 0.020382,
     "end_time": "2022-11-18T20:32:09.308796",
     "exception": false,
     "start_time": "2022-11-18T20:32:09.288414",
     "status": "completed"
    },
    "tags": []
   },
   "outputs": [
    {
     "name": "stdout",
     "output_type": "stream",
     "text": [
      "\n",
      "**************************************************\n",
      "\n",
      "Best Loss Model Fold     : 2\n",
      "Best Accuracy Model Fold : 4\n",
      "\n",
      "**************************************************\n",
      "\n"
     ]
    }
   ],
   "source": [
    "BL = np.inf\n",
    "for i in range(len(BLs)):\n",
    "    if BLs[i][\"valid\"] < BL:\n",
    "        BL = BLs[i][\"valid\"]\n",
    "        best_loss_index = i\n",
    "\n",
    "        \n",
    "BA = 0.0\n",
    "for i in range(len(BAs)):\n",
    "    if BAs[i][\"valid\"] > BA:\n",
    "        BA = BAs[i][\"valid\"]\n",
    "        best_accs_index = i\n",
    "\n",
    "breaker()\n",
    "print(f\"Best Loss Model Fold     : {best_loss_index + 1}\")\n",
    "print(f\"Best Accuracy Model Fold : {best_accs_index + 1}\")\n",
    "breaker()"
   ]
  }
 ],
 "metadata": {
  "kernelspec": {
   "display_name": "Python 3",
   "language": "python",
   "name": "python3"
  },
  "language_info": {
   "codemirror_mode": {
    "name": "ipython",
    "version": 3
   },
   "file_extension": ".py",
   "mimetype": "text/x-python",
   "name": "python",
   "nbconvert_exporter": "python",
   "pygments_lexer": "ipython3",
   "version": "3.7.12"
  },
  "papermill": {
   "default_parameters": {},
   "duration": 21034.32152,
   "end_time": "2022-11-18T20:32:11.974085",
   "environment_variables": {},
   "exception": null,
   "input_path": "__notebook__.ipynb",
   "output_path": "__notebook__.ipynb",
   "parameters": {},
   "start_time": "2022-11-18T14:41:37.652565",
   "version": "2.3.4"
  }
 },
 "nbformat": 4,
 "nbformat_minor": 5
}
