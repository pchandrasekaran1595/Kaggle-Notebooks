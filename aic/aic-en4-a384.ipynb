{
 "cells": [
  {
   "cell_type": "markdown",
   "id": "cdbbe21c",
   "metadata": {
    "_cell_guid": "b1076dfc-b9ad-4769-8c92-a6c4dae69d19",
    "_uuid": "8f2839f25d086af736a60e9eeb907d3b93b6e0e5",
    "papermill": {
     "duration": 0.006808,
     "end_time": "2022-11-18T05:30:54.376940",
     "exception": false,
     "start_time": "2022-11-18T05:30:54.370132",
     "status": "completed"
    },
    "tags": []
   },
   "source": [
    "##### **Setup**"
   ]
  },
  {
   "cell_type": "code",
   "execution_count": 1,
   "id": "baa1b30d",
   "metadata": {
    "execution": {
     "iopub.execute_input": "2022-11-18T05:30:54.390276Z",
     "iopub.status.busy": "2022-11-18T05:30:54.389671Z",
     "iopub.status.idle": "2022-11-18T05:31:04.846596Z",
     "shell.execute_reply": "2022-11-18T05:31:04.845299Z"
    },
    "papermill": {
     "duration": 10.466396,
     "end_time": "2022-11-18T05:31:04.849037",
     "exception": false,
     "start_time": "2022-11-18T05:30:54.382641",
     "status": "completed"
    },
    "tags": []
   },
   "outputs": [
    {
     "name": "stderr",
     "output_type": "stream",
     "text": [
      "WARNING: Running pip as the 'root' user can result in broken permissions and conflicting behaviour with the system package manager. It is recommended to use a virtual environment instead: https://pip.pypa.io/warnings/venv\n"
     ]
    }
   ],
   "source": [
    "%%bash\n",
    "pip install timm -q"
   ]
  },
  {
   "cell_type": "markdown",
   "id": "44770a46",
   "metadata": {
    "papermill": {
     "duration": 0.003749,
     "end_time": "2022-11-18T05:31:04.857013",
     "exception": false,
     "start_time": "2022-11-18T05:31:04.853264",
     "status": "completed"
    },
    "tags": []
   },
   "source": [
    "### **Library Imports**"
   ]
  },
  {
   "cell_type": "code",
   "execution_count": 2,
   "id": "ab64dc6d",
   "metadata": {
    "execution": {
     "iopub.execute_input": "2022-11-18T05:31:04.866271Z",
     "iopub.status.busy": "2022-11-18T05:31:04.865923Z",
     "iopub.status.idle": "2022-11-18T05:31:08.722177Z",
     "shell.execute_reply": "2022-11-18T05:31:08.721170Z"
    },
    "papermill": {
     "duration": 3.863713,
     "end_time": "2022-11-18T05:31:08.724599",
     "exception": false,
     "start_time": "2022-11-18T05:31:04.860886",
     "status": "completed"
    },
    "tags": []
   },
   "outputs": [],
   "source": [
    "import os\n",
    "import re\n",
    "import cv2\n",
    "import timm\n",
    "import torch\n",
    "import numpy as np\n",
    "import pandas as pd\n",
    "import matplotlib.pyplot as plt\n",
    "\n",
    "from time import time\n",
    "from typing import Union\n",
    "from torch import nn, optim\n",
    "from torch.utils.data import Dataset\n",
    "from torch.utils.data import DataLoader as DL\n",
    "from torchvision import models, transforms\n",
    "\n",
    "from sklearn.model_selection import StratifiedKFold"
   ]
  },
  {
   "cell_type": "markdown",
   "id": "f67bd229",
   "metadata": {
    "papermill": {
     "duration": 0.0038,
     "end_time": "2022-11-18T05:31:08.732702",
     "exception": false,
     "start_time": "2022-11-18T05:31:08.728902",
     "status": "completed"
    },
    "tags": []
   },
   "source": [
    "### **Utilities and Helpers**"
   ]
  },
  {
   "cell_type": "code",
   "execution_count": 3,
   "id": "09484393",
   "metadata": {
    "execution": {
     "iopub.execute_input": "2022-11-18T05:31:08.743514Z",
     "iopub.status.busy": "2022-11-18T05:31:08.741839Z",
     "iopub.status.idle": "2022-11-18T05:31:08.754737Z",
     "shell.execute_reply": "2022-11-18T05:31:08.753874Z"
    },
    "papermill": {
     "duration": 0.020021,
     "end_time": "2022-11-18T05:31:08.756619",
     "exception": false,
     "start_time": "2022-11-18T05:31:08.736598",
     "status": "completed"
    },
    "tags": []
   },
   "outputs": [],
   "source": [
    "SEED = 42\n",
    "SIZE = 384\n",
    "\n",
    "\n",
    "def breaker(num: int=50, char: str=\"*\") -> None:\n",
    "    print(\"\\n\" + num*char + \"\\n\")\n",
    "\n",
    "    \n",
    "def get_image(path: str, size: int=224) -> np.ndarray:\n",
    "    image = cv2.imread(path, cv2.IMREAD_COLOR)\n",
    "    image = cv2.cvtColor(src=image, code=cv2.COLOR_BGR2RGB)\n",
    "    return cv2.resize(src=image, dsize=(size, size), interpolation=cv2.INTER_AREA)\n",
    "\n",
    "    \n",
    "def show_loss_graphs(L: list) -> None:\n",
    "    TL, VL = [], []\n",
    "    for i in range(len(L)):\n",
    "        TL.append(L[i][\"train\"])\n",
    "        VL.append(L[i][\"valid\"])\n",
    "    x_Axis = np.arange(1, len(TL) + 1)\n",
    "    plt.figure()\n",
    "    plt.plot(x_Axis, TL, \"r\", label=\"Train\")\n",
    "    plt.plot(x_Axis, VL, \"b\", label=\"Valid\")\n",
    "    plt.legend()\n",
    "    plt.grid()\n",
    "    plt.title(\"Loss Graph\")\n",
    "    plt.show()\n",
    "\n",
    "    \n",
    "def show_accuracy_graphs(A: list) -> None:\n",
    "    TA, VA = [], []\n",
    "    for i in range(len(A)):\n",
    "        TA.append(A[i][\"train\"])\n",
    "        VA.append(A[i][\"valid\"])\n",
    "    x_Axis = np.arange(1, len(TA) + 1)\n",
    "    plt.figure()\n",
    "    plt.plot(x_Axis, TA, \"r\", label=\"Train\")\n",
    "    plt.plot(x_Axis, VA, \"b\", label=\"Valid\")\n",
    "    plt.legend()\n",
    "    plt.grid()\n",
    "    plt.title(\"Accuracy Graph\")\n",
    "    plt.show()\n",
    "    \n",
    "\n",
    "def show_lr_graph(LR: list) -> None:\n",
    "    x_Axis = [i+1 for i in range(len(LR))]\n",
    "    plt.figure(figsize=(8, 6))\n",
    "    plt.plot(x_Axis, LR, \"rx\")\n",
    "    plt.grid()\n",
    "    plt.show()"
   ]
  },
  {
   "cell_type": "markdown",
   "id": "75f599d8",
   "metadata": {
    "papermill": {
     "duration": 0.003692,
     "end_time": "2022-11-18T05:31:08.764597",
     "exception": false,
     "start_time": "2022-11-18T05:31:08.760905",
     "status": "completed"
    },
    "tags": []
   },
   "source": [
    "### **Configuration**"
   ]
  },
  {
   "cell_type": "code",
   "execution_count": 4,
   "id": "99314c05",
   "metadata": {
    "execution": {
     "iopub.execute_input": "2022-11-18T05:31:08.773836Z",
     "iopub.status.busy": "2022-11-18T05:31:08.773583Z",
     "iopub.status.idle": "2022-11-18T05:31:08.850161Z",
     "shell.execute_reply": "2022-11-18T05:31:08.849279Z"
    },
    "papermill": {
     "duration": 0.083631,
     "end_time": "2022-11-18T05:31:08.852121",
     "exception": false,
     "start_time": "2022-11-18T05:31:08.768490",
     "status": "completed"
    },
    "tags": []
   },
   "outputs": [],
   "source": [
    "class CFG(object):\n",
    "    def __init__(self, \n",
    "                 seed: int = 42,\n",
    "                 size: int = 224,\n",
    "                 n_splits: int = 5,\n",
    "                 batch_size: int = 16,\n",
    "                 epochs: int = 25,\n",
    "                 early_stopping: int = 5,\n",
    "                 lr: float = 1e-4,\n",
    "                 wd: float = 0.0,\n",
    "                 max_lr: float = 1e-3,\n",
    "                 pct_start: float = 0.2,\n",
    "                 steps_per_epoch: int = 100,\n",
    "                 div_factor: int = 1e3, \n",
    "                 final_div_factor: float = 1e3,\n",
    "                 ):\n",
    "        self.seed = seed\n",
    "        self.size = size\n",
    "        self.n_splits = n_splits\n",
    "        self.batch_size = batch_size\n",
    "        self.epochs = epochs\n",
    "        self.early_stopping = early_stopping\n",
    "        self.lr = lr\n",
    "        self.wd = wd\n",
    "        self.max_lr = max_lr\n",
    "        self.pct_start = pct_start\n",
    "        self.steps_per_epoch = steps_per_epoch\n",
    "        self.div_factor = div_factor\n",
    "        self.final_div_factor = final_div_factor\n",
    "        self.device = torch.device(\"cuda\" if torch.cuda.is_available() else \"cpu\")\n",
    "        \n",
    "        if self.size == 224:\n",
    "            self.train_transform = transforms.Compose([\n",
    "                transforms.ToTensor(),\n",
    "                transforms.Normalize([0.52544, 0.50744, 0.44312], [0.23076, 0.22994, 0.23781]),\n",
    "                transforms.RandomAffine(degrees=(-45, 45), translate=(0.15, 0.15), scale=(0.5, 1.5)),\n",
    "                transforms.RandomHorizontalFlip(p=0.25),\n",
    "                transforms.RandomVerticalFlip(p=0.25),\n",
    "            ])\n",
    "            self.valid_transform = transforms.Compose([\n",
    "                transforms.ToTensor(),\n",
    "                transforms.Normalize([0.52544, 0.50744, 0.44312], [0.23076, 0.22994, 0.23781]),\n",
    "            ])\n",
    "        \n",
    "        if self.size == 384:\n",
    "            self.train_transform = transforms.Compose([\n",
    "                transforms.ToTensor(),\n",
    "                transforms.Normalize([0.52556, 0.50756, 0.44324], [0.23221, 0.23140, 0.23923]),\n",
    "                transforms.RandomAffine(degrees=(-45, 45), translate=(0.15, 0.15), scale=(0.5, 1.5)),\n",
    "                transforms.RandomHorizontalFlip(p=0.25),\n",
    "                transforms.RandomVerticalFlip(p=0.25),\n",
    "            ])\n",
    "            self.valid_transform = transforms.Compose([\n",
    "                transforms.ToTensor(),\n",
    "                transforms.Normalize([0.52556, 0.50756, 0.44324], [0.23221, 0.23140, 0.23923]),\n",
    "            ])\n",
    "        \n",
    "        if self.size == 512:\n",
    "            self.train_transform = transforms.Compose([\n",
    "                transforms.ToTensor(),\n",
    "                transforms.Normalize([0.52560, 0.50760, 0.44328], [0.23278, 0.23197, 0.23979]),\n",
    "                transforms.RandomAffine(degrees=(-45, 45), translate=(0.15, 0.15), scale=(0.5, 1.5)),\n",
    "                transforms.RandomHorizontalFlip(p=0.25),\n",
    "                transforms.RandomVerticalFlip(p=0.25),\n",
    "            ])\n",
    "            self.valid_transform = transforms.Compose([\n",
    "                transforms.ToTensor(),\n",
    "                transforms.Normalize([0.52560, 0.50760, 0.44328], [0.23278, 0.23197, 0.23979]),\n",
    "            ])\n",
    "                                \n",
    "        self.save_path = \"saves\"\n",
    "        if not os.path.exists(self.save_path): os.makedirs(self.save_path)\n",
    "    \n",
    "cfg = CFG(\n",
    "    seed=SEED, \n",
    "    size=SIZE\n",
    ")"
   ]
  },
  {
   "cell_type": "markdown",
   "id": "0def7573",
   "metadata": {
    "papermill": {
     "duration": 0.003713,
     "end_time": "2022-11-18T05:31:08.859850",
     "exception": false,
     "start_time": "2022-11-18T05:31:08.856137",
     "status": "completed"
    },
    "tags": []
   },
   "source": [
    "### **Dataset Template**"
   ]
  },
  {
   "cell_type": "code",
   "execution_count": 5,
   "id": "4041e894",
   "metadata": {
    "execution": {
     "iopub.execute_input": "2022-11-18T05:31:08.869323Z",
     "iopub.status.busy": "2022-11-18T05:31:08.868480Z",
     "iopub.status.idle": "2022-11-18T05:31:08.875552Z",
     "shell.execute_reply": "2022-11-18T05:31:08.874729Z"
    },
    "papermill": {
     "duration": 0.013808,
     "end_time": "2022-11-18T05:31:08.877482",
     "exception": false,
     "start_time": "2022-11-18T05:31:08.863674",
     "status": "completed"
    },
    "tags": []
   },
   "outputs": [],
   "source": [
    "class DS(Dataset):\n",
    "    def __init__(\n",
    "        self, \n",
    "        filepaths: np.ndarray, \n",
    "        size: int,\n",
    "        labels: Union[np.ndarray, None]=None, \n",
    "        transform=None\n",
    "    ):\n",
    "        \n",
    "        self.filepaths = filepaths\n",
    "        self.labels = labels\n",
    "        self.size = size\n",
    "        self.transform = transform\n",
    "    \n",
    "    def __len__(self):\n",
    "        return self.filepaths.shape[0]\n",
    "    \n",
    "    def __getitem__(self, idx):\n",
    "        image = get_image(self.filepaths[idx], self.size)\n",
    "        if self.labels is None:\n",
    "            return self.transform(image)\n",
    "        return self.transform(image), torch.LongTensor(self.labels[idx])"
   ]
  },
  {
   "cell_type": "markdown",
   "id": "f47911a6",
   "metadata": {
    "papermill": {
     "duration": 0.003658,
     "end_time": "2022-11-18T05:31:08.885047",
     "exception": false,
     "start_time": "2022-11-18T05:31:08.881389",
     "status": "completed"
    },
    "tags": []
   },
   "source": [
    "### **Model**"
   ]
  },
  {
   "cell_type": "code",
   "execution_count": 6,
   "id": "ab796914",
   "metadata": {
    "execution": {
     "iopub.execute_input": "2022-11-18T05:31:08.893809Z",
     "iopub.status.busy": "2022-11-18T05:31:08.893536Z",
     "iopub.status.idle": "2022-11-18T05:31:08.899162Z",
     "shell.execute_reply": "2022-11-18T05:31:08.898251Z"
    },
    "papermill": {
     "duration": 0.01219,
     "end_time": "2022-11-18T05:31:08.901100",
     "exception": false,
     "start_time": "2022-11-18T05:31:08.888910",
     "status": "completed"
    },
    "tags": []
   },
   "outputs": [],
   "source": [
    "class Model(nn.Module):\n",
    "    def __init__(self):\n",
    "        super(Model, self).__init__()\n",
    "            \n",
    "        self.model = timm.create_model(model_name=\"efficientnet_b4\", pretrained=True)\n",
    "        self.model.classifier = nn.Linear(in_features=self.model.classifier.in_features, out_features=11)\n",
    "\n",
    "    def forward(self, x):\n",
    "        return nn.LogSoftmax(dim=1)(self.model(x))"
   ]
  },
  {
   "cell_type": "markdown",
   "id": "4b98a6e6",
   "metadata": {
    "papermill": {
     "duration": 0.003682,
     "end_time": "2022-11-18T05:31:08.908665",
     "exception": false,
     "start_time": "2022-11-18T05:31:08.904983",
     "status": "completed"
    },
    "tags": []
   },
   "source": [
    "### **Fit and Predict**"
   ]
  },
  {
   "cell_type": "code",
   "execution_count": 7,
   "id": "686a3470",
   "metadata": {
    "execution": {
     "iopub.execute_input": "2022-11-18T05:31:08.918065Z",
     "iopub.status.busy": "2022-11-18T05:31:08.917527Z",
     "iopub.status.idle": "2022-11-18T05:31:08.937740Z",
     "shell.execute_reply": "2022-11-18T05:31:08.936933Z"
    },
    "papermill": {
     "duration": 0.027193,
     "end_time": "2022-11-18T05:31:08.939679",
     "exception": false,
     "start_time": "2022-11-18T05:31:08.912486",
     "status": "completed"
    },
    "tags": []
   },
   "outputs": [],
   "source": [
    "def fit(\n",
    "    model=None,\n",
    "    optimizer=None, \n",
    "    scheduler_rlrop=None,\n",
    "    scheduler_oclr=None,\n",
    "    epochs=None, \n",
    "    early_stopping_patience=None, \n",
    "    dataloaders=None, \n",
    "    fold=None, \n",
    "    save_path=None,\n",
    "    device=None,\n",
    "    verbose=False\n",
    ") -> tuple:\n",
    "    \n",
    "    def get_accuracy(y_pred, y_true):\n",
    "        y_pred = torch.argmax(y_pred, dim=1)\n",
    "        return torch.count_nonzero(y_pred == y_true).item() / len(y_pred)\n",
    "    \n",
    "    \n",
    "    if verbose:\n",
    "        breaker()\n",
    "        if fold: print(f\"Training Fold {fold}...\")\n",
    "        else: print(\"Training ...\")\n",
    "        breaker()\n",
    "        \n",
    "    bestLoss: dict = {\"train\" : np.inf, \"valid\" : np.inf} \n",
    "    bestAccs: dict = {\"train\" : 0.0, \"valid\" : 0.0}\n",
    "    \n",
    "    Losses: list = []\n",
    "    Accuracies: list = [] \n",
    "    LRs: list = []\n",
    "        \n",
    "    if fold: \n",
    "        ble_name = f\"ble_state_fold_{fold}.pt\"\n",
    "        bae_name = f\"bae_state_fold_{fold}.pt\"\n",
    "    else: \n",
    "        ble_name = f\"ble_state.pt\"\n",
    "        bae_name = f\"bae_state.pt\"\n",
    "        \n",
    "    start_time = time()\n",
    "    for e in range(epochs):\n",
    "        e_st = time()\n",
    "        epochLoss: dict = {\"train\" : 0.0, \"valid\" : 0.0} \n",
    "        epochAccs: dict = {\"train\" : 0.0, \"valid\" : 0.0}\n",
    "\n",
    "        for phase in [\"train\", \"valid\"]:\n",
    "            if phase == \"train\":\n",
    "                model.train()\n",
    "            else:\n",
    "                model.eval()\n",
    "            \n",
    "            lossPerPass: list = []\n",
    "            accsPerPass: list = []\n",
    "                \n",
    "            for X, y in dataloaders[phase]:\n",
    "                X, y = X.to(device), y.to(device).view(-1)\n",
    "\n",
    "                optimizer.zero_grad()\n",
    "                with torch.set_grad_enabled(phase == \"train\"):\n",
    "                    output = model(X)\n",
    "                    loss = torch.nn.NLLLoss()(output, y)\n",
    "                    if phase == \"train\":\n",
    "                        loss.backward()\n",
    "                        optimizer.step()\n",
    "                        if scheduler_oclr: scheduler_oclr.step()\n",
    "                lossPerPass.append(loss.item())\n",
    "                accsPerPass.append(get_accuracy(output, y))\n",
    "            epochLoss[phase] = np.mean(np.array(lossPerPass))\n",
    "            epochAccs[phase] = np.mean(np.array(accsPerPass))\n",
    "        if scheduler_oclr: LRs.append(scheduler_oclr.get_last_lr())\n",
    "        Losses.append(epochLoss)\n",
    "        Accuracies.append(epochAccs)\n",
    "        \n",
    "        if scheduler_oclr:\n",
    "            save_dict = {\"model_state_dict\"     : model.state_dict(),\n",
    "                         \"optim_state_dict\"     : optimizer.state_dict(),\n",
    "                         \"scheduler_state_dict\" : scheduler_oclr.state_dict()}\n",
    "        \n",
    "        elif scheduler_rlrop:\n",
    "            save_dict = {\"model_state_dict\"     : model.state_dict(),\n",
    "                         \"optim_state_dict\"     : optimizer.state_dict(),\n",
    "                         \"scheduler_state_dict\" : scheduler_rlrop.state_dict()}\n",
    "        \n",
    "        else:\n",
    "            save_dict = {\"model_state_dict\"     : model.state_dict(),\n",
    "                         \"optim_state_dict\"     : optimizer.state_dict()}\n",
    "        \n",
    "        if early_stopping_patience:\n",
    "            if epochLoss[\"valid\"] < bestLoss[\"valid\"]:\n",
    "                bestLoss = epochLoss\n",
    "                BLE = e + 1\n",
    "                torch.save(save_dict, os.path.join(save_path, ble_name))\n",
    "                torch.save(save_dict, os.path.join(save_path, bae_name))\n",
    "                early_stopping_step = 0\n",
    "            else:\n",
    "                early_stopping_step += 1\n",
    "                if early_stopping_step > early_stopping_patience:\n",
    "                    print(\"\\nEarly Stopping at Epoch {}\".format(e + 1))\n",
    "                    break\n",
    "        \n",
    "        if epochLoss[\"valid\"] < bestLoss[\"valid\"]:\n",
    "            bestLoss = epochLoss\n",
    "            BLE = e + 1\n",
    "            torch.save(save_dict,os.path.join(save_path, ble_name))\n",
    "        \n",
    "        if epochAccs[\"valid\"] > bestAccs[\"valid\"]:\n",
    "            bestAccs = epochAccs\n",
    "            BAE = e + 1\n",
    "            torch.save(save_dict,os.path.join(save_path, bae_name))\n",
    "        \n",
    "        if scheduler_rlrop: scheduler_rlrop.step(epochLoss[\"valid\"])\n",
    "        \n",
    "        if verbose:\n",
    "            print(\"Epoch: {} | Train Loss: {:.5f} | Valid Loss: {:.5f} |\\\n",
    " Train Accs: {:.5f} | Valid Accs: {:.5f} | Time: {:.2f} seconds\".format(e+1, \n",
    "                                                                        epochLoss[\"train\"], epochLoss[\"valid\"], \n",
    "                                                                        epochAccs[\"train\"], epochAccs[\"valid\"], \n",
    "                                                                        time()-e_st))\n",
    "\n",
    "    if verbose:                                           \n",
    "        breaker()\n",
    "        print(f\"Best Validation Loss at Epoch {BLE}\")\n",
    "        breaker()\n",
    "        print(f\"Best Validation Accs at Epoch {BAE}\")\n",
    "        breaker()\n",
    "        print(\"Time Taken [{} Epochs] : {:.2f} minutes\".format(len(Losses), (time()-start_time)/60))\n",
    "    \n",
    "    return Losses, Accuracies, LRs, bestLoss, bestAccs, BLE, BAE, ble_name, bae_name\n",
    "\n",
    "\n",
    "# def predict_batch(model=None, dataloader=None, path=None, device=None) -> np.ndarray:\n",
    "#     model.load_state_dict(torch.load(path, map_location=device)[\"model_state_dict\"])\n",
    "#     model.to(device)    \n",
    "#     model.eval()\n",
    "    \n",
    "#     y_pred = torch.zeros(1, 1).to(device)\n",
    "    \n",
    "#     for X in dataloader:\n",
    "#         X = X.to(device)\n",
    "#         with torch.no_grad():\n",
    "#             output = torch.argmax(torch.exp(model(X)), dim=1)\n",
    "#         y_pred = torch.cat((y_pred, output.view(-1, 1)), dim=0)\n",
    "    \n",
    "#     return y_pred[1:].detach().cpu().numpy()"
   ]
  },
  {
   "cell_type": "markdown",
   "id": "2d1fe1b7",
   "metadata": {
    "papermill": {
     "duration": 0.004625,
     "end_time": "2022-11-18T05:31:08.948242",
     "exception": false,
     "start_time": "2022-11-18T05:31:08.943617",
     "status": "completed"
    },
    "tags": []
   },
   "source": [
    "### **Train**"
   ]
  },
  {
   "cell_type": "code",
   "execution_count": 8,
   "id": "a04cfd6c",
   "metadata": {
    "execution": {
     "iopub.execute_input": "2022-11-18T05:31:08.957404Z",
     "iopub.status.busy": "2022-11-18T05:31:08.956637Z",
     "iopub.status.idle": "2022-11-18T05:31:09.017046Z",
     "shell.execute_reply": "2022-11-18T05:31:09.016240Z"
    },
    "papermill": {
     "duration": 0.067004,
     "end_time": "2022-11-18T05:31:09.019024",
     "exception": false,
     "start_time": "2022-11-18T05:31:08.952020",
     "status": "completed"
    },
    "tags": []
   },
   "outputs": [],
   "source": [
    "df = pd.read_csv(\"../input/aic-dataframe/train.csv\")\n",
    "\n",
    "filepaths = df.filepaths.copy().values\n",
    "labels = df.labels.copy().values"
   ]
  },
  {
   "cell_type": "code",
   "execution_count": 9,
   "id": "c535c11f",
   "metadata": {
    "execution": {
     "iopub.execute_input": "2022-11-18T05:31:09.028452Z",
     "iopub.status.busy": "2022-11-18T05:31:09.027703Z",
     "iopub.status.idle": "2022-11-18T11:24:20.032571Z",
     "shell.execute_reply": "2022-11-18T11:24:20.031573Z"
    },
    "papermill": {
     "duration": 21191.011942,
     "end_time": "2022-11-18T11:24:20.034886",
     "exception": false,
     "start_time": "2022-11-18T05:31:09.022944",
     "status": "completed"
    },
    "tags": []
   },
   "outputs": [
    {
     "name": "stderr",
     "output_type": "stream",
     "text": [
      "Downloading: \"https://github.com/rwightman/pytorch-image-models/releases/download/v0.1-weights/efficientnet_b4_ra2_320-7eb33cd5.pth\" to /root/.cache/torch/hub/checkpoints/efficientnet_b4_ra2_320-7eb33cd5.pth\n"
     ]
    },
    {
     "name": "stdout",
     "output_type": "stream",
     "text": [
      "\n",
      "**************************************************\n",
      "\n",
      "Training Fold 1...\n",
      "\n",
      "**************************************************\n",
      "\n",
      "Epoch: 1 | Train Loss: 0.69062 | Valid Loss: 0.00112 | Train Accs: 0.88650 | Valid Accs: 1.00000 | Time: 490.60 seconds\n",
      "Epoch: 2 | Train Loss: 0.00041 | Valid Loss: 0.00014 | Train Accs: 1.00000 | Valid Accs: 1.00000 | Time: 412.78 seconds\n",
      "Epoch: 3 | Train Loss: 0.00009 | Valid Loss: 0.00006 | Train Accs: 1.00000 | Valid Accs: 1.00000 | Time: 413.08 seconds\n",
      "Epoch: 4 | Train Loss: 0.00004 | Valid Loss: 0.00003 | Train Accs: 1.00000 | Valid Accs: 1.00000 | Time: 417.95 seconds\n",
      "Epoch: 5 | Train Loss: 0.00003 | Valid Loss: 0.00002 | Train Accs: 1.00000 | Valid Accs: 1.00000 | Time: 416.05 seconds\n",
      "Epoch: 6 | Train Loss: 0.00002 | Valid Loss: 0.00002 | Train Accs: 1.00000 | Valid Accs: 1.00000 | Time: 415.21 seconds\n",
      "Epoch: 7 | Train Loss: 0.00002 | Valid Loss: 0.00001 | Train Accs: 1.00000 | Valid Accs: 1.00000 | Time: 415.64 seconds\n",
      "Epoch: 8 | Train Loss: 0.00001 | Valid Loss: 0.00001 | Train Accs: 1.00000 | Valid Accs: 1.00000 | Time: 416.32 seconds\n",
      "Epoch: 9 | Train Loss: 0.00001 | Valid Loss: 0.00001 | Train Accs: 1.00000 | Valid Accs: 1.00000 | Time: 415.33 seconds\n",
      "Epoch: 10 | Train Loss: 0.00001 | Valid Loss: 0.00001 | Train Accs: 1.00000 | Valid Accs: 1.00000 | Time: 424.02 seconds\n",
      "\n",
      "**************************************************\n",
      "\n",
      "Best Validation Loss at Epoch 10\n",
      "\n",
      "**************************************************\n",
      "\n",
      "Best Validation Accs at Epoch 1\n",
      "\n",
      "**************************************************\n",
      "\n",
      "Time Taken [10 Epochs] : 70.62 minutes\n",
      "\n",
      "**************************************************\n",
      "\n"
     ]
    },
    {
     "data": {
      "image/png": "[encoded data removed]",
      "text/plain": [
       "<Figure size 432x288 with 1 Axes>"
      ]
     },
     "metadata": {
      "needs_background": "light"
     },
     "output_type": "display_data"
    },
    {
     "name": "stdout",
     "output_type": "stream",
     "text": [
      "\n",
      "**************************************************\n",
      "\n"
     ]
    },
    {
     "data": {
      "image/png": "[encoded data removed]",
      "text/plain": [
       "<Figure size 432x288 with 1 Axes>"
      ]
     },
     "metadata": {
      "needs_background": "light"
     },
     "output_type": "display_data"
    },
    {
     "name": "stdout",
     "output_type": "stream",
     "text": [
      "\n",
      "**************************************************\n",
      "\n"
     ]
    },
    {
     "data": {
      "image/png": "[encoded data removed]",
      "text/plain": [
       "<Figure size 576x432 with 1 Axes>"
      ]
     },
     "metadata": {
      "needs_background": "light"
     },
     "output_type": "display_data"
    },
    {
     "name": "stdout",
     "output_type": "stream",
     "text": [
      "\n",
      "**************************************************\n",
      "\n",
      "\n",
      "**************************************************\n",
      "\n",
      "Training Fold 2...\n",
      "\n",
      "**************************************************\n",
      "\n",
      "Epoch: 1 | Train Loss: 0.68924 | Valid Loss: 0.00112 | Train Accs: 0.89263 | Valid Accs: 1.00000 | Time: 419.69 seconds\n",
      "Epoch: 2 | Train Loss: 0.00041 | Valid Loss: 0.00014 | Train Accs: 1.00000 | Valid Accs: 1.00000 | Time: 419.71 seconds\n",
      "Epoch: 3 | Train Loss: 0.00009 | Valid Loss: 0.00005 | Train Accs: 1.00000 | Valid Accs: 1.00000 | Time: 416.80 seconds\n",
      "Epoch: 4 | Train Loss: 0.00004 | Valid Loss: 0.00003 | Train Accs: 1.00000 | Valid Accs: 1.00000 | Time: 421.10 seconds\n",
      "Epoch: 5 | Train Loss: 0.00003 | Valid Loss: 0.00002 | Train Accs: 1.00000 | Valid Accs: 1.00000 | Time: 418.19 seconds\n",
      "Epoch: 6 | Train Loss: 0.00002 | Valid Loss: 0.00002 | Train Accs: 1.00000 | Valid Accs: 1.00000 | Time: 430.07 seconds\n",
      "Epoch: 7 | Train Loss: 0.00001 | Valid Loss: 0.00001 | Train Accs: 1.00000 | Valid Accs: 1.00000 | Time: 412.39 seconds\n",
      "Epoch: 8 | Train Loss: 0.00001 | Valid Loss: 0.00001 | Train Accs: 1.00000 | Valid Accs: 1.00000 | Time: 423.93 seconds\n",
      "Epoch: 9 | Train Loss: 0.00001 | Valid Loss: 0.00001 | Train Accs: 1.00000 | Valid Accs: 1.00000 | Time: 455.09 seconds\n",
      "Epoch: 10 | Train Loss: 0.00001 | Valid Loss: 0.00001 | Train Accs: 1.00000 | Valid Accs: 1.00000 | Time: 430.55 seconds\n",
      "\n",
      "**************************************************\n",
      "\n",
      "Best Validation Loss at Epoch 10\n",
      "\n",
      "**************************************************\n",
      "\n",
      "Best Validation Accs at Epoch 1\n",
      "\n",
      "**************************************************\n",
      "\n",
      "Time Taken [10 Epochs] : 70.79 minutes\n",
      "\n",
      "**************************************************\n",
      "\n"
     ]
    },
    {
     "data": {
      "image/png": "[encoded data removed]",
      "text/plain": [
       "<Figure size 432x288 with 1 Axes>"
      ]
     },
     "metadata": {
      "needs_background": "light"
     },
     "output_type": "display_data"
    },
    {
     "name": "stdout",
     "output_type": "stream",
     "text": [
      "\n",
      "**************************************************\n",
      "\n"
     ]
    },
    {
     "data": {
      "image/png": "[encoded data removed]",
      "text/plain": [
       "<Figure size 432x288 with 1 Axes>"
      ]
     },
     "metadata": {
      "needs_background": "light"
     },
     "output_type": "display_data"
    },
    {
     "name": "stdout",
     "output_type": "stream",
     "text": [
      "\n",
      "**************************************************\n",
      "\n"
     ]
    },
    {
     "data": {
      "image/png": "[encoded data removed]",
      "text/plain": [
       "<Figure size 576x432 with 1 Axes>"
      ]
     },
     "metadata": {
      "needs_background": "light"
     },
     "output_type": "display_data"
    },
    {
     "name": "stdout",
     "output_type": "stream",
     "text": [
      "\n",
      "**************************************************\n",
      "\n",
      "\n",
      "**************************************************\n",
      "\n",
      "Training Fold 3...\n",
      "\n",
      "**************************************************\n",
      "\n",
      "Epoch: 1 | Train Loss: 0.69033 | Valid Loss: 0.00109 | Train Accs: 0.88887 | Valid Accs: 1.00000 | Time: 419.76 seconds\n",
      "Epoch: 2 | Train Loss: 0.00041 | Valid Loss: 0.00013 | Train Accs: 1.00000 | Valid Accs: 1.00000 | Time: 422.66 seconds\n",
      "Epoch: 3 | Train Loss: 0.00009 | Valid Loss: 0.00006 | Train Accs: 1.00000 | Valid Accs: 1.00000 | Time: 420.86 seconds\n",
      "Epoch: 4 | Train Loss: 0.00004 | Valid Loss: 0.00003 | Train Accs: 1.00000 | Valid Accs: 1.00000 | Time: 422.46 seconds\n",
      "Epoch: 5 | Train Loss: 0.00003 | Valid Loss: 0.00002 | Train Accs: 1.00000 | Valid Accs: 1.00000 | Time: 419.85 seconds\n",
      "Epoch: 6 | Train Loss: 0.00002 | Valid Loss: 0.00002 | Train Accs: 1.00000 | Valid Accs: 1.00000 | Time: 423.86 seconds\n",
      "Epoch: 7 | Train Loss: 0.00001 | Valid Loss: 0.00001 | Train Accs: 1.00000 | Valid Accs: 1.00000 | Time: 417.85 seconds\n",
      "Epoch: 8 | Train Loss: 0.00001 | Valid Loss: 0.00001 | Train Accs: 1.00000 | Valid Accs: 1.00000 | Time: 434.39 seconds\n",
      "Epoch: 9 | Train Loss: 0.00001 | Valid Loss: 0.00001 | Train Accs: 1.00000 | Valid Accs: 1.00000 | Time: 419.29 seconds\n",
      "Epoch: 10 | Train Loss: 0.00001 | Valid Loss: 0.00001 | Train Accs: 1.00000 | Valid Accs: 1.00000 | Time: 420.87 seconds\n",
      "\n",
      "**************************************************\n",
      "\n",
      "Best Validation Loss at Epoch 10\n",
      "\n",
      "**************************************************\n",
      "\n",
      "Best Validation Accs at Epoch 1\n",
      "\n",
      "**************************************************\n",
      "\n",
      "Time Taken [10 Epochs] : 70.36 minutes\n",
      "\n",
      "**************************************************\n",
      "\n"
     ]
    },
    {
     "data": {
      "image/png": "[encoded data removed]",
      "text/plain": [
       "<Figure size 432x288 with 1 Axes>"
      ]
     },
     "metadata": {
      "needs_background": "light"
     },
     "output_type": "display_data"
    },
    {
     "name": "stdout",
     "output_type": "stream",
     "text": [
      "\n",
      "**************************************************\n",
      "\n"
     ]
    },
    {
     "data": {
      "image/png": "[encoded data removed]",
      "text/plain": [
       "<Figure size 432x288 with 1 Axes>"
      ]
     },
     "metadata": {
      "needs_background": "light"
     },
     "output_type": "display_data"
    },
    {
     "name": "stdout",
     "output_type": "stream",
     "text": [
      "\n",
      "**************************************************\n",
      "\n"
     ]
    },
    {
     "data": {
      "image/png": "[encoded data removed]",
      "text/plain": [
       "<Figure size 576x432 with 1 Axes>"
      ]
     },
     "metadata": {
      "needs_background": "light"
     },
     "output_type": "display_data"
    },
    {
     "name": "stdout",
     "output_type": "stream",
     "text": [
      "\n",
      "**************************************************\n",
      "\n",
      "\n",
      "**************************************************\n",
      "\n",
      "Training Fold 4...\n",
      "\n",
      "**************************************************\n",
      "\n",
      "Epoch: 1 | Train Loss: 0.68933 | Valid Loss: 0.00112 | Train Accs: 0.88750 | Valid Accs: 1.00000 | Time: 438.65 seconds\n",
      "Epoch: 2 | Train Loss: 0.00042 | Valid Loss: 0.00014 | Train Accs: 1.00000 | Valid Accs: 1.00000 | Time: 421.53 seconds\n",
      "Epoch: 3 | Train Loss: 0.00009 | Valid Loss: 0.00005 | Train Accs: 1.00000 | Valid Accs: 1.00000 | Time: 423.70 seconds\n",
      "Epoch: 4 | Train Loss: 0.00004 | Valid Loss: 0.00003 | Train Accs: 1.00000 | Valid Accs: 1.00000 | Time: 416.36 seconds\n",
      "Epoch: 5 | Train Loss: 0.00003 | Valid Loss: 0.00002 | Train Accs: 1.00000 | Valid Accs: 1.00000 | Time: 416.23 seconds\n",
      "Epoch: 6 | Train Loss: 0.00002 | Valid Loss: 0.00002 | Train Accs: 1.00000 | Valid Accs: 1.00000 | Time: 417.18 seconds\n",
      "Epoch: 7 | Train Loss: 0.00001 | Valid Loss: 0.00001 | Train Accs: 1.00000 | Valid Accs: 1.00000 | Time: 412.93 seconds\n",
      "Epoch: 8 | Train Loss: 0.00001 | Valid Loss: 0.00001 | Train Accs: 1.00000 | Valid Accs: 1.00000 | Time: 436.56 seconds\n",
      "Epoch: 9 | Train Loss: 0.00001 | Valid Loss: 0.00001 | Train Accs: 1.00000 | Valid Accs: 1.00000 | Time: 413.49 seconds\n",
      "Epoch: 10 | Train Loss: 0.00001 | Valid Loss: 0.00001 | Train Accs: 1.00000 | Valid Accs: 1.00000 | Time: 409.59 seconds\n",
      "\n",
      "**************************************************\n",
      "\n",
      "Best Validation Loss at Epoch 10\n",
      "\n",
      "**************************************************\n",
      "\n",
      "Best Validation Accs at Epoch 1\n",
      "\n",
      "**************************************************\n",
      "\n",
      "Time Taken [10 Epochs] : 70.10 minutes\n",
      "\n",
      "**************************************************\n",
      "\n"
     ]
    },
    {
     "data": {
      "image/png": "[encoded data removed]",
      "text/plain": [
       "<Figure size 432x288 with 1 Axes>"
      ]
     },
     "metadata": {
      "needs_background": "light"
     },
     "output_type": "display_data"
    },
    {
     "name": "stdout",
     "output_type": "stream",
     "text": [
      "\n",
      "**************************************************\n",
      "\n"
     ]
    },
    {
     "data": {
      "image/png": "[encoded data removed]",
      "text/plain": [
       "<Figure size 432x288 with 1 Axes>"
      ]
     },
     "metadata": {
      "needs_background": "light"
     },
     "output_type": "display_data"
    },
    {
     "name": "stdout",
     "output_type": "stream",
     "text": [
      "\n",
      "**************************************************\n",
      "\n"
     ]
    },
    {
     "data": {
      "image/png": "[encoded data removed]",
      "text/plain": [
       "<Figure size 576x432 with 1 Axes>"
      ]
     },
     "metadata": {
      "needs_background": "light"
     },
     "output_type": "display_data"
    },
    {
     "name": "stdout",
     "output_type": "stream",
     "text": [
      "\n",
      "**************************************************\n",
      "\n",
      "\n",
      "**************************************************\n",
      "\n",
      "Training Fold 5...\n",
      "\n",
      "**************************************************\n",
      "\n",
      "Epoch: 1 | Train Loss: 0.68979 | Valid Loss: 0.00112 | Train Accs: 0.88850 | Valid Accs: 1.00000 | Time: 415.41 seconds\n",
      "Epoch: 2 | Train Loss: 0.00041 | Valid Loss: 0.00014 | Train Accs: 1.00000 | Valid Accs: 1.00000 | Time: 414.33 seconds\n",
      "Epoch: 3 | Train Loss: 0.00009 | Valid Loss: 0.00006 | Train Accs: 1.00000 | Valid Accs: 1.00000 | Time: 425.68 seconds\n",
      "Epoch: 4 | Train Loss: 0.00004 | Valid Loss: 0.00003 | Train Accs: 1.00000 | Valid Accs: 1.00000 | Time: 425.99 seconds\n",
      "Epoch: 5 | Train Loss: 0.00003 | Valid Loss: 0.00002 | Train Accs: 1.00000 | Valid Accs: 1.00000 | Time: 442.91 seconds\n",
      "Epoch: 6 | Train Loss: 0.00002 | Valid Loss: 0.00002 | Train Accs: 1.00000 | Valid Accs: 1.00000 | Time: 437.86 seconds\n",
      "Epoch: 7 | Train Loss: 0.00002 | Valid Loss: 0.00001 | Train Accs: 1.00000 | Valid Accs: 1.00000 | Time: 431.11 seconds\n",
      "Epoch: 8 | Train Loss: 0.00001 | Valid Loss: 0.00001 | Train Accs: 1.00000 | Valid Accs: 1.00000 | Time: 426.27 seconds\n",
      "Epoch: 9 | Train Loss: 0.00001 | Valid Loss: 0.00001 | Train Accs: 1.00000 | Valid Accs: 1.00000 | Time: 413.20 seconds\n",
      "Epoch: 10 | Train Loss: 0.00001 | Valid Loss: 0.00001 | Train Accs: 1.00000 | Valid Accs: 1.00000 | Time: 434.53 seconds\n",
      "\n",
      "**************************************************\n",
      "\n",
      "Best Validation Loss at Epoch 10\n",
      "\n",
      "**************************************************\n",
      "\n",
      "Best Validation Accs at Epoch 1\n",
      "\n",
      "**************************************************\n",
      "\n",
      "Time Taken [10 Epochs] : 71.12 minutes\n",
      "\n",
      "**************************************************\n",
      "\n"
     ]
    },
    {
     "data": {
      "image/png": "[encoded data removed]",
      "text/plain": [
       "<Figure size 432x288 with 1 Axes>"
      ]
     },
     "metadata": {
      "needs_background": "light"
     },
     "output_type": "display_data"
    },
    {
     "name": "stdout",
     "output_type": "stream",
     "text": [
      "\n",
      "**************************************************\n",
      "\n"
     ]
    },
    {
     "data": {
      "image/png": "[encoded data removed]",
      "text/plain": [
       "<Figure size 432x288 with 1 Axes>"
      ]
     },
     "metadata": {
      "needs_background": "light"
     },
     "output_type": "display_data"
    },
    {
     "name": "stdout",
     "output_type": "stream",
     "text": [
      "\n",
      "**************************************************\n",
      "\n"
     ]
    },
    {
     "data": {
      "image/png": "[encoded data removed]",
      "text/plain": [
       "<Figure size 576x432 with 1 Axes>"
      ]
     },
     "metadata": {
      "needs_background": "light"
     },
     "output_type": "display_data"
    },
    {
     "name": "stdout",
     "output_type": "stream",
     "text": [
      "\n",
      "**************************************************\n",
      "\n"
     ]
    }
   ],
   "source": [
    "fold: int = 1\n",
    "BLs: list = []\n",
    "BAs: list = []\n",
    "    \n",
    "cfg.batch_size = 16\n",
    "cfg.epochs = 10\n",
    "    \n",
    "for tr_idx, va_idx in StratifiedKFold(n_splits=cfg.n_splits, random_state=cfg.seed, shuffle=True).split(filepaths, labels):\n",
    "\n",
    "    tr_filepaths, va_filepaths = filepaths[tr_idx], filepaths[va_idx] \n",
    "    tr_labels, va_labels       = labels[tr_idx], labels[va_idx]\n",
    "\n",
    "    tr_data_setup = DS(\n",
    "        filepaths=tr_filepaths, \n",
    "        labels=tr_labels.reshape(-1, 1),\n",
    "        size=cfg.size,\n",
    "        transform=cfg.train_transform\n",
    "    )\n",
    "    \n",
    "    va_data_setup = DS(\n",
    "        filepaths=va_filepaths, \n",
    "        labels=va_labels.reshape(-1, 1),\n",
    "        size=cfg.size,\n",
    "        transform=cfg.train_transform\n",
    "    )\n",
    "\n",
    "    dataloaders = {\n",
    "        \"train\" : DL(tr_data_setup, batch_size=cfg.batch_size, shuffle=True, generator=torch.manual_seed(cfg.seed)),\n",
    "        \"valid\" : DL(va_data_setup, batch_size=cfg.batch_size, shuffle=False),\n",
    "    }\n",
    "\n",
    "    cfg.steps_per_epoch=len(dataloaders[\"train\"])\n",
    "    \n",
    "    torch.manual_seed(cfg.seed)\n",
    "    model = Model().to(cfg.device)\n",
    "\n",
    "    optimizer = optim.Adam([p for p in model.parameters() if p.requires_grad], lr=cfg.lr, weight_decay=cfg.wd)\n",
    "    # optimizer = optim.AdamW([p for p in model.parameters() if p.requires_grad], lr=cfg.lr, weight_decay=cfg.wd)\n",
    "    # optimizer = optim.SGD([p for p in model.parameters() if p.requires_grad], lr=cfg.lr, weight_decay=cfg.wd, momentum=0.9)\n",
    "\n",
    "    scheduler_oclr = optim.lr_scheduler.OneCycleLR(\n",
    "        optimizer=optimizer, \n",
    "        max_lr=cfg.max_lr, \n",
    "        epochs=cfg.epochs, \n",
    "        steps_per_epoch=cfg.steps_per_epoch,\n",
    "        pct_start=cfg.pct_start, \n",
    "        div_factor=cfg.div_factor, \n",
    "        final_div_factor=cfg.final_div_factor\n",
    "    )\n",
    "\n",
    "    # scheduler_rlrop = optim.lr_scheduler.ReduceLROnPlateau(\n",
    "    #     optimizer=optimizer,\n",
    "    #     patience=cfg.patience,\n",
    "    #     eps=cfg.eps,\n",
    "    #     verbose=True\n",
    "    # )\n",
    "\n",
    "    # scheduler_oclr = None\n",
    "    scheduler_rlrop = None\n",
    "\n",
    "\n",
    "    L, A, LR, BL, BA, _, _, _, _ = fit(\n",
    "        model=model, \n",
    "        optimizer=optimizer, \n",
    "        scheduler_oclr=scheduler_oclr,\n",
    "        scheduler_rlrop=scheduler_rlrop,\n",
    "        epochs=cfg.epochs, \n",
    "        early_stopping_patience=cfg.early_stopping, \n",
    "        dataloaders=dataloaders, \n",
    "        device=cfg.device,\n",
    "        save_path=cfg.save_path,\n",
    "        fold=fold,\n",
    "        verbose=True\n",
    "    )\n",
    "\n",
    "\n",
    "    breaker()\n",
    "    show_loss_graphs(L)\n",
    "    breaker()\n",
    "    show_accuracy_graphs(A)\n",
    "    breaker()\n",
    "    if scheduler_oclr:\n",
    "        show_lr_graph(LR)\n",
    "        breaker()\n",
    "    \n",
    "    BLs.append(BL)\n",
    "    BAs.append(BA)\n",
    "    \n",
    "    fold += 1"
   ]
  },
  {
   "cell_type": "markdown",
   "id": "fa695246",
   "metadata": {
    "papermill": {
     "duration": 0.010236,
     "end_time": "2022-11-18T11:24:20.055823",
     "exception": false,
     "start_time": "2022-11-18T11:24:20.045587",
     "status": "completed"
    },
    "tags": []
   },
   "source": [
    "### **Best Model**"
   ]
  },
  {
   "cell_type": "code",
   "execution_count": 10,
   "id": "2ada5a7a",
   "metadata": {
    "execution": {
     "iopub.execute_input": "2022-11-18T11:24:20.078824Z",
     "iopub.status.busy": "2022-11-18T11:24:20.077939Z",
     "iopub.status.idle": "2022-11-18T11:24:20.087158Z",
     "shell.execute_reply": "2022-11-18T11:24:20.086257Z"
    },
    "papermill": {
     "duration": 0.02311,
     "end_time": "2022-11-18T11:24:20.089255",
     "exception": false,
     "start_time": "2022-11-18T11:24:20.066145",
     "status": "completed"
    },
    "tags": []
   },
   "outputs": [
    {
     "name": "stdout",
     "output_type": "stream",
     "text": [
      "\n",
      "**************************************************\n",
      "\n",
      "Best Loss Model Fold     : 4\n",
      "Best Accuracy Model Fold : 1\n",
      "\n",
      "**************************************************\n",
      "\n"
     ]
    }
   ],
   "source": [
    "BL = np.inf\n",
    "for i in range(len(BLs)):\n",
    "    if BLs[i][\"valid\"] < BL:\n",
    "        BL = BLs[i][\"valid\"]\n",
    "        best_loss_index = i\n",
    "\n",
    "        \n",
    "BA = 0.0\n",
    "for i in range(len(BAs)):\n",
    "    if BAs[i][\"valid\"] > BA:\n",
    "        BA = BAs[i][\"valid\"]\n",
    "        best_accs_index = i\n",
    "\n",
    "breaker()\n",
    "print(f\"Best Loss Model Fold     : {best_loss_index + 1}\")\n",
    "print(f\"Best Accuracy Model Fold : {best_accs_index + 1}\")\n",
    "breaker()"
   ]
  }
 ],
 "metadata": {
  "kernelspec": {
   "display_name": "Python 3",
   "language": "python",
   "name": "python3"
  },
  "language_info": {
   "codemirror_mode": {
    "name": "ipython",
    "version": 3
   },
   "file_extension": ".py",
   "mimetype": "text/x-python",
   "name": "python",
   "nbconvert_exporter": "python",
   "pygments_lexer": "ipython3",
   "version": "3.7.12"
  },
  "papermill": {
   "default_parameters": {},
   "duration": 21215.442402,
   "end_time": "2022-11-18T11:24:21.957808",
   "environment_variables": {},
   "exception": null,
   "input_path": "__notebook__.ipynb",
   "output_path": "__notebook__.ipynb",
   "parameters": {},
   "start_time": "2022-11-18T05:30:46.515406",
   "version": "2.3.4"
  }
 },
 "nbformat": 4,
 "nbformat_minor": 5
}
