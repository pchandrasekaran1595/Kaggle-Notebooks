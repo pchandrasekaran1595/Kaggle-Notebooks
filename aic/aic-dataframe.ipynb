{
 "cells": [
  {
   "cell_type": "code",
   "execution_count": 1,
   "id": "3a48ecda",
   "metadata": {
    "_cell_guid": "b1076dfc-b9ad-4769-8c92-a6c4dae69d19",
    "_uuid": "8f2839f25d086af736a60e9eeb907d3b93b6e0e5",
    "execution": {
     "iopub.execute_input": "2022-11-18T14:38:28.688532Z",
     "iopub.status.busy": "2022-11-18T14:38:28.688052Z",
     "iopub.status.idle": "2022-11-18T14:38:28.970944Z",
     "shell.execute_reply": "2022-11-18T14:38:28.969800Z"
    },
    "papermill": {
     "duration": 0.290409,
     "end_time": "2022-11-18T14:38:28.973733",
     "exception": false,
     "start_time": "2022-11-18T14:38:28.683324",
     "status": "completed"
    },
    "tags": []
   },
   "outputs": [],
   "source": [
    "import os\n",
    "import cv2\n",
    "import numpy as np\n",
    "import pandas as pd\n",
    "\n",
    "BASE_PATH: str = \"../input/animal-image-classification-dataset/Animal Classification\"\n",
    "\n",
    "LABELS: dict = {\n",
    "    0 : \"Cat\",\n",
    "    1 : \"Cow\",\n",
    "    2 : \"Dog\",\n",
    "    3 : \"Elephant\",\n",
    "    4 : \"Panda\"\n",
    "}"
   ]
  },
  {
   "cell_type": "code",
   "execution_count": 2,
   "id": "24a300ab",
   "metadata": {
    "execution": {
     "iopub.execute_input": "2022-11-18T14:38:28.979859Z",
     "iopub.status.busy": "2022-11-18T14:38:28.979481Z",
     "iopub.status.idle": "2022-11-18T14:38:28.996295Z",
     "shell.execute_reply": "2022-11-18T14:38:28.995222Z"
    },
    "papermill": {
     "duration": 0.02268,
     "end_time": "2022-11-18T14:38:28.998849",
     "exception": false,
     "start_time": "2022-11-18T14:38:28.976169",
     "status": "completed"
    },
    "tags": []
   },
   "outputs": [],
   "source": [
    "tr_df: pd.DataFrame = pd.DataFrame(data=None, columns=[\"filepaths\", \"labels\"])\n",
    "ts_df: pd.DataFrame = pd.DataFrame(data=None, columns=[\"filepaths\", \"labels\"])\n",
    "fu_df: pd.DataFrame = pd.DataFrame(data=None, columns=[\"filepaths\", \"labels\"])    "
   ]
  },
  {
   "cell_type": "code",
   "execution_count": 3,
   "id": "ef54183f",
   "metadata": {
    "execution": {
     "iopub.execute_input": "2022-11-18T14:38:29.004856Z",
     "iopub.status.busy": "2022-11-18T14:38:29.004461Z",
     "iopub.status.idle": "2022-11-18T14:38:30.281033Z",
     "shell.execute_reply": "2022-11-18T14:38:30.279436Z"
    },
    "papermill": {
     "duration": 1.282859,
     "end_time": "2022-11-18T14:38:30.283982",
     "exception": false,
     "start_time": "2022-11-18T14:38:29.001123",
     "status": "completed"
    },
    "tags": []
   },
   "outputs": [],
   "source": [
    "tr_filepaths: list = []\n",
    "tr_labels: list = []\n",
    "\n",
    "va_filepaths: list = []\n",
    "va_labels: list = []\n",
    "\n",
    "i: int = 0\n",
    "for folder in sorted(os.listdir(f\"{BASE_PATH}/Training Data\")):\n",
    "    for filename in os.listdir(f\"{BASE_PATH}/Training Data/{folder}\"):\n",
    "        tr_filepaths.append(os.path.join(f\"{BASE_PATH}/Training Data/{folder}\", filename))\n",
    "        tr_labels.append(i)\n",
    "    i += 1\n",
    "\n",
    "i: int = 0\n",
    "for folder in sorted(os.listdir(f\"{BASE_PATH}/Validation Data\")):\n",
    "    for filename in os.listdir(f\"{BASE_PATH}/Validation Data/{folder}\"):\n",
    "        va_filepaths.append(os.path.join(f\"{BASE_PATH}/Validation Data/{folder}\", filename))\n",
    "        va_labels.append(i)\n",
    "    i += 1\n",
    "\n",
    "tr_df.filepaths = tr_filepaths + va_filepaths\n",
    "tr_df.labels = tr_labels + va_labels\n",
    "tr_df.to_csv(\"train.csv\", index=False)"
   ]
  },
  {
   "cell_type": "code",
   "execution_count": 4,
   "id": "98a36401",
   "metadata": {
    "execution": {
     "iopub.execute_input": "2022-11-18T14:38:30.290913Z",
     "iopub.status.busy": "2022-11-18T14:38:30.290029Z",
     "iopub.status.idle": "2022-11-18T14:38:30.525450Z",
     "shell.execute_reply": "2022-11-18T14:38:30.524280Z"
    },
    "papermill": {
     "duration": 0.241616,
     "end_time": "2022-11-18T14:38:30.528262",
     "exception": false,
     "start_time": "2022-11-18T14:38:30.286646",
     "status": "completed"
    },
    "tags": []
   },
   "outputs": [],
   "source": [
    "filepaths: list = []\n",
    "labels: list = []\n",
    "   \n",
    "i: int = 0    \n",
    "for folder in sorted(os.listdir(f\"{BASE_PATH}/Testing Data\")):\n",
    "    for filename in os.listdir(f\"{BASE_PATH}/Testing Data/{folder}\"):\n",
    "        filepaths.append(os.path.join(f\"{BASE_PATH}/Testing Data/{folder}\", filename))\n",
    "        labels.append(i)\n",
    "    i += 1\n",
    "\n",
    "ts_df.filepaths = filepaths\n",
    "ts_df.labels = labels\n",
    "ts_df.to_csv(\"test.csv\", index=False)"
   ]
  },
  {
   "cell_type": "code",
   "execution_count": 5,
   "id": "10ccb4ba",
   "metadata": {
    "execution": {
     "iopub.execute_input": "2022-11-18T14:38:30.534958Z",
     "iopub.status.busy": "2022-11-18T14:38:30.534528Z",
     "iopub.status.idle": "2022-11-18T14:38:30.582866Z",
     "shell.execute_reply": "2022-11-18T14:38:30.581968Z"
    },
    "papermill": {
     "duration": 0.054634,
     "end_time": "2022-11-18T14:38:30.585473",
     "exception": false,
     "start_time": "2022-11-18T14:38:30.530839",
     "status": "completed"
    },
    "tags": []
   },
   "outputs": [],
   "source": [
    "fu_df.filepaths = tr_filepaths + va_filepaths + filepaths\n",
    "fu_df.labels = tr_labels + va_labels + labels\n",
    "fu_df.to_csv(\"full.csv\", index=False)"
   ]
  }
 ],
 "metadata": {
  "kernelspec": {
   "display_name": "Python 3",
   "language": "python",
   "name": "python3"
  },
  "language_info": {
   "codemirror_mode": {
    "name": "ipython",
    "version": 3
   },
   "file_extension": ".py",
   "mimetype": "text/x-python",
   "name": "python",
   "nbconvert_exporter": "python",
   "pygments_lexer": "ipython3",
   "version": "3.7.12"
  },
  "papermill": {
   "default_parameters": {},
   "duration": 11.13271,
   "end_time": "2022-11-18T14:38:31.308889",
   "environment_variables": {},
   "exception": null,
   "input_path": "__notebook__.ipynb",
   "output_path": "__notebook__.ipynb",
   "parameters": {},
   "start_time": "2022-11-18T14:38:20.176179",
   "version": "2.3.4"
  }
 },
 "nbformat": 4,
 "nbformat_minor": 5
}
