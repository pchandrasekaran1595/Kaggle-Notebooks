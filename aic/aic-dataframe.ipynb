{
 "cells": [
  {
   "cell_type": "code",
   "execution_count": 1,
   "id": "c7c11990",
   "metadata": {
    "_cell_guid": "b1076dfc-b9ad-4769-8c92-a6c4dae69d19",
    "_uuid": "8f2839f25d086af736a60e9eeb907d3b93b6e0e5",
    "execution": {
     "iopub.execute_input": "2022-11-17T11:24:07.527568Z",
     "iopub.status.busy": "2022-11-17T11:24:07.526508Z",
     "iopub.status.idle": "2022-11-17T11:24:07.806553Z",
     "shell.execute_reply": "2022-11-17T11:24:07.805226Z"
    },
    "papermill": {
     "duration": 0.289049,
     "end_time": "2022-11-17T11:24:07.809601",
     "exception": false,
     "start_time": "2022-11-17T11:24:07.520552",
     "status": "completed"
    },
    "tags": []
   },
   "outputs": [],
   "source": [
    "import os\n",
    "import cv2\n",
    "import numpy as np\n",
    "import pandas as pd\n",
    "\n",
    "BASE_PATH: str = \"../input/animal-image-classification-dataset/Animal Classification\"\n",
    "\n",
    "LABELS: dict = {\n",
    "    0 : \"Cat\",\n",
    "    1 : \"Cow\",\n",
    "    2 : \"Dog\",\n",
    "    3 : \"Elephant\",\n",
    "    4 : \"Panda\"\n",
    "}"
   ]
  },
  {
   "cell_type": "code",
   "execution_count": 2,
   "id": "3714a2e3",
   "metadata": {
    "execution": {
     "iopub.execute_input": "2022-11-17T11:24:07.816569Z",
     "iopub.status.busy": "2022-11-17T11:24:07.815649Z",
     "iopub.status.idle": "2022-11-17T11:24:07.832217Z",
     "shell.execute_reply": "2022-11-17T11:24:07.830922Z"
    },
    "papermill": {
     "duration": 0.02254,
     "end_time": "2022-11-17T11:24:07.834651",
     "exception": false,
     "start_time": "2022-11-17T11:24:07.812111",
     "status": "completed"
    },
    "tags": []
   },
   "outputs": [],
   "source": [
    "tr_df: pd.DataFrame = pd.DataFrame(data=None, columns=[\"filepaths\", \"labels\"])\n",
    "ts_df: pd.DataFrame = pd.DataFrame(data=None, columns=[\"filepaths\", \"labels\"])\n",
    "fu_df: pd.DataFrame = pd.DataFrame(data=None, columns=[\"filepaths\", \"labels\"])    "
   ]
  },
  {
   "cell_type": "code",
   "execution_count": 3,
   "id": "43a44b31",
   "metadata": {
    "execution": {
     "iopub.execute_input": "2022-11-17T11:24:07.841565Z",
     "iopub.status.busy": "2022-11-17T11:24:07.840369Z",
     "iopub.status.idle": "2022-11-17T11:24:08.680456Z",
     "shell.execute_reply": "2022-11-17T11:24:08.679351Z"
    },
    "papermill": {
     "duration": 0.846481,
     "end_time": "2022-11-17T11:24:08.683395",
     "exception": false,
     "start_time": "2022-11-17T11:24:07.836914",
     "status": "completed"
    },
    "tags": []
   },
   "outputs": [],
   "source": [
    "tr_filepaths: list = []\n",
    "tr_labels: list = []\n",
    "\n",
    "va_filepaths: list = []\n",
    "va_labels: list = []\n",
    "\n",
    "for folder in sorted(os.listdir(f\"{BASE_PATH}/Training Data\")):\n",
    "    i: int = 0\n",
    "    for filename in os.listdir(f\"{BASE_PATH}/Training Data/{folder}\"):\n",
    "        tr_filepaths.append(os.path.join(f\"{BASE_PATH}/Training Data/{folder}\", filename))\n",
    "        tr_labels.append(i)\n",
    "    i += 1\n",
    "    \n",
    "for folder in sorted(os.listdir(f\"{BASE_PATH}/Validation Data\")):\n",
    "    i: int = 0\n",
    "    for filename in os.listdir(f\"{BASE_PATH}/Validation Data/{folder}\"):\n",
    "        va_filepaths.append(os.path.join(f\"{BASE_PATH}/Validation Data/{folder}\", filename))\n",
    "        va_labels.append(i)\n",
    "    i += 1\n",
    "\n",
    "tr_df.filepaths = tr_filepaths + va_filepaths\n",
    "tr_df.labels = tr_labels + va_labels\n",
    "tr_df.to_csv(\"train.csv\", index=False)"
   ]
  },
  {
   "cell_type": "code",
   "execution_count": 4,
   "id": "b0d7b43b",
   "metadata": {
    "execution": {
     "iopub.execute_input": "2022-11-17T11:24:08.689552Z",
     "iopub.status.busy": "2022-11-17T11:24:08.689118Z",
     "iopub.status.idle": "2022-11-17T11:24:08.840787Z",
     "shell.execute_reply": "2022-11-17T11:24:08.839053Z"
    },
    "papermill": {
     "duration": 0.158172,
     "end_time": "2022-11-17T11:24:08.843890",
     "exception": false,
     "start_time": "2022-11-17T11:24:08.685718",
     "status": "completed"
    },
    "tags": []
   },
   "outputs": [],
   "source": [
    "filepaths: list = []\n",
    "labels: list = []\n",
    "\n",
    "for folder in sorted(os.listdir(f\"{BASE_PATH}/Testing Data\")):\n",
    "    i: int = 0\n",
    "    for filename in os.listdir(f\"{BASE_PATH}/Testing Data/{folder}\"):\n",
    "        filepaths.append(os.path.join(f\"{BASE_PATH}/Testing Data/{folder}\", filename))\n",
    "        labels.append(i)\n",
    "    i += 1\n",
    "\n",
    "ts_df.filepaths = filepaths\n",
    "ts_df.labels = labels\n",
    "ts_df.to_csv(\"test.csv\", index=False)"
   ]
  },
  {
   "cell_type": "code",
   "execution_count": 5,
   "id": "436350aa",
   "metadata": {
    "execution": {
     "iopub.execute_input": "2022-11-17T11:24:08.852285Z",
     "iopub.status.busy": "2022-11-17T11:24:08.851194Z",
     "iopub.status.idle": "2022-11-17T11:24:08.901596Z",
     "shell.execute_reply": "2022-11-17T11:24:08.900468Z"
    },
    "papermill": {
     "duration": 0.059076,
     "end_time": "2022-11-17T11:24:08.905432",
     "exception": false,
     "start_time": "2022-11-17T11:24:08.846356",
     "status": "completed"
    },
    "tags": []
   },
   "outputs": [],
   "source": [
    "fu_df.filepaths = tr_filepaths + va_filepaths + filepaths\n",
    "fu_df.labels = tr_labels + va_labels + labels\n",
    "fu_df.to_csv(\"full.csv\", index=False)"
   ]
  }
 ],
 "metadata": {
  "kernelspec": {
   "display_name": "Python 3",
   "language": "python",
   "name": "python3"
  },
  "language_info": {
   "codemirror_mode": {
    "name": "ipython",
    "version": 3
   },
   "file_extension": ".py",
   "mimetype": "text/x-python",
   "name": "python",
   "nbconvert_exporter": "python",
   "pygments_lexer": "ipython3",
   "version": "3.7.12"
  },
  "papermill": {
   "default_parameters": {},
   "duration": 14.160294,
   "end_time": "2022-11-17T11:24:12.349814",
   "environment_variables": {},
   "exception": null,
   "input_path": "__notebook__.ipynb",
   "output_path": "__notebook__.ipynb",
   "parameters": {},
   "start_time": "2022-11-17T11:23:58.189520",
   "version": "2.3.4"
  }
 },
 "nbformat": 4,
 "nbformat_minor": 5
}
