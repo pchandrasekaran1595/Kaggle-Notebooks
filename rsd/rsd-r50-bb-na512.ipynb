{
 "cells": [
  {
   "cell_type": "markdown",
   "id": "90f9524e",
   "metadata": {
    "_cell_guid": "b1076dfc-b9ad-4769-8c92-a6c4dae69d19",
    "_uuid": "8f2839f25d086af736a60e9eeb907d3b93b6e0e5",
    "execution": {
     "iopub.execute_input": "2022-07-05T05:44:36.741974Z",
     "iopub.status.busy": "2022-07-05T05:44:36.741401Z",
     "iopub.status.idle": "2022-07-05T05:44:37.693464Z",
     "shell.execute_reply": "2022-07-05T05:44:37.692489Z",
     "shell.execute_reply.started": "2022-07-05T05:44:36.741919Z"
    },
    "papermill": {
     "duration": 0.012404,
     "end_time": "2022-07-05T06:15:20.348240",
     "exception": false,
     "start_time": "2022-07-05T06:15:20.335836",
     "status": "completed"
    },
    "tags": []
   },
   "source": [
    "### **Library Imports**"
   ]
  },
  {
   "cell_type": "code",
   "execution_count": 1,
   "id": "1853f4ee",
   "metadata": {
    "execution": {
     "iopub.execute_input": "2022-07-05T06:15:20.373347Z",
     "iopub.status.busy": "2022-07-05T06:15:20.372446Z",
     "iopub.status.idle": "2022-07-05T06:15:23.846762Z",
     "shell.execute_reply": "2022-07-05T06:15:23.845418Z"
    },
    "papermill": {
     "duration": 3.49119,
     "end_time": "2022-07-05T06:15:23.849698",
     "exception": false,
     "start_time": "2022-07-05T06:15:20.358508",
     "status": "completed"
    },
    "tags": []
   },
   "outputs": [],
   "source": [
    "import os\n",
    "import re\n",
    "import cv2\n",
    "import torch\n",
    "import random as r\n",
    "import numpy as np\n",
    "import pandas as pd\n",
    "import matplotlib.pyplot as plt\n",
    "\n",
    "from time import time\n",
    "from torch import nn, optim\n",
    "from torch.utils.data import Dataset\n",
    "from torch.utils.data import DataLoader as DL\n",
    "from torchvision import models, transforms\n",
    "\n",
    "from sklearn.preprocessing import LabelEncoder\n",
    "from sklearn.model_selection import StratifiedKFold"
   ]
  },
  {
   "cell_type": "markdown",
   "id": "b515aeeb",
   "metadata": {
    "papermill": {
     "duration": 0.004815,
     "end_time": "2022-07-05T06:15:23.861037",
     "exception": false,
     "start_time": "2022-07-05T06:15:23.856222",
     "status": "completed"
    },
    "tags": []
   },
   "source": [
    "### **Helpers**"
   ]
  },
  {
   "cell_type": "code",
   "execution_count": 2,
   "id": "a5557f71",
   "metadata": {
    "execution": {
     "iopub.execute_input": "2022-07-05T06:15:23.873755Z",
     "iopub.status.busy": "2022-07-05T06:15:23.872549Z",
     "iopub.status.idle": "2022-07-05T06:15:23.887994Z",
     "shell.execute_reply": "2022-07-05T06:15:23.886728Z"
    },
    "papermill": {
     "duration": 0.024383,
     "end_time": "2022-07-05T06:15:23.890560",
     "exception": false,
     "start_time": "2022-07-05T06:15:23.866177",
     "status": "completed"
    },
    "tags": []
   },
   "outputs": [],
   "source": [
    "SEED = 42\n",
    "SIZE = 512\n",
    "le = LabelEncoder()\n",
    "\n",
    "def breaker(num: int=50, char: str=\"*\") -> None:\n",
    "    print(\"\\n\" + num*char + \"\\n\")\n",
    "\n",
    "\n",
    "def show_loss_graphs(L: list) -> None:\n",
    "    TL, VL = [], []\n",
    "    for i in range(len(L)):\n",
    "        TL.append(L[i][\"train\"])\n",
    "        VL.append(L[i][\"valid\"])\n",
    "    x_Axis = np.arange(1, len(TL) + 1)\n",
    "    plt.figure()\n",
    "    plt.plot(x_Axis, TL, \"r\", label=\"Train\")\n",
    "    plt.plot(x_Axis, VL, \"b\", label=\"Valid\")\n",
    "    plt.legend()\n",
    "    plt.grid()\n",
    "    plt.title(\"Loss Graph\")\n",
    "    plt.show()\n",
    "\n",
    "    \n",
    "def show_accuracy_graphs(A: list) -> None:\n",
    "    TA, VA = [], []\n",
    "    for i in range(len(A)):\n",
    "        TA.append(A[i][\"train\"])\n",
    "        VA.append(A[i][\"valid\"])\n",
    "    x_Axis = np.arange(1, len(TA) + 1)\n",
    "    plt.figure()\n",
    "    plt.plot(x_Axis, TA, \"r\", label=\"Train\")\n",
    "    plt.plot(x_Axis, VA, \"b\", label=\"Valid\")\n",
    "    plt.legend()\n",
    "    plt.grid()\n",
    "    plt.title(\"Accuracy Graph\")\n",
    "    plt.show()\n",
    "\n",
    "    \n",
    "def show_lr_graph(LR: list) -> None:\n",
    "    x_Axis = [i+1 for i in range(len(LR))]\n",
    "    plt.figure(figsize=(8, 6))\n",
    "    plt.plot(x_Axis, LR, \"rx\")\n",
    "    plt.grid()\n",
    "    plt.show()"
   ]
  },
  {
   "cell_type": "markdown",
   "id": "fea244ed",
   "metadata": {
    "papermill": {
     "duration": 0.004759,
     "end_time": "2022-07-05T06:15:23.900818",
     "exception": false,
     "start_time": "2022-07-05T06:15:23.896059",
     "status": "completed"
    },
    "tags": []
   },
   "source": [
    "### **Configuration**"
   ]
  },
  {
   "cell_type": "code",
   "execution_count": 3,
   "id": "ba828d3c",
   "metadata": {
    "execution": {
     "iopub.execute_input": "2022-07-05T06:15:23.912859Z",
     "iopub.status.busy": "2022-07-05T06:15:23.912490Z",
     "iopub.status.idle": "2022-07-05T06:15:23.991793Z",
     "shell.execute_reply": "2022-07-05T06:15:23.990579Z"
    },
    "papermill": {
     "duration": 0.088374,
     "end_time": "2022-07-05T06:15:23.994355",
     "exception": false,
     "start_time": "2022-07-05T06:15:23.905981",
     "status": "completed"
    },
    "tags": []
   },
   "outputs": [],
   "source": [
    "class CFG(object):\n",
    "    def __init__(self, \n",
    "                 seed: int = 42,\n",
    "                 in_channels: int = 3,\n",
    "                 size: int = 224,\n",
    "                 n_splits: int = 5,\n",
    "                 batch_size: int = 16,\n",
    "                 epochs: int = 25,\n",
    "                 early_stopping: int = 5,\n",
    "                 lr: float = 1e-4,\n",
    "                 wd: float = 0.0,\n",
    "                 max_lr: float = 1e-3,\n",
    "                 pct_start: float = 0.2,\n",
    "                 steps_per_epoch: int = 100,\n",
    "                 div_factor: int = 1e3, \n",
    "                 final_div_factor: float = 1e3,\n",
    "                 ):\n",
    "        self.seed = seed\n",
    "        self.in_channels = in_channels\n",
    "        self.size = size\n",
    "        self.n_splits = n_splits\n",
    "        self.batch_size = batch_size\n",
    "        self.epochs = epochs\n",
    "        self.early_stopping = early_stopping\n",
    "        self.lr = lr\n",
    "        self.wd = wd\n",
    "        self.max_lr = max_lr\n",
    "        self.pct_start = pct_start\n",
    "        self.steps_per_epoch = steps_per_epoch\n",
    "        self.div_factor = div_factor\n",
    "        self.final_div_factor = final_div_factor\n",
    "        self.device = torch.device(\"cuda\" if torch.cuda.is_available() else \"cpu\")\n",
    "        self.transform = transforms.Compose([transforms.ToTensor(),\n",
    "                                transforms.Normalize([0.46708, 0.53804, 0.56547],\n",
    "                                                     [0.22706, 0.24302, 0.26072]),\n",
    "                                ])\n",
    "        self.train_path = \"../input/rsd-analysis\"\n",
    "        self.save_path = \"saves\"\n",
    "        if not os.path.exists(self.save_path): os.makedirs(self.save_path)\n",
    "    \n",
    "cfg = CFG(seed=SEED, size=SIZE)"
   ]
  },
  {
   "cell_type": "markdown",
   "id": "f6bf4d36",
   "metadata": {
    "papermill": {
     "duration": 0.004968,
     "end_time": "2022-07-05T06:15:24.004283",
     "exception": false,
     "start_time": "2022-07-05T06:15:23.999315",
     "status": "completed"
    },
    "tags": []
   },
   "source": [
    "### **Dataset Template**"
   ]
  },
  {
   "cell_type": "code",
   "execution_count": 4,
   "id": "e68fea6f",
   "metadata": {
    "execution": {
     "iopub.execute_input": "2022-07-05T06:15:24.016023Z",
     "iopub.status.busy": "2022-07-05T06:15:24.015678Z",
     "iopub.status.idle": "2022-07-05T06:15:24.023060Z",
     "shell.execute_reply": "2022-07-05T06:15:24.021751Z"
    },
    "papermill": {
     "duration": 0.01612,
     "end_time": "2022-07-05T06:15:24.025584",
     "exception": false,
     "start_time": "2022-07-05T06:15:24.009464",
     "status": "completed"
    },
    "tags": []
   },
   "outputs": [],
   "source": [
    "class DS(Dataset):\n",
    "    def __init__(self, images: np.ndarray, labels: np.ndarray, bboxes: np.ndarray, transform=None):\n",
    "        self.transform = transform\n",
    "        self.images = images\n",
    "        self.labels = labels\n",
    "        self.bboxes = bboxes\n",
    "    \n",
    "    def __len__(self):\n",
    "        return self.images.shape[0]\n",
    "\n",
    "    def __getitem__(self, idx):\n",
    "        return self.transform(self.images[idx]), \\\n",
    "               torch.LongTensor(self.labels[idx]), \\\n",
    "               torch.FloatTensor(self.bboxes[idx])"
   ]
  },
  {
   "cell_type": "markdown",
   "id": "31e5c430",
   "metadata": {
    "papermill": {
     "duration": 0.004976,
     "end_time": "2022-07-05T06:15:24.035987",
     "exception": false,
     "start_time": "2022-07-05T06:15:24.031011",
     "status": "completed"
    },
    "tags": []
   },
   "source": [
    "### **Model**"
   ]
  },
  {
   "cell_type": "code",
   "execution_count": 5,
   "id": "3aeffa8a",
   "metadata": {
    "execution": {
     "iopub.execute_input": "2022-07-05T06:15:24.047753Z",
     "iopub.status.busy": "2022-07-05T06:15:24.046941Z",
     "iopub.status.idle": "2022-07-05T06:15:24.058063Z",
     "shell.execute_reply": "2022-07-05T06:15:24.056890Z"
    },
    "papermill": {
     "duration": 0.019863,
     "end_time": "2022-07-05T06:15:24.060811",
     "exception": false,
     "start_time": "2022-07-05T06:15:24.040948",
     "status": "completed"
    },
    "tags": []
   },
   "outputs": [],
   "source": [
    "class Model(nn.Module):\n",
    "    def __init__(self, in_channels: int = 3):\n",
    "        super(Model, self).__init__()\n",
    "\n",
    "        self.features = models.resnet50(pretrained=True, progress=True)\n",
    "        self.freeze()\n",
    "        self.features = nn.Sequential(*[*self.features.children()][:-1])\n",
    "        \n",
    "        self.classifier = nn.Linear(in_features=self.features[-2][-1].bn3.num_features, out_features=4)\n",
    "        self.regressor = nn.Linear(in_features=self.features[-2][-1].bn3.num_features, out_features=4)\n",
    "    \n",
    "    def freeze(self):\n",
    "        for params in self.parameters(): params.requires_grad = False\n",
    "    \n",
    "    def forward(self, x):\n",
    "        x = nn.Flatten()(self.features(x))\n",
    "        cls_op = nn.LogSoftmax(dim=1)(self.classifier(x))\n",
    "        reg_op = self.regressor(x)\n",
    "        \n",
    "        return cls_op, reg_op"
   ]
  },
  {
   "cell_type": "markdown",
   "id": "b883ed8f",
   "metadata": {
    "papermill": {
     "duration": 0.005106,
     "end_time": "2022-07-05T06:15:24.070927",
     "exception": false,
     "start_time": "2022-07-05T06:15:24.065821",
     "status": "completed"
    },
    "tags": []
   },
   "source": [
    "### **Fit**"
   ]
  },
  {
   "cell_type": "code",
   "execution_count": 6,
   "id": "d1a2b76e",
   "metadata": {
    "execution": {
     "iopub.execute_input": "2022-07-05T06:15:24.082707Z",
     "iopub.status.busy": "2022-07-05T06:15:24.082382Z",
     "iopub.status.idle": "2022-07-05T06:15:24.112423Z",
     "shell.execute_reply": "2022-07-05T06:15:24.111278Z"
    },
    "papermill": {
     "duration": 0.038913,
     "end_time": "2022-07-05T06:15:24.114999",
     "exception": false,
     "start_time": "2022-07-05T06:15:24.076086",
     "status": "completed"
    },
    "tags": []
   },
   "outputs": [],
   "source": [
    "def fit(model=None, \n",
    "        optimizer=None,\n",
    "        scheduler_rlrop=None,\n",
    "        scheduler_oclr=None, \n",
    "        epochs=None, \n",
    "        early_stopping_patience=None, \n",
    "        dataloaders=None, \n",
    "        fold=None, \n",
    "        device=None,\n",
    "        save_path=None,\n",
    "        verbose=False) -> tuple:\n",
    "    \n",
    "    def get_accuracy(y_pred, y_true):\n",
    "        y_pred = torch.argmax(y_pred, dim=1)\n",
    "        return torch.count_nonzero(y_pred == y_true).item() / len(y_pred)\n",
    "    \n",
    "    if verbose:\n",
    "        breaker()\n",
    "        if fold: print(f\"Training Fold {fold}...\")\n",
    "        else: print(\"Training ...\")\n",
    "        breaker()\n",
    "        \n",
    "    bestLoss = {\"train\" : np.inf, \"valid\" : np.inf}\n",
    "    bestAccs = {\"train\" : 0.0, \"valid\" : 0.0}\n",
    "    \n",
    "    Losses, Accuracies, LRs = [], [], []\n",
    "    \n",
    "    if fold: name = f\"state_fold_{fold}.pt\"\n",
    "    else: name = \"state.pt\"\n",
    "\n",
    "    start_time = time()\n",
    "    for e in range(epochs):\n",
    "        e_st = time()\n",
    "        epochLoss = {\"train\" : 0.0, \"valid\" : 0.0}\n",
    "        epochAccs = {\"train\" : 0.0, \"valid\" : 0.0}\n",
    "\n",
    "\n",
    "        for phase in [\"train\", \"valid\"]:\n",
    "            if phase == \"train\":\n",
    "                model.train()\n",
    "            else:\n",
    "                model.eval()\n",
    "    \n",
    "            lossPerPass = []\n",
    "            accsPerPass = []\n",
    "            \n",
    "            for images, labels, bboxes in dataloaders[phase]:\n",
    "                images, labels, bboxes = images.to(device), labels.view(-1).to(device), bboxes.to(device)\n",
    "\n",
    "                optimizer.zero_grad()\n",
    "                with torch.set_grad_enabled(phase == \"train\"):\n",
    "                    op_CLS, op_REG = model(images)\n",
    "                    \n",
    "                    # print(f\"\\nNLL - {torch.nn.NLLLoss()(op_CLS, labels)}\")\n",
    "                    # print(f\"MSE - {torch.nn.MSELoss()(op_REG, bboxes)}\\n\")\n",
    "\n",
    "                    loss = torch.nn.NLLLoss()(op_CLS, labels) + torch.nn.MSELoss()(op_REG, bboxes)\n",
    "                    if phase == \"train\":\n",
    "                        loss.backward()\n",
    "                        optimizer.step()\n",
    "                        if scheduler_oclr: scheduler_oclr.step()\n",
    "                lossPerPass.append(loss.item())\n",
    "                accsPerPass.append(get_accuracy(op_CLS, labels))\n",
    "            epochLoss[phase] = np.mean(np.array(lossPerPass))\n",
    "            epochAccs[phase] = np.mean(np.array(accsPerPass))\n",
    "        Losses.append(epochLoss)\n",
    "        Accuracies.append(epochAccs)\n",
    "        \n",
    "        if scheduler_oclr:\n",
    "            save_dict = {\"model_state_dict\"     : model.state_dict(),\n",
    "                         \"optim_state_dict\"     : optimizer.state_dict(),\n",
    "                         \"scheduler_state_dict\" : scheduler_oclr.state_dict()}\n",
    "        \n",
    "        elif scheduler_rlrop:\n",
    "            save_dict = {\"model_state_dict\"     : model.state_dict(),\n",
    "                         \"optim_state_dict\"     : optimizer.state_dict(),\n",
    "                         \"scheduler_state_dict\" : scheduler_rlrop.state_dict()}\n",
    "        \n",
    "        else:\n",
    "            save_dict = {\"model_state_dict\"     : model.state_dict(),\n",
    "                         \"optim_state_dict\"     : optimizer.state_dict()}\n",
    "            \n",
    "        if early_stopping_patience:\n",
    "            if epochLoss[\"valid\"] < bestLoss[\"valid\"]:\n",
    "                bestLoss = epochLoss\n",
    "                BLE = e + 1\n",
    "                torch.save(save_dict, os.path.join(save_path, name))\n",
    "                early_stopping_step = 0\n",
    "            else:\n",
    "                early_stopping_step += 1\n",
    "                if early_stopping_step > early_stopping_patience:\n",
    "                    print(\"\\nEarly Stopping at Epoch {}\".format(e + 1))\n",
    "                    break\n",
    "        \n",
    "        if epochLoss[\"valid\"] < bestLoss[\"valid\"]:\n",
    "            bestLoss = epochLoss\n",
    "            BLE = e + 1\n",
    "            torch.save(save_dict, os.path.join(save_path, name))\n",
    "        \n",
    "        if epochAccs[\"valid\"] > bestAccs[\"valid\"]:\n",
    "            bestAccs = epochAccs\n",
    "            BAE = e + 1\n",
    "            # torch.save(save_dict, os.path.join(save_path, name))\n",
    "        \n",
    "        if scheduler_rlrop: scheduler_rlrop.step(epochLoss[\"valid\"])\n",
    "        \n",
    "        if verbose:\n",
    "            print(\"Epoch: {} | Train Loss: {:.5f} | Valid Loss: {:.5f} |\\\n",
    " Train Accs: {:.5f} | Valid Accs: {:.5f} | Time: {:.2f} seconds\".format(e+1, \n",
    "                                                                        epochLoss[\"train\"], epochLoss[\"valid\"], \n",
    "                                                                        epochAccs[\"train\"], epochAccs[\"valid\"], \n",
    "                                                                        time()-e_st))\n",
    "\n",
    "    if verbose:                                           \n",
    "        breaker()\n",
    "        print(f\"Best Validation Loss at Epoch {BLE}\")\n",
    "        breaker()\n",
    "        print(f\"Best Validation Accs at Epoch {BAE}\")\n",
    "        breaker()\n",
    "        print(\"Time Taken [{} Epochs] : {:.2f} minutes\".format(len(Losses), (time()-start_time)/60))\n",
    "    \n",
    "    return Losses, Accuracies, LRs, BLE, BAE, name"
   ]
  },
  {
   "cell_type": "markdown",
   "id": "10bd0019",
   "metadata": {
    "papermill": {
     "duration": 0.005031,
     "end_time": "2022-07-05T06:15:24.125292",
     "exception": false,
     "start_time": "2022-07-05T06:15:24.120261",
     "status": "completed"
    },
    "tags": []
   },
   "source": [
    "### **Train**"
   ]
  },
  {
   "cell_type": "code",
   "execution_count": 7,
   "id": "5843aead",
   "metadata": {
    "execution": {
     "iopub.execute_input": "2022-07-05T06:15:24.138954Z",
     "iopub.status.busy": "2022-07-05T06:15:24.137025Z",
     "iopub.status.idle": "2022-07-05T06:15:29.740082Z",
     "shell.execute_reply": "2022-07-05T06:15:29.738876Z"
    },
    "papermill": {
     "duration": 5.61278,
     "end_time": "2022-07-05T06:15:29.743504",
     "exception": false,
     "start_time": "2022-07-05T06:15:24.130724",
     "status": "completed"
    },
    "tags": []
   },
   "outputs": [],
   "source": [
    "images = np.load(os.path.join(cfg.train_path, f\"images_{SIZE}.npy\"))\n",
    "\n",
    "df = pd.read_csv(os.path.join(cfg.train_path, \"data.csv\"))\n",
    "labels = df.labels.copy().values\n",
    "labels = le.fit_transform(labels)\n",
    "bboxes = np.concatenate((\n",
    "    df.x1.copy().values.reshape(-1, 1),\n",
    "    df.y1.copy().values.reshape(-1, 1),\n",
    "    df.x2.copy().values.reshape(-1, 1),\n",
    "    df.y2.copy().values.reshape(-1, 1),\n",
    "), axis=1)"
   ]
  },
  {
   "cell_type": "code",
   "execution_count": 8,
   "id": "b5b2a8e3",
   "metadata": {
    "execution": {
     "iopub.execute_input": "2022-07-05T06:15:29.756095Z",
     "iopub.status.busy": "2022-07-05T06:15:29.755525Z",
     "iopub.status.idle": "2022-07-05T06:20:01.988342Z",
     "shell.execute_reply": "2022-07-05T06:20:01.986768Z"
    },
    "papermill": {
     "duration": 272.243276,
     "end_time": "2022-07-05T06:20:01.992351",
     "exception": false,
     "start_time": "2022-07-05T06:15:29.749075",
     "status": "completed"
    },
    "tags": []
   },
   "outputs": [
    {
     "name": "stderr",
     "output_type": "stream",
     "text": [
      "Downloading: \"https://download.pytorch.org/models/resnet50-0676ba61.pth\" to /root/.cache/torch/hub/checkpoints/resnet50-0676ba61.pth\n"
     ]
    },
    {
     "data": {
      "application/vnd.jupyter.widget-view+json": {
       "model_id": "81a1f935a1ff44d1bcfe19a945788a99",
       "version_major": 2,
       "version_minor": 0
      },
      "text/plain": [
       "  0%|          | 0.00/97.8M [00:00<?, ?B/s]"
      ]
     },
     "metadata": {},
     "output_type": "display_data"
    },
    {
     "name": "stdout",
     "output_type": "stream",
     "text": [
      "\n",
      "**************************************************\n",
      "\n",
      "Training ...\n",
      "\n",
      "**************************************************\n",
      "\n",
      "Epoch: 1 | Train Loss: 1.06926 | Valid Loss: 0.82350 | Train Accs: 0.67373 | Valid Accs: 0.79545 | Time: 19.54 seconds\n",
      "Epoch: 2 | Train Loss: 0.84736 | Valid Loss: 0.66221 | Train Accs: 0.71460 | Valid Accs: 0.79545 | Time: 12.51 seconds\n",
      "Epoch: 3 | Train Loss: 0.74499 | Valid Loss: 0.65868 | Train Accs: 0.78059 | Valid Accs: 0.82955 | Time: 12.41 seconds\n",
      "Epoch: 4 | Train Loss: 0.70867 | Valid Loss: 0.54499 | Train Accs: 0.76224 | Valid Accs: 0.84659 | Time: 12.71 seconds\n",
      "Epoch: 5 | Train Loss: 0.63827 | Valid Loss: 0.52130 | Train Accs: 0.77852 | Valid Accs: 0.84091 | Time: 12.46 seconds\n",
      "Epoch: 6 | Train Loss: 0.57622 | Valid Loss: 0.51335 | Train Accs: 0.80441 | Valid Accs: 0.82955 | Time: 12.59 seconds\n",
      "Epoch: 7 | Train Loss: 0.56494 | Valid Loss: 0.60489 | Train Accs: 0.80791 | Valid Accs: 0.83523 | Time: 12.19 seconds\n",
      "Epoch: 8 | Train Loss: 0.58459 | Valid Loss: 0.50326 | Train Accs: 0.80125 | Valid Accs: 0.84091 | Time: 12.62 seconds\n",
      "Epoch: 9 | Train Loss: 0.54910 | Valid Loss: 0.50734 | Train Accs: 0.80365 | Valid Accs: 0.84091 | Time: 12.63 seconds\n",
      "Epoch: 10 | Train Loss: 0.54166 | Valid Loss: 0.44773 | Train Accs: 0.80616 | Valid Accs: 0.86364 | Time: 12.38 seconds\n",
      "Epoch: 11 | Train Loss: 0.46814 | Valid Loss: 0.45155 | Train Accs: 0.84058 | Valid Accs: 0.83523 | Time: 12.15 seconds\n",
      "Epoch: 12 | Train Loss: 0.44883 | Valid Loss: 0.50256 | Train Accs: 0.84670 | Valid Accs: 0.85795 | Time: 12.32 seconds\n",
      "Epoch: 13 | Train Loss: 0.48290 | Valid Loss: 0.49964 | Train Accs: 0.83851 | Valid Accs: 0.81818 | Time: 12.30 seconds\n",
      "Epoch: 14 | Train Loss: 0.46195 | Valid Loss: 0.51603 | Train Accs: 0.84801 | Valid Accs: 0.81250 | Time: 12.27 seconds\n",
      "Epoch: 15 | Train Loss: 0.44774 | Valid Loss: 0.41872 | Train Accs: 0.85238 | Valid Accs: 0.85227 | Time: 12.52 seconds\n",
      "Epoch: 16 | Train Loss: 0.46462 | Valid Loss: 0.44830 | Train Accs: 0.83774 | Valid Accs: 0.86364 | Time: 12.06 seconds\n",
      "Epoch: 17 | Train Loss: 0.40640 | Valid Loss: 0.45640 | Train Accs: 0.85369 | Valid Accs: 0.86364 | Time: 12.26 seconds\n",
      "Epoch: 18 | Train Loss: 0.38422 | Valid Loss: 0.42540 | Train Accs: 0.88177 | Valid Accs: 0.85795 | Time: 12.09 seconds\n",
      "Epoch: 19 | Train Loss: 0.39592 | Valid Loss: 0.42642 | Train Accs: 0.86833 | Valid Accs: 0.86932 | Time: 12.10 seconds\n",
      "Epoch: 20 | Train Loss: 0.39816 | Valid Loss: 0.42357 | Train Accs: 0.85981 | Valid Accs: 0.86932 | Time: 12.29 seconds\n",
      "\n",
      "Early Stopping at Epoch 21\n",
      "\n",
      "**************************************************\n",
      "\n",
      "Best Validation Loss at Epoch 15\n",
      "\n",
      "**************************************************\n",
      "\n",
      "Best Validation Accs at Epoch 19\n",
      "\n",
      "**************************************************\n",
      "\n",
      "Time Taken [21 Epochs] : 4.44 minutes\n",
      "\n",
      "**************************************************\n",
      "\n"
     ]
    },
    {
     "data": {
      "image/png": "[encoded data removed]",
      "text/plain": [
       "<Figure size 432x288 with 1 Axes>"
      ]
     },
     "metadata": {
      "needs_background": "light"
     },
     "output_type": "display_data"
    },
    {
     "name": "stdout",
     "output_type": "stream",
     "text": [
      "\n",
      "**************************************************\n",
      "\n"
     ]
    },
    {
     "data": {
      "image/png": "[encoded data removed]",
      "text/plain": [
       "<Figure size 432x288 with 1 Axes>"
      ]
     },
     "metadata": {
      "needs_background": "light"
     },
     "output_type": "display_data"
    },
    {
     "name": "stdout",
     "output_type": "stream",
     "text": [
      "\n",
      "**************************************************\n",
      "\n"
     ]
    }
   ],
   "source": [
    "for tr_idx, va_idx in StratifiedKFold(n_splits=cfg.n_splits, random_state=cfg.seed, shuffle=True).split(images, labels):\n",
    "    break\n",
    "\n",
    "tr_images, va_images, tr_labels, va_labels, tr_bboxes, va_bboxes = images[tr_idx], images[va_idx], labels[tr_idx], labels[va_idx], bboxes[tr_idx], bboxes[va_idx]\n",
    "\n",
    "tr_data_setup = DS(tr_images, tr_labels.reshape(-1, 1), tr_bboxes, cfg.transform)\n",
    "va_data_setup = DS(va_images, va_labels.reshape(-1, 1), va_bboxes, cfg.transform)\n",
    "\n",
    "dataloaders = {\n",
    "    \"train\" : DL(tr_data_setup, batch_size=cfg.batch_size, shuffle=True, generator=torch.manual_seed(cfg.seed)),\n",
    "    \"valid\" : DL(va_data_setup, batch_size=cfg.batch_size, shuffle=False),\n",
    "}\n",
    "\n",
    "cfg = CFG(\n",
    "    seed=SEED, \n",
    "    size=SIZE, \n",
    "    epochs=50, \n",
    "    batch_size=64, \n",
    "    early_stopping=5, \n",
    "    lr=1e-3, \n",
    "    wd=0.0, \n",
    "    steps_per_epoch=len(dataloaders[\"train\"])\n",
    ")\n",
    "\n",
    "torch.manual_seed(cfg.seed)\n",
    "model = Model().to(cfg.device)\n",
    "\n",
    "optimizer = optim.Adam([p for p in model.parameters() if p.requires_grad], lr=cfg.lr, weight_decay=cfg.wd)\n",
    "# optimizer = optim.AdamW([p for p in model.parameters() if p.requires_grad], lr=cfg.lr, weight_decay=cfg.wd)\n",
    "\n",
    "# scheduler_oclr = optim.lr_scheduler.OneCycleLR(optimizer=optimizer, \n",
    "#                                                max_lr=cfg.max_lr, \n",
    "#                                                epochs=cfg.epochs, \n",
    "#                                                steps_per_epoch=cfg.steps_per_epoch,\n",
    "#                                                pct_start=cfg.pct_start, \n",
    "#                                                div_factor=cfg.div_factor, \n",
    "#                                                final_div_factor=cfg.final_div_factor)\n",
    "# scheduler_rlrop = optim.lr_scheduler.ReduceLROnPlateau(optimizer=optimizer,\n",
    "#                                                        patience=cfg.patience,\n",
    "#                                                        eps=cfg.eps,\n",
    "#                                                        verbose=True)\n",
    "\n",
    "scheduler_oclr = None\n",
    "scheduler_rlrop = None\n",
    "\n",
    "L, A, LRs, BLE, BAE, name = fit(model=model, \n",
    "                                optimizer=optimizer, \n",
    "                                scheduler_oclr=scheduler_oclr, \n",
    "                                scheduler_rlrop=scheduler_rlrop, \n",
    "                                epochs=cfg.epochs, \n",
    "                                early_stopping_patience=cfg.early_stopping, \n",
    "                                dataloaders=dataloaders, \n",
    "                                device=cfg.device,\n",
    "                                save_path=cfg.save_path,\n",
    "                                verbose=True)\n",
    "\n",
    "breaker()\n",
    "show_loss_graphs(L)\n",
    "breaker()\n",
    "show_accuracy_graphs(L)\n",
    "breaker()\n",
    "\n",
    "if scheduler_oclr:\n",
    "    x_Axis = [i+1 for i in range(len(LRs))]\n",
    "    plt.figure(figsize=(8, 6))\n",
    "    plt.plot(x_Axis, LRs, \"rx\")\n",
    "    plt.grid()\n",
    "    plt.show()\n",
    "    breaker()"
   ]
  },
  {
   "cell_type": "markdown",
   "id": "3f91602c",
   "metadata": {
    "papermill": {
     "duration": 0.007519,
     "end_time": "2022-07-05T06:20:02.008499",
     "exception": false,
     "start_time": "2022-07-05T06:20:02.000980",
     "status": "completed"
    },
    "tags": []
   },
   "source": [
    "### **Predictions**"
   ]
  },
  {
   "cell_type": "code",
   "execution_count": 9,
   "id": "190ae8e6",
   "metadata": {
    "execution": {
     "iopub.execute_input": "2022-07-05T06:20:02.026488Z",
     "iopub.status.busy": "2022-07-05T06:20:02.025406Z",
     "iopub.status.idle": "2022-07-05T06:20:02.039715Z",
     "shell.execute_reply": "2022-07-05T06:20:02.038535Z"
    },
    "papermill": {
     "duration": 0.025961,
     "end_time": "2022-07-05T06:20:02.042334",
     "exception": false,
     "start_time": "2022-07-05T06:20:02.016373",
     "status": "completed"
    },
    "tags": []
   },
   "outputs": [],
   "source": [
    "def get_image(path: str) -> np.ndarray:\n",
    "    return cv2.cvtColor(src=cv2.imread(path), code=cv2.COLOR_BGR2RGB)\n",
    "\n",
    "\n",
    "def show_image(image: np.ndarray) -> None:\n",
    "    plt.figure()\n",
    "    plt.imshow(image)\n",
    "    plt.axis(\"off\")\n",
    "    plt.show()\n",
    "\n",
    "\n",
    "def draw_bboxes(image: np.ndarray, x1: int, y1: int, x2: int, y2: int) -> None:\n",
    "    cv2.rectangle(img=image, pt1=(x1, y1), pt2=(x2, y2), color=(0, 255, 0), thickness=2)\n",
    "\n",
    "\n",
    "def predict(model=None, device=None, image=None, size=None, path=None) -> np.ndarray:\n",
    "    model.load_state_dict(torch.load(path, map_location=device)[\"model_state_dict\"])\n",
    "    model.to(device)    \n",
    "    model.eval()\n",
    "    \n",
    "    h, w, _ = image.shape\n",
    "    temp_image = cv2.resize(src=image, dsize=(size, size), interpolation=cv2.INTER_AREA)\n",
    "\n",
    "    with torch.no_grad(): \n",
    "        op_CLS, op_REG = model(transforms.ToTensor()(temp_image).unsqueeze(dim=0).to(device))\n",
    "    \n",
    "    op_CLS = torch.argmax(torch.exp(op_CLS), dim=1).item()\n",
    "    op_REG = op_REG.detach().cpu().numpy().squeeze()\n",
    "    \n",
    "    return op_CLS, op_REG"
   ]
  },
  {
   "cell_type": "code",
   "execution_count": 10,
   "id": "d32a473e",
   "metadata": {
    "execution": {
     "iopub.execute_input": "2022-07-05T06:20:02.059149Z",
     "iopub.status.busy": "2022-07-05T06:20:02.058831Z",
     "iopub.status.idle": "2022-07-05T06:20:03.177856Z",
     "shell.execute_reply": "2022-07-05T06:20:03.176292Z"
    },
    "papermill": {
     "duration": 1.13301,
     "end_time": "2022-07-05T06:20:03.183112",
     "exception": false,
     "start_time": "2022-07-05T06:20:02.050102",
     "status": "completed"
    },
    "tags": []
   },
   "outputs": [
    {
     "name": "stdout",
     "output_type": "stream",
     "text": [
      "\n",
      "**************************************************\n",
      "\n"
     ]
    },
    {
     "data": {
      "image/png": "[encoded data removed]",
      "text/plain": [
       "<Figure size 432x288 with 1 Axes>"
      ]
     },
     "metadata": {
      "needs_background": "light"
     },
     "output_type": "display_data"
    },
    {
     "name": "stdout",
     "output_type": "stream",
     "text": [
      "\n",
      "**************************************************\n",
      "\n"
     ]
    },
    {
     "data": {
      "image/png": "[encoded data removed]",
      "text/plain": [
       "<Figure size 432x288 with 1 Axes>"
      ]
     },
     "metadata": {
      "needs_background": "light"
     },
     "output_type": "display_data"
    },
    {
     "name": "stdout",
     "output_type": "stream",
     "text": [
      "\n",
      "**************************************************\n",
      "\n",
      "Label : speedlimit\n",
      "\n",
      "**************************************************\n",
      "\n"
     ]
    },
    {
     "name": "stderr",
     "output_type": "stream",
     "text": [
      "/opt/conda/lib/python3.7/site-packages/sklearn/preprocessing/_label.py:154: DataConversionWarning: A column-vector y was passed when a 1d array was expected. Please change the shape of y to (n_samples, ), for example using ravel().\n",
      "  y = column_or_1d(y, warn=True)\n"
     ]
    }
   ],
   "source": [
    "index = r.randint(0, df.shape[0]-1)\n",
    "image = get_image(f\"../input/road-sign-detection/images/{df.filenames[index]}\")\n",
    "\n",
    "breaker()\n",
    "show_image(image)\n",
    "\n",
    "label, bboxes = predict(Model(), cfg.device, image, 512, \"./saves/state.pt\")\n",
    "\n",
    "h, w, _ = image.shape\n",
    "\n",
    "x1 = int(bboxes[0] * w)\n",
    "y1 = int(bboxes[1] * h)\n",
    "x2 = int(bboxes[2] * w)\n",
    "y2 = int(bboxes[3] * h)\n",
    "\n",
    "draw_bboxes(image, x1, y1, x2, y2)\n",
    "\n",
    "breaker()\n",
    "show_image(image)\n",
    "\n",
    "breaker()\n",
    "print(f\"Label : {le.inverse_transform(np.array(label).reshape(-1, 1))[0]}\")\n",
    "breaker()"
   ]
  }
 ],
 "metadata": {
  "kernelspec": {
   "display_name": "Python 3",
   "language": "python",
   "name": "python3"
  },
  "language_info": {
   "codemirror_mode": {
    "name": "ipython",
    "version": 3
   },
   "file_extension": ".py",
   "mimetype": "text/x-python",
   "name": "python",
   "nbconvert_exporter": "python",
   "pygments_lexer": "ipython3",
   "version": "3.7.12"
  },
  "papermill": {
   "default_parameters": {},
   "duration": 294.48806,
   "end_time": "2022-07-05T06:20:04.720453",
   "environment_variables": {},
   "exception": null,
   "input_path": "__notebook__.ipynb",
   "output_path": "__notebook__.ipynb",
   "parameters": {},
   "start_time": "2022-07-05T06:15:10.232393",
   "version": "2.3.4"
  },
  "widgets": {
   "application/vnd.jupyter.widget-state+json": {
    "state": {
     "1c1708c8359d4617a043488cfd25b2c5": {
      "model_module": "@jupyter-widgets/controls",
      "model_module_version": "1.5.0",
      "model_name": "HTMLModel",
      "state": {
       "_dom_classes": [],
       "_model_module": "@jupyter-widgets/controls",
       "_model_module_version": "1.5.0",
       "_model_name": "HTMLModel",
       "_view_count": null,
       "_view_module": "@jupyter-widgets/controls",
       "_view_module_version": "1.5.0",
       "_view_name": "HTMLView",
       "description": "",
       "description_tooltip": null,
       "layout": "IPY_MODEL_3ef864f12ab646858b548eab6c07e551",
       "placeholder": "​",
       "style": "IPY_MODEL_dac46121b96345279a8a14fcc788a263",
       "value": "100%"
      }
     },
     "23a99160aa0349c6b07a96df1b608a35": {
      "model_module": "@jupyter-widgets/controls",
      "model_module_version": "1.5.0",
      "model_name": "DescriptionStyleModel",
      "state": {
       "_model_module": "@jupyter-widgets/controls",
       "_model_module_version": "1.5.0",
       "_model_name": "DescriptionStyleModel",
       "_view_count": null,
       "_view_module": "@jupyter-widgets/base",
       "_view_module_version": "1.2.0",
       "_view_name": "StyleView",
       "description_width": ""
      }
     },
     "3ef864f12ab646858b548eab6c07e551": {
      "model_module": "@jupyter-widgets/base",
      "model_module_version": "1.2.0",
      "model_name": "LayoutModel",
      "state": {
       "_model_module": "@jupyter-widgets/base",
       "_model_module_version": "1.2.0",
       "_model_name": "LayoutModel",
       "_view_count": null,
       "_view_module": "@jupyter-widgets/base",
       "_view_module_version": "1.2.0",
       "_view_name": "LayoutView",
       "align_content": null,
       "align_items": null,
       "align_self": null,
       "border": null,
       "bottom": null,
       "display": null,
       "flex": null,
       "flex_flow": null,
       "grid_area": null,
       "grid_auto_columns": null,
       "grid_auto_flow": null,
       "grid_auto_rows": null,
       "grid_column": null,
       "grid_gap": null,
       "grid_row": null,
       "grid_template_areas": null,
       "grid_template_columns": null,
       "grid_template_rows": null,
       "height": null,
       "justify_content": null,
       "justify_items": null,
       "left": null,
       "margin": null,
       "max_height": null,
       "max_width": null,
       "min_height": null,
       "min_width": null,
       "object_fit": null,
       "object_position": null,
       "order": null,
       "overflow": null,
       "overflow_x": null,
       "overflow_y": null,
       "padding": null,
       "right": null,
       "top": null,
       "visibility": null,
       "width": null
      }
     },
     "6d8bcb59a8d14f67a1bfcce98137d536": {
      "model_module": "@jupyter-widgets/controls",
      "model_module_version": "1.5.0",
      "model_name": "FloatProgressModel",
      "state": {
       "_dom_classes": [],
       "_model_module": "@jupyter-widgets/controls",
       "_model_module_version": "1.5.0",
       "_model_name": "FloatProgressModel",
       "_view_count": null,
       "_view_module": "@jupyter-widgets/controls",
       "_view_module_version": "1.5.0",
       "_view_name": "ProgressView",
       "bar_style": "success",
       "description": "",
       "description_tooltip": null,
       "layout": "IPY_MODEL_9f89bfcb74f04b9e81119352118b3e00",
       "max": 102530333.0,
       "min": 0.0,
       "orientation": "horizontal",
       "style": "IPY_MODEL_961243b93c9045a392e7d6f640046fa5",
       "value": 102530333.0
      }
     },
     "7f50d2b22d4e488f80087894721195bc": {
      "model_module": "@jupyter-widgets/base",
      "model_module_version": "1.2.0",
      "model_name": "LayoutModel",
      "state": {
       "_model_module": "@jupyter-widgets/base",
       "_model_module_version": "1.2.0",
       "_model_name": "LayoutModel",
       "_view_count": null,
       "_view_module": "@jupyter-widgets/base",
       "_view_module_version": "1.2.0",
       "_view_name": "LayoutView",
       "align_content": null,
       "align_items": null,
       "align_self": null,
       "border": null,
       "bottom": null,
       "display": null,
       "flex": null,
       "flex_flow": null,
       "grid_area": null,
       "grid_auto_columns": null,
       "grid_auto_flow": null,
       "grid_auto_rows": null,
       "grid_column": null,
       "grid_gap": null,
       "grid_row": null,
       "grid_template_areas": null,
       "grid_template_columns": null,
       "grid_template_rows": null,
       "height": null,
       "justify_content": null,
       "justify_items": null,
       "left": null,
       "margin": null,
       "max_height": null,
       "max_width": null,
       "min_height": null,
       "min_width": null,
       "object_fit": null,
       "object_position": null,
       "order": null,
       "overflow": null,
       "overflow_x": null,
       "overflow_y": null,
       "padding": null,
       "right": null,
       "top": null,
       "visibility": null,
       "width": null
      }
     },
     "81a1f935a1ff44d1bcfe19a945788a99": {
      "model_module": "@jupyter-widgets/controls",
      "model_module_version": "1.5.0",
      "model_name": "HBoxModel",
      "state": {
       "_dom_classes": [],
       "_model_module": "@jupyter-widgets/controls",
       "_model_module_version": "1.5.0",
       "_model_name": "HBoxModel",
       "_view_count": null,
       "_view_module": "@jupyter-widgets/controls",
       "_view_module_version": "1.5.0",
       "_view_name": "HBoxView",
       "box_style": "",
       "children": [
        "IPY_MODEL_1c1708c8359d4617a043488cfd25b2c5",
        "IPY_MODEL_6d8bcb59a8d14f67a1bfcce98137d536",
        "IPY_MODEL_eb791d799cc6447eb4b633962bbfa19a"
       ],
       "layout": "IPY_MODEL_7f50d2b22d4e488f80087894721195bc"
      }
     },
     "961243b93c9045a392e7d6f640046fa5": {
      "model_module": "@jupyter-widgets/controls",
      "model_module_version": "1.5.0",
      "model_name": "ProgressStyleModel",
      "state": {
       "_model_module": "@jupyter-widgets/controls",
       "_model_module_version": "1.5.0",
       "_model_name": "ProgressStyleModel",
       "_view_count": null,
       "_view_module": "@jupyter-widgets/base",
       "_view_module_version": "1.2.0",
       "_view_name": "StyleView",
       "bar_color": null,
       "description_width": ""
      }
     },
     "9f89bfcb74f04b9e81119352118b3e00": {
      "model_module": "@jupyter-widgets/base",
      "model_module_version": "1.2.0",
      "model_name": "LayoutModel",
      "state": {
       "_model_module": "@jupyter-widgets/base",
       "_model_module_version": "1.2.0",
       "_model_name": "LayoutModel",
       "_view_count": null,
       "_view_module": "@jupyter-widgets/base",
       "_view_module_version": "1.2.0",
       "_view_name": "LayoutView",
       "align_content": null,
       "align_items": null,
       "align_self": null,
       "border": null,
       "bottom": null,
       "display": null,
       "flex": null,
       "flex_flow": null,
       "grid_area": null,
       "grid_auto_columns": null,
       "grid_auto_flow": null,
       "grid_auto_rows": null,
       "grid_column": null,
       "grid_gap": null,
       "grid_row": null,
       "grid_template_areas": null,
       "grid_template_columns": null,
       "grid_template_rows": null,
       "height": null,
       "justify_content": null,
       "justify_items": null,
       "left": null,
       "margin": null,
       "max_height": null,
       "max_width": null,
       "min_height": null,
       "min_width": null,
       "object_fit": null,
       "object_position": null,
       "order": null,
       "overflow": null,
       "overflow_x": null,
       "overflow_y": null,
       "padding": null,
       "right": null,
       "top": null,
       "visibility": null,
       "width": null
      }
     },
     "dac46121b96345279a8a14fcc788a263": {
      "model_module": "@jupyter-widgets/controls",
      "model_module_version": "1.5.0",
      "model_name": "DescriptionStyleModel",
      "state": {
       "_model_module": "@jupyter-widgets/controls",
       "_model_module_version": "1.5.0",
       "_model_name": "DescriptionStyleModel",
       "_view_count": null,
       "_view_module": "@jupyter-widgets/base",
       "_view_module_version": "1.2.0",
       "_view_name": "StyleView",
       "description_width": ""
      }
     },
     "e7c5fe8d26924b8fb1b8a17d55eca651": {
      "model_module": "@jupyter-widgets/base",
      "model_module_version": "1.2.0",
      "model_name": "LayoutModel",
      "state": {
       "_model_module": "@jupyter-widgets/base",
       "_model_module_version": "1.2.0",
       "_model_name": "LayoutModel",
       "_view_count": null,
       "_view_module": "@jupyter-widgets/base",
       "_view_module_version": "1.2.0",
       "_view_name": "LayoutView",
       "align_content": null,
       "align_items": null,
       "align_self": null,
       "border": null,
       "bottom": null,
       "display": null,
       "flex": null,
       "flex_flow": null,
       "grid_area": null,
       "grid_auto_columns": null,
       "grid_auto_flow": null,
       "grid_auto_rows": null,
       "grid_column": null,
       "grid_gap": null,
       "grid_row": null,
       "grid_template_areas": null,
       "grid_template_columns": null,
       "grid_template_rows": null,
       "height": null,
       "justify_content": null,
       "justify_items": null,
       "left": null,
       "margin": null,
       "max_height": null,
       "max_width": null,
       "min_height": null,
       "min_width": null,
       "object_fit": null,
       "object_position": null,
       "order": null,
       "overflow": null,
       "overflow_x": null,
       "overflow_y": null,
       "padding": null,
       "right": null,
       "top": null,
       "visibility": null,
       "width": null
      }
     },
     "eb791d799cc6447eb4b633962bbfa19a": {
      "model_module": "@jupyter-widgets/controls",
      "model_module_version": "1.5.0",
      "model_name": "HTMLModel",
      "state": {
       "_dom_classes": [],
       "_model_module": "@jupyter-widgets/controls",
       "_model_module_version": "1.5.0",
       "_model_name": "HTMLModel",
       "_view_count": null,
       "_view_module": "@jupyter-widgets/controls",
       "_view_module_version": "1.5.0",
       "_view_name": "HTMLView",
       "description": "",
       "description_tooltip": null,
       "layout": "IPY_MODEL_e7c5fe8d26924b8fb1b8a17d55eca651",
       "placeholder": "​",
       "style": "IPY_MODEL_23a99160aa0349c6b07a96df1b608a35",
       "value": " 97.8M/97.8M [00:00&lt;00:00, 124MB/s]"
      }
     }
    },
    "version_major": 2,
    "version_minor": 0
   }
  }
 },
 "nbformat": 4,
 "nbformat_minor": 5
}
