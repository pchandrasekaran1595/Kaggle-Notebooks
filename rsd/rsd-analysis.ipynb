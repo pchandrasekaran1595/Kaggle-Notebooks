{
 "cells": [
  {
   "cell_type": "markdown",
   "id": "7dd8744f",
   "metadata": {
    "_cell_guid": "b1076dfc-b9ad-4769-8c92-a6c4dae69d19",
    "_uuid": "8f2839f25d086af736a60e9eeb907d3b93b6e0e5",
    "execution": {
     "iopub.execute_input": "2022-07-05T04:46:26.146387Z",
     "iopub.status.busy": "2022-07-05T04:46:26.145506Z",
     "iopub.status.idle": "2022-07-05T04:46:26.397340Z",
     "shell.execute_reply": "2022-07-05T04:46:26.396053Z",
     "shell.execute_reply.started": "2022-07-05T04:46:26.146272Z"
    },
    "papermill": {
     "duration": 0.004175,
     "end_time": "2022-07-05T04:59:14.422504",
     "exception": false,
     "start_time": "2022-07-05T04:59:14.418329",
     "status": "completed"
    },
    "tags": []
   },
   "source": [
    "### **Library Imports**"
   ]
  },
  {
   "cell_type": "code",
   "execution_count": 1,
   "id": "7dc7f4aa",
   "metadata": {
    "execution": {
     "iopub.execute_input": "2022-07-05T04:59:14.431733Z",
     "iopub.status.busy": "2022-07-05T04:59:14.430473Z",
     "iopub.status.idle": "2022-07-05T04:59:14.644239Z",
     "shell.execute_reply": "2022-07-05T04:59:14.642927Z"
    },
    "papermill": {
     "duration": 0.22112,
     "end_time": "2022-07-05T04:59:14.646996",
     "exception": false,
     "start_time": "2022-07-05T04:59:14.425876",
     "status": "completed"
    },
    "tags": []
   },
   "outputs": [],
   "source": [
    "import os\n",
    "import cv2\n",
    "import numpy as np\n",
    "import pandas as pd\n",
    "import xml.etree.ElementTree as ET "
   ]
  },
  {
   "cell_type": "markdown",
   "id": "985d29bd",
   "metadata": {
    "papermill": {
     "duration": 0.003096,
     "end_time": "2022-07-05T04:59:14.653522",
     "exception": false,
     "start_time": "2022-07-05T04:59:14.650426",
     "status": "completed"
    },
    "tags": []
   },
   "source": [
    "### **Utilites and Helpers**"
   ]
  },
  {
   "cell_type": "code",
   "execution_count": 2,
   "id": "6c6a8b0c",
   "metadata": {
    "execution": {
     "iopub.execute_input": "2022-07-05T04:59:14.663073Z",
     "iopub.status.busy": "2022-07-05T04:59:14.662340Z",
     "iopub.status.idle": "2022-07-05T04:59:14.673503Z",
     "shell.execute_reply": "2022-07-05T04:59:14.672716Z"
    },
    "papermill": {
     "duration": 0.018593,
     "end_time": "2022-07-05T04:59:14.675740",
     "exception": false,
     "start_time": "2022-07-05T04:59:14.657147",
     "status": "completed"
    },
    "tags": []
   },
   "outputs": [],
   "source": [
    "def breaker() -> None:\n",
    "    print(\"\\n\" + 50*\"*\" + \"\\n\")\n",
    "\n",
    "\n",
    "def get_size(ele) -> tuple:\n",
    "    return int(ele[0].text), int(ele[1].text), int(ele[2].text)\n",
    "\n",
    "\n",
    "def get_bbox(ele, w: int, h: int) -> tuple:\n",
    "    return int(ele[0].text)/w, int(ele[1].text)/h, int(ele[2].text)/w, int(ele[3].text)/h\n",
    "\n",
    "def get_image(path: str, size: int=224) -> np.ndarray:\n",
    "    return cv2.resize(src=cv2.cvtColor(src=cv2.imread(path, cv2.IMREAD_COLOR), code=cv2.COLOR_BGR2RGB), dsize=(size, size), interpolation=cv2.INTER_AREA)\n",
    "\n",
    "\n",
    "def get_images(base_path: str, filenames: np.ndarray, size: int=224) -> np.ndarray:\n",
    "    images = np.zeros((len(filenames), size, size, 3), dtype=np.uint8)\n",
    "    \n",
    "    i = 0\n",
    "    for filename in filenames:\n",
    "        images[i] = get_image(os.path.join(base_path, filename), size=size)\n",
    "        i += 1\n",
    "    \n",
    "    return images\n",
    "\n",
    "def get_statistics(images: np.ndarray) -> tuple:\n",
    "    return (images[:, :, :, 0].mean()/255, images[:, :, :, 1].mean()/255, images[:, :, :, 2].mean()/255), (images[:, :, :, 0].std()/255, images[:, :, :, 1].std()/255, images[:, :, :, 2].std()/255)\n",
    "\n",
    "\n",
    "XML_PATH   = \"../input/road-sign-detection/annotations\"\n",
    "IMAGE_PATH = \"../input/road-sign-detection/images\""
   ]
  },
  {
   "cell_type": "markdown",
   "id": "e0507b97",
   "metadata": {
    "papermill": {
     "duration": 0.003127,
     "end_time": "2022-07-05T04:59:14.682291",
     "exception": false,
     "start_time": "2022-07-05T04:59:14.679164",
     "status": "completed"
    },
    "tags": []
   },
   "source": [
    "### **Process XML Files**"
   ]
  },
  {
   "cell_type": "code",
   "execution_count": 3,
   "id": "b6df389d",
   "metadata": {
    "execution": {
     "iopub.execute_input": "2022-07-05T04:59:14.691459Z",
     "iopub.status.busy": "2022-07-05T04:59:14.690713Z",
     "iopub.status.idle": "2022-07-05T04:59:17.495346Z",
     "shell.execute_reply": "2022-07-05T04:59:17.494183Z"
    },
    "papermill": {
     "duration": 2.81254,
     "end_time": "2022-07-05T04:59:17.498234",
     "exception": false,
     "start_time": "2022-07-05T04:59:14.685694",
     "status": "completed"
    },
    "tags": []
   },
   "outputs": [],
   "source": [
    "xml_filenames = sorted(os.listdir(XML_PATH))\n",
    "filenames = [filename[:-3]+\"png\" for filename in xml_filenames]\n",
    "\n",
    "labels, x1s, y1s, x2s, y2s = [], [], [], [], []\n",
    "\n",
    "for xml_file in xml_filenames:\n",
    "    tree = ET.parse(os.path.join(XML_PATH, xml_file))\n",
    "    root = tree.getroot()\n",
    "    w, h, c = get_size(root[2])\n",
    "    (x1, y1, x2, y2) = get_bbox(root[-1][-1], w, h)\n",
    "    labels.append(root[-1][0].text)\n",
    "    x1s.append(x1)\n",
    "    y1s.append(y1)\n",
    "    x2s.append(x2)\n",
    "    y2s.append(y2)"
   ]
  },
  {
   "cell_type": "markdown",
   "id": "7a4087a2",
   "metadata": {
    "papermill": {
     "duration": 0.003044,
     "end_time": "2022-07-05T04:59:17.505295",
     "exception": false,
     "start_time": "2022-07-05T04:59:17.502251",
     "status": "completed"
    },
    "tags": []
   },
   "source": [
    "### **Put data in Dataframe**"
   ]
  },
  {
   "cell_type": "code",
   "execution_count": 4,
   "id": "14bdfd36",
   "metadata": {
    "execution": {
     "iopub.execute_input": "2022-07-05T04:59:17.513310Z",
     "iopub.status.busy": "2022-07-05T04:59:17.512890Z",
     "iopub.status.idle": "2022-07-05T04:59:17.563200Z",
     "shell.execute_reply": "2022-07-05T04:59:17.561922Z"
    },
    "papermill": {
     "duration": 0.057309,
     "end_time": "2022-07-05T04:59:17.565838",
     "exception": false,
     "start_time": "2022-07-05T04:59:17.508529",
     "status": "completed"
    },
    "tags": []
   },
   "outputs": [
    {
     "data": {
      "text/html": [
       "<div>\n",
       "<style scoped>\n",
       "    .dataframe tbody tr th:only-of-type {\n",
       "        vertical-align: middle;\n",
       "    }\n",
       "\n",
       "    .dataframe tbody tr th {\n",
       "        vertical-align: top;\n",
       "    }\n",
       "\n",
       "    .dataframe thead th {\n",
       "        text-align: right;\n",
       "    }\n",
       "</style>\n",
       "<table border=\"1\" class=\"dataframe\">\n",
       "  <thead>\n",
       "    <tr style=\"text-align: right;\">\n",
       "      <th></th>\n",
       "      <th>filenames</th>\n",
       "      <th>labels</th>\n",
       "      <th>x1</th>\n",
       "      <th>y1</th>\n",
       "      <th>x2</th>\n",
       "      <th>y2</th>\n",
       "    </tr>\n",
       "  </thead>\n",
       "  <tbody>\n",
       "    <tr>\n",
       "      <th>0</th>\n",
       "      <td>road0.png</td>\n",
       "      <td>trafficlight</td>\n",
       "      <td>0.367041</td>\n",
       "      <td>0.155000</td>\n",
       "      <td>0.779026</td>\n",
       "      <td>0.580000</td>\n",
       "    </tr>\n",
       "    <tr>\n",
       "      <th>1</th>\n",
       "      <td>road1.png</td>\n",
       "      <td>trafficlight</td>\n",
       "      <td>0.385000</td>\n",
       "      <td>0.222615</td>\n",
       "      <td>0.645000</td>\n",
       "      <td>0.992933</td>\n",
       "    </tr>\n",
       "    <tr>\n",
       "      <th>2</th>\n",
       "      <td>road10.png</td>\n",
       "      <td>trafficlight</td>\n",
       "      <td>0.265000</td>\n",
       "      <td>0.011236</td>\n",
       "      <td>0.610000</td>\n",
       "      <td>0.985019</td>\n",
       "    </tr>\n",
       "    <tr>\n",
       "      <th>3</th>\n",
       "      <td>road100.png</td>\n",
       "      <td>speedlimit</td>\n",
       "      <td>0.087500</td>\n",
       "      <td>0.012987</td>\n",
       "      <td>0.907500</td>\n",
       "      <td>0.846753</td>\n",
       "    </tr>\n",
       "    <tr>\n",
       "      <th>4</th>\n",
       "      <td>road101.png</td>\n",
       "      <td>speedlimit</td>\n",
       "      <td>0.487500</td>\n",
       "      <td>0.035000</td>\n",
       "      <td>0.980000</td>\n",
       "      <td>0.970000</td>\n",
       "    </tr>\n",
       "  </tbody>\n",
       "</table>\n",
       "</div>"
      ],
      "text/plain": [
       "     filenames        labels        x1        y1        x2        y2\n",
       "0    road0.png  trafficlight  0.367041  0.155000  0.779026  0.580000\n",
       "1    road1.png  trafficlight  0.385000  0.222615  0.645000  0.992933\n",
       "2   road10.png  trafficlight  0.265000  0.011236  0.610000  0.985019\n",
       "3  road100.png    speedlimit  0.087500  0.012987  0.907500  0.846753\n",
       "4  road101.png    speedlimit  0.487500  0.035000  0.980000  0.970000"
      ]
     },
     "execution_count": 4,
     "metadata": {},
     "output_type": "execute_result"
    }
   ],
   "source": [
    "df = pd.DataFrame(data=None, columns=[\"filenames\", \"labels\", \"x1\", \"y1\", \"x2\", \"y2\"])\n",
    "\n",
    "df.filenames = filenames\n",
    "df.labels = labels\n",
    "df.x1 = x1s\n",
    "df.y1 = y1s\n",
    "df.x2 = x2s\n",
    "df.y2 = y2s\n",
    "\n",
    "df.to_csv(\"data.csv\", index=False)\n",
    "df.head(5)"
   ]
  },
  {
   "cell_type": "markdown",
   "id": "b2b1392d",
   "metadata": {
    "papermill": {
     "duration": 0.003396,
     "end_time": "2022-07-05T04:59:17.573171",
     "exception": false,
     "start_time": "2022-07-05T04:59:17.569775",
     "status": "completed"
    },
    "tags": []
   },
   "source": [
    "### **Get Images**"
   ]
  },
  {
   "cell_type": "code",
   "execution_count": 5,
   "id": "c5898f77",
   "metadata": {
    "execution": {
     "iopub.execute_input": "2022-07-05T04:59:17.581532Z",
     "iopub.status.busy": "2022-07-05T04:59:17.581168Z",
     "iopub.status.idle": "2022-07-05T05:00:17.856549Z",
     "shell.execute_reply": "2022-07-05T05:00:17.854575Z"
    },
    "papermill": {
     "duration": 60.285165,
     "end_time": "2022-07-05T05:00:17.861738",
     "exception": false,
     "start_time": "2022-07-05T04:59:17.576573",
     "status": "completed"
    },
    "tags": []
   },
   "outputs": [],
   "source": [
    "sizes = [224, 256, 384, 512]\n",
    "stats = dict()\n",
    "means = dict()\n",
    "stds  = dict()\n",
    "\n",
    "for size in sizes:\n",
    "    images = get_images(IMAGE_PATH, df.filenames, size)\n",
    "    mean, std = get_statistics(images)\n",
    "    means[f\"{size}\"] = mean\n",
    "    stds[f\"{size}\"]  = std\n",
    "    np.save(f\"images_{size}.npy\", images)\n",
    "\n",
    "stats[\"means\"] = means\n",
    "stats[\"stds\"] = stds"
   ]
  },
  {
   "cell_type": "markdown",
   "id": "aafe914d",
   "metadata": {
    "papermill": {
     "duration": 0.00335,
     "end_time": "2022-07-05T05:00:17.871268",
     "exception": false,
     "start_time": "2022-07-05T05:00:17.867918",
     "status": "completed"
    },
    "tags": []
   },
   "source": [
    "### **Show Statistics**"
   ]
  },
  {
   "cell_type": "markdown",
   "id": "10f73005",
   "metadata": {
    "papermill": {
     "duration": 0.00308,
     "end_time": "2022-07-05T05:00:17.877750",
     "exception": false,
     "start_time": "2022-07-05T05:00:17.874670",
     "status": "completed"
    },
    "tags": []
   },
   "source": [
    "**Mean**"
   ]
  },
  {
   "cell_type": "code",
   "execution_count": 6,
   "id": "4e1d73da",
   "metadata": {
    "execution": {
     "iopub.execute_input": "2022-07-05T05:00:17.886969Z",
     "iopub.status.busy": "2022-07-05T05:00:17.886542Z",
     "iopub.status.idle": "2022-07-05T05:00:17.895940Z",
     "shell.execute_reply": "2022-07-05T05:00:17.894469Z"
    },
    "papermill": {
     "duration": 0.018539,
     "end_time": "2022-07-05T05:00:17.899626",
     "exception": false,
     "start_time": "2022-07-05T05:00:17.881087",
     "status": "completed"
    },
    "tags": []
   },
   "outputs": [
    {
     "name": "stdout",
     "output_type": "stream",
     "text": [
      "\n",
      "**************************************************\n",
      "\n",
      "224 x 224 Means\n",
      "\n",
      "Red   : 0.46738\n",
      "Green : 0.53833\n",
      "Blue  : 0.56577\n",
      "\n",
      "**************************************************\n",
      "\n",
      "256 x 256 Means\n",
      "\n",
      "Red   : 0.46737\n",
      "Green : 0.53832\n",
      "Blue  : 0.56576\n",
      "\n",
      "**************************************************\n",
      "\n",
      "384 x 384 Means\n",
      "\n",
      "Red   : 0.46697\n",
      "Green : 0.53793\n",
      "Blue  : 0.56536\n",
      "\n",
      "**************************************************\n",
      "\n",
      "512 x 512 Means\n",
      "\n",
      "Red   : 0.46708\n",
      "Green : 0.53804\n",
      "Blue  : 0.56547\n",
      "\n",
      "**************************************************\n",
      "\n"
     ]
    }
   ],
   "source": [
    "breaker()\n",
    "for k, v in stats[\"means\"].items():\n",
    "    print(f\"{k} x {k} Means\\n\")\n",
    "    for i in range(len(v)):\n",
    "        if i == 0:\n",
    "            print(f\"Red   : {v[i]:.5f}\")\n",
    "        if i == 1:\n",
    "            print(f\"Green : {v[i]:.5f}\")\n",
    "        if i == 2:\n",
    "            print(f\"Blue  : {v[i]:.5f}\")\n",
    "    breaker()"
   ]
  },
  {
   "cell_type": "markdown",
   "id": "677ef26b",
   "metadata": {
    "papermill": {
     "duration": 0.003284,
     "end_time": "2022-07-05T05:00:17.906502",
     "exception": false,
     "start_time": "2022-07-05T05:00:17.903218",
     "status": "completed"
    },
    "tags": []
   },
   "source": [
    "**Standard Deviation**"
   ]
  },
  {
   "cell_type": "code",
   "execution_count": 7,
   "id": "cf8fbf09",
   "metadata": {
    "execution": {
     "iopub.execute_input": "2022-07-05T05:00:17.916698Z",
     "iopub.status.busy": "2022-07-05T05:00:17.915357Z",
     "iopub.status.idle": "2022-07-05T05:00:17.923816Z",
     "shell.execute_reply": "2022-07-05T05:00:17.922614Z"
    },
    "papermill": {
     "duration": 0.015584,
     "end_time": "2022-07-05T05:00:17.925937",
     "exception": false,
     "start_time": "2022-07-05T05:00:17.910353",
     "status": "completed"
    },
    "tags": []
   },
   "outputs": [
    {
     "name": "stdout",
     "output_type": "stream",
     "text": [
      "\n",
      "**************************************************\n",
      "\n",
      "224 x 224 Stds\n",
      "\n",
      "Red   : 0.22459\n",
      "Green : 0.24051\n",
      "Blue  : 0.25858\n",
      "\n",
      "**************************************************\n",
      "\n",
      "256 x 256 Stds\n",
      "\n",
      "Red   : 0.22514\n",
      "Green : 0.24107\n",
      "Blue  : 0.25905\n",
      "\n",
      "**************************************************\n",
      "\n",
      "384 x 384 Stds\n",
      "\n",
      "Red   : 0.22641\n",
      "Green : 0.24237\n",
      "Blue  : 0.26017\n",
      "\n",
      "**************************************************\n",
      "\n",
      "512 x 512 Stds\n",
      "\n",
      "Red   : 0.22706\n",
      "Green : 0.24302\n",
      "Blue  : 0.26072\n",
      "\n",
      "**************************************************\n",
      "\n"
     ]
    }
   ],
   "source": [
    "breaker()\n",
    "for k, v in stats[\"stds\"].items():\n",
    "    print(f\"{k} x {k} Stds\\n\")\n",
    "    for i in range(len(v)):\n",
    "        if i == 0:\n",
    "            print(f\"Red   : {v[i]:.5f}\")\n",
    "        if i == 1:\n",
    "            print(f\"Green : {v[i]:.5f}\")\n",
    "        if i == 2:\n",
    "            print(f\"Blue  : {v[i]:.5f}\")\n",
    "    breaker()"
   ]
  }
 ],
 "metadata": {
  "kernelspec": {
   "display_name": "Python 3",
   "language": "python",
   "name": "python3"
  },
  "language_info": {
   "codemirror_mode": {
    "name": "ipython",
    "version": 3
   },
   "file_extension": ".py",
   "mimetype": "text/x-python",
   "name": "python",
   "nbconvert_exporter": "python",
   "pygments_lexer": "ipython3",
   "version": "3.7.12"
  },
  "papermill": {
   "default_parameters": {},
   "duration": 73.439844,
   "end_time": "2022-07-05T05:00:18.756000",
   "environment_variables": {},
   "exception": null,
   "input_path": "__notebook__.ipynb",
   "output_path": "__notebook__.ipynb",
   "parameters": {},
   "start_time": "2022-07-05T04:59:05.316156",
   "version": "2.3.4"
  }
 },
 "nbformat": 4,
 "nbformat_minor": 5
}
