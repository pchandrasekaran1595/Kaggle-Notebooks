{
 "cells": [
  {
   "cell_type": "code",
   "execution_count": 1,
   "id": "5157b3ae",
   "metadata": {
    "_cell_guid": "b1076dfc-b9ad-4769-8c92-a6c4dae69d19",
    "_uuid": "8f2839f25d086af736a60e9eeb907d3b93b6e0e5",
    "execution": {
     "iopub.execute_input": "2023-01-30T11:13:06.610939Z",
     "iopub.status.busy": "2023-01-30T11:13:06.609469Z",
     "iopub.status.idle": "2023-01-30T11:13:06.852339Z",
     "shell.execute_reply": "2023-01-30T11:13:06.851077Z"
    },
    "papermill": {
     "duration": 0.252647,
     "end_time": "2023-01-30T11:13:06.855845",
     "exception": false,
     "start_time": "2023-01-30T11:13:06.603198",
     "status": "completed"
    },
    "tags": []
   },
   "outputs": [],
   "source": [
    "import os\n",
    "import cv2\n",
    "import json\n",
    "import numpy as np\n",
    "import pandas as pd\n",
    "\n",
    "BASE_PATH: str = \"/kaggle/input/normal-vs-military-vehicles/dataset\""
   ]
  },
  {
   "cell_type": "code",
   "execution_count": 2,
   "id": "0efbfac1",
   "metadata": {
    "execution": {
     "iopub.execute_input": "2023-01-30T11:13:06.862870Z",
     "iopub.status.busy": "2023-01-30T11:13:06.862410Z",
     "iopub.status.idle": "2023-01-30T11:13:06.881527Z",
     "shell.execute_reply": "2023-01-30T11:13:06.879873Z"
    },
    "papermill": {
     "duration": 0.025549,
     "end_time": "2023-01-30T11:13:06.884289",
     "exception": false,
     "start_time": "2023-01-30T11:13:06.858740",
     "status": "completed"
    },
    "tags": []
   },
   "outputs": [],
   "source": [
    "tr_df: pd.DataFrame = pd.DataFrame(data=None, columns=[\"filepaths\", \"labels\"])\n",
    "ts_df: pd.DataFrame = pd.DataFrame(data=None, columns=[\"filepaths\", \"labels\"])\n",
    "fu_df: pd.DataFrame = pd.DataFrame(data=None, columns=[\"filepaths\", \"labels\"])"
   ]
  },
  {
   "cell_type": "code",
   "execution_count": 3,
   "id": "b4b17d52",
   "metadata": {
    "execution": {
     "iopub.execute_input": "2023-01-30T11:13:06.891745Z",
     "iopub.status.busy": "2023-01-30T11:13:06.891307Z",
     "iopub.status.idle": "2023-01-30T11:13:07.766523Z",
     "shell.execute_reply": "2023-01-30T11:13:07.765190Z"
    },
    "papermill": {
     "duration": 0.882367,
     "end_time": "2023-01-30T11:13:07.769400",
     "exception": false,
     "start_time": "2023-01-30T11:13:06.887033",
     "status": "completed"
    },
    "tags": []
   },
   "outputs": [],
   "source": [
    "tr_filepaths: list = []\n",
    "tr_labels: list = []\n",
    "\n",
    "va_filepaths: list = []\n",
    "va_labels: list = []\n",
    "\n",
    "i: int = 0\n",
    "for folder in sorted(os.listdir(f\"{BASE_PATH}/train\")):\n",
    "    for filename in os.listdir(f\"{BASE_PATH}/train/{folder}\"):\n",
    "        tr_filepaths.append(os.path.join(f\"{BASE_PATH}/train/{folder}\", filename))\n",
    "        tr_labels.append(i)\n",
    "    i += 1\n",
    "    \n",
    "i: int = 0\n",
    "for folder in sorted(os.listdir(f\"{BASE_PATH}/validation\")):\n",
    "    for filename in os.listdir(f\"{BASE_PATH}/validation/{folder}\"):\n",
    "        va_filepaths.append(os.path.join(f\"{BASE_PATH}/validation/{folder}\", filename))\n",
    "        va_labels.append(i)\n",
    "    i += 1\n",
    "\n",
    "tr_df.filepaths = tr_filepaths + va_filepaths\n",
    "tr_df.labels = tr_labels + va_labels\n",
    "tr_df.to_csv(\"train.csv\", index=False)"
   ]
  },
  {
   "cell_type": "code",
   "execution_count": 4,
   "id": "abc65575",
   "metadata": {
    "execution": {
     "iopub.execute_input": "2023-01-30T11:13:07.776168Z",
     "iopub.status.busy": "2023-01-30T11:13:07.775718Z",
     "iopub.status.idle": "2023-01-30T11:13:08.099002Z",
     "shell.execute_reply": "2023-01-30T11:13:08.097953Z"
    },
    "papermill": {
     "duration": 0.329954,
     "end_time": "2023-01-30T11:13:08.101968",
     "exception": false,
     "start_time": "2023-01-30T11:13:07.772014",
     "status": "completed"
    },
    "tags": []
   },
   "outputs": [],
   "source": [
    "filepaths: list = []\n",
    "labels: list = []\n",
    "\n",
    "i: int = 0    \n",
    "for folder in sorted(os.listdir(f\"{BASE_PATH}/test\")):\n",
    "    for filename in os.listdir(f\"{BASE_PATH}/test/{folder}\"):\n",
    "        filepaths.append(os.path.join(f\"{BASE_PATH}/test/{folder}\", filename))\n",
    "        labels.append(i)\n",
    "    i += 1\n",
    "\n",
    "ts_df.filepaths = filepaths\n",
    "ts_df.labels = labels\n",
    "ts_df.to_csv(\"test.csv\", index=False)"
   ]
  },
  {
   "cell_type": "code",
   "execution_count": 5,
   "id": "51583578",
   "metadata": {
    "execution": {
     "iopub.execute_input": "2023-01-30T11:13:08.110011Z",
     "iopub.status.busy": "2023-01-30T11:13:08.108437Z",
     "iopub.status.idle": "2023-01-30T11:13:08.173791Z",
     "shell.execute_reply": "2023-01-30T11:13:08.172444Z"
    },
    "papermill": {
     "duration": 0.072293,
     "end_time": "2023-01-30T11:13:08.176811",
     "exception": false,
     "start_time": "2023-01-30T11:13:08.104518",
     "status": "completed"
    },
    "tags": []
   },
   "outputs": [],
   "source": [
    "fu_df.filepaths = tr_filepaths + va_filepaths + filepaths\n",
    "fu_df.labels = tr_labels + va_labels + labels\n",
    "fu_df.to_csv(\"full.csv\", index=False)"
   ]
  },
  {
   "cell_type": "code",
   "execution_count": 6,
   "id": "b49cb18e",
   "metadata": {
    "execution": {
     "iopub.execute_input": "2023-01-30T11:13:08.183917Z",
     "iopub.status.busy": "2023-01-30T11:13:08.183458Z",
     "iopub.status.idle": "2023-01-30T11:13:08.191153Z",
     "shell.execute_reply": "2023-01-30T11:13:08.190003Z"
    },
    "papermill": {
     "duration": 0.014131,
     "end_time": "2023-01-30T11:13:08.193571",
     "exception": false,
     "start_time": "2023-01-30T11:13:08.179440",
     "status": "completed"
    },
    "tags": []
   },
   "outputs": [],
   "source": [
    "labels: dict = dict()\n",
    "\n",
    "i = 0\n",
    "for folder in sorted(os.listdir(f\"{BASE_PATH}/test\")):\n",
    "    labels[i] = folder\n",
    "    i += 1\n",
    "\n",
    "json.dump(labels, open(\"labels.json\", \"w\"))"
   ]
  }
 ],
 "metadata": {
  "kernelspec": {
   "display_name": "Python 3",
   "language": "python",
   "name": "python3"
  },
  "language_info": {
   "codemirror_mode": {
    "name": "ipython",
    "version": 3
   },
   "file_extension": ".py",
   "mimetype": "text/x-python",
   "name": "python",
   "nbconvert_exporter": "python",
   "pygments_lexer": "ipython3",
   "version": "3.7.12"
  },
  "papermill": {
   "default_parameters": {},
   "duration": 11.448043,
   "end_time": "2023-01-30T11:13:09.019678",
   "environment_variables": {},
   "exception": null,
   "input_path": "__notebook__.ipynb",
   "output_path": "__notebook__.ipynb",
   "parameters": {},
   "start_time": "2023-01-30T11:12:57.571635",
   "version": "2.3.4"
  }
 },
 "nbformat": 4,
 "nbformat_minor": 5
}
