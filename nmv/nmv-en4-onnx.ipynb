{
 "cells": [
  {
   "cell_type": "code",
   "execution_count": 1,
   "id": "a5581034",
   "metadata": {
    "_cell_guid": "b1076dfc-b9ad-4769-8c92-a6c4dae69d19",
    "_uuid": "8f2839f25d086af736a60e9eeb907d3b93b6e0e5",
    "execution": {
     "iopub.execute_input": "2023-01-31T05:36:51.125097Z",
     "iopub.status.busy": "2023-01-31T05:36:51.124632Z",
     "iopub.status.idle": "2023-01-31T05:37:25.382146Z",
     "shell.execute_reply": "2023-01-31T05:37:25.380513Z"
    },
    "papermill": {
     "duration": 34.269824,
     "end_time": "2023-01-31T05:37:25.388735",
     "exception": false,
     "start_time": "2023-01-31T05:36:51.118911",
     "status": "completed"
    },
    "tags": []
   },
   "outputs": [
    {
     "name": "stderr",
     "output_type": "stream",
     "text": [
      "WARNING: Running pip as the 'root' user can result in broken permissions and conflicting behaviour with the system package manager. It is recommended to use a virtual environment instead: https://pip.pypa.io/warnings/venv\n",
      "WARNING: Running pip as the 'root' user can result in broken permissions and conflicting behaviour with the system package manager. It is recommended to use a virtual environment instead: https://pip.pypa.io/warnings/venv\n",
      "WARNING: Running pip as the 'root' user can result in broken permissions and conflicting behaviour with the system package manager. It is recommended to use a virtual environment instead: https://pip.pypa.io/warnings/venv\n"
     ]
    }
   ],
   "source": [
    "%%bash\n",
    "pip install timm -q\n",
    "pip install onnx -q\n",
    "pip install onnxruntime -q"
   ]
  },
  {
   "cell_type": "code",
   "execution_count": 2,
   "id": "6a6b953c",
   "metadata": {
    "execution": {
     "iopub.execute_input": "2023-01-31T05:37:25.397551Z",
     "iopub.status.busy": "2023-01-31T05:37:25.397092Z",
     "iopub.status.idle": "2023-01-31T05:37:29.294878Z",
     "shell.execute_reply": "2023-01-31T05:37:29.293694Z"
    },
    "papermill": {
     "duration": 3.905825,
     "end_time": "2023-01-31T05:37:29.297799",
     "exception": false,
     "start_time": "2023-01-31T05:37:25.391974",
     "status": "completed"
    },
    "tags": []
   },
   "outputs": [],
   "source": [
    "import os\n",
    "import sys\n",
    "import cv2\n",
    "import json\n",
    "import onnx\n",
    "import timm\n",
    "import torch\n",
    "import random as r\n",
    "import numpy as np\n",
    "import pandas as pd\n",
    "import onnxruntime as ort\n",
    "import matplotlib.pyplot as plt\n",
    "\n",
    "from typing import Union\n",
    "from torchvision import models\n",
    "from IPython.display import clear_output\n",
    "\n",
    "import warnings\n",
    "warnings.filterwarnings(\"ignore\")\n",
    "\n",
    "if not os.path.exists(\"onnx\"): os.makedirs(\"onnx\")\n",
    "    \n",
    "ort.set_default_logger_severity(3)"
   ]
  },
  {
   "cell_type": "code",
   "execution_count": 3,
   "id": "e8dd795a",
   "metadata": {
    "execution": {
     "iopub.execute_input": "2023-01-31T05:37:29.305999Z",
     "iopub.status.busy": "2023-01-31T05:37:29.305585Z",
     "iopub.status.idle": "2023-01-31T05:37:29.312960Z",
     "shell.execute_reply": "2023-01-31T05:37:29.311683Z"
    },
    "papermill": {
     "duration": 0.014498,
     "end_time": "2023-01-31T05:37:29.315342",
     "exception": false,
     "start_time": "2023-01-31T05:37:29.300844",
     "status": "completed"
    },
    "tags": []
   },
   "outputs": [],
   "source": [
    "labels: dict = {\n",
    "    \"0\" : \"Military\",\n",
    "    \"1\" : \"Other\",\n",
    "}\n",
    "\n",
    "def breaker() -> None:\n",
    "    print(\"\\n\" + 50*\"*\" + \"\\n\")\n",
    "\n",
    "    \n",
    "def sigmoid(x):\n",
    "    return 1 / (1 + np.exp(-x))\n",
    "\n",
    "\n",
    "def get_image(path: str, size: int=224) -> np.ndarray:\n",
    "    image = cv2.imread(path, cv2.IMREAD_COLOR)\n",
    "    image = cv2.cvtColor(src=image, code=cv2.COLOR_BGR2RGB)\n",
    "    return image"
   ]
  },
  {
   "cell_type": "code",
   "execution_count": 4,
   "id": "5496ecfb",
   "metadata": {
    "execution": {
     "iopub.execute_input": "2023-01-31T05:37:29.323157Z",
     "iopub.status.busy": "2023-01-31T05:37:29.322779Z",
     "iopub.status.idle": "2023-01-31T05:37:29.331674Z",
     "shell.execute_reply": "2023-01-31T05:37:29.330445Z"
    },
    "papermill": {
     "duration": 0.015654,
     "end_time": "2023-01-31T05:37:29.334113",
     "exception": false,
     "start_time": "2023-01-31T05:37:29.318459",
     "status": "completed"
    },
    "tags": []
   },
   "outputs": [],
   "source": [
    "class Model(torch.nn.Module):\n",
    "    def __init__(self):\n",
    "        super(Model, self).__init__()\n",
    "        \n",
    "        self.model = timm.create_model(model_name=\"efficientnet_b4\", pretrained=False)\n",
    "        self.model.classifier = torch.nn.Linear(in_features=self.model.classifier.in_features, out_features=1)\n",
    "\n",
    "    def forward(self, x):\n",
    "        return self.model(x)\n",
    "\n",
    "    \n",
    "    \n",
    "class CFG(object):  \n",
    "    def __init__(\n",
    "        self, \n",
    "        in_channels: int=3, \n",
    "        size: int=256, \n",
    "        opset_version: int=9, \n",
    "        path: str=None\n",
    "    ):\n",
    "        self.in_channels = in_channels\n",
    "        self.size = size\n",
    "        self.dummy = torch.randn(1, self.in_channels, self.size, self.size)\n",
    "        self.opset_version = opset_version\n",
    "        self.path = path"
   ]
  },
  {
   "cell_type": "code",
   "execution_count": 5,
   "id": "39dfe5c5",
   "metadata": {
    "execution": {
     "iopub.execute_input": "2023-01-31T05:37:29.341921Z",
     "iopub.status.busy": "2023-01-31T05:37:29.341525Z",
     "iopub.status.idle": "2023-01-31T05:38:24.598144Z",
     "shell.execute_reply": "2023-01-31T05:38:24.596737Z"
    },
    "papermill": {
     "duration": 55.26408,
     "end_time": "2023-01-31T05:38:24.601143",
     "exception": false,
     "start_time": "2023-01-31T05:37:29.337063",
     "status": "completed"
    },
    "tags": []
   },
   "outputs": [],
   "source": [
    "for v in [\"a\", \"l\"]:\n",
    "    cfg = CFG(\n",
    "        in_channels=3, \n",
    "        size=256, \n",
    "        opset_version=15, \n",
    "        path=f\"/kaggle/input/nmv-en4-a256-e10-f2/saves/b{v}e_state_fold_2.pt\"\n",
    "    )\n",
    "\n",
    "    model = Model()\n",
    "    model.load_state_dict(torch.load(cfg.path, map_location=torch.device(\"cpu\"))[\"model_state_dict\"])\n",
    "    model.eval()\n",
    "\n",
    "    clear_output()\n",
    "\n",
    "    # param_size: float = 0\n",
    "    # for param in model.parameters():\n",
    "    #     param_size += param.nelement() * param.element_size()\n",
    "\n",
    "    # buffer_size: float = 0\n",
    "    # for buffer in model.buffers():\n",
    "    #     buffer_size += buffer.nelement() * buffer.element_size()\n",
    "\n",
    "    # size_all_mb: float = (param_size + buffer_size) / 1024**2\n",
    "\n",
    "    # breaker()\n",
    "    # print(f\"Model size: {size_all_mb:.3f} MB\")\n",
    "    # breaker()\n",
    "\n",
    "    torch.onnx.export(\n",
    "        model=model, \n",
    "        args=cfg.dummy, \n",
    "        f=f\"onnx/b{v}e_model_f2.onnx\", \n",
    "        input_names=[\"input\"], \n",
    "        output_names=[\"output\"], \n",
    "        opset_version=cfg.opset_version,\n",
    "        export_params=True,\n",
    "        training=torch.onnx.TrainingMode.EVAL,\n",
    "        operator_export_type=torch.onnx.OperatorExportTypes.ONNX,\n",
    "        dynamic_axes={\n",
    "          \"input\"  : {0 : \"batch_size\"},\n",
    "          \"output\" : {0 : \"batch_size\"},\n",
    "        }\n",
    "    )"
   ]
  },
  {
   "cell_type": "code",
   "execution_count": 6,
   "id": "c368185d",
   "metadata": {
    "execution": {
     "iopub.execute_input": "2023-01-31T05:38:24.609151Z",
     "iopub.status.busy": "2023-01-31T05:38:24.608737Z",
     "iopub.status.idle": "2023-01-31T05:38:24.622529Z",
     "shell.execute_reply": "2023-01-31T05:38:24.620998Z"
    },
    "papermill": {
     "duration": 0.021098,
     "end_time": "2023-01-31T05:38:24.625618",
     "exception": false,
     "start_time": "2023-01-31T05:38:24.604520",
     "status": "completed"
    },
    "tags": []
   },
   "outputs": [],
   "source": [
    "class OnnxModel(object):\n",
    "    def __init__(self, path: str) -> None:\n",
    "        self.size: int = 256\n",
    "        \n",
    "        self.mean: list = [0.53955, 0.55886, 0.56512]\n",
    "        self.std: list  = [0.27001, 0.25873, 0.26042]\n",
    "        \n",
    "        self.path: str = path\n",
    "    \n",
    "        model = onnx.load(self.path)\n",
    "        onnx.checker.check_model(model)\n",
    "        self.ort_session = ort.InferenceSession(self.path)\n",
    "    \n",
    "    def infer(self, image: np.ndarray, labels: dict) -> str:\n",
    "        h, w, _ = image.shape\n",
    "\n",
    "        image = image / 255\n",
    "        image = cv2.resize(src=image, dsize=(self.size, self.size), interpolation=cv2.INTER_AREA).transpose(2, 0, 1)\n",
    "        for i in range(image.shape[0]): image[i, :, :] = (image[i, :, :] - self.mean[i]) / self.std[i]\n",
    "        image = np.expand_dims(image, axis=0)\n",
    "        inputs = {self.ort_session.get_inputs()[0].name : image.astype(\"float32\")}\n",
    "        prob = sigmoid(self.ort_session.run(None, inputs)[0][0])\n",
    "        if prob <= 0.5:\n",
    "            return \"Military\", 1-prob\n",
    "        else:\n",
    "            return \"Other\", prob"
   ]
  },
  {
   "cell_type": "code",
   "execution_count": 7,
   "id": "b90e8cba",
   "metadata": {
    "execution": {
     "iopub.execute_input": "2023-01-31T05:38:24.633610Z",
     "iopub.status.busy": "2023-01-31T05:38:24.633183Z",
     "iopub.status.idle": "2023-01-31T05:38:27.117309Z",
     "shell.execute_reply": "2023-01-31T05:38:27.115957Z"
    },
    "papermill": {
     "duration": 2.491582,
     "end_time": "2023-01-31T05:38:27.120348",
     "exception": false,
     "start_time": "2023-01-31T05:38:24.628766",
     "status": "completed"
    },
    "tags": []
   },
   "outputs": [
    {
     "name": "stdout",
     "output_type": "stream",
     "text": [
      "\n",
      "**************************************************\n",
      "\n",
      "BAE_MODEL_F2.ONNX\n",
      "\n",
      "Other, Other\n",
      "Other, Other\n",
      "Other, Other\n",
      "Military, Military\n",
      "Other, Other\n",
      "Military, Military\n",
      "Other, Other\n",
      "Other, Other\n",
      "Other, Other\n",
      "\n",
      "**************************************************\n",
      "\n",
      "BLE_MODEL_F2.ONNX\n",
      "\n",
      "Military, Military\n",
      "Military, Military\n",
      "Military, Military\n",
      "Other, Other\n",
      "Other, Other\n",
      "Other, Other\n",
      "Military, Military\n",
      "Other, Other\n",
      "Other, Other\n",
      "\n",
      "**************************************************\n",
      "\n"
     ]
    }
   ],
   "source": [
    "df = pd.read_csv(\"/kaggle/input/nmv-dataframe/test.csv\")\n",
    "\n",
    "\n",
    "breaker()\n",
    "for model_name in sorted(os.listdir(\"onnx\")):\n",
    "    \n",
    "    onnx_model = OnnxModel(f\"onnx/{model_name}\")\n",
    "    print(f\"{model_name.upper()}\\n\")\n",
    "    \n",
    "    for i in range(9):\n",
    "        index = r.randint(0, len(df)-1)\n",
    "\n",
    "        filepath = df.iloc[index, 0]\n",
    "        y_true   = df.iloc[index, 1]\n",
    "\n",
    "        image = get_image(filepath, cfg.size)\n",
    "\n",
    "        y_pred, _ = onnx_model.infer(image, labels)\n",
    "        \n",
    "        print(f\"{labels[str(y_true)].title()}, {y_pred}\")\n",
    "\n",
    "    breaker()"
   ]
  }
 ],
 "metadata": {
  "kernelspec": {
   "display_name": "Python 3",
   "language": "python",
   "name": "python3"
  },
  "language_info": {
   "codemirror_mode": {
    "name": "ipython",
    "version": 3
   },
   "file_extension": ".py",
   "mimetype": "text/x-python",
   "name": "python",
   "nbconvert_exporter": "python",
   "pygments_lexer": "ipython3",
   "version": "3.7.12"
  },
  "papermill": {
   "default_parameters": {},
   "duration": 106.25107,
   "end_time": "2023-01-31T05:38:28.351257",
   "environment_variables": {},
   "exception": null,
   "input_path": "__notebook__.ipynb",
   "output_path": "__notebook__.ipynb",
   "parameters": {},
   "start_time": "2023-01-31T05:36:42.100187",
   "version": "2.3.4"
  }
 },
 "nbformat": 4,
 "nbformat_minor": 5
}
