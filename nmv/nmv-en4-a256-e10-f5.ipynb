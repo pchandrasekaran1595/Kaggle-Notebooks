{
 "cells": [
  {
   "cell_type": "markdown",
   "id": "ce622b63",
   "metadata": {
    "_cell_guid": "b1076dfc-b9ad-4769-8c92-a6c4dae69d19",
    "_uuid": "8f2839f25d086af736a60e9eeb907d3b93b6e0e5",
    "papermill": {
     "duration": 0.005029,
     "end_time": "2023-01-30T18:58:01.864889",
     "exception": false,
     "start_time": "2023-01-30T18:58:01.859860",
     "status": "completed"
    },
    "tags": []
   },
   "source": [
    "### **Setup**"
   ]
  },
  {
   "cell_type": "code",
   "execution_count": 1,
   "id": "29e28358",
   "metadata": {
    "execution": {
     "iopub.execute_input": "2023-01-30T18:58:01.875230Z",
     "iopub.status.busy": "2023-01-30T18:58:01.874330Z",
     "iopub.status.idle": "2023-01-30T18:58:12.120830Z",
     "shell.execute_reply": "2023-01-30T18:58:12.119332Z"
    },
    "papermill": {
     "duration": 10.254471,
     "end_time": "2023-01-30T18:58:12.123393",
     "exception": false,
     "start_time": "2023-01-30T18:58:01.868922",
     "status": "completed"
    },
    "tags": []
   },
   "outputs": [
    {
     "name": "stderr",
     "output_type": "stream",
     "text": [
      "WARNING: Running pip as the 'root' user can result in broken permissions and conflicting behaviour with the system package manager. It is recommended to use a virtual environment instead: https://pip.pypa.io/warnings/venv\n"
     ]
    }
   ],
   "source": [
    "%%bash\n",
    "pip install timm -q"
   ]
  },
  {
   "cell_type": "markdown",
   "id": "db417ed3",
   "metadata": {
    "papermill": {
     "duration": 0.003884,
     "end_time": "2023-01-30T18:58:12.131654",
     "exception": false,
     "start_time": "2023-01-30T18:58:12.127770",
     "status": "completed"
    },
    "tags": []
   },
   "source": [
    "### **Library Imports**"
   ]
  },
  {
   "cell_type": "code",
   "execution_count": 2,
   "id": "96276459",
   "metadata": {
    "execution": {
     "iopub.execute_input": "2023-01-30T18:58:12.141251Z",
     "iopub.status.busy": "2023-01-30T18:58:12.140913Z",
     "iopub.status.idle": "2023-01-30T18:58:16.331240Z",
     "shell.execute_reply": "2023-01-30T18:58:16.329987Z"
    },
    "papermill": {
     "duration": 4.198656,
     "end_time": "2023-01-30T18:58:16.334120",
     "exception": false,
     "start_time": "2023-01-30T18:58:12.135464",
     "status": "completed"
    },
    "tags": []
   },
   "outputs": [],
   "source": [
    "import os\n",
    "import re\n",
    "import cv2\n",
    "import timm\n",
    "import torch\n",
    "import numpy as np\n",
    "import pandas as pd\n",
    "import matplotlib.pyplot as plt\n",
    "\n",
    "from time import time\n",
    "from typing import Union\n",
    "from torch import nn, optim\n",
    "from torch.utils.data import Dataset\n",
    "from torch.utils.data import DataLoader as DL\n",
    "from torchvision import models, transforms\n",
    "\n",
    "from sklearn.model_selection import KFold"
   ]
  },
  {
   "cell_type": "markdown",
   "id": "7dc18233",
   "metadata": {
    "papermill": {
     "duration": 0.004118,
     "end_time": "2023-01-30T18:58:16.342928",
     "exception": false,
     "start_time": "2023-01-30T18:58:16.338810",
     "status": "completed"
    },
    "tags": []
   },
   "source": [
    "### **Utilities and Helpers**"
   ]
  },
  {
   "cell_type": "code",
   "execution_count": 3,
   "id": "c756ad3f",
   "metadata": {
    "execution": {
     "iopub.execute_input": "2023-01-30T18:58:16.352525Z",
     "iopub.status.busy": "2023-01-30T18:58:16.352222Z",
     "iopub.status.idle": "2023-01-30T18:58:16.366404Z",
     "shell.execute_reply": "2023-01-30T18:58:16.365490Z"
    },
    "papermill": {
     "duration": 0.021802,
     "end_time": "2023-01-30T18:58:16.368621",
     "exception": false,
     "start_time": "2023-01-30T18:58:16.346819",
     "status": "completed"
    },
    "tags": []
   },
   "outputs": [],
   "source": [
    "SEED: int = 42\n",
    "SIZE: int = 384\n",
    "\n",
    "\n",
    "def breaker(num: int=50, char: str=\"*\") -> None:\n",
    "    print(\"\\n\" + num*char + \"\\n\")\n",
    "\n",
    "    \n",
    "def get_image(path: str, size: int=224) -> np.ndarray:\n",
    "    image = cv2.imread(path, cv2.IMREAD_COLOR)\n",
    "    image = cv2.cvtColor(src=image, code=cv2.COLOR_BGR2RGB)\n",
    "    return image\n",
    "\n",
    "    \n",
    "def show_loss_graphs(L: list) -> None:\n",
    "    TL, VL = [], []\n",
    "    for i in range(len(L)):\n",
    "        TL.append(L[i][\"train\"])\n",
    "        VL.append(L[i][\"valid\"])\n",
    "    x_Axis = np.arange(1, len(TL) + 1)\n",
    "    plt.figure()\n",
    "    plt.plot(x_Axis, TL, \"r\", label=\"Train\")\n",
    "    plt.plot(x_Axis, VL, \"b\", label=\"Valid\")\n",
    "    plt.legend()\n",
    "    plt.grid()\n",
    "    plt.title(\"Loss Graph\")\n",
    "    plt.show()\n",
    "\n",
    "    \n",
    "def show_accuracy_graphs(A: list) -> None:\n",
    "    TA, VA = [], []\n",
    "    for i in range(len(A)):\n",
    "        TA.append(A[i][\"train\"])\n",
    "        VA.append(A[i][\"valid\"])\n",
    "    x_Axis = np.arange(1, len(TA) + 1)\n",
    "    plt.figure()\n",
    "    plt.plot(x_Axis, TA, \"r\", label=\"Train\")\n",
    "    plt.plot(x_Axis, VA, \"b\", label=\"Valid\")\n",
    "    plt.legend()\n",
    "    plt.grid()\n",
    "    plt.title(\"Accuracy Graph\")\n",
    "    plt.show()\n",
    "    \n",
    "\n",
    "def show_lr_graph(LR: list) -> None:\n",
    "    x_Axis = [i+1 for i in range(len(LR))]\n",
    "    plt.figure(figsize=(8, 6))\n",
    "    plt.plot(x_Axis, LR, \"rx\")\n",
    "    plt.grid()\n",
    "    plt.show()"
   ]
  },
  {
   "cell_type": "markdown",
   "id": "22bc3b7c",
   "metadata": {
    "papermill": {
     "duration": 0.003626,
     "end_time": "2023-01-30T18:58:16.375911",
     "exception": false,
     "start_time": "2023-01-30T18:58:16.372285",
     "status": "completed"
    },
    "tags": []
   },
   "source": [
    "\n",
    "\n",
    "### **Configuration**"
   ]
  },
  {
   "cell_type": "code",
   "execution_count": 4,
   "id": "b78f2ee6",
   "metadata": {
    "execution": {
     "iopub.execute_input": "2023-01-30T18:58:16.385196Z",
     "iopub.status.busy": "2023-01-30T18:58:16.384485Z",
     "iopub.status.idle": "2023-01-30T18:58:16.463149Z",
     "shell.execute_reply": "2023-01-30T18:58:16.462122Z"
    },
    "papermill": {
     "duration": 0.085717,
     "end_time": "2023-01-30T18:58:16.465423",
     "exception": false,
     "start_time": "2023-01-30T18:58:16.379706",
     "status": "completed"
    },
    "tags": []
   },
   "outputs": [],
   "source": [
    "class CFG(object):\n",
    "    def __init__(self, \n",
    "                 seed: int = 42,\n",
    "                 n_splits: int = 5,\n",
    "                 batch_size: int = 16,\n",
    "                 epochs: int = 25,\n",
    "                 early_stopping: int = 5,\n",
    "                 lr: float = 1e-4,\n",
    "                 wd: float = 0.0,\n",
    "                 max_lr: float = 1e-3,\n",
    "                 pct_start: float = 0.2,\n",
    "                 steps_per_epoch: int = 100,\n",
    "                 div_factor: int = 1e3, \n",
    "                 final_div_factor: float = 1e3,\n",
    "                 ):\n",
    "        self.seed = seed\n",
    "        self.n_splits = n_splits\n",
    "        self.batch_size = batch_size\n",
    "        self.epochs = epochs\n",
    "        self.early_stopping = early_stopping\n",
    "        self.lr = lr\n",
    "        self.wd = wd\n",
    "        self.max_lr = max_lr\n",
    "        self.pct_start = pct_start\n",
    "        self.steps_per_epoch = steps_per_epoch\n",
    "        self.div_factor = div_factor\n",
    "        self.final_div_factor = final_div_factor\n",
    "        self.device = torch.device(\"cuda\" if torch.cuda.is_available() else \"cpu\")\n",
    "        \n",
    "        self.train_transform = transforms.Compose([\n",
    "            transforms.ToTensor(),\n",
    "            transforms.Normalize([0.53955, 0.55886, 0.56512], [0.27001, 0.25873, 0.26042]),\n",
    "            transforms.RandomAffine(degrees=(-45, 45), translate=(0.15, 0.15), scale=(0.5, 1.5)),\n",
    "            transforms.RandomHorizontalFlip(p=0.25),\n",
    "            transforms.RandomVerticalFlip(p=0.25),\n",
    "        ])\n",
    "        self.valid_transform = transforms.Compose([\n",
    "            transforms.ToTensor(),\n",
    "            transforms.Normalize([0.53955, 0.55886, 0.56512], [0.27001, 0.25873, 0.26042]),\n",
    "        ])\n",
    "              \n",
    "        self.save_path = \"saves\"\n",
    "        if not os.path.exists(self.save_path): os.makedirs(self.save_path)\n",
    "    \n",
    "cfg = CFG(seed=SEED)"
   ]
  },
  {
   "cell_type": "markdown",
   "id": "024cacaf",
   "metadata": {
    "papermill": {
     "duration": 0.004078,
     "end_time": "2023-01-30T18:58:16.473971",
     "exception": false,
     "start_time": "2023-01-30T18:58:16.469893",
     "status": "completed"
    },
    "tags": []
   },
   "source": [
    "### **Dataset Template**"
   ]
  },
  {
   "cell_type": "code",
   "execution_count": 5,
   "id": "e1e51771",
   "metadata": {
    "execution": {
     "iopub.execute_input": "2023-01-30T18:58:16.484173Z",
     "iopub.status.busy": "2023-01-30T18:58:16.483265Z",
     "iopub.status.idle": "2023-01-30T18:58:16.491258Z",
     "shell.execute_reply": "2023-01-30T18:58:16.490213Z"
    },
    "papermill": {
     "duration": 0.015427,
     "end_time": "2023-01-30T18:58:16.493517",
     "exception": false,
     "start_time": "2023-01-30T18:58:16.478090",
     "status": "completed"
    },
    "tags": []
   },
   "outputs": [],
   "source": [
    "class DS(Dataset):\n",
    "    def __init__(\n",
    "        self, \n",
    "        filepaths: np.ndarray, \n",
    "        labels: Union[np.ndarray, None]=None, \n",
    "        transform=None\n",
    "    ):\n",
    "        \n",
    "        self.filepaths = filepaths\n",
    "        self.labels = labels\n",
    "        self.transform = transform\n",
    "    \n",
    "    def __len__(self):\n",
    "        return self.filepaths.shape[0]\n",
    "    \n",
    "    def __getitem__(self, idx):\n",
    "        image = get_image(self.filepaths[idx])\n",
    "        if self.labels is None:\n",
    "            return self.transform(image)\n",
    "        return self.transform(image), torch.FloatTensor(self.labels[idx])"
   ]
  },
  {
   "cell_type": "markdown",
   "id": "b0b92996",
   "metadata": {
    "papermill": {
     "duration": 0.003885,
     "end_time": "2023-01-30T18:58:16.501511",
     "exception": false,
     "start_time": "2023-01-30T18:58:16.497626",
     "status": "completed"
    },
    "tags": []
   },
   "source": [
    "### **Model**"
   ]
  },
  {
   "cell_type": "code",
   "execution_count": 6,
   "id": "83714c6d",
   "metadata": {
    "execution": {
     "iopub.execute_input": "2023-01-30T18:58:16.510818Z",
     "iopub.status.busy": "2023-01-30T18:58:16.510492Z",
     "iopub.status.idle": "2023-01-30T18:58:16.516533Z",
     "shell.execute_reply": "2023-01-30T18:58:16.515547Z"
    },
    "papermill": {
     "duration": 0.013098,
     "end_time": "2023-01-30T18:58:16.518712",
     "exception": false,
     "start_time": "2023-01-30T18:58:16.505614",
     "status": "completed"
    },
    "tags": []
   },
   "outputs": [],
   "source": [
    "class Model(nn.Module):\n",
    "    def __init__(self):\n",
    "        super(Model, self).__init__()\n",
    "            \n",
    "        self.model = timm.create_model(model_name=\"efficientnet_b4\", pretrained=True)\n",
    "        self.model.classifier = nn.Linear(in_features=self.model.classifier.in_features, out_features=1)\n",
    "\n",
    "    def forward(self, x):\n",
    "        return self.model(x)"
   ]
  },
  {
   "cell_type": "markdown",
   "id": "26b83697",
   "metadata": {
    "papermill": {
     "duration": 0.003946,
     "end_time": "2023-01-30T18:58:16.526745",
     "exception": false,
     "start_time": "2023-01-30T18:58:16.522799",
     "status": "completed"
    },
    "tags": []
   },
   "source": [
    "### **Fit and Predict**"
   ]
  },
  {
   "cell_type": "code",
   "execution_count": 7,
   "id": "aba69cdb",
   "metadata": {
    "execution": {
     "iopub.execute_input": "2023-01-30T18:58:16.536886Z",
     "iopub.status.busy": "2023-01-30T18:58:16.536590Z",
     "iopub.status.idle": "2023-01-30T18:58:16.558949Z",
     "shell.execute_reply": "2023-01-30T18:58:16.557859Z"
    },
    "papermill": {
     "duration": 0.030531,
     "end_time": "2023-01-30T18:58:16.561597",
     "exception": false,
     "start_time": "2023-01-30T18:58:16.531066",
     "status": "completed"
    },
    "tags": []
   },
   "outputs": [],
   "source": [
    "def fit(\n",
    "    model=None,\n",
    "    optimizer=None, \n",
    "    scheduler_rlrop=None,\n",
    "    scheduler_oclr=None,\n",
    "    epochs=None, \n",
    "    early_stopping_patience=None, \n",
    "    dataloaders=None, \n",
    "    fold=None, \n",
    "    save_path=None,\n",
    "    device=None,\n",
    "    verbose=False\n",
    ") -> tuple:\n",
    "    \n",
    "    def get_accuracy(y_pred, y_true):\n",
    "        y_pred = torch.sigmoid(y_pred)\n",
    "        \n",
    "        y_pred[y_pred > 0.5] = 1\n",
    "        y_pred[y_pred <= 0.5] = 0\n",
    "        \n",
    "        return torch.count_nonzero(y_pred == y_true).item() / len(y_pred)\n",
    "    \n",
    "    \n",
    "    if verbose:\n",
    "        breaker()\n",
    "        if fold: print(f\"Training Fold {fold}...\")\n",
    "        else: print(\"Training ...\")\n",
    "        breaker()\n",
    "        \n",
    "    bestLoss: dict = {\"train\" : np.inf, \"valid\" : np.inf} \n",
    "    bestAccs: dict = {\"train\" : 0.0, \"valid\" : 0.0}\n",
    "    \n",
    "    Losses: list = []\n",
    "    Accuracies: list = [] \n",
    "    LRs: list = []\n",
    "        \n",
    "    if fold: \n",
    "        ble_name = f\"ble_state_fold_{fold}.pt\"\n",
    "        bae_name = f\"bae_state_fold_{fold}.pt\"\n",
    "    else: \n",
    "        ble_name = f\"ble_state.pt\"\n",
    "        bae_name = f\"bae_state.pt\"\n",
    "        \n",
    "    start_time = time()\n",
    "    for e in range(epochs):\n",
    "        e_st = time()\n",
    "        epochLoss: dict = {\"train\" : 0.0, \"valid\" : 0.0} \n",
    "        epochAccs: dict = {\"train\" : 0.0, \"valid\" : 0.0}\n",
    "\n",
    "        for phase in [\"train\", \"valid\"]:\n",
    "            if phase == \"train\":\n",
    "                model.train()\n",
    "            else:\n",
    "                model.eval()\n",
    "            \n",
    "            lossPerPass: list = []\n",
    "            accsPerPass: list = []\n",
    "                \n",
    "            for X, y in dataloaders[phase]:\n",
    "                X, y = X.to(device), y.to(device)\n",
    "\n",
    "                optimizer.zero_grad()\n",
    "                with torch.set_grad_enabled(phase == \"train\"):\n",
    "                    output = model(X)\n",
    "                    loss = torch.nn.BCEWithLogitsLoss()(output, y)\n",
    "                    if phase == \"train\":\n",
    "                        loss.backward()\n",
    "                        optimizer.step()\n",
    "                        if scheduler_oclr: scheduler_oclr.step()\n",
    "                lossPerPass.append(loss.item())\n",
    "                accsPerPass.append(get_accuracy(output, y))\n",
    "            epochLoss[phase] = np.mean(np.array(lossPerPass))\n",
    "            epochAccs[phase] = np.mean(np.array(accsPerPass))\n",
    "        if scheduler_oclr: LRs.append(scheduler_oclr.get_last_lr())\n",
    "        Losses.append(epochLoss)\n",
    "        Accuracies.append(epochAccs)\n",
    "        \n",
    "        if scheduler_oclr:\n",
    "            save_dict = {\"model_state_dict\"     : model.state_dict(),\n",
    "                         \"optim_state_dict\"     : optimizer.state_dict(),\n",
    "                         \"scheduler_state_dict\" : scheduler_oclr.state_dict()}\n",
    "        \n",
    "        elif scheduler_rlrop:\n",
    "            save_dict = {\"model_state_dict\"     : model.state_dict(),\n",
    "                         \"optim_state_dict\"     : optimizer.state_dict(),\n",
    "                         \"scheduler_state_dict\" : scheduler_rlrop.state_dict()}\n",
    "        \n",
    "        else:\n",
    "            save_dict = {\"model_state_dict\"     : model.state_dict(),\n",
    "                         \"optim_state_dict\"     : optimizer.state_dict()}\n",
    "        \n",
    "        if early_stopping_patience:\n",
    "            if epochLoss[\"valid\"] < bestLoss[\"valid\"]:\n",
    "                bestLoss = epochLoss\n",
    "                BLE = e + 1\n",
    "                torch.save(save_dict, os.path.join(save_path, ble_name))\n",
    "                torch.save(save_dict, os.path.join(save_path, bae_name))\n",
    "                early_stopping_step = 0\n",
    "            else:\n",
    "                early_stopping_step += 1\n",
    "                if early_stopping_step > early_stopping_patience:\n",
    "                    print(\"\\nEarly Stopping at Epoch {}\".format(e + 1))\n",
    "                    break\n",
    "        \n",
    "        if epochLoss[\"valid\"] < bestLoss[\"valid\"]:\n",
    "            bestLoss = epochLoss\n",
    "            BLE = e + 1\n",
    "            torch.save(save_dict,os.path.join(save_path, ble_name))\n",
    "        \n",
    "        if epochAccs[\"valid\"] > bestAccs[\"valid\"]:\n",
    "            bestAccs = epochAccs\n",
    "            BAE = e + 1\n",
    "            torch.save(save_dict,os.path.join(save_path, bae_name))\n",
    "        \n",
    "        if scheduler_rlrop: scheduler_rlrop.step(epochLoss[\"valid\"])\n",
    "        \n",
    "        if verbose:\n",
    "            print(\"Epoch: {} | Train Loss: {:.5f} | Valid Loss: {:.5f} |\\\n",
    " Train Accs: {:.5f} | Valid Accs: {:.5f} | Time: {:.2f} seconds\".format(e+1, \n",
    "                                                                        epochLoss[\"train\"], epochLoss[\"valid\"], \n",
    "                                                                        epochAccs[\"train\"], epochAccs[\"valid\"], \n",
    "                                                                        time()-e_st))\n",
    "\n",
    "    if verbose:                                           \n",
    "        breaker()\n",
    "        print(f\"Best Validation Loss at Epoch {BLE}\")\n",
    "        breaker()\n",
    "        print(f\"Best Validation Accs at Epoch {BAE}\")\n",
    "        breaker()\n",
    "        print(\"Time Taken [{} Epochs] : {:.2f} minutes\".format(len(Losses), (time()-start_time)/60))\n",
    "    \n",
    "    return Losses, Accuracies, LRs, bestLoss, bestAccs, BLE, BAE, ble_name, bae_name\n",
    "\n",
    "\n",
    "# def predict_batch(model=None, dataloader=None, path=None, device=None) -> np.ndarray:\n",
    "#     model.load_state_dict(torch.load(path, map_location=device)[\"model_state_dict\"])\n",
    "#     model.to(device)    \n",
    "#     model.eval()\n",
    "    \n",
    "#     y_pred = torch.zeros(1, 1).to(device)\n",
    "    \n",
    "#     for X in dataloader:\n",
    "#         X = X.to(device)\n",
    "#         with torch.no_grad():\n",
    "#             output = torch.sigmoid(model(X))\n",
    "#         y_pred = torch.cat((y_pred, output.view(-1, 1)), dim=0)\n",
    "    \n",
    "#     # y_pred[y_pred > 0.5] = 1\n",
    "#     # y_pred[y_pred <= 0.5] = 0\n",
    "    \n",
    "#     return y_pred[1:].detach().cpu().numpy()"
   ]
  },
  {
   "cell_type": "markdown",
   "id": "8fdcecc1",
   "metadata": {
    "papermill": {
     "duration": 0.005086,
     "end_time": "2023-01-30T18:58:16.570609",
     "exception": false,
     "start_time": "2023-01-30T18:58:16.565523",
     "status": "completed"
    },
    "tags": []
   },
   "source": [
    "### **Train**"
   ]
  },
  {
   "cell_type": "code",
   "execution_count": 8,
   "id": "602f6e57",
   "metadata": {
    "execution": {
     "iopub.execute_input": "2023-01-30T18:58:16.580552Z",
     "iopub.status.busy": "2023-01-30T18:58:16.580245Z",
     "iopub.status.idle": "2023-01-30T18:58:16.639325Z",
     "shell.execute_reply": "2023-01-30T18:58:16.638403Z"
    },
    "papermill": {
     "duration": 0.067039,
     "end_time": "2023-01-30T18:58:16.642047",
     "exception": false,
     "start_time": "2023-01-30T18:58:16.575008",
     "status": "completed"
    },
    "tags": []
   },
   "outputs": [],
   "source": [
    "df = pd.read_csv(\"/kaggle/input/nmv-dataframe/train.csv\")\n",
    "\n",
    "filepaths = df.filepaths.copy().values\n",
    "labels = df.labels.copy().values"
   ]
  },
  {
   "cell_type": "code",
   "execution_count": 9,
   "id": "b78b46f4",
   "metadata": {
    "execution": {
     "iopub.execute_input": "2023-01-30T18:58:16.652425Z",
     "iopub.status.busy": "2023-01-30T18:58:16.651583Z",
     "iopub.status.idle": "2023-01-30T19:42:02.304266Z",
     "shell.execute_reply": "2023-01-30T19:42:02.302995Z"
    },
    "papermill": {
     "duration": 2625.660171,
     "end_time": "2023-01-30T19:42:02.306466",
     "exception": false,
     "start_time": "2023-01-30T18:58:16.646295",
     "status": "completed"
    },
    "tags": []
   },
   "outputs": [
    {
     "name": "stderr",
     "output_type": "stream",
     "text": [
      "Downloading: \"https://github.com/rwightman/pytorch-image-models/releases/download/v0.1-weights/efficientnet_b4_ra2_320-7eb33cd5.pth\" to /root/.cache/torch/hub/checkpoints/efficientnet_b4_ra2_320-7eb33cd5.pth\n"
     ]
    },
    {
     "name": "stdout",
     "output_type": "stream",
     "text": [
      "\n",
      "**************************************************\n",
      "\n",
      "Training Fold 5...\n",
      "\n",
      "**************************************************\n",
      "\n",
      "Epoch: 1 | Train Loss: 0.40718 | Valid Loss: 0.06108 | Train Accs: 0.80342 | Valid Accs: 0.97962 | Time: 299.45 seconds\n",
      "Epoch: 2 | Train Loss: 0.10043 | Valid Loss: 0.03127 | Train Accs: 0.96416 | Valid Accs: 0.98927 | Time: 256.58 seconds\n",
      "Epoch: 3 | Train Loss: 0.07250 | Valid Loss: 0.02663 | Train Accs: 0.97489 | Valid Accs: 0.99130 | Time: 258.35 seconds\n",
      "Epoch: 4 | Train Loss: 0.04665 | Valid Loss: 0.02146 | Train Accs: 0.98391 | Valid Accs: 0.99219 | Time: 258.23 seconds\n",
      "Epoch: 5 | Train Loss: 0.03027 | Valid Loss: 0.01110 | Train Accs: 0.98953 | Valid Accs: 0.99694 | Time: 260.21 seconds\n",
      "Epoch: 6 | Train Loss: 0.01673 | Valid Loss: 0.00856 | Train Accs: 0.99498 | Valid Accs: 0.99728 | Time: 259.53 seconds\n",
      "Epoch: 7 | Train Loss: 0.01527 | Valid Loss: 0.00666 | Train Accs: 0.99532 | Valid Accs: 0.99728 | Time: 260.00 seconds\n",
      "Epoch: 8 | Train Loss: 0.00773 | Valid Loss: 0.00443 | Train Accs: 0.99779 | Valid Accs: 0.99864 | Time: 256.68 seconds\n",
      "Epoch: 9 | Train Loss: 0.00434 | Valid Loss: 0.00582 | Train Accs: 0.99889 | Valid Accs: 0.99796 | Time: 255.76 seconds\n",
      "Epoch: 10 | Train Loss: 0.00319 | Valid Loss: 0.00517 | Train Accs: 0.99898 | Valid Accs: 0.99762 | Time: 255.57 seconds\n",
      "\n",
      "**************************************************\n",
      "\n",
      "Best Validation Loss at Epoch 8\n",
      "\n",
      "**************************************************\n",
      "\n",
      "Best Validation Accs at Epoch 8\n",
      "\n",
      "**************************************************\n",
      "\n",
      "Time Taken [10 Epochs] : 43.67 minutes\n",
      "\n",
      "**************************************************\n",
      "\n"
     ]
    },
    {
     "data": {
      "image/png": "[encoded data removed]",
      "text/plain": [
       "<Figure size 432x288 with 1 Axes>"
      ]
     },
     "metadata": {
      "needs_background": "light"
     },
     "output_type": "display_data"
    },
    {
     "name": "stdout",
     "output_type": "stream",
     "text": [
      "\n",
      "**************************************************\n",
      "\n"
     ]
    },
    {
     "data": {
      "image/png": "[encoded data removed]",
      "text/plain": [
       "<Figure size 432x288 with 1 Axes>"
      ]
     },
     "metadata": {
      "needs_background": "light"
     },
     "output_type": "display_data"
    },
    {
     "name": "stdout",
     "output_type": "stream",
     "text": [
      "\n",
      "**************************************************\n",
      "\n"
     ]
    },
    {
     "data": {
      "image/png": "[encoded data removed]",
      "text/plain": [
       "<Figure size 576x432 with 1 Axes>"
      ]
     },
     "metadata": {
      "needs_background": "light"
     },
     "output_type": "display_data"
    },
    {
     "name": "stdout",
     "output_type": "stream",
     "text": [
      "\n",
      "**************************************************\n",
      "\n"
     ]
    }
   ],
   "source": [
    "fold: int = 1\n",
    "BLs: list = []\n",
    "BAs: list = []\n",
    "    \n",
    "cfg.batch_size = 32\n",
    "cfg.epochs = 10\n",
    "    \n",
    "for tr_idx, va_idx in KFold(n_splits=cfg.n_splits, random_state=cfg.seed, shuffle=True).split(filepaths):\n",
    "    if fold == 5: break\n",
    "    fold += 1\n",
    "    \n",
    "tr_filepaths, va_filepaths = filepaths[tr_idx], filepaths[va_idx] \n",
    "tr_labels, va_labels       = labels[tr_idx], labels[va_idx]\n",
    "\n",
    "tr_data_setup = DS(\n",
    "    filepaths=tr_filepaths, \n",
    "    labels=tr_labels.reshape(-1, 1),\n",
    "    transform=cfg.train_transform\n",
    ")\n",
    "\n",
    "va_data_setup = DS(\n",
    "    filepaths=va_filepaths, \n",
    "    labels=va_labels.reshape(-1, 1),\n",
    "    transform=cfg.valid_transform\n",
    ")\n",
    "\n",
    "dataloaders = {\n",
    "    \"train\" : DL(tr_data_setup, batch_size=cfg.batch_size, shuffle=True, generator=torch.manual_seed(cfg.seed)),\n",
    "    \"valid\" : DL(va_data_setup, batch_size=cfg.batch_size, shuffle=False),\n",
    "}\n",
    "\n",
    "cfg.steps_per_epoch=len(dataloaders[\"train\"])\n",
    "\n",
    "torch.manual_seed(cfg.seed)\n",
    "model = Model().to(cfg.device)\n",
    "\n",
    "optimizer = optim.Adam([p for p in model.parameters() if p.requires_grad], lr=cfg.lr, weight_decay=cfg.wd)\n",
    "# optimizer = optim.AdamW([p for p in model.parameters() if p.requires_grad], lr=cfg.lr, weight_decay=cfg.wd)\n",
    "# optimizer = optim.SGD([p for p in model.parameters() if p.requires_grad], lr=cfg.lr, weight_decay=cfg.wd, momentum=0.9)\n",
    "\n",
    "scheduler_oclr = optim.lr_scheduler.OneCycleLR(\n",
    "    optimizer=optimizer, \n",
    "    max_lr=cfg.max_lr, \n",
    "    epochs=cfg.epochs, \n",
    "    steps_per_epoch=cfg.steps_per_epoch,\n",
    "    pct_start=cfg.pct_start, \n",
    "    div_factor=cfg.div_factor, \n",
    "    final_div_factor=cfg.final_div_factor\n",
    ")\n",
    "\n",
    "# scheduler_rlrop = optim.lr_scheduler.ReduceLROnPlateau(\n",
    "#     optimizer=optimizer,\n",
    "#     patience=cfg.patience,\n",
    "#     eps=cfg.eps,\n",
    "#     verbose=True\n",
    "# )\n",
    "\n",
    "# scheduler_oclr = None\n",
    "scheduler_rlrop = None\n",
    "\n",
    "\n",
    "L, A, LR, BL, BA, _, _, _, _ = fit(\n",
    "    model=model, \n",
    "    optimizer=optimizer, \n",
    "    scheduler_oclr=scheduler_oclr,\n",
    "    scheduler_rlrop=scheduler_rlrop,\n",
    "    epochs=cfg.epochs, \n",
    "    early_stopping_patience=cfg.early_stopping, \n",
    "    dataloaders=dataloaders, \n",
    "    device=cfg.device,\n",
    "    save_path=cfg.save_path,\n",
    "    fold=fold,\n",
    "    verbose=True\n",
    ")\n",
    "\n",
    "\n",
    "breaker()\n",
    "show_loss_graphs(L)\n",
    "breaker()\n",
    "show_accuracy_graphs(A)\n",
    "breaker()\n",
    "if scheduler_oclr:\n",
    "    show_lr_graph(LR)\n",
    "    breaker()\n",
    "\n",
    "#         BLs.append(BL)\n",
    "#         BAs.append(BA)\n",
    "\n",
    "#         fold += 1"
   ]
  },
  {
   "cell_type": "markdown",
   "id": "855ca233",
   "metadata": {
    "papermill": {
     "duration": 0.005242,
     "end_time": "2023-01-30T19:42:02.317505",
     "exception": false,
     "start_time": "2023-01-30T19:42:02.312263",
     "status": "completed"
    },
    "tags": []
   },
   "source": [
    "### **Best Model**"
   ]
  },
  {
   "cell_type": "code",
   "execution_count": 10,
   "id": "d9042182",
   "metadata": {
    "execution": {
     "iopub.execute_input": "2023-01-30T19:42:02.329955Z",
     "iopub.status.busy": "2023-01-30T19:42:02.329674Z",
     "iopub.status.idle": "2023-01-30T19:42:02.335197Z",
     "shell.execute_reply": "2023-01-30T19:42:02.334227Z"
    },
    "papermill": {
     "duration": 0.014675,
     "end_time": "2023-01-30T19:42:02.337647",
     "exception": false,
     "start_time": "2023-01-30T19:42:02.322972",
     "status": "completed"
    },
    "tags": []
   },
   "outputs": [],
   "source": [
    "# BL = np.inf\n",
    "# for i in range(len(BLs)):\n",
    "#     if BLs[i][\"valid\"] < BL:\n",
    "#         BL = BLs[i][\"valid\"]\n",
    "#         best_loss_index = i\n",
    "\n",
    "        \n",
    "# BA = 0.0\n",
    "# for i in range(len(BAs)):\n",
    "#     if BAs[i][\"valid\"] > BA:\n",
    "#         BA = BAs[i][\"valid\"]\n",
    "#         best_accs_index = i\n",
    "\n",
    "# breaker()\n",
    "# print(f\"Best Loss Model Fold     : {best_loss_index + 1}\")\n",
    "# print(f\"Best Accuracy Model Fold : {best_accs_index + 1}\")\n",
    "# breaker()"
   ]
  }
 ],
 "metadata": {
  "kernelspec": {
   "display_name": "Python 3",
   "language": "python",
   "name": "python3"
  },
  "language_info": {
   "codemirror_mode": {
    "name": "ipython",
    "version": 3
   },
   "file_extension": ".py",
   "mimetype": "text/x-python",
   "name": "python",
   "nbconvert_exporter": "python",
   "pygments_lexer": "ipython3",
   "version": "3.7.12"
  },
  "papermill": {
   "default_parameters": {},
   "duration": 2650.437299,
   "end_time": "2023-01-30T19:42:04.072263",
   "environment_variables": {},
   "exception": null,
   "input_path": "__notebook__.ipynb",
   "output_path": "__notebook__.ipynb",
   "parameters": {},
   "start_time": "2023-01-30T18:57:53.634964",
   "version": "2.3.4"
  }
 },
 "nbformat": 4,
 "nbformat_minor": 5
}
