{
 "cells": [
  {
   "cell_type": "code",
   "execution_count": 1,
   "id": "cfcca424",
   "metadata": {
    "_cell_guid": "b1076dfc-b9ad-4769-8c92-a6c4dae69d19",
    "_uuid": "8f2839f25d086af736a60e9eeb907d3b93b6e0e5",
    "execution": {
     "iopub.execute_input": "2023-01-30T11:32:40.605336Z",
     "iopub.status.busy": "2023-01-30T11:32:40.604350Z",
     "iopub.status.idle": "2023-01-30T11:32:40.819775Z",
     "shell.execute_reply": "2023-01-30T11:32:40.818478Z"
    },
    "papermill": {
     "duration": 0.223385,
     "end_time": "2023-01-30T11:32:40.822537",
     "exception": false,
     "start_time": "2023-01-30T11:32:40.599152",
     "status": "completed"
    },
    "tags": []
   },
   "outputs": [],
   "source": [
    "import os\n",
    "import cv2\n",
    "import numpy as np\n",
    "import pandas as pd\n",
    "\n",
    "def breaker(num: int = 50, char: str = \"*\") -> None: print(\"\\n\" + num*char + \"\\n\")"
   ]
  },
  {
   "cell_type": "code",
   "execution_count": 2,
   "id": "9e880ab1",
   "metadata": {
    "execution": {
     "iopub.execute_input": "2023-01-30T11:32:40.830952Z",
     "iopub.status.busy": "2023-01-30T11:32:40.830334Z",
     "iopub.status.idle": "2023-01-30T11:32:40.843676Z",
     "shell.execute_reply": "2023-01-30T11:32:40.842733Z"
    },
    "papermill": {
     "duration": 0.019292,
     "end_time": "2023-01-30T11:32:40.846030",
     "exception": false,
     "start_time": "2023-01-30T11:32:40.826738",
     "status": "completed"
    },
    "tags": []
   },
   "outputs": [],
   "source": [
    "def get_image(path: str) -> np.ndarray:\n",
    "    image = cv2.imread(path, cv2.IMREAD_COLOR)\n",
    "    image = cv2.cvtColor(src=image, code=cv2.COLOR_BGR2RGB)\n",
    "    return image\n",
    "    # if image.shape == (256, 256, 3) and size == 256: return image\n",
    "    # return cv2.resize(src=image, dsize=(size, size), interpolation=cv2.INTER_AREA)\n",
    "\n",
    "\n",
    "def get_statistics(filepaths: np.ndarray) -> dict:\n",
    "\n",
    "    stats: dict = dict()\n",
    "    means: dict = dict()\n",
    "    stds: dict  = dict()\n",
    "        \n",
    "    total_num_of_images: int = 0\n",
    "    r_mean, g_mean, b_mean, r_std, g_std, b_std = 0.0, 0.0, 0.0, 0.0, 0.0, 0.0\n",
    "    for filepath in filepaths:\n",
    "        image = get_image(filepath)\n",
    "        r_mean += image[:, :, 0].mean()\n",
    "        g_mean += image[:, :, 1].mean()\n",
    "        b_mean += image[:, :, 2].mean()\n",
    "        r_std += image[:, :, 0].std()\n",
    "        g_std += image[:, :, 1].std()\n",
    "        b_std += image[:, :, 2].std()\n",
    "        total_num_of_images += 1\n",
    "        \n",
    "    stats[\"means\"] = [\n",
    "            r_mean / total_num_of_images / 255, \n",
    "            g_mean / total_num_of_images / 255, \n",
    "            b_mean / total_num_of_images / 255,\n",
    "        ]\n",
    "    stats[\"stds\"] = [\n",
    "            r_std / total_num_of_images / 255, \n",
    "            g_std / total_num_of_images / 255, \n",
    "            b_std / total_num_of_images / 255,\n",
    "        ]\n",
    "    \n",
    "    return stats\n",
    "\n",
    "\n",
    "def print_statistics(stats: dict) -> None:\n",
    "    breaker()\n",
    "    for k, v in stats.items():\n",
    "        print(f\"{k.title()}\\n\")\n",
    "        for i in range(len(v)):\n",
    "            if i == 0: print(f\"Red   : {v[i]:.5f}\")\n",
    "            if i == 1: print(f\"Green : {v[i]:.5f}\")\n",
    "            if i == 2: print(f\"Blue  : {v[i]:.5f}\")\n",
    "        breaker()"
   ]
  },
  {
   "cell_type": "code",
   "execution_count": 3,
   "id": "dcbad2e7",
   "metadata": {
    "execution": {
     "iopub.execute_input": "2023-01-30T11:32:40.852069Z",
     "iopub.status.busy": "2023-01-30T11:32:40.851129Z",
     "iopub.status.idle": "2023-01-30T11:34:01.298709Z",
     "shell.execute_reply": "2023-01-30T11:34:01.297528Z"
    },
    "papermill": {
     "duration": 80.456073,
     "end_time": "2023-01-30T11:34:01.304208",
     "exception": false,
     "start_time": "2023-01-30T11:32:40.848135",
     "status": "completed"
    },
    "tags": []
   },
   "outputs": [
    {
     "name": "stdout",
     "output_type": "stream",
     "text": [
      "\n",
      "**************************************************\n",
      "\n",
      "Means\n",
      "\n",
      "Red   : 0.53955\n",
      "Green : 0.55886\n",
      "Blue  : 0.56512\n",
      "\n",
      "**************************************************\n",
      "\n",
      "Stds\n",
      "\n",
      "Red   : 0.27001\n",
      "Green : 0.25873\n",
      "Blue  : 0.26042\n",
      "\n",
      "**************************************************\n",
      "\n"
     ]
    }
   ],
   "source": [
    "df = pd.read_csv(\"/kaggle/input/nmv-dataframe/train.csv\")\n",
    "\n",
    "stats = get_statistics(df.filepaths.copy().values)\n",
    "print_statistics(stats)"
   ]
  },
  {
   "cell_type": "code",
   "execution_count": null,
   "id": "fa3a2451",
   "metadata": {
    "papermill": {
     "duration": 0.00185,
     "end_time": "2023-01-30T11:34:01.308842",
     "exception": false,
     "start_time": "2023-01-30T11:34:01.306992",
     "status": "completed"
    },
    "tags": []
   },
   "outputs": [],
   "source": []
  }
 ],
 "metadata": {
  "kernelspec": {
   "display_name": "Python 3",
   "language": "python",
   "name": "python3"
  },
  "language_info": {
   "codemirror_mode": {
    "name": "ipython",
    "version": 3
   },
   "file_extension": ".py",
   "mimetype": "text/x-python",
   "name": "python",
   "nbconvert_exporter": "python",
   "pygments_lexer": "ipython3",
   "version": "3.7.12"
  },
  "papermill": {
   "default_parameters": {},
   "duration": 89.99843,
   "end_time": "2023-01-30T11:34:01.933782",
   "environment_variables": {},
   "exception": null,
   "input_path": "__notebook__.ipynb",
   "output_path": "__notebook__.ipynb",
   "parameters": {},
   "start_time": "2023-01-30T11:32:31.935352",
   "version": "2.3.4"
  }
 },
 "nbformat": 4,
 "nbformat_minor": 5
}
