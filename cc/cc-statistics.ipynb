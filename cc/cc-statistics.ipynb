{
 "cells": [
  {
   "cell_type": "code",
   "execution_count": 1,
   "id": "abe8abef",
   "metadata": {
    "_cell_guid": "b1076dfc-b9ad-4769-8c92-a6c4dae69d19",
    "_uuid": "8f2839f25d086af736a60e9eeb907d3b93b6e0e5",
    "execution": {
     "iopub.execute_input": "2022-05-01T07:15:29.423233Z",
     "iopub.status.busy": "2022-05-01T07:15:29.422093Z",
     "iopub.status.idle": "2022-05-01T07:15:29.631826Z",
     "shell.execute_reply": "2022-05-01T07:15:29.630973Z"
    },
    "papermill": {
     "duration": 0.219431,
     "end_time": "2022-05-01T07:15:29.634260",
     "exception": false,
     "start_time": "2022-05-01T07:15:29.414829",
     "status": "completed"
    },
    "tags": []
   },
   "outputs": [],
   "source": [
    "import os\n",
    "import cv2\n",
    "import numpy as np\n",
    "\n",
    "\n",
    "SIZE = 227\n",
    "BASE_PATH = \"../input/concrete-crack-images-for-classification\""
   ]
  },
  {
   "cell_type": "code",
   "execution_count": 2,
   "id": "f4e7c13c",
   "metadata": {
    "execution": {
     "iopub.execute_input": "2022-05-01T07:15:29.645375Z",
     "iopub.status.busy": "2022-05-01T07:15:29.645105Z",
     "iopub.status.idle": "2022-05-01T07:15:29.657290Z",
     "shell.execute_reply": "2022-05-01T07:15:29.656492Z"
    },
    "papermill": {
     "duration": 0.020007,
     "end_time": "2022-05-01T07:15:29.659356",
     "exception": false,
     "start_time": "2022-05-01T07:15:29.639349",
     "status": "completed"
    },
    "tags": []
   },
   "outputs": [],
   "source": [
    "def breaker(num: int = 50, char: str = \"*\") -> None:\n",
    "    print(\"\\n\" + num*char + \"\\n\")\n",
    "\n",
    "\n",
    "def preprocess(image: np.ndarray, size: int) -> np.ndarray:\n",
    "    if size != 227:\n",
    "        return cv2.resize(src=cv2.cvtColor(src=image, \n",
    "                                           code=cv2.COLOR_BGR2RGB), \n",
    "                          dsize=(size, size), \n",
    "                          interpolation=cv2.INTER_AREA)\n",
    "    else:\n",
    "        return cv2.cvtColor(src=image, code=cv2.COLOR_BGR2RGB)\n",
    "\n",
    "\n",
    "def get_images(path: str, names: np.ndarray, size: int) -> np.ndarray:\n",
    "    images = np.zeros((len(names), size, size, 3), dtype=np.uint8)\n",
    "    \n",
    "    i = 0\n",
    "    for name in names:\n",
    "        images[i] = preprocess(cv2.imread(os.path.join(path, name), cv2.IMREAD_COLOR), size)\n",
    "        i += 1\n",
    "    return images\n",
    "\n",
    "\n",
    "def get_statistics(images: np.ndarray, size: int) -> None:\n",
    "    print(f\"Mean {size}x{size}\\n\")\n",
    "    print(f\"Red Channel Mean   {size} : {images[:, :, :, 0].mean() / 255:.5f}\")\n",
    "    print(f\"Green Channel Mean {size} : {images[:, :, :, 1].mean() / 255:.5f}\")\n",
    "    print(f\"Blue Channel Mean  {size} : {images[:, :, :, 2].mean() / 255:.5f}\")\n",
    "    print(\"\")\n",
    "    print(f\"Standard Deviation {size}x{size}\\n\")\n",
    "    print(f\"Red Channel Std    {size} : {images[:, :, :, 0].std() / 255:.5f}\")\n",
    "    print(f\"Green Channel Std  {size} : {images[:, :, :, 1].std() / 255:.5f}\")\n",
    "    print(f\"Blue Channel Std   {size} : {images[:, :, :, 2].std() / 255:.5f}\") "
   ]
  },
  {
   "cell_type": "code",
   "execution_count": 3,
   "id": "0a30b1ca",
   "metadata": {
    "execution": {
     "iopub.execute_input": "2022-05-01T07:15:29.670345Z",
     "iopub.status.busy": "2022-05-01T07:15:29.669665Z",
     "iopub.status.idle": "2022-05-01T07:22:00.247069Z",
     "shell.execute_reply": "2022-05-01T07:22:00.245944Z"
    },
    "papermill": {
     "duration": 390.585629,
     "end_time": "2022-05-01T07:22:00.249641",
     "exception": false,
     "start_time": "2022-05-01T07:15:29.664012",
     "status": "completed"
    },
    "tags": []
   },
   "outputs": [],
   "source": [
    "pos_filenames = os.listdir(os.path.join(BASE_PATH, \"Positive\"))\n",
    "neg_filenames = os.listdir(os.path.join(BASE_PATH, \"Negative\"))\n",
    "\n",
    "pos_images = get_images(os.path.join(BASE_PATH, \"Positive\"), pos_filenames, SIZE)\n",
    "neg_images = get_images(os.path.join(BASE_PATH, \"Negative\"), neg_filenames, SIZE)\n",
    "\n",
    "labels = np.concatenate((np.zeros((len(neg_images),)), np.ones((len(pos_images),))), axis=0)\n",
    "images = np.concatenate((neg_images, pos_images), axis=0)\n",
    "\n",
    "# breaker()\n",
    "# get_statistics(images, SIZE)\n",
    "# breaker()\n",
    "\n",
    "np.save(f\"images-{SIZE}.npy\", images)\n",
    "np.save(f\"labels-{SIZE}.npy\", labels)"
   ]
  }
 ],
 "metadata": {
  "kernelspec": {
   "display_name": "Python 3",
   "language": "python",
   "name": "python3"
  },
  "language_info": {
   "codemirror_mode": {
    "name": "ipython",
    "version": 3
   },
   "file_extension": ".py",
   "mimetype": "text/x-python",
   "name": "python",
   "nbconvert_exporter": "python",
   "pygments_lexer": "ipython3",
   "version": "3.7.12"
  },
  "papermill": {
   "default_parameters": {},
   "duration": 403.224602,
   "end_time": "2022-05-01T07:22:02.446380",
   "environment_variables": {},
   "exception": null,
   "input_path": "__notebook__.ipynb",
   "output_path": "__notebook__.ipynb",
   "parameters": {},
   "start_time": "2022-05-01T07:15:19.221778",
   "version": "2.3.4"
  }
 },
 "nbformat": 4,
 "nbformat_minor": 5
}
