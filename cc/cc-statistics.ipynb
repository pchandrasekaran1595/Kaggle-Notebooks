{
 "cells": [
  {
   "cell_type": "code",
   "execution_count": 1,
   "id": "9584d71b",
   "metadata": {
    "_cell_guid": "b1076dfc-b9ad-4769-8c92-a6c4dae69d19",
    "_uuid": "8f2839f25d086af736a60e9eeb907d3b93b6e0e5",
    "execution": {
     "iopub.execute_input": "2022-05-01T08:43:04.590264Z",
     "iopub.status.busy": "2022-05-01T08:43:04.589692Z",
     "iopub.status.idle": "2022-05-01T08:43:04.847905Z",
     "shell.execute_reply": "2022-05-01T08:43:04.846780Z"
    },
    "papermill": {
     "duration": 0.267425,
     "end_time": "2022-05-01T08:43:04.850525",
     "exception": false,
     "start_time": "2022-05-01T08:43:04.583100",
     "status": "completed"
    },
    "tags": []
   },
   "outputs": [],
   "source": [
    "import os\n",
    "import cv2\n",
    "import numpy as np\n",
    "\n",
    "\n",
    "SIZE = 227\n",
    "BASE_PATH = \"../input/concrete-crack-images-for-classification\""
   ]
  },
  {
   "cell_type": "code",
   "execution_count": 2,
   "id": "964a8151",
   "metadata": {
    "execution": {
     "iopub.execute_input": "2022-05-01T08:43:04.859997Z",
     "iopub.status.busy": "2022-05-01T08:43:04.859723Z",
     "iopub.status.idle": "2022-05-01T08:43:04.873402Z",
     "shell.execute_reply": "2022-05-01T08:43:04.872264Z"
    },
    "papermill": {
     "duration": 0.021181,
     "end_time": "2022-05-01T08:43:04.875909",
     "exception": false,
     "start_time": "2022-05-01T08:43:04.854728",
     "status": "completed"
    },
    "tags": []
   },
   "outputs": [],
   "source": [
    "def breaker(num: int = 50, char: str = \"*\") -> None:\n",
    "    print(\"\\n\" + num*char + \"\\n\")\n",
    "\n",
    "\n",
    "def preprocess(image: np.ndarray, size: int) -> np.ndarray:\n",
    "    if size != 227:\n",
    "        return cv2.resize(src=cv2.cvtColor(src=image, \n",
    "                                           code=cv2.COLOR_BGR2RGB), \n",
    "                          dsize=(size, size), \n",
    "                          interpolation=cv2.INTER_AREA)\n",
    "    else:\n",
    "        return cv2.cvtColor(src=image, code=cv2.COLOR_BGR2RGB)\n",
    "\n",
    "\n",
    "def get_images(path: str, names: np.ndarray, size: int) -> np.ndarray:\n",
    "    images = np.zeros((len(names), size, size, 3), dtype=np.uint8)\n",
    "    \n",
    "    i = 0\n",
    "    for name in names:\n",
    "        images[i] = preprocess(cv2.imread(os.path.join(path, name), cv2.IMREAD_COLOR), size)\n",
    "        i += 1\n",
    "    return images\n",
    "\n",
    "\n",
    "def get_statistics(images: list, size: int) -> None:\n",
    "    print(f\"Statistics {size}x{size}\\n\")\n",
    "    \n",
    "    for i in range(3):\n",
    "        mean, std = 0.0, 0.0\n",
    "        for j in range(len(images)):\n",
    "            mean += images[0][:, :, i].mean()\n",
    "            std += images[0][:, :, i].std()\n",
    "            \n",
    "        if i == 0:\n",
    "            print(f\"Red Channel Mean   {size} : {mean / 255:.5f}\")\n",
    "            print(f\"Red Channel Std    {size} : {std / 255:.5f}\")\n",
    "\n",
    "        if i == 1:\n",
    "            print(f\"Green Channel Mean {size} : {mean / 255:.5f}\")\n",
    "            print(f\"Green Channel Std  {size} : {std / 255:.5f}\")\n",
    "\n",
    "        if i == 2:\n",
    "            print(f\"Blue Channel Mean  {size} : {mean / 255:.5f}\")\n",
    "            print(f\"Blue Channel Std   {size} : {std / 255:.5f}\")"
   ]
  },
  {
   "cell_type": "code",
   "execution_count": 3,
   "id": "2d216b57",
   "metadata": {
    "execution": {
     "iopub.execute_input": "2022-05-01T08:43:04.884930Z",
     "iopub.status.busy": "2022-05-01T08:43:04.884669Z",
     "iopub.status.idle": "2022-05-01T08:47:10.943674Z",
     "shell.execute_reply": "2022-05-01T08:47:10.942801Z"
    },
    "papermill": {
     "duration": 246.06633,
     "end_time": "2022-05-01T08:47:10.946151",
     "exception": false,
     "start_time": "2022-05-01T08:43:04.879821",
     "status": "completed"
    },
    "tags": []
   },
   "outputs": [
    {
     "name": "stdout",
     "output_type": "stream",
     "text": [
      "\n",
      "**************************************************\n",
      "\n",
      "Statistics 227x227\n",
      "\n",
      "Red Channel Mean   227 : 26707.62590\n",
      "Red Channel Std    227 : 2924.16777\n",
      "Green Channel Mean 227 : 26071.12157\n",
      "Green Channel Std  227 : 2913.95820\n",
      "Blue Channel Mean  227 : 24732.48378\n",
      "Blue Channel Std   227 : 2924.27332\n",
      "\n",
      "**************************************************\n",
      "\n"
     ]
    }
   ],
   "source": [
    "pos_filenames = os.listdir(os.path.join(BASE_PATH, \"Positive\"))\n",
    "neg_filenames = os.listdir(os.path.join(BASE_PATH, \"Negative\"))\n",
    "\n",
    "pos_images = get_images(os.path.join(BASE_PATH, \"Positive\"), pos_filenames, SIZE)\n",
    "neg_images = get_images(os.path.join(BASE_PATH, \"Negative\"), neg_filenames, SIZE)\n",
    "\n",
    "labels = np.concatenate((np.zeros((len(neg_images),)), np.ones((len(pos_images),))), axis=0)\n",
    "images = np.concatenate((neg_images, pos_images), axis=0)\n",
    "\n",
    "breaker()\n",
    "get_statistics(list(images), SIZE)\n",
    "breaker()\n",
    "\n",
    "np.save(f\"images-{SIZE}.npy\", images)\n",
    "np.save(f\"labels-{SIZE}.npy\", labels)"
   ]
  }
 ],
 "metadata": {
  "kernelspec": {
   "display_name": "Python 3",
   "language": "python",
   "name": "python3"
  },
  "language_info": {
   "codemirror_mode": {
    "name": "ipython",
    "version": 3
   },
   "file_extension": ".py",
   "mimetype": "text/x-python",
   "name": "python",
   "nbconvert_exporter": "python",
   "pygments_lexer": "ipython3",
   "version": "3.7.12"
  },
  "papermill": {
   "default_parameters": {},
   "duration": 258.79483,
   "end_time": "2022-05-01T08:47:12.366856",
   "environment_variables": {},
   "exception": null,
   "input_path": "__notebook__.ipynb",
   "output_path": "__notebook__.ipynb",
   "parameters": {},
   "start_time": "2022-05-01T08:42:53.572026",
   "version": "2.3.4"
  }
 },
 "nbformat": 4,
 "nbformat_minor": 5
}
