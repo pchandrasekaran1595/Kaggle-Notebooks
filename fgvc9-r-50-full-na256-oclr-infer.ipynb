{
 "cells": [
  {
   "cell_type": "markdown",
   "id": "272af865",
   "metadata": {
    "papermill": {
     "duration": 0.02392,
     "end_time": "2022-03-28T20:31:44.847451",
     "exception": false,
     "start_time": "2022-03-28T20:31:44.823531",
     "status": "completed"
    },
    "tags": []
   },
   "source": [
    "## [**Training Notebook**](https://colab.research.google.com/drive/1o5KGZO4s4d3wTIqEUHbGzbXiCmdLniTx?usp=sharing)"
   ]
  },
  {
   "cell_type": "markdown",
   "id": "a02e682f",
   "metadata": {
    "papermill": {
     "duration": 0.013096,
     "end_time": "2022-03-28T20:31:44.873509",
     "exception": false,
     "start_time": "2022-03-28T20:31:44.860413",
     "status": "completed"
    },
    "tags": []
   },
   "source": [
    "### **Library Imports**"
   ]
  },
  {
   "cell_type": "code",
   "execution_count": 1,
   "id": "73674088",
   "metadata": {
    "execution": {
     "iopub.execute_input": "2022-03-28T20:31:44.910560Z",
     "iopub.status.busy": "2022-03-28T20:31:44.909646Z",
     "iopub.status.idle": "2022-03-28T20:31:47.624134Z",
     "shell.execute_reply": "2022-03-28T20:31:47.624621Z",
     "shell.execute_reply.started": "2022-03-28T20:26:39.274415Z"
    },
    "papermill": {
     "duration": 2.738618,
     "end_time": "2022-03-28T20:31:47.624938",
     "exception": false,
     "start_time": "2022-03-28T20:31:44.886320",
     "status": "completed"
    },
    "tags": []
   },
   "outputs": [],
   "source": [
    "import os\n",
    "import re\n",
    "import cv2\n",
    "import torch\n",
    "import numpy as np\n",
    "import pandas as pd\n",
    "import matplotlib.pyplot as plt\n",
    "\n",
    "from torch import nn, optim\n",
    "from torch.utils.data import Dataset\n",
    "from torch.utils.data import DataLoader as DL\n",
    "from torchvision import models, transforms\n",
    "\n",
    "from sklearn.preprocessing import LabelEncoder\n",
    "from sklearn.model_selection import StratifiedKFold"
   ]
  },
  {
   "cell_type": "markdown",
   "id": "80fc44a9",
   "metadata": {
    "papermill": {
     "duration": 0.014423,
     "end_time": "2022-03-28T20:31:47.654936",
     "exception": false,
     "start_time": "2022-03-28T20:31:47.640513",
     "status": "completed"
    },
    "tags": []
   },
   "source": [
    "### **Utilites and Constants**"
   ]
  },
  {
   "cell_type": "code",
   "execution_count": 2,
   "id": "4cad3be7",
   "metadata": {
    "execution": {
     "iopub.execute_input": "2022-03-28T20:31:47.736364Z",
     "iopub.status.busy": "2022-03-28T20:31:47.735791Z",
     "iopub.status.idle": "2022-03-28T20:31:47.740016Z",
     "shell.execute_reply": "2022-03-28T20:31:47.739551Z",
     "shell.execute_reply.started": "2022-03-28T20:27:25.997152Z"
    },
    "papermill": {
     "duration": 0.070972,
     "end_time": "2022-03-28T20:31:47.740141",
     "exception": false,
     "start_time": "2022-03-28T20:31:47.669169",
     "status": "completed"
    },
    "tags": []
   },
   "outputs": [],
   "source": [
    "SEED = 42\n",
    "SIZE = 256\n",
    "DEVICE = torch.device(\"cuda\" if torch.cuda.is_available() else \"cpu\")\n",
    "TRANSFORM = transforms.Compose([transforms.ToTensor(),\n",
    "                                transforms.Normalize([0.37250, 0.37591, 0.37537],\n",
    "                                                     [0.20316, 0.21171, 0.21160]),\n",
    "                                ])\n",
    "MODEL_PATH = \"../input/fgvc9-r50-full-na256-oclr/resnet50-state.pt\"\n",
    "\n",
    "le = LabelEncoder()\n",
    "\n",
    "def breaker(num: int=50, char: str=\"*\") -> None:\n",
    "    print(\"\\n\" + num*char + \"\\n\")"
   ]
  },
  {
   "cell_type": "code",
   "execution_count": 3,
   "id": "00e5c043",
   "metadata": {
    "execution": {
     "iopub.execute_input": "2022-03-28T20:31:47.774848Z",
     "iopub.status.busy": "2022-03-28T20:31:47.773958Z",
     "iopub.status.idle": "2022-03-28T20:31:47.775975Z",
     "shell.execute_reply": "2022-03-28T20:31:47.776343Z",
     "shell.execute_reply.started": "2022-03-28T20:26:42.122325Z"
    },
    "papermill": {
     "duration": 0.021853,
     "end_time": "2022-03-28T20:31:47.776506",
     "exception": false,
     "start_time": "2022-03-28T20:31:47.754653",
     "status": "completed"
    },
    "tags": []
   },
   "outputs": [],
   "source": [
    "def get_image(path: str, size: int) -> np.ndarray:\n",
    "    image = cv2.imread(path, cv2.IMREAD_COLOR)\n",
    "    image = cv2.cvtColor(src=image, code=cv2.COLOR_BGR2RGB)\n",
    "    return cv2.resize(src=image, dsize=(size, size), interpolation=cv2.INTER_AREA)"
   ]
  },
  {
   "cell_type": "markdown",
   "id": "af7a2849",
   "metadata": {
    "papermill": {
     "duration": 0.013819,
     "end_time": "2022-03-28T20:31:47.804542",
     "exception": false,
     "start_time": "2022-03-28T20:31:47.790723",
     "status": "completed"
    },
    "tags": []
   },
   "source": [
    "### **Get Label Encoding Transform**"
   ]
  },
  {
   "cell_type": "code",
   "execution_count": 4,
   "id": "f2687666",
   "metadata": {
    "execution": {
     "iopub.execute_input": "2022-03-28T20:31:47.838974Z",
     "iopub.status.busy": "2022-03-28T20:31:47.838112Z",
     "iopub.status.idle": "2022-03-28T20:31:47.891564Z",
     "shell.execute_reply": "2022-03-28T20:31:47.891045Z",
     "shell.execute_reply.started": "2022-03-28T20:27:29.300859Z"
    },
    "papermill": {
     "duration": 0.073346,
     "end_time": "2022-03-28T20:31:47.891705",
     "exception": false,
     "start_time": "2022-03-28T20:31:47.818359",
     "status": "completed"
    },
    "tags": []
   },
   "outputs": [],
   "source": [
    "train_df = pd.read_csv(\"../input/sorghum-id-fgvc-9/train_cultivar_mapping.csv\")\n",
    "train_df = train_df.drop(index=train_df.index[train_df.image == \".DS_Store\"])\n",
    "\n",
    "labels    = train_df.cultivar.copy().values \n",
    "labels = le.fit_transform(labels)"
   ]
  },
  {
   "cell_type": "markdown",
   "id": "f73b7115",
   "metadata": {
    "papermill": {
     "duration": 0.013953,
     "end_time": "2022-03-28T20:31:47.919980",
     "exception": false,
     "start_time": "2022-03-28T20:31:47.906027",
     "status": "completed"
    },
    "tags": []
   },
   "source": [
    "### **Configuration**"
   ]
  },
  {
   "cell_type": "code",
   "execution_count": 5,
   "id": "a72ee861",
   "metadata": {
    "execution": {
     "iopub.execute_input": "2022-03-28T20:31:47.957404Z",
     "iopub.status.busy": "2022-03-28T20:31:47.956518Z",
     "iopub.status.idle": "2022-03-28T20:31:47.958586Z",
     "shell.execute_reply": "2022-03-28T20:31:47.959116Z",
     "shell.execute_reply.started": "2022-03-28T20:27:32.166183Z"
    },
    "papermill": {
     "duration": 0.024683,
     "end_time": "2022-03-28T20:31:47.959263",
     "exception": false,
     "start_time": "2022-03-28T20:31:47.934580",
     "status": "completed"
    },
    "tags": []
   },
   "outputs": [],
   "source": [
    "class CFG(object):\n",
    "    def __init__(self, \n",
    "                 seed: int = 42,\n",
    "                 n_splits: int = 5,\n",
    "                 batch_size: int = 16,\n",
    "                 epochs: int = 25,\n",
    "                 early_stopping: int = 5,\n",
    "                 lr: float = 1e-4,\n",
    "                 wd: float = 0.0,\n",
    "                 max_lr: float = 1e-3,\n",
    "                 pct_start: float = 0.2,\n",
    "                 steps_per_epoch: int = 100,\n",
    "                 div_factor: int = 1e3, \n",
    "                 final_div_factor: float = 1e3,\n",
    "                 ):\n",
    "        \n",
    "        self.seed = seed\n",
    "        self.n_splits = n_splits\n",
    "        self.batch_size = batch_size\n",
    "        self.epochs = epochs\n",
    "        self.early_stopping = early_stopping\n",
    "        self.lr = lr\n",
    "        self.wd = wd\n",
    "        self.max_lr = max_lr\n",
    "        self.pct_start = pct_start\n",
    "        self.steps_per_epoch = steps_per_epoch\n",
    "        self.div_factor = div_factor\n",
    "        self.final_div_factor = final_div_factor\n",
    "    \n",
    "cfg = CFG(seed=SEED)"
   ]
  },
  {
   "cell_type": "markdown",
   "id": "11642ffd",
   "metadata": {
    "papermill": {
     "duration": 0.014422,
     "end_time": "2022-03-28T20:31:47.987738",
     "exception": false,
     "start_time": "2022-03-28T20:31:47.973316",
     "status": "completed"
    },
    "tags": []
   },
   "source": [
    "### **Dataset Template**"
   ]
  },
  {
   "cell_type": "code",
   "execution_count": 6,
   "id": "3b7038e4",
   "metadata": {
    "execution": {
     "iopub.execute_input": "2022-03-28T20:31:48.022908Z",
     "iopub.status.busy": "2022-03-28T20:31:48.022004Z",
     "iopub.status.idle": "2022-03-28T20:31:48.024122Z",
     "shell.execute_reply": "2022-03-28T20:31:48.024612Z",
     "shell.execute_reply.started": "2022-03-28T20:27:34.406453Z"
    },
    "papermill": {
     "duration": 0.022795,
     "end_time": "2022-03-28T20:31:48.024751",
     "exception": false,
     "start_time": "2022-03-28T20:31:48.001956",
     "status": "completed"
    },
    "tags": []
   },
   "outputs": [],
   "source": [
    "class DS(Dataset):\n",
    "    def __init__(self, base_path: str, filenames: np.ndarray, transform):\n",
    "        self.base_path = base_path\n",
    "        self.filenames = filenames\n",
    "        self.transform = transform\n",
    "    \n",
    "    def __len__(self):\n",
    "        return self.filenames.shape[0]\n",
    "    \n",
    "    def __getitem__(self, idx):\n",
    "        return self.transform(get_image(os.path.join(self.base_path, self.filenames[idx]), SIZE))"
   ]
  },
  {
   "cell_type": "markdown",
   "id": "0ee7d1e0",
   "metadata": {
    "papermill": {
     "duration": 0.013767,
     "end_time": "2022-03-28T20:31:48.052481",
     "exception": false,
     "start_time": "2022-03-28T20:31:48.038714",
     "status": "completed"
    },
    "tags": []
   },
   "source": [
    "### **Model**"
   ]
  },
  {
   "cell_type": "code",
   "execution_count": 7,
   "id": "a736b1a3",
   "metadata": {
    "execution": {
     "iopub.execute_input": "2022-03-28T20:31:48.083390Z",
     "iopub.status.busy": "2022-03-28T20:31:48.082454Z",
     "iopub.status.idle": "2022-03-28T20:31:48.088850Z",
     "shell.execute_reply": "2022-03-28T20:31:48.089284Z",
     "shell.execute_reply.started": "2022-03-28T20:27:41.787090Z"
    },
    "papermill": {
     "duration": 0.023062,
     "end_time": "2022-03-28T20:31:48.089491",
     "exception": false,
     "start_time": "2022-03-28T20:31:48.066429",
     "status": "completed"
    },
    "tags": []
   },
   "outputs": [],
   "source": [
    "class MyResnet(nn.Module):\n",
    "    def __init__(self):\n",
    "        super(MyResnet, self).__init__()\n",
    "\n",
    "        self.model = models.resnet50(pretrained=False, progress=True)\n",
    "        self.model.fc = nn.Linear(in_features=self.model.fc.in_features, out_features=100)\n",
    "\n",
    "    def forward(self, x):\n",
    "        return nn.LogSoftmax(dim=1)(self.model(x))"
   ]
  },
  {
   "cell_type": "markdown",
   "id": "d3c13c0b",
   "metadata": {
    "papermill": {
     "duration": 0.013583,
     "end_time": "2022-03-28T20:31:48.117231",
     "exception": false,
     "start_time": "2022-03-28T20:31:48.103648",
     "status": "completed"
    },
    "tags": []
   },
   "source": [
    "### **Predict Helper**"
   ]
  },
  {
   "cell_type": "code",
   "execution_count": 8,
   "id": "e87661f3",
   "metadata": {
    "execution": {
     "iopub.execute_input": "2022-03-28T20:31:48.152955Z",
     "iopub.status.busy": "2022-03-28T20:31:48.152193Z",
     "iopub.status.idle": "2022-03-28T20:31:48.154564Z",
     "shell.execute_reply": "2022-03-28T20:31:48.155019Z",
     "shell.execute_reply.started": "2022-03-28T20:27:44.307566Z"
    },
    "papermill": {
     "duration": 0.023867,
     "end_time": "2022-03-28T20:31:48.155140",
     "exception": false,
     "start_time": "2022-03-28T20:31:48.131273",
     "status": "completed"
    },
    "tags": []
   },
   "outputs": [],
   "source": [
    "def predict(model=None, dataloader=None, path=None) -> np.ndarray:\n",
    "    model.load_state_dict(torch.load(path, map_location=DEVICE)[\"model_state_dict\"])\n",
    "    model.to(DEVICE)    \n",
    "    model.eval()\n",
    "    \n",
    "    y_pred = torch.zeros(1, 1).to(DEVICE)\n",
    "    \n",
    "    for X in dataloader:\n",
    "        X = X.to(DEVICE)\n",
    "        with torch.no_grad():\n",
    "            output = torch.argmax(torch.exp(model(X)), dim=1)\n",
    "        y_pred = torch.cat((y_pred, output.view(-1, 1)), dim=0)\n",
    "    \n",
    "    return y_pred[1:].detach().cpu().numpy()"
   ]
  },
  {
   "cell_type": "markdown",
   "id": "6b082c4d",
   "metadata": {
    "papermill": {
     "duration": 0.013465,
     "end_time": "2022-03-28T20:31:48.182514",
     "exception": false,
     "start_time": "2022-03-28T20:31:48.169049",
     "status": "completed"
    },
    "tags": []
   },
   "source": [
    "### **Submission**"
   ]
  },
  {
   "cell_type": "code",
   "execution_count": 9,
   "id": "9d56eea9",
   "metadata": {
    "execution": {
     "iopub.execute_input": "2022-03-28T20:31:48.218046Z",
     "iopub.status.busy": "2022-03-28T20:31:48.217420Z",
     "iopub.status.idle": "2022-03-28T20:53:43.139078Z",
     "shell.execute_reply": "2022-03-28T20:53:43.139943Z",
     "shell.execute_reply.started": "2022-03-28T20:28:05.595373Z"
    },
    "papermill": {
     "duration": 1314.942135,
     "end_time": "2022-03-28T20:53:43.140162",
     "exception": false,
     "start_time": "2022-03-28T20:31:48.198027",
     "status": "completed"
    },
    "tags": []
   },
   "outputs": [
    {
     "name": "stderr",
     "output_type": "stream",
     "text": [
      "/opt/conda/lib/python3.7/site-packages/sklearn/preprocessing/_label.py:154: DataConversionWarning: A column-vector y was passed when a 1d array was expected. Please change the shape of y to (n_samples, ), for example using ravel().\n",
      "  y = column_or_1d(y, warn=True)\n"
     ]
    }
   ],
   "source": [
    "ss_df = pd.read_csv(\"../input/sorghum-id-fgvc-9/sample_submission.csv\")\n",
    "\n",
    "ts_data_setup = DS(\"../input/sorghum-id-fgvc-9/test\", ss_df.filename.copy().values, TRANSFORM)\n",
    "ts_data = DL(ts_data_setup, batch_size=cfg.batch_size, shuffle=False)\n",
    "\n",
    "y_pred = predict(model=MyResnet().to(DEVICE), dataloader=ts_data, path=MODEL_PATH)\n",
    "y_pred = le.inverse_transform(y_pred.astype(\"uint8\"))\n",
    "\n",
    "ss_df[\"cultivar\"] = y_pred\n",
    "ss_df.to_csv(\"submission.csv\", index=False)"
   ]
  }
 ],
 "metadata": {
  "kernelspec": {
   "display_name": "Python 3",
   "language": "python",
   "name": "python3"
  },
  "language_info": {
   "codemirror_mode": {
    "name": "ipython",
    "version": 3
   },
   "file_extension": ".py",
   "mimetype": "text/x-python",
   "name": "python",
   "nbconvert_exporter": "python",
   "pygments_lexer": "ipython3",
   "version": "3.7.12"
  },
  "papermill": {
   "default_parameters": {},
   "duration": 1328.777255,
   "end_time": "2022-03-28T20:53:45.522499",
   "environment_variables": {},
   "exception": null,
   "input_path": "__notebook__.ipynb",
   "output_path": "__notebook__.ipynb",
   "parameters": {},
   "start_time": "2022-03-28T20:31:36.745244",
   "version": "2.3.3"
  }
 },
 "nbformat": 4,
 "nbformat_minor": 5
}
