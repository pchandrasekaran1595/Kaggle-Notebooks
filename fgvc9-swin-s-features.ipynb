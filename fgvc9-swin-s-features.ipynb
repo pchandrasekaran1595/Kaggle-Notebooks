{
 "cells": [
  {
   "cell_type": "code",
   "execution_count": 1,
   "id": "0b7ea40b",
   "metadata": {
    "_cell_guid": "b1076dfc-b9ad-4769-8c92-a6c4dae69d19",
    "_uuid": "8f2839f25d086af736a60e9eeb907d3b93b6e0e5",
    "execution": {
     "iopub.execute_input": "2022-03-24T15:39:57.227843Z",
     "iopub.status.busy": "2022-03-24T15:39:57.226661Z",
     "iopub.status.idle": "2022-03-24T15:39:57.230951Z",
     "shell.execute_reply": "2022-03-24T15:39:57.230328Z",
     "shell.execute_reply.started": "2022-03-24T15:36:38.730508Z"
    },
    "papermill": {
     "duration": 0.015085,
     "end_time": "2022-03-24T15:39:57.231117",
     "exception": false,
     "start_time": "2022-03-24T15:39:57.216032",
     "status": "completed"
    },
    "tags": []
   },
   "outputs": [],
   "source": [
    "# %%bash\n",
    "# pip install transformers -q"
   ]
  },
  {
   "cell_type": "code",
   "execution_count": 2,
   "id": "399acc43",
   "metadata": {
    "execution": {
     "iopub.execute_input": "2022-03-24T15:39:57.247189Z",
     "iopub.status.busy": "2022-03-24T15:39:57.246610Z",
     "iopub.status.idle": "2022-03-24T15:39:57.249547Z",
     "shell.execute_reply": "2022-03-24T15:39:57.250145Z",
     "shell.execute_reply.started": "2022-03-24T15:38:58.153680Z"
    },
    "papermill": {
     "duration": 0.01221,
     "end_time": "2022-03-24T15:39:57.250297",
     "exception": false,
     "start_time": "2022-03-24T15:39:57.238087",
     "status": "completed"
    },
    "tags": []
   },
   "outputs": [],
   "source": [
    "# import os\n",
    "# import cv2\n",
    "# import torch\n",
    "# import pickle\n",
    "# import numpy as np\n",
    "# import pandas as pd\n",
    "\n",
    "# from sklearn.preprocessing import LabelEncoder\n",
    "# from torchvision import transforms\n",
    "# from transformers import AutoFeatureExtractor, SwinModel, SwinConfig"
   ]
  },
  {
   "cell_type": "code",
   "execution_count": 3,
   "id": "d4b50a96",
   "metadata": {
    "execution": {
     "iopub.execute_input": "2022-03-24T15:39:57.265772Z",
     "iopub.status.busy": "2022-03-24T15:39:57.265151Z",
     "iopub.status.idle": "2022-03-24T15:39:57.268292Z",
     "shell.execute_reply": "2022-03-24T15:39:57.268849Z",
     "shell.execute_reply.started": "2022-03-24T15:36:50.198865Z"
    },
    "papermill": {
     "duration": 0.012265,
     "end_time": "2022-03-24T15:39:57.269001",
     "exception": false,
     "start_time": "2022-03-24T15:39:57.256736",
     "status": "completed"
    },
    "tags": []
   },
   "outputs": [],
   "source": [
    "# def load_image(base_path: str, filename: str) -> np.ndarray:\n",
    "#     return cv2.cvtColor(src=cv2.imread(os.path.join(base_path, filename), cv2.IMREAD_COLOR), code=cv2.COLOR_BGR2RGB)\n",
    "\n",
    "# le = LabelEncoder()\n",
    "\n",
    "# NAMES = [\n",
    "#     \"swin-tiny-patch4-window7-224\",\n",
    "#     \"swin-small-patch4-window7-224\",\n",
    "#     \"swin-base-patch4-window7-224\",\n",
    "#     \"swin-base-patch4-window12-384\",\n",
    "# ]"
   ]
  },
  {
   "cell_type": "code",
   "execution_count": 4,
   "id": "9e1bb5bb",
   "metadata": {
    "execution": {
     "iopub.execute_input": "2022-03-24T15:39:57.284535Z",
     "iopub.status.busy": "2022-03-24T15:39:57.283918Z",
     "iopub.status.idle": "2022-03-24T15:39:57.286912Z",
     "shell.execute_reply": "2022-03-24T15:39:57.287461Z",
     "shell.execute_reply.started": "2022-03-24T15:36:50.206081Z"
    },
    "papermill": {
     "duration": 0.012171,
     "end_time": "2022-03-24T15:39:57.287628",
     "exception": false,
     "start_time": "2022-03-24T15:39:57.275457",
     "status": "completed"
    },
    "tags": []
   },
   "outputs": [],
   "source": [
    "# train_df = pd.read_csv(\"../input/sorghum-id-fgvc-9/train_cultivar_mapping.csv\")\n",
    "\n",
    "# broken_images = pickle.load(open(\"../input/fgvc9-broken-images/broken_image_names.pkl\", \"rb\"))\n",
    "# for broken_image in broken_images:\n",
    "#     index = train_df.index[train_df.image == broken_image]\n",
    "#     train_df = train_df.drop(index=index)\n",
    "    \n",
    "# filenames = train_df.image.copy().values\n",
    "# labels    = train_df.cultivar.copy().values \n",
    "\n",
    "# labels = le.fit_transform(labels)\n",
    "# np.save(\"labels.npy\", labels)\n",
    "\n",
    "# features = np.zeros((len(filenames), 768))"
   ]
  },
  {
   "cell_type": "code",
   "execution_count": 5,
   "id": "c9db05e2",
   "metadata": {
    "execution": {
     "iopub.execute_input": "2022-03-24T15:39:57.304100Z",
     "iopub.status.busy": "2022-03-24T15:39:57.302536Z",
     "iopub.status.idle": "2022-03-24T15:39:57.306105Z",
     "shell.execute_reply": "2022-03-24T15:39:57.306621Z",
     "shell.execute_reply.started": "2022-03-24T12:11:54.031225Z"
    },
    "papermill": {
     "duration": 0.012826,
     "end_time": "2022-03-24T15:39:57.306794",
     "exception": false,
     "start_time": "2022-03-24T15:39:57.293968",
     "status": "completed"
    },
    "tags": []
   },
   "outputs": [],
   "source": [
    "# pretrained = AutoFeatureExtractor.from_pretrained(\"microsoft/\" + NAMES[1])\n",
    "# model = SwinModel.from_pretrained(\"microsoft/\" + NAMES[1])\n",
    "\n",
    "# TRANSFORM = transforms.Compose([transforms.ToTensor(), )\n",
    "\n",
    "# # for filename in filenames:\n",
    "# #     image = load_image(\"../input/sorghum-id-fgvc-9/train_images\", filename)\n",
    "# #     inputs = pretrained(image, return_tensors=\"pt\")\n",
    "# #     with torch.no_grad():\n",
    "# #         output = model(inputs[\"pixel_values\"])\n",
    "# #     features = np.concatenate((features, output.last_hidden_state[:, 0, :]), axis=0)\n",
    "\n",
    "# # np.save(\"features.npy\", features)"
   ]
  }
 ],
 "metadata": {
  "kernelspec": {
   "display_name": "Python 3",
   "language": "python",
   "name": "python3"
  },
  "language_info": {
   "codemirror_mode": {
    "name": "ipython",
    "version": 3
   },
   "file_extension": ".py",
   "mimetype": "text/x-python",
   "name": "python",
   "nbconvert_exporter": "python",
   "pygments_lexer": "ipython3",
   "version": "3.7.12"
  },
  "papermill": {
   "default_parameters": {},
   "duration": 9.927462,
   "end_time": "2022-03-24T15:39:57.922539",
   "environment_variables": {},
   "exception": null,
   "input_path": "__notebook__.ipynb",
   "output_path": "__notebook__.ipynb",
   "parameters": {},
   "start_time": "2022-03-24T15:39:47.995077",
   "version": "2.3.3"
  }
 },
 "nbformat": 4,
 "nbformat_minor": 5
}
