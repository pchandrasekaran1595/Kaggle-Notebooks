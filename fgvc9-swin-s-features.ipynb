{
 "cells": [
  {
   "cell_type": "code",
   "execution_count": 1,
   "id": "bebf39d8",
   "metadata": {
    "_cell_guid": "b1076dfc-b9ad-4769-8c92-a6c4dae69d19",
    "_uuid": "8f2839f25d086af736a60e9eeb907d3b93b6e0e5",
    "execution": {
     "iopub.execute_input": "2022-03-24T16:00:13.704698Z",
     "iopub.status.busy": "2022-03-24T16:00:13.700817Z",
     "iopub.status.idle": "2022-03-24T16:00:23.489661Z",
     "shell.execute_reply": "2022-03-24T16:00:23.488876Z",
     "shell.execute_reply.started": "2022-03-24T15:36:38.730508Z"
    },
    "papermill": {
     "duration": 9.807475,
     "end_time": "2022-03-24T16:00:23.489866",
     "exception": false,
     "start_time": "2022-03-24T16:00:13.682391",
     "status": "completed"
    },
    "tags": []
   },
   "outputs": [
    {
     "name": "stderr",
     "output_type": "stream",
     "text": [
      "WARNING: Running pip as the 'root' user can result in broken permissions and conflicting behaviour with the system package manager. It is recommended to use a virtual environment instead: https://pip.pypa.io/warnings/venv\n"
     ]
    }
   ],
   "source": [
    "%%bash\n",
    "pip install transformers -q"
   ]
  },
  {
   "cell_type": "code",
   "execution_count": 2,
   "id": "1bc3663e",
   "metadata": {
    "execution": {
     "iopub.execute_input": "2022-03-24T16:00:23.511378Z",
     "iopub.status.busy": "2022-03-24T16:00:23.510705Z",
     "iopub.status.idle": "2022-03-24T16:00:23.513543Z",
     "shell.execute_reply": "2022-03-24T16:00:23.512844Z",
     "shell.execute_reply.started": "2022-03-24T15:38:58.153680Z"
    },
    "papermill": {
     "duration": 0.015144,
     "end_time": "2022-03-24T16:00:23.513686",
     "exception": false,
     "start_time": "2022-03-24T16:00:23.498542",
     "status": "completed"
    },
    "tags": []
   },
   "outputs": [],
   "source": [
    "# import os\n",
    "# import cv2\n",
    "# import torch\n",
    "# import pickle\n",
    "# import numpy as np\n",
    "\n",
    "# from torchvision import transforms\n",
    "# from torch.utils.data import Dataset\n",
    "# from torch.utils.data import DataLoader as DL\n",
    "# from transformers import AutoFeatureExtractor, SwinForImageClassification, SwinModel, SwinConfig"
   ]
  },
  {
   "cell_type": "code",
   "execution_count": 3,
   "id": "1fdc234a",
   "metadata": {
    "execution": {
     "iopub.execute_input": "2022-03-24T16:00:23.534631Z",
     "iopub.status.busy": "2022-03-24T16:00:23.532518Z",
     "iopub.status.idle": "2022-03-24T16:00:23.536602Z",
     "shell.execute_reply": "2022-03-24T16:00:23.537238Z",
     "shell.execute_reply.started": "2022-03-24T15:36:50.198865Z"
    },
    "papermill": {
     "duration": 0.015667,
     "end_time": "2022-03-24T16:00:23.537409",
     "exception": false,
     "start_time": "2022-03-24T16:00:23.521742",
     "status": "completed"
    },
    "tags": []
   },
   "outputs": [],
   "source": [
    "# def get_image(path: str) -> np.ndarray:\n",
    "#     image = cv2.imread(path, cv2.IMREAD_COLOR)\n",
    "#     image = cv2.cvtColor(src=image, code=cv2.COLOR_BGR2RGB)\n",
    "#     return cv2.resize(src=image, dsize=(224, 224), interpolation=cv2.INTER_AREA)\n",
    "\n",
    "# le = LabelEncoder()\n",
    "\n",
    "# NAMES = [\n",
    "#     \"swin-tiny-patch4-window7-224\",\n",
    "#     \"swin-small-patch4-window7-224\",\n",
    "#     \"swin-base-patch4-window7-224\",\n",
    "#     \"swin-base-patch4-window12-384\",\n",
    "# ]\n",
    "\n",
    "# DEVICE = torch.device(\"cuda\" if torch.cuda.is_available() else \"cpu\")\n",
    "# TRANSFORM = transforms.Compose([transforms.ToTensor(), \n",
    "#                                 transforms.Normalize([0.485, 0.456, 0.406], \n",
    "#                                                      [0.229, 0.224, 0.225]),\n",
    "#                                ])"
   ]
  },
  {
   "cell_type": "code",
   "execution_count": 4,
   "id": "cb9a933c",
   "metadata": {
    "execution": {
     "iopub.execute_input": "2022-03-24T16:00:23.558156Z",
     "iopub.status.busy": "2022-03-24T16:00:23.557179Z",
     "iopub.status.idle": "2022-03-24T16:00:23.559509Z",
     "shell.execute_reply": "2022-03-24T16:00:23.560160Z"
    },
    "papermill": {
     "duration": 0.015114,
     "end_time": "2022-03-24T16:00:23.560333",
     "exception": false,
     "start_time": "2022-03-24T16:00:23.545219",
     "status": "completed"
    },
    "tags": []
   },
   "outputs": [],
   "source": [
    "# class DS(Dataset):\n",
    "#     def __init__(self, base_path: str, filenames: np.ndarray, transform):\n",
    "#         self.images = images\n",
    "#         self.transform = transform\n",
    "    \n",
    "#     def __len__(self):\n",
    "#         return self.images.shape[0]\n",
    "    \n",
    "#     def __getitem__(self, idx):\n",
    "#         return self.transform(self.images[i])"
   ]
  },
  {
   "cell_type": "code",
   "execution_count": 5,
   "id": "b3b03902",
   "metadata": {
    "execution": {
     "iopub.execute_input": "2022-03-24T16:00:23.580326Z",
     "iopub.status.busy": "2022-03-24T16:00:23.579282Z",
     "iopub.status.idle": "2022-03-24T16:00:23.583626Z",
     "shell.execute_reply": "2022-03-24T16:00:23.584248Z",
     "shell.execute_reply.started": "2022-03-24T15:36:50.206081Z"
    },
    "papermill": {
     "duration": 0.016192,
     "end_time": "2022-03-24T16:00:23.584426",
     "exception": false,
     "start_time": "2022-03-24T16:00:23.568234",
     "status": "completed"
    },
    "tags": []
   },
   "outputs": [],
   "source": [
    "# train_df = pd.read_csv(\"../input/sorghum-id-fgvc-9/train_cultivar_mapping.csv\")\n",
    "\n",
    "# broken_images = pickle.load(open(\"../input/fgvc9-broken-images/broken_image_names.pkl\", \"rb\"))\n",
    "# for broken_image in broken_images:\n",
    "#     index = train_df.index[train_df.image == broken_image]\n",
    "#     train_df = train_df.drop(index=index)\n",
    "    \n",
    "# filenames = train_df.image.copy().values\n",
    "# labels    = train_df.cultivar.copy().values \n",
    "\n",
    "# labels = le.fit_transform(labels)\n",
    "# np.save(\"labels.npy\", labels)\n",
    "\n",
    "# features = np.zeros((len(filenames), 768))"
   ]
  },
  {
   "cell_type": "code",
   "execution_count": 6,
   "id": "f7d9584d",
   "metadata": {
    "execution": {
     "iopub.execute_input": "2022-03-24T16:00:23.604427Z",
     "iopub.status.busy": "2022-03-24T16:00:23.603444Z",
     "iopub.status.idle": "2022-03-24T16:00:23.606738Z",
     "shell.execute_reply": "2022-03-24T16:00:23.607557Z",
     "shell.execute_reply.started": "2022-03-24T12:11:54.031225Z"
    },
    "papermill": {
     "duration": 0.015279,
     "end_time": "2022-03-24T16:00:23.607758",
     "exception": false,
     "start_time": "2022-03-24T16:00:23.592479",
     "status": "completed"
    },
    "tags": []
   },
   "outputs": [],
   "source": [
    "# pretrained = AutoFeatureExtractor.from_pretrained(\"microsoft/\" + NAMES[1])\n",
    "# model = SwinModel.from_pretrained(\"microsoft/\" + NAMES[1])"
   ]
  }
 ],
 "metadata": {
  "kernelspec": {
   "display_name": "Python 3",
   "language": "python",
   "name": "python3"
  },
  "language_info": {
   "codemirror_mode": {
    "name": "ipython",
    "version": 3
   },
   "file_extension": ".py",
   "mimetype": "text/x-python",
   "name": "python",
   "nbconvert_exporter": "python",
   "pygments_lexer": "ipython3",
   "version": "3.7.12"
  },
  "papermill": {
   "default_parameters": {},
   "duration": 20.8205,
   "end_time": "2022-03-24T16:00:24.327154",
   "environment_variables": {},
   "exception": null,
   "input_path": "__notebook__.ipynb",
   "output_path": "__notebook__.ipynb",
   "parameters": {},
   "start_time": "2022-03-24T16:00:03.506654",
   "version": "2.3.3"
  }
 },
 "nbformat": 4,
 "nbformat_minor": 5
}
