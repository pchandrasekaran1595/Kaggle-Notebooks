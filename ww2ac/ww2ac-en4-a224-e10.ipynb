{
 "cells": [
  {
   "cell_type": "markdown",
   "id": "8db44e43",
   "metadata": {
    "_cell_guid": "b1076dfc-b9ad-4769-8c92-a6c4dae69d19",
    "_uuid": "8f2839f25d086af736a60e9eeb907d3b93b6e0e5",
    "papermill": {
     "duration": 0.004653,
     "end_time": "2023-01-15T11:15:18.676231",
     "exception": false,
     "start_time": "2023-01-15T11:15:18.671578",
     "status": "completed"
    },
    "tags": []
   },
   "source": [
    "### **Setup**"
   ]
  },
  {
   "cell_type": "code",
   "execution_count": 1,
   "id": "e1915c16",
   "metadata": {
    "execution": {
     "iopub.execute_input": "2023-01-15T11:15:18.685219Z",
     "iopub.status.busy": "2023-01-15T11:15:18.684797Z",
     "iopub.status.idle": "2023-01-15T11:15:29.698555Z",
     "shell.execute_reply": "2023-01-15T11:15:29.696817Z"
    },
    "papermill": {
     "duration": 11.020755,
     "end_time": "2023-01-15T11:15:29.700872",
     "exception": false,
     "start_time": "2023-01-15T11:15:18.680117",
     "status": "completed"
    },
    "tags": []
   },
   "outputs": [
    {
     "name": "stderr",
     "output_type": "stream",
     "text": [
      "WARNING: Running pip as the 'root' user can result in broken permissions and conflicting behaviour with the system package manager. It is recommended to use a virtual environment instead: https://pip.pypa.io/warnings/venv\n"
     ]
    }
   ],
   "source": [
    "%%bash\n",
    "pip install timm -q"
   ]
  },
  {
   "cell_type": "markdown",
   "id": "6b251cb0",
   "metadata": {
    "papermill": {
     "duration": 0.004343,
     "end_time": "2023-01-15T11:15:29.709342",
     "exception": false,
     "start_time": "2023-01-15T11:15:29.704999",
     "status": "completed"
    },
    "tags": []
   },
   "source": [
    "### **Library Imports**"
   ]
  },
  {
   "cell_type": "code",
   "execution_count": 2,
   "id": "bf47125d",
   "metadata": {
    "execution": {
     "iopub.execute_input": "2023-01-15T11:15:29.727006Z",
     "iopub.status.busy": "2023-01-15T11:15:29.725918Z",
     "iopub.status.idle": "2023-01-15T11:15:33.511563Z",
     "shell.execute_reply": "2023-01-15T11:15:33.510470Z"
    },
    "papermill": {
     "duration": 3.796841,
     "end_time": "2023-01-15T11:15:33.514052",
     "exception": false,
     "start_time": "2023-01-15T11:15:29.717211",
     "status": "completed"
    },
    "tags": []
   },
   "outputs": [],
   "source": [
    "import os\n",
    "import re\n",
    "import cv2\n",
    "import timm\n",
    "import torch\n",
    "import numpy as np\n",
    "import pandas as pd\n",
    "import matplotlib.pyplot as plt\n",
    "\n",
    "from time import time\n",
    "from typing import Union\n",
    "from torch import nn, optim\n",
    "from torch.utils.data import Dataset\n",
    "from torch.utils.data import DataLoader as DL\n",
    "from torchvision import transforms\n",
    "\n",
    "from sklearn.model_selection import StratifiedKFold"
   ]
  },
  {
   "cell_type": "markdown",
   "id": "0a2f84dd",
   "metadata": {
    "papermill": {
     "duration": 0.003447,
     "end_time": "2023-01-15T11:15:33.521471",
     "exception": false,
     "start_time": "2023-01-15T11:15:33.518024",
     "status": "completed"
    },
    "tags": []
   },
   "source": [
    "### **Utilities and Helpers**"
   ]
  },
  {
   "cell_type": "code",
   "execution_count": 3,
   "id": "ecb5648f",
   "metadata": {
    "execution": {
     "iopub.execute_input": "2023-01-15T11:15:33.530017Z",
     "iopub.status.busy": "2023-01-15T11:15:33.529717Z",
     "iopub.status.idle": "2023-01-15T11:15:33.541644Z",
     "shell.execute_reply": "2023-01-15T11:15:33.540700Z"
    },
    "papermill": {
     "duration": 0.018471,
     "end_time": "2023-01-15T11:15:33.543529",
     "exception": false,
     "start_time": "2023-01-15T11:15:33.525058",
     "status": "completed"
    },
    "tags": []
   },
   "outputs": [],
   "source": [
    "SEED: int = 42\n",
    "SIZE: int = 224\n",
    "\n",
    "\n",
    "def breaker(num: int=50, char: str=\"*\") -> None: print(\"\\n\" + num*char + \"\\n\")\n",
    "\n",
    "    \n",
    "def get_image(path: str, size: int=224) -> np.ndarray:\n",
    "    image = cv2.imread(path, cv2.IMREAD_COLOR)\n",
    "    image = cv2.cvtColor(src=image, code=cv2.COLOR_BGR2RGB)\n",
    "    return cv2.resize(src=image, dsize=(size, size), interpolation=cv2.INTER_AREA)\n",
    "\n",
    "    \n",
    "def show_loss_graphs(L: list) -> None:\n",
    "    TL, VL = [], []\n",
    "    for i in range(len(L)):\n",
    "        TL.append(L[i][\"train\"])\n",
    "        VL.append(L[i][\"valid\"])\n",
    "    x_Axis = np.arange(1, len(TL) + 1)\n",
    "    plt.figure()\n",
    "    plt.plot(x_Axis, TL, \"r\", label=\"Train\")\n",
    "    plt.plot(x_Axis, VL, \"b\", label=\"Valid\")\n",
    "    plt.legend()\n",
    "    plt.grid()\n",
    "    plt.title(\"Loss Graph\")\n",
    "    plt.show()\n",
    "\n",
    "    \n",
    "def show_accuracy_graphs(A: list) -> None:\n",
    "    TA, VA = [], []\n",
    "    for i in range(len(A)):\n",
    "        TA.append(A[i][\"train\"])\n",
    "        VA.append(A[i][\"valid\"])\n",
    "    x_Axis = np.arange(1, len(TA) + 1)\n",
    "    plt.figure()\n",
    "    plt.plot(x_Axis, TA, \"r\", label=\"Train\")\n",
    "    plt.plot(x_Axis, VA, \"b\", label=\"Valid\")\n",
    "    plt.legend()\n",
    "    plt.grid()\n",
    "    plt.title(\"Accuracy Graph\")\n",
    "    plt.show()\n",
    "    \n",
    "\n",
    "def show_lr_graph(LR: list) -> None:\n",
    "    x_Axis = [i+1 for i in range(len(LR))]\n",
    "    plt.figure(figsize=(8, 6))\n",
    "    plt.plot(x_Axis, LR, \"rx\")\n",
    "    plt.grid()\n",
    "    plt.show()"
   ]
  },
  {
   "cell_type": "markdown",
   "id": "f524555d",
   "metadata": {
    "papermill": {
     "duration": 0.003637,
     "end_time": "2023-01-15T11:15:33.550754",
     "exception": false,
     "start_time": "2023-01-15T11:15:33.547117",
     "status": "completed"
    },
    "tags": []
   },
   "source": [
    "\n",
    "\n",
    "### **Configuration**"
   ]
  },
  {
   "cell_type": "code",
   "execution_count": 4,
   "id": "c69d4fc2",
   "metadata": {
    "execution": {
     "iopub.execute_input": "2023-01-15T11:15:33.559820Z",
     "iopub.status.busy": "2023-01-15T11:15:33.559029Z",
     "iopub.status.idle": "2023-01-15T11:15:33.623873Z",
     "shell.execute_reply": "2023-01-15T11:15:33.623005Z"
    },
    "papermill": {
     "duration": 0.071791,
     "end_time": "2023-01-15T11:15:33.626033",
     "exception": false,
     "start_time": "2023-01-15T11:15:33.554242",
     "status": "completed"
    },
    "tags": []
   },
   "outputs": [],
   "source": [
    "class CFG(object):\n",
    "    def __init__(self, \n",
    "                 seed: int = 42,\n",
    "                 size: int = 224,\n",
    "                 n_splits: int = 5,\n",
    "                 batch_size: int = 16,\n",
    "                 epochs: int = 25,\n",
    "                 early_stopping: int = 5,\n",
    "                 lr: float = 1e-4,\n",
    "                 wd: float = 0.0,\n",
    "                 max_lr: float = 1e-3,\n",
    "                 pct_start: float = 0.2,\n",
    "                 steps_per_epoch: int = 100,\n",
    "                 div_factor: int = 1e3, \n",
    "                 final_div_factor: float = 1e3,\n",
    "                 ):\n",
    "        self.seed = seed\n",
    "        self.size = size\n",
    "        self.n_splits = n_splits\n",
    "        self.batch_size = batch_size\n",
    "        self.epochs = epochs\n",
    "        self.early_stopping = early_stopping\n",
    "        self.lr = lr\n",
    "        self.wd = wd\n",
    "        self.max_lr = max_lr\n",
    "        self.pct_start = pct_start\n",
    "        self.steps_per_epoch = steps_per_epoch\n",
    "        self.div_factor = div_factor\n",
    "        self.final_div_factor = final_div_factor\n",
    "        self.device = torch.device(\"cuda\" if torch.cuda.is_available() else \"cpu\")\n",
    "        \n",
    "        if self.size == 224:\n",
    "            self.train_transform = transforms.Compose([\n",
    "                transforms.ToTensor(),\n",
    "                transforms.Normalize([0.54935, 0.57196, 0.58183], [0.22037, 0.21962, 0.23291]),\n",
    "                transforms.RandomAffine(degrees=(-45, 45), translate=(0.15, 0.15), scale=(0.5, 1.5)),\n",
    "                transforms.RandomHorizontalFlip(p=0.25),\n",
    "                transforms.RandomVerticalFlip(p=0.25),\n",
    "            ])\n",
    "            self.valid_transform = transforms.Compose([\n",
    "                transforms.ToTensor(),\n",
    "                transforms.Normalize([0.54935, 0.57196, 0.58183], [0.22037, 0.21962, 0.23291]),\n",
    "            ])\n",
    "        \n",
    "        if self.size == 384:\n",
    "            self.train_transform = transforms.Compose([\n",
    "                transforms.ToTensor(),\n",
    "                transforms.Normalize([0.54935, 0.57196, 0.58183], [0.22037, 0.21962, 0.23291]),\n",
    "                transforms.RandomAffine(degrees=(-45, 45), translate=(0.15, 0.15), scale=(0.5, 1.5)),\n",
    "                transforms.RandomHorizontalFlip(p=0.25),\n",
    "                transforms.RandomVerticalFlip(p=0.25),\n",
    "            ])\n",
    "            self.valid_transform = transforms.Compose([\n",
    "                transforms.ToTensor(),\n",
    "                transforms.Normalize([0.54935, 0.57196, 0.58183], [0.22037, 0.21962, 0.23291]),\n",
    "            ])\n",
    "        \n",
    "        if self.size == 512:\n",
    "            self.train_transform = transforms.Compose([\n",
    "                transforms.ToTensor(),\n",
    "                transforms.Normalize([0.54935, 0.57196, 0.58183], [0.22037, 0.21962, 0.23291]),\n",
    "                transforms.RandomAffine(degrees=(-45, 45), translate=(0.15, 0.15), scale=(0.5, 1.5)),\n",
    "                transforms.RandomHorizontalFlip(p=0.25),\n",
    "                transforms.RandomVerticalFlip(p=0.25),\n",
    "            ])\n",
    "            self.valid_transform = transforms.Compose([\n",
    "                transforms.ToTensor(),\n",
    "                transforms.Normalize([0.54935, 0.57196, 0.58183], [0.22037, 0.21962, 0.23291]),\n",
    "            ])\n",
    "                                \n",
    "        self.save_path = \"saves\"\n",
    "        if not os.path.exists(self.save_path): os.makedirs(self.save_path)\n",
    "    \n",
    "cfg = CFG(\n",
    "    seed=SEED, \n",
    "    size=SIZE\n",
    ")"
   ]
  },
  {
   "cell_type": "markdown",
   "id": "1f677162",
   "metadata": {
    "papermill": {
     "duration": 0.003439,
     "end_time": "2023-01-15T11:15:33.633279",
     "exception": false,
     "start_time": "2023-01-15T11:15:33.629840",
     "status": "completed"
    },
    "tags": []
   },
   "source": [
    "### **Dataset Template**"
   ]
  },
  {
   "cell_type": "code",
   "execution_count": 5,
   "id": "9ea8d56a",
   "metadata": {
    "execution": {
     "iopub.execute_input": "2023-01-15T11:15:33.642416Z",
     "iopub.status.busy": "2023-01-15T11:15:33.641556Z",
     "iopub.status.idle": "2023-01-15T11:15:33.648796Z",
     "shell.execute_reply": "2023-01-15T11:15:33.647976Z"
    },
    "papermill": {
     "duration": 0.013637,
     "end_time": "2023-01-15T11:15:33.650685",
     "exception": false,
     "start_time": "2023-01-15T11:15:33.637048",
     "status": "completed"
    },
    "tags": []
   },
   "outputs": [],
   "source": [
    "class DS(Dataset):\n",
    "    def __init__(\n",
    "        self, \n",
    "        filepaths: np.ndarray, \n",
    "        size: int,\n",
    "        labels: Union[np.ndarray, None]=None, \n",
    "        transform=None\n",
    "    ):\n",
    "        \n",
    "        self.filepaths = filepaths\n",
    "        self.labels = labels\n",
    "        self.size = size\n",
    "        self.transform = transform\n",
    "    \n",
    "    def __len__(self):\n",
    "        return self.filepaths.shape[0]\n",
    "    \n",
    "    def __getitem__(self, idx):\n",
    "        image = get_image(self.filepaths[idx], self.size)\n",
    "        if self.labels is None:\n",
    "            return self.transform(image)\n",
    "        return self.transform(image), torch.LongTensor(self.labels[idx])"
   ]
  },
  {
   "cell_type": "markdown",
   "id": "6fb28079",
   "metadata": {
    "papermill": {
     "duration": 0.00354,
     "end_time": "2023-01-15T11:15:33.657990",
     "exception": false,
     "start_time": "2023-01-15T11:15:33.654450",
     "status": "completed"
    },
    "tags": []
   },
   "source": [
    "### **Model**"
   ]
  },
  {
   "cell_type": "code",
   "execution_count": 6,
   "id": "8f54950b",
   "metadata": {
    "execution": {
     "iopub.execute_input": "2023-01-15T11:15:33.666535Z",
     "iopub.status.busy": "2023-01-15T11:15:33.666284Z",
     "iopub.status.idle": "2023-01-15T11:15:33.672463Z",
     "shell.execute_reply": "2023-01-15T11:15:33.671661Z"
    },
    "papermill": {
     "duration": 0.012869,
     "end_time": "2023-01-15T11:15:33.674520",
     "exception": false,
     "start_time": "2023-01-15T11:15:33.661651",
     "status": "completed"
    },
    "tags": []
   },
   "outputs": [],
   "source": [
    "class Model(nn.Module):\n",
    "    def __init__(self):\n",
    "        super(Model, self).__init__()\n",
    "            \n",
    "        self.model = timm.create_model(model_name=\"efficientnet_b4\", pretrained=True)\n",
    "        self.model.classifier = nn.Linear(in_features=self.model.classifier.in_features, out_features=30)\n",
    "\n",
    "    def forward(self, x):\n",
    "        return nn.LogSoftmax(dim=1)(self.model(x))"
   ]
  },
  {
   "cell_type": "markdown",
   "id": "64425419",
   "metadata": {
    "papermill": {
     "duration": 0.003678,
     "end_time": "2023-01-15T11:15:33.681954",
     "exception": false,
     "start_time": "2023-01-15T11:15:33.678276",
     "status": "completed"
    },
    "tags": []
   },
   "source": [
    "### **Fit and Predict**"
   ]
  },
  {
   "cell_type": "code",
   "execution_count": 7,
   "id": "192d78ec",
   "metadata": {
    "execution": {
     "iopub.execute_input": "2023-01-15T11:15:33.690769Z",
     "iopub.status.busy": "2023-01-15T11:15:33.690500Z",
     "iopub.status.idle": "2023-01-15T11:15:33.710912Z",
     "shell.execute_reply": "2023-01-15T11:15:33.710026Z"
    },
    "papermill": {
     "duration": 0.027184,
     "end_time": "2023-01-15T11:15:33.712885",
     "exception": false,
     "start_time": "2023-01-15T11:15:33.685701",
     "status": "completed"
    },
    "tags": []
   },
   "outputs": [],
   "source": [
    "def fit(\n",
    "    model=None,\n",
    "    optimizer=None, \n",
    "    scheduler_rlrop=None,\n",
    "    scheduler_oclr=None,\n",
    "    epochs=None, \n",
    "    early_stopping_patience=None, \n",
    "    dataloaders=None, \n",
    "    fold=None, \n",
    "    save_path=None,\n",
    "    device=None,\n",
    "    verbose=False\n",
    ") -> tuple:\n",
    "    \n",
    "    def get_accuracy(y_pred, y_true):\n",
    "        y_pred = torch.argmax(y_pred, dim=1)\n",
    "        return torch.count_nonzero(y_pred == y_true).item() / len(y_pred)\n",
    "    \n",
    "    \n",
    "    if verbose:\n",
    "        breaker()\n",
    "        if fold: print(f\"Training Fold {fold}...\")\n",
    "        else: print(\"Training ...\")\n",
    "        breaker()\n",
    "        \n",
    "    bestLoss: dict = {\"train\" : np.inf, \"valid\" : np.inf} \n",
    "    bestAccs: dict = {\"train\" : 0.0, \"valid\" : 0.0}\n",
    "    \n",
    "    Losses: list = []\n",
    "    Accuracies: list = [] \n",
    "    LRs: list = []\n",
    "        \n",
    "    if fold: \n",
    "        ble_name = f\"ble_state_fold_{fold}.pt\"\n",
    "        bae_name = f\"bae_state_fold_{fold}.pt\"\n",
    "    else: \n",
    "        ble_name = f\"ble_state.pt\"\n",
    "        bae_name = f\"bae_state.pt\"\n",
    "        \n",
    "    start_time = time()\n",
    "    for e in range(epochs):\n",
    "        e_st = time()\n",
    "        epochLoss: dict = {\"train\" : 0.0, \"valid\" : 0.0} \n",
    "        epochAccs: dict = {\"train\" : 0.0, \"valid\" : 0.0}\n",
    "\n",
    "        for phase in [\"train\", \"valid\"]:\n",
    "            if phase == \"train\":\n",
    "                model.train()\n",
    "            else:\n",
    "                model.eval()\n",
    "            \n",
    "            lossPerPass: list = []\n",
    "            accsPerPass: list = []\n",
    "                \n",
    "            for X, y in dataloaders[phase]:\n",
    "                X, y = X.to(device), y.to(device).view(-1)\n",
    "\n",
    "                optimizer.zero_grad()\n",
    "                with torch.set_grad_enabled(phase == \"train\"):\n",
    "                    output = model(X)\n",
    "                    loss = nn.NLLLoss()(output, y)\n",
    "                    if phase == \"train\":\n",
    "                        loss.backward()\n",
    "                        optimizer.step()\n",
    "                        if scheduler_oclr: scheduler_oclr.step()\n",
    "                lossPerPass.append(loss.item())\n",
    "                accsPerPass.append(get_accuracy(output, y))\n",
    "            epochLoss[phase] = np.mean(np.array(lossPerPass))\n",
    "            epochAccs[phase] = np.mean(np.array(accsPerPass))\n",
    "        if scheduler_oclr: LRs.append(scheduler_oclr.get_last_lr())\n",
    "        Losses.append(epochLoss)\n",
    "        Accuracies.append(epochAccs)\n",
    "        \n",
    "        if scheduler_oclr:\n",
    "            save_dict = {\"model_state_dict\"     : model.state_dict(),\n",
    "                         \"optim_state_dict\"     : optimizer.state_dict(),\n",
    "                         \"scheduler_state_dict\" : scheduler_oclr.state_dict()}\n",
    "        \n",
    "        elif scheduler_rlrop:\n",
    "            save_dict = {\"model_state_dict\"     : model.state_dict(),\n",
    "                         \"optim_state_dict\"     : optimizer.state_dict(),\n",
    "                         \"scheduler_state_dict\" : scheduler_rlrop.state_dict()}\n",
    "        \n",
    "        else:\n",
    "            save_dict = {\"model_state_dict\"     : model.state_dict(),\n",
    "                         \"optim_state_dict\"     : optimizer.state_dict()}\n",
    "        \n",
    "        if early_stopping_patience:\n",
    "            if epochLoss[\"valid\"] < bestLoss[\"valid\"]:\n",
    "                bestLoss = epochLoss\n",
    "                BLE = e + 1\n",
    "                torch.save(save_dict, os.path.join(save_path, ble_name))\n",
    "                torch.save(save_dict, os.path.join(save_path, bae_name))\n",
    "                early_stopping_step = 0\n",
    "            else:\n",
    "                early_stopping_step += 1\n",
    "                if early_stopping_step > early_stopping_patience:\n",
    "                    print(\"\\nEarly Stopping at Epoch {}\".format(e + 1))\n",
    "                    break\n",
    "        \n",
    "        if epochLoss[\"valid\"] < bestLoss[\"valid\"]:\n",
    "            bestLoss = epochLoss\n",
    "            BLE = e + 1\n",
    "            torch.save(save_dict,os.path.join(save_path, ble_name))\n",
    "        \n",
    "        if epochAccs[\"valid\"] > bestAccs[\"valid\"]:\n",
    "            bestAccs = epochAccs\n",
    "            BAE = e + 1\n",
    "            torch.save(save_dict,os.path.join(save_path, bae_name))\n",
    "        \n",
    "        if scheduler_rlrop: scheduler_rlrop.step(epochLoss[\"valid\"])\n",
    "        \n",
    "        if verbose:\n",
    "            print(\"Epoch: {} | Train Loss: {:.5f} | Valid Loss: {:.5f} |\\\n",
    " Train Accs: {:.5f} | Valid Accs: {:.5f} | Time: {:.2f} seconds\".format(e+1, \n",
    "                                                                        epochLoss[\"train\"], epochLoss[\"valid\"], \n",
    "                                                                        epochAccs[\"train\"], epochAccs[\"valid\"], \n",
    "                                                                        time()-e_st))\n",
    "\n",
    "    if verbose:                                           \n",
    "        breaker()\n",
    "        print(f\"Best Validation Loss at Epoch {BLE}\")\n",
    "        breaker()\n",
    "        print(f\"Best Validation Accs at Epoch {BAE}\")\n",
    "        breaker()\n",
    "        print(\"Time Taken [{} Epochs] : {:.2f} minutes\".format(len(Losses), (time()-start_time)/60))\n",
    "    \n",
    "    return Losses, Accuracies, LRs, bestLoss, bestAccs, BLE, BAE, ble_name, bae_name\n",
    "\n",
    "\n",
    "# def predict_batch(model=None, dataloader=None, path=None, device=None) -> np.ndarray:\n",
    "#     model.load_state_dict(torch.load(path, map_location=device)[\"model_state_dict\"])\n",
    "#     model.to(device)    \n",
    "#     model.eval()\n",
    "    \n",
    "#     y_pred = torch.zeros(1, 1).to(device)\n",
    "    \n",
    "#     for X in dataloader:\n",
    "#         X = X.to(device)\n",
    "#         with torch.no_grad():\n",
    "#             output = torch.argmax(torch.exp(model(X)), dim=1)\n",
    "#         y_pred = torch.cat((y_pred, output.view(-1, 1)), dim=0)\n",
    "    \n",
    "#     return y_pred[1:].detach().cpu().numpy()"
   ]
  },
  {
   "cell_type": "markdown",
   "id": "f3e83294",
   "metadata": {
    "papermill": {
     "duration": 0.004603,
     "end_time": "2023-01-15T11:15:33.721513",
     "exception": false,
     "start_time": "2023-01-15T11:15:33.716910",
     "status": "completed"
    },
    "tags": []
   },
   "source": [
    "### **Train**"
   ]
  },
  {
   "cell_type": "code",
   "execution_count": 8,
   "id": "9502cfc2",
   "metadata": {
    "execution": {
     "iopub.execute_input": "2023-01-15T11:15:33.730110Z",
     "iopub.status.busy": "2023-01-15T11:15:33.729865Z",
     "iopub.status.idle": "2023-01-15T11:15:33.779119Z",
     "shell.execute_reply": "2023-01-15T11:15:33.778298Z"
    },
    "papermill": {
     "duration": 0.055825,
     "end_time": "2023-01-15T11:15:33.781095",
     "exception": false,
     "start_time": "2023-01-15T11:15:33.725270",
     "status": "completed"
    },
    "tags": []
   },
   "outputs": [],
   "source": [
    "df = pd.read_csv(\"/kaggle/input/ww2ac-dataframe/train.csv\")\n",
    "\n",
    "filepaths = df.filepaths.copy().values\n",
    "labels = df.labels.copy().values"
   ]
  },
  {
   "cell_type": "code",
   "execution_count": 9,
   "id": "3679a8a7",
   "metadata": {
    "execution": {
     "iopub.execute_input": "2023-01-15T11:15:33.790553Z",
     "iopub.status.busy": "2023-01-15T11:15:33.789847Z",
     "iopub.status.idle": "2023-01-15T12:47:38.999279Z",
     "shell.execute_reply": "2023-01-15T12:47:38.998330Z"
    },
    "papermill": {
     "duration": 5525.216214,
     "end_time": "2023-01-15T12:47:39.001324",
     "exception": false,
     "start_time": "2023-01-15T11:15:33.785110",
     "status": "completed"
    },
    "tags": []
   },
   "outputs": [
    {
     "name": "stderr",
     "output_type": "stream",
     "text": [
      "Downloading: \"https://github.com/rwightman/pytorch-image-models/releases/download/v0.1-weights/efficientnet_b4_ra2_320-7eb33cd5.pth\" to /root/.cache/torch/hub/checkpoints/efficientnet_b4_ra2_320-7eb33cd5.pth\n"
     ]
    },
    {
     "name": "stdout",
     "output_type": "stream",
     "text": [
      "\n",
      "**************************************************\n",
      "\n",
      "Training Fold 1...\n",
      "\n",
      "**************************************************\n",
      "\n",
      "Epoch: 1 | Train Loss: 3.35963 | Valid Loss: 3.12587 | Train Accs: 0.07018 | Valid Accs: 0.18667 | Time: 171.06 seconds\n",
      "Epoch: 2 | Train Loss: 2.00517 | Valid Loss: 1.43916 | Train Accs: 0.41861 | Valid Accs: 0.58316 | Time: 107.91 seconds\n",
      "Epoch: 3 | Train Loss: 1.01683 | Valid Loss: 1.06261 | Train Accs: 0.68891 | Valid Accs: 0.68904 | Time: 107.83 seconds\n",
      "Epoch: 4 | Train Loss: 0.63641 | Valid Loss: 0.89011 | Train Accs: 0.80501 | Valid Accs: 0.72940 | Time: 109.55 seconds\n",
      "Epoch: 5 | Train Loss: 0.45136 | Valid Loss: 0.86205 | Train Accs: 0.85934 | Valid Accs: 0.75231 | Time: 108.35 seconds\n",
      "Epoch: 6 | Train Loss: 0.32529 | Valid Loss: 0.78201 | Train Accs: 0.89610 | Valid Accs: 0.77817 | Time: 107.41 seconds\n",
      "Epoch: 7 | Train Loss: 0.22289 | Valid Loss: 0.71755 | Train Accs: 0.93067 | Valid Accs: 0.80670 | Time: 114.76 seconds\n",
      "Epoch: 8 | Train Loss: 0.19410 | Valid Loss: 0.70946 | Train Accs: 0.94149 | Valid Accs: 0.81132 | Time: 123.46 seconds\n",
      "Epoch: 9 | Train Loss: 0.14293 | Valid Loss: 0.76017 | Train Accs: 0.95642 | Valid Accs: 0.79581 | Time: 104.90 seconds\n",
      "Epoch: 10 | Train Loss: 0.11499 | Valid Loss: 0.70862 | Train Accs: 0.96576 | Valid Accs: 0.82167 | Time: 106.79 seconds\n",
      "\n",
      "**************************************************\n",
      "\n",
      "Best Validation Loss at Epoch 10\n",
      "\n",
      "**************************************************\n",
      "\n",
      "Best Validation Accs at Epoch 10\n",
      "\n",
      "**************************************************\n",
      "\n",
      "Time Taken [10 Epochs] : 19.37 minutes\n",
      "\n",
      "**************************************************\n",
      "\n"
     ]
    },
    {
     "data": {
      "image/png": "[encoded data removed]",
      "text/plain": [
       "<Figure size 432x288 with 1 Axes>"
      ]
     },
     "metadata": {
      "needs_background": "light"
     },
     "output_type": "display_data"
    },
    {
     "name": "stdout",
     "output_type": "stream",
     "text": [
      "\n",
      "**************************************************\n",
      "\n"
     ]
    },
    {
     "data": {
      "image/png": "[encoded data removed]",
      "text/plain": [
       "<Figure size 432x288 with 1 Axes>"
      ]
     },
     "metadata": {
      "needs_background": "light"
     },
     "output_type": "display_data"
    },
    {
     "name": "stdout",
     "output_type": "stream",
     "text": [
      "\n",
      "**************************************************\n",
      "\n"
     ]
    },
    {
     "data": {
      "image/png": "[encoded data removed]",
      "text/plain": [
       "<Figure size 576x432 with 1 Axes>"
      ]
     },
     "metadata": {
      "needs_background": "light"
     },
     "output_type": "display_data"
    },
    {
     "name": "stdout",
     "output_type": "stream",
     "text": [
      "\n",
      "**************************************************\n",
      "\n",
      "\n",
      "**************************************************\n",
      "\n",
      "Training Fold 2...\n",
      "\n",
      "**************************************************\n",
      "\n",
      "Epoch: 1 | Train Loss: 3.36432 | Valid Loss: 3.15283 | Train Accs: 0.06736 | Valid Accs: 0.18140 | Time: 106.91 seconds\n",
      "Epoch: 2 | Train Loss: 2.03526 | Valid Loss: 1.46644 | Train Accs: 0.41830 | Valid Accs: 0.55262 | Time: 107.27 seconds\n",
      "Epoch: 3 | Train Loss: 1.01101 | Valid Loss: 1.07912 | Train Accs: 0.69857 | Valid Accs: 0.69478 | Time: 108.36 seconds\n",
      "Epoch: 4 | Train Loss: 0.66162 | Valid Loss: 0.91057 | Train Accs: 0.79617 | Valid Accs: 0.74290 | Time: 107.50 seconds\n",
      "Epoch: 5 | Train Loss: 0.44342 | Valid Loss: 0.86141 | Train Accs: 0.86435 | Valid Accs: 0.75527 | Time: 107.44 seconds\n",
      "Epoch: 6 | Train Loss: 0.31699 | Valid Loss: 0.86078 | Train Accs: 0.90058 | Valid Accs: 0.76438 | Time: 108.28 seconds\n",
      "Epoch: 7 | Train Loss: 0.23741 | Valid Loss: 0.79374 | Train Accs: 0.92468 | Valid Accs: 0.79048 | Time: 111.61 seconds\n",
      "Epoch: 8 | Train Loss: 0.17975 | Valid Loss: 0.77901 | Train Accs: 0.93983 | Valid Accs: 0.80155 | Time: 107.47 seconds\n",
      "Epoch: 9 | Train Loss: 0.13202 | Valid Loss: 0.80225 | Train Accs: 0.96042 | Valid Accs: 0.80025 | Time: 104.70 seconds\n",
      "Epoch: 10 | Train Loss: 0.12473 | Valid Loss: 0.77224 | Train Accs: 0.95892 | Valid Accs: 0.81581 | Time: 113.06 seconds\n",
      "\n",
      "**************************************************\n",
      "\n",
      "Best Validation Loss at Epoch 10\n",
      "\n",
      "**************************************************\n",
      "\n",
      "Best Validation Accs at Epoch 10\n",
      "\n",
      "**************************************************\n",
      "\n",
      "Time Taken [10 Epochs] : 18.04 minutes\n",
      "\n",
      "**************************************************\n",
      "\n"
     ]
    },
    {
     "data": {
      "image/png": "[encoded data removed]",
      "text/plain": [
       "<Figure size 432x288 with 1 Axes>"
      ]
     },
     "metadata": {
      "needs_background": "light"
     },
     "output_type": "display_data"
    },
    {
     "name": "stdout",
     "output_type": "stream",
     "text": [
      "\n",
      "**************************************************\n",
      "\n"
     ]
    },
    {
     "data": {
      "image/png": "[encoded data removed]",
      "text/plain": [
       "<Figure size 432x288 with 1 Axes>"
      ]
     },
     "metadata": {
      "needs_background": "light"
     },
     "output_type": "display_data"
    },
    {
     "name": "stdout",
     "output_type": "stream",
     "text": [
      "\n",
      "**************************************************\n",
      "\n"
     ]
    },
    {
     "data": {
      "image/png": "[encoded data removed]",
      "text/plain": [
       "<Figure size 576x432 with 1 Axes>"
      ]
     },
     "metadata": {
      "needs_background": "light"
     },
     "output_type": "display_data"
    },
    {
     "name": "stdout",
     "output_type": "stream",
     "text": [
      "\n",
      "**************************************************\n",
      "\n",
      "\n",
      "**************************************************\n",
      "\n",
      "Training Fold 3...\n",
      "\n",
      "**************************************************\n",
      "\n",
      "Epoch: 1 | Train Loss: 3.36125 | Valid Loss: 3.11248 | Train Accs: 0.06646 | Valid Accs: 0.16217 | Time: 112.52 seconds\n",
      "Epoch: 2 | Train Loss: 1.94690 | Valid Loss: 1.34652 | Train Accs: 0.44066 | Valid Accs: 0.59208 | Time: 110.02 seconds\n",
      "Epoch: 3 | Train Loss: 0.96341 | Valid Loss: 1.07776 | Train Accs: 0.70686 | Valid Accs: 0.67628 | Time: 108.74 seconds\n",
      "Epoch: 4 | Train Loss: 0.64611 | Valid Loss: 1.05423 | Train Accs: 0.80094 | Valid Accs: 0.70418 | Time: 109.02 seconds\n",
      "Epoch: 5 | Train Loss: 0.43049 | Valid Loss: 0.80981 | Train Accs: 0.86391 | Valid Accs: 0.77204 | Time: 104.67 seconds\n",
      "Epoch: 6 | Train Loss: 0.30383 | Valid Loss: 0.79705 | Train Accs: 0.90066 | Valid Accs: 0.77201 | Time: 108.89 seconds\n",
      "Epoch: 7 | Train Loss: 0.21327 | Valid Loss: 0.83691 | Train Accs: 0.93085 | Valid Accs: 0.78308 | Time: 115.85 seconds\n",
      "Epoch: 8 | Train Loss: 0.16559 | Valid Loss: 0.79343 | Train Accs: 0.94732 | Valid Accs: 0.81185 | Time: 122.36 seconds\n",
      "Epoch: 9 | Train Loss: 0.13641 | Valid Loss: 0.80675 | Train Accs: 0.95447 | Valid Accs: 0.80140 | Time: 106.03 seconds\n",
      "Epoch: 10 | Train Loss: 0.13065 | Valid Loss: 0.81817 | Train Accs: 0.95631 | Valid Accs: 0.79874 | Time: 107.03 seconds\n",
      "\n",
      "**************************************************\n",
      "\n",
      "Best Validation Loss at Epoch 8\n",
      "\n",
      "**************************************************\n",
      "\n",
      "Best Validation Accs at Epoch 8\n",
      "\n",
      "**************************************************\n",
      "\n",
      "Time Taken [10 Epochs] : 18.42 minutes\n",
      "\n",
      "**************************************************\n",
      "\n"
     ]
    },
    {
     "data": {
      "image/png": "[encoded data removed]",
      "text/plain": [
       "<Figure size 432x288 with 1 Axes>"
      ]
     },
     "metadata": {
      "needs_background": "light"
     },
     "output_type": "display_data"
    },
    {
     "name": "stdout",
     "output_type": "stream",
     "text": [
      "\n",
      "**************************************************\n",
      "\n"
     ]
    },
    {
     "data": {
      "image/png": "[encoded data removed]",
      "text/plain": [
       "<Figure size 432x288 with 1 Axes>"
      ]
     },
     "metadata": {
      "needs_background": "light"
     },
     "output_type": "display_data"
    },
    {
     "name": "stdout",
     "output_type": "stream",
     "text": [
      "\n",
      "**************************************************\n",
      "\n"
     ]
    },
    {
     "data": {
      "image/png": "[encoded data removed]",
      "text/plain": [
       "<Figure size 576x432 with 1 Axes>"
      ]
     },
     "metadata": {
      "needs_background": "light"
     },
     "output_type": "display_data"
    },
    {
     "name": "stdout",
     "output_type": "stream",
     "text": [
      "\n",
      "**************************************************\n",
      "\n",
      "\n",
      "**************************************************\n",
      "\n",
      "Training Fold 4...\n",
      "\n",
      "**************************************************\n",
      "\n",
      "Epoch: 1 | Train Loss: 3.36157 | Valid Loss: 3.10733 | Train Accs: 0.07512 | Valid Accs: 0.20452 | Time: 104.58 seconds\n",
      "Epoch: 2 | Train Loss: 1.96890 | Valid Loss: 1.36046 | Train Accs: 0.43768 | Valid Accs: 0.58045 | Time: 106.64 seconds\n",
      "Epoch: 3 | Train Loss: 1.01220 | Valid Loss: 1.02937 | Train Accs: 0.68963 | Valid Accs: 0.69187 | Time: 108.12 seconds\n",
      "Epoch: 4 | Train Loss: 0.64626 | Valid Loss: 0.88431 | Train Accs: 0.79722 | Valid Accs: 0.73093 | Time: 104.12 seconds\n",
      "Epoch: 5 | Train Loss: 0.42024 | Valid Loss: 0.80608 | Train Accs: 0.86856 | Valid Accs: 0.77015 | Time: 104.61 seconds\n",
      "Epoch: 6 | Train Loss: 0.32285 | Valid Loss: 0.78416 | Train Accs: 0.89596 | Valid Accs: 0.78051 | Time: 107.77 seconds\n",
      "Epoch: 7 | Train Loss: 0.21835 | Valid Loss: 0.80810 | Train Accs: 0.92988 | Valid Accs: 0.79613 | Time: 106.08 seconds\n",
      "Epoch: 8 | Train Loss: 0.16290 | Valid Loss: 0.80149 | Train Accs: 0.94800 | Valid Accs: 0.79483 | Time: 107.93 seconds\n",
      "Epoch: 9 | Train Loss: 0.13433 | Valid Loss: 0.77180 | Train Accs: 0.95828 | Valid Accs: 0.79545 | Time: 109.90 seconds\n",
      "Epoch: 10 | Train Loss: 0.12257 | Valid Loss: 0.74863 | Train Accs: 0.96261 | Valid Accs: 0.80856 | Time: 107.82 seconds\n",
      "\n",
      "**************************************************\n",
      "\n",
      "Best Validation Loss at Epoch 10\n",
      "\n",
      "**************************************************\n",
      "\n",
      "Best Validation Accs at Epoch 10\n",
      "\n",
      "**************************************************\n",
      "\n",
      "Time Taken [10 Epochs] : 17.79 minutes\n",
      "\n",
      "**************************************************\n",
      "\n"
     ]
    },
    {
     "data": {
      "image/png": "[encoded data removed]",
      "text/plain": [
       "<Figure size 432x288 with 1 Axes>"
      ]
     },
     "metadata": {
      "needs_background": "light"
     },
     "output_type": "display_data"
    },
    {
     "name": "stdout",
     "output_type": "stream",
     "text": [
      "\n",
      "**************************************************\n",
      "\n"
     ]
    },
    {
     "data": {
      "image/png": "[encoded data removed]",
      "text/plain": [
       "<Figure size 432x288 with 1 Axes>"
      ]
     },
     "metadata": {
      "needs_background": "light"
     },
     "output_type": "display_data"
    },
    {
     "name": "stdout",
     "output_type": "stream",
     "text": [
      "\n",
      "**************************************************\n",
      "\n"
     ]
    },
    {
     "data": {
      "image/png": "[encoded data removed]",
      "text/plain": [
       "<Figure size 576x432 with 1 Axes>"
      ]
     },
     "metadata": {
      "needs_background": "light"
     },
     "output_type": "display_data"
    },
    {
     "name": "stdout",
     "output_type": "stream",
     "text": [
      "\n",
      "**************************************************\n",
      "\n",
      "\n",
      "**************************************************\n",
      "\n",
      "Training Fold 5...\n",
      "\n",
      "**************************************************\n",
      "\n",
      "Epoch: 1 | Train Loss: 3.36235 | Valid Loss: 3.13723 | Train Accs: 0.06214 | Valid Accs: 0.15569 | Time: 106.35 seconds\n",
      "Epoch: 2 | Train Loss: 1.98161 | Valid Loss: 1.36920 | Train Accs: 0.44129 | Valid Accs: 0.57719 | Time: 109.89 seconds\n",
      "Epoch: 3 | Train Loss: 1.00145 | Valid Loss: 1.02774 | Train Accs: 0.69376 | Valid Accs: 0.69249 | Time: 104.75 seconds\n",
      "Epoch: 4 | Train Loss: 0.64154 | Valid Loss: 0.87787 | Train Accs: 0.80458 | Valid Accs: 0.74262 | Time: 112.25 seconds\n",
      "Epoch: 5 | Train Loss: 0.43545 | Valid Loss: 0.81630 | Train Accs: 0.86707 | Valid Accs: 0.76287 | Time: 114.99 seconds\n",
      "Epoch: 6 | Train Loss: 0.30850 | Valid Loss: 0.79614 | Train Accs: 0.90294 | Valid Accs: 0.80007 | Time: 108.20 seconds\n",
      "Epoch: 7 | Train Loss: 0.23248 | Valid Loss: 0.76267 | Train Accs: 0.92904 | Valid Accs: 0.81176 | Time: 114.24 seconds\n",
      "Epoch: 8 | Train Loss: 0.16348 | Valid Loss: 0.76854 | Train Accs: 0.94667 | Valid Accs: 0.81371 | Time: 114.38 seconds\n",
      "Epoch: 9 | Train Loss: 0.12653 | Valid Loss: 0.78112 | Train Accs: 0.96045 | Valid Accs: 0.80844 | Time: 106.93 seconds\n",
      "Epoch: 10 | Train Loss: 0.12850 | Valid Loss: 0.80401 | Train Accs: 0.95831 | Valid Accs: 0.81377 | Time: 104.28 seconds\n",
      "\n",
      "**************************************************\n",
      "\n",
      "Best Validation Loss at Epoch 7\n",
      "\n",
      "**************************************************\n",
      "\n",
      "Best Validation Accs at Epoch 10\n",
      "\n",
      "**************************************************\n",
      "\n",
      "Time Taken [10 Epochs] : 18.27 minutes\n",
      "\n",
      "**************************************************\n",
      "\n"
     ]
    },
    {
     "data": {
      "image/png": "[encoded data removed]",
      "text/plain": [
       "<Figure size 432x288 with 1 Axes>"
      ]
     },
     "metadata": {
      "needs_background": "light"
     },
     "output_type": "display_data"
    },
    {
     "name": "stdout",
     "output_type": "stream",
     "text": [
      "\n",
      "**************************************************\n",
      "\n"
     ]
    },
    {
     "data": {
      "image/png": "[encoded data removed]",
      "text/plain": [
       "<Figure size 432x288 with 1 Axes>"
      ]
     },
     "metadata": {
      "needs_background": "light"
     },
     "output_type": "display_data"
    },
    {
     "name": "stdout",
     "output_type": "stream",
     "text": [
      "\n",
      "**************************************************\n",
      "\n"
     ]
    },
    {
     "data": {
      "image/png": "[encoded data removed]",
      "text/plain": [
       "<Figure size 576x432 with 1 Axes>"
      ]
     },
     "metadata": {
      "needs_background": "light"
     },
     "output_type": "display_data"
    },
    {
     "name": "stdout",
     "output_type": "stream",
     "text": [
      "\n",
      "**************************************************\n",
      "\n"
     ]
    }
   ],
   "source": [
    "fold: int = 1\n",
    "BLs: list = []\n",
    "BAs: list = []\n",
    "    \n",
    "cfg.batch_size = 64\n",
    "cfg.epochs = 10\n",
    "    \n",
    "for tr_idx, va_idx in StratifiedKFold(n_splits=cfg.n_splits, random_state=cfg.seed, shuffle=True).split(filepaths, labels):\n",
    "#     if fold == 1: break\n",
    "#     fold += 1\n",
    "\n",
    "    tr_filepaths, va_filepaths = filepaths[tr_idx], filepaths[va_idx] \n",
    "    tr_labels, va_labels       = labels[tr_idx], labels[va_idx]\n",
    "\n",
    "    tr_data_setup = DS(\n",
    "        filepaths=tr_filepaths, \n",
    "        labels=tr_labels.reshape(-1, 1),\n",
    "        size=cfg.size,\n",
    "        transform=cfg.train_transform\n",
    "    )\n",
    "\n",
    "    va_data_setup = DS(\n",
    "        filepaths=va_filepaths, \n",
    "        labels=va_labels.reshape(-1, 1),\n",
    "        size=cfg.size,\n",
    "        transform=cfg.train_transform\n",
    "    )\n",
    "\n",
    "    dataloaders = {\n",
    "        \"train\" : DL(tr_data_setup, batch_size=cfg.batch_size, shuffle=True, generator=torch.manual_seed(cfg.seed)),\n",
    "        \"valid\" : DL(va_data_setup, batch_size=cfg.batch_size, shuffle=False),\n",
    "    }\n",
    "\n",
    "    cfg.steps_per_epoch=len(dataloaders[\"train\"])\n",
    "\n",
    "    torch.manual_seed(cfg.seed)\n",
    "    model = Model().to(cfg.device)\n",
    "\n",
    "    optimizer = optim.Adam([p for p in model.parameters() if p.requires_grad], lr=cfg.lr, weight_decay=cfg.wd)\n",
    "    # optimizer = optim.AdamW([p for p in model.parameters() if p.requires_grad], lr=cfg.lr, weight_decay=cfg.wd)\n",
    "    # optimizer = optim.SGD([p for p in model.parameters() if p.requires_grad], lr=cfg.lr, weight_decay=cfg.wd, momentum=0.9)\n",
    "\n",
    "    scheduler_oclr = optim.lr_scheduler.OneCycleLR(\n",
    "        optimizer=optimizer, \n",
    "        max_lr=cfg.max_lr, \n",
    "        epochs=cfg.epochs, \n",
    "        steps_per_epoch=cfg.steps_per_epoch,\n",
    "        pct_start=cfg.pct_start, \n",
    "        div_factor=cfg.div_factor, \n",
    "        final_div_factor=cfg.final_div_factor\n",
    "    )\n",
    "\n",
    "    # scheduler_rlrop = optim.lr_scheduler.ReduceLROnPlateau(\n",
    "    #     optimizer=optimizer,\n",
    "    #     patience=cfg.patience,\n",
    "    #     eps=cfg.eps,\n",
    "    #     verbose=True\n",
    "    # )\n",
    "\n",
    "    # scheduler_oclr = None\n",
    "    scheduler_rlrop = None\n",
    "\n",
    "\n",
    "    L, A, LR, BL, BA, _, _, _, _ = fit(\n",
    "        model=model, \n",
    "        optimizer=optimizer, \n",
    "        scheduler_oclr=scheduler_oclr,\n",
    "        scheduler_rlrop=scheduler_rlrop,\n",
    "        epochs=cfg.epochs, \n",
    "        early_stopping_patience=cfg.early_stopping, \n",
    "        dataloaders=dataloaders, \n",
    "        device=cfg.device,\n",
    "        save_path=cfg.save_path,\n",
    "        fold=fold,\n",
    "        verbose=True\n",
    "    )\n",
    "\n",
    "\n",
    "    breaker()\n",
    "    show_loss_graphs(L)\n",
    "    breaker()\n",
    "    show_accuracy_graphs(A)\n",
    "    breaker()\n",
    "    if scheduler_oclr:\n",
    "        show_lr_graph(LR)\n",
    "        breaker()\n",
    "\n",
    "    BLs.append(BL)\n",
    "    BAs.append(BA)\n",
    "\n",
    "    fold += 1"
   ]
  },
  {
   "cell_type": "markdown",
   "id": "055cd3b1",
   "metadata": {
    "papermill": {
     "duration": 0.010734,
     "end_time": "2023-01-15T12:47:39.023719",
     "exception": false,
     "start_time": "2023-01-15T12:47:39.012985",
     "status": "completed"
    },
    "tags": []
   },
   "source": [
    "### **Best Model**"
   ]
  },
  {
   "cell_type": "code",
   "execution_count": 10,
   "id": "0cd2924f",
   "metadata": {
    "execution": {
     "iopub.execute_input": "2023-01-15T12:47:39.046473Z",
     "iopub.status.busy": "2023-01-15T12:47:39.046173Z",
     "iopub.status.idle": "2023-01-15T12:47:39.053066Z",
     "shell.execute_reply": "2023-01-15T12:47:39.052134Z"
    },
    "papermill": {
     "duration": 0.021026,
     "end_time": "2023-01-15T12:47:39.055488",
     "exception": false,
     "start_time": "2023-01-15T12:47:39.034462",
     "status": "completed"
    },
    "tags": []
   },
   "outputs": [
    {
     "name": "stdout",
     "output_type": "stream",
     "text": [
      "\n",
      "**************************************************\n",
      "\n",
      "Best Loss Model Fold     : 1\n",
      "Best Accuracy Model Fold : 1\n",
      "\n",
      "**************************************************\n",
      "\n"
     ]
    }
   ],
   "source": [
    "BL = np.inf\n",
    "for i in range(len(BLs)):\n",
    "    if BLs[i][\"valid\"] < BL:\n",
    "        BL = BLs[i][\"valid\"]\n",
    "        best_loss_index = i\n",
    "\n",
    "        \n",
    "BA = 0.0\n",
    "for i in range(len(BAs)):\n",
    "    if BAs[i][\"valid\"] > BA:\n",
    "        BA = BAs[i][\"valid\"]\n",
    "        best_accs_index = i\n",
    "\n",
    "breaker()\n",
    "print(f\"Best Loss Model Fold     : {best_loss_index + 1}\")\n",
    "print(f\"Best Accuracy Model Fold : {best_accs_index + 1}\")\n",
    "breaker()"
   ]
  }
 ],
 "metadata": {
  "kernelspec": {
   "display_name": "Python 3",
   "language": "python",
   "name": "python3"
  },
  "language_info": {
   "codemirror_mode": {
    "name": "ipython",
    "version": 3
   },
   "file_extension": ".py",
   "mimetype": "text/x-python",
   "name": "python",
   "nbconvert_exporter": "python",
   "pygments_lexer": "ipython3",
   "version": "3.7.12"
  },
  "papermill": {
   "default_parameters": {},
   "duration": 5549.616519,
   "end_time": "2023-01-15T12:47:40.698086",
   "environment_variables": {},
   "exception": null,
   "input_path": "__notebook__.ipynb",
   "output_path": "__notebook__.ipynb",
   "parameters": {},
   "start_time": "2023-01-15T11:15:11.081567",
   "version": "2.3.4"
  }
 },
 "nbformat": 4,
 "nbformat_minor": 5
}
