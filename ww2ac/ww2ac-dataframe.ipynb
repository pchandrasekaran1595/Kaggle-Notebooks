{
 "cells": [
  {
   "cell_type": "code",
   "execution_count": 1,
   "id": "14f5f0f9",
   "metadata": {
    "_cell_guid": "b1076dfc-b9ad-4769-8c92-a6c4dae69d19",
    "_uuid": "8f2839f25d086af736a60e9eeb907d3b93b6e0e5",
    "execution": {
     "iopub.execute_input": "2023-01-15T10:56:18.940941Z",
     "iopub.status.busy": "2023-01-15T10:56:18.940425Z",
     "iopub.status.idle": "2023-01-15T10:56:19.203187Z",
     "shell.execute_reply": "2023-01-15T10:56:19.201492Z"
    },
    "papermill": {
     "duration": 0.27181,
     "end_time": "2023-01-15T10:56:19.206400",
     "exception": false,
     "start_time": "2023-01-15T10:56:18.934590",
     "status": "completed"
    },
    "tags": []
   },
   "outputs": [],
   "source": [
    "import os\n",
    "import cv2\n",
    "import json\n",
    "import numpy as np\n",
    "import pandas as pd\n",
    "\n",
    "BASE_PATH: str = \"/kaggle/input/iconic-wwii-aircraft-imagesclassification\""
   ]
  },
  {
   "cell_type": "code",
   "execution_count": 2,
   "id": "c1088f90",
   "metadata": {
    "execution": {
     "iopub.execute_input": "2023-01-15T10:56:19.214065Z",
     "iopub.status.busy": "2023-01-15T10:56:19.213589Z",
     "iopub.status.idle": "2023-01-15T10:56:19.236961Z",
     "shell.execute_reply": "2023-01-15T10:56:19.235459Z"
    },
    "papermill": {
     "duration": 0.03069,
     "end_time": "2023-01-15T10:56:19.239781",
     "exception": false,
     "start_time": "2023-01-15T10:56:19.209091",
     "status": "completed"
    },
    "tags": []
   },
   "outputs": [],
   "source": [
    "tr_df: pd.DataFrame = pd.DataFrame(data=None, columns=[\"filepaths\", \"labels\"])\n",
    "ts_df: pd.DataFrame = pd.DataFrame(data=None, columns=[\"filepaths\", \"labels\"])\n",
    "fu_df: pd.DataFrame = pd.DataFrame(data=None, columns=[\"filepaths\", \"labels\"])"
   ]
  },
  {
   "cell_type": "code",
   "execution_count": 3,
   "id": "c44f1b2f",
   "metadata": {
    "execution": {
     "iopub.execute_input": "2023-01-15T10:56:19.247234Z",
     "iopub.status.busy": "2023-01-15T10:56:19.246744Z",
     "iopub.status.idle": "2023-01-15T10:56:22.271296Z",
     "shell.execute_reply": "2023-01-15T10:56:22.269901Z"
    },
    "papermill": {
     "duration": 3.031859,
     "end_time": "2023-01-15T10:56:22.274286",
     "exception": false,
     "start_time": "2023-01-15T10:56:19.242427",
     "status": "completed"
    },
    "tags": []
   },
   "outputs": [],
   "source": [
    "tr_filepaths: list = []\n",
    "tr_labels: list = []\n",
    "\n",
    "va_filepaths: list = []\n",
    "va_labels: list = []\n",
    "\n",
    "i: int = 0\n",
    "for folder in sorted(os.listdir(f\"{BASE_PATH}/train\")):\n",
    "    for filename in os.listdir(f\"{BASE_PATH}/train/{folder}\"):\n",
    "        tr_filepaths.append(os.path.join(f\"{BASE_PATH}/train/{folder}\", filename))\n",
    "        tr_labels.append(i)\n",
    "    i += 1\n",
    "\n",
    "i: int = 0\n",
    "for folder in sorted(os.listdir(f\"{BASE_PATH}/valid\")):\n",
    "    for filename in os.listdir(f\"{BASE_PATH}/valid/{folder}\"):\n",
    "        va_filepaths.append(os.path.join(f\"{BASE_PATH}/valid/{folder}\", filename))\n",
    "        va_labels.append(i)\n",
    "    i += 1\n",
    "\n",
    "tr_df.filepaths = tr_filepaths + va_filepaths\n",
    "tr_df.labels = tr_labels + va_labels\n",
    "tr_df.to_csv(\"train.csv\", index=False)"
   ]
  },
  {
   "cell_type": "code",
   "execution_count": 4,
   "id": "76f33ad5",
   "metadata": {
    "execution": {
     "iopub.execute_input": "2023-01-15T10:56:22.281983Z",
     "iopub.status.busy": "2023-01-15T10:56:22.280784Z",
     "iopub.status.idle": "2023-01-15T10:56:22.471834Z",
     "shell.execute_reply": "2023-01-15T10:56:22.470137Z"
    },
    "papermill": {
     "duration": 0.197883,
     "end_time": "2023-01-15T10:56:22.474779",
     "exception": false,
     "start_time": "2023-01-15T10:56:22.276896",
     "status": "completed"
    },
    "tags": []
   },
   "outputs": [],
   "source": [
    "filepaths: list = []\n",
    "labels: list = []\n",
    "\n",
    "i: int = 0    \n",
    "for folder in sorted(os.listdir(f\"{BASE_PATH}/test\")):\n",
    "    for filename in os.listdir(f\"{BASE_PATH}/test/{folder}\"):\n",
    "        filepaths.append(os.path.join(f\"{BASE_PATH}/test/{folder}\", filename))\n",
    "        labels.append(i)\n",
    "    i += 1\n",
    "\n",
    "ts_df.filepaths = filepaths\n",
    "ts_df.labels = labels\n",
    "ts_df.to_csv(\"test.csv\", index=False)"
   ]
  },
  {
   "cell_type": "code",
   "execution_count": 5,
   "id": "7496a82c",
   "metadata": {
    "execution": {
     "iopub.execute_input": "2023-01-15T10:56:22.482861Z",
     "iopub.status.busy": "2023-01-15T10:56:22.481735Z",
     "iopub.status.idle": "2023-01-15T10:56:22.517510Z",
     "shell.execute_reply": "2023-01-15T10:56:22.516161Z"
    },
    "papermill": {
     "duration": 0.042836,
     "end_time": "2023-01-15T10:56:22.520342",
     "exception": false,
     "start_time": "2023-01-15T10:56:22.477506",
     "status": "completed"
    },
    "tags": []
   },
   "outputs": [],
   "source": [
    "fu_df.filepaths = tr_filepaths + va_filepaths + filepaths\n",
    "fu_df.labels = tr_labels + va_labels + labels\n",
    "fu_df.to_csv(\"full.csv\", index=False)"
   ]
  },
  {
   "cell_type": "code",
   "execution_count": 6,
   "id": "3c4d7e31",
   "metadata": {
    "execution": {
     "iopub.execute_input": "2023-01-15T10:56:22.527535Z",
     "iopub.status.busy": "2023-01-15T10:56:22.526886Z",
     "iopub.status.idle": "2023-01-15T10:56:22.535368Z",
     "shell.execute_reply": "2023-01-15T10:56:22.534023Z"
    },
    "papermill": {
     "duration": 0.015087,
     "end_time": "2023-01-15T10:56:22.538098",
     "exception": false,
     "start_time": "2023-01-15T10:56:22.523011",
     "status": "completed"
    },
    "tags": []
   },
   "outputs": [],
   "source": [
    "labels: dict = dict()\n",
    "\n",
    "i = 0\n",
    "for folder in sorted(os.listdir(f\"{BASE_PATH}/test\")):\n",
    "    labels[i] = folder\n",
    "    i += 1\n",
    "\n",
    "json.dump(labels, open(\"labels.json\", \"w\"))"
   ]
  }
 ],
 "metadata": {
  "kernelspec": {
   "display_name": "Python 3",
   "language": "python",
   "name": "python3"
  },
  "language_info": {
   "codemirror_mode": {
    "name": "ipython",
    "version": 3
   },
   "file_extension": ".py",
   "mimetype": "text/x-python",
   "name": "python",
   "nbconvert_exporter": "python",
   "pygments_lexer": "ipython3",
   "version": "3.7.12"
  },
  "papermill": {
   "default_parameters": {},
   "duration": 15.103771,
   "end_time": "2023-01-15T10:56:23.264718",
   "environment_variables": {},
   "exception": null,
   "input_path": "__notebook__.ipynb",
   "output_path": "__notebook__.ipynb",
   "parameters": {},
   "start_time": "2023-01-15T10:56:08.160947",
   "version": "2.3.4"
  }
 },
 "nbformat": 4,
 "nbformat_minor": 5
}
