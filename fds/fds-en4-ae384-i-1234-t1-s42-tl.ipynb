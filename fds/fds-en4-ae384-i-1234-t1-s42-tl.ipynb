{
 "cells": [
  {
   "cell_type": "code",
   "execution_count": 1,
   "id": "d90e2e15",
   "metadata": {
    "_cell_guid": "b1076dfc-b9ad-4769-8c92-a6c4dae69d19",
    "_uuid": "8f2839f25d086af736a60e9eeb907d3b93b6e0e5",
    "execution": {
     "iopub.execute_input": "2022-10-31T19:08:28.404940Z",
     "iopub.status.busy": "2022-10-31T19:08:28.403841Z",
     "iopub.status.idle": "2022-10-31T19:08:41.339297Z",
     "shell.execute_reply": "2022-10-31T19:08:41.337586Z"
    },
    "papermill": {
     "duration": 12.946266,
     "end_time": "2022-10-31T19:08:41.342413",
     "exception": false,
     "start_time": "2022-10-31T19:08:28.396147",
     "status": "completed"
    },
    "tags": []
   },
   "outputs": [
    {
     "name": "stderr",
     "output_type": "stream",
     "text": [
      "WARNING: Running pip as the 'root' user can result in broken permissions and conflicting behaviour with the system package manager. It is recommended to use a virtual environment instead: https://pip.pypa.io/warnings/venv\n"
     ]
    }
   ],
   "source": [
    "%%bash\n",
    "pip install timm -q"
   ]
  },
  {
   "cell_type": "code",
   "execution_count": 2,
   "id": "f3f1a984",
   "metadata": {
    "execution": {
     "iopub.execute_input": "2022-10-31T19:08:41.354754Z",
     "iopub.status.busy": "2022-10-31T19:08:41.353870Z",
     "iopub.status.idle": "2022-10-31T19:08:45.325329Z",
     "shell.execute_reply": "2022-10-31T19:08:45.323917Z"
    },
    "papermill": {
     "duration": 3.981232,
     "end_time": "2022-10-31T19:08:45.328535",
     "exception": false,
     "start_time": "2022-10-31T19:08:41.347303",
     "status": "completed"
    },
    "tags": []
   },
   "outputs": [],
   "source": [
    "import os\n",
    "import re\n",
    "import cv2\n",
    "import timm\n",
    "import torch\n",
    "import random as r\n",
    "import numpy as np\n",
    "import pandas as pd\n",
    "import matplotlib.pyplot as plt\n",
    "\n",
    "from time import time\n",
    "from typing import Union\n",
    "from torch import nn, optim\n",
    "from torch.utils.data import Dataset\n",
    "from torch.utils.data import DataLoader as DL\n",
    "from torchvision import models, transforms\n",
    "\n",
    "from IPython.display import clear_output"
   ]
  },
  {
   "cell_type": "code",
   "execution_count": 3,
   "id": "3b65034d",
   "metadata": {
    "execution": {
     "iopub.execute_input": "2022-10-31T19:08:45.340090Z",
     "iopub.status.busy": "2022-10-31T19:08:45.339214Z",
     "iopub.status.idle": "2022-10-31T19:08:45.352317Z",
     "shell.execute_reply": "2022-10-31T19:08:45.350799Z"
    },
    "papermill": {
     "duration": 0.022496,
     "end_time": "2022-10-31T19:08:45.355541",
     "exception": false,
     "start_time": "2022-10-31T19:08:45.333045",
     "status": "completed"
    },
    "tags": []
   },
   "outputs": [],
   "source": [
    "SEED: int = 42\n",
    "SIZE: int = 384\n",
    "\n",
    "\n",
    "def breaker(num: int=50, char: str=\"*\") -> None:\n",
    "    print(\"\\n\" + num*char + \"\\n\")\n",
    "\n",
    "    \n",
    "def get_image(path: str, size: int=224) -> np.ndarray:\n",
    "    image = cv2.imread(path, cv2.IMREAD_COLOR)\n",
    "    image = cv2.cvtColor(src=image, code=cv2.COLOR_BGR2RGB)\n",
    "    return cv2.resize(src=image, dsize=(size, size), interpolation=cv2.INTER_AREA)\n",
    "\n",
    "\n",
    "def show_image(\n",
    "    image: np.ndarray, \n",
    "    cmap: str=\"gnuplot2\", \n",
    "    title: Union[str, None]=None\n",
    ") -> None:\n",
    "    plt.figure()\n",
    "    plt.imshow(image, cmap=cmap)\n",
    "    plt.axis(\"off\")\n",
    "    plt.show()\n",
    "\n",
    "    \n",
    "def get_model_size(model) -> float:\n",
    "    param_size: float = 0.0\n",
    "    for param in model.parameters():\n",
    "        param_size += param.nelement() * param.element_size()\n",
    "\n",
    "    buffer_size: float = 0.0\n",
    "    for buffer in model.buffers():\n",
    "        buffer_size += buffer.nelement() * buffer.element_size()\n",
    "\n",
    "    size_all_mb = (param_size + buffer_size) / 1024**2\n",
    "    return size_all_mb"
   ]
  },
  {
   "cell_type": "code",
   "execution_count": 4,
   "id": "40763f0a",
   "metadata": {
    "execution": {
     "iopub.execute_input": "2022-10-31T19:08:45.366762Z",
     "iopub.status.busy": "2022-10-31T19:08:45.366292Z",
     "iopub.status.idle": "2022-10-31T19:08:45.389667Z",
     "shell.execute_reply": "2022-10-31T19:08:45.388473Z"
    },
    "papermill": {
     "duration": 0.032285,
     "end_time": "2022-10-31T19:08:45.392485",
     "exception": false,
     "start_time": "2022-10-31T19:08:45.360200",
     "status": "completed"
    },
    "tags": []
   },
   "outputs": [],
   "source": [
    "class CFG(object):\n",
    "    def __init__(\n",
    "        self, \n",
    "        seed: int = 42,\n",
    "        size: int = 224,\n",
    "        num_samples: int=10000,\n",
    "        n_splits: int = 5,\n",
    "        batch_size: int = 16,\n",
    "        epochs: int = 25,\n",
    "        early_stopping: int = 5,\n",
    "        lr: float = 1e-4,\n",
    "        wd: float = 0.0,\n",
    "        max_lr: float = 1e-3,\n",
    "        pct_start: float = 0.2,\n",
    "        steps_per_epoch: int = 100,\n",
    "        div_factor: int = 1e3, \n",
    "        final_div_factor: float = 1e3,\n",
    "    ):\n",
    "        self.seed = seed\n",
    "        self.size = size\n",
    "        self.num_samples = num_samples\n",
    "        self.n_splits = n_splits\n",
    "        self.batch_size = batch_size\n",
    "        self.epochs = epochs\n",
    "        self.early_stopping = early_stopping\n",
    "        self.lr = lr\n",
    "        self.wd = wd\n",
    "        self.max_lr = max_lr\n",
    "        self.pct_start = pct_start\n",
    "        self.steps_per_epoch = steps_per_epoch\n",
    "        self.div_factor = div_factor\n",
    "        self.final_div_factor = final_div_factor\n",
    "        self.device = torch.device(\"cuda\" if torch.cuda.is_available() else \"cpu\")\n",
    "        \n",
    "        self.train_transform_1 = transforms.Compose([\n",
    "            transforms.ToTensor(),\n",
    "            transforms.Normalize([0.28106, 0.31696, 0.30282], [0.26783, 0.27980, 0.27595]),\n",
    "            transforms.RandomAffine(degrees=(-45, 45), translate=(0.15, 0.15), scale=(0.5, 1.5)),\n",
    "            transforms.RandomHorizontalFlip(p=0.25),\n",
    "            transforms.RandomVerticalFlip(p=0.25),\n",
    "        ])\n",
    "        self.valid_transform_1 = transforms.Compose([\n",
    "            transforms.ToTensor(),\n",
    "            transforms.Normalize([0.28106, 0.31696, 0.30282], [0.26783, 0.27980, 0.27595]),\n",
    "        ])\n",
    "        \n",
    "        self.train_transform_2 = transforms.Compose([\n",
    "            transforms.ToTensor(),\n",
    "            transforms.Normalize([0.33171, 0.40140, 0.42093], [0.23583, 0.24294, 0.24042]),\n",
    "            transforms.RandomAffine(degrees=(-45, 45), translate=(0.15, 0.15), scale=(0.5, 1.5)),\n",
    "            transforms.RandomHorizontalFlip(p=0.25),\n",
    "            transforms.RandomVerticalFlip(p=0.25),\n",
    "        ])\n",
    "        self.valid_transform_2 = transforms.Compose([\n",
    "            transforms.ToTensor(),\n",
    "            transforms.Normalize([0.33171, 0.40140, 0.42093], [0.23583, 0.24294, 0.24042]),\n",
    "        ])\n",
    "        \n",
    "        self.train_transform_3 = transforms.Compose([\n",
    "            transforms.ToTensor(),\n",
    "            transforms.Normalize([0.35717, 0.39790, 0.37881], [0.23648, 0.24145, 0.23653]),\n",
    "            transforms.RandomAffine(degrees=(-45, 45), translate=(0.15, 0.15), scale=(0.5, 1.5)),\n",
    "            transforms.RandomHorizontalFlip(p=0.25),\n",
    "            transforms.RandomVerticalFlip(p=0.25),\n",
    "        ])\n",
    "        self.valid_transform_3 = transforms.Compose([\n",
    "            transforms.ToTensor(),\n",
    "            transforms.Normalize([0.35717, 0.39790, 0.37881], [0.23648, 0.24145, 0.23653]),\n",
    "        ])\n",
    "        \n",
    "        self.train_transform_4 = transforms.Compose([\n",
    "            transforms.ToTensor(),\n",
    "            transforms.Normalize([0.41605, 0.47578, 0.45165], [0.20690, 0.20804, 0.19967]),\n",
    "            transforms.RandomAffine(degrees=(-45, 45), translate=(0.15, 0.15), scale=(0.5, 1.5)),\n",
    "            transforms.RandomHorizontalFlip(p=0.25),\n",
    "            transforms.RandomVerticalFlip(p=0.25),\n",
    "        ])\n",
    "        self.valid_transform_4 = transforms.Compose([\n",
    "            transforms.ToTensor(),\n",
    "            transforms.Normalize([0.41605, 0.47578, 0.45165], [0.20690, 0.20804, 0.19967]),\n",
    "        ])\n",
    "                                \n",
    "        self.save_path = \"saves\"\n",
    "        if not os.path.exists(self.save_path): os.makedirs(self.save_path)\n",
    "    \n",
    "cfg = CFG(\n",
    "    seed=SEED, \n",
    "    size=SIZE\n",
    ")"
   ]
  },
  {
   "cell_type": "code",
   "execution_count": 5,
   "id": "b0d9b98a",
   "metadata": {
    "execution": {
     "iopub.execute_input": "2022-10-31T19:08:45.404204Z",
     "iopub.status.busy": "2022-10-31T19:08:45.403252Z",
     "iopub.status.idle": "2022-10-31T19:08:45.423920Z",
     "shell.execute_reply": "2022-10-31T19:08:45.422450Z"
    },
    "papermill": {
     "duration": 0.030122,
     "end_time": "2022-10-31T19:08:45.427197",
     "exception": false,
     "start_time": "2022-10-31T19:08:45.397075",
     "status": "completed"
    },
    "tags": []
   },
   "outputs": [],
   "source": [
    "class Model(nn.Module):\n",
    "    def __init__(self):\n",
    "        super(Model, self).__init__()\n",
    "            \n",
    "        self.encoder = timm.create_model(\"efficientnet_b4\", pretrained=False)\n",
    "        self.encoder = nn.Sequential(*[*self.encoder.children()][:-1])\n",
    "        \n",
    "        self.decoder = nn.Sequential()\n",
    "        self.decoder.add_module(\"DC1\", nn.ConvTranspose2d(in_channels=1792, out_channels=512, kernel_size=(5, 5), stride=(1, 1), padding=(1, 1)))\n",
    "        self.decoder.add_module(\"AN1\", nn.ReLU())\n",
    "        self.decoder.add_module(\"UP1\", nn.Upsample(scale_factor=2))\n",
    "        self.decoder.add_module(\"DC2\", nn.ConvTranspose2d(in_channels=512, out_channels=256, kernel_size=(3, 3), stride=(1, 1), padding=(1, 1)))\n",
    "        self.decoder.add_module(\"AN2\", nn.ReLU())\n",
    "        self.decoder.add_module(\"UP2\", nn.Upsample(scale_factor=2))\n",
    "        self.decoder.add_module(\"DC3\", nn.ConvTranspose2d(in_channels=256, out_channels=128, kernel_size=(3, 3), stride=(1, 1), padding=(1, 1)))\n",
    "        self.decoder.add_module(\"AN3\", nn.ReLU())\n",
    "        self.decoder.add_module(\"UP3\", nn.Upsample(scale_factor=2))\n",
    "        self.decoder.add_module(\"DC4\", nn.ConvTranspose2d(in_channels=128, out_channels=64, kernel_size=(3, 3), stride=(1, 1), padding=(1, 1)))\n",
    "        self.decoder.add_module(\"AN4\", nn.ReLU())\n",
    "        self.decoder.add_module(\"UP4\", nn.Upsample(scale_factor=2))\n",
    "        self.decoder.add_module(\"DC5\", nn.ConvTranspose2d(in_channels=64, out_channels=3, kernel_size=(3, 3), stride=(1, 1), padding=(1, 1)))\n",
    "        self.decoder.add_module(\"AN5\", nn.ReLU())\n",
    "        self.decoder.add_module(\"UP5\", nn.Upsample(scale_factor=2))\n",
    "        self.decoder.add_module(\"DC6\", nn.ConvTranspose2d(in_channels=3, out_channels=3, kernel_size=(3, 3), stride=(1, 1), padding=(1, 1)))\n",
    "        self.decoder.add_module(\"AN6\", nn.ReLU())\n",
    "        self.decoder.add_module(\"UP6\", nn.Upsample(scale_factor=2))\n",
    "        self.decoder.add_module(\"DC7\", nn.ConvTranspose2d(in_channels=3, out_channels=3, kernel_size=(3, 3), stride=(1, 1), padding=(1, 1)))\n",
    "        self.decoder.add_module(\"AN7\", nn.ReLU())\n",
    "        self.decoder.add_module(\"UP7\", nn.Upsample(scale_factor=2))\n",
    "            \n",
    "    def freeze(self):\n",
    "        for params in self.parameters(): params.requires_grad = False\n",
    "\n",
    "    def forward(self, x):\n",
    "        encoded = self.encoder(x)\n",
    "        temp = encoded.unsqueeze(dim=2).unsqueeze(dim=3)\n",
    "        decoded = self.decoder(temp)\n",
    "\n",
    "        return encoded, decoded"
   ]
  },
  {
   "cell_type": "code",
   "execution_count": 6,
   "id": "c4a398b6",
   "metadata": {
    "execution": {
     "iopub.execute_input": "2022-10-31T19:08:45.439076Z",
     "iopub.status.busy": "2022-10-31T19:08:45.438114Z",
     "iopub.status.idle": "2022-10-31T19:08:45.446525Z",
     "shell.execute_reply": "2022-10-31T19:08:45.445288Z"
    },
    "papermill": {
     "duration": 0.017535,
     "end_time": "2022-10-31T19:08:45.449500",
     "exception": false,
     "start_time": "2022-10-31T19:08:45.431965",
     "status": "completed"
    },
    "tags": []
   },
   "outputs": [],
   "source": [
    "class EncoderModel(nn.Module):\n",
    "    def __init__(self):\n",
    "        super(EncoderModel, self).__init__()\n",
    "            \n",
    "        self.encoder = timm.create_model(\"efficientnet_b4\", pretrained=False)\n",
    "        self.encoder = nn.Sequential(*[*self.encoder.children()][:-1])\n",
    "\n",
    "    def forward(self, x):\n",
    "        return self.encoder(x)"
   ]
  },
  {
   "cell_type": "markdown",
   "id": "86d7b245",
   "metadata": {
    "papermill": {
     "duration": 0.004423,
     "end_time": "2022-10-31T19:08:45.458627",
     "exception": false,
     "start_time": "2022-10-31T19:08:45.454204",
     "status": "completed"
    },
    "tags": []
   },
   "source": [
    "### **I1T1**"
   ]
  },
  {
   "cell_type": "code",
   "execution_count": 7,
   "id": "a008938a",
   "metadata": {
    "execution": {
     "iopub.execute_input": "2022-10-31T19:08:45.471027Z",
     "iopub.status.busy": "2022-10-31T19:08:45.469836Z",
     "iopub.status.idle": "2022-10-31T19:08:52.238625Z",
     "shell.execute_reply": "2022-10-31T19:08:52.237239Z"
    },
    "papermill": {
     "duration": 6.778171,
     "end_time": "2022-10-31T19:08:52.241662",
     "exception": false,
     "start_time": "2022-10-31T19:08:45.463491",
     "status": "completed"
    },
    "tags": []
   },
   "outputs": [
    {
     "name": "stdout",
     "output_type": "stream",
     "text": [
      "\n",
      "**************************************************\n",
      "\n",
      "Full Model Size    : 160.84 MB\n",
      "\n",
      "**************************************************\n",
      "\n",
      "Encoder Model Size : 67.42 MB\n",
      "\n",
      "**************************************************\n",
      "\n"
     ]
    }
   ],
   "source": [
    "model = Model()\n",
    "model.load_state_dict(torch.load(\"../input/fds-en4-ae384-i1t1-s42/saves/state.pt\", map_location=cfg.device)[\"model_state_dict\"])\n",
    "model.eval()\n",
    "\n",
    "breaker()\n",
    "print(f\"Full Model Size    : {get_model_size(model):.2f} MB\")\n",
    "\n",
    "encoder_model_state_dict = dict()\n",
    "\n",
    "for names, params in model.state_dict().items():\n",
    "    if re.match(r\"encoder\", names, re.IGNORECASE):\n",
    "        encoder_model_state_dict[names] = params\n",
    "\n",
    "encoder_model = EncoderModel()\n",
    "encoder_model.load_state_dict(encoder_model_state_dict)\n",
    "encoder_model.eval()\n",
    "\n",
    "breaker()\n",
    "print(f\"Encoder Model Size : {get_model_size(encoder_model):.2f} MB\")\n",
    "\n",
    "breaker()"
   ]
  },
  {
   "cell_type": "markdown",
   "id": "798b52f8",
   "metadata": {
    "papermill": {
     "duration": 0.004461,
     "end_time": "2022-10-31T19:08:52.251702",
     "exception": false,
     "start_time": "2022-10-31T19:08:52.247241",
     "status": "completed"
    },
    "tags": []
   },
   "source": [
    "### **I2T1**"
   ]
  },
  {
   "cell_type": "code",
   "execution_count": 8,
   "id": "36c7f686",
   "metadata": {
    "execution": {
     "iopub.execute_input": "2022-10-31T19:08:52.264092Z",
     "iopub.status.busy": "2022-10-31T19:08:52.263533Z",
     "iopub.status.idle": "2022-10-31T19:08:57.563631Z",
     "shell.execute_reply": "2022-10-31T19:08:57.562142Z"
    },
    "papermill": {
     "duration": 5.309955,
     "end_time": "2022-10-31T19:08:57.566648",
     "exception": false,
     "start_time": "2022-10-31T19:08:52.256693",
     "status": "completed"
    },
    "tags": []
   },
   "outputs": [
    {
     "name": "stdout",
     "output_type": "stream",
     "text": [
      "\n",
      "**************************************************\n",
      "\n",
      "Full Model Size    : 160.84 MB\n",
      "\n",
      "**************************************************\n",
      "\n",
      "Encoder Model Size : 67.42 MB\n",
      "\n",
      "**************************************************\n",
      "\n"
     ]
    }
   ],
   "source": [
    "model = Model()\n",
    "model.load_state_dict(torch.load(\"../input/fds-en4-ae384-i2t1-s42/saves/state.pt\", map_location=cfg.device)[\"model_state_dict\"])\n",
    "model.eval()\n",
    "\n",
    "breaker()\n",
    "print(f\"Full Model Size    : {get_model_size(model):.2f} MB\")\n",
    "\n",
    "encoder_model_state_dict = dict()\n",
    "\n",
    "for names, params in model.state_dict().items():\n",
    "    if re.match(r\"encoder\", names, re.IGNORECASE):\n",
    "        encoder_model_state_dict[names] = params\n",
    "\n",
    "encoder_model = EncoderModel()\n",
    "encoder_model.load_state_dict(encoder_model_state_dict)\n",
    "encoder_model.eval()\n",
    "\n",
    "breaker()\n",
    "print(f\"Encoder Model Size : {get_model_size(encoder_model):.2f} MB\")\n",
    "\n",
    "breaker()"
   ]
  },
  {
   "cell_type": "markdown",
   "id": "6fc311ab",
   "metadata": {
    "papermill": {
     "duration": 0.005651,
     "end_time": "2022-10-31T19:08:57.577619",
     "exception": false,
     "start_time": "2022-10-31T19:08:57.571968",
     "status": "completed"
    },
    "tags": []
   },
   "source": [
    "### **I3T1**"
   ]
  },
  {
   "cell_type": "code",
   "execution_count": 9,
   "id": "d958fc16",
   "metadata": {
    "execution": {
     "iopub.execute_input": "2022-10-31T19:08:57.589717Z",
     "iopub.status.busy": "2022-10-31T19:08:57.589251Z",
     "iopub.status.idle": "2022-10-31T19:09:03.325545Z",
     "shell.execute_reply": "2022-10-31T19:09:03.324107Z"
    },
    "papermill": {
     "duration": 5.746079,
     "end_time": "2022-10-31T19:09:03.328856",
     "exception": false,
     "start_time": "2022-10-31T19:08:57.582777",
     "status": "completed"
    },
    "tags": []
   },
   "outputs": [
    {
     "name": "stdout",
     "output_type": "stream",
     "text": [
      "\n",
      "**************************************************\n",
      "\n",
      "Full Model Size    : 160.84 MB\n",
      "\n",
      "**************************************************\n",
      "\n",
      "Encoder Model Size : 67.42 MB\n",
      "\n",
      "**************************************************\n",
      "\n"
     ]
    }
   ],
   "source": [
    "model = Model()\n",
    "model.load_state_dict(torch.load(\"../input/fds-en4-ae384-i3t1-s42/saves/state.pt\", map_location=cfg.device)[\"model_state_dict\"])\n",
    "model.eval()\n",
    "\n",
    "breaker()\n",
    "print(f\"Full Model Size    : {get_model_size(model):.2f} MB\")\n",
    "\n",
    "encoder_model_state_dict = dict()\n",
    "\n",
    "for names, params in model.state_dict().items():\n",
    "    if re.match(r\"encoder\", names, re.IGNORECASE):\n",
    "        encoder_model_state_dict[names] = params\n",
    "\n",
    "encoder_model = EncoderModel()\n",
    "encoder_model.load_state_dict(encoder_model_state_dict)\n",
    "encoder_model.eval()\n",
    "\n",
    "breaker()\n",
    "print(f\"Encoder Model Size : {get_model_size(encoder_model):.2f} MB\")\n",
    "\n",
    "breaker()"
   ]
  },
  {
   "cell_type": "markdown",
   "id": "611cb286",
   "metadata": {
    "papermill": {
     "duration": 0.004513,
     "end_time": "2022-10-31T19:09:03.338565",
     "exception": false,
     "start_time": "2022-10-31T19:09:03.334052",
     "status": "completed"
    },
    "tags": []
   },
   "source": [
    "### **I4T1**"
   ]
  },
  {
   "cell_type": "code",
   "execution_count": 10,
   "id": "73fc1646",
   "metadata": {
    "execution": {
     "iopub.execute_input": "2022-10-31T19:09:03.350986Z",
     "iopub.status.busy": "2022-10-31T19:09:03.350533Z",
     "iopub.status.idle": "2022-10-31T19:09:09.235185Z",
     "shell.execute_reply": "2022-10-31T19:09:09.233663Z"
    },
    "papermill": {
     "duration": 5.894612,
     "end_time": "2022-10-31T19:09:09.238213",
     "exception": false,
     "start_time": "2022-10-31T19:09:03.343601",
     "status": "completed"
    },
    "tags": []
   },
   "outputs": [
    {
     "name": "stdout",
     "output_type": "stream",
     "text": [
      "\n",
      "**************************************************\n",
      "\n",
      "Full Model Size    : 160.84 MB\n",
      "\n",
      "**************************************************\n",
      "\n",
      "Encoder Model Size : 67.42 MB\n",
      "\n",
      "**************************************************\n",
      "\n"
     ]
    }
   ],
   "source": [
    "model = Model()\n",
    "model.load_state_dict(torch.load(\"../input/fds-en4-ae384-i4t1-s42/saves/state.pt\", map_location=cfg.device)[\"model_state_dict\"])\n",
    "model.eval()\n",
    "\n",
    "breaker()\n",
    "print(f\"Full Model Size    : {get_model_size(model):.2f} MB\")\n",
    "\n",
    "encoder_model_state_dict = dict()\n",
    "\n",
    "for names, params in model.state_dict().items():\n",
    "    if re.match(r\"encoder\", names, re.IGNORECASE):\n",
    "        encoder_model_state_dict[names] = params\n",
    "\n",
    "encoder_model = EncoderModel()\n",
    "encoder_model.load_state_dict(encoder_model_state_dict)\n",
    "encoder_model.eval()\n",
    "\n",
    "breaker()\n",
    "print(f\"Encoder Model Size : {get_model_size(encoder_model):.2f} MB\")\n",
    "\n",
    "breaker()"
   ]
  }
 ],
 "metadata": {
  "kernelspec": {
   "display_name": "Python 3",
   "language": "python",
   "name": "python3"
  },
  "language_info": {
   "codemirror_mode": {
    "name": "ipython",
    "version": 3
   },
   "file_extension": ".py",
   "mimetype": "text/x-python",
   "name": "python",
   "nbconvert_exporter": "python",
   "pygments_lexer": "ipython3",
   "version": "3.7.12"
  },
  "papermill": {
   "default_parameters": {},
   "duration": 51.771662,
   "end_time": "2022-10-31T19:09:10.470618",
   "environment_variables": {},
   "exception": null,
   "input_path": "__notebook__.ipynb",
   "output_path": "__notebook__.ipynb",
   "parameters": {},
   "start_time": "2022-10-31T19:08:18.698956",
   "version": "2.3.4"
  }
 },
 "nbformat": 4,
 "nbformat_minor": 5
}
