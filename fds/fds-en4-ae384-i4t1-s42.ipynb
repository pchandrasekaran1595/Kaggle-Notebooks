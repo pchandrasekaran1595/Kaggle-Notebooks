{
 "cells": [
  {
   "cell_type": "code",
   "execution_count": 1,
   "id": "3a7734e9",
   "metadata": {
    "_cell_guid": "b1076dfc-b9ad-4769-8c92-a6c4dae69d19",
    "_uuid": "8f2839f25d086af736a60e9eeb907d3b93b6e0e5",
    "execution": {
     "iopub.execute_input": "2022-10-31T06:17:44.536806Z",
     "iopub.status.busy": "2022-10-31T06:17:44.536265Z",
     "iopub.status.idle": "2022-10-31T06:17:55.262310Z",
     "shell.execute_reply": "2022-10-31T06:17:55.260659Z"
    },
    "papermill": {
     "duration": 10.734717,
     "end_time": "2022-10-31T06:17:55.264712",
     "exception": false,
     "start_time": "2022-10-31T06:17:44.529995",
     "status": "completed"
    },
    "tags": []
   },
   "outputs": [
    {
     "name": "stderr",
     "output_type": "stream",
     "text": [
      "WARNING: Running pip as the 'root' user can result in broken permissions and conflicting behaviour with the system package manager. It is recommended to use a virtual environment instead: https://pip.pypa.io/warnings/venv\n"
     ]
    }
   ],
   "source": [
    "%%bash\n",
    "pip install timm -q"
   ]
  },
  {
   "cell_type": "code",
   "execution_count": 2,
   "id": "75e704a6",
   "metadata": {
    "execution": {
     "iopub.execute_input": "2022-10-31T06:17:55.272222Z",
     "iopub.status.busy": "2022-10-31T06:17:55.271912Z",
     "iopub.status.idle": "2022-10-31T06:17:59.208673Z",
     "shell.execute_reply": "2022-10-31T06:17:59.207664Z"
    },
    "papermill": {
     "duration": 3.943134,
     "end_time": "2022-10-31T06:17:59.211104",
     "exception": false,
     "start_time": "2022-10-31T06:17:55.267970",
     "status": "completed"
    },
    "tags": []
   },
   "outputs": [],
   "source": [
    "import os\n",
    "import re\n",
    "import cv2\n",
    "import timm\n",
    "import torch\n",
    "import numpy as np\n",
    "import pandas as pd\n",
    "import matplotlib.pyplot as plt\n",
    "\n",
    "from time import time\n",
    "from torch import nn, optim\n",
    "from torch.utils.data import Dataset\n",
    "from torch.utils.data import DataLoader as DL\n",
    "from torchvision import models, transforms\n",
    "\n",
    "from sklearn.model_selection import KFold"
   ]
  },
  {
   "cell_type": "code",
   "execution_count": 3,
   "id": "dd9dd154",
   "metadata": {
    "execution": {
     "iopub.execute_input": "2022-10-31T06:17:59.219629Z",
     "iopub.status.busy": "2022-10-31T06:17:59.218336Z",
     "iopub.status.idle": "2022-10-31T06:17:59.231816Z",
     "shell.execute_reply": "2022-10-31T06:17:59.230880Z"
    },
    "papermill": {
     "duration": 0.019853,
     "end_time": "2022-10-31T06:17:59.233917",
     "exception": false,
     "start_time": "2022-10-31T06:17:59.214064",
     "status": "completed"
    },
    "tags": []
   },
   "outputs": [],
   "source": [
    "SEED: int = 42\n",
    "SIZE: int = 384\n",
    "\n",
    "\n",
    "def breaker(num: int=50, char: str=\"*\") -> None:\n",
    "    print(\"\\n\" + num*char + \"\\n\")\n",
    "\n",
    "    \n",
    "def get_image(path: str, size: int=224) -> np.ndarray:\n",
    "    image = cv2.imread(path, cv2.IMREAD_COLOR)\n",
    "    image = cv2.cvtColor(src=image, code=cv2.COLOR_BGR2RGB)\n",
    "    return cv2.resize(src=image, dsize=(size, size), interpolation=cv2.INTER_AREA)\n",
    "\n",
    "\n",
    "def show_loss_graphs(L: list) -> None:\n",
    "    TL, VL = [], []\n",
    "    for i in range(len(L)):\n",
    "        TL.append(L[i][\"train\"])\n",
    "        VL.append(L[i][\"valid\"])\n",
    "    x_Axis = np.arange(1, len(TL) + 1)\n",
    "    plt.figure()\n",
    "    plt.plot(x_Axis, TL, \"r\", label=\"Train\")\n",
    "    plt.plot(x_Axis, VL, \"b\", label=\"Valid\")\n",
    "    plt.legend()\n",
    "    plt.grid()\n",
    "    plt.title(\"Loss Graph\")\n",
    "    plt.show()\n",
    "\n",
    "    \n",
    "def show_accuracy_graphs(A: list) -> None:\n",
    "    TA, VA = [], []\n",
    "    for i in range(len(A)):\n",
    "        TA.append(A[i][\"train\"])\n",
    "        VA.append(A[i][\"valid\"])\n",
    "    x_Axis = np.arange(1, len(TA) + 1)\n",
    "    plt.figure()\n",
    "    plt.plot(x_Axis, TA, \"r\", label=\"Train\")\n",
    "    plt.plot(x_Axis, VA, \"b\", label=\"Valid\")\n",
    "    plt.legend()\n",
    "    plt.grid()\n",
    "    plt.title(\"Accuracy Graph\")\n",
    "    plt.show()\n",
    "    \n",
    "\n",
    "def show_lr_graph(LR: list) -> None:\n",
    "    x_Axis = [i+1 for i in range(len(LR))]\n",
    "    plt.figure(figsize=(8, 6))\n",
    "    plt.plot(x_Axis, LR, \"rx\")\n",
    "    plt.grid()\n",
    "    plt.show()"
   ]
  },
  {
   "cell_type": "code",
   "execution_count": 4,
   "id": "bed561ba",
   "metadata": {
    "execution": {
     "iopub.execute_input": "2022-10-31T06:17:59.240978Z",
     "iopub.status.busy": "2022-10-31T06:17:59.240700Z",
     "iopub.status.idle": "2022-10-31T06:17:59.313673Z",
     "shell.execute_reply": "2022-10-31T06:17:59.312675Z"
    },
    "papermill": {
     "duration": 0.079116,
     "end_time": "2022-10-31T06:17:59.315993",
     "exception": false,
     "start_time": "2022-10-31T06:17:59.236877",
     "status": "completed"
    },
    "tags": []
   },
   "outputs": [],
   "source": [
    "class CFG(object):\n",
    "    def __init__(self, \n",
    "                 seed: int = 42,\n",
    "                 size: int = 224,\n",
    "                 num_samples: int=10000,\n",
    "                 n_splits: int = 5,\n",
    "                 batch_size: int = 16,\n",
    "                 epochs: int = 25,\n",
    "                 early_stopping: int = 5,\n",
    "                 lr: float = 1e-4,\n",
    "                 wd: float = 0.0,\n",
    "                 max_lr: float = 1e-3,\n",
    "                 pct_start: float = 0.2,\n",
    "                 steps_per_epoch: int = 100,\n",
    "                 div_factor: int = 1e3, \n",
    "                 final_div_factor: float = 1e3,\n",
    "                 ):\n",
    "        self.seed = seed\n",
    "        self.size = size\n",
    "        self.num_samples = num_samples\n",
    "        self.n_splits = n_splits\n",
    "        self.batch_size = batch_size\n",
    "        self.epochs = epochs\n",
    "        self.early_stopping = early_stopping\n",
    "        self.lr = lr\n",
    "        self.wd = wd\n",
    "        self.max_lr = max_lr\n",
    "        self.pct_start = pct_start\n",
    "        self.steps_per_epoch = steps_per_epoch\n",
    "        self.div_factor = div_factor\n",
    "        self.final_div_factor = final_div_factor\n",
    "        self.device = torch.device(\"cuda\" if torch.cuda.is_available() else \"cpu\")\n",
    "        self.train_transform = transforms.Compose([\n",
    "            transforms.ToTensor(),\n",
    "            transforms.Normalize([0.41605, 0.47578, 0.45165], [0.20690, 0.20804, 0.19967]),\n",
    "            transforms.RandomAffine(degrees=(-45, 45), translate=(0.15, 0.15), scale=(0.5, 1.5)),\n",
    "            transforms.RandomHorizontalFlip(p=0.25),\n",
    "            transforms.RandomVerticalFlip(p=0.25),\n",
    "        ])\n",
    "        self.valid_transform = transforms.Compose([\n",
    "            transforms.ToTensor(),\n",
    "            transforms.Normalize([0.41605, 0.47578, 0.45165], [0.20690, 0.20804, 0.19967]),\n",
    "        ])                        \n",
    "        self.save_path = \"saves\"\n",
    "        if not os.path.exists(self.save_path): os.makedirs(self.save_path)\n",
    "    \n",
    "cfg = CFG(\n",
    "    seed=SEED, \n",
    "    size=SIZE\n",
    ")"
   ]
  },
  {
   "cell_type": "code",
   "execution_count": 5,
   "id": "e31b51db",
   "metadata": {
    "execution": {
     "iopub.execute_input": "2022-10-31T06:17:59.323330Z",
     "iopub.status.busy": "2022-10-31T06:17:59.322530Z",
     "iopub.status.idle": "2022-10-31T06:17:59.329104Z",
     "shell.execute_reply": "2022-10-31T06:17:59.328261Z"
    },
    "papermill": {
     "duration": 0.012074,
     "end_time": "2022-10-31T06:17:59.331020",
     "exception": false,
     "start_time": "2022-10-31T06:17:59.318946",
     "status": "completed"
    },
    "tags": []
   },
   "outputs": [],
   "source": [
    "class DS(Dataset):\n",
    "    def __init__(\n",
    "        self, \n",
    "        image: np.ndarray,\n",
    "        num_of_samples: int=5000,\n",
    "        transform=None,\n",
    "        device=None,\n",
    "    ):\n",
    "        \n",
    "        self.image = image\n",
    "        self.num_of_samples = num_of_samples\n",
    "        self.transform = transform\n",
    "        self.device = device\n",
    "    \n",
    "    def __len__(self):\n",
    "        return self.num_of_samples\n",
    "    \n",
    "    def __getitem__(self, idx):\n",
    "        return self.transform(self.image).to(self.device)"
   ]
  },
  {
   "cell_type": "code",
   "execution_count": 6,
   "id": "dab12832",
   "metadata": {
    "execution": {
     "iopub.execute_input": "2022-10-31T06:17:59.337795Z",
     "iopub.status.busy": "2022-10-31T06:17:59.337537Z",
     "iopub.status.idle": "2022-10-31T06:17:59.354169Z",
     "shell.execute_reply": "2022-10-31T06:17:59.353192Z"
    },
    "papermill": {
     "duration": 0.022732,
     "end_time": "2022-10-31T06:17:59.356464",
     "exception": false,
     "start_time": "2022-10-31T06:17:59.333732",
     "status": "completed"
    },
    "tags": []
   },
   "outputs": [],
   "source": [
    "class Model(nn.Module):\n",
    "    def __init__(self):\n",
    "        super(Model, self).__init__()\n",
    "            \n",
    "        self.encoder = timm.create_model(\"efficientnet_b4\", pretrained=True)\n",
    "        self.encoder = nn.Sequential(*[*self.encoder.children()][:-1])\n",
    "        \n",
    "        self.decoder = nn.Sequential()\n",
    "        self.decoder.add_module(\"DC1\", nn.ConvTranspose2d(in_channels=1792, out_channels=512, kernel_size=(5, 5), stride=(1, 1), padding=(1, 1)))\n",
    "        self.decoder.add_module(\"AN1\", nn.ReLU())\n",
    "        self.decoder.add_module(\"UP1\", nn.Upsample(scale_factor=2))\n",
    "        self.decoder.add_module(\"DC2\", nn.ConvTranspose2d(in_channels=512, out_channels=256, kernel_size=(3, 3), stride=(1, 1), padding=(1, 1)))\n",
    "        self.decoder.add_module(\"AN2\", nn.ReLU())\n",
    "        self.decoder.add_module(\"UP2\", nn.Upsample(scale_factor=2))\n",
    "        self.decoder.add_module(\"DC3\", nn.ConvTranspose2d(in_channels=256, out_channels=128, kernel_size=(3, 3), stride=(1, 1), padding=(1, 1)))\n",
    "        self.decoder.add_module(\"AN3\", nn.ReLU())\n",
    "        self.decoder.add_module(\"UP3\", nn.Upsample(scale_factor=2))\n",
    "        self.decoder.add_module(\"DC4\", nn.ConvTranspose2d(in_channels=128, out_channels=64, kernel_size=(3, 3), stride=(1, 1), padding=(1, 1)))\n",
    "        self.decoder.add_module(\"AN4\", nn.ReLU())\n",
    "        self.decoder.add_module(\"UP4\", nn.Upsample(scale_factor=2))\n",
    "        self.decoder.add_module(\"DC5\", nn.ConvTranspose2d(in_channels=64, out_channels=3, kernel_size=(3, 3), stride=(1, 1), padding=(1, 1)))\n",
    "        self.decoder.add_module(\"AN5\", nn.ReLU())\n",
    "        self.decoder.add_module(\"UP5\", nn.Upsample(scale_factor=2))\n",
    "        self.decoder.add_module(\"DC6\", nn.ConvTranspose2d(in_channels=3, out_channels=3, kernel_size=(3, 3), stride=(1, 1), padding=(1, 1)))\n",
    "        self.decoder.add_module(\"AN6\", nn.ReLU())\n",
    "        self.decoder.add_module(\"UP6\", nn.Upsample(scale_factor=2))\n",
    "        self.decoder.add_module(\"DC7\", nn.ConvTranspose2d(in_channels=3, out_channels=3, kernel_size=(3, 3), stride=(1, 1), padding=(1, 1)))\n",
    "        self.decoder.add_module(\"AN7\", nn.ReLU())\n",
    "        self.decoder.add_module(\"UP7\", nn.Upsample(scale_factor=2))\n",
    "            \n",
    "    def freeze(self):\n",
    "        for params in self.parameters(): params.requires_grad = False\n",
    "\n",
    "    def forward(self, x):\n",
    "        encoded = self.encoder(x)\n",
    "        temp = encoded.unsqueeze(dim=2).unsqueeze(dim=3)\n",
    "        decoded = self.decoder(temp)\n",
    "\n",
    "        return encoded, decoded"
   ]
  },
  {
   "cell_type": "code",
   "execution_count": 7,
   "id": "fb293df4",
   "metadata": {
    "execution": {
     "iopub.execute_input": "2022-10-31T06:17:59.363230Z",
     "iopub.status.busy": "2022-10-31T06:17:59.362972Z",
     "iopub.status.idle": "2022-10-31T06:17:59.379327Z",
     "shell.execute_reply": "2022-10-31T06:17:59.378498Z"
    },
    "papermill": {
     "duration": 0.022197,
     "end_time": "2022-10-31T06:17:59.381292",
     "exception": false,
     "start_time": "2022-10-31T06:17:59.359095",
     "status": "completed"
    },
    "tags": []
   },
   "outputs": [],
   "source": [
    "def fit(model=None,\n",
    "        optimizer=None, \n",
    "        scheduler_rlrop=None,\n",
    "        scheduler_oclr=None,\n",
    "        epochs=None, \n",
    "        early_stopping_patience=None, \n",
    "        dataloaders=None, \n",
    "        fold=None, \n",
    "        save_path=None,\n",
    "        device=None,\n",
    "        verbose=False\n",
    ") -> tuple:\n",
    "    \n",
    "    if verbose:\n",
    "        breaker()\n",
    "        if fold: print(f\"Training Fold {fold}...\")\n",
    "        else: print(\"Training ...\")\n",
    "        breaker()\n",
    "        \n",
    "    bestLoss: dict = {\"train\" : np.inf, \"valid\" : np.inf} \n",
    "        \n",
    "    Losses: list = []\n",
    "    LRs: list = []\n",
    "        \n",
    "    if fold: \n",
    "        name = f\"state_fold_{fold}.pt\"\n",
    "    else: \n",
    "        name = f\"state.pt\"\n",
    "    \n",
    "    start_time = time()\n",
    "    for e in range(epochs):\n",
    "        e_st = time()\n",
    "        epochLoss: dict = {\"train\" : 0.0, \"valid\" : 0.0} \n",
    "\n",
    "        for phase in [\"train\", \"valid\"]:\n",
    "            if phase == \"train\":\n",
    "                model.train()\n",
    "            else:\n",
    "                model.eval()\n",
    "            \n",
    "            lossPerPass: list = []\n",
    "                \n",
    "            for X in dataloaders[phase]:\n",
    "                # X = X.to(device)\n",
    "\n",
    "                optimizer.zero_grad()\n",
    "                with torch.set_grad_enabled(phase == \"train\"):\n",
    "                    _, d = model(X)\n",
    "                    loss = torch.nn.MSELoss()(d, X)\n",
    "                    if phase == \"train\":\n",
    "                        loss.backward()\n",
    "                        optimizer.step()\n",
    "                        if scheduler_oclr: scheduler_oclr.step()\n",
    "                lossPerPass.append(loss.item())\n",
    "            epochLoss[phase] = np.mean(np.array(lossPerPass))\n",
    "        if scheduler_oclr: LRs.append(scheduler_oclr.get_last_lr())\n",
    "        Losses.append(epochLoss)\n",
    "    \n",
    "        if scheduler_oclr:\n",
    "            save_dict = {\"model_state_dict\"     : model.state_dict(),\n",
    "                         \"optim_state_dict\"     : optimizer.state_dict(),\n",
    "                         \"scheduler_state_dict\" : scheduler_oclr.state_dict()}\n",
    "        \n",
    "        elif scheduler_rlrop:\n",
    "            save_dict = {\"model_state_dict\"     : model.state_dict(),\n",
    "                         \"optim_state_dict\"     : optimizer.state_dict(),\n",
    "                         \"scheduler_state_dict\" : scheduler_rlrop.state_dict()}\n",
    "        \n",
    "        else:\n",
    "            save_dict = {\"model_state_dict\"     : model.state_dict(),\n",
    "                         \"optim_state_dict\"     : optimizer.state_dict()}\n",
    "        \n",
    "        \n",
    "        if early_stopping_patience:\n",
    "            if epochLoss[\"valid\"] < bestLoss[\"valid\"]:\n",
    "                bestLoss = epochLoss\n",
    "                BLE = e + 1\n",
    "                torch.save(save_dict, os.path.join(save_path, name))\n",
    "                early_stopping_step = 0\n",
    "            else:\n",
    "                early_stopping_step += 1\n",
    "                if early_stopping_step > early_stopping_patience:\n",
    "                    print(\"\\nEarly Stopping at Epoch {}\".format(e + 1))\n",
    "                    break\n",
    "        \n",
    "        if epochLoss[\"valid\"] < bestLoss[\"valid\"]:\n",
    "            bestLoss = epochLoss\n",
    "            BLE = e + 1\n",
    "            torch.save(save_dict,os.path.join(save_path, name))\n",
    "    \n",
    "        if scheduler_rlrop: scheduler_rlrop.step(epochLoss[\"valid\"])\n",
    "        \n",
    "        if verbose:\n",
    "            print(\"Epoch: {} | Train Loss: {:.5f} | Valid Loss: {:.5f} | Time: {:.2f} seconds\".format(e+1, epochLoss[\"train\"], epochLoss[\"valid\"], time()-e_st))\n",
    "\n",
    "    if verbose:                                           \n",
    "        breaker()\n",
    "        print(f\"Best Validation Loss at Epoch {BLE}\")\n",
    "        breaker()\n",
    "        print(\"Time Taken [{} Epochs] : {:.2f} minutes\".format(len(Losses), (time()-start_time)/60))\n",
    "    \n",
    "    return Losses, LRs, bestLoss, BLE, name"
   ]
  },
  {
   "cell_type": "code",
   "execution_count": 8,
   "id": "061934a1",
   "metadata": {
    "execution": {
     "iopub.execute_input": "2022-10-31T06:17:59.388034Z",
     "iopub.status.busy": "2022-10-31T06:17:59.387774Z",
     "iopub.status.idle": "2022-10-31T06:17:59.444290Z",
     "shell.execute_reply": "2022-10-31T06:17:59.443250Z"
    },
    "papermill": {
     "duration": 0.062609,
     "end_time": "2022-10-31T06:17:59.446643",
     "exception": false,
     "start_time": "2022-10-31T06:17:59.384034",
     "status": "completed"
    },
    "tags": []
   },
   "outputs": [],
   "source": [
    "image: np.ndarray = get_image(\"../input/fdsimages/Image_4_1.jpg\", size=cfg.size)"
   ]
  },
  {
   "cell_type": "code",
   "execution_count": 9,
   "id": "b02cd9d4",
   "metadata": {
    "execution": {
     "iopub.execute_input": "2022-10-31T06:17:59.453793Z",
     "iopub.status.busy": "2022-10-31T06:17:59.453015Z",
     "iopub.status.idle": "2022-10-31T07:59:46.625476Z",
     "shell.execute_reply": "2022-10-31T07:59:46.624506Z"
    },
    "papermill": {
     "duration": 6107.178049,
     "end_time": "2022-10-31T07:59:46.627563",
     "exception": false,
     "start_time": "2022-10-31T06:17:59.449514",
     "status": "completed"
    },
    "tags": []
   },
   "outputs": [
    {
     "name": "stderr",
     "output_type": "stream",
     "text": [
      "Downloading: \"https://github.com/rwightman/pytorch-image-models/releases/download/v0.1-weights/efficientnet_b4_ra2_320-7eb33cd5.pth\" to /root/.cache/torch/hub/checkpoints/efficientnet_b4_ra2_320-7eb33cd5.pth\n"
     ]
    },
    {
     "name": "stdout",
     "output_type": "stream",
     "text": [
      "\n",
      "**************************************************\n",
      "\n",
      "Training ...\n",
      "\n",
      "**************************************************\n",
      "\n",
      "Epoch: 1 | Train Loss: 0.68545 | Valid Loss: 0.96490 | Time: 250.12 seconds\n",
      "Epoch: 2 | Train Loss: 0.66578 | Valid Loss: 0.84588 | Time: 247.04 seconds\n",
      "Epoch: 3 | Train Loss: 0.47850 | Valid Loss: 0.49247 | Time: 247.26 seconds\n",
      "Epoch: 4 | Train Loss: 0.32640 | Valid Loss: 0.50789 | Time: 243.56 seconds\n",
      "Epoch: 5 | Train Loss: 0.30847 | Valid Loss: 0.46373 | Time: 244.44 seconds\n",
      "Epoch: 6 | Train Loss: 0.30130 | Valid Loss: 0.45839 | Time: 244.49 seconds\n",
      "Epoch: 7 | Train Loss: 0.29225 | Valid Loss: 0.44943 | Time: 246.37 seconds\n",
      "Epoch: 8 | Train Loss: 0.28840 | Valid Loss: 0.44220 | Time: 245.38 seconds\n",
      "Epoch: 9 | Train Loss: 0.28787 | Valid Loss: 0.44271 | Time: 243.30 seconds\n",
      "Epoch: 10 | Train Loss: 0.27975 | Valid Loss: 0.43661 | Time: 246.10 seconds\n",
      "Epoch: 11 | Train Loss: 0.27464 | Valid Loss: 0.42540 | Time: 244.37 seconds\n",
      "Epoch: 12 | Train Loss: 0.26899 | Valid Loss: 0.42338 | Time: 243.26 seconds\n",
      "Epoch: 13 | Train Loss: 0.26339 | Valid Loss: 0.42072 | Time: 243.23 seconds\n",
      "Epoch: 14 | Train Loss: 0.26173 | Valid Loss: 0.41731 | Time: 243.76 seconds\n",
      "Epoch: 15 | Train Loss: 0.25860 | Valid Loss: 0.42202 | Time: 241.82 seconds\n",
      "Epoch: 16 | Train Loss: 0.25571 | Valid Loss: 0.41843 | Time: 243.31 seconds\n",
      "Epoch: 17 | Train Loss: 0.25324 | Valid Loss: 0.41729 | Time: 246.26 seconds\n",
      "Epoch: 18 | Train Loss: 0.25270 | Valid Loss: 0.41560 | Time: 245.68 seconds\n",
      "Epoch: 19 | Train Loss: 0.25095 | Valid Loss: 0.41603 | Time: 240.39 seconds\n",
      "Epoch: 20 | Train Loss: 0.25028 | Valid Loss: 0.41427 | Time: 242.43 seconds\n",
      "Epoch: 21 | Train Loss: 0.25059 | Valid Loss: 0.41441 | Time: 240.31 seconds\n",
      "Epoch: 22 | Train Loss: 0.25058 | Valid Loss: 0.41442 | Time: 240.37 seconds\n",
      "Epoch: 23 | Train Loss: 0.24931 | Valid Loss: 0.41420 | Time: 243.36 seconds\n",
      "Epoch: 24 | Train Loss: 0.24855 | Valid Loss: 0.41414 | Time: 242.86 seconds\n",
      "Epoch: 25 | Train Loss: 0.24897 | Valid Loss: 0.41406 | Time: 242.63 seconds\n",
      "\n",
      "**************************************************\n",
      "\n",
      "Best Validation Loss at Epoch 25\n",
      "\n",
      "**************************************************\n",
      "\n",
      "Time Taken [25 Epochs] : 101.70 minutes\n",
      "\n",
      "**************************************************\n",
      "\n"
     ]
    },
    {
     "data": {
      "image/png": "[encoded data removed]",
      "text/plain": [
       "<Figure size 432x288 with 1 Axes>"
      ]
     },
     "metadata": {
      "needs_background": "light"
     },
     "output_type": "display_data"
    },
    {
     "name": "stdout",
     "output_type": "stream",
     "text": [
      "\n",
      "**************************************************\n",
      "\n"
     ]
    },
    {
     "data": {
      "image/png": "[encoded data removed]",
      "text/plain": [
       "<Figure size 576x432 with 1 Axes>"
      ]
     },
     "metadata": {
      "needs_background": "light"
     },
     "output_type": "display_data"
    },
    {
     "name": "stdout",
     "output_type": "stream",
     "text": [
      "\n",
      "**************************************************\n",
      "\n"
     ]
    }
   ],
   "source": [
    "cfg.batch_size = 16\n",
    "    \n",
    "tr_data_setup = DS(\n",
    "    image=image, \n",
    "    transform=cfg.train_transform,\n",
    "    device=cfg.device\n",
    ")\n",
    "\n",
    "va_data_setup = DS(\n",
    "    image=image, \n",
    "    transform=cfg.valid_transform,\n",
    "    device=cfg.device\n",
    ")\n",
    "\n",
    "dataloaders = {\n",
    "    \"train\" : DL(tr_data_setup, batch_size=cfg.batch_size, shuffle=True, generator=torch.manual_seed(cfg.seed)),\n",
    "    \"valid\" : DL(va_data_setup, batch_size=cfg.batch_size, shuffle=False),\n",
    "}\n",
    "\n",
    "cfg.steps_per_epoch=len(dataloaders[\"train\"])\n",
    "\n",
    "torch.manual_seed(cfg.seed)\n",
    "model = Model().to(cfg.device)\n",
    "\n",
    "optimizer = optim.Adam([p for p in model.parameters() if p.requires_grad], lr=cfg.lr, weight_decay=cfg.wd)\n",
    "# optimizer = optim.AdamW([p for p in model.parameters() if p.requires_grad], lr=cfg.lr, weight_decay=cfg.wd)\n",
    "# optimizer = optim.SGD([p for p in model.parameters() if p.requires_grad], lr=cfg.lr, weight_decay=cfg.wd, momentum=0.9)\n",
    "\n",
    "scheduler_oclr = optim.lr_scheduler.OneCycleLR(\n",
    "    optimizer=optimizer, \n",
    "    max_lr=cfg.max_lr, \n",
    "    epochs=cfg.epochs, \n",
    "    steps_per_epoch=cfg.steps_per_epoch,\n",
    "    pct_start=cfg.pct_start, \n",
    "    div_factor=cfg.div_factor, \n",
    "    final_div_factor=cfg.final_div_factor\n",
    ")\n",
    "\n",
    "# scheduler_rlrop = optim.lr_scheduler.ReduceLROnPlateau(\n",
    "#     optimizer=optimizer,\n",
    "#     patience=cfg.patience,\n",
    "#     eps=cfg.eps,\n",
    "#     verbose=True\n",
    "# )\n",
    "\n",
    "# scheduler_oclr = None\n",
    "scheduler_rlrop = None\n",
    "\n",
    "L, LR, BL, _, _ = fit(\n",
    "    model=model, \n",
    "    optimizer=optimizer, \n",
    "    scheduler_oclr=scheduler_oclr,\n",
    "    scheduler_rlrop=scheduler_rlrop,\n",
    "    epochs=cfg.epochs, \n",
    "    early_stopping_patience=cfg.early_stopping, \n",
    "    dataloaders=dataloaders, \n",
    "    device=cfg.device,\n",
    "    save_path=cfg.save_path,\n",
    "    fold=None,\n",
    "    verbose=True\n",
    ")\n",
    "\n",
    "breaker()\n",
    "show_loss_graphs(L)\n",
    "breaker()\n",
    "if scheduler_oclr:\n",
    "    show_lr_graph(LR)\n",
    "    breaker()"
   ]
  }
 ],
 "metadata": {
  "kernelspec": {
   "display_name": "Python 3",
   "language": "python",
   "name": "python3"
  },
  "language_info": {
   "codemirror_mode": {
    "name": "ipython",
    "version": 3
   },
   "file_extension": ".py",
   "mimetype": "text/x-python",
   "name": "python",
   "nbconvert_exporter": "python",
   "pygments_lexer": "ipython3",
   "version": "3.7.12"
  },
  "papermill": {
   "default_parameters": {},
   "duration": 6132.303038,
   "end_time": "2022-10-31T07:59:49.252282",
   "environment_variables": {},
   "exception": null,
   "input_path": "__notebook__.ipynb",
   "output_path": "__notebook__.ipynb",
   "parameters": {},
   "start_time": "2022-10-31T06:17:36.949244",
   "version": "2.3.4"
  }
 },
 "nbformat": 4,
 "nbformat_minor": 5
}
