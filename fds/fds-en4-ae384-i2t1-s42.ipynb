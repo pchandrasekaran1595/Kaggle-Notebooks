{
 "cells": [
  {
   "cell_type": "code",
   "execution_count": 1,
   "id": "b8336b4c",
   "metadata": {
    "_cell_guid": "b1076dfc-b9ad-4769-8c92-a6c4dae69d19",
    "_uuid": "8f2839f25d086af736a60e9eeb907d3b93b6e0e5",
    "execution": {
     "iopub.execute_input": "2022-10-29T16:36:31.472467Z",
     "iopub.status.busy": "2022-10-29T16:36:31.471664Z",
     "iopub.status.idle": "2022-10-29T16:36:41.971644Z",
     "shell.execute_reply": "2022-10-29T16:36:41.970340Z"
    },
    "papermill": {
     "duration": 10.508479,
     "end_time": "2022-10-29T16:36:41.974534",
     "exception": false,
     "start_time": "2022-10-29T16:36:31.466055",
     "status": "completed"
    },
    "tags": []
   },
   "outputs": [
    {
     "name": "stderr",
     "output_type": "stream",
     "text": [
      "WARNING: Running pip as the 'root' user can result in broken permissions and conflicting behaviour with the system package manager. It is recommended to use a virtual environment instead: https://pip.pypa.io/warnings/venv\n"
     ]
    }
   ],
   "source": [
    "%%bash\n",
    "pip install timm -q"
   ]
  },
  {
   "cell_type": "code",
   "execution_count": 2,
   "id": "699a5d0d",
   "metadata": {
    "execution": {
     "iopub.execute_input": "2022-10-29T16:36:41.982119Z",
     "iopub.status.busy": "2022-10-29T16:36:41.981756Z",
     "iopub.status.idle": "2022-10-29T16:36:45.934920Z",
     "shell.execute_reply": "2022-10-29T16:36:45.933912Z"
    },
    "papermill": {
     "duration": 3.959668,
     "end_time": "2022-10-29T16:36:45.937420",
     "exception": false,
     "start_time": "2022-10-29T16:36:41.977752",
     "status": "completed"
    },
    "tags": []
   },
   "outputs": [],
   "source": [
    "import os\n",
    "import re\n",
    "import cv2\n",
    "import timm\n",
    "import torch\n",
    "import numpy as np\n",
    "import pandas as pd\n",
    "import matplotlib.pyplot as plt\n",
    "\n",
    "from time import time\n",
    "from torch import nn, optim\n",
    "from torch.utils.data import Dataset\n",
    "from torch.utils.data import DataLoader as DL\n",
    "from torchvision import models, transforms\n",
    "\n",
    "from sklearn.model_selection import KFold"
   ]
  },
  {
   "cell_type": "code",
   "execution_count": 3,
   "id": "26a22dcf",
   "metadata": {
    "execution": {
     "iopub.execute_input": "2022-10-29T16:36:45.944944Z",
     "iopub.status.busy": "2022-10-29T16:36:45.944347Z",
     "iopub.status.idle": "2022-10-29T16:36:45.957252Z",
     "shell.execute_reply": "2022-10-29T16:36:45.956346Z"
    },
    "papermill": {
     "duration": 0.018712,
     "end_time": "2022-10-29T16:36:45.959205",
     "exception": false,
     "start_time": "2022-10-29T16:36:45.940493",
     "status": "completed"
    },
    "tags": []
   },
   "outputs": [],
   "source": [
    "SEED: int = 42\n",
    "SIZE: int = 384\n",
    "\n",
    "\n",
    "def breaker(num: int=50, char: str=\"*\") -> None:\n",
    "    print(\"\\n\" + num*char + \"\\n\")\n",
    "\n",
    "    \n",
    "def get_image(path: str, size: int=224) -> np.ndarray:\n",
    "    image = cv2.imread(path, cv2.IMREAD_COLOR)\n",
    "    image = cv2.cvtColor(src=image, code=cv2.COLOR_BGR2RGB)\n",
    "    return cv2.resize(src=image, dsize=(size, size), interpolation=cv2.INTER_AREA)\n",
    "\n",
    "\n",
    "def show_loss_graphs(L: list) -> None:\n",
    "    TL, VL = [], []\n",
    "    for i in range(len(L)):\n",
    "        TL.append(L[i][\"train\"])\n",
    "        VL.append(L[i][\"valid\"])\n",
    "    x_Axis = np.arange(1, len(TL) + 1)\n",
    "    plt.figure()\n",
    "    plt.plot(x_Axis, TL, \"r\", label=\"Train\")\n",
    "    plt.plot(x_Axis, VL, \"b\", label=\"Valid\")\n",
    "    plt.legend()\n",
    "    plt.grid()\n",
    "    plt.title(\"Loss Graph\")\n",
    "    plt.show()\n",
    "\n",
    "    \n",
    "def show_accuracy_graphs(A: list) -> None:\n",
    "    TA, VA = [], []\n",
    "    for i in range(len(A)):\n",
    "        TA.append(A[i][\"train\"])\n",
    "        VA.append(A[i][\"valid\"])\n",
    "    x_Axis = np.arange(1, len(TA) + 1)\n",
    "    plt.figure()\n",
    "    plt.plot(x_Axis, TA, \"r\", label=\"Train\")\n",
    "    plt.plot(x_Axis, VA, \"b\", label=\"Valid\")\n",
    "    plt.legend()\n",
    "    plt.grid()\n",
    "    plt.title(\"Accuracy Graph\")\n",
    "    plt.show()\n",
    "    \n",
    "\n",
    "def show_lr_graph(LR: list) -> None:\n",
    "    x_Axis = [i+1 for i in range(len(LR))]\n",
    "    plt.figure(figsize=(8, 6))\n",
    "    plt.plot(x_Axis, LR, \"rx\")\n",
    "    plt.grid()\n",
    "    plt.show()"
   ]
  },
  {
   "cell_type": "code",
   "execution_count": 4,
   "id": "d950b5f9",
   "metadata": {
    "execution": {
     "iopub.execute_input": "2022-10-29T16:36:45.966043Z",
     "iopub.status.busy": "2022-10-29T16:36:45.965784Z",
     "iopub.status.idle": "2022-10-29T16:36:46.036131Z",
     "shell.execute_reply": "2022-10-29T16:36:46.035233Z"
    },
    "papermill": {
     "duration": 0.076228,
     "end_time": "2022-10-29T16:36:46.038074",
     "exception": false,
     "start_time": "2022-10-29T16:36:45.961846",
     "status": "completed"
    },
    "tags": []
   },
   "outputs": [],
   "source": [
    "class CFG(object):\n",
    "    def __init__(self, \n",
    "                 seed: int = 42,\n",
    "                 size: int = 224,\n",
    "                 num_samples: int=10000,\n",
    "                 n_splits: int = 5,\n",
    "                 batch_size: int = 16,\n",
    "                 epochs: int = 25,\n",
    "                 early_stopping: int = 5,\n",
    "                 lr: float = 1e-4,\n",
    "                 wd: float = 0.0,\n",
    "                 max_lr: float = 1e-3,\n",
    "                 pct_start: float = 0.2,\n",
    "                 steps_per_epoch: int = 100,\n",
    "                 div_factor: int = 1e3, \n",
    "                 final_div_factor: float = 1e3,\n",
    "                 ):\n",
    "        self.seed = seed\n",
    "        self.size = size\n",
    "        self.num_samples = num_samples\n",
    "        self.n_splits = n_splits\n",
    "        self.batch_size = batch_size\n",
    "        self.epochs = epochs\n",
    "        self.early_stopping = early_stopping\n",
    "        self.lr = lr\n",
    "        self.wd = wd\n",
    "        self.max_lr = max_lr\n",
    "        self.pct_start = pct_start\n",
    "        self.steps_per_epoch = steps_per_epoch\n",
    "        self.div_factor = div_factor\n",
    "        self.final_div_factor = final_div_factor\n",
    "        self.device = torch.device(\"cuda\" if torch.cuda.is_available() else \"cpu\")\n",
    "        self.train_transform = transforms.Compose([\n",
    "            transforms.ToTensor(),\n",
    "            transforms.Normalize([0.33171, 0.40140, 0.42093], [0.23583, 0.24294, 0.24042]),\n",
    "            transforms.RandomAffine(degrees=(-45, 45), translate=(0.15, 0.15), scale=(0.5, 1.5)),\n",
    "            transforms.RandomHorizontalFlip(p=0.25),\n",
    "            transforms.RandomVerticalFlip(p=0.25),\n",
    "        ])\n",
    "        self.valid_transform = transforms.Compose([\n",
    "            transforms.ToTensor(),\n",
    "            transforms.Normalize([0.33171, 0.40140, 0.42093], [0.23583, 0.24294, 0.24042]),\n",
    "        ])                        \n",
    "        self.save_path = \"saves\"\n",
    "        if not os.path.exists(self.save_path): os.makedirs(self.save_path)\n",
    "    \n",
    "cfg = CFG(\n",
    "    seed=SEED, \n",
    "    size=SIZE\n",
    ")"
   ]
  },
  {
   "cell_type": "code",
   "execution_count": 5,
   "id": "b1d67491",
   "metadata": {
    "execution": {
     "iopub.execute_input": "2022-10-29T16:36:46.044542Z",
     "iopub.status.busy": "2022-10-29T16:36:46.044276Z",
     "iopub.status.idle": "2022-10-29T16:36:46.050168Z",
     "shell.execute_reply": "2022-10-29T16:36:46.049144Z"
    },
    "papermill": {
     "duration": 0.011526,
     "end_time": "2022-10-29T16:36:46.052360",
     "exception": false,
     "start_time": "2022-10-29T16:36:46.040834",
     "status": "completed"
    },
    "tags": []
   },
   "outputs": [],
   "source": [
    "class DS(Dataset):\n",
    "    def __init__(\n",
    "        self, \n",
    "        image: np.ndarray,\n",
    "        num_of_samples: int=5000,\n",
    "        transform=None,\n",
    "        device=None,\n",
    "    ):\n",
    "        \n",
    "        self.image = image\n",
    "        self.num_of_samples = num_of_samples\n",
    "        self.transform = transform\n",
    "        self.device = device\n",
    "    \n",
    "    def __len__(self):\n",
    "        return self.num_of_samples\n",
    "    \n",
    "    def __getitem__(self, idx):\n",
    "        return self.transform(self.image).to(self.device)"
   ]
  },
  {
   "cell_type": "code",
   "execution_count": 6,
   "id": "4d485b54",
   "metadata": {
    "execution": {
     "iopub.execute_input": "2022-10-29T16:36:46.058860Z",
     "iopub.status.busy": "2022-10-29T16:36:46.058593Z",
     "iopub.status.idle": "2022-10-29T16:36:46.074585Z",
     "shell.execute_reply": "2022-10-29T16:36:46.073771Z"
    },
    "papermill": {
     "duration": 0.021467,
     "end_time": "2022-10-29T16:36:46.076480",
     "exception": false,
     "start_time": "2022-10-29T16:36:46.055013",
     "status": "completed"
    },
    "tags": []
   },
   "outputs": [],
   "source": [
    "class Model(nn.Module):\n",
    "    def __init__(self):\n",
    "        super(Model, self).__init__()\n",
    "            \n",
    "        self.encoder = timm.create_model(\"efficientnet_b4\", pretrained=True)\n",
    "        self.encoder = nn.Sequential(*[*self.encoder.children()][:-1])\n",
    "        \n",
    "        self.decoder = nn.Sequential()\n",
    "        self.decoder.add_module(\"DC1\", nn.ConvTranspose2d(in_channels=1792, out_channels=512, kernel_size=(5, 5), stride=(1, 1), padding=(1, 1)))\n",
    "        self.decoder.add_module(\"AN1\", nn.ReLU())\n",
    "        self.decoder.add_module(\"UP1\", nn.Upsample(scale_factor=2))\n",
    "        self.decoder.add_module(\"DC2\", nn.ConvTranspose2d(in_channels=512, out_channels=256, kernel_size=(3, 3), stride=(1, 1), padding=(1, 1)))\n",
    "        self.decoder.add_module(\"AN2\", nn.ReLU())\n",
    "        self.decoder.add_module(\"UP2\", nn.Upsample(scale_factor=2))\n",
    "        self.decoder.add_module(\"DC3\", nn.ConvTranspose2d(in_channels=256, out_channels=128, kernel_size=(3, 3), stride=(1, 1), padding=(1, 1)))\n",
    "        self.decoder.add_module(\"AN3\", nn.ReLU())\n",
    "        self.decoder.add_module(\"UP3\", nn.Upsample(scale_factor=2))\n",
    "        self.decoder.add_module(\"DC4\", nn.ConvTranspose2d(in_channels=128, out_channels=64, kernel_size=(3, 3), stride=(1, 1), padding=(1, 1)))\n",
    "        self.decoder.add_module(\"AN4\", nn.ReLU())\n",
    "        self.decoder.add_module(\"UP4\", nn.Upsample(scale_factor=2))\n",
    "        self.decoder.add_module(\"DC5\", nn.ConvTranspose2d(in_channels=64, out_channels=3, kernel_size=(3, 3), stride=(1, 1), padding=(1, 1)))\n",
    "        self.decoder.add_module(\"AN5\", nn.ReLU())\n",
    "        self.decoder.add_module(\"UP5\", nn.Upsample(scale_factor=2))\n",
    "        self.decoder.add_module(\"DC6\", nn.ConvTranspose2d(in_channels=3, out_channels=3, kernel_size=(3, 3), stride=(1, 1), padding=(1, 1)))\n",
    "        self.decoder.add_module(\"AN6\", nn.ReLU())\n",
    "        self.decoder.add_module(\"UP6\", nn.Upsample(scale_factor=2))\n",
    "        self.decoder.add_module(\"DC7\", nn.ConvTranspose2d(in_channels=3, out_channels=3, kernel_size=(3, 3), stride=(1, 1), padding=(1, 1)))\n",
    "        self.decoder.add_module(\"AN7\", nn.ReLU())\n",
    "        self.decoder.add_module(\"UP7\", nn.Upsample(scale_factor=2))\n",
    "            \n",
    "    def freeze(self):\n",
    "        for params in self.parameters(): params.requires_grad = False\n",
    "\n",
    "    def forward(self, x):\n",
    "        encoded = self.encoder(x)\n",
    "        temp = encoded.unsqueeze(dim=2).unsqueeze(dim=3)\n",
    "        decoded = self.decoder(temp)\n",
    "\n",
    "        return encoded, decoded"
   ]
  },
  {
   "cell_type": "code",
   "execution_count": 7,
   "id": "4387c1e8",
   "metadata": {
    "execution": {
     "iopub.execute_input": "2022-10-29T16:36:46.083445Z",
     "iopub.status.busy": "2022-10-29T16:36:46.082805Z",
     "iopub.status.idle": "2022-10-29T16:36:46.099249Z",
     "shell.execute_reply": "2022-10-29T16:36:46.098417Z"
    },
    "papermill": {
     "duration": 0.022085,
     "end_time": "2022-10-29T16:36:46.101206",
     "exception": false,
     "start_time": "2022-10-29T16:36:46.079121",
     "status": "completed"
    },
    "tags": []
   },
   "outputs": [],
   "source": [
    "def fit(model=None,\n",
    "        optimizer=None, \n",
    "        scheduler_rlrop=None,\n",
    "        scheduler_oclr=None,\n",
    "        epochs=None, \n",
    "        early_stopping_patience=None, \n",
    "        dataloaders=None, \n",
    "        fold=None, \n",
    "        save_path=None,\n",
    "        device=None,\n",
    "        verbose=False\n",
    ") -> tuple:\n",
    "    \n",
    "    if verbose:\n",
    "        breaker()\n",
    "        if fold: print(f\"Training Fold {fold}...\")\n",
    "        else: print(\"Training ...\")\n",
    "        breaker()\n",
    "        \n",
    "    bestLoss: dict = {\"train\" : np.inf, \"valid\" : np.inf} \n",
    "        \n",
    "    Losses: list = []\n",
    "    LRs: list = []\n",
    "        \n",
    "    if fold: \n",
    "        name = f\"state_fold_{fold}.pt\"\n",
    "    else: \n",
    "        name = f\"state.pt\"\n",
    "    \n",
    "    start_time = time()\n",
    "    for e in range(epochs):\n",
    "        e_st = time()\n",
    "        epochLoss: dict = {\"train\" : 0.0, \"valid\" : 0.0} \n",
    "\n",
    "        for phase in [\"train\", \"valid\"]:\n",
    "            if phase == \"train\":\n",
    "                model.train()\n",
    "            else:\n",
    "                model.eval()\n",
    "            \n",
    "            lossPerPass: list = []\n",
    "                \n",
    "            for X in dataloaders[phase]:\n",
    "                # X = X.to(device)\n",
    "\n",
    "                optimizer.zero_grad()\n",
    "                with torch.set_grad_enabled(phase == \"train\"):\n",
    "                    _, d = model(X)\n",
    "                    loss = torch.nn.MSELoss()(d, X)\n",
    "                    if phase == \"train\":\n",
    "                        loss.backward()\n",
    "                        optimizer.step()\n",
    "                        if scheduler_oclr: scheduler_oclr.step()\n",
    "                lossPerPass.append(loss.item())\n",
    "            epochLoss[phase] = np.mean(np.array(lossPerPass))\n",
    "        if scheduler_oclr: LRs.append(scheduler_oclr.get_last_lr())\n",
    "        Losses.append(epochLoss)\n",
    "    \n",
    "        if scheduler_oclr:\n",
    "            save_dict = {\"model_state_dict\"     : model.state_dict(),\n",
    "                         \"optim_state_dict\"     : optimizer.state_dict(),\n",
    "                         \"scheduler_state_dict\" : scheduler_oclr.state_dict()}\n",
    "        \n",
    "        elif scheduler_rlrop:\n",
    "            save_dict = {\"model_state_dict\"     : model.state_dict(),\n",
    "                         \"optim_state_dict\"     : optimizer.state_dict(),\n",
    "                         \"scheduler_state_dict\" : scheduler_rlrop.state_dict()}\n",
    "        \n",
    "        else:\n",
    "            save_dict = {\"model_state_dict\"     : model.state_dict(),\n",
    "                         \"optim_state_dict\"     : optimizer.state_dict()}\n",
    "        \n",
    "        \n",
    "        if early_stopping_patience:\n",
    "            if epochLoss[\"valid\"] < bestLoss[\"valid\"]:\n",
    "                bestLoss = epochLoss\n",
    "                BLE = e + 1\n",
    "                torch.save(save_dict, os.path.join(save_path, name))\n",
    "                early_stopping_step = 0\n",
    "            else:\n",
    "                early_stopping_step += 1\n",
    "                if early_stopping_step > early_stopping_patience:\n",
    "                    print(\"\\nEarly Stopping at Epoch {}\".format(e + 1))\n",
    "                    break\n",
    "        \n",
    "        if epochLoss[\"valid\"] < bestLoss[\"valid\"]:\n",
    "            bestLoss = epochLoss\n",
    "            BLE = e + 1\n",
    "            torch.save(save_dict,os.path.join(save_path, name))\n",
    "    \n",
    "        if scheduler_rlrop: scheduler_rlrop.step(epochLoss[\"valid\"])\n",
    "        \n",
    "        if verbose:\n",
    "            print(\"Epoch: {} | Train Loss: {:.5f} | Valid Loss: {:.5f} | Time: {:.2f} seconds\".format(e+1, epochLoss[\"train\"], epochLoss[\"valid\"], time()-e_st))\n",
    "\n",
    "    if verbose:                                           \n",
    "        breaker()\n",
    "        print(f\"Best Validation Loss at Epoch {BLE}\")\n",
    "        breaker()\n",
    "        print(\"Time Taken [{} Epochs] : {:.2f} minutes\".format(len(Losses), (time()-start_time)/60))\n",
    "    \n",
    "    return Losses, LRs, bestLoss, BLE, name"
   ]
  },
  {
   "cell_type": "code",
   "execution_count": 8,
   "id": "bb1a4711",
   "metadata": {
    "execution": {
     "iopub.execute_input": "2022-10-29T16:36:46.107590Z",
     "iopub.status.busy": "2022-10-29T16:36:46.107344Z",
     "iopub.status.idle": "2022-10-29T16:36:46.161197Z",
     "shell.execute_reply": "2022-10-29T16:36:46.160255Z"
    },
    "papermill": {
     "duration": 0.059333,
     "end_time": "2022-10-29T16:36:46.163232",
     "exception": false,
     "start_time": "2022-10-29T16:36:46.103899",
     "status": "completed"
    },
    "tags": []
   },
   "outputs": [],
   "source": [
    "image: np.ndarray = get_image(\"../input/fdsimages/Image_2_1.jpg\", size=cfg.size)"
   ]
  },
  {
   "cell_type": "code",
   "execution_count": 9,
   "id": "dec4719e",
   "metadata": {
    "execution": {
     "iopub.execute_input": "2022-10-29T16:36:46.170062Z",
     "iopub.status.busy": "2022-10-29T16:36:46.169395Z",
     "iopub.status.idle": "2022-10-29T18:17:44.291884Z",
     "shell.execute_reply": "2022-10-29T18:17:44.290747Z"
    },
    "papermill": {
     "duration": 6058.127971,
     "end_time": "2022-10-29T18:17:44.293899",
     "exception": false,
     "start_time": "2022-10-29T16:36:46.165928",
     "status": "completed"
    },
    "tags": []
   },
   "outputs": [
    {
     "name": "stderr",
     "output_type": "stream",
     "text": [
      "Downloading: \"https://github.com/rwightman/pytorch-image-models/releases/download/v0.1-weights/efficientnet_b4_ra2_320-7eb33cd5.pth\" to /root/.cache/torch/hub/checkpoints/efficientnet_b4_ra2_320-7eb33cd5.pth\n"
     ]
    },
    {
     "name": "stdout",
     "output_type": "stream",
     "text": [
      "\n",
      "**************************************************\n",
      "\n",
      "Training ...\n",
      "\n",
      "**************************************************\n",
      "\n",
      "Epoch: 1 | Train Loss: 0.85006 | Valid Loss: 0.96645 | Time: 248.92 seconds\n",
      "Epoch: 2 | Train Loss: 0.83238 | Valid Loss: 0.86228 | Time: 244.06 seconds\n",
      "Epoch: 3 | Train Loss: 0.73789 | Valid Loss: 0.84876 | Time: 244.14 seconds\n",
      "Epoch: 4 | Train Loss: 0.65871 | Valid Loss: 0.68124 | Time: 242.44 seconds\n",
      "Epoch: 5 | Train Loss: 0.55909 | Valid Loss: 0.65451 | Time: 243.94 seconds\n",
      "Epoch: 6 | Train Loss: 0.54486 | Valid Loss: 0.46422 | Time: 242.86 seconds\n",
      "Epoch: 7 | Train Loss: 0.35399 | Valid Loss: 0.44103 | Time: 243.32 seconds\n",
      "Epoch: 8 | Train Loss: 0.33240 | Valid Loss: 0.42648 | Time: 242.71 seconds\n",
      "Epoch: 9 | Train Loss: 0.32608 | Valid Loss: 0.43067 | Time: 240.81 seconds\n",
      "Epoch: 10 | Train Loss: 0.31364 | Valid Loss: 0.44014 | Time: 240.56 seconds\n",
      "Epoch: 11 | Train Loss: 0.31185 | Valid Loss: 0.41956 | Time: 241.20 seconds\n",
      "Epoch: 12 | Train Loss: 0.30668 | Valid Loss: 0.41499 | Time: 241.67 seconds\n",
      "Epoch: 13 | Train Loss: 0.30046 | Valid Loss: 0.41885 | Time: 240.65 seconds\n",
      "Epoch: 14 | Train Loss: 0.29971 | Valid Loss: 0.41147 | Time: 241.48 seconds\n",
      "Epoch: 15 | Train Loss: 0.29637 | Valid Loss: 0.41373 | Time: 239.83 seconds\n",
      "Epoch: 16 | Train Loss: 0.29213 | Valid Loss: 0.40972 | Time: 242.37 seconds\n",
      "Epoch: 17 | Train Loss: 0.28970 | Valid Loss: 0.40980 | Time: 240.09 seconds\n",
      "Epoch: 18 | Train Loss: 0.28997 | Valid Loss: 0.40915 | Time: 241.58 seconds\n",
      "Epoch: 19 | Train Loss: 0.28741 | Valid Loss: 0.40925 | Time: 240.61 seconds\n",
      "Epoch: 20 | Train Loss: 0.28644 | Valid Loss: 0.40780 | Time: 242.54 seconds\n",
      "Epoch: 21 | Train Loss: 0.28735 | Valid Loss: 0.40825 | Time: 240.08 seconds\n",
      "Epoch: 22 | Train Loss: 0.28756 | Valid Loss: 0.40698 | Time: 240.62 seconds\n",
      "Epoch: 23 | Train Loss: 0.28446 | Valid Loss: 0.40667 | Time: 242.23 seconds\n",
      "Epoch: 24 | Train Loss: 0.28469 | Valid Loss: 0.40643 | Time: 241.67 seconds\n",
      "Epoch: 25 | Train Loss: 0.28415 | Valid Loss: 0.40651 | Time: 240.34 seconds\n",
      "\n",
      "**************************************************\n",
      "\n",
      "Best Validation Loss at Epoch 24\n",
      "\n",
      "**************************************************\n",
      "\n",
      "Time Taken [25 Epochs] : 100.85 minutes\n",
      "\n",
      "**************************************************\n",
      "\n"
     ]
    },
    {
     "data": {
      "image/png": "[encoded data removed]",
      "text/plain": [
       "<Figure size 432x288 with 1 Axes>"
      ]
     },
     "metadata": {
      "needs_background": "light"
     },
     "output_type": "display_data"
    },
    {
     "name": "stdout",
     "output_type": "stream",
     "text": [
      "\n",
      "**************************************************\n",
      "\n"
     ]
    },
    {
     "data": {
      "image/png": "[encoded data removed]",
      "text/plain": [
       "<Figure size 576x432 with 1 Axes>"
      ]
     },
     "metadata": {
      "needs_background": "light"
     },
     "output_type": "display_data"
    },
    {
     "name": "stdout",
     "output_type": "stream",
     "text": [
      "\n",
      "**************************************************\n",
      "\n"
     ]
    }
   ],
   "source": [
    "cfg.batch_size = 16\n",
    "    \n",
    "tr_data_setup = DS(\n",
    "    image=image, \n",
    "    transform=cfg.train_transform,\n",
    "    device=cfg.device\n",
    ")\n",
    "\n",
    "va_data_setup = DS(\n",
    "    image=image, \n",
    "    transform=cfg.valid_transform,\n",
    "    device=cfg.device\n",
    ")\n",
    "\n",
    "dataloaders = {\n",
    "    \"train\" : DL(tr_data_setup, batch_size=cfg.batch_size, shuffle=True, generator=torch.manual_seed(cfg.seed)),\n",
    "    \"valid\" : DL(va_data_setup, batch_size=cfg.batch_size, shuffle=False),\n",
    "}\n",
    "\n",
    "cfg.steps_per_epoch=len(dataloaders[\"train\"])\n",
    "\n",
    "torch.manual_seed(cfg.seed)\n",
    "model = Model().to(cfg.device)\n",
    "\n",
    "optimizer = optim.Adam([p for p in model.parameters() if p.requires_grad], lr=cfg.lr, weight_decay=cfg.wd)\n",
    "# optimizer = optim.AdamW([p for p in model.parameters() if p.requires_grad], lr=cfg.lr, weight_decay=cfg.wd)\n",
    "# optimizer = optim.SGD([p for p in model.parameters() if p.requires_grad], lr=cfg.lr, weight_decay=cfg.wd, momentum=0.9)\n",
    "\n",
    "scheduler_oclr = optim.lr_scheduler.OneCycleLR(\n",
    "    optimizer=optimizer, \n",
    "    max_lr=cfg.max_lr, \n",
    "    epochs=cfg.epochs, \n",
    "    steps_per_epoch=cfg.steps_per_epoch,\n",
    "    pct_start=cfg.pct_start, \n",
    "    div_factor=cfg.div_factor, \n",
    "    final_div_factor=cfg.final_div_factor\n",
    ")\n",
    "\n",
    "# scheduler_rlrop = optim.lr_scheduler.ReduceLROnPlateau(\n",
    "#     optimizer=optimizer,\n",
    "#     patience=cfg.patience,\n",
    "#     eps=cfg.eps,\n",
    "#     verbose=True\n",
    "# )\n",
    "\n",
    "# scheduler_oclr = None\n",
    "scheduler_rlrop = None\n",
    "\n",
    "L, LR, BL, _, _ = fit(\n",
    "    model=model, \n",
    "    optimizer=optimizer, \n",
    "    scheduler_oclr=scheduler_oclr,\n",
    "    scheduler_rlrop=scheduler_rlrop,\n",
    "    epochs=cfg.epochs, \n",
    "    early_stopping_patience=cfg.early_stopping, \n",
    "    dataloaders=dataloaders, \n",
    "    device=cfg.device,\n",
    "    save_path=cfg.save_path,\n",
    "    fold=None,\n",
    "    verbose=True\n",
    ")\n",
    "\n",
    "breaker()\n",
    "show_loss_graphs(L)\n",
    "breaker()\n",
    "if scheduler_oclr:\n",
    "    show_lr_graph(LR)\n",
    "    breaker()"
   ]
  }
 ],
 "metadata": {
  "kernelspec": {
   "display_name": "Python 3",
   "language": "python",
   "name": "python3"
  },
  "language_info": {
   "codemirror_mode": {
    "name": "ipython",
    "version": 3
   },
   "file_extension": ".py",
   "mimetype": "text/x-python",
   "name": "python",
   "nbconvert_exporter": "python",
   "pygments_lexer": "ipython3",
   "version": "3.7.12"
  },
  "papermill": {
   "default_parameters": {},
   "duration": 6083.368844,
   "end_time": "2022-10-29T18:17:46.596320",
   "environment_variables": {},
   "exception": null,
   "input_path": "__notebook__.ipynb",
   "output_path": "__notebook__.ipynb",
   "parameters": {},
   "start_time": "2022-10-29T16:36:23.227476",
   "version": "2.3.4"
  }
 },
 "nbformat": 4,
 "nbformat_minor": 5
}
