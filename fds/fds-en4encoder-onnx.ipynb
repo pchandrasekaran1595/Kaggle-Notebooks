{
 "cells": [
  {
   "cell_type": "code",
   "execution_count": 1,
   "id": "e91c29c5",
   "metadata": {
    "_cell_guid": "b1076dfc-b9ad-4769-8c92-a6c4dae69d19",
    "_uuid": "8f2839f25d086af736a60e9eeb907d3b93b6e0e5",
    "execution": {
     "iopub.execute_input": "2022-11-01T06:54:08.104693Z",
     "iopub.status.busy": "2022-11-01T06:54:08.103496Z",
     "iopub.status.idle": "2022-11-01T06:54:45.636591Z",
     "shell.execute_reply": "2022-11-01T06:54:45.635136Z"
    },
    "papermill": {
     "duration": 37.547568,
     "end_time": "2022-11-01T06:54:45.644110",
     "exception": false,
     "start_time": "2022-11-01T06:54:08.096542",
     "status": "completed"
    },
    "tags": []
   },
   "outputs": [
    {
     "name": "stderr",
     "output_type": "stream",
     "text": [
      "WARNING: Running pip as the 'root' user can result in broken permissions and conflicting behaviour with the system package manager. It is recommended to use a virtual environment instead: https://pip.pypa.io/warnings/venv\n",
      "WARNING: Running pip as the 'root' user can result in broken permissions and conflicting behaviour with the system package manager. It is recommended to use a virtual environment instead: https://pip.pypa.io/warnings/venv\n",
      "WARNING: Running pip as the 'root' user can result in broken permissions and conflicting behaviour with the system package manager. It is recommended to use a virtual environment instead: https://pip.pypa.io/warnings/venv\n"
     ]
    }
   ],
   "source": [
    "%%bash\n",
    "pip install timm -q\n",
    "pip install onnx -q\n",
    "pip install onnxruntime -q"
   ]
  },
  {
   "cell_type": "code",
   "execution_count": 2,
   "id": "06d85e79",
   "metadata": {
    "execution": {
     "iopub.execute_input": "2022-11-01T06:54:45.654580Z",
     "iopub.status.busy": "2022-11-01T06:54:45.654195Z",
     "iopub.status.idle": "2022-11-01T06:54:48.814628Z",
     "shell.execute_reply": "2022-11-01T06:54:48.813320Z"
    },
    "papermill": {
     "duration": 3.168902,
     "end_time": "2022-11-01T06:54:48.817447",
     "exception": false,
     "start_time": "2022-11-01T06:54:45.648545",
     "status": "completed"
    },
    "tags": []
   },
   "outputs": [],
   "source": [
    "import os\n",
    "import re\n",
    "import timm\n",
    "import onnx\n",
    "import torch\n",
    "import numpy as np\n",
    "import onnxruntime as ort\n",
    "\n",
    "from torch import nn"
   ]
  },
  {
   "cell_type": "code",
   "execution_count": 3,
   "id": "ef338182",
   "metadata": {
    "execution": {
     "iopub.execute_input": "2022-11-01T06:54:48.828163Z",
     "iopub.status.busy": "2022-11-01T06:54:48.827445Z",
     "iopub.status.idle": "2022-11-01T06:54:48.833190Z",
     "shell.execute_reply": "2022-11-01T06:54:48.831921Z"
    },
    "papermill": {
     "duration": 0.013694,
     "end_time": "2022-11-01T06:54:48.835393",
     "exception": false,
     "start_time": "2022-11-01T06:54:48.821699",
     "status": "completed"
    },
    "tags": []
   },
   "outputs": [],
   "source": [
    "def breaker(num: int=50, char: str=\"*\") -> None: print(\"\\n\" + num*char + \"\\n\")"
   ]
  },
  {
   "cell_type": "code",
   "execution_count": 4,
   "id": "12afecab",
   "metadata": {
    "execution": {
     "iopub.execute_input": "2022-11-01T06:54:48.845803Z",
     "iopub.status.busy": "2022-11-01T06:54:48.844989Z",
     "iopub.status.idle": "2022-11-01T06:54:48.852953Z",
     "shell.execute_reply": "2022-11-01T06:54:48.851796Z"
    },
    "papermill": {
     "duration": 0.015639,
     "end_time": "2022-11-01T06:54:48.855192",
     "exception": false,
     "start_time": "2022-11-01T06:54:48.839553",
     "status": "completed"
    },
    "tags": []
   },
   "outputs": [],
   "source": [
    "class CFG(object):  \n",
    "    def __init__(self, \n",
    "             in_channels: int=3, \n",
    "             size: int=384, \n",
    "             opset_version: int=9, \n",
    "             path: str=None):\n",
    "        self.in_channels = in_channels\n",
    "        self.size = size\n",
    "        self.dummy = torch.randn(1, self.in_channels, self.size, self.size)\n",
    "        self.opset_version = opset_version\n",
    "        self.path = path"
   ]
  },
  {
   "cell_type": "code",
   "execution_count": 5,
   "id": "67fc10e3",
   "metadata": {
    "execution": {
     "iopub.execute_input": "2022-11-01T06:54:48.864935Z",
     "iopub.status.busy": "2022-11-01T06:54:48.864545Z",
     "iopub.status.idle": "2022-11-01T06:54:48.882819Z",
     "shell.execute_reply": "2022-11-01T06:54:48.881893Z"
    },
    "papermill": {
     "duration": 0.02615,
     "end_time": "2022-11-01T06:54:48.885469",
     "exception": false,
     "start_time": "2022-11-01T06:54:48.859319",
     "status": "completed"
    },
    "tags": []
   },
   "outputs": [],
   "source": [
    "class Model(nn.Module):\n",
    "    def __init__(self):\n",
    "        super(Model, self).__init__()\n",
    "            \n",
    "        self.encoder = timm.create_model(\"efficientnet_b4\", pretrained=False)\n",
    "        self.encoder = nn.Sequential(*[*self.encoder.children()][:-1])\n",
    "        \n",
    "        self.decoder = nn.Sequential()\n",
    "        self.decoder.add_module(\"DC1\", nn.ConvTranspose2d(in_channels=1792, out_channels=512, kernel_size=(5, 5), stride=(1, 1), padding=(1, 1)))\n",
    "        self.decoder.add_module(\"AN1\", nn.ReLU())\n",
    "        self.decoder.add_module(\"UP1\", nn.Upsample(scale_factor=2))\n",
    "        self.decoder.add_module(\"DC2\", nn.ConvTranspose2d(in_channels=512, out_channels=256, kernel_size=(3, 3), stride=(1, 1), padding=(1, 1)))\n",
    "        self.decoder.add_module(\"AN2\", nn.ReLU())\n",
    "        self.decoder.add_module(\"UP2\", nn.Upsample(scale_factor=2))\n",
    "        self.decoder.add_module(\"DC3\", nn.ConvTranspose2d(in_channels=256, out_channels=128, kernel_size=(3, 3), stride=(1, 1), padding=(1, 1)))\n",
    "        self.decoder.add_module(\"AN3\", nn.ReLU())\n",
    "        self.decoder.add_module(\"UP3\", nn.Upsample(scale_factor=2))\n",
    "        self.decoder.add_module(\"DC4\", nn.ConvTranspose2d(in_channels=128, out_channels=64, kernel_size=(3, 3), stride=(1, 1), padding=(1, 1)))\n",
    "        self.decoder.add_module(\"AN4\", nn.ReLU())\n",
    "        self.decoder.add_module(\"UP4\", nn.Upsample(scale_factor=2))\n",
    "        self.decoder.add_module(\"DC5\", nn.ConvTranspose2d(in_channels=64, out_channels=3, kernel_size=(3, 3), stride=(1, 1), padding=(1, 1)))\n",
    "        self.decoder.add_module(\"AN5\", nn.ReLU())\n",
    "        self.decoder.add_module(\"UP5\", nn.Upsample(scale_factor=2))\n",
    "        self.decoder.add_module(\"DC6\", nn.ConvTranspose2d(in_channels=3, out_channels=3, kernel_size=(3, 3), stride=(1, 1), padding=(1, 1)))\n",
    "        self.decoder.add_module(\"AN6\", nn.ReLU())\n",
    "        self.decoder.add_module(\"UP6\", nn.Upsample(scale_factor=2))\n",
    "        self.decoder.add_module(\"DC7\", nn.ConvTranspose2d(in_channels=3, out_channels=3, kernel_size=(3, 3), stride=(1, 1), padding=(1, 1)))\n",
    "        self.decoder.add_module(\"AN7\", nn.ReLU())\n",
    "        self.decoder.add_module(\"UP7\", nn.Upsample(scale_factor=2))\n",
    "\n",
    "    def forward(self, x):\n",
    "        encoded = self.encoder(x)\n",
    "        temp = encoded.unsqueeze(dim=2).unsqueeze(dim=3)\n",
    "        decoded = self.decoder(temp)\n",
    "\n",
    "        return encoded, decoded"
   ]
  },
  {
   "cell_type": "code",
   "execution_count": 6,
   "id": "c458527c",
   "metadata": {
    "execution": {
     "iopub.execute_input": "2022-11-01T06:54:48.896180Z",
     "iopub.status.busy": "2022-11-01T06:54:48.894942Z",
     "iopub.status.idle": "2022-11-01T06:54:48.902862Z",
     "shell.execute_reply": "2022-11-01T06:54:48.901330Z"
    },
    "papermill": {
     "duration": 0.015929,
     "end_time": "2022-11-01T06:54:48.905547",
     "exception": false,
     "start_time": "2022-11-01T06:54:48.889618",
     "status": "completed"
    },
    "tags": []
   },
   "outputs": [],
   "source": [
    "class EncoderModel(nn.Module):\n",
    "    def __init__(self):\n",
    "        super(EncoderModel, self).__init__()\n",
    "            \n",
    "        self.encoder = timm.create_model(\"efficientnet_b4\", pretrained=False)\n",
    "        self.encoder = nn.Sequential(*[*self.encoder.children()][:-1])\n",
    "\n",
    "    def forward(self, x):\n",
    "        return self.encoder(x)"
   ]
  },
  {
   "cell_type": "markdown",
   "id": "cfb76c34",
   "metadata": {
    "papermill": {
     "duration": 0.003926,
     "end_time": "2022-11-01T06:54:48.913777",
     "exception": false,
     "start_time": "2022-11-01T06:54:48.909851",
     "status": "completed"
    },
    "tags": []
   },
   "source": [
    "### **I1T1**"
   ]
  },
  {
   "cell_type": "code",
   "execution_count": 7,
   "id": "8e5ca187",
   "metadata": {
    "execution": {
     "iopub.execute_input": "2022-11-01T06:54:48.924245Z",
     "iopub.status.busy": "2022-11-01T06:54:48.923215Z",
     "iopub.status.idle": "2022-11-01T06:55:16.871358Z",
     "shell.execute_reply": "2022-11-01T06:55:16.870256Z"
    },
    "papermill": {
     "duration": 27.956274,
     "end_time": "2022-11-01T06:55:16.874151",
     "exception": false,
     "start_time": "2022-11-01T06:54:48.917877",
     "status": "completed"
    },
    "tags": []
   },
   "outputs": [],
   "source": [
    "cfg = CFG(\n",
    "    in_channels=3, \n",
    "    size=384, \n",
    "    opset_version=15, \n",
    "    path=\"../input/fds-en4-ae384-i1t1-s42/saves/state.pt\",\n",
    ")\n",
    "\n",
    "model = Model()\n",
    "model.load_state_dict(torch.load(cfg.path, map_location=torch.device(\"cpu\"))[\"model_state_dict\"])\n",
    "model.eval()\n",
    "\n",
    "encoder_model_state_dict = dict()\n",
    "\n",
    "for names, params in model.state_dict().items():\n",
    "    if re.match(r\"encoder\", names, re.IGNORECASE):\n",
    "        encoder_model_state_dict[names] = params\n",
    "\n",
    "encoder_model = EncoderModel()\n",
    "encoder_model.load_state_dict(encoder_model_state_dict)\n",
    "encoder_model.eval()\n",
    "\n",
    "torch.onnx.export(\n",
    "    model=encoder_model, \n",
    "    args=cfg.dummy, \n",
    "    f=\"I1T1-EN384AE.onnx\", \n",
    "    input_names=[\"input\"], \n",
    "    output_names=[\"output\"], \n",
    "    opset_version=cfg.opset_version,\n",
    "    export_params=True,\n",
    "    training=torch.onnx.TrainingMode.EVAL,\n",
    "    operator_export_type=torch.onnx.OperatorExportTypes.ONNX,\n",
    "    dynamic_axes={\n",
    "      \"input\"  : {0 : \"batch_size\"},\n",
    "      \"output\" : {0 : \"batch_size\"},\n",
    "    }\n",
    ")\n",
    "\n",
    "onnx_model = onnx.load(\"I1T1-EN384AE.onnx\")\n",
    "onnx.checker.check_model(onnx_model)\n",
    "ort_session = ort.InferenceSession(\"I1T1-EN384AE.onnx\")"
   ]
  },
  {
   "cell_type": "markdown",
   "id": "8be92604",
   "metadata": {
    "papermill": {
     "duration": 0.003903,
     "end_time": "2022-11-01T06:55:16.882502",
     "exception": false,
     "start_time": "2022-11-01T06:55:16.878599",
     "status": "completed"
    },
    "tags": []
   },
   "source": [
    "### **I2T1**"
   ]
  },
  {
   "cell_type": "code",
   "execution_count": 8,
   "id": "73a8cad7",
   "metadata": {
    "execution": {
     "iopub.execute_input": "2022-11-01T06:55:16.892382Z",
     "iopub.status.busy": "2022-11-01T06:55:16.891979Z",
     "iopub.status.idle": "2022-11-01T06:55:44.496787Z",
     "shell.execute_reply": "2022-11-01T06:55:44.495434Z"
    },
    "papermill": {
     "duration": 27.613112,
     "end_time": "2022-11-01T06:55:44.499733",
     "exception": false,
     "start_time": "2022-11-01T06:55:16.886621",
     "status": "completed"
    },
    "tags": []
   },
   "outputs": [],
   "source": [
    "cfg = CFG(\n",
    "    in_channels=3, \n",
    "    size=384, \n",
    "    opset_version=15, \n",
    "    path=\"../input/fds-en4-ae384-i2t1-s42/saves/state.pt\",\n",
    ")\n",
    "\n",
    "model = Model()\n",
    "model.load_state_dict(torch.load(cfg.path, map_location=torch.device(\"cpu\"))[\"model_state_dict\"])\n",
    "model.eval()\n",
    "\n",
    "encoder_model_state_dict = dict()\n",
    "\n",
    "for names, params in model.state_dict().items():\n",
    "    if re.match(r\"encoder\", names, re.IGNORECASE):\n",
    "        encoder_model_state_dict[names] = params\n",
    "\n",
    "encoder_model = EncoderModel()\n",
    "encoder_model.load_state_dict(encoder_model_state_dict)\n",
    "encoder_model.eval()\n",
    "\n",
    "torch.onnx.export(\n",
    "    model=encoder_model, \n",
    "    args=cfg.dummy, \n",
    "    f=\"I2T1-EN384AE.onnx\", \n",
    "    input_names=[\"input\"], \n",
    "    output_names=[\"output\"], \n",
    "    opset_version=cfg.opset_version,\n",
    "    export_params=True,\n",
    "    training=torch.onnx.TrainingMode.EVAL,\n",
    "    operator_export_type=torch.onnx.OperatorExportTypes.ONNX,\n",
    "    dynamic_axes={\n",
    "      \"input\"  : {0 : \"batch_size\"},\n",
    "      \"output\" : {0 : \"batch_size\"},\n",
    "    }\n",
    ")\n",
    "\n",
    "onnx_model = onnx.load(\"I2T1-EN384AE.onnx\")\n",
    "onnx.checker.check_model(onnx_model)\n",
    "ort_session = ort.InferenceSession(\"I2T1-EN384AE.onnx\")"
   ]
  },
  {
   "cell_type": "markdown",
   "id": "746e4d04",
   "metadata": {
    "papermill": {
     "duration": 0.003709,
     "end_time": "2022-11-01T06:55:44.507713",
     "exception": false,
     "start_time": "2022-11-01T06:55:44.504004",
     "status": "completed"
    },
    "tags": []
   },
   "source": [
    "### **I3T1**"
   ]
  },
  {
   "cell_type": "code",
   "execution_count": 9,
   "id": "23358a84",
   "metadata": {
    "execution": {
     "iopub.execute_input": "2022-11-01T06:55:44.517870Z",
     "iopub.status.busy": "2022-11-01T06:55:44.516729Z",
     "iopub.status.idle": "2022-11-01T06:56:11.604050Z",
     "shell.execute_reply": "2022-11-01T06:56:11.602883Z"
    },
    "papermill": {
     "duration": 27.095624,
     "end_time": "2022-11-01T06:56:11.607196",
     "exception": false,
     "start_time": "2022-11-01T06:55:44.511572",
     "status": "completed"
    },
    "tags": []
   },
   "outputs": [],
   "source": [
    "cfg = CFG(\n",
    "    in_channels=3, \n",
    "    size=384, \n",
    "    opset_version=15, \n",
    "    path=\"../input/fds-en4-ae384-i3t1-s42/saves/state.pt\",\n",
    ")\n",
    "\n",
    "model = Model()\n",
    "model.load_state_dict(torch.load(cfg.path, map_location=torch.device(\"cpu\"))[\"model_state_dict\"])\n",
    "model.eval()\n",
    "\n",
    "encoder_model_state_dict = dict()\n",
    "\n",
    "for names, params in model.state_dict().items():\n",
    "    if re.match(r\"encoder\", names, re.IGNORECASE):\n",
    "        encoder_model_state_dict[names] = params\n",
    "\n",
    "encoder_model = EncoderModel()\n",
    "encoder_model.load_state_dict(encoder_model_state_dict)\n",
    "encoder_model.eval()\n",
    "\n",
    "torch.onnx.export(\n",
    "    model=encoder_model, \n",
    "    args=cfg.dummy, \n",
    "    f=\"I3T1-EN384AE.onnx\", \n",
    "    input_names=[\"input\"], \n",
    "    output_names=[\"output\"], \n",
    "    opset_version=cfg.opset_version,\n",
    "    export_params=True,\n",
    "    training=torch.onnx.TrainingMode.EVAL,\n",
    "    operator_export_type=torch.onnx.OperatorExportTypes.ONNX,\n",
    "    dynamic_axes={\n",
    "      \"input\"  : {0 : \"batch_size\"},\n",
    "      \"output\" : {0 : \"batch_size\"},\n",
    "    }\n",
    ")\n",
    "\n",
    "onnx_model = onnx.load(\"I3T1-EN384AE.onnx\")\n",
    "onnx.checker.check_model(onnx_model)\n",
    "ort_session = ort.InferenceSession(\"I3T1-EN384AE.onnx\")"
   ]
  },
  {
   "cell_type": "markdown",
   "id": "7810a1cd",
   "metadata": {
    "papermill": {
     "duration": 0.003769,
     "end_time": "2022-11-01T06:56:11.615204",
     "exception": false,
     "start_time": "2022-11-01T06:56:11.611435",
     "status": "completed"
    },
    "tags": []
   },
   "source": [
    "### **I4T1**"
   ]
  },
  {
   "cell_type": "code",
   "execution_count": 10,
   "id": "b18a34b8",
   "metadata": {
    "execution": {
     "iopub.execute_input": "2022-11-01T06:56:11.624812Z",
     "iopub.status.busy": "2022-11-01T06:56:11.624397Z",
     "iopub.status.idle": "2022-11-01T06:56:39.449195Z",
     "shell.execute_reply": "2022-11-01T06:56:39.448089Z"
    },
    "papermill": {
     "duration": 27.832829,
     "end_time": "2022-11-01T06:56:39.451953",
     "exception": false,
     "start_time": "2022-11-01T06:56:11.619124",
     "status": "completed"
    },
    "tags": []
   },
   "outputs": [],
   "source": [
    "cfg = CFG(\n",
    "    in_channels=3, \n",
    "    size=384, \n",
    "    opset_version=15, \n",
    "    path=\"../input/fds-en4-ae384-i4t1-s42/saves/state.pt\",\n",
    ")\n",
    "\n",
    "model = Model()\n",
    "model.load_state_dict(torch.load(cfg.path, map_location=torch.device(\"cpu\"))[\"model_state_dict\"])\n",
    "model.eval()\n",
    "\n",
    "encoder_model_state_dict = dict()\n",
    "\n",
    "for names, params in model.state_dict().items():\n",
    "    if re.match(r\"encoder\", names, re.IGNORECASE):\n",
    "        encoder_model_state_dict[names] = params\n",
    "\n",
    "encoder_model = EncoderModel()\n",
    "encoder_model.load_state_dict(encoder_model_state_dict)\n",
    "encoder_model.eval()\n",
    "\n",
    "torch.onnx.export(\n",
    "    model=encoder_model, \n",
    "    args=cfg.dummy, \n",
    "    f=\"I4T1-EN384AE.onnx\", \n",
    "    input_names=[\"input\"], \n",
    "    output_names=[\"output\"], \n",
    "    opset_version=cfg.opset_version,\n",
    "    export_params=True,\n",
    "    training=torch.onnx.TrainingMode.EVAL,\n",
    "    operator_export_type=torch.onnx.OperatorExportTypes.ONNX,\n",
    "    dynamic_axes={\n",
    "      \"input\"  : {0 : \"batch_size\"},\n",
    "      \"output\" : {0 : \"batch_size\"},\n",
    "    }\n",
    ")\n",
    "\n",
    "onnx_model = onnx.load(\"I4T1-EN384AE.onnx\")\n",
    "onnx.checker.check_model(onnx_model)\n",
    "ort_session = ort.InferenceSession(\"I4T1-EN384AE.onnx\")"
   ]
  }
 ],
 "metadata": {
  "kernelspec": {
   "display_name": "Python 3",
   "language": "python",
   "name": "python3"
  },
  "language_info": {
   "codemirror_mode": {
    "name": "ipython",
    "version": 3
   },
   "file_extension": ".py",
   "mimetype": "text/x-python",
   "name": "python",
   "nbconvert_exporter": "python",
   "pygments_lexer": "ipython3",
   "version": "3.7.12"
  },
  "papermill": {
   "default_parameters": {},
   "duration": 160.753054,
   "end_time": "2022-11-01T06:56:40.580558",
   "environment_variables": {},
   "exception": null,
   "input_path": "__notebook__.ipynb",
   "output_path": "__notebook__.ipynb",
   "parameters": {},
   "start_time": "2022-11-01T06:53:59.827504",
   "version": "2.3.4"
  }
 },
 "nbformat": 4,
 "nbformat_minor": 5
}
