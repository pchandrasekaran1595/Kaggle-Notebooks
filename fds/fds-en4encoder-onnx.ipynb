{
 "cells": [
  {
   "cell_type": "code",
   "execution_count": 1,
   "id": "25b266b8",
   "metadata": {
    "_cell_guid": "b1076dfc-b9ad-4769-8c92-a6c4dae69d19",
    "_uuid": "8f2839f25d086af736a60e9eeb907d3b93b6e0e5",
    "execution": {
     "iopub.execute_input": "2022-11-01T11:02:28.203250Z",
     "iopub.status.busy": "2022-11-01T11:02:28.202868Z",
     "iopub.status.idle": "2022-11-01T11:02:57.870239Z",
     "shell.execute_reply": "2022-11-01T11:02:57.869083Z"
    },
    "papermill": {
     "duration": 29.676128,
     "end_time": "2022-11-01T11:02:57.872941",
     "exception": false,
     "start_time": "2022-11-01T11:02:28.196813",
     "status": "completed"
    },
    "tags": []
   },
   "outputs": [
    {
     "name": "stderr",
     "output_type": "stream",
     "text": [
      "WARNING: Running pip as the 'root' user can result in broken permissions and conflicting behaviour with the system package manager. It is recommended to use a virtual environment instead: https://pip.pypa.io/warnings/venv\n",
      "WARNING: Running pip as the 'root' user can result in broken permissions and conflicting behaviour with the system package manager. It is recommended to use a virtual environment instead: https://pip.pypa.io/warnings/venv\n",
      "WARNING: Running pip as the 'root' user can result in broken permissions and conflicting behaviour with the system package manager. It is recommended to use a virtual environment instead: https://pip.pypa.io/warnings/venv\n"
     ]
    }
   ],
   "source": [
    "%%bash\n",
    "pip install timm -q\n",
    "pip install onnx -q\n",
    "pip install onnxruntime -q"
   ]
  },
  {
   "cell_type": "code",
   "execution_count": 2,
   "id": "9b775608",
   "metadata": {
    "execution": {
     "iopub.execute_input": "2022-11-01T11:02:57.882672Z",
     "iopub.status.busy": "2022-11-01T11:02:57.882247Z",
     "iopub.status.idle": "2022-11-01T11:03:01.560283Z",
     "shell.execute_reply": "2022-11-01T11:03:01.558763Z"
    },
    "papermill": {
     "duration": 3.685939,
     "end_time": "2022-11-01T11:03:01.562904",
     "exception": false,
     "start_time": "2022-11-01T11:02:57.876965",
     "status": "completed"
    },
    "tags": []
   },
   "outputs": [],
   "source": [
    "import os\n",
    "import re\n",
    "import timm\n",
    "import onnx\n",
    "import torch\n",
    "import numpy as np\n",
    "import onnxruntime as ort\n",
    "\n",
    "from torch import nn"
   ]
  },
  {
   "cell_type": "code",
   "execution_count": 3,
   "id": "6aebcf02",
   "metadata": {
    "execution": {
     "iopub.execute_input": "2022-11-01T11:03:01.572659Z",
     "iopub.status.busy": "2022-11-01T11:03:01.571992Z",
     "iopub.status.idle": "2022-11-01T11:03:01.578915Z",
     "shell.execute_reply": "2022-11-01T11:03:01.577499Z"
    },
    "papermill": {
     "duration": 0.014948,
     "end_time": "2022-11-01T11:03:01.581684",
     "exception": false,
     "start_time": "2022-11-01T11:03:01.566736",
     "status": "completed"
    },
    "tags": []
   },
   "outputs": [],
   "source": [
    "def breaker(num: int=50, char: str=\"*\") -> None: print(\"\\n\" + num*char + \"\\n\")\n",
    "    \n",
    "os.makedirs(\"onnx\")\n",
    "os.makedirs(\"pt\")"
   ]
  },
  {
   "cell_type": "code",
   "execution_count": 4,
   "id": "3ac8821d",
   "metadata": {
    "execution": {
     "iopub.execute_input": "2022-11-01T11:03:01.591539Z",
     "iopub.status.busy": "2022-11-01T11:03:01.591140Z",
     "iopub.status.idle": "2022-11-01T11:03:01.597351Z",
     "shell.execute_reply": "2022-11-01T11:03:01.596101Z"
    },
    "papermill": {
     "duration": 0.013565,
     "end_time": "2022-11-01T11:03:01.599337",
     "exception": false,
     "start_time": "2022-11-01T11:03:01.585772",
     "status": "completed"
    },
    "tags": []
   },
   "outputs": [],
   "source": [
    "class CFG(object):  \n",
    "    def __init__(self, \n",
    "             in_channels: int=3, \n",
    "             size: int=384, \n",
    "             opset_version: int=9, \n",
    "             path: str=None):\n",
    "        self.in_channels = in_channels\n",
    "        self.size = size\n",
    "        self.dummy = torch.randn(1, self.in_channels, self.size, self.size)\n",
    "        self.opset_version = opset_version\n",
    "        self.path = path"
   ]
  },
  {
   "cell_type": "code",
   "execution_count": 5,
   "id": "56594b60",
   "metadata": {
    "execution": {
     "iopub.execute_input": "2022-11-01T11:03:01.608693Z",
     "iopub.status.busy": "2022-11-01T11:03:01.608268Z",
     "iopub.status.idle": "2022-11-01T11:03:01.625521Z",
     "shell.execute_reply": "2022-11-01T11:03:01.624453Z"
    },
    "papermill": {
     "duration": 0.02469,
     "end_time": "2022-11-01T11:03:01.628008",
     "exception": false,
     "start_time": "2022-11-01T11:03:01.603318",
     "status": "completed"
    },
    "tags": []
   },
   "outputs": [],
   "source": [
    "class Model(nn.Module):\n",
    "    def __init__(self):\n",
    "        super(Model, self).__init__()\n",
    "            \n",
    "        self.encoder = timm.create_model(\"efficientnet_b4\", pretrained=False)\n",
    "        self.encoder = nn.Sequential(*[*self.encoder.children()][:-1])\n",
    "        \n",
    "        self.decoder = nn.Sequential()\n",
    "        self.decoder.add_module(\"DC1\", nn.ConvTranspose2d(in_channels=1792, out_channels=512, kernel_size=(5, 5), stride=(1, 1), padding=(1, 1)))\n",
    "        self.decoder.add_module(\"AN1\", nn.ReLU())\n",
    "        self.decoder.add_module(\"UP1\", nn.Upsample(scale_factor=2))\n",
    "        self.decoder.add_module(\"DC2\", nn.ConvTranspose2d(in_channels=512, out_channels=256, kernel_size=(3, 3), stride=(1, 1), padding=(1, 1)))\n",
    "        self.decoder.add_module(\"AN2\", nn.ReLU())\n",
    "        self.decoder.add_module(\"UP2\", nn.Upsample(scale_factor=2))\n",
    "        self.decoder.add_module(\"DC3\", nn.ConvTranspose2d(in_channels=256, out_channels=128, kernel_size=(3, 3), stride=(1, 1), padding=(1, 1)))\n",
    "        self.decoder.add_module(\"AN3\", nn.ReLU())\n",
    "        self.decoder.add_module(\"UP3\", nn.Upsample(scale_factor=2))\n",
    "        self.decoder.add_module(\"DC4\", nn.ConvTranspose2d(in_channels=128, out_channels=64, kernel_size=(3, 3), stride=(1, 1), padding=(1, 1)))\n",
    "        self.decoder.add_module(\"AN4\", nn.ReLU())\n",
    "        self.decoder.add_module(\"UP4\", nn.Upsample(scale_factor=2))\n",
    "        self.decoder.add_module(\"DC5\", nn.ConvTranspose2d(in_channels=64, out_channels=3, kernel_size=(3, 3), stride=(1, 1), padding=(1, 1)))\n",
    "        self.decoder.add_module(\"AN5\", nn.ReLU())\n",
    "        self.decoder.add_module(\"UP5\", nn.Upsample(scale_factor=2))\n",
    "        self.decoder.add_module(\"DC6\", nn.ConvTranspose2d(in_channels=3, out_channels=3, kernel_size=(3, 3), stride=(1, 1), padding=(1, 1)))\n",
    "        self.decoder.add_module(\"AN6\", nn.ReLU())\n",
    "        self.decoder.add_module(\"UP6\", nn.Upsample(scale_factor=2))\n",
    "        self.decoder.add_module(\"DC7\", nn.ConvTranspose2d(in_channels=3, out_channels=3, kernel_size=(3, 3), stride=(1, 1), padding=(1, 1)))\n",
    "        self.decoder.add_module(\"AN7\", nn.ReLU())\n",
    "        self.decoder.add_module(\"UP7\", nn.Upsample(scale_factor=2))\n",
    "\n",
    "    def forward(self, x):\n",
    "        encoded = self.encoder(x)\n",
    "        temp = encoded.unsqueeze(dim=2).unsqueeze(dim=3)\n",
    "        decoded = self.decoder(temp)\n",
    "\n",
    "        return encoded, decoded"
   ]
  },
  {
   "cell_type": "code",
   "execution_count": 6,
   "id": "d9b27cca",
   "metadata": {
    "execution": {
     "iopub.execute_input": "2022-11-01T11:03:01.637229Z",
     "iopub.status.busy": "2022-11-01T11:03:01.636866Z",
     "iopub.status.idle": "2022-11-01T11:03:01.643375Z",
     "shell.execute_reply": "2022-11-01T11:03:01.641798Z"
    },
    "papermill": {
     "duration": 0.013788,
     "end_time": "2022-11-01T11:03:01.645720",
     "exception": false,
     "start_time": "2022-11-01T11:03:01.631932",
     "status": "completed"
    },
    "tags": []
   },
   "outputs": [],
   "source": [
    "class EncoderModel(nn.Module):\n",
    "    def __init__(self):\n",
    "        super(EncoderModel, self).__init__()\n",
    "            \n",
    "        self.encoder = timm.create_model(\"efficientnet_b4\", pretrained=False)\n",
    "        self.encoder = nn.Sequential(*[*self.encoder.children()][:-1])\n",
    "\n",
    "    def forward(self, x):\n",
    "        return self.encoder(x)"
   ]
  },
  {
   "cell_type": "markdown",
   "id": "7c84cfc7",
   "metadata": {
    "papermill": {
     "duration": 0.003373,
     "end_time": "2022-11-01T11:03:01.652906",
     "exception": false,
     "start_time": "2022-11-01T11:03:01.649533",
     "status": "completed"
    },
    "tags": []
   },
   "source": [
    "### **I1T1**"
   ]
  },
  {
   "cell_type": "code",
   "execution_count": 7,
   "id": "98d1f857",
   "metadata": {
    "execution": {
     "iopub.execute_input": "2022-11-01T11:03:01.661573Z",
     "iopub.status.busy": "2022-11-01T11:03:01.661197Z",
     "iopub.status.idle": "2022-11-01T11:03:27.652431Z",
     "shell.execute_reply": "2022-11-01T11:03:27.651376Z"
    },
    "papermill": {
     "duration": 25.998805,
     "end_time": "2022-11-01T11:03:27.655255",
     "exception": false,
     "start_time": "2022-11-01T11:03:01.656450",
     "status": "completed"
    },
    "tags": []
   },
   "outputs": [],
   "source": [
    "cfg = CFG(\n",
    "    in_channels=3, \n",
    "    size=384, \n",
    "    opset_version=15, \n",
    "    path=\"../input/fds-en4-ae384-i1t1-s42/saves/state.pt\",\n",
    ")\n",
    "\n",
    "model = Model()\n",
    "model.load_state_dict(torch.load(cfg.path, map_location=torch.device(\"cpu\"))[\"model_state_dict\"])\n",
    "model.eval()\n",
    "\n",
    "encoder_model_state_dict = dict()\n",
    "\n",
    "for names, params in model.state_dict().items():\n",
    "    if re.match(r\"encoder\", names, re.IGNORECASE):\n",
    "        encoder_model_state_dict[names] = params\n",
    "\n",
    "encoder_model = EncoderModel()\n",
    "encoder_model.load_state_dict(encoder_model_state_dict)\n",
    "encoder_model.eval()\n",
    "torch.save(encoder_model.state_dict(), \"pt/I1T1-EN384AE.pt\")\n",
    "\n",
    "torch.onnx.export(\n",
    "    model=encoder_model, \n",
    "    args=cfg.dummy, \n",
    "    f=\"onnx/I1T1-EN384AE.onnx\", \n",
    "    input_names=[\"input\"], \n",
    "    output_names=[\"output\"], \n",
    "    opset_version=cfg.opset_version,\n",
    "    export_params=True,\n",
    "    training=torch.onnx.TrainingMode.EVAL,\n",
    "    operator_export_type=torch.onnx.OperatorExportTypes.ONNX,\n",
    "    dynamic_axes={\n",
    "      \"input\"  : {0 : \"batch_size\"},\n",
    "      \"output\" : {0 : \"batch_size\"},\n",
    "    }\n",
    ")\n",
    "\n",
    "onnx_model = onnx.load(\"onnx/I1T1-EN384AE.onnx\")\n",
    "onnx.checker.check_model(onnx_model)\n",
    "ort_session = ort.InferenceSession(\"onnx/I1T1-EN384AE.onnx\")"
   ]
  },
  {
   "cell_type": "markdown",
   "id": "43c2d2da",
   "metadata": {
    "papermill": {
     "duration": 0.004237,
     "end_time": "2022-11-01T11:03:27.663360",
     "exception": false,
     "start_time": "2022-11-01T11:03:27.659123",
     "status": "completed"
    },
    "tags": []
   },
   "source": [
    "### **I2T1**"
   ]
  },
  {
   "cell_type": "code",
   "execution_count": 8,
   "id": "c67ba33f",
   "metadata": {
    "execution": {
     "iopub.execute_input": "2022-11-01T11:03:27.673041Z",
     "iopub.status.busy": "2022-11-01T11:03:27.672638Z",
     "iopub.status.idle": "2022-11-01T11:03:53.416734Z",
     "shell.execute_reply": "2022-11-01T11:03:53.415053Z"
    },
    "papermill": {
     "duration": 25.751746,
     "end_time": "2022-11-01T11:03:53.419197",
     "exception": false,
     "start_time": "2022-11-01T11:03:27.667451",
     "status": "completed"
    },
    "tags": []
   },
   "outputs": [],
   "source": [
    "cfg = CFG(\n",
    "    in_channels=3, \n",
    "    size=384, \n",
    "    opset_version=15, \n",
    "    path=\"../input/fds-en4-ae384-i2t1-s42/saves/state.pt\",\n",
    ")\n",
    "\n",
    "model = Model()\n",
    "model.load_state_dict(torch.load(cfg.path, map_location=torch.device(\"cpu\"))[\"model_state_dict\"])\n",
    "model.eval()\n",
    "\n",
    "encoder_model_state_dict = dict()\n",
    "\n",
    "for names, params in model.state_dict().items():\n",
    "    if re.match(r\"encoder\", names, re.IGNORECASE):\n",
    "        encoder_model_state_dict[names] = params\n",
    "\n",
    "encoder_model = EncoderModel()\n",
    "encoder_model.load_state_dict(encoder_model_state_dict)\n",
    "encoder_model.eval()\n",
    "torch.save(encoder_model.state_dict(), \"pt/I2T1-EN384AE.pt\")\n",
    "\n",
    "torch.onnx.export(\n",
    "    model=encoder_model, \n",
    "    args=cfg.dummy, \n",
    "    f=\"onnx/I2T1-EN384AE.onnx\", \n",
    "    input_names=[\"input\"], \n",
    "    output_names=[\"output\"], \n",
    "    opset_version=cfg.opset_version,\n",
    "    export_params=True,\n",
    "    training=torch.onnx.TrainingMode.EVAL,\n",
    "    operator_export_type=torch.onnx.OperatorExportTypes.ONNX,\n",
    "    dynamic_axes={\n",
    "      \"input\"  : {0 : \"batch_size\"},\n",
    "      \"output\" : {0 : \"batch_size\"},\n",
    "    }\n",
    ")\n",
    "\n",
    "onnx_model = onnx.load(\"onnx/I2T1-EN384AE.onnx\")\n",
    "onnx.checker.check_model(onnx_model)\n",
    "ort_session = ort.InferenceSession(\"onnx/I2T1-EN384AE.onnx\")"
   ]
  },
  {
   "cell_type": "markdown",
   "id": "deb75ffe",
   "metadata": {
    "papermill": {
     "duration": 0.003359,
     "end_time": "2022-11-01T11:03:53.426341",
     "exception": false,
     "start_time": "2022-11-01T11:03:53.422982",
     "status": "completed"
    },
    "tags": []
   },
   "source": [
    "### **I3T1**"
   ]
  },
  {
   "cell_type": "code",
   "execution_count": 9,
   "id": "8d30e2cc",
   "metadata": {
    "execution": {
     "iopub.execute_input": "2022-11-01T11:03:53.434936Z",
     "iopub.status.busy": "2022-11-01T11:03:53.434577Z",
     "iopub.status.idle": "2022-11-01T11:04:20.010011Z",
     "shell.execute_reply": "2022-11-01T11:04:20.008453Z"
    },
    "papermill": {
     "duration": 26.583481,
     "end_time": "2022-11-01T11:04:20.013339",
     "exception": false,
     "start_time": "2022-11-01T11:03:53.429858",
     "status": "completed"
    },
    "tags": []
   },
   "outputs": [],
   "source": [
    "cfg = CFG(\n",
    "    in_channels=3, \n",
    "    size=384, \n",
    "    opset_version=15, \n",
    "    path=\"../input/fds-en4-ae384-i3t1-s42/saves/state.pt\",\n",
    ")\n",
    "\n",
    "model = Model()\n",
    "model.load_state_dict(torch.load(cfg.path, map_location=torch.device(\"cpu\"))[\"model_state_dict\"])\n",
    "model.eval()\n",
    "\n",
    "encoder_model_state_dict = dict()\n",
    "\n",
    "for names, params in model.state_dict().items():\n",
    "    if re.match(r\"encoder\", names, re.IGNORECASE):\n",
    "        encoder_model_state_dict[names] = params\n",
    "\n",
    "encoder_model = EncoderModel()\n",
    "encoder_model.load_state_dict(encoder_model_state_dict)\n",
    "encoder_model.eval()\n",
    "torch.save(encoder_model.state_dict(), \"pt/I3T1-EN384AE.pt\")\n",
    "\n",
    "torch.onnx.export(\n",
    "    model=encoder_model, \n",
    "    args=cfg.dummy, \n",
    "    f=\"onnx/I3T1-EN384AE.onnx\", \n",
    "    input_names=[\"input\"], \n",
    "    output_names=[\"output\"], \n",
    "    opset_version=cfg.opset_version,\n",
    "    export_params=True,\n",
    "    training=torch.onnx.TrainingMode.EVAL,\n",
    "    operator_export_type=torch.onnx.OperatorExportTypes.ONNX,\n",
    "    dynamic_axes={\n",
    "      \"input\"  : {0 : \"batch_size\"},\n",
    "      \"output\" : {0 : \"batch_size\"},\n",
    "    }\n",
    ")\n",
    "\n",
    "onnx_model = onnx.load(\"onnx/I3T1-EN384AE.onnx\")\n",
    "onnx.checker.check_model(onnx_model)\n",
    "ort_session = ort.InferenceSession(\"onnx/I3T1-EN384AE.onnx\")"
   ]
  },
  {
   "cell_type": "markdown",
   "id": "3ef1a7c8",
   "metadata": {
    "papermill": {
     "duration": 0.003643,
     "end_time": "2022-11-01T11:04:20.020869",
     "exception": false,
     "start_time": "2022-11-01T11:04:20.017226",
     "status": "completed"
    },
    "tags": []
   },
   "source": [
    "### **I4T1**"
   ]
  },
  {
   "cell_type": "code",
   "execution_count": 10,
   "id": "0ccba7e7",
   "metadata": {
    "execution": {
     "iopub.execute_input": "2022-11-01T11:04:20.031470Z",
     "iopub.status.busy": "2022-11-01T11:04:20.031006Z",
     "iopub.status.idle": "2022-11-01T11:04:43.614762Z",
     "shell.execute_reply": "2022-11-01T11:04:43.613751Z"
    },
    "papermill": {
     "duration": 23.592909,
     "end_time": "2022-11-01T11:04:43.617423",
     "exception": false,
     "start_time": "2022-11-01T11:04:20.024514",
     "status": "completed"
    },
    "tags": []
   },
   "outputs": [],
   "source": [
    "cfg = CFG(\n",
    "    in_channels=3, \n",
    "    size=384, \n",
    "    opset_version=15, \n",
    "    path=\"../input/fds-en4-ae384-i4t1-s42/saves/state.pt\",\n",
    ")\n",
    "\n",
    "model = Model()\n",
    "model.load_state_dict(torch.load(cfg.path, map_location=torch.device(\"cpu\"))[\"model_state_dict\"])\n",
    "model.eval()\n",
    "\n",
    "encoder_model_state_dict = dict()\n",
    "\n",
    "for names, params in model.state_dict().items():\n",
    "    if re.match(r\"encoder\", names, re.IGNORECASE):\n",
    "        encoder_model_state_dict[names] = params\n",
    "\n",
    "encoder_model = EncoderModel()\n",
    "encoder_model.load_state_dict(encoder_model_state_dict)\n",
    "encoder_model.eval()\n",
    "torch.save(encoder_model.state_dict(), \"pt/I4T1-EN384AE.pt\")\n",
    "\n",
    "torch.onnx.export(\n",
    "    model=encoder_model, \n",
    "    args=cfg.dummy, \n",
    "    f=\"onnx/I4T1-EN384AE.onnx\", \n",
    "    input_names=[\"input\"], \n",
    "    output_names=[\"output\"], \n",
    "    opset_version=cfg.opset_version,\n",
    "    export_params=True,\n",
    "    training=torch.onnx.TrainingMode.EVAL,\n",
    "    operator_export_type=torch.onnx.OperatorExportTypes.ONNX,\n",
    "    dynamic_axes={\n",
    "      \"input\"  : {0 : \"batch_size\"},\n",
    "      \"output\" : {0 : \"batch_size\"},\n",
    "    }\n",
    ")\n",
    "\n",
    "onnx_model = onnx.load(\"onnx/I4T1-EN384AE.onnx\")\n",
    "onnx.checker.check_model(onnx_model)\n",
    "ort_session = ort.InferenceSession(\"onnx/I4T1-EN384AE.onnx\")"
   ]
  }
 ],
 "metadata": {
  "kernelspec": {
   "display_name": "Python 3",
   "language": "python",
   "name": "python3"
  },
  "language_info": {
   "codemirror_mode": {
    "name": "ipython",
    "version": 3
   },
   "file_extension": ".py",
   "mimetype": "text/x-python",
   "name": "python",
   "nbconvert_exporter": "python",
   "pygments_lexer": "ipython3",
   "version": "3.7.12"
  },
  "papermill": {
   "default_parameters": {},
   "duration": 146.089404,
   "end_time": "2022-11-01T11:04:44.744604",
   "environment_variables": {},
   "exception": null,
   "input_path": "__notebook__.ipynb",
   "output_path": "__notebook__.ipynb",
   "parameters": {},
   "start_time": "2022-11-01T11:02:18.655200",
   "version": "2.3.4"
  }
 },
 "nbformat": 4,
 "nbformat_minor": 5
}
