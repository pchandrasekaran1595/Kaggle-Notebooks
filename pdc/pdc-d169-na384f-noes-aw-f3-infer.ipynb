{
 "cells": [
  {
   "cell_type": "markdown",
   "id": "419d41d3",
   "metadata": {
    "papermill": {
     "duration": 0.004054,
     "end_time": "2022-06-19T12:55:29.034958",
     "exception": false,
     "start_time": "2022-06-19T12:55:29.030904",
     "status": "completed"
    },
    "tags": []
   },
   "source": [
    "### **Library Imports**"
   ]
  },
  {
   "cell_type": "code",
   "execution_count": 1,
   "id": "736e067d",
   "metadata": {
    "execution": {
     "iopub.execute_input": "2022-06-19T12:55:29.045393Z",
     "iopub.status.busy": "2022-06-19T12:55:29.044842Z",
     "iopub.status.idle": "2022-06-19T12:55:32.120666Z",
     "shell.execute_reply": "2022-06-19T12:55:32.119882Z"
    },
    "papermill": {
     "duration": 3.082686,
     "end_time": "2022-06-19T12:55:32.123110",
     "exception": false,
     "start_time": "2022-06-19T12:55:29.040424",
     "status": "completed"
    },
    "tags": []
   },
   "outputs": [],
   "source": [
    "import os\n",
    "import re\n",
    "import cv2\n",
    "import torch\n",
    "import numpy as np\n",
    "import pandas as pd\n",
    "import matplotlib.pyplot as plt\n",
    "\n",
    "from time import time\n",
    "from torch import nn, optim\n",
    "from torch.utils.data import Dataset\n",
    "from torch.utils.data import DataLoader as DL\n",
    "from torchvision import models, transforms\n",
    "\n",
    "from sklearn.preprocessing import LabelEncoder"
   ]
  },
  {
   "cell_type": "markdown",
   "id": "71a7c820",
   "metadata": {
    "papermill": {
     "duration": 0.002879,
     "end_time": "2022-06-19T12:55:32.129297",
     "exception": false,
     "start_time": "2022-06-19T12:55:32.126418",
     "status": "completed"
    },
    "tags": []
   },
   "source": [
    "### **Utilities and Helpers**"
   ]
  },
  {
   "cell_type": "code",
   "execution_count": 2,
   "id": "478d2849",
   "metadata": {
    "execution": {
     "iopub.execute_input": "2022-06-19T12:55:32.136604Z",
     "iopub.status.busy": "2022-06-19T12:55:32.136156Z",
     "iopub.status.idle": "2022-06-19T12:55:32.192922Z",
     "shell.execute_reply": "2022-06-19T12:55:32.192166Z"
    },
    "papermill": {
     "duration": 0.062267,
     "end_time": "2022-06-19T12:55:32.194553",
     "exception": false,
     "start_time": "2022-06-19T12:55:32.132286",
     "status": "completed"
    },
    "tags": []
   },
   "outputs": [],
   "source": [
    "SEED = 42\n",
    "SIZE = 384\n",
    "FOLD = 3\n",
    "TRANSFORM = transforms.Compose([transforms.ToTensor(),\n",
    "                                transforms.Normalize([0.49699, 0.58823, 0.23049],\n",
    "                                                     [0.22591, 0.22614, 0.18264]),\n",
    "                                ])\n",
    "MODEL_PATH = f\"../input/pdc-d169-na384f-noes-aw-f3/saves/ble_state.pt\"\n",
    "DEVICE = torch.device(\"cuda\" if torch.cuda.is_available() else \"cpu\")\n",
    "\n",
    "le = LabelEncoder()\n",
    "\n",
    "\n",
    "def breaker(num: int=50, char: str=\"*\") -> None:\n",
    "    print(\"\\n\" + num*char + \"\\n\")\n",
    "\n",
    "\n",
    "def get_image(path: str, size: int=224) -> np.ndarray:\n",
    "    return cv2.resize(src=cv2.cvtColor(src=cv2.imread(path, cv2.IMREAD_COLOR), code=cv2.COLOR_BGR2RGB), dsize=(size, size), interpolation=cv2.INTER_AREA)"
   ]
  },
  {
   "cell_type": "markdown",
   "id": "37eacb66",
   "metadata": {
    "papermill": {
     "duration": 0.00284,
     "end_time": "2022-06-19T12:55:32.200412",
     "exception": false,
     "start_time": "2022-06-19T12:55:32.197572",
     "status": "completed"
    },
    "tags": []
   },
   "source": [
    "### **Configuration**"
   ]
  },
  {
   "cell_type": "markdown",
   "id": "524dab08",
   "metadata": {
    "papermill": {
     "duration": 0.002817,
     "end_time": "2022-06-19T12:55:32.206396",
     "exception": false,
     "start_time": "2022-06-19T12:55:32.203579",
     "status": "completed"
    },
    "tags": []
   },
   "source": [
    "### **Dataset Template**"
   ]
  },
  {
   "cell_type": "code",
   "execution_count": 3,
   "id": "dd49ed73",
   "metadata": {
    "execution": {
     "iopub.execute_input": "2022-06-19T12:55:32.214034Z",
     "iopub.status.busy": "2022-06-19T12:55:32.213733Z",
     "iopub.status.idle": "2022-06-19T12:55:32.219771Z",
     "shell.execute_reply": "2022-06-19T12:55:32.218936Z"
    },
    "papermill": {
     "duration": 0.011928,
     "end_time": "2022-06-19T12:55:32.221654",
     "exception": false,
     "start_time": "2022-06-19T12:55:32.209726",
     "status": "completed"
    },
    "tags": []
   },
   "outputs": [],
   "source": [
    "class DS(Dataset):\n",
    "    def __init__(self, base_path: str, filenames: np.ndarray, size: int=224, transform=None):\n",
    "        self.base_path = base_path\n",
    "        self.filenames = filenames\n",
    "        self.size = size\n",
    "        self.transform = transform\n",
    "    \n",
    "    def __len__(self):\n",
    "        return self.filenames.shape[0]\n",
    "    \n",
    "    def __getitem__(self, idx):\n",
    "        return self.transform(get_image(os.path.join(self.base_path, self.filenames[idx]), size=self.size))"
   ]
  },
  {
   "cell_type": "markdown",
   "id": "d015089d",
   "metadata": {
    "papermill": {
     "duration": 0.00283,
     "end_time": "2022-06-19T12:55:32.227461",
     "exception": false,
     "start_time": "2022-06-19T12:55:32.224631",
     "status": "completed"
    },
    "tags": []
   },
   "source": [
    "### **Model**"
   ]
  },
  {
   "cell_type": "code",
   "execution_count": 4,
   "id": "7d4901a6",
   "metadata": {
    "execution": {
     "iopub.execute_input": "2022-06-19T12:55:32.234459Z",
     "iopub.status.busy": "2022-06-19T12:55:32.234188Z",
     "iopub.status.idle": "2022-06-19T12:55:32.240699Z",
     "shell.execute_reply": "2022-06-19T12:55:32.240018Z"
    },
    "papermill": {
     "duration": 0.011748,
     "end_time": "2022-06-19T12:55:32.242304",
     "exception": false,
     "start_time": "2022-06-19T12:55:32.230556",
     "status": "completed"
    },
    "tags": []
   },
   "outputs": [],
   "source": [
    "class Model(nn.Module):\n",
    "    def __init__(self):\n",
    "        super(Model, self).__init__()\n",
    "\n",
    "        self.model = models.densenet169(pretrained=False, progress=True)\n",
    "        # self.freeze()\n",
    "        self.model.classifier = nn.Linear(in_features=self.model.classifier.in_features, out_features=10)\n",
    "    \n",
    "    def freeze(self):\n",
    "        for params in self.parameters(): params.requires_grad = False\n",
    "\n",
    "    def forward(self, x):\n",
    "        return nn.LogSoftmax(dim=1)(self.model(x))"
   ]
  },
  {
   "cell_type": "markdown",
   "id": "df98ae76",
   "metadata": {
    "papermill": {
     "duration": 0.002848,
     "end_time": "2022-06-19T12:55:32.248215",
     "exception": false,
     "start_time": "2022-06-19T12:55:32.245367",
     "status": "completed"
    },
    "tags": []
   },
   "source": [
    "### **Predict Helpers**"
   ]
  },
  {
   "cell_type": "code",
   "execution_count": 5,
   "id": "c716f6c5",
   "metadata": {
    "execution": {
     "iopub.execute_input": "2022-06-19T12:55:32.255187Z",
     "iopub.status.busy": "2022-06-19T12:55:32.254901Z",
     "iopub.status.idle": "2022-06-19T12:55:32.261534Z",
     "shell.execute_reply": "2022-06-19T12:55:32.260738Z"
    },
    "papermill": {
     "duration": 0.012236,
     "end_time": "2022-06-19T12:55:32.263396",
     "exception": false,
     "start_time": "2022-06-19T12:55:32.251160",
     "status": "completed"
    },
    "tags": []
   },
   "outputs": [],
   "source": [
    "def predict_batch(model=None, dataloader=None, path=None, device=None) -> np.ndarray:\n",
    "    model.load_state_dict(torch.load(path, map_location=device)[\"model_state_dict\"])\n",
    "    model.to(device)    \n",
    "    model.eval()\n",
    "    \n",
    "    y_pred = torch.zeros(1, 1).to(device)\n",
    "    \n",
    "    for X in dataloader:\n",
    "        X = X.to(device)\n",
    "        with torch.no_grad():\n",
    "            output = torch.argmax(torch.exp(model(X)), dim=1)\n",
    "        y_pred = torch.cat((y_pred, output.view(-1, 1)), dim=0)\n",
    "    \n",
    "    return y_pred[1:].detach().cpu().numpy()"
   ]
  },
  {
   "cell_type": "markdown",
   "id": "7a00286a",
   "metadata": {
    "papermill": {
     "duration": 0.00276,
     "end_time": "2022-06-19T12:55:32.269140",
     "exception": false,
     "start_time": "2022-06-19T12:55:32.266380",
     "status": "completed"
    },
    "tags": []
   },
   "source": [
    "### **Submission**"
   ]
  },
  {
   "cell_type": "code",
   "execution_count": 6,
   "id": "92e3c98f",
   "metadata": {
    "execution": {
     "iopub.execute_input": "2022-06-19T12:55:32.275990Z",
     "iopub.status.busy": "2022-06-19T12:55:32.275744Z",
     "iopub.status.idle": "2022-06-19T12:56:45.410544Z",
     "shell.execute_reply": "2022-06-19T12:56:45.409717Z"
    },
    "papermill": {
     "duration": 73.140641,
     "end_time": "2022-06-19T12:56:45.412732",
     "exception": false,
     "start_time": "2022-06-19T12:55:32.272091",
     "status": "completed"
    },
    "tags": []
   },
   "outputs": [],
   "source": [
    "df = pd.read_csv(\"../input/paddy-disease-classification/train.csv\")\n",
    "ss_df = pd.read_csv(\"../input/paddy-disease-classification/sample_submission.csv\")\n",
    "\n",
    "labels = df.label.copy().values\n",
    "labels = le.fit_transform(labels)\n",
    "\n",
    "ts_data_setup = DS(base_path=\"../input/paddy-disease-classification/test_images\", \n",
    "                   filenames=ss_df.image_id.copy().values,\n",
    "                   size=SIZE,\n",
    "                   transform=TRANSFORM)\n",
    "ts_data = DL(ts_data_setup, batch_size=64, shuffle=False)\n",
    "\n",
    "model = Model().to(DEVICE)\n",
    "\n",
    "y_pred = predict_batch(model=model, \n",
    "                       dataloader=ts_data, \n",
    "                       path=MODEL_PATH,\n",
    "                       device=DEVICE)\n",
    "\n",
    "ss_df[\"label\"] = le.inverse_transform(y_pred.astype(\"uint8\").reshape(-1))\n",
    "ss_df.to_csv(\"submission.csv\", index=False)"
   ]
  }
 ],
 "metadata": {
  "kernelspec": {
   "display_name": "Python 3",
   "language": "python",
   "name": "python3"
  },
  "language_info": {
   "codemirror_mode": {
    "name": "ipython",
    "version": 3
   },
   "file_extension": ".py",
   "mimetype": "text/x-python",
   "name": "python",
   "nbconvert_exporter": "python",
   "pygments_lexer": "ipython3",
   "version": "3.7.12"
  },
  "papermill": {
   "default_parameters": {},
   "duration": 85.817881,
   "end_time": "2022-06-19T12:56:46.838257",
   "environment_variables": {},
   "exception": null,
   "input_path": "__notebook__.ipynb",
   "output_path": "__notebook__.ipynb",
   "parameters": {},
   "start_time": "2022-06-19T12:55:21.020376",
   "version": "2.3.4"
  }
 },
 "nbformat": 4,
 "nbformat_minor": 5
}
