{
 "cells": [
  {
   "cell_type": "markdown",
   "id": "a56f3f4e",
   "metadata": {
    "papermill": {
     "duration": 0.003913,
     "end_time": "2022-06-19T12:58:41.052242",
     "exception": false,
     "start_time": "2022-06-19T12:58:41.048329",
     "status": "completed"
    },
    "tags": []
   },
   "source": [
    "### **Library Imports**"
   ]
  },
  {
   "cell_type": "code",
   "execution_count": 1,
   "id": "9c29e121",
   "metadata": {
    "execution": {
     "iopub.execute_input": "2022-06-19T12:58:41.062326Z",
     "iopub.status.busy": "2022-06-19T12:58:41.061926Z",
     "iopub.status.idle": "2022-06-19T12:58:43.289015Z",
     "shell.execute_reply": "2022-06-19T12:58:43.288191Z"
    },
    "papermill": {
     "duration": 2.233782,
     "end_time": "2022-06-19T12:58:43.291621",
     "exception": false,
     "start_time": "2022-06-19T12:58:41.057839",
     "status": "completed"
    },
    "tags": []
   },
   "outputs": [],
   "source": [
    "import os\n",
    "import re\n",
    "import cv2\n",
    "import torch\n",
    "import numpy as np\n",
    "import pandas as pd\n",
    "import matplotlib.pyplot as plt\n",
    "\n",
    "from time import time\n",
    "from torch import nn, optim\n",
    "from torch.utils.data import Dataset\n",
    "from torch.utils.data import DataLoader as DL\n",
    "from torchvision import models, transforms\n",
    "\n",
    "from sklearn.preprocessing import LabelEncoder"
   ]
  },
  {
   "cell_type": "markdown",
   "id": "ea35d2b8",
   "metadata": {
    "papermill": {
     "duration": 0.002918,
     "end_time": "2022-06-19T12:58:43.297964",
     "exception": false,
     "start_time": "2022-06-19T12:58:43.295046",
     "status": "completed"
    },
    "tags": []
   },
   "source": [
    "### **Utilities and Helpers**"
   ]
  },
  {
   "cell_type": "code",
   "execution_count": 2,
   "id": "e0c03476",
   "metadata": {
    "execution": {
     "iopub.execute_input": "2022-06-19T12:58:43.305660Z",
     "iopub.status.busy": "2022-06-19T12:58:43.305175Z",
     "iopub.status.idle": "2022-06-19T12:58:43.356513Z",
     "shell.execute_reply": "2022-06-19T12:58:43.355740Z"
    },
    "papermill": {
     "duration": 0.057363,
     "end_time": "2022-06-19T12:58:43.358309",
     "exception": false,
     "start_time": "2022-06-19T12:58:43.300946",
     "status": "completed"
    },
    "tags": []
   },
   "outputs": [],
   "source": [
    "SEED = 42\n",
    "SIZE = 384\n",
    "FOLD = 3\n",
    "TRANSFORM = transforms.Compose([transforms.ToTensor(),\n",
    "                                transforms.Normalize([0.49699, 0.58823, 0.23049],\n",
    "                                                     [0.22591, 0.22614, 0.18264]),\n",
    "                                ])\n",
    "MODEL_PATH = f\"../input/pdc-d169-na384f-noes-aw-f3/saves/bae_state.pt\"\n",
    "DEVICE = torch.device(\"cuda\" if torch.cuda.is_available() else \"cpu\")\n",
    "\n",
    "le = LabelEncoder()\n",
    "\n",
    "\n",
    "def breaker(num: int=50, char: str=\"*\") -> None:\n",
    "    print(\"\\n\" + num*char + \"\\n\")\n",
    "\n",
    "\n",
    "def get_image(path: str, size: int=224) -> np.ndarray:\n",
    "    return cv2.resize(src=cv2.cvtColor(src=cv2.imread(path, cv2.IMREAD_COLOR), code=cv2.COLOR_BGR2RGB), dsize=(size, size), interpolation=cv2.INTER_AREA)"
   ]
  },
  {
   "cell_type": "markdown",
   "id": "f90212c3",
   "metadata": {
    "papermill": {
     "duration": 0.002837,
     "end_time": "2022-06-19T12:58:43.364226",
     "exception": false,
     "start_time": "2022-06-19T12:58:43.361389",
     "status": "completed"
    },
    "tags": []
   },
   "source": [
    "### **Configuration**"
   ]
  },
  {
   "cell_type": "markdown",
   "id": "a97a2ec4",
   "metadata": {
    "papermill": {
     "duration": 0.002768,
     "end_time": "2022-06-19T12:58:43.370000",
     "exception": false,
     "start_time": "2022-06-19T12:58:43.367232",
     "status": "completed"
    },
    "tags": []
   },
   "source": [
    "### **Dataset Template**"
   ]
  },
  {
   "cell_type": "code",
   "execution_count": 3,
   "id": "8cfa1fe3",
   "metadata": {
    "execution": {
     "iopub.execute_input": "2022-06-19T12:58:43.377247Z",
     "iopub.status.busy": "2022-06-19T12:58:43.376908Z",
     "iopub.status.idle": "2022-06-19T12:58:43.382754Z",
     "shell.execute_reply": "2022-06-19T12:58:43.381931Z"
    },
    "papermill": {
     "duration": 0.011653,
     "end_time": "2022-06-19T12:58:43.384620",
     "exception": false,
     "start_time": "2022-06-19T12:58:43.372967",
     "status": "completed"
    },
    "tags": []
   },
   "outputs": [],
   "source": [
    "class DS(Dataset):\n",
    "    def __init__(self, base_path: str, filenames: np.ndarray, size: int=224, transform=None):\n",
    "        self.base_path = base_path\n",
    "        self.filenames = filenames\n",
    "        self.size = size\n",
    "        self.transform = transform\n",
    "    \n",
    "    def __len__(self):\n",
    "        return self.filenames.shape[0]\n",
    "    \n",
    "    def __getitem__(self, idx):\n",
    "        return self.transform(get_image(os.path.join(self.base_path, self.filenames[idx]), size=self.size))"
   ]
  },
  {
   "cell_type": "markdown",
   "id": "02f52c1f",
   "metadata": {
    "papermill": {
     "duration": 0.003132,
     "end_time": "2022-06-19T12:58:43.390746",
     "exception": false,
     "start_time": "2022-06-19T12:58:43.387614",
     "status": "completed"
    },
    "tags": []
   },
   "source": [
    "### **Model**"
   ]
  },
  {
   "cell_type": "code",
   "execution_count": 4,
   "id": "ec54c2b4",
   "metadata": {
    "execution": {
     "iopub.execute_input": "2022-06-19T12:58:43.398466Z",
     "iopub.status.busy": "2022-06-19T12:58:43.398213Z",
     "iopub.status.idle": "2022-06-19T12:58:43.404674Z",
     "shell.execute_reply": "2022-06-19T12:58:43.403864Z"
    },
    "papermill": {
     "duration": 0.012023,
     "end_time": "2022-06-19T12:58:43.406371",
     "exception": false,
     "start_time": "2022-06-19T12:58:43.394348",
     "status": "completed"
    },
    "tags": []
   },
   "outputs": [],
   "source": [
    "class Model(nn.Module):\n",
    "    def __init__(self):\n",
    "        super(Model, self).__init__()\n",
    "\n",
    "        self.model = models.densenet169(pretrained=False, progress=True)\n",
    "        # self.freeze()\n",
    "        self.model.classifier = nn.Linear(in_features=self.model.classifier.in_features, out_features=10)\n",
    "    \n",
    "    def freeze(self):\n",
    "        for params in self.parameters(): params.requires_grad = False\n",
    "\n",
    "    def forward(self, x):\n",
    "        return nn.LogSoftmax(dim=1)(self.model(x))"
   ]
  },
  {
   "cell_type": "markdown",
   "id": "34056ecc",
   "metadata": {
    "papermill": {
     "duration": 0.0031,
     "end_time": "2022-06-19T12:58:43.412677",
     "exception": false,
     "start_time": "2022-06-19T12:58:43.409577",
     "status": "completed"
    },
    "tags": []
   },
   "source": [
    "### **Predict Helpers**"
   ]
  },
  {
   "cell_type": "code",
   "execution_count": 5,
   "id": "9554860d",
   "metadata": {
    "execution": {
     "iopub.execute_input": "2022-06-19T12:58:43.419610Z",
     "iopub.status.busy": "2022-06-19T12:58:43.419357Z",
     "iopub.status.idle": "2022-06-19T12:58:43.425545Z",
     "shell.execute_reply": "2022-06-19T12:58:43.424874Z"
    },
    "papermill": {
     "duration": 0.011529,
     "end_time": "2022-06-19T12:58:43.427201",
     "exception": false,
     "start_time": "2022-06-19T12:58:43.415672",
     "status": "completed"
    },
    "tags": []
   },
   "outputs": [],
   "source": [
    "def predict_batch(model=None, dataloader=None, path=None, device=None) -> np.ndarray:\n",
    "    model.load_state_dict(torch.load(path, map_location=device)[\"model_state_dict\"])\n",
    "    model.to(device)    \n",
    "    model.eval()\n",
    "    \n",
    "    y_pred = torch.zeros(1, 1).to(device)\n",
    "    \n",
    "    for X in dataloader:\n",
    "        X = X.to(device)\n",
    "        with torch.no_grad():\n",
    "            output = torch.argmax(torch.exp(model(X)), dim=1)\n",
    "        y_pred = torch.cat((y_pred, output.view(-1, 1)), dim=0)\n",
    "    \n",
    "    return y_pred[1:].detach().cpu().numpy()"
   ]
  },
  {
   "cell_type": "markdown",
   "id": "bc21db04",
   "metadata": {
    "papermill": {
     "duration": 0.002907,
     "end_time": "2022-06-19T12:58:43.433073",
     "exception": false,
     "start_time": "2022-06-19T12:58:43.430166",
     "status": "completed"
    },
    "tags": []
   },
   "source": [
    "### **Submission**"
   ]
  },
  {
   "cell_type": "code",
   "execution_count": 6,
   "id": "e6fa7f3c",
   "metadata": {
    "execution": {
     "iopub.execute_input": "2022-06-19T12:58:43.440465Z",
     "iopub.status.busy": "2022-06-19T12:58:43.440226Z",
     "iopub.status.idle": "2022-06-19T13:00:05.592011Z",
     "shell.execute_reply": "2022-06-19T13:00:05.591185Z"
    },
    "papermill": {
     "duration": 82.158016,
     "end_time": "2022-06-19T13:00:05.594462",
     "exception": false,
     "start_time": "2022-06-19T12:58:43.436446",
     "status": "completed"
    },
    "tags": []
   },
   "outputs": [],
   "source": [
    "df = pd.read_csv(\"../input/paddy-disease-classification/train.csv\")\n",
    "ss_df = pd.read_csv(\"../input/paddy-disease-classification/sample_submission.csv\")\n",
    "\n",
    "labels = df.label.copy().values\n",
    "labels = le.fit_transform(labels)\n",
    "\n",
    "ts_data_setup = DS(base_path=\"../input/paddy-disease-classification/test_images\", \n",
    "                   filenames=ss_df.image_id.copy().values,\n",
    "                   size=SIZE,\n",
    "                   transform=TRANSFORM)\n",
    "ts_data = DL(ts_data_setup, batch_size=64, shuffle=False)\n",
    "\n",
    "model = Model().to(DEVICE)\n",
    "\n",
    "y_pred = predict_batch(model=model, \n",
    "                       dataloader=ts_data, \n",
    "                       path=MODEL_PATH,\n",
    "                       device=DEVICE)\n",
    "\n",
    "ss_df[\"label\"] = le.inverse_transform(y_pred.astype(\"uint8\").reshape(-1))\n",
    "ss_df.to_csv(\"submission.csv\", index=False)"
   ]
  }
 ],
 "metadata": {
  "kernelspec": {
   "display_name": "Python 3",
   "language": "python",
   "name": "python3"
  },
  "language_info": {
   "codemirror_mode": {
    "name": "ipython",
    "version": 3
   },
   "file_extension": ".py",
   "mimetype": "text/x-python",
   "name": "python",
   "nbconvert_exporter": "python",
   "pygments_lexer": "ipython3",
   "version": "3.7.12"
  },
  "papermill": {
   "default_parameters": {},
   "duration": 93.475085,
   "end_time": "2022-06-19T13:00:06.919606",
   "environment_variables": {},
   "exception": null,
   "input_path": "__notebook__.ipynb",
   "output_path": "__notebook__.ipynb",
   "parameters": {},
   "start_time": "2022-06-19T12:58:33.444521",
   "version": "2.3.4"
  }
 },
 "nbformat": 4,
 "nbformat_minor": 5
}
