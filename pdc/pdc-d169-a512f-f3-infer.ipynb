{
 "cells": [
  {
   "cell_type": "markdown",
   "id": "1d68a9e6",
   "metadata": {
    "papermill": {
     "duration": 0.003949,
     "end_time": "2022-07-20T17:43:47.710222",
     "exception": false,
     "start_time": "2022-07-20T17:43:47.706273",
     "status": "completed"
    },
    "tags": []
   },
   "source": [
    "### **Library Imports**"
   ]
  },
  {
   "cell_type": "code",
   "execution_count": 1,
   "id": "da95d88b",
   "metadata": {
    "execution": {
     "iopub.execute_input": "2022-07-20T17:43:47.720408Z",
     "iopub.status.busy": "2022-07-20T17:43:47.719478Z",
     "iopub.status.idle": "2022-07-20T17:43:50.995915Z",
     "shell.execute_reply": "2022-07-20T17:43:50.995051Z"
    },
    "papermill": {
     "duration": 3.282785,
     "end_time": "2022-07-20T17:43:50.998258",
     "exception": false,
     "start_time": "2022-07-20T17:43:47.715473",
     "status": "completed"
    },
    "tags": []
   },
   "outputs": [],
   "source": [
    "import os\n",
    "import re\n",
    "import cv2\n",
    "import torch\n",
    "import numpy as np\n",
    "import pandas as pd\n",
    "import matplotlib.pyplot as plt\n",
    "\n",
    "from time import time\n",
    "from torch import nn, optim\n",
    "from torch.utils.data import Dataset\n",
    "from torch.utils.data import DataLoader as DL\n",
    "from torchvision import models, transforms\n",
    "\n",
    "from sklearn.preprocessing import LabelEncoder"
   ]
  },
  {
   "cell_type": "markdown",
   "id": "63fe9716",
   "metadata": {
    "papermill": {
     "duration": 0.002876,
     "end_time": "2022-07-20T17:43:51.004474",
     "exception": false,
     "start_time": "2022-07-20T17:43:51.001598",
     "status": "completed"
    },
    "tags": []
   },
   "source": [
    "### **Utilities and Helpers**"
   ]
  },
  {
   "cell_type": "code",
   "execution_count": 2,
   "id": "b9500619",
   "metadata": {
    "execution": {
     "iopub.execute_input": "2022-07-20T17:43:51.012456Z",
     "iopub.status.busy": "2022-07-20T17:43:51.011968Z",
     "iopub.status.idle": "2022-07-20T17:43:51.081881Z",
     "shell.execute_reply": "2022-07-20T17:43:51.081081Z"
    },
    "papermill": {
     "duration": 0.076366,
     "end_time": "2022-07-20T17:43:51.083886",
     "exception": false,
     "start_time": "2022-07-20T17:43:51.007520",
     "status": "completed"
    },
    "tags": []
   },
   "outputs": [],
   "source": [
    "SEED = 42\n",
    "SIZE = 512\n",
    "FOLD = 3\n",
    "TRANSFORM = transforms.Compose([transforms.ToTensor(),\n",
    "                                transforms.Normalize([0.49650, 0.58774, 0.23004],\n",
    "                                                     [0.22750, 0.22771, 0.18430]),\n",
    "                                ])\n",
    "MODEL_PATH = f\"../input/pdc-d169-a512f-f3/saves/ble_state.pt\"\n",
    "DEVICE = torch.device(\"cuda\" if torch.cuda.is_available() else \"cpu\")\n",
    "\n",
    "le = LabelEncoder()\n",
    "\n",
    "\n",
    "def breaker(num: int=50, char: str=\"*\") -> None:\n",
    "    print(\"\\n\" + num*char + \"\\n\")\n",
    "\n",
    "\n",
    "def get_image(path: str, size: int=224) -> np.ndarray:\n",
    "    return cv2.resize(src=cv2.cvtColor(src=cv2.imread(path, cv2.IMREAD_COLOR), code=cv2.COLOR_BGR2RGB), dsize=(size, size), interpolation=cv2.INTER_AREA)"
   ]
  },
  {
   "cell_type": "markdown",
   "id": "8e41f0f4",
   "metadata": {
    "papermill": {
     "duration": 0.002835,
     "end_time": "2022-07-20T17:43:51.090402",
     "exception": false,
     "start_time": "2022-07-20T17:43:51.087567",
     "status": "completed"
    },
    "tags": []
   },
   "source": [
    "### **Configuration**"
   ]
  },
  {
   "cell_type": "markdown",
   "id": "28a54a47",
   "metadata": {
    "papermill": {
     "duration": 0.002818,
     "end_time": "2022-07-20T17:43:51.096234",
     "exception": false,
     "start_time": "2022-07-20T17:43:51.093416",
     "status": "completed"
    },
    "tags": []
   },
   "source": [
    "### **Dataset Template**"
   ]
  },
  {
   "cell_type": "code",
   "execution_count": 3,
   "id": "00acf0cd",
   "metadata": {
    "execution": {
     "iopub.execute_input": "2022-07-20T17:43:51.103824Z",
     "iopub.status.busy": "2022-07-20T17:43:51.103091Z",
     "iopub.status.idle": "2022-07-20T17:43:51.109406Z",
     "shell.execute_reply": "2022-07-20T17:43:51.108728Z"
    },
    "papermill": {
     "duration": 0.011742,
     "end_time": "2022-07-20T17:43:51.110988",
     "exception": false,
     "start_time": "2022-07-20T17:43:51.099246",
     "status": "completed"
    },
    "tags": []
   },
   "outputs": [],
   "source": [
    "class DS(Dataset):\n",
    "    def __init__(self, base_path: str, filenames: np.ndarray, size: int=224, transform=None):\n",
    "        self.base_path = base_path\n",
    "        self.filenames = filenames\n",
    "        self.size = size\n",
    "        self.transform = transform\n",
    "    \n",
    "    def __len__(self):\n",
    "        return self.filenames.shape[0]\n",
    "    \n",
    "    def __getitem__(self, idx):\n",
    "        return self.transform(get_image(os.path.join(self.base_path, self.filenames[idx]), size=self.size))"
   ]
  },
  {
   "cell_type": "markdown",
   "id": "66f7ee07",
   "metadata": {
    "papermill": {
     "duration": 0.002835,
     "end_time": "2022-07-20T17:43:51.117060",
     "exception": false,
     "start_time": "2022-07-20T17:43:51.114225",
     "status": "completed"
    },
    "tags": []
   },
   "source": [
    "### **Model**"
   ]
  },
  {
   "cell_type": "code",
   "execution_count": 4,
   "id": "0a1ea9c7",
   "metadata": {
    "execution": {
     "iopub.execute_input": "2022-07-20T17:43:51.124703Z",
     "iopub.status.busy": "2022-07-20T17:43:51.124128Z",
     "iopub.status.idle": "2022-07-20T17:43:51.129969Z",
     "shell.execute_reply": "2022-07-20T17:43:51.129282Z"
    },
    "papermill": {
     "duration": 0.01142,
     "end_time": "2022-07-20T17:43:51.131566",
     "exception": false,
     "start_time": "2022-07-20T17:43:51.120146",
     "status": "completed"
    },
    "tags": []
   },
   "outputs": [],
   "source": [
    "class Model(nn.Module):\n",
    "    def __init__(self):\n",
    "        super(Model, self).__init__()\n",
    "\n",
    "        self.model = models.densenet169(pretrained=False, progress=True)\n",
    "        # self.freeze()\n",
    "        self.model.classifier = nn.Linear(in_features=self.model.classifier.in_features, out_features=10)\n",
    "    \n",
    "    def freeze(self):\n",
    "        for params in self.parameters(): params.requires_grad = False\n",
    "\n",
    "    def forward(self, x):\n",
    "        return nn.LogSoftmax(dim=1)(self.model(x))"
   ]
  },
  {
   "cell_type": "markdown",
   "id": "e75dd4cb",
   "metadata": {
    "papermill": {
     "duration": 0.002861,
     "end_time": "2022-07-20T17:43:51.137428",
     "exception": false,
     "start_time": "2022-07-20T17:43:51.134567",
     "status": "completed"
    },
    "tags": []
   },
   "source": [
    "### **Predict Helpers**"
   ]
  },
  {
   "cell_type": "code",
   "execution_count": 5,
   "id": "3380f13b",
   "metadata": {
    "execution": {
     "iopub.execute_input": "2022-07-20T17:43:51.145114Z",
     "iopub.status.busy": "2022-07-20T17:43:51.144388Z",
     "iopub.status.idle": "2022-07-20T17:43:51.151131Z",
     "shell.execute_reply": "2022-07-20T17:43:51.150456Z"
    },
    "papermill": {
     "duration": 0.012179,
     "end_time": "2022-07-20T17:43:51.152676",
     "exception": false,
     "start_time": "2022-07-20T17:43:51.140497",
     "status": "completed"
    },
    "tags": []
   },
   "outputs": [],
   "source": [
    "def predict_batch(model=None, dataloader=None, path=None, device=None) -> np.ndarray:\n",
    "    model.load_state_dict(torch.load(path, map_location=device)[\"model_state_dict\"])\n",
    "    model.to(device)    \n",
    "    model.eval()\n",
    "    \n",
    "    y_pred = torch.zeros(1, 1).to(device)\n",
    "    \n",
    "    for X in dataloader:\n",
    "        X = X.to(device)\n",
    "        with torch.no_grad():\n",
    "            output = torch.argmax(torch.exp(model(X)), dim=1)\n",
    "        y_pred = torch.cat((y_pred, output.view(-1, 1)), dim=0)\n",
    "    \n",
    "    return y_pred[1:].detach().cpu().numpy()"
   ]
  },
  {
   "cell_type": "markdown",
   "id": "375080a4",
   "metadata": {
    "papermill": {
     "duration": 0.00311,
     "end_time": "2022-07-20T17:43:51.158786",
     "exception": false,
     "start_time": "2022-07-20T17:43:51.155676",
     "status": "completed"
    },
    "tags": []
   },
   "source": [
    "### **Submission**"
   ]
  },
  {
   "cell_type": "code",
   "execution_count": 6,
   "id": "761e5cc0",
   "metadata": {
    "execution": {
     "iopub.execute_input": "2022-07-20T17:43:51.165935Z",
     "iopub.status.busy": "2022-07-20T17:43:51.165688Z",
     "iopub.status.idle": "2022-07-20T17:45:08.664257Z",
     "shell.execute_reply": "2022-07-20T17:45:08.663410Z"
    },
    "papermill": {
     "duration": 77.504446,
     "end_time": "2022-07-20T17:45:08.666412",
     "exception": false,
     "start_time": "2022-07-20T17:43:51.161966",
     "status": "completed"
    },
    "tags": []
   },
   "outputs": [],
   "source": [
    "df = pd.read_csv(\"../input/paddy-disease-classification/train.csv\")\n",
    "ss_df = pd.read_csv(\"../input/paddy-disease-classification/sample_submission.csv\")\n",
    "\n",
    "labels = df.label.copy().values\n",
    "labels = le.fit_transform(labels)\n",
    "\n",
    "ts_data_setup = DS(base_path=\"../input/paddy-disease-classification/test_images\", \n",
    "                   filenames=ss_df.image_id.copy().values,\n",
    "                   size=SIZE,\n",
    "                   transform=TRANSFORM)\n",
    "ts_data = DL(ts_data_setup, batch_size=64, shuffle=False)\n",
    "\n",
    "model = Model().to(DEVICE)\n",
    "\n",
    "y_pred = predict_batch(model=model, \n",
    "                       dataloader=ts_data, \n",
    "                       path=MODEL_PATH,\n",
    "                       device=DEVICE)\n",
    "\n",
    "ss_df[\"label\"] = le.inverse_transform(y_pred.astype(\"uint8\").reshape(-1))\n",
    "ss_df.to_csv(\"submission.csv\", index=False)"
   ]
  }
 ],
 "metadata": {
  "kernelspec": {
   "display_name": "Python 3",
   "language": "python",
   "name": "python3"
  },
  "language_info": {
   "codemirror_mode": {
    "name": "ipython",
    "version": 3
   },
   "file_extension": ".py",
   "mimetype": "text/x-python",
   "name": "python",
   "nbconvert_exporter": "python",
   "pygments_lexer": "ipython3",
   "version": "3.7.12"
  },
  "papermill": {
   "default_parameters": {},
   "duration": 90.756909,
   "end_time": "2022-07-20T17:45:10.092111",
   "environment_variables": {},
   "exception": null,
   "input_path": "__notebook__.ipynb",
   "output_path": "__notebook__.ipynb",
   "parameters": {},
   "start_time": "2022-07-20T17:43:39.335202",
   "version": "2.3.4"
  }
 },
 "nbformat": 4,
 "nbformat_minor": 5
}
