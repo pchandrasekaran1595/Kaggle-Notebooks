{
 "cells": [
  {
   "cell_type": "markdown",
   "id": "36376ea1",
   "metadata": {
    "_cell_guid": "b1076dfc-b9ad-4769-8c92-a6c4dae69d19",
    "_uuid": "8f2839f25d086af736a60e9eeb907d3b93b6e0e5",
    "papermill": {
     "duration": 0.005986,
     "end_time": "2022-06-14T11:46:20.880381",
     "exception": false,
     "start_time": "2022-06-14T11:46:20.874395",
     "status": "completed"
    },
    "tags": []
   },
   "source": [
    "### **Library Imports**"
   ]
  },
  {
   "cell_type": "code",
   "execution_count": 1,
   "id": "f4266895",
   "metadata": {
    "execution": {
     "iopub.execute_input": "2022-06-14T11:46:20.892500Z",
     "iopub.status.busy": "2022-06-14T11:46:20.891076Z",
     "iopub.status.idle": "2022-06-14T11:46:24.205555Z",
     "shell.execute_reply": "2022-06-14T11:46:24.204318Z"
    },
    "papermill": {
     "duration": 3.323783,
     "end_time": "2022-06-14T11:46:24.208687",
     "exception": false,
     "start_time": "2022-06-14T11:46:20.884904",
     "status": "completed"
    },
    "tags": []
   },
   "outputs": [],
   "source": [
    "import os\n",
    "import re\n",
    "import torch\n",
    "import numpy as np\n",
    "import pandas as pd\n",
    "import matplotlib.pyplot as plt\n",
    "\n",
    "from time import time\n",
    "from torch import nn, optim\n",
    "from torch.utils.data import Dataset\n",
    "from torch.utils.data import DataLoader as DL\n",
    "from torchvision import models, transforms\n",
    "\n",
    "from sklearn.model_selection import StratifiedKFold\n",
    "from sklearn.preprocessing import LabelEncoder\n",
    "from sklearn.metrics import accuracy_score"
   ]
  },
  {
   "cell_type": "markdown",
   "id": "4cd37f9d",
   "metadata": {
    "papermill": {
     "duration": 0.004439,
     "end_time": "2022-06-14T11:46:24.218312",
     "exception": false,
     "start_time": "2022-06-14T11:46:24.213873",
     "status": "completed"
    },
    "tags": []
   },
   "source": [
    "### **Utilities and Helpers**"
   ]
  },
  {
   "cell_type": "code",
   "execution_count": 2,
   "id": "da8d47e6",
   "metadata": {
    "execution": {
     "iopub.execute_input": "2022-06-14T11:46:24.229959Z",
     "iopub.status.busy": "2022-06-14T11:46:24.229440Z",
     "iopub.status.idle": "2022-06-14T11:46:24.245026Z",
     "shell.execute_reply": "2022-06-14T11:46:24.244024Z"
    },
    "papermill": {
     "duration": 0.02399,
     "end_time": "2022-06-14T11:46:24.247418",
     "exception": false,
     "start_time": "2022-06-14T11:46:24.223428",
     "status": "completed"
    },
    "tags": []
   },
   "outputs": [],
   "source": [
    "SEED = 42\n",
    "SIZE = 384\n",
    "le = LabelEncoder()\n",
    "\n",
    "\n",
    "def breaker(num: int=50, char: str=\"*\") -> None:\n",
    "    print(\"\\n\" + num*char + \"\\n\")\n",
    "\n",
    "    \n",
    "def show_loss_graphs(A: list) -> None:\n",
    "    TL, VL = [], []\n",
    "    for i in range(len(L)):\n",
    "        TL.append(L[i][\"train\"])\n",
    "        VL.append(L[i][\"valid\"])\n",
    "    x_Axis = np.arange(1, len(TL) + 1)\n",
    "    plt.figure()\n",
    "    plt.plot(x_Axis, TL, \"r\", label=\"Train\")\n",
    "    plt.plot(x_Axis, VL, \"b\", label=\"Valid\")\n",
    "    plt.legend()\n",
    "    plt.grid()\n",
    "    plt.title(\"Loss Graph\")\n",
    "    plt.show()\n",
    "\n",
    "    \n",
    "def show_accuracy_graphs(A: list) -> None:\n",
    "    TA, VA = [], []\n",
    "    for i in range(len(L)):\n",
    "        TA.append(A[i][\"train\"])\n",
    "        VA.append(A[i][\"valid\"])\n",
    "    x_Axis = np.arange(1, len(TA) + 1)\n",
    "    plt.figure()\n",
    "    plt.plot(x_Axis, TA, \"r\", label=\"Train\")\n",
    "    plt.plot(x_Axis, VA, \"b\", label=\"Valid\")\n",
    "    plt.legend()\n",
    "    plt.grid()\n",
    "    plt.title(\"Accuracy Graph\")\n",
    "    plt.show()\n",
    "\n",
    "\n",
    "def show_lr_graph(LR: list) -> None:\n",
    "    x_Axis = [i+1 for i in range(len(LR))]\n",
    "    plt.figure(figsize=(8, 6))\n",
    "    plt.plot(x_Axis, LR, \"rx\")\n",
    "    plt.grid()\n",
    "    plt.show()"
   ]
  },
  {
   "cell_type": "markdown",
   "id": "f29aec13",
   "metadata": {
    "papermill": {
     "duration": 0.004682,
     "end_time": "2022-06-14T11:46:24.259251",
     "exception": false,
     "start_time": "2022-06-14T11:46:24.254569",
     "status": "completed"
    },
    "tags": []
   },
   "source": [
    "### **Configuration**"
   ]
  },
  {
   "cell_type": "code",
   "execution_count": 3,
   "id": "08ab178c",
   "metadata": {
    "execution": {
     "iopub.execute_input": "2022-06-14T11:46:24.270546Z",
     "iopub.status.busy": "2022-06-14T11:46:24.270179Z",
     "iopub.status.idle": "2022-06-14T11:46:24.347427Z",
     "shell.execute_reply": "2022-06-14T11:46:24.346033Z"
    },
    "papermill": {
     "duration": 0.086177,
     "end_time": "2022-06-14T11:46:24.350134",
     "exception": false,
     "start_time": "2022-06-14T11:46:24.263957",
     "status": "completed"
    },
    "tags": []
   },
   "outputs": [],
   "source": [
    "class CFG(object):\n",
    "    def __init__(self, \n",
    "                 seed: int = 42,\n",
    "                 n_splits: int = 5,\n",
    "                 batch_size: int = 16,\n",
    "                 epochs: int = 25,\n",
    "                 early_stopping: int = 5,\n",
    "                 lr: float = 1e-4,\n",
    "                 wd: float = 0.0,\n",
    "                 max_lr: float = 1e-3,\n",
    "                 pct_start: float = 0.2,\n",
    "                 steps_per_epoch: int = 100,\n",
    "                 div_factor: int = 1e3, \n",
    "                 final_div_factor: float = 1e3,\n",
    "                 ):\n",
    "        \n",
    "        self.seed = seed\n",
    "        self.n_splits = n_splits\n",
    "        self.batch_size = batch_size\n",
    "        self.epochs = epochs\n",
    "        self.early_stopping = early_stopping\n",
    "        self.lr = lr\n",
    "        self.wd = wd\n",
    "        self.max_lr = max_lr\n",
    "        self.pct_start = pct_start\n",
    "        self.steps_per_epoch = steps_per_epoch\n",
    "        self.div_factor = div_factor\n",
    "        self.final_div_factor = final_div_factor\n",
    "        self.device = torch.device(\"cuda\" if torch.cuda.is_available() else \"cpu\")\n",
    "        self.transform = transforms.Compose([transforms.ToTensor(),\n",
    "                                transforms.Normalize([0.485, 0.456, 0.406],\n",
    "                                                     [0.229, 0.224, 0.225]),\n",
    "                                ])\n",
    "        self.save_path = \"saves\"\n",
    "        if not os.path.exists(self.save_path): os.makedirs(self.save_path)\n",
    "    \n",
    "cfg = CFG(seed=SEED)"
   ]
  },
  {
   "cell_type": "markdown",
   "id": "75fbc436",
   "metadata": {
    "papermill": {
     "duration": 0.004892,
     "end_time": "2022-06-14T11:46:24.360687",
     "exception": false,
     "start_time": "2022-06-14T11:46:24.355795",
     "status": "completed"
    },
    "tags": []
   },
   "source": [
    "### **Dataset Template**"
   ]
  },
  {
   "cell_type": "code",
   "execution_count": 4,
   "id": "d78f63e3",
   "metadata": {
    "execution": {
     "iopub.execute_input": "2022-06-14T11:46:24.373628Z",
     "iopub.status.busy": "2022-06-14T11:46:24.371822Z",
     "iopub.status.idle": "2022-06-14T11:46:24.381541Z",
     "shell.execute_reply": "2022-06-14T11:46:24.380414Z"
    },
    "papermill": {
     "duration": 0.018159,
     "end_time": "2022-06-14T11:46:24.383858",
     "exception": false,
     "start_time": "2022-06-14T11:46:24.365699",
     "status": "completed"
    },
    "tags": []
   },
   "outputs": [],
   "source": [
    "class DS(Dataset):\n",
    "    def __init__(self, images: np.ndarray, labels: np.ndarray = None, transform=None):\n",
    "        self.images = images\n",
    "        self.labels = labels\n",
    "        self.transform = transform\n",
    "    \n",
    "    def __len__(self):\n",
    "        return self.images.shape[0]\n",
    "    \n",
    "    def __getitem__(self, idx):\n",
    "        if self.labels is not None:\n",
    "            return self.transform(self.images[idx]), torch.LongTensor(self.labels[idx])\n",
    "        else:\n",
    "            return self.transform(self.images[idx])"
   ]
  },
  {
   "cell_type": "markdown",
   "id": "ae9f146c",
   "metadata": {
    "papermill": {
     "duration": 0.004814,
     "end_time": "2022-06-14T11:46:24.393660",
     "exception": false,
     "start_time": "2022-06-14T11:46:24.388846",
     "status": "completed"
    },
    "tags": []
   },
   "source": [
    "### **Model**"
   ]
  },
  {
   "cell_type": "code",
   "execution_count": 5,
   "id": "603ea10c",
   "metadata": {
    "execution": {
     "iopub.execute_input": "2022-06-14T11:46:24.405363Z",
     "iopub.status.busy": "2022-06-14T11:46:24.404369Z",
     "iopub.status.idle": "2022-06-14T11:46:24.413676Z",
     "shell.execute_reply": "2022-06-14T11:46:24.412620Z"
    },
    "papermill": {
     "duration": 0.017461,
     "end_time": "2022-06-14T11:46:24.415995",
     "exception": false,
     "start_time": "2022-06-14T11:46:24.398534",
     "status": "completed"
    },
    "tags": []
   },
   "outputs": [],
   "source": [
    "class Model(nn.Module):\n",
    "    def __init__(self):\n",
    "        super(Model, self).__init__()\n",
    "\n",
    "        self.model = models.resnet50(pretrained=True, progress=True)\n",
    "        self.freeze()\n",
    "        self.model.fc = nn.Linear(in_features=self.model.fc.in_features, out_features=10)\n",
    "    \n",
    "    def freeze(self):\n",
    "        for params in self.parameters(): params.requires_grad = False\n",
    "\n",
    "    def forward(self, x):\n",
    "        return nn.LogSoftmax(dim=1)(self.model(x))"
   ]
  },
  {
   "cell_type": "markdown",
   "id": "17b09c49",
   "metadata": {
    "papermill": {
     "duration": 0.004093,
     "end_time": "2022-06-14T11:46:24.424721",
     "exception": false,
     "start_time": "2022-06-14T11:46:24.420628",
     "status": "completed"
    },
    "tags": []
   },
   "source": [
    "### **Fit and Predict Helpers**"
   ]
  },
  {
   "cell_type": "code",
   "execution_count": 6,
   "id": "9eb6341b",
   "metadata": {
    "execution": {
     "iopub.execute_input": "2022-06-14T11:46:24.436111Z",
     "iopub.status.busy": "2022-06-14T11:46:24.435704Z",
     "iopub.status.idle": "2022-06-14T11:46:24.469160Z",
     "shell.execute_reply": "2022-06-14T11:46:24.467822Z"
    },
    "papermill": {
     "duration": 0.04214,
     "end_time": "2022-06-14T11:46:24.471760",
     "exception": false,
     "start_time": "2022-06-14T11:46:24.429620",
     "status": "completed"
    },
    "tags": []
   },
   "outputs": [],
   "source": [
    "def fit(model=None, \n",
    "        optimizer=None, \n",
    "        scheduler_rlrop=None,\n",
    "        scheduler_oclr=None,\n",
    "        epochs=None, \n",
    "        early_stopping_patience=None, \n",
    "        dataloaders=None, \n",
    "        fold=None, \n",
    "        save_path=None,\n",
    "        device=None,\n",
    "        verbose=False) -> tuple:\n",
    "    \n",
    "    def get_accuracy(y_pred, y_true):\n",
    "        y_pred = torch.argmax(y_pred, dim=1)\n",
    "        return torch.count_nonzero(y_pred == y_true).item() / len(y_pred)\n",
    "    \n",
    "    if verbose:\n",
    "        breaker()\n",
    "        if fold: print(f\"Training Fold {fold}...\")\n",
    "        else: print(\"Training ...\")\n",
    "        breaker()\n",
    "        \n",
    "    bestLoss, bestAccs = {\"train\" : np.inf, \"valid\" : np.inf}, {\"train\" : 0.0, \"valid\" : 0.0}\n",
    "    Losses, Accuracies, LRs = [], [], []\n",
    "    if fold: name = f\"state_fold_{fold}.pt\"\n",
    "    else: name = \"state.pt\"\n",
    "\n",
    "    start_time = time()\n",
    "    for e in range(epochs):\n",
    "        e_st = time()\n",
    "        epochLoss, epochAccs = {\"train\" : 0.0, \"valid\" : 0.0}, {\"train\" : 0.0, \"valid\" : 0.0}\n",
    "\n",
    "        for phase in [\"train\", \"valid\"]:\n",
    "            if phase == \"train\":\n",
    "                model.train()\n",
    "            else:\n",
    "                model.eval()\n",
    "            \n",
    "            lossPerPass, accsPerPass = [], []\n",
    "\n",
    "            for X, y in dataloaders[phase]:\n",
    "                X, y = X.to(device), y.to(device).view(-1)\n",
    "\n",
    "                optimizer.zero_grad()\n",
    "                with torch.set_grad_enabled(phase == \"train\"):\n",
    "                    output = model(X)\n",
    "                    loss = torch.nn.NLLLoss()(output, y)\n",
    "                    if phase == \"train\":\n",
    "                        loss.backward()\n",
    "                        optimizer.step()\n",
    "                        if scheduler_oclr: scheduler_oclr.step()\n",
    "                lossPerPass.append(loss.item())\n",
    "                accsPerPass.append(get_accuracy(output, y))\n",
    "            epochLoss[phase] = np.mean(np.array(lossPerPass))\n",
    "            epochAccs[phase] = np.mean(np.array(accsPerPass))\n",
    "        if scheduler_oclr: LRs.append(scheduler_oclr.get_last_lr())\n",
    "        Losses.append(epochLoss)\n",
    "        Accuracies.append(epochAccs)\n",
    "        \n",
    "        if scheduler_oclr:\n",
    "            save_dict = {\"model_state_dict\"     : model.state_dict(),\n",
    "                         \"optim_state_dict\"     : optimizer.state_dict(),\n",
    "                         \"scheduler_state_dict\" : scheduler_oclr.state_dict()}\n",
    "        \n",
    "        elif scheduler_rlrop:\n",
    "            save_dict = {\"model_state_dict\"     : model.state_dict(),\n",
    "                         \"optim_state_dict\"     : optimizer.state_dict(),\n",
    "                         \"scheduler_state_dict\" : scheduler_rlrop.state_dict()}\n",
    "        \n",
    "        else:\n",
    "            save_dict = {\"model_state_dict\"     : model.state_dict(),\n",
    "                         \"optim_state_dict\"     : optimizer.state_dict()}\n",
    "        \n",
    "        if early_stopping_patience:\n",
    "            if epochLoss[\"valid\"] < bestLoss[\"valid\"]:\n",
    "                bestLoss = epochLoss\n",
    "                BLE = e + 1\n",
    "                torch.save(save_dict, os.path.join(save_path, name))\n",
    "                early_stopping_step = 0\n",
    "            else:\n",
    "                early_stopping_step += 1\n",
    "                if early_stopping_step > early_stopping_patience:\n",
    "                    print(\"\\nEarly Stopping at Epoch {}\".format(e + 1))\n",
    "                    break\n",
    "        \n",
    "        if epochLoss[\"valid\"] < bestLoss[\"valid\"]:\n",
    "            bestLoss = epochLoss\n",
    "            BLE = e + 1\n",
    "            torch.save(save_dict,os.path.join(save_path, name))\n",
    "        \n",
    "        if epochAccs[\"valid\"] > bestAccs[\"valid\"]:\n",
    "            bestAccs = epochAccs\n",
    "            BAE = e + 1\n",
    "        \n",
    "        if scheduler_rlrop: scheduler_rlrop.step(epochLoss[\"valid\"])\n",
    "        \n",
    "        if verbose:\n",
    "            print(\"Epoch: {} | Train Loss: {:.5f} | Valid Loss: {:.5f} |\\\n",
    "Train Accs: {:.5f} | Valid Accs: {:.5f} | Time: {:.2f} seconds\".format(e+1, \n",
    "                                                                       epochLoss[\"train\"], epochLoss[\"valid\"], \n",
    "                                                                       epochAccs[\"train\"], epochAccs[\"valid\"], \n",
    "                                                                       time()-e_st))\n",
    "\n",
    "    if verbose:                                           \n",
    "        breaker()\n",
    "        print(f\"Best Validation Loss at Epoch {BLE}\")\n",
    "        breaker()\n",
    "        print(f\"Best Validation Accs at Epoch {BAE}\")\n",
    "        breaker()\n",
    "        print(\"Time Taken [{} Epochs] : {:.2f} minutes\".format(len(Losses), (time()-start_time)/60))\n",
    "    \n",
    "    return Losses, Accuracies, LRs, BLE, BAE, name\n",
    "\n",
    "\n",
    "def predict_batch(model=None, dataloader=None, path=None, device=None) -> np.ndarray:\n",
    "    model.load_state_dict(torch.load(path, map_location=device)[\"model_state_dict\"])\n",
    "    model.to(device)    \n",
    "    model.eval()\n",
    "    \n",
    "    y_pred = torch.zeros(1, 1).to(device)\n",
    "    \n",
    "    for X in dataloader:\n",
    "        X = X.to(device)\n",
    "        with torch.no_grad():\n",
    "            output = torch.argmax(torch.exp(model(X)), dim=1)\n",
    "        y_pred = torch.cat((y_pred, output.view(-1, 1)), dim=0)\n",
    "    \n",
    "    return y_pred[1:].detach().cpu().numpy()"
   ]
  },
  {
   "cell_type": "markdown",
   "id": "21986d89",
   "metadata": {
    "papermill": {
     "duration": 0.00442,
     "end_time": "2022-06-14T11:46:24.481056",
     "exception": false,
     "start_time": "2022-06-14T11:46:24.476636",
     "status": "completed"
    },
    "tags": []
   },
   "source": [
    "### **Train**"
   ]
  },
  {
   "cell_type": "code",
   "execution_count": 7,
   "id": "8ae28643",
   "metadata": {
    "execution": {
     "iopub.execute_input": "2022-06-14T11:46:24.491834Z",
     "iopub.status.busy": "2022-06-14T11:46:24.491372Z",
     "iopub.status.idle": "2022-06-14T11:46:56.830271Z",
     "shell.execute_reply": "2022-06-14T11:46:56.829339Z"
    },
    "papermill": {
     "duration": 32.346667,
     "end_time": "2022-06-14T11:46:56.832501",
     "exception": false,
     "start_time": "2022-06-14T11:46:24.485834",
     "status": "completed"
    },
    "tags": []
   },
   "outputs": [],
   "source": [
    "images = np.load(f\"../input/pdc-images-{SIZE}/images-{SIZE}.npy\")\n",
    "df = pd.read_csv(\"../input/paddy-disease-classification/train.csv\")\n",
    "labels = df.label.copy().values\n",
    "labels = le.fit_transform(labels)"
   ]
  },
  {
   "cell_type": "code",
   "execution_count": 8,
   "id": "93344169",
   "metadata": {
    "execution": {
     "iopub.execute_input": "2022-06-14T11:46:56.843899Z",
     "iopub.status.busy": "2022-06-14T11:46:56.843019Z",
     "iopub.status.idle": "2022-06-14T12:54:48.513748Z",
     "shell.execute_reply": "2022-06-14T12:54:48.512443Z"
    },
    "papermill": {
     "duration": 4071.678395,
     "end_time": "2022-06-14T12:54:48.515969",
     "exception": false,
     "start_time": "2022-06-14T11:46:56.837574",
     "status": "completed"
    },
    "tags": []
   },
   "outputs": [
    {
     "name": "stderr",
     "output_type": "stream",
     "text": [
      "Downloading: \"https://download.pytorch.org/models/resnet50-0676ba61.pth\" to /root/.cache/torch/hub/checkpoints/resnet50-0676ba61.pth\n"
     ]
    },
    {
     "data": {
      "application/vnd.jupyter.widget-view+json": {
       "model_id": "583cc00306dc42189694023227d05c78",
       "version_major": 2,
       "version_minor": 0
      },
      "text/plain": [
       "  0%|          | 0.00/97.8M [00:00<?, ?B/s]"
      ]
     },
     "metadata": {},
     "output_type": "display_data"
    },
    {
     "name": "stdout",
     "output_type": "stream",
     "text": [
      "\n",
      "**************************************************\n",
      "\n",
      "Training ...\n",
      "\n",
      "**************************************************\n",
      "\n",
      "Epoch: 1 | Train Loss: 2.28133 | Valid Loss: 2.15962 |Train Accs: 0.15547 | Valid Accs: 0.24284 | Time: 75.38 seconds\n",
      "Epoch: 2 | Train Loss: 2.11427 | Valid Loss: 2.05635 |Train Accs: 0.26639 | Valid Accs: 0.33779 | Time: 68.75 seconds\n",
      "Epoch: 3 | Train Loss: 1.98832 | Valid Loss: 1.89047 |Train Accs: 0.34875 | Valid Accs: 0.39790 | Time: 68.91 seconds\n",
      "Epoch: 4 | Train Loss: 1.80942 | Valid Loss: 1.70068 |Train Accs: 0.41787 | Valid Accs: 0.44132 | Time: 68.92 seconds\n",
      "Epoch: 5 | Train Loss: 1.63810 | Valid Loss: 1.53785 |Train Accs: 0.46876 | Valid Accs: 0.50143 | Time: 68.81 seconds\n",
      "Epoch: 6 | Train Loss: 1.49349 | Valid Loss: 1.39687 |Train Accs: 0.51449 | Valid Accs: 0.56536 | Time: 69.16 seconds\n",
      "Epoch: 7 | Train Loss: 1.37180 | Valid Loss: 1.25849 |Train Accs: 0.55612 | Valid Accs: 0.59876 | Time: 68.77 seconds\n",
      "Epoch: 8 | Train Loss: 1.27828 | Valid Loss: 1.18145 |Train Accs: 0.58539 | Valid Accs: 0.61069 | Time: 68.83 seconds\n",
      "Epoch: 9 | Train Loss: 1.20885 | Valid Loss: 1.16712 |Train Accs: 0.59969 | Valid Accs: 0.61307 | Time: 68.77 seconds\n",
      "Epoch: 10 | Train Loss: 1.15130 | Valid Loss: 1.07423 |Train Accs: 0.61869 | Valid Accs: 0.64742 | Time: 68.90 seconds\n",
      "Epoch: 11 | Train Loss: 1.09331 | Valid Loss: 1.00268 |Train Accs: 0.64196 | Valid Accs: 0.68416 | Time: 68.91 seconds\n",
      "Epoch: 12 | Train Loss: 1.04910 | Valid Loss: 1.01217 |Train Accs: 0.65377 | Valid Accs: 0.64695 | Time: 68.89 seconds\n",
      "Epoch: 13 | Train Loss: 1.02263 | Valid Loss: 0.95874 |Train Accs: 0.66303 | Valid Accs: 0.68845 | Time: 69.26 seconds\n",
      "Epoch: 14 | Train Loss: 0.99380 | Valid Loss: 0.99288 |Train Accs: 0.66763 | Valid Accs: 0.67271 | Time: 68.88 seconds\n",
      "Epoch: 15 | Train Loss: 0.96490 | Valid Loss: 0.92332 |Train Accs: 0.68049 | Valid Accs: 0.68989 | Time: 69.05 seconds\n",
      "Epoch: 16 | Train Loss: 0.92985 | Valid Loss: 0.93653 |Train Accs: 0.69273 | Valid Accs: 0.68273 | Time: 68.61 seconds\n",
      "Epoch: 17 | Train Loss: 0.92239 | Valid Loss: 0.90185 |Train Accs: 0.69487 | Valid Accs: 0.69847 | Time: 68.92 seconds\n",
      "Epoch: 18 | Train Loss: 0.90783 | Valid Loss: 0.92235 |Train Accs: 0.69849 | Valid Accs: 0.69561 | Time: 68.59 seconds\n",
      "Epoch: 19 | Train Loss: 0.88443 | Valid Loss: 1.06835 |Train Accs: 0.70005 | Valid Accs: 0.66746 | Time: 68.63 seconds\n",
      "Epoch: 20 | Train Loss: 0.86710 | Valid Loss: 0.79989 |Train Accs: 0.71394 | Valid Accs: 0.75095 | Time: 68.96 seconds\n",
      "Epoch: 21 | Train Loss: 0.84948 | Valid Loss: 0.83279 |Train Accs: 0.71636 | Valid Accs: 0.72758 | Time: 68.89 seconds\n",
      "Epoch: 22 | Train Loss: 0.83098 | Valid Loss: 0.87808 |Train Accs: 0.72382 | Valid Accs: 0.70468 | Time: 68.51 seconds\n",
      "Epoch: 23 | Train Loss: 0.81372 | Valid Loss: 0.77576 |Train Accs: 0.72860 | Valid Accs: 0.74809 | Time: 68.76 seconds\n",
      "Epoch: 24 | Train Loss: 0.78894 | Valid Loss: 0.79695 |Train Accs: 0.73930 | Valid Accs: 0.74475 | Time: 68.60 seconds\n",
      "Epoch: 25 | Train Loss: 0.78321 | Valid Loss: 0.81458 |Train Accs: 0.74033 | Valid Accs: 0.74237 | Time: 69.09 seconds\n",
      "Epoch: 26 | Train Loss: 0.77973 | Valid Loss: 0.76914 |Train Accs: 0.73956 | Valid Accs: 0.75000 | Time: 69.31 seconds\n",
      "Epoch: 27 | Train Loss: 0.78397 | Valid Loss: 0.75195 |Train Accs: 0.73848 | Valid Accs: 0.75859 | Time: 69.08 seconds\n",
      "Epoch: 28 | Train Loss: 0.74783 | Valid Loss: 0.73492 |Train Accs: 0.74897 | Valid Accs: 0.76622 | Time: 68.98 seconds\n",
      "Epoch: 29 | Train Loss: 0.74776 | Valid Loss: 0.81235 |Train Accs: 0.75190 | Valid Accs: 0.74141 | Time: 68.75 seconds\n",
      "Epoch: 30 | Train Loss: 0.73341 | Valid Loss: 0.72256 |Train Accs: 0.75432 | Valid Accs: 0.77290 | Time: 68.64 seconds\n",
      "Epoch: 31 | Train Loss: 0.72239 | Valid Loss: 0.71826 |Train Accs: 0.75437 | Valid Accs: 0.76813 | Time: 68.91 seconds\n",
      "Epoch: 32 | Train Loss: 0.71589 | Valid Loss: 0.74077 |Train Accs: 0.76183 | Valid Accs: 0.76384 | Time: 68.45 seconds\n",
      "Epoch: 33 | Train Loss: 0.71270 | Valid Loss: 0.70895 |Train Accs: 0.75933 | Valid Accs: 0.77767 | Time: 68.94 seconds\n",
      "Epoch: 34 | Train Loss: 0.69475 | Valid Loss: 0.72457 |Train Accs: 0.76677 | Valid Accs: 0.77385 | Time: 68.69 seconds\n",
      "Epoch: 35 | Train Loss: 0.69936 | Valid Loss: 0.71712 |Train Accs: 0.76610 | Valid Accs: 0.77290 | Time: 68.50 seconds\n",
      "Epoch: 36 | Train Loss: 0.68877 | Valid Loss: 0.75412 |Train Accs: 0.77430 | Valid Accs: 0.76193 | Time: 68.54 seconds\n",
      "Epoch: 37 | Train Loss: 0.67166 | Valid Loss: 0.69152 |Train Accs: 0.77610 | Valid Accs: 0.78531 | Time: 68.85 seconds\n",
      "Epoch: 38 | Train Loss: 0.66725 | Valid Loss: 0.67238 |Train Accs: 0.77505 | Valid Accs: 0.78769 | Time: 68.60 seconds\n",
      "Epoch: 39 | Train Loss: 0.67125 | Valid Loss: 0.79664 |Train Accs: 0.78141 | Valid Accs: 0.73998 | Time: 68.38 seconds\n",
      "Epoch: 40 | Train Loss: 0.64325 | Valid Loss: 0.67891 |Train Accs: 0.78834 | Valid Accs: 0.78721 | Time: 68.50 seconds\n",
      "Epoch: 41 | Train Loss: 0.65151 | Valid Loss: 0.72106 |Train Accs: 0.78030 | Valid Accs: 0.76861 | Time: 68.67 seconds\n",
      "Epoch: 42 | Train Loss: 0.64667 | Valid Loss: 0.66966 |Train Accs: 0.78964 | Valid Accs: 0.78674 | Time: 69.20 seconds\n",
      "Epoch: 43 | Train Loss: 0.62223 | Valid Loss: 0.65734 |Train Accs: 0.79458 | Valid Accs: 0.79151 | Time: 68.95 seconds\n",
      "Epoch: 44 | Train Loss: 0.63823 | Valid Loss: 0.70586 |Train Accs: 0.78378 | Valid Accs: 0.77624 | Time: 68.68 seconds\n",
      "Epoch: 45 | Train Loss: 0.62410 | Valid Loss: 0.66081 |Train Accs: 0.79314 | Valid Accs: 0.79151 | Time: 68.98 seconds\n",
      "Epoch: 46 | Train Loss: 0.61549 | Valid Loss: 0.71313 |Train Accs: 0.79513 | Valid Accs: 0.77481 | Time: 68.65 seconds\n",
      "Epoch: 47 | Train Loss: 0.59533 | Valid Loss: 0.65996 |Train Accs: 0.80238 | Valid Accs: 0.79437 | Time: 68.88 seconds\n",
      "Epoch: 48 | Train Loss: 0.61418 | Valid Loss: 0.63451 |Train Accs: 0.79655 | Valid Accs: 0.79198 | Time: 69.11 seconds\n",
      "Epoch: 49 | Train Loss: 0.60506 | Valid Loss: 0.64848 |Train Accs: 0.79784 | Valid Accs: 0.79485 | Time: 69.02 seconds\n",
      "Epoch: 50 | Train Loss: 0.59968 | Valid Loss: 0.66929 |Train Accs: 0.79568 | Valid Accs: 0.78387 | Time: 68.22 seconds\n",
      "Epoch: 51 | Train Loss: 0.58818 | Valid Loss: 0.63852 |Train Accs: 0.80679 | Valid Accs: 0.79532 | Time: 68.21 seconds\n",
      "Epoch: 52 | Train Loss: 0.59721 | Valid Loss: 0.64535 |Train Accs: 0.79808 | Valid Accs: 0.80057 | Time: 68.39 seconds\n",
      "Epoch: 53 | Train Loss: 0.58069 | Valid Loss: 0.61750 |Train Accs: 0.80924 | Valid Accs: 0.80582 | Time: 68.49 seconds\n",
      "Epoch: 54 | Train Loss: 0.57559 | Valid Loss: 0.66175 |Train Accs: 0.81483 | Valid Accs: 0.79389 | Time: 68.25 seconds\n",
      "Epoch: 55 | Train Loss: 0.56305 | Valid Loss: 0.68493 |Train Accs: 0.81883 | Valid Accs: 0.78340 | Time: 68.31 seconds\n",
      "Epoch: 56 | Train Loss: 0.55782 | Valid Loss: 0.64524 |Train Accs: 0.81442 | Valid Accs: 0.79819 | Time: 68.20 seconds\n",
      "Epoch: 57 | Train Loss: 0.53778 | Valid Loss: 0.65091 |Train Accs: 0.82217 | Valid Accs: 0.79103 | Time: 68.04 seconds\n",
      "Epoch: 58 | Train Loss: 0.55752 | Valid Loss: 0.61943 |Train Accs: 0.81725 | Valid Accs: 0.79914 | Time: 68.26 seconds\n",
      "\n",
      "Early Stopping at Epoch 59\n",
      "\n",
      "**************************************************\n",
      "\n",
      "Best Validation Loss at Epoch 53\n",
      "\n",
      "**************************************************\n",
      "\n",
      "Best Validation Accs at Epoch 53\n",
      "\n",
      "**************************************************\n",
      "\n",
      "Time Taken [59 Epochs] : 67.69 minutes\n",
      "\n",
      "**************************************************\n",
      "\n"
     ]
    },
    {
     "data": {
      "image/png": "[encoded data removed]",
      "text/plain": [
       "<Figure size 432x288 with 1 Axes>"
      ]
     },
     "metadata": {
      "needs_background": "light"
     },
     "output_type": "display_data"
    },
    {
     "name": "stdout",
     "output_type": "stream",
     "text": [
      "\n",
      "**************************************************\n",
      "\n"
     ]
    },
    {
     "data": {
      "image/png": "[encoded data removed]",
      "text/plain": [
       "<Figure size 432x288 with 1 Axes>"
      ]
     },
     "metadata": {
      "needs_background": "light"
     },
     "output_type": "display_data"
    },
    {
     "name": "stdout",
     "output_type": "stream",
     "text": [
      "\n",
      "**************************************************\n",
      "\n"
     ]
    },
    {
     "data": {
      "image/png": "[encoded data removed]",
      "text/plain": [
       "<Figure size 576x432 with 1 Axes>"
      ]
     },
     "metadata": {
      "needs_background": "light"
     },
     "output_type": "display_data"
    },
    {
     "name": "stdout",
     "output_type": "stream",
     "text": [
      "\n",
      "**************************************************\n",
      "\n"
     ]
    }
   ],
   "source": [
    "for tr_idx, va_idx in StratifiedKFold(n_splits=cfg.n_splits, random_state=cfg.seed, shuffle=True).split(images, labels):\n",
    "    break\n",
    "\n",
    "tr_images, va_images, tr_labels, va_labels = images[tr_idx], images[va_idx], labels[tr_idx], labels[va_idx]\n",
    "\n",
    "tr_data_setup = DS(tr_images, tr_labels.reshape(-1, 1), cfg.transform)\n",
    "va_data_setup = DS(va_images, va_labels.reshape(-1, 1), cfg.transform)\n",
    "\n",
    "dataloaders = {\n",
    "    \"train\" : DL(tr_data_setup, batch_size=cfg.batch_size, shuffle=True, generator=torch.manual_seed(cfg.seed)),\n",
    "    \"valid\" : DL(va_data_setup, batch_size=cfg.batch_size, shuffle=False),\n",
    "}\n",
    "\n",
    "cfg = CFG(epochs=100, batch_size=64, steps_per_epoch=len(dataloaders[\"train\"]))\n",
    "\n",
    "torch.manual_seed(cfg.seed)\n",
    "model = Model().to(cfg.device)\n",
    "optimizer = optim.Adam([p for p in model.parameters() if p.requires_grad], lr=cfg.lr, weight_decay=cfg.wd)\n",
    "scheduler_oclr = optim.lr_scheduler.OneCycleLR(optimizer=optimizer, \n",
    "                                               max_lr=cfg.max_lr, \n",
    "                                               epochs=cfg.epochs, \n",
    "                                               steps_per_epoch=cfg.steps_per_epoch,\n",
    "                                               pct_start=cfg.pct_start, \n",
    "                                               div_factor=cfg.div_factor, \n",
    "                                               final_div_factor=cfg.final_div_factor)\n",
    "# scheduler_rlrop = optim.lr_scheduler.ReduceLROnPlateau(optimizer=optimizer,\n",
    "#                                                       patience=cfg.patience,\n",
    "#                                                       eps=cfg.eps,\n",
    "#                                                       verbose=True)\n",
    "\n",
    "# scheduler_oclr = None\n",
    "scheduler_rlrop = None\n",
    "\n",
    "L, A, LR, BLE, BAE, name = fit(model=model, \n",
    "                               optimizer=optimizer, \n",
    "                               scheduler_oclr=scheduler_oclr,\n",
    "                               scheduler_rlrop=scheduler_rlrop,\n",
    "                               epochs=cfg.epochs, \n",
    "                               early_stopping_patience=cfg.early_stopping, \n",
    "                               dataloaders=dataloaders, \n",
    "                               device=cfg.device,\n",
    "                               save_path=cfg.save_path,\n",
    "                               fold=None,\n",
    "                               verbose=True)\n",
    "\n",
    "breaker()\n",
    "show_loss_graphs(L)\n",
    "breaker()\n",
    "show_accuracy_graphs(A)\n",
    "breaker()\n",
    "\n",
    "if scheduler_oclr:\n",
    "    show_lr_graph(LR)\n",
    "    breaker()"
   ]
  }
 ],
 "metadata": {
  "kernelspec": {
   "display_name": "Python 3",
   "language": "python",
   "name": "python3"
  },
  "language_info": {
   "codemirror_mode": {
    "name": "ipython",
    "version": 3
   },
   "file_extension": ".py",
   "mimetype": "text/x-python",
   "name": "python",
   "nbconvert_exporter": "python",
   "pygments_lexer": "ipython3",
   "version": "3.7.12"
  },
  "papermill": {
   "default_parameters": {},
   "duration": 4119.461004,
   "end_time": "2022-06-14T12:54:50.862858",
   "environment_variables": {},
   "exception": null,
   "input_path": "__notebook__.ipynb",
   "output_path": "__notebook__.ipynb",
   "parameters": {},
   "start_time": "2022-06-14T11:46:11.401854",
   "version": "2.3.4"
  },
  "widgets": {
   "application/vnd.jupyter.widget-state+json": {
    "state": {
     "117ff2bf88174f3f9261db7c7b3c9a1b": {
      "model_module": "@jupyter-widgets/controls",
      "model_module_version": "1.5.0",
      "model_name": "FloatProgressModel",
      "state": {
       "_dom_classes": [],
       "_model_module": "@jupyter-widgets/controls",
       "_model_module_version": "1.5.0",
       "_model_name": "FloatProgressModel",
       "_view_count": null,
       "_view_module": "@jupyter-widgets/controls",
       "_view_module_version": "1.5.0",
       "_view_name": "ProgressView",
       "bar_style": "success",
       "description": "",
       "description_tooltip": null,
       "layout": "IPY_MODEL_6256cc7f4da7494a99b5ab2dc750da3b",
       "max": 102530333.0,
       "min": 0.0,
       "orientation": "horizontal",
       "style": "IPY_MODEL_510cb9cfae67416c9a80df7806e0b563",
       "value": 102530333.0
      }
     },
     "33808b8d6b2f4c7c9035cf9108eb562e": {
      "model_module": "@jupyter-widgets/base",
      "model_module_version": "1.2.0",
      "model_name": "LayoutModel",
      "state": {
       "_model_module": "@jupyter-widgets/base",
       "_model_module_version": "1.2.0",
       "_model_name": "LayoutModel",
       "_view_count": null,
       "_view_module": "@jupyter-widgets/base",
       "_view_module_version": "1.2.0",
       "_view_name": "LayoutView",
       "align_content": null,
       "align_items": null,
       "align_self": null,
       "border": null,
       "bottom": null,
       "display": null,
       "flex": null,
       "flex_flow": null,
       "grid_area": null,
       "grid_auto_columns": null,
       "grid_auto_flow": null,
       "grid_auto_rows": null,
       "grid_column": null,
       "grid_gap": null,
       "grid_row": null,
       "grid_template_areas": null,
       "grid_template_columns": null,
       "grid_template_rows": null,
       "height": null,
       "justify_content": null,
       "justify_items": null,
       "left": null,
       "margin": null,
       "max_height": null,
       "max_width": null,
       "min_height": null,
       "min_width": null,
       "object_fit": null,
       "object_position": null,
       "order": null,
       "overflow": null,
       "overflow_x": null,
       "overflow_y": null,
       "padding": null,
       "right": null,
       "top": null,
       "visibility": null,
       "width": null
      }
     },
     "510cb9cfae67416c9a80df7806e0b563": {
      "model_module": "@jupyter-widgets/controls",
      "model_module_version": "1.5.0",
      "model_name": "ProgressStyleModel",
      "state": {
       "_model_module": "@jupyter-widgets/controls",
       "_model_module_version": "1.5.0",
       "_model_name": "ProgressStyleModel",
       "_view_count": null,
       "_view_module": "@jupyter-widgets/base",
       "_view_module_version": "1.2.0",
       "_view_name": "StyleView",
       "bar_color": null,
       "description_width": ""
      }
     },
     "583cc00306dc42189694023227d05c78": {
      "model_module": "@jupyter-widgets/controls",
      "model_module_version": "1.5.0",
      "model_name": "HBoxModel",
      "state": {
       "_dom_classes": [],
       "_model_module": "@jupyter-widgets/controls",
       "_model_module_version": "1.5.0",
       "_model_name": "HBoxModel",
       "_view_count": null,
       "_view_module": "@jupyter-widgets/controls",
       "_view_module_version": "1.5.0",
       "_view_name": "HBoxView",
       "box_style": "",
       "children": [
        "IPY_MODEL_88a4fa5c7088435e82d8811ce719334a",
        "IPY_MODEL_117ff2bf88174f3f9261db7c7b3c9a1b",
        "IPY_MODEL_b81e7305660d461096c79a2e8e38e42d"
       ],
       "layout": "IPY_MODEL_c02d32cd81ca4463b423b794517796f4"
      }
     },
     "6256cc7f4da7494a99b5ab2dc750da3b": {
      "model_module": "@jupyter-widgets/base",
      "model_module_version": "1.2.0",
      "model_name": "LayoutModel",
      "state": {
       "_model_module": "@jupyter-widgets/base",
       "_model_module_version": "1.2.0",
       "_model_name": "LayoutModel",
       "_view_count": null,
       "_view_module": "@jupyter-widgets/base",
       "_view_module_version": "1.2.0",
       "_view_name": "LayoutView",
       "align_content": null,
       "align_items": null,
       "align_self": null,
       "border": null,
       "bottom": null,
       "display": null,
       "flex": null,
       "flex_flow": null,
       "grid_area": null,
       "grid_auto_columns": null,
       "grid_auto_flow": null,
       "grid_auto_rows": null,
       "grid_column": null,
       "grid_gap": null,
       "grid_row": null,
       "grid_template_areas": null,
       "grid_template_columns": null,
       "grid_template_rows": null,
       "height": null,
       "justify_content": null,
       "justify_items": null,
       "left": null,
       "margin": null,
       "max_height": null,
       "max_width": null,
       "min_height": null,
       "min_width": null,
       "object_fit": null,
       "object_position": null,
       "order": null,
       "overflow": null,
       "overflow_x": null,
       "overflow_y": null,
       "padding": null,
       "right": null,
       "top": null,
       "visibility": null,
       "width": null
      }
     },
     "6855ff8df76d4dbc93d980b4c620cb07": {
      "model_module": "@jupyter-widgets/base",
      "model_module_version": "1.2.0",
      "model_name": "LayoutModel",
      "state": {
       "_model_module": "@jupyter-widgets/base",
       "_model_module_version": "1.2.0",
       "_model_name": "LayoutModel",
       "_view_count": null,
       "_view_module": "@jupyter-widgets/base",
       "_view_module_version": "1.2.0",
       "_view_name": "LayoutView",
       "align_content": null,
       "align_items": null,
       "align_self": null,
       "border": null,
       "bottom": null,
       "display": null,
       "flex": null,
       "flex_flow": null,
       "grid_area": null,
       "grid_auto_columns": null,
       "grid_auto_flow": null,
       "grid_auto_rows": null,
       "grid_column": null,
       "grid_gap": null,
       "grid_row": null,
       "grid_template_areas": null,
       "grid_template_columns": null,
       "grid_template_rows": null,
       "height": null,
       "justify_content": null,
       "justify_items": null,
       "left": null,
       "margin": null,
       "max_height": null,
       "max_width": null,
       "min_height": null,
       "min_width": null,
       "object_fit": null,
       "object_position": null,
       "order": null,
       "overflow": null,
       "overflow_x": null,
       "overflow_y": null,
       "padding": null,
       "right": null,
       "top": null,
       "visibility": null,
       "width": null
      }
     },
     "851a21ac145e4b33931759b9f8310e43": {
      "model_module": "@jupyter-widgets/controls",
      "model_module_version": "1.5.0",
      "model_name": "DescriptionStyleModel",
      "state": {
       "_model_module": "@jupyter-widgets/controls",
       "_model_module_version": "1.5.0",
       "_model_name": "DescriptionStyleModel",
       "_view_count": null,
       "_view_module": "@jupyter-widgets/base",
       "_view_module_version": "1.2.0",
       "_view_name": "StyleView",
       "description_width": ""
      }
     },
     "88a4fa5c7088435e82d8811ce719334a": {
      "model_module": "@jupyter-widgets/controls",
      "model_module_version": "1.5.0",
      "model_name": "HTMLModel",
      "state": {
       "_dom_classes": [],
       "_model_module": "@jupyter-widgets/controls",
       "_model_module_version": "1.5.0",
       "_model_name": "HTMLModel",
       "_view_count": null,
       "_view_module": "@jupyter-widgets/controls",
       "_view_module_version": "1.5.0",
       "_view_name": "HTMLView",
       "description": "",
       "description_tooltip": null,
       "layout": "IPY_MODEL_33808b8d6b2f4c7c9035cf9108eb562e",
       "placeholder": "​",
       "style": "IPY_MODEL_b8cbfa9c9efe400a92b203b74a1454f5",
       "value": "100%"
      }
     },
     "b81e7305660d461096c79a2e8e38e42d": {
      "model_module": "@jupyter-widgets/controls",
      "model_module_version": "1.5.0",
      "model_name": "HTMLModel",
      "state": {
       "_dom_classes": [],
       "_model_module": "@jupyter-widgets/controls",
       "_model_module_version": "1.5.0",
       "_model_name": "HTMLModel",
       "_view_count": null,
       "_view_module": "@jupyter-widgets/controls",
       "_view_module_version": "1.5.0",
       "_view_name": "HTMLView",
       "description": "",
       "description_tooltip": null,
       "layout": "IPY_MODEL_6855ff8df76d4dbc93d980b4c620cb07",
       "placeholder": "​",
       "style": "IPY_MODEL_851a21ac145e4b33931759b9f8310e43",
       "value": " 97.8M/97.8M [00:00&lt;00:00, 108MB/s]"
      }
     },
     "b8cbfa9c9efe400a92b203b74a1454f5": {
      "model_module": "@jupyter-widgets/controls",
      "model_module_version": "1.5.0",
      "model_name": "DescriptionStyleModel",
      "state": {
       "_model_module": "@jupyter-widgets/controls",
       "_model_module_version": "1.5.0",
       "_model_name": "DescriptionStyleModel",
       "_view_count": null,
       "_view_module": "@jupyter-widgets/base",
       "_view_module_version": "1.2.0",
       "_view_name": "StyleView",
       "description_width": ""
      }
     },
     "c02d32cd81ca4463b423b794517796f4": {
      "model_module": "@jupyter-widgets/base",
      "model_module_version": "1.2.0",
      "model_name": "LayoutModel",
      "state": {
       "_model_module": "@jupyter-widgets/base",
       "_model_module_version": "1.2.0",
       "_model_name": "LayoutModel",
       "_view_count": null,
       "_view_module": "@jupyter-widgets/base",
       "_view_module_version": "1.2.0",
       "_view_name": "LayoutView",
       "align_content": null,
       "align_items": null,
       "align_self": null,
       "border": null,
       "bottom": null,
       "display": null,
       "flex": null,
       "flex_flow": null,
       "grid_area": null,
       "grid_auto_columns": null,
       "grid_auto_flow": null,
       "grid_auto_rows": null,
       "grid_column": null,
       "grid_gap": null,
       "grid_row": null,
       "grid_template_areas": null,
       "grid_template_columns": null,
       "grid_template_rows": null,
       "height": null,
       "justify_content": null,
       "justify_items": null,
       "left": null,
       "margin": null,
       "max_height": null,
       "max_width": null,
       "min_height": null,
       "min_width": null,
       "object_fit": null,
       "object_position": null,
       "order": null,
       "overflow": null,
       "overflow_x": null,
       "overflow_y": null,
       "padding": null,
       "right": null,
       "top": null,
       "visibility": null,
       "width": null
      }
     }
    },
    "version_major": 2,
    "version_minor": 0
   }
  }
 },
 "nbformat": 4,
 "nbformat_minor": 5
}
