{
 "cells": [
  {
   "cell_type": "markdown",
   "id": "96da1791",
   "metadata": {
    "papermill": {
     "duration": 0.004986,
     "end_time": "2022-06-27T10:24:59.716880",
     "exception": false,
     "start_time": "2022-06-27T10:24:59.711894",
     "status": "completed"
    },
    "tags": []
   },
   "source": [
    "### **Setup**"
   ]
  },
  {
   "cell_type": "code",
   "execution_count": 1,
   "id": "eb384bc9",
   "metadata": {
    "execution": {
     "iopub.execute_input": "2022-06-27T10:24:59.729502Z",
     "iopub.status.busy": "2022-06-27T10:24:59.728662Z",
     "iopub.status.idle": "2022-06-27T10:25:12.173069Z",
     "shell.execute_reply": "2022-06-27T10:25:12.172038Z"
    },
    "papermill": {
     "duration": 12.451891,
     "end_time": "2022-06-27T10:25:12.175097",
     "exception": false,
     "start_time": "2022-06-27T10:24:59.723206",
     "status": "completed"
    },
    "tags": []
   },
   "outputs": [
    {
     "name": "stderr",
     "output_type": "stream",
     "text": [
      "WARNING: Running pip as the 'root' user can result in broken permissions and conflicting behaviour with the system package manager. It is recommended to use a virtual environment instead: https://pip.pypa.io/warnings/venv\n"
     ]
    }
   ],
   "source": [
    "%%bash\n",
    "pip install timm -q"
   ]
  },
  {
   "cell_type": "markdown",
   "id": "cb85a363",
   "metadata": {
    "papermill": {
     "duration": 0.003373,
     "end_time": "2022-06-27T10:25:12.182297",
     "exception": false,
     "start_time": "2022-06-27T10:25:12.178924",
     "status": "completed"
    },
    "tags": []
   },
   "source": [
    "### **Library Imports**"
   ]
  },
  {
   "cell_type": "code",
   "execution_count": 2,
   "id": "76b4ce48",
   "metadata": {
    "execution": {
     "iopub.execute_input": "2022-06-27T10:25:12.190473Z",
     "iopub.status.busy": "2022-06-27T10:25:12.190158Z",
     "iopub.status.idle": "2022-06-27T10:25:19.713628Z",
     "shell.execute_reply": "2022-06-27T10:25:19.712639Z"
    },
    "papermill": {
     "duration": 7.530064,
     "end_time": "2022-06-27T10:25:19.715781",
     "exception": false,
     "start_time": "2022-06-27T10:25:12.185717",
     "status": "completed"
    },
    "tags": []
   },
   "outputs": [],
   "source": [
    "import os\n",
    "import re\n",
    "import cv2\n",
    "import timm\n",
    "import torch\n",
    "import numpy as np\n",
    "import pandas as pd\n",
    "import matplotlib.pyplot as plt\n",
    "\n",
    "from time import time\n",
    "from torch import nn, optim\n",
    "from torch.utils.data import Dataset\n",
    "from torch.utils.data import DataLoader as DL\n",
    "from torchvision import models, transforms\n",
    "\n",
    "from sklearn.preprocessing import LabelEncoder"
   ]
  },
  {
   "cell_type": "markdown",
   "id": "de6dc417",
   "metadata": {
    "papermill": {
     "duration": 0.003253,
     "end_time": "2022-06-27T10:25:19.722768",
     "exception": false,
     "start_time": "2022-06-27T10:25:19.719515",
     "status": "completed"
    },
    "tags": []
   },
   "source": [
    "### **Utilities and Helpers**"
   ]
  },
  {
   "cell_type": "code",
   "execution_count": 3,
   "id": "6c98a7cf",
   "metadata": {
    "execution": {
     "iopub.execute_input": "2022-06-27T10:25:19.732052Z",
     "iopub.status.busy": "2022-06-27T10:25:19.730953Z",
     "iopub.status.idle": "2022-06-27T10:25:19.784278Z",
     "shell.execute_reply": "2022-06-27T10:25:19.783495Z"
    },
    "papermill": {
     "duration": 0.059816,
     "end_time": "2022-06-27T10:25:19.786045",
     "exception": false,
     "start_time": "2022-06-27T10:25:19.726229",
     "status": "completed"
    },
    "tags": []
   },
   "outputs": [],
   "source": [
    "SEED = 42\n",
    "SIZE = 384\n",
    "FOLD = 3\n",
    "TRANSFORM = transforms.Compose([transforms.ToTensor(),\n",
    "                                transforms.Normalize([0.49699, 0.58823, 0.23049],\n",
    "                                                     [0.22591, 0.22614, 0.18264]),\n",
    "                                ])\n",
    "MODEL_PATH = f\"../input/pdc-en4-na{SIZE}f-f{FOLD}/saves/ble_state.pt\"\n",
    "DEVICE = torch.device(\"cuda\" if torch.cuda.is_available() else \"cpu\")\n",
    "\n",
    "le = LabelEncoder()\n",
    "\n",
    "\n",
    "def breaker(num: int=50, char: str=\"*\") -> None:\n",
    "    print(\"\\n\" + num*char + \"\\n\")\n",
    "\n",
    "\n",
    "def get_image(path: str, size: int=224) -> np.ndarray:\n",
    "    return cv2.resize(src=cv2.cvtColor(src=cv2.imread(path, cv2.IMREAD_COLOR), code=cv2.COLOR_BGR2RGB), dsize=(size, size), interpolation=cv2.INTER_AREA)"
   ]
  },
  {
   "cell_type": "markdown",
   "id": "fb9603bf",
   "metadata": {
    "papermill": {
     "duration": 0.003235,
     "end_time": "2022-06-27T10:25:19.792950",
     "exception": false,
     "start_time": "2022-06-27T10:25:19.789715",
     "status": "completed"
    },
    "tags": []
   },
   "source": [
    "### **Configuration**"
   ]
  },
  {
   "cell_type": "markdown",
   "id": "3a5f8ce9",
   "metadata": {
    "papermill": {
     "duration": 0.003247,
     "end_time": "2022-06-27T10:25:19.799572",
     "exception": false,
     "start_time": "2022-06-27T10:25:19.796325",
     "status": "completed"
    },
    "tags": []
   },
   "source": [
    "### **Dataset Template**"
   ]
  },
  {
   "cell_type": "code",
   "execution_count": 4,
   "id": "5eea5e33",
   "metadata": {
    "execution": {
     "iopub.execute_input": "2022-06-27T10:25:19.807773Z",
     "iopub.status.busy": "2022-06-27T10:25:19.807095Z",
     "iopub.status.idle": "2022-06-27T10:25:19.813143Z",
     "shell.execute_reply": "2022-06-27T10:25:19.812377Z"
    },
    "papermill": {
     "duration": 0.011805,
     "end_time": "2022-06-27T10:25:19.814712",
     "exception": false,
     "start_time": "2022-06-27T10:25:19.802907",
     "status": "completed"
    },
    "tags": []
   },
   "outputs": [],
   "source": [
    "class DS(Dataset):\n",
    "    def __init__(self, base_path: str, filenames: np.ndarray, size: int=224, transform=None):\n",
    "        self.base_path = base_path\n",
    "        self.filenames = filenames\n",
    "        self.size = size\n",
    "        self.transform = transform\n",
    "    \n",
    "    def __len__(self):\n",
    "        return self.filenames.shape[0]\n",
    "    \n",
    "    def __getitem__(self, idx):\n",
    "        return self.transform(get_image(os.path.join(self.base_path, self.filenames[idx]), size=self.size))"
   ]
  },
  {
   "cell_type": "markdown",
   "id": "159e32e3",
   "metadata": {
    "papermill": {
     "duration": 0.003221,
     "end_time": "2022-06-27T10:25:19.821265",
     "exception": false,
     "start_time": "2022-06-27T10:25:19.818044",
     "status": "completed"
    },
    "tags": []
   },
   "source": [
    "### **Model**"
   ]
  },
  {
   "cell_type": "code",
   "execution_count": 5,
   "id": "58f898df",
   "metadata": {
    "execution": {
     "iopub.execute_input": "2022-06-27T10:25:19.830153Z",
     "iopub.status.busy": "2022-06-27T10:25:19.829565Z",
     "iopub.status.idle": "2022-06-27T10:25:19.835186Z",
     "shell.execute_reply": "2022-06-27T10:25:19.834524Z"
    },
    "papermill": {
     "duration": 0.011903,
     "end_time": "2022-06-27T10:25:19.836791",
     "exception": false,
     "start_time": "2022-06-27T10:25:19.824888",
     "status": "completed"
    },
    "tags": []
   },
   "outputs": [],
   "source": [
    "class Model(nn.Module):\n",
    "    def __init__(self):\n",
    "        super(Model, self).__init__()\n",
    "\n",
    "        self.model = timm.create_model(model_name=\"efficientnet_b4\", pretrained=False)\n",
    "        # self.freeze()\n",
    "        self.model.classifier = nn.Linear(in_features=self.model.classifier.in_features, out_features=10)\n",
    "    \n",
    "    def freeze(self):\n",
    "        for params in self.parameters(): params.requires_grad = False\n",
    "\n",
    "    def forward(self, x):\n",
    "        return nn.LogSoftmax(dim=1)(self.model(x))"
   ]
  },
  {
   "cell_type": "markdown",
   "id": "69b33436",
   "metadata": {
    "papermill": {
     "duration": 0.004023,
     "end_time": "2022-06-27T10:25:19.844660",
     "exception": false,
     "start_time": "2022-06-27T10:25:19.840637",
     "status": "completed"
    },
    "tags": []
   },
   "source": [
    "### **Predict Helpers**"
   ]
  },
  {
   "cell_type": "code",
   "execution_count": 6,
   "id": "c9a5262b",
   "metadata": {
    "execution": {
     "iopub.execute_input": "2022-06-27T10:25:19.855915Z",
     "iopub.status.busy": "2022-06-27T10:25:19.855089Z",
     "iopub.status.idle": "2022-06-27T10:25:19.863591Z",
     "shell.execute_reply": "2022-06-27T10:25:19.862483Z"
    },
    "papermill": {
     "duration": 0.016702,
     "end_time": "2022-06-27T10:25:19.865807",
     "exception": false,
     "start_time": "2022-06-27T10:25:19.849105",
     "status": "completed"
    },
    "tags": []
   },
   "outputs": [],
   "source": [
    "def predict_batch(model=None, dataloader=None, path=None, device=None) -> np.ndarray:\n",
    "    model.load_state_dict(torch.load(path, map_location=device)[\"model_state_dict\"])\n",
    "    model.to(device)    \n",
    "    model.eval()\n",
    "    \n",
    "    y_pred = torch.zeros(1, 1).to(device)\n",
    "    \n",
    "    for X in dataloader:\n",
    "        X = X.to(device)\n",
    "        with torch.no_grad():\n",
    "            output = torch.argmax(torch.exp(model(X)), dim=1)\n",
    "        y_pred = torch.cat((y_pred, output.view(-1, 1)), dim=0)\n",
    "    \n",
    "    return y_pred[1:].detach().cpu().numpy()"
   ]
  },
  {
   "cell_type": "markdown",
   "id": "f853b92f",
   "metadata": {
    "papermill": {
     "duration": 0.004209,
     "end_time": "2022-06-27T10:25:19.874394",
     "exception": false,
     "start_time": "2022-06-27T10:25:19.870185",
     "status": "completed"
    },
    "tags": []
   },
   "source": [
    "### **Submission**"
   ]
  },
  {
   "cell_type": "code",
   "execution_count": 7,
   "id": "8cf9da57",
   "metadata": {
    "execution": {
     "iopub.execute_input": "2022-06-27T10:25:19.885125Z",
     "iopub.status.busy": "2022-06-27T10:25:19.884265Z",
     "iopub.status.idle": "2022-06-27T10:26:42.529132Z",
     "shell.execute_reply": "2022-06-27T10:26:42.528111Z"
    },
    "papermill": {
     "duration": 82.652874,
     "end_time": "2022-06-27T10:26:42.531756",
     "exception": false,
     "start_time": "2022-06-27T10:25:19.878882",
     "status": "completed"
    },
    "tags": []
   },
   "outputs": [],
   "source": [
    "df = pd.read_csv(\"../input/paddy-disease-classification/train.csv\")\n",
    "ss_df = pd.read_csv(\"../input/paddy-disease-classification/sample_submission.csv\")\n",
    "\n",
    "labels = df.label.copy().values\n",
    "labels = le.fit_transform(labels)\n",
    "\n",
    "ts_data_setup = DS(base_path=\"../input/paddy-disease-classification/test_images\", \n",
    "                   filenames=ss_df.image_id.copy().values,\n",
    "                   size=SIZE,\n",
    "                   transform=TRANSFORM)\n",
    "ts_data = DL(ts_data_setup, batch_size=64, shuffle=False)\n",
    "\n",
    "model = Model().to(DEVICE)\n",
    "\n",
    "y_pred = predict_batch(model=model, \n",
    "                       dataloader=ts_data, \n",
    "                       path=MODEL_PATH,\n",
    "                       device=DEVICE)\n",
    "\n",
    "ss_df[\"label\"] = le.inverse_transform(y_pred.astype(\"uint8\").reshape(-1))\n",
    "ss_df.to_csv(\"submission.csv\", index=False)"
   ]
  }
 ],
 "metadata": {
  "kernelspec": {
   "display_name": "Python 3",
   "language": "python",
   "name": "python3"
  },
  "language_info": {
   "codemirror_mode": {
    "name": "ipython",
    "version": 3
   },
   "file_extension": ".py",
   "mimetype": "text/x-python",
   "name": "python",
   "nbconvert_exporter": "python",
   "pygments_lexer": "ipython3",
   "version": "3.7.12"
  },
  "papermill": {
   "default_parameters": {},
   "duration": 114.814024,
   "end_time": "2022-06-27T10:26:46.088360",
   "environment_variables": {},
   "exception": null,
   "input_path": "__notebook__.ipynb",
   "output_path": "__notebook__.ipynb",
   "parameters": {},
   "start_time": "2022-06-27T10:24:51.274336",
   "version": "2.3.4"
  }
 },
 "nbformat": 4,
 "nbformat_minor": 5
}
