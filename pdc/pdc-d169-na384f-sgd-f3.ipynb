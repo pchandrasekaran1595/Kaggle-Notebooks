{
 "cells": [
  {
   "cell_type": "markdown",
   "id": "c42c7fc7",
   "metadata": {
    "_cell_guid": "b1076dfc-b9ad-4769-8c92-a6c4dae69d19",
    "_uuid": "8f2839f25d086af736a60e9eeb907d3b93b6e0e5",
    "papermill": {
     "duration": 0.005277,
     "end_time": "2022-07-07T09:57:31.016862",
     "exception": false,
     "start_time": "2022-07-07T09:57:31.011585",
     "status": "completed"
    },
    "tags": []
   },
   "source": [
    "### **Library Imports**"
   ]
  },
  {
   "cell_type": "code",
   "execution_count": 1,
   "id": "2cc00860",
   "metadata": {
    "execution": {
     "iopub.execute_input": "2022-07-07T09:57:31.027450Z",
     "iopub.status.busy": "2022-07-07T09:57:31.026594Z",
     "iopub.status.idle": "2022-07-07T09:57:33.944186Z",
     "shell.execute_reply": "2022-07-07T09:57:33.942986Z"
    },
    "papermill": {
     "duration": 2.925951,
     "end_time": "2022-07-07T09:57:33.947060",
     "exception": false,
     "start_time": "2022-07-07T09:57:31.021109",
     "status": "completed"
    },
    "tags": []
   },
   "outputs": [],
   "source": [
    "import os\n",
    "import re\n",
    "import torch\n",
    "import numpy as np\n",
    "import pandas as pd\n",
    "import matplotlib.pyplot as plt\n",
    "\n",
    "from time import time\n",
    "from torch import nn, optim\n",
    "from torch.utils.data import Dataset\n",
    "from torch.utils.data import DataLoader as DL\n",
    "from torchvision import models, transforms\n",
    "\n",
    "from sklearn.model_selection import StratifiedKFold\n",
    "from sklearn.preprocessing import LabelEncoder\n",
    "from sklearn.metrics import accuracy_score"
   ]
  },
  {
   "cell_type": "markdown",
   "id": "c9ddd478",
   "metadata": {
    "papermill": {
     "duration": 0.004336,
     "end_time": "2022-07-07T09:57:33.957216",
     "exception": false,
     "start_time": "2022-07-07T09:57:33.952880",
     "status": "completed"
    },
    "tags": []
   },
   "source": [
    "### **Utilities and Helpers**"
   ]
  },
  {
   "cell_type": "code",
   "execution_count": 2,
   "id": "ddd17393",
   "metadata": {
    "execution": {
     "iopub.execute_input": "2022-07-07T09:57:33.968267Z",
     "iopub.status.busy": "2022-07-07T09:57:33.967541Z",
     "iopub.status.idle": "2022-07-07T09:57:33.983853Z",
     "shell.execute_reply": "2022-07-07T09:57:33.983077Z"
    },
    "papermill": {
     "duration": 0.024152,
     "end_time": "2022-07-07T09:57:33.986090",
     "exception": false,
     "start_time": "2022-07-07T09:57:33.961938",
     "status": "completed"
    },
    "tags": []
   },
   "outputs": [],
   "source": [
    "SEED = 42\n",
    "SIZE = 384\n",
    "le = LabelEncoder()\n",
    "\n",
    "\n",
    "def breaker(num: int=50, char: str=\"*\") -> None:\n",
    "    print(\"\\n\" + num*char + \"\\n\")\n",
    "\n",
    "    \n",
    "def show_loss_graphs(L: list) -> None:\n",
    "    TL, VL = [], []\n",
    "    for i in range(len(L)):\n",
    "        TL.append(L[i][\"train\"])\n",
    "        VL.append(L[i][\"valid\"])\n",
    "    x_Axis = np.arange(1, len(TL) + 1)\n",
    "    plt.figure()\n",
    "    plt.plot(x_Axis, TL, \"r\", label=\"Train\")\n",
    "    plt.plot(x_Axis, VL, \"b\", label=\"Valid\")\n",
    "    plt.legend()\n",
    "    plt.grid()\n",
    "    plt.title(\"Loss Graph\")\n",
    "    plt.show()\n",
    "\n",
    "    \n",
    "def show_accuracy_graphs(A: list) -> None:\n",
    "    TA, VA = [], []\n",
    "    for i in range(len(A)):\n",
    "        TA.append(A[i][\"train\"])\n",
    "        VA.append(A[i][\"valid\"])\n",
    "    x_Axis = np.arange(1, len(TA) + 1)\n",
    "    plt.figure()\n",
    "    plt.plot(x_Axis, TA, \"r\", label=\"Train\")\n",
    "    plt.plot(x_Axis, VA, \"b\", label=\"Valid\")\n",
    "    plt.legend()\n",
    "    plt.grid()\n",
    "    plt.title(\"Accuracy Graph\")\n",
    "    plt.show()\n",
    "\n",
    "\n",
    "def show_lr_graph(LR: list) -> None:\n",
    "    x_Axis = [i+1 for i in range(len(LR))]\n",
    "    plt.figure(figsize=(8, 6))\n",
    "    plt.plot(x_Axis, LR, \"rx\")\n",
    "    plt.grid()\n",
    "    plt.show()"
   ]
  },
  {
   "cell_type": "markdown",
   "id": "7dbe08b1",
   "metadata": {
    "papermill": {
     "duration": 0.004314,
     "end_time": "2022-07-07T09:57:33.995245",
     "exception": false,
     "start_time": "2022-07-07T09:57:33.990931",
     "status": "completed"
    },
    "tags": []
   },
   "source": [
    "### **Configuration**"
   ]
  },
  {
   "cell_type": "code",
   "execution_count": 3,
   "id": "93374782",
   "metadata": {
    "execution": {
     "iopub.execute_input": "2022-07-07T09:57:34.006738Z",
     "iopub.status.busy": "2022-07-07T09:57:34.005944Z",
     "iopub.status.idle": "2022-07-07T09:57:34.078557Z",
     "shell.execute_reply": "2022-07-07T09:57:34.077732Z"
    },
    "papermill": {
     "duration": 0.080046,
     "end_time": "2022-07-07T09:57:34.080518",
     "exception": false,
     "start_time": "2022-07-07T09:57:34.000472",
     "status": "completed"
    },
    "tags": []
   },
   "outputs": [],
   "source": [
    "class CFG(object):\n",
    "    def __init__(self, \n",
    "                 seed: int = 42,\n",
    "                 n_splits: int = 5,\n",
    "                 batch_size: int = 16,\n",
    "                 epochs: int = 25,\n",
    "                 early_stopping: int = 5,\n",
    "                 lr: float = 1e-4,\n",
    "                 wd: float = 0.0,\n",
    "                 max_lr: float = 1e-3,\n",
    "                 pct_start: float = 0.2,\n",
    "                 steps_per_epoch: int = 100,\n",
    "                 div_factor: int = 1e3, \n",
    "                 final_div_factor: float = 1e3,\n",
    "                 ):\n",
    "        \n",
    "        self.seed = seed\n",
    "        self.n_splits = n_splits\n",
    "        self.batch_size = batch_size\n",
    "        self.epochs = epochs\n",
    "        self.early_stopping = early_stopping\n",
    "        self.lr = lr\n",
    "        self.wd = wd\n",
    "        self.max_lr = max_lr\n",
    "        self.pct_start = pct_start\n",
    "        self.steps_per_epoch = steps_per_epoch\n",
    "        self.div_factor = div_factor\n",
    "        self.final_div_factor = final_div_factor\n",
    "        self.device = torch.device(\"cuda\" if torch.cuda.is_available() else \"cpu\")\n",
    "        self.transform = transforms.Compose([transforms.ToTensor(),\n",
    "                                transforms.Normalize([0.49699, 0.58823, 0.23049],\n",
    "                                                     [0.22591, 0.22614, 0.18264]),\n",
    "                                ])\n",
    "        self.save_path = \"saves\"\n",
    "        if not os.path.exists(self.save_path): os.makedirs(self.save_path)\n",
    "    \n",
    "cfg = CFG(seed=SEED)"
   ]
  },
  {
   "cell_type": "markdown",
   "id": "22205a8b",
   "metadata": {
    "papermill": {
     "duration": 0.003958,
     "end_time": "2022-07-07T09:57:34.088756",
     "exception": false,
     "start_time": "2022-07-07T09:57:34.084798",
     "status": "completed"
    },
    "tags": []
   },
   "source": [
    "### **Dataset Template**"
   ]
  },
  {
   "cell_type": "code",
   "execution_count": 4,
   "id": "50cb465f",
   "metadata": {
    "execution": {
     "iopub.execute_input": "2022-07-07T09:57:34.098370Z",
     "iopub.status.busy": "2022-07-07T09:57:34.098058Z",
     "iopub.status.idle": "2022-07-07T09:57:34.105004Z",
     "shell.execute_reply": "2022-07-07T09:57:34.104044Z"
    },
    "papermill": {
     "duration": 0.013757,
     "end_time": "2022-07-07T09:57:34.106972",
     "exception": false,
     "start_time": "2022-07-07T09:57:34.093215",
     "status": "completed"
    },
    "tags": []
   },
   "outputs": [],
   "source": [
    "class DS(Dataset):\n",
    "    def __init__(self, images: np.ndarray, labels: np.ndarray = None, transform=None):\n",
    "        self.images = images\n",
    "        self.labels = labels\n",
    "        self.transform = transform\n",
    "    \n",
    "    def __len__(self):\n",
    "        return self.images.shape[0]\n",
    "    \n",
    "    def __getitem__(self, idx):\n",
    "        if self.labels is not None:\n",
    "            return self.transform(self.images[idx]), torch.LongTensor(self.labels[idx])\n",
    "        else:\n",
    "            return self.transform(self.images[idx])"
   ]
  },
  {
   "cell_type": "markdown",
   "id": "3472b0cf",
   "metadata": {
    "papermill": {
     "duration": 0.004002,
     "end_time": "2022-07-07T09:57:34.115058",
     "exception": false,
     "start_time": "2022-07-07T09:57:34.111056",
     "status": "completed"
    },
    "tags": []
   },
   "source": [
    "### **Model**"
   ]
  },
  {
   "cell_type": "code",
   "execution_count": 5,
   "id": "d4914e48",
   "metadata": {
    "execution": {
     "iopub.execute_input": "2022-07-07T09:57:34.124542Z",
     "iopub.status.busy": "2022-07-07T09:57:34.124060Z",
     "iopub.status.idle": "2022-07-07T09:57:34.131049Z",
     "shell.execute_reply": "2022-07-07T09:57:34.130122Z"
    },
    "papermill": {
     "duration": 0.014078,
     "end_time": "2022-07-07T09:57:34.133210",
     "exception": false,
     "start_time": "2022-07-07T09:57:34.119132",
     "status": "completed"
    },
    "tags": []
   },
   "outputs": [],
   "source": [
    "class Model(nn.Module):\n",
    "    def __init__(self):\n",
    "        super(Model, self).__init__()\n",
    "\n",
    "        self.model = models.densenet169(pretrained=True, progress=True)\n",
    "        # self.freeze()\n",
    "        self.model.classifier = nn.Linear(in_features=self.model.classifier.in_features, out_features=10)\n",
    "    \n",
    "    def freeze(self):\n",
    "        for params in self.parameters(): params.requires_grad = False\n",
    "\n",
    "    def forward(self, x):\n",
    "        return nn.LogSoftmax(dim=1)(self.model(x))"
   ]
  },
  {
   "cell_type": "markdown",
   "id": "efdd2715",
   "metadata": {
    "papermill": {
     "duration": 0.003809,
     "end_time": "2022-07-07T09:57:34.141039",
     "exception": false,
     "start_time": "2022-07-07T09:57:34.137230",
     "status": "completed"
    },
    "tags": []
   },
   "source": [
    "### **Fit and Predict Helpers**"
   ]
  },
  {
   "cell_type": "code",
   "execution_count": 6,
   "id": "b562c9d0",
   "metadata": {
    "execution": {
     "iopub.execute_input": "2022-07-07T09:57:34.150366Z",
     "iopub.status.busy": "2022-07-07T09:57:34.150083Z",
     "iopub.status.idle": "2022-07-07T09:57:34.180705Z",
     "shell.execute_reply": "2022-07-07T09:57:34.179860Z"
    },
    "papermill": {
     "duration": 0.037776,
     "end_time": "2022-07-07T09:57:34.182843",
     "exception": false,
     "start_time": "2022-07-07T09:57:34.145067",
     "status": "completed"
    },
    "tags": []
   },
   "outputs": [],
   "source": [
    "def fit(model=None, \n",
    "        optimizer=None, \n",
    "        scheduler_rlrop=None,\n",
    "        scheduler_oclr=None,\n",
    "        epochs=None, \n",
    "        early_stopping_patience=None, \n",
    "        dataloaders=None, \n",
    "        fold=None, \n",
    "        save_path=None,\n",
    "        device=None,\n",
    "        verbose=False) -> tuple:\n",
    "    \n",
    "    def get_accuracy(y_pred, y_true):\n",
    "        y_pred = torch.argmax(y_pred, dim=1)\n",
    "        return torch.count_nonzero(y_pred == y_true).item() / len(y_pred)\n",
    "    \n",
    "    if verbose:\n",
    "        breaker()\n",
    "        if fold: print(f\"Training Fold {fold}...\")\n",
    "        else: print(\"Training ...\")\n",
    "        breaker()\n",
    "        \n",
    "    bestLoss, bestAccs = {\"train\" : np.inf, \"valid\" : np.inf}, {\"train\" : 0.0, \"valid\" : 0.0}\n",
    "    Losses, Accuracies, LRs = [], [], []\n",
    "    if fold: \n",
    "        ble_name = f\"ble_state_fold_{fold}.pt\"\n",
    "        bae_name = f\"bae_state_fold_{fold}.pt\"\n",
    "    else: \n",
    "        ble_name = \"ble_state.pt\"\n",
    "        bae_name = \"bae_state.pt\"\n",
    "\n",
    "    start_time = time()\n",
    "    for e in range(epochs):\n",
    "        e_st = time()\n",
    "        epochLoss, epochAccs = {\"train\" : 0.0, \"valid\" : 0.0}, {\"train\" : 0.0, \"valid\" : 0.0}\n",
    "\n",
    "        for phase in [\"train\", \"valid\"]:\n",
    "            if phase == \"train\":\n",
    "                model.train()\n",
    "            else:\n",
    "                model.eval()\n",
    "            \n",
    "            lossPerPass, accsPerPass = [], []\n",
    "\n",
    "            for X, y in dataloaders[phase]:\n",
    "                X, y = X.to(device), y.to(device).view(-1)\n",
    "\n",
    "                optimizer.zero_grad()\n",
    "                with torch.set_grad_enabled(phase == \"train\"):\n",
    "                    output = model(X)\n",
    "                    loss = torch.nn.NLLLoss()(output, y)\n",
    "                    if phase == \"train\":\n",
    "                        loss.backward()\n",
    "                        optimizer.step()\n",
    "                        if scheduler_oclr: scheduler_oclr.step()\n",
    "                lossPerPass.append(loss.item())\n",
    "                accsPerPass.append(get_accuracy(output, y))\n",
    "            epochLoss[phase] = np.mean(np.array(lossPerPass))\n",
    "            epochAccs[phase] = np.mean(np.array(accsPerPass))\n",
    "        if scheduler_oclr: LRs.append(scheduler_oclr.get_last_lr())\n",
    "        Losses.append(epochLoss)\n",
    "        Accuracies.append(epochAccs)\n",
    "        \n",
    "        if scheduler_oclr:\n",
    "            save_dict = {\"model_state_dict\"     : model.state_dict(),\n",
    "                         \"optim_state_dict\"     : optimizer.state_dict(),\n",
    "                         \"scheduler_state_dict\" : scheduler_oclr.state_dict()}\n",
    "        \n",
    "        elif scheduler_rlrop:\n",
    "            save_dict = {\"model_state_dict\"     : model.state_dict(),\n",
    "                         \"optim_state_dict\"     : optimizer.state_dict(),\n",
    "                         \"scheduler_state_dict\" : scheduler_rlrop.state_dict()}\n",
    "        \n",
    "        else:\n",
    "            save_dict = {\"model_state_dict\"     : model.state_dict(),\n",
    "                         \"optim_state_dict\"     : optimizer.state_dict()}\n",
    "        \n",
    "        if early_stopping_patience:\n",
    "            if epochLoss[\"valid\"] < bestLoss[\"valid\"]:\n",
    "                bestLoss = epochLoss\n",
    "                BLE = e + 1\n",
    "                torch.save(save_dict, os.path.join(save_path, name))\n",
    "                early_stopping_step = 0\n",
    "            else:\n",
    "                early_stopping_step += 1\n",
    "                if early_stopping_step > early_stopping_patience:\n",
    "                    print(\"\\nEarly Stopping at Epoch {}\".format(e + 1))\n",
    "                    break\n",
    "        \n",
    "        if epochLoss[\"valid\"] < bestLoss[\"valid\"]:\n",
    "            bestLoss = epochLoss\n",
    "            BLE = e + 1\n",
    "            torch.save(save_dict,os.path.join(save_path, ble_name))\n",
    "        \n",
    "        if epochAccs[\"valid\"] > bestAccs[\"valid\"]:\n",
    "            bestAccs = epochAccs\n",
    "            BAE = e + 1\n",
    "            torch.save(save_dict,os.path.join(save_path, bae_name))\n",
    "\n",
    "        \n",
    "        if scheduler_rlrop: scheduler_rlrop.step(epochLoss[\"valid\"])\n",
    "        \n",
    "        if verbose:\n",
    "            print(\"Epoch: {} | Train Loss: {:.5f} | Valid Loss: {:.5f} |\\\n",
    " Train Accs: {:.5f} | Valid Accs: {:.5f} | Time: {:.2f} seconds\".format(e+1, \n",
    "                                                                        epochLoss[\"train\"], epochLoss[\"valid\"], \n",
    "                                                                        epochAccs[\"train\"], epochAccs[\"valid\"], \n",
    "                                                                        time()-e_st))\n",
    "\n",
    "    if verbose:                                           \n",
    "        breaker()\n",
    "        print(f\"Best Validation Loss at Epoch {BLE}\")\n",
    "        breaker()\n",
    "        print(f\"Best Validation Accs at Epoch {BAE}\")\n",
    "        breaker()\n",
    "        print(\"Time Taken [{} Epochs] : {:.2f} minutes\".format(len(Losses), (time()-start_time)/60))\n",
    "    \n",
    "    return Losses, Accuracies, LRs, BLE, BAE, ble_name, bae_name\n",
    "\n",
    "\n",
    "def predict_batch(model=None, dataloader=None, path=None, device=None) -> np.ndarray:\n",
    "    model.load_state_dict(torch.load(path, map_location=device)[\"model_state_dict\"])\n",
    "    model.to(device)    \n",
    "    model.eval()\n",
    "    \n",
    "    y_pred = torch.zeros(1, 1).to(device)\n",
    "    \n",
    "    for X in dataloader:\n",
    "        X = X.to(device)\n",
    "        with torch.no_grad():\n",
    "            output = torch.argmax(torch.exp(model(X)), dim=1)\n",
    "        y_pred = torch.cat((y_pred, output.view(-1, 1)), dim=0)\n",
    "    \n",
    "    return y_pred[1:].detach().cpu().numpy()"
   ]
  },
  {
   "cell_type": "markdown",
   "id": "b014f076",
   "metadata": {
    "papermill": {
     "duration": 0.003769,
     "end_time": "2022-07-07T09:57:34.190538",
     "exception": false,
     "start_time": "2022-07-07T09:57:34.186769",
     "status": "completed"
    },
    "tags": []
   },
   "source": [
    "### **Train**"
   ]
  },
  {
   "cell_type": "code",
   "execution_count": 7,
   "id": "b308c600",
   "metadata": {
    "execution": {
     "iopub.execute_input": "2022-07-07T09:57:34.199645Z",
     "iopub.status.busy": "2022-07-07T09:57:34.199295Z",
     "iopub.status.idle": "2022-07-07T09:58:07.863792Z",
     "shell.execute_reply": "2022-07-07T09:58:07.863008Z"
    },
    "papermill": {
     "duration": 33.671617,
     "end_time": "2022-07-07T09:58:07.866242",
     "exception": false,
     "start_time": "2022-07-07T09:57:34.194625",
     "status": "completed"
    },
    "tags": []
   },
   "outputs": [],
   "source": [
    "images = np.load(f\"../input/pdc-images-{SIZE}/images-{SIZE}.npy\")\n",
    "df = pd.read_csv(\"../input/paddy-disease-classification/train.csv\")\n",
    "labels = df.label.copy().values\n",
    "labels = le.fit_transform(labels)"
   ]
  },
  {
   "cell_type": "code",
   "execution_count": 8,
   "id": "33d130ce",
   "metadata": {
    "execution": {
     "iopub.execute_input": "2022-07-07T09:58:07.876049Z",
     "iopub.status.busy": "2022-07-07T09:58:07.875726Z",
     "iopub.status.idle": "2022-07-07T11:56:49.405907Z",
     "shell.execute_reply": "2022-07-07T11:56:49.404699Z"
    },
    "papermill": {
     "duration": 7121.536937,
     "end_time": "2022-07-07T11:56:49.407619",
     "exception": false,
     "start_time": "2022-07-07T09:58:07.870682",
     "status": "completed"
    },
    "tags": []
   },
   "outputs": [
    {
     "name": "stderr",
     "output_type": "stream",
     "text": [
      "Downloading: \"https://download.pytorch.org/models/densenet169-b2777c0a.pth\" to /root/.cache/torch/hub/checkpoints/densenet169-b2777c0a.pth\n"
     ]
    },
    {
     "data": {
      "application/vnd.jupyter.widget-view+json": {
       "model_id": "94ca5e7b5ca34eb39b16ebce2377a180",
       "version_major": 2,
       "version_minor": 0
      },
      "text/plain": [
       "  0%|          | 0.00/54.7M [00:00<?, ?B/s]"
      ]
     },
     "metadata": {},
     "output_type": "display_data"
    },
    {
     "name": "stdout",
     "output_type": "stream",
     "text": [
      "\n",
      "**************************************************\n",
      "\n",
      "Training ...\n",
      "\n",
      "**************************************************\n",
      "\n",
      "Epoch: 1 | Train Loss: 2.21228 | Valid Loss: 1.95837 | Train Accs: 0.19242 | Valid Accs: 0.35544 | Time: 210.17 seconds\n",
      "Epoch: 2 | Train Loss: 1.62617 | Valid Loss: 1.08425 | Train Accs: 0.48089 | Valid Accs: 0.66651 | Time: 203.87 seconds\n",
      "Epoch: 3 | Train Loss: 0.87694 | Valid Loss: 0.53436 | Train Accs: 0.72289 | Valid Accs: 0.84256 | Time: 203.51 seconds\n",
      "Epoch: 4 | Train Loss: 0.44531 | Valid Loss: 0.33927 | Train Accs: 0.87060 | Valid Accs: 0.89074 | Time: 203.27 seconds\n",
      "Epoch: 5 | Train Loss: 0.23431 | Valid Loss: 0.19305 | Train Accs: 0.93402 | Valid Accs: 0.94466 | Time: 203.54 seconds\n",
      "Epoch: 6 | Train Loss: 0.11915 | Valid Loss: 0.19193 | Train Accs: 0.97053 | Valid Accs: 0.94800 | Time: 202.93 seconds\n",
      "Epoch: 7 | Train Loss: 0.08029 | Valid Loss: 0.16911 | Train Accs: 0.98069 | Valid Accs: 0.95515 | Time: 203.84 seconds\n",
      "Epoch: 8 | Train Loss: 0.04886 | Valid Loss: 0.16332 | Train Accs: 0.98764 | Valid Accs: 0.95754 | Time: 202.49 seconds\n",
      "Epoch: 9 | Train Loss: 0.02598 | Valid Loss: 0.13649 | Train Accs: 0.99532 | Valid Accs: 0.96088 | Time: 203.55 seconds\n",
      "Epoch: 10 | Train Loss: 0.02115 | Valid Loss: 0.14109 | Train Accs: 0.99568 | Valid Accs: 0.96183 | Time: 202.75 seconds\n",
      "Epoch: 11 | Train Loss: 0.01688 | Valid Loss: 0.15103 | Train Accs: 0.99640 | Valid Accs: 0.96326 | Time: 202.43 seconds\n",
      "Epoch: 12 | Train Loss: 0.01595 | Valid Loss: 0.17050 | Train Accs: 0.99700 | Valid Accs: 0.95945 | Time: 202.11 seconds\n",
      "Epoch: 13 | Train Loss: 0.01411 | Valid Loss: 0.13134 | Train Accs: 0.99724 | Valid Accs: 0.96660 | Time: 202.89 seconds\n",
      "Epoch: 14 | Train Loss: 0.01075 | Valid Loss: 0.13698 | Train Accs: 0.99856 | Valid Accs: 0.96851 | Time: 202.36 seconds\n",
      "Epoch: 15 | Train Loss: 0.00674 | Valid Loss: 0.13526 | Train Accs: 0.99892 | Valid Accs: 0.96803 | Time: 201.94 seconds\n",
      "Epoch: 16 | Train Loss: 0.00677 | Valid Loss: 0.13960 | Train Accs: 0.99916 | Valid Accs: 0.96708 | Time: 202.67 seconds\n",
      "Epoch: 17 | Train Loss: 0.00555 | Valid Loss: 0.14076 | Train Accs: 0.99916 | Valid Accs: 0.96660 | Time: 203.09 seconds\n",
      "Epoch: 18 | Train Loss: 0.00589 | Valid Loss: 0.14161 | Train Accs: 0.99892 | Valid Accs: 0.96660 | Time: 204.33 seconds\n",
      "Epoch: 19 | Train Loss: 0.00611 | Valid Loss: 0.14520 | Train Accs: 0.99928 | Valid Accs: 0.96517 | Time: 203.88 seconds\n",
      "Epoch: 20 | Train Loss: 0.00545 | Valid Loss: 0.14433 | Train Accs: 0.99896 | Valid Accs: 0.96517 | Time: 203.40 seconds\n",
      "Epoch: 21 | Train Loss: 0.00787 | Valid Loss: 0.13583 | Train Accs: 0.99844 | Valid Accs: 0.96994 | Time: 204.05 seconds\n",
      "Epoch: 22 | Train Loss: 0.00436 | Valid Loss: 0.15168 | Train Accs: 0.99964 | Valid Accs: 0.96756 | Time: 204.04 seconds\n",
      "Epoch: 23 | Train Loss: 0.00358 | Valid Loss: 0.13818 | Train Accs: 0.99952 | Valid Accs: 0.96947 | Time: 201.53 seconds\n",
      "Epoch: 24 | Train Loss: 0.00333 | Valid Loss: 0.14976 | Train Accs: 0.99956 | Valid Accs: 0.96899 | Time: 204.44 seconds\n",
      "Epoch: 25 | Train Loss: 0.00215 | Valid Loss: 0.15797 | Train Accs: 1.00000 | Valid Accs: 0.96613 | Time: 204.54 seconds\n",
      "Epoch: 26 | Train Loss: 0.00202 | Valid Loss: 0.15662 | Train Accs: 1.00000 | Valid Accs: 0.96947 | Time: 203.90 seconds\n",
      "Epoch: 27 | Train Loss: 0.00321 | Valid Loss: 0.15212 | Train Accs: 0.99952 | Valid Accs: 0.96899 | Time: 203.89 seconds\n",
      "Epoch: 28 | Train Loss: 0.00190 | Valid Loss: 0.15679 | Train Accs: 0.99988 | Valid Accs: 0.96851 | Time: 204.00 seconds\n",
      "Epoch: 29 | Train Loss: 0.00200 | Valid Loss: 0.15304 | Train Accs: 0.99988 | Valid Accs: 0.96899 | Time: 203.86 seconds\n",
      "Epoch: 30 | Train Loss: 0.00200 | Valid Loss: 0.16550 | Train Accs: 0.99964 | Valid Accs: 0.96851 | Time: 204.22 seconds\n",
      "Epoch: 31 | Train Loss: 0.00166 | Valid Loss: 0.15641 | Train Accs: 1.00000 | Valid Accs: 0.96756 | Time: 203.58 seconds\n",
      "Epoch: 32 | Train Loss: 0.00273 | Valid Loss: 0.14957 | Train Accs: 0.99944 | Valid Accs: 0.96756 | Time: 199.51 seconds\n",
      "Epoch: 33 | Train Loss: 0.00209 | Valid Loss: 0.15147 | Train Accs: 1.00000 | Valid Accs: 0.96803 | Time: 199.97 seconds\n",
      "Epoch: 34 | Train Loss: 0.00126 | Valid Loss: 0.15128 | Train Accs: 1.00000 | Valid Accs: 0.96708 | Time: 199.50 seconds\n",
      "Epoch: 35 | Train Loss: 0.00166 | Valid Loss: 0.14974 | Train Accs: 0.99988 | Valid Accs: 0.96994 | Time: 199.46 seconds\n",
      "\n",
      "**************************************************\n",
      "\n",
      "Best Validation Loss at Epoch 13\n",
      "\n",
      "**************************************************\n",
      "\n",
      "Best Validation Accs at Epoch 21\n",
      "\n",
      "**************************************************\n",
      "\n",
      "Time Taken [35 Epochs] : 118.49 minutes\n",
      "\n",
      "**************************************************\n",
      "\n"
     ]
    },
    {
     "data": {
      "image/png": "[encoded data removed]",
      "text/plain": [
       "<Figure size 432x288 with 1 Axes>"
      ]
     },
     "metadata": {
      "needs_background": "light"
     },
     "output_type": "display_data"
    },
    {
     "name": "stdout",
     "output_type": "stream",
     "text": [
      "\n",
      "**************************************************\n",
      "\n"
     ]
    },
    {
     "data": {
      "image/png": "[encoded data removed]",
      "text/plain": [
       "<Figure size 432x288 with 1 Axes>"
      ]
     },
     "metadata": {
      "needs_background": "light"
     },
     "output_type": "display_data"
    },
    {
     "name": "stdout",
     "output_type": "stream",
     "text": [
      "\n",
      "**************************************************\n",
      "\n"
     ]
    },
    {
     "data": {
      "image/png": "[encoded data removed]",
      "text/plain": [
       "<Figure size 576x432 with 1 Axes>"
      ]
     },
     "metadata": {
      "needs_background": "light"
     },
     "output_type": "display_data"
    },
    {
     "name": "stdout",
     "output_type": "stream",
     "text": [
      "\n",
      "**************************************************\n",
      "\n"
     ]
    }
   ],
   "source": [
    "fold = 1\n",
    "\n",
    "for tr_idx, va_idx in StratifiedKFold(n_splits=cfg.n_splits, random_state=cfg.seed, shuffle=True).split(images, labels):\n",
    "    if fold == 3: break\n",
    "    fold += 1\n",
    "\n",
    "tr_images, va_images, tr_labels, va_labels = images[tr_idx], images[va_idx], labels[tr_idx], labels[va_idx]\n",
    "\n",
    "tr_data_setup = DS(tr_images, tr_labels.reshape(-1, 1), cfg.transform)\n",
    "va_data_setup = DS(va_images, va_labels.reshape(-1, 1), cfg.transform)\n",
    "\n",
    "dataloaders = {\n",
    "    \"train\" : DL(tr_data_setup, batch_size=cfg.batch_size, shuffle=True, generator=torch.manual_seed(cfg.seed)),\n",
    "    \"valid\" : DL(va_data_setup, batch_size=cfg.batch_size, shuffle=False),\n",
    "}\n",
    "\n",
    "cfg = CFG(epochs=35, batch_size=64, steps_per_epoch=len(dataloaders[\"train\"]))\n",
    "\n",
    "torch.manual_seed(cfg.seed)\n",
    "model = Model().to(cfg.device)\n",
    "\n",
    "optimizer = optim.SGD([p for p in model.parameters() if p.requires_grad], momentum=0.9, lr=cfg.lr, weight_decay=cfg.wd)\n",
    "\n",
    "scheduler_oclr = optim.lr_scheduler.OneCycleLR(optimizer=optimizer, \n",
    "                                               max_lr=cfg.max_lr, \n",
    "                                               epochs=cfg.epochs, \n",
    "                                               steps_per_epoch=cfg.steps_per_epoch,\n",
    "                                               pct_start=cfg.pct_start, \n",
    "                                               div_factor=cfg.div_factor, \n",
    "                                               final_div_factor=cfg.final_div_factor)\n",
    "# scheduler_rlrop = optim.lr_scheduler.ReduceLROnPlateau(optimizer=optimizer,\n",
    "#                                                       patience=cfg.patience,\n",
    "#                                                       eps=cfg.eps,\n",
    "#                                                       verbose=True)\n",
    "\n",
    "# scheduler_oclr = None\n",
    "scheduler_rlrop = None\n",
    "\n",
    "L, A, LR, BLE, BAE, _, _ = fit(model=model, \n",
    "                               optimizer=optimizer, \n",
    "                               scheduler_oclr=scheduler_oclr,\n",
    "                               scheduler_rlrop=scheduler_rlrop,\n",
    "                               epochs=cfg.epochs, \n",
    "                               early_stopping_patience=None, \n",
    "                               dataloaders=dataloaders, \n",
    "                               device=cfg.device,\n",
    "                               save_path=cfg.save_path,\n",
    "                               fold=None,\n",
    "                               verbose=True)\n",
    "\n",
    "breaker()\n",
    "show_loss_graphs(L)\n",
    "breaker()\n",
    "show_accuracy_graphs(A)\n",
    "breaker()\n",
    "\n",
    "if scheduler_oclr:\n",
    "    show_lr_graph(LR)\n",
    "    breaker()"
   ]
  }
 ],
 "metadata": {
  "kernelspec": {
   "display_name": "Python 3",
   "language": "python",
   "name": "python3"
  },
  "language_info": {
   "codemirror_mode": {
    "name": "ipython",
    "version": 3
   },
   "file_extension": ".py",
   "mimetype": "text/x-python",
   "name": "python",
   "nbconvert_exporter": "python",
   "pygments_lexer": "ipython3",
   "version": "3.7.12"
  },
  "papermill": {
   "default_parameters": {},
   "duration": 7168.317409,
   "end_time": "2022-07-07T11:56:51.149021",
   "environment_variables": {},
   "exception": null,
   "input_path": "__notebook__.ipynb",
   "output_path": "__notebook__.ipynb",
   "parameters": {},
   "start_time": "2022-07-07T09:57:22.831612",
   "version": "2.3.4"
  },
  "widgets": {
   "application/vnd.jupyter.widget-state+json": {
    "state": {
     "125ecab398784948b356ddbc14052fd4": {
      "model_module": "@jupyter-widgets/controls",
      "model_module_version": "1.5.0",
      "model_name": "DescriptionStyleModel",
      "state": {
       "_model_module": "@jupyter-widgets/controls",
       "_model_module_version": "1.5.0",
       "_model_name": "DescriptionStyleModel",
       "_view_count": null,
       "_view_module": "@jupyter-widgets/base",
       "_view_module_version": "1.2.0",
       "_view_name": "StyleView",
       "description_width": ""
      }
     },
     "41534451cc854d818dd50cd74a6696b9": {
      "model_module": "@jupyter-widgets/base",
      "model_module_version": "1.2.0",
      "model_name": "LayoutModel",
      "state": {
       "_model_module": "@jupyter-widgets/base",
       "_model_module_version": "1.2.0",
       "_model_name": "LayoutModel",
       "_view_count": null,
       "_view_module": "@jupyter-widgets/base",
       "_view_module_version": "1.2.0",
       "_view_name": "LayoutView",
       "align_content": null,
       "align_items": null,
       "align_self": null,
       "border": null,
       "bottom": null,
       "display": null,
       "flex": null,
       "flex_flow": null,
       "grid_area": null,
       "grid_auto_columns": null,
       "grid_auto_flow": null,
       "grid_auto_rows": null,
       "grid_column": null,
       "grid_gap": null,
       "grid_row": null,
       "grid_template_areas": null,
       "grid_template_columns": null,
       "grid_template_rows": null,
       "height": null,
       "justify_content": null,
       "justify_items": null,
       "left": null,
       "margin": null,
       "max_height": null,
       "max_width": null,
       "min_height": null,
       "min_width": null,
       "object_fit": null,
       "object_position": null,
       "order": null,
       "overflow": null,
       "overflow_x": null,
       "overflow_y": null,
       "padding": null,
       "right": null,
       "top": null,
       "visibility": null,
       "width": null
      }
     },
     "52e56176531a431f837e0cb3955452d8": {
      "model_module": "@jupyter-widgets/controls",
      "model_module_version": "1.5.0",
      "model_name": "DescriptionStyleModel",
      "state": {
       "_model_module": "@jupyter-widgets/controls",
       "_model_module_version": "1.5.0",
       "_model_name": "DescriptionStyleModel",
       "_view_count": null,
       "_view_module": "@jupyter-widgets/base",
       "_view_module_version": "1.2.0",
       "_view_name": "StyleView",
       "description_width": ""
      }
     },
     "7306db6ec2be498ca3882a391f393f32": {
      "model_module": "@jupyter-widgets/base",
      "model_module_version": "1.2.0",
      "model_name": "LayoutModel",
      "state": {
       "_model_module": "@jupyter-widgets/base",
       "_model_module_version": "1.2.0",
       "_model_name": "LayoutModel",
       "_view_count": null,
       "_view_module": "@jupyter-widgets/base",
       "_view_module_version": "1.2.0",
       "_view_name": "LayoutView",
       "align_content": null,
       "align_items": null,
       "align_self": null,
       "border": null,
       "bottom": null,
       "display": null,
       "flex": null,
       "flex_flow": null,
       "grid_area": null,
       "grid_auto_columns": null,
       "grid_auto_flow": null,
       "grid_auto_rows": null,
       "grid_column": null,
       "grid_gap": null,
       "grid_row": null,
       "grid_template_areas": null,
       "grid_template_columns": null,
       "grid_template_rows": null,
       "height": null,
       "justify_content": null,
       "justify_items": null,
       "left": null,
       "margin": null,
       "max_height": null,
       "max_width": null,
       "min_height": null,
       "min_width": null,
       "object_fit": null,
       "object_position": null,
       "order": null,
       "overflow": null,
       "overflow_x": null,
       "overflow_y": null,
       "padding": null,
       "right": null,
       "top": null,
       "visibility": null,
       "width": null
      }
     },
     "75bdbc3be9f843a3a2bc31b01f63cb8e": {
      "model_module": "@jupyter-widgets/controls",
      "model_module_version": "1.5.0",
      "model_name": "HTMLModel",
      "state": {
       "_dom_classes": [],
       "_model_module": "@jupyter-widgets/controls",
       "_model_module_version": "1.5.0",
       "_model_name": "HTMLModel",
       "_view_count": null,
       "_view_module": "@jupyter-widgets/controls",
       "_view_module_version": "1.5.0",
       "_view_name": "HTMLView",
       "description": "",
       "description_tooltip": null,
       "layout": "IPY_MODEL_d985eb54361849238bc7706ef055994e",
       "placeholder": "​",
       "style": "IPY_MODEL_125ecab398784948b356ddbc14052fd4",
       "value": " 54.7M/54.7M [00:03&lt;00:00, 23.6MB/s]"
      }
     },
     "86580b8d0ba643e9b04b53e0c613d1fb": {
      "model_module": "@jupyter-widgets/controls",
      "model_module_version": "1.5.0",
      "model_name": "HTMLModel",
      "state": {
       "_dom_classes": [],
       "_model_module": "@jupyter-widgets/controls",
       "_model_module_version": "1.5.0",
       "_model_name": "HTMLModel",
       "_view_count": null,
       "_view_module": "@jupyter-widgets/controls",
       "_view_module_version": "1.5.0",
       "_view_name": "HTMLView",
       "description": "",
       "description_tooltip": null,
       "layout": "IPY_MODEL_ef4db8a5e7034c90a8494807177809dd",
       "placeholder": "​",
       "style": "IPY_MODEL_52e56176531a431f837e0cb3955452d8",
       "value": "100%"
      }
     },
     "94ca5e7b5ca34eb39b16ebce2377a180": {
      "model_module": "@jupyter-widgets/controls",
      "model_module_version": "1.5.0",
      "model_name": "HBoxModel",
      "state": {
       "_dom_classes": [],
       "_model_module": "@jupyter-widgets/controls",
       "_model_module_version": "1.5.0",
       "_model_name": "HBoxModel",
       "_view_count": null,
       "_view_module": "@jupyter-widgets/controls",
       "_view_module_version": "1.5.0",
       "_view_name": "HBoxView",
       "box_style": "",
       "children": [
        "IPY_MODEL_86580b8d0ba643e9b04b53e0c613d1fb",
        "IPY_MODEL_ad098fe221f74fb3a66e6c5755c8ed22",
        "IPY_MODEL_75bdbc3be9f843a3a2bc31b01f63cb8e"
       ],
       "layout": "IPY_MODEL_7306db6ec2be498ca3882a391f393f32"
      }
     },
     "a2ca2b52d52040869daf91f7c97346e2": {
      "model_module": "@jupyter-widgets/controls",
      "model_module_version": "1.5.0",
      "model_name": "ProgressStyleModel",
      "state": {
       "_model_module": "@jupyter-widgets/controls",
       "_model_module_version": "1.5.0",
       "_model_name": "ProgressStyleModel",
       "_view_count": null,
       "_view_module": "@jupyter-widgets/base",
       "_view_module_version": "1.2.0",
       "_view_name": "StyleView",
       "bar_color": null,
       "description_width": ""
      }
     },
     "ad098fe221f74fb3a66e6c5755c8ed22": {
      "model_module": "@jupyter-widgets/controls",
      "model_module_version": "1.5.0",
      "model_name": "FloatProgressModel",
      "state": {
       "_dom_classes": [],
       "_model_module": "@jupyter-widgets/controls",
       "_model_module_version": "1.5.0",
       "_model_name": "FloatProgressModel",
       "_view_count": null,
       "_view_module": "@jupyter-widgets/controls",
       "_view_module_version": "1.5.0",
       "_view_name": "ProgressView",
       "bar_style": "success",
       "description": "",
       "description_tooltip": null,
       "layout": "IPY_MODEL_41534451cc854d818dd50cd74a6696b9",
       "max": 57365526.0,
       "min": 0.0,
       "orientation": "horizontal",
       "style": "IPY_MODEL_a2ca2b52d52040869daf91f7c97346e2",
       "value": 57365526.0
      }
     },
     "d985eb54361849238bc7706ef055994e": {
      "model_module": "@jupyter-widgets/base",
      "model_module_version": "1.2.0",
      "model_name": "LayoutModel",
      "state": {
       "_model_module": "@jupyter-widgets/base",
       "_model_module_version": "1.2.0",
       "_model_name": "LayoutModel",
       "_view_count": null,
       "_view_module": "@jupyter-widgets/base",
       "_view_module_version": "1.2.0",
       "_view_name": "LayoutView",
       "align_content": null,
       "align_items": null,
       "align_self": null,
       "border": null,
       "bottom": null,
       "display": null,
       "flex": null,
       "flex_flow": null,
       "grid_area": null,
       "grid_auto_columns": null,
       "grid_auto_flow": null,
       "grid_auto_rows": null,
       "grid_column": null,
       "grid_gap": null,
       "grid_row": null,
       "grid_template_areas": null,
       "grid_template_columns": null,
       "grid_template_rows": null,
       "height": null,
       "justify_content": null,
       "justify_items": null,
       "left": null,
       "margin": null,
       "max_height": null,
       "max_width": null,
       "min_height": null,
       "min_width": null,
       "object_fit": null,
       "object_position": null,
       "order": null,
       "overflow": null,
       "overflow_x": null,
       "overflow_y": null,
       "padding": null,
       "right": null,
       "top": null,
       "visibility": null,
       "width": null
      }
     },
     "ef4db8a5e7034c90a8494807177809dd": {
      "model_module": "@jupyter-widgets/base",
      "model_module_version": "1.2.0",
      "model_name": "LayoutModel",
      "state": {
       "_model_module": "@jupyter-widgets/base",
       "_model_module_version": "1.2.0",
       "_model_name": "LayoutModel",
       "_view_count": null,
       "_view_module": "@jupyter-widgets/base",
       "_view_module_version": "1.2.0",
       "_view_name": "LayoutView",
       "align_content": null,
       "align_items": null,
       "align_self": null,
       "border": null,
       "bottom": null,
       "display": null,
       "flex": null,
       "flex_flow": null,
       "grid_area": null,
       "grid_auto_columns": null,
       "grid_auto_flow": null,
       "grid_auto_rows": null,
       "grid_column": null,
       "grid_gap": null,
       "grid_row": null,
       "grid_template_areas": null,
       "grid_template_columns": null,
       "grid_template_rows": null,
       "height": null,
       "justify_content": null,
       "justify_items": null,
       "left": null,
       "margin": null,
       "max_height": null,
       "max_width": null,
       "min_height": null,
       "min_width": null,
       "object_fit": null,
       "object_position": null,
       "order": null,
       "overflow": null,
       "overflow_x": null,
       "overflow_y": null,
       "padding": null,
       "right": null,
       "top": null,
       "visibility": null,
       "width": null
      }
     }
    },
    "version_major": 2,
    "version_minor": 0
   }
  }
 },
 "nbformat": 4,
 "nbformat_minor": 5
}
