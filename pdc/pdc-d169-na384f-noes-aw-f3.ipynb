{
 "cells": [
  {
   "cell_type": "markdown",
   "id": "ed865900",
   "metadata": {
    "_cell_guid": "b1076dfc-b9ad-4769-8c92-a6c4dae69d19",
    "_uuid": "8f2839f25d086af736a60e9eeb907d3b93b6e0e5",
    "papermill": {
     "duration": 0.008634,
     "end_time": "2022-06-19T10:39:22.184828",
     "exception": false,
     "start_time": "2022-06-19T10:39:22.176194",
     "status": "completed"
    },
    "tags": []
   },
   "source": [
    "### **Library Imports**"
   ]
  },
  {
   "cell_type": "code",
   "execution_count": 1,
   "id": "ed7986a1",
   "metadata": {
    "execution": {
     "iopub.execute_input": "2022-06-19T10:39:22.201345Z",
     "iopub.status.busy": "2022-06-19T10:39:22.200861Z",
     "iopub.status.idle": "2022-06-19T10:39:24.988921Z",
     "shell.execute_reply": "2022-06-19T10:39:24.988098Z"
    },
    "papermill": {
     "duration": 2.800493,
     "end_time": "2022-06-19T10:39:24.991390",
     "exception": false,
     "start_time": "2022-06-19T10:39:22.190897",
     "status": "completed"
    },
    "tags": []
   },
   "outputs": [],
   "source": [
    "import os\n",
    "import re\n",
    "import torch\n",
    "import numpy as np\n",
    "import pandas as pd\n",
    "import matplotlib.pyplot as plt\n",
    "\n",
    "from time import time\n",
    "from torch import nn, optim\n",
    "from torch.utils.data import Dataset\n",
    "from torch.utils.data import DataLoader as DL\n",
    "from torchvision import models, transforms\n",
    "\n",
    "from sklearn.model_selection import StratifiedKFold\n",
    "from sklearn.preprocessing import LabelEncoder\n",
    "from sklearn.metrics import accuracy_score"
   ]
  },
  {
   "cell_type": "markdown",
   "id": "005090f7",
   "metadata": {
    "papermill": {
     "duration": 0.003631,
     "end_time": "2022-06-19T10:39:24.999674",
     "exception": false,
     "start_time": "2022-06-19T10:39:24.996043",
     "status": "completed"
    },
    "tags": []
   },
   "source": [
    "### **Utilities and Helpers**"
   ]
  },
  {
   "cell_type": "code",
   "execution_count": 2,
   "id": "3ef34ef1",
   "metadata": {
    "execution": {
     "iopub.execute_input": "2022-06-19T10:39:25.008544Z",
     "iopub.status.busy": "2022-06-19T10:39:25.008117Z",
     "iopub.status.idle": "2022-06-19T10:39:25.019944Z",
     "shell.execute_reply": "2022-06-19T10:39:25.019183Z"
    },
    "papermill": {
     "duration": 0.01826,
     "end_time": "2022-06-19T10:39:25.021589",
     "exception": false,
     "start_time": "2022-06-19T10:39:25.003329",
     "status": "completed"
    },
    "tags": []
   },
   "outputs": [],
   "source": [
    "SEED = 42\n",
    "SIZE = 384\n",
    "le = LabelEncoder()\n",
    "\n",
    "\n",
    "def breaker(num: int=50, char: str=\"*\") -> None:\n",
    "    print(\"\\n\" + num*char + \"\\n\")\n",
    "\n",
    "    \n",
    "def show_loss_graphs(L: list) -> None:\n",
    "    TL, VL = [], []\n",
    "    for i in range(len(L)):\n",
    "        TL.append(L[i][\"train\"])\n",
    "        VL.append(L[i][\"valid\"])\n",
    "    x_Axis = np.arange(1, len(TL) + 1)\n",
    "    plt.figure()\n",
    "    plt.plot(x_Axis, TL, \"r\", label=\"Train\")\n",
    "    plt.plot(x_Axis, VL, \"b\", label=\"Valid\")\n",
    "    plt.legend()\n",
    "    plt.grid()\n",
    "    plt.title(\"Loss Graph\")\n",
    "    plt.show()\n",
    "\n",
    "    \n",
    "def show_accuracy_graphs(A: list) -> None:\n",
    "    TA, VA = [], []\n",
    "    for i in range(len(A)):\n",
    "        TA.append(A[i][\"train\"])\n",
    "        VA.append(A[i][\"valid\"])\n",
    "    x_Axis = np.arange(1, len(TA) + 1)\n",
    "    plt.figure()\n",
    "    plt.plot(x_Axis, TA, \"r\", label=\"Train\")\n",
    "    plt.plot(x_Axis, VA, \"b\", label=\"Valid\")\n",
    "    plt.legend()\n",
    "    plt.grid()\n",
    "    plt.title(\"Accuracy Graph\")\n",
    "    plt.show()\n",
    "\n",
    "\n",
    "def show_lr_graph(LR: list) -> None:\n",
    "    x_Axis = [i+1 for i in range(len(LR))]\n",
    "    plt.figure(figsize=(8, 6))\n",
    "    plt.plot(x_Axis, LR, \"rx\")\n",
    "    plt.grid()\n",
    "    plt.show()"
   ]
  },
  {
   "cell_type": "markdown",
   "id": "d6b50e7c",
   "metadata": {
    "papermill": {
     "duration": 0.003487,
     "end_time": "2022-06-19T10:39:25.028910",
     "exception": false,
     "start_time": "2022-06-19T10:39:25.025423",
     "status": "completed"
    },
    "tags": []
   },
   "source": [
    "### **Configuration**"
   ]
  },
  {
   "cell_type": "code",
   "execution_count": 3,
   "id": "4bc24374",
   "metadata": {
    "execution": {
     "iopub.execute_input": "2022-06-19T10:39:25.037885Z",
     "iopub.status.busy": "2022-06-19T10:39:25.037538Z",
     "iopub.status.idle": "2022-06-19T10:39:25.101748Z",
     "shell.execute_reply": "2022-06-19T10:39:25.100851Z"
    },
    "papermill": {
     "duration": 0.070749,
     "end_time": "2022-06-19T10:39:25.103632",
     "exception": false,
     "start_time": "2022-06-19T10:39:25.032883",
     "status": "completed"
    },
    "tags": []
   },
   "outputs": [],
   "source": [
    "class CFG(object):\n",
    "    def __init__(self, \n",
    "                 seed: int = 42,\n",
    "                 n_splits: int = 5,\n",
    "                 batch_size: int = 16,\n",
    "                 epochs: int = 25,\n",
    "                 early_stopping: int = 5,\n",
    "                 lr: float = 1e-4,\n",
    "                 wd: float = 0.0,\n",
    "                 max_lr: float = 1e-3,\n",
    "                 pct_start: float = 0.2,\n",
    "                 steps_per_epoch: int = 100,\n",
    "                 div_factor: int = 1e3, \n",
    "                 final_div_factor: float = 1e3,\n",
    "                 ):\n",
    "        \n",
    "        self.seed = seed\n",
    "        self.n_splits = n_splits\n",
    "        self.batch_size = batch_size\n",
    "        self.epochs = epochs\n",
    "        self.early_stopping = early_stopping\n",
    "        self.lr = lr\n",
    "        self.wd = wd\n",
    "        self.max_lr = max_lr\n",
    "        self.pct_start = pct_start\n",
    "        self.steps_per_epoch = steps_per_epoch\n",
    "        self.div_factor = div_factor\n",
    "        self.final_div_factor = final_div_factor\n",
    "        self.device = torch.device(\"cuda\" if torch.cuda.is_available() else \"cpu\")\n",
    "        self.transform = transforms.Compose([transforms.ToTensor(),\n",
    "                                transforms.Normalize([0.49699, 0.58823, 0.23049],\n",
    "                                                     [0.22591, 0.22614, 0.18264]),\n",
    "                                ])\n",
    "        self.save_path = \"saves\"\n",
    "        if not os.path.exists(self.save_path): os.makedirs(self.save_path)\n",
    "    \n",
    "cfg = CFG(seed=SEED)"
   ]
  },
  {
   "cell_type": "markdown",
   "id": "d482c89a",
   "metadata": {
    "papermill": {
     "duration": 0.003511,
     "end_time": "2022-06-19T10:39:25.111017",
     "exception": false,
     "start_time": "2022-06-19T10:39:25.107506",
     "status": "completed"
    },
    "tags": []
   },
   "source": [
    "### **Dataset Template**"
   ]
  },
  {
   "cell_type": "code",
   "execution_count": 4,
   "id": "e89f26cd",
   "metadata": {
    "execution": {
     "iopub.execute_input": "2022-06-19T10:39:25.119492Z",
     "iopub.status.busy": "2022-06-19T10:39:25.119229Z",
     "iopub.status.idle": "2022-06-19T10:39:25.125472Z",
     "shell.execute_reply": "2022-06-19T10:39:25.124566Z"
    },
    "papermill": {
     "duration": 0.012688,
     "end_time": "2022-06-19T10:39:25.127335",
     "exception": false,
     "start_time": "2022-06-19T10:39:25.114647",
     "status": "completed"
    },
    "tags": []
   },
   "outputs": [],
   "source": [
    "class DS(Dataset):\n",
    "    def __init__(self, images: np.ndarray, labels: np.ndarray = None, transform=None):\n",
    "        self.images = images\n",
    "        self.labels = labels\n",
    "        self.transform = transform\n",
    "    \n",
    "    def __len__(self):\n",
    "        return self.images.shape[0]\n",
    "    \n",
    "    def __getitem__(self, idx):\n",
    "        if self.labels is not None:\n",
    "            return self.transform(self.images[idx]), torch.LongTensor(self.labels[idx])\n",
    "        else:\n",
    "            return self.transform(self.images[idx])"
   ]
  },
  {
   "cell_type": "markdown",
   "id": "244eb24b",
   "metadata": {
    "papermill": {
     "duration": 0.00339,
     "end_time": "2022-06-19T10:39:25.134346",
     "exception": false,
     "start_time": "2022-06-19T10:39:25.130956",
     "status": "completed"
    },
    "tags": []
   },
   "source": [
    "### **Model**"
   ]
  },
  {
   "cell_type": "code",
   "execution_count": 5,
   "id": "3f027b91",
   "metadata": {
    "execution": {
     "iopub.execute_input": "2022-06-19T10:39:25.143106Z",
     "iopub.status.busy": "2022-06-19T10:39:25.142616Z",
     "iopub.status.idle": "2022-06-19T10:39:25.149008Z",
     "shell.execute_reply": "2022-06-19T10:39:25.148212Z"
    },
    "papermill": {
     "duration": 0.012729,
     "end_time": "2022-06-19T10:39:25.150798",
     "exception": false,
     "start_time": "2022-06-19T10:39:25.138069",
     "status": "completed"
    },
    "tags": []
   },
   "outputs": [],
   "source": [
    "class Model(nn.Module):\n",
    "    def __init__(self):\n",
    "        super(Model, self).__init__()\n",
    "\n",
    "        self.model = models.densenet169(pretrained=True, progress=True)\n",
    "        # self.freeze()\n",
    "        self.model.classifier = nn.Linear(in_features=self.model.classifier.in_features, out_features=10)\n",
    "    \n",
    "    def freeze(self):\n",
    "        for params in self.parameters(): params.requires_grad = False\n",
    "\n",
    "    def forward(self, x):\n",
    "        return nn.LogSoftmax(dim=1)(self.model(x))"
   ]
  },
  {
   "cell_type": "markdown",
   "id": "e5550d72",
   "metadata": {
    "papermill": {
     "duration": 0.00364,
     "end_time": "2022-06-19T10:39:25.158401",
     "exception": false,
     "start_time": "2022-06-19T10:39:25.154761",
     "status": "completed"
    },
    "tags": []
   },
   "source": [
    "### **Fit and Predict Helpers**"
   ]
  },
  {
   "cell_type": "code",
   "execution_count": 6,
   "id": "7d1e3659",
   "metadata": {
    "execution": {
     "iopub.execute_input": "2022-06-19T10:39:25.167124Z",
     "iopub.status.busy": "2022-06-19T10:39:25.166872Z",
     "iopub.status.idle": "2022-06-19T10:39:25.192986Z",
     "shell.execute_reply": "2022-06-19T10:39:25.192349Z"
    },
    "papermill": {
     "duration": 0.032471,
     "end_time": "2022-06-19T10:39:25.194568",
     "exception": false,
     "start_time": "2022-06-19T10:39:25.162097",
     "status": "completed"
    },
    "tags": []
   },
   "outputs": [],
   "source": [
    "def fit(model=None, \n",
    "        optimizer=None, \n",
    "        scheduler_rlrop=None,\n",
    "        scheduler_oclr=None,\n",
    "        epochs=None, \n",
    "        early_stopping_patience=None, \n",
    "        dataloaders=None, \n",
    "        fold=None, \n",
    "        save_path=None,\n",
    "        device=None,\n",
    "        verbose=False) -> tuple:\n",
    "    \n",
    "    def get_accuracy(y_pred, y_true):\n",
    "        y_pred = torch.argmax(y_pred, dim=1)\n",
    "        return torch.count_nonzero(y_pred == y_true).item() / len(y_pred)\n",
    "    \n",
    "    if verbose:\n",
    "        breaker()\n",
    "        if fold: print(f\"Training Fold {fold}...\")\n",
    "        else: print(\"Training ...\")\n",
    "        breaker()\n",
    "        \n",
    "    bestLoss, bestAccs = {\"train\" : np.inf, \"valid\" : np.inf}, {\"train\" : 0.0, \"valid\" : 0.0}\n",
    "    Losses, Accuracies, LRs = [], [], []\n",
    "    if fold: \n",
    "        ble_name = f\"ble_state_fold_{fold}.pt\"\n",
    "        bae_name = f\"bae_state_fold_{fold}.pt\"\n",
    "    else: \n",
    "        ble_name = \"ble_state.pt\"\n",
    "        bae_name = \"bae_state.pt\"\n",
    "\n",
    "    start_time = time()\n",
    "    for e in range(epochs):\n",
    "        e_st = time()\n",
    "        epochLoss, epochAccs = {\"train\" : 0.0, \"valid\" : 0.0}, {\"train\" : 0.0, \"valid\" : 0.0}\n",
    "\n",
    "        for phase in [\"train\", \"valid\"]:\n",
    "            if phase == \"train\":\n",
    "                model.train()\n",
    "            else:\n",
    "                model.eval()\n",
    "            \n",
    "            lossPerPass, accsPerPass = [], []\n",
    "\n",
    "            for X, y in dataloaders[phase]:\n",
    "                X, y = X.to(device), y.to(device).view(-1)\n",
    "\n",
    "                optimizer.zero_grad()\n",
    "                with torch.set_grad_enabled(phase == \"train\"):\n",
    "                    output = model(X)\n",
    "                    loss = torch.nn.NLLLoss()(output, y)\n",
    "                    if phase == \"train\":\n",
    "                        loss.backward()\n",
    "                        optimizer.step()\n",
    "                        if scheduler_oclr: scheduler_oclr.step()\n",
    "                lossPerPass.append(loss.item())\n",
    "                accsPerPass.append(get_accuracy(output, y))\n",
    "            epochLoss[phase] = np.mean(np.array(lossPerPass))\n",
    "            epochAccs[phase] = np.mean(np.array(accsPerPass))\n",
    "        if scheduler_oclr: LRs.append(scheduler_oclr.get_last_lr())\n",
    "        Losses.append(epochLoss)\n",
    "        Accuracies.append(epochAccs)\n",
    "        \n",
    "        if scheduler_oclr:\n",
    "            save_dict = {\"model_state_dict\"     : model.state_dict(),\n",
    "                         \"optim_state_dict\"     : optimizer.state_dict(),\n",
    "                         \"scheduler_state_dict\" : scheduler_oclr.state_dict()}\n",
    "        \n",
    "        elif scheduler_rlrop:\n",
    "            save_dict = {\"model_state_dict\"     : model.state_dict(),\n",
    "                         \"optim_state_dict\"     : optimizer.state_dict(),\n",
    "                         \"scheduler_state_dict\" : scheduler_rlrop.state_dict()}\n",
    "        \n",
    "        else:\n",
    "            save_dict = {\"model_state_dict\"     : model.state_dict(),\n",
    "                         \"optim_state_dict\"     : optimizer.state_dict()}\n",
    "        \n",
    "        if early_stopping_patience:\n",
    "            if epochLoss[\"valid\"] < bestLoss[\"valid\"]:\n",
    "                bestLoss = epochLoss\n",
    "                BLE = e + 1\n",
    "                torch.save(save_dict, os.path.join(save_path, name))\n",
    "                early_stopping_step = 0\n",
    "            else:\n",
    "                early_stopping_step += 1\n",
    "                if early_stopping_step > early_stopping_patience:\n",
    "                    print(\"\\nEarly Stopping at Epoch {}\".format(e + 1))\n",
    "                    break\n",
    "        \n",
    "        if epochLoss[\"valid\"] < bestLoss[\"valid\"]:\n",
    "            bestLoss = epochLoss\n",
    "            BLE = e + 1\n",
    "            torch.save(save_dict,os.path.join(save_path, ble_name))\n",
    "        \n",
    "        if epochAccs[\"valid\"] > bestAccs[\"valid\"]:\n",
    "            bestAccs = epochAccs\n",
    "            BAE = e + 1\n",
    "            torch.save(save_dict,os.path.join(save_path, bae_name))\n",
    "\n",
    "        \n",
    "        if scheduler_rlrop: scheduler_rlrop.step(epochLoss[\"valid\"])\n",
    "        \n",
    "        if verbose:\n",
    "            print(\"Epoch: {} | Train Loss: {:.5f} | Valid Loss: {:.5f} |\\\n",
    " Train Accs: {:.5f} | Valid Accs: {:.5f} | Time: {:.2f} seconds\".format(e+1, \n",
    "                                                                        epochLoss[\"train\"], epochLoss[\"valid\"], \n",
    "                                                                        epochAccs[\"train\"], epochAccs[\"valid\"], \n",
    "                                                                        time()-e_st))\n",
    "\n",
    "    if verbose:                                           \n",
    "        breaker()\n",
    "        print(f\"Best Validation Loss at Epoch {BLE}\")\n",
    "        breaker()\n",
    "        print(f\"Best Validation Accs at Epoch {BAE}\")\n",
    "        breaker()\n",
    "        print(\"Time Taken [{} Epochs] : {:.2f} minutes\".format(len(Losses), (time()-start_time)/60))\n",
    "    \n",
    "    return Losses, Accuracies, LRs, BLE, BAE, ble_name, bae_name\n",
    "\n",
    "\n",
    "def predict_batch(model=None, dataloader=None, path=None, device=None) -> np.ndarray:\n",
    "    model.load_state_dict(torch.load(path, map_location=device)[\"model_state_dict\"])\n",
    "    model.to(device)    \n",
    "    model.eval()\n",
    "    \n",
    "    y_pred = torch.zeros(1, 1).to(device)\n",
    "    \n",
    "    for X in dataloader:\n",
    "        X = X.to(device)\n",
    "        with torch.no_grad():\n",
    "            output = torch.argmax(torch.exp(model(X)), dim=1)\n",
    "        y_pred = torch.cat((y_pred, output.view(-1, 1)), dim=0)\n",
    "    \n",
    "    return y_pred[1:].detach().cpu().numpy()"
   ]
  },
  {
   "cell_type": "markdown",
   "id": "bca94071",
   "metadata": {
    "papermill": {
     "duration": 0.003435,
     "end_time": "2022-06-19T10:39:25.201967",
     "exception": false,
     "start_time": "2022-06-19T10:39:25.198532",
     "status": "completed"
    },
    "tags": []
   },
   "source": [
    "### **Train**"
   ]
  },
  {
   "cell_type": "code",
   "execution_count": 7,
   "id": "80986c95",
   "metadata": {
    "execution": {
     "iopub.execute_input": "2022-06-19T10:39:25.210668Z",
     "iopub.status.busy": "2022-06-19T10:39:25.210431Z",
     "iopub.status.idle": "2022-06-19T10:40:02.466777Z",
     "shell.execute_reply": "2022-06-19T10:40:02.466003Z"
    },
    "papermill": {
     "duration": 37.263393,
     "end_time": "2022-06-19T10:40:02.469450",
     "exception": false,
     "start_time": "2022-06-19T10:39:25.206057",
     "status": "completed"
    },
    "tags": []
   },
   "outputs": [],
   "source": [
    "images = np.load(f\"../input/pdc-images-{SIZE}/images-{SIZE}.npy\")\n",
    "df = pd.read_csv(\"../input/paddy-disease-classification/train.csv\")\n",
    "labels = df.label.copy().values\n",
    "labels = le.fit_transform(labels)"
   ]
  },
  {
   "cell_type": "code",
   "execution_count": 8,
   "id": "2fb26c18",
   "metadata": {
    "execution": {
     "iopub.execute_input": "2022-06-19T10:40:02.478395Z",
     "iopub.status.busy": "2022-06-19T10:40:02.478087Z",
     "iopub.status.idle": "2022-06-19T12:48:54.276159Z",
     "shell.execute_reply": "2022-06-19T12:48:54.274831Z"
    },
    "papermill": {
     "duration": 7731.804712,
     "end_time": "2022-06-19T12:48:54.278210",
     "exception": false,
     "start_time": "2022-06-19T10:40:02.473498",
     "status": "completed"
    },
    "tags": []
   },
   "outputs": [
    {
     "name": "stderr",
     "output_type": "stream",
     "text": [
      "Downloading: \"https://download.pytorch.org/models/densenet169-b2777c0a.pth\" to /root/.cache/torch/hub/checkpoints/densenet169-b2777c0a.pth\n"
     ]
    },
    {
     "data": {
      "application/vnd.jupyter.widget-view+json": {
       "model_id": "28c2e9dcf1704a9b8af6f520f117cfda",
       "version_major": 2,
       "version_minor": 0
      },
      "text/plain": [
       "  0%|          | 0.00/54.7M [00:00<?, ?B/s]"
      ]
     },
     "metadata": {},
     "output_type": "display_data"
    },
    {
     "name": "stdout",
     "output_type": "stream",
     "text": [
      "\n",
      "**************************************************\n",
      "\n",
      "Training ...\n",
      "\n",
      "**************************************************\n",
      "\n",
      "Epoch: 1 | Train Loss: 1.79531 | Valid Loss: 0.74268 | Train Accs: 0.38420 | Valid Accs: 0.76336 | Time: 226.87 seconds\n",
      "Epoch: 2 | Train Loss: 0.56081 | Valid Loss: 0.28927 | Train Accs: 0.83313 | Valid Accs: 0.91269 | Time: 221.02 seconds\n",
      "Epoch: 3 | Train Loss: 0.41630 | Valid Loss: 0.30217 | Train Accs: 0.87540 | Valid Accs: 0.90840 | Time: 218.68 seconds\n",
      "Epoch: 4 | Train Loss: 0.39058 | Valid Loss: 0.59434 | Train Accs: 0.87956 | Valid Accs: 0.80582 | Time: 219.46 seconds\n",
      "Epoch: 5 | Train Loss: 0.42515 | Valid Loss: 0.61473 | Train Accs: 0.86220 | Valid Accs: 0.79914 | Time: 218.92 seconds\n",
      "Epoch: 6 | Train Loss: 0.38948 | Valid Loss: 0.41611 | Train Accs: 0.87532 | Valid Accs: 0.85973 | Time: 219.12 seconds\n",
      "Epoch: 7 | Train Loss: 0.33417 | Valid Loss: 0.37079 | Train Accs: 0.89591 | Valid Accs: 0.88406 | Time: 217.15 seconds\n",
      "Epoch: 8 | Train Loss: 0.25274 | Valid Loss: 0.21991 | Train Accs: 0.91855 | Valid Accs: 0.92271 | Time: 221.29 seconds\n",
      "Epoch: 9 | Train Loss: 0.21501 | Valid Loss: 0.39884 | Train Accs: 0.92970 | Valid Accs: 0.88550 | Time: 219.95 seconds\n",
      "Epoch: 10 | Train Loss: 0.20264 | Valid Loss: 0.26583 | Train Accs: 0.93930 | Valid Accs: 0.91746 | Time: 219.31 seconds\n",
      "Epoch: 11 | Train Loss: 0.15259 | Valid Loss: 0.37910 | Train Accs: 0.95242 | Valid Accs: 0.89599 | Time: 216.07 seconds\n",
      "Epoch: 12 | Train Loss: 0.16323 | Valid Loss: 0.54103 | Train Accs: 0.95094 | Valid Accs: 0.85496 | Time: 219.27 seconds\n",
      "Epoch: 13 | Train Loss: 0.14196 | Valid Loss: 0.18564 | Train Accs: 0.95681 | Valid Accs: 0.95181 | Time: 220.56 seconds\n",
      "Epoch: 14 | Train Loss: 0.12449 | Valid Loss: 0.22391 | Train Accs: 0.96125 | Valid Accs: 0.93702 | Time: 219.19 seconds\n",
      "Epoch: 15 | Train Loss: 0.06362 | Valid Loss: 0.24880 | Train Accs: 0.98153 | Valid Accs: 0.93607 | Time: 220.45 seconds\n",
      "Epoch: 16 | Train Loss: 0.06664 | Valid Loss: 0.16872 | Train Accs: 0.97997 | Valid Accs: 0.95706 | Time: 221.27 seconds\n",
      "Epoch: 17 | Train Loss: 0.07960 | Valid Loss: 0.19254 | Train Accs: 0.97397 | Valid Accs: 0.95181 | Time: 220.05 seconds\n",
      "Epoch: 18 | Train Loss: 0.08022 | Valid Loss: 0.15942 | Train Accs: 0.97241 | Valid Accs: 0.95324 | Time: 221.59 seconds\n",
      "Epoch: 19 | Train Loss: 0.03628 | Valid Loss: 0.16523 | Train Accs: 0.98860 | Valid Accs: 0.96469 | Time: 221.52 seconds\n",
      "Epoch: 20 | Train Loss: 0.04014 | Valid Loss: 0.21191 | Train Accs: 0.98704 | Valid Accs: 0.95372 | Time: 220.42 seconds\n",
      "Epoch: 21 | Train Loss: 0.03434 | Valid Loss: 0.16547 | Train Accs: 0.98956 | Valid Accs: 0.96326 | Time: 220.53 seconds\n",
      "Epoch: 22 | Train Loss: 0.03190 | Valid Loss: 0.12952 | Train Accs: 0.99088 | Valid Accs: 0.96279 | Time: 221.62 seconds\n",
      "Epoch: 23 | Train Loss: 0.02223 | Valid Loss: 0.12961 | Train Accs: 0.99340 | Valid Accs: 0.97042 | Time: 221.85 seconds\n",
      "Epoch: 24 | Train Loss: 0.00822 | Valid Loss: 0.13039 | Train Accs: 0.99724 | Valid Accs: 0.96422 | Time: 220.52 seconds\n",
      "Epoch: 25 | Train Loss: 0.00379 | Valid Loss: 0.12573 | Train Accs: 0.99916 | Valid Accs: 0.96994 | Time: 221.70 seconds\n",
      "Epoch: 26 | Train Loss: 0.00431 | Valid Loss: 0.11401 | Train Accs: 0.99868 | Valid Accs: 0.96565 | Time: 221.24 seconds\n",
      "Epoch: 27 | Train Loss: 0.00390 | Valid Loss: 0.13224 | Train Accs: 0.99880 | Valid Accs: 0.96422 | Time: 221.10 seconds\n",
      "Epoch: 28 | Train Loss: 0.00186 | Valid Loss: 0.12082 | Train Accs: 0.99940 | Valid Accs: 0.96994 | Time: 221.07 seconds\n",
      "Epoch: 29 | Train Loss: 0.00094 | Valid Loss: 0.13079 | Train Accs: 0.99988 | Valid Accs: 0.96994 | Time: 220.64 seconds\n",
      "Epoch: 30 | Train Loss: 0.00076 | Valid Loss: 0.12687 | Train Accs: 0.99988 | Valid Accs: 0.97233 | Time: 222.42 seconds\n",
      "Epoch: 31 | Train Loss: 0.00048 | Valid Loss: 0.12391 | Train Accs: 1.00000 | Valid Accs: 0.97281 | Time: 221.49 seconds\n",
      "Epoch: 32 | Train Loss: 0.00067 | Valid Loss: 0.11264 | Train Accs: 1.00000 | Valid Accs: 0.97281 | Time: 221.35 seconds\n",
      "Epoch: 33 | Train Loss: 0.00032 | Valid Loss: 0.11962 | Train Accs: 1.00000 | Valid Accs: 0.97090 | Time: 220.66 seconds\n",
      "Epoch: 34 | Train Loss: 0.00021 | Valid Loss: 0.11852 | Train Accs: 1.00000 | Valid Accs: 0.97137 | Time: 220.70 seconds\n",
      "Epoch: 35 | Train Loss: 0.00040 | Valid Loss: 0.12436 | Train Accs: 1.00000 | Valid Accs: 0.97137 | Time: 221.00 seconds\n",
      "\n",
      "**************************************************\n",
      "\n",
      "Best Validation Loss at Epoch 32\n",
      "\n",
      "**************************************************\n",
      "\n",
      "Best Validation Accs at Epoch 31\n",
      "\n",
      "**************************************************\n",
      "\n",
      "Time Taken [35 Epochs] : 128.67 minutes\n",
      "\n",
      "**************************************************\n",
      "\n"
     ]
    },
    {
     "data": {
      "image/png": "[encoded data removed]",
      "text/plain": [
       "<Figure size 432x288 with 1 Axes>"
      ]
     },
     "metadata": {
      "needs_background": "light"
     },
     "output_type": "display_data"
    },
    {
     "name": "stdout",
     "output_type": "stream",
     "text": [
      "\n",
      "**************************************************\n",
      "\n"
     ]
    },
    {
     "data": {
      "image/png": "[encoded data removed]",
      "text/plain": [
       "<Figure size 432x288 with 1 Axes>"
      ]
     },
     "metadata": {
      "needs_background": "light"
     },
     "output_type": "display_data"
    },
    {
     "name": "stdout",
     "output_type": "stream",
     "text": [
      "\n",
      "**************************************************\n",
      "\n"
     ]
    },
    {
     "data": {
      "image/png": "[encoded data removed]",
      "text/plain": [
       "<Figure size 576x432 with 1 Axes>"
      ]
     },
     "metadata": {
      "needs_background": "light"
     },
     "output_type": "display_data"
    },
    {
     "name": "stdout",
     "output_type": "stream",
     "text": [
      "\n",
      "**************************************************\n",
      "\n"
     ]
    }
   ],
   "source": [
    "fold = 1\n",
    "\n",
    "for tr_idx, va_idx in StratifiedKFold(n_splits=cfg.n_splits, random_state=cfg.seed, shuffle=True).split(images, labels):\n",
    "    if fold == 3: break\n",
    "    fold += 1\n",
    "\n",
    "tr_images, va_images, tr_labels, va_labels = images[tr_idx], images[va_idx], labels[tr_idx], labels[va_idx]\n",
    "\n",
    "tr_data_setup = DS(tr_images, tr_labels.reshape(-1, 1), cfg.transform)\n",
    "va_data_setup = DS(va_images, va_labels.reshape(-1, 1), cfg.transform)\n",
    "\n",
    "dataloaders = {\n",
    "    \"train\" : DL(tr_data_setup, batch_size=cfg.batch_size, shuffle=True, generator=torch.manual_seed(cfg.seed)),\n",
    "    \"valid\" : DL(va_data_setup, batch_size=cfg.batch_size, shuffle=False),\n",
    "}\n",
    "\n",
    "cfg = CFG(epochs=35, batch_size=64, steps_per_epoch=len(dataloaders[\"train\"]))\n",
    "\n",
    "torch.manual_seed(cfg.seed)\n",
    "model = Model().to(cfg.device)\n",
    "optimizer = optim.AdamW([p for p in model.parameters() if p.requires_grad], lr=cfg.lr, weight_decay=cfg.wd)\n",
    "scheduler_oclr = optim.lr_scheduler.OneCycleLR(optimizer=optimizer, \n",
    "                                               max_lr=cfg.max_lr, \n",
    "                                               epochs=cfg.epochs, \n",
    "                                               steps_per_epoch=cfg.steps_per_epoch,\n",
    "                                               pct_start=cfg.pct_start, \n",
    "                                               div_factor=cfg.div_factor, \n",
    "                                               final_div_factor=cfg.final_div_factor)\n",
    "# scheduler_rlrop = optim.lr_scheduler.ReduceLROnPlateau(optimizer=optimizer,\n",
    "#                                                       patience=cfg.patience,\n",
    "#                                                       eps=cfg.eps,\n",
    "#                                                       verbose=True)\n",
    "\n",
    "# scheduler_oclr = None\n",
    "scheduler_rlrop = None\n",
    "\n",
    "L, A, LR, BLE, BAE, _, _ = fit(model=model, \n",
    "                               optimizer=optimizer, \n",
    "                               scheduler_oclr=scheduler_oclr,\n",
    "                               scheduler_rlrop=scheduler_rlrop,\n",
    "                               epochs=cfg.epochs, \n",
    "                               early_stopping_patience=None, \n",
    "                               dataloaders=dataloaders, \n",
    "                               device=cfg.device,\n",
    "                               save_path=cfg.save_path,\n",
    "                               fold=None,\n",
    "                               verbose=True)\n",
    "\n",
    "breaker()\n",
    "show_loss_graphs(L)\n",
    "breaker()\n",
    "show_accuracy_graphs(A)\n",
    "breaker()\n",
    "\n",
    "if scheduler_oclr:\n",
    "    show_lr_graph(LR)\n",
    "    breaker()"
   ]
  }
 ],
 "metadata": {
  "kernelspec": {
   "display_name": "Python 3",
   "language": "python",
   "name": "python3"
  },
  "language_info": {
   "codemirror_mode": {
    "name": "ipython",
    "version": 3
   },
   "file_extension": ".py",
   "mimetype": "text/x-python",
   "name": "python",
   "nbconvert_exporter": "python",
   "pygments_lexer": "ipython3",
   "version": "3.7.12"
  },
  "papermill": {
   "default_parameters": {},
   "duration": 7782.472009,
   "end_time": "2022-06-19T12:48:56.830843",
   "environment_variables": {},
   "exception": null,
   "input_path": "__notebook__.ipynb",
   "output_path": "__notebook__.ipynb",
   "parameters": {},
   "start_time": "2022-06-19T10:39:14.358834",
   "version": "2.3.4"
  },
  "widgets": {
   "application/vnd.jupyter.widget-state+json": {
    "state": {
     "16fc5cd5c97942838634a05ab0b08d67": {
      "model_module": "@jupyter-widgets/base",
      "model_module_version": "1.2.0",
      "model_name": "LayoutModel",
      "state": {
       "_model_module": "@jupyter-widgets/base",
       "_model_module_version": "1.2.0",
       "_model_name": "LayoutModel",
       "_view_count": null,
       "_view_module": "@jupyter-widgets/base",
       "_view_module_version": "1.2.0",
       "_view_name": "LayoutView",
       "align_content": null,
       "align_items": null,
       "align_self": null,
       "border": null,
       "bottom": null,
       "display": null,
       "flex": null,
       "flex_flow": null,
       "grid_area": null,
       "grid_auto_columns": null,
       "grid_auto_flow": null,
       "grid_auto_rows": null,
       "grid_column": null,
       "grid_gap": null,
       "grid_row": null,
       "grid_template_areas": null,
       "grid_template_columns": null,
       "grid_template_rows": null,
       "height": null,
       "justify_content": null,
       "justify_items": null,
       "left": null,
       "margin": null,
       "max_height": null,
       "max_width": null,
       "min_height": null,
       "min_width": null,
       "object_fit": null,
       "object_position": null,
       "order": null,
       "overflow": null,
       "overflow_x": null,
       "overflow_y": null,
       "padding": null,
       "right": null,
       "top": null,
       "visibility": null,
       "width": null
      }
     },
     "24f54fb0ffb948d684cb5dd251db3f47": {
      "model_module": "@jupyter-widgets/controls",
      "model_module_version": "1.5.0",
      "model_name": "DescriptionStyleModel",
      "state": {
       "_model_module": "@jupyter-widgets/controls",
       "_model_module_version": "1.5.0",
       "_model_name": "DescriptionStyleModel",
       "_view_count": null,
       "_view_module": "@jupyter-widgets/base",
       "_view_module_version": "1.2.0",
       "_view_name": "StyleView",
       "description_width": ""
      }
     },
     "28c2e9dcf1704a9b8af6f520f117cfda": {
      "model_module": "@jupyter-widgets/controls",
      "model_module_version": "1.5.0",
      "model_name": "HBoxModel",
      "state": {
       "_dom_classes": [],
       "_model_module": "@jupyter-widgets/controls",
       "_model_module_version": "1.5.0",
       "_model_name": "HBoxModel",
       "_view_count": null,
       "_view_module": "@jupyter-widgets/controls",
       "_view_module_version": "1.5.0",
       "_view_name": "HBoxView",
       "box_style": "",
       "children": [
        "IPY_MODEL_3dad50af99c24dadb92ceda5edf5d460",
        "IPY_MODEL_6a43fc90044d41989feff5d738f772d8",
        "IPY_MODEL_4e1ff4b1434341d8a6395ef9255c3745"
       ],
       "layout": "IPY_MODEL_16fc5cd5c97942838634a05ab0b08d67"
      }
     },
     "33c39090c8c64afe883039aafe738a67": {
      "model_module": "@jupyter-widgets/base",
      "model_module_version": "1.2.0",
      "model_name": "LayoutModel",
      "state": {
       "_model_module": "@jupyter-widgets/base",
       "_model_module_version": "1.2.0",
       "_model_name": "LayoutModel",
       "_view_count": null,
       "_view_module": "@jupyter-widgets/base",
       "_view_module_version": "1.2.0",
       "_view_name": "LayoutView",
       "align_content": null,
       "align_items": null,
       "align_self": null,
       "border": null,
       "bottom": null,
       "display": null,
       "flex": null,
       "flex_flow": null,
       "grid_area": null,
       "grid_auto_columns": null,
       "grid_auto_flow": null,
       "grid_auto_rows": null,
       "grid_column": null,
       "grid_gap": null,
       "grid_row": null,
       "grid_template_areas": null,
       "grid_template_columns": null,
       "grid_template_rows": null,
       "height": null,
       "justify_content": null,
       "justify_items": null,
       "left": null,
       "margin": null,
       "max_height": null,
       "max_width": null,
       "min_height": null,
       "min_width": null,
       "object_fit": null,
       "object_position": null,
       "order": null,
       "overflow": null,
       "overflow_x": null,
       "overflow_y": null,
       "padding": null,
       "right": null,
       "top": null,
       "visibility": null,
       "width": null
      }
     },
     "3dad50af99c24dadb92ceda5edf5d460": {
      "model_module": "@jupyter-widgets/controls",
      "model_module_version": "1.5.0",
      "model_name": "HTMLModel",
      "state": {
       "_dom_classes": [],
       "_model_module": "@jupyter-widgets/controls",
       "_model_module_version": "1.5.0",
       "_model_name": "HTMLModel",
       "_view_count": null,
       "_view_module": "@jupyter-widgets/controls",
       "_view_module_version": "1.5.0",
       "_view_name": "HTMLView",
       "description": "",
       "description_tooltip": null,
       "layout": "IPY_MODEL_dd7690fb840c47dcb684c497c499324a",
       "placeholder": "​",
       "style": "IPY_MODEL_24f54fb0ffb948d684cb5dd251db3f47",
       "value": "100%"
      }
     },
     "4e1ff4b1434341d8a6395ef9255c3745": {
      "model_module": "@jupyter-widgets/controls",
      "model_module_version": "1.5.0",
      "model_name": "HTMLModel",
      "state": {
       "_dom_classes": [],
       "_model_module": "@jupyter-widgets/controls",
       "_model_module_version": "1.5.0",
       "_model_name": "HTMLModel",
       "_view_count": null,
       "_view_module": "@jupyter-widgets/controls",
       "_view_module_version": "1.5.0",
       "_view_name": "HTMLView",
       "description": "",
       "description_tooltip": null,
       "layout": "IPY_MODEL_db514fe65e87483eba9b13e83879af93",
       "placeholder": "​",
       "style": "IPY_MODEL_dc6d1d7ae72a473aa6827f51a54268a4",
       "value": " 54.7M/54.7M [00:03&lt;00:00, 23.7MB/s]"
      }
     },
     "6a43fc90044d41989feff5d738f772d8": {
      "model_module": "@jupyter-widgets/controls",
      "model_module_version": "1.5.0",
      "model_name": "FloatProgressModel",
      "state": {
       "_dom_classes": [],
       "_model_module": "@jupyter-widgets/controls",
       "_model_module_version": "1.5.0",
       "_model_name": "FloatProgressModel",
       "_view_count": null,
       "_view_module": "@jupyter-widgets/controls",
       "_view_module_version": "1.5.0",
       "_view_name": "ProgressView",
       "bar_style": "success",
       "description": "",
       "description_tooltip": null,
       "layout": "IPY_MODEL_33c39090c8c64afe883039aafe738a67",
       "max": 57365526.0,
       "min": 0.0,
       "orientation": "horizontal",
       "style": "IPY_MODEL_9356a90490554891846cee0b68086565",
       "value": 57365526.0
      }
     },
     "9356a90490554891846cee0b68086565": {
      "model_module": "@jupyter-widgets/controls",
      "model_module_version": "1.5.0",
      "model_name": "ProgressStyleModel",
      "state": {
       "_model_module": "@jupyter-widgets/controls",
       "_model_module_version": "1.5.0",
       "_model_name": "ProgressStyleModel",
       "_view_count": null,
       "_view_module": "@jupyter-widgets/base",
       "_view_module_version": "1.2.0",
       "_view_name": "StyleView",
       "bar_color": null,
       "description_width": ""
      }
     },
     "db514fe65e87483eba9b13e83879af93": {
      "model_module": "@jupyter-widgets/base",
      "model_module_version": "1.2.0",
      "model_name": "LayoutModel",
      "state": {
       "_model_module": "@jupyter-widgets/base",
       "_model_module_version": "1.2.0",
       "_model_name": "LayoutModel",
       "_view_count": null,
       "_view_module": "@jupyter-widgets/base",
       "_view_module_version": "1.2.0",
       "_view_name": "LayoutView",
       "align_content": null,
       "align_items": null,
       "align_self": null,
       "border": null,
       "bottom": null,
       "display": null,
       "flex": null,
       "flex_flow": null,
       "grid_area": null,
       "grid_auto_columns": null,
       "grid_auto_flow": null,
       "grid_auto_rows": null,
       "grid_column": null,
       "grid_gap": null,
       "grid_row": null,
       "grid_template_areas": null,
       "grid_template_columns": null,
       "grid_template_rows": null,
       "height": null,
       "justify_content": null,
       "justify_items": null,
       "left": null,
       "margin": null,
       "max_height": null,
       "max_width": null,
       "min_height": null,
       "min_width": null,
       "object_fit": null,
       "object_position": null,
       "order": null,
       "overflow": null,
       "overflow_x": null,
       "overflow_y": null,
       "padding": null,
       "right": null,
       "top": null,
       "visibility": null,
       "width": null
      }
     },
     "dc6d1d7ae72a473aa6827f51a54268a4": {
      "model_module": "@jupyter-widgets/controls",
      "model_module_version": "1.5.0",
      "model_name": "DescriptionStyleModel",
      "state": {
       "_model_module": "@jupyter-widgets/controls",
       "_model_module_version": "1.5.0",
       "_model_name": "DescriptionStyleModel",
       "_view_count": null,
       "_view_module": "@jupyter-widgets/base",
       "_view_module_version": "1.2.0",
       "_view_name": "StyleView",
       "description_width": ""
      }
     },
     "dd7690fb840c47dcb684c497c499324a": {
      "model_module": "@jupyter-widgets/base",
      "model_module_version": "1.2.0",
      "model_name": "LayoutModel",
      "state": {
       "_model_module": "@jupyter-widgets/base",
       "_model_module_version": "1.2.0",
       "_model_name": "LayoutModel",
       "_view_count": null,
       "_view_module": "@jupyter-widgets/base",
       "_view_module_version": "1.2.0",
       "_view_name": "LayoutView",
       "align_content": null,
       "align_items": null,
       "align_self": null,
       "border": null,
       "bottom": null,
       "display": null,
       "flex": null,
       "flex_flow": null,
       "grid_area": null,
       "grid_auto_columns": null,
       "grid_auto_flow": null,
       "grid_auto_rows": null,
       "grid_column": null,
       "grid_gap": null,
       "grid_row": null,
       "grid_template_areas": null,
       "grid_template_columns": null,
       "grid_template_rows": null,
       "height": null,
       "justify_content": null,
       "justify_items": null,
       "left": null,
       "margin": null,
       "max_height": null,
       "max_width": null,
       "min_height": null,
       "min_width": null,
       "object_fit": null,
       "object_position": null,
       "order": null,
       "overflow": null,
       "overflow_x": null,
       "overflow_y": null,
       "padding": null,
       "right": null,
       "top": null,
       "visibility": null,
       "width": null
      }
     }
    },
    "version_major": 2,
    "version_minor": 0
   }
  }
 },
 "nbformat": 4,
 "nbformat_minor": 5
}
