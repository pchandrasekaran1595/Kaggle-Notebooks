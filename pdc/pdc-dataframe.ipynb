{
 "cells": [
  {
   "cell_type": "code",
   "execution_count": 1,
   "id": "547e936f",
   "metadata": {
    "_cell_guid": "b1076dfc-b9ad-4769-8c92-a6c4dae69d19",
    "_uuid": "8f2839f25d086af736a60e9eeb907d3b93b6e0e5",
    "execution": {
     "iopub.execute_input": "2022-09-20T10:24:58.079868Z",
     "iopub.status.busy": "2022-09-20T10:24:58.078503Z",
     "iopub.status.idle": "2022-09-20T10:24:58.090352Z",
     "shell.execute_reply": "2022-09-20T10:24:58.089428Z"
    },
    "papermill": {
     "duration": 0.020371,
     "end_time": "2022-09-20T10:24:58.093272",
     "exception": false,
     "start_time": "2022-09-20T10:24:58.072901",
     "status": "completed"
    },
    "tags": []
   },
   "outputs": [],
   "source": [
    "import os\n",
    "import numpy as np\n",
    "import pandas as pd\n",
    "\n",
    "BASE_PATH: str = \"../input/paddy-disease-classification/train_images\""
   ]
  },
  {
   "cell_type": "code",
   "execution_count": 2,
   "id": "04ec7d36",
   "metadata": {
    "execution": {
     "iopub.execute_input": "2022-09-20T10:24:58.100975Z",
     "iopub.status.busy": "2022-09-20T10:24:58.100324Z",
     "iopub.status.idle": "2022-09-20T10:24:58.113375Z",
     "shell.execute_reply": "2022-09-20T10:24:58.112128Z"
    },
    "papermill": {
     "duration": 0.01996,
     "end_time": "2022-09-20T10:24:58.116225",
     "exception": false,
     "start_time": "2022-09-20T10:24:58.096265",
     "status": "completed"
    },
    "tags": []
   },
   "outputs": [],
   "source": [
    "LABELS: dict = {\n",
    "    0 : \"bacterial_leaf_blight\",\n",
    "    1 : \"bacterial_leaf_streak\",\n",
    "    2 : \"bacterial_panicle_blight\",\n",
    "    3 : \"blast\",\n",
    "    4 : \"brown_spot\",\n",
    "    5 : \"dead_heart\",\n",
    "    6 : \"downy_mildew\",\n",
    "    7 : \"hispa\",\n",
    "    8 : \"normal\",\n",
    "    9 : \"tungro\"\n",
    "}"
   ]
  },
  {
   "cell_type": "code",
   "execution_count": 3,
   "id": "104ce0b6",
   "metadata": {
    "execution": {
     "iopub.execute_input": "2022-09-20T10:24:58.123211Z",
     "iopub.status.busy": "2022-09-20T10:24:58.122703Z",
     "iopub.status.idle": "2022-09-20T10:24:58.178095Z",
     "shell.execute_reply": "2022-09-20T10:24:58.176775Z"
    },
    "papermill": {
     "duration": 0.06203,
     "end_time": "2022-09-20T10:24:58.180885",
     "exception": false,
     "start_time": "2022-09-20T10:24:58.118855",
     "status": "completed"
    },
    "tags": []
   },
   "outputs": [
    {
     "data": {
      "text/html": [
       "<div>\n",
       "<style scoped>\n",
       "    .dataframe tbody tr th:only-of-type {\n",
       "        vertical-align: middle;\n",
       "    }\n",
       "\n",
       "    .dataframe tbody tr th {\n",
       "        vertical-align: top;\n",
       "    }\n",
       "\n",
       "    .dataframe thead th {\n",
       "        text-align: right;\n",
       "    }\n",
       "</style>\n",
       "<table border=\"1\" class=\"dataframe\">\n",
       "  <thead>\n",
       "    <tr style=\"text-align: right;\">\n",
       "      <th></th>\n",
       "      <th>image_id</th>\n",
       "      <th>label</th>\n",
       "      <th>variety</th>\n",
       "      <th>age</th>\n",
       "    </tr>\n",
       "  </thead>\n",
       "  <tbody>\n",
       "    <tr>\n",
       "      <th>0</th>\n",
       "      <td>100330.jpg</td>\n",
       "      <td>bacterial_leaf_blight</td>\n",
       "      <td>ADT45</td>\n",
       "      <td>45</td>\n",
       "    </tr>\n",
       "    <tr>\n",
       "      <th>1</th>\n",
       "      <td>100365.jpg</td>\n",
       "      <td>bacterial_leaf_blight</td>\n",
       "      <td>ADT45</td>\n",
       "      <td>45</td>\n",
       "    </tr>\n",
       "    <tr>\n",
       "      <th>2</th>\n",
       "      <td>100382.jpg</td>\n",
       "      <td>bacterial_leaf_blight</td>\n",
       "      <td>ADT45</td>\n",
       "      <td>45</td>\n",
       "    </tr>\n",
       "    <tr>\n",
       "      <th>3</th>\n",
       "      <td>100632.jpg</td>\n",
       "      <td>bacterial_leaf_blight</td>\n",
       "      <td>ADT45</td>\n",
       "      <td>45</td>\n",
       "    </tr>\n",
       "    <tr>\n",
       "      <th>4</th>\n",
       "      <td>101918.jpg</td>\n",
       "      <td>bacterial_leaf_blight</td>\n",
       "      <td>ADT45</td>\n",
       "      <td>45</td>\n",
       "    </tr>\n",
       "  </tbody>\n",
       "</table>\n",
       "</div>"
      ],
      "text/plain": [
       "     image_id                  label variety  age\n",
       "0  100330.jpg  bacterial_leaf_blight   ADT45   45\n",
       "1  100365.jpg  bacterial_leaf_blight   ADT45   45\n",
       "2  100382.jpg  bacterial_leaf_blight   ADT45   45\n",
       "3  100632.jpg  bacterial_leaf_blight   ADT45   45\n",
       "4  101918.jpg  bacterial_leaf_blight   ADT45   45"
      ]
     },
     "execution_count": 3,
     "metadata": {},
     "output_type": "execute_result"
    }
   ],
   "source": [
    "train_df = pd.read_csv(\"../input/paddy-disease-classification/train.csv\")\n",
    "train_df.head(5)"
   ]
  },
  {
   "cell_type": "code",
   "execution_count": 4,
   "id": "72c4901c",
   "metadata": {
    "execution": {
     "iopub.execute_input": "2022-09-20T10:24:58.188552Z",
     "iopub.status.busy": "2022-09-20T10:24:58.187333Z",
     "iopub.status.idle": "2022-09-20T10:24:58.425243Z",
     "shell.execute_reply": "2022-09-20T10:24:58.424065Z"
    },
    "papermill": {
     "duration": 0.244478,
     "end_time": "2022-09-20T10:24:58.427951",
     "exception": false,
     "start_time": "2022-09-20T10:24:58.183473",
     "status": "completed"
    },
    "tags": []
   },
   "outputs": [],
   "source": [
    "train_labels = train_df.label.copy().values\n",
    "filepaths_setup = [os.path.join(BASE_PATH, label) for label in train_labels]\n",
    "train_df[\"label_index\"] = [list(LABELS.keys())[list(LABELS.values()).index(label)] for label in train_labels]   \n",
    "train_df[\"filepaths\"] = [ os.path.join(filepaths_setup[i], train_df.image_id[i]) for i in range(train_df.shape[0])] \n",
    "train_df.to_csv(\"pdc-dataframe.csv\", index=False)"
   ]
  }
 ],
 "metadata": {
  "kernelspec": {
   "display_name": "Python 3",
   "language": "python",
   "name": "python3"
  },
  "language_info": {
   "codemirror_mode": {
    "name": "ipython",
    "version": 3
   },
   "file_extension": ".py",
   "mimetype": "text/x-python",
   "name": "python",
   "nbconvert_exporter": "python",
   "pygments_lexer": "ipython3",
   "version": "3.7.12"
  },
  "papermill": {
   "default_parameters": {},
   "duration": 11.080038,
   "end_time": "2022-09-20T10:24:59.153406",
   "environment_variables": {},
   "exception": null,
   "input_path": "__notebook__.ipynb",
   "output_path": "__notebook__.ipynb",
   "parameters": {},
   "start_time": "2022-09-20T10:24:48.073368",
   "version": "2.3.4"
  }
 },
 "nbformat": 4,
 "nbformat_minor": 5
}
