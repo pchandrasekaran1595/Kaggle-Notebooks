{
 "cells": [
  {
   "cell_type": "markdown",
   "id": "ce11ebb4",
   "metadata": {
    "papermill": {
     "duration": 0.004285,
     "end_time": "2022-06-27T05:18:27.662158",
     "exception": false,
     "start_time": "2022-06-27T05:18:27.657873",
     "status": "completed"
    },
    "tags": []
   },
   "source": [
    "### **Setup**"
   ]
  },
  {
   "cell_type": "code",
   "execution_count": 1,
   "id": "69678a2f",
   "metadata": {
    "execution": {
     "iopub.execute_input": "2022-06-27T05:18:27.673342Z",
     "iopub.status.busy": "2022-06-27T05:18:27.672535Z",
     "iopub.status.idle": "2022-06-27T05:18:38.651444Z",
     "shell.execute_reply": "2022-06-27T05:18:38.650336Z"
    },
    "papermill": {
     "duration": 10.986257,
     "end_time": "2022-06-27T05:18:38.653980",
     "exception": false,
     "start_time": "2022-06-27T05:18:27.667723",
     "status": "completed"
    },
    "tags": []
   },
   "outputs": [
    {
     "name": "stderr",
     "output_type": "stream",
     "text": [
      "WARNING: Running pip as the 'root' user can result in broken permissions and conflicting behaviour with the system package manager. It is recommended to use a virtual environment instead: https://pip.pypa.io/warnings/venv\n"
     ]
    }
   ],
   "source": [
    "%%bash\n",
    "pip install timm -q"
   ]
  },
  {
   "cell_type": "markdown",
   "id": "1d3e9bf0",
   "metadata": {
    "papermill": {
     "duration": 0.00351,
     "end_time": "2022-06-27T05:18:38.661614",
     "exception": false,
     "start_time": "2022-06-27T05:18:38.658104",
     "status": "completed"
    },
    "tags": []
   },
   "source": [
    "### **Library Imports**"
   ]
  },
  {
   "cell_type": "code",
   "execution_count": 2,
   "id": "6f0c84d6",
   "metadata": {
    "execution": {
     "iopub.execute_input": "2022-06-27T05:18:38.669855Z",
     "iopub.status.busy": "2022-06-27T05:18:38.669550Z",
     "iopub.status.idle": "2022-06-27T05:18:46.684798Z",
     "shell.execute_reply": "2022-06-27T05:18:46.683839Z"
    },
    "papermill": {
     "duration": 8.022113,
     "end_time": "2022-06-27T05:18:46.687216",
     "exception": false,
     "start_time": "2022-06-27T05:18:38.665103",
     "status": "completed"
    },
    "tags": []
   },
   "outputs": [],
   "source": [
    "import os\n",
    "import re\n",
    "import cv2\n",
    "import timm\n",
    "import torch\n",
    "import numpy as np\n",
    "import pandas as pd\n",
    "import matplotlib.pyplot as plt\n",
    "\n",
    "from time import time\n",
    "from torch import nn, optim\n",
    "from torch.utils.data import Dataset\n",
    "from torch.utils.data import DataLoader as DL\n",
    "from torchvision import models, transforms\n",
    "\n",
    "from sklearn.preprocessing import LabelEncoder"
   ]
  },
  {
   "cell_type": "markdown",
   "id": "fb45f7f1",
   "metadata": {
    "papermill": {
     "duration": 0.003288,
     "end_time": "2022-06-27T05:18:46.694212",
     "exception": false,
     "start_time": "2022-06-27T05:18:46.690924",
     "status": "completed"
    },
    "tags": []
   },
   "source": [
    "### **Utilities and Helpers**"
   ]
  },
  {
   "cell_type": "code",
   "execution_count": 3,
   "id": "e9bc097f",
   "metadata": {
    "execution": {
     "iopub.execute_input": "2022-06-27T05:18:46.702884Z",
     "iopub.status.busy": "2022-06-27T05:18:46.702065Z",
     "iopub.status.idle": "2022-06-27T05:18:46.765344Z",
     "shell.execute_reply": "2022-06-27T05:18:46.764402Z"
    },
    "papermill": {
     "duration": 0.069546,
     "end_time": "2022-06-27T05:18:46.767151",
     "exception": false,
     "start_time": "2022-06-27T05:18:46.697605",
     "status": "completed"
    },
    "tags": []
   },
   "outputs": [],
   "source": [
    "SEED = 42\n",
    "SIZE = 384\n",
    "FOLD = 3\n",
    "TRANSFORM = transforms.Compose([transforms.ToTensor(),\n",
    "                                transforms.Normalize([0.49699, 0.58823, 0.23049],\n",
    "                                                     [0.22591, 0.22614, 0.18264]),\n",
    "                                ])\n",
    "MODEL_PATH = f\"../input/pdc-tvd121-na384f-f3/saves/ble_state.pt\"\n",
    "DEVICE = torch.device(\"cuda\" if torch.cuda.is_available() else \"cpu\")\n",
    "\n",
    "le = LabelEncoder()\n",
    "\n",
    "\n",
    "def breaker(num: int=50, char: str=\"*\") -> None:\n",
    "    print(\"\\n\" + num*char + \"\\n\")\n",
    "\n",
    "\n",
    "def get_image(path: str, size: int=224) -> np.ndarray:\n",
    "    return cv2.resize(src=cv2.cvtColor(src=cv2.imread(path, cv2.IMREAD_COLOR), code=cv2.COLOR_BGR2RGB), dsize=(size, size), interpolation=cv2.INTER_AREA)"
   ]
  },
  {
   "cell_type": "markdown",
   "id": "7544a44b",
   "metadata": {
    "papermill": {
     "duration": 0.003436,
     "end_time": "2022-06-27T05:18:46.774882",
     "exception": false,
     "start_time": "2022-06-27T05:18:46.771446",
     "status": "completed"
    },
    "tags": []
   },
   "source": [
    "### **Configuration**"
   ]
  },
  {
   "cell_type": "markdown",
   "id": "057e2478",
   "metadata": {
    "papermill": {
     "duration": 0.003222,
     "end_time": "2022-06-27T05:18:46.781636",
     "exception": false,
     "start_time": "2022-06-27T05:18:46.778414",
     "status": "completed"
    },
    "tags": []
   },
   "source": [
    "### **Dataset Template**"
   ]
  },
  {
   "cell_type": "code",
   "execution_count": 4,
   "id": "0b1cfe9e",
   "metadata": {
    "execution": {
     "iopub.execute_input": "2022-06-27T05:18:46.789660Z",
     "iopub.status.busy": "2022-06-27T05:18:46.789348Z",
     "iopub.status.idle": "2022-06-27T05:18:46.795380Z",
     "shell.execute_reply": "2022-06-27T05:18:46.794624Z"
    },
    "papermill": {
     "duration": 0.011948,
     "end_time": "2022-06-27T05:18:46.797025",
     "exception": false,
     "start_time": "2022-06-27T05:18:46.785077",
     "status": "completed"
    },
    "tags": []
   },
   "outputs": [],
   "source": [
    "class DS(Dataset):\n",
    "    def __init__(self, base_path: str, filenames: np.ndarray, size: int=224, transform=None):\n",
    "        self.base_path = base_path\n",
    "        self.filenames = filenames\n",
    "        self.size = size\n",
    "        self.transform = transform\n",
    "    \n",
    "    def __len__(self):\n",
    "        return self.filenames.shape[0]\n",
    "    \n",
    "    def __getitem__(self, idx):\n",
    "        return self.transform(get_image(os.path.join(self.base_path, self.filenames[idx]), size=self.size))"
   ]
  },
  {
   "cell_type": "markdown",
   "id": "bf4600e9",
   "metadata": {
    "papermill": {
     "duration": 0.003184,
     "end_time": "2022-06-27T05:18:46.803592",
     "exception": false,
     "start_time": "2022-06-27T05:18:46.800408",
     "status": "completed"
    },
    "tags": []
   },
   "source": [
    "### **Model**"
   ]
  },
  {
   "cell_type": "code",
   "execution_count": 5,
   "id": "2c65751a",
   "metadata": {
    "execution": {
     "iopub.execute_input": "2022-06-27T05:18:46.811541Z",
     "iopub.status.busy": "2022-06-27T05:18:46.811249Z",
     "iopub.status.idle": "2022-06-27T05:18:46.817901Z",
     "shell.execute_reply": "2022-06-27T05:18:46.817201Z"
    },
    "papermill": {
     "duration": 0.01266,
     "end_time": "2022-06-27T05:18:46.819619",
     "exception": false,
     "start_time": "2022-06-27T05:18:46.806959",
     "status": "completed"
    },
    "tags": []
   },
   "outputs": [],
   "source": [
    "class Model(nn.Module):\n",
    "    def __init__(self):\n",
    "        super(Model, self).__init__()\n",
    "\n",
    "        self.model = timm.create_model(model_name=\"tv_densenet121\", pretrained=False)\n",
    "        # self.freeze()\n",
    "        self.model.classifier = nn.Linear(in_features=self.model.classifier.in_features, out_features=10)\n",
    "    \n",
    "    def freeze(self):\n",
    "        for params in self.parameters(): params.requires_grad = False\n",
    "\n",
    "    def forward(self, x):\n",
    "        return nn.LogSoftmax(dim=1)(self.model(x))"
   ]
  },
  {
   "cell_type": "markdown",
   "id": "fa137ce3",
   "metadata": {
    "papermill": {
     "duration": 0.003196,
     "end_time": "2022-06-27T05:18:46.826198",
     "exception": false,
     "start_time": "2022-06-27T05:18:46.823002",
     "status": "completed"
    },
    "tags": []
   },
   "source": [
    "### **Predict Helpers**"
   ]
  },
  {
   "cell_type": "code",
   "execution_count": 6,
   "id": "f3882d70",
   "metadata": {
    "execution": {
     "iopub.execute_input": "2022-06-27T05:18:46.834069Z",
     "iopub.status.busy": "2022-06-27T05:18:46.833805Z",
     "iopub.status.idle": "2022-06-27T05:18:46.840867Z",
     "shell.execute_reply": "2022-06-27T05:18:46.840160Z"
    },
    "papermill": {
     "duration": 0.01287,
     "end_time": "2022-06-27T05:18:46.842415",
     "exception": false,
     "start_time": "2022-06-27T05:18:46.829545",
     "status": "completed"
    },
    "tags": []
   },
   "outputs": [],
   "source": [
    "def predict_batch(model=None, dataloader=None, path=None, device=None) -> np.ndarray:\n",
    "    model.load_state_dict(torch.load(path, map_location=device)[\"model_state_dict\"])\n",
    "    model.to(device)    \n",
    "    model.eval()\n",
    "    \n",
    "    y_pred = torch.zeros(1, 1).to(device)\n",
    "    \n",
    "    for X in dataloader:\n",
    "        X = X.to(device)\n",
    "        with torch.no_grad():\n",
    "            output = torch.argmax(torch.exp(model(X)), dim=1)\n",
    "        y_pred = torch.cat((y_pred, output.view(-1, 1)), dim=0)\n",
    "    \n",
    "    return y_pred[1:].detach().cpu().numpy()"
   ]
  },
  {
   "cell_type": "markdown",
   "id": "664e937f",
   "metadata": {
    "papermill": {
     "duration": 0.003177,
     "end_time": "2022-06-27T05:18:46.848989",
     "exception": false,
     "start_time": "2022-06-27T05:18:46.845812",
     "status": "completed"
    },
    "tags": []
   },
   "source": [
    "### **Submission**"
   ]
  },
  {
   "cell_type": "code",
   "execution_count": 7,
   "id": "1e81f441",
   "metadata": {
    "execution": {
     "iopub.execute_input": "2022-06-27T05:18:46.856785Z",
     "iopub.status.busy": "2022-06-27T05:18:46.856529Z",
     "iopub.status.idle": "2022-06-27T05:20:02.000414Z",
     "shell.execute_reply": "2022-06-27T05:20:01.999590Z"
    },
    "papermill": {
     "duration": 75.150245,
     "end_time": "2022-06-27T05:20:02.002610",
     "exception": false,
     "start_time": "2022-06-27T05:18:46.852365",
     "status": "completed"
    },
    "tags": []
   },
   "outputs": [],
   "source": [
    "df = pd.read_csv(\"../input/paddy-disease-classification/train.csv\")\n",
    "ss_df = pd.read_csv(\"../input/paddy-disease-classification/sample_submission.csv\")\n",
    "\n",
    "labels = df.label.copy().values\n",
    "labels = le.fit_transform(labels)\n",
    "\n",
    "ts_data_setup = DS(base_path=\"../input/paddy-disease-classification/test_images\", \n",
    "                   filenames=ss_df.image_id.copy().values,\n",
    "                   size=SIZE,\n",
    "                   transform=TRANSFORM)\n",
    "ts_data = DL(ts_data_setup, batch_size=64, shuffle=False)\n",
    "\n",
    "model = Model().to(DEVICE)\n",
    "\n",
    "y_pred = predict_batch(model=model, \n",
    "                       dataloader=ts_data, \n",
    "                       path=MODEL_PATH,\n",
    "                       device=DEVICE)\n",
    "\n",
    "ss_df[\"label\"] = le.inverse_transform(y_pred.astype(\"uint8\").reshape(-1))\n",
    "ss_df.to_csv(\"submission.csv\", index=False)"
   ]
  }
 ],
 "metadata": {
  "kernelspec": {
   "display_name": "Python 3",
   "language": "python",
   "name": "python3"
  },
  "language_info": {
   "codemirror_mode": {
    "name": "ipython",
    "version": 3
   },
   "file_extension": ".py",
   "mimetype": "text/x-python",
   "name": "python",
   "nbconvert_exporter": "python",
   "pygments_lexer": "ipython3",
   "version": "3.7.12"
  },
  "papermill": {
   "default_parameters": {},
   "duration": 105.36925,
   "end_time": "2022-06-27T05:20:04.942696",
   "environment_variables": {},
   "exception": null,
   "input_path": "__notebook__.ipynb",
   "output_path": "__notebook__.ipynb",
   "parameters": {},
   "start_time": "2022-06-27T05:18:19.573446",
   "version": "2.3.4"
  }
 },
 "nbformat": 4,
 "nbformat_minor": 5
}
