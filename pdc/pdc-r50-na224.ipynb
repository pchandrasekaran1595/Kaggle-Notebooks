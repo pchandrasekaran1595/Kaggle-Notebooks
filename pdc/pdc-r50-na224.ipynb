{
 "cells": [
  {
   "cell_type": "markdown",
   "id": "f3fcd00a",
   "metadata": {
    "_cell_guid": "b1076dfc-b9ad-4769-8c92-a6c4dae69d19",
    "_uuid": "8f2839f25d086af736a60e9eeb907d3b93b6e0e5",
    "papermill": {
     "duration": 0.004704,
     "end_time": "2022-06-13T21:36:00.395930",
     "exception": false,
     "start_time": "2022-06-13T21:36:00.391226",
     "status": "completed"
    },
    "tags": []
   },
   "source": [
    "### **Library Imports**"
   ]
  },
  {
   "cell_type": "code",
   "execution_count": 1,
   "id": "47d9bd59",
   "metadata": {
    "execution": {
     "iopub.execute_input": "2022-06-13T21:36:00.405931Z",
     "iopub.status.busy": "2022-06-13T21:36:00.405340Z",
     "iopub.status.idle": "2022-06-13T21:36:03.258759Z",
     "shell.execute_reply": "2022-06-13T21:36:03.257930Z"
    },
    "papermill": {
     "duration": 2.861042,
     "end_time": "2022-06-13T21:36:03.260877",
     "exception": false,
     "start_time": "2022-06-13T21:36:00.399835",
     "status": "completed"
    },
    "tags": []
   },
   "outputs": [],
   "source": [
    "import os\n",
    "import re\n",
    "import torch\n",
    "import numpy as np\n",
    "import pandas as pd\n",
    "import matplotlib.pyplot as plt\n",
    "\n",
    "from time import time\n",
    "from torch import nn, optim\n",
    "from torch.utils.data import Dataset\n",
    "from torch.utils.data import DataLoader as DL\n",
    "from torchvision import models, transforms\n",
    "\n",
    "from sklearn.model_selection import StratifiedKFold\n",
    "from sklearn.preprocessing import LabelEncoder\n",
    "from sklearn.metrics import accuracy_score"
   ]
  },
  {
   "cell_type": "markdown",
   "id": "8116ca42",
   "metadata": {
    "papermill": {
     "duration": 0.003487,
     "end_time": "2022-06-13T21:36:03.268240",
     "exception": false,
     "start_time": "2022-06-13T21:36:03.264753",
     "status": "completed"
    },
    "tags": []
   },
   "source": [
    "### **Utilities and Helpers**"
   ]
  },
  {
   "cell_type": "code",
   "execution_count": 2,
   "id": "72ea9195",
   "metadata": {
    "execution": {
     "iopub.execute_input": "2022-06-13T21:36:03.277778Z",
     "iopub.status.busy": "2022-06-13T21:36:03.277273Z",
     "iopub.status.idle": "2022-06-13T21:36:03.289576Z",
     "shell.execute_reply": "2022-06-13T21:36:03.288792Z"
    },
    "papermill": {
     "duration": 0.019058,
     "end_time": "2022-06-13T21:36:03.291351",
     "exception": false,
     "start_time": "2022-06-13T21:36:03.272293",
     "status": "completed"
    },
    "tags": []
   },
   "outputs": [],
   "source": [
    "SEED = 42\n",
    "SIZE = 224\n",
    "le = LabelEncoder()\n",
    "\n",
    "\n",
    "def breaker(num: int=50, char: str=\"*\") -> None:\n",
    "    print(\"\\n\" + num*char + \"\\n\")\n",
    "\n",
    "    \n",
    "def show_loss_graphs(A: list) -> None:\n",
    "    TL, VL = [], []\n",
    "    for i in range(len(L)):\n",
    "        TL.append(L[i][\"train\"])\n",
    "        VL.append(L[i][\"valid\"])\n",
    "    x_Axis = np.arange(1, len(TL) + 1)\n",
    "    plt.figure()\n",
    "    plt.plot(x_Axis, TL, \"r\", label=\"Train\")\n",
    "    plt.plot(x_Axis, VL, \"b\", label=\"Valid\")\n",
    "    plt.legend()\n",
    "    plt.grid()\n",
    "    plt.title(\"Loss Graph\")\n",
    "    plt.show()\n",
    "\n",
    "    \n",
    "def show_accuracy_graphs(A: list) -> None:\n",
    "    TA, VA = [], []\n",
    "    for i in range(len(L)):\n",
    "        TA.append(A[i][\"train\"])\n",
    "        VA.append(A[i][\"valid\"])\n",
    "    x_Axis = np.arange(1, len(TA) + 1)\n",
    "    plt.figure()\n",
    "    plt.plot(x_Axis, TA, \"r\", label=\"Train\")\n",
    "    plt.plot(x_Axis, VA, \"b\", label=\"Valid\")\n",
    "    plt.legend()\n",
    "    plt.grid()\n",
    "    plt.title(\"Accuracy Graph\")\n",
    "    plt.show()\n",
    "\n",
    "\n",
    "def show_lr_graph(LR: list) -> None:\n",
    "    x_Axis = [i+1 for i in range(len(LR))]\n",
    "    plt.figure(figsize=(8, 6))\n",
    "    plt.plot(x_Axis, LR, \"rx\")\n",
    "    plt.grid()\n",
    "    plt.show()"
   ]
  },
  {
   "cell_type": "markdown",
   "id": "b6d10e1b",
   "metadata": {
    "papermill": {
     "duration": 0.003545,
     "end_time": "2022-06-13T21:36:03.298541",
     "exception": false,
     "start_time": "2022-06-13T21:36:03.294996",
     "status": "completed"
    },
    "tags": []
   },
   "source": [
    "### **Configuration**"
   ]
  },
  {
   "cell_type": "code",
   "execution_count": 3,
   "id": "94235df6",
   "metadata": {
    "execution": {
     "iopub.execute_input": "2022-06-13T21:36:03.306709Z",
     "iopub.status.busy": "2022-06-13T21:36:03.306438Z",
     "iopub.status.idle": "2022-06-13T21:36:03.366549Z",
     "shell.execute_reply": "2022-06-13T21:36:03.365468Z"
    },
    "papermill": {
     "duration": 0.066378,
     "end_time": "2022-06-13T21:36:03.368516",
     "exception": false,
     "start_time": "2022-06-13T21:36:03.302138",
     "status": "completed"
    },
    "tags": []
   },
   "outputs": [],
   "source": [
    "class CFG(object):\n",
    "    def __init__(self, \n",
    "                 seed: int = 42,\n",
    "                 n_splits: int = 5,\n",
    "                 batch_size: int = 16,\n",
    "                 epochs: int = 25,\n",
    "                 early_stopping: int = 5,\n",
    "                 lr: float = 1e-4,\n",
    "                 wd: float = 0.0,\n",
    "                 max_lr: float = 1e-3,\n",
    "                 pct_start: float = 0.2,\n",
    "                 steps_per_epoch: int = 100,\n",
    "                 div_factor: int = 1e3, \n",
    "                 final_div_factor: float = 1e3,\n",
    "                 ):\n",
    "        \n",
    "        self.seed = seed\n",
    "        self.n_splits = n_splits\n",
    "        self.batch_size = batch_size\n",
    "        self.epochs = epochs\n",
    "        self.early_stopping = early_stopping\n",
    "        self.lr = lr\n",
    "        self.wd = wd\n",
    "        self.max_lr = max_lr\n",
    "        self.pct_start = pct_start\n",
    "        self.steps_per_epoch = steps_per_epoch\n",
    "        self.div_factor = div_factor\n",
    "        self.final_div_factor = final_div_factor\n",
    "        self.device = torch.device(\"cuda\" if torch.cuda.is_available() else \"cpu\")\n",
    "        self.transform = transforms.Compose([transforms.ToTensor(),\n",
    "                                transforms.Normalize([0.485, 0.456, 0.406],\n",
    "                                                     [0.229, 0.224, 0.225]),\n",
    "                                ])\n",
    "        self.save_path = \"saves\"\n",
    "        if not os.path.exists(self.save_path): os.makedirs(self.save_path)\n",
    "    \n",
    "cfg = CFG(seed=SEED)"
   ]
  },
  {
   "cell_type": "markdown",
   "id": "629753df",
   "metadata": {
    "papermill": {
     "duration": 0.003505,
     "end_time": "2022-06-13T21:36:03.375884",
     "exception": false,
     "start_time": "2022-06-13T21:36:03.372379",
     "status": "completed"
    },
    "tags": []
   },
   "source": [
    "### **Dataset Template**"
   ]
  },
  {
   "cell_type": "code",
   "execution_count": 4,
   "id": "189e6645",
   "metadata": {
    "execution": {
     "iopub.execute_input": "2022-06-13T21:36:03.384671Z",
     "iopub.status.busy": "2022-06-13T21:36:03.383909Z",
     "iopub.status.idle": "2022-06-13T21:36:03.390832Z",
     "shell.execute_reply": "2022-06-13T21:36:03.389997Z"
    },
    "papermill": {
     "duration": 0.013041,
     "end_time": "2022-06-13T21:36:03.392516",
     "exception": false,
     "start_time": "2022-06-13T21:36:03.379475",
     "status": "completed"
    },
    "tags": []
   },
   "outputs": [],
   "source": [
    "class DS(Dataset):\n",
    "    def __init__(self, images: np.ndarray, labels: np.ndarray = None, transform=None):\n",
    "        self.images = images\n",
    "        self.labels = labels\n",
    "        self.transform = transform\n",
    "    \n",
    "    def __len__(self):\n",
    "        return self.images.shape[0]\n",
    "    \n",
    "    def __getitem__(self, idx):\n",
    "        if self.labels is not None:\n",
    "            return self.transform(self.images[idx]), torch.LongTensor(self.labels[idx])\n",
    "        else:\n",
    "            return self.transform(self.images[idx])"
   ]
  },
  {
   "cell_type": "markdown",
   "id": "812069e2",
   "metadata": {
    "papermill": {
     "duration": 0.003415,
     "end_time": "2022-06-13T21:36:03.399566",
     "exception": false,
     "start_time": "2022-06-13T21:36:03.396151",
     "status": "completed"
    },
    "tags": []
   },
   "source": [
    "### **Model**"
   ]
  },
  {
   "cell_type": "code",
   "execution_count": 5,
   "id": "5ee2a034",
   "metadata": {
    "execution": {
     "iopub.execute_input": "2022-06-13T21:36:03.407886Z",
     "iopub.status.busy": "2022-06-13T21:36:03.407547Z",
     "iopub.status.idle": "2022-06-13T21:36:03.414700Z",
     "shell.execute_reply": "2022-06-13T21:36:03.414044Z"
    },
    "papermill": {
     "duration": 0.013196,
     "end_time": "2022-06-13T21:36:03.416300",
     "exception": false,
     "start_time": "2022-06-13T21:36:03.403104",
     "status": "completed"
    },
    "tags": []
   },
   "outputs": [],
   "source": [
    "class Model(nn.Module):\n",
    "    def __init__(self):\n",
    "        super(Model, self).__init__()\n",
    "\n",
    "        self.model = models.resnet50(pretrained=True, progress=True)\n",
    "        self.freeze()\n",
    "        self.model.fc = nn.Linear(in_features=self.model.fc.in_features, out_features=10)\n",
    "    \n",
    "    def freeze(self):\n",
    "        for params in self.parameters(): params.requires_grad = False\n",
    "\n",
    "    def forward(self, x):\n",
    "        return nn.LogSoftmax(dim=1)(self.model(x))"
   ]
  },
  {
   "cell_type": "markdown",
   "id": "c907110e",
   "metadata": {
    "papermill": {
     "duration": 0.003604,
     "end_time": "2022-06-13T21:36:03.423475",
     "exception": false,
     "start_time": "2022-06-13T21:36:03.419871",
     "status": "completed"
    },
    "tags": []
   },
   "source": [
    "### **Fit and Predict Helpers**"
   ]
  },
  {
   "cell_type": "code",
   "execution_count": 6,
   "id": "74589c4f",
   "metadata": {
    "execution": {
     "iopub.execute_input": "2022-06-13T21:36:03.432335Z",
     "iopub.status.busy": "2022-06-13T21:36:03.432068Z",
     "iopub.status.idle": "2022-06-13T21:36:03.460569Z",
     "shell.execute_reply": "2022-06-13T21:36:03.458455Z"
    },
    "papermill": {
     "duration": 0.034855,
     "end_time": "2022-06-13T21:36:03.462225",
     "exception": false,
     "start_time": "2022-06-13T21:36:03.427370",
     "status": "completed"
    },
    "tags": []
   },
   "outputs": [],
   "source": [
    "def fit(model=None, \n",
    "        optimizer=None, \n",
    "        scheduler_rlrop=None,\n",
    "        scheduler_oclr=None,\n",
    "        epochs=None, \n",
    "        early_stopping_patience=None, \n",
    "        dataloaders=None, \n",
    "        fold=None, \n",
    "        save_path=None,\n",
    "        device=None,\n",
    "        verbose=False) -> tuple:\n",
    "    \n",
    "    def get_accuracy(y_pred, y_true):\n",
    "        y_pred = torch.argmax(y_pred, dim=1)\n",
    "        return torch.count_nonzero(y_pred == y_true).item() / len(y_pred)\n",
    "    \n",
    "    if verbose:\n",
    "        breaker()\n",
    "        if fold: print(f\"Training Fold {fold}...\")\n",
    "        else: print(\"Training ...\")\n",
    "        breaker()\n",
    "        \n",
    "    bestLoss, bestAccs = {\"train\" : np.inf, \"valid\" : np.inf}, {\"train\" : 0.0, \"valid\" : 0.0}\n",
    "    Losses, Accuracies, LRs = [], [], []\n",
    "    if fold: name = f\"state_fold_{fold}.pt\"\n",
    "    else: name = \"state.pt\"\n",
    "\n",
    "    start_time = time()\n",
    "    for e in range(epochs):\n",
    "        e_st = time()\n",
    "        epochLoss, epochAccs = {\"train\" : 0.0, \"valid\" : 0.0}, {\"train\" : 0.0, \"valid\" : 0.0}\n",
    "\n",
    "        for phase in [\"train\", \"valid\"]:\n",
    "            if phase == \"train\":\n",
    "                model.train()\n",
    "            else:\n",
    "                model.eval()\n",
    "            \n",
    "            lossPerPass, accsPerPass = [], []\n",
    "\n",
    "            for X, y in dataloaders[phase]:\n",
    "                X, y = X.to(device), y.to(device).view(-1)\n",
    "\n",
    "                optimizer.zero_grad()\n",
    "                with torch.set_grad_enabled(phase == \"train\"):\n",
    "                    output = model(X)\n",
    "                    loss = torch.nn.NLLLoss()(output, y)\n",
    "                    if phase == \"train\":\n",
    "                        loss.backward()\n",
    "                        optimizer.step()\n",
    "                        if scheduler_oclr: scheduler_oclr.step()\n",
    "                lossPerPass.append(loss.item())\n",
    "                accsPerPass.append(get_accuracy(output, y))\n",
    "            epochLoss[phase] = np.mean(np.array(lossPerPass))\n",
    "            epochAccs[phase] = np.mean(np.array(accsPerPass))\n",
    "        if scheduler_oclr: LRs.append(scheduler_oclr.get_last_lr())\n",
    "        Losses.append(epochLoss)\n",
    "        Accuracies.append(epochAccs)\n",
    "        \n",
    "        if scheduler_oclr:\n",
    "            save_dict = {\"model_state_dict\"     : model.state_dict(),\n",
    "                         \"optim_state_dict\"     : optimizer.state_dict(),\n",
    "                         \"scheduler_state_dict\" : scheduler_oclr.state_dict()}\n",
    "        \n",
    "        elif scheduler_rlrop:\n",
    "            save_dict = {\"model_state_dict\"     : model.state_dict(),\n",
    "                         \"optim_state_dict\"     : optimizer.state_dict(),\n",
    "                         \"scheduler_state_dict\" : scheduler_rlrop.state_dict()}\n",
    "        \n",
    "        else:\n",
    "            save_dict = {\"model_state_dict\"     : model.state_dict(),\n",
    "                         \"optim_state_dict\"     : optimizer.state_dict()}\n",
    "        \n",
    "        if early_stopping_patience:\n",
    "            if epochLoss[\"valid\"] < bestLoss[\"valid\"]:\n",
    "                bestLoss = epochLoss\n",
    "                BLE = e + 1\n",
    "                torch.save(save_dict, os.path.join(save_path, name))\n",
    "                early_stopping_step = 0\n",
    "            else:\n",
    "                early_stopping_step += 1\n",
    "                if early_stopping_step > early_stopping_patience:\n",
    "                    print(\"\\nEarly Stopping at Epoch {}\".format(e + 1))\n",
    "                    break\n",
    "        \n",
    "        if epochLoss[\"valid\"] < bestLoss[\"valid\"]:\n",
    "            bestLoss = epochLoss\n",
    "            BLE = e + 1\n",
    "            torch.save(save_dict,os.path.join(save_path, name))\n",
    "        \n",
    "        if epochAccs[\"valid\"] > bestAccs[\"valid\"]:\n",
    "            bestAccs = epochAccs\n",
    "            BAE = e + 1\n",
    "        \n",
    "        if scheduler_rlrop: scheduler_rlrop.step(epochLoss[\"valid\"])\n",
    "        \n",
    "        if verbose:\n",
    "            print(\"Epoch: {} | Train Loss: {:.5f} | Valid Loss: {:.5f} |\\\n",
    "Train Accs: {:.5f} | Valid Accs: {:.5f} | Time: {:.2f} seconds\".format(e+1, \n",
    "                                                                       epochLoss[\"train\"], epochLoss[\"valid\"], \n",
    "                                                                       epochAccs[\"train\"], epochAccs[\"valid\"], \n",
    "                                                                       time()-e_st))\n",
    "\n",
    "    if verbose:                                           \n",
    "        breaker()\n",
    "        print(f\"Best Validation Loss at Epoch {BLE}\")\n",
    "        breaker()\n",
    "        print(f\"Best Validation Accs at Epoch {BAE}\")\n",
    "        breaker()\n",
    "        print(\"Time Taken [{} Epochs] : {:.2f} minutes\".format(len(Losses), (time()-start_time)/60))\n",
    "    \n",
    "    return Losses, Accuracies, LRs, BLE, BAE, name\n",
    "\n",
    "\n",
    "def predict_batch(model=None, dataloader=None, path=None, device=None) -> np.ndarray:\n",
    "    model.load_state_dict(torch.load(path, map_location=device)[\"model_state_dict\"])\n",
    "    model.to(device)    \n",
    "    model.eval()\n",
    "    \n",
    "    y_pred = torch.zeros(1, 1).to(device)\n",
    "    \n",
    "    for X in dataloader:\n",
    "        X = X.to(device)\n",
    "        with torch.no_grad():\n",
    "            output = torch.argmax(torch.exp(model(X)), dim=1)\n",
    "        y_pred = torch.cat((y_pred, output.view(-1, 1)), dim=0)\n",
    "    \n",
    "    return y_pred[1:].detach().cpu().numpy()"
   ]
  },
  {
   "cell_type": "markdown",
   "id": "0c5f9a7e",
   "metadata": {
    "papermill": {
     "duration": 0.003462,
     "end_time": "2022-06-13T21:36:03.469360",
     "exception": false,
     "start_time": "2022-06-13T21:36:03.465898",
     "status": "completed"
    },
    "tags": []
   },
   "source": [
    "### **Train**"
   ]
  },
  {
   "cell_type": "code",
   "execution_count": 7,
   "id": "066c24a2",
   "metadata": {
    "execution": {
     "iopub.execute_input": "2022-06-13T21:36:03.477877Z",
     "iopub.status.busy": "2022-06-13T21:36:03.477456Z",
     "iopub.status.idle": "2022-06-13T21:36:17.135193Z",
     "shell.execute_reply": "2022-06-13T21:36:17.134431Z"
    },
    "papermill": {
     "duration": 13.664288,
     "end_time": "2022-06-13T21:36:17.137297",
     "exception": false,
     "start_time": "2022-06-13T21:36:03.473009",
     "status": "completed"
    },
    "tags": []
   },
   "outputs": [],
   "source": [
    "images = np.load(f\"../input/pdc-images-{SIZE}/images-{SIZE}.npy\")\n",
    "df = pd.read_csv(\"../input/paddy-disease-classification/train.csv\")\n",
    "labels = df.label.copy().values\n",
    "labels = le.fit_transform(labels)"
   ]
  },
  {
   "cell_type": "code",
   "execution_count": 8,
   "id": "63111cf0",
   "metadata": {
    "execution": {
     "iopub.execute_input": "2022-06-13T21:36:17.146525Z",
     "iopub.status.busy": "2022-06-13T21:36:17.146201Z",
     "iopub.status.idle": "2022-06-13T21:57:27.718432Z",
     "shell.execute_reply": "2022-06-13T21:57:27.717313Z"
    },
    "papermill": {
     "duration": 1270.57887,
     "end_time": "2022-06-13T21:57:27.720172",
     "exception": false,
     "start_time": "2022-06-13T21:36:17.141302",
     "status": "completed"
    },
    "tags": []
   },
   "outputs": [
    {
     "name": "stderr",
     "output_type": "stream",
     "text": [
      "Downloading: \"https://download.pytorch.org/models/resnet50-0676ba61.pth\" to /root/.cache/torch/hub/checkpoints/resnet50-0676ba61.pth\n"
     ]
    },
    {
     "data": {
      "application/vnd.jupyter.widget-view+json": {
       "model_id": "278e7257949b45628090eb28ed1beafe",
       "version_major": 2,
       "version_minor": 0
      },
      "text/plain": [
       "  0%|          | 0.00/97.8M [00:00<?, ?B/s]"
      ]
     },
     "metadata": {},
     "output_type": "display_data"
    },
    {
     "name": "stdout",
     "output_type": "stream",
     "text": [
      "\n",
      "**************************************************\n",
      "\n",
      "Training ...\n",
      "\n",
      "**************************************************\n",
      "\n",
      "Epoch: 1 | Train Loss: 2.24610 | Valid Loss: 2.11223 |Train Accs: 0.17334 | Valid Accs: 0.27052 | Time: 32.73 seconds\n",
      "Epoch: 2 | Train Loss: 2.00093 | Valid Loss: 1.85793 |Train Accs: 0.32637 | Valid Accs: 0.38550 | Time: 26.69 seconds\n",
      "Epoch: 3 | Train Loss: 1.71930 | Valid Loss: 1.54485 |Train Accs: 0.44232 | Valid Accs: 0.51479 | Time: 26.67 seconds\n",
      "Epoch: 4 | Train Loss: 1.46948 | Valid Loss: 1.29848 |Train Accs: 0.52083 | Valid Accs: 0.59494 | Time: 27.18 seconds\n",
      "Epoch: 5 | Train Loss: 1.29952 | Valid Loss: 1.19045 |Train Accs: 0.57589 | Valid Accs: 0.60496 | Time: 26.91 seconds\n",
      "Epoch: 6 | Train Loss: 1.21772 | Valid Loss: 1.06730 |Train Accs: 0.60252 | Valid Accs: 0.65124 | Time: 27.22 seconds\n",
      "Epoch: 7 | Train Loss: 1.12903 | Valid Loss: 1.05162 |Train Accs: 0.62529 | Valid Accs: 0.64981 | Time: 27.13 seconds\n",
      "Epoch: 8 | Train Loss: 1.08006 | Valid Loss: 1.00039 |Train Accs: 0.64081 | Valid Accs: 0.67271 | Time: 27.21 seconds\n",
      "Epoch: 9 | Train Loss: 1.02773 | Valid Loss: 0.96171 |Train Accs: 0.65588 | Valid Accs: 0.67653 | Time: 27.04 seconds\n",
      "Epoch: 10 | Train Loss: 1.01884 | Valid Loss: 0.92272 |Train Accs: 0.66056 | Valid Accs: 0.68464 | Time: 26.95 seconds\n",
      "Epoch: 11 | Train Loss: 0.95878 | Valid Loss: 0.93527 |Train Accs: 0.67586 | Valid Accs: 0.69275 | Time: 26.89 seconds\n",
      "Epoch: 12 | Train Loss: 0.94377 | Valid Loss: 0.96414 |Train Accs: 0.68517 | Valid Accs: 0.68464 | Time: 26.99 seconds\n",
      "Epoch: 13 | Train Loss: 0.92382 | Valid Loss: 0.90675 |Train Accs: 0.69021 | Valid Accs: 0.70134 | Time: 27.31 seconds\n",
      "Epoch: 14 | Train Loss: 0.89735 | Valid Loss: 0.91762 |Train Accs: 0.69906 | Valid Accs: 0.69132 | Time: 26.82 seconds\n",
      "Epoch: 15 | Train Loss: 0.87616 | Valid Loss: 0.87084 |Train Accs: 0.70477 | Valid Accs: 0.71183 | Time: 27.07 seconds\n",
      "Epoch: 16 | Train Loss: 0.85353 | Valid Loss: 0.88584 |Train Accs: 0.71464 | Valid Accs: 0.70611 | Time: 26.41 seconds\n",
      "Epoch: 17 | Train Loss: 0.85632 | Valid Loss: 0.85783 |Train Accs: 0.71358 | Valid Accs: 0.71279 | Time: 26.96 seconds\n",
      "Epoch: 18 | Train Loss: 0.83023 | Valid Loss: 0.86846 |Train Accs: 0.71732 | Valid Accs: 0.71135 | Time: 26.59 seconds\n",
      "Epoch: 19 | Train Loss: 0.81438 | Valid Loss: 0.96681 |Train Accs: 0.72430 | Valid Accs: 0.69800 | Time: 26.60 seconds\n",
      "Epoch: 20 | Train Loss: 0.78639 | Valid Loss: 0.79400 |Train Accs: 0.74048 | Valid Accs: 0.73521 | Time: 26.71 seconds\n",
      "Epoch: 21 | Train Loss: 0.77718 | Valid Loss: 0.83077 |Train Accs: 0.74335 | Valid Accs: 0.72471 | Time: 26.55 seconds\n",
      "Epoch: 22 | Train Loss: 0.75877 | Valid Loss: 0.79779 |Train Accs: 0.75154 | Valid Accs: 0.74046 | Time: 26.59 seconds\n",
      "Epoch: 23 | Train Loss: 0.73743 | Valid Loss: 0.74493 |Train Accs: 0.75134 | Valid Accs: 0.75143 | Time: 26.82 seconds\n",
      "Epoch: 24 | Train Loss: 0.71722 | Valid Loss: 0.73341 |Train Accs: 0.76041 | Valid Accs: 0.75573 | Time: 26.86 seconds\n",
      "Epoch: 25 | Train Loss: 0.71651 | Valid Loss: 0.76952 |Train Accs: 0.75998 | Valid Accs: 0.74618 | Time: 26.56 seconds\n",
      "Epoch: 26 | Train Loss: 0.71181 | Valid Loss: 0.76847 |Train Accs: 0.76356 | Valid Accs: 0.74857 | Time: 26.53 seconds\n",
      "Epoch: 27 | Train Loss: 0.70514 | Valid Loss: 0.73882 |Train Accs: 0.76845 | Valid Accs: 0.75573 | Time: 26.58 seconds\n",
      "Epoch: 28 | Train Loss: 0.69464 | Valid Loss: 0.76455 |Train Accs: 0.76675 | Valid Accs: 0.75191 | Time: 26.61 seconds\n",
      "Epoch: 29 | Train Loss: 0.66729 | Valid Loss: 0.74622 |Train Accs: 0.78057 | Valid Accs: 0.75525 | Time: 26.55 seconds\n",
      "Epoch: 30 | Train Loss: 0.66863 | Valid Loss: 0.72127 |Train Accs: 0.77742 | Valid Accs: 0.76622 | Time: 26.89 seconds\n",
      "Epoch: 31 | Train Loss: 0.65362 | Valid Loss: 0.70903 |Train Accs: 0.78052 | Valid Accs: 0.75954 | Time: 26.72 seconds\n",
      "Epoch: 32 | Train Loss: 0.65173 | Valid Loss: 0.70626 |Train Accs: 0.78546 | Valid Accs: 0.76574 | Time: 26.59 seconds\n",
      "Epoch: 33 | Train Loss: 0.63469 | Valid Loss: 0.71981 |Train Accs: 0.79314 | Valid Accs: 0.76097 | Time: 26.53 seconds\n",
      "Epoch: 34 | Train Loss: 0.62782 | Valid Loss: 0.74432 |Train Accs: 0.79182 | Valid Accs: 0.75906 | Time: 26.33 seconds\n",
      "Epoch: 35 | Train Loss: 0.62929 | Valid Loss: 0.69811 |Train Accs: 0.79686 | Valid Accs: 0.76288 | Time: 26.57 seconds\n",
      "Epoch: 36 | Train Loss: 0.62137 | Valid Loss: 0.68592 |Train Accs: 0.79916 | Valid Accs: 0.77576 | Time: 26.59 seconds\n",
      "Epoch: 37 | Train Loss: 0.60465 | Valid Loss: 0.70776 |Train Accs: 0.80475 | Valid Accs: 0.76622 | Time: 26.34 seconds\n",
      "Epoch: 38 | Train Loss: 0.60313 | Valid Loss: 0.69489 |Train Accs: 0.80204 | Valid Accs: 0.76908 | Time: 26.36 seconds\n",
      "Epoch: 39 | Train Loss: 0.60098 | Valid Loss: 0.68218 |Train Accs: 0.80549 | Valid Accs: 0.77433 | Time: 26.54 seconds\n",
      "Epoch: 40 | Train Loss: 0.59004 | Valid Loss: 0.68776 |Train Accs: 0.80969 | Valid Accs: 0.76622 | Time: 26.38 seconds\n",
      "Epoch: 41 | Train Loss: 0.58826 | Valid Loss: 0.66521 |Train Accs: 0.81497 | Valid Accs: 0.77338 | Time: 26.49 seconds\n",
      "Epoch: 42 | Train Loss: 0.59200 | Valid Loss: 0.69695 |Train Accs: 0.80993 | Valid Accs: 0.76240 | Time: 26.42 seconds\n",
      "Epoch: 43 | Train Loss: 0.57281 | Valid Loss: 0.68179 |Train Accs: 0.82056 | Valid Accs: 0.77576 | Time: 26.45 seconds\n",
      "Epoch: 44 | Train Loss: 0.57769 | Valid Loss: 0.67778 |Train Accs: 0.81543 | Valid Accs: 0.77576 | Time: 26.39 seconds\n",
      "Epoch: 45 | Train Loss: 0.57643 | Valid Loss: 0.66833 |Train Accs: 0.81473 | Valid Accs: 0.77672 | Time: 26.41 seconds\n",
      "Epoch: 46 | Train Loss: 0.57093 | Valid Loss: 0.67483 |Train Accs: 0.82481 | Valid Accs: 0.77385 | Time: 26.46 seconds\n",
      "\n",
      "Early Stopping at Epoch 47\n",
      "\n",
      "**************************************************\n",
      "\n",
      "Best Validation Loss at Epoch 41\n",
      "\n",
      "**************************************************\n",
      "\n",
      "Best Validation Accs at Epoch 45\n",
      "\n",
      "**************************************************\n",
      "\n",
      "Time Taken [47 Epochs] : 21.01 minutes\n",
      "\n",
      "**************************************************\n",
      "\n"
     ]
    },
    {
     "data": {
      "image/png": "[encoded data removed]",
      "text/plain": [
       "<Figure size 432x288 with 1 Axes>"
      ]
     },
     "metadata": {
      "needs_background": "light"
     },
     "output_type": "display_data"
    },
    {
     "name": "stdout",
     "output_type": "stream",
     "text": [
      "\n",
      "**************************************************\n",
      "\n"
     ]
    },
    {
     "data": {
      "image/png": "[encoded data removed]",
      "text/plain": [
       "<Figure size 432x288 with 1 Axes>"
      ]
     },
     "metadata": {
      "needs_background": "light"
     },
     "output_type": "display_data"
    },
    {
     "name": "stdout",
     "output_type": "stream",
     "text": [
      "\n",
      "**************************************************\n",
      "\n"
     ]
    },
    {
     "data": {
      "image/png": "[encoded data removed]",
      "text/plain": [
       "<Figure size 576x432 with 1 Axes>"
      ]
     },
     "metadata": {
      "needs_background": "light"
     },
     "output_type": "display_data"
    },
    {
     "name": "stdout",
     "output_type": "stream",
     "text": [
      "\n",
      "**************************************************\n",
      "\n"
     ]
    }
   ],
   "source": [
    "for tr_idx, va_idx in StratifiedKFold(n_splits=cfg.n_splits, random_state=cfg.seed, shuffle=True).split(images, labels):\n",
    "    break\n",
    "\n",
    "tr_images, va_images, tr_labels, va_labels = images[tr_idx], images[va_idx], labels[tr_idx], labels[va_idx]\n",
    "\n",
    "tr_data_setup = DS(tr_images, tr_labels.reshape(-1, 1), cfg.transform)\n",
    "va_data_setup = DS(va_images, va_labels.reshape(-1, 1), cfg.transform)\n",
    "\n",
    "dataloaders = {\n",
    "    \"train\" : DL(tr_data_setup, batch_size=cfg.batch_size, shuffle=True, generator=torch.manual_seed(cfg.seed)),\n",
    "    \"valid\" : DL(va_data_setup, batch_size=cfg.batch_size, shuffle=False),\n",
    "}\n",
    "\n",
    "cfg = CFG(epochs=50, batch_size=64, steps_per_epoch=len(dataloaders[\"train\"]))\n",
    "\n",
    "torch.manual_seed(cfg.seed)\n",
    "model = Model().to(cfg.device)\n",
    "optimizer = optim.Adam([p for p in model.parameters() if p.requires_grad], lr=cfg.lr, weight_decay=cfg.wd)\n",
    "scheduler_oclr = optim.lr_scheduler.OneCycleLR(optimizer=optimizer, \n",
    "                                               max_lr=cfg.max_lr, \n",
    "                                               epochs=cfg.epochs, \n",
    "                                               steps_per_epoch=cfg.steps_per_epoch,\n",
    "                                               pct_start=cfg.pct_start, \n",
    "                                               div_factor=cfg.div_factor, \n",
    "                                               final_div_factor=cfg.final_div_factor)\n",
    "# scheduler_rlrop = optim.lr_scheduler.ReduceLROnPlateau(optimizer=optimizer,\n",
    "#                                                       patience=cfg.patience,\n",
    "#                                                       eps=cfg.eps,\n",
    "#                                                       verbose=True)\n",
    "\n",
    "# scheduler_oclr = None\n",
    "scheduler_rlrop = None\n",
    "\n",
    "L, A, LR, BLE, BAE, name = fit(model=model, \n",
    "                               optimizer=optimizer, \n",
    "                               scheduler_oclr=scheduler_oclr,\n",
    "                               scheduler_rlrop=scheduler_rlrop,\n",
    "                               epochs=cfg.epochs, \n",
    "                               early_stopping_patience=cfg.early_stopping, \n",
    "                               dataloaders=dataloaders, \n",
    "                               device=cfg.device,\n",
    "                               save_path=cfg.save_path,\n",
    "                               fold=None,\n",
    "                               verbose=True)\n",
    "\n",
    "breaker()\n",
    "show_loss_graphs(L)\n",
    "breaker()\n",
    "show_accuracy_graphs(A)\n",
    "breaker()\n",
    "\n",
    "if scheduler_oclr:\n",
    "    show_lr_graph(LR)\n",
    "    breaker()"
   ]
  }
 ],
 "metadata": {
  "kernelspec": {
   "display_name": "Python 3",
   "language": "python",
   "name": "python3"
  },
  "language_info": {
   "codemirror_mode": {
    "name": "ipython",
    "version": 3
   },
   "file_extension": ".py",
   "mimetype": "text/x-python",
   "name": "python",
   "nbconvert_exporter": "python",
   "pygments_lexer": "ipython3",
   "version": "3.7.12"
  },
  "papermill": {
   "default_parameters": {},
   "duration": 1297.838239,
   "end_time": "2022-06-13T21:57:30.217255",
   "environment_variables": {},
   "exception": null,
   "input_path": "__notebook__.ipynb",
   "output_path": "__notebook__.ipynb",
   "parameters": {},
   "start_time": "2022-06-13T21:35:52.379016",
   "version": "2.3.4"
  },
  "widgets": {
   "application/vnd.jupyter.widget-state+json": {
    "state": {
     "03ad042dec994c0b85164d43d906ff52": {
      "model_module": "@jupyter-widgets/controls",
      "model_module_version": "1.5.0",
      "model_name": "DescriptionStyleModel",
      "state": {
       "_model_module": "@jupyter-widgets/controls",
       "_model_module_version": "1.5.0",
       "_model_name": "DescriptionStyleModel",
       "_view_count": null,
       "_view_module": "@jupyter-widgets/base",
       "_view_module_version": "1.2.0",
       "_view_name": "StyleView",
       "description_width": ""
      }
     },
     "11a8f9ce191e49d2b66e2b2452ad0d81": {
      "model_module": "@jupyter-widgets/controls",
      "model_module_version": "1.5.0",
      "model_name": "DescriptionStyleModel",
      "state": {
       "_model_module": "@jupyter-widgets/controls",
       "_model_module_version": "1.5.0",
       "_model_name": "DescriptionStyleModel",
       "_view_count": null,
       "_view_module": "@jupyter-widgets/base",
       "_view_module_version": "1.2.0",
       "_view_name": "StyleView",
       "description_width": ""
      }
     },
     "278e7257949b45628090eb28ed1beafe": {
      "model_module": "@jupyter-widgets/controls",
      "model_module_version": "1.5.0",
      "model_name": "HBoxModel",
      "state": {
       "_dom_classes": [],
       "_model_module": "@jupyter-widgets/controls",
       "_model_module_version": "1.5.0",
       "_model_name": "HBoxModel",
       "_view_count": null,
       "_view_module": "@jupyter-widgets/controls",
       "_view_module_version": "1.5.0",
       "_view_name": "HBoxView",
       "box_style": "",
       "children": [
        "IPY_MODEL_733008c34c00437bb92bdeafd0bcaf4d",
        "IPY_MODEL_2f4cf2f0c20d47d19b73a30039a6992d",
        "IPY_MODEL_e0bf1549bec64eca803973e659993f75"
       ],
       "layout": "IPY_MODEL_d043c69051f742fca6056e6bddeaaf69"
      }
     },
     "2f4cf2f0c20d47d19b73a30039a6992d": {
      "model_module": "@jupyter-widgets/controls",
      "model_module_version": "1.5.0",
      "model_name": "FloatProgressModel",
      "state": {
       "_dom_classes": [],
       "_model_module": "@jupyter-widgets/controls",
       "_model_module_version": "1.5.0",
       "_model_name": "FloatProgressModel",
       "_view_count": null,
       "_view_module": "@jupyter-widgets/controls",
       "_view_module_version": "1.5.0",
       "_view_name": "ProgressView",
       "bar_style": "success",
       "description": "",
       "description_tooltip": null,
       "layout": "IPY_MODEL_deb5315289f04f3aa95604df9de22b40",
       "max": 102530333.0,
       "min": 0.0,
       "orientation": "horizontal",
       "style": "IPY_MODEL_a3d3757176254a26bf5eb38e466a6a6f",
       "value": 102530333.0
      }
     },
     "733008c34c00437bb92bdeafd0bcaf4d": {
      "model_module": "@jupyter-widgets/controls",
      "model_module_version": "1.5.0",
      "model_name": "HTMLModel",
      "state": {
       "_dom_classes": [],
       "_model_module": "@jupyter-widgets/controls",
       "_model_module_version": "1.5.0",
       "_model_name": "HTMLModel",
       "_view_count": null,
       "_view_module": "@jupyter-widgets/controls",
       "_view_module_version": "1.5.0",
       "_view_name": "HTMLView",
       "description": "",
       "description_tooltip": null,
       "layout": "IPY_MODEL_bbc08c0daab1428eaf7533bb27e1ad5b",
       "placeholder": "​",
       "style": "IPY_MODEL_11a8f9ce191e49d2b66e2b2452ad0d81",
       "value": "100%"
      }
     },
     "a3d3757176254a26bf5eb38e466a6a6f": {
      "model_module": "@jupyter-widgets/controls",
      "model_module_version": "1.5.0",
      "model_name": "ProgressStyleModel",
      "state": {
       "_model_module": "@jupyter-widgets/controls",
       "_model_module_version": "1.5.0",
       "_model_name": "ProgressStyleModel",
       "_view_count": null,
       "_view_module": "@jupyter-widgets/base",
       "_view_module_version": "1.2.0",
       "_view_name": "StyleView",
       "bar_color": null,
       "description_width": ""
      }
     },
     "ad8ffefbfd5a4f8990a06e1516e4958f": {
      "model_module": "@jupyter-widgets/base",
      "model_module_version": "1.2.0",
      "model_name": "LayoutModel",
      "state": {
       "_model_module": "@jupyter-widgets/base",
       "_model_module_version": "1.2.0",
       "_model_name": "LayoutModel",
       "_view_count": null,
       "_view_module": "@jupyter-widgets/base",
       "_view_module_version": "1.2.0",
       "_view_name": "LayoutView",
       "align_content": null,
       "align_items": null,
       "align_self": null,
       "border": null,
       "bottom": null,
       "display": null,
       "flex": null,
       "flex_flow": null,
       "grid_area": null,
       "grid_auto_columns": null,
       "grid_auto_flow": null,
       "grid_auto_rows": null,
       "grid_column": null,
       "grid_gap": null,
       "grid_row": null,
       "grid_template_areas": null,
       "grid_template_columns": null,
       "grid_template_rows": null,
       "height": null,
       "justify_content": null,
       "justify_items": null,
       "left": null,
       "margin": null,
       "max_height": null,
       "max_width": null,
       "min_height": null,
       "min_width": null,
       "object_fit": null,
       "object_position": null,
       "order": null,
       "overflow": null,
       "overflow_x": null,
       "overflow_y": null,
       "padding": null,
       "right": null,
       "top": null,
       "visibility": null,
       "width": null
      }
     },
     "bbc08c0daab1428eaf7533bb27e1ad5b": {
      "model_module": "@jupyter-widgets/base",
      "model_module_version": "1.2.0",
      "model_name": "LayoutModel",
      "state": {
       "_model_module": "@jupyter-widgets/base",
       "_model_module_version": "1.2.0",
       "_model_name": "LayoutModel",
       "_view_count": null,
       "_view_module": "@jupyter-widgets/base",
       "_view_module_version": "1.2.0",
       "_view_name": "LayoutView",
       "align_content": null,
       "align_items": null,
       "align_self": null,
       "border": null,
       "bottom": null,
       "display": null,
       "flex": null,
       "flex_flow": null,
       "grid_area": null,
       "grid_auto_columns": null,
       "grid_auto_flow": null,
       "grid_auto_rows": null,
       "grid_column": null,
       "grid_gap": null,
       "grid_row": null,
       "grid_template_areas": null,
       "grid_template_columns": null,
       "grid_template_rows": null,
       "height": null,
       "justify_content": null,
       "justify_items": null,
       "left": null,
       "margin": null,
       "max_height": null,
       "max_width": null,
       "min_height": null,
       "min_width": null,
       "object_fit": null,
       "object_position": null,
       "order": null,
       "overflow": null,
       "overflow_x": null,
       "overflow_y": null,
       "padding": null,
       "right": null,
       "top": null,
       "visibility": null,
       "width": null
      }
     },
     "d043c69051f742fca6056e6bddeaaf69": {
      "model_module": "@jupyter-widgets/base",
      "model_module_version": "1.2.0",
      "model_name": "LayoutModel",
      "state": {
       "_model_module": "@jupyter-widgets/base",
       "_model_module_version": "1.2.0",
       "_model_name": "LayoutModel",
       "_view_count": null,
       "_view_module": "@jupyter-widgets/base",
       "_view_module_version": "1.2.0",
       "_view_name": "LayoutView",
       "align_content": null,
       "align_items": null,
       "align_self": null,
       "border": null,
       "bottom": null,
       "display": null,
       "flex": null,
       "flex_flow": null,
       "grid_area": null,
       "grid_auto_columns": null,
       "grid_auto_flow": null,
       "grid_auto_rows": null,
       "grid_column": null,
       "grid_gap": null,
       "grid_row": null,
       "grid_template_areas": null,
       "grid_template_columns": null,
       "grid_template_rows": null,
       "height": null,
       "justify_content": null,
       "justify_items": null,
       "left": null,
       "margin": null,
       "max_height": null,
       "max_width": null,
       "min_height": null,
       "min_width": null,
       "object_fit": null,
       "object_position": null,
       "order": null,
       "overflow": null,
       "overflow_x": null,
       "overflow_y": null,
       "padding": null,
       "right": null,
       "top": null,
       "visibility": null,
       "width": null
      }
     },
     "deb5315289f04f3aa95604df9de22b40": {
      "model_module": "@jupyter-widgets/base",
      "model_module_version": "1.2.0",
      "model_name": "LayoutModel",
      "state": {
       "_model_module": "@jupyter-widgets/base",
       "_model_module_version": "1.2.0",
       "_model_name": "LayoutModel",
       "_view_count": null,
       "_view_module": "@jupyter-widgets/base",
       "_view_module_version": "1.2.0",
       "_view_name": "LayoutView",
       "align_content": null,
       "align_items": null,
       "align_self": null,
       "border": null,
       "bottom": null,
       "display": null,
       "flex": null,
       "flex_flow": null,
       "grid_area": null,
       "grid_auto_columns": null,
       "grid_auto_flow": null,
       "grid_auto_rows": null,
       "grid_column": null,
       "grid_gap": null,
       "grid_row": null,
       "grid_template_areas": null,
       "grid_template_columns": null,
       "grid_template_rows": null,
       "height": null,
       "justify_content": null,
       "justify_items": null,
       "left": null,
       "margin": null,
       "max_height": null,
       "max_width": null,
       "min_height": null,
       "min_width": null,
       "object_fit": null,
       "object_position": null,
       "order": null,
       "overflow": null,
       "overflow_x": null,
       "overflow_y": null,
       "padding": null,
       "right": null,
       "top": null,
       "visibility": null,
       "width": null
      }
     },
     "e0bf1549bec64eca803973e659993f75": {
      "model_module": "@jupyter-widgets/controls",
      "model_module_version": "1.5.0",
      "model_name": "HTMLModel",
      "state": {
       "_dom_classes": [],
       "_model_module": "@jupyter-widgets/controls",
       "_model_module_version": "1.5.0",
       "_model_name": "HTMLModel",
       "_view_count": null,
       "_view_module": "@jupyter-widgets/controls",
       "_view_module_version": "1.5.0",
       "_view_name": "HTMLView",
       "description": "",
       "description_tooltip": null,
       "layout": "IPY_MODEL_ad8ffefbfd5a4f8990a06e1516e4958f",
       "placeholder": "​",
       "style": "IPY_MODEL_03ad042dec994c0b85164d43d906ff52",
       "value": " 97.8M/97.8M [00:05&lt;00:00, 23.9MB/s]"
      }
     }
    },
    "version_major": 2,
    "version_minor": 0
   }
  }
 },
 "nbformat": 4,
 "nbformat_minor": 5
}
