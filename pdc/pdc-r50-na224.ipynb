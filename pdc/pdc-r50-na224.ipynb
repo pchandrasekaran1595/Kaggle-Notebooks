{
 "cells": [
  {
   "cell_type": "markdown",
   "id": "b16cbfab",
   "metadata": {
    "_cell_guid": "b1076dfc-b9ad-4769-8c92-a6c4dae69d19",
    "_uuid": "8f2839f25d086af736a60e9eeb907d3b93b6e0e5",
    "papermill": {
     "duration": 0.006026,
     "end_time": "2022-06-14T05:09:23.081380",
     "exception": false,
     "start_time": "2022-06-14T05:09:23.075354",
     "status": "completed"
    },
    "tags": []
   },
   "source": [
    "### **Library Imports**"
   ]
  },
  {
   "cell_type": "code",
   "execution_count": 1,
   "id": "b1e26ac4",
   "metadata": {
    "execution": {
     "iopub.execute_input": "2022-06-14T05:09:23.091228Z",
     "iopub.status.busy": "2022-06-14T05:09:23.090504Z",
     "iopub.status.idle": "2022-06-14T05:09:26.110523Z",
     "shell.execute_reply": "2022-06-14T05:09:26.109745Z"
    },
    "papermill": {
     "duration": 3.027225,
     "end_time": "2022-06-14T05:09:26.112670",
     "exception": false,
     "start_time": "2022-06-14T05:09:23.085445",
     "status": "completed"
    },
    "tags": []
   },
   "outputs": [],
   "source": [
    "import os\n",
    "import re\n",
    "import torch\n",
    "import numpy as np\n",
    "import pandas as pd\n",
    "import matplotlib.pyplot as plt\n",
    "\n",
    "from time import time\n",
    "from torch import nn, optim\n",
    "from torch.utils.data import Dataset\n",
    "from torch.utils.data import DataLoader as DL\n",
    "from torchvision import models, transforms\n",
    "\n",
    "from sklearn.model_selection import StratifiedKFold\n",
    "from sklearn.preprocessing import LabelEncoder\n",
    "from sklearn.metrics import accuracy_score"
   ]
  },
  {
   "cell_type": "markdown",
   "id": "5b98bdec",
   "metadata": {
    "papermill": {
     "duration": 0.003442,
     "end_time": "2022-06-14T05:09:26.120285",
     "exception": false,
     "start_time": "2022-06-14T05:09:26.116843",
     "status": "completed"
    },
    "tags": []
   },
   "source": [
    "### **Utilities and Helpers**"
   ]
  },
  {
   "cell_type": "code",
   "execution_count": 2,
   "id": "c364ee27",
   "metadata": {
    "execution": {
     "iopub.execute_input": "2022-06-14T05:09:26.129716Z",
     "iopub.status.busy": "2022-06-14T05:09:26.128893Z",
     "iopub.status.idle": "2022-06-14T05:09:26.140811Z",
     "shell.execute_reply": "2022-06-14T05:09:26.139957Z"
    },
    "papermill": {
     "duration": 0.01832,
     "end_time": "2022-06-14T05:09:26.142423",
     "exception": false,
     "start_time": "2022-06-14T05:09:26.124103",
     "status": "completed"
    },
    "tags": []
   },
   "outputs": [],
   "source": [
    "SEED = 42\n",
    "SIZE = 224\n",
    "le = LabelEncoder()\n",
    "\n",
    "\n",
    "def breaker(num: int=50, char: str=\"*\") -> None:\n",
    "    print(\"\\n\" + num*char + \"\\n\")\n",
    "\n",
    "    \n",
    "def show_loss_graphs(A: list) -> None:\n",
    "    TL, VL = [], []\n",
    "    for i in range(len(L)):\n",
    "        TL.append(L[i][\"train\"])\n",
    "        VL.append(L[i][\"valid\"])\n",
    "    x_Axis = np.arange(1, len(TL) + 1)\n",
    "    plt.figure()\n",
    "    plt.plot(x_Axis, TL, \"r\", label=\"Train\")\n",
    "    plt.plot(x_Axis, VL, \"b\", label=\"Valid\")\n",
    "    plt.legend()\n",
    "    plt.grid()\n",
    "    plt.title(\"Loss Graph\")\n",
    "    plt.show()\n",
    "\n",
    "    \n",
    "def show_accuracy_graphs(A: list) -> None:\n",
    "    TA, VA = [], []\n",
    "    for i in range(len(L)):\n",
    "        TA.append(A[i][\"train\"])\n",
    "        VA.append(A[i][\"valid\"])\n",
    "    x_Axis = np.arange(1, len(TA) + 1)\n",
    "    plt.figure()\n",
    "    plt.plot(x_Axis, TA, \"r\", label=\"Train\")\n",
    "    plt.plot(x_Axis, VA, \"b\", label=\"Valid\")\n",
    "    plt.legend()\n",
    "    plt.grid()\n",
    "    plt.title(\"Accuracy Graph\")\n",
    "    plt.show()\n",
    "\n",
    "\n",
    "def show_lr_graph(LR: list) -> None:\n",
    "    x_Axis = [i+1 for i in range(len(LR))]\n",
    "    plt.figure(figsize=(8, 6))\n",
    "    plt.plot(x_Axis, LR, \"rx\")\n",
    "    plt.grid()\n",
    "    plt.show()"
   ]
  },
  {
   "cell_type": "markdown",
   "id": "2dee881a",
   "metadata": {
    "papermill": {
     "duration": 0.003345,
     "end_time": "2022-06-14T05:09:26.149329",
     "exception": false,
     "start_time": "2022-06-14T05:09:26.145984",
     "status": "completed"
    },
    "tags": []
   },
   "source": [
    "### **Configuration**"
   ]
  },
  {
   "cell_type": "code",
   "execution_count": 3,
   "id": "1e00bf03",
   "metadata": {
    "execution": {
     "iopub.execute_input": "2022-06-14T05:09:26.158104Z",
     "iopub.status.busy": "2022-06-14T05:09:26.157245Z",
     "iopub.status.idle": "2022-06-14T05:09:26.218849Z",
     "shell.execute_reply": "2022-06-14T05:09:26.218100Z"
    },
    "papermill": {
     "duration": 0.067929,
     "end_time": "2022-06-14T05:09:26.220816",
     "exception": false,
     "start_time": "2022-06-14T05:09:26.152887",
     "status": "completed"
    },
    "tags": []
   },
   "outputs": [],
   "source": [
    "class CFG(object):\n",
    "    def __init__(self, \n",
    "                 seed: int = 42,\n",
    "                 n_splits: int = 5,\n",
    "                 batch_size: int = 16,\n",
    "                 epochs: int = 25,\n",
    "                 early_stopping: int = 5,\n",
    "                 lr: float = 1e-4,\n",
    "                 wd: float = 0.0,\n",
    "                 max_lr: float = 1e-3,\n",
    "                 pct_start: float = 0.2,\n",
    "                 steps_per_epoch: int = 100,\n",
    "                 div_factor: int = 1e3, \n",
    "                 final_div_factor: float = 1e3,\n",
    "                 ):\n",
    "        \n",
    "        self.seed = seed\n",
    "        self.n_splits = n_splits\n",
    "        self.batch_size = batch_size\n",
    "        self.epochs = epochs\n",
    "        self.early_stopping = early_stopping\n",
    "        self.lr = lr\n",
    "        self.wd = wd\n",
    "        self.max_lr = max_lr\n",
    "        self.pct_start = pct_start\n",
    "        self.steps_per_epoch = steps_per_epoch\n",
    "        self.div_factor = div_factor\n",
    "        self.final_div_factor = final_div_factor\n",
    "        self.device = torch.device(\"cuda\" if torch.cuda.is_available() else \"cpu\")\n",
    "        self.transform = transforms.Compose([transforms.ToTensor(),\n",
    "                                transforms.Normalize([0.485, 0.456, 0.406],\n",
    "                                                     [0.229, 0.224, 0.225]),\n",
    "                                ])\n",
    "        self.save_path = \"saves\"\n",
    "        if not os.path.exists(self.save_path): os.makedirs(self.save_path)\n",
    "    \n",
    "cfg = CFG(seed=SEED)"
   ]
  },
  {
   "cell_type": "markdown",
   "id": "cd0a0bb0",
   "metadata": {
    "papermill": {
     "duration": 0.00343,
     "end_time": "2022-06-14T05:09:26.227993",
     "exception": false,
     "start_time": "2022-06-14T05:09:26.224563",
     "status": "completed"
    },
    "tags": []
   },
   "source": [
    "### **Dataset Template**"
   ]
  },
  {
   "cell_type": "code",
   "execution_count": 4,
   "id": "e3e3e50c",
   "metadata": {
    "execution": {
     "iopub.execute_input": "2022-06-14T05:09:26.236352Z",
     "iopub.status.busy": "2022-06-14T05:09:26.235962Z",
     "iopub.status.idle": "2022-06-14T05:09:26.242324Z",
     "shell.execute_reply": "2022-06-14T05:09:26.241493Z"
    },
    "papermill": {
     "duration": 0.012359,
     "end_time": "2022-06-14T05:09:26.243909",
     "exception": false,
     "start_time": "2022-06-14T05:09:26.231550",
     "status": "completed"
    },
    "tags": []
   },
   "outputs": [],
   "source": [
    "class DS(Dataset):\n",
    "    def __init__(self, images: np.ndarray, labels: np.ndarray = None, transform=None):\n",
    "        self.images = images\n",
    "        self.labels = labels\n",
    "        self.transform = transform\n",
    "    \n",
    "    def __len__(self):\n",
    "        return self.images.shape[0]\n",
    "    \n",
    "    def __getitem__(self, idx):\n",
    "        if self.labels is not None:\n",
    "            return self.transform(self.images[idx]), torch.LongTensor(self.labels[idx])\n",
    "        else:\n",
    "            return self.transform(self.images[idx])"
   ]
  },
  {
   "cell_type": "markdown",
   "id": "2461429d",
   "metadata": {
    "papermill": {
     "duration": 0.003406,
     "end_time": "2022-06-14T05:09:26.250940",
     "exception": false,
     "start_time": "2022-06-14T05:09:26.247534",
     "status": "completed"
    },
    "tags": []
   },
   "source": [
    "### **Model**"
   ]
  },
  {
   "cell_type": "code",
   "execution_count": 5,
   "id": "f964f22a",
   "metadata": {
    "execution": {
     "iopub.execute_input": "2022-06-14T05:09:26.259262Z",
     "iopub.status.busy": "2022-06-14T05:09:26.258789Z",
     "iopub.status.idle": "2022-06-14T05:09:26.264807Z",
     "shell.execute_reply": "2022-06-14T05:09:26.264138Z"
    },
    "papermill": {
     "duration": 0.011962,
     "end_time": "2022-06-14T05:09:26.266454",
     "exception": false,
     "start_time": "2022-06-14T05:09:26.254492",
     "status": "completed"
    },
    "tags": []
   },
   "outputs": [],
   "source": [
    "class Model(nn.Module):\n",
    "    def __init__(self):\n",
    "        super(Model, self).__init__()\n",
    "\n",
    "        self.model = models.resnet50(pretrained=True, progress=True)\n",
    "        self.freeze()\n",
    "        self.model.fc = nn.Linear(in_features=self.model.fc.in_features, out_features=10)\n",
    "    \n",
    "    def freeze(self):\n",
    "        for params in self.parameters(): params.requires_grad = False\n",
    "\n",
    "    def forward(self, x):\n",
    "        return nn.LogSoftmax(dim=1)(self.model(x))"
   ]
  },
  {
   "cell_type": "markdown",
   "id": "dc54f151",
   "metadata": {
    "papermill": {
     "duration": 0.003541,
     "end_time": "2022-06-14T05:09:26.273526",
     "exception": false,
     "start_time": "2022-06-14T05:09:26.269985",
     "status": "completed"
    },
    "tags": []
   },
   "source": [
    "### **Fit and Predict Helpers**"
   ]
  },
  {
   "cell_type": "code",
   "execution_count": 6,
   "id": "68fd533a",
   "metadata": {
    "execution": {
     "iopub.execute_input": "2022-06-14T05:09:26.282006Z",
     "iopub.status.busy": "2022-06-14T05:09:26.281717Z",
     "iopub.status.idle": "2022-06-14T05:09:26.306590Z",
     "shell.execute_reply": "2022-06-14T05:09:26.305824Z"
    },
    "papermill": {
     "duration": 0.031063,
     "end_time": "2022-06-14T05:09:26.308194",
     "exception": false,
     "start_time": "2022-06-14T05:09:26.277131",
     "status": "completed"
    },
    "tags": []
   },
   "outputs": [],
   "source": [
    "def fit(model=None, \n",
    "        optimizer=None, \n",
    "        scheduler_rlrop=None,\n",
    "        scheduler_oclr=None,\n",
    "        epochs=None, \n",
    "        early_stopping_patience=None, \n",
    "        dataloaders=None, \n",
    "        fold=None, \n",
    "        save_path=None,\n",
    "        device=None,\n",
    "        verbose=False) -> tuple:\n",
    "    \n",
    "    def get_accuracy(y_pred, y_true):\n",
    "        y_pred = torch.argmax(y_pred, dim=1)\n",
    "        return torch.count_nonzero(y_pred == y_true).item() / len(y_pred)\n",
    "    \n",
    "    if verbose:\n",
    "        breaker()\n",
    "        if fold: print(f\"Training Fold {fold}...\")\n",
    "        else: print(\"Training ...\")\n",
    "        breaker()\n",
    "        \n",
    "    bestLoss, bestAccs = {\"train\" : np.inf, \"valid\" : np.inf}, {\"train\" : 0.0, \"valid\" : 0.0}\n",
    "    Losses, Accuracies, LRs = [], [], []\n",
    "    if fold: name = f\"state_fold_{fold}.pt\"\n",
    "    else: name = \"state.pt\"\n",
    "\n",
    "    start_time = time()\n",
    "    for e in range(epochs):\n",
    "        e_st = time()\n",
    "        epochLoss, epochAccs = {\"train\" : 0.0, \"valid\" : 0.0}, {\"train\" : 0.0, \"valid\" : 0.0}\n",
    "\n",
    "        for phase in [\"train\", \"valid\"]:\n",
    "            if phase == \"train\":\n",
    "                model.train()\n",
    "            else:\n",
    "                model.eval()\n",
    "            \n",
    "            lossPerPass, accsPerPass = [], []\n",
    "\n",
    "            for X, y in dataloaders[phase]:\n",
    "                X, y = X.to(device), y.to(device).view(-1)\n",
    "\n",
    "                optimizer.zero_grad()\n",
    "                with torch.set_grad_enabled(phase == \"train\"):\n",
    "                    output = model(X)\n",
    "                    loss = torch.nn.NLLLoss()(output, y)\n",
    "                    if phase == \"train\":\n",
    "                        loss.backward()\n",
    "                        optimizer.step()\n",
    "                        if scheduler_oclr: scheduler_oclr.step()\n",
    "                lossPerPass.append(loss.item())\n",
    "                accsPerPass.append(get_accuracy(output, y))\n",
    "            epochLoss[phase] = np.mean(np.array(lossPerPass))\n",
    "            epochAccs[phase] = np.mean(np.array(accsPerPass))\n",
    "        if scheduler_oclr: LRs.append(scheduler_oclr.get_last_lr())\n",
    "        Losses.append(epochLoss)\n",
    "        Accuracies.append(epochAccs)\n",
    "        \n",
    "        if scheduler_oclr:\n",
    "            save_dict = {\"model_state_dict\"     : model.state_dict(),\n",
    "                         \"optim_state_dict\"     : optimizer.state_dict(),\n",
    "                         \"scheduler_state_dict\" : scheduler_oclr.state_dict()}\n",
    "        \n",
    "        elif scheduler_rlrop:\n",
    "            save_dict = {\"model_state_dict\"     : model.state_dict(),\n",
    "                         \"optim_state_dict\"     : optimizer.state_dict(),\n",
    "                         \"scheduler_state_dict\" : scheduler_rlrop.state_dict()}\n",
    "        \n",
    "        else:\n",
    "            save_dict = {\"model_state_dict\"     : model.state_dict(),\n",
    "                         \"optim_state_dict\"     : optimizer.state_dict()}\n",
    "        \n",
    "        if early_stopping_patience:\n",
    "            if epochLoss[\"valid\"] < bestLoss[\"valid\"]:\n",
    "                bestLoss = epochLoss\n",
    "                BLE = e + 1\n",
    "                torch.save(save_dict, os.path.join(save_path, name))\n",
    "                early_stopping_step = 0\n",
    "            else:\n",
    "                early_stopping_step += 1\n",
    "                if early_stopping_step > early_stopping_patience:\n",
    "                    print(\"\\nEarly Stopping at Epoch {}\".format(e + 1))\n",
    "                    break\n",
    "        \n",
    "        if epochLoss[\"valid\"] < bestLoss[\"valid\"]:\n",
    "            bestLoss = epochLoss\n",
    "            BLE = e + 1\n",
    "            torch.save(save_dict,os.path.join(save_path, name))\n",
    "        \n",
    "        if epochAccs[\"valid\"] > bestAccs[\"valid\"]:\n",
    "            bestAccs = epochAccs\n",
    "            BAE = e + 1\n",
    "        \n",
    "        if scheduler_rlrop: scheduler_rlrop.step(epochLoss[\"valid\"])\n",
    "        \n",
    "        if verbose:\n",
    "            print(\"Epoch: {} | Train Loss: {:.5f} | Valid Loss: {:.5f} |\\\n",
    "Train Accs: {:.5f} | Valid Accs: {:.5f} | Time: {:.2f} seconds\".format(e+1, \n",
    "                                                                       epochLoss[\"train\"], epochLoss[\"valid\"], \n",
    "                                                                       epochAccs[\"train\"], epochAccs[\"valid\"], \n",
    "                                                                       time()-e_st))\n",
    "\n",
    "    if verbose:                                           \n",
    "        breaker()\n",
    "        print(f\"Best Validation Loss at Epoch {BLE}\")\n",
    "        breaker()\n",
    "        print(f\"Best Validation Accs at Epoch {BAE}\")\n",
    "        breaker()\n",
    "        print(\"Time Taken [{} Epochs] : {:.2f} minutes\".format(len(Losses), (time()-start_time)/60))\n",
    "    \n",
    "    return Losses, Accuracies, LRs, BLE, BAE, name\n",
    "\n",
    "\n",
    "def predict_batch(model=None, dataloader=None, path=None, device=None) -> np.ndarray:\n",
    "    model.load_state_dict(torch.load(path, map_location=device)[\"model_state_dict\"])\n",
    "    model.to(device)    \n",
    "    model.eval()\n",
    "    \n",
    "    y_pred = torch.zeros(1, 1).to(device)\n",
    "    \n",
    "    for X in dataloader:\n",
    "        X = X.to(device)\n",
    "        with torch.no_grad():\n",
    "            output = torch.argmax(torch.exp(model(X)), dim=1)\n",
    "        y_pred = torch.cat((y_pred, output.view(-1, 1)), dim=0)\n",
    "    \n",
    "    return y_pred[1:].detach().cpu().numpy()"
   ]
  },
  {
   "cell_type": "markdown",
   "id": "67b08ee8",
   "metadata": {
    "papermill": {
     "duration": 0.003696,
     "end_time": "2022-06-14T05:09:26.315448",
     "exception": false,
     "start_time": "2022-06-14T05:09:26.311752",
     "status": "completed"
    },
    "tags": []
   },
   "source": [
    "### **Train**"
   ]
  },
  {
   "cell_type": "code",
   "execution_count": 7,
   "id": "692414b8",
   "metadata": {
    "execution": {
     "iopub.execute_input": "2022-06-14T05:09:26.324200Z",
     "iopub.status.busy": "2022-06-14T05:09:26.323651Z",
     "iopub.status.idle": "2022-06-14T05:09:38.103688Z",
     "shell.execute_reply": "2022-06-14T05:09:38.102944Z"
    },
    "papermill": {
     "duration": 11.786452,
     "end_time": "2022-06-14T05:09:38.105854",
     "exception": false,
     "start_time": "2022-06-14T05:09:26.319402",
     "status": "completed"
    },
    "tags": []
   },
   "outputs": [],
   "source": [
    "images = np.load(f\"../input/pdc-images-{SIZE}/images-{SIZE}.npy\")\n",
    "df = pd.read_csv(\"../input/paddy-disease-classification/train.csv\")\n",
    "labels = df.label.copy().values\n",
    "labels = le.fit_transform(labels)"
   ]
  },
  {
   "cell_type": "code",
   "execution_count": 8,
   "id": "ceb8f55b",
   "metadata": {
    "execution": {
     "iopub.execute_input": "2022-06-14T05:09:38.115617Z",
     "iopub.status.busy": "2022-06-14T05:09:38.114789Z",
     "iopub.status.idle": "2022-06-14T05:30:55.430805Z",
     "shell.execute_reply": "2022-06-14T05:30:55.429561Z"
    },
    "papermill": {
     "duration": 1277.322749,
     "end_time": "2022-06-14T05:30:55.432543",
     "exception": false,
     "start_time": "2022-06-14T05:09:38.109794",
     "status": "completed"
    },
    "tags": []
   },
   "outputs": [
    {
     "name": "stderr",
     "output_type": "stream",
     "text": [
      "Downloading: \"https://download.pytorch.org/models/resnet50-0676ba61.pth\" to /root/.cache/torch/hub/checkpoints/resnet50-0676ba61.pth\n"
     ]
    },
    {
     "data": {
      "application/vnd.jupyter.widget-view+json": {
       "model_id": "023b6fe2652242cf865f801624c0ee94",
       "version_major": 2,
       "version_minor": 0
      },
      "text/plain": [
       "  0%|          | 0.00/97.8M [00:00<?, ?B/s]"
      ]
     },
     "metadata": {},
     "output_type": "display_data"
    },
    {
     "name": "stdout",
     "output_type": "stream",
     "text": [
      "\n",
      "**************************************************\n",
      "\n",
      "Training ...\n",
      "\n",
      "**************************************************\n",
      "\n",
      "Epoch: 1 | Train Loss: 2.28997 | Valid Loss: 2.16986 |Train Accs: 0.14839 | Valid Accs: 0.21565 | Time: 33.60 seconds\n",
      "Epoch: 2 | Train Loss: 2.11720 | Valid Loss: 2.05529 |Train Accs: 0.25535 | Valid Accs: 0.31775 | Time: 27.16 seconds\n",
      "Epoch: 3 | Train Loss: 1.97901 | Valid Loss: 1.87097 |Train Accs: 0.34779 | Valid Accs: 0.39122 | Time: 27.05 seconds\n",
      "Epoch: 4 | Train Loss: 1.78627 | Valid Loss: 1.66504 |Train Accs: 0.42255 | Valid Accs: 0.46469 | Time: 27.16 seconds\n",
      "Epoch: 5 | Train Loss: 1.60299 | Valid Loss: 1.49023 |Train Accs: 0.48712 | Valid Accs: 0.51765 | Time: 27.35 seconds\n",
      "Epoch: 6 | Train Loss: 1.45526 | Valid Loss: 1.34515 |Train Accs: 0.53556 | Valid Accs: 0.57920 | Time: 26.06 seconds\n",
      "Epoch: 7 | Train Loss: 1.33002 | Valid Loss: 1.20761 |Train Accs: 0.57781 | Valid Accs: 0.61355 | Time: 26.25 seconds\n",
      "Epoch: 8 | Train Loss: 1.23480 | Valid Loss: 1.14073 |Train Accs: 0.60374 | Valid Accs: 0.62309 | Time: 26.21 seconds\n",
      "Epoch: 9 | Train Loss: 1.16643 | Valid Loss: 1.15383 |Train Accs: 0.61881 | Valid Accs: 0.60687 | Time: 25.84 seconds\n",
      "Epoch: 10 | Train Loss: 1.11919 | Valid Loss: 1.05213 |Train Accs: 0.63512 | Valid Accs: 0.64647 | Time: 26.28 seconds\n",
      "Epoch: 11 | Train Loss: 1.06669 | Valid Loss: 1.00765 |Train Accs: 0.64578 | Valid Accs: 0.66078 | Time: 26.62 seconds\n",
      "Epoch: 12 | Train Loss: 1.03822 | Valid Loss: 1.00227 |Train Accs: 0.65696 | Valid Accs: 0.66365 | Time: 26.90 seconds\n",
      "Epoch: 13 | Train Loss: 1.01447 | Valid Loss: 0.95416 |Train Accs: 0.66094 | Valid Accs: 0.68607 | Time: 27.75 seconds\n",
      "Epoch: 14 | Train Loss: 0.99464 | Valid Loss: 1.03434 |Train Accs: 0.66416 | Valid Accs: 0.65219 | Time: 27.14 seconds\n",
      "Epoch: 15 | Train Loss: 0.96963 | Valid Loss: 0.96611 |Train Accs: 0.67740 | Valid Accs: 0.67748 | Time: 27.40 seconds\n",
      "Epoch: 16 | Train Loss: 0.94442 | Valid Loss: 0.95981 |Train Accs: 0.68620 | Valid Accs: 0.68034 | Time: 27.43 seconds\n",
      "Epoch: 17 | Train Loss: 0.94451 | Valid Loss: 0.92550 |Train Accs: 0.68575 | Valid Accs: 0.68798 | Time: 27.58 seconds\n",
      "Epoch: 18 | Train Loss: 0.92255 | Valid Loss: 0.94891 |Train Accs: 0.68937 | Valid Accs: 0.67987 | Time: 27.33 seconds\n",
      "Epoch: 19 | Train Loss: 0.90120 | Valid Loss: 1.04693 |Train Accs: 0.69777 | Valid Accs: 0.67176 | Time: 26.88 seconds\n",
      "Epoch: 20 | Train Loss: 0.87172 | Valid Loss: 0.84947 |Train Accs: 0.71120 | Valid Accs: 0.72424 | Time: 26.98 seconds\n",
      "Epoch: 21 | Train Loss: 0.85804 | Valid Loss: 0.90131 |Train Accs: 0.71771 | Valid Accs: 0.70181 | Time: 26.79 seconds\n",
      "Epoch: 22 | Train Loss: 0.84458 | Valid Loss: 0.87841 |Train Accs: 0.71951 | Valid Accs: 0.70992 | Time: 26.64 seconds\n",
      "Epoch: 23 | Train Loss: 0.81706 | Valid Loss: 0.81405 |Train Accs: 0.72363 | Valid Accs: 0.73235 | Time: 26.94 seconds\n",
      "Epoch: 24 | Train Loss: 0.79184 | Valid Loss: 0.79545 |Train Accs: 0.73678 | Valid Accs: 0.73712 | Time: 27.07 seconds\n",
      "Epoch: 25 | Train Loss: 0.79874 | Valid Loss: 0.83010 |Train Accs: 0.73289 | Valid Accs: 0.72662 | Time: 26.77 seconds\n",
      "Epoch: 26 | Train Loss: 0.78733 | Valid Loss: 0.79960 |Train Accs: 0.73680 | Valid Accs: 0.73569 | Time: 26.85 seconds\n",
      "Epoch: 27 | Train Loss: 0.78470 | Valid Loss: 0.79685 |Train Accs: 0.73630 | Valid Accs: 0.73187 | Time: 26.70 seconds\n",
      "Epoch: 28 | Train Loss: 0.77986 | Valid Loss: 0.80523 |Train Accs: 0.73460 | Valid Accs: 0.73282 | Time: 26.76 seconds\n",
      "Epoch: 29 | Train Loss: 0.73689 | Valid Loss: 0.77399 |Train Accs: 0.75118 | Valid Accs: 0.74427 | Time: 26.86 seconds\n",
      "Epoch: 30 | Train Loss: 0.73599 | Valid Loss: 0.73531 |Train Accs: 0.75101 | Valid Accs: 0.76050 | Time: 26.97 seconds\n",
      "Epoch: 31 | Train Loss: 0.72506 | Valid Loss: 0.75589 |Train Accs: 0.76012 | Valid Accs: 0.75000 | Time: 26.73 seconds\n",
      "Epoch: 32 | Train Loss: 0.72360 | Valid Loss: 0.73898 |Train Accs: 0.75139 | Valid Accs: 0.75525 | Time: 26.70 seconds\n",
      "Epoch: 33 | Train Loss: 0.70937 | Valid Loss: 0.73306 |Train Accs: 0.75511 | Valid Accs: 0.75906 | Time: 27.02 seconds\n",
      "Epoch: 34 | Train Loss: 0.69282 | Valid Loss: 0.75263 |Train Accs: 0.76924 | Valid Accs: 0.75382 | Time: 26.54 seconds\n",
      "Epoch: 35 | Train Loss: 0.68674 | Valid Loss: 0.76385 |Train Accs: 0.77018 | Valid Accs: 0.74571 | Time: 26.79 seconds\n",
      "Epoch: 36 | Train Loss: 0.68859 | Valid Loss: 0.74586 |Train Accs: 0.76682 | Valid Accs: 0.75239 | Time: 26.84 seconds\n",
      "Epoch: 37 | Train Loss: 0.67192 | Valid Loss: 0.71388 |Train Accs: 0.77416 | Valid Accs: 0.76956 | Time: 26.91 seconds\n",
      "Epoch: 38 | Train Loss: 0.66243 | Valid Loss: 0.68695 |Train Accs: 0.78186 | Valid Accs: 0.77052 | Time: 27.31 seconds\n",
      "Epoch: 39 | Train Loss: 0.66736 | Valid Loss: 0.78095 |Train Accs: 0.77421 | Valid Accs: 0.74571 | Time: 26.60 seconds\n",
      "Epoch: 40 | Train Loss: 0.64266 | Valid Loss: 0.68937 |Train Accs: 0.78488 | Valid Accs: 0.77672 | Time: 26.98 seconds\n",
      "Epoch: 41 | Train Loss: 0.63526 | Valid Loss: 0.68472 |Train Accs: 0.78369 | Valid Accs: 0.77624 | Time: 27.07 seconds\n",
      "Epoch: 42 | Train Loss: 0.64519 | Valid Loss: 0.69625 |Train Accs: 0.77802 | Valid Accs: 0.77338 | Time: 26.90 seconds\n",
      "Epoch: 43 | Train Loss: 0.60631 | Valid Loss: 0.69611 |Train Accs: 0.80106 | Valid Accs: 0.77099 | Time: 26.59 seconds\n",
      "Epoch: 44 | Train Loss: 0.62587 | Valid Loss: 0.74037 |Train Accs: 0.78810 | Valid Accs: 0.76240 | Time: 26.81 seconds\n",
      "Epoch: 45 | Train Loss: 0.61619 | Valid Loss: 0.69266 |Train Accs: 0.79134 | Valid Accs: 0.77767 | Time: 26.54 seconds\n",
      "Epoch: 46 | Train Loss: 0.60720 | Valid Loss: 0.73579 |Train Accs: 0.79998 | Valid Accs: 0.76050 | Time: 26.64 seconds\n",
      "\n",
      "Early Stopping at Epoch 47\n",
      "\n",
      "**************************************************\n",
      "\n",
      "Best Validation Loss at Epoch 41\n",
      "\n",
      "**************************************************\n",
      "\n",
      "Best Validation Accs at Epoch 45\n",
      "\n",
      "**************************************************\n",
      "\n",
      "Time Taken [47 Epochs] : 21.15 minutes\n",
      "\n",
      "**************************************************\n",
      "\n"
     ]
    },
    {
     "data": {
      "image/png": "[encoded data removed]",
      "text/plain": [
       "<Figure size 432x288 with 1 Axes>"
      ]
     },
     "metadata": {
      "needs_background": "light"
     },
     "output_type": "display_data"
    },
    {
     "name": "stdout",
     "output_type": "stream",
     "text": [
      "\n",
      "**************************************************\n",
      "\n"
     ]
    },
    {
     "data": {
      "image/png": "[encoded data removed]",
      "text/plain": [
       "<Figure size 432x288 with 1 Axes>"
      ]
     },
     "metadata": {
      "needs_background": "light"
     },
     "output_type": "display_data"
    },
    {
     "name": "stdout",
     "output_type": "stream",
     "text": [
      "\n",
      "**************************************************\n",
      "\n"
     ]
    },
    {
     "data": {
      "image/png": "[encoded data removed]",
      "text/plain": [
       "<Figure size 576x432 with 1 Axes>"
      ]
     },
     "metadata": {
      "needs_background": "light"
     },
     "output_type": "display_data"
    },
    {
     "name": "stdout",
     "output_type": "stream",
     "text": [
      "\n",
      "**************************************************\n",
      "\n"
     ]
    }
   ],
   "source": [
    "for tr_idx, va_idx in StratifiedKFold(n_splits=cfg.n_splits, random_state=cfg.seed, shuffle=True).split(images, labels):\n",
    "    break\n",
    "\n",
    "tr_images, va_images, tr_labels, va_labels = images[tr_idx], images[va_idx], labels[tr_idx], labels[va_idx]\n",
    "\n",
    "tr_data_setup = DS(tr_images, tr_labels.reshape(-1, 1), cfg.transform)\n",
    "va_data_setup = DS(va_images, va_labels.reshape(-1, 1), cfg.transform)\n",
    "\n",
    "dataloaders = {\n",
    "    \"train\" : DL(tr_data_setup, batch_size=cfg.batch_size, shuffle=True, generator=torch.manual_seed(cfg.seed)),\n",
    "    \"valid\" : DL(va_data_setup, batch_size=cfg.batch_size, shuffle=False),\n",
    "}\n",
    "\n",
    "cfg = CFG(epochs=100, batch_size=64, steps_per_epoch=len(dataloaders[\"train\"]))\n",
    "\n",
    "torch.manual_seed(cfg.seed)\n",
    "model = Model().to(cfg.device)\n",
    "optimizer = optim.Adam([p for p in model.parameters() if p.requires_grad], lr=cfg.lr, weight_decay=cfg.wd)\n",
    "scheduler_oclr = optim.lr_scheduler.OneCycleLR(optimizer=optimizer, \n",
    "                                               max_lr=cfg.max_lr, \n",
    "                                               epochs=cfg.epochs, \n",
    "                                               steps_per_epoch=cfg.steps_per_epoch,\n",
    "                                               pct_start=cfg.pct_start, \n",
    "                                               div_factor=cfg.div_factor, \n",
    "                                               final_div_factor=cfg.final_div_factor)\n",
    "# scheduler_rlrop = optim.lr_scheduler.ReduceLROnPlateau(optimizer=optimizer,\n",
    "#                                                       patience=cfg.patience,\n",
    "#                                                       eps=cfg.eps,\n",
    "#                                                       verbose=True)\n",
    "\n",
    "# scheduler_oclr = None\n",
    "scheduler_rlrop = None\n",
    "\n",
    "L, A, LR, BLE, BAE, name = fit(model=model, \n",
    "                               optimizer=optimizer, \n",
    "                               scheduler_oclr=scheduler_oclr,\n",
    "                               scheduler_rlrop=scheduler_rlrop,\n",
    "                               epochs=cfg.epochs, \n",
    "                               early_stopping_patience=cfg.early_stopping, \n",
    "                               dataloaders=dataloaders, \n",
    "                               device=cfg.device,\n",
    "                               save_path=cfg.save_path,\n",
    "                               fold=None,\n",
    "                               verbose=True)\n",
    "\n",
    "breaker()\n",
    "show_loss_graphs(L)\n",
    "breaker()\n",
    "show_accuracy_graphs(A)\n",
    "breaker()\n",
    "\n",
    "if scheduler_oclr:\n",
    "    show_lr_graph(LR)\n",
    "    breaker()"
   ]
  }
 ],
 "metadata": {
  "kernelspec": {
   "display_name": "Python 3",
   "language": "python",
   "name": "python3"
  },
  "language_info": {
   "codemirror_mode": {
    "name": "ipython",
    "version": 3
   },
   "file_extension": ".py",
   "mimetype": "text/x-python",
   "name": "python",
   "nbconvert_exporter": "python",
   "pygments_lexer": "ipython3",
   "version": "3.7.12"
  },
  "papermill": {
   "default_parameters": {},
   "duration": 1302.333753,
   "end_time": "2022-06-14T05:30:56.864240",
   "environment_variables": {},
   "exception": null,
   "input_path": "__notebook__.ipynb",
   "output_path": "__notebook__.ipynb",
   "parameters": {},
   "start_time": "2022-06-14T05:09:14.530487",
   "version": "2.3.4"
  },
  "widgets": {
   "application/vnd.jupyter.widget-state+json": {
    "state": {
     "023b6fe2652242cf865f801624c0ee94": {
      "model_module": "@jupyter-widgets/controls",
      "model_module_version": "1.5.0",
      "model_name": "HBoxModel",
      "state": {
       "_dom_classes": [],
       "_model_module": "@jupyter-widgets/controls",
       "_model_module_version": "1.5.0",
       "_model_name": "HBoxModel",
       "_view_count": null,
       "_view_module": "@jupyter-widgets/controls",
       "_view_module_version": "1.5.0",
       "_view_name": "HBoxView",
       "box_style": "",
       "children": [
        "IPY_MODEL_a8f995e91742465796f733b0eaa7c281",
        "IPY_MODEL_87ad3a722fcc43ef88b35490711703a5",
        "IPY_MODEL_21a0e845e1344726a43357778be229ab"
       ],
       "layout": "IPY_MODEL_e7b62203f2e14f42905e8d2bf776a5f7"
      }
     },
     "0705480277144f64a95b4dffcb3e0515": {
      "model_module": "@jupyter-widgets/controls",
      "model_module_version": "1.5.0",
      "model_name": "ProgressStyleModel",
      "state": {
       "_model_module": "@jupyter-widgets/controls",
       "_model_module_version": "1.5.0",
       "_model_name": "ProgressStyleModel",
       "_view_count": null,
       "_view_module": "@jupyter-widgets/base",
       "_view_module_version": "1.2.0",
       "_view_name": "StyleView",
       "bar_color": null,
       "description_width": ""
      }
     },
     "15d4ea9f3060473280db17cfb69f67d7": {
      "model_module": "@jupyter-widgets/controls",
      "model_module_version": "1.5.0",
      "model_name": "DescriptionStyleModel",
      "state": {
       "_model_module": "@jupyter-widgets/controls",
       "_model_module_version": "1.5.0",
       "_model_name": "DescriptionStyleModel",
       "_view_count": null,
       "_view_module": "@jupyter-widgets/base",
       "_view_module_version": "1.2.0",
       "_view_name": "StyleView",
       "description_width": ""
      }
     },
     "1bbcecee086244cd87ae7e5ded47b43e": {
      "model_module": "@jupyter-widgets/base",
      "model_module_version": "1.2.0",
      "model_name": "LayoutModel",
      "state": {
       "_model_module": "@jupyter-widgets/base",
       "_model_module_version": "1.2.0",
       "_model_name": "LayoutModel",
       "_view_count": null,
       "_view_module": "@jupyter-widgets/base",
       "_view_module_version": "1.2.0",
       "_view_name": "LayoutView",
       "align_content": null,
       "align_items": null,
       "align_self": null,
       "border": null,
       "bottom": null,
       "display": null,
       "flex": null,
       "flex_flow": null,
       "grid_area": null,
       "grid_auto_columns": null,
       "grid_auto_flow": null,
       "grid_auto_rows": null,
       "grid_column": null,
       "grid_gap": null,
       "grid_row": null,
       "grid_template_areas": null,
       "grid_template_columns": null,
       "grid_template_rows": null,
       "height": null,
       "justify_content": null,
       "justify_items": null,
       "left": null,
       "margin": null,
       "max_height": null,
       "max_width": null,
       "min_height": null,
       "min_width": null,
       "object_fit": null,
       "object_position": null,
       "order": null,
       "overflow": null,
       "overflow_x": null,
       "overflow_y": null,
       "padding": null,
       "right": null,
       "top": null,
       "visibility": null,
       "width": null
      }
     },
     "21a0e845e1344726a43357778be229ab": {
      "model_module": "@jupyter-widgets/controls",
      "model_module_version": "1.5.0",
      "model_name": "HTMLModel",
      "state": {
       "_dom_classes": [],
       "_model_module": "@jupyter-widgets/controls",
       "_model_module_version": "1.5.0",
       "_model_name": "HTMLModel",
       "_view_count": null,
       "_view_module": "@jupyter-widgets/controls",
       "_view_module_version": "1.5.0",
       "_view_name": "HTMLView",
       "description": "",
       "description_tooltip": null,
       "layout": "IPY_MODEL_1bbcecee086244cd87ae7e5ded47b43e",
       "placeholder": "​",
       "style": "IPY_MODEL_fc82d53de15b419b8afed43b1f7b9395",
       "value": " 97.8M/97.8M [00:03&lt;00:00, 33.8MB/s]"
      }
     },
     "7265987ceb6741b79d6bda83e7c6330e": {
      "model_module": "@jupyter-widgets/base",
      "model_module_version": "1.2.0",
      "model_name": "LayoutModel",
      "state": {
       "_model_module": "@jupyter-widgets/base",
       "_model_module_version": "1.2.0",
       "_model_name": "LayoutModel",
       "_view_count": null,
       "_view_module": "@jupyter-widgets/base",
       "_view_module_version": "1.2.0",
       "_view_name": "LayoutView",
       "align_content": null,
       "align_items": null,
       "align_self": null,
       "border": null,
       "bottom": null,
       "display": null,
       "flex": null,
       "flex_flow": null,
       "grid_area": null,
       "grid_auto_columns": null,
       "grid_auto_flow": null,
       "grid_auto_rows": null,
       "grid_column": null,
       "grid_gap": null,
       "grid_row": null,
       "grid_template_areas": null,
       "grid_template_columns": null,
       "grid_template_rows": null,
       "height": null,
       "justify_content": null,
       "justify_items": null,
       "left": null,
       "margin": null,
       "max_height": null,
       "max_width": null,
       "min_height": null,
       "min_width": null,
       "object_fit": null,
       "object_position": null,
       "order": null,
       "overflow": null,
       "overflow_x": null,
       "overflow_y": null,
       "padding": null,
       "right": null,
       "top": null,
       "visibility": null,
       "width": null
      }
     },
     "87ad3a722fcc43ef88b35490711703a5": {
      "model_module": "@jupyter-widgets/controls",
      "model_module_version": "1.5.0",
      "model_name": "FloatProgressModel",
      "state": {
       "_dom_classes": [],
       "_model_module": "@jupyter-widgets/controls",
       "_model_module_version": "1.5.0",
       "_model_name": "FloatProgressModel",
       "_view_count": null,
       "_view_module": "@jupyter-widgets/controls",
       "_view_module_version": "1.5.0",
       "_view_name": "ProgressView",
       "bar_style": "success",
       "description": "",
       "description_tooltip": null,
       "layout": "IPY_MODEL_97ffe4d1b4fe421ca4245b491143cbf3",
       "max": 102530333.0,
       "min": 0.0,
       "orientation": "horizontal",
       "style": "IPY_MODEL_0705480277144f64a95b4dffcb3e0515",
       "value": 102530333.0
      }
     },
     "97ffe4d1b4fe421ca4245b491143cbf3": {
      "model_module": "@jupyter-widgets/base",
      "model_module_version": "1.2.0",
      "model_name": "LayoutModel",
      "state": {
       "_model_module": "@jupyter-widgets/base",
       "_model_module_version": "1.2.0",
       "_model_name": "LayoutModel",
       "_view_count": null,
       "_view_module": "@jupyter-widgets/base",
       "_view_module_version": "1.2.0",
       "_view_name": "LayoutView",
       "align_content": null,
       "align_items": null,
       "align_self": null,
       "border": null,
       "bottom": null,
       "display": null,
       "flex": null,
       "flex_flow": null,
       "grid_area": null,
       "grid_auto_columns": null,
       "grid_auto_flow": null,
       "grid_auto_rows": null,
       "grid_column": null,
       "grid_gap": null,
       "grid_row": null,
       "grid_template_areas": null,
       "grid_template_columns": null,
       "grid_template_rows": null,
       "height": null,
       "justify_content": null,
       "justify_items": null,
       "left": null,
       "margin": null,
       "max_height": null,
       "max_width": null,
       "min_height": null,
       "min_width": null,
       "object_fit": null,
       "object_position": null,
       "order": null,
       "overflow": null,
       "overflow_x": null,
       "overflow_y": null,
       "padding": null,
       "right": null,
       "top": null,
       "visibility": null,
       "width": null
      }
     },
     "a8f995e91742465796f733b0eaa7c281": {
      "model_module": "@jupyter-widgets/controls",
      "model_module_version": "1.5.0",
      "model_name": "HTMLModel",
      "state": {
       "_dom_classes": [],
       "_model_module": "@jupyter-widgets/controls",
       "_model_module_version": "1.5.0",
       "_model_name": "HTMLModel",
       "_view_count": null,
       "_view_module": "@jupyter-widgets/controls",
       "_view_module_version": "1.5.0",
       "_view_name": "HTMLView",
       "description": "",
       "description_tooltip": null,
       "layout": "IPY_MODEL_7265987ceb6741b79d6bda83e7c6330e",
       "placeholder": "​",
       "style": "IPY_MODEL_15d4ea9f3060473280db17cfb69f67d7",
       "value": "100%"
      }
     },
     "e7b62203f2e14f42905e8d2bf776a5f7": {
      "model_module": "@jupyter-widgets/base",
      "model_module_version": "1.2.0",
      "model_name": "LayoutModel",
      "state": {
       "_model_module": "@jupyter-widgets/base",
       "_model_module_version": "1.2.0",
       "_model_name": "LayoutModel",
       "_view_count": null,
       "_view_module": "@jupyter-widgets/base",
       "_view_module_version": "1.2.0",
       "_view_name": "LayoutView",
       "align_content": null,
       "align_items": null,
       "align_self": null,
       "border": null,
       "bottom": null,
       "display": null,
       "flex": null,
       "flex_flow": null,
       "grid_area": null,
       "grid_auto_columns": null,
       "grid_auto_flow": null,
       "grid_auto_rows": null,
       "grid_column": null,
       "grid_gap": null,
       "grid_row": null,
       "grid_template_areas": null,
       "grid_template_columns": null,
       "grid_template_rows": null,
       "height": null,
       "justify_content": null,
       "justify_items": null,
       "left": null,
       "margin": null,
       "max_height": null,
       "max_width": null,
       "min_height": null,
       "min_width": null,
       "object_fit": null,
       "object_position": null,
       "order": null,
       "overflow": null,
       "overflow_x": null,
       "overflow_y": null,
       "padding": null,
       "right": null,
       "top": null,
       "visibility": null,
       "width": null
      }
     },
     "fc82d53de15b419b8afed43b1f7b9395": {
      "model_module": "@jupyter-widgets/controls",
      "model_module_version": "1.5.0",
      "model_name": "DescriptionStyleModel",
      "state": {
       "_model_module": "@jupyter-widgets/controls",
       "_model_module_version": "1.5.0",
       "_model_name": "DescriptionStyleModel",
       "_view_count": null,
       "_view_module": "@jupyter-widgets/base",
       "_view_module_version": "1.2.0",
       "_view_name": "StyleView",
       "description_width": ""
      }
     }
    },
    "version_major": 2,
    "version_minor": 0
   }
  }
 },
 "nbformat": 4,
 "nbformat_minor": 5
}
