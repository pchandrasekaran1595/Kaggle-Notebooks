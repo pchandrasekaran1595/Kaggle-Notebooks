{
 "cells": [
  {
   "cell_type": "markdown",
   "id": "26843b78",
   "metadata": {
    "papermill": {
     "duration": 0.007663,
     "end_time": "2022-06-26T11:49:21.347529",
     "exception": false,
     "start_time": "2022-06-26T11:49:21.339866",
     "status": "completed"
    },
    "tags": []
   },
   "source": [
    "### **Setup**"
   ]
  },
  {
   "cell_type": "code",
   "execution_count": 1,
   "id": "bce2b1d7",
   "metadata": {
    "execution": {
     "iopub.execute_input": "2022-06-26T11:49:21.362025Z",
     "iopub.status.busy": "2022-06-26T11:49:21.361299Z",
     "iopub.status.idle": "2022-06-26T11:49:35.855722Z",
     "shell.execute_reply": "2022-06-26T11:49:35.854223Z"
    },
    "papermill": {
     "duration": 14.50449,
     "end_time": "2022-06-26T11:49:35.859340",
     "exception": false,
     "start_time": "2022-06-26T11:49:21.354850",
     "status": "completed"
    },
    "tags": []
   },
   "outputs": [
    {
     "name": "stderr",
     "output_type": "stream",
     "text": [
      "WARNING: Running pip as the 'root' user can result in broken permissions and conflicting behaviour with the system package manager. It is recommended to use a virtual environment instead: https://pip.pypa.io/warnings/venv\n"
     ]
    }
   ],
   "source": [
    "%%bash\n",
    "pip install timm -q"
   ]
  },
  {
   "cell_type": "markdown",
   "id": "35626d47",
   "metadata": {
    "papermill": {
     "duration": 0.004045,
     "end_time": "2022-06-26T11:49:35.867978",
     "exception": false,
     "start_time": "2022-06-26T11:49:35.863933",
     "status": "completed"
    },
    "tags": []
   },
   "source": [
    "### **Library Imports**"
   ]
  },
  {
   "cell_type": "code",
   "execution_count": 2,
   "id": "5570a39c",
   "metadata": {
    "execution": {
     "iopub.execute_input": "2022-06-26T11:49:35.878054Z",
     "iopub.status.busy": "2022-06-26T11:49:35.877655Z",
     "iopub.status.idle": "2022-06-26T11:49:45.485391Z",
     "shell.execute_reply": "2022-06-26T11:49:45.484150Z"
    },
    "papermill": {
     "duration": 9.615829,
     "end_time": "2022-06-26T11:49:45.488046",
     "exception": false,
     "start_time": "2022-06-26T11:49:35.872217",
     "status": "completed"
    },
    "tags": []
   },
   "outputs": [],
   "source": [
    "import os\n",
    "import re\n",
    "import cv2\n",
    "import timm\n",
    "import torch\n",
    "import numpy as np\n",
    "import pandas as pd\n",
    "import matplotlib.pyplot as plt\n",
    "\n",
    "from time import time\n",
    "from torch import nn, optim\n",
    "from torch.utils.data import Dataset\n",
    "from torch.utils.data import DataLoader as DL\n",
    "from torchvision import models, transforms\n",
    "\n",
    "from sklearn.preprocessing import LabelEncoder"
   ]
  },
  {
   "cell_type": "markdown",
   "id": "81b7a145",
   "metadata": {
    "papermill": {
     "duration": 0.003988,
     "end_time": "2022-06-26T11:49:45.496539",
     "exception": false,
     "start_time": "2022-06-26T11:49:45.492551",
     "status": "completed"
    },
    "tags": []
   },
   "source": [
    "### **Utilities and Helpers**"
   ]
  },
  {
   "cell_type": "code",
   "execution_count": 3,
   "id": "c0f61d2f",
   "metadata": {
    "execution": {
     "iopub.execute_input": "2022-06-26T11:49:45.507477Z",
     "iopub.status.busy": "2022-06-26T11:49:45.506550Z",
     "iopub.status.idle": "2022-06-26T11:49:45.573227Z",
     "shell.execute_reply": "2022-06-26T11:49:45.572034Z"
    },
    "papermill": {
     "duration": 0.074585,
     "end_time": "2022-06-26T11:49:45.575476",
     "exception": false,
     "start_time": "2022-06-26T11:49:45.500891",
     "status": "completed"
    },
    "tags": []
   },
   "outputs": [],
   "source": [
    "SEED = 42\n",
    "SIZE = 384\n",
    "FOLD = 3\n",
    "\n",
    "TRANSFORM = transforms.Compose([transforms.ToTensor(),\n",
    "                                transforms.Normalize([0.49699, 0.58823, 0.23049],\n",
    "                                                     [0.22591, 0.22614, 0.18264]),\n",
    "                                ])\n",
    "\n",
    "MODEL_PATH_1 = f\"../input/pdc-d169-na{SIZE}f-noes-f{FOLD}/saves/ble_state.pt\"\n",
    "MODEL_PATH_2 = f\"../input/pdc-d201-na{SIZE}f-noes-f{FOLD}/saves/ble_state.pt\"\n",
    "\n",
    "DEVICE = torch.device(\"cuda\" if torch.cuda.is_available() else \"cpu\")\n",
    "\n",
    "le = LabelEncoder()\n",
    "\n",
    "\n",
    "def breaker(num: int=50, char: str=\"*\") -> None:\n",
    "    print(\"\\n\" + num*char + \"\\n\")\n",
    "\n",
    "\n",
    "def get_image(path: str, size: int=224) -> np.ndarray:\n",
    "    return cv2.resize(src=cv2.cvtColor(src=cv2.imread(path, cv2.IMREAD_COLOR), code=cv2.COLOR_BGR2RGB), dsize=(size, size), interpolation=cv2.INTER_AREA)"
   ]
  },
  {
   "cell_type": "markdown",
   "id": "0b89a19f",
   "metadata": {
    "papermill": {
     "duration": 0.004108,
     "end_time": "2022-06-26T11:49:45.584164",
     "exception": false,
     "start_time": "2022-06-26T11:49:45.580056",
     "status": "completed"
    },
    "tags": []
   },
   "source": [
    "### **Configuration**"
   ]
  },
  {
   "cell_type": "markdown",
   "id": "71bf30a6",
   "metadata": {
    "papermill": {
     "duration": 0.004206,
     "end_time": "2022-06-26T11:49:45.592780",
     "exception": false,
     "start_time": "2022-06-26T11:49:45.588574",
     "status": "completed"
    },
    "tags": []
   },
   "source": [
    "### **Dataset Template**"
   ]
  },
  {
   "cell_type": "code",
   "execution_count": 4,
   "id": "93745985",
   "metadata": {
    "execution": {
     "iopub.execute_input": "2022-06-26T11:49:45.603290Z",
     "iopub.status.busy": "2022-06-26T11:49:45.602604Z",
     "iopub.status.idle": "2022-06-26T11:49:45.610255Z",
     "shell.execute_reply": "2022-06-26T11:49:45.609229Z"
    },
    "papermill": {
     "duration": 0.015489,
     "end_time": "2022-06-26T11:49:45.612713",
     "exception": false,
     "start_time": "2022-06-26T11:49:45.597224",
     "status": "completed"
    },
    "tags": []
   },
   "outputs": [],
   "source": [
    "class DS(Dataset):\n",
    "    def __init__(self, base_path: str, filenames: np.ndarray, size: int=224, transform=None):\n",
    "        self.base_path = base_path\n",
    "        self.filenames = filenames\n",
    "        self.size = size\n",
    "        self.transform = transform\n",
    "    \n",
    "    def __len__(self):\n",
    "        return self.filenames.shape[0]\n",
    "    \n",
    "    def __getitem__(self, idx):\n",
    "        return self.transform(get_image(os.path.join(self.base_path, self.filenames[idx]), size=self.size))"
   ]
  },
  {
   "cell_type": "markdown",
   "id": "94108976",
   "metadata": {
    "papermill": {
     "duration": 0.004145,
     "end_time": "2022-06-26T11:49:45.621171",
     "exception": false,
     "start_time": "2022-06-26T11:49:45.617026",
     "status": "completed"
    },
    "tags": []
   },
   "source": [
    "### **Model**"
   ]
  },
  {
   "cell_type": "code",
   "execution_count": 5,
   "id": "1bc1559a",
   "metadata": {
    "execution": {
     "iopub.execute_input": "2022-06-26T11:49:45.632036Z",
     "iopub.status.busy": "2022-06-26T11:49:45.631039Z",
     "iopub.status.idle": "2022-06-26T11:49:45.641041Z",
     "shell.execute_reply": "2022-06-26T11:49:45.640108Z"
    },
    "papermill": {
     "duration": 0.017774,
     "end_time": "2022-06-26T11:49:45.643640",
     "exception": false,
     "start_time": "2022-06-26T11:49:45.625866",
     "status": "completed"
    },
    "tags": []
   },
   "outputs": [],
   "source": [
    "class Model(nn.Module):\n",
    "    def __init__(self, model_name=\"densenet\"):\n",
    "        super(Model, self).__init__()\n",
    "\n",
    "        if model_name == \"densenet169\":\n",
    "            self.model = models.densenet169(pretrained=False, progress=True)\n",
    "            # self.freeze()\n",
    "            self.model.classifier = nn.Linear(in_features=self.model.classifier.in_features, out_features=10)\n",
    "        \n",
    "        elif model_name == \"densenet201\":\n",
    "            self.model = models.densenet201(pretrained=False, progress=True)\n",
    "            # self.freeze()\n",
    "            self.model.classifier = nn.Linear(in_features=self.model.classifier.in_features, out_features=10)\n",
    "    \n",
    "    def freeze(self):\n",
    "        for params in self.parameters(): params.requires_grad = False\n",
    "\n",
    "    def forward(self, x):\n",
    "        return nn.LogSoftmax(dim=1)(self.model(x))"
   ]
  },
  {
   "cell_type": "markdown",
   "id": "f650e2bb",
   "metadata": {
    "papermill": {
     "duration": 0.004458,
     "end_time": "2022-06-26T11:49:45.652387",
     "exception": false,
     "start_time": "2022-06-26T11:49:45.647929",
     "status": "completed"
    },
    "tags": []
   },
   "source": [
    "### **Predict Helpers**"
   ]
  },
  {
   "cell_type": "code",
   "execution_count": 6,
   "id": "f16301db",
   "metadata": {
    "execution": {
     "iopub.execute_input": "2022-06-26T11:49:45.662686Z",
     "iopub.status.busy": "2022-06-26T11:49:45.662336Z",
     "iopub.status.idle": "2022-06-26T11:49:45.673108Z",
     "shell.execute_reply": "2022-06-26T11:49:45.672134Z"
    },
    "papermill": {
     "duration": 0.018462,
     "end_time": "2022-06-26T11:49:45.675392",
     "exception": false,
     "start_time": "2022-06-26T11:49:45.656930",
     "status": "completed"
    },
    "tags": []
   },
   "outputs": [],
   "source": [
    "def predict_batch(models: list=None, model_2=None, dataloader=None, paths: list=None, device=None) -> np.ndarray:\n",
    "    assert len(models) == len(paths)\n",
    "    \n",
    "    for i in range(len(models)):\n",
    "        models[i].load_state_dict(torch.load(paths[i], map_location=device)[\"model_state_dict\"])\n",
    "        models[i].to(device)    \n",
    "        models[i].eval()\n",
    "    \n",
    "    y_pred = torch.zeros(1, 1).to(device)\n",
    "    \n",
    "    for X in dataloader:\n",
    "        X = X.to(device)\n",
    "        with torch.no_grad():\n",
    "            output = torch.argmax(torch.exp(models[0](X)) + torch.exp(models[1](X)), dim=1)\n",
    "        y_pred = torch.cat((y_pred, output.view(-1, 1)), dim=0)\n",
    "    \n",
    "    return y_pred[1:].detach().cpu().numpy()"
   ]
  },
  {
   "cell_type": "markdown",
   "id": "462aa6de",
   "metadata": {
    "papermill": {
     "duration": 0.004199,
     "end_time": "2022-06-26T11:49:45.684147",
     "exception": false,
     "start_time": "2022-06-26T11:49:45.679948",
     "status": "completed"
    },
    "tags": []
   },
   "source": [
    "### **Submission**"
   ]
  },
  {
   "cell_type": "code",
   "execution_count": 7,
   "id": "c2eda2a4",
   "metadata": {
    "execution": {
     "iopub.execute_input": "2022-06-26T11:49:45.695071Z",
     "iopub.status.busy": "2022-06-26T11:49:45.693942Z",
     "iopub.status.idle": "2022-06-26T11:51:29.656520Z",
     "shell.execute_reply": "2022-06-26T11:51:29.655456Z"
    },
    "papermill": {
     "duration": 103.970812,
     "end_time": "2022-06-26T11:51:29.659374",
     "exception": false,
     "start_time": "2022-06-26T11:49:45.688562",
     "status": "completed"
    },
    "tags": []
   },
   "outputs": [],
   "source": [
    "df = pd.read_csv(\"../input/paddy-disease-classification/train.csv\")\n",
    "ss_df = pd.read_csv(\"../input/paddy-disease-classification/sample_submission.csv\")\n",
    "\n",
    "labels = df.label.copy().values\n",
    "labels = le.fit_transform(labels)\n",
    "\n",
    "ts_data_setup = DS(base_path=\"../input/paddy-disease-classification/test_images\", \n",
    "                   filenames=ss_df.image_id.copy().values,\n",
    "                   size=SIZE,\n",
    "                   transform=TRANSFORM)\n",
    "ts_data = DL(ts_data_setup, batch_size=64, shuffle=False)\n",
    "\n",
    "model_1 = Model(\"densenet169\").to(DEVICE)\n",
    "model_2 = Model(\"densenet201\").to(DEVICE)\n",
    "\n",
    "y_pred = predict_batch(models=[model_1, model_2], \n",
    "                       dataloader=ts_data, \n",
    "                       paths=[MODEL_PATH_1, MODEL_PATH_2],\n",
    "                       device=DEVICE)\n",
    "\n",
    "ss_df[\"label\"] = le.inverse_transform(y_pred.astype(\"uint8\").reshape(-1))\n",
    "ss_df.to_csv(\"submission.csv\", index=False)"
   ]
  }
 ],
 "metadata": {
  "kernelspec": {
   "display_name": "Python 3",
   "language": "python",
   "name": "python3"
  },
  "language_info": {
   "codemirror_mode": {
    "name": "ipython",
    "version": 3
   },
   "file_extension": ".py",
   "mimetype": "text/x-python",
   "name": "python",
   "nbconvert_exporter": "python",
   "pygments_lexer": "ipython3",
   "version": "3.7.12"
  },
  "papermill": {
   "default_parameters": {},
   "duration": 142.67606,
   "end_time": "2022-06-26T11:51:33.183010",
   "environment_variables": {},
   "exception": null,
   "input_path": "__notebook__.ipynb",
   "output_path": "__notebook__.ipynb",
   "parameters": {},
   "start_time": "2022-06-26T11:49:10.506950",
   "version": "2.3.4"
  }
 },
 "nbformat": 4,
 "nbformat_minor": 5
}
