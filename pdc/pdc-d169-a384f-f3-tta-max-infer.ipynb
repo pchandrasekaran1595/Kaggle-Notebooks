{
 "cells": [
  {
   "cell_type": "markdown",
   "id": "9174a594",
   "metadata": {
    "papermill": {
     "duration": 0.004602,
     "end_time": "2022-07-07T08:35:17.502010",
     "exception": false,
     "start_time": "2022-07-07T08:35:17.497408",
     "status": "completed"
    },
    "tags": []
   },
   "source": [
    "### **Library Imports**"
   ]
  },
  {
   "cell_type": "code",
   "execution_count": 1,
   "id": "eb2981e8",
   "metadata": {
    "execution": {
     "iopub.execute_input": "2022-07-07T08:35:17.512440Z",
     "iopub.status.busy": "2022-07-07T08:35:17.511940Z",
     "iopub.status.idle": "2022-07-07T08:35:20.601400Z",
     "shell.execute_reply": "2022-07-07T08:35:20.600534Z"
    },
    "papermill": {
     "duration": 3.096526,
     "end_time": "2022-07-07T08:35:20.603929",
     "exception": false,
     "start_time": "2022-07-07T08:35:17.507403",
     "status": "completed"
    },
    "tags": []
   },
   "outputs": [],
   "source": [
    "import os\n",
    "import re\n",
    "import cv2\n",
    "import torch\n",
    "import random as r\n",
    "import numpy as np\n",
    "import pandas as pd\n",
    "import matplotlib.pyplot as plt\n",
    "\n",
    "from time import time\n",
    "from torch import nn, optim\n",
    "from torch.utils.data import Dataset\n",
    "from torch.utils.data import DataLoader as DL\n",
    "from torchvision import models, transforms\n",
    "\n",
    "from sklearn.preprocessing import LabelEncoder"
   ]
  },
  {
   "cell_type": "markdown",
   "id": "8b7bbc0b",
   "metadata": {
    "papermill": {
     "duration": 0.003311,
     "end_time": "2022-07-07T08:35:20.610632",
     "exception": false,
     "start_time": "2022-07-07T08:35:20.607321",
     "status": "completed"
    },
    "tags": []
   },
   "source": [
    "### **Utilities and Helpers**"
   ]
  },
  {
   "cell_type": "code",
   "execution_count": 2,
   "id": "6b05a222",
   "metadata": {
    "execution": {
     "iopub.execute_input": "2022-07-07T08:35:20.618457Z",
     "iopub.status.busy": "2022-07-07T08:35:20.617661Z",
     "iopub.status.idle": "2022-07-07T08:35:20.681349Z",
     "shell.execute_reply": "2022-07-07T08:35:20.680488Z"
    },
    "papermill": {
     "duration": 0.069493,
     "end_time": "2022-07-07T08:35:20.683171",
     "exception": false,
     "start_time": "2022-07-07T08:35:20.613678",
     "status": "completed"
    },
    "tags": []
   },
   "outputs": [],
   "source": [
    "SEED = 42\n",
    "SIZE = 384\n",
    "FOLD = 3\n",
    "TRANSFORM = transforms.Compose([transforms.ToTensor(),\n",
    "                                transforms.Normalize([0.49699, 0.58823, 0.23049],\n",
    "                                                    [0.22591, 0.22614, 0.18264]),\n",
    "                                transforms.RandomAffine(degrees=(-15, 15), translate=(0.05, 0.05), scale=(0.9, 1.1)),\n",
    "                                transforms.RandomHorizontalFlip(p=0.1),\n",
    "                                transforms.RandomVerticalFlip(p=0.1),\n",
    "                               ])\n",
    "MODEL_PATH = f\"../input/pdc-d169-a{SIZE}f-f{FOLD}/saves/ble_state.pt\"\n",
    "DEVICE = torch.device(\"cuda\" if torch.cuda.is_available() else \"cpu\")\n",
    "\n",
    "le = LabelEncoder()\n",
    "r.seed(SEED)\n",
    "\n",
    "\n",
    "def breaker(num: int=50, char: str=\"*\") -> None:\n",
    "    print(\"\\n\" + num*char + \"\\n\")\n",
    "\n",
    "\n",
    "def get_image(path: str, size: int=224) -> np.ndarray:\n",
    "    return cv2.resize(src=cv2.cvtColor(src=cv2.imread(path, cv2.IMREAD_COLOR), code=cv2.COLOR_BGR2RGB), dsize=(size, size), interpolation=cv2.INTER_AREA)"
   ]
  },
  {
   "cell_type": "markdown",
   "id": "68f27044",
   "metadata": {
    "papermill": {
     "duration": 0.002914,
     "end_time": "2022-07-07T08:35:20.689432",
     "exception": false,
     "start_time": "2022-07-07T08:35:20.686518",
     "status": "completed"
    },
    "tags": []
   },
   "source": [
    "### **Configuration**"
   ]
  },
  {
   "cell_type": "markdown",
   "id": "6a81eee3",
   "metadata": {
    "papermill": {
     "duration": 0.002856,
     "end_time": "2022-07-07T08:35:20.695682",
     "exception": false,
     "start_time": "2022-07-07T08:35:20.692826",
     "status": "completed"
    },
    "tags": []
   },
   "source": [
    "### **Dataset Template**"
   ]
  },
  {
   "cell_type": "code",
   "execution_count": 3,
   "id": "ec7fdac0",
   "metadata": {
    "execution": {
     "iopub.execute_input": "2022-07-07T08:35:20.702879Z",
     "iopub.status.busy": "2022-07-07T08:35:20.702606Z",
     "iopub.status.idle": "2022-07-07T08:35:20.708567Z",
     "shell.execute_reply": "2022-07-07T08:35:20.707737Z"
    },
    "papermill": {
     "duration": 0.011693,
     "end_time": "2022-07-07T08:35:20.710382",
     "exception": false,
     "start_time": "2022-07-07T08:35:20.698689",
     "status": "completed"
    },
    "tags": []
   },
   "outputs": [],
   "source": [
    "class DS(Dataset):\n",
    "    def __init__(self, base_path: str, filenames: np.ndarray, size: int=224, transform=None):\n",
    "        self.base_path = base_path\n",
    "        self.filenames = filenames\n",
    "        self.size = size\n",
    "        self.transform = transform\n",
    "    \n",
    "    def __len__(self):\n",
    "        return self.filenames.shape[0]\n",
    "    \n",
    "    def __getitem__(self, idx):\n",
    "        return self.transform(get_image(os.path.join(self.base_path, self.filenames[idx]), size=self.size))"
   ]
  },
  {
   "cell_type": "markdown",
   "id": "f797abf3",
   "metadata": {
    "papermill": {
     "duration": 0.002865,
     "end_time": "2022-07-07T08:35:20.716272",
     "exception": false,
     "start_time": "2022-07-07T08:35:20.713407",
     "status": "completed"
    },
    "tags": []
   },
   "source": [
    "### **Model**"
   ]
  },
  {
   "cell_type": "code",
   "execution_count": 4,
   "id": "56c31e42",
   "metadata": {
    "execution": {
     "iopub.execute_input": "2022-07-07T08:35:20.723338Z",
     "iopub.status.busy": "2022-07-07T08:35:20.723093Z",
     "iopub.status.idle": "2022-07-07T08:35:20.728631Z",
     "shell.execute_reply": "2022-07-07T08:35:20.727965Z"
    },
    "papermill": {
     "duration": 0.010953,
     "end_time": "2022-07-07T08:35:20.730307",
     "exception": false,
     "start_time": "2022-07-07T08:35:20.719354",
     "status": "completed"
    },
    "tags": []
   },
   "outputs": [],
   "source": [
    "class Model(nn.Module):\n",
    "    def __init__(self):\n",
    "        super(Model, self).__init__()\n",
    "\n",
    "        self.model = models.densenet169(pretrained=False, progress=True)\n",
    "        # self.freeze()\n",
    "        self.model.classifier = nn.Linear(in_features=self.model.classifier.in_features, out_features=10)\n",
    "    \n",
    "    def freeze(self):\n",
    "        for params in self.parameters(): params.requires_grad = False\n",
    "\n",
    "    def forward(self, x):\n",
    "        return nn.LogSoftmax(dim=1)(self.model(x))"
   ]
  },
  {
   "cell_type": "markdown",
   "id": "fcbedd57",
   "metadata": {
    "papermill": {
     "duration": 0.00293,
     "end_time": "2022-07-07T08:35:20.736261",
     "exception": false,
     "start_time": "2022-07-07T08:35:20.733331",
     "status": "completed"
    },
    "tags": []
   },
   "source": [
    "### **Predict Helpers**"
   ]
  },
  {
   "cell_type": "code",
   "execution_count": 5,
   "id": "99daa31a",
   "metadata": {
    "execution": {
     "iopub.execute_input": "2022-07-07T08:35:20.743221Z",
     "iopub.status.busy": "2022-07-07T08:35:20.742969Z",
     "iopub.status.idle": "2022-07-07T08:35:20.749444Z",
     "shell.execute_reply": "2022-07-07T08:35:20.748651Z"
    },
    "papermill": {
     "duration": 0.012011,
     "end_time": "2022-07-07T08:35:20.751269",
     "exception": false,
     "start_time": "2022-07-07T08:35:20.739258",
     "status": "completed"
    },
    "tags": []
   },
   "outputs": [],
   "source": [
    "def predict_batch(model=None, dataloader=None, path=None, device=None) -> np.ndarray:\n",
    "    model.load_state_dict(torch.load(path, map_location=device)[\"model_state_dict\"])\n",
    "    model.to(device)    \n",
    "    model.eval()\n",
    "    \n",
    "    y_pred = torch.zeros(1, 1).to(device)\n",
    "    \n",
    "    for X in dataloader:\n",
    "        X = X.to(device)\n",
    "        with torch.no_grad():\n",
    "            output = torch.argmax(torch.exp(model(X)), dim=1)\n",
    "        y_pred = torch.cat((y_pred, output.view(-1, 1)), dim=0)\n",
    "    \n",
    "    return y_pred[1:].detach().cpu().numpy()"
   ]
  },
  {
   "cell_type": "markdown",
   "id": "4857e6c3",
   "metadata": {
    "papermill": {
     "duration": 0.002855,
     "end_time": "2022-07-07T08:35:20.757133",
     "exception": false,
     "start_time": "2022-07-07T08:35:20.754278",
     "status": "completed"
    },
    "tags": []
   },
   "source": [
    "### **Submission**"
   ]
  },
  {
   "cell_type": "code",
   "execution_count": 6,
   "id": "0c1654f4",
   "metadata": {
    "execution": {
     "iopub.execute_input": "2022-07-07T08:35:20.764192Z",
     "iopub.status.busy": "2022-07-07T08:35:20.763904Z",
     "iopub.status.idle": "2022-07-07T08:39:17.895901Z",
     "shell.execute_reply": "2022-07-07T08:39:17.895050Z"
    },
    "papermill": {
     "duration": 237.137996,
     "end_time": "2022-07-07T08:39:17.898143",
     "exception": false,
     "start_time": "2022-07-07T08:35:20.760147",
     "status": "completed"
    },
    "tags": []
   },
   "outputs": [],
   "source": [
    "df = pd.read_csv(\"../input/paddy-disease-classification/train.csv\")\n",
    "ss_df = pd.read_csv(\"../input/paddy-disease-classification/sample_submission.csv\")\n",
    "\n",
    "labels = df.label.copy().values\n",
    "labels = le.fit_transform(labels)\n",
    "\n",
    "model = Model().to(DEVICE)\n",
    "\n",
    "seeds = [r.randint(0, 99) for _ in range(3)]\n",
    "\n",
    "y_pred = np.zeros((ss_df.shape[0], 1))\n",
    "\n",
    "for seed in seeds:\n",
    "    ts_data_setup = DS(base_path=\"../input/paddy-disease-classification/test_images\", \n",
    "                       filenames=ss_df.image_id.copy().values,\n",
    "                       size=SIZE,\n",
    "                       transform=TRANSFORM)\n",
    "    ts_data = DL(ts_data_setup, batch_size=64, shuffle=False, generator=torch.manual_seed(seed))\n",
    "\n",
    "    temp_y_pred = predict_batch(model=model, \n",
    "                           dataloader=ts_data, \n",
    "                           path=MODEL_PATH,\n",
    "                           device=DEVICE)\n",
    "    \n",
    "    y_pred = np.concatenate((y_pred, temp_y_pred), axis=1)\n",
    "\n",
    "y_pred = np.max(y_pred[:, 1:], axis=1)\n",
    "\n",
    "ss_df[\"label\"] = le.inverse_transform(y_pred.astype(\"uint8\").reshape(-1))\n",
    "ss_df.to_csv(\"submission.csv\", index=False)"
   ]
  }
 ],
 "metadata": {
  "kernelspec": {
   "display_name": "Python 3",
   "language": "python",
   "name": "python3"
  },
  "language_info": {
   "codemirror_mode": {
    "name": "ipython",
    "version": 3
   },
   "file_extension": ".py",
   "mimetype": "text/x-python",
   "name": "python",
   "nbconvert_exporter": "python",
   "pygments_lexer": "ipython3",
   "version": "3.7.12"
  },
  "papermill": {
   "default_parameters": {},
   "duration": 250.317748,
   "end_time": "2022-07-07T08:39:19.424833",
   "environment_variables": {},
   "exception": null,
   "input_path": "__notebook__.ipynb",
   "output_path": "__notebook__.ipynb",
   "parameters": {},
   "start_time": "2022-07-07T08:35:09.107085",
   "version": "2.3.4"
  }
 },
 "nbformat": 4,
 "nbformat_minor": 5
}
