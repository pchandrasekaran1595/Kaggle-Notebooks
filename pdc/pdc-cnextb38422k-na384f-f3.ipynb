{
 "cells": [
  {
   "cell_type": "markdown",
   "id": "f9d09820",
   "metadata": {
    "_cell_guid": "b1076dfc-b9ad-4769-8c92-a6c4dae69d19",
    "_uuid": "8f2839f25d086af736a60e9eeb907d3b93b6e0e5",
    "papermill": {
     "duration": 0.004837,
     "end_time": "2022-06-28T05:44:55.998137",
     "exception": false,
     "start_time": "2022-06-28T05:44:55.993300",
     "status": "completed"
    },
    "tags": []
   },
   "source": [
    "### **Setup**"
   ]
  },
  {
   "cell_type": "code",
   "execution_count": 1,
   "id": "39d8d876",
   "metadata": {
    "execution": {
     "iopub.execute_input": "2022-06-28T05:44:56.008306Z",
     "iopub.status.busy": "2022-06-28T05:44:56.007595Z",
     "iopub.status.idle": "2022-06-28T05:45:06.404437Z",
     "shell.execute_reply": "2022-06-28T05:45:06.402843Z"
    },
    "papermill": {
     "duration": 10.40516,
     "end_time": "2022-06-28T05:45:06.407378",
     "exception": false,
     "start_time": "2022-06-28T05:44:56.002218",
     "status": "completed"
    },
    "tags": []
   },
   "outputs": [
    {
     "name": "stderr",
     "output_type": "stream",
     "text": [
      "WARNING: Running pip as the 'root' user can result in broken permissions and conflicting behaviour with the system package manager. It is recommended to use a virtual environment instead: https://pip.pypa.io/warnings/venv\n"
     ]
    }
   ],
   "source": [
    "%%bash\n",
    "pip install timm -q"
   ]
  },
  {
   "cell_type": "markdown",
   "id": "0336e052",
   "metadata": {
    "papermill": {
     "duration": 0.003958,
     "end_time": "2022-06-28T05:45:06.415921",
     "exception": false,
     "start_time": "2022-06-28T05:45:06.411963",
     "status": "completed"
    },
    "tags": []
   },
   "source": [
    "### **Library Imports**"
   ]
  },
  {
   "cell_type": "code",
   "execution_count": 2,
   "id": "ed521653",
   "metadata": {
    "execution": {
     "iopub.execute_input": "2022-06-28T05:45:06.425482Z",
     "iopub.status.busy": "2022-06-28T05:45:06.424890Z",
     "iopub.status.idle": "2022-06-28T05:45:15.581454Z",
     "shell.execute_reply": "2022-06-28T05:45:15.580487Z"
    },
    "papermill": {
     "duration": 9.165324,
     "end_time": "2022-06-28T05:45:15.585299",
     "exception": false,
     "start_time": "2022-06-28T05:45:06.419975",
     "status": "completed"
    },
    "tags": []
   },
   "outputs": [],
   "source": [
    "import os\n",
    "import re\n",
    "import timm\n",
    "import torch\n",
    "import numpy as np\n",
    "import pandas as pd\n",
    "import matplotlib.pyplot as plt\n",
    "\n",
    "from time import time\n",
    "from torch import nn, optim\n",
    "from torch.utils.data import Dataset\n",
    "from torch.utils.data import DataLoader as DL\n",
    "from torchvision import transforms\n",
    "\n",
    "from sklearn.model_selection import StratifiedKFold\n",
    "from sklearn.preprocessing import LabelEncoder\n",
    "from sklearn.metrics import accuracy_score"
   ]
  },
  {
   "cell_type": "markdown",
   "id": "35cfc365",
   "metadata": {
    "papermill": {
     "duration": 0.007274,
     "end_time": "2022-06-28T05:45:15.599818",
     "exception": false,
     "start_time": "2022-06-28T05:45:15.592544",
     "status": "completed"
    },
    "tags": []
   },
   "source": [
    "### **Utilities and Helpers**"
   ]
  },
  {
   "cell_type": "code",
   "execution_count": 3,
   "id": "3729c641",
   "metadata": {
    "execution": {
     "iopub.execute_input": "2022-06-28T05:45:15.616747Z",
     "iopub.status.busy": "2022-06-28T05:45:15.615493Z",
     "iopub.status.idle": "2022-06-28T05:45:15.635340Z",
     "shell.execute_reply": "2022-06-28T05:45:15.634637Z"
    },
    "papermill": {
     "duration": 0.030454,
     "end_time": "2022-06-28T05:45:15.637776",
     "exception": false,
     "start_time": "2022-06-28T05:45:15.607322",
     "status": "completed"
    },
    "tags": []
   },
   "outputs": [],
   "source": [
    "SEED = 42\n",
    "SIZE = 384\n",
    "le = LabelEncoder()\n",
    "\n",
    "\n",
    "def breaker(num: int=50, char: str=\"*\") -> None:\n",
    "    print(\"\\n\" + num*char + \"\\n\")\n",
    "\n",
    "    \n",
    "def show_loss_graphs(L: list) -> None:\n",
    "    TL, VL = [], []\n",
    "    for i in range(len(L)):\n",
    "        TL.append(L[i][\"train\"])\n",
    "        VL.append(L[i][\"valid\"])\n",
    "    x_Axis = np.arange(1, len(TL) + 1)\n",
    "    plt.figure()\n",
    "    plt.plot(x_Axis, TL, \"r\", label=\"Train\")\n",
    "    plt.plot(x_Axis, VL, \"b\", label=\"Valid\")\n",
    "    plt.legend()\n",
    "    plt.grid()\n",
    "    plt.title(\"Loss Graph\")\n",
    "    plt.show()\n",
    "\n",
    "    \n",
    "def show_accuracy_graphs(A: list) -> None:\n",
    "    TA, VA = [], []\n",
    "    for i in range(len(A)):\n",
    "        TA.append(A[i][\"train\"])\n",
    "        VA.append(A[i][\"valid\"])\n",
    "    x_Axis = np.arange(1, len(TA) + 1)\n",
    "    plt.figure()\n",
    "    plt.plot(x_Axis, TA, \"r\", label=\"Train\")\n",
    "    plt.plot(x_Axis, VA, \"b\", label=\"Valid\")\n",
    "    plt.legend()\n",
    "    plt.grid()\n",
    "    plt.title(\"Accuracy Graph\")\n",
    "    plt.show()\n",
    "\n",
    "\n",
    "def show_lr_graph(LR: list) -> None:\n",
    "    x_Axis = [i+1 for i in range(len(LR))]\n",
    "    plt.figure(figsize=(8, 6))\n",
    "    plt.plot(x_Axis, LR, \"rx\")\n",
    "    plt.grid()\n",
    "    plt.show()"
   ]
  },
  {
   "cell_type": "markdown",
   "id": "e5ab867a",
   "metadata": {
    "papermill": {
     "duration": 0.006839,
     "end_time": "2022-06-28T05:45:15.651853",
     "exception": false,
     "start_time": "2022-06-28T05:45:15.645014",
     "status": "completed"
    },
    "tags": []
   },
   "source": [
    "### **Configuration**"
   ]
  },
  {
   "cell_type": "code",
   "execution_count": 4,
   "id": "3a149f95",
   "metadata": {
    "execution": {
     "iopub.execute_input": "2022-06-28T05:45:15.667181Z",
     "iopub.status.busy": "2022-06-28T05:45:15.666857Z",
     "iopub.status.idle": "2022-06-28T05:45:15.748744Z",
     "shell.execute_reply": "2022-06-28T05:45:15.748073Z"
    },
    "papermill": {
     "duration": 0.092302,
     "end_time": "2022-06-28T05:45:15.751239",
     "exception": false,
     "start_time": "2022-06-28T05:45:15.658937",
     "status": "completed"
    },
    "tags": []
   },
   "outputs": [],
   "source": [
    "class CFG(object):\n",
    "    def __init__(self, \n",
    "                 seed: int = 42,\n",
    "                 n_splits: int = 5,\n",
    "                 batch_size: int = 16,\n",
    "                 epochs: int = 25,\n",
    "                 early_stopping: int = 5,\n",
    "                 lr: float = 1e-4,\n",
    "                 wd: float = 0.0,\n",
    "                 max_lr: float = 1e-3,\n",
    "                 pct_start: float = 0.2,\n",
    "                 steps_per_epoch: int = 100,\n",
    "                 div_factor: int = 1e3, \n",
    "                 final_div_factor: float = 1e3,\n",
    "                 ):\n",
    "        \n",
    "        self.seed = seed\n",
    "        self.n_splits = n_splits\n",
    "        self.batch_size = batch_size\n",
    "        self.epochs = epochs\n",
    "        self.early_stopping = early_stopping\n",
    "        self.lr = lr\n",
    "        self.wd = wd\n",
    "        self.max_lr = max_lr\n",
    "        self.pct_start = pct_start\n",
    "        self.steps_per_epoch = steps_per_epoch\n",
    "        self.div_factor = div_factor\n",
    "        self.final_div_factor = final_div_factor\n",
    "        self.device = torch.device(\"cuda\" if torch.cuda.is_available() else \"cpu\")\n",
    "        self.transform = transforms.Compose([transforms.ToTensor(),\n",
    "                                transforms.Normalize([0.49699, 0.58823, 0.23049],\n",
    "                                                     [0.22591, 0.22614, 0.18264]),\n",
    "                                ])\n",
    "        self.save_path = \"saves\"\n",
    "        if not os.path.exists(self.save_path): os.makedirs(self.save_path)\n",
    "    \n",
    "cfg = CFG(seed=SEED)"
   ]
  },
  {
   "cell_type": "markdown",
   "id": "15291b3c",
   "metadata": {
    "papermill": {
     "duration": 0.006282,
     "end_time": "2022-06-28T05:45:15.764589",
     "exception": false,
     "start_time": "2022-06-28T05:45:15.758307",
     "status": "completed"
    },
    "tags": []
   },
   "source": [
    "### **Dataset Template**"
   ]
  },
  {
   "cell_type": "code",
   "execution_count": 5,
   "id": "85807e34",
   "metadata": {
    "execution": {
     "iopub.execute_input": "2022-06-28T05:45:15.779409Z",
     "iopub.status.busy": "2022-06-28T05:45:15.779058Z",
     "iopub.status.idle": "2022-06-28T05:45:15.789487Z",
     "shell.execute_reply": "2022-06-28T05:45:15.788837Z"
    },
    "papermill": {
     "duration": 0.02067,
     "end_time": "2022-06-28T05:45:15.791993",
     "exception": false,
     "start_time": "2022-06-28T05:45:15.771323",
     "status": "completed"
    },
    "tags": []
   },
   "outputs": [],
   "source": [
    "class DS(Dataset):\n",
    "    def __init__(self, images: np.ndarray, labels: np.ndarray = None, transform=None):\n",
    "        self.images = images\n",
    "        self.labels = labels\n",
    "        self.transform = transform\n",
    "    \n",
    "    def __len__(self):\n",
    "        return self.images.shape[0]\n",
    "    \n",
    "    def __getitem__(self, idx):\n",
    "        if self.labels is not None:\n",
    "            return self.transform(self.images[idx]), torch.LongTensor(self.labels[idx])\n",
    "        else:\n",
    "            return self.transform(self.images[idx])"
   ]
  },
  {
   "cell_type": "markdown",
   "id": "bf94e7ab",
   "metadata": {
    "papermill": {
     "duration": 0.006853,
     "end_time": "2022-06-28T05:45:15.806034",
     "exception": false,
     "start_time": "2022-06-28T05:45:15.799181",
     "status": "completed"
    },
    "tags": []
   },
   "source": [
    "### **Model**"
   ]
  },
  {
   "cell_type": "code",
   "execution_count": 6,
   "id": "f280b310",
   "metadata": {
    "execution": {
     "iopub.execute_input": "2022-06-28T05:45:15.822365Z",
     "iopub.status.busy": "2022-06-28T05:45:15.821966Z",
     "iopub.status.idle": "2022-06-28T05:45:15.832071Z",
     "shell.execute_reply": "2022-06-28T05:45:15.831063Z"
    },
    "papermill": {
     "duration": 0.021206,
     "end_time": "2022-06-28T05:45:15.834717",
     "exception": false,
     "start_time": "2022-06-28T05:45:15.813511",
     "status": "completed"
    },
    "tags": []
   },
   "outputs": [],
   "source": [
    "class Model(nn.Module):\n",
    "    def __init__(self):\n",
    "        super(Model, self).__init__()\n",
    "\n",
    "        self.model = timm.create_model(model_name=\"convnext_base_in22k\", pretrained=True)\n",
    "        # self.freeze()\n",
    "        self.model.head.fc = nn.Linear(in_features=self.model.head.fc.in_features, out_features=10)\n",
    "    \n",
    "    def freeze(self):\n",
    "        for params in self.parameters(): params.requires_grad = False\n",
    "\n",
    "    def forward(self, x):\n",
    "        return nn.LogSoftmax(dim=1)(self.model(x))"
   ]
  },
  {
   "cell_type": "markdown",
   "id": "1d4ccdeb",
   "metadata": {
    "papermill": {
     "duration": 0.007343,
     "end_time": "2022-06-28T05:45:15.849860",
     "exception": false,
     "start_time": "2022-06-28T05:45:15.842517",
     "status": "completed"
    },
    "tags": []
   },
   "source": [
    "### **Fit and Predict Helpers**"
   ]
  },
  {
   "cell_type": "code",
   "execution_count": 7,
   "id": "651ed375",
   "metadata": {
    "execution": {
     "iopub.execute_input": "2022-06-28T05:45:15.866142Z",
     "iopub.status.busy": "2022-06-28T05:45:15.865740Z",
     "iopub.status.idle": "2022-06-28T05:45:15.909249Z",
     "shell.execute_reply": "2022-06-28T05:45:15.908562Z"
    },
    "papermill": {
     "duration": 0.054353,
     "end_time": "2022-06-28T05:45:15.911669",
     "exception": false,
     "start_time": "2022-06-28T05:45:15.857316",
     "status": "completed"
    },
    "tags": []
   },
   "outputs": [],
   "source": [
    "def fit(model=None, \n",
    "        optimizer=None, \n",
    "        scheduler_rlrop=None,\n",
    "        scheduler_oclr=None,\n",
    "        epochs=None, \n",
    "        early_stopping_patience=None, \n",
    "        dataloaders=None, \n",
    "        fold=None, \n",
    "        save_path=None,\n",
    "        device=None,\n",
    "        verbose=False) -> tuple:\n",
    "    \n",
    "    def get_accuracy(y_pred, y_true):\n",
    "        y_pred = torch.argmax(y_pred, dim=1)\n",
    "        return torch.count_nonzero(y_pred == y_true).item() / len(y_pred)\n",
    "    \n",
    "    if verbose:\n",
    "        breaker()\n",
    "        if fold: print(f\"Training Fold {fold}...\")\n",
    "        else: print(\"Training ...\")\n",
    "        breaker()\n",
    "        \n",
    "    bestLoss, bestAccs = {\"train\" : np.inf, \"valid\" : np.inf}, {\"train\" : 0.0, \"valid\" : 0.0}\n",
    "    Losses, Accuracies, LRs = [], [], []\n",
    "    if fold: \n",
    "        ble_name = f\"ble_state_fold_{fold}.pt\"\n",
    "        bae_name = f\"bae_state_fold_{fold}.pt\"\n",
    "    else: \n",
    "        ble_name = \"ble_state.pt\"\n",
    "        bae_name = \"bae_state.pt\"\n",
    "\n",
    "    start_time = time()\n",
    "    for e in range(epochs):\n",
    "        e_st = time()\n",
    "        epochLoss, epochAccs = {\"train\" : 0.0, \"valid\" : 0.0}, {\"train\" : 0.0, \"valid\" : 0.0}\n",
    "\n",
    "        for phase in [\"train\", \"valid\"]:\n",
    "            if phase == \"train\":\n",
    "                model.train()\n",
    "            else:\n",
    "                model.eval()\n",
    "            \n",
    "            lossPerPass, accsPerPass = [], []\n",
    "\n",
    "            for X, y in dataloaders[phase]:\n",
    "                X, y = X.to(device), y.to(device).view(-1)\n",
    "\n",
    "                optimizer.zero_grad()\n",
    "                with torch.set_grad_enabled(phase == \"train\"):\n",
    "                    output = model(X)\n",
    "                    loss = torch.nn.NLLLoss()(output, y)\n",
    "                    if phase == \"train\":\n",
    "                        loss.backward()\n",
    "                        optimizer.step()\n",
    "                        if scheduler_oclr: scheduler_oclr.step()\n",
    "                lossPerPass.append(loss.item())\n",
    "                accsPerPass.append(get_accuracy(output, y))\n",
    "            epochLoss[phase] = np.mean(np.array(lossPerPass))\n",
    "            epochAccs[phase] = np.mean(np.array(accsPerPass))\n",
    "        if scheduler_oclr: LRs.append(scheduler_oclr.get_last_lr())\n",
    "        Losses.append(epochLoss)\n",
    "        Accuracies.append(epochAccs)\n",
    "        \n",
    "        if scheduler_oclr:\n",
    "            save_dict = {\"model_state_dict\"     : model.state_dict(),\n",
    "                         \"optim_state_dict\"     : optimizer.state_dict(),\n",
    "                         \"scheduler_state_dict\" : scheduler_oclr.state_dict()}\n",
    "        \n",
    "        elif scheduler_rlrop:\n",
    "            save_dict = {\"model_state_dict\"     : model.state_dict(),\n",
    "                         \"optim_state_dict\"     : optimizer.state_dict(),\n",
    "                         \"scheduler_state_dict\" : scheduler_rlrop.state_dict()}\n",
    "        \n",
    "        else:\n",
    "            save_dict = {\"model_state_dict\"     : model.state_dict(),\n",
    "                         \"optim_state_dict\"     : optimizer.state_dict()}\n",
    "        \n",
    "        if early_stopping_patience:\n",
    "            if epochLoss[\"valid\"] < bestLoss[\"valid\"]:\n",
    "                bestLoss = epochLoss\n",
    "                BLE = e + 1\n",
    "                torch.save(save_dict, os.path.join(save_path, name))\n",
    "                early_stopping_step = 0\n",
    "            else:\n",
    "                early_stopping_step += 1\n",
    "                if early_stopping_step > early_stopping_patience:\n",
    "                    print(\"\\nEarly Stopping at Epoch {}\".format(e + 1))\n",
    "                    break\n",
    "        \n",
    "        if epochLoss[\"valid\"] < bestLoss[\"valid\"]:\n",
    "            bestLoss = epochLoss\n",
    "            BLE = e + 1\n",
    "            torch.save(save_dict,os.path.join(save_path, ble_name))\n",
    "        \n",
    "        if epochAccs[\"valid\"] > bestAccs[\"valid\"]:\n",
    "            bestAccs = epochAccs\n",
    "            BAE = e + 1\n",
    "            torch.save(save_dict,os.path.join(save_path, bae_name))\n",
    "\n",
    "        \n",
    "        if scheduler_rlrop: scheduler_rlrop.step(epochLoss[\"valid\"])\n",
    "        \n",
    "        if verbose:\n",
    "            print(\"Epoch: {} | Train Loss: {:.5f} | Valid Loss: {:.5f} |\\\n",
    " Train Accs: {:.5f} | Valid Accs: {:.5f} | Time: {:.2f} seconds\".format(e+1, \n",
    "                                                                        epochLoss[\"train\"], epochLoss[\"valid\"], \n",
    "                                                                        epochAccs[\"train\"], epochAccs[\"valid\"], \n",
    "                                                                        time()-e_st))\n",
    "\n",
    "    if verbose:                                           \n",
    "        breaker()\n",
    "        print(f\"Best Validation Loss at Epoch {BLE}\")\n",
    "        breaker()\n",
    "        print(f\"Best Validation Accs at Epoch {BAE}\")\n",
    "        breaker()\n",
    "        print(\"Time Taken [{} Epochs] : {:.2f} minutes\".format(len(Losses), (time()-start_time)/60))\n",
    "    \n",
    "    return Losses, Accuracies, LRs, BLE, BAE, ble_name, bae_name\n",
    "\n",
    "\n",
    "def predict_batch(model=None, dataloader=None, path=None, device=None) -> np.ndarray:\n",
    "    model.load_state_dict(torch.load(path, map_location=device)[\"model_state_dict\"])\n",
    "    model.to(device)    \n",
    "    model.eval()\n",
    "    \n",
    "    y_pred = torch.zeros(1, 1).to(device)\n",
    "    \n",
    "    for X in dataloader:\n",
    "        X = X.to(device)\n",
    "        with torch.no_grad():\n",
    "            output = torch.argmax(torch.exp(model(X)), dim=1)\n",
    "        y_pred = torch.cat((y_pred, output.view(-1, 1)), dim=0)\n",
    "    \n",
    "    return y_pred[1:].detach().cpu().numpy()"
   ]
  },
  {
   "cell_type": "markdown",
   "id": "b22f3a46",
   "metadata": {
    "papermill": {
     "duration": 0.006491,
     "end_time": "2022-06-28T05:45:15.925315",
     "exception": false,
     "start_time": "2022-06-28T05:45:15.918824",
     "status": "completed"
    },
    "tags": []
   },
   "source": [
    "### **Train**"
   ]
  },
  {
   "cell_type": "code",
   "execution_count": 8,
   "id": "28c93d28",
   "metadata": {
    "execution": {
     "iopub.execute_input": "2022-06-28T05:45:15.939213Z",
     "iopub.status.busy": "2022-06-28T05:45:15.938874Z",
     "iopub.status.idle": "2022-06-28T05:45:45.288291Z",
     "shell.execute_reply": "2022-06-28T05:45:45.287511Z"
    },
    "papermill": {
     "duration": 29.358651,
     "end_time": "2022-06-28T05:45:45.290337",
     "exception": false,
     "start_time": "2022-06-28T05:45:15.931686",
     "status": "completed"
    },
    "tags": []
   },
   "outputs": [],
   "source": [
    "images = np.load(f\"../input/pdc-images-{SIZE}/images-{SIZE}.npy\")\n",
    "df = pd.read_csv(\"../input/paddy-disease-classification/train.csv\")\n",
    "labels = df.label.copy().values\n",
    "labels = le.fit_transform(labels)"
   ]
  },
  {
   "cell_type": "code",
   "execution_count": 9,
   "id": "3352da44",
   "metadata": {
    "execution": {
     "iopub.execute_input": "2022-06-28T05:45:45.300598Z",
     "iopub.status.busy": "2022-06-28T05:45:45.300304Z",
     "iopub.status.idle": "2022-06-28T14:56:38.803676Z",
     "shell.execute_reply": "2022-06-28T14:56:38.802666Z"
    },
    "papermill": {
     "duration": 33053.5125,
     "end_time": "2022-06-28T14:56:38.807330",
     "exception": false,
     "start_time": "2022-06-28T05:45:45.294830",
     "status": "completed"
    },
    "tags": []
   },
   "outputs": [
    {
     "name": "stderr",
     "output_type": "stream",
     "text": [
      "Downloading: \"https://dl.fbaipublicfiles.com/convnext/convnext_base_22k_224.pth\" to /root/.cache/torch/hub/checkpoints/convnext_base_22k_224.pth\n"
     ]
    },
    {
     "name": "stdout",
     "output_type": "stream",
     "text": [
      "\n",
      "**************************************************\n",
      "\n",
      "Training ...\n",
      "\n",
      "**************************************************\n",
      "\n",
      "Epoch: 1 | Train Loss: 1.29176 | Valid Loss: 0.42018 | Train Accs: 0.59261 | Valid Accs: 0.87691 | Time: 955.19 seconds\n",
      "Epoch: 2 | Train Loss: 0.30092 | Valid Loss: 0.22320 | Train Accs: 0.90703 | Valid Accs: 0.93130 | Time: 950.00 seconds\n",
      "Epoch: 3 | Train Loss: 0.28076 | Valid Loss: 0.32720 | Train Accs: 0.91543 | Valid Accs: 0.90792 | Time: 941.61 seconds\n",
      "Epoch: 4 | Train Loss: 0.29388 | Valid Loss: 0.31925 | Train Accs: 0.90991 | Valid Accs: 0.90601 | Time: 941.30 seconds\n",
      "Epoch: 5 | Train Loss: 0.31200 | Valid Loss: 0.32150 | Train Accs: 0.90607 | Valid Accs: 0.89647 | Time: 940.37 seconds\n",
      "Epoch: 6 | Train Loss: 0.28977 | Valid Loss: 0.30799 | Train Accs: 0.91055 | Valid Accs: 0.90697 | Time: 940.47 seconds\n",
      "Epoch: 7 | Train Loss: 0.28450 | Valid Loss: 0.22841 | Train Accs: 0.91735 | Valid Accs: 0.93607 | Time: 943.20 seconds\n",
      "Epoch: 8 | Train Loss: 0.19210 | Valid Loss: 0.35322 | Train Accs: 0.94110 | Valid Accs: 0.90315 | Time: 941.19 seconds\n",
      "Epoch: 9 | Train Loss: 0.19838 | Valid Loss: 0.37874 | Train Accs: 0.94194 | Valid Accs: 0.89122 | Time: 942.44 seconds\n",
      "Epoch: 10 | Train Loss: 0.15238 | Valid Loss: 0.27074 | Train Accs: 0.95337 | Valid Accs: 0.91842 | Time: 941.73 seconds\n",
      "Epoch: 11 | Train Loss: 0.13683 | Valid Loss: 0.25684 | Train Accs: 0.95957 | Valid Accs: 0.92510 | Time: 940.87 seconds\n",
      "Epoch: 12 | Train Loss: 0.11401 | Valid Loss: 0.24388 | Train Accs: 0.96773 | Valid Accs: 0.93845 | Time: 943.22 seconds\n",
      "Epoch: 13 | Train Loss: 0.09717 | Valid Loss: 0.27480 | Train Accs: 0.97109 | Valid Accs: 0.92605 | Time: 941.03 seconds\n",
      "Epoch: 14 | Train Loss: 0.09156 | Valid Loss: 0.45796 | Train Accs: 0.97353 | Valid Accs: 0.88311 | Time: 944.48 seconds\n",
      "Epoch: 15 | Train Loss: 0.09494 | Valid Loss: 0.41456 | Train Accs: 0.97037 | Valid Accs: 0.88025 | Time: 948.84 seconds\n",
      "Epoch: 16 | Train Loss: 0.04940 | Valid Loss: 0.23608 | Train Accs: 0.98608 | Valid Accs: 0.94132 | Time: 954.54 seconds\n",
      "Epoch: 17 | Train Loss: 0.06926 | Valid Loss: 0.25208 | Train Accs: 0.97889 | Valid Accs: 0.93034 | Time: 946.25 seconds\n",
      "Epoch: 18 | Train Loss: 0.04736 | Valid Loss: 0.23386 | Train Accs: 0.98708 | Valid Accs: 0.94800 | Time: 950.85 seconds\n",
      "Epoch: 19 | Train Loss: 0.02901 | Valid Loss: 0.30734 | Train Accs: 0.99148 | Valid Accs: 0.93082 | Time: 938.74 seconds\n",
      "Epoch: 20 | Train Loss: 0.02499 | Valid Loss: 0.22611 | Train Accs: 0.99280 | Valid Accs: 0.94847 | Time: 941.03 seconds\n",
      "Epoch: 21 | Train Loss: 0.02537 | Valid Loss: 0.22405 | Train Accs: 0.99308 | Valid Accs: 0.94466 | Time: 952.52 seconds\n",
      "Epoch: 22 | Train Loss: 0.02389 | Valid Loss: 0.17949 | Train Accs: 0.99412 | Valid Accs: 0.95802 | Time: 956.66 seconds\n",
      "Epoch: 23 | Train Loss: 0.00625 | Valid Loss: 0.17283 | Train Accs: 0.99796 | Valid Accs: 0.96231 | Time: 954.15 seconds\n",
      "Epoch: 24 | Train Loss: 0.00314 | Valid Loss: 0.25704 | Train Accs: 0.99880 | Valid Accs: 0.95134 | Time: 938.45 seconds\n",
      "Epoch: 25 | Train Loss: 0.00877 | Valid Loss: 0.27250 | Train Accs: 0.99748 | Valid Accs: 0.95038 | Time: 938.24 seconds\n",
      "Epoch: 26 | Train Loss: 0.01248 | Valid Loss: 0.16250 | Train Accs: 0.99688 | Valid Accs: 0.96279 | Time: 945.93 seconds\n",
      "Epoch: 27 | Train Loss: 0.00169 | Valid Loss: 0.16916 | Train Accs: 0.99964 | Valid Accs: 0.96326 | Time: 940.96 seconds\n",
      "Epoch: 28 | Train Loss: 0.00017 | Valid Loss: 0.17313 | Train Accs: 1.00000 | Valid Accs: 0.96326 | Time: 938.79 seconds\n",
      "Epoch: 29 | Train Loss: 0.00012 | Valid Loss: 0.17605 | Train Accs: 1.00000 | Valid Accs: 0.96374 | Time: 941.79 seconds\n",
      "Epoch: 30 | Train Loss: 0.00009 | Valid Loss: 0.17961 | Train Accs: 1.00000 | Valid Accs: 0.96374 | Time: 939.06 seconds\n",
      "Epoch: 31 | Train Loss: 0.00005 | Valid Loss: 0.18173 | Train Accs: 1.00000 | Valid Accs: 0.96374 | Time: 938.67 seconds\n",
      "Epoch: 32 | Train Loss: 0.00005 | Valid Loss: 0.18329 | Train Accs: 1.00000 | Valid Accs: 0.96374 | Time: 939.14 seconds\n",
      "Epoch: 33 | Train Loss: 0.00004 | Valid Loss: 0.18425 | Train Accs: 1.00000 | Valid Accs: 0.96374 | Time: 938.97 seconds\n",
      "Epoch: 34 | Train Loss: 0.00004 | Valid Loss: 0.18466 | Train Accs: 1.00000 | Valid Accs: 0.96374 | Time: 939.40 seconds\n",
      "Epoch: 35 | Train Loss: 0.00004 | Valid Loss: 0.18473 | Train Accs: 1.00000 | Valid Accs: 0.96374 | Time: 939.67 seconds\n",
      "\n",
      "**************************************************\n",
      "\n",
      "Best Validation Loss at Epoch 26\n",
      "\n",
      "**************************************************\n",
      "\n",
      "Best Validation Accs at Epoch 29\n",
      "\n",
      "**************************************************\n",
      "\n",
      "Time Taken [35 Epochs] : 550.50 minutes\n",
      "\n",
      "**************************************************\n",
      "\n"
     ]
    },
    {
     "data": {
      "image/png": "[encoded data removed]",
      "text/plain": [
       "<Figure size 432x288 with 1 Axes>"
      ]
     },
     "metadata": {
      "needs_background": "light"
     },
     "output_type": "display_data"
    },
    {
     "name": "stdout",
     "output_type": "stream",
     "text": [
      "\n",
      "**************************************************\n",
      "\n"
     ]
    },
    {
     "data": {
      "image/png": "[encoded data removed]",
      "text/plain": [
       "<Figure size 432x288 with 1 Axes>"
      ]
     },
     "metadata": {
      "needs_background": "light"
     },
     "output_type": "display_data"
    },
    {
     "name": "stdout",
     "output_type": "stream",
     "text": [
      "\n",
      "**************************************************\n",
      "\n"
     ]
    },
    {
     "data": {
      "image/png": "[encoded data removed]",
      "text/plain": [
       "<Figure size 576x432 with 1 Axes>"
      ]
     },
     "metadata": {
      "needs_background": "light"
     },
     "output_type": "display_data"
    },
    {
     "name": "stdout",
     "output_type": "stream",
     "text": [
      "\n",
      "**************************************************\n",
      "\n"
     ]
    }
   ],
   "source": [
    "fold = 1\n",
    "\n",
    "for tr_idx, va_idx in StratifiedKFold(n_splits=cfg.n_splits, random_state=cfg.seed, shuffle=True).split(images, labels):\n",
    "    if fold == 3: break\n",
    "    fold += 1\n",
    "\n",
    "tr_images, va_images, tr_labels, va_labels = images[tr_idx], images[va_idx], labels[tr_idx], labels[va_idx]\n",
    "\n",
    "tr_data_setup = DS(tr_images, tr_labels.reshape(-1, 1), cfg.transform)\n",
    "va_data_setup = DS(va_images, va_labels.reshape(-1, 1), cfg.transform)\n",
    "\n",
    "dataloaders = {\n",
    "    \"train\" : DL(tr_data_setup, batch_size=cfg.batch_size, shuffle=True, generator=torch.manual_seed(cfg.seed)),\n",
    "    \"valid\" : DL(va_data_setup, batch_size=cfg.batch_size, shuffle=False),\n",
    "}\n",
    "\n",
    "cfg = CFG(epochs=35, batch_size=64, steps_per_epoch=len(dataloaders[\"train\"]))\n",
    "\n",
    "torch.manual_seed(cfg.seed)\n",
    "model = Model().to(cfg.device)\n",
    "\n",
    "# optimizer = optim.Adam([p for p in model.parameters() if p.requires_grad], lr=cfg.lr, weight_decay=cfg.wd)\n",
    "optimizer = optim.AdamW([p for p in model.parameters() if p.requires_grad], lr=cfg.lr, weight_decay=cfg.wd)\n",
    "\n",
    "scheduler_oclr = optim.lr_scheduler.OneCycleLR(optimizer=optimizer, \n",
    "                                               max_lr=cfg.max_lr, \n",
    "                                               epochs=cfg.epochs, \n",
    "                                               steps_per_epoch=cfg.steps_per_epoch,\n",
    "                                               pct_start=cfg.pct_start, \n",
    "                                               div_factor=cfg.div_factor, \n",
    "                                               final_div_factor=cfg.final_div_factor)\n",
    "# scheduler_rlrop = optim.lr_scheduler.ReduceLROnPlateau(optimizer=optimizer,\n",
    "#                                                       patience=cfg.patience,\n",
    "#                                                       eps=cfg.eps,\n",
    "#                                                       verbose=True)\n",
    "\n",
    "# scheduler_oclr = None\n",
    "scheduler_rlrop = None\n",
    "\n",
    "L, A, LR, BLE, BAE, _, _ = fit(model=model, \n",
    "                               optimizer=optimizer, \n",
    "                               scheduler_oclr=scheduler_oclr,\n",
    "                               scheduler_rlrop=scheduler_rlrop,\n",
    "                               epochs=cfg.epochs, \n",
    "                               early_stopping_patience=None, \n",
    "                               dataloaders=dataloaders, \n",
    "                               device=cfg.device,\n",
    "                               save_path=cfg.save_path,\n",
    "                               fold=None,\n",
    "                               verbose=True)\n",
    "\n",
    "breaker()\n",
    "show_loss_graphs(L)\n",
    "breaker()\n",
    "show_accuracy_graphs(A)\n",
    "breaker()\n",
    "\n",
    "if scheduler_oclr:\n",
    "    show_lr_graph(LR)\n",
    "    breaker()"
   ]
  }
 ],
 "metadata": {
  "kernelspec": {
   "display_name": "Python 3",
   "language": "python",
   "name": "python3"
  },
  "language_info": {
   "codemirror_mode": {
    "name": "ipython",
    "version": 3
   },
   "file_extension": ".py",
   "mimetype": "text/x-python",
   "name": "python",
   "nbconvert_exporter": "python",
   "pygments_lexer": "ipython3",
   "version": "3.7.12"
  },
  "papermill": {
   "default_parameters": {},
   "duration": 33114.396204,
   "end_time": "2022-06-28T14:56:41.834919",
   "environment_variables": {},
   "exception": null,
   "input_path": "__notebook__.ipynb",
   "output_path": "__notebook__.ipynb",
   "parameters": {},
   "start_time": "2022-06-28T05:44:47.438715",
   "version": "2.3.4"
  }
 },
 "nbformat": 4,
 "nbformat_minor": 5
}
