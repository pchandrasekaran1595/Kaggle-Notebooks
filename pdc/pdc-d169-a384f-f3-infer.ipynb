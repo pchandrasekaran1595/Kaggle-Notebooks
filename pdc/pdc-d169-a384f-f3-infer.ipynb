{
 "cells": [
  {
   "cell_type": "markdown",
   "id": "70ca48b4",
   "metadata": {
    "papermill": {
     "duration": 0.005267,
     "end_time": "2022-07-03T19:34:27.885385",
     "exception": false,
     "start_time": "2022-07-03T19:34:27.880118",
     "status": "completed"
    },
    "tags": []
   },
   "source": [
    "### **Library Imports**"
   ]
  },
  {
   "cell_type": "code",
   "execution_count": 1,
   "id": "d2747531",
   "metadata": {
    "execution": {
     "iopub.execute_input": "2022-07-03T19:34:27.897577Z",
     "iopub.status.busy": "2022-07-03T19:34:27.896984Z",
     "iopub.status.idle": "2022-07-03T19:34:31.173034Z",
     "shell.execute_reply": "2022-07-03T19:34:31.172072Z"
    },
    "papermill": {
     "duration": 3.283899,
     "end_time": "2022-07-03T19:34:31.175738",
     "exception": false,
     "start_time": "2022-07-03T19:34:27.891839",
     "status": "completed"
    },
    "tags": []
   },
   "outputs": [],
   "source": [
    "import os\n",
    "import re\n",
    "import cv2\n",
    "import torch\n",
    "import numpy as np\n",
    "import pandas as pd\n",
    "import matplotlib.pyplot as plt\n",
    "\n",
    "from time import time\n",
    "from torch import nn, optim\n",
    "from torch.utils.data import Dataset\n",
    "from torch.utils.data import DataLoader as DL\n",
    "from torchvision import models, transforms\n",
    "\n",
    "from sklearn.preprocessing import LabelEncoder"
   ]
  },
  {
   "cell_type": "markdown",
   "id": "e992d255",
   "metadata": {
    "papermill": {
     "duration": 0.003764,
     "end_time": "2022-07-03T19:34:31.184420",
     "exception": false,
     "start_time": "2022-07-03T19:34:31.180656",
     "status": "completed"
    },
    "tags": []
   },
   "source": [
    "### **Utilities and Helpers**"
   ]
  },
  {
   "cell_type": "code",
   "execution_count": 2,
   "id": "62b93dde",
   "metadata": {
    "execution": {
     "iopub.execute_input": "2022-07-03T19:34:31.193086Z",
     "iopub.status.busy": "2022-07-03T19:34:31.192252Z",
     "iopub.status.idle": "2022-07-03T19:34:31.258919Z",
     "shell.execute_reply": "2022-07-03T19:34:31.257799Z"
    },
    "papermill": {
     "duration": 0.073272,
     "end_time": "2022-07-03T19:34:31.261067",
     "exception": false,
     "start_time": "2022-07-03T19:34:31.187795",
     "status": "completed"
    },
    "tags": []
   },
   "outputs": [],
   "source": [
    "SEED = 42\n",
    "SIZE = 384\n",
    "FOLD = 3\n",
    "TRANSFORM = transforms.Compose([transforms.ToTensor(),\n",
    "                                transforms.Normalize([0.49699, 0.58823, 0.23049],\n",
    "                                                     [0.22591, 0.22614, 0.18264]),\n",
    "                                ])\n",
    "MODEL_PATH = f\"../input/pdc-d169-a{SIZE}f-f{FOLD}/saves/ble_state.pt\"\n",
    "DEVICE = torch.device(\"cuda\" if torch.cuda.is_available() else \"cpu\")\n",
    "\n",
    "le = LabelEncoder()\n",
    "\n",
    "\n",
    "def breaker(num: int=50, char: str=\"*\") -> None:\n",
    "    print(\"\\n\" + num*char + \"\\n\")\n",
    "\n",
    "\n",
    "def get_image(path: str, size: int=224) -> np.ndarray:\n",
    "    return cv2.resize(src=cv2.cvtColor(src=cv2.imread(path, cv2.IMREAD_COLOR), code=cv2.COLOR_BGR2RGB), dsize=(size, size), interpolation=cv2.INTER_AREA)"
   ]
  },
  {
   "cell_type": "markdown",
   "id": "edb84718",
   "metadata": {
    "papermill": {
     "duration": 0.003527,
     "end_time": "2022-07-03T19:34:31.268515",
     "exception": false,
     "start_time": "2022-07-03T19:34:31.264988",
     "status": "completed"
    },
    "tags": []
   },
   "source": [
    "### **Configuration**"
   ]
  },
  {
   "cell_type": "markdown",
   "id": "31871a50",
   "metadata": {
    "papermill": {
     "duration": 0.003417,
     "end_time": "2022-07-03T19:34:31.275687",
     "exception": false,
     "start_time": "2022-07-03T19:34:31.272270",
     "status": "completed"
    },
    "tags": []
   },
   "source": [
    "### **Dataset Template**"
   ]
  },
  {
   "cell_type": "code",
   "execution_count": 3,
   "id": "01c9fb9f",
   "metadata": {
    "execution": {
     "iopub.execute_input": "2022-07-03T19:34:31.284299Z",
     "iopub.status.busy": "2022-07-03T19:34:31.283953Z",
     "iopub.status.idle": "2022-07-03T19:34:31.290760Z",
     "shell.execute_reply": "2022-07-03T19:34:31.290013Z"
    },
    "papermill": {
     "duration": 0.013448,
     "end_time": "2022-07-03T19:34:31.292770",
     "exception": false,
     "start_time": "2022-07-03T19:34:31.279322",
     "status": "completed"
    },
    "tags": []
   },
   "outputs": [],
   "source": [
    "class DS(Dataset):\n",
    "    def __init__(self, base_path: str, filenames: np.ndarray, size: int=224, transform=None):\n",
    "        self.base_path = base_path\n",
    "        self.filenames = filenames\n",
    "        self.size = size\n",
    "        self.transform = transform\n",
    "    \n",
    "    def __len__(self):\n",
    "        return self.filenames.shape[0]\n",
    "    \n",
    "    def __getitem__(self, idx):\n",
    "        return self.transform(get_image(os.path.join(self.base_path, self.filenames[idx]), size=self.size))"
   ]
  },
  {
   "cell_type": "markdown",
   "id": "e77e32e2",
   "metadata": {
    "papermill": {
     "duration": 0.003098,
     "end_time": "2022-07-03T19:34:31.299021",
     "exception": false,
     "start_time": "2022-07-03T19:34:31.295923",
     "status": "completed"
    },
    "tags": []
   },
   "source": [
    "### **Model**"
   ]
  },
  {
   "cell_type": "code",
   "execution_count": 4,
   "id": "68e4de99",
   "metadata": {
    "execution": {
     "iopub.execute_input": "2022-07-03T19:34:31.306686Z",
     "iopub.status.busy": "2022-07-03T19:34:31.306404Z",
     "iopub.status.idle": "2022-07-03T19:34:31.312759Z",
     "shell.execute_reply": "2022-07-03T19:34:31.312034Z"
    },
    "papermill": {
     "duration": 0.01225,
     "end_time": "2022-07-03T19:34:31.314640",
     "exception": false,
     "start_time": "2022-07-03T19:34:31.302390",
     "status": "completed"
    },
    "tags": []
   },
   "outputs": [],
   "source": [
    "class Model(nn.Module):\n",
    "    def __init__(self):\n",
    "        super(Model, self).__init__()\n",
    "\n",
    "        self.model = models.densenet169(pretrained=False, progress=True)\n",
    "        # self.freeze()\n",
    "        self.model.classifier = nn.Linear(in_features=self.model.classifier.in_features, out_features=10)\n",
    "    \n",
    "    def freeze(self):\n",
    "        for params in self.parameters(): params.requires_grad = False\n",
    "\n",
    "    def forward(self, x):\n",
    "        return nn.LogSoftmax(dim=1)(self.model(x))"
   ]
  },
  {
   "cell_type": "markdown",
   "id": "3b9380ef",
   "metadata": {
    "papermill": {
     "duration": 0.003389,
     "end_time": "2022-07-03T19:34:31.321201",
     "exception": false,
     "start_time": "2022-07-03T19:34:31.317812",
     "status": "completed"
    },
    "tags": []
   },
   "source": [
    "### **Predict Helpers**"
   ]
  },
  {
   "cell_type": "code",
   "execution_count": 5,
   "id": "ecf78a8f",
   "metadata": {
    "execution": {
     "iopub.execute_input": "2022-07-03T19:34:31.329026Z",
     "iopub.status.busy": "2022-07-03T19:34:31.328725Z",
     "iopub.status.idle": "2022-07-03T19:34:31.335277Z",
     "shell.execute_reply": "2022-07-03T19:34:31.334540Z"
    },
    "papermill": {
     "duration": 0.012237,
     "end_time": "2022-07-03T19:34:31.336918",
     "exception": false,
     "start_time": "2022-07-03T19:34:31.324681",
     "status": "completed"
    },
    "tags": []
   },
   "outputs": [],
   "source": [
    "def predict_batch(model=None, dataloader=None, path=None, device=None) -> np.ndarray:\n",
    "    model.load_state_dict(torch.load(path, map_location=device)[\"model_state_dict\"])\n",
    "    model.to(device)    \n",
    "    model.eval()\n",
    "    \n",
    "    y_pred = torch.zeros(1, 1).to(device)\n",
    "    \n",
    "    for X in dataloader:\n",
    "        X = X.to(device)\n",
    "        with torch.no_grad():\n",
    "            output = torch.argmax(torch.exp(model(X)), dim=1)\n",
    "        y_pred = torch.cat((y_pred, output.view(-1, 1)), dim=0)\n",
    "    \n",
    "    return y_pred[1:].detach().cpu().numpy()"
   ]
  },
  {
   "cell_type": "markdown",
   "id": "65e9c5c1",
   "metadata": {
    "papermill": {
     "duration": 0.003075,
     "end_time": "2022-07-03T19:34:31.343188",
     "exception": false,
     "start_time": "2022-07-03T19:34:31.340113",
     "status": "completed"
    },
    "tags": []
   },
   "source": [
    "### **Submission**"
   ]
  },
  {
   "cell_type": "code",
   "execution_count": 6,
   "id": "9e560e5a",
   "metadata": {
    "execution": {
     "iopub.execute_input": "2022-07-03T19:34:31.351821Z",
     "iopub.status.busy": "2022-07-03T19:34:31.350875Z",
     "iopub.status.idle": "2022-07-03T19:36:00.573449Z",
     "shell.execute_reply": "2022-07-03T19:36:00.571824Z"
    },
    "papermill": {
     "duration": 89.236043,
     "end_time": "2022-07-03T19:36:00.582367",
     "exception": false,
     "start_time": "2022-07-03T19:34:31.346324",
     "status": "completed"
    },
    "tags": []
   },
   "outputs": [],
   "source": [
    "df = pd.read_csv(\"../input/paddy-disease-classification/train.csv\")\n",
    "ss_df = pd.read_csv(\"../input/paddy-disease-classification/sample_submission.csv\")\n",
    "\n",
    "labels = df.label.copy().values\n",
    "labels = le.fit_transform(labels)\n",
    "\n",
    "ts_data_setup = DS(base_path=\"../input/paddy-disease-classification/test_images\", \n",
    "                   filenames=ss_df.image_id.copy().values,\n",
    "                   size=SIZE,\n",
    "                   transform=TRANSFORM)\n",
    "ts_data = DL(ts_data_setup, batch_size=64, shuffle=False)\n",
    "\n",
    "model = Model().to(DEVICE)\n",
    "\n",
    "y_pred = predict_batch(model=model, \n",
    "                       dataloader=ts_data, \n",
    "                       path=MODEL_PATH,\n",
    "                       device=DEVICE)\n",
    "\n",
    "ss_df[\"label\"] = le.inverse_transform(y_pred.astype(\"uint8\").reshape(-1))\n",
    "ss_df.to_csv(\"submission.csv\", index=False)"
   ]
  }
 ],
 "metadata": {
  "kernelspec": {
   "display_name": "Python 3",
   "language": "python",
   "name": "python3"
  },
  "language_info": {
   "codemirror_mode": {
    "name": "ipython",
    "version": 3
   },
   "file_extension": ".py",
   "mimetype": "text/x-python",
   "name": "python",
   "nbconvert_exporter": "python",
   "pygments_lexer": "ipython3",
   "version": "3.7.12"
  },
  "papermill": {
   "default_parameters": {},
   "duration": 104.59655,
   "end_time": "2022-07-03T19:36:03.086506",
   "environment_variables": {},
   "exception": null,
   "input_path": "__notebook__.ipynb",
   "output_path": "__notebook__.ipynb",
   "parameters": {},
   "start_time": "2022-07-03T19:34:18.489956",
   "version": "2.3.4"
  }
 },
 "nbformat": 4,
 "nbformat_minor": 5
}
