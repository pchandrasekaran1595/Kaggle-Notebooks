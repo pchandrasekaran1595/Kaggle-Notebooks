{
 "cells": [
  {
   "cell_type": "markdown",
   "id": "6446cdf0",
   "metadata": {
    "_cell_guid": "b1076dfc-b9ad-4769-8c92-a6c4dae69d19",
    "_uuid": "8f2839f25d086af736a60e9eeb907d3b93b6e0e5",
    "papermill": {
     "duration": 0.00559,
     "end_time": "2022-07-07T06:09:14.936586",
     "exception": false,
     "start_time": "2022-07-07T06:09:14.930996",
     "status": "completed"
    },
    "tags": []
   },
   "source": [
    "### **Library Imports**"
   ]
  },
  {
   "cell_type": "code",
   "execution_count": 1,
   "id": "65355c45",
   "metadata": {
    "execution": {
     "iopub.execute_input": "2022-07-07T06:09:14.947878Z",
     "iopub.status.busy": "2022-07-07T06:09:14.947076Z",
     "iopub.status.idle": "2022-07-07T06:09:18.695457Z",
     "shell.execute_reply": "2022-07-07T06:09:18.694525Z"
    },
    "papermill": {
     "duration": 3.756714,
     "end_time": "2022-07-07T06:09:18.697932",
     "exception": false,
     "start_time": "2022-07-07T06:09:14.941218",
     "status": "completed"
    },
    "tags": []
   },
   "outputs": [],
   "source": [
    "import os\n",
    "import re\n",
    "import cv2\n",
    "import torch\n",
    "import numpy as np\n",
    "import pandas as pd\n",
    "import matplotlib.pyplot as plt\n",
    "\n",
    "from time import time\n",
    "from torch import nn, optim\n",
    "from torch.utils.data import Dataset\n",
    "from torch.utils.data import DataLoader as DL\n",
    "from torchvision import models, transforms\n",
    "\n",
    "from sklearn.model_selection import StratifiedKFold\n",
    "from sklearn.preprocessing import LabelEncoder\n",
    "from sklearn.metrics import accuracy_score"
   ]
  },
  {
   "cell_type": "markdown",
   "id": "87f093c4",
   "metadata": {
    "papermill": {
     "duration": 0.003678,
     "end_time": "2022-07-07T06:09:18.705854",
     "exception": false,
     "start_time": "2022-07-07T06:09:18.702176",
     "status": "completed"
    },
    "tags": []
   },
   "source": [
    "### **Utilities and Helpers**"
   ]
  },
  {
   "cell_type": "code",
   "execution_count": 2,
   "id": "57f7597f",
   "metadata": {
    "execution": {
     "iopub.execute_input": "2022-07-07T06:09:18.716220Z",
     "iopub.status.busy": "2022-07-07T06:09:18.715128Z",
     "iopub.status.idle": "2022-07-07T06:09:18.731517Z",
     "shell.execute_reply": "2022-07-07T06:09:18.730426Z"
    },
    "papermill": {
     "duration": 0.023916,
     "end_time": "2022-07-07T06:09:18.733902",
     "exception": false,
     "start_time": "2022-07-07T06:09:18.709986",
     "status": "completed"
    },
    "tags": []
   },
   "outputs": [],
   "source": [
    "SEED = 42\n",
    "SIZE = 384\n",
    "le = LabelEncoder()\n",
    "\n",
    "\n",
    "def breaker(num: int=50, char: str=\"*\") -> None:\n",
    "    print(\"\\n\" + num*char + \"\\n\")\n",
    "\n",
    "    \n",
    "def get_image(path: str, size: int=224) -> np.ndarray:\n",
    "    return cv2.resize(\n",
    "        src=cv2.cvtColor(src=cv2.imread(path, cv2.IMREAD_COLOR), code=cv2.COLOR_BGR2RGB), \n",
    "        dsize=(size, size), \n",
    "        interpolation=cv2.INTER_AREA\n",
    "    )\n",
    "\n",
    "    \n",
    "def show_loss_graphs(A: list) -> None:\n",
    "    TL, VL = [], []\n",
    "    for i in range(len(L)):\n",
    "        TL.append(L[i][\"train\"])\n",
    "        VL.append(L[i][\"valid\"])\n",
    "    x_Axis = np.arange(1, len(TL) + 1)\n",
    "    plt.figure()\n",
    "    plt.plot(x_Axis, TL, \"r\", label=\"Train\")\n",
    "    plt.plot(x_Axis, VL, \"b\", label=\"Valid\")\n",
    "    plt.legend()\n",
    "    plt.grid()\n",
    "    plt.title(\"Loss Graph\")\n",
    "    plt.show()\n",
    "\n",
    "    \n",
    "def show_accuracy_graphs(A: list) -> None:\n",
    "    TA, VA = [], []\n",
    "    for i in range(len(L)):\n",
    "        TA.append(A[i][\"train\"])\n",
    "        VA.append(A[i][\"valid\"])\n",
    "    x_Axis = np.arange(1, len(TA) + 1)\n",
    "    plt.figure()\n",
    "    plt.plot(x_Axis, TA, \"r\", label=\"Train\")\n",
    "    plt.plot(x_Axis, VA, \"b\", label=\"Valid\")\n",
    "    plt.legend()\n",
    "    plt.grid()\n",
    "    plt.title(\"Accuracy Graph\")\n",
    "    plt.show()\n",
    "\n",
    "\n",
    "def show_lr_graph(LR: list) -> None:\n",
    "    x_Axis = [i+1 for i in range(len(LR))]\n",
    "    plt.figure(figsize=(8, 6))\n",
    "    plt.plot(x_Axis, LR, \"rx\")\n",
    "    plt.grid()\n",
    "    plt.show()"
   ]
  },
  {
   "cell_type": "markdown",
   "id": "6cc91eda",
   "metadata": {
    "papermill": {
     "duration": 0.004032,
     "end_time": "2022-07-07T06:09:18.742223",
     "exception": false,
     "start_time": "2022-07-07T06:09:18.738191",
     "status": "completed"
    },
    "tags": []
   },
   "source": [
    "### **Configuration**"
   ]
  },
  {
   "cell_type": "code",
   "execution_count": 3,
   "id": "b6273d53",
   "metadata": {
    "execution": {
     "iopub.execute_input": "2022-07-07T06:09:18.751820Z",
     "iopub.status.busy": "2022-07-07T06:09:18.751526Z",
     "iopub.status.idle": "2022-07-07T06:09:18.847323Z",
     "shell.execute_reply": "2022-07-07T06:09:18.846141Z"
    },
    "papermill": {
     "duration": 0.103051,
     "end_time": "2022-07-07T06:09:18.849446",
     "exception": false,
     "start_time": "2022-07-07T06:09:18.746395",
     "status": "completed"
    },
    "tags": []
   },
   "outputs": [],
   "source": [
    "class CFG(object):\n",
    "    def __init__(self, \n",
    "                 seed: int = 42,\n",
    "                 n_splits: int = 5,\n",
    "                 batch_size: int = 16,\n",
    "                 epochs: int = 25,\n",
    "                 early_stopping: int = 5,\n",
    "                 lr: float = 1e-4,\n",
    "                 wd: float = 0.0,\n",
    "                 max_lr: float = 1e-3,\n",
    "                 pct_start: float = 0.2,\n",
    "                 steps_per_epoch: int = 100,\n",
    "                 div_factor: int = 1e3, \n",
    "                 final_div_factor: float = 1e3,\n",
    "                 ):\n",
    "        \n",
    "        self.seed = seed\n",
    "        self.n_splits = n_splits\n",
    "        self.batch_size = batch_size\n",
    "        self.epochs = epochs\n",
    "        self.early_stopping = early_stopping\n",
    "        self.lr = lr\n",
    "        self.wd = wd\n",
    "        self.max_lr = max_lr\n",
    "        self.pct_start = pct_start\n",
    "        self.steps_per_epoch = steps_per_epoch\n",
    "        self.div_factor = div_factor\n",
    "        self.final_div_factor = final_div_factor\n",
    "        self.device = torch.device(\"cuda\" if torch.cuda.is_available() else \"cpu\")\n",
    "        self.train_transform = transforms.Compose([transforms.ToTensor(),\n",
    "                                                   transforms.Normalize([0.49699, 0.58823, 0.23049],\n",
    "                                                                        [0.22591, 0.22614, 0.18264]),\n",
    "                                                   transforms.RandomAffine(degrees=(-45, 45), translate=(0.15, 0.15), scale=(0.5, 1.5)),\n",
    "                                                   transforms.RandomHorizontalFlip(p=0.25),\n",
    "                                                   transforms.RandomVerticalFlip(p=0.25),\n",
    "                                                  ])\n",
    "        self.valid_transform = transforms.Compose([transforms.ToTensor(),\n",
    "                                                   transforms.Normalize([0.49699, 0.58823, 0.23049],\n",
    "                                                                        [0.22591, 0.22614, 0.18264]),\n",
    "                                                  ])\n",
    "        self.save_path = \"saves\"\n",
    "        if not os.path.exists(self.save_path): os.makedirs(self.save_path)\n",
    "    \n",
    "cfg = CFG(seed=SEED)"
   ]
  },
  {
   "cell_type": "markdown",
   "id": "23d51a43",
   "metadata": {
    "papermill": {
     "duration": 0.004174,
     "end_time": "2022-07-07T06:09:18.857768",
     "exception": false,
     "start_time": "2022-07-07T06:09:18.853594",
     "status": "completed"
    },
    "tags": []
   },
   "source": [
    "### **Dataset Template**"
   ]
  },
  {
   "cell_type": "code",
   "execution_count": 4,
   "id": "f405bdec",
   "metadata": {
    "execution": {
     "iopub.execute_input": "2022-07-07T06:09:18.868804Z",
     "iopub.status.busy": "2022-07-07T06:09:18.867912Z",
     "iopub.status.idle": "2022-07-07T06:09:18.876338Z",
     "shell.execute_reply": "2022-07-07T06:09:18.875379Z"
    },
    "papermill": {
     "duration": 0.015947,
     "end_time": "2022-07-07T06:09:18.878304",
     "exception": false,
     "start_time": "2022-07-07T06:09:18.862357",
     "status": "completed"
    },
    "tags": []
   },
   "outputs": [],
   "source": [
    "class DS(Dataset):\n",
    "    def __init__(self, \n",
    "                 base_path: str,\n",
    "                 size: int,\n",
    "                 filenames: np.ndarray, \n",
    "                 labelnames: np.ndarray, \n",
    "                 labels: np.ndarray, \n",
    "                 transform):\n",
    "        \n",
    "        self.base_path = base_path\n",
    "        self.size = size\n",
    "        self.filenames = filenames\n",
    "        self.labelnames = labelnames\n",
    "        self.labels = labels\n",
    "        self.transform = transform\n",
    "        \n",
    "    def __len__(self):\n",
    "        return self.filenames.shape[0]\n",
    "    \n",
    "    def __getitem__(self, idx):\n",
    "        image_path = os.path.join(os.path.join(self.base_path, self.labelnames[idx]), self.filenames[idx])\n",
    "        image = get_image(image_path, self.size)\n",
    "        return self.transform(image), torch.LongTensor(self.labels[idx])"
   ]
  },
  {
   "cell_type": "markdown",
   "id": "a99a527a",
   "metadata": {
    "papermill": {
     "duration": 0.003781,
     "end_time": "2022-07-07T06:09:18.886443",
     "exception": false,
     "start_time": "2022-07-07T06:09:18.882662",
     "status": "completed"
    },
    "tags": []
   },
   "source": [
    "### **Model**"
   ]
  },
  {
   "cell_type": "code",
   "execution_count": 5,
   "id": "ca9fe2b3",
   "metadata": {
    "execution": {
     "iopub.execute_input": "2022-07-07T06:09:18.896346Z",
     "iopub.status.busy": "2022-07-07T06:09:18.895448Z",
     "iopub.status.idle": "2022-07-07T06:09:18.902891Z",
     "shell.execute_reply": "2022-07-07T06:09:18.901995Z"
    },
    "papermill": {
     "duration": 0.014321,
     "end_time": "2022-07-07T06:09:18.904869",
     "exception": false,
     "start_time": "2022-07-07T06:09:18.890548",
     "status": "completed"
    },
    "tags": []
   },
   "outputs": [],
   "source": [
    "class Model(nn.Module):\n",
    "    def __init__(self):\n",
    "        super(Model, self).__init__()\n",
    "\n",
    "        self.model = models.densenet169(pretrained=True, progress=True)\n",
    "        # self.freeze()\n",
    "        self.model.classifier = nn.Linear(in_features=self.model.classifier.in_features, out_features=10)\n",
    "    \n",
    "    def freeze(self):\n",
    "        for params in self.parameters(): params.requires_grad = False\n",
    "\n",
    "    def forward(self, x):\n",
    "        return nn.LogSoftmax(dim=1)(self.model(x))"
   ]
  },
  {
   "cell_type": "markdown",
   "id": "bec23f80",
   "metadata": {
    "papermill": {
     "duration": 0.004236,
     "end_time": "2022-07-07T06:09:18.913513",
     "exception": false,
     "start_time": "2022-07-07T06:09:18.909277",
     "status": "completed"
    },
    "tags": []
   },
   "source": [
    "### **Fit and Predict Helpers**"
   ]
  },
  {
   "cell_type": "code",
   "execution_count": 6,
   "id": "d458453c",
   "metadata": {
    "execution": {
     "iopub.execute_input": "2022-07-07T06:09:18.923544Z",
     "iopub.status.busy": "2022-07-07T06:09:18.923204Z",
     "iopub.status.idle": "2022-07-07T06:09:18.953898Z",
     "shell.execute_reply": "2022-07-07T06:09:18.952982Z"
    },
    "papermill": {
     "duration": 0.038521,
     "end_time": "2022-07-07T06:09:18.956139",
     "exception": false,
     "start_time": "2022-07-07T06:09:18.917618",
     "status": "completed"
    },
    "tags": []
   },
   "outputs": [],
   "source": [
    "def fit(model=None, \n",
    "        optimizer=None, \n",
    "        scheduler_rlrop=None,\n",
    "        scheduler_oclr=None,\n",
    "        epochs=None, \n",
    "        early_stopping_patience=None, \n",
    "        dataloaders=None, \n",
    "        fold=None, \n",
    "        save_path=None,\n",
    "        device=None,\n",
    "        verbose=False) -> tuple:\n",
    "    \n",
    "    def get_accuracy(y_pred, y_true):\n",
    "        y_pred = torch.argmax(y_pred, dim=1)\n",
    "        return torch.count_nonzero(y_pred == y_true).item() / len(y_pred)\n",
    "    \n",
    "    if verbose:\n",
    "        breaker()\n",
    "        if fold: print(f\"Training Fold {fold}...\")\n",
    "        else: print(\"Training ...\")\n",
    "        breaker()\n",
    "        \n",
    "    bestLoss, bestAccs = {\"train\" : np.inf, \"valid\" : np.inf}, {\"train\" : 0.0, \"valid\" : 0.0}\n",
    "    Losses, Accuracies, LRs = [], [], []\n",
    "    if fold: \n",
    "        ble_name = f\"ble_state_fold_{fold}.pt\"\n",
    "        bae_name = f\"bae_state_fold_{fold}.pt\"\n",
    "    else: \n",
    "        ble_name = \"ble_state.pt\"\n",
    "        bae_name = \"bae_state.pt\"\n",
    "\n",
    "    start_time = time()\n",
    "    for e in range(epochs):\n",
    "        e_st = time()\n",
    "        epochLoss, epochAccs = {\"train\" : 0.0, \"valid\" : 0.0}, {\"train\" : 0.0, \"valid\" : 0.0}\n",
    "\n",
    "        for phase in [\"train\", \"valid\"]:\n",
    "            if phase == \"train\":\n",
    "                model.train()\n",
    "            else:\n",
    "                model.eval()\n",
    "            \n",
    "            lossPerPass, accsPerPass = [], []\n",
    "\n",
    "            for X, y in dataloaders[phase]:\n",
    "                X, y = X.to(device), y.to(device).view(-1)\n",
    "\n",
    "                optimizer.zero_grad()\n",
    "                with torch.set_grad_enabled(phase == \"train\"):\n",
    "                    output = model(X)\n",
    "                    loss = torch.nn.NLLLoss()(output, y)\n",
    "                    if phase == \"train\":\n",
    "                        loss.backward()\n",
    "                        optimizer.step()\n",
    "                        if scheduler_oclr: scheduler_oclr.step()\n",
    "                lossPerPass.append(loss.item())\n",
    "                accsPerPass.append(get_accuracy(output, y))\n",
    "            epochLoss[phase] = np.mean(np.array(lossPerPass))\n",
    "            epochAccs[phase] = np.mean(np.array(accsPerPass))\n",
    "        if scheduler_oclr: LRs.append(scheduler_oclr.get_last_lr())\n",
    "        Losses.append(epochLoss)\n",
    "        Accuracies.append(epochAccs)\n",
    "        \n",
    "        if scheduler_oclr:\n",
    "            save_dict = {\"model_state_dict\"     : model.state_dict(),\n",
    "                         \"optim_state_dict\"     : optimizer.state_dict(),\n",
    "                         \"scheduler_state_dict\" : scheduler_oclr.state_dict()}\n",
    "        \n",
    "        elif scheduler_rlrop:\n",
    "            save_dict = {\"model_state_dict\"     : model.state_dict(),\n",
    "                         \"optim_state_dict\"     : optimizer.state_dict(),\n",
    "                         \"scheduler_state_dict\" : scheduler_rlrop.state_dict()}\n",
    "        \n",
    "        else:\n",
    "            save_dict = {\"model_state_dict\"     : model.state_dict(),\n",
    "                         \"optim_state_dict\"     : optimizer.state_dict()}\n",
    "        \n",
    "        if early_stopping_patience:\n",
    "            if epochLoss[\"valid\"] < bestLoss[\"valid\"]:\n",
    "                bestLoss = epochLoss\n",
    "                BLE = e + 1\n",
    "                torch.save(save_dict, os.path.join(save_path, name))\n",
    "                early_stopping_step = 0\n",
    "            else:\n",
    "                early_stopping_step += 1\n",
    "                if early_stopping_step > early_stopping_patience:\n",
    "                    print(\"\\nEarly Stopping at Epoch {}\".format(e + 1))\n",
    "                    break\n",
    "        \n",
    "        if epochLoss[\"valid\"] < bestLoss[\"valid\"]:\n",
    "            bestLoss = epochLoss\n",
    "            BLE = e + 1\n",
    "            torch.save(save_dict,os.path.join(save_path, ble_name))\n",
    "        \n",
    "        if epochAccs[\"valid\"] > bestAccs[\"valid\"]:\n",
    "            bestAccs = epochAccs\n",
    "            BAE = e + 1\n",
    "            torch.save(save_dict,os.path.join(save_path, bae_name))\n",
    "\n",
    "        \n",
    "        if scheduler_rlrop: scheduler_rlrop.step(epochLoss[\"valid\"])\n",
    "        \n",
    "        if verbose:\n",
    "            print(\"Epoch: {} | Train Loss: {:.5f} | Valid Loss: {:.5f} |\\\n",
    " Train Accs: {:.5f} | Valid Accs: {:.5f} | Time: {:.2f} seconds\".format(e+1, \n",
    "                                                                        epochLoss[\"train\"], epochLoss[\"valid\"], \n",
    "                                                                        epochAccs[\"train\"], epochAccs[\"valid\"], \n",
    "                                                                        time()-e_st))\n",
    "\n",
    "    if verbose:                                           \n",
    "        breaker()\n",
    "        print(f\"Best Validation Loss at Epoch {BLE}\")\n",
    "        breaker()\n",
    "        print(f\"Best Validation Accs at Epoch {BAE}\")\n",
    "        breaker()\n",
    "        print(\"Time Taken [{} Epochs] : {:.2f} minutes\".format(len(Losses), (time()-start_time)/60))\n",
    "    \n",
    "    return Losses, Accuracies, LRs, BLE, BAE, ble_name, bae_name\n",
    "\n",
    "\n",
    "def predict_batch(model=None, dataloader=None, path=None, device=None) -> np.ndarray:\n",
    "    model.load_state_dict(torch.load(path, map_location=device)[\"model_state_dict\"])\n",
    "    model.to(device)    \n",
    "    model.eval()\n",
    "    \n",
    "    y_pred = torch.zeros(1, 1).to(device)\n",
    "    \n",
    "    for X in dataloader:\n",
    "        X = X.to(device)\n",
    "        with torch.no_grad():\n",
    "            output = torch.argmax(torch.exp(model(X)), dim=1)\n",
    "        y_pred = torch.cat((y_pred, output.view(-1, 1)), dim=0)\n",
    "    \n",
    "    return y_pred[1:].detach().cpu().numpy()"
   ]
  },
  {
   "cell_type": "markdown",
   "id": "f5a550b4",
   "metadata": {
    "papermill": {
     "duration": 0.004239,
     "end_time": "2022-07-07T06:09:18.964693",
     "exception": false,
     "start_time": "2022-07-07T06:09:18.960454",
     "status": "completed"
    },
    "tags": []
   },
   "source": [
    "### **Train**"
   ]
  },
  {
   "cell_type": "code",
   "execution_count": 7,
   "id": "771c9023",
   "metadata": {
    "execution": {
     "iopub.execute_input": "2022-07-07T06:09:18.975310Z",
     "iopub.status.busy": "2022-07-07T06:09:18.974426Z",
     "iopub.status.idle": "2022-07-07T06:09:19.016319Z",
     "shell.execute_reply": "2022-07-07T06:09:19.015259Z"
    },
    "papermill": {
     "duration": 0.049403,
     "end_time": "2022-07-07T06:09:19.018483",
     "exception": false,
     "start_time": "2022-07-07T06:09:18.969080",
     "status": "completed"
    },
    "tags": []
   },
   "outputs": [],
   "source": [
    "df = pd.read_csv(\"../input/paddy-disease-classification/train.csv\")\n",
    "\n",
    "filenames = df.image_id.copy().values\n",
    "labelnames = df.label.copy().values\n",
    "labels = le.fit_transform(labelnames)"
   ]
  },
  {
   "cell_type": "code",
   "execution_count": 8,
   "id": "f91d4c33",
   "metadata": {
    "execution": {
     "iopub.execute_input": "2022-07-07T06:09:19.028034Z",
     "iopub.status.busy": "2022-07-07T06:09:19.027710Z",
     "iopub.status.idle": "2022-07-07T10:01:45.844362Z",
     "shell.execute_reply": "2022-07-07T10:01:45.841169Z"
    },
    "papermill": {
     "duration": 13946.825097,
     "end_time": "2022-07-07T10:01:45.847658",
     "exception": false,
     "start_time": "2022-07-07T06:09:19.022561",
     "status": "completed"
    },
    "tags": []
   },
   "outputs": [
    {
     "name": "stderr",
     "output_type": "stream",
     "text": [
      "Downloading: \"https://download.pytorch.org/models/densenet169-b2777c0a.pth\" to /root/.cache/torch/hub/checkpoints/densenet169-b2777c0a.pth\n"
     ]
    },
    {
     "data": {
      "application/vnd.jupyter.widget-view+json": {
       "model_id": "ccb5fd7b8ddd420e80cc71666f68f0d4",
       "version_major": 2,
       "version_minor": 0
      },
      "text/plain": [
       "  0%|          | 0.00/54.7M [00:00<?, ?B/s]"
      ]
     },
     "metadata": {},
     "output_type": "display_data"
    },
    {
     "name": "stdout",
     "output_type": "stream",
     "text": [
      "\n",
      "**************************************************\n",
      "\n",
      "Training ...\n",
      "\n",
      "**************************************************\n",
      "\n",
      "Epoch: 1 | Train Loss: 2.22200 | Valid Loss: 2.02449 | Train Accs: 0.18370 | Valid Accs: 0.29676 | Time: 496.05 seconds\n",
      "Epoch: 2 | Train Loss: 1.77404 | Valid Loss: 1.25631 | Train Accs: 0.41439 | Valid Accs: 0.58779 | Time: 405.74 seconds\n",
      "Epoch: 3 | Train Loss: 1.14150 | Valid Loss: 0.78387 | Train Accs: 0.62548 | Valid Accs: 0.71422 | Time: 404.99 seconds\n",
      "Epoch: 4 | Train Loss: 0.76022 | Valid Loss: 0.57269 | Train Accs: 0.75148 | Valid Accs: 0.80200 | Time: 405.17 seconds\n",
      "Epoch: 5 | Train Loss: 0.56711 | Valid Loss: 0.37384 | Train Accs: 0.81878 | Valid Accs: 0.87452 | Time: 396.08 seconds\n",
      "Epoch: 6 | Train Loss: 0.46844 | Valid Loss: 0.37006 | Train Accs: 0.84965 | Valid Accs: 0.87643 | Time: 394.88 seconds\n",
      "Epoch: 7 | Train Loss: 0.37794 | Valid Loss: 0.24392 | Train Accs: 0.87712 | Valid Accs: 0.92700 | Time: 393.26 seconds\n",
      "Epoch: 8 | Train Loss: 0.33570 | Valid Loss: 0.25645 | Train Accs: 0.88916 | Valid Accs: 0.91365 | Time: 389.34 seconds\n",
      "Epoch: 9 | Train Loss: 0.28833 | Valid Loss: 0.25437 | Train Accs: 0.90935 | Valid Accs: 0.91555 | Time: 395.35 seconds\n",
      "Epoch: 10 | Train Loss: 0.24884 | Valid Loss: 0.21384 | Train Accs: 0.92338 | Valid Accs: 0.94179 | Time: 397.52 seconds\n",
      "Epoch: 11 | Train Loss: 0.21959 | Valid Loss: 0.18042 | Train Accs: 0.92986 | Valid Accs: 0.94752 | Time: 398.11 seconds\n",
      "Epoch: 12 | Train Loss: 0.20228 | Valid Loss: 0.17667 | Train Accs: 0.93322 | Valid Accs: 0.94895 | Time: 399.73 seconds\n",
      "Epoch: 13 | Train Loss: 0.18077 | Valid Loss: 0.17631 | Train Accs: 0.94446 | Valid Accs: 0.95324 | Time: 394.13 seconds\n",
      "Epoch: 14 | Train Loss: 0.16273 | Valid Loss: 0.15140 | Train Accs: 0.95214 | Valid Accs: 0.95754 | Time: 394.49 seconds\n",
      "Epoch: 15 | Train Loss: 0.14286 | Valid Loss: 0.13614 | Train Accs: 0.95633 | Valid Accs: 0.95706 | Time: 391.39 seconds\n",
      "Epoch: 16 | Train Loss: 0.14149 | Valid Loss: 0.12854 | Train Accs: 0.95597 | Valid Accs: 0.96088 | Time: 396.48 seconds\n",
      "Epoch: 17 | Train Loss: 0.12538 | Valid Loss: 0.12559 | Train Accs: 0.96221 | Valid Accs: 0.96517 | Time: 396.97 seconds\n",
      "Epoch: 18 | Train Loss: 0.11535 | Valid Loss: 0.11363 | Train Accs: 0.96657 | Valid Accs: 0.96947 | Time: 399.26 seconds\n",
      "Epoch: 19 | Train Loss: 0.11154 | Valid Loss: 0.12075 | Train Accs: 0.96605 | Valid Accs: 0.96851 | Time: 392.81 seconds\n",
      "Epoch: 20 | Train Loss: 0.10934 | Valid Loss: 0.11616 | Train Accs: 0.96585 | Valid Accs: 0.96803 | Time: 397.22 seconds\n",
      "Epoch: 21 | Train Loss: 0.09173 | Valid Loss: 0.09288 | Train Accs: 0.97121 | Valid Accs: 0.97185 | Time: 395.86 seconds\n",
      "Epoch: 22 | Train Loss: 0.08541 | Valid Loss: 0.10275 | Train Accs: 0.97325 | Valid Accs: 0.96899 | Time: 403.22 seconds\n",
      "Epoch: 23 | Train Loss: 0.07765 | Valid Loss: 0.09777 | Train Accs: 0.97589 | Valid Accs: 0.97042 | Time: 392.12 seconds\n",
      "Epoch: 24 | Train Loss: 0.06505 | Valid Loss: 0.09942 | Train Accs: 0.98037 | Valid Accs: 0.96994 | Time: 394.62 seconds\n",
      "Epoch: 25 | Train Loss: 0.06532 | Valid Loss: 0.09976 | Train Accs: 0.98049 | Valid Accs: 0.97281 | Time: 395.36 seconds\n",
      "Epoch: 26 | Train Loss: 0.05411 | Valid Loss: 0.09810 | Train Accs: 0.98321 | Valid Accs: 0.97376 | Time: 392.30 seconds\n",
      "Epoch: 27 | Train Loss: 0.05221 | Valid Loss: 0.10147 | Train Accs: 0.98488 | Valid Accs: 0.97758 | Time: 393.40 seconds\n",
      "Epoch: 28 | Train Loss: 0.05456 | Valid Loss: 0.09349 | Train Accs: 0.98321 | Valid Accs: 0.97567 | Time: 391.90 seconds\n",
      "Epoch: 29 | Train Loss: 0.04867 | Valid Loss: 0.09053 | Train Accs: 0.98444 | Valid Accs: 0.97805 | Time: 392.86 seconds\n",
      "Epoch: 30 | Train Loss: 0.04414 | Valid Loss: 0.08744 | Train Accs: 0.98608 | Valid Accs: 0.97758 | Time: 391.68 seconds\n",
      "Epoch: 31 | Train Loss: 0.04414 | Valid Loss: 0.09037 | Train Accs: 0.98596 | Valid Accs: 0.97710 | Time: 390.93 seconds\n",
      "Epoch: 32 | Train Loss: 0.04066 | Valid Loss: 0.09119 | Train Accs: 0.98824 | Valid Accs: 0.97662 | Time: 391.19 seconds\n",
      "Epoch: 33 | Train Loss: 0.04034 | Valid Loss: 0.08476 | Train Accs: 0.98692 | Valid Accs: 0.97805 | Time: 392.24 seconds\n",
      "Epoch: 34 | Train Loss: 0.03651 | Valid Loss: 0.08597 | Train Accs: 0.98920 | Valid Accs: 0.97853 | Time: 392.46 seconds\n",
      "Epoch: 35 | Train Loss: 0.04011 | Valid Loss: 0.08495 | Train Accs: 0.98752 | Valid Accs: 0.97805 | Time: 392.32 seconds\n",
      "\n",
      "**************************************************\n",
      "\n",
      "Best Validation Loss at Epoch 33\n",
      "\n",
      "**************************************************\n",
      "\n",
      "Best Validation Accs at Epoch 34\n",
      "\n",
      "**************************************************\n",
      "\n",
      "Time Taken [35 Epochs] : 232.36 minutes\n",
      "\n",
      "**************************************************\n",
      "\n"
     ]
    },
    {
     "data": {
      "image/png": "[encoded data removed]",
      "text/plain": [
       "<Figure size 432x288 with 1 Axes>"
      ]
     },
     "metadata": {
      "needs_background": "light"
     },
     "output_type": "display_data"
    },
    {
     "name": "stdout",
     "output_type": "stream",
     "text": [
      "\n",
      "**************************************************\n",
      "\n"
     ]
    },
    {
     "data": {
      "image/png": "[encoded data removed]",
      "text/plain": [
       "<Figure size 432x288 with 1 Axes>"
      ]
     },
     "metadata": {
      "needs_background": "light"
     },
     "output_type": "display_data"
    },
    {
     "name": "stdout",
     "output_type": "stream",
     "text": [
      "\n",
      "**************************************************\n",
      "\n"
     ]
    },
    {
     "data": {
      "image/png": "[encoded data removed]",
      "text/plain": [
       "<Figure size 576x432 with 1 Axes>"
      ]
     },
     "metadata": {
      "needs_background": "light"
     },
     "output_type": "display_data"
    },
    {
     "name": "stdout",
     "output_type": "stream",
     "text": [
      "\n",
      "**************************************************\n",
      "\n"
     ]
    }
   ],
   "source": [
    "fold = 1\n",
    "for tr_idx, va_idx in StratifiedKFold(n_splits=cfg.n_splits, random_state=cfg.seed, shuffle=True).split(filenames, labels):\n",
    "    if fold == 3: break\n",
    "    fold += 1\n",
    "\n",
    "tr_filenames, va_filenames   = filenames[tr_idx], filenames[va_idx], \n",
    "tr_labelnames, va_labelnames = labelnames[tr_idx], labelnames[va_idx]\n",
    "tr_labels, va_labels         = labels[tr_idx], labels[va_idx]\n",
    "\n",
    "tr_data_setup = DS(\n",
    "    \"../input/paddy-disease-classification/train_images\",\n",
    "    SIZE,\n",
    "    tr_filenames, \n",
    "    tr_labelnames, \n",
    "    tr_labels.reshape(-1, 1), \n",
    "    cfg.train_transform,\n",
    ")\n",
    "\n",
    "va_data_setup = DS(\n",
    "    \"../input/paddy-disease-classification/train_images\",\n",
    "    SIZE,\n",
    "    va_filenames, \n",
    "    va_labelnames, \n",
    "    va_labels.reshape(-1, 1), \n",
    "    cfg.valid_transform,\n",
    ")\n",
    "\n",
    "dataloaders = {\n",
    "    \"train\" : DL(tr_data_setup, batch_size=cfg.batch_size, shuffle=True, generator=torch.manual_seed(cfg.seed)),\n",
    "    \"valid\" : DL(va_data_setup, batch_size=cfg.batch_size, shuffle=False),\n",
    "}\n",
    "\n",
    "cfg = CFG(epochs=35, batch_size=64, steps_per_epoch=len(dataloaders[\"train\"]))\n",
    "\n",
    "torch.manual_seed(cfg.seed)\n",
    "model = Model().to(cfg.device)\n",
    "\n",
    "optimizer = optim.SGD([p for p in model.parameters() if p.requires_grad], momentum=0.9, lr=cfg.lr, weight_decay=cfg.wd)\n",
    "\n",
    "scheduler_oclr = optim.lr_scheduler.OneCycleLR(optimizer=optimizer, \n",
    "                                               max_lr=cfg.max_lr, \n",
    "                                               epochs=cfg.epochs, \n",
    "                                               steps_per_epoch=cfg.steps_per_epoch,\n",
    "                                               pct_start=cfg.pct_start, \n",
    "                                               div_factor=cfg.div_factor, \n",
    "                                               final_div_factor=cfg.final_div_factor)\n",
    "# scheduler_rlrop = optim.lr_scheduler.ReduceLROnPlateau(optimizer=optimizer,\n",
    "#                                                       patience=cfg.patience,\n",
    "#                                                       eps=cfg.eps,\n",
    "#                                                       verbose=True)\n",
    "\n",
    "# scheduler_oclr = None\n",
    "scheduler_rlrop = None\n",
    "\n",
    "L, A, LR, BLE, BAE, _, _ = fit(model=model, \n",
    "                               optimizer=optimizer, \n",
    "                               scheduler_oclr=scheduler_oclr,\n",
    "                               scheduler_rlrop=scheduler_rlrop,\n",
    "                               epochs=cfg.epochs, \n",
    "                               early_stopping_patience=None, \n",
    "                               dataloaders=dataloaders, \n",
    "                               device=cfg.device,\n",
    "                               save_path=cfg.save_path,\n",
    "                               fold=None,\n",
    "                               verbose=True)\n",
    "\n",
    "breaker()\n",
    "show_loss_graphs(L)\n",
    "breaker()\n",
    "show_accuracy_graphs(A)\n",
    "breaker()\n",
    "\n",
    "if scheduler_oclr:\n",
    "    show_lr_graph(LR)\n",
    "    breaker()"
   ]
  }
 ],
 "metadata": {
  "kernelspec": {
   "display_name": "Python 3",
   "language": "python",
   "name": "python3"
  },
  "language_info": {
   "codemirror_mode": {
    "name": "ipython",
    "version": 3
   },
   "file_extension": ".py",
   "mimetype": "text/x-python",
   "name": "python",
   "nbconvert_exporter": "python",
   "pygments_lexer": "ipython3",
   "version": "3.7.12"
  },
  "papermill": {
   "default_parameters": {},
   "duration": 13962.521451,
   "end_time": "2022-07-07T10:01:47.404761",
   "environment_variables": {},
   "exception": null,
   "input_path": "__notebook__.ipynb",
   "output_path": "__notebook__.ipynb",
   "parameters": {},
   "start_time": "2022-07-07T06:09:04.883310",
   "version": "2.3.4"
  },
  "widgets": {
   "application/vnd.jupyter.widget-state+json": {
    "state": {
     "18c4a816b10e4036857b4bc140b11ae6": {
      "model_module": "@jupyter-widgets/controls",
      "model_module_version": "1.5.0",
      "model_name": "HTMLModel",
      "state": {
       "_dom_classes": [],
       "_model_module": "@jupyter-widgets/controls",
       "_model_module_version": "1.5.0",
       "_model_name": "HTMLModel",
       "_view_count": null,
       "_view_module": "@jupyter-widgets/controls",
       "_view_module_version": "1.5.0",
       "_view_name": "HTMLView",
       "description": "",
       "description_tooltip": null,
       "layout": "IPY_MODEL_7547f5f028864fca8bfc1409956509fe",
       "placeholder": "​",
       "style": "IPY_MODEL_828eb6507f4b4dddaa85a5b55c27fc68",
       "value": "100%"
      }
     },
     "29f1d3ad3fc5405a8af8883f3299b317": {
      "model_module": "@jupyter-widgets/controls",
      "model_module_version": "1.5.0",
      "model_name": "ProgressStyleModel",
      "state": {
       "_model_module": "@jupyter-widgets/controls",
       "_model_module_version": "1.5.0",
       "_model_name": "ProgressStyleModel",
       "_view_count": null,
       "_view_module": "@jupyter-widgets/base",
       "_view_module_version": "1.2.0",
       "_view_name": "StyleView",
       "bar_color": null,
       "description_width": ""
      }
     },
     "6a8f4d1af127407cbcf99326abb4bfbd": {
      "model_module": "@jupyter-widgets/controls",
      "model_module_version": "1.5.0",
      "model_name": "HTMLModel",
      "state": {
       "_dom_classes": [],
       "_model_module": "@jupyter-widgets/controls",
       "_model_module_version": "1.5.0",
       "_model_name": "HTMLModel",
       "_view_count": null,
       "_view_module": "@jupyter-widgets/controls",
       "_view_module_version": "1.5.0",
       "_view_name": "HTMLView",
       "description": "",
       "description_tooltip": null,
       "layout": "IPY_MODEL_b323a63f38544c8bb0c688f96129bc14",
       "placeholder": "​",
       "style": "IPY_MODEL_fbe80a757b054c28b1526504401de2af",
       "value": " 54.7M/54.7M [00:00&lt;00:00, 136MB/s]"
      }
     },
     "7547f5f028864fca8bfc1409956509fe": {
      "model_module": "@jupyter-widgets/base",
      "model_module_version": "1.2.0",
      "model_name": "LayoutModel",
      "state": {
       "_model_module": "@jupyter-widgets/base",
       "_model_module_version": "1.2.0",
       "_model_name": "LayoutModel",
       "_view_count": null,
       "_view_module": "@jupyter-widgets/base",
       "_view_module_version": "1.2.0",
       "_view_name": "LayoutView",
       "align_content": null,
       "align_items": null,
       "align_self": null,
       "border": null,
       "bottom": null,
       "display": null,
       "flex": null,
       "flex_flow": null,
       "grid_area": null,
       "grid_auto_columns": null,
       "grid_auto_flow": null,
       "grid_auto_rows": null,
       "grid_column": null,
       "grid_gap": null,
       "grid_row": null,
       "grid_template_areas": null,
       "grid_template_columns": null,
       "grid_template_rows": null,
       "height": null,
       "justify_content": null,
       "justify_items": null,
       "left": null,
       "margin": null,
       "max_height": null,
       "max_width": null,
       "min_height": null,
       "min_width": null,
       "object_fit": null,
       "object_position": null,
       "order": null,
       "overflow": null,
       "overflow_x": null,
       "overflow_y": null,
       "padding": null,
       "right": null,
       "top": null,
       "visibility": null,
       "width": null
      }
     },
     "828eb6507f4b4dddaa85a5b55c27fc68": {
      "model_module": "@jupyter-widgets/controls",
      "model_module_version": "1.5.0",
      "model_name": "DescriptionStyleModel",
      "state": {
       "_model_module": "@jupyter-widgets/controls",
       "_model_module_version": "1.5.0",
       "_model_name": "DescriptionStyleModel",
       "_view_count": null,
       "_view_module": "@jupyter-widgets/base",
       "_view_module_version": "1.2.0",
       "_view_name": "StyleView",
       "description_width": ""
      }
     },
     "aebd727943fb455ca11e1b63b955fd30": {
      "model_module": "@jupyter-widgets/controls",
      "model_module_version": "1.5.0",
      "model_name": "FloatProgressModel",
      "state": {
       "_dom_classes": [],
       "_model_module": "@jupyter-widgets/controls",
       "_model_module_version": "1.5.0",
       "_model_name": "FloatProgressModel",
       "_view_count": null,
       "_view_module": "@jupyter-widgets/controls",
       "_view_module_version": "1.5.0",
       "_view_name": "ProgressView",
       "bar_style": "success",
       "description": "",
       "description_tooltip": null,
       "layout": "IPY_MODEL_de8094bb02e9400b9e9e507d9239e0b4",
       "max": 57365526.0,
       "min": 0.0,
       "orientation": "horizontal",
       "style": "IPY_MODEL_29f1d3ad3fc5405a8af8883f3299b317",
       "value": 57365526.0
      }
     },
     "b323a63f38544c8bb0c688f96129bc14": {
      "model_module": "@jupyter-widgets/base",
      "model_module_version": "1.2.0",
      "model_name": "LayoutModel",
      "state": {
       "_model_module": "@jupyter-widgets/base",
       "_model_module_version": "1.2.0",
       "_model_name": "LayoutModel",
       "_view_count": null,
       "_view_module": "@jupyter-widgets/base",
       "_view_module_version": "1.2.0",
       "_view_name": "LayoutView",
       "align_content": null,
       "align_items": null,
       "align_self": null,
       "border": null,
       "bottom": null,
       "display": null,
       "flex": null,
       "flex_flow": null,
       "grid_area": null,
       "grid_auto_columns": null,
       "grid_auto_flow": null,
       "grid_auto_rows": null,
       "grid_column": null,
       "grid_gap": null,
       "grid_row": null,
       "grid_template_areas": null,
       "grid_template_columns": null,
       "grid_template_rows": null,
       "height": null,
       "justify_content": null,
       "justify_items": null,
       "left": null,
       "margin": null,
       "max_height": null,
       "max_width": null,
       "min_height": null,
       "min_width": null,
       "object_fit": null,
       "object_position": null,
       "order": null,
       "overflow": null,
       "overflow_x": null,
       "overflow_y": null,
       "padding": null,
       "right": null,
       "top": null,
       "visibility": null,
       "width": null
      }
     },
     "ccb5fd7b8ddd420e80cc71666f68f0d4": {
      "model_module": "@jupyter-widgets/controls",
      "model_module_version": "1.5.0",
      "model_name": "HBoxModel",
      "state": {
       "_dom_classes": [],
       "_model_module": "@jupyter-widgets/controls",
       "_model_module_version": "1.5.0",
       "_model_name": "HBoxModel",
       "_view_count": null,
       "_view_module": "@jupyter-widgets/controls",
       "_view_module_version": "1.5.0",
       "_view_name": "HBoxView",
       "box_style": "",
       "children": [
        "IPY_MODEL_18c4a816b10e4036857b4bc140b11ae6",
        "IPY_MODEL_aebd727943fb455ca11e1b63b955fd30",
        "IPY_MODEL_6a8f4d1af127407cbcf99326abb4bfbd"
       ],
       "layout": "IPY_MODEL_e809f5e24e554d39998da9237bce35cc"
      }
     },
     "de8094bb02e9400b9e9e507d9239e0b4": {
      "model_module": "@jupyter-widgets/base",
      "model_module_version": "1.2.0",
      "model_name": "LayoutModel",
      "state": {
       "_model_module": "@jupyter-widgets/base",
       "_model_module_version": "1.2.0",
       "_model_name": "LayoutModel",
       "_view_count": null,
       "_view_module": "@jupyter-widgets/base",
       "_view_module_version": "1.2.0",
       "_view_name": "LayoutView",
       "align_content": null,
       "align_items": null,
       "align_self": null,
       "border": null,
       "bottom": null,
       "display": null,
       "flex": null,
       "flex_flow": null,
       "grid_area": null,
       "grid_auto_columns": null,
       "grid_auto_flow": null,
       "grid_auto_rows": null,
       "grid_column": null,
       "grid_gap": null,
       "grid_row": null,
       "grid_template_areas": null,
       "grid_template_columns": null,
       "grid_template_rows": null,
       "height": null,
       "justify_content": null,
       "justify_items": null,
       "left": null,
       "margin": null,
       "max_height": null,
       "max_width": null,
       "min_height": null,
       "min_width": null,
       "object_fit": null,
       "object_position": null,
       "order": null,
       "overflow": null,
       "overflow_x": null,
       "overflow_y": null,
       "padding": null,
       "right": null,
       "top": null,
       "visibility": null,
       "width": null
      }
     },
     "e809f5e24e554d39998da9237bce35cc": {
      "model_module": "@jupyter-widgets/base",
      "model_module_version": "1.2.0",
      "model_name": "LayoutModel",
      "state": {
       "_model_module": "@jupyter-widgets/base",
       "_model_module_version": "1.2.0",
       "_model_name": "LayoutModel",
       "_view_count": null,
       "_view_module": "@jupyter-widgets/base",
       "_view_module_version": "1.2.0",
       "_view_name": "LayoutView",
       "align_content": null,
       "align_items": null,
       "align_self": null,
       "border": null,
       "bottom": null,
       "display": null,
       "flex": null,
       "flex_flow": null,
       "grid_area": null,
       "grid_auto_columns": null,
       "grid_auto_flow": null,
       "grid_auto_rows": null,
       "grid_column": null,
       "grid_gap": null,
       "grid_row": null,
       "grid_template_areas": null,
       "grid_template_columns": null,
       "grid_template_rows": null,
       "height": null,
       "justify_content": null,
       "justify_items": null,
       "left": null,
       "margin": null,
       "max_height": null,
       "max_width": null,
       "min_height": null,
       "min_width": null,
       "object_fit": null,
       "object_position": null,
       "order": null,
       "overflow": null,
       "overflow_x": null,
       "overflow_y": null,
       "padding": null,
       "right": null,
       "top": null,
       "visibility": null,
       "width": null
      }
     },
     "fbe80a757b054c28b1526504401de2af": {
      "model_module": "@jupyter-widgets/controls",
      "model_module_version": "1.5.0",
      "model_name": "DescriptionStyleModel",
      "state": {
       "_model_module": "@jupyter-widgets/controls",
       "_model_module_version": "1.5.0",
       "_model_name": "DescriptionStyleModel",
       "_view_count": null,
       "_view_module": "@jupyter-widgets/base",
       "_view_module_version": "1.2.0",
       "_view_name": "StyleView",
       "description_width": ""
      }
     }
    },
    "version_major": 2,
    "version_minor": 0
   }
  }
 },
 "nbformat": 4,
 "nbformat_minor": 5
}
