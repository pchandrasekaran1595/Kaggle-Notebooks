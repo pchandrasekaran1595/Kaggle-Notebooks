{
 "cells": [
  {
   "cell_type": "markdown",
   "id": "6f82cd47",
   "metadata": {
    "papermill": {
     "duration": 0.006175,
     "end_time": "2022-07-06T06:14:52.650268",
     "exception": false,
     "start_time": "2022-07-06T06:14:52.644093",
     "status": "completed"
    },
    "tags": []
   },
   "source": [
    "### **Setup**"
   ]
  },
  {
   "cell_type": "code",
   "execution_count": 1,
   "id": "c3467f39",
   "metadata": {
    "execution": {
     "iopub.execute_input": "2022-07-06T06:14:52.664188Z",
     "iopub.status.busy": "2022-07-06T06:14:52.663679Z",
     "iopub.status.idle": "2022-07-06T06:15:06.506066Z",
     "shell.execute_reply": "2022-07-06T06:15:06.504393Z"
    },
    "papermill": {
     "duration": 13.851228,
     "end_time": "2022-07-06T06:15:06.508546",
     "exception": false,
     "start_time": "2022-07-06T06:14:52.657318",
     "status": "completed"
    },
    "tags": []
   },
   "outputs": [
    {
     "name": "stderr",
     "output_type": "stream",
     "text": [
      "WARNING: Running pip as the 'root' user can result in broken permissions and conflicting behaviour with the system package manager. It is recommended to use a virtual environment instead: https://pip.pypa.io/warnings/venv\n"
     ]
    }
   ],
   "source": [
    "%%bash\n",
    "pip install timm -q"
   ]
  },
  {
   "cell_type": "markdown",
   "id": "0db38a2d",
   "metadata": {
    "papermill": {
     "duration": 0.004176,
     "end_time": "2022-07-06T06:15:06.517080",
     "exception": false,
     "start_time": "2022-07-06T06:15:06.512904",
     "status": "completed"
    },
    "tags": []
   },
   "source": [
    "### **Library Imports**"
   ]
  },
  {
   "cell_type": "code",
   "execution_count": 2,
   "id": "d3585901",
   "metadata": {
    "execution": {
     "iopub.execute_input": "2022-07-06T06:15:06.526905Z",
     "iopub.status.busy": "2022-07-06T06:15:06.526503Z",
     "iopub.status.idle": "2022-07-06T06:15:15.984740Z",
     "shell.execute_reply": "2022-07-06T06:15:15.983493Z"
    },
    "papermill": {
     "duration": 9.466285,
     "end_time": "2022-07-06T06:15:15.987520",
     "exception": false,
     "start_time": "2022-07-06T06:15:06.521235",
     "status": "completed"
    },
    "tags": []
   },
   "outputs": [],
   "source": [
    "import os\n",
    "import re\n",
    "import cv2\n",
    "import timm\n",
    "import torch\n",
    "import numpy as np\n",
    "import pandas as pd\n",
    "import matplotlib.pyplot as plt\n",
    "\n",
    "from time import time\n",
    "from torch import nn, optim\n",
    "from torch.utils.data import Dataset\n",
    "from torch.utils.data import DataLoader as DL\n",
    "from torchvision import models, transforms\n",
    "\n",
    "from sklearn.preprocessing import LabelEncoder"
   ]
  },
  {
   "cell_type": "markdown",
   "id": "3e3cd556",
   "metadata": {
    "papermill": {
     "duration": 0.004332,
     "end_time": "2022-07-06T06:15:15.996717",
     "exception": false,
     "start_time": "2022-07-06T06:15:15.992385",
     "status": "completed"
    },
    "tags": []
   },
   "source": [
    "### **Utilities and Helpers**"
   ]
  },
  {
   "cell_type": "code",
   "execution_count": 3,
   "id": "9690b8d8",
   "metadata": {
    "execution": {
     "iopub.execute_input": "2022-07-06T06:15:16.007520Z",
     "iopub.status.busy": "2022-07-06T06:15:16.006631Z",
     "iopub.status.idle": "2022-07-06T06:15:16.088188Z",
     "shell.execute_reply": "2022-07-06T06:15:16.087012Z"
    },
    "papermill": {
     "duration": 0.089393,
     "end_time": "2022-07-06T06:15:16.090681",
     "exception": false,
     "start_time": "2022-07-06T06:15:16.001288",
     "status": "completed"
    },
    "tags": []
   },
   "outputs": [],
   "source": [
    "SEED = 42\n",
    "SIZE = 384\n",
    "FOLD = 3\n",
    "\n",
    "TRANSFORM = transforms.Compose([transforms.ToTensor(),\n",
    "                                transforms.Normalize([0.49699, 0.58823, 0.23049],\n",
    "                                                     [0.22591, 0.22614, 0.18264]),\n",
    "                                ])\n",
    "\n",
    "MODEL_PATH_1 = f\"../input/pdc-d169-na{SIZE}f-noes-f{FOLD}/saves/ble_state.pt\"\n",
    "MODEL_PATH_2 = f\"../input/pdc-d201-na{SIZE}f-noes-f{FOLD}/saves/ble_state.pt\"\n",
    "MODEL_PATH_3 = f\"../input/pdc-tvd121-na{SIZE}f-f{FOLD}/saves/ble_state.pt\"\n",
    "\n",
    "DEVICE = torch.device(\"cuda\" if torch.cuda.is_available() else \"cpu\")\n",
    "\n",
    "le = LabelEncoder()\n",
    "\n",
    "\n",
    "def breaker(num: int=50, char: str=\"*\") -> None:\n",
    "    print(\"\\n\" + num*char + \"\\n\")\n",
    "\n",
    "\n",
    "def get_image(path: str, size: int=224) -> np.ndarray:\n",
    "    return cv2.resize(src=cv2.cvtColor(src=cv2.imread(path, cv2.IMREAD_COLOR), code=cv2.COLOR_BGR2RGB), dsize=(size, size), interpolation=cv2.INTER_AREA)"
   ]
  },
  {
   "cell_type": "markdown",
   "id": "7d0af911",
   "metadata": {
    "papermill": {
     "duration": 0.003986,
     "end_time": "2022-07-06T06:15:16.099245",
     "exception": false,
     "start_time": "2022-07-06T06:15:16.095259",
     "status": "completed"
    },
    "tags": []
   },
   "source": [
    "### **Configuration**"
   ]
  },
  {
   "cell_type": "markdown",
   "id": "b66a5926",
   "metadata": {
    "papermill": {
     "duration": 0.004166,
     "end_time": "2022-07-06T06:15:16.107958",
     "exception": false,
     "start_time": "2022-07-06T06:15:16.103792",
     "status": "completed"
    },
    "tags": []
   },
   "source": [
    "### **Dataset Template**"
   ]
  },
  {
   "cell_type": "code",
   "execution_count": 4,
   "id": "77c90990",
   "metadata": {
    "execution": {
     "iopub.execute_input": "2022-07-06T06:15:16.117408Z",
     "iopub.status.busy": "2022-07-06T06:15:16.117060Z",
     "iopub.status.idle": "2022-07-06T06:15:16.125654Z",
     "shell.execute_reply": "2022-07-06T06:15:16.124755Z"
    },
    "papermill": {
     "duration": 0.015786,
     "end_time": "2022-07-06T06:15:16.127950",
     "exception": false,
     "start_time": "2022-07-06T06:15:16.112164",
     "status": "completed"
    },
    "tags": []
   },
   "outputs": [],
   "source": [
    "class DS(Dataset):\n",
    "    def __init__(self, base_path: str, filenames: np.ndarray, size: int=224, transform=None):\n",
    "        self.base_path = base_path\n",
    "        self.filenames = filenames\n",
    "        self.size = size\n",
    "        self.transform = transform\n",
    "    \n",
    "    def __len__(self):\n",
    "        return self.filenames.shape[0]\n",
    "    \n",
    "    def __getitem__(self, idx):\n",
    "        return self.transform(get_image(os.path.join(self.base_path, self.filenames[idx]), size=self.size))"
   ]
  },
  {
   "cell_type": "markdown",
   "id": "52d56e27",
   "metadata": {
    "papermill": {
     "duration": 0.004003,
     "end_time": "2022-07-06T06:15:16.136171",
     "exception": false,
     "start_time": "2022-07-06T06:15:16.132168",
     "status": "completed"
    },
    "tags": []
   },
   "source": [
    "### **Model**"
   ]
  },
  {
   "cell_type": "code",
   "execution_count": 5,
   "id": "55bfc94d",
   "metadata": {
    "execution": {
     "iopub.execute_input": "2022-07-06T06:15:16.145927Z",
     "iopub.status.busy": "2022-07-06T06:15:16.145636Z",
     "iopub.status.idle": "2022-07-06T06:15:16.156869Z",
     "shell.execute_reply": "2022-07-06T06:15:16.155849Z"
    },
    "papermill": {
     "duration": 0.018809,
     "end_time": "2022-07-06T06:15:16.159068",
     "exception": false,
     "start_time": "2022-07-06T06:15:16.140259",
     "status": "completed"
    },
    "tags": []
   },
   "outputs": [],
   "source": [
    "class Model(nn.Module):\n",
    "    def __init__(self, model_name=\"densenet\"):\n",
    "        super(Model, self).__init__()\n",
    "\n",
    "        if model_name == \"densenet169\":\n",
    "            self.model = models.densenet169(pretrained=False, progress=True)\n",
    "            # self.freeze()\n",
    "            self.model.classifier = nn.Linear(in_features=self.model.classifier.in_features, out_features=10)\n",
    "        \n",
    "        elif model_name == \"densenet201\":\n",
    "            self.model = models.densenet201(pretrained=False, progress=True)\n",
    "            # self.freeze()\n",
    "            self.model.classifier = nn.Linear(in_features=self.model.classifier.in_features, out_features=10)\n",
    "            \n",
    "        elif model_name == \"tv_densenet121\":\n",
    "            self.model = timm.create_model(model_name=\"tv_densenet121\", pretrained=False)\n",
    "            # self.freeze()\n",
    "            self.model.classifier = nn.Linear(in_features=self.model.classifier.in_features, out_features=10)\n",
    "        \n",
    "        else:\n",
    "            raise NotImplementedError()\n",
    "    \n",
    "    def freeze(self):\n",
    "        for params in self.parameters(): params.requires_grad = False\n",
    "\n",
    "    def forward(self, x):\n",
    "        return nn.LogSoftmax(dim=1)(self.model(x))"
   ]
  },
  {
   "cell_type": "markdown",
   "id": "6adfe8c1",
   "metadata": {
    "papermill": {
     "duration": 0.004053,
     "end_time": "2022-07-06T06:15:16.167497",
     "exception": false,
     "start_time": "2022-07-06T06:15:16.163444",
     "status": "completed"
    },
    "tags": []
   },
   "source": [
    "### **Predict Helpers**"
   ]
  },
  {
   "cell_type": "code",
   "execution_count": 6,
   "id": "5cf19aa6",
   "metadata": {
    "execution": {
     "iopub.execute_input": "2022-07-06T06:15:16.177166Z",
     "iopub.status.busy": "2022-07-06T06:15:16.176829Z",
     "iopub.status.idle": "2022-07-06T06:15:16.188072Z",
     "shell.execute_reply": "2022-07-06T06:15:16.187066Z"
    },
    "papermill": {
     "duration": 0.01843,
     "end_time": "2022-07-06T06:15:16.190188",
     "exception": false,
     "start_time": "2022-07-06T06:15:16.171758",
     "status": "completed"
    },
    "tags": []
   },
   "outputs": [],
   "source": [
    "def predict_batch(models: list=None, model_2=None, dataloader=None, paths: list=None, device=None) -> np.ndarray:\n",
    "    assert len(models) == len(paths)\n",
    "    \n",
    "    for i in range(len(models)):\n",
    "        models[i].load_state_dict(torch.load(paths[i], map_location=device)[\"model_state_dict\"])\n",
    "        models[i].to(device)    \n",
    "        models[i].eval()\n",
    "    \n",
    "    y_pred = torch.zeros(1, 1).to(device)\n",
    "    \n",
    "    for X in dataloader:\n",
    "        X = X.to(device)\n",
    "        with torch.no_grad():\n",
    "            output = torch.cat((\n",
    "                torch.argmax(torch.exp(models[0](X)), dim=1).reshape(-1, 1), \n",
    "                torch.argmax(torch.exp(models[1](X)), dim=1).reshape(-1, 1), \n",
    "                torch.argmax(torch.exp(models[2](X)), dim=1).reshape(-1, 1)), \n",
    "            dim=1)\n",
    "            \n",
    "        output = torch.min(output, dim=1)[0]\n",
    "        y_pred = torch.cat((y_pred, output.view(-1, 1)), dim=0)\n",
    "    \n",
    "    return y_pred[1:].detach().cpu().numpy()"
   ]
  },
  {
   "cell_type": "markdown",
   "id": "84470bb9",
   "metadata": {
    "papermill": {
     "duration": 0.004052,
     "end_time": "2022-07-06T06:15:16.198434",
     "exception": false,
     "start_time": "2022-07-06T06:15:16.194382",
     "status": "completed"
    },
    "tags": []
   },
   "source": [
    "### **Submission**"
   ]
  },
  {
   "cell_type": "code",
   "execution_count": 7,
   "id": "01cacd81",
   "metadata": {
    "execution": {
     "iopub.execute_input": "2022-07-06T06:15:16.208406Z",
     "iopub.status.busy": "2022-07-06T06:15:16.207982Z",
     "iopub.status.idle": "2022-07-06T06:17:17.602992Z",
     "shell.execute_reply": "2022-07-06T06:17:17.601908Z"
    },
    "papermill": {
     "duration": 121.402817,
     "end_time": "2022-07-06T06:17:17.605680",
     "exception": false,
     "start_time": "2022-07-06T06:15:16.202863",
     "status": "completed"
    },
    "tags": []
   },
   "outputs": [],
   "source": [
    "df = pd.read_csv(\"../input/paddy-disease-classification/train.csv\")\n",
    "ss_df = pd.read_csv(\"../input/paddy-disease-classification/sample_submission.csv\")\n",
    "\n",
    "labels = df.label.copy().values\n",
    "labels = le.fit_transform(labels)\n",
    "\n",
    "ts_data_setup = DS(base_path=\"../input/paddy-disease-classification/test_images\", \n",
    "                   filenames=ss_df.image_id.copy().values,\n",
    "                   size=SIZE,\n",
    "                   transform=TRANSFORM)\n",
    "ts_data = DL(ts_data_setup, batch_size=64, shuffle=False)\n",
    "\n",
    "model_1 = Model(\"densenet169\").to(DEVICE)\n",
    "model_2 = Model(\"densenet201\").to(DEVICE)\n",
    "model_3 = Model(\"tv_densenet121\").to(DEVICE)\n",
    "\n",
    "y_pred = predict_batch(models=[model_1, model_2, model_3], \n",
    "                       dataloader=ts_data, \n",
    "                       paths=[MODEL_PATH_1, MODEL_PATH_2, MODEL_PATH_3],\n",
    "                       device=DEVICE)\n",
    "\n",
    "ss_df[\"label\"] = le.inverse_transform(y_pred.astype(\"uint8\").reshape(-1))\n",
    "ss_df.to_csv(\"submission.csv\", index=False)"
   ]
  }
 ],
 "metadata": {
  "kernelspec": {
   "display_name": "Python 3",
   "language": "python",
   "name": "python3"
  },
  "language_info": {
   "codemirror_mode": {
    "name": "ipython",
    "version": 3
   },
   "file_extension": ".py",
   "mimetype": "text/x-python",
   "name": "python",
   "nbconvert_exporter": "python",
   "pygments_lexer": "ipython3",
   "version": "3.7.12"
  },
  "papermill": {
   "default_parameters": {},
   "duration": 158.685548,
   "end_time": "2022-07-06T06:17:20.769327",
   "environment_variables": {},
   "exception": null,
   "input_path": "__notebook__.ipynb",
   "output_path": "__notebook__.ipynb",
   "parameters": {},
   "start_time": "2022-07-06T06:14:42.083779",
   "version": "2.3.4"
  }
 },
 "nbformat": 4,
 "nbformat_minor": 5
}
