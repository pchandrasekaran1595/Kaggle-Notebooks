{
 "cells": [
  {
   "cell_type": "markdown",
   "id": "d8b4fd4a",
   "metadata": {
    "papermill": {
     "duration": 0.004228,
     "end_time": "2022-06-16T13:32:25.013892",
     "exception": false,
     "start_time": "2022-06-16T13:32:25.009664",
     "status": "completed"
    },
    "tags": []
   },
   "source": [
    "### **Library Imports**"
   ]
  },
  {
   "cell_type": "code",
   "execution_count": 1,
   "id": "985d44ac",
   "metadata": {
    "execution": {
     "iopub.execute_input": "2022-06-16T13:32:25.024856Z",
     "iopub.status.busy": "2022-06-16T13:32:25.024305Z",
     "iopub.status.idle": "2022-06-16T13:32:28.096923Z",
     "shell.execute_reply": "2022-06-16T13:32:28.096128Z"
    },
    "papermill": {
     "duration": 3.079657,
     "end_time": "2022-06-16T13:32:28.099169",
     "exception": false,
     "start_time": "2022-06-16T13:32:25.019512",
     "status": "completed"
    },
    "tags": []
   },
   "outputs": [],
   "source": [
    "import os\n",
    "import re\n",
    "import cv2\n",
    "import torch\n",
    "import numpy as np\n",
    "import pandas as pd\n",
    "import matplotlib.pyplot as plt\n",
    "\n",
    "from time import time\n",
    "from torch import nn, optim\n",
    "from torch.utils.data import Dataset\n",
    "from torch.utils.data import DataLoader as DL\n",
    "from torchvision import models, transforms\n",
    "\n",
    "from sklearn.preprocessing import LabelEncoder"
   ]
  },
  {
   "cell_type": "markdown",
   "id": "898d0829",
   "metadata": {
    "papermill": {
     "duration": 0.005441,
     "end_time": "2022-06-16T13:32:28.109064",
     "exception": false,
     "start_time": "2022-06-16T13:32:28.103623",
     "status": "completed"
    },
    "tags": []
   },
   "source": [
    "### **Utilities and Helpers**"
   ]
  },
  {
   "cell_type": "code",
   "execution_count": 2,
   "id": "98afe04f",
   "metadata": {
    "execution": {
     "iopub.execute_input": "2022-06-16T13:32:28.116636Z",
     "iopub.status.busy": "2022-06-16T13:32:28.116180Z",
     "iopub.status.idle": "2022-06-16T13:32:28.181866Z",
     "shell.execute_reply": "2022-06-16T13:32:28.181098Z"
    },
    "papermill": {
     "duration": 0.071505,
     "end_time": "2022-06-16T13:32:28.183681",
     "exception": false,
     "start_time": "2022-06-16T13:32:28.112176",
     "status": "completed"
    },
    "tags": []
   },
   "outputs": [],
   "source": [
    "SEED = 42\n",
    "SIZE = 384\n",
    "TRANSFORM = transforms.Compose([transforms.ToTensor(),\n",
    "                                transforms.Normalize([0.49699, 0.58823, 0.23049],\n",
    "                                                     [0.22591, 0.22614, 0.18264]),\n",
    "                                ])\n",
    "DEVICE = torch.device(\"cuda\" if torch.cuda.is_available() else \"cpu\")\n",
    "\n",
    "le = LabelEncoder()\n",
    "\n",
    "\n",
    "def breaker(num: int=50, char: str=\"*\") -> None:\n",
    "    print(\"\\n\" + num*char + \"\\n\")\n",
    "\n",
    "\n",
    "def get_image(path: str, size: int=224) -> np.ndarray:\n",
    "    return cv2.resize(src=cv2.cvtColor(src=cv2.imread(path, cv2.IMREAD_COLOR), code=cv2.COLOR_BGR2RGB), dsize=(size, size), interpolation=cv2.INTER_AREA)"
   ]
  },
  {
   "cell_type": "markdown",
   "id": "eb0762c6",
   "metadata": {
    "papermill": {
     "duration": 0.003204,
     "end_time": "2022-06-16T13:32:28.190309",
     "exception": false,
     "start_time": "2022-06-16T13:32:28.187105",
     "status": "completed"
    },
    "tags": []
   },
   "source": [
    "### **Configuration**"
   ]
  },
  {
   "cell_type": "markdown",
   "id": "a6238b27",
   "metadata": {
    "papermill": {
     "duration": 0.003344,
     "end_time": "2022-06-16T13:32:28.196820",
     "exception": false,
     "start_time": "2022-06-16T13:32:28.193476",
     "status": "completed"
    },
    "tags": []
   },
   "source": [
    "### **Dataset Template**"
   ]
  },
  {
   "cell_type": "code",
   "execution_count": 3,
   "id": "5fd8bc5d",
   "metadata": {
    "execution": {
     "iopub.execute_input": "2022-06-16T13:32:28.204469Z",
     "iopub.status.busy": "2022-06-16T13:32:28.204144Z",
     "iopub.status.idle": "2022-06-16T13:32:28.210258Z",
     "shell.execute_reply": "2022-06-16T13:32:28.209451Z"
    },
    "papermill": {
     "duration": 0.011957,
     "end_time": "2022-06-16T13:32:28.211945",
     "exception": false,
     "start_time": "2022-06-16T13:32:28.199988",
     "status": "completed"
    },
    "tags": []
   },
   "outputs": [],
   "source": [
    "class DS(Dataset):\n",
    "    def __init__(self, base_path: str, filenames: np.ndarray, size: int=224, transform=None):\n",
    "        self.base_path = base_path\n",
    "        self.filenames = filenames\n",
    "        self.size = size\n",
    "        self.transform = transform\n",
    "    \n",
    "    def __len__(self):\n",
    "        return self.filenames.shape[0]\n",
    "    \n",
    "    def __getitem__(self, idx):\n",
    "        return self.transform(get_image(os.path.join(self.base_path, self.filenames[idx]), size=self.size))"
   ]
  },
  {
   "cell_type": "markdown",
   "id": "7cf9c1ba",
   "metadata": {
    "papermill": {
     "duration": 0.002832,
     "end_time": "2022-06-16T13:32:28.217932",
     "exception": false,
     "start_time": "2022-06-16T13:32:28.215100",
     "status": "completed"
    },
    "tags": []
   },
   "source": [
    "### **Model**"
   ]
  },
  {
   "cell_type": "code",
   "execution_count": 4,
   "id": "4f2ec2c7",
   "metadata": {
    "execution": {
     "iopub.execute_input": "2022-06-16T13:32:28.225272Z",
     "iopub.status.busy": "2022-06-16T13:32:28.224987Z",
     "iopub.status.idle": "2022-06-16T13:32:28.231804Z",
     "shell.execute_reply": "2022-06-16T13:32:28.231111Z"
    },
    "papermill": {
     "duration": 0.012446,
     "end_time": "2022-06-16T13:32:28.233590",
     "exception": false,
     "start_time": "2022-06-16T13:32:28.221144",
     "status": "completed"
    },
    "tags": []
   },
   "outputs": [],
   "source": [
    "class Model(nn.Module):\n",
    "    def __init__(self):\n",
    "        super(Model, self).__init__()\n",
    "\n",
    "        self.model = models.resnet50(pretrained=False, progress=True)\n",
    "        self.freeze()\n",
    "        self.model.fc = nn.Linear(in_features=self.model.fc.in_features, out_features=10)\n",
    "    \n",
    "    def freeze(self):\n",
    "        for params in self.parameters(): params.requires_grad = False\n",
    "\n",
    "    def forward(self, x):\n",
    "        return nn.LogSoftmax(dim=1)(self.model(x))"
   ]
  },
  {
   "cell_type": "markdown",
   "id": "6a07a8df",
   "metadata": {
    "papermill": {
     "duration": 0.003101,
     "end_time": "2022-06-16T13:32:28.239841",
     "exception": false,
     "start_time": "2022-06-16T13:32:28.236740",
     "status": "completed"
    },
    "tags": []
   },
   "source": [
    "### **Predict Helpers**"
   ]
  },
  {
   "cell_type": "code",
   "execution_count": 5,
   "id": "4d07eda7",
   "metadata": {
    "execution": {
     "iopub.execute_input": "2022-06-16T13:32:28.246995Z",
     "iopub.status.busy": "2022-06-16T13:32:28.246747Z",
     "iopub.status.idle": "2022-06-16T13:32:28.253500Z",
     "shell.execute_reply": "2022-06-16T13:32:28.252671Z"
    },
    "papermill": {
     "duration": 0.012163,
     "end_time": "2022-06-16T13:32:28.255133",
     "exception": false,
     "start_time": "2022-06-16T13:32:28.242970",
     "status": "completed"
    },
    "tags": []
   },
   "outputs": [],
   "source": [
    "def predict_batch(model=None, dataloader=None, path=None, device=None) -> np.ndarray:\n",
    "    model.load_state_dict(torch.load(path, map_location=device)[\"model_state_dict\"])\n",
    "    model.to(device)    \n",
    "    model.eval()\n",
    "    \n",
    "    y_pred = torch.zeros(1, 1).to(device)\n",
    "    \n",
    "    for X in dataloader:\n",
    "        X = X.to(device)\n",
    "        with torch.no_grad():\n",
    "            output = torch.argmax(torch.exp(model(X)), dim=1)\n",
    "        y_pred = torch.cat((y_pred, output.view(-1, 1)), dim=0)\n",
    "    \n",
    "    return y_pred[1:].detach().cpu().numpy()"
   ]
  },
  {
   "cell_type": "markdown",
   "id": "b098f22d",
   "metadata": {
    "papermill": {
     "duration": 0.002854,
     "end_time": "2022-06-16T13:32:28.260963",
     "exception": false,
     "start_time": "2022-06-16T13:32:28.258109",
     "status": "completed"
    },
    "tags": []
   },
   "source": [
    "### **Submission**"
   ]
  },
  {
   "cell_type": "code",
   "execution_count": 6,
   "id": "109c351a",
   "metadata": {
    "execution": {
     "iopub.execute_input": "2022-06-16T13:32:28.268626Z",
     "iopub.status.busy": "2022-06-16T13:32:28.268352Z",
     "iopub.status.idle": "2022-06-16T13:36:43.681874Z",
     "shell.execute_reply": "2022-06-16T13:36:43.681082Z"
    },
    "papermill": {
     "duration": 255.419508,
     "end_time": "2022-06-16T13:36:43.684030",
     "exception": false,
     "start_time": "2022-06-16T13:32:28.264522",
     "status": "completed"
    },
    "tags": []
   },
   "outputs": [],
   "source": [
    "df = pd.read_csv(\"../input/paddy-disease-classification/train.csv\")\n",
    "ss_df = pd.read_csv(\"../input/paddy-disease-classification/sample_submission.csv\")\n",
    "\n",
    "labels = df.label.copy().values\n",
    "labels = le.fit_transform(labels)\n",
    "\n",
    "ts_data_setup = DS(base_path=\"../input/paddy-disease-classification/test_images\", \n",
    "                   filenames=ss_df.image_id.copy().values,\n",
    "                   size=SIZE,\n",
    "                   transform=TRANSFORM)\n",
    "ts_data = DL(ts_data_setup, batch_size=64, shuffle=False)\n",
    "\n",
    "model = Model().to(DEVICE)\n",
    "\n",
    "model_paths = [\"../input/pdc-r50-na384-full-f1/saves/state_fold_1.pt\",\n",
    "         \"../input/pdc-r50-na384-full-f2/saves/state_fold_2.pt\",\n",
    "         \"../input/pdc-r50-na384-full-f3/saves/state_fold_3.pt\",\n",
    "         \"../input/pdc-r50-na384-full-f4/saves/state_fold_4.pt\",\n",
    "         \"../input/pdc-r50-na384-full-f5/saves/state_fold_5.pt\"]\n",
    "\n",
    "y_pred = np.zeros((len(os.listdir(\"../input/paddy-disease-classification/test_images\")),1))\n",
    "y_pred_list = []\n",
    "\n",
    "weights = [0.3, 0.3, 0.3, 0.05, 0.05]\n",
    "\n",
    "assert sum(weights) == 1.00\n",
    "\n",
    "for model_path in model_paths:\n",
    "    y_pred_list.append(predict_batch(model=model, dataloader=ts_data, path=model_path, device=DEVICE))\n",
    "\n",
    "\n",
    "for i in range(len(weights)): \n",
    "    y_pred += y_pred_list[i] * weights[i]\n",
    "\n",
    "y_pred /= len(weights)\n",
    "\n",
    "ss_df[\"label\"] = le.inverse_transform(y_pred.astype(\"uint8\").reshape(-1))\n",
    "ss_df.to_csv(\"submission.csv\", index=False)"
   ]
  }
 ],
 "metadata": {
  "kernelspec": {
   "display_name": "Python 3",
   "language": "python",
   "name": "python3"
  },
  "language_info": {
   "codemirror_mode": {
    "name": "ipython",
    "version": 3
   },
   "file_extension": ".py",
   "mimetype": "text/x-python",
   "name": "python",
   "nbconvert_exporter": "python",
   "pygments_lexer": "ipython3",
   "version": "3.7.12"
  },
  "papermill": {
   "default_parameters": {},
   "duration": 269.200663,
   "end_time": "2022-06-16T13:36:45.109734",
   "environment_variables": {},
   "exception": null,
   "input_path": "__notebook__.ipynb",
   "output_path": "__notebook__.ipynb",
   "parameters": {},
   "start_time": "2022-06-16T13:32:15.909071",
   "version": "2.3.4"
  }
 },
 "nbformat": 4,
 "nbformat_minor": 5
}
