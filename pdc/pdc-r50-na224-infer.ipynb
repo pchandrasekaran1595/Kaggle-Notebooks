{
 "cells": [
  {
   "cell_type": "markdown",
   "id": "7d9ff068",
   "metadata": {
    "papermill": {
     "duration": 0.004501,
     "end_time": "2022-06-13T22:29:26.712344",
     "exception": false,
     "start_time": "2022-06-13T22:29:26.707843",
     "status": "completed"
    },
    "tags": []
   },
   "source": [
    "### **Library Imports**"
   ]
  },
  {
   "cell_type": "code",
   "execution_count": 1,
   "id": "2263898f",
   "metadata": {
    "execution": {
     "iopub.execute_input": "2022-06-13T22:29:26.723720Z",
     "iopub.status.busy": "2022-06-13T22:29:26.722974Z",
     "iopub.status.idle": "2022-06-13T22:29:29.917577Z",
     "shell.execute_reply": "2022-06-13T22:29:29.916632Z"
    },
    "papermill": {
     "duration": 3.201734,
     "end_time": "2022-06-13T22:29:29.920011",
     "exception": false,
     "start_time": "2022-06-13T22:29:26.718277",
     "status": "completed"
    },
    "tags": []
   },
   "outputs": [],
   "source": [
    "import os\n",
    "import re\n",
    "import cv2\n",
    "import torch\n",
    "import numpy as np\n",
    "import pandas as pd\n",
    "import matplotlib.pyplot as plt\n",
    "\n",
    "from time import time\n",
    "from torch import nn, optim\n",
    "from torch.utils.data import Dataset\n",
    "from torch.utils.data import DataLoader as DL\n",
    "from torchvision import models, transforms\n",
    "\n",
    "from sklearn.preprocessing import LabelEncoder"
   ]
  },
  {
   "cell_type": "markdown",
   "id": "7ff44b7e",
   "metadata": {
    "papermill": {
     "duration": 0.003338,
     "end_time": "2022-06-13T22:29:29.927210",
     "exception": false,
     "start_time": "2022-06-13T22:29:29.923872",
     "status": "completed"
    },
    "tags": []
   },
   "source": [
    "### **Utilities and Helpers**"
   ]
  },
  {
   "cell_type": "code",
   "execution_count": 2,
   "id": "230bc0b9",
   "metadata": {
    "execution": {
     "iopub.execute_input": "2022-06-13T22:29:29.936888Z",
     "iopub.status.busy": "2022-06-13T22:29:29.935876Z",
     "iopub.status.idle": "2022-06-13T22:29:29.996739Z",
     "shell.execute_reply": "2022-06-13T22:29:29.995797Z"
    },
    "papermill": {
     "duration": 0.068038,
     "end_time": "2022-06-13T22:29:29.998751",
     "exception": false,
     "start_time": "2022-06-13T22:29:29.930713",
     "status": "completed"
    },
    "tags": []
   },
   "outputs": [],
   "source": [
    "SEED = 42\n",
    "SIZE = 224\n",
    "TRANSFORM = transforms.Compose([transforms.ToTensor(),\n",
    "                                transforms.Normalize([0.485, 0.456, 0.406],\n",
    "                                                     [0.229, 0.224, 0.225]),\n",
    "                                ])\n",
    "MODEL_PATH = f\"../input/pdc-r50-na{SIZE}/saves/state.pt\"\n",
    "DEVICE = torch.device(\"cuda\" if torch.cuda.is_available() else \"cpu\")\n",
    "\n",
    "le = LabelEncoder()\n",
    "\n",
    "\n",
    "def breaker(num: int=50, char: str=\"*\") -> None:\n",
    "    print(\"\\n\" + num*char + \"\\n\")\n",
    "\n",
    "\n",
    "def get_image(path: str, size: int=224) -> np.ndarray:\n",
    "    return cv2.resize(src=cv2.cvtColor(src=cv2.imread(path, cv2.IMREAD_COLOR), code=cv2.COLOR_BGR2RGB), dsize=(size, size), interpolation=cv2.INTER_AREA)"
   ]
  },
  {
   "cell_type": "markdown",
   "id": "69f14db6",
   "metadata": {
    "papermill": {
     "duration": 0.003418,
     "end_time": "2022-06-13T22:29:30.005964",
     "exception": false,
     "start_time": "2022-06-13T22:29:30.002546",
     "status": "completed"
    },
    "tags": []
   },
   "source": [
    "### **Configuration**"
   ]
  },
  {
   "cell_type": "markdown",
   "id": "6c119b35",
   "metadata": {
    "papermill": {
     "duration": 0.003243,
     "end_time": "2022-06-13T22:29:30.012711",
     "exception": false,
     "start_time": "2022-06-13T22:29:30.009468",
     "status": "completed"
    },
    "tags": []
   },
   "source": [
    "### **Dataset Template**"
   ]
  },
  {
   "cell_type": "code",
   "execution_count": 3,
   "id": "ccbd4806",
   "metadata": {
    "execution": {
     "iopub.execute_input": "2022-06-13T22:29:30.022247Z",
     "iopub.status.busy": "2022-06-13T22:29:30.021372Z",
     "iopub.status.idle": "2022-06-13T22:29:30.028564Z",
     "shell.execute_reply": "2022-06-13T22:29:30.027698Z"
    },
    "papermill": {
     "duration": 0.014002,
     "end_time": "2022-06-13T22:29:30.030430",
     "exception": false,
     "start_time": "2022-06-13T22:29:30.016428",
     "status": "completed"
    },
    "tags": []
   },
   "outputs": [],
   "source": [
    "class DS(Dataset):\n",
    "    def __init__(self, base_path: str, filenames: np.ndarray, size: int=224, transform=None):\n",
    "        self.base_path = base_path\n",
    "        self.filenames = filenames\n",
    "        self.size = size\n",
    "        self.transform = transform\n",
    "    \n",
    "    def __len__(self):\n",
    "        return self.filenames.shape[0]\n",
    "    \n",
    "    def __getitem__(self, idx):\n",
    "        return self.transform(get_image(os.path.join(self.base_path, self.filenames[idx]), size=self.size))"
   ]
  },
  {
   "cell_type": "markdown",
   "id": "adcde505",
   "metadata": {
    "papermill": {
     "duration": 0.00318,
     "end_time": "2022-06-13T22:29:30.037344",
     "exception": false,
     "start_time": "2022-06-13T22:29:30.034164",
     "status": "completed"
    },
    "tags": []
   },
   "source": [
    "### **Model**"
   ]
  },
  {
   "cell_type": "code",
   "execution_count": 4,
   "id": "0bd51b3a",
   "metadata": {
    "execution": {
     "iopub.execute_input": "2022-06-13T22:29:30.046328Z",
     "iopub.status.busy": "2022-06-13T22:29:30.045408Z",
     "iopub.status.idle": "2022-06-13T22:29:30.052780Z",
     "shell.execute_reply": "2022-06-13T22:29:30.052007Z"
    },
    "papermill": {
     "duration": 0.013845,
     "end_time": "2022-06-13T22:29:30.054646",
     "exception": false,
     "start_time": "2022-06-13T22:29:30.040801",
     "status": "completed"
    },
    "tags": []
   },
   "outputs": [],
   "source": [
    "class Model(nn.Module):\n",
    "    def __init__(self):\n",
    "        super(Model, self).__init__()\n",
    "\n",
    "        self.model = models.resnet50(pretrained=False, progress=True)\n",
    "        self.freeze()\n",
    "        self.model.fc = nn.Linear(in_features=self.model.fc.in_features, out_features=10)\n",
    "    \n",
    "    def freeze(self):\n",
    "        for params in self.parameters(): params.requires_grad = False\n",
    "\n",
    "    def forward(self, x):\n",
    "        return nn.LogSoftmax(dim=1)(self.model(x))"
   ]
  },
  {
   "cell_type": "markdown",
   "id": "b68009a1",
   "metadata": {
    "papermill": {
     "duration": 0.003202,
     "end_time": "2022-06-13T22:29:30.061342",
     "exception": false,
     "start_time": "2022-06-13T22:29:30.058140",
     "status": "completed"
    },
    "tags": []
   },
   "source": [
    "### **Predict Helpers**"
   ]
  },
  {
   "cell_type": "code",
   "execution_count": 5,
   "id": "c7f323f2",
   "metadata": {
    "execution": {
     "iopub.execute_input": "2022-06-13T22:29:30.069443Z",
     "iopub.status.busy": "2022-06-13T22:29:30.069079Z",
     "iopub.status.idle": "2022-06-13T22:29:30.076790Z",
     "shell.execute_reply": "2022-06-13T22:29:30.075870Z"
    },
    "papermill": {
     "duration": 0.014074,
     "end_time": "2022-06-13T22:29:30.078706",
     "exception": false,
     "start_time": "2022-06-13T22:29:30.064632",
     "status": "completed"
    },
    "tags": []
   },
   "outputs": [],
   "source": [
    "def predict_batch(model=None, dataloader=None, path=None, device=None) -> np.ndarray:\n",
    "    model.load_state_dict(torch.load(path, map_location=device)[\"model_state_dict\"])\n",
    "    model.to(device)    \n",
    "    model.eval()\n",
    "    \n",
    "    y_pred = torch.zeros(1, 1).to(device)\n",
    "    \n",
    "    for X in dataloader:\n",
    "        X = X.to(device)\n",
    "        with torch.no_grad():\n",
    "            output = torch.argmax(torch.exp(model(X)), dim=1)\n",
    "        y_pred = torch.cat((y_pred, output.view(-1, 1)), dim=0)\n",
    "    \n",
    "    return y_pred[1:].detach().cpu().numpy()"
   ]
  },
  {
   "cell_type": "markdown",
   "id": "0f35e54b",
   "metadata": {
    "papermill": {
     "duration": 0.003047,
     "end_time": "2022-06-13T22:29:30.085255",
     "exception": false,
     "start_time": "2022-06-13T22:29:30.082208",
     "status": "completed"
    },
    "tags": []
   },
   "source": [
    "### **Submission**"
   ]
  },
  {
   "cell_type": "code",
   "execution_count": 6,
   "id": "c820da54",
   "metadata": {
    "execution": {
     "iopub.execute_input": "2022-06-13T22:29:30.093645Z",
     "iopub.status.busy": "2022-06-13T22:29:30.093277Z",
     "iopub.status.idle": "2022-06-13T22:30:54.353701Z",
     "shell.execute_reply": "2022-06-13T22:30:54.352726Z"
    },
    "papermill": {
     "duration": 84.267385,
     "end_time": "2022-06-13T22:30:54.356184",
     "exception": false,
     "start_time": "2022-06-13T22:29:30.088799",
     "status": "completed"
    },
    "tags": []
   },
   "outputs": [],
   "source": [
    "df = pd.read_csv(\"../input/paddy-disease-classification/train.csv\")\n",
    "ss_df = pd.read_csv(\"../input/paddy-disease-classification/sample_submission.csv\")\n",
    "\n",
    "labels = df.label.copy().values\n",
    "labels = le.fit_transform(labels)\n",
    "\n",
    "ts_data_setup = DS(base_path=\"../input/paddy-disease-classification/test_images\", \n",
    "                   filenames=ss_df.image_id.copy().values,\n",
    "                   size=SIZE,\n",
    "                   transform=TRANSFORM)\n",
    "ts_data = DL(ts_data_setup, batch_size=64, shuffle=False)\n",
    "\n",
    "model = Model().to(DEVICE)\n",
    "\n",
    "y_pred = predict_batch(model=model, \n",
    "                       dataloader=ts_data, \n",
    "                       path=MODEL_PATH,\n",
    "                       device=DEVICE)\n",
    "\n",
    "ss_df[\"label\"] = le.inverse_transform(y_pred.astype(\"uint8\").reshape(-1))\n",
    "ss_df.to_csv(\"submission.csv\", index=False)"
   ]
  }
 ],
 "metadata": {
  "kernelspec": {
   "display_name": "Python 3",
   "language": "python",
   "name": "python3"
  },
  "language_info": {
   "codemirror_mode": {
    "name": "ipython",
    "version": 3
   },
   "file_extension": ".py",
   "mimetype": "text/x-python",
   "name": "python",
   "nbconvert_exporter": "python",
   "pygments_lexer": "ipython3",
   "version": "3.7.12"
  },
  "papermill": {
   "default_parameters": {},
   "duration": 99.518792,
   "end_time": "2022-06-13T22:30:57.170915",
   "environment_variables": {},
   "exception": null,
   "input_path": "__notebook__.ipynb",
   "output_path": "__notebook__.ipynb",
   "parameters": {},
   "start_time": "2022-06-13T22:29:17.652123",
   "version": "2.3.4"
  }
 },
 "nbformat": 4,
 "nbformat_minor": 5
}
