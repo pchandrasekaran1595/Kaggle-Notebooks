{
 "cells": [
  {
   "cell_type": "markdown",
   "id": "c68e80ea",
   "metadata": {
    "_cell_guid": "b1076dfc-b9ad-4769-8c92-a6c4dae69d19",
    "_uuid": "8f2839f25d086af736a60e9eeb907d3b93b6e0e5",
    "papermill": {
     "duration": 0.005414,
     "end_time": "2022-07-20T06:34:01.107948",
     "exception": false,
     "start_time": "2022-07-20T06:34:01.102534",
     "status": "completed"
    },
    "tags": []
   },
   "source": [
    "### **Setup**"
   ]
  },
  {
   "cell_type": "code",
   "execution_count": 1,
   "id": "3f9606c8",
   "metadata": {
    "execution": {
     "iopub.execute_input": "2022-07-20T06:34:01.117640Z",
     "iopub.status.busy": "2022-07-20T06:34:01.117022Z",
     "iopub.status.idle": "2022-07-20T06:34:12.012232Z",
     "shell.execute_reply": "2022-07-20T06:34:12.011241Z"
    },
    "papermill": {
     "duration": 10.903599,
     "end_time": "2022-07-20T06:34:12.015663",
     "exception": false,
     "start_time": "2022-07-20T06:34:01.112064",
     "status": "completed"
    },
    "tags": []
   },
   "outputs": [
    {
     "name": "stdout",
     "output_type": "stream",
     "text": [
      "Collecting timm\n",
      "  Downloading timm-0.6.5-py3-none-any.whl (512 kB)\n",
      "     ━━━━━━━━━━━━━━━━━━━━━━━━━━━━━━━━━━━━━━━ 512.8/512.8 kB 2.4 MB/s eta 0:00:00\n",
      "Requirement already satisfied: torch>=1.4 in /opt/conda/lib/python3.7/site-packages (from timm) (1.11.0)\n",
      "Requirement already satisfied: torchvision in /opt/conda/lib/python3.7/site-packages (from timm) (0.12.0)\n",
      "Requirement already satisfied: typing-extensions in /opt/conda/lib/python3.7/site-packages (from torch>=1.4->timm) (4.2.0)\n",
      "Requirement already satisfied: pillow!=8.3.*,>=5.3.0 in /opt/conda/lib/python3.7/site-packages (from torchvision->timm) (9.1.0)\n",
      "Requirement already satisfied: requests in /opt/conda/lib/python3.7/site-packages (from torchvision->timm) (2.27.1)\n",
      "Requirement already satisfied: numpy in /opt/conda/lib/python3.7/site-packages (from torchvision->timm) (1.21.6)\n",
      "Requirement already satisfied: idna<4,>=2.5 in /opt/conda/lib/python3.7/site-packages (from requests->torchvision->timm) (3.3)\n",
      "Requirement already satisfied: certifi>=2017.4.17 in /opt/conda/lib/python3.7/site-packages (from requests->torchvision->timm) (2022.5.18.1)\n",
      "Requirement already satisfied: urllib3<1.27,>=1.21.1 in /opt/conda/lib/python3.7/site-packages (from requests->torchvision->timm) (1.26.9)\n",
      "Requirement already satisfied: charset-normalizer~=2.0.0 in /opt/conda/lib/python3.7/site-packages (from requests->torchvision->timm) (2.0.12)\n",
      "Installing collected packages: timm\n",
      "Successfully installed timm-0.6.5\n"
     ]
    },
    {
     "name": "stderr",
     "output_type": "stream",
     "text": [
      "WARNING: Running pip as the 'root' user can result in broken permissions and conflicting behaviour with the system package manager. It is recommended to use a virtual environment instead: https://pip.pypa.io/warnings/venv\n"
     ]
    }
   ],
   "source": [
    "%%bash\n",
    "pip install timm"
   ]
  },
  {
   "cell_type": "markdown",
   "id": "0e3ea15d",
   "metadata": {
    "papermill": {
     "duration": 0.004414,
     "end_time": "2022-07-20T06:34:12.025730",
     "exception": false,
     "start_time": "2022-07-20T06:34:12.021316",
     "status": "completed"
    },
    "tags": []
   },
   "source": [
    "### **Library Imports**"
   ]
  },
  {
   "cell_type": "code",
   "execution_count": 2,
   "id": "502ad31b",
   "metadata": {
    "execution": {
     "iopub.execute_input": "2022-07-20T06:34:12.036408Z",
     "iopub.status.busy": "2022-07-20T06:34:12.036074Z",
     "iopub.status.idle": "2022-07-20T06:34:21.173766Z",
     "shell.execute_reply": "2022-07-20T06:34:21.172791Z"
    },
    "papermill": {
     "duration": 9.145789,
     "end_time": "2022-07-20T06:34:21.175927",
     "exception": false,
     "start_time": "2022-07-20T06:34:12.030138",
     "status": "completed"
    },
    "tags": []
   },
   "outputs": [],
   "source": [
    "import os\n",
    "import re\n",
    "import cv2\n",
    "import timm\n",
    "import torch\n",
    "import numpy as np\n",
    "import pandas as pd\n",
    "import matplotlib.pyplot as plt\n",
    "\n",
    "from time import time\n",
    "from torch import nn, optim\n",
    "from torch.utils.data import Dataset\n",
    "from torch.utils.data import DataLoader as DL\n",
    "from torchvision import models, transforms\n",
    "\n",
    "from sklearn.model_selection import StratifiedKFold\n",
    "from sklearn.preprocessing import LabelEncoder\n",
    "from sklearn.metrics import accuracy_score"
   ]
  },
  {
   "cell_type": "markdown",
   "id": "2854273b",
   "metadata": {
    "papermill": {
     "duration": 0.004109,
     "end_time": "2022-07-20T06:34:21.185460",
     "exception": false,
     "start_time": "2022-07-20T06:34:21.181351",
     "status": "completed"
    },
    "tags": []
   },
   "source": [
    "### **Utilities and Helpers**"
   ]
  },
  {
   "cell_type": "code",
   "execution_count": 3,
   "id": "fe105f73",
   "metadata": {
    "execution": {
     "iopub.execute_input": "2022-07-20T06:34:21.195714Z",
     "iopub.status.busy": "2022-07-20T06:34:21.194973Z",
     "iopub.status.idle": "2022-07-20T06:34:21.208506Z",
     "shell.execute_reply": "2022-07-20T06:34:21.207798Z"
    },
    "papermill": {
     "duration": 0.020933,
     "end_time": "2022-07-20T06:34:21.210575",
     "exception": false,
     "start_time": "2022-07-20T06:34:21.189642",
     "status": "completed"
    },
    "tags": []
   },
   "outputs": [],
   "source": [
    "SEED = 42\n",
    "SIZE = 512\n",
    "le = LabelEncoder()\n",
    "\n",
    "\n",
    "def breaker(num: int=50, char: str=\"*\") -> None:\n",
    "    print(\"\\n\" + num*char + \"\\n\")\n",
    "\n",
    "    \n",
    "def get_image(path: str, size: int=224) -> np.ndarray:\n",
    "    return cv2.resize(\n",
    "        src=cv2.cvtColor(src=cv2.imread(path, cv2.IMREAD_COLOR), code=cv2.COLOR_BGR2RGB), \n",
    "        dsize=(size, size), \n",
    "        interpolation=cv2.INTER_AREA\n",
    "    )\n",
    "\n",
    "    \n",
    "def show_loss_graphs(A: list) -> None:\n",
    "    TL, VL = [], []\n",
    "    for i in range(len(L)):\n",
    "        TL.append(L[i][\"train\"])\n",
    "        VL.append(L[i][\"valid\"])\n",
    "    x_Axis = np.arange(1, len(TL) + 1)\n",
    "    plt.figure()\n",
    "    plt.plot(x_Axis, TL, \"r\", label=\"Train\")\n",
    "    plt.plot(x_Axis, VL, \"b\", label=\"Valid\")\n",
    "    plt.legend()\n",
    "    plt.grid()\n",
    "    plt.title(\"Loss Graph\")\n",
    "    plt.show()\n",
    "\n",
    "    \n",
    "def show_accuracy_graphs(A: list) -> None:\n",
    "    TA, VA = [], []\n",
    "    for i in range(len(L)):\n",
    "        TA.append(A[i][\"train\"])\n",
    "        VA.append(A[i][\"valid\"])\n",
    "    x_Axis = np.arange(1, len(TA) + 1)\n",
    "    plt.figure()\n",
    "    plt.plot(x_Axis, TA, \"r\", label=\"Train\")\n",
    "    plt.plot(x_Axis, VA, \"b\", label=\"Valid\")\n",
    "    plt.legend()\n",
    "    plt.grid()\n",
    "    plt.title(\"Accuracy Graph\")\n",
    "    plt.show()\n",
    "\n",
    "\n",
    "def show_lr_graph(LR: list) -> None:\n",
    "    x_Axis = [i+1 for i in range(len(LR))]\n",
    "    plt.figure(figsize=(8, 6))\n",
    "    plt.plot(x_Axis, LR, \"rx\")\n",
    "    plt.grid()\n",
    "    plt.show()"
   ]
  },
  {
   "cell_type": "markdown",
   "id": "05852514",
   "metadata": {
    "papermill": {
     "duration": 0.004618,
     "end_time": "2022-07-20T06:34:21.219365",
     "exception": false,
     "start_time": "2022-07-20T06:34:21.214747",
     "status": "completed"
    },
    "tags": []
   },
   "source": [
    "### **Configuration**"
   ]
  },
  {
   "cell_type": "code",
   "execution_count": 4,
   "id": "c0e7af45",
   "metadata": {
    "execution": {
     "iopub.execute_input": "2022-07-20T06:34:21.228723Z",
     "iopub.status.busy": "2022-07-20T06:34:21.228426Z",
     "iopub.status.idle": "2022-07-20T06:34:21.304907Z",
     "shell.execute_reply": "2022-07-20T06:34:21.304076Z"
    },
    "papermill": {
     "duration": 0.083157,
     "end_time": "2022-07-20T06:34:21.306663",
     "exception": false,
     "start_time": "2022-07-20T06:34:21.223506",
     "status": "completed"
    },
    "tags": []
   },
   "outputs": [],
   "source": [
    "class CFG(object):\n",
    "    def __init__(self, \n",
    "                 seed: int = 42,\n",
    "                 n_splits: int = 5,\n",
    "                 batch_size: int = 16,\n",
    "                 epochs: int = 25,\n",
    "                 early_stopping: int = 5,\n",
    "                 lr: float = 1e-4,\n",
    "                 wd: float = 0.0,\n",
    "                 max_lr: float = 1e-3,\n",
    "                 pct_start: float = 0.2,\n",
    "                 steps_per_epoch: int = 100,\n",
    "                 div_factor: int = 1e3, \n",
    "                 final_div_factor: float = 1e3,\n",
    "                 ):\n",
    "        \n",
    "        self.seed = seed\n",
    "        self.n_splits = n_splits\n",
    "        self.batch_size = batch_size\n",
    "        self.epochs = epochs\n",
    "        self.early_stopping = early_stopping\n",
    "        self.lr = lr\n",
    "        self.wd = wd\n",
    "        self.max_lr = max_lr\n",
    "        self.pct_start = pct_start\n",
    "        self.steps_per_epoch = steps_per_epoch\n",
    "        self.div_factor = div_factor\n",
    "        self.final_div_factor = final_div_factor\n",
    "        self.device = torch.device(\"cuda\" if torch.cuda.is_available() else \"cpu\")\n",
    "        self.train_transform = transforms.Compose([transforms.ToTensor(),\n",
    "                                                   transforms.Normalize([0.49650, 0.58774, 0.23004],\n",
    "                                                                        [0.22750, 0.22771, 0.18430]),\n",
    "                                                   transforms.RandomAffine(degrees=(-45, 45), translate=(0.15, 0.15), scale=(0.5, 1.5)),\n",
    "                                                   transforms.RandomHorizontalFlip(p=0.25),\n",
    "                                                   transforms.RandomVerticalFlip(p=0.25),\n",
    "                                                  ])\n",
    "        self.valid_transform = transforms.Compose([transforms.ToTensor(),\n",
    "                                                   transforms.Normalize([0.49650, 0.58774, 0.23004],\n",
    "                                                                        [0.22750, 0.22771, 0.18430]),\n",
    "                                                  ])\n",
    "        self.save_path = \"saves\"\n",
    "        if not os.path.exists(self.save_path): os.makedirs(self.save_path)\n",
    "    \n",
    "cfg = CFG(seed=SEED)"
   ]
  },
  {
   "cell_type": "markdown",
   "id": "0c56d0eb",
   "metadata": {
    "papermill": {
     "duration": 0.00432,
     "end_time": "2022-07-20T06:34:21.315234",
     "exception": false,
     "start_time": "2022-07-20T06:34:21.310914",
     "status": "completed"
    },
    "tags": []
   },
   "source": [
    "### **Dataset Template**"
   ]
  },
  {
   "cell_type": "code",
   "execution_count": 5,
   "id": "5996f0ba",
   "metadata": {
    "execution": {
     "iopub.execute_input": "2022-07-20T06:34:21.324907Z",
     "iopub.status.busy": "2022-07-20T06:34:21.324639Z",
     "iopub.status.idle": "2022-07-20T06:34:21.331580Z",
     "shell.execute_reply": "2022-07-20T06:34:21.330762Z"
    },
    "papermill": {
     "duration": 0.013722,
     "end_time": "2022-07-20T06:34:21.333421",
     "exception": false,
     "start_time": "2022-07-20T06:34:21.319699",
     "status": "completed"
    },
    "tags": []
   },
   "outputs": [],
   "source": [
    "class DS(Dataset):\n",
    "    def __init__(self, \n",
    "                 base_path: str,\n",
    "                 size: int,\n",
    "                 filenames: np.ndarray, \n",
    "                 labelnames: np.ndarray, \n",
    "                 labels: np.ndarray, \n",
    "                 transform):\n",
    "        \n",
    "        self.base_path = base_path\n",
    "        self.size = size\n",
    "        self.filenames = filenames\n",
    "        self.labelnames = labelnames\n",
    "        self.labels = labels\n",
    "        self.transform = transform\n",
    "        \n",
    "    def __len__(self):\n",
    "        return self.filenames.shape[0]\n",
    "    \n",
    "    def __getitem__(self, idx):\n",
    "        image_path = os.path.join(os.path.join(self.base_path, self.labelnames[idx]), self.filenames[idx])\n",
    "        image = get_image(image_path, self.size)\n",
    "        return self.transform(image), torch.LongTensor(self.labels[idx])"
   ]
  },
  {
   "cell_type": "markdown",
   "id": "95d11547",
   "metadata": {
    "papermill": {
     "duration": 0.004008,
     "end_time": "2022-07-20T06:34:21.341611",
     "exception": false,
     "start_time": "2022-07-20T06:34:21.337603",
     "status": "completed"
    },
    "tags": []
   },
   "source": [
    "### **Model**"
   ]
  },
  {
   "cell_type": "code",
   "execution_count": 6,
   "id": "3e82d30b",
   "metadata": {
    "execution": {
     "iopub.execute_input": "2022-07-20T06:34:21.351358Z",
     "iopub.status.busy": "2022-07-20T06:34:21.351036Z",
     "iopub.status.idle": "2022-07-20T06:34:21.357044Z",
     "shell.execute_reply": "2022-07-20T06:34:21.356332Z"
    },
    "papermill": {
     "duration": 0.012682,
     "end_time": "2022-07-20T06:34:21.358701",
     "exception": false,
     "start_time": "2022-07-20T06:34:21.346019",
     "status": "completed"
    },
    "tags": []
   },
   "outputs": [],
   "source": [
    "class Model(nn.Module):\n",
    "    def __init__(self):\n",
    "        super(Model, self).__init__()\n",
    "\n",
    "        self.model = timm.create_model(model_name=\"efficientnet_b2\", pretrained=True)\n",
    "        # self.freeze()\n",
    "        self.model.classifier = nn.Linear(in_features=self.model.classifier.in_features, out_features=10)\n",
    "    \n",
    "    def freeze(self):\n",
    "        for params in self.parameters(): params.requires_grad = False\n",
    "\n",
    "    def forward(self, x):\n",
    "        return nn.LogSoftmax(dim=1)(self.model(x))"
   ]
  },
  {
   "cell_type": "markdown",
   "id": "7baec093",
   "metadata": {
    "papermill": {
     "duration": 0.004016,
     "end_time": "2022-07-20T06:34:21.366850",
     "exception": false,
     "start_time": "2022-07-20T06:34:21.362834",
     "status": "completed"
    },
    "tags": []
   },
   "source": [
    "### **Fit and Predict Helpers**"
   ]
  },
  {
   "cell_type": "code",
   "execution_count": 7,
   "id": "71bb0029",
   "metadata": {
    "execution": {
     "iopub.execute_input": "2022-07-20T06:34:21.376456Z",
     "iopub.status.busy": "2022-07-20T06:34:21.376181Z",
     "iopub.status.idle": "2022-07-20T06:34:21.401402Z",
     "shell.execute_reply": "2022-07-20T06:34:21.400737Z"
    },
    "papermill": {
     "duration": 0.031982,
     "end_time": "2022-07-20T06:34:21.402980",
     "exception": false,
     "start_time": "2022-07-20T06:34:21.370998",
     "status": "completed"
    },
    "tags": []
   },
   "outputs": [],
   "source": [
    "def fit(model=None, \n",
    "        optimizer=None, \n",
    "        scheduler_rlrop=None,\n",
    "        scheduler_oclr=None,\n",
    "        epochs=None, \n",
    "        early_stopping_patience=None, \n",
    "        dataloaders=None, \n",
    "        fold=None, \n",
    "        save_path=None,\n",
    "        device=None,\n",
    "        verbose=False) -> tuple:\n",
    "    \n",
    "    def get_accuracy(y_pred, y_true):\n",
    "        y_pred = torch.argmax(y_pred, dim=1)\n",
    "        return torch.count_nonzero(y_pred == y_true).item() / len(y_pred)\n",
    "    \n",
    "    if verbose:\n",
    "        breaker()\n",
    "        if fold: print(f\"Training Fold {fold}...\")\n",
    "        else: print(\"Training ...\")\n",
    "        breaker()\n",
    "        \n",
    "    bestLoss, bestAccs = {\"train\" : np.inf, \"valid\" : np.inf}, {\"train\" : 0.0, \"valid\" : 0.0}\n",
    "    Losses, Accuracies, LRs = [], [], []\n",
    "    if fold: \n",
    "        ble_name = f\"ble_state_fold_{fold}.pt\"\n",
    "        bae_name = f\"bae_state_fold_{fold}.pt\"\n",
    "    else: \n",
    "        ble_name = \"ble_state.pt\"\n",
    "        bae_name = \"bae_state.pt\"\n",
    "\n",
    "    start_time = time()\n",
    "    for e in range(epochs):\n",
    "        e_st = time()\n",
    "        epochLoss, epochAccs = {\"train\" : 0.0, \"valid\" : 0.0}, {\"train\" : 0.0, \"valid\" : 0.0}\n",
    "\n",
    "        for phase in [\"train\", \"valid\"]:\n",
    "            if phase == \"train\":\n",
    "                model.train()\n",
    "            else:\n",
    "                model.eval()\n",
    "            \n",
    "            lossPerPass, accsPerPass = [], []\n",
    "\n",
    "            for X, y in dataloaders[phase]:\n",
    "                X, y = X.to(device), y.to(device).view(-1)\n",
    "\n",
    "                optimizer.zero_grad()\n",
    "                with torch.set_grad_enabled(phase == \"train\"):\n",
    "                    output = model(X)\n",
    "                    loss = torch.nn.NLLLoss()(output, y)\n",
    "                    if phase == \"train\":\n",
    "                        loss.backward()\n",
    "                        optimizer.step()\n",
    "                        if scheduler_oclr: scheduler_oclr.step()\n",
    "                lossPerPass.append(loss.item())\n",
    "                accsPerPass.append(get_accuracy(output, y))\n",
    "            epochLoss[phase] = np.mean(np.array(lossPerPass))\n",
    "            epochAccs[phase] = np.mean(np.array(accsPerPass))\n",
    "        if scheduler_oclr: LRs.append(scheduler_oclr.get_last_lr())\n",
    "        Losses.append(epochLoss)\n",
    "        Accuracies.append(epochAccs)\n",
    "        \n",
    "        if scheduler_oclr:\n",
    "            save_dict = {\"model_state_dict\"     : model.state_dict(),\n",
    "                         \"optim_state_dict\"     : optimizer.state_dict(),\n",
    "                         \"scheduler_state_dict\" : scheduler_oclr.state_dict()}\n",
    "        \n",
    "        elif scheduler_rlrop:\n",
    "            save_dict = {\"model_state_dict\"     : model.state_dict(),\n",
    "                         \"optim_state_dict\"     : optimizer.state_dict(),\n",
    "                         \"scheduler_state_dict\" : scheduler_rlrop.state_dict()}\n",
    "        \n",
    "        else:\n",
    "            save_dict = {\"model_state_dict\"     : model.state_dict(),\n",
    "                         \"optim_state_dict\"     : optimizer.state_dict()}\n",
    "        \n",
    "        if early_stopping_patience:\n",
    "            if epochLoss[\"valid\"] < bestLoss[\"valid\"]:\n",
    "                bestLoss = epochLoss\n",
    "                BLE = e + 1\n",
    "                torch.save(save_dict, os.path.join(save_path, name))\n",
    "                early_stopping_step = 0\n",
    "            else:\n",
    "                early_stopping_step += 1\n",
    "                if early_stopping_step > early_stopping_patience:\n",
    "                    print(\"\\nEarly Stopping at Epoch {}\".format(e + 1))\n",
    "                    break\n",
    "        \n",
    "        if epochLoss[\"valid\"] < bestLoss[\"valid\"]:\n",
    "            bestLoss = epochLoss\n",
    "            BLE = e + 1\n",
    "            torch.save(save_dict,os.path.join(save_path, ble_name))\n",
    "        \n",
    "        if epochAccs[\"valid\"] > bestAccs[\"valid\"]:\n",
    "            bestAccs = epochAccs\n",
    "            BAE = e + 1\n",
    "            torch.save(save_dict,os.path.join(save_path, bae_name))\n",
    "\n",
    "        \n",
    "        if scheduler_rlrop: scheduler_rlrop.step(epochLoss[\"valid\"])\n",
    "        \n",
    "        if verbose:\n",
    "            print(\"Epoch: {} | Train Loss: {:.5f} | Valid Loss: {:.5f} |\\\n",
    " Train Accs: {:.5f} | Valid Accs: {:.5f} | Time: {:.2f} seconds\".format(e+1, \n",
    "                                                                        epochLoss[\"train\"], epochLoss[\"valid\"], \n",
    "                                                                        epochAccs[\"train\"], epochAccs[\"valid\"], \n",
    "                                                                        time()-e_st))\n",
    "\n",
    "    if verbose:                                           \n",
    "        breaker()\n",
    "        print(f\"Best Validation Loss at Epoch {BLE}\")\n",
    "        breaker()\n",
    "        print(f\"Best Validation Accs at Epoch {BAE}\")\n",
    "        breaker()\n",
    "        print(\"Time Taken [{} Epochs] : {:.2f} minutes\".format(len(Losses), (time()-start_time)/60))\n",
    "    \n",
    "    return Losses, Accuracies, LRs, BLE, BAE, ble_name, bae_name\n",
    "\n",
    "\n",
    "def predict_batch(model=None, dataloader=None, path=None, device=None) -> np.ndarray:\n",
    "    model.load_state_dict(torch.load(path, map_location=device)[\"model_state_dict\"])\n",
    "    model.to(device)    \n",
    "    model.eval()\n",
    "    \n",
    "    y_pred = torch.zeros(1, 1).to(device)\n",
    "    \n",
    "    for X in dataloader:\n",
    "        X = X.to(device)\n",
    "        with torch.no_grad():\n",
    "            output = torch.argmax(torch.exp(model(X)), dim=1)\n",
    "        y_pred = torch.cat((y_pred, output.view(-1, 1)), dim=0)\n",
    "    \n",
    "    return y_pred[1:].detach().cpu().numpy()"
   ]
  },
  {
   "cell_type": "markdown",
   "id": "85877d3b",
   "metadata": {
    "papermill": {
     "duration": 0.003919,
     "end_time": "2022-07-20T06:34:21.411095",
     "exception": false,
     "start_time": "2022-07-20T06:34:21.407176",
     "status": "completed"
    },
    "tags": []
   },
   "source": [
    "### **Train**"
   ]
  },
  {
   "cell_type": "code",
   "execution_count": 8,
   "id": "e6952fe8",
   "metadata": {
    "execution": {
     "iopub.execute_input": "2022-07-20T06:34:21.420647Z",
     "iopub.status.busy": "2022-07-20T06:34:21.420093Z",
     "iopub.status.idle": "2022-07-20T06:34:21.454188Z",
     "shell.execute_reply": "2022-07-20T06:34:21.453560Z"
    },
    "papermill": {
     "duration": 0.040578,
     "end_time": "2022-07-20T06:34:21.455827",
     "exception": false,
     "start_time": "2022-07-20T06:34:21.415249",
     "status": "completed"
    },
    "tags": []
   },
   "outputs": [],
   "source": [
    "df = pd.read_csv(\"../input/paddy-disease-classification/train.csv\")\n",
    "\n",
    "filenames = df.image_id.copy().values\n",
    "labelnames = df.label.copy().values\n",
    "labels = le.fit_transform(labelnames)"
   ]
  },
  {
   "cell_type": "code",
   "execution_count": 9,
   "id": "dbdc4a39",
   "metadata": {
    "execution": {
     "iopub.execute_input": "2022-07-20T06:34:21.465883Z",
     "iopub.status.busy": "2022-07-20T06:34:21.465484Z",
     "iopub.status.idle": "2022-07-20T13:01:51.669559Z",
     "shell.execute_reply": "2022-07-20T13:01:51.668251Z"
    },
    "papermill": {
     "duration": 23250.210873,
     "end_time": "2022-07-20T13:01:51.671223",
     "exception": false,
     "start_time": "2022-07-20T06:34:21.460350",
     "status": "completed"
    },
    "tags": []
   },
   "outputs": [
    {
     "name": "stderr",
     "output_type": "stream",
     "text": [
      "Downloading: \"https://github.com/rwightman/pytorch-image-models/releases/download/v0.1-weights/efficientnet_b2_ra-bcdf34b7.pth\" to /root/.cache/torch/hub/checkpoints/efficientnet_b2_ra-bcdf34b7.pth\n"
     ]
    },
    {
     "name": "stdout",
     "output_type": "stream",
     "text": [
      "\n",
      "**************************************************\n",
      "\n",
      "Training ...\n",
      "\n",
      "**************************************************\n",
      "\n",
      "Epoch: 1 | Train Loss: 2.18640 | Valid Loss: 1.78045 | Train Accs: 0.22653 | Valid Accs: 0.47233 | Time: 543.87 seconds\n",
      "Epoch: 2 | Train Loss: 1.08503 | Valid Loss: 0.54720 | Train Accs: 0.65183 | Valid Accs: 0.83063 | Time: 466.49 seconds\n",
      "Epoch: 3 | Train Loss: 0.51718 | Valid Loss: 0.32665 | Train Accs: 0.83517 | Valid Accs: 0.90744 | Time: 467.94 seconds\n",
      "Epoch: 4 | Train Loss: 0.41080 | Valid Loss: 0.24575 | Train Accs: 0.86820 | Valid Accs: 0.92796 | Time: 465.64 seconds\n",
      "Epoch: 5 | Train Loss: 0.38271 | Valid Loss: 0.32032 | Train Accs: 0.87284 | Valid Accs: 0.89695 | Time: 464.46 seconds\n",
      "Epoch: 6 | Train Loss: 0.34873 | Valid Loss: 0.31330 | Train Accs: 0.88688 | Valid Accs: 0.91126 | Time: 466.52 seconds\n",
      "Epoch: 7 | Train Loss: 0.37807 | Valid Loss: 0.45322 | Train Accs: 0.88020 | Valid Accs: 0.85687 | Time: 466.14 seconds\n",
      "Epoch: 8 | Train Loss: 0.34808 | Valid Loss: 0.24752 | Train Accs: 0.89000 | Valid Accs: 0.92891 | Time: 466.11 seconds\n",
      "Epoch: 9 | Train Loss: 0.33159 | Valid Loss: 0.38083 | Train Accs: 0.89443 | Valid Accs: 0.88120 | Time: 463.49 seconds\n",
      "Epoch: 10 | Train Loss: 0.31817 | Valid Loss: 0.31269 | Train Accs: 0.89875 | Valid Accs: 0.90172 | Time: 457.59 seconds\n",
      "Epoch: 11 | Train Loss: 0.29219 | Valid Loss: 0.32929 | Train Accs: 0.90427 | Valid Accs: 0.90172 | Time: 466.32 seconds\n",
      "Epoch: 12 | Train Loss: 0.25123 | Valid Loss: 0.16245 | Train Accs: 0.92147 | Valid Accs: 0.95134 | Time: 465.82 seconds\n",
      "Epoch: 13 | Train Loss: 0.22610 | Valid Loss: 0.19511 | Train Accs: 0.92470 | Valid Accs: 0.94036 | Time: 466.55 seconds\n",
      "Epoch: 14 | Train Loss: 0.22065 | Valid Loss: 0.21432 | Train Accs: 0.92734 | Valid Accs: 0.94084 | Time: 463.09 seconds\n",
      "Epoch: 15 | Train Loss: 0.21192 | Valid Loss: 0.19246 | Train Accs: 0.93066 | Valid Accs: 0.93989 | Time: 467.43 seconds\n",
      "Epoch: 16 | Train Loss: 0.17504 | Valid Loss: 0.22924 | Train Accs: 0.94342 | Valid Accs: 0.93321 | Time: 465.43 seconds\n",
      "Epoch: 17 | Train Loss: 0.17262 | Valid Loss: 0.22127 | Train Accs: 0.94330 | Valid Accs: 0.94800 | Time: 466.10 seconds\n",
      "Epoch: 18 | Train Loss: 0.14963 | Valid Loss: 0.15581 | Train Accs: 0.95098 | Valid Accs: 0.95515 | Time: 464.35 seconds\n",
      "Epoch: 19 | Train Loss: 0.15376 | Valid Loss: 0.14317 | Train Accs: 0.94734 | Valid Accs: 0.96040 | Time: 462.70 seconds\n",
      "Epoch: 20 | Train Loss: 0.14126 | Valid Loss: 0.15530 | Train Accs: 0.95310 | Valid Accs: 0.96326 | Time: 463.03 seconds\n",
      "Epoch: 21 | Train Loss: 0.13261 | Valid Loss: 0.12564 | Train Accs: 0.95501 | Valid Accs: 0.96565 | Time: 463.38 seconds\n",
      "Epoch: 22 | Train Loss: 0.12036 | Valid Loss: 0.16458 | Train Accs: 0.96113 | Valid Accs: 0.95706 | Time: 463.20 seconds\n",
      "Epoch: 23 | Train Loss: 0.10895 | Valid Loss: 0.13301 | Train Accs: 0.96293 | Valid Accs: 0.96803 | Time: 464.94 seconds\n",
      "Epoch: 24 | Train Loss: 0.09879 | Valid Loss: 0.13355 | Train Accs: 0.96641 | Valid Accs: 0.95468 | Time: 462.01 seconds\n",
      "Epoch: 25 | Train Loss: 0.08458 | Valid Loss: 0.11676 | Train Accs: 0.97133 | Valid Accs: 0.96756 | Time: 462.33 seconds\n",
      "Epoch: 26 | Train Loss: 0.09263 | Valid Loss: 0.12860 | Train Accs: 0.96853 | Valid Accs: 0.96803 | Time: 462.25 seconds\n",
      "Epoch: 27 | Train Loss: 0.08985 | Valid Loss: 0.10522 | Train Accs: 0.97121 | Valid Accs: 0.96469 | Time: 462.07 seconds\n",
      "Epoch: 28 | Train Loss: 0.06313 | Valid Loss: 0.08082 | Train Accs: 0.97721 | Valid Accs: 0.97615 | Time: 465.29 seconds\n",
      "Epoch: 29 | Train Loss: 0.05809 | Valid Loss: 0.10820 | Train Accs: 0.97973 | Valid Accs: 0.96994 | Time: 467.02 seconds\n",
      "Epoch: 30 | Train Loss: 0.06277 | Valid Loss: 0.09242 | Train Accs: 0.97949 | Valid Accs: 0.96899 | Time: 463.44 seconds\n",
      "Epoch: 31 | Train Loss: 0.05275 | Valid Loss: 0.10082 | Train Accs: 0.98165 | Valid Accs: 0.97424 | Time: 465.94 seconds\n",
      "Epoch: 32 | Train Loss: 0.04274 | Valid Loss: 0.09354 | Train Accs: 0.98596 | Valid Accs: 0.97567 | Time: 463.37 seconds\n",
      "Epoch: 33 | Train Loss: 0.04516 | Valid Loss: 0.10667 | Train Accs: 0.98405 | Valid Accs: 0.97376 | Time: 450.83 seconds\n",
      "Epoch: 34 | Train Loss: 0.03977 | Valid Loss: 0.10841 | Train Accs: 0.98684 | Valid Accs: 0.97567 | Time: 453.13 seconds\n",
      "Epoch: 35 | Train Loss: 0.03177 | Valid Loss: 0.11990 | Train Accs: 0.98788 | Valid Accs: 0.97424 | Time: 461.99 seconds\n",
      "Epoch: 36 | Train Loss: 0.03492 | Valid Loss: 0.10887 | Train Accs: 0.98620 | Valid Accs: 0.97042 | Time: 461.11 seconds\n",
      "Epoch: 37 | Train Loss: 0.02648 | Valid Loss: 0.09765 | Train Accs: 0.99052 | Valid Accs: 0.97471 | Time: 462.03 seconds\n",
      "Epoch: 38 | Train Loss: 0.02430 | Valid Loss: 0.09110 | Train Accs: 0.99088 | Valid Accs: 0.97710 | Time: 460.81 seconds\n",
      "Epoch: 39 | Train Loss: 0.02211 | Valid Loss: 0.09044 | Train Accs: 0.99172 | Valid Accs: 0.97901 | Time: 464.91 seconds\n",
      "Epoch: 40 | Train Loss: 0.01949 | Valid Loss: 0.07862 | Train Accs: 0.99256 | Valid Accs: 0.98044 | Time: 462.13 seconds\n",
      "Epoch: 41 | Train Loss: 0.01911 | Valid Loss: 0.09697 | Train Accs: 0.99304 | Valid Accs: 0.97805 | Time: 459.23 seconds\n",
      "Epoch: 42 | Train Loss: 0.01693 | Valid Loss: 0.09298 | Train Accs: 0.99436 | Valid Accs: 0.97948 | Time: 461.36 seconds\n",
      "Epoch: 43 | Train Loss: 0.01431 | Valid Loss: 0.09735 | Train Accs: 0.99472 | Valid Accs: 0.98044 | Time: 461.11 seconds\n",
      "Epoch: 44 | Train Loss: 0.01352 | Valid Loss: 0.09747 | Train Accs: 0.99388 | Valid Accs: 0.98092 | Time: 464.67 seconds\n",
      "Epoch: 45 | Train Loss: 0.01294 | Valid Loss: 0.09390 | Train Accs: 0.99520 | Valid Accs: 0.98092 | Time: 463.51 seconds\n",
      "Epoch: 46 | Train Loss: 0.01132 | Valid Loss: 0.09810 | Train Accs: 0.99508 | Valid Accs: 0.97805 | Time: 460.41 seconds\n",
      "Epoch: 47 | Train Loss: 0.01085 | Valid Loss: 0.10050 | Train Accs: 0.99592 | Valid Accs: 0.97710 | Time: 463.89 seconds\n",
      "Epoch: 48 | Train Loss: 0.01126 | Valid Loss: 0.09946 | Train Accs: 0.99520 | Valid Accs: 0.97805 | Time: 460.97 seconds\n",
      "Epoch: 49 | Train Loss: 0.01118 | Valid Loss: 0.09514 | Train Accs: 0.99544 | Valid Accs: 0.97901 | Time: 461.02 seconds\n",
      "Epoch: 50 | Train Loss: 0.01119 | Valid Loss: 0.09245 | Train Accs: 0.99580 | Valid Accs: 0.97805 | Time: 465.10 seconds\n",
      "\n",
      "**************************************************\n",
      "\n",
      "Best Validation Loss at Epoch 40\n",
      "\n",
      "**************************************************\n",
      "\n",
      "Best Validation Accs at Epoch 44\n",
      "\n",
      "**************************************************\n",
      "\n",
      "Time Taken [50 Epochs] : 387.38 minutes\n",
      "\n",
      "**************************************************\n",
      "\n"
     ]
    },
    {
     "data": {
      "image/png": "[encoded data removed]",
      "text/plain": [
       "<Figure size 432x288 with 1 Axes>"
      ]
     },
     "metadata": {
      "needs_background": "light"
     },
     "output_type": "display_data"
    },
    {
     "name": "stdout",
     "output_type": "stream",
     "text": [
      "\n",
      "**************************************************\n",
      "\n"
     ]
    },
    {
     "data": {
      "image/png": "[encoded data removed]",
      "text/plain": [
       "<Figure size 432x288 with 1 Axes>"
      ]
     },
     "metadata": {
      "needs_background": "light"
     },
     "output_type": "display_data"
    },
    {
     "name": "stdout",
     "output_type": "stream",
     "text": [
      "\n",
      "**************************************************\n",
      "\n"
     ]
    },
    {
     "data": {
      "image/png": "[encoded data removed]",
      "text/plain": [
       "<Figure size 576x432 with 1 Axes>"
      ]
     },
     "metadata": {
      "needs_background": "light"
     },
     "output_type": "display_data"
    },
    {
     "name": "stdout",
     "output_type": "stream",
     "text": [
      "\n",
      "**************************************************\n",
      "\n"
     ]
    }
   ],
   "source": [
    "fold = 1\n",
    "for tr_idx, va_idx in StratifiedKFold(n_splits=cfg.n_splits, random_state=cfg.seed, shuffle=True).split(filenames, labels):\n",
    "    if fold == 3: break\n",
    "    fold += 1\n",
    "\n",
    "tr_filenames, va_filenames   = filenames[tr_idx], filenames[va_idx], \n",
    "tr_labelnames, va_labelnames = labelnames[tr_idx], labelnames[va_idx]\n",
    "tr_labels, va_labels         = labels[tr_idx], labels[va_idx]\n",
    "\n",
    "tr_data_setup = DS(\n",
    "    \"../input/paddy-disease-classification/train_images\",\n",
    "    SIZE,\n",
    "    tr_filenames, \n",
    "    tr_labelnames, \n",
    "    tr_labels.reshape(-1, 1), \n",
    "    cfg.train_transform,\n",
    ")\n",
    "\n",
    "va_data_setup = DS(\n",
    "    \"../input/paddy-disease-classification/train_images\",\n",
    "    SIZE,\n",
    "    va_filenames, \n",
    "    va_labelnames, \n",
    "    va_labels.reshape(-1, 1), \n",
    "    cfg.valid_transform,\n",
    ")\n",
    "\n",
    "dataloaders = {\n",
    "    \"train\" : DL(tr_data_setup, batch_size=cfg.batch_size, shuffle=True, generator=torch.manual_seed(cfg.seed)),\n",
    "    \"valid\" : DL(va_data_setup, batch_size=cfg.batch_size, shuffle=False),\n",
    "}\n",
    "\n",
    "cfg = CFG(epochs=50, batch_size=64, steps_per_epoch=len(dataloaders[\"train\"]))\n",
    "\n",
    "torch.manual_seed(cfg.seed)\n",
    "model = Model().to(cfg.device)\n",
    "\n",
    "optimizer = optim.Adam([p for p in model.parameters() if p.requires_grad], lr=cfg.lr, weight_decay=cfg.wd)\n",
    "# optimizer = optim.AdamW([p for p in model.parameters() if p.requires_grad], lr=cfg.lr, weight_decay=cfg.wd)\n",
    "# optimizer = optim.SGD([p for p in model.parameters() if p.requires_grad], momentum=0.9, lr=cfg.lr, weight_decay=cfg.wd)\n",
    "\n",
    "scheduler_oclr = optim.lr_scheduler.OneCycleLR(optimizer=optimizer, \n",
    "                                               max_lr=cfg.max_lr, \n",
    "                                               epochs=cfg.epochs, \n",
    "                                               steps_per_epoch=cfg.steps_per_epoch,\n",
    "                                               pct_start=cfg.pct_start, \n",
    "                                               div_factor=cfg.div_factor, \n",
    "                                               final_div_factor=cfg.final_div_factor)\n",
    "# scheduler_rlrop = optim.lr_scheduler.ReduceLROnPlateau(optimizer=optimizer,\n",
    "#                                                       patience=cfg.patience,\n",
    "#                                                       eps=cfg.eps,\n",
    "#                                                       verbose=True)\n",
    "\n",
    "# scheduler_oclr = None\n",
    "scheduler_rlrop = None\n",
    "\n",
    "L, A, LR, BLE, BAE, _, _ = fit(model=model, \n",
    "                               optimizer=optimizer, \n",
    "                               scheduler_oclr=scheduler_oclr,\n",
    "                               scheduler_rlrop=scheduler_rlrop,\n",
    "                               epochs=cfg.epochs, \n",
    "                               early_stopping_patience=None, \n",
    "                               dataloaders=dataloaders, \n",
    "                               device=cfg.device,\n",
    "                               save_path=cfg.save_path,\n",
    "                               fold=None,\n",
    "                               verbose=True)\n",
    "\n",
    "breaker()\n",
    "show_loss_graphs(L)\n",
    "breaker()\n",
    "show_accuracy_graphs(A)\n",
    "breaker()\n",
    "\n",
    "if scheduler_oclr:\n",
    "    show_lr_graph(LR)\n",
    "    breaker()"
   ]
  }
 ],
 "metadata": {
  "kernelspec": {
   "display_name": "Python 3",
   "language": "python",
   "name": "python3"
  },
  "language_info": {
   "codemirror_mode": {
    "name": "ipython",
    "version": 3
   },
   "file_extension": ".py",
   "mimetype": "text/x-python",
   "name": "python",
   "nbconvert_exporter": "python",
   "pygments_lexer": "ipython3",
   "version": "3.7.12"
  },
  "papermill": {
   "default_parameters": {},
   "duration": 23282.482884,
   "end_time": "2022-07-20T13:01:55.200447",
   "environment_variables": {},
   "exception": null,
   "input_path": "__notebook__.ipynb",
   "output_path": "__notebook__.ipynb",
   "parameters": {},
   "start_time": "2022-07-20T06:33:52.717563",
   "version": "2.3.4"
  }
 },
 "nbformat": 4,
 "nbformat_minor": 5
}
