{
 "cells": [
  {
   "cell_type": "markdown",
   "id": "dab56f18",
   "metadata": {
    "papermill": {
     "duration": 0.004943,
     "end_time": "2022-07-03T07:53:34.211471",
     "exception": false,
     "start_time": "2022-07-03T07:53:34.206528",
     "status": "completed"
    },
    "tags": []
   },
   "source": [
    "### **Library Imports**"
   ]
  },
  {
   "cell_type": "code",
   "execution_count": 1,
   "id": "8f76e04a",
   "metadata": {
    "execution": {
     "iopub.execute_input": "2022-07-03T07:53:34.226738Z",
     "iopub.status.busy": "2022-07-03T07:53:34.226215Z",
     "iopub.status.idle": "2022-07-03T07:53:37.016313Z",
     "shell.execute_reply": "2022-07-03T07:53:37.015458Z"
    },
    "papermill": {
     "duration": 2.801322,
     "end_time": "2022-07-03T07:53:37.018569",
     "exception": false,
     "start_time": "2022-07-03T07:53:34.217247",
     "status": "completed"
    },
    "tags": []
   },
   "outputs": [],
   "source": [
    "import os\n",
    "import re\n",
    "import torch\n",
    "import numpy as np\n",
    "import pandas as pd\n",
    "import matplotlib.pyplot as plt\n",
    "\n",
    "from time import time\n",
    "from torch import nn, optim\n",
    "from torch.utils.data import Dataset\n",
    "from torch.utils.data import DataLoader as DL\n",
    "from torchvision import models, transforms\n",
    "\n",
    "from sklearn.model_selection import StratifiedKFold\n",
    "from sklearn.preprocessing import LabelEncoder\n",
    "from sklearn.metrics import accuracy_score"
   ]
  },
  {
   "cell_type": "markdown",
   "id": "d4f6d083",
   "metadata": {
    "papermill": {
     "duration": 0.003829,
     "end_time": "2022-07-03T07:53:37.026524",
     "exception": false,
     "start_time": "2022-07-03T07:53:37.022695",
     "status": "completed"
    },
    "tags": []
   },
   "source": [
    "### **Utilities and Helpers**"
   ]
  },
  {
   "cell_type": "code",
   "execution_count": 2,
   "id": "f731da37",
   "metadata": {
    "execution": {
     "iopub.execute_input": "2022-07-03T07:53:37.035486Z",
     "iopub.status.busy": "2022-07-03T07:53:37.034579Z",
     "iopub.status.idle": "2022-07-03T07:53:37.046937Z",
     "shell.execute_reply": "2022-07-03T07:53:37.046250Z"
    },
    "papermill": {
     "duration": 0.0184,
     "end_time": "2022-07-03T07:53:37.048561",
     "exception": false,
     "start_time": "2022-07-03T07:53:37.030161",
     "status": "completed"
    },
    "tags": []
   },
   "outputs": [],
   "source": [
    "SEED = 42\n",
    "SIZE = 384\n",
    "le = LabelEncoder()\n",
    "\n",
    "\n",
    "def breaker(num: int=50, char: str=\"*\") -> None:\n",
    "    print(\"\\n\" + num*char + \"\\n\")\n",
    "\n",
    "    \n",
    "def show_loss_graphs(L: list) -> None:\n",
    "    TL, VL = [], []\n",
    "    for i in range(len(L)):\n",
    "        TL.append(L[i][\"train\"])\n",
    "        VL.append(L[i][\"valid\"])\n",
    "    x_Axis = np.arange(1, len(TL) + 1)\n",
    "    plt.figure()\n",
    "    plt.plot(x_Axis, TL, \"r\", label=\"Train\")\n",
    "    plt.plot(x_Axis, VL, \"b\", label=\"Valid\")\n",
    "    plt.legend()\n",
    "    plt.grid()\n",
    "    plt.title(\"Loss Graph\")\n",
    "    plt.show()\n",
    "\n",
    "    \n",
    "def show_accuracy_graphs(A: list) -> None:\n",
    "    TA, VA = [], []\n",
    "    for i in range(len(A)):\n",
    "        TA.append(A[i][\"train\"])\n",
    "        VA.append(A[i][\"valid\"])\n",
    "    x_Axis = np.arange(1, len(TA) + 1)\n",
    "    plt.figure()\n",
    "    plt.plot(x_Axis, TA, \"r\", label=\"Train\")\n",
    "    plt.plot(x_Axis, VA, \"b\", label=\"Valid\")\n",
    "    plt.legend()\n",
    "    plt.grid()\n",
    "    plt.title(\"Accuracy Graph\")\n",
    "    plt.show()\n",
    "\n",
    "\n",
    "def show_lr_graph(LR: list) -> None:\n",
    "    x_Axis = [i+1 for i in range(len(LR))]\n",
    "    plt.figure(figsize=(8, 6))\n",
    "    plt.plot(x_Axis, LR, \"rx\")\n",
    "    plt.grid()\n",
    "    plt.show()"
   ]
  },
  {
   "cell_type": "markdown",
   "id": "993658ef",
   "metadata": {
    "papermill": {
     "duration": 0.003433,
     "end_time": "2022-07-03T07:53:37.055614",
     "exception": false,
     "start_time": "2022-07-03T07:53:37.052181",
     "status": "completed"
    },
    "tags": []
   },
   "source": [
    "### **Configuration**"
   ]
  },
  {
   "cell_type": "code",
   "execution_count": 3,
   "id": "a372bf83",
   "metadata": {
    "execution": {
     "iopub.execute_input": "2022-07-03T07:53:37.064171Z",
     "iopub.status.busy": "2022-07-03T07:53:37.063595Z",
     "iopub.status.idle": "2022-07-03T07:53:37.136690Z",
     "shell.execute_reply": "2022-07-03T07:53:37.135854Z"
    },
    "papermill": {
     "duration": 0.079374,
     "end_time": "2022-07-03T07:53:37.138554",
     "exception": false,
     "start_time": "2022-07-03T07:53:37.059180",
     "status": "completed"
    },
    "tags": []
   },
   "outputs": [],
   "source": [
    "class CFG(object):\n",
    "    def __init__(self, \n",
    "                 seed: int = 42,\n",
    "                 n_splits: int = 5,\n",
    "                 batch_size: int = 16,\n",
    "                 epochs: int = 25,\n",
    "                 early_stopping: int = 5,\n",
    "                 lr: float = 1e-4,\n",
    "                 wd: float = 0.0,\n",
    "                 max_lr: float = 1e-3,\n",
    "                 pct_start: float = 0.2,\n",
    "                 steps_per_epoch: int = 100,\n",
    "                 div_factor: int = 1e3, \n",
    "                 final_div_factor: float = 1e3,\n",
    "                 ):\n",
    "        \n",
    "        self.seed = seed\n",
    "        self.n_splits = n_splits\n",
    "        self.batch_size = batch_size\n",
    "        self.epochs = epochs\n",
    "        self.early_stopping = early_stopping\n",
    "        self.lr = lr\n",
    "        self.wd = wd\n",
    "        self.max_lr = max_lr\n",
    "        self.pct_start = pct_start\n",
    "        self.steps_per_epoch = steps_per_epoch\n",
    "        self.div_factor = div_factor\n",
    "        self.final_div_factor = final_div_factor\n",
    "        self.device = torch.device(\"cuda\" if torch.cuda.is_available() else \"cpu\")\n",
    "        self.transform = transforms.Compose([transforms.ToTensor(),\n",
    "                                transforms.Normalize([0.49699, 0.58823, 0.23049],\n",
    "                                                     [0.22591, 0.22614, 0.18264]),\n",
    "                                ])\n",
    "        self.save_path = \"saves\"\n",
    "        if not os.path.exists(self.save_path): os.makedirs(self.save_path)\n",
    "    \n",
    "cfg = CFG(seed=SEED)"
   ]
  },
  {
   "cell_type": "markdown",
   "id": "28fc8b90",
   "metadata": {
    "papermill": {
     "duration": 0.003392,
     "end_time": "2022-07-03T07:53:37.145768",
     "exception": false,
     "start_time": "2022-07-03T07:53:37.142376",
     "status": "completed"
    },
    "tags": []
   },
   "source": [
    "### **Dataset Template**"
   ]
  },
  {
   "cell_type": "code",
   "execution_count": 4,
   "id": "aa16b048",
   "metadata": {
    "execution": {
     "iopub.execute_input": "2022-07-03T07:53:37.154257Z",
     "iopub.status.busy": "2022-07-03T07:53:37.153921Z",
     "iopub.status.idle": "2022-07-03T07:53:37.160323Z",
     "shell.execute_reply": "2022-07-03T07:53:37.159541Z"
    },
    "papermill": {
     "duration": 0.01241,
     "end_time": "2022-07-03T07:53:37.161870",
     "exception": false,
     "start_time": "2022-07-03T07:53:37.149460",
     "status": "completed"
    },
    "tags": []
   },
   "outputs": [],
   "source": [
    "class DS(Dataset):\n",
    "    def __init__(self, images: np.ndarray, labels: np.ndarray = None, transform=None):\n",
    "        self.images = images\n",
    "        self.labels = labels\n",
    "        self.transform = transform\n",
    "    \n",
    "    def __len__(self):\n",
    "        return self.images.shape[0]\n",
    "    \n",
    "    def __getitem__(self, idx):\n",
    "        if self.labels is not None:\n",
    "            return self.transform(self.images[idx]), torch.LongTensor(self.labels[idx])\n",
    "        else:\n",
    "            return self.transform(self.images[idx])"
   ]
  },
  {
   "cell_type": "markdown",
   "id": "5b91711e",
   "metadata": {
    "papermill": {
     "duration": 0.003392,
     "end_time": "2022-07-03T07:53:37.168893",
     "exception": false,
     "start_time": "2022-07-03T07:53:37.165501",
     "status": "completed"
    },
    "tags": []
   },
   "source": [
    "### **Model**"
   ]
  },
  {
   "cell_type": "code",
   "execution_count": 5,
   "id": "2ff3b01b",
   "metadata": {
    "execution": {
     "iopub.execute_input": "2022-07-03T07:53:37.177002Z",
     "iopub.status.busy": "2022-07-03T07:53:37.176748Z",
     "iopub.status.idle": "2022-07-03T07:53:37.182566Z",
     "shell.execute_reply": "2022-07-03T07:53:37.181876Z"
    },
    "papermill": {
     "duration": 0.011886,
     "end_time": "2022-07-03T07:53:37.184339",
     "exception": false,
     "start_time": "2022-07-03T07:53:37.172453",
     "status": "completed"
    },
    "tags": []
   },
   "outputs": [],
   "source": [
    "class Model(nn.Module):\n",
    "    def __init__(self):\n",
    "        super(Model, self).__init__()\n",
    "\n",
    "        self.model = models.vgg16_bn(pretrained=True, progress=False)\n",
    "        # self.freeze()\n",
    "        self.model.classifier[-1] = nn.Linear(in_features=self.model.classifier[-1].in_features, out_features=10)\n",
    "    \n",
    "    def freeze(self):\n",
    "        for params in self.parameters(): params.requires_grad = False\n",
    "\n",
    "    def forward(self, x):\n",
    "        return nn.LogSoftmax(dim=1)(self.model(x))"
   ]
  },
  {
   "cell_type": "markdown",
   "id": "ce3987c5",
   "metadata": {
    "papermill": {
     "duration": 0.00344,
     "end_time": "2022-07-03T07:53:37.191335",
     "exception": false,
     "start_time": "2022-07-03T07:53:37.187895",
     "status": "completed"
    },
    "tags": []
   },
   "source": [
    "### **Fit and Predict Helpers**"
   ]
  },
  {
   "cell_type": "code",
   "execution_count": 6,
   "id": "31ceea23",
   "metadata": {
    "execution": {
     "iopub.execute_input": "2022-07-03T07:53:37.199761Z",
     "iopub.status.busy": "2022-07-03T07:53:37.199512Z",
     "iopub.status.idle": "2022-07-03T07:53:37.225065Z",
     "shell.execute_reply": "2022-07-03T07:53:37.224382Z"
    },
    "papermill": {
     "duration": 0.031951,
     "end_time": "2022-07-03T07:53:37.226849",
     "exception": false,
     "start_time": "2022-07-03T07:53:37.194898",
     "status": "completed"
    },
    "tags": []
   },
   "outputs": [],
   "source": [
    "def fit(model=None, \n",
    "        optimizer=None, \n",
    "        scheduler_rlrop=None,\n",
    "        scheduler_oclr=None,\n",
    "        epochs=None, \n",
    "        early_stopping_patience=None, \n",
    "        dataloaders=None, \n",
    "        fold=None, \n",
    "        save_path=None,\n",
    "        device=None,\n",
    "        verbose=False) -> tuple:\n",
    "    \n",
    "    def get_accuracy(y_pred, y_true):\n",
    "        y_pred = torch.argmax(y_pred, dim=1)\n",
    "        return torch.count_nonzero(y_pred == y_true).item() / len(y_pred)\n",
    "    \n",
    "    if verbose:\n",
    "        breaker()\n",
    "        if fold: print(f\"Training Fold {fold}...\")\n",
    "        else: print(\"Training ...\")\n",
    "        breaker()\n",
    "        \n",
    "    bestLoss, bestAccs = {\"train\" : np.inf, \"valid\" : np.inf}, {\"train\" : 0.0, \"valid\" : 0.0}\n",
    "    Losses, Accuracies, LRs = [], [], []\n",
    "    if fold: \n",
    "        ble_name = f\"ble_state_fold_{fold}.pt\"\n",
    "        bae_name = f\"bae_state_fold_{fold}.pt\"\n",
    "    else: \n",
    "        ble_name = \"ble_state.pt\"\n",
    "        bae_name = \"bae_state.pt\"\n",
    "\n",
    "    start_time = time()\n",
    "    for e in range(epochs):\n",
    "        e_st = time()\n",
    "        epochLoss, epochAccs = {\"train\" : 0.0, \"valid\" : 0.0}, {\"train\" : 0.0, \"valid\" : 0.0}\n",
    "\n",
    "        for phase in [\"train\", \"valid\"]:\n",
    "            if phase == \"train\":\n",
    "                model.train()\n",
    "            else:\n",
    "                model.eval()\n",
    "            \n",
    "            lossPerPass, accsPerPass = [], []\n",
    "\n",
    "            for X, y in dataloaders[phase]:\n",
    "                X, y = X.to(device), y.to(device).view(-1)\n",
    "\n",
    "                optimizer.zero_grad()\n",
    "                with torch.set_grad_enabled(phase == \"train\"):\n",
    "                    output = model(X)\n",
    "                    loss = torch.nn.NLLLoss()(output, y)\n",
    "                    if phase == \"train\":\n",
    "                        loss.backward()\n",
    "                        optimizer.step()\n",
    "                        if scheduler_oclr: scheduler_oclr.step()\n",
    "                lossPerPass.append(loss.item())\n",
    "                accsPerPass.append(get_accuracy(output, y))\n",
    "            epochLoss[phase] = np.mean(np.array(lossPerPass))\n",
    "            epochAccs[phase] = np.mean(np.array(accsPerPass))\n",
    "        if scheduler_oclr: LRs.append(scheduler_oclr.get_last_lr())\n",
    "        Losses.append(epochLoss)\n",
    "        Accuracies.append(epochAccs)\n",
    "        \n",
    "        if scheduler_oclr:\n",
    "            save_dict = {\"model_state_dict\"     : model.state_dict(),\n",
    "                         \"optim_state_dict\"     : optimizer.state_dict(),\n",
    "                         \"scheduler_state_dict\" : scheduler_oclr.state_dict()}\n",
    "        \n",
    "        elif scheduler_rlrop:\n",
    "            save_dict = {\"model_state_dict\"     : model.state_dict(),\n",
    "                         \"optim_state_dict\"     : optimizer.state_dict(),\n",
    "                         \"scheduler_state_dict\" : scheduler_rlrop.state_dict()}\n",
    "        \n",
    "        else:\n",
    "            save_dict = {\"model_state_dict\"     : model.state_dict(),\n",
    "                         \"optim_state_dict\"     : optimizer.state_dict()}\n",
    "        \n",
    "        if early_stopping_patience:\n",
    "            if epochLoss[\"valid\"] < bestLoss[\"valid\"]:\n",
    "                bestLoss = epochLoss\n",
    "                BLE = e + 1\n",
    "                torch.save(save_dict, os.path.join(save_path, name))\n",
    "                early_stopping_step = 0\n",
    "            else:\n",
    "                early_stopping_step += 1\n",
    "                if early_stopping_step > early_stopping_patience:\n",
    "                    print(\"\\nEarly Stopping at Epoch {}\".format(e + 1))\n",
    "                    break\n",
    "        \n",
    "        if epochLoss[\"valid\"] < bestLoss[\"valid\"]:\n",
    "            bestLoss = epochLoss\n",
    "            BLE = e + 1\n",
    "            torch.save(save_dict,os.path.join(save_path, ble_name))\n",
    "        \n",
    "        if epochAccs[\"valid\"] > bestAccs[\"valid\"]:\n",
    "            bestAccs = epochAccs\n",
    "            BAE = e + 1\n",
    "            torch.save(save_dict,os.path.join(save_path, bae_name))\n",
    "\n",
    "        \n",
    "        if scheduler_rlrop: scheduler_rlrop.step(epochLoss[\"valid\"])\n",
    "        \n",
    "        if verbose:\n",
    "            print(\"Epoch: {} | Train Loss: {:.5f} | Valid Loss: {:.5f} |\\\n",
    " Train Accs: {:.5f} | Valid Accs: {:.5f} | Time: {:.2f} seconds\".format(e+1, \n",
    "                                                                        epochLoss[\"train\"], epochLoss[\"valid\"], \n",
    "                                                                        epochAccs[\"train\"], epochAccs[\"valid\"], \n",
    "                                                                        time()-e_st))\n",
    "\n",
    "    if verbose:                                           \n",
    "        breaker()\n",
    "        print(f\"Best Validation Loss at Epoch {BLE}\")\n",
    "        breaker()\n",
    "        print(f\"Best Validation Accs at Epoch {BAE}\")\n",
    "        breaker()\n",
    "        print(\"Time Taken [{} Epochs] : {:.2f} minutes\".format(len(Losses), (time()-start_time)/60))\n",
    "    \n",
    "    return Losses, Accuracies, LRs, BLE, BAE, ble_name, bae_name\n",
    "\n",
    "\n",
    "def predict_batch(model=None, dataloader=None, path=None, device=None) -> np.ndarray:\n",
    "    model.load_state_dict(torch.load(path, map_location=device)[\"model_state_dict\"])\n",
    "    model.to(device)    \n",
    "    model.eval()\n",
    "    \n",
    "    y_pred = torch.zeros(1, 1).to(device)\n",
    "    \n",
    "    for X in dataloader:\n",
    "        X = X.to(device)\n",
    "        with torch.no_grad():\n",
    "            output = torch.argmax(torch.exp(model(X)), dim=1)\n",
    "        y_pred = torch.cat((y_pred, output.view(-1, 1)), dim=0)\n",
    "    \n",
    "    return y_pred[1:].detach().cpu().numpy()"
   ]
  },
  {
   "cell_type": "markdown",
   "id": "a3569a0c",
   "metadata": {
    "papermill": {
     "duration": 0.003686,
     "end_time": "2022-07-03T07:53:37.234416",
     "exception": false,
     "start_time": "2022-07-03T07:53:37.230730",
     "status": "completed"
    },
    "tags": []
   },
   "source": [
    "### **Train**"
   ]
  },
  {
   "cell_type": "code",
   "execution_count": 7,
   "id": "80f8ac02",
   "metadata": {
    "execution": {
     "iopub.execute_input": "2022-07-03T07:53:37.242879Z",
     "iopub.status.busy": "2022-07-03T07:53:37.242262Z",
     "iopub.status.idle": "2022-07-03T07:54:26.837956Z",
     "shell.execute_reply": "2022-07-03T07:54:26.837183Z"
    },
    "papermill": {
     "duration": 49.601944,
     "end_time": "2022-07-03T07:54:26.839958",
     "exception": false,
     "start_time": "2022-07-03T07:53:37.238014",
     "status": "completed"
    },
    "tags": []
   },
   "outputs": [],
   "source": [
    "images = np.load(f\"../input/pdc-images-{SIZE}/images-{SIZE}.npy\")\n",
    "df = pd.read_csv(\"../input/paddy-disease-classification/train.csv\")\n",
    "labels = df.label.copy().values\n",
    "labels = le.fit_transform(labels)"
   ]
  },
  {
   "cell_type": "code",
   "execution_count": 8,
   "id": "e8019d8d",
   "metadata": {
    "execution": {
     "iopub.execute_input": "2022-07-03T07:54:26.849714Z",
     "iopub.status.busy": "2022-07-03T07:54:26.849321Z",
     "iopub.status.idle": "2022-07-03T10:48:35.048656Z",
     "shell.execute_reply": "2022-07-03T10:48:35.047184Z"
    },
    "papermill": {
     "duration": 10448.20739,
     "end_time": "2022-07-03T10:48:35.051778",
     "exception": false,
     "start_time": "2022-07-03T07:54:26.844388",
     "status": "completed"
    },
    "tags": []
   },
   "outputs": [
    {
     "name": "stderr",
     "output_type": "stream",
     "text": [
      "Downloading: \"https://download.pytorch.org/models/vgg16_bn-6c64b313.pth\" to /root/.cache/torch/hub/checkpoints/vgg16_bn-6c64b313.pth\n"
     ]
    },
    {
     "name": "stdout",
     "output_type": "stream",
     "text": [
      "\n",
      "**************************************************\n",
      "\n",
      "Training ...\n",
      "\n",
      "**************************************************\n",
      "\n",
      "Epoch: 1 | Train Loss: 1.55483 | Valid Loss: 0.84011 | Train Accs: 0.46537 | Valid Accs: 0.72424 | Time: 313.41 seconds\n",
      "Epoch: 2 | Train Loss: 0.50818 | Valid Loss: 0.46521 | Train Accs: 0.84405 | Valid Accs: 0.85687 | Time: 308.23 seconds\n",
      "Epoch: 3 | Train Loss: 0.53565 | Valid Loss: 0.91347 | Train Accs: 0.83857 | Valid Accs: 0.73426 | Time: 294.28 seconds\n",
      "Epoch: 4 | Train Loss: 0.62524 | Valid Loss: 2.35087 | Train Accs: 0.81366 | Valid Accs: 0.53006 | Time: 291.85 seconds\n",
      "Epoch: 5 | Train Loss: 0.65688 | Valid Loss: 0.58532 | Train Accs: 0.80270 | Valid Accs: 0.82968 | Time: 290.84 seconds\n",
      "Epoch: 6 | Train Loss: 0.57211 | Valid Loss: 0.50241 | Train Accs: 0.83569 | Valid Accs: 0.85115 | Time: 290.75 seconds\n",
      "Epoch: 7 | Train Loss: 0.44720 | Valid Loss: 0.72090 | Train Accs: 0.87148 | Valid Accs: 0.80010 | Time: 290.95 seconds\n",
      "Epoch: 8 | Train Loss: 0.42236 | Valid Loss: 0.47945 | Train Accs: 0.88236 | Valid Accs: 0.87786 | Time: 298.46 seconds\n",
      "Epoch: 9 | Train Loss: 0.27346 | Valid Loss: 0.95812 | Train Accs: 0.92087 | Valid Accs: 0.76718 | Time: 290.97 seconds\n",
      "Epoch: 10 | Train Loss: 0.25507 | Valid Loss: 0.44035 | Train Accs: 0.93034 | Valid Accs: 0.86594 | Time: 298.33 seconds\n",
      "Epoch: 11 | Train Loss: 0.23981 | Valid Loss: 0.81358 | Train Accs: 0.93250 | Valid Accs: 0.82013 | Time: 290.84 seconds\n",
      "Epoch: 12 | Train Loss: 0.18667 | Valid Loss: 0.55106 | Train Accs: 0.94566 | Valid Accs: 0.89647 | Time: 298.97 seconds\n",
      "Epoch: 13 | Train Loss: 0.22933 | Valid Loss: 0.29628 | Train Accs: 0.93950 | Valid Accs: 0.92891 | Time: 304.84 seconds\n",
      "Epoch: 14 | Train Loss: 0.11595 | Valid Loss: 0.22501 | Train Accs: 0.96617 | Valid Accs: 0.94943 | Time: 304.55 seconds\n",
      "Epoch: 15 | Train Loss: 0.17963 | Valid Loss: 0.25227 | Train Accs: 0.95146 | Valid Accs: 0.93845 | Time: 291.05 seconds\n",
      "Epoch: 16 | Train Loss: 0.14956 | Valid Loss: 0.27368 | Train Accs: 0.96153 | Valid Accs: 0.94847 | Time: 291.57 seconds\n",
      "Epoch: 17 | Train Loss: 0.07859 | Valid Loss: 0.20999 | Train Accs: 0.98021 | Valid Accs: 0.94609 | Time: 298.13 seconds\n",
      "Epoch: 18 | Train Loss: 0.06744 | Valid Loss: 0.26501 | Train Accs: 0.98009 | Valid Accs: 0.94323 | Time: 294.46 seconds\n",
      "Epoch: 19 | Train Loss: 0.07787 | Valid Loss: 0.35946 | Train Accs: 0.98105 | Valid Accs: 0.93225 | Time: 294.35 seconds\n",
      "Epoch: 20 | Train Loss: 0.06923 | Valid Loss: 0.19175 | Train Accs: 0.97925 | Valid Accs: 0.95086 | Time: 308.88 seconds\n",
      "Epoch: 21 | Train Loss: 0.02982 | Valid Loss: 0.22007 | Train Accs: 0.99196 | Valid Accs: 0.95611 | Time: 301.66 seconds\n",
      "Epoch: 22 | Train Loss: 0.05417 | Valid Loss: 0.23870 | Train Accs: 0.98560 | Valid Accs: 0.95754 | Time: 301.79 seconds\n",
      "Epoch: 23 | Train Loss: 0.04293 | Valid Loss: 0.16584 | Train Accs: 0.98764 | Valid Accs: 0.96517 | Time: 307.35 seconds\n",
      "Epoch: 24 | Train Loss: 0.01642 | Valid Loss: 0.15746 | Train Accs: 0.99532 | Valid Accs: 0.96947 | Time: 308.03 seconds\n",
      "Epoch: 25 | Train Loss: 0.01627 | Valid Loss: 0.16471 | Train Accs: 0.99616 | Valid Accs: 0.95992 | Time: 295.30 seconds\n",
      "Epoch: 26 | Train Loss: 0.01475 | Valid Loss: 0.19263 | Train Accs: 0.99604 | Valid Accs: 0.96947 | Time: 294.85 seconds\n",
      "Epoch: 27 | Train Loss: 0.00534 | Valid Loss: 0.17886 | Train Accs: 0.99832 | Valid Accs: 0.96899 | Time: 294.34 seconds\n",
      "Epoch: 28 | Train Loss: 0.00252 | Valid Loss: 0.18276 | Train Accs: 0.99916 | Valid Accs: 0.96899 | Time: 294.98 seconds\n",
      "Epoch: 29 | Train Loss: 0.00131 | Valid Loss: 0.16941 | Train Accs: 0.99952 | Valid Accs: 0.97090 | Time: 301.59 seconds\n",
      "Epoch: 30 | Train Loss: 0.00041 | Valid Loss: 0.19126 | Train Accs: 1.00000 | Valid Accs: 0.96899 | Time: 293.86 seconds\n",
      "Epoch: 31 | Train Loss: 0.00108 | Valid Loss: 0.18496 | Train Accs: 0.99964 | Valid Accs: 0.96803 | Time: 295.06 seconds\n",
      "Epoch: 32 | Train Loss: 0.00103 | Valid Loss: 0.20047 | Train Accs: 0.99952 | Valid Accs: 0.96708 | Time: 295.34 seconds\n",
      "Epoch: 33 | Train Loss: 0.00109 | Valid Loss: 0.18403 | Train Accs: 0.99940 | Valid Accs: 0.96994 | Time: 294.70 seconds\n",
      "Epoch: 34 | Train Loss: 0.00042 | Valid Loss: 0.19016 | Train Accs: 0.99988 | Valid Accs: 0.96899 | Time: 294.53 seconds\n",
      "Epoch: 35 | Train Loss: 0.00019 | Valid Loss: 0.19111 | Train Accs: 1.00000 | Valid Accs: 0.97042 | Time: 294.67 seconds\n",
      "\n",
      "**************************************************\n",
      "\n",
      "Best Validation Loss at Epoch 24\n",
      "\n",
      "**************************************************\n",
      "\n",
      "Best Validation Accs at Epoch 29\n",
      "\n",
      "**************************************************\n",
      "\n",
      "Time Taken [35 Epochs] : 173.56 minutes\n",
      "\n",
      "**************************************************\n",
      "\n"
     ]
    },
    {
     "data": {
      "image/png": "[encoded data removed]",
      "text/plain": [
       "<Figure size 432x288 with 1 Axes>"
      ]
     },
     "metadata": {
      "needs_background": "light"
     },
     "output_type": "display_data"
    },
    {
     "name": "stdout",
     "output_type": "stream",
     "text": [
      "\n",
      "**************************************************\n",
      "\n"
     ]
    },
    {
     "data": {
      "image/png": "[encoded data removed]",
      "text/plain": [
       "<Figure size 432x288 with 1 Axes>"
      ]
     },
     "metadata": {
      "needs_background": "light"
     },
     "output_type": "display_data"
    },
    {
     "name": "stdout",
     "output_type": "stream",
     "text": [
      "\n",
      "**************************************************\n",
      "\n"
     ]
    },
    {
     "data": {
      "image/png": "[encoded data removed]",
      "text/plain": [
       "<Figure size 576x432 with 1 Axes>"
      ]
     },
     "metadata": {
      "needs_background": "light"
     },
     "output_type": "display_data"
    },
    {
     "name": "stdout",
     "output_type": "stream",
     "text": [
      "\n",
      "**************************************************\n",
      "\n"
     ]
    }
   ],
   "source": [
    "fold = 1\n",
    "\n",
    "for tr_idx, va_idx in StratifiedKFold(n_splits=cfg.n_splits, random_state=cfg.seed, shuffle=True).split(images, labels):\n",
    "    if fold == 3: break\n",
    "    fold += 1\n",
    "\n",
    "tr_images, va_images, tr_labels, va_labels = images[tr_idx], images[va_idx], labels[tr_idx], labels[va_idx]\n",
    "\n",
    "tr_data_setup = DS(tr_images, tr_labels.reshape(-1, 1), cfg.transform)\n",
    "va_data_setup = DS(va_images, va_labels.reshape(-1, 1), cfg.transform)\n",
    "\n",
    "dataloaders = {\n",
    "    \"train\" : DL(tr_data_setup, batch_size=cfg.batch_size, shuffle=True, generator=torch.manual_seed(cfg.seed)),\n",
    "    \"valid\" : DL(va_data_setup, batch_size=cfg.batch_size, shuffle=False),\n",
    "}\n",
    "\n",
    "cfg = CFG(epochs=35, batch_size=64, steps_per_epoch=len(dataloaders[\"train\"]))\n",
    "\n",
    "torch.manual_seed(cfg.seed)\n",
    "model = Model().to(cfg.device)\n",
    "\n",
    "optimizer = optim.Adam([p for p in model.parameters() if p.requires_grad], lr=cfg.lr, weight_decay=cfg.wd)\n",
    "# optimizer = optim.AdamW([p for p in model.parameters() if p.requires_grad], lr=cfg.lr, weight_decay=cfg.wd)\n",
    "\n",
    "scheduler_oclr = optim.lr_scheduler.OneCycleLR(optimizer=optimizer, \n",
    "                                               max_lr=cfg.max_lr, \n",
    "                                               epochs=cfg.epochs, \n",
    "                                               steps_per_epoch=cfg.steps_per_epoch,\n",
    "                                               pct_start=cfg.pct_start, \n",
    "                                               div_factor=cfg.div_factor, \n",
    "                                               final_div_factor=cfg.final_div_factor)\n",
    "# scheduler_rlrop = optim.lr_scheduler.ReduceLROnPlateau(optimizer=optimizer,\n",
    "#                                                       patience=cfg.patience,\n",
    "#                                                       eps=cfg.eps,\n",
    "#                                                       verbose=True)\n",
    "\n",
    "# scheduler_oclr = None\n",
    "scheduler_rlrop = None\n",
    "\n",
    "L, A, LR, BLE, BAE, _, _ = fit(model=model, \n",
    "                               optimizer=optimizer, \n",
    "                               scheduler_oclr=scheduler_oclr,\n",
    "                               scheduler_rlrop=scheduler_rlrop,\n",
    "                               epochs=cfg.epochs, \n",
    "                               early_stopping_patience=None, \n",
    "                               dataloaders=dataloaders, \n",
    "                               device=cfg.device,\n",
    "                               save_path=cfg.save_path,\n",
    "                               fold=None,\n",
    "                               verbose=True)\n",
    "\n",
    "breaker()\n",
    "show_loss_graphs(L)\n",
    "breaker()\n",
    "show_accuracy_graphs(A)\n",
    "breaker()\n",
    "\n",
    "if scheduler_oclr:\n",
    "    show_lr_graph(LR)\n",
    "    breaker()"
   ]
  }
 ],
 "metadata": {
  "kernelspec": {
   "display_name": "Python 3",
   "language": "python",
   "name": "python3"
  },
  "language_info": {
   "codemirror_mode": {
    "name": "ipython",
    "version": 3
   },
   "file_extension": ".py",
   "mimetype": "text/x-python",
   "name": "python",
   "nbconvert_exporter": "python",
   "pygments_lexer": "ipython3",
   "version": "3.7.12"
  },
  "papermill": {
   "default_parameters": {},
   "duration": 10511.522468,
   "end_time": "2022-07-03T10:48:37.745383",
   "environment_variables": {},
   "exception": null,
   "input_path": "__notebook__.ipynb",
   "output_path": "__notebook__.ipynb",
   "parameters": {},
   "start_time": "2022-07-03T07:53:26.222915",
   "version": "2.3.4"
  }
 },
 "nbformat": 4,
 "nbformat_minor": 5
}
