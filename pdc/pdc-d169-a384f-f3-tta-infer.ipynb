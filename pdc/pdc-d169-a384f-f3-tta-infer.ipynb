{
 "cells": [
  {
   "cell_type": "markdown",
   "id": "9d961477",
   "metadata": {
    "papermill": {
     "duration": 0.004591,
     "end_time": "2022-07-04T04:49:40.756018",
     "exception": false,
     "start_time": "2022-07-04T04:49:40.751427",
     "status": "completed"
    },
    "tags": []
   },
   "source": [
    "### **Library Imports**"
   ]
  },
  {
   "cell_type": "code",
   "execution_count": 1,
   "id": "ae0264ef",
   "metadata": {
    "execution": {
     "iopub.execute_input": "2022-07-04T04:49:40.767507Z",
     "iopub.status.busy": "2022-07-04T04:49:40.766948Z",
     "iopub.status.idle": "2022-07-04T04:49:44.203478Z",
     "shell.execute_reply": "2022-07-04T04:49:44.202580Z"
    },
    "papermill": {
     "duration": 3.444309,
     "end_time": "2022-07-04T04:49:44.206452",
     "exception": false,
     "start_time": "2022-07-04T04:49:40.762143",
     "status": "completed"
    },
    "tags": []
   },
   "outputs": [],
   "source": [
    "import os\n",
    "import re\n",
    "import cv2\n",
    "import torch\n",
    "import random as r\n",
    "import numpy as np\n",
    "import pandas as pd\n",
    "import matplotlib.pyplot as plt\n",
    "\n",
    "from time import time\n",
    "from torch import nn, optim\n",
    "from torch.utils.data import Dataset\n",
    "from torch.utils.data import DataLoader as DL\n",
    "from torchvision import models, transforms\n",
    "\n",
    "from sklearn.preprocessing import LabelEncoder"
   ]
  },
  {
   "cell_type": "markdown",
   "id": "a849dbf5",
   "metadata": {
    "papermill": {
     "duration": 0.003186,
     "end_time": "2022-07-04T04:49:44.213249",
     "exception": false,
     "start_time": "2022-07-04T04:49:44.210063",
     "status": "completed"
    },
    "tags": []
   },
   "source": [
    "### **Utilities and Helpers**"
   ]
  },
  {
   "cell_type": "code",
   "execution_count": 2,
   "id": "92600790",
   "metadata": {
    "execution": {
     "iopub.execute_input": "2022-07-04T04:49:44.221975Z",
     "iopub.status.busy": "2022-07-04T04:49:44.221457Z",
     "iopub.status.idle": "2022-07-04T04:49:44.297036Z",
     "shell.execute_reply": "2022-07-04T04:49:44.296037Z"
    },
    "papermill": {
     "duration": 0.082322,
     "end_time": "2022-07-04T04:49:44.298948",
     "exception": false,
     "start_time": "2022-07-04T04:49:44.216626",
     "status": "completed"
    },
    "tags": []
   },
   "outputs": [],
   "source": [
    "SEED = 42\n",
    "SIZE = 384\n",
    "FOLD = 3\n",
    "TRANSFORM = transforms.Compose([transforms.ToTensor(),\n",
    "                                transforms.Normalize([0.49699, 0.58823, 0.23049],\n",
    "                                                    [0.22591, 0.22614, 0.18264]),\n",
    "                                transforms.RandomAffine(degrees=(-15, 15), translate=(0.05, 0.05), scale=(0.9, 1.1)),\n",
    "                                transforms.RandomHorizontalFlip(p=0.1),\n",
    "                                transforms.RandomVerticalFlip(p=0.1),\n",
    "                               ])\n",
    "MODEL_PATH = f\"../input/pdc-d169-a{SIZE}f-f{FOLD}/saves/ble_state.pt\"\n",
    "DEVICE = torch.device(\"cuda\" if torch.cuda.is_available() else \"cpu\")\n",
    "\n",
    "le = LabelEncoder()\n",
    "r.seed(SEED)\n",
    "\n",
    "\n",
    "def breaker(num: int=50, char: str=\"*\") -> None:\n",
    "    print(\"\\n\" + num*char + \"\\n\")\n",
    "\n",
    "\n",
    "def get_image(path: str, size: int=224) -> np.ndarray:\n",
    "    return cv2.resize(src=cv2.cvtColor(src=cv2.imread(path, cv2.IMREAD_COLOR), code=cv2.COLOR_BGR2RGB), dsize=(size, size), interpolation=cv2.INTER_AREA)"
   ]
  },
  {
   "cell_type": "markdown",
   "id": "3688c6c6",
   "metadata": {
    "papermill": {
     "duration": 0.003249,
     "end_time": "2022-07-04T04:49:44.305892",
     "exception": false,
     "start_time": "2022-07-04T04:49:44.302643",
     "status": "completed"
    },
    "tags": []
   },
   "source": [
    "### **Configuration**"
   ]
  },
  {
   "cell_type": "markdown",
   "id": "59e8983e",
   "metadata": {
    "papermill": {
     "duration": 0.003185,
     "end_time": "2022-07-04T04:49:44.312242",
     "exception": false,
     "start_time": "2022-07-04T04:49:44.309057",
     "status": "completed"
    },
    "tags": []
   },
   "source": [
    "### **Dataset Template**"
   ]
  },
  {
   "cell_type": "code",
   "execution_count": 3,
   "id": "8bf4d81c",
   "metadata": {
    "execution": {
     "iopub.execute_input": "2022-07-04T04:49:44.320710Z",
     "iopub.status.busy": "2022-07-04T04:49:44.319781Z",
     "iopub.status.idle": "2022-07-04T04:49:44.326958Z",
     "shell.execute_reply": "2022-07-04T04:49:44.326218Z"
    },
    "papermill": {
     "duration": 0.013328,
     "end_time": "2022-07-04T04:49:44.328719",
     "exception": false,
     "start_time": "2022-07-04T04:49:44.315391",
     "status": "completed"
    },
    "tags": []
   },
   "outputs": [],
   "source": [
    "class DS(Dataset):\n",
    "    def __init__(self, base_path: str, filenames: np.ndarray, size: int=224, transform=None):\n",
    "        self.base_path = base_path\n",
    "        self.filenames = filenames\n",
    "        self.size = size\n",
    "        self.transform = transform\n",
    "    \n",
    "    def __len__(self):\n",
    "        return self.filenames.shape[0]\n",
    "    \n",
    "    def __getitem__(self, idx):\n",
    "        return self.transform(get_image(os.path.join(self.base_path, self.filenames[idx]), size=self.size))"
   ]
  },
  {
   "cell_type": "markdown",
   "id": "8edc49b2",
   "metadata": {
    "papermill": {
     "duration": 0.003056,
     "end_time": "2022-07-04T04:49:44.335040",
     "exception": false,
     "start_time": "2022-07-04T04:49:44.331984",
     "status": "completed"
    },
    "tags": []
   },
   "source": [
    "### **Model**"
   ]
  },
  {
   "cell_type": "code",
   "execution_count": 4,
   "id": "195a9d2f",
   "metadata": {
    "execution": {
     "iopub.execute_input": "2022-07-04T04:49:44.343474Z",
     "iopub.status.busy": "2022-07-04T04:49:44.342767Z",
     "iopub.status.idle": "2022-07-04T04:49:44.349217Z",
     "shell.execute_reply": "2022-07-04T04:49:44.348375Z"
    },
    "papermill": {
     "duration": 0.012453,
     "end_time": "2022-07-04T04:49:44.350889",
     "exception": false,
     "start_time": "2022-07-04T04:49:44.338436",
     "status": "completed"
    },
    "tags": []
   },
   "outputs": [],
   "source": [
    "class Model(nn.Module):\n",
    "    def __init__(self):\n",
    "        super(Model, self).__init__()\n",
    "\n",
    "        self.model = models.densenet169(pretrained=False, progress=True)\n",
    "        # self.freeze()\n",
    "        self.model.classifier = nn.Linear(in_features=self.model.classifier.in_features, out_features=10)\n",
    "    \n",
    "    def freeze(self):\n",
    "        for params in self.parameters(): params.requires_grad = False\n",
    "\n",
    "    def forward(self, x):\n",
    "        return nn.LogSoftmax(dim=1)(self.model(x))"
   ]
  },
  {
   "cell_type": "markdown",
   "id": "1bca38d5",
   "metadata": {
    "papermill": {
     "duration": 0.003279,
     "end_time": "2022-07-04T04:49:44.357337",
     "exception": false,
     "start_time": "2022-07-04T04:49:44.354058",
     "status": "completed"
    },
    "tags": []
   },
   "source": [
    "### **Predict Helpers**"
   ]
  },
  {
   "cell_type": "code",
   "execution_count": 5,
   "id": "cf49fb9d",
   "metadata": {
    "execution": {
     "iopub.execute_input": "2022-07-04T04:49:44.365761Z",
     "iopub.status.busy": "2022-07-04T04:49:44.364953Z",
     "iopub.status.idle": "2022-07-04T04:49:44.372218Z",
     "shell.execute_reply": "2022-07-04T04:49:44.371394Z"
    },
    "papermill": {
     "duration": 0.01347,
     "end_time": "2022-07-04T04:49:44.374037",
     "exception": false,
     "start_time": "2022-07-04T04:49:44.360567",
     "status": "completed"
    },
    "tags": []
   },
   "outputs": [],
   "source": [
    "def predict_batch(model=None, dataloader=None, path=None, device=None) -> np.ndarray:\n",
    "    model.load_state_dict(torch.load(path, map_location=device)[\"model_state_dict\"])\n",
    "    model.to(device)    \n",
    "    model.eval()\n",
    "    \n",
    "    y_pred = torch.zeros(1, 1).to(device)\n",
    "    \n",
    "    for X in dataloader:\n",
    "        X = X.to(device)\n",
    "        with torch.no_grad():\n",
    "            output = torch.argmax(torch.exp(model(X)), dim=1)\n",
    "        y_pred = torch.cat((y_pred, output.view(-1, 1)), dim=0)\n",
    "    \n",
    "    return y_pred[1:].detach().cpu().numpy()"
   ]
  },
  {
   "cell_type": "markdown",
   "id": "638de0e8",
   "metadata": {
    "papermill": {
     "duration": 0.003501,
     "end_time": "2022-07-04T04:49:44.380796",
     "exception": false,
     "start_time": "2022-07-04T04:49:44.377295",
     "status": "completed"
    },
    "tags": []
   },
   "source": [
    "### **Submission**"
   ]
  },
  {
   "cell_type": "code",
   "execution_count": 6,
   "id": "6e9c3f45",
   "metadata": {
    "execution": {
     "iopub.execute_input": "2022-07-04T04:49:44.388791Z",
     "iopub.status.busy": "2022-07-04T04:49:44.388491Z",
     "iopub.status.idle": "2022-07-04T05:03:29.580890Z",
     "shell.execute_reply": "2022-07-04T05:03:29.579967Z"
    },
    "papermill": {
     "duration": 825.199474,
     "end_time": "2022-07-04T05:03:29.583606",
     "exception": false,
     "start_time": "2022-07-04T04:49:44.384132",
     "status": "completed"
    },
    "tags": []
   },
   "outputs": [],
   "source": [
    "df = pd.read_csv(\"../input/paddy-disease-classification/train.csv\")\n",
    "ss_df = pd.read_csv(\"../input/paddy-disease-classification/sample_submission.csv\")\n",
    "\n",
    "labels = df.label.copy().values\n",
    "labels = le.fit_transform(labels)\n",
    "\n",
    "model = Model().to(DEVICE)\n",
    "\n",
    "seeds = [r.randint(0, 99) for _ in range(10)]\n",
    "\n",
    "y_pred = np.zeros((ss_df.shape[0], 1))\n",
    "\n",
    "for seed in seeds:\n",
    "    ts_data_setup = DS(base_path=\"../input/paddy-disease-classification/test_images\", \n",
    "                       filenames=ss_df.image_id.copy().values,\n",
    "                       size=SIZE,\n",
    "                       transform=TRANSFORM)\n",
    "    ts_data = DL(ts_data_setup, batch_size=64, shuffle=False, generator=torch.manual_seed(seed))\n",
    "\n",
    "\n",
    "    y_pred += predict_batch(model=model, \n",
    "                            dataloader=ts_data, \n",
    "                            path=MODEL_PATH,\n",
    "                            device=DEVICE)\n",
    "\n",
    "y_pred /= len(seeds)\n",
    "\n",
    "ss_df[\"label\"] = le.inverse_transform(y_pred.astype(\"uint8\").reshape(-1))\n",
    "ss_df.to_csv(\"submission.csv\", index=False)"
   ]
  }
 ],
 "metadata": {
  "kernelspec": {
   "display_name": "Python 3",
   "language": "python",
   "name": "python3"
  },
  "language_info": {
   "codemirror_mode": {
    "name": "ipython",
    "version": 3
   },
   "file_extension": ".py",
   "mimetype": "text/x-python",
   "name": "python",
   "nbconvert_exporter": "python",
   "pygments_lexer": "ipython3",
   "version": "3.7.12"
  },
  "papermill": {
   "default_parameters": {},
   "duration": 840.918834,
   "end_time": "2022-07-04T05:03:32.163802",
   "environment_variables": {},
   "exception": null,
   "input_path": "__notebook__.ipynb",
   "output_path": "__notebook__.ipynb",
   "parameters": {},
   "start_time": "2022-07-04T04:49:31.244968",
   "version": "2.3.4"
  }
 },
 "nbformat": 4,
 "nbformat_minor": 5
}
