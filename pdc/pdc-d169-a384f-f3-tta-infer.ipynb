{
 "cells": [
  {
   "cell_type": "markdown",
   "id": "3a0dce25",
   "metadata": {
    "papermill": {
     "duration": 0.004702,
     "end_time": "2022-07-03T20:15:33.826868",
     "exception": false,
     "start_time": "2022-07-03T20:15:33.822166",
     "status": "completed"
    },
    "tags": []
   },
   "source": [
    "### **Library Imports**"
   ]
  },
  {
   "cell_type": "code",
   "execution_count": 1,
   "id": "4f5cddc2",
   "metadata": {
    "execution": {
     "iopub.execute_input": "2022-07-03T20:15:33.839143Z",
     "iopub.status.busy": "2022-07-03T20:15:33.838531Z",
     "iopub.status.idle": "2022-07-03T20:15:37.363858Z",
     "shell.execute_reply": "2022-07-03T20:15:37.362960Z"
    },
    "papermill": {
     "duration": 3.533277,
     "end_time": "2022-07-03T20:15:37.366189",
     "exception": false,
     "start_time": "2022-07-03T20:15:33.832912",
     "status": "completed"
    },
    "tags": []
   },
   "outputs": [],
   "source": [
    "import os\n",
    "import re\n",
    "import cv2\n",
    "import torch\n",
    "import random as r\n",
    "import numpy as np\n",
    "import pandas as pd\n",
    "import matplotlib.pyplot as plt\n",
    "\n",
    "from time import time\n",
    "from torch import nn, optim\n",
    "from torch.utils.data import Dataset\n",
    "from torch.utils.data import DataLoader as DL\n",
    "from torchvision import models, transforms\n",
    "\n",
    "from sklearn.preprocessing import LabelEncoder"
   ]
  },
  {
   "cell_type": "markdown",
   "id": "f83f1792",
   "metadata": {
    "papermill": {
     "duration": 0.003163,
     "end_time": "2022-07-03T20:15:37.372956",
     "exception": false,
     "start_time": "2022-07-03T20:15:37.369793",
     "status": "completed"
    },
    "tags": []
   },
   "source": [
    "### **Utilities and Helpers**"
   ]
  },
  {
   "cell_type": "code",
   "execution_count": 2,
   "id": "10d50e7c",
   "metadata": {
    "execution": {
     "iopub.execute_input": "2022-07-03T20:15:37.382807Z",
     "iopub.status.busy": "2022-07-03T20:15:37.381037Z",
     "iopub.status.idle": "2022-07-03T20:15:37.455262Z",
     "shell.execute_reply": "2022-07-03T20:15:37.454291Z"
    },
    "papermill": {
     "duration": 0.081081,
     "end_time": "2022-07-03T20:15:37.457335",
     "exception": false,
     "start_time": "2022-07-03T20:15:37.376254",
     "status": "completed"
    },
    "tags": []
   },
   "outputs": [],
   "source": [
    "SEED = 42\n",
    "SIZE = 384\n",
    "FOLD = 3\n",
    "TRANSFORM = transforms.Compose([transforms.ToTensor(),\n",
    "                                transforms.Normalize([0.49699, 0.58823, 0.23049],\n",
    "                                                    [0.22591, 0.22614, 0.18264]),\n",
    "                                transforms.RandomAffine(degrees=(-45, 45), translate=(0.15, 0.15), scale=(0.5, 1.5)),\n",
    "                                transforms.RandomHorizontalFlip(p=0.25),\n",
    "                                transforms.RandomVerticalFlip(p=0.25),\n",
    "                               ])\n",
    "MODEL_PATH = f\"../input/pdc-d169-a{SIZE}f-f{FOLD}/saves/ble_state.pt\"\n",
    "DEVICE = torch.device(\"cuda\" if torch.cuda.is_available() else \"cpu\")\n",
    "\n",
    "le = LabelEncoder()\n",
    "r.seed(SEED)\n",
    "\n",
    "\n",
    "def breaker(num: int=50, char: str=\"*\") -> None:\n",
    "    print(\"\\n\" + num*char + \"\\n\")\n",
    "\n",
    "\n",
    "def get_image(path: str, size: int=224) -> np.ndarray:\n",
    "    return cv2.resize(src=cv2.cvtColor(src=cv2.imread(path, cv2.IMREAD_COLOR), code=cv2.COLOR_BGR2RGB), dsize=(size, size), interpolation=cv2.INTER_AREA)"
   ]
  },
  {
   "cell_type": "markdown",
   "id": "37c774f3",
   "metadata": {
    "papermill": {
     "duration": 0.003316,
     "end_time": "2022-07-03T20:15:37.464500",
     "exception": false,
     "start_time": "2022-07-03T20:15:37.461184",
     "status": "completed"
    },
    "tags": []
   },
   "source": [
    "### **Configuration**"
   ]
  },
  {
   "cell_type": "markdown",
   "id": "4fde74f4",
   "metadata": {
    "papermill": {
     "duration": 0.00303,
     "end_time": "2022-07-03T20:15:37.470936",
     "exception": false,
     "start_time": "2022-07-03T20:15:37.467906",
     "status": "completed"
    },
    "tags": []
   },
   "source": [
    "### **Dataset Template**"
   ]
  },
  {
   "cell_type": "code",
   "execution_count": 3,
   "id": "a33e8cae",
   "metadata": {
    "execution": {
     "iopub.execute_input": "2022-07-03T20:15:37.479146Z",
     "iopub.status.busy": "2022-07-03T20:15:37.478783Z",
     "iopub.status.idle": "2022-07-03T20:15:37.485334Z",
     "shell.execute_reply": "2022-07-03T20:15:37.484478Z"
    },
    "papermill": {
     "duration": 0.012721,
     "end_time": "2022-07-03T20:15:37.487061",
     "exception": false,
     "start_time": "2022-07-03T20:15:37.474340",
     "status": "completed"
    },
    "tags": []
   },
   "outputs": [],
   "source": [
    "class DS(Dataset):\n",
    "    def __init__(self, base_path: str, filenames: np.ndarray, size: int=224, transform=None):\n",
    "        self.base_path = base_path\n",
    "        self.filenames = filenames\n",
    "        self.size = size\n",
    "        self.transform = transform\n",
    "    \n",
    "    def __len__(self):\n",
    "        return self.filenames.shape[0]\n",
    "    \n",
    "    def __getitem__(self, idx):\n",
    "        return self.transform(get_image(os.path.join(self.base_path, self.filenames[idx]), size=self.size))"
   ]
  },
  {
   "cell_type": "markdown",
   "id": "c91b12ac",
   "metadata": {
    "papermill": {
     "duration": 0.003203,
     "end_time": "2022-07-03T20:15:37.493647",
     "exception": false,
     "start_time": "2022-07-03T20:15:37.490444",
     "status": "completed"
    },
    "tags": []
   },
   "source": [
    "### **Model**"
   ]
  },
  {
   "cell_type": "code",
   "execution_count": 4,
   "id": "f2877c87",
   "metadata": {
    "execution": {
     "iopub.execute_input": "2022-07-03T20:15:37.502152Z",
     "iopub.status.busy": "2022-07-03T20:15:37.501279Z",
     "iopub.status.idle": "2022-07-03T20:15:37.508084Z",
     "shell.execute_reply": "2022-07-03T20:15:37.507222Z"
    },
    "papermill": {
     "duration": 0.012907,
     "end_time": "2022-07-03T20:15:37.509838",
     "exception": false,
     "start_time": "2022-07-03T20:15:37.496931",
     "status": "completed"
    },
    "tags": []
   },
   "outputs": [],
   "source": [
    "class Model(nn.Module):\n",
    "    def __init__(self):\n",
    "        super(Model, self).__init__()\n",
    "\n",
    "        self.model = models.densenet169(pretrained=False, progress=True)\n",
    "        # self.freeze()\n",
    "        self.model.classifier = nn.Linear(in_features=self.model.classifier.in_features, out_features=10)\n",
    "    \n",
    "    def freeze(self):\n",
    "        for params in self.parameters(): params.requires_grad = False\n",
    "\n",
    "    def forward(self, x):\n",
    "        return nn.LogSoftmax(dim=1)(self.model(x))"
   ]
  },
  {
   "cell_type": "markdown",
   "id": "f4bee3b3",
   "metadata": {
    "papermill": {
     "duration": 0.003206,
     "end_time": "2022-07-03T20:15:37.516265",
     "exception": false,
     "start_time": "2022-07-03T20:15:37.513059",
     "status": "completed"
    },
    "tags": []
   },
   "source": [
    "### **Predict Helpers**"
   ]
  },
  {
   "cell_type": "code",
   "execution_count": 5,
   "id": "c5c49404",
   "metadata": {
    "execution": {
     "iopub.execute_input": "2022-07-03T20:15:37.524155Z",
     "iopub.status.busy": "2022-07-03T20:15:37.523799Z",
     "iopub.status.idle": "2022-07-03T20:15:37.531305Z",
     "shell.execute_reply": "2022-07-03T20:15:37.530477Z"
    },
    "papermill": {
     "duration": 0.013452,
     "end_time": "2022-07-03T20:15:37.533083",
     "exception": false,
     "start_time": "2022-07-03T20:15:37.519631",
     "status": "completed"
    },
    "tags": []
   },
   "outputs": [],
   "source": [
    "def predict_batch(model=None, dataloader=None, path=None, device=None) -> np.ndarray:\n",
    "    model.load_state_dict(torch.load(path, map_location=device)[\"model_state_dict\"])\n",
    "    model.to(device)    \n",
    "    model.eval()\n",
    "    \n",
    "    y_pred = torch.zeros(1, 1).to(device)\n",
    "    \n",
    "    for X in dataloader:\n",
    "        X = X.to(device)\n",
    "        with torch.no_grad():\n",
    "            output = torch.argmax(torch.exp(model(X)), dim=1)\n",
    "        y_pred = torch.cat((y_pred, output.view(-1, 1)), dim=0)\n",
    "    \n",
    "    return y_pred[1:].detach().cpu().numpy()"
   ]
  },
  {
   "cell_type": "markdown",
   "id": "30c3103e",
   "metadata": {
    "papermill": {
     "duration": 0.003364,
     "end_time": "2022-07-03T20:15:37.540217",
     "exception": false,
     "start_time": "2022-07-03T20:15:37.536853",
     "status": "completed"
    },
    "tags": []
   },
   "source": [
    "### **Submission**"
   ]
  },
  {
   "cell_type": "code",
   "execution_count": 6,
   "id": "5d33cc28",
   "metadata": {
    "execution": {
     "iopub.execute_input": "2022-07-03T20:15:37.549066Z",
     "iopub.status.busy": "2022-07-03T20:15:37.548215Z",
     "iopub.status.idle": "2022-07-03T20:29:57.096156Z",
     "shell.execute_reply": "2022-07-03T20:29:57.095336Z"
    },
    "papermill": {
     "duration": 859.554874,
     "end_time": "2022-07-03T20:29:57.098553",
     "exception": false,
     "start_time": "2022-07-03T20:15:37.543679",
     "status": "completed"
    },
    "tags": []
   },
   "outputs": [],
   "source": [
    "df = pd.read_csv(\"../input/paddy-disease-classification/train.csv\")\n",
    "ss_df = pd.read_csv(\"../input/paddy-disease-classification/sample_submission.csv\")\n",
    "\n",
    "labels = df.label.copy().values\n",
    "labels = le.fit_transform(labels)\n",
    "\n",
    "model = Model().to(DEVICE)\n",
    "\n",
    "seeds = [r.randint(0, 99) for _ in range(10)]\n",
    "\n",
    "y_pred = np.zeros((ss_df.shape[0], 1))\n",
    "\n",
    "for seed in seeds:\n",
    "    ts_data_setup = DS(base_path=\"../input/paddy-disease-classification/test_images\", \n",
    "                       filenames=ss_df.image_id.copy().values,\n",
    "                       size=SIZE,\n",
    "                       transform=TRANSFORM)\n",
    "    ts_data = DL(ts_data_setup, batch_size=64, shuffle=False, generator=torch.manual_seed(seed))\n",
    "\n",
    "\n",
    "    y_pred += predict_batch(model=model, \n",
    "                            dataloader=ts_data, \n",
    "                            path=MODEL_PATH,\n",
    "                            device=DEVICE)\n",
    "\n",
    "y_pred /= len(seeds)\n",
    "\n",
    "ss_df[\"label\"] = le.inverse_transform(y_pred.astype(\"uint8\").reshape(-1))\n",
    "ss_df.to_csv(\"submission.csv\", index=False)"
   ]
  }
 ],
 "metadata": {
  "kernelspec": {
   "display_name": "Python 3",
   "language": "python",
   "name": "python3"
  },
  "language_info": {
   "codemirror_mode": {
    "name": "ipython",
    "version": 3
   },
   "file_extension": ".py",
   "mimetype": "text/x-python",
   "name": "python",
   "nbconvert_exporter": "python",
   "pygments_lexer": "ipython3",
   "version": "3.7.12"
  },
  "papermill": {
   "default_parameters": {},
   "duration": 874.653863,
   "end_time": "2022-07-03T20:29:58.627521",
   "environment_variables": {},
   "exception": null,
   "input_path": "__notebook__.ipynb",
   "output_path": "__notebook__.ipynb",
   "parameters": {},
   "start_time": "2022-07-03T20:15:23.973658",
   "version": "2.3.4"
  }
 },
 "nbformat": 4,
 "nbformat_minor": 5
}
