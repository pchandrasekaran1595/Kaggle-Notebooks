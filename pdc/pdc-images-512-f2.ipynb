{
 "cells": [
  {
   "cell_type": "markdown",
   "id": "0f7419aa",
   "metadata": {
    "_cell_guid": "b1076dfc-b9ad-4769-8c92-a6c4dae69d19",
    "_uuid": "8f2839f25d086af736a60e9eeb907d3b93b6e0e5",
    "execution": {
     "iopub.execute_input": "2022-06-13T20:48:07.937123Z",
     "iopub.status.busy": "2022-06-13T20:48:07.936137Z",
     "iopub.status.idle": "2022-06-13T20:48:07.944469Z",
     "shell.execute_reply": "2022-06-13T20:48:07.942957Z",
     "shell.execute_reply.started": "2022-06-13T20:48:07.937067Z"
    },
    "papermill": {
     "duration": 0.005063,
     "end_time": "2022-06-18T14:38:44.871883",
     "exception": false,
     "start_time": "2022-06-18T14:38:44.866820",
     "status": "completed"
    },
    "tags": []
   },
   "source": [
    "### **Library Imports**"
   ]
  },
  {
   "cell_type": "code",
   "execution_count": 1,
   "id": "777943a9",
   "metadata": {
    "execution": {
     "iopub.execute_input": "2022-06-18T14:38:44.884816Z",
     "iopub.status.busy": "2022-06-18T14:38:44.884346Z",
     "iopub.status.idle": "2022-06-18T14:38:46.326018Z",
     "shell.execute_reply": "2022-06-18T14:38:46.325044Z"
    },
    "papermill": {
     "duration": 1.45018,
     "end_time": "2022-06-18T14:38:46.328626",
     "exception": false,
     "start_time": "2022-06-18T14:38:44.878446",
     "status": "completed"
    },
    "tags": []
   },
   "outputs": [],
   "source": [
    "import os\n",
    "import cv2\n",
    "import random as r\n",
    "import numpy as np\n",
    "import pandas as pd\n",
    "import matplotlib.pyplot as plt\n",
    "\n",
    "from time import time\n",
    "from sklearn.preprocessing import LabelEncoder\n",
    "from sklearn.model_selection import StratifiedKFold"
   ]
  },
  {
   "cell_type": "markdown",
   "id": "08f56d1a",
   "metadata": {
    "papermill": {
     "duration": 0.003347,
     "end_time": "2022-06-18T14:38:46.336644",
     "exception": false,
     "start_time": "2022-06-18T14:38:46.333297",
     "status": "completed"
    },
    "tags": []
   },
   "source": [
    "### **Helpers**"
   ]
  },
  {
   "cell_type": "code",
   "execution_count": 2,
   "id": "d4092eb1",
   "metadata": {
    "execution": {
     "iopub.execute_input": "2022-06-18T14:38:46.345846Z",
     "iopub.status.busy": "2022-06-18T14:38:46.345100Z",
     "iopub.status.idle": "2022-06-18T14:38:46.360724Z",
     "shell.execute_reply": "2022-06-18T14:38:46.359782Z"
    },
    "papermill": {
     "duration": 0.02308,
     "end_time": "2022-06-18T14:38:46.363277",
     "exception": false,
     "start_time": "2022-06-18T14:38:46.340197",
     "status": "completed"
    },
    "tags": []
   },
   "outputs": [],
   "source": [
    "def breaker(num: int = 50, char: str = \"*\") -> None:\n",
    "    print(\"\\n\" + num*char + \"\\n\")\n",
    "\n",
    "\n",
    "def get_image(path: str, size: int=224) -> np.ndarray:\n",
    "    return cv2.resize(src=cv2.cvtColor(src=cv2.imread(path, cv2.IMREAD_COLOR), code=cv2.COLOR_BGR2RGB), dsize=(size, size), interpolation=cv2.INTER_AREA)\n",
    "\n",
    "\n",
    "def get_images(path: str, label_names: np.ndarray, filenames: np.ndarray, size: int) -> np.ndarray:\n",
    "    images = np.zeros((len(filenames), size, size, 3), dtype=np.uint8)\n",
    "    \n",
    "    for i in range(len(filenames)):\n",
    "        images[i] = get_image(os.path.join(os.path.join(path, label_names[i]), filenames[i]), size)\n",
    "    return images\n",
    "\n",
    "\n",
    "def get_statistics(path: str, label_names: np.ndarray, filenames: np.ndarray, size: int=224) -> tuple:\n",
    "    r_mean, g_mean, b_mean, r_std, g_std, b_std = 0.0, 0.0, 0.0, 0.0, 0.0, 0.0\n",
    "    \n",
    "    for i in range(len(filenames)):\n",
    "        image = get_image(os.path.join(os.path.join(path, label_names[i]), filenames[i]), size)\n",
    "        \n",
    "        r_mean += image[:, :, 0].mean()\n",
    "        g_mean += image[:, :, 1].mean()\n",
    "        b_mean += image[:, :, 2].mean()\n",
    "        \n",
    "        r_std += image[:, :, 0].std()\n",
    "        g_std += image[:, :, 1].std()\n",
    "        b_std += image[:, :, 2].std()\n",
    "    \n",
    "    return (r_mean, g_mean, b_mean), (r_std, g_std, b_std)\n",
    "\n",
    "\n",
    "TRAIN_IMAGE_BASE_PATH = \"../input/paddy-disease-classification/train_images\"\n",
    "SIZE = 512\n",
    "le = LabelEncoder()"
   ]
  },
  {
   "cell_type": "code",
   "execution_count": 3,
   "id": "0aa1fe0b",
   "metadata": {
    "execution": {
     "iopub.execute_input": "2022-06-18T14:38:46.372457Z",
     "iopub.status.busy": "2022-06-18T14:38:46.371671Z",
     "iopub.status.idle": "2022-06-18T14:38:46.377182Z",
     "shell.execute_reply": "2022-06-18T14:38:46.376510Z"
    },
    "papermill": {
     "duration": 0.012227,
     "end_time": "2022-06-18T14:38:46.379232",
     "exception": false,
     "start_time": "2022-06-18T14:38:46.367005",
     "status": "completed"
    },
    "tags": []
   },
   "outputs": [],
   "source": [
    "class CFG(object):\n",
    "    def __init__(self, seed: int=42, n_splits: int=5):\n",
    "        self.seed = seed\n",
    "        self.n_splits = n_splits\n",
    "\n",
    "cfg = CFG()"
   ]
  },
  {
   "cell_type": "markdown",
   "id": "6db226f5",
   "metadata": {
    "papermill": {
     "duration": 0.003325,
     "end_time": "2022-06-18T14:38:46.386516",
     "exception": false,
     "start_time": "2022-06-18T14:38:46.383191",
     "status": "completed"
    },
    "tags": []
   },
   "source": [
    "### **Get Images (Fold 1)**"
   ]
  },
  {
   "cell_type": "code",
   "execution_count": 4,
   "id": "4f95c4b6",
   "metadata": {
    "execution": {
     "iopub.execute_input": "2022-06-18T14:38:46.395808Z",
     "iopub.status.busy": "2022-06-18T14:38:46.394867Z",
     "iopub.status.idle": "2022-06-18T14:38:46.439943Z",
     "shell.execute_reply": "2022-06-18T14:38:46.439123Z"
    },
    "papermill": {
     "duration": 0.052156,
     "end_time": "2022-06-18T14:38:46.442241",
     "exception": false,
     "start_time": "2022-06-18T14:38:46.390085",
     "status": "completed"
    },
    "tags": []
   },
   "outputs": [],
   "source": [
    "df = pd.read_csv(\"../input/paddy-disease-classification/train.csv\")\n",
    "\n",
    "filenames = df.image_id.copy().values\n",
    "label_names = df.label.copy().values\n",
    "labels = le.fit_transform(label_names)"
   ]
  },
  {
   "cell_type": "code",
   "execution_count": 5,
   "id": "05579c73",
   "metadata": {
    "execution": {
     "iopub.execute_input": "2022-06-18T14:38:46.451770Z",
     "iopub.status.busy": "2022-06-18T14:38:46.451074Z",
     "iopub.status.idle": "2022-06-18T14:42:05.652670Z",
     "shell.execute_reply": "2022-06-18T14:42:05.650950Z"
    },
    "papermill": {
     "duration": 199.254204,
     "end_time": "2022-06-18T14:42:05.700256",
     "exception": false,
     "start_time": "2022-06-18T14:38:46.446052",
     "status": "completed"
    },
    "tags": []
   },
   "outputs": [
    {
     "name": "stdout",
     "output_type": "stream",
     "text": [
      "\n",
      "**************************************************\n",
      "\n",
      "Time Taken : 199.19 seconds\n",
      "\n",
      "**************************************************\n",
      "\n"
     ]
    }
   ],
   "source": [
    "start_time = time()\n",
    "fold = 1\n",
    "\n",
    "for tr_idx, va_idx in StratifiedKFold(n_splits=cfg.n_splits, random_state=cfg.seed, shuffle=True).split(filenames, labels):\n",
    "    if fold == 2: break\n",
    "    fold += 1\n",
    "\n",
    "tr_filenames, va_filenames, tr_label_names, va_label_names, tr_labels, va_labels = filenames[tr_idx], filenames[va_idx], label_names[tr_idx], label_names[va_idx], labels[tr_idx], labels[va_idx]    \n",
    "\n",
    "tr_images = get_images(TRAIN_IMAGE_BASE_PATH, tr_label_names, tr_filenames, SIZE)\n",
    "va_images = get_images(TRAIN_IMAGE_BASE_PATH, va_label_names, va_filenames, SIZE)\n",
    "\n",
    "np.save(f\"tr-images-{SIZE}-f{fold}.npy\", tr_images)\n",
    "np.save(f\"va-images-{SIZE}-f{fold}.npy\", va_images)\n",
    "np.save(f\"tr-labels-{SIZE}-f{fold}.npy\", tr_labels)\n",
    "np.save(f\"va-labels-{SIZE}-f{fold}.npy\", va_labels)\n",
    "\n",
    "breaker()\n",
    "print(f\"Time Taken : {time()-start_time:.2f} seconds\")\n",
    "breaker()"
   ]
  },
  {
   "cell_type": "markdown",
   "id": "7672c8e4",
   "metadata": {
    "papermill": {
     "duration": 0.085402,
     "end_time": "2022-06-18T14:42:05.791874",
     "exception": false,
     "start_time": "2022-06-18T14:42:05.706472",
     "status": "completed"
    },
    "tags": []
   },
   "source": [
    "### **Statistics**"
   ]
  },
  {
   "cell_type": "code",
   "execution_count": 6,
   "id": "9a20b597",
   "metadata": {
    "execution": {
     "iopub.execute_input": "2022-06-18T14:42:05.903620Z",
     "iopub.status.busy": "2022-06-18T14:42:05.902550Z",
     "iopub.status.idle": "2022-06-18T14:45:01.623225Z",
     "shell.execute_reply": "2022-06-18T14:45:01.621989Z"
    },
    "papermill": {
     "duration": 175.834818,
     "end_time": "2022-06-18T14:45:01.632384",
     "exception": false,
     "start_time": "2022-06-18T14:42:05.797566",
     "status": "completed"
    },
    "tags": []
   },
   "outputs": [
    {
     "name": "stdout",
     "output_type": "stream",
     "text": [
      "\n",
      "**************************************************\n",
      "\n",
      "Red   Channel Mean : 0.49650\n",
      "Red   Channel Std  : 0.22750\n",
      "\n",
      "Green Channel Mean : 0.58774\n",
      "Green Channel Std  : 0.22771\n",
      "\n",
      "Blue  Channel Mean : 0.23004\n",
      "Blue  Channel Std  : 0.18430\n",
      "\n",
      "**************************************************\n",
      "\n",
      "Time Taken : 175.71 seconds\n",
      "\n",
      "**************************************************\n",
      "\n"
     ]
    }
   ],
   "source": [
    "breaker()\n",
    "\n",
    "start_time = time()\n",
    "\n",
    "means, stds = get_statistics(TRAIN_IMAGE_BASE_PATH, label_names, filenames, SIZE)\n",
    "channels = [\"Red  \", \"Green\", \"Blue \"]\n",
    "\n",
    "for i in range(len(means)):\n",
    "    print(f\"{channels[i]} Channel Mean : {means[i] / len(filenames) / 255:.5f}\")\n",
    "    print(f\"{channels[i]} Channel Std  : {stds[i] / len(filenames) / 255:.5f}\")\n",
    "    if i != 2: print(\"\")\n",
    "\n",
    "breaker()\n",
    "print(f\"Time Taken : {time()-start_time:.2f} seconds\")\n",
    "breaker()"
   ]
  }
 ],
 "metadata": {
  "kernelspec": {
   "display_name": "Python 3",
   "language": "python",
   "name": "python3"
  },
  "language_info": {
   "codemirror_mode": {
    "name": "ipython",
    "version": 3
   },
   "file_extension": ".py",
   "mimetype": "text/x-python",
   "name": "python",
   "nbconvert_exporter": "python",
   "pygments_lexer": "ipython3",
   "version": "3.7.12"
  },
  "papermill": {
   "default_parameters": {},
   "duration": 388.952056,
   "end_time": "2022-06-18T14:45:02.964648",
   "environment_variables": {},
   "exception": null,
   "input_path": "__notebook__.ipynb",
   "output_path": "__notebook__.ipynb",
   "parameters": {},
   "start_time": "2022-06-18T14:38:34.012592",
   "version": "2.3.4"
  }
 },
 "nbformat": 4,
 "nbformat_minor": 5
}
