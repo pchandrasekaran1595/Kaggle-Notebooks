{
 "cells": [
  {
   "cell_type": "markdown",
   "id": "946506e2",
   "metadata": {
    "_cell_guid": "b1076dfc-b9ad-4769-8c92-a6c4dae69d19",
    "_uuid": "8f2839f25d086af736a60e9eeb907d3b93b6e0e5",
    "execution": {
     "iopub.execute_input": "2022-06-13T20:48:07.937123Z",
     "iopub.status.busy": "2022-06-13T20:48:07.936137Z",
     "iopub.status.idle": "2022-06-13T20:48:07.944469Z",
     "shell.execute_reply": "2022-06-13T20:48:07.942957Z",
     "shell.execute_reply.started": "2022-06-13T20:48:07.937067Z"
    },
    "papermill": {
     "duration": 0.0036,
     "end_time": "2022-06-17T19:33:35.597515",
     "exception": false,
     "start_time": "2022-06-17T19:33:35.593915",
     "status": "completed"
    },
    "tags": []
   },
   "source": [
    "### **Library Imports**"
   ]
  },
  {
   "cell_type": "code",
   "execution_count": 1,
   "id": "579f3add",
   "metadata": {
    "execution": {
     "iopub.execute_input": "2022-06-17T19:33:35.607971Z",
     "iopub.status.busy": "2022-06-17T19:33:35.607058Z",
     "iopub.status.idle": "2022-06-17T19:33:36.894660Z",
     "shell.execute_reply": "2022-06-17T19:33:36.893852Z"
    },
    "papermill": {
     "duration": 1.294674,
     "end_time": "2022-06-17T19:33:36.897443",
     "exception": false,
     "start_time": "2022-06-17T19:33:35.602769",
     "status": "completed"
    },
    "tags": []
   },
   "outputs": [],
   "source": [
    "import os\n",
    "import cv2\n",
    "import random as r\n",
    "import numpy as np\n",
    "import pandas as pd\n",
    "import matplotlib.pyplot as plt\n",
    "\n",
    "from time import time\n",
    "from sklearn.preprocessing import LabelEncoder\n",
    "from sklearn.model_selection import StratifiedKFold"
   ]
  },
  {
   "cell_type": "markdown",
   "id": "b25cfb66",
   "metadata": {
    "papermill": {
     "duration": 0.002622,
     "end_time": "2022-06-17T19:33:36.904298",
     "exception": false,
     "start_time": "2022-06-17T19:33:36.901676",
     "status": "completed"
    },
    "tags": []
   },
   "source": [
    "### **Helpers**"
   ]
  },
  {
   "cell_type": "code",
   "execution_count": 2,
   "id": "ccf4af3d",
   "metadata": {
    "execution": {
     "iopub.execute_input": "2022-06-17T19:33:36.912027Z",
     "iopub.status.busy": "2022-06-17T19:33:36.911220Z",
     "iopub.status.idle": "2022-06-17T19:33:36.928350Z",
     "shell.execute_reply": "2022-06-17T19:33:36.927391Z"
    },
    "papermill": {
     "duration": 0.023032,
     "end_time": "2022-06-17T19:33:36.930418",
     "exception": false,
     "start_time": "2022-06-17T19:33:36.907386",
     "status": "completed"
    },
    "tags": []
   },
   "outputs": [],
   "source": [
    "def breaker(num: int = 50, char: str = \"*\") -> None:\n",
    "    print(\"\\n\" + num*char + \"\\n\")\n",
    "\n",
    "\n",
    "def get_image(path: str, size: int=224) -> np.ndarray:\n",
    "    return cv2.resize(src=cv2.cvtColor(src=cv2.imread(path, cv2.IMREAD_COLOR), code=cv2.COLOR_BGR2RGB), dsize=(size, size), interpolation=cv2.INTER_AREA)\n",
    "\n",
    "\n",
    "def get_images(path: str, label_names: np.ndarray, filenames: np.ndarray, size: int) -> np.ndarray:\n",
    "    images = np.zeros((len(filenames), size, size, 3), dtype=np.uint8)\n",
    "    \n",
    "    for i in range(len(filenames)):\n",
    "        images[i] = get_image(os.path.join(os.path.join(path, label_names[i]), filenames[i]), size)\n",
    "    return images\n",
    "\n",
    "\n",
    "def get_statistics(path: str, label_names: np.ndarray, filenames: np.ndarray, size: int=224) -> tuple:\n",
    "    r_mean, g_mean, b_mean, r_std, g_std, b_std = 0.0, 0.0, 0.0, 0.0, 0.0, 0.0\n",
    "    \n",
    "    for i in range(len(filenames)):\n",
    "        image = get_image(os.path.join(os.path.join(path, label_names[i]), filenames[i]), size)\n",
    "        \n",
    "        r_mean += image[:, :, 0].mean()\n",
    "        g_mean += image[:, :, 1].mean()\n",
    "        b_mean += image[:, :, 2].mean()\n",
    "        \n",
    "        r_std += image[:, :, 0].std()\n",
    "        g_std += image[:, :, 1].std()\n",
    "        b_std += image[:, :, 2].std()\n",
    "    \n",
    "    return (r_mean, g_mean, b_mean), (r_std, g_std, b_std)\n",
    "\n",
    "\n",
    "TRAIN_IMAGE_BASE_PATH = \"../input/paddy-disease-classification/train_images\"\n",
    "SIZE = 512\n",
    "le = LabelEncoder()"
   ]
  },
  {
   "cell_type": "code",
   "execution_count": 3,
   "id": "9585364b",
   "metadata": {
    "execution": {
     "iopub.execute_input": "2022-06-17T19:33:36.937166Z",
     "iopub.status.busy": "2022-06-17T19:33:36.936804Z",
     "iopub.status.idle": "2022-06-17T19:33:36.941369Z",
     "shell.execute_reply": "2022-06-17T19:33:36.940499Z"
    },
    "papermill": {
     "duration": 0.00987,
     "end_time": "2022-06-17T19:33:36.943060",
     "exception": false,
     "start_time": "2022-06-17T19:33:36.933190",
     "status": "completed"
    },
    "tags": []
   },
   "outputs": [],
   "source": [
    "class CFG(object):\n",
    "    def __init__(self, seed: int=42, n_splits: int=5):\n",
    "        self.seed = seed\n",
    "        self.n_splits = n_splits\n",
    "\n",
    "cfg = CFG()"
   ]
  },
  {
   "cell_type": "markdown",
   "id": "5e2393f5",
   "metadata": {
    "papermill": {
     "duration": 0.00222,
     "end_time": "2022-06-17T19:33:36.947828",
     "exception": false,
     "start_time": "2022-06-17T19:33:36.945608",
     "status": "completed"
    },
    "tags": []
   },
   "source": [
    "### **Get Images (Fold 1)**"
   ]
  },
  {
   "cell_type": "code",
   "execution_count": 4,
   "id": "96ea0d49",
   "metadata": {
    "execution": {
     "iopub.execute_input": "2022-06-17T19:33:36.955294Z",
     "iopub.status.busy": "2022-06-17T19:33:36.953973Z",
     "iopub.status.idle": "2022-06-17T19:33:36.992911Z",
     "shell.execute_reply": "2022-06-17T19:33:36.992022Z"
    },
    "papermill": {
     "duration": 0.044734,
     "end_time": "2022-06-17T19:33:36.994959",
     "exception": false,
     "start_time": "2022-06-17T19:33:36.950225",
     "status": "completed"
    },
    "tags": []
   },
   "outputs": [],
   "source": [
    "df = pd.read_csv(\"../input/paddy-disease-classification/train.csv\")\n",
    "\n",
    "filenames = df.image_id.copy().values\n",
    "label_names = df.label.copy().values\n",
    "labels = le.fit_transform(label_names)"
   ]
  },
  {
   "cell_type": "code",
   "execution_count": 5,
   "id": "23208ea7",
   "metadata": {
    "execution": {
     "iopub.execute_input": "2022-06-17T19:33:37.002329Z",
     "iopub.status.busy": "2022-06-17T19:33:37.001648Z",
     "iopub.status.idle": "2022-06-17T19:36:44.349079Z",
     "shell.execute_reply": "2022-06-17T19:36:44.347345Z"
    },
    "papermill": {
     "duration": 187.401879,
     "end_time": "2022-06-17T19:36:44.399545",
     "exception": false,
     "start_time": "2022-06-17T19:33:36.997666",
     "status": "completed"
    },
    "tags": []
   },
   "outputs": [
    {
     "name": "stdout",
     "output_type": "stream",
     "text": [
      "\n",
      "**************************************************\n",
      "\n",
      "Time Taken : 187.34 seconds\n",
      "\n",
      "**************************************************\n",
      "\n"
     ]
    }
   ],
   "source": [
    "start_time = time()\n",
    "fold = 1\n",
    "\n",
    "for tr_idx, va_idx in StratifiedKFold(n_splits=cfg.n_splits, random_state=cfg.seed, shuffle=True).split(filenames, labels):\n",
    "    if fold == 2: break\n",
    "    fold += 1\n",
    "\n",
    "tr_filenames, va_filenames, tr_label_names, va_label_names, tr_labels, va_labels = filenames[tr_idx], filenames[va_idx], label_names[tr_idx], label_names[va_idx], labels[tr_idx], labels[va_idx]    \n",
    "\n",
    "tr_images = get_images(TRAIN_IMAGE_BASE_PATH, tr_label_names, tr_filenames, SIZE)\n",
    "va_images = get_images(TRAIN_IMAGE_BASE_PATH, va_label_names, va_filenames, SIZE)\n",
    "\n",
    "np.save(\"tr-images-512-f1.npy\", tr_images)\n",
    "np.save(\"va-images-512-f1.npy\", va_images)\n",
    "np.save(\"tr-labels-512-f1.npy\", tr_labels)\n",
    "np.save(\"va-labels-512-f1.npy\", va_labels)\n",
    "\n",
    "breaker()\n",
    "print(f\"Time Taken : {time()-start_time:.2f} seconds\")\n",
    "breaker()"
   ]
  },
  {
   "cell_type": "markdown",
   "id": "2ebbbdef",
   "metadata": {
    "papermill": {
     "duration": 0.069555,
     "end_time": "2022-06-17T19:36:44.473996",
     "exception": false,
     "start_time": "2022-06-17T19:36:44.404441",
     "status": "completed"
    },
    "tags": []
   },
   "source": [
    "### **Statistics**"
   ]
  },
  {
   "cell_type": "code",
   "execution_count": 6,
   "id": "d3c7e676",
   "metadata": {
    "execution": {
     "iopub.execute_input": "2022-06-17T19:36:44.566780Z",
     "iopub.status.busy": "2022-06-17T19:36:44.566364Z",
     "iopub.status.idle": "2022-06-17T19:39:38.060168Z",
     "shell.execute_reply": "2022-06-17T19:39:38.059414Z"
    },
    "papermill": {
     "duration": 173.586139,
     "end_time": "2022-06-17T19:39:38.065149",
     "exception": false,
     "start_time": "2022-06-17T19:36:44.479010",
     "status": "completed"
    },
    "tags": []
   },
   "outputs": [
    {
     "name": "stdout",
     "output_type": "stream",
     "text": [
      "\n",
      "**************************************************\n",
      "\n",
      "Red   Channel Mean : 0.49650\n",
      "Red   Channel Std  : 0.22750\n",
      "\n",
      "Green Channel Mean : 0.58774\n",
      "Green Channel Std  : 0.22771\n",
      "\n",
      "Blue  Channel Mean : 0.23004\n",
      "Blue  Channel Std  : 0.18430\n",
      "\n",
      "**************************************************\n",
      "\n",
      "Time Taken : 173.49 seconds\n",
      "\n",
      "**************************************************\n",
      "\n"
     ]
    }
   ],
   "source": [
    "breaker()\n",
    "\n",
    "start_time = time()\n",
    "\n",
    "means, stds = get_statistics(TRAIN_IMAGE_BASE_PATH, label_names, filenames, SIZE)\n",
    "channels = [\"Red  \", \"Green\", \"Blue \"]\n",
    "\n",
    "for i in range(len(means)):\n",
    "    print(f\"{channels[i]} Channel Mean : {means[i] / len(filenames) / 255:.5f}\")\n",
    "    print(f\"{channels[i]} Channel Std  : {stds[i] / len(filenames) / 255:.5f}\")\n",
    "    if i != 2: print(\"\")\n",
    "\n",
    "breaker()\n",
    "print(f\"Time Taken : {time()-start_time:.2f} seconds\")\n",
    "breaker()"
   ]
  }
 ],
 "metadata": {
  "kernelspec": {
   "display_name": "Python 3",
   "language": "python",
   "name": "python3"
  },
  "language_info": {
   "codemirror_mode": {
    "name": "ipython",
    "version": 3
   },
   "file_extension": ".py",
   "mimetype": "text/x-python",
   "name": "python",
   "nbconvert_exporter": "python",
   "pygments_lexer": "ipython3",
   "version": "3.7.12"
  },
  "papermill": {
   "default_parameters": {},
   "duration": 371.805035,
   "end_time": "2022-06-17T19:39:39.191310",
   "environment_variables": {},
   "exception": null,
   "input_path": "__notebook__.ipynb",
   "output_path": "__notebook__.ipynb",
   "parameters": {},
   "start_time": "2022-06-17T19:33:27.386275",
   "version": "2.3.4"
  }
 },
 "nbformat": 4,
 "nbformat_minor": 5
}
