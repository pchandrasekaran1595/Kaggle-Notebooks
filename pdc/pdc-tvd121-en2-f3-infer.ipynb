{
 "cells": [
  {
   "cell_type": "markdown",
   "id": "c57dbdbb",
   "metadata": {
    "papermill": {
     "duration": 0.004652,
     "end_time": "2022-06-27T05:34:16.031197",
     "exception": false,
     "start_time": "2022-06-27T05:34:16.026545",
     "status": "completed"
    },
    "tags": []
   },
   "source": [
    "### **Setup**"
   ]
  },
  {
   "cell_type": "code",
   "execution_count": 1,
   "id": "c455ca39",
   "metadata": {
    "execution": {
     "iopub.execute_input": "2022-06-27T05:34:16.042618Z",
     "iopub.status.busy": "2022-06-27T05:34:16.042102Z",
     "iopub.status.idle": "2022-06-27T05:34:26.866751Z",
     "shell.execute_reply": "2022-06-27T05:34:26.865821Z"
    },
    "papermill": {
     "duration": 10.831902,
     "end_time": "2022-06-27T05:34:26.869091",
     "exception": false,
     "start_time": "2022-06-27T05:34:16.037189",
     "status": "completed"
    },
    "tags": []
   },
   "outputs": [
    {
     "name": "stderr",
     "output_type": "stream",
     "text": [
      "WARNING: Running pip as the 'root' user can result in broken permissions and conflicting behaviour with the system package manager. It is recommended to use a virtual environment instead: https://pip.pypa.io/warnings/venv\n"
     ]
    }
   ],
   "source": [
    "%%bash\n",
    "pip install timm -q"
   ]
  },
  {
   "cell_type": "markdown",
   "id": "11c166f1",
   "metadata": {
    "papermill": {
     "duration": 0.003359,
     "end_time": "2022-06-27T05:34:26.876144",
     "exception": false,
     "start_time": "2022-06-27T05:34:26.872785",
     "status": "completed"
    },
    "tags": []
   },
   "source": [
    "### **Library Imports**"
   ]
  },
  {
   "cell_type": "code",
   "execution_count": 2,
   "id": "9f52be09",
   "metadata": {
    "execution": {
     "iopub.execute_input": "2022-06-27T05:34:26.884830Z",
     "iopub.status.busy": "2022-06-27T05:34:26.884536Z",
     "iopub.status.idle": "2022-06-27T05:34:34.380120Z",
     "shell.execute_reply": "2022-06-27T05:34:34.379178Z"
    },
    "papermill": {
     "duration": 7.50273,
     "end_time": "2022-06-27T05:34:34.382349",
     "exception": false,
     "start_time": "2022-06-27T05:34:26.879619",
     "status": "completed"
    },
    "tags": []
   },
   "outputs": [],
   "source": [
    "import os\n",
    "import re\n",
    "import cv2\n",
    "import timm\n",
    "import torch\n",
    "import numpy as np\n",
    "import pandas as pd\n",
    "import matplotlib.pyplot as plt\n",
    "\n",
    "from time import time\n",
    "from torch import nn, optim\n",
    "from torch.utils.data import Dataset\n",
    "from torch.utils.data import DataLoader as DL\n",
    "from torchvision import models, transforms\n",
    "\n",
    "from sklearn.preprocessing import LabelEncoder"
   ]
  },
  {
   "cell_type": "markdown",
   "id": "18077e89",
   "metadata": {
    "papermill": {
     "duration": 0.003533,
     "end_time": "2022-06-27T05:34:34.389612",
     "exception": false,
     "start_time": "2022-06-27T05:34:34.386079",
     "status": "completed"
    },
    "tags": []
   },
   "source": [
    "### **Utilities and Helpers**"
   ]
  },
  {
   "cell_type": "code",
   "execution_count": 3,
   "id": "ade9ecd5",
   "metadata": {
    "execution": {
     "iopub.execute_input": "2022-06-27T05:34:34.399153Z",
     "iopub.status.busy": "2022-06-27T05:34:34.397983Z",
     "iopub.status.idle": "2022-06-27T05:34:34.463978Z",
     "shell.execute_reply": "2022-06-27T05:34:34.463213Z"
    },
    "papermill": {
     "duration": 0.072642,
     "end_time": "2022-06-27T05:34:34.465665",
     "exception": false,
     "start_time": "2022-06-27T05:34:34.393023",
     "status": "completed"
    },
    "tags": []
   },
   "outputs": [],
   "source": [
    "SEED = 42\n",
    "SIZE = 384\n",
    "FOLD = 3\n",
    "\n",
    "TRANSFORM = transforms.Compose([transforms.ToTensor(),\n",
    "                                transforms.Normalize([0.49699, 0.58823, 0.23049],\n",
    "                                                     [0.22591, 0.22614, 0.18264]),\n",
    "                                ])\n",
    "\n",
    "MODEL_PATH_1 = f\"../input/pdc-tvd121-na{SIZE}f-f{FOLD}/saves/ble_state.pt\"\n",
    "MODEL_PATH_2 = f\"../input/pdc-en2-na{SIZE}f-noes-f{FOLD}/saves/ble_state.pt\"\n",
    "\n",
    "DEVICE = torch.device(\"cuda\" if torch.cuda.is_available() else \"cpu\")\n",
    "\n",
    "le = LabelEncoder()\n",
    "\n",
    "\n",
    "def breaker(num: int=50, char: str=\"*\") -> None:\n",
    "    print(\"\\n\" + num*char + \"\\n\")\n",
    "\n",
    "\n",
    "def get_image(path: str, size: int=224) -> np.ndarray:\n",
    "    return cv2.resize(src=cv2.cvtColor(src=cv2.imread(path, cv2.IMREAD_COLOR), code=cv2.COLOR_BGR2RGB), dsize=(size, size), interpolation=cv2.INTER_AREA)"
   ]
  },
  {
   "cell_type": "markdown",
   "id": "389f808e",
   "metadata": {
    "papermill": {
     "duration": 0.003586,
     "end_time": "2022-06-27T05:34:34.472920",
     "exception": false,
     "start_time": "2022-06-27T05:34:34.469334",
     "status": "completed"
    },
    "tags": []
   },
   "source": [
    "### **Configuration**"
   ]
  },
  {
   "cell_type": "markdown",
   "id": "03b34687",
   "metadata": {
    "papermill": {
     "duration": 0.003237,
     "end_time": "2022-06-27T05:34:34.480138",
     "exception": false,
     "start_time": "2022-06-27T05:34:34.476901",
     "status": "completed"
    },
    "tags": []
   },
   "source": [
    "### **Dataset Template**"
   ]
  },
  {
   "cell_type": "code",
   "execution_count": 4,
   "id": "bf97faab",
   "metadata": {
    "execution": {
     "iopub.execute_input": "2022-06-27T05:34:34.488083Z",
     "iopub.status.busy": "2022-06-27T05:34:34.487781Z",
     "iopub.status.idle": "2022-06-27T05:34:34.493660Z",
     "shell.execute_reply": "2022-06-27T05:34:34.492907Z"
    },
    "papermill": {
     "duration": 0.011868,
     "end_time": "2022-06-27T05:34:34.495454",
     "exception": false,
     "start_time": "2022-06-27T05:34:34.483586",
     "status": "completed"
    },
    "tags": []
   },
   "outputs": [],
   "source": [
    "class DS(Dataset):\n",
    "    def __init__(self, base_path: str, filenames: np.ndarray, size: int=224, transform=None):\n",
    "        self.base_path = base_path\n",
    "        self.filenames = filenames\n",
    "        self.size = size\n",
    "        self.transform = transform\n",
    "    \n",
    "    def __len__(self):\n",
    "        return self.filenames.shape[0]\n",
    "    \n",
    "    def __getitem__(self, idx):\n",
    "        return self.transform(get_image(os.path.join(self.base_path, self.filenames[idx]), size=self.size))"
   ]
  },
  {
   "cell_type": "markdown",
   "id": "800ec18d",
   "metadata": {
    "papermill": {
     "duration": 0.003731,
     "end_time": "2022-06-27T05:34:34.502560",
     "exception": false,
     "start_time": "2022-06-27T05:34:34.498829",
     "status": "completed"
    },
    "tags": []
   },
   "source": [
    "### **Model**"
   ]
  },
  {
   "cell_type": "code",
   "execution_count": 5,
   "id": "f9e60826",
   "metadata": {
    "execution": {
     "iopub.execute_input": "2022-06-27T05:34:34.510365Z",
     "iopub.status.busy": "2022-06-27T05:34:34.510119Z",
     "iopub.status.idle": "2022-06-27T05:34:34.517252Z",
     "shell.execute_reply": "2022-06-27T05:34:34.516581Z"
    },
    "papermill": {
     "duration": 0.013098,
     "end_time": "2022-06-27T05:34:34.519037",
     "exception": false,
     "start_time": "2022-06-27T05:34:34.505939",
     "status": "completed"
    },
    "tags": []
   },
   "outputs": [],
   "source": [
    "class Model(nn.Module):\n",
    "    def __init__(self, model_name=\"densenet\"):\n",
    "        super(Model, self).__init__()\n",
    "\n",
    "        if model_name == \"tv_densenet121\":\n",
    "            self.model = timm.create_model(model_name=\"tv_densenet121\", pretrained=True)\n",
    "            # self.freeze()\n",
    "            self.model.classifier = nn.Linear(in_features=self.model.classifier.in_features, out_features=10)\n",
    "            \n",
    "        elif model_name == \"efficientnet_b2\":\n",
    "            self.model = timm.create_model(model_name=\"efficientnet_b2\", pretrained=False)\n",
    "            # self.freeze()\n",
    "            self.model.classifier = nn.Linear(in_features=self.model.classifier.in_features, out_features=10)\n",
    "        \n",
    "        else:\n",
    "            raise NotImplementedError(\"Not Implemented\")\n",
    "    \n",
    "    def freeze(self):\n",
    "        for params in self.parameters(): params.requires_grad = False\n",
    "\n",
    "    def forward(self, x):\n",
    "        return nn.LogSoftmax(dim=1)(self.model(x))"
   ]
  },
  {
   "cell_type": "markdown",
   "id": "41d404b1",
   "metadata": {
    "papermill": {
     "duration": 0.003462,
     "end_time": "2022-06-27T05:34:34.525888",
     "exception": false,
     "start_time": "2022-06-27T05:34:34.522426",
     "status": "completed"
    },
    "tags": []
   },
   "source": [
    "### **Predict Helpers**"
   ]
  },
  {
   "cell_type": "code",
   "execution_count": 6,
   "id": "530a809e",
   "metadata": {
    "execution": {
     "iopub.execute_input": "2022-06-27T05:34:34.534101Z",
     "iopub.status.busy": "2022-06-27T05:34:34.533810Z",
     "iopub.status.idle": "2022-06-27T05:34:34.542326Z",
     "shell.execute_reply": "2022-06-27T05:34:34.541687Z"
    },
    "papermill": {
     "duration": 0.014698,
     "end_time": "2022-06-27T05:34:34.543951",
     "exception": false,
     "start_time": "2022-06-27T05:34:34.529253",
     "status": "completed"
    },
    "tags": []
   },
   "outputs": [],
   "source": [
    "def predict_batch(models: list=None, model_2=None, dataloader=None, paths: list=None, device=None) -> np.ndarray:\n",
    "    assert len(models) == len(paths)\n",
    "    \n",
    "    for i in range(len(models)):\n",
    "        models[i].load_state_dict(torch.load(paths[i], map_location=device)[\"model_state_dict\"])\n",
    "        models[i].to(device)    \n",
    "        models[i].eval()\n",
    "    \n",
    "    y_pred = torch.zeros(1, 1).to(device)\n",
    "    \n",
    "    for X in dataloader:\n",
    "        X = X.to(device)\n",
    "        with torch.no_grad():\n",
    "            output = torch.argmax(0.25*torch.exp(models[0](X)) + 0.75*torch.exp(models[1](X)), dim=1)\n",
    "        y_pred = torch.cat((y_pred, output.view(-1, 1)), dim=0)\n",
    "    \n",
    "    return y_pred[1:].detach().cpu().numpy()"
   ]
  },
  {
   "cell_type": "markdown",
   "id": "83664bda",
   "metadata": {
    "papermill": {
     "duration": 0.003252,
     "end_time": "2022-06-27T05:34:34.550648",
     "exception": false,
     "start_time": "2022-06-27T05:34:34.547396",
     "status": "completed"
    },
    "tags": []
   },
   "source": [
    "### **Submission**"
   ]
  },
  {
   "cell_type": "code",
   "execution_count": 7,
   "id": "96be2a9d",
   "metadata": {
    "execution": {
     "iopub.execute_input": "2022-06-27T05:34:34.558407Z",
     "iopub.status.busy": "2022-06-27T05:34:34.558168Z",
     "iopub.status.idle": "2022-06-27T05:35:55.513446Z",
     "shell.execute_reply": "2022-06-27T05:35:55.512645Z"
    },
    "papermill": {
     "duration": 80.961575,
     "end_time": "2022-06-27T05:35:55.515620",
     "exception": false,
     "start_time": "2022-06-27T05:34:34.554045",
     "status": "completed"
    },
    "tags": []
   },
   "outputs": [
    {
     "name": "stderr",
     "output_type": "stream",
     "text": [
      "Downloading: \"https://download.pytorch.org/models/densenet121-a639ec97.pth\" to /root/.cache/torch/hub/checkpoints/densenet121-a639ec97.pth\n"
     ]
    }
   ],
   "source": [
    "df = pd.read_csv(\"../input/paddy-disease-classification/train.csv\")\n",
    "ss_df = pd.read_csv(\"../input/paddy-disease-classification/sample_submission.csv\")\n",
    "\n",
    "labels = df.label.copy().values\n",
    "labels = le.fit_transform(labels)\n",
    "\n",
    "ts_data_setup = DS(base_path=\"../input/paddy-disease-classification/test_images\", \n",
    "                   filenames=ss_df.image_id.copy().values,\n",
    "                   size=SIZE,\n",
    "                   transform=TRANSFORM)\n",
    "ts_data = DL(ts_data_setup, batch_size=64, shuffle=False)\n",
    "\n",
    "model_1 = Model(\"tv_densenet121\").to(DEVICE)\n",
    "model_2 = Model(\"efficientnet_b2\").to(DEVICE)\n",
    "\n",
    "y_pred = predict_batch(models=[model_1, model_2], \n",
    "                       dataloader=ts_data, \n",
    "                       paths=[MODEL_PATH_1, MODEL_PATH_2],\n",
    "                       device=DEVICE)\n",
    "\n",
    "ss_df[\"label\"] = le.inverse_transform(y_pred.astype(\"uint8\").reshape(-1))\n",
    "ss_df.to_csv(\"submission.csv\", index=False)"
   ]
  }
 ],
 "metadata": {
  "kernelspec": {
   "display_name": "Python 3",
   "language": "python",
   "name": "python3"
  },
  "language_info": {
   "codemirror_mode": {
    "name": "ipython",
    "version": 3
   },
   "file_extension": ".py",
   "mimetype": "text/x-python",
   "name": "python",
   "nbconvert_exporter": "python",
   "pygments_lexer": "ipython3",
   "version": "3.7.12"
  },
  "papermill": {
   "default_parameters": {},
   "duration": 111.321599,
   "end_time": "2022-06-27T05:35:58.960651",
   "environment_variables": {},
   "exception": null,
   "input_path": "__notebook__.ipynb",
   "output_path": "__notebook__.ipynb",
   "parameters": {},
   "start_time": "2022-06-27T05:34:07.639052",
   "version": "2.3.4"
  }
 },
 "nbformat": 4,
 "nbformat_minor": 5
}
