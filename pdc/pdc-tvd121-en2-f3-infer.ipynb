{
 "cells": [
  {
   "cell_type": "markdown",
   "id": "269672ec",
   "metadata": {
    "papermill": {
     "duration": 0.004474,
     "end_time": "2022-06-27T05:57:57.921255",
     "exception": false,
     "start_time": "2022-06-27T05:57:57.916781",
     "status": "completed"
    },
    "tags": []
   },
   "source": [
    "### **Setup**"
   ]
  },
  {
   "cell_type": "code",
   "execution_count": 1,
   "id": "7bf9c170",
   "metadata": {
    "execution": {
     "iopub.execute_input": "2022-06-27T05:57:57.932912Z",
     "iopub.status.busy": "2022-06-27T05:57:57.932365Z",
     "iopub.status.idle": "2022-06-27T05:58:08.837857Z",
     "shell.execute_reply": "2022-06-27T05:58:08.836824Z"
    },
    "papermill": {
     "duration": 10.912684,
     "end_time": "2022-06-27T05:58:08.840034",
     "exception": false,
     "start_time": "2022-06-27T05:57:57.927350",
     "status": "completed"
    },
    "tags": []
   },
   "outputs": [
    {
     "name": "stderr",
     "output_type": "stream",
     "text": [
      "WARNING: Running pip as the 'root' user can result in broken permissions and conflicting behaviour with the system package manager. It is recommended to use a virtual environment instead: https://pip.pypa.io/warnings/venv\n"
     ]
    }
   ],
   "source": [
    "%%bash\n",
    "pip install timm -q"
   ]
  },
  {
   "cell_type": "markdown",
   "id": "2a99e99e",
   "metadata": {
    "papermill": {
     "duration": 0.003564,
     "end_time": "2022-06-27T05:58:08.847399",
     "exception": false,
     "start_time": "2022-06-27T05:58:08.843835",
     "status": "completed"
    },
    "tags": []
   },
   "source": [
    "### **Library Imports**"
   ]
  },
  {
   "cell_type": "code",
   "execution_count": 2,
   "id": "7812f419",
   "metadata": {
    "execution": {
     "iopub.execute_input": "2022-06-27T05:58:08.856613Z",
     "iopub.status.busy": "2022-06-27T05:58:08.856241Z",
     "iopub.status.idle": "2022-06-27T05:58:17.966460Z",
     "shell.execute_reply": "2022-06-27T05:58:17.965495Z"
    },
    "papermill": {
     "duration": 9.117473,
     "end_time": "2022-06-27T05:58:17.968696",
     "exception": false,
     "start_time": "2022-06-27T05:58:08.851223",
     "status": "completed"
    },
    "tags": []
   },
   "outputs": [],
   "source": [
    "import os\n",
    "import re\n",
    "import cv2\n",
    "import timm\n",
    "import torch\n",
    "import numpy as np\n",
    "import pandas as pd\n",
    "import matplotlib.pyplot as plt\n",
    "\n",
    "from time import time\n",
    "from torch import nn, optim\n",
    "from torch.utils.data import Dataset\n",
    "from torch.utils.data import DataLoader as DL\n",
    "from torchvision import models, transforms\n",
    "\n",
    "from sklearn.preprocessing import LabelEncoder"
   ]
  },
  {
   "cell_type": "markdown",
   "id": "9fc87f0d",
   "metadata": {
    "papermill": {
     "duration": 0.003328,
     "end_time": "2022-06-27T05:58:17.975831",
     "exception": false,
     "start_time": "2022-06-27T05:58:17.972503",
     "status": "completed"
    },
    "tags": []
   },
   "source": [
    "### **Utilities and Helpers**"
   ]
  },
  {
   "cell_type": "code",
   "execution_count": 3,
   "id": "ccdc2e91",
   "metadata": {
    "execution": {
     "iopub.execute_input": "2022-06-27T05:58:17.984650Z",
     "iopub.status.busy": "2022-06-27T05:58:17.983907Z",
     "iopub.status.idle": "2022-06-27T05:58:18.053474Z",
     "shell.execute_reply": "2022-06-27T05:58:18.052648Z"
    },
    "papermill": {
     "duration": 0.075795,
     "end_time": "2022-06-27T05:58:18.055242",
     "exception": false,
     "start_time": "2022-06-27T05:58:17.979447",
     "status": "completed"
    },
    "tags": []
   },
   "outputs": [],
   "source": [
    "SEED = 42\n",
    "SIZE = 384\n",
    "FOLD = 3\n",
    "\n",
    "TRANSFORM = transforms.Compose([transforms.ToTensor(),\n",
    "                                transforms.Normalize([0.49699, 0.58823, 0.23049],\n",
    "                                                     [0.22591, 0.22614, 0.18264]),\n",
    "                                ])\n",
    "\n",
    "MODEL_PATH_1 = f\"../input/pdc-tvd121-na{SIZE}f-f{FOLD}/saves/ble_state.pt\"\n",
    "MODEL_PATH_2 = f\"../input/pdc-en2-na{SIZE}f-noes-f{FOLD}/saves/ble_state.pt\"\n",
    "\n",
    "DEVICE = torch.device(\"cuda\" if torch.cuda.is_available() else \"cpu\")\n",
    "\n",
    "le = LabelEncoder()\n",
    "\n",
    "\n",
    "def breaker(num: int=50, char: str=\"*\") -> None:\n",
    "    print(\"\\n\" + num*char + \"\\n\")\n",
    "\n",
    "\n",
    "def get_image(path: str, size: int=224) -> np.ndarray:\n",
    "    return cv2.resize(src=cv2.cvtColor(src=cv2.imread(path, cv2.IMREAD_COLOR), code=cv2.COLOR_BGR2RGB), dsize=(size, size), interpolation=cv2.INTER_AREA)"
   ]
  },
  {
   "cell_type": "markdown",
   "id": "18e8cd3c",
   "metadata": {
    "papermill": {
     "duration": 0.003362,
     "end_time": "2022-06-27T05:58:18.062323",
     "exception": false,
     "start_time": "2022-06-27T05:58:18.058961",
     "status": "completed"
    },
    "tags": []
   },
   "source": [
    "### **Configuration**"
   ]
  },
  {
   "cell_type": "markdown",
   "id": "42cb8965",
   "metadata": {
    "papermill": {
     "duration": 0.003642,
     "end_time": "2022-06-27T05:58:18.069575",
     "exception": false,
     "start_time": "2022-06-27T05:58:18.065933",
     "status": "completed"
    },
    "tags": []
   },
   "source": [
    "### **Dataset Template**"
   ]
  },
  {
   "cell_type": "code",
   "execution_count": 4,
   "id": "6afcea21",
   "metadata": {
    "execution": {
     "iopub.execute_input": "2022-06-27T05:58:18.077752Z",
     "iopub.status.busy": "2022-06-27T05:58:18.077414Z",
     "iopub.status.idle": "2022-06-27T05:58:18.083417Z",
     "shell.execute_reply": "2022-06-27T05:58:18.082706Z"
    },
    "papermill": {
     "duration": 0.012302,
     "end_time": "2022-06-27T05:58:18.085277",
     "exception": false,
     "start_time": "2022-06-27T05:58:18.072975",
     "status": "completed"
    },
    "tags": []
   },
   "outputs": [],
   "source": [
    "class DS(Dataset):\n",
    "    def __init__(self, base_path: str, filenames: np.ndarray, size: int=224, transform=None):\n",
    "        self.base_path = base_path\n",
    "        self.filenames = filenames\n",
    "        self.size = size\n",
    "        self.transform = transform\n",
    "    \n",
    "    def __len__(self):\n",
    "        return self.filenames.shape[0]\n",
    "    \n",
    "    def __getitem__(self, idx):\n",
    "        return self.transform(get_image(os.path.join(self.base_path, self.filenames[idx]), size=self.size))"
   ]
  },
  {
   "cell_type": "markdown",
   "id": "00b0197f",
   "metadata": {
    "papermill": {
     "duration": 0.003307,
     "end_time": "2022-06-27T05:58:18.092203",
     "exception": false,
     "start_time": "2022-06-27T05:58:18.088896",
     "status": "completed"
    },
    "tags": []
   },
   "source": [
    "### **Model**"
   ]
  },
  {
   "cell_type": "code",
   "execution_count": 5,
   "id": "d558a325",
   "metadata": {
    "execution": {
     "iopub.execute_input": "2022-06-27T05:58:18.100252Z",
     "iopub.status.busy": "2022-06-27T05:58:18.099975Z",
     "iopub.status.idle": "2022-06-27T05:58:18.108231Z",
     "shell.execute_reply": "2022-06-27T05:58:18.107291Z"
    },
    "papermill": {
     "duration": 0.014611,
     "end_time": "2022-06-27T05:58:18.110413",
     "exception": false,
     "start_time": "2022-06-27T05:58:18.095802",
     "status": "completed"
    },
    "tags": []
   },
   "outputs": [],
   "source": [
    "class Model(nn.Module):\n",
    "    def __init__(self, model_name=\"densenet\"):\n",
    "        super(Model, self).__init__()\n",
    "\n",
    "        if model_name == \"tv_densenet121\":\n",
    "            self.model = timm.create_model(model_name=\"tv_densenet121\", pretrained=True)\n",
    "            # self.freeze()\n",
    "            self.model.classifier = nn.Linear(in_features=self.model.classifier.in_features, out_features=10)\n",
    "            \n",
    "        elif model_name == \"efficientnet_b2\":\n",
    "            self.model = timm.create_model(model_name=\"efficientnet_b2\", pretrained=False)\n",
    "            # self.freeze()\n",
    "            self.model.classifier = nn.Linear(in_features=self.model.classifier.in_features, out_features=10)\n",
    "        \n",
    "        else:\n",
    "            raise NotImplementedError(\"Not Implemented\")\n",
    "    \n",
    "    def freeze(self):\n",
    "        for params in self.parameters(): params.requires_grad = False\n",
    "\n",
    "    def forward(self, x):\n",
    "        return nn.LogSoftmax(dim=1)(self.model(x))"
   ]
  },
  {
   "cell_type": "markdown",
   "id": "b2232f12",
   "metadata": {
    "papermill": {
     "duration": 0.003323,
     "end_time": "2022-06-27T05:58:18.117426",
     "exception": false,
     "start_time": "2022-06-27T05:58:18.114103",
     "status": "completed"
    },
    "tags": []
   },
   "source": [
    "### **Predict Helpers**"
   ]
  },
  {
   "cell_type": "code",
   "execution_count": 6,
   "id": "00a9ca19",
   "metadata": {
    "execution": {
     "iopub.execute_input": "2022-06-27T05:58:18.125616Z",
     "iopub.status.busy": "2022-06-27T05:58:18.125337Z",
     "iopub.status.idle": "2022-06-27T05:58:18.133678Z",
     "shell.execute_reply": "2022-06-27T05:58:18.132784Z"
    },
    "papermill": {
     "duration": 0.014672,
     "end_time": "2022-06-27T05:58:18.135706",
     "exception": false,
     "start_time": "2022-06-27T05:58:18.121034",
     "status": "completed"
    },
    "tags": []
   },
   "outputs": [],
   "source": [
    "def predict_batch(models: list=None, model_2=None, dataloader=None, paths: list=None, device=None) -> np.ndarray:\n",
    "    assert len(models) == len(paths)\n",
    "    \n",
    "    for i in range(len(models)):\n",
    "        models[i].load_state_dict(torch.load(paths[i], map_location=device)[\"model_state_dict\"])\n",
    "        models[i].to(device)    \n",
    "        models[i].eval()\n",
    "    \n",
    "    y_pred = torch.zeros(1, 1).to(device)\n",
    "    \n",
    "    for X in dataloader:\n",
    "        X = X.to(device)\n",
    "        with torch.no_grad():\n",
    "            output = torch.argmax(torch.exp(models[0](X)) + torch.exp(models[1](X)), dim=1)\n",
    "        y_pred = torch.cat((y_pred, output.view(-1, 1)), dim=0)\n",
    "    \n",
    "    return y_pred[1:].detach().cpu().numpy()"
   ]
  },
  {
   "cell_type": "markdown",
   "id": "6b691ce1",
   "metadata": {
    "papermill": {
     "duration": 0.003322,
     "end_time": "2022-06-27T05:58:18.142820",
     "exception": false,
     "start_time": "2022-06-27T05:58:18.139498",
     "status": "completed"
    },
    "tags": []
   },
   "source": [
    "### **Submission**"
   ]
  },
  {
   "cell_type": "code",
   "execution_count": 7,
   "id": "4e0cdaab",
   "metadata": {
    "execution": {
     "iopub.execute_input": "2022-06-27T05:58:18.151462Z",
     "iopub.status.busy": "2022-06-27T05:58:18.150872Z",
     "iopub.status.idle": "2022-06-27T05:59:43.911306Z",
     "shell.execute_reply": "2022-06-27T05:59:43.910469Z"
    },
    "papermill": {
     "duration": 85.767164,
     "end_time": "2022-06-27T05:59:43.913558",
     "exception": false,
     "start_time": "2022-06-27T05:58:18.146394",
     "status": "completed"
    },
    "tags": []
   },
   "outputs": [
    {
     "name": "stderr",
     "output_type": "stream",
     "text": [
      "Downloading: \"https://download.pytorch.org/models/densenet121-a639ec97.pth\" to /root/.cache/torch/hub/checkpoints/densenet121-a639ec97.pth\n"
     ]
    }
   ],
   "source": [
    "df = pd.read_csv(\"../input/paddy-disease-classification/train.csv\")\n",
    "ss_df = pd.read_csv(\"../input/paddy-disease-classification/sample_submission.csv\")\n",
    "\n",
    "labels = df.label.copy().values\n",
    "labels = le.fit_transform(labels)\n",
    "\n",
    "ts_data_setup = DS(base_path=\"../input/paddy-disease-classification/test_images\", \n",
    "                   filenames=ss_df.image_id.copy().values,\n",
    "                   size=SIZE,\n",
    "                   transform=TRANSFORM)\n",
    "ts_data = DL(ts_data_setup, batch_size=64, shuffle=False)\n",
    "\n",
    "model_1 = Model(\"tv_densenet121\").to(DEVICE)\n",
    "model_2 = Model(\"efficientnet_b2\").to(DEVICE)\n",
    "\n",
    "y_pred = predict_batch(models=[model_1, model_2], \n",
    "                       dataloader=ts_data, \n",
    "                       paths=[MODEL_PATH_1, MODEL_PATH_2],\n",
    "                       device=DEVICE)\n",
    "\n",
    "ss_df[\"label\"] = le.inverse_transform(y_pred.astype(\"uint8\").reshape(-1))\n",
    "ss_df.to_csv(\"submission.csv\", index=False)"
   ]
  }
 ],
 "metadata": {
  "kernelspec": {
   "display_name": "Python 3",
   "language": "python",
   "name": "python3"
  },
  "language_info": {
   "codemirror_mode": {
    "name": "ipython",
    "version": 3
   },
   "file_extension": ".py",
   "mimetype": "text/x-python",
   "name": "python",
   "nbconvert_exporter": "python",
   "pygments_lexer": "ipython3",
   "version": "3.7.12"
  },
  "papermill": {
   "default_parameters": {},
   "duration": 118.452605,
   "end_time": "2022-06-27T05:59:47.605779",
   "environment_variables": {},
   "exception": null,
   "input_path": "__notebook__.ipynb",
   "output_path": "__notebook__.ipynb",
   "parameters": {},
   "start_time": "2022-06-27T05:57:49.153174",
   "version": "2.3.4"
  }
 },
 "nbformat": 4,
 "nbformat_minor": 5
}
