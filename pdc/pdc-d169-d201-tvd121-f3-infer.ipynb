{
 "cells": [
  {
   "cell_type": "markdown",
   "id": "cd13e422",
   "metadata": {
    "papermill": {
     "duration": 0.004406,
     "end_time": "2022-06-27T06:16:00.362752",
     "exception": false,
     "start_time": "2022-06-27T06:16:00.358346",
     "status": "completed"
    },
    "tags": []
   },
   "source": [
    "### **Setup**"
   ]
  },
  {
   "cell_type": "code",
   "execution_count": 1,
   "id": "27ba65e5",
   "metadata": {
    "execution": {
     "iopub.execute_input": "2022-06-27T06:16:00.374083Z",
     "iopub.status.busy": "2022-06-27T06:16:00.373360Z",
     "iopub.status.idle": "2022-06-27T06:16:11.178689Z",
     "shell.execute_reply": "2022-06-27T06:16:11.177714Z"
    },
    "papermill": {
     "duration": 10.812192,
     "end_time": "2022-06-27T06:16:11.180724",
     "exception": false,
     "start_time": "2022-06-27T06:16:00.368532",
     "status": "completed"
    },
    "tags": []
   },
   "outputs": [
    {
     "name": "stderr",
     "output_type": "stream",
     "text": [
      "WARNING: Running pip as the 'root' user can result in broken permissions and conflicting behaviour with the system package manager. It is recommended to use a virtual environment instead: https://pip.pypa.io/warnings/venv\n"
     ]
    }
   ],
   "source": [
    "%%bash\n",
    "pip install timm -q"
   ]
  },
  {
   "cell_type": "markdown",
   "id": "2143bf47",
   "metadata": {
    "papermill": {
     "duration": 0.003341,
     "end_time": "2022-06-27T06:16:11.187779",
     "exception": false,
     "start_time": "2022-06-27T06:16:11.184438",
     "status": "completed"
    },
    "tags": []
   },
   "source": [
    "### **Library Imports**"
   ]
  },
  {
   "cell_type": "code",
   "execution_count": 2,
   "id": "a5ed8fc3",
   "metadata": {
    "execution": {
     "iopub.execute_input": "2022-06-27T06:16:11.196186Z",
     "iopub.status.busy": "2022-06-27T06:16:11.195899Z",
     "iopub.status.idle": "2022-06-27T06:16:18.964937Z",
     "shell.execute_reply": "2022-06-27T06:16:18.963876Z"
    },
    "papermill": {
     "duration": 7.776175,
     "end_time": "2022-06-27T06:16:18.967424",
     "exception": false,
     "start_time": "2022-06-27T06:16:11.191249",
     "status": "completed"
    },
    "tags": []
   },
   "outputs": [],
   "source": [
    "import os\n",
    "import re\n",
    "import cv2\n",
    "import timm\n",
    "import torch\n",
    "import numpy as np\n",
    "import pandas as pd\n",
    "import matplotlib.pyplot as plt\n",
    "\n",
    "from time import time\n",
    "from torch import nn, optim\n",
    "from torch.utils.data import Dataset\n",
    "from torch.utils.data import DataLoader as DL\n",
    "from torchvision import models, transforms\n",
    "\n",
    "from sklearn.preprocessing import LabelEncoder"
   ]
  },
  {
   "cell_type": "markdown",
   "id": "0055bc27",
   "metadata": {
    "papermill": {
     "duration": 0.003836,
     "end_time": "2022-06-27T06:16:18.975541",
     "exception": false,
     "start_time": "2022-06-27T06:16:18.971705",
     "status": "completed"
    },
    "tags": []
   },
   "source": [
    "### **Utilities and Helpers**"
   ]
  },
  {
   "cell_type": "code",
   "execution_count": 3,
   "id": "ff622f7c",
   "metadata": {
    "execution": {
     "iopub.execute_input": "2022-06-27T06:16:18.985192Z",
     "iopub.status.busy": "2022-06-27T06:16:18.983657Z",
     "iopub.status.idle": "2022-06-27T06:16:19.050065Z",
     "shell.execute_reply": "2022-06-27T06:16:19.049297Z"
    },
    "papermill": {
     "duration": 0.072819,
     "end_time": "2022-06-27T06:16:19.051795",
     "exception": false,
     "start_time": "2022-06-27T06:16:18.978976",
     "status": "completed"
    },
    "tags": []
   },
   "outputs": [],
   "source": [
    "SEED = 42\n",
    "SIZE = 384\n",
    "FOLD = 3\n",
    "\n",
    "TRANSFORM = transforms.Compose([transforms.ToTensor(),\n",
    "                                transforms.Normalize([0.49699, 0.58823, 0.23049],\n",
    "                                                     [0.22591, 0.22614, 0.18264]),\n",
    "                                ])\n",
    "\n",
    "MODEL_PATH_1 = f\"../input/pdc-d169-na{SIZE}f-noes-f{FOLD}/saves/ble_state.pt\"\n",
    "MODEL_PATH_2 = f\"../input/pdc-d201-na{SIZE}f-noes-f{FOLD}/saves/ble_state.pt\"\n",
    "MODEL_PATH_3 = f\"../input/pdc-tvd121-na{SIZE}f-f{FOLD}/saves/ble_state.pt\"\n",
    "\n",
    "DEVICE = torch.device(\"cuda\" if torch.cuda.is_available() else \"cpu\")\n",
    "\n",
    "le = LabelEncoder()\n",
    "\n",
    "\n",
    "def breaker(num: int=50, char: str=\"*\") -> None:\n",
    "    print(\"\\n\" + num*char + \"\\n\")\n",
    "\n",
    "\n",
    "def get_image(path: str, size: int=224) -> np.ndarray:\n",
    "    return cv2.resize(src=cv2.cvtColor(src=cv2.imread(path, cv2.IMREAD_COLOR), code=cv2.COLOR_BGR2RGB), dsize=(size, size), interpolation=cv2.INTER_AREA)"
   ]
  },
  {
   "cell_type": "markdown",
   "id": "e4620130",
   "metadata": {
    "papermill": {
     "duration": 0.00329,
     "end_time": "2022-06-27T06:16:19.059150",
     "exception": false,
     "start_time": "2022-06-27T06:16:19.055860",
     "status": "completed"
    },
    "tags": []
   },
   "source": [
    "### **Configuration**"
   ]
  },
  {
   "cell_type": "markdown",
   "id": "873aa0cf",
   "metadata": {
    "papermill": {
     "duration": 0.003206,
     "end_time": "2022-06-27T06:16:19.065809",
     "exception": false,
     "start_time": "2022-06-27T06:16:19.062603",
     "status": "completed"
    },
    "tags": []
   },
   "source": [
    "### **Dataset Template**"
   ]
  },
  {
   "cell_type": "code",
   "execution_count": 4,
   "id": "24937b80",
   "metadata": {
    "execution": {
     "iopub.execute_input": "2022-06-27T06:16:19.073752Z",
     "iopub.status.busy": "2022-06-27T06:16:19.073470Z",
     "iopub.status.idle": "2022-06-27T06:16:19.079951Z",
     "shell.execute_reply": "2022-06-27T06:16:19.079273Z"
    },
    "papermill": {
     "duration": 0.012382,
     "end_time": "2022-06-27T06:16:19.081661",
     "exception": false,
     "start_time": "2022-06-27T06:16:19.069279",
     "status": "completed"
    },
    "tags": []
   },
   "outputs": [],
   "source": [
    "class DS(Dataset):\n",
    "    def __init__(self, base_path: str, filenames: np.ndarray, size: int=224, transform=None):\n",
    "        self.base_path = base_path\n",
    "        self.filenames = filenames\n",
    "        self.size = size\n",
    "        self.transform = transform\n",
    "    \n",
    "    def __len__(self):\n",
    "        return self.filenames.shape[0]\n",
    "    \n",
    "    def __getitem__(self, idx):\n",
    "        return self.transform(get_image(os.path.join(self.base_path, self.filenames[idx]), size=self.size))"
   ]
  },
  {
   "cell_type": "markdown",
   "id": "5dc33a3c",
   "metadata": {
    "papermill": {
     "duration": 0.003443,
     "end_time": "2022-06-27T06:16:19.088533",
     "exception": false,
     "start_time": "2022-06-27T06:16:19.085090",
     "status": "completed"
    },
    "tags": []
   },
   "source": [
    "### **Model**"
   ]
  },
  {
   "cell_type": "code",
   "execution_count": 5,
   "id": "e8091ff2",
   "metadata": {
    "execution": {
     "iopub.execute_input": "2022-06-27T06:16:19.096823Z",
     "iopub.status.busy": "2022-06-27T06:16:19.096571Z",
     "iopub.status.idle": "2022-06-27T06:16:19.105957Z",
     "shell.execute_reply": "2022-06-27T06:16:19.105308Z"
    },
    "papermill": {
     "duration": 0.015725,
     "end_time": "2022-06-27T06:16:19.107617",
     "exception": false,
     "start_time": "2022-06-27T06:16:19.091892",
     "status": "completed"
    },
    "tags": []
   },
   "outputs": [],
   "source": [
    "class Model(nn.Module):\n",
    "    def __init__(self, model_name=\"densenet\"):\n",
    "        super(Model, self).__init__()\n",
    "\n",
    "        if model_name == \"densenet169\":\n",
    "            self.model = models.densenet169(pretrained=False, progress=True)\n",
    "            # self.freeze()\n",
    "            self.model.classifier = nn.Linear(in_features=self.model.classifier.in_features, out_features=10)\n",
    "        \n",
    "        elif model_name == \"densenet201\":\n",
    "            self.model = models.densenet201(pretrained=False, progress=True)\n",
    "            # self.freeze()\n",
    "            self.model.classifier = nn.Linear(in_features=self.model.classifier.in_features, out_features=10)\n",
    "            \n",
    "        elif model_name == \"tv_densenet121\":\n",
    "            self.model = timm.create_model(model_name=\"tv_densenet121\", pretrained=False)\n",
    "            # self.freeze()\n",
    "            self.model.classifier = nn.Linear(in_features=self.model.classifier.in_features, out_features=10)\n",
    "        \n",
    "        else:\n",
    "            raise NotImplementedError()\n",
    "    \n",
    "    def freeze(self):\n",
    "        for params in self.parameters(): params.requires_grad = False\n",
    "\n",
    "    def forward(self, x):\n",
    "        return nn.LogSoftmax(dim=1)(self.model(x))"
   ]
  },
  {
   "cell_type": "markdown",
   "id": "ef327027",
   "metadata": {
    "papermill": {
     "duration": 0.003235,
     "end_time": "2022-06-27T06:16:19.114234",
     "exception": false,
     "start_time": "2022-06-27T06:16:19.110999",
     "status": "completed"
    },
    "tags": []
   },
   "source": [
    "### **Predict Helpers**"
   ]
  },
  {
   "cell_type": "code",
   "execution_count": 6,
   "id": "3582fbd1",
   "metadata": {
    "execution": {
     "iopub.execute_input": "2022-06-27T06:16:19.122039Z",
     "iopub.status.busy": "2022-06-27T06:16:19.121796Z",
     "iopub.status.idle": "2022-06-27T06:16:19.131131Z",
     "shell.execute_reply": "2022-06-27T06:16:19.130457Z"
    },
    "papermill": {
     "duration": 0.015336,
     "end_time": "2022-06-27T06:16:19.132957",
     "exception": false,
     "start_time": "2022-06-27T06:16:19.117621",
     "status": "completed"
    },
    "tags": []
   },
   "outputs": [],
   "source": [
    "def predict_batch(models: list=None, model_2=None, dataloader=None, paths: list=None, weights: list=None, device=None) -> np.ndarray:\n",
    "    assert len(models) == len(paths)\n",
    "    \n",
    "    for i in range(len(models)):\n",
    "        models[i].load_state_dict(torch.load(paths[i], map_location=device)[\"model_state_dict\"])\n",
    "        models[i].to(device)    \n",
    "        models[i].eval()\n",
    "    \n",
    "    y_pred = torch.zeros(1, 1).to(device)\n",
    "    \n",
    "    for X in dataloader:\n",
    "        X = X.to(device)\n",
    "        with torch.no_grad():\n",
    "            if weights is None:\n",
    "                output = torch.argmax(torch.exp(models[0](X)) + torch.exp(models[1](X)) + torch.exp(models[2](X)), dim=1)\n",
    "            else:\n",
    "                output = weights[0] * torch.exp(models[0](X)) + weights[1] * torch.exp(models[1](X)) + weights[2] * torch.exp(models[2](X))\n",
    "                output = torch.argmax(output, dim=1)\n",
    "        y_pred = torch.cat((y_pred, output.view(-1, 1)), dim=0)\n",
    "    \n",
    "    return y_pred[1:].detach().cpu().numpy()"
   ]
  },
  {
   "cell_type": "markdown",
   "id": "aad91b53",
   "metadata": {
    "papermill": {
     "duration": 0.003239,
     "end_time": "2022-06-27T06:16:19.140105",
     "exception": false,
     "start_time": "2022-06-27T06:16:19.136866",
     "status": "completed"
    },
    "tags": []
   },
   "source": [
    "### **Submission**"
   ]
  },
  {
   "cell_type": "code",
   "execution_count": 7,
   "id": "138250ee",
   "metadata": {
    "execution": {
     "iopub.execute_input": "2022-06-27T06:16:19.147990Z",
     "iopub.status.busy": "2022-06-27T06:16:19.147750Z",
     "iopub.status.idle": "2022-06-27T06:18:14.598410Z",
     "shell.execute_reply": "2022-06-27T06:18:14.597585Z"
    },
    "papermill": {
     "duration": 115.457109,
     "end_time": "2022-06-27T06:18:14.600654",
     "exception": false,
     "start_time": "2022-06-27T06:16:19.143545",
     "status": "completed"
    },
    "tags": []
   },
   "outputs": [],
   "source": [
    "df = pd.read_csv(\"../input/paddy-disease-classification/train.csv\")\n",
    "ss_df = pd.read_csv(\"../input/paddy-disease-classification/sample_submission.csv\")\n",
    "\n",
    "labels = df.label.copy().values\n",
    "labels = le.fit_transform(labels)\n",
    "\n",
    "ts_data_setup = DS(base_path=\"../input/paddy-disease-classification/test_images\", \n",
    "                   filenames=ss_df.image_id.copy().values,\n",
    "                   size=SIZE,\n",
    "                   transform=TRANSFORM)\n",
    "ts_data = DL(ts_data_setup, batch_size=64, shuffle=False)\n",
    "\n",
    "model_1 = Model(\"densenet169\").to(DEVICE)\n",
    "model_2 = Model(\"densenet201\").to(DEVICE)\n",
    "model_3 = Model(\"tv_densenet121\").to(DEVICE)\n",
    "\n",
    "y_pred = predict_batch(models=[model_1, model_2, model_3], \n",
    "                       dataloader=ts_data, \n",
    "                       paths=[MODEL_PATH_1, MODEL_PATH_2, MODEL_PATH_3],\n",
    "                       weights=[0.2, 0.4, 0.4],\n",
    "                       device=DEVICE)\n",
    "\n",
    "ss_df[\"label\"] = le.inverse_transform(y_pred.astype(\"uint8\").reshape(-1))\n",
    "ss_df.to_csv(\"submission.csv\", index=False)"
   ]
  }
 ],
 "metadata": {
  "kernelspec": {
   "display_name": "Python 3",
   "language": "python",
   "name": "python3"
  },
  "language_info": {
   "codemirror_mode": {
    "name": "ipython",
    "version": 3
   },
   "file_extension": ".py",
   "mimetype": "text/x-python",
   "name": "python",
   "nbconvert_exporter": "python",
   "pygments_lexer": "ipython3",
   "version": "3.7.12"
  },
  "papermill": {
   "default_parameters": {},
   "duration": 145.278895,
   "end_time": "2022-06-27T06:18:17.718165",
   "environment_variables": {},
   "exception": null,
   "input_path": "__notebook__.ipynb",
   "output_path": "__notebook__.ipynb",
   "parameters": {},
   "start_time": "2022-06-27T06:15:52.439270",
   "version": "2.3.4"
  }
 },
 "nbformat": 4,
 "nbformat_minor": 5
}
