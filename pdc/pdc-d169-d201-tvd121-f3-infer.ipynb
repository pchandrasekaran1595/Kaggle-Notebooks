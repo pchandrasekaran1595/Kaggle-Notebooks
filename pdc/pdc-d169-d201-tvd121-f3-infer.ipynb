{
 "cells": [
  {
   "cell_type": "markdown",
   "id": "3fa3411a",
   "metadata": {
    "papermill": {
     "duration": 0.006452,
     "end_time": "2022-06-27T06:11:02.705112",
     "exception": false,
     "start_time": "2022-06-27T06:11:02.698660",
     "status": "completed"
    },
    "tags": []
   },
   "source": [
    "### **Setup**"
   ]
  },
  {
   "cell_type": "code",
   "execution_count": 1,
   "id": "aa21a0ff",
   "metadata": {
    "execution": {
     "iopub.execute_input": "2022-06-27T06:11:02.732276Z",
     "iopub.status.busy": "2022-06-27T06:11:02.731643Z",
     "iopub.status.idle": "2022-06-27T06:11:18.414371Z",
     "shell.execute_reply": "2022-06-27T06:11:18.413055Z"
    },
    "papermill": {
     "duration": 15.697283,
     "end_time": "2022-06-27T06:11:18.417091",
     "exception": false,
     "start_time": "2022-06-27T06:11:02.719808",
     "status": "completed"
    },
    "tags": []
   },
   "outputs": [
    {
     "name": "stderr",
     "output_type": "stream",
     "text": [
      "WARNING: Running pip as the 'root' user can result in broken permissions and conflicting behaviour with the system package manager. It is recommended to use a virtual environment instead: https://pip.pypa.io/warnings/venv\n"
     ]
    }
   ],
   "source": [
    "%%bash\n",
    "pip install timm -q"
   ]
  },
  {
   "cell_type": "markdown",
   "id": "c6761160",
   "metadata": {
    "papermill": {
     "duration": 0.004604,
     "end_time": "2022-06-27T06:11:18.426444",
     "exception": false,
     "start_time": "2022-06-27T06:11:18.421840",
     "status": "completed"
    },
    "tags": []
   },
   "source": [
    "### **Library Imports**"
   ]
  },
  {
   "cell_type": "code",
   "execution_count": 2,
   "id": "b0378d18",
   "metadata": {
    "execution": {
     "iopub.execute_input": "2022-06-27T06:11:18.440628Z",
     "iopub.status.busy": "2022-06-27T06:11:18.439965Z",
     "iopub.status.idle": "2022-06-27T06:11:28.579542Z",
     "shell.execute_reply": "2022-06-27T06:11:28.578265Z"
    },
    "papermill": {
     "duration": 10.150535,
     "end_time": "2022-06-27T06:11:28.582256",
     "exception": false,
     "start_time": "2022-06-27T06:11:18.431721",
     "status": "completed"
    },
    "tags": []
   },
   "outputs": [],
   "source": [
    "import os\n",
    "import re\n",
    "import cv2\n",
    "import timm\n",
    "import torch\n",
    "import numpy as np\n",
    "import pandas as pd\n",
    "import matplotlib.pyplot as plt\n",
    "\n",
    "from time import time\n",
    "from torch import nn, optim\n",
    "from torch.utils.data import Dataset\n",
    "from torch.utils.data import DataLoader as DL\n",
    "from torchvision import models, transforms\n",
    "\n",
    "from sklearn.preprocessing import LabelEncoder"
   ]
  },
  {
   "cell_type": "markdown",
   "id": "2cf35728",
   "metadata": {
    "papermill": {
     "duration": 0.003999,
     "end_time": "2022-06-27T06:11:28.591029",
     "exception": false,
     "start_time": "2022-06-27T06:11:28.587030",
     "status": "completed"
    },
    "tags": []
   },
   "source": [
    "### **Utilities and Helpers**"
   ]
  },
  {
   "cell_type": "code",
   "execution_count": 3,
   "id": "68d998d3",
   "metadata": {
    "execution": {
     "iopub.execute_input": "2022-06-27T06:11:28.602085Z",
     "iopub.status.busy": "2022-06-27T06:11:28.601144Z",
     "iopub.status.idle": "2022-06-27T06:11:28.684511Z",
     "shell.execute_reply": "2022-06-27T06:11:28.683434Z"
    },
    "papermill": {
     "duration": 0.091399,
     "end_time": "2022-06-27T06:11:28.686791",
     "exception": false,
     "start_time": "2022-06-27T06:11:28.595392",
     "status": "completed"
    },
    "tags": []
   },
   "outputs": [],
   "source": [
    "SEED = 42\n",
    "SIZE = 384\n",
    "FOLD = 3\n",
    "\n",
    "TRANSFORM = transforms.Compose([transforms.ToTensor(),\n",
    "                                transforms.Normalize([0.49699, 0.58823, 0.23049],\n",
    "                                                     [0.22591, 0.22614, 0.18264]),\n",
    "                                ])\n",
    "\n",
    "MODEL_PATH_1 = f\"../input/pdc-d169-na{SIZE}f-noes-f{FOLD}/saves/ble_state.pt\"\n",
    "MODEL_PATH_2 = f\"../input/pdc-d201-na{SIZE}f-noes-f{FOLD}/saves/ble_state.pt\"\n",
    "MODEL_PATH_3 = f\"../input/pdc-tvd121-na{SIZE}f-f{FOLD}/saves/ble_state.pt\"\n",
    "\n",
    "DEVICE = torch.device(\"cuda\" if torch.cuda.is_available() else \"cpu\")\n",
    "\n",
    "le = LabelEncoder()\n",
    "\n",
    "\n",
    "def breaker(num: int=50, char: str=\"*\") -> None:\n",
    "    print(\"\\n\" + num*char + \"\\n\")\n",
    "\n",
    "\n",
    "def get_image(path: str, size: int=224) -> np.ndarray:\n",
    "    return cv2.resize(src=cv2.cvtColor(src=cv2.imread(path, cv2.IMREAD_COLOR), code=cv2.COLOR_BGR2RGB), dsize=(size, size), interpolation=cv2.INTER_AREA)"
   ]
  },
  {
   "cell_type": "markdown",
   "id": "23af5540",
   "metadata": {
    "papermill": {
     "duration": 0.004318,
     "end_time": "2022-06-27T06:11:28.695986",
     "exception": false,
     "start_time": "2022-06-27T06:11:28.691668",
     "status": "completed"
    },
    "tags": []
   },
   "source": [
    "### **Configuration**"
   ]
  },
  {
   "cell_type": "markdown",
   "id": "adf02e98",
   "metadata": {
    "papermill": {
     "duration": 0.003965,
     "end_time": "2022-06-27T06:11:28.704141",
     "exception": false,
     "start_time": "2022-06-27T06:11:28.700176",
     "status": "completed"
    },
    "tags": []
   },
   "source": [
    "### **Dataset Template**"
   ]
  },
  {
   "cell_type": "code",
   "execution_count": 4,
   "id": "477a0c59",
   "metadata": {
    "execution": {
     "iopub.execute_input": "2022-06-27T06:11:28.714290Z",
     "iopub.status.busy": "2022-06-27T06:11:28.713427Z",
     "iopub.status.idle": "2022-06-27T06:11:28.720830Z",
     "shell.execute_reply": "2022-06-27T06:11:28.719797Z"
    },
    "papermill": {
     "duration": 0.014788,
     "end_time": "2022-06-27T06:11:28.722999",
     "exception": false,
     "start_time": "2022-06-27T06:11:28.708211",
     "status": "completed"
    },
    "tags": []
   },
   "outputs": [],
   "source": [
    "class DS(Dataset):\n",
    "    def __init__(self, base_path: str, filenames: np.ndarray, size: int=224, transform=None):\n",
    "        self.base_path = base_path\n",
    "        self.filenames = filenames\n",
    "        self.size = size\n",
    "        self.transform = transform\n",
    "    \n",
    "    def __len__(self):\n",
    "        return self.filenames.shape[0]\n",
    "    \n",
    "    def __getitem__(self, idx):\n",
    "        return self.transform(get_image(os.path.join(self.base_path, self.filenames[idx]), size=self.size))"
   ]
  },
  {
   "cell_type": "markdown",
   "id": "2a81f732",
   "metadata": {
    "papermill": {
     "duration": 0.005297,
     "end_time": "2022-06-27T06:11:28.733387",
     "exception": false,
     "start_time": "2022-06-27T06:11:28.728090",
     "status": "completed"
    },
    "tags": []
   },
   "source": [
    "### **Model**"
   ]
  },
  {
   "cell_type": "code",
   "execution_count": 5,
   "id": "4f183910",
   "metadata": {
    "execution": {
     "iopub.execute_input": "2022-06-27T06:11:28.746342Z",
     "iopub.status.busy": "2022-06-27T06:11:28.745268Z",
     "iopub.status.idle": "2022-06-27T06:11:28.756819Z",
     "shell.execute_reply": "2022-06-27T06:11:28.755770Z"
    },
    "papermill": {
     "duration": 0.020539,
     "end_time": "2022-06-27T06:11:28.758975",
     "exception": false,
     "start_time": "2022-06-27T06:11:28.738436",
     "status": "completed"
    },
    "tags": []
   },
   "outputs": [],
   "source": [
    "class Model(nn.Module):\n",
    "    def __init__(self, model_name=\"densenet\"):\n",
    "        super(Model, self).__init__()\n",
    "\n",
    "        if model_name == \"densenet169\":\n",
    "            self.model = models.densenet169(pretrained=False, progress=True)\n",
    "            # self.freeze()\n",
    "            self.model.classifier = nn.Linear(in_features=self.model.classifier.in_features, out_features=10)\n",
    "        \n",
    "        elif model_name == \"densenet201\":\n",
    "            self.model = models.densenet201(pretrained=False, progress=True)\n",
    "            # self.freeze()\n",
    "            self.model.classifier = nn.Linear(in_features=self.model.classifier.in_features, out_features=10)\n",
    "            \n",
    "        elif model_name == \"tv_densenet121\":\n",
    "            self.model = timm.create_model(model_name=\"tv_densenet121\", pretrained=False)\n",
    "            # self.freeze()\n",
    "            self.model.classifier = nn.Linear(in_features=self.model.classifier.in_features, out_features=10)\n",
    "        \n",
    "        else:\n",
    "            raise NotImplementedError()\n",
    "    \n",
    "    def freeze(self):\n",
    "        for params in self.parameters(): params.requires_grad = False\n",
    "\n",
    "    def forward(self, x):\n",
    "        return nn.LogSoftmax(dim=1)(self.model(x))"
   ]
  },
  {
   "cell_type": "markdown",
   "id": "77bfcf49",
   "metadata": {
    "papermill": {
     "duration": 0.004407,
     "end_time": "2022-06-27T06:11:28.768040",
     "exception": false,
     "start_time": "2022-06-27T06:11:28.763633",
     "status": "completed"
    },
    "tags": []
   },
   "source": [
    "### **Predict Helpers**"
   ]
  },
  {
   "cell_type": "code",
   "execution_count": 6,
   "id": "d4a85aaa",
   "metadata": {
    "execution": {
     "iopub.execute_input": "2022-06-27T06:11:28.778625Z",
     "iopub.status.busy": "2022-06-27T06:11:28.778201Z",
     "iopub.status.idle": "2022-06-27T06:11:28.789619Z",
     "shell.execute_reply": "2022-06-27T06:11:28.788676Z"
    },
    "papermill": {
     "duration": 0.019147,
     "end_time": "2022-06-27T06:11:28.791737",
     "exception": false,
     "start_time": "2022-06-27T06:11:28.772590",
     "status": "completed"
    },
    "tags": []
   },
   "outputs": [],
   "source": [
    "def predict_batch(models: list=None, model_2=None, dataloader=None, paths: list=None, weights: list=None, device=None) -> np.ndarray:\n",
    "    assert len(models) == len(paths)\n",
    "    \n",
    "    for i in range(len(models)):\n",
    "        models[i].load_state_dict(torch.load(paths[i], map_location=device)[\"model_state_dict\"])\n",
    "        models[i].to(device)    \n",
    "        models[i].eval()\n",
    "    \n",
    "    y_pred = torch.zeros(1, 1).to(device)\n",
    "    \n",
    "    for X in dataloader:\n",
    "        X = X.to(device)\n",
    "        with torch.no_grad():\n",
    "            if weights is None:\n",
    "                output = torch.argmax(torch.exp(models[0](X)) + torch.exp(models[1](X)) + torch.exp(models[2](X)), dim=1)\n",
    "            else:\n",
    "                output = weights[0] * torch.exp(models[0](X)) + weights[1] * torch.exp(models[1](X)) + weights[2] * torch.exp(models[2](X))\n",
    "                output = torch.argmax(output, dim=1)\n",
    "        y_pred = torch.cat((y_pred, output.view(-1, 1)), dim=0)\n",
    "    \n",
    "    return y_pred[1:].detach().cpu().numpy()"
   ]
  },
  {
   "cell_type": "markdown",
   "id": "0c6efd78",
   "metadata": {
    "papermill": {
     "duration": 0.004135,
     "end_time": "2022-06-27T06:11:28.800261",
     "exception": false,
     "start_time": "2022-06-27T06:11:28.796126",
     "status": "completed"
    },
    "tags": []
   },
   "source": [
    "### **Submission**"
   ]
  },
  {
   "cell_type": "code",
   "execution_count": 7,
   "id": "2cbcaeb6",
   "metadata": {
    "execution": {
     "iopub.execute_input": "2022-06-27T06:11:28.810279Z",
     "iopub.status.busy": "2022-06-27T06:11:28.809893Z",
     "iopub.status.idle": "2022-06-27T06:13:41.511799Z",
     "shell.execute_reply": "2022-06-27T06:13:41.510855Z"
    },
    "papermill": {
     "duration": 132.710132,
     "end_time": "2022-06-27T06:13:41.514530",
     "exception": false,
     "start_time": "2022-06-27T06:11:28.804398",
     "status": "completed"
    },
    "tags": []
   },
   "outputs": [],
   "source": [
    "df = pd.read_csv(\"../input/paddy-disease-classification/train.csv\")\n",
    "ss_df = pd.read_csv(\"../input/paddy-disease-classification/sample_submission.csv\")\n",
    "\n",
    "labels = df.label.copy().values\n",
    "labels = le.fit_transform(labels)\n",
    "\n",
    "ts_data_setup = DS(base_path=\"../input/paddy-disease-classification/test_images\", \n",
    "                   filenames=ss_df.image_id.copy().values,\n",
    "                   size=SIZE,\n",
    "                   transform=TRANSFORM)\n",
    "ts_data = DL(ts_data_setup, batch_size=64, shuffle=False)\n",
    "\n",
    "model_1 = Model(\"densenet169\").to(DEVICE)\n",
    "model_2 = Model(\"densenet201\").to(DEVICE)\n",
    "model_3 = Model(\"tv_densenet121\").to(DEVICE)\n",
    "\n",
    "y_pred = predict_batch(models=[model_1, model_2, model_3], \n",
    "                       dataloader=ts_data, \n",
    "                       paths=[MODEL_PATH_1, MODEL_PATH_2, MODEL_PATH_3],\n",
    "                       weights=None,\n",
    "                       device=DEVICE)\n",
    "\n",
    "ss_df[\"label\"] = le.inverse_transform(y_pred.astype(\"uint8\").reshape(-1))\n",
    "ss_df.to_csv(\"submission.csv\", index=False)"
   ]
  }
 ],
 "metadata": {
  "kernelspec": {
   "display_name": "Python 3",
   "language": "python",
   "name": "python3"
  },
  "language_info": {
   "codemirror_mode": {
    "name": "ipython",
    "version": 3
   },
   "file_extension": ".py",
   "mimetype": "text/x-python",
   "name": "python",
   "nbconvert_exporter": "python",
   "pygments_lexer": "ipython3",
   "version": "3.7.12"
  },
  "papermill": {
   "default_parameters": {},
   "duration": 172.727866,
   "end_time": "2022-06-27T06:13:45.310420",
   "environment_variables": {},
   "exception": null,
   "input_path": "__notebook__.ipynb",
   "output_path": "__notebook__.ipynb",
   "parameters": {},
   "start_time": "2022-06-27T06:10:52.582554",
   "version": "2.3.4"
  }
 },
 "nbformat": 4,
 "nbformat_minor": 5
}
