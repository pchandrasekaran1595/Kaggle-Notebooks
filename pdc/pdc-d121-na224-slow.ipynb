{
 "cells": [
  {
   "cell_type": "markdown",
   "id": "9f0f1bff",
   "metadata": {
    "_cell_guid": "b1076dfc-b9ad-4769-8c92-a6c4dae69d19",
    "_uuid": "8f2839f25d086af736a60e9eeb907d3b93b6e0e5",
    "papermill": {
     "duration": 0.004761,
     "end_time": "2022-06-14T11:03:40.988143",
     "exception": false,
     "start_time": "2022-06-14T11:03:40.983382",
     "status": "completed"
    },
    "tags": []
   },
   "source": [
    "### **Library Imports**"
   ]
  },
  {
   "cell_type": "code",
   "execution_count": 1,
   "id": "4bd815fc",
   "metadata": {
    "execution": {
     "iopub.execute_input": "2022-06-14T11:03:40.997813Z",
     "iopub.status.busy": "2022-06-14T11:03:40.997366Z",
     "iopub.status.idle": "2022-06-14T11:03:43.772042Z",
     "shell.execute_reply": "2022-06-14T11:03:43.771207Z"
    },
    "papermill": {
     "duration": 2.782215,
     "end_time": "2022-06-14T11:03:43.774234",
     "exception": false,
     "start_time": "2022-06-14T11:03:40.992019",
     "status": "completed"
    },
    "tags": []
   },
   "outputs": [],
   "source": [
    "import os\n",
    "import re\n",
    "import torch\n",
    "import numpy as np\n",
    "import pandas as pd\n",
    "import matplotlib.pyplot as plt\n",
    "\n",
    "from time import time\n",
    "from torch import nn, optim\n",
    "from torch.utils.data import Dataset\n",
    "from torch.utils.data import DataLoader as DL\n",
    "from torchvision import models, transforms\n",
    "\n",
    "from sklearn.model_selection import StratifiedKFold\n",
    "from sklearn.preprocessing import LabelEncoder\n",
    "from sklearn.metrics import accuracy_score"
   ]
  },
  {
   "cell_type": "markdown",
   "id": "aba5797f",
   "metadata": {
    "papermill": {
     "duration": 0.003504,
     "end_time": "2022-06-14T11:03:43.781582",
     "exception": false,
     "start_time": "2022-06-14T11:03:43.778078",
     "status": "completed"
    },
    "tags": []
   },
   "source": [
    "### **Utilities and Helpers**"
   ]
  },
  {
   "cell_type": "code",
   "execution_count": 2,
   "id": "519d6685",
   "metadata": {
    "execution": {
     "iopub.execute_input": "2022-06-14T11:03:43.790602Z",
     "iopub.status.busy": "2022-06-14T11:03:43.789612Z",
     "iopub.status.idle": "2022-06-14T11:03:43.802223Z",
     "shell.execute_reply": "2022-06-14T11:03:43.801574Z"
    },
    "papermill": {
     "duration": 0.018545,
     "end_time": "2022-06-14T11:03:43.803750",
     "exception": false,
     "start_time": "2022-06-14T11:03:43.785205",
     "status": "completed"
    },
    "tags": []
   },
   "outputs": [],
   "source": [
    "SEED = 42\n",
    "SIZE = 224\n",
    "le = LabelEncoder()\n",
    "\n",
    "\n",
    "def breaker(num: int=50, char: str=\"*\") -> None:\n",
    "    print(\"\\n\" + num*char + \"\\n\")\n",
    "\n",
    "    \n",
    "def show_loss_graphs(A: list) -> None:\n",
    "    TL, VL = [], []\n",
    "    for i in range(len(L)):\n",
    "        TL.append(L[i][\"train\"])\n",
    "        VL.append(L[i][\"valid\"])\n",
    "    x_Axis = np.arange(1, len(TL) + 1)\n",
    "    plt.figure()\n",
    "    plt.plot(x_Axis, TL, \"r\", label=\"Train\")\n",
    "    plt.plot(x_Axis, VL, \"b\", label=\"Valid\")\n",
    "    plt.legend()\n",
    "    plt.grid()\n",
    "    plt.title(\"Loss Graph\")\n",
    "    plt.show()\n",
    "\n",
    "    \n",
    "def show_accuracy_graphs(A: list) -> None:\n",
    "    TA, VA = [], []\n",
    "    for i in range(len(L)):\n",
    "        TA.append(A[i][\"train\"])\n",
    "        VA.append(A[i][\"valid\"])\n",
    "    x_Axis = np.arange(1, len(TA) + 1)\n",
    "    plt.figure()\n",
    "    plt.plot(x_Axis, TA, \"r\", label=\"Train\")\n",
    "    plt.plot(x_Axis, VA, \"b\", label=\"Valid\")\n",
    "    plt.legend()\n",
    "    plt.grid()\n",
    "    plt.title(\"Accuracy Graph\")\n",
    "    plt.show()\n",
    "\n",
    "\n",
    "def show_lr_graph(LR: list) -> None:\n",
    "    x_Axis = [i+1 for i in range(len(LR))]\n",
    "    plt.figure(figsize=(8, 6))\n",
    "    plt.plot(x_Axis, LR, \"rx\")\n",
    "    plt.grid()\n",
    "    plt.show()"
   ]
  },
  {
   "cell_type": "markdown",
   "id": "a217fae0",
   "metadata": {
    "papermill": {
     "duration": 0.003414,
     "end_time": "2022-06-14T11:03:43.810746",
     "exception": false,
     "start_time": "2022-06-14T11:03:43.807332",
     "status": "completed"
    },
    "tags": []
   },
   "source": [
    "### **Configuration**"
   ]
  },
  {
   "cell_type": "code",
   "execution_count": 3,
   "id": "6fb13828",
   "metadata": {
    "execution": {
     "iopub.execute_input": "2022-06-14T11:03:43.818948Z",
     "iopub.status.busy": "2022-06-14T11:03:43.818667Z",
     "iopub.status.idle": "2022-06-14T11:03:43.879706Z",
     "shell.execute_reply": "2022-06-14T11:03:43.878965Z"
    },
    "papermill": {
     "duration": 0.067097,
     "end_time": "2022-06-14T11:03:43.881372",
     "exception": false,
     "start_time": "2022-06-14T11:03:43.814275",
     "status": "completed"
    },
    "tags": []
   },
   "outputs": [],
   "source": [
    "class CFG(object):\n",
    "    def __init__(self, \n",
    "                 seed: int = 42,\n",
    "                 n_splits: int = 5,\n",
    "                 batch_size: int = 16,\n",
    "                 epochs: int = 25,\n",
    "                 early_stopping: int = 5,\n",
    "                 lr: float = 1e-4,\n",
    "                 wd: float = 0.0,\n",
    "                 max_lr: float = 1e-3,\n",
    "                 pct_start: float = 0.2,\n",
    "                 steps_per_epoch: int = 100,\n",
    "                 div_factor: int = 1e3, \n",
    "                 final_div_factor: float = 1e3,\n",
    "                 ):\n",
    "        \n",
    "        self.seed = seed\n",
    "        self.n_splits = n_splits\n",
    "        self.batch_size = batch_size\n",
    "        self.epochs = epochs\n",
    "        self.early_stopping = early_stopping\n",
    "        self.lr = lr\n",
    "        self.wd = wd\n",
    "        self.max_lr = max_lr\n",
    "        self.pct_start = pct_start\n",
    "        self.steps_per_epoch = steps_per_epoch\n",
    "        self.div_factor = div_factor\n",
    "        self.final_div_factor = final_div_factor\n",
    "        self.device = torch.device(\"cuda\" if torch.cuda.is_available() else \"cpu\")\n",
    "        self.transform = transforms.Compose([transforms.ToTensor(),\n",
    "                                transforms.Normalize([0.485, 0.456, 0.406],\n",
    "                                                     [0.229, 0.224, 0.225]),\n",
    "                                ])\n",
    "        self.save_path = \"saves\"\n",
    "        if not os.path.exists(self.save_path): os.makedirs(self.save_path)\n",
    "    \n",
    "cfg = CFG(seed=SEED)"
   ]
  },
  {
   "cell_type": "markdown",
   "id": "e493307c",
   "metadata": {
    "papermill": {
     "duration": 0.003419,
     "end_time": "2022-06-14T11:03:43.888636",
     "exception": false,
     "start_time": "2022-06-14T11:03:43.885217",
     "status": "completed"
    },
    "tags": []
   },
   "source": [
    "### **Dataset Template**"
   ]
  },
  {
   "cell_type": "code",
   "execution_count": 4,
   "id": "a1690e81",
   "metadata": {
    "execution": {
     "iopub.execute_input": "2022-06-14T11:03:43.897337Z",
     "iopub.status.busy": "2022-06-14T11:03:43.896481Z",
     "iopub.status.idle": "2022-06-14T11:03:43.902947Z",
     "shell.execute_reply": "2022-06-14T11:03:43.902238Z"
    },
    "papermill": {
     "duration": 0.012385,
     "end_time": "2022-06-14T11:03:43.904609",
     "exception": false,
     "start_time": "2022-06-14T11:03:43.892224",
     "status": "completed"
    },
    "tags": []
   },
   "outputs": [],
   "source": [
    "class DS(Dataset):\n",
    "    def __init__(self, images: np.ndarray, labels: np.ndarray = None, transform=None):\n",
    "        self.images = images\n",
    "        self.labels = labels\n",
    "        self.transform = transform\n",
    "    \n",
    "    def __len__(self):\n",
    "        return self.images.shape[0]\n",
    "    \n",
    "    def __getitem__(self, idx):\n",
    "        if self.labels is not None:\n",
    "            return self.transform(self.images[idx]), torch.LongTensor(self.labels[idx])\n",
    "        else:\n",
    "            return self.transform(self.images[idx])"
   ]
  },
  {
   "cell_type": "markdown",
   "id": "74a43997",
   "metadata": {
    "papermill": {
     "duration": 0.003391,
     "end_time": "2022-06-14T11:03:43.911641",
     "exception": false,
     "start_time": "2022-06-14T11:03:43.908250",
     "status": "completed"
    },
    "tags": []
   },
   "source": [
    "### **Model**"
   ]
  },
  {
   "cell_type": "code",
   "execution_count": 5,
   "id": "86bd1e7c",
   "metadata": {
    "execution": {
     "iopub.execute_input": "2022-06-14T11:03:43.920380Z",
     "iopub.status.busy": "2022-06-14T11:03:43.919667Z",
     "iopub.status.idle": "2022-06-14T11:03:43.926115Z",
     "shell.execute_reply": "2022-06-14T11:03:43.925413Z"
    },
    "papermill": {
     "duration": 0.012195,
     "end_time": "2022-06-14T11:03:43.927613",
     "exception": false,
     "start_time": "2022-06-14T11:03:43.915418",
     "status": "completed"
    },
    "tags": []
   },
   "outputs": [],
   "source": [
    "class Model(nn.Module):\n",
    "    def __init__(self):\n",
    "        super(Model, self).__init__()\n",
    "\n",
    "        self.model = models.densenet121(pretrained=True, progress=True)\n",
    "        self.freeze()\n",
    "        self.model.classifier = nn.Linear(in_features=self.model.classifier.in_features, out_features=10)\n",
    "    \n",
    "    def freeze(self):\n",
    "        for params in self.parameters(): params.requires_grad = False\n",
    "\n",
    "    def forward(self, x):\n",
    "        return nn.LogSoftmax(dim=1)(self.model(x))"
   ]
  },
  {
   "cell_type": "markdown",
   "id": "a733e9a9",
   "metadata": {
    "papermill": {
     "duration": 0.00346,
     "end_time": "2022-06-14T11:03:43.934616",
     "exception": false,
     "start_time": "2022-06-14T11:03:43.931156",
     "status": "completed"
    },
    "tags": []
   },
   "source": [
    "### **Fit and Predict Helpers**"
   ]
  },
  {
   "cell_type": "code",
   "execution_count": 6,
   "id": "abac5b97",
   "metadata": {
    "execution": {
     "iopub.execute_input": "2022-06-14T11:03:43.943107Z",
     "iopub.status.busy": "2022-06-14T11:03:43.942858Z",
     "iopub.status.idle": "2022-06-14T11:03:43.967494Z",
     "shell.execute_reply": "2022-06-14T11:03:43.966629Z"
    },
    "papermill": {
     "duration": 0.031205,
     "end_time": "2022-06-14T11:03:43.969377",
     "exception": false,
     "start_time": "2022-06-14T11:03:43.938172",
     "status": "completed"
    },
    "tags": []
   },
   "outputs": [],
   "source": [
    "def fit(model=None, \n",
    "        optimizer=None, \n",
    "        scheduler_rlrop=None,\n",
    "        scheduler_oclr=None,\n",
    "        epochs=None, \n",
    "        early_stopping_patience=None, \n",
    "        dataloaders=None, \n",
    "        fold=None, \n",
    "        save_path=None,\n",
    "        device=None,\n",
    "        verbose=False) -> tuple:\n",
    "    \n",
    "    def get_accuracy(y_pred, y_true):\n",
    "        y_pred = torch.argmax(y_pred, dim=1)\n",
    "        return torch.count_nonzero(y_pred == y_true).item() / len(y_pred)\n",
    "    \n",
    "    if verbose:\n",
    "        breaker()\n",
    "        if fold: print(f\"Training Fold {fold}...\")\n",
    "        else: print(\"Training ...\")\n",
    "        breaker()\n",
    "        \n",
    "    bestLoss, bestAccs = {\"train\" : np.inf, \"valid\" : np.inf}, {\"train\" : 0.0, \"valid\" : 0.0}\n",
    "    Losses, Accuracies, LRs = [], [], []\n",
    "    if fold: name = f\"state_fold_{fold}.pt\"\n",
    "    else: name = \"state.pt\"\n",
    "\n",
    "    start_time = time()\n",
    "    for e in range(epochs):\n",
    "        e_st = time()\n",
    "        epochLoss, epochAccs = {\"train\" : 0.0, \"valid\" : 0.0}, {\"train\" : 0.0, \"valid\" : 0.0}\n",
    "\n",
    "        for phase in [\"train\", \"valid\"]:\n",
    "            if phase == \"train\":\n",
    "                model.train()\n",
    "            else:\n",
    "                model.eval()\n",
    "            \n",
    "            lossPerPass, accsPerPass = [], []\n",
    "\n",
    "            for X, y in dataloaders[phase]:\n",
    "                X, y = X.to(device), y.to(device).view(-1)\n",
    "\n",
    "                optimizer.zero_grad()\n",
    "                with torch.set_grad_enabled(phase == \"train\"):\n",
    "                    output = model(X)\n",
    "                    loss = torch.nn.NLLLoss()(output, y)\n",
    "                    if phase == \"train\":\n",
    "                        loss.backward()\n",
    "                        optimizer.step()\n",
    "                        if scheduler_oclr: scheduler_oclr.step()\n",
    "                lossPerPass.append(loss.item())\n",
    "                accsPerPass.append(get_accuracy(output, y))\n",
    "            epochLoss[phase] = np.mean(np.array(lossPerPass))\n",
    "            epochAccs[phase] = np.mean(np.array(accsPerPass))\n",
    "        if scheduler_oclr: LRs.append(scheduler_oclr.get_last_lr())\n",
    "        Losses.append(epochLoss)\n",
    "        Accuracies.append(epochAccs)\n",
    "        \n",
    "        if scheduler_oclr:\n",
    "            save_dict = {\"model_state_dict\"     : model.state_dict(),\n",
    "                         \"optim_state_dict\"     : optimizer.state_dict(),\n",
    "                         \"scheduler_state_dict\" : scheduler_oclr.state_dict()}\n",
    "        \n",
    "        elif scheduler_rlrop:\n",
    "            save_dict = {\"model_state_dict\"     : model.state_dict(),\n",
    "                         \"optim_state_dict\"     : optimizer.state_dict(),\n",
    "                         \"scheduler_state_dict\" : scheduler_rlrop.state_dict()}\n",
    "        \n",
    "        else:\n",
    "            save_dict = {\"model_state_dict\"     : model.state_dict(),\n",
    "                         \"optim_state_dict\"     : optimizer.state_dict()}\n",
    "        \n",
    "        if early_stopping_patience:\n",
    "            if epochLoss[\"valid\"] < bestLoss[\"valid\"]:\n",
    "                bestLoss = epochLoss\n",
    "                BLE = e + 1\n",
    "                torch.save(save_dict, os.path.join(save_path, name))\n",
    "                early_stopping_step = 0\n",
    "            else:\n",
    "                early_stopping_step += 1\n",
    "                if early_stopping_step > early_stopping_patience:\n",
    "                    print(\"\\nEarly Stopping at Epoch {}\".format(e + 1))\n",
    "                    break\n",
    "        \n",
    "        if epochLoss[\"valid\"] < bestLoss[\"valid\"]:\n",
    "            bestLoss = epochLoss\n",
    "            BLE = e + 1\n",
    "            torch.save(save_dict,os.path.join(save_path, name))\n",
    "        \n",
    "        if epochAccs[\"valid\"] > bestAccs[\"valid\"]:\n",
    "            bestAccs = epochAccs\n",
    "            BAE = e + 1\n",
    "        \n",
    "        if scheduler_rlrop: scheduler_rlrop.step(epochLoss[\"valid\"])\n",
    "        \n",
    "        if verbose:\n",
    "            print(\"Epoch: {} | Train Loss: {:.5f} | Valid Loss: {:.5f} |\\\n",
    "Train Accs: {:.5f} | Valid Accs: {:.5f} | Time: {:.2f} seconds\".format(e+1, \n",
    "                                                                       epochLoss[\"train\"], epochLoss[\"valid\"], \n",
    "                                                                       epochAccs[\"train\"], epochAccs[\"valid\"], \n",
    "                                                                       time()-e_st))\n",
    "\n",
    "    if verbose:                                           \n",
    "        breaker()\n",
    "        print(f\"Best Validation Loss at Epoch {BLE}\")\n",
    "        breaker()\n",
    "        print(f\"Best Validation Accs at Epoch {BAE}\")\n",
    "        breaker()\n",
    "        print(\"Time Taken [{} Epochs] : {:.2f} minutes\".format(len(Losses), (time()-start_time)/60))\n",
    "    \n",
    "    return Losses, Accuracies, LRs, BLE, BAE, name\n",
    "\n",
    "\n",
    "def predict_batch(model=None, dataloader=None, path=None, device=None) -> np.ndarray:\n",
    "    model.load_state_dict(torch.load(path, map_location=device)[\"model_state_dict\"])\n",
    "    model.to(device)    \n",
    "    model.eval()\n",
    "    \n",
    "    y_pred = torch.zeros(1, 1).to(device)\n",
    "    \n",
    "    for X in dataloader:\n",
    "        X = X.to(device)\n",
    "        with torch.no_grad():\n",
    "            output = torch.argmax(torch.exp(model(X)), dim=1)\n",
    "        y_pred = torch.cat((y_pred, output.view(-1, 1)), dim=0)\n",
    "    \n",
    "    return y_pred[1:].detach().cpu().numpy()"
   ]
  },
  {
   "cell_type": "markdown",
   "id": "275cc968",
   "metadata": {
    "papermill": {
     "duration": 0.003403,
     "end_time": "2022-06-14T11:03:43.976327",
     "exception": false,
     "start_time": "2022-06-14T11:03:43.972924",
     "status": "completed"
    },
    "tags": []
   },
   "source": [
    "### **Train**"
   ]
  },
  {
   "cell_type": "code",
   "execution_count": 7,
   "id": "f946d3e2",
   "metadata": {
    "execution": {
     "iopub.execute_input": "2022-06-14T11:03:43.984541Z",
     "iopub.status.busy": "2022-06-14T11:03:43.984294Z",
     "iopub.status.idle": "2022-06-14T11:03:57.531723Z",
     "shell.execute_reply": "2022-06-14T11:03:57.530979Z"
    },
    "papermill": {
     "duration": 13.553652,
     "end_time": "2022-06-14T11:03:57.533770",
     "exception": false,
     "start_time": "2022-06-14T11:03:43.980118",
     "status": "completed"
    },
    "tags": []
   },
   "outputs": [],
   "source": [
    "images = np.load(f\"../input/pdc-images-{SIZE}/images-{SIZE}.npy\")\n",
    "df = pd.read_csv(\"../input/paddy-disease-classification/train.csv\")\n",
    "labels = df.label.copy().values\n",
    "labels = le.fit_transform(labels)"
   ]
  },
  {
   "cell_type": "code",
   "execution_count": 8,
   "id": "ec6d9268",
   "metadata": {
    "execution": {
     "iopub.execute_input": "2022-06-14T11:03:57.542491Z",
     "iopub.status.busy": "2022-06-14T11:03:57.542206Z",
     "iopub.status.idle": "2022-06-14T12:21:02.739781Z",
     "shell.execute_reply": "2022-06-14T12:21:02.738510Z"
    },
    "papermill": {
     "duration": 4625.203707,
     "end_time": "2022-06-14T12:21:02.741454",
     "exception": false,
     "start_time": "2022-06-14T11:03:57.537747",
     "status": "completed"
    },
    "tags": []
   },
   "outputs": [
    {
     "name": "stderr",
     "output_type": "stream",
     "text": [
      "Downloading: \"https://download.pytorch.org/models/densenet121-a639ec97.pth\" to /root/.cache/torch/hub/checkpoints/densenet121-a639ec97.pth\n"
     ]
    },
    {
     "data": {
      "application/vnd.jupyter.widget-view+json": {
       "model_id": "613f2253cb69449893457941e9ae09a1",
       "version_major": 2,
       "version_minor": 0
      },
      "text/plain": [
       "  0%|          | 0.00/30.8M [00:00<?, ?B/s]"
      ]
     },
     "metadata": {},
     "output_type": "display_data"
    },
    {
     "name": "stdout",
     "output_type": "stream",
     "text": [
      "\n",
      "**************************************************\n",
      "\n",
      "Training ...\n",
      "\n",
      "**************************************************\n",
      "\n",
      "Epoch: 1 | Train Loss: 2.31939 | Valid Loss: 2.29377 |Train Accs: 0.12380 | Valid Accs: 0.12643 | Time: 33.80 seconds\n",
      "Epoch: 2 | Train Loss: 2.26597 | Valid Loss: 2.24665 |Train Accs: 0.14815 | Valid Accs: 0.14790 | Time: 27.79 seconds\n",
      "Epoch: 3 | Train Loss: 2.21812 | Valid Loss: 2.20976 |Train Accs: 0.16831 | Valid Accs: 0.16078 | Time: 27.73 seconds\n",
      "Epoch: 4 | Train Loss: 2.17970 | Valid Loss: 2.17055 |Train Accs: 0.18479 | Valid Accs: 0.18941 | Time: 27.66 seconds\n",
      "Epoch: 5 | Train Loss: 2.15455 | Valid Loss: 2.15001 |Train Accs: 0.19578 | Valid Accs: 0.20563 | Time: 27.89 seconds\n",
      "Epoch: 6 | Train Loss: 2.13207 | Valid Loss: 2.12133 |Train Accs: 0.21857 | Valid Accs: 0.22233 | Time: 27.77 seconds\n",
      "Epoch: 7 | Train Loss: 2.09822 | Valid Loss: 2.08182 |Train Accs: 0.24909 | Valid Accs: 0.24952 | Time: 28.14 seconds\n",
      "Epoch: 8 | Train Loss: 2.05615 | Valid Loss: 2.04024 |Train Accs: 0.27956 | Valid Accs: 0.28817 | Time: 27.91 seconds\n",
      "Epoch: 9 | Train Loss: 2.01179 | Valid Loss: 1.98745 |Train Accs: 0.31699 | Valid Accs: 0.31632 | Time: 27.91 seconds\n",
      "Epoch: 10 | Train Loss: 1.95716 | Valid Loss: 1.93445 |Train Accs: 0.34568 | Valid Accs: 0.34017 | Time: 27.72 seconds\n",
      "Epoch: 11 | Train Loss: 1.90106 | Valid Loss: 1.88116 |Train Accs: 0.37224 | Valid Accs: 0.37357 | Time: 27.99 seconds\n",
      "Epoch: 12 | Train Loss: 1.84688 | Valid Loss: 1.81251 |Train Accs: 0.39131 | Valid Accs: 0.39885 | Time: 27.73 seconds\n",
      "Epoch: 13 | Train Loss: 1.78723 | Valid Loss: 1.75920 |Train Accs: 0.41699 | Valid Accs: 0.41174 | Time: 27.86 seconds\n",
      "Epoch: 14 | Train Loss: 1.73229 | Valid Loss: 1.70517 |Train Accs: 0.43417 | Valid Accs: 0.44800 | Time: 27.73 seconds\n",
      "Epoch: 15 | Train Loss: 1.67043 | Valid Loss: 1.64882 |Train Accs: 0.45636 | Valid Accs: 0.46088 | Time: 27.84 seconds\n",
      "Epoch: 16 | Train Loss: 1.62393 | Valid Loss: 1.59880 |Train Accs: 0.47116 | Valid Accs: 0.48473 | Time: 27.99 seconds\n",
      "Epoch: 17 | Train Loss: 1.57064 | Valid Loss: 1.54925 |Train Accs: 0.49357 | Valid Accs: 0.49380 | Time: 27.63 seconds\n",
      "Epoch: 18 | Train Loss: 1.52297 | Valid Loss: 1.50263 |Train Accs: 0.51003 | Valid Accs: 0.51050 | Time: 27.66 seconds\n",
      "Epoch: 19 | Train Loss: 1.47081 | Valid Loss: 1.45411 |Train Accs: 0.52546 | Valid Accs: 0.52767 | Time: 27.94 seconds\n",
      "Epoch: 20 | Train Loss: 1.44398 | Valid Loss: 1.42178 |Train Accs: 0.53901 | Valid Accs: 0.54532 | Time: 27.97 seconds\n",
      "Epoch: 21 | Train Loss: 1.38728 | Valid Loss: 1.38264 |Train Accs: 0.55398 | Valid Accs: 0.55630 | Time: 27.79 seconds\n",
      "Epoch: 22 | Train Loss: 1.35522 | Valid Loss: 1.33293 |Train Accs: 0.56125 | Valid Accs: 0.56584 | Time: 28.03 seconds\n",
      "Epoch: 23 | Train Loss: 1.32056 | Valid Loss: 1.29823 |Train Accs: 0.57673 | Valid Accs: 0.57777 | Time: 27.67 seconds\n",
      "Epoch: 24 | Train Loss: 1.28674 | Valid Loss: 1.27623 |Train Accs: 0.59103 | Valid Accs: 0.59494 | Time: 27.67 seconds\n",
      "Epoch: 25 | Train Loss: 1.25372 | Valid Loss: 1.23628 |Train Accs: 0.59849 | Valid Accs: 0.59781 | Time: 27.89 seconds\n",
      "Epoch: 26 | Train Loss: 1.21938 | Valid Loss: 1.20468 |Train Accs: 0.61317 | Valid Accs: 0.62214 | Time: 27.73 seconds\n",
      "Epoch: 27 | Train Loss: 1.19126 | Valid Loss: 1.19607 |Train Accs: 0.62128 | Valid Accs: 0.61832 | Time: 27.60 seconds\n",
      "Epoch: 28 | Train Loss: 1.17551 | Valid Loss: 1.17942 |Train Accs: 0.62179 | Valid Accs: 0.62882 | Time: 27.73 seconds\n",
      "Epoch: 29 | Train Loss: 1.14688 | Valid Loss: 1.13183 |Train Accs: 0.63637 | Valid Accs: 0.64599 | Time: 27.75 seconds\n",
      "Epoch: 30 | Train Loss: 1.12152 | Valid Loss: 1.13078 |Train Accs: 0.63932 | Valid Accs: 0.62548 | Time: 27.75 seconds\n",
      "Epoch: 31 | Train Loss: 1.10395 | Valid Loss: 1.10905 |Train Accs: 0.64585 | Valid Accs: 0.64170 | Time: 27.76 seconds\n",
      "Epoch: 32 | Train Loss: 1.07724 | Valid Loss: 1.09047 |Train Accs: 0.65710 | Valid Accs: 0.65553 | Time: 27.68 seconds\n",
      "Epoch: 33 | Train Loss: 1.06255 | Valid Loss: 1.07676 |Train Accs: 0.65917 | Valid Accs: 0.65076 | Time: 28.03 seconds\n",
      "Epoch: 34 | Train Loss: 1.03868 | Valid Loss: 1.06584 |Train Accs: 0.66900 | Valid Accs: 0.65649 | Time: 27.92 seconds\n",
      "Epoch: 35 | Train Loss: 1.03283 | Valid Loss: 1.06470 |Train Accs: 0.66727 | Valid Accs: 0.65410 | Time: 27.69 seconds\n",
      "Epoch: 36 | Train Loss: 1.02161 | Valid Loss: 1.03947 |Train Accs: 0.67087 | Valid Accs: 0.66889 | Time: 27.80 seconds\n",
      "Epoch: 37 | Train Loss: 1.01361 | Valid Loss: 1.02865 |Train Accs: 0.66773 | Valid Accs: 0.67080 | Time: 27.61 seconds\n",
      "Epoch: 38 | Train Loss: 0.98595 | Valid Loss: 1.01818 |Train Accs: 0.67929 | Valid Accs: 0.66651 | Time: 27.51 seconds\n",
      "Epoch: 39 | Train Loss: 0.97518 | Valid Loss: 1.02273 |Train Accs: 0.68268 | Valid Accs: 0.67557 | Time: 28.15 seconds\n",
      "Epoch: 40 | Train Loss: 0.96157 | Valid Loss: 0.99519 |Train Accs: 0.68961 | Valid Accs: 0.67557 | Time: 28.83 seconds\n",
      "Epoch: 41 | Train Loss: 0.95915 | Valid Loss: 1.00399 |Train Accs: 0.68719 | Valid Accs: 0.66794 | Time: 28.54 seconds\n",
      "Epoch: 42 | Train Loss: 0.94745 | Valid Loss: 0.98178 |Train Accs: 0.68700 | Valid Accs: 0.68464 | Time: 28.75 seconds\n",
      "Epoch: 43 | Train Loss: 0.92923 | Valid Loss: 0.98811 |Train Accs: 0.69513 | Valid Accs: 0.67414 | Time: 27.74 seconds\n",
      "Epoch: 44 | Train Loss: 0.92385 | Valid Loss: 0.96274 |Train Accs: 0.69779 | Valid Accs: 0.68177 | Time: 27.61 seconds\n",
      "Epoch: 45 | Train Loss: 0.91760 | Valid Loss: 0.98652 |Train Accs: 0.69690 | Valid Accs: 0.67748 | Time: 27.50 seconds\n",
      "Epoch: 46 | Train Loss: 0.91642 | Valid Loss: 0.95673 |Train Accs: 0.69698 | Valid Accs: 0.69132 | Time: 27.73 seconds\n",
      "Epoch: 47 | Train Loss: 0.90921 | Valid Loss: 0.96689 |Train Accs: 0.69376 | Valid Accs: 0.69132 | Time: 27.77 seconds\n",
      "Epoch: 48 | Train Loss: 0.89341 | Valid Loss: 0.95725 |Train Accs: 0.70182 | Valid Accs: 0.68941 | Time: 28.15 seconds\n",
      "Epoch: 49 | Train Loss: 0.89621 | Valid Loss: 0.97477 |Train Accs: 0.70360 | Valid Accs: 0.67939 | Time: 28.04 seconds\n",
      "Epoch: 50 | Train Loss: 0.88520 | Valid Loss: 0.96524 |Train Accs: 0.71190 | Valid Accs: 0.68464 | Time: 27.77 seconds\n",
      "Epoch: 51 | Train Loss: 0.88026 | Valid Loss: 0.93770 |Train Accs: 0.70665 | Valid Accs: 0.69275 | Time: 27.81 seconds\n",
      "Epoch: 52 | Train Loss: 0.86627 | Valid Loss: 0.95741 |Train Accs: 0.71677 | Valid Accs: 0.68273 | Time: 27.63 seconds\n",
      "Epoch: 53 | Train Loss: 0.88108 | Valid Loss: 0.92542 |Train Accs: 0.70521 | Valid Accs: 0.69323 | Time: 27.90 seconds\n",
      "Epoch: 54 | Train Loss: 0.86317 | Valid Loss: 0.94799 |Train Accs: 0.70883 | Valid Accs: 0.68989 | Time: 27.98 seconds\n",
      "Epoch: 55 | Train Loss: 0.85396 | Valid Loss: 0.94223 |Train Accs: 0.72044 | Valid Accs: 0.68893 | Time: 27.78 seconds\n",
      "Epoch: 56 | Train Loss: 0.85537 | Valid Loss: 0.96502 |Train Accs: 0.71723 | Valid Accs: 0.67271 | Time: 27.60 seconds\n",
      "Epoch: 57 | Train Loss: 0.85933 | Valid Loss: 0.94348 |Train Accs: 0.71504 | Valid Accs: 0.68845 | Time: 27.63 seconds\n",
      "Epoch: 58 | Train Loss: 0.84479 | Valid Loss: 0.97200 |Train Accs: 0.71960 | Valid Accs: 0.68130 | Time: 27.73 seconds\n",
      "Epoch: 59 | Train Loss: 0.84064 | Valid Loss: 0.93659 |Train Accs: 0.71531 | Valid Accs: 0.69132 | Time: 27.41 seconds\n",
      "Epoch: 60 | Train Loss: 0.84541 | Valid Loss: 0.93481 |Train Accs: 0.71682 | Valid Accs: 0.68702 | Time: 28.24 seconds\n",
      "Epoch: 61 | Train Loss: 0.83436 | Valid Loss: 0.93558 |Train Accs: 0.71720 | Valid Accs: 0.69466 | Time: 28.01 seconds\n",
      "Epoch: 62 | Train Loss: 0.82885 | Valid Loss: 0.97063 |Train Accs: 0.72126 | Valid Accs: 0.67653 | Time: 28.85 seconds\n",
      "Epoch: 63 | Train Loss: 0.83055 | Valid Loss: 0.94177 |Train Accs: 0.71600 | Valid Accs: 0.69036 | Time: 28.95 seconds\n",
      "Epoch: 64 | Train Loss: 0.84254 | Valid Loss: 0.94683 |Train Accs: 0.71384 | Valid Accs: 0.68702 | Time: 28.98 seconds\n",
      "Epoch: 65 | Train Loss: 0.83024 | Valid Loss: 0.94074 |Train Accs: 0.71636 | Valid Accs: 0.69179 | Time: 29.10 seconds\n",
      "Epoch: 66 | Train Loss: 0.81836 | Valid Loss: 0.93291 |Train Accs: 0.72087 | Valid Accs: 0.68607 | Time: 28.24 seconds\n",
      "Epoch: 67 | Train Loss: 0.83285 | Valid Loss: 0.94295 |Train Accs: 0.71826 | Valid Accs: 0.68750 | Time: 27.92 seconds\n",
      "Epoch: 68 | Train Loss: 0.83675 | Valid Loss: 0.95807 |Train Accs: 0.71238 | Valid Accs: 0.68416 | Time: 28.08 seconds\n",
      "Epoch: 69 | Train Loss: 0.83031 | Valid Loss: 0.92767 |Train Accs: 0.71850 | Valid Accs: 0.69513 | Time: 28.90 seconds\n",
      "Epoch: 70 | Train Loss: 0.82122 | Valid Loss: 0.94391 |Train Accs: 0.71771 | Valid Accs: 0.69323 | Time: 28.56 seconds\n",
      "Epoch: 71 | Train Loss: 0.82169 | Valid Loss: 0.95349 |Train Accs: 0.72253 | Valid Accs: 0.69418 | Time: 28.37 seconds\n",
      "Epoch: 72 | Train Loss: 0.82733 | Valid Loss: 0.95424 |Train Accs: 0.72224 | Valid Accs: 0.67939 | Time: 28.55 seconds\n",
      "Epoch: 73 | Train Loss: 0.81399 | Valid Loss: 0.92021 |Train Accs: 0.71960 | Valid Accs: 0.71040 | Time: 28.59 seconds\n",
      "Epoch: 74 | Train Loss: 0.81754 | Valid Loss: 0.91219 |Train Accs: 0.72613 | Valid Accs: 0.70086 | Time: 28.51 seconds\n",
      "Epoch: 75 | Train Loss: 0.80464 | Valid Loss: 0.95367 |Train Accs: 0.72937 | Valid Accs: 0.69323 | Time: 28.33 seconds\n",
      "Epoch: 76 | Train Loss: 0.81643 | Valid Loss: 0.92252 |Train Accs: 0.71886 | Valid Accs: 0.69132 | Time: 28.59 seconds\n",
      "Epoch: 77 | Train Loss: 0.81460 | Valid Loss: 0.90717 |Train Accs: 0.72143 | Valid Accs: 0.70611 | Time: 28.59 seconds\n",
      "Epoch: 78 | Train Loss: 0.82015 | Valid Loss: 0.97342 |Train Accs: 0.71708 | Valid Accs: 0.68511 | Time: 28.36 seconds\n",
      "Epoch: 79 | Train Loss: 0.80895 | Valid Loss: 0.94915 |Train Accs: 0.72553 | Valid Accs: 0.69704 | Time: 28.62 seconds\n",
      "Epoch: 80 | Train Loss: 0.80104 | Valid Loss: 0.94893 |Train Accs: 0.73088 | Valid Accs: 0.69179 | Time: 28.49 seconds\n",
      "Epoch: 81 | Train Loss: 0.79186 | Valid Loss: 0.93162 |Train Accs: 0.73057 | Valid Accs: 0.69656 | Time: 28.28 seconds\n",
      "Epoch: 82 | Train Loss: 0.81471 | Valid Loss: 0.93670 |Train Accs: 0.72687 | Valid Accs: 0.69943 | Time: 28.37 seconds\n",
      "Epoch: 83 | Train Loss: 0.80147 | Valid Loss: 0.93840 |Train Accs: 0.72488 | Valid Accs: 0.70086 | Time: 28.49 seconds\n",
      "Epoch: 84 | Train Loss: 0.80217 | Valid Loss: 0.99089 |Train Accs: 0.72733 | Valid Accs: 0.68321 | Time: 28.47 seconds\n",
      "Epoch: 85 | Train Loss: 0.80251 | Valid Loss: 0.94837 |Train Accs: 0.72821 | Valid Accs: 0.69036 | Time: 28.48 seconds\n",
      "Epoch: 86 | Train Loss: 0.80622 | Valid Loss: 0.96035 |Train Accs: 0.72586 | Valid Accs: 0.68702 | Time: 28.61 seconds\n",
      "Epoch: 87 | Train Loss: 0.80483 | Valid Loss: 0.98030 |Train Accs: 0.72694 | Valid Accs: 0.68559 | Time: 28.30 seconds\n",
      "Epoch: 88 | Train Loss: 0.79731 | Valid Loss: 0.98245 |Train Accs: 0.73109 | Valid Accs: 0.67748 | Time: 28.62 seconds\n",
      "Epoch: 89 | Train Loss: 0.80187 | Valid Loss: 0.93619 |Train Accs: 0.72318 | Valid Accs: 0.70181 | Time: 28.57 seconds\n",
      "Epoch: 90 | Train Loss: 0.79477 | Valid Loss: 0.94513 |Train Accs: 0.72466 | Valid Accs: 0.69513 | Time: 28.92 seconds\n",
      "Epoch: 91 | Train Loss: 0.77780 | Valid Loss: 0.92123 |Train Accs: 0.73450 | Valid Accs: 0.71088 | Time: 28.59 seconds\n",
      "Epoch: 92 | Train Loss: 0.80115 | Valid Loss: 0.94649 |Train Accs: 0.72668 | Valid Accs: 0.69561 | Time: 29.08 seconds\n",
      "Epoch: 93 | Train Loss: 0.79694 | Valid Loss: 0.95188 |Train Accs: 0.72733 | Valid Accs: 0.69609 | Time: 29.22 seconds\n",
      "Epoch: 94 | Train Loss: 0.79870 | Valid Loss: 0.94787 |Train Accs: 0.72704 | Valid Accs: 0.70086 | Time: 29.01 seconds\n",
      "Epoch: 95 | Train Loss: 0.79351 | Valid Loss: 0.96918 |Train Accs: 0.72927 | Valid Accs: 0.68559 | Time: 28.74 seconds\n",
      "Epoch: 96 | Train Loss: 0.79044 | Valid Loss: 0.92745 |Train Accs: 0.73560 | Valid Accs: 0.69990 | Time: 28.70 seconds\n",
      "Epoch: 97 | Train Loss: 0.79440 | Valid Loss: 0.95036 |Train Accs: 0.72893 | Valid Accs: 0.70038 | Time: 28.71 seconds\n",
      "Epoch: 98 | Train Loss: 0.80183 | Valid Loss: 0.96461 |Train Accs: 0.72522 | Valid Accs: 0.69179 | Time: 28.36 seconds\n",
      "Epoch: 99 | Train Loss: 0.77713 | Valid Loss: 0.90664 |Train Accs: 0.73798 | Valid Accs: 0.70611 | Time: 28.69 seconds\n",
      "Epoch: 100 | Train Loss: 0.78837 | Valid Loss: 0.90527 |Train Accs: 0.72814 | Valid Accs: 0.71040 | Time: 28.76 seconds\n",
      "Epoch: 101 | Train Loss: 0.77879 | Valid Loss: 0.92679 |Train Accs: 0.72862 | Valid Accs: 0.70372 | Time: 28.65 seconds\n",
      "Epoch: 102 | Train Loss: 0.79252 | Valid Loss: 0.91473 |Train Accs: 0.72968 | Valid Accs: 0.70658 | Time: 28.65 seconds\n",
      "Epoch: 103 | Train Loss: 0.77385 | Valid Loss: 0.91902 |Train Accs: 0.73676 | Valid Accs: 0.70086 | Time: 28.68 seconds\n",
      "Epoch: 104 | Train Loss: 0.78540 | Valid Loss: 0.96015 |Train Accs: 0.73357 | Valid Accs: 0.69847 | Time: 28.49 seconds\n",
      "Epoch: 105 | Train Loss: 0.79151 | Valid Loss: 0.91342 |Train Accs: 0.73181 | Valid Accs: 0.70134 | Time: 28.66 seconds\n",
      "Epoch: 106 | Train Loss: 0.78628 | Valid Loss: 0.94855 |Train Accs: 0.73153 | Valid Accs: 0.69513 | Time: 28.65 seconds\n",
      "Epoch: 107 | Train Loss: 0.79471 | Valid Loss: 0.97922 |Train Accs: 0.73654 | Valid Accs: 0.69323 | Time: 28.71 seconds\n",
      "Epoch: 108 | Train Loss: 0.79024 | Valid Loss: 0.91837 |Train Accs: 0.72857 | Valid Accs: 0.70992 | Time: 28.84 seconds\n",
      "Epoch: 109 | Train Loss: 0.78720 | Valid Loss: 0.95483 |Train Accs: 0.72637 | Valid Accs: 0.69990 | Time: 28.53 seconds\n",
      "Epoch: 110 | Train Loss: 0.77385 | Valid Loss: 0.93228 |Train Accs: 0.73517 | Valid Accs: 0.69752 | Time: 28.76 seconds\n",
      "Epoch: 111 | Train Loss: 0.78747 | Valid Loss: 0.93537 |Train Accs: 0.73198 | Valid Accs: 0.70181 | Time: 28.42 seconds\n",
      "Epoch: 112 | Train Loss: 0.77472 | Valid Loss: 0.90322 |Train Accs: 0.73277 | Valid Accs: 0.71422 | Time: 29.02 seconds\n",
      "Epoch: 113 | Train Loss: 0.76529 | Valid Loss: 0.94972 |Train Accs: 0.73954 | Valid Accs: 0.69370 | Time: 29.20 seconds\n",
      "Epoch: 114 | Train Loss: 0.79174 | Valid Loss: 0.94540 |Train Accs: 0.72435 | Valid Accs: 0.69847 | Time: 28.62 seconds\n",
      "Epoch: 115 | Train Loss: 0.76519 | Valid Loss: 0.98537 |Train Accs: 0.73877 | Valid Accs: 0.68273 | Time: 28.71 seconds\n",
      "Epoch: 116 | Train Loss: 0.77488 | Valid Loss: 0.95092 |Train Accs: 0.73172 | Valid Accs: 0.69609 | Time: 28.59 seconds\n",
      "Epoch: 117 | Train Loss: 0.77566 | Valid Loss: 0.92025 |Train Accs: 0.73196 | Valid Accs: 0.71088 | Time: 28.56 seconds\n",
      "Epoch: 118 | Train Loss: 0.77474 | Valid Loss: 0.91291 |Train Accs: 0.72711 | Valid Accs: 0.70515 | Time: 28.44 seconds\n",
      "Epoch: 119 | Train Loss: 0.77895 | Valid Loss: 1.00349 |Train Accs: 0.73376 | Valid Accs: 0.69752 | Time: 28.73 seconds\n",
      "Epoch: 120 | Train Loss: 0.76931 | Valid Loss: 0.94002 |Train Accs: 0.73628 | Valid Accs: 0.70945 | Time: 28.58 seconds\n",
      "Epoch: 121 | Train Loss: 0.77935 | Valid Loss: 0.93231 |Train Accs: 0.72845 | Valid Accs: 0.70324 | Time: 28.14 seconds\n",
      "Epoch: 122 | Train Loss: 0.77156 | Valid Loss: 0.97396 |Train Accs: 0.73589 | Valid Accs: 0.69323 | Time: 28.47 seconds\n",
      "Epoch: 123 | Train Loss: 0.77721 | Valid Loss: 0.94648 |Train Accs: 0.73318 | Valid Accs: 0.70038 | Time: 28.30 seconds\n",
      "Epoch: 124 | Train Loss: 0.76359 | Valid Loss: 0.95905 |Train Accs: 0.74256 | Valid Accs: 0.69752 | Time: 28.35 seconds\n",
      "Epoch: 125 | Train Loss: 0.77510 | Valid Loss: 0.95035 |Train Accs: 0.73868 | Valid Accs: 0.69752 | Time: 28.57 seconds\n",
      "Epoch: 126 | Train Loss: 0.76875 | Valid Loss: 0.91918 |Train Accs: 0.73736 | Valid Accs: 0.71040 | Time: 28.40 seconds\n",
      "Epoch: 127 | Train Loss: 0.76472 | Valid Loss: 0.97566 |Train Accs: 0.73844 | Valid Accs: 0.69656 | Time: 28.40 seconds\n",
      "Epoch: 128 | Train Loss: 0.76660 | Valid Loss: 0.94178 |Train Accs: 0.73608 | Valid Accs: 0.70849 | Time: 28.42 seconds\n",
      "Epoch: 129 | Train Loss: 0.76015 | Valid Loss: 0.91620 |Train Accs: 0.73832 | Valid Accs: 0.70468 | Time: 29.40 seconds\n",
      "Epoch: 130 | Train Loss: 0.75629 | Valid Loss: 1.02081 |Train Accs: 0.74484 | Valid Accs: 0.68750 | Time: 29.35 seconds\n",
      "Epoch: 131 | Train Loss: 0.75887 | Valid Loss: 0.91294 |Train Accs: 0.74203 | Valid Accs: 0.70992 | Time: 29.26 seconds\n",
      "Epoch: 132 | Train Loss: 0.74900 | Valid Loss: 0.96073 |Train Accs: 0.74242 | Valid Accs: 0.69609 | Time: 29.16 seconds\n",
      "Epoch: 133 | Train Loss: 0.75534 | Valid Loss: 0.96552 |Train Accs: 0.74201 | Valid Accs: 0.70277 | Time: 28.57 seconds\n",
      "Epoch: 134 | Train Loss: 0.78255 | Valid Loss: 0.94288 |Train Accs: 0.72884 | Valid Accs: 0.69847 | Time: 28.37 seconds\n",
      "Epoch: 135 | Train Loss: 0.77031 | Valid Loss: 0.98236 |Train Accs: 0.73481 | Valid Accs: 0.69513 | Time: 28.50 seconds\n",
      "Epoch: 136 | Train Loss: 0.78434 | Valid Loss: 0.94107 |Train Accs: 0.72514 | Valid Accs: 0.69800 | Time: 28.53 seconds\n",
      "Epoch: 137 | Train Loss: 0.75289 | Valid Loss: 0.94883 |Train Accs: 0.74599 | Valid Accs: 0.69847 | Time: 28.35 seconds\n",
      "Epoch: 138 | Train Loss: 0.77080 | Valid Loss: 0.92969 |Train Accs: 0.73486 | Valid Accs: 0.70849 | Time: 28.38 seconds\n",
      "Epoch: 139 | Train Loss: 0.77925 | Valid Loss: 0.99853 |Train Accs: 0.73373 | Valid Accs: 0.67987 | Time: 28.32 seconds\n",
      "Epoch: 140 | Train Loss: 0.77752 | Valid Loss: 0.91385 |Train Accs: 0.73256 | Valid Accs: 0.71135 | Time: 28.40 seconds\n",
      "Epoch: 141 | Train Loss: 0.76653 | Valid Loss: 0.97242 |Train Accs: 0.73287 | Valid Accs: 0.69418 | Time: 28.16 seconds\n",
      "Epoch: 142 | Train Loss: 0.76901 | Valid Loss: 0.91912 |Train Accs: 0.73808 | Valid Accs: 0.71279 | Time: 28.33 seconds\n",
      "Epoch: 143 | Train Loss: 0.75586 | Valid Loss: 0.99253 |Train Accs: 0.73467 | Valid Accs: 0.68416 | Time: 28.34 seconds\n",
      "Epoch: 144 | Train Loss: 0.77565 | Valid Loss: 0.95275 |Train Accs: 0.73333 | Valid Accs: 0.70229 | Time: 28.31 seconds\n",
      "Epoch: 145 | Train Loss: 0.76732 | Valid Loss: 0.97112 |Train Accs: 0.73484 | Valid Accs: 0.69132 | Time: 28.32 seconds\n",
      "Epoch: 146 | Train Loss: 0.76429 | Valid Loss: 0.90954 |Train Accs: 0.73613 | Valid Accs: 0.71517 | Time: 28.26 seconds\n",
      "Epoch: 147 | Train Loss: 0.76351 | Valid Loss: 0.94403 |Train Accs: 0.74036 | Valid Accs: 0.69943 | Time: 28.50 seconds\n",
      "Epoch: 148 | Train Loss: 0.75600 | Valid Loss: 0.93601 |Train Accs: 0.74215 | Valid Accs: 0.70229 | Time: 28.03 seconds\n",
      "Epoch: 149 | Train Loss: 0.77694 | Valid Loss: 0.93339 |Train Accs: 0.73736 | Valid Accs: 0.70706 | Time: 28.46 seconds\n",
      "Epoch: 150 | Train Loss: 0.77161 | Valid Loss: 0.93669 |Train Accs: 0.73623 | Valid Accs: 0.70038 | Time: 28.34 seconds\n",
      "Epoch: 151 | Train Loss: 0.74761 | Valid Loss: 0.95364 |Train Accs: 0.74268 | Valid Accs: 0.69990 | Time: 28.59 seconds\n",
      "Epoch: 152 | Train Loss: 0.76448 | Valid Loss: 0.96525 |Train Accs: 0.73743 | Valid Accs: 0.70229 | Time: 28.30 seconds\n",
      "Epoch: 153 | Train Loss: 0.74907 | Valid Loss: 0.92360 |Train Accs: 0.73536 | Valid Accs: 0.71947 | Time: 28.29 seconds\n",
      "Epoch: 154 | Train Loss: 0.75829 | Valid Loss: 0.92085 |Train Accs: 0.73916 | Valid Accs: 0.71374 | Time: 28.39 seconds\n",
      "Epoch: 155 | Train Loss: 0.77233 | Valid Loss: 0.95755 |Train Accs: 0.73625 | Valid Accs: 0.70229 | Time: 28.25 seconds\n",
      "Epoch: 156 | Train Loss: 0.74930 | Valid Loss: 0.91726 |Train Accs: 0.74033 | Valid Accs: 0.72233 | Time: 28.45 seconds\n",
      "Epoch: 157 | Train Loss: 0.76297 | Valid Loss: 0.91262 |Train Accs: 0.73517 | Valid Accs: 0.71088 | Time: 28.50 seconds\n",
      "Epoch: 158 | Train Loss: 0.75199 | Valid Loss: 0.94866 |Train Accs: 0.73189 | Valid Accs: 0.71183 | Time: 29.36 seconds\n",
      "Epoch: 159 | Train Loss: 0.76210 | Valid Loss: 0.95660 |Train Accs: 0.74062 | Valid Accs: 0.70277 | Time: 28.51 seconds\n",
      "Epoch: 160 | Train Loss: 0.74584 | Valid Loss: 0.94587 |Train Accs: 0.74038 | Valid Accs: 0.71469 | Time: 28.33 seconds\n",
      "Epoch: 161 | Train Loss: 0.74331 | Valid Loss: 0.95241 |Train Accs: 0.74040 | Valid Accs: 0.69370 | Time: 28.53 seconds\n",
      "Epoch: 162 | Train Loss: 0.76579 | Valid Loss: 0.92496 |Train Accs: 0.74220 | Valid Accs: 0.71613 | Time: 28.61 seconds\n",
      "\n",
      "Early Stopping at Epoch 163\n",
      "\n",
      "**************************************************\n",
      "\n",
      "Best Validation Loss at Epoch 112\n",
      "\n",
      "**************************************************\n",
      "\n",
      "Best Validation Accs at Epoch 156\n",
      "\n",
      "**************************************************\n",
      "\n",
      "Time Taken [163 Epochs] : 76.98 minutes\n",
      "\n",
      "**************************************************\n",
      "\n"
     ]
    },
    {
     "data": {
      "image/png": "[encoded data removed]",
      "text/plain": [
       "<Figure size 432x288 with 1 Axes>"
      ]
     },
     "metadata": {
      "needs_background": "light"
     },
     "output_type": "display_data"
    },
    {
     "name": "stdout",
     "output_type": "stream",
     "text": [
      "\n",
      "**************************************************\n",
      "\n"
     ]
    },
    {
     "data": {
      "image/png": "[encoded data removed]",
      "text/plain": [
       "<Figure size 432x288 with 1 Axes>"
      ]
     },
     "metadata": {
      "needs_background": "light"
     },
     "output_type": "display_data"
    },
    {
     "name": "stdout",
     "output_type": "stream",
     "text": [
      "\n",
      "**************************************************\n",
      "\n"
     ]
    },
    {
     "data": {
      "image/png": "[encoded data removed]",
      "text/plain": [
       "<Figure size 576x432 with 1 Axes>"
      ]
     },
     "metadata": {
      "needs_background": "light"
     },
     "output_type": "display_data"
    },
    {
     "name": "stdout",
     "output_type": "stream",
     "text": [
      "\n",
      "**************************************************\n",
      "\n"
     ]
    }
   ],
   "source": [
    "for tr_idx, va_idx in StratifiedKFold(n_splits=cfg.n_splits, random_state=cfg.seed, shuffle=True).split(images, labels):\n",
    "    break\n",
    "\n",
    "tr_images, va_images, tr_labels, va_labels = images[tr_idx], images[va_idx], labels[tr_idx], labels[va_idx]\n",
    "\n",
    "tr_data_setup = DS(tr_images, tr_labels.reshape(-1, 1), cfg.transform)\n",
    "va_data_setup = DS(va_images, va_labels.reshape(-1, 1), cfg.transform)\n",
    "\n",
    "dataloaders = {\n",
    "    \"train\" : DL(tr_data_setup, batch_size=cfg.batch_size, shuffle=True, generator=torch.manual_seed(cfg.seed)),\n",
    "    \"valid\" : DL(va_data_setup, batch_size=cfg.batch_size, shuffle=False),\n",
    "}\n",
    "\n",
    "cfg = CFG(lr=1e-5, wd=1e-4, epochs=500, early_stopping=50, batch_size=64, steps_per_epoch=len(dataloaders[\"train\"]))\n",
    "\n",
    "torch.manual_seed(cfg.seed)\n",
    "model = Model().to(cfg.device)\n",
    "optimizer = optim.Adam([p for p in model.parameters() if p.requires_grad], lr=cfg.lr, weight_decay=cfg.wd)\n",
    "scheduler_oclr = optim.lr_scheduler.OneCycleLR(optimizer=optimizer, \n",
    "                                               max_lr=cfg.max_lr, \n",
    "                                               epochs=cfg.epochs, \n",
    "                                               steps_per_epoch=cfg.steps_per_epoch,\n",
    "                                               pct_start=cfg.pct_start, \n",
    "                                               div_factor=cfg.div_factor, \n",
    "                                               final_div_factor=cfg.final_div_factor)\n",
    "# scheduler_rlrop = optim.lr_scheduler.ReduceLROnPlateau(optimizer=optimizer,\n",
    "#                                                       patience=cfg.patience,\n",
    "#                                                       eps=cfg.eps,\n",
    "#                                                       verbose=True)\n",
    "\n",
    "# scheduler_oclr = None\n",
    "scheduler_rlrop = None\n",
    "\n",
    "L, A, LR, BLE, BAE, name = fit(model=model, \n",
    "                               optimizer=optimizer, \n",
    "                               scheduler_oclr=scheduler_oclr,\n",
    "                               scheduler_rlrop=scheduler_rlrop,\n",
    "                               epochs=cfg.epochs, \n",
    "                               early_stopping_patience=cfg.early_stopping, \n",
    "                               dataloaders=dataloaders, \n",
    "                               device=cfg.device,\n",
    "                               save_path=cfg.save_path,\n",
    "                               fold=None,\n",
    "                               verbose=True)\n",
    "\n",
    "breaker()\n",
    "show_loss_graphs(L)\n",
    "breaker()\n",
    "show_accuracy_graphs(A)\n",
    "breaker()\n",
    "\n",
    "if scheduler_oclr:\n",
    "    show_lr_graph(LR)\n",
    "    breaker()"
   ]
  }
 ],
 "metadata": {
  "kernelspec": {
   "display_name": "Python 3",
   "language": "python",
   "name": "python3"
  },
  "language_info": {
   "codemirror_mode": {
    "name": "ipython",
    "version": 3
   },
   "file_extension": ".py",
   "mimetype": "text/x-python",
   "name": "python",
   "nbconvert_exporter": "python",
   "pygments_lexer": "ipython3",
   "version": "3.7.12"
  },
  "papermill": {
   "default_parameters": {},
   "duration": 4650.803028,
   "end_time": "2022-06-14T12:21:04.085036",
   "environment_variables": {},
   "exception": null,
   "input_path": "__notebook__.ipynb",
   "output_path": "__notebook__.ipynb",
   "parameters": {},
   "start_time": "2022-06-14T11:03:33.282008",
   "version": "2.3.4"
  },
  "widgets": {
   "application/vnd.jupyter.widget-state+json": {
    "state": {
     "0197a48fe2dd45748a9a37cfb77ec12a": {
      "model_module": "@jupyter-widgets/base",
      "model_module_version": "1.2.0",
      "model_name": "LayoutModel",
      "state": {
       "_model_module": "@jupyter-widgets/base",
       "_model_module_version": "1.2.0",
       "_model_name": "LayoutModel",
       "_view_count": null,
       "_view_module": "@jupyter-widgets/base",
       "_view_module_version": "1.2.0",
       "_view_name": "LayoutView",
       "align_content": null,
       "align_items": null,
       "align_self": null,
       "border": null,
       "bottom": null,
       "display": null,
       "flex": null,
       "flex_flow": null,
       "grid_area": null,
       "grid_auto_columns": null,
       "grid_auto_flow": null,
       "grid_auto_rows": null,
       "grid_column": null,
       "grid_gap": null,
       "grid_row": null,
       "grid_template_areas": null,
       "grid_template_columns": null,
       "grid_template_rows": null,
       "height": null,
       "justify_content": null,
       "justify_items": null,
       "left": null,
       "margin": null,
       "max_height": null,
       "max_width": null,
       "min_height": null,
       "min_width": null,
       "object_fit": null,
       "object_position": null,
       "order": null,
       "overflow": null,
       "overflow_x": null,
       "overflow_y": null,
       "padding": null,
       "right": null,
       "top": null,
       "visibility": null,
       "width": null
      }
     },
     "0c58a3146ce64930abc7350f78a0704a": {
      "model_module": "@jupyter-widgets/controls",
      "model_module_version": "1.5.0",
      "model_name": "HTMLModel",
      "state": {
       "_dom_classes": [],
       "_model_module": "@jupyter-widgets/controls",
       "_model_module_version": "1.5.0",
       "_model_name": "HTMLModel",
       "_view_count": null,
       "_view_module": "@jupyter-widgets/controls",
       "_view_module_version": "1.5.0",
       "_view_name": "HTMLView",
       "description": "",
       "description_tooltip": null,
       "layout": "IPY_MODEL_39a67da692ae4390aa2bceb977400b9d",
       "placeholder": "​",
       "style": "IPY_MODEL_0f24cdc3586e4198880eb8f35021558b",
       "value": " 30.8M/30.8M [00:02&lt;00:00, 23.6MB/s]"
      }
     },
     "0f24cdc3586e4198880eb8f35021558b": {
      "model_module": "@jupyter-widgets/controls",
      "model_module_version": "1.5.0",
      "model_name": "DescriptionStyleModel",
      "state": {
       "_model_module": "@jupyter-widgets/controls",
       "_model_module_version": "1.5.0",
       "_model_name": "DescriptionStyleModel",
       "_view_count": null,
       "_view_module": "@jupyter-widgets/base",
       "_view_module_version": "1.2.0",
       "_view_name": "StyleView",
       "description_width": ""
      }
     },
     "39a67da692ae4390aa2bceb977400b9d": {
      "model_module": "@jupyter-widgets/base",
      "model_module_version": "1.2.0",
      "model_name": "LayoutModel",
      "state": {
       "_model_module": "@jupyter-widgets/base",
       "_model_module_version": "1.2.0",
       "_model_name": "LayoutModel",
       "_view_count": null,
       "_view_module": "@jupyter-widgets/base",
       "_view_module_version": "1.2.0",
       "_view_name": "LayoutView",
       "align_content": null,
       "align_items": null,
       "align_self": null,
       "border": null,
       "bottom": null,
       "display": null,
       "flex": null,
       "flex_flow": null,
       "grid_area": null,
       "grid_auto_columns": null,
       "grid_auto_flow": null,
       "grid_auto_rows": null,
       "grid_column": null,
       "grid_gap": null,
       "grid_row": null,
       "grid_template_areas": null,
       "grid_template_columns": null,
       "grid_template_rows": null,
       "height": null,
       "justify_content": null,
       "justify_items": null,
       "left": null,
       "margin": null,
       "max_height": null,
       "max_width": null,
       "min_height": null,
       "min_width": null,
       "object_fit": null,
       "object_position": null,
       "order": null,
       "overflow": null,
       "overflow_x": null,
       "overflow_y": null,
       "padding": null,
       "right": null,
       "top": null,
       "visibility": null,
       "width": null
      }
     },
     "49d24395c59946448a653facde85e9b7": {
      "model_module": "@jupyter-widgets/controls",
      "model_module_version": "1.5.0",
      "model_name": "FloatProgressModel",
      "state": {
       "_dom_classes": [],
       "_model_module": "@jupyter-widgets/controls",
       "_model_module_version": "1.5.0",
       "_model_name": "FloatProgressModel",
       "_view_count": null,
       "_view_module": "@jupyter-widgets/controls",
       "_view_module_version": "1.5.0",
       "_view_name": "ProgressView",
       "bar_style": "success",
       "description": "",
       "description_tooltip": null,
       "layout": "IPY_MODEL_0197a48fe2dd45748a9a37cfb77ec12a",
       "max": 32342954.0,
       "min": 0.0,
       "orientation": "horizontal",
       "style": "IPY_MODEL_6ea48753381b44bca6630e3545124f5a",
       "value": 32342954.0
      }
     },
     "613f2253cb69449893457941e9ae09a1": {
      "model_module": "@jupyter-widgets/controls",
      "model_module_version": "1.5.0",
      "model_name": "HBoxModel",
      "state": {
       "_dom_classes": [],
       "_model_module": "@jupyter-widgets/controls",
       "_model_module_version": "1.5.0",
       "_model_name": "HBoxModel",
       "_view_count": null,
       "_view_module": "@jupyter-widgets/controls",
       "_view_module_version": "1.5.0",
       "_view_name": "HBoxView",
       "box_style": "",
       "children": [
        "IPY_MODEL_6ed18dcaf00644f992146bb4747a946f",
        "IPY_MODEL_49d24395c59946448a653facde85e9b7",
        "IPY_MODEL_0c58a3146ce64930abc7350f78a0704a"
       ],
       "layout": "IPY_MODEL_dab2bd352cc640ad8af27e01003a02a3"
      }
     },
     "6ea48753381b44bca6630e3545124f5a": {
      "model_module": "@jupyter-widgets/controls",
      "model_module_version": "1.5.0",
      "model_name": "ProgressStyleModel",
      "state": {
       "_model_module": "@jupyter-widgets/controls",
       "_model_module_version": "1.5.0",
       "_model_name": "ProgressStyleModel",
       "_view_count": null,
       "_view_module": "@jupyter-widgets/base",
       "_view_module_version": "1.2.0",
       "_view_name": "StyleView",
       "bar_color": null,
       "description_width": ""
      }
     },
     "6ed18dcaf00644f992146bb4747a946f": {
      "model_module": "@jupyter-widgets/controls",
      "model_module_version": "1.5.0",
      "model_name": "HTMLModel",
      "state": {
       "_dom_classes": [],
       "_model_module": "@jupyter-widgets/controls",
       "_model_module_version": "1.5.0",
       "_model_name": "HTMLModel",
       "_view_count": null,
       "_view_module": "@jupyter-widgets/controls",
       "_view_module_version": "1.5.0",
       "_view_name": "HTMLView",
       "description": "",
       "description_tooltip": null,
       "layout": "IPY_MODEL_d332b8097db94123999f7a3f595602a3",
       "placeholder": "​",
       "style": "IPY_MODEL_9100e9cfb4b446c4a4e7c2c749d600d9",
       "value": "100%"
      }
     },
     "9100e9cfb4b446c4a4e7c2c749d600d9": {
      "model_module": "@jupyter-widgets/controls",
      "model_module_version": "1.5.0",
      "model_name": "DescriptionStyleModel",
      "state": {
       "_model_module": "@jupyter-widgets/controls",
       "_model_module_version": "1.5.0",
       "_model_name": "DescriptionStyleModel",
       "_view_count": null,
       "_view_module": "@jupyter-widgets/base",
       "_view_module_version": "1.2.0",
       "_view_name": "StyleView",
       "description_width": ""
      }
     },
     "d332b8097db94123999f7a3f595602a3": {
      "model_module": "@jupyter-widgets/base",
      "model_module_version": "1.2.0",
      "model_name": "LayoutModel",
      "state": {
       "_model_module": "@jupyter-widgets/base",
       "_model_module_version": "1.2.0",
       "_model_name": "LayoutModel",
       "_view_count": null,
       "_view_module": "@jupyter-widgets/base",
       "_view_module_version": "1.2.0",
       "_view_name": "LayoutView",
       "align_content": null,
       "align_items": null,
       "align_self": null,
       "border": null,
       "bottom": null,
       "display": null,
       "flex": null,
       "flex_flow": null,
       "grid_area": null,
       "grid_auto_columns": null,
       "grid_auto_flow": null,
       "grid_auto_rows": null,
       "grid_column": null,
       "grid_gap": null,
       "grid_row": null,
       "grid_template_areas": null,
       "grid_template_columns": null,
       "grid_template_rows": null,
       "height": null,
       "justify_content": null,
       "justify_items": null,
       "left": null,
       "margin": null,
       "max_height": null,
       "max_width": null,
       "min_height": null,
       "min_width": null,
       "object_fit": null,
       "object_position": null,
       "order": null,
       "overflow": null,
       "overflow_x": null,
       "overflow_y": null,
       "padding": null,
       "right": null,
       "top": null,
       "visibility": null,
       "width": null
      }
     },
     "dab2bd352cc640ad8af27e01003a02a3": {
      "model_module": "@jupyter-widgets/base",
      "model_module_version": "1.2.0",
      "model_name": "LayoutModel",
      "state": {
       "_model_module": "@jupyter-widgets/base",
       "_model_module_version": "1.2.0",
       "_model_name": "LayoutModel",
       "_view_count": null,
       "_view_module": "@jupyter-widgets/base",
       "_view_module_version": "1.2.0",
       "_view_name": "LayoutView",
       "align_content": null,
       "align_items": null,
       "align_self": null,
       "border": null,
       "bottom": null,
       "display": null,
       "flex": null,
       "flex_flow": null,
       "grid_area": null,
       "grid_auto_columns": null,
       "grid_auto_flow": null,
       "grid_auto_rows": null,
       "grid_column": null,
       "grid_gap": null,
       "grid_row": null,
       "grid_template_areas": null,
       "grid_template_columns": null,
       "grid_template_rows": null,
       "height": null,
       "justify_content": null,
       "justify_items": null,
       "left": null,
       "margin": null,
       "max_height": null,
       "max_width": null,
       "min_height": null,
       "min_width": null,
       "object_fit": null,
       "object_position": null,
       "order": null,
       "overflow": null,
       "overflow_x": null,
       "overflow_y": null,
       "padding": null,
       "right": null,
       "top": null,
       "visibility": null,
       "width": null
      }
     }
    },
    "version_major": 2,
    "version_minor": 0
   }
  }
 },
 "nbformat": 4,
 "nbformat_minor": 5
}
