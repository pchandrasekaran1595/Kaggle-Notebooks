{
 "cells": [
  {
   "cell_type": "markdown",
   "id": "a07e3b0e",
   "metadata": {
    "papermill": {
     "duration": 0.004325,
     "end_time": "2022-06-27T10:36:16.214996",
     "exception": false,
     "start_time": "2022-06-27T10:36:16.210671",
     "status": "completed"
    },
    "tags": []
   },
   "source": [
    "### **Setup**"
   ]
  },
  {
   "cell_type": "code",
   "execution_count": 1,
   "id": "52803b85",
   "metadata": {
    "execution": {
     "iopub.execute_input": "2022-06-27T10:36:16.226445Z",
     "iopub.status.busy": "2022-06-27T10:36:16.225337Z",
     "iopub.status.idle": "2022-06-27T10:36:28.347644Z",
     "shell.execute_reply": "2022-06-27T10:36:28.346440Z"
    },
    "papermill": {
     "duration": 12.129672,
     "end_time": "2022-06-27T10:36:28.350317",
     "exception": false,
     "start_time": "2022-06-27T10:36:16.220645",
     "status": "completed"
    },
    "tags": []
   },
   "outputs": [
    {
     "name": "stderr",
     "output_type": "stream",
     "text": [
      "WARNING: Running pip as the 'root' user can result in broken permissions and conflicting behaviour with the system package manager. It is recommended to use a virtual environment instead: https://pip.pypa.io/warnings/venv\n"
     ]
    }
   ],
   "source": [
    "%%bash\n",
    "pip install timm -q"
   ]
  },
  {
   "cell_type": "markdown",
   "id": "15e93954",
   "metadata": {
    "papermill": {
     "duration": 0.003733,
     "end_time": "2022-06-27T10:36:28.357910",
     "exception": false,
     "start_time": "2022-06-27T10:36:28.354177",
     "status": "completed"
    },
    "tags": []
   },
   "source": [
    "### **Library Imports**"
   ]
  },
  {
   "cell_type": "code",
   "execution_count": 2,
   "id": "312c13bb",
   "metadata": {
    "execution": {
     "iopub.execute_input": "2022-06-27T10:36:28.366995Z",
     "iopub.status.busy": "2022-06-27T10:36:28.366300Z",
     "iopub.status.idle": "2022-06-27T10:36:36.374086Z",
     "shell.execute_reply": "2022-06-27T10:36:36.373093Z"
    },
    "papermill": {
     "duration": 8.014681,
     "end_time": "2022-06-27T10:36:36.376150",
     "exception": false,
     "start_time": "2022-06-27T10:36:28.361469",
     "status": "completed"
    },
    "tags": []
   },
   "outputs": [],
   "source": [
    "import os\n",
    "import re\n",
    "import cv2\n",
    "import timm\n",
    "import torch\n",
    "import numpy as np\n",
    "import pandas as pd\n",
    "import matplotlib.pyplot as plt\n",
    "\n",
    "from time import time\n",
    "from torch import nn, optim\n",
    "from torch.utils.data import Dataset\n",
    "from torch.utils.data import DataLoader as DL\n",
    "from torchvision import models, transforms\n",
    "\n",
    "from sklearn.preprocessing import LabelEncoder"
   ]
  },
  {
   "cell_type": "markdown",
   "id": "1a51c1bb",
   "metadata": {
    "papermill": {
     "duration": 0.00334,
     "end_time": "2022-06-27T10:36:36.383461",
     "exception": false,
     "start_time": "2022-06-27T10:36:36.380121",
     "status": "completed"
    },
    "tags": []
   },
   "source": [
    "### **Utilities and Helpers**"
   ]
  },
  {
   "cell_type": "code",
   "execution_count": 3,
   "id": "a77114a6",
   "metadata": {
    "execution": {
     "iopub.execute_input": "2022-06-27T10:36:36.392842Z",
     "iopub.status.busy": "2022-06-27T10:36:36.391472Z",
     "iopub.status.idle": "2022-06-27T10:36:36.450350Z",
     "shell.execute_reply": "2022-06-27T10:36:36.449442Z"
    },
    "papermill": {
     "duration": 0.065142,
     "end_time": "2022-06-27T10:36:36.452062",
     "exception": false,
     "start_time": "2022-06-27T10:36:36.386920",
     "status": "completed"
    },
    "tags": []
   },
   "outputs": [],
   "source": [
    "SEED = 42\n",
    "SIZE = 384\n",
    "FOLD = 3\n",
    "\n",
    "TRANSFORM = transforms.Compose([transforms.ToTensor(),\n",
    "                                transforms.Normalize([0.49699, 0.58823, 0.23049],\n",
    "                                                     [0.22591, 0.22614, 0.18264]),\n",
    "                                ])\n",
    "\n",
    "MODEL_PATH_1 = f\"../input/pdc-d169-na{SIZE}f-noes-f{FOLD}/saves/bae_state.pt\"\n",
    "MODEL_PATH_2 = f\"../input/pdc-d201-na{SIZE}f-noes-f{FOLD}/saves/bae_state.pt\"\n",
    "MODEL_PATH_3 = f\"../input/pdc-tvd121-na{SIZE}f-f{FOLD}/saves/bae_state.pt\"\n",
    "\n",
    "DEVICE = torch.device(\"cuda\" if torch.cuda.is_available() else \"cpu\")\n",
    "\n",
    "le = LabelEncoder()\n",
    "\n",
    "\n",
    "def breaker(num: int=50, char: str=\"*\") -> None:\n",
    "    print(\"\\n\" + num*char + \"\\n\")\n",
    "\n",
    "\n",
    "def get_image(path: str, size: int=224) -> np.ndarray:\n",
    "    return cv2.resize(src=cv2.cvtColor(src=cv2.imread(path, cv2.IMREAD_COLOR), code=cv2.COLOR_BGR2RGB), dsize=(size, size), interpolation=cv2.INTER_AREA)"
   ]
  },
  {
   "cell_type": "markdown",
   "id": "b5d2b147",
   "metadata": {
    "papermill": {
     "duration": 0.003462,
     "end_time": "2022-06-27T10:36:36.459027",
     "exception": false,
     "start_time": "2022-06-27T10:36:36.455565",
     "status": "completed"
    },
    "tags": []
   },
   "source": [
    "### **Configuration**"
   ]
  },
  {
   "cell_type": "markdown",
   "id": "fd50ad76",
   "metadata": {
    "papermill": {
     "duration": 0.003751,
     "end_time": "2022-06-27T10:36:36.466171",
     "exception": false,
     "start_time": "2022-06-27T10:36:36.462420",
     "status": "completed"
    },
    "tags": []
   },
   "source": [
    "### **Dataset Template**"
   ]
  },
  {
   "cell_type": "code",
   "execution_count": 4,
   "id": "62d9100a",
   "metadata": {
    "execution": {
     "iopub.execute_input": "2022-06-27T10:36:36.473912Z",
     "iopub.status.busy": "2022-06-27T10:36:36.473651Z",
     "iopub.status.idle": "2022-06-27T10:36:36.479726Z",
     "shell.execute_reply": "2022-06-27T10:36:36.478834Z"
    },
    "papermill": {
     "duration": 0.011799,
     "end_time": "2022-06-27T10:36:36.481335",
     "exception": false,
     "start_time": "2022-06-27T10:36:36.469536",
     "status": "completed"
    },
    "tags": []
   },
   "outputs": [],
   "source": [
    "class DS(Dataset):\n",
    "    def __init__(self, base_path: str, filenames: np.ndarray, size: int=224, transform=None):\n",
    "        self.base_path = base_path\n",
    "        self.filenames = filenames\n",
    "        self.size = size\n",
    "        self.transform = transform\n",
    "    \n",
    "    def __len__(self):\n",
    "        return self.filenames.shape[0]\n",
    "    \n",
    "    def __getitem__(self, idx):\n",
    "        return self.transform(get_image(os.path.join(self.base_path, self.filenames[idx]), size=self.size))"
   ]
  },
  {
   "cell_type": "markdown",
   "id": "edcbe218",
   "metadata": {
    "papermill": {
     "duration": 0.003177,
     "end_time": "2022-06-27T10:36:36.487882",
     "exception": false,
     "start_time": "2022-06-27T10:36:36.484705",
     "status": "completed"
    },
    "tags": []
   },
   "source": [
    "### **Model**"
   ]
  },
  {
   "cell_type": "code",
   "execution_count": 5,
   "id": "be45008d",
   "metadata": {
    "execution": {
     "iopub.execute_input": "2022-06-27T10:36:36.495758Z",
     "iopub.status.busy": "2022-06-27T10:36:36.495506Z",
     "iopub.status.idle": "2022-06-27T10:36:36.504593Z",
     "shell.execute_reply": "2022-06-27T10:36:36.503899Z"
    },
    "papermill": {
     "duration": 0.014867,
     "end_time": "2022-06-27T10:36:36.506195",
     "exception": false,
     "start_time": "2022-06-27T10:36:36.491328",
     "status": "completed"
    },
    "tags": []
   },
   "outputs": [],
   "source": [
    "class Model(nn.Module):\n",
    "    def __init__(self, model_name=\"densenet\"):\n",
    "        super(Model, self).__init__()\n",
    "\n",
    "        if model_name == \"densenet169\":\n",
    "            self.model = models.densenet169(pretrained=False, progress=True)\n",
    "            # self.freeze()\n",
    "            self.model.classifier = nn.Linear(in_features=self.model.classifier.in_features, out_features=10)\n",
    "        \n",
    "        elif model_name == \"densenet201\":\n",
    "            self.model = models.densenet201(pretrained=False, progress=True)\n",
    "            # self.freeze()\n",
    "            self.model.classifier = nn.Linear(in_features=self.model.classifier.in_features, out_features=10)\n",
    "            \n",
    "        elif model_name == \"tv_densenet121\":\n",
    "            self.model = timm.create_model(model_name=\"tv_densenet121\", pretrained=False)\n",
    "            # self.freeze()\n",
    "            self.model.classifier = nn.Linear(in_features=self.model.classifier.in_features, out_features=10)\n",
    "        \n",
    "        else:\n",
    "            raise NotImplementedError()\n",
    "    \n",
    "    def freeze(self):\n",
    "        for params in self.parameters(): params.requires_grad = False\n",
    "\n",
    "    def forward(self, x):\n",
    "        return nn.LogSoftmax(dim=1)(self.model(x))"
   ]
  },
  {
   "cell_type": "markdown",
   "id": "47614adb",
   "metadata": {
    "papermill": {
     "duration": 0.003201,
     "end_time": "2022-06-27T10:36:36.512999",
     "exception": false,
     "start_time": "2022-06-27T10:36:36.509798",
     "status": "completed"
    },
    "tags": []
   },
   "source": [
    "### **Predict Helpers**"
   ]
  },
  {
   "cell_type": "code",
   "execution_count": 6,
   "id": "33029cc1",
   "metadata": {
    "execution": {
     "iopub.execute_input": "2022-06-27T10:36:36.521988Z",
     "iopub.status.busy": "2022-06-27T10:36:36.521345Z",
     "iopub.status.idle": "2022-06-27T10:36:36.531271Z",
     "shell.execute_reply": "2022-06-27T10:36:36.530449Z"
    },
    "papermill": {
     "duration": 0.016817,
     "end_time": "2022-06-27T10:36:36.533269",
     "exception": false,
     "start_time": "2022-06-27T10:36:36.516452",
     "status": "completed"
    },
    "tags": []
   },
   "outputs": [],
   "source": [
    "def predict_batch(models: list=None, model_2=None, dataloader=None, paths: list=None, weights: list=None, device=None) -> np.ndarray:\n",
    "    assert len(models) == len(paths)\n",
    "    \n",
    "    for i in range(len(models)):\n",
    "        models[i].load_state_dict(torch.load(paths[i], map_location=device)[\"model_state_dict\"])\n",
    "        models[i].to(device)    \n",
    "        models[i].eval()\n",
    "    \n",
    "    y_pred = torch.zeros(1, 1).to(device)\n",
    "    \n",
    "    for X in dataloader:\n",
    "        X = X.to(device)\n",
    "        with torch.no_grad():\n",
    "            if weights is None:\n",
    "                output = torch.argmax(torch.exp(models[0](X)) + torch.exp(models[1](X)) + torch.exp(models[2](X)), dim=1)\n",
    "            else:\n",
    "                output = weights[0] * torch.exp(models[0](X)) + weights[1] * torch.exp(models[1](X)) + weights[2] * torch.exp(models[2](X))\n",
    "                output = torch.argmax(output, dim=1)\n",
    "        y_pred = torch.cat((y_pred, output.view(-1, 1)), dim=0)\n",
    "    \n",
    "    return y_pred[1:].detach().cpu().numpy()"
   ]
  },
  {
   "cell_type": "markdown",
   "id": "61f10693",
   "metadata": {
    "papermill": {
     "duration": 0.003486,
     "end_time": "2022-06-27T10:36:36.540450",
     "exception": false,
     "start_time": "2022-06-27T10:36:36.536964",
     "status": "completed"
    },
    "tags": []
   },
   "source": [
    "### **Submission**"
   ]
  },
  {
   "cell_type": "code",
   "execution_count": 7,
   "id": "e15aa5e6",
   "metadata": {
    "execution": {
     "iopub.execute_input": "2022-06-27T10:36:36.548415Z",
     "iopub.status.busy": "2022-06-27T10:36:36.548116Z",
     "iopub.status.idle": "2022-06-27T10:38:24.938679Z",
     "shell.execute_reply": "2022-06-27T10:38:24.937780Z"
    },
    "papermill": {
     "duration": 108.39759,
     "end_time": "2022-06-27T10:38:24.941419",
     "exception": false,
     "start_time": "2022-06-27T10:36:36.543829",
     "status": "completed"
    },
    "tags": []
   },
   "outputs": [],
   "source": [
    "df = pd.read_csv(\"../input/paddy-disease-classification/train.csv\")\n",
    "ss_df = pd.read_csv(\"../input/paddy-disease-classification/sample_submission.csv\")\n",
    "\n",
    "labels = df.label.copy().values\n",
    "labels = le.fit_transform(labels)\n",
    "\n",
    "ts_data_setup = DS(base_path=\"../input/paddy-disease-classification/test_images\", \n",
    "                   filenames=ss_df.image_id.copy().values,\n",
    "                   size=SIZE,\n",
    "                   transform=TRANSFORM)\n",
    "ts_data = DL(ts_data_setup, batch_size=64, shuffle=False)\n",
    "\n",
    "model_1 = Model(\"densenet169\").to(DEVICE)\n",
    "model_2 = Model(\"densenet201\").to(DEVICE)\n",
    "model_3 = Model(\"tv_densenet121\").to(DEVICE)\n",
    "\n",
    "y_pred = predict_batch(models=[model_1, model_2, model_3], \n",
    "                       dataloader=ts_data, \n",
    "                       paths=[MODEL_PATH_1, MODEL_PATH_2, MODEL_PATH_3],\n",
    "                       weights=None,\n",
    "                       device=DEVICE)\n",
    "\n",
    "ss_df[\"label\"] = le.inverse_transform(y_pred.astype(\"uint8\").reshape(-1))\n",
    "ss_df.to_csv(\"submission.csv\", index=False)"
   ]
  }
 ],
 "metadata": {
  "kernelspec": {
   "display_name": "Python 3",
   "language": "python",
   "name": "python3"
  },
  "language_info": {
   "codemirror_mode": {
    "name": "ipython",
    "version": 3
   },
   "file_extension": ".py",
   "mimetype": "text/x-python",
   "name": "python",
   "nbconvert_exporter": "python",
   "pygments_lexer": "ipython3",
   "version": "3.7.12"
  },
  "papermill": {
   "default_parameters": {},
   "duration": 139.574482,
   "end_time": "2022-06-27T10:38:27.675446",
   "environment_variables": {},
   "exception": null,
   "input_path": "__notebook__.ipynb",
   "output_path": "__notebook__.ipynb",
   "parameters": {},
   "start_time": "2022-06-27T10:36:08.100964",
   "version": "2.3.4"
  }
 },
 "nbformat": 4,
 "nbformat_minor": 5
}
