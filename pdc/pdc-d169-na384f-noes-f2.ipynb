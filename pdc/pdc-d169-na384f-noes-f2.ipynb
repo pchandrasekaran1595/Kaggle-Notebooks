{
 "cells": [
  {
   "cell_type": "markdown",
   "id": "c129491d",
   "metadata": {
    "_cell_guid": "b1076dfc-b9ad-4769-8c92-a6c4dae69d19",
    "_uuid": "8f2839f25d086af736a60e9eeb907d3b93b6e0e5",
    "papermill": {
     "duration": 0.004644,
     "end_time": "2022-06-17T15:38:03.902687",
     "exception": false,
     "start_time": "2022-06-17T15:38:03.898043",
     "status": "completed"
    },
    "tags": []
   },
   "source": [
    "### **Library Imports**"
   ]
  },
  {
   "cell_type": "code",
   "execution_count": 1,
   "id": "3719455e",
   "metadata": {
    "execution": {
     "iopub.execute_input": "2022-06-17T15:38:03.912586Z",
     "iopub.status.busy": "2022-06-17T15:38:03.911650Z",
     "iopub.status.idle": "2022-06-17T15:38:06.164061Z",
     "shell.execute_reply": "2022-06-17T15:38:06.163204Z"
    },
    "papermill": {
     "duration": 2.260191,
     "end_time": "2022-06-17T15:38:06.166695",
     "exception": false,
     "start_time": "2022-06-17T15:38:03.906504",
     "status": "completed"
    },
    "tags": []
   },
   "outputs": [],
   "source": [
    "import os\n",
    "import re\n",
    "import torch\n",
    "import numpy as np\n",
    "import pandas as pd\n",
    "import matplotlib.pyplot as plt\n",
    "\n",
    "from time import time\n",
    "from torch import nn, optim\n",
    "from torch.utils.data import Dataset\n",
    "from torch.utils.data import DataLoader as DL\n",
    "from torchvision import models, transforms\n",
    "\n",
    "from sklearn.model_selection import StratifiedKFold\n",
    "from sklearn.preprocessing import LabelEncoder\n",
    "from sklearn.metrics import accuracy_score"
   ]
  },
  {
   "cell_type": "markdown",
   "id": "2514ed07",
   "metadata": {
    "papermill": {
     "duration": 0.00398,
     "end_time": "2022-06-17T15:38:06.174854",
     "exception": false,
     "start_time": "2022-06-17T15:38:06.170874",
     "status": "completed"
    },
    "tags": []
   },
   "source": [
    "### **Utilities and Helpers**"
   ]
  },
  {
   "cell_type": "code",
   "execution_count": 2,
   "id": "60eb26e8",
   "metadata": {
    "execution": {
     "iopub.execute_input": "2022-06-17T15:38:06.183993Z",
     "iopub.status.busy": "2022-06-17T15:38:06.183563Z",
     "iopub.status.idle": "2022-06-17T15:38:06.195122Z",
     "shell.execute_reply": "2022-06-17T15:38:06.194419Z"
    },
    "papermill": {
     "duration": 0.017679,
     "end_time": "2022-06-17T15:38:06.196741",
     "exception": false,
     "start_time": "2022-06-17T15:38:06.179062",
     "status": "completed"
    },
    "tags": []
   },
   "outputs": [],
   "source": [
    "SEED = 42\n",
    "SIZE = 384\n",
    "le = LabelEncoder()\n",
    "\n",
    "\n",
    "def breaker(num: int=50, char: str=\"*\") -> None:\n",
    "    print(\"\\n\" + num*char + \"\\n\")\n",
    "\n",
    "    \n",
    "def show_loss_graphs(A: list) -> None:\n",
    "    TL, VL = [], []\n",
    "    for i in range(len(L)):\n",
    "        TL.append(L[i][\"train\"])\n",
    "        VL.append(L[i][\"valid\"])\n",
    "    x_Axis = np.arange(1, len(TL) + 1)\n",
    "    plt.figure()\n",
    "    plt.plot(x_Axis, TL, \"r\", label=\"Train\")\n",
    "    plt.plot(x_Axis, VL, \"b\", label=\"Valid\")\n",
    "    plt.legend()\n",
    "    plt.grid()\n",
    "    plt.title(\"Loss Graph\")\n",
    "    plt.show()\n",
    "\n",
    "    \n",
    "def show_accuracy_graphs(A: list) -> None:\n",
    "    TA, VA = [], []\n",
    "    for i in range(len(L)):\n",
    "        TA.append(A[i][\"train\"])\n",
    "        VA.append(A[i][\"valid\"])\n",
    "    x_Axis = np.arange(1, len(TA) + 1)\n",
    "    plt.figure()\n",
    "    plt.plot(x_Axis, TA, \"r\", label=\"Train\")\n",
    "    plt.plot(x_Axis, VA, \"b\", label=\"Valid\")\n",
    "    plt.legend()\n",
    "    plt.grid()\n",
    "    plt.title(\"Accuracy Graph\")\n",
    "    plt.show()\n",
    "\n",
    "\n",
    "def show_lr_graph(LR: list) -> None:\n",
    "    x_Axis = [i+1 for i in range(len(LR))]\n",
    "    plt.figure(figsize=(8, 6))\n",
    "    plt.plot(x_Axis, LR, \"rx\")\n",
    "    plt.grid()\n",
    "    plt.show()"
   ]
  },
  {
   "cell_type": "markdown",
   "id": "fa84e6a2",
   "metadata": {
    "papermill": {
     "duration": 0.003429,
     "end_time": "2022-06-17T15:38:06.203941",
     "exception": false,
     "start_time": "2022-06-17T15:38:06.200512",
     "status": "completed"
    },
    "tags": []
   },
   "source": [
    "### **Configuration**"
   ]
  },
  {
   "cell_type": "code",
   "execution_count": 3,
   "id": "11a06062",
   "metadata": {
    "execution": {
     "iopub.execute_input": "2022-06-17T15:38:06.212265Z",
     "iopub.status.busy": "2022-06-17T15:38:06.212012Z",
     "iopub.status.idle": "2022-06-17T15:38:06.264274Z",
     "shell.execute_reply": "2022-06-17T15:38:06.263371Z"
    },
    "papermill": {
     "duration": 0.058411,
     "end_time": "2022-06-17T15:38:06.266038",
     "exception": false,
     "start_time": "2022-06-17T15:38:06.207627",
     "status": "completed"
    },
    "tags": []
   },
   "outputs": [],
   "source": [
    "class CFG(object):\n",
    "    def __init__(self, \n",
    "                 seed: int = 42,\n",
    "                 n_splits: int = 5,\n",
    "                 batch_size: int = 16,\n",
    "                 epochs: int = 25,\n",
    "                 early_stopping: int = 5,\n",
    "                 lr: float = 1e-4,\n",
    "                 wd: float = 0.0,\n",
    "                 max_lr: float = 1e-3,\n",
    "                 pct_start: float = 0.2,\n",
    "                 steps_per_epoch: int = 100,\n",
    "                 div_factor: int = 1e3, \n",
    "                 final_div_factor: float = 1e3,\n",
    "                 ):\n",
    "        \n",
    "        self.seed = seed\n",
    "        self.n_splits = n_splits\n",
    "        self.batch_size = batch_size\n",
    "        self.epochs = epochs\n",
    "        self.early_stopping = early_stopping\n",
    "        self.lr = lr\n",
    "        self.wd = wd\n",
    "        self.max_lr = max_lr\n",
    "        self.pct_start = pct_start\n",
    "        self.steps_per_epoch = steps_per_epoch\n",
    "        self.div_factor = div_factor\n",
    "        self.final_div_factor = final_div_factor\n",
    "        self.device = torch.device(\"cuda\" if torch.cuda.is_available() else \"cpu\")\n",
    "        self.transform = transforms.Compose([transforms.ToTensor(),\n",
    "                                transforms.Normalize([0.49699, 0.58823, 0.23049],\n",
    "                                                     [0.22591, 0.22614, 0.18264]),\n",
    "                                ])\n",
    "        self.save_path = \"saves\"\n",
    "        if not os.path.exists(self.save_path): os.makedirs(self.save_path)\n",
    "    \n",
    "cfg = CFG(seed=SEED)"
   ]
  },
  {
   "cell_type": "markdown",
   "id": "93cd1184",
   "metadata": {
    "papermill": {
     "duration": 0.003587,
     "end_time": "2022-06-17T15:38:06.273506",
     "exception": false,
     "start_time": "2022-06-17T15:38:06.269919",
     "status": "completed"
    },
    "tags": []
   },
   "source": [
    "### **Dataset Template**"
   ]
  },
  {
   "cell_type": "code",
   "execution_count": 4,
   "id": "e0f089bb",
   "metadata": {
    "execution": {
     "iopub.execute_input": "2022-06-17T15:38:06.281918Z",
     "iopub.status.busy": "2022-06-17T15:38:06.281528Z",
     "iopub.status.idle": "2022-06-17T15:38:06.289154Z",
     "shell.execute_reply": "2022-06-17T15:38:06.288180Z"
    },
    "papermill": {
     "duration": 0.013862,
     "end_time": "2022-06-17T15:38:06.291013",
     "exception": false,
     "start_time": "2022-06-17T15:38:06.277151",
     "status": "completed"
    },
    "tags": []
   },
   "outputs": [],
   "source": [
    "class DS(Dataset):\n",
    "    def __init__(self, images: np.ndarray, labels: np.ndarray = None, transform=None):\n",
    "        self.images = images\n",
    "        self.labels = labels\n",
    "        self.transform = transform\n",
    "    \n",
    "    def __len__(self):\n",
    "        return self.images.shape[0]\n",
    "    \n",
    "    def __getitem__(self, idx):\n",
    "        if self.labels is not None:\n",
    "            return self.transform(self.images[idx]), torch.LongTensor(self.labels[idx])\n",
    "        else:\n",
    "            return self.transform(self.images[idx])"
   ]
  },
  {
   "cell_type": "markdown",
   "id": "cd490822",
   "metadata": {
    "papermill": {
     "duration": 0.003327,
     "end_time": "2022-06-17T15:38:06.297976",
     "exception": false,
     "start_time": "2022-06-17T15:38:06.294649",
     "status": "completed"
    },
    "tags": []
   },
   "source": [
    "### **Model**"
   ]
  },
  {
   "cell_type": "code",
   "execution_count": 5,
   "id": "d3d2c6cb",
   "metadata": {
    "execution": {
     "iopub.execute_input": "2022-06-17T15:38:06.306134Z",
     "iopub.status.busy": "2022-06-17T15:38:06.305873Z",
     "iopub.status.idle": "2022-06-17T15:38:06.311799Z",
     "shell.execute_reply": "2022-06-17T15:38:06.311037Z"
    },
    "papermill": {
     "duration": 0.01184,
     "end_time": "2022-06-17T15:38:06.313373",
     "exception": false,
     "start_time": "2022-06-17T15:38:06.301533",
     "status": "completed"
    },
    "tags": []
   },
   "outputs": [],
   "source": [
    "class Model(nn.Module):\n",
    "    def __init__(self):\n",
    "        super(Model, self).__init__()\n",
    "\n",
    "        self.model = models.densenet169(pretrained=True, progress=True)\n",
    "        # self.freeze()\n",
    "        self.model.classifier = nn.Linear(in_features=self.model.classifier.in_features, out_features=10)\n",
    "    \n",
    "    def freeze(self):\n",
    "        for params in self.parameters(): params.requires_grad = False\n",
    "\n",
    "    def forward(self, x):\n",
    "        return nn.LogSoftmax(dim=1)(self.model(x))"
   ]
  },
  {
   "cell_type": "markdown",
   "id": "92c2dd19",
   "metadata": {
    "papermill": {
     "duration": 0.003423,
     "end_time": "2022-06-17T15:38:06.320386",
     "exception": false,
     "start_time": "2022-06-17T15:38:06.316963",
     "status": "completed"
    },
    "tags": []
   },
   "source": [
    "### **Fit and Predict Helpers**"
   ]
  },
  {
   "cell_type": "code",
   "execution_count": 6,
   "id": "fe5c7402",
   "metadata": {
    "execution": {
     "iopub.execute_input": "2022-06-17T15:38:06.328931Z",
     "iopub.status.busy": "2022-06-17T15:38:06.328540Z",
     "iopub.status.idle": "2022-06-17T15:38:06.354417Z",
     "shell.execute_reply": "2022-06-17T15:38:06.353765Z"
    },
    "papermill": {
     "duration": 0.032206,
     "end_time": "2022-06-17T15:38:06.356136",
     "exception": false,
     "start_time": "2022-06-17T15:38:06.323930",
     "status": "completed"
    },
    "tags": []
   },
   "outputs": [],
   "source": [
    "def fit(model=None, \n",
    "        optimizer=None, \n",
    "        scheduler_rlrop=None,\n",
    "        scheduler_oclr=None,\n",
    "        epochs=None, \n",
    "        early_stopping_patience=None, \n",
    "        dataloaders=None, \n",
    "        fold=None, \n",
    "        save_path=None,\n",
    "        device=None,\n",
    "        verbose=False) -> tuple:\n",
    "    \n",
    "    def get_accuracy(y_pred, y_true):\n",
    "        y_pred = torch.argmax(y_pred, dim=1)\n",
    "        return torch.count_nonzero(y_pred == y_true).item() / len(y_pred)\n",
    "    \n",
    "    if verbose:\n",
    "        breaker()\n",
    "        if fold: print(f\"Training Fold {fold}...\")\n",
    "        else: print(\"Training ...\")\n",
    "        breaker()\n",
    "        \n",
    "    bestLoss, bestAccs = {\"train\" : np.inf, \"valid\" : np.inf}, {\"train\" : 0.0, \"valid\" : 0.0}\n",
    "    Losses, Accuracies, LRs = [], [], []\n",
    "    if fold: \n",
    "        ble_name = f\"ble_state_fold_{fold}.pt\"\n",
    "        bae_name = f\"bae_state_fold_{fold}.pt\"\n",
    "    else: \n",
    "        ble_name = \"ble_state.pt\"\n",
    "        bae_name = \"bae_state.pt\"\n",
    "\n",
    "    start_time = time()\n",
    "    for e in range(epochs):\n",
    "        e_st = time()\n",
    "        epochLoss, epochAccs = {\"train\" : 0.0, \"valid\" : 0.0}, {\"train\" : 0.0, \"valid\" : 0.0}\n",
    "\n",
    "        for phase in [\"train\", \"valid\"]:\n",
    "            if phase == \"train\":\n",
    "                model.train()\n",
    "            else:\n",
    "                model.eval()\n",
    "            \n",
    "            lossPerPass, accsPerPass = [], []\n",
    "\n",
    "            for X, y in dataloaders[phase]:\n",
    "                X, y = X.to(device), y.to(device).view(-1)\n",
    "\n",
    "                optimizer.zero_grad()\n",
    "                with torch.set_grad_enabled(phase == \"train\"):\n",
    "                    output = model(X)\n",
    "                    loss = torch.nn.NLLLoss()(output, y)\n",
    "                    if phase == \"train\":\n",
    "                        loss.backward()\n",
    "                        optimizer.step()\n",
    "                        if scheduler_oclr: scheduler_oclr.step()\n",
    "                lossPerPass.append(loss.item())\n",
    "                accsPerPass.append(get_accuracy(output, y))\n",
    "            epochLoss[phase] = np.mean(np.array(lossPerPass))\n",
    "            epochAccs[phase] = np.mean(np.array(accsPerPass))\n",
    "        if scheduler_oclr: LRs.append(scheduler_oclr.get_last_lr())\n",
    "        Losses.append(epochLoss)\n",
    "        Accuracies.append(epochAccs)\n",
    "        \n",
    "        if scheduler_oclr:\n",
    "            save_dict = {\"model_state_dict\"     : model.state_dict(),\n",
    "                         \"optim_state_dict\"     : optimizer.state_dict(),\n",
    "                         \"scheduler_state_dict\" : scheduler_oclr.state_dict()}\n",
    "        \n",
    "        elif scheduler_rlrop:\n",
    "            save_dict = {\"model_state_dict\"     : model.state_dict(),\n",
    "                         \"optim_state_dict\"     : optimizer.state_dict(),\n",
    "                         \"scheduler_state_dict\" : scheduler_rlrop.state_dict()}\n",
    "        \n",
    "        else:\n",
    "            save_dict = {\"model_state_dict\"     : model.state_dict(),\n",
    "                         \"optim_state_dict\"     : optimizer.state_dict()}\n",
    "        \n",
    "        if early_stopping_patience:\n",
    "            if epochLoss[\"valid\"] < bestLoss[\"valid\"]:\n",
    "                bestLoss = epochLoss\n",
    "                BLE = e + 1\n",
    "                torch.save(save_dict, os.path.join(save_path, name))\n",
    "                early_stopping_step = 0\n",
    "            else:\n",
    "                early_stopping_step += 1\n",
    "                if early_stopping_step > early_stopping_patience:\n",
    "                    print(\"\\nEarly Stopping at Epoch {}\".format(e + 1))\n",
    "                    break\n",
    "        \n",
    "        if epochLoss[\"valid\"] < bestLoss[\"valid\"]:\n",
    "            bestLoss = epochLoss\n",
    "            BLE = e + 1\n",
    "            torch.save(save_dict,os.path.join(save_path, ble_name))\n",
    "        \n",
    "        if epochAccs[\"valid\"] > bestAccs[\"valid\"]:\n",
    "            bestAccs = epochAccs\n",
    "            BAE = e + 1\n",
    "            torch.save(save_dict,os.path.join(save_path, bae_name))\n",
    "\n",
    "        \n",
    "        if scheduler_rlrop: scheduler_rlrop.step(epochLoss[\"valid\"])\n",
    "        \n",
    "        if verbose:\n",
    "            print(\"Epoch: {} | Train Loss: {:.5f} | Valid Loss: {:.5f} |\\\n",
    " Train Accs: {:.5f} | Valid Accs: {:.5f} | Time: {:.2f} seconds\".format(e+1, \n",
    "                                                                        epochLoss[\"train\"], epochLoss[\"valid\"], \n",
    "                                                                        epochAccs[\"train\"], epochAccs[\"valid\"], \n",
    "                                                                        time()-e_st))\n",
    "\n",
    "    if verbose:                                           \n",
    "        breaker()\n",
    "        print(f\"Best Validation Loss at Epoch {BLE}\")\n",
    "        breaker()\n",
    "        print(f\"Best Validation Accs at Epoch {BAE}\")\n",
    "        breaker()\n",
    "        print(\"Time Taken [{} Epochs] : {:.2f} minutes\".format(len(Losses), (time()-start_time)/60))\n",
    "    \n",
    "    return Losses, Accuracies, LRs, BLE, BAE, ble_name, bae_name\n",
    "\n",
    "\n",
    "def predict_batch(model=None, dataloader=None, path=None, device=None) -> np.ndarray:\n",
    "    model.load_state_dict(torch.load(path, map_location=device)[\"model_state_dict\"])\n",
    "    model.to(device)    \n",
    "    model.eval()\n",
    "    \n",
    "    y_pred = torch.zeros(1, 1).to(device)\n",
    "    \n",
    "    for X in dataloader:\n",
    "        X = X.to(device)\n",
    "        with torch.no_grad():\n",
    "            output = torch.argmax(torch.exp(model(X)), dim=1)\n",
    "        y_pred = torch.cat((y_pred, output.view(-1, 1)), dim=0)\n",
    "    \n",
    "    return y_pred[1:].detach().cpu().numpy()"
   ]
  },
  {
   "cell_type": "markdown",
   "id": "81685b75",
   "metadata": {
    "papermill": {
     "duration": 0.003618,
     "end_time": "2022-06-17T15:38:06.363346",
     "exception": false,
     "start_time": "2022-06-17T15:38:06.359728",
     "status": "completed"
    },
    "tags": []
   },
   "source": [
    "### **Train**"
   ]
  },
  {
   "cell_type": "code",
   "execution_count": 7,
   "id": "f566e206",
   "metadata": {
    "execution": {
     "iopub.execute_input": "2022-06-17T15:38:06.371478Z",
     "iopub.status.busy": "2022-06-17T15:38:06.371208Z",
     "iopub.status.idle": "2022-06-17T15:39:00.290794Z",
     "shell.execute_reply": "2022-06-17T15:39:00.289988Z"
    },
    "papermill": {
     "duration": 53.925928,
     "end_time": "2022-06-17T15:39:00.292906",
     "exception": false,
     "start_time": "2022-06-17T15:38:06.366978",
     "status": "completed"
    },
    "tags": []
   },
   "outputs": [],
   "source": [
    "images = np.load(f\"../input/pdc-images-{SIZE}/images-{SIZE}.npy\")\n",
    "df = pd.read_csv(\"../input/paddy-disease-classification/train.csv\")\n",
    "labels = df.label.copy().values\n",
    "labels = le.fit_transform(labels)"
   ]
  },
  {
   "cell_type": "code",
   "execution_count": 8,
   "id": "f630a8ed",
   "metadata": {
    "execution": {
     "iopub.execute_input": "2022-06-17T15:39:00.302936Z",
     "iopub.status.busy": "2022-06-17T15:39:00.302625Z",
     "iopub.status.idle": "2022-06-17T17:44:39.441673Z",
     "shell.execute_reply": "2022-06-17T17:44:39.440933Z"
    },
    "papermill": {
     "duration": 7539.146844,
     "end_time": "2022-06-17T17:44:39.443956",
     "exception": false,
     "start_time": "2022-06-17T15:39:00.297112",
     "status": "completed"
    },
    "tags": []
   },
   "outputs": [
    {
     "name": "stderr",
     "output_type": "stream",
     "text": [
      "Downloading: \"https://download.pytorch.org/models/densenet169-b2777c0a.pth\" to /root/.cache/torch/hub/checkpoints/densenet169-b2777c0a.pth\n"
     ]
    },
    {
     "data": {
      "application/vnd.jupyter.widget-view+json": {
       "model_id": "e77bc2cc06da4f14b43249f757a9ea4a",
       "version_major": 2,
       "version_minor": 0
      },
      "text/plain": [
       "  0%|          | 0.00/54.7M [00:00<?, ?B/s]"
      ]
     },
     "metadata": {},
     "output_type": "display_data"
    },
    {
     "name": "stdout",
     "output_type": "stream",
     "text": [
      "\n",
      "**************************************************\n",
      "\n",
      "Training ...\n",
      "\n",
      "**************************************************\n",
      "\n",
      "Epoch: 1 | Train Loss: 1.79378 | Valid Loss: 0.78715 | Train Accs: 0.38611 | Valid Accs: 0.75859 | Time: 223.16 seconds\n",
      "Epoch: 2 | Train Loss: 0.54963 | Valid Loss: 0.39089 | Train Accs: 0.83721 | Valid Accs: 0.88884 | Time: 215.05 seconds\n",
      "Epoch: 3 | Train Loss: 0.40175 | Valid Loss: 0.33934 | Train Accs: 0.87570 | Valid Accs: 0.90219 | Time: 216.47 seconds\n",
      "Epoch: 4 | Train Loss: 0.42989 | Valid Loss: 0.50716 | Train Accs: 0.86526 | Valid Accs: 0.83826 | Time: 214.12 seconds\n",
      "Epoch: 5 | Train Loss: 0.39960 | Valid Loss: 0.51600 | Train Accs: 0.87392 | Valid Accs: 0.84447 | Time: 213.44 seconds\n",
      "Epoch: 6 | Train Loss: 0.37504 | Valid Loss: 0.75673 | Train Accs: 0.88121 | Valid Accs: 0.77719 | Time: 212.00 seconds\n",
      "Epoch: 7 | Train Loss: 0.34198 | Valid Loss: 0.55218 | Train Accs: 0.88796 | Valid Accs: 0.82347 | Time: 210.26 seconds\n",
      "Epoch: 8 | Train Loss: 0.24822 | Valid Loss: 0.40110 | Train Accs: 0.91648 | Valid Accs: 0.87309 | Time: 212.09 seconds\n",
      "Epoch: 9 | Train Loss: 0.25663 | Valid Loss: 0.39005 | Train Accs: 0.92071 | Valid Accs: 0.87977 | Time: 212.73 seconds\n",
      "Epoch: 10 | Train Loss: 0.19920 | Valid Loss: 0.20225 | Train Accs: 0.93942 | Valid Accs: 0.93464 | Time: 211.87 seconds\n",
      "Epoch: 11 | Train Loss: 0.16185 | Valid Loss: 0.25830 | Train Accs: 0.94633 | Valid Accs: 0.92844 | Time: 212.94 seconds\n",
      "Epoch: 12 | Train Loss: 0.17818 | Valid Loss: 0.27874 | Train Accs: 0.94026 | Valid Accs: 0.92319 | Time: 211.21 seconds\n",
      "Epoch: 13 | Train Loss: 0.09923 | Valid Loss: 0.38064 | Train Accs: 0.96809 | Valid Accs: 0.89838 | Time: 211.83 seconds\n",
      "Epoch: 14 | Train Loss: 0.12063 | Valid Loss: 0.22623 | Train Accs: 0.96267 | Valid Accs: 0.93750 | Time: 213.27 seconds\n",
      "Epoch: 15 | Train Loss: 0.09750 | Valid Loss: 0.18074 | Train Accs: 0.97109 | Valid Accs: 0.95086 | Time: 214.58 seconds\n",
      "Epoch: 16 | Train Loss: 0.08114 | Valid Loss: 0.20855 | Train Accs: 0.97382 | Valid Accs: 0.94370 | Time: 213.02 seconds\n",
      "Epoch: 17 | Train Loss: 0.08187 | Valid Loss: 0.21674 | Train Accs: 0.97553 | Valid Accs: 0.94656 | Time: 212.90 seconds\n",
      "Epoch: 18 | Train Loss: 0.04737 | Valid Loss: 0.22141 | Train Accs: 0.98668 | Valid Accs: 0.94227 | Time: 215.27 seconds\n",
      "Epoch: 19 | Train Loss: 0.04358 | Valid Loss: 0.19121 | Train Accs: 0.98726 | Valid Accs: 0.95181 | Time: 215.99 seconds\n",
      "Epoch: 20 | Train Loss: 0.05205 | Valid Loss: 0.15028 | Train Accs: 0.98261 | Valid Accs: 0.95802 | Time: 216.79 seconds\n",
      "Epoch: 21 | Train Loss: 0.02082 | Valid Loss: 0.12272 | Train Accs: 0.99364 | Valid Accs: 0.96756 | Time: 217.02 seconds\n",
      "Epoch: 22 | Train Loss: 0.03580 | Valid Loss: 0.13300 | Train Accs: 0.98920 | Valid Accs: 0.96851 | Time: 216.70 seconds\n",
      "Epoch: 23 | Train Loss: 0.01792 | Valid Loss: 0.14645 | Train Accs: 0.99532 | Valid Accs: 0.96422 | Time: 211.83 seconds\n",
      "Epoch: 24 | Train Loss: 0.01220 | Valid Loss: 0.13675 | Train Accs: 0.99599 | Valid Accs: 0.97376 | Time: 216.33 seconds\n",
      "Epoch: 25 | Train Loss: 0.02074 | Valid Loss: 0.13454 | Train Accs: 0.99364 | Valid Accs: 0.97042 | Time: 216.06 seconds\n",
      "Epoch: 26 | Train Loss: 0.00889 | Valid Loss: 0.11623 | Train Accs: 0.99842 | Valid Accs: 0.97662 | Time: 217.85 seconds\n",
      "Epoch: 27 | Train Loss: 0.00644 | Valid Loss: 0.10307 | Train Accs: 0.99856 | Valid Accs: 0.97948 | Time: 216.38 seconds\n",
      "Epoch: 28 | Train Loss: 0.00327 | Valid Loss: 0.11212 | Train Accs: 0.99904 | Valid Accs: 0.97424 | Time: 217.39 seconds\n",
      "Epoch: 29 | Train Loss: 0.00196 | Valid Loss: 0.09857 | Train Accs: 0.99964 | Valid Accs: 0.97996 | Time: 218.35 seconds\n",
      "Epoch: 30 | Train Loss: 0.00075 | Valid Loss: 0.10444 | Train Accs: 0.99988 | Valid Accs: 0.97758 | Time: 215.74 seconds\n",
      "Epoch: 31 | Train Loss: 0.00069 | Valid Loss: 0.10537 | Train Accs: 0.99988 | Valid Accs: 0.97996 | Time: 215.96 seconds\n",
      "Epoch: 32 | Train Loss: 0.00052 | Valid Loss: 0.10262 | Train Accs: 0.99988 | Valid Accs: 0.98044 | Time: 216.94 seconds\n",
      "Epoch: 33 | Train Loss: 0.00040 | Valid Loss: 0.10769 | Train Accs: 1.00000 | Valid Accs: 0.97996 | Time: 215.56 seconds\n",
      "Epoch: 34 | Train Loss: 0.00043 | Valid Loss: 0.10698 | Train Accs: 1.00000 | Valid Accs: 0.98235 | Time: 216.70 seconds\n",
      "Epoch: 35 | Train Loss: 0.00034 | Valid Loss: 0.10333 | Train Accs: 1.00000 | Valid Accs: 0.98235 | Time: 215.94 seconds\n",
      "\n",
      "**************************************************\n",
      "\n",
      "Best Validation Loss at Epoch 29\n",
      "\n",
      "**************************************************\n",
      "\n",
      "Best Validation Accs at Epoch 34\n",
      "\n",
      "**************************************************\n",
      "\n",
      "Time Taken [35 Epochs] : 125.40 minutes\n",
      "\n",
      "**************************************************\n",
      "\n"
     ]
    },
    {
     "data": {
      "image/png": "[encoded data removed]",
      "text/plain": [
       "<Figure size 432x288 with 1 Axes>"
      ]
     },
     "metadata": {
      "needs_background": "light"
     },
     "output_type": "display_data"
    },
    {
     "name": "stdout",
     "output_type": "stream",
     "text": [
      "\n",
      "**************************************************\n",
      "\n"
     ]
    },
    {
     "data": {
      "image/png": "[encoded data removed]",
      "text/plain": [
       "<Figure size 432x288 with 1 Axes>"
      ]
     },
     "metadata": {
      "needs_background": "light"
     },
     "output_type": "display_data"
    },
    {
     "name": "stdout",
     "output_type": "stream",
     "text": [
      "\n",
      "**************************************************\n",
      "\n"
     ]
    },
    {
     "data": {
      "image/png": "[encoded data removed]",
      "text/plain": [
       "<Figure size 576x432 with 1 Axes>"
      ]
     },
     "metadata": {
      "needs_background": "light"
     },
     "output_type": "display_data"
    },
    {
     "name": "stdout",
     "output_type": "stream",
     "text": [
      "\n",
      "**************************************************\n",
      "\n"
     ]
    }
   ],
   "source": [
    "fold = 1\n",
    "for tr_idx, va_idx in StratifiedKFold(n_splits=cfg.n_splits, random_state=cfg.seed, shuffle=True).split(images, labels):\n",
    "    if fold == 2: break\n",
    "    fold += 1\n",
    "\n",
    "tr_images, va_images, tr_labels, va_labels = images[tr_idx], images[va_idx], labels[tr_idx], labels[va_idx]\n",
    "\n",
    "tr_data_setup = DS(tr_images, tr_labels.reshape(-1, 1), cfg.transform)\n",
    "va_data_setup = DS(va_images, va_labels.reshape(-1, 1), cfg.transform)\n",
    "\n",
    "dataloaders = {\n",
    "    \"train\" : DL(tr_data_setup, batch_size=cfg.batch_size, shuffle=True, generator=torch.manual_seed(cfg.seed)),\n",
    "    \"valid\" : DL(va_data_setup, batch_size=cfg.batch_size, shuffle=False),\n",
    "}\n",
    "\n",
    "cfg = CFG(epochs=35, batch_size=64, steps_per_epoch=len(dataloaders[\"train\"]))\n",
    "\n",
    "torch.manual_seed(cfg.seed)\n",
    "model = Model().to(cfg.device)\n",
    "optimizer = optim.Adam([p for p in model.parameters() if p.requires_grad], lr=cfg.lr, weight_decay=cfg.wd)\n",
    "scheduler_oclr = optim.lr_scheduler.OneCycleLR(optimizer=optimizer, \n",
    "                                               max_lr=cfg.max_lr, \n",
    "                                               epochs=cfg.epochs, \n",
    "                                               steps_per_epoch=cfg.steps_per_epoch,\n",
    "                                               pct_start=cfg.pct_start, \n",
    "                                               div_factor=cfg.div_factor, \n",
    "                                               final_div_factor=cfg.final_div_factor)\n",
    "# scheduler_rlrop = optim.lr_scheduler.ReduceLROnPlateau(optimizer=optimizer,\n",
    "#                                                       patience=cfg.patience,\n",
    "#                                                       eps=cfg.eps,\n",
    "#                                                       verbose=True)\n",
    "\n",
    "# scheduler_oclr = None\n",
    "scheduler_rlrop = None\n",
    "\n",
    "L, A, LR, BLE, BAE, _, _ = fit(model=model, \n",
    "                               optimizer=optimizer, \n",
    "                               scheduler_oclr=scheduler_oclr,\n",
    "                               scheduler_rlrop=scheduler_rlrop,\n",
    "                               epochs=cfg.epochs, \n",
    "                               early_stopping_patience=None, \n",
    "                               dataloaders=dataloaders, \n",
    "                               device=cfg.device,\n",
    "                               save_path=cfg.save_path,\n",
    "                               fold=None,\n",
    "                               verbose=True)\n",
    "\n",
    "breaker()\n",
    "show_loss_graphs(L)\n",
    "breaker()\n",
    "show_accuracy_graphs(A)\n",
    "breaker()\n",
    "\n",
    "if scheduler_oclr:\n",
    "    show_lr_graph(LR)\n",
    "    breaker()"
   ]
  }
 ],
 "metadata": {
  "kernelspec": {
   "display_name": "Python 3",
   "language": "python",
   "name": "python3"
  },
  "language_info": {
   "codemirror_mode": {
    "name": "ipython",
    "version": 3
   },
   "file_extension": ".py",
   "mimetype": "text/x-python",
   "name": "python",
   "nbconvert_exporter": "python",
   "pygments_lexer": "ipython3",
   "version": "3.7.12"
  },
  "papermill": {
   "default_parameters": {},
   "duration": 7605.012317,
   "end_time": "2022-06-17T17:44:41.199069",
   "environment_variables": {},
   "exception": null,
   "input_path": "__notebook__.ipynb",
   "output_path": "__notebook__.ipynb",
   "parameters": {},
   "start_time": "2022-06-17T15:37:56.186752",
   "version": "2.3.4"
  },
  "widgets": {
   "application/vnd.jupyter.widget-state+json": {
    "state": {
     "0995678e04d3459a89742930ca1a5e0d": {
      "model_module": "@jupyter-widgets/base",
      "model_module_version": "1.2.0",
      "model_name": "LayoutModel",
      "state": {
       "_model_module": "@jupyter-widgets/base",
       "_model_module_version": "1.2.0",
       "_model_name": "LayoutModel",
       "_view_count": null,
       "_view_module": "@jupyter-widgets/base",
       "_view_module_version": "1.2.0",
       "_view_name": "LayoutView",
       "align_content": null,
       "align_items": null,
       "align_self": null,
       "border": null,
       "bottom": null,
       "display": null,
       "flex": null,
       "flex_flow": null,
       "grid_area": null,
       "grid_auto_columns": null,
       "grid_auto_flow": null,
       "grid_auto_rows": null,
       "grid_column": null,
       "grid_gap": null,
       "grid_row": null,
       "grid_template_areas": null,
       "grid_template_columns": null,
       "grid_template_rows": null,
       "height": null,
       "justify_content": null,
       "justify_items": null,
       "left": null,
       "margin": null,
       "max_height": null,
       "max_width": null,
       "min_height": null,
       "min_width": null,
       "object_fit": null,
       "object_position": null,
       "order": null,
       "overflow": null,
       "overflow_x": null,
       "overflow_y": null,
       "padding": null,
       "right": null,
       "top": null,
       "visibility": null,
       "width": null
      }
     },
     "14b2e7b9ebdf4565a0a7628e649deb6a": {
      "model_module": "@jupyter-widgets/controls",
      "model_module_version": "1.5.0",
      "model_name": "ProgressStyleModel",
      "state": {
       "_model_module": "@jupyter-widgets/controls",
       "_model_module_version": "1.5.0",
       "_model_name": "ProgressStyleModel",
       "_view_count": null,
       "_view_module": "@jupyter-widgets/base",
       "_view_module_version": "1.2.0",
       "_view_name": "StyleView",
       "bar_color": null,
       "description_width": ""
      }
     },
     "319a780f8ec544ee9805e341c64c614e": {
      "model_module": "@jupyter-widgets/controls",
      "model_module_version": "1.5.0",
      "model_name": "HTMLModel",
      "state": {
       "_dom_classes": [],
       "_model_module": "@jupyter-widgets/controls",
       "_model_module_version": "1.5.0",
       "_model_name": "HTMLModel",
       "_view_count": null,
       "_view_module": "@jupyter-widgets/controls",
       "_view_module_version": "1.5.0",
       "_view_name": "HTMLView",
       "description": "",
       "description_tooltip": null,
       "layout": "IPY_MODEL_0995678e04d3459a89742930ca1a5e0d",
       "placeholder": "​",
       "style": "IPY_MODEL_d80dba6c8e48470e9d3c50c24295a995",
       "value": "100%"
      }
     },
     "5d716bfff35147af8860b6c15a006841": {
      "model_module": "@jupyter-widgets/base",
      "model_module_version": "1.2.0",
      "model_name": "LayoutModel",
      "state": {
       "_model_module": "@jupyter-widgets/base",
       "_model_module_version": "1.2.0",
       "_model_name": "LayoutModel",
       "_view_count": null,
       "_view_module": "@jupyter-widgets/base",
       "_view_module_version": "1.2.0",
       "_view_name": "LayoutView",
       "align_content": null,
       "align_items": null,
       "align_self": null,
       "border": null,
       "bottom": null,
       "display": null,
       "flex": null,
       "flex_flow": null,
       "grid_area": null,
       "grid_auto_columns": null,
       "grid_auto_flow": null,
       "grid_auto_rows": null,
       "grid_column": null,
       "grid_gap": null,
       "grid_row": null,
       "grid_template_areas": null,
       "grid_template_columns": null,
       "grid_template_rows": null,
       "height": null,
       "justify_content": null,
       "justify_items": null,
       "left": null,
       "margin": null,
       "max_height": null,
       "max_width": null,
       "min_height": null,
       "min_width": null,
       "object_fit": null,
       "object_position": null,
       "order": null,
       "overflow": null,
       "overflow_x": null,
       "overflow_y": null,
       "padding": null,
       "right": null,
       "top": null,
       "visibility": null,
       "width": null
      }
     },
     "6bc4f69746a44f83ab2f66154c6a1583": {
      "model_module": "@jupyter-widgets/base",
      "model_module_version": "1.2.0",
      "model_name": "LayoutModel",
      "state": {
       "_model_module": "@jupyter-widgets/base",
       "_model_module_version": "1.2.0",
       "_model_name": "LayoutModel",
       "_view_count": null,
       "_view_module": "@jupyter-widgets/base",
       "_view_module_version": "1.2.0",
       "_view_name": "LayoutView",
       "align_content": null,
       "align_items": null,
       "align_self": null,
       "border": null,
       "bottom": null,
       "display": null,
       "flex": null,
       "flex_flow": null,
       "grid_area": null,
       "grid_auto_columns": null,
       "grid_auto_flow": null,
       "grid_auto_rows": null,
       "grid_column": null,
       "grid_gap": null,
       "grid_row": null,
       "grid_template_areas": null,
       "grid_template_columns": null,
       "grid_template_rows": null,
       "height": null,
       "justify_content": null,
       "justify_items": null,
       "left": null,
       "margin": null,
       "max_height": null,
       "max_width": null,
       "min_height": null,
       "min_width": null,
       "object_fit": null,
       "object_position": null,
       "order": null,
       "overflow": null,
       "overflow_x": null,
       "overflow_y": null,
       "padding": null,
       "right": null,
       "top": null,
       "visibility": null,
       "width": null
      }
     },
     "b48ef61d2995434eb4783f6aad7acdee": {
      "model_module": "@jupyter-widgets/controls",
      "model_module_version": "1.5.0",
      "model_name": "DescriptionStyleModel",
      "state": {
       "_model_module": "@jupyter-widgets/controls",
       "_model_module_version": "1.5.0",
       "_model_name": "DescriptionStyleModel",
       "_view_count": null,
       "_view_module": "@jupyter-widgets/base",
       "_view_module_version": "1.2.0",
       "_view_name": "StyleView",
       "description_width": ""
      }
     },
     "b5fc210fdf6c45bb99a7d3713444182c": {
      "model_module": "@jupyter-widgets/controls",
      "model_module_version": "1.5.0",
      "model_name": "HTMLModel",
      "state": {
       "_dom_classes": [],
       "_model_module": "@jupyter-widgets/controls",
       "_model_module_version": "1.5.0",
       "_model_name": "HTMLModel",
       "_view_count": null,
       "_view_module": "@jupyter-widgets/controls",
       "_view_module_version": "1.5.0",
       "_view_name": "HTMLView",
       "description": "",
       "description_tooltip": null,
       "layout": "IPY_MODEL_6bc4f69746a44f83ab2f66154c6a1583",
       "placeholder": "​",
       "style": "IPY_MODEL_b48ef61d2995434eb4783f6aad7acdee",
       "value": " 54.7M/54.7M [00:06&lt;00:00, 11.8MB/s]"
      }
     },
     "ce5e1b3602db4a4e9cde25285c4fddbd": {
      "model_module": "@jupyter-widgets/base",
      "model_module_version": "1.2.0",
      "model_name": "LayoutModel",
      "state": {
       "_model_module": "@jupyter-widgets/base",
       "_model_module_version": "1.2.0",
       "_model_name": "LayoutModel",
       "_view_count": null,
       "_view_module": "@jupyter-widgets/base",
       "_view_module_version": "1.2.0",
       "_view_name": "LayoutView",
       "align_content": null,
       "align_items": null,
       "align_self": null,
       "border": null,
       "bottom": null,
       "display": null,
       "flex": null,
       "flex_flow": null,
       "grid_area": null,
       "grid_auto_columns": null,
       "grid_auto_flow": null,
       "grid_auto_rows": null,
       "grid_column": null,
       "grid_gap": null,
       "grid_row": null,
       "grid_template_areas": null,
       "grid_template_columns": null,
       "grid_template_rows": null,
       "height": null,
       "justify_content": null,
       "justify_items": null,
       "left": null,
       "margin": null,
       "max_height": null,
       "max_width": null,
       "min_height": null,
       "min_width": null,
       "object_fit": null,
       "object_position": null,
       "order": null,
       "overflow": null,
       "overflow_x": null,
       "overflow_y": null,
       "padding": null,
       "right": null,
       "top": null,
       "visibility": null,
       "width": null
      }
     },
     "d80dba6c8e48470e9d3c50c24295a995": {
      "model_module": "@jupyter-widgets/controls",
      "model_module_version": "1.5.0",
      "model_name": "DescriptionStyleModel",
      "state": {
       "_model_module": "@jupyter-widgets/controls",
       "_model_module_version": "1.5.0",
       "_model_name": "DescriptionStyleModel",
       "_view_count": null,
       "_view_module": "@jupyter-widgets/base",
       "_view_module_version": "1.2.0",
       "_view_name": "StyleView",
       "description_width": ""
      }
     },
     "db0386d036f148208ca05c4f5815dc02": {
      "model_module": "@jupyter-widgets/controls",
      "model_module_version": "1.5.0",
      "model_name": "FloatProgressModel",
      "state": {
       "_dom_classes": [],
       "_model_module": "@jupyter-widgets/controls",
       "_model_module_version": "1.5.0",
       "_model_name": "FloatProgressModel",
       "_view_count": null,
       "_view_module": "@jupyter-widgets/controls",
       "_view_module_version": "1.5.0",
       "_view_name": "ProgressView",
       "bar_style": "success",
       "description": "",
       "description_tooltip": null,
       "layout": "IPY_MODEL_5d716bfff35147af8860b6c15a006841",
       "max": 57365526.0,
       "min": 0.0,
       "orientation": "horizontal",
       "style": "IPY_MODEL_14b2e7b9ebdf4565a0a7628e649deb6a",
       "value": 57365526.0
      }
     },
     "e77bc2cc06da4f14b43249f757a9ea4a": {
      "model_module": "@jupyter-widgets/controls",
      "model_module_version": "1.5.0",
      "model_name": "HBoxModel",
      "state": {
       "_dom_classes": [],
       "_model_module": "@jupyter-widgets/controls",
       "_model_module_version": "1.5.0",
       "_model_name": "HBoxModel",
       "_view_count": null,
       "_view_module": "@jupyter-widgets/controls",
       "_view_module_version": "1.5.0",
       "_view_name": "HBoxView",
       "box_style": "",
       "children": [
        "IPY_MODEL_319a780f8ec544ee9805e341c64c614e",
        "IPY_MODEL_db0386d036f148208ca05c4f5815dc02",
        "IPY_MODEL_b5fc210fdf6c45bb99a7d3713444182c"
       ],
       "layout": "IPY_MODEL_ce5e1b3602db4a4e9cde25285c4fddbd"
      }
     }
    },
    "version_major": 2,
    "version_minor": 0
   }
  }
 },
 "nbformat": 4,
 "nbformat_minor": 5
}
