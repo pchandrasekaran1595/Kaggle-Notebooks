{
 "cells": [
  {
   "cell_type": "markdown",
   "id": "0e65d3e6",
   "metadata": {
    "papermill": {
     "duration": 0.004098,
     "end_time": "2022-06-26T11:22:33.590482",
     "exception": false,
     "start_time": "2022-06-26T11:22:33.586384",
     "status": "completed"
    },
    "tags": []
   },
   "source": [
    "### **Library Imports**"
   ]
  },
  {
   "cell_type": "code",
   "execution_count": 1,
   "id": "c102b5d4",
   "metadata": {
    "execution": {
     "iopub.execute_input": "2022-06-26T11:22:33.601085Z",
     "iopub.status.busy": "2022-06-26T11:22:33.600584Z",
     "iopub.status.idle": "2022-06-26T11:22:36.516276Z",
     "shell.execute_reply": "2022-06-26T11:22:36.515471Z"
    },
    "papermill": {
     "duration": 2.922188,
     "end_time": "2022-06-26T11:22:36.518513",
     "exception": false,
     "start_time": "2022-06-26T11:22:33.596325",
     "status": "completed"
    },
    "tags": []
   },
   "outputs": [],
   "source": [
    "import os\n",
    "import re\n",
    "import cv2\n",
    "import torch\n",
    "import numpy as np\n",
    "import pandas as pd\n",
    "import matplotlib.pyplot as plt\n",
    "\n",
    "from time import time\n",
    "from torch import nn, optim\n",
    "from torch.utils.data import Dataset\n",
    "from torch.utils.data import DataLoader as DL\n",
    "from torchvision import models, transforms\n",
    "\n",
    "from sklearn.preprocessing import LabelEncoder"
   ]
  },
  {
   "cell_type": "markdown",
   "id": "5911259d",
   "metadata": {
    "papermill": {
     "duration": 0.002863,
     "end_time": "2022-06-26T11:22:36.524612",
     "exception": false,
     "start_time": "2022-06-26T11:22:36.521749",
     "status": "completed"
    },
    "tags": []
   },
   "source": [
    "### **Utilities and Helpers**"
   ]
  },
  {
   "cell_type": "code",
   "execution_count": 2,
   "id": "223f0a7d",
   "metadata": {
    "execution": {
     "iopub.execute_input": "2022-06-26T11:22:36.532348Z",
     "iopub.status.busy": "2022-06-26T11:22:36.531479Z",
     "iopub.status.idle": "2022-06-26T11:22:36.596942Z",
     "shell.execute_reply": "2022-06-26T11:22:36.596236Z"
    },
    "papermill": {
     "duration": 0.070959,
     "end_time": "2022-06-26T11:22:36.598585",
     "exception": false,
     "start_time": "2022-06-26T11:22:36.527626",
     "status": "completed"
    },
    "tags": []
   },
   "outputs": [],
   "source": [
    "SEED = 42\n",
    "SIZE = 384\n",
    "FOLD = 3\n",
    "TRANSFORM = transforms.Compose([transforms.ToTensor(),\n",
    "                                transforms.Normalize([0.49699, 0.58823, 0.23049],\n",
    "                                                     [0.22591, 0.22614, 0.18264]),\n",
    "                                ])\n",
    "MODEL_PATH = f\"../input/pdc-d201-na{SIZE}f-noes-f{FOLD}/saves/ble_state.pt\"\n",
    "DEVICE = torch.device(\"cuda\" if torch.cuda.is_available() else \"cpu\")\n",
    "\n",
    "le = LabelEncoder()\n",
    "\n",
    "\n",
    "def breaker(num: int=50, char: str=\"*\") -> None:\n",
    "    print(\"\\n\" + num*char + \"\\n\")\n",
    "\n",
    "\n",
    "def get_image(path: str, size: int=224) -> np.ndarray:\n",
    "    return cv2.resize(src=cv2.cvtColor(src=cv2.imread(path, cv2.IMREAD_COLOR), code=cv2.COLOR_BGR2RGB), dsize=(size, size), interpolation=cv2.INTER_AREA)"
   ]
  },
  {
   "cell_type": "markdown",
   "id": "f92ccada",
   "metadata": {
    "papermill": {
     "duration": 0.002843,
     "end_time": "2022-06-26T11:22:36.604490",
     "exception": false,
     "start_time": "2022-06-26T11:22:36.601647",
     "status": "completed"
    },
    "tags": []
   },
   "source": [
    "### **Configuration**"
   ]
  },
  {
   "cell_type": "markdown",
   "id": "f3f103e5",
   "metadata": {
    "papermill": {
     "duration": 0.002811,
     "end_time": "2022-06-26T11:22:36.610302",
     "exception": false,
     "start_time": "2022-06-26T11:22:36.607491",
     "status": "completed"
    },
    "tags": []
   },
   "source": [
    "### **Dataset Template**"
   ]
  },
  {
   "cell_type": "code",
   "execution_count": 3,
   "id": "149e5cfa",
   "metadata": {
    "execution": {
     "iopub.execute_input": "2022-06-26T11:22:36.617305Z",
     "iopub.status.busy": "2022-06-26T11:22:36.617034Z",
     "iopub.status.idle": "2022-06-26T11:22:36.623572Z",
     "shell.execute_reply": "2022-06-26T11:22:36.622887Z"
    },
    "papermill": {
     "duration": 0.011864,
     "end_time": "2022-06-26T11:22:36.625128",
     "exception": false,
     "start_time": "2022-06-26T11:22:36.613264",
     "status": "completed"
    },
    "tags": []
   },
   "outputs": [],
   "source": [
    "class DS(Dataset):\n",
    "    def __init__(self, base_path: str, filenames: np.ndarray, size: int=224, transform=None):\n",
    "        self.base_path = base_path\n",
    "        self.filenames = filenames\n",
    "        self.size = size\n",
    "        self.transform = transform\n",
    "    \n",
    "    def __len__(self):\n",
    "        return self.filenames.shape[0]\n",
    "    \n",
    "    def __getitem__(self, idx):\n",
    "        return self.transform(get_image(os.path.join(self.base_path, self.filenames[idx]), size=self.size))"
   ]
  },
  {
   "cell_type": "markdown",
   "id": "6926306d",
   "metadata": {
    "papermill": {
     "duration": 0.002794,
     "end_time": "2022-06-26T11:22:36.630900",
     "exception": false,
     "start_time": "2022-06-26T11:22:36.628106",
     "status": "completed"
    },
    "tags": []
   },
   "source": [
    "### **Model**"
   ]
  },
  {
   "cell_type": "code",
   "execution_count": 4,
   "id": "edd32094",
   "metadata": {
    "execution": {
     "iopub.execute_input": "2022-06-26T11:22:36.637772Z",
     "iopub.status.busy": "2022-06-26T11:22:36.637522Z",
     "iopub.status.idle": "2022-06-26T11:22:36.643128Z",
     "shell.execute_reply": "2022-06-26T11:22:36.642417Z"
    },
    "papermill": {
     "duration": 0.010891,
     "end_time": "2022-06-26T11:22:36.644741",
     "exception": false,
     "start_time": "2022-06-26T11:22:36.633850",
     "status": "completed"
    },
    "tags": []
   },
   "outputs": [],
   "source": [
    "class Model(nn.Module):\n",
    "    def __init__(self):\n",
    "        super(Model, self).__init__()\n",
    "\n",
    "        self.model = models.densenet201(pretrained=False, progress=True)\n",
    "        # self.freeze()\n",
    "        self.model.classifier = nn.Linear(in_features=self.model.classifier.in_features, out_features=10)\n",
    "    \n",
    "    def freeze(self):\n",
    "        for params in self.parameters(): params.requires_grad = False\n",
    "\n",
    "    def forward(self, x):\n",
    "        return nn.LogSoftmax(dim=1)(self.model(x))"
   ]
  },
  {
   "cell_type": "markdown",
   "id": "fd222b9b",
   "metadata": {
    "papermill": {
     "duration": 0.002929,
     "end_time": "2022-06-26T11:22:36.650655",
     "exception": false,
     "start_time": "2022-06-26T11:22:36.647726",
     "status": "completed"
    },
    "tags": []
   },
   "source": [
    "### **Predict Helpers**"
   ]
  },
  {
   "cell_type": "code",
   "execution_count": 5,
   "id": "f7854778",
   "metadata": {
    "execution": {
     "iopub.execute_input": "2022-06-26T11:22:36.657731Z",
     "iopub.status.busy": "2022-06-26T11:22:36.657490Z",
     "iopub.status.idle": "2022-06-26T11:22:36.664640Z",
     "shell.execute_reply": "2022-06-26T11:22:36.663905Z"
    },
    "papermill": {
     "duration": 0.012768,
     "end_time": "2022-06-26T11:22:36.666380",
     "exception": false,
     "start_time": "2022-06-26T11:22:36.653612",
     "status": "completed"
    },
    "tags": []
   },
   "outputs": [],
   "source": [
    "def predict_batch(model=None, dataloader=None, path=None, device=None) -> np.ndarray:\n",
    "    model.load_state_dict(torch.load(path, map_location=device)[\"model_state_dict\"])\n",
    "    model.to(device)    \n",
    "    model.eval()\n",
    "    \n",
    "    y_pred = torch.zeros(1, 1).to(device)\n",
    "    \n",
    "    for X in dataloader:\n",
    "        X = X.to(device)\n",
    "        with torch.no_grad():\n",
    "            output = torch.argmax(torch.exp(model(X)), dim=1)\n",
    "        y_pred = torch.cat((y_pred, output.view(-1, 1)), dim=0)\n",
    "    \n",
    "    return y_pred[1:].detach().cpu().numpy()"
   ]
  },
  {
   "cell_type": "markdown",
   "id": "6c5b7cad",
   "metadata": {
    "papermill": {
     "duration": 0.00301,
     "end_time": "2022-06-26T11:22:36.672347",
     "exception": false,
     "start_time": "2022-06-26T11:22:36.669337",
     "status": "completed"
    },
    "tags": []
   },
   "source": [
    "### **Submission**"
   ]
  },
  {
   "cell_type": "code",
   "execution_count": 6,
   "id": "7905d4dd",
   "metadata": {
    "execution": {
     "iopub.execute_input": "2022-06-26T11:22:36.679718Z",
     "iopub.status.busy": "2022-06-26T11:22:36.679480Z",
     "iopub.status.idle": "2022-06-26T11:23:59.473699Z",
     "shell.execute_reply": "2022-06-26T11:23:59.472909Z"
    },
    "papermill": {
     "duration": 82.800208,
     "end_time": "2022-06-26T11:23:59.475856",
     "exception": false,
     "start_time": "2022-06-26T11:22:36.675648",
     "status": "completed"
    },
    "tags": []
   },
   "outputs": [],
   "source": [
    "df = pd.read_csv(\"../input/paddy-disease-classification/train.csv\")\n",
    "ss_df = pd.read_csv(\"../input/paddy-disease-classification/sample_submission.csv\")\n",
    "\n",
    "labels = df.label.copy().values\n",
    "labels = le.fit_transform(labels)\n",
    "\n",
    "ts_data_setup = DS(base_path=\"../input/paddy-disease-classification/test_images\", \n",
    "                   filenames=ss_df.image_id.copy().values,\n",
    "                   size=SIZE,\n",
    "                   transform=TRANSFORM)\n",
    "ts_data = DL(ts_data_setup, batch_size=64, shuffle=False)\n",
    "\n",
    "model = Model().to(DEVICE)\n",
    "\n",
    "y_pred = predict_batch(model=model, \n",
    "                       dataloader=ts_data, \n",
    "                       path=MODEL_PATH,\n",
    "                       device=DEVICE)\n",
    "\n",
    "ss_df[\"label\"] = le.inverse_transform(y_pred.astype(\"uint8\").reshape(-1))\n",
    "ss_df.to_csv(\"submission.csv\", index=False)"
   ]
  }
 ],
 "metadata": {
  "kernelspec": {
   "display_name": "Python 3",
   "language": "python",
   "name": "python3"
  },
  "language_info": {
   "codemirror_mode": {
    "name": "ipython",
    "version": 3
   },
   "file_extension": ".py",
   "mimetype": "text/x-python",
   "name": "python",
   "nbconvert_exporter": "python",
   "pygments_lexer": "ipython3",
   "version": "3.7.12"
  },
  "papermill": {
   "default_parameters": {},
   "duration": 95.145129,
   "end_time": "2022-06-26T11:24:00.800512",
   "environment_variables": {},
   "exception": null,
   "input_path": "__notebook__.ipynb",
   "output_path": "__notebook__.ipynb",
   "parameters": {},
   "start_time": "2022-06-26T11:22:25.655383",
   "version": "2.3.4"
  }
 },
 "nbformat": 4,
 "nbformat_minor": 5
}
