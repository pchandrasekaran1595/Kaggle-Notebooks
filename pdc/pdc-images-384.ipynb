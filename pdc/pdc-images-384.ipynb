{
 "cells": [
  {
   "cell_type": "markdown",
   "id": "52834250",
   "metadata": {
    "_cell_guid": "b1076dfc-b9ad-4769-8c92-a6c4dae69d19",
    "_uuid": "8f2839f25d086af736a60e9eeb907d3b93b6e0e5",
    "execution": {
     "iopub.execute_input": "2022-06-13T20:48:07.937123Z",
     "iopub.status.busy": "2022-06-13T20:48:07.936137Z",
     "iopub.status.idle": "2022-06-13T20:48:07.944469Z",
     "shell.execute_reply": "2022-06-13T20:48:07.942957Z",
     "shell.execute_reply.started": "2022-06-13T20:48:07.937067Z"
    },
    "papermill": {
     "duration": 0.003686,
     "end_time": "2022-06-14T04:53:54.665021",
     "exception": false,
     "start_time": "2022-06-14T04:53:54.661335",
     "status": "completed"
    },
    "tags": []
   },
   "source": [
    "### **Library Imports**"
   ]
  },
  {
   "cell_type": "code",
   "execution_count": 1,
   "id": "aca70276",
   "metadata": {
    "execution": {
     "iopub.execute_input": "2022-06-14T04:53:54.675885Z",
     "iopub.status.busy": "2022-06-14T04:53:54.675286Z",
     "iopub.status.idle": "2022-06-14T04:53:54.887265Z",
     "shell.execute_reply": "2022-06-14T04:53:54.886380Z"
    },
    "papermill": {
     "duration": 0.219114,
     "end_time": "2022-06-14T04:53:54.889739",
     "exception": false,
     "start_time": "2022-06-14T04:53:54.670625",
     "status": "completed"
    },
    "tags": []
   },
   "outputs": [],
   "source": [
    "import os\n",
    "import cv2\n",
    "import random as r\n",
    "import numpy as np\n",
    "import pandas as pd\n",
    "import matplotlib.pyplot as plt\n",
    "\n",
    "\n",
    "TRAIN_IMAGE_BASE_PATH = \"../input/paddy-disease-classification/train_images\"\n",
    "SIZE = 384"
   ]
  },
  {
   "cell_type": "markdown",
   "id": "d90db4f8",
   "metadata": {
    "papermill": {
     "duration": 0.002539,
     "end_time": "2022-06-14T04:53:54.895260",
     "exception": false,
     "start_time": "2022-06-14T04:53:54.892721",
     "status": "completed"
    },
    "tags": []
   },
   "source": [
    "### **Helpers**"
   ]
  },
  {
   "cell_type": "code",
   "execution_count": 2,
   "id": "d57384f5",
   "metadata": {
    "execution": {
     "iopub.execute_input": "2022-06-14T04:53:54.902326Z",
     "iopub.status.busy": "2022-06-14T04:53:54.901968Z",
     "iopub.status.idle": "2022-06-14T04:53:54.912658Z",
     "shell.execute_reply": "2022-06-14T04:53:54.911733Z"
    },
    "papermill": {
     "duration": 0.016647,
     "end_time": "2022-06-14T04:53:54.914575",
     "exception": false,
     "start_time": "2022-06-14T04:53:54.897928",
     "status": "completed"
    },
    "tags": []
   },
   "outputs": [],
   "source": [
    "def breaker(num: int = 50, char: str = \"*\") -> None:\n",
    "    print(\"\\n\" + num*char + \"\\n\")\n",
    "\n",
    "\n",
    "def get_image(path: str, size: int=224) -> np.ndarray:\n",
    "    return cv2.resize(src=cv2.cvtColor(src=cv2.imread(path, cv2.IMREAD_COLOR), code=cv2.COLOR_BGR2RGB), dsize=(size, size), interpolation=cv2.INTER_AREA)\n",
    "\n",
    "\n",
    "def get_images(path: str, names: np.ndarray, size: int) -> np.ndarray:\n",
    "    images = np.zeros((len(names), size, size, 3), dtype=np.uint8)\n",
    "    \n",
    "    i = 0\n",
    "    for name in names:\n",
    "        images[i] = get_image(os.path.join(path, name), size)\n",
    "        i += 1\n",
    "    return images\n",
    "\n",
    "\n",
    "def get_statistics(images: list, size: int=224) -> None:\n",
    "    print(f\"Statistics {size}x{size}\\n\")\n",
    "    \n",
    "    for i in range(3):\n",
    "        mean, std = 0.0, 0.0\n",
    "        for j in range(len(images)):\n",
    "            mean += images[j][:, :, i].mean()\n",
    "            std += images[j][:, :, i].std()\n",
    "            \n",
    "        if i == 0:\n",
    "            print(f\"Red Channel Mean   : {mean / len(images) / 255:.5f}\")\n",
    "            print(f\"Red Channel Std    : {std / len(images) / 255:.5f}\")\n",
    "\n",
    "        if i == 1:\n",
    "            print(f\"\\nGreen Channel Mean : {mean / len(images) / 255:.5f}\")\n",
    "            print(f\"Green Channel Std  : {std / len(images) / 255:.5f}\")\n",
    "\n",
    "        if i == 2:\n",
    "            print(f\"\\nBlue Channel Mean  : {mean / len(images) / 255:.5f}\")\n",
    "            print(f\"Blue Channel Std   : {std / len(images) / 255:.5f}\")"
   ]
  },
  {
   "cell_type": "markdown",
   "id": "ce40d931",
   "metadata": {
    "papermill": {
     "duration": 0.002524,
     "end_time": "2022-06-14T04:53:54.920002",
     "exception": false,
     "start_time": "2022-06-14T04:53:54.917478",
     "status": "completed"
    },
    "tags": []
   },
   "source": [
    "### **Get Images**"
   ]
  },
  {
   "cell_type": "code",
   "execution_count": 3,
   "id": "be13d02d",
   "metadata": {
    "execution": {
     "iopub.execute_input": "2022-06-14T04:53:54.927070Z",
     "iopub.status.busy": "2022-06-14T04:53:54.926716Z",
     "iopub.status.idle": "2022-06-14T04:53:54.964729Z",
     "shell.execute_reply": "2022-06-14T04:53:54.963810Z"
    },
    "papermill": {
     "duration": 0.043959,
     "end_time": "2022-06-14T04:53:54.966742",
     "exception": false,
     "start_time": "2022-06-14T04:53:54.922783",
     "status": "completed"
    },
    "tags": []
   },
   "outputs": [
    {
     "data": {
      "text/html": [
       "<div>\n",
       "<style scoped>\n",
       "    .dataframe tbody tr th:only-of-type {\n",
       "        vertical-align: middle;\n",
       "    }\n",
       "\n",
       "    .dataframe tbody tr th {\n",
       "        vertical-align: top;\n",
       "    }\n",
       "\n",
       "    .dataframe thead th {\n",
       "        text-align: right;\n",
       "    }\n",
       "</style>\n",
       "<table border=\"1\" class=\"dataframe\">\n",
       "  <thead>\n",
       "    <tr style=\"text-align: right;\">\n",
       "      <th></th>\n",
       "      <th>image_id</th>\n",
       "      <th>label</th>\n",
       "      <th>variety</th>\n",
       "      <th>age</th>\n",
       "    </tr>\n",
       "  </thead>\n",
       "  <tbody>\n",
       "    <tr>\n",
       "      <th>0</th>\n",
       "      <td>100330.jpg</td>\n",
       "      <td>bacterial_leaf_blight</td>\n",
       "      <td>ADT45</td>\n",
       "      <td>45</td>\n",
       "    </tr>\n",
       "    <tr>\n",
       "      <th>1</th>\n",
       "      <td>100365.jpg</td>\n",
       "      <td>bacterial_leaf_blight</td>\n",
       "      <td>ADT45</td>\n",
       "      <td>45</td>\n",
       "    </tr>\n",
       "    <tr>\n",
       "      <th>2</th>\n",
       "      <td>100382.jpg</td>\n",
       "      <td>bacterial_leaf_blight</td>\n",
       "      <td>ADT45</td>\n",
       "      <td>45</td>\n",
       "    </tr>\n",
       "    <tr>\n",
       "      <th>3</th>\n",
       "      <td>100632.jpg</td>\n",
       "      <td>bacterial_leaf_blight</td>\n",
       "      <td>ADT45</td>\n",
       "      <td>45</td>\n",
       "    </tr>\n",
       "    <tr>\n",
       "      <th>4</th>\n",
       "      <td>101918.jpg</td>\n",
       "      <td>bacterial_leaf_blight</td>\n",
       "      <td>ADT45</td>\n",
       "      <td>45</td>\n",
       "    </tr>\n",
       "  </tbody>\n",
       "</table>\n",
       "</div>"
      ],
      "text/plain": [
       "     image_id                  label variety  age\n",
       "0  100330.jpg  bacterial_leaf_blight   ADT45   45\n",
       "1  100365.jpg  bacterial_leaf_blight   ADT45   45\n",
       "2  100382.jpg  bacterial_leaf_blight   ADT45   45\n",
       "3  100632.jpg  bacterial_leaf_blight   ADT45   45\n",
       "4  101918.jpg  bacterial_leaf_blight   ADT45   45"
      ]
     },
     "execution_count": 3,
     "metadata": {},
     "output_type": "execute_result"
    }
   ],
   "source": [
    "df = pd.read_csv(\"../input/paddy-disease-classification/train.csv\")\n",
    "df.head(5)"
   ]
  },
  {
   "cell_type": "code",
   "execution_count": 4,
   "id": "c3ad576d",
   "metadata": {
    "execution": {
     "iopub.execute_input": "2022-06-14T04:53:54.974310Z",
     "iopub.status.busy": "2022-06-14T04:53:54.973918Z",
     "iopub.status.idle": "2022-06-14T04:57:04.383778Z",
     "shell.execute_reply": "2022-06-14T04:57:04.382813Z"
    },
    "papermill": {
     "duration": 189.416766,
     "end_time": "2022-06-14T04:57:04.386609",
     "exception": false,
     "start_time": "2022-06-14T04:53:54.969843",
     "status": "completed"
    },
    "tags": []
   },
   "outputs": [],
   "source": [
    "sorted_labels = sorted(list(set(df.label)))\n",
    "\n",
    "i = 0\n",
    "\n",
    "images = np.zeros((1, SIZE, SIZE, 3), dtype=np.uint8)\n",
    "\n",
    "for label in sorted_labels:\n",
    "    names = df[df.label == label][\"image_id\"].copy().values\n",
    "    temp  = get_images(os.path.join(TRAIN_IMAGE_BASE_PATH, label), names, SIZE)\n",
    "    images = np.concatenate((images, temp), axis=0)\n",
    "\n",
    "images = images[1:]\n",
    "np.save(f\"images-{SIZE}.npy\", images)"
   ]
  },
  {
   "cell_type": "markdown",
   "id": "979fe676",
   "metadata": {
    "papermill": {
     "duration": 0.343149,
     "end_time": "2022-06-14T04:57:05.607212",
     "exception": false,
     "start_time": "2022-06-14T04:57:05.264063",
     "status": "completed"
    },
    "tags": []
   },
   "source": [
    "### **Test**"
   ]
  },
  {
   "cell_type": "code",
   "execution_count": 5,
   "id": "376f2908",
   "metadata": {
    "execution": {
     "iopub.execute_input": "2022-06-14T04:57:05.704172Z",
     "iopub.status.busy": "2022-06-14T04:57:05.701961Z",
     "iopub.status.idle": "2022-06-14T04:57:05.783790Z",
     "shell.execute_reply": "2022-06-14T04:57:05.782770Z"
    },
    "papermill": {
     "duration": 0.092282,
     "end_time": "2022-06-14T04:57:05.786491",
     "exception": false,
     "start_time": "2022-06-14T04:57:05.694209",
     "status": "completed"
    },
    "tags": []
   },
   "outputs": [],
   "source": [
    "index = r.randint(0, images.shape[0]-1)\n",
    "\n",
    "test_1 = get_image(os.path.join(f\"../input/paddy-disease-classification/train_images/{df.label.iloc[index]}\", df.image_id.iloc[index]))\n",
    "test_2 = images[index]\n",
    "\n",
    "num_samples = 1000\n",
    "for _ in range(num_samples): assert test_1.all() == test_2.all()"
   ]
  },
  {
   "cell_type": "markdown",
   "id": "3c6dacbf",
   "metadata": {
    "papermill": {
     "duration": 0.011467,
     "end_time": "2022-06-14T04:57:05.827059",
     "exception": false,
     "start_time": "2022-06-14T04:57:05.815592",
     "status": "completed"
    },
    "tags": []
   },
   "source": [
    "### **Statistics**"
   ]
  },
  {
   "cell_type": "code",
   "execution_count": 6,
   "id": "b5a11317",
   "metadata": {
    "execution": {
     "iopub.execute_input": "2022-06-14T04:57:06.027497Z",
     "iopub.status.busy": "2022-06-14T04:57:06.024124Z",
     "iopub.status.idle": "2022-06-14T04:57:28.918610Z",
     "shell.execute_reply": "2022-06-14T04:57:28.917630Z"
    },
    "papermill": {
     "duration": 22.998957,
     "end_time": "2022-06-14T04:57:28.920582",
     "exception": false,
     "start_time": "2022-06-14T04:57:05.921625",
     "status": "completed"
    },
    "tags": []
   },
   "outputs": [
    {
     "name": "stdout",
     "output_type": "stream",
     "text": [
      "\n",
      "**************************************************\n",
      "\n",
      "Statistics 384x384\n",
      "\n",
      "Red Channel Mean   : 0.49699\n",
      "Red Channel Std    : 0.22591\n",
      "\n",
      "Green Channel Mean : 0.58823\n",
      "Green Channel Std  : 0.22614\n",
      "\n",
      "Blue Channel Mean  : 0.23049\n",
      "Blue Channel Std   : 0.18264\n",
      "\n",
      "**************************************************\n",
      "\n"
     ]
    }
   ],
   "source": [
    "breaker()\n",
    "get_statistics(images=list(images), size=SIZE)\n",
    "breaker()"
   ]
  }
 ],
 "metadata": {
  "kernelspec": {
   "display_name": "Python 3",
   "language": "python",
   "name": "python3"
  },
  "language_info": {
   "codemirror_mode": {
    "name": "ipython",
    "version": 3
   },
   "file_extension": ".py",
   "mimetype": "text/x-python",
   "name": "python",
   "nbconvert_exporter": "python",
   "pygments_lexer": "ipython3",
   "version": "3.7.12"
  },
  "papermill": {
   "default_parameters": {},
   "duration": 223.728461,
   "end_time": "2022-06-14T04:57:29.645698",
   "environment_variables": {},
   "exception": null,
   "input_path": "__notebook__.ipynb",
   "output_path": "__notebook__.ipynb",
   "parameters": {},
   "start_time": "2022-06-14T04:53:45.917237",
   "version": "2.3.4"
  }
 },
 "nbformat": 4,
 "nbformat_minor": 5
}
