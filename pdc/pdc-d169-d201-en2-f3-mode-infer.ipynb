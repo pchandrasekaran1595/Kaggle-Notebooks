{
 "cells": [
  {
   "cell_type": "markdown",
   "id": "53e9cc42",
   "metadata": {
    "papermill": {
     "duration": 0.004919,
     "end_time": "2022-07-06T11:17:41.704421",
     "exception": false,
     "start_time": "2022-07-06T11:17:41.699502",
     "status": "completed"
    },
    "tags": []
   },
   "source": [
    "### **Setup**"
   ]
  },
  {
   "cell_type": "code",
   "execution_count": 1,
   "id": "19b86dcd",
   "metadata": {
    "execution": {
     "iopub.execute_input": "2022-07-06T11:17:41.715937Z",
     "iopub.status.busy": "2022-07-06T11:17:41.715124Z",
     "iopub.status.idle": "2022-07-06T11:17:52.820743Z",
     "shell.execute_reply": "2022-07-06T11:17:52.819761Z"
    },
    "papermill": {
     "duration": 11.112959,
     "end_time": "2022-07-06T11:17:52.823186",
     "exception": false,
     "start_time": "2022-07-06T11:17:41.710227",
     "status": "completed"
    },
    "tags": []
   },
   "outputs": [
    {
     "name": "stderr",
     "output_type": "stream",
     "text": [
      "WARNING: Running pip as the 'root' user can result in broken permissions and conflicting behaviour with the system package manager. It is recommended to use a virtual environment instead: https://pip.pypa.io/warnings/venv\n"
     ]
    }
   ],
   "source": [
    "%%bash\n",
    "pip install timm -q"
   ]
  },
  {
   "cell_type": "markdown",
   "id": "5be52fb6",
   "metadata": {
    "papermill": {
     "duration": 0.003556,
     "end_time": "2022-07-06T11:17:52.830748",
     "exception": false,
     "start_time": "2022-07-06T11:17:52.827192",
     "status": "completed"
    },
    "tags": []
   },
   "source": [
    "### **Library Imports**"
   ]
  },
  {
   "cell_type": "code",
   "execution_count": 2,
   "id": "364356a6",
   "metadata": {
    "execution": {
     "iopub.execute_input": "2022-07-06T11:17:52.839955Z",
     "iopub.status.busy": "2022-07-06T11:17:52.839607Z",
     "iopub.status.idle": "2022-07-06T11:18:01.038177Z",
     "shell.execute_reply": "2022-07-06T11:18:01.037234Z"
    },
    "papermill": {
     "duration": 8.206003,
     "end_time": "2022-07-06T11:18:01.040454",
     "exception": false,
     "start_time": "2022-07-06T11:17:52.834451",
     "status": "completed"
    },
    "tags": []
   },
   "outputs": [],
   "source": [
    "import os\n",
    "import re\n",
    "import cv2\n",
    "import timm\n",
    "import torch\n",
    "import numpy as np\n",
    "import pandas as pd\n",
    "import matplotlib.pyplot as plt\n",
    "\n",
    "from time import time\n",
    "from torch import nn, optim\n",
    "from torch.utils.data import Dataset\n",
    "from torch.utils.data import DataLoader as DL\n",
    "from torchvision import models, transforms\n",
    "\n",
    "from sklearn.preprocessing import LabelEncoder"
   ]
  },
  {
   "cell_type": "markdown",
   "id": "fd409b01",
   "metadata": {
    "papermill": {
     "duration": 0.003328,
     "end_time": "2022-07-06T11:18:01.047485",
     "exception": false,
     "start_time": "2022-07-06T11:18:01.044157",
     "status": "completed"
    },
    "tags": []
   },
   "source": [
    "### **Utilities and Helpers**"
   ]
  },
  {
   "cell_type": "code",
   "execution_count": 3,
   "id": "dc2bc9fd",
   "metadata": {
    "execution": {
     "iopub.execute_input": "2022-07-06T11:18:01.056520Z",
     "iopub.status.busy": "2022-07-06T11:18:01.055764Z",
     "iopub.status.idle": "2022-07-06T11:18:01.120747Z",
     "shell.execute_reply": "2022-07-06T11:18:01.119958Z"
    },
    "papermill": {
     "duration": 0.071228,
     "end_time": "2022-07-06T11:18:01.122455",
     "exception": false,
     "start_time": "2022-07-06T11:18:01.051227",
     "status": "completed"
    },
    "tags": []
   },
   "outputs": [],
   "source": [
    "SEED = 42\n",
    "SIZE = 384\n",
    "FOLD = 3\n",
    "\n",
    "TRANSFORM = transforms.Compose([transforms.ToTensor(),\n",
    "                                transforms.Normalize([0.49699, 0.58823, 0.23049],\n",
    "                                                     [0.22591, 0.22614, 0.18264]),\n",
    "                                ])\n",
    "\n",
    "MODEL_PATH_1 = f\"../input/pdc-d169-na{SIZE}f-noes-f{FOLD}/saves/ble_state.pt\"\n",
    "MODEL_PATH_2 = f\"../input/pdc-d201-na{SIZE}f-noes-f{FOLD}/saves/ble_state.pt\"\n",
    "MODEL_PATH_3 = f\"../input/pdc-en2-na{SIZE}f-noes-f{FOLD}/saves/ble_state.pt\"\n",
    "\n",
    "DEVICE = torch.device(\"cuda\" if torch.cuda.is_available() else \"cpu\")\n",
    "\n",
    "le = LabelEncoder()\n",
    "\n",
    "\n",
    "def breaker(num: int=50, char: str=\"*\") -> None:\n",
    "    print(\"\\n\" + num*char + \"\\n\")\n",
    "\n",
    "\n",
    "def get_image(path: str, size: int=224) -> np.ndarray:\n",
    "    return cv2.resize(src=cv2.cvtColor(src=cv2.imread(path, cv2.IMREAD_COLOR), code=cv2.COLOR_BGR2RGB), dsize=(size, size), interpolation=cv2.INTER_AREA)"
   ]
  },
  {
   "cell_type": "markdown",
   "id": "09fdbf86",
   "metadata": {
    "papermill": {
     "duration": 0.003405,
     "end_time": "2022-07-06T11:18:01.129665",
     "exception": false,
     "start_time": "2022-07-06T11:18:01.126260",
     "status": "completed"
    },
    "tags": []
   },
   "source": [
    "### **Configuration**"
   ]
  },
  {
   "cell_type": "markdown",
   "id": "5957d911",
   "metadata": {
    "papermill": {
     "duration": 0.003562,
     "end_time": "2022-07-06T11:18:01.136986",
     "exception": false,
     "start_time": "2022-07-06T11:18:01.133424",
     "status": "completed"
    },
    "tags": []
   },
   "source": [
    "### **Dataset Template**"
   ]
  },
  {
   "cell_type": "code",
   "execution_count": 4,
   "id": "2dee3c13",
   "metadata": {
    "execution": {
     "iopub.execute_input": "2022-07-06T11:18:01.144856Z",
     "iopub.status.busy": "2022-07-06T11:18:01.144580Z",
     "iopub.status.idle": "2022-07-06T11:18:01.150565Z",
     "shell.execute_reply": "2022-07-06T11:18:01.149875Z"
    },
    "papermill": {
     "duration": 0.011838,
     "end_time": "2022-07-06T11:18:01.152336",
     "exception": false,
     "start_time": "2022-07-06T11:18:01.140498",
     "status": "completed"
    },
    "tags": []
   },
   "outputs": [],
   "source": [
    "class DS(Dataset):\n",
    "    def __init__(self, base_path: str, filenames: np.ndarray, size: int=224, transform=None):\n",
    "        self.base_path = base_path\n",
    "        self.filenames = filenames\n",
    "        self.size = size\n",
    "        self.transform = transform\n",
    "    \n",
    "    def __len__(self):\n",
    "        return self.filenames.shape[0]\n",
    "    \n",
    "    def __getitem__(self, idx):\n",
    "        return self.transform(get_image(os.path.join(self.base_path, self.filenames[idx]), size=self.size))"
   ]
  },
  {
   "cell_type": "markdown",
   "id": "8d9f5a38",
   "metadata": {
    "papermill": {
     "duration": 0.003306,
     "end_time": "2022-07-06T11:18:01.158976",
     "exception": false,
     "start_time": "2022-07-06T11:18:01.155670",
     "status": "completed"
    },
    "tags": []
   },
   "source": [
    "### **Model**"
   ]
  },
  {
   "cell_type": "code",
   "execution_count": 5,
   "id": "0c230fb9",
   "metadata": {
    "execution": {
     "iopub.execute_input": "2022-07-06T11:18:01.166905Z",
     "iopub.status.busy": "2022-07-06T11:18:01.166646Z",
     "iopub.status.idle": "2022-07-06T11:18:01.174922Z",
     "shell.execute_reply": "2022-07-06T11:18:01.174132Z"
    },
    "papermill": {
     "duration": 0.0141,
     "end_time": "2022-07-06T11:18:01.176578",
     "exception": false,
     "start_time": "2022-07-06T11:18:01.162478",
     "status": "completed"
    },
    "tags": []
   },
   "outputs": [],
   "source": [
    "class Model(nn.Module):\n",
    "    def __init__(self, model_name=\"densenet\"):\n",
    "        super(Model, self).__init__()\n",
    "\n",
    "        if model_name == \"densenet169\":\n",
    "            self.model = models.densenet169(pretrained=False, progress=True)\n",
    "            # self.freeze()\n",
    "            self.model.classifier = nn.Linear(in_features=self.model.classifier.in_features, out_features=10)\n",
    "        \n",
    "        elif model_name == \"densenet201\":\n",
    "            self.model = models.densenet201(pretrained=False, progress=True)\n",
    "            # self.freeze()\n",
    "            self.model.classifier = nn.Linear(in_features=self.model.classifier.in_features, out_features=10)\n",
    "            \n",
    "        else:\n",
    "            self.model = timm.create_model(model_name=\"efficientnet_b2\", pretrained=False)\n",
    "            # self.freeze()\n",
    "            self.model.classifier = nn.Linear(in_features=self.model.classifier.in_features, out_features=10)\n",
    "    \n",
    "    def freeze(self):\n",
    "        for params in self.parameters(): params.requires_grad = False\n",
    "\n",
    "    def forward(self, x):\n",
    "        return nn.LogSoftmax(dim=1)(self.model(x))"
   ]
  },
  {
   "cell_type": "markdown",
   "id": "1825ef16",
   "metadata": {
    "papermill": {
     "duration": 0.003214,
     "end_time": "2022-07-06T11:18:01.183425",
     "exception": false,
     "start_time": "2022-07-06T11:18:01.180211",
     "status": "completed"
    },
    "tags": []
   },
   "source": [
    "### **Predict Helpers**"
   ]
  },
  {
   "cell_type": "code",
   "execution_count": 6,
   "id": "7e8056c7",
   "metadata": {
    "execution": {
     "iopub.execute_input": "2022-07-06T11:18:01.191917Z",
     "iopub.status.busy": "2022-07-06T11:18:01.191278Z",
     "iopub.status.idle": "2022-07-06T11:18:01.201883Z",
     "shell.execute_reply": "2022-07-06T11:18:01.201249Z"
    },
    "papermill": {
     "duration": 0.016797,
     "end_time": "2022-07-06T11:18:01.203617",
     "exception": false,
     "start_time": "2022-07-06T11:18:01.186820",
     "status": "completed"
    },
    "tags": []
   },
   "outputs": [],
   "source": [
    "def predict_batch(models: list=None, model_2=None, dataloader=None, paths: list=None, weights: list=None, device=None) -> np.ndarray:\n",
    "    assert len(models) == len(paths)\n",
    "    \n",
    "    for i in range(len(models)):\n",
    "        models[i].load_state_dict(torch.load(paths[i], map_location=device)[\"model_state_dict\"])\n",
    "        models[i].to(device)    \n",
    "        models[i].eval()\n",
    "    \n",
    "    y_pred = torch.zeros(1, 1).to(device)\n",
    "    \n",
    "    for X in dataloader:\n",
    "        X = X.to(device)\n",
    "        with torch.no_grad():\n",
    "            output = torch.cat((\n",
    "                torch.argmax(torch.exp(models[0](X)), dim=1).reshape(-1, 1), \n",
    "                torch.argmax(torch.exp(models[1](X)), dim=1).reshape(-1, 1), \n",
    "                torch.argmax(torch.exp(models[2](X)), dim=1).reshape(-1, 1)), \n",
    "            dim=1)\n",
    "            \n",
    "        output = torch.mode(output, dim=1)[0]\n",
    "        y_pred = torch.cat((y_pred, output.view(-1, 1)), dim=0)\n",
    "    \n",
    "    return y_pred[1:].detach().cpu().numpy()"
   ]
  },
  {
   "cell_type": "markdown",
   "id": "d8971819",
   "metadata": {
    "papermill": {
     "duration": 0.003418,
     "end_time": "2022-07-06T11:18:01.210806",
     "exception": false,
     "start_time": "2022-07-06T11:18:01.207388",
     "status": "completed"
    },
    "tags": []
   },
   "source": [
    "### **Submission**"
   ]
  },
  {
   "cell_type": "code",
   "execution_count": 7,
   "id": "14f3613e",
   "metadata": {
    "execution": {
     "iopub.execute_input": "2022-07-06T11:18:01.218791Z",
     "iopub.status.busy": "2022-07-06T11:18:01.218490Z",
     "iopub.status.idle": "2022-07-06T11:20:02.409054Z",
     "shell.execute_reply": "2022-07-06T11:20:02.408254Z"
    },
    "papermill": {
     "duration": 121.197059,
     "end_time": "2022-07-06T11:20:02.411333",
     "exception": false,
     "start_time": "2022-07-06T11:18:01.214274",
     "status": "completed"
    },
    "tags": []
   },
   "outputs": [],
   "source": [
    "df = pd.read_csv(\"../input/paddy-disease-classification/train.csv\")\n",
    "ss_df = pd.read_csv(\"../input/paddy-disease-classification/sample_submission.csv\")\n",
    "\n",
    "labels = df.label.copy().values\n",
    "labels = le.fit_transform(labels)\n",
    "\n",
    "ts_data_setup = DS(base_path=\"../input/paddy-disease-classification/test_images\", \n",
    "                   filenames=ss_df.image_id.copy().values,\n",
    "                   size=SIZE,\n",
    "                   transform=TRANSFORM)\n",
    "ts_data = DL(ts_data_setup, batch_size=64, shuffle=False)\n",
    "\n",
    "model_1 = Model(\"densenet169\").to(DEVICE)\n",
    "model_2 = Model(\"densenet201\").to(DEVICE)\n",
    "model_3 = Model(\"efficientnet\").to(DEVICE)\n",
    "\n",
    "y_pred = predict_batch(models=[model_1, model_2, model_3], \n",
    "                       dataloader=ts_data, \n",
    "                       paths=[MODEL_PATH_1, MODEL_PATH_2, MODEL_PATH_3],\n",
    "                       device=DEVICE)\n",
    "\n",
    "ss_df[\"label\"] = le.inverse_transform(y_pred.astype(\"uint8\").reshape(-1))\n",
    "ss_df.to_csv(\"submission.csv\", index=False)"
   ]
  }
 ],
 "metadata": {
  "kernelspec": {
   "display_name": "Python 3",
   "language": "python",
   "name": "python3"
  },
  "language_info": {
   "codemirror_mode": {
    "name": "ipython",
    "version": 3
   },
   "file_extension": ".py",
   "mimetype": "text/x-python",
   "name": "python",
   "nbconvert_exporter": "python",
   "pygments_lexer": "ipython3",
   "version": "3.7.12"
  },
  "papermill": {
   "default_parameters": {},
   "duration": 152.470703,
   "end_time": "2022-07-06T11:20:05.866273",
   "environment_variables": {},
   "exception": null,
   "input_path": "__notebook__.ipynb",
   "output_path": "__notebook__.ipynb",
   "parameters": {},
   "start_time": "2022-07-06T11:17:33.395570",
   "version": "2.3.4"
  }
 },
 "nbformat": 4,
 "nbformat_minor": 5
}
