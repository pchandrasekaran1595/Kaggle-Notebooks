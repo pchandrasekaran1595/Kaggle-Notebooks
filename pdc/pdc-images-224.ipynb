{
 "cells": [
  {
   "cell_type": "markdown",
   "id": "a2ebc00f",
   "metadata": {
    "_cell_guid": "b1076dfc-b9ad-4769-8c92-a6c4dae69d19",
    "_uuid": "8f2839f25d086af736a60e9eeb907d3b93b6e0e5",
    "execution": {
     "iopub.execute_input": "2022-06-13T20:48:07.937123Z",
     "iopub.status.busy": "2022-06-13T20:48:07.936137Z",
     "iopub.status.idle": "2022-06-13T20:48:07.944469Z",
     "shell.execute_reply": "2022-06-13T20:48:07.942957Z",
     "shell.execute_reply.started": "2022-06-13T20:48:07.937067Z"
    },
    "papermill": {
     "duration": 0.004846,
     "end_time": "2022-06-13T20:54:01.089050",
     "exception": false,
     "start_time": "2022-06-13T20:54:01.084204",
     "status": "completed"
    },
    "tags": []
   },
   "source": [
    "### **Library Imports**"
   ]
  },
  {
   "cell_type": "code",
   "execution_count": 1,
   "id": "4a106f79",
   "metadata": {
    "execution": {
     "iopub.execute_input": "2022-06-13T20:54:01.100868Z",
     "iopub.status.busy": "2022-06-13T20:54:01.100431Z",
     "iopub.status.idle": "2022-06-13T20:54:01.314786Z",
     "shell.execute_reply": "2022-06-13T20:54:01.313797Z"
    },
    "papermill": {
     "duration": 0.222259,
     "end_time": "2022-06-13T20:54:01.317320",
     "exception": false,
     "start_time": "2022-06-13T20:54:01.095061",
     "status": "completed"
    },
    "tags": []
   },
   "outputs": [],
   "source": [
    "import os\n",
    "import cv2\n",
    "import random as r\n",
    "import numpy as np\n",
    "import pandas as pd\n",
    "import matplotlib.pyplot as plt\n",
    "\n",
    "\n",
    "TRAIN_IMAGE_BASE_PATH = \"../input/paddy-disease-classification/train_images\"\n",
    "SIZE = 224"
   ]
  },
  {
   "cell_type": "markdown",
   "id": "307ec1ca",
   "metadata": {
    "papermill": {
     "duration": 0.003236,
     "end_time": "2022-06-13T20:54:01.324319",
     "exception": false,
     "start_time": "2022-06-13T20:54:01.321083",
     "status": "completed"
    },
    "tags": []
   },
   "source": [
    "### **Helpers**"
   ]
  },
  {
   "cell_type": "code",
   "execution_count": 2,
   "id": "33ef17c6",
   "metadata": {
    "execution": {
     "iopub.execute_input": "2022-06-13T20:54:01.333765Z",
     "iopub.status.busy": "2022-06-13T20:54:01.332995Z",
     "iopub.status.idle": "2022-06-13T20:54:01.346536Z",
     "shell.execute_reply": "2022-06-13T20:54:01.345611Z"
    },
    "papermill": {
     "duration": 0.020977,
     "end_time": "2022-06-13T20:54:01.348939",
     "exception": false,
     "start_time": "2022-06-13T20:54:01.327962",
     "status": "completed"
    },
    "tags": []
   },
   "outputs": [],
   "source": [
    "def breaker(num: int = 50, char: str = \"*\") -> None:\n",
    "    print(\"\\n\" + num*char + \"\\n\")\n",
    "\n",
    "\n",
    "def get_image(path: str, size: int=224) -> np.ndarray:\n",
    "    return cv2.resize(src=cv2.cvtColor(src=cv2.imread(path, cv2.IMREAD_COLOR), code=cv2.COLOR_BGR2RGB), dsize=(size, size), interpolation=cv2.INTER_AREA)\n",
    "\n",
    "\n",
    "def get_images(path: str, names: np.ndarray, size: int) -> np.ndarray:\n",
    "    images = np.zeros((len(names), size, size, 3), dtype=np.uint8)\n",
    "    \n",
    "    i = 0\n",
    "    for name in names:\n",
    "        images[i] = get_image(os.path.join(path, name), size)\n",
    "        i += 1\n",
    "    return images\n",
    "\n",
    "\n",
    "def get_statistics(images: list, size: int=224) -> None:\n",
    "    print(f\"Statistics {size}x{size}\\n\")\n",
    "    \n",
    "    for i in range(3):\n",
    "        mean, std = 0.0, 0.0\n",
    "        for j in range(len(images)):\n",
    "            mean += images[j][:, :, i].mean()\n",
    "            std += images[j][:, :, i].std()\n",
    "            \n",
    "        if i == 0:\n",
    "            print(f\"Red Channel Mean   : {mean / len(images) / 255:.5f}\")\n",
    "            print(f\"Red Channel Std    : {std / len(images) / 255:.5f}\")\n",
    "\n",
    "        if i == 1:\n",
    "            print(f\"\\nGreen Channel Mean : {mean / len(images) / 255:.5f}\")\n",
    "            print(f\"Green Channel Std  : {std / len(images) / 255:.5f}\")\n",
    "\n",
    "        if i == 2:\n",
    "            print(f\"\\nBlue Channel Mean  : {mean / len(images) / 255:.5f}\")\n",
    "            print(f\"Blue Channel Std   : {std / len(images) / 255:.5f}\")"
   ]
  },
  {
   "cell_type": "markdown",
   "id": "3690a7d7",
   "metadata": {
    "papermill": {
     "duration": 0.003427,
     "end_time": "2022-06-13T20:54:01.356161",
     "exception": false,
     "start_time": "2022-06-13T20:54:01.352734",
     "status": "completed"
    },
    "tags": []
   },
   "source": [
    "### **Get Images**"
   ]
  },
  {
   "cell_type": "code",
   "execution_count": 3,
   "id": "43a33c7c",
   "metadata": {
    "execution": {
     "iopub.execute_input": "2022-06-13T20:54:01.365689Z",
     "iopub.status.busy": "2022-06-13T20:54:01.364889Z",
     "iopub.status.idle": "2022-06-13T20:54:01.409118Z",
     "shell.execute_reply": "2022-06-13T20:54:01.407975Z"
    },
    "papermill": {
     "duration": 0.051738,
     "end_time": "2022-06-13T20:54:01.411536",
     "exception": false,
     "start_time": "2022-06-13T20:54:01.359798",
     "status": "completed"
    },
    "tags": []
   },
   "outputs": [
    {
     "data": {
      "text/html": [
       "<div>\n",
       "<style scoped>\n",
       "    .dataframe tbody tr th:only-of-type {\n",
       "        vertical-align: middle;\n",
       "    }\n",
       "\n",
       "    .dataframe tbody tr th {\n",
       "        vertical-align: top;\n",
       "    }\n",
       "\n",
       "    .dataframe thead th {\n",
       "        text-align: right;\n",
       "    }\n",
       "</style>\n",
       "<table border=\"1\" class=\"dataframe\">\n",
       "  <thead>\n",
       "    <tr style=\"text-align: right;\">\n",
       "      <th></th>\n",
       "      <th>image_id</th>\n",
       "      <th>label</th>\n",
       "      <th>variety</th>\n",
       "      <th>age</th>\n",
       "    </tr>\n",
       "  </thead>\n",
       "  <tbody>\n",
       "    <tr>\n",
       "      <th>0</th>\n",
       "      <td>100330.jpg</td>\n",
       "      <td>bacterial_leaf_blight</td>\n",
       "      <td>ADT45</td>\n",
       "      <td>45</td>\n",
       "    </tr>\n",
       "    <tr>\n",
       "      <th>1</th>\n",
       "      <td>100365.jpg</td>\n",
       "      <td>bacterial_leaf_blight</td>\n",
       "      <td>ADT45</td>\n",
       "      <td>45</td>\n",
       "    </tr>\n",
       "    <tr>\n",
       "      <th>2</th>\n",
       "      <td>100382.jpg</td>\n",
       "      <td>bacterial_leaf_blight</td>\n",
       "      <td>ADT45</td>\n",
       "      <td>45</td>\n",
       "    </tr>\n",
       "    <tr>\n",
       "      <th>3</th>\n",
       "      <td>100632.jpg</td>\n",
       "      <td>bacterial_leaf_blight</td>\n",
       "      <td>ADT45</td>\n",
       "      <td>45</td>\n",
       "    </tr>\n",
       "    <tr>\n",
       "      <th>4</th>\n",
       "      <td>101918.jpg</td>\n",
       "      <td>bacterial_leaf_blight</td>\n",
       "      <td>ADT45</td>\n",
       "      <td>45</td>\n",
       "    </tr>\n",
       "  </tbody>\n",
       "</table>\n",
       "</div>"
      ],
      "text/plain": [
       "     image_id                  label variety  age\n",
       "0  100330.jpg  bacterial_leaf_blight   ADT45   45\n",
       "1  100365.jpg  bacterial_leaf_blight   ADT45   45\n",
       "2  100382.jpg  bacterial_leaf_blight   ADT45   45\n",
       "3  100632.jpg  bacterial_leaf_blight   ADT45   45\n",
       "4  101918.jpg  bacterial_leaf_blight   ADT45   45"
      ]
     },
     "execution_count": 3,
     "metadata": {},
     "output_type": "execute_result"
    }
   ],
   "source": [
    "df = pd.read_csv(\"../input/paddy-disease-classification/train.csv\")\n",
    "df.head(5)"
   ]
  },
  {
   "cell_type": "code",
   "execution_count": 4,
   "id": "47cd25fd",
   "metadata": {
    "execution": {
     "iopub.execute_input": "2022-06-13T20:54:01.421276Z",
     "iopub.status.busy": "2022-06-13T20:54:01.420846Z",
     "iopub.status.idle": "2022-06-13T20:56:39.366507Z",
     "shell.execute_reply": "2022-06-13T20:56:39.365190Z"
    },
    "papermill": {
     "duration": 157.953656,
     "end_time": "2022-06-13T20:56:39.369350",
     "exception": false,
     "start_time": "2022-06-13T20:54:01.415694",
     "status": "completed"
    },
    "tags": []
   },
   "outputs": [],
   "source": [
    "sorted_labels = sorted(list(set(df.label)))\n",
    "\n",
    "i = 0\n",
    "\n",
    "images = np.zeros((1, SIZE, SIZE, 3), dtype=np.uint8)\n",
    "\n",
    "for label in sorted_labels:\n",
    "    names = df[df.label == label][\"image_id\"].copy().values\n",
    "    temp  = get_images(os.path.join(TRAIN_IMAGE_BASE_PATH, label), names, SIZE)\n",
    "    images = np.concatenate((images, temp), axis=0)\n",
    "\n",
    "images = images[1:]\n",
    "np.save(f\"images-{SIZE}.npy\", images)"
   ]
  },
  {
   "cell_type": "markdown",
   "id": "35ac759c",
   "metadata": {
    "papermill": {
     "duration": 0.003494,
     "end_time": "2022-06-13T20:56:39.377184",
     "exception": false,
     "start_time": "2022-06-13T20:56:39.373690",
     "status": "completed"
    },
    "tags": []
   },
   "source": [
    "### **Test**"
   ]
  },
  {
   "cell_type": "code",
   "execution_count": 5,
   "id": "04bc7b0f",
   "metadata": {
    "execution": {
     "iopub.execute_input": "2022-06-13T20:56:39.387153Z",
     "iopub.status.busy": "2022-06-13T20:56:39.386728Z",
     "iopub.status.idle": "2022-06-13T20:56:39.450949Z",
     "shell.execute_reply": "2022-06-13T20:56:39.449967Z"
    },
    "papermill": {
     "duration": 0.072211,
     "end_time": "2022-06-13T20:56:39.453344",
     "exception": false,
     "start_time": "2022-06-13T20:56:39.381133",
     "status": "completed"
    },
    "tags": []
   },
   "outputs": [],
   "source": [
    "index = r.randint(0, images.shape[0]-1)\n",
    "\n",
    "test_1 = get_image(os.path.join(f\"../input/paddy-disease-classification/train_images/{df.label.iloc[index]}\", df.image_id.iloc[index]))\n",
    "test_2 = images[index]\n",
    "\n",
    "num_samples = 1000\n",
    "for _ in range(num_samples): assert test_1.all() == test_2.all()"
   ]
  },
  {
   "cell_type": "markdown",
   "id": "9a10da7f",
   "metadata": {
    "papermill": {
     "duration": 0.003595,
     "end_time": "2022-06-13T20:56:39.460968",
     "exception": false,
     "start_time": "2022-06-13T20:56:39.457373",
     "status": "completed"
    },
    "tags": []
   },
   "source": [
    "### **Statistics**"
   ]
  },
  {
   "cell_type": "code",
   "execution_count": 6,
   "id": "5b8e5728",
   "metadata": {
    "execution": {
     "iopub.execute_input": "2022-06-13T20:56:39.470094Z",
     "iopub.status.busy": "2022-06-13T20:56:39.469688Z",
     "iopub.status.idle": "2022-06-13T20:56:50.092343Z",
     "shell.execute_reply": "2022-06-13T20:56:50.090862Z"
    },
    "papermill": {
     "duration": 10.631246,
     "end_time": "2022-06-13T20:56:50.095968",
     "exception": false,
     "start_time": "2022-06-13T20:56:39.464722",
     "status": "completed"
    },
    "tags": []
   },
   "outputs": [
    {
     "name": "stdout",
     "output_type": "stream",
     "text": [
      "\n",
      "**************************************************\n",
      "\n",
      "Statistics 224x224\n",
      "\n",
      "Red Channel Mean   : 0.49699\n",
      "Red Channel Std    : 0.22036\n",
      "\n",
      "Green Channel Mean : 0.58823\n",
      "Green Channel Std  : 0.22067\n",
      "\n",
      "Blue Channel Mean  : 0.23049\n",
      "Blue Channel Std   : 0.17689\n",
      "\n",
      "**************************************************\n",
      "\n"
     ]
    }
   ],
   "source": [
    "breaker()\n",
    "get_statistics(images=list(images), size=224)\n",
    "breaker()"
   ]
  }
 ],
 "metadata": {
  "kernelspec": {
   "display_name": "Python 3",
   "language": "python",
   "name": "python3"
  },
  "language_info": {
   "codemirror_mode": {
    "name": "ipython",
    "version": 3
   },
   "file_extension": ".py",
   "mimetype": "text/x-python",
   "name": "python",
   "nbconvert_exporter": "python",
   "pygments_lexer": "ipython3",
   "version": "3.7.12"
  },
  "papermill": {
   "default_parameters": {},
   "duration": 179.679666,
   "end_time": "2022-06-13T20:56:50.903236",
   "environment_variables": {},
   "exception": null,
   "input_path": "__notebook__.ipynb",
   "output_path": "__notebook__.ipynb",
   "parameters": {},
   "start_time": "2022-06-13T20:53:51.223570",
   "version": "2.3.4"
  }
 },
 "nbformat": 4,
 "nbformat_minor": 5
}
