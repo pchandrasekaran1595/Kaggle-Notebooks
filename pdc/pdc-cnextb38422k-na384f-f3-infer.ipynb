{
 "cells": [
  {
   "cell_type": "markdown",
   "id": "96738cca",
   "metadata": {
    "papermill": {
     "duration": 0.004345,
     "end_time": "2022-06-29T03:08:55.856408",
     "exception": false,
     "start_time": "2022-06-29T03:08:55.852063",
     "status": "completed"
    },
    "tags": []
   },
   "source": [
    "### **Setup**"
   ]
  },
  {
   "cell_type": "code",
   "execution_count": 1,
   "id": "2837e957",
   "metadata": {
    "execution": {
     "iopub.execute_input": "2022-06-29T03:08:55.867844Z",
     "iopub.status.busy": "2022-06-29T03:08:55.866812Z",
     "iopub.status.idle": "2022-06-29T03:09:06.688748Z",
     "shell.execute_reply": "2022-06-29T03:09:06.687828Z"
    },
    "papermill": {
     "duration": 10.828841,
     "end_time": "2022-06-29T03:09:06.690728",
     "exception": false,
     "start_time": "2022-06-29T03:08:55.861887",
     "status": "completed"
    },
    "tags": []
   },
   "outputs": [
    {
     "name": "stderr",
     "output_type": "stream",
     "text": [
      "WARNING: Running pip as the 'root' user can result in broken permissions and conflicting behaviour with the system package manager. It is recommended to use a virtual environment instead: https://pip.pypa.io/warnings/venv\n"
     ]
    }
   ],
   "source": [
    "%%bash\n",
    "pip install timm -q"
   ]
  },
  {
   "cell_type": "markdown",
   "id": "a5e8ab50",
   "metadata": {
    "papermill": {
     "duration": 0.003298,
     "end_time": "2022-06-29T03:09:06.698379",
     "exception": false,
     "start_time": "2022-06-29T03:09:06.695081",
     "status": "completed"
    },
    "tags": []
   },
   "source": [
    "### **Library Imports**"
   ]
  },
  {
   "cell_type": "code",
   "execution_count": 2,
   "id": "e0f2e84c",
   "metadata": {
    "execution": {
     "iopub.execute_input": "2022-06-29T03:09:06.706736Z",
     "iopub.status.busy": "2022-06-29T03:09:06.706444Z",
     "iopub.status.idle": "2022-06-29T03:09:14.704871Z",
     "shell.execute_reply": "2022-06-29T03:09:14.703738Z"
    },
    "papermill": {
     "duration": 8.005276,
     "end_time": "2022-06-29T03:09:14.707138",
     "exception": false,
     "start_time": "2022-06-29T03:09:06.701862",
     "status": "completed"
    },
    "tags": []
   },
   "outputs": [],
   "source": [
    "import os\n",
    "import re\n",
    "import cv2\n",
    "import timm\n",
    "import torch\n",
    "import numpy as np\n",
    "import pandas as pd\n",
    "import matplotlib.pyplot as plt\n",
    "\n",
    "from time import time\n",
    "from torch import nn, optim\n",
    "from torch.utils.data import Dataset\n",
    "from torch.utils.data import DataLoader as DL\n",
    "from torchvision import models, transforms\n",
    "\n",
    "from sklearn.preprocessing import LabelEncoder"
   ]
  },
  {
   "cell_type": "markdown",
   "id": "7b44cf30",
   "metadata": {
    "papermill": {
     "duration": 0.003257,
     "end_time": "2022-06-29T03:09:14.714107",
     "exception": false,
     "start_time": "2022-06-29T03:09:14.710850",
     "status": "completed"
    },
    "tags": []
   },
   "source": [
    "### **Utilities and Helpers**"
   ]
  },
  {
   "cell_type": "code",
   "execution_count": 3,
   "id": "71ec3cfd",
   "metadata": {
    "execution": {
     "iopub.execute_input": "2022-06-29T03:09:14.722807Z",
     "iopub.status.busy": "2022-06-29T03:09:14.722043Z",
     "iopub.status.idle": "2022-06-29T03:09:14.786450Z",
     "shell.execute_reply": "2022-06-29T03:09:14.785613Z"
    },
    "papermill": {
     "duration": 0.07058,
     "end_time": "2022-06-29T03:09:14.788095",
     "exception": false,
     "start_time": "2022-06-29T03:09:14.717515",
     "status": "completed"
    },
    "tags": []
   },
   "outputs": [],
   "source": [
    "SEED = 42\n",
    "SIZE = 384\n",
    "FOLD = 3\n",
    "TRANSFORM = transforms.Compose([transforms.ToTensor(),\n",
    "                                transforms.Normalize([0.49699, 0.58823, 0.23049],\n",
    "                                                     [0.22591, 0.22614, 0.18264]),\n",
    "                                ])\n",
    "MODEL_PATH = f\"../input/pdc-cnextb38422k-na{SIZE}f-f{FOLD}/saves/ble_state.pt\"\n",
    "DEVICE = torch.device(\"cuda\" if torch.cuda.is_available() else \"cpu\")\n",
    "\n",
    "le = LabelEncoder()\n",
    "\n",
    "\n",
    "def breaker(num: int=50, char: str=\"*\") -> None:\n",
    "    print(\"\\n\" + num*char + \"\\n\")\n",
    "\n",
    "\n",
    "def get_image(path: str, size: int=224) -> np.ndarray:\n",
    "    return cv2.resize(src=cv2.cvtColor(src=cv2.imread(path, cv2.IMREAD_COLOR), code=cv2.COLOR_BGR2RGB), dsize=(size, size), interpolation=cv2.INTER_AREA)"
   ]
  },
  {
   "cell_type": "markdown",
   "id": "c8c0e1f7",
   "metadata": {
    "papermill": {
     "duration": 0.003272,
     "end_time": "2022-06-29T03:09:14.794847",
     "exception": false,
     "start_time": "2022-06-29T03:09:14.791575",
     "status": "completed"
    },
    "tags": []
   },
   "source": [
    "### **Configuration**"
   ]
  },
  {
   "cell_type": "markdown",
   "id": "ad7c5a1c",
   "metadata": {
    "papermill": {
     "duration": 0.006652,
     "end_time": "2022-06-29T03:09:14.805101",
     "exception": false,
     "start_time": "2022-06-29T03:09:14.798449",
     "status": "completed"
    },
    "tags": []
   },
   "source": [
    "### **Dataset Template**"
   ]
  },
  {
   "cell_type": "code",
   "execution_count": 4,
   "id": "285ef06c",
   "metadata": {
    "execution": {
     "iopub.execute_input": "2022-06-29T03:09:14.818748Z",
     "iopub.status.busy": "2022-06-29T03:09:14.818457Z",
     "iopub.status.idle": "2022-06-29T03:09:14.824427Z",
     "shell.execute_reply": "2022-06-29T03:09:14.823697Z"
    },
    "papermill": {
     "duration": 0.015125,
     "end_time": "2022-06-29T03:09:14.826142",
     "exception": false,
     "start_time": "2022-06-29T03:09:14.811017",
     "status": "completed"
    },
    "tags": []
   },
   "outputs": [],
   "source": [
    "class DS(Dataset):\n",
    "    def __init__(self, base_path: str, filenames: np.ndarray, size: int=224, transform=None):\n",
    "        self.base_path = base_path\n",
    "        self.filenames = filenames\n",
    "        self.size = size\n",
    "        self.transform = transform\n",
    "    \n",
    "    def __len__(self):\n",
    "        return self.filenames.shape[0]\n",
    "    \n",
    "    def __getitem__(self, idx):\n",
    "        return self.transform(get_image(os.path.join(self.base_path, self.filenames[idx]), size=self.size))"
   ]
  },
  {
   "cell_type": "markdown",
   "id": "64dfa0d8",
   "metadata": {
    "papermill": {
     "duration": 0.003216,
     "end_time": "2022-06-29T03:09:14.832861",
     "exception": false,
     "start_time": "2022-06-29T03:09:14.829645",
     "status": "completed"
    },
    "tags": []
   },
   "source": [
    "### **Model**"
   ]
  },
  {
   "cell_type": "code",
   "execution_count": 5,
   "id": "5320596c",
   "metadata": {
    "execution": {
     "iopub.execute_input": "2022-06-29T03:09:14.840844Z",
     "iopub.status.busy": "2022-06-29T03:09:14.840523Z",
     "iopub.status.idle": "2022-06-29T03:09:14.846645Z",
     "shell.execute_reply": "2022-06-29T03:09:14.845925Z"
    },
    "papermill": {
     "duration": 0.012131,
     "end_time": "2022-06-29T03:09:14.848351",
     "exception": false,
     "start_time": "2022-06-29T03:09:14.836220",
     "status": "completed"
    },
    "tags": []
   },
   "outputs": [],
   "source": [
    "class Model(nn.Module):\n",
    "    def __init__(self):\n",
    "        super(Model, self).__init__()\n",
    "\n",
    "        self.model = timm.create_model(model_name=\"convnext_base_in22k\", pretrained=True)\n",
    "        # self.freeze()\n",
    "        self.model.head.fc = nn.Linear(in_features=self.model.head.fc.in_features, out_features=10)\n",
    "    \n",
    "    def freeze(self):\n",
    "        for params in self.parameters(): params.requires_grad = False\n",
    "\n",
    "    def forward(self, x):\n",
    "        return nn.LogSoftmax(dim=1)(self.model(x))"
   ]
  },
  {
   "cell_type": "markdown",
   "id": "3900868b",
   "metadata": {
    "papermill": {
     "duration": 0.00318,
     "end_time": "2022-06-29T03:09:14.854891",
     "exception": false,
     "start_time": "2022-06-29T03:09:14.851711",
     "status": "completed"
    },
    "tags": []
   },
   "source": [
    "### **Predict Helpers**"
   ]
  },
  {
   "cell_type": "code",
   "execution_count": 6,
   "id": "132a82b5",
   "metadata": {
    "execution": {
     "iopub.execute_input": "2022-06-29T03:09:14.862558Z",
     "iopub.status.busy": "2022-06-29T03:09:14.862316Z",
     "iopub.status.idle": "2022-06-29T03:09:14.869761Z",
     "shell.execute_reply": "2022-06-29T03:09:14.869125Z"
    },
    "papermill": {
     "duration": 0.013138,
     "end_time": "2022-06-29T03:09:14.871396",
     "exception": false,
     "start_time": "2022-06-29T03:09:14.858258",
     "status": "completed"
    },
    "tags": []
   },
   "outputs": [],
   "source": [
    "def predict_batch(model=None, dataloader=None, path=None, device=None) -> np.ndarray:\n",
    "    model.load_state_dict(torch.load(path, map_location=device)[\"model_state_dict\"])\n",
    "    model.to(device)    \n",
    "    model.eval()\n",
    "    \n",
    "    y_pred = torch.zeros(1, 1).to(device)\n",
    "    \n",
    "    for X in dataloader:\n",
    "        X = X.to(device)\n",
    "        with torch.no_grad():\n",
    "            output = torch.argmax(torch.exp(model(X)), dim=1)\n",
    "        y_pred = torch.cat((y_pred, output.view(-1, 1)), dim=0)\n",
    "    \n",
    "    return y_pred[1:].detach().cpu().numpy()"
   ]
  },
  {
   "cell_type": "markdown",
   "id": "29beae8f",
   "metadata": {
    "papermill": {
     "duration": 0.003186,
     "end_time": "2022-06-29T03:09:14.877993",
     "exception": false,
     "start_time": "2022-06-29T03:09:14.874807",
     "status": "completed"
    },
    "tags": []
   },
   "source": [
    "### **Submission**"
   ]
  },
  {
   "cell_type": "code",
   "execution_count": 7,
   "id": "a400dc93",
   "metadata": {
    "execution": {
     "iopub.execute_input": "2022-06-29T03:09:14.886129Z",
     "iopub.status.busy": "2022-06-29T03:09:14.885884Z",
     "iopub.status.idle": "2022-06-29T03:11:08.334104Z",
     "shell.execute_reply": "2022-06-29T03:11:08.333324Z"
    },
    "papermill": {
     "duration": 113.454437,
     "end_time": "2022-06-29T03:11:08.336259",
     "exception": false,
     "start_time": "2022-06-29T03:09:14.881822",
     "status": "completed"
    },
    "tags": []
   },
   "outputs": [
    {
     "name": "stderr",
     "output_type": "stream",
     "text": [
      "Downloading: \"https://dl.fbaipublicfiles.com/convnext/convnext_base_22k_224.pth\" to /root/.cache/torch/hub/checkpoints/convnext_base_22k_224.pth\n"
     ]
    }
   ],
   "source": [
    "df = pd.read_csv(\"../input/paddy-disease-classification/train.csv\")\n",
    "ss_df = pd.read_csv(\"../input/paddy-disease-classification/sample_submission.csv\")\n",
    "\n",
    "labels = df.label.copy().values\n",
    "labels = le.fit_transform(labels)\n",
    "\n",
    "ts_data_setup = DS(base_path=\"../input/paddy-disease-classification/test_images\", \n",
    "                   filenames=ss_df.image_id.copy().values,\n",
    "                   size=SIZE,\n",
    "                   transform=TRANSFORM)\n",
    "ts_data = DL(ts_data_setup, batch_size=64, shuffle=False)\n",
    "\n",
    "model = Model().to(DEVICE)\n",
    "\n",
    "y_pred = predict_batch(model=model, \n",
    "                       dataloader=ts_data, \n",
    "                       path=MODEL_PATH,\n",
    "                       device=DEVICE)\n",
    "\n",
    "ss_df[\"label\"] = le.inverse_transform(y_pred.astype(\"uint8\").reshape(-1))\n",
    "ss_df.to_csv(\"submission.csv\", index=False)"
   ]
  }
 ],
 "metadata": {
  "kernelspec": {
   "display_name": "Python 3",
   "language": "python",
   "name": "python3"
  },
  "language_info": {
   "codemirror_mode": {
    "name": "ipython",
    "version": 3
   },
   "file_extension": ".py",
   "mimetype": "text/x-python",
   "name": "python",
   "nbconvert_exporter": "python",
   "pygments_lexer": "ipython3",
   "version": "3.7.12"
  },
  "papermill": {
   "default_parameters": {},
   "duration": 144.369106,
   "end_time": "2022-06-29T03:11:11.686942",
   "environment_variables": {},
   "exception": null,
   "input_path": "__notebook__.ipynb",
   "output_path": "__notebook__.ipynb",
   "parameters": {},
   "start_time": "2022-06-29T03:08:47.317836",
   "version": "2.3.4"
  }
 },
 "nbformat": 4,
 "nbformat_minor": 5
}
