{
 "cells": [
  {
   "cell_type": "markdown",
   "id": "665b2ffa",
   "metadata": {
    "papermill": {
     "duration": 0.005112,
     "end_time": "2022-06-26T12:30:05.769278",
     "exception": false,
     "start_time": "2022-06-26T12:30:05.764166",
     "status": "completed"
    },
    "tags": []
   },
   "source": [
    "### **Setup**"
   ]
  },
  {
   "cell_type": "code",
   "execution_count": 1,
   "id": "b07f7bc8",
   "metadata": {
    "execution": {
     "iopub.execute_input": "2022-06-26T12:30:05.781731Z",
     "iopub.status.busy": "2022-06-26T12:30:05.781191Z",
     "iopub.status.idle": "2022-06-26T12:30:17.406085Z",
     "shell.execute_reply": "2022-06-26T12:30:17.404672Z"
    },
    "papermill": {
     "duration": 11.632457,
     "end_time": "2022-06-26T12:30:17.408388",
     "exception": false,
     "start_time": "2022-06-26T12:30:05.775931",
     "status": "completed"
    },
    "tags": []
   },
   "outputs": [
    {
     "name": "stderr",
     "output_type": "stream",
     "text": [
      "WARNING: Running pip as the 'root' user can result in broken permissions and conflicting behaviour with the system package manager. It is recommended to use a virtual environment instead: https://pip.pypa.io/warnings/venv\n"
     ]
    }
   ],
   "source": [
    "%%bash\n",
    "pip install timm -q"
   ]
  },
  {
   "cell_type": "markdown",
   "id": "24ebca90",
   "metadata": {
    "papermill": {
     "duration": 0.003912,
     "end_time": "2022-06-26T12:30:17.416604",
     "exception": false,
     "start_time": "2022-06-26T12:30:17.412692",
     "status": "completed"
    },
    "tags": []
   },
   "source": [
    "### **Library Imports**"
   ]
  },
  {
   "cell_type": "code",
   "execution_count": 2,
   "id": "0bf4ac26",
   "metadata": {
    "execution": {
     "iopub.execute_input": "2022-06-26T12:30:17.427270Z",
     "iopub.status.busy": "2022-06-26T12:30:17.426386Z",
     "iopub.status.idle": "2022-06-26T12:30:27.238697Z",
     "shell.execute_reply": "2022-06-26T12:30:27.237352Z"
    },
    "papermill": {
     "duration": 9.822255,
     "end_time": "2022-06-26T12:30:27.243091",
     "exception": false,
     "start_time": "2022-06-26T12:30:17.420836",
     "status": "completed"
    },
    "tags": []
   },
   "outputs": [],
   "source": [
    "import os\n",
    "import cv2\n",
    "import timm\n",
    "import torch\n",
    "import random as r\n",
    "import numpy as np\n",
    "import pandas as pd\n",
    "\n",
    "from torch import nn\n",
    "from torch.utils.data import Dataset\n",
    "from torch.utils.data import DataLoader as DL\n",
    "from torchvision import models, transforms\n",
    "\n",
    "from sklearn.preprocessing import LabelEncoder"
   ]
  },
  {
   "cell_type": "markdown",
   "id": "403717d5",
   "metadata": {
    "papermill": {
     "duration": 0.010765,
     "end_time": "2022-06-26T12:30:27.263509",
     "exception": false,
     "start_time": "2022-06-26T12:30:27.252744",
     "status": "completed"
    },
    "tags": []
   },
   "source": [
    "### **Utilities and Helpers**"
   ]
  },
  {
   "cell_type": "code",
   "execution_count": 3,
   "id": "0a48de20",
   "metadata": {
    "execution": {
     "iopub.execute_input": "2022-06-26T12:30:27.283138Z",
     "iopub.status.busy": "2022-06-26T12:30:27.281519Z",
     "iopub.status.idle": "2022-06-26T12:30:27.431852Z",
     "shell.execute_reply": "2022-06-26T12:30:27.430772Z"
    },
    "papermill": {
     "duration": 0.164951,
     "end_time": "2022-06-26T12:30:27.435486",
     "exception": false,
     "start_time": "2022-06-26T12:30:27.270535",
     "status": "completed"
    },
    "tags": []
   },
   "outputs": [],
   "source": [
    "SEED = 42\n",
    "SIZE = 384\n",
    "FOLD = 3\n",
    "TRANSFORM = transforms.Compose([transforms.ToTensor(),\n",
    "                                transforms.Normalize([0.49699, 0.58823, 0.23049],\n",
    "                                                     [0.22591, 0.22614, 0.18264]),\n",
    "                                ])\n",
    "MODEL_PATH_1 = f\"../input/pdc-d169-na{SIZE}f-noes-f{FOLD}/saves/ble_state.pt\"\n",
    "MODEL_PATH_2 = f\"../input/pdc-en2-na{SIZE}f-noes-f{FOLD}/saves/ble_state.pt\"\n",
    "\n",
    "DEVICE = torch.device(\"cuda\" if torch.cuda.is_available() else \"cpu\")\n",
    "\n",
    "le = LabelEncoder()\n",
    "\n",
    "\n",
    "def breaker(num: int=50, char: str=\"*\") -> None:\n",
    "    print(\"\\n\" + num*char + \"\\n\")\n",
    "\n",
    "\n",
    "def get_image(path: str, size: int=224) -> np.ndarray:\n",
    "    return cv2.resize(src=cv2.cvtColor(src=cv2.imread(path, cv2.IMREAD_COLOR), code=cv2.COLOR_BGR2RGB), dsize=(size, size), interpolation=cv2.INTER_AREA)"
   ]
  },
  {
   "cell_type": "markdown",
   "id": "3f418aee",
   "metadata": {
    "papermill": {
     "duration": 0.007767,
     "end_time": "2022-06-26T12:30:27.451721",
     "exception": false,
     "start_time": "2022-06-26T12:30:27.443954",
     "status": "completed"
    },
    "tags": []
   },
   "source": [
    "### **Augmenter**"
   ]
  },
  {
   "cell_type": "code",
   "execution_count": 4,
   "id": "c338a258",
   "metadata": {
    "execution": {
     "iopub.execute_input": "2022-06-26T12:30:27.469107Z",
     "iopub.status.busy": "2022-06-26T12:30:27.468658Z",
     "iopub.status.idle": "2022-06-26T12:30:27.482233Z",
     "shell.execute_reply": "2022-06-26T12:30:27.481387Z"
    },
    "papermill": {
     "duration": 0.02435,
     "end_time": "2022-06-26T12:30:27.484701",
     "exception": false,
     "start_time": "2022-06-26T12:30:27.460351",
     "status": "completed"
    },
    "tags": []
   },
   "outputs": [],
   "source": [
    "class Augmenter(object):\n",
    "    def __init__(self, seed: int=None):\n",
    "        self.seed = seed\n",
    "        if self.seed is not None: r.seed(self.seed)\n",
    "\n",
    "    def rotate_and_scale(self, image: np.ndarray, angle: float = 0.0, scale: float = 1.0) -> np.ndarray:\n",
    "        h, w, _ = image.shape\n",
    "        if angle != 0.0: angle = r.uniform(-1, 1) * angle\n",
    "        if scale != 1.0: scale = 1 + r.uniform(-scale, scale)\n",
    "        M = cv2.getRotationMatrix2D(center=(int(w/2), int(h/2)), angle=angle, scale=scale)\n",
    "        cv2.warpAffine(src=image, M=M, dsize=(w, h), dst=image)\n",
    "        return image"
   ]
  },
  {
   "cell_type": "markdown",
   "id": "fceb9c03",
   "metadata": {
    "papermill": {
     "duration": 0.006627,
     "end_time": "2022-06-26T12:30:27.498857",
     "exception": false,
     "start_time": "2022-06-26T12:30:27.492230",
     "status": "completed"
    },
    "tags": []
   },
   "source": [
    "### **Dataset Template**"
   ]
  },
  {
   "cell_type": "code",
   "execution_count": 5,
   "id": "88405644",
   "metadata": {
    "execution": {
     "iopub.execute_input": "2022-06-26T12:30:27.514460Z",
     "iopub.status.busy": "2022-06-26T12:30:27.514015Z",
     "iopub.status.idle": "2022-06-26T12:30:27.526208Z",
     "shell.execute_reply": "2022-06-26T12:30:27.525356Z"
    },
    "papermill": {
     "duration": 0.022889,
     "end_time": "2022-06-26T12:30:27.528785",
     "exception": false,
     "start_time": "2022-06-26T12:30:27.505896",
     "status": "completed"
    },
    "tags": []
   },
   "outputs": [],
   "source": [
    "class DS(Dataset):\n",
    "    def __init__(self, base_path: str, filenames: np.ndarray, size: int=224, transform=None):\n",
    "        self.base_path = base_path\n",
    "        self.filenames = filenames\n",
    "        self.size = size\n",
    "        self.transform = transform\n",
    "    \n",
    "    def __len__(self):\n",
    "        return self.filenames.shape[0]\n",
    "    \n",
    "    def __getitem__(self, idx):\n",
    "        image = get_image(os.path.join(self.base_path, self.filenames[idx]), size=self.size)\n",
    "        augmenter.rotate_and_scale(image, scale=0.25, angle=45)\n",
    "        return self.transform(image)"
   ]
  },
  {
   "cell_type": "markdown",
   "id": "349ea964",
   "metadata": {
    "papermill": {
     "duration": 0.006747,
     "end_time": "2022-06-26T12:30:27.543094",
     "exception": false,
     "start_time": "2022-06-26T12:30:27.536347",
     "status": "completed"
    },
    "tags": []
   },
   "source": [
    "### **Model**"
   ]
  },
  {
   "cell_type": "code",
   "execution_count": 6,
   "id": "f65c15e7",
   "metadata": {
    "execution": {
     "iopub.execute_input": "2022-06-26T12:30:27.558773Z",
     "iopub.status.busy": "2022-06-26T12:30:27.558270Z",
     "iopub.status.idle": "2022-06-26T12:30:27.572008Z",
     "shell.execute_reply": "2022-06-26T12:30:27.571152Z"
    },
    "papermill": {
     "duration": 0.02491,
     "end_time": "2022-06-26T12:30:27.574977",
     "exception": false,
     "start_time": "2022-06-26T12:30:27.550067",
     "status": "completed"
    },
    "tags": []
   },
   "outputs": [],
   "source": [
    "class Model(nn.Module):\n",
    "    def __init__(self, model_name=\"densenet\"):\n",
    "        super(Model, self).__init__()\n",
    "\n",
    "        if model_name == \"densenet\":\n",
    "            self.model = models.densenet169(pretrained=False, progress=True)\n",
    "            # self.freeze()\n",
    "            self.model.classifier = nn.Linear(in_features=self.model.classifier.in_features, out_features=10)\n",
    "        else:\n",
    "            self.model = timm.create_model(model_name=\"efficientnet_b2\", pretrained=False)\n",
    "            # self.freeze()\n",
    "            self.model.classifier = nn.Linear(in_features=self.model.classifier.in_features, out_features=10)\n",
    "    \n",
    "    def freeze(self):\n",
    "        for params in self.parameters(): params.requires_grad = False\n",
    "\n",
    "    def forward(self, x):\n",
    "        return nn.LogSoftmax(dim=1)(self.model(x))"
   ]
  },
  {
   "cell_type": "markdown",
   "id": "6e6fb928",
   "metadata": {
    "papermill": {
     "duration": 0.00654,
     "end_time": "2022-06-26T12:30:27.588647",
     "exception": false,
     "start_time": "2022-06-26T12:30:27.582107",
     "status": "completed"
    },
    "tags": []
   },
   "source": [
    "### **Predict Helpers**"
   ]
  },
  {
   "cell_type": "code",
   "execution_count": 7,
   "id": "8ac5bedc",
   "metadata": {
    "execution": {
     "iopub.execute_input": "2022-06-26T12:30:27.603800Z",
     "iopub.status.busy": "2022-06-26T12:30:27.603349Z",
     "iopub.status.idle": "2022-06-26T12:30:27.617429Z",
     "shell.execute_reply": "2022-06-26T12:30:27.616624Z"
    },
    "papermill": {
     "duration": 0.024655,
     "end_time": "2022-06-26T12:30:27.620038",
     "exception": false,
     "start_time": "2022-06-26T12:30:27.595383",
     "status": "completed"
    },
    "tags": []
   },
   "outputs": [],
   "source": [
    "def predict_batch(models: list=None, model_2=None, dataloader=None, paths: list=None, device=None) -> np.ndarray:\n",
    "    assert len(models) == len(paths)\n",
    "    \n",
    "    for i in range(len(models)):\n",
    "        models[i].load_state_dict(torch.load(paths[i], map_location=device)[\"model_state_dict\"])\n",
    "        models[i].to(device)    \n",
    "        models[i].eval()\n",
    "    \n",
    "    y_pred = torch.zeros(1, 1).to(device)\n",
    "    \n",
    "    for X in dataloader:\n",
    "        X = X.to(device)\n",
    "        with torch.no_grad():\n",
    "            output = torch.argmax(torch.exp(models[0](X)) + torch.exp(models[1](X)), dim=1)\n",
    "        y_pred = torch.cat((y_pred, output.view(-1, 1)), dim=0)\n",
    "    \n",
    "    return y_pred[1:].detach().cpu().numpy()"
   ]
  },
  {
   "cell_type": "markdown",
   "id": "07c4d38e",
   "metadata": {
    "papermill": {
     "duration": 0.006544,
     "end_time": "2022-06-26T12:30:27.633662",
     "exception": false,
     "start_time": "2022-06-26T12:30:27.627118",
     "status": "completed"
    },
    "tags": []
   },
   "source": [
    "### **Submission**"
   ]
  },
  {
   "cell_type": "code",
   "execution_count": 8,
   "id": "6eb9ace5",
   "metadata": {
    "execution": {
     "iopub.execute_input": "2022-06-26T12:30:27.648456Z",
     "iopub.status.busy": "2022-06-26T12:30:27.648020Z",
     "iopub.status.idle": "2022-06-26T12:36:25.757104Z",
     "shell.execute_reply": "2022-06-26T12:36:25.755998Z"
    },
    "papermill": {
     "duration": 358.119141,
     "end_time": "2022-06-26T12:36:25.759477",
     "exception": false,
     "start_time": "2022-06-26T12:30:27.640336",
     "status": "completed"
    },
    "tags": []
   },
   "outputs": [],
   "source": [
    "df = pd.read_csv(\"../input/paddy-disease-classification/train.csv\")\n",
    "ss_df = pd.read_csv(\"../input/paddy-disease-classification/sample_submission.csv\")\n",
    "\n",
    "labels = df.label.copy().values\n",
    "labels = le.fit_transform(labels)\n",
    "\n",
    "ts_data_setup = DS(base_path=\"../input/paddy-disease-classification/test_images\", \n",
    "                   filenames=ss_df.image_id.copy().values,\n",
    "                   size=SIZE,\n",
    "                   transform=TRANSFORM)\n",
    "ts_data = DL(ts_data_setup, batch_size=64, shuffle=False)\n",
    "\n",
    "model_1 = Model(\"densenet\").to(DEVICE)\n",
    "model_2 = Model(\"efficientnet\").to(DEVICE)\n",
    "\n",
    "r.seed(SEED)\n",
    "seeds = [r.randint(0, 99) for i in range(5)]\n",
    "\n",
    "y_pred = np.zeros((len(ss_df.image_id), 1))\n",
    "\n",
    "for seed in seeds:\n",
    "    augmenter = Augmenter(seed=seed)    \n",
    "    y_pred += predict_batch(models=[model_1, model_2], \n",
    "                            dataloader=ts_data, \n",
    "                            paths=[MODEL_PATH_1, MODEL_PATH_2],\n",
    "                            device=DEVICE)\n",
    "\n",
    "y_pred /= len(seeds)\n",
    "\n",
    "ss_df[\"label\"] = le.inverse_transform(y_pred.astype(\"uint8\").reshape(-1))\n",
    "ss_df.to_csv(\"submission.csv\", index=False)"
   ]
  }
 ],
 "metadata": {
  "kernelspec": {
   "display_name": "Python 3",
   "language": "python",
   "name": "python3"
  },
  "language_info": {
   "codemirror_mode": {
    "name": "ipython",
    "version": 3
   },
   "file_extension": ".py",
   "mimetype": "text/x-python",
   "name": "python",
   "nbconvert_exporter": "python",
   "pygments_lexer": "ipython3",
   "version": "3.7.12"
  },
  "papermill": {
   "default_parameters": {},
   "duration": 392.776327,
   "end_time": "2022-06-26T12:36:29.055929",
   "environment_variables": {},
   "exception": null,
   "input_path": "__notebook__.ipynb",
   "output_path": "__notebook__.ipynb",
   "parameters": {},
   "start_time": "2022-06-26T12:29:56.279602",
   "version": "2.3.4"
  }
 },
 "nbformat": 4,
 "nbformat_minor": 5
}
