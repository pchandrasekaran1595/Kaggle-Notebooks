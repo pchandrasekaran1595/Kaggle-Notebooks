{
 "cells": [
  {
   "cell_type": "markdown",
   "id": "1ab49641",
   "metadata": {
    "papermill": {
     "duration": 0.004798,
     "end_time": "2022-06-26T13:02:24.592165",
     "exception": false,
     "start_time": "2022-06-26T13:02:24.587367",
     "status": "completed"
    },
    "tags": []
   },
   "source": [
    "### **Setup**"
   ]
  },
  {
   "cell_type": "code",
   "execution_count": 1,
   "id": "6eb2c8fc",
   "metadata": {
    "execution": {
     "iopub.execute_input": "2022-06-26T13:02:24.604150Z",
     "iopub.status.busy": "2022-06-26T13:02:24.603378Z",
     "iopub.status.idle": "2022-06-26T13:02:35.109009Z",
     "shell.execute_reply": "2022-06-26T13:02:35.107328Z"
    },
    "papermill": {
     "duration": 10.513356,
     "end_time": "2022-06-26T13:02:35.111591",
     "exception": false,
     "start_time": "2022-06-26T13:02:24.598235",
     "status": "completed"
    },
    "tags": []
   },
   "outputs": [
    {
     "name": "stderr",
     "output_type": "stream",
     "text": [
      "WARNING: Running pip as the 'root' user can result in broken permissions and conflicting behaviour with the system package manager. It is recommended to use a virtual environment instead: https://pip.pypa.io/warnings/venv\n"
     ]
    }
   ],
   "source": [
    "%%bash\n",
    "pip install timm -q"
   ]
  },
  {
   "cell_type": "markdown",
   "id": "f5fc27bc",
   "metadata": {
    "papermill": {
     "duration": 0.00356,
     "end_time": "2022-06-26T13:02:35.119356",
     "exception": false,
     "start_time": "2022-06-26T13:02:35.115796",
     "status": "completed"
    },
    "tags": []
   },
   "source": [
    "### **Library Imports**"
   ]
  },
  {
   "cell_type": "code",
   "execution_count": 2,
   "id": "05a44600",
   "metadata": {
    "execution": {
     "iopub.execute_input": "2022-06-26T13:02:35.128157Z",
     "iopub.status.busy": "2022-06-26T13:02:35.127838Z",
     "iopub.status.idle": "2022-06-26T13:02:44.501051Z",
     "shell.execute_reply": "2022-06-26T13:02:44.500089Z"
    },
    "papermill": {
     "duration": 9.380636,
     "end_time": "2022-06-26T13:02:44.503806",
     "exception": false,
     "start_time": "2022-06-26T13:02:35.123170",
     "status": "completed"
    },
    "tags": []
   },
   "outputs": [],
   "source": [
    "import os\n",
    "import cv2\n",
    "import timm\n",
    "import torch\n",
    "import random as r\n",
    "import numpy as np\n",
    "import pandas as pd\n",
    "\n",
    "from torch import nn\n",
    "from torch.utils.data import Dataset\n",
    "from torch.utils.data import DataLoader as DL\n",
    "from torchvision import models, transforms\n",
    "\n",
    "from sklearn.preprocessing import LabelEncoder"
   ]
  },
  {
   "cell_type": "markdown",
   "id": "c7ce2750",
   "metadata": {
    "papermill": {
     "duration": 0.006044,
     "end_time": "2022-06-26T13:02:44.516766",
     "exception": false,
     "start_time": "2022-06-26T13:02:44.510722",
     "status": "completed"
    },
    "tags": []
   },
   "source": [
    "### **Utilities and Helpers**"
   ]
  },
  {
   "cell_type": "code",
   "execution_count": 3,
   "id": "f3b1424d",
   "metadata": {
    "execution": {
     "iopub.execute_input": "2022-06-26T13:02:44.531063Z",
     "iopub.status.busy": "2022-06-26T13:02:44.530004Z",
     "iopub.status.idle": "2022-06-26T13:02:44.638036Z",
     "shell.execute_reply": "2022-06-26T13:02:44.637105Z"
    },
    "papermill": {
     "duration": 0.117513,
     "end_time": "2022-06-26T13:02:44.640212",
     "exception": false,
     "start_time": "2022-06-26T13:02:44.522699",
     "status": "completed"
    },
    "tags": []
   },
   "outputs": [],
   "source": [
    "SEED = 42\n",
    "SIZE = 384\n",
    "FOLD = 3\n",
    "TRANSFORM = transforms.Compose([transforms.ToTensor(),\n",
    "                                transforms.Normalize([0.49699, 0.58823, 0.23049],\n",
    "                                                     [0.22591, 0.22614, 0.18264]),\n",
    "                                ])\n",
    "MODEL_PATH_1 = f\"../input/pdc-d169-na{SIZE}f-noes-f{FOLD}/saves/ble_state.pt\"\n",
    "MODEL_PATH_2 = f\"../input/pdc-en2-na{SIZE}f-noes-f{FOLD}/saves/ble_state.pt\"\n",
    "\n",
    "DEVICE = torch.device(\"cuda\" if torch.cuda.is_available() else \"cpu\")\n",
    "\n",
    "le = LabelEncoder()\n",
    "\n",
    "\n",
    "def breaker(num: int=50, char: str=\"*\") -> None:\n",
    "    print(\"\\n\" + num*char + \"\\n\")\n",
    "\n",
    "\n",
    "def get_image(path: str, size: int=224) -> np.ndarray:\n",
    "    return cv2.resize(src=cv2.cvtColor(src=cv2.imread(path, cv2.IMREAD_COLOR), code=cv2.COLOR_BGR2RGB), dsize=(size, size), interpolation=cv2.INTER_AREA)"
   ]
  },
  {
   "cell_type": "markdown",
   "id": "f15ece52",
   "metadata": {
    "papermill": {
     "duration": 0.00384,
     "end_time": "2022-06-26T13:02:44.648465",
     "exception": false,
     "start_time": "2022-06-26T13:02:44.644625",
     "status": "completed"
    },
    "tags": []
   },
   "source": [
    "### **Augmenter**"
   ]
  },
  {
   "cell_type": "code",
   "execution_count": 4,
   "id": "30a364e2",
   "metadata": {
    "execution": {
     "iopub.execute_input": "2022-06-26T13:02:44.657051Z",
     "iopub.status.busy": "2022-06-26T13:02:44.656537Z",
     "iopub.status.idle": "2022-06-26T13:02:44.664406Z",
     "shell.execute_reply": "2022-06-26T13:02:44.663509Z"
    },
    "papermill": {
     "duration": 0.014238,
     "end_time": "2022-06-26T13:02:44.666384",
     "exception": false,
     "start_time": "2022-06-26T13:02:44.652146",
     "status": "completed"
    },
    "tags": []
   },
   "outputs": [],
   "source": [
    "class Augmenter(object):\n",
    "    def __init__(self, seed: int=None):\n",
    "        self.seed = seed\n",
    "        if self.seed is not None: r.seed(self.seed)\n",
    "\n",
    "    def rotate_and_scale(self, image: np.ndarray, angle: float = 0.0, scale: float = 1.0) -> np.ndarray:\n",
    "        h, w, _ = image.shape\n",
    "        if angle != 0.0: angle = r.uniform(-1, 1) * angle\n",
    "        if scale != 1.0: scale = 1 + r.uniform(-scale, scale)\n",
    "        M = cv2.getRotationMatrix2D(center=(int(w/2), int(h/2)), angle=angle, scale=scale)\n",
    "        cv2.warpAffine(src=image, M=M, dsize=(w, h), dst=image)\n",
    "        return image"
   ]
  },
  {
   "cell_type": "markdown",
   "id": "361fbeb9",
   "metadata": {
    "papermill": {
     "duration": 0.003729,
     "end_time": "2022-06-26T13:02:44.673874",
     "exception": false,
     "start_time": "2022-06-26T13:02:44.670145",
     "status": "completed"
    },
    "tags": []
   },
   "source": [
    "### **Dataset Template**"
   ]
  },
  {
   "cell_type": "code",
   "execution_count": 5,
   "id": "090f6728",
   "metadata": {
    "execution": {
     "iopub.execute_input": "2022-06-26T13:02:44.682205Z",
     "iopub.status.busy": "2022-06-26T13:02:44.681939Z",
     "iopub.status.idle": "2022-06-26T13:02:44.688377Z",
     "shell.execute_reply": "2022-06-26T13:02:44.687579Z"
    },
    "papermill": {
     "duration": 0.012739,
     "end_time": "2022-06-26T13:02:44.690210",
     "exception": false,
     "start_time": "2022-06-26T13:02:44.677471",
     "status": "completed"
    },
    "tags": []
   },
   "outputs": [],
   "source": [
    "class DS(Dataset):\n",
    "    def __init__(self, base_path: str, filenames: np.ndarray, size: int=224, transform=None):\n",
    "        self.base_path = base_path\n",
    "        self.filenames = filenames\n",
    "        self.size = size\n",
    "        self.transform = transform\n",
    "    \n",
    "    def __len__(self):\n",
    "        return self.filenames.shape[0]\n",
    "    \n",
    "    def __getitem__(self, idx):\n",
    "        image = get_image(os.path.join(self.base_path, self.filenames[idx]), size=self.size)\n",
    "        augmenter.rotate_and_scale(image, scale=0.1, angle=15)\n",
    "        return self.transform(image)"
   ]
  },
  {
   "cell_type": "markdown",
   "id": "6faadae7",
   "metadata": {
    "papermill": {
     "duration": 0.003617,
     "end_time": "2022-06-26T13:02:44.697390",
     "exception": false,
     "start_time": "2022-06-26T13:02:44.693773",
     "status": "completed"
    },
    "tags": []
   },
   "source": [
    "### **Model**"
   ]
  },
  {
   "cell_type": "code",
   "execution_count": 6,
   "id": "5ebf93ab",
   "metadata": {
    "execution": {
     "iopub.execute_input": "2022-06-26T13:02:44.705707Z",
     "iopub.status.busy": "2022-06-26T13:02:44.705382Z",
     "iopub.status.idle": "2022-06-26T13:02:44.713108Z",
     "shell.execute_reply": "2022-06-26T13:02:44.712371Z"
    },
    "papermill": {
     "duration": 0.013979,
     "end_time": "2022-06-26T13:02:44.715006",
     "exception": false,
     "start_time": "2022-06-26T13:02:44.701027",
     "status": "completed"
    },
    "tags": []
   },
   "outputs": [],
   "source": [
    "class Model(nn.Module):\n",
    "    def __init__(self, model_name=\"densenet\"):\n",
    "        super(Model, self).__init__()\n",
    "\n",
    "        if model_name == \"densenet\":\n",
    "            self.model = models.densenet169(pretrained=False, progress=True)\n",
    "            # self.freeze()\n",
    "            self.model.classifier = nn.Linear(in_features=self.model.classifier.in_features, out_features=10)\n",
    "        else:\n",
    "            self.model = timm.create_model(model_name=\"efficientnet_b2\", pretrained=False)\n",
    "            # self.freeze()\n",
    "            self.model.classifier = nn.Linear(in_features=self.model.classifier.in_features, out_features=10)\n",
    "    \n",
    "    def freeze(self):\n",
    "        for params in self.parameters(): params.requires_grad = False\n",
    "\n",
    "    def forward(self, x):\n",
    "        return nn.LogSoftmax(dim=1)(self.model(x))"
   ]
  },
  {
   "cell_type": "markdown",
   "id": "7e2cd0eb",
   "metadata": {
    "papermill": {
     "duration": 0.003538,
     "end_time": "2022-06-26T13:02:44.722224",
     "exception": false,
     "start_time": "2022-06-26T13:02:44.718686",
     "status": "completed"
    },
    "tags": []
   },
   "source": [
    "### **Predict Helpers**"
   ]
  },
  {
   "cell_type": "code",
   "execution_count": 7,
   "id": "de431634",
   "metadata": {
    "execution": {
     "iopub.execute_input": "2022-06-26T13:02:44.731524Z",
     "iopub.status.busy": "2022-06-26T13:02:44.731116Z",
     "iopub.status.idle": "2022-06-26T13:02:44.739039Z",
     "shell.execute_reply": "2022-06-26T13:02:44.738332Z"
    },
    "papermill": {
     "duration": 0.014182,
     "end_time": "2022-06-26T13:02:44.740688",
     "exception": false,
     "start_time": "2022-06-26T13:02:44.726506",
     "status": "completed"
    },
    "tags": []
   },
   "outputs": [],
   "source": [
    "def predict_batch(models: list=None, model_2=None, dataloader=None, paths: list=None, device=None) -> np.ndarray:\n",
    "    assert len(models) == len(paths)\n",
    "    \n",
    "    for i in range(len(models)):\n",
    "        models[i].load_state_dict(torch.load(paths[i], map_location=device)[\"model_state_dict\"])\n",
    "        models[i].to(device)    \n",
    "        models[i].eval()\n",
    "    \n",
    "    y_pred = torch.zeros(1, 1).to(device)\n",
    "    \n",
    "    for X in dataloader:\n",
    "        X = X.to(device)\n",
    "        with torch.no_grad():\n",
    "            output = torch.argmax(torch.exp(models[0](X)) + torch.exp(models[1](X)), dim=1)\n",
    "        y_pred = torch.cat((y_pred, output.view(-1, 1)), dim=0)\n",
    "    \n",
    "    return y_pred[1:].detach().cpu().numpy()"
   ]
  },
  {
   "cell_type": "markdown",
   "id": "829eb19e",
   "metadata": {
    "papermill": {
     "duration": 0.003778,
     "end_time": "2022-06-26T13:02:44.748277",
     "exception": false,
     "start_time": "2022-06-26T13:02:44.744499",
     "status": "completed"
    },
    "tags": []
   },
   "source": [
    "### **Submission**"
   ]
  },
  {
   "cell_type": "code",
   "execution_count": 8,
   "id": "6d675126",
   "metadata": {
    "execution": {
     "iopub.execute_input": "2022-06-26T13:02:44.756624Z",
     "iopub.status.busy": "2022-06-26T13:02:44.756313Z",
     "iopub.status.idle": "2022-06-26T13:07:56.589031Z",
     "shell.execute_reply": "2022-06-26T13:07:56.588179Z"
    },
    "papermill": {
     "duration": 311.839344,
     "end_time": "2022-06-26T13:07:56.591233",
     "exception": false,
     "start_time": "2022-06-26T13:02:44.751889",
     "status": "completed"
    },
    "tags": []
   },
   "outputs": [],
   "source": [
    "df = pd.read_csv(\"../input/paddy-disease-classification/train.csv\")\n",
    "ss_df = pd.read_csv(\"../input/paddy-disease-classification/sample_submission.csv\")\n",
    "\n",
    "labels = df.label.copy().values\n",
    "labels = le.fit_transform(labels)\n",
    "\n",
    "ts_data_setup = DS(base_path=\"../input/paddy-disease-classification/test_images\", \n",
    "                   filenames=ss_df.image_id.copy().values,\n",
    "                   size=SIZE,\n",
    "                   transform=TRANSFORM)\n",
    "ts_data = DL(ts_data_setup, batch_size=64, shuffle=False)\n",
    "\n",
    "model_1 = Model(\"densenet\").to(DEVICE)\n",
    "model_2 = Model(\"efficientnet\").to(DEVICE)\n",
    "\n",
    "r.seed(SEED)\n",
    "seeds = [r.randint(0, 99) for i in range(5)]\n",
    "\n",
    "y_pred = np.zeros((len(ss_df.image_id), 1))\n",
    "\n",
    "for seed in seeds:\n",
    "    augmenter = Augmenter(seed=seed)    \n",
    "    y_pred += predict_batch(models=[model_1, model_2], \n",
    "                            dataloader=ts_data, \n",
    "                            paths=[MODEL_PATH_1, MODEL_PATH_2],\n",
    "                            device=DEVICE)\n",
    "\n",
    "y_pred /= len(seeds)\n",
    "\n",
    "ss_df[\"label\"] = le.inverse_transform(y_pred.astype(\"uint8\").reshape(-1))\n",
    "ss_df.to_csv(\"submission.csv\", index=False)"
   ]
  }
 ],
 "metadata": {
  "kernelspec": {
   "display_name": "Python 3",
   "language": "python",
   "name": "python3"
  },
  "language_info": {
   "codemirror_mode": {
    "name": "ipython",
    "version": 3
   },
   "file_extension": ".py",
   "mimetype": "text/x-python",
   "name": "python",
   "nbconvert_exporter": "python",
   "pygments_lexer": "ipython3",
   "version": "3.7.12"
  },
  "papermill": {
   "default_parameters": {},
   "duration": 343.588779,
   "end_time": "2022-06-26T13:07:59.584812",
   "environment_variables": {},
   "exception": null,
   "input_path": "__notebook__.ipynb",
   "output_path": "__notebook__.ipynb",
   "parameters": {},
   "start_time": "2022-06-26T13:02:15.996033",
   "version": "2.3.4"
  }
 },
 "nbformat": 4,
 "nbformat_minor": 5
}
