{
 "cells": [
  {
   "cell_type": "markdown",
   "id": "b42d2304",
   "metadata": {
    "_cell_guid": "b1076dfc-b9ad-4769-8c92-a6c4dae69d19",
    "_uuid": "8f2839f25d086af736a60e9eeb907d3b93b6e0e5",
    "papermill": {
     "duration": 0.004593,
     "end_time": "2022-06-17T15:41:00.802293",
     "exception": false,
     "start_time": "2022-06-17T15:41:00.797700",
     "status": "completed"
    },
    "tags": []
   },
   "source": [
    "### **Library Imports**"
   ]
  },
  {
   "cell_type": "code",
   "execution_count": 1,
   "id": "1ab11fa2",
   "metadata": {
    "execution": {
     "iopub.execute_input": "2022-06-17T15:41:00.811915Z",
     "iopub.status.busy": "2022-06-17T15:41:00.811207Z",
     "iopub.status.idle": "2022-06-17T15:41:03.591451Z",
     "shell.execute_reply": "2022-06-17T15:41:03.590330Z"
    },
    "papermill": {
     "duration": 2.78798,
     "end_time": "2022-06-17T15:41:03.594170",
     "exception": false,
     "start_time": "2022-06-17T15:41:00.806190",
     "status": "completed"
    },
    "tags": []
   },
   "outputs": [],
   "source": [
    "import os\n",
    "import re\n",
    "import torch\n",
    "import numpy as np\n",
    "import pandas as pd\n",
    "import matplotlib.pyplot as plt\n",
    "\n",
    "from time import time\n",
    "from torch import nn, optim\n",
    "from torch.utils.data import Dataset\n",
    "from torch.utils.data import DataLoader as DL\n",
    "from torchvision import models, transforms\n",
    "\n",
    "from sklearn.model_selection import StratifiedKFold\n",
    "from sklearn.preprocessing import LabelEncoder\n",
    "from sklearn.metrics import accuracy_score"
   ]
  },
  {
   "cell_type": "markdown",
   "id": "79fa7a61",
   "metadata": {
    "papermill": {
     "duration": 0.006397,
     "end_time": "2022-06-17T15:41:03.606904",
     "exception": false,
     "start_time": "2022-06-17T15:41:03.600507",
     "status": "completed"
    },
    "tags": []
   },
   "source": [
    "### **Utilities and Helpers**"
   ]
  },
  {
   "cell_type": "code",
   "execution_count": 2,
   "id": "4ed5a945",
   "metadata": {
    "execution": {
     "iopub.execute_input": "2022-06-17T15:41:03.621519Z",
     "iopub.status.busy": "2022-06-17T15:41:03.620747Z",
     "iopub.status.idle": "2022-06-17T15:41:03.638073Z",
     "shell.execute_reply": "2022-06-17T15:41:03.637380Z"
    },
    "papermill": {
     "duration": 0.026955,
     "end_time": "2022-06-17T15:41:03.640061",
     "exception": false,
     "start_time": "2022-06-17T15:41:03.613106",
     "status": "completed"
    },
    "tags": []
   },
   "outputs": [],
   "source": [
    "SEED = 42\n",
    "SIZE = 384\n",
    "le = LabelEncoder()\n",
    "\n",
    "\n",
    "def breaker(num: int=50, char: str=\"*\") -> None:\n",
    "    print(\"\\n\" + num*char + \"\\n\")\n",
    "\n",
    "    \n",
    "def show_loss_graphs(A: list) -> None:\n",
    "    TL, VL = [], []\n",
    "    for i in range(len(L)):\n",
    "        TL.append(L[i][\"train\"])\n",
    "        VL.append(L[i][\"valid\"])\n",
    "    x_Axis = np.arange(1, len(TL) + 1)\n",
    "    plt.figure()\n",
    "    plt.plot(x_Axis, TL, \"r\", label=\"Train\")\n",
    "    plt.plot(x_Axis, VL, \"b\", label=\"Valid\")\n",
    "    plt.legend()\n",
    "    plt.grid()\n",
    "    plt.title(\"Loss Graph\")\n",
    "    plt.show()\n",
    "\n",
    "    \n",
    "def show_accuracy_graphs(A: list) -> None:\n",
    "    TA, VA = [], []\n",
    "    for i in range(len(L)):\n",
    "        TA.append(A[i][\"train\"])\n",
    "        VA.append(A[i][\"valid\"])\n",
    "    x_Axis = np.arange(1, len(TA) + 1)\n",
    "    plt.figure()\n",
    "    plt.plot(x_Axis, TA, \"r\", label=\"Train\")\n",
    "    plt.plot(x_Axis, VA, \"b\", label=\"Valid\")\n",
    "    plt.legend()\n",
    "    plt.grid()\n",
    "    plt.title(\"Accuracy Graph\")\n",
    "    plt.show()\n",
    "\n",
    "\n",
    "def show_lr_graph(LR: list) -> None:\n",
    "    x_Axis = [i+1 for i in range(len(LR))]\n",
    "    plt.figure(figsize=(8, 6))\n",
    "    plt.plot(x_Axis, LR, \"rx\")\n",
    "    plt.grid()\n",
    "    plt.show()"
   ]
  },
  {
   "cell_type": "markdown",
   "id": "2433d964",
   "metadata": {
    "papermill": {
     "duration": 0.006066,
     "end_time": "2022-06-17T15:41:03.652238",
     "exception": false,
     "start_time": "2022-06-17T15:41:03.646172",
     "status": "completed"
    },
    "tags": []
   },
   "source": [
    "### **Configuration**"
   ]
  },
  {
   "cell_type": "code",
   "execution_count": 3,
   "id": "ef14f85e",
   "metadata": {
    "execution": {
     "iopub.execute_input": "2022-06-17T15:41:03.665699Z",
     "iopub.status.busy": "2022-06-17T15:41:03.665341Z",
     "iopub.status.idle": "2022-06-17T15:41:03.741471Z",
     "shell.execute_reply": "2022-06-17T15:41:03.740699Z"
    },
    "papermill": {
     "duration": 0.085328,
     "end_time": "2022-06-17T15:41:03.743576",
     "exception": false,
     "start_time": "2022-06-17T15:41:03.658248",
     "status": "completed"
    },
    "tags": []
   },
   "outputs": [],
   "source": [
    "class CFG(object):\n",
    "    def __init__(self, \n",
    "                 seed: int = 42,\n",
    "                 n_splits: int = 5,\n",
    "                 batch_size: int = 16,\n",
    "                 epochs: int = 25,\n",
    "                 early_stopping: int = 5,\n",
    "                 lr: float = 1e-4,\n",
    "                 wd: float = 0.0,\n",
    "                 max_lr: float = 1e-3,\n",
    "                 pct_start: float = 0.2,\n",
    "                 steps_per_epoch: int = 100,\n",
    "                 div_factor: int = 1e3, \n",
    "                 final_div_factor: float = 1e3,\n",
    "                 ):\n",
    "        \n",
    "        self.seed = seed\n",
    "        self.n_splits = n_splits\n",
    "        self.batch_size = batch_size\n",
    "        self.epochs = epochs\n",
    "        self.early_stopping = early_stopping\n",
    "        self.lr = lr\n",
    "        self.wd = wd\n",
    "        self.max_lr = max_lr\n",
    "        self.pct_start = pct_start\n",
    "        self.steps_per_epoch = steps_per_epoch\n",
    "        self.div_factor = div_factor\n",
    "        self.final_div_factor = final_div_factor\n",
    "        self.device = torch.device(\"cuda\" if torch.cuda.is_available() else \"cpu\")\n",
    "        self.transform = transforms.Compose([transforms.ToTensor(),\n",
    "                                transforms.Normalize([0.49699, 0.58823, 0.23049],\n",
    "                                                     [0.22591, 0.22614, 0.18264]),\n",
    "                                ])\n",
    "        self.save_path = \"saves\"\n",
    "        if not os.path.exists(self.save_path): os.makedirs(self.save_path)\n",
    "    \n",
    "cfg = CFG(seed=SEED)"
   ]
  },
  {
   "cell_type": "markdown",
   "id": "b13df461",
   "metadata": {
    "papermill": {
     "duration": 0.00351,
     "end_time": "2022-06-17T15:41:03.750908",
     "exception": false,
     "start_time": "2022-06-17T15:41:03.747398",
     "status": "completed"
    },
    "tags": []
   },
   "source": [
    "### **Dataset Template**"
   ]
  },
  {
   "cell_type": "code",
   "execution_count": 4,
   "id": "41b1d56d",
   "metadata": {
    "execution": {
     "iopub.execute_input": "2022-06-17T15:41:03.759924Z",
     "iopub.status.busy": "2022-06-17T15:41:03.759231Z",
     "iopub.status.idle": "2022-06-17T15:41:03.766261Z",
     "shell.execute_reply": "2022-06-17T15:41:03.765480Z"
    },
    "papermill": {
     "duration": 0.013342,
     "end_time": "2022-06-17T15:41:03.768074",
     "exception": false,
     "start_time": "2022-06-17T15:41:03.754732",
     "status": "completed"
    },
    "tags": []
   },
   "outputs": [],
   "source": [
    "class DS(Dataset):\n",
    "    def __init__(self, images: np.ndarray, labels: np.ndarray = None, transform=None):\n",
    "        self.images = images\n",
    "        self.labels = labels\n",
    "        self.transform = transform\n",
    "    \n",
    "    def __len__(self):\n",
    "        return self.images.shape[0]\n",
    "    \n",
    "    def __getitem__(self, idx):\n",
    "        if self.labels is not None:\n",
    "            return self.transform(self.images[idx]), torch.LongTensor(self.labels[idx])\n",
    "        else:\n",
    "            return self.transform(self.images[idx])"
   ]
  },
  {
   "cell_type": "markdown",
   "id": "dfe4bb49",
   "metadata": {
    "papermill": {
     "duration": 0.003968,
     "end_time": "2022-06-17T15:41:03.775720",
     "exception": false,
     "start_time": "2022-06-17T15:41:03.771752",
     "status": "completed"
    },
    "tags": []
   },
   "source": [
    "### **Model**"
   ]
  },
  {
   "cell_type": "code",
   "execution_count": 5,
   "id": "cabca49e",
   "metadata": {
    "execution": {
     "iopub.execute_input": "2022-06-17T15:41:03.784140Z",
     "iopub.status.busy": "2022-06-17T15:41:03.783870Z",
     "iopub.status.idle": "2022-06-17T15:41:03.789825Z",
     "shell.execute_reply": "2022-06-17T15:41:03.789106Z"
    },
    "papermill": {
     "duration": 0.011965,
     "end_time": "2022-06-17T15:41:03.791491",
     "exception": false,
     "start_time": "2022-06-17T15:41:03.779526",
     "status": "completed"
    },
    "tags": []
   },
   "outputs": [],
   "source": [
    "class Model(nn.Module):\n",
    "    def __init__(self):\n",
    "        super(Model, self).__init__()\n",
    "\n",
    "        self.model = models.densenet169(pretrained=True, progress=True)\n",
    "        # self.freeze()\n",
    "        self.model.classifier = nn.Linear(in_features=self.model.classifier.in_features, out_features=10)\n",
    "    \n",
    "    def freeze(self):\n",
    "        for params in self.parameters(): params.requires_grad = False\n",
    "\n",
    "    def forward(self, x):\n",
    "        return nn.LogSoftmax(dim=1)(self.model(x))"
   ]
  },
  {
   "cell_type": "markdown",
   "id": "4c89d09e",
   "metadata": {
    "papermill": {
     "duration": 0.003477,
     "end_time": "2022-06-17T15:41:03.798562",
     "exception": false,
     "start_time": "2022-06-17T15:41:03.795085",
     "status": "completed"
    },
    "tags": []
   },
   "source": [
    "### **Fit and Predict Helpers**"
   ]
  },
  {
   "cell_type": "code",
   "execution_count": 6,
   "id": "53a2c8bb",
   "metadata": {
    "execution": {
     "iopub.execute_input": "2022-06-17T15:41:03.807321Z",
     "iopub.status.busy": "2022-06-17T15:41:03.807064Z",
     "iopub.status.idle": "2022-06-17T15:41:03.833428Z",
     "shell.execute_reply": "2022-06-17T15:41:03.832730Z"
    },
    "papermill": {
     "duration": 0.032848,
     "end_time": "2022-06-17T15:41:03.835218",
     "exception": false,
     "start_time": "2022-06-17T15:41:03.802370",
     "status": "completed"
    },
    "tags": []
   },
   "outputs": [],
   "source": [
    "def fit(model=None, \n",
    "        optimizer=None, \n",
    "        scheduler_rlrop=None,\n",
    "        scheduler_oclr=None,\n",
    "        epochs=None, \n",
    "        early_stopping_patience=None, \n",
    "        dataloaders=None, \n",
    "        fold=None, \n",
    "        save_path=None,\n",
    "        device=None,\n",
    "        verbose=False) -> tuple:\n",
    "    \n",
    "    def get_accuracy(y_pred, y_true):\n",
    "        y_pred = torch.argmax(y_pred, dim=1)\n",
    "        return torch.count_nonzero(y_pred == y_true).item() / len(y_pred)\n",
    "    \n",
    "    if verbose:\n",
    "        breaker()\n",
    "        if fold: print(f\"Training Fold {fold}...\")\n",
    "        else: print(\"Training ...\")\n",
    "        breaker()\n",
    "        \n",
    "    bestLoss, bestAccs = {\"train\" : np.inf, \"valid\" : np.inf}, {\"train\" : 0.0, \"valid\" : 0.0}\n",
    "    Losses, Accuracies, LRs = [], [], []\n",
    "    if fold: \n",
    "        ble_name = f\"ble_state_fold_{fold}.pt\"\n",
    "        bae_name = f\"bae_state_fold_{fold}.pt\"\n",
    "    else: \n",
    "        ble_name = \"ble_state.pt\"\n",
    "        bae_name = \"bae_state.pt\"\n",
    "\n",
    "    start_time = time()\n",
    "    for e in range(epochs):\n",
    "        e_st = time()\n",
    "        epochLoss, epochAccs = {\"train\" : 0.0, \"valid\" : 0.0}, {\"train\" : 0.0, \"valid\" : 0.0}\n",
    "\n",
    "        for phase in [\"train\", \"valid\"]:\n",
    "            if phase == \"train\":\n",
    "                model.train()\n",
    "            else:\n",
    "                model.eval()\n",
    "            \n",
    "            lossPerPass, accsPerPass = [], []\n",
    "\n",
    "            for X, y in dataloaders[phase]:\n",
    "                X, y = X.to(device), y.to(device).view(-1)\n",
    "\n",
    "                optimizer.zero_grad()\n",
    "                with torch.set_grad_enabled(phase == \"train\"):\n",
    "                    output = model(X)\n",
    "                    loss = torch.nn.NLLLoss()(output, y)\n",
    "                    if phase == \"train\":\n",
    "                        loss.backward()\n",
    "                        optimizer.step()\n",
    "                        if scheduler_oclr: scheduler_oclr.step()\n",
    "                lossPerPass.append(loss.item())\n",
    "                accsPerPass.append(get_accuracy(output, y))\n",
    "            epochLoss[phase] = np.mean(np.array(lossPerPass))\n",
    "            epochAccs[phase] = np.mean(np.array(accsPerPass))\n",
    "        if scheduler_oclr: LRs.append(scheduler_oclr.get_last_lr())\n",
    "        Losses.append(epochLoss)\n",
    "        Accuracies.append(epochAccs)\n",
    "        \n",
    "        if scheduler_oclr:\n",
    "            save_dict = {\"model_state_dict\"     : model.state_dict(),\n",
    "                         \"optim_state_dict\"     : optimizer.state_dict(),\n",
    "                         \"scheduler_state_dict\" : scheduler_oclr.state_dict()}\n",
    "        \n",
    "        elif scheduler_rlrop:\n",
    "            save_dict = {\"model_state_dict\"     : model.state_dict(),\n",
    "                         \"optim_state_dict\"     : optimizer.state_dict(),\n",
    "                         \"scheduler_state_dict\" : scheduler_rlrop.state_dict()}\n",
    "        \n",
    "        else:\n",
    "            save_dict = {\"model_state_dict\"     : model.state_dict(),\n",
    "                         \"optim_state_dict\"     : optimizer.state_dict()}\n",
    "        \n",
    "        if early_stopping_patience:\n",
    "            if epochLoss[\"valid\"] < bestLoss[\"valid\"]:\n",
    "                bestLoss = epochLoss\n",
    "                BLE = e + 1\n",
    "                torch.save(save_dict, os.path.join(save_path, name))\n",
    "                early_stopping_step = 0\n",
    "            else:\n",
    "                early_stopping_step += 1\n",
    "                if early_stopping_step > early_stopping_patience:\n",
    "                    print(\"\\nEarly Stopping at Epoch {}\".format(e + 1))\n",
    "                    break\n",
    "        \n",
    "        if epochLoss[\"valid\"] < bestLoss[\"valid\"]:\n",
    "            bestLoss = epochLoss\n",
    "            BLE = e + 1\n",
    "            torch.save(save_dict,os.path.join(save_path, ble_name))\n",
    "        \n",
    "        if epochAccs[\"valid\"] > bestAccs[\"valid\"]:\n",
    "            bestAccs = epochAccs\n",
    "            BAE = e + 1\n",
    "            torch.save(save_dict,os.path.join(save_path, bae_name))\n",
    "\n",
    "        \n",
    "        if scheduler_rlrop: scheduler_rlrop.step(epochLoss[\"valid\"])\n",
    "        \n",
    "        if verbose:\n",
    "            print(\"Epoch: {} | Train Loss: {:.5f} | Valid Loss: {:.5f} |\\\n",
    " Train Accs: {:.5f} | Valid Accs: {:.5f} | Time: {:.2f} seconds\".format(e+1, \n",
    "                                                                        epochLoss[\"train\"], epochLoss[\"valid\"], \n",
    "                                                                        epochAccs[\"train\"], epochAccs[\"valid\"], \n",
    "                                                                        time()-e_st))\n",
    "\n",
    "    if verbose:                                           \n",
    "        breaker()\n",
    "        print(f\"Best Validation Loss at Epoch {BLE}\")\n",
    "        breaker()\n",
    "        print(f\"Best Validation Accs at Epoch {BAE}\")\n",
    "        breaker()\n",
    "        print(\"Time Taken [{} Epochs] : {:.2f} minutes\".format(len(Losses), (time()-start_time)/60))\n",
    "    \n",
    "    return Losses, Accuracies, LRs, BLE, BAE, ble_name, bae_name\n",
    "\n",
    "\n",
    "def predict_batch(model=None, dataloader=None, path=None, device=None) -> np.ndarray:\n",
    "    model.load_state_dict(torch.load(path, map_location=device)[\"model_state_dict\"])\n",
    "    model.to(device)    \n",
    "    model.eval()\n",
    "    \n",
    "    y_pred = torch.zeros(1, 1).to(device)\n",
    "    \n",
    "    for X in dataloader:\n",
    "        X = X.to(device)\n",
    "        with torch.no_grad():\n",
    "            output = torch.argmax(torch.exp(model(X)), dim=1)\n",
    "        y_pred = torch.cat((y_pred, output.view(-1, 1)), dim=0)\n",
    "    \n",
    "    return y_pred[1:].detach().cpu().numpy()"
   ]
  },
  {
   "cell_type": "markdown",
   "id": "68481c06",
   "metadata": {
    "papermill": {
     "duration": 0.003465,
     "end_time": "2022-06-17T15:41:03.842327",
     "exception": false,
     "start_time": "2022-06-17T15:41:03.838862",
     "status": "completed"
    },
    "tags": []
   },
   "source": [
    "### **Train**"
   ]
  },
  {
   "cell_type": "code",
   "execution_count": 7,
   "id": "2c9aaf0c",
   "metadata": {
    "execution": {
     "iopub.execute_input": "2022-06-17T15:41:03.850732Z",
     "iopub.status.busy": "2022-06-17T15:41:03.850456Z",
     "iopub.status.idle": "2022-06-17T15:41:40.350186Z",
     "shell.execute_reply": "2022-06-17T15:41:40.349431Z"
    },
    "papermill": {
     "duration": 36.506517,
     "end_time": "2022-06-17T15:41:40.352479",
     "exception": false,
     "start_time": "2022-06-17T15:41:03.845962",
     "status": "completed"
    },
    "tags": []
   },
   "outputs": [],
   "source": [
    "images = np.load(f\"../input/pdc-images-{SIZE}/images-{SIZE}.npy\")\n",
    "df = pd.read_csv(\"../input/paddy-disease-classification/train.csv\")\n",
    "labels = df.label.copy().values\n",
    "labels = le.fit_transform(labels)"
   ]
  },
  {
   "cell_type": "code",
   "execution_count": 8,
   "id": "ff7f3481",
   "metadata": {
    "execution": {
     "iopub.execute_input": "2022-06-17T15:41:40.362373Z",
     "iopub.status.busy": "2022-06-17T15:41:40.362096Z",
     "iopub.status.idle": "2022-06-17T17:45:00.717687Z",
     "shell.execute_reply": "2022-06-17T17:45:00.716925Z"
    },
    "papermill": {
     "duration": 7400.362708,
     "end_time": "2022-06-17T17:45:00.719645",
     "exception": false,
     "start_time": "2022-06-17T15:41:40.356937",
     "status": "completed"
    },
    "tags": []
   },
   "outputs": [
    {
     "name": "stderr",
     "output_type": "stream",
     "text": [
      "Downloading: \"https://download.pytorch.org/models/densenet169-b2777c0a.pth\" to /root/.cache/torch/hub/checkpoints/densenet169-b2777c0a.pth\n"
     ]
    },
    {
     "data": {
      "application/vnd.jupyter.widget-view+json": {
       "model_id": "91c4adcb48c14771a1bbc509bd32540b",
       "version_major": 2,
       "version_minor": 0
      },
      "text/plain": [
       "  0%|          | 0.00/54.7M [00:00<?, ?B/s]"
      ]
     },
     "metadata": {},
     "output_type": "display_data"
    },
    {
     "name": "stdout",
     "output_type": "stream",
     "text": [
      "\n",
      "**************************************************\n",
      "\n",
      "Training ...\n",
      "\n",
      "**************************************************\n",
      "\n",
      "Epoch: 1 | Train Loss: 1.79566 | Valid Loss: 0.74332 | Train Accs: 0.38360 | Valid Accs: 0.76193 | Time: 217.14 seconds\n",
      "Epoch: 2 | Train Loss: 0.56176 | Valid Loss: 0.31688 | Train Accs: 0.83013 | Valid Accs: 0.89885 | Time: 211.15 seconds\n",
      "Epoch: 3 | Train Loss: 0.41901 | Valid Loss: 0.44607 | Train Accs: 0.87180 | Valid Accs: 0.85687 | Time: 209.65 seconds\n",
      "Epoch: 4 | Train Loss: 0.41260 | Valid Loss: 0.51874 | Train Accs: 0.86440 | Valid Accs: 0.84113 | Time: 210.48 seconds\n",
      "Epoch: 5 | Train Loss: 0.41586 | Valid Loss: 0.51612 | Train Accs: 0.87012 | Valid Accs: 0.83158 | Time: 211.02 seconds\n",
      "Epoch: 6 | Train Loss: 0.39202 | Valid Loss: 0.30116 | Train Accs: 0.87344 | Valid Accs: 0.90124 | Time: 212.01 seconds\n",
      "Epoch: 7 | Train Loss: 0.33062 | Valid Loss: 0.35061 | Train Accs: 0.89527 | Valid Accs: 0.89218 | Time: 210.37 seconds\n",
      "Epoch: 8 | Train Loss: 0.25783 | Valid Loss: 0.32691 | Train Accs: 0.91655 | Valid Accs: 0.89408 | Time: 210.64 seconds\n",
      "Epoch: 9 | Train Loss: 0.23641 | Valid Loss: 0.30265 | Train Accs: 0.92071 | Valid Accs: 0.90697 | Time: 211.37 seconds\n",
      "Epoch: 10 | Train Loss: 0.17730 | Valid Loss: 0.34984 | Train Accs: 0.94390 | Valid Accs: 0.88979 | Time: 210.19 seconds\n",
      "Epoch: 11 | Train Loss: 0.17933 | Valid Loss: 0.34224 | Train Accs: 0.94254 | Valid Accs: 0.90076 | Time: 210.10 seconds\n",
      "Epoch: 12 | Train Loss: 0.14592 | Valid Loss: 0.40049 | Train Accs: 0.95609 | Valid Accs: 0.89313 | Time: 210.36 seconds\n",
      "Epoch: 13 | Train Loss: 0.10039 | Valid Loss: 0.23644 | Train Accs: 0.96753 | Valid Accs: 0.93130 | Time: 211.40 seconds\n",
      "Epoch: 14 | Train Loss: 0.12507 | Valid Loss: 0.22051 | Train Accs: 0.95957 | Valid Accs: 0.92891 | Time: 211.32 seconds\n",
      "Epoch: 15 | Train Loss: 0.08809 | Valid Loss: 0.39350 | Train Accs: 0.97305 | Valid Accs: 0.90744 | Time: 211.11 seconds\n",
      "Epoch: 16 | Train Loss: 0.09762 | Valid Loss: 0.25005 | Train Accs: 0.96941 | Valid Accs: 0.92987 | Time: 210.41 seconds\n",
      "Epoch: 17 | Train Loss: 0.05998 | Valid Loss: 0.15448 | Train Accs: 0.98213 | Valid Accs: 0.95658 | Time: 211.78 seconds\n",
      "Epoch: 18 | Train Loss: 0.06039 | Valid Loss: 0.18956 | Train Accs: 0.97949 | Valid Accs: 0.95229 | Time: 210.43 seconds\n",
      "Epoch: 19 | Train Loss: 0.05972 | Valid Loss: 0.15251 | Train Accs: 0.98081 | Valid Accs: 0.95849 | Time: 211.53 seconds\n",
      "Epoch: 20 | Train Loss: 0.02846 | Valid Loss: 0.17722 | Train Accs: 0.99136 | Valid Accs: 0.95754 | Time: 210.42 seconds\n",
      "Epoch: 21 | Train Loss: 0.02899 | Valid Loss: 0.15519 | Train Accs: 0.99092 | Valid Accs: 0.95992 | Time: 211.22 seconds\n",
      "Epoch: 22 | Train Loss: 0.03805 | Valid Loss: 0.16811 | Train Accs: 0.98920 | Valid Accs: 0.96279 | Time: 211.71 seconds\n",
      "Epoch: 23 | Train Loss: 0.01393 | Valid Loss: 0.15028 | Train Accs: 0.99592 | Valid Accs: 0.97137 | Time: 212.11 seconds\n",
      "Epoch: 24 | Train Loss: 0.00629 | Valid Loss: 0.14446 | Train Accs: 0.99808 | Valid Accs: 0.97281 | Time: 211.98 seconds\n",
      "Epoch: 25 | Train Loss: 0.00767 | Valid Loss: 0.15277 | Train Accs: 0.99784 | Valid Accs: 0.97042 | Time: 211.41 seconds\n",
      "Epoch: 26 | Train Loss: 0.00680 | Valid Loss: 0.14588 | Train Accs: 0.99820 | Valid Accs: 0.97137 | Time: 211.41 seconds\n",
      "Epoch: 27 | Train Loss: 0.00583 | Valid Loss: 0.12821 | Train Accs: 0.99844 | Valid Accs: 0.97376 | Time: 212.95 seconds\n",
      "Epoch: 28 | Train Loss: 0.00138 | Valid Loss: 0.13509 | Train Accs: 0.99976 | Valid Accs: 0.97185 | Time: 211.59 seconds\n",
      "Epoch: 29 | Train Loss: 0.00061 | Valid Loss: 0.14672 | Train Accs: 1.00000 | Valid Accs: 0.97090 | Time: 211.18 seconds\n",
      "Epoch: 30 | Train Loss: 0.00112 | Valid Loss: 0.14042 | Train Accs: 0.99952 | Valid Accs: 0.97090 | Time: 210.57 seconds\n",
      "Epoch: 31 | Train Loss: 0.00045 | Valid Loss: 0.14443 | Train Accs: 1.00000 | Valid Accs: 0.97233 | Time: 210.61 seconds\n",
      "Epoch: 32 | Train Loss: 0.00041 | Valid Loss: 0.13223 | Train Accs: 1.00000 | Valid Accs: 0.97281 | Time: 210.65 seconds\n",
      "Epoch: 33 | Train Loss: 0.00037 | Valid Loss: 0.13930 | Train Accs: 1.00000 | Valid Accs: 0.97090 | Time: 210.70 seconds\n",
      "Epoch: 34 | Train Loss: 0.00033 | Valid Loss: 0.13813 | Train Accs: 1.00000 | Valid Accs: 0.97281 | Time: 210.55 seconds\n",
      "Epoch: 35 | Train Loss: 0.00045 | Valid Loss: 0.14188 | Train Accs: 0.99988 | Valid Accs: 0.97137 | Time: 210.50 seconds\n",
      "\n",
      "**************************************************\n",
      "\n",
      "Best Validation Loss at Epoch 27\n",
      "\n",
      "**************************************************\n",
      "\n",
      "Best Validation Accs at Epoch 27\n",
      "\n",
      "**************************************************\n",
      "\n",
      "Time Taken [35 Epochs] : 123.20 minutes\n",
      "\n",
      "**************************************************\n",
      "\n"
     ]
    },
    {
     "data": {
      "image/png": "[encoded data removed]",
      "text/plain": [
       "<Figure size 432x288 with 1 Axes>"
      ]
     },
     "metadata": {
      "needs_background": "light"
     },
     "output_type": "display_data"
    },
    {
     "name": "stdout",
     "output_type": "stream",
     "text": [
      "\n",
      "**************************************************\n",
      "\n"
     ]
    },
    {
     "data": {
      "image/png": "[encoded data removed]",
      "text/plain": [
       "<Figure size 432x288 with 1 Axes>"
      ]
     },
     "metadata": {
      "needs_background": "light"
     },
     "output_type": "display_data"
    },
    {
     "name": "stdout",
     "output_type": "stream",
     "text": [
      "\n",
      "**************************************************\n",
      "\n"
     ]
    },
    {
     "data": {
      "image/png": "[encoded data removed]",
      "text/plain": [
       "<Figure size 576x432 with 1 Axes>"
      ]
     },
     "metadata": {
      "needs_background": "light"
     },
     "output_type": "display_data"
    },
    {
     "name": "stdout",
     "output_type": "stream",
     "text": [
      "\n",
      "**************************************************\n",
      "\n"
     ]
    }
   ],
   "source": [
    "fold = 1\n",
    "for tr_idx, va_idx in StratifiedKFold(n_splits=cfg.n_splits, random_state=cfg.seed, shuffle=True).split(images, labels):\n",
    "    if fold == 3: break\n",
    "    fold += 1\n",
    "\n",
    "tr_images, va_images, tr_labels, va_labels = images[tr_idx], images[va_idx], labels[tr_idx], labels[va_idx]\n",
    "\n",
    "tr_data_setup = DS(tr_images, tr_labels.reshape(-1, 1), cfg.transform)\n",
    "va_data_setup = DS(va_images, va_labels.reshape(-1, 1), cfg.transform)\n",
    "\n",
    "dataloaders = {\n",
    "    \"train\" : DL(tr_data_setup, batch_size=cfg.batch_size, shuffle=True, generator=torch.manual_seed(cfg.seed)),\n",
    "    \"valid\" : DL(va_data_setup, batch_size=cfg.batch_size, shuffle=False),\n",
    "}\n",
    "\n",
    "cfg = CFG(epochs=35, batch_size=64, steps_per_epoch=len(dataloaders[\"train\"]))\n",
    "\n",
    "torch.manual_seed(cfg.seed)\n",
    "model = Model().to(cfg.device)\n",
    "optimizer = optim.Adam([p for p in model.parameters() if p.requires_grad], lr=cfg.lr, weight_decay=cfg.wd)\n",
    "scheduler_oclr = optim.lr_scheduler.OneCycleLR(optimizer=optimizer, \n",
    "                                               max_lr=cfg.max_lr, \n",
    "                                               epochs=cfg.epochs, \n",
    "                                               steps_per_epoch=cfg.steps_per_epoch,\n",
    "                                               pct_start=cfg.pct_start, \n",
    "                                               div_factor=cfg.div_factor, \n",
    "                                               final_div_factor=cfg.final_div_factor)\n",
    "# scheduler_rlrop = optim.lr_scheduler.ReduceLROnPlateau(optimizer=optimizer,\n",
    "#                                                       patience=cfg.patience,\n",
    "#                                                       eps=cfg.eps,\n",
    "#                                                       verbose=True)\n",
    "\n",
    "# scheduler_oclr = None\n",
    "scheduler_rlrop = None\n",
    "\n",
    "L, A, LR, BLE, BAE, _, _ = fit(model=model, \n",
    "                               optimizer=optimizer, \n",
    "                               scheduler_oclr=scheduler_oclr,\n",
    "                               scheduler_rlrop=scheduler_rlrop,\n",
    "                               epochs=cfg.epochs, \n",
    "                               early_stopping_patience=None, \n",
    "                               dataloaders=dataloaders, \n",
    "                               device=cfg.device,\n",
    "                               save_path=cfg.save_path,\n",
    "                               fold=None,\n",
    "                               verbose=True)\n",
    "\n",
    "breaker()\n",
    "show_loss_graphs(L)\n",
    "breaker()\n",
    "show_accuracy_graphs(A)\n",
    "breaker()\n",
    "\n",
    "if scheduler_oclr:\n",
    "    show_lr_graph(LR)\n",
    "    breaker()"
   ]
  }
 ],
 "metadata": {
  "kernelspec": {
   "display_name": "Python 3",
   "language": "python",
   "name": "python3"
  },
  "language_info": {
   "codemirror_mode": {
    "name": "ipython",
    "version": 3
   },
   "file_extension": ".py",
   "mimetype": "text/x-python",
   "name": "python",
   "nbconvert_exporter": "python",
   "pygments_lexer": "ipython3",
   "version": "3.7.12"
  },
  "papermill": {
   "default_parameters": {},
   "duration": 7450.00082,
   "end_time": "2022-06-17T17:45:02.463588",
   "environment_variables": {},
   "exception": null,
   "input_path": "__notebook__.ipynb",
   "output_path": "__notebook__.ipynb",
   "parameters": {},
   "start_time": "2022-06-17T15:40:52.462768",
   "version": "2.3.4"
  },
  "widgets": {
   "application/vnd.jupyter.widget-state+json": {
    "state": {
     "131c218a2bfb4b4a89dda821323e0e52": {
      "model_module": "@jupyter-widgets/controls",
      "model_module_version": "1.5.0",
      "model_name": "DescriptionStyleModel",
      "state": {
       "_model_module": "@jupyter-widgets/controls",
       "_model_module_version": "1.5.0",
       "_model_name": "DescriptionStyleModel",
       "_view_count": null,
       "_view_module": "@jupyter-widgets/base",
       "_view_module_version": "1.2.0",
       "_view_name": "StyleView",
       "description_width": ""
      }
     },
     "292278f13017409c89b8918162d8b1b1": {
      "model_module": "@jupyter-widgets/controls",
      "model_module_version": "1.5.0",
      "model_name": "HTMLModel",
      "state": {
       "_dom_classes": [],
       "_model_module": "@jupyter-widgets/controls",
       "_model_module_version": "1.5.0",
       "_model_name": "HTMLModel",
       "_view_count": null,
       "_view_module": "@jupyter-widgets/controls",
       "_view_module_version": "1.5.0",
       "_view_name": "HTMLView",
       "description": "",
       "description_tooltip": null,
       "layout": "IPY_MODEL_b97ec9d0b7e64edf8ae31b40d2bdaba0",
       "placeholder": "​",
       "style": "IPY_MODEL_131c218a2bfb4b4a89dda821323e0e52",
       "value": "100%"
      }
     },
     "3d8e1c89810440c19c013ec8bd53b36f": {
      "model_module": "@jupyter-widgets/controls",
      "model_module_version": "1.5.0",
      "model_name": "HTMLModel",
      "state": {
       "_dom_classes": [],
       "_model_module": "@jupyter-widgets/controls",
       "_model_module_version": "1.5.0",
       "_model_name": "HTMLModel",
       "_view_count": null,
       "_view_module": "@jupyter-widgets/controls",
       "_view_module_version": "1.5.0",
       "_view_name": "HTMLView",
       "description": "",
       "description_tooltip": null,
       "layout": "IPY_MODEL_82fa23dde784402fb7c04cf9ed6963e5",
       "placeholder": "​",
       "style": "IPY_MODEL_6fa4bdfeb32f45fbaef39439358b7aac",
       "value": " 54.7M/54.7M [00:00&lt;00:00, 205MB/s]"
      }
     },
     "690f46f3e4764996ba04fc5a736e6cc9": {
      "model_module": "@jupyter-widgets/controls",
      "model_module_version": "1.5.0",
      "model_name": "FloatProgressModel",
      "state": {
       "_dom_classes": [],
       "_model_module": "@jupyter-widgets/controls",
       "_model_module_version": "1.5.0",
       "_model_name": "FloatProgressModel",
       "_view_count": null,
       "_view_module": "@jupyter-widgets/controls",
       "_view_module_version": "1.5.0",
       "_view_name": "ProgressView",
       "bar_style": "success",
       "description": "",
       "description_tooltip": null,
       "layout": "IPY_MODEL_843ff950434240b38c70ca4903eb6cf5",
       "max": 57365526.0,
       "min": 0.0,
       "orientation": "horizontal",
       "style": "IPY_MODEL_cda68f04a8484fee9912d8d3affb1734",
       "value": 57365526.0
      }
     },
     "6fa4bdfeb32f45fbaef39439358b7aac": {
      "model_module": "@jupyter-widgets/controls",
      "model_module_version": "1.5.0",
      "model_name": "DescriptionStyleModel",
      "state": {
       "_model_module": "@jupyter-widgets/controls",
       "_model_module_version": "1.5.0",
       "_model_name": "DescriptionStyleModel",
       "_view_count": null,
       "_view_module": "@jupyter-widgets/base",
       "_view_module_version": "1.2.0",
       "_view_name": "StyleView",
       "description_width": ""
      }
     },
     "82fa23dde784402fb7c04cf9ed6963e5": {
      "model_module": "@jupyter-widgets/base",
      "model_module_version": "1.2.0",
      "model_name": "LayoutModel",
      "state": {
       "_model_module": "@jupyter-widgets/base",
       "_model_module_version": "1.2.0",
       "_model_name": "LayoutModel",
       "_view_count": null,
       "_view_module": "@jupyter-widgets/base",
       "_view_module_version": "1.2.0",
       "_view_name": "LayoutView",
       "align_content": null,
       "align_items": null,
       "align_self": null,
       "border": null,
       "bottom": null,
       "display": null,
       "flex": null,
       "flex_flow": null,
       "grid_area": null,
       "grid_auto_columns": null,
       "grid_auto_flow": null,
       "grid_auto_rows": null,
       "grid_column": null,
       "grid_gap": null,
       "grid_row": null,
       "grid_template_areas": null,
       "grid_template_columns": null,
       "grid_template_rows": null,
       "height": null,
       "justify_content": null,
       "justify_items": null,
       "left": null,
       "margin": null,
       "max_height": null,
       "max_width": null,
       "min_height": null,
       "min_width": null,
       "object_fit": null,
       "object_position": null,
       "order": null,
       "overflow": null,
       "overflow_x": null,
       "overflow_y": null,
       "padding": null,
       "right": null,
       "top": null,
       "visibility": null,
       "width": null
      }
     },
     "843ff950434240b38c70ca4903eb6cf5": {
      "model_module": "@jupyter-widgets/base",
      "model_module_version": "1.2.0",
      "model_name": "LayoutModel",
      "state": {
       "_model_module": "@jupyter-widgets/base",
       "_model_module_version": "1.2.0",
       "_model_name": "LayoutModel",
       "_view_count": null,
       "_view_module": "@jupyter-widgets/base",
       "_view_module_version": "1.2.0",
       "_view_name": "LayoutView",
       "align_content": null,
       "align_items": null,
       "align_self": null,
       "border": null,
       "bottom": null,
       "display": null,
       "flex": null,
       "flex_flow": null,
       "grid_area": null,
       "grid_auto_columns": null,
       "grid_auto_flow": null,
       "grid_auto_rows": null,
       "grid_column": null,
       "grid_gap": null,
       "grid_row": null,
       "grid_template_areas": null,
       "grid_template_columns": null,
       "grid_template_rows": null,
       "height": null,
       "justify_content": null,
       "justify_items": null,
       "left": null,
       "margin": null,
       "max_height": null,
       "max_width": null,
       "min_height": null,
       "min_width": null,
       "object_fit": null,
       "object_position": null,
       "order": null,
       "overflow": null,
       "overflow_x": null,
       "overflow_y": null,
       "padding": null,
       "right": null,
       "top": null,
       "visibility": null,
       "width": null
      }
     },
     "91c4adcb48c14771a1bbc509bd32540b": {
      "model_module": "@jupyter-widgets/controls",
      "model_module_version": "1.5.0",
      "model_name": "HBoxModel",
      "state": {
       "_dom_classes": [],
       "_model_module": "@jupyter-widgets/controls",
       "_model_module_version": "1.5.0",
       "_model_name": "HBoxModel",
       "_view_count": null,
       "_view_module": "@jupyter-widgets/controls",
       "_view_module_version": "1.5.0",
       "_view_name": "HBoxView",
       "box_style": "",
       "children": [
        "IPY_MODEL_292278f13017409c89b8918162d8b1b1",
        "IPY_MODEL_690f46f3e4764996ba04fc5a736e6cc9",
        "IPY_MODEL_3d8e1c89810440c19c013ec8bd53b36f"
       ],
       "layout": "IPY_MODEL_bcc4a3584b5e44ccb4f70df71419cf98"
      }
     },
     "b97ec9d0b7e64edf8ae31b40d2bdaba0": {
      "model_module": "@jupyter-widgets/base",
      "model_module_version": "1.2.0",
      "model_name": "LayoutModel",
      "state": {
       "_model_module": "@jupyter-widgets/base",
       "_model_module_version": "1.2.0",
       "_model_name": "LayoutModel",
       "_view_count": null,
       "_view_module": "@jupyter-widgets/base",
       "_view_module_version": "1.2.0",
       "_view_name": "LayoutView",
       "align_content": null,
       "align_items": null,
       "align_self": null,
       "border": null,
       "bottom": null,
       "display": null,
       "flex": null,
       "flex_flow": null,
       "grid_area": null,
       "grid_auto_columns": null,
       "grid_auto_flow": null,
       "grid_auto_rows": null,
       "grid_column": null,
       "grid_gap": null,
       "grid_row": null,
       "grid_template_areas": null,
       "grid_template_columns": null,
       "grid_template_rows": null,
       "height": null,
       "justify_content": null,
       "justify_items": null,
       "left": null,
       "margin": null,
       "max_height": null,
       "max_width": null,
       "min_height": null,
       "min_width": null,
       "object_fit": null,
       "object_position": null,
       "order": null,
       "overflow": null,
       "overflow_x": null,
       "overflow_y": null,
       "padding": null,
       "right": null,
       "top": null,
       "visibility": null,
       "width": null
      }
     },
     "bcc4a3584b5e44ccb4f70df71419cf98": {
      "model_module": "@jupyter-widgets/base",
      "model_module_version": "1.2.0",
      "model_name": "LayoutModel",
      "state": {
       "_model_module": "@jupyter-widgets/base",
       "_model_module_version": "1.2.0",
       "_model_name": "LayoutModel",
       "_view_count": null,
       "_view_module": "@jupyter-widgets/base",
       "_view_module_version": "1.2.0",
       "_view_name": "LayoutView",
       "align_content": null,
       "align_items": null,
       "align_self": null,
       "border": null,
       "bottom": null,
       "display": null,
       "flex": null,
       "flex_flow": null,
       "grid_area": null,
       "grid_auto_columns": null,
       "grid_auto_flow": null,
       "grid_auto_rows": null,
       "grid_column": null,
       "grid_gap": null,
       "grid_row": null,
       "grid_template_areas": null,
       "grid_template_columns": null,
       "grid_template_rows": null,
       "height": null,
       "justify_content": null,
       "justify_items": null,
       "left": null,
       "margin": null,
       "max_height": null,
       "max_width": null,
       "min_height": null,
       "min_width": null,
       "object_fit": null,
       "object_position": null,
       "order": null,
       "overflow": null,
       "overflow_x": null,
       "overflow_y": null,
       "padding": null,
       "right": null,
       "top": null,
       "visibility": null,
       "width": null
      }
     },
     "cda68f04a8484fee9912d8d3affb1734": {
      "model_module": "@jupyter-widgets/controls",
      "model_module_version": "1.5.0",
      "model_name": "ProgressStyleModel",
      "state": {
       "_model_module": "@jupyter-widgets/controls",
       "_model_module_version": "1.5.0",
       "_model_name": "ProgressStyleModel",
       "_view_count": null,
       "_view_module": "@jupyter-widgets/base",
       "_view_module_version": "1.2.0",
       "_view_name": "StyleView",
       "bar_color": null,
       "description_width": ""
      }
     }
    },
    "version_major": 2,
    "version_minor": 0
   }
  }
 },
 "nbformat": 4,
 "nbformat_minor": 5
}
