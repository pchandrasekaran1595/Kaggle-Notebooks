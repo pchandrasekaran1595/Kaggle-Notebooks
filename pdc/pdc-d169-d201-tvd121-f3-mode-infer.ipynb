{
 "cells": [
  {
   "cell_type": "markdown",
   "id": "1ef42608",
   "metadata": {
    "papermill": {
     "duration": 0.004809,
     "end_time": "2022-07-06T11:12:30.383989",
     "exception": false,
     "start_time": "2022-07-06T11:12:30.379180",
     "status": "completed"
    },
    "tags": []
   },
   "source": [
    "### **Setup**"
   ]
  },
  {
   "cell_type": "code",
   "execution_count": 1,
   "id": "2efb0943",
   "metadata": {
    "execution": {
     "iopub.execute_input": "2022-07-06T11:12:30.395362Z",
     "iopub.status.busy": "2022-07-06T11:12:30.394830Z",
     "iopub.status.idle": "2022-07-06T11:12:41.192324Z",
     "shell.execute_reply": "2022-07-06T11:12:41.191120Z"
    },
    "papermill": {
     "duration": 10.804998,
     "end_time": "2022-07-06T11:12:41.194806",
     "exception": false,
     "start_time": "2022-07-06T11:12:30.389808",
     "status": "completed"
    },
    "tags": []
   },
   "outputs": [
    {
     "name": "stderr",
     "output_type": "stream",
     "text": [
      "WARNING: Running pip as the 'root' user can result in broken permissions and conflicting behaviour with the system package manager. It is recommended to use a virtual environment instead: https://pip.pypa.io/warnings/venv\n"
     ]
    }
   ],
   "source": [
    "%%bash\n",
    "pip install timm -q"
   ]
  },
  {
   "cell_type": "markdown",
   "id": "e34cd000",
   "metadata": {
    "papermill": {
     "duration": 0.003431,
     "end_time": "2022-07-06T11:12:41.202579",
     "exception": false,
     "start_time": "2022-07-06T11:12:41.199148",
     "status": "completed"
    },
    "tags": []
   },
   "source": [
    "### **Library Imports**"
   ]
  },
  {
   "cell_type": "code",
   "execution_count": 2,
   "id": "b46a74b4",
   "metadata": {
    "execution": {
     "iopub.execute_input": "2022-07-06T11:12:41.210933Z",
     "iopub.status.busy": "2022-07-06T11:12:41.210592Z",
     "iopub.status.idle": "2022-07-06T11:12:49.484202Z",
     "shell.execute_reply": "2022-07-06T11:12:49.483255Z"
    },
    "papermill": {
     "duration": 8.280515,
     "end_time": "2022-07-06T11:12:49.486620",
     "exception": false,
     "start_time": "2022-07-06T11:12:41.206105",
     "status": "completed"
    },
    "tags": []
   },
   "outputs": [],
   "source": [
    "import os\n",
    "import re\n",
    "import cv2\n",
    "import timm\n",
    "import torch\n",
    "import numpy as np\n",
    "import pandas as pd\n",
    "import matplotlib.pyplot as plt\n",
    "\n",
    "from time import time\n",
    "from torch import nn, optim\n",
    "from torch.utils.data import Dataset\n",
    "from torch.utils.data import DataLoader as DL\n",
    "from torchvision import models, transforms\n",
    "\n",
    "from sklearn.preprocessing import LabelEncoder"
   ]
  },
  {
   "cell_type": "markdown",
   "id": "94aa8d59",
   "metadata": {
    "papermill": {
     "duration": 0.003319,
     "end_time": "2022-07-06T11:12:49.493631",
     "exception": false,
     "start_time": "2022-07-06T11:12:49.490312",
     "status": "completed"
    },
    "tags": []
   },
   "source": [
    "### **Utilities and Helpers**"
   ]
  },
  {
   "cell_type": "code",
   "execution_count": 3,
   "id": "3fbcb6e2",
   "metadata": {
    "execution": {
     "iopub.execute_input": "2022-07-06T11:12:49.502929Z",
     "iopub.status.busy": "2022-07-06T11:12:49.502170Z",
     "iopub.status.idle": "2022-07-06T11:12:49.572277Z",
     "shell.execute_reply": "2022-07-06T11:12:49.571478Z"
    },
    "papermill": {
     "duration": 0.076613,
     "end_time": "2022-07-06T11:12:49.574053",
     "exception": false,
     "start_time": "2022-07-06T11:12:49.497440",
     "status": "completed"
    },
    "tags": []
   },
   "outputs": [],
   "source": [
    "SEED = 42\n",
    "SIZE = 384\n",
    "FOLD = 3\n",
    "\n",
    "TRANSFORM = transforms.Compose([transforms.ToTensor(),\n",
    "                                transforms.Normalize([0.49699, 0.58823, 0.23049],\n",
    "                                                     [0.22591, 0.22614, 0.18264]),\n",
    "                                ])\n",
    "\n",
    "MODEL_PATH_1 = f\"../input/pdc-d169-na{SIZE}f-noes-f{FOLD}/saves/ble_state.pt\"\n",
    "MODEL_PATH_2 = f\"../input/pdc-d201-na{SIZE}f-noes-f{FOLD}/saves/ble_state.pt\"\n",
    "MODEL_PATH_3 = f\"../input/pdc-tvd121-na{SIZE}f-f{FOLD}/saves/ble_state.pt\"\n",
    "\n",
    "DEVICE = torch.device(\"cuda\" if torch.cuda.is_available() else \"cpu\")\n",
    "\n",
    "le = LabelEncoder()\n",
    "\n",
    "\n",
    "def breaker(num: int=50, char: str=\"*\") -> None:\n",
    "    print(\"\\n\" + num*char + \"\\n\")\n",
    "\n",
    "\n",
    "def get_image(path: str, size: int=224) -> np.ndarray:\n",
    "    return cv2.resize(src=cv2.cvtColor(src=cv2.imread(path, cv2.IMREAD_COLOR), code=cv2.COLOR_BGR2RGB), dsize=(size, size), interpolation=cv2.INTER_AREA)"
   ]
  },
  {
   "cell_type": "markdown",
   "id": "bf0d39eb",
   "metadata": {
    "papermill": {
     "duration": 0.003334,
     "end_time": "2022-07-06T11:12:49.581230",
     "exception": false,
     "start_time": "2022-07-06T11:12:49.577896",
     "status": "completed"
    },
    "tags": []
   },
   "source": [
    "### **Configuration**"
   ]
  },
  {
   "cell_type": "markdown",
   "id": "02736c3f",
   "metadata": {
    "papermill": {
     "duration": 0.003723,
     "end_time": "2022-07-06T11:12:49.588402",
     "exception": false,
     "start_time": "2022-07-06T11:12:49.584679",
     "status": "completed"
    },
    "tags": []
   },
   "source": [
    "### **Dataset Template**"
   ]
  },
  {
   "cell_type": "code",
   "execution_count": 4,
   "id": "436663be",
   "metadata": {
    "execution": {
     "iopub.execute_input": "2022-07-06T11:12:49.596595Z",
     "iopub.status.busy": "2022-07-06T11:12:49.596180Z",
     "iopub.status.idle": "2022-07-06T11:12:49.602162Z",
     "shell.execute_reply": "2022-07-06T11:12:49.601363Z"
    },
    "papermill": {
     "duration": 0.011832,
     "end_time": "2022-07-06T11:12:49.603721",
     "exception": false,
     "start_time": "2022-07-06T11:12:49.591889",
     "status": "completed"
    },
    "tags": []
   },
   "outputs": [],
   "source": [
    "class DS(Dataset):\n",
    "    def __init__(self, base_path: str, filenames: np.ndarray, size: int=224, transform=None):\n",
    "        self.base_path = base_path\n",
    "        self.filenames = filenames\n",
    "        self.size = size\n",
    "        self.transform = transform\n",
    "    \n",
    "    def __len__(self):\n",
    "        return self.filenames.shape[0]\n",
    "    \n",
    "    def __getitem__(self, idx):\n",
    "        return self.transform(get_image(os.path.join(self.base_path, self.filenames[idx]), size=self.size))"
   ]
  },
  {
   "cell_type": "markdown",
   "id": "43528335",
   "metadata": {
    "papermill": {
     "duration": 0.003227,
     "end_time": "2022-07-06T11:12:49.610393",
     "exception": false,
     "start_time": "2022-07-06T11:12:49.607166",
     "status": "completed"
    },
    "tags": []
   },
   "source": [
    "### **Model**"
   ]
  },
  {
   "cell_type": "code",
   "execution_count": 5,
   "id": "28675ef7",
   "metadata": {
    "execution": {
     "iopub.execute_input": "2022-07-06T11:12:49.618751Z",
     "iopub.status.busy": "2022-07-06T11:12:49.618035Z",
     "iopub.status.idle": "2022-07-06T11:12:49.627227Z",
     "shell.execute_reply": "2022-07-06T11:12:49.626522Z"
    },
    "papermill": {
     "duration": 0.015041,
     "end_time": "2022-07-06T11:12:49.628834",
     "exception": false,
     "start_time": "2022-07-06T11:12:49.613793",
     "status": "completed"
    },
    "tags": []
   },
   "outputs": [],
   "source": [
    "class Model(nn.Module):\n",
    "    def __init__(self, model_name=\"densenet\"):\n",
    "        super(Model, self).__init__()\n",
    "\n",
    "        if model_name == \"densenet169\":\n",
    "            self.model = models.densenet169(pretrained=False, progress=True)\n",
    "            # self.freeze()\n",
    "            self.model.classifier = nn.Linear(in_features=self.model.classifier.in_features, out_features=10)\n",
    "        \n",
    "        elif model_name == \"densenet201\":\n",
    "            self.model = models.densenet201(pretrained=False, progress=True)\n",
    "            # self.freeze()\n",
    "            self.model.classifier = nn.Linear(in_features=self.model.classifier.in_features, out_features=10)\n",
    "            \n",
    "        elif model_name == \"tv_densenet121\":\n",
    "            self.model = timm.create_model(model_name=\"tv_densenet121\", pretrained=False)\n",
    "            # self.freeze()\n",
    "            self.model.classifier = nn.Linear(in_features=self.model.classifier.in_features, out_features=10)\n",
    "        \n",
    "        else:\n",
    "            raise NotImplementedError()\n",
    "    \n",
    "    def freeze(self):\n",
    "        for params in self.parameters(): params.requires_grad = False\n",
    "\n",
    "    def forward(self, x):\n",
    "        return nn.LogSoftmax(dim=1)(self.model(x))"
   ]
  },
  {
   "cell_type": "markdown",
   "id": "45eb4a22",
   "metadata": {
    "papermill": {
     "duration": 0.003255,
     "end_time": "2022-07-06T11:12:49.636112",
     "exception": false,
     "start_time": "2022-07-06T11:12:49.632857",
     "status": "completed"
    },
    "tags": []
   },
   "source": [
    "### **Predict Helpers**"
   ]
  },
  {
   "cell_type": "code",
   "execution_count": 6,
   "id": "edf55ebe",
   "metadata": {
    "execution": {
     "iopub.execute_input": "2022-07-06T11:12:49.644352Z",
     "iopub.status.busy": "2022-07-06T11:12:49.643726Z",
     "iopub.status.idle": "2022-07-06T11:12:49.653022Z",
     "shell.execute_reply": "2022-07-06T11:12:49.652188Z"
    },
    "papermill": {
     "duration": 0.015424,
     "end_time": "2022-07-06T11:12:49.654896",
     "exception": false,
     "start_time": "2022-07-06T11:12:49.639472",
     "status": "completed"
    },
    "tags": []
   },
   "outputs": [],
   "source": [
    "def predict_batch(models: list=None, model_2=None, dataloader=None, paths: list=None, device=None) -> np.ndarray:\n",
    "    assert len(models) == len(paths)\n",
    "    \n",
    "    for i in range(len(models)):\n",
    "        models[i].load_state_dict(torch.load(paths[i], map_location=device)[\"model_state_dict\"])\n",
    "        models[i].to(device)    \n",
    "        models[i].eval()\n",
    "    \n",
    "    y_pred = torch.zeros(1, 1).to(device)\n",
    "    \n",
    "    for X in dataloader:\n",
    "        X = X.to(device)\n",
    "        with torch.no_grad():\n",
    "            output = torch.cat((\n",
    "                torch.argmax(torch.exp(models[0](X)), dim=1).reshape(-1, 1), \n",
    "                torch.argmax(torch.exp(models[1](X)), dim=1).reshape(-1, 1), \n",
    "                torch.argmax(torch.exp(models[2](X)), dim=1).reshape(-1, 1)), \n",
    "            dim=1)\n",
    "            \n",
    "        output = torch.mode(output, dim=1)[0]\n",
    "        y_pred = torch.cat((y_pred, output.view(-1, 1)), dim=0)\n",
    "    \n",
    "    return y_pred[1:].detach().cpu().numpy()"
   ]
  },
  {
   "cell_type": "markdown",
   "id": "95ff90e8",
   "metadata": {
    "papermill": {
     "duration": 0.003253,
     "end_time": "2022-07-06T11:12:49.661764",
     "exception": false,
     "start_time": "2022-07-06T11:12:49.658511",
     "status": "completed"
    },
    "tags": []
   },
   "source": [
    "### **Submission**"
   ]
  },
  {
   "cell_type": "code",
   "execution_count": 7,
   "id": "a183e4a9",
   "metadata": {
    "execution": {
     "iopub.execute_input": "2022-07-06T11:12:49.669797Z",
     "iopub.status.busy": "2022-07-06T11:12:49.669500Z",
     "iopub.status.idle": "2022-07-06T11:14:46.137281Z",
     "shell.execute_reply": "2022-07-06T11:14:46.136476Z"
    },
    "papermill": {
     "duration": 116.47447,
     "end_time": "2022-07-06T11:14:46.139667",
     "exception": false,
     "start_time": "2022-07-06T11:12:49.665197",
     "status": "completed"
    },
    "tags": []
   },
   "outputs": [],
   "source": [
    "df = pd.read_csv(\"../input/paddy-disease-classification/train.csv\")\n",
    "ss_df = pd.read_csv(\"../input/paddy-disease-classification/sample_submission.csv\")\n",
    "\n",
    "labels = df.label.copy().values\n",
    "labels = le.fit_transform(labels)\n",
    "\n",
    "ts_data_setup = DS(base_path=\"../input/paddy-disease-classification/test_images\", \n",
    "                   filenames=ss_df.image_id.copy().values,\n",
    "                   size=SIZE,\n",
    "                   transform=TRANSFORM)\n",
    "ts_data = DL(ts_data_setup, batch_size=64, shuffle=False)\n",
    "\n",
    "model_1 = Model(\"densenet169\").to(DEVICE)\n",
    "model_2 = Model(\"densenet201\").to(DEVICE)\n",
    "model_3 = Model(\"tv_densenet121\").to(DEVICE)\n",
    "\n",
    "y_pred = predict_batch(models=[model_1, model_2, model_3], \n",
    "                       dataloader=ts_data, \n",
    "                       paths=[MODEL_PATH_1, MODEL_PATH_2, MODEL_PATH_3],\n",
    "                       device=DEVICE)\n",
    "\n",
    "ss_df[\"label\"] = le.inverse_transform(y_pred.astype(\"uint8\").reshape(-1))\n",
    "ss_df.to_csv(\"submission.csv\", index=False)"
   ]
  }
 ],
 "metadata": {
  "kernelspec": {
   "display_name": "Python 3",
   "language": "python",
   "name": "python3"
  },
  "language_info": {
   "codemirror_mode": {
    "name": "ipython",
    "version": 3
   },
   "file_extension": ".py",
   "mimetype": "text/x-python",
   "name": "python",
   "nbconvert_exporter": "python",
   "pygments_lexer": "ipython3",
   "version": "3.7.12"
  },
  "papermill": {
   "default_parameters": {},
   "duration": 147.395788,
   "end_time": "2022-07-06T11:14:49.573694",
   "environment_variables": {},
   "exception": null,
   "input_path": "__notebook__.ipynb",
   "output_path": "__notebook__.ipynb",
   "parameters": {},
   "start_time": "2022-07-06T11:12:22.177906",
   "version": "2.3.4"
  }
 },
 "nbformat": 4,
 "nbformat_minor": 5
}
