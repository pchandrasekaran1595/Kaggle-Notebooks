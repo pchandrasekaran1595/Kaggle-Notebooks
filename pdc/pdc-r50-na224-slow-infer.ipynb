{
 "cells": [
  {
   "cell_type": "markdown",
   "id": "aff48935",
   "metadata": {
    "papermill": {
     "duration": 0.004818,
     "end_time": "2022-06-14T11:35:11.537104",
     "exception": false,
     "start_time": "2022-06-14T11:35:11.532286",
     "status": "completed"
    },
    "tags": []
   },
   "source": [
    "### **Library Imports**"
   ]
  },
  {
   "cell_type": "code",
   "execution_count": 1,
   "id": "a5102555",
   "metadata": {
    "execution": {
     "iopub.execute_input": "2022-06-14T11:35:11.549174Z",
     "iopub.status.busy": "2022-06-14T11:35:11.548512Z",
     "iopub.status.idle": "2022-06-14T11:35:15.130270Z",
     "shell.execute_reply": "2022-06-14T11:35:15.129187Z"
    },
    "papermill": {
     "duration": 3.590001,
     "end_time": "2022-06-14T11:35:15.132881",
     "exception": false,
     "start_time": "2022-06-14T11:35:11.542880",
     "status": "completed"
    },
    "tags": []
   },
   "outputs": [],
   "source": [
    "import os\n",
    "import re\n",
    "import cv2\n",
    "import torch\n",
    "import numpy as np\n",
    "import pandas as pd\n",
    "import matplotlib.pyplot as plt\n",
    "\n",
    "from time import time\n",
    "from torch import nn, optim\n",
    "from torch.utils.data import Dataset\n",
    "from torch.utils.data import DataLoader as DL\n",
    "from torchvision import models, transforms\n",
    "\n",
    "from sklearn.preprocessing import LabelEncoder"
   ]
  },
  {
   "cell_type": "markdown",
   "id": "98e94bb1",
   "metadata": {
    "papermill": {
     "duration": 0.003481,
     "end_time": "2022-06-14T11:35:15.140415",
     "exception": false,
     "start_time": "2022-06-14T11:35:15.136934",
     "status": "completed"
    },
    "tags": []
   },
   "source": [
    "### **Utilities and Helpers**"
   ]
  },
  {
   "cell_type": "code",
   "execution_count": 2,
   "id": "233c8e92",
   "metadata": {
    "execution": {
     "iopub.execute_input": "2022-06-14T11:35:15.149558Z",
     "iopub.status.busy": "2022-06-14T11:35:15.148998Z",
     "iopub.status.idle": "2022-06-14T11:35:15.223119Z",
     "shell.execute_reply": "2022-06-14T11:35:15.222090Z"
    },
    "papermill": {
     "duration": 0.081169,
     "end_time": "2022-06-14T11:35:15.225325",
     "exception": false,
     "start_time": "2022-06-14T11:35:15.144156",
     "status": "completed"
    },
    "tags": []
   },
   "outputs": [],
   "source": [
    "SEED = 42\n",
    "SIZE = 224\n",
    "TRANSFORM = transforms.Compose([transforms.ToTensor(),\n",
    "                                transforms.Normalize([0.485, 0.456, 0.406],\n",
    "                                                     [0.229, 0.224, 0.225]),\n",
    "                                ])\n",
    "MODEL_PATH = f\"../input/pdc-r50-na224-slow/saves/state.pt\"\n",
    "DEVICE = torch.device(\"cuda\" if torch.cuda.is_available() else \"cpu\")\n",
    "\n",
    "le = LabelEncoder()\n",
    "\n",
    "\n",
    "def breaker(num: int=50, char: str=\"*\") -> None:\n",
    "    print(\"\\n\" + num*char + \"\\n\")\n",
    "\n",
    "\n",
    "def get_image(path: str, size: int=224) -> np.ndarray:\n",
    "    return cv2.resize(src=cv2.cvtColor(src=cv2.imread(path, cv2.IMREAD_COLOR), code=cv2.COLOR_BGR2RGB), dsize=(size, size), interpolation=cv2.INTER_AREA)"
   ]
  },
  {
   "cell_type": "markdown",
   "id": "7aa3b37d",
   "metadata": {
    "papermill": {
     "duration": 0.003566,
     "end_time": "2022-06-14T11:35:15.232969",
     "exception": false,
     "start_time": "2022-06-14T11:35:15.229403",
     "status": "completed"
    },
    "tags": []
   },
   "source": [
    "### **Configuration**"
   ]
  },
  {
   "cell_type": "markdown",
   "id": "f90e43f2",
   "metadata": {
    "papermill": {
     "duration": 0.003517,
     "end_time": "2022-06-14T11:35:15.240141",
     "exception": false,
     "start_time": "2022-06-14T11:35:15.236624",
     "status": "completed"
    },
    "tags": []
   },
   "source": [
    "### **Dataset Template**"
   ]
  },
  {
   "cell_type": "code",
   "execution_count": 3,
   "id": "58bcdc01",
   "metadata": {
    "execution": {
     "iopub.execute_input": "2022-06-14T11:35:15.249002Z",
     "iopub.status.busy": "2022-06-14T11:35:15.248634Z",
     "iopub.status.idle": "2022-06-14T11:35:15.256001Z",
     "shell.execute_reply": "2022-06-14T11:35:15.254952Z"
    },
    "papermill": {
     "duration": 0.014434,
     "end_time": "2022-06-14T11:35:15.258190",
     "exception": false,
     "start_time": "2022-06-14T11:35:15.243756",
     "status": "completed"
    },
    "tags": []
   },
   "outputs": [],
   "source": [
    "class DS(Dataset):\n",
    "    def __init__(self, base_path: str, filenames: np.ndarray, size: int=224, transform=None):\n",
    "        self.base_path = base_path\n",
    "        self.filenames = filenames\n",
    "        self.size = size\n",
    "        self.transform = transform\n",
    "    \n",
    "    def __len__(self):\n",
    "        return self.filenames.shape[0]\n",
    "    \n",
    "    def __getitem__(self, idx):\n",
    "        return self.transform(get_image(os.path.join(self.base_path, self.filenames[idx]), size=self.size))"
   ]
  },
  {
   "cell_type": "markdown",
   "id": "275b93e5",
   "metadata": {
    "papermill": {
     "duration": 0.003407,
     "end_time": "2022-06-14T11:35:15.265532",
     "exception": false,
     "start_time": "2022-06-14T11:35:15.262125",
     "status": "completed"
    },
    "tags": []
   },
   "source": [
    "### **Model**"
   ]
  },
  {
   "cell_type": "code",
   "execution_count": 4,
   "id": "770cd49e",
   "metadata": {
    "execution": {
     "iopub.execute_input": "2022-06-14T11:35:15.275186Z",
     "iopub.status.busy": "2022-06-14T11:35:15.274309Z",
     "iopub.status.idle": "2022-06-14T11:35:15.283093Z",
     "shell.execute_reply": "2022-06-14T11:35:15.282107Z"
    },
    "papermill": {
     "duration": 0.015969,
     "end_time": "2022-06-14T11:35:15.285297",
     "exception": false,
     "start_time": "2022-06-14T11:35:15.269328",
     "status": "completed"
    },
    "tags": []
   },
   "outputs": [],
   "source": [
    "class Model(nn.Module):\n",
    "    def __init__(self):\n",
    "        super(Model, self).__init__()\n",
    "\n",
    "        self.model = models.resnet50(pretrained=False, progress=True)\n",
    "        self.freeze()\n",
    "        self.model.fc = nn.Linear(in_features=self.model.fc.in_features, out_features=10)\n",
    "    \n",
    "    def freeze(self):\n",
    "        for params in self.parameters(): params.requires_grad = False\n",
    "\n",
    "    def forward(self, x):\n",
    "        return nn.LogSoftmax(dim=1)(self.model(x))"
   ]
  },
  {
   "cell_type": "markdown",
   "id": "ac2197ad",
   "metadata": {
    "papermill": {
     "duration": 0.003574,
     "end_time": "2022-06-14T11:35:15.292511",
     "exception": false,
     "start_time": "2022-06-14T11:35:15.288937",
     "status": "completed"
    },
    "tags": []
   },
   "source": [
    "### **Predict Helpers**"
   ]
  },
  {
   "cell_type": "code",
   "execution_count": 5,
   "id": "ec812449",
   "metadata": {
    "execution": {
     "iopub.execute_input": "2022-06-14T11:35:15.301511Z",
     "iopub.status.busy": "2022-06-14T11:35:15.301126Z",
     "iopub.status.idle": "2022-06-14T11:35:15.309377Z",
     "shell.execute_reply": "2022-06-14T11:35:15.308363Z"
    },
    "papermill": {
     "duration": 0.015313,
     "end_time": "2022-06-14T11:35:15.311524",
     "exception": false,
     "start_time": "2022-06-14T11:35:15.296211",
     "status": "completed"
    },
    "tags": []
   },
   "outputs": [],
   "source": [
    "def predict_batch(model=None, dataloader=None, path=None, device=None) -> np.ndarray:\n",
    "    model.load_state_dict(torch.load(path, map_location=device)[\"model_state_dict\"])\n",
    "    model.to(device)    \n",
    "    model.eval()\n",
    "    \n",
    "    y_pred = torch.zeros(1, 1).to(device)\n",
    "    \n",
    "    for X in dataloader:\n",
    "        X = X.to(device)\n",
    "        with torch.no_grad():\n",
    "            output = torch.argmax(torch.exp(model(X)), dim=1)\n",
    "        y_pred = torch.cat((y_pred, output.view(-1, 1)), dim=0)\n",
    "    \n",
    "    return y_pred[1:].detach().cpu().numpy()"
   ]
  },
  {
   "cell_type": "markdown",
   "id": "2fb79b8a",
   "metadata": {
    "papermill": {
     "duration": 0.003534,
     "end_time": "2022-06-14T11:35:15.318857",
     "exception": false,
     "start_time": "2022-06-14T11:35:15.315323",
     "status": "completed"
    },
    "tags": []
   },
   "source": [
    "### **Submission**"
   ]
  },
  {
   "cell_type": "code",
   "execution_count": 6,
   "id": "e80bf8da",
   "metadata": {
    "execution": {
     "iopub.execute_input": "2022-06-14T11:35:15.328188Z",
     "iopub.status.busy": "2022-06-14T11:35:15.327326Z",
     "iopub.status.idle": "2022-06-14T11:36:24.313324Z",
     "shell.execute_reply": "2022-06-14T11:36:24.311811Z"
    },
    "papermill": {
     "duration": 68.994284,
     "end_time": "2022-06-14T11:36:24.316815",
     "exception": false,
     "start_time": "2022-06-14T11:35:15.322531",
     "status": "completed"
    },
    "tags": []
   },
   "outputs": [],
   "source": [
    "df = pd.read_csv(\"../input/paddy-disease-classification/train.csv\")\n",
    "ss_df = pd.read_csv(\"../input/paddy-disease-classification/sample_submission.csv\")\n",
    "\n",
    "labels = df.label.copy().values\n",
    "labels = le.fit_transform(labels)\n",
    "\n",
    "ts_data_setup = DS(base_path=\"../input/paddy-disease-classification/test_images\", \n",
    "                   filenames=ss_df.image_id.copy().values,\n",
    "                   size=SIZE,\n",
    "                   transform=TRANSFORM)\n",
    "ts_data = DL(ts_data_setup, batch_size=64, shuffle=False)\n",
    "\n",
    "model = Model().to(DEVICE)\n",
    "\n",
    "y_pred = predict_batch(model=model, \n",
    "                       dataloader=ts_data, \n",
    "                       path=MODEL_PATH,\n",
    "                       device=DEVICE)\n",
    "\n",
    "ss_df[\"label\"] = le.inverse_transform(y_pred.astype(\"uint8\").reshape(-1))\n",
    "ss_df.to_csv(\"submission.csv\", index=False)"
   ]
  }
 ],
 "metadata": {
  "kernelspec": {
   "display_name": "Python 3",
   "language": "python",
   "name": "python3"
  },
  "language_info": {
   "codemirror_mode": {
    "name": "ipython",
    "version": 3
   },
   "file_extension": ".py",
   "mimetype": "text/x-python",
   "name": "python",
   "nbconvert_exporter": "python",
   "pygments_lexer": "ipython3",
   "version": "3.7.12"
  },
  "papermill": {
   "default_parameters": {},
   "duration": 85.827878,
   "end_time": "2022-06-14T11:36:27.009461",
   "environment_variables": {},
   "exception": null,
   "input_path": "__notebook__.ipynb",
   "output_path": "__notebook__.ipynb",
   "parameters": {},
   "start_time": "2022-06-14T11:35:01.181583",
   "version": "2.3.4"
  }
 },
 "nbformat": 4,
 "nbformat_minor": 5
}
