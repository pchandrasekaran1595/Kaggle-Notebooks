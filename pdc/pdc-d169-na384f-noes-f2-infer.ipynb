{
 "cells": [
  {
   "cell_type": "markdown",
   "id": "a7aa0316",
   "metadata": {
    "papermill": {
     "duration": 0.004212,
     "end_time": "2022-06-17T17:55:19.636279",
     "exception": false,
     "start_time": "2022-06-17T17:55:19.632067",
     "status": "completed"
    },
    "tags": []
   },
   "source": [
    "### **Library Imports**"
   ]
  },
  {
   "cell_type": "code",
   "execution_count": 1,
   "id": "63060087",
   "metadata": {
    "execution": {
     "iopub.execute_input": "2022-06-17T17:55:19.646542Z",
     "iopub.status.busy": "2022-06-17T17:55:19.646034Z",
     "iopub.status.idle": "2022-06-17T17:55:22.851709Z",
     "shell.execute_reply": "2022-06-17T17:55:22.850906Z"
    },
    "papermill": {
     "duration": 3.212646,
     "end_time": "2022-06-17T17:55:22.854261",
     "exception": false,
     "start_time": "2022-06-17T17:55:19.641615",
     "status": "completed"
    },
    "tags": []
   },
   "outputs": [],
   "source": [
    "import os\n",
    "import re\n",
    "import cv2\n",
    "import torch\n",
    "import numpy as np\n",
    "import pandas as pd\n",
    "import matplotlib.pyplot as plt\n",
    "\n",
    "from time import time\n",
    "from torch import nn, optim\n",
    "from torch.utils.data import Dataset\n",
    "from torch.utils.data import DataLoader as DL\n",
    "from torchvision import models, transforms\n",
    "\n",
    "from sklearn.preprocessing import LabelEncoder"
   ]
  },
  {
   "cell_type": "markdown",
   "id": "cfcc6992",
   "metadata": {
    "papermill": {
     "duration": 0.003297,
     "end_time": "2022-06-17T17:55:22.861026",
     "exception": false,
     "start_time": "2022-06-17T17:55:22.857729",
     "status": "completed"
    },
    "tags": []
   },
   "source": [
    "### **Utilities and Helpers**"
   ]
  },
  {
   "cell_type": "code",
   "execution_count": 2,
   "id": "a5c8391c",
   "metadata": {
    "execution": {
     "iopub.execute_input": "2022-06-17T17:55:22.869236Z",
     "iopub.status.busy": "2022-06-17T17:55:22.868522Z",
     "iopub.status.idle": "2022-06-17T17:55:22.933250Z",
     "shell.execute_reply": "2022-06-17T17:55:22.932380Z"
    },
    "papermill": {
     "duration": 0.0707,
     "end_time": "2022-06-17T17:55:22.934936",
     "exception": false,
     "start_time": "2022-06-17T17:55:22.864236",
     "status": "completed"
    },
    "tags": []
   },
   "outputs": [],
   "source": [
    "SEED = 42\n",
    "SIZE = 384\n",
    "FOLD = 2\n",
    "TRANSFORM = transforms.Compose([transforms.ToTensor(),\n",
    "                                transforms.Normalize([0.49699, 0.58823, 0.23049],\n",
    "                                                     [0.22591, 0.22614, 0.18264]),\n",
    "                                ])\n",
    "MODEL_PATH = f\"../input/pdc-d169-na{SIZE}f-noes-f{FOLD}/saves/ble_state.pt\"\n",
    "DEVICE = torch.device(\"cuda\" if torch.cuda.is_available() else \"cpu\")\n",
    "\n",
    "le = LabelEncoder()\n",
    "\n",
    "\n",
    "def breaker(num: int=50, char: str=\"*\") -> None:\n",
    "    print(\"\\n\" + num*char + \"\\n\")\n",
    "\n",
    "\n",
    "def get_image(path: str, size: int=224) -> np.ndarray:\n",
    "    return cv2.resize(src=cv2.cvtColor(src=cv2.imread(path, cv2.IMREAD_COLOR), code=cv2.COLOR_BGR2RGB), dsize=(size, size), interpolation=cv2.INTER_AREA)"
   ]
  },
  {
   "cell_type": "markdown",
   "id": "b096cf3c",
   "metadata": {
    "papermill": {
     "duration": 0.002941,
     "end_time": "2022-06-17T17:55:22.941167",
     "exception": false,
     "start_time": "2022-06-17T17:55:22.938226",
     "status": "completed"
    },
    "tags": []
   },
   "source": [
    "### **Configuration**"
   ]
  },
  {
   "cell_type": "markdown",
   "id": "dbc13301",
   "metadata": {
    "papermill": {
     "duration": 0.002878,
     "end_time": "2022-06-17T17:55:22.947056",
     "exception": false,
     "start_time": "2022-06-17T17:55:22.944178",
     "status": "completed"
    },
    "tags": []
   },
   "source": [
    "### **Dataset Template**"
   ]
  },
  {
   "cell_type": "code",
   "execution_count": 3,
   "id": "6f9e55ae",
   "metadata": {
    "execution": {
     "iopub.execute_input": "2022-06-17T17:55:22.954150Z",
     "iopub.status.busy": "2022-06-17T17:55:22.953829Z",
     "iopub.status.idle": "2022-06-17T17:55:22.959857Z",
     "shell.execute_reply": "2022-06-17T17:55:22.959040Z"
    },
    "papermill": {
     "duration": 0.011646,
     "end_time": "2022-06-17T17:55:22.961671",
     "exception": false,
     "start_time": "2022-06-17T17:55:22.950025",
     "status": "completed"
    },
    "tags": []
   },
   "outputs": [],
   "source": [
    "class DS(Dataset):\n",
    "    def __init__(self, base_path: str, filenames: np.ndarray, size: int=224, transform=None):\n",
    "        self.base_path = base_path\n",
    "        self.filenames = filenames\n",
    "        self.size = size\n",
    "        self.transform = transform\n",
    "    \n",
    "    def __len__(self):\n",
    "        return self.filenames.shape[0]\n",
    "    \n",
    "    def __getitem__(self, idx):\n",
    "        return self.transform(get_image(os.path.join(self.base_path, self.filenames[idx]), size=self.size))"
   ]
  },
  {
   "cell_type": "markdown",
   "id": "96b93020",
   "metadata": {
    "papermill": {
     "duration": 0.002818,
     "end_time": "2022-06-17T17:55:22.967477",
     "exception": false,
     "start_time": "2022-06-17T17:55:22.964659",
     "status": "completed"
    },
    "tags": []
   },
   "source": [
    "### **Model**"
   ]
  },
  {
   "cell_type": "code",
   "execution_count": 4,
   "id": "9ae2bfc8",
   "metadata": {
    "execution": {
     "iopub.execute_input": "2022-06-17T17:55:22.974805Z",
     "iopub.status.busy": "2022-06-17T17:55:22.974557Z",
     "iopub.status.idle": "2022-06-17T17:55:22.980237Z",
     "shell.execute_reply": "2022-06-17T17:55:22.979525Z"
    },
    "papermill": {
     "duration": 0.011597,
     "end_time": "2022-06-17T17:55:22.982071",
     "exception": false,
     "start_time": "2022-06-17T17:55:22.970474",
     "status": "completed"
    },
    "tags": []
   },
   "outputs": [],
   "source": [
    "class Model(nn.Module):\n",
    "    def __init__(self):\n",
    "        super(Model, self).__init__()\n",
    "\n",
    "        self.model = models.densenet169(pretrained=False, progress=True)\n",
    "        # self.freeze()\n",
    "        self.model.classifier = nn.Linear(in_features=self.model.classifier.in_features, out_features=10)\n",
    "    \n",
    "    def freeze(self):\n",
    "        for params in self.parameters(): params.requires_grad = False\n",
    "\n",
    "    def forward(self, x):\n",
    "        return nn.LogSoftmax(dim=1)(self.model(x))"
   ]
  },
  {
   "cell_type": "markdown",
   "id": "494ca6ab",
   "metadata": {
    "papermill": {
     "duration": 0.002865,
     "end_time": "2022-06-17T17:55:22.988128",
     "exception": false,
     "start_time": "2022-06-17T17:55:22.985263",
     "status": "completed"
    },
    "tags": []
   },
   "source": [
    "### **Predict Helpers**"
   ]
  },
  {
   "cell_type": "code",
   "execution_count": 5,
   "id": "41dc48c6",
   "metadata": {
    "execution": {
     "iopub.execute_input": "2022-06-17T17:55:22.996179Z",
     "iopub.status.busy": "2022-06-17T17:55:22.995488Z",
     "iopub.status.idle": "2022-06-17T17:55:23.003039Z",
     "shell.execute_reply": "2022-06-17T17:55:23.002368Z"
    },
    "papermill": {
     "duration": 0.013591,
     "end_time": "2022-06-17T17:55:23.004688",
     "exception": false,
     "start_time": "2022-06-17T17:55:22.991097",
     "status": "completed"
    },
    "tags": []
   },
   "outputs": [],
   "source": [
    "def predict_batch(model=None, dataloader=None, path=None, device=None) -> np.ndarray:\n",
    "    model.load_state_dict(torch.load(path, map_location=device)[\"model_state_dict\"])\n",
    "    model.to(device)    \n",
    "    model.eval()\n",
    "    \n",
    "    y_pred = torch.zeros(1, 1).to(device)\n",
    "    \n",
    "    for X in dataloader:\n",
    "        X = X.to(device)\n",
    "        with torch.no_grad():\n",
    "            output = torch.argmax(torch.exp(model(X)), dim=1)\n",
    "        y_pred = torch.cat((y_pred, output.view(-1, 1)), dim=0)\n",
    "    \n",
    "    return y_pred[1:].detach().cpu().numpy()"
   ]
  },
  {
   "cell_type": "markdown",
   "id": "f1e5d4e9",
   "metadata": {
    "papermill": {
     "duration": 0.002829,
     "end_time": "2022-06-17T17:55:23.010842",
     "exception": false,
     "start_time": "2022-06-17T17:55:23.008013",
     "status": "completed"
    },
    "tags": []
   },
   "source": [
    "### **Submission**"
   ]
  },
  {
   "cell_type": "code",
   "execution_count": 6,
   "id": "2e11fc99",
   "metadata": {
    "execution": {
     "iopub.execute_input": "2022-06-17T17:55:23.018137Z",
     "iopub.status.busy": "2022-06-17T17:55:23.017603Z",
     "iopub.status.idle": "2022-06-17T17:56:48.885563Z",
     "shell.execute_reply": "2022-06-17T17:56:48.884617Z"
    },
    "papermill": {
     "duration": 85.874033,
     "end_time": "2022-06-17T17:56:48.887854",
     "exception": false,
     "start_time": "2022-06-17T17:55:23.013821",
     "status": "completed"
    },
    "tags": []
   },
   "outputs": [],
   "source": [
    "df = pd.read_csv(\"../input/paddy-disease-classification/train.csv\")\n",
    "ss_df = pd.read_csv(\"../input/paddy-disease-classification/sample_submission.csv\")\n",
    "\n",
    "labels = df.label.copy().values\n",
    "labels = le.fit_transform(labels)\n",
    "\n",
    "ts_data_setup = DS(base_path=\"../input/paddy-disease-classification/test_images\", \n",
    "                   filenames=ss_df.image_id.copy().values,\n",
    "                   size=SIZE,\n",
    "                   transform=TRANSFORM)\n",
    "ts_data = DL(ts_data_setup, batch_size=64, shuffle=False)\n",
    "\n",
    "model = Model().to(DEVICE)\n",
    "\n",
    "y_pred = predict_batch(model=model, \n",
    "                       dataloader=ts_data, \n",
    "                       path=MODEL_PATH,\n",
    "                       device=DEVICE)\n",
    "\n",
    "ss_df[\"label\"] = le.inverse_transform(y_pred.astype(\"uint8\").reshape(-1))\n",
    "ss_df.to_csv(\"submission.csv\", index=False)"
   ]
  }
 ],
 "metadata": {
  "kernelspec": {
   "display_name": "Python 3",
   "language": "python",
   "name": "python3"
  },
  "language_info": {
   "codemirror_mode": {
    "name": "ipython",
    "version": 3
   },
   "file_extension": ".py",
   "mimetype": "text/x-python",
   "name": "python",
   "nbconvert_exporter": "python",
   "pygments_lexer": "ipython3",
   "version": "3.7.12"
  },
  "papermill": {
   "default_parameters": {},
   "duration": 100.385277,
   "end_time": "2022-06-17T17:56:51.249091",
   "environment_variables": {},
   "exception": null,
   "input_path": "__notebook__.ipynb",
   "output_path": "__notebook__.ipynb",
   "parameters": {},
   "start_time": "2022-06-17T17:55:10.863814",
   "version": "2.3.4"
  }
 },
 "nbformat": 4,
 "nbformat_minor": 5
}
