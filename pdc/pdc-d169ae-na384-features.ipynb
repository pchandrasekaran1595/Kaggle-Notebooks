{
 "cells": [
  {
   "cell_type": "markdown",
   "id": "d20cbe85",
   "metadata": {
    "_cell_guid": "b1076dfc-b9ad-4769-8c92-a6c4dae69d19",
    "_uuid": "8f2839f25d086af736a60e9eeb907d3b93b6e0e5",
    "papermill": {
     "duration": 0.004607,
     "end_time": "2022-06-20T08:25:08.041143",
     "exception": false,
     "start_time": "2022-06-20T08:25:08.036536",
     "status": "completed"
    },
    "tags": []
   },
   "source": [
    "### **Library Imports**"
   ]
  },
  {
   "cell_type": "code",
   "execution_count": 1,
   "id": "e566d348",
   "metadata": {
    "execution": {
     "iopub.execute_input": "2022-06-20T08:25:08.050608Z",
     "iopub.status.busy": "2022-06-20T08:25:08.049624Z",
     "iopub.status.idle": "2022-06-20T08:25:11.208726Z",
     "shell.execute_reply": "2022-06-20T08:25:11.207749Z"
    },
    "papermill": {
     "duration": 3.166726,
     "end_time": "2022-06-20T08:25:11.211616",
     "exception": false,
     "start_time": "2022-06-20T08:25:08.044890",
     "status": "completed"
    },
    "tags": []
   },
   "outputs": [],
   "source": [
    "import os\n",
    "import re\n",
    "import torch\n",
    "import random as r\n",
    "import numpy as np\n",
    "import pandas as pd\n",
    "import matplotlib.pyplot as plt\n",
    "\n",
    "from time import time\n",
    "from torch import nn, optim\n",
    "from torch.utils.data import Dataset\n",
    "from torch.utils.data import DataLoader as DL\n",
    "from torchvision import models, transforms\n",
    "\n",
    "from sklearn.model_selection import KFold"
   ]
  },
  {
   "cell_type": "markdown",
   "id": "7ff3ddf2",
   "metadata": {
    "papermill": {
     "duration": 0.006326,
     "end_time": "2022-06-20T08:25:11.224657",
     "exception": false,
     "start_time": "2022-06-20T08:25:11.218331",
     "status": "completed"
    },
    "tags": []
   },
   "source": [
    "### **Utilities and Setup**"
   ]
  },
  {
   "cell_type": "code",
   "execution_count": 2,
   "id": "4e6b8cb3",
   "metadata": {
    "execution": {
     "iopub.execute_input": "2022-06-20T08:25:11.240934Z",
     "iopub.status.busy": "2022-06-20T08:25:11.239952Z",
     "iopub.status.idle": "2022-06-20T08:25:11.251179Z",
     "shell.execute_reply": "2022-06-20T08:25:11.248835Z"
    },
    "papermill": {
     "duration": 0.025367,
     "end_time": "2022-06-20T08:25:11.256751",
     "exception": false,
     "start_time": "2022-06-20T08:25:11.231384",
     "status": "completed"
    },
    "tags": []
   },
   "outputs": [],
   "source": [
    "SEED = 42\n",
    "SIZE = 384\n",
    "\n",
    "\n",
    "def breaker(num: int=50, char: str=\"*\") -> None:\n",
    "    print(\"\\n\" + num*char + \"\\n\")\n",
    "\n",
    "    \n",
    "def get_image(path: str, size: int=384) -> None:\n",
    "    return cv2.resize(src=cv2.cvtColor(src=cv2.imread(path, cv2.IMREAD_COLOR), code=cv2.COLOR_BGR2RGB), dsize=(size, size), interpolation=cv2.INTER_AREA)"
   ]
  },
  {
   "cell_type": "markdown",
   "id": "98ed72d6",
   "metadata": {
    "papermill": {
     "duration": 0.005875,
     "end_time": "2022-06-20T08:25:11.269118",
     "exception": false,
     "start_time": "2022-06-20T08:25:11.263243",
     "status": "completed"
    },
    "tags": []
   },
   "source": [
    "### **Configuration**"
   ]
  },
  {
   "cell_type": "code",
   "execution_count": 3,
   "id": "efa6fc7a",
   "metadata": {
    "execution": {
     "iopub.execute_input": "2022-06-20T08:25:11.283498Z",
     "iopub.status.busy": "2022-06-20T08:25:11.282957Z",
     "iopub.status.idle": "2022-06-20T08:25:11.362405Z",
     "shell.execute_reply": "2022-06-20T08:25:11.361444Z"
    },
    "papermill": {
     "duration": 0.090012,
     "end_time": "2022-06-20T08:25:11.365385",
     "exception": false,
     "start_time": "2022-06-20T08:25:11.275373",
     "status": "completed"
    },
    "tags": []
   },
   "outputs": [],
   "source": [
    "class CFG(object):\n",
    "    def __init__(self, \n",
    "                 size: int = 224,\n",
    "                 seed: int = 42,\n",
    "                 n_splits: int = 5,\n",
    "                 batch_size: int = 16,\n",
    "                 epochs: int = 25,\n",
    "                 early_stopping: int = 5,\n",
    "                 lr: float = 1e-4,\n",
    "                 wd: float = 0.0,\n",
    "                 max_lr: float = 1e-3,\n",
    "                 pct_start: float = 0.2,\n",
    "                 steps_per_epoch: int = 100,\n",
    "                 div_factor: int = 1e3, \n",
    "                 final_div_factor: float = 1e3,\n",
    "                 ):\n",
    "        \n",
    "        self.size = size\n",
    "        self.seed = seed\n",
    "        self.n_splits = n_splits\n",
    "        self.batch_size = batch_size\n",
    "        self.epochs = epochs\n",
    "        self.early_stopping = early_stopping\n",
    "        self.lr = lr\n",
    "        self.wd = wd\n",
    "        self.max_lr = max_lr\n",
    "        self.pct_start = pct_start\n",
    "        self.steps_per_epoch = steps_per_epoch\n",
    "        self.div_factor = div_factor\n",
    "        self.final_div_factor = final_div_factor\n",
    "        self.device = torch.device(\"cuda\" if torch.cuda.is_available() else \"cpu\")\n",
    "        self.transform = transforms.Compose([transforms.ToTensor(),\n",
    "                                transforms.Normalize([0.49699, 0.58823, 0.23049],\n",
    "                                                     [0.22591, 0.22614, 0.18264]),\n",
    "                                ])\n",
    "        self.save_path = \"saves\"\n",
    "        if not os.path.exists(self.save_path): os.makedirs(self.save_path)\n",
    "    \n",
    "cfg = CFG(seed=SEED)"
   ]
  },
  {
   "cell_type": "markdown",
   "id": "2c535ca7",
   "metadata": {
    "papermill": {
     "duration": 0.005999,
     "end_time": "2022-06-20T08:25:11.377868",
     "exception": false,
     "start_time": "2022-06-20T08:25:11.371869",
     "status": "completed"
    },
    "tags": []
   },
   "source": [
    "### **Dataset Template**"
   ]
  },
  {
   "cell_type": "code",
   "execution_count": 4,
   "id": "60401901",
   "metadata": {
    "execution": {
     "iopub.execute_input": "2022-06-20T08:25:11.392710Z",
     "iopub.status.busy": "2022-06-20T08:25:11.392143Z",
     "iopub.status.idle": "2022-06-20T08:25:11.401445Z",
     "shell.execute_reply": "2022-06-20T08:25:11.400684Z"
    },
    "papermill": {
     "duration": 0.019504,
     "end_time": "2022-06-20T08:25:11.404020",
     "exception": false,
     "start_time": "2022-06-20T08:25:11.384516",
     "status": "completed"
    },
    "tags": []
   },
   "outputs": [],
   "source": [
    "class DS(Dataset):\n",
    "    def __init__(self, images: np.ndarray, transform=None):\n",
    "        self.images = images\n",
    "        self.transform = transform\n",
    "    \n",
    "    def __len__(self):\n",
    "        return self.images.shape[0]\n",
    "    \n",
    "    def __getitem__(self, idx):\n",
    "        return self.transform(self.images[idx])"
   ]
  },
  {
   "cell_type": "markdown",
   "id": "308834b4",
   "metadata": {
    "papermill": {
     "duration": 0.005938,
     "end_time": "2022-06-20T08:25:11.416616",
     "exception": false,
     "start_time": "2022-06-20T08:25:11.410678",
     "status": "completed"
    },
    "tags": []
   },
   "source": [
    "### **Model**"
   ]
  },
  {
   "cell_type": "code",
   "execution_count": 5,
   "id": "d9494467",
   "metadata": {
    "execution": {
     "iopub.execute_input": "2022-06-20T08:25:11.430606Z",
     "iopub.status.busy": "2022-06-20T08:25:11.430169Z",
     "iopub.status.idle": "2022-06-20T08:25:11.456283Z",
     "shell.execute_reply": "2022-06-20T08:25:11.455480Z"
    },
    "papermill": {
     "duration": 0.036046,
     "end_time": "2022-06-20T08:25:11.458906",
     "exception": false,
     "start_time": "2022-06-20T08:25:11.422860",
     "status": "completed"
    },
    "tags": []
   },
   "outputs": [],
   "source": [
    "class Model(nn.Module):\n",
    "    def __init__(self, in_channels: int = 3):\n",
    "        super(Model, self).__init__()\n",
    "\n",
    "        self.encoder = models.densenet169(pretrained=False, progress=True)\n",
    "        # self.freeze()\n",
    "        self.encoder = nn.Sequential(*[*self.encoder.children()][:-1])\n",
    "        \n",
    "        self.decoder = nn.Sequential()\n",
    "        self.decoder.add_module(\"DC1\", nn.ConvTranspose2d(in_channels=1664, out_channels=512, kernel_size=(3, 3), stride=(1, 1), padding=(1, 1)))\n",
    "        self.decoder.add_module(\"AN1\", nn.ReLU())\n",
    "        self.decoder.add_module(\"UP1\", nn.Upsample(scale_factor=2))\n",
    "        self.decoder.add_module(\"DC2\", nn.ConvTranspose2d(in_channels=512, out_channels=256, kernel_size=(3, 3), stride=(1, 1), padding=(1, 1)))\n",
    "        self.decoder.add_module(\"AN2\", nn.ReLU())\n",
    "        self.decoder.add_module(\"UP2\", nn.Upsample(scale_factor=2))\n",
    "        self.decoder.add_module(\"DC3\", nn.ConvTranspose2d(in_channels=256, out_channels=128, kernel_size=(3, 3), stride=(1, 1), padding=(1, 1)))\n",
    "        self.decoder.add_module(\"AN3\", nn.ReLU())\n",
    "        self.decoder.add_module(\"UP3\", nn.Upsample(scale_factor=2))\n",
    "        self.decoder.add_module(\"DC4\", nn.ConvTranspose2d(in_channels=128, out_channels=64, kernel_size=(3, 3), stride=(1, 1), padding=(1, 1)))\n",
    "        self.decoder.add_module(\"AN4\", nn.ReLU())\n",
    "        self.decoder.add_module(\"UP4\", nn.Upsample(scale_factor=2))\n",
    "        self.decoder.add_module(\"DC5\", nn.ConvTranspose2d(in_channels=64, out_channels=in_channels, kernel_size=(3, 3), stride=(1, 1), padding=(1, 1)))\n",
    "        self.decoder.add_module(\"AN5\", nn.ReLU())\n",
    "        self.decoder.add_module(\"UP5\", nn.Upsample(scale_factor=2))\n",
    "    \n",
    "    def freeze(self):\n",
    "        for params in self.parameters(): params.requires_grad = False\n",
    "    \n",
    "    def forward(self, x):\n",
    "        encoded = self.encoder(x)\n",
    "        decoded = self.decoder(encoded)\n",
    "        \n",
    "        return encoded, decoded"
   ]
  },
  {
   "cell_type": "markdown",
   "id": "3cc70983",
   "metadata": {
    "papermill": {
     "duration": 0.005999,
     "end_time": "2022-06-20T08:25:11.471676",
     "exception": false,
     "start_time": "2022-06-20T08:25:11.465677",
     "status": "completed"
    },
    "tags": []
   },
   "source": [
    "### **Predict**"
   ]
  },
  {
   "cell_type": "code",
   "execution_count": 6,
   "id": "898abe8d",
   "metadata": {
    "execution": {
     "iopub.execute_input": "2022-06-20T08:25:11.485955Z",
     "iopub.status.busy": "2022-06-20T08:25:11.485503Z",
     "iopub.status.idle": "2022-06-20T08:25:11.496179Z",
     "shell.execute_reply": "2022-06-20T08:25:11.495031Z"
    },
    "papermill": {
     "duration": 0.021303,
     "end_time": "2022-06-20T08:25:11.499446",
     "exception": false,
     "start_time": "2022-06-20T08:25:11.478143",
     "status": "completed"
    },
    "tags": []
   },
   "outputs": [],
   "source": [
    "def predict(model=None, dataloader=None, device=None, path: str=None) -> np.ndarray:\n",
    "    model.load_state_dict(torch.load(path, map_location=device)[\"model_state_dict\"])\n",
    "    model.to(device)    \n",
    "    model.eval()\n",
    "    \n",
    "    y_pred = torch.zeros((1, 1664)).to(device)\n",
    "    \n",
    "    for X in dataloader:\n",
    "        X = X.to(device)\n",
    "        with torch.no_grad(): \n",
    "            encoded, _ = model(X) \n",
    "        encoded = nn.Flatten()(nn.AdaptiveAvgPool2d(output_size=(1, 1))(encoded))\n",
    "        y_pred = torch.cat((y_pred, encoded), dim=0)\n",
    "        \n",
    "    return y_pred[1:].detach().cpu().numpy()"
   ]
  },
  {
   "cell_type": "markdown",
   "id": "cbb4c4d8",
   "metadata": {
    "papermill": {
     "duration": 0.005976,
     "end_time": "2022-06-20T08:25:11.512854",
     "exception": false,
     "start_time": "2022-06-20T08:25:11.506878",
     "status": "completed"
    },
    "tags": []
   },
   "source": [
    "### **Get Features**"
   ]
  },
  {
   "cell_type": "code",
   "execution_count": 7,
   "id": "5611f356",
   "metadata": {
    "execution": {
     "iopub.execute_input": "2022-06-20T08:25:11.527283Z",
     "iopub.status.busy": "2022-06-20T08:25:11.526760Z",
     "iopub.status.idle": "2022-06-20T08:25:51.256854Z",
     "shell.execute_reply": "2022-06-20T08:25:51.255892Z"
    },
    "papermill": {
     "duration": 39.740063,
     "end_time": "2022-06-20T08:25:51.259219",
     "exception": false,
     "start_time": "2022-06-20T08:25:11.519156",
     "status": "completed"
    },
    "tags": []
   },
   "outputs": [],
   "source": [
    "images = np.load(\"../input/pdc-images-384/images-384.npy\")"
   ]
  },
  {
   "cell_type": "code",
   "execution_count": 8,
   "id": "862f2aa2",
   "metadata": {
    "execution": {
     "iopub.execute_input": "2022-06-20T08:25:51.267941Z",
     "iopub.status.busy": "2022-06-20T08:25:51.267613Z",
     "iopub.status.idle": "2022-06-20T08:27:06.234768Z",
     "shell.execute_reply": "2022-06-20T08:27:06.233895Z"
    },
    "papermill": {
     "duration": 74.973881,
     "end_time": "2022-06-20T08:27:06.237030",
     "exception": false,
     "start_time": "2022-06-20T08:25:51.263149",
     "status": "completed"
    },
    "tags": []
   },
   "outputs": [],
   "source": [
    "model = Model().to(cfg.device)\n",
    "\n",
    "dl_setup = DS(images, transforms.ToTensor())\n",
    "dl = DL(dl_setup, batch_size=64, shuffle=False)\n",
    "\n",
    "features = predict(model=model, dataloader=dl, device=cfg.device, path=\"../input/pdcd169aena384-ds/saves/state.pt\")\n",
    "np.save(\"features.npy\", features)"
   ]
  }
 ],
 "metadata": {
  "kernelspec": {
   "display_name": "Python 3",
   "language": "python",
   "name": "python3"
  },
  "language_info": {
   "codemirror_mode": {
    "name": "ipython",
    "version": 3
   },
   "file_extension": ".py",
   "mimetype": "text/x-python",
   "name": "python",
   "nbconvert_exporter": "python",
   "pygments_lexer": "ipython3",
   "version": "3.7.12"
  },
  "papermill": {
   "default_parameters": {},
   "duration": 127.83172,
   "end_time": "2022-06-20T08:27:07.763411",
   "environment_variables": {},
   "exception": null,
   "input_path": "__notebook__.ipynb",
   "output_path": "__notebook__.ipynb",
   "parameters": {},
   "start_time": "2022-06-20T08:24:59.931691",
   "version": "2.3.4"
  }
 },
 "nbformat": 4,
 "nbformat_minor": 5
}
