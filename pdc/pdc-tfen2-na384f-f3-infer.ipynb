{
 "cells": [
  {
   "cell_type": "markdown",
   "id": "463ffb2f",
   "metadata": {
    "papermill": {
     "duration": 0.004461,
     "end_time": "2022-06-27T10:30:19.191116",
     "exception": false,
     "start_time": "2022-06-27T10:30:19.186655",
     "status": "completed"
    },
    "tags": []
   },
   "source": [
    "### **Setup**"
   ]
  },
  {
   "cell_type": "code",
   "execution_count": 1,
   "id": "fdbf11ac",
   "metadata": {
    "execution": {
     "iopub.execute_input": "2022-06-27T10:30:19.202067Z",
     "iopub.status.busy": "2022-06-27T10:30:19.201365Z",
     "iopub.status.idle": "2022-06-27T10:30:31.057834Z",
     "shell.execute_reply": "2022-06-27T10:30:31.056804Z"
    },
    "papermill": {
     "duration": 11.863408,
     "end_time": "2022-06-27T10:30:31.060393",
     "exception": false,
     "start_time": "2022-06-27T10:30:19.196985",
     "status": "completed"
    },
    "tags": []
   },
   "outputs": [
    {
     "name": "stderr",
     "output_type": "stream",
     "text": [
      "WARNING: Running pip as the 'root' user can result in broken permissions and conflicting behaviour with the system package manager. It is recommended to use a virtual environment instead: https://pip.pypa.io/warnings/venv\n"
     ]
    }
   ],
   "source": [
    "%%bash\n",
    "pip install timm -q"
   ]
  },
  {
   "cell_type": "markdown",
   "id": "ca978afb",
   "metadata": {
    "papermill": {
     "duration": 0.003494,
     "end_time": "2022-06-27T10:30:31.067563",
     "exception": false,
     "start_time": "2022-06-27T10:30:31.064069",
     "status": "completed"
    },
    "tags": []
   },
   "source": [
    "### **Library Imports**"
   ]
  },
  {
   "cell_type": "code",
   "execution_count": 2,
   "id": "b4471831",
   "metadata": {
    "execution": {
     "iopub.execute_input": "2022-06-27T10:30:31.075675Z",
     "iopub.status.busy": "2022-06-27T10:30:31.075373Z",
     "iopub.status.idle": "2022-06-27T10:30:38.794411Z",
     "shell.execute_reply": "2022-06-27T10:30:38.793454Z"
    },
    "papermill": {
     "duration": 7.725601,
     "end_time": "2022-06-27T10:30:38.796562",
     "exception": false,
     "start_time": "2022-06-27T10:30:31.070961",
     "status": "completed"
    },
    "tags": []
   },
   "outputs": [],
   "source": [
    "import os\n",
    "import re\n",
    "import cv2\n",
    "import timm\n",
    "import torch\n",
    "import numpy as np\n",
    "import pandas as pd\n",
    "import matplotlib.pyplot as plt\n",
    "\n",
    "from time import time\n",
    "from torch import nn, optim\n",
    "from torch.utils.data import Dataset\n",
    "from torch.utils.data import DataLoader as DL\n",
    "from torchvision import models, transforms\n",
    "\n",
    "from sklearn.preprocessing import LabelEncoder"
   ]
  },
  {
   "cell_type": "markdown",
   "id": "80f72c3f",
   "metadata": {
    "papermill": {
     "duration": 0.003567,
     "end_time": "2022-06-27T10:30:38.803859",
     "exception": false,
     "start_time": "2022-06-27T10:30:38.800292",
     "status": "completed"
    },
    "tags": []
   },
   "source": [
    "### **Utilities and Helpers**"
   ]
  },
  {
   "cell_type": "code",
   "execution_count": 3,
   "id": "2de83ed4",
   "metadata": {
    "execution": {
     "iopub.execute_input": "2022-06-27T10:30:38.812698Z",
     "iopub.status.busy": "2022-06-27T10:30:38.811908Z",
     "iopub.status.idle": "2022-06-27T10:30:38.866668Z",
     "shell.execute_reply": "2022-06-27T10:30:38.865821Z"
    },
    "papermill": {
     "duration": 0.061047,
     "end_time": "2022-06-27T10:30:38.868434",
     "exception": false,
     "start_time": "2022-06-27T10:30:38.807387",
     "status": "completed"
    },
    "tags": []
   },
   "outputs": [],
   "source": [
    "SEED = 42\n",
    "SIZE = 384\n",
    "FOLD = 3\n",
    "TRANSFORM = transforms.Compose([transforms.ToTensor(),\n",
    "                                transforms.Normalize([0.49699, 0.58823, 0.23049],\n",
    "                                                     [0.22591, 0.22614, 0.18264]),\n",
    "                                ])\n",
    "MODEL_PATH = f\"../input/pdc-tfen2-na{SIZE}f-f{FOLD}/saves/ble_state.pt\"\n",
    "DEVICE = torch.device(\"cuda\" if torch.cuda.is_available() else \"cpu\")\n",
    "\n",
    "le = LabelEncoder()\n",
    "\n",
    "\n",
    "def breaker(num: int=50, char: str=\"*\") -> None:\n",
    "    print(\"\\n\" + num*char + \"\\n\")\n",
    "\n",
    "\n",
    "def get_image(path: str, size: int=224) -> np.ndarray:\n",
    "    return cv2.resize(src=cv2.cvtColor(src=cv2.imread(path, cv2.IMREAD_COLOR), code=cv2.COLOR_BGR2RGB), dsize=(size, size), interpolation=cv2.INTER_AREA)"
   ]
  },
  {
   "cell_type": "markdown",
   "id": "858a633f",
   "metadata": {
    "papermill": {
     "duration": 0.003325,
     "end_time": "2022-06-27T10:30:38.876009",
     "exception": false,
     "start_time": "2022-06-27T10:30:38.872684",
     "status": "completed"
    },
    "tags": []
   },
   "source": [
    "### **Configuration**"
   ]
  },
  {
   "cell_type": "markdown",
   "id": "3ec8124a",
   "metadata": {
    "papermill": {
     "duration": 0.00329,
     "end_time": "2022-06-27T10:30:38.882917",
     "exception": false,
     "start_time": "2022-06-27T10:30:38.879627",
     "status": "completed"
    },
    "tags": []
   },
   "source": [
    "### **Dataset Template**"
   ]
  },
  {
   "cell_type": "code",
   "execution_count": 4,
   "id": "97b830d3",
   "metadata": {
    "execution": {
     "iopub.execute_input": "2022-06-27T10:30:38.890828Z",
     "iopub.status.busy": "2022-06-27T10:30:38.890512Z",
     "iopub.status.idle": "2022-06-27T10:30:38.896469Z",
     "shell.execute_reply": "2022-06-27T10:30:38.895680Z"
    },
    "papermill": {
     "duration": 0.01189,
     "end_time": "2022-06-27T10:30:38.898169",
     "exception": false,
     "start_time": "2022-06-27T10:30:38.886279",
     "status": "completed"
    },
    "tags": []
   },
   "outputs": [],
   "source": [
    "class DS(Dataset):\n",
    "    def __init__(self, base_path: str, filenames: np.ndarray, size: int=224, transform=None):\n",
    "        self.base_path = base_path\n",
    "        self.filenames = filenames\n",
    "        self.size = size\n",
    "        self.transform = transform\n",
    "    \n",
    "    def __len__(self):\n",
    "        return self.filenames.shape[0]\n",
    "    \n",
    "    def __getitem__(self, idx):\n",
    "        return self.transform(get_image(os.path.join(self.base_path, self.filenames[idx]), size=self.size))"
   ]
  },
  {
   "cell_type": "markdown",
   "id": "dab88de6",
   "metadata": {
    "papermill": {
     "duration": 0.003232,
     "end_time": "2022-06-27T10:30:38.904761",
     "exception": false,
     "start_time": "2022-06-27T10:30:38.901529",
     "status": "completed"
    },
    "tags": []
   },
   "source": [
    "### **Model**"
   ]
  },
  {
   "cell_type": "code",
   "execution_count": 5,
   "id": "b9148082",
   "metadata": {
    "execution": {
     "iopub.execute_input": "2022-06-27T10:30:38.912610Z",
     "iopub.status.busy": "2022-06-27T10:30:38.912357Z",
     "iopub.status.idle": "2022-06-27T10:30:38.918090Z",
     "shell.execute_reply": "2022-06-27T10:30:38.917375Z"
    },
    "papermill": {
     "duration": 0.011559,
     "end_time": "2022-06-27T10:30:38.919807",
     "exception": false,
     "start_time": "2022-06-27T10:30:38.908248",
     "status": "completed"
    },
    "tags": []
   },
   "outputs": [],
   "source": [
    "class Model(nn.Module):\n",
    "    def __init__(self):\n",
    "        super(Model, self).__init__()\n",
    "\n",
    "        self.model = timm.create_model(model_name=\"tf_efficientnet_b2\", pretrained=False)\n",
    "        # self.freeze()\n",
    "        self.model.classifier = nn.Linear(in_features=self.model.classifier.in_features, out_features=10)\n",
    "    \n",
    "    def freeze(self):\n",
    "        for params in self.parameters(): params.requires_grad = False\n",
    "\n",
    "    def forward(self, x):\n",
    "        return nn.LogSoftmax(dim=1)(self.model(x))"
   ]
  },
  {
   "cell_type": "markdown",
   "id": "18e551ae",
   "metadata": {
    "papermill": {
     "duration": 0.003208,
     "end_time": "2022-06-27T10:30:38.926396",
     "exception": false,
     "start_time": "2022-06-27T10:30:38.923188",
     "status": "completed"
    },
    "tags": []
   },
   "source": [
    "### **Predict Helpers**"
   ]
  },
  {
   "cell_type": "code",
   "execution_count": 6,
   "id": "d6e6f68a",
   "metadata": {
    "execution": {
     "iopub.execute_input": "2022-06-27T10:30:38.934364Z",
     "iopub.status.busy": "2022-06-27T10:30:38.933838Z",
     "iopub.status.idle": "2022-06-27T10:30:38.940208Z",
     "shell.execute_reply": "2022-06-27T10:30:38.939444Z"
    },
    "papermill": {
     "duration": 0.012114,
     "end_time": "2022-06-27T10:30:38.941849",
     "exception": false,
     "start_time": "2022-06-27T10:30:38.929735",
     "status": "completed"
    },
    "tags": []
   },
   "outputs": [],
   "source": [
    "def predict_batch(model=None, dataloader=None, path=None, device=None) -> np.ndarray:\n",
    "    model.load_state_dict(torch.load(path, map_location=device)[\"model_state_dict\"])\n",
    "    model.to(device)    \n",
    "    model.eval()\n",
    "    \n",
    "    y_pred = torch.zeros(1, 1).to(device)\n",
    "    \n",
    "    for X in dataloader:\n",
    "        X = X.to(device)\n",
    "        with torch.no_grad():\n",
    "            output = torch.argmax(torch.exp(model(X)), dim=1)\n",
    "        y_pred = torch.cat((y_pred, output.view(-1, 1)), dim=0)\n",
    "    \n",
    "    return y_pred[1:].detach().cpu().numpy()"
   ]
  },
  {
   "cell_type": "markdown",
   "id": "ae7f13f1",
   "metadata": {
    "papermill": {
     "duration": 0.003357,
     "end_time": "2022-06-27T10:30:38.948577",
     "exception": false,
     "start_time": "2022-06-27T10:30:38.945220",
     "status": "completed"
    },
    "tags": []
   },
   "source": [
    "### **Submission**"
   ]
  },
  {
   "cell_type": "code",
   "execution_count": 7,
   "id": "429cfdbd",
   "metadata": {
    "execution": {
     "iopub.execute_input": "2022-06-27T10:30:38.956715Z",
     "iopub.status.busy": "2022-06-27T10:30:38.956135Z",
     "iopub.status.idle": "2022-06-27T10:31:54.961184Z",
     "shell.execute_reply": "2022-06-27T10:31:54.960002Z"
    },
    "papermill": {
     "duration": 76.012411,
     "end_time": "2022-06-27T10:31:54.964416",
     "exception": false,
     "start_time": "2022-06-27T10:30:38.952005",
     "status": "completed"
    },
    "tags": []
   },
   "outputs": [],
   "source": [
    "df = pd.read_csv(\"../input/paddy-disease-classification/train.csv\")\n",
    "ss_df = pd.read_csv(\"../input/paddy-disease-classification/sample_submission.csv\")\n",
    "\n",
    "labels = df.label.copy().values\n",
    "labels = le.fit_transform(labels)\n",
    "\n",
    "ts_data_setup = DS(base_path=\"../input/paddy-disease-classification/test_images\", \n",
    "                   filenames=ss_df.image_id.copy().values,\n",
    "                   size=SIZE,\n",
    "                   transform=TRANSFORM)\n",
    "ts_data = DL(ts_data_setup, batch_size=64, shuffle=False)\n",
    "\n",
    "model = Model().to(DEVICE)\n",
    "\n",
    "y_pred = predict_batch(model=model, \n",
    "                       dataloader=ts_data, \n",
    "                       path=MODEL_PATH,\n",
    "                       device=DEVICE)\n",
    "\n",
    "ss_df[\"label\"] = le.inverse_transform(y_pred.astype(\"uint8\").reshape(-1))\n",
    "ss_df.to_csv(\"submission.csv\", index=False)"
   ]
  }
 ],
 "metadata": {
  "kernelspec": {
   "display_name": "Python 3",
   "language": "python",
   "name": "python3"
  },
  "language_info": {
   "codemirror_mode": {
    "name": "ipython",
    "version": 3
   },
   "file_extension": ".py",
   "mimetype": "text/x-python",
   "name": "python",
   "nbconvert_exporter": "python",
   "pygments_lexer": "ipython3",
   "version": "3.7.12"
  },
  "papermill": {
   "default_parameters": {},
   "duration": 107.567761,
   "end_time": "2022-06-27T10:31:58.193384",
   "environment_variables": {},
   "exception": null,
   "input_path": "__notebook__.ipynb",
   "output_path": "__notebook__.ipynb",
   "parameters": {},
   "start_time": "2022-06-27T10:30:10.625623",
   "version": "2.3.4"
  }
 },
 "nbformat": 4,
 "nbformat_minor": 5
}
