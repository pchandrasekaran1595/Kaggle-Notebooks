{
 "cells": [
  {
   "cell_type": "markdown",
   "id": "66d3d9f1",
   "metadata": {
    "_cell_guid": "b1076dfc-b9ad-4769-8c92-a6c4dae69d19",
    "_uuid": "8f2839f25d086af736a60e9eeb907d3b93b6e0e5",
    "papermill": {
     "duration": 0.005584,
     "end_time": "2022-06-26T19:22:50.050233",
     "exception": false,
     "start_time": "2022-06-26T19:22:50.044649",
     "status": "completed"
    },
    "tags": []
   },
   "source": [
    "### **Setup**"
   ]
  },
  {
   "cell_type": "code",
   "execution_count": 1,
   "id": "815bbae7",
   "metadata": {
    "execution": {
     "iopub.execute_input": "2022-06-26T19:22:50.060618Z",
     "iopub.status.busy": "2022-06-26T19:22:50.059837Z",
     "iopub.status.idle": "2022-06-26T19:23:01.166422Z",
     "shell.execute_reply": "2022-06-26T19:23:01.165403Z"
    },
    "papermill": {
     "duration": 11.114054,
     "end_time": "2022-06-26T19:23:01.168460",
     "exception": false,
     "start_time": "2022-06-26T19:22:50.054406",
     "status": "completed"
    },
    "tags": []
   },
   "outputs": [
    {
     "name": "stderr",
     "output_type": "stream",
     "text": [
      "WARNING: Running pip as the 'root' user can result in broken permissions and conflicting behaviour with the system package manager. It is recommended to use a virtual environment instead: https://pip.pypa.io/warnings/venv\n"
     ]
    }
   ],
   "source": [
    "%%bash\n",
    "pip install timm -q"
   ]
  },
  {
   "cell_type": "markdown",
   "id": "da96d5f7",
   "metadata": {
    "papermill": {
     "duration": 0.004037,
     "end_time": "2022-06-26T19:23:01.176887",
     "exception": false,
     "start_time": "2022-06-26T19:23:01.172850",
     "status": "completed"
    },
    "tags": []
   },
   "source": [
    "### **Library Imports**"
   ]
  },
  {
   "cell_type": "code",
   "execution_count": 2,
   "id": "6234b0e5",
   "metadata": {
    "execution": {
     "iopub.execute_input": "2022-06-26T19:23:01.186959Z",
     "iopub.status.busy": "2022-06-26T19:23:01.185983Z",
     "iopub.status.idle": "2022-06-26T19:23:08.837583Z",
     "shell.execute_reply": "2022-06-26T19:23:08.836478Z"
    },
    "papermill": {
     "duration": 7.659548,
     "end_time": "2022-06-26T19:23:08.840456",
     "exception": false,
     "start_time": "2022-06-26T19:23:01.180908",
     "status": "completed"
    },
    "tags": []
   },
   "outputs": [],
   "source": [
    "import os\n",
    "import re\n",
    "import timm\n",
    "import torch\n",
    "import numpy as np\n",
    "import pandas as pd\n",
    "import matplotlib.pyplot as plt\n",
    "\n",
    "from time import time\n",
    "from torch import nn, optim\n",
    "from torch.utils.data import Dataset\n",
    "from torch.utils.data import DataLoader as DL\n",
    "from torchvision import transforms\n",
    "\n",
    "from sklearn.model_selection import StratifiedKFold\n",
    "from sklearn.preprocessing import LabelEncoder\n",
    "from sklearn.metrics import accuracy_score"
   ]
  },
  {
   "cell_type": "markdown",
   "id": "28aeed3f",
   "metadata": {
    "papermill": {
     "duration": 0.004101,
     "end_time": "2022-06-26T19:23:08.849104",
     "exception": false,
     "start_time": "2022-06-26T19:23:08.845003",
     "status": "completed"
    },
    "tags": []
   },
   "source": [
    "### **Utilities and Helpers**"
   ]
  },
  {
   "cell_type": "code",
   "execution_count": 3,
   "id": "867806b0",
   "metadata": {
    "execution": {
     "iopub.execute_input": "2022-06-26T19:23:08.859181Z",
     "iopub.status.busy": "2022-06-26T19:23:08.858264Z",
     "iopub.status.idle": "2022-06-26T19:23:08.870708Z",
     "shell.execute_reply": "2022-06-26T19:23:08.869975Z"
    },
    "papermill": {
     "duration": 0.019302,
     "end_time": "2022-06-26T19:23:08.872406",
     "exception": false,
     "start_time": "2022-06-26T19:23:08.853104",
     "status": "completed"
    },
    "tags": []
   },
   "outputs": [],
   "source": [
    "SEED = 42\n",
    "SIZE = 384\n",
    "le = LabelEncoder()\n",
    "\n",
    "\n",
    "def breaker(num: int=50, char: str=\"*\") -> None:\n",
    "    print(\"\\n\" + num*char + \"\\n\")\n",
    "\n",
    "    \n",
    "def show_loss_graphs(L: list) -> None:\n",
    "    TL, VL = [], []\n",
    "    for i in range(len(L)):\n",
    "        TL.append(L[i][\"train\"])\n",
    "        VL.append(L[i][\"valid\"])\n",
    "    x_Axis = np.arange(1, len(TL) + 1)\n",
    "    plt.figure()\n",
    "    plt.plot(x_Axis, TL, \"r\", label=\"Train\")\n",
    "    plt.plot(x_Axis, VL, \"b\", label=\"Valid\")\n",
    "    plt.legend()\n",
    "    plt.grid()\n",
    "    plt.title(\"Loss Graph\")\n",
    "    plt.show()\n",
    "\n",
    "    \n",
    "def show_accuracy_graphs(A: list) -> None:\n",
    "    TA, VA = [], []\n",
    "    for i in range(len(A)):\n",
    "        TA.append(A[i][\"train\"])\n",
    "        VA.append(A[i][\"valid\"])\n",
    "    x_Axis = np.arange(1, len(TA) + 1)\n",
    "    plt.figure()\n",
    "    plt.plot(x_Axis, TA, \"r\", label=\"Train\")\n",
    "    plt.plot(x_Axis, VA, \"b\", label=\"Valid\")\n",
    "    plt.legend()\n",
    "    plt.grid()\n",
    "    plt.title(\"Accuracy Graph\")\n",
    "    plt.show()\n",
    "\n",
    "\n",
    "def show_lr_graph(LR: list) -> None:\n",
    "    x_Axis = [i+1 for i in range(len(LR))]\n",
    "    plt.figure(figsize=(8, 6))\n",
    "    plt.plot(x_Axis, LR, \"rx\")\n",
    "    plt.grid()\n",
    "    plt.show()"
   ]
  },
  {
   "cell_type": "markdown",
   "id": "41b807ff",
   "metadata": {
    "papermill": {
     "duration": 0.003991,
     "end_time": "2022-06-26T19:23:08.880499",
     "exception": false,
     "start_time": "2022-06-26T19:23:08.876508",
     "status": "completed"
    },
    "tags": []
   },
   "source": [
    "### **Configuration**"
   ]
  },
  {
   "cell_type": "code",
   "execution_count": 4,
   "id": "3f3c6e37",
   "metadata": {
    "execution": {
     "iopub.execute_input": "2022-06-26T19:23:08.889963Z",
     "iopub.status.busy": "2022-06-26T19:23:08.889698Z",
     "iopub.status.idle": "2022-06-26T19:23:08.951619Z",
     "shell.execute_reply": "2022-06-26T19:23:08.950723Z"
    },
    "papermill": {
     "duration": 0.068643,
     "end_time": "2022-06-26T19:23:08.953520",
     "exception": false,
     "start_time": "2022-06-26T19:23:08.884877",
     "status": "completed"
    },
    "tags": []
   },
   "outputs": [],
   "source": [
    "class CFG(object):\n",
    "    def __init__(self, \n",
    "                 seed: int = 42,\n",
    "                 n_splits: int = 5,\n",
    "                 batch_size: int = 16,\n",
    "                 epochs: int = 25,\n",
    "                 early_stopping: int = 5,\n",
    "                 lr: float = 1e-4,\n",
    "                 wd: float = 0.0,\n",
    "                 max_lr: float = 1e-3,\n",
    "                 pct_start: float = 0.2,\n",
    "                 steps_per_epoch: int = 100,\n",
    "                 div_factor: int = 1e3, \n",
    "                 final_div_factor: float = 1e3,\n",
    "                 ):\n",
    "        \n",
    "        self.seed = seed\n",
    "        self.n_splits = n_splits\n",
    "        self.batch_size = batch_size\n",
    "        self.epochs = epochs\n",
    "        self.early_stopping = early_stopping\n",
    "        self.lr = lr\n",
    "        self.wd = wd\n",
    "        self.max_lr = max_lr\n",
    "        self.pct_start = pct_start\n",
    "        self.steps_per_epoch = steps_per_epoch\n",
    "        self.div_factor = div_factor\n",
    "        self.final_div_factor = final_div_factor\n",
    "        self.device = torch.device(\"cuda\" if torch.cuda.is_available() else \"cpu\")\n",
    "        self.transform = transforms.Compose([transforms.ToTensor(),\n",
    "                                transforms.Normalize([0.49699, 0.58823, 0.23049],\n",
    "                                                     [0.22591, 0.22614, 0.18264]),\n",
    "                                ])\n",
    "        self.save_path = \"saves\"\n",
    "        if not os.path.exists(self.save_path): os.makedirs(self.save_path)\n",
    "    \n",
    "cfg = CFG(seed=SEED)"
   ]
  },
  {
   "cell_type": "markdown",
   "id": "b88e3d2e",
   "metadata": {
    "papermill": {
     "duration": 0.003977,
     "end_time": "2022-06-26T19:23:08.961984",
     "exception": false,
     "start_time": "2022-06-26T19:23:08.958007",
     "status": "completed"
    },
    "tags": []
   },
   "source": [
    "### **Dataset Template**"
   ]
  },
  {
   "cell_type": "code",
   "execution_count": 5,
   "id": "00255656",
   "metadata": {
    "execution": {
     "iopub.execute_input": "2022-06-26T19:23:08.971850Z",
     "iopub.status.busy": "2022-06-26T19:23:08.971563Z",
     "iopub.status.idle": "2022-06-26T19:23:08.977525Z",
     "shell.execute_reply": "2022-06-26T19:23:08.976813Z"
    },
    "papermill": {
     "duration": 0.01275,
     "end_time": "2022-06-26T19:23:08.979293",
     "exception": false,
     "start_time": "2022-06-26T19:23:08.966543",
     "status": "completed"
    },
    "tags": []
   },
   "outputs": [],
   "source": [
    "class DS(Dataset):\n",
    "    def __init__(self, images: np.ndarray, labels: np.ndarray = None, transform=None):\n",
    "        self.images = images\n",
    "        self.labels = labels\n",
    "        self.transform = transform\n",
    "    \n",
    "    def __len__(self):\n",
    "        return self.images.shape[0]\n",
    "    \n",
    "    def __getitem__(self, idx):\n",
    "        if self.labels is not None:\n",
    "            return self.transform(self.images[idx]), torch.LongTensor(self.labels[idx])\n",
    "        else:\n",
    "            return self.transform(self.images[idx])"
   ]
  },
  {
   "cell_type": "markdown",
   "id": "b3814346",
   "metadata": {
    "papermill": {
     "duration": 0.003822,
     "end_time": "2022-06-26T19:23:08.987174",
     "exception": false,
     "start_time": "2022-06-26T19:23:08.983352",
     "status": "completed"
    },
    "tags": []
   },
   "source": [
    "### **Model**"
   ]
  },
  {
   "cell_type": "code",
   "execution_count": 6,
   "id": "01f08abc",
   "metadata": {
    "execution": {
     "iopub.execute_input": "2022-06-26T19:23:08.996635Z",
     "iopub.status.busy": "2022-06-26T19:23:08.996086Z",
     "iopub.status.idle": "2022-06-26T19:23:09.001828Z",
     "shell.execute_reply": "2022-06-26T19:23:09.001118Z"
    },
    "papermill": {
     "duration": 0.012404,
     "end_time": "2022-06-26T19:23:09.003619",
     "exception": false,
     "start_time": "2022-06-26T19:23:08.991215",
     "status": "completed"
    },
    "tags": []
   },
   "outputs": [],
   "source": [
    "class Model(nn.Module):\n",
    "    def __init__(self):\n",
    "        super(Model, self).__init__()\n",
    "\n",
    "        self.model = timm.create_model(model_name=\"tv_densenet121\", pretrained=True)\n",
    "        # self.freeze()\n",
    "        self.model.classifier = nn.Linear(in_features=self.model.classifier.in_features, out_features=10)\n",
    "    \n",
    "    def freeze(self):\n",
    "        for params in self.parameters(): params.requires_grad = False\n",
    "\n",
    "    def forward(self, x):\n",
    "        return nn.LogSoftmax(dim=1)(self.model(x))"
   ]
  },
  {
   "cell_type": "markdown",
   "id": "b367e7ac",
   "metadata": {
    "papermill": {
     "duration": 0.004083,
     "end_time": "2022-06-26T19:23:09.011786",
     "exception": false,
     "start_time": "2022-06-26T19:23:09.007703",
     "status": "completed"
    },
    "tags": []
   },
   "source": [
    "### **Fit and Predict Helpers**"
   ]
  },
  {
   "cell_type": "code",
   "execution_count": 7,
   "id": "d1096db0",
   "metadata": {
    "execution": {
     "iopub.execute_input": "2022-06-26T19:23:09.021654Z",
     "iopub.status.busy": "2022-06-26T19:23:09.021396Z",
     "iopub.status.idle": "2022-06-26T19:23:09.047615Z",
     "shell.execute_reply": "2022-06-26T19:23:09.046921Z"
    },
    "papermill": {
     "duration": 0.033446,
     "end_time": "2022-06-26T19:23:09.049247",
     "exception": false,
     "start_time": "2022-06-26T19:23:09.015801",
     "status": "completed"
    },
    "tags": []
   },
   "outputs": [],
   "source": [
    "def fit(model=None, \n",
    "        optimizer=None, \n",
    "        scheduler_rlrop=None,\n",
    "        scheduler_oclr=None,\n",
    "        epochs=None, \n",
    "        early_stopping_patience=None, \n",
    "        dataloaders=None, \n",
    "        fold=None, \n",
    "        save_path=None,\n",
    "        device=None,\n",
    "        verbose=False) -> tuple:\n",
    "    \n",
    "    def get_accuracy(y_pred, y_true):\n",
    "        y_pred = torch.argmax(y_pred, dim=1)\n",
    "        return torch.count_nonzero(y_pred == y_true).item() / len(y_pred)\n",
    "    \n",
    "    if verbose:\n",
    "        breaker()\n",
    "        if fold: print(f\"Training Fold {fold}...\")\n",
    "        else: print(\"Training ...\")\n",
    "        breaker()\n",
    "        \n",
    "    bestLoss, bestAccs = {\"train\" : np.inf, \"valid\" : np.inf}, {\"train\" : 0.0, \"valid\" : 0.0}\n",
    "    Losses, Accuracies, LRs = [], [], []\n",
    "    if fold: \n",
    "        ble_name = f\"ble_state_fold_{fold}.pt\"\n",
    "        bae_name = f\"bae_state_fold_{fold}.pt\"\n",
    "    else: \n",
    "        ble_name = \"ble_state.pt\"\n",
    "        bae_name = \"bae_state.pt\"\n",
    "\n",
    "    start_time = time()\n",
    "    for e in range(epochs):\n",
    "        e_st = time()\n",
    "        epochLoss, epochAccs = {\"train\" : 0.0, \"valid\" : 0.0}, {\"train\" : 0.0, \"valid\" : 0.0}\n",
    "\n",
    "        for phase in [\"train\", \"valid\"]:\n",
    "            if phase == \"train\":\n",
    "                model.train()\n",
    "            else:\n",
    "                model.eval()\n",
    "            \n",
    "            lossPerPass, accsPerPass = [], []\n",
    "\n",
    "            for X, y in dataloaders[phase]:\n",
    "                X, y = X.to(device), y.to(device).view(-1)\n",
    "\n",
    "                optimizer.zero_grad()\n",
    "                with torch.set_grad_enabled(phase == \"train\"):\n",
    "                    output = model(X)\n",
    "                    loss = torch.nn.NLLLoss()(output, y)\n",
    "                    if phase == \"train\":\n",
    "                        loss.backward()\n",
    "                        optimizer.step()\n",
    "                        if scheduler_oclr: scheduler_oclr.step()\n",
    "                lossPerPass.append(loss.item())\n",
    "                accsPerPass.append(get_accuracy(output, y))\n",
    "            epochLoss[phase] = np.mean(np.array(lossPerPass))\n",
    "            epochAccs[phase] = np.mean(np.array(accsPerPass))\n",
    "        if scheduler_oclr: LRs.append(scheduler_oclr.get_last_lr())\n",
    "        Losses.append(epochLoss)\n",
    "        Accuracies.append(epochAccs)\n",
    "        \n",
    "        if scheduler_oclr:\n",
    "            save_dict = {\"model_state_dict\"     : model.state_dict(),\n",
    "                         \"optim_state_dict\"     : optimizer.state_dict(),\n",
    "                         \"scheduler_state_dict\" : scheduler_oclr.state_dict()}\n",
    "        \n",
    "        elif scheduler_rlrop:\n",
    "            save_dict = {\"model_state_dict\"     : model.state_dict(),\n",
    "                         \"optim_state_dict\"     : optimizer.state_dict(),\n",
    "                         \"scheduler_state_dict\" : scheduler_rlrop.state_dict()}\n",
    "        \n",
    "        else:\n",
    "            save_dict = {\"model_state_dict\"     : model.state_dict(),\n",
    "                         \"optim_state_dict\"     : optimizer.state_dict()}\n",
    "        \n",
    "        if early_stopping_patience:\n",
    "            if epochLoss[\"valid\"] < bestLoss[\"valid\"]:\n",
    "                bestLoss = epochLoss\n",
    "                BLE = e + 1\n",
    "                torch.save(save_dict, os.path.join(save_path, name))\n",
    "                early_stopping_step = 0\n",
    "            else:\n",
    "                early_stopping_step += 1\n",
    "                if early_stopping_step > early_stopping_patience:\n",
    "                    print(\"\\nEarly Stopping at Epoch {}\".format(e + 1))\n",
    "                    break\n",
    "        \n",
    "        if epochLoss[\"valid\"] < bestLoss[\"valid\"]:\n",
    "            bestLoss = epochLoss\n",
    "            BLE = e + 1\n",
    "            torch.save(save_dict,os.path.join(save_path, ble_name))\n",
    "        \n",
    "        if epochAccs[\"valid\"] > bestAccs[\"valid\"]:\n",
    "            bestAccs = epochAccs\n",
    "            BAE = e + 1\n",
    "            torch.save(save_dict,os.path.join(save_path, bae_name))\n",
    "\n",
    "        \n",
    "        if scheduler_rlrop: scheduler_rlrop.step(epochLoss[\"valid\"])\n",
    "        \n",
    "        if verbose:\n",
    "            print(\"Epoch: {} | Train Loss: {:.5f} | Valid Loss: {:.5f} |\\\n",
    " Train Accs: {:.5f} | Valid Accs: {:.5f} | Time: {:.2f} seconds\".format(e+1, \n",
    "                                                                        epochLoss[\"train\"], epochLoss[\"valid\"], \n",
    "                                                                        epochAccs[\"train\"], epochAccs[\"valid\"], \n",
    "                                                                        time()-e_st))\n",
    "\n",
    "    if verbose:                                           \n",
    "        breaker()\n",
    "        print(f\"Best Validation Loss at Epoch {BLE}\")\n",
    "        breaker()\n",
    "        print(f\"Best Validation Accs at Epoch {BAE}\")\n",
    "        breaker()\n",
    "        print(\"Time Taken [{} Epochs] : {:.2f} minutes\".format(len(Losses), (time()-start_time)/60))\n",
    "    \n",
    "    return Losses, Accuracies, LRs, BLE, BAE, ble_name, bae_name\n",
    "\n",
    "\n",
    "def predict_batch(model=None, dataloader=None, path=None, device=None) -> np.ndarray:\n",
    "    model.load_state_dict(torch.load(path, map_location=device)[\"model_state_dict\"])\n",
    "    model.to(device)    \n",
    "    model.eval()\n",
    "    \n",
    "    y_pred = torch.zeros(1, 1).to(device)\n",
    "    \n",
    "    for X in dataloader:\n",
    "        X = X.to(device)\n",
    "        with torch.no_grad():\n",
    "            output = torch.argmax(torch.exp(model(X)), dim=1)\n",
    "        y_pred = torch.cat((y_pred, output.view(-1, 1)), dim=0)\n",
    "    \n",
    "    return y_pred[1:].detach().cpu().numpy()"
   ]
  },
  {
   "cell_type": "markdown",
   "id": "4897ee2d",
   "metadata": {
    "papermill": {
     "duration": 0.004304,
     "end_time": "2022-06-26T19:23:09.057633",
     "exception": false,
     "start_time": "2022-06-26T19:23:09.053329",
     "status": "completed"
    },
    "tags": []
   },
   "source": [
    "### **Train**"
   ]
  },
  {
   "cell_type": "code",
   "execution_count": 8,
   "id": "20a62608",
   "metadata": {
    "execution": {
     "iopub.execute_input": "2022-06-26T19:23:09.067172Z",
     "iopub.status.busy": "2022-06-26T19:23:09.066892Z",
     "iopub.status.idle": "2022-06-26T19:23:39.667307Z",
     "shell.execute_reply": "2022-06-26T19:23:39.666365Z"
    },
    "papermill": {
     "duration": 30.608208,
     "end_time": "2022-06-26T19:23:39.669851",
     "exception": false,
     "start_time": "2022-06-26T19:23:09.061643",
     "status": "completed"
    },
    "tags": []
   },
   "outputs": [],
   "source": [
    "images = np.load(f\"../input/pdc-images-{SIZE}/images-{SIZE}.npy\")\n",
    "df = pd.read_csv(\"../input/paddy-disease-classification/train.csv\")\n",
    "labels = df.label.copy().values\n",
    "labels = le.fit_transform(labels)"
   ]
  },
  {
   "cell_type": "code",
   "execution_count": 9,
   "id": "706b99f3",
   "metadata": {
    "execution": {
     "iopub.execute_input": "2022-06-26T19:23:39.680973Z",
     "iopub.status.busy": "2022-06-26T19:23:39.680428Z",
     "iopub.status.idle": "2022-06-26T21:05:03.262897Z",
     "shell.execute_reply": "2022-06-26T21:05:03.261779Z"
    },
    "papermill": {
     "duration": 6083.589633,
     "end_time": "2022-06-26T21:05:03.264594",
     "exception": false,
     "start_time": "2022-06-26T19:23:39.674961",
     "status": "completed"
    },
    "tags": []
   },
   "outputs": [
    {
     "name": "stderr",
     "output_type": "stream",
     "text": [
      "Downloading: \"https://download.pytorch.org/models/densenet121-a639ec97.pth\" to /root/.cache/torch/hub/checkpoints/densenet121-a639ec97.pth\n"
     ]
    },
    {
     "name": "stdout",
     "output_type": "stream",
     "text": [
      "\n",
      "**************************************************\n",
      "\n",
      "Training ...\n",
      "\n",
      "**************************************************\n",
      "\n",
      "Epoch: 1 | Train Loss: 1.87953 | Valid Loss: 0.99617 | Train Accs: 0.34781 | Valid Accs: 0.67557 | Time: 180.82 seconds\n",
      "Epoch: 2 | Train Loss: 0.66008 | Valid Loss: 0.44441 | Train Accs: 0.80210 | Valid Accs: 0.86021 | Time: 174.39 seconds\n",
      "Epoch: 3 | Train Loss: 0.42962 | Valid Loss: 0.80044 | Train Accs: 0.87024 | Valid Accs: 0.76336 | Time: 173.20 seconds\n",
      "Epoch: 4 | Train Loss: 0.42424 | Valid Loss: 0.55492 | Train Accs: 0.86528 | Valid Accs: 0.82204 | Time: 173.20 seconds\n",
      "Epoch: 5 | Train Loss: 0.40321 | Valid Loss: 0.66135 | Train Accs: 0.87240 | Valid Accs: 0.79723 | Time: 173.10 seconds\n",
      "Epoch: 6 | Train Loss: 0.39404 | Valid Loss: 0.43439 | Train Accs: 0.87152 | Valid Accs: 0.85735 | Time: 173.62 seconds\n",
      "Epoch: 7 | Train Loss: 0.33883 | Valid Loss: 0.45242 | Train Accs: 0.88652 | Valid Accs: 0.86069 | Time: 173.80 seconds\n",
      "Epoch: 8 | Train Loss: 0.27129 | Valid Loss: 0.47804 | Train Accs: 0.91451 | Valid Accs: 0.86403 | Time: 174.10 seconds\n",
      "Epoch: 9 | Train Loss: 0.22237 | Valid Loss: 0.37423 | Train Accs: 0.92830 | Valid Accs: 0.88454 | Time: 174.07 seconds\n",
      "Epoch: 10 | Train Loss: 0.19621 | Valid Loss: 0.50851 | Train Accs: 0.93882 | Valid Accs: 0.86641 | Time: 173.14 seconds\n",
      "Epoch: 11 | Train Loss: 0.18474 | Valid Loss: 0.31354 | Train Accs: 0.94022 | Valid Accs: 0.90315 | Time: 173.74 seconds\n",
      "Epoch: 12 | Train Loss: 0.15347 | Valid Loss: 0.29004 | Train Accs: 0.95286 | Valid Accs: 0.91842 | Time: 173.89 seconds\n",
      "Epoch: 13 | Train Loss: 0.13741 | Valid Loss: 0.33174 | Train Accs: 0.95673 | Valid Accs: 0.90076 | Time: 173.23 seconds\n",
      "Epoch: 14 | Train Loss: 0.10683 | Valid Loss: 0.22908 | Train Accs: 0.96645 | Valid Accs: 0.93798 | Time: 174.01 seconds\n",
      "Epoch: 15 | Train Loss: 0.06700 | Valid Loss: 0.26639 | Train Accs: 0.97973 | Valid Accs: 0.93511 | Time: 173.08 seconds\n",
      "Epoch: 16 | Train Loss: 0.13544 | Valid Loss: 0.24174 | Train Accs: 0.95601 | Valid Accs: 0.93607 | Time: 173.39 seconds\n",
      "Epoch: 17 | Train Loss: 0.08055 | Valid Loss: 0.21815 | Train Accs: 0.97637 | Valid Accs: 0.93893 | Time: 174.00 seconds\n",
      "Epoch: 18 | Train Loss: 0.04191 | Valid Loss: 0.15270 | Train Accs: 0.98776 | Valid Accs: 0.95992 | Time: 173.95 seconds\n",
      "Epoch: 19 | Train Loss: 0.02429 | Valid Loss: 0.14783 | Train Accs: 0.99316 | Valid Accs: 0.96851 | Time: 173.77 seconds\n",
      "Epoch: 20 | Train Loss: 0.04428 | Valid Loss: 0.18006 | Train Accs: 0.98680 | Valid Accs: 0.95945 | Time: 172.63 seconds\n",
      "Epoch: 21 | Train Loss: 0.02772 | Valid Loss: 0.15837 | Train Accs: 0.99256 | Valid Accs: 0.95992 | Time: 172.56 seconds\n",
      "Epoch: 22 | Train Loss: 0.02773 | Valid Loss: 0.14304 | Train Accs: 0.99172 | Valid Accs: 0.96660 | Time: 173.53 seconds\n",
      "Epoch: 23 | Train Loss: 0.01959 | Valid Loss: 0.16586 | Train Accs: 0.99352 | Valid Accs: 0.95706 | Time: 172.95 seconds\n",
      "Epoch: 24 | Train Loss: 0.01795 | Valid Loss: 0.15471 | Train Accs: 0.99412 | Valid Accs: 0.96517 | Time: 173.00 seconds\n",
      "Epoch: 25 | Train Loss: 0.01949 | Valid Loss: 0.12619 | Train Accs: 0.99400 | Valid Accs: 0.97328 | Time: 173.75 seconds\n",
      "Epoch: 26 | Train Loss: 0.00279 | Valid Loss: 0.12546 | Train Accs: 0.99952 | Valid Accs: 0.97758 | Time: 173.48 seconds\n",
      "Epoch: 27 | Train Loss: 0.00204 | Valid Loss: 0.11789 | Train Accs: 0.99988 | Valid Accs: 0.97662 | Time: 173.49 seconds\n",
      "Epoch: 28 | Train Loss: 0.00310 | Valid Loss: 0.12692 | Train Accs: 0.99892 | Valid Accs: 0.97424 | Time: 172.27 seconds\n",
      "Epoch: 29 | Train Loss: 0.00160 | Valid Loss: 0.12340 | Train Accs: 0.99976 | Valid Accs: 0.97376 | Time: 172.38 seconds\n",
      "Epoch: 30 | Train Loss: 0.00125 | Valid Loss: 0.11472 | Train Accs: 0.99976 | Valid Accs: 0.97710 | Time: 172.54 seconds\n",
      "Epoch: 31 | Train Loss: 0.00062 | Valid Loss: 0.11991 | Train Accs: 1.00000 | Valid Accs: 0.97519 | Time: 172.17 seconds\n",
      "Epoch: 32 | Train Loss: 0.00076 | Valid Loss: 0.11613 | Train Accs: 0.99988 | Valid Accs: 0.97376 | Time: 172.26 seconds\n",
      "Epoch: 33 | Train Loss: 0.00058 | Valid Loss: 0.11946 | Train Accs: 0.99988 | Valid Accs: 0.97615 | Time: 172.34 seconds\n",
      "Epoch: 34 | Train Loss: 0.00038 | Valid Loss: 0.11468 | Train Accs: 1.00000 | Valid Accs: 0.97710 | Time: 173.34 seconds\n",
      "Epoch: 35 | Train Loss: 0.00104 | Valid Loss: 0.11976 | Train Accs: 0.99956 | Valid Accs: 0.97567 | Time: 173.37 seconds\n",
      "\n",
      "**************************************************\n",
      "\n",
      "Best Validation Loss at Epoch 34\n",
      "\n",
      "**************************************************\n",
      "\n",
      "Best Validation Accs at Epoch 26\n",
      "\n",
      "**************************************************\n",
      "\n",
      "Time Taken [35 Epochs] : 101.21 minutes\n",
      "\n",
      "**************************************************\n",
      "\n"
     ]
    },
    {
     "data": {
      "image/png": "[encoded data removed]",
      "text/plain": [
       "<Figure size 432x288 with 1 Axes>"
      ]
     },
     "metadata": {
      "needs_background": "light"
     },
     "output_type": "display_data"
    },
    {
     "name": "stdout",
     "output_type": "stream",
     "text": [
      "\n",
      "**************************************************\n",
      "\n"
     ]
    },
    {
     "data": {
      "image/png": "[encoded data removed]",
      "text/plain": [
       "<Figure size 432x288 with 1 Axes>"
      ]
     },
     "metadata": {
      "needs_background": "light"
     },
     "output_type": "display_data"
    },
    {
     "name": "stdout",
     "output_type": "stream",
     "text": [
      "\n",
      "**************************************************\n",
      "\n"
     ]
    },
    {
     "data": {
      "image/png": "[encoded data removed]",
      "text/plain": [
       "<Figure size 576x432 with 1 Axes>"
      ]
     },
     "metadata": {
      "needs_background": "light"
     },
     "output_type": "display_data"
    },
    {
     "name": "stdout",
     "output_type": "stream",
     "text": [
      "\n",
      "**************************************************\n",
      "\n"
     ]
    }
   ],
   "source": [
    "fold = 1\n",
    "\n",
    "for tr_idx, va_idx in StratifiedKFold(n_splits=cfg.n_splits, random_state=cfg.seed, shuffle=True).split(images, labels):\n",
    "    if fold == 3: break\n",
    "    fold += 1\n",
    "\n",
    "tr_images, va_images, tr_labels, va_labels = images[tr_idx], images[va_idx], labels[tr_idx], labels[va_idx]\n",
    "\n",
    "tr_data_setup = DS(tr_images, tr_labels.reshape(-1, 1), cfg.transform)\n",
    "va_data_setup = DS(va_images, va_labels.reshape(-1, 1), cfg.transform)\n",
    "\n",
    "dataloaders = {\n",
    "    \"train\" : DL(tr_data_setup, batch_size=cfg.batch_size, shuffle=True, generator=torch.manual_seed(cfg.seed)),\n",
    "    \"valid\" : DL(va_data_setup, batch_size=cfg.batch_size, shuffle=False),\n",
    "}\n",
    "\n",
    "cfg = CFG(epochs=35, batch_size=64, steps_per_epoch=len(dataloaders[\"train\"]))\n",
    "\n",
    "torch.manual_seed(cfg.seed)\n",
    "model = Model().to(cfg.device)\n",
    "\n",
    "optimizer = optim.AdamW([p for p in model.parameters() if p.requires_grad], lr=cfg.lr, weight_decay=cfg.wd)\n",
    "# optimizer = optim.AdamW([p for p in model.parameters() if p.requires_grad], lr=cfg.lr, weight_decay=cfg.wd)\n",
    "\n",
    "scheduler_oclr = optim.lr_scheduler.OneCycleLR(optimizer=optimizer, \n",
    "                                               max_lr=cfg.max_lr, \n",
    "                                               epochs=cfg.epochs, \n",
    "                                               steps_per_epoch=cfg.steps_per_epoch,\n",
    "                                               pct_start=cfg.pct_start, \n",
    "                                               div_factor=cfg.div_factor, \n",
    "                                               final_div_factor=cfg.final_div_factor)\n",
    "# scheduler_rlrop = optim.lr_scheduler.ReduceLROnPlateau(optimizer=optimizer,\n",
    "#                                                       patience=cfg.patience,\n",
    "#                                                       eps=cfg.eps,\n",
    "#                                                       verbose=True)\n",
    "\n",
    "# scheduler_oclr = None\n",
    "scheduler_rlrop = None\n",
    "\n",
    "L, A, LR, BLE, BAE, _, _ = fit(model=model, \n",
    "                               optimizer=optimizer, \n",
    "                               scheduler_oclr=scheduler_oclr,\n",
    "                               scheduler_rlrop=scheduler_rlrop,\n",
    "                               epochs=cfg.epochs, \n",
    "                               early_stopping_patience=None, \n",
    "                               dataloaders=dataloaders, \n",
    "                               device=cfg.device,\n",
    "                               save_path=cfg.save_path,\n",
    "                               fold=None,\n",
    "                               verbose=True)\n",
    "\n",
    "breaker()\n",
    "show_loss_graphs(L)\n",
    "breaker()\n",
    "show_accuracy_graphs(A)\n",
    "breaker()\n",
    "\n",
    "if scheduler_oclr:\n",
    "    show_lr_graph(LR)\n",
    "    breaker()"
   ]
  }
 ],
 "metadata": {
  "kernelspec": {
   "display_name": "Python 3",
   "language": "python",
   "name": "python3"
  },
  "language_info": {
   "codemirror_mode": {
    "name": "ipython",
    "version": 3
   },
   "file_extension": ".py",
   "mimetype": "text/x-python",
   "name": "python",
   "nbconvert_exporter": "python",
   "pygments_lexer": "ipython3",
   "version": "3.7.12"
  },
  "papermill": {
   "default_parameters": {},
   "duration": 6144.956673,
   "end_time": "2022-06-26T21:05:06.857603",
   "environment_variables": {},
   "exception": null,
   "input_path": "__notebook__.ipynb",
   "output_path": "__notebook__.ipynb",
   "parameters": {},
   "start_time": "2022-06-26T19:22:41.900930",
   "version": "2.3.4"
  }
 },
 "nbformat": 4,
 "nbformat_minor": 5
}
