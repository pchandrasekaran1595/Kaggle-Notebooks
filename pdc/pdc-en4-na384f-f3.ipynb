{
 "cells": [
  {
   "cell_type": "markdown",
   "id": "a094b4de",
   "metadata": {
    "_cell_guid": "b1076dfc-b9ad-4769-8c92-a6c4dae69d19",
    "_uuid": "8f2839f25d086af736a60e9eeb907d3b93b6e0e5",
    "papermill": {
     "duration": 0.00518,
     "end_time": "2022-06-27T07:06:48.262993",
     "exception": false,
     "start_time": "2022-06-27T07:06:48.257813",
     "status": "completed"
    },
    "tags": []
   },
   "source": [
    "### **Setup**"
   ]
  },
  {
   "cell_type": "code",
   "execution_count": 1,
   "id": "1f031d47",
   "metadata": {
    "execution": {
     "iopub.execute_input": "2022-06-27T07:06:48.273419Z",
     "iopub.status.busy": "2022-06-27T07:06:48.272659Z",
     "iopub.status.idle": "2022-06-27T07:06:59.292041Z",
     "shell.execute_reply": "2022-06-27T07:06:59.290980Z"
    },
    "papermill": {
     "duration": 11.027768,
     "end_time": "2022-06-27T07:06:59.294965",
     "exception": false,
     "start_time": "2022-06-27T07:06:48.267197",
     "status": "completed"
    },
    "tags": []
   },
   "outputs": [
    {
     "name": "stderr",
     "output_type": "stream",
     "text": [
      "WARNING: Running pip as the 'root' user can result in broken permissions and conflicting behaviour with the system package manager. It is recommended to use a virtual environment instead: https://pip.pypa.io/warnings/venv\n"
     ]
    }
   ],
   "source": [
    "%%bash\n",
    "pip install timm -q"
   ]
  },
  {
   "cell_type": "markdown",
   "id": "d03462ee",
   "metadata": {
    "papermill": {
     "duration": 0.003996,
     "end_time": "2022-06-27T07:06:59.304133",
     "exception": false,
     "start_time": "2022-06-27T07:06:59.300137",
     "status": "completed"
    },
    "tags": []
   },
   "source": [
    "### **Library Imports**"
   ]
  },
  {
   "cell_type": "code",
   "execution_count": 2,
   "id": "582d8ae2",
   "metadata": {
    "execution": {
     "iopub.execute_input": "2022-06-27T07:06:59.314589Z",
     "iopub.status.busy": "2022-06-27T07:06:59.313907Z",
     "iopub.status.idle": "2022-06-27T07:07:07.204842Z",
     "shell.execute_reply": "2022-06-27T07:07:07.203897Z"
    },
    "papermill": {
     "duration": 7.899113,
     "end_time": "2022-06-27T07:07:07.207258",
     "exception": false,
     "start_time": "2022-06-27T07:06:59.308145",
     "status": "completed"
    },
    "tags": []
   },
   "outputs": [],
   "source": [
    "import os\n",
    "import re\n",
    "import timm\n",
    "import torch\n",
    "import numpy as np\n",
    "import pandas as pd\n",
    "import matplotlib.pyplot as plt\n",
    "\n",
    "from time import time\n",
    "from torch import nn, optim\n",
    "from torch.utils.data import Dataset\n",
    "from torch.utils.data import DataLoader as DL\n",
    "from torchvision import transforms\n",
    "\n",
    "from sklearn.model_selection import StratifiedKFold\n",
    "from sklearn.preprocessing import LabelEncoder\n",
    "from sklearn.metrics import accuracy_score"
   ]
  },
  {
   "cell_type": "markdown",
   "id": "d32cc368",
   "metadata": {
    "papermill": {
     "duration": 0.003947,
     "end_time": "2022-06-27T07:07:07.215614",
     "exception": false,
     "start_time": "2022-06-27T07:07:07.211667",
     "status": "completed"
    },
    "tags": []
   },
   "source": [
    "### **Utilities and Helpers**"
   ]
  },
  {
   "cell_type": "code",
   "execution_count": 3,
   "id": "80351ea1",
   "metadata": {
    "execution": {
     "iopub.execute_input": "2022-06-27T07:07:07.226690Z",
     "iopub.status.busy": "2022-06-27T07:07:07.224963Z",
     "iopub.status.idle": "2022-06-27T07:07:07.237758Z",
     "shell.execute_reply": "2022-06-27T07:07:07.237065Z"
    },
    "papermill": {
     "duration": 0.019792,
     "end_time": "2022-06-27T07:07:07.239407",
     "exception": false,
     "start_time": "2022-06-27T07:07:07.219615",
     "status": "completed"
    },
    "tags": []
   },
   "outputs": [],
   "source": [
    "SEED = 42\n",
    "SIZE = 384\n",
    "le = LabelEncoder()\n",
    "\n",
    "\n",
    "def breaker(num: int=50, char: str=\"*\") -> None:\n",
    "    print(\"\\n\" + num*char + \"\\n\")\n",
    "\n",
    "    \n",
    "def show_loss_graphs(L: list) -> None:\n",
    "    TL, VL = [], []\n",
    "    for i in range(len(L)):\n",
    "        TL.append(L[i][\"train\"])\n",
    "        VL.append(L[i][\"valid\"])\n",
    "    x_Axis = np.arange(1, len(TL) + 1)\n",
    "    plt.figure()\n",
    "    plt.plot(x_Axis, TL, \"r\", label=\"Train\")\n",
    "    plt.plot(x_Axis, VL, \"b\", label=\"Valid\")\n",
    "    plt.legend()\n",
    "    plt.grid()\n",
    "    plt.title(\"Loss Graph\")\n",
    "    plt.show()\n",
    "\n",
    "    \n",
    "def show_accuracy_graphs(A: list) -> None:\n",
    "    TA, VA = [], []\n",
    "    for i in range(len(A)):\n",
    "        TA.append(A[i][\"train\"])\n",
    "        VA.append(A[i][\"valid\"])\n",
    "    x_Axis = np.arange(1, len(TA) + 1)\n",
    "    plt.figure()\n",
    "    plt.plot(x_Axis, TA, \"r\", label=\"Train\")\n",
    "    plt.plot(x_Axis, VA, \"b\", label=\"Valid\")\n",
    "    plt.legend()\n",
    "    plt.grid()\n",
    "    plt.title(\"Accuracy Graph\")\n",
    "    plt.show()\n",
    "\n",
    "\n",
    "def show_lr_graph(LR: list) -> None:\n",
    "    x_Axis = [i+1 for i in range(len(LR))]\n",
    "    plt.figure(figsize=(8, 6))\n",
    "    plt.plot(x_Axis, LR, \"rx\")\n",
    "    plt.grid()\n",
    "    plt.show()"
   ]
  },
  {
   "cell_type": "markdown",
   "id": "a977d197",
   "metadata": {
    "papermill": {
     "duration": 0.004142,
     "end_time": "2022-06-27T07:07:07.247587",
     "exception": false,
     "start_time": "2022-06-27T07:07:07.243445",
     "status": "completed"
    },
    "tags": []
   },
   "source": [
    "### **Configuration**"
   ]
  },
  {
   "cell_type": "code",
   "execution_count": 4,
   "id": "d8aeeff5",
   "metadata": {
    "execution": {
     "iopub.execute_input": "2022-06-27T07:07:07.256577Z",
     "iopub.status.busy": "2022-06-27T07:07:07.256294Z",
     "iopub.status.idle": "2022-06-27T07:07:07.320420Z",
     "shell.execute_reply": "2022-06-27T07:07:07.319524Z"
    },
    "papermill": {
     "duration": 0.070538,
     "end_time": "2022-06-27T07:07:07.322138",
     "exception": false,
     "start_time": "2022-06-27T07:07:07.251600",
     "status": "completed"
    },
    "tags": []
   },
   "outputs": [],
   "source": [
    "class CFG(object):\n",
    "    def __init__(self, \n",
    "                 seed: int = 42,\n",
    "                 n_splits: int = 5,\n",
    "                 batch_size: int = 16,\n",
    "                 epochs: int = 25,\n",
    "                 early_stopping: int = 5,\n",
    "                 lr: float = 1e-4,\n",
    "                 wd: float = 0.0,\n",
    "                 max_lr: float = 1e-3,\n",
    "                 pct_start: float = 0.2,\n",
    "                 steps_per_epoch: int = 100,\n",
    "                 div_factor: int = 1e3, \n",
    "                 final_div_factor: float = 1e3,\n",
    "                 ):\n",
    "        \n",
    "        self.seed = seed\n",
    "        self.n_splits = n_splits\n",
    "        self.batch_size = batch_size\n",
    "        self.epochs = epochs\n",
    "        self.early_stopping = early_stopping\n",
    "        self.lr = lr\n",
    "        self.wd = wd\n",
    "        self.max_lr = max_lr\n",
    "        self.pct_start = pct_start\n",
    "        self.steps_per_epoch = steps_per_epoch\n",
    "        self.div_factor = div_factor\n",
    "        self.final_div_factor = final_div_factor\n",
    "        self.device = torch.device(\"cuda\" if torch.cuda.is_available() else \"cpu\")\n",
    "        self.transform = transforms.Compose([transforms.ToTensor(),\n",
    "                                transforms.Normalize([0.49699, 0.58823, 0.23049],\n",
    "                                                     [0.22591, 0.22614, 0.18264]),\n",
    "                                ])\n",
    "        self.save_path = \"saves\"\n",
    "        if not os.path.exists(self.save_path): os.makedirs(self.save_path)\n",
    "    \n",
    "cfg = CFG(seed=SEED)"
   ]
  },
  {
   "cell_type": "markdown",
   "id": "cf55e365",
   "metadata": {
    "papermill": {
     "duration": 0.003923,
     "end_time": "2022-06-27T07:07:07.330428",
     "exception": false,
     "start_time": "2022-06-27T07:07:07.326505",
     "status": "completed"
    },
    "tags": []
   },
   "source": [
    "### **Dataset Template**"
   ]
  },
  {
   "cell_type": "code",
   "execution_count": 5,
   "id": "7590b384",
   "metadata": {
    "execution": {
     "iopub.execute_input": "2022-06-27T07:07:07.340169Z",
     "iopub.status.busy": "2022-06-27T07:07:07.339836Z",
     "iopub.status.idle": "2022-06-27T07:07:07.346996Z",
     "shell.execute_reply": "2022-06-27T07:07:07.346299Z"
    },
    "papermill": {
     "duration": 0.01394,
     "end_time": "2022-06-27T07:07:07.348670",
     "exception": false,
     "start_time": "2022-06-27T07:07:07.334730",
     "status": "completed"
    },
    "tags": []
   },
   "outputs": [],
   "source": [
    "class DS(Dataset):\n",
    "    def __init__(self, images: np.ndarray, labels: np.ndarray = None, transform=None):\n",
    "        self.images = images\n",
    "        self.labels = labels\n",
    "        self.transform = transform\n",
    "    \n",
    "    def __len__(self):\n",
    "        return self.images.shape[0]\n",
    "    \n",
    "    def __getitem__(self, idx):\n",
    "        if self.labels is not None:\n",
    "            return self.transform(self.images[idx]), torch.LongTensor(self.labels[idx])\n",
    "        else:\n",
    "            return self.transform(self.images[idx])"
   ]
  },
  {
   "cell_type": "markdown",
   "id": "483ec7c3",
   "metadata": {
    "papermill": {
     "duration": 0.003861,
     "end_time": "2022-06-27T07:07:07.356521",
     "exception": false,
     "start_time": "2022-06-27T07:07:07.352660",
     "status": "completed"
    },
    "tags": []
   },
   "source": [
    "### **Model**"
   ]
  },
  {
   "cell_type": "code",
   "execution_count": 6,
   "id": "07510b12",
   "metadata": {
    "execution": {
     "iopub.execute_input": "2022-06-27T07:07:07.365626Z",
     "iopub.status.busy": "2022-06-27T07:07:07.365363Z",
     "iopub.status.idle": "2022-06-27T07:07:07.371378Z",
     "shell.execute_reply": "2022-06-27T07:07:07.370613Z"
    },
    "papermill": {
     "duration": 0.012509,
     "end_time": "2022-06-27T07:07:07.373047",
     "exception": false,
     "start_time": "2022-06-27T07:07:07.360538",
     "status": "completed"
    },
    "tags": []
   },
   "outputs": [],
   "source": [
    "class Model(nn.Module):\n",
    "    def __init__(self):\n",
    "        super(Model, self).__init__()\n",
    "\n",
    "        self.model = timm.create_model(model_name=\"efficientnet_b4\", pretrained=True)\n",
    "        # self.freeze()\n",
    "        self.model.classifier = nn.Linear(in_features=self.model.classifier.in_features, out_features=10)\n",
    "    \n",
    "    def freeze(self):\n",
    "        for params in self.parameters(): params.requires_grad = False\n",
    "\n",
    "    def forward(self, x):\n",
    "        return nn.LogSoftmax(dim=1)(self.model(x))"
   ]
  },
  {
   "cell_type": "markdown",
   "id": "047565a4",
   "metadata": {
    "papermill": {
     "duration": 0.003815,
     "end_time": "2022-06-27T07:07:07.381328",
     "exception": false,
     "start_time": "2022-06-27T07:07:07.377513",
     "status": "completed"
    },
    "tags": []
   },
   "source": [
    "### **Fit and Predict Helpers**"
   ]
  },
  {
   "cell_type": "code",
   "execution_count": 7,
   "id": "66ec95ca",
   "metadata": {
    "execution": {
     "iopub.execute_input": "2022-06-27T07:07:07.390677Z",
     "iopub.status.busy": "2022-06-27T07:07:07.390429Z",
     "iopub.status.idle": "2022-06-27T07:07:07.415757Z",
     "shell.execute_reply": "2022-06-27T07:07:07.415037Z"
    },
    "papermill": {
     "duration": 0.032027,
     "end_time": "2022-06-27T07:07:07.417340",
     "exception": false,
     "start_time": "2022-06-27T07:07:07.385313",
     "status": "completed"
    },
    "tags": []
   },
   "outputs": [],
   "source": [
    "def fit(model=None, \n",
    "        optimizer=None, \n",
    "        scheduler_rlrop=None,\n",
    "        scheduler_oclr=None,\n",
    "        epochs=None, \n",
    "        early_stopping_patience=None, \n",
    "        dataloaders=None, \n",
    "        fold=None, \n",
    "        save_path=None,\n",
    "        device=None,\n",
    "        verbose=False) -> tuple:\n",
    "    \n",
    "    def get_accuracy(y_pred, y_true):\n",
    "        y_pred = torch.argmax(y_pred, dim=1)\n",
    "        return torch.count_nonzero(y_pred == y_true).item() / len(y_pred)\n",
    "    \n",
    "    if verbose:\n",
    "        breaker()\n",
    "        if fold: print(f\"Training Fold {fold}...\")\n",
    "        else: print(\"Training ...\")\n",
    "        breaker()\n",
    "        \n",
    "    bestLoss, bestAccs = {\"train\" : np.inf, \"valid\" : np.inf}, {\"train\" : 0.0, \"valid\" : 0.0}\n",
    "    Losses, Accuracies, LRs = [], [], []\n",
    "    if fold: \n",
    "        ble_name = f\"ble_state_fold_{fold}.pt\"\n",
    "        bae_name = f\"bae_state_fold_{fold}.pt\"\n",
    "    else: \n",
    "        ble_name = \"ble_state.pt\"\n",
    "        bae_name = \"bae_state.pt\"\n",
    "\n",
    "    start_time = time()\n",
    "    for e in range(epochs):\n",
    "        e_st = time()\n",
    "        epochLoss, epochAccs = {\"train\" : 0.0, \"valid\" : 0.0}, {\"train\" : 0.0, \"valid\" : 0.0}\n",
    "\n",
    "        for phase in [\"train\", \"valid\"]:\n",
    "            if phase == \"train\":\n",
    "                model.train()\n",
    "            else:\n",
    "                model.eval()\n",
    "            \n",
    "            lossPerPass, accsPerPass = [], []\n",
    "\n",
    "            for X, y in dataloaders[phase]:\n",
    "                X, y = X.to(device), y.to(device).view(-1)\n",
    "\n",
    "                optimizer.zero_grad()\n",
    "                with torch.set_grad_enabled(phase == \"train\"):\n",
    "                    output = model(X)\n",
    "                    loss = torch.nn.NLLLoss()(output, y)\n",
    "                    if phase == \"train\":\n",
    "                        loss.backward()\n",
    "                        optimizer.step()\n",
    "                        if scheduler_oclr: scheduler_oclr.step()\n",
    "                lossPerPass.append(loss.item())\n",
    "                accsPerPass.append(get_accuracy(output, y))\n",
    "            epochLoss[phase] = np.mean(np.array(lossPerPass))\n",
    "            epochAccs[phase] = np.mean(np.array(accsPerPass))\n",
    "        if scheduler_oclr: LRs.append(scheduler_oclr.get_last_lr())\n",
    "        Losses.append(epochLoss)\n",
    "        Accuracies.append(epochAccs)\n",
    "        \n",
    "        if scheduler_oclr:\n",
    "            save_dict = {\"model_state_dict\"     : model.state_dict(),\n",
    "                         \"optim_state_dict\"     : optimizer.state_dict(),\n",
    "                         \"scheduler_state_dict\" : scheduler_oclr.state_dict()}\n",
    "        \n",
    "        elif scheduler_rlrop:\n",
    "            save_dict = {\"model_state_dict\"     : model.state_dict(),\n",
    "                         \"optim_state_dict\"     : optimizer.state_dict(),\n",
    "                         \"scheduler_state_dict\" : scheduler_rlrop.state_dict()}\n",
    "        \n",
    "        else:\n",
    "            save_dict = {\"model_state_dict\"     : model.state_dict(),\n",
    "                         \"optim_state_dict\"     : optimizer.state_dict()}\n",
    "        \n",
    "        if early_stopping_patience:\n",
    "            if epochLoss[\"valid\"] < bestLoss[\"valid\"]:\n",
    "                bestLoss = epochLoss\n",
    "                BLE = e + 1\n",
    "                torch.save(save_dict, os.path.join(save_path, name))\n",
    "                early_stopping_step = 0\n",
    "            else:\n",
    "                early_stopping_step += 1\n",
    "                if early_stopping_step > early_stopping_patience:\n",
    "                    print(\"\\nEarly Stopping at Epoch {}\".format(e + 1))\n",
    "                    break\n",
    "        \n",
    "        if epochLoss[\"valid\"] < bestLoss[\"valid\"]:\n",
    "            bestLoss = epochLoss\n",
    "            BLE = e + 1\n",
    "            torch.save(save_dict,os.path.join(save_path, ble_name))\n",
    "        \n",
    "        if epochAccs[\"valid\"] > bestAccs[\"valid\"]:\n",
    "            bestAccs = epochAccs\n",
    "            BAE = e + 1\n",
    "            torch.save(save_dict,os.path.join(save_path, bae_name))\n",
    "\n",
    "        \n",
    "        if scheduler_rlrop: scheduler_rlrop.step(epochLoss[\"valid\"])\n",
    "        \n",
    "        if verbose:\n",
    "            print(\"Epoch: {} | Train Loss: {:.5f} | Valid Loss: {:.5f} |\\\n",
    " Train Accs: {:.5f} | Valid Accs: {:.5f} | Time: {:.2f} seconds\".format(e+1, \n",
    "                                                                        epochLoss[\"train\"], epochLoss[\"valid\"], \n",
    "                                                                        epochAccs[\"train\"], epochAccs[\"valid\"], \n",
    "                                                                        time()-e_st))\n",
    "\n",
    "    if verbose:                                           \n",
    "        breaker()\n",
    "        print(f\"Best Validation Loss at Epoch {BLE}\")\n",
    "        breaker()\n",
    "        print(f\"Best Validation Accs at Epoch {BAE}\")\n",
    "        breaker()\n",
    "        print(\"Time Taken [{} Epochs] : {:.2f} minutes\".format(len(Losses), (time()-start_time)/60))\n",
    "    \n",
    "    return Losses, Accuracies, LRs, BLE, BAE, ble_name, bae_name\n",
    "\n",
    "\n",
    "def predict_batch(model=None, dataloader=None, path=None, device=None) -> np.ndarray:\n",
    "    model.load_state_dict(torch.load(path, map_location=device)[\"model_state_dict\"])\n",
    "    model.to(device)    \n",
    "    model.eval()\n",
    "    \n",
    "    y_pred = torch.zeros(1, 1).to(device)\n",
    "    \n",
    "    for X in dataloader:\n",
    "        X = X.to(device)\n",
    "        with torch.no_grad():\n",
    "            output = torch.argmax(torch.exp(model(X)), dim=1)\n",
    "        y_pred = torch.cat((y_pred, output.view(-1, 1)), dim=0)\n",
    "    \n",
    "    return y_pred[1:].detach().cpu().numpy()"
   ]
  },
  {
   "cell_type": "markdown",
   "id": "5aa56c65",
   "metadata": {
    "papermill": {
     "duration": 0.004088,
     "end_time": "2022-06-27T07:07:07.425609",
     "exception": false,
     "start_time": "2022-06-27T07:07:07.421521",
     "status": "completed"
    },
    "tags": []
   },
   "source": [
    "### **Train**"
   ]
  },
  {
   "cell_type": "code",
   "execution_count": 8,
   "id": "45b0fc98",
   "metadata": {
    "execution": {
     "iopub.execute_input": "2022-06-27T07:07:07.435194Z",
     "iopub.status.busy": "2022-06-27T07:07:07.434945Z",
     "iopub.status.idle": "2022-06-27T07:07:44.872148Z",
     "shell.execute_reply": "2022-06-27T07:07:44.871338Z"
    },
    "papermill": {
     "duration": 37.444575,
     "end_time": "2022-06-27T07:07:44.874207",
     "exception": false,
     "start_time": "2022-06-27T07:07:07.429632",
     "status": "completed"
    },
    "tags": []
   },
   "outputs": [],
   "source": [
    "images = np.load(f\"../input/pdc-images-{SIZE}/images-{SIZE}.npy\")\n",
    "df = pd.read_csv(\"../input/paddy-disease-classification/train.csv\")\n",
    "labels = df.label.copy().values\n",
    "labels = le.fit_transform(labels)"
   ]
  },
  {
   "cell_type": "code",
   "execution_count": 9,
   "id": "3afca40c",
   "metadata": {
    "execution": {
     "iopub.execute_input": "2022-06-27T07:07:44.884954Z",
     "iopub.status.busy": "2022-06-27T07:07:44.884675Z",
     "iopub.status.idle": "2022-06-27T09:40:41.162196Z",
     "shell.execute_reply": "2022-06-27T09:40:41.161281Z"
    },
    "papermill": {
     "duration": 9176.286148,
     "end_time": "2022-06-27T09:40:41.165416",
     "exception": false,
     "start_time": "2022-06-27T07:07:44.879268",
     "status": "completed"
    },
    "tags": []
   },
   "outputs": [
    {
     "name": "stderr",
     "output_type": "stream",
     "text": [
      "Downloading: \"https://github.com/rwightman/pytorch-image-models/releases/download/v0.1-weights/efficientnet_b4_ra2_320-7eb33cd5.pth\" to /root/.cache/torch/hub/checkpoints/efficientnet_b4_ra2_320-7eb33cd5.pth\n"
     ]
    },
    {
     "name": "stdout",
     "output_type": "stream",
     "text": [
      "\n",
      "**************************************************\n",
      "\n",
      "Training ...\n",
      "\n",
      "**************************************************\n",
      "\n",
      "Epoch: 1 | Train Loss: 2.20265 | Valid Loss: 1.75924 | Train Accs: 0.22461 | Valid Accs: 0.45849 | Time: 268.88 seconds\n",
      "Epoch: 2 | Train Loss: 0.88793 | Valid Loss: 0.33386 | Train Accs: 0.70349 | Valid Accs: 0.88979 | Time: 259.91 seconds\n",
      "Epoch: 3 | Train Loss: 0.23869 | Valid Loss: 0.25902 | Train Accs: 0.92646 | Valid Accs: 0.93130 | Time: 259.99 seconds\n",
      "Epoch: 4 | Train Loss: 0.14528 | Valid Loss: 0.27636 | Train Accs: 0.95689 | Valid Accs: 0.92891 | Time: 259.11 seconds\n",
      "Epoch: 5 | Train Loss: 0.13200 | Valid Loss: 0.42712 | Train Accs: 0.96005 | Valid Accs: 0.89313 | Time: 258.86 seconds\n",
      "Epoch: 6 | Train Loss: 0.11298 | Valid Loss: 0.22796 | Train Accs: 0.96641 | Valid Accs: 0.94132 | Time: 260.69 seconds\n",
      "Epoch: 7 | Train Loss: 0.09842 | Valid Loss: 0.20174 | Train Accs: 0.97113 | Valid Accs: 0.94132 | Time: 259.17 seconds\n",
      "Epoch: 8 | Train Loss: 0.07340 | Valid Loss: 0.28529 | Train Accs: 0.97701 | Valid Accs: 0.93798 | Time: 258.70 seconds\n",
      "Epoch: 9 | Train Loss: 0.07730 | Valid Loss: 0.17372 | Train Accs: 0.97649 | Valid Accs: 0.95802 | Time: 259.43 seconds\n",
      "Epoch: 10 | Train Loss: 0.05097 | Valid Loss: 0.24110 | Train Accs: 0.98456 | Valid Accs: 0.94132 | Time: 258.38 seconds\n",
      "Epoch: 11 | Train Loss: 0.06381 | Valid Loss: 0.19551 | Train Accs: 0.98105 | Valid Accs: 0.95372 | Time: 258.04 seconds\n",
      "Epoch: 12 | Train Loss: 0.04987 | Valid Loss: 0.17124 | Train Accs: 0.98596 | Valid Accs: 0.95372 | Time: 261.71 seconds\n",
      "Epoch: 13 | Train Loss: 0.04075 | Valid Loss: 0.16004 | Train Accs: 0.98620 | Valid Accs: 0.96326 | Time: 263.62 seconds\n",
      "Epoch: 14 | Train Loss: 0.03081 | Valid Loss: 0.14817 | Train Accs: 0.99160 | Valid Accs: 0.96469 | Time: 264.22 seconds\n",
      "Epoch: 15 | Train Loss: 0.03092 | Valid Loss: 0.15005 | Train Accs: 0.99208 | Valid Accs: 0.96565 | Time: 259.52 seconds\n",
      "Epoch: 16 | Train Loss: 0.02881 | Valid Loss: 0.19913 | Train Accs: 0.99220 | Valid Accs: 0.95897 | Time: 262.31 seconds\n",
      "Epoch: 17 | Train Loss: 0.02828 | Valid Loss: 0.16530 | Train Accs: 0.99232 | Valid Accs: 0.96517 | Time: 262.35 seconds\n",
      "Epoch: 18 | Train Loss: 0.01327 | Valid Loss: 0.15531 | Train Accs: 0.99736 | Valid Accs: 0.96565 | Time: 263.13 seconds\n",
      "Epoch: 19 | Train Loss: 0.02278 | Valid Loss: 0.19699 | Train Accs: 0.99328 | Valid Accs: 0.95849 | Time: 263.12 seconds\n",
      "Epoch: 20 | Train Loss: 0.02166 | Valid Loss: 0.19143 | Train Accs: 0.99388 | Valid Accs: 0.95945 | Time: 263.04 seconds\n",
      "Epoch: 21 | Train Loss: 0.01437 | Valid Loss: 0.14641 | Train Accs: 0.99652 | Valid Accs: 0.96708 | Time: 260.27 seconds\n",
      "Epoch: 22 | Train Loss: 0.00735 | Valid Loss: 0.14206 | Train Accs: 0.99832 | Valid Accs: 0.96947 | Time: 259.18 seconds\n",
      "Epoch: 23 | Train Loss: 0.00526 | Valid Loss: 0.15040 | Train Accs: 0.99856 | Valid Accs: 0.97328 | Time: 263.02 seconds\n",
      "Epoch: 24 | Train Loss: 0.00209 | Valid Loss: 0.14958 | Train Accs: 0.99940 | Valid Accs: 0.97137 | Time: 263.32 seconds\n",
      "Epoch: 25 | Train Loss: 0.00109 | Valid Loss: 0.16327 | Train Accs: 0.99968 | Valid Accs: 0.97137 | Time: 262.84 seconds\n",
      "Epoch: 26 | Train Loss: 0.00221 | Valid Loss: 0.15082 | Train Accs: 0.99976 | Valid Accs: 0.96947 | Time: 263.69 seconds\n",
      "Epoch: 27 | Train Loss: 0.00023 | Valid Loss: 0.15203 | Train Accs: 1.00000 | Valid Accs: 0.97233 | Time: 262.83 seconds\n",
      "Epoch: 28 | Train Loss: 0.00025 | Valid Loss: 0.18047 | Train Accs: 1.00000 | Valid Accs: 0.96994 | Time: 263.07 seconds\n",
      "Epoch: 29 | Train Loss: 0.00022 | Valid Loss: 0.16404 | Train Accs: 1.00000 | Valid Accs: 0.97233 | Time: 262.12 seconds\n",
      "Epoch: 30 | Train Loss: 0.00028 | Valid Loss: 0.16578 | Train Accs: 0.99988 | Valid Accs: 0.97137 | Time: 262.82 seconds\n",
      "Epoch: 31 | Train Loss: 0.00013 | Valid Loss: 0.16012 | Train Accs: 1.00000 | Valid Accs: 0.97471 | Time: 263.60 seconds\n",
      "Epoch: 32 | Train Loss: 0.00005 | Valid Loss: 0.16737 | Train Accs: 1.00000 | Valid Accs: 0.97662 | Time: 262.90 seconds\n",
      "Epoch: 33 | Train Loss: 0.00009 | Valid Loss: 0.17653 | Train Accs: 1.00000 | Valid Accs: 0.97185 | Time: 262.58 seconds\n",
      "Epoch: 34 | Train Loss: 0.00005 | Valid Loss: 0.16566 | Train Accs: 1.00000 | Valid Accs: 0.97567 | Time: 262.52 seconds\n",
      "Epoch: 35 | Train Loss: 0.00004 | Valid Loss: 0.16429 | Train Accs: 1.00000 | Valid Accs: 0.97567 | Time: 263.45 seconds\n",
      "\n",
      "**************************************************\n",
      "\n",
      "Best Validation Loss at Epoch 22\n",
      "\n",
      "**************************************************\n",
      "\n",
      "Best Validation Accs at Epoch 32\n",
      "\n",
      "**************************************************\n",
      "\n",
      "Time Taken [35 Epochs] : 152.71 minutes\n",
      "\n",
      "**************************************************\n",
      "\n"
     ]
    },
    {
     "data": {
      "image/png": "[encoded data removed]",
      "text/plain": [
       "<Figure size 432x288 with 1 Axes>"
      ]
     },
     "metadata": {
      "needs_background": "light"
     },
     "output_type": "display_data"
    },
    {
     "name": "stdout",
     "output_type": "stream",
     "text": [
      "\n",
      "**************************************************\n",
      "\n"
     ]
    },
    {
     "data": {
      "image/png": "[encoded data removed]",
      "text/plain": [
       "<Figure size 432x288 with 1 Axes>"
      ]
     },
     "metadata": {
      "needs_background": "light"
     },
     "output_type": "display_data"
    },
    {
     "name": "stdout",
     "output_type": "stream",
     "text": [
      "\n",
      "**************************************************\n",
      "\n"
     ]
    },
    {
     "data": {
      "image/png": "[encoded data removed]",
      "text/plain": [
       "<Figure size 576x432 with 1 Axes>"
      ]
     },
     "metadata": {
      "needs_background": "light"
     },
     "output_type": "display_data"
    },
    {
     "name": "stdout",
     "output_type": "stream",
     "text": [
      "\n",
      "**************************************************\n",
      "\n"
     ]
    }
   ],
   "source": [
    "fold = 1\n",
    "\n",
    "for tr_idx, va_idx in StratifiedKFold(n_splits=cfg.n_splits, random_state=cfg.seed, shuffle=True).split(images, labels):\n",
    "    if fold == 3: break\n",
    "    fold += 1\n",
    "\n",
    "tr_images, va_images, tr_labels, va_labels = images[tr_idx], images[va_idx], labels[tr_idx], labels[va_idx]\n",
    "\n",
    "tr_data_setup = DS(tr_images, tr_labels.reshape(-1, 1), cfg.transform)\n",
    "va_data_setup = DS(va_images, va_labels.reshape(-1, 1), cfg.transform)\n",
    "\n",
    "dataloaders = {\n",
    "    \"train\" : DL(tr_data_setup, batch_size=cfg.batch_size, shuffle=True, generator=torch.manual_seed(cfg.seed)),\n",
    "    \"valid\" : DL(va_data_setup, batch_size=cfg.batch_size, shuffle=False),\n",
    "}\n",
    "\n",
    "cfg = CFG(epochs=35, batch_size=64, steps_per_epoch=len(dataloaders[\"train\"]))\n",
    "\n",
    "torch.manual_seed(cfg.seed)\n",
    "model = Model().to(cfg.device)\n",
    "\n",
    "optimizer = optim.AdamW([p for p in model.parameters() if p.requires_grad], lr=cfg.lr, weight_decay=cfg.wd)\n",
    "# optimizer = optim.AdamW([p for p in model.parameters() if p.requires_grad], lr=cfg.lr, weight_decay=cfg.wd)\n",
    "\n",
    "scheduler_oclr = optim.lr_scheduler.OneCycleLR(optimizer=optimizer, \n",
    "                                               max_lr=cfg.max_lr, \n",
    "                                               epochs=cfg.epochs, \n",
    "                                               steps_per_epoch=cfg.steps_per_epoch,\n",
    "                                               pct_start=cfg.pct_start, \n",
    "                                               div_factor=cfg.div_factor, \n",
    "                                               final_div_factor=cfg.final_div_factor)\n",
    "# scheduler_rlrop = optim.lr_scheduler.ReduceLROnPlateau(optimizer=optimizer,\n",
    "#                                                       patience=cfg.patience,\n",
    "#                                                       eps=cfg.eps,\n",
    "#                                                       verbose=True)\n",
    "\n",
    "# scheduler_oclr = None\n",
    "scheduler_rlrop = None\n",
    "\n",
    "L, A, LR, BLE, BAE, _, _ = fit(model=model, \n",
    "                               optimizer=optimizer, \n",
    "                               scheduler_oclr=scheduler_oclr,\n",
    "                               scheduler_rlrop=scheduler_rlrop,\n",
    "                               epochs=cfg.epochs, \n",
    "                               early_stopping_patience=None, \n",
    "                               dataloaders=dataloaders, \n",
    "                               device=cfg.device,\n",
    "                               save_path=cfg.save_path,\n",
    "                               fold=None,\n",
    "                               verbose=True)\n",
    "\n",
    "breaker()\n",
    "show_loss_graphs(L)\n",
    "breaker()\n",
    "show_accuracy_graphs(A)\n",
    "breaker()\n",
    "\n",
    "if scheduler_oclr:\n",
    "    show_lr_graph(LR)\n",
    "    breaker()"
   ]
  }
 ],
 "metadata": {
  "kernelspec": {
   "display_name": "Python 3",
   "language": "python",
   "name": "python3"
  },
  "language_info": {
   "codemirror_mode": {
    "name": "ipython",
    "version": 3
   },
   "file_extension": ".py",
   "mimetype": "text/x-python",
   "name": "python",
   "nbconvert_exporter": "python",
   "pygments_lexer": "ipython3",
   "version": "3.7.12"
  },
  "papermill": {
   "default_parameters": {},
   "duration": 9244.291709,
   "end_time": "2022-06-27T09:40:44.116307",
   "environment_variables": {},
   "exception": null,
   "input_path": "__notebook__.ipynb",
   "output_path": "__notebook__.ipynb",
   "parameters": {},
   "start_time": "2022-06-27T07:06:39.824598",
   "version": "2.3.4"
  }
 },
 "nbformat": 4,
 "nbformat_minor": 5
}
