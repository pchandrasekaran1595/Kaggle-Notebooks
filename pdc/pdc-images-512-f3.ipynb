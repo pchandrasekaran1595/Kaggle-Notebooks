{
 "cells": [
  {
   "cell_type": "markdown",
   "id": "f6b430f9",
   "metadata": {
    "_cell_guid": "b1076dfc-b9ad-4769-8c92-a6c4dae69d19",
    "_uuid": "8f2839f25d086af736a60e9eeb907d3b93b6e0e5",
    "execution": {
     "iopub.execute_input": "2022-06-13T20:48:07.937123Z",
     "iopub.status.busy": "2022-06-13T20:48:07.936137Z",
     "iopub.status.idle": "2022-06-13T20:48:07.944469Z",
     "shell.execute_reply": "2022-06-13T20:48:07.942957Z",
     "shell.execute_reply.started": "2022-06-13T20:48:07.937067Z"
    },
    "papermill": {
     "duration": 0.004588,
     "end_time": "2022-06-17T19:34:37.094793",
     "exception": false,
     "start_time": "2022-06-17T19:34:37.090205",
     "status": "completed"
    },
    "tags": []
   },
   "source": [
    "### **Library Imports**"
   ]
  },
  {
   "cell_type": "code",
   "execution_count": 1,
   "id": "3e9628bf",
   "metadata": {
    "execution": {
     "iopub.execute_input": "2022-06-17T19:34:37.106549Z",
     "iopub.status.busy": "2022-06-17T19:34:37.105799Z",
     "iopub.status.idle": "2022-06-17T19:34:38.399254Z",
     "shell.execute_reply": "2022-06-17T19:34:38.398106Z"
    },
    "papermill": {
     "duration": 1.301073,
     "end_time": "2022-06-17T19:34:38.401994",
     "exception": false,
     "start_time": "2022-06-17T19:34:37.100921",
     "status": "completed"
    },
    "tags": []
   },
   "outputs": [],
   "source": [
    "import os\n",
    "import cv2\n",
    "import random as r\n",
    "import numpy as np\n",
    "import pandas as pd\n",
    "import matplotlib.pyplot as plt\n",
    "\n",
    "from time import time\n",
    "from sklearn.preprocessing import LabelEncoder\n",
    "from sklearn.model_selection import StratifiedKFold"
   ]
  },
  {
   "cell_type": "markdown",
   "id": "c7d1c643",
   "metadata": {
    "papermill": {
     "duration": 0.003214,
     "end_time": "2022-06-17T19:34:38.408908",
     "exception": false,
     "start_time": "2022-06-17T19:34:38.405694",
     "status": "completed"
    },
    "tags": []
   },
   "source": [
    "### **Helpers**"
   ]
  },
  {
   "cell_type": "code",
   "execution_count": 2,
   "id": "12279e6d",
   "metadata": {
    "execution": {
     "iopub.execute_input": "2022-06-17T19:34:38.417629Z",
     "iopub.status.busy": "2022-06-17T19:34:38.417204Z",
     "iopub.status.idle": "2022-06-17T19:34:38.432881Z",
     "shell.execute_reply": "2022-06-17T19:34:38.431677Z"
    },
    "papermill": {
     "duration": 0.022659,
     "end_time": "2022-06-17T19:34:38.435071",
     "exception": false,
     "start_time": "2022-06-17T19:34:38.412412",
     "status": "completed"
    },
    "tags": []
   },
   "outputs": [],
   "source": [
    "def breaker(num: int = 50, char: str = \"*\") -> None:\n",
    "    print(\"\\n\" + num*char + \"\\n\")\n",
    "\n",
    "\n",
    "def get_image(path: str, size: int=224) -> np.ndarray:\n",
    "    return cv2.resize(src=cv2.cvtColor(src=cv2.imread(path, cv2.IMREAD_COLOR), code=cv2.COLOR_BGR2RGB), dsize=(size, size), interpolation=cv2.INTER_AREA)\n",
    "\n",
    "\n",
    "def get_images(path: str, label_names: np.ndarray, filenames: np.ndarray, size: int) -> np.ndarray:\n",
    "    images = np.zeros((len(filenames), size, size, 3), dtype=np.uint8)\n",
    "    \n",
    "    for i in range(len(filenames)):\n",
    "        images[i] = get_image(os.path.join(os.path.join(path, label_names[i]), filenames[i]), size)\n",
    "    return images\n",
    "\n",
    "\n",
    "def get_statistics(path: str, label_names: np.ndarray, filenames: np.ndarray, size: int=224) -> tuple:\n",
    "    r_mean, g_mean, b_mean, r_std, g_std, b_std = 0.0, 0.0, 0.0, 0.0, 0.0, 0.0\n",
    "    \n",
    "    for i in range(len(filenames)):\n",
    "        image = get_image(os.path.join(os.path.join(path, label_names[i]), filenames[i]), size)\n",
    "        \n",
    "        r_mean += image[:, :, 0].mean()\n",
    "        g_mean += image[:, :, 1].mean()\n",
    "        b_mean += image[:, :, 2].mean()\n",
    "        \n",
    "        r_std += image[:, :, 0].std()\n",
    "        g_std += image[:, :, 1].std()\n",
    "        b_std += image[:, :, 2].std()\n",
    "    \n",
    "    return (r_mean, g_mean, b_mean), (r_std, g_std, b_std)\n",
    "\n",
    "\n",
    "TRAIN_IMAGE_BASE_PATH = \"../input/paddy-disease-classification/train_images\"\n",
    "SIZE = 512\n",
    "le = LabelEncoder()"
   ]
  },
  {
   "cell_type": "code",
   "execution_count": 3,
   "id": "6244d7ce",
   "metadata": {
    "execution": {
     "iopub.execute_input": "2022-06-17T19:34:38.444513Z",
     "iopub.status.busy": "2022-06-17T19:34:38.443629Z",
     "iopub.status.idle": "2022-06-17T19:34:38.448966Z",
     "shell.execute_reply": "2022-06-17T19:34:38.448249Z"
    },
    "papermill": {
     "duration": 0.012101,
     "end_time": "2022-06-17T19:34:38.451008",
     "exception": false,
     "start_time": "2022-06-17T19:34:38.438907",
     "status": "completed"
    },
    "tags": []
   },
   "outputs": [],
   "source": [
    "class CFG(object):\n",
    "    def __init__(self, seed: int=42, n_splits: int=5):\n",
    "        self.seed = seed\n",
    "        self.n_splits = n_splits\n",
    "\n",
    "cfg = CFG()"
   ]
  },
  {
   "cell_type": "markdown",
   "id": "26590777",
   "metadata": {
    "papermill": {
     "duration": 0.003266,
     "end_time": "2022-06-17T19:34:38.457976",
     "exception": false,
     "start_time": "2022-06-17T19:34:38.454710",
     "status": "completed"
    },
    "tags": []
   },
   "source": [
    "### **Get Images (Fold 1)**"
   ]
  },
  {
   "cell_type": "code",
   "execution_count": 4,
   "id": "252f3f72",
   "metadata": {
    "execution": {
     "iopub.execute_input": "2022-06-17T19:34:38.467031Z",
     "iopub.status.busy": "2022-06-17T19:34:38.466364Z",
     "iopub.status.idle": "2022-06-17T19:34:38.506049Z",
     "shell.execute_reply": "2022-06-17T19:34:38.504888Z"
    },
    "papermill": {
     "duration": 0.0469,
     "end_time": "2022-06-17T19:34:38.508509",
     "exception": false,
     "start_time": "2022-06-17T19:34:38.461609",
     "status": "completed"
    },
    "tags": []
   },
   "outputs": [],
   "source": [
    "df = pd.read_csv(\"../input/paddy-disease-classification/train.csv\")\n",
    "\n",
    "filenames = df.image_id.copy().values\n",
    "label_names = df.label.copy().values\n",
    "labels = le.fit_transform(label_names)"
   ]
  },
  {
   "cell_type": "code",
   "execution_count": 5,
   "id": "979bf379",
   "metadata": {
    "execution": {
     "iopub.execute_input": "2022-06-17T19:34:38.517868Z",
     "iopub.status.busy": "2022-06-17T19:34:38.517334Z",
     "iopub.status.idle": "2022-06-17T19:37:29.622977Z",
     "shell.execute_reply": "2022-06-17T19:37:29.621843Z"
    },
    "papermill": {
     "duration": 171.181302,
     "end_time": "2022-06-17T19:37:29.693498",
     "exception": false,
     "start_time": "2022-06-17T19:34:38.512196",
     "status": "completed"
    },
    "tags": []
   },
   "outputs": [
    {
     "name": "stdout",
     "output_type": "stream",
     "text": [
      "\n",
      "**************************************************\n",
      "\n",
      "Time Taken : 171.09 seconds\n",
      "\n",
      "**************************************************\n",
      "\n"
     ]
    }
   ],
   "source": [
    "start_time = time()\n",
    "fold = 1\n",
    "\n",
    "for tr_idx, va_idx in StratifiedKFold(n_splits=cfg.n_splits, random_state=cfg.seed, shuffle=True).split(filenames, labels):\n",
    "    if fold == 3: break\n",
    "    fold += 1\n",
    "\n",
    "tr_filenames, va_filenames, tr_label_names, va_label_names, tr_labels, va_labels = filenames[tr_idx], filenames[va_idx], label_names[tr_idx], label_names[va_idx], labels[tr_idx], labels[va_idx]    \n",
    "\n",
    "tr_images = get_images(TRAIN_IMAGE_BASE_PATH, tr_label_names, tr_filenames, SIZE)\n",
    "va_images = get_images(TRAIN_IMAGE_BASE_PATH, va_label_names, va_filenames, SIZE)\n",
    "\n",
    "np.save(\"tr-images-512-f1.npy\", tr_images)\n",
    "np.save(\"va-images-512-f1.npy\", va_images)\n",
    "np.save(\"tr-labels-512-f1.npy\", tr_labels)\n",
    "np.save(\"va-labels-512-f1.npy\", va_labels)\n",
    "\n",
    "breaker()\n",
    "print(f\"Time Taken : {time()-start_time:.2f} seconds\")\n",
    "breaker()"
   ]
  },
  {
   "cell_type": "markdown",
   "id": "7797e1c7",
   "metadata": {
    "papermill": {
     "duration": 0.068981,
     "end_time": "2022-06-17T19:37:29.840013",
     "exception": false,
     "start_time": "2022-06-17T19:37:29.771032",
     "status": "completed"
    },
    "tags": []
   },
   "source": [
    "### **Statistics**"
   ]
  },
  {
   "cell_type": "code",
   "execution_count": 6,
   "id": "2bfb6e10",
   "metadata": {
    "execution": {
     "iopub.execute_input": "2022-06-17T19:37:29.928724Z",
     "iopub.status.busy": "2022-06-17T19:37:29.926442Z",
     "iopub.status.idle": "2022-06-17T19:40:35.793508Z",
     "shell.execute_reply": "2022-06-17T19:40:35.792358Z"
    },
    "papermill": {
     "duration": 185.956357,
     "end_time": "2022-06-17T19:40:35.800446",
     "exception": false,
     "start_time": "2022-06-17T19:37:29.844089",
     "status": "completed"
    },
    "tags": []
   },
   "outputs": [
    {
     "name": "stdout",
     "output_type": "stream",
     "text": [
      "\n",
      "**************************************************\n",
      "\n",
      "Red   Channel Mean : 0.49650\n",
      "Red   Channel Std  : 0.22750\n",
      "\n",
      "Green Channel Mean : 0.58774\n",
      "Green Channel Std  : 0.22771\n",
      "\n",
      "Blue  Channel Mean : 0.23004\n",
      "Blue  Channel Std  : 0.18430\n",
      "\n",
      "**************************************************\n",
      "\n",
      "Time Taken : 185.85 seconds\n",
      "\n",
      "**************************************************\n",
      "\n"
     ]
    }
   ],
   "source": [
    "breaker()\n",
    "\n",
    "start_time = time()\n",
    "\n",
    "means, stds = get_statistics(TRAIN_IMAGE_BASE_PATH, label_names, filenames, SIZE)\n",
    "channels = [\"Red  \", \"Green\", \"Blue \"]\n",
    "\n",
    "for i in range(len(means)):\n",
    "    print(f\"{channels[i]} Channel Mean : {means[i] / len(filenames) / 255:.5f}\")\n",
    "    print(f\"{channels[i]} Channel Std  : {stds[i] / len(filenames) / 255:.5f}\")\n",
    "    if i != 2: print(\"\")\n",
    "\n",
    "breaker()\n",
    "print(f\"Time Taken : {time()-start_time:.2f} seconds\")\n",
    "breaker()"
   ]
  }
 ],
 "metadata": {
  "kernelspec": {
   "display_name": "Python 3",
   "language": "python",
   "name": "python3"
  },
  "language_info": {
   "codemirror_mode": {
    "name": "ipython",
    "version": 3
   },
   "file_extension": ".py",
   "mimetype": "text/x-python",
   "name": "python",
   "nbconvert_exporter": "python",
   "pygments_lexer": "ipython3",
   "version": "3.7.12"
  },
  "papermill": {
   "default_parameters": {},
   "duration": 369.962215,
   "end_time": "2022-06-17T19:40:37.029613",
   "environment_variables": {},
   "exception": null,
   "input_path": "__notebook__.ipynb",
   "output_path": "__notebook__.ipynb",
   "parameters": {},
   "start_time": "2022-06-17T19:34:27.067398",
   "version": "2.3.4"
  }
 },
 "nbformat": 4,
 "nbformat_minor": 5
}
