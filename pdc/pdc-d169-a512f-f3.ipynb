{
 "cells": [
  {
   "cell_type": "markdown",
   "id": "107fad6b",
   "metadata": {
    "_cell_guid": "b1076dfc-b9ad-4769-8c92-a6c4dae69d19",
    "_uuid": "8f2839f25d086af736a60e9eeb907d3b93b6e0e5",
    "papermill": {
     "duration": 0.005398,
     "end_time": "2022-07-20T05:19:12.935318",
     "exception": false,
     "start_time": "2022-07-20T05:19:12.929920",
     "status": "completed"
    },
    "tags": []
   },
   "source": [
    "### **Library Imports**"
   ]
  },
  {
   "cell_type": "code",
   "execution_count": 1,
   "id": "dd3b1992",
   "metadata": {
    "execution": {
     "iopub.execute_input": "2022-07-20T05:19:12.945344Z",
     "iopub.status.busy": "2022-07-20T05:19:12.944793Z",
     "iopub.status.idle": "2022-07-20T05:19:16.162038Z",
     "shell.execute_reply": "2022-07-20T05:19:16.161201Z"
    },
    "papermill": {
     "duration": 3.224787,
     "end_time": "2022-07-20T05:19:16.164282",
     "exception": false,
     "start_time": "2022-07-20T05:19:12.939495",
     "status": "completed"
    },
    "tags": []
   },
   "outputs": [],
   "source": [
    "import os\n",
    "import re\n",
    "import cv2\n",
    "import torch\n",
    "import numpy as np\n",
    "import pandas as pd\n",
    "import matplotlib.pyplot as plt\n",
    "\n",
    "from time import time\n",
    "from torch import nn, optim\n",
    "from torch.utils.data import Dataset\n",
    "from torch.utils.data import DataLoader as DL\n",
    "from torchvision import models, transforms\n",
    "\n",
    "from sklearn.model_selection import StratifiedKFold\n",
    "from sklearn.preprocessing import LabelEncoder\n",
    "from sklearn.metrics import accuracy_score"
   ]
  },
  {
   "cell_type": "markdown",
   "id": "7eee36a5",
   "metadata": {
    "papermill": {
     "duration": 0.003734,
     "end_time": "2022-07-20T05:19:16.172029",
     "exception": false,
     "start_time": "2022-07-20T05:19:16.168295",
     "status": "completed"
    },
    "tags": []
   },
   "source": [
    "### **Utilities and Helpers**"
   ]
  },
  {
   "cell_type": "code",
   "execution_count": 2,
   "id": "ee991161",
   "metadata": {
    "execution": {
     "iopub.execute_input": "2022-07-20T05:19:16.181602Z",
     "iopub.status.busy": "2022-07-20T05:19:16.181122Z",
     "iopub.status.idle": "2022-07-20T05:19:16.195544Z",
     "shell.execute_reply": "2022-07-20T05:19:16.194765Z"
    },
    "papermill": {
     "duration": 0.021326,
     "end_time": "2022-07-20T05:19:16.197202",
     "exception": false,
     "start_time": "2022-07-20T05:19:16.175876",
     "status": "completed"
    },
    "tags": []
   },
   "outputs": [],
   "source": [
    "SEED = 42\n",
    "SIZE = 512\n",
    "le = LabelEncoder()\n",
    "\n",
    "\n",
    "def breaker(num: int=50, char: str=\"*\") -> None:\n",
    "    print(\"\\n\" + num*char + \"\\n\")\n",
    "\n",
    "    \n",
    "def get_image(path: str, size: int=224) -> np.ndarray:\n",
    "    return cv2.resize(\n",
    "        src=cv2.cvtColor(src=cv2.imread(path, cv2.IMREAD_COLOR), code=cv2.COLOR_BGR2RGB), \n",
    "        dsize=(size, size), \n",
    "        interpolation=cv2.INTER_AREA\n",
    "    )\n",
    "\n",
    "    \n",
    "def show_loss_graphs(A: list) -> None:\n",
    "    TL, VL = [], []\n",
    "    for i in range(len(L)):\n",
    "        TL.append(L[i][\"train\"])\n",
    "        VL.append(L[i][\"valid\"])\n",
    "    x_Axis = np.arange(1, len(TL) + 1)\n",
    "    plt.figure()\n",
    "    plt.plot(x_Axis, TL, \"r\", label=\"Train\")\n",
    "    plt.plot(x_Axis, VL, \"b\", label=\"Valid\")\n",
    "    plt.legend()\n",
    "    plt.grid()\n",
    "    plt.title(\"Loss Graph\")\n",
    "    plt.show()\n",
    "\n",
    "    \n",
    "def show_accuracy_graphs(A: list) -> None:\n",
    "    TA, VA = [], []\n",
    "    for i in range(len(L)):\n",
    "        TA.append(A[i][\"train\"])\n",
    "        VA.append(A[i][\"valid\"])\n",
    "    x_Axis = np.arange(1, len(TA) + 1)\n",
    "    plt.figure()\n",
    "    plt.plot(x_Axis, TA, \"r\", label=\"Train\")\n",
    "    plt.plot(x_Axis, VA, \"b\", label=\"Valid\")\n",
    "    plt.legend()\n",
    "    plt.grid()\n",
    "    plt.title(\"Accuracy Graph\")\n",
    "    plt.show()\n",
    "\n",
    "\n",
    "def show_lr_graph(LR: list) -> None:\n",
    "    x_Axis = [i+1 for i in range(len(LR))]\n",
    "    plt.figure(figsize=(8, 6))\n",
    "    plt.plot(x_Axis, LR, \"rx\")\n",
    "    plt.grid()\n",
    "    plt.show()"
   ]
  },
  {
   "cell_type": "markdown",
   "id": "fc83c036",
   "metadata": {
    "papermill": {
     "duration": 0.003526,
     "end_time": "2022-07-20T05:19:16.204875",
     "exception": false,
     "start_time": "2022-07-20T05:19:16.201349",
     "status": "completed"
    },
    "tags": []
   },
   "source": [
    "### **Configuration**"
   ]
  },
  {
   "cell_type": "code",
   "execution_count": 3,
   "id": "2d9e8c5c",
   "metadata": {
    "execution": {
     "iopub.execute_input": "2022-07-20T05:19:16.213929Z",
     "iopub.status.busy": "2022-07-20T05:19:16.213590Z",
     "iopub.status.idle": "2022-07-20T05:19:16.284801Z",
     "shell.execute_reply": "2022-07-20T05:19:16.283863Z"
    },
    "papermill": {
     "duration": 0.078001,
     "end_time": "2022-07-20T05:19:16.286569",
     "exception": false,
     "start_time": "2022-07-20T05:19:16.208568",
     "status": "completed"
    },
    "tags": []
   },
   "outputs": [],
   "source": [
    "class CFG(object):\n",
    "    def __init__(self, \n",
    "                 seed: int = 42,\n",
    "                 n_splits: int = 5,\n",
    "                 batch_size: int = 16,\n",
    "                 epochs: int = 25,\n",
    "                 early_stopping: int = 5,\n",
    "                 lr: float = 1e-4,\n",
    "                 wd: float = 0.0,\n",
    "                 max_lr: float = 1e-3,\n",
    "                 pct_start: float = 0.2,\n",
    "                 steps_per_epoch: int = 100,\n",
    "                 div_factor: int = 1e3, \n",
    "                 final_div_factor: float = 1e3,\n",
    "                 ):\n",
    "        \n",
    "        self.seed = seed\n",
    "        self.n_splits = n_splits\n",
    "        self.batch_size = batch_size\n",
    "        self.epochs = epochs\n",
    "        self.early_stopping = early_stopping\n",
    "        self.lr = lr\n",
    "        self.wd = wd\n",
    "        self.max_lr = max_lr\n",
    "        self.pct_start = pct_start\n",
    "        self.steps_per_epoch = steps_per_epoch\n",
    "        self.div_factor = div_factor\n",
    "        self.final_div_factor = final_div_factor\n",
    "        self.device = torch.device(\"cuda\" if torch.cuda.is_available() else \"cpu\")\n",
    "        self.train_transform = transforms.Compose([transforms.ToTensor(),\n",
    "                                                   transforms.Normalize([0.49650, 0.58774, 0.23004],\n",
    "                                                                        [0.22750, 0.22771, 0.18430]),\n",
    "                                                   transforms.RandomAffine(degrees=(-45, 45), translate=(0.15, 0.15), scale=(0.5, 1.5)),\n",
    "                                                   transforms.RandomHorizontalFlip(p=0.25),\n",
    "                                                   transforms.RandomVerticalFlip(p=0.25),\n",
    "                                                  ])\n",
    "        self.valid_transform = transforms.Compose([transforms.ToTensor(),\n",
    "                                                   transforms.Normalize([0.49650, 0.58774, 0.23004],\n",
    "                                                                        [0.22750, 0.22771, 0.18430]),\n",
    "                                                  ])\n",
    "        self.save_path = \"saves\"\n",
    "        if not os.path.exists(self.save_path): os.makedirs(self.save_path)\n",
    "    \n",
    "cfg = CFG(seed=SEED)"
   ]
  },
  {
   "cell_type": "markdown",
   "id": "b0d147ba",
   "metadata": {
    "papermill": {
     "duration": 0.003896,
     "end_time": "2022-07-20T05:19:16.294688",
     "exception": false,
     "start_time": "2022-07-20T05:19:16.290792",
     "status": "completed"
    },
    "tags": []
   },
   "source": [
    "### **Dataset Template**"
   ]
  },
  {
   "cell_type": "code",
   "execution_count": 4,
   "id": "fbfec8e2",
   "metadata": {
    "execution": {
     "iopub.execute_input": "2022-07-20T05:19:16.304284Z",
     "iopub.status.busy": "2022-07-20T05:19:16.303556Z",
     "iopub.status.idle": "2022-07-20T05:19:16.311063Z",
     "shell.execute_reply": "2022-07-20T05:19:16.310270Z"
    },
    "papermill": {
     "duration": 0.01375,
     "end_time": "2022-07-20T05:19:16.312668",
     "exception": false,
     "start_time": "2022-07-20T05:19:16.298918",
     "status": "completed"
    },
    "tags": []
   },
   "outputs": [],
   "source": [
    "class DS(Dataset):\n",
    "    def __init__(self, \n",
    "                 base_path: str,\n",
    "                 size: int,\n",
    "                 filenames: np.ndarray, \n",
    "                 labelnames: np.ndarray, \n",
    "                 labels: np.ndarray, \n",
    "                 transform):\n",
    "        \n",
    "        self.base_path = base_path\n",
    "        self.size = size\n",
    "        self.filenames = filenames\n",
    "        self.labelnames = labelnames\n",
    "        self.labels = labels\n",
    "        self.transform = transform\n",
    "        \n",
    "    def __len__(self):\n",
    "        return self.filenames.shape[0]\n",
    "    \n",
    "    def __getitem__(self, idx):\n",
    "        image_path = os.path.join(os.path.join(self.base_path, self.labelnames[idx]), self.filenames[idx])\n",
    "        image = get_image(image_path, self.size)\n",
    "        return self.transform(image), torch.LongTensor(self.labels[idx])"
   ]
  },
  {
   "cell_type": "markdown",
   "id": "35aeb55b",
   "metadata": {
    "papermill": {
     "duration": 0.003502,
     "end_time": "2022-07-20T05:19:16.320078",
     "exception": false,
     "start_time": "2022-07-20T05:19:16.316576",
     "status": "completed"
    },
    "tags": []
   },
   "source": [
    "### **Model**"
   ]
  },
  {
   "cell_type": "code",
   "execution_count": 5,
   "id": "db6910a7",
   "metadata": {
    "execution": {
     "iopub.execute_input": "2022-07-20T05:19:16.329038Z",
     "iopub.status.busy": "2022-07-20T05:19:16.328312Z",
     "iopub.status.idle": "2022-07-20T05:19:16.334682Z",
     "shell.execute_reply": "2022-07-20T05:19:16.333879Z"
    },
    "papermill": {
     "duration": 0.01268,
     "end_time": "2022-07-20T05:19:16.336366",
     "exception": false,
     "start_time": "2022-07-20T05:19:16.323686",
     "status": "completed"
    },
    "tags": []
   },
   "outputs": [],
   "source": [
    "class Model(nn.Module):\n",
    "    def __init__(self):\n",
    "        super(Model, self).__init__()\n",
    "\n",
    "        self.model = models.densenet169(pretrained=True, progress=True)\n",
    "        # self.freeze()\n",
    "        self.model.classifier = nn.Linear(in_features=self.model.classifier.in_features, out_features=10)\n",
    "    \n",
    "    def freeze(self):\n",
    "        for params in self.parameters(): params.requires_grad = False\n",
    "\n",
    "    def forward(self, x):\n",
    "        return nn.LogSoftmax(dim=1)(self.model(x))"
   ]
  },
  {
   "cell_type": "markdown",
   "id": "d49b4402",
   "metadata": {
    "papermill": {
     "duration": 0.003555,
     "end_time": "2022-07-20T05:19:16.343833",
     "exception": false,
     "start_time": "2022-07-20T05:19:16.340278",
     "status": "completed"
    },
    "tags": []
   },
   "source": [
    "### **Fit and Predict Helpers**"
   ]
  },
  {
   "cell_type": "code",
   "execution_count": 6,
   "id": "8874d6d7",
   "metadata": {
    "execution": {
     "iopub.execute_input": "2022-07-20T05:19:16.352942Z",
     "iopub.status.busy": "2022-07-20T05:19:16.352235Z",
     "iopub.status.idle": "2022-07-20T05:19:16.378330Z",
     "shell.execute_reply": "2022-07-20T05:19:16.377576Z"
    },
    "papermill": {
     "duration": 0.032842,
     "end_time": "2022-07-20T05:19:16.380250",
     "exception": false,
     "start_time": "2022-07-20T05:19:16.347408",
     "status": "completed"
    },
    "tags": []
   },
   "outputs": [],
   "source": [
    "def fit(model=None, \n",
    "        optimizer=None, \n",
    "        scheduler_rlrop=None,\n",
    "        scheduler_oclr=None,\n",
    "        epochs=None, \n",
    "        early_stopping_patience=None, \n",
    "        dataloaders=None, \n",
    "        fold=None, \n",
    "        save_path=None,\n",
    "        device=None,\n",
    "        verbose=False) -> tuple:\n",
    "    \n",
    "    def get_accuracy(y_pred, y_true):\n",
    "        y_pred = torch.argmax(y_pred, dim=1)\n",
    "        return torch.count_nonzero(y_pred == y_true).item() / len(y_pred)\n",
    "    \n",
    "    if verbose:\n",
    "        breaker()\n",
    "        if fold: print(f\"Training Fold {fold}...\")\n",
    "        else: print(\"Training ...\")\n",
    "        breaker()\n",
    "        \n",
    "    bestLoss, bestAccs = {\"train\" : np.inf, \"valid\" : np.inf}, {\"train\" : 0.0, \"valid\" : 0.0}\n",
    "    Losses, Accuracies, LRs = [], [], []\n",
    "    if fold: \n",
    "        ble_name = f\"ble_state_fold_{fold}.pt\"\n",
    "        bae_name = f\"bae_state_fold_{fold}.pt\"\n",
    "    else: \n",
    "        ble_name = \"ble_state.pt\"\n",
    "        bae_name = \"bae_state.pt\"\n",
    "\n",
    "    start_time = time()\n",
    "    for e in range(epochs):\n",
    "        e_st = time()\n",
    "        epochLoss, epochAccs = {\"train\" : 0.0, \"valid\" : 0.0}, {\"train\" : 0.0, \"valid\" : 0.0}\n",
    "\n",
    "        for phase in [\"train\", \"valid\"]:\n",
    "            if phase == \"train\":\n",
    "                model.train()\n",
    "            else:\n",
    "                model.eval()\n",
    "            \n",
    "            lossPerPass, accsPerPass = [], []\n",
    "\n",
    "            for X, y in dataloaders[phase]:\n",
    "                X, y = X.to(device), y.to(device).view(-1)\n",
    "\n",
    "                optimizer.zero_grad()\n",
    "                with torch.set_grad_enabled(phase == \"train\"):\n",
    "                    output = model(X)\n",
    "                    loss = torch.nn.NLLLoss()(output, y)\n",
    "                    if phase == \"train\":\n",
    "                        loss.backward()\n",
    "                        optimizer.step()\n",
    "                        if scheduler_oclr: scheduler_oclr.step()\n",
    "                lossPerPass.append(loss.item())\n",
    "                accsPerPass.append(get_accuracy(output, y))\n",
    "            epochLoss[phase] = np.mean(np.array(lossPerPass))\n",
    "            epochAccs[phase] = np.mean(np.array(accsPerPass))\n",
    "        if scheduler_oclr: LRs.append(scheduler_oclr.get_last_lr())\n",
    "        Losses.append(epochLoss)\n",
    "        Accuracies.append(epochAccs)\n",
    "        \n",
    "        if scheduler_oclr:\n",
    "            save_dict = {\"model_state_dict\"     : model.state_dict(),\n",
    "                         \"optim_state_dict\"     : optimizer.state_dict(),\n",
    "                         \"scheduler_state_dict\" : scheduler_oclr.state_dict()}\n",
    "        \n",
    "        elif scheduler_rlrop:\n",
    "            save_dict = {\"model_state_dict\"     : model.state_dict(),\n",
    "                         \"optim_state_dict\"     : optimizer.state_dict(),\n",
    "                         \"scheduler_state_dict\" : scheduler_rlrop.state_dict()}\n",
    "        \n",
    "        else:\n",
    "            save_dict = {\"model_state_dict\"     : model.state_dict(),\n",
    "                         \"optim_state_dict\"     : optimizer.state_dict()}\n",
    "        \n",
    "        if early_stopping_patience:\n",
    "            if epochLoss[\"valid\"] < bestLoss[\"valid\"]:\n",
    "                bestLoss = epochLoss\n",
    "                BLE = e + 1\n",
    "                torch.save(save_dict, os.path.join(save_path, name))\n",
    "                early_stopping_step = 0\n",
    "            else:\n",
    "                early_stopping_step += 1\n",
    "                if early_stopping_step > early_stopping_patience:\n",
    "                    print(\"\\nEarly Stopping at Epoch {}\".format(e + 1))\n",
    "                    break\n",
    "        \n",
    "        if epochLoss[\"valid\"] < bestLoss[\"valid\"]:\n",
    "            bestLoss = epochLoss\n",
    "            BLE = e + 1\n",
    "            torch.save(save_dict,os.path.join(save_path, ble_name))\n",
    "        \n",
    "        if epochAccs[\"valid\"] > bestAccs[\"valid\"]:\n",
    "            bestAccs = epochAccs\n",
    "            BAE = e + 1\n",
    "            torch.save(save_dict,os.path.join(save_path, bae_name))\n",
    "\n",
    "        \n",
    "        if scheduler_rlrop: scheduler_rlrop.step(epochLoss[\"valid\"])\n",
    "        \n",
    "        if verbose:\n",
    "            print(\"Epoch: {} | Train Loss: {:.5f} | Valid Loss: {:.5f} |\\\n",
    " Train Accs: {:.5f} | Valid Accs: {:.5f} | Time: {:.2f} seconds\".format(e+1, \n",
    "                                                                        epochLoss[\"train\"], epochLoss[\"valid\"], \n",
    "                                                                        epochAccs[\"train\"], epochAccs[\"valid\"], \n",
    "                                                                        time()-e_st))\n",
    "\n",
    "    if verbose:                                           \n",
    "        breaker()\n",
    "        print(f\"Best Validation Loss at Epoch {BLE}\")\n",
    "        breaker()\n",
    "        print(f\"Best Validation Accs at Epoch {BAE}\")\n",
    "        breaker()\n",
    "        print(\"Time Taken [{} Epochs] : {:.2f} minutes\".format(len(Losses), (time()-start_time)/60))\n",
    "    \n",
    "    return Losses, Accuracies, LRs, BLE, BAE, ble_name, bae_name\n",
    "\n",
    "\n",
    "def predict_batch(model=None, dataloader=None, path=None, device=None) -> np.ndarray:\n",
    "    model.load_state_dict(torch.load(path, map_location=device)[\"model_state_dict\"])\n",
    "    model.to(device)    \n",
    "    model.eval()\n",
    "    \n",
    "    y_pred = torch.zeros(1, 1).to(device)\n",
    "    \n",
    "    for X in dataloader:\n",
    "        X = X.to(device)\n",
    "        with torch.no_grad():\n",
    "            output = torch.argmax(torch.exp(model(X)), dim=1)\n",
    "        y_pred = torch.cat((y_pred, output.view(-1, 1)), dim=0)\n",
    "    \n",
    "    return y_pred[1:].detach().cpu().numpy()"
   ]
  },
  {
   "cell_type": "markdown",
   "id": "4d3379c5",
   "metadata": {
    "papermill": {
     "duration": 0.003733,
     "end_time": "2022-07-20T05:19:16.388297",
     "exception": false,
     "start_time": "2022-07-20T05:19:16.384564",
     "status": "completed"
    },
    "tags": []
   },
   "source": [
    "### **Train**"
   ]
  },
  {
   "cell_type": "code",
   "execution_count": 7,
   "id": "5150e326",
   "metadata": {
    "execution": {
     "iopub.execute_input": "2022-07-20T05:19:16.396865Z",
     "iopub.status.busy": "2022-07-20T05:19:16.396541Z",
     "iopub.status.idle": "2022-07-20T05:19:16.429179Z",
     "shell.execute_reply": "2022-07-20T05:19:16.428415Z"
    },
    "papermill": {
     "duration": 0.039216,
     "end_time": "2022-07-20T05:19:16.431235",
     "exception": false,
     "start_time": "2022-07-20T05:19:16.392019",
     "status": "completed"
    },
    "tags": []
   },
   "outputs": [],
   "source": [
    "df = pd.read_csv(\"../input/paddy-disease-classification/train.csv\")\n",
    "\n",
    "filenames = df.image_id.copy().values\n",
    "labelnames = df.label.copy().values\n",
    "labels = le.fit_transform(labelnames)"
   ]
  },
  {
   "cell_type": "code",
   "execution_count": 8,
   "id": "245fb4e1",
   "metadata": {
    "execution": {
     "iopub.execute_input": "2022-07-20T05:19:16.441244Z",
     "iopub.status.busy": "2022-07-20T05:19:16.440548Z",
     "iopub.status.idle": "2022-07-20T13:27:57.481875Z",
     "shell.execute_reply": "2022-07-20T13:27:57.480767Z"
    },
    "papermill": {
     "duration": 29321.048127,
     "end_time": "2022-07-20T13:27:57.483659",
     "exception": false,
     "start_time": "2022-07-20T05:19:16.435532",
     "status": "completed"
    },
    "tags": []
   },
   "outputs": [
    {
     "name": "stderr",
     "output_type": "stream",
     "text": [
      "Downloading: \"https://download.pytorch.org/models/densenet169-b2777c0a.pth\" to /root/.cache/torch/hub/checkpoints/densenet169-b2777c0a.pth\n"
     ]
    },
    {
     "data": {
      "application/vnd.jupyter.widget-view+json": {
       "model_id": "d3127f53efa14dd48df69307532d5c98",
       "version_major": 2,
       "version_minor": 0
      },
      "text/plain": [
       "  0%|          | 0.00/54.7M [00:00<?, ?B/s]"
      ]
     },
     "metadata": {},
     "output_type": "display_data"
    },
    {
     "name": "stdout",
     "output_type": "stream",
     "text": [
      "\n",
      "**************************************************\n",
      "\n",
      "Training ...\n",
      "\n",
      "**************************************************\n",
      "\n",
      "Epoch: 1 | Train Loss: 2.05414 | Valid Loss: 1.25432 | Train Accs: 0.27843 | Valid Accs: 0.56155 | Time: 671.19 seconds\n",
      "Epoch: 2 | Train Loss: 0.98025 | Valid Loss: 0.56503 | Train Accs: 0.68206 | Valid Accs: 0.82395 | Time: 601.77 seconds\n",
      "Epoch: 3 | Train Loss: 0.67957 | Valid Loss: 0.46165 | Train Accs: 0.78395 | Valid Accs: 0.84160 | Time: 597.48 seconds\n",
      "Epoch: 4 | Train Loss: 0.64319 | Valid Loss: 0.48366 | Train Accs: 0.78587 | Valid Accs: 0.84399 | Time: 597.27 seconds\n",
      "Epoch: 5 | Train Loss: 0.62707 | Valid Loss: 0.55742 | Train Accs: 0.79714 | Valid Accs: 0.83158 | Time: 596.32 seconds\n",
      "Epoch: 6 | Train Loss: 0.63698 | Valid Loss: 1.13451 | Train Accs: 0.79243 | Valid Accs: 0.67032 | Time: 596.18 seconds\n",
      "Epoch: 7 | Train Loss: 0.62676 | Valid Loss: 0.59221 | Train Accs: 0.79734 | Valid Accs: 0.83588 | Time: 595.79 seconds\n",
      "Epoch: 8 | Train Loss: 0.61379 | Valid Loss: 1.01568 | Train Accs: 0.80054 | Valid Accs: 0.76956 | Time: 593.38 seconds\n",
      "Epoch: 9 | Train Loss: 0.57948 | Valid Loss: 0.54387 | Train Accs: 0.80954 | Valid Accs: 0.82729 | Time: 596.07 seconds\n",
      "Epoch: 10 | Train Loss: 0.53582 | Valid Loss: 0.53602 | Train Accs: 0.82514 | Valid Accs: 0.83540 | Time: 596.95 seconds\n",
      "Epoch: 11 | Train Loss: 0.50151 | Valid Loss: 0.32663 | Train Accs: 0.83329 | Valid Accs: 0.89885 | Time: 598.91 seconds\n",
      "Epoch: 12 | Train Loss: 0.45827 | Valid Loss: 0.43214 | Train Accs: 0.84973 | Valid Accs: 0.86594 | Time: 596.65 seconds\n",
      "Epoch: 13 | Train Loss: 0.41554 | Valid Loss: 0.34500 | Train Accs: 0.86636 | Valid Accs: 0.90506 | Time: 591.55 seconds\n",
      "Epoch: 14 | Train Loss: 0.38180 | Valid Loss: 0.40390 | Train Accs: 0.87824 | Valid Accs: 0.87882 | Time: 593.01 seconds\n",
      "Epoch: 15 | Train Loss: 0.36615 | Valid Loss: 0.27073 | Train Accs: 0.88224 | Valid Accs: 0.92748 | Time: 587.21 seconds\n",
      "Epoch: 16 | Train Loss: 0.34208 | Valid Loss: 0.40196 | Train Accs: 0.88812 | Valid Accs: 0.88120 | Time: 590.32 seconds\n",
      "Epoch: 17 | Train Loss: 0.31334 | Valid Loss: 0.44699 | Train Accs: 0.89903 | Valid Accs: 0.87882 | Time: 586.62 seconds\n",
      "Epoch: 18 | Train Loss: 0.29970 | Valid Loss: 0.31684 | Train Accs: 0.90311 | Valid Accs: 0.90744 | Time: 589.50 seconds\n",
      "Epoch: 19 | Train Loss: 0.27583 | Valid Loss: 0.20420 | Train Accs: 0.91139 | Valid Accs: 0.93798 | Time: 592.46 seconds\n",
      "Epoch: 20 | Train Loss: 0.27056 | Valid Loss: 0.23127 | Train Accs: 0.91159 | Valid Accs: 0.93511 | Time: 587.56 seconds\n",
      "Epoch: 21 | Train Loss: 0.21728 | Valid Loss: 0.16779 | Train Accs: 0.92946 | Valid Accs: 0.95086 | Time: 577.44 seconds\n",
      "Epoch: 22 | Train Loss: 0.21773 | Valid Loss: 0.14743 | Train Accs: 0.93222 | Valid Accs: 0.95420 | Time: 578.75 seconds\n",
      "Epoch: 23 | Train Loss: 0.20504 | Valid Loss: 0.20530 | Train Accs: 0.93354 | Valid Accs: 0.94752 | Time: 578.44 seconds\n",
      "Epoch: 24 | Train Loss: 0.18875 | Valid Loss: 0.19822 | Train Accs: 0.93742 | Valid Accs: 0.93989 | Time: 592.29 seconds\n",
      "Epoch: 25 | Train Loss: 0.16348 | Valid Loss: 0.14979 | Train Accs: 0.94638 | Valid Accs: 0.95849 | Time: 584.88 seconds\n",
      "Epoch: 26 | Train Loss: 0.14613 | Valid Loss: 0.17690 | Train Accs: 0.94962 | Valid Accs: 0.94895 | Time: 578.74 seconds\n",
      "Epoch: 27 | Train Loss: 0.15402 | Valid Loss: 0.21049 | Train Accs: 0.94946 | Valid Accs: 0.94370 | Time: 582.60 seconds\n",
      "Epoch: 28 | Train Loss: 0.13473 | Valid Loss: 0.13289 | Train Accs: 0.95397 | Valid Accs: 0.96469 | Time: 587.73 seconds\n",
      "Epoch: 29 | Train Loss: 0.12610 | Valid Loss: 0.11336 | Train Accs: 0.95961 | Valid Accs: 0.96851 | Time: 586.94 seconds\n",
      "Epoch: 30 | Train Loss: 0.10675 | Valid Loss: 0.09949 | Train Accs: 0.96261 | Valid Accs: 0.97137 | Time: 578.13 seconds\n",
      "Epoch: 31 | Train Loss: 0.09876 | Valid Loss: 0.13745 | Train Accs: 0.96837 | Valid Accs: 0.96469 | Time: 576.56 seconds\n",
      "Epoch: 32 | Train Loss: 0.09480 | Valid Loss: 0.14251 | Train Accs: 0.97049 | Valid Accs: 0.96469 | Time: 577.17 seconds\n",
      "Epoch: 33 | Train Loss: 0.09261 | Valid Loss: 0.09716 | Train Accs: 0.97037 | Valid Accs: 0.97281 | Time: 573.89 seconds\n",
      "Epoch: 34 | Train Loss: 0.07207 | Valid Loss: 0.10703 | Train Accs: 0.97529 | Valid Accs: 0.97424 | Time: 572.44 seconds\n",
      "Epoch: 35 | Train Loss: 0.07378 | Valid Loss: 0.09019 | Train Accs: 0.97485 | Valid Accs: 0.97567 | Time: 579.47 seconds\n",
      "Epoch: 36 | Train Loss: 0.05888 | Valid Loss: 0.09901 | Train Accs: 0.97949 | Valid Accs: 0.97662 | Time: 579.86 seconds\n",
      "Epoch: 37 | Train Loss: 0.05003 | Valid Loss: 0.09741 | Train Accs: 0.98405 | Valid Accs: 0.98044 | Time: 569.61 seconds\n",
      "Epoch: 38 | Train Loss: 0.04849 | Valid Loss: 0.09174 | Train Accs: 0.98369 | Valid Accs: 0.97567 | Time: 575.98 seconds\n",
      "Epoch: 39 | Train Loss: 0.04119 | Valid Loss: 0.08886 | Train Accs: 0.98716 | Valid Accs: 0.97805 | Time: 577.53 seconds\n",
      "Epoch: 40 | Train Loss: 0.04099 | Valid Loss: 0.09112 | Train Accs: 0.98648 | Valid Accs: 0.97805 | Time: 567.44 seconds\n",
      "Epoch: 41 | Train Loss: 0.03076 | Valid Loss: 0.09109 | Train Accs: 0.98968 | Valid Accs: 0.97710 | Time: 573.09 seconds\n",
      "Epoch: 42 | Train Loss: 0.03145 | Valid Loss: 0.09687 | Train Accs: 0.98968 | Valid Accs: 0.97662 | Time: 579.75 seconds\n",
      "Epoch: 43 | Train Loss: 0.02433 | Valid Loss: 0.08571 | Train Accs: 0.99148 | Valid Accs: 0.97996 | Time: 574.65 seconds\n",
      "Epoch: 44 | Train Loss: 0.02506 | Valid Loss: 0.09631 | Train Accs: 0.99172 | Valid Accs: 0.97471 | Time: 575.23 seconds\n",
      "Epoch: 45 | Train Loss: 0.02052 | Valid Loss: 0.08817 | Train Accs: 0.99364 | Valid Accs: 0.97710 | Time: 583.74 seconds\n",
      "Epoch: 46 | Train Loss: 0.02127 | Valid Loss: 0.08313 | Train Accs: 0.99340 | Valid Accs: 0.97948 | Time: 582.96 seconds\n",
      "Epoch: 47 | Train Loss: 0.02171 | Valid Loss: 0.08196 | Train Accs: 0.99244 | Valid Accs: 0.97996 | Time: 579.82 seconds\n",
      "Epoch: 48 | Train Loss: 0.02301 | Valid Loss: 0.08466 | Train Accs: 0.99200 | Valid Accs: 0.97853 | Time: 577.46 seconds\n",
      "Epoch: 49 | Train Loss: 0.01915 | Valid Loss: 0.08693 | Train Accs: 0.99292 | Valid Accs: 0.97853 | Time: 576.19 seconds\n",
      "Epoch: 50 | Train Loss: 0.01919 | Valid Loss: 0.07981 | Train Accs: 0.99352 | Valid Accs: 0.97948 | Time: 578.59 seconds\n",
      "\n",
      "**************************************************\n",
      "\n",
      "Best Validation Loss at Epoch 50\n",
      "\n",
      "**************************************************\n",
      "\n",
      "Best Validation Accs at Epoch 37\n",
      "\n",
      "**************************************************\n",
      "\n",
      "Time Taken [50 Epochs] : 488.56 minutes\n",
      "\n",
      "**************************************************\n",
      "\n"
     ]
    },
    {
     "data": {
      "image/png": "[encoded data removed]",
      "text/plain": [
       "<Figure size 432x288 with 1 Axes>"
      ]
     },
     "metadata": {
      "needs_background": "light"
     },
     "output_type": "display_data"
    },
    {
     "name": "stdout",
     "output_type": "stream",
     "text": [
      "\n",
      "**************************************************\n",
      "\n"
     ]
    },
    {
     "data": {
      "image/png": "[encoded data removed]",
      "text/plain": [
       "<Figure size 432x288 with 1 Axes>"
      ]
     },
     "metadata": {
      "needs_background": "light"
     },
     "output_type": "display_data"
    },
    {
     "name": "stdout",
     "output_type": "stream",
     "text": [
      "\n",
      "**************************************************\n",
      "\n"
     ]
    },
    {
     "data": {
      "image/png": "[encoded data removed]",
      "text/plain": [
       "<Figure size 576x432 with 1 Axes>"
      ]
     },
     "metadata": {
      "needs_background": "light"
     },
     "output_type": "display_data"
    },
    {
     "name": "stdout",
     "output_type": "stream",
     "text": [
      "\n",
      "**************************************************\n",
      "\n"
     ]
    }
   ],
   "source": [
    "fold = 1\n",
    "for tr_idx, va_idx in StratifiedKFold(n_splits=cfg.n_splits, random_state=cfg.seed, shuffle=True).split(filenames, labels):\n",
    "    if fold == 3: break\n",
    "    fold += 1\n",
    "\n",
    "tr_filenames, va_filenames   = filenames[tr_idx], filenames[va_idx], \n",
    "tr_labelnames, va_labelnames = labelnames[tr_idx], labelnames[va_idx]\n",
    "tr_labels, va_labels         = labels[tr_idx], labels[va_idx]\n",
    "\n",
    "tr_data_setup = DS(\n",
    "    \"../input/paddy-disease-classification/train_images\",\n",
    "    SIZE,\n",
    "    tr_filenames, \n",
    "    tr_labelnames, \n",
    "    tr_labels.reshape(-1, 1), \n",
    "    cfg.train_transform,\n",
    ")\n",
    "\n",
    "va_data_setup = DS(\n",
    "    \"../input/paddy-disease-classification/train_images\",\n",
    "    SIZE,\n",
    "    va_filenames, \n",
    "    va_labelnames, \n",
    "    va_labels.reshape(-1, 1), \n",
    "    cfg.valid_transform,\n",
    ")\n",
    "\n",
    "dataloaders = {\n",
    "    \"train\" : DL(tr_data_setup, batch_size=cfg.batch_size, shuffle=True, generator=torch.manual_seed(cfg.seed)),\n",
    "    \"valid\" : DL(va_data_setup, batch_size=cfg.batch_size, shuffle=False),\n",
    "}\n",
    "\n",
    "cfg = CFG(epochs=50, batch_size=64, steps_per_epoch=len(dataloaders[\"train\"]))\n",
    "\n",
    "torch.manual_seed(cfg.seed)\n",
    "model = Model().to(cfg.device)\n",
    "\n",
    "optimizer = optim.Adam([p for p in model.parameters() if p.requires_grad], lr=cfg.lr, weight_decay=cfg.wd)\n",
    "# optimizer = optim.AdamW([p for p in model.parameters() if p.requires_grad], lr=cfg.lr, weight_decay=cfg.wd)\n",
    "# optimizer = optim.SGD([p for p in model.parameters() if p.requires_grad], momentum=0.9, lr=cfg.lr, weight_decay=cfg.wd)\n",
    "\n",
    "scheduler_oclr = optim.lr_scheduler.OneCycleLR(optimizer=optimizer, \n",
    "                                               max_lr=cfg.max_lr, \n",
    "                                               epochs=cfg.epochs, \n",
    "                                               steps_per_epoch=cfg.steps_per_epoch,\n",
    "                                               pct_start=cfg.pct_start, \n",
    "                                               div_factor=cfg.div_factor, \n",
    "                                               final_div_factor=cfg.final_div_factor)\n",
    "# scheduler_rlrop = optim.lr_scheduler.ReduceLROnPlateau(optimizer=optimizer,\n",
    "#                                                       patience=cfg.patience,\n",
    "#                                                       eps=cfg.eps,\n",
    "#                                                       verbose=True)\n",
    "\n",
    "# scheduler_oclr = None\n",
    "scheduler_rlrop = None\n",
    "\n",
    "L, A, LR, BLE, BAE, _, _ = fit(model=model, \n",
    "                               optimizer=optimizer, \n",
    "                               scheduler_oclr=scheduler_oclr,\n",
    "                               scheduler_rlrop=scheduler_rlrop,\n",
    "                               epochs=cfg.epochs, \n",
    "                               early_stopping_patience=None, \n",
    "                               dataloaders=dataloaders, \n",
    "                               device=cfg.device,\n",
    "                               save_path=cfg.save_path,\n",
    "                               fold=None,\n",
    "                               verbose=True)\n",
    "\n",
    "breaker()\n",
    "show_loss_graphs(L)\n",
    "breaker()\n",
    "show_accuracy_graphs(A)\n",
    "breaker()\n",
    "\n",
    "if scheduler_oclr:\n",
    "    show_lr_graph(LR)\n",
    "    breaker()"
   ]
  }
 ],
 "metadata": {
  "kernelspec": {
   "display_name": "Python 3",
   "language": "python",
   "name": "python3"
  },
  "language_info": {
   "codemirror_mode": {
    "name": "ipython",
    "version": 3
   },
   "file_extension": ".py",
   "mimetype": "text/x-python",
   "name": "python",
   "nbconvert_exporter": "python",
   "pygments_lexer": "ipython3",
   "version": "3.7.12"
  },
  "papermill": {
   "default_parameters": {},
   "duration": 29334.978834,
   "end_time": "2022-07-20T13:27:59.061267",
   "environment_variables": {},
   "exception": null,
   "input_path": "__notebook__.ipynb",
   "output_path": "__notebook__.ipynb",
   "parameters": {},
   "start_time": "2022-07-20T05:19:04.082433",
   "version": "2.3.4"
  },
  "widgets": {
   "application/vnd.jupyter.widget-state+json": {
    "state": {
     "03d69b84584648729a67ddf8cd134d46": {
      "model_module": "@jupyter-widgets/controls",
      "model_module_version": "1.5.0",
      "model_name": "ProgressStyleModel",
      "state": {
       "_model_module": "@jupyter-widgets/controls",
       "_model_module_version": "1.5.0",
       "_model_name": "ProgressStyleModel",
       "_view_count": null,
       "_view_module": "@jupyter-widgets/base",
       "_view_module_version": "1.2.0",
       "_view_name": "StyleView",
       "bar_color": null,
       "description_width": ""
      }
     },
     "0934c0786c824fe3b68217e1e07db48b": {
      "model_module": "@jupyter-widgets/controls",
      "model_module_version": "1.5.0",
      "model_name": "HTMLModel",
      "state": {
       "_dom_classes": [],
       "_model_module": "@jupyter-widgets/controls",
       "_model_module_version": "1.5.0",
       "_model_name": "HTMLModel",
       "_view_count": null,
       "_view_module": "@jupyter-widgets/controls",
       "_view_module_version": "1.5.0",
       "_view_name": "HTMLView",
       "description": "",
       "description_tooltip": null,
       "layout": "IPY_MODEL_a0c08e0408e24a6d8ec37baef6ee382e",
       "placeholder": "​",
       "style": "IPY_MODEL_d147e977d3a34dbd91dece462af52341",
       "value": " 54.7M/54.7M [00:02&lt;00:00, 25.5MB/s]"
      }
     },
     "19dc7399109548c0af48c96523274f4e": {
      "model_module": "@jupyter-widgets/controls",
      "model_module_version": "1.5.0",
      "model_name": "HTMLModel",
      "state": {
       "_dom_classes": [],
       "_model_module": "@jupyter-widgets/controls",
       "_model_module_version": "1.5.0",
       "_model_name": "HTMLModel",
       "_view_count": null,
       "_view_module": "@jupyter-widgets/controls",
       "_view_module_version": "1.5.0",
       "_view_name": "HTMLView",
       "description": "",
       "description_tooltip": null,
       "layout": "IPY_MODEL_2361d4bc55b54b9a801acfbc97663e9b",
       "placeholder": "​",
       "style": "IPY_MODEL_9717413a22eb4642a63d9b3d7bb0321e",
       "value": "100%"
      }
     },
     "2361d4bc55b54b9a801acfbc97663e9b": {
      "model_module": "@jupyter-widgets/base",
      "model_module_version": "1.2.0",
      "model_name": "LayoutModel",
      "state": {
       "_model_module": "@jupyter-widgets/base",
       "_model_module_version": "1.2.0",
       "_model_name": "LayoutModel",
       "_view_count": null,
       "_view_module": "@jupyter-widgets/base",
       "_view_module_version": "1.2.0",
       "_view_name": "LayoutView",
       "align_content": null,
       "align_items": null,
       "align_self": null,
       "border": null,
       "bottom": null,
       "display": null,
       "flex": null,
       "flex_flow": null,
       "grid_area": null,
       "grid_auto_columns": null,
       "grid_auto_flow": null,
       "grid_auto_rows": null,
       "grid_column": null,
       "grid_gap": null,
       "grid_row": null,
       "grid_template_areas": null,
       "grid_template_columns": null,
       "grid_template_rows": null,
       "height": null,
       "justify_content": null,
       "justify_items": null,
       "left": null,
       "margin": null,
       "max_height": null,
       "max_width": null,
       "min_height": null,
       "min_width": null,
       "object_fit": null,
       "object_position": null,
       "order": null,
       "overflow": null,
       "overflow_x": null,
       "overflow_y": null,
       "padding": null,
       "right": null,
       "top": null,
       "visibility": null,
       "width": null
      }
     },
     "3aae999ff50648eba98353714e500eac": {
      "model_module": "@jupyter-widgets/controls",
      "model_module_version": "1.5.0",
      "model_name": "FloatProgressModel",
      "state": {
       "_dom_classes": [],
       "_model_module": "@jupyter-widgets/controls",
       "_model_module_version": "1.5.0",
       "_model_name": "FloatProgressModel",
       "_view_count": null,
       "_view_module": "@jupyter-widgets/controls",
       "_view_module_version": "1.5.0",
       "_view_name": "ProgressView",
       "bar_style": "success",
       "description": "",
       "description_tooltip": null,
       "layout": "IPY_MODEL_4f7ba288119d4ee78ea95fe81ae0675f",
       "max": 57365526.0,
       "min": 0.0,
       "orientation": "horizontal",
       "style": "IPY_MODEL_03d69b84584648729a67ddf8cd134d46",
       "value": 57365526.0
      }
     },
     "4f7ba288119d4ee78ea95fe81ae0675f": {
      "model_module": "@jupyter-widgets/base",
      "model_module_version": "1.2.0",
      "model_name": "LayoutModel",
      "state": {
       "_model_module": "@jupyter-widgets/base",
       "_model_module_version": "1.2.0",
       "_model_name": "LayoutModel",
       "_view_count": null,
       "_view_module": "@jupyter-widgets/base",
       "_view_module_version": "1.2.0",
       "_view_name": "LayoutView",
       "align_content": null,
       "align_items": null,
       "align_self": null,
       "border": null,
       "bottom": null,
       "display": null,
       "flex": null,
       "flex_flow": null,
       "grid_area": null,
       "grid_auto_columns": null,
       "grid_auto_flow": null,
       "grid_auto_rows": null,
       "grid_column": null,
       "grid_gap": null,
       "grid_row": null,
       "grid_template_areas": null,
       "grid_template_columns": null,
       "grid_template_rows": null,
       "height": null,
       "justify_content": null,
       "justify_items": null,
       "left": null,
       "margin": null,
       "max_height": null,
       "max_width": null,
       "min_height": null,
       "min_width": null,
       "object_fit": null,
       "object_position": null,
       "order": null,
       "overflow": null,
       "overflow_x": null,
       "overflow_y": null,
       "padding": null,
       "right": null,
       "top": null,
       "visibility": null,
       "width": null
      }
     },
     "80f8e13ffed149fa81f11cb38669e4d5": {
      "model_module": "@jupyter-widgets/base",
      "model_module_version": "1.2.0",
      "model_name": "LayoutModel",
      "state": {
       "_model_module": "@jupyter-widgets/base",
       "_model_module_version": "1.2.0",
       "_model_name": "LayoutModel",
       "_view_count": null,
       "_view_module": "@jupyter-widgets/base",
       "_view_module_version": "1.2.0",
       "_view_name": "LayoutView",
       "align_content": null,
       "align_items": null,
       "align_self": null,
       "border": null,
       "bottom": null,
       "display": null,
       "flex": null,
       "flex_flow": null,
       "grid_area": null,
       "grid_auto_columns": null,
       "grid_auto_flow": null,
       "grid_auto_rows": null,
       "grid_column": null,
       "grid_gap": null,
       "grid_row": null,
       "grid_template_areas": null,
       "grid_template_columns": null,
       "grid_template_rows": null,
       "height": null,
       "justify_content": null,
       "justify_items": null,
       "left": null,
       "margin": null,
       "max_height": null,
       "max_width": null,
       "min_height": null,
       "min_width": null,
       "object_fit": null,
       "object_position": null,
       "order": null,
       "overflow": null,
       "overflow_x": null,
       "overflow_y": null,
       "padding": null,
       "right": null,
       "top": null,
       "visibility": null,
       "width": null
      }
     },
     "9717413a22eb4642a63d9b3d7bb0321e": {
      "model_module": "@jupyter-widgets/controls",
      "model_module_version": "1.5.0",
      "model_name": "DescriptionStyleModel",
      "state": {
       "_model_module": "@jupyter-widgets/controls",
       "_model_module_version": "1.5.0",
       "_model_name": "DescriptionStyleModel",
       "_view_count": null,
       "_view_module": "@jupyter-widgets/base",
       "_view_module_version": "1.2.0",
       "_view_name": "StyleView",
       "description_width": ""
      }
     },
     "a0c08e0408e24a6d8ec37baef6ee382e": {
      "model_module": "@jupyter-widgets/base",
      "model_module_version": "1.2.0",
      "model_name": "LayoutModel",
      "state": {
       "_model_module": "@jupyter-widgets/base",
       "_model_module_version": "1.2.0",
       "_model_name": "LayoutModel",
       "_view_count": null,
       "_view_module": "@jupyter-widgets/base",
       "_view_module_version": "1.2.0",
       "_view_name": "LayoutView",
       "align_content": null,
       "align_items": null,
       "align_self": null,
       "border": null,
       "bottom": null,
       "display": null,
       "flex": null,
       "flex_flow": null,
       "grid_area": null,
       "grid_auto_columns": null,
       "grid_auto_flow": null,
       "grid_auto_rows": null,
       "grid_column": null,
       "grid_gap": null,
       "grid_row": null,
       "grid_template_areas": null,
       "grid_template_columns": null,
       "grid_template_rows": null,
       "height": null,
       "justify_content": null,
       "justify_items": null,
       "left": null,
       "margin": null,
       "max_height": null,
       "max_width": null,
       "min_height": null,
       "min_width": null,
       "object_fit": null,
       "object_position": null,
       "order": null,
       "overflow": null,
       "overflow_x": null,
       "overflow_y": null,
       "padding": null,
       "right": null,
       "top": null,
       "visibility": null,
       "width": null
      }
     },
     "d147e977d3a34dbd91dece462af52341": {
      "model_module": "@jupyter-widgets/controls",
      "model_module_version": "1.5.0",
      "model_name": "DescriptionStyleModel",
      "state": {
       "_model_module": "@jupyter-widgets/controls",
       "_model_module_version": "1.5.0",
       "_model_name": "DescriptionStyleModel",
       "_view_count": null,
       "_view_module": "@jupyter-widgets/base",
       "_view_module_version": "1.2.0",
       "_view_name": "StyleView",
       "description_width": ""
      }
     },
     "d3127f53efa14dd48df69307532d5c98": {
      "model_module": "@jupyter-widgets/controls",
      "model_module_version": "1.5.0",
      "model_name": "HBoxModel",
      "state": {
       "_dom_classes": [],
       "_model_module": "@jupyter-widgets/controls",
       "_model_module_version": "1.5.0",
       "_model_name": "HBoxModel",
       "_view_count": null,
       "_view_module": "@jupyter-widgets/controls",
       "_view_module_version": "1.5.0",
       "_view_name": "HBoxView",
       "box_style": "",
       "children": [
        "IPY_MODEL_19dc7399109548c0af48c96523274f4e",
        "IPY_MODEL_3aae999ff50648eba98353714e500eac",
        "IPY_MODEL_0934c0786c824fe3b68217e1e07db48b"
       ],
       "layout": "IPY_MODEL_80f8e13ffed149fa81f11cb38669e4d5"
      }
     }
    },
    "version_major": 2,
    "version_minor": 0
   }
  }
 },
 "nbformat": 4,
 "nbformat_minor": 5
}
