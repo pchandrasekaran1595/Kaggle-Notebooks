{
 "cells": [
  {
   "cell_type": "markdown",
   "id": "4c953779",
   "metadata": {
    "papermill": {
     "duration": 0.004369,
     "end_time": "2022-06-26T11:56:42.440229",
     "exception": false,
     "start_time": "2022-06-26T11:56:42.435860",
     "status": "completed"
    },
    "tags": []
   },
   "source": [
    "### **Setup**"
   ]
  },
  {
   "cell_type": "code",
   "execution_count": 1,
   "id": "28080b36",
   "metadata": {
    "execution": {
     "iopub.execute_input": "2022-06-26T11:56:42.451216Z",
     "iopub.status.busy": "2022-06-26T11:56:42.450771Z",
     "iopub.status.idle": "2022-06-26T11:56:53.468441Z",
     "shell.execute_reply": "2022-06-26T11:56:53.467403Z"
    },
    "papermill": {
     "duration": 11.024506,
     "end_time": "2022-06-26T11:56:53.470597",
     "exception": false,
     "start_time": "2022-06-26T11:56:42.446091",
     "status": "completed"
    },
    "tags": []
   },
   "outputs": [
    {
     "name": "stderr",
     "output_type": "stream",
     "text": [
      "WARNING: Running pip as the 'root' user can result in broken permissions and conflicting behaviour with the system package manager. It is recommended to use a virtual environment instead: https://pip.pypa.io/warnings/venv\n"
     ]
    }
   ],
   "source": [
    "%%bash\n",
    "pip install timm -q"
   ]
  },
  {
   "cell_type": "markdown",
   "id": "90d3e775",
   "metadata": {
    "papermill": {
     "duration": 0.003392,
     "end_time": "2022-06-26T11:56:53.478135",
     "exception": false,
     "start_time": "2022-06-26T11:56:53.474743",
     "status": "completed"
    },
    "tags": []
   },
   "source": [
    "### **Library Imports**"
   ]
  },
  {
   "cell_type": "code",
   "execution_count": 2,
   "id": "ccc0b551",
   "metadata": {
    "execution": {
     "iopub.execute_input": "2022-06-26T11:56:53.487599Z",
     "iopub.status.busy": "2022-06-26T11:56:53.487291Z",
     "iopub.status.idle": "2022-06-26T11:57:01.212798Z",
     "shell.execute_reply": "2022-06-26T11:57:01.211754Z"
    },
    "papermill": {
     "duration": 7.733275,
     "end_time": "2022-06-26T11:57:01.214967",
     "exception": false,
     "start_time": "2022-06-26T11:56:53.481692",
     "status": "completed"
    },
    "tags": []
   },
   "outputs": [],
   "source": [
    "import os\n",
    "import re\n",
    "import cv2\n",
    "import timm\n",
    "import torch\n",
    "import numpy as np\n",
    "import pandas as pd\n",
    "import matplotlib.pyplot as plt\n",
    "\n",
    "from time import time\n",
    "from torch import nn, optim\n",
    "from torch.utils.data import Dataset\n",
    "from torch.utils.data import DataLoader as DL\n",
    "from torchvision import models, transforms\n",
    "\n",
    "from sklearn.preprocessing import LabelEncoder"
   ]
  },
  {
   "cell_type": "markdown",
   "id": "96bf45e5",
   "metadata": {
    "papermill": {
     "duration": 0.003301,
     "end_time": "2022-06-26T11:57:01.222072",
     "exception": false,
     "start_time": "2022-06-26T11:57:01.218771",
     "status": "completed"
    },
    "tags": []
   },
   "source": [
    "### **Utilities and Helpers**"
   ]
  },
  {
   "cell_type": "code",
   "execution_count": 3,
   "id": "51a2cbb2",
   "metadata": {
    "execution": {
     "iopub.execute_input": "2022-06-26T11:57:01.231353Z",
     "iopub.status.busy": "2022-06-26T11:57:01.230087Z",
     "iopub.status.idle": "2022-06-26T11:57:01.289024Z",
     "shell.execute_reply": "2022-06-26T11:57:01.288258Z"
    },
    "papermill": {
     "duration": 0.065421,
     "end_time": "2022-06-26T11:57:01.290913",
     "exception": false,
     "start_time": "2022-06-26T11:57:01.225492",
     "status": "completed"
    },
    "tags": []
   },
   "outputs": [],
   "source": [
    "SEED = 42\n",
    "SIZE = 384\n",
    "FOLD = 3\n",
    "\n",
    "TRANSFORM = transforms.Compose([transforms.ToTensor(),\n",
    "                                transforms.Normalize([0.49699, 0.58823, 0.23049],\n",
    "                                                     [0.22591, 0.22614, 0.18264]),\n",
    "                                ])\n",
    "\n",
    "MODEL_PATH_1 = f\"../input/pdc-d169-na{SIZE}f-noes-f{FOLD}/saves/ble_state.pt\"\n",
    "MODEL_PATH_2 = f\"../input/pdc-d201-na{SIZE}f-noes-f{FOLD}/saves/ble_state.pt\"\n",
    "MODEL_PATH_3 = f\"../input/pdc-en2-na{SIZE}f-noes-f{FOLD}/saves/ble_state.pt\"\n",
    "\n",
    "DEVICE = torch.device(\"cuda\" if torch.cuda.is_available() else \"cpu\")\n",
    "\n",
    "le = LabelEncoder()\n",
    "\n",
    "\n",
    "def breaker(num: int=50, char: str=\"*\") -> None:\n",
    "    print(\"\\n\" + num*char + \"\\n\")\n",
    "\n",
    "\n",
    "def get_image(path: str, size: int=224) -> np.ndarray:\n",
    "    return cv2.resize(src=cv2.cvtColor(src=cv2.imread(path, cv2.IMREAD_COLOR), code=cv2.COLOR_BGR2RGB), dsize=(size, size), interpolation=cv2.INTER_AREA)"
   ]
  },
  {
   "cell_type": "markdown",
   "id": "b2189385",
   "metadata": {
    "papermill": {
     "duration": 0.0035,
     "end_time": "2022-06-26T11:57:01.297913",
     "exception": false,
     "start_time": "2022-06-26T11:57:01.294413",
     "status": "completed"
    },
    "tags": []
   },
   "source": [
    "### **Configuration**"
   ]
  },
  {
   "cell_type": "markdown",
   "id": "a86bf888",
   "metadata": {
    "papermill": {
     "duration": 0.003238,
     "end_time": "2022-06-26T11:57:01.304599",
     "exception": false,
     "start_time": "2022-06-26T11:57:01.301361",
     "status": "completed"
    },
    "tags": []
   },
   "source": [
    "### **Dataset Template**"
   ]
  },
  {
   "cell_type": "code",
   "execution_count": 4,
   "id": "8a06b632",
   "metadata": {
    "execution": {
     "iopub.execute_input": "2022-06-26T11:57:01.312926Z",
     "iopub.status.busy": "2022-06-26T11:57:01.312257Z",
     "iopub.status.idle": "2022-06-26T11:57:01.318194Z",
     "shell.execute_reply": "2022-06-26T11:57:01.317470Z"
    },
    "papermill": {
     "duration": 0.011759,
     "end_time": "2022-06-26T11:57:01.319830",
     "exception": false,
     "start_time": "2022-06-26T11:57:01.308071",
     "status": "completed"
    },
    "tags": []
   },
   "outputs": [],
   "source": [
    "class DS(Dataset):\n",
    "    def __init__(self, base_path: str, filenames: np.ndarray, size: int=224, transform=None):\n",
    "        self.base_path = base_path\n",
    "        self.filenames = filenames\n",
    "        self.size = size\n",
    "        self.transform = transform\n",
    "    \n",
    "    def __len__(self):\n",
    "        return self.filenames.shape[0]\n",
    "    \n",
    "    def __getitem__(self, idx):\n",
    "        return self.transform(get_image(os.path.join(self.base_path, self.filenames[idx]), size=self.size))"
   ]
  },
  {
   "cell_type": "markdown",
   "id": "8b745092",
   "metadata": {
    "papermill": {
     "duration": 0.003458,
     "end_time": "2022-06-26T11:57:01.326978",
     "exception": false,
     "start_time": "2022-06-26T11:57:01.323520",
     "status": "completed"
    },
    "tags": []
   },
   "source": [
    "### **Model**"
   ]
  },
  {
   "cell_type": "code",
   "execution_count": 5,
   "id": "2d0c9f46",
   "metadata": {
    "execution": {
     "iopub.execute_input": "2022-06-26T11:57:01.336114Z",
     "iopub.status.busy": "2022-06-26T11:57:01.334841Z",
     "iopub.status.idle": "2022-06-26T11:57:01.343750Z",
     "shell.execute_reply": "2022-06-26T11:57:01.343034Z"
    },
    "papermill": {
     "duration": 0.014869,
     "end_time": "2022-06-26T11:57:01.345453",
     "exception": false,
     "start_time": "2022-06-26T11:57:01.330584",
     "status": "completed"
    },
    "tags": []
   },
   "outputs": [],
   "source": [
    "class Model(nn.Module):\n",
    "    def __init__(self, model_name=\"densenet\"):\n",
    "        super(Model, self).__init__()\n",
    "\n",
    "        if model_name == \"densenet169\":\n",
    "            self.model = models.densenet169(pretrained=False, progress=True)\n",
    "            # self.freeze()\n",
    "            self.model.classifier = nn.Linear(in_features=self.model.classifier.in_features, out_features=10)\n",
    "        \n",
    "        elif model_name == \"densenet201\":\n",
    "            self.model = models.densenet201(pretrained=False, progress=True)\n",
    "            # self.freeze()\n",
    "            self.model.classifier = nn.Linear(in_features=self.model.classifier.in_features, out_features=10)\n",
    "            \n",
    "        else:\n",
    "            self.model = timm.create_model(model_name=\"efficientnet_b2\", pretrained=False)\n",
    "            # self.freeze()\n",
    "            self.model.classifier = nn.Linear(in_features=self.model.classifier.in_features, out_features=10)\n",
    "    \n",
    "    def freeze(self):\n",
    "        for params in self.parameters(): params.requires_grad = False\n",
    "\n",
    "    def forward(self, x):\n",
    "        return nn.LogSoftmax(dim=1)(self.model(x))"
   ]
  },
  {
   "cell_type": "markdown",
   "id": "a94d66d7",
   "metadata": {
    "papermill": {
     "duration": 0.003463,
     "end_time": "2022-06-26T11:57:01.352578",
     "exception": false,
     "start_time": "2022-06-26T11:57:01.349115",
     "status": "completed"
    },
    "tags": []
   },
   "source": [
    "### **Predict Helpers**"
   ]
  },
  {
   "cell_type": "code",
   "execution_count": 6,
   "id": "a1718b1e",
   "metadata": {
    "execution": {
     "iopub.execute_input": "2022-06-26T11:57:01.361135Z",
     "iopub.status.busy": "2022-06-26T11:57:01.360840Z",
     "iopub.status.idle": "2022-06-26T11:57:01.369219Z",
     "shell.execute_reply": "2022-06-26T11:57:01.368420Z"
    },
    "papermill": {
     "duration": 0.01455,
     "end_time": "2022-06-26T11:57:01.370968",
     "exception": false,
     "start_time": "2022-06-26T11:57:01.356418",
     "status": "completed"
    },
    "tags": []
   },
   "outputs": [],
   "source": [
    "def predict_batch(models: list=None, model_2=None, dataloader=None, paths: list=None, device=None) -> np.ndarray:\n",
    "    assert len(models) == len(paths)\n",
    "    \n",
    "    for i in range(len(models)):\n",
    "        models[i].load_state_dict(torch.load(paths[i], map_location=device)[\"model_state_dict\"])\n",
    "        models[i].to(device)    \n",
    "        models[i].eval()\n",
    "    \n",
    "    y_pred = torch.zeros(1, 1).to(device)\n",
    "    \n",
    "    for X in dataloader:\n",
    "        X = X.to(device)\n",
    "        with torch.no_grad():\n",
    "            output = torch.argmax(torch.exp(models[0](X)) + torch.exp(models[1](X)) + torch.exp(models[2](X)), dim=1)\n",
    "        y_pred = torch.cat((y_pred, output.view(-1, 1)), dim=0)\n",
    "    \n",
    "    return y_pred[1:].detach().cpu().numpy()"
   ]
  },
  {
   "cell_type": "markdown",
   "id": "7efeeab5",
   "metadata": {
    "papermill": {
     "duration": 0.003489,
     "end_time": "2022-06-26T11:57:01.378126",
     "exception": false,
     "start_time": "2022-06-26T11:57:01.374637",
     "status": "completed"
    },
    "tags": []
   },
   "source": [
    "### **Submission**"
   ]
  },
  {
   "cell_type": "code",
   "execution_count": 7,
   "id": "2ca212b6",
   "metadata": {
    "execution": {
     "iopub.execute_input": "2022-06-26T11:57:01.393723Z",
     "iopub.status.busy": "2022-06-26T11:57:01.392773Z",
     "iopub.status.idle": "2022-06-26T11:58:57.736618Z",
     "shell.execute_reply": "2022-06-26T11:58:57.735805Z"
    },
    "papermill": {
     "duration": 116.356856,
     "end_time": "2022-06-26T11:58:57.738897",
     "exception": false,
     "start_time": "2022-06-26T11:57:01.382041",
     "status": "completed"
    },
    "tags": []
   },
   "outputs": [],
   "source": [
    "df = pd.read_csv(\"../input/paddy-disease-classification/train.csv\")\n",
    "ss_df = pd.read_csv(\"../input/paddy-disease-classification/sample_submission.csv\")\n",
    "\n",
    "labels = df.label.copy().values\n",
    "labels = le.fit_transform(labels)\n",
    "\n",
    "ts_data_setup = DS(base_path=\"../input/paddy-disease-classification/test_images\", \n",
    "                   filenames=ss_df.image_id.copy().values,\n",
    "                   size=SIZE,\n",
    "                   transform=TRANSFORM)\n",
    "ts_data = DL(ts_data_setup, batch_size=64, shuffle=False)\n",
    "\n",
    "model_1 = Model(\"densenet169\").to(DEVICE)\n",
    "model_2 = Model(\"densenet201\").to(DEVICE)\n",
    "model_3 = Model(\"efficientnet\").to(DEVICE)\n",
    "\n",
    "y_pred = predict_batch(models=[model_1, model_2, model_3], \n",
    "                       dataloader=ts_data, \n",
    "                       paths=[MODEL_PATH_1, MODEL_PATH_2, MODEL_PATH_3],\n",
    "                       device=DEVICE)\n",
    "\n",
    "ss_df[\"label\"] = le.inverse_transform(y_pred.astype(\"uint8\").reshape(-1))\n",
    "ss_df.to_csv(\"submission.csv\", index=False)"
   ]
  }
 ],
 "metadata": {
  "kernelspec": {
   "display_name": "Python 3",
   "language": "python",
   "name": "python3"
  },
  "language_info": {
   "codemirror_mode": {
    "name": "ipython",
    "version": 3
   },
   "file_extension": ".py",
   "mimetype": "text/x-python",
   "name": "python",
   "nbconvert_exporter": "python",
   "pygments_lexer": "ipython3",
   "version": "3.7.12"
  },
  "papermill": {
   "default_parameters": {},
   "duration": 146.333704,
   "end_time": "2022-06-26T11:59:00.869423",
   "environment_variables": {},
   "exception": null,
   "input_path": "__notebook__.ipynb",
   "output_path": "__notebook__.ipynb",
   "parameters": {},
   "start_time": "2022-06-26T11:56:34.535719",
   "version": "2.3.4"
  }
 },
 "nbformat": 4,
 "nbformat_minor": 5
}
