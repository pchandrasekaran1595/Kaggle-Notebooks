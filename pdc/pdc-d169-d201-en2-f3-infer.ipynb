{
 "cells": [
  {
   "cell_type": "markdown",
   "id": "4f29dd6e",
   "metadata": {
    "papermill": {
     "duration": 0.005084,
     "end_time": "2022-06-26T11:35:33.434906",
     "exception": false,
     "start_time": "2022-06-26T11:35:33.429822",
     "status": "completed"
    },
    "tags": []
   },
   "source": [
    "### **Setup**"
   ]
  },
  {
   "cell_type": "code",
   "execution_count": 1,
   "id": "b80b00a7",
   "metadata": {
    "execution": {
     "iopub.execute_input": "2022-06-26T11:35:33.447692Z",
     "iopub.status.busy": "2022-06-26T11:35:33.446960Z",
     "iopub.status.idle": "2022-06-26T11:35:46.818533Z",
     "shell.execute_reply": "2022-06-26T11:35:46.816911Z"
    },
    "papermill": {
     "duration": 13.381172,
     "end_time": "2022-06-26T11:35:46.822171",
     "exception": false,
     "start_time": "2022-06-26T11:35:33.440999",
     "status": "completed"
    },
    "tags": []
   },
   "outputs": [
    {
     "name": "stderr",
     "output_type": "stream",
     "text": [
      "WARNING: Running pip as the 'root' user can result in broken permissions and conflicting behaviour with the system package manager. It is recommended to use a virtual environment instead: https://pip.pypa.io/warnings/venv\n"
     ]
    }
   ],
   "source": [
    "%%bash\n",
    "pip install timm -q"
   ]
  },
  {
   "cell_type": "markdown",
   "id": "bdf3f218",
   "metadata": {
    "papermill": {
     "duration": 0.003951,
     "end_time": "2022-06-26T11:35:46.830331",
     "exception": false,
     "start_time": "2022-06-26T11:35:46.826380",
     "status": "completed"
    },
    "tags": []
   },
   "source": [
    "### **Library Imports**"
   ]
  },
  {
   "cell_type": "code",
   "execution_count": 2,
   "id": "2c2716f2",
   "metadata": {
    "execution": {
     "iopub.execute_input": "2022-06-26T11:35:46.839681Z",
     "iopub.status.busy": "2022-06-26T11:35:46.839325Z",
     "iopub.status.idle": "2022-06-26T11:35:55.260713Z",
     "shell.execute_reply": "2022-06-26T11:35:55.259605Z"
    },
    "papermill": {
     "duration": 8.428953,
     "end_time": "2022-06-26T11:35:55.263169",
     "exception": false,
     "start_time": "2022-06-26T11:35:46.834216",
     "status": "completed"
    },
    "tags": []
   },
   "outputs": [],
   "source": [
    "import os\n",
    "import re\n",
    "import cv2\n",
    "import timm\n",
    "import torch\n",
    "import numpy as np\n",
    "import pandas as pd\n",
    "import matplotlib.pyplot as plt\n",
    "\n",
    "from time import time\n",
    "from torch import nn, optim\n",
    "from torch.utils.data import Dataset\n",
    "from torch.utils.data import DataLoader as DL\n",
    "from torchvision import models, transforms\n",
    "\n",
    "from sklearn.preprocessing import LabelEncoder"
   ]
  },
  {
   "cell_type": "markdown",
   "id": "5708aa2c",
   "metadata": {
    "papermill": {
     "duration": 0.003926,
     "end_time": "2022-06-26T11:35:55.271105",
     "exception": false,
     "start_time": "2022-06-26T11:35:55.267179",
     "status": "completed"
    },
    "tags": []
   },
   "source": [
    "### **Utilities and Helpers**"
   ]
  },
  {
   "cell_type": "code",
   "execution_count": 3,
   "id": "f4a5660d",
   "metadata": {
    "execution": {
     "iopub.execute_input": "2022-06-26T11:35:55.281599Z",
     "iopub.status.busy": "2022-06-26T11:35:55.279950Z",
     "iopub.status.idle": "2022-06-26T11:35:55.347736Z",
     "shell.execute_reply": "2022-06-26T11:35:55.346753Z"
    },
    "papermill": {
     "duration": 0.075055,
     "end_time": "2022-06-26T11:35:55.350037",
     "exception": false,
     "start_time": "2022-06-26T11:35:55.274982",
     "status": "completed"
    },
    "tags": []
   },
   "outputs": [],
   "source": [
    "SEED = 42\n",
    "SIZE = 384\n",
    "FOLD = 3\n",
    "\n",
    "TRANSFORM = transforms.Compose([transforms.ToTensor(),\n",
    "                                transforms.Normalize([0.49699, 0.58823, 0.23049],\n",
    "                                                     [0.22591, 0.22614, 0.18264]),\n",
    "                                ])\n",
    "\n",
    "MODEL_PATH_1 = f\"../input/pdc-d169-na{SIZE}f-noes-f{FOLD}/saves/ble_state.pt\"\n",
    "MODEL_PATH_2 = f\"../input/pdc-d201-na{SIZE}f-noes-f{FOLD}/saves/ble_state.pt\"\n",
    "MODEL_PATH_3 = f\"../input/pdc-en2-na{SIZE}f-noes-f{FOLD}/saves/ble_state.pt\"\n",
    "\n",
    "DEVICE = torch.device(\"cuda\" if torch.cuda.is_available() else \"cpu\")\n",
    "\n",
    "le = LabelEncoder()\n",
    "\n",
    "\n",
    "def breaker(num: int=50, char: str=\"*\") -> None:\n",
    "    print(\"\\n\" + num*char + \"\\n\")\n",
    "\n",
    "\n",
    "def get_image(path: str, size: int=224) -> np.ndarray:\n",
    "    return cv2.resize(src=cv2.cvtColor(src=cv2.imread(path, cv2.IMREAD_COLOR), code=cv2.COLOR_BGR2RGB), dsize=(size, size), interpolation=cv2.INTER_AREA)"
   ]
  },
  {
   "cell_type": "markdown",
   "id": "217b31d0",
   "metadata": {
    "papermill": {
     "duration": 0.004064,
     "end_time": "2022-06-26T11:35:55.358310",
     "exception": false,
     "start_time": "2022-06-26T11:35:55.354246",
     "status": "completed"
    },
    "tags": []
   },
   "source": [
    "### **Configuration**"
   ]
  },
  {
   "cell_type": "markdown",
   "id": "2e894df8",
   "metadata": {
    "papermill": {
     "duration": 0.003741,
     "end_time": "2022-06-26T11:35:55.365898",
     "exception": false,
     "start_time": "2022-06-26T11:35:55.362157",
     "status": "completed"
    },
    "tags": []
   },
   "source": [
    "### **Dataset Template**"
   ]
  },
  {
   "cell_type": "code",
   "execution_count": 4,
   "id": "a96bbf24",
   "metadata": {
    "execution": {
     "iopub.execute_input": "2022-06-26T11:35:55.374948Z",
     "iopub.status.busy": "2022-06-26T11:35:55.374671Z",
     "iopub.status.idle": "2022-06-26T11:35:55.381112Z",
     "shell.execute_reply": "2022-06-26T11:35:55.380143Z"
    },
    "papermill": {
     "duration": 0.013196,
     "end_time": "2022-06-26T11:35:55.383016",
     "exception": false,
     "start_time": "2022-06-26T11:35:55.369820",
     "status": "completed"
    },
    "tags": []
   },
   "outputs": [],
   "source": [
    "class DS(Dataset):\n",
    "    def __init__(self, base_path: str, filenames: np.ndarray, size: int=224, transform=None):\n",
    "        self.base_path = base_path\n",
    "        self.filenames = filenames\n",
    "        self.size = size\n",
    "        self.transform = transform\n",
    "    \n",
    "    def __len__(self):\n",
    "        return self.filenames.shape[0]\n",
    "    \n",
    "    def __getitem__(self, idx):\n",
    "        return self.transform(get_image(os.path.join(self.base_path, self.filenames[idx]), size=self.size))"
   ]
  },
  {
   "cell_type": "markdown",
   "id": "fdfc3c2e",
   "metadata": {
    "papermill": {
     "duration": 0.003993,
     "end_time": "2022-06-26T11:35:55.390998",
     "exception": false,
     "start_time": "2022-06-26T11:35:55.387005",
     "status": "completed"
    },
    "tags": []
   },
   "source": [
    "### **Model**"
   ]
  },
  {
   "cell_type": "code",
   "execution_count": 5,
   "id": "b21240ea",
   "metadata": {
    "execution": {
     "iopub.execute_input": "2022-06-26T11:35:55.401455Z",
     "iopub.status.busy": "2022-06-26T11:35:55.400315Z",
     "iopub.status.idle": "2022-06-26T11:35:55.411387Z",
     "shell.execute_reply": "2022-06-26T11:35:55.410397Z"
    },
    "papermill": {
     "duration": 0.018396,
     "end_time": "2022-06-26T11:35:55.413522",
     "exception": false,
     "start_time": "2022-06-26T11:35:55.395126",
     "status": "completed"
    },
    "tags": []
   },
   "outputs": [],
   "source": [
    "class Model(nn.Module):\n",
    "    def __init__(self, model_name=\"densenet\"):\n",
    "        super(Model, self).__init__()\n",
    "\n",
    "        if model_name == \"densenet169\":\n",
    "            self.model = models.densenet169(pretrained=False, progress=True)\n",
    "            # self.freeze()\n",
    "            self.model.classifier = nn.Linear(in_features=self.model.classifier.in_features, out_features=10)\n",
    "        \n",
    "        elif model_name == \"densenet201\":\n",
    "            self.model = models.densenet201(pretrained=False, progress=True)\n",
    "            # self.freeze()\n",
    "            self.model.classifier = nn.Linear(in_features=self.model.classifier.in_features, out_features=10)\n",
    "            \n",
    "        else:\n",
    "            self.model = timm.create_model(model_name=\"efficientnet_b2\", pretrained=False)\n",
    "            # self.freeze()\n",
    "            self.model.classifier = nn.Linear(in_features=self.model.classifier.in_features, out_features=10)\n",
    "    \n",
    "    def freeze(self):\n",
    "        for params in self.parameters(): params.requires_grad = False\n",
    "\n",
    "    def forward(self, x):\n",
    "        return nn.LogSoftmax(dim=1)(self.model(x))"
   ]
  },
  {
   "cell_type": "markdown",
   "id": "b11b9f35",
   "metadata": {
    "papermill": {
     "duration": 0.00395,
     "end_time": "2022-06-26T11:35:55.421700",
     "exception": false,
     "start_time": "2022-06-26T11:35:55.417750",
     "status": "completed"
    },
    "tags": []
   },
   "source": [
    "### **Predict Helpers**"
   ]
  },
  {
   "cell_type": "code",
   "execution_count": 6,
   "id": "9ed91fbb",
   "metadata": {
    "execution": {
     "iopub.execute_input": "2022-06-26T11:35:55.431300Z",
     "iopub.status.busy": "2022-06-26T11:35:55.430941Z",
     "iopub.status.idle": "2022-06-26T11:35:55.440210Z",
     "shell.execute_reply": "2022-06-26T11:35:55.439176Z"
    },
    "papermill": {
     "duration": 0.016673,
     "end_time": "2022-06-26T11:35:55.442441",
     "exception": false,
     "start_time": "2022-06-26T11:35:55.425768",
     "status": "completed"
    },
    "tags": []
   },
   "outputs": [],
   "source": [
    "def predict_batch(models: list=None, model_2=None, dataloader=None, paths: list=None, device=None) -> np.ndarray:\n",
    "    assert len(models) == len(paths)\n",
    "    \n",
    "    for i in range(len(models)):\n",
    "        models[i].load_state_dict(torch.load(paths[i], map_location=device)[\"model_state_dict\"])\n",
    "        models[i].to(device)    \n",
    "        models[i].eval()\n",
    "    \n",
    "    y_pred = torch.zeros(1, 1).to(device)\n",
    "    \n",
    "    for X in dataloader:\n",
    "        X = X.to(device)\n",
    "        with torch.no_grad():\n",
    "            output = torch.argmax(torch.exp(models[0](X)) + torch.exp(models[1](X)), dim=1)\n",
    "        y_pred = torch.cat((y_pred, output.view(-1, 1)), dim=0)\n",
    "    \n",
    "    return y_pred[1:].detach().cpu().numpy()"
   ]
  },
  {
   "cell_type": "markdown",
   "id": "212b619b",
   "metadata": {
    "papermill": {
     "duration": 0.00413,
     "end_time": "2022-06-26T11:35:55.450668",
     "exception": false,
     "start_time": "2022-06-26T11:35:55.446538",
     "status": "completed"
    },
    "tags": []
   },
   "source": [
    "### **Submission**"
   ]
  },
  {
   "cell_type": "code",
   "execution_count": 7,
   "id": "7d5e5dbc",
   "metadata": {
    "execution": {
     "iopub.execute_input": "2022-06-26T11:35:55.461825Z",
     "iopub.status.busy": "2022-06-26T11:35:55.459970Z",
     "iopub.status.idle": "2022-06-26T11:37:46.968891Z",
     "shell.execute_reply": "2022-06-26T11:37:46.967758Z"
    },
    "papermill": {
     "duration": 111.517126,
     "end_time": "2022-06-26T11:37:46.971995",
     "exception": false,
     "start_time": "2022-06-26T11:35:55.454869",
     "status": "completed"
    },
    "tags": []
   },
   "outputs": [],
   "source": [
    "df = pd.read_csv(\"../input/paddy-disease-classification/train.csv\")\n",
    "ss_df = pd.read_csv(\"../input/paddy-disease-classification/sample_submission.csv\")\n",
    "\n",
    "labels = df.label.copy().values\n",
    "labels = le.fit_transform(labels)\n",
    "\n",
    "ts_data_setup = DS(base_path=\"../input/paddy-disease-classification/test_images\", \n",
    "                   filenames=ss_df.image_id.copy().values,\n",
    "                   size=SIZE,\n",
    "                   transform=TRANSFORM)\n",
    "ts_data = DL(ts_data_setup, batch_size=64, shuffle=False)\n",
    "\n",
    "model_1 = Model(\"densenet169\").to(DEVICE)\n",
    "model_2 = Model(\"densenet201\").to(DEVICE)\n",
    "model_3 = Model(\"efficientnet\").to(DEVICE)\n",
    "\n",
    "y_pred = predict_batch(models=[model_1, model_2, model_3], \n",
    "                       dataloader=ts_data, \n",
    "                       paths=[MODEL_PATH_1, MODEL_PATH_2, MODEL_PATH_3],\n",
    "                       device=DEVICE)\n",
    "\n",
    "ss_df[\"label\"] = le.inverse_transform(y_pred.astype(\"uint8\").reshape(-1))\n",
    "ss_df.to_csv(\"submission.csv\", index=False)"
   ]
  }
 ],
 "metadata": {
  "kernelspec": {
   "display_name": "Python 3",
   "language": "python",
   "name": "python3"
  },
  "language_info": {
   "codemirror_mode": {
    "name": "ipython",
    "version": 3
   },
   "file_extension": ".py",
   "mimetype": "text/x-python",
   "name": "python",
   "nbconvert_exporter": "python",
   "pygments_lexer": "ipython3",
   "version": "3.7.12"
  },
  "papermill": {
   "default_parameters": {},
   "duration": 146.721001,
   "end_time": "2022-06-26T11:37:50.589438",
   "environment_variables": {},
   "exception": null,
   "input_path": "__notebook__.ipynb",
   "output_path": "__notebook__.ipynb",
   "parameters": {},
   "start_time": "2022-06-26T11:35:23.868437",
   "version": "2.3.4"
  }
 },
 "nbformat": 4,
 "nbformat_minor": 5
}
