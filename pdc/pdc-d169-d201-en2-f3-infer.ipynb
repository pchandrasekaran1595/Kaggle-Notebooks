{
 "cells": [
  {
   "cell_type": "markdown",
   "id": "f63136a4",
   "metadata": {
    "papermill": {
     "duration": 0.004607,
     "end_time": "2022-06-26T12:06:32.831098",
     "exception": false,
     "start_time": "2022-06-26T12:06:32.826491",
     "status": "completed"
    },
    "tags": []
   },
   "source": [
    "### **Setup**"
   ]
  },
  {
   "cell_type": "code",
   "execution_count": 1,
   "id": "431f82ad",
   "metadata": {
    "execution": {
     "iopub.execute_input": "2022-06-26T12:06:32.842558Z",
     "iopub.status.busy": "2022-06-26T12:06:32.841538Z",
     "iopub.status.idle": "2022-06-26T12:06:44.664424Z",
     "shell.execute_reply": "2022-06-26T12:06:44.663329Z"
    },
    "papermill": {
     "duration": 11.830035,
     "end_time": "2022-06-26T12:06:44.666900",
     "exception": false,
     "start_time": "2022-06-26T12:06:32.836865",
     "status": "completed"
    },
    "tags": []
   },
   "outputs": [
    {
     "name": "stderr",
     "output_type": "stream",
     "text": [
      "WARNING: Running pip as the 'root' user can result in broken permissions and conflicting behaviour with the system package manager. It is recommended to use a virtual environment instead: https://pip.pypa.io/warnings/venv\n"
     ]
    }
   ],
   "source": [
    "%%bash\n",
    "pip install timm -q"
   ]
  },
  {
   "cell_type": "markdown",
   "id": "e15ea3ea",
   "metadata": {
    "papermill": {
     "duration": 0.003839,
     "end_time": "2022-06-26T12:06:44.675371",
     "exception": false,
     "start_time": "2022-06-26T12:06:44.671532",
     "status": "completed"
    },
    "tags": []
   },
   "source": [
    "### **Library Imports**"
   ]
  },
  {
   "cell_type": "code",
   "execution_count": 2,
   "id": "ed9567aa",
   "metadata": {
    "execution": {
     "iopub.execute_input": "2022-06-26T12:06:44.684419Z",
     "iopub.status.busy": "2022-06-26T12:06:44.684081Z",
     "iopub.status.idle": "2022-06-26T12:06:52.522174Z",
     "shell.execute_reply": "2022-06-26T12:06:52.521264Z"
    },
    "papermill": {
     "duration": 7.845477,
     "end_time": "2022-06-26T12:06:52.524506",
     "exception": false,
     "start_time": "2022-06-26T12:06:44.679029",
     "status": "completed"
    },
    "tags": []
   },
   "outputs": [],
   "source": [
    "import os\n",
    "import re\n",
    "import cv2\n",
    "import timm\n",
    "import torch\n",
    "import numpy as np\n",
    "import pandas as pd\n",
    "import matplotlib.pyplot as plt\n",
    "\n",
    "from time import time\n",
    "from torch import nn, optim\n",
    "from torch.utils.data import Dataset\n",
    "from torch.utils.data import DataLoader as DL\n",
    "from torchvision import models, transforms\n",
    "\n",
    "from sklearn.preprocessing import LabelEncoder"
   ]
  },
  {
   "cell_type": "markdown",
   "id": "d9cdb591",
   "metadata": {
    "papermill": {
     "duration": 0.003356,
     "end_time": "2022-06-26T12:06:52.531641",
     "exception": false,
     "start_time": "2022-06-26T12:06:52.528285",
     "status": "completed"
    },
    "tags": []
   },
   "source": [
    "### **Utilities and Helpers**"
   ]
  },
  {
   "cell_type": "code",
   "execution_count": 3,
   "id": "b4758327",
   "metadata": {
    "execution": {
     "iopub.execute_input": "2022-06-26T12:06:52.540443Z",
     "iopub.status.busy": "2022-06-26T12:06:52.539671Z",
     "iopub.status.idle": "2022-06-26T12:06:52.597735Z",
     "shell.execute_reply": "2022-06-26T12:06:52.596998Z"
    },
    "papermill": {
     "duration": 0.064263,
     "end_time": "2022-06-26T12:06:52.599356",
     "exception": false,
     "start_time": "2022-06-26T12:06:52.535093",
     "status": "completed"
    },
    "tags": []
   },
   "outputs": [],
   "source": [
    "SEED = 42\n",
    "SIZE = 384\n",
    "FOLD = 3\n",
    "\n",
    "TRANSFORM = transforms.Compose([transforms.ToTensor(),\n",
    "                                transforms.Normalize([0.49699, 0.58823, 0.23049],\n",
    "                                                     [0.22591, 0.22614, 0.18264]),\n",
    "                                ])\n",
    "\n",
    "MODEL_PATH_1 = f\"../input/pdc-d169-na{SIZE}f-noes-f{FOLD}/saves/ble_state.pt\"\n",
    "MODEL_PATH_2 = f\"../input/pdc-d201-na{SIZE}f-noes-f{FOLD}/saves/ble_state.pt\"\n",
    "MODEL_PATH_3 = f\"../input/pdc-en2-na{SIZE}f-noes-f{FOLD}/saves/ble_state.pt\"\n",
    "\n",
    "DEVICE = torch.device(\"cuda\" if torch.cuda.is_available() else \"cpu\")\n",
    "\n",
    "le = LabelEncoder()\n",
    "\n",
    "\n",
    "def breaker(num: int=50, char: str=\"*\") -> None:\n",
    "    print(\"\\n\" + num*char + \"\\n\")\n",
    "\n",
    "\n",
    "def get_image(path: str, size: int=224) -> np.ndarray:\n",
    "    return cv2.resize(src=cv2.cvtColor(src=cv2.imread(path, cv2.IMREAD_COLOR), code=cv2.COLOR_BGR2RGB), dsize=(size, size), interpolation=cv2.INTER_AREA)"
   ]
  },
  {
   "cell_type": "markdown",
   "id": "60f3ae27",
   "metadata": {
    "papermill": {
     "duration": 0.003259,
     "end_time": "2022-06-26T12:06:52.606064",
     "exception": false,
     "start_time": "2022-06-26T12:06:52.602805",
     "status": "completed"
    },
    "tags": []
   },
   "source": [
    "### **Configuration**"
   ]
  },
  {
   "cell_type": "markdown",
   "id": "040e0490",
   "metadata": {
    "papermill": {
     "duration": 0.003402,
     "end_time": "2022-06-26T12:06:52.612873",
     "exception": false,
     "start_time": "2022-06-26T12:06:52.609471",
     "status": "completed"
    },
    "tags": []
   },
   "source": [
    "### **Dataset Template**"
   ]
  },
  {
   "cell_type": "code",
   "execution_count": 4,
   "id": "50a72f5a",
   "metadata": {
    "execution": {
     "iopub.execute_input": "2022-06-26T12:06:52.621117Z",
     "iopub.status.busy": "2022-06-26T12:06:52.620834Z",
     "iopub.status.idle": "2022-06-26T12:06:52.626757Z",
     "shell.execute_reply": "2022-06-26T12:06:52.625995Z"
    },
    "papermill": {
     "duration": 0.011889,
     "end_time": "2022-06-26T12:06:52.628521",
     "exception": false,
     "start_time": "2022-06-26T12:06:52.616632",
     "status": "completed"
    },
    "tags": []
   },
   "outputs": [],
   "source": [
    "class DS(Dataset):\n",
    "    def __init__(self, base_path: str, filenames: np.ndarray, size: int=224, transform=None):\n",
    "        self.base_path = base_path\n",
    "        self.filenames = filenames\n",
    "        self.size = size\n",
    "        self.transform = transform\n",
    "    \n",
    "    def __len__(self):\n",
    "        return self.filenames.shape[0]\n",
    "    \n",
    "    def __getitem__(self, idx):\n",
    "        return self.transform(get_image(os.path.join(self.base_path, self.filenames[idx]), size=self.size))"
   ]
  },
  {
   "cell_type": "markdown",
   "id": "cd6e1aa5",
   "metadata": {
    "papermill": {
     "duration": 0.003186,
     "end_time": "2022-06-26T12:06:52.635114",
     "exception": false,
     "start_time": "2022-06-26T12:06:52.631928",
     "status": "completed"
    },
    "tags": []
   },
   "source": [
    "### **Model**"
   ]
  },
  {
   "cell_type": "code",
   "execution_count": 5,
   "id": "552ca599",
   "metadata": {
    "execution": {
     "iopub.execute_input": "2022-06-26T12:06:52.643004Z",
     "iopub.status.busy": "2022-06-26T12:06:52.642751Z",
     "iopub.status.idle": "2022-06-26T12:06:52.650984Z",
     "shell.execute_reply": "2022-06-26T12:06:52.650194Z"
    },
    "papermill": {
     "duration": 0.014186,
     "end_time": "2022-06-26T12:06:52.652772",
     "exception": false,
     "start_time": "2022-06-26T12:06:52.638586",
     "status": "completed"
    },
    "tags": []
   },
   "outputs": [],
   "source": [
    "class Model(nn.Module):\n",
    "    def __init__(self, model_name=\"densenet\"):\n",
    "        super(Model, self).__init__()\n",
    "\n",
    "        if model_name == \"densenet169\":\n",
    "            self.model = models.densenet169(pretrained=False, progress=True)\n",
    "            # self.freeze()\n",
    "            self.model.classifier = nn.Linear(in_features=self.model.classifier.in_features, out_features=10)\n",
    "        \n",
    "        elif model_name == \"densenet201\":\n",
    "            self.model = models.densenet201(pretrained=False, progress=True)\n",
    "            # self.freeze()\n",
    "            self.model.classifier = nn.Linear(in_features=self.model.classifier.in_features, out_features=10)\n",
    "            \n",
    "        else:\n",
    "            self.model = timm.create_model(model_name=\"efficientnet_b2\", pretrained=False)\n",
    "            # self.freeze()\n",
    "            self.model.classifier = nn.Linear(in_features=self.model.classifier.in_features, out_features=10)\n",
    "    \n",
    "    def freeze(self):\n",
    "        for params in self.parameters(): params.requires_grad = False\n",
    "\n",
    "    def forward(self, x):\n",
    "        return nn.LogSoftmax(dim=1)(self.model(x))"
   ]
  },
  {
   "cell_type": "markdown",
   "id": "c9293959",
   "metadata": {
    "papermill": {
     "duration": 0.003229,
     "end_time": "2022-06-26T12:06:52.659390",
     "exception": false,
     "start_time": "2022-06-26T12:06:52.656161",
     "status": "completed"
    },
    "tags": []
   },
   "source": [
    "### **Predict Helpers**"
   ]
  },
  {
   "cell_type": "code",
   "execution_count": 6,
   "id": "146ea2ef",
   "metadata": {
    "execution": {
     "iopub.execute_input": "2022-06-26T12:06:52.667455Z",
     "iopub.status.busy": "2022-06-26T12:06:52.666970Z",
     "iopub.status.idle": "2022-06-26T12:06:52.677602Z",
     "shell.execute_reply": "2022-06-26T12:06:52.676948Z"
    },
    "papermill": {
     "duration": 0.016492,
     "end_time": "2022-06-26T12:06:52.679283",
     "exception": false,
     "start_time": "2022-06-26T12:06:52.662791",
     "status": "completed"
    },
    "tags": []
   },
   "outputs": [],
   "source": [
    "def predict_batch(models: list=None, model_2=None, dataloader=None, paths: list=None, weights: list=None, device=None) -> np.ndarray:\n",
    "    assert len(models) == len(paths)\n",
    "    \n",
    "    for i in range(len(models)):\n",
    "        models[i].load_state_dict(torch.load(paths[i], map_location=device)[\"model_state_dict\"])\n",
    "        models[i].to(device)    \n",
    "        models[i].eval()\n",
    "    \n",
    "    y_pred = torch.zeros(1, 1).to(device)\n",
    "    \n",
    "    for X in dataloader:\n",
    "        X = X.to(device)\n",
    "        with torch.no_grad():\n",
    "            if weights is None:\n",
    "                output = torch.argmax(torch.exp(models[0](X)) + torch.exp(models[1](X)) + torch.exp(models[2](X)), dim=1)\n",
    "            else:\n",
    "                output = weights[0] * torch.exp(models[0](X)) + weights[1] * torch.exp(models[1](X)) + weights[2] * torch.exp(models[2](X))\n",
    "                output = torch.argmax(output, dim=1)\n",
    "        y_pred = torch.cat((y_pred, output.view(-1, 1)), dim=0)\n",
    "    \n",
    "    return y_pred[1:].detach().cpu().numpy()"
   ]
  },
  {
   "cell_type": "markdown",
   "id": "277d5e36",
   "metadata": {
    "papermill": {
     "duration": 0.003291,
     "end_time": "2022-06-26T12:06:52.686061",
     "exception": false,
     "start_time": "2022-06-26T12:06:52.682770",
     "status": "completed"
    },
    "tags": []
   },
   "source": [
    "### **Submission**"
   ]
  },
  {
   "cell_type": "code",
   "execution_count": 7,
   "id": "b1dde123",
   "metadata": {
    "execution": {
     "iopub.execute_input": "2022-06-26T12:06:52.693850Z",
     "iopub.status.busy": "2022-06-26T12:06:52.693595Z",
     "iopub.status.idle": "2022-06-26T12:08:41.075045Z",
     "shell.execute_reply": "2022-06-26T12:08:41.074233Z"
    },
    "papermill": {
     "duration": 108.387966,
     "end_time": "2022-06-26T12:08:41.077447",
     "exception": false,
     "start_time": "2022-06-26T12:06:52.689481",
     "status": "completed"
    },
    "tags": []
   },
   "outputs": [],
   "source": [
    "df = pd.read_csv(\"../input/paddy-disease-classification/train.csv\")\n",
    "ss_df = pd.read_csv(\"../input/paddy-disease-classification/sample_submission.csv\")\n",
    "\n",
    "labels = df.label.copy().values\n",
    "labels = le.fit_transform(labels)\n",
    "\n",
    "ts_data_setup = DS(base_path=\"../input/paddy-disease-classification/test_images\", \n",
    "                   filenames=ss_df.image_id.copy().values,\n",
    "                   size=SIZE,\n",
    "                   transform=TRANSFORM)\n",
    "ts_data = DL(ts_data_setup, batch_size=64, shuffle=False)\n",
    "\n",
    "model_1 = Model(\"densenet169\").to(DEVICE)\n",
    "model_2 = Model(\"densenet201\").to(DEVICE)\n",
    "model_3 = Model(\"efficientnet\").to(DEVICE)\n",
    "\n",
    "y_pred = predict_batch(models=[model_1, model_2, model_3], \n",
    "                       dataloader=ts_data, \n",
    "                       paths=[MODEL_PATH_1, MODEL_PATH_2, MODEL_PATH_3],\n",
    "                       weights=[0.2, 0.8, 0.8],\n",
    "                       device=DEVICE)\n",
    "\n",
    "ss_df[\"label\"] = le.inverse_transform(y_pred.astype(\"uint8\").reshape(-1))\n",
    "ss_df.to_csv(\"submission.csv\", index=False)"
   ]
  }
 ],
 "metadata": {
  "kernelspec": {
   "display_name": "Python 3",
   "language": "python",
   "name": "python3"
  },
  "language_info": {
   "codemirror_mode": {
    "name": "ipython",
    "version": 3
   },
   "file_extension": ".py",
   "mimetype": "text/x-python",
   "name": "python",
   "nbconvert_exporter": "python",
   "pygments_lexer": "ipython3",
   "version": "3.7.12"
  },
  "papermill": {
   "default_parameters": {},
   "duration": 139.422822,
   "end_time": "2022-06-26T12:08:44.015128",
   "environment_variables": {},
   "exception": null,
   "input_path": "__notebook__.ipynb",
   "output_path": "__notebook__.ipynb",
   "parameters": {},
   "start_time": "2022-06-26T12:06:24.592306",
   "version": "2.3.4"
  }
 },
 "nbformat": 4,
 "nbformat_minor": 5
}
