{
 "cells": [
  {
   "cell_type": "markdown",
   "id": "37e153a3",
   "metadata": {
    "papermill": {
     "duration": 0.004374,
     "end_time": "2022-07-21T04:33:05.385507",
     "exception": false,
     "start_time": "2022-07-21T04:33:05.381133",
     "status": "completed"
    },
    "tags": []
   },
   "source": [
    "### **Setup**"
   ]
  },
  {
   "cell_type": "code",
   "execution_count": 1,
   "id": "009044cd",
   "metadata": {
    "execution": {
     "iopub.execute_input": "2022-07-21T04:33:05.396520Z",
     "iopub.status.busy": "2022-07-21T04:33:05.396021Z",
     "iopub.status.idle": "2022-07-21T04:33:16.748575Z",
     "shell.execute_reply": "2022-07-21T04:33:16.747538Z"
    },
    "papermill": {
     "duration": 11.360107,
     "end_time": "2022-07-21T04:33:16.751238",
     "exception": false,
     "start_time": "2022-07-21T04:33:05.391131",
     "status": "completed"
    },
    "tags": []
   },
   "outputs": [
    {
     "name": "stderr",
     "output_type": "stream",
     "text": [
      "WARNING: Running pip as the 'root' user can result in broken permissions and conflicting behaviour with the system package manager. It is recommended to use a virtual environment instead: https://pip.pypa.io/warnings/venv\n"
     ]
    }
   ],
   "source": [
    "%%bash\n",
    "pip install timm -q"
   ]
  },
  {
   "cell_type": "markdown",
   "id": "65f36fca",
   "metadata": {
    "papermill": {
     "duration": 0.00355,
     "end_time": "2022-07-21T04:33:16.759251",
     "exception": false,
     "start_time": "2022-07-21T04:33:16.755701",
     "status": "completed"
    },
    "tags": []
   },
   "source": [
    "### **Library Imports**"
   ]
  },
  {
   "cell_type": "code",
   "execution_count": 2,
   "id": "39947f62",
   "metadata": {
    "execution": {
     "iopub.execute_input": "2022-07-21T04:33:16.767514Z",
     "iopub.status.busy": "2022-07-21T04:33:16.767224Z",
     "iopub.status.idle": "2022-07-21T04:33:25.453551Z",
     "shell.execute_reply": "2022-07-21T04:33:25.452614Z"
    },
    "papermill": {
     "duration": 8.692988,
     "end_time": "2022-07-21T04:33:25.455672",
     "exception": false,
     "start_time": "2022-07-21T04:33:16.762684",
     "status": "completed"
    },
    "tags": []
   },
   "outputs": [],
   "source": [
    "import os\n",
    "import re\n",
    "import cv2\n",
    "import timm\n",
    "import torch\n",
    "import numpy as np\n",
    "import pandas as pd\n",
    "import matplotlib.pyplot as plt\n",
    "\n",
    "from time import time\n",
    "from torch import nn, optim\n",
    "from torch.utils.data import Dataset\n",
    "from torch.utils.data import DataLoader as DL\n",
    "from torchvision import models, transforms\n",
    "\n",
    "from sklearn.preprocessing import LabelEncoder"
   ]
  },
  {
   "cell_type": "markdown",
   "id": "3b746a36",
   "metadata": {
    "papermill": {
     "duration": 0.003357,
     "end_time": "2022-07-21T04:33:25.462992",
     "exception": false,
     "start_time": "2022-07-21T04:33:25.459635",
     "status": "completed"
    },
    "tags": []
   },
   "source": [
    "### **Utilities and Helpers**"
   ]
  },
  {
   "cell_type": "code",
   "execution_count": 3,
   "id": "02b34149",
   "metadata": {
    "execution": {
     "iopub.execute_input": "2022-07-21T04:33:25.471865Z",
     "iopub.status.busy": "2022-07-21T04:33:25.471127Z",
     "iopub.status.idle": "2022-07-21T04:33:25.540534Z",
     "shell.execute_reply": "2022-07-21T04:33:25.539801Z"
    },
    "papermill": {
     "duration": 0.075621,
     "end_time": "2022-07-21T04:33:25.542108",
     "exception": false,
     "start_time": "2022-07-21T04:33:25.466487",
     "status": "completed"
    },
    "tags": []
   },
   "outputs": [],
   "source": [
    "SEED: int = 42\n",
    "SIZE: int = 512\n",
    "FOLD: int = 3\n",
    "\n",
    "TRANSFORM = transforms.Compose([transforms.ToTensor(),\n",
    "                                transforms.Normalize([0.49650, 0.58774, 0.23004],\n",
    "                                                     [0.22750, 0.22771, 0.18430]),\n",
    "                                ])\n",
    "\n",
    "MODEL_PATH_1: str = \"../input/pdc-d169-a512f-f3/saves/ble_state.pt\"\n",
    "MODEL_PATH_2: str = \"../input/pdc-en2-a512f-f3/saves/ble_state.pt\"\n",
    "\n",
    "\n",
    "DEVICE = torch.device(\"cuda\" if torch.cuda.is_available() else \"cpu\")\n",
    "\n",
    "le = LabelEncoder()\n",
    "\n",
    "\n",
    "def breaker(num: int=50, char: str=\"*\") -> None:\n",
    "    print(\"\\n\" + num*char + \"\\n\")\n",
    "\n",
    "\n",
    "def get_image(path: str, size: int=224) -> np.ndarray:\n",
    "    return cv2.resize(src=cv2.cvtColor(src=cv2.imread(path, cv2.IMREAD_COLOR), code=cv2.COLOR_BGR2RGB), dsize=(size, size), interpolation=cv2.INTER_AREA)"
   ]
  },
  {
   "cell_type": "markdown",
   "id": "e20f2c8d",
   "metadata": {
    "papermill": {
     "duration": 0.00332,
     "end_time": "2022-07-21T04:33:25.549018",
     "exception": false,
     "start_time": "2022-07-21T04:33:25.545698",
     "status": "completed"
    },
    "tags": []
   },
   "source": [
    "### **Configuration**"
   ]
  },
  {
   "cell_type": "markdown",
   "id": "65fe651a",
   "metadata": {
    "papermill": {
     "duration": 0.003273,
     "end_time": "2022-07-21T04:33:25.555724",
     "exception": false,
     "start_time": "2022-07-21T04:33:25.552451",
     "status": "completed"
    },
    "tags": []
   },
   "source": [
    "### **Dataset Template**"
   ]
  },
  {
   "cell_type": "code",
   "execution_count": 4,
   "id": "d8398612",
   "metadata": {
    "execution": {
     "iopub.execute_input": "2022-07-21T04:33:25.563906Z",
     "iopub.status.busy": "2022-07-21T04:33:25.563285Z",
     "iopub.status.idle": "2022-07-21T04:33:25.569206Z",
     "shell.execute_reply": "2022-07-21T04:33:25.568517Z"
    },
    "papermill": {
     "duration": 0.011693,
     "end_time": "2022-07-21T04:33:25.570817",
     "exception": false,
     "start_time": "2022-07-21T04:33:25.559124",
     "status": "completed"
    },
    "tags": []
   },
   "outputs": [],
   "source": [
    "class DS(Dataset):\n",
    "    def __init__(self, base_path: str, filenames: np.ndarray, size: int=224, transform=None):\n",
    "        self.base_path = base_path\n",
    "        self.filenames = filenames\n",
    "        self.size = size\n",
    "        self.transform = transform\n",
    "    \n",
    "    def __len__(self):\n",
    "        return self.filenames.shape[0]\n",
    "    \n",
    "    def __getitem__(self, idx):\n",
    "        return self.transform(get_image(os.path.join(self.base_path, self.filenames[idx]), size=self.size))"
   ]
  },
  {
   "cell_type": "markdown",
   "id": "c7a81197",
   "metadata": {
    "papermill": {
     "duration": 0.003271,
     "end_time": "2022-07-21T04:33:25.577436",
     "exception": false,
     "start_time": "2022-07-21T04:33:25.574165",
     "status": "completed"
    },
    "tags": []
   },
   "source": [
    "### **Model**"
   ]
  },
  {
   "cell_type": "code",
   "execution_count": 5,
   "id": "8570cdc6",
   "metadata": {
    "execution": {
     "iopub.execute_input": "2022-07-21T04:33:25.585306Z",
     "iopub.status.busy": "2022-07-21T04:33:25.585065Z",
     "iopub.status.idle": "2022-07-21T04:33:25.593392Z",
     "shell.execute_reply": "2022-07-21T04:33:25.592766Z"
    },
    "papermill": {
     "duration": 0.014157,
     "end_time": "2022-07-21T04:33:25.595050",
     "exception": false,
     "start_time": "2022-07-21T04:33:25.580893",
     "status": "completed"
    },
    "tags": []
   },
   "outputs": [],
   "source": [
    "class Model(nn.Module):\n",
    "    def __init__(self, model_name=\"densenet\"):\n",
    "        super(Model, self).__init__()\n",
    "\n",
    "        if model_name == \"densenet169\":\n",
    "            self.model = models.densenet169(pretrained=False, progress=True)\n",
    "            # self.freeze()\n",
    "            self.model.classifier = nn.Linear(in_features=self.model.classifier.in_features, out_features=10)\n",
    "            \n",
    "        elif model_name == \"efficientnet_b2\":\n",
    "            self.model = timm.create_model(model_name=\"efficientnet_b2\", pretrained=False)\n",
    "            # self.freeze()\n",
    "            self.model.classifier = nn.Linear(in_features=self.model.classifier.in_features, out_features=10)\n",
    "        \n",
    "        else:\n",
    "            raise NotImplementedError(\"Model not Implemented\")\n",
    "    \n",
    "    def freeze(self):\n",
    "        for params in self.parameters(): params.requires_grad = False\n",
    "\n",
    "    def forward(self, x):\n",
    "        return nn.LogSoftmax(dim=1)(self.model(x))"
   ]
  },
  {
   "cell_type": "markdown",
   "id": "7a8a4d0a",
   "metadata": {
    "papermill": {
     "duration": 0.003339,
     "end_time": "2022-07-21T04:33:25.602205",
     "exception": false,
     "start_time": "2022-07-21T04:33:25.598866",
     "status": "completed"
    },
    "tags": []
   },
   "source": [
    "### **Predict Helpers**"
   ]
  },
  {
   "cell_type": "code",
   "execution_count": 6,
   "id": "d48be332",
   "metadata": {
    "execution": {
     "iopub.execute_input": "2022-07-21T04:33:25.610289Z",
     "iopub.status.busy": "2022-07-21T04:33:25.609714Z",
     "iopub.status.idle": "2022-07-21T04:33:25.618306Z",
     "shell.execute_reply": "2022-07-21T04:33:25.617635Z"
    },
    "papermill": {
     "duration": 0.014414,
     "end_time": "2022-07-21T04:33:25.620021",
     "exception": false,
     "start_time": "2022-07-21T04:33:25.605607",
     "status": "completed"
    },
    "tags": []
   },
   "outputs": [],
   "source": [
    "def predict_batch(models: list=None, model_2=None, dataloader=None, paths: list=None, weights: list=None, device=None) -> np.ndarray:\n",
    "    assert len(models) == len(paths)\n",
    "    \n",
    "    for i in range(len(models)):\n",
    "        models[i].load_state_dict(torch.load(paths[i], map_location=device)[\"model_state_dict\"])\n",
    "        models[i].to(device)    \n",
    "        models[i].eval()\n",
    "    \n",
    "    y_pred = torch.zeros(1, 1).to(device)\n",
    "    \n",
    "    for X in dataloader:\n",
    "        X = X.to(device)\n",
    "        with torch.no_grad():\n",
    "            output = torch.cat((\n",
    "                torch.argmax(torch.exp(models[0](X)), dim=1).reshape(-1, 1), \n",
    "                torch.argmax(torch.exp(models[1](X)), dim=1).reshape(-1, 1)), \n",
    "            dim=1)\n",
    "            \n",
    "        output = torch.mode(output, dim=1)[0]\n",
    "        y_pred = torch.cat((y_pred, output.view(-1, 1)), dim=0)\n",
    "    \n",
    "    return y_pred[1:].detach().cpu().numpy()"
   ]
  },
  {
   "cell_type": "markdown",
   "id": "9febd71b",
   "metadata": {
    "papermill": {
     "duration": 0.003204,
     "end_time": "2022-07-21T04:33:25.626659",
     "exception": false,
     "start_time": "2022-07-21T04:33:25.623455",
     "status": "completed"
    },
    "tags": []
   },
   "source": [
    "### **Submission**"
   ]
  },
  {
   "cell_type": "code",
   "execution_count": 7,
   "id": "3c50a98d",
   "metadata": {
    "execution": {
     "iopub.execute_input": "2022-07-21T04:33:25.634791Z",
     "iopub.status.busy": "2022-07-21T04:33:25.634254Z",
     "iopub.status.idle": "2022-07-21T04:35:03.377384Z",
     "shell.execute_reply": "2022-07-21T04:35:03.376526Z"
    },
    "papermill": {
     "duration": 97.749574,
     "end_time": "2022-07-21T04:35:03.379654",
     "exception": false,
     "start_time": "2022-07-21T04:33:25.630080",
     "status": "completed"
    },
    "tags": []
   },
   "outputs": [],
   "source": [
    "df = pd.read_csv(\"../input/paddy-disease-classification/train.csv\")\n",
    "ss_df = pd.read_csv(\"../input/paddy-disease-classification/sample_submission.csv\")\n",
    "\n",
    "labels = df.label.copy().values\n",
    "labels = le.fit_transform(labels)\n",
    "\n",
    "ts_data_setup = DS(base_path=\"../input/paddy-disease-classification/test_images\", \n",
    "                   filenames=ss_df.image_id.copy().values,\n",
    "                   size=SIZE,\n",
    "                   transform=TRANSFORM)\n",
    "ts_data = DL(ts_data_setup, batch_size=64, shuffle=False)\n",
    "\n",
    "model_1 = Model(\"densenet169\").to(DEVICE)\n",
    "model_2 = Model(\"efficientnet_b2\").to(DEVICE)\n",
    "\n",
    "y_pred = predict_batch(models=[model_1, model_2], \n",
    "                       dataloader=ts_data, \n",
    "                       paths=[MODEL_PATH_1, MODEL_PATH_2],\n",
    "                       device=DEVICE)\n",
    "\n",
    "ss_df[\"label\"] = le.inverse_transform(y_pred.astype(\"uint8\").reshape(-1))\n",
    "ss_df.to_csv(\"submission.csv\", index=False)"
   ]
  }
 ],
 "metadata": {
  "kernelspec": {
   "display_name": "Python 3",
   "language": "python",
   "name": "python3"
  },
  "language_info": {
   "codemirror_mode": {
    "name": "ipython",
    "version": 3
   },
   "file_extension": ".py",
   "mimetype": "text/x-python",
   "name": "python",
   "nbconvert_exporter": "python",
   "pygments_lexer": "ipython3",
   "version": "3.7.12"
  },
  "papermill": {
   "default_parameters": {},
   "duration": 129.401126,
   "end_time": "2022-07-21T04:35:06.604275",
   "environment_variables": {},
   "exception": null,
   "input_path": "__notebook__.ipynb",
   "output_path": "__notebook__.ipynb",
   "parameters": {},
   "start_time": "2022-07-21T04:32:57.203149",
   "version": "2.3.4"
  }
 },
 "nbformat": 4,
 "nbformat_minor": 5
}
