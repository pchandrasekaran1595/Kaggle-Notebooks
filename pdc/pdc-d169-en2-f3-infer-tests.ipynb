{
 "cells": [
  {
   "cell_type": "markdown",
   "id": "7304b1ab",
   "metadata": {
    "papermill": {
     "duration": 0.004444,
     "end_time": "2022-06-24T23:38:16.471001",
     "exception": false,
     "start_time": "2022-06-24T23:38:16.466557",
     "status": "completed"
    },
    "tags": []
   },
   "source": [
    "### **Setup**"
   ]
  },
  {
   "cell_type": "code",
   "execution_count": 1,
   "id": "89cf1a4b",
   "metadata": {
    "execution": {
     "iopub.execute_input": "2022-06-24T23:38:16.482544Z",
     "iopub.status.busy": "2022-06-24T23:38:16.481779Z",
     "iopub.status.idle": "2022-06-24T23:38:27.305973Z",
     "shell.execute_reply": "2022-06-24T23:38:27.304987Z"
    },
    "papermill": {
     "duration": 10.831244,
     "end_time": "2022-06-24T23:38:27.307999",
     "exception": false,
     "start_time": "2022-06-24T23:38:16.476755",
     "status": "completed"
    },
    "tags": []
   },
   "outputs": [
    {
     "name": "stderr",
     "output_type": "stream",
     "text": [
      "WARNING: Running pip as the 'root' user can result in broken permissions and conflicting behaviour with the system package manager. It is recommended to use a virtual environment instead: https://pip.pypa.io/warnings/venv\n"
     ]
    }
   ],
   "source": [
    "%%bash\n",
    "pip install timm -q"
   ]
  },
  {
   "cell_type": "markdown",
   "id": "32229539",
   "metadata": {
    "papermill": {
     "duration": 0.003303,
     "end_time": "2022-06-24T23:38:27.315855",
     "exception": false,
     "start_time": "2022-06-24T23:38:27.312552",
     "status": "completed"
    },
    "tags": []
   },
   "source": [
    "### **Library Imports**"
   ]
  },
  {
   "cell_type": "code",
   "execution_count": 2,
   "id": "7f07c922",
   "metadata": {
    "execution": {
     "iopub.execute_input": "2022-06-24T23:38:27.323960Z",
     "iopub.status.busy": "2022-06-24T23:38:27.323661Z",
     "iopub.status.idle": "2022-06-24T23:38:35.344102Z",
     "shell.execute_reply": "2022-06-24T23:38:35.343138Z"
    },
    "papermill": {
     "duration": 8.027239,
     "end_time": "2022-06-24T23:38:35.346544",
     "exception": false,
     "start_time": "2022-06-24T23:38:27.319305",
     "status": "completed"
    },
    "tags": []
   },
   "outputs": [],
   "source": [
    "import os\n",
    "import re\n",
    "import cv2\n",
    "import timm\n",
    "import torch\n",
    "import numpy as np\n",
    "import pandas as pd\n",
    "import matplotlib.pyplot as plt\n",
    "\n",
    "from time import time\n",
    "from torch import nn, optim\n",
    "from torch.utils.data import Dataset\n",
    "from torch.utils.data import DataLoader as DL\n",
    "from torchvision import models, transforms\n",
    "\n",
    "from sklearn.preprocessing import LabelEncoder"
   ]
  },
  {
   "cell_type": "markdown",
   "id": "bbb7f936",
   "metadata": {
    "papermill": {
     "duration": 0.003316,
     "end_time": "2022-06-24T23:38:35.353541",
     "exception": false,
     "start_time": "2022-06-24T23:38:35.350225",
     "status": "completed"
    },
    "tags": []
   },
   "source": [
    "### **Utilities and Helpers**"
   ]
  },
  {
   "cell_type": "code",
   "execution_count": 3,
   "id": "7f726d58",
   "metadata": {
    "execution": {
     "iopub.execute_input": "2022-06-24T23:38:35.363083Z",
     "iopub.status.busy": "2022-06-24T23:38:35.361653Z",
     "iopub.status.idle": "2022-06-24T23:38:35.425152Z",
     "shell.execute_reply": "2022-06-24T23:38:35.424309Z"
    },
    "papermill": {
     "duration": 0.069973,
     "end_time": "2022-06-24T23:38:35.426948",
     "exception": false,
     "start_time": "2022-06-24T23:38:35.356975",
     "status": "completed"
    },
    "tags": []
   },
   "outputs": [],
   "source": [
    "SEED = 42\n",
    "SIZE = 384\n",
    "FOLD = 3\n",
    "TRANSFORM = transforms.Compose([transforms.ToTensor(),\n",
    "                                transforms.Normalize([0.49699, 0.58823, 0.23049],\n",
    "                                                     [0.22591, 0.22614, 0.18264]),\n",
    "                                ])\n",
    "MODEL_PATH_1 = f\"../input/pdc-d169-na{SIZE}f-noes-f{FOLD}/saves/ble_state.pt\"\n",
    "MODEL_PATH_2 = f\"../input/pdc-en2-na{SIZE}f-noes-f{FOLD}/saves/ble_state.pt\"\n",
    "\n",
    "DEVICE = torch.device(\"cuda\" if torch.cuda.is_available() else \"cpu\")\n",
    "\n",
    "le = LabelEncoder()\n",
    "\n",
    "\n",
    "def breaker(num: int=50, char: str=\"*\") -> None:\n",
    "    print(\"\\n\" + num*char + \"\\n\")\n",
    "\n",
    "\n",
    "def get_image(path: str, size: int=224) -> np.ndarray:\n",
    "    return cv2.resize(src=cv2.cvtColor(src=cv2.imread(path, cv2.IMREAD_COLOR), code=cv2.COLOR_BGR2RGB), dsize=(size, size), interpolation=cv2.INTER_AREA)"
   ]
  },
  {
   "cell_type": "markdown",
   "id": "43560120",
   "metadata": {
    "papermill": {
     "duration": 0.003603,
     "end_time": "2022-06-24T23:38:35.434216",
     "exception": false,
     "start_time": "2022-06-24T23:38:35.430613",
     "status": "completed"
    },
    "tags": []
   },
   "source": [
    "### **Configuration**"
   ]
  },
  {
   "cell_type": "markdown",
   "id": "f4d55b18",
   "metadata": {
    "papermill": {
     "duration": 0.003412,
     "end_time": "2022-06-24T23:38:35.441001",
     "exception": false,
     "start_time": "2022-06-24T23:38:35.437589",
     "status": "completed"
    },
    "tags": []
   },
   "source": [
    "### **Dataset Template**"
   ]
  },
  {
   "cell_type": "code",
   "execution_count": 4,
   "id": "9796106e",
   "metadata": {
    "execution": {
     "iopub.execute_input": "2022-06-24T23:38:35.448980Z",
     "iopub.status.busy": "2022-06-24T23:38:35.448688Z",
     "iopub.status.idle": "2022-06-24T23:38:35.454885Z",
     "shell.execute_reply": "2022-06-24T23:38:35.454073Z"
    },
    "papermill": {
     "duration": 0.012094,
     "end_time": "2022-06-24T23:38:35.456539",
     "exception": false,
     "start_time": "2022-06-24T23:38:35.444445",
     "status": "completed"
    },
    "tags": []
   },
   "outputs": [],
   "source": [
    "class DS(Dataset):\n",
    "    def __init__(self, base_path: str, filenames: np.ndarray, size: int=224, transform=None):\n",
    "        self.base_path = base_path\n",
    "        self.filenames = filenames\n",
    "        self.size = size\n",
    "        self.transform = transform\n",
    "    \n",
    "    def __len__(self):\n",
    "        return self.filenames.shape[0]\n",
    "    \n",
    "    def __getitem__(self, idx):\n",
    "        return self.transform(get_image(os.path.join(self.base_path, self.filenames[idx]), size=self.size))"
   ]
  },
  {
   "cell_type": "markdown",
   "id": "4b2a840a",
   "metadata": {
    "papermill": {
     "duration": 0.003225,
     "end_time": "2022-06-24T23:38:35.463138",
     "exception": false,
     "start_time": "2022-06-24T23:38:35.459913",
     "status": "completed"
    },
    "tags": []
   },
   "source": [
    "### **Model**"
   ]
  },
  {
   "cell_type": "code",
   "execution_count": 5,
   "id": "f30adaae",
   "metadata": {
    "execution": {
     "iopub.execute_input": "2022-06-24T23:38:35.472059Z",
     "iopub.status.busy": "2022-06-24T23:38:35.470768Z",
     "iopub.status.idle": "2022-06-24T23:38:35.478771Z",
     "shell.execute_reply": "2022-06-24T23:38:35.478130Z"
    },
    "papermill": {
     "duration": 0.013879,
     "end_time": "2022-06-24T23:38:35.480395",
     "exception": false,
     "start_time": "2022-06-24T23:38:35.466516",
     "status": "completed"
    },
    "tags": []
   },
   "outputs": [],
   "source": [
    "class Model(nn.Module):\n",
    "    def __init__(self, model_name=\"densenet\"):\n",
    "        super(Model, self).__init__()\n",
    "\n",
    "        if model_name == \"densenet\":\n",
    "            self.model = models.densenet169(pretrained=False, progress=True)\n",
    "            # self.freeze()\n",
    "            self.model.classifier = nn.Linear(in_features=self.model.classifier.in_features, out_features=10)\n",
    "        else:\n",
    "            self.model = timm.create_model(model_name=\"efficientnet_b2\", pretrained=False)\n",
    "            # self.freeze()\n",
    "            self.model.classifier = nn.Linear(in_features=self.model.classifier.in_features, out_features=10)\n",
    "    \n",
    "    def freeze(self):\n",
    "        for params in self.parameters(): params.requires_grad = False\n",
    "\n",
    "    def forward(self, x):\n",
    "        return nn.LogSoftmax(dim=1)(self.model(x))"
   ]
  },
  {
   "cell_type": "markdown",
   "id": "cd44ef58",
   "metadata": {
    "papermill": {
     "duration": 0.003213,
     "end_time": "2022-06-24T23:38:35.487031",
     "exception": false,
     "start_time": "2022-06-24T23:38:35.483818",
     "status": "completed"
    },
    "tags": []
   },
   "source": [
    "### **Predict Helpers**"
   ]
  },
  {
   "cell_type": "code",
   "execution_count": 6,
   "id": "4e6152b1",
   "metadata": {
    "execution": {
     "iopub.execute_input": "2022-06-24T23:38:35.496188Z",
     "iopub.status.busy": "2022-06-24T23:38:35.494913Z",
     "iopub.status.idle": "2022-06-24T23:38:35.503670Z",
     "shell.execute_reply": "2022-06-24T23:38:35.502991Z"
    },
    "papermill": {
     "duration": 0.014452,
     "end_time": "2022-06-24T23:38:35.505211",
     "exception": false,
     "start_time": "2022-06-24T23:38:35.490759",
     "status": "completed"
    },
    "tags": []
   },
   "outputs": [],
   "source": [
    "def predict_batch(models: list=None, model_2=None, dataloader=None, paths: list=None, weights: list=None, device=None) -> np.ndarray:\n",
    "    assert len(models) == len(paths)\n",
    "    \n",
    "    for i in range(len(models)):\n",
    "        models[i].load_state_dict(torch.load(paths[i], map_location=device)[\"model_state_dict\"])\n",
    "        models[i].to(device)    \n",
    "        models[i].eval()\n",
    "    \n",
    "    y_pred = torch.zeros(1, 1).to(device)\n",
    "    \n",
    "    for X in dataloader:\n",
    "        X = X.to(device)\n",
    "        with torch.no_grad():\n",
    "            output = weights[0]*torch.exp(models[0](X)) + weights[1]*torch.exp(models[1](X))\n",
    "            output = torch.argmax(output, dim=1)\n",
    "        y_pred = torch.cat((y_pred, output.view(-1, 1)), dim=0)\n",
    "    \n",
    "    return y_pred[1:].detach().cpu().numpy()"
   ]
  },
  {
   "cell_type": "markdown",
   "id": "abb860ec",
   "metadata": {
    "papermill": {
     "duration": 0.003245,
     "end_time": "2022-06-24T23:38:35.511918",
     "exception": false,
     "start_time": "2022-06-24T23:38:35.508673",
     "status": "completed"
    },
    "tags": []
   },
   "source": [
    "### **Submission**"
   ]
  },
  {
   "cell_type": "code",
   "execution_count": 7,
   "id": "de1d8f8a",
   "metadata": {
    "execution": {
     "iopub.execute_input": "2022-06-24T23:38:35.519730Z",
     "iopub.status.busy": "2022-06-24T23:38:35.519468Z",
     "iopub.status.idle": "2022-06-24T23:40:01.343587Z",
     "shell.execute_reply": "2022-06-24T23:40:01.342750Z"
    },
    "papermill": {
     "duration": 85.830508,
     "end_time": "2022-06-24T23:40:01.345838",
     "exception": false,
     "start_time": "2022-06-24T23:38:35.515330",
     "status": "completed"
    },
    "tags": []
   },
   "outputs": [],
   "source": [
    "df = pd.read_csv(\"../input/paddy-disease-classification/train.csv\")\n",
    "ss_df = pd.read_csv(\"../input/paddy-disease-classification/sample_submission.csv\")\n",
    "\n",
    "labels = df.label.copy().values\n",
    "labels = le.fit_transform(labels)\n",
    "\n",
    "ts_data_setup = DS(base_path=\"../input/paddy-disease-classification/test_images\", \n",
    "                   filenames=ss_df.image_id.copy().values,\n",
    "                   size=SIZE,\n",
    "                   transform=TRANSFORM)\n",
    "ts_data = DL(ts_data_setup, batch_size=64, shuffle=False)\n",
    "\n",
    "model_1 = Model(\"densenet\").to(DEVICE)\n",
    "model_2 = Model(\"efficientnet\").to(DEVICE)\n",
    "\n",
    "\n",
    "y_pred = predict_batch(models=[model_1, model_2], \n",
    "                       dataloader=ts_data, \n",
    "                       paths=[MODEL_PATH_1, MODEL_PATH_2],\n",
    "                       weights=[0.75, 0.25],\n",
    "                       device=DEVICE)\n",
    "\n",
    "ss_df[\"label\"] = le.inverse_transform(y_pred.astype(\"uint8\").reshape(-1))\n",
    "ss_df.to_csv(\"submission.csv\", index=False)"
   ]
  }
 ],
 "metadata": {
  "kernelspec": {
   "display_name": "Python 3",
   "language": "python",
   "name": "python3"
  },
  "language_info": {
   "codemirror_mode": {
    "name": "ipython",
    "version": 3
   },
   "file_extension": ".py",
   "mimetype": "text/x-python",
   "name": "python",
   "nbconvert_exporter": "python",
   "pygments_lexer": "ipython3",
   "version": "3.7.12"
  },
  "papermill": {
   "default_parameters": {},
   "duration": 116.557844,
   "end_time": "2022-06-24T23:40:04.696365",
   "environment_variables": {},
   "exception": null,
   "input_path": "__notebook__.ipynb",
   "output_path": "__notebook__.ipynb",
   "parameters": {},
   "start_time": "2022-06-24T23:38:08.138521",
   "version": "2.3.4"
  }
 },
 "nbformat": 4,
 "nbformat_minor": 5
}
