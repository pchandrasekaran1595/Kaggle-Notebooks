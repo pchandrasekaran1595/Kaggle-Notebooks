{
 "cells": [
  {
   "cell_type": "markdown",
   "id": "b0eac180",
   "metadata": {
    "_cell_guid": "b1076dfc-b9ad-4769-8c92-a6c4dae69d19",
    "_uuid": "8f2839f25d086af736a60e9eeb907d3b93b6e0e5",
    "papermill": {
     "duration": 0.00482,
     "end_time": "2022-08-27T03:13:03.660274",
     "exception": false,
     "start_time": "2022-08-27T03:13:03.655454",
     "status": "completed"
    },
    "tags": []
   },
   "source": [
    "### **Library Imports**"
   ]
  },
  {
   "cell_type": "code",
   "execution_count": 1,
   "id": "74f89538",
   "metadata": {
    "execution": {
     "iopub.execute_input": "2022-08-27T03:13:03.669632Z",
     "iopub.status.busy": "2022-08-27T03:13:03.668888Z",
     "iopub.status.idle": "2022-08-27T03:13:07.248957Z",
     "shell.execute_reply": "2022-08-27T03:13:07.248135Z"
    },
    "papermill": {
     "duration": 3.587404,
     "end_time": "2022-08-27T03:13:07.251547",
     "exception": false,
     "start_time": "2022-08-27T03:13:03.664143",
     "status": "completed"
    },
    "tags": []
   },
   "outputs": [],
   "source": [
    "import os\n",
    "import re\n",
    "import cv2\n",
    "import torch\n",
    "import numpy as np\n",
    "import pandas as pd\n",
    "import matplotlib.pyplot as plt\n",
    "\n",
    "from time import time\n",
    "from torch import nn, optim\n",
    "from torch.utils.data import Dataset\n",
    "from torch.utils.data import DataLoader as DL\n",
    "from torchvision import models, transforms\n",
    "\n",
    "from sklearn.model_selection import StratifiedKFold\n",
    "from sklearn.preprocessing import LabelEncoder\n",
    "from sklearn.metrics import accuracy_score"
   ]
  },
  {
   "cell_type": "markdown",
   "id": "429ab010",
   "metadata": {
    "papermill": {
     "duration": 0.00315,
     "end_time": "2022-08-27T03:13:07.258258",
     "exception": false,
     "start_time": "2022-08-27T03:13:07.255108",
     "status": "completed"
    },
    "tags": []
   },
   "source": [
    "### **Utilities and Helpers**"
   ]
  },
  {
   "cell_type": "code",
   "execution_count": 2,
   "id": "1cd3e114",
   "metadata": {
    "execution": {
     "iopub.execute_input": "2022-08-27T03:13:07.266174Z",
     "iopub.status.busy": "2022-08-27T03:13:07.265754Z",
     "iopub.status.idle": "2022-08-27T03:13:07.279040Z",
     "shell.execute_reply": "2022-08-27T03:13:07.278311Z"
    },
    "papermill": {
     "duration": 0.019094,
     "end_time": "2022-08-27T03:13:07.280692",
     "exception": false,
     "start_time": "2022-08-27T03:13:07.261598",
     "status": "completed"
    },
    "tags": []
   },
   "outputs": [],
   "source": [
    "SEED = 42\n",
    "SIZE = 384\n",
    "le = LabelEncoder()\n",
    "\n",
    "\n",
    "def breaker(num: int=50, char: str=\"*\") -> None:\n",
    "    print(\"\\n\" + num*char + \"\\n\")\n",
    "\n",
    "    \n",
    "def get_image(path: str, size: int=224) -> np.ndarray:\n",
    "    return cv2.resize(\n",
    "        src=cv2.cvtColor(src=cv2.imread(path, cv2.IMREAD_COLOR), code=cv2.COLOR_BGR2RGB), \n",
    "        dsize=(size, size), \n",
    "        interpolation=cv2.INTER_AREA\n",
    "    )\n",
    "\n",
    "    \n",
    "def show_loss_graphs(A: list) -> None:\n",
    "    TL, VL = [], []\n",
    "    for i in range(len(L)):\n",
    "        TL.append(L[i][\"train\"])\n",
    "        VL.append(L[i][\"valid\"])\n",
    "    x_Axis = np.arange(1, len(TL) + 1)\n",
    "    plt.figure()\n",
    "    plt.plot(x_Axis, TL, \"r\", label=\"Train\")\n",
    "    plt.plot(x_Axis, VL, \"b\", label=\"Valid\")\n",
    "    plt.legend()\n",
    "    plt.grid()\n",
    "    plt.title(\"Loss Graph\")\n",
    "    plt.show()\n",
    "\n",
    "    \n",
    "def show_accuracy_graphs(A: list) -> None:\n",
    "    TA, VA = [], []\n",
    "    for i in range(len(L)):\n",
    "        TA.append(A[i][\"train\"])\n",
    "        VA.append(A[i][\"valid\"])\n",
    "    x_Axis = np.arange(1, len(TA) + 1)\n",
    "    plt.figure()\n",
    "    plt.plot(x_Axis, TA, \"r\", label=\"Train\")\n",
    "    plt.plot(x_Axis, VA, \"b\", label=\"Valid\")\n",
    "    plt.legend()\n",
    "    plt.grid()\n",
    "    plt.title(\"Accuracy Graph\")\n",
    "    plt.show()\n",
    "\n",
    "\n",
    "def show_lr_graph(LR: list) -> None:\n",
    "    x_Axis = [i+1 for i in range(len(LR))]\n",
    "    plt.figure(figsize=(8, 6))\n",
    "    plt.plot(x_Axis, LR, \"rx\")\n",
    "    plt.grid()\n",
    "    plt.show()"
   ]
  },
  {
   "cell_type": "markdown",
   "id": "69d83a1b",
   "metadata": {
    "papermill": {
     "duration": 0.003098,
     "end_time": "2022-08-27T03:13:07.287054",
     "exception": false,
     "start_time": "2022-08-27T03:13:07.283956",
     "status": "completed"
    },
    "tags": []
   },
   "source": [
    "### **Configuration**"
   ]
  },
  {
   "cell_type": "code",
   "execution_count": 3,
   "id": "7c36b1fa",
   "metadata": {
    "execution": {
     "iopub.execute_input": "2022-08-27T03:13:07.294768Z",
     "iopub.status.busy": "2022-08-27T03:13:07.294339Z",
     "iopub.status.idle": "2022-08-27T03:13:07.367548Z",
     "shell.execute_reply": "2022-08-27T03:13:07.366693Z"
    },
    "papermill": {
     "duration": 0.07897,
     "end_time": "2022-08-27T03:13:07.369280",
     "exception": false,
     "start_time": "2022-08-27T03:13:07.290310",
     "status": "completed"
    },
    "tags": []
   },
   "outputs": [],
   "source": [
    "class CFG(object):\n",
    "    def __init__(self, \n",
    "                 seed: int = 42,\n",
    "                 n_splits: int = 5,\n",
    "                 batch_size: int = 16,\n",
    "                 epochs: int = 25,\n",
    "                 early_stopping: int = 5,\n",
    "                 lr: float = 1e-4,\n",
    "                 wd: float = 0.0,\n",
    "                 max_lr: float = 1e-3,\n",
    "                 pct_start: float = 0.2,\n",
    "                 steps_per_epoch: int = 100,\n",
    "                 div_factor: int = 1e3, \n",
    "                 final_div_factor: float = 1e3,\n",
    "                 ):\n",
    "        \n",
    "        self.seed = seed\n",
    "        self.n_splits = n_splits\n",
    "        self.batch_size = batch_size\n",
    "        self.epochs = epochs\n",
    "        self.early_stopping = early_stopping\n",
    "        self.lr = lr\n",
    "        self.wd = wd\n",
    "        self.max_lr = max_lr\n",
    "        self.pct_start = pct_start\n",
    "        self.steps_per_epoch = steps_per_epoch\n",
    "        self.div_factor = div_factor\n",
    "        self.final_div_factor = final_div_factor\n",
    "        self.device = torch.device(\"cuda\" if torch.cuda.is_available() else \"cpu\")\n",
    "        self.train_transform = transforms.Compose([transforms.ToTensor(),\n",
    "                                                   transforms.Normalize([0.49699, 0.58823, 0.23049],\n",
    "                                                                        [0.22591, 0.22614, 0.18264]),\n",
    "                                                   transforms.RandomAffine(degrees=(-45, 45), translate=(0.15, 0.15), scale=(0.5, 1.5)),\n",
    "                                                   transforms.RandomHorizontalFlip(p=0.25),\n",
    "                                                   transforms.RandomVerticalFlip(p=0.25),\n",
    "                                                  ])\n",
    "        self.valid_transform = transforms.Compose([transforms.ToTensor(),\n",
    "                                                   transforms.Normalize([0.49699, 0.58823, 0.23049],\n",
    "                                                                        [0.22591, 0.22614, 0.18264]),\n",
    "                                                  ])\n",
    "        self.save_path = \"saves\"\n",
    "        if not os.path.exists(self.save_path): os.makedirs(self.save_path)\n",
    "    \n",
    "cfg = CFG(seed=SEED)"
   ]
  },
  {
   "cell_type": "markdown",
   "id": "1e437a75",
   "metadata": {
    "papermill": {
     "duration": 0.003119,
     "end_time": "2022-08-27T03:13:07.375972",
     "exception": false,
     "start_time": "2022-08-27T03:13:07.372853",
     "status": "completed"
    },
    "tags": []
   },
   "source": [
    "### **Dataset Template**"
   ]
  },
  {
   "cell_type": "code",
   "execution_count": 4,
   "id": "23bda601",
   "metadata": {
    "execution": {
     "iopub.execute_input": "2022-08-27T03:13:07.384019Z",
     "iopub.status.busy": "2022-08-27T03:13:07.383345Z",
     "iopub.status.idle": "2022-08-27T03:13:07.390355Z",
     "shell.execute_reply": "2022-08-27T03:13:07.389602Z"
    },
    "papermill": {
     "duration": 0.01266,
     "end_time": "2022-08-27T03:13:07.392019",
     "exception": false,
     "start_time": "2022-08-27T03:13:07.379359",
     "status": "completed"
    },
    "tags": []
   },
   "outputs": [],
   "source": [
    "class DS(Dataset):\n",
    "    def __init__(self, \n",
    "                 base_path: str,\n",
    "                 size: int,\n",
    "                 filenames: np.ndarray, \n",
    "                 labelnames: np.ndarray, \n",
    "                 labels: np.ndarray, \n",
    "                 transform):\n",
    "        \n",
    "        self.base_path = base_path\n",
    "        self.size = size\n",
    "        self.filenames = filenames\n",
    "        self.labelnames = labelnames\n",
    "        self.labels = labels\n",
    "        self.transform = transform\n",
    "        \n",
    "    def __len__(self):\n",
    "        return self.filenames.shape[0]\n",
    "    \n",
    "    def __getitem__(self, idx):\n",
    "        image_path = os.path.join(os.path.join(self.base_path, self.labelnames[idx]), self.filenames[idx])\n",
    "        image = get_image(image_path, self.size)\n",
    "        return self.transform(image), torch.LongTensor(self.labels[idx])"
   ]
  },
  {
   "cell_type": "markdown",
   "id": "0b47c89b",
   "metadata": {
    "papermill": {
     "duration": 0.003077,
     "end_time": "2022-08-27T03:13:07.398362",
     "exception": false,
     "start_time": "2022-08-27T03:13:07.395285",
     "status": "completed"
    },
    "tags": []
   },
   "source": [
    "### **Model**"
   ]
  },
  {
   "cell_type": "code",
   "execution_count": 5,
   "id": "5f09d765",
   "metadata": {
    "execution": {
     "iopub.execute_input": "2022-08-27T03:13:07.406010Z",
     "iopub.status.busy": "2022-08-27T03:13:07.405550Z",
     "iopub.status.idle": "2022-08-27T03:13:07.411092Z",
     "shell.execute_reply": "2022-08-27T03:13:07.410233Z"
    },
    "papermill": {
     "duration": 0.011323,
     "end_time": "2022-08-27T03:13:07.412919",
     "exception": false,
     "start_time": "2022-08-27T03:13:07.401596",
     "status": "completed"
    },
    "tags": []
   },
   "outputs": [],
   "source": [
    "class Model(nn.Module):\n",
    "    def __init__(self):\n",
    "        super(Model, self).__init__()\n",
    "\n",
    "        self.model = models.densenet169(pretrained=False, progress=True)\n",
    "        # self.freeze()\n",
    "        self.model.classifier = nn.Linear(in_features=self.model.classifier.in_features, out_features=10)\n",
    "    \n",
    "    def freeze(self):\n",
    "        for params in self.parameters(): params.requires_grad = False\n",
    "\n",
    "    def forward(self, x):\n",
    "        return nn.LogSoftmax(dim=1)(self.model(x))"
   ]
  },
  {
   "cell_type": "markdown",
   "id": "b005e5a9",
   "metadata": {
    "papermill": {
     "duration": 0.003374,
     "end_time": "2022-08-27T03:13:07.419516",
     "exception": false,
     "start_time": "2022-08-27T03:13:07.416142",
     "status": "completed"
    },
    "tags": []
   },
   "source": [
    "### **Fit and Predict Helpers**"
   ]
  },
  {
   "cell_type": "code",
   "execution_count": 6,
   "id": "58c4d96e",
   "metadata": {
    "execution": {
     "iopub.execute_input": "2022-08-27T03:13:07.427690Z",
     "iopub.status.busy": "2022-08-27T03:13:07.427406Z",
     "iopub.status.idle": "2022-08-27T03:13:07.449787Z",
     "shell.execute_reply": "2022-08-27T03:13:07.449083Z"
    },
    "papermill": {
     "duration": 0.028998,
     "end_time": "2022-08-27T03:13:07.451741",
     "exception": false,
     "start_time": "2022-08-27T03:13:07.422743",
     "status": "completed"
    },
    "tags": []
   },
   "outputs": [],
   "source": [
    "def fit(model=None, \n",
    "        optimizer=None, \n",
    "        scheduler_rlrop=None,\n",
    "        scheduler_oclr=None,\n",
    "        epochs=None, \n",
    "        early_stopping_patience=None, \n",
    "        dataloaders=None, \n",
    "        fold=None, \n",
    "        save_path=None,\n",
    "        device=None,\n",
    "        verbose=False) -> tuple:\n",
    "    \n",
    "    def get_accuracy(y_pred, y_true):\n",
    "        y_pred = torch.argmax(y_pred, dim=1)\n",
    "        return torch.count_nonzero(y_pred == y_true).item() / len(y_pred)\n",
    "    \n",
    "    if verbose:\n",
    "        breaker()\n",
    "        if fold: print(f\"Training Fold {fold}...\")\n",
    "        else: print(\"Training ...\")\n",
    "        breaker()\n",
    "        \n",
    "    bestLoss, bestAccs = {\"train\" : np.inf, \"valid\" : np.inf}, {\"train\" : 0.0, \"valid\" : 0.0}\n",
    "    Losses, Accuracies, LRs = [], [], []\n",
    "    if fold: \n",
    "        ble_name = f\"ble_state_fold_{fold}.pt\"\n",
    "        bae_name = f\"bae_state_fold_{fold}.pt\"\n",
    "    else: \n",
    "        ble_name = \"ble_state.pt\"\n",
    "        bae_name = \"bae_state.pt\"\n",
    "\n",
    "    start_time = time()\n",
    "    for e in range(epochs):\n",
    "        e_st = time()\n",
    "        epochLoss, epochAccs = {\"train\" : 0.0, \"valid\" : 0.0}, {\"train\" : 0.0, \"valid\" : 0.0}\n",
    "\n",
    "        for phase in [\"train\", \"valid\"]:\n",
    "            if phase == \"train\":\n",
    "                model.train()\n",
    "            else:\n",
    "                model.eval()\n",
    "            \n",
    "            lossPerPass, accsPerPass = [], []\n",
    "\n",
    "            for X, y in dataloaders[phase]:\n",
    "                X, y = X.to(device), y.to(device).view(-1)\n",
    "\n",
    "                optimizer.zero_grad()\n",
    "                with torch.set_grad_enabled(phase == \"train\"):\n",
    "                    output = model(X)\n",
    "                    loss = torch.nn.NLLLoss()(output, y)\n",
    "                    if phase == \"train\":\n",
    "                        loss.backward()\n",
    "                        optimizer.step()\n",
    "                        if scheduler_oclr: scheduler_oclr.step()\n",
    "                lossPerPass.append(loss.item())\n",
    "                accsPerPass.append(get_accuracy(output, y))\n",
    "            epochLoss[phase] = np.mean(np.array(lossPerPass))\n",
    "            epochAccs[phase] = np.mean(np.array(accsPerPass))\n",
    "        if scheduler_oclr: LRs.append(scheduler_oclr.get_last_lr())\n",
    "        Losses.append(epochLoss)\n",
    "        Accuracies.append(epochAccs)\n",
    "        \n",
    "        if scheduler_oclr:\n",
    "            save_dict = {\"model_state_dict\"     : model.state_dict(),\n",
    "                         \"optim_state_dict\"     : optimizer.state_dict(),\n",
    "                         \"scheduler_state_dict\" : scheduler_oclr.state_dict()}\n",
    "        \n",
    "        elif scheduler_rlrop:\n",
    "            save_dict = {\"model_state_dict\"     : model.state_dict(),\n",
    "                         \"optim_state_dict\"     : optimizer.state_dict(),\n",
    "                         \"scheduler_state_dict\" : scheduler_rlrop.state_dict()}\n",
    "        \n",
    "        else:\n",
    "            save_dict = {\"model_state_dict\"     : model.state_dict(),\n",
    "                         \"optim_state_dict\"     : optimizer.state_dict()}\n",
    "        \n",
    "        if early_stopping_patience:\n",
    "            if epochLoss[\"valid\"] < bestLoss[\"valid\"]:\n",
    "                bestLoss = epochLoss\n",
    "                BLE = e + 1\n",
    "                torch.save(save_dict, os.path.join(save_path, name))\n",
    "                early_stopping_step = 0\n",
    "            else:\n",
    "                early_stopping_step += 1\n",
    "                if early_stopping_step > early_stopping_patience:\n",
    "                    print(\"\\nEarly Stopping at Epoch {}\".format(e + 1))\n",
    "                    break\n",
    "        \n",
    "        if epochLoss[\"valid\"] < bestLoss[\"valid\"]:\n",
    "            bestLoss = epochLoss\n",
    "            BLE = e + 1\n",
    "            torch.save(save_dict,os.path.join(save_path, ble_name))\n",
    "        \n",
    "        if epochAccs[\"valid\"] > bestAccs[\"valid\"]:\n",
    "            bestAccs = epochAccs\n",
    "            BAE = e + 1\n",
    "            torch.save(save_dict,os.path.join(save_path, bae_name))\n",
    "\n",
    "        \n",
    "        if scheduler_rlrop: scheduler_rlrop.step(epochLoss[\"valid\"])\n",
    "        \n",
    "        if verbose:\n",
    "            print(\"Epoch: {} | Train Loss: {:.5f} | Valid Loss: {:.5f} |\\\n",
    " Train Accs: {:.5f} | Valid Accs: {:.5f} | Time: {:.2f} seconds\".format(e+1, \n",
    "                                                                        epochLoss[\"train\"], epochLoss[\"valid\"], \n",
    "                                                                        epochAccs[\"train\"], epochAccs[\"valid\"], \n",
    "                                                                        time()-e_st))\n",
    "\n",
    "    if verbose:                                           \n",
    "        breaker()\n",
    "        print(f\"Best Validation Loss at Epoch {BLE}\")\n",
    "        breaker()\n",
    "        print(f\"Best Validation Accs at Epoch {BAE}\")\n",
    "        breaker()\n",
    "        print(\"Time Taken [{} Epochs] : {:.2f} minutes\".format(len(Losses), (time()-start_time)/60))\n",
    "    \n",
    "    return Losses, Accuracies, LRs, BLE, BAE, ble_name, bae_name\n",
    "\n",
    "\n",
    "def predict_batch(model=None, dataloader=None, path=None, device=None) -> np.ndarray:\n",
    "    model.load_state_dict(torch.load(path, map_location=device)[\"model_state_dict\"])\n",
    "    model.to(device)    \n",
    "    model.eval()\n",
    "    \n",
    "    y_pred = torch.zeros(1, 1).to(device)\n",
    "    \n",
    "    for X in dataloader:\n",
    "        X = X.to(device)\n",
    "        with torch.no_grad():\n",
    "            output = torch.argmax(torch.exp(model(X)), dim=1)\n",
    "        y_pred = torch.cat((y_pred, output.view(-1, 1)), dim=0)\n",
    "    \n",
    "    return y_pred[1:].detach().cpu().numpy()"
   ]
  },
  {
   "cell_type": "markdown",
   "id": "3d1f94c7",
   "metadata": {
    "papermill": {
     "duration": 0.00313,
     "end_time": "2022-08-27T03:13:07.458457",
     "exception": false,
     "start_time": "2022-08-27T03:13:07.455327",
     "status": "completed"
    },
    "tags": []
   },
   "source": [
    "### **Train**"
   ]
  },
  {
   "cell_type": "code",
   "execution_count": 7,
   "id": "3fc199a7",
   "metadata": {
    "execution": {
     "iopub.execute_input": "2022-08-27T03:13:07.466039Z",
     "iopub.status.busy": "2022-08-27T03:13:07.465781Z",
     "iopub.status.idle": "2022-08-27T03:13:07.496716Z",
     "shell.execute_reply": "2022-08-27T03:13:07.495990Z"
    },
    "papermill": {
     "duration": 0.036765,
     "end_time": "2022-08-27T03:13:07.498561",
     "exception": false,
     "start_time": "2022-08-27T03:13:07.461796",
     "status": "completed"
    },
    "tags": []
   },
   "outputs": [],
   "source": [
    "df = pd.read_csv(\"../input/paddy-disease-classification/train.csv\")\n",
    "\n",
    "filenames = df.image_id.copy().values\n",
    "labelnames = df.label.copy().values\n",
    "labels = le.fit_transform(labelnames)"
   ]
  },
  {
   "cell_type": "code",
   "execution_count": 8,
   "id": "7d8ef97f",
   "metadata": {
    "execution": {
     "iopub.execute_input": "2022-08-27T03:13:07.507136Z",
     "iopub.status.busy": "2022-08-27T03:13:07.506867Z",
     "iopub.status.idle": "2022-08-27T08:45:03.245230Z",
     "shell.execute_reply": "2022-08-27T08:45:03.244187Z"
    },
    "papermill": {
     "duration": 19915.744723,
     "end_time": "2022-08-27T08:45:03.247028",
     "exception": false,
     "start_time": "2022-08-27T03:13:07.502305",
     "status": "completed"
    },
    "tags": []
   },
   "outputs": [
    {
     "name": "stdout",
     "output_type": "stream",
     "text": [
      "\n",
      "**************************************************\n",
      "\n",
      "Training ...\n",
      "\n",
      "**************************************************\n",
      "\n",
      "Epoch: 1 | Train Loss: 2.16379 | Valid Loss: 1.78194 | Train Accs: 0.21361 | Valid Accs: 0.36546 | Time: 474.55 seconds\n",
      "Epoch: 2 | Train Loss: 1.69322 | Valid Loss: 1.45641 | Train Accs: 0.42079 | Valid Accs: 0.47376 | Time: 404.02 seconds\n",
      "Epoch: 3 | Train Loss: 1.49010 | Valid Loss: 1.52173 | Train Accs: 0.49644 | Valid Accs: 0.53626 | Time: 397.80 seconds\n",
      "Epoch: 4 | Train Loss: 1.36268 | Valid Loss: 1.34857 | Train Accs: 0.53467 | Valid Accs: 0.58874 | Time: 399.36 seconds\n",
      "Epoch: 5 | Train Loss: 1.28078 | Valid Loss: 1.43125 | Train Accs: 0.56478 | Valid Accs: 0.50763 | Time: 401.17 seconds\n",
      "Epoch: 6 | Train Loss: 1.21865 | Valid Loss: 1.23494 | Train Accs: 0.58725 | Valid Accs: 0.62023 | Time: 400.49 seconds\n",
      "Epoch: 7 | Train Loss: 1.17321 | Valid Loss: 1.44277 | Train Accs: 0.60821 | Valid Accs: 0.57490 | Time: 400.77 seconds\n",
      "Epoch: 8 | Train Loss: 1.14467 | Valid Loss: 1.31875 | Train Accs: 0.61736 | Valid Accs: 0.59113 | Time: 400.13 seconds\n",
      "Epoch: 9 | Train Loss: 1.06092 | Valid Loss: 1.11724 | Train Accs: 0.64759 | Valid Accs: 0.63836 | Time: 404.11 seconds\n",
      "Epoch: 10 | Train Loss: 1.00538 | Valid Loss: 0.93183 | Train Accs: 0.66071 | Valid Accs: 0.71326 | Time: 398.04 seconds\n",
      "Epoch: 11 | Train Loss: 0.94717 | Valid Loss: 0.90830 | Train Accs: 0.69138 | Valid Accs: 0.73139 | Time: 404.55 seconds\n",
      "Epoch: 12 | Train Loss: 0.88123 | Valid Loss: 1.14167 | Train Accs: 0.71077 | Valid Accs: 0.65601 | Time: 398.95 seconds\n",
      "Epoch: 13 | Train Loss: 0.83999 | Valid Loss: 0.70310 | Train Accs: 0.72065 | Valid Accs: 0.77481 | Time: 403.38 seconds\n",
      "Epoch: 14 | Train Loss: 0.81686 | Valid Loss: 0.57859 | Train Accs: 0.73576 | Valid Accs: 0.81727 | Time: 401.04 seconds\n",
      "Epoch: 15 | Train Loss: 0.73696 | Valid Loss: 0.57328 | Train Accs: 0.76440 | Valid Accs: 0.82013 | Time: 394.59 seconds\n",
      "Epoch: 16 | Train Loss: 0.70800 | Valid Loss: 0.87816 | Train Accs: 0.76915 | Valid Accs: 0.73473 | Time: 402.59 seconds\n",
      "Epoch: 17 | Train Loss: 0.68092 | Valid Loss: 0.62932 | Train Accs: 0.77627 | Valid Accs: 0.80296 | Time: 401.59 seconds\n",
      "Epoch: 18 | Train Loss: 0.61611 | Valid Loss: 0.46023 | Train Accs: 0.79503 | Valid Accs: 0.85782 | Time: 402.25 seconds\n",
      "Epoch: 19 | Train Loss: 0.59958 | Valid Loss: 0.43663 | Train Accs: 0.80230 | Valid Accs: 0.87357 | Time: 402.37 seconds\n",
      "Epoch: 20 | Train Loss: 0.56696 | Valid Loss: 0.53580 | Train Accs: 0.81434 | Valid Accs: 0.85019 | Time: 403.33 seconds\n",
      "Epoch: 21 | Train Loss: 0.51935 | Valid Loss: 0.33657 | Train Accs: 0.82730 | Valid Accs: 0.90744 | Time: 402.05 seconds\n",
      "Epoch: 22 | Train Loss: 0.46563 | Valid Loss: 0.37482 | Train Accs: 0.84841 | Valid Accs: 0.87405 | Time: 392.23 seconds\n",
      "Epoch: 23 | Train Loss: 0.47300 | Valid Loss: 0.34353 | Train Accs: 0.84649 | Valid Accs: 0.89695 | Time: 393.78 seconds\n",
      "Epoch: 24 | Train Loss: 0.43184 | Valid Loss: 0.37617 | Train Accs: 0.86008 | Valid Accs: 0.89838 | Time: 392.75 seconds\n",
      "Epoch: 25 | Train Loss: 0.39186 | Valid Loss: 0.38773 | Train Accs: 0.86976 | Valid Accs: 0.89074 | Time: 393.93 seconds\n",
      "Epoch: 26 | Train Loss: 0.38731 | Valid Loss: 0.28507 | Train Accs: 0.87588 | Valid Accs: 0.91269 | Time: 394.85 seconds\n",
      "Epoch: 27 | Train Loss: 0.35126 | Valid Loss: 0.26440 | Train Accs: 0.88644 | Valid Accs: 0.91460 | Time: 394.13 seconds\n",
      "Epoch: 28 | Train Loss: 0.33382 | Valid Loss: 0.25082 | Train Accs: 0.88900 | Valid Accs: 0.92891 | Time: 388.46 seconds\n",
      "Epoch: 29 | Train Loss: 0.30719 | Valid Loss: 0.25935 | Train Accs: 0.89943 | Valid Accs: 0.92557 | Time: 391.90 seconds\n",
      "Epoch: 30 | Train Loss: 0.28822 | Valid Loss: 0.18808 | Train Accs: 0.90191 | Valid Accs: 0.94466 | Time: 391.46 seconds\n",
      "Epoch: 31 | Train Loss: 0.25734 | Valid Loss: 0.24967 | Train Accs: 0.91435 | Valid Accs: 0.91746 | Time: 393.15 seconds\n",
      "Epoch: 32 | Train Loss: 0.25176 | Valid Loss: 0.18524 | Train Accs: 0.91715 | Valid Accs: 0.94656 | Time: 391.80 seconds\n",
      "Epoch: 33 | Train Loss: 0.21503 | Valid Loss: 0.18582 | Train Accs: 0.92790 | Valid Accs: 0.94418 | Time: 389.77 seconds\n",
      "Epoch: 34 | Train Loss: 0.21216 | Valid Loss: 0.16090 | Train Accs: 0.93258 | Valid Accs: 0.95038 | Time: 393.58 seconds\n",
      "Epoch: 35 | Train Loss: 0.21150 | Valid Loss: 0.16261 | Train Accs: 0.92850 | Valid Accs: 0.95563 | Time: 392.68 seconds\n",
      "Epoch: 36 | Train Loss: 0.17139 | Valid Loss: 0.15986 | Train Accs: 0.94506 | Valid Accs: 0.95086 | Time: 391.92 seconds\n",
      "Epoch: 37 | Train Loss: 0.16685 | Valid Loss: 0.15431 | Train Accs: 0.94722 | Valid Accs: 0.95897 | Time: 395.26 seconds\n",
      "Epoch: 38 | Train Loss: 0.15577 | Valid Loss: 0.12536 | Train Accs: 0.95042 | Valid Accs: 0.96565 | Time: 393.09 seconds\n",
      "Epoch: 39 | Train Loss: 0.14310 | Valid Loss: 0.12594 | Train Accs: 0.95266 | Valid Accs: 0.96135 | Time: 394.57 seconds\n",
      "Epoch: 40 | Train Loss: 0.12632 | Valid Loss: 0.12194 | Train Accs: 0.95925 | Valid Accs: 0.96803 | Time: 391.60 seconds\n",
      "Epoch: 41 | Train Loss: 0.11378 | Valid Loss: 0.11189 | Train Accs: 0.96413 | Valid Accs: 0.96994 | Time: 396.52 seconds\n",
      "Epoch: 42 | Train Loss: 0.11006 | Valid Loss: 0.11918 | Train Accs: 0.96341 | Valid Accs: 0.96565 | Time: 394.96 seconds\n",
      "Epoch: 43 | Train Loss: 0.09109 | Valid Loss: 0.11231 | Train Accs: 0.97145 | Valid Accs: 0.96994 | Time: 397.09 seconds\n",
      "Epoch: 44 | Train Loss: 0.09328 | Valid Loss: 0.12036 | Train Accs: 0.97157 | Valid Accs: 0.96756 | Time: 395.39 seconds\n",
      "Epoch: 45 | Train Loss: 0.08965 | Valid Loss: 0.10857 | Train Accs: 0.97169 | Valid Accs: 0.97281 | Time: 393.95 seconds\n",
      "Epoch: 46 | Train Loss: 0.08493 | Valid Loss: 0.10832 | Train Accs: 0.97205 | Valid Accs: 0.97233 | Time: 395.69 seconds\n",
      "Epoch: 47 | Train Loss: 0.07458 | Valid Loss: 0.10753 | Train Accs: 0.97725 | Valid Accs: 0.97233 | Time: 396.06 seconds\n",
      "Epoch: 48 | Train Loss: 0.07959 | Valid Loss: 0.10492 | Train Accs: 0.97485 | Valid Accs: 0.97471 | Time: 396.09 seconds\n",
      "Epoch: 49 | Train Loss: 0.07456 | Valid Loss: 0.10344 | Train Accs: 0.97673 | Valid Accs: 0.97424 | Time: 395.62 seconds\n",
      "Epoch: 50 | Train Loss: 0.07251 | Valid Loss: 0.10444 | Train Accs: 0.97745 | Valid Accs: 0.97281 | Time: 392.49 seconds\n",
      "\n",
      "**************************************************\n",
      "\n",
      "Best Validation Loss at Epoch 49\n",
      "\n",
      "**************************************************\n",
      "\n",
      "Best Validation Accs at Epoch 48\n",
      "\n",
      "**************************************************\n",
      "\n",
      "Time Taken [50 Epochs] : 331.87 minutes\n",
      "\n",
      "**************************************************\n",
      "\n"
     ]
    },
    {
     "data": {
      "image/png": "[encoded data removed]",
      "text/plain": [
       "<Figure size 432x288 with 1 Axes>"
      ]
     },
     "metadata": {
      "needs_background": "light"
     },
     "output_type": "display_data"
    },
    {
     "name": "stdout",
     "output_type": "stream",
     "text": [
      "\n",
      "**************************************************\n",
      "\n"
     ]
    },
    {
     "data": {
      "image/png": "[encoded data removed]",
      "text/plain": [
       "<Figure size 432x288 with 1 Axes>"
      ]
     },
     "metadata": {
      "needs_background": "light"
     },
     "output_type": "display_data"
    },
    {
     "name": "stdout",
     "output_type": "stream",
     "text": [
      "\n",
      "**************************************************\n",
      "\n"
     ]
    },
    {
     "data": {
      "image/png": "[encoded data removed]",
      "text/plain": [
       "<Figure size 576x432 with 1 Axes>"
      ]
     },
     "metadata": {
      "needs_background": "light"
     },
     "output_type": "display_data"
    },
    {
     "name": "stdout",
     "output_type": "stream",
     "text": [
      "\n",
      "**************************************************\n",
      "\n"
     ]
    }
   ],
   "source": [
    "fold = 1\n",
    "for tr_idx, va_idx in StratifiedKFold(n_splits=cfg.n_splits, random_state=cfg.seed, shuffle=True).split(filenames, labels):\n",
    "    if fold == 3: break\n",
    "    fold += 1\n",
    "\n",
    "tr_filenames, va_filenames   = filenames[tr_idx], filenames[va_idx], \n",
    "tr_labelnames, va_labelnames = labelnames[tr_idx], labelnames[va_idx]\n",
    "tr_labels, va_labels         = labels[tr_idx], labels[va_idx]\n",
    "\n",
    "tr_data_setup = DS(\n",
    "    \"../input/paddy-disease-classification/train_images\",\n",
    "    SIZE,\n",
    "    tr_filenames, \n",
    "    tr_labelnames, \n",
    "    tr_labels.reshape(-1, 1), \n",
    "    cfg.train_transform,\n",
    ")\n",
    "\n",
    "va_data_setup = DS(\n",
    "    \"../input/paddy-disease-classification/train_images\",\n",
    "    SIZE,\n",
    "    va_filenames, \n",
    "    va_labelnames, \n",
    "    va_labels.reshape(-1, 1), \n",
    "    cfg.valid_transform,\n",
    ")\n",
    "\n",
    "dataloaders = {\n",
    "    \"train\" : DL(tr_data_setup, batch_size=cfg.batch_size, shuffle=True, generator=torch.manual_seed(cfg.seed)),\n",
    "    \"valid\" : DL(va_data_setup, batch_size=cfg.batch_size, shuffle=False),\n",
    "}\n",
    "\n",
    "cfg = CFG(epochs=50, batch_size=64, steps_per_epoch=len(dataloaders[\"train\"]))\n",
    "\n",
    "torch.manual_seed(cfg.seed)\n",
    "model = Model().to(cfg.device)\n",
    "\n",
    "optimizer = optim.Adam([p for p in model.parameters() if p.requires_grad], lr=cfg.lr, weight_decay=cfg.wd)\n",
    "# optimizer = optim.AdamW([p for p in model.parameters() if p.requires_grad], lr=cfg.lr, weight_decay=cfg.wd)\n",
    "\n",
    "scheduler_oclr = optim.lr_scheduler.OneCycleLR(optimizer=optimizer, \n",
    "                                               max_lr=cfg.max_lr, \n",
    "                                               epochs=cfg.epochs, \n",
    "                                               steps_per_epoch=cfg.steps_per_epoch,\n",
    "                                               pct_start=cfg.pct_start, \n",
    "                                               div_factor=cfg.div_factor, \n",
    "                                               final_div_factor=cfg.final_div_factor)\n",
    "# scheduler_rlrop = optim.lr_scheduler.ReduceLROnPlateau(optimizer=optimizer,\n",
    "#                                                       patience=cfg.patience,\n",
    "#                                                       eps=cfg.eps,\n",
    "#                                                       verbose=True)\n",
    "\n",
    "# scheduler_oclr = None\n",
    "scheduler_rlrop = None\n",
    "\n",
    "L, A, LR, BLE, BAE, _, _ = fit(model=model, \n",
    "                               optimizer=optimizer, \n",
    "                               scheduler_oclr=scheduler_oclr,\n",
    "                               scheduler_rlrop=scheduler_rlrop,\n",
    "                               epochs=cfg.epochs, \n",
    "                               early_stopping_patience=None, \n",
    "                               dataloaders=dataloaders, \n",
    "                               device=cfg.device,\n",
    "                               save_path=cfg.save_path,\n",
    "                               fold=None,\n",
    "                               verbose=True)\n",
    "\n",
    "breaker()\n",
    "show_loss_graphs(L)\n",
    "breaker()\n",
    "show_accuracy_graphs(A)\n",
    "breaker()\n",
    "\n",
    "if scheduler_oclr:\n",
    "    show_lr_graph(LR)\n",
    "    breaker()"
   ]
  }
 ],
 "metadata": {
  "kernelspec": {
   "display_name": "Python 3",
   "language": "python",
   "name": "python3"
  },
  "language_info": {
   "codemirror_mode": {
    "name": "ipython",
    "version": 3
   },
   "file_extension": ".py",
   "mimetype": "text/x-python",
   "name": "python",
   "nbconvert_exporter": "python",
   "pygments_lexer": "ipython3",
   "version": "3.7.12"
  },
  "papermill": {
   "default_parameters": {},
   "duration": 19929.199185,
   "end_time": "2022-08-27T08:45:04.904459",
   "environment_variables": {},
   "exception": null,
   "input_path": "__notebook__.ipynb",
   "output_path": "__notebook__.ipynb",
   "parameters": {},
   "start_time": "2022-08-27T03:12:55.705274",
   "version": "2.3.4"
  }
 },
 "nbformat": 4,
 "nbformat_minor": 5
}
