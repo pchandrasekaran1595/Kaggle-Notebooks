{
 "cells": [
  {
   "cell_type": "code",
   "execution_count": 1,
   "id": "0153d990",
   "metadata": {
    "_cell_guid": "b1076dfc-b9ad-4769-8c92-a6c4dae69d19",
    "_uuid": "8f2839f25d086af736a60e9eeb907d3b93b6e0e5",
    "execution": {
     "iopub.execute_input": "2022-04-25T08:37:02.276018Z",
     "iopub.status.busy": "2022-04-25T08:37:02.275650Z",
     "iopub.status.idle": "2022-04-25T08:37:02.507343Z",
     "shell.execute_reply": "2022-04-25T08:37:02.506246Z"
    },
    "papermill": {
     "duration": 0.2438,
     "end_time": "2022-04-25T08:37:02.509938",
     "exception": false,
     "start_time": "2022-04-25T08:37:02.266138",
     "status": "completed"
    },
    "tags": []
   },
   "outputs": [],
   "source": [
    "import os\n",
    "import cv2\n",
    "import numpy as np\n",
    "import pandas as pd"
   ]
  },
  {
   "cell_type": "code",
   "execution_count": 2,
   "id": "19f138b0",
   "metadata": {
    "execution": {
     "iopub.execute_input": "2022-04-25T08:37:02.526377Z",
     "iopub.status.busy": "2022-04-25T08:37:02.525419Z",
     "iopub.status.idle": "2022-04-25T08:37:02.539587Z",
     "shell.execute_reply": "2022-04-25T08:37:02.538728Z"
    },
    "papermill": {
     "duration": 0.024392,
     "end_time": "2022-04-25T08:37:02.541748",
     "exception": false,
     "start_time": "2022-04-25T08:37:02.517356",
     "status": "completed"
    },
    "tags": []
   },
   "outputs": [],
   "source": [
    "def breaker(num: int = 50, char: str = \"*\") -> None:\n",
    "    print(\"\\n\" + num*char + \"\\n\")\n",
    "\n",
    "\n",
    "def preprocess(image: np.ndarray, size: int) -> np.ndarray:\n",
    "    return cv2.resize(src=cv2.cvtColor(src=image, code=cv2.COLOR_BGR2RGB), dsize=(size, size), interpolation=cv2.INTER_AREA)\n",
    "\n",
    "\n",
    "def get_images(path: str, names: np.ndarray, size: int) -> np.ndarray:\n",
    "    images = np.zeros((len(names), size, size, 3), dtype=np.uint8)\n",
    "    \n",
    "    i = 0\n",
    "    for name in names:\n",
    "        images[i] = preprocess(cv2.imread(os.path.join(path, name + \".jpg\"), cv2.IMREAD_COLOR), size)\n",
    "        i += 1\n",
    "    return images\n",
    "\n",
    "\n",
    "def save(images: np.ndarray, targets: np.ndarray, size: int) -> None:\n",
    "    np.save(f\"./images_{size}.npy\", images)\n",
    "    np.save(f\"./targets_{size}.npy\", targets)\n",
    "\n",
    "\n",
    "def get_statistics(images: np.ndarray, size: int) -> None:\n",
    "    breaker()\n",
    "    print(f\"Mean {size}x{size}\\n\")\n",
    "    print(f\"Red Channel Mean   : {images[:, :, :, 0].mean() / 255:.5f}\")\n",
    "    print(f\"Green Channel Mean : {images[:, :, :, 1].mean() / 255:.5f}\")\n",
    "    print(f\"Blue Channel Mean  : {images[:, :, :, 2].mean() / 255:.5f}\")\n",
    "\n",
    "    breaker()\n",
    "    print(f\"Standard Deviation {size}x{size}\\n\")\n",
    "    print(f\"Red Channel Std   : {images[:, :, :, 0].std() / 255:.5f}\")\n",
    "    print(f\"Green Channel Std : {images[:, :, :, 1].std() / 255:.5f}\")\n",
    "    print(f\"Blue Channel Std  : {images[:, :, :, 2].std() / 255:.5f}\")\n",
    "    breaker()"
   ]
  },
  {
   "cell_type": "code",
   "execution_count": 3,
   "id": "b9fe6296",
   "metadata": {
    "execution": {
     "iopub.execute_input": "2022-04-25T08:37:02.557328Z",
     "iopub.status.busy": "2022-04-25T08:37:02.557000Z",
     "iopub.status.idle": "2022-04-25T08:37:02.604828Z",
     "shell.execute_reply": "2022-04-25T08:37:02.603857Z"
    },
    "papermill": {
     "duration": 0.058521,
     "end_time": "2022-04-25T08:37:02.607334",
     "exception": false,
     "start_time": "2022-04-25T08:37:02.548813",
     "status": "completed"
    },
    "tags": []
   },
   "outputs": [],
   "source": [
    "train_df = pd.read_csv(\"../input/petfinder-pawpularity-score/train.csv\")\n",
    "filenames = train_df[\"Id\"].copy().values\n",
    "targets   = train_df.iloc[:, -1].copy().values"
   ]
  },
  {
   "cell_type": "code",
   "execution_count": 4,
   "id": "9ed3ac8a",
   "metadata": {
    "execution": {
     "iopub.execute_input": "2022-04-25T08:37:02.623408Z",
     "iopub.status.busy": "2022-04-25T08:37:02.623024Z",
     "iopub.status.idle": "2022-04-25T08:41:24.836246Z",
     "shell.execute_reply": "2022-04-25T08:41:24.834167Z"
    },
    "papermill": {
     "duration": 262.22526,
     "end_time": "2022-04-25T08:41:24.839789",
     "exception": false,
     "start_time": "2022-04-25T08:37:02.614529",
     "status": "completed"
    },
    "tags": []
   },
   "outputs": [
    {
     "name": "stdout",
     "output_type": "stream",
     "text": [
      "\n",
      "**************************************************\n",
      "\n",
      "Mean 256x256\n",
      "\n",
      "Red Channel Mean   : 0.51876\n",
      "Green Channel Mean : 0.48398\n",
      "Blue Channel Mean  : 0.44619\n",
      "\n",
      "**************************************************\n",
      "\n",
      "Standard Deviation 256x256\n",
      "\n",
      "Red Channel Std   : 0.26568\n",
      "Green Channel Std : 0.26135\n",
      "Blue Channel Std  : 0.26341\n",
      "\n",
      "**************************************************\n",
      "\n"
     ]
    }
   ],
   "source": [
    "size = 256\n",
    "\n",
    "images = get_images(\"../input/petfinder-pawpularity-score/train\", filenames, size)\n",
    "save(images, targets, size)\n",
    "get_statistics(images, size)"
   ]
  },
  {
   "cell_type": "code",
   "execution_count": 5,
   "id": "18578a87",
   "metadata": {
    "execution": {
     "iopub.execute_input": "2022-04-25T08:41:24.866013Z",
     "iopub.status.busy": "2022-04-25T08:41:24.865613Z",
     "iopub.status.idle": "2022-04-25T08:41:24.870950Z",
     "shell.execute_reply": "2022-04-25T08:41:24.870200Z"
    },
    "papermill": {
     "duration": 0.021141,
     "end_time": "2022-04-25T08:41:24.873209",
     "exception": false,
     "start_time": "2022-04-25T08:41:24.852068",
     "status": "completed"
    },
    "tags": []
   },
   "outputs": [],
   "source": [
    "# size = 384\n",
    "\n",
    "# images = get_images(\"../input/petfinder-pawpularity-score/train\", filenames, size)\n",
    "# save(images, targets, size)\n",
    "# get_statistics(images, size)"
   ]
  },
  {
   "cell_type": "code",
   "execution_count": 6,
   "id": "35260fd6",
   "metadata": {
    "execution": {
     "iopub.execute_input": "2022-04-25T08:41:24.895973Z",
     "iopub.status.busy": "2022-04-25T08:41:24.895621Z",
     "iopub.status.idle": "2022-04-25T08:41:24.899517Z",
     "shell.execute_reply": "2022-04-25T08:41:24.898558Z"
    },
    "papermill": {
     "duration": 0.017327,
     "end_time": "2022-04-25T08:41:24.901585",
     "exception": false,
     "start_time": "2022-04-25T08:41:24.884258",
     "status": "completed"
    },
    "tags": []
   },
   "outputs": [],
   "source": [
    "# size = 512\n",
    "\n",
    "# images = get_images(\"../input/petfinder-pawpularity-score/train\", filenames, size)\n",
    "# save(images, targets, size)\n",
    "# get_statistics(images, size)"
   ]
  }
 ],
 "metadata": {
  "kernelspec": {
   "display_name": "Python 3",
   "language": "python",
   "name": "python3"
  },
  "language_info": {
   "codemirror_mode": {
    "name": "ipython",
    "version": 3
   },
   "file_extension": ".py",
   "mimetype": "text/x-python",
   "name": "python",
   "nbconvert_exporter": "python",
   "pygments_lexer": "ipython3",
   "version": "3.7.12"
  },
  "papermill": {
   "default_parameters": {},
   "duration": 274.129866,
   "end_time": "2022-04-25T08:41:25.937166",
   "environment_variables": {},
   "exception": null,
   "input_path": "__notebook__.ipynb",
   "output_path": "__notebook__.ipynb",
   "parameters": {},
   "start_time": "2022-04-25T08:36:51.807300",
   "version": "2.3.4"
  }
 },
 "nbformat": 4,
 "nbformat_minor": 5
}
