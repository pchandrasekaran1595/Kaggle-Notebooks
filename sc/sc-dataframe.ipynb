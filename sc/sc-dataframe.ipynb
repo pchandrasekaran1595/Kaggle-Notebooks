{
 "cells": [
  {
   "cell_type": "code",
   "execution_count": 1,
   "id": "a47833da",
   "metadata": {
    "_cell_guid": "b1076dfc-b9ad-4769-8c92-a6c4dae69d19",
    "_uuid": "8f2839f25d086af736a60e9eeb907d3b93b6e0e5",
    "execution": {
     "iopub.execute_input": "2023-01-24T04:56:49.683481Z",
     "iopub.status.busy": "2023-01-24T04:56:49.682719Z",
     "iopub.status.idle": "2023-01-24T04:56:49.937341Z",
     "shell.execute_reply": "2023-01-24T04:56:49.935899Z"
    },
    "papermill": {
     "duration": 0.264422,
     "end_time": "2023-01-24T04:56:49.940778",
     "exception": false,
     "start_time": "2023-01-24T04:56:49.676356",
     "status": "completed"
    },
    "tags": []
   },
   "outputs": [],
   "source": [
    "import os\n",
    "import cv2\n",
    "import json\n",
    "import numpy as np\n",
    "import pandas as pd\n",
    "\n",
    "BASE_PATH: str = \"/kaggle/input/shoes-classification-dataset-13k-images/Shoes Dataset\""
   ]
  },
  {
   "cell_type": "code",
   "execution_count": 2,
   "id": "c4659ba3",
   "metadata": {
    "execution": {
     "iopub.execute_input": "2023-01-24T04:56:49.948936Z",
     "iopub.status.busy": "2023-01-24T04:56:49.948389Z",
     "iopub.status.idle": "2023-01-24T04:56:49.968723Z",
     "shell.execute_reply": "2023-01-24T04:56:49.967127Z"
    },
    "papermill": {
     "duration": 0.027678,
     "end_time": "2023-01-24T04:56:49.971553",
     "exception": false,
     "start_time": "2023-01-24T04:56:49.943875",
     "status": "completed"
    },
    "tags": []
   },
   "outputs": [],
   "source": [
    "tr_df: pd.DataFrame = pd.DataFrame(data=None, columns=[\"filepaths\", \"labels\"])\n",
    "ts_df: pd.DataFrame = pd.DataFrame(data=None, columns=[\"filepaths\", \"labels\"])\n",
    "fu_df: pd.DataFrame = pd.DataFrame(data=None, columns=[\"filepaths\", \"labels\"]) "
   ]
  },
  {
   "cell_type": "code",
   "execution_count": 3,
   "id": "7155050a",
   "metadata": {
    "execution": {
     "iopub.execute_input": "2023-01-24T04:56:49.979048Z",
     "iopub.status.busy": "2023-01-24T04:56:49.978488Z",
     "iopub.status.idle": "2023-01-24T04:56:50.770904Z",
     "shell.execute_reply": "2023-01-24T04:56:50.769066Z"
    },
    "papermill": {
     "duration": 0.800156,
     "end_time": "2023-01-24T04:56:50.774449",
     "exception": false,
     "start_time": "2023-01-24T04:56:49.974293",
     "status": "completed"
    },
    "tags": []
   },
   "outputs": [],
   "source": [
    "tr_filepaths: list = []\n",
    "tr_labels: list = []\n",
    "\n",
    "va_filepaths: list = []\n",
    "va_labels: list = []\n",
    "\n",
    "i: int = 0\n",
    "for folder in sorted(os.listdir(f\"{BASE_PATH}/Train\")):\n",
    "    for filename in os.listdir(f\"{BASE_PATH}/Train/{folder}\"):\n",
    "        tr_filepaths.append(os.path.join(f\"{BASE_PATH}/Train/{folder}\", filename))\n",
    "        tr_labels.append(i)\n",
    "    i += 1\n",
    "\n",
    "    \n",
    "i: int = 0\n",
    "for folder in sorted(os.listdir(f\"{BASE_PATH}/Valid\")):\n",
    "    for filename in os.listdir(f\"{BASE_PATH}/Valid/{folder}\"):\n",
    "        va_filepaths.append(os.path.join(f\"{BASE_PATH}/Valid/{folder}\", filename))\n",
    "        va_labels.append(i)\n",
    "    i += 1\n",
    "    \n",
    "tr_df.filepaths = tr_filepaths + va_filepaths\n",
    "tr_df.labels = tr_labels + va_labels\n",
    "tr_df.to_csv(\"train.csv\", index=False)"
   ]
  },
  {
   "cell_type": "code",
   "execution_count": 4,
   "id": "669c6542",
   "metadata": {
    "execution": {
     "iopub.execute_input": "2023-01-24T04:56:50.785198Z",
     "iopub.status.busy": "2023-01-24T04:56:50.784645Z",
     "iopub.status.idle": "2023-01-24T04:56:50.946776Z",
     "shell.execute_reply": "2023-01-24T04:56:50.945687Z"
    },
    "papermill": {
     "duration": 0.170477,
     "end_time": "2023-01-24T04:56:50.950000",
     "exception": false,
     "start_time": "2023-01-24T04:56:50.779523",
     "status": "completed"
    },
    "tags": []
   },
   "outputs": [],
   "source": [
    "filepaths: list = []\n",
    "labels: list = []\n",
    "\n",
    "i: int = 0    \n",
    "for folder in sorted(os.listdir(f\"{BASE_PATH}/Test\")):\n",
    "    for filename in os.listdir(f\"{BASE_PATH}/Test/{folder}\"):\n",
    "        filepaths.append(os.path.join(f\"{BASE_PATH}/Test/{folder}\", filename))\n",
    "        labels.append(i)\n",
    "    i += 1\n",
    "\n",
    "ts_df.filepaths = filepaths\n",
    "ts_df.labels = labels\n",
    "ts_df.to_csv(\"test.csv\", index=False)"
   ]
  },
  {
   "cell_type": "code",
   "execution_count": 5,
   "id": "14ca131e",
   "metadata": {
    "execution": {
     "iopub.execute_input": "2023-01-24T04:56:50.957851Z",
     "iopub.status.busy": "2023-01-24T04:56:50.957276Z",
     "iopub.status.idle": "2023-01-24T04:56:51.018193Z",
     "shell.execute_reply": "2023-01-24T04:56:51.016788Z"
    },
    "papermill": {
     "duration": 0.068676,
     "end_time": "2023-01-24T04:56:51.021501",
     "exception": false,
     "start_time": "2023-01-24T04:56:50.952825",
     "status": "completed"
    },
    "tags": []
   },
   "outputs": [],
   "source": [
    "fu_df.filepaths = tr_filepaths + va_filepaths + filepaths\n",
    "fu_df.labels = tr_labels + va_labels + labels\n",
    "fu_df.to_csv(\"full.csv\", index=False)"
   ]
  },
  {
   "cell_type": "code",
   "execution_count": 6,
   "id": "f490cf90",
   "metadata": {
    "execution": {
     "iopub.execute_input": "2023-01-24T04:56:51.030086Z",
     "iopub.status.busy": "2023-01-24T04:56:51.028742Z",
     "iopub.status.idle": "2023-01-24T04:56:51.038460Z",
     "shell.execute_reply": "2023-01-24T04:56:51.037066Z"
    },
    "papermill": {
     "duration": 0.016976,
     "end_time": "2023-01-24T04:56:51.041384",
     "exception": false,
     "start_time": "2023-01-24T04:56:51.024408",
     "status": "completed"
    },
    "tags": []
   },
   "outputs": [],
   "source": [
    "labels: dict = dict()\n",
    "\n",
    "i = 0\n",
    "for folder in sorted(os.listdir(f\"{BASE_PATH}/Test\")):\n",
    "    labels[i] = folder\n",
    "    i += 1\n",
    "\n",
    "json.dump(labels, open(\"labels.json\", \"w\"))"
   ]
  }
 ],
 "metadata": {
  "kernelspec": {
   "display_name": "Python 3",
   "language": "python",
   "name": "python3"
  },
  "language_info": {
   "codemirror_mode": {
    "name": "ipython",
    "version": 3
   },
   "file_extension": ".py",
   "mimetype": "text/x-python",
   "name": "python",
   "nbconvert_exporter": "python",
   "pygments_lexer": "ipython3",
   "version": "3.7.12"
  },
  "papermill": {
   "default_parameters": {},
   "duration": 15.015845,
   "end_time": "2023-01-24T04:56:51.971054",
   "environment_variables": {},
   "exception": null,
   "input_path": "__notebook__.ipynb",
   "output_path": "__notebook__.ipynb",
   "parameters": {},
   "start_time": "2023-01-24T04:56:36.955209",
   "version": "2.3.4"
  }
 },
 "nbformat": 4,
 "nbformat_minor": 5
}
