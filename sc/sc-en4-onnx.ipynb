{
 "cells": [
  {
   "cell_type": "code",
   "execution_count": 1,
   "id": "ee7fe554",
   "metadata": {
    "_cell_guid": "b1076dfc-b9ad-4769-8c92-a6c4dae69d19",
    "_uuid": "8f2839f25d086af736a60e9eeb907d3b93b6e0e5",
    "execution": {
     "iopub.execute_input": "2023-01-26T05:08:35.638629Z",
     "iopub.status.busy": "2023-01-26T05:08:35.638141Z",
     "iopub.status.idle": "2023-01-26T05:08:47.134889Z",
     "shell.execute_reply": "2023-01-26T05:08:47.133445Z"
    },
    "papermill": {
     "duration": 11.50349,
     "end_time": "2023-01-26T05:08:47.136957",
     "exception": false,
     "start_time": "2023-01-26T05:08:35.633467",
     "status": "completed"
    },
    "tags": []
   },
   "outputs": [
    {
     "name": "stderr",
     "output_type": "stream",
     "text": [
      "WARNING: Running pip as the 'root' user can result in broken permissions and conflicting behaviour with the system package manager. It is recommended to use a virtual environment instead: https://pip.pypa.io/warnings/venv\n"
     ]
    }
   ],
   "source": [
    "%%bash\n",
    "pip install timm onnx onnxruntime -q"
   ]
  },
  {
   "cell_type": "code",
   "execution_count": 2,
   "id": "07d51fa8",
   "metadata": {
    "execution": {
     "iopub.execute_input": "2023-01-26T05:08:47.143532Z",
     "iopub.status.busy": "2023-01-26T05:08:47.143172Z",
     "iopub.status.idle": "2023-01-26T05:08:50.024655Z",
     "shell.execute_reply": "2023-01-26T05:08:50.023692Z"
    },
    "papermill": {
     "duration": 2.887369,
     "end_time": "2023-01-26T05:08:50.027033",
     "exception": false,
     "start_time": "2023-01-26T05:08:47.139664",
     "status": "completed"
    },
    "tags": []
   },
   "outputs": [],
   "source": [
    "import os\n",
    "import sys\n",
    "import cv2\n",
    "import json\n",
    "import onnx\n",
    "import timm\n",
    "import torch\n",
    "import random as r\n",
    "import numpy as np\n",
    "import pandas as pd\n",
    "import onnxruntime as ort\n",
    "import matplotlib.pyplot as plt\n",
    "\n",
    "from typing import Union\n",
    "from torchvision import models\n",
    "from IPython.display import clear_output\n",
    "\n",
    "import warnings\n",
    "warnings.filterwarnings(\"ignore\")\n",
    "\n",
    "if not os.path.exists(\"onnx\"): os.makedirs(\"onnx\")\n",
    "    \n",
    "ort.set_default_logger_severity(3)"
   ]
  },
  {
   "cell_type": "code",
   "execution_count": 3,
   "id": "7b83ef03",
   "metadata": {
    "execution": {
     "iopub.execute_input": "2023-01-26T05:08:50.034072Z",
     "iopub.status.busy": "2023-01-26T05:08:50.033782Z",
     "iopub.status.idle": "2023-01-26T05:08:50.042980Z",
     "shell.execute_reply": "2023-01-26T05:08:50.042236Z"
    },
    "papermill": {
     "duration": 0.01495,
     "end_time": "2023-01-26T05:08:50.045088",
     "exception": false,
     "start_time": "2023-01-26T05:08:50.030138",
     "status": "completed"
    },
    "tags": []
   },
   "outputs": [],
   "source": [
    "labels: dict = json.load(open(\"/kaggle/input/sc-dataframe/labels.json\", \"r\"))\n",
    "    \n",
    "    \n",
    "def breaker() -> None:\n",
    "    print(\"\\n\" + 50*\"*\" + \"\\n\")\n",
    "\n",
    "\n",
    "def get_image(path: str, size: int=224) -> np.ndarray:\n",
    "    image = cv2.imread(path, cv2.IMREAD_COLOR)\n",
    "    image = cv2.cvtColor(src=image, code=cv2.COLOR_BGR2RGB)\n",
    "    if image.shape == (225, 225, 3) and size == 225: return image\n",
    "    return cv2.resize(src=image, dsize=(size, size), interpolation=cv2.INTER_AREA)"
   ]
  },
  {
   "cell_type": "code",
   "execution_count": 4,
   "id": "e41c7f96",
   "metadata": {
    "execution": {
     "iopub.execute_input": "2023-01-26T05:08:50.051183Z",
     "iopub.status.busy": "2023-01-26T05:08:50.050909Z",
     "iopub.status.idle": "2023-01-26T05:08:50.057690Z",
     "shell.execute_reply": "2023-01-26T05:08:50.056890Z"
    },
    "papermill": {
     "duration": 0.011708,
     "end_time": "2023-01-26T05:08:50.059322",
     "exception": false,
     "start_time": "2023-01-26T05:08:50.047614",
     "status": "completed"
    },
    "tags": []
   },
   "outputs": [],
   "source": [
    "class Model(torch.nn.Module):\n",
    "    def __init__(self):\n",
    "        super(Model, self).__init__()\n",
    "        \n",
    "        self.model = timm.create_model(model_name=\"efficientnet_b4\", pretrained=False)\n",
    "        self.model.classifier = torch.nn.Linear(in_features=self.model.classifier.in_features, out_features=5)\n",
    "\n",
    "    def forward(self, x):\n",
    "        return self.model(x)\n",
    "\n",
    "    \n",
    "    \n",
    "class CFG(object):  \n",
    "    def __init__(\n",
    "        self, \n",
    "        in_channels: int=3, \n",
    "        size: int=256, \n",
    "        opset_version: int=9, \n",
    "        path: str=None\n",
    "    ):\n",
    "        self.in_channels = in_channels\n",
    "        self.size = size\n",
    "        self.dummy = torch.randn(1, self.in_channels, self.size, self.size)\n",
    "        self.opset_version = opset_version\n",
    "        self.path = path"
   ]
  },
  {
   "cell_type": "code",
   "execution_count": 5,
   "id": "cf0adc88",
   "metadata": {
    "execution": {
     "iopub.execute_input": "2023-01-26T05:08:50.065858Z",
     "iopub.status.busy": "2023-01-26T05:08:50.064711Z",
     "iopub.status.idle": "2023-01-26T05:09:19.774729Z",
     "shell.execute_reply": "2023-01-26T05:09:19.773542Z"
    },
    "papermill": {
     "duration": 29.716021,
     "end_time": "2023-01-26T05:09:19.777682",
     "exception": false,
     "start_time": "2023-01-26T05:08:50.061661",
     "status": "completed"
    },
    "tags": []
   },
   "outputs": [],
   "source": [
    "for v in [\"a\", \"l\"]:\n",
    "    cfg = CFG(\n",
    "        in_channels=3, \n",
    "        size=225, \n",
    "        opset_version=13, \n",
    "        path=f\"/kaggle/input/sc-en4-a225-e10-f2/saves/b{v}e_state_fold_2.pt\"\n",
    "    )\n",
    "\n",
    "    model = Model()\n",
    "    model.load_state_dict(torch.load(cfg.path, map_location=torch.device(\"cpu\"))[\"model_state_dict\"])\n",
    "    model.eval()\n",
    "\n",
    "    clear_output()\n",
    "\n",
    "    # param_size: float = 0\n",
    "    # for param in model.parameters():\n",
    "    #     param_size += param.nelement() * param.element_size()\n",
    "\n",
    "    # buffer_size: float = 0\n",
    "    # for buffer in model.buffers():\n",
    "    #     buffer_size += buffer.nelement() * buffer.element_size()\n",
    "\n",
    "    # size_all_mb: float = (param_size + buffer_size) / 1024**2\n",
    "\n",
    "    # breaker()\n",
    "    # print(f\"Model size: {size_all_mb:.3f} MB\")\n",
    "    # breaker()\n",
    "\n",
    "    torch.onnx.export(\n",
    "        model=model, \n",
    "        args=cfg.dummy, \n",
    "        f=f\"onnx/b{v}e_model_f2.onnx\", \n",
    "        input_names=[\"input\"], \n",
    "        output_names=[\"output\"], \n",
    "        opset_version=cfg.opset_version,\n",
    "        export_params=True,\n",
    "        training=torch.onnx.TrainingMode.EVAL,\n",
    "        operator_export_type=torch.onnx.OperatorExportTypes.ONNX_ATEN_FALLBACK,\n",
    "        dynamic_axes={\n",
    "          \"input\"  : {0 : \"batch_size\"},\n",
    "          \"output\" : {0 : \"batch_size\"},\n",
    "        }\n",
    "    )"
   ]
  },
  {
   "cell_type": "code",
   "execution_count": 6,
   "id": "ea60c743",
   "metadata": {
    "execution": {
     "iopub.execute_input": "2023-01-26T05:09:19.783948Z",
     "iopub.status.busy": "2023-01-26T05:09:19.783618Z",
     "iopub.status.idle": "2023-01-26T05:09:19.793406Z",
     "shell.execute_reply": "2023-01-26T05:09:19.792533Z"
    },
    "papermill": {
     "duration": 0.014856,
     "end_time": "2023-01-26T05:09:19.795170",
     "exception": false,
     "start_time": "2023-01-26T05:09:19.780314",
     "status": "completed"
    },
    "tags": []
   },
   "outputs": [],
   "source": [
    "class OnnxModel(object):\n",
    "    def __init__(self, path: str) -> None:\n",
    "        self.ort_session = None\n",
    "        self.size: int = 225\n",
    "        \n",
    "        self.mean: list = [0.74042, 0.70862, 0.69081]\n",
    "        self.std: list  = [0.23264, 0.24911, 0.25740]\n",
    "        \n",
    "        self.path: str = path\n",
    "    \n",
    "        model = onnx.load(self.path)\n",
    "        onnx.checker.check_model(model)\n",
    "        self.ort_session = ort.InferenceSession(self.path)\n",
    "    \n",
    "    def infer(self, image: np.ndarray, labels: dict) -> np.ndarray:\n",
    "        h, w, _ = image.shape\n",
    "\n",
    "        image = image / 255\n",
    "        image = cv2.resize(src=image, dsize=(self.size, self.size), interpolation=cv2.INTER_AREA).transpose(2, 0, 1)\n",
    "        for i in range(image.shape[0]): image[i, :, :] = (image[i, :, :] - self.mean[i]) / self.std[i]\n",
    "        image = np.expand_dims(image, axis=0)\n",
    "        input = {self.ort_session.get_inputs()[0].name : image.astype(\"float32\")}\n",
    "        return labels[str(np.argmax(self.ort_session.run(None, input)))].title()"
   ]
  },
  {
   "cell_type": "code",
   "execution_count": 7,
   "id": "f176cdcd",
   "metadata": {
    "execution": {
     "iopub.execute_input": "2023-01-26T05:09:19.800979Z",
     "iopub.status.busy": "2023-01-26T05:09:19.800663Z",
     "iopub.status.idle": "2023-01-26T05:09:23.063988Z",
     "shell.execute_reply": "2023-01-26T05:09:23.062969Z"
    },
    "papermill": {
     "duration": 3.268463,
     "end_time": "2023-01-26T05:09:23.066009",
     "exception": false,
     "start_time": "2023-01-26T05:09:19.797546",
     "status": "completed"
    },
    "tags": []
   },
   "outputs": [
    {
     "name": "stdout",
     "output_type": "stream",
     "text": [
      "\n",
      "**************************************************\n",
      "\n",
      "BAE_MODEL_F2.ONNX\n",
      "\n",
      "Sneaker, Sneaker\n",
      "Boat, Boat\n",
      "Sneaker, Clog\n",
      "Clog, Clog\n",
      "Brogue, Brogue\n",
      "Sneaker, Sneaker\n",
      "Clog, Clog\n",
      "Clog, Clog\n",
      "Clog, Clog\n",
      "\n",
      "**************************************************\n",
      "\n",
      "BLE_MODEL_F2.ONNX\n",
      "\n",
      "Clog, Clog\n",
      "Boat, Boat\n",
      "Ballet Flat, Clog\n",
      "Clog, Clog\n",
      "Clog, Clog\n",
      "Boat, Ballet Flat\n",
      "Boat, Boat\n",
      "Boat, Sneaker\n",
      "Clog, Clog\n",
      "\n",
      "**************************************************\n",
      "\n"
     ]
    }
   ],
   "source": [
    "df = pd.read_csv(\"/kaggle/input/sc-dataframe/test.csv\")\n",
    "\n",
    "breaker()\n",
    "for model_name in sorted(os.listdir(\"onnx\")):\n",
    "    \n",
    "    onnx_model = OnnxModel(f\"onnx/{model_name}\")\n",
    "    \n",
    "    print(f\"{model_name.upper()}\\n\")\n",
    "    \n",
    "    for i in range(9):\n",
    "        index = r.randint(0, len(df)-1)\n",
    "\n",
    "        filepath = df.iloc[index, 0]\n",
    "        y_true   = df.iloc[index, 1]\n",
    "\n",
    "        image = get_image(filepath, cfg.size)\n",
    "\n",
    "        y_pred = onnx_model.infer(image, labels)\n",
    "        \n",
    "        print(f\"{labels[str(y_true)].title()}, {y_pred}\")\n",
    "\n",
    "    breaker()"
   ]
  }
 ],
 "metadata": {
  "kernelspec": {
   "display_name": "Python 3",
   "language": "python",
   "name": "python3"
  },
  "language_info": {
   "codemirror_mode": {
    "name": "ipython",
    "version": 3
   },
   "file_extension": ".py",
   "mimetype": "text/x-python",
   "name": "python",
   "nbconvert_exporter": "python",
   "pygments_lexer": "ipython3",
   "version": "3.7.12"
  },
  "papermill": {
   "default_parameters": {},
   "duration": 55.175619,
   "end_time": "2023-01-26T05:09:23.991919",
   "environment_variables": {},
   "exception": null,
   "input_path": "__notebook__.ipynb",
   "output_path": "__notebook__.ipynb",
   "parameters": {},
   "start_time": "2023-01-26T05:08:28.816300",
   "version": "2.3.4"
  }
 },
 "nbformat": 4,
 "nbformat_minor": 5
}
