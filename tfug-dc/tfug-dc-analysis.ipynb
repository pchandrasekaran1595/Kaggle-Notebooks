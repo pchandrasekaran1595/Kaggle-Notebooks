{
 "cells": [
  {
   "cell_type": "code",
   "execution_count": 1,
   "id": "336e2a60",
   "metadata": {
    "_cell_guid": "b1076dfc-b9ad-4769-8c92-a6c4dae69d19",
    "_uuid": "8f2839f25d086af736a60e9eeb907d3b93b6e0e5",
    "execution": {
     "iopub.execute_input": "2022-11-08T13:09:19.536708Z",
     "iopub.status.busy": "2022-11-08T13:09:19.535875Z",
     "iopub.status.idle": "2022-11-08T13:09:19.545774Z",
     "shell.execute_reply": "2022-11-08T13:09:19.544880Z"
    },
    "papermill": {
     "duration": 0.019066,
     "end_time": "2022-11-08T13:09:19.548525",
     "exception": false,
     "start_time": "2022-11-08T13:09:19.529459",
     "status": "completed"
    },
    "tags": []
   },
   "outputs": [],
   "source": [
    "import os\n",
    "import numpy as np\n",
    "import pandas as pd"
   ]
  },
  {
   "cell_type": "code",
   "execution_count": 2,
   "id": "cf9ae388",
   "metadata": {
    "execution": {
     "iopub.execute_input": "2022-11-08T13:09:19.556852Z",
     "iopub.status.busy": "2022-11-08T13:09:19.556445Z",
     "iopub.status.idle": "2022-11-08T13:09:19.872225Z",
     "shell.execute_reply": "2022-11-08T13:09:19.871323Z"
    },
    "papermill": {
     "duration": 0.323465,
     "end_time": "2022-11-08T13:09:19.875459",
     "exception": false,
     "start_time": "2022-11-08T13:09:19.551994",
     "status": "completed"
    },
    "tags": []
   },
   "outputs": [
    {
     "data": {
      "text/html": [
       "<div>\n",
       "<style scoped>\n",
       "    .dataframe tbody tr th:only-of-type {\n",
       "        vertical-align: middle;\n",
       "    }\n",
       "\n",
       "    .dataframe tbody tr th {\n",
       "        vertical-align: top;\n",
       "    }\n",
       "\n",
       "    .dataframe thead th {\n",
       "        text-align: right;\n",
       "    }\n",
       "</style>\n",
       "<table border=\"1\" class=\"dataframe\">\n",
       "  <thead>\n",
       "    <tr style=\"text-align: right;\">\n",
       "      <th></th>\n",
       "      <th>unique_id</th>\n",
       "      <th>loan_amount</th>\n",
       "      <th>loan_manager_id</th>\n",
       "      <th>asset_cost</th>\n",
       "      <th>loan_to_asset_value_ratio</th>\n",
       "      <th>asset_manufacturer_id</th>\n",
       "      <th>applicant_age</th>\n",
       "      <th>area_code</th>\n",
       "      <th>employment_type</th>\n",
       "      <th>mobile_no_available</th>\n",
       "      <th>...</th>\n",
       "      <th>avg_account_age</th>\n",
       "      <th>credit_history_length</th>\n",
       "      <th>no_of_inquiries_in_last_month</th>\n",
       "      <th>no_of_loan_accounts</th>\n",
       "      <th>active_loan_accounts</th>\n",
       "      <th>overdue_accounts</th>\n",
       "      <th>existing_loan_balance</th>\n",
       "      <th>total_disbursed_amount</th>\n",
       "      <th>current_installment</th>\n",
       "      <th>loan_defaulted</th>\n",
       "    </tr>\n",
       "  </thead>\n",
       "  <tbody>\n",
       "    <tr>\n",
       "      <th>0</th>\n",
       "      <td>0</td>\n",
       "      <td>63849</td>\n",
       "      <td>864</td>\n",
       "      <td>68552</td>\n",
       "      <td>72.982096</td>\n",
       "      <td>45</td>\n",
       "      <td>39</td>\n",
       "      <td>778</td>\n",
       "      <td>Self employed</td>\n",
       "      <td>True</td>\n",
       "      <td>...</td>\n",
       "      <td>0.003406</td>\n",
       "      <td>0.012300</td>\n",
       "      <td>0</td>\n",
       "      <td>0</td>\n",
       "      <td>0</td>\n",
       "      <td>0</td>\n",
       "      <td>3494</td>\n",
       "      <td>715120</td>\n",
       "      <td>856</td>\n",
       "      <td>False</td>\n",
       "    </tr>\n",
       "    <tr>\n",
       "      <th>1</th>\n",
       "      <td>1</td>\n",
       "      <td>41184</td>\n",
       "      <td>1192</td>\n",
       "      <td>67662</td>\n",
       "      <td>85.834732</td>\n",
       "      <td>45</td>\n",
       "      <td>45</td>\n",
       "      <td>4</td>\n",
       "      <td>Salaried</td>\n",
       "      <td>True</td>\n",
       "      <td>...</td>\n",
       "      <td>0.004420</td>\n",
       "      <td>0.015735</td>\n",
       "      <td>0</td>\n",
       "      <td>3</td>\n",
       "      <td>1</td>\n",
       "      <td>0</td>\n",
       "      <td>4784</td>\n",
       "      <td>7147</td>\n",
       "      <td>902</td>\n",
       "      <td>True</td>\n",
       "    </tr>\n",
       "    <tr>\n",
       "      <th>2</th>\n",
       "      <td>2</td>\n",
       "      <td>68313</td>\n",
       "      <td>2113</td>\n",
       "      <td>67793</td>\n",
       "      <td>75.759736</td>\n",
       "      <td>86</td>\n",
       "      <td>44</td>\n",
       "      <td>18</td>\n",
       "      <td>Self employed</td>\n",
       "      <td>True</td>\n",
       "      <td>...</td>\n",
       "      <td>0.011542</td>\n",
       "      <td>0.028924</td>\n",
       "      <td>0</td>\n",
       "      <td>0</td>\n",
       "      <td>1</td>\n",
       "      <td>0</td>\n",
       "      <td>8764</td>\n",
       "      <td>11188</td>\n",
       "      <td>1219</td>\n",
       "      <td>False</td>\n",
       "    </tr>\n",
       "    <tr>\n",
       "      <th>3</th>\n",
       "      <td>3</td>\n",
       "      <td>61636</td>\n",
       "      <td>1139</td>\n",
       "      <td>68504</td>\n",
       "      <td>73.364297</td>\n",
       "      <td>45</td>\n",
       "      <td>27</td>\n",
       "      <td>2448</td>\n",
       "      <td>Self employed</td>\n",
       "      <td>True</td>\n",
       "      <td>...</td>\n",
       "      <td>0.011758</td>\n",
       "      <td>0.550731</td>\n",
       "      <td>0</td>\n",
       "      <td>28</td>\n",
       "      <td>0</td>\n",
       "      <td>0</td>\n",
       "      <td>81808</td>\n",
       "      <td>5932</td>\n",
       "      <td>1159</td>\n",
       "      <td>False</td>\n",
       "    </tr>\n",
       "    <tr>\n",
       "      <th>4</th>\n",
       "      <td>4</td>\n",
       "      <td>51532</td>\n",
       "      <td>2455</td>\n",
       "      <td>65369</td>\n",
       "      <td>43.920441</td>\n",
       "      <td>86</td>\n",
       "      <td>27</td>\n",
       "      <td>6276</td>\n",
       "      <td>Self employed</td>\n",
       "      <td>True</td>\n",
       "      <td>...</td>\n",
       "      <td>0.415353</td>\n",
       "      <td>3.359229</td>\n",
       "      <td>1</td>\n",
       "      <td>0</td>\n",
       "      <td>3</td>\n",
       "      <td>1</td>\n",
       "      <td>322731</td>\n",
       "      <td>3033357</td>\n",
       "      <td>8196</td>\n",
       "      <td>False</td>\n",
       "    </tr>\n",
       "  </tbody>\n",
       "</table>\n",
       "<p>5 rows × 28 columns</p>\n",
       "</div>"
      ],
      "text/plain": [
       "   unique_id  loan_amount  loan_manager_id  asset_cost  \\\n",
       "0          0        63849              864       68552   \n",
       "1          1        41184             1192       67662   \n",
       "2          2        68313             2113       67793   \n",
       "3          3        61636             1139       68504   \n",
       "4          4        51532             2455       65369   \n",
       "\n",
       "   loan_to_asset_value_ratio  asset_manufacturer_id  applicant_age  area_code  \\\n",
       "0                  72.982096                     45             39        778   \n",
       "1                  85.834732                     45             45          4   \n",
       "2                  75.759736                     86             44         18   \n",
       "3                  73.364297                     45             27       2448   \n",
       "4                  43.920441                     86             27       6276   \n",
       "\n",
       "  employment_type  mobile_no_available  ...  avg_account_age  \\\n",
       "0   Self employed                 True  ...         0.003406   \n",
       "1        Salaried                 True  ...         0.004420   \n",
       "2   Self employed                 True  ...         0.011542   \n",
       "3   Self employed                 True  ...         0.011758   \n",
       "4   Self employed                 True  ...         0.415353   \n",
       "\n",
       "   credit_history_length  no_of_inquiries_in_last_month  no_of_loan_accounts  \\\n",
       "0               0.012300                              0                    0   \n",
       "1               0.015735                              0                    3   \n",
       "2               0.028924                              0                    0   \n",
       "3               0.550731                              0                   28   \n",
       "4               3.359229                              1                    0   \n",
       "\n",
       "   active_loan_accounts  overdue_accounts  existing_loan_balance  \\\n",
       "0                     0                 0                   3494   \n",
       "1                     1                 0                   4784   \n",
       "2                     1                 0                   8764   \n",
       "3                     0                 0                  81808   \n",
       "4                     3                 1                 322731   \n",
       "\n",
       "   total_disbursed_amount  current_installment  loan_defaulted  \n",
       "0                  715120                  856           False  \n",
       "1                    7147                  902            True  \n",
       "2                   11188                 1219           False  \n",
       "3                    5932                 1159           False  \n",
       "4                 3033357                 8196           False  \n",
       "\n",
       "[5 rows x 28 columns]"
      ]
     },
     "execution_count": 2,
     "metadata": {},
     "output_type": "execute_result"
    }
   ],
   "source": [
    "tr_df = pd.read_csv(\"../input/vehicle-loan-defaulter-tfug-delhi-challenge-1-2022/train.csv\")\n",
    "tr_df.head()"
   ]
  },
  {
   "cell_type": "code",
   "execution_count": 3,
   "id": "f9cc9bf8",
   "metadata": {
    "execution": {
     "iopub.execute_input": "2022-11-08T13:09:19.886235Z",
     "iopub.status.busy": "2022-11-08T13:09:19.885553Z",
     "iopub.status.idle": "2022-11-08T13:09:19.899874Z",
     "shell.execute_reply": "2022-11-08T13:09:19.898576Z"
    },
    "papermill": {
     "duration": 0.021408,
     "end_time": "2022-11-08T13:09:19.902528",
     "exception": false,
     "start_time": "2022-11-08T13:09:19.881120",
     "status": "completed"
    },
    "tags": []
   },
   "outputs": [
    {
     "data": {
      "text/plain": [
       "unique_id                             0\n",
       "loan_amount                           0\n",
       "loan_manager_id                       0\n",
       "asset_cost                            0\n",
       "loan_to_asset_value_ratio             0\n",
       "asset_manufacturer_id                 0\n",
       "applicant_age                         0\n",
       "area_code                             0\n",
       "employment_type                       0\n",
       "mobile_no_available                   0\n",
       "aadhaar_available                     0\n",
       "pan_available                         0\n",
       "voter_id_available                    0\n",
       "driving_licence_available             0\n",
       "passport_available                    0\n",
       "credit_score                          0\n",
       "new_loan_accounts_in_last_6_months    0\n",
       "overdue_accounts_in_last_6_months     0\n",
       "avg_account_age                       0\n",
       "credit_history_length                 0\n",
       "no_of_inquiries_in_last_month         0\n",
       "no_of_loan_accounts                   0\n",
       "active_loan_accounts                  0\n",
       "overdue_accounts                      0\n",
       "existing_loan_balance                 0\n",
       "total_disbursed_amount                0\n",
       "current_installment                   0\n",
       "loan_defaulted                        0\n",
       "dtype: int64"
      ]
     },
     "execution_count": 3,
     "metadata": {},
     "output_type": "execute_result"
    }
   ],
   "source": [
    "tr_df.isnull().sum()"
   ]
  },
  {
   "cell_type": "code",
   "execution_count": 4,
   "id": "4230448d",
   "metadata": {
    "execution": {
     "iopub.execute_input": "2022-11-08T13:09:19.910087Z",
     "iopub.status.busy": "2022-11-08T13:09:19.909649Z",
     "iopub.status.idle": "2022-11-08T13:09:19.929982Z",
     "shell.execute_reply": "2022-11-08T13:09:19.928775Z"
    },
    "papermill": {
     "duration": 0.027079,
     "end_time": "2022-11-08T13:09:19.932578",
     "exception": false,
     "start_time": "2022-11-08T13:09:19.905499",
     "status": "completed"
    },
    "tags": []
   },
   "outputs": [
    {
     "name": "stdout",
     "output_type": "stream",
     "text": [
      "employment_type, 2, {'Salaried', 'Self employed'}\n"
     ]
    }
   ],
   "source": [
    "for column in tr_df.columns:\n",
    "    if tr_df[column].dtype == \"object\":\n",
    "        print(f\"{column}, {tr_df[column].nunique()}, {set(tr_df[column])}\")"
   ]
  },
  {
   "cell_type": "code",
   "execution_count": 5,
   "id": "64a4a2e7",
   "metadata": {
    "execution": {
     "iopub.execute_input": "2022-11-08T13:09:19.940620Z",
     "iopub.status.busy": "2022-11-08T13:09:19.939967Z",
     "iopub.status.idle": "2022-11-08T13:09:19.949698Z",
     "shell.execute_reply": "2022-11-08T13:09:19.948514Z"
    },
    "papermill": {
     "duration": 0.016581,
     "end_time": "2022-11-08T13:09:19.952200",
     "exception": false,
     "start_time": "2022-11-08T13:09:19.935619",
     "status": "completed"
    },
    "tags": []
   },
   "outputs": [
    {
     "data": {
      "text/plain": [
       "False    31854\n",
       "True      6692\n",
       "Name: loan_defaulted, dtype: int64"
      ]
     },
     "execution_count": 5,
     "metadata": {},
     "output_type": "execute_result"
    }
   ],
   "source": [
    "tr_df[\"loan_defaulted\"].value_counts()"
   ]
  }
 ],
 "metadata": {
  "kernelspec": {
   "display_name": "Python 3",
   "language": "python",
   "name": "python3"
  },
  "language_info": {
   "codemirror_mode": {
    "name": "ipython",
    "version": 3
   },
   "file_extension": ".py",
   "mimetype": "text/x-python",
   "name": "python",
   "nbconvert_exporter": "python",
   "pygments_lexer": "ipython3",
   "version": "3.7.12"
  },
  "papermill": {
   "default_parameters": {},
   "duration": 9.794439,
   "end_time": "2022-11-08T13:09:20.577578",
   "environment_variables": {},
   "exception": null,
   "input_path": "__notebook__.ipynb",
   "output_path": "__notebook__.ipynb",
   "parameters": {},
   "start_time": "2022-11-08T13:09:10.783139",
   "version": "2.3.4"
  }
 },
 "nbformat": 4,
 "nbformat_minor": 5
}
