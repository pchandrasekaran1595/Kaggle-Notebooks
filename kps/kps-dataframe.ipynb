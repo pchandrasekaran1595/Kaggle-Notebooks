{
 "cells": [
  {
   "cell_type": "code",
   "execution_count": 1,
   "id": "2a3c2b70",
   "metadata": {
    "execution": {
     "iopub.execute_input": "2022-09-25T09:41:38.696636Z",
     "iopub.status.busy": "2022-09-25T09:41:38.695635Z",
     "iopub.status.idle": "2022-09-25T09:41:38.708146Z",
     "shell.execute_reply": "2022-09-25T09:41:38.706874Z"
    },
    "papermill": {
     "duration": 0.021081,
     "end_time": "2022-09-25T09:41:38.711223",
     "exception": false,
     "start_time": "2022-09-25T09:41:38.690142",
     "status": "completed"
    },
    "tags": []
   },
   "outputs": [],
   "source": [
    "import os\n",
    "import numpy as np\n",
    "import pandas as pd\n",
    "\n",
    "BASE_PATH: str = \"../input/kaggle-pog-series-s01e03/corn\""
   ]
  },
  {
   "cell_type": "code",
   "execution_count": 2,
   "id": "f1c09325",
   "metadata": {
    "_cell_guid": "b1076dfc-b9ad-4769-8c92-a6c4dae69d19",
    "_uuid": "8f2839f25d086af736a60e9eeb907d3b93b6e0e5",
    "execution": {
     "iopub.execute_input": "2022-09-25T09:41:38.718482Z",
     "iopub.status.busy": "2022-09-25T09:41:38.718012Z",
     "iopub.status.idle": "2022-09-25T09:41:38.723849Z",
     "shell.execute_reply": "2022-09-25T09:41:38.722372Z"
    },
    "papermill": {
     "duration": 0.012396,
     "end_time": "2022-09-25T09:41:38.726386",
     "exception": false,
     "start_time": "2022-09-25T09:41:38.713990",
     "status": "completed"
    },
    "tags": []
   },
   "outputs": [],
   "source": [
    "LABELS: dict = {\n",
    "    0 : \"pure\",\n",
    "    1 : \"broken\",\n",
    "    2 : \"silkcut\",\n",
    "    3 : \"discolored\",\n",
    "}"
   ]
  },
  {
   "cell_type": "code",
   "execution_count": 3,
   "id": "b295b5d3",
   "metadata": {
    "execution": {
     "iopub.execute_input": "2022-09-25T09:41:38.733014Z",
     "iopub.status.busy": "2022-09-25T09:41:38.732510Z",
     "iopub.status.idle": "2022-09-25T09:41:38.802938Z",
     "shell.execute_reply": "2022-09-25T09:41:38.801316Z"
    },
    "papermill": {
     "duration": 0.077685,
     "end_time": "2022-09-25T09:41:38.806437",
     "exception": false,
     "start_time": "2022-09-25T09:41:38.728752",
     "status": "completed"
    },
    "tags": []
   },
   "outputs": [
    {
     "data": {
      "text/html": [
       "<div>\n",
       "<style scoped>\n",
       "    .dataframe tbody tr th:only-of-type {\n",
       "        vertical-align: middle;\n",
       "    }\n",
       "\n",
       "    .dataframe tbody tr th {\n",
       "        vertical-align: top;\n",
       "    }\n",
       "\n",
       "    .dataframe thead th {\n",
       "        text-align: right;\n",
       "    }\n",
       "</style>\n",
       "<table border=\"1\" class=\"dataframe\">\n",
       "  <thead>\n",
       "    <tr style=\"text-align: right;\">\n",
       "      <th></th>\n",
       "      <th>seed_id</th>\n",
       "      <th>view</th>\n",
       "      <th>image</th>\n",
       "      <th>label</th>\n",
       "    </tr>\n",
       "  </thead>\n",
       "  <tbody>\n",
       "    <tr>\n",
       "      <th>0</th>\n",
       "      <td>0</td>\n",
       "      <td>top</td>\n",
       "      <td>train/00000.png</td>\n",
       "      <td>broken</td>\n",
       "    </tr>\n",
       "    <tr>\n",
       "      <th>1</th>\n",
       "      <td>1</td>\n",
       "      <td>bottom</td>\n",
       "      <td>train/00001.png</td>\n",
       "      <td>pure</td>\n",
       "    </tr>\n",
       "    <tr>\n",
       "      <th>2</th>\n",
       "      <td>3</td>\n",
       "      <td>top</td>\n",
       "      <td>train/00003.png</td>\n",
       "      <td>broken</td>\n",
       "    </tr>\n",
       "    <tr>\n",
       "      <th>3</th>\n",
       "      <td>4</td>\n",
       "      <td>top</td>\n",
       "      <td>train/00004.png</td>\n",
       "      <td>pure</td>\n",
       "    </tr>\n",
       "    <tr>\n",
       "      <th>4</th>\n",
       "      <td>5</td>\n",
       "      <td>top</td>\n",
       "      <td>train/00005.png</td>\n",
       "      <td>discolored</td>\n",
       "    </tr>\n",
       "  </tbody>\n",
       "</table>\n",
       "</div>"
      ],
      "text/plain": [
       "   seed_id    view            image       label\n",
       "0        0     top  train/00000.png      broken\n",
       "1        1  bottom  train/00001.png        pure\n",
       "2        3     top  train/00003.png      broken\n",
       "3        4     top  train/00004.png        pure\n",
       "4        5     top  train/00005.png  discolored"
      ]
     },
     "execution_count": 3,
     "metadata": {},
     "output_type": "execute_result"
    }
   ],
   "source": [
    "train_df = pd.read_csv(\"../input/kaggle-pog-series-s01e03/corn/train.csv\")\n",
    "train_df.head(5)"
   ]
  },
  {
   "cell_type": "code",
   "execution_count": 4,
   "id": "063d8b7f",
   "metadata": {
    "execution": {
     "iopub.execute_input": "2022-09-25T09:41:38.813879Z",
     "iopub.status.busy": "2022-09-25T09:41:38.813426Z",
     "iopub.status.idle": "2022-09-25T09:41:39.086758Z",
     "shell.execute_reply": "2022-09-25T09:41:39.085273Z"
    },
    "papermill": {
     "duration": 0.280962,
     "end_time": "2022-09-25T09:41:39.090196",
     "exception": false,
     "start_time": "2022-09-25T09:41:38.809234",
     "status": "completed"
    },
    "tags": []
   },
   "outputs": [],
   "source": [
    "train_labels = train_df.label.copy().values\n",
    "train_df[\"label_index\"] = [list(LABELS.keys())[list(LABELS.values()).index(label)] for label in train_labels]   \n",
    "train_df[\"filepaths\"] = [ os.path.join(BASE_PATH, train_df.image[i]) for i in range(train_df.shape[0])] \n",
    "\n",
    "train_df.to_csv(\"dataframe.csv\", index=False)"
   ]
  }
 ],
 "metadata": {
  "kernelspec": {
   "display_name": "Python 3",
   "language": "python",
   "name": "python3"
  },
  "language_info": {
   "codemirror_mode": {
    "name": "ipython",
    "version": 3
   },
   "file_extension": ".py",
   "mimetype": "text/x-python",
   "name": "python",
   "nbconvert_exporter": "python",
   "pygments_lexer": "ipython3",
   "version": "3.7.12"
  },
  "papermill": {
   "default_parameters": {},
   "duration": 12.655405,
   "end_time": "2022-09-25T09:41:40.017800",
   "environment_variables": {},
   "exception": null,
   "input_path": "__notebook__.ipynb",
   "output_path": "__notebook__.ipynb",
   "parameters": {},
   "start_time": "2022-09-25T09:41:27.362395",
   "version": "2.3.4"
  }
 },
 "nbformat": 4,
 "nbformat_minor": 5
}
