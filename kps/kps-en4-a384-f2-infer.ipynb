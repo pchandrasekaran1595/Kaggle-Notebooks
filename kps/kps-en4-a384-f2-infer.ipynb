{
 "cells": [
  {
   "cell_type": "markdown",
   "id": "9cce31a1",
   "metadata": {
    "_cell_guid": "b1076dfc-b9ad-4769-8c92-a6c4dae69d19",
    "_uuid": "8f2839f25d086af736a60e9eeb907d3b93b6e0e5",
    "papermill": {
     "duration": 0.008131,
     "end_time": "2022-09-26T05:41:06.408850",
     "exception": false,
     "start_time": "2022-09-26T05:41:06.400719",
     "status": "completed"
    },
    "tags": []
   },
   "source": [
    "### **Setup**"
   ]
  },
  {
   "cell_type": "code",
   "execution_count": 1,
   "id": "5fbf5e9f",
   "metadata": {
    "execution": {
     "iopub.execute_input": "2022-09-26T05:41:06.421568Z",
     "iopub.status.busy": "2022-09-26T05:41:06.421015Z",
     "iopub.status.idle": "2022-09-26T05:41:18.990068Z",
     "shell.execute_reply": "2022-09-26T05:41:18.988582Z"
    },
    "papermill": {
     "duration": 12.578862,
     "end_time": "2022-09-26T05:41:18.993011",
     "exception": false,
     "start_time": "2022-09-26T05:41:06.414149",
     "status": "completed"
    },
    "tags": []
   },
   "outputs": [
    {
     "name": "stderr",
     "output_type": "stream",
     "text": [
      "WARNING: Running pip as the 'root' user can result in broken permissions and conflicting behaviour with the system package manager. It is recommended to use a virtual environment instead: https://pip.pypa.io/warnings/venv\n"
     ]
    }
   ],
   "source": [
    "%%bash\n",
    "pip install timm -q"
   ]
  },
  {
   "cell_type": "markdown",
   "id": "33dd8f19",
   "metadata": {
    "papermill": {
     "duration": 0.004657,
     "end_time": "2022-09-26T05:41:19.003777",
     "exception": false,
     "start_time": "2022-09-26T05:41:18.999120",
     "status": "completed"
    },
    "tags": []
   },
   "source": [
    "### **Library Imports**"
   ]
  },
  {
   "cell_type": "code",
   "execution_count": 2,
   "id": "414091e3",
   "metadata": {
    "execution": {
     "iopub.execute_input": "2022-09-26T05:41:19.014931Z",
     "iopub.status.busy": "2022-09-26T05:41:19.014619Z",
     "iopub.status.idle": "2022-09-26T05:41:21.653861Z",
     "shell.execute_reply": "2022-09-26T05:41:21.652841Z"
    },
    "papermill": {
     "duration": 2.647701,
     "end_time": "2022-09-26T05:41:21.656298",
     "exception": false,
     "start_time": "2022-09-26T05:41:19.008597",
     "status": "completed"
    },
    "tags": []
   },
   "outputs": [],
   "source": [
    "import os\n",
    "import re\n",
    "import cv2\n",
    "import timm\n",
    "import torch\n",
    "import numpy as np\n",
    "import pandas as pd\n",
    "import matplotlib.pyplot as plt\n",
    "\n",
    "from time import time\n",
    "from torch import nn, optim\n",
    "from torch.utils.data import Dataset\n",
    "from torch.utils.data import DataLoader as DL\n",
    "from torchvision import models, transforms\n",
    "\n",
    "# from sklearn.model_selection import StratifiedKFold"
   ]
  },
  {
   "cell_type": "markdown",
   "id": "95b4a657",
   "metadata": {
    "papermill": {
     "duration": 0.004498,
     "end_time": "2022-09-26T05:41:21.665724",
     "exception": false,
     "start_time": "2022-09-26T05:41:21.661226",
     "status": "completed"
    },
    "tags": []
   },
   "source": [
    "### **Utilities and Helpers**"
   ]
  },
  {
   "cell_type": "code",
   "execution_count": 3,
   "id": "ab0add2e",
   "metadata": {
    "execution": {
     "iopub.execute_input": "2022-09-26T05:41:21.677353Z",
     "iopub.status.busy": "2022-09-26T05:41:21.676139Z",
     "iopub.status.idle": "2022-09-26T05:41:21.684452Z",
     "shell.execute_reply": "2022-09-26T05:41:21.683533Z"
    },
    "papermill": {
     "duration": 0.016023,
     "end_time": "2022-09-26T05:41:21.686433",
     "exception": false,
     "start_time": "2022-09-26T05:41:21.670410",
     "status": "completed"
    },
    "tags": []
   },
   "outputs": [],
   "source": [
    "SEED: int = 42\n",
    "SIZE: int = 384\n",
    "\n",
    "LABELS: dict = {\n",
    "    0 : \"pure\",\n",
    "    1 : \"broken\",\n",
    "    2 : \"silkcut\",\n",
    "    3 : \"discolored\",\n",
    "}\n",
    "\n",
    "\n",
    "def breaker(num: int=50, char: str=\"*\") -> None:\n",
    "    print(\"\\n\" + num*char + \"\\n\")\n",
    "\n",
    "    \n",
    "def get_image(path: str, size: int=224) -> np.ndarray:\n",
    "    image = cv2.imread(path, cv2.IMREAD_COLOR)\n",
    "    image = cv2.cvtColor(src=image, code=cv2.COLOR_BGR2RGB)\n",
    "    return cv2.resize(src=image, dsize=(size, size), interpolation=cv2.INTER_AREA)\n",
    "\n",
    "\n",
    "# def show_loss_graphs(L: list) -> None:\n",
    "#     TL, VL = [], []\n",
    "#     for i in range(len(L)):\n",
    "#         TL.append(L[i][\"train\"])\n",
    "#         VL.append(L[i][\"valid\"])\n",
    "#     x_Axis = np.arange(1, len(TL) + 1)\n",
    "#     plt.figure()\n",
    "#     plt.plot(x_Axis, TL, \"r\", label=\"Train\")\n",
    "#     plt.plot(x_Axis, VL, \"b\", label=\"Valid\")\n",
    "#     plt.legend()\n",
    "#     plt.grid()\n",
    "#     plt.title(\"Loss Graph\")\n",
    "#     plt.show()\n",
    "\n",
    "    \n",
    "# def show_accuracy_graphs(A: list) -> None:\n",
    "#     TA, VA = [], []\n",
    "#     for i in range(len(A)):\n",
    "#         TA.append(A[i][\"train\"])\n",
    "#         VA.append(A[i][\"valid\"])\n",
    "#     x_Axis = np.arange(1, len(TA) + 1)\n",
    "#     plt.figure()\n",
    "#     plt.plot(x_Axis, TA, \"r\", label=\"Train\")\n",
    "#     plt.plot(x_Axis, VA, \"b\", label=\"Valid\")\n",
    "#     plt.legend()\n",
    "#     plt.grid()\n",
    "#     plt.title(\"Accuracy Graph\")\n",
    "#     plt.show()\n",
    "    \n",
    "\n",
    "# def show_lr_graph(LR: list) -> None:\n",
    "#     x_Axis = [i+1 for i in range(len(LR))]\n",
    "#     plt.figure(figsize=(8, 6))\n",
    "#     plt.plot(x_Axis, LR, \"rx\")\n",
    "#     plt.grid()\n",
    "#     plt.show()"
   ]
  },
  {
   "cell_type": "markdown",
   "id": "6cfb8880",
   "metadata": {
    "papermill": {
     "duration": 0.004308,
     "end_time": "2022-09-26T05:41:21.695286",
     "exception": false,
     "start_time": "2022-09-26T05:41:21.690978",
     "status": "completed"
    },
    "tags": []
   },
   "source": [
    "### **Configuration**"
   ]
  },
  {
   "cell_type": "code",
   "execution_count": 4,
   "id": "4559b866",
   "metadata": {
    "execution": {
     "iopub.execute_input": "2022-09-26T05:41:21.705816Z",
     "iopub.status.busy": "2022-09-26T05:41:21.705543Z",
     "iopub.status.idle": "2022-09-26T05:41:21.767557Z",
     "shell.execute_reply": "2022-09-26T05:41:21.766513Z"
    },
    "papermill": {
     "duration": 0.069916,
     "end_time": "2022-09-26T05:41:21.769970",
     "exception": false,
     "start_time": "2022-09-26T05:41:21.700054",
     "status": "completed"
    },
    "tags": []
   },
   "outputs": [],
   "source": [
    "class CFG(object):\n",
    "    def __init__(self, \n",
    "                 seed: int = 42,\n",
    "                 size: int = 224,\n",
    "                 n_splits: int = 5,\n",
    "                 batch_size: int = 16,\n",
    "                 epochs: int = 25,\n",
    "                 early_stopping: int = 5,\n",
    "                 lr: float = 1e-4,\n",
    "                 wd: float = 0.0,\n",
    "                 max_lr: float = 1e-3,\n",
    "                 pct_start: float = 0.2,\n",
    "                 steps_per_epoch: int = 100,\n",
    "                 div_factor: int = 1e3, \n",
    "                 final_div_factor: float = 1e3,\n",
    "                 ):\n",
    "        self.seed = seed\n",
    "        self.size = size\n",
    "        self.n_splits = n_splits\n",
    "        self.batch_size = batch_size\n",
    "        self.epochs = epochs\n",
    "        self.early_stopping = early_stopping\n",
    "        self.lr = lr\n",
    "        self.wd = wd\n",
    "        self.max_lr = max_lr\n",
    "        self.pct_start = pct_start\n",
    "        self.steps_per_epoch = steps_per_epoch\n",
    "        self.div_factor = div_factor\n",
    "        self.final_div_factor = final_div_factor\n",
    "        self.device = torch.device(\"cuda\" if torch.cuda.is_available() else \"cpu\")\n",
    "        self.train_transform = transforms.Compose([\n",
    "            transforms.ToTensor(),\n",
    "            transforms.Normalize([0.81450, 0.79094, 0.69495], [0.06435, 0.10338, 0.20791]),\n",
    "            transforms.RandomAffine(degrees=(-45, 45), translate=(0.15, 0.15), scale=(0.5, 1.5)),\n",
    "            transforms.RandomHorizontalFlip(p=0.25),\n",
    "            transforms.RandomVerticalFlip(p=0.25),\n",
    "        ])\n",
    "        self.valid_transform = transforms.Compose([\n",
    "            transforms.ToTensor(),\n",
    "            transforms.Normalize([0.81450, 0.79094, 0.69495], [0.06435, 0.10338, 0.20791]),\n",
    "        ])\n",
    "                                \n",
    "        self.save_path = \"saves\"\n",
    "        if not os.path.exists(self.save_path): os.makedirs(self.save_path)\n",
    "    \n",
    "cfg = CFG(seed=SEED, size=SIZE)"
   ]
  },
  {
   "cell_type": "markdown",
   "id": "15ea6cae",
   "metadata": {
    "papermill": {
     "duration": 0.004609,
     "end_time": "2022-09-26T05:41:21.779191",
     "exception": false,
     "start_time": "2022-09-26T05:41:21.774582",
     "status": "completed"
    },
    "tags": []
   },
   "source": [
    "### **Dataset Template**"
   ]
  },
  {
   "cell_type": "code",
   "execution_count": 5,
   "id": "6cbdb396",
   "metadata": {
    "execution": {
     "iopub.execute_input": "2022-09-26T05:41:21.789373Z",
     "iopub.status.busy": "2022-09-26T05:41:21.789059Z",
     "iopub.status.idle": "2022-09-26T05:41:21.793295Z",
     "shell.execute_reply": "2022-09-26T05:41:21.792351Z"
    },
    "papermill": {
     "duration": 0.011461,
     "end_time": "2022-09-26T05:41:21.795188",
     "exception": false,
     "start_time": "2022-09-26T05:41:21.783727",
     "status": "completed"
    },
    "tags": []
   },
   "outputs": [],
   "source": [
    "# class DS(Dataset):\n",
    "#     def __init__(\n",
    "#         self, \n",
    "#         filepaths: np.ndarray, \n",
    "#         labels: np.ndarray, \n",
    "#         size: int,\n",
    "#         transform=None):\n",
    "        \n",
    "#         self.filepaths = filepaths\n",
    "#         self.labels = labels\n",
    "#         self.size = size\n",
    "#         self.transform = transform\n",
    "    \n",
    "#     def __len__(self):\n",
    "#         return self.filepaths.shape[0]\n",
    "    \n",
    "#     def __getitem__(self, idx):\n",
    "#         image = get_image(self.filepaths[idx], self.size)\n",
    "#         return self.transform(image), torch.LongTensor(self.labels[idx])"
   ]
  },
  {
   "cell_type": "code",
   "execution_count": 6,
   "id": "4ce7caf9",
   "metadata": {
    "execution": {
     "iopub.execute_input": "2022-09-26T05:41:21.806296Z",
     "iopub.status.busy": "2022-09-26T05:41:21.806028Z",
     "iopub.status.idle": "2022-09-26T05:41:21.812097Z",
     "shell.execute_reply": "2022-09-26T05:41:21.811146Z"
    },
    "papermill": {
     "duration": 0.014284,
     "end_time": "2022-09-26T05:41:21.814046",
     "exception": false,
     "start_time": "2022-09-26T05:41:21.799762",
     "status": "completed"
    },
    "tags": []
   },
   "outputs": [],
   "source": [
    "class DS(Dataset):\n",
    "    def __init__(\n",
    "        self, \n",
    "        base_path: str,\n",
    "        filenames: np.ndarray, \n",
    "        size: int,\n",
    "        transform=None):\n",
    "        \n",
    "        self.base_path = base_path\n",
    "        self.filenames = filenames\n",
    "        self.size = size\n",
    "        self.transform = transform\n",
    "    \n",
    "    def __len__(self):\n",
    "        return self.filenames.shape[0]\n",
    "    \n",
    "    def __getitem__(self, idx):\n",
    "        path = os.path.join(self.base_path, str(self.filenames[idx]) + \".png\")\n",
    "        image = get_image(path, self.size)\n",
    "        return self.transform(image)"
   ]
  },
  {
   "cell_type": "markdown",
   "id": "a7fec75c",
   "metadata": {
    "papermill": {
     "duration": 0.004304,
     "end_time": "2022-09-26T05:41:21.822860",
     "exception": false,
     "start_time": "2022-09-26T05:41:21.818556",
     "status": "completed"
    },
    "tags": []
   },
   "source": [
    "### **Model**"
   ]
  },
  {
   "cell_type": "code",
   "execution_count": 7,
   "id": "5527dc28",
   "metadata": {
    "execution": {
     "iopub.execute_input": "2022-09-26T05:41:21.833500Z",
     "iopub.status.busy": "2022-09-26T05:41:21.832653Z",
     "iopub.status.idle": "2022-09-26T05:41:21.839103Z",
     "shell.execute_reply": "2022-09-26T05:41:21.838319Z"
    },
    "papermill": {
     "duration": 0.01369,
     "end_time": "2022-09-26T05:41:21.840998",
     "exception": false,
     "start_time": "2022-09-26T05:41:21.827308",
     "status": "completed"
    },
    "tags": []
   },
   "outputs": [],
   "source": [
    "class Model(nn.Module):\n",
    "    def __init__(self):\n",
    "        super(Model, self).__init__()\n",
    "            \n",
    "        self.model = timm.create_model(model_name=\"efficientnet_b4\", pretrained=False)\n",
    "        self.model.classifier = nn.Linear(in_features=self.model.classifier.in_features, out_features=4)\n",
    "            \n",
    "    def freeze(self):\n",
    "        for params in self.parameters(): params.requires_grad = False\n",
    "\n",
    "    def forward(self, x):\n",
    "        return nn.LogSoftmax(dim=1)(self.model(x))"
   ]
  },
  {
   "cell_type": "markdown",
   "id": "55527e53",
   "metadata": {
    "papermill": {
     "duration": 0.004294,
     "end_time": "2022-09-26T05:41:21.849976",
     "exception": false,
     "start_time": "2022-09-26T05:41:21.845682",
     "status": "completed"
    },
    "tags": []
   },
   "source": [
    "### **Fit and Predict**"
   ]
  },
  {
   "cell_type": "code",
   "execution_count": 8,
   "id": "4842e1e9",
   "metadata": {
    "execution": {
     "iopub.execute_input": "2022-09-26T05:41:21.860487Z",
     "iopub.status.busy": "2022-09-26T05:41:21.859922Z",
     "iopub.status.idle": "2022-09-26T05:41:21.870805Z",
     "shell.execute_reply": "2022-09-26T05:41:21.869998Z"
    },
    "papermill": {
     "duration": 0.018394,
     "end_time": "2022-09-26T05:41:21.872811",
     "exception": false,
     "start_time": "2022-09-26T05:41:21.854417",
     "status": "completed"
    },
    "tags": []
   },
   "outputs": [],
   "source": [
    "# def fit(model=None,\n",
    "#         optimizer=None, \n",
    "#         scheduler_rlrop=None,\n",
    "#         scheduler_oclr=None,\n",
    "#         epochs=None, \n",
    "#         early_stopping_patience=None, \n",
    "#         dataloaders=None, \n",
    "#         fold=None, \n",
    "#         save_path=None,\n",
    "#         device=None,\n",
    "#         verbose=False) -> tuple:\n",
    "    \n",
    "#     def get_accuracy(y_pred, y_true):\n",
    "#         y_pred = torch.argmax(y_pred, dim=1)\n",
    "#         return torch.count_nonzero(y_pred == y_true).item() / len(y_pred)\n",
    "    \n",
    "#     if verbose:\n",
    "#         breaker()\n",
    "#         if fold: print(f\"Training Fold {fold}...\")\n",
    "#         else: print(\"Training ...\")\n",
    "#         breaker()\n",
    "        \n",
    "#     bestLoss: dict = {\"train\" : np.inf, \"valid\" : np.inf} \n",
    "#     bestAccs: dict = {\"train\" : 0.0, \"valid\" : 0.0}\n",
    "        \n",
    "#     Losses: list = []\n",
    "#     Accuracies: list = [] \n",
    "#     LRs: list = []\n",
    "        \n",
    "#     if fold: \n",
    "#         ble_name = f\"ble_state_fold_{fold}.pt\"\n",
    "#         bae_name = f\"bae_state_fold_{fold}.pt\"\n",
    "#     else: \n",
    "#         ble_name = f\"ble_state.pt\"\n",
    "#         bae_name = f\"bae_state.pt\"\n",
    "    \n",
    "#     start_time = time()\n",
    "#     for e in range(epochs):\n",
    "#         e_st = time()\n",
    "#         epochLoss: dict = {\"train\" : 0.0, \"valid\" : 0.0} \n",
    "#         epochAccs: dict = {\"train\" : 0.0, \"valid\" : 0.0}\n",
    "\n",
    "#         for phase in [\"train\", \"valid\"]:\n",
    "#             if phase == \"train\":\n",
    "#                 model.train()\n",
    "#             else:\n",
    "#                 model.eval()\n",
    "            \n",
    "#             lossPerPass: list = []\n",
    "#             accsPerPass: list = []\n",
    "                \n",
    "#             for X, y in dataloaders[phase]:\n",
    "#                 X, y = X.to(device), y.to(device).view(-1)\n",
    "\n",
    "#                 optimizer.zero_grad()\n",
    "#                 with torch.set_grad_enabled(phase == \"train\"):\n",
    "#                     output = model(X)\n",
    "#                     loss = torch.nn.NLLLoss()(output, y)\n",
    "#                     if phase == \"train\":\n",
    "#                         loss.backward()\n",
    "#                         optimizer.step()\n",
    "#                         if scheduler_oclr: scheduler_oclr.step()\n",
    "#                 lossPerPass.append(loss.item())\n",
    "#                 accsPerPass.append(get_accuracy(output, y))\n",
    "#             epochLoss[phase] = np.mean(np.array(lossPerPass))\n",
    "#             epochAccs[phase] = np.mean(np.array(accsPerPass))\n",
    "#         if scheduler_oclr: LRs.append(scheduler_oclr.get_last_lr())\n",
    "#         Losses.append(epochLoss)\n",
    "#         Accuracies.append(epochAccs)\n",
    "    \n",
    "#         if scheduler_oclr:\n",
    "#             save_dict = {\"model_state_dict\"     : model.state_dict(),\n",
    "#                          \"optim_state_dict\"     : optimizer.state_dict(),\n",
    "#                          \"scheduler_state_dict\" : scheduler_oclr.state_dict()}\n",
    "        \n",
    "#         elif scheduler_rlrop:\n",
    "#             save_dict = {\"model_state_dict\"     : model.state_dict(),\n",
    "#                          \"optim_state_dict\"     : optimizer.state_dict(),\n",
    "#                          \"scheduler_state_dict\" : scheduler_rlrop.state_dict()}\n",
    "        \n",
    "#         else:\n",
    "#             save_dict = {\"model_state_dict\"     : model.state_dict(),\n",
    "#                          \"optim_state_dict\"     : optimizer.state_dict()}\n",
    "        \n",
    "        \n",
    "#         if early_stopping_patience:\n",
    "#             if epochLoss[\"valid\"] < bestLoss[\"valid\"]:\n",
    "#                 bestLoss = epochLoss\n",
    "#                 BLE = e + 1\n",
    "#                 torch.save(save_dict, os.path.join(save_path, ble_name))\n",
    "#                 torch.save(save_dict, os.path.join(save_path, bae_name))\n",
    "#                 early_stopping_step = 0\n",
    "#             else:\n",
    "#                 early_stopping_step += 1\n",
    "#                 if early_stopping_step > early_stopping_patience:\n",
    "#                     print(\"\\nEarly Stopping at Epoch {}\".format(e + 1))\n",
    "#                     break\n",
    "        \n",
    "#         if epochLoss[\"valid\"] < bestLoss[\"valid\"]:\n",
    "#             bestLoss = epochLoss\n",
    "#             BLE = e + 1\n",
    "#             torch.save(save_dict,os.path.join(save_path, ble_name))\n",
    "        \n",
    "#         if epochAccs[\"valid\"] > bestAccs[\"valid\"]:\n",
    "#             bestAccs = epochAccs\n",
    "#             BAE = e + 1\n",
    "#             torch.save(save_dict,os.path.join(save_path, bae_name))\n",
    "        \n",
    "#         if scheduler_rlrop: scheduler_rlrop.step(epochLoss[\"valid\"])\n",
    "        \n",
    "#         if verbose:\n",
    "#             print(\"Epoch: {} | Train Loss: {:.5f} | Valid Loss: {:.5f} |\\\n",
    "#  Train Accs: {:.5f} | Valid Accs: {:.5f} | Time: {:.2f} seconds\".format(e+1, \n",
    "#                                                                         epochLoss[\"train\"], epochLoss[\"valid\"], \n",
    "#                                                                         epochAccs[\"train\"], epochAccs[\"valid\"], \n",
    "#                                                                         time()-e_st))\n",
    "\n",
    "#     if verbose:                                           \n",
    "#         breaker()\n",
    "#         print(f\"Best Validation Loss at Epoch {BLE}\")\n",
    "#         breaker()\n",
    "#         print(f\"Best Validation Accs at Epoch {BAE}\")\n",
    "#         breaker()\n",
    "#         print(\"Time Taken [{} Epochs] : {:.2f} minutes\".format(len(Losses), (time()-start_time)/60))\n",
    "    \n",
    "#     return Losses, Accuracies, LRs, bestLoss, bestAccs, BLE, BAE, ble_name, bae_name\n",
    "\n",
    "\n",
    "def predict_batch(model=None, dataloader=None, path=None, device=None) -> np.ndarray:\n",
    "    model.load_state_dict(torch.load(path, map_location=device)[\"model_state_dict\"])\n",
    "    model.to(device)    \n",
    "    model.eval()\n",
    "    \n",
    "    y_pred = torch.zeros(1, 1).to(device)\n",
    "    \n",
    "    for X in dataloader:\n",
    "        X = X.to(device)\n",
    "        with torch.no_grad():\n",
    "            output = torch.argmax(torch.exp(model(X)), dim=1)\n",
    "        y_pred = torch.cat((y_pred, output.view(-1, 1)), dim=0)\n",
    "    \n",
    "    return y_pred[1:].detach().cpu().numpy()"
   ]
  },
  {
   "cell_type": "markdown",
   "id": "db188ec2",
   "metadata": {
    "papermill": {
     "duration": 0.004612,
     "end_time": "2022-09-26T05:41:21.882076",
     "exception": false,
     "start_time": "2022-09-26T05:41:21.877464",
     "status": "completed"
    },
    "tags": []
   },
   "source": [
    "### **Train**"
   ]
  },
  {
   "cell_type": "code",
   "execution_count": 9,
   "id": "d98a4ad4",
   "metadata": {
    "execution": {
     "iopub.execute_input": "2022-09-26T05:41:21.894405Z",
     "iopub.status.busy": "2022-09-26T05:41:21.892719Z",
     "iopub.status.idle": "2022-09-26T05:41:21.897557Z",
     "shell.execute_reply": "2022-09-26T05:41:21.896619Z"
    },
    "papermill": {
     "duration": 0.012908,
     "end_time": "2022-09-26T05:41:21.899615",
     "exception": false,
     "start_time": "2022-09-26T05:41:21.886707",
     "status": "completed"
    },
    "tags": []
   },
   "outputs": [],
   "source": [
    "# df = pd.read_csv(\"../input/kps-dataframe/dataframe.csv\")\n",
    "\n",
    "# filepaths = df.filepaths.copy().values\n",
    "# labels = df.label_index.copy().values"
   ]
  },
  {
   "cell_type": "code",
   "execution_count": 10,
   "id": "dc948811",
   "metadata": {
    "execution": {
     "iopub.execute_input": "2022-09-26T05:41:21.910709Z",
     "iopub.status.busy": "2022-09-26T05:41:21.909866Z",
     "iopub.status.idle": "2022-09-26T05:41:21.916216Z",
     "shell.execute_reply": "2022-09-26T05:41:21.915357Z"
    },
    "papermill": {
     "duration": 0.013826,
     "end_time": "2022-09-26T05:41:21.918144",
     "exception": false,
     "start_time": "2022-09-26T05:41:21.904318",
     "status": "completed"
    },
    "tags": []
   },
   "outputs": [],
   "source": [
    "# fold: int = 1\n",
    "# BLs: list = []\n",
    "# BAs: list = []\n",
    "    \n",
    "# for tr_idx, va_idx in StratifiedKFold(n_splits=cfg.n_splits, random_state=cfg.seed, shuffle=True).split(filepaths, labels):\n",
    "#     if fold == 2: break\n",
    "#     fold += 1        \n",
    "        \n",
    "# tr_filepaths, va_filepaths = filepaths[tr_idx], filepaths[va_idx] \n",
    "# tr_labels, va_labels       = labels[tr_idx], labels[va_idx]\n",
    "\n",
    "# tr_data_setup = DS(\n",
    "#     filepaths=tr_filepaths, \n",
    "#     labels=tr_labels.reshape(-1, 1),\n",
    "#     size=cfg.size,\n",
    "#     transform=cfg.train_transform)\n",
    "\n",
    "# va_data_setup = DS(\n",
    "#     filepaths=va_filepaths, \n",
    "#     labels=va_labels.reshape(-1, 1),\n",
    "#     size=cfg.size,\n",
    "#     transform=cfg.valid_transform)\n",
    "\n",
    "# dataloaders = {\n",
    "#     \"train\" : DL(tr_data_setup, batch_size=cfg.batch_size, shuffle=True, generator=torch.manual_seed(cfg.seed)),\n",
    "#     \"valid\" : DL(va_data_setup, batch_size=cfg.batch_size, shuffle=False),\n",
    "# }\n",
    "\n",
    "# cfg = CFG(\n",
    "#     size=SIZE,\n",
    "#     epochs=25, \n",
    "#     batch_size=64, \n",
    "#     early_stopping=5,\n",
    "#     steps_per_epoch=len(dataloaders[\"train\"])\n",
    "# )\n",
    "\n",
    "# torch.manual_seed(cfg.seed)\n",
    "# model = Model().to(cfg.device)\n",
    "\n",
    "# optimizer = optim.Adam([p for p in model.parameters() if p.requires_grad], lr=cfg.lr, weight_decay=cfg.wd)\n",
    "# # optimizer = optim.AdamW([p for p in model.parameters() if p.requires_grad], lr=cfg.lr, weight_decay=cfg.wd)\n",
    "# # optimizer = optim.SGD([p for p in model.parameters() if p.requires_grad], lr=cfg.lr, weight_decay=cfg.wd, momentum=0.9)\n",
    "\n",
    "# scheduler_oclr = optim.lr_scheduler.OneCycleLR(\n",
    "#     optimizer=optimizer, \n",
    "#     max_lr=cfg.max_lr, \n",
    "#     epochs=cfg.epochs, \n",
    "#     steps_per_epoch=cfg.steps_per_epoch,\n",
    "#     pct_start=cfg.pct_start, \n",
    "#     div_factor=cfg.div_factor, \n",
    "#     final_div_factor=cfg.final_div_factor\n",
    "# )\n",
    "\n",
    "# # scheduler_rlrop = optim.lr_scheduler.ReduceLROnPlateau(\n",
    "# #     optimizer=optimizer,\n",
    "# #     patience=cfg.patience,\n",
    "# #     eps=cfg.eps,\n",
    "# #     verbose=True\n",
    "# # )\n",
    "\n",
    "# # scheduler_oclr = None\n",
    "# scheduler_rlrop = None\n",
    "\n",
    "# L, A, LR, BL, BA, _, _, _, _ = fit(\n",
    "#     model=model, \n",
    "#     optimizer=optimizer, \n",
    "#     scheduler_oclr=scheduler_oclr,\n",
    "#     scheduler_rlrop=scheduler_rlrop,\n",
    "#     epochs=cfg.epochs, \n",
    "#     early_stopping_patience=cfg.early_stopping, \n",
    "#     dataloaders=dataloaders, \n",
    "#     device=cfg.device,\n",
    "#     save_path=cfg.save_path,\n",
    "#     fold=fold,\n",
    "#     verbose=True\n",
    "# )\n",
    "\n",
    "# breaker()\n",
    "# show_loss_graphs(L)\n",
    "# breaker()\n",
    "# show_accuracy_graphs(A)\n",
    "# breaker()\n",
    "# if scheduler_oclr:\n",
    "#     show_lr_graph(LR)\n",
    "#     breaker()\n",
    "\n",
    "# # BLs.append(BL)\n",
    "# # BAs.append(BA)"
   ]
  },
  {
   "cell_type": "code",
   "execution_count": 11,
   "id": "a0248f74",
   "metadata": {
    "execution": {
     "iopub.execute_input": "2022-09-26T05:41:21.929294Z",
     "iopub.status.busy": "2022-09-26T05:41:21.928715Z",
     "iopub.status.idle": "2022-09-26T05:41:21.932968Z",
     "shell.execute_reply": "2022-09-26T05:41:21.932164Z"
    },
    "papermill": {
     "duration": 0.012,
     "end_time": "2022-09-26T05:41:21.934932",
     "exception": false,
     "start_time": "2022-09-26T05:41:21.922932",
     "status": "completed"
    },
    "tags": []
   },
   "outputs": [],
   "source": [
    "# breaker()\n",
    "# print(f\"Best Loss      : {BL['valid']:.5f}\")\n",
    "# print(f\"Best Accuracy  : {BA['valid']:.5f}\")\n",
    "# breaker()"
   ]
  },
  {
   "cell_type": "markdown",
   "id": "f48a5a0c",
   "metadata": {
    "papermill": {
     "duration": 0.004447,
     "end_time": "2022-09-26T05:41:21.944094",
     "exception": false,
     "start_time": "2022-09-26T05:41:21.939647",
     "status": "completed"
    },
    "tags": []
   },
   "source": [
    "### **Best Model**"
   ]
  },
  {
   "cell_type": "code",
   "execution_count": 12,
   "id": "78cc9b50",
   "metadata": {
    "execution": {
     "iopub.execute_input": "2022-09-26T05:41:21.955601Z",
     "iopub.status.busy": "2022-09-26T05:41:21.954223Z",
     "iopub.status.idle": "2022-09-26T05:41:21.958985Z",
     "shell.execute_reply": "2022-09-26T05:41:21.958121Z"
    },
    "papermill": {
     "duration": 0.012419,
     "end_time": "2022-09-26T05:41:21.961018",
     "exception": false,
     "start_time": "2022-09-26T05:41:21.948599",
     "status": "completed"
    },
    "tags": []
   },
   "outputs": [],
   "source": [
    "# BL = np.inf\n",
    "# for i in range(len(BLs)):\n",
    "#     if BLs[i][\"valid\"] < BL:\n",
    "#         BL = BLs[i][\"valid\"]\n",
    "#         best_loss_index = i\n",
    "\n",
    "        \n",
    "# BA = 0.0\n",
    "# for i in range(len(BAs)):\n",
    "#     if BAs[i][\"valid\"] > BA:\n",
    "#         BA = BAs[i][\"valid\"]\n",
    "#         best_accs_index = i\n",
    "\n",
    "# breaker()\n",
    "# print(f\"Best Loss Model Fold     : {best_loss_index + 1}\")\n",
    "# print(f\"Best Accuracy Model Fold : {best_accs_index + 1}\")\n",
    "# breaker()"
   ]
  },
  {
   "cell_type": "markdown",
   "id": "b3d94e3e",
   "metadata": {
    "papermill": {
     "duration": 0.004319,
     "end_time": "2022-09-26T05:41:21.969896",
     "exception": false,
     "start_time": "2022-09-26T05:41:21.965577",
     "status": "completed"
    },
    "tags": []
   },
   "source": [
    "### **Submit**"
   ]
  },
  {
   "cell_type": "code",
   "execution_count": 13,
   "id": "4673cf05",
   "metadata": {
    "execution": {
     "iopub.execute_input": "2022-09-26T05:41:21.980643Z",
     "iopub.status.busy": "2022-09-26T05:41:21.979916Z",
     "iopub.status.idle": "2022-09-26T05:42:12.261338Z",
     "shell.execute_reply": "2022-09-26T05:42:12.260386Z"
    },
    "papermill": {
     "duration": 50.289151,
     "end_time": "2022-09-26T05:42:12.263843",
     "exception": false,
     "start_time": "2022-09-26T05:41:21.974692",
     "status": "completed"
    },
    "tags": []
   },
   "outputs": [],
   "source": [
    "torch.manual_seed(cfg.seed)\n",
    "model = Model().to(cfg.device)\n",
    "\n",
    "ss_df = pd.read_csv(\"../input/kaggle-pog-series-s01e03/corn/sample_submission.csv\")\n",
    "ts_filenames = ss_df[\"seed_id\"]\n",
    "ts_filenames = np.array([str(ts_filename).zfill(5) for ts_filename in ts_filenames])\n",
    "\n",
    "ts_data_setup = DS(\n",
    "    base_path=\"../input/kaggle-pog-series-s01e03/corn/test\", \n",
    "    filenames=ts_filenames, \n",
    "    size=cfg.size,\n",
    "    transform=cfg.valid_transform,\n",
    ")\n",
    "ts_data = DL(ts_data_setup, batch_size=cfg.batch_size, shuffle=False)\n",
    "\n",
    "y_pred = predict_batch(\n",
    "    model=model,\n",
    "    dataloader=ts_data,\n",
    "    path=\"../input/kps-en4-a384-f2/saves/ble_state_fold_2.pt\",\n",
    "    device=cfg.device\n",
    ")\n",
    "\n",
    "y_pred = list(y_pred.astype(\"uint8\").reshape(-1))\n",
    "y_pred = [LABELS[y_pred[i]] for i in range(len(y_pred))]\n",
    "\n",
    "ss_df[\"label\"] = y_pred\n",
    "ss_df.to_csv(\"submission.csv\", index=False)"
   ]
  }
 ],
 "metadata": {
  "kernelspec": {
   "display_name": "Python 3",
   "language": "python",
   "name": "python3"
  },
  "language_info": {
   "codemirror_mode": {
    "name": "ipython",
    "version": 3
   },
   "file_extension": ".py",
   "mimetype": "text/x-python",
   "name": "python",
   "nbconvert_exporter": "python",
   "pygments_lexer": "ipython3",
   "version": "3.7.12"
  },
  "papermill": {
   "default_parameters": {},
   "duration": 74.996046,
   "end_time": "2022-09-26T05:42:13.691837",
   "environment_variables": {},
   "exception": null,
   "input_path": "__notebook__.ipynb",
   "output_path": "__notebook__.ipynb",
   "parameters": {},
   "start_time": "2022-09-26T05:40:58.695791",
   "version": "2.3.4"
  }
 },
 "nbformat": 4,
 "nbformat_minor": 5
}
