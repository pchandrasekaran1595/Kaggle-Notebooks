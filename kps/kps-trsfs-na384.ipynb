{
 "cells": [
  {
   "cell_type": "code",
   "execution_count": 1,
   "id": "cf2bc889",
   "metadata": {
    "_cell_guid": "b1076dfc-b9ad-4769-8c92-a6c4dae69d19",
    "_uuid": "8f2839f25d086af736a60e9eeb907d3b93b6e0e5",
    "execution": {
     "iopub.execute_input": "2022-10-01T15:19:29.301435Z",
     "iopub.status.busy": "2022-10-01T15:19:29.300244Z",
     "iopub.status.idle": "2022-10-01T15:19:40.955223Z",
     "shell.execute_reply": "2022-10-01T15:19:40.954036Z"
    },
    "papermill": {
     "duration": 11.662902,
     "end_time": "2022-10-01T15:19:40.957886",
     "exception": false,
     "start_time": "2022-10-01T15:19:29.294984",
     "status": "completed"
    },
    "tags": []
   },
   "outputs": [
    {
     "name": "stdout",
     "output_type": "stream",
     "text": [
      "\u001b[33mWARNING: Running pip as the 'root' user can result in broken permissions and conflicting behaviour with the system package manager. It is recommended to use a virtual environment instead: https://pip.pypa.io/warnings/venv\u001b[0m\u001b[33m\r\n",
      "\u001b[0m"
     ]
    }
   ],
   "source": [
    "!pip install timm -q"
   ]
  },
  {
   "cell_type": "code",
   "execution_count": 2,
   "id": "2e4a5f9d",
   "metadata": {
    "execution": {
     "iopub.execute_input": "2022-10-01T15:19:40.964927Z",
     "iopub.status.busy": "2022-10-01T15:19:40.964604Z",
     "iopub.status.idle": "2022-10-01T15:19:44.167781Z",
     "shell.execute_reply": "2022-10-01T15:19:44.166740Z"
    },
    "papermill": {
     "duration": 3.2094,
     "end_time": "2022-10-01T15:19:44.170412",
     "exception": false,
     "start_time": "2022-10-01T15:19:40.961012",
     "status": "completed"
    },
    "tags": []
   },
   "outputs": [],
   "source": [
    "import os\n",
    "import re\n",
    "import cv2\n",
    "import timm\n",
    "import torch\n",
    "import numpy as np\n",
    "import pandas as pd\n",
    "\n",
    "from time import time, sleep\n",
    "from torch import nn\n",
    "from torch.utils.data import Dataset\n",
    "from torch.utils.data import DataLoader as DL\n",
    "from torchvision import transforms"
   ]
  },
  {
   "cell_type": "code",
   "execution_count": 3,
   "id": "cd085ced",
   "metadata": {
    "execution": {
     "iopub.execute_input": "2022-10-01T15:19:44.178300Z",
     "iopub.status.busy": "2022-10-01T15:19:44.176513Z",
     "iopub.status.idle": "2022-10-01T15:19:44.192241Z",
     "shell.execute_reply": "2022-10-01T15:19:44.191362Z"
    },
    "papermill": {
     "duration": 0.0213,
     "end_time": "2022-10-01T15:19:44.194219",
     "exception": false,
     "start_time": "2022-10-01T15:19:44.172919",
     "status": "completed"
    },
    "tags": []
   },
   "outputs": [],
   "source": [
    "class Model(nn.Module):\n",
    "    def __init__(self, model_name: str):\n",
    "        super(Model, self).__init__()\n",
    "        \n",
    "        if model_name == \"swin_base_patch4_window12_384_in22k\":\n",
    "            self.model = timm.create_model(model_name, pretrained=True)\n",
    "            self.freeze()\n",
    "            self.model = nn.Sequential(*[*self.model.children()][:-1])\n",
    "        \n",
    "        elif model_name == \"swin_large_patch4_window12_384_in22k\":\n",
    "            self.model = timm.create_model(model_name, pretrained=True)\n",
    "            self.freeze()\n",
    "            self.model = nn.Sequential(*[*self.model.children()][:-1])\n",
    "        \n",
    "        elif model_name == \"vit_base_patch16_384\":\n",
    "            self.model = timm.create_model(model_name, pretrained=True)\n",
    "            self.freeze()\n",
    "            self.model = nn.Sequential(*[*self.model.children()][:-1])\n",
    "        \n",
    "        elif model_name == \"vit_base_patch32_384\":\n",
    "            self.model = timm.create_model(model_name, pretrained=True)\n",
    "            self.freeze()\n",
    "            self.model = nn.Sequential(*[*self.model.children()][:-1])\n",
    "        \n",
    "        elif model_name == \"vit_large_patch16_384\":\n",
    "            self.model = timm.create_model(model_name, pretrained=True)\n",
    "            self.freeze()\n",
    "            self.model = nn.Sequential(*[*self.model.children()][:-1])\n",
    "        \n",
    "        elif model_name == \"vit_large_patch32_384\":\n",
    "            self.model = timm.create_model(model_name, pretrained=True)\n",
    "            self.freeze()\n",
    "            self.model = nn.Sequential(*[*self.model.children()][:-1])\n",
    "        \n",
    "        elif model_name == \"deit3_base_patch16_384_in21ft1k\":\n",
    "            self.model = timm.create_model(model_name, pretrained=True)\n",
    "            self.freeze()\n",
    "            self.model = nn.Sequential(*[*self.model.children()][:-1])\n",
    "        \n",
    "        elif model_name == \"deit3_large_patch16_384_in21ft1k\":\n",
    "            self.model = timm.create_model(model_name, pretrained=True)\n",
    "            self.freeze()\n",
    "            self.model = nn.Sequential(*[*self.model.children()][:-1])\n",
    "        \n",
    "        elif model_name == \"deit3_small_patch16_384_in21ft1k\":\n",
    "            self.model = timm.create_model(model_name, pretrained=True)\n",
    "            self.freeze()\n",
    "            self.model = nn.Sequential(*[*self.model.children()][:-1])\n",
    "        \n",
    "        elif model_name == \"deit_base_distilled_patch16_384\":\n",
    "            self.model = timm.create_model(model_name, pretrained=True)\n",
    "            self.freeze()\n",
    "            self.model = nn.Sequential(*[*self.model.children()][:-1])\n",
    "    \n",
    "    def freeze(self):\n",
    "        for p in self.parameters(): p.requires_grad = False\n",
    "    \n",
    "    def forward(self, x):\n",
    "        return self.model(x)"
   ]
  },
  {
   "cell_type": "code",
   "execution_count": 4,
   "id": "e6ee4d66",
   "metadata": {
    "execution": {
     "iopub.execute_input": "2022-10-01T15:19:44.200237Z",
     "iopub.status.busy": "2022-10-01T15:19:44.199928Z",
     "iopub.status.idle": "2022-10-01T15:19:44.206066Z",
     "shell.execute_reply": "2022-10-01T15:19:44.204856Z"
    },
    "papermill": {
     "duration": 0.01184,
     "end_time": "2022-10-01T15:19:44.208462",
     "exception": false,
     "start_time": "2022-10-01T15:19:44.196622",
     "status": "completed"
    },
    "tags": []
   },
   "outputs": [],
   "source": [
    "def breaker(num: int=50, char: str=\"*\") -> None:\n",
    "    print(\"\\n\" + num*char + \"\\n\")\n",
    "\n",
    "    \n",
    "def get_image(path: str, size: int=224) -> np.ndarray:\n",
    "    image = cv2.imread(path, cv2.IMREAD_COLOR)\n",
    "    image = cv2.cvtColor(src=image, code=cv2.COLOR_BGR2RGB)\n",
    "    return cv2.resize(src=image, dsize=(size, size), interpolation=cv2.INTER_AREA)"
   ]
  },
  {
   "cell_type": "code",
   "execution_count": 5,
   "id": "53478cca",
   "metadata": {
    "execution": {
     "iopub.execute_input": "2022-10-01T15:19:44.214255Z",
     "iopub.status.busy": "2022-10-01T15:19:44.213964Z",
     "iopub.status.idle": "2022-10-01T15:19:44.220334Z",
     "shell.execute_reply": "2022-10-01T15:19:44.219229Z"
    },
    "papermill": {
     "duration": 0.011497,
     "end_time": "2022-10-01T15:19:44.222450",
     "exception": false,
     "start_time": "2022-10-01T15:19:44.210953",
     "status": "completed"
    },
    "tags": []
   },
   "outputs": [],
   "source": [
    "class DS(Dataset):\n",
    "    def __init__(\n",
    "        self, \n",
    "        filepaths: np.ndarray, \n",
    "        size: int,\n",
    "        transform=None\n",
    "    ):\n",
    "        \n",
    "        self.filepaths = filepaths\n",
    "        self.size = size\n",
    "        self.transform = transform\n",
    "    \n",
    "    def __len__(self):\n",
    "        return self.filepaths.shape[0]\n",
    "    \n",
    "    def __getitem__(self, idx):\n",
    "        image = get_image(self.filepaths[idx], self.size)\n",
    "        return self.transform(image)"
   ]
  },
  {
   "cell_type": "code",
   "execution_count": 6,
   "id": "7698b7bd",
   "metadata": {
    "execution": {
     "iopub.execute_input": "2022-10-01T15:19:44.228014Z",
     "iopub.status.busy": "2022-10-01T15:19:44.227745Z",
     "iopub.status.idle": "2022-10-01T15:19:44.234193Z",
     "shell.execute_reply": "2022-10-01T15:19:44.233226Z"
    },
    "papermill": {
     "duration": 0.011626,
     "end_time": "2022-10-01T15:19:44.236269",
     "exception": false,
     "start_time": "2022-10-01T15:19:44.224643",
     "status": "completed"
    },
    "tags": []
   },
   "outputs": [],
   "source": [
    "def get_features(model=None, dataloader=None, feature_length: int=None) -> np.ndarray: \n",
    "    model.eval()\n",
    "    \n",
    "    y_pred = torch.zeros(1, feature_length).to(torch.device(\"cuda\" if torch.cuda.is_available() else \"cpu\"))\n",
    "    \n",
    "    for X in dataloader:\n",
    "        X = X.to(torch.device(\"cuda\" if torch.cuda.is_available() else \"cpu\"))\n",
    "        with torch.no_grad():\n",
    "            output = model(X)[:, -1, :]\n",
    "        y_pred = torch.cat((y_pred, output), dim=0)\n",
    "    \n",
    "    return y_pred[1:].detach().cpu().numpy()"
   ]
  },
  {
   "cell_type": "code",
   "execution_count": 7,
   "id": "494be772",
   "metadata": {
    "execution": {
     "iopub.execute_input": "2022-10-01T15:19:44.242063Z",
     "iopub.status.busy": "2022-10-01T15:19:44.241798Z",
     "iopub.status.idle": "2022-10-01T16:35:54.638199Z",
     "shell.execute_reply": "2022-10-01T16:35:54.637149Z"
    },
    "papermill": {
     "duration": 4570.402399,
     "end_time": "2022-10-01T16:35:54.640910",
     "exception": false,
     "start_time": "2022-10-01T15:19:44.238511",
     "status": "completed"
    },
    "tags": []
   },
   "outputs": [
    {
     "name": "stderr",
     "output_type": "stream",
     "text": [
      "/opt/conda/lib/python3.7/site-packages/torch/functional.py:568: UserWarning: torch.meshgrid: in an upcoming release, it will be required to pass the indexing argument. (Triggered internally at  /usr/local/src/pytorch/aten/src/ATen/native/TensorShape.cpp:2227.)\n",
      "  return _VF.meshgrid(tensors, **kwargs)  # type: ignore[attr-defined]\n",
      "Downloading: \"https://github.com/SwinTransformer/storage/releases/download/v1.0.0/swin_base_patch4_window12_384_22k.pth\" to /root/.cache/torch/hub/checkpoints/swin_base_patch4_window12_384_22k.pth\n",
      "Downloading: \"https://github.com/SwinTransformer/storage/releases/download/v1.0.0/swin_large_patch4_window12_384_22k.pth\" to /root/.cache/torch/hub/checkpoints/swin_large_patch4_window12_384_22k.pth\n",
      "Downloading: \"https://github.com/rwightman/pytorch-image-models/releases/download/v0.1-vitjx/jx_vit_large_p32_384-9b920ba8.pth\" to /root/.cache/torch/hub/checkpoints/jx_vit_large_p32_384-9b920ba8.pth\n",
      "Downloading: \"https://dl.fbaipublicfiles.com/deit/deit_3_base_384_21k.pth\" to /root/.cache/torch/hub/checkpoints/deit_3_base_384_21k.pth\n",
      "Downloading: \"https://dl.fbaipublicfiles.com/deit/deit_3_large_384_21k.pth\" to /root/.cache/torch/hub/checkpoints/deit_3_large_384_21k.pth\n",
      "Downloading: \"https://dl.fbaipublicfiles.com/deit/deit_3_small_384_21k.pth\" to /root/.cache/torch/hub/checkpoints/deit_3_small_384_21k.pth\n",
      "Downloading: \"https://dl.fbaipublicfiles.com/deit/deit_base_distilled_patch16_384-d0272ac0.pth\" to /root/.cache/torch/hub/checkpoints/deit_base_distilled_patch16_384-d0272ac0.pth\n"
     ]
    }
   ],
   "source": [
    "df = pd.read_csv(\"../input/kps-dataframe/dataframe.csv\")\n",
    "\n",
    "data_setup = DS(\n",
    "    filepaths=df.filepaths.copy().values, \n",
    "    size=384,\n",
    "    transform=transforms.Compose([\n",
    "        transforms.ToTensor(),\n",
    "        transforms.Normalize([0.81450, 0.79094, 0.69495], [0.06435, 0.10338, 0.20791]),\n",
    "    ])\n",
    ")\n",
    "\n",
    "model_names: list = [\n",
    "    \"swin_base_patch4_window12_384_in22k\",\n",
    "    \"swin_large_patch4_window12_384_in22k\",\n",
    "    \"vit_base_patch16_384\",\n",
    "    \"vit_base_patch32_384\",\n",
    "    \"vit_large_patch16_384\",\n",
    "    \"vit_large_patch32_384\",\n",
    "    \"deit3_base_patch16_384_in21ft1k\",\n",
    "    \"deit3_large_patch16_384_in21ft1k\",\n",
    "    \"deit3_small_patch16_384_in21ft1k\",\n",
    "    \"deit_base_distilled_patch16_384\",\n",
    "]\n",
    "    \n",
    "feature_lengths: list = [\n",
    "    1024,\n",
    "    1536,\n",
    "    768,\n",
    "    768,\n",
    "    1024,\n",
    "    1024,\n",
    "    768,\n",
    "    1024,\n",
    "    384,\n",
    "    1000,\n",
    "]\n",
    "    \n",
    "for i in range(len(model_names)):\n",
    "    data = DL(data_setup, batch_size=16, shuffle=False)\n",
    "    model = Model(model_names[i]).to(torch.device(\"cuda\" if torch.cuda.is_available() else \"cpu\"))\n",
    "    features = get_features(model=model, dataloader=data, feature_length=feature_lengths[i])\n",
    "    np.save(f\"{model_names[i]}.npy\", features)\n",
    "    \n",
    "    del model, data\n",
    "    torch.cuda.empty_cache()\n",
    "    \n",
    "    sleep(30)"
   ]
  }
 ],
 "metadata": {
  "kernelspec": {
   "display_name": "Python 3",
   "language": "python",
   "name": "python3"
  },
  "language_info": {
   "codemirror_mode": {
    "name": "ipython",
    "version": 3
   },
   "file_extension": ".py",
   "mimetype": "text/x-python",
   "name": "python",
   "nbconvert_exporter": "python",
   "pygments_lexer": "ipython3",
   "version": "3.7.12"
  },
  "papermill": {
   "default_parameters": {},
   "duration": 4596.383529,
   "end_time": "2022-10-01T16:35:57.366448",
   "environment_variables": {},
   "exception": null,
   "input_path": "__notebook__.ipynb",
   "output_path": "__notebook__.ipynb",
   "parameters": {},
   "start_time": "2022-10-01T15:19:20.982919",
   "version": "2.3.4"
  }
 },
 "nbformat": 4,
 "nbformat_minor": 5
}
