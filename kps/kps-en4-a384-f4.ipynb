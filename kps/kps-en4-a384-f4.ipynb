{
 "cells": [
  {
   "cell_type": "markdown",
   "id": "478c7476",
   "metadata": {
    "_cell_guid": "b1076dfc-b9ad-4769-8c92-a6c4dae69d19",
    "_uuid": "8f2839f25d086af736a60e9eeb907d3b93b6e0e5",
    "papermill": {
     "duration": 0.008492,
     "end_time": "2022-09-26T05:55:42.836518",
     "exception": false,
     "start_time": "2022-09-26T05:55:42.828026",
     "status": "completed"
    },
    "tags": []
   },
   "source": [
    "### **Setup**"
   ]
  },
  {
   "cell_type": "code",
   "execution_count": 1,
   "id": "44855d8e",
   "metadata": {
    "execution": {
     "iopub.execute_input": "2022-09-26T05:55:42.854483Z",
     "iopub.status.busy": "2022-09-26T05:55:42.853593Z",
     "iopub.status.idle": "2022-09-26T05:55:53.939735Z",
     "shell.execute_reply": "2022-09-26T05:55:53.938208Z"
    },
    "papermill": {
     "duration": 11.097637,
     "end_time": "2022-09-26T05:55:53.942003",
     "exception": false,
     "start_time": "2022-09-26T05:55:42.844366",
     "status": "completed"
    },
    "tags": []
   },
   "outputs": [
    {
     "name": "stderr",
     "output_type": "stream",
     "text": [
      "WARNING: Running pip as the 'root' user can result in broken permissions and conflicting behaviour with the system package manager. It is recommended to use a virtual environment instead: https://pip.pypa.io/warnings/venv\n"
     ]
    }
   ],
   "source": [
    "%%bash\n",
    "pip install timm -q"
   ]
  },
  {
   "cell_type": "markdown",
   "id": "75ed319d",
   "metadata": {
    "papermill": {
     "duration": 0.004374,
     "end_time": "2022-09-26T05:55:53.951410",
     "exception": false,
     "start_time": "2022-09-26T05:55:53.947036",
     "status": "completed"
    },
    "tags": []
   },
   "source": [
    "### **Library Imports**"
   ]
  },
  {
   "cell_type": "code",
   "execution_count": 2,
   "id": "42739501",
   "metadata": {
    "execution": {
     "iopub.execute_input": "2022-09-26T05:55:53.961878Z",
     "iopub.status.busy": "2022-09-26T05:55:53.961579Z",
     "iopub.status.idle": "2022-09-26T05:55:58.030319Z",
     "shell.execute_reply": "2022-09-26T05:55:58.028980Z"
    },
    "papermill": {
     "duration": 4.076809,
     "end_time": "2022-09-26T05:55:58.032826",
     "exception": false,
     "start_time": "2022-09-26T05:55:53.956017",
     "status": "completed"
    },
    "tags": []
   },
   "outputs": [],
   "source": [
    "import os\n",
    "import re\n",
    "import cv2\n",
    "import timm\n",
    "import torch\n",
    "import numpy as np\n",
    "import pandas as pd\n",
    "import matplotlib.pyplot as plt\n",
    "\n",
    "from time import time\n",
    "from torch import nn, optim\n",
    "from torch.utils.data import Dataset\n",
    "from torch.utils.data import DataLoader as DL\n",
    "from torchvision import models, transforms\n",
    "\n",
    "from sklearn.model_selection import StratifiedKFold"
   ]
  },
  {
   "cell_type": "markdown",
   "id": "20cbb794",
   "metadata": {
    "papermill": {
     "duration": 0.004624,
     "end_time": "2022-09-26T05:55:58.042445",
     "exception": false,
     "start_time": "2022-09-26T05:55:58.037821",
     "status": "completed"
    },
    "tags": []
   },
   "source": [
    "### **Utilities and Helpers**"
   ]
  },
  {
   "cell_type": "code",
   "execution_count": 3,
   "id": "8b9a09b9",
   "metadata": {
    "execution": {
     "iopub.execute_input": "2022-09-26T05:55:58.054193Z",
     "iopub.status.busy": "2022-09-26T05:55:58.053523Z",
     "iopub.status.idle": "2022-09-26T05:55:58.066595Z",
     "shell.execute_reply": "2022-09-26T05:55:58.065580Z"
    },
    "papermill": {
     "duration": 0.020922,
     "end_time": "2022-09-26T05:55:58.068528",
     "exception": false,
     "start_time": "2022-09-26T05:55:58.047606",
     "status": "completed"
    },
    "tags": []
   },
   "outputs": [],
   "source": [
    "SEED = 42\n",
    "SIZE = 384\n",
    "\n",
    "\n",
    "def breaker(num: int=50, char: str=\"*\") -> None:\n",
    "    print(\"\\n\" + num*char + \"\\n\")\n",
    "\n",
    "    \n",
    "def get_image(path: str, size: int=224) -> np.ndarray:\n",
    "    image = cv2.imread(path, cv2.IMREAD_COLOR)\n",
    "    image = cv2.cvtColor(src=image, code=cv2.COLOR_BGR2RGB)\n",
    "    return cv2.resize(src=image, dsize=(size, size), interpolation=cv2.INTER_AREA)\n",
    "\n",
    "\n",
    "def show_loss_graphs(L: list) -> None:\n",
    "    TL, VL = [], []\n",
    "    for i in range(len(L)):\n",
    "        TL.append(L[i][\"train\"])\n",
    "        VL.append(L[i][\"valid\"])\n",
    "    x_Axis = np.arange(1, len(TL) + 1)\n",
    "    plt.figure()\n",
    "    plt.plot(x_Axis, TL, \"r\", label=\"Train\")\n",
    "    plt.plot(x_Axis, VL, \"b\", label=\"Valid\")\n",
    "    plt.legend()\n",
    "    plt.grid()\n",
    "    plt.title(\"Loss Graph\")\n",
    "    plt.show()\n",
    "\n",
    "    \n",
    "def show_accuracy_graphs(A: list) -> None:\n",
    "    TA, VA = [], []\n",
    "    for i in range(len(A)):\n",
    "        TA.append(A[i][\"train\"])\n",
    "        VA.append(A[i][\"valid\"])\n",
    "    x_Axis = np.arange(1, len(TA) + 1)\n",
    "    plt.figure()\n",
    "    plt.plot(x_Axis, TA, \"r\", label=\"Train\")\n",
    "    plt.plot(x_Axis, VA, \"b\", label=\"Valid\")\n",
    "    plt.legend()\n",
    "    plt.grid()\n",
    "    plt.title(\"Accuracy Graph\")\n",
    "    plt.show()\n",
    "    \n",
    "\n",
    "def show_lr_graph(LR: list) -> None:\n",
    "    x_Axis = [i+1 for i in range(len(LR))]\n",
    "    plt.figure(figsize=(8, 6))\n",
    "    plt.plot(x_Axis, LR, \"rx\")\n",
    "    plt.grid()\n",
    "    plt.show()"
   ]
  },
  {
   "cell_type": "markdown",
   "id": "04d10e52",
   "metadata": {
    "papermill": {
     "duration": 0.00444,
     "end_time": "2022-09-26T05:55:58.077596",
     "exception": false,
     "start_time": "2022-09-26T05:55:58.073156",
     "status": "completed"
    },
    "tags": []
   },
   "source": [
    "### **Configuration**"
   ]
  },
  {
   "cell_type": "code",
   "execution_count": 4,
   "id": "7f8cbd4a",
   "metadata": {
    "execution": {
     "iopub.execute_input": "2022-09-26T05:55:58.088585Z",
     "iopub.status.busy": "2022-09-26T05:55:58.087923Z",
     "iopub.status.idle": "2022-09-26T05:55:58.161250Z",
     "shell.execute_reply": "2022-09-26T05:55:58.160304Z"
    },
    "papermill": {
     "duration": 0.081836,
     "end_time": "2022-09-26T05:55:58.163889",
     "exception": false,
     "start_time": "2022-09-26T05:55:58.082053",
     "status": "completed"
    },
    "tags": []
   },
   "outputs": [],
   "source": [
    "class CFG(object):\n",
    "    def __init__(self, \n",
    "                 seed: int = 42,\n",
    "                 size: int = 224,\n",
    "                 n_splits: int = 5,\n",
    "                 batch_size: int = 16,\n",
    "                 epochs: int = 25,\n",
    "                 early_stopping: int = 5,\n",
    "                 lr: float = 1e-4,\n",
    "                 wd: float = 0.0,\n",
    "                 max_lr: float = 1e-3,\n",
    "                 pct_start: float = 0.2,\n",
    "                 steps_per_epoch: int = 100,\n",
    "                 div_factor: int = 1e3, \n",
    "                 final_div_factor: float = 1e3,\n",
    "                 ):\n",
    "        self.seed = seed\n",
    "        self.size = size\n",
    "        self.n_splits = n_splits\n",
    "        self.batch_size = batch_size\n",
    "        self.epochs = epochs\n",
    "        self.early_stopping = early_stopping\n",
    "        self.lr = lr\n",
    "        self.wd = wd\n",
    "        self.max_lr = max_lr\n",
    "        self.pct_start = pct_start\n",
    "        self.steps_per_epoch = steps_per_epoch\n",
    "        self.div_factor = div_factor\n",
    "        self.final_div_factor = final_div_factor\n",
    "        self.device = torch.device(\"cuda\" if torch.cuda.is_available() else \"cpu\")\n",
    "        self.train_transform = transforms.Compose([\n",
    "            transforms.ToTensor(),\n",
    "            transforms.Normalize([0.81450, 0.79094, 0.69495], [0.06435, 0.10338, 0.20791]),\n",
    "            transforms.RandomAffine(degrees=(-45, 45), translate=(0.15, 0.15), scale=(0.5, 1.5)),\n",
    "            transforms.RandomHorizontalFlip(p=0.25),\n",
    "            transforms.RandomVerticalFlip(p=0.25),\n",
    "        ])\n",
    "        self.valid_transform = transforms.Compose([\n",
    "            transforms.ToTensor(),\n",
    "            transforms.Normalize([0.81450, 0.79094, 0.69495], [0.06435, 0.10338, 0.20791]),\n",
    "        ])\n",
    "                                \n",
    "        self.save_path = \"saves\"\n",
    "        if not os.path.exists(self.save_path): os.makedirs(self.save_path)\n",
    "    \n",
    "cfg = CFG(seed=SEED, size=SIZE)"
   ]
  },
  {
   "cell_type": "markdown",
   "id": "1b3ea62d",
   "metadata": {
    "papermill": {
     "duration": 0.004739,
     "end_time": "2022-09-26T05:55:58.173372",
     "exception": false,
     "start_time": "2022-09-26T05:55:58.168633",
     "status": "completed"
    },
    "tags": []
   },
   "source": [
    "### **Dataset Template**"
   ]
  },
  {
   "cell_type": "code",
   "execution_count": 5,
   "id": "855ae2e6",
   "metadata": {
    "execution": {
     "iopub.execute_input": "2022-09-26T05:55:58.185558Z",
     "iopub.status.busy": "2022-09-26T05:55:58.183989Z",
     "iopub.status.idle": "2022-09-26T05:55:58.191107Z",
     "shell.execute_reply": "2022-09-26T05:55:58.190273Z"
    },
    "papermill": {
     "duration": 0.015175,
     "end_time": "2022-09-26T05:55:58.193201",
     "exception": false,
     "start_time": "2022-09-26T05:55:58.178026",
     "status": "completed"
    },
    "tags": []
   },
   "outputs": [],
   "source": [
    "class DS(Dataset):\n",
    "    def __init__(\n",
    "        self, \n",
    "        filepaths: np.ndarray, \n",
    "        labels: np.ndarray, \n",
    "        size: int,\n",
    "        transform=None):\n",
    "        \n",
    "        self.filepaths = filepaths\n",
    "        self.labels = labels\n",
    "        self.size = size\n",
    "        self.transform = transform\n",
    "    \n",
    "    def __len__(self):\n",
    "        return self.filepaths.shape[0]\n",
    "    \n",
    "    def __getitem__(self, idx):\n",
    "        image = get_image(self.filepaths[idx], self.size)\n",
    "        return self.transform(image), torch.LongTensor(self.labels[idx])"
   ]
  },
  {
   "cell_type": "code",
   "execution_count": 6,
   "id": "27449729",
   "metadata": {
    "execution": {
     "iopub.execute_input": "2022-09-26T05:55:58.204775Z",
     "iopub.status.busy": "2022-09-26T05:55:58.203246Z",
     "iopub.status.idle": "2022-09-26T05:55:58.208847Z",
     "shell.execute_reply": "2022-09-26T05:55:58.208030Z"
    },
    "papermill": {
     "duration": 0.013293,
     "end_time": "2022-09-26T05:55:58.211012",
     "exception": false,
     "start_time": "2022-09-26T05:55:58.197719",
     "status": "completed"
    },
    "tags": []
   },
   "outputs": [],
   "source": [
    "# class DS(Dataset):\n",
    "#     def __init__(\n",
    "#         self, \n",
    "#         base_path: str,\n",
    "#         filenames: np.ndarray, \n",
    "#         size: int,\n",
    "#         transform=None):\n",
    "        \n",
    "#         self.base_path = base_path\n",
    "#         self.filenames = filenames\n",
    "#         self.size = size\n",
    "#         self.transform = transform\n",
    "    \n",
    "#     def __len__(self):\n",
    "#         return self.filenames.shape[0]\n",
    "    \n",
    "#     def __getitem__(self, idx):\n",
    "#         path = os.path.join(self.base_path, str(self.filenames[idx]) + \".png\")\n",
    "#         image = get_image(path, self.size)\n",
    "#         return self.transform(image)"
   ]
  },
  {
   "cell_type": "markdown",
   "id": "98c9383d",
   "metadata": {
    "papermill": {
     "duration": 0.004324,
     "end_time": "2022-09-26T05:55:58.221359",
     "exception": false,
     "start_time": "2022-09-26T05:55:58.217035",
     "status": "completed"
    },
    "tags": []
   },
   "source": [
    "### **Model**"
   ]
  },
  {
   "cell_type": "code",
   "execution_count": 7,
   "id": "4b7defa8",
   "metadata": {
    "execution": {
     "iopub.execute_input": "2022-09-26T05:55:58.231685Z",
     "iopub.status.busy": "2022-09-26T05:55:58.231403Z",
     "iopub.status.idle": "2022-09-26T05:55:58.237803Z",
     "shell.execute_reply": "2022-09-26T05:55:58.236876Z"
    },
    "papermill": {
     "duration": 0.013694,
     "end_time": "2022-09-26T05:55:58.239791",
     "exception": false,
     "start_time": "2022-09-26T05:55:58.226097",
     "status": "completed"
    },
    "tags": []
   },
   "outputs": [],
   "source": [
    "class Model(nn.Module):\n",
    "    def __init__(self):\n",
    "        super(Model, self).__init__()\n",
    "            \n",
    "        self.model = timm.create_model(model_name=\"efficientnet_b4\", pretrained=True)\n",
    "        self.model.classifier = nn.Linear(in_features=self.model.classifier.in_features, out_features=4)\n",
    "            \n",
    "    def freeze(self):\n",
    "        for params in self.parameters(): params.requires_grad = False\n",
    "\n",
    "    def forward(self, x):\n",
    "        return nn.LogSoftmax(dim=1)(self.model(x))"
   ]
  },
  {
   "cell_type": "markdown",
   "id": "88a5d9a1",
   "metadata": {
    "papermill": {
     "duration": 0.00419,
     "end_time": "2022-09-26T05:55:58.248621",
     "exception": false,
     "start_time": "2022-09-26T05:55:58.244431",
     "status": "completed"
    },
    "tags": []
   },
   "source": [
    "### **Fit and Predict**"
   ]
  },
  {
   "cell_type": "code",
   "execution_count": 8,
   "id": "986c78fc",
   "metadata": {
    "execution": {
     "iopub.execute_input": "2022-09-26T05:55:58.259633Z",
     "iopub.status.busy": "2022-09-26T05:55:58.259008Z",
     "iopub.status.idle": "2022-09-26T05:55:58.280735Z",
     "shell.execute_reply": "2022-09-26T05:55:58.279927Z"
    },
    "papermill": {
     "duration": 0.029556,
     "end_time": "2022-09-26T05:55:58.282779",
     "exception": false,
     "start_time": "2022-09-26T05:55:58.253223",
     "status": "completed"
    },
    "tags": []
   },
   "outputs": [],
   "source": [
    "def fit(model=None,\n",
    "        optimizer=None, \n",
    "        scheduler_rlrop=None,\n",
    "        scheduler_oclr=None,\n",
    "        epochs=None, \n",
    "        early_stopping_patience=None, \n",
    "        dataloaders=None, \n",
    "        fold=None, \n",
    "        save_path=None,\n",
    "        device=None,\n",
    "        verbose=False) -> tuple:\n",
    "    \n",
    "    def get_accuracy(y_pred, y_true):\n",
    "        y_pred = torch.argmax(y_pred, dim=1)\n",
    "        return torch.count_nonzero(y_pred == y_true).item() / len(y_pred)\n",
    "    \n",
    "    if verbose:\n",
    "        breaker()\n",
    "        if fold: print(f\"Training Fold {fold}...\")\n",
    "        else: print(\"Training ...\")\n",
    "        breaker()\n",
    "        \n",
    "    bestLoss: dict = {\"train\" : np.inf, \"valid\" : np.inf} \n",
    "    bestAccs: dict = {\"train\" : 0.0, \"valid\" : 0.0}\n",
    "        \n",
    "    Losses: list = []\n",
    "    Accuracies: list = [] \n",
    "    LRs: list = []\n",
    "        \n",
    "    if fold: \n",
    "        ble_name = f\"ble_state_fold_{fold}.pt\"\n",
    "        bae_name = f\"bae_state_fold_{fold}.pt\"\n",
    "    else: \n",
    "        ble_name = f\"ble_state.pt\"\n",
    "        bae_name = f\"bae_state.pt\"\n",
    "    \n",
    "    start_time = time()\n",
    "    for e in range(epochs):\n",
    "        e_st = time()\n",
    "        epochLoss: dict = {\"train\" : 0.0, \"valid\" : 0.0} \n",
    "        epochAccs: dict = {\"train\" : 0.0, \"valid\" : 0.0}\n",
    "\n",
    "        for phase in [\"train\", \"valid\"]:\n",
    "            if phase == \"train\":\n",
    "                model.train()\n",
    "            else:\n",
    "                model.eval()\n",
    "            \n",
    "            lossPerPass: list = []\n",
    "            accsPerPass: list = []\n",
    "                \n",
    "            for X, y in dataloaders[phase]:\n",
    "                X, y = X.to(device), y.to(device).view(-1)\n",
    "\n",
    "                optimizer.zero_grad()\n",
    "                with torch.set_grad_enabled(phase == \"train\"):\n",
    "                    output = model(X)\n",
    "                    loss = torch.nn.NLLLoss()(output, y)\n",
    "                    if phase == \"train\":\n",
    "                        loss.backward()\n",
    "                        optimizer.step()\n",
    "                        if scheduler_oclr: scheduler_oclr.step()\n",
    "                lossPerPass.append(loss.item())\n",
    "                accsPerPass.append(get_accuracy(output, y))\n",
    "            epochLoss[phase] = np.mean(np.array(lossPerPass))\n",
    "            epochAccs[phase] = np.mean(np.array(accsPerPass))\n",
    "        if scheduler_oclr: LRs.append(scheduler_oclr.get_last_lr())\n",
    "        Losses.append(epochLoss)\n",
    "        Accuracies.append(epochAccs)\n",
    "    \n",
    "        if scheduler_oclr:\n",
    "            save_dict = {\"model_state_dict\"     : model.state_dict(),\n",
    "                         \"optim_state_dict\"     : optimizer.state_dict(),\n",
    "                         \"scheduler_state_dict\" : scheduler_oclr.state_dict()}\n",
    "        \n",
    "        elif scheduler_rlrop:\n",
    "            save_dict = {\"model_state_dict\"     : model.state_dict(),\n",
    "                         \"optim_state_dict\"     : optimizer.state_dict(),\n",
    "                         \"scheduler_state_dict\" : scheduler_rlrop.state_dict()}\n",
    "        \n",
    "        else:\n",
    "            save_dict = {\"model_state_dict\"     : model.state_dict(),\n",
    "                         \"optim_state_dict\"     : optimizer.state_dict()}\n",
    "        \n",
    "        \n",
    "        if early_stopping_patience:\n",
    "            if epochLoss[\"valid\"] < bestLoss[\"valid\"]:\n",
    "                bestLoss = epochLoss\n",
    "                BLE = e + 1\n",
    "                torch.save(save_dict, os.path.join(save_path, ble_name))\n",
    "                torch.save(save_dict, os.path.join(save_path, bae_name))\n",
    "                early_stopping_step = 0\n",
    "            else:\n",
    "                early_stopping_step += 1\n",
    "                if early_stopping_step > early_stopping_patience:\n",
    "                    print(\"\\nEarly Stopping at Epoch {}\".format(e + 1))\n",
    "                    break\n",
    "        \n",
    "        if epochLoss[\"valid\"] < bestLoss[\"valid\"]:\n",
    "            bestLoss = epochLoss\n",
    "            BLE = e + 1\n",
    "            torch.save(save_dict,os.path.join(save_path, ble_name))\n",
    "        \n",
    "        if epochAccs[\"valid\"] > bestAccs[\"valid\"]:\n",
    "            bestAccs = epochAccs\n",
    "            BAE = e + 1\n",
    "            torch.save(save_dict,os.path.join(save_path, bae_name))\n",
    "        \n",
    "        if scheduler_rlrop: scheduler_rlrop.step(epochLoss[\"valid\"])\n",
    "        \n",
    "        if verbose:\n",
    "            print(\"Epoch: {} | Train Loss: {:.5f} | Valid Loss: {:.5f} |\\\n",
    " Train Accs: {:.5f} | Valid Accs: {:.5f} | Time: {:.2f} seconds\".format(e+1, \n",
    "                                                                        epochLoss[\"train\"], epochLoss[\"valid\"], \n",
    "                                                                        epochAccs[\"train\"], epochAccs[\"valid\"], \n",
    "                                                                        time()-e_st))\n",
    "\n",
    "    if verbose:                                           \n",
    "        breaker()\n",
    "        print(f\"Best Validation Loss at Epoch {BLE}\")\n",
    "        breaker()\n",
    "        print(f\"Best Validation Accs at Epoch {BAE}\")\n",
    "        breaker()\n",
    "        print(\"Time Taken [{} Epochs] : {:.2f} minutes\".format(len(Losses), (time()-start_time)/60))\n",
    "    \n",
    "    return Losses, Accuracies, LRs, bestLoss, bestAccs, BLE, BAE, ble_name, bae_name\n",
    "\n",
    "\n",
    "# def predict_batch(model=None, dataloader=None, path=None, device=None) -> np.ndarray:\n",
    "#     model.load_state_dict(torch.load(path, map_location=device)[\"model_state_dict\"])\n",
    "#     model.to(device)    \n",
    "#     model.eval()\n",
    "    \n",
    "#     y_pred = torch.zeros(1, 1).to(device)\n",
    "    \n",
    "#     for X in dataloader:\n",
    "#         X = X.to(device)\n",
    "#         with torch.no_grad():\n",
    "#             output = torch.argmax(torch.exp(model(X)), dim=1)\n",
    "#         y_pred = torch.cat((y_pred, output.view(-1, 1)), dim=0)\n",
    "    \n",
    "#     return y_pred[1:].detach().cpu().numpy()"
   ]
  },
  {
   "cell_type": "markdown",
   "id": "cf828c24",
   "metadata": {
    "papermill": {
     "duration": 0.004276,
     "end_time": "2022-09-26T05:55:58.291661",
     "exception": false,
     "start_time": "2022-09-26T05:55:58.287385",
     "status": "completed"
    },
    "tags": []
   },
   "source": [
    "### **Train**"
   ]
  },
  {
   "cell_type": "code",
   "execution_count": 9,
   "id": "e4217405",
   "metadata": {
    "execution": {
     "iopub.execute_input": "2022-09-26T05:55:58.302943Z",
     "iopub.status.busy": "2022-09-26T05:55:58.302015Z",
     "iopub.status.idle": "2022-09-26T05:55:58.377992Z",
     "shell.execute_reply": "2022-09-26T05:55:58.377047Z"
    },
    "papermill": {
     "duration": 0.08431,
     "end_time": "2022-09-26T05:55:58.380786",
     "exception": false,
     "start_time": "2022-09-26T05:55:58.296476",
     "status": "completed"
    },
    "tags": []
   },
   "outputs": [],
   "source": [
    "df = pd.read_csv(\"../input/kps-dataframe/dataframe.csv\")\n",
    "\n",
    "filepaths = df.filepaths.copy().values\n",
    "labels = df.label_index.copy().values"
   ]
  },
  {
   "cell_type": "code",
   "execution_count": 10,
   "id": "d6b0a01f",
   "metadata": {
    "execution": {
     "iopub.execute_input": "2022-09-26T05:55:58.392218Z",
     "iopub.status.busy": "2022-09-26T05:55:58.391897Z",
     "iopub.status.idle": "2022-09-26T08:25:54.112459Z",
     "shell.execute_reply": "2022-09-26T08:25:54.111366Z"
    },
    "papermill": {
     "duration": 8995.728618,
     "end_time": "2022-09-26T08:25:54.114418",
     "exception": false,
     "start_time": "2022-09-26T05:55:58.385800",
     "status": "completed"
    },
    "tags": []
   },
   "outputs": [
    {
     "name": "stderr",
     "output_type": "stream",
     "text": [
      "Downloading: \"https://github.com/rwightman/pytorch-image-models/releases/download/v0.1-weights/efficientnet_b4_ra2_320-7eb33cd5.pth\" to /root/.cache/torch/hub/checkpoints/efficientnet_b4_ra2_320-7eb33cd5.pth\n"
     ]
    },
    {
     "name": "stdout",
     "output_type": "stream",
     "text": [
      "\n",
      "**************************************************\n",
      "\n",
      "Training Fold 4...\n",
      "\n",
      "**************************************************\n",
      "\n",
      "Epoch: 1 | Train Loss: 1.23217 | Valid Loss: 0.87519 | Train Accs: 0.44700 | Valid Accs: 0.64665 | Time: 622.88 seconds\n",
      "Epoch: 2 | Train Loss: 0.76110 | Valid Loss: 0.61338 | Train Accs: 0.69116 | Valid Accs: 0.75908 | Time: 533.92 seconds\n",
      "Epoch: 3 | Train Loss: 0.66119 | Valid Loss: 0.60323 | Train Accs: 0.73849 | Valid Accs: 0.76327 | Time: 523.21 seconds\n",
      "Epoch: 4 | Train Loss: 0.63628 | Valid Loss: 0.72480 | Train Accs: 0.74939 | Valid Accs: 0.71997 | Time: 524.36 seconds\n",
      "Epoch: 5 | Train Loss: 0.61037 | Valid Loss: 0.57989 | Train Accs: 0.75488 | Valid Accs: 0.77339 | Time: 515.85 seconds\n",
      "Epoch: 6 | Train Loss: 0.58121 | Valid Loss: 0.58879 | Train Accs: 0.76918 | Valid Accs: 0.76501 | Time: 523.34 seconds\n",
      "Epoch: 7 | Train Loss: 0.56106 | Valid Loss: 0.60801 | Train Accs: 0.78033 | Valid Accs: 0.76851 | Time: 524.12 seconds\n",
      "Epoch: 8 | Train Loss: 0.53071 | Valid Loss: 0.56039 | Train Accs: 0.79175 | Valid Accs: 0.78736 | Time: 524.30 seconds\n",
      "Epoch: 9 | Train Loss: 0.50875 | Valid Loss: 0.58277 | Train Accs: 0.79925 | Valid Accs: 0.76641 | Time: 520.61 seconds\n",
      "Epoch: 10 | Train Loss: 0.49525 | Valid Loss: 0.61808 | Train Accs: 0.80291 | Valid Accs: 0.76781 | Time: 521.30 seconds\n",
      "Epoch: 11 | Train Loss: 0.45276 | Valid Loss: 0.55522 | Train Accs: 0.82305 | Valid Accs: 0.78946 | Time: 525.90 seconds\n",
      "Epoch: 12 | Train Loss: 0.43360 | Valid Loss: 0.56217 | Train Accs: 0.83168 | Valid Accs: 0.78736 | Time: 521.44 seconds\n",
      "Epoch: 13 | Train Loss: 0.39233 | Valid Loss: 0.55712 | Train Accs: 0.84397 | Valid Accs: 0.79469 | Time: 521.09 seconds\n",
      "Epoch: 14 | Train Loss: 0.36689 | Valid Loss: 0.57392 | Train Accs: 0.85591 | Valid Accs: 0.78911 | Time: 520.99 seconds\n",
      "Epoch: 15 | Train Loss: 0.31706 | Valid Loss: 0.64939 | Train Accs: 0.87971 | Valid Accs: 0.78282 | Time: 522.46 seconds\n",
      "Epoch: 16 | Train Loss: 0.28798 | Valid Loss: 0.66840 | Train Accs: 0.88825 | Valid Accs: 0.77444 | Time: 520.12 seconds\n",
      "\n",
      "Early Stopping at Epoch 17\n",
      "\n",
      "**************************************************\n",
      "\n",
      "Best Validation Loss at Epoch 11\n",
      "\n",
      "**************************************************\n",
      "\n",
      "Best Validation Accs at Epoch 13\n",
      "\n",
      "**************************************************\n",
      "\n",
      "Time Taken [17 Epochs] : 149.78 minutes\n",
      "\n",
      "**************************************************\n",
      "\n"
     ]
    },
    {
     "data": {
      "image/png": "[encoded data removed]",
      "text/plain": [
       "<Figure size 432x288 with 1 Axes>"
      ]
     },
     "metadata": {
      "needs_background": "light"
     },
     "output_type": "display_data"
    },
    {
     "name": "stdout",
     "output_type": "stream",
     "text": [
      "\n",
      "**************************************************\n",
      "\n"
     ]
    },
    {
     "data": {
      "image/png": "[encoded data removed]",
      "text/plain": [
       "<Figure size 432x288 with 1 Axes>"
      ]
     },
     "metadata": {
      "needs_background": "light"
     },
     "output_type": "display_data"
    },
    {
     "name": "stdout",
     "output_type": "stream",
     "text": [
      "\n",
      "**************************************************\n",
      "\n"
     ]
    },
    {
     "data": {
      "image/png": "[encoded data removed]",
      "text/plain": [
       "<Figure size 576x432 with 1 Axes>"
      ]
     },
     "metadata": {
      "needs_background": "light"
     },
     "output_type": "display_data"
    },
    {
     "name": "stdout",
     "output_type": "stream",
     "text": [
      "\n",
      "**************************************************\n",
      "\n"
     ]
    }
   ],
   "source": [
    "fold: int = 1\n",
    "BLs: list = []\n",
    "BAs: list = []\n",
    "    \n",
    "for tr_idx, va_idx in StratifiedKFold(n_splits=cfg.n_splits, random_state=cfg.seed, shuffle=True).split(filepaths, labels):\n",
    "    if fold == 4: break\n",
    "    fold += 1        \n",
    "        \n",
    "tr_filepaths, va_filepaths = filepaths[tr_idx], filepaths[va_idx] \n",
    "tr_labels, va_labels       = labels[tr_idx], labels[va_idx]\n",
    "\n",
    "tr_data_setup = DS(\n",
    "    filepaths=tr_filepaths, \n",
    "    labels=tr_labels.reshape(-1, 1),\n",
    "    size=cfg.size,\n",
    "    transform=cfg.train_transform)\n",
    "\n",
    "va_data_setup = DS(\n",
    "    filepaths=va_filepaths, \n",
    "    labels=va_labels.reshape(-1, 1),\n",
    "    size=cfg.size,\n",
    "    transform=cfg.valid_transform)\n",
    "\n",
    "dataloaders = {\n",
    "    \"train\" : DL(tr_data_setup, batch_size=cfg.batch_size, shuffle=True, generator=torch.manual_seed(cfg.seed)),\n",
    "    \"valid\" : DL(va_data_setup, batch_size=cfg.batch_size, shuffle=False),\n",
    "}\n",
    "\n",
    "cfg = CFG(\n",
    "    size=SIZE,\n",
    "    epochs=25, \n",
    "    batch_size=64, \n",
    "    early_stopping=5,\n",
    "    steps_per_epoch=len(dataloaders[\"train\"])\n",
    ")\n",
    "\n",
    "torch.manual_seed(cfg.seed)\n",
    "model = Model().to(cfg.device)\n",
    "\n",
    "optimizer = optim.Adam([p for p in model.parameters() if p.requires_grad], lr=cfg.lr, weight_decay=cfg.wd)\n",
    "# optimizer = optim.AdamW([p for p in model.parameters() if p.requires_grad], lr=cfg.lr, weight_decay=cfg.wd)\n",
    "# optimizer = optim.SGD([p for p in model.parameters() if p.requires_grad], lr=cfg.lr, weight_decay=cfg.wd, momentum=0.9)\n",
    "\n",
    "scheduler_oclr = optim.lr_scheduler.OneCycleLR(\n",
    "    optimizer=optimizer, \n",
    "    max_lr=cfg.max_lr, \n",
    "    epochs=cfg.epochs, \n",
    "    steps_per_epoch=cfg.steps_per_epoch,\n",
    "    pct_start=cfg.pct_start, \n",
    "    div_factor=cfg.div_factor, \n",
    "    final_div_factor=cfg.final_div_factor\n",
    ")\n",
    "\n",
    "# scheduler_rlrop = optim.lr_scheduler.ReduceLROnPlateau(\n",
    "#     optimizer=optimizer,\n",
    "#     patience=cfg.patience,\n",
    "#     eps=cfg.eps,\n",
    "#     verbose=True\n",
    "# )\n",
    "\n",
    "# scheduler_oclr = None\n",
    "scheduler_rlrop = None\n",
    "\n",
    "L, A, LR, BL, BA, _, _, _, _ = fit(\n",
    "    model=model, \n",
    "    optimizer=optimizer, \n",
    "    scheduler_oclr=scheduler_oclr,\n",
    "    scheduler_rlrop=scheduler_rlrop,\n",
    "    epochs=cfg.epochs, \n",
    "    early_stopping_patience=cfg.early_stopping, \n",
    "    dataloaders=dataloaders, \n",
    "    device=cfg.device,\n",
    "    save_path=cfg.save_path,\n",
    "    fold=fold,\n",
    "    verbose=True\n",
    ")\n",
    "\n",
    "breaker()\n",
    "show_loss_graphs(L)\n",
    "breaker()\n",
    "show_accuracy_graphs(A)\n",
    "breaker()\n",
    "if scheduler_oclr:\n",
    "    show_lr_graph(LR)\n",
    "    breaker()\n",
    "\n",
    "# BLs.append(BL)\n",
    "# BAs.append(BA)"
   ]
  },
  {
   "cell_type": "code",
   "execution_count": 11,
   "id": "ca0391b9",
   "metadata": {
    "execution": {
     "iopub.execute_input": "2022-09-26T08:25:54.129265Z",
     "iopub.status.busy": "2022-09-26T08:25:54.128975Z",
     "iopub.status.idle": "2022-09-26T08:25:54.134029Z",
     "shell.execute_reply": "2022-09-26T08:25:54.133144Z"
    },
    "papermill": {
     "duration": 0.014859,
     "end_time": "2022-09-26T08:25:54.136137",
     "exception": false,
     "start_time": "2022-09-26T08:25:54.121278",
     "status": "completed"
    },
    "tags": []
   },
   "outputs": [
    {
     "name": "stdout",
     "output_type": "stream",
     "text": [
      "\n",
      "**************************************************\n",
      "\n",
      "Best Loss      : 0.55522\n",
      "Best Accuracy  : 0.79469\n",
      "\n",
      "**************************************************\n",
      "\n"
     ]
    }
   ],
   "source": [
    "breaker()\n",
    "print(f\"Best Loss      : {BL['valid']:.5f}\")\n",
    "print(f\"Best Accuracy  : {BA['valid']:.5f}\")\n",
    "breaker()"
   ]
  },
  {
   "cell_type": "markdown",
   "id": "4451d86e",
   "metadata": {
    "papermill": {
     "duration": 0.006616,
     "end_time": "2022-09-26T08:25:54.149691",
     "exception": false,
     "start_time": "2022-09-26T08:25:54.143075",
     "status": "completed"
    },
    "tags": []
   },
   "source": [
    "### **Best Model**"
   ]
  },
  {
   "cell_type": "code",
   "execution_count": 12,
   "id": "f833a8be",
   "metadata": {
    "execution": {
     "iopub.execute_input": "2022-09-26T08:25:54.164988Z",
     "iopub.status.busy": "2022-09-26T08:25:54.164235Z",
     "iopub.status.idle": "2022-09-26T08:25:54.169377Z",
     "shell.execute_reply": "2022-09-26T08:25:54.168567Z"
    },
    "papermill": {
     "duration": 0.014666,
     "end_time": "2022-09-26T08:25:54.171231",
     "exception": false,
     "start_time": "2022-09-26T08:25:54.156565",
     "status": "completed"
    },
    "tags": []
   },
   "outputs": [],
   "source": [
    "# BL = np.inf\n",
    "# for i in range(len(BLs)):\n",
    "#     if BLs[i][\"valid\"] < BL:\n",
    "#         BL = BLs[i][\"valid\"]\n",
    "#         best_loss_index = i\n",
    "\n",
    "        \n",
    "# BA = 0.0\n",
    "# for i in range(len(BAs)):\n",
    "#     if BAs[i][\"valid\"] > BA:\n",
    "#         BA = BAs[i][\"valid\"]\n",
    "#         best_accs_index = i\n",
    "\n",
    "# breaker()\n",
    "# print(f\"Best Loss Model Fold     : {best_loss_index + 1}\")\n",
    "# print(f\"Best Accuracy Model Fold : {best_accs_index + 1}\")\n",
    "# breaker()"
   ]
  },
  {
   "cell_type": "markdown",
   "id": "0fe85413",
   "metadata": {
    "papermill": {
     "duration": 0.00663,
     "end_time": "2022-09-26T08:25:54.184810",
     "exception": false,
     "start_time": "2022-09-26T08:25:54.178180",
     "status": "completed"
    },
    "tags": []
   },
   "source": [
    "### **Submit**"
   ]
  },
  {
   "cell_type": "code",
   "execution_count": 13,
   "id": "e4be202e",
   "metadata": {
    "execution": {
     "iopub.execute_input": "2022-09-26T08:25:54.200823Z",
     "iopub.status.busy": "2022-09-26T08:25:54.199305Z",
     "iopub.status.idle": "2022-09-26T08:25:54.204920Z",
     "shell.execute_reply": "2022-09-26T08:25:54.204109Z"
    },
    "papermill": {
     "duration": 0.015315,
     "end_time": "2022-09-26T08:25:54.206816",
     "exception": false,
     "start_time": "2022-09-26T08:25:54.191501",
     "status": "completed"
    },
    "tags": []
   },
   "outputs": [],
   "source": [
    "# torch.manual_seed(cfg.seed)\n",
    "# model = Model().to(cfg.device)\n",
    "\n",
    "# ss_df = pd.read_csv(\"../input/4-animal-classification/Sample_submission.csv\")\n",
    "# ts_filenames = ss_df[\"ID\"]\n",
    "\n",
    "# ts_data_setup = DS(\n",
    "#     base_path=\"../input/4-animal-classification/test/test\", \n",
    "#     filenames=ts_filenames, \n",
    "#     size=cfg.size,\n",
    "#     transform=cfg.valid_transform,\n",
    "# )\n",
    "# ts_data = DL(ts_data_setup, batch_size=cfg.batch_size, shuffle=False)\n",
    "\n",
    "# y_pred = predict_batch(\n",
    "#     model=model,\n",
    "#     dataloader=ts_data,\n",
    "#     path=\"\",\n",
    "#     device=cfg.device\n",
    "# )\n",
    "\n",
    "# ss_df[\"Label\"] = y_pred.astype(\"uint8\")\n",
    "# ss_df.to_csv(\"submission.csv\", index=False)"
   ]
  }
 ],
 "metadata": {
  "kernelspec": {
   "display_name": "Python 3",
   "language": "python",
   "name": "python3"
  },
  "language_info": {
   "codemirror_mode": {
    "name": "ipython",
    "version": 3
   },
   "file_extension": ".py",
   "mimetype": "text/x-python",
   "name": "python",
   "nbconvert_exporter": "python",
   "pygments_lexer": "ipython3",
   "version": "3.7.12"
  },
  "papermill": {
   "default_parameters": {},
   "duration": 9021.971678,
   "end_time": "2022-09-26T08:25:56.834886",
   "environment_variables": {},
   "exception": null,
   "input_path": "__notebook__.ipynb",
   "output_path": "__notebook__.ipynb",
   "parameters": {},
   "start_time": "2022-09-26T05:55:34.863208",
   "version": "2.3.4"
  }
 },
 "nbformat": 4,
 "nbformat_minor": 5
}
