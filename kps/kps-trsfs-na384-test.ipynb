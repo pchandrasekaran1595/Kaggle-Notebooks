{
 "cells": [
  {
   "cell_type": "code",
   "execution_count": 1,
   "id": "20095b17",
   "metadata": {
    "_cell_guid": "b1076dfc-b9ad-4769-8c92-a6c4dae69d19",
    "_uuid": "8f2839f25d086af736a60e9eeb907d3b93b6e0e5",
    "execution": {
     "iopub.execute_input": "2022-10-01T17:29:43.082089Z",
     "iopub.status.busy": "2022-10-01T17:29:43.081338Z",
     "iopub.status.idle": "2022-10-01T17:29:57.850087Z",
     "shell.execute_reply": "2022-10-01T17:29:57.848547Z"
    },
    "papermill": {
     "duration": 14.779848,
     "end_time": "2022-10-01T17:29:57.854762",
     "exception": false,
     "start_time": "2022-10-01T17:29:43.074914",
     "status": "completed"
    },
    "tags": []
   },
   "outputs": [
    {
     "name": "stdout",
     "output_type": "stream",
     "text": [
      "\u001b[33mWARNING: Running pip as the 'root' user can result in broken permissions and conflicting behaviour with the system package manager. It is recommended to use a virtual environment instead: https://pip.pypa.io/warnings/venv\u001b[0m\u001b[33m\r\n",
      "\u001b[0m"
     ]
    }
   ],
   "source": [
    "!pip install timm -q"
   ]
  },
  {
   "cell_type": "code",
   "execution_count": 2,
   "id": "91e34095",
   "metadata": {
    "execution": {
     "iopub.execute_input": "2022-10-01T17:29:57.876682Z",
     "iopub.status.busy": "2022-10-01T17:29:57.873668Z",
     "iopub.status.idle": "2022-10-01T17:30:01.783221Z",
     "shell.execute_reply": "2022-10-01T17:30:01.781800Z"
    },
    "papermill": {
     "duration": 3.924808,
     "end_time": "2022-10-01T17:30:01.786436",
     "exception": false,
     "start_time": "2022-10-01T17:29:57.861628",
     "status": "completed"
    },
    "tags": []
   },
   "outputs": [],
   "source": [
    "import os\n",
    "import re\n",
    "import cv2\n",
    "import timm\n",
    "import torch\n",
    "import numpy as np\n",
    "import pandas as pd\n",
    "\n",
    "from time import time, sleep\n",
    "from torch import nn\n",
    "from torch.utils.data import Dataset\n",
    "from torch.utils.data import DataLoader as DL\n",
    "from torchvision import transforms"
   ]
  },
  {
   "cell_type": "code",
   "execution_count": 3,
   "id": "32f97ddb",
   "metadata": {
    "execution": {
     "iopub.execute_input": "2022-10-01T17:30:01.794695Z",
     "iopub.status.busy": "2022-10-01T17:30:01.793370Z",
     "iopub.status.idle": "2022-10-01T17:30:01.811531Z",
     "shell.execute_reply": "2022-10-01T17:30:01.810317Z"
    },
    "papermill": {
     "duration": 0.024899,
     "end_time": "2022-10-01T17:30:01.814205",
     "exception": false,
     "start_time": "2022-10-01T17:30:01.789306",
     "status": "completed"
    },
    "tags": []
   },
   "outputs": [],
   "source": [
    "class Model(nn.Module):\n",
    "    def __init__(self, model_name: str):\n",
    "        super(Model, self).__init__()\n",
    "        \n",
    "        if model_name == \"swin_base_patch4_window12_384_in22k\":\n",
    "            self.model = timm.create_model(model_name, pretrained=True)\n",
    "            self.freeze()\n",
    "            self.model = nn.Sequential(*[*self.model.children()][:-1])\n",
    "        \n",
    "        elif model_name == \"swin_large_patch4_window12_384_in22k\":\n",
    "            self.model = timm.create_model(model_name, pretrained=True)\n",
    "            self.freeze()\n",
    "            self.model = nn.Sequential(*[*self.model.children()][:-1])\n",
    "        \n",
    "        elif model_name == \"vit_base_patch16_384\":\n",
    "            self.model = timm.create_model(model_name, pretrained=True)\n",
    "            self.freeze()\n",
    "            self.model = nn.Sequential(*[*self.model.children()][:-1])\n",
    "        \n",
    "        elif model_name == \"vit_base_patch32_384\":\n",
    "            self.model = timm.create_model(model_name, pretrained=True)\n",
    "            self.freeze()\n",
    "            self.model = nn.Sequential(*[*self.model.children()][:-1])\n",
    "        \n",
    "        elif model_name == \"vit_large_patch16_384\":\n",
    "            self.model = timm.create_model(model_name, pretrained=True)\n",
    "            self.freeze()\n",
    "            self.model = nn.Sequential(*[*self.model.children()][:-1])\n",
    "        \n",
    "        elif model_name == \"vit_large_patch32_384\":\n",
    "            self.model = timm.create_model(model_name, pretrained=True)\n",
    "            self.freeze()\n",
    "            self.model = nn.Sequential(*[*self.model.children()][:-1])\n",
    "        \n",
    "        elif model_name == \"deit3_base_patch16_384_in21ft1k\":\n",
    "            self.model = timm.create_model(model_name, pretrained=True)\n",
    "            self.freeze()\n",
    "            self.model = nn.Sequential(*[*self.model.children()][:-1])\n",
    "        \n",
    "        elif model_name == \"deit3_large_patch16_384_in21ft1k\":\n",
    "            self.model = timm.create_model(model_name, pretrained=True)\n",
    "            self.freeze()\n",
    "            self.model = nn.Sequential(*[*self.model.children()][:-1])\n",
    "        \n",
    "        elif model_name == \"deit3_small_patch16_384_in21ft1k\":\n",
    "            self.model = timm.create_model(model_name, pretrained=True)\n",
    "            self.freeze()\n",
    "            self.model = nn.Sequential(*[*self.model.children()][:-1])\n",
    "        \n",
    "        elif model_name == \"deit_base_distilled_patch16_384\":\n",
    "            self.model = timm.create_model(model_name, pretrained=True)\n",
    "            self.freeze()\n",
    "            self.model = nn.Sequential(*[*self.model.children()][:-1])\n",
    "    \n",
    "    def freeze(self):\n",
    "        for p in self.parameters(): p.requires_grad = False\n",
    "    \n",
    "    def forward(self, x):\n",
    "        return self.model(x)"
   ]
  },
  {
   "cell_type": "code",
   "execution_count": 4,
   "id": "d7b2ecbf",
   "metadata": {
    "execution": {
     "iopub.execute_input": "2022-10-01T17:30:01.821219Z",
     "iopub.status.busy": "2022-10-01T17:30:01.820907Z",
     "iopub.status.idle": "2022-10-01T17:30:01.829342Z",
     "shell.execute_reply": "2022-10-01T17:30:01.828121Z"
    },
    "papermill": {
     "duration": 0.014919,
     "end_time": "2022-10-01T17:30:01.832015",
     "exception": false,
     "start_time": "2022-10-01T17:30:01.817096",
     "status": "completed"
    },
    "tags": []
   },
   "outputs": [],
   "source": [
    "def breaker(num: int=50, char: str=\"*\") -> None:\n",
    "    print(\"\\n\" + num*char + \"\\n\")\n",
    "\n",
    "    \n",
    "def get_image(path: str, size: int=224) -> np.ndarray:\n",
    "    image = cv2.imread(path, cv2.IMREAD_COLOR)\n",
    "    image = cv2.cvtColor(src=image, code=cv2.COLOR_BGR2RGB)\n",
    "    return cv2.resize(src=image, dsize=(size, size), interpolation=cv2.INTER_AREA)"
   ]
  },
  {
   "cell_type": "code",
   "execution_count": 5,
   "id": "54277bba",
   "metadata": {
    "execution": {
     "iopub.execute_input": "2022-10-01T17:30:01.839207Z",
     "iopub.status.busy": "2022-10-01T17:30:01.838881Z",
     "iopub.status.idle": "2022-10-01T17:30:01.847714Z",
     "shell.execute_reply": "2022-10-01T17:30:01.846535Z"
    },
    "papermill": {
     "duration": 0.015685,
     "end_time": "2022-10-01T17:30:01.850489",
     "exception": false,
     "start_time": "2022-10-01T17:30:01.834804",
     "status": "completed"
    },
    "tags": []
   },
   "outputs": [],
   "source": [
    "class DS(Dataset):\n",
    "    def __init__(\n",
    "        self, \n",
    "        base_path: str,\n",
    "        filenames: np.ndarray, \n",
    "        size: int,\n",
    "        transform=None):\n",
    "        \n",
    "        self.base_path = base_path\n",
    "        self.filenames = filenames\n",
    "        self.size = size\n",
    "        self.transform = transform\n",
    "    \n",
    "    def __len__(self):\n",
    "        return self.filenames.shape[0]\n",
    "    \n",
    "    def __getitem__(self, idx):\n",
    "        path = os.path.join(self.base_path, str(self.filenames[idx]) + \".png\")\n",
    "        image = get_image(path, self.size)\n",
    "        return self.transform(image)"
   ]
  },
  {
   "cell_type": "code",
   "execution_count": 6,
   "id": "ce888818",
   "metadata": {
    "execution": {
     "iopub.execute_input": "2022-10-01T17:30:01.856983Z",
     "iopub.status.busy": "2022-10-01T17:30:01.856692Z",
     "iopub.status.idle": "2022-10-01T17:30:01.864648Z",
     "shell.execute_reply": "2022-10-01T17:30:01.863332Z"
    },
    "papermill": {
     "duration": 0.014063,
     "end_time": "2022-10-01T17:30:01.867238",
     "exception": false,
     "start_time": "2022-10-01T17:30:01.853175",
     "status": "completed"
    },
    "tags": []
   },
   "outputs": [],
   "source": [
    "def get_features(model=None, dataloader=None, feature_length: int=None) -> np.ndarray: \n",
    "    model.eval()\n",
    "    \n",
    "    y_pred = torch.zeros(1, feature_length).to(torch.device(\"cuda\" if torch.cuda.is_available() else \"cpu\"))\n",
    "    \n",
    "    for X in dataloader:\n",
    "        X = X.to(torch.device(\"cuda\" if torch.cuda.is_available() else \"cpu\"))\n",
    "        with torch.no_grad():\n",
    "            output = model(X)[:, -1, :]\n",
    "        y_pred = torch.cat((y_pred, output), dim=0)\n",
    "    \n",
    "    return y_pred[1:].detach().cpu().numpy()"
   ]
  },
  {
   "cell_type": "code",
   "execution_count": 7,
   "id": "dc0439e2",
   "metadata": {
    "execution": {
     "iopub.execute_input": "2022-10-01T17:30:01.873891Z",
     "iopub.status.busy": "2022-10-01T17:30:01.873565Z",
     "iopub.status.idle": "2022-10-01T17:58:02.076565Z",
     "shell.execute_reply": "2022-10-01T17:58:02.075286Z"
    },
    "papermill": {
     "duration": 1680.210325,
     "end_time": "2022-10-01T17:58:02.080127",
     "exception": false,
     "start_time": "2022-10-01T17:30:01.869802",
     "status": "completed"
    },
    "tags": []
   },
   "outputs": [
    {
     "name": "stderr",
     "output_type": "stream",
     "text": [
      "/opt/conda/lib/python3.7/site-packages/torch/functional.py:568: UserWarning: torch.meshgrid: in an upcoming release, it will be required to pass the indexing argument. (Triggered internally at  /usr/local/src/pytorch/aten/src/ATen/native/TensorShape.cpp:2227.)\n",
      "  return _VF.meshgrid(tensors, **kwargs)  # type: ignore[attr-defined]\n",
      "Downloading: \"https://github.com/SwinTransformer/storage/releases/download/v1.0.0/swin_base_patch4_window12_384_22k.pth\" to /root/.cache/torch/hub/checkpoints/swin_base_patch4_window12_384_22k.pth\n",
      "Downloading: \"https://github.com/SwinTransformer/storage/releases/download/v1.0.0/swin_large_patch4_window12_384_22k.pth\" to /root/.cache/torch/hub/checkpoints/swin_large_patch4_window12_384_22k.pth\n",
      "Downloading: \"https://github.com/rwightman/pytorch-image-models/releases/download/v0.1-vitjx/jx_vit_large_p32_384-9b920ba8.pth\" to /root/.cache/torch/hub/checkpoints/jx_vit_large_p32_384-9b920ba8.pth\n",
      "Downloading: \"https://dl.fbaipublicfiles.com/deit/deit_3_base_384_21k.pth\" to /root/.cache/torch/hub/checkpoints/deit_3_base_384_21k.pth\n",
      "Downloading: \"https://dl.fbaipublicfiles.com/deit/deit_3_large_384_21k.pth\" to /root/.cache/torch/hub/checkpoints/deit_3_large_384_21k.pth\n",
      "Downloading: \"https://dl.fbaipublicfiles.com/deit/deit_3_small_384_21k.pth\" to /root/.cache/torch/hub/checkpoints/deit_3_small_384_21k.pth\n",
      "Downloading: \"https://dl.fbaipublicfiles.com/deit/deit_base_distilled_patch16_384-d0272ac0.pth\" to /root/.cache/torch/hub/checkpoints/deit_base_distilled_patch16_384-d0272ac0.pth\n"
     ]
    }
   ],
   "source": [
    "ss_df = pd.read_csv(\"../input/kaggle-pog-series-s01e03/corn/sample_submission.csv\")\n",
    "ts_filenames = ss_df[\"seed_id\"]\n",
    "ts_filenames = np.array([str(ts_filename).zfill(5) for ts_filename in ts_filenames])\n",
    "\n",
    "data_setup = DS(\n",
    "    base_path=\"../input/kaggle-pog-series-s01e03/corn/test\",\n",
    "    filenames=ts_filenames,\n",
    "    size=384,\n",
    "    transform=transforms.Compose([\n",
    "        transforms.ToTensor(),\n",
    "        transforms.Normalize([0.81450, 0.79094, 0.69495], [0.06435, 0.10338, 0.20791]),\n",
    "    ])\n",
    ")\n",
    "\n",
    "model_names: list = [\n",
    "    \"swin_base_patch4_window12_384_in22k\",\n",
    "    \"swin_large_patch4_window12_384_in22k\",\n",
    "    \"vit_base_patch16_384\",\n",
    "    \"vit_base_patch32_384\",\n",
    "    \"vit_large_patch16_384\",\n",
    "    \"vit_large_patch32_384\",\n",
    "    \"deit3_base_patch16_384_in21ft1k\",\n",
    "    \"deit3_large_patch16_384_in21ft1k\",\n",
    "    \"deit3_small_patch16_384_in21ft1k\",\n",
    "    \"deit_base_distilled_patch16_384\",\n",
    "]\n",
    "    \n",
    "feature_lengths: list = [\n",
    "    1024,\n",
    "    1536,\n",
    "    768,\n",
    "    768,\n",
    "    1024,\n",
    "    1024,\n",
    "    768,\n",
    "    1024,\n",
    "    384,\n",
    "    1000,\n",
    "]\n",
    "    \n",
    "for i in range(len(model_names)):\n",
    "    data = DL(data_setup, batch_size=16, shuffle=False)\n",
    "    model = Model(model_names[i]).to(torch.device(\"cuda\" if torch.cuda.is_available() else \"cpu\"))\n",
    "    features = get_features(model=model, dataloader=data, feature_length=feature_lengths[i])\n",
    "    np.save(f\"{model_names[i]}.npy\", features)\n",
    "    \n",
    "    del model, data\n",
    "    torch.cuda.empty_cache()\n",
    "    \n",
    "    sleep(30)"
   ]
  }
 ],
 "metadata": {
  "kernelspec": {
   "display_name": "Python 3",
   "language": "python",
   "name": "python3"
  },
  "language_info": {
   "codemirror_mode": {
    "name": "ipython",
    "version": 3
   },
   "file_extension": ".py",
   "mimetype": "text/x-python",
   "name": "python",
   "nbconvert_exporter": "python",
   "pygments_lexer": "ipython3",
   "version": "3.7.12"
  },
  "papermill": {
   "default_parameters": {},
   "duration": 1711.708297,
   "end_time": "2022-10-01T17:58:04.517814",
   "environment_variables": {},
   "exception": null,
   "input_path": "__notebook__.ipynb",
   "output_path": "__notebook__.ipynb",
   "parameters": {},
   "start_time": "2022-10-01T17:29:32.809517",
   "version": "2.3.4"
  }
 },
 "nbformat": 4,
 "nbformat_minor": 5
}
