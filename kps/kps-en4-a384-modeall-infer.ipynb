{
 "cells": [
  {
   "cell_type": "markdown",
   "id": "619623bd",
   "metadata": {
    "_cell_guid": "b1076dfc-b9ad-4769-8c92-a6c4dae69d19",
    "_uuid": "8f2839f25d086af736a60e9eeb907d3b93b6e0e5",
    "papermill": {
     "duration": 0.004764,
     "end_time": "2022-09-26T09:46:59.702461",
     "exception": false,
     "start_time": "2022-09-26T09:46:59.697697",
     "status": "completed"
    },
    "tags": []
   },
   "source": [
    "### **Setup**"
   ]
  },
  {
   "cell_type": "code",
   "execution_count": 1,
   "id": "d89dbf8c",
   "metadata": {
    "execution": {
     "iopub.execute_input": "2022-09-26T09:46:59.711602Z",
     "iopub.status.busy": "2022-09-26T09:46:59.711028Z",
     "iopub.status.idle": "2022-09-26T09:47:12.447559Z",
     "shell.execute_reply": "2022-09-26T09:47:12.446451Z"
    },
    "papermill": {
     "duration": 12.743959,
     "end_time": "2022-09-26T09:47:12.450032",
     "exception": false,
     "start_time": "2022-09-26T09:46:59.706073",
     "status": "completed"
    },
    "tags": []
   },
   "outputs": [
    {
     "name": "stderr",
     "output_type": "stream",
     "text": [
      "WARNING: Running pip as the 'root' user can result in broken permissions and conflicting behaviour with the system package manager. It is recommended to use a virtual environment instead: https://pip.pypa.io/warnings/venv\n"
     ]
    }
   ],
   "source": [
    "%%bash\n",
    "pip install timm -q"
   ]
  },
  {
   "cell_type": "markdown",
   "id": "2fb2d6ad",
   "metadata": {
    "papermill": {
     "duration": 0.003604,
     "end_time": "2022-09-26T09:47:12.457586",
     "exception": false,
     "start_time": "2022-09-26T09:47:12.453982",
     "status": "completed"
    },
    "tags": []
   },
   "source": [
    "### **Library Imports**"
   ]
  },
  {
   "cell_type": "code",
   "execution_count": 2,
   "id": "a1611bcc",
   "metadata": {
    "execution": {
     "iopub.execute_input": "2022-09-26T09:47:12.466275Z",
     "iopub.status.busy": "2022-09-26T09:47:12.465938Z",
     "iopub.status.idle": "2022-09-26T09:47:15.716390Z",
     "shell.execute_reply": "2022-09-26T09:47:15.715344Z"
    },
    "papermill": {
     "duration": 3.258272,
     "end_time": "2022-09-26T09:47:15.719453",
     "exception": false,
     "start_time": "2022-09-26T09:47:12.461181",
     "status": "completed"
    },
    "tags": []
   },
   "outputs": [],
   "source": [
    "import os\n",
    "import re\n",
    "import cv2\n",
    "import timm\n",
    "import torch\n",
    "import numpy as np\n",
    "import pandas as pd\n",
    "import matplotlib.pyplot as plt\n",
    "\n",
    "from time import time\n",
    "from scipy import stats\n",
    "from torch import nn, optim\n",
    "from torch.utils.data import Dataset\n",
    "from torch.utils.data import DataLoader as DL\n",
    "from torchvision import models, transforms"
   ]
  },
  {
   "cell_type": "markdown",
   "id": "fd953389",
   "metadata": {
    "papermill": {
     "duration": 0.004827,
     "end_time": "2022-09-26T09:47:15.729368",
     "exception": false,
     "start_time": "2022-09-26T09:47:15.724541",
     "status": "completed"
    },
    "tags": []
   },
   "source": [
    "### **Utilities and Helpers**"
   ]
  },
  {
   "cell_type": "code",
   "execution_count": 3,
   "id": "bd8aaab7",
   "metadata": {
    "execution": {
     "iopub.execute_input": "2022-09-26T09:47:15.741157Z",
     "iopub.status.busy": "2022-09-26T09:47:15.740448Z",
     "iopub.status.idle": "2022-09-26T09:47:15.751062Z",
     "shell.execute_reply": "2022-09-26T09:47:15.750190Z"
    },
    "papermill": {
     "duration": 0.019797,
     "end_time": "2022-09-26T09:47:15.754146",
     "exception": false,
     "start_time": "2022-09-26T09:47:15.734349",
     "status": "completed"
    },
    "tags": []
   },
   "outputs": [],
   "source": [
    "SEED: int = 42\n",
    "SIZE: int = 384\n",
    "\n",
    "LABELS: dict = {\n",
    "    0 : \"pure\",\n",
    "    1 : \"broken\",\n",
    "    2 : \"silkcut\",\n",
    "    3 : \"discolored\",\n",
    "}\n",
    "\n",
    "\n",
    "def breaker(num: int=50, char: str=\"*\") -> None:\n",
    "    print(\"\\n\" + num*char + \"\\n\")\n",
    "\n",
    "    \n",
    "def get_image(path: str, size: int=224) -> np.ndarray:\n",
    "    image = cv2.imread(path, cv2.IMREAD_COLOR)\n",
    "    image = cv2.cvtColor(src=image, code=cv2.COLOR_BGR2RGB)\n",
    "    return cv2.resize(src=image, dsize=(size, size), interpolation=cv2.INTER_AREA)"
   ]
  },
  {
   "cell_type": "markdown",
   "id": "40e887b0",
   "metadata": {
    "papermill": {
     "duration": 0.005258,
     "end_time": "2022-09-26T09:47:15.765094",
     "exception": false,
     "start_time": "2022-09-26T09:47:15.759836",
     "status": "completed"
    },
    "tags": []
   },
   "source": [
    "### **Configuration**"
   ]
  },
  {
   "cell_type": "code",
   "execution_count": 4,
   "id": "3fc15a61",
   "metadata": {
    "execution": {
     "iopub.execute_input": "2022-09-26T09:47:15.777303Z",
     "iopub.status.busy": "2022-09-26T09:47:15.776951Z",
     "iopub.status.idle": "2022-09-26T09:47:15.848157Z",
     "shell.execute_reply": "2022-09-26T09:47:15.847178Z"
    },
    "papermill": {
     "duration": 0.082278,
     "end_time": "2022-09-26T09:47:15.852826",
     "exception": false,
     "start_time": "2022-09-26T09:47:15.770548",
     "status": "completed"
    },
    "tags": []
   },
   "outputs": [],
   "source": [
    "class CFG(object):\n",
    "    def __init__(self, \n",
    "                 seed: int = 42,\n",
    "                 size: int = 224,\n",
    "                 n_splits: int = 5,\n",
    "                 batch_size: int = 16,\n",
    "                 epochs: int = 25,\n",
    "                 early_stopping: int = 5,\n",
    "                 lr: float = 1e-4,\n",
    "                 wd: float = 0.0,\n",
    "                 max_lr: float = 1e-3,\n",
    "                 pct_start: float = 0.2,\n",
    "                 steps_per_epoch: int = 100,\n",
    "                 div_factor: int = 1e3, \n",
    "                 final_div_factor: float = 1e3,\n",
    "                 ):\n",
    "        self.seed = seed\n",
    "        self.size = size\n",
    "        self.n_splits = n_splits\n",
    "        self.batch_size = batch_size\n",
    "        self.epochs = epochs\n",
    "        self.early_stopping = early_stopping\n",
    "        self.lr = lr\n",
    "        self.wd = wd\n",
    "        self.max_lr = max_lr\n",
    "        self.pct_start = pct_start\n",
    "        self.steps_per_epoch = steps_per_epoch\n",
    "        self.div_factor = div_factor\n",
    "        self.final_div_factor = final_div_factor\n",
    "        self.device = torch.device(\"cuda\" if torch.cuda.is_available() else \"cpu\")\n",
    "        self.train_transform = transforms.Compose([\n",
    "            transforms.ToTensor(),\n",
    "            transforms.Normalize([0.81450, 0.79094, 0.69495], [0.06435, 0.10338, 0.20791]),\n",
    "            transforms.RandomAffine(degrees=(-45, 45), translate=(0.15, 0.15), scale=(0.5, 1.5)),\n",
    "            transforms.RandomHorizontalFlip(p=0.25),\n",
    "            transforms.RandomVerticalFlip(p=0.25),\n",
    "        ])\n",
    "        self.valid_transform = transforms.Compose([\n",
    "            transforms.ToTensor(),\n",
    "            transforms.Normalize([0.81450, 0.79094, 0.69495], [0.06435, 0.10338, 0.20791]),\n",
    "        ])\n",
    "                                \n",
    "        self.save_path = \"saves\"\n",
    "        if not os.path.exists(self.save_path): os.makedirs(self.save_path)\n",
    "    \n",
    "cfg = CFG(seed=SEED, size=SIZE)"
   ]
  },
  {
   "cell_type": "markdown",
   "id": "9055b773",
   "metadata": {
    "papermill": {
     "duration": 0.004992,
     "end_time": "2022-09-26T09:47:15.864105",
     "exception": false,
     "start_time": "2022-09-26T09:47:15.859113",
     "status": "completed"
    },
    "tags": []
   },
   "source": [
    "### **Dataset Template**"
   ]
  },
  {
   "cell_type": "code",
   "execution_count": 5,
   "id": "7c7b7a73",
   "metadata": {
    "execution": {
     "iopub.execute_input": "2022-09-26T09:47:15.876004Z",
     "iopub.status.busy": "2022-09-26T09:47:15.875602Z",
     "iopub.status.idle": "2022-09-26T09:47:15.885443Z",
     "shell.execute_reply": "2022-09-26T09:47:15.884639Z"
    },
    "papermill": {
     "duration": 0.018782,
     "end_time": "2022-09-26T09:47:15.887995",
     "exception": false,
     "start_time": "2022-09-26T09:47:15.869213",
     "status": "completed"
    },
    "tags": []
   },
   "outputs": [],
   "source": [
    "class DS(Dataset):\n",
    "    def __init__(\n",
    "        self, \n",
    "        base_path: str,\n",
    "        filenames: np.ndarray, \n",
    "        size: int,\n",
    "        transform=None):\n",
    "        \n",
    "        self.base_path = base_path\n",
    "        self.filenames = filenames\n",
    "        self.size = size\n",
    "        self.transform = transform\n",
    "    \n",
    "    def __len__(self):\n",
    "        return self.filenames.shape[0]\n",
    "    \n",
    "    def __getitem__(self, idx):\n",
    "        path = os.path.join(self.base_path, str(self.filenames[idx]) + \".png\")\n",
    "        image = get_image(path, self.size)\n",
    "        return self.transform(image)"
   ]
  },
  {
   "cell_type": "markdown",
   "id": "64701aeb",
   "metadata": {
    "papermill": {
     "duration": 0.004865,
     "end_time": "2022-09-26T09:47:15.898129",
     "exception": false,
     "start_time": "2022-09-26T09:47:15.893264",
     "status": "completed"
    },
    "tags": []
   },
   "source": [
    "### **Model**"
   ]
  },
  {
   "cell_type": "code",
   "execution_count": 6,
   "id": "0b72a493",
   "metadata": {
    "execution": {
     "iopub.execute_input": "2022-09-26T09:47:15.909665Z",
     "iopub.status.busy": "2022-09-26T09:47:15.909280Z",
     "iopub.status.idle": "2022-09-26T09:47:15.918138Z",
     "shell.execute_reply": "2022-09-26T09:47:15.917258Z"
    },
    "papermill": {
     "duration": 0.017506,
     "end_time": "2022-09-26T09:47:15.920690",
     "exception": false,
     "start_time": "2022-09-26T09:47:15.903184",
     "status": "completed"
    },
    "tags": []
   },
   "outputs": [],
   "source": [
    "class Model(nn.Module):\n",
    "    def __init__(self):\n",
    "        super(Model, self).__init__()\n",
    "            \n",
    "        self.model = timm.create_model(model_name=\"efficientnet_b4\", pretrained=False)\n",
    "        self.model.classifier = nn.Linear(in_features=self.model.classifier.in_features, out_features=4)\n",
    "            \n",
    "    def freeze(self):\n",
    "        for params in self.parameters(): params.requires_grad = False\n",
    "\n",
    "    def forward(self, x):\n",
    "        return nn.LogSoftmax(dim=1)(self.model(x))"
   ]
  },
  {
   "cell_type": "markdown",
   "id": "326370fc",
   "metadata": {
    "papermill": {
     "duration": 0.004935,
     "end_time": "2022-09-26T09:47:15.930728",
     "exception": false,
     "start_time": "2022-09-26T09:47:15.925793",
     "status": "completed"
    },
    "tags": []
   },
   "source": [
    "### **Predict**"
   ]
  },
  {
   "cell_type": "code",
   "execution_count": 7,
   "id": "8a48fd45",
   "metadata": {
    "execution": {
     "iopub.execute_input": "2022-09-26T09:47:15.942295Z",
     "iopub.status.busy": "2022-09-26T09:47:15.941934Z",
     "iopub.status.idle": "2022-09-26T09:47:15.951445Z",
     "shell.execute_reply": "2022-09-26T09:47:15.950630Z"
    },
    "papermill": {
     "duration": 0.017976,
     "end_time": "2022-09-26T09:47:15.953940",
     "exception": false,
     "start_time": "2022-09-26T09:47:15.935964",
     "status": "completed"
    },
    "tags": []
   },
   "outputs": [],
   "source": [
    "def predict_batch(model=None, dataloader=None, path=None, device=None) -> np.ndarray:\n",
    "    model.load_state_dict(torch.load(path, map_location=device)[\"model_state_dict\"])\n",
    "    model.to(device)    \n",
    "    model.eval()\n",
    "    \n",
    "    y_pred = torch.zeros(1, 1).to(device)\n",
    "    \n",
    "    for X in dataloader:\n",
    "        X = X.to(device)\n",
    "        with torch.no_grad():\n",
    "            output = torch.argmax(torch.exp(model(X)), dim=1)\n",
    "        y_pred = torch.cat((y_pred, output.view(-1, 1)), dim=0)\n",
    "    \n",
    "    return y_pred[1:].detach().cpu().numpy()"
   ]
  },
  {
   "cell_type": "markdown",
   "id": "624c3071",
   "metadata": {
    "papermill": {
     "duration": 0.004764,
     "end_time": "2022-09-26T09:47:15.964939",
     "exception": false,
     "start_time": "2022-09-26T09:47:15.960175",
     "status": "completed"
    },
    "tags": []
   },
   "source": [
    "### **Submit**"
   ]
  },
  {
   "cell_type": "code",
   "execution_count": 8,
   "id": "edabcf84",
   "metadata": {
    "execution": {
     "iopub.execute_input": "2022-09-26T09:47:15.976420Z",
     "iopub.status.busy": "2022-09-26T09:47:15.976030Z",
     "iopub.status.idle": "2022-09-26T09:47:19.090382Z",
     "shell.execute_reply": "2022-09-26T09:47:19.089443Z"
    },
    "papermill": {
     "duration": 3.12284,
     "end_time": "2022-09-26T09:47:19.092796",
     "exception": false,
     "start_time": "2022-09-26T09:47:15.969956",
     "status": "completed"
    },
    "tags": []
   },
   "outputs": [],
   "source": [
    "torch.manual_seed(cfg.seed)\n",
    "model = Model().to(cfg.device)\n",
    "\n",
    "ss_df = pd.read_csv(\"../input/kaggle-pog-series-s01e03/corn/sample_submission.csv\")\n",
    "ts_filenames = ss_df[\"seed_id\"]\n",
    "ts_filenames = np.array([str(ts_filename).zfill(5) for ts_filename in ts_filenames])\n",
    "\n",
    "ts_data_setup = DS(\n",
    "    base_path=\"../input/kaggle-pog-series-s01e03/corn/test\", \n",
    "    filenames=ts_filenames, \n",
    "    size=cfg.size,\n",
    "    transform=cfg.valid_transform,\n",
    ")\n",
    "ts_data = DL(ts_data_setup, batch_size=cfg.batch_size, shuffle=False)"
   ]
  },
  {
   "cell_type": "code",
   "execution_count": 9,
   "id": "6cf6f0aa",
   "metadata": {
    "execution": {
     "iopub.execute_input": "2022-09-26T09:47:19.102932Z",
     "iopub.status.busy": "2022-09-26T09:47:19.101472Z",
     "iopub.status.idle": "2022-09-26T09:52:04.421500Z",
     "shell.execute_reply": "2022-09-26T09:52:04.420478Z"
    },
    "papermill": {
     "duration": 285.327384,
     "end_time": "2022-09-26T09:52:04.424081",
     "exception": false,
     "start_time": "2022-09-26T09:47:19.096697",
     "status": "completed"
    },
    "tags": []
   },
   "outputs": [],
   "source": [
    "# Fold 1\n",
    "y_pred_1_l = predict_batch(\n",
    "    model=model,\n",
    "    dataloader=ts_data,\n",
    "    path=\"../input/kps-en4-a384-f1/saves/ble_state_fold_1.pt\",\n",
    "    device=cfg.device\n",
    ").reshape(1, -1)\n",
    "\n",
    "y_pred_1_a = predict_batch(\n",
    "    model=model,\n",
    "    dataloader=ts_data,\n",
    "    path=\"../input/kps-en4-a384-f1/saves/bae_state_fold_1.pt\",\n",
    "    device=cfg.device\n",
    ").reshape(1, -1)\n",
    "\n",
    "\n",
    "# Fold 2\n",
    "y_pred_2_l = predict_batch(\n",
    "    model=model,\n",
    "    dataloader=ts_data,\n",
    "    path=\"../input/kps-en4-a384-f2/saves/ble_state_fold_2.pt\",\n",
    "    device=cfg.device\n",
    ").reshape(1, -1)\n",
    "\n",
    "y_pred_2_a = predict_batch(\n",
    "    model=model,\n",
    "    dataloader=ts_data,\n",
    "    path=\"../input/kps-en4-a384-f2/saves/bae_state_fold_2.pt\",\n",
    "    device=cfg.device\n",
    ").reshape(1, -1)\n",
    "\n",
    "\n",
    "# Fold 3\n",
    "y_pred_3_l = predict_batch(\n",
    "    model=model,\n",
    "    dataloader=ts_data,\n",
    "    path=\"../input/kps-en4-a384-f3/saves/ble_state_fold_3.pt\",\n",
    "    device=cfg.device\n",
    ").reshape(1, -1)\n",
    "\n",
    "y_pred_3_a = predict_batch(\n",
    "    model=model,\n",
    "    dataloader=ts_data,\n",
    "    path=\"../input/kps-en4-a384-f3/saves/bae_state_fold_3.pt\",\n",
    "    device=cfg.device\n",
    ").reshape(1, -1)\n",
    "\n",
    "\n",
    "# Fold 4\n",
    "y_pred_4_l = predict_batch(\n",
    "    model=model,\n",
    "    dataloader=ts_data,\n",
    "    path=\"../input/kps-en4-a384-f4/saves/ble_state_fold_4.pt\",\n",
    "    device=cfg.device\n",
    ").reshape(1, -1)\n",
    "\n",
    "y_pred_4_a = predict_batch(\n",
    "    model=model,\n",
    "    dataloader=ts_data,\n",
    "    path=\"../input/kps-en4-a384-f4/saves/bae_state_fold_4.pt\",\n",
    "    device=cfg.device\n",
    ").reshape(1, -1)\n",
    "\n",
    "\n",
    "# Fold 5\n",
    "y_pred_5_l = predict_batch(\n",
    "    model=model,\n",
    "    dataloader=ts_data,\n",
    "    path=\"../input/kps-en4-a384-f5/saves/ble_state_fold_5.pt\",\n",
    "    device=cfg.device\n",
    ").reshape(1, -1)\n",
    "\n",
    "y_pred_5_a = predict_batch(\n",
    "    model=model,\n",
    "    dataloader=ts_data,\n",
    "    path=\"../input/kps-en4-a384-f5/saves/bae_state_fold_5.pt\",\n",
    "    device=cfg.device\n",
    ").reshape(1, -1)"
   ]
  },
  {
   "cell_type": "code",
   "execution_count": 10,
   "id": "d89d93d0",
   "metadata": {
    "execution": {
     "iopub.execute_input": "2022-09-26T09:52:04.433536Z",
     "iopub.status.busy": "2022-09-26T09:52:04.433193Z",
     "iopub.status.idle": "2022-09-26T09:52:04.535966Z",
     "shell.execute_reply": "2022-09-26T09:52:04.534809Z"
    },
    "papermill": {
     "duration": 0.110057,
     "end_time": "2022-09-26T09:52:04.538503",
     "exception": false,
     "start_time": "2022-09-26T09:52:04.428446",
     "status": "completed"
    },
    "tags": []
   },
   "outputs": [],
   "source": [
    "y_pred = np.concatenate(\n",
    "    (y_pred_1_l,\n",
    "     y_pred_1_a, \n",
    "     y_pred_2_l,\n",
    "     y_pred_2_a,\n",
    "     y_pred_3_l,\n",
    "     y_pred_3_a,\n",
    "     y_pred_4_l,\n",
    "     y_pred_4_a,\n",
    "     y_pred_5_l,\n",
    "     y_pred_5_a,\n",
    "    ), axis=0)\n",
    "y_pred = stats.mode(y_pred)[0]\n",
    "y_pred = list(y_pred.astype(\"uint8\").reshape(-1))\n",
    "y_pred = [LABELS[y_pred[i]] for i in range(len(y_pred))]\n",
    "\n",
    "ss_df[\"label\"] = y_pred\n",
    "ss_df.to_csv(\"submission.csv\", index=False)"
   ]
  }
 ],
 "metadata": {
  "kernelspec": {
   "display_name": "Python 3",
   "language": "python",
   "name": "python3"
  },
  "language_info": {
   "codemirror_mode": {
    "name": "ipython",
    "version": 3
   },
   "file_extension": ".py",
   "mimetype": "text/x-python",
   "name": "python",
   "nbconvert_exporter": "python",
   "pygments_lexer": "ipython3",
   "version": "3.7.12"
  },
  "papermill": {
   "default_parameters": {},
   "duration": 313.967137,
   "end_time": "2022-09-26T09:52:06.065673",
   "environment_variables": {},
   "exception": null,
   "input_path": "__notebook__.ipynb",
   "output_path": "__notebook__.ipynb",
   "parameters": {},
   "start_time": "2022-09-26T09:46:52.098536",
   "version": "2.3.4"
  }
 },
 "nbformat": 4,
 "nbformat_minor": 5
}
