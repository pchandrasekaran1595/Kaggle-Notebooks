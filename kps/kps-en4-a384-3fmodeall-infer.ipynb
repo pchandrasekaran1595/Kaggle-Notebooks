{
 "cells": [
  {
   "cell_type": "markdown",
   "id": "7984d434",
   "metadata": {
    "_cell_guid": "b1076dfc-b9ad-4769-8c92-a6c4dae69d19",
    "_uuid": "8f2839f25d086af736a60e9eeb907d3b93b6e0e5",
    "papermill": {
     "duration": 0.004477,
     "end_time": "2022-09-26T06:05:08.420118",
     "exception": false,
     "start_time": "2022-09-26T06:05:08.415641",
     "status": "completed"
    },
    "tags": []
   },
   "source": [
    "### **Setup**"
   ]
  },
  {
   "cell_type": "code",
   "execution_count": 1,
   "id": "c38d9b56",
   "metadata": {
    "execution": {
     "iopub.execute_input": "2022-09-26T06:05:08.429769Z",
     "iopub.status.busy": "2022-09-26T06:05:08.429199Z",
     "iopub.status.idle": "2022-09-26T06:05:19.201805Z",
     "shell.execute_reply": "2022-09-26T06:05:19.200534Z"
    },
    "papermill": {
     "duration": 10.780477,
     "end_time": "2022-09-26T06:05:19.204563",
     "exception": false,
     "start_time": "2022-09-26T06:05:08.424086",
     "status": "completed"
    },
    "tags": []
   },
   "outputs": [
    {
     "name": "stderr",
     "output_type": "stream",
     "text": [
      "WARNING: Running pip as the 'root' user can result in broken permissions and conflicting behaviour with the system package manager. It is recommended to use a virtual environment instead: https://pip.pypa.io/warnings/venv\n"
     ]
    }
   ],
   "source": [
    "%%bash\n",
    "pip install timm -q"
   ]
  },
  {
   "cell_type": "markdown",
   "id": "290541ec",
   "metadata": {
    "papermill": {
     "duration": 0.003304,
     "end_time": "2022-09-26T06:05:19.211448",
     "exception": false,
     "start_time": "2022-09-26T06:05:19.208144",
     "status": "completed"
    },
    "tags": []
   },
   "source": [
    "### **Library Imports**"
   ]
  },
  {
   "cell_type": "code",
   "execution_count": 2,
   "id": "9b6c483f",
   "metadata": {
    "execution": {
     "iopub.execute_input": "2022-09-26T06:05:19.219911Z",
     "iopub.status.busy": "2022-09-26T06:05:19.219595Z",
     "iopub.status.idle": "2022-09-26T06:05:23.070064Z",
     "shell.execute_reply": "2022-09-26T06:05:23.069021Z"
    },
    "papermill": {
     "duration": 3.858165,
     "end_time": "2022-09-26T06:05:23.072851",
     "exception": false,
     "start_time": "2022-09-26T06:05:19.214686",
     "status": "completed"
    },
    "tags": []
   },
   "outputs": [],
   "source": [
    "import os\n",
    "import re\n",
    "import cv2\n",
    "import timm\n",
    "import torch\n",
    "import numpy as np\n",
    "import pandas as pd\n",
    "import matplotlib.pyplot as plt\n",
    "\n",
    "from time import time\n",
    "from scipy import stats\n",
    "from torch import nn, optim\n",
    "from torch.utils.data import Dataset\n",
    "from torch.utils.data import DataLoader as DL\n",
    "from torchvision import models, transforms"
   ]
  },
  {
   "cell_type": "markdown",
   "id": "0d6210a1",
   "metadata": {
    "papermill": {
     "duration": 0.003209,
     "end_time": "2022-09-26T06:05:23.079740",
     "exception": false,
     "start_time": "2022-09-26T06:05:23.076531",
     "status": "completed"
    },
    "tags": []
   },
   "source": [
    "### **Utilities and Helpers**"
   ]
  },
  {
   "cell_type": "code",
   "execution_count": 3,
   "id": "adc1dced",
   "metadata": {
    "execution": {
     "iopub.execute_input": "2022-09-26T06:05:23.087983Z",
     "iopub.status.busy": "2022-09-26T06:05:23.087400Z",
     "iopub.status.idle": "2022-09-26T06:05:23.094748Z",
     "shell.execute_reply": "2022-09-26T06:05:23.093676Z"
    },
    "papermill": {
     "duration": 0.013926,
     "end_time": "2022-09-26T06:05:23.097012",
     "exception": false,
     "start_time": "2022-09-26T06:05:23.083086",
     "status": "completed"
    },
    "tags": []
   },
   "outputs": [],
   "source": [
    "SEED: int = 42\n",
    "SIZE: int = 384\n",
    "\n",
    "LABELS: dict = {\n",
    "    0 : \"pure\",\n",
    "    1 : \"broken\",\n",
    "    2 : \"silkcut\",\n",
    "    3 : \"discolored\",\n",
    "}\n",
    "\n",
    "\n",
    "def breaker(num: int=50, char: str=\"*\") -> None:\n",
    "    print(\"\\n\" + num*char + \"\\n\")\n",
    "\n",
    "    \n",
    "def get_image(path: str, size: int=224) -> np.ndarray:\n",
    "    image = cv2.imread(path, cv2.IMREAD_COLOR)\n",
    "    image = cv2.cvtColor(src=image, code=cv2.COLOR_BGR2RGB)\n",
    "    return cv2.resize(src=image, dsize=(size, size), interpolation=cv2.INTER_AREA)"
   ]
  },
  {
   "cell_type": "markdown",
   "id": "1a0bd44c",
   "metadata": {
    "papermill": {
     "duration": 0.003069,
     "end_time": "2022-09-26T06:05:23.103351",
     "exception": false,
     "start_time": "2022-09-26T06:05:23.100282",
     "status": "completed"
    },
    "tags": []
   },
   "source": [
    "### **Configuration**"
   ]
  },
  {
   "cell_type": "code",
   "execution_count": 4,
   "id": "75bbe40c",
   "metadata": {
    "execution": {
     "iopub.execute_input": "2022-09-26T06:05:23.111315Z",
     "iopub.status.busy": "2022-09-26T06:05:23.111042Z",
     "iopub.status.idle": "2022-09-26T06:05:23.182531Z",
     "shell.execute_reply": "2022-09-26T06:05:23.181639Z"
    },
    "papermill": {
     "duration": 0.077865,
     "end_time": "2022-09-26T06:05:23.184533",
     "exception": false,
     "start_time": "2022-09-26T06:05:23.106668",
     "status": "completed"
    },
    "tags": []
   },
   "outputs": [],
   "source": [
    "class CFG(object):\n",
    "    def __init__(self, \n",
    "                 seed: int = 42,\n",
    "                 size: int = 224,\n",
    "                 n_splits: int = 5,\n",
    "                 batch_size: int = 16,\n",
    "                 epochs: int = 25,\n",
    "                 early_stopping: int = 5,\n",
    "                 lr: float = 1e-4,\n",
    "                 wd: float = 0.0,\n",
    "                 max_lr: float = 1e-3,\n",
    "                 pct_start: float = 0.2,\n",
    "                 steps_per_epoch: int = 100,\n",
    "                 div_factor: int = 1e3, \n",
    "                 final_div_factor: float = 1e3,\n",
    "                 ):\n",
    "        self.seed = seed\n",
    "        self.size = size\n",
    "        self.n_splits = n_splits\n",
    "        self.batch_size = batch_size\n",
    "        self.epochs = epochs\n",
    "        self.early_stopping = early_stopping\n",
    "        self.lr = lr\n",
    "        self.wd = wd\n",
    "        self.max_lr = max_lr\n",
    "        self.pct_start = pct_start\n",
    "        self.steps_per_epoch = steps_per_epoch\n",
    "        self.div_factor = div_factor\n",
    "        self.final_div_factor = final_div_factor\n",
    "        self.device = torch.device(\"cuda\" if torch.cuda.is_available() else \"cpu\")\n",
    "        self.train_transform = transforms.Compose([\n",
    "            transforms.ToTensor(),\n",
    "            transforms.Normalize([0.81450, 0.79094, 0.69495], [0.06435, 0.10338, 0.20791]),\n",
    "            transforms.RandomAffine(degrees=(-45, 45), translate=(0.15, 0.15), scale=(0.5, 1.5)),\n",
    "            transforms.RandomHorizontalFlip(p=0.25),\n",
    "            transforms.RandomVerticalFlip(p=0.25),\n",
    "        ])\n",
    "        self.valid_transform = transforms.Compose([\n",
    "            transforms.ToTensor(),\n",
    "            transforms.Normalize([0.81450, 0.79094, 0.69495], [0.06435, 0.10338, 0.20791]),\n",
    "        ])\n",
    "                                \n",
    "        self.save_path = \"saves\"\n",
    "        if not os.path.exists(self.save_path): os.makedirs(self.save_path)\n",
    "    \n",
    "cfg = CFG(seed=SEED, size=SIZE)"
   ]
  },
  {
   "cell_type": "markdown",
   "id": "b022b5ae",
   "metadata": {
    "papermill": {
     "duration": 0.003407,
     "end_time": "2022-09-26T06:05:23.191711",
     "exception": false,
     "start_time": "2022-09-26T06:05:23.188304",
     "status": "completed"
    },
    "tags": []
   },
   "source": [
    "### **Dataset Template**"
   ]
  },
  {
   "cell_type": "code",
   "execution_count": 5,
   "id": "658bf41a",
   "metadata": {
    "execution": {
     "iopub.execute_input": "2022-09-26T06:05:23.200356Z",
     "iopub.status.busy": "2022-09-26T06:05:23.199494Z",
     "iopub.status.idle": "2022-09-26T06:05:23.206393Z",
     "shell.execute_reply": "2022-09-26T06:05:23.205510Z"
    },
    "papermill": {
     "duration": 0.013277,
     "end_time": "2022-09-26T06:05:23.208398",
     "exception": false,
     "start_time": "2022-09-26T06:05:23.195121",
     "status": "completed"
    },
    "tags": []
   },
   "outputs": [],
   "source": [
    "class DS(Dataset):\n",
    "    def __init__(\n",
    "        self, \n",
    "        base_path: str,\n",
    "        filenames: np.ndarray, \n",
    "        size: int,\n",
    "        transform=None):\n",
    "        \n",
    "        self.base_path = base_path\n",
    "        self.filenames = filenames\n",
    "        self.size = size\n",
    "        self.transform = transform\n",
    "    \n",
    "    def __len__(self):\n",
    "        return self.filenames.shape[0]\n",
    "    \n",
    "    def __getitem__(self, idx):\n",
    "        path = os.path.join(self.base_path, str(self.filenames[idx]) + \".png\")\n",
    "        image = get_image(path, self.size)\n",
    "        return self.transform(image)"
   ]
  },
  {
   "cell_type": "markdown",
   "id": "552bd42c",
   "metadata": {
    "papermill": {
     "duration": 0.003156,
     "end_time": "2022-09-26T06:05:23.215039",
     "exception": false,
     "start_time": "2022-09-26T06:05:23.211883",
     "status": "completed"
    },
    "tags": []
   },
   "source": [
    "### **Model**"
   ]
  },
  {
   "cell_type": "code",
   "execution_count": 6,
   "id": "603af677",
   "metadata": {
    "execution": {
     "iopub.execute_input": "2022-09-26T06:05:23.223162Z",
     "iopub.status.busy": "2022-09-26T06:05:23.222849Z",
     "iopub.status.idle": "2022-09-26T06:05:23.229490Z",
     "shell.execute_reply": "2022-09-26T06:05:23.228386Z"
    },
    "papermill": {
     "duration": 0.013371,
     "end_time": "2022-09-26T06:05:23.231841",
     "exception": false,
     "start_time": "2022-09-26T06:05:23.218470",
     "status": "completed"
    },
    "tags": []
   },
   "outputs": [],
   "source": [
    "class Model(nn.Module):\n",
    "    def __init__(self):\n",
    "        super(Model, self).__init__()\n",
    "            \n",
    "        self.model = timm.create_model(model_name=\"efficientnet_b4\", pretrained=False)\n",
    "        self.model.classifier = nn.Linear(in_features=self.model.classifier.in_features, out_features=4)\n",
    "            \n",
    "    def freeze(self):\n",
    "        for params in self.parameters(): params.requires_grad = False\n",
    "\n",
    "    def forward(self, x):\n",
    "        return nn.LogSoftmax(dim=1)(self.model(x))"
   ]
  },
  {
   "cell_type": "markdown",
   "id": "e2b4df13",
   "metadata": {
    "papermill": {
     "duration": 0.003292,
     "end_time": "2022-09-26T06:05:23.238437",
     "exception": false,
     "start_time": "2022-09-26T06:05:23.235145",
     "status": "completed"
    },
    "tags": []
   },
   "source": [
    "### **Predict**"
   ]
  },
  {
   "cell_type": "code",
   "execution_count": 7,
   "id": "63582462",
   "metadata": {
    "execution": {
     "iopub.execute_input": "2022-09-26T06:05:23.246748Z",
     "iopub.status.busy": "2022-09-26T06:05:23.246450Z",
     "iopub.status.idle": "2022-09-26T06:05:23.254000Z",
     "shell.execute_reply": "2022-09-26T06:05:23.253102Z"
    },
    "papermill": {
     "duration": 0.014305,
     "end_time": "2022-09-26T06:05:23.256225",
     "exception": false,
     "start_time": "2022-09-26T06:05:23.241920",
     "status": "completed"
    },
    "tags": []
   },
   "outputs": [],
   "source": [
    "def predict_batch(model=None, dataloader=None, path=None, device=None) -> np.ndarray:\n",
    "    model.load_state_dict(torch.load(path, map_location=device)[\"model_state_dict\"])\n",
    "    model.to(device)    \n",
    "    model.eval()\n",
    "    \n",
    "    y_pred = torch.zeros(1, 1).to(device)\n",
    "    \n",
    "    for X in dataloader:\n",
    "        X = X.to(device)\n",
    "        with torch.no_grad():\n",
    "            output = torch.argmax(torch.exp(model(X)), dim=1)\n",
    "        y_pred = torch.cat((y_pred, output.view(-1, 1)), dim=0)\n",
    "    \n",
    "    return y_pred[1:].detach().cpu().numpy()"
   ]
  },
  {
   "cell_type": "markdown",
   "id": "6d40ba7f",
   "metadata": {
    "papermill": {
     "duration": 0.003435,
     "end_time": "2022-09-26T06:05:23.263048",
     "exception": false,
     "start_time": "2022-09-26T06:05:23.259613",
     "status": "completed"
    },
    "tags": []
   },
   "source": [
    "### **Submit**"
   ]
  },
  {
   "cell_type": "code",
   "execution_count": 8,
   "id": "295dc50f",
   "metadata": {
    "execution": {
     "iopub.execute_input": "2022-09-26T06:05:23.271134Z",
     "iopub.status.busy": "2022-09-26T06:05:23.270869Z",
     "iopub.status.idle": "2022-09-26T06:08:40.741968Z",
     "shell.execute_reply": "2022-09-26T06:08:40.740802Z"
    },
    "papermill": {
     "duration": 197.478145,
     "end_time": "2022-09-26T06:08:40.744706",
     "exception": false,
     "start_time": "2022-09-26T06:05:23.266561",
     "status": "completed"
    },
    "tags": []
   },
   "outputs": [],
   "source": [
    "torch.manual_seed(cfg.seed)\n",
    "model = Model().to(cfg.device)\n",
    "\n",
    "ss_df = pd.read_csv(\"../input/kaggle-pog-series-s01e03/corn/sample_submission.csv\")\n",
    "ts_filenames = ss_df[\"seed_id\"]\n",
    "ts_filenames = np.array([str(ts_filename).zfill(5) for ts_filename in ts_filenames])\n",
    "\n",
    "ts_data_setup = DS(\n",
    "    base_path=\"../input/kaggle-pog-series-s01e03/corn/test\", \n",
    "    filenames=ts_filenames, \n",
    "    size=cfg.size,\n",
    "    transform=cfg.valid_transform,\n",
    ")\n",
    "ts_data = DL(ts_data_setup, batch_size=cfg.batch_size, shuffle=False)\n",
    "\n",
    "# Fold 1\n",
    "y_pred_1_l = predict_batch(\n",
    "    model=model,\n",
    "    dataloader=ts_data,\n",
    "    path=\"../input/kps-en4-a384-f1/saves/ble_state_fold_1.pt\",\n",
    "    device=cfg.device\n",
    ").reshape(1, -1)\n",
    "\n",
    "y_pred_1_a = predict_batch(\n",
    "    model=model,\n",
    "    dataloader=ts_data,\n",
    "    path=\"../input/kps-en4-a384-f1/saves/bae_state_fold_1.pt\",\n",
    "    device=cfg.device\n",
    ").reshape(1, -1)\n",
    "\n",
    "\n",
    "# Fold 2\n",
    "y_pred_2_l = predict_batch(\n",
    "    model=model,\n",
    "    dataloader=ts_data,\n",
    "    path=\"../input/kps-en4-a384-f2/saves/ble_state_fold_2.pt\",\n",
    "    device=cfg.device\n",
    ").reshape(1, -1)\n",
    "\n",
    "y_pred_2_a = predict_batch(\n",
    "    model=model,\n",
    "    dataloader=ts_data,\n",
    "    path=\"../input/kps-en4-a384-f2/saves/bae_state_fold_2.pt\",\n",
    "    device=cfg.device\n",
    ").reshape(1, -1)\n",
    "\n",
    "\n",
    "# Fold 3\n",
    "y_pred_3_l = predict_batch(\n",
    "    model=model,\n",
    "    dataloader=ts_data,\n",
    "    path=\"../input/kps-en4-a384-f3/saves/ble_state_fold_3.pt\",\n",
    "    device=cfg.device\n",
    ").reshape(1, -1)\n",
    "\n",
    "y_pred_3_a = predict_batch(\n",
    "    model=model,\n",
    "    dataloader=ts_data,\n",
    "    path=\"../input/kps-en4-a384-f3/saves/bae_state_fold_3.pt\",\n",
    "    device=cfg.device\n",
    ").reshape(1, -1)\n",
    "\n",
    "\n",
    "y_pred = np.concatenate(\n",
    "    (y_pred_1_l,\n",
    "     y_pred_1_a, \n",
    "     y_pred_2_l,\n",
    "     y_pred_2_a,\n",
    "     y_pred_3_l,\n",
    "     y_pred_3_a,\n",
    "    ), axis=0)\n",
    "y_pred = stats.mode(y_pred)[0]\n",
    "y_pred = list(y_pred.astype(\"uint8\").reshape(-1))\n",
    "y_pred = [LABELS[y_pred[i]] for i in range(len(y_pred))]\n",
    "\n",
    "ss_df[\"label\"] = y_pred\n",
    "ss_df.to_csv(\"submission.csv\", index=False)"
   ]
  }
 ],
 "metadata": {
  "kernelspec": {
   "display_name": "Python 3",
   "language": "python",
   "name": "python3"
  },
  "language_info": {
   "codemirror_mode": {
    "name": "ipython",
    "version": 3
   },
   "file_extension": ".py",
   "mimetype": "text/x-python",
   "name": "python",
   "nbconvert_exporter": "python",
   "pygments_lexer": "ipython3",
   "version": "3.7.12"
  },
  "papermill": {
   "default_parameters": {},
   "duration": 222.249376,
   "end_time": "2022-09-26T06:08:42.373584",
   "environment_variables": {},
   "exception": null,
   "input_path": "__notebook__.ipynb",
   "output_path": "__notebook__.ipynb",
   "parameters": {},
   "start_time": "2022-09-26T06:05:00.124208",
   "version": "2.3.4"
  }
 },
 "nbformat": 4,
 "nbformat_minor": 5
}
