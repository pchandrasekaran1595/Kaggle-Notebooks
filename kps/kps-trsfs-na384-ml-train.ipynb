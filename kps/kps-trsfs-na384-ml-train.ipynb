{
 "cells": [
  {
   "cell_type": "code",
   "execution_count": 1,
   "id": "fdbdf303",
   "metadata": {
    "_cell_guid": "b1076dfc-b9ad-4769-8c92-a6c4dae69d19",
    "_uuid": "8f2839f25d086af736a60e9eeb907d3b93b6e0e5",
    "execution": {
     "iopub.execute_input": "2022-10-01T18:19:32.746254Z",
     "iopub.status.busy": "2022-10-01T18:19:32.744868Z",
     "iopub.status.idle": "2022-10-01T18:19:34.508355Z",
     "shell.execute_reply": "2022-10-01T18:19:34.507111Z"
    },
    "papermill": {
     "duration": 1.771903,
     "end_time": "2022-10-01T18:19:34.511400",
     "exception": false,
     "start_time": "2022-10-01T18:19:32.739497",
     "status": "completed"
    },
    "tags": []
   },
   "outputs": [],
   "source": [
    "import os\n",
    "import pickle\n",
    "import numpy as np\n",
    "import pandas as pd\n",
    "import random as r\n",
    "import seaborn as sns\n",
    "import matplotlib.pyplot as plt\n",
    "\n",
    "from time import time\n",
    "from sklearn.pipeline import Pipeline\n",
    "from sklearn.model_selection import StratifiedKFold\n",
    "\n",
    "from sklearn.neighbors import KNeighborsClassifier\n",
    "from sklearn.linear_model import LogisticRegression\n",
    "from sklearn.ensemble import RandomForestClassifier\n",
    "from sklearn.svm import SVC\n",
    "from xgboost import XGBClassifier\n",
    "\n",
    "from sklearn.metrics import accuracy_score"
   ]
  },
  {
   "cell_type": "code",
   "execution_count": 2,
   "id": "ec96009b",
   "metadata": {
    "execution": {
     "iopub.execute_input": "2022-10-01T18:19:34.518534Z",
     "iopub.status.busy": "2022-10-01T18:19:34.517911Z",
     "iopub.status.idle": "2022-10-01T18:19:34.523266Z",
     "shell.execute_reply": "2022-10-01T18:19:34.522448Z"
    },
    "papermill": {
     "duration": 0.011227,
     "end_time": "2022-10-01T18:19:34.525351",
     "exception": false,
     "start_time": "2022-10-01T18:19:34.514124",
     "status": "completed"
    },
    "tags": []
   },
   "outputs": [],
   "source": [
    "def breaker() -> None: print(\"\\n\" + 50*\"*\" + \"\\n\")"
   ]
  },
  {
   "cell_type": "code",
   "execution_count": 3,
   "id": "b81b26df",
   "metadata": {
    "execution": {
     "iopub.execute_input": "2022-10-01T18:19:34.531897Z",
     "iopub.status.busy": "2022-10-01T18:19:34.531299Z",
     "iopub.status.idle": "2022-10-01T18:19:34.538344Z",
     "shell.execute_reply": "2022-10-01T18:19:34.537527Z"
    },
    "papermill": {
     "duration": 0.012844,
     "end_time": "2022-10-01T18:19:34.540564",
     "exception": false,
     "start_time": "2022-10-01T18:19:34.527720",
     "status": "completed"
    },
    "tags": []
   },
   "outputs": [],
   "source": [
    "class CFG(object):\n",
    "    def __init__(self,\n",
    "                 seed: int = 42,\n",
    "                 n_splits: int = 5,\n",
    "                 show_info: bool = False,\n",
    "                 ):\n",
    "\n",
    "        self.seed = seed\n",
    "        self.n_splits = n_splits\n",
    "        self.show_info = show_info\n",
    "        self.features_path = \"../input/kps-trsfs-na384\"\n",
    "        self.model_save_path = \"models\"\n",
    "        if not os.path.exists(self.model_save_path): os.makedirs(self.model_save_path)\n",
    "\n",
    "cfg = CFG(seed=42, show_info=True)"
   ]
  },
  {
   "cell_type": "code",
   "execution_count": 4,
   "id": "1b327a73",
   "metadata": {
    "execution": {
     "iopub.execute_input": "2022-10-01T18:19:34.547132Z",
     "iopub.status.busy": "2022-10-01T18:19:34.546732Z",
     "iopub.status.idle": "2022-10-01T18:19:34.555784Z",
     "shell.execute_reply": "2022-10-01T18:19:34.554698Z"
    },
    "papermill": {
     "duration": 0.015179,
     "end_time": "2022-10-01T18:19:34.558201",
     "exception": false,
     "start_time": "2022-10-01T18:19:34.543022",
     "status": "completed"
    },
    "tags": []
   },
   "outputs": [],
   "source": [
    "class Pipelines(object):\n",
    "    def __init__(self, model_name: str, seed: int):\n",
    "        self.model_name = model_name\n",
    "\n",
    "        if self.model_name == \"lgr\":\n",
    "            self.model = Pipeline(\n",
    "                steps=[\n",
    "                    (\"classifier\", LogisticRegression(random_state=seed, max_iter=1000)),\n",
    "                ]\n",
    "            )\n",
    "        \n",
    "        elif self.model_name == \"knc\":\n",
    "            self.model = Pipeline(\n",
    "                steps=[\n",
    "                    (\"classifier\", KNeighborsClassifier()),\n",
    "                ]\n",
    "            )\n",
    "\n",
    "        elif self.model_name == \"svc\":\n",
    "            self.model = Pipeline(\n",
    "                steps=[\n",
    "                    (\"classifier\", SVC(random_state=seed)),\n",
    "                ]\n",
    "            )\n",
    "        \n",
    "        elif self.model_name == \"rfc\":\n",
    "            self.model = Pipeline(\n",
    "                steps=[\n",
    "                    (\"classifier\", RandomForestClassifier(random_state=seed)),\n",
    "                ]\n",
    "            )\n",
    "        \n",
    "        elif self.model_name == \"xgb\":\n",
    "            self.model = Pipeline(\n",
    "                steps=[\n",
    "                    (\"classifier\", XGBClassifier(random_state=seed)),\n",
    "                ]\n",
    "            )"
   ]
  },
  {
   "cell_type": "code",
   "execution_count": 5,
   "id": "7f5d1887",
   "metadata": {
    "execution": {
     "iopub.execute_input": "2022-10-01T18:19:34.565234Z",
     "iopub.status.busy": "2022-10-01T18:19:34.564560Z",
     "iopub.status.idle": "2022-10-02T03:09:57.317706Z",
     "shell.execute_reply": "2022-10-02T03:09:57.315959Z"
    },
    "papermill": {
     "duration": 31822.7606,
     "end_time": "2022-10-02T03:09:57.321286",
     "exception": false,
     "start_time": "2022-10-01T18:19:34.560686",
     "status": "completed"
    },
    "tags": []
   },
   "outputs": [
    {
     "name": "stdout",
     "output_type": "stream",
     "text": [
      "\n",
      "**************************************************\n",
      "\n",
      "SWIN_BASE_PATCH4_WINDOW12_384_IN22K\n",
      "\n",
      "**************************************************\n",
      "\n"
     ]
    },
    {
     "name": "stderr",
     "output_type": "stream",
     "text": [
      "/opt/conda/lib/python3.7/site-packages/sklearn/linear_model/_logistic.py:818: ConvergenceWarning: lbfgs failed to converge (status=1):\n",
      "STOP: TOTAL NO. of ITERATIONS REACHED LIMIT.\n",
      "\n",
      "Increase the number of iterations (max_iter) or scale the data as shown in:\n",
      "    https://scikit-learn.org/stable/modules/preprocessing.html\n",
      "Please also refer to the documentation for alternative solver options:\n",
      "    https://scikit-learn.org/stable/modules/linear_model.html#logistic-regression\n",
      "  extra_warning_msg=_LOGISTIC_SOLVER_CONVERGENCE_MSG,\n"
     ]
    },
    {
     "name": "stdout",
     "output_type": "stream",
     "text": [
      "lgr, 1, Accuracy : 0.69215\n"
     ]
    },
    {
     "name": "stderr",
     "output_type": "stream",
     "text": [
      "/opt/conda/lib/python3.7/site-packages/sklearn/linear_model/_logistic.py:818: ConvergenceWarning: lbfgs failed to converge (status=1):\n",
      "STOP: TOTAL NO. of ITERATIONS REACHED LIMIT.\n",
      "\n",
      "Increase the number of iterations (max_iter) or scale the data as shown in:\n",
      "    https://scikit-learn.org/stable/modules/preprocessing.html\n",
      "Please also refer to the documentation for alternative solver options:\n",
      "    https://scikit-learn.org/stable/modules/linear_model.html#logistic-regression\n",
      "  extra_warning_msg=_LOGISTIC_SOLVER_CONVERGENCE_MSG,\n"
     ]
    },
    {
     "name": "stdout",
     "output_type": "stream",
     "text": [
      "lgr, 2, Accuracy : 0.69040\n"
     ]
    },
    {
     "name": "stderr",
     "output_type": "stream",
     "text": [
      "/opt/conda/lib/python3.7/site-packages/sklearn/linear_model/_logistic.py:818: ConvergenceWarning: lbfgs failed to converge (status=1):\n",
      "STOP: TOTAL NO. of ITERATIONS REACHED LIMIT.\n",
      "\n",
      "Increase the number of iterations (max_iter) or scale the data as shown in:\n",
      "    https://scikit-learn.org/stable/modules/preprocessing.html\n",
      "Please also refer to the documentation for alternative solver options:\n",
      "    https://scikit-learn.org/stable/modules/linear_model.html#logistic-regression\n",
      "  extra_warning_msg=_LOGISTIC_SOLVER_CONVERGENCE_MSG,\n"
     ]
    },
    {
     "name": "stdout",
     "output_type": "stream",
     "text": [
      "lgr, 3, Accuracy : 0.68925\n"
     ]
    },
    {
     "name": "stderr",
     "output_type": "stream",
     "text": [
      "/opt/conda/lib/python3.7/site-packages/sklearn/linear_model/_logistic.py:818: ConvergenceWarning: lbfgs failed to converge (status=1):\n",
      "STOP: TOTAL NO. of ITERATIONS REACHED LIMIT.\n",
      "\n",
      "Increase the number of iterations (max_iter) or scale the data as shown in:\n",
      "    https://scikit-learn.org/stable/modules/preprocessing.html\n",
      "Please also refer to the documentation for alternative solver options:\n",
      "    https://scikit-learn.org/stable/modules/linear_model.html#logistic-regression\n",
      "  extra_warning_msg=_LOGISTIC_SOLVER_CONVERGENCE_MSG,\n"
     ]
    },
    {
     "name": "stdout",
     "output_type": "stream",
     "text": [
      "lgr, 4, Accuracy : 0.69378\n"
     ]
    },
    {
     "name": "stderr",
     "output_type": "stream",
     "text": [
      "/opt/conda/lib/python3.7/site-packages/sklearn/linear_model/_logistic.py:818: ConvergenceWarning: lbfgs failed to converge (status=1):\n",
      "STOP: TOTAL NO. of ITERATIONS REACHED LIMIT.\n",
      "\n",
      "Increase the number of iterations (max_iter) or scale the data as shown in:\n",
      "    https://scikit-learn.org/stable/modules/preprocessing.html\n",
      "Please also refer to the documentation for alternative solver options:\n",
      "    https://scikit-learn.org/stable/modules/linear_model.html#logistic-regression\n",
      "  extra_warning_msg=_LOGISTIC_SOLVER_CONVERGENCE_MSG,\n"
     ]
    },
    {
     "name": "stdout",
     "output_type": "stream",
     "text": [
      "lgr, 5, Accuracy : 0.70531\n",
      "\n",
      "Best : swin_base_patch4_window12_384_in22k_lgr_5\n",
      "\n",
      "**************************************************\n",
      "\n",
      "knc, 1, Accuracy : 0.56195\n",
      "knc, 2, Accuracy : 0.57277\n",
      "knc, 3, Accuracy : 0.55342\n",
      "knc, 4, Accuracy : 0.57821\n",
      "knc, 5, Accuracy : 0.55726\n",
      "\n",
      "Best : swin_base_patch4_window12_384_in22k_knc_4\n",
      "\n",
      "**************************************************\n",
      "\n",
      "rfc, 1, Accuracy : 0.60140\n",
      "rfc, 2, Accuracy : 0.61326\n",
      "rfc, 3, Accuracy : 0.59881\n",
      "rfc, 4, Accuracy : 0.59846\n",
      "rfc, 5, Accuracy : 0.60649\n",
      "\n",
      "Best : swin_base_patch4_window12_384_in22k_rfc_2\n",
      "\n",
      "**************************************************\n",
      "\n",
      "xgb, 1, Accuracy : 0.66736\n",
      "xgb, 2, Accuracy : 0.66736\n",
      "xgb, 3, Accuracy : 0.66027\n",
      "xgb, 4, Accuracy : 0.67109\n",
      "xgb, 5, Accuracy : 0.67598\n",
      "\n",
      "Best : swin_base_patch4_window12_384_in22k_xgb_5\n",
      "\n",
      "**************************************************\n",
      "\n",
      "svc, 1, Accuracy : 0.68482\n",
      "svc, 2, Accuracy : 0.68202\n",
      "svc, 3, Accuracy : 0.67458\n",
      "svc, 4, Accuracy : 0.68436\n",
      "svc, 5, Accuracy : 0.68750\n",
      "\n",
      "Best : swin_base_patch4_window12_384_in22k_svc_5\n",
      "\n",
      "**************************************************\n",
      "\n",
      "SWIN_LARGE_PATCH4_WINDOW12_384_IN22K\n",
      "\n",
      "**************************************************\n",
      "\n",
      "lgr, 1, Accuracy : 0.69389\n",
      "lgr, 2, Accuracy : 0.69703\n",
      "lgr, 3, Accuracy : 0.70251\n",
      "lgr, 4, Accuracy : 0.69832\n",
      "lgr, 5, Accuracy : 0.71124\n",
      "\n",
      "Best : swin_large_patch4_window12_384_in22k_lgr_5\n",
      "\n",
      "**************************************************\n",
      "\n",
      "knc, 1, Accuracy : 0.55532\n",
      "knc, 2, Accuracy : 0.57661\n",
      "knc, 3, Accuracy : 0.56075\n",
      "knc, 4, Accuracy : 0.56669\n",
      "knc, 5, Accuracy : 0.56878\n",
      "\n",
      "Best : swin_large_patch4_window12_384_in22k_knc_2\n",
      "\n",
      "**************************************************\n",
      "\n",
      "rfc, 1, Accuracy : 0.60384\n",
      "rfc, 2, Accuracy : 0.59895\n",
      "rfc, 3, Accuracy : 0.58240\n",
      "rfc, 4, Accuracy : 0.60370\n",
      "rfc, 5, Accuracy : 0.60545\n",
      "\n",
      "Best : swin_large_patch4_window12_384_in22k_rfc_5\n",
      "\n",
      "**************************************************\n",
      "\n",
      "xgb, 1, Accuracy : 0.66911\n",
      "xgb, 2, Accuracy : 0.66003\n",
      "xgb, 3, Accuracy : 0.66341\n",
      "xgb, 4, Accuracy : 0.66271\n",
      "xgb, 5, Accuracy : 0.67912\n",
      "\n",
      "Best : swin_large_patch4_window12_384_in22k_xgb_5\n",
      "\n",
      "**************************************************\n",
      "\n",
      "svc, 1, Accuracy : 0.68237\n",
      "svc, 2, Accuracy : 0.66806\n",
      "svc, 3, Accuracy : 0.66201\n",
      "svc, 4, Accuracy : 0.67179\n",
      "svc, 5, Accuracy : 0.69483\n",
      "\n",
      "Best : swin_large_patch4_window12_384_in22k_svc_5\n",
      "\n",
      "**************************************************\n",
      "\n",
      "VIT_BASE_PATCH16_384\n",
      "\n",
      "**************************************************\n",
      "\n"
     ]
    },
    {
     "name": "stderr",
     "output_type": "stream",
     "text": [
      "/opt/conda/lib/python3.7/site-packages/sklearn/linear_model/_logistic.py:818: ConvergenceWarning: lbfgs failed to converge (status=1):\n",
      "STOP: TOTAL NO. of ITERATIONS REACHED LIMIT.\n",
      "\n",
      "Increase the number of iterations (max_iter) or scale the data as shown in:\n",
      "    https://scikit-learn.org/stable/modules/preprocessing.html\n",
      "Please also refer to the documentation for alternative solver options:\n",
      "    https://scikit-learn.org/stable/modules/linear_model.html#logistic-regression\n",
      "  extra_warning_msg=_LOGISTIC_SOLVER_CONVERGENCE_MSG,\n"
     ]
    },
    {
     "name": "stdout",
     "output_type": "stream",
     "text": [
      "lgr, 1, Accuracy : 0.55812\n"
     ]
    },
    {
     "name": "stderr",
     "output_type": "stream",
     "text": [
      "/opt/conda/lib/python3.7/site-packages/sklearn/linear_model/_logistic.py:818: ConvergenceWarning: lbfgs failed to converge (status=1):\n",
      "STOP: TOTAL NO. of ITERATIONS REACHED LIMIT.\n",
      "\n",
      "Increase the number of iterations (max_iter) or scale the data as shown in:\n",
      "    https://scikit-learn.org/stable/modules/preprocessing.html\n",
      "Please also refer to the documentation for alternative solver options:\n",
      "    https://scikit-learn.org/stable/modules/linear_model.html#logistic-regression\n",
      "  extra_warning_msg=_LOGISTIC_SOLVER_CONVERGENCE_MSG,\n"
     ]
    },
    {
     "name": "stdout",
     "output_type": "stream",
     "text": [
      "lgr, 2, Accuracy : 0.55567\n"
     ]
    },
    {
     "name": "stderr",
     "output_type": "stream",
     "text": [
      "/opt/conda/lib/python3.7/site-packages/sklearn/linear_model/_logistic.py:818: ConvergenceWarning: lbfgs failed to converge (status=1):\n",
      "STOP: TOTAL NO. of ITERATIONS REACHED LIMIT.\n",
      "\n",
      "Increase the number of iterations (max_iter) or scale the data as shown in:\n",
      "    https://scikit-learn.org/stable/modules/preprocessing.html\n",
      "Please also refer to the documentation for alternative solver options:\n",
      "    https://scikit-learn.org/stable/modules/linear_model.html#logistic-regression\n",
      "  extra_warning_msg=_LOGISTIC_SOLVER_CONVERGENCE_MSG,\n"
     ]
    },
    {
     "name": "stdout",
     "output_type": "stream",
     "text": [
      "lgr, 3, Accuracy : 0.53946\n"
     ]
    },
    {
     "name": "stderr",
     "output_type": "stream",
     "text": [
      "/opt/conda/lib/python3.7/site-packages/sklearn/linear_model/_logistic.py:818: ConvergenceWarning: lbfgs failed to converge (status=1):\n",
      "STOP: TOTAL NO. of ITERATIONS REACHED LIMIT.\n",
      "\n",
      "Increase the number of iterations (max_iter) or scale the data as shown in:\n",
      "    https://scikit-learn.org/stable/modules/preprocessing.html\n",
      "Please also refer to the documentation for alternative solver options:\n",
      "    https://scikit-learn.org/stable/modules/linear_model.html#logistic-regression\n",
      "  extra_warning_msg=_LOGISTIC_SOLVER_CONVERGENCE_MSG,\n"
     ]
    },
    {
     "name": "stdout",
     "output_type": "stream",
     "text": [
      "lgr, 4, Accuracy : 0.54330\n"
     ]
    },
    {
     "name": "stderr",
     "output_type": "stream",
     "text": [
      "/opt/conda/lib/python3.7/site-packages/sklearn/linear_model/_logistic.py:818: ConvergenceWarning: lbfgs failed to converge (status=1):\n",
      "STOP: TOTAL NO. of ITERATIONS REACHED LIMIT.\n",
      "\n",
      "Increase the number of iterations (max_iter) or scale the data as shown in:\n",
      "    https://scikit-learn.org/stable/modules/preprocessing.html\n",
      "Please also refer to the documentation for alternative solver options:\n",
      "    https://scikit-learn.org/stable/modules/linear_model.html#logistic-regression\n",
      "  extra_warning_msg=_LOGISTIC_SOLVER_CONVERGENCE_MSG,\n"
     ]
    },
    {
     "name": "stdout",
     "output_type": "stream",
     "text": [
      "lgr, 5, Accuracy : 0.54399\n",
      "\n",
      "Best : vit_base_patch16_384_lgr_1\n",
      "\n",
      "**************************************************\n",
      "\n",
      "knc, 1, Accuracy : 0.50332\n",
      "knc, 2, Accuracy : 0.50925\n",
      "knc, 3, Accuracy : 0.48778\n",
      "knc, 4, Accuracy : 0.49616\n",
      "knc, 5, Accuracy : 0.50489\n",
      "\n",
      "Best : vit_base_patch16_384_knc_2\n",
      "\n",
      "**************************************************\n",
      "\n",
      "rfc, 1, Accuracy : 0.52880\n",
      "rfc, 2, Accuracy : 0.53194\n",
      "rfc, 3, Accuracy : 0.50838\n",
      "rfc, 4, Accuracy : 0.52304\n",
      "rfc, 5, Accuracy : 0.53352\n",
      "\n",
      "Best : vit_base_patch16_384_rfc_5\n",
      "\n",
      "**************************************************\n",
      "\n",
      "xgb, 1, Accuracy : 0.54415\n",
      "xgb, 2, Accuracy : 0.55812\n",
      "xgb, 3, Accuracy : 0.53492\n",
      "xgb, 4, Accuracy : 0.55028\n",
      "xgb, 5, Accuracy : 0.56320\n",
      "\n",
      "Best : vit_base_patch16_384_xgb_5\n",
      "\n",
      "**************************************************\n",
      "\n",
      "svc, 1, Accuracy : 0.57557\n",
      "svc, 2, Accuracy : 0.58813\n",
      "svc, 3, Accuracy : 0.56844\n",
      "svc, 4, Accuracy : 0.57332\n",
      "svc, 5, Accuracy : 0.58345\n",
      "\n",
      "Best : vit_base_patch16_384_svc_2\n",
      "\n",
      "**************************************************\n",
      "\n",
      "VIT_BASE_PATCH32_384\n",
      "\n",
      "**************************************************\n",
      "\n"
     ]
    },
    {
     "name": "stderr",
     "output_type": "stream",
     "text": [
      "/opt/conda/lib/python3.7/site-packages/sklearn/linear_model/_logistic.py:818: ConvergenceWarning: lbfgs failed to converge (status=1):\n",
      "STOP: TOTAL NO. of ITERATIONS REACHED LIMIT.\n",
      "\n",
      "Increase the number of iterations (max_iter) or scale the data as shown in:\n",
      "    https://scikit-learn.org/stable/modules/preprocessing.html\n",
      "Please also refer to the documentation for alternative solver options:\n",
      "    https://scikit-learn.org/stable/modules/linear_model.html#logistic-regression\n",
      "  extra_warning_msg=_LOGISTIC_SOLVER_CONVERGENCE_MSG,\n"
     ]
    },
    {
     "name": "stdout",
     "output_type": "stream",
     "text": [
      "lgr, 1, Accuracy : 0.58604\n"
     ]
    },
    {
     "name": "stderr",
     "output_type": "stream",
     "text": [
      "/opt/conda/lib/python3.7/site-packages/sklearn/linear_model/_logistic.py:818: ConvergenceWarning: lbfgs failed to converge (status=1):\n",
      "STOP: TOTAL NO. of ITERATIONS REACHED LIMIT.\n",
      "\n",
      "Increase the number of iterations (max_iter) or scale the data as shown in:\n",
      "    https://scikit-learn.org/stable/modules/preprocessing.html\n",
      "Please also refer to the documentation for alternative solver options:\n",
      "    https://scikit-learn.org/stable/modules/linear_model.html#logistic-regression\n",
      "  extra_warning_msg=_LOGISTIC_SOLVER_CONVERGENCE_MSG,\n"
     ]
    },
    {
     "name": "stdout",
     "output_type": "stream",
     "text": [
      "lgr, 2, Accuracy : 0.57871\n"
     ]
    },
    {
     "name": "stderr",
     "output_type": "stream",
     "text": [
      "/opt/conda/lib/python3.7/site-packages/sklearn/linear_model/_logistic.py:818: ConvergenceWarning: lbfgs failed to converge (status=1):\n",
      "STOP: TOTAL NO. of ITERATIONS REACHED LIMIT.\n",
      "\n",
      "Increase the number of iterations (max_iter) or scale the data as shown in:\n",
      "    https://scikit-learn.org/stable/modules/preprocessing.html\n",
      "Please also refer to the documentation for alternative solver options:\n",
      "    https://scikit-learn.org/stable/modules/linear_model.html#logistic-regression\n",
      "  extra_warning_msg=_LOGISTIC_SOLVER_CONVERGENCE_MSG,\n"
     ]
    },
    {
     "name": "stdout",
     "output_type": "stream",
     "text": [
      "lgr, 3, Accuracy : 0.57612\n"
     ]
    },
    {
     "name": "stderr",
     "output_type": "stream",
     "text": [
      "/opt/conda/lib/python3.7/site-packages/sklearn/linear_model/_logistic.py:818: ConvergenceWarning: lbfgs failed to converge (status=1):\n",
      "STOP: TOTAL NO. of ITERATIONS REACHED LIMIT.\n",
      "\n",
      "Increase the number of iterations (max_iter) or scale the data as shown in:\n",
      "    https://scikit-learn.org/stable/modules/preprocessing.html\n",
      "Please also refer to the documentation for alternative solver options:\n",
      "    https://scikit-learn.org/stable/modules/linear_model.html#logistic-regression\n",
      "  extra_warning_msg=_LOGISTIC_SOLVER_CONVERGENCE_MSG,\n"
     ]
    },
    {
     "name": "stdout",
     "output_type": "stream",
     "text": [
      "lgr, 4, Accuracy : 0.59288\n"
     ]
    },
    {
     "name": "stderr",
     "output_type": "stream",
     "text": [
      "/opt/conda/lib/python3.7/site-packages/sklearn/linear_model/_logistic.py:818: ConvergenceWarning: lbfgs failed to converge (status=1):\n",
      "STOP: TOTAL NO. of ITERATIONS REACHED LIMIT.\n",
      "\n",
      "Increase the number of iterations (max_iter) or scale the data as shown in:\n",
      "    https://scikit-learn.org/stable/modules/preprocessing.html\n",
      "Please also refer to the documentation for alternative solver options:\n",
      "    https://scikit-learn.org/stable/modules/linear_model.html#logistic-regression\n",
      "  extra_warning_msg=_LOGISTIC_SOLVER_CONVERGENCE_MSG,\n"
     ]
    },
    {
     "name": "stdout",
     "output_type": "stream",
     "text": [
      "lgr, 5, Accuracy : 0.59323\n",
      "\n",
      "Best : vit_base_patch32_384_lgr_5\n",
      "\n",
      "**************************************************\n",
      "\n",
      "knc, 1, Accuracy : 0.51693\n",
      "knc, 2, Accuracy : 0.52810\n",
      "knc, 3, Accuracy : 0.50035\n",
      "knc, 4, Accuracy : 0.50838\n",
      "knc, 5, Accuracy : 0.52444\n",
      "\n",
      "Best : vit_base_patch32_384_knc_2\n",
      "\n",
      "**************************************************\n",
      "\n",
      "rfc, 1, Accuracy : 0.53368\n",
      "rfc, 2, Accuracy : 0.54206\n",
      "rfc, 3, Accuracy : 0.52863\n",
      "rfc, 4, Accuracy : 0.53946\n",
      "rfc, 5, Accuracy : 0.55552\n",
      "\n",
      "Best : vit_base_patch32_384_rfc_5\n",
      "\n",
      "**************************************************\n",
      "\n",
      "xgb, 1, Accuracy : 0.56894\n",
      "xgb, 2, Accuracy : 0.56370\n",
      "xgb, 3, Accuracy : 0.57786\n",
      "xgb, 4, Accuracy : 0.57402\n",
      "xgb, 5, Accuracy : 0.57647\n",
      "\n",
      "Best : vit_base_patch32_384_xgb_3\n",
      "\n",
      "**************************************************\n",
      "\n",
      "svc, 1, Accuracy : 0.60663\n",
      "svc, 2, Accuracy : 0.61501\n",
      "svc, 3, Accuracy : 0.59183\n",
      "svc, 4, Accuracy : 0.60091\n",
      "svc, 5, Accuracy : 0.61103\n",
      "\n",
      "Best : vit_base_patch32_384_svc_2\n",
      "\n",
      "**************************************************\n",
      "\n",
      "VIT_LARGE_PATCH16_384\n",
      "\n",
      "**************************************************\n",
      "\n"
     ]
    },
    {
     "name": "stderr",
     "output_type": "stream",
     "text": [
      "/opt/conda/lib/python3.7/site-packages/sklearn/linear_model/_logistic.py:818: ConvergenceWarning: lbfgs failed to converge (status=1):\n",
      "STOP: TOTAL NO. of ITERATIONS REACHED LIMIT.\n",
      "\n",
      "Increase the number of iterations (max_iter) or scale the data as shown in:\n",
      "    https://scikit-learn.org/stable/modules/preprocessing.html\n",
      "Please also refer to the documentation for alternative solver options:\n",
      "    https://scikit-learn.org/stable/modules/linear_model.html#logistic-regression\n",
      "  extra_warning_msg=_LOGISTIC_SOLVER_CONVERGENCE_MSG,\n"
     ]
    },
    {
     "name": "stdout",
     "output_type": "stream",
     "text": [
      "lgr, 1, Accuracy : 0.55323\n"
     ]
    },
    {
     "name": "stderr",
     "output_type": "stream",
     "text": [
      "/opt/conda/lib/python3.7/site-packages/sklearn/linear_model/_logistic.py:818: ConvergenceWarning: lbfgs failed to converge (status=1):\n",
      "STOP: TOTAL NO. of ITERATIONS REACHED LIMIT.\n",
      "\n",
      "Increase the number of iterations (max_iter) or scale the data as shown in:\n",
      "    https://scikit-learn.org/stable/modules/preprocessing.html\n",
      "Please also refer to the documentation for alternative solver options:\n",
      "    https://scikit-learn.org/stable/modules/linear_model.html#logistic-regression\n",
      "  extra_warning_msg=_LOGISTIC_SOLVER_CONVERGENCE_MSG,\n"
     ]
    },
    {
     "name": "stdout",
     "output_type": "stream",
     "text": [
      "lgr, 2, Accuracy : 0.55393\n"
     ]
    },
    {
     "name": "stderr",
     "output_type": "stream",
     "text": [
      "/opt/conda/lib/python3.7/site-packages/sklearn/linear_model/_logistic.py:818: ConvergenceWarning: lbfgs failed to converge (status=1):\n",
      "STOP: TOTAL NO. of ITERATIONS REACHED LIMIT.\n",
      "\n",
      "Increase the number of iterations (max_iter) or scale the data as shown in:\n",
      "    https://scikit-learn.org/stable/modules/preprocessing.html\n",
      "Please also refer to the documentation for alternative solver options:\n",
      "    https://scikit-learn.org/stable/modules/linear_model.html#logistic-regression\n",
      "  extra_warning_msg=_LOGISTIC_SOLVER_CONVERGENCE_MSG,\n"
     ]
    },
    {
     "name": "stdout",
     "output_type": "stream",
     "text": [
      "lgr, 3, Accuracy : 0.54818\n"
     ]
    },
    {
     "name": "stderr",
     "output_type": "stream",
     "text": [
      "/opt/conda/lib/python3.7/site-packages/sklearn/linear_model/_logistic.py:818: ConvergenceWarning: lbfgs failed to converge (status=1):\n",
      "STOP: TOTAL NO. of ITERATIONS REACHED LIMIT.\n",
      "\n",
      "Increase the number of iterations (max_iter) or scale the data as shown in:\n",
      "    https://scikit-learn.org/stable/modules/preprocessing.html\n",
      "Please also refer to the documentation for alternative solver options:\n",
      "    https://scikit-learn.org/stable/modules/linear_model.html#logistic-regression\n",
      "  extra_warning_msg=_LOGISTIC_SOLVER_CONVERGENCE_MSG,\n"
     ]
    },
    {
     "name": "stdout",
     "output_type": "stream",
     "text": [
      "lgr, 4, Accuracy : 0.55936\n"
     ]
    },
    {
     "name": "stderr",
     "output_type": "stream",
     "text": [
      "/opt/conda/lib/python3.7/site-packages/sklearn/linear_model/_logistic.py:818: ConvergenceWarning: lbfgs failed to converge (status=1):\n",
      "STOP: TOTAL NO. of ITERATIONS REACHED LIMIT.\n",
      "\n",
      "Increase the number of iterations (max_iter) or scale the data as shown in:\n",
      "    https://scikit-learn.org/stable/modules/preprocessing.html\n",
      "Please also refer to the documentation for alternative solver options:\n",
      "    https://scikit-learn.org/stable/modules/linear_model.html#logistic-regression\n",
      "  extra_warning_msg=_LOGISTIC_SOLVER_CONVERGENCE_MSG,\n"
     ]
    },
    {
     "name": "stdout",
     "output_type": "stream",
     "text": [
      "lgr, 5, Accuracy : 0.54818\n",
      "\n",
      "Best : vit_large_patch16_384_lgr_4\n",
      "\n",
      "**************************************************\n",
      "\n",
      "knc, 1, Accuracy : 0.49738\n",
      "knc, 2, Accuracy : 0.48517\n",
      "knc, 3, Accuracy : 0.47905\n",
      "knc, 4, Accuracy : 0.51047\n",
      "knc, 5, Accuracy : 0.49476\n",
      "\n",
      "Best : vit_large_patch16_384_knc_4\n",
      "\n",
      "**************************************************\n",
      "\n",
      "rfc, 1, Accuracy : 0.52984\n",
      "rfc, 2, Accuracy : 0.53019\n",
      "rfc, 3, Accuracy : 0.53003\n",
      "rfc, 4, Accuracy : 0.53352\n",
      "rfc, 5, Accuracy : 0.54818\n",
      "\n",
      "Best : vit_large_patch16_384_rfc_5\n",
      "\n",
      "**************************************************\n",
      "\n",
      "xgb, 1, Accuracy : 0.56230\n",
      "xgb, 2, Accuracy : 0.55567\n",
      "xgb, 3, Accuracy : 0.54784\n",
      "xgb, 4, Accuracy : 0.55098\n",
      "xgb, 5, Accuracy : 0.56041\n",
      "\n",
      "Best : vit_large_patch16_384_xgb_1\n",
      "\n",
      "**************************************************\n",
      "\n",
      "svc, 1, Accuracy : 0.57627\n",
      "svc, 2, Accuracy : 0.57068\n",
      "svc, 3, Accuracy : 0.56180\n",
      "svc, 4, Accuracy : 0.56878\n",
      "svc, 5, Accuracy : 0.56494\n",
      "\n",
      "Best : vit_large_patch16_384_svc_1\n",
      "\n",
      "**************************************************\n",
      "\n",
      "VIT_LARGE_PATCH32_384\n",
      "\n",
      "**************************************************\n",
      "\n"
     ]
    },
    {
     "name": "stderr",
     "output_type": "stream",
     "text": [
      "/opt/conda/lib/python3.7/site-packages/sklearn/linear_model/_logistic.py:818: ConvergenceWarning: lbfgs failed to converge (status=1):\n",
      "STOP: TOTAL NO. of ITERATIONS REACHED LIMIT.\n",
      "\n",
      "Increase the number of iterations (max_iter) or scale the data as shown in:\n",
      "    https://scikit-learn.org/stable/modules/preprocessing.html\n",
      "Please also refer to the documentation for alternative solver options:\n",
      "    https://scikit-learn.org/stable/modules/linear_model.html#logistic-regression\n",
      "  extra_warning_msg=_LOGISTIC_SOLVER_CONVERGENCE_MSG,\n"
     ]
    },
    {
     "name": "stdout",
     "output_type": "stream",
     "text": [
      "lgr, 1, Accuracy : 0.59581\n"
     ]
    },
    {
     "name": "stderr",
     "output_type": "stream",
     "text": [
      "/opt/conda/lib/python3.7/site-packages/sklearn/linear_model/_logistic.py:818: ConvergenceWarning: lbfgs failed to converge (status=1):\n",
      "STOP: TOTAL NO. of ITERATIONS REACHED LIMIT.\n",
      "\n",
      "Increase the number of iterations (max_iter) or scale the data as shown in:\n",
      "    https://scikit-learn.org/stable/modules/preprocessing.html\n",
      "Please also refer to the documentation for alternative solver options:\n",
      "    https://scikit-learn.org/stable/modules/linear_model.html#logistic-regression\n",
      "  extra_warning_msg=_LOGISTIC_SOLVER_CONVERGENCE_MSG,\n"
     ]
    },
    {
     "name": "stdout",
     "output_type": "stream",
     "text": [
      "lgr, 2, Accuracy : 0.60000\n"
     ]
    },
    {
     "name": "stderr",
     "output_type": "stream",
     "text": [
      "/opt/conda/lib/python3.7/site-packages/sklearn/linear_model/_logistic.py:818: ConvergenceWarning: lbfgs failed to converge (status=1):\n",
      "STOP: TOTAL NO. of ITERATIONS REACHED LIMIT.\n",
      "\n",
      "Increase the number of iterations (max_iter) or scale the data as shown in:\n",
      "    https://scikit-learn.org/stable/modules/preprocessing.html\n",
      "Please also refer to the documentation for alternative solver options:\n",
      "    https://scikit-learn.org/stable/modules/linear_model.html#logistic-regression\n",
      "  extra_warning_msg=_LOGISTIC_SOLVER_CONVERGENCE_MSG,\n"
     ]
    },
    {
     "name": "stdout",
     "output_type": "stream",
     "text": [
      "lgr, 3, Accuracy : 0.58694\n"
     ]
    },
    {
     "name": "stderr",
     "output_type": "stream",
     "text": [
      "/opt/conda/lib/python3.7/site-packages/sklearn/linear_model/_logistic.py:818: ConvergenceWarning: lbfgs failed to converge (status=1):\n",
      "STOP: TOTAL NO. of ITERATIONS REACHED LIMIT.\n",
      "\n",
      "Increase the number of iterations (max_iter) or scale the data as shown in:\n",
      "    https://scikit-learn.org/stable/modules/preprocessing.html\n",
      "Please also refer to the documentation for alternative solver options:\n",
      "    https://scikit-learn.org/stable/modules/linear_model.html#logistic-regression\n",
      "  extra_warning_msg=_LOGISTIC_SOLVER_CONVERGENCE_MSG,\n"
     ]
    },
    {
     "name": "stdout",
     "output_type": "stream",
     "text": [
      "lgr, 4, Accuracy : 0.59672\n"
     ]
    },
    {
     "name": "stderr",
     "output_type": "stream",
     "text": [
      "/opt/conda/lib/python3.7/site-packages/sklearn/linear_model/_logistic.py:818: ConvergenceWarning: lbfgs failed to converge (status=1):\n",
      "STOP: TOTAL NO. of ITERATIONS REACHED LIMIT.\n",
      "\n",
      "Increase the number of iterations (max_iter) or scale the data as shown in:\n",
      "    https://scikit-learn.org/stable/modules/preprocessing.html\n",
      "Please also refer to the documentation for alternative solver options:\n",
      "    https://scikit-learn.org/stable/modules/linear_model.html#logistic-regression\n",
      "  extra_warning_msg=_LOGISTIC_SOLVER_CONVERGENCE_MSG,\n"
     ]
    },
    {
     "name": "stdout",
     "output_type": "stream",
     "text": [
      "lgr, 5, Accuracy : 0.61453\n",
      "\n",
      "Best : vit_large_patch32_384_lgr_5\n",
      "\n",
      "**************************************************\n",
      "\n",
      "knc, 1, Accuracy : 0.53089\n",
      "knc, 2, Accuracy : 0.53124\n",
      "knc, 3, Accuracy : 0.52060\n",
      "knc, 4, Accuracy : 0.52898\n",
      "knc, 5, Accuracy : 0.52933\n",
      "\n",
      "Best : vit_large_patch32_384_knc_2\n",
      "\n",
      "**************************************************\n",
      "\n",
      "rfc, 1, Accuracy : 0.56161\n",
      "rfc, 2, Accuracy : 0.56684\n",
      "rfc, 3, Accuracy : 0.55237\n",
      "rfc, 4, Accuracy : 0.56110\n",
      "rfc, 5, Accuracy : 0.57367\n",
      "\n",
      "Best : vit_large_patch32_384_rfc_5\n",
      "\n",
      "**************************************************\n",
      "\n",
      "xgb, 1, Accuracy : 0.60140\n",
      "xgb, 2, Accuracy : 0.58674\n",
      "xgb, 3, Accuracy : 0.58694\n",
      "xgb, 4, Accuracy : 0.59218\n",
      "xgb, 5, Accuracy : 0.61103\n",
      "\n",
      "Best : vit_large_patch32_384_xgb_5\n",
      "\n",
      "**************************************************\n",
      "\n",
      "svc, 1, Accuracy : 0.62199\n",
      "svc, 2, Accuracy : 0.63037\n",
      "svc, 3, Accuracy : 0.61802\n",
      "svc, 4, Accuracy : 0.62011\n",
      "svc, 5, Accuracy : 0.63966\n",
      "\n",
      "Best : vit_large_patch32_384_svc_5\n",
      "\n",
      "**************************************************\n",
      "\n",
      "DEIT3_BASE_PATCH16_384_IN21FT1K\n",
      "\n",
      "**************************************************\n",
      "\n"
     ]
    },
    {
     "name": "stderr",
     "output_type": "stream",
     "text": [
      "/opt/conda/lib/python3.7/site-packages/sklearn/linear_model/_logistic.py:818: ConvergenceWarning: lbfgs failed to converge (status=1):\n",
      "STOP: TOTAL NO. of ITERATIONS REACHED LIMIT.\n",
      "\n",
      "Increase the number of iterations (max_iter) or scale the data as shown in:\n",
      "    https://scikit-learn.org/stable/modules/preprocessing.html\n",
      "Please also refer to the documentation for alternative solver options:\n",
      "    https://scikit-learn.org/stable/modules/linear_model.html#logistic-regression\n",
      "  extra_warning_msg=_LOGISTIC_SOLVER_CONVERGENCE_MSG,\n"
     ]
    },
    {
     "name": "stdout",
     "output_type": "stream",
     "text": [
      "lgr, 1, Accuracy : 0.56684\n"
     ]
    },
    {
     "name": "stderr",
     "output_type": "stream",
     "text": [
      "/opt/conda/lib/python3.7/site-packages/sklearn/linear_model/_logistic.py:818: ConvergenceWarning: lbfgs failed to converge (status=1):\n",
      "STOP: TOTAL NO. of ITERATIONS REACHED LIMIT.\n",
      "\n",
      "Increase the number of iterations (max_iter) or scale the data as shown in:\n",
      "    https://scikit-learn.org/stable/modules/preprocessing.html\n",
      "Please also refer to the documentation for alternative solver options:\n",
      "    https://scikit-learn.org/stable/modules/linear_model.html#logistic-regression\n",
      "  extra_warning_msg=_LOGISTIC_SOLVER_CONVERGENCE_MSG,\n"
     ]
    },
    {
     "name": "stdout",
     "output_type": "stream",
     "text": [
      "lgr, 2, Accuracy : 0.56510\n"
     ]
    },
    {
     "name": "stderr",
     "output_type": "stream",
     "text": [
      "/opt/conda/lib/python3.7/site-packages/sklearn/linear_model/_logistic.py:818: ConvergenceWarning: lbfgs failed to converge (status=1):\n",
      "STOP: TOTAL NO. of ITERATIONS REACHED LIMIT.\n",
      "\n",
      "Increase the number of iterations (max_iter) or scale the data as shown in:\n",
      "    https://scikit-learn.org/stable/modules/preprocessing.html\n",
      "Please also refer to the documentation for alternative solver options:\n",
      "    https://scikit-learn.org/stable/modules/linear_model.html#logistic-regression\n",
      "  extra_warning_msg=_LOGISTIC_SOLVER_CONVERGENCE_MSG,\n"
     ]
    },
    {
     "name": "stdout",
     "output_type": "stream",
     "text": [
      "lgr, 3, Accuracy : 0.56215\n"
     ]
    },
    {
     "name": "stderr",
     "output_type": "stream",
     "text": [
      "/opt/conda/lib/python3.7/site-packages/sklearn/linear_model/_logistic.py:818: ConvergenceWarning: lbfgs failed to converge (status=1):\n",
      "STOP: TOTAL NO. of ITERATIONS REACHED LIMIT.\n",
      "\n",
      "Increase the number of iterations (max_iter) or scale the data as shown in:\n",
      "    https://scikit-learn.org/stable/modules/preprocessing.html\n",
      "Please also refer to the documentation for alternative solver options:\n",
      "    https://scikit-learn.org/stable/modules/linear_model.html#logistic-regression\n",
      "  extra_warning_msg=_LOGISTIC_SOLVER_CONVERGENCE_MSG,\n"
     ]
    },
    {
     "name": "stdout",
     "output_type": "stream",
     "text": [
      "lgr, 4, Accuracy : 0.56774\n"
     ]
    },
    {
     "name": "stderr",
     "output_type": "stream",
     "text": [
      "/opt/conda/lib/python3.7/site-packages/sklearn/linear_model/_logistic.py:818: ConvergenceWarning: lbfgs failed to converge (status=1):\n",
      "STOP: TOTAL NO. of ITERATIONS REACHED LIMIT.\n",
      "\n",
      "Increase the number of iterations (max_iter) or scale the data as shown in:\n",
      "    https://scikit-learn.org/stable/modules/preprocessing.html\n",
      "Please also refer to the documentation for alternative solver options:\n",
      "    https://scikit-learn.org/stable/modules/linear_model.html#logistic-regression\n",
      "  extra_warning_msg=_LOGISTIC_SOLVER_CONVERGENCE_MSG,\n"
     ]
    },
    {
     "name": "stdout",
     "output_type": "stream",
     "text": [
      "lgr, 5, Accuracy : 0.56529\n",
      "\n",
      "Best : deit3_base_patch16_384_in21ft1k_lgr_4\n",
      "\n",
      "**************************************************\n",
      "\n",
      "knc, 1, Accuracy : 0.51483\n",
      "knc, 2, Accuracy : 0.52845\n",
      "knc, 3, Accuracy : 0.50908\n",
      "knc, 4, Accuracy : 0.51920\n",
      "knc, 5, Accuracy : 0.51990\n",
      "\n",
      "Best : deit3_base_patch16_384_in21ft1k_knc_2\n",
      "\n",
      "**************************************************\n",
      "\n",
      "rfc, 1, Accuracy : 0.55462\n",
      "rfc, 2, Accuracy : 0.54590\n",
      "rfc, 3, Accuracy : 0.53980\n",
      "rfc, 4, Accuracy : 0.54888\n",
      "rfc, 5, Accuracy : 0.53980\n",
      "\n",
      "Best : deit3_base_patch16_384_in21ft1k_rfc_1\n",
      "\n",
      "**************************************************\n",
      "\n",
      "xgb, 1, Accuracy : 0.57731\n",
      "xgb, 2, Accuracy : 0.56754\n",
      "xgb, 3, Accuracy : 0.56006\n",
      "xgb, 4, Accuracy : 0.55447\n",
      "xgb, 5, Accuracy : 0.57123\n",
      "\n",
      "Best : deit3_base_patch16_384_in21ft1k_xgb_1\n",
      "\n",
      "**************************************************\n",
      "\n",
      "svc, 1, Accuracy : 0.59721\n",
      "svc, 2, Accuracy : 0.60035\n",
      "svc, 3, Accuracy : 0.58624\n",
      "svc, 4, Accuracy : 0.59742\n",
      "svc, 5, Accuracy : 0.59008\n",
      "\n",
      "Best : deit3_base_patch16_384_in21ft1k_svc_2\n",
      "\n",
      "**************************************************\n",
      "\n",
      "DEIT3_LARGE_PATCH16_384_IN21FT1K\n",
      "\n",
      "**************************************************\n",
      "\n"
     ]
    },
    {
     "name": "stderr",
     "output_type": "stream",
     "text": [
      "/opt/conda/lib/python3.7/site-packages/sklearn/linear_model/_logistic.py:818: ConvergenceWarning: lbfgs failed to converge (status=1):\n",
      "STOP: TOTAL NO. of ITERATIONS REACHED LIMIT.\n",
      "\n",
      "Increase the number of iterations (max_iter) or scale the data as shown in:\n",
      "    https://scikit-learn.org/stable/modules/preprocessing.html\n",
      "Please also refer to the documentation for alternative solver options:\n",
      "    https://scikit-learn.org/stable/modules/linear_model.html#logistic-regression\n",
      "  extra_warning_msg=_LOGISTIC_SOLVER_CONVERGENCE_MSG,\n"
     ]
    },
    {
     "name": "stdout",
     "output_type": "stream",
     "text": [
      "lgr, 1, Accuracy : 0.55951\n"
     ]
    },
    {
     "name": "stderr",
     "output_type": "stream",
     "text": [
      "/opt/conda/lib/python3.7/site-packages/sklearn/linear_model/_logistic.py:818: ConvergenceWarning: lbfgs failed to converge (status=1):\n",
      "STOP: TOTAL NO. of ITERATIONS REACHED LIMIT.\n",
      "\n",
      "Increase the number of iterations (max_iter) or scale the data as shown in:\n",
      "    https://scikit-learn.org/stable/modules/preprocessing.html\n",
      "Please also refer to the documentation for alternative solver options:\n",
      "    https://scikit-learn.org/stable/modules/linear_model.html#logistic-regression\n",
      "  extra_warning_msg=_LOGISTIC_SOLVER_CONVERGENCE_MSG,\n"
     ]
    },
    {
     "name": "stdout",
     "output_type": "stream",
     "text": [
      "lgr, 2, Accuracy : 0.55951\n"
     ]
    },
    {
     "name": "stderr",
     "output_type": "stream",
     "text": [
      "/opt/conda/lib/python3.7/site-packages/sklearn/linear_model/_logistic.py:818: ConvergenceWarning: lbfgs failed to converge (status=1):\n",
      "STOP: TOTAL NO. of ITERATIONS REACHED LIMIT.\n",
      "\n",
      "Increase the number of iterations (max_iter) or scale the data as shown in:\n",
      "    https://scikit-learn.org/stable/modules/preprocessing.html\n",
      "Please also refer to the documentation for alternative solver options:\n",
      "    https://scikit-learn.org/stable/modules/linear_model.html#logistic-regression\n",
      "  extra_warning_msg=_LOGISTIC_SOLVER_CONVERGENCE_MSG,\n"
     ]
    },
    {
     "name": "stdout",
     "output_type": "stream",
     "text": [
      "lgr, 3, Accuracy : 0.53771\n"
     ]
    },
    {
     "name": "stderr",
     "output_type": "stream",
     "text": [
      "/opt/conda/lib/python3.7/site-packages/sklearn/linear_model/_logistic.py:818: ConvergenceWarning: lbfgs failed to converge (status=1):\n",
      "STOP: TOTAL NO. of ITERATIONS REACHED LIMIT.\n",
      "\n",
      "Increase the number of iterations (max_iter) or scale the data as shown in:\n",
      "    https://scikit-learn.org/stable/modules/preprocessing.html\n",
      "Please also refer to the documentation for alternative solver options:\n",
      "    https://scikit-learn.org/stable/modules/linear_model.html#logistic-regression\n",
      "  extra_warning_msg=_LOGISTIC_SOLVER_CONVERGENCE_MSG,\n"
     ]
    },
    {
     "name": "stdout",
     "output_type": "stream",
     "text": [
      "lgr, 4, Accuracy : 0.54993\n"
     ]
    },
    {
     "name": "stderr",
     "output_type": "stream",
     "text": [
      "/opt/conda/lib/python3.7/site-packages/sklearn/linear_model/_logistic.py:818: ConvergenceWarning: lbfgs failed to converge (status=1):\n",
      "STOP: TOTAL NO. of ITERATIONS REACHED LIMIT.\n",
      "\n",
      "Increase the number of iterations (max_iter) or scale the data as shown in:\n",
      "    https://scikit-learn.org/stable/modules/preprocessing.html\n",
      "Please also refer to the documentation for alternative solver options:\n",
      "    https://scikit-learn.org/stable/modules/linear_model.html#logistic-regression\n",
      "  extra_warning_msg=_LOGISTIC_SOLVER_CONVERGENCE_MSG,\n"
     ]
    },
    {
     "name": "stdout",
     "output_type": "stream",
     "text": [
      "lgr, 5, Accuracy : 0.56355\n",
      "\n",
      "Best : deit3_large_patch16_384_in21ft1k_lgr_5\n",
      "\n",
      "**************************************************\n",
      "\n",
      "knc, 1, Accuracy : 0.47155\n",
      "knc, 2, Accuracy : 0.45864\n",
      "knc, 3, Accuracy : 0.44623\n",
      "knc, 4, Accuracy : 0.45216\n",
      "knc, 5, Accuracy : 0.47242\n",
      "\n",
      "Best : deit3_large_patch16_384_in21ft1k_knc_5\n",
      "\n",
      "**************************************************\n",
      "\n",
      "rfc, 1, Accuracy : 0.51937\n",
      "rfc, 2, Accuracy : 0.50192\n",
      "rfc, 3, Accuracy : 0.50244\n",
      "rfc, 4, Accuracy : 0.50105\n",
      "rfc, 5, Accuracy : 0.50559\n",
      "\n",
      "Best : deit3_large_patch16_384_in21ft1k_rfc_1\n",
      "\n",
      "**************************************************\n",
      "\n",
      "xgb, 1, Accuracy : 0.53298\n",
      "xgb, 2, Accuracy : 0.54520\n",
      "xgb, 3, Accuracy : 0.51781\n",
      "xgb, 4, Accuracy : 0.53073\n",
      "xgb, 5, Accuracy : 0.54818\n",
      "\n",
      "Best : deit3_large_patch16_384_in21ft1k_xgb_5\n",
      "\n",
      "**************************************************\n",
      "\n",
      "svc, 1, Accuracy : 0.56195\n",
      "svc, 2, Accuracy : 0.56928\n",
      "svc, 3, Accuracy : 0.55622\n",
      "svc, 4, Accuracy : 0.56564\n",
      "svc, 5, Accuracy : 0.57332\n",
      "\n",
      "Best : deit3_large_patch16_384_in21ft1k_svc_5\n",
      "\n",
      "**************************************************\n",
      "\n",
      "DEIT3_SMALL_PATCH16_384_IN21FT1K\n",
      "\n",
      "**************************************************\n",
      "\n"
     ]
    },
    {
     "name": "stderr",
     "output_type": "stream",
     "text": [
      "/opt/conda/lib/python3.7/site-packages/sklearn/linear_model/_logistic.py:818: ConvergenceWarning: lbfgs failed to converge (status=1):\n",
      "STOP: TOTAL NO. of ITERATIONS REACHED LIMIT.\n",
      "\n",
      "Increase the number of iterations (max_iter) or scale the data as shown in:\n",
      "    https://scikit-learn.org/stable/modules/preprocessing.html\n",
      "Please also refer to the documentation for alternative solver options:\n",
      "    https://scikit-learn.org/stable/modules/linear_model.html#logistic-regression\n",
      "  extra_warning_msg=_LOGISTIC_SOLVER_CONVERGENCE_MSG,\n"
     ]
    },
    {
     "name": "stdout",
     "output_type": "stream",
     "text": [
      "lgr, 1, Accuracy : 0.53368\n"
     ]
    },
    {
     "name": "stderr",
     "output_type": "stream",
     "text": [
      "/opt/conda/lib/python3.7/site-packages/sklearn/linear_model/_logistic.py:818: ConvergenceWarning: lbfgs failed to converge (status=1):\n",
      "STOP: TOTAL NO. of ITERATIONS REACHED LIMIT.\n",
      "\n",
      "Increase the number of iterations (max_iter) or scale the data as shown in:\n",
      "    https://scikit-learn.org/stable/modules/preprocessing.html\n",
      "Please also refer to the documentation for alternative solver options:\n",
      "    https://scikit-learn.org/stable/modules/linear_model.html#logistic-regression\n",
      "  extra_warning_msg=_LOGISTIC_SOLVER_CONVERGENCE_MSG,\n"
     ]
    },
    {
     "name": "stdout",
     "output_type": "stream",
     "text": [
      "lgr, 2, Accuracy : 0.53473\n"
     ]
    },
    {
     "name": "stderr",
     "output_type": "stream",
     "text": [
      "/opt/conda/lib/python3.7/site-packages/sklearn/linear_model/_logistic.py:818: ConvergenceWarning: lbfgs failed to converge (status=1):\n",
      "STOP: TOTAL NO. of ITERATIONS REACHED LIMIT.\n",
      "\n",
      "Increase the number of iterations (max_iter) or scale the data as shown in:\n",
      "    https://scikit-learn.org/stable/modules/preprocessing.html\n",
      "Please also refer to the documentation for alternative solver options:\n",
      "    https://scikit-learn.org/stable/modules/linear_model.html#logistic-regression\n",
      "  extra_warning_msg=_LOGISTIC_SOLVER_CONVERGENCE_MSG,\n"
     ]
    },
    {
     "name": "stdout",
     "output_type": "stream",
     "text": [
      "lgr, 3, Accuracy : 0.51187\n"
     ]
    },
    {
     "name": "stderr",
     "output_type": "stream",
     "text": [
      "/opt/conda/lib/python3.7/site-packages/sklearn/linear_model/_logistic.py:818: ConvergenceWarning: lbfgs failed to converge (status=1):\n",
      "STOP: TOTAL NO. of ITERATIONS REACHED LIMIT.\n",
      "\n",
      "Increase the number of iterations (max_iter) or scale the data as shown in:\n",
      "    https://scikit-learn.org/stable/modules/preprocessing.html\n",
      "Please also refer to the documentation for alternative solver options:\n",
      "    https://scikit-learn.org/stable/modules/linear_model.html#logistic-regression\n",
      "  extra_warning_msg=_LOGISTIC_SOLVER_CONVERGENCE_MSG,\n"
     ]
    },
    {
     "name": "stdout",
     "output_type": "stream",
     "text": [
      "lgr, 4, Accuracy : 0.52444\n"
     ]
    },
    {
     "name": "stderr",
     "output_type": "stream",
     "text": [
      "/opt/conda/lib/python3.7/site-packages/sklearn/linear_model/_logistic.py:818: ConvergenceWarning: lbfgs failed to converge (status=1):\n",
      "STOP: TOTAL NO. of ITERATIONS REACHED LIMIT.\n",
      "\n",
      "Increase the number of iterations (max_iter) or scale the data as shown in:\n",
      "    https://scikit-learn.org/stable/modules/preprocessing.html\n",
      "Please also refer to the documentation for alternative solver options:\n",
      "    https://scikit-learn.org/stable/modules/linear_model.html#logistic-regression\n",
      "  extra_warning_msg=_LOGISTIC_SOLVER_CONVERGENCE_MSG,\n"
     ]
    },
    {
     "name": "stdout",
     "output_type": "stream",
     "text": [
      "lgr, 5, Accuracy : 0.53457\n",
      "\n",
      "Best : deit3_small_patch16_384_in21ft1k_lgr_2\n",
      "\n",
      "**************************************************\n",
      "\n",
      "knc, 1, Accuracy : 0.48377\n",
      "knc, 2, Accuracy : 0.48237\n",
      "knc, 3, Accuracy : 0.48080\n",
      "knc, 4, Accuracy : 0.48359\n",
      "knc, 5, Accuracy : 0.47591\n",
      "\n",
      "Best : deit3_small_patch16_384_in21ft1k_knc_1\n",
      "\n",
      "**************************************************\n",
      "\n",
      "rfc, 1, Accuracy : 0.50646\n",
      "rfc, 2, Accuracy : 0.51030\n",
      "rfc, 3, Accuracy : 0.48813\n",
      "rfc, 4, Accuracy : 0.51885\n",
      "rfc, 5, Accuracy : 0.50559\n",
      "\n",
      "Best : deit3_small_patch16_384_in21ft1k_rfc_4\n",
      "\n",
      "**************************************************\n",
      "\n",
      "xgb, 1, Accuracy : 0.53194\n",
      "xgb, 2, Accuracy : 0.51972\n",
      "xgb, 3, Accuracy : 0.51711\n",
      "xgb, 4, Accuracy : 0.51257\n",
      "xgb, 5, Accuracy : 0.52863\n",
      "\n",
      "Best : deit3_small_patch16_384_in21ft1k_xgb_1\n",
      "\n",
      "**************************************************\n",
      "\n",
      "svc, 1, Accuracy : 0.55532\n",
      "svc, 2, Accuracy : 0.55707\n",
      "svc, 3, Accuracy : 0.53492\n",
      "svc, 4, Accuracy : 0.54714\n",
      "svc, 5, Accuracy : 0.55831\n",
      "\n",
      "Best : deit3_small_patch16_384_in21ft1k_svc_5\n",
      "\n",
      "**************************************************\n",
      "\n",
      "DEIT_BASE_DISTILLED_PATCH16_384\n",
      "\n",
      "**************************************************\n",
      "\n"
     ]
    },
    {
     "name": "stderr",
     "output_type": "stream",
     "text": [
      "/opt/conda/lib/python3.7/site-packages/sklearn/linear_model/_logistic.py:818: ConvergenceWarning: lbfgs failed to converge (status=1):\n",
      "STOP: TOTAL NO. of ITERATIONS REACHED LIMIT.\n",
      "\n",
      "Increase the number of iterations (max_iter) or scale the data as shown in:\n",
      "    https://scikit-learn.org/stable/modules/preprocessing.html\n",
      "Please also refer to the documentation for alternative solver options:\n",
      "    https://scikit-learn.org/stable/modules/linear_model.html#logistic-regression\n",
      "  extra_warning_msg=_LOGISTIC_SOLVER_CONVERGENCE_MSG,\n"
     ]
    },
    {
     "name": "stdout",
     "output_type": "stream",
     "text": [
      "lgr, 1, Accuracy : 0.60279\n"
     ]
    },
    {
     "name": "stderr",
     "output_type": "stream",
     "text": [
      "/opt/conda/lib/python3.7/site-packages/sklearn/linear_model/_logistic.py:818: ConvergenceWarning: lbfgs failed to converge (status=1):\n",
      "STOP: TOTAL NO. of ITERATIONS REACHED LIMIT.\n",
      "\n",
      "Increase the number of iterations (max_iter) or scale the data as shown in:\n",
      "    https://scikit-learn.org/stable/modules/preprocessing.html\n",
      "Please also refer to the documentation for alternative solver options:\n",
      "    https://scikit-learn.org/stable/modules/linear_model.html#logistic-regression\n",
      "  extra_warning_msg=_LOGISTIC_SOLVER_CONVERGENCE_MSG,\n"
     ]
    },
    {
     "name": "stdout",
     "output_type": "stream",
     "text": [
      "lgr, 2, Accuracy : 0.58639\n"
     ]
    },
    {
     "name": "stderr",
     "output_type": "stream",
     "text": [
      "/opt/conda/lib/python3.7/site-packages/sklearn/linear_model/_logistic.py:818: ConvergenceWarning: lbfgs failed to converge (status=1):\n",
      "STOP: TOTAL NO. of ITERATIONS REACHED LIMIT.\n",
      "\n",
      "Increase the number of iterations (max_iter) or scale the data as shown in:\n",
      "    https://scikit-learn.org/stable/modules/preprocessing.html\n",
      "Please also refer to the documentation for alternative solver options:\n",
      "    https://scikit-learn.org/stable/modules/linear_model.html#logistic-regression\n",
      "  extra_warning_msg=_LOGISTIC_SOLVER_CONVERGENCE_MSG,\n"
     ]
    },
    {
     "name": "stdout",
     "output_type": "stream",
     "text": [
      "lgr, 3, Accuracy : 0.59358\n"
     ]
    },
    {
     "name": "stderr",
     "output_type": "stream",
     "text": [
      "/opt/conda/lib/python3.7/site-packages/sklearn/linear_model/_logistic.py:818: ConvergenceWarning: lbfgs failed to converge (status=1):\n",
      "STOP: TOTAL NO. of ITERATIONS REACHED LIMIT.\n",
      "\n",
      "Increase the number of iterations (max_iter) or scale the data as shown in:\n",
      "    https://scikit-learn.org/stable/modules/preprocessing.html\n",
      "Please also refer to the documentation for alternative solver options:\n",
      "    https://scikit-learn.org/stable/modules/linear_model.html#logistic-regression\n",
      "  extra_warning_msg=_LOGISTIC_SOLVER_CONVERGENCE_MSG,\n"
     ]
    },
    {
     "name": "stdout",
     "output_type": "stream",
     "text": [
      "lgr, 4, Accuracy : 0.60300\n"
     ]
    },
    {
     "name": "stderr",
     "output_type": "stream",
     "text": [
      "/opt/conda/lib/python3.7/site-packages/sklearn/linear_model/_logistic.py:818: ConvergenceWarning: lbfgs failed to converge (status=1):\n",
      "STOP: TOTAL NO. of ITERATIONS REACHED LIMIT.\n",
      "\n",
      "Increase the number of iterations (max_iter) or scale the data as shown in:\n",
      "    https://scikit-learn.org/stable/modules/preprocessing.html\n",
      "Please also refer to the documentation for alternative solver options:\n",
      "    https://scikit-learn.org/stable/modules/linear_model.html#logistic-regression\n",
      "  extra_warning_msg=_LOGISTIC_SOLVER_CONVERGENCE_MSG,\n"
     ]
    },
    {
     "name": "stdout",
     "output_type": "stream",
     "text": [
      "lgr, 5, Accuracy : 0.59043\n",
      "\n",
      "Best : deit_base_distilled_patch16_384_lgr_4\n",
      "\n",
      "**************************************************\n",
      "\n",
      "knc, 1, Accuracy : 0.49878\n",
      "knc, 2, Accuracy : 0.49494\n",
      "knc, 3, Accuracy : 0.49127\n",
      "knc, 4, Accuracy : 0.49860\n",
      "knc, 5, Accuracy : 0.49791\n",
      "\n",
      "Best : deit_base_distilled_patch16_384_knc_1\n",
      "\n",
      "**************************************************\n",
      "\n",
      "rfc, 1, Accuracy : 0.53543\n",
      "rfc, 2, Accuracy : 0.54380\n",
      "rfc, 3, Accuracy : 0.51571\n",
      "rfc, 4, Accuracy : 0.53806\n",
      "rfc, 5, Accuracy : 0.53946\n",
      "\n",
      "Best : deit_base_distilled_patch16_384_rfc_2\n",
      "\n",
      "**************************************************\n",
      "\n",
      "xgb, 1, Accuracy : 0.56021\n",
      "xgb, 2, Accuracy : 0.56161\n",
      "xgb, 3, Accuracy : 0.55203\n",
      "xgb, 4, Accuracy : 0.55831\n",
      "xgb, 5, Accuracy : 0.56913\n",
      "\n",
      "Best : deit_base_distilled_patch16_384_xgb_5\n",
      "\n",
      "**************************************************\n",
      "\n",
      "svc, 1, Accuracy : 0.58290\n",
      "svc, 2, Accuracy : 0.58185\n",
      "svc, 3, Accuracy : 0.56425\n",
      "svc, 4, Accuracy : 0.58310\n",
      "svc, 5, Accuracy : 0.58624\n",
      "\n",
      "Best : deit_base_distilled_patch16_384_svc_5\n",
      "\n",
      "**************************************************\n",
      "\n",
      "Overall Best Model : swin_large_patch4_window12_384_in22k_lgr_5\n",
      "\n",
      "**************************************************\n",
      "\n"
     ]
    }
   ],
   "source": [
    "names: list = [\n",
    "    \"lgr\", \n",
    "    \"knc\", \n",
    "    \"rfc\",\n",
    "    \"xgb\",\n",
    "    \"svc\"\n",
    "]\n",
    "\n",
    "model_names: list = [\n",
    "    \"swin_base_patch4_window12_384_in22k\",\n",
    "    \"swin_large_patch4_window12_384_in22k\",\n",
    "    \"vit_base_patch16_384\",\n",
    "    \"vit_base_patch32_384\",\n",
    "    \"vit_large_patch16_384\",\n",
    "    \"vit_large_patch32_384\",\n",
    "    \"deit3_base_patch16_384_in21ft1k\",\n",
    "    \"deit3_large_patch16_384_in21ft1k\",\n",
    "    \"deit3_small_patch16_384_in21ft1k\",\n",
    "    \"deit_base_distilled_patch16_384\",\n",
    "]\n",
    "\n",
    "overall_best_acc: float = 0.0\n",
    "\n",
    "y = pd.read_csv(\"../input/kps-dataframe/dataframe.csv\")\n",
    "y = y.label_index.copy().values\n",
    "\n",
    "for model_name in model_names:\n",
    "    X = np.load(os.path.join(cfg.features_path, f\"{model_name}.npy\"))\n",
    "    if cfg.show_info: \n",
    "        breaker()\n",
    "        print(f\"{model_name.upper()}\")\n",
    "    for name in names:\n",
    "        fold: int = 1\n",
    "        best_name: str = None\n",
    "        best_acc: float = 0.0\n",
    "        if cfg.show_info: breaker()\n",
    "        for tr_idx, va_idx in StratifiedKFold(n_splits=cfg.n_splits, random_state=cfg.seed, shuffle=True).split(X, y):\n",
    "            X_train, X_valid, y_train, y_valid = X[tr_idx], X[va_idx], y[tr_idx], y[va_idx]\n",
    "            my_pipeline = Pipelines(name, cfg.seed)\n",
    "            my_pipeline.model.fit(X_train, y_train)\n",
    "\n",
    "            y_pred = my_pipeline.model.predict(X_valid)\n",
    "            if cfg.show_info:\n",
    "                acc = accuracy_score(y_pred, y_valid)\n",
    "                print(f\"{my_pipeline.model_name}, {fold}, Accuracy : {acc:.5f}\")\n",
    "            else:\n",
    "                acc = accuracy_score(y_pred, y_valid)\n",
    "\n",
    "            if acc > overall_best_acc:\n",
    "                overall_best_acc = acc\n",
    "                overall_best_name = f\"{model_name}_{name}_{fold}\"\n",
    "            \n",
    "            if acc > best_acc:\n",
    "                best_acc = acc\n",
    "                best_name = f\"{model_name}_{name}_{fold}\"\n",
    "\n",
    "            with open(os.path.join(cfg.model_save_path, f\"{model_name}_{name}_{fold}.pkl\"), \"wb\") as fp: pickle.dump(my_pipeline.model, fp)\n",
    "            fold += 1\n",
    "        \n",
    "        print(f\"\\nBest : {best_name}\")\n",
    "    \n",
    "\n",
    "if cfg.show_info: \n",
    "    breaker()\n",
    "    print(f\"Overall Best Model : {overall_best_name}\")\n",
    "\n",
    "breaker()"
   ]
  }
 ],
 "metadata": {
  "kernelspec": {
   "display_name": "Python 3",
   "language": "python",
   "name": "python3"
  },
  "language_info": {
   "codemirror_mode": {
    "name": "ipython",
    "version": 3
   },
   "file_extension": ".py",
   "mimetype": "text/x-python",
   "name": "python",
   "nbconvert_exporter": "python",
   "pygments_lexer": "ipython3",
   "version": "3.7.12"
  },
  "papermill": {
   "default_parameters": {},
   "duration": 31835.938621,
   "end_time": "2022-10-02T03:09:58.529642",
   "environment_variables": {},
   "exception": null,
   "input_path": "__notebook__.ipynb",
   "output_path": "__notebook__.ipynb",
   "parameters": {},
   "start_time": "2022-10-01T18:19:22.591021",
   "version": "2.3.4"
  }
 },
 "nbformat": 4,
 "nbformat_minor": 5
}
