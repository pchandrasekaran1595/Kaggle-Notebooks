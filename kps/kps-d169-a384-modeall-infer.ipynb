{
 "cells": [
  {
   "cell_type": "markdown",
   "id": "8e9d3de9",
   "metadata": {
    "_cell_guid": "b1076dfc-b9ad-4769-8c92-a6c4dae69d19",
    "_uuid": "8f2839f25d086af736a60e9eeb907d3b93b6e0e5",
    "papermill": {
     "duration": 0.005124,
     "end_time": "2022-09-27T12:14:55.123737",
     "exception": false,
     "start_time": "2022-09-27T12:14:55.118613",
     "status": "completed"
    },
    "tags": []
   },
   "source": [
    "### **Setup**"
   ]
  },
  {
   "cell_type": "code",
   "execution_count": 1,
   "id": "f0e78271",
   "metadata": {
    "execution": {
     "iopub.execute_input": "2022-09-27T12:14:55.133732Z",
     "iopub.status.busy": "2022-09-27T12:14:55.133167Z",
     "iopub.status.idle": "2022-09-27T12:15:06.785980Z",
     "shell.execute_reply": "2022-09-27T12:15:06.784658Z"
    },
    "papermill": {
     "duration": 11.661241,
     "end_time": "2022-09-27T12:15:06.788998",
     "exception": false,
     "start_time": "2022-09-27T12:14:55.127757",
     "status": "completed"
    },
    "tags": []
   },
   "outputs": [
    {
     "name": "stderr",
     "output_type": "stream",
     "text": [
      "WARNING: Running pip as the 'root' user can result in broken permissions and conflicting behaviour with the system package manager. It is recommended to use a virtual environment instead: https://pip.pypa.io/warnings/venv\n"
     ]
    }
   ],
   "source": [
    "%%bash\n",
    "pip install timm -q"
   ]
  },
  {
   "cell_type": "markdown",
   "id": "799b5c76",
   "metadata": {
    "papermill": {
     "duration": 0.005654,
     "end_time": "2022-09-27T12:15:06.800886",
     "exception": false,
     "start_time": "2022-09-27T12:15:06.795232",
     "status": "completed"
    },
    "tags": []
   },
   "source": [
    "### **Library Imports**"
   ]
  },
  {
   "cell_type": "code",
   "execution_count": 2,
   "id": "16f45e91",
   "metadata": {
    "execution": {
     "iopub.execute_input": "2022-09-27T12:15:06.814556Z",
     "iopub.status.busy": "2022-09-27T12:15:06.814117Z",
     "iopub.status.idle": "2022-09-27T12:15:11.167009Z",
     "shell.execute_reply": "2022-09-27T12:15:11.165959Z"
    },
    "papermill": {
     "duration": 4.363047,
     "end_time": "2022-09-27T12:15:11.169747",
     "exception": false,
     "start_time": "2022-09-27T12:15:06.806700",
     "status": "completed"
    },
    "tags": []
   },
   "outputs": [],
   "source": [
    "import os\n",
    "import re\n",
    "import cv2\n",
    "import timm\n",
    "import torch\n",
    "import numpy as np\n",
    "import pandas as pd\n",
    "import matplotlib.pyplot as plt\n",
    "\n",
    "from time import time\n",
    "from scipy import stats\n",
    "from torch import nn, optim\n",
    "from torch.utils.data import Dataset\n",
    "from torch.utils.data import DataLoader as DL\n",
    "from torchvision import models, transforms"
   ]
  },
  {
   "cell_type": "markdown",
   "id": "4589a542",
   "metadata": {
    "papermill": {
     "duration": 0.004248,
     "end_time": "2022-09-27T12:15:11.178621",
     "exception": false,
     "start_time": "2022-09-27T12:15:11.174373",
     "status": "completed"
    },
    "tags": []
   },
   "source": [
    "### **Utilities and Helpers**"
   ]
  },
  {
   "cell_type": "code",
   "execution_count": 3,
   "id": "019f0ac9",
   "metadata": {
    "execution": {
     "iopub.execute_input": "2022-09-27T12:15:11.197140Z",
     "iopub.status.busy": "2022-09-27T12:15:11.196054Z",
     "iopub.status.idle": "2022-09-27T12:15:11.215581Z",
     "shell.execute_reply": "2022-09-27T12:15:11.212874Z"
    },
    "papermill": {
     "duration": 0.034236,
     "end_time": "2022-09-27T12:15:11.218521",
     "exception": false,
     "start_time": "2022-09-27T12:15:11.184285",
     "status": "completed"
    },
    "tags": []
   },
   "outputs": [],
   "source": [
    "SEED: int = 42\n",
    "SIZE: int = 384\n",
    "\n",
    "LABELS: dict = {\n",
    "    0 : \"pure\",\n",
    "    1 : \"broken\",\n",
    "    2 : \"silkcut\",\n",
    "    3 : \"discolored\",\n",
    "}\n",
    "\n",
    "\n",
    "def breaker(num: int=50, char: str=\"*\") -> None:\n",
    "    print(\"\\n\" + num*char + \"\\n\")\n",
    "\n",
    "    \n",
    "def get_image(path: str, size: int=224) -> np.ndarray:\n",
    "    image = cv2.imread(path, cv2.IMREAD_COLOR)\n",
    "    image = cv2.cvtColor(src=image, code=cv2.COLOR_BGR2RGB)\n",
    "    return cv2.resize(src=image, dsize=(size, size), interpolation=cv2.INTER_AREA)"
   ]
  },
  {
   "cell_type": "markdown",
   "id": "a72a5a29",
   "metadata": {
    "papermill": {
     "duration": 0.008294,
     "end_time": "2022-09-27T12:15:11.233563",
     "exception": false,
     "start_time": "2022-09-27T12:15:11.225269",
     "status": "completed"
    },
    "tags": []
   },
   "source": [
    "### **Configuration**"
   ]
  },
  {
   "cell_type": "code",
   "execution_count": 4,
   "id": "82e78cd5",
   "metadata": {
    "execution": {
     "iopub.execute_input": "2022-09-27T12:15:11.247669Z",
     "iopub.status.busy": "2022-09-27T12:15:11.247226Z",
     "iopub.status.idle": "2022-09-27T12:15:11.343749Z",
     "shell.execute_reply": "2022-09-27T12:15:11.342707Z"
    },
    "papermill": {
     "duration": 0.107182,
     "end_time": "2022-09-27T12:15:11.346883",
     "exception": false,
     "start_time": "2022-09-27T12:15:11.239701",
     "status": "completed"
    },
    "tags": []
   },
   "outputs": [],
   "source": [
    "class CFG(object):\n",
    "    def __init__(self, \n",
    "                 seed: int = 42,\n",
    "                 size: int = 224,\n",
    "                 n_splits: int = 5,\n",
    "                 batch_size: int = 16,\n",
    "                 epochs: int = 25,\n",
    "                 early_stopping: int = 5,\n",
    "                 lr: float = 1e-4,\n",
    "                 wd: float = 0.0,\n",
    "                 max_lr: float = 1e-3,\n",
    "                 pct_start: float = 0.2,\n",
    "                 steps_per_epoch: int = 100,\n",
    "                 div_factor: int = 1e3, \n",
    "                 final_div_factor: float = 1e3,\n",
    "                 ):\n",
    "        self.seed = seed\n",
    "        self.size = size\n",
    "        self.n_splits = n_splits\n",
    "        self.batch_size = batch_size\n",
    "        self.epochs = epochs\n",
    "        self.early_stopping = early_stopping\n",
    "        self.lr = lr\n",
    "        self.wd = wd\n",
    "        self.max_lr = max_lr\n",
    "        self.pct_start = pct_start\n",
    "        self.steps_per_epoch = steps_per_epoch\n",
    "        self.div_factor = div_factor\n",
    "        self.final_div_factor = final_div_factor\n",
    "        self.device = torch.device(\"cuda\" if torch.cuda.is_available() else \"cpu\")\n",
    "        self.train_transform = transforms.Compose([\n",
    "            transforms.ToTensor(),\n",
    "            transforms.Normalize([0.81450, 0.79094, 0.69495], [0.06435, 0.10338, 0.20791]),\n",
    "            transforms.RandomAffine(degrees=(-45, 45), translate=(0.15, 0.15), scale=(0.5, 1.5)),\n",
    "            transforms.RandomHorizontalFlip(p=0.25),\n",
    "            transforms.RandomVerticalFlip(p=0.25),\n",
    "        ])\n",
    "        self.valid_transform = transforms.Compose([\n",
    "            transforms.ToTensor(),\n",
    "            transforms.Normalize([0.81450, 0.79094, 0.69495], [0.06435, 0.10338, 0.20791]),\n",
    "        ])\n",
    "                                \n",
    "        self.save_path = \"saves\"\n",
    "        if not os.path.exists(self.save_path): os.makedirs(self.save_path)\n",
    "    \n",
    "cfg = CFG(seed=SEED, size=SIZE)"
   ]
  },
  {
   "cell_type": "markdown",
   "id": "c6448757",
   "metadata": {
    "papermill": {
     "duration": 0.006424,
     "end_time": "2022-09-27T12:15:11.359716",
     "exception": false,
     "start_time": "2022-09-27T12:15:11.353292",
     "status": "completed"
    },
    "tags": []
   },
   "source": [
    "### **Dataset Template**"
   ]
  },
  {
   "cell_type": "code",
   "execution_count": 5,
   "id": "a2528433",
   "metadata": {
    "execution": {
     "iopub.execute_input": "2022-09-27T12:15:11.374634Z",
     "iopub.status.busy": "2022-09-27T12:15:11.374047Z",
     "iopub.status.idle": "2022-09-27T12:15:11.385808Z",
     "shell.execute_reply": "2022-09-27T12:15:11.384793Z"
    },
    "papermill": {
     "duration": 0.022549,
     "end_time": "2022-09-27T12:15:11.388830",
     "exception": false,
     "start_time": "2022-09-27T12:15:11.366281",
     "status": "completed"
    },
    "tags": []
   },
   "outputs": [],
   "source": [
    "class DS(Dataset):\n",
    "    def __init__(\n",
    "        self, \n",
    "        base_path: str,\n",
    "        filenames: np.ndarray, \n",
    "        size: int,\n",
    "        transform=None):\n",
    "        \n",
    "        self.base_path = base_path\n",
    "        self.filenames = filenames\n",
    "        self.size = size\n",
    "        self.transform = transform\n",
    "    \n",
    "    def __len__(self):\n",
    "        return self.filenames.shape[0]\n",
    "    \n",
    "    def __getitem__(self, idx):\n",
    "        path = os.path.join(self.base_path, str(self.filenames[idx]) + \".png\")\n",
    "        image = get_image(path, self.size)\n",
    "        return self.transform(image)"
   ]
  },
  {
   "cell_type": "markdown",
   "id": "d0aa586f",
   "metadata": {
    "papermill": {
     "duration": 0.006071,
     "end_time": "2022-09-27T12:15:11.401312",
     "exception": false,
     "start_time": "2022-09-27T12:15:11.395241",
     "status": "completed"
    },
    "tags": []
   },
   "source": [
    "### **Model**"
   ]
  },
  {
   "cell_type": "code",
   "execution_count": 6,
   "id": "329d22df",
   "metadata": {
    "execution": {
     "iopub.execute_input": "2022-09-27T12:15:11.417019Z",
     "iopub.status.busy": "2022-09-27T12:15:11.416541Z",
     "iopub.status.idle": "2022-09-27T12:15:11.427747Z",
     "shell.execute_reply": "2022-09-27T12:15:11.426794Z"
    },
    "papermill": {
     "duration": 0.021996,
     "end_time": "2022-09-27T12:15:11.430757",
     "exception": false,
     "start_time": "2022-09-27T12:15:11.408761",
     "status": "completed"
    },
    "tags": []
   },
   "outputs": [],
   "source": [
    "class Model(nn.Module):\n",
    "    def __init__(self):\n",
    "        super(Model, self).__init__()\n",
    "            \n",
    "        self.model = timm.create_model(model_name=\"densenet169\", pretrained=False)\n",
    "        self.model.classifier = nn.Linear(in_features=self.model.classifier.in_features, out_features=4)\n",
    "            \n",
    "    def freeze(self):\n",
    "        for params in self.parameters(): params.requires_grad = False\n",
    "\n",
    "    def forward(self, x):\n",
    "        return nn.LogSoftmax(dim=1)(self.model(x))"
   ]
  },
  {
   "cell_type": "markdown",
   "id": "5168d004",
   "metadata": {
    "papermill": {
     "duration": 0.005889,
     "end_time": "2022-09-27T12:15:11.443515",
     "exception": false,
     "start_time": "2022-09-27T12:15:11.437626",
     "status": "completed"
    },
    "tags": []
   },
   "source": [
    "### **Predict**"
   ]
  },
  {
   "cell_type": "code",
   "execution_count": 7,
   "id": "d955704f",
   "metadata": {
    "execution": {
     "iopub.execute_input": "2022-09-27T12:15:11.457775Z",
     "iopub.status.busy": "2022-09-27T12:15:11.457339Z",
     "iopub.status.idle": "2022-09-27T12:15:11.469289Z",
     "shell.execute_reply": "2022-09-27T12:15:11.468306Z"
    },
    "papermill": {
     "duration": 0.022586,
     "end_time": "2022-09-27T12:15:11.472319",
     "exception": false,
     "start_time": "2022-09-27T12:15:11.449733",
     "status": "completed"
    },
    "tags": []
   },
   "outputs": [],
   "source": [
    "def predict_batch(model=None, dataloader=None, path=None, device=None) -> np.ndarray:\n",
    "    model.load_state_dict(torch.load(path, map_location=device)[\"model_state_dict\"])\n",
    "    model.to(device)    \n",
    "    model.eval()\n",
    "    \n",
    "    y_pred = torch.zeros(1, 1).to(device)\n",
    "    \n",
    "    for X in dataloader:\n",
    "        X = X.to(device)\n",
    "        with torch.no_grad():\n",
    "            output = torch.argmax(torch.exp(model(X)), dim=1)\n",
    "        y_pred = torch.cat((y_pred, output.view(-1, 1)), dim=0)\n",
    "    \n",
    "    return y_pred[1:].detach().cpu().numpy()"
   ]
  },
  {
   "cell_type": "markdown",
   "id": "af6b2c9d",
   "metadata": {
    "papermill": {
     "duration": 0.006005,
     "end_time": "2022-09-27T12:15:11.486021",
     "exception": false,
     "start_time": "2022-09-27T12:15:11.480016",
     "status": "completed"
    },
    "tags": []
   },
   "source": [
    "### **Submit**"
   ]
  },
  {
   "cell_type": "code",
   "execution_count": 8,
   "id": "cb5b0bbb",
   "metadata": {
    "execution": {
     "iopub.execute_input": "2022-09-27T12:15:11.500333Z",
     "iopub.status.busy": "2022-09-27T12:15:11.499875Z",
     "iopub.status.idle": "2022-09-27T12:15:15.472687Z",
     "shell.execute_reply": "2022-09-27T12:15:15.471614Z"
    },
    "papermill": {
     "duration": 3.983064,
     "end_time": "2022-09-27T12:15:15.475424",
     "exception": false,
     "start_time": "2022-09-27T12:15:11.492360",
     "status": "completed"
    },
    "tags": []
   },
   "outputs": [],
   "source": [
    "torch.manual_seed(cfg.seed)\n",
    "model = Model().to(cfg.device)\n",
    "\n",
    "ss_df = pd.read_csv(\"../input/kaggle-pog-series-s01e03/corn/sample_submission.csv\")\n",
    "ts_filenames = ss_df[\"seed_id\"]\n",
    "ts_filenames = np.array([str(ts_filename).zfill(5) for ts_filename in ts_filenames])\n",
    "\n",
    "ts_data_setup = DS(\n",
    "    base_path=\"../input/kaggle-pog-series-s01e03/corn/test\", \n",
    "    filenames=ts_filenames, \n",
    "    size=cfg.size,\n",
    "    transform=cfg.valid_transform,\n",
    ")\n",
    "ts_data = DL(ts_data_setup, batch_size=cfg.batch_size, shuffle=False)"
   ]
  },
  {
   "cell_type": "code",
   "execution_count": 9,
   "id": "41244796",
   "metadata": {
    "execution": {
     "iopub.execute_input": "2022-09-27T12:15:15.485742Z",
     "iopub.status.busy": "2022-09-27T12:15:15.485377Z",
     "iopub.status.idle": "2022-09-27T12:20:33.999263Z",
     "shell.execute_reply": "2022-09-27T12:20:33.998276Z"
    },
    "papermill": {
     "duration": 318.521955,
     "end_time": "2022-09-27T12:20:34.001898",
     "exception": false,
     "start_time": "2022-09-27T12:15:15.479943",
     "status": "completed"
    },
    "tags": []
   },
   "outputs": [],
   "source": [
    "# Fold 1\n",
    "y_pred_1_l = predict_batch(\n",
    "    model=model,\n",
    "    dataloader=ts_data,\n",
    "    path=\"../input/kpsd169a384f1/saves/ble_state_fold_1.pt\",\n",
    "    device=cfg.device\n",
    ").reshape(1, -1)\n",
    "\n",
    "y_pred_1_a = predict_batch(\n",
    "    model=model,\n",
    "    dataloader=ts_data,\n",
    "    path=\"../input/kpsd169a384f1/saves/bae_state_fold_1.pt\",\n",
    "    device=cfg.device\n",
    ").reshape(1, -1)\n",
    "\n",
    "\n",
    "# Fold 2\n",
    "y_pred_2_l = predict_batch(\n",
    "    model=model,\n",
    "    dataloader=ts_data,\n",
    "    path=\"../input/kpsd169a384f2/saves/ble_state_fold_2.pt\",\n",
    "    device=cfg.device\n",
    ").reshape(1, -1)\n",
    "\n",
    "y_pred_2_a = predict_batch(\n",
    "    model=model,\n",
    "    dataloader=ts_data,\n",
    "    path=\"../input/kpsd169a384f2/saves/bae_state_fold_2.pt\",\n",
    "    device=cfg.device\n",
    ").reshape(1, -1)\n",
    "\n",
    "\n",
    "# Fold 3\n",
    "y_pred_3_l = predict_batch(\n",
    "    model=model,\n",
    "    dataloader=ts_data,\n",
    "    path=\"../input/kpsd169a384f3/saves/ble_state_fold_3.pt\",\n",
    "    device=cfg.device\n",
    ").reshape(1, -1)\n",
    "\n",
    "y_pred_3_a = predict_batch(\n",
    "    model=model,\n",
    "    dataloader=ts_data,\n",
    "    path=\"../input/kpsd169a384f3/saves/bae_state_fold_3.pt\",\n",
    "    device=cfg.device\n",
    ").reshape(1, -1)\n",
    "\n",
    "\n",
    "# Fold 4\n",
    "y_pred_4_l = predict_batch(\n",
    "    model=model,\n",
    "    dataloader=ts_data,\n",
    "    path=\"../input/kpsd169a384f4/saves/ble_state_fold_4.pt\",\n",
    "    device=cfg.device\n",
    ").reshape(1, -1)\n",
    "\n",
    "y_pred_4_a = predict_batch(\n",
    "    model=model,\n",
    "    dataloader=ts_data,\n",
    "    path=\"../input/kpsd169a384f4/saves/bae_state_fold_4.pt\",\n",
    "    device=cfg.device\n",
    ").reshape(1, -1)\n",
    "\n",
    "\n",
    "# Fold 5\n",
    "y_pred_5_l = predict_batch(\n",
    "    model=model,\n",
    "    dataloader=ts_data,\n",
    "    path=\"../input/kpsd169a384f5/saves/bae_state_fold_5.pt\",\n",
    "    device=cfg.device\n",
    ").reshape(1, -1)\n",
    "\n",
    "y_pred_5_a = predict_batch(\n",
    "    model=model,\n",
    "    dataloader=ts_data,\n",
    "    path=\"../input/kpsd169a384f5/saves/bae_state_fold_5.pt\",\n",
    "    device=cfg.device\n",
    ").reshape(1, -1)"
   ]
  },
  {
   "cell_type": "code",
   "execution_count": 10,
   "id": "c8adf467",
   "metadata": {
    "execution": {
     "iopub.execute_input": "2022-09-27T12:20:34.013446Z",
     "iopub.status.busy": "2022-09-27T12:20:34.011587Z",
     "iopub.status.idle": "2022-09-27T12:20:34.125685Z",
     "shell.execute_reply": "2022-09-27T12:20:34.124689Z"
    },
    "papermill": {
     "duration": 0.122351,
     "end_time": "2022-09-27T12:20:34.128464",
     "exception": false,
     "start_time": "2022-09-27T12:20:34.006113",
     "status": "completed"
    },
    "tags": []
   },
   "outputs": [],
   "source": [
    "y_pred = np.concatenate(\n",
    "    (y_pred_1_l,\n",
    "     y_pred_1_a, \n",
    "     y_pred_2_l,\n",
    "     y_pred_2_a,\n",
    "     y_pred_3_l,\n",
    "     y_pred_3_a,\n",
    "     y_pred_4_l,\n",
    "     y_pred_4_a,\n",
    "     y_pred_5_l,\n",
    "     y_pred_5_a,\n",
    "    ), axis=0)\n",
    "y_pred = stats.mode(y_pred)[0]\n",
    "y_pred = list(y_pred.astype(\"uint8\").reshape(-1))\n",
    "y_pred = [LABELS[y_pred[i]] for i in range(len(y_pred))]\n",
    "\n",
    "ss_df[\"label\"] = y_pred\n",
    "ss_df.to_csv(\"submission.csv\", index=False)"
   ]
  }
 ],
 "metadata": {
  "kernelspec": {
   "display_name": "Python 3",
   "language": "python",
   "name": "python3"
  },
  "language_info": {
   "codemirror_mode": {
    "name": "ipython",
    "version": 3
   },
   "file_extension": ".py",
   "mimetype": "text/x-python",
   "name": "python",
   "nbconvert_exporter": "python",
   "pygments_lexer": "ipython3",
   "version": "3.7.12"
  },
  "papermill": {
   "default_parameters": {},
   "duration": 349.620904,
   "end_time": "2022-09-27T12:20:35.860294",
   "environment_variables": {},
   "exception": null,
   "input_path": "__notebook__.ipynb",
   "output_path": "__notebook__.ipynb",
   "parameters": {},
   "start_time": "2022-09-27T12:14:46.239390",
   "version": "2.3.4"
  }
 },
 "nbformat": 4,
 "nbformat_minor": 5
}
