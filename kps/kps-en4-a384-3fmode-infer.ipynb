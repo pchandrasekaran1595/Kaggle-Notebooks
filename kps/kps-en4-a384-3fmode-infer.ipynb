{
 "cells": [
  {
   "cell_type": "markdown",
   "id": "d457a8d3",
   "metadata": {
    "_cell_guid": "b1076dfc-b9ad-4769-8c92-a6c4dae69d19",
    "_uuid": "8f2839f25d086af736a60e9eeb907d3b93b6e0e5",
    "papermill": {
     "duration": 0.007373,
     "end_time": "2022-09-26T05:59:01.411287",
     "exception": false,
     "start_time": "2022-09-26T05:59:01.403914",
     "status": "completed"
    },
    "tags": []
   },
   "source": [
    "### **Setup**"
   ]
  },
  {
   "cell_type": "code",
   "execution_count": 1,
   "id": "79857a55",
   "metadata": {
    "execution": {
     "iopub.execute_input": "2022-09-26T05:59:01.426608Z",
     "iopub.status.busy": "2022-09-26T05:59:01.425937Z",
     "iopub.status.idle": "2022-09-26T05:59:12.465456Z",
     "shell.execute_reply": "2022-09-26T05:59:12.463792Z"
    },
    "papermill": {
     "duration": 11.050368,
     "end_time": "2022-09-26T05:59:12.468463",
     "exception": false,
     "start_time": "2022-09-26T05:59:01.418095",
     "status": "completed"
    },
    "tags": []
   },
   "outputs": [
    {
     "name": "stderr",
     "output_type": "stream",
     "text": [
      "WARNING: Running pip as the 'root' user can result in broken permissions and conflicting behaviour with the system package manager. It is recommended to use a virtual environment instead: https://pip.pypa.io/warnings/venv\n"
     ]
    }
   ],
   "source": [
    "%%bash\n",
    "pip install timm -q"
   ]
  },
  {
   "cell_type": "markdown",
   "id": "ace4c252",
   "metadata": {
    "papermill": {
     "duration": 0.003207,
     "end_time": "2022-09-26T05:59:12.475553",
     "exception": false,
     "start_time": "2022-09-26T05:59:12.472346",
     "status": "completed"
    },
    "tags": []
   },
   "source": [
    "### **Library Imports**"
   ]
  },
  {
   "cell_type": "code",
   "execution_count": 2,
   "id": "4282aba0",
   "metadata": {
    "execution": {
     "iopub.execute_input": "2022-09-26T05:59:12.484108Z",
     "iopub.status.busy": "2022-09-26T05:59:12.483790Z",
     "iopub.status.idle": "2022-09-26T05:59:16.311664Z",
     "shell.execute_reply": "2022-09-26T05:59:16.310599Z"
    },
    "papermill": {
     "duration": 3.835395,
     "end_time": "2022-09-26T05:59:16.314335",
     "exception": false,
     "start_time": "2022-09-26T05:59:12.478940",
     "status": "completed"
    },
    "tags": []
   },
   "outputs": [],
   "source": [
    "import os\n",
    "import re\n",
    "import cv2\n",
    "import timm\n",
    "import torch\n",
    "import numpy as np\n",
    "import pandas as pd\n",
    "import matplotlib.pyplot as plt\n",
    "\n",
    "from time import time\n",
    "from scipy import stats\n",
    "from torch import nn, optim\n",
    "from torch.utils.data import Dataset\n",
    "from torch.utils.data import DataLoader as DL\n",
    "from torchvision import models, transforms"
   ]
  },
  {
   "cell_type": "markdown",
   "id": "e593db52",
   "metadata": {
    "papermill": {
     "duration": 0.003152,
     "end_time": "2022-09-26T05:59:16.321204",
     "exception": false,
     "start_time": "2022-09-26T05:59:16.318052",
     "status": "completed"
    },
    "tags": []
   },
   "source": [
    "### **Utilities and Helpers**"
   ]
  },
  {
   "cell_type": "code",
   "execution_count": 3,
   "id": "a06d2f0e",
   "metadata": {
    "execution": {
     "iopub.execute_input": "2022-09-26T05:59:16.330981Z",
     "iopub.status.busy": "2022-09-26T05:59:16.329255Z",
     "iopub.status.idle": "2022-09-26T05:59:16.337487Z",
     "shell.execute_reply": "2022-09-26T05:59:16.336662Z"
    },
    "papermill": {
     "duration": 0.014831,
     "end_time": "2022-09-26T05:59:16.339516",
     "exception": false,
     "start_time": "2022-09-26T05:59:16.324685",
     "status": "completed"
    },
    "tags": []
   },
   "outputs": [],
   "source": [
    "SEED: int = 42\n",
    "SIZE: int = 384\n",
    "\n",
    "LABELS: dict = {\n",
    "    0 : \"pure\",\n",
    "    1 : \"broken\",\n",
    "    2 : \"silkcut\",\n",
    "    3 : \"discolored\",\n",
    "}\n",
    "\n",
    "\n",
    "def breaker(num: int=50, char: str=\"*\") -> None:\n",
    "    print(\"\\n\" + num*char + \"\\n\")\n",
    "\n",
    "    \n",
    "def get_image(path: str, size: int=224) -> np.ndarray:\n",
    "    image = cv2.imread(path, cv2.IMREAD_COLOR)\n",
    "    image = cv2.cvtColor(src=image, code=cv2.COLOR_BGR2RGB)\n",
    "    return cv2.resize(src=image, dsize=(size, size), interpolation=cv2.INTER_AREA)"
   ]
  },
  {
   "cell_type": "markdown",
   "id": "f2c5aced",
   "metadata": {
    "papermill": {
     "duration": 0.003073,
     "end_time": "2022-09-26T05:59:16.345856",
     "exception": false,
     "start_time": "2022-09-26T05:59:16.342783",
     "status": "completed"
    },
    "tags": []
   },
   "source": [
    "### **Configuration**"
   ]
  },
  {
   "cell_type": "code",
   "execution_count": 4,
   "id": "7fba794a",
   "metadata": {
    "execution": {
     "iopub.execute_input": "2022-09-26T05:59:16.354603Z",
     "iopub.status.busy": "2022-09-26T05:59:16.353326Z",
     "iopub.status.idle": "2022-09-26T05:59:16.425909Z",
     "shell.execute_reply": "2022-09-26T05:59:16.424995Z"
    },
    "papermill": {
     "duration": 0.078982,
     "end_time": "2022-09-26T05:59:16.428063",
     "exception": false,
     "start_time": "2022-09-26T05:59:16.349081",
     "status": "completed"
    },
    "tags": []
   },
   "outputs": [],
   "source": [
    "class CFG(object):\n",
    "    def __init__(self, \n",
    "                 seed: int = 42,\n",
    "                 size: int = 224,\n",
    "                 n_splits: int = 5,\n",
    "                 batch_size: int = 16,\n",
    "                 epochs: int = 25,\n",
    "                 early_stopping: int = 5,\n",
    "                 lr: float = 1e-4,\n",
    "                 wd: float = 0.0,\n",
    "                 max_lr: float = 1e-3,\n",
    "                 pct_start: float = 0.2,\n",
    "                 steps_per_epoch: int = 100,\n",
    "                 div_factor: int = 1e3, \n",
    "                 final_div_factor: float = 1e3,\n",
    "                 ):\n",
    "        self.seed = seed\n",
    "        self.size = size\n",
    "        self.n_splits = n_splits\n",
    "        self.batch_size = batch_size\n",
    "        self.epochs = epochs\n",
    "        self.early_stopping = early_stopping\n",
    "        self.lr = lr\n",
    "        self.wd = wd\n",
    "        self.max_lr = max_lr\n",
    "        self.pct_start = pct_start\n",
    "        self.steps_per_epoch = steps_per_epoch\n",
    "        self.div_factor = div_factor\n",
    "        self.final_div_factor = final_div_factor\n",
    "        self.device = torch.device(\"cuda\" if torch.cuda.is_available() else \"cpu\")\n",
    "        self.train_transform = transforms.Compose([\n",
    "            transforms.ToTensor(),\n",
    "            transforms.Normalize([0.81450, 0.79094, 0.69495], [0.06435, 0.10338, 0.20791]),\n",
    "            transforms.RandomAffine(degrees=(-45, 45), translate=(0.15, 0.15), scale=(0.5, 1.5)),\n",
    "            transforms.RandomHorizontalFlip(p=0.25),\n",
    "            transforms.RandomVerticalFlip(p=0.25),\n",
    "        ])\n",
    "        self.valid_transform = transforms.Compose([\n",
    "            transforms.ToTensor(),\n",
    "            transforms.Normalize([0.81450, 0.79094, 0.69495], [0.06435, 0.10338, 0.20791]),\n",
    "        ])\n",
    "                                \n",
    "        self.save_path = \"saves\"\n",
    "        if not os.path.exists(self.save_path): os.makedirs(self.save_path)\n",
    "    \n",
    "cfg = CFG(seed=SEED, size=SIZE)"
   ]
  },
  {
   "cell_type": "markdown",
   "id": "15f205fb",
   "metadata": {
    "papermill": {
     "duration": 0.003115,
     "end_time": "2022-09-26T05:59:16.434594",
     "exception": false,
     "start_time": "2022-09-26T05:59:16.431479",
     "status": "completed"
    },
    "tags": []
   },
   "source": [
    "### **Dataset Template**"
   ]
  },
  {
   "cell_type": "code",
   "execution_count": 5,
   "id": "2cab50f6",
   "metadata": {
    "execution": {
     "iopub.execute_input": "2022-09-26T05:59:16.442936Z",
     "iopub.status.busy": "2022-09-26T05:59:16.442594Z",
     "iopub.status.idle": "2022-09-26T05:59:16.448867Z",
     "shell.execute_reply": "2022-09-26T05:59:16.447836Z"
    },
    "papermill": {
     "duration": 0.012366,
     "end_time": "2022-09-26T05:59:16.450738",
     "exception": false,
     "start_time": "2022-09-26T05:59:16.438372",
     "status": "completed"
    },
    "tags": []
   },
   "outputs": [],
   "source": [
    "class DS(Dataset):\n",
    "    def __init__(\n",
    "        self, \n",
    "        base_path: str,\n",
    "        filenames: np.ndarray, \n",
    "        size: int,\n",
    "        transform=None):\n",
    "        \n",
    "        self.base_path = base_path\n",
    "        self.filenames = filenames\n",
    "        self.size = size\n",
    "        self.transform = transform\n",
    "    \n",
    "    def __len__(self):\n",
    "        return self.filenames.shape[0]\n",
    "    \n",
    "    def __getitem__(self, idx):\n",
    "        path = os.path.join(self.base_path, str(self.filenames[idx]) + \".png\")\n",
    "        image = get_image(path, self.size)\n",
    "        return self.transform(image)"
   ]
  },
  {
   "cell_type": "markdown",
   "id": "96d51e7b",
   "metadata": {
    "papermill": {
     "duration": 0.003031,
     "end_time": "2022-09-26T05:59:16.457038",
     "exception": false,
     "start_time": "2022-09-26T05:59:16.454007",
     "status": "completed"
    },
    "tags": []
   },
   "source": [
    "### **Model**"
   ]
  },
  {
   "cell_type": "code",
   "execution_count": 6,
   "id": "e4cf162a",
   "metadata": {
    "execution": {
     "iopub.execute_input": "2022-09-26T05:59:16.465802Z",
     "iopub.status.busy": "2022-09-26T05:59:16.464426Z",
     "iopub.status.idle": "2022-09-26T05:59:16.471183Z",
     "shell.execute_reply": "2022-09-26T05:59:16.470099Z"
    },
    "papermill": {
     "duration": 0.012961,
     "end_time": "2022-09-26T05:59:16.473269",
     "exception": false,
     "start_time": "2022-09-26T05:59:16.460308",
     "status": "completed"
    },
    "tags": []
   },
   "outputs": [],
   "source": [
    "class Model(nn.Module):\n",
    "    def __init__(self):\n",
    "        super(Model, self).__init__()\n",
    "            \n",
    "        self.model = timm.create_model(model_name=\"efficientnet_b4\", pretrained=False)\n",
    "        self.model.classifier = nn.Linear(in_features=self.model.classifier.in_features, out_features=4)\n",
    "            \n",
    "    def freeze(self):\n",
    "        for params in self.parameters(): params.requires_grad = False\n",
    "\n",
    "    def forward(self, x):\n",
    "        return nn.LogSoftmax(dim=1)(self.model(x))"
   ]
  },
  {
   "cell_type": "markdown",
   "id": "616136b8",
   "metadata": {
    "papermill": {
     "duration": 0.003188,
     "end_time": "2022-09-26T05:59:16.479684",
     "exception": false,
     "start_time": "2022-09-26T05:59:16.476496",
     "status": "completed"
    },
    "tags": []
   },
   "source": [
    "### **Predict**"
   ]
  },
  {
   "cell_type": "code",
   "execution_count": 7,
   "id": "a3b79ba2",
   "metadata": {
    "execution": {
     "iopub.execute_input": "2022-09-26T05:59:16.487222Z",
     "iopub.status.busy": "2022-09-26T05:59:16.486972Z",
     "iopub.status.idle": "2022-09-26T05:59:16.493633Z",
     "shell.execute_reply": "2022-09-26T05:59:16.492595Z"
    },
    "papermill": {
     "duration": 0.012593,
     "end_time": "2022-09-26T05:59:16.495519",
     "exception": false,
     "start_time": "2022-09-26T05:59:16.482926",
     "status": "completed"
    },
    "tags": []
   },
   "outputs": [],
   "source": [
    "def predict_batch(model=None, dataloader=None, path=None, device=None) -> np.ndarray:\n",
    "    model.load_state_dict(torch.load(path, map_location=device)[\"model_state_dict\"])\n",
    "    model.to(device)    \n",
    "    model.eval()\n",
    "    \n",
    "    y_pred = torch.zeros(1, 1).to(device)\n",
    "    \n",
    "    for X in dataloader:\n",
    "        X = X.to(device)\n",
    "        with torch.no_grad():\n",
    "            output = torch.argmax(torch.exp(model(X)), dim=1)\n",
    "        y_pred = torch.cat((y_pred, output.view(-1, 1)), dim=0)\n",
    "    \n",
    "    return y_pred[1:].detach().cpu().numpy()"
   ]
  },
  {
   "cell_type": "markdown",
   "id": "2d02689b",
   "metadata": {
    "papermill": {
     "duration": 0.003054,
     "end_time": "2022-09-26T05:59:16.501815",
     "exception": false,
     "start_time": "2022-09-26T05:59:16.498761",
     "status": "completed"
    },
    "tags": []
   },
   "source": [
    "### **Submit**"
   ]
  },
  {
   "cell_type": "code",
   "execution_count": 8,
   "id": "02367ecd",
   "metadata": {
    "execution": {
     "iopub.execute_input": "2022-09-26T05:59:16.510018Z",
     "iopub.status.busy": "2022-09-26T05:59:16.509197Z",
     "iopub.status.idle": "2022-09-26T06:01:13.948608Z",
     "shell.execute_reply": "2022-09-26T06:01:13.947378Z"
    },
    "papermill": {
     "duration": 117.446679,
     "end_time": "2022-09-26T06:01:13.951844",
     "exception": false,
     "start_time": "2022-09-26T05:59:16.505165",
     "status": "completed"
    },
    "tags": []
   },
   "outputs": [],
   "source": [
    "torch.manual_seed(cfg.seed)\n",
    "model = Model().to(cfg.device)\n",
    "\n",
    "ss_df = pd.read_csv(\"../input/kaggle-pog-series-s01e03/corn/sample_submission.csv\")\n",
    "ts_filenames = ss_df[\"seed_id\"]\n",
    "ts_filenames = np.array([str(ts_filename).zfill(5) for ts_filename in ts_filenames])\n",
    "\n",
    "ts_data_setup = DS(\n",
    "    base_path=\"../input/kaggle-pog-series-s01e03/corn/test\", \n",
    "    filenames=ts_filenames, \n",
    "    size=cfg.size,\n",
    "    transform=cfg.valid_transform,\n",
    ")\n",
    "ts_data = DL(ts_data_setup, batch_size=cfg.batch_size, shuffle=False)\n",
    "\n",
    "y_pred_1 = predict_batch(\n",
    "    model=model,\n",
    "    dataloader=ts_data,\n",
    "    path=\"../input/kps-en4-a384-f1/saves/ble_state_fold_1.pt\",\n",
    "    device=cfg.device\n",
    ").reshape(1, -1)\n",
    "\n",
    "y_pred_2 = predict_batch(\n",
    "    model=model,\n",
    "    dataloader=ts_data,\n",
    "    path=\"../input/kps-en4-a384-f2/saves/ble_state_fold_2.pt\",\n",
    "    device=cfg.device\n",
    ").reshape(1, -1)\n",
    "\n",
    "y_pred_3 = predict_batch(\n",
    "    model=model,\n",
    "    dataloader=ts_data,\n",
    "    path=\"../input/kps-en4-a384-f3/saves/ble_state_fold_3.pt\",\n",
    "    device=cfg.device\n",
    ").reshape(1, -1)\n",
    "\n",
    "y_pred = np.concatenate((y_pred_1, y_pred_2, y_pred_3), axis=0)\n",
    "y_pred = stats.mode(y_pred)[0]\n",
    "y_pred = list(y_pred.astype(\"uint8\").reshape(-1))\n",
    "y_pred = [LABELS[y_pred[i]] for i in range(len(y_pred))]\n",
    "\n",
    "ss_df[\"label\"] = y_pred\n",
    "ss_df.to_csv(\"submission.csv\", index=False)"
   ]
  }
 ],
 "metadata": {
  "kernelspec": {
   "display_name": "Python 3",
   "language": "python",
   "name": "python3"
  },
  "language_info": {
   "codemirror_mode": {
    "name": "ipython",
    "version": 3
   },
   "file_extension": ".py",
   "mimetype": "text/x-python",
   "name": "python",
   "nbconvert_exporter": "python",
   "pygments_lexer": "ipython3",
   "version": "3.7.12"
  },
  "papermill": {
   "default_parameters": {},
   "duration": 142.1271,
   "end_time": "2022-09-26T06:01:15.589289",
   "environment_variables": {},
   "exception": null,
   "input_path": "__notebook__.ipynb",
   "output_path": "__notebook__.ipynb",
   "parameters": {},
   "start_time": "2022-09-26T05:58:53.462189",
   "version": "2.3.4"
  }
 },
 "nbformat": 4,
 "nbformat_minor": 5
}
