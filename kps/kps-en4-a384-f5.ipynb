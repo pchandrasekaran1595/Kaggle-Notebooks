{
 "cells": [
  {
   "cell_type": "markdown",
   "id": "19ff6be7",
   "metadata": {
    "_cell_guid": "b1076dfc-b9ad-4769-8c92-a6c4dae69d19",
    "_uuid": "8f2839f25d086af736a60e9eeb907d3b93b6e0e5",
    "papermill": {
     "duration": 0.008375,
     "end_time": "2022-09-26T06:09:53.433233",
     "exception": false,
     "start_time": "2022-09-26T06:09:53.424858",
     "status": "completed"
    },
    "tags": []
   },
   "source": [
    "### **Setup**"
   ]
  },
  {
   "cell_type": "code",
   "execution_count": 1,
   "id": "9669293d",
   "metadata": {
    "execution": {
     "iopub.execute_input": "2022-09-26T06:09:53.448904Z",
     "iopub.status.busy": "2022-09-26T06:09:53.448484Z",
     "iopub.status.idle": "2022-09-26T06:10:04.364231Z",
     "shell.execute_reply": "2022-09-26T06:10:04.363102Z"
    },
    "papermill": {
     "duration": 10.926647,
     "end_time": "2022-09-26T06:10:04.366750",
     "exception": false,
     "start_time": "2022-09-26T06:09:53.440103",
     "status": "completed"
    },
    "tags": []
   },
   "outputs": [
    {
     "name": "stderr",
     "output_type": "stream",
     "text": [
      "WARNING: Running pip as the 'root' user can result in broken permissions and conflicting behaviour with the system package manager. It is recommended to use a virtual environment instead: https://pip.pypa.io/warnings/venv\n"
     ]
    }
   ],
   "source": [
    "%%bash\n",
    "pip install timm -q"
   ]
  },
  {
   "cell_type": "markdown",
   "id": "919dc4e6",
   "metadata": {
    "papermill": {
     "duration": 0.004496,
     "end_time": "2022-09-26T06:10:04.375978",
     "exception": false,
     "start_time": "2022-09-26T06:10:04.371482",
     "status": "completed"
    },
    "tags": []
   },
   "source": [
    "### **Library Imports**"
   ]
  },
  {
   "cell_type": "code",
   "execution_count": 2,
   "id": "03b4bb5d",
   "metadata": {
    "execution": {
     "iopub.execute_input": "2022-09-26T06:10:04.386296Z",
     "iopub.status.busy": "2022-09-26T06:10:04.385986Z",
     "iopub.status.idle": "2022-09-26T06:10:08.307042Z",
     "shell.execute_reply": "2022-09-26T06:10:08.305968Z"
    },
    "papermill": {
     "duration": 3.929235,
     "end_time": "2022-09-26T06:10:08.309611",
     "exception": false,
     "start_time": "2022-09-26T06:10:04.380376",
     "status": "completed"
    },
    "tags": []
   },
   "outputs": [],
   "source": [
    "import os\n",
    "import re\n",
    "import cv2\n",
    "import timm\n",
    "import torch\n",
    "import numpy as np\n",
    "import pandas as pd\n",
    "import matplotlib.pyplot as plt\n",
    "\n",
    "from time import time\n",
    "from torch import nn, optim\n",
    "from torch.utils.data import Dataset\n",
    "from torch.utils.data import DataLoader as DL\n",
    "from torchvision import models, transforms\n",
    "\n",
    "from sklearn.model_selection import StratifiedKFold"
   ]
  },
  {
   "cell_type": "markdown",
   "id": "84b90c4b",
   "metadata": {
    "papermill": {
     "duration": 0.004822,
     "end_time": "2022-09-26T06:10:08.319430",
     "exception": false,
     "start_time": "2022-09-26T06:10:08.314608",
     "status": "completed"
    },
    "tags": []
   },
   "source": [
    "### **Utilities and Helpers**"
   ]
  },
  {
   "cell_type": "code",
   "execution_count": 3,
   "id": "39401096",
   "metadata": {
    "execution": {
     "iopub.execute_input": "2022-09-26T06:10:08.330413Z",
     "iopub.status.busy": "2022-09-26T06:10:08.329435Z",
     "iopub.status.idle": "2022-09-26T06:10:08.342367Z",
     "shell.execute_reply": "2022-09-26T06:10:08.341525Z"
    },
    "papermill": {
     "duration": 0.020536,
     "end_time": "2022-09-26T06:10:08.344517",
     "exception": false,
     "start_time": "2022-09-26T06:10:08.323981",
     "status": "completed"
    },
    "tags": []
   },
   "outputs": [],
   "source": [
    "SEED = 42\n",
    "SIZE = 384\n",
    "\n",
    "\n",
    "def breaker(num: int=50, char: str=\"*\") -> None:\n",
    "    print(\"\\n\" + num*char + \"\\n\")\n",
    "\n",
    "    \n",
    "def get_image(path: str, size: int=224) -> np.ndarray:\n",
    "    image = cv2.imread(path, cv2.IMREAD_COLOR)\n",
    "    image = cv2.cvtColor(src=image, code=cv2.COLOR_BGR2RGB)\n",
    "    return cv2.resize(src=image, dsize=(size, size), interpolation=cv2.INTER_AREA)\n",
    "\n",
    "\n",
    "def show_loss_graphs(L: list) -> None:\n",
    "    TL, VL = [], []\n",
    "    for i in range(len(L)):\n",
    "        TL.append(L[i][\"train\"])\n",
    "        VL.append(L[i][\"valid\"])\n",
    "    x_Axis = np.arange(1, len(TL) + 1)\n",
    "    plt.figure()\n",
    "    plt.plot(x_Axis, TL, \"r\", label=\"Train\")\n",
    "    plt.plot(x_Axis, VL, \"b\", label=\"Valid\")\n",
    "    plt.legend()\n",
    "    plt.grid()\n",
    "    plt.title(\"Loss Graph\")\n",
    "    plt.show()\n",
    "\n",
    "    \n",
    "def show_accuracy_graphs(A: list) -> None:\n",
    "    TA, VA = [], []\n",
    "    for i in range(len(A)):\n",
    "        TA.append(A[i][\"train\"])\n",
    "        VA.append(A[i][\"valid\"])\n",
    "    x_Axis = np.arange(1, len(TA) + 1)\n",
    "    plt.figure()\n",
    "    plt.plot(x_Axis, TA, \"r\", label=\"Train\")\n",
    "    plt.plot(x_Axis, VA, \"b\", label=\"Valid\")\n",
    "    plt.legend()\n",
    "    plt.grid()\n",
    "    plt.title(\"Accuracy Graph\")\n",
    "    plt.show()\n",
    "    \n",
    "\n",
    "def show_lr_graph(LR: list) -> None:\n",
    "    x_Axis = [i+1 for i in range(len(LR))]\n",
    "    plt.figure(figsize=(8, 6))\n",
    "    plt.plot(x_Axis, LR, \"rx\")\n",
    "    plt.grid()\n",
    "    plt.show()"
   ]
  },
  {
   "cell_type": "markdown",
   "id": "868b13b7",
   "metadata": {
    "papermill": {
     "duration": 0.004325,
     "end_time": "2022-09-26T06:10:08.353261",
     "exception": false,
     "start_time": "2022-09-26T06:10:08.348936",
     "status": "completed"
    },
    "tags": []
   },
   "source": [
    "### **Configuration**"
   ]
  },
  {
   "cell_type": "code",
   "execution_count": 4,
   "id": "ca8fd8dc",
   "metadata": {
    "execution": {
     "iopub.execute_input": "2022-09-26T06:10:08.363758Z",
     "iopub.status.busy": "2022-09-26T06:10:08.363460Z",
     "iopub.status.idle": "2022-09-26T06:10:08.438470Z",
     "shell.execute_reply": "2022-09-26T06:10:08.437473Z"
    },
    "papermill": {
     "duration": 0.082896,
     "end_time": "2022-09-26T06:10:08.440782",
     "exception": false,
     "start_time": "2022-09-26T06:10:08.357886",
     "status": "completed"
    },
    "tags": []
   },
   "outputs": [],
   "source": [
    "class CFG(object):\n",
    "    def __init__(self, \n",
    "                 seed: int = 42,\n",
    "                 size: int = 224,\n",
    "                 n_splits: int = 5,\n",
    "                 batch_size: int = 16,\n",
    "                 epochs: int = 25,\n",
    "                 early_stopping: int = 5,\n",
    "                 lr: float = 1e-4,\n",
    "                 wd: float = 0.0,\n",
    "                 max_lr: float = 1e-3,\n",
    "                 pct_start: float = 0.2,\n",
    "                 steps_per_epoch: int = 100,\n",
    "                 div_factor: int = 1e3, \n",
    "                 final_div_factor: float = 1e3,\n",
    "                 ):\n",
    "        self.seed = seed\n",
    "        self.size = size\n",
    "        self.n_splits = n_splits\n",
    "        self.batch_size = batch_size\n",
    "        self.epochs = epochs\n",
    "        self.early_stopping = early_stopping\n",
    "        self.lr = lr\n",
    "        self.wd = wd\n",
    "        self.max_lr = max_lr\n",
    "        self.pct_start = pct_start\n",
    "        self.steps_per_epoch = steps_per_epoch\n",
    "        self.div_factor = div_factor\n",
    "        self.final_div_factor = final_div_factor\n",
    "        self.device = torch.device(\"cuda\" if torch.cuda.is_available() else \"cpu\")\n",
    "        self.train_transform = transforms.Compose([\n",
    "            transforms.ToTensor(),\n",
    "            transforms.Normalize([0.81450, 0.79094, 0.69495], [0.06435, 0.10338, 0.20791]),\n",
    "            transforms.RandomAffine(degrees=(-45, 45), translate=(0.15, 0.15), scale=(0.5, 1.5)),\n",
    "            transforms.RandomHorizontalFlip(p=0.25),\n",
    "            transforms.RandomVerticalFlip(p=0.25),\n",
    "        ])\n",
    "        self.valid_transform = transforms.Compose([\n",
    "            transforms.ToTensor(),\n",
    "            transforms.Normalize([0.81450, 0.79094, 0.69495], [0.06435, 0.10338, 0.20791]),\n",
    "        ])\n",
    "                                \n",
    "        self.save_path = \"saves\"\n",
    "        if not os.path.exists(self.save_path): os.makedirs(self.save_path)\n",
    "    \n",
    "cfg = CFG(seed=SEED, size=SIZE)"
   ]
  },
  {
   "cell_type": "markdown",
   "id": "ddaa5184",
   "metadata": {
    "papermill": {
     "duration": 0.004193,
     "end_time": "2022-09-26T06:10:08.449607",
     "exception": false,
     "start_time": "2022-09-26T06:10:08.445414",
     "status": "completed"
    },
    "tags": []
   },
   "source": [
    "### **Dataset Template**"
   ]
  },
  {
   "cell_type": "code",
   "execution_count": 5,
   "id": "d6e6896e",
   "metadata": {
    "execution": {
     "iopub.execute_input": "2022-09-26T06:10:08.459767Z",
     "iopub.status.busy": "2022-09-26T06:10:08.459469Z",
     "iopub.status.idle": "2022-09-26T06:10:08.465306Z",
     "shell.execute_reply": "2022-09-26T06:10:08.464422Z"
    },
    "papermill": {
     "duration": 0.013299,
     "end_time": "2022-09-26T06:10:08.467296",
     "exception": false,
     "start_time": "2022-09-26T06:10:08.453997",
     "status": "completed"
    },
    "tags": []
   },
   "outputs": [],
   "source": [
    "class DS(Dataset):\n",
    "    def __init__(\n",
    "        self, \n",
    "        filepaths: np.ndarray, \n",
    "        labels: np.ndarray, \n",
    "        size: int,\n",
    "        transform=None):\n",
    "        \n",
    "        self.filepaths = filepaths\n",
    "        self.labels = labels\n",
    "        self.size = size\n",
    "        self.transform = transform\n",
    "    \n",
    "    def __len__(self):\n",
    "        return self.filepaths.shape[0]\n",
    "    \n",
    "    def __getitem__(self, idx):\n",
    "        image = get_image(self.filepaths[idx], self.size)\n",
    "        return self.transform(image), torch.LongTensor(self.labels[idx])"
   ]
  },
  {
   "cell_type": "code",
   "execution_count": 6,
   "id": "be3f1886",
   "metadata": {
    "execution": {
     "iopub.execute_input": "2022-09-26T06:10:08.477305Z",
     "iopub.status.busy": "2022-09-26T06:10:08.477010Z",
     "iopub.status.idle": "2022-09-26T06:10:08.482324Z",
     "shell.execute_reply": "2022-09-26T06:10:08.481518Z"
    },
    "papermill": {
     "duration": 0.012561,
     "end_time": "2022-09-26T06:10:08.484250",
     "exception": false,
     "start_time": "2022-09-26T06:10:08.471689",
     "status": "completed"
    },
    "tags": []
   },
   "outputs": [],
   "source": [
    "# class DS(Dataset):\n",
    "#     def __init__(\n",
    "#         self, \n",
    "#         base_path: str,\n",
    "#         filenames: np.ndarray, \n",
    "#         size: int,\n",
    "#         transform=None):\n",
    "        \n",
    "#         self.base_path = base_path\n",
    "#         self.filenames = filenames\n",
    "#         self.size = size\n",
    "#         self.transform = transform\n",
    "    \n",
    "#     def __len__(self):\n",
    "#         return self.filenames.shape[0]\n",
    "    \n",
    "#     def __getitem__(self, idx):\n",
    "#         path = os.path.join(self.base_path, str(self.filenames[idx]) + \".png\")\n",
    "#         image = get_image(path, self.size)\n",
    "#         return self.transform(image)"
   ]
  },
  {
   "cell_type": "markdown",
   "id": "f0370968",
   "metadata": {
    "papermill": {
     "duration": 0.004158,
     "end_time": "2022-09-26T06:10:08.493590",
     "exception": false,
     "start_time": "2022-09-26T06:10:08.489432",
     "status": "completed"
    },
    "tags": []
   },
   "source": [
    "### **Model**"
   ]
  },
  {
   "cell_type": "code",
   "execution_count": 7,
   "id": "9afcc833",
   "metadata": {
    "execution": {
     "iopub.execute_input": "2022-09-26T06:10:08.504812Z",
     "iopub.status.busy": "2022-09-26T06:10:08.503328Z",
     "iopub.status.idle": "2022-09-26T06:10:08.509903Z",
     "shell.execute_reply": "2022-09-26T06:10:08.509057Z"
    },
    "papermill": {
     "duration": 0.013783,
     "end_time": "2022-09-26T06:10:08.511904",
     "exception": false,
     "start_time": "2022-09-26T06:10:08.498121",
     "status": "completed"
    },
    "tags": []
   },
   "outputs": [],
   "source": [
    "class Model(nn.Module):\n",
    "    def __init__(self):\n",
    "        super(Model, self).__init__()\n",
    "            \n",
    "        self.model = timm.create_model(model_name=\"efficientnet_b4\", pretrained=True)\n",
    "        self.model.classifier = nn.Linear(in_features=self.model.classifier.in_features, out_features=4)\n",
    "            \n",
    "    def freeze(self):\n",
    "        for params in self.parameters(): params.requires_grad = False\n",
    "\n",
    "    def forward(self, x):\n",
    "        return nn.LogSoftmax(dim=1)(self.model(x))"
   ]
  },
  {
   "cell_type": "markdown",
   "id": "5523cf1d",
   "metadata": {
    "papermill": {
     "duration": 0.004442,
     "end_time": "2022-09-26T06:10:08.520760",
     "exception": false,
     "start_time": "2022-09-26T06:10:08.516318",
     "status": "completed"
    },
    "tags": []
   },
   "source": [
    "### **Fit and Predict**"
   ]
  },
  {
   "cell_type": "code",
   "execution_count": 8,
   "id": "e0ad388d",
   "metadata": {
    "execution": {
     "iopub.execute_input": "2022-09-26T06:10:08.531062Z",
     "iopub.status.busy": "2022-09-26T06:10:08.530812Z",
     "iopub.status.idle": "2022-09-26T06:10:08.551554Z",
     "shell.execute_reply": "2022-09-26T06:10:08.550712Z"
    },
    "papermill": {
     "duration": 0.028352,
     "end_time": "2022-09-26T06:10:08.553541",
     "exception": false,
     "start_time": "2022-09-26T06:10:08.525189",
     "status": "completed"
    },
    "tags": []
   },
   "outputs": [],
   "source": [
    "def fit(model=None,\n",
    "        optimizer=None, \n",
    "        scheduler_rlrop=None,\n",
    "        scheduler_oclr=None,\n",
    "        epochs=None, \n",
    "        early_stopping_patience=None, \n",
    "        dataloaders=None, \n",
    "        fold=None, \n",
    "        save_path=None,\n",
    "        device=None,\n",
    "        verbose=False) -> tuple:\n",
    "    \n",
    "    def get_accuracy(y_pred, y_true):\n",
    "        y_pred = torch.argmax(y_pred, dim=1)\n",
    "        return torch.count_nonzero(y_pred == y_true).item() / len(y_pred)\n",
    "    \n",
    "    if verbose:\n",
    "        breaker()\n",
    "        if fold: print(f\"Training Fold {fold}...\")\n",
    "        else: print(\"Training ...\")\n",
    "        breaker()\n",
    "        \n",
    "    bestLoss: dict = {\"train\" : np.inf, \"valid\" : np.inf} \n",
    "    bestAccs: dict = {\"train\" : 0.0, \"valid\" : 0.0}\n",
    "        \n",
    "    Losses: list = []\n",
    "    Accuracies: list = [] \n",
    "    LRs: list = []\n",
    "        \n",
    "    if fold: \n",
    "        ble_name = f\"ble_state_fold_{fold}.pt\"\n",
    "        bae_name = f\"bae_state_fold_{fold}.pt\"\n",
    "    else: \n",
    "        ble_name = f\"ble_state.pt\"\n",
    "        bae_name = f\"bae_state.pt\"\n",
    "    \n",
    "    start_time = time()\n",
    "    for e in range(epochs):\n",
    "        e_st = time()\n",
    "        epochLoss: dict = {\"train\" : 0.0, \"valid\" : 0.0} \n",
    "        epochAccs: dict = {\"train\" : 0.0, \"valid\" : 0.0}\n",
    "\n",
    "        for phase in [\"train\", \"valid\"]:\n",
    "            if phase == \"train\":\n",
    "                model.train()\n",
    "            else:\n",
    "                model.eval()\n",
    "            \n",
    "            lossPerPass: list = []\n",
    "            accsPerPass: list = []\n",
    "                \n",
    "            for X, y in dataloaders[phase]:\n",
    "                X, y = X.to(device), y.to(device).view(-1)\n",
    "\n",
    "                optimizer.zero_grad()\n",
    "                with torch.set_grad_enabled(phase == \"train\"):\n",
    "                    output = model(X)\n",
    "                    loss = torch.nn.NLLLoss()(output, y)\n",
    "                    if phase == \"train\":\n",
    "                        loss.backward()\n",
    "                        optimizer.step()\n",
    "                        if scheduler_oclr: scheduler_oclr.step()\n",
    "                lossPerPass.append(loss.item())\n",
    "                accsPerPass.append(get_accuracy(output, y))\n",
    "            epochLoss[phase] = np.mean(np.array(lossPerPass))\n",
    "            epochAccs[phase] = np.mean(np.array(accsPerPass))\n",
    "        if scheduler_oclr: LRs.append(scheduler_oclr.get_last_lr())\n",
    "        Losses.append(epochLoss)\n",
    "        Accuracies.append(epochAccs)\n",
    "    \n",
    "        if scheduler_oclr:\n",
    "            save_dict = {\"model_state_dict\"     : model.state_dict(),\n",
    "                         \"optim_state_dict\"     : optimizer.state_dict(),\n",
    "                         \"scheduler_state_dict\" : scheduler_oclr.state_dict()}\n",
    "        \n",
    "        elif scheduler_rlrop:\n",
    "            save_dict = {\"model_state_dict\"     : model.state_dict(),\n",
    "                         \"optim_state_dict\"     : optimizer.state_dict(),\n",
    "                         \"scheduler_state_dict\" : scheduler_rlrop.state_dict()}\n",
    "        \n",
    "        else:\n",
    "            save_dict = {\"model_state_dict\"     : model.state_dict(),\n",
    "                         \"optim_state_dict\"     : optimizer.state_dict()}\n",
    "        \n",
    "        \n",
    "        if early_stopping_patience:\n",
    "            if epochLoss[\"valid\"] < bestLoss[\"valid\"]:\n",
    "                bestLoss = epochLoss\n",
    "                BLE = e + 1\n",
    "                torch.save(save_dict, os.path.join(save_path, ble_name))\n",
    "                torch.save(save_dict, os.path.join(save_path, bae_name))\n",
    "                early_stopping_step = 0\n",
    "            else:\n",
    "                early_stopping_step += 1\n",
    "                if early_stopping_step > early_stopping_patience:\n",
    "                    print(\"\\nEarly Stopping at Epoch {}\".format(e + 1))\n",
    "                    break\n",
    "        \n",
    "        if epochLoss[\"valid\"] < bestLoss[\"valid\"]:\n",
    "            bestLoss = epochLoss\n",
    "            BLE = e + 1\n",
    "            torch.save(save_dict,os.path.join(save_path, ble_name))\n",
    "        \n",
    "        if epochAccs[\"valid\"] > bestAccs[\"valid\"]:\n",
    "            bestAccs = epochAccs\n",
    "            BAE = e + 1\n",
    "            torch.save(save_dict,os.path.join(save_path, bae_name))\n",
    "        \n",
    "        if scheduler_rlrop: scheduler_rlrop.step(epochLoss[\"valid\"])\n",
    "        \n",
    "        if verbose:\n",
    "            print(\"Epoch: {} | Train Loss: {:.5f} | Valid Loss: {:.5f} |\\\n",
    " Train Accs: {:.5f} | Valid Accs: {:.5f} | Time: {:.2f} seconds\".format(e+1, \n",
    "                                                                        epochLoss[\"train\"], epochLoss[\"valid\"], \n",
    "                                                                        epochAccs[\"train\"], epochAccs[\"valid\"], \n",
    "                                                                        time()-e_st))\n",
    "\n",
    "    if verbose:                                           \n",
    "        breaker()\n",
    "        print(f\"Best Validation Loss at Epoch {BLE}\")\n",
    "        breaker()\n",
    "        print(f\"Best Validation Accs at Epoch {BAE}\")\n",
    "        breaker()\n",
    "        print(\"Time Taken [{} Epochs] : {:.2f} minutes\".format(len(Losses), (time()-start_time)/60))\n",
    "    \n",
    "    return Losses, Accuracies, LRs, bestLoss, bestAccs, BLE, BAE, ble_name, bae_name\n",
    "\n",
    "\n",
    "# def predict_batch(model=None, dataloader=None, path=None, device=None) -> np.ndarray:\n",
    "#     model.load_state_dict(torch.load(path, map_location=device)[\"model_state_dict\"])\n",
    "#     model.to(device)    \n",
    "#     model.eval()\n",
    "    \n",
    "#     y_pred = torch.zeros(1, 1).to(device)\n",
    "    \n",
    "#     for X in dataloader:\n",
    "#         X = X.to(device)\n",
    "#         with torch.no_grad():\n",
    "#             output = torch.argmax(torch.exp(model(X)), dim=1)\n",
    "#         y_pred = torch.cat((y_pred, output.view(-1, 1)), dim=0)\n",
    "    \n",
    "#     return y_pred[1:].detach().cpu().numpy()"
   ]
  },
  {
   "cell_type": "markdown",
   "id": "4e6ed027",
   "metadata": {
    "papermill": {
     "duration": 0.004302,
     "end_time": "2022-09-26T06:10:08.562336",
     "exception": false,
     "start_time": "2022-09-26T06:10:08.558034",
     "status": "completed"
    },
    "tags": []
   },
   "source": [
    "### **Train**"
   ]
  },
  {
   "cell_type": "code",
   "execution_count": 9,
   "id": "075ea82f",
   "metadata": {
    "execution": {
     "iopub.execute_input": "2022-09-26T06:10:08.572209Z",
     "iopub.status.busy": "2022-09-26T06:10:08.571951Z",
     "iopub.status.idle": "2022-09-26T06:10:08.639284Z",
     "shell.execute_reply": "2022-09-26T06:10:08.638321Z"
    },
    "papermill": {
     "duration": 0.074857,
     "end_time": "2022-09-26T06:10:08.641555",
     "exception": false,
     "start_time": "2022-09-26T06:10:08.566698",
     "status": "completed"
    },
    "tags": []
   },
   "outputs": [],
   "source": [
    "df = pd.read_csv(\"../input/kps-dataframe/dataframe.csv\")\n",
    "\n",
    "filepaths = df.filepaths.copy().values\n",
    "labels = df.label_index.copy().values"
   ]
  },
  {
   "cell_type": "code",
   "execution_count": 10,
   "id": "1d10a6cd",
   "metadata": {
    "execution": {
     "iopub.execute_input": "2022-09-26T06:10:08.653416Z",
     "iopub.status.busy": "2022-09-26T06:10:08.651982Z",
     "iopub.status.idle": "2022-09-26T08:18:48.495366Z",
     "shell.execute_reply": "2022-09-26T08:18:48.494150Z"
    },
    "papermill": {
     "duration": 7719.851133,
     "end_time": "2022-09-26T08:18:48.497373",
     "exception": false,
     "start_time": "2022-09-26T06:10:08.646240",
     "status": "completed"
    },
    "tags": []
   },
   "outputs": [
    {
     "name": "stderr",
     "output_type": "stream",
     "text": [
      "Downloading: \"https://github.com/rwightman/pytorch-image-models/releases/download/v0.1-weights/efficientnet_b4_ra2_320-7eb33cd5.pth\" to /root/.cache/torch/hub/checkpoints/efficientnet_b4_ra2_320-7eb33cd5.pth\n"
     ]
    },
    {
     "name": "stdout",
     "output_type": "stream",
     "text": [
      "\n",
      "**************************************************\n",
      "\n",
      "Training Fold 5...\n",
      "\n",
      "**************************************************\n",
      "\n",
      "Epoch: 1 | Train Loss: 1.22040 | Valid Loss: 0.87877 | Train Accs: 0.44709 | Valid Accs: 0.63268 | Time: 590.21 seconds\n",
      "Epoch: 2 | Train Loss: 0.76353 | Valid Loss: 0.62623 | Train Accs: 0.68811 | Valid Accs: 0.75943 | Time: 511.47 seconds\n",
      "Epoch: 3 | Train Loss: 0.65414 | Valid Loss: 0.62483 | Train Accs: 0.73344 | Valid Accs: 0.75244 | Time: 507.91 seconds\n",
      "Epoch: 4 | Train Loss: 0.62928 | Valid Loss: 0.62164 | Train Accs: 0.74425 | Valid Accs: 0.75314 | Time: 506.97 seconds\n",
      "Epoch: 5 | Train Loss: 0.61380 | Valid Loss: 0.61331 | Train Accs: 0.75366 | Valid Accs: 0.76047 | Time: 508.18 seconds\n",
      "Epoch: 6 | Train Loss: 0.57771 | Valid Loss: 0.55149 | Train Accs: 0.76639 | Valid Accs: 0.77828 | Time: 509.39 seconds\n",
      "Epoch: 7 | Train Loss: 0.55726 | Valid Loss: 0.57318 | Train Accs: 0.78060 | Valid Accs: 0.77898 | Time: 506.13 seconds\n",
      "Epoch: 8 | Train Loss: 0.53065 | Valid Loss: 0.57028 | Train Accs: 0.78495 | Valid Accs: 0.78142 | Time: 507.56 seconds\n",
      "Epoch: 9 | Train Loss: 0.50896 | Valid Loss: 0.55111 | Train Accs: 0.79881 | Valid Accs: 0.79085 | Time: 514.40 seconds\n",
      "Epoch: 10 | Train Loss: 0.48409 | Valid Loss: 0.62136 | Train Accs: 0.80422 | Valid Accs: 0.76955 | Time: 511.10 seconds\n",
      "Epoch: 11 | Train Loss: 0.45937 | Valid Loss: 0.56332 | Train Accs: 0.82270 | Valid Accs: 0.78631 | Time: 507.84 seconds\n",
      "Epoch: 12 | Train Loss: 0.42545 | Valid Loss: 0.57281 | Train Accs: 0.82871 | Valid Accs: 0.77933 | Time: 507.48 seconds\n",
      "Epoch: 13 | Train Loss: 0.39093 | Valid Loss: 0.58885 | Train Accs: 0.84824 | Valid Accs: 0.78946 | Time: 507.07 seconds\n",
      "Epoch: 14 | Train Loss: 0.35200 | Valid Loss: 0.62410 | Train Accs: 0.86628 | Valid Accs: 0.79714 | Time: 506.10 seconds\n",
      "\n",
      "Early Stopping at Epoch 15\n",
      "\n",
      "**************************************************\n",
      "\n",
      "Best Validation Loss at Epoch 9\n",
      "\n",
      "**************************************************\n",
      "\n",
      "Best Validation Accs at Epoch 14\n",
      "\n",
      "**************************************************\n",
      "\n",
      "Time Taken [15 Epochs] : 128.40 minutes\n",
      "\n",
      "**************************************************\n",
      "\n"
     ]
    },
    {
     "data": {
      "image/png": "[encoded data removed]",
      "text/plain": [
       "<Figure size 432x288 with 1 Axes>"
      ]
     },
     "metadata": {
      "needs_background": "light"
     },
     "output_type": "display_data"
    },
    {
     "name": "stdout",
     "output_type": "stream",
     "text": [
      "\n",
      "**************************************************\n",
      "\n"
     ]
    },
    {
     "data": {
      "image/png": "[encoded data removed]",
      "text/plain": [
       "<Figure size 432x288 with 1 Axes>"
      ]
     },
     "metadata": {
      "needs_background": "light"
     },
     "output_type": "display_data"
    },
    {
     "name": "stdout",
     "output_type": "stream",
     "text": [
      "\n",
      "**************************************************\n",
      "\n"
     ]
    },
    {
     "data": {
      "image/png": "[encoded data removed]",
      "text/plain": [
       "<Figure size 576x432 with 1 Axes>"
      ]
     },
     "metadata": {
      "needs_background": "light"
     },
     "output_type": "display_data"
    },
    {
     "name": "stdout",
     "output_type": "stream",
     "text": [
      "\n",
      "**************************************************\n",
      "\n"
     ]
    }
   ],
   "source": [
    "fold: int = 1\n",
    "BLs: list = []\n",
    "BAs: list = []\n",
    "    \n",
    "for tr_idx, va_idx in StratifiedKFold(n_splits=cfg.n_splits, random_state=cfg.seed, shuffle=True).split(filepaths, labels):\n",
    "    if fold == 5: break\n",
    "    fold += 1        \n",
    "        \n",
    "tr_filepaths, va_filepaths = filepaths[tr_idx], filepaths[va_idx] \n",
    "tr_labels, va_labels       = labels[tr_idx], labels[va_idx]\n",
    "\n",
    "tr_data_setup = DS(\n",
    "    filepaths=tr_filepaths, \n",
    "    labels=tr_labels.reshape(-1, 1),\n",
    "    size=cfg.size,\n",
    "    transform=cfg.train_transform)\n",
    "\n",
    "va_data_setup = DS(\n",
    "    filepaths=va_filepaths, \n",
    "    labels=va_labels.reshape(-1, 1),\n",
    "    size=cfg.size,\n",
    "    transform=cfg.valid_transform)\n",
    "\n",
    "dataloaders = {\n",
    "    \"train\" : DL(tr_data_setup, batch_size=cfg.batch_size, shuffle=True, generator=torch.manual_seed(cfg.seed)),\n",
    "    \"valid\" : DL(va_data_setup, batch_size=cfg.batch_size, shuffle=False),\n",
    "}\n",
    "\n",
    "cfg = CFG(\n",
    "    size=SIZE,\n",
    "    epochs=25, \n",
    "    batch_size=64, \n",
    "    early_stopping=5,\n",
    "    steps_per_epoch=len(dataloaders[\"train\"])\n",
    ")\n",
    "\n",
    "torch.manual_seed(cfg.seed)\n",
    "model = Model().to(cfg.device)\n",
    "\n",
    "optimizer = optim.Adam([p for p in model.parameters() if p.requires_grad], lr=cfg.lr, weight_decay=cfg.wd)\n",
    "# optimizer = optim.AdamW([p for p in model.parameters() if p.requires_grad], lr=cfg.lr, weight_decay=cfg.wd)\n",
    "# optimizer = optim.SGD([p for p in model.parameters() if p.requires_grad], lr=cfg.lr, weight_decay=cfg.wd, momentum=0.9)\n",
    "\n",
    "scheduler_oclr = optim.lr_scheduler.OneCycleLR(\n",
    "    optimizer=optimizer, \n",
    "    max_lr=cfg.max_lr, \n",
    "    epochs=cfg.epochs, \n",
    "    steps_per_epoch=cfg.steps_per_epoch,\n",
    "    pct_start=cfg.pct_start, \n",
    "    div_factor=cfg.div_factor, \n",
    "    final_div_factor=cfg.final_div_factor\n",
    ")\n",
    "\n",
    "# scheduler_rlrop = optim.lr_scheduler.ReduceLROnPlateau(\n",
    "#     optimizer=optimizer,\n",
    "#     patience=cfg.patience,\n",
    "#     eps=cfg.eps,\n",
    "#     verbose=True\n",
    "# )\n",
    "\n",
    "# scheduler_oclr = None\n",
    "scheduler_rlrop = None\n",
    "\n",
    "L, A, LR, BL, BA, _, _, _, _ = fit(\n",
    "    model=model, \n",
    "    optimizer=optimizer, \n",
    "    scheduler_oclr=scheduler_oclr,\n",
    "    scheduler_rlrop=scheduler_rlrop,\n",
    "    epochs=cfg.epochs, \n",
    "    early_stopping_patience=cfg.early_stopping, \n",
    "    dataloaders=dataloaders, \n",
    "    device=cfg.device,\n",
    "    save_path=cfg.save_path,\n",
    "    fold=fold,\n",
    "    verbose=True\n",
    ")\n",
    "\n",
    "breaker()\n",
    "show_loss_graphs(L)\n",
    "breaker()\n",
    "show_accuracy_graphs(A)\n",
    "breaker()\n",
    "if scheduler_oclr:\n",
    "    show_lr_graph(LR)\n",
    "    breaker()\n",
    "\n",
    "# BLs.append(BL)\n",
    "# BAs.append(BA)"
   ]
  },
  {
   "cell_type": "code",
   "execution_count": 11,
   "id": "43bd0068",
   "metadata": {
    "execution": {
     "iopub.execute_input": "2022-09-26T08:18:48.512064Z",
     "iopub.status.busy": "2022-09-26T08:18:48.511167Z",
     "iopub.status.idle": "2022-09-26T08:18:48.517883Z",
     "shell.execute_reply": "2022-09-26T08:18:48.517016Z"
    },
    "papermill": {
     "duration": 0.016049,
     "end_time": "2022-09-26T08:18:48.519872",
     "exception": false,
     "start_time": "2022-09-26T08:18:48.503823",
     "status": "completed"
    },
    "tags": []
   },
   "outputs": [
    {
     "name": "stdout",
     "output_type": "stream",
     "text": [
      "\n",
      "**************************************************\n",
      "\n",
      "Best Loss      : 0.55111\n",
      "Best Accuracy  : 0.79714\n",
      "\n",
      "**************************************************\n",
      "\n"
     ]
    }
   ],
   "source": [
    "breaker()\n",
    "print(f\"Best Loss      : {BL['valid']:.5f}\")\n",
    "print(f\"Best Accuracy  : {BA['valid']:.5f}\")\n",
    "breaker()"
   ]
  },
  {
   "cell_type": "markdown",
   "id": "ed1732b8",
   "metadata": {
    "papermill": {
     "duration": 0.00596,
     "end_time": "2022-09-26T08:18:48.532081",
     "exception": false,
     "start_time": "2022-09-26T08:18:48.526121",
     "status": "completed"
    },
    "tags": []
   },
   "source": [
    "### **Best Model**"
   ]
  },
  {
   "cell_type": "code",
   "execution_count": 12,
   "id": "5e08b238",
   "metadata": {
    "execution": {
     "iopub.execute_input": "2022-09-26T08:18:48.545857Z",
     "iopub.status.busy": "2022-09-26T08:18:48.545564Z",
     "iopub.status.idle": "2022-09-26T08:18:48.550857Z",
     "shell.execute_reply": "2022-09-26T08:18:48.550008Z"
    },
    "papermill": {
     "duration": 0.014412,
     "end_time": "2022-09-26T08:18:48.552799",
     "exception": false,
     "start_time": "2022-09-26T08:18:48.538387",
     "status": "completed"
    },
    "tags": []
   },
   "outputs": [],
   "source": [
    "# BL = np.inf\n",
    "# for i in range(len(BLs)):\n",
    "#     if BLs[i][\"valid\"] < BL:\n",
    "#         BL = BLs[i][\"valid\"]\n",
    "#         best_loss_index = i\n",
    "\n",
    "        \n",
    "# BA = 0.0\n",
    "# for i in range(len(BAs)):\n",
    "#     if BAs[i][\"valid\"] > BA:\n",
    "#         BA = BAs[i][\"valid\"]\n",
    "#         best_accs_index = i\n",
    "\n",
    "# breaker()\n",
    "# print(f\"Best Loss Model Fold     : {best_loss_index + 1}\")\n",
    "# print(f\"Best Accuracy Model Fold : {best_accs_index + 1}\")\n",
    "# breaker()"
   ]
  },
  {
   "cell_type": "markdown",
   "id": "e3d4ee6d",
   "metadata": {
    "papermill": {
     "duration": 0.006077,
     "end_time": "2022-09-26T08:18:48.565050",
     "exception": false,
     "start_time": "2022-09-26T08:18:48.558973",
     "status": "completed"
    },
    "tags": []
   },
   "source": [
    "### **Submit**"
   ]
  },
  {
   "cell_type": "code",
   "execution_count": 13,
   "id": "3086ca97",
   "metadata": {
    "execution": {
     "iopub.execute_input": "2022-09-26T08:18:48.578389Z",
     "iopub.status.busy": "2022-09-26T08:18:48.578124Z",
     "iopub.status.idle": "2022-09-26T08:18:48.583405Z",
     "shell.execute_reply": "2022-09-26T08:18:48.582569Z"
    },
    "papermill": {
     "duration": 0.014162,
     "end_time": "2022-09-26T08:18:48.585364",
     "exception": false,
     "start_time": "2022-09-26T08:18:48.571202",
     "status": "completed"
    },
    "tags": []
   },
   "outputs": [],
   "source": [
    "# torch.manual_seed(cfg.seed)\n",
    "# model = Model().to(cfg.device)\n",
    "\n",
    "# ss_df = pd.read_csv(\"../input/4-animal-classification/Sample_submission.csv\")\n",
    "# ts_filenames = ss_df[\"ID\"]\n",
    "\n",
    "# ts_data_setup = DS(\n",
    "#     base_path=\"../input/4-animal-classification/test/test\", \n",
    "#     filenames=ts_filenames, \n",
    "#     size=cfg.size,\n",
    "#     transform=cfg.valid_transform,\n",
    "# )\n",
    "# ts_data = DL(ts_data_setup, batch_size=cfg.batch_size, shuffle=False)\n",
    "\n",
    "# y_pred = predict_batch(\n",
    "#     model=model,\n",
    "#     dataloader=ts_data,\n",
    "#     path=\"\",\n",
    "#     device=cfg.device\n",
    "# )\n",
    "\n",
    "# ss_df[\"Label\"] = y_pred.astype(\"uint8\")\n",
    "# ss_df.to_csv(\"submission.csv\", index=False)"
   ]
  }
 ],
 "metadata": {
  "kernelspec": {
   "display_name": "Python 3",
   "language": "python",
   "name": "python3"
  },
  "language_info": {
   "codemirror_mode": {
    "name": "ipython",
    "version": 3
   },
   "file_extension": ".py",
   "mimetype": "text/x-python",
   "name": "python",
   "nbconvert_exporter": "python",
   "pygments_lexer": "ipython3",
   "version": "3.7.12"
  },
  "papermill": {
   "default_parameters": {},
   "duration": 7745.009219,
   "end_time": "2022-09-26T08:18:50.781623",
   "environment_variables": {},
   "exception": null,
   "input_path": "__notebook__.ipynb",
   "output_path": "__notebook__.ipynb",
   "parameters": {},
   "start_time": "2022-09-26T06:09:45.772404",
   "version": "2.3.4"
  }
 },
 "nbformat": 4,
 "nbformat_minor": 5
}
