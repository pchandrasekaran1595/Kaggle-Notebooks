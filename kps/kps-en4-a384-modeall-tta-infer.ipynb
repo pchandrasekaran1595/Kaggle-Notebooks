{
 "cells": [
  {
   "cell_type": "markdown",
   "id": "b2f7bd56",
   "metadata": {
    "_cell_guid": "b1076dfc-b9ad-4769-8c92-a6c4dae69d19",
    "_uuid": "8f2839f25d086af736a60e9eeb907d3b93b6e0e5",
    "papermill": {
     "duration": 0.004644,
     "end_time": "2022-09-28T10:32:36.641984",
     "exception": false,
     "start_time": "2022-09-28T10:32:36.637340",
     "status": "completed"
    },
    "tags": []
   },
   "source": [
    "### **Setup**"
   ]
  },
  {
   "cell_type": "code",
   "execution_count": 1,
   "id": "55de206e",
   "metadata": {
    "execution": {
     "iopub.execute_input": "2022-09-28T10:32:36.651231Z",
     "iopub.status.busy": "2022-09-28T10:32:36.650695Z",
     "iopub.status.idle": "2022-09-28T10:32:47.120837Z",
     "shell.execute_reply": "2022-09-28T10:32:47.119663Z"
    },
    "papermill": {
     "duration": 10.478632,
     "end_time": "2022-09-28T10:32:47.124308",
     "exception": false,
     "start_time": "2022-09-28T10:32:36.645676",
     "status": "completed"
    },
    "tags": []
   },
   "outputs": [
    {
     "name": "stderr",
     "output_type": "stream",
     "text": [
      "WARNING: Running pip as the 'root' user can result in broken permissions and conflicting behaviour with the system package manager. It is recommended to use a virtual environment instead: https://pip.pypa.io/warnings/venv\n"
     ]
    }
   ],
   "source": [
    "%%bash\n",
    "pip install timm -q"
   ]
  },
  {
   "cell_type": "markdown",
   "id": "f2684f82",
   "metadata": {
    "papermill": {
     "duration": 0.006162,
     "end_time": "2022-09-28T10:32:47.136508",
     "exception": false,
     "start_time": "2022-09-28T10:32:47.130346",
     "status": "completed"
    },
    "tags": []
   },
   "source": [
    "### **Library Imports**"
   ]
  },
  {
   "cell_type": "code",
   "execution_count": 2,
   "id": "fc2ff3f1",
   "metadata": {
    "execution": {
     "iopub.execute_input": "2022-09-28T10:32:47.151550Z",
     "iopub.status.busy": "2022-09-28T10:32:47.151066Z",
     "iopub.status.idle": "2022-09-28T10:32:50.952526Z",
     "shell.execute_reply": "2022-09-28T10:32:50.951488Z"
    },
    "papermill": {
     "duration": 3.812362,
     "end_time": "2022-09-28T10:32:50.955179",
     "exception": false,
     "start_time": "2022-09-28T10:32:47.142817",
     "status": "completed"
    },
    "tags": []
   },
   "outputs": [],
   "source": [
    "import os\n",
    "import re\n",
    "import cv2\n",
    "import timm\n",
    "import torch\n",
    "import numpy as np\n",
    "import pandas as pd\n",
    "import matplotlib.pyplot as plt\n",
    "\n",
    "from time import time\n",
    "from scipy import stats\n",
    "from torch import nn, optim\n",
    "from torch.utils.data import Dataset\n",
    "from torch.utils.data import DataLoader as DL\n",
    "from torchvision import models, transforms"
   ]
  },
  {
   "cell_type": "markdown",
   "id": "cb03a6e4",
   "metadata": {
    "papermill": {
     "duration": 0.003528,
     "end_time": "2022-09-28T10:32:50.962723",
     "exception": false,
     "start_time": "2022-09-28T10:32:50.959195",
     "status": "completed"
    },
    "tags": []
   },
   "source": [
    "### **Utilities and Helpers**"
   ]
  },
  {
   "cell_type": "code",
   "execution_count": 3,
   "id": "422b277a",
   "metadata": {
    "execution": {
     "iopub.execute_input": "2022-09-28T10:32:50.972031Z",
     "iopub.status.busy": "2022-09-28T10:32:50.971067Z",
     "iopub.status.idle": "2022-09-28T10:32:50.978800Z",
     "shell.execute_reply": "2022-09-28T10:32:50.977913Z"
    },
    "papermill": {
     "duration": 0.01459,
     "end_time": "2022-09-28T10:32:50.980946",
     "exception": false,
     "start_time": "2022-09-28T10:32:50.966356",
     "status": "completed"
    },
    "tags": []
   },
   "outputs": [],
   "source": [
    "SEED: int = 42\n",
    "SIZE: int = 384\n",
    "\n",
    "LABELS: dict = {\n",
    "    0 : \"pure\",\n",
    "    1 : \"broken\",\n",
    "    2 : \"silkcut\",\n",
    "    3 : \"discolored\",\n",
    "}\n",
    "\n",
    "\n",
    "def breaker(num: int=50, char: str=\"*\") -> None:\n",
    "    print(\"\\n\" + num*char + \"\\n\")\n",
    "\n",
    "    \n",
    "def get_image(path: str, size: int=224) -> np.ndarray:\n",
    "    image = cv2.imread(path, cv2.IMREAD_COLOR)\n",
    "    image = cv2.cvtColor(src=image, code=cv2.COLOR_BGR2RGB)\n",
    "    return cv2.resize(src=image, dsize=(size, size), interpolation=cv2.INTER_AREA)"
   ]
  },
  {
   "cell_type": "markdown",
   "id": "81c36506",
   "metadata": {
    "papermill": {
     "duration": 0.00342,
     "end_time": "2022-09-28T10:32:50.988031",
     "exception": false,
     "start_time": "2022-09-28T10:32:50.984611",
     "status": "completed"
    },
    "tags": []
   },
   "source": [
    "### **Configuration**"
   ]
  },
  {
   "cell_type": "code",
   "execution_count": 4,
   "id": "dd7b3d91",
   "metadata": {
    "execution": {
     "iopub.execute_input": "2022-09-28T10:32:50.996615Z",
     "iopub.status.busy": "2022-09-28T10:32:50.996300Z",
     "iopub.status.idle": "2022-09-28T10:32:51.069212Z",
     "shell.execute_reply": "2022-09-28T10:32:51.068214Z"
    },
    "papermill": {
     "duration": 0.079827,
     "end_time": "2022-09-28T10:32:51.071516",
     "exception": false,
     "start_time": "2022-09-28T10:32:50.991689",
     "status": "completed"
    },
    "tags": []
   },
   "outputs": [],
   "source": [
    "class CFG(object):\n",
    "    def __init__(self, \n",
    "                 seed: int = 42,\n",
    "                 size: int = 224,\n",
    "                 n_splits: int = 5,\n",
    "                 batch_size: int = 16,\n",
    "                 epochs: int = 25,\n",
    "                 early_stopping: int = 5,\n",
    "                 lr: float = 1e-4,\n",
    "                 wd: float = 0.0,\n",
    "                 max_lr: float = 1e-3,\n",
    "                 pct_start: float = 0.2,\n",
    "                 steps_per_epoch: int = 100,\n",
    "                 div_factor: int = 1e3, \n",
    "                 final_div_factor: float = 1e3,\n",
    "                 ):\n",
    "        self.seed = seed\n",
    "        self.size = size\n",
    "        self.n_splits = n_splits\n",
    "        self.batch_size = batch_size\n",
    "        self.epochs = epochs\n",
    "        self.early_stopping = early_stopping\n",
    "        self.lr = lr\n",
    "        self.wd = wd\n",
    "        self.max_lr = max_lr\n",
    "        self.pct_start = pct_start\n",
    "        self.steps_per_epoch = steps_per_epoch\n",
    "        self.div_factor = div_factor\n",
    "        self.final_div_factor = final_div_factor\n",
    "        self.device = torch.device(\"cuda\" if torch.cuda.is_available() else \"cpu\")\n",
    "        self.train_transform = transforms.Compose([\n",
    "            transforms.ToTensor(),\n",
    "            transforms.Normalize([0.81450, 0.79094, 0.69495], [0.06435, 0.10338, 0.20791]),\n",
    "            transforms.RandomAffine(degrees=(-45, 45), translate=(0.15, 0.15), scale=(0.5, 1.5)),\n",
    "            transforms.RandomHorizontalFlip(p=0.25),\n",
    "            transforms.RandomVerticalFlip(p=0.25),\n",
    "        ])\n",
    "        self.valid_transform = transforms.Compose([\n",
    "            transforms.ToTensor(),\n",
    "            transforms.Normalize([0.81450, 0.79094, 0.69495], [0.06435, 0.10338, 0.20791]),\n",
    "        ])\n",
    "                                \n",
    "        self.save_path = \"saves\"\n",
    "        if not os.path.exists(self.save_path): os.makedirs(self.save_path)\n",
    "    \n",
    "cfg = CFG(seed=SEED, size=SIZE)"
   ]
  },
  {
   "cell_type": "markdown",
   "id": "25b0f429",
   "metadata": {
    "papermill": {
     "duration": 0.003776,
     "end_time": "2022-09-28T10:32:51.079350",
     "exception": false,
     "start_time": "2022-09-28T10:32:51.075574",
     "status": "completed"
    },
    "tags": []
   },
   "source": [
    "### **Dataset Template**"
   ]
  },
  {
   "cell_type": "code",
   "execution_count": 5,
   "id": "82f2db55",
   "metadata": {
    "execution": {
     "iopub.execute_input": "2022-09-28T10:32:51.088742Z",
     "iopub.status.busy": "2022-09-28T10:32:51.087794Z",
     "iopub.status.idle": "2022-09-28T10:32:51.095393Z",
     "shell.execute_reply": "2022-09-28T10:32:51.094497Z"
    },
    "papermill": {
     "duration": 0.01463,
     "end_time": "2022-09-28T10:32:51.097708",
     "exception": false,
     "start_time": "2022-09-28T10:32:51.083078",
     "status": "completed"
    },
    "tags": []
   },
   "outputs": [],
   "source": [
    "class DS(Dataset):\n",
    "    def __init__(\n",
    "        self, \n",
    "        base_path: str,\n",
    "        filenames: np.ndarray, \n",
    "        size: int,\n",
    "        transform=None):\n",
    "        \n",
    "        self.base_path = base_path\n",
    "        self.filenames = filenames\n",
    "        self.size = size\n",
    "        self.transform = transform\n",
    "    \n",
    "    def __len__(self):\n",
    "        return self.filenames.shape[0]\n",
    "    \n",
    "    def __getitem__(self, idx):\n",
    "        path = os.path.join(self.base_path, str(self.filenames[idx]) + \".png\")\n",
    "        image = get_image(path, self.size)\n",
    "        return self.transform(image)"
   ]
  },
  {
   "cell_type": "markdown",
   "id": "a99f2863",
   "metadata": {
    "papermill": {
     "duration": 0.00351,
     "end_time": "2022-09-28T10:32:51.105327",
     "exception": false,
     "start_time": "2022-09-28T10:32:51.101817",
     "status": "completed"
    },
    "tags": []
   },
   "source": [
    "### **Model**"
   ]
  },
  {
   "cell_type": "code",
   "execution_count": 6,
   "id": "85de8c86",
   "metadata": {
    "execution": {
     "iopub.execute_input": "2022-09-28T10:32:51.113999Z",
     "iopub.status.busy": "2022-09-28T10:32:51.113667Z",
     "iopub.status.idle": "2022-09-28T10:32:51.120066Z",
     "shell.execute_reply": "2022-09-28T10:32:51.119000Z"
    },
    "papermill": {
     "duration": 0.013174,
     "end_time": "2022-09-28T10:32:51.122175",
     "exception": false,
     "start_time": "2022-09-28T10:32:51.109001",
     "status": "completed"
    },
    "tags": []
   },
   "outputs": [],
   "source": [
    "class Model(nn.Module):\n",
    "    def __init__(self):\n",
    "        super(Model, self).__init__()\n",
    "            \n",
    "        self.model = timm.create_model(model_name=\"efficientnet_b4\", pretrained=False)\n",
    "        self.model.classifier = nn.Linear(in_features=self.model.classifier.in_features, out_features=4)\n",
    "            \n",
    "    def freeze(self):\n",
    "        for params in self.parameters(): params.requires_grad = False\n",
    "\n",
    "    def forward(self, x):\n",
    "        return nn.LogSoftmax(dim=1)(self.model(x))"
   ]
  },
  {
   "cell_type": "markdown",
   "id": "3bfc2305",
   "metadata": {
    "papermill": {
     "duration": 0.003501,
     "end_time": "2022-09-28T10:32:51.129438",
     "exception": false,
     "start_time": "2022-09-28T10:32:51.125937",
     "status": "completed"
    },
    "tags": []
   },
   "source": [
    "### **Predict**"
   ]
  },
  {
   "cell_type": "code",
   "execution_count": 7,
   "id": "8ce78c74",
   "metadata": {
    "execution": {
     "iopub.execute_input": "2022-09-28T10:32:51.137969Z",
     "iopub.status.busy": "2022-09-28T10:32:51.137702Z",
     "iopub.status.idle": "2022-09-28T10:32:51.144288Z",
     "shell.execute_reply": "2022-09-28T10:32:51.143282Z"
    },
    "papermill": {
     "duration": 0.013193,
     "end_time": "2022-09-28T10:32:51.146311",
     "exception": false,
     "start_time": "2022-09-28T10:32:51.133118",
     "status": "completed"
    },
    "tags": []
   },
   "outputs": [],
   "source": [
    "def predict_batch(model=None, dataloader=None, path=None, device=None) -> np.ndarray:\n",
    "    model.load_state_dict(torch.load(path, map_location=device)[\"model_state_dict\"])\n",
    "    model.to(device)    \n",
    "    model.eval()\n",
    "    \n",
    "    y_pred = torch.zeros(1, 1).to(device)\n",
    "    \n",
    "    for X in dataloader:\n",
    "        X = X.to(device)\n",
    "        with torch.no_grad():\n",
    "            output = torch.argmax(torch.exp(model(X)), dim=1)\n",
    "        y_pred = torch.cat((y_pred, output.view(-1, 1)), dim=0)\n",
    "    \n",
    "    return y_pred[1:].detach().cpu().numpy()"
   ]
  },
  {
   "cell_type": "markdown",
   "id": "18dc1a38",
   "metadata": {
    "papermill": {
     "duration": 0.00342,
     "end_time": "2022-09-28T10:32:51.154448",
     "exception": false,
     "start_time": "2022-09-28T10:32:51.151028",
     "status": "completed"
    },
    "tags": []
   },
   "source": [
    "### **Submit**"
   ]
  },
  {
   "cell_type": "code",
   "execution_count": 8,
   "id": "d39b8f96",
   "metadata": {
    "execution": {
     "iopub.execute_input": "2022-09-28T10:32:51.163178Z",
     "iopub.status.busy": "2022-09-28T10:32:51.162827Z",
     "iopub.status.idle": "2022-09-28T10:32:54.514371Z",
     "shell.execute_reply": "2022-09-28T10:32:54.513228Z"
    },
    "papermill": {
     "duration": 3.359253,
     "end_time": "2022-09-28T10:32:54.517322",
     "exception": false,
     "start_time": "2022-09-28T10:32:51.158069",
     "status": "completed"
    },
    "tags": []
   },
   "outputs": [],
   "source": [
    "torch.manual_seed(cfg.seed)\n",
    "model = Model().to(cfg.device)\n",
    "\n",
    "ss_df = pd.read_csv(\"../input/kaggle-pog-series-s01e03/corn/sample_submission.csv\")\n",
    "ts_filenames = ss_df[\"seed_id\"]\n",
    "ts_filenames = np.array([str(ts_filename).zfill(5) for ts_filename in ts_filenames])\n",
    "\n",
    "ts_data_setup = DS(\n",
    "    base_path=\"../input/kaggle-pog-series-s01e03/corn/test\", \n",
    "    filenames=ts_filenames, \n",
    "    size=cfg.size,\n",
    "    transform=cfg.train_transform,\n",
    ")\n",
    "ts_data = DL(ts_data_setup, batch_size=cfg.batch_size, shuffle=False)"
   ]
  },
  {
   "cell_type": "code",
   "execution_count": 9,
   "id": "f369a1af",
   "metadata": {
    "execution": {
     "iopub.execute_input": "2022-09-28T10:32:54.526873Z",
     "iopub.status.busy": "2022-09-28T10:32:54.526002Z",
     "iopub.status.idle": "2022-09-28T10:43:31.040720Z",
     "shell.execute_reply": "2022-09-28T10:43:31.039715Z"
    },
    "papermill": {
     "duration": 636.522201,
     "end_time": "2022-09-28T10:43:31.043398",
     "exception": false,
     "start_time": "2022-09-28T10:32:54.521197",
     "status": "completed"
    },
    "tags": []
   },
   "outputs": [],
   "source": [
    "# Fold 1\n",
    "y_pred_1_l = predict_batch(\n",
    "    model=model,\n",
    "    dataloader=ts_data,\n",
    "    path=\"../input/kps-en4-a384-f1/saves/ble_state_fold_1.pt\",\n",
    "    device=cfg.device\n",
    ").reshape(1, -1)\n",
    "\n",
    "y_pred_1_a = predict_batch(\n",
    "    model=model,\n",
    "    dataloader=ts_data,\n",
    "    path=\"../input/kps-en4-a384-f1/saves/bae_state_fold_1.pt\",\n",
    "    device=cfg.device\n",
    ").reshape(1, -1)\n",
    "\n",
    "\n",
    "# Fold 2\n",
    "y_pred_2_l = predict_batch(\n",
    "    model=model,\n",
    "    dataloader=ts_data,\n",
    "    path=\"../input/kps-en4-a384-f2/saves/ble_state_fold_2.pt\",\n",
    "    device=cfg.device\n",
    ").reshape(1, -1)\n",
    "\n",
    "y_pred_2_a = predict_batch(\n",
    "    model=model,\n",
    "    dataloader=ts_data,\n",
    "    path=\"../input/kps-en4-a384-f2/saves/bae_state_fold_2.pt\",\n",
    "    device=cfg.device\n",
    ").reshape(1, -1)\n",
    "\n",
    "\n",
    "# Fold 3\n",
    "y_pred_3_l = predict_batch(\n",
    "    model=model,\n",
    "    dataloader=ts_data,\n",
    "    path=\"../input/kps-en4-a384-f3/saves/ble_state_fold_3.pt\",\n",
    "    device=cfg.device\n",
    ").reshape(1, -1)\n",
    "\n",
    "y_pred_3_a = predict_batch(\n",
    "    model=model,\n",
    "    dataloader=ts_data,\n",
    "    path=\"../input/kps-en4-a384-f3/saves/bae_state_fold_3.pt\",\n",
    "    device=cfg.device\n",
    ").reshape(1, -1)\n",
    "\n",
    "\n",
    "# Fold 4\n",
    "y_pred_4_l = predict_batch(\n",
    "    model=model,\n",
    "    dataloader=ts_data,\n",
    "    path=\"../input/kps-en4-a384-f4/saves/ble_state_fold_4.pt\",\n",
    "    device=cfg.device\n",
    ").reshape(1, -1)\n",
    "\n",
    "y_pred_4_a = predict_batch(\n",
    "    model=model,\n",
    "    dataloader=ts_data,\n",
    "    path=\"../input/kps-en4-a384-f4/saves/bae_state_fold_4.pt\",\n",
    "    device=cfg.device\n",
    ").reshape(1, -1)\n",
    "\n",
    "\n",
    "# Fold 5\n",
    "y_pred_5_l = predict_batch(\n",
    "    model=model,\n",
    "    dataloader=ts_data,\n",
    "    path=\"../input/kps-en4-a384-f5/saves/ble_state_fold_5.pt\",\n",
    "    device=cfg.device\n",
    ").reshape(1, -1)\n",
    "\n",
    "y_pred_5_a = predict_batch(\n",
    "    model=model,\n",
    "    dataloader=ts_data,\n",
    "    path=\"../input/kps-en4-a384-f5/saves/bae_state_fold_5.pt\",\n",
    "    device=cfg.device\n",
    ").reshape(1, -1)"
   ]
  },
  {
   "cell_type": "code",
   "execution_count": 10,
   "id": "a7601b0b",
   "metadata": {
    "execution": {
     "iopub.execute_input": "2022-09-28T10:43:31.053999Z",
     "iopub.status.busy": "2022-09-28T10:43:31.052346Z",
     "iopub.status.idle": "2022-09-28T10:43:31.150973Z",
     "shell.execute_reply": "2022-09-28T10:43:31.150145Z"
    },
    "papermill": {
     "duration": 0.10552,
     "end_time": "2022-09-28T10:43:31.153121",
     "exception": false,
     "start_time": "2022-09-28T10:43:31.047601",
     "status": "completed"
    },
    "tags": []
   },
   "outputs": [],
   "source": [
    "y_pred = np.concatenate(\n",
    "    (y_pred_1_l,\n",
    "     y_pred_1_a, \n",
    "     y_pred_2_l,\n",
    "     y_pred_2_a,\n",
    "     y_pred_3_l,\n",
    "     y_pred_3_a,\n",
    "     y_pred_4_l,\n",
    "     y_pred_4_a,\n",
    "     y_pred_5_l,\n",
    "     y_pred_5_a,\n",
    "    ), axis=0)\n",
    "y_pred = stats.mode(y_pred)[0]\n",
    "y_pred = list(y_pred.astype(\"uint8\").reshape(-1))\n",
    "y_pred = [LABELS[y_pred[i]] for i in range(len(y_pred))]\n",
    "\n",
    "ss_df[\"label\"] = y_pred\n",
    "ss_df.to_csv(\"submission.csv\", index=False)"
   ]
  }
 ],
 "metadata": {
  "kernelspec": {
   "display_name": "Python 3",
   "language": "python",
   "name": "python3"
  },
  "language_info": {
   "codemirror_mode": {
    "name": "ipython",
    "version": 3
   },
   "file_extension": ".py",
   "mimetype": "text/x-python",
   "name": "python",
   "nbconvert_exporter": "python",
   "pygments_lexer": "ipython3",
   "version": "3.7.12"
  },
  "papermill": {
   "default_parameters": {},
   "duration": 664.558676,
   "end_time": "2022-09-28T10:43:33.515955",
   "environment_variables": {},
   "exception": null,
   "input_path": "__notebook__.ipynb",
   "output_path": "__notebook__.ipynb",
   "parameters": {},
   "start_time": "2022-09-28T10:32:28.957279",
   "version": "2.3.4"
  }
 },
 "nbformat": 4,
 "nbformat_minor": 5
}
