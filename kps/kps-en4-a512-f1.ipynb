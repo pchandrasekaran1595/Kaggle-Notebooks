{
 "cells": [
  {
   "cell_type": "markdown",
   "id": "ab474b3a",
   "metadata": {
    "_cell_guid": "b1076dfc-b9ad-4769-8c92-a6c4dae69d19",
    "_uuid": "8f2839f25d086af736a60e9eeb907d3b93b6e0e5",
    "papermill": {
     "duration": 0.005846,
     "end_time": "2022-10-02T05:14:57.549507",
     "exception": false,
     "start_time": "2022-10-02T05:14:57.543661",
     "status": "completed"
    },
    "tags": []
   },
   "source": [
    "### **Setup**"
   ]
  },
  {
   "cell_type": "code",
   "execution_count": 1,
   "id": "b97442d5",
   "metadata": {
    "execution": {
     "iopub.execute_input": "2022-10-02T05:14:57.561414Z",
     "iopub.status.busy": "2022-10-02T05:14:57.560533Z",
     "iopub.status.idle": "2022-10-02T05:15:09.281102Z",
     "shell.execute_reply": "2022-10-02T05:15:09.279330Z"
    },
    "papermill": {
     "duration": 11.729232,
     "end_time": "2022-10-02T05:15:09.283512",
     "exception": false,
     "start_time": "2022-10-02T05:14:57.554280",
     "status": "completed"
    },
    "tags": []
   },
   "outputs": [
    {
     "name": "stderr",
     "output_type": "stream",
     "text": [
      "WARNING: Running pip as the 'root' user can result in broken permissions and conflicting behaviour with the system package manager. It is recommended to use a virtual environment instead: https://pip.pypa.io/warnings/venv\n"
     ]
    }
   ],
   "source": [
    "%%bash\n",
    "pip install timm -q"
   ]
  },
  {
   "cell_type": "markdown",
   "id": "c51b8fdc",
   "metadata": {
    "papermill": {
     "duration": 0.004277,
     "end_time": "2022-10-02T05:15:09.292757",
     "exception": false,
     "start_time": "2022-10-02T05:15:09.288480",
     "status": "completed"
    },
    "tags": []
   },
   "source": [
    "### **Library Imports**"
   ]
  },
  {
   "cell_type": "code",
   "execution_count": 2,
   "id": "4b929b5f",
   "metadata": {
    "execution": {
     "iopub.execute_input": "2022-10-02T05:15:09.303327Z",
     "iopub.status.busy": "2022-10-02T05:15:09.302983Z",
     "iopub.status.idle": "2022-10-02T05:15:13.359315Z",
     "shell.execute_reply": "2022-10-02T05:15:13.358160Z"
    },
    "papermill": {
     "duration": 4.065123,
     "end_time": "2022-10-02T05:15:13.362317",
     "exception": false,
     "start_time": "2022-10-02T05:15:09.297194",
     "status": "completed"
    },
    "tags": []
   },
   "outputs": [],
   "source": [
    "import os\n",
    "import re\n",
    "import cv2\n",
    "import timm\n",
    "import torch\n",
    "import numpy as np\n",
    "import pandas as pd\n",
    "import matplotlib.pyplot as plt\n",
    "\n",
    "from time import time\n",
    "from torch import nn, optim\n",
    "from torch.utils.data import Dataset\n",
    "from torch.utils.data import DataLoader as DL\n",
    "from torchvision import models, transforms\n",
    "\n",
    "from sklearn.model_selection import StratifiedKFold"
   ]
  },
  {
   "cell_type": "markdown",
   "id": "a9a68577",
   "metadata": {
    "papermill": {
     "duration": 0.00492,
     "end_time": "2022-10-02T05:15:13.372496",
     "exception": false,
     "start_time": "2022-10-02T05:15:13.367576",
     "status": "completed"
    },
    "tags": []
   },
   "source": [
    "### **Utilities and Helpers**"
   ]
  },
  {
   "cell_type": "code",
   "execution_count": 3,
   "id": "ad3166db",
   "metadata": {
    "execution": {
     "iopub.execute_input": "2022-10-02T05:15:13.384442Z",
     "iopub.status.busy": "2022-10-02T05:15:13.383774Z",
     "iopub.status.idle": "2022-10-02T05:15:13.397307Z",
     "shell.execute_reply": "2022-10-02T05:15:13.396193Z"
    },
    "papermill": {
     "duration": 0.022632,
     "end_time": "2022-10-02T05:15:13.400063",
     "exception": false,
     "start_time": "2022-10-02T05:15:13.377431",
     "status": "completed"
    },
    "tags": []
   },
   "outputs": [],
   "source": [
    "SEED: int = 42\n",
    "SIZE: int = 512\n",
    "\n",
    "\n",
    "def breaker(num: int=50, char: str=\"*\") -> None:\n",
    "    print(\"\\n\" + num*char + \"\\n\")\n",
    "\n",
    "    \n",
    "def get_image(path: str, size: int=224) -> np.ndarray:\n",
    "    image = cv2.imread(path, cv2.IMREAD_COLOR)\n",
    "    image = cv2.cvtColor(src=image, code=cv2.COLOR_BGR2RGB)\n",
    "    return cv2.resize(src=image, dsize=(size, size), interpolation=cv2.INTER_AREA)\n",
    "\n",
    "\n",
    "def show_loss_graphs(L: list) -> None:\n",
    "    TL, VL = [], []\n",
    "    for i in range(len(L)):\n",
    "        TL.append(L[i][\"train\"])\n",
    "        VL.append(L[i][\"valid\"])\n",
    "    x_Axis = np.arange(1, len(TL) + 1)\n",
    "    plt.figure()\n",
    "    plt.plot(x_Axis, TL, \"r\", label=\"Train\")\n",
    "    plt.plot(x_Axis, VL, \"b\", label=\"Valid\")\n",
    "    plt.legend()\n",
    "    plt.grid()\n",
    "    plt.title(\"Loss Graph\")\n",
    "    plt.show()\n",
    "\n",
    "    \n",
    "def show_accuracy_graphs(A: list) -> None:\n",
    "    TA, VA = [], []\n",
    "    for i in range(len(A)):\n",
    "        TA.append(A[i][\"train\"])\n",
    "        VA.append(A[i][\"valid\"])\n",
    "    x_Axis = np.arange(1, len(TA) + 1)\n",
    "    plt.figure()\n",
    "    plt.plot(x_Axis, TA, \"r\", label=\"Train\")\n",
    "    plt.plot(x_Axis, VA, \"b\", label=\"Valid\")\n",
    "    plt.legend()\n",
    "    plt.grid()\n",
    "    plt.title(\"Accuracy Graph\")\n",
    "    plt.show()\n",
    "    \n",
    "\n",
    "def show_lr_graph(LR: list) -> None:\n",
    "    x_Axis = [i+1 for i in range(len(LR))]\n",
    "    plt.figure(figsize=(8, 6))\n",
    "    plt.plot(x_Axis, LR, \"rx\")\n",
    "    plt.grid()\n",
    "    plt.show()"
   ]
  },
  {
   "cell_type": "markdown",
   "id": "c759949d",
   "metadata": {
    "papermill": {
     "duration": 0.004576,
     "end_time": "2022-10-02T05:15:13.409724",
     "exception": false,
     "start_time": "2022-10-02T05:15:13.405148",
     "status": "completed"
    },
    "tags": []
   },
   "source": [
    "### **Configuration**"
   ]
  },
  {
   "cell_type": "code",
   "execution_count": 4,
   "id": "5f3d5f97",
   "metadata": {
    "execution": {
     "iopub.execute_input": "2022-10-02T05:15:13.420736Z",
     "iopub.status.busy": "2022-10-02T05:15:13.420291Z",
     "iopub.status.idle": "2022-10-02T05:15:13.494526Z",
     "shell.execute_reply": "2022-10-02T05:15:13.493310Z"
    },
    "papermill": {
     "duration": 0.082359,
     "end_time": "2022-10-02T05:15:13.496697",
     "exception": false,
     "start_time": "2022-10-02T05:15:13.414338",
     "status": "completed"
    },
    "tags": []
   },
   "outputs": [],
   "source": [
    "class CFG(object):\n",
    "    def __init__(self, \n",
    "                 seed: int = 42,\n",
    "                 size: int = 224,\n",
    "                 n_splits: int = 5,\n",
    "                 batch_size: int = 8,\n",
    "                 epochs: int = 25,\n",
    "                 early_stopping: int = 5,\n",
    "                 lr: float = 1e-4,\n",
    "                 wd: float = 0.0,\n",
    "                 max_lr: float = 1e-3,\n",
    "                 pct_start: float = 0.2,\n",
    "                 steps_per_epoch: int = 100,\n",
    "                 div_factor: int = 1e3, \n",
    "                 final_div_factor: float = 1e3,\n",
    "                 ):\n",
    "        self.seed = seed\n",
    "        self.size = size\n",
    "        self.n_splits = n_splits\n",
    "        self.batch_size = batch_size\n",
    "        self.epochs = epochs\n",
    "        self.early_stopping = early_stopping\n",
    "        self.lr = lr\n",
    "        self.wd = wd\n",
    "        self.max_lr = max_lr\n",
    "        self.pct_start = pct_start\n",
    "        self.steps_per_epoch = steps_per_epoch\n",
    "        self.div_factor = div_factor\n",
    "        self.final_div_factor = final_div_factor\n",
    "        self.device = torch.device(\"cuda\" if torch.cuda.is_available() else \"cpu\")\n",
    "        self.train_transform = transforms.Compose([\n",
    "            transforms.ToTensor(),\n",
    "            transforms.Normalize([0.81453, 0.79097, 0.69499], [0.06438, 0.10340, 0.20793]),\n",
    "            transforms.RandomAffine(degrees=(-45, 45), translate=(0.15, 0.15), scale=(0.5, 1.5)),\n",
    "            transforms.RandomHorizontalFlip(p=0.25),\n",
    "            transforms.RandomVerticalFlip(p=0.25),\n",
    "        ])\n",
    "        self.valid_transform = transforms.Compose([\n",
    "            transforms.ToTensor(),\n",
    "            transforms.Normalize([0.81453, 0.79097, 0.69499], [0.06438, 0.10340, 0.20793]),\n",
    "        ])\n",
    "                                \n",
    "        self.save_path = \"saves\"\n",
    "        if not os.path.exists(self.save_path): os.makedirs(self.save_path)\n",
    "    \n",
    "cfg = CFG(seed=SEED, size=SIZE)"
   ]
  },
  {
   "cell_type": "markdown",
   "id": "fa59c684",
   "metadata": {
    "papermill": {
     "duration": 0.004637,
     "end_time": "2022-10-02T05:15:13.506223",
     "exception": false,
     "start_time": "2022-10-02T05:15:13.501586",
     "status": "completed"
    },
    "tags": []
   },
   "source": [
    "### **Dataset Template**"
   ]
  },
  {
   "cell_type": "code",
   "execution_count": 5,
   "id": "3643fd8f",
   "metadata": {
    "execution": {
     "iopub.execute_input": "2022-10-02T05:15:13.517815Z",
     "iopub.status.busy": "2022-10-02T05:15:13.516893Z",
     "iopub.status.idle": "2022-10-02T05:15:13.523762Z",
     "shell.execute_reply": "2022-10-02T05:15:13.522760Z"
    },
    "papermill": {
     "duration": 0.015254,
     "end_time": "2022-10-02T05:15:13.526082",
     "exception": false,
     "start_time": "2022-10-02T05:15:13.510828",
     "status": "completed"
    },
    "tags": []
   },
   "outputs": [],
   "source": [
    "class DS(Dataset):\n",
    "    def __init__(\n",
    "        self, \n",
    "        filepaths: np.ndarray, \n",
    "        labels: np.ndarray, \n",
    "        size: int,\n",
    "        transform=None):\n",
    "        \n",
    "        self.filepaths = filepaths\n",
    "        self.labels = labels\n",
    "        self.size = size\n",
    "        self.transform = transform\n",
    "    \n",
    "    def __len__(self):\n",
    "        return self.filepaths.shape[0]\n",
    "    \n",
    "    def __getitem__(self, idx):\n",
    "        image = get_image(self.filepaths[idx], self.size)\n",
    "        return self.transform(image), torch.LongTensor(self.labels[idx])"
   ]
  },
  {
   "cell_type": "code",
   "execution_count": 6,
   "id": "5ffd626e",
   "metadata": {
    "execution": {
     "iopub.execute_input": "2022-10-02T05:15:13.537928Z",
     "iopub.status.busy": "2022-10-02T05:15:13.537008Z",
     "iopub.status.idle": "2022-10-02T05:15:13.542066Z",
     "shell.execute_reply": "2022-10-02T05:15:13.541052Z"
    },
    "papermill": {
     "duration": 0.013187,
     "end_time": "2022-10-02T05:15:13.544219",
     "exception": false,
     "start_time": "2022-10-02T05:15:13.531032",
     "status": "completed"
    },
    "tags": []
   },
   "outputs": [],
   "source": [
    "# class DS(Dataset):\n",
    "#     def __init__(\n",
    "#         self, \n",
    "#         base_path: str,\n",
    "#         filenames: np.ndarray, \n",
    "#         size: int,\n",
    "#         transform=None):\n",
    "        \n",
    "#         self.base_path = base_path\n",
    "#         self.filenames = filenames\n",
    "#         self.size = size\n",
    "#         self.transform = transform\n",
    "    \n",
    "#     def __len__(self):\n",
    "#         return self.filenames.shape[0]\n",
    "    \n",
    "#     def __getitem__(self, idx):\n",
    "#         path = os.path.join(self.base_path, str(self.filenames[idx]) + \".png\")\n",
    "#         image = get_image(path, self.size)\n",
    "#         return self.transform(image)"
   ]
  },
  {
   "cell_type": "markdown",
   "id": "360a2a03",
   "metadata": {
    "papermill": {
     "duration": 0.004469,
     "end_time": "2022-10-02T05:15:13.554479",
     "exception": false,
     "start_time": "2022-10-02T05:15:13.550010",
     "status": "completed"
    },
    "tags": []
   },
   "source": [
    "### **Model**"
   ]
  },
  {
   "cell_type": "code",
   "execution_count": 7,
   "id": "483e9687",
   "metadata": {
    "execution": {
     "iopub.execute_input": "2022-10-02T05:15:13.566156Z",
     "iopub.status.busy": "2022-10-02T05:15:13.565124Z",
     "iopub.status.idle": "2022-10-02T05:15:13.572313Z",
     "shell.execute_reply": "2022-10-02T05:15:13.571440Z"
    },
    "papermill": {
     "duration": 0.015325,
     "end_time": "2022-10-02T05:15:13.574462",
     "exception": false,
     "start_time": "2022-10-02T05:15:13.559137",
     "status": "completed"
    },
    "tags": []
   },
   "outputs": [],
   "source": [
    "class Model(nn.Module):\n",
    "    def __init__(self):\n",
    "        super(Model, self).__init__()\n",
    "            \n",
    "        self.model = timm.create_model(model_name=\"efficientnet_b4\", pretrained=True)\n",
    "        self.model.classifier = nn.Linear(in_features=self.model.classifier.in_features, out_features=4)\n",
    "            \n",
    "    def freeze(self):\n",
    "        for params in self.parameters(): params.requires_grad = False\n",
    "\n",
    "    def forward(self, x):\n",
    "        return nn.LogSoftmax(dim=1)(self.model(x))"
   ]
  },
  {
   "cell_type": "markdown",
   "id": "4778a236",
   "metadata": {
    "papermill": {
     "duration": 0.004642,
     "end_time": "2022-10-02T05:15:13.583869",
     "exception": false,
     "start_time": "2022-10-02T05:15:13.579227",
     "status": "completed"
    },
    "tags": []
   },
   "source": [
    "### **Fit and Predict**"
   ]
  },
  {
   "cell_type": "code",
   "execution_count": 8,
   "id": "6a6a744f",
   "metadata": {
    "execution": {
     "iopub.execute_input": "2022-10-02T05:15:13.595478Z",
     "iopub.status.busy": "2022-10-02T05:15:13.595130Z",
     "iopub.status.idle": "2022-10-02T05:15:13.616976Z",
     "shell.execute_reply": "2022-10-02T05:15:13.615921Z"
    },
    "papermill": {
     "duration": 0.030302,
     "end_time": "2022-10-02T05:15:13.618933",
     "exception": false,
     "start_time": "2022-10-02T05:15:13.588631",
     "status": "completed"
    },
    "tags": []
   },
   "outputs": [],
   "source": [
    "def fit(model=None,\n",
    "        optimizer=None, \n",
    "        scheduler_rlrop=None,\n",
    "        scheduler_oclr=None,\n",
    "        epochs=None, \n",
    "        early_stopping_patience=None, \n",
    "        dataloaders=None, \n",
    "        fold=None, \n",
    "        save_path=None,\n",
    "        device=None,\n",
    "        verbose=False) -> tuple:\n",
    "    \n",
    "    def get_accuracy(y_pred, y_true):\n",
    "        y_pred = torch.argmax(y_pred, dim=1)\n",
    "        return torch.count_nonzero(y_pred == y_true).item() / len(y_pred)\n",
    "    \n",
    "    if verbose:\n",
    "        breaker()\n",
    "        if fold: print(f\"Training Fold {fold}...\")\n",
    "        else: print(\"Training ...\")\n",
    "        breaker()\n",
    "        \n",
    "    bestLoss: dict = {\"train\" : np.inf, \"valid\" : np.inf} \n",
    "    bestAccs: dict = {\"train\" : 0.0, \"valid\" : 0.0}\n",
    "        \n",
    "    Losses: list = []\n",
    "    Accuracies: list = [] \n",
    "    LRs: list = []\n",
    "        \n",
    "    if fold: \n",
    "        ble_name = f\"ble_state_fold_{fold}.pt\"\n",
    "        bae_name = f\"bae_state_fold_{fold}.pt\"\n",
    "    else: \n",
    "        ble_name = f\"ble_state.pt\"\n",
    "        bae_name = f\"bae_state.pt\"\n",
    "    \n",
    "    start_time = time()\n",
    "    for e in range(epochs):\n",
    "        e_st = time()\n",
    "        epochLoss: dict = {\"train\" : 0.0, \"valid\" : 0.0} \n",
    "        epochAccs: dict = {\"train\" : 0.0, \"valid\" : 0.0}\n",
    "\n",
    "        for phase in [\"train\", \"valid\"]:\n",
    "            if phase == \"train\":\n",
    "                model.train()\n",
    "            else:\n",
    "                model.eval()\n",
    "            \n",
    "            lossPerPass: list = []\n",
    "            accsPerPass: list = []\n",
    "                \n",
    "            for X, y in dataloaders[phase]:\n",
    "                X, y = X.to(device), y.to(device).view(-1)\n",
    "\n",
    "                optimizer.zero_grad()\n",
    "                with torch.set_grad_enabled(phase == \"train\"):\n",
    "                    output = model(X)\n",
    "                    loss = torch.nn.NLLLoss()(output, y)\n",
    "                    if phase == \"train\":\n",
    "                        loss.backward()\n",
    "                        optimizer.step()\n",
    "                        if scheduler_oclr: scheduler_oclr.step()\n",
    "                lossPerPass.append(loss.item())\n",
    "                accsPerPass.append(get_accuracy(output, y))\n",
    "            epochLoss[phase] = np.mean(np.array(lossPerPass))\n",
    "            epochAccs[phase] = np.mean(np.array(accsPerPass))\n",
    "        if scheduler_oclr: LRs.append(scheduler_oclr.get_last_lr())\n",
    "        Losses.append(epochLoss)\n",
    "        Accuracies.append(epochAccs)\n",
    "    \n",
    "        if scheduler_oclr:\n",
    "            save_dict = {\"model_state_dict\"     : model.state_dict(),\n",
    "                         \"optim_state_dict\"     : optimizer.state_dict(),\n",
    "                         \"scheduler_state_dict\" : scheduler_oclr.state_dict()}\n",
    "        \n",
    "        elif scheduler_rlrop:\n",
    "            save_dict = {\"model_state_dict\"     : model.state_dict(),\n",
    "                         \"optim_state_dict\"     : optimizer.state_dict(),\n",
    "                         \"scheduler_state_dict\" : scheduler_rlrop.state_dict()}\n",
    "        \n",
    "        else:\n",
    "            save_dict = {\"model_state_dict\"     : model.state_dict(),\n",
    "                         \"optim_state_dict\"     : optimizer.state_dict()}\n",
    "        \n",
    "        \n",
    "        if early_stopping_patience:\n",
    "            if epochLoss[\"valid\"] < bestLoss[\"valid\"]:\n",
    "                bestLoss = epochLoss\n",
    "                BLE = e + 1\n",
    "                torch.save(save_dict, os.path.join(save_path, ble_name))\n",
    "                torch.save(save_dict, os.path.join(save_path, bae_name))\n",
    "                early_stopping_step = 0\n",
    "            else:\n",
    "                early_stopping_step += 1\n",
    "                if early_stopping_step > early_stopping_patience:\n",
    "                    print(\"\\nEarly Stopping at Epoch {}\".format(e + 1))\n",
    "                    break\n",
    "        \n",
    "        if epochLoss[\"valid\"] < bestLoss[\"valid\"]:\n",
    "            bestLoss = epochLoss\n",
    "            BLE = e + 1\n",
    "            torch.save(save_dict,os.path.join(save_path, ble_name))\n",
    "        \n",
    "        if epochAccs[\"valid\"] > bestAccs[\"valid\"]:\n",
    "            bestAccs = epochAccs\n",
    "            BAE = e + 1\n",
    "            torch.save(save_dict,os.path.join(save_path, bae_name))\n",
    "        \n",
    "        if scheduler_rlrop: scheduler_rlrop.step(epochLoss[\"valid\"])\n",
    "        \n",
    "        if verbose:\n",
    "            print(\"Epoch: {} | Train Loss: {:.5f} | Valid Loss: {:.5f} |\\\n",
    " Train Accs: {:.5f} | Valid Accs: {:.5f} | Time: {:.2f} seconds\".format(e+1, \n",
    "                                                                        epochLoss[\"train\"], epochLoss[\"valid\"], \n",
    "                                                                        epochAccs[\"train\"], epochAccs[\"valid\"], \n",
    "                                                                        time()-e_st))\n",
    "\n",
    "    if verbose:                                           \n",
    "        breaker()\n",
    "        print(f\"Best Validation Loss at Epoch {BLE}\")\n",
    "        breaker()\n",
    "        print(f\"Best Validation Accs at Epoch {BAE}\")\n",
    "        breaker()\n",
    "        print(\"Time Taken [{} Epochs] : {:.2f} minutes\".format(len(Losses), (time()-start_time)/60))\n",
    "    \n",
    "    return Losses, Accuracies, LRs, bestLoss, bestAccs, BLE, BAE, ble_name, bae_name\n",
    "\n",
    "\n",
    "# def predict_batch(model=None, dataloader=None, path=None, device=None) -> np.ndarray:\n",
    "#     model.load_state_dict(torch.load(path, map_location=device)[\"model_state_dict\"])\n",
    "#     model.to(device)    \n",
    "#     model.eval()\n",
    "    \n",
    "#     y_pred = torch.zeros(1, 1).to(device)\n",
    "    \n",
    "#     for X in dataloader:\n",
    "#         X = X.to(device)\n",
    "#         with torch.no_grad():\n",
    "#             output = torch.argmax(torch.exp(model(X)), dim=1)\n",
    "#         y_pred = torch.cat((y_pred, output.view(-1, 1)), dim=0)\n",
    "    \n",
    "#     return y_pred[1:].detach().cpu().numpy()"
   ]
  },
  {
   "cell_type": "markdown",
   "id": "4a969688",
   "metadata": {
    "papermill": {
     "duration": 0.004363,
     "end_time": "2022-10-02T05:15:13.628118",
     "exception": false,
     "start_time": "2022-10-02T05:15:13.623755",
     "status": "completed"
    },
    "tags": []
   },
   "source": [
    "### **Train**"
   ]
  },
  {
   "cell_type": "code",
   "execution_count": 9,
   "id": "fb206370",
   "metadata": {
    "execution": {
     "iopub.execute_input": "2022-10-02T05:15:13.639861Z",
     "iopub.status.busy": "2022-10-02T05:15:13.638237Z",
     "iopub.status.idle": "2022-10-02T05:15:13.768155Z",
     "shell.execute_reply": "2022-10-02T05:15:13.767000Z"
    },
    "papermill": {
     "duration": 0.138367,
     "end_time": "2022-10-02T05:15:13.771024",
     "exception": false,
     "start_time": "2022-10-02T05:15:13.632657",
     "status": "completed"
    },
    "tags": []
   },
   "outputs": [],
   "source": [
    "df = pd.read_csv(\"../input/kps-dataframe/dataframe.csv\")\n",
    "\n",
    "filepaths = df.filepaths.copy().values\n",
    "labels = df.label_index.copy().values"
   ]
  },
  {
   "cell_type": "code",
   "execution_count": 10,
   "id": "49951ec2",
   "metadata": {
    "execution": {
     "iopub.execute_input": "2022-10-02T05:15:13.784571Z",
     "iopub.status.busy": "2022-10-02T05:15:13.782823Z",
     "iopub.status.idle": "2022-10-02T09:45:34.026994Z",
     "shell.execute_reply": "2022-10-02T09:45:34.025835Z"
    },
    "papermill": {
     "duration": 16220.25259,
     "end_time": "2022-10-02T09:45:34.029047",
     "exception": false,
     "start_time": "2022-10-02T05:15:13.776457",
     "status": "completed"
    },
    "tags": []
   },
   "outputs": [
    {
     "name": "stderr",
     "output_type": "stream",
     "text": [
      "Downloading: \"https://github.com/rwightman/pytorch-image-models/releases/download/v0.1-weights/efficientnet_b4_ra2_320-7eb33cd5.pth\" to /root/.cache/torch/hub/checkpoints/efficientnet_b4_ra2_320-7eb33cd5.pth\n"
     ]
    },
    {
     "name": "stdout",
     "output_type": "stream",
     "text": [
      "\n",
      "**************************************************\n",
      "\n",
      "Training Fold 1...\n",
      "\n",
      "**************************************************\n",
      "\n",
      "Epoch: 1 | Train Loss: 1.18940 | Valid Loss: 0.83622 | Train Accs: 0.46964 | Valid Accs: 0.68001 | Time: 1009.06 seconds\n",
      "Epoch: 2 | Train Loss: 0.79945 | Valid Loss: 0.67928 | Train Accs: 0.67315 | Valid Accs: 0.73503 | Time: 909.96 seconds\n",
      "Epoch: 3 | Train Loss: 0.69131 | Valid Loss: 0.72978 | Train Accs: 0.72165 | Valid Accs: 0.72876 | Time: 909.68 seconds\n",
      "Epoch: 4 | Train Loss: 0.68073 | Valid Loss: 0.60793 | Train Accs: 0.72811 | Valid Accs: 0.74826 | Time: 901.05 seconds\n",
      "Epoch: 5 | Train Loss: 0.66564 | Valid Loss: 0.66886 | Train Accs: 0.73718 | Valid Accs: 0.73294 | Time: 887.12 seconds\n",
      "Epoch: 6 | Train Loss: 0.63527 | Valid Loss: 0.58841 | Train Accs: 0.74974 | Valid Accs: 0.76149 | Time: 884.01 seconds\n",
      "Epoch: 7 | Train Loss: 0.61497 | Valid Loss: 0.66891 | Train Accs: 0.75611 | Valid Accs: 0.74582 | Time: 893.18 seconds\n",
      "Epoch: 8 | Train Loss: 0.59335 | Valid Loss: 0.57562 | Train Accs: 0.76317 | Valid Accs: 0.77054 | Time: 890.51 seconds\n",
      "Epoch: 9 | Train Loss: 0.56251 | Valid Loss: 0.57353 | Train Accs: 0.77442 | Valid Accs: 0.76776 | Time: 894.63 seconds\n",
      "Epoch: 10 | Train Loss: 0.54266 | Valid Loss: 0.60744 | Train Accs: 0.78341 | Valid Accs: 0.76219 | Time: 895.26 seconds\n",
      "Epoch: 11 | Train Loss: 0.52276 | Valid Loss: 0.59833 | Train Accs: 0.79518 | Valid Accs: 0.77368 | Time: 894.67 seconds\n",
      "Epoch: 12 | Train Loss: 0.50064 | Valid Loss: 0.57301 | Train Accs: 0.80400 | Valid Accs: 0.77228 | Time: 887.99 seconds\n",
      "Epoch: 13 | Train Loss: 0.47159 | Valid Loss: 0.58975 | Train Accs: 0.81237 | Valid Accs: 0.78482 | Time: 888.48 seconds\n",
      "Epoch: 14 | Train Loss: 0.44259 | Valid Loss: 0.59223 | Train Accs: 0.82563 | Valid Accs: 0.78343 | Time: 892.33 seconds\n",
      "Epoch: 15 | Train Loss: 0.41609 | Valid Loss: 0.61394 | Train Accs: 0.83906 | Valid Accs: 0.77368 | Time: 901.70 seconds\n",
      "Epoch: 16 | Train Loss: 0.37882 | Valid Loss: 0.58112 | Train Accs: 0.85223 | Valid Accs: 0.78308 | Time: 896.28 seconds\n",
      "Epoch: 17 | Train Loss: 0.34233 | Valid Loss: 0.61650 | Train Accs: 0.86654 | Valid Accs: 0.79004 | Time: 887.71 seconds\n",
      "\n",
      "Early Stopping at Epoch 18\n",
      "\n",
      "**************************************************\n",
      "\n",
      "Best Validation Loss at Epoch 12\n",
      "\n",
      "**************************************************\n",
      "\n",
      "Best Validation Accs at Epoch 17\n",
      "\n",
      "**************************************************\n",
      "\n",
      "Time Taken [18 Epochs] : 270.20 minutes\n",
      "\n",
      "**************************************************\n",
      "\n"
     ]
    },
    {
     "data": {
      "image/png": "[encoded data removed]",
      "text/plain": [
       "<Figure size 432x288 with 1 Axes>"
      ]
     },
     "metadata": {
      "needs_background": "light"
     },
     "output_type": "display_data"
    },
    {
     "name": "stdout",
     "output_type": "stream",
     "text": [
      "\n",
      "**************************************************\n",
      "\n"
     ]
    },
    {
     "data": {
      "image/png": "[encoded data removed]",
      "text/plain": [
       "<Figure size 432x288 with 1 Axes>"
      ]
     },
     "metadata": {
      "needs_background": "light"
     },
     "output_type": "display_data"
    },
    {
     "name": "stdout",
     "output_type": "stream",
     "text": [
      "\n",
      "**************************************************\n",
      "\n"
     ]
    },
    {
     "data": {
      "image/png": "[encoded data removed]",
      "text/plain": [
       "<Figure size 576x432 with 1 Axes>"
      ]
     },
     "metadata": {
      "needs_background": "light"
     },
     "output_type": "display_data"
    },
    {
     "name": "stdout",
     "output_type": "stream",
     "text": [
      "\n",
      "**************************************************\n",
      "\n"
     ]
    }
   ],
   "source": [
    "fold: int = 1\n",
    "BLs: list = []\n",
    "BAs: list = []\n",
    "    \n",
    "for tr_idx, va_idx in StratifiedKFold(n_splits=cfg.n_splits, random_state=cfg.seed, shuffle=True).split(filepaths, labels):\n",
    "    if fold == 1: break\n",
    "    fold += 1        \n",
    "        \n",
    "tr_filepaths, va_filepaths = filepaths[tr_idx], filepaths[va_idx] \n",
    "tr_labels, va_labels       = labels[tr_idx], labels[va_idx]\n",
    "\n",
    "tr_data_setup = DS(\n",
    "    filepaths=tr_filepaths, \n",
    "    labels=tr_labels.reshape(-1, 1),\n",
    "    size=cfg.size,\n",
    "    transform=cfg.train_transform)\n",
    "\n",
    "va_data_setup = DS(\n",
    "    filepaths=va_filepaths, \n",
    "    labels=va_labels.reshape(-1, 1),\n",
    "    size=cfg.size,\n",
    "    transform=cfg.valid_transform)\n",
    "\n",
    "dataloaders = {\n",
    "    \"train\" : DL(tr_data_setup, batch_size=cfg.batch_size, shuffle=True, generator=torch.manual_seed(cfg.seed)),\n",
    "    \"valid\" : DL(va_data_setup, batch_size=cfg.batch_size, shuffle=False),\n",
    "}\n",
    "\n",
    "cfg = CFG(\n",
    "    size=SIZE,\n",
    "    epochs=25, \n",
    "    early_stopping=5,\n",
    "    steps_per_epoch=len(dataloaders[\"train\"])\n",
    ")\n",
    "\n",
    "torch.manual_seed(cfg.seed)\n",
    "model = Model().to(cfg.device)\n",
    "\n",
    "optimizer = optim.Adam([p for p in model.parameters() if p.requires_grad], lr=cfg.lr, weight_decay=cfg.wd)\n",
    "# optimizer = optim.AdamW([p for p in model.parameters() if p.requires_grad], lr=cfg.lr, weight_decay=cfg.wd)\n",
    "# optimizer = optim.SGD([p for p in model.parameters() if p.requires_grad], lr=cfg.lr, weight_decay=cfg.wd, momentum=0.9)\n",
    "\n",
    "scheduler_oclr = optim.lr_scheduler.OneCycleLR(\n",
    "    optimizer=optimizer, \n",
    "    max_lr=cfg.max_lr, \n",
    "    epochs=cfg.epochs, \n",
    "    steps_per_epoch=cfg.steps_per_epoch,\n",
    "    pct_start=cfg.pct_start, \n",
    "    div_factor=cfg.div_factor, \n",
    "    final_div_factor=cfg.final_div_factor\n",
    ")\n",
    "\n",
    "# scheduler_rlrop = optim.lr_scheduler.ReduceLROnPlateau(\n",
    "#     optimizer=optimizer,\n",
    "#     patience=cfg.patience,\n",
    "#     eps=cfg.eps,\n",
    "#     verbose=True\n",
    "# )\n",
    "\n",
    "# scheduler_oclr = None\n",
    "scheduler_rlrop = None\n",
    "\n",
    "L, A, LR, BL, BA, _, _, _, _ = fit(\n",
    "    model=model, \n",
    "    optimizer=optimizer, \n",
    "    scheduler_oclr=scheduler_oclr,\n",
    "    scheduler_rlrop=scheduler_rlrop,\n",
    "    epochs=cfg.epochs, \n",
    "    early_stopping_patience=cfg.early_stopping, \n",
    "    dataloaders=dataloaders, \n",
    "    device=cfg.device,\n",
    "    save_path=cfg.save_path,\n",
    "    fold=fold,\n",
    "    verbose=True\n",
    ")\n",
    "\n",
    "breaker()\n",
    "show_loss_graphs(L)\n",
    "breaker()\n",
    "show_accuracy_graphs(A)\n",
    "breaker()\n",
    "if scheduler_oclr:\n",
    "    show_lr_graph(LR)\n",
    "    breaker()\n",
    "\n",
    "# BLs.append(BL)\n",
    "# BAs.append(BA)"
   ]
  },
  {
   "cell_type": "code",
   "execution_count": 11,
   "id": "97ffce70",
   "metadata": {
    "execution": {
     "iopub.execute_input": "2022-10-02T09:45:34.043774Z",
     "iopub.status.busy": "2022-10-02T09:45:34.043470Z",
     "iopub.status.idle": "2022-10-02T09:45:34.048555Z",
     "shell.execute_reply": "2022-10-02T09:45:34.047657Z"
    },
    "papermill": {
     "duration": 0.014659,
     "end_time": "2022-10-02T09:45:34.050698",
     "exception": false,
     "start_time": "2022-10-02T09:45:34.036039",
     "status": "completed"
    },
    "tags": []
   },
   "outputs": [
    {
     "name": "stdout",
     "output_type": "stream",
     "text": [
      "\n",
      "**************************************************\n",
      "\n",
      "Best Loss      : 0.57301\n",
      "Best Accuracy  : 0.79004\n",
      "\n",
      "**************************************************\n",
      "\n"
     ]
    }
   ],
   "source": [
    "breaker()\n",
    "print(f\"Best Loss      : {BL['valid']:.5f}\")\n",
    "print(f\"Best Accuracy  : {BA['valid']:.5f}\")\n",
    "breaker()"
   ]
  },
  {
   "cell_type": "markdown",
   "id": "be7c791e",
   "metadata": {
    "papermill": {
     "duration": 0.006263,
     "end_time": "2022-10-02T09:45:34.063327",
     "exception": false,
     "start_time": "2022-10-02T09:45:34.057064",
     "status": "completed"
    },
    "tags": []
   },
   "source": [
    "### **Best Model**"
   ]
  },
  {
   "cell_type": "code",
   "execution_count": 12,
   "id": "231cc98a",
   "metadata": {
    "execution": {
     "iopub.execute_input": "2022-10-02T09:45:34.077872Z",
     "iopub.status.busy": "2022-10-02T09:45:34.077056Z",
     "iopub.status.idle": "2022-10-02T09:45:34.082434Z",
     "shell.execute_reply": "2022-10-02T09:45:34.081568Z"
    },
    "papermill": {
     "duration": 0.014819,
     "end_time": "2022-10-02T09:45:34.084551",
     "exception": false,
     "start_time": "2022-10-02T09:45:34.069732",
     "status": "completed"
    },
    "tags": []
   },
   "outputs": [],
   "source": [
    "# BL = np.inf\n",
    "# for i in range(len(BLs)):\n",
    "#     if BLs[i][\"valid\"] < BL:\n",
    "#         BL = BLs[i][\"valid\"]\n",
    "#         best_loss_index = i\n",
    "\n",
    "        \n",
    "# BA = 0.0\n",
    "# for i in range(len(BAs)):\n",
    "#     if BAs[i][\"valid\"] > BA:\n",
    "#         BA = BAs[i][\"valid\"]\n",
    "#         best_accs_index = i\n",
    "\n",
    "# breaker()\n",
    "# print(f\"Best Loss Model Fold     : {best_loss_index + 1}\")\n",
    "# print(f\"Best Accuracy Model Fold : {best_accs_index + 1}\")\n",
    "# breaker()"
   ]
  },
  {
   "cell_type": "markdown",
   "id": "737d35c8",
   "metadata": {
    "papermill": {
     "duration": 0.006205,
     "end_time": "2022-10-02T09:45:34.097229",
     "exception": false,
     "start_time": "2022-10-02T09:45:34.091024",
     "status": "completed"
    },
    "tags": []
   },
   "source": [
    "### **Submit**"
   ]
  },
  {
   "cell_type": "code",
   "execution_count": 13,
   "id": "e0d13a10",
   "metadata": {
    "execution": {
     "iopub.execute_input": "2022-10-02T09:45:34.111246Z",
     "iopub.status.busy": "2022-10-02T09:45:34.110972Z",
     "iopub.status.idle": "2022-10-02T09:45:34.115444Z",
     "shell.execute_reply": "2022-10-02T09:45:34.114456Z"
    },
    "papermill": {
     "duration": 0.013783,
     "end_time": "2022-10-02T09:45:34.117448",
     "exception": false,
     "start_time": "2022-10-02T09:45:34.103665",
     "status": "completed"
    },
    "tags": []
   },
   "outputs": [],
   "source": [
    "# torch.manual_seed(cfg.seed)\n",
    "# model = Model().to(cfg.device)\n",
    "\n",
    "# ss_df = pd.read_csv(\"../input/4-animal-classification/Sample_submission.csv\")\n",
    "# ts_filenames = ss_df[\"ID\"]\n",
    "\n",
    "# ts_data_setup = DS(\n",
    "#     base_path=\"../input/4-animal-classification/test/test\", \n",
    "#     filenames=ts_filenames, \n",
    "#     size=cfg.size,\n",
    "#     transform=cfg.valid_transform,\n",
    "# )\n",
    "# ts_data = DL(ts_data_setup, batch_size=cfg.batch_size, shuffle=False)\n",
    "\n",
    "# y_pred = predict_batch(\n",
    "#     model=model,\n",
    "#     dataloader=ts_data,\n",
    "#     path=\"\",\n",
    "#     device=cfg.device\n",
    "# )\n",
    "\n",
    "# ss_df[\"Label\"] = y_pred.astype(\"uint8\")\n",
    "# ss_df.to_csv(\"submission.csv\", index=False)"
   ]
  }
 ],
 "metadata": {
  "kernelspec": {
   "display_name": "Python 3",
   "language": "python",
   "name": "python3"
  },
  "language_info": {
   "codemirror_mode": {
    "name": "ipython",
    "version": 3
   },
   "file_extension": ".py",
   "mimetype": "text/x-python",
   "name": "python",
   "nbconvert_exporter": "python",
   "pygments_lexer": "ipython3",
   "version": "3.7.12"
  },
  "papermill": {
   "default_parameters": {},
   "duration": 16246.131589,
   "end_time": "2022-10-02T09:45:35.870041",
   "environment_variables": {},
   "exception": null,
   "input_path": "__notebook__.ipynb",
   "output_path": "__notebook__.ipynb",
   "parameters": {},
   "start_time": "2022-10-02T05:14:49.738452",
   "version": "2.3.4"
  }
 },
 "nbformat": 4,
 "nbformat_minor": 5
}
