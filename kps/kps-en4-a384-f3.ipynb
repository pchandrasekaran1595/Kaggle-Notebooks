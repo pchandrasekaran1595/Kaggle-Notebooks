{
 "cells": [
  {
   "cell_type": "markdown",
   "id": "9731a25b",
   "metadata": {
    "_cell_guid": "b1076dfc-b9ad-4769-8c92-a6c4dae69d19",
    "_uuid": "8f2839f25d086af736a60e9eeb907d3b93b6e0e5",
    "papermill": {
     "duration": 0.005596,
     "end_time": "2022-09-25T19:28:20.687436",
     "exception": false,
     "start_time": "2022-09-25T19:28:20.681840",
     "status": "completed"
    },
    "tags": []
   },
   "source": [
    "### **Setup**"
   ]
  },
  {
   "cell_type": "code",
   "execution_count": 1,
   "id": "29707f7a",
   "metadata": {
    "execution": {
     "iopub.execute_input": "2022-09-25T19:28:20.699126Z",
     "iopub.status.busy": "2022-09-25T19:28:20.697754Z",
     "iopub.status.idle": "2022-09-25T19:28:31.166010Z",
     "shell.execute_reply": "2022-09-25T19:28:31.164852Z"
    },
    "papermill": {
     "duration": 10.477271,
     "end_time": "2022-09-25T19:28:31.169283",
     "exception": false,
     "start_time": "2022-09-25T19:28:20.692012",
     "status": "completed"
    },
    "tags": []
   },
   "outputs": [
    {
     "name": "stderr",
     "output_type": "stream",
     "text": [
      "WARNING: Running pip as the 'root' user can result in broken permissions and conflicting behaviour with the system package manager. It is recommended to use a virtual environment instead: https://pip.pypa.io/warnings/venv\n"
     ]
    }
   ],
   "source": [
    "%%bash\n",
    "pip install timm -q"
   ]
  },
  {
   "cell_type": "markdown",
   "id": "91d5963a",
   "metadata": {
    "papermill": {
     "duration": 0.006679,
     "end_time": "2022-09-25T19:28:31.182913",
     "exception": false,
     "start_time": "2022-09-25T19:28:31.176234",
     "status": "completed"
    },
    "tags": []
   },
   "source": [
    "### **Library Imports**"
   ]
  },
  {
   "cell_type": "code",
   "execution_count": 2,
   "id": "05a2b457",
   "metadata": {
    "execution": {
     "iopub.execute_input": "2022-09-25T19:28:31.197706Z",
     "iopub.status.busy": "2022-09-25T19:28:31.197346Z",
     "iopub.status.idle": "2022-09-25T19:28:35.119720Z",
     "shell.execute_reply": "2022-09-25T19:28:35.118691Z"
    },
    "papermill": {
     "duration": 3.932634,
     "end_time": "2022-09-25T19:28:35.122118",
     "exception": false,
     "start_time": "2022-09-25T19:28:31.189484",
     "status": "completed"
    },
    "tags": []
   },
   "outputs": [],
   "source": [
    "import os\n",
    "import re\n",
    "import cv2\n",
    "import timm\n",
    "import torch\n",
    "import numpy as np\n",
    "import pandas as pd\n",
    "import matplotlib.pyplot as plt\n",
    "\n",
    "from time import time\n",
    "from torch import nn, optim\n",
    "from torch.utils.data import Dataset\n",
    "from torch.utils.data import DataLoader as DL\n",
    "from torchvision import models, transforms\n",
    "\n",
    "from sklearn.model_selection import StratifiedKFold"
   ]
  },
  {
   "cell_type": "markdown",
   "id": "27fb2224",
   "metadata": {
    "papermill": {
     "duration": 0.004386,
     "end_time": "2022-09-25T19:28:35.131333",
     "exception": false,
     "start_time": "2022-09-25T19:28:35.126947",
     "status": "completed"
    },
    "tags": []
   },
   "source": [
    "### **Utilities and Helpers**"
   ]
  },
  {
   "cell_type": "code",
   "execution_count": 3,
   "id": "849f5c28",
   "metadata": {
    "execution": {
     "iopub.execute_input": "2022-09-25T19:28:35.143921Z",
     "iopub.status.busy": "2022-09-25T19:28:35.141976Z",
     "iopub.status.idle": "2022-09-25T19:28:35.155270Z",
     "shell.execute_reply": "2022-09-25T19:28:35.154425Z"
    },
    "papermill": {
     "duration": 0.021274,
     "end_time": "2022-09-25T19:28:35.157261",
     "exception": false,
     "start_time": "2022-09-25T19:28:35.135987",
     "status": "completed"
    },
    "tags": []
   },
   "outputs": [],
   "source": [
    "SEED = 42\n",
    "SIZE = 384\n",
    "\n",
    "\n",
    "def breaker(num: int=50, char: str=\"*\") -> None:\n",
    "    print(\"\\n\" + num*char + \"\\n\")\n",
    "\n",
    "    \n",
    "def get_image(path: str, size: int=224) -> np.ndarray:\n",
    "    image = cv2.imread(path, cv2.IMREAD_COLOR)\n",
    "    image = cv2.cvtColor(src=image, code=cv2.COLOR_BGR2RGB)\n",
    "    return cv2.resize(src=image, dsize=(size, size), interpolation=cv2.INTER_AREA)\n",
    "\n",
    "\n",
    "def show_loss_graphs(L: list) -> None:\n",
    "    TL, VL = [], []\n",
    "    for i in range(len(L)):\n",
    "        TL.append(L[i][\"train\"])\n",
    "        VL.append(L[i][\"valid\"])\n",
    "    x_Axis = np.arange(1, len(TL) + 1)\n",
    "    plt.figure()\n",
    "    plt.plot(x_Axis, TL, \"r\", label=\"Train\")\n",
    "    plt.plot(x_Axis, VL, \"b\", label=\"Valid\")\n",
    "    plt.legend()\n",
    "    plt.grid()\n",
    "    plt.title(\"Loss Graph\")\n",
    "    plt.show()\n",
    "\n",
    "    \n",
    "def show_accuracy_graphs(A: list) -> None:\n",
    "    TA, VA = [], []\n",
    "    for i in range(len(A)):\n",
    "        TA.append(A[i][\"train\"])\n",
    "        VA.append(A[i][\"valid\"])\n",
    "    x_Axis = np.arange(1, len(TA) + 1)\n",
    "    plt.figure()\n",
    "    plt.plot(x_Axis, TA, \"r\", label=\"Train\")\n",
    "    plt.plot(x_Axis, VA, \"b\", label=\"Valid\")\n",
    "    plt.legend()\n",
    "    plt.grid()\n",
    "    plt.title(\"Accuracy Graph\")\n",
    "    plt.show()\n",
    "    \n",
    "\n",
    "def show_lr_graph(LR: list) -> None:\n",
    "    x_Axis = [i+1 for i in range(len(LR))]\n",
    "    plt.figure(figsize=(8, 6))\n",
    "    plt.plot(x_Axis, LR, \"rx\")\n",
    "    plt.grid()\n",
    "    plt.show()"
   ]
  },
  {
   "cell_type": "markdown",
   "id": "70138aa2",
   "metadata": {
    "papermill": {
     "duration": 0.004404,
     "end_time": "2022-09-25T19:28:35.166493",
     "exception": false,
     "start_time": "2022-09-25T19:28:35.162089",
     "status": "completed"
    },
    "tags": []
   },
   "source": [
    "### **Configuration**"
   ]
  },
  {
   "cell_type": "code",
   "execution_count": 4,
   "id": "60f728f0",
   "metadata": {
    "execution": {
     "iopub.execute_input": "2022-09-25T19:28:35.177990Z",
     "iopub.status.busy": "2022-09-25T19:28:35.176518Z",
     "iopub.status.idle": "2022-09-25T19:28:35.248472Z",
     "shell.execute_reply": "2022-09-25T19:28:35.247515Z"
    },
    "papermill": {
     "duration": 0.079626,
     "end_time": "2022-09-25T19:28:35.250602",
     "exception": false,
     "start_time": "2022-09-25T19:28:35.170976",
     "status": "completed"
    },
    "tags": []
   },
   "outputs": [],
   "source": [
    "class CFG(object):\n",
    "    def __init__(self, \n",
    "                 seed: int = 42,\n",
    "                 size: int = 224,\n",
    "                 n_splits: int = 5,\n",
    "                 batch_size: int = 16,\n",
    "                 epochs: int = 25,\n",
    "                 early_stopping: int = 5,\n",
    "                 lr: float = 1e-4,\n",
    "                 wd: float = 0.0,\n",
    "                 max_lr: float = 1e-3,\n",
    "                 pct_start: float = 0.2,\n",
    "                 steps_per_epoch: int = 100,\n",
    "                 div_factor: int = 1e3, \n",
    "                 final_div_factor: float = 1e3,\n",
    "                 ):\n",
    "        self.seed = seed\n",
    "        self.size = size\n",
    "        self.n_splits = n_splits\n",
    "        self.batch_size = batch_size\n",
    "        self.epochs = epochs\n",
    "        self.early_stopping = early_stopping\n",
    "        self.lr = lr\n",
    "        self.wd = wd\n",
    "        self.max_lr = max_lr\n",
    "        self.pct_start = pct_start\n",
    "        self.steps_per_epoch = steps_per_epoch\n",
    "        self.div_factor = div_factor\n",
    "        self.final_div_factor = final_div_factor\n",
    "        self.device = torch.device(\"cuda\" if torch.cuda.is_available() else \"cpu\")\n",
    "        self.train_transform = transforms.Compose([\n",
    "            transforms.ToTensor(),\n",
    "            transforms.Normalize([0.81450, 0.79094, 0.69495], [0.06435, 0.10338, 0.20791]),\n",
    "            transforms.RandomAffine(degrees=(-45, 45), translate=(0.15, 0.15), scale=(0.5, 1.5)),\n",
    "            transforms.RandomHorizontalFlip(p=0.25),\n",
    "            transforms.RandomVerticalFlip(p=0.25),\n",
    "        ])\n",
    "        self.valid_transform = transforms.Compose([\n",
    "            transforms.ToTensor(),\n",
    "            transforms.Normalize([0.81450, 0.79094, 0.69495], [0.06435, 0.10338, 0.20791]),\n",
    "        ])\n",
    "                                \n",
    "        self.save_path = \"saves\"\n",
    "        if not os.path.exists(self.save_path): os.makedirs(self.save_path)\n",
    "    \n",
    "cfg = CFG(seed=SEED, size=SIZE)"
   ]
  },
  {
   "cell_type": "markdown",
   "id": "e8e84786",
   "metadata": {
    "papermill": {
     "duration": 0.004292,
     "end_time": "2022-09-25T19:28:35.259698",
     "exception": false,
     "start_time": "2022-09-25T19:28:35.255406",
     "status": "completed"
    },
    "tags": []
   },
   "source": [
    "### **Dataset Template**"
   ]
  },
  {
   "cell_type": "code",
   "execution_count": 5,
   "id": "3e15f0c5",
   "metadata": {
    "execution": {
     "iopub.execute_input": "2022-09-25T19:28:35.270318Z",
     "iopub.status.busy": "2022-09-25T19:28:35.269473Z",
     "iopub.status.idle": "2022-09-25T19:28:35.276175Z",
     "shell.execute_reply": "2022-09-25T19:28:35.275247Z"
    },
    "papermill": {
     "duration": 0.014191,
     "end_time": "2022-09-25T19:28:35.278290",
     "exception": false,
     "start_time": "2022-09-25T19:28:35.264099",
     "status": "completed"
    },
    "tags": []
   },
   "outputs": [],
   "source": [
    "class DS(Dataset):\n",
    "    def __init__(\n",
    "        self, \n",
    "        filepaths: np.ndarray, \n",
    "        labels: np.ndarray, \n",
    "        size: int,\n",
    "        transform=None):\n",
    "        \n",
    "        self.filepaths = filepaths\n",
    "        self.labels = labels\n",
    "        self.size = size\n",
    "        self.transform = transform\n",
    "    \n",
    "    def __len__(self):\n",
    "        return self.filepaths.shape[0]\n",
    "    \n",
    "    def __getitem__(self, idx):\n",
    "        image = get_image(self.filepaths[idx], self.size)\n",
    "        return self.transform(image), torch.LongTensor(self.labels[idx])"
   ]
  },
  {
   "cell_type": "code",
   "execution_count": 6,
   "id": "899969da",
   "metadata": {
    "execution": {
     "iopub.execute_input": "2022-09-25T19:28:35.288381Z",
     "iopub.status.busy": "2022-09-25T19:28:35.288104Z",
     "iopub.status.idle": "2022-09-25T19:28:35.292547Z",
     "shell.execute_reply": "2022-09-25T19:28:35.291492Z"
    },
    "papermill": {
     "duration": 0.011991,
     "end_time": "2022-09-25T19:28:35.294827",
     "exception": false,
     "start_time": "2022-09-25T19:28:35.282836",
     "status": "completed"
    },
    "tags": []
   },
   "outputs": [],
   "source": [
    "# class DS(Dataset):\n",
    "#     def __init__(\n",
    "#         self, \n",
    "#         base_path: str,\n",
    "#         filenames: np.ndarray, \n",
    "#         size: int,\n",
    "#         transform=None):\n",
    "        \n",
    "#         self.base_path = base_path\n",
    "#         self.filenames = filenames\n",
    "#         self.size = size\n",
    "#         self.transform = transform\n",
    "    \n",
    "#     def __len__(self):\n",
    "#         return self.filenames.shape[0]\n",
    "    \n",
    "#     def __getitem__(self, idx):\n",
    "#         path = os.path.join(self.base_path, str(self.filenames[idx]) + \".png\")\n",
    "#         image = get_image(path, self.size)\n",
    "#         return self.transform(image)"
   ]
  },
  {
   "cell_type": "markdown",
   "id": "5b01f862",
   "metadata": {
    "papermill": {
     "duration": 0.004258,
     "end_time": "2022-09-25T19:28:35.304370",
     "exception": false,
     "start_time": "2022-09-25T19:28:35.300112",
     "status": "completed"
    },
    "tags": []
   },
   "source": [
    "### **Model**"
   ]
  },
  {
   "cell_type": "code",
   "execution_count": 7,
   "id": "7267a2d1",
   "metadata": {
    "execution": {
     "iopub.execute_input": "2022-09-25T19:28:35.314798Z",
     "iopub.status.busy": "2022-09-25T19:28:35.314512Z",
     "iopub.status.idle": "2022-09-25T19:28:35.320564Z",
     "shell.execute_reply": "2022-09-25T19:28:35.319623Z"
    },
    "papermill": {
     "duration": 0.013939,
     "end_time": "2022-09-25T19:28:35.322753",
     "exception": false,
     "start_time": "2022-09-25T19:28:35.308814",
     "status": "completed"
    },
    "tags": []
   },
   "outputs": [],
   "source": [
    "class Model(nn.Module):\n",
    "    def __init__(self):\n",
    "        super(Model, self).__init__()\n",
    "            \n",
    "        self.model = timm.create_model(model_name=\"efficientnet_b4\", pretrained=True)\n",
    "        self.model.classifier = nn.Linear(in_features=self.model.classifier.in_features, out_features=4)\n",
    "            \n",
    "    def freeze(self):\n",
    "        for params in self.parameters(): params.requires_grad = False\n",
    "\n",
    "    def forward(self, x):\n",
    "        return nn.LogSoftmax(dim=1)(self.model(x))"
   ]
  },
  {
   "cell_type": "markdown",
   "id": "52751912",
   "metadata": {
    "papermill": {
     "duration": 0.004222,
     "end_time": "2022-09-25T19:28:35.331388",
     "exception": false,
     "start_time": "2022-09-25T19:28:35.327166",
     "status": "completed"
    },
    "tags": []
   },
   "source": [
    "### **Fit and Predict**"
   ]
  },
  {
   "cell_type": "code",
   "execution_count": 8,
   "id": "f6a0c577",
   "metadata": {
    "execution": {
     "iopub.execute_input": "2022-09-25T19:28:35.341904Z",
     "iopub.status.busy": "2022-09-25T19:28:35.341610Z",
     "iopub.status.idle": "2022-09-25T19:28:35.363134Z",
     "shell.execute_reply": "2022-09-25T19:28:35.362070Z"
    },
    "papermill": {
     "duration": 0.029355,
     "end_time": "2022-09-25T19:28:35.365333",
     "exception": false,
     "start_time": "2022-09-25T19:28:35.335978",
     "status": "completed"
    },
    "tags": []
   },
   "outputs": [],
   "source": [
    "def fit(model=None,\n",
    "        optimizer=None, \n",
    "        scheduler_rlrop=None,\n",
    "        scheduler_oclr=None,\n",
    "        epochs=None, \n",
    "        early_stopping_patience=None, \n",
    "        dataloaders=None, \n",
    "        fold=None, \n",
    "        save_path=None,\n",
    "        device=None,\n",
    "        verbose=False) -> tuple:\n",
    "    \n",
    "    def get_accuracy(y_pred, y_true):\n",
    "        y_pred = torch.argmax(y_pred, dim=1)\n",
    "        return torch.count_nonzero(y_pred == y_true).item() / len(y_pred)\n",
    "    \n",
    "    if verbose:\n",
    "        breaker()\n",
    "        if fold: print(f\"Training Fold {fold}...\")\n",
    "        else: print(\"Training ...\")\n",
    "        breaker()\n",
    "        \n",
    "    bestLoss: dict = {\"train\" : np.inf, \"valid\" : np.inf} \n",
    "    bestAccs: dict = {\"train\" : 0.0, \"valid\" : 0.0}\n",
    "        \n",
    "    Losses: list = []\n",
    "    Accuracies: list = [] \n",
    "    LRs: list = []\n",
    "        \n",
    "    if fold: \n",
    "        ble_name = f\"ble_state_fold_{fold}.pt\"\n",
    "        bae_name = f\"bae_state_fold_{fold}.pt\"\n",
    "    else: \n",
    "        ble_name = f\"ble_state.pt\"\n",
    "        bae_name = f\"bae_state.pt\"\n",
    "    \n",
    "    start_time = time()\n",
    "    for e in range(epochs):\n",
    "        e_st = time()\n",
    "        epochLoss: dict = {\"train\" : 0.0, \"valid\" : 0.0} \n",
    "        epochAccs: dict = {\"train\" : 0.0, \"valid\" : 0.0}\n",
    "\n",
    "        for phase in [\"train\", \"valid\"]:\n",
    "            if phase == \"train\":\n",
    "                model.train()\n",
    "            else:\n",
    "                model.eval()\n",
    "            \n",
    "            lossPerPass: list = []\n",
    "            accsPerPass: list = []\n",
    "                \n",
    "            for X, y in dataloaders[phase]:\n",
    "                X, y = X.to(device), y.to(device).view(-1)\n",
    "\n",
    "                optimizer.zero_grad()\n",
    "                with torch.set_grad_enabled(phase == \"train\"):\n",
    "                    output = model(X)\n",
    "                    loss = torch.nn.NLLLoss()(output, y)\n",
    "                    if phase == \"train\":\n",
    "                        loss.backward()\n",
    "                        optimizer.step()\n",
    "                        if scheduler_oclr: scheduler_oclr.step()\n",
    "                lossPerPass.append(loss.item())\n",
    "                accsPerPass.append(get_accuracy(output, y))\n",
    "            epochLoss[phase] = np.mean(np.array(lossPerPass))\n",
    "            epochAccs[phase] = np.mean(np.array(accsPerPass))\n",
    "        if scheduler_oclr: LRs.append(scheduler_oclr.get_last_lr())\n",
    "        Losses.append(epochLoss)\n",
    "        Accuracies.append(epochAccs)\n",
    "    \n",
    "        if scheduler_oclr:\n",
    "            save_dict = {\"model_state_dict\"     : model.state_dict(),\n",
    "                         \"optim_state_dict\"     : optimizer.state_dict(),\n",
    "                         \"scheduler_state_dict\" : scheduler_oclr.state_dict()}\n",
    "        \n",
    "        elif scheduler_rlrop:\n",
    "            save_dict = {\"model_state_dict\"     : model.state_dict(),\n",
    "                         \"optim_state_dict\"     : optimizer.state_dict(),\n",
    "                         \"scheduler_state_dict\" : scheduler_rlrop.state_dict()}\n",
    "        \n",
    "        else:\n",
    "            save_dict = {\"model_state_dict\"     : model.state_dict(),\n",
    "                         \"optim_state_dict\"     : optimizer.state_dict()}\n",
    "        \n",
    "        \n",
    "        if early_stopping_patience:\n",
    "            if epochLoss[\"valid\"] < bestLoss[\"valid\"]:\n",
    "                bestLoss = epochLoss\n",
    "                BLE = e + 1\n",
    "                torch.save(save_dict, os.path.join(save_path, ble_name))\n",
    "                torch.save(save_dict, os.path.join(save_path, bae_name))\n",
    "                early_stopping_step = 0\n",
    "            else:\n",
    "                early_stopping_step += 1\n",
    "                if early_stopping_step > early_stopping_patience:\n",
    "                    print(\"\\nEarly Stopping at Epoch {}\".format(e + 1))\n",
    "                    break\n",
    "        \n",
    "        if epochLoss[\"valid\"] < bestLoss[\"valid\"]:\n",
    "            bestLoss = epochLoss\n",
    "            BLE = e + 1\n",
    "            torch.save(save_dict,os.path.join(save_path, ble_name))\n",
    "        \n",
    "        if epochAccs[\"valid\"] > bestAccs[\"valid\"]:\n",
    "            bestAccs = epochAccs\n",
    "            BAE = e + 1\n",
    "            torch.save(save_dict,os.path.join(save_path, bae_name))\n",
    "        \n",
    "        if scheduler_rlrop: scheduler_rlrop.step(epochLoss[\"valid\"])\n",
    "        \n",
    "        if verbose:\n",
    "            print(\"Epoch: {} | Train Loss: {:.5f} | Valid Loss: {:.5f} |\\\n",
    " Train Accs: {:.5f} | Valid Accs: {:.5f} | Time: {:.2f} seconds\".format(e+1, \n",
    "                                                                        epochLoss[\"train\"], epochLoss[\"valid\"], \n",
    "                                                                        epochAccs[\"train\"], epochAccs[\"valid\"], \n",
    "                                                                        time()-e_st))\n",
    "\n",
    "    if verbose:                                           \n",
    "        breaker()\n",
    "        print(f\"Best Validation Loss at Epoch {BLE}\")\n",
    "        breaker()\n",
    "        print(f\"Best Validation Accs at Epoch {BAE}\")\n",
    "        breaker()\n",
    "        print(\"Time Taken [{} Epochs] : {:.2f} minutes\".format(len(Losses), (time()-start_time)/60))\n",
    "    \n",
    "    return Losses, Accuracies, LRs, bestLoss, bestAccs, BLE, BAE, ble_name, bae_name\n",
    "\n",
    "\n",
    "# def predict_batch(model=None, dataloader=None, path=None, device=None) -> np.ndarray:\n",
    "#     model.load_state_dict(torch.load(path, map_location=device)[\"model_state_dict\"])\n",
    "#     model.to(device)    \n",
    "#     model.eval()\n",
    "    \n",
    "#     y_pred = torch.zeros(1, 1).to(device)\n",
    "    \n",
    "#     for X in dataloader:\n",
    "#         X = X.to(device)\n",
    "#         with torch.no_grad():\n",
    "#             output = torch.argmax(torch.exp(model(X)), dim=1)\n",
    "#         y_pred = torch.cat((y_pred, output.view(-1, 1)), dim=0)\n",
    "    \n",
    "#     return y_pred[1:].detach().cpu().numpy()"
   ]
  },
  {
   "cell_type": "markdown",
   "id": "b366f8bc",
   "metadata": {
    "papermill": {
     "duration": 0.004261,
     "end_time": "2022-09-25T19:28:35.374197",
     "exception": false,
     "start_time": "2022-09-25T19:28:35.369936",
     "status": "completed"
    },
    "tags": []
   },
   "source": [
    "### **Train**"
   ]
  },
  {
   "cell_type": "code",
   "execution_count": 9,
   "id": "9c60ed78",
   "metadata": {
    "execution": {
     "iopub.execute_input": "2022-09-25T19:28:35.384358Z",
     "iopub.status.busy": "2022-09-25T19:28:35.384057Z",
     "iopub.status.idle": "2022-09-25T19:28:35.451256Z",
     "shell.execute_reply": "2022-09-25T19:28:35.450276Z"
    },
    "papermill": {
     "duration": 0.075311,
     "end_time": "2022-09-25T19:28:35.453935",
     "exception": false,
     "start_time": "2022-09-25T19:28:35.378624",
     "status": "completed"
    },
    "tags": []
   },
   "outputs": [],
   "source": [
    "df = pd.read_csv(\"../input/kps-dataframe/dataframe.csv\")\n",
    "\n",
    "filepaths = df.filepaths.copy().values\n",
    "labels = df.label_index.copy().values"
   ]
  },
  {
   "cell_type": "code",
   "execution_count": 10,
   "id": "6f9ead84",
   "metadata": {
    "execution": {
     "iopub.execute_input": "2022-09-25T19:28:35.464633Z",
     "iopub.status.busy": "2022-09-25T19:28:35.464333Z",
     "iopub.status.idle": "2022-09-25T21:30:33.846947Z",
     "shell.execute_reply": "2022-09-25T21:30:33.846037Z"
    },
    "papermill": {
     "duration": 7318.390388,
     "end_time": "2022-09-25T21:30:33.849184",
     "exception": false,
     "start_time": "2022-09-25T19:28:35.458796",
     "status": "completed"
    },
    "tags": []
   },
   "outputs": [
    {
     "name": "stderr",
     "output_type": "stream",
     "text": [
      "Downloading: \"https://github.com/rwightman/pytorch-image-models/releases/download/v0.1-weights/efficientnet_b4_ra2_320-7eb33cd5.pth\" to /root/.cache/torch/hub/checkpoints/efficientnet_b4_ra2_320-7eb33cd5.pth\n"
     ]
    },
    {
     "name": "stdout",
     "output_type": "stream",
     "text": [
      "\n",
      "**************************************************\n",
      "\n",
      "Training Fold 3...\n",
      "\n",
      "**************************************************\n",
      "\n",
      "Epoch: 1 | Train Loss: 1.22566 | Valid Loss: 0.86411 | Train Accs: 0.44752 | Valid Accs: 0.63338 | Time: 621.00 seconds\n",
      "Epoch: 2 | Train Loss: 0.75027 | Valid Loss: 0.69789 | Train Accs: 0.69648 | Valid Accs: 0.71788 | Time: 520.38 seconds\n",
      "Epoch: 3 | Train Loss: 0.65513 | Valid Loss: 0.76334 | Train Accs: 0.73771 | Valid Accs: 0.71369 | Time: 516.54 seconds\n",
      "Epoch: 4 | Train Loss: 0.63180 | Valid Loss: 0.66179 | Train Accs: 0.74529 | Valid Accs: 0.74092 | Time: 510.35 seconds\n",
      "Epoch: 5 | Train Loss: 0.60940 | Valid Loss: 0.65304 | Train Accs: 0.75872 | Valid Accs: 0.75209 | Time: 517.55 seconds\n",
      "Epoch: 6 | Train Loss: 0.57121 | Valid Loss: 0.59509 | Train Accs: 0.77327 | Valid Accs: 0.76676 | Time: 516.57 seconds\n",
      "Epoch: 7 | Train Loss: 0.53441 | Valid Loss: 0.62204 | Train Accs: 0.78705 | Valid Accs: 0.75733 | Time: 517.20 seconds\n",
      "Epoch: 8 | Train Loss: 0.52237 | Valid Loss: 0.57459 | Train Accs: 0.79419 | Valid Accs: 0.77339 | Time: 515.67 seconds\n",
      "Epoch: 9 | Train Loss: 0.50532 | Valid Loss: 0.58389 | Train Accs: 0.80099 | Valid Accs: 0.76920 | Time: 507.50 seconds\n",
      "Epoch: 10 | Train Loss: 0.48337 | Valid Loss: 0.62043 | Train Accs: 0.80753 | Valid Accs: 0.76746 | Time: 516.52 seconds\n",
      "Epoch: 11 | Train Loss: 0.44787 | Valid Loss: 0.60484 | Train Accs: 0.82183 | Valid Accs: 0.77060 | Time: 507.13 seconds\n",
      "Epoch: 12 | Train Loss: 0.42038 | Valid Loss: 0.61845 | Train Accs: 0.83516 | Valid Accs: 0.78073 | Time: 515.07 seconds\n",
      "Epoch: 13 | Train Loss: 0.38964 | Valid Loss: 0.63380 | Train Accs: 0.84667 | Valid Accs: 0.77165 | Time: 516.28 seconds\n",
      "\n",
      "Early Stopping at Epoch 14\n",
      "\n",
      "**************************************************\n",
      "\n",
      "Best Validation Loss at Epoch 8\n",
      "\n",
      "**************************************************\n",
      "\n",
      "Best Validation Accs at Epoch 12\n",
      "\n",
      "**************************************************\n",
      "\n",
      "Time Taken [14 Epochs] : 121.89 minutes\n",
      "\n",
      "**************************************************\n",
      "\n"
     ]
    },
    {
     "data": {
      "image/png": "[encoded data removed]",
      "text/plain": [
       "<Figure size 432x288 with 1 Axes>"
      ]
     },
     "metadata": {
      "needs_background": "light"
     },
     "output_type": "display_data"
    },
    {
     "name": "stdout",
     "output_type": "stream",
     "text": [
      "\n",
      "**************************************************\n",
      "\n"
     ]
    },
    {
     "data": {
      "image/png": "[encoded data removed]",
      "text/plain": [
       "<Figure size 432x288 with 1 Axes>"
      ]
     },
     "metadata": {
      "needs_background": "light"
     },
     "output_type": "display_data"
    },
    {
     "name": "stdout",
     "output_type": "stream",
     "text": [
      "\n",
      "**************************************************\n",
      "\n"
     ]
    },
    {
     "data": {
      "image/png": "[encoded data removed]",
      "text/plain": [
       "<Figure size 576x432 with 1 Axes>"
      ]
     },
     "metadata": {
      "needs_background": "light"
     },
     "output_type": "display_data"
    },
    {
     "name": "stdout",
     "output_type": "stream",
     "text": [
      "\n",
      "**************************************************\n",
      "\n"
     ]
    }
   ],
   "source": [
    "fold: int = 1\n",
    "BLs: list = []\n",
    "BAs: list = []\n",
    "    \n",
    "for tr_idx, va_idx in StratifiedKFold(n_splits=cfg.n_splits, random_state=cfg.seed, shuffle=True).split(filepaths, labels):\n",
    "    if fold == 3: break\n",
    "    fold += 1        \n",
    "        \n",
    "tr_filepaths, va_filepaths = filepaths[tr_idx], filepaths[va_idx] \n",
    "tr_labels, va_labels       = labels[tr_idx], labels[va_idx]\n",
    "\n",
    "tr_data_setup = DS(\n",
    "    filepaths=tr_filepaths, \n",
    "    labels=tr_labels.reshape(-1, 1),\n",
    "    size=cfg.size,\n",
    "    transform=cfg.train_transform)\n",
    "\n",
    "va_data_setup = DS(\n",
    "    filepaths=va_filepaths, \n",
    "    labels=va_labels.reshape(-1, 1),\n",
    "    size=cfg.size,\n",
    "    transform=cfg.valid_transform)\n",
    "\n",
    "dataloaders = {\n",
    "    \"train\" : DL(tr_data_setup, batch_size=cfg.batch_size, shuffle=True, generator=torch.manual_seed(cfg.seed)),\n",
    "    \"valid\" : DL(va_data_setup, batch_size=cfg.batch_size, shuffle=False),\n",
    "}\n",
    "\n",
    "cfg = CFG(\n",
    "    size=SIZE,\n",
    "    epochs=25, \n",
    "    batch_size=64, \n",
    "    early_stopping=5,\n",
    "    steps_per_epoch=len(dataloaders[\"train\"])\n",
    ")\n",
    "\n",
    "torch.manual_seed(cfg.seed)\n",
    "model = Model().to(cfg.device)\n",
    "\n",
    "optimizer = optim.Adam([p for p in model.parameters() if p.requires_grad], lr=cfg.lr, weight_decay=cfg.wd)\n",
    "# optimizer = optim.AdamW([p for p in model.parameters() if p.requires_grad], lr=cfg.lr, weight_decay=cfg.wd)\n",
    "# optimizer = optim.SGD([p for p in model.parameters() if p.requires_grad], lr=cfg.lr, weight_decay=cfg.wd, momentum=0.9)\n",
    "\n",
    "scheduler_oclr = optim.lr_scheduler.OneCycleLR(\n",
    "    optimizer=optimizer, \n",
    "    max_lr=cfg.max_lr, \n",
    "    epochs=cfg.epochs, \n",
    "    steps_per_epoch=cfg.steps_per_epoch,\n",
    "    pct_start=cfg.pct_start, \n",
    "    div_factor=cfg.div_factor, \n",
    "    final_div_factor=cfg.final_div_factor\n",
    ")\n",
    "\n",
    "# scheduler_rlrop = optim.lr_scheduler.ReduceLROnPlateau(\n",
    "#     optimizer=optimizer,\n",
    "#     patience=cfg.patience,\n",
    "#     eps=cfg.eps,\n",
    "#     verbose=True\n",
    "# )\n",
    "\n",
    "# scheduler_oclr = None\n",
    "scheduler_rlrop = None\n",
    "\n",
    "L, A, LR, BL, BA, _, _, _, _ = fit(\n",
    "    model=model, \n",
    "    optimizer=optimizer, \n",
    "    scheduler_oclr=scheduler_oclr,\n",
    "    scheduler_rlrop=scheduler_rlrop,\n",
    "    epochs=cfg.epochs, \n",
    "    early_stopping_patience=cfg.early_stopping, \n",
    "    dataloaders=dataloaders, \n",
    "    device=cfg.device,\n",
    "    save_path=cfg.save_path,\n",
    "    fold=fold,\n",
    "    verbose=True\n",
    ")\n",
    "\n",
    "breaker()\n",
    "show_loss_graphs(L)\n",
    "breaker()\n",
    "show_accuracy_graphs(A)\n",
    "breaker()\n",
    "if scheduler_oclr:\n",
    "    show_lr_graph(LR)\n",
    "    breaker()\n",
    "\n",
    "# BLs.append(BL)\n",
    "# BAs.append(BA)"
   ]
  },
  {
   "cell_type": "code",
   "execution_count": 11,
   "id": "57ab97ad",
   "metadata": {
    "execution": {
     "iopub.execute_input": "2022-09-25T21:30:33.864530Z",
     "iopub.status.busy": "2022-09-25T21:30:33.863030Z",
     "iopub.status.idle": "2022-09-25T21:30:33.869487Z",
     "shell.execute_reply": "2022-09-25T21:30:33.868835Z"
    },
    "papermill": {
     "duration": 0.015766,
     "end_time": "2022-09-25T21:30:33.871338",
     "exception": false,
     "start_time": "2022-09-25T21:30:33.855572",
     "status": "completed"
    },
    "tags": []
   },
   "outputs": [
    {
     "name": "stdout",
     "output_type": "stream",
     "text": [
      "\n",
      "**************************************************\n",
      "\n",
      "Best Loss      : 0.57459\n",
      "Best Accuracy  : 0.78073\n",
      "\n",
      "**************************************************\n",
      "\n"
     ]
    }
   ],
   "source": [
    "breaker()\n",
    "print(f\"Best Loss      : {BL['valid']:.5f}\")\n",
    "print(f\"Best Accuracy  : {BA['valid']:.5f}\")\n",
    "breaker()"
   ]
  },
  {
   "cell_type": "markdown",
   "id": "38e82b12",
   "metadata": {
    "papermill": {
     "duration": 0.005975,
     "end_time": "2022-09-25T21:30:33.883493",
     "exception": false,
     "start_time": "2022-09-25T21:30:33.877518",
     "status": "completed"
    },
    "tags": []
   },
   "source": [
    "### **Best Model**"
   ]
  },
  {
   "cell_type": "code",
   "execution_count": 12,
   "id": "5e633b69",
   "metadata": {
    "execution": {
     "iopub.execute_input": "2022-09-25T21:30:33.896947Z",
     "iopub.status.busy": "2022-09-25T21:30:33.896665Z",
     "iopub.status.idle": "2022-09-25T21:30:33.900929Z",
     "shell.execute_reply": "2022-09-25T21:30:33.899926Z"
    },
    "papermill": {
     "duration": 0.013243,
     "end_time": "2022-09-25T21:30:33.902975",
     "exception": false,
     "start_time": "2022-09-25T21:30:33.889732",
     "status": "completed"
    },
    "tags": []
   },
   "outputs": [],
   "source": [
    "# BL = np.inf\n",
    "# for i in range(len(BLs)):\n",
    "#     if BLs[i][\"valid\"] < BL:\n",
    "#         BL = BLs[i][\"valid\"]\n",
    "#         best_loss_index = i\n",
    "\n",
    "        \n",
    "# BA = 0.0\n",
    "# for i in range(len(BAs)):\n",
    "#     if BAs[i][\"valid\"] > BA:\n",
    "#         BA = BAs[i][\"valid\"]\n",
    "#         best_accs_index = i\n",
    "\n",
    "# breaker()\n",
    "# print(f\"Best Loss Model Fold     : {best_loss_index + 1}\")\n",
    "# print(f\"Best Accuracy Model Fold : {best_accs_index + 1}\")\n",
    "# breaker()"
   ]
  },
  {
   "cell_type": "markdown",
   "id": "ce1c0654",
   "metadata": {
    "papermill": {
     "duration": 0.00606,
     "end_time": "2022-09-25T21:30:33.915175",
     "exception": false,
     "start_time": "2022-09-25T21:30:33.909115",
     "status": "completed"
    },
    "tags": []
   },
   "source": [
    "### **Submit**"
   ]
  },
  {
   "cell_type": "code",
   "execution_count": 13,
   "id": "fbd45f7b",
   "metadata": {
    "execution": {
     "iopub.execute_input": "2022-09-25T21:30:33.928576Z",
     "iopub.status.busy": "2022-09-25T21:30:33.928318Z",
     "iopub.status.idle": "2022-09-25T21:30:33.932662Z",
     "shell.execute_reply": "2022-09-25T21:30:33.931679Z"
    },
    "papermill": {
     "duration": 0.013398,
     "end_time": "2022-09-25T21:30:33.934763",
     "exception": false,
     "start_time": "2022-09-25T21:30:33.921365",
     "status": "completed"
    },
    "tags": []
   },
   "outputs": [],
   "source": [
    "# torch.manual_seed(cfg.seed)\n",
    "# model = Model().to(cfg.device)\n",
    "\n",
    "# ss_df = pd.read_csv(\"../input/4-animal-classification/Sample_submission.csv\")\n",
    "# ts_filenames = ss_df[\"ID\"]\n",
    "\n",
    "# ts_data_setup = DS(\n",
    "#     base_path=\"../input/4-animal-classification/test/test\", \n",
    "#     filenames=ts_filenames, \n",
    "#     size=cfg.size,\n",
    "#     transform=cfg.valid_transform,\n",
    "# )\n",
    "# ts_data = DL(ts_data_setup, batch_size=cfg.batch_size, shuffle=False)\n",
    "\n",
    "# y_pred = predict_batch(\n",
    "#     model=model,\n",
    "#     dataloader=ts_data,\n",
    "#     path=\"\",\n",
    "#     device=cfg.device\n",
    "# )\n",
    "\n",
    "# ss_df[\"Label\"] = y_pred.astype(\"uint8\")\n",
    "# ss_df.to_csv(\"submission.csv\", index=False)"
   ]
  }
 ],
 "metadata": {
  "kernelspec": {
   "display_name": "Python 3",
   "language": "python",
   "name": "python3"
  },
  "language_info": {
   "codemirror_mode": {
    "name": "ipython",
    "version": 3
   },
   "file_extension": ".py",
   "mimetype": "text/x-python",
   "name": "python",
   "nbconvert_exporter": "python",
   "pygments_lexer": "ipython3",
   "version": "3.7.12"
  },
  "papermill": {
   "default_parameters": {},
   "duration": 7342.770429,
   "end_time": "2022-09-25T21:30:35.677016",
   "environment_variables": {},
   "exception": null,
   "input_path": "__notebook__.ipynb",
   "output_path": "__notebook__.ipynb",
   "parameters": {},
   "start_time": "2022-09-25T19:28:12.906587",
   "version": "2.3.4"
  }
 },
 "nbformat": 4,
 "nbformat_minor": 5
}
