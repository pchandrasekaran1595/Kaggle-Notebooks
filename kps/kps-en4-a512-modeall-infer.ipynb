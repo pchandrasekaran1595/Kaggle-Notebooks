{
 "cells": [
  {
   "cell_type": "markdown",
   "id": "7c52fcd6",
   "metadata": {
    "_cell_guid": "b1076dfc-b9ad-4769-8c92-a6c4dae69d19",
    "_uuid": "8f2839f25d086af736a60e9eeb907d3b93b6e0e5",
    "papermill": {
     "duration": 0.004527,
     "end_time": "2022-10-03T04:37:34.668495",
     "exception": false,
     "start_time": "2022-10-03T04:37:34.663968",
     "status": "completed"
    },
    "tags": []
   },
   "source": [
    "### **Setup**"
   ]
  },
  {
   "cell_type": "code",
   "execution_count": 1,
   "id": "5de783cf",
   "metadata": {
    "execution": {
     "iopub.execute_input": "2022-10-03T04:37:34.677519Z",
     "iopub.status.busy": "2022-10-03T04:37:34.676786Z",
     "iopub.status.idle": "2022-10-03T04:37:46.505782Z",
     "shell.execute_reply": "2022-10-03T04:37:46.504700Z"
    },
    "papermill": {
     "duration": 11.836022,
     "end_time": "2022-10-03T04:37:46.508089",
     "exception": false,
     "start_time": "2022-10-03T04:37:34.672067",
     "status": "completed"
    },
    "tags": []
   },
   "outputs": [
    {
     "name": "stderr",
     "output_type": "stream",
     "text": [
      "WARNING: Running pip as the 'root' user can result in broken permissions and conflicting behaviour with the system package manager. It is recommended to use a virtual environment instead: https://pip.pypa.io/warnings/venv\n"
     ]
    }
   ],
   "source": [
    "%%bash\n",
    "pip install timm -q"
   ]
  },
  {
   "cell_type": "markdown",
   "id": "8d673f38",
   "metadata": {
    "papermill": {
     "duration": 0.003353,
     "end_time": "2022-10-03T04:37:46.515438",
     "exception": false,
     "start_time": "2022-10-03T04:37:46.512085",
     "status": "completed"
    },
    "tags": []
   },
   "source": [
    "### **Library Imports**"
   ]
  },
  {
   "cell_type": "code",
   "execution_count": 2,
   "id": "8e51dcd4",
   "metadata": {
    "execution": {
     "iopub.execute_input": "2022-10-03T04:37:46.524055Z",
     "iopub.status.busy": "2022-10-03T04:37:46.523742Z",
     "iopub.status.idle": "2022-10-03T04:37:50.253017Z",
     "shell.execute_reply": "2022-10-03T04:37:50.251936Z"
    },
    "papermill": {
     "duration": 3.736697,
     "end_time": "2022-10-03T04:37:50.255627",
     "exception": false,
     "start_time": "2022-10-03T04:37:46.518930",
     "status": "completed"
    },
    "tags": []
   },
   "outputs": [],
   "source": [
    "import os\n",
    "import re\n",
    "import cv2\n",
    "import timm\n",
    "import torch\n",
    "import numpy as np\n",
    "import pandas as pd\n",
    "import matplotlib.pyplot as plt\n",
    "\n",
    "from time import time\n",
    "from scipy import stats\n",
    "from torch import nn, optim\n",
    "from torch.utils.data import Dataset\n",
    "from torch.utils.data import DataLoader as DL\n",
    "from torchvision import models, transforms"
   ]
  },
  {
   "cell_type": "markdown",
   "id": "e843ead9",
   "metadata": {
    "papermill": {
     "duration": 0.00352,
     "end_time": "2022-10-03T04:37:50.263394",
     "exception": false,
     "start_time": "2022-10-03T04:37:50.259874",
     "status": "completed"
    },
    "tags": []
   },
   "source": [
    "### **Utilities and Helpers**"
   ]
  },
  {
   "cell_type": "code",
   "execution_count": 3,
   "id": "adf5aeec",
   "metadata": {
    "execution": {
     "iopub.execute_input": "2022-10-03T04:37:50.273200Z",
     "iopub.status.busy": "2022-10-03T04:37:50.271750Z",
     "iopub.status.idle": "2022-10-03T04:37:50.280029Z",
     "shell.execute_reply": "2022-10-03T04:37:50.279143Z"
    },
    "papermill": {
     "duration": 0.015091,
     "end_time": "2022-10-03T04:37:50.282130",
     "exception": false,
     "start_time": "2022-10-03T04:37:50.267039",
     "status": "completed"
    },
    "tags": []
   },
   "outputs": [],
   "source": [
    "SEED: int = 42\n",
    "SIZE: int = 512\n",
    "\n",
    "LABELS: dict = {\n",
    "    0 : \"pure\",\n",
    "    1 : \"broken\",\n",
    "    2 : \"silkcut\",\n",
    "    3 : \"discolored\",\n",
    "}\n",
    "\n",
    "\n",
    "def breaker(num: int=50, char: str=\"*\") -> None:\n",
    "    print(\"\\n\" + num*char + \"\\n\")\n",
    "\n",
    "    \n",
    "def get_image(path: str, size: int=224) -> np.ndarray:\n",
    "    image = cv2.imread(path, cv2.IMREAD_COLOR)\n",
    "    image = cv2.cvtColor(src=image, code=cv2.COLOR_BGR2RGB)\n",
    "    return cv2.resize(src=image, dsize=(size, size), interpolation=cv2.INTER_AREA)"
   ]
  },
  {
   "cell_type": "markdown",
   "id": "6ee65ce2",
   "metadata": {
    "papermill": {
     "duration": 0.003412,
     "end_time": "2022-10-03T04:37:50.289311",
     "exception": false,
     "start_time": "2022-10-03T04:37:50.285899",
     "status": "completed"
    },
    "tags": []
   },
   "source": [
    "### **Configuration**"
   ]
  },
  {
   "cell_type": "code",
   "execution_count": 4,
   "id": "a552da23",
   "metadata": {
    "execution": {
     "iopub.execute_input": "2022-10-03T04:37:50.298280Z",
     "iopub.status.busy": "2022-10-03T04:37:50.297533Z",
     "iopub.status.idle": "2022-10-03T04:37:50.371633Z",
     "shell.execute_reply": "2022-10-03T04:37:50.370707Z"
    },
    "papermill": {
     "duration": 0.080603,
     "end_time": "2022-10-03T04:37:50.373593",
     "exception": false,
     "start_time": "2022-10-03T04:37:50.292990",
     "status": "completed"
    },
    "tags": []
   },
   "outputs": [],
   "source": [
    "class CFG(object):\n",
    "    def __init__(self, \n",
    "                 seed: int = 42,\n",
    "                 size: int = 224,\n",
    "                 n_splits: int = 5,\n",
    "                 batch_size: int = 16,\n",
    "                 epochs: int = 25,\n",
    "                 early_stopping: int = 5,\n",
    "                 lr: float = 1e-4,\n",
    "                 wd: float = 0.0,\n",
    "                 max_lr: float = 1e-3,\n",
    "                 pct_start: float = 0.2,\n",
    "                 steps_per_epoch: int = 100,\n",
    "                 div_factor: int = 1e3, \n",
    "                 final_div_factor: float = 1e3,\n",
    "                 ):\n",
    "        self.seed = seed\n",
    "        self.size = size\n",
    "        self.n_splits = n_splits\n",
    "        self.batch_size = batch_size\n",
    "        self.epochs = epochs\n",
    "        self.early_stopping = early_stopping\n",
    "        self.lr = lr\n",
    "        self.wd = wd\n",
    "        self.max_lr = max_lr\n",
    "        self.pct_start = pct_start\n",
    "        self.steps_per_epoch = steps_per_epoch\n",
    "        self.div_factor = div_factor\n",
    "        self.final_div_factor = final_div_factor\n",
    "        self.device = torch.device(\"cuda\" if torch.cuda.is_available() else \"cpu\")\n",
    "        self.train_transform = transforms.Compose([\n",
    "            transforms.ToTensor(),\n",
    "            transforms.Normalize([0.81453, 0.79097, 0.69499], [0.06438, 0.10340, 0.20793]),\n",
    "            transforms.RandomAffine(degrees=(-45, 45), translate=(0.15, 0.15), scale=(0.5, 1.5)),\n",
    "            transforms.RandomHorizontalFlip(p=0.25),\n",
    "            transforms.RandomVerticalFlip(p=0.25),\n",
    "        ])\n",
    "        self.valid_transform = transforms.Compose([\n",
    "            transforms.ToTensor(),\n",
    "            transforms.Normalize([0.81453, 0.79097, 0.69499], [0.06438, 0.10340, 0.20793]),\n",
    "        ])\n",
    "                                \n",
    "        self.save_path = \"saves\"\n",
    "        if not os.path.exists(self.save_path): os.makedirs(self.save_path)\n",
    "    \n",
    "cfg = CFG(seed=SEED, size=SIZE)"
   ]
  },
  {
   "cell_type": "markdown",
   "id": "d9b1a385",
   "metadata": {
    "papermill": {
     "duration": 0.00348,
     "end_time": "2022-10-03T04:37:50.381067",
     "exception": false,
     "start_time": "2022-10-03T04:37:50.377587",
     "status": "completed"
    },
    "tags": []
   },
   "source": [
    "### **Dataset Template**"
   ]
  },
  {
   "cell_type": "code",
   "execution_count": 5,
   "id": "7f1803ae",
   "metadata": {
    "execution": {
     "iopub.execute_input": "2022-10-03T04:37:50.390224Z",
     "iopub.status.busy": "2022-10-03T04:37:50.389402Z",
     "iopub.status.idle": "2022-10-03T04:37:50.396385Z",
     "shell.execute_reply": "2022-10-03T04:37:50.395557Z"
    },
    "papermill": {
     "duration": 0.013849,
     "end_time": "2022-10-03T04:37:50.398577",
     "exception": false,
     "start_time": "2022-10-03T04:37:50.384728",
     "status": "completed"
    },
    "tags": []
   },
   "outputs": [],
   "source": [
    "class DS(Dataset):\n",
    "    def __init__(\n",
    "        self, \n",
    "        base_path: str,\n",
    "        filenames: np.ndarray, \n",
    "        size: int,\n",
    "        transform=None):\n",
    "        \n",
    "        self.base_path = base_path\n",
    "        self.filenames = filenames\n",
    "        self.size = size\n",
    "        self.transform = transform\n",
    "    \n",
    "    def __len__(self):\n",
    "        return self.filenames.shape[0]\n",
    "    \n",
    "    def __getitem__(self, idx):\n",
    "        path = os.path.join(self.base_path, str(self.filenames[idx]) + \".png\")\n",
    "        image = get_image(path, self.size)\n",
    "        return self.transform(image)"
   ]
  },
  {
   "cell_type": "markdown",
   "id": "b75a4a5d",
   "metadata": {
    "papermill": {
     "duration": 0.003476,
     "end_time": "2022-10-03T04:37:50.405753",
     "exception": false,
     "start_time": "2022-10-03T04:37:50.402277",
     "status": "completed"
    },
    "tags": []
   },
   "source": [
    "### **Model**"
   ]
  },
  {
   "cell_type": "code",
   "execution_count": 6,
   "id": "cd67c778",
   "metadata": {
    "execution": {
     "iopub.execute_input": "2022-10-03T04:37:50.414241Z",
     "iopub.status.busy": "2022-10-03T04:37:50.413978Z",
     "iopub.status.idle": "2022-10-03T04:37:50.420252Z",
     "shell.execute_reply": "2022-10-03T04:37:50.419296Z"
    },
    "papermill": {
     "duration": 0.012824,
     "end_time": "2022-10-03T04:37:50.422221",
     "exception": false,
     "start_time": "2022-10-03T04:37:50.409397",
     "status": "completed"
    },
    "tags": []
   },
   "outputs": [],
   "source": [
    "class Model(nn.Module):\n",
    "    def __init__(self):\n",
    "        super(Model, self).__init__()\n",
    "            \n",
    "        self.model = timm.create_model(model_name=\"efficientnet_b4\", pretrained=False)\n",
    "        self.model.classifier = nn.Linear(in_features=self.model.classifier.in_features, out_features=4)\n",
    "            \n",
    "    def freeze(self):\n",
    "        for params in self.parameters(): params.requires_grad = False\n",
    "\n",
    "    def forward(self, x):\n",
    "        return nn.LogSoftmax(dim=1)(self.model(x))"
   ]
  },
  {
   "cell_type": "markdown",
   "id": "6effe814",
   "metadata": {
    "papermill": {
     "duration": 0.003495,
     "end_time": "2022-10-03T04:37:50.429462",
     "exception": false,
     "start_time": "2022-10-03T04:37:50.425967",
     "status": "completed"
    },
    "tags": []
   },
   "source": [
    "### **Predict**"
   ]
  },
  {
   "cell_type": "code",
   "execution_count": 7,
   "id": "9c4c782f",
   "metadata": {
    "execution": {
     "iopub.execute_input": "2022-10-03T04:37:50.438029Z",
     "iopub.status.busy": "2022-10-03T04:37:50.437722Z",
     "iopub.status.idle": "2022-10-03T04:37:50.445199Z",
     "shell.execute_reply": "2022-10-03T04:37:50.444320Z"
    },
    "papermill": {
     "duration": 0.014064,
     "end_time": "2022-10-03T04:37:50.447192",
     "exception": false,
     "start_time": "2022-10-03T04:37:50.433128",
     "status": "completed"
    },
    "tags": []
   },
   "outputs": [],
   "source": [
    "def predict_batch(model=None, dataloader=None, path=None, device=None) -> np.ndarray:\n",
    "    model.load_state_dict(torch.load(path, map_location=device)[\"model_state_dict\"])\n",
    "    model.to(device)    \n",
    "    model.eval()\n",
    "    \n",
    "    y_pred = torch.zeros(1, 1).to(device)\n",
    "    \n",
    "    for X in dataloader:\n",
    "        X = X.to(device)\n",
    "        with torch.no_grad():\n",
    "            output = torch.argmax(torch.exp(model(X)), dim=1)\n",
    "        y_pred = torch.cat((y_pred, output.view(-1, 1)), dim=0)\n",
    "    \n",
    "    return y_pred[1:].detach().cpu().numpy()"
   ]
  },
  {
   "cell_type": "markdown",
   "id": "7813134b",
   "metadata": {
    "papermill": {
     "duration": 0.003439,
     "end_time": "2022-10-03T04:37:50.455190",
     "exception": false,
     "start_time": "2022-10-03T04:37:50.451751",
     "status": "completed"
    },
    "tags": []
   },
   "source": [
    "### **Submit**"
   ]
  },
  {
   "cell_type": "code",
   "execution_count": 8,
   "id": "39dd0d1d",
   "metadata": {
    "execution": {
     "iopub.execute_input": "2022-10-03T04:37:50.463562Z",
     "iopub.status.busy": "2022-10-03T04:37:50.463284Z",
     "iopub.status.idle": "2022-10-03T04:37:53.753219Z",
     "shell.execute_reply": "2022-10-03T04:37:53.752097Z"
    },
    "papermill": {
     "duration": 3.297535,
     "end_time": "2022-10-03T04:37:53.756336",
     "exception": false,
     "start_time": "2022-10-03T04:37:50.458801",
     "status": "completed"
    },
    "tags": []
   },
   "outputs": [],
   "source": [
    "torch.manual_seed(cfg.seed)\n",
    "model = Model().to(cfg.device)\n",
    "\n",
    "ss_df = pd.read_csv(\"../input/kaggle-pog-series-s01e03/corn/sample_submission.csv\")\n",
    "ts_filenames = ss_df[\"seed_id\"]\n",
    "ts_filenames = np.array([str(ts_filename).zfill(5) for ts_filename in ts_filenames])\n",
    "\n",
    "ts_data_setup = DS(\n",
    "    base_path=\"../input/kaggle-pog-series-s01e03/corn/test\", \n",
    "    filenames=ts_filenames, \n",
    "    size=cfg.size,\n",
    "    transform=cfg.valid_transform,\n",
    ")\n",
    "ts_data = DL(ts_data_setup, batch_size=cfg.batch_size, shuffle=False)"
   ]
  },
  {
   "cell_type": "code",
   "execution_count": 9,
   "id": "db4cf834",
   "metadata": {
    "execution": {
     "iopub.execute_input": "2022-10-03T04:37:53.766766Z",
     "iopub.status.busy": "2022-10-03T04:37:53.765059Z",
     "iopub.status.idle": "2022-10-03T04:45:05.286151Z",
     "shell.execute_reply": "2022-10-03T04:45:05.285103Z"
    },
    "papermill": {
     "duration": 431.528516,
     "end_time": "2022-10-03T04:45:05.288751",
     "exception": false,
     "start_time": "2022-10-03T04:37:53.760235",
     "status": "completed"
    },
    "tags": []
   },
   "outputs": [],
   "source": [
    "# Fold 1\n",
    "y_pred_1_l = predict_batch(\n",
    "    model=model,\n",
    "    dataloader=ts_data,\n",
    "    path=f\"../input/kps-en4-a{SIZE}-f1/saves/ble_state_fold_1.pt\",\n",
    "    device=cfg.device\n",
    ").reshape(1, -1)\n",
    "\n",
    "y_pred_1_a = predict_batch(\n",
    "    model=model,\n",
    "    dataloader=ts_data,\n",
    "    path=f\"../input/kps-en4-a{SIZE}-f1/saves/bae_state_fold_1.pt\",\n",
    "    device=cfg.device\n",
    ").reshape(1, -1)\n",
    "\n",
    "\n",
    "# Fold 2\n",
    "y_pred_2_l = predict_batch(\n",
    "    model=model,\n",
    "    dataloader=ts_data,\n",
    "    path=f\"../input/kps-en4-a{SIZE}-f2/saves/ble_state_fold_2.pt\",\n",
    "    device=cfg.device\n",
    ").reshape(1, -1)\n",
    "\n",
    "y_pred_2_a = predict_batch(\n",
    "    model=model,\n",
    "    dataloader=ts_data,\n",
    "    path=f\"../input/kps-en4-a{SIZE}-f2/saves/bae_state_fold_2.pt\",\n",
    "    device=cfg.device\n",
    ").reshape(1, -1)\n",
    "\n",
    "\n",
    "# Fold 3\n",
    "y_pred_3_l = predict_batch(\n",
    "    model=model,\n",
    "    dataloader=ts_data,\n",
    "    path=f\"../input/kps-en4-a{SIZE}-f3/saves/ble_state_fold_3.pt\",\n",
    "    device=cfg.device\n",
    ").reshape(1, -1)\n",
    "\n",
    "y_pred_3_a = predict_batch(\n",
    "    model=model,\n",
    "    dataloader=ts_data,\n",
    "    path=f\"../input/kps-en4-a{SIZE}-f3/saves/bae_state_fold_3.pt\",\n",
    "    device=cfg.device\n",
    ").reshape(1, -1)\n",
    "\n",
    "\n",
    "# Fold 4\n",
    "y_pred_4_l = predict_batch(\n",
    "    model=model,\n",
    "    dataloader=ts_data,\n",
    "    path=f\"../input/kps-en4-a{SIZE}-f4/saves/ble_state_fold_4.pt\",\n",
    "    device=cfg.device\n",
    ").reshape(1, -1)\n",
    "\n",
    "y_pred_4_a = predict_batch(\n",
    "    model=model,\n",
    "    dataloader=ts_data,\n",
    "    path=f\"../input/kps-en4-a{SIZE}-f4/saves/bae_state_fold_4.pt\",\n",
    "    device=cfg.device\n",
    ").reshape(1, -1)\n",
    "\n",
    "\n",
    "# Fold 5\n",
    "y_pred_5_l = predict_batch(\n",
    "    model=model,\n",
    "    dataloader=ts_data,\n",
    "    path=f\"../input/kps-en4-a{SIZE}-f5/saves/ble_state_fold_5.pt\",\n",
    "    device=cfg.device\n",
    ").reshape(1, -1)\n",
    "\n",
    "y_pred_5_a = predict_batch(\n",
    "    model=model,\n",
    "    dataloader=ts_data,\n",
    "    path=f\"../input/kps-en4-a{SIZE}-f5/saves/bae_state_fold_5.pt\",\n",
    "    device=cfg.device\n",
    ").reshape(1, -1)"
   ]
  },
  {
   "cell_type": "code",
   "execution_count": 10,
   "id": "becdb0a3",
   "metadata": {
    "execution": {
     "iopub.execute_input": "2022-10-03T04:45:05.299797Z",
     "iopub.status.busy": "2022-10-03T04:45:05.298001Z",
     "iopub.status.idle": "2022-10-03T04:45:05.395754Z",
     "shell.execute_reply": "2022-10-03T04:45:05.394878Z"
    },
    "papermill": {
     "duration": 0.104826,
     "end_time": "2022-10-03T04:45:05.397876",
     "exception": false,
     "start_time": "2022-10-03T04:45:05.293050",
     "status": "completed"
    },
    "tags": []
   },
   "outputs": [],
   "source": [
    "y_pred = np.concatenate(\n",
    "    (y_pred_1_l,\n",
    "     y_pred_1_a, \n",
    "     y_pred_2_l,\n",
    "     y_pred_2_a,\n",
    "     y_pred_3_l,\n",
    "     y_pred_3_a,\n",
    "     y_pred_4_l,\n",
    "     y_pred_4_a,\n",
    "     y_pred_5_l,\n",
    "     y_pred_5_a,\n",
    "    ), axis=0)\n",
    "y_pred = stats.mode(y_pred)[0]\n",
    "y_pred = list(y_pred.astype(\"uint8\").reshape(-1))\n",
    "y_pred = [LABELS[y_pred[i]] for i in range(len(y_pred))]\n",
    "\n",
    "ss_df[\"label\"] = y_pred\n",
    "ss_df.to_csv(\"submission.csv\", index=False)"
   ]
  }
 ],
 "metadata": {
  "kernelspec": {
   "display_name": "Python 3",
   "language": "python",
   "name": "python3"
  },
  "language_info": {
   "codemirror_mode": {
    "name": "ipython",
    "version": 3
   },
   "file_extension": ".py",
   "mimetype": "text/x-python",
   "name": "python",
   "nbconvert_exporter": "python",
   "pygments_lexer": "ipython3",
   "version": "3.7.12"
  },
  "papermill": {
   "default_parameters": {},
   "duration": 460.516539,
   "end_time": "2022-10-03T04:45:07.684635",
   "environment_variables": {},
   "exception": null,
   "input_path": "__notebook__.ipynb",
   "output_path": "__notebook__.ipynb",
   "parameters": {},
   "start_time": "2022-10-03T04:37:27.168096",
   "version": "2.3.4"
  }
 },
 "nbformat": 4,
 "nbformat_minor": 5
}
