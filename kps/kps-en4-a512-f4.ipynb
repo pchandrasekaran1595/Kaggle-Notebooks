{
 "cells": [
  {
   "cell_type": "markdown",
   "id": "275028e9",
   "metadata": {
    "_cell_guid": "b1076dfc-b9ad-4769-8c92-a6c4dae69d19",
    "_uuid": "8f2839f25d086af736a60e9eeb907d3b93b6e0e5",
    "papermill": {
     "duration": 0.008324,
     "end_time": "2022-10-02T10:24:02.707582",
     "exception": false,
     "start_time": "2022-10-02T10:24:02.699258",
     "status": "completed"
    },
    "tags": []
   },
   "source": [
    "### **Setup**"
   ]
  },
  {
   "cell_type": "code",
   "execution_count": 1,
   "id": "7f8fd6db",
   "metadata": {
    "execution": {
     "iopub.execute_input": "2022-10-02T10:24:02.718690Z",
     "iopub.status.busy": "2022-10-02T10:24:02.718162Z",
     "iopub.status.idle": "2022-10-02T10:24:13.939786Z",
     "shell.execute_reply": "2022-10-02T10:24:13.938134Z"
    },
    "papermill": {
     "duration": 11.23018,
     "end_time": "2022-10-02T10:24:13.942452",
     "exception": false,
     "start_time": "2022-10-02T10:24:02.712272",
     "status": "completed"
    },
    "tags": []
   },
   "outputs": [
    {
     "name": "stderr",
     "output_type": "stream",
     "text": [
      "WARNING: Running pip as the 'root' user can result in broken permissions and conflicting behaviour with the system package manager. It is recommended to use a virtual environment instead: https://pip.pypa.io/warnings/venv\n"
     ]
    }
   ],
   "source": [
    "%%bash\n",
    "pip install timm -q"
   ]
  },
  {
   "cell_type": "markdown",
   "id": "6ae53c7b",
   "metadata": {
    "papermill": {
     "duration": 0.004305,
     "end_time": "2022-10-02T10:24:13.951556",
     "exception": false,
     "start_time": "2022-10-02T10:24:13.947251",
     "status": "completed"
    },
    "tags": []
   },
   "source": [
    "### **Library Imports**"
   ]
  },
  {
   "cell_type": "code",
   "execution_count": 2,
   "id": "e48b5c00",
   "metadata": {
    "execution": {
     "iopub.execute_input": "2022-10-02T10:24:13.961920Z",
     "iopub.status.busy": "2022-10-02T10:24:13.961583Z",
     "iopub.status.idle": "2022-10-02T10:24:18.225136Z",
     "shell.execute_reply": "2022-10-02T10:24:18.224027Z"
    },
    "papermill": {
     "duration": 4.271858,
     "end_time": "2022-10-02T10:24:18.227896",
     "exception": false,
     "start_time": "2022-10-02T10:24:13.956038",
     "status": "completed"
    },
    "tags": []
   },
   "outputs": [],
   "source": [
    "import os\n",
    "import re\n",
    "import cv2\n",
    "import timm\n",
    "import torch\n",
    "import numpy as np\n",
    "import pandas as pd\n",
    "import matplotlib.pyplot as plt\n",
    "\n",
    "from time import time\n",
    "from torch import nn, optim\n",
    "from torch.utils.data import Dataset\n",
    "from torch.utils.data import DataLoader as DL\n",
    "from torchvision import models, transforms\n",
    "\n",
    "from sklearn.model_selection import StratifiedKFold"
   ]
  },
  {
   "cell_type": "markdown",
   "id": "f9a6e861",
   "metadata": {
    "papermill": {
     "duration": 0.004482,
     "end_time": "2022-10-02T10:24:18.237227",
     "exception": false,
     "start_time": "2022-10-02T10:24:18.232745",
     "status": "completed"
    },
    "tags": []
   },
   "source": [
    "### **Utilities and Helpers**"
   ]
  },
  {
   "cell_type": "code",
   "execution_count": 3,
   "id": "1a8fec29",
   "metadata": {
    "execution": {
     "iopub.execute_input": "2022-10-02T10:24:18.248104Z",
     "iopub.status.busy": "2022-10-02T10:24:18.247473Z",
     "iopub.status.idle": "2022-10-02T10:24:18.260743Z",
     "shell.execute_reply": "2022-10-02T10:24:18.259900Z"
    },
    "papermill": {
     "duration": 0.020886,
     "end_time": "2022-10-02T10:24:18.262810",
     "exception": false,
     "start_time": "2022-10-02T10:24:18.241924",
     "status": "completed"
    },
    "tags": []
   },
   "outputs": [],
   "source": [
    "SEED: int = 42\n",
    "SIZE: int = 512\n",
    "\n",
    "\n",
    "def breaker(num: int=50, char: str=\"*\") -> None:\n",
    "    print(\"\\n\" + num*char + \"\\n\")\n",
    "\n",
    "    \n",
    "def get_image(path: str, size: int=224) -> np.ndarray:\n",
    "    image = cv2.imread(path, cv2.IMREAD_COLOR)\n",
    "    image = cv2.cvtColor(src=image, code=cv2.COLOR_BGR2RGB)\n",
    "    return cv2.resize(src=image, dsize=(size, size), interpolation=cv2.INTER_AREA)\n",
    "\n",
    "\n",
    "def show_loss_graphs(L: list) -> None:\n",
    "    TL, VL = [], []\n",
    "    for i in range(len(L)):\n",
    "        TL.append(L[i][\"train\"])\n",
    "        VL.append(L[i][\"valid\"])\n",
    "    x_Axis = np.arange(1, len(TL) + 1)\n",
    "    plt.figure()\n",
    "    plt.plot(x_Axis, TL, \"r\", label=\"Train\")\n",
    "    plt.plot(x_Axis, VL, \"b\", label=\"Valid\")\n",
    "    plt.legend()\n",
    "    plt.grid()\n",
    "    plt.title(\"Loss Graph\")\n",
    "    plt.show()\n",
    "\n",
    "    \n",
    "def show_accuracy_graphs(A: list) -> None:\n",
    "    TA, VA = [], []\n",
    "    for i in range(len(A)):\n",
    "        TA.append(A[i][\"train\"])\n",
    "        VA.append(A[i][\"valid\"])\n",
    "    x_Axis = np.arange(1, len(TA) + 1)\n",
    "    plt.figure()\n",
    "    plt.plot(x_Axis, TA, \"r\", label=\"Train\")\n",
    "    plt.plot(x_Axis, VA, \"b\", label=\"Valid\")\n",
    "    plt.legend()\n",
    "    plt.grid()\n",
    "    plt.title(\"Accuracy Graph\")\n",
    "    plt.show()\n",
    "    \n",
    "\n",
    "def show_lr_graph(LR: list) -> None:\n",
    "    x_Axis = [i+1 for i in range(len(LR))]\n",
    "    plt.figure(figsize=(8, 6))\n",
    "    plt.plot(x_Axis, LR, \"rx\")\n",
    "    plt.grid()\n",
    "    plt.show()"
   ]
  },
  {
   "cell_type": "markdown",
   "id": "c9501cac",
   "metadata": {
    "papermill": {
     "duration": 0.004356,
     "end_time": "2022-10-02T10:24:18.271671",
     "exception": false,
     "start_time": "2022-10-02T10:24:18.267315",
     "status": "completed"
    },
    "tags": []
   },
   "source": [
    "### **Configuration**"
   ]
  },
  {
   "cell_type": "code",
   "execution_count": 4,
   "id": "f9166474",
   "metadata": {
    "execution": {
     "iopub.execute_input": "2022-10-02T10:24:18.282773Z",
     "iopub.status.busy": "2022-10-02T10:24:18.281898Z",
     "iopub.status.idle": "2022-10-02T10:24:18.352315Z",
     "shell.execute_reply": "2022-10-02T10:24:18.351666Z"
    },
    "papermill": {
     "duration": 0.078033,
     "end_time": "2022-10-02T10:24:18.354142",
     "exception": false,
     "start_time": "2022-10-02T10:24:18.276109",
     "status": "completed"
    },
    "tags": []
   },
   "outputs": [],
   "source": [
    "class CFG(object):\n",
    "    def __init__(self, \n",
    "                 seed: int = 42,\n",
    "                 size: int = 224,\n",
    "                 n_splits: int = 5,\n",
    "                 batch_size: int = 8,\n",
    "                 epochs: int = 25,\n",
    "                 early_stopping: int = 5,\n",
    "                 lr: float = 1e-4,\n",
    "                 wd: float = 0.0,\n",
    "                 max_lr: float = 1e-3,\n",
    "                 pct_start: float = 0.2,\n",
    "                 steps_per_epoch: int = 100,\n",
    "                 div_factor: int = 1e3, \n",
    "                 final_div_factor: float = 1e3,\n",
    "                 ):\n",
    "        self.seed = seed\n",
    "        self.size = size\n",
    "        self.n_splits = n_splits\n",
    "        self.batch_size = batch_size\n",
    "        self.epochs = epochs\n",
    "        self.early_stopping = early_stopping\n",
    "        self.lr = lr\n",
    "        self.wd = wd\n",
    "        self.max_lr = max_lr\n",
    "        self.pct_start = pct_start\n",
    "        self.steps_per_epoch = steps_per_epoch\n",
    "        self.div_factor = div_factor\n",
    "        self.final_div_factor = final_div_factor\n",
    "        self.device = torch.device(\"cuda\" if torch.cuda.is_available() else \"cpu\")\n",
    "        self.train_transform = transforms.Compose([\n",
    "            transforms.ToTensor(),\n",
    "            transforms.Normalize([0.81453, 0.79097, 0.69499], [0.06438, 0.10340, 0.20793]),\n",
    "            transforms.RandomAffine(degrees=(-45, 45), translate=(0.15, 0.15), scale=(0.5, 1.5)),\n",
    "            transforms.RandomHorizontalFlip(p=0.25),\n",
    "            transforms.RandomVerticalFlip(p=0.25),\n",
    "        ])\n",
    "        self.valid_transform = transforms.Compose([\n",
    "            transforms.ToTensor(),\n",
    "            transforms.Normalize([0.81453, 0.79097, 0.69499], [0.06438, 0.10340, 0.20793]),\n",
    "        ])\n",
    "                                \n",
    "        self.save_path = \"saves\"\n",
    "        if not os.path.exists(self.save_path): os.makedirs(self.save_path)\n",
    "    \n",
    "cfg = CFG(seed=SEED, size=SIZE)"
   ]
  },
  {
   "cell_type": "markdown",
   "id": "ea85f8ea",
   "metadata": {
    "papermill": {
     "duration": 0.004256,
     "end_time": "2022-10-02T10:24:18.362896",
     "exception": false,
     "start_time": "2022-10-02T10:24:18.358640",
     "status": "completed"
    },
    "tags": []
   },
   "source": [
    "### **Dataset Template**"
   ]
  },
  {
   "cell_type": "code",
   "execution_count": 5,
   "id": "38ee7ecb",
   "metadata": {
    "execution": {
     "iopub.execute_input": "2022-10-02T10:24:18.373344Z",
     "iopub.status.busy": "2022-10-02T10:24:18.372568Z",
     "iopub.status.idle": "2022-10-02T10:24:18.379229Z",
     "shell.execute_reply": "2022-10-02T10:24:18.378392Z"
    },
    "papermill": {
     "duration": 0.013847,
     "end_time": "2022-10-02T10:24:18.381153",
     "exception": false,
     "start_time": "2022-10-02T10:24:18.367306",
     "status": "completed"
    },
    "tags": []
   },
   "outputs": [],
   "source": [
    "class DS(Dataset):\n",
    "    def __init__(\n",
    "        self, \n",
    "        filepaths: np.ndarray, \n",
    "        labels: np.ndarray, \n",
    "        size: int,\n",
    "        transform=None):\n",
    "        \n",
    "        self.filepaths = filepaths\n",
    "        self.labels = labels\n",
    "        self.size = size\n",
    "        self.transform = transform\n",
    "    \n",
    "    def __len__(self):\n",
    "        return self.filepaths.shape[0]\n",
    "    \n",
    "    def __getitem__(self, idx):\n",
    "        image = get_image(self.filepaths[idx], self.size)\n",
    "        return self.transform(image), torch.LongTensor(self.labels[idx])"
   ]
  },
  {
   "cell_type": "code",
   "execution_count": 6,
   "id": "4c468500",
   "metadata": {
    "execution": {
     "iopub.execute_input": "2022-10-02T10:24:18.391168Z",
     "iopub.status.busy": "2022-10-02T10:24:18.390881Z",
     "iopub.status.idle": "2022-10-02T10:24:18.395324Z",
     "shell.execute_reply": "2022-10-02T10:24:18.394311Z"
    },
    "papermill": {
     "duration": 0.011982,
     "end_time": "2022-10-02T10:24:18.397535",
     "exception": false,
     "start_time": "2022-10-02T10:24:18.385553",
     "status": "completed"
    },
    "tags": []
   },
   "outputs": [],
   "source": [
    "# class DS(Dataset):\n",
    "#     def __init__(\n",
    "#         self, \n",
    "#         base_path: str,\n",
    "#         filenames: np.ndarray, \n",
    "#         size: int,\n",
    "#         transform=None):\n",
    "        \n",
    "#         self.base_path = base_path\n",
    "#         self.filenames = filenames\n",
    "#         self.size = size\n",
    "#         self.transform = transform\n",
    "    \n",
    "#     def __len__(self):\n",
    "#         return self.filenames.shape[0]\n",
    "    \n",
    "#     def __getitem__(self, idx):\n",
    "#         path = os.path.join(self.base_path, str(self.filenames[idx]) + \".png\")\n",
    "#         image = get_image(path, self.size)\n",
    "#         return self.transform(image)"
   ]
  },
  {
   "cell_type": "markdown",
   "id": "1b171bd3",
   "metadata": {
    "papermill": {
     "duration": 0.004166,
     "end_time": "2022-10-02T10:24:18.406915",
     "exception": false,
     "start_time": "2022-10-02T10:24:18.402749",
     "status": "completed"
    },
    "tags": []
   },
   "source": [
    "### **Model**"
   ]
  },
  {
   "cell_type": "code",
   "execution_count": 7,
   "id": "e0c7bbc3",
   "metadata": {
    "execution": {
     "iopub.execute_input": "2022-10-02T10:24:18.417365Z",
     "iopub.status.busy": "2022-10-02T10:24:18.416598Z",
     "iopub.status.idle": "2022-10-02T10:24:18.422906Z",
     "shell.execute_reply": "2022-10-02T10:24:18.422018Z"
    },
    "papermill": {
     "duration": 0.013678,
     "end_time": "2022-10-02T10:24:18.425004",
     "exception": false,
     "start_time": "2022-10-02T10:24:18.411326",
     "status": "completed"
    },
    "tags": []
   },
   "outputs": [],
   "source": [
    "class Model(nn.Module):\n",
    "    def __init__(self):\n",
    "        super(Model, self).__init__()\n",
    "            \n",
    "        self.model = timm.create_model(model_name=\"efficientnet_b4\", pretrained=True)\n",
    "        self.model.classifier = nn.Linear(in_features=self.model.classifier.in_features, out_features=4)\n",
    "            \n",
    "    def freeze(self):\n",
    "        for params in self.parameters(): params.requires_grad = False\n",
    "\n",
    "    def forward(self, x):\n",
    "        return nn.LogSoftmax(dim=1)(self.model(x))"
   ]
  },
  {
   "cell_type": "markdown",
   "id": "83387628",
   "metadata": {
    "papermill": {
     "duration": 0.004218,
     "end_time": "2022-10-02T10:24:18.433626",
     "exception": false,
     "start_time": "2022-10-02T10:24:18.429408",
     "status": "completed"
    },
    "tags": []
   },
   "source": [
    "### **Fit and Predict**"
   ]
  },
  {
   "cell_type": "code",
   "execution_count": 8,
   "id": "da5f05ba",
   "metadata": {
    "execution": {
     "iopub.execute_input": "2022-10-02T10:24:18.443868Z",
     "iopub.status.busy": "2022-10-02T10:24:18.443612Z",
     "iopub.status.idle": "2022-10-02T10:24:18.464124Z",
     "shell.execute_reply": "2022-10-02T10:24:18.463132Z"
    },
    "papermill": {
     "duration": 0.028354,
     "end_time": "2022-10-02T10:24:18.466502",
     "exception": false,
     "start_time": "2022-10-02T10:24:18.438148",
     "status": "completed"
    },
    "tags": []
   },
   "outputs": [],
   "source": [
    "def fit(model=None,\n",
    "        optimizer=None, \n",
    "        scheduler_rlrop=None,\n",
    "        scheduler_oclr=None,\n",
    "        epochs=None, \n",
    "        early_stopping_patience=None, \n",
    "        dataloaders=None, \n",
    "        fold=None, \n",
    "        save_path=None,\n",
    "        device=None,\n",
    "        verbose=False) -> tuple:\n",
    "    \n",
    "    def get_accuracy(y_pred, y_true):\n",
    "        y_pred = torch.argmax(y_pred, dim=1)\n",
    "        return torch.count_nonzero(y_pred == y_true).item() / len(y_pred)\n",
    "    \n",
    "    if verbose:\n",
    "        breaker()\n",
    "        if fold: print(f\"Training Fold {fold}...\")\n",
    "        else: print(\"Training ...\")\n",
    "        breaker()\n",
    "        \n",
    "    bestLoss: dict = {\"train\" : np.inf, \"valid\" : np.inf} \n",
    "    bestAccs: dict = {\"train\" : 0.0, \"valid\" : 0.0}\n",
    "        \n",
    "    Losses: list = []\n",
    "    Accuracies: list = [] \n",
    "    LRs: list = []\n",
    "        \n",
    "    if fold: \n",
    "        ble_name = f\"ble_state_fold_{fold}.pt\"\n",
    "        bae_name = f\"bae_state_fold_{fold}.pt\"\n",
    "    else: \n",
    "        ble_name = f\"ble_state.pt\"\n",
    "        bae_name = f\"bae_state.pt\"\n",
    "    \n",
    "    start_time = time()\n",
    "    for e in range(epochs):\n",
    "        e_st = time()\n",
    "        epochLoss: dict = {\"train\" : 0.0, \"valid\" : 0.0} \n",
    "        epochAccs: dict = {\"train\" : 0.0, \"valid\" : 0.0}\n",
    "\n",
    "        for phase in [\"train\", \"valid\"]:\n",
    "            if phase == \"train\":\n",
    "                model.train()\n",
    "            else:\n",
    "                model.eval()\n",
    "            \n",
    "            lossPerPass: list = []\n",
    "            accsPerPass: list = []\n",
    "                \n",
    "            for X, y in dataloaders[phase]:\n",
    "                X, y = X.to(device), y.to(device).view(-1)\n",
    "\n",
    "                optimizer.zero_grad()\n",
    "                with torch.set_grad_enabled(phase == \"train\"):\n",
    "                    output = model(X)\n",
    "                    loss = torch.nn.NLLLoss()(output, y)\n",
    "                    if phase == \"train\":\n",
    "                        loss.backward()\n",
    "                        optimizer.step()\n",
    "                        if scheduler_oclr: scheduler_oclr.step()\n",
    "                lossPerPass.append(loss.item())\n",
    "                accsPerPass.append(get_accuracy(output, y))\n",
    "            epochLoss[phase] = np.mean(np.array(lossPerPass))\n",
    "            epochAccs[phase] = np.mean(np.array(accsPerPass))\n",
    "        if scheduler_oclr: LRs.append(scheduler_oclr.get_last_lr())\n",
    "        Losses.append(epochLoss)\n",
    "        Accuracies.append(epochAccs)\n",
    "    \n",
    "        if scheduler_oclr:\n",
    "            save_dict = {\"model_state_dict\"     : model.state_dict(),\n",
    "                         \"optim_state_dict\"     : optimizer.state_dict(),\n",
    "                         \"scheduler_state_dict\" : scheduler_oclr.state_dict()}\n",
    "        \n",
    "        elif scheduler_rlrop:\n",
    "            save_dict = {\"model_state_dict\"     : model.state_dict(),\n",
    "                         \"optim_state_dict\"     : optimizer.state_dict(),\n",
    "                         \"scheduler_state_dict\" : scheduler_rlrop.state_dict()}\n",
    "        \n",
    "        else:\n",
    "            save_dict = {\"model_state_dict\"     : model.state_dict(),\n",
    "                         \"optim_state_dict\"     : optimizer.state_dict()}\n",
    "        \n",
    "        \n",
    "        if early_stopping_patience:\n",
    "            if epochLoss[\"valid\"] < bestLoss[\"valid\"]:\n",
    "                bestLoss = epochLoss\n",
    "                BLE = e + 1\n",
    "                torch.save(save_dict, os.path.join(save_path, ble_name))\n",
    "                torch.save(save_dict, os.path.join(save_path, bae_name))\n",
    "                early_stopping_step = 0\n",
    "            else:\n",
    "                early_stopping_step += 1\n",
    "                if early_stopping_step > early_stopping_patience:\n",
    "                    print(\"\\nEarly Stopping at Epoch {}\".format(e + 1))\n",
    "                    break\n",
    "        \n",
    "        if epochLoss[\"valid\"] < bestLoss[\"valid\"]:\n",
    "            bestLoss = epochLoss\n",
    "            BLE = e + 1\n",
    "            torch.save(save_dict,os.path.join(save_path, ble_name))\n",
    "        \n",
    "        if epochAccs[\"valid\"] > bestAccs[\"valid\"]:\n",
    "            bestAccs = epochAccs\n",
    "            BAE = e + 1\n",
    "            torch.save(save_dict,os.path.join(save_path, bae_name))\n",
    "        \n",
    "        if scheduler_rlrop: scheduler_rlrop.step(epochLoss[\"valid\"])\n",
    "        \n",
    "        if verbose:\n",
    "            print(\"Epoch: {} | Train Loss: {:.5f} | Valid Loss: {:.5f} |\\\n",
    " Train Accs: {:.5f} | Valid Accs: {:.5f} | Time: {:.2f} seconds\".format(e+1, \n",
    "                                                                        epochLoss[\"train\"], epochLoss[\"valid\"], \n",
    "                                                                        epochAccs[\"train\"], epochAccs[\"valid\"], \n",
    "                                                                        time()-e_st))\n",
    "\n",
    "    if verbose:                                           \n",
    "        breaker()\n",
    "        print(f\"Best Validation Loss at Epoch {BLE}\")\n",
    "        breaker()\n",
    "        print(f\"Best Validation Accs at Epoch {BAE}\")\n",
    "        breaker()\n",
    "        print(\"Time Taken [{} Epochs] : {:.2f} minutes\".format(len(Losses), (time()-start_time)/60))\n",
    "    \n",
    "    return Losses, Accuracies, LRs, bestLoss, bestAccs, BLE, BAE, ble_name, bae_name\n",
    "\n",
    "\n",
    "# def predict_batch(model=None, dataloader=None, path=None, device=None) -> np.ndarray:\n",
    "#     model.load_state_dict(torch.load(path, map_location=device)[\"model_state_dict\"])\n",
    "#     model.to(device)    \n",
    "#     model.eval()\n",
    "    \n",
    "#     y_pred = torch.zeros(1, 1).to(device)\n",
    "    \n",
    "#     for X in dataloader:\n",
    "#         X = X.to(device)\n",
    "#         with torch.no_grad():\n",
    "#             output = torch.argmax(torch.exp(model(X)), dim=1)\n",
    "#         y_pred = torch.cat((y_pred, output.view(-1, 1)), dim=0)\n",
    "    \n",
    "#     return y_pred[1:].detach().cpu().numpy()"
   ]
  },
  {
   "cell_type": "markdown",
   "id": "f6edaad1",
   "metadata": {
    "papermill": {
     "duration": 0.004473,
     "end_time": "2022-10-02T10:24:18.475400",
     "exception": false,
     "start_time": "2022-10-02T10:24:18.470927",
     "status": "completed"
    },
    "tags": []
   },
   "source": [
    "### **Train**"
   ]
  },
  {
   "cell_type": "code",
   "execution_count": 9,
   "id": "443410c7",
   "metadata": {
    "execution": {
     "iopub.execute_input": "2022-10-02T10:24:18.486049Z",
     "iopub.status.busy": "2022-10-02T10:24:18.485180Z",
     "iopub.status.idle": "2022-10-02T10:24:18.553748Z",
     "shell.execute_reply": "2022-10-02T10:24:18.552869Z"
    },
    "papermill": {
     "duration": 0.076089,
     "end_time": "2022-10-02T10:24:18.556030",
     "exception": false,
     "start_time": "2022-10-02T10:24:18.479941",
     "status": "completed"
    },
    "tags": []
   },
   "outputs": [],
   "source": [
    "df = pd.read_csv(\"../input/kps-dataframe/dataframe.csv\")\n",
    "\n",
    "filepaths = df.filepaths.copy().values\n",
    "labels = df.label_index.copy().values"
   ]
  },
  {
   "cell_type": "code",
   "execution_count": 10,
   "id": "7a0d2a70",
   "metadata": {
    "execution": {
     "iopub.execute_input": "2022-10-02T10:24:18.567766Z",
     "iopub.status.busy": "2022-10-02T10:24:18.566156Z",
     "iopub.status.idle": "2022-10-02T15:04:29.651615Z",
     "shell.execute_reply": "2022-10-02T15:04:29.650440Z"
    },
    "papermill": {
     "duration": 16811.092897,
     "end_time": "2022-10-02T15:04:29.653533",
     "exception": false,
     "start_time": "2022-10-02T10:24:18.560636",
     "status": "completed"
    },
    "tags": []
   },
   "outputs": [
    {
     "name": "stderr",
     "output_type": "stream",
     "text": [
      "Downloading: \"https://github.com/rwightman/pytorch-image-models/releases/download/v0.1-weights/efficientnet_b4_ra2_320-7eb33cd5.pth\" to /root/.cache/torch/hub/checkpoints/efficientnet_b4_ra2_320-7eb33cd5.pth\n"
     ]
    },
    {
     "name": "stdout",
     "output_type": "stream",
     "text": [
      "\n",
      "**************************************************\n",
      "\n",
      "Training Fold 4...\n",
      "\n",
      "**************************************************\n",
      "\n",
      "Epoch: 1 | Train Loss: 1.19745 | Valid Loss: 0.89540 | Train Accs: 0.47270 | Valid Accs: 0.62884 | Time: 962.72 seconds\n",
      "Epoch: 2 | Train Loss: 0.79747 | Valid Loss: 0.72609 | Train Accs: 0.67620 | Valid Accs: 0.71264 | Time: 872.23 seconds\n",
      "Epoch: 3 | Train Loss: 0.70257 | Valid Loss: 0.62190 | Train Accs: 0.71746 | Valid Accs: 0.75279 | Time: 872.67 seconds\n",
      "Epoch: 4 | Train Loss: 0.68297 | Valid Loss: 0.63943 | Train Accs: 0.72889 | Valid Accs: 0.74965 | Time: 872.14 seconds\n",
      "Epoch: 5 | Train Loss: 0.66573 | Valid Loss: 0.59242 | Train Accs: 0.73072 | Valid Accs: 0.76955 | Time: 873.37 seconds\n",
      "Epoch: 6 | Train Loss: 0.63801 | Valid Loss: 0.71389 | Train Accs: 0.74503 | Valid Accs: 0.71264 | Time: 870.31 seconds\n",
      "Epoch: 7 | Train Loss: 0.62553 | Valid Loss: 0.59923 | Train Accs: 0.75384 | Valid Accs: 0.76222 | Time: 872.45 seconds\n",
      "Epoch: 8 | Train Loss: 0.59230 | Valid Loss: 0.55325 | Train Accs: 0.75794 | Valid Accs: 0.78666 | Time: 891.57 seconds\n",
      "Epoch: 9 | Train Loss: 0.56187 | Valid Loss: 0.73121 | Train Accs: 0.77582 | Valid Accs: 0.70985 | Time: 885.15 seconds\n",
      "Epoch: 10 | Train Loss: 0.55428 | Valid Loss: 0.56362 | Train Accs: 0.77922 | Valid Accs: 0.78282 | Time: 881.68 seconds\n",
      "Epoch: 11 | Train Loss: 0.52005 | Valid Loss: 0.54793 | Train Accs: 0.79178 | Valid Accs: 0.78003 | Time: 883.26 seconds\n",
      "Epoch: 12 | Train Loss: 0.50644 | Valid Loss: 0.53575 | Train Accs: 0.79676 | Valid Accs: 0.79295 | Time: 885.10 seconds\n",
      "Epoch: 13 | Train Loss: 0.47266 | Valid Loss: 0.52974 | Train Accs: 0.81019 | Valid Accs: 0.78212 | Time: 888.70 seconds\n",
      "Epoch: 14 | Train Loss: 0.44492 | Valid Loss: 0.56045 | Train Accs: 0.82258 | Valid Accs: 0.79225 | Time: 885.74 seconds\n",
      "Epoch: 15 | Train Loss: 0.41622 | Valid Loss: 0.56192 | Train Accs: 0.83339 | Valid Accs: 0.78841 | Time: 889.37 seconds\n",
      "Epoch: 16 | Train Loss: 0.38513 | Valid Loss: 0.59066 | Train Accs: 0.84656 | Valid Accs: 0.78177 | Time: 879.06 seconds\n",
      "Epoch: 17 | Train Loss: 0.34555 | Valid Loss: 0.57360 | Train Accs: 0.86593 | Valid Accs: 0.79155 | Time: 874.84 seconds\n",
      "Epoch: 18 | Train Loss: 0.31277 | Valid Loss: 0.62408 | Train Accs: 0.87727 | Valid Accs: 0.78736 | Time: 882.35 seconds\n",
      "\n",
      "Early Stopping at Epoch 19\n",
      "\n",
      "**************************************************\n",
      "\n",
      "Best Validation Loss at Epoch 13\n",
      "\n",
      "**************************************************\n",
      "\n",
      "Best Validation Accs at Epoch 12\n",
      "\n",
      "**************************************************\n",
      "\n",
      "Time Taken [19 Epochs] : 280.06 minutes\n",
      "\n",
      "**************************************************\n",
      "\n"
     ]
    },
    {
     "data": {
      "image/png": "[encoded data removed]",
      "text/plain": [
       "<Figure size 432x288 with 1 Axes>"
      ]
     },
     "metadata": {
      "needs_background": "light"
     },
     "output_type": "display_data"
    },
    {
     "name": "stdout",
     "output_type": "stream",
     "text": [
      "\n",
      "**************************************************\n",
      "\n"
     ]
    },
    {
     "data": {
      "image/png": "[encoded data removed]",
      "text/plain": [
       "<Figure size 432x288 with 1 Axes>"
      ]
     },
     "metadata": {
      "needs_background": "light"
     },
     "output_type": "display_data"
    },
    {
     "name": "stdout",
     "output_type": "stream",
     "text": [
      "\n",
      "**************************************************\n",
      "\n"
     ]
    },
    {
     "data": {
      "image/png": "[encoded data removed]",
      "text/plain": [
       "<Figure size 576x432 with 1 Axes>"
      ]
     },
     "metadata": {
      "needs_background": "light"
     },
     "output_type": "display_data"
    },
    {
     "name": "stdout",
     "output_type": "stream",
     "text": [
      "\n",
      "**************************************************\n",
      "\n"
     ]
    }
   ],
   "source": [
    "fold: int = 1\n",
    "BLs: list = []\n",
    "BAs: list = []\n",
    "    \n",
    "for tr_idx, va_idx in StratifiedKFold(n_splits=cfg.n_splits, random_state=cfg.seed, shuffle=True).split(filepaths, labels):\n",
    "    if fold == 4: break\n",
    "    fold += 1        \n",
    "        \n",
    "tr_filepaths, va_filepaths = filepaths[tr_idx], filepaths[va_idx] \n",
    "tr_labels, va_labels       = labels[tr_idx], labels[va_idx]\n",
    "\n",
    "tr_data_setup = DS(\n",
    "    filepaths=tr_filepaths, \n",
    "    labels=tr_labels.reshape(-1, 1),\n",
    "    size=cfg.size,\n",
    "    transform=cfg.train_transform)\n",
    "\n",
    "va_data_setup = DS(\n",
    "    filepaths=va_filepaths, \n",
    "    labels=va_labels.reshape(-1, 1),\n",
    "    size=cfg.size,\n",
    "    transform=cfg.valid_transform)\n",
    "\n",
    "dataloaders = {\n",
    "    \"train\" : DL(tr_data_setup, batch_size=cfg.batch_size, shuffle=True, generator=torch.manual_seed(cfg.seed)),\n",
    "    \"valid\" : DL(va_data_setup, batch_size=cfg.batch_size, shuffle=False),\n",
    "}\n",
    "\n",
    "cfg = CFG(\n",
    "    size=SIZE,\n",
    "    epochs=25, \n",
    "    early_stopping=5,\n",
    "    steps_per_epoch=len(dataloaders[\"train\"])\n",
    ")\n",
    "\n",
    "torch.manual_seed(cfg.seed)\n",
    "model = Model().to(cfg.device)\n",
    "\n",
    "optimizer = optim.Adam([p for p in model.parameters() if p.requires_grad], lr=cfg.lr, weight_decay=cfg.wd)\n",
    "# optimizer = optim.AdamW([p for p in model.parameters() if p.requires_grad], lr=cfg.lr, weight_decay=cfg.wd)\n",
    "# optimizer = optim.SGD([p for p in model.parameters() if p.requires_grad], lr=cfg.lr, weight_decay=cfg.wd, momentum=0.9)\n",
    "\n",
    "scheduler_oclr = optim.lr_scheduler.OneCycleLR(\n",
    "    optimizer=optimizer, \n",
    "    max_lr=cfg.max_lr, \n",
    "    epochs=cfg.epochs, \n",
    "    steps_per_epoch=cfg.steps_per_epoch,\n",
    "    pct_start=cfg.pct_start, \n",
    "    div_factor=cfg.div_factor, \n",
    "    final_div_factor=cfg.final_div_factor\n",
    ")\n",
    "\n",
    "# scheduler_rlrop = optim.lr_scheduler.ReduceLROnPlateau(\n",
    "#     optimizer=optimizer,\n",
    "#     patience=cfg.patience,\n",
    "#     eps=cfg.eps,\n",
    "#     verbose=True\n",
    "# )\n",
    "\n",
    "# scheduler_oclr = None\n",
    "scheduler_rlrop = None\n",
    "\n",
    "L, A, LR, BL, BA, _, _, _, _ = fit(\n",
    "    model=model, \n",
    "    optimizer=optimizer, \n",
    "    scheduler_oclr=scheduler_oclr,\n",
    "    scheduler_rlrop=scheduler_rlrop,\n",
    "    epochs=cfg.epochs, \n",
    "    early_stopping_patience=cfg.early_stopping, \n",
    "    dataloaders=dataloaders, \n",
    "    device=cfg.device,\n",
    "    save_path=cfg.save_path,\n",
    "    fold=fold,\n",
    "    verbose=True\n",
    ")\n",
    "\n",
    "breaker()\n",
    "show_loss_graphs(L)\n",
    "breaker()\n",
    "show_accuracy_graphs(A)\n",
    "breaker()\n",
    "if scheduler_oclr:\n",
    "    show_lr_graph(LR)\n",
    "    breaker()\n",
    "\n",
    "# BLs.append(BL)\n",
    "# BAs.append(BA)"
   ]
  },
  {
   "cell_type": "code",
   "execution_count": 11,
   "id": "47d08433",
   "metadata": {
    "execution": {
     "iopub.execute_input": "2022-10-02T15:04:29.668030Z",
     "iopub.status.busy": "2022-10-02T15:04:29.667730Z",
     "iopub.status.idle": "2022-10-02T15:04:29.672858Z",
     "shell.execute_reply": "2022-10-02T15:04:29.671947Z"
    },
    "papermill": {
     "duration": 0.014778,
     "end_time": "2022-10-02T15:04:29.675020",
     "exception": false,
     "start_time": "2022-10-02T15:04:29.660242",
     "status": "completed"
    },
    "tags": []
   },
   "outputs": [
    {
     "name": "stdout",
     "output_type": "stream",
     "text": [
      "\n",
      "**************************************************\n",
      "\n",
      "Best Loss      : 0.52974\n",
      "Best Accuracy  : 0.79295\n",
      "\n",
      "**************************************************\n",
      "\n"
     ]
    }
   ],
   "source": [
    "breaker()\n",
    "print(f\"Best Loss      : {BL['valid']:.5f}\")\n",
    "print(f\"Best Accuracy  : {BA['valid']:.5f}\")\n",
    "breaker()"
   ]
  },
  {
   "cell_type": "markdown",
   "id": "b2de6c2f",
   "metadata": {
    "papermill": {
     "duration": 0.006584,
     "end_time": "2022-10-02T15:04:29.688258",
     "exception": false,
     "start_time": "2022-10-02T15:04:29.681674",
     "status": "completed"
    },
    "tags": []
   },
   "source": [
    "### **Best Model**"
   ]
  },
  {
   "cell_type": "code",
   "execution_count": 12,
   "id": "b3567445",
   "metadata": {
    "execution": {
     "iopub.execute_input": "2022-10-02T15:04:29.703715Z",
     "iopub.status.busy": "2022-10-02T15:04:29.702303Z",
     "iopub.status.idle": "2022-10-02T15:04:29.707617Z",
     "shell.execute_reply": "2022-10-02T15:04:29.706770Z"
    },
    "papermill": {
     "duration": 0.014749,
     "end_time": "2022-10-02T15:04:29.709409",
     "exception": false,
     "start_time": "2022-10-02T15:04:29.694660",
     "status": "completed"
    },
    "tags": []
   },
   "outputs": [],
   "source": [
    "# BL = np.inf\n",
    "# for i in range(len(BLs)):\n",
    "#     if BLs[i][\"valid\"] < BL:\n",
    "#         BL = BLs[i][\"valid\"]\n",
    "#         best_loss_index = i\n",
    "\n",
    "        \n",
    "# BA = 0.0\n",
    "# for i in range(len(BAs)):\n",
    "#     if BAs[i][\"valid\"] > BA:\n",
    "#         BA = BAs[i][\"valid\"]\n",
    "#         best_accs_index = i\n",
    "\n",
    "# breaker()\n",
    "# print(f\"Best Loss Model Fold     : {best_loss_index + 1}\")\n",
    "# print(f\"Best Accuracy Model Fold : {best_accs_index + 1}\")\n",
    "# breaker()"
   ]
  },
  {
   "cell_type": "markdown",
   "id": "743e1d48",
   "metadata": {
    "papermill": {
     "duration": 0.006382,
     "end_time": "2022-10-02T15:04:29.722287",
     "exception": false,
     "start_time": "2022-10-02T15:04:29.715905",
     "status": "completed"
    },
    "tags": []
   },
   "source": [
    "### **Submit**"
   ]
  },
  {
   "cell_type": "code",
   "execution_count": 13,
   "id": "66263b67",
   "metadata": {
    "execution": {
     "iopub.execute_input": "2022-10-02T15:04:29.736876Z",
     "iopub.status.busy": "2022-10-02T15:04:29.736064Z",
     "iopub.status.idle": "2022-10-02T15:04:29.740807Z",
     "shell.execute_reply": "2022-10-02T15:04:29.739916Z"
    },
    "papermill": {
     "duration": 0.014387,
     "end_time": "2022-10-02T15:04:29.743114",
     "exception": false,
     "start_time": "2022-10-02T15:04:29.728727",
     "status": "completed"
    },
    "tags": []
   },
   "outputs": [],
   "source": [
    "# torch.manual_seed(cfg.seed)\n",
    "# model = Model().to(cfg.device)\n",
    "\n",
    "# ss_df = pd.read_csv(\"../input/4-animal-classification/Sample_submission.csv\")\n",
    "# ts_filenames = ss_df[\"ID\"]\n",
    "\n",
    "# ts_data_setup = DS(\n",
    "#     base_path=\"../input/4-animal-classification/test/test\", \n",
    "#     filenames=ts_filenames, \n",
    "#     size=cfg.size,\n",
    "#     transform=cfg.valid_transform,\n",
    "# )\n",
    "# ts_data = DL(ts_data_setup, batch_size=cfg.batch_size, shuffle=False)\n",
    "\n",
    "# y_pred = predict_batch(\n",
    "#     model=model,\n",
    "#     dataloader=ts_data,\n",
    "#     path=\"\",\n",
    "#     device=cfg.device\n",
    "# )\n",
    "\n",
    "# ss_df[\"Label\"] = y_pred.astype(\"uint8\")\n",
    "# ss_df.to_csv(\"submission.csv\", index=False)"
   ]
  }
 ],
 "metadata": {
  "kernelspec": {
   "display_name": "Python 3",
   "language": "python",
   "name": "python3"
  },
  "language_info": {
   "codemirror_mode": {
    "name": "ipython",
    "version": 3
   },
   "file_extension": ".py",
   "mimetype": "text/x-python",
   "name": "python",
   "nbconvert_exporter": "python",
   "pygments_lexer": "ipython3",
   "version": "3.7.12"
  },
  "papermill": {
   "default_parameters": {},
   "duration": 16836.529686,
   "end_time": "2022-10-02T15:04:31.395673",
   "environment_variables": {},
   "exception": null,
   "input_path": "__notebook__.ipynb",
   "output_path": "__notebook__.ipynb",
   "parameters": {},
   "start_time": "2022-10-02T10:23:54.865987",
   "version": "2.3.4"
  }
 },
 "nbformat": 4,
 "nbformat_minor": 5
}
