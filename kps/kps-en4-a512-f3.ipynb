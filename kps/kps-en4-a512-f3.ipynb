{
 "cells": [
  {
   "cell_type": "markdown",
   "id": "2466acbe",
   "metadata": {
    "_cell_guid": "b1076dfc-b9ad-4769-8c92-a6c4dae69d19",
    "_uuid": "8f2839f25d086af736a60e9eeb907d3b93b6e0e5",
    "papermill": {
     "duration": 0.005811,
     "end_time": "2022-10-02T10:23:41.746517",
     "exception": false,
     "start_time": "2022-10-02T10:23:41.740706",
     "status": "completed"
    },
    "tags": []
   },
   "source": [
    "### **Setup**"
   ]
  },
  {
   "cell_type": "code",
   "execution_count": 1,
   "id": "3e6c5f45",
   "metadata": {
    "execution": {
     "iopub.execute_input": "2022-10-02T10:23:41.757904Z",
     "iopub.status.busy": "2022-10-02T10:23:41.757384Z",
     "iopub.status.idle": "2022-10-02T10:23:52.924906Z",
     "shell.execute_reply": "2022-10-02T10:23:52.923196Z"
    },
    "papermill": {
     "duration": 11.177251,
     "end_time": "2022-10-02T10:23:52.928500",
     "exception": false,
     "start_time": "2022-10-02T10:23:41.751249",
     "status": "completed"
    },
    "tags": []
   },
   "outputs": [
    {
     "name": "stderr",
     "output_type": "stream",
     "text": [
      "WARNING: Running pip as the 'root' user can result in broken permissions and conflicting behaviour with the system package manager. It is recommended to use a virtual environment instead: https://pip.pypa.io/warnings/venv\n"
     ]
    }
   ],
   "source": [
    "%%bash\n",
    "pip install timm -q"
   ]
  },
  {
   "cell_type": "markdown",
   "id": "38cbc7ca",
   "metadata": {
    "papermill": {
     "duration": 0.004337,
     "end_time": "2022-10-02T10:23:52.937651",
     "exception": false,
     "start_time": "2022-10-02T10:23:52.933314",
     "status": "completed"
    },
    "tags": []
   },
   "source": [
    "### **Library Imports**"
   ]
  },
  {
   "cell_type": "code",
   "execution_count": 2,
   "id": "1ce79aaf",
   "metadata": {
    "execution": {
     "iopub.execute_input": "2022-10-02T10:23:52.948578Z",
     "iopub.status.busy": "2022-10-02T10:23:52.948233Z",
     "iopub.status.idle": "2022-10-02T10:23:56.909105Z",
     "shell.execute_reply": "2022-10-02T10:23:56.908022Z"
    },
    "papermill": {
     "duration": 3.969804,
     "end_time": "2022-10-02T10:23:56.912156",
     "exception": false,
     "start_time": "2022-10-02T10:23:52.942352",
     "status": "completed"
    },
    "tags": []
   },
   "outputs": [],
   "source": [
    "import os\n",
    "import re\n",
    "import cv2\n",
    "import timm\n",
    "import torch\n",
    "import numpy as np\n",
    "import pandas as pd\n",
    "import matplotlib.pyplot as plt\n",
    "\n",
    "from time import time\n",
    "from torch import nn, optim\n",
    "from torch.utils.data import Dataset\n",
    "from torch.utils.data import DataLoader as DL\n",
    "from torchvision import models, transforms\n",
    "\n",
    "from sklearn.model_selection import StratifiedKFold"
   ]
  },
  {
   "cell_type": "markdown",
   "id": "68c4166f",
   "metadata": {
    "papermill": {
     "duration": 0.004449,
     "end_time": "2022-10-02T10:23:56.921442",
     "exception": false,
     "start_time": "2022-10-02T10:23:56.916993",
     "status": "completed"
    },
    "tags": []
   },
   "source": [
    "### **Utilities and Helpers**"
   ]
  },
  {
   "cell_type": "code",
   "execution_count": 3,
   "id": "2bc7714d",
   "metadata": {
    "execution": {
     "iopub.execute_input": "2022-10-02T10:23:56.932210Z",
     "iopub.status.busy": "2022-10-02T10:23:56.931606Z",
     "iopub.status.idle": "2022-10-02T10:23:56.944133Z",
     "shell.execute_reply": "2022-10-02T10:23:56.943045Z"
    },
    "papermill": {
     "duration": 0.020784,
     "end_time": "2022-10-02T10:23:56.946750",
     "exception": false,
     "start_time": "2022-10-02T10:23:56.925966",
     "status": "completed"
    },
    "tags": []
   },
   "outputs": [],
   "source": [
    "SEED: int = 42\n",
    "SIZE: int = 512\n",
    "\n",
    "\n",
    "def breaker(num: int=50, char: str=\"*\") -> None:\n",
    "    print(\"\\n\" + num*char + \"\\n\")\n",
    "\n",
    "    \n",
    "def get_image(path: str, size: int=224) -> np.ndarray:\n",
    "    image = cv2.imread(path, cv2.IMREAD_COLOR)\n",
    "    image = cv2.cvtColor(src=image, code=cv2.COLOR_BGR2RGB)\n",
    "    return cv2.resize(src=image, dsize=(size, size), interpolation=cv2.INTER_AREA)\n",
    "\n",
    "\n",
    "def show_loss_graphs(L: list) -> None:\n",
    "    TL, VL = [], []\n",
    "    for i in range(len(L)):\n",
    "        TL.append(L[i][\"train\"])\n",
    "        VL.append(L[i][\"valid\"])\n",
    "    x_Axis = np.arange(1, len(TL) + 1)\n",
    "    plt.figure()\n",
    "    plt.plot(x_Axis, TL, \"r\", label=\"Train\")\n",
    "    plt.plot(x_Axis, VL, \"b\", label=\"Valid\")\n",
    "    plt.legend()\n",
    "    plt.grid()\n",
    "    plt.title(\"Loss Graph\")\n",
    "    plt.show()\n",
    "\n",
    "    \n",
    "def show_accuracy_graphs(A: list) -> None:\n",
    "    TA, VA = [], []\n",
    "    for i in range(len(A)):\n",
    "        TA.append(A[i][\"train\"])\n",
    "        VA.append(A[i][\"valid\"])\n",
    "    x_Axis = np.arange(1, len(TA) + 1)\n",
    "    plt.figure()\n",
    "    plt.plot(x_Axis, TA, \"r\", label=\"Train\")\n",
    "    plt.plot(x_Axis, VA, \"b\", label=\"Valid\")\n",
    "    plt.legend()\n",
    "    plt.grid()\n",
    "    plt.title(\"Accuracy Graph\")\n",
    "    plt.show()\n",
    "    \n",
    "\n",
    "def show_lr_graph(LR: list) -> None:\n",
    "    x_Axis = [i+1 for i in range(len(LR))]\n",
    "    plt.figure(figsize=(8, 6))\n",
    "    plt.plot(x_Axis, LR, \"rx\")\n",
    "    plt.grid()\n",
    "    plt.show()"
   ]
  },
  {
   "cell_type": "markdown",
   "id": "a063be2c",
   "metadata": {
    "papermill": {
     "duration": 0.004449,
     "end_time": "2022-10-02T10:23:56.955887",
     "exception": false,
     "start_time": "2022-10-02T10:23:56.951438",
     "status": "completed"
    },
    "tags": []
   },
   "source": [
    "### **Configuration**"
   ]
  },
  {
   "cell_type": "code",
   "execution_count": 4,
   "id": "d570a7ab",
   "metadata": {
    "execution": {
     "iopub.execute_input": "2022-10-02T10:23:56.966201Z",
     "iopub.status.busy": "2022-10-02T10:23:56.965858Z",
     "iopub.status.idle": "2022-10-02T10:23:57.041000Z",
     "shell.execute_reply": "2022-10-02T10:23:57.040259Z"
    },
    "papermill": {
     "duration": 0.082689,
     "end_time": "2022-10-02T10:23:57.043034",
     "exception": false,
     "start_time": "2022-10-02T10:23:56.960345",
     "status": "completed"
    },
    "tags": []
   },
   "outputs": [],
   "source": [
    "class CFG(object):\n",
    "    def __init__(self, \n",
    "                 seed: int = 42,\n",
    "                 size: int = 224,\n",
    "                 n_splits: int = 5,\n",
    "                 batch_size: int = 8,\n",
    "                 epochs: int = 25,\n",
    "                 early_stopping: int = 5,\n",
    "                 lr: float = 1e-4,\n",
    "                 wd: float = 0.0,\n",
    "                 max_lr: float = 1e-3,\n",
    "                 pct_start: float = 0.2,\n",
    "                 steps_per_epoch: int = 100,\n",
    "                 div_factor: int = 1e3, \n",
    "                 final_div_factor: float = 1e3,\n",
    "                 ):\n",
    "        self.seed = seed\n",
    "        self.size = size\n",
    "        self.n_splits = n_splits\n",
    "        self.batch_size = batch_size\n",
    "        self.epochs = epochs\n",
    "        self.early_stopping = early_stopping\n",
    "        self.lr = lr\n",
    "        self.wd = wd\n",
    "        self.max_lr = max_lr\n",
    "        self.pct_start = pct_start\n",
    "        self.steps_per_epoch = steps_per_epoch\n",
    "        self.div_factor = div_factor\n",
    "        self.final_div_factor = final_div_factor\n",
    "        self.device = torch.device(\"cuda\" if torch.cuda.is_available() else \"cpu\")\n",
    "        self.train_transform = transforms.Compose([\n",
    "            transforms.ToTensor(),\n",
    "            transforms.Normalize([0.81453, 0.79097, 0.69499], [0.06438, 0.10340, 0.20793]),\n",
    "            transforms.RandomAffine(degrees=(-45, 45), translate=(0.15, 0.15), scale=(0.5, 1.5)),\n",
    "            transforms.RandomHorizontalFlip(p=0.25),\n",
    "            transforms.RandomVerticalFlip(p=0.25),\n",
    "        ])\n",
    "        self.valid_transform = transforms.Compose([\n",
    "            transforms.ToTensor(),\n",
    "            transforms.Normalize([0.81453, 0.79097, 0.69499], [0.06438, 0.10340, 0.20793]),\n",
    "        ])\n",
    "                                \n",
    "        self.save_path = \"saves\"\n",
    "        if not os.path.exists(self.save_path): os.makedirs(self.save_path)\n",
    "    \n",
    "cfg = CFG(seed=SEED, size=SIZE)"
   ]
  },
  {
   "cell_type": "markdown",
   "id": "697f28e3",
   "metadata": {
    "papermill": {
     "duration": 0.004348,
     "end_time": "2022-10-02T10:23:57.052115",
     "exception": false,
     "start_time": "2022-10-02T10:23:57.047767",
     "status": "completed"
    },
    "tags": []
   },
   "source": [
    "### **Dataset Template**"
   ]
  },
  {
   "cell_type": "code",
   "execution_count": 5,
   "id": "91379583",
   "metadata": {
    "execution": {
     "iopub.execute_input": "2022-10-02T10:23:57.063045Z",
     "iopub.status.busy": "2022-10-02T10:23:57.062182Z",
     "iopub.status.idle": "2022-10-02T10:23:57.069873Z",
     "shell.execute_reply": "2022-10-02T10:23:57.069020Z"
    },
    "papermill": {
     "duration": 0.015335,
     "end_time": "2022-10-02T10:23:57.071922",
     "exception": false,
     "start_time": "2022-10-02T10:23:57.056587",
     "status": "completed"
    },
    "tags": []
   },
   "outputs": [],
   "source": [
    "class DS(Dataset):\n",
    "    def __init__(\n",
    "        self, \n",
    "        filepaths: np.ndarray, \n",
    "        labels: np.ndarray, \n",
    "        size: int,\n",
    "        transform=None):\n",
    "        \n",
    "        self.filepaths = filepaths\n",
    "        self.labels = labels\n",
    "        self.size = size\n",
    "        self.transform = transform\n",
    "    \n",
    "    def __len__(self):\n",
    "        return self.filepaths.shape[0]\n",
    "    \n",
    "    def __getitem__(self, idx):\n",
    "        image = get_image(self.filepaths[idx], self.size)\n",
    "        return self.transform(image), torch.LongTensor(self.labels[idx])"
   ]
  },
  {
   "cell_type": "code",
   "execution_count": 6,
   "id": "5893512b",
   "metadata": {
    "execution": {
     "iopub.execute_input": "2022-10-02T10:23:57.084200Z",
     "iopub.status.busy": "2022-10-02T10:23:57.082165Z",
     "iopub.status.idle": "2022-10-02T10:23:57.087931Z",
     "shell.execute_reply": "2022-10-02T10:23:57.087035Z"
    },
    "papermill": {
     "duration": 0.013413,
     "end_time": "2022-10-02T10:23:57.090039",
     "exception": false,
     "start_time": "2022-10-02T10:23:57.076626",
     "status": "completed"
    },
    "tags": []
   },
   "outputs": [],
   "source": [
    "# class DS(Dataset):\n",
    "#     def __init__(\n",
    "#         self, \n",
    "#         base_path: str,\n",
    "#         filenames: np.ndarray, \n",
    "#         size: int,\n",
    "#         transform=None):\n",
    "        \n",
    "#         self.base_path = base_path\n",
    "#         self.filenames = filenames\n",
    "#         self.size = size\n",
    "#         self.transform = transform\n",
    "    \n",
    "#     def __len__(self):\n",
    "#         return self.filenames.shape[0]\n",
    "    \n",
    "#     def __getitem__(self, idx):\n",
    "#         path = os.path.join(self.base_path, str(self.filenames[idx]) + \".png\")\n",
    "#         image = get_image(path, self.size)\n",
    "#         return self.transform(image)"
   ]
  },
  {
   "cell_type": "markdown",
   "id": "8ddcfc8e",
   "metadata": {
    "papermill": {
     "duration": 0.004432,
     "end_time": "2022-10-02T10:23:57.099845",
     "exception": false,
     "start_time": "2022-10-02T10:23:57.095413",
     "status": "completed"
    },
    "tags": []
   },
   "source": [
    "### **Model**"
   ]
  },
  {
   "cell_type": "code",
   "execution_count": 7,
   "id": "4f4972fb",
   "metadata": {
    "execution": {
     "iopub.execute_input": "2022-10-02T10:23:57.109967Z",
     "iopub.status.busy": "2022-10-02T10:23:57.109668Z",
     "iopub.status.idle": "2022-10-02T10:23:57.116487Z",
     "shell.execute_reply": "2022-10-02T10:23:57.115640Z"
    },
    "papermill": {
     "duration": 0.014373,
     "end_time": "2022-10-02T10:23:57.118628",
     "exception": false,
     "start_time": "2022-10-02T10:23:57.104255",
     "status": "completed"
    },
    "tags": []
   },
   "outputs": [],
   "source": [
    "class Model(nn.Module):\n",
    "    def __init__(self):\n",
    "        super(Model, self).__init__()\n",
    "            \n",
    "        self.model = timm.create_model(model_name=\"efficientnet_b4\", pretrained=True)\n",
    "        self.model.classifier = nn.Linear(in_features=self.model.classifier.in_features, out_features=4)\n",
    "            \n",
    "    def freeze(self):\n",
    "        for params in self.parameters(): params.requires_grad = False\n",
    "\n",
    "    def forward(self, x):\n",
    "        return nn.LogSoftmax(dim=1)(self.model(x))"
   ]
  },
  {
   "cell_type": "markdown",
   "id": "4663ce25",
   "metadata": {
    "papermill": {
     "duration": 0.004203,
     "end_time": "2022-10-02T10:23:57.127254",
     "exception": false,
     "start_time": "2022-10-02T10:23:57.123051",
     "status": "completed"
    },
    "tags": []
   },
   "source": [
    "### **Fit and Predict**"
   ]
  },
  {
   "cell_type": "code",
   "execution_count": 8,
   "id": "4215713a",
   "metadata": {
    "execution": {
     "iopub.execute_input": "2022-10-02T10:23:57.137726Z",
     "iopub.status.busy": "2022-10-02T10:23:57.137430Z",
     "iopub.status.idle": "2022-10-02T10:23:57.158920Z",
     "shell.execute_reply": "2022-10-02T10:23:57.158020Z"
    },
    "papermill": {
     "duration": 0.029469,
     "end_time": "2022-10-02T10:23:57.161170",
     "exception": false,
     "start_time": "2022-10-02T10:23:57.131701",
     "status": "completed"
    },
    "tags": []
   },
   "outputs": [],
   "source": [
    "def fit(model=None,\n",
    "        optimizer=None, \n",
    "        scheduler_rlrop=None,\n",
    "        scheduler_oclr=None,\n",
    "        epochs=None, \n",
    "        early_stopping_patience=None, \n",
    "        dataloaders=None, \n",
    "        fold=None, \n",
    "        save_path=None,\n",
    "        device=None,\n",
    "        verbose=False) -> tuple:\n",
    "    \n",
    "    def get_accuracy(y_pred, y_true):\n",
    "        y_pred = torch.argmax(y_pred, dim=1)\n",
    "        return torch.count_nonzero(y_pred == y_true).item() / len(y_pred)\n",
    "    \n",
    "    if verbose:\n",
    "        breaker()\n",
    "        if fold: print(f\"Training Fold {fold}...\")\n",
    "        else: print(\"Training ...\")\n",
    "        breaker()\n",
    "        \n",
    "    bestLoss: dict = {\"train\" : np.inf, \"valid\" : np.inf} \n",
    "    bestAccs: dict = {\"train\" : 0.0, \"valid\" : 0.0}\n",
    "        \n",
    "    Losses: list = []\n",
    "    Accuracies: list = [] \n",
    "    LRs: list = []\n",
    "        \n",
    "    if fold: \n",
    "        ble_name = f\"ble_state_fold_{fold}.pt\"\n",
    "        bae_name = f\"bae_state_fold_{fold}.pt\"\n",
    "    else: \n",
    "        ble_name = f\"ble_state.pt\"\n",
    "        bae_name = f\"bae_state.pt\"\n",
    "    \n",
    "    start_time = time()\n",
    "    for e in range(epochs):\n",
    "        e_st = time()\n",
    "        epochLoss: dict = {\"train\" : 0.0, \"valid\" : 0.0} \n",
    "        epochAccs: dict = {\"train\" : 0.0, \"valid\" : 0.0}\n",
    "\n",
    "        for phase in [\"train\", \"valid\"]:\n",
    "            if phase == \"train\":\n",
    "                model.train()\n",
    "            else:\n",
    "                model.eval()\n",
    "            \n",
    "            lossPerPass: list = []\n",
    "            accsPerPass: list = []\n",
    "                \n",
    "            for X, y in dataloaders[phase]:\n",
    "                X, y = X.to(device), y.to(device).view(-1)\n",
    "\n",
    "                optimizer.zero_grad()\n",
    "                with torch.set_grad_enabled(phase == \"train\"):\n",
    "                    output = model(X)\n",
    "                    loss = torch.nn.NLLLoss()(output, y)\n",
    "                    if phase == \"train\":\n",
    "                        loss.backward()\n",
    "                        optimizer.step()\n",
    "                        if scheduler_oclr: scheduler_oclr.step()\n",
    "                lossPerPass.append(loss.item())\n",
    "                accsPerPass.append(get_accuracy(output, y))\n",
    "            epochLoss[phase] = np.mean(np.array(lossPerPass))\n",
    "            epochAccs[phase] = np.mean(np.array(accsPerPass))\n",
    "        if scheduler_oclr: LRs.append(scheduler_oclr.get_last_lr())\n",
    "        Losses.append(epochLoss)\n",
    "        Accuracies.append(epochAccs)\n",
    "    \n",
    "        if scheduler_oclr:\n",
    "            save_dict = {\"model_state_dict\"     : model.state_dict(),\n",
    "                         \"optim_state_dict\"     : optimizer.state_dict(),\n",
    "                         \"scheduler_state_dict\" : scheduler_oclr.state_dict()}\n",
    "        \n",
    "        elif scheduler_rlrop:\n",
    "            save_dict = {\"model_state_dict\"     : model.state_dict(),\n",
    "                         \"optim_state_dict\"     : optimizer.state_dict(),\n",
    "                         \"scheduler_state_dict\" : scheduler_rlrop.state_dict()}\n",
    "        \n",
    "        else:\n",
    "            save_dict = {\"model_state_dict\"     : model.state_dict(),\n",
    "                         \"optim_state_dict\"     : optimizer.state_dict()}\n",
    "        \n",
    "        \n",
    "        if early_stopping_patience:\n",
    "            if epochLoss[\"valid\"] < bestLoss[\"valid\"]:\n",
    "                bestLoss = epochLoss\n",
    "                BLE = e + 1\n",
    "                torch.save(save_dict, os.path.join(save_path, ble_name))\n",
    "                torch.save(save_dict, os.path.join(save_path, bae_name))\n",
    "                early_stopping_step = 0\n",
    "            else:\n",
    "                early_stopping_step += 1\n",
    "                if early_stopping_step > early_stopping_patience:\n",
    "                    print(\"\\nEarly Stopping at Epoch {}\".format(e + 1))\n",
    "                    break\n",
    "        \n",
    "        if epochLoss[\"valid\"] < bestLoss[\"valid\"]:\n",
    "            bestLoss = epochLoss\n",
    "            BLE = e + 1\n",
    "            torch.save(save_dict,os.path.join(save_path, ble_name))\n",
    "        \n",
    "        if epochAccs[\"valid\"] > bestAccs[\"valid\"]:\n",
    "            bestAccs = epochAccs\n",
    "            BAE = e + 1\n",
    "            torch.save(save_dict,os.path.join(save_path, bae_name))\n",
    "        \n",
    "        if scheduler_rlrop: scheduler_rlrop.step(epochLoss[\"valid\"])\n",
    "        \n",
    "        if verbose:\n",
    "            print(\"Epoch: {} | Train Loss: {:.5f} | Valid Loss: {:.5f} |\\\n",
    " Train Accs: {:.5f} | Valid Accs: {:.5f} | Time: {:.2f} seconds\".format(e+1, \n",
    "                                                                        epochLoss[\"train\"], epochLoss[\"valid\"], \n",
    "                                                                        epochAccs[\"train\"], epochAccs[\"valid\"], \n",
    "                                                                        time()-e_st))\n",
    "\n",
    "    if verbose:                                           \n",
    "        breaker()\n",
    "        print(f\"Best Validation Loss at Epoch {BLE}\")\n",
    "        breaker()\n",
    "        print(f\"Best Validation Accs at Epoch {BAE}\")\n",
    "        breaker()\n",
    "        print(\"Time Taken [{} Epochs] : {:.2f} minutes\".format(len(Losses), (time()-start_time)/60))\n",
    "    \n",
    "    return Losses, Accuracies, LRs, bestLoss, bestAccs, BLE, BAE, ble_name, bae_name\n",
    "\n",
    "\n",
    "# def predict_batch(model=None, dataloader=None, path=None, device=None) -> np.ndarray:\n",
    "#     model.load_state_dict(torch.load(path, map_location=device)[\"model_state_dict\"])\n",
    "#     model.to(device)    \n",
    "#     model.eval()\n",
    "    \n",
    "#     y_pred = torch.zeros(1, 1).to(device)\n",
    "    \n",
    "#     for X in dataloader:\n",
    "#         X = X.to(device)\n",
    "#         with torch.no_grad():\n",
    "#             output = torch.argmax(torch.exp(model(X)), dim=1)\n",
    "#         y_pred = torch.cat((y_pred, output.view(-1, 1)), dim=0)\n",
    "    \n",
    "#     return y_pred[1:].detach().cpu().numpy()"
   ]
  },
  {
   "cell_type": "markdown",
   "id": "5f4be657",
   "metadata": {
    "papermill": {
     "duration": 0.00434,
     "end_time": "2022-10-02T10:23:57.170081",
     "exception": false,
     "start_time": "2022-10-02T10:23:57.165741",
     "status": "completed"
    },
    "tags": []
   },
   "source": [
    "### **Train**"
   ]
  },
  {
   "cell_type": "code",
   "execution_count": 9,
   "id": "73a84a8c",
   "metadata": {
    "execution": {
     "iopub.execute_input": "2022-10-02T10:23:57.180221Z",
     "iopub.status.busy": "2022-10-02T10:23:57.179891Z",
     "iopub.status.idle": "2022-10-02T10:23:57.249356Z",
     "shell.execute_reply": "2022-10-02T10:23:57.248304Z"
    },
    "papermill": {
     "duration": 0.077279,
     "end_time": "2022-10-02T10:23:57.251780",
     "exception": false,
     "start_time": "2022-10-02T10:23:57.174501",
     "status": "completed"
    },
    "tags": []
   },
   "outputs": [],
   "source": [
    "df = pd.read_csv(\"../input/kps-dataframe/dataframe.csv\")\n",
    "\n",
    "filepaths = df.filepaths.copy().values\n",
    "labels = df.label_index.copy().values"
   ]
  },
  {
   "cell_type": "code",
   "execution_count": 10,
   "id": "56b833a6",
   "metadata": {
    "execution": {
     "iopub.execute_input": "2022-10-02T10:23:57.264354Z",
     "iopub.status.busy": "2022-10-02T10:23:57.262585Z",
     "iopub.status.idle": "2022-10-02T14:11:50.335936Z",
     "shell.execute_reply": "2022-10-02T14:11:50.334989Z"
    },
    "papermill": {
     "duration": 13673.081253,
     "end_time": "2022-10-02T14:11:50.338046",
     "exception": false,
     "start_time": "2022-10-02T10:23:57.256793",
     "status": "completed"
    },
    "tags": []
   },
   "outputs": [
    {
     "name": "stderr",
     "output_type": "stream",
     "text": [
      "Downloading: \"https://github.com/rwightman/pytorch-image-models/releases/download/v0.1-weights/efficientnet_b4_ra2_320-7eb33cd5.pth\" to /root/.cache/torch/hub/checkpoints/efficientnet_b4_ra2_320-7eb33cd5.pth\n"
     ]
    },
    {
     "name": "stdout",
     "output_type": "stream",
     "text": [
      "\n",
      "**************************************************\n",
      "\n",
      "Training Fold 3...\n",
      "\n",
      "**************************************************\n",
      "\n",
      "Epoch: 1 | Train Loss: 1.19182 | Valid Loss: 0.86759 | Train Accs: 0.46964 | Valid Accs: 0.62814 | Time: 987.39 seconds\n",
      "Epoch: 2 | Train Loss: 0.79566 | Valid Loss: 0.66579 | Train Accs: 0.67568 | Valid Accs: 0.74162 | Time: 907.47 seconds\n",
      "Epoch: 3 | Train Loss: 0.70150 | Valid Loss: 0.69780 | Train Accs: 0.71642 | Valid Accs: 0.72416 | Time: 909.40 seconds\n",
      "Epoch: 4 | Train Loss: 0.67891 | Valid Loss: 0.82258 | Train Accs: 0.72749 | Valid Accs: 0.71473 | Time: 910.38 seconds\n",
      "Epoch: 5 | Train Loss: 0.66022 | Valid Loss: 0.79968 | Train Accs: 0.73264 | Valid Accs: 0.69448 | Time: 906.71 seconds\n",
      "Epoch: 6 | Train Loss: 0.62804 | Valid Loss: 0.61038 | Train Accs: 0.75087 | Valid Accs: 0.75384 | Time: 909.98 seconds\n",
      "Epoch: 7 | Train Loss: 0.59590 | Valid Loss: 0.67031 | Train Accs: 0.76160 | Valid Accs: 0.74232 | Time: 909.36 seconds\n",
      "Epoch: 8 | Train Loss: 0.58860 | Valid Loss: 0.60042 | Train Accs: 0.76518 | Valid Accs: 0.76362 | Time: 910.72 seconds\n",
      "Epoch: 9 | Train Loss: 0.56374 | Valid Loss: 0.57233 | Train Accs: 0.77373 | Valid Accs: 0.77165 | Time: 910.94 seconds\n",
      "Epoch: 10 | Train Loss: 0.54030 | Valid Loss: 0.67359 | Train Accs: 0.78114 | Valid Accs: 0.75175 | Time: 909.06 seconds\n",
      "Epoch: 11 | Train Loss: 0.51153 | Valid Loss: 0.62565 | Train Accs: 0.79440 | Valid Accs: 0.75943 | Time: 910.17 seconds\n",
      "Epoch: 12 | Train Loss: 0.48588 | Valid Loss: 0.61198 | Train Accs: 0.80705 | Valid Accs: 0.76676 | Time: 909.62 seconds\n",
      "Epoch: 13 | Train Loss: 0.46460 | Valid Loss: 0.57884 | Train Accs: 0.81368 | Valid Accs: 0.77479 | Time: 893.10 seconds\n",
      "Epoch: 14 | Train Loss: 0.42915 | Valid Loss: 0.60657 | Train Accs: 0.82903 | Valid Accs: 0.77165 | Time: 887.74 seconds\n",
      "\n",
      "Early Stopping at Epoch 15\n",
      "\n",
      "**************************************************\n",
      "\n",
      "Best Validation Loss at Epoch 9\n",
      "\n",
      "**************************************************\n",
      "\n",
      "Best Validation Accs at Epoch 13\n",
      "\n",
      "**************************************************\n",
      "\n",
      "Time Taken [15 Epochs] : 227.77 minutes\n",
      "\n",
      "**************************************************\n",
      "\n"
     ]
    },
    {
     "data": {
      "image/png": "[encoded data removed]",
      "text/plain": [
       "<Figure size 432x288 with 1 Axes>"
      ]
     },
     "metadata": {
      "needs_background": "light"
     },
     "output_type": "display_data"
    },
    {
     "name": "stdout",
     "output_type": "stream",
     "text": [
      "\n",
      "**************************************************\n",
      "\n"
     ]
    },
    {
     "data": {
      "image/png": "[encoded data removed]",
      "text/plain": [
       "<Figure size 432x288 with 1 Axes>"
      ]
     },
     "metadata": {
      "needs_background": "light"
     },
     "output_type": "display_data"
    },
    {
     "name": "stdout",
     "output_type": "stream",
     "text": [
      "\n",
      "**************************************************\n",
      "\n"
     ]
    },
    {
     "data": {
      "image/png": "[encoded data removed]",
      "text/plain": [
       "<Figure size 576x432 with 1 Axes>"
      ]
     },
     "metadata": {
      "needs_background": "light"
     },
     "output_type": "display_data"
    },
    {
     "name": "stdout",
     "output_type": "stream",
     "text": [
      "\n",
      "**************************************************\n",
      "\n"
     ]
    }
   ],
   "source": [
    "fold: int = 1\n",
    "BLs: list = []\n",
    "BAs: list = []\n",
    "    \n",
    "for tr_idx, va_idx in StratifiedKFold(n_splits=cfg.n_splits, random_state=cfg.seed, shuffle=True).split(filepaths, labels):\n",
    "    if fold == 3: break\n",
    "    fold += 1        \n",
    "        \n",
    "tr_filepaths, va_filepaths = filepaths[tr_idx], filepaths[va_idx] \n",
    "tr_labels, va_labels       = labels[tr_idx], labels[va_idx]\n",
    "\n",
    "tr_data_setup = DS(\n",
    "    filepaths=tr_filepaths, \n",
    "    labels=tr_labels.reshape(-1, 1),\n",
    "    size=cfg.size,\n",
    "    transform=cfg.train_transform)\n",
    "\n",
    "va_data_setup = DS(\n",
    "    filepaths=va_filepaths, \n",
    "    labels=va_labels.reshape(-1, 1),\n",
    "    size=cfg.size,\n",
    "    transform=cfg.valid_transform)\n",
    "\n",
    "dataloaders = {\n",
    "    \"train\" : DL(tr_data_setup, batch_size=cfg.batch_size, shuffle=True, generator=torch.manual_seed(cfg.seed)),\n",
    "    \"valid\" : DL(va_data_setup, batch_size=cfg.batch_size, shuffle=False),\n",
    "}\n",
    "\n",
    "cfg = CFG(\n",
    "    size=SIZE,\n",
    "    epochs=25, \n",
    "    early_stopping=5,\n",
    "    steps_per_epoch=len(dataloaders[\"train\"])\n",
    ")\n",
    "\n",
    "torch.manual_seed(cfg.seed)\n",
    "model = Model().to(cfg.device)\n",
    "\n",
    "optimizer = optim.Adam([p for p in model.parameters() if p.requires_grad], lr=cfg.lr, weight_decay=cfg.wd)\n",
    "# optimizer = optim.AdamW([p for p in model.parameters() if p.requires_grad], lr=cfg.lr, weight_decay=cfg.wd)\n",
    "# optimizer = optim.SGD([p for p in model.parameters() if p.requires_grad], lr=cfg.lr, weight_decay=cfg.wd, momentum=0.9)\n",
    "\n",
    "scheduler_oclr = optim.lr_scheduler.OneCycleLR(\n",
    "    optimizer=optimizer, \n",
    "    max_lr=cfg.max_lr, \n",
    "    epochs=cfg.epochs, \n",
    "    steps_per_epoch=cfg.steps_per_epoch,\n",
    "    pct_start=cfg.pct_start, \n",
    "    div_factor=cfg.div_factor, \n",
    "    final_div_factor=cfg.final_div_factor\n",
    ")\n",
    "\n",
    "# scheduler_rlrop = optim.lr_scheduler.ReduceLROnPlateau(\n",
    "#     optimizer=optimizer,\n",
    "#     patience=cfg.patience,\n",
    "#     eps=cfg.eps,\n",
    "#     verbose=True\n",
    "# )\n",
    "\n",
    "# scheduler_oclr = None\n",
    "scheduler_rlrop = None\n",
    "\n",
    "L, A, LR, BL, BA, _, _, _, _ = fit(\n",
    "    model=model, \n",
    "    optimizer=optimizer, \n",
    "    scheduler_oclr=scheduler_oclr,\n",
    "    scheduler_rlrop=scheduler_rlrop,\n",
    "    epochs=cfg.epochs, \n",
    "    early_stopping_patience=cfg.early_stopping, \n",
    "    dataloaders=dataloaders, \n",
    "    device=cfg.device,\n",
    "    save_path=cfg.save_path,\n",
    "    fold=fold,\n",
    "    verbose=True\n",
    ")\n",
    "\n",
    "breaker()\n",
    "show_loss_graphs(L)\n",
    "breaker()\n",
    "show_accuracy_graphs(A)\n",
    "breaker()\n",
    "if scheduler_oclr:\n",
    "    show_lr_graph(LR)\n",
    "    breaker()\n",
    "\n",
    "# BLs.append(BL)\n",
    "# BAs.append(BA)"
   ]
  },
  {
   "cell_type": "code",
   "execution_count": 11,
   "id": "3a29dcb8",
   "metadata": {
    "execution": {
     "iopub.execute_input": "2022-10-02T14:11:50.352927Z",
     "iopub.status.busy": "2022-10-02T14:11:50.352212Z",
     "iopub.status.idle": "2022-10-02T14:11:50.359485Z",
     "shell.execute_reply": "2022-10-02T14:11:50.358621Z"
    },
    "papermill": {
     "duration": 0.017128,
     "end_time": "2022-10-02T14:11:50.361662",
     "exception": false,
     "start_time": "2022-10-02T14:11:50.344534",
     "status": "completed"
    },
    "tags": []
   },
   "outputs": [
    {
     "name": "stdout",
     "output_type": "stream",
     "text": [
      "\n",
      "**************************************************\n",
      "\n",
      "Best Loss      : 0.57233\n",
      "Best Accuracy  : 0.77479\n",
      "\n",
      "**************************************************\n",
      "\n"
     ]
    }
   ],
   "source": [
    "breaker()\n",
    "print(f\"Best Loss      : {BL['valid']:.5f}\")\n",
    "print(f\"Best Accuracy  : {BA['valid']:.5f}\")\n",
    "breaker()"
   ]
  },
  {
   "cell_type": "markdown",
   "id": "31b89806",
   "metadata": {
    "papermill": {
     "duration": 0.006143,
     "end_time": "2022-10-02T14:11:50.374041",
     "exception": false,
     "start_time": "2022-10-02T14:11:50.367898",
     "status": "completed"
    },
    "tags": []
   },
   "source": [
    "### **Best Model**"
   ]
  },
  {
   "cell_type": "code",
   "execution_count": 12,
   "id": "55b77f25",
   "metadata": {
    "execution": {
     "iopub.execute_input": "2022-10-02T14:11:50.387957Z",
     "iopub.status.busy": "2022-10-02T14:11:50.387694Z",
     "iopub.status.idle": "2022-10-02T14:11:50.391858Z",
     "shell.execute_reply": "2022-10-02T14:11:50.390898Z"
    },
    "papermill": {
     "duration": 0.013612,
     "end_time": "2022-10-02T14:11:50.393950",
     "exception": false,
     "start_time": "2022-10-02T14:11:50.380338",
     "status": "completed"
    },
    "tags": []
   },
   "outputs": [],
   "source": [
    "# BL = np.inf\n",
    "# for i in range(len(BLs)):\n",
    "#     if BLs[i][\"valid\"] < BL:\n",
    "#         BL = BLs[i][\"valid\"]\n",
    "#         best_loss_index = i\n",
    "\n",
    "        \n",
    "# BA = 0.0\n",
    "# for i in range(len(BAs)):\n",
    "#     if BAs[i][\"valid\"] > BA:\n",
    "#         BA = BAs[i][\"valid\"]\n",
    "#         best_accs_index = i\n",
    "\n",
    "# breaker()\n",
    "# print(f\"Best Loss Model Fold     : {best_loss_index + 1}\")\n",
    "# print(f\"Best Accuracy Model Fold : {best_accs_index + 1}\")\n",
    "# breaker()"
   ]
  },
  {
   "cell_type": "markdown",
   "id": "4badd600",
   "metadata": {
    "papermill": {
     "duration": 0.006415,
     "end_time": "2022-10-02T14:11:50.406814",
     "exception": false,
     "start_time": "2022-10-02T14:11:50.400399",
     "status": "completed"
    },
    "tags": []
   },
   "source": [
    "### **Submit**"
   ]
  },
  {
   "cell_type": "code",
   "execution_count": 13,
   "id": "b5deed8b",
   "metadata": {
    "execution": {
     "iopub.execute_input": "2022-10-02T14:11:50.421100Z",
     "iopub.status.busy": "2022-10-02T14:11:50.420795Z",
     "iopub.status.idle": "2022-10-02T14:11:50.425327Z",
     "shell.execute_reply": "2022-10-02T14:11:50.424273Z"
    },
    "papermill": {
     "duration": 0.013718,
     "end_time": "2022-10-02T14:11:50.427325",
     "exception": false,
     "start_time": "2022-10-02T14:11:50.413607",
     "status": "completed"
    },
    "tags": []
   },
   "outputs": [],
   "source": [
    "# torch.manual_seed(cfg.seed)\n",
    "# model = Model().to(cfg.device)\n",
    "\n",
    "# ss_df = pd.read_csv(\"../input/4-animal-classification/Sample_submission.csv\")\n",
    "# ts_filenames = ss_df[\"ID\"]\n",
    "\n",
    "# ts_data_setup = DS(\n",
    "#     base_path=\"../input/4-animal-classification/test/test\", \n",
    "#     filenames=ts_filenames, \n",
    "#     size=cfg.size,\n",
    "#     transform=cfg.valid_transform,\n",
    "# )\n",
    "# ts_data = DL(ts_data_setup, batch_size=cfg.batch_size, shuffle=False)\n",
    "\n",
    "# y_pred = predict_batch(\n",
    "#     model=model,\n",
    "#     dataloader=ts_data,\n",
    "#     path=\"\",\n",
    "#     device=cfg.device\n",
    "# )\n",
    "\n",
    "# ss_df[\"Label\"] = y_pred.astype(\"uint8\")\n",
    "# ss_df.to_csv(\"submission.csv\", index=False)"
   ]
  }
 ],
 "metadata": {
  "kernelspec": {
   "display_name": "Python 3",
   "language": "python",
   "name": "python3"
  },
  "language_info": {
   "codemirror_mode": {
    "name": "ipython",
    "version": 3
   },
   "file_extension": ".py",
   "mimetype": "text/x-python",
   "name": "python",
   "nbconvert_exporter": "python",
   "pygments_lexer": "ipython3",
   "version": "3.7.12"
  },
  "papermill": {
   "default_parameters": {},
   "duration": 13698.066806,
   "end_time": "2022-10-02T14:11:52.079327",
   "environment_variables": {},
   "exception": null,
   "input_path": "__notebook__.ipynb",
   "output_path": "__notebook__.ipynb",
   "parameters": {},
   "start_time": "2022-10-02T10:23:34.012521",
   "version": "2.3.4"
  }
 },
 "nbformat": 4,
 "nbformat_minor": 5
}
