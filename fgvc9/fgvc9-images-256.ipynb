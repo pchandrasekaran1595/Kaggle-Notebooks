{
 "cells": [
  {
   "cell_type": "code",
   "execution_count": 1,
   "id": "d24882f3",
   "metadata": {
    "_cell_guid": "b1076dfc-b9ad-4769-8c92-a6c4dae69d19",
    "_uuid": "8f2839f25d086af736a60e9eeb907d3b93b6e0e5",
    "execution": {
     "iopub.execute_input": "2022-03-28T14:50:33.780780Z",
     "iopub.status.busy": "2022-03-28T14:50:33.779342Z",
     "iopub.status.idle": "2022-03-28T14:50:33.783074Z",
     "shell.execute_reply": "2022-03-28T14:50:33.782382Z",
     "shell.execute_reply.started": "2022-03-28T14:27:37.306775Z"
    },
    "papermill": {
     "duration": 0.017964,
     "end_time": "2022-03-28T14:50:33.783236",
     "exception": false,
     "start_time": "2022-03-28T14:50:33.765272",
     "status": "completed"
    },
    "tags": []
   },
   "outputs": [],
   "source": [
    "# %%bash\n",
    "# pip install --upgrade imgaug -q"
   ]
  },
  {
   "cell_type": "code",
   "execution_count": 2,
   "id": "9c6e8547",
   "metadata": {
    "execution": {
     "iopub.execute_input": "2022-03-28T14:50:33.805455Z",
     "iopub.status.busy": "2022-03-28T14:50:33.804812Z",
     "iopub.status.idle": "2022-03-28T14:50:33.807799Z",
     "shell.execute_reply": "2022-03-28T14:50:33.807139Z",
     "shell.execute_reply.started": "2022-03-28T14:27:45.514446Z"
    },
    "papermill": {
     "duration": 0.017735,
     "end_time": "2022-03-28T14:50:33.807967",
     "exception": false,
     "start_time": "2022-03-28T14:50:33.790232",
     "status": "completed"
    },
    "tags": []
   },
   "outputs": [],
   "source": [
    "from time import time\n",
    "notebook_start_time = time()"
   ]
  },
  {
   "cell_type": "code",
   "execution_count": 3,
   "id": "7023cf37",
   "metadata": {
    "execution": {
     "iopub.execute_input": "2022-03-28T14:50:33.827075Z",
     "iopub.status.busy": "2022-03-28T14:50:33.826307Z",
     "iopub.status.idle": "2022-03-28T14:50:35.181714Z",
     "shell.execute_reply": "2022-03-28T14:50:35.182208Z",
     "shell.execute_reply.started": "2022-03-28T14:27:49.600510Z"
    },
    "papermill": {
     "duration": 1.367546,
     "end_time": "2022-03-28T14:50:35.182398",
     "exception": false,
     "start_time": "2022-03-28T14:50:33.814852",
     "status": "completed"
    },
    "tags": []
   },
   "outputs": [],
   "source": [
    "import os\n",
    "import cv2\n",
    "# import imgaug\n",
    "import numpy as np\n",
    "import pandas as pd\n",
    "# from imgaug import augmenters\n",
    "from sklearn.preprocessing import LabelEncoder\n",
    "\n",
    "SIZE = 256\n",
    "SEED = 42\n",
    "le = LabelEncoder()"
   ]
  },
  {
   "cell_type": "code",
   "execution_count": 4,
   "id": "79a429c2",
   "metadata": {
    "execution": {
     "iopub.execute_input": "2022-03-28T14:50:35.204969Z",
     "iopub.status.busy": "2022-03-28T14:50:35.203508Z",
     "iopub.status.idle": "2022-03-28T14:50:35.205620Z",
     "shell.execute_reply": "2022-03-28T14:50:35.206060Z",
     "shell.execute_reply.started": "2022-03-28T14:47:00.383621Z"
    },
    "papermill": {
     "duration": 0.016979,
     "end_time": "2022-03-28T14:50:35.206228",
     "exception": false,
     "start_time": "2022-03-28T14:50:35.189249",
     "status": "completed"
    },
    "tags": []
   },
   "outputs": [],
   "source": [
    "def get_image(path: str, size: int) -> np.ndarray:\n",
    "    image = cv2.imread(path, cv2.IMREAD_COLOR)\n",
    "    image = cv2.cvtColor(src=image, code=cv2.COLOR_BGR2RGB)\n",
    "    return cv2.resize(src=image, dsize=(size, size), interpolation=cv2.INTER_AREA)\n",
    "\n",
    "\n",
    "def get_images(path: str, filenames: list, size: int) -> np.ndarray:\n",
    "    images = np.zeros((len(filenames), size, size, 3), dtype=np.uint8)\n",
    "    i = 0\n",
    "    for filename in filenames:\n",
    "        images[i] = get_image(os.path.join(path, filename), size)\n",
    "        i += 1\n",
    "    return images\n",
    "\n",
    "\n",
    "# def get_augment(seed: int = 42):\n",
    "#     imgaug.seed(seed)\n",
    "#     augment = augmenters.Sequential([\n",
    "#         augmenters.Fliplr(0.25, seed=seed,),\n",
    "#         augmenters.Flipud(0.25, seed=seed,),\n",
    "#         augmenters.Affine(scale=(0.9, 1.1), translate_percent=(-0.1, 0.1), rotate=(-45, 45), seed=seed),\n",
    "#     ])\n",
    "    \n",
    "#     return augment"
   ]
  },
  {
   "cell_type": "code",
   "execution_count": 5,
   "id": "91061f8c",
   "metadata": {
    "execution": {
     "iopub.execute_input": "2022-03-28T14:50:35.225937Z",
     "iopub.status.busy": "2022-03-28T14:50:35.225270Z",
     "iopub.status.idle": "2022-03-28T14:50:35.281924Z",
     "shell.execute_reply": "2022-03-28T14:50:35.282378Z"
    },
    "papermill": {
     "duration": 0.069658,
     "end_time": "2022-03-28T14:50:35.282600",
     "exception": false,
     "start_time": "2022-03-28T14:50:35.212942",
     "status": "completed"
    },
    "tags": []
   },
   "outputs": [],
   "source": [
    "train_df = pd.read_csv(\"../input/sorghum-id-fgvc-9/train_cultivar_mapping.csv\")\n",
    "train_df = train_df.drop(index=train_df.index[train_df.image == \".DS_Store\"])\n",
    "\n",
    "filenames = train_df.image.copy().values\n",
    "labels    = train_df.cultivar.copy().values \n",
    "labels = le.fit_transform(labels)\n",
    "np.save(\"labels.npy\", labels)"
   ]
  },
  {
   "cell_type": "code",
   "execution_count": 6,
   "id": "9bd599c7",
   "metadata": {
    "execution": {
     "iopub.execute_input": "2022-03-28T14:50:35.299447Z",
     "iopub.status.busy": "2022-03-28T14:50:35.298854Z",
     "iopub.status.idle": "2022-03-28T14:50:35.303488Z",
     "shell.execute_reply": "2022-03-28T14:50:35.303005Z",
     "shell.execute_reply.started": "2022-03-28T14:49:18.519788Z"
    },
    "papermill": {
     "duration": 0.014183,
     "end_time": "2022-03-28T14:50:35.303637",
     "exception": false,
     "start_time": "2022-03-28T14:50:35.289454",
     "status": "completed"
    },
    "tags": []
   },
   "outputs": [],
   "source": [
    "# images = get_images(\"../input/sorghum-id-fgvc-9/train_images\", filenames, SIZE)\n",
    "# np.save(f\"images_{SIZE}.npy\", images)\n",
    "\n",
    "# print(\"Normal Images\\n\")\n",
    "# print(f\"Red Channel Mean   : {images[:, :, 0].mean():.5f}\")\n",
    "# print(f\"Green Channel Mean : {images[:, :, 1].mean():.5f}\")\n",
    "# print(f\"Blue Channel Mean  : {images[:, :, 2].mean():.5f}\")\n",
    "# print(\"\")\n",
    "# print(f\"Red Channel Std    : {images[:, :, 0].std():.5f}\")\n",
    "# print(f\"Green Channel Std  : {images[:, :, 1].std():.5f}\")\n",
    "# print(f\"Blue Channel Std   : {images[:, :, 2].std():.5f}\")\n",
    "\n",
    "# ds_augmenter = get_augment(SEED)\n",
    "# augmented_images = ds_augmenter(images=images)\n",
    "# np.save(f\"augmented_images_{SIZE}.npy\", augmented_images)\n",
    "# print(\"Augmented Images\\n\")\n",
    "# print(f\"Red Channel Mean   : {augmented_images[:, :, 0].mean():.5f}\")\n",
    "# print(f\"Green Channel Mean : {augmented_images[:, :, 1].mean():.5f}\")\n",
    "# print(f\"Blue Channel Mean  : {augmented_images[:, :, 2].mean():.5f}\")\n",
    "# print(\"\")\n",
    "# print(f\"Red Channel Std    : {augmented_images[:, :, 0].std():.5f}\")\n",
    "# print(f\"Green Channel Std  : {augmented_images[:, :, 1].std():.5f}\")\n",
    "# print(f\"Blue Channel Std   : {augmented_images[:, :, 2].std():.5f}\")"
   ]
  },
  {
   "cell_type": "code",
   "execution_count": 7,
   "id": "d9488f01",
   "metadata": {
    "execution": {
     "iopub.execute_input": "2022-03-28T14:50:35.322703Z",
     "iopub.status.busy": "2022-03-28T14:50:35.321930Z",
     "iopub.status.idle": "2022-03-28T14:50:35.325107Z",
     "shell.execute_reply": "2022-03-28T14:50:35.325572Z",
     "shell.execute_reply.started": "2022-03-28T14:45:14.980237Z"
    },
    "papermill": {
     "duration": 0.015294,
     "end_time": "2022-03-28T14:50:35.325741",
     "exception": false,
     "start_time": "2022-03-28T14:50:35.310447",
     "status": "completed"
    },
    "tags": []
   },
   "outputs": [
    {
     "name": "stdout",
     "output_type": "stream",
     "text": [
      "Notebook Runtime : 0.03 minutes\n"
     ]
    }
   ],
   "source": [
    "print(f\"Notebook Runtime : {(time() - notebook_start_time)/60:.2f} minutes\")"
   ]
  }
 ],
 "metadata": {
  "kernelspec": {
   "display_name": "Python 3",
   "language": "python",
   "name": "python3"
  },
  "language_info": {
   "codemirror_mode": {
    "name": "ipython",
    "version": 3
   },
   "file_extension": ".py",
   "mimetype": "text/x-python",
   "name": "python",
   "nbconvert_exporter": "python",
   "pygments_lexer": "ipython3",
   "version": "3.7.12"
  },
  "papermill": {
   "default_parameters": {},
   "duration": 11.177647,
   "end_time": "2022-03-28T14:50:36.244584",
   "environment_variables": {},
   "exception": null,
   "input_path": "__notebook__.ipynb",
   "output_path": "__notebook__.ipynb",
   "parameters": {},
   "start_time": "2022-03-28T14:50:25.066937",
   "version": "2.3.3"
  }
 },
 "nbformat": 4,
 "nbformat_minor": 5
}
