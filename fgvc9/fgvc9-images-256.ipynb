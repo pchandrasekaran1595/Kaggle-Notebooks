{
 "cells": [
  {
   "cell_type": "code",
   "execution_count": 1,
   "id": "14497256",
   "metadata": {
    "_cell_guid": "b1076dfc-b9ad-4769-8c92-a6c4dae69d19",
    "_uuid": "8f2839f25d086af736a60e9eeb907d3b93b6e0e5",
    "execution": {
     "iopub.execute_input": "2022-03-28T14:58:36.252084Z",
     "iopub.status.busy": "2022-03-28T14:58:36.250900Z",
     "iopub.status.idle": "2022-03-28T14:58:36.253743Z",
     "shell.execute_reply": "2022-03-28T14:58:36.254257Z",
     "shell.execute_reply.started": "2022-03-28T14:27:37.306775Z"
    },
    "papermill": {
     "duration": 0.018908,
     "end_time": "2022-03-28T14:58:36.254542",
     "exception": false,
     "start_time": "2022-03-28T14:58:36.235634",
     "status": "completed"
    },
    "tags": []
   },
   "outputs": [],
   "source": [
    "# %%bash\n",
    "# pip install --upgrade imgaug -q"
   ]
  },
  {
   "cell_type": "code",
   "execution_count": 2,
   "id": "51c347ed",
   "metadata": {
    "execution": {
     "iopub.execute_input": "2022-03-28T14:58:36.281905Z",
     "iopub.status.busy": "2022-03-28T14:58:36.281273Z",
     "iopub.status.idle": "2022-03-28T14:58:36.283982Z",
     "shell.execute_reply": "2022-03-28T14:58:36.283467Z",
     "shell.execute_reply.started": "2022-03-28T14:27:45.514446Z"
    },
    "papermill": {
     "duration": 0.020687,
     "end_time": "2022-03-28T14:58:36.284125",
     "exception": false,
     "start_time": "2022-03-28T14:58:36.263438",
     "status": "completed"
    },
    "tags": []
   },
   "outputs": [],
   "source": [
    "from time import time\n",
    "notebook_start_time = time()"
   ]
  },
  {
   "cell_type": "code",
   "execution_count": 3,
   "id": "9f14c48c",
   "metadata": {
    "execution": {
     "iopub.execute_input": "2022-03-28T14:58:36.306663Z",
     "iopub.status.busy": "2022-03-28T14:58:36.305917Z",
     "iopub.status.idle": "2022-03-28T14:58:37.719483Z",
     "shell.execute_reply": "2022-03-28T14:58:37.720046Z",
     "shell.execute_reply.started": "2022-03-28T14:27:49.60051Z"
    },
    "papermill": {
     "duration": 1.42765,
     "end_time": "2022-03-28T14:58:37.720245",
     "exception": false,
     "start_time": "2022-03-28T14:58:36.292595",
     "status": "completed"
    },
    "tags": []
   },
   "outputs": [],
   "source": [
    "import os\n",
    "import cv2\n",
    "# import imgaug\n",
    "import numpy as np\n",
    "import pandas as pd\n",
    "# from imgaug import augmenters\n",
    "from sklearn.preprocessing import LabelEncoder\n",
    "\n",
    "SIZE = 256\n",
    "SEED = 42\n",
    "le = LabelEncoder()"
   ]
  },
  {
   "cell_type": "code",
   "execution_count": 4,
   "id": "16632e68",
   "metadata": {
    "execution": {
     "iopub.execute_input": "2022-03-28T14:58:37.747935Z",
     "iopub.status.busy": "2022-03-28T14:58:37.747247Z",
     "iopub.status.idle": "2022-03-28T14:58:37.749128Z",
     "shell.execute_reply": "2022-03-28T14:58:37.749570Z",
     "shell.execute_reply.started": "2022-03-28T14:47:00.383621Z"
    },
    "papermill": {
     "duration": 0.019421,
     "end_time": "2022-03-28T14:58:37.749776",
     "exception": false,
     "start_time": "2022-03-28T14:58:37.730355",
     "status": "completed"
    },
    "tags": []
   },
   "outputs": [],
   "source": [
    "def get_image(path: str, size: int) -> np.ndarray:\n",
    "    image = cv2.imread(path, cv2.IMREAD_COLOR)\n",
    "    image = cv2.cvtColor(src=image, code=cv2.COLOR_BGR2RGB)\n",
    "    return cv2.resize(src=image, dsize=(size, size), interpolation=cv2.INTER_AREA)\n",
    "\n",
    "\n",
    "def get_images(path: str, filenames: list, size: int) -> np.ndarray:\n",
    "    images = np.zeros((len(filenames), size, size, 3), dtype=np.uint8)\n",
    "    i = 0\n",
    "    for filename in filenames:\n",
    "        images[i] = get_image(os.path.join(path, filename), size)\n",
    "        i += 1\n",
    "    return images\n",
    "\n",
    "\n",
    "# def get_augment(seed: int = 42):\n",
    "#     imgaug.seed(seed)\n",
    "#     augment = augmenters.Sequential([\n",
    "#         augmenters.Fliplr(0.25, seed=seed,),\n",
    "#         augmenters.Flipud(0.25, seed=seed,),\n",
    "#         augmenters.Affine(scale=(0.9, 1.1), translate_percent=(-0.1, 0.1), rotate=(-45, 45), seed=seed),\n",
    "#     ])\n",
    "    \n",
    "#     return augment"
   ]
  },
  {
   "cell_type": "code",
   "execution_count": 5,
   "id": "dc61d70f",
   "metadata": {
    "execution": {
     "iopub.execute_input": "2022-03-28T14:58:37.769541Z",
     "iopub.status.busy": "2022-03-28T14:58:37.768851Z",
     "iopub.status.idle": "2022-03-28T14:58:37.838146Z",
     "shell.execute_reply": "2022-03-28T14:58:37.837434Z"
    },
    "papermill": {
     "duration": 0.080122,
     "end_time": "2022-03-28T14:58:37.838310",
     "exception": false,
     "start_time": "2022-03-28T14:58:37.758188",
     "status": "completed"
    },
    "tags": []
   },
   "outputs": [],
   "source": [
    "train_df = pd.read_csv(\"../input/sorghum-id-fgvc-9/train_cultivar_mapping.csv\")\n",
    "train_df = train_df.drop(index=train_df.index[train_df.image == \".DS_Store\"])\n",
    "\n",
    "filenames = train_df.image.copy().values\n",
    "labels    = train_df.cultivar.copy().values \n",
    "labels = le.fit_transform(labels)\n",
    "np.save(\"labels.npy\", labels)"
   ]
  },
  {
   "cell_type": "code",
   "execution_count": 6,
   "id": "385a3b46",
   "metadata": {
    "execution": {
     "iopub.execute_input": "2022-03-28T14:58:37.863102Z",
     "iopub.status.busy": "2022-03-28T14:58:37.862405Z",
     "iopub.status.idle": "2022-03-28T15:17:26.045526Z",
     "shell.execute_reply": "2022-03-28T15:17:26.044935Z",
     "shell.execute_reply.started": "2022-03-28T14:49:18.519788Z"
    },
    "papermill": {
     "duration": 1128.19859,
     "end_time": "2022-03-28T15:17:26.045712",
     "exception": false,
     "start_time": "2022-03-28T14:58:37.847122",
     "status": "completed"
    },
    "tags": []
   },
   "outputs": [
    {
     "name": "stdout",
     "output_type": "stream",
     "text": [
      "Normal Images\n",
      "\n",
      "Red Channel Mean   : 94.98985\n",
      "Green Channel Mean : 95.85722\n",
      "Blue Channel Mean  : 95.72068\n",
      "\n",
      "Red Channel Std    : 51.80701\n",
      "Green Channel Std  : 53.98795\n",
      "Blue Channel Std   : 53.95851\n"
     ]
    }
   ],
   "source": [
    "images = get_images(\"../input/sorghum-id-fgvc-9/train_images\", filenames, SIZE)\n",
    "np.save(f\"images_{SIZE}.npy\", images)\n",
    "\n",
    "print(\"Normal Images\\n\")\n",
    "print(f\"Red Channel Mean   : {images[:, :, 0].mean():.5f}\")\n",
    "print(f\"Green Channel Mean : {images[:, :, 1].mean():.5f}\")\n",
    "print(f\"Blue Channel Mean  : {images[:, :, 2].mean():.5f}\")\n",
    "print(\"\")\n",
    "print(f\"Red Channel Std    : {images[:, :, 0].std():.5f}\")\n",
    "print(f\"Green Channel Std  : {images[:, :, 1].std():.5f}\")\n",
    "print(f\"Blue Channel Std   : {images[:, :, 2].std():.5f}\")\n",
    "\n",
    "# ds_augmenter = get_augment(SEED)\n",
    "# augmented_images = ds_augmenter(images=images)\n",
    "# np.save(f\"augmented_images_{SIZE}.npy\", augmented_images)\n",
    "# print(\"Augmented Images\\n\")\n",
    "# print(f\"Red Channel Mean   : {augmented_images[:, :, 0].mean():.5f}\")\n",
    "# print(f\"Green Channel Mean : {augmented_images[:, :, 1].mean():.5f}\")\n",
    "# print(f\"Blue Channel Mean  : {augmented_images[:, :, 2].mean():.5f}\")\n",
    "# print(\"\")\n",
    "# print(f\"Red Channel Std    : {augmented_images[:, :, 0].std():.5f}\")\n",
    "# print(f\"Green Channel Std  : {augmented_images[:, :, 1].std():.5f}\")\n",
    "# print(f\"Blue Channel Std   : {augmented_images[:, :, 2].std():.5f}\")"
   ]
  },
  {
   "cell_type": "code",
   "execution_count": 7,
   "id": "8819fc6b",
   "metadata": {
    "execution": {
     "iopub.execute_input": "2022-03-28T15:17:26.076968Z",
     "iopub.status.busy": "2022-03-28T15:17:26.076162Z",
     "iopub.status.idle": "2022-03-28T15:17:26.079485Z",
     "shell.execute_reply": "2022-03-28T15:17:26.080006Z",
     "shell.execute_reply.started": "2022-03-28T14:45:14.980237Z"
    },
    "papermill": {
     "duration": 0.022837,
     "end_time": "2022-03-28T15:17:26.080201",
     "exception": false,
     "start_time": "2022-03-28T15:17:26.057364",
     "status": "completed"
    },
    "tags": []
   },
   "outputs": [
    {
     "name": "stdout",
     "output_type": "stream",
     "text": [
      "Notebook Runtime : 18.83 minutes\n"
     ]
    }
   ],
   "source": [
    "print(f\"Notebook Runtime : {(time() - notebook_start_time)/60:.2f} minutes\")"
   ]
  }
 ],
 "metadata": {
  "kernelspec": {
   "display_name": "Python 3",
   "language": "python",
   "name": "python3"
  },
  "language_info": {
   "codemirror_mode": {
    "name": "ipython",
    "version": 3
   },
   "file_extension": ".py",
   "mimetype": "text/x-python",
   "name": "python",
   "nbconvert_exporter": "python",
   "pygments_lexer": "ipython3",
   "version": "3.7.12"
  },
  "papermill": {
   "default_parameters": {},
   "duration": 1142.208626,
   "end_time": "2022-03-28T15:17:27.615025",
   "environment_variables": {},
   "exception": null,
   "input_path": "__notebook__.ipynb",
   "output_path": "__notebook__.ipynb",
   "parameters": {},
   "start_time": "2022-03-28T14:58:25.406399",
   "version": "2.3.3"
  }
 },
 "nbformat": 4,
 "nbformat_minor": 5
}
