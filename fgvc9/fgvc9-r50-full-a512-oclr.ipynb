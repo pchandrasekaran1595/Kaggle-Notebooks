{
 "cells": [
  {
   "cell_type": "markdown",
   "id": "560cb919",
   "metadata": {
    "_cell_guid": "b1076dfc-b9ad-4769-8c92-a6c4dae69d19",
    "_uuid": "8f2839f25d086af736a60e9eeb907d3b93b6e0e5",
    "papermill": {
     "duration": 0.014205,
     "end_time": "2022-04-04T05:42:22.064238",
     "exception": false,
     "start_time": "2022-04-04T05:42:22.050033",
     "status": "completed"
    },
    "tags": []
   },
   "source": [
    "### **Library Imports**"
   ]
  },
  {
   "cell_type": "code",
   "execution_count": 1,
   "id": "5a2f593a",
   "metadata": {
    "execution": {
     "iopub.execute_input": "2022-04-04T05:42:22.102322Z",
     "iopub.status.busy": "2022-04-04T05:42:22.101455Z",
     "iopub.status.idle": "2022-04-04T05:42:24.772947Z",
     "shell.execute_reply": "2022-04-04T05:42:24.772211Z",
     "shell.execute_reply.started": "2022-04-02T03:24:36.266618Z"
    },
    "papermill": {
     "duration": 2.695684,
     "end_time": "2022-04-04T05:42:24.773105",
     "exception": false,
     "start_time": "2022-04-04T05:42:22.077421",
     "status": "completed"
    },
    "tags": []
   },
   "outputs": [],
   "source": [
    "import os\n",
    "import re\n",
    "import cv2\n",
    "import torch\n",
    "import numpy as np\n",
    "import pandas as pd\n",
    "import matplotlib.pyplot as plt\n",
    "\n",
    "from time import time\n",
    "from torch import nn, optim\n",
    "from torch.utils.data import Dataset\n",
    "from torch.utils.data import DataLoader as DL\n",
    "from torchvision import models, transforms\n",
    "\n",
    "from sklearn.preprocessing import LabelEncoder\n",
    "from sklearn.model_selection import StratifiedKFold"
   ]
  },
  {
   "cell_type": "markdown",
   "id": "c4bdd04e",
   "metadata": {
    "papermill": {
     "duration": 0.012262,
     "end_time": "2022-04-04T05:42:24.798062",
     "exception": false,
     "start_time": "2022-04-04T05:42:24.785800",
     "status": "completed"
    },
    "tags": []
   },
   "source": [
    "### **Utilities and Constants**"
   ]
  },
  {
   "cell_type": "code",
   "execution_count": 2,
   "id": "98230af7",
   "metadata": {
    "execution": {
     "iopub.execute_input": "2022-04-04T05:42:24.834981Z",
     "iopub.status.busy": "2022-04-04T05:42:24.834142Z",
     "iopub.status.idle": "2022-04-04T05:42:24.836670Z",
     "shell.execute_reply": "2022-04-04T05:42:24.836232Z",
     "shell.execute_reply.started": "2022-04-02T03:24:39.241224Z"
    },
    "papermill": {
     "duration": 0.026255,
     "end_time": "2022-04-04T05:42:24.836778",
     "exception": false,
     "start_time": "2022-04-04T05:42:24.810523",
     "status": "completed"
    },
    "tags": []
   },
   "outputs": [],
   "source": [
    "SEED = 42\n",
    "SIZE = 512\n",
    "le = LabelEncoder()\n",
    "\n",
    "\n",
    "def breaker(num: int=50, char: str=\"*\") -> None:\n",
    "    print(\"\\n\" + num*char + \"\\n\")\n",
    "\n",
    "\n",
    "def get_image(path: str, size: int) -> np.ndarray:\n",
    "    image = cv2.imread(path, cv2.IMREAD_COLOR)\n",
    "    image = cv2.cvtColor(src=image, code=cv2.COLOR_BGR2RGB)\n",
    "    return cv2.resize(src=image, dsize=(size, size), interpolation=cv2.INTER_AREA)\n",
    "\n",
    "\n",
    "def show_graphs(L: list, A: list) -> None:\n",
    "    TL, VL, TA, VA = [], [], [], []\n",
    "    for i in range(len(L)):\n",
    "        TL.append(L[i][\"train\"])\n",
    "        VL.append(L[i][\"valid\"])\n",
    "        TA.append(A[i][\"train\"])\n",
    "        VA.append(A[i][\"valid\"])\n",
    "    x_Axis = np.arange(1, len(TL) + 1)\n",
    "    plt.figure(figsize=(8, 6))\n",
    "    plt.subplot(1, 2, 1)\n",
    "    plt.plot(x_Axis, TL, \"r\", label=\"Train\")\n",
    "    plt.plot(x_Axis, VL, \"b\", label=\"Valid\")\n",
    "    plt.legend()\n",
    "    plt.grid()\n",
    "    plt.title(\"Loss Graph\")\n",
    "    plt.subplot(1, 2, 2)\n",
    "    plt.plot(x_Axis, TA, \"r\", label=\"Train\")\n",
    "    plt.plot(x_Axis, VA, \"b\", label=\"Valid\")\n",
    "    plt.legend()\n",
    "    plt.grid()\n",
    "    plt.title(\"Accuracy Graph\")\n",
    "    plt.show()"
   ]
  },
  {
   "cell_type": "markdown",
   "id": "6a8b6e38",
   "metadata": {
    "papermill": {
     "duration": 0.012427,
     "end_time": "2022-04-04T05:42:24.861700",
     "exception": false,
     "start_time": "2022-04-04T05:42:24.849273",
     "status": "completed"
    },
    "tags": []
   },
   "source": [
    "### **Configuration**"
   ]
  },
  {
   "cell_type": "code",
   "execution_count": 3,
   "id": "27097ebc",
   "metadata": {
    "execution": {
     "iopub.execute_input": "2022-04-04T05:42:24.958395Z",
     "iopub.status.busy": "2022-04-04T05:42:24.894561Z",
     "iopub.status.idle": "2022-04-04T05:42:24.962411Z",
     "shell.execute_reply": "2022-04-04T05:42:24.961719Z",
     "shell.execute_reply.started": "2022-04-02T03:24:39.369954Z"
    },
    "papermill": {
     "duration": 0.088389,
     "end_time": "2022-04-04T05:42:24.962570",
     "exception": false,
     "start_time": "2022-04-04T05:42:24.874181",
     "status": "completed"
    },
    "tags": []
   },
   "outputs": [],
   "source": [
    "class CFG(object):\n",
    "    def __init__(self, \n",
    "                 seed: int = 42,\n",
    "                 n_splits: int = 5,\n",
    "                 batch_size: int = 16,\n",
    "                 epochs: int = 25,\n",
    "                 early_stopping: int = 5,\n",
    "                 lr: float = 1e-4,\n",
    "                 wd: float = 0.0,\n",
    "                 max_lr: float = 1e-3,\n",
    "                 pct_start: float = 0.2,\n",
    "                 steps_per_epoch: int = 100,\n",
    "                 div_factor: int = 1e3, \n",
    "                 final_div_factor: float = 1e3,\n",
    "                 ):\n",
    "        \n",
    "        self.seed = seed\n",
    "        self.n_splits = n_splits\n",
    "        self.batch_size = batch_size\n",
    "        self.epochs = epochs\n",
    "        self.early_stopping = early_stopping\n",
    "        self.lr = lr\n",
    "        self.wd = wd\n",
    "        self.max_lr = max_lr\n",
    "        self.pct_start = pct_start\n",
    "        self.steps_per_epoch = steps_per_epoch\n",
    "        self.div_factor = div_factor\n",
    "        self.final_div_factor = final_div_factor\n",
    "        self.device = torch.device(\"cuda\" if torch.cuda.is_available() else \"cpu\")\n",
    "        self.train_base_path = \"../input/sorghum-id-fgvc-9/train_images\"\n",
    "        self.test_base_path = \"../input/sorghum-id-fgvc-9/test\"\n",
    "        self.train_transform = transforms.Compose([transforms.ToTensor(), \n",
    "                                                   transforms.Normalize([0.36878, 0.38273, 0.29333], \n",
    "                                                                        [0.16007, 0.16414, 0.12774]),\n",
    "                                                  transforms.RandomAffine(degrees=(-45, 45), translate=(0.15, 0.15), scale=(0.5, 1.5)),\n",
    "                                                  transforms.RandomHorizontalFlip(p=0.25),\n",
    "                                                  transforms.RandomVerticalFlip(p=0.25),])\n",
    "        self.valid_transform = transforms.Compose([transforms.ToTensor(), \n",
    "                                                   transforms.Normalize([0.36878, 0.38273, 0.29333], \n",
    "                                                                        [0.16007, 0.16414, 0.12774]),])\n",
    "        self.save_path = \"saves\"\n",
    "        if not os.path.exists(self.save_path): os.makedirs(self.save_path)\n",
    "\n",
    "    \n",
    "cfg = CFG(seed=SEED)"
   ]
  },
  {
   "cell_type": "markdown",
   "id": "25957ae8",
   "metadata": {
    "papermill": {
     "duration": 0.012278,
     "end_time": "2022-04-04T05:42:24.987426",
     "exception": false,
     "start_time": "2022-04-04T05:42:24.975148",
     "status": "completed"
    },
    "tags": []
   },
   "source": [
    "### **Dataset Template**"
   ]
  },
  {
   "cell_type": "code",
   "execution_count": 4,
   "id": "a23bfe9a",
   "metadata": {
    "execution": {
     "iopub.execute_input": "2022-04-04T05:42:25.015383Z",
     "iopub.status.busy": "2022-04-04T05:42:25.014617Z",
     "iopub.status.idle": "2022-04-04T05:42:25.021925Z",
     "shell.execute_reply": "2022-04-04T05:42:25.021488Z",
     "shell.execute_reply.started": "2022-04-02T03:24:39.450543Z"
    },
    "papermill": {
     "duration": 0.022109,
     "end_time": "2022-04-04T05:42:25.022053",
     "exception": false,
     "start_time": "2022-04-04T05:42:24.999944",
     "status": "completed"
    },
    "tags": []
   },
   "outputs": [],
   "source": [
    "class DS(Dataset):\n",
    "    def __init__(self, base_path: str, filenames: np.ndarray, transform, labels: np.ndarray = None):\n",
    "        self.base_path = base_path\n",
    "        self.filenames = filenames\n",
    "        self.transform = transform\n",
    "        self.labels = labels\n",
    "    \n",
    "    def __len__(self):\n",
    "        return self.filenames.shape[0]\n",
    "    \n",
    "    def __getitem__(self, idx):\n",
    "        if self.labels is not None:\n",
    "            return self.transform(get_image(os.path.join(self.base_path, self.filenames[idx]), SIZE)), torch.LongTensor(self.labels[idx])\n",
    "        else:\n",
    "            return self.transform(get_image(os.path.join(self.base_path, self.filenames[idx]), SIZE))"
   ]
  },
  {
   "cell_type": "markdown",
   "id": "a64c4d2a",
   "metadata": {
    "papermill": {
     "duration": 0.01328,
     "end_time": "2022-04-04T05:42:25.049086",
     "exception": false,
     "start_time": "2022-04-04T05:42:25.035806",
     "status": "completed"
    },
    "tags": []
   },
   "source": [
    "### **Model**"
   ]
  },
  {
   "cell_type": "code",
   "execution_count": 5,
   "id": "e6e30f57",
   "metadata": {
    "execution": {
     "iopub.execute_input": "2022-04-04T05:42:25.080748Z",
     "iopub.status.busy": "2022-04-04T05:42:25.079898Z",
     "iopub.status.idle": "2022-04-04T05:42:25.081703Z",
     "shell.execute_reply": "2022-04-04T05:42:25.082193Z",
     "shell.execute_reply.started": "2022-04-02T03:24:39.463015Z"
    },
    "papermill": {
     "duration": 0.020388,
     "end_time": "2022-04-04T05:42:25.082335",
     "exception": false,
     "start_time": "2022-04-04T05:42:25.061947",
     "status": "completed"
    },
    "tags": []
   },
   "outputs": [],
   "source": [
    "class MyResnet(nn.Module):\n",
    "    def __init__(self):\n",
    "        super(MyResnet, self).__init__()\n",
    "\n",
    "        self.model = models.resnet50(pretrained=False, progress=False)\n",
    "        self.model.fc = nn.Linear(in_features=self.model.fc.in_features, out_features=100)\n",
    "\n",
    "    def forward(self, x):\n",
    "        return nn.LogSoftmax(dim=1)(self.model(x))"
   ]
  },
  {
   "cell_type": "markdown",
   "id": "d1e1b922",
   "metadata": {
    "papermill": {
     "duration": 0.012553,
     "end_time": "2022-04-04T05:42:25.113132",
     "exception": false,
     "start_time": "2022-04-04T05:42:25.100579",
     "status": "completed"
    },
    "tags": []
   },
   "source": [
    "### **Fit and Predict Helper**"
   ]
  },
  {
   "cell_type": "code",
   "execution_count": 6,
   "id": "c3c055a9",
   "metadata": {
    "execution": {
     "iopub.execute_input": "2022-04-04T05:42:25.269126Z",
     "iopub.status.busy": "2022-04-04T05:42:25.140723Z",
     "iopub.status.idle": "2022-04-04T05:42:25.271108Z",
     "shell.execute_reply": "2022-04-04T05:42:25.271481Z",
     "shell.execute_reply.started": "2022-04-02T03:24:39.478012Z"
    },
    "papermill": {
     "duration": 0.146079,
     "end_time": "2022-04-04T05:42:25.271660",
     "exception": false,
     "start_time": "2022-04-04T05:42:25.125581",
     "status": "completed"
    },
    "tags": []
   },
   "outputs": [],
   "source": [
    "def fit(model=None, \n",
    "        optimizer=None, \n",
    "        scheduler=None, \n",
    "        epochs=None, \n",
    "        early_stopping_patience=None, \n",
    "        dataloaders=None, \n",
    "        fold=None, \n",
    "        save_path=None,\n",
    "        device=None,\n",
    "        verbose=False) -> tuple:\n",
    "    \n",
    "    def get_accuracy(y_pred, y_true):\n",
    "        y_pred = torch.argmax(y_pred, dim=1)\n",
    "        return torch.count_nonzero(y_pred == y_true).item() / len(y_pred)\n",
    "    \n",
    "    if verbose:\n",
    "        breaker()\n",
    "        if fold: print(f\"Training Fold {fold}...\")\n",
    "        else: print(\"Training ...\")\n",
    "        breaker()\n",
    "        \n",
    "    bestLoss, bestAccs = {\"train\" : np.inf, \"valid\" : np.inf}, {\"train\" : 0.0, \"valid\" : 0.0}\n",
    "    Losses, Accuracies, LRs = [], [], []\n",
    "    if fold: name = f\"state_fold_{fold}.pt\"\n",
    "    else: name = \"state.pt\"\n",
    "\n",
    "    start_time = time()\n",
    "    for e in range(epochs):\n",
    "        e_st = time()\n",
    "        epochLoss, epochAccs = {\"train\" : 0.0, \"valid\" : 0.0}, {\"train\" : 0.0, \"valid\" : 0.0}\n",
    "\n",
    "        for phase in [\"train\", \"valid\"]:\n",
    "            if phase == \"train\":\n",
    "                model.train()\n",
    "            else:\n",
    "                model.eval()\n",
    "            \n",
    "            lossPerPass, accsPerPass = [], []\n",
    "\n",
    "            for X, y in dataloaders[phase]:\n",
    "                X, y = X.to(device), y.to(device).view(-1)\n",
    "\n",
    "                optimizer.zero_grad()\n",
    "                with torch.set_grad_enabled(phase == \"train\"):\n",
    "                    output = model(X)\n",
    "                    loss = torch.nn.NLLLoss()(output, y)\n",
    "                    if phase == \"train\":\n",
    "                        loss.backward()\n",
    "                        optimizer.step()\n",
    "                        if scheduler: scheduler.step()\n",
    "                lossPerPass.append(loss.item())\n",
    "                accsPerPass.append(get_accuracy(output, y))\n",
    "            epochLoss[phase] = np.mean(np.array(lossPerPass))\n",
    "            epochAccs[phase] = np.mean(np.array(accsPerPass))\n",
    "        LRs.append(scheduler.get_last_lr())\n",
    "        Losses.append(epochLoss)\n",
    "        Accuracies.append(epochAccs)\n",
    "        \n",
    "        if early_stopping_patience:\n",
    "            if epochLoss[\"valid\"] < bestLoss[\"valid\"]:\n",
    "                bestLoss = epochLoss\n",
    "                BLE = e + 1\n",
    "                torch.save({\"model_state_dict\"     : model.state_dict(),\n",
    "                            \"optim_state_dict\"     : optimizer.state_dict(),\n",
    "                            \"scheduler_state_dict\" : scheduler.state_dict()},\n",
    "                           os.path.join(save_path, name))\n",
    "                early_stopping_step = 0\n",
    "            else:\n",
    "                early_stopping_step += 1\n",
    "                if early_stopping_step > early_stopping_patience:\n",
    "                    print(\"\\nEarly Stopping at Epoch {}\".format(e + 1))\n",
    "                    break\n",
    "        \n",
    "        if epochLoss[\"valid\"] < bestLoss[\"valid\"]:\n",
    "            bestLoss = epochLoss\n",
    "            BLE = e + 1\n",
    "            torch.save({\"model_state_dict\" : model.state_dict(),\n",
    "                        \"optim_state_dict\" : optimizer.state_dict(),\n",
    "                        \"sched_state_dict\" : scheduler.state_dict()},\n",
    "                        os.path.join(save_path, name))\n",
    "        \n",
    "        if epochAccs[\"valid\"] > bestAccs[\"valid\"]:\n",
    "            bestAccs = epochAccs\n",
    "            BAE = e + 1\n",
    "        \n",
    "        if verbose:\n",
    "            print(\"Epoch: {} | Train Loss: {:.5f} | Valid Loss: {:.5f} |\\\n",
    "Train Accs: {:.5f} | Valid Accs: {:.5f} | Time: {:.2f} seconds\".format(e+1, \n",
    "                                                                       epochLoss[\"train\"], epochLoss[\"valid\"], \n",
    "                                                                       epochAccs[\"train\"], epochAccs[\"valid\"], \n",
    "                                                                       time()-e_st))\n",
    "\n",
    "    if verbose:                                           \n",
    "        breaker()\n",
    "        print(f\"Best Validation Loss at Epoch {BLE}\")\n",
    "        breaker()\n",
    "        print(f\"Best Validation Accs at Epoch {BAE}\")\n",
    "        breaker()\n",
    "        print(\"Time Taken [{} Epochs] : {:.2f} minutes\".format(len(Losses), (time()-start_time)/60))\n",
    "    \n",
    "    return Losses, Accuracies, LRs, BLE, BAE, name\n",
    "\n",
    "\n",
    "# def predict(model=None, dataloader=None, path=None, device=None) -> np.ndarray:\n",
    "#     model.load_state_dict(torch.load(path, map_location=device)[\"model_state_dict\"])\n",
    "#     model.to(device)    \n",
    "#     model.eval()\n",
    "    \n",
    "#     y_pred = torch.zeros(1, 1).to(device)\n",
    "    \n",
    "#     for X in dataloader:\n",
    "#         X = X.to(device)\n",
    "#         with torch.no_grad():\n",
    "#             output = torch.argmax(torch.exp(model(X)), dim=1)\n",
    "#         y_pred = torch.cat((y_pred, output.view(-1, 1)), dim=0)\n",
    "    \n",
    "#     return y_pred[1:].detach().cpu().numpy()"
   ]
  },
  {
   "cell_type": "markdown",
   "id": "6cf9aacf",
   "metadata": {
    "papermill": {
     "duration": 0.012309,
     "end_time": "2022-04-04T05:42:25.297075",
     "exception": false,
     "start_time": "2022-04-04T05:42:25.284766",
     "status": "completed"
    },
    "tags": []
   },
   "source": [
    "### **Train**"
   ]
  },
  {
   "cell_type": "code",
   "execution_count": 7,
   "id": "c3a05876",
   "metadata": {
    "execution": {
     "iopub.execute_input": "2022-04-04T05:42:25.330069Z",
     "iopub.status.busy": "2022-04-04T05:42:25.329270Z",
     "iopub.status.idle": "2022-04-04T05:42:25.380518Z",
     "shell.execute_reply": "2022-04-04T05:42:25.381136Z",
     "shell.execute_reply.started": "2022-04-02T03:24:39.596988Z"
    },
    "papermill": {
     "duration": 0.070067,
     "end_time": "2022-04-04T05:42:25.381295",
     "exception": false,
     "start_time": "2022-04-04T05:42:25.311228",
     "status": "completed"
    },
    "tags": []
   },
   "outputs": [],
   "source": [
    "train_df = pd.read_csv(\"../input/sorghum-id-fgvc-9/train_cultivar_mapping.csv\")\n",
    "train_df = train_df.drop(index=train_df.index[train_df.image == \".DS_Store\"])\n",
    "\n",
    "filenames = train_df.image.copy().values\n",
    "labels = train_df.cultivar.copy().values \n",
    "labels = le.fit_transform(labels)"
   ]
  },
  {
   "cell_type": "code",
   "execution_count": 8,
   "id": "55d982af",
   "metadata": {
    "execution": {
     "iopub.execute_input": "2022-04-04T05:42:25.418941Z",
     "iopub.status.busy": "2022-04-04T05:42:25.418274Z",
     "iopub.status.idle": "2022-04-04T15:54:09.506478Z",
     "shell.execute_reply": "2022-04-04T15:54:09.507619Z",
     "shell.execute_reply.started": "2022-04-02T03:26:03.399923Z"
    },
    "papermill": {
     "duration": 36704.113875,
     "end_time": "2022-04-04T15:54:09.508347",
     "exception": false,
     "start_time": "2022-04-04T05:42:25.394472",
     "status": "completed"
    },
    "tags": []
   },
   "outputs": [
    {
     "name": "stdout",
     "output_type": "stream",
     "text": [
      "\n",
      "**************************************************\n",
      "\n",
      "Training ...\n",
      "\n",
      "**************************************************\n",
      "\n",
      "Epoch: 1 | Train Loss: 4.63438 | Valid Loss: 4.38270 |Train Accs: 0.01374 | Valid Accs: 0.04092 | Time: 1878.33 seconds\n",
      "Epoch: 2 | Train Loss: 4.13358 | Valid Loss: 8.55968 |Train Accs: 0.05197 | Valid Accs: 0.05576 | Time: 1844.15 seconds\n",
      "Epoch: 3 | Train Loss: 3.82089 | Valid Loss: 4.66627 |Train Accs: 0.08410 | Valid Accs: 0.05261 | Time: 1852.95 seconds\n",
      "Epoch: 4 | Train Loss: 3.58110 | Valid Loss: 3.55193 |Train Accs: 0.11262 | Valid Accs: 0.11630 | Time: 1831.52 seconds\n",
      "Epoch: 5 | Train Loss: 3.33664 | Valid Loss: 3.34268 |Train Accs: 0.14945 | Valid Accs: 0.17061 | Time: 1812.76 seconds\n",
      "Epoch: 6 | Train Loss: 3.09108 | Valid Loss: 3.22673 |Train Accs: 0.19486 | Valid Accs: 0.20112 | Time: 1804.87 seconds\n",
      "Epoch: 7 | Train Loss: 2.86706 | Valid Loss: 2.99127 |Train Accs: 0.23735 | Valid Accs: 0.23205 | Time: 1828.36 seconds\n",
      "Epoch: 8 | Train Loss: 2.61046 | Valid Loss: 3.14315 |Train Accs: 0.29774 | Valid Accs: 0.24354 | Time: 1812.18 seconds\n",
      "Epoch: 9 | Train Loss: 2.32448 | Valid Loss: 2.11274 |Train Accs: 0.35995 | Valid Accs: 0.40371 | Time: 1821.57 seconds\n",
      "Epoch: 10 | Train Loss: 2.06154 | Valid Loss: 1.74941 |Train Accs: 0.42141 | Valid Accs: 0.50003 | Time: 1836.22 seconds\n",
      "Epoch: 11 | Train Loss: 1.82506 | Valid Loss: 1.75443 |Train Accs: 0.47597 | Valid Accs: 0.49749 | Time: 1819.22 seconds\n",
      "Epoch: 12 | Train Loss: 1.62373 | Valid Loss: 1.39449 |Train Accs: 0.52464 | Valid Accs: 0.59985 | Time: 1806.20 seconds\n",
      "Epoch: 13 | Train Loss: 1.39764 | Valid Loss: 1.60630 |Train Accs: 0.58613 | Valid Accs: 0.56041 | Time: 1808.15 seconds\n",
      "Epoch: 14 | Train Loss: 1.23790 | Valid Loss: 0.95293 |Train Accs: 0.62881 | Valid Accs: 0.71824 | Time: 1850.08 seconds\n",
      "Epoch: 15 | Train Loss: 1.05470 | Valid Loss: 0.79840 |Train Accs: 0.67425 | Valid Accs: 0.76927 | Time: 1863.96 seconds\n",
      "Epoch: 16 | Train Loss: 0.91763 | Valid Loss: 0.64585 |Train Accs: 0.71910 | Valid Accs: 0.79535 | Time: 1840.48 seconds\n",
      "Epoch: 17 | Train Loss: 0.79308 | Valid Loss: 0.60188 |Train Accs: 0.75632 | Valid Accs: 0.81093 | Time: 1839.06 seconds\n",
      "Epoch: 18 | Train Loss: 0.72175 | Valid Loss: 0.47329 |Train Accs: 0.77798 | Valid Accs: 0.84600 | Time: 1846.57 seconds\n",
      "Epoch: 19 | Train Loss: 0.66173 | Valid Loss: 0.46057 |Train Accs: 0.79287 | Valid Accs: 0.85522 | Time: 1848.12 seconds\n",
      "Epoch: 20 | Train Loss: 0.64133 | Valid Loss: 0.44218 |Train Accs: 0.80153 | Valid Accs: 0.85949 | Time: 1855.53 seconds\n",
      "\n",
      "**************************************************\n",
      "\n",
      "Best Validation Loss at Epoch 20\n",
      "\n",
      "**************************************************\n",
      "\n",
      "Best Validation Accs at Epoch 20\n",
      "\n",
      "**************************************************\n",
      "\n",
      "Time Taken [20 Epochs] : 611.67 minutes\n",
      "\n",
      "**************************************************\n",
      "\n"
     ]
    },
    {
     "data": {
      "image/png": "[encoded data removed]",
      "text/plain": [
       "<Figure size 576x432 with 2 Axes>"
      ]
     },
     "metadata": {
      "needs_background": "light"
     },
     "output_type": "display_data"
    }
   ],
   "source": [
    "for tr_idx, va_idx in StratifiedKFold(n_splits=cfg.n_splits, random_state=cfg.seed, shuffle=True).split(filenames, labels):\n",
    "    break\n",
    "\n",
    "tr_filenames, va_filenames, tr_labels, va_labels = filenames[tr_idx], filenames[va_idx], labels[tr_idx], labels[va_idx]\n",
    "\n",
    "tr_data_setup = DS(cfg.train_base_path, tr_filenames, cfg.train_transform, tr_labels.reshape(-1, 1))\n",
    "va_data_setup = DS(cfg.train_base_path, va_filenames, cfg.valid_transform, va_labels.reshape(-1, 1))\n",
    "\n",
    "dataloaders = {\n",
    "    \"train\" : DL(tr_data_setup, batch_size=cfg.batch_size, shuffle=True, generator=torch.manual_seed(cfg.seed)),\n",
    "    \"valid\" : DL(va_data_setup, batch_size=cfg.batch_size, shuffle=False),\n",
    "}\n",
    "\n",
    "cfg = CFG(epochs=20, batch_size=20, steps_per_epoch=len(dataloaders[\"train\"]))\n",
    "\n",
    "torch.manual_seed(cfg.seed)\n",
    "model = MyResnet().to(cfg.device)\n",
    "optimizer = optim.Adam([p for p in model.parameters() if p.requires_grad], lr=cfg.lr, weight_decay=cfg.wd)\n",
    "scheduler = optim.lr_scheduler.OneCycleLR(optimizer=optimizer, \n",
    "                                          max_lr=cfg.max_lr, \n",
    "                                          epochs=cfg.epochs, \n",
    "                                          steps_per_epoch=cfg.steps_per_epoch,\n",
    "                                          pct_start=cfg.pct_start, \n",
    "                                          div_factor=cfg.div_factor, \n",
    "                                          final_div_factor=cfg.final_div_factor)\n",
    "\n",
    "L, A, LRs, BLE, BAE, name = fit(model=model, \n",
    "                                optimizer=optimizer, \n",
    "                                scheduler=scheduler, \n",
    "                                epochs=cfg.epochs, \n",
    "                                early_stopping_patience=cfg.early_stopping, \n",
    "                                dataloaders=dataloaders,  \n",
    "                                save_path=cfg.save_path,\n",
    "                                device=cfg.device,\n",
    "                                verbose=True)\n",
    "\n",
    "breaker()\n",
    "show_graphs(L, A)"
   ]
  },
  {
   "cell_type": "markdown",
   "id": "431ec752",
   "metadata": {
    "papermill": {
     "duration": 0.019688,
     "end_time": "2022-04-04T15:54:09.547943",
     "exception": false,
     "start_time": "2022-04-04T15:54:09.528255",
     "status": "completed"
    },
    "tags": []
   },
   "source": [
    "### **Submission**"
   ]
  },
  {
   "cell_type": "code",
   "execution_count": 9,
   "id": "88ca1a74",
   "metadata": {
    "execution": {
     "iopub.execute_input": "2022-04-04T15:54:09.594260Z",
     "iopub.status.busy": "2022-04-04T15:54:09.593550Z",
     "iopub.status.idle": "2022-04-04T15:54:09.596038Z",
     "shell.execute_reply": "2022-04-04T15:54:09.595645Z"
    },
    "papermill": {
     "duration": 0.02851,
     "end_time": "2022-04-04T15:54:09.596150",
     "exception": false,
     "start_time": "2022-04-04T15:54:09.567640",
     "status": "completed"
    },
    "tags": []
   },
   "outputs": [],
   "source": [
    "# ss_df = pd.read_csv(\"../input/sorghum-id-fgvc-9/sample_submission.csv\")\n",
    "\n",
    "# ts_data_setup = DS(cfg.test_base_path, ss_df.filename.copy().values, TRANSFORM)\n",
    "# ts_data = DL(ts_data_setup, batch_size=cfg.batch_size, shuffle=False)\n",
    "\n",
    "# y_pred = predict(model=MyResnet().to(cfg.device), dataloader=ts_data, path=MODEL_PATH)\n",
    "# y_pred = le.inverse_transform(y_pred.astype(\"uint8\"))\n",
    "\n",
    "# ss_df[\"cultivar\"] = y_pred\n",
    "# ss_df.to_csv(\"/content/submission.csv\", index=False)"
   ]
  }
 ],
 "metadata": {
  "kernelspec": {
   "display_name": "Python 3",
   "language": "python",
   "name": "python3"
  },
  "language_info": {
   "codemirror_mode": {
    "name": "ipython",
    "version": 3
   },
   "file_extension": ".py",
   "mimetype": "text/x-python",
   "name": "python",
   "nbconvert_exporter": "python",
   "pygments_lexer": "ipython3",
   "version": "3.7.12"
  },
  "papermill": {
   "default_parameters": {},
   "duration": 36718.26766,
   "end_time": "2022-04-04T15:54:12.259248",
   "environment_variables": {},
   "exception": null,
   "input_path": "__notebook__.ipynb",
   "output_path": "__notebook__.ipynb",
   "parameters": {},
   "start_time": "2022-04-04T05:42:13.991588",
   "version": "2.3.3"
  }
 },
 "nbformat": 4,
 "nbformat_minor": 5
}
