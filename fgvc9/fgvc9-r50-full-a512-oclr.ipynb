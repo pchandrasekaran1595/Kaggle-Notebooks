{
 "cells": [
  {
   "cell_type": "markdown",
   "id": "4ff14f0b",
   "metadata": {
    "_cell_guid": "b1076dfc-b9ad-4769-8c92-a6c4dae69d19",
    "_uuid": "8f2839f25d086af736a60e9eeb907d3b93b6e0e5",
    "papermill": {
     "duration": 0.014183,
     "end_time": "2022-04-13T06:47:40.092449",
     "exception": false,
     "start_time": "2022-04-13T06:47:40.078266",
     "status": "completed"
    },
    "tags": []
   },
   "source": [
    "### **Library Imports**"
   ]
  },
  {
   "cell_type": "code",
   "execution_count": 1,
   "id": "ee76aa09",
   "metadata": {
    "execution": {
     "iopub.execute_input": "2022-04-13T06:47:40.130196Z",
     "iopub.status.busy": "2022-04-13T06:47:40.129445Z",
     "iopub.status.idle": "2022-04-13T06:47:42.943908Z",
     "shell.execute_reply": "2022-04-13T06:47:42.945104Z",
     "shell.execute_reply.started": "2022-04-02T03:24:36.266618Z"
    },
    "papermill": {
     "duration": 2.839116,
     "end_time": "2022-04-13T06:47:42.945453",
     "exception": false,
     "start_time": "2022-04-13T06:47:40.106337",
     "status": "completed"
    },
    "tags": []
   },
   "outputs": [],
   "source": [
    "import os\n",
    "import re\n",
    "import cv2\n",
    "import torch\n",
    "import numpy as np\n",
    "import pandas as pd\n",
    "import matplotlib.pyplot as plt\n",
    "\n",
    "from time import time\n",
    "from torch import nn, optim\n",
    "from torch.utils.data import Dataset\n",
    "from torch.utils.data import DataLoader as DL\n",
    "from torchvision import models, transforms\n",
    "\n",
    "from sklearn.preprocessing import LabelEncoder\n",
    "from sklearn.model_selection import StratifiedKFold"
   ]
  },
  {
   "cell_type": "markdown",
   "id": "a7737ec6",
   "metadata": {
    "papermill": {
     "duration": 0.020457,
     "end_time": "2022-04-13T06:47:42.987003",
     "exception": false,
     "start_time": "2022-04-13T06:47:42.966546",
     "status": "completed"
    },
    "tags": []
   },
   "source": [
    "### **Utilities and Constants**"
   ]
  },
  {
   "cell_type": "code",
   "execution_count": 2,
   "id": "2baf2563",
   "metadata": {
    "execution": {
     "iopub.execute_input": "2022-04-13T06:47:43.034116Z",
     "iopub.status.busy": "2022-04-13T06:47:43.032514Z",
     "iopub.status.idle": "2022-04-13T06:47:43.035785Z",
     "shell.execute_reply": "2022-04-13T06:47:43.035044Z",
     "shell.execute_reply.started": "2022-04-02T03:24:39.241224Z"
    },
    "papermill": {
     "duration": 0.031962,
     "end_time": "2022-04-13T06:47:43.035960",
     "exception": false,
     "start_time": "2022-04-13T06:47:43.003998",
     "status": "completed"
    },
    "tags": []
   },
   "outputs": [],
   "source": [
    "SEED = 42\n",
    "SIZE = 512\n",
    "le = LabelEncoder()\n",
    "\n",
    "\n",
    "def breaker(num: int=50, char: str=\"*\") -> None:\n",
    "    print(\"\\n\" + num*char + \"\\n\")\n",
    "\n",
    "\n",
    "def get_image(path: str, size: int) -> np.ndarray:\n",
    "    image = cv2.imread(path, cv2.IMREAD_COLOR)\n",
    "    image = cv2.cvtColor(src=image, code=cv2.COLOR_BGR2RGB)\n",
    "    return cv2.resize(src=image, dsize=(size, size), interpolation=cv2.INTER_AREA)\n",
    "\n",
    "\n",
    "def show_graphs(L: list, A: list) -> None:\n",
    "    TL, VL, TA, VA = [], [], [], []\n",
    "    for i in range(len(L)):\n",
    "        TL.append(L[i][\"train\"])\n",
    "        VL.append(L[i][\"valid\"])\n",
    "        TA.append(A[i][\"train\"])\n",
    "        VA.append(A[i][\"valid\"])\n",
    "    x_Axis = np.arange(1, len(TL) + 1)\n",
    "    plt.figure(figsize=(8, 6))\n",
    "    plt.subplot(1, 2, 1)\n",
    "    plt.plot(x_Axis, TL, \"r\", label=\"Train\")\n",
    "    plt.plot(x_Axis, VL, \"b\", label=\"Valid\")\n",
    "    plt.legend()\n",
    "    plt.grid()\n",
    "    plt.title(\"Loss Graph\")\n",
    "    plt.subplot(1, 2, 2)\n",
    "    plt.plot(x_Axis, TA, \"r\", label=\"Train\")\n",
    "    plt.plot(x_Axis, VA, \"b\", label=\"Valid\")\n",
    "    plt.legend()\n",
    "    plt.grid()\n",
    "    plt.title(\"Accuracy Graph\")\n",
    "    plt.show()"
   ]
  },
  {
   "cell_type": "markdown",
   "id": "601ff70e",
   "metadata": {
    "papermill": {
     "duration": 0.019043,
     "end_time": "2022-04-13T06:47:43.074599",
     "exception": false,
     "start_time": "2022-04-13T06:47:43.055556",
     "status": "completed"
    },
    "tags": []
   },
   "source": [
    "### **Configuration**"
   ]
  },
  {
   "cell_type": "code",
   "execution_count": 3,
   "id": "2a1dbd88",
   "metadata": {
    "execution": {
     "iopub.execute_input": "2022-04-13T06:47:43.131222Z",
     "iopub.status.busy": "2022-04-13T06:47:43.130430Z",
     "iopub.status.idle": "2022-04-13T06:47:43.210274Z",
     "shell.execute_reply": "2022-04-13T06:47:43.211293Z",
     "shell.execute_reply.started": "2022-04-02T03:24:39.369954Z"
    },
    "papermill": {
     "duration": 0.114155,
     "end_time": "2022-04-13T06:47:43.211487",
     "exception": false,
     "start_time": "2022-04-13T06:47:43.097332",
     "status": "completed"
    },
    "tags": []
   },
   "outputs": [],
   "source": [
    "class CFG(object):\n",
    "    def __init__(self, \n",
    "                 seed: int = 42,\n",
    "                 n_splits: int = 5,\n",
    "                 batch_size: int = 16,\n",
    "                 epochs: int = 25,\n",
    "                 early_stopping: int = 5,\n",
    "                 lr: float = 1e-4,\n",
    "                 wd: float = 0.0,\n",
    "                 max_lr: float = 1e-3,\n",
    "                 pct_start: float = 0.2,\n",
    "                 steps_per_epoch: int = 100,\n",
    "                 div_factor: int = 1e3, \n",
    "                 final_div_factor: float = 1e3,\n",
    "                 ):\n",
    "        \n",
    "        self.seed = seed\n",
    "        self.n_splits = n_splits\n",
    "        self.batch_size = batch_size\n",
    "        self.epochs = epochs\n",
    "        self.early_stopping = early_stopping\n",
    "        self.lr = lr\n",
    "        self.wd = wd\n",
    "        self.max_lr = max_lr\n",
    "        self.pct_start = pct_start\n",
    "        self.steps_per_epoch = steps_per_epoch\n",
    "        self.div_factor = div_factor\n",
    "        self.final_div_factor = final_div_factor\n",
    "        self.device = torch.device(\"cuda\" if torch.cuda.is_available() else \"cpu\")\n",
    "        self.train_base_path = \"../input/sorghum-id-fgvc-9/train_images\"\n",
    "        self.test_base_path = \"../input/sorghum-id-fgvc-9/test\"\n",
    "        self.train_transform = transforms.Compose([transforms.ToTensor(), \n",
    "                                                   transforms.Normalize([0.36878, 0.38273, 0.29333], \n",
    "                                                                        [0.16007, 0.16414, 0.12774]),\n",
    "                                                  transforms.RandomAffine(degrees=(-45, 45), translate=(0.15, 0.15), scale=(0.5, 1.5)),])\n",
    "        self.valid_transform = transforms.Compose([transforms.ToTensor(), \n",
    "                                                   transforms.Normalize([0.36878, 0.38273, 0.29333], \n",
    "                                                                        [0.16007, 0.16414, 0.12774]),])\n",
    "        self.save_path = \"saves\"\n",
    "        if not os.path.exists(self.save_path): os.makedirs(self.save_path)\n",
    "\n",
    "    \n",
    "cfg = CFG(seed=SEED)"
   ]
  },
  {
   "cell_type": "markdown",
   "id": "4cddf63c",
   "metadata": {
    "papermill": {
     "duration": 0.019673,
     "end_time": "2022-04-13T06:47:43.251372",
     "exception": false,
     "start_time": "2022-04-13T06:47:43.231699",
     "status": "completed"
    },
    "tags": []
   },
   "source": [
    "### **Dataset Template**"
   ]
  },
  {
   "cell_type": "code",
   "execution_count": 4,
   "id": "a99388a5",
   "metadata": {
    "execution": {
     "iopub.execute_input": "2022-04-13T06:47:43.300950Z",
     "iopub.status.busy": "2022-04-13T06:47:43.300187Z",
     "iopub.status.idle": "2022-04-13T06:47:43.304239Z",
     "shell.execute_reply": "2022-04-13T06:47:43.304987Z",
     "shell.execute_reply.started": "2022-04-02T03:24:39.450543Z"
    },
    "papermill": {
     "duration": 0.033804,
     "end_time": "2022-04-13T06:47:43.305162",
     "exception": false,
     "start_time": "2022-04-13T06:47:43.271358",
     "status": "completed"
    },
    "tags": []
   },
   "outputs": [],
   "source": [
    "class DS(Dataset):\n",
    "    def __init__(self, base_path: str, filenames: np.ndarray, transform, labels: np.ndarray = None):\n",
    "        self.base_path = base_path\n",
    "        self.filenames = filenames\n",
    "        self.transform = transform\n",
    "        self.labels = labels\n",
    "    \n",
    "    def __len__(self):\n",
    "        return self.filenames.shape[0]\n",
    "    \n",
    "    def __getitem__(self, idx):\n",
    "        if self.labels is not None:\n",
    "            return self.transform(get_image(os.path.join(self.base_path, self.filenames[idx]), SIZE)), torch.LongTensor(self.labels[idx])\n",
    "        else:\n",
    "            return self.transform(get_image(os.path.join(self.base_path, self.filenames[idx]), SIZE))"
   ]
  },
  {
   "cell_type": "markdown",
   "id": "1fb3ff0e",
   "metadata": {
    "papermill": {
     "duration": 0.019127,
     "end_time": "2022-04-13T06:47:43.343151",
     "exception": false,
     "start_time": "2022-04-13T06:47:43.324024",
     "status": "completed"
    },
    "tags": []
   },
   "source": [
    "### **Model**"
   ]
  },
  {
   "cell_type": "code",
   "execution_count": 5,
   "id": "7e37638d",
   "metadata": {
    "execution": {
     "iopub.execute_input": "2022-04-13T06:47:43.392114Z",
     "iopub.status.busy": "2022-04-13T06:47:43.391283Z",
     "iopub.status.idle": "2022-04-13T06:47:43.393499Z",
     "shell.execute_reply": "2022-04-13T06:47:43.392837Z",
     "shell.execute_reply.started": "2022-04-02T03:24:39.463015Z"
    },
    "papermill": {
     "duration": 0.030458,
     "end_time": "2022-04-13T06:47:43.393655",
     "exception": false,
     "start_time": "2022-04-13T06:47:43.363197",
     "status": "completed"
    },
    "tags": []
   },
   "outputs": [],
   "source": [
    "class MyResnet(nn.Module):\n",
    "    def __init__(self):\n",
    "        super(MyResnet, self).__init__()\n",
    "\n",
    "        self.model = models.resnet50(pretrained=False, progress=False)\n",
    "        self.model.fc = nn.Linear(in_features=self.model.fc.in_features, out_features=100)\n",
    "\n",
    "    def forward(self, x):\n",
    "        return nn.LogSoftmax(dim=1)(self.model(x))"
   ]
  },
  {
   "cell_type": "markdown",
   "id": "0213a647",
   "metadata": {
    "papermill": {
     "duration": 0.019723,
     "end_time": "2022-04-13T06:47:43.433317",
     "exception": false,
     "start_time": "2022-04-13T06:47:43.413594",
     "status": "completed"
    },
    "tags": []
   },
   "source": [
    "### **Fit and Predict Helper**"
   ]
  },
  {
   "cell_type": "code",
   "execution_count": 6,
   "id": "c0e201cf",
   "metadata": {
    "execution": {
     "iopub.execute_input": "2022-04-13T06:47:43.488027Z",
     "iopub.status.busy": "2022-04-13T06:47:43.482014Z",
     "iopub.status.idle": "2022-04-13T06:47:43.646565Z",
     "shell.execute_reply": "2022-04-13T06:47:43.647663Z",
     "shell.execute_reply.started": "2022-04-02T03:24:39.478012Z"
    },
    "papermill": {
     "duration": 0.194066,
     "end_time": "2022-04-13T06:47:43.647866",
     "exception": false,
     "start_time": "2022-04-13T06:47:43.453800",
     "status": "completed"
    },
    "tags": []
   },
   "outputs": [],
   "source": [
    "def fit(model=None, \n",
    "        optimizer=None, \n",
    "        scheduler=None, \n",
    "        epochs=None, \n",
    "        early_stopping_patience=None, \n",
    "        dataloaders=None, \n",
    "        fold=None, \n",
    "        save_path=None,\n",
    "        device=None,\n",
    "        verbose=False) -> tuple:\n",
    "    \n",
    "    def get_accuracy(y_pred, y_true):\n",
    "        y_pred = torch.argmax(y_pred, dim=1)\n",
    "        return torch.count_nonzero(y_pred == y_true).item() / len(y_pred)\n",
    "    \n",
    "    if verbose:\n",
    "        breaker()\n",
    "        if fold: print(f\"Training Fold {fold}...\")\n",
    "        else: print(\"Training ...\")\n",
    "        breaker()\n",
    "        \n",
    "    bestLoss, bestAccs = {\"train\" : np.inf, \"valid\" : np.inf}, {\"train\" : 0.0, \"valid\" : 0.0}\n",
    "    Losses, Accuracies, LRs = [], [], []\n",
    "    if fold: name = f\"state_fold_{fold}.pt\"\n",
    "    else: name = \"state.pt\"\n",
    "\n",
    "    start_time = time()\n",
    "    for e in range(epochs):\n",
    "        e_st = time()\n",
    "        epochLoss, epochAccs = {\"train\" : 0.0, \"valid\" : 0.0}, {\"train\" : 0.0, \"valid\" : 0.0}\n",
    "\n",
    "        for phase in [\"train\", \"valid\"]:\n",
    "            if phase == \"train\":\n",
    "                model.train()\n",
    "            else:\n",
    "                model.eval()\n",
    "            \n",
    "            lossPerPass, accsPerPass = [], []\n",
    "\n",
    "            for X, y in dataloaders[phase]:\n",
    "                X, y = X.to(device), y.to(device).view(-1)\n",
    "\n",
    "                optimizer.zero_grad()\n",
    "                with torch.set_grad_enabled(phase == \"train\"):\n",
    "                    output = model(X)\n",
    "                    loss = torch.nn.NLLLoss()(output, y)\n",
    "                    if phase == \"train\":\n",
    "                        loss.backward()\n",
    "                        optimizer.step()\n",
    "                        if scheduler: scheduler.step()\n",
    "                lossPerPass.append(loss.item())\n",
    "                accsPerPass.append(get_accuracy(output, y))\n",
    "            epochLoss[phase] = np.mean(np.array(lossPerPass))\n",
    "            epochAccs[phase] = np.mean(np.array(accsPerPass))\n",
    "        LRs.append(scheduler.get_last_lr())\n",
    "        Losses.append(epochLoss)\n",
    "        Accuracies.append(epochAccs)\n",
    "        \n",
    "        if early_stopping_patience:\n",
    "            if epochLoss[\"valid\"] < bestLoss[\"valid\"]:\n",
    "                bestLoss = epochLoss\n",
    "                BLE = e + 1\n",
    "                torch.save({\"model_state_dict\"     : model.state_dict(),\n",
    "                            \"optim_state_dict\"     : optimizer.state_dict(),\n",
    "                            \"scheduler_state_dict\" : scheduler.state_dict()},\n",
    "                           os.path.join(save_path, name))\n",
    "                early_stopping_step = 0\n",
    "            else:\n",
    "                early_stopping_step += 1\n",
    "                if early_stopping_step > early_stopping_patience:\n",
    "                    print(\"\\nEarly Stopping at Epoch {}\".format(e + 1))\n",
    "                    break\n",
    "        \n",
    "        if epochLoss[\"valid\"] < bestLoss[\"valid\"]:\n",
    "            bestLoss = epochLoss\n",
    "            BLE = e + 1\n",
    "            torch.save({\"model_state_dict\" : model.state_dict(),\n",
    "                        \"optim_state_dict\" : optimizer.state_dict(),\n",
    "                        \"sched_state_dict\" : scheduler.state_dict()},\n",
    "                        os.path.join(save_path, name))\n",
    "        \n",
    "        if epochAccs[\"valid\"] > bestAccs[\"valid\"]:\n",
    "            bestAccs = epochAccs\n",
    "            BAE = e + 1\n",
    "        \n",
    "        if verbose:\n",
    "            print(\"Epoch: {} | Train Loss: {:.5f} | Valid Loss: {:.5f} |\\\n",
    "Train Accs: {:.5f} | Valid Accs: {:.5f} | Time: {:.2f} seconds\".format(e+1, \n",
    "                                                                       epochLoss[\"train\"], epochLoss[\"valid\"], \n",
    "                                                                       epochAccs[\"train\"], epochAccs[\"valid\"], \n",
    "                                                                       time()-e_st))\n",
    "\n",
    "    if verbose:                                           \n",
    "        breaker()\n",
    "        print(f\"Best Validation Loss at Epoch {BLE}\")\n",
    "        breaker()\n",
    "        print(f\"Best Validation Accs at Epoch {BAE}\")\n",
    "        breaker()\n",
    "        print(\"Time Taken [{} Epochs] : {:.2f} minutes\".format(len(Losses), (time()-start_time)/60))\n",
    "    \n",
    "    return Losses, Accuracies, LRs, BLE, BAE, name\n",
    "\n",
    "\n",
    "# def predict(model=None, dataloader=None, path=None, device=None) -> np.ndarray:\n",
    "#     model.load_state_dict(torch.load(path, map_location=device)[\"model_state_dict\"])\n",
    "#     model.to(device)    \n",
    "#     model.eval()\n",
    "    \n",
    "#     y_pred = torch.zeros(1, 1).to(device)\n",
    "    \n",
    "#     for X in dataloader:\n",
    "#         X = X.to(device)\n",
    "#         with torch.no_grad():\n",
    "#             output = torch.argmax(torch.exp(model(X)), dim=1)\n",
    "#         y_pred = torch.cat((y_pred, output.view(-1, 1)), dim=0)\n",
    "    \n",
    "#     return y_pred[1:].detach().cpu().numpy()"
   ]
  },
  {
   "cell_type": "markdown",
   "id": "89514ac6",
   "metadata": {
    "papermill": {
     "duration": 0.020108,
     "end_time": "2022-04-13T06:47:43.689465",
     "exception": false,
     "start_time": "2022-04-13T06:47:43.669357",
     "status": "completed"
    },
    "tags": []
   },
   "source": [
    "### **Train**"
   ]
  },
  {
   "cell_type": "code",
   "execution_count": 7,
   "id": "956963b4",
   "metadata": {
    "execution": {
     "iopub.execute_input": "2022-04-13T06:47:43.736557Z",
     "iopub.status.busy": "2022-04-13T06:47:43.735791Z",
     "iopub.status.idle": "2022-04-13T06:47:43.803055Z",
     "shell.execute_reply": "2022-04-13T06:47:43.803729Z",
     "shell.execute_reply.started": "2022-04-02T03:24:39.596988Z"
    },
    "papermill": {
     "duration": 0.09437,
     "end_time": "2022-04-13T06:47:43.803913",
     "exception": false,
     "start_time": "2022-04-13T06:47:43.709543",
     "status": "completed"
    },
    "tags": []
   },
   "outputs": [],
   "source": [
    "train_df = pd.read_csv(\"../input/sorghum-id-fgvc-9/train_cultivar_mapping.csv\")\n",
    "train_df = train_df.drop(index=train_df.index[train_df.image == \".DS_Store\"])\n",
    "\n",
    "filenames = train_df.image.copy().values\n",
    "labels = train_df.cultivar.copy().values \n",
    "labels = le.fit_transform(labels)"
   ]
  },
  {
   "cell_type": "code",
   "execution_count": 8,
   "id": "6931e43c",
   "metadata": {
    "execution": {
     "iopub.execute_input": "2022-04-13T06:47:43.853196Z",
     "iopub.status.busy": "2022-04-13T06:47:43.852420Z",
     "iopub.status.idle": "2022-04-13T16:59:26.292855Z",
     "shell.execute_reply": "2022-04-13T16:59:26.293874Z",
     "shell.execute_reply.started": "2022-04-02T03:26:03.399923Z"
    },
    "papermill": {
     "duration": 36702.470867,
     "end_time": "2022-04-13T16:59:26.294797",
     "exception": false,
     "start_time": "2022-04-13T06:47:43.823930",
     "status": "completed"
    },
    "tags": []
   },
   "outputs": [
    {
     "name": "stdout",
     "output_type": "stream",
     "text": [
      "\n",
      "**************************************************\n",
      "\n",
      "Training ...\n",
      "\n",
      "**************************************************\n",
      "\n",
      "Epoch: 1 | Train Loss: 4.64307 | Valid Loss: 4.34397 |Train Accs: 0.01434 | Valid Accs: 0.04969 | Time: 1862.95 seconds\n",
      "Epoch: 2 | Train Loss: 4.12863 | Valid Loss: 4.12722 |Train Accs: 0.05270 | Valid Accs: 0.06677 | Time: 1869.59 seconds\n",
      "Epoch: 3 | Train Loss: 3.77324 | Valid Loss: 4.04914 |Train Accs: 0.09082 | Valid Accs: 0.07914 | Time: 1871.50 seconds\n",
      "Epoch: 4 | Train Loss: 3.54988 | Valid Loss: 6.22842 |Train Accs: 0.11734 | Valid Accs: 0.06767 | Time: 1820.02 seconds\n",
      "Epoch: 5 | Train Loss: 3.28174 | Valid Loss: 6.79004 |Train Accs: 0.15887 | Valid Accs: 0.07352 | Time: 1825.52 seconds\n",
      "Epoch: 6 | Train Loss: 3.01794 | Valid Loss: 5.37441 |Train Accs: 0.20900 | Valid Accs: 0.12564 | Time: 1828.96 seconds\n",
      "Epoch: 7 | Train Loss: 2.73965 | Valid Loss: 4.20158 |Train Accs: 0.27220 | Valid Accs: 0.19161 | Time: 1788.19 seconds\n",
      "Epoch: 8 | Train Loss: 2.45533 | Valid Loss: 3.77865 |Train Accs: 0.33202 | Valid Accs: 0.18567 | Time: 1803.66 seconds\n",
      "Epoch: 9 | Train Loss: 2.15819 | Valid Loss: 2.66039 |Train Accs: 0.39194 | Valid Accs: 0.35811 | Time: 1823.41 seconds\n",
      "Epoch: 10 | Train Loss: 1.91034 | Valid Loss: 1.97599 |Train Accs: 0.45452 | Valid Accs: 0.45619 | Time: 1846.79 seconds\n",
      "Epoch: 11 | Train Loss: 1.68039 | Valid Loss: 2.02952 |Train Accs: 0.51319 | Valid Accs: 0.48959 | Time: 1859.36 seconds\n",
      "Epoch: 12 | Train Loss: 1.45998 | Valid Loss: 1.43462 |Train Accs: 0.57203 | Valid Accs: 0.59002 | Time: 1844.83 seconds\n",
      "Epoch: 13 | Train Loss: 1.26890 | Valid Loss: 1.02683 |Train Accs: 0.62020 | Valid Accs: 0.68744 | Time: 1847.79 seconds\n",
      "Epoch: 14 | Train Loss: 1.07863 | Valid Loss: 0.73527 |Train Accs: 0.67354 | Valid Accs: 0.76994 | Time: 1856.42 seconds\n",
      "Epoch: 15 | Train Loss: 0.91619 | Valid Loss: 0.80664 |Train Accs: 0.71440 | Valid Accs: 0.74859 | Time: 1842.21 seconds\n",
      "Epoch: 16 | Train Loss: 0.79683 | Valid Loss: 0.58720 |Train Accs: 0.75491 | Valid Accs: 0.81266 | Time: 1826.20 seconds\n",
      "Epoch: 17 | Train Loss: 0.67034 | Valid Loss: 0.49062 |Train Accs: 0.79285 | Valid Accs: 0.84706 | Time: 1784.36 seconds\n",
      "Epoch: 18 | Train Loss: 0.60172 | Valid Loss: 0.39875 |Train Accs: 0.81120 | Valid Accs: 0.87179 | Time: 1839.78 seconds\n",
      "Epoch: 19 | Train Loss: 0.53865 | Valid Loss: 0.41568 |Train Accs: 0.83252 | Valid Accs: 0.86999 | Time: 1834.14 seconds\n",
      "Epoch: 20 | Train Loss: 0.52649 | Valid Loss: 0.44589 |Train Accs: 0.83490 | Valid Accs: 0.85965 | Time: 1822.98 seconds\n",
      "\n",
      "**************************************************\n",
      "\n",
      "Best Validation Loss at Epoch 18\n",
      "\n",
      "**************************************************\n",
      "\n",
      "Best Validation Accs at Epoch 18\n",
      "\n",
      "**************************************************\n",
      "\n",
      "Time Taken [20 Epochs] : 611.64 minutes\n",
      "\n",
      "**************************************************\n",
      "\n"
     ]
    },
    {
     "data": {
      "image/png": "[encoded data removed]",
      "text/plain": [
       "<Figure size 576x432 with 2 Axes>"
      ]
     },
     "metadata": {
      "needs_background": "light"
     },
     "output_type": "display_data"
    }
   ],
   "source": [
    "for tr_idx, va_idx in StratifiedKFold(n_splits=cfg.n_splits, random_state=cfg.seed, shuffle=True).split(filenames, labels):\n",
    "    break\n",
    "\n",
    "tr_filenames, va_filenames, tr_labels, va_labels = filenames[tr_idx], filenames[va_idx], labels[tr_idx], labels[va_idx]\n",
    "\n",
    "tr_data_setup = DS(cfg.train_base_path, tr_filenames, cfg.train_transform, tr_labels.reshape(-1, 1))\n",
    "va_data_setup = DS(cfg.train_base_path, va_filenames, cfg.valid_transform, va_labels.reshape(-1, 1))\n",
    "\n",
    "dataloaders = {\n",
    "    \"train\" : DL(tr_data_setup, batch_size=cfg.batch_size, shuffle=True, generator=torch.manual_seed(cfg.seed)),\n",
    "    \"valid\" : DL(va_data_setup, batch_size=cfg.batch_size, shuffle=False),\n",
    "}\n",
    "\n",
    "cfg = CFG(epochs=20, batch_size=20, steps_per_epoch=len(dataloaders[\"train\"]))\n",
    "\n",
    "torch.manual_seed(cfg.seed)\n",
    "model = MyResnet().to(cfg.device)\n",
    "optimizer = optim.Adam([p for p in model.parameters() if p.requires_grad], lr=cfg.lr, weight_decay=cfg.wd)\n",
    "scheduler = optim.lr_scheduler.OneCycleLR(optimizer=optimizer, \n",
    "                                          max_lr=cfg.max_lr, \n",
    "                                          epochs=cfg.epochs, \n",
    "                                          steps_per_epoch=cfg.steps_per_epoch,\n",
    "                                          pct_start=cfg.pct_start, \n",
    "                                          div_factor=cfg.div_factor, \n",
    "                                          final_div_factor=cfg.final_div_factor)\n",
    "\n",
    "L, A, LRs, BLE, BAE, name = fit(model=model, \n",
    "                                optimizer=optimizer, \n",
    "                                scheduler=scheduler, \n",
    "                                epochs=cfg.epochs, \n",
    "                                early_stopping_patience=cfg.early_stopping, \n",
    "                                dataloaders=dataloaders,  \n",
    "                                save_path=cfg.save_path,\n",
    "                                device=cfg.device,\n",
    "                                verbose=True)\n",
    "\n",
    "breaker()\n",
    "show_graphs(L, A)"
   ]
  },
  {
   "cell_type": "markdown",
   "id": "bfec02ca",
   "metadata": {
    "papermill": {
     "duration": 0.019799,
     "end_time": "2022-04-13T16:59:26.335323",
     "exception": false,
     "start_time": "2022-04-13T16:59:26.315524",
     "status": "completed"
    },
    "tags": []
   },
   "source": [
    "### **Submission**"
   ]
  },
  {
   "cell_type": "code",
   "execution_count": 9,
   "id": "3ec44b7d",
   "metadata": {
    "execution": {
     "iopub.execute_input": "2022-04-13T16:59:26.383316Z",
     "iopub.status.busy": "2022-04-13T16:59:26.381764Z",
     "iopub.status.idle": "2022-04-13T16:59:26.383903Z",
     "shell.execute_reply": "2022-04-13T16:59:26.384310Z"
    },
    "papermill": {
     "duration": 0.028796,
     "end_time": "2022-04-13T16:59:26.384441",
     "exception": false,
     "start_time": "2022-04-13T16:59:26.355645",
     "status": "completed"
    },
    "tags": []
   },
   "outputs": [],
   "source": [
    "# ss_df = pd.read_csv(\"../input/sorghum-id-fgvc-9/sample_submission.csv\")\n",
    "\n",
    "# ts_data_setup = DS(cfg.test_base_path, ss_df.filename.copy().values, TRANSFORM)\n",
    "# ts_data = DL(ts_data_setup, batch_size=cfg.batch_size, shuffle=False)\n",
    "\n",
    "# y_pred = predict(model=MyResnet().to(cfg.device), dataloader=ts_data, path=MODEL_PATH)\n",
    "# y_pred = le.inverse_transform(y_pred.astype(\"uint8\"))\n",
    "\n",
    "# ss_df[\"cultivar\"] = y_pred\n",
    "# ss_df.to_csv(\"/content/submission.csv\", index=False)"
   ]
  }
 ],
 "metadata": {
  "kernelspec": {
   "display_name": "Python 3",
   "language": "python",
   "name": "python3"
  },
  "language_info": {
   "codemirror_mode": {
    "name": "ipython",
    "version": 3
   },
   "file_extension": ".py",
   "mimetype": "text/x-python",
   "name": "python",
   "nbconvert_exporter": "python",
   "pygments_lexer": "ipython3",
   "version": "3.7.12"
  },
  "papermill": {
   "default_parameters": {},
   "duration": 36717.562049,
   "end_time": "2022-04-13T16:59:29.623550",
   "environment_variables": {},
   "exception": null,
   "input_path": "__notebook__.ipynb",
   "output_path": "__notebook__.ipynb",
   "parameters": {},
   "start_time": "2022-04-13T06:47:32.061501",
   "version": "2.3.3"
  }
 },
 "nbformat": 4,
 "nbformat_minor": 5
}
