{
 "cells": [
  {
   "cell_type": "code",
   "execution_count": 1,
   "id": "aa72795f",
   "metadata": {
    "_cell_guid": "b1076dfc-b9ad-4769-8c92-a6c4dae69d19",
    "_uuid": "8f2839f25d086af736a60e9eeb907d3b93b6e0e5",
    "execution": {
     "iopub.execute_input": "2022-03-28T05:08:49.185841Z",
     "iopub.status.busy": "2022-03-28T05:08:49.184138Z",
     "iopub.status.idle": "2022-03-28T05:08:59.449081Z",
     "shell.execute_reply": "2022-03-28T05:08:59.449539Z"
    },
    "papermill": {
     "duration": 10.279098,
     "end_time": "2022-03-28T05:08:59.449815",
     "exception": false,
     "start_time": "2022-03-28T05:08:49.170717",
     "status": "completed"
    },
    "tags": []
   },
   "outputs": [
    {
     "name": "stdout",
     "output_type": "stream",
     "text": [
      "Collecting timm\r\n",
      "  Downloading timm-0.5.4-py3-none-any.whl (431 kB)\r\n",
      "     |████████████████████████████████| 431 kB 885 kB/s            \r\n",
      "\u001b[?25hRequirement already satisfied: torch>=1.4 in /opt/conda/lib/python3.7/site-packages (from timm) (1.9.1)\r\n",
      "Requirement already satisfied: torchvision in /opt/conda/lib/python3.7/site-packages (from timm) (0.10.1)\r\n",
      "Requirement already satisfied: typing-extensions in /opt/conda/lib/python3.7/site-packages (from torch>=1.4->timm) (4.1.1)\r\n",
      "Requirement already satisfied: pillow>=5.3.0 in /opt/conda/lib/python3.7/site-packages (from torchvision->timm) (8.2.0)\r\n",
      "Requirement already satisfied: numpy in /opt/conda/lib/python3.7/site-packages (from torchvision->timm) (1.20.3)\r\n",
      "Installing collected packages: timm\r\n",
      "Successfully installed timm-0.5.4\r\n",
      "\u001b[33mWARNING: Running pip as the 'root' user can result in broken permissions and conflicting behaviour with the system package manager. It is recommended to use a virtual environment instead: https://pip.pypa.io/warnings/venv\u001b[0m\r\n"
     ]
    }
   ],
   "source": [
    "!pip install --upgrade timm"
   ]
  },
  {
   "cell_type": "markdown",
   "id": "1f36510d",
   "metadata": {
    "papermill": {
     "duration": 0.010041,
     "end_time": "2022-03-28T05:08:59.473502",
     "exception": false,
     "start_time": "2022-03-28T05:08:59.463461",
     "status": "completed"
    },
    "tags": []
   },
   "source": [
    "### **Library Imports**"
   ]
  },
  {
   "cell_type": "code",
   "execution_count": 2,
   "id": "cbae7014",
   "metadata": {
    "execution": {
     "iopub.execute_input": "2022-03-28T05:08:59.499195Z",
     "iopub.status.busy": "2022-03-28T05:08:59.498453Z",
     "iopub.status.idle": "2022-03-28T05:09:03.256339Z",
     "shell.execute_reply": "2022-03-28T05:09:03.255825Z"
    },
    "papermill": {
     "duration": 3.772962,
     "end_time": "2022-03-28T05:09:03.256520",
     "exception": false,
     "start_time": "2022-03-28T05:08:59.483558",
     "status": "completed"
    },
    "tags": []
   },
   "outputs": [],
   "source": [
    "import os\n",
    "import re\n",
    "import cv2\n",
    "import timm\n",
    "import torch\n",
    "import numpy as np\n",
    "import pandas as pd\n",
    "\n",
    "from torchvision import transforms\n",
    "from torch.utils.data import Dataset\n",
    "from torch.utils.data import DataLoader as DL\n",
    "from sklearn.preprocessing import LabelEncoder"
   ]
  },
  {
   "cell_type": "markdown",
   "id": "d6bed1f9",
   "metadata": {
    "papermill": {
     "duration": 0.010232,
     "end_time": "2022-03-28T05:09:03.277507",
     "exception": false,
     "start_time": "2022-03-28T05:09:03.267275",
     "status": "completed"
    },
    "tags": []
   },
   "source": [
    "### **Utilities and Constants**"
   ]
  },
  {
   "cell_type": "code",
   "execution_count": 3,
   "id": "2570fcb2",
   "metadata": {
    "execution": {
     "iopub.execute_input": "2022-03-28T05:09:03.351270Z",
     "iopub.status.busy": "2022-03-28T05:09:03.350722Z",
     "iopub.status.idle": "2022-03-28T05:09:03.354382Z",
     "shell.execute_reply": "2022-03-28T05:09:03.353982Z"
    },
    "papermill": {
     "duration": 0.066542,
     "end_time": "2022-03-28T05:09:03.354526",
     "exception": false,
     "start_time": "2022-03-28T05:09:03.287984",
     "status": "completed"
    },
    "tags": []
   },
   "outputs": [],
   "source": [
    "SEED = 42\n",
    "SIZE = 384\n",
    "FV_LENGTH = 1536\n",
    "MODEL_PATH = \"../input/swin-pretrained-feature-extractor-weights/swin_base_patch4_window7_224_in22k.pt\"\n",
    "DEVICE = torch.device(\"cuda\" if torch.cuda.is_available() else \"cpu\")\n",
    "TRANSFORM = transforms.Compose([transforms.ToTensor(), \n",
    "                                transforms.Normalize([0.485, 0.456, 0.406], \n",
    "                                                     [0.229, 0.224, 0.225]),\n",
    "                               ])\n",
    "\n",
    "\n",
    "def get_image(path: str, size: int) -> np.ndarray:\n",
    "    image = cv2.imread(path, cv2.IMREAD_COLOR)\n",
    "    image = cv2.cvtColor(src=image, code=cv2.COLOR_BGR2RGB)\n",
    "    return cv2.resize(src=image, dsize=(size, size), interpolation=cv2.INTER_AREA)\n",
    "\n",
    "\n",
    "le = LabelEncoder()"
   ]
  },
  {
   "cell_type": "markdown",
   "id": "b9954359",
   "metadata": {
    "papermill": {
     "duration": 0.010199,
     "end_time": "2022-03-28T05:09:03.375508",
     "exception": false,
     "start_time": "2022-03-28T05:09:03.365309",
     "status": "completed"
    },
    "tags": []
   },
   "source": [
    "### **Dataset Template**"
   ]
  },
  {
   "cell_type": "code",
   "execution_count": 4,
   "id": "0f69e759",
   "metadata": {
    "execution": {
     "iopub.execute_input": "2022-03-28T05:09:03.403687Z",
     "iopub.status.busy": "2022-03-28T05:09:03.401943Z",
     "iopub.status.idle": "2022-03-28T05:09:03.404300Z",
     "shell.execute_reply": "2022-03-28T05:09:03.404723Z"
    },
    "papermill": {
     "duration": 0.018778,
     "end_time": "2022-03-28T05:09:03.404847",
     "exception": false,
     "start_time": "2022-03-28T05:09:03.386069",
     "status": "completed"
    },
    "tags": []
   },
   "outputs": [],
   "source": [
    "class FEDS(Dataset):\n",
    "    def __init__(self, base_path: str, filenames: np.ndarray, transform):\n",
    "        self.base_path = base_path\n",
    "        self.filenames = filenames\n",
    "        self.transform = transform\n",
    "    \n",
    "    def __len__(self):\n",
    "        return self.filenames.shape[0]\n",
    "    \n",
    "    def __getitem__(self, idx):\n",
    "        return self.transform(get_image(os.path.join(self.base_path, self.filenames[idx]), SIZE))"
   ]
  },
  {
   "cell_type": "markdown",
   "id": "49315346",
   "metadata": {
    "papermill": {
     "duration": 0.010769,
     "end_time": "2022-03-28T05:09:03.426120",
     "exception": false,
     "start_time": "2022-03-28T05:09:03.415351",
     "status": "completed"
    },
    "tags": []
   },
   "source": [
    "### **Load and Preprocess Data**"
   ]
  },
  {
   "cell_type": "code",
   "execution_count": 5,
   "id": "5a64227c",
   "metadata": {
    "execution": {
     "iopub.execute_input": "2022-03-28T05:09:03.454086Z",
     "iopub.status.busy": "2022-03-28T05:09:03.453587Z",
     "iopub.status.idle": "2022-03-28T05:12:05.633915Z",
     "shell.execute_reply": "2022-03-28T05:12:05.632939Z"
    },
    "papermill": {
     "duration": 182.197242,
     "end_time": "2022-03-28T05:12:05.634076",
     "exception": false,
     "start_time": "2022-03-28T05:09:03.436834",
     "status": "completed"
    },
    "tags": []
   },
   "outputs": [],
   "source": [
    "train_df = pd.read_csv(\"../input/sorghum-id-fgvc-9/train_cultivar_mapping.csv\")\n",
    "\n",
    "broken_images = [filename for filename in train_df.image if filename not in os.listdir(\"../input/sorghum-id-fgvc-9/train_images\")]\n",
    "for broken_image in broken_images:\n",
    "    index = train_df.index[train_df.image == broken_image]\n",
    "    train_df = train_df.drop(index=index)\n",
    "    \n",
    "filenames = train_df.image.copy().values\n",
    "labels    = train_df.cultivar.copy().values \n",
    "\n",
    "labels = le.fit_transform(labels)\n",
    "np.save(\"labels.npy\", labels)\n",
    "\n",
    "features = np.zeros((len(filenames), FV_LENGTH))"
   ]
  },
  {
   "cell_type": "markdown",
   "id": "f9504ce5",
   "metadata": {
    "papermill": {
     "duration": 0.010975,
     "end_time": "2022-03-28T05:12:05.656455",
     "exception": false,
     "start_time": "2022-03-28T05:12:05.645480",
     "status": "completed"
    },
    "tags": []
   },
   "source": [
    "### **Get Features**"
   ]
  },
  {
   "cell_type": "code",
   "execution_count": 6,
   "id": "e9fce14c",
   "metadata": {
    "execution": {
     "iopub.execute_input": "2022-03-28T05:12:05.684463Z",
     "iopub.status.busy": "2022-03-28T05:12:05.683789Z",
     "iopub.status.idle": "2022-03-28T05:32:25.499010Z",
     "shell.execute_reply": "2022-03-28T05:32:25.498448Z"
    },
    "papermill": {
     "duration": 1219.832133,
     "end_time": "2022-03-28T05:32:25.499154",
     "exception": false,
     "start_time": "2022-03-28T05:12:05.667021",
     "status": "completed"
    },
    "tags": []
   },
   "outputs": [
    {
     "name": "stderr",
     "output_type": "stream",
     "text": [
      "Downloading: \"https://github.com/SwinTransformer/storage/releases/download/v1.0.0/swin_large_patch4_window12_384_22k.pth\" to /root/.cache/torch/hub/checkpoints/swin_large_patch4_window12_384_22k.pth\n"
     ]
    }
   ],
   "source": [
    "dataloader_setup = FEDS(\"../input/sorghum-id-fgvc-9/train_images\", filenames, TRANSFORM)\n",
    "dataloader = DL(dataloader_setup, batch_size=64, shuffle=False)\n",
    "\n",
    "features = torch.zeros(1, FV_LENGTH).to(DEVICE)\n",
    "model = timm.create_model(\"swin_large_patch4_window12_384_in22k\", pretrained=True).to(DEVICE)\n",
    "model = torch.nn.Sequential(*[*model.children()][:-3])\n",
    "\n",
    "for X in dataloader:\n",
    "    X = X.to(DEVICE)\n",
    "    with torch.no_grad():\n",
    "        output = model(X)\n",
    "    features = torch.cat((features, output[:, 0, :]), dim=0)\n",
    "\n",
    "features = features[1:].detach().cpu().numpy()\n",
    "np.save(\"features.npy\", features)"
   ]
  }
 ],
 "metadata": {
  "kernelspec": {
   "display_name": "Python 3",
   "language": "python",
   "name": "python3"
  },
  "language_info": {
   "codemirror_mode": {
    "name": "ipython",
    "version": 3
   },
   "file_extension": ".py",
   "mimetype": "text/x-python",
   "name": "python",
   "nbconvert_exporter": "python",
   "pygments_lexer": "ipython3",
   "version": "3.7.12"
  },
  "papermill": {
   "default_parameters": {},
   "duration": 1426.890917,
   "end_time": "2022-03-28T05:32:27.885722",
   "environment_variables": {},
   "exception": null,
   "input_path": "__notebook__.ipynb",
   "output_path": "__notebook__.ipynb",
   "parameters": {},
   "start_time": "2022-03-28T05:08:40.994805",
   "version": "2.3.3"
  }
 },
 "nbformat": 4,
 "nbformat_minor": 5
}
