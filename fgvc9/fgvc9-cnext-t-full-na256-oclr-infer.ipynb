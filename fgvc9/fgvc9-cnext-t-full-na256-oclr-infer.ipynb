{
 "cells": [
  {
   "cell_type": "code",
   "execution_count": 1,
   "id": "3753b324",
   "metadata": {
    "_cell_guid": "b1076dfc-b9ad-4769-8c92-a6c4dae69d19",
    "_uuid": "8f2839f25d086af736a60e9eeb907d3b93b6e0e5",
    "execution": {
     "iopub.execute_input": "2022-04-10T17:03:17.858300Z",
     "iopub.status.busy": "2022-04-10T17:03:17.857677Z",
     "iopub.status.idle": "2022-04-10T17:03:27.409720Z",
     "shell.execute_reply": "2022-04-10T17:03:27.408950Z",
     "shell.execute_reply.started": "2022-04-10T16:57:09.820199Z"
    },
    "papermill": {
     "duration": 9.575063,
     "end_time": "2022-04-10T17:03:27.409918",
     "exception": false,
     "start_time": "2022-04-10T17:03:17.834855",
     "status": "completed"
    },
    "tags": []
   },
   "outputs": [
    {
     "name": "stderr",
     "output_type": "stream",
     "text": [
      "WARNING: Running pip as the 'root' user can result in broken permissions and conflicting behaviour with the system package manager. It is recommended to use a virtual environment instead: https://pip.pypa.io/warnings/venv\n"
     ]
    }
   ],
   "source": [
    "%%bash\n",
    "pip install --upgrade timm -q"
   ]
  },
  {
   "cell_type": "markdown",
   "id": "947eea2f",
   "metadata": {
    "papermill": {
     "duration": 0.012439,
     "end_time": "2022-04-10T17:03:27.436853",
     "exception": false,
     "start_time": "2022-04-10T17:03:27.424414",
     "status": "completed"
    },
    "tags": []
   },
   "source": [
    "### **Library Imports**"
   ]
  },
  {
   "cell_type": "code",
   "execution_count": 2,
   "id": "39d2fef9",
   "metadata": {
    "execution": {
     "iopub.execute_input": "2022-04-10T17:03:27.468310Z",
     "iopub.status.busy": "2022-04-10T17:03:27.467539Z",
     "iopub.status.idle": "2022-04-10T17:03:30.799130Z",
     "shell.execute_reply": "2022-04-10T17:03:30.798644Z",
     "shell.execute_reply.started": "2022-04-10T16:58:54.098714Z"
    },
    "papermill": {
     "duration": 3.349707,
     "end_time": "2022-04-10T17:03:30.799261",
     "exception": false,
     "start_time": "2022-04-10T17:03:27.449554",
     "status": "completed"
    },
    "tags": []
   },
   "outputs": [],
   "source": [
    "import os\n",
    "import re\n",
    "import cv2\n",
    "import timm\n",
    "import torch\n",
    "import numpy as np\n",
    "import pandas as pd\n",
    "import matplotlib.pyplot as plt\n",
    "\n",
    "from torch import nn, optim\n",
    "from torch.utils.data import Dataset\n",
    "from torch.utils.data import DataLoader as DL\n",
    "from torchvision import models, transforms\n",
    "\n",
    "from sklearn.preprocessing import LabelEncoder\n",
    "from sklearn.model_selection import StratifiedKFold\n",
    "\n",
    "import warnings\n",
    "warnings.filterwarnings(\"ignore\")"
   ]
  },
  {
   "cell_type": "markdown",
   "id": "c1ba8e7e",
   "metadata": {
    "papermill": {
     "duration": 0.01324,
     "end_time": "2022-04-10T17:03:30.825994",
     "exception": false,
     "start_time": "2022-04-10T17:03:30.812754",
     "status": "completed"
    },
    "tags": []
   },
   "source": [
    "### **Utilities and Constants**"
   ]
  },
  {
   "cell_type": "code",
   "execution_count": 3,
   "id": "f2e479fa",
   "metadata": {
    "execution": {
     "iopub.execute_input": "2022-04-10T17:03:30.856927Z",
     "iopub.status.busy": "2022-04-10T17:03:30.856103Z",
     "iopub.status.idle": "2022-04-10T17:03:30.862663Z",
     "shell.execute_reply": "2022-04-10T17:03:30.862198Z",
     "shell.execute_reply.started": "2022-04-10T16:57:22.121969Z"
    },
    "papermill": {
     "duration": 0.022902,
     "end_time": "2022-04-10T17:03:30.862773",
     "exception": false,
     "start_time": "2022-04-10T17:03:30.839871",
     "status": "completed"
    },
    "tags": []
   },
   "outputs": [],
   "source": [
    "SEED = 42\n",
    "SIZE = 256\n",
    "le = LabelEncoder()\n",
    "\n",
    "\n",
    "def breaker(num: int=50, char: str=\"*\") -> None:\n",
    "    print(\"\\n\" + num*char + \"\\n\")\n",
    "    \n",
    "\n",
    "def get_image(path: str, size: int) -> np.ndarray:\n",
    "    image = cv2.imread(path, cv2.IMREAD_COLOR)\n",
    "    image = cv2.cvtColor(src=image, code=cv2.COLOR_BGR2RGB)\n",
    "    return cv2.resize(src=image, dsize=(size, size), interpolation=cv2.INTER_AREA)"
   ]
  },
  {
   "cell_type": "markdown",
   "id": "e7d26534",
   "metadata": {
    "papermill": {
     "duration": 0.012613,
     "end_time": "2022-04-10T17:03:30.888033",
     "exception": false,
     "start_time": "2022-04-10T17:03:30.875420",
     "status": "completed"
    },
    "tags": []
   },
   "source": [
    "### **Configuration**"
   ]
  },
  {
   "cell_type": "code",
   "execution_count": 4,
   "id": "f0ecd64d",
   "metadata": {
    "execution": {
     "iopub.execute_input": "2022-04-10T17:03:30.917166Z",
     "iopub.status.busy": "2022-04-10T17:03:30.916284Z",
     "iopub.status.idle": "2022-04-10T17:03:30.966239Z",
     "shell.execute_reply": "2022-04-10T17:03:30.965777Z",
     "shell.execute_reply.started": "2022-04-10T17:00:50.440340Z"
    },
    "papermill": {
     "duration": 0.065527,
     "end_time": "2022-04-10T17:03:30.966364",
     "exception": false,
     "start_time": "2022-04-10T17:03:30.900837",
     "status": "completed"
    },
    "tags": []
   },
   "outputs": [],
   "source": [
    "class CFG(object):\n",
    "    def __init__(self, \n",
    "                 seed: int = 42,\n",
    "                 n_splits: int = 5,\n",
    "                 batch_size: int = 16,\n",
    "                 epochs: int = 25,\n",
    "                 early_stopping: int = 5,\n",
    "                 lr: float = 1e-4,\n",
    "                 wd: float = 0.0,\n",
    "                 max_lr: float = 1e-3,\n",
    "                 pct_start: float = 0.2,\n",
    "                 steps_per_epoch: int = 100,\n",
    "                 div_factor: int = 1e3, \n",
    "                 final_div_factor: float = 1e3,\n",
    "                 model_path: str = None,\n",
    "                 ):\n",
    "        \n",
    "        self.seed = seed\n",
    "        self.n_splits = n_splits\n",
    "        self.batch_size = batch_size\n",
    "        self.epochs = epochs\n",
    "        self.early_stopping = early_stopping\n",
    "        self.lr = lr\n",
    "        self.wd = wd\n",
    "        self.max_lr = max_lr\n",
    "        self.pct_start = pct_start\n",
    "        self.steps_per_epoch = steps_per_epoch\n",
    "        self.div_factor = div_factor\n",
    "        self.final_div_factor = final_div_factor\n",
    "        self.model_path = model_path\n",
    "        self.device = torch.device(\"cuda\" if torch.cuda.is_available() else \"cpu\")\n",
    "        self.transform = transforms.Compose([transforms.ToTensor(),\n",
    "                                             transforms.Normalize([0.37250, 0.37591, 0.37537],\n",
    "                                                                  [0.20316, 0.21171, 0.21160]),\n",
    "                                            ])\n",
    "    \n",
    "cfg = CFG(seed=SEED, model_path=\"../input/fgvc9-convnextt-full-na256-oclr/state.pt\")"
   ]
  },
  {
   "cell_type": "markdown",
   "id": "f7056c14",
   "metadata": {
    "papermill": {
     "duration": 0.013883,
     "end_time": "2022-04-10T17:03:30.993710",
     "exception": false,
     "start_time": "2022-04-10T17:03:30.979827",
     "status": "completed"
    },
    "tags": []
   },
   "source": [
    "### **Dataset Template**"
   ]
  },
  {
   "cell_type": "code",
   "execution_count": 5,
   "id": "2b3d0620",
   "metadata": {
    "execution": {
     "iopub.execute_input": "2022-04-10T17:03:31.022265Z",
     "iopub.status.busy": "2022-04-10T17:03:31.021463Z",
     "iopub.status.idle": "2022-04-10T17:03:31.027399Z",
     "shell.execute_reply": "2022-04-10T17:03:31.027875Z",
     "shell.execute_reply.started": "2022-04-10T16:57:22.187519Z"
    },
    "papermill": {
     "duration": 0.021407,
     "end_time": "2022-04-10T17:03:31.028001",
     "exception": false,
     "start_time": "2022-04-10T17:03:31.006594",
     "status": "completed"
    },
    "tags": []
   },
   "outputs": [],
   "source": [
    "class DS(Dataset):\n",
    "    def __init__(self, base_path: str, filenames: np.ndarray, transform):\n",
    "        self.base_path = base_path\n",
    "        self.filenames = filenames\n",
    "        self.transform = transform\n",
    "    \n",
    "    def __len__(self):\n",
    "        return self.filenames.shape[0]\n",
    "    \n",
    "    def __getitem__(self, idx):\n",
    "        return self.transform(get_image(os.path.join(self.base_path, self.filenames[idx]), SIZE))"
   ]
  },
  {
   "cell_type": "markdown",
   "id": "e28896e2",
   "metadata": {
    "papermill": {
     "duration": 0.012675,
     "end_time": "2022-04-10T17:03:31.053335",
     "exception": false,
     "start_time": "2022-04-10T17:03:31.040660",
     "status": "completed"
    },
    "tags": []
   },
   "source": [
    "### **Model**"
   ]
  },
  {
   "cell_type": "code",
   "execution_count": 6,
   "id": "b9b792c4",
   "metadata": {
    "execution": {
     "iopub.execute_input": "2022-04-10T17:03:31.084580Z",
     "iopub.status.busy": "2022-04-10T17:03:31.083784Z",
     "iopub.status.idle": "2022-04-10T17:03:31.086115Z",
     "shell.execute_reply": "2022-04-10T17:03:31.085723Z",
     "shell.execute_reply.started": "2022-04-10T16:57:22.197590Z"
    },
    "papermill": {
     "duration": 0.02033,
     "end_time": "2022-04-10T17:03:31.086218",
     "exception": false,
     "start_time": "2022-04-10T17:03:31.065888",
     "status": "completed"
    },
    "tags": []
   },
   "outputs": [],
   "source": [
    "class Model(nn.Module):\n",
    "    def __init__(self):\n",
    "        super(Model, self).__init__()\n",
    "\n",
    "        self.model = timm.create_model(model_name=\"convnext_tiny\", pretrained=False)\n",
    "        self.model.head.fc = nn.Linear(in_features=self.model.head.fc.in_features, out_features=100)\n",
    "\n",
    "    def forward(self, x):\n",
    "        return nn.LogSoftmax(dim=1)(self.model(x))"
   ]
  },
  {
   "cell_type": "markdown",
   "id": "24ecc0fd",
   "metadata": {
    "papermill": {
     "duration": 0.012221,
     "end_time": "2022-04-10T17:03:31.111479",
     "exception": false,
     "start_time": "2022-04-10T17:03:31.099258",
     "status": "completed"
    },
    "tags": []
   },
   "source": [
    "### **Predict Helper**"
   ]
  },
  {
   "cell_type": "code",
   "execution_count": 7,
   "id": "a3630015",
   "metadata": {
    "execution": {
     "iopub.execute_input": "2022-04-10T17:03:31.143683Z",
     "iopub.status.busy": "2022-04-10T17:03:31.142946Z",
     "iopub.status.idle": "2022-04-10T17:03:31.145366Z",
     "shell.execute_reply": "2022-04-10T17:03:31.144946Z",
     "shell.execute_reply.started": "2022-04-10T17:02:15.881526Z"
    },
    "papermill": {
     "duration": 0.021392,
     "end_time": "2022-04-10T17:03:31.145500",
     "exception": false,
     "start_time": "2022-04-10T17:03:31.124108",
     "status": "completed"
    },
    "tags": []
   },
   "outputs": [],
   "source": [
    "def predict(model=None, dataloader=None, path=None, device=None) -> np.ndarray:\n",
    "    model.load_state_dict(torch.load(path, map_location=device)[\"model_state_dict\"])\n",
    "    model.to(device)    \n",
    "    model.eval()\n",
    "    \n",
    "    y_pred = torch.zeros(1, 1).to(device)\n",
    "    \n",
    "    for X in dataloader:\n",
    "        X = X.to(device)\n",
    "        with torch.no_grad():\n",
    "            output = torch.argmax(torch.exp(model(X)), dim=1)\n",
    "        y_pred = torch.cat((y_pred, output.view(-1, 1)), dim=0)\n",
    "    \n",
    "    return y_pred[1:].detach().cpu().numpy()"
   ]
  },
  {
   "cell_type": "markdown",
   "id": "4ab1dd45",
   "metadata": {
    "papermill": {
     "duration": 0.012479,
     "end_time": "2022-04-10T17:03:31.170552",
     "exception": false,
     "start_time": "2022-04-10T17:03:31.158073",
     "status": "completed"
    },
    "tags": []
   },
   "source": [
    "### **Get Label Encoding Transform**"
   ]
  },
  {
   "cell_type": "code",
   "execution_count": 8,
   "id": "9d1303dc",
   "metadata": {
    "execution": {
     "iopub.execute_input": "2022-04-10T17:03:31.202123Z",
     "iopub.status.busy": "2022-04-10T17:03:31.201627Z",
     "iopub.status.idle": "2022-04-10T17:03:31.255674Z",
     "shell.execute_reply": "2022-04-10T17:03:31.255125Z",
     "shell.execute_reply.started": "2022-04-10T16:57:22.219528Z"
    },
    "papermill": {
     "duration": 0.072478,
     "end_time": "2022-04-10T17:03:31.255798",
     "exception": false,
     "start_time": "2022-04-10T17:03:31.183320",
     "status": "completed"
    },
    "tags": []
   },
   "outputs": [],
   "source": [
    "train_df = pd.read_csv(\"../input/sorghum-id-fgvc-9/train_cultivar_mapping.csv\")\n",
    "train_df = train_df.drop(index=train_df.index[train_df.image == \".DS_Store\"])\n",
    "\n",
    "labels    = train_df.cultivar.copy().values \n",
    "labels = le.fit_transform(labels)"
   ]
  },
  {
   "cell_type": "markdown",
   "id": "6f7774f9",
   "metadata": {
    "papermill": {
     "duration": 0.012385,
     "end_time": "2022-04-10T17:03:31.281000",
     "exception": false,
     "start_time": "2022-04-10T17:03:31.268615",
     "status": "completed"
    },
    "tags": []
   },
   "source": [
    "### **Submission**"
   ]
  },
  {
   "cell_type": "code",
   "execution_count": 9,
   "id": "8e2431b4",
   "metadata": {
    "execution": {
     "iopub.execute_input": "2022-04-10T17:03:31.311782Z",
     "iopub.status.busy": "2022-04-10T17:03:31.311130Z",
     "iopub.status.idle": "2022-04-10T17:25:45.105094Z",
     "shell.execute_reply": "2022-04-10T17:25:45.105699Z",
     "shell.execute_reply.started": "2022-04-10T17:02:19.207925Z"
    },
    "papermill": {
     "duration": 1333.812248,
     "end_time": "2022-04-10T17:25:45.105907",
     "exception": false,
     "start_time": "2022-04-10T17:03:31.293659",
     "status": "completed"
    },
    "tags": []
   },
   "outputs": [],
   "source": [
    "ss_df = pd.read_csv(\"../input/sorghum-id-fgvc-9/sample_submission.csv\")\n",
    "\n",
    "ts_data_setup = DS(\"../input/sorghum-id-fgvc-9/test\", ss_df.filename.copy().values, cfg.transform)\n",
    "ts_data = DL(ts_data_setup, batch_size=cfg.batch_size, shuffle=False)\n",
    "\n",
    "y_pred = predict(model=Model().to(cfg.device), dataloader=ts_data, path=cfg.model_path, device=cfg.device)\n",
    "y_pred = le.inverse_transform(y_pred.astype(\"uint8\"))\n",
    "\n",
    "ss_df[\"cultivar\"] = y_pred\n",
    "ss_df.to_csv(\"submission.csv\", index=False)"
   ]
  }
 ],
 "metadata": {
  "kernelspec": {
   "display_name": "Python 3",
   "language": "python",
   "name": "python3"
  },
  "language_info": {
   "codemirror_mode": {
    "name": "ipython",
    "version": 3
   },
   "file_extension": ".py",
   "mimetype": "text/x-python",
   "name": "python",
   "nbconvert_exporter": "python",
   "pygments_lexer": "ipython3",
   "version": "3.7.12"
  },
  "papermill": {
   "default_parameters": {},
   "duration": 1357.776228,
   "end_time": "2022-04-10T17:25:47.642826",
   "environment_variables": {},
   "exception": null,
   "input_path": "__notebook__.ipynb",
   "output_path": "__notebook__.ipynb",
   "parameters": {},
   "start_time": "2022-04-10T17:03:09.866598",
   "version": "2.3.3"
  }
 },
 "nbformat": 4,
 "nbformat_minor": 5
}
