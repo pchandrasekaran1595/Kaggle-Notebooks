{
 "cells": [
  {
   "cell_type": "code",
   "execution_count": 1,
   "id": "3332490a",
   "metadata": {
    "_cell_guid": "b1076dfc-b9ad-4769-8c92-a6c4dae69d19",
    "_uuid": "8f2839f25d086af736a60e9eeb907d3b93b6e0e5",
    "execution": {
     "iopub.execute_input": "2022-04-11T08:46:54.498165Z",
     "iopub.status.busy": "2022-04-11T08:46:54.497515Z",
     "iopub.status.idle": "2022-04-11T08:47:05.194988Z",
     "shell.execute_reply": "2022-04-11T08:47:05.195428Z"
    },
    "papermill": {
     "duration": 10.721174,
     "end_time": "2022-04-11T08:47:05.195666",
     "exception": false,
     "start_time": "2022-04-11T08:46:54.474492",
     "status": "completed"
    },
    "tags": []
   },
   "outputs": [
    {
     "name": "stderr",
     "output_type": "stream",
     "text": [
      "WARNING: Running pip as the 'root' user can result in broken permissions and conflicting behaviour with the system package manager. It is recommended to use a virtual environment instead: https://pip.pypa.io/warnings/venv\n"
     ]
    }
   ],
   "source": [
    "%%bash\n",
    "pip install --upgrade timm -q"
   ]
  },
  {
   "cell_type": "markdown",
   "id": "5e54b70a",
   "metadata": {
    "papermill": {
     "duration": 0.013267,
     "end_time": "2022-04-11T08:47:05.222932",
     "exception": false,
     "start_time": "2022-04-11T08:47:05.209665",
     "status": "completed"
    },
    "tags": []
   },
   "source": [
    "### **Library Imports**"
   ]
  },
  {
   "cell_type": "code",
   "execution_count": 2,
   "id": "af9aa43b",
   "metadata": {
    "execution": {
     "iopub.execute_input": "2022-04-11T08:47:05.256109Z",
     "iopub.status.busy": "2022-04-11T08:47:05.255356Z",
     "iopub.status.idle": "2022-04-11T08:47:08.655393Z",
     "shell.execute_reply": "2022-04-11T08:47:08.655846Z",
     "shell.execute_reply.started": "2022-04-02T03:24:36.266618Z"
    },
    "papermill": {
     "duration": 3.419778,
     "end_time": "2022-04-11T08:47:08.656019",
     "exception": false,
     "start_time": "2022-04-11T08:47:05.236241",
     "status": "completed"
    },
    "tags": []
   },
   "outputs": [],
   "source": [
    "import os\n",
    "import re\n",
    "import cv2\n",
    "import timm\n",
    "import torch\n",
    "import numpy as np\n",
    "import pandas as pd\n",
    "import matplotlib.pyplot as plt\n",
    "\n",
    "from time import time\n",
    "from torch import nn, optim\n",
    "from torch.utils.data import Dataset\n",
    "from torch.utils.data import DataLoader as DL\n",
    "from torchvision import models, transforms\n",
    "\n",
    "from sklearn.preprocessing import LabelEncoder\n",
    "from sklearn.model_selection import StratifiedKFold"
   ]
  },
  {
   "cell_type": "markdown",
   "id": "1aa81356",
   "metadata": {
    "papermill": {
     "duration": 0.013348,
     "end_time": "2022-04-11T08:47:08.682922",
     "exception": false,
     "start_time": "2022-04-11T08:47:08.669574",
     "status": "completed"
    },
    "tags": []
   },
   "source": [
    "### **Utilities and Constants**"
   ]
  },
  {
   "cell_type": "code",
   "execution_count": 3,
   "id": "29dcbf8d",
   "metadata": {
    "execution": {
     "iopub.execute_input": "2022-04-11T08:47:08.722900Z",
     "iopub.status.busy": "2022-04-11T08:47:08.722107Z",
     "iopub.status.idle": "2022-04-11T08:47:08.724460Z",
     "shell.execute_reply": "2022-04-11T08:47:08.724061Z",
     "shell.execute_reply.started": "2022-04-02T03:24:39.241224Z"
    },
    "papermill": {
     "duration": 0.027778,
     "end_time": "2022-04-11T08:47:08.724562",
     "exception": false,
     "start_time": "2022-04-11T08:47:08.696784",
     "status": "completed"
    },
    "tags": []
   },
   "outputs": [],
   "source": [
    "SEED = 42\n",
    "SIZE = 512\n",
    "le = LabelEncoder()\n",
    "\n",
    "\n",
    "def breaker(num: int=50, char: str=\"*\") -> None:\n",
    "    print(\"\\n\" + num*char + \"\\n\")\n",
    "\n",
    "\n",
    "def get_image(path: str, size: int) -> np.ndarray:\n",
    "    image = cv2.imread(path, cv2.IMREAD_COLOR)\n",
    "    image = cv2.cvtColor(src=image, code=cv2.COLOR_BGR2RGB)\n",
    "    return cv2.resize(src=image, dsize=(size, size), interpolation=cv2.INTER_AREA)\n",
    "\n",
    "\n",
    "def show_graphs(L: list, A: list) -> None:\n",
    "    TL, VL, TA, VA = [], [], [], []\n",
    "    for i in range(len(L)):\n",
    "        TL.append(L[i][\"train\"])\n",
    "        VL.append(L[i][\"valid\"])\n",
    "        TA.append(A[i][\"train\"])\n",
    "        VA.append(A[i][\"valid\"])\n",
    "    x_Axis = np.arange(1, len(TL) + 1)\n",
    "    plt.figure(figsize=(8, 6))\n",
    "    plt.subplot(1, 2, 1)\n",
    "    plt.plot(x_Axis, TL, \"r\", label=\"Train\")\n",
    "    plt.plot(x_Axis, VL, \"b\", label=\"Valid\")\n",
    "    plt.legend()\n",
    "    plt.grid()\n",
    "    plt.title(\"Loss Graph\")\n",
    "    plt.subplot(1, 2, 2)\n",
    "    plt.plot(x_Axis, TA, \"r\", label=\"Train\")\n",
    "    plt.plot(x_Axis, VA, \"b\", label=\"Valid\")\n",
    "    plt.legend()\n",
    "    plt.grid()\n",
    "    plt.title(\"Accuracy Graph\")\n",
    "    plt.show()"
   ]
  },
  {
   "cell_type": "markdown",
   "id": "bcda2021",
   "metadata": {
    "papermill": {
     "duration": 0.01304,
     "end_time": "2022-04-11T08:47:08.751026",
     "exception": false,
     "start_time": "2022-04-11T08:47:08.737986",
     "status": "completed"
    },
    "tags": []
   },
   "source": [
    "### **Configuration**"
   ]
  },
  {
   "cell_type": "code",
   "execution_count": 4,
   "id": "d456dfbe",
   "metadata": {
    "execution": {
     "iopub.execute_input": "2022-04-11T08:47:08.827963Z",
     "iopub.status.busy": "2022-04-11T08:47:08.826877Z",
     "iopub.status.idle": "2022-04-11T08:47:08.831300Z",
     "shell.execute_reply": "2022-04-11T08:47:08.830655Z",
     "shell.execute_reply.started": "2022-04-02T03:24:39.369954Z"
    },
    "papermill": {
     "duration": 0.066852,
     "end_time": "2022-04-11T08:47:08.831425",
     "exception": false,
     "start_time": "2022-04-11T08:47:08.764573",
     "status": "completed"
    },
    "tags": []
   },
   "outputs": [],
   "source": [
    "class CFG(object):\n",
    "    def __init__(self, \n",
    "                 seed: int = 42,\n",
    "                 n_splits: int = 5,\n",
    "                 batch_size: int = 16,\n",
    "                 epochs: int = 25,\n",
    "                 early_stopping: int = 5,\n",
    "                 lr: float = 1e-4,\n",
    "                 wd: float = 0.0,\n",
    "                 max_lr: float = 1e-3,\n",
    "                 pct_start: float = 0.2,\n",
    "                 steps_per_epoch: int = 100,\n",
    "                 div_factor: int = 1e3, \n",
    "                 final_div_factor: float = 1e3,\n",
    "                 ):\n",
    "        \n",
    "        self.seed = seed\n",
    "        self.n_splits = n_splits\n",
    "        self.batch_size = batch_size\n",
    "        self.epochs = epochs\n",
    "        self.early_stopping = early_stopping\n",
    "        self.lr = lr\n",
    "        self.wd = wd\n",
    "        self.max_lr = max_lr\n",
    "        self.pct_start = pct_start\n",
    "        self.steps_per_epoch = steps_per_epoch\n",
    "        self.div_factor = div_factor\n",
    "        self.final_div_factor = final_div_factor\n",
    "        self.device = torch.device(\"cuda\" if torch.cuda.is_available() else \"cpu\")\n",
    "        self.train_base_path = \"../input/sorghum-id-fgvc-9/train_images\"\n",
    "        self.test_base_path = \"../input/sorghum-id-fgvc-9/test\"\n",
    "        self.model_path_256 = \"../input/fgvc9-convnextt-full-na256-oclr/state.pt\"\n",
    "        self.transform = transforms.Compose([transforms.ToTensor(), transforms.Normalize([0.36878, 0.38273, 0.29333], [0.16007, 0.16414, 0.12774]),])\n",
    "        self.device = torch.device(\"cuda\" if torch.cuda.is_available() else \"cpu\")\n",
    "        self.save_path = \"saves\"\n",
    "        if not os.path.exists(self.save_path): os.makedirs(self.save_path)\n",
    "\n",
    "    \n",
    "cfg = CFG(seed=SEED)"
   ]
  },
  {
   "cell_type": "markdown",
   "id": "bf176ff4",
   "metadata": {
    "papermill": {
     "duration": 0.0133,
     "end_time": "2022-04-11T08:47:08.858442",
     "exception": false,
     "start_time": "2022-04-11T08:47:08.845142",
     "status": "completed"
    },
    "tags": []
   },
   "source": [
    "### **Dataset Template**"
   ]
  },
  {
   "cell_type": "code",
   "execution_count": 5,
   "id": "9f2c05d6",
   "metadata": {
    "execution": {
     "iopub.execute_input": "2022-04-11T08:47:08.892403Z",
     "iopub.status.busy": "2022-04-11T08:47:08.891715Z",
     "iopub.status.idle": "2022-04-11T08:47:08.893845Z",
     "shell.execute_reply": "2022-04-11T08:47:08.894328Z",
     "shell.execute_reply.started": "2022-04-02T03:24:39.450543Z"
    },
    "papermill": {
     "duration": 0.022847,
     "end_time": "2022-04-11T08:47:08.894468",
     "exception": false,
     "start_time": "2022-04-11T08:47:08.871621",
     "status": "completed"
    },
    "tags": []
   },
   "outputs": [],
   "source": [
    "class DS(Dataset):\n",
    "    def __init__(self, base_path: str, filenames: np.ndarray, transform, labels: np.ndarray = None):\n",
    "        self.base_path = base_path\n",
    "        self.filenames = filenames\n",
    "        self.transform = transform\n",
    "        self.labels = labels\n",
    "    \n",
    "    def __len__(self):\n",
    "        return self.filenames.shape[0]\n",
    "    \n",
    "    def __getitem__(self, idx):\n",
    "        if self.labels is not None:\n",
    "            return self.transform(get_image(os.path.join(self.base_path, self.filenames[idx]), SIZE)), torch.LongTensor(self.labels[idx])\n",
    "        else:\n",
    "            return self.transform(get_image(os.path.join(self.base_path, self.filenames[idx]), SIZE))"
   ]
  },
  {
   "cell_type": "markdown",
   "id": "2f65d31a",
   "metadata": {
    "papermill": {
     "duration": 0.0215,
     "end_time": "2022-04-11T08:47:08.943744",
     "exception": false,
     "start_time": "2022-04-11T08:47:08.922244",
     "status": "completed"
    },
    "tags": []
   },
   "source": [
    "### **Model**"
   ]
  },
  {
   "cell_type": "code",
   "execution_count": 6,
   "id": "b4f389ef",
   "metadata": {
    "execution": {
     "iopub.execute_input": "2022-04-11T08:47:09.010077Z",
     "iopub.status.busy": "2022-04-11T08:47:09.009178Z",
     "iopub.status.idle": "2022-04-11T08:47:09.011597Z",
     "shell.execute_reply": "2022-04-11T08:47:09.010927Z",
     "shell.execute_reply.started": "2022-04-02T03:24:39.463015Z"
    },
    "papermill": {
     "duration": 0.034951,
     "end_time": "2022-04-11T08:47:09.011770",
     "exception": false,
     "start_time": "2022-04-11T08:47:08.976819",
     "status": "completed"
    },
    "tags": []
   },
   "outputs": [],
   "source": [
    "class Model(nn.Module):\n",
    "    def __init__(self):\n",
    "        super(Model, self).__init__()\n",
    "\n",
    "        self.model = timm.create_model(model_name=\"convnext_tiny\", pretrained=False)\n",
    "        self.model.head.fc = nn.Linear(in_features=self.model.head.fc.in_features, out_features=100)\n",
    "\n",
    "    def forward(self, x):\n",
    "        return nn.LogSoftmax(dim=1)(self.model(x))"
   ]
  },
  {
   "cell_type": "markdown",
   "id": "4f119fb6",
   "metadata": {
    "papermill": {
     "duration": 0.020518,
     "end_time": "2022-04-11T08:47:09.060858",
     "exception": false,
     "start_time": "2022-04-11T08:47:09.040340",
     "status": "completed"
    },
    "tags": []
   },
   "source": [
    "### **Fit and Predict Helper**"
   ]
  },
  {
   "cell_type": "code",
   "execution_count": 7,
   "id": "c50759a2",
   "metadata": {
    "execution": {
     "iopub.execute_input": "2022-04-11T08:47:09.122331Z",
     "iopub.status.busy": "2022-04-11T08:47:09.115637Z",
     "iopub.status.idle": "2022-04-11T08:47:09.150137Z",
     "shell.execute_reply": "2022-04-11T08:47:09.151127Z",
     "shell.execute_reply.started": "2022-04-02T03:24:39.478012Z"
    },
    "papermill": {
     "duration": 0.061667,
     "end_time": "2022-04-11T08:47:09.151301",
     "exception": false,
     "start_time": "2022-04-11T08:47:09.089634",
     "status": "completed"
    },
    "tags": []
   },
   "outputs": [],
   "source": [
    "def fit(model=None, \n",
    "        optimizer=None, \n",
    "        scheduler=None, \n",
    "        epochs=None, \n",
    "        early_stopping_patience=None, \n",
    "        dataloaders=None, \n",
    "        fold=None, \n",
    "        save_path=None,\n",
    "        device=None,\n",
    "        verbose=False) -> tuple:\n",
    "    \n",
    "    def get_accuracy(y_pred, y_true):\n",
    "        y_pred = torch.argmax(y_pred, dim=1)\n",
    "        return torch.count_nonzero(y_pred == y_true).item() / len(y_pred)\n",
    "    \n",
    "    if verbose:\n",
    "        breaker()\n",
    "        if fold: print(f\"Training Fold {fold}...\")\n",
    "        else: print(\"Training ...\")\n",
    "        breaker()\n",
    "        \n",
    "    bestLoss, bestAccs = {\"train\" : np.inf, \"valid\" : np.inf}, {\"train\" : 0.0, \"valid\" : 0.0}\n",
    "    Losses, Accuracies, LRs = [], [], []\n",
    "    if fold: name = f\"state_fold_{fold}.pt\"\n",
    "    else: name = \"state.pt\"\n",
    "\n",
    "    start_time = time()\n",
    "    for e in range(epochs):\n",
    "        e_st = time()\n",
    "        epochLoss, epochAccs = {\"train\" : 0.0, \"valid\" : 0.0}, {\"train\" : 0.0, \"valid\" : 0.0}\n",
    "\n",
    "        for phase in [\"train\", \"valid\"]:\n",
    "            if phase == \"train\":\n",
    "                model.train()\n",
    "            else:\n",
    "                model.eval()\n",
    "            \n",
    "            lossPerPass, accsPerPass = [], []\n",
    "\n",
    "            for X, y in dataloaders[phase]:\n",
    "                X, y = X.to(device), y.to(device).view(-1)\n",
    "\n",
    "                optimizer.zero_grad()\n",
    "                with torch.set_grad_enabled(phase == \"train\"):\n",
    "                    output = model(X)\n",
    "                    loss = torch.nn.NLLLoss()(output, y)\n",
    "                    if phase == \"train\":\n",
    "                        loss.backward()\n",
    "                        optimizer.step()\n",
    "                        if scheduler: scheduler.step()\n",
    "                lossPerPass.append(loss.item())\n",
    "                accsPerPass.append(get_accuracy(output, y))\n",
    "            epochLoss[phase] = np.mean(np.array(lossPerPass))\n",
    "            epochAccs[phase] = np.mean(np.array(accsPerPass))\n",
    "        if scheduler: LRs.append(scheduler.get_last_lr())\n",
    "        Losses.append(epochLoss)\n",
    "        Accuracies.append(epochAccs)\n",
    "        \n",
    "        if early_stopping_patience:\n",
    "            if epochLoss[\"valid\"] < bestLoss[\"valid\"]:\n",
    "                bestLoss = epochLoss\n",
    "                BLE = e + 1\n",
    "                torch.save({\"model_state_dict\"     : model.state_dict(),\n",
    "                            \"optim_state_dict\"     : optimizer.state_dict()},\n",
    "                           os.path.join(save_path, name))\n",
    "                early_stopping_step = 0\n",
    "            else:\n",
    "                early_stopping_step += 1\n",
    "                if early_stopping_step > early_stopping_patience:\n",
    "                    print(\"\\nEarly Stopping at Epoch {}\".format(e + 1))\n",
    "                    break\n",
    "        \n",
    "        if epochLoss[\"valid\"] < bestLoss[\"valid\"]:\n",
    "            bestLoss = epochLoss\n",
    "            BLE = e + 1\n",
    "            torch.save({\"model_state_dict\"     : model.state_dict(),\n",
    "                        \"optim_state_dict\"     : optimizer.state_dict()},\n",
    "                        os.path.join(save_path, name))\n",
    "        \n",
    "        if epochAccs[\"valid\"] > bestAccs[\"valid\"]:\n",
    "            bestAccs = epochAccs\n",
    "            BAE = e + 1\n",
    "        \n",
    "        if verbose:\n",
    "            print(\"Epoch: {} | Train Loss: {:.5f} | Valid Loss: {:.5f} |\\\n",
    "Train Accs: {:.5f} | Valid Accs: {:.5f} | Time: {:.2f} seconds\".format(e+1, \n",
    "                                                                       epochLoss[\"train\"], epochLoss[\"valid\"], \n",
    "                                                                       epochAccs[\"train\"], epochAccs[\"valid\"], \n",
    "                                                                       time()-e_st))\n",
    "\n",
    "    if verbose:                                           \n",
    "        breaker()\n",
    "        print(f\"Best Validation Loss at Epoch {BLE}\")\n",
    "        breaker()\n",
    "        print(f\"Best Validation Accs at Epoch {BAE}\")\n",
    "        breaker()\n",
    "        print(\"Time Taken [{} Epochs] : {:.2f} minutes\".format(len(Losses), (time()-start_time)/60))\n",
    "    \n",
    "    return Losses, Accuracies, LRs, BLE, BAE, name\n",
    "\n",
    "\n",
    "# def predict(model=None, dataloader=None, path=None, device=None) -> np.ndarray:\n",
    "#     model.load_state_dict(torch.load(path, map_location=device)[\"model_state_dict\"])\n",
    "#     model.to(device)    \n",
    "#     model.eval()\n",
    "    \n",
    "#     y_pred = torch.zeros(1, 1).to(device)\n",
    "    \n",
    "#     for X in dataloader:\n",
    "#         X = X.to(device)\n",
    "#         with torch.no_grad():\n",
    "#             output = torch.argmax(torch.exp(model(X)), dim=1)\n",
    "#         y_pred = torch.cat((y_pred, output.view(-1, 1)), dim=0)\n",
    "    \n",
    "#     return y_pred[1:].detach().cpu().numpy()"
   ]
  },
  {
   "cell_type": "markdown",
   "id": "296917ec",
   "metadata": {
    "papermill": {
     "duration": 0.021458,
     "end_time": "2022-04-11T08:47:09.195149",
     "exception": false,
     "start_time": "2022-04-11T08:47:09.173691",
     "status": "completed"
    },
    "tags": []
   },
   "source": [
    "### **Train**"
   ]
  },
  {
   "cell_type": "code",
   "execution_count": 8,
   "id": "c6ac6345",
   "metadata": {
    "execution": {
     "iopub.execute_input": "2022-04-11T08:47:09.244829Z",
     "iopub.status.busy": "2022-04-11T08:47:09.244075Z",
     "iopub.status.idle": "2022-04-11T08:47:09.312945Z",
     "shell.execute_reply": "2022-04-11T08:47:09.313951Z",
     "shell.execute_reply.started": "2022-04-02T03:24:39.596988Z"
    },
    "papermill": {
     "duration": 0.09749,
     "end_time": "2022-04-11T08:47:09.314151",
     "exception": false,
     "start_time": "2022-04-11T08:47:09.216661",
     "status": "completed"
    },
    "tags": []
   },
   "outputs": [],
   "source": [
    "train_df = pd.read_csv(\"../input/sorghum-id-fgvc-9/train_cultivar_mapping.csv\")\n",
    "train_df = train_df.drop(index=train_df.index[train_df.image == \".DS_Store\"])\n",
    "\n",
    "filenames = train_df.image.copy().values\n",
    "labels = train_df.cultivar.copy().values \n",
    "labels = le.fit_transform(labels)"
   ]
  },
  {
   "cell_type": "code",
   "execution_count": 9,
   "id": "cee97e0d",
   "metadata": {
    "execution": {
     "iopub.execute_input": "2022-04-11T08:47:09.374110Z",
     "iopub.status.busy": "2022-04-11T08:47:09.373264Z",
     "iopub.status.idle": "2022-04-11T20:41:24.181044Z",
     "shell.execute_reply": "2022-04-11T20:41:24.181523Z",
     "shell.execute_reply.started": "2022-04-02T03:26:03.399923Z"
    },
    "papermill": {
     "duration": 42854.842237,
     "end_time": "2022-04-11T20:41:24.182252",
     "exception": false,
     "start_time": "2022-04-11T08:47:09.340015",
     "status": "completed"
    },
    "tags": []
   },
   "outputs": [
    {
     "name": "stdout",
     "output_type": "stream",
     "text": [
      "\n",
      "**************************************************\n",
      "\n",
      "Training ...\n",
      "\n",
      "**************************************************\n",
      "\n",
      "Epoch: 1 | Train Loss: 0.30984 | Valid Loss: 0.17561 |Train Accs: 0.92483 | Valid Accs: 0.94964 | Time: 3073.23 seconds\n",
      "Epoch: 2 | Train Loss: 0.01949 | Valid Loss: 0.15034 |Train Accs: 0.99465 | Valid Accs: 0.95683 | Time: 3063.57 seconds\n",
      "Epoch: 3 | Train Loss: 0.00352 | Valid Loss: 0.13025 |Train Accs: 0.99921 | Valid Accs: 0.96313 | Time: 3071.17 seconds\n",
      "Epoch: 4 | Train Loss: 0.00204 | Valid Loss: 0.13479 |Train Accs: 0.99921 | Valid Accs: 0.96515 | Time: 3071.65 seconds\n",
      "Epoch: 5 | Train Loss: 0.01338 | Valid Loss: 0.14113 |Train Accs: 0.99527 | Valid Accs: 0.96246 | Time: 3060.86 seconds\n",
      "Epoch: 6 | Train Loss: 0.00697 | Valid Loss: 0.15195 |Train Accs: 0.99764 | Valid Accs: 0.96178 | Time: 3066.14 seconds\n",
      "Epoch: 7 | Train Loss: 0.00737 | Valid Loss: 0.11611 |Train Accs: 0.99747 | Valid Accs: 0.97032 | Time: 3059.42 seconds\n",
      "Epoch: 8 | Train Loss: 0.00382 | Valid Loss: 0.11224 |Train Accs: 0.99842 | Valid Accs: 0.97100 | Time: 3063.58 seconds\n",
      "Epoch: 9 | Train Loss: 0.00727 | Valid Loss: 0.12984 |Train Accs: 0.99707 | Valid Accs: 0.96785 | Time: 3055.85 seconds\n",
      "Epoch: 10 | Train Loss: 0.00548 | Valid Loss: 0.18280 |Train Accs: 0.99797 | Valid Accs: 0.95549 | Time: 3053.34 seconds\n",
      "Epoch: 11 | Train Loss: 0.00827 | Valid Loss: 0.17180 |Train Accs: 0.99702 | Valid Accs: 0.96111 | Time: 3051.87 seconds\n",
      "Epoch: 12 | Train Loss: 0.00497 | Valid Loss: 0.15512 |Train Accs: 0.99831 | Valid Accs: 0.96290 | Time: 3048.85 seconds\n",
      "Epoch: 13 | Train Loss: 0.00338 | Valid Loss: 0.15542 |Train Accs: 0.99865 | Valid Accs: 0.96425 | Time: 3055.74 seconds\n",
      "\n",
      "Early Stopping at Epoch 14\n",
      "\n",
      "**************************************************\n",
      "\n",
      "Best Validation Loss at Epoch 8\n",
      "\n",
      "**************************************************\n",
      "\n",
      "Best Validation Accs at Epoch 8\n",
      "\n",
      "**************************************************\n",
      "\n",
      "Time Taken [14 Epochs] : 714.13 minutes\n",
      "\n",
      "**************************************************\n",
      "\n"
     ]
    },
    {
     "data": {
      "image/png": "[encoded data removed]",
      "text/plain": [
       "<Figure size 576x432 with 2 Axes>"
      ]
     },
     "metadata": {
      "needs_background": "light"
     },
     "output_type": "display_data"
    }
   ],
   "source": [
    "for tr_idx, va_idx in StratifiedKFold(n_splits=cfg.n_splits, random_state=cfg.seed, shuffle=True).split(filenames, labels):\n",
    "    break\n",
    "\n",
    "tr_filenames, va_filenames, tr_labels, va_labels = filenames[tr_idx], filenames[va_idx], labels[tr_idx], labels[va_idx]\n",
    "\n",
    "tr_data_setup = DS(cfg.train_base_path, tr_filenames, cfg.transform, tr_labels.reshape(-1, 1))\n",
    "va_data_setup = DS(cfg.train_base_path, va_filenames, cfg.transform, va_labels.reshape(-1, 1))\n",
    "\n",
    "dataloaders = {\n",
    "    \"train\" : DL(tr_data_setup, batch_size=cfg.batch_size, shuffle=True, generator=torch.manual_seed(cfg.seed)),\n",
    "    \"valid\" : DL(va_data_setup, batch_size=cfg.batch_size, shuffle=False),\n",
    "}\n",
    "\n",
    "cfg = CFG(epochs=15, batch_size=16, lr=1e-4, wd=1e-5, steps_per_epoch=len(dataloaders[\"train\"]))\n",
    "\n",
    "torch.manual_seed(cfg.seed)\n",
    "model = Model().to(cfg.device)\n",
    "model.load_state_dict(torch.load(cfg.model_path_256, map_location=cfg.device)[\"model_state_dict\"])\n",
    "\n",
    "optimizer = optim.Adam([p for p in model.parameters() if p.requires_grad], lr=cfg.lr, weight_decay=cfg.wd)\n",
    "# scheduler = optim.lr_scheduler.OneCycleLR(optimizer=optimizer, \n",
    "#                                           max_lr=cfg.max_lr, \n",
    "#                                           epochs=cfg.epochs, \n",
    "#                                           steps_per_epoch=cfg.steps_per_epoch,\n",
    "#                                           pct_start=cfg.pct_start, \n",
    "#                                           div_factor=cfg.div_factor, \n",
    "#                                           final_div_factor=cfg.final_div_factor)\n",
    "scheduler = None\n",
    "\n",
    "L, A, LRs, BLE, BAE, name = fit(model=model, \n",
    "                                optimizer=optimizer, \n",
    "                                scheduler=scheduler, \n",
    "                                epochs=cfg.epochs, \n",
    "                                early_stopping_patience=cfg.early_stopping, \n",
    "                                dataloaders=dataloaders,  \n",
    "                                save_path=cfg.save_path,\n",
    "                                device=cfg.device,\n",
    "                                verbose=True)\n",
    "\n",
    "breaker()\n",
    "show_graphs(L, A)"
   ]
  },
  {
   "cell_type": "markdown",
   "id": "5f07ccc9",
   "metadata": {
    "papermill": {
     "duration": 0.018777,
     "end_time": "2022-04-11T20:41:24.220069",
     "exception": false,
     "start_time": "2022-04-11T20:41:24.201292",
     "status": "completed"
    },
    "tags": []
   },
   "source": [
    "### **Submission**"
   ]
  },
  {
   "cell_type": "code",
   "execution_count": 10,
   "id": "c8ca0700",
   "metadata": {
    "execution": {
     "iopub.execute_input": "2022-04-11T20:41:24.263397Z",
     "iopub.status.busy": "2022-04-11T20:41:24.261879Z",
     "iopub.status.idle": "2022-04-11T20:41:24.264014Z",
     "shell.execute_reply": "2022-04-11T20:41:24.264419Z"
    },
    "papermill": {
     "duration": 0.025327,
     "end_time": "2022-04-11T20:41:24.264533",
     "exception": false,
     "start_time": "2022-04-11T20:41:24.239206",
     "status": "completed"
    },
    "tags": []
   },
   "outputs": [],
   "source": [
    "# ss_df = pd.read_csv(\"/.data/sample_submission.csv\")\n",
    "\n",
    "# ts_data_setup = DS(cfg.test_base_path, ss_df.filename.copy().values, TRANSFORM)\n",
    "# ts_data = DL(ts_data_setup, batch_size=cfg.batch_size, shuffle=False)\n",
    "\n",
    "# y_pred = predict(model=MyResnet().to(cfg.device), dataloader=ts_data, path=MODEL_PATH)\n",
    "# y_pred = le.inverse_transform(y_pred.astype(\"uint8\"))\n",
    "\n",
    "# ss_df[\"cultivar\"] = y_pred\n",
    "# ss_df.to_csv(\"/content/submission.csv\", index=False)"
   ]
  }
 ],
 "metadata": {
  "kernelspec": {
   "display_name": "Python 3",
   "language": "python",
   "name": "python3"
  },
  "language_info": {
   "codemirror_mode": {
    "name": "ipython",
    "version": 3
   },
   "file_extension": ".py",
   "mimetype": "text/x-python",
   "name": "python",
   "nbconvert_exporter": "python",
   "pygments_lexer": "ipython3",
   "version": "3.7.12"
  },
  "papermill": {
   "default_parameters": {},
   "duration": 42880.810782,
   "end_time": "2022-04-11T20:41:27.334471",
   "environment_variables": {},
   "exception": null,
   "input_path": "__notebook__.ipynb",
   "output_path": "__notebook__.ipynb",
   "parameters": {},
   "start_time": "2022-04-11T08:46:46.523689",
   "version": "2.3.3"
  }
 },
 "nbformat": 4,
 "nbformat_minor": 5
}
