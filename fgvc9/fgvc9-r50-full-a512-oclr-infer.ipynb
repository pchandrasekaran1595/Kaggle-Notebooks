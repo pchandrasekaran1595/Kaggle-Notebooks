{
 "cells": [
  {
   "cell_type": "markdown",
   "id": "0f027c03",
   "metadata": {
    "papermill": {
     "duration": 0.012433,
     "end_time": "2022-04-14T05:30:16.836509",
     "exception": false,
     "start_time": "2022-04-14T05:30:16.824076",
     "status": "completed"
    },
    "tags": []
   },
   "source": [
    "### **Library Imports**"
   ]
  },
  {
   "cell_type": "code",
   "execution_count": 1,
   "id": "998a8c4e",
   "metadata": {
    "execution": {
     "iopub.execute_input": "2022-04-14T05:30:16.864967Z",
     "iopub.status.busy": "2022-04-14T05:30:16.863474Z",
     "iopub.status.idle": "2022-04-14T05:30:19.453267Z",
     "shell.execute_reply": "2022-04-14T05:30:19.452527Z",
     "shell.execute_reply.started": "2022-03-28T20:26:39.274415Z"
    },
    "papermill": {
     "duration": 2.605274,
     "end_time": "2022-04-14T05:30:19.453416",
     "exception": false,
     "start_time": "2022-04-14T05:30:16.848142",
     "status": "completed"
    },
    "tags": []
   },
   "outputs": [],
   "source": [
    "import os\n",
    "import re\n",
    "import cv2\n",
    "import torch\n",
    "import numpy as np\n",
    "import pandas as pd\n",
    "import matplotlib.pyplot as plt\n",
    "\n",
    "from torch import nn, optim\n",
    "from torch.utils.data import Dataset\n",
    "from torch.utils.data import DataLoader as DL\n",
    "from torchvision import models, transforms\n",
    "\n",
    "from sklearn.preprocessing import LabelEncoder\n",
    "from sklearn.model_selection import StratifiedKFold"
   ]
  },
  {
   "cell_type": "markdown",
   "id": "ddfdb6f5",
   "metadata": {
    "papermill": {
     "duration": 0.012186,
     "end_time": "2022-04-14T05:30:19.477562",
     "exception": false,
     "start_time": "2022-04-14T05:30:19.465376",
     "status": "completed"
    },
    "tags": []
   },
   "source": [
    "### **Utilites and Constants**"
   ]
  },
  {
   "cell_type": "code",
   "execution_count": 2,
   "id": "eb7c0dc0",
   "metadata": {
    "execution": {
     "iopub.execute_input": "2022-04-14T05:30:19.506933Z",
     "iopub.status.busy": "2022-04-14T05:30:19.506137Z",
     "iopub.status.idle": "2022-04-14T05:30:19.508576Z",
     "shell.execute_reply": "2022-04-14T05:30:19.508176Z",
     "shell.execute_reply.started": "2022-03-28T20:27:25.997152Z"
    },
    "papermill": {
     "duration": 0.019908,
     "end_time": "2022-04-14T05:30:19.508685",
     "exception": false,
     "start_time": "2022-04-14T05:30:19.488777",
     "status": "completed"
    },
    "tags": []
   },
   "outputs": [],
   "source": [
    "SEED = 42\n",
    "SIZE = 512\n",
    "\n",
    "le = LabelEncoder()\n",
    "\n",
    "def breaker(num: int=50, char: str=\"*\") -> None:\n",
    "    print(\"\\n\" + num*char + \"\\n\")\n",
    "\n",
    "\n",
    "def get_image(path: str, size: int) -> np.ndarray:\n",
    "    image = cv2.imread(path, cv2.IMREAD_COLOR)\n",
    "    image = cv2.cvtColor(src=image, code=cv2.COLOR_BGR2RGB)\n",
    "    return cv2.resize(src=image, dsize=(size, size), interpolation=cv2.INTER_AREA)"
   ]
  },
  {
   "cell_type": "markdown",
   "id": "d039d6b5",
   "metadata": {
    "papermill": {
     "duration": 0.011116,
     "end_time": "2022-04-14T05:30:19.531121",
     "exception": false,
     "start_time": "2022-04-14T05:30:19.520005",
     "status": "completed"
    },
    "tags": []
   },
   "source": [
    "### **Configuration**"
   ]
  },
  {
   "cell_type": "code",
   "execution_count": 3,
   "id": "63e43fa3",
   "metadata": {
    "execution": {
     "iopub.execute_input": "2022-04-14T05:30:19.627555Z",
     "iopub.status.busy": "2022-04-14T05:30:19.626707Z",
     "iopub.status.idle": "2022-04-14T05:30:19.629070Z",
     "shell.execute_reply": "2022-04-14T05:30:19.628635Z",
     "shell.execute_reply.started": "2022-03-28T20:26:42.122325Z"
    },
    "papermill": {
     "duration": 0.086509,
     "end_time": "2022-04-14T05:30:19.629185",
     "exception": false,
     "start_time": "2022-04-14T05:30:19.542676",
     "status": "completed"
    },
    "tags": []
   },
   "outputs": [],
   "source": [
    "class CFG(object):\n",
    "    def __init__(self, \n",
    "                 seed: int = 42,\n",
    "                 n_splits: int = 5,\n",
    "                 batch_size: int = 16,\n",
    "                 epochs: int = 25,\n",
    "                 early_stopping: int = 5,\n",
    "                 lr: float = 1e-4,\n",
    "                 wd: float = 0.0,\n",
    "                 max_lr: float = 1e-3,\n",
    "                 pct_start: float = 0.2,\n",
    "                 steps_per_epoch: int = 100,\n",
    "                 div_factor: int = 1e3, \n",
    "                 final_div_factor: float = 1e3,\n",
    "                 ):\n",
    "        self.seed = seed\n",
    "        self.n_splits = n_splits\n",
    "        self.batch_size = batch_size\n",
    "        self.epochs = epochs\n",
    "        self.early_stopping = early_stopping\n",
    "        self.lr = lr\n",
    "        self.wd = wd\n",
    "        self.max_lr = max_lr\n",
    "        self.pct_start = pct_start\n",
    "        self.steps_per_epoch = steps_per_epoch\n",
    "        self.div_factor = div_factor\n",
    "        self.final_div_factor = final_div_factor\n",
    "        self.device = torch.device(\"cuda\" if torch.cuda.is_available() else \"cpu\")\n",
    "        self.test_base_path = \"../input/sorghum-id-fgvc-9/test\"\n",
    "        self.model_path = \"../input/fgvc9-r50-full-a512-oclr/saves/state.pt\"\n",
    "        self.transform = transforms.Compose([transforms.ToTensor(), transforms.Normalize([0.36878, 0.38273, 0.29333], \n",
    "                                                                                         [0.16007, 0.16414, 0.12774]),])\n",
    "    \n",
    "cfg = CFG(seed=SEED, batch_size=20)"
   ]
  },
  {
   "cell_type": "markdown",
   "id": "b5af08b0",
   "metadata": {
    "papermill": {
     "duration": 0.010957,
     "end_time": "2022-04-14T05:30:19.651558",
     "exception": false,
     "start_time": "2022-04-14T05:30:19.640601",
     "status": "completed"
    },
    "tags": []
   },
   "source": [
    "### **Dataset Template**"
   ]
  },
  {
   "cell_type": "code",
   "execution_count": 4,
   "id": "a8313fcc",
   "metadata": {
    "execution": {
     "iopub.execute_input": "2022-04-14T05:30:19.681258Z",
     "iopub.status.busy": "2022-04-14T05:30:19.680562Z",
     "iopub.status.idle": "2022-04-14T05:30:19.682433Z",
     "shell.execute_reply": "2022-04-14T05:30:19.682858Z"
    },
    "papermill": {
     "duration": 0.018804,
     "end_time": "2022-04-14T05:30:19.682998",
     "exception": false,
     "start_time": "2022-04-14T05:30:19.664194",
     "status": "completed"
    },
    "tags": []
   },
   "outputs": [],
   "source": [
    "class DS(Dataset):\n",
    "    def __init__(self, base_path: str, filenames: np.ndarray, transform):\n",
    "        self.base_path = base_path\n",
    "        self.filenames = filenames\n",
    "        self.transform = transform\n",
    "    \n",
    "    def __len__(self):\n",
    "        return self.filenames.shape[0]\n",
    "    \n",
    "    def __getitem__(self, idx):\n",
    "        return self.transform(get_image(os.path.join(self.base_path, self.filenames[idx]), SIZE))"
   ]
  },
  {
   "cell_type": "markdown",
   "id": "2ba4f8aa",
   "metadata": {
    "papermill": {
     "duration": 0.011516,
     "end_time": "2022-04-14T05:30:19.705766",
     "exception": false,
     "start_time": "2022-04-14T05:30:19.694250",
     "status": "completed"
    },
    "tags": []
   },
   "source": [
    "### **Get Label Encoding Transform**"
   ]
  },
  {
   "cell_type": "code",
   "execution_count": 5,
   "id": "6dee6d6d",
   "metadata": {
    "execution": {
     "iopub.execute_input": "2022-04-14T05:30:19.732717Z",
     "iopub.status.busy": "2022-04-14T05:30:19.732125Z",
     "iopub.status.idle": "2022-04-14T05:30:19.782865Z",
     "shell.execute_reply": "2022-04-14T05:30:19.782462Z",
     "shell.execute_reply.started": "2022-03-28T20:27:29.300859Z"
    },
    "papermill": {
     "duration": 0.065767,
     "end_time": "2022-04-14T05:30:19.782998",
     "exception": false,
     "start_time": "2022-04-14T05:30:19.717231",
     "status": "completed"
    },
    "tags": []
   },
   "outputs": [],
   "source": [
    "train_df = pd.read_csv(\"../input/sorghum-id-fgvc-9/train_cultivar_mapping.csv\")\n",
    "train_df = train_df.drop(index=train_df.index[train_df.image == \".DS_Store\"])\n",
    "\n",
    "labels    = train_df.cultivar.copy().values \n",
    "labels = le.fit_transform(labels)"
   ]
  },
  {
   "cell_type": "markdown",
   "id": "98fa66a9",
   "metadata": {
    "papermill": {
     "duration": 0.01139,
     "end_time": "2022-04-14T05:30:19.806163",
     "exception": false,
     "start_time": "2022-04-14T05:30:19.794773",
     "status": "completed"
    },
    "tags": []
   },
   "source": [
    "### **Model**"
   ]
  },
  {
   "cell_type": "code",
   "execution_count": 6,
   "id": "4f7f3605",
   "metadata": {
    "execution": {
     "iopub.execute_input": "2022-04-14T05:30:19.831612Z",
     "iopub.status.busy": "2022-04-14T05:30:19.830820Z",
     "iopub.status.idle": "2022-04-14T05:30:19.836605Z",
     "shell.execute_reply": "2022-04-14T05:30:19.836121Z",
     "shell.execute_reply.started": "2022-03-28T20:27:41.78709Z"
    },
    "papermill": {
     "duration": 0.019119,
     "end_time": "2022-04-14T05:30:19.836706",
     "exception": false,
     "start_time": "2022-04-14T05:30:19.817587",
     "status": "completed"
    },
    "tags": []
   },
   "outputs": [],
   "source": [
    "class MyResnet(nn.Module):\n",
    "    def __init__(self):\n",
    "        super(MyResnet, self).__init__()\n",
    "\n",
    "        self.model = models.resnet50(pretrained=False, progress=True)\n",
    "        self.model.fc = nn.Linear(in_features=self.model.fc.in_features, out_features=100)\n",
    "\n",
    "    def forward(self, x):\n",
    "        return nn.LogSoftmax(dim=1)(self.model(x))"
   ]
  },
  {
   "cell_type": "markdown",
   "id": "b64914e8",
   "metadata": {
    "papermill": {
     "duration": 0.011628,
     "end_time": "2022-04-14T05:30:19.859465",
     "exception": false,
     "start_time": "2022-04-14T05:30:19.847837",
     "status": "completed"
    },
    "tags": []
   },
   "source": [
    "### **Predict Helper**"
   ]
  },
  {
   "cell_type": "code",
   "execution_count": 7,
   "id": "44aac5bc",
   "metadata": {
    "execution": {
     "iopub.execute_input": "2022-04-14T05:30:19.888817Z",
     "iopub.status.busy": "2022-04-14T05:30:19.888050Z",
     "iopub.status.idle": "2022-04-14T05:30:19.890293Z",
     "shell.execute_reply": "2022-04-14T05:30:19.889884Z",
     "shell.execute_reply.started": "2022-03-28T20:27:44.307566Z"
    },
    "papermill": {
     "duration": 0.019709,
     "end_time": "2022-04-14T05:30:19.890402",
     "exception": false,
     "start_time": "2022-04-14T05:30:19.870693",
     "status": "completed"
    },
    "tags": []
   },
   "outputs": [],
   "source": [
    "def predict(model=None, dataloader=None, path=None, device=None) -> np.ndarray:\n",
    "    model.load_state_dict(torch.load(path, map_location=device)[\"model_state_dict\"])\n",
    "    model.to(device)    \n",
    "    model.eval()\n",
    "    \n",
    "    y_pred = torch.zeros(1, 1).to(device)\n",
    "    \n",
    "    for X in dataloader:\n",
    "        X = X.to(device)\n",
    "        with torch.no_grad():\n",
    "            output = torch.argmax(torch.exp(model(X)), dim=1)\n",
    "        y_pred = torch.cat((y_pred, output.view(-1, 1)), dim=0)\n",
    "    \n",
    "    return y_pred[1:].detach().cpu().numpy()"
   ]
  },
  {
   "cell_type": "markdown",
   "id": "c29fbc2c",
   "metadata": {
    "papermill": {
     "duration": 0.011087,
     "end_time": "2022-04-14T05:30:19.912856",
     "exception": false,
     "start_time": "2022-04-14T05:30:19.901769",
     "status": "completed"
    },
    "tags": []
   },
   "source": [
    "### **Submission**"
   ]
  },
  {
   "cell_type": "code",
   "execution_count": 8,
   "id": "8a95fa24",
   "metadata": {
    "execution": {
     "iopub.execute_input": "2022-04-14T05:30:19.942495Z",
     "iopub.status.busy": "2022-04-14T05:30:19.941971Z",
     "iopub.status.idle": "2022-04-14T05:53:41.037642Z",
     "shell.execute_reply": "2022-04-14T05:53:41.038099Z",
     "shell.execute_reply.started": "2022-03-28T20:28:05.595373Z"
    },
    "papermill": {
     "duration": 1401.113978,
     "end_time": "2022-04-14T05:53:41.038261",
     "exception": false,
     "start_time": "2022-04-14T05:30:19.924283",
     "status": "completed"
    },
    "tags": []
   },
   "outputs": [
    {
     "name": "stderr",
     "output_type": "stream",
     "text": [
      "/opt/conda/lib/python3.7/site-packages/sklearn/preprocessing/_label.py:154: DataConversionWarning: A column-vector y was passed when a 1d array was expected. Please change the shape of y to (n_samples, ), for example using ravel().\n",
      "  y = column_or_1d(y, warn=True)\n"
     ]
    }
   ],
   "source": [
    "ss_df = pd.read_csv(\"../input/sorghum-id-fgvc-9/sample_submission.csv\")\n",
    "\n",
    "ts_data_setup = DS(cfg.test_base_path, ss_df.filename.copy().values, cfg.transform)\n",
    "ts_data = DL(ts_data_setup, batch_size=cfg.batch_size, shuffle=False)\n",
    "\n",
    "y_pred = predict(model=MyResnet().to(cfg.device), \n",
    "                 dataloader=ts_data, \n",
    "                 path=cfg.model_path,\n",
    "                 device=cfg.device)\n",
    "y_pred = le.inverse_transform(y_pred.astype(\"uint8\"))\n",
    "\n",
    "ss_df[\"cultivar\"] = y_pred\n",
    "ss_df.to_csv(\"submission.csv\", index=False)"
   ]
  }
 ],
 "metadata": {
  "kernelspec": {
   "display_name": "Python 3",
   "language": "python",
   "name": "python3"
  },
  "language_info": {
   "codemirror_mode": {
    "name": "ipython",
    "version": 3
   },
   "file_extension": ".py",
   "mimetype": "text/x-python",
   "name": "python",
   "nbconvert_exporter": "python",
   "pygments_lexer": "ipython3",
   "version": "3.7.12"
  },
  "papermill": {
   "default_parameters": {},
   "duration": 1413.471284,
   "end_time": "2022-04-14T05:53:42.463005",
   "environment_variables": {},
   "exception": null,
   "input_path": "__notebook__.ipynb",
   "output_path": "__notebook__.ipynb",
   "parameters": {},
   "start_time": "2022-04-14T05:30:08.991721",
   "version": "2.3.3"
  }
 },
 "nbformat": 4,
 "nbformat_minor": 5
}
