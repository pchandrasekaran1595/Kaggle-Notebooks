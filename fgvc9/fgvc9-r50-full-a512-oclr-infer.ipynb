{
 "cells": [
  {
   "cell_type": "markdown",
   "id": "820118e0",
   "metadata": {
    "papermill": {
     "duration": 0.012487,
     "end_time": "2022-04-04T21:24:34.457662",
     "exception": false,
     "start_time": "2022-04-04T21:24:34.445175",
     "status": "completed"
    },
    "tags": []
   },
   "source": [
    "### **Library Imports**"
   ]
  },
  {
   "cell_type": "code",
   "execution_count": 1,
   "id": "07e71792",
   "metadata": {
    "execution": {
     "iopub.execute_input": "2022-04-04T21:24:34.487723Z",
     "iopub.status.busy": "2022-04-04T21:24:34.486216Z",
     "iopub.status.idle": "2022-04-04T21:24:37.580175Z",
     "shell.execute_reply": "2022-04-04T21:24:37.579453Z",
     "shell.execute_reply.started": "2022-03-28T20:26:39.274415Z"
    },
    "papermill": {
     "duration": 3.109443,
     "end_time": "2022-04-04T21:24:37.580311",
     "exception": false,
     "start_time": "2022-04-04T21:24:34.470868",
     "status": "completed"
    },
    "tags": []
   },
   "outputs": [],
   "source": [
    "import os\n",
    "import re\n",
    "import cv2\n",
    "import torch\n",
    "import numpy as np\n",
    "import pandas as pd\n",
    "import matplotlib.pyplot as plt\n",
    "\n",
    "from torch import nn, optim\n",
    "from torch.utils.data import Dataset\n",
    "from torch.utils.data import DataLoader as DL\n",
    "from torchvision import models, transforms\n",
    "\n",
    "from sklearn.preprocessing import LabelEncoder\n",
    "from sklearn.model_selection import StratifiedKFold"
   ]
  },
  {
   "cell_type": "markdown",
   "id": "e29022f6",
   "metadata": {
    "papermill": {
     "duration": 0.011127,
     "end_time": "2022-04-04T21:24:37.603083",
     "exception": false,
     "start_time": "2022-04-04T21:24:37.591956",
     "status": "completed"
    },
    "tags": []
   },
   "source": [
    "### **Utilites and Constants**"
   ]
  },
  {
   "cell_type": "code",
   "execution_count": 2,
   "id": "ec7fa71d",
   "metadata": {
    "execution": {
     "iopub.execute_input": "2022-04-04T21:24:37.633130Z",
     "iopub.status.busy": "2022-04-04T21:24:37.631615Z",
     "iopub.status.idle": "2022-04-04T21:24:37.633751Z",
     "shell.execute_reply": "2022-04-04T21:24:37.634148Z",
     "shell.execute_reply.started": "2022-03-28T20:27:25.997152Z"
    },
    "papermill": {
     "duration": 0.019875,
     "end_time": "2022-04-04T21:24:37.634263",
     "exception": false,
     "start_time": "2022-04-04T21:24:37.614388",
     "status": "completed"
    },
    "tags": []
   },
   "outputs": [],
   "source": [
    "SEED = 42\n",
    "SIZE = 512\n",
    "\n",
    "le = LabelEncoder()\n",
    "\n",
    "def breaker(num: int=50, char: str=\"*\") -> None:\n",
    "    print(\"\\n\" + num*char + \"\\n\")\n",
    "\n",
    "\n",
    "def get_image(path: str, size: int) -> np.ndarray:\n",
    "    image = cv2.imread(path, cv2.IMREAD_COLOR)\n",
    "    image = cv2.cvtColor(src=image, code=cv2.COLOR_BGR2RGB)\n",
    "    return cv2.resize(src=image, dsize=(size, size), interpolation=cv2.INTER_AREA)"
   ]
  },
  {
   "cell_type": "markdown",
   "id": "a44e4202",
   "metadata": {
    "papermill": {
     "duration": 0.011053,
     "end_time": "2022-04-04T21:24:37.656704",
     "exception": false,
     "start_time": "2022-04-04T21:24:37.645651",
     "status": "completed"
    },
    "tags": []
   },
   "source": [
    "### **Configuration**"
   ]
  },
  {
   "cell_type": "code",
   "execution_count": 3,
   "id": "8fe46953",
   "metadata": {
    "execution": {
     "iopub.execute_input": "2022-04-04T21:24:37.737210Z",
     "iopub.status.busy": "2022-04-04T21:24:37.735789Z",
     "iopub.status.idle": "2022-04-04T21:24:37.740468Z",
     "shell.execute_reply": "2022-04-04T21:24:37.740036Z",
     "shell.execute_reply.started": "2022-03-28T20:26:42.122325Z"
    },
    "papermill": {
     "duration": 0.072577,
     "end_time": "2022-04-04T21:24:37.740593",
     "exception": false,
     "start_time": "2022-04-04T21:24:37.668016",
     "status": "completed"
    },
    "tags": []
   },
   "outputs": [],
   "source": [
    "class CFG(object):\n",
    "    def __init__(self, \n",
    "                 seed: int = 42,\n",
    "                 n_splits: int = 5,\n",
    "                 batch_size: int = 16,\n",
    "                 epochs: int = 25,\n",
    "                 early_stopping: int = 5,\n",
    "                 lr: float = 1e-4,\n",
    "                 wd: float = 0.0,\n",
    "                 max_lr: float = 1e-3,\n",
    "                 pct_start: float = 0.2,\n",
    "                 steps_per_epoch: int = 100,\n",
    "                 div_factor: int = 1e3, \n",
    "                 final_div_factor: float = 1e3,\n",
    "                 ):\n",
    "        self.seed = seed\n",
    "        self.n_splits = n_splits\n",
    "        self.batch_size = batch_size\n",
    "        self.epochs = epochs\n",
    "        self.early_stopping = early_stopping\n",
    "        self.lr = lr\n",
    "        self.wd = wd\n",
    "        self.max_lr = max_lr\n",
    "        self.pct_start = pct_start\n",
    "        self.steps_per_epoch = steps_per_epoch\n",
    "        self.div_factor = div_factor\n",
    "        self.final_div_factor = final_div_factor\n",
    "        self.device = torch.device(\"cuda\" if torch.cuda.is_available() else \"cpu\")\n",
    "        self.test_base_path = \"../input/sorghum-id-fgvc-9/test\"\n",
    "        self.model_path = \"../input/fgvc9-r50-full-a512-oclr/saves/state.pt\"\n",
    "        self.transform = transforms.Compose([transforms.ToTensor(), transforms.Normalize([0.36878, 0.38273, 0.29333], \n",
    "                                                                                         [0.16007, 0.16414, 0.12774]),])\n",
    "    \n",
    "cfg = CFG(seed=SEED, batch_size=20)"
   ]
  },
  {
   "cell_type": "markdown",
   "id": "ec01de2b",
   "metadata": {
    "papermill": {
     "duration": 0.011083,
     "end_time": "2022-04-04T21:24:37.763205",
     "exception": false,
     "start_time": "2022-04-04T21:24:37.752122",
     "status": "completed"
    },
    "tags": []
   },
   "source": [
    "### **Dataset Template**"
   ]
  },
  {
   "cell_type": "code",
   "execution_count": 4,
   "id": "573759bb",
   "metadata": {
    "execution": {
     "iopub.execute_input": "2022-04-04T21:24:37.791760Z",
     "iopub.status.busy": "2022-04-04T21:24:37.791073Z",
     "iopub.status.idle": "2022-04-04T21:24:37.794844Z",
     "shell.execute_reply": "2022-04-04T21:24:37.794336Z"
    },
    "papermill": {
     "duration": 0.020492,
     "end_time": "2022-04-04T21:24:37.794961",
     "exception": false,
     "start_time": "2022-04-04T21:24:37.774469",
     "status": "completed"
    },
    "tags": []
   },
   "outputs": [],
   "source": [
    "class DS(Dataset):\n",
    "    def __init__(self, base_path: str, filenames: np.ndarray, transform):\n",
    "        self.base_path = base_path\n",
    "        self.filenames = filenames\n",
    "        self.transform = transform\n",
    "    \n",
    "    def __len__(self):\n",
    "        return self.filenames.shape[0]\n",
    "    \n",
    "    def __getitem__(self, idx):\n",
    "        return self.transform(get_image(os.path.join(self.base_path, self.filenames[idx]), SIZE))"
   ]
  },
  {
   "cell_type": "markdown",
   "id": "38f014b9",
   "metadata": {
    "papermill": {
     "duration": 0.011139,
     "end_time": "2022-04-04T21:24:37.817849",
     "exception": false,
     "start_time": "2022-04-04T21:24:37.806710",
     "status": "completed"
    },
    "tags": []
   },
   "source": [
    "### **Get Label Encoding Transform**"
   ]
  },
  {
   "cell_type": "code",
   "execution_count": 5,
   "id": "e0894b77",
   "metadata": {
    "execution": {
     "iopub.execute_input": "2022-04-04T21:24:37.845042Z",
     "iopub.status.busy": "2022-04-04T21:24:37.844415Z",
     "iopub.status.idle": "2022-04-04T21:24:37.899200Z",
     "shell.execute_reply": "2022-04-04T21:24:37.898784Z",
     "shell.execute_reply.started": "2022-03-28T20:27:29.300859Z"
    },
    "papermill": {
     "duration": 0.07014,
     "end_time": "2022-04-04T21:24:37.899310",
     "exception": false,
     "start_time": "2022-04-04T21:24:37.829170",
     "status": "completed"
    },
    "tags": []
   },
   "outputs": [],
   "source": [
    "train_df = pd.read_csv(\"../input/sorghum-id-fgvc-9/train_cultivar_mapping.csv\")\n",
    "train_df = train_df.drop(index=train_df.index[train_df.image == \".DS_Store\"])\n",
    "\n",
    "labels    = train_df.cultivar.copy().values \n",
    "labels = le.fit_transform(labels)"
   ]
  },
  {
   "cell_type": "markdown",
   "id": "3b9464cc",
   "metadata": {
    "papermill": {
     "duration": 0.01118,
     "end_time": "2022-04-04T21:24:37.922054",
     "exception": false,
     "start_time": "2022-04-04T21:24:37.910874",
     "status": "completed"
    },
    "tags": []
   },
   "source": [
    "### **Model**"
   ]
  },
  {
   "cell_type": "code",
   "execution_count": 6,
   "id": "0157aca8",
   "metadata": {
    "execution": {
     "iopub.execute_input": "2022-04-04T21:24:37.950528Z",
     "iopub.status.busy": "2022-04-04T21:24:37.949796Z",
     "iopub.status.idle": "2022-04-04T21:24:37.952150Z",
     "shell.execute_reply": "2022-04-04T21:24:37.951760Z",
     "shell.execute_reply.started": "2022-03-28T20:27:41.78709Z"
    },
    "papermill": {
     "duration": 0.018735,
     "end_time": "2022-04-04T21:24:37.952252",
     "exception": false,
     "start_time": "2022-04-04T21:24:37.933517",
     "status": "completed"
    },
    "tags": []
   },
   "outputs": [],
   "source": [
    "class MyResnet(nn.Module):\n",
    "    def __init__(self):\n",
    "        super(MyResnet, self).__init__()\n",
    "\n",
    "        self.model = models.resnet50(pretrained=False, progress=True)\n",
    "        self.model.fc = nn.Linear(in_features=self.model.fc.in_features, out_features=100)\n",
    "\n",
    "    def forward(self, x):\n",
    "        return nn.LogSoftmax(dim=1)(self.model(x))"
   ]
  },
  {
   "cell_type": "markdown",
   "id": "a646af02",
   "metadata": {
    "papermill": {
     "duration": 0.011667,
     "end_time": "2022-04-04T21:24:37.975418",
     "exception": false,
     "start_time": "2022-04-04T21:24:37.963751",
     "status": "completed"
    },
    "tags": []
   },
   "source": [
    "### **Predict Helper**"
   ]
  },
  {
   "cell_type": "code",
   "execution_count": 7,
   "id": "35826a0a",
   "metadata": {
    "execution": {
     "iopub.execute_input": "2022-04-04T21:24:38.006295Z",
     "iopub.status.busy": "2022-04-04T21:24:38.005806Z",
     "iopub.status.idle": "2022-04-04T21:24:38.009340Z",
     "shell.execute_reply": "2022-04-04T21:24:38.008958Z",
     "shell.execute_reply.started": "2022-03-28T20:27:44.307566Z"
    },
    "papermill": {
     "duration": 0.021283,
     "end_time": "2022-04-04T21:24:38.009474",
     "exception": false,
     "start_time": "2022-04-04T21:24:37.988191",
     "status": "completed"
    },
    "tags": []
   },
   "outputs": [],
   "source": [
    "def predict(model=None, dataloader=None, path=None, device=None) -> np.ndarray:\n",
    "    model.load_state_dict(torch.load(path, map_location=device)[\"model_state_dict\"])\n",
    "    model.to(device)    \n",
    "    model.eval()\n",
    "    \n",
    "    y_pred = torch.zeros(1, 1).to(device)\n",
    "    \n",
    "    for X in dataloader:\n",
    "        X = X.to(device)\n",
    "        with torch.no_grad():\n",
    "            output = torch.argmax(torch.exp(model(X)), dim=1)\n",
    "        y_pred = torch.cat((y_pred, output.view(-1, 1)), dim=0)\n",
    "    \n",
    "    return y_pred[1:].detach().cpu().numpy()"
   ]
  },
  {
   "cell_type": "markdown",
   "id": "69231d0b",
   "metadata": {
    "papermill": {
     "duration": 0.011196,
     "end_time": "2022-04-04T21:24:38.031980",
     "exception": false,
     "start_time": "2022-04-04T21:24:38.020784",
     "status": "completed"
    },
    "tags": []
   },
   "source": [
    "### **Submission**"
   ]
  },
  {
   "cell_type": "code",
   "execution_count": 8,
   "id": "5410a19d",
   "metadata": {
    "execution": {
     "iopub.execute_input": "2022-04-04T21:24:38.062456Z",
     "iopub.status.busy": "2022-04-04T21:24:38.061800Z",
     "iopub.status.idle": "2022-04-04T21:47:42.159085Z",
     "shell.execute_reply": "2022-04-04T21:47:42.159768Z",
     "shell.execute_reply.started": "2022-03-28T20:28:05.595373Z"
    },
    "papermill": {
     "duration": 1384.116454,
     "end_time": "2022-04-04T21:47:42.159967",
     "exception": false,
     "start_time": "2022-04-04T21:24:38.043513",
     "status": "completed"
    },
    "tags": []
   },
   "outputs": [
    {
     "name": "stderr",
     "output_type": "stream",
     "text": [
      "/opt/conda/lib/python3.7/site-packages/sklearn/preprocessing/_label.py:154: DataConversionWarning: A column-vector y was passed when a 1d array was expected. Please change the shape of y to (n_samples, ), for example using ravel().\n",
      "  y = column_or_1d(y, warn=True)\n"
     ]
    }
   ],
   "source": [
    "ss_df = pd.read_csv(\"../input/sorghum-id-fgvc-9/sample_submission.csv\")\n",
    "\n",
    "ts_data_setup = DS(cfg.test_base_path, ss_df.filename.copy().values, cfg.transform)\n",
    "ts_data = DL(ts_data_setup, batch_size=cfg.batch_size, shuffle=False)\n",
    "\n",
    "y_pred = predict(model=MyResnet().to(cfg.device), \n",
    "                 dataloader=ts_data, \n",
    "                 path=cfg.model_path,\n",
    "                 device=cfg.device)\n",
    "y_pred = le.inverse_transform(y_pred.astype(\"uint8\"))\n",
    "\n",
    "ss_df[\"cultivar\"] = y_pred\n",
    "ss_df.to_csv(\"submission.csv\", index=False)"
   ]
  }
 ],
 "metadata": {
  "kernelspec": {
   "display_name": "Python 3",
   "language": "python",
   "name": "python3"
  },
  "language_info": {
   "codemirror_mode": {
    "name": "ipython",
    "version": 3
   },
   "file_extension": ".py",
   "mimetype": "text/x-python",
   "name": "python",
   "nbconvert_exporter": "python",
   "pygments_lexer": "ipython3",
   "version": "3.7.12"
  },
  "papermill": {
   "default_parameters": {},
   "duration": 1397.62563,
   "end_time": "2022-04-04T21:47:43.795625",
   "environment_variables": {},
   "exception": null,
   "input_path": "__notebook__.ipynb",
   "output_path": "__notebook__.ipynb",
   "parameters": {},
   "start_time": "2022-04-04T21:24:26.169995",
   "version": "2.3.3"
  }
 },
 "nbformat": 4,
 "nbformat_minor": 5
}
