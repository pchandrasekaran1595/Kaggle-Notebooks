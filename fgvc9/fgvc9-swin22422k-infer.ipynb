{
 "cells": [
  {
   "cell_type": "code",
   "execution_count": 1,
   "id": "0ddaab6b",
   "metadata": {
    "_cell_guid": "b1076dfc-b9ad-4769-8c92-a6c4dae69d19",
    "_uuid": "8f2839f25d086af736a60e9eeb907d3b93b6e0e5",
    "execution": {
     "iopub.execute_input": "2022-03-28T04:12:40.337411Z",
     "iopub.status.busy": "2022-03-28T04:12:40.336531Z",
     "iopub.status.idle": "2022-03-28T04:12:49.540115Z",
     "shell.execute_reply": "2022-03-28T04:12:49.539541Z",
     "shell.execute_reply.started": "2022-03-27T22:08:45.293164Z"
    },
    "papermill": {
     "duration": 9.228708,
     "end_time": "2022-03-28T04:12:49.540259",
     "exception": false,
     "start_time": "2022-03-28T04:12:40.311551",
     "status": "completed"
    },
    "tags": []
   },
   "outputs": [
    {
     "name": "stdout",
     "output_type": "stream",
     "text": [
      "\u001b[33mWARNING: Running pip as the 'root' user can result in broken permissions and conflicting behaviour with the system package manager. It is recommended to use a virtual environment instead: https://pip.pypa.io/warnings/venv\u001b[0m\r\n"
     ]
    }
   ],
   "source": [
    "!pip install --upgrade timm -q"
   ]
  },
  {
   "cell_type": "markdown",
   "id": "a0701461",
   "metadata": {
    "papermill": {
     "duration": 0.015237,
     "end_time": "2022-03-28T04:12:49.571632",
     "exception": false,
     "start_time": "2022-03-28T04:12:49.556395",
     "status": "completed"
    },
    "tags": []
   },
   "source": [
    "### **Library Imports**"
   ]
  },
  {
   "cell_type": "code",
   "execution_count": 2,
   "id": "5676e39b",
   "metadata": {
    "execution": {
     "iopub.execute_input": "2022-03-28T04:12:49.604554Z",
     "iopub.status.busy": "2022-03-28T04:12:49.603771Z",
     "iopub.status.idle": "2022-03-28T04:12:53.128900Z",
     "shell.execute_reply": "2022-03-28T04:12:53.128292Z",
     "shell.execute_reply.started": "2022-03-27T22:35:42.883308Z"
    },
    "papermill": {
     "duration": 3.542574,
     "end_time": "2022-03-28T04:12:53.129053",
     "exception": false,
     "start_time": "2022-03-28T04:12:49.586479",
     "status": "completed"
    },
    "tags": []
   },
   "outputs": [],
   "source": [
    "import os\n",
    "import re\n",
    "import cv2\n",
    "import timm\n",
    "import torch\n",
    "import pickle\n",
    "import numpy as np\n",
    "import pandas as pd\n",
    "import matplotlib.pyplot as plt\n",
    "\n",
    "from time import time\n",
    "from torch import nn, optim\n",
    "from torch.utils.data import Dataset\n",
    "from torch.utils.data import DataLoader as DL\n",
    "from torch.nn.utils import weight_norm as WN\n",
    "from torchvision import transforms\n",
    "\n",
    "from sklearn.preprocessing import LabelEncoder\n",
    "from sklearn.model_selection import StratifiedKFold"
   ]
  },
  {
   "cell_type": "markdown",
   "id": "94880279",
   "metadata": {
    "papermill": {
     "duration": 0.014789,
     "end_time": "2022-03-28T04:12:53.158770",
     "exception": false,
     "start_time": "2022-03-28T04:12:53.143981",
     "status": "completed"
    },
    "tags": []
   },
   "source": [
    "### **Utilities and Constants**"
   ]
  },
  {
   "cell_type": "code",
   "execution_count": 3,
   "id": "4201f9c0",
   "metadata": {
    "execution": {
     "iopub.execute_input": "2022-03-28T04:12:53.232982Z",
     "iopub.status.busy": "2022-03-28T04:12:53.190732Z",
     "iopub.status.idle": "2022-03-28T04:12:53.235807Z",
     "shell.execute_reply": "2022-03-28T04:12:53.236184Z",
     "shell.execute_reply.started": "2022-03-27T22:37:36.110733Z"
    },
    "papermill": {
     "duration": 0.062838,
     "end_time": "2022-03-28T04:12:53.236315",
     "exception": false,
     "start_time": "2022-03-28T04:12:53.173477",
     "status": "completed"
    },
    "tags": []
   },
   "outputs": [],
   "source": [
    "SEED = 42\n",
    "SIZE = 224\n",
    "FV_LENGTH = 1024\n",
    "DEVICE = torch.device(\"cuda\" if torch.cuda.is_available() else \"cpu\")\n",
    "\n",
    "CLASSIFIER_HEAD_PATH = \"../input/fgvc9-swin22422k-train/saves\"\n",
    "TRANSFORM = transforms.Compose([transforms.ToTensor(), \n",
    "                                transforms.Normalize([0.485, 0.456, 0.406], \n",
    "                                                     [0.229, 0.224, 0.225]),\n",
    "                               ])\n",
    "\n",
    "SAVE_PATH = \"saves\"\n",
    "if not os.path.exists(SAVE_PATH):\n",
    "    os.makedirs(SAVE_PATH)"
   ]
  },
  {
   "cell_type": "code",
   "execution_count": 4,
   "id": "0260c581",
   "metadata": {
    "execution": {
     "iopub.execute_input": "2022-03-28T04:12:53.271834Z",
     "iopub.status.busy": "2022-03-28T04:12:53.271287Z",
     "iopub.status.idle": "2022-03-28T04:12:53.274363Z",
     "shell.execute_reply": "2022-03-28T04:12:53.274882Z",
     "shell.execute_reply.started": "2022-03-27T22:37:13.46311Z"
    },
    "papermill": {
     "duration": 0.023479,
     "end_time": "2022-03-28T04:12:53.275005",
     "exception": false,
     "start_time": "2022-03-28T04:12:53.251526",
     "status": "completed"
    },
    "tags": []
   },
   "outputs": [],
   "source": [
    "def breaker(num: int=50, char: str=\"*\") -> None:\n",
    "    print(\"\\n\" + num*char + \"\\n\")\n",
    "\n",
    "\n",
    "def get_image(path: str, size: int) -> np.ndarray:\n",
    "    image = cv2.imread(path, cv2.IMREAD_COLOR)\n",
    "    image = cv2.cvtColor(src=image, code=cv2.COLOR_BGR2RGB)\n",
    "    return cv2.resize(src=image, dsize=(size, size), interpolation=cv2.INTER_AREA)"
   ]
  },
  {
   "cell_type": "markdown",
   "id": "fbdce4ad",
   "metadata": {
    "papermill": {
     "duration": 0.014386,
     "end_time": "2022-03-28T04:12:53.304156",
     "exception": false,
     "start_time": "2022-03-28T04:12:53.289770",
     "status": "completed"
    },
    "tags": []
   },
   "source": [
    "### **Dataset Templatea**"
   ]
  },
  {
   "cell_type": "code",
   "execution_count": 5,
   "id": "2ffc38f0",
   "metadata": {
    "execution": {
     "iopub.execute_input": "2022-03-28T04:12:53.343656Z",
     "iopub.status.busy": "2022-03-28T04:12:53.340484Z",
     "iopub.status.idle": "2022-03-28T04:12:53.346149Z",
     "shell.execute_reply": "2022-03-28T04:12:53.345707Z",
     "shell.execute_reply.started": "2022-03-27T22:37:47.460024Z"
    },
    "papermill": {
     "duration": 0.027382,
     "end_time": "2022-03-28T04:12:53.346267",
     "exception": false,
     "start_time": "2022-03-28T04:12:53.318885",
     "status": "completed"
    },
    "tags": []
   },
   "outputs": [],
   "source": [
    "class FEDS(Dataset):\n",
    "    def __init__(self, base_path: str, filenames: np.ndarray, transform):\n",
    "        self.base_path = base_path\n",
    "        self.filenames = filenames\n",
    "        self.transform = transform\n",
    "    \n",
    "    def __len__(self):\n",
    "        return self.filenames.shape[0]\n",
    "    \n",
    "    def __getitem__(self, idx):\n",
    "        return self.transform(get_image(os.path.join(self.base_path, self.filenames[idx]), SIZE))\n",
    "\n",
    "\n",
    "class DS(Dataset):\n",
    "    def __init__(self, X=None, y=None, mode=\"train\"):\n",
    "        self.mode = mode\n",
    "\n",
    "        assert(re.match(r\"train\", self.mode, re.IGNORECASE) or re.match(r\"valid\", self.mode, re.IGNORECASE) or re.match(r\"test\", self.mode, re.IGNORECASE))\n",
    "\n",
    "        self.X = X\n",
    "        if re.match(r\"train\", self.mode, re.IGNORECASE) or re.match(r\"valid\", self.mode, re.IGNORECASE):\n",
    "            self.y = y\n",
    "    \n",
    "    def __len__(self):\n",
    "        return self.X.shape[0]\n",
    "    \n",
    "    def __getitem__(self, idx):\n",
    "        if re.match(r\"train\", self.mode, re.IGNORECASE) or re.match(r\"valid\", self.mode, re.IGNORECASE):\n",
    "            return torch.FloatTensor(self.X[idx]), torch.LongTensor(self.y[idx])\n",
    "        else:\n",
    "            return torch.FloatTensor(self.X[idx])"
   ]
  },
  {
   "cell_type": "markdown",
   "id": "7124f877",
   "metadata": {
    "papermill": {
     "duration": 0.014445,
     "end_time": "2022-03-28T04:12:53.375553",
     "exception": false,
     "start_time": "2022-03-28T04:12:53.361108",
     "status": "completed"
    },
    "tags": []
   },
   "source": [
    "### **Model**"
   ]
  },
  {
   "cell_type": "code",
   "execution_count": 6,
   "id": "31aa7661",
   "metadata": {
    "execution": {
     "iopub.execute_input": "2022-03-28T04:12:53.440345Z",
     "iopub.status.busy": "2022-03-28T04:12:53.439466Z",
     "iopub.status.idle": "2022-03-28T04:12:53.474984Z",
     "shell.execute_reply": "2022-03-28T04:12:53.475703Z",
     "shell.execute_reply.started": "2022-03-27T22:08:57.793665Z"
    },
    "papermill": {
     "duration": 0.075941,
     "end_time": "2022-03-28T04:12:53.475896",
     "exception": false,
     "start_time": "2022-03-28T04:12:53.399955",
     "status": "completed"
    },
    "tags": []
   },
   "outputs": [],
   "source": [
    "class Model(nn.Module):\n",
    "    def __init__(self, IL: int=None, HL: list=None, DP: float=None, use_WN: bool=False):\n",
    "        super(Model, self).__init__()\n",
    "\n",
    "        self.model = nn.Sequential()\n",
    "\n",
    "        if len(HL) == 1:\n",
    "            self.model.add_module(\"BN1\", nn.BatchNorm1d(num_features=IL, eps=1e-5))\n",
    "            if use_WN: \n",
    "                self.model.add_module(\"FC1\", WN(nn.Linear(in_features=IL, out_features=HL[0])))\n",
    "            else: \n",
    "                self.model.add_module(\"FC1\", nn.Linear(in_features=IL, out_features=HL[0]))\n",
    "            if isinstance(DP, float):\n",
    "                self.model.add_module(\"DP1\", nn.Dropout(p=DP))\n",
    "            self.model.add_module(\"AN1\", nn.ReLU())\n",
    "            self.model.add_module(\"BN2\", nn.BatchNorm1d(num_features=HL[0], eps=1e-5))\n",
    "            if use_WN: \n",
    "                self.model.add_module(\"FC2\", WN(nn.Linear(in_features=HL[0], out_features=100)))\n",
    "            else:\n",
    "                self.model.add_module(\"FC2\", nn.Linear(in_features=HL[0], out_features=100))\n",
    "\n",
    "        \n",
    "        elif len(HL) == 2:\n",
    "            self.model.add_module(\"BN1\", nn.BatchNorm1d(num_features=IL, eps=1e-5))\n",
    "            if use_WN: \n",
    "                self.model.add_module(\"FC1\", WN(nn.Linear(in_features=IL, out_features=HL[0])))\n",
    "            else: \n",
    "                self.model.add_module(\"FC1\", nn.Linear(in_features=IL, out_features=HL[0]))\n",
    "            if isinstance(DP, float):\n",
    "                self.model.add_module(\"DP1\", nn.Dropout(p=DP))\n",
    "            self.model.add_module(\"AN1\", nn.ReLU())\n",
    "            self.model.add_module(\"BN2\", nn.BatchNorm1d(num_features=HL[0], eps=1e-5))\n",
    "            if use_WN:\n",
    "                self.model.add_module(\"FC2\", WN(nn.Linear(in_features=HL[0], out_features=HL[1])))\n",
    "            else:\n",
    "                self.model.add_module(\"FC2\", nn.Linear(in_features=HL[0], out_features=HL[1]))\n",
    "            if isinstance(DP, float):\n",
    "                self.model.add_module(\"DP2\", nn.Dropout(p=DP))\n",
    "            self.model.add_module(\"AN2\", nn.ReLU())\n",
    "            self.model.add_module(\"BN3\", nn.BatchNorm1d(num_features=HL[1], eps=1e-5))\n",
    "            if use_WN: \n",
    "                self.model.add_module(\"FC3\", WN(nn.Linear(in_features=HL[1], out_features=100)))\n",
    "            else:\n",
    "                self.model.add_module(\"FC3\", nn.Linear(in_features=HL[1], out_features=100))\n",
    "        \n",
    "        elif len(HL) == 3:\n",
    "            self.model.add_module(\"BN1\", nn.BatchNorm1d(num_features=IL, eps=1e-5))\n",
    "            if use_WN: \n",
    "                self.model.add_module(\"FC1\", WN(nn.Linear(in_features=IL, out_features=HL[0])))\n",
    "            else: \n",
    "                self.model.add_module(\"FC1\", nn.Linear(in_features=IL, out_features=HL[0]))\n",
    "            if isinstance(DP, float):\n",
    "                self.model.add_module(\"DP1\", nn.Dropout(p=DP))\n",
    "            self.model.add_module(\"AN1\", nn.ReLU())\n",
    "            self.model.add_module(\"BN2\", nn.BatchNorm1d(num_features=HL[0], eps=1e-5))\n",
    "            if use_WN:\n",
    "                self.model.add_module(\"FC2\", WN(nn.Linear(in_features=HL[0], out_features=HL[1])))\n",
    "            else:\n",
    "                self.model.add_module(\"FC2\", nn.Linear(in_features=HL[0], out_features=HL[1]))\n",
    "            if isinstance(DP, float):\n",
    "                self.model.add_module(\"DP2\", nn.Dropout(p=DP))\n",
    "            self.model.add_module(\"AN2\", nn.ReLU())\n",
    "            self.model.add_module(\"BN3\", nn.BatchNorm1d(num_features=HL[1], eps=1e-5))\n",
    "            if use_WN:\n",
    "                self.model.add_module(\"FC3\", WN(nn.Linear(in_features=HL[1], out_features=HL[2])))\n",
    "            else:\n",
    "                self.model.add_module(\"FC3\", nn.Linear(in_features=HL[1], out_features=HL[2]))\n",
    "            if isinstance(DP, float):\n",
    "                self.model.add_module(\"DP3\", nn.Dropout(p=DP))\n",
    "            self.model.add_module(\"AN3\", nn.ReLU())\n",
    "            self.model.add_module(\"BN4\", nn.BatchNorm1d(num_features=HL[2], eps=1e-5))\n",
    "            if use_WN: \n",
    "                self.model.add_module(\"FC4\", WN(nn.Linear(in_features=HL[2], out_features=100)))\n",
    "            else:\n",
    "                self.model.add_module(\"FC4\", nn.Linear(in_features=HL[2], out_features=100))\n",
    "    \n",
    "    def get_optimizer(self, lr=1e-3, wd=0.0):\n",
    "        return optim.Adam(self.parameters(), lr=lr, weight_decay=wd)\n",
    "\n",
    "    def get_plateau_scheduler(self, optimizer=None, patience=5, eps=1e-8):\n",
    "        return optim.lr_scheduler.ReduceLROnPlateau(optimizer=optimizer, patience=patience, eps=eps)\n",
    "    \n",
    "    def forward(self, x):\n",
    "        return nn.LogSoftmax(dim=1)(self.model(x))"
   ]
  },
  {
   "cell_type": "markdown",
   "id": "91727fab",
   "metadata": {
    "papermill": {
     "duration": 0.031905,
     "end_time": "2022-03-28T04:12:53.532068",
     "exception": false,
     "start_time": "2022-03-28T04:12:53.500163",
     "status": "completed"
    },
    "tags": []
   },
   "source": [
    "### **Predict Helper**"
   ]
  },
  {
   "cell_type": "code",
   "execution_count": 7,
   "id": "361b943e",
   "metadata": {
    "execution": {
     "iopub.execute_input": "2022-03-28T04:12:53.586754Z",
     "iopub.status.busy": "2022-03-28T04:12:53.585841Z",
     "iopub.status.idle": "2022-03-28T04:12:53.590844Z",
     "shell.execute_reply": "2022-03-28T04:12:53.591471Z",
     "shell.execute_reply.started": "2022-03-27T22:08:57.827573Z"
    },
    "papermill": {
     "duration": 0.037367,
     "end_time": "2022-03-28T04:12:53.591645",
     "exception": false,
     "start_time": "2022-03-28T04:12:53.554278",
     "status": "completed"
    },
    "tags": []
   },
   "outputs": [],
   "source": [
    "def predict(model=None, dataloader=None, path=None) -> np.ndarray:\n",
    "    model.load_state_dict(torch.load(path, map_location=DEVICE)[\"model_state_dict\"])\n",
    "    model.to(DEVICE)    \n",
    "    model.eval()\n",
    "    \n",
    "    y_pred = torch.zeros(1, 1).to(DEVICE)\n",
    "    \n",
    "    for X in dataloader:\n",
    "        X = X.to(DEVICE)\n",
    "        with torch.no_grad():\n",
    "            output = torch.argmax(torch.exp(model(X)), dim=1)\n",
    "        y_pred = torch.cat((y_pred, output.view(-1, 1)), dim=0)\n",
    "    \n",
    "    return y_pred[1:].detach().cpu().numpy()"
   ]
  },
  {
   "cell_type": "markdown",
   "id": "03be0b55",
   "metadata": {
    "papermill": {
     "duration": 0.02473,
     "end_time": "2022-03-28T04:12:53.643258",
     "exception": false,
     "start_time": "2022-03-28T04:12:53.618528",
     "status": "completed"
    },
    "tags": []
   },
   "source": [
    "### **Params**"
   ]
  },
  {
   "cell_type": "code",
   "execution_count": 8,
   "id": "729dd976",
   "metadata": {
    "execution": {
     "iopub.execute_input": "2022-03-28T04:12:53.699862Z",
     "iopub.status.busy": "2022-03-28T04:12:53.699039Z",
     "iopub.status.idle": "2022-03-28T04:12:53.701543Z",
     "shell.execute_reply": "2022-03-28T04:12:53.702264Z",
     "shell.execute_reply.started": "2022-03-27T22:08:57.853905Z"
    },
    "papermill": {
     "duration": 0.034404,
     "end_time": "2022-03-28T04:12:53.702440",
     "exception": false,
     "start_time": "2022-03-28T04:12:53.668036",
     "status": "completed"
    },
    "tags": []
   },
   "outputs": [],
   "source": [
    "DEBUG: bool = False\n",
    "    \n",
    "if DEBUG:\n",
    "    n_splits = 3\n",
    "    epochs = 2\n",
    "    HL = [4]\n",
    "else:\n",
    "    n_splits = 5\n",
    "    epochs = 5000\n",
    "    HL = [2048, 1024, 512]\n",
    "\n",
    "batch_size = 512\n",
    "lr = 1e-6\n",
    "wd = 1e-5\n",
    "early_stopping = 50\n",
    "patience = None\n",
    "eps = None"
   ]
  },
  {
   "cell_type": "markdown",
   "id": "0f6570c6",
   "metadata": {
    "papermill": {
     "duration": 0.025145,
     "end_time": "2022-03-28T04:12:53.751106",
     "exception": false,
     "start_time": "2022-03-28T04:12:53.725961",
     "status": "completed"
    },
    "tags": []
   },
   "source": [
    "### **Get SWIN Features for the Test Set**"
   ]
  },
  {
   "cell_type": "code",
   "execution_count": 9,
   "id": "f12a265b",
   "metadata": {
    "execution": {
     "iopub.execute_input": "2022-03-28T04:12:53.808794Z",
     "iopub.status.busy": "2022-03-28T04:12:53.807798Z",
     "iopub.status.idle": "2022-03-28T04:15:57.164500Z",
     "shell.execute_reply": "2022-03-28T04:15:57.163568Z",
     "shell.execute_reply.started": "2022-03-27T22:20:41.970853Z"
    },
    "papermill": {
     "duration": 183.389227,
     "end_time": "2022-03-28T04:15:57.164660",
     "exception": false,
     "start_time": "2022-03-28T04:12:53.775433",
     "status": "completed"
    },
    "tags": []
   },
   "outputs": [],
   "source": [
    "train_df = pd.read_csv(\"../input/sorghum-id-fgvc-9/train_cultivar_mapping.csv\")\n",
    "ss_df = pd.read_csv(\"../input/sorghum-id-fgvc-9/sample_submission.csv\")\n",
    "\n",
    "broken_images = [filename for filename in train_df.image if filename not in os.listdir(\"../input/sorghum-id-fgvc-9/train_images\")]\n",
    "for broken_image in broken_images:\n",
    "    index = train_df.index[train_df.image == broken_image]\n",
    "    train_df = train_df.drop(index=index)\n",
    "    \n",
    "filenames = train_df.image.copy().values\n",
    "labels    = train_df.cultivar.copy().values \n",
    "\n",
    "le = LabelEncoder()\n",
    "labels = le.fit_transform(labels)\n",
    "\n",
    "ts_filenames = ss_df.filename.copy().values\n",
    "ts_features = np.zeros((len(ts_filenames), FV_LENGTH))"
   ]
  },
  {
   "cell_type": "code",
   "execution_count": 10,
   "id": "f04f9d44",
   "metadata": {
    "execution": {
     "iopub.execute_input": "2022-03-28T04:15:57.203347Z",
     "iopub.status.busy": "2022-03-28T04:15:57.202715Z",
     "iopub.status.idle": "2022-03-28T04:38:39.504291Z",
     "shell.execute_reply": "2022-03-28T04:38:39.503792Z",
     "shell.execute_reply.started": "2022-03-27T22:37:52.178607Z"
    },
    "papermill": {
     "duration": 1362.324408,
     "end_time": "2022-03-28T04:38:39.504463",
     "exception": false,
     "start_time": "2022-03-28T04:15:57.180055",
     "status": "completed"
    },
    "tags": []
   },
   "outputs": [
    {
     "name": "stderr",
     "output_type": "stream",
     "text": [
      "Downloading: \"https://github.com/SwinTransformer/storage/releases/download/v1.0.0/swin_base_patch4_window7_224_22k.pth\" to /root/.cache/torch/hub/checkpoints/swin_base_patch4_window7_224_22k.pth\n"
     ]
    }
   ],
   "source": [
    "model = timm.create_model(\"swin_base_patch4_window7_224_in22k\", pretrained=True).to(DEVICE)\n",
    "model = torch.nn.Sequential(*[*model.children()][:-3])\n",
    "\n",
    "dataloader_setup = FEDS(\"../input/sorghum-id-fgvc-9/test\", ts_filenames, TRANSFORM)\n",
    "dataloader = DL(dataloader_setup, batch_size=64, shuffle=False)\n",
    "\n",
    "ts_features = torch.zeros(1, FV_LENGTH).to(DEVICE)\n",
    "\n",
    "for X in dataloader:\n",
    "    X = X.to(DEVICE)\n",
    "    with torch.no_grad():\n",
    "        output = model(X)\n",
    "    ts_features = torch.cat((ts_features, output[:, 0, :]), dim=0)\n",
    "\n",
    "ts_features = ts_features[1:].detach().cpu().numpy()"
   ]
  },
  {
   "cell_type": "markdown",
   "id": "71c7eeb4",
   "metadata": {
    "papermill": {
     "duration": 0.014794,
     "end_time": "2022-03-28T04:38:39.534991",
     "exception": false,
     "start_time": "2022-03-28T04:38:39.520197",
     "status": "completed"
    },
    "tags": []
   },
   "source": [
    "### **Submission**"
   ]
  },
  {
   "cell_type": "code",
   "execution_count": 11,
   "id": "7d22cc5e",
   "metadata": {
    "execution": {
     "iopub.execute_input": "2022-03-28T04:38:39.573672Z",
     "iopub.status.busy": "2022-03-28T04:38:39.573122Z",
     "iopub.status.idle": "2022-03-28T04:38:40.611847Z",
     "shell.execute_reply": "2022-03-28T04:38:40.611394Z",
     "shell.execute_reply.started": "2022-03-27T22:46:10.618671Z"
    },
    "papermill": {
     "duration": 1.062273,
     "end_time": "2022-03-28T04:38:40.612007",
     "exception": false,
     "start_time": "2022-03-28T04:38:39.549734",
     "status": "completed"
    },
    "tags": []
   },
   "outputs": [
    {
     "name": "stderr",
     "output_type": "stream",
     "text": [
      "/opt/conda/lib/python3.7/site-packages/sklearn/preprocessing/_label.py:154: DataConversionWarning: A column-vector y was passed when a 1d array was expected. Please change the shape of y to (n_samples, ), for example using ravel().\n",
      "  y = column_or_1d(y, warn=True)\n"
     ]
    }
   ],
   "source": [
    "ts_data_setup = DS(ts_features, None, \"test\")\n",
    "ts_data = DL(ts_data_setup, batch_size=batch_size, shuffle=False)\n",
    "\n",
    "torch.manual_seed(SEED)\n",
    "model = Model(IL=ts_features.shape[1], HL=HL, DP=0.25, use_WN=True).to(DEVICE)\n",
    "\n",
    "best_model_fold = 2\n",
    "y_pred = predict(model=model, dataloader=ts_data, path=os.path.join(CLASSIFIER_HEAD_PATH, f\"state_fold_{best_model_fold}.pt\"))\n",
    "\n",
    "ss_df[\"cultivar\"] = le.inverse_transform(y_pred.astype(\"uint8\"))\n",
    "ss_df.to_csv(\"submission.csv\", index=False)"
   ]
  }
 ],
 "metadata": {
  "kernelspec": {
   "display_name": "Python 3",
   "language": "python",
   "name": "python3"
  },
  "language_info": {
   "codemirror_mode": {
    "name": "ipython",
    "version": 3
   },
   "file_extension": ".py",
   "mimetype": "text/x-python",
   "name": "python",
   "nbconvert_exporter": "python",
   "pygments_lexer": "ipython3",
   "version": "3.7.12"
  },
  "papermill": {
   "default_parameters": {},
   "duration": 1570.759122,
   "end_time": "2022-03-28T04:38:43.262305",
   "environment_variables": {},
   "exception": null,
   "input_path": "__notebook__.ipynb",
   "output_path": "__notebook__.ipynb",
   "parameters": {},
   "start_time": "2022-03-28T04:12:32.503183",
   "version": "2.3.3"
  }
 },
 "nbformat": 4,
 "nbformat_minor": 5
}
