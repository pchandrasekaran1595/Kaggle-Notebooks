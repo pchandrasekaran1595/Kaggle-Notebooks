{
 "cells": [
  {
   "cell_type": "markdown",
   "id": "4f4755a9",
   "metadata": {
    "papermill": {
     "duration": 0.019252,
     "end_time": "2022-04-06T03:49:46.889379",
     "exception": false,
     "start_time": "2022-04-06T03:49:46.870127",
     "status": "completed"
    },
    "tags": []
   },
   "source": [
    "### **Library Imports**"
   ]
  },
  {
   "cell_type": "code",
   "execution_count": 1,
   "id": "6d223352",
   "metadata": {
    "execution": {
     "iopub.execute_input": "2022-04-06T03:49:46.934765Z",
     "iopub.status.busy": "2022-04-06T03:49:46.931519Z",
     "iopub.status.idle": "2022-04-06T03:49:49.824767Z",
     "shell.execute_reply": "2022-04-06T03:49:49.823833Z",
     "shell.execute_reply.started": "2022-03-28T20:26:39.274415Z"
    },
    "papermill": {
     "duration": 2.916101,
     "end_time": "2022-04-06T03:49:49.824918",
     "exception": false,
     "start_time": "2022-04-06T03:49:46.908817",
     "status": "completed"
    },
    "tags": []
   },
   "outputs": [],
   "source": [
    "import os\n",
    "import re\n",
    "import cv2\n",
    "import torch\n",
    "import numpy as np\n",
    "import pandas as pd\n",
    "import matplotlib.pyplot as plt\n",
    "\n",
    "from torch import nn, optim\n",
    "from torch.utils.data import Dataset\n",
    "from torch.utils.data import DataLoader as DL\n",
    "from torchvision import models, transforms\n",
    "\n",
    "from sklearn.preprocessing import LabelEncoder\n",
    "from sklearn.model_selection import StratifiedKFold"
   ]
  },
  {
   "cell_type": "markdown",
   "id": "747eb53b",
   "metadata": {
    "papermill": {
     "duration": 0.013621,
     "end_time": "2022-04-06T03:49:49.850578",
     "exception": false,
     "start_time": "2022-04-06T03:49:49.836957",
     "status": "completed"
    },
    "tags": []
   },
   "source": [
    "### **Utilites and Constants**"
   ]
  },
  {
   "cell_type": "code",
   "execution_count": 2,
   "id": "49b64929",
   "metadata": {
    "execution": {
     "iopub.execute_input": "2022-04-06T03:49:49.882097Z",
     "iopub.status.busy": "2022-04-06T03:49:49.881256Z",
     "iopub.status.idle": "2022-04-06T03:49:49.883438Z",
     "shell.execute_reply": "2022-04-06T03:49:49.883847Z",
     "shell.execute_reply.started": "2022-03-28T20:27:25.997152Z"
    },
    "papermill": {
     "duration": 0.021185,
     "end_time": "2022-04-06T03:49:49.883996",
     "exception": false,
     "start_time": "2022-04-06T03:49:49.862811",
     "status": "completed"
    },
    "tags": []
   },
   "outputs": [],
   "source": [
    "SEED = 42\n",
    "SIZE = 512\n",
    "\n",
    "le = LabelEncoder()\n",
    "\n",
    "def breaker(num: int=50, char: str=\"*\") -> None:\n",
    "    print(\"\\n\" + num*char + \"\\n\")\n",
    "\n",
    "\n",
    "def get_image(path: str, size: int) -> np.ndarray:\n",
    "    image = cv2.imread(path, cv2.IMREAD_COLOR)\n",
    "    image = cv2.cvtColor(src=image, code=cv2.COLOR_BGR2RGB)\n",
    "    return cv2.resize(src=image, dsize=(size, size), interpolation=cv2.INTER_AREA)"
   ]
  },
  {
   "cell_type": "markdown",
   "id": "dc9b8915",
   "metadata": {
    "papermill": {
     "duration": 0.011067,
     "end_time": "2022-04-06T03:49:49.906573",
     "exception": false,
     "start_time": "2022-04-06T03:49:49.895506",
     "status": "completed"
    },
    "tags": []
   },
   "source": [
    "### **Configuration**"
   ]
  },
  {
   "cell_type": "code",
   "execution_count": 3,
   "id": "8c4e95d1",
   "metadata": {
    "execution": {
     "iopub.execute_input": "2022-04-06T03:49:49.939231Z",
     "iopub.status.busy": "2022-04-06T03:49:49.938362Z",
     "iopub.status.idle": "2022-04-06T03:49:50.000742Z",
     "shell.execute_reply": "2022-04-06T03:49:49.999631Z",
     "shell.execute_reply.started": "2022-03-28T20:26:42.122325Z"
    },
    "papermill": {
     "duration": 0.082846,
     "end_time": "2022-04-06T03:49:50.000877",
     "exception": false,
     "start_time": "2022-04-06T03:49:49.918031",
     "status": "completed"
    },
    "tags": []
   },
   "outputs": [],
   "source": [
    "class CFG(object):\n",
    "    def __init__(self, \n",
    "                 seed: int = 42,\n",
    "                 n_splits: int = 5,\n",
    "                 batch_size: int = 16,\n",
    "                 epochs: int = 25,\n",
    "                 early_stopping: int = 5,\n",
    "                 lr: float = 1e-4,\n",
    "                 wd: float = 0.0,\n",
    "                 max_lr: float = 1e-3,\n",
    "                 pct_start: float = 0.2,\n",
    "                 steps_per_epoch: int = 100,\n",
    "                 div_factor: int = 1e3, \n",
    "                 final_div_factor: float = 1e3,\n",
    "                 ):\n",
    "        self.seed = seed\n",
    "        self.n_splits = n_splits\n",
    "        self.batch_size = batch_size\n",
    "        self.epochs = epochs\n",
    "        self.early_stopping = early_stopping\n",
    "        self.lr = lr\n",
    "        self.wd = wd\n",
    "        self.max_lr = max_lr\n",
    "        self.pct_start = pct_start\n",
    "        self.steps_per_epoch = steps_per_epoch\n",
    "        self.div_factor = div_factor\n",
    "        self.final_div_factor = final_div_factor\n",
    "        self.device = torch.device(\"cuda\" if torch.cuda.is_available() else \"cpu\")\n",
    "        self.test_base_path = \"../input/sorghum-id-fgvc-9/test\"\n",
    "        self.model_path_512 = \"../input/fgvc9-r50-full-na512-slow-from-256/saves/state.pt\"\n",
    "        self.transform = transforms.Compose([transforms.ToTensor(), transforms.Normalize([0.36878, 0.38273, 0.29333], [0.16007, 0.16414, 0.12774]),])\n",
    "    \n",
    "cfg = CFG(seed=SEED)"
   ]
  },
  {
   "cell_type": "markdown",
   "id": "4f59941a",
   "metadata": {
    "papermill": {
     "duration": 0.012094,
     "end_time": "2022-04-06T03:49:50.025461",
     "exception": false,
     "start_time": "2022-04-06T03:49:50.013367",
     "status": "completed"
    },
    "tags": []
   },
   "source": [
    "### **Dataset Template**"
   ]
  },
  {
   "cell_type": "code",
   "execution_count": 4,
   "id": "b0c4de91",
   "metadata": {
    "execution": {
     "iopub.execute_input": "2022-04-06T03:49:50.056770Z",
     "iopub.status.busy": "2022-04-06T03:49:50.055876Z",
     "iopub.status.idle": "2022-04-06T03:49:50.057610Z",
     "shell.execute_reply": "2022-04-06T03:49:50.058079Z"
    },
    "papermill": {
     "duration": 0.020459,
     "end_time": "2022-04-06T03:49:50.058223",
     "exception": false,
     "start_time": "2022-04-06T03:49:50.037764",
     "status": "completed"
    },
    "tags": []
   },
   "outputs": [],
   "source": [
    "class DS(Dataset):\n",
    "    def __init__(self, base_path: str, filenames: np.ndarray, transform):\n",
    "        self.base_path = base_path\n",
    "        self.filenames = filenames\n",
    "        self.transform = transform\n",
    "    \n",
    "    def __len__(self):\n",
    "        return self.filenames.shape[0]\n",
    "    \n",
    "    def __getitem__(self, idx):\n",
    "        return self.transform(get_image(os.path.join(self.base_path, self.filenames[idx]), SIZE))"
   ]
  },
  {
   "cell_type": "markdown",
   "id": "b9d32dff",
   "metadata": {
    "papermill": {
     "duration": 0.011302,
     "end_time": "2022-04-06T03:49:50.081067",
     "exception": false,
     "start_time": "2022-04-06T03:49:50.069765",
     "status": "completed"
    },
    "tags": []
   },
   "source": [
    "### **Get Label Encoding Transform**"
   ]
  },
  {
   "cell_type": "code",
   "execution_count": 5,
   "id": "ca21d234",
   "metadata": {
    "execution": {
     "iopub.execute_input": "2022-04-06T03:49:50.109914Z",
     "iopub.status.busy": "2022-04-06T03:49:50.109082Z",
     "iopub.status.idle": "2022-04-06T03:49:50.166001Z",
     "shell.execute_reply": "2022-04-06T03:49:50.166513Z",
     "shell.execute_reply.started": "2022-03-28T20:27:29.300859Z"
    },
    "papermill": {
     "duration": 0.074242,
     "end_time": "2022-04-06T03:49:50.166782",
     "exception": false,
     "start_time": "2022-04-06T03:49:50.092540",
     "status": "completed"
    },
    "tags": []
   },
   "outputs": [],
   "source": [
    "train_df = pd.read_csv(\"../input/sorghum-id-fgvc-9/train_cultivar_mapping.csv\")\n",
    "train_df = train_df.drop(index=train_df.index[train_df.image == \".DS_Store\"])\n",
    "\n",
    "labels    = train_df.cultivar.copy().values \n",
    "labels = le.fit_transform(labels)"
   ]
  },
  {
   "cell_type": "markdown",
   "id": "e8eaa8ac",
   "metadata": {
    "papermill": {
     "duration": 0.011444,
     "end_time": "2022-04-06T03:49:50.190735",
     "exception": false,
     "start_time": "2022-04-06T03:49:50.179291",
     "status": "completed"
    },
    "tags": []
   },
   "source": [
    "### **Model**"
   ]
  },
  {
   "cell_type": "code",
   "execution_count": 6,
   "id": "369ffd19",
   "metadata": {
    "execution": {
     "iopub.execute_input": "2022-04-06T03:49:50.221842Z",
     "iopub.status.busy": "2022-04-06T03:49:50.220164Z",
     "iopub.status.idle": "2022-04-06T03:49:50.222411Z",
     "shell.execute_reply": "2022-04-06T03:49:50.222844Z",
     "shell.execute_reply.started": "2022-03-28T20:27:41.78709Z"
    },
    "papermill": {
     "duration": 0.02011,
     "end_time": "2022-04-06T03:49:50.222990",
     "exception": false,
     "start_time": "2022-04-06T03:49:50.202880",
     "status": "completed"
    },
    "tags": []
   },
   "outputs": [],
   "source": [
    "class MyResnet(nn.Module):\n",
    "    def __init__(self):\n",
    "        super(MyResnet, self).__init__()\n",
    "\n",
    "        self.model = models.resnet50(pretrained=False, progress=True)\n",
    "        self.model.fc = nn.Linear(in_features=self.model.fc.in_features, out_features=100)\n",
    "\n",
    "    def forward(self, x):\n",
    "        return nn.LogSoftmax(dim=1)(self.model(x))"
   ]
  },
  {
   "cell_type": "markdown",
   "id": "95d2dd36",
   "metadata": {
    "papermill": {
     "duration": 0.011312,
     "end_time": "2022-04-06T03:49:50.245902",
     "exception": false,
     "start_time": "2022-04-06T03:49:50.234590",
     "status": "completed"
    },
    "tags": []
   },
   "source": [
    "### **Predict Helper**"
   ]
  },
  {
   "cell_type": "code",
   "execution_count": 7,
   "id": "e2e7194e",
   "metadata": {
    "execution": {
     "iopub.execute_input": "2022-04-06T03:49:50.276405Z",
     "iopub.status.busy": "2022-04-06T03:49:50.275620Z",
     "iopub.status.idle": "2022-04-06T03:49:50.278229Z",
     "shell.execute_reply": "2022-04-06T03:49:50.277807Z",
     "shell.execute_reply.started": "2022-03-28T20:27:44.307566Z"
    },
    "papermill": {
     "duration": 0.021019,
     "end_time": "2022-04-06T03:49:50.278343",
     "exception": false,
     "start_time": "2022-04-06T03:49:50.257324",
     "status": "completed"
    },
    "tags": []
   },
   "outputs": [],
   "source": [
    "def predict(model=None, dataloader=None, path=None, device=None) -> np.ndarray:\n",
    "    model.load_state_dict(torch.load(path, map_location=device)[\"model_state_dict\"])\n",
    "    model.to(device)    \n",
    "    model.eval()\n",
    "    \n",
    "    y_pred = torch.zeros(1, 1).to(device)\n",
    "    \n",
    "    for X in dataloader:\n",
    "        X = X.to(device)\n",
    "        with torch.no_grad():\n",
    "            output = torch.argmax(torch.exp(model(X)), dim=1)\n",
    "        y_pred = torch.cat((y_pred, output.view(-1, 1)), dim=0)\n",
    "    \n",
    "    return y_pred[1:].detach().cpu().numpy()"
   ]
  },
  {
   "cell_type": "markdown",
   "id": "9010b5fe",
   "metadata": {
    "papermill": {
     "duration": 0.011463,
     "end_time": "2022-04-06T03:49:50.301363",
     "exception": false,
     "start_time": "2022-04-06T03:49:50.289900",
     "status": "completed"
    },
    "tags": []
   },
   "source": [
    "### **Submission**"
   ]
  },
  {
   "cell_type": "code",
   "execution_count": 8,
   "id": "81288ef4",
   "metadata": {
    "execution": {
     "iopub.execute_input": "2022-04-06T03:49:50.332375Z",
     "iopub.status.busy": "2022-04-06T03:49:50.331829Z",
     "iopub.status.idle": "2022-04-06T04:13:06.837274Z",
     "shell.execute_reply": "2022-04-06T04:13:06.837737Z",
     "shell.execute_reply.started": "2022-03-28T20:28:05.595373Z"
    },
    "papermill": {
     "duration": 1396.525057,
     "end_time": "2022-04-06T04:13:06.837932",
     "exception": false,
     "start_time": "2022-04-06T03:49:50.312875",
     "status": "completed"
    },
    "tags": []
   },
   "outputs": [
    {
     "name": "stderr",
     "output_type": "stream",
     "text": [
      "/opt/conda/lib/python3.7/site-packages/sklearn/preprocessing/_label.py:154: DataConversionWarning: A column-vector y was passed when a 1d array was expected. Please change the shape of y to (n_samples, ), for example using ravel().\n",
      "  y = column_or_1d(y, warn=True)\n"
     ]
    }
   ],
   "source": [
    "ss_df = pd.read_csv(\"../input/sorghum-id-fgvc-9/sample_submission.csv\")\n",
    "\n",
    "ts_data_setup = DS(cfg.test_base_path, ss_df.filename.copy().values, cfg.transform)\n",
    "ts_data = DL(ts_data_setup, batch_size=cfg.batch_size, shuffle=False)\n",
    "\n",
    "y_pred = predict(model=MyResnet().to(cfg.device), \n",
    "                 dataloader=ts_data, \n",
    "                 path=cfg.model_path_512,\n",
    "                 device=cfg.device)\n",
    "y_pred = le.inverse_transform(y_pred.astype(\"uint8\"))\n",
    "\n",
    "ss_df[\"cultivar\"] = y_pred\n",
    "ss_df.to_csv(\"submission.csv\", index=False)"
   ]
  }
 ],
 "metadata": {
  "kernelspec": {
   "display_name": "Python 3",
   "language": "python",
   "name": "python3"
  },
  "language_info": {
   "codemirror_mode": {
    "name": "ipython",
    "version": 3
   },
   "file_extension": ".py",
   "mimetype": "text/x-python",
   "name": "python",
   "nbconvert_exporter": "python",
   "pygments_lexer": "ipython3",
   "version": "3.7.12"
  },
  "papermill": {
   "default_parameters": {},
   "duration": 1409.690921,
   "end_time": "2022-04-06T04:13:08.565925",
   "environment_variables": {},
   "exception": null,
   "input_path": "__notebook__.ipynb",
   "output_path": "__notebook__.ipynb",
   "parameters": {},
   "start_time": "2022-04-06T03:49:38.875004",
   "version": "2.3.3"
  }
 },
 "nbformat": 4,
 "nbformat_minor": 5
}
