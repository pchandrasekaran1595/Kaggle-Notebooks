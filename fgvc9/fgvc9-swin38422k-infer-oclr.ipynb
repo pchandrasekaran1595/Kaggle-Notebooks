{
 "cells": [
  {
   "cell_type": "code",
   "execution_count": 1,
   "id": "880228e5",
   "metadata": {
    "_cell_guid": "b1076dfc-b9ad-4769-8c92-a6c4dae69d19",
    "_uuid": "8f2839f25d086af736a60e9eeb907d3b93b6e0e5",
    "execution": {
     "iopub.execute_input": "2022-03-28T10:28:08.513558Z",
     "iopub.status.busy": "2022-03-28T10:28:08.512087Z",
     "iopub.status.idle": "2022-03-28T10:28:18.499284Z",
     "shell.execute_reply": "2022-03-28T10:28:18.498273Z",
     "shell.execute_reply.started": "2022-03-27T22:08:45.293164Z"
    },
    "papermill": {
     "duration": 10.006593,
     "end_time": "2022-03-28T10:28:18.499452",
     "exception": false,
     "start_time": "2022-03-28T10:28:08.492859",
     "status": "completed"
    },
    "tags": []
   },
   "outputs": [
    {
     "name": "stdout",
     "output_type": "stream",
     "text": [
      "\u001b[33mWARNING: Running pip as the 'root' user can result in broken permissions and conflicting behaviour with the system package manager. It is recommended to use a virtual environment instead: https://pip.pypa.io/warnings/venv\u001b[0m\r\n"
     ]
    }
   ],
   "source": [
    "!pip install --upgrade timm -q"
   ]
  },
  {
   "cell_type": "markdown",
   "id": "07e5d7ff",
   "metadata": {
    "papermill": {
     "duration": 0.014313,
     "end_time": "2022-03-28T10:28:18.529425",
     "exception": false,
     "start_time": "2022-03-28T10:28:18.515112",
     "status": "completed"
    },
    "tags": []
   },
   "source": [
    "### **Library Imports**"
   ]
  },
  {
   "cell_type": "code",
   "execution_count": 2,
   "id": "55a3c3c0",
   "metadata": {
    "execution": {
     "iopub.execute_input": "2022-03-28T10:28:18.564463Z",
     "iopub.status.busy": "2022-03-28T10:28:18.563697Z",
     "iopub.status.idle": "2022-03-28T10:28:22.369623Z",
     "shell.execute_reply": "2022-03-28T10:28:22.369082Z",
     "shell.execute_reply.started": "2022-03-27T22:35:42.883308Z"
    },
    "papermill": {
     "duration": 3.825958,
     "end_time": "2022-03-28T10:28:22.369758",
     "exception": false,
     "start_time": "2022-03-28T10:28:18.543800",
     "status": "completed"
    },
    "tags": []
   },
   "outputs": [],
   "source": [
    "import os\n",
    "import re\n",
    "import cv2\n",
    "import timm\n",
    "import torch\n",
    "import pickle\n",
    "import numpy as np\n",
    "import pandas as pd\n",
    "import matplotlib.pyplot as plt\n",
    "\n",
    "from time import time\n",
    "from torch import nn, optim\n",
    "from torch.utils.data import Dataset\n",
    "from torch.utils.data import DataLoader as DL\n",
    "from torch.nn.utils import weight_norm as WN\n",
    "from torchvision import transforms\n",
    "\n",
    "from sklearn.preprocessing import LabelEncoder\n",
    "from sklearn.model_selection import StratifiedKFold"
   ]
  },
  {
   "cell_type": "markdown",
   "id": "08851aba",
   "metadata": {
    "papermill": {
     "duration": 0.014285,
     "end_time": "2022-03-28T10:28:22.398773",
     "exception": false,
     "start_time": "2022-03-28T10:28:22.384488",
     "status": "completed"
    },
    "tags": []
   },
   "source": [
    "### **Utilities and Constants**"
   ]
  },
  {
   "cell_type": "code",
   "execution_count": 3,
   "id": "5a3c681f",
   "metadata": {
    "execution": {
     "iopub.execute_input": "2022-03-28T10:28:22.479600Z",
     "iopub.status.busy": "2022-03-28T10:28:22.478881Z",
     "iopub.status.idle": "2022-03-28T10:28:22.481456Z",
     "shell.execute_reply": "2022-03-28T10:28:22.481838Z",
     "shell.execute_reply.started": "2022-03-27T22:37:36.110733Z"
    },
    "papermill": {
     "duration": 0.068597,
     "end_time": "2022-03-28T10:28:22.481988",
     "exception": false,
     "start_time": "2022-03-28T10:28:22.413391",
     "status": "completed"
    },
    "tags": []
   },
   "outputs": [],
   "source": [
    "SEED = 42\n",
    "SIZE = 384\n",
    "FV_LENGTH = 1536\n",
    "DEVICE = torch.device(\"cuda\" if torch.cuda.is_available() else \"cpu\")\n",
    "\n",
    "CLASSIFIER_HEAD_PATH = \"../input/fgvc9-swin38422k-train-oclr/saves\"\n",
    "TRANSFORM = transforms.Compose([transforms.ToTensor(), \n",
    "                                transforms.Normalize([0.485, 0.456, 0.406], \n",
    "                                                     [0.229, 0.224, 0.225]),\n",
    "                               ])\n",
    "\n",
    "SAVE_PATH = \"saves\"\n",
    "if not os.path.exists(SAVE_PATH):\n",
    "    os.makedirs(SAVE_PATH)"
   ]
  },
  {
   "cell_type": "code",
   "execution_count": 4,
   "id": "7e865cf1",
   "metadata": {
    "execution": {
     "iopub.execute_input": "2022-03-28T10:28:22.517913Z",
     "iopub.status.busy": "2022-03-28T10:28:22.517076Z",
     "iopub.status.idle": "2022-03-28T10:28:22.520254Z",
     "shell.execute_reply": "2022-03-28T10:28:22.519806Z",
     "shell.execute_reply.started": "2022-03-27T22:37:13.46311Z"
    },
    "papermill": {
     "duration": 0.023595,
     "end_time": "2022-03-28T10:28:22.520370",
     "exception": false,
     "start_time": "2022-03-28T10:28:22.496775",
     "status": "completed"
    },
    "tags": []
   },
   "outputs": [],
   "source": [
    "def breaker(num: int=50, char: str=\"*\") -> None:\n",
    "    print(\"\\n\" + num*char + \"\\n\")\n",
    "\n",
    "\n",
    "def get_image(path: str, size: int) -> np.ndarray:\n",
    "    image = cv2.imread(path, cv2.IMREAD_COLOR)\n",
    "    image = cv2.cvtColor(src=image, code=cv2.COLOR_BGR2RGB)\n",
    "    return cv2.resize(src=image, dsize=(size, size), interpolation=cv2.INTER_AREA)"
   ]
  },
  {
   "cell_type": "markdown",
   "id": "1f432f2a",
   "metadata": {
    "papermill": {
     "duration": 0.014303,
     "end_time": "2022-03-28T10:28:22.549056",
     "exception": false,
     "start_time": "2022-03-28T10:28:22.534753",
     "status": "completed"
    },
    "tags": []
   },
   "source": [
    "### **Dataset Templatea**"
   ]
  },
  {
   "cell_type": "code",
   "execution_count": 5,
   "id": "e73085ed",
   "metadata": {
    "execution": {
     "iopub.execute_input": "2022-03-28T10:28:22.589165Z",
     "iopub.status.busy": "2022-03-28T10:28:22.588542Z",
     "iopub.status.idle": "2022-03-28T10:28:22.591368Z",
     "shell.execute_reply": "2022-03-28T10:28:22.590935Z",
     "shell.execute_reply.started": "2022-03-27T22:37:47.460024Z"
    },
    "papermill": {
     "duration": 0.027801,
     "end_time": "2022-03-28T10:28:22.591479",
     "exception": false,
     "start_time": "2022-03-28T10:28:22.563678",
     "status": "completed"
    },
    "tags": []
   },
   "outputs": [],
   "source": [
    "class FEDS(Dataset):\n",
    "    def __init__(self, base_path: str, filenames: np.ndarray, transform):\n",
    "        self.base_path = base_path\n",
    "        self.filenames = filenames\n",
    "        self.transform = transform\n",
    "    \n",
    "    def __len__(self):\n",
    "        return self.filenames.shape[0]\n",
    "    \n",
    "    def __getitem__(self, idx):\n",
    "        return self.transform(get_image(os.path.join(self.base_path, self.filenames[idx]), SIZE))\n",
    "\n",
    "\n",
    "class DS(Dataset):\n",
    "    def __init__(self, X=None, y=None, mode=\"train\"):\n",
    "        self.mode = mode\n",
    "\n",
    "        assert(re.match(r\"train\", self.mode, re.IGNORECASE) or re.match(r\"valid\", self.mode, re.IGNORECASE) or re.match(r\"test\", self.mode, re.IGNORECASE))\n",
    "\n",
    "        self.X = X\n",
    "        if re.match(r\"train\", self.mode, re.IGNORECASE) or re.match(r\"valid\", self.mode, re.IGNORECASE):\n",
    "            self.y = y\n",
    "    \n",
    "    def __len__(self):\n",
    "        return self.X.shape[0]\n",
    "    \n",
    "    def __getitem__(self, idx):\n",
    "        if re.match(r\"train\", self.mode, re.IGNORECASE) or re.match(r\"valid\", self.mode, re.IGNORECASE):\n",
    "            return torch.FloatTensor(self.X[idx]), torch.LongTensor(self.y[idx])\n",
    "        else:\n",
    "            return torch.FloatTensor(self.X[idx])"
   ]
  },
  {
   "cell_type": "markdown",
   "id": "2acb6bee",
   "metadata": {
    "papermill": {
     "duration": 0.014097,
     "end_time": "2022-03-28T10:28:22.620286",
     "exception": false,
     "start_time": "2022-03-28T10:28:22.606189",
     "status": "completed"
    },
    "tags": []
   },
   "source": [
    "### **Model**"
   ]
  },
  {
   "cell_type": "code",
   "execution_count": 6,
   "id": "be0a00ab",
   "metadata": {
    "execution": {
     "iopub.execute_input": "2022-03-28T10:28:22.672863Z",
     "iopub.status.busy": "2022-03-28T10:28:22.651283Z",
     "iopub.status.idle": "2022-03-28T10:28:22.679947Z",
     "shell.execute_reply": "2022-03-28T10:28:22.679539Z",
     "shell.execute_reply.started": "2022-03-27T22:08:57.793665Z"
    },
    "papermill": {
     "duration": 0.045465,
     "end_time": "2022-03-28T10:28:22.680054",
     "exception": false,
     "start_time": "2022-03-28T10:28:22.634589",
     "status": "completed"
    },
    "tags": []
   },
   "outputs": [],
   "source": [
    "class Model(nn.Module):\n",
    "    def __init__(self, IL: int=None, HL: list=None, DP: float=None, use_WN: bool=False):\n",
    "        super(Model, self).__init__()\n",
    "\n",
    "        self.model = nn.Sequential()\n",
    "\n",
    "        if len(HL) == 1:\n",
    "            self.model.add_module(\"BN1\", nn.BatchNorm1d(num_features=IL, eps=1e-5))\n",
    "            if use_WN: \n",
    "                self.model.add_module(\"FC1\", WN(nn.Linear(in_features=IL, out_features=HL[0])))\n",
    "            else: \n",
    "                self.model.add_module(\"FC1\", nn.Linear(in_features=IL, out_features=HL[0]))\n",
    "            if isinstance(DP, float):\n",
    "                self.model.add_module(\"DP1\", nn.Dropout(p=DP))\n",
    "            self.model.add_module(\"AN1\", nn.ReLU())\n",
    "            self.model.add_module(\"BN2\", nn.BatchNorm1d(num_features=HL[0], eps=1e-5))\n",
    "            if use_WN: \n",
    "                self.model.add_module(\"FC2\", WN(nn.Linear(in_features=HL[0], out_features=100)))\n",
    "            else:\n",
    "                self.model.add_module(\"FC2\", nn.Linear(in_features=HL[0], out_features=100))\n",
    "\n",
    "        \n",
    "        elif len(HL) == 2:\n",
    "            self.model.add_module(\"BN1\", nn.BatchNorm1d(num_features=IL, eps=1e-5))\n",
    "            if use_WN: \n",
    "                self.model.add_module(\"FC1\", WN(nn.Linear(in_features=IL, out_features=HL[0])))\n",
    "            else: \n",
    "                self.model.add_module(\"FC1\", nn.Linear(in_features=IL, out_features=HL[0]))\n",
    "            if isinstance(DP, float):\n",
    "                self.model.add_module(\"DP1\", nn.Dropout(p=DP))\n",
    "            self.model.add_module(\"AN1\", nn.ReLU())\n",
    "            self.model.add_module(\"BN2\", nn.BatchNorm1d(num_features=HL[0], eps=1e-5))\n",
    "            if use_WN:\n",
    "                self.model.add_module(\"FC2\", WN(nn.Linear(in_features=HL[0], out_features=HL[1])))\n",
    "            else:\n",
    "                self.model.add_module(\"FC2\", nn.Linear(in_features=HL[0], out_features=HL[1]))\n",
    "            if isinstance(DP, float):\n",
    "                self.model.add_module(\"DP2\", nn.Dropout(p=DP))\n",
    "            self.model.add_module(\"AN2\", nn.ReLU())\n",
    "            self.model.add_module(\"BN3\", nn.BatchNorm1d(num_features=HL[1], eps=1e-5))\n",
    "            if use_WN: \n",
    "                self.model.add_module(\"FC3\", WN(nn.Linear(in_features=HL[1], out_features=100)))\n",
    "            else:\n",
    "                self.model.add_module(\"FC3\", nn.Linear(in_features=HL[1], out_features=100))\n",
    "        \n",
    "        elif len(HL) == 3:\n",
    "            self.model.add_module(\"BN1\", nn.BatchNorm1d(num_features=IL, eps=1e-5))\n",
    "            if use_WN: \n",
    "                self.model.add_module(\"FC1\", WN(nn.Linear(in_features=IL, out_features=HL[0])))\n",
    "            else: \n",
    "                self.model.add_module(\"FC1\", nn.Linear(in_features=IL, out_features=HL[0]))\n",
    "            if isinstance(DP, float):\n",
    "                self.model.add_module(\"DP1\", nn.Dropout(p=DP))\n",
    "            self.model.add_module(\"AN1\", nn.ReLU())\n",
    "            self.model.add_module(\"BN2\", nn.BatchNorm1d(num_features=HL[0], eps=1e-5))\n",
    "            if use_WN:\n",
    "                self.model.add_module(\"FC2\", WN(nn.Linear(in_features=HL[0], out_features=HL[1])))\n",
    "            else:\n",
    "                self.model.add_module(\"FC2\", nn.Linear(in_features=HL[0], out_features=HL[1]))\n",
    "            if isinstance(DP, float):\n",
    "                self.model.add_module(\"DP2\", nn.Dropout(p=DP))\n",
    "            self.model.add_module(\"AN2\", nn.ReLU())\n",
    "            self.model.add_module(\"BN3\", nn.BatchNorm1d(num_features=HL[1], eps=1e-5))\n",
    "            if use_WN:\n",
    "                self.model.add_module(\"FC3\", WN(nn.Linear(in_features=HL[1], out_features=HL[2])))\n",
    "            else:\n",
    "                self.model.add_module(\"FC3\", nn.Linear(in_features=HL[1], out_features=HL[2]))\n",
    "            if isinstance(DP, float):\n",
    "                self.model.add_module(\"DP3\", nn.Dropout(p=DP))\n",
    "            self.model.add_module(\"AN3\", nn.ReLU())\n",
    "            self.model.add_module(\"BN4\", nn.BatchNorm1d(num_features=HL[2], eps=1e-5))\n",
    "            if use_WN: \n",
    "                self.model.add_module(\"FC4\", WN(nn.Linear(in_features=HL[2], out_features=100)))\n",
    "            else:\n",
    "                self.model.add_module(\"FC4\", nn.Linear(in_features=HL[2], out_features=100))\n",
    "    \n",
    "    def get_optimizer(self, lr=1e-3, wd=0.0):\n",
    "        return optim.Adam(self.parameters(), lr=lr, weight_decay=wd)\n",
    "\n",
    "    def get_plateau_scheduler(self, optimizer=None, patience=5, eps=1e-8):\n",
    "        return optim.lr_scheduler.ReduceLROnPlateau(optimizer=optimizer, patience=patience, eps=eps)\n",
    "    \n",
    "    def forward(self, x):\n",
    "        return nn.LogSoftmax(dim=1)(self.model(x))"
   ]
  },
  {
   "cell_type": "markdown",
   "id": "f5e6f2ca",
   "metadata": {
    "papermill": {
     "duration": 0.014467,
     "end_time": "2022-03-28T10:28:22.709745",
     "exception": false,
     "start_time": "2022-03-28T10:28:22.695278",
     "status": "completed"
    },
    "tags": []
   },
   "source": [
    "### **Predict Helper**"
   ]
  },
  {
   "cell_type": "code",
   "execution_count": 7,
   "id": "dbbdb939",
   "metadata": {
    "execution": {
     "iopub.execute_input": "2022-03-28T10:28:22.747409Z",
     "iopub.status.busy": "2022-03-28T10:28:22.746069Z",
     "iopub.status.idle": "2022-03-28T10:28:22.747898Z",
     "shell.execute_reply": "2022-03-28T10:28:22.748736Z",
     "shell.execute_reply.started": "2022-03-27T22:08:57.827573Z"
    },
    "papermill": {
     "duration": 0.024164,
     "end_time": "2022-03-28T10:28:22.748860",
     "exception": false,
     "start_time": "2022-03-28T10:28:22.724696",
     "status": "completed"
    },
    "tags": []
   },
   "outputs": [],
   "source": [
    "def predict(model=None, dataloader=None, path=None) -> np.ndarray:\n",
    "    model.load_state_dict(torch.load(path, map_location=DEVICE)[\"model_state_dict\"])\n",
    "    model.to(DEVICE)    \n",
    "    model.eval()\n",
    "    \n",
    "    y_pred = torch.zeros(1, 1).to(DEVICE)\n",
    "    \n",
    "    for X in dataloader:\n",
    "        X = X.to(DEVICE)\n",
    "        with torch.no_grad():\n",
    "            output = torch.argmax(torch.exp(model(X)), dim=1)\n",
    "        y_pred = torch.cat((y_pred, output.view(-1, 1)), dim=0)\n",
    "    \n",
    "    return y_pred[1:].detach().cpu().numpy()"
   ]
  },
  {
   "cell_type": "markdown",
   "id": "8854400d",
   "metadata": {
    "papermill": {
     "duration": 0.014343,
     "end_time": "2022-03-28T10:28:22.779020",
     "exception": false,
     "start_time": "2022-03-28T10:28:22.764677",
     "status": "completed"
    },
    "tags": []
   },
   "source": [
    "### **Params**"
   ]
  },
  {
   "cell_type": "code",
   "execution_count": 8,
   "id": "ac6c1983",
   "metadata": {
    "execution": {
     "iopub.execute_input": "2022-03-28T10:28:22.813873Z",
     "iopub.status.busy": "2022-03-28T10:28:22.813159Z",
     "iopub.status.idle": "2022-03-28T10:28:22.815581Z",
     "shell.execute_reply": "2022-03-28T10:28:22.815181Z",
     "shell.execute_reply.started": "2022-03-27T22:08:57.853905Z"
    },
    "papermill": {
     "duration": 0.022084,
     "end_time": "2022-03-28T10:28:22.815693",
     "exception": false,
     "start_time": "2022-03-28T10:28:22.793609",
     "status": "completed"
    },
    "tags": []
   },
   "outputs": [],
   "source": [
    "DEBUG: bool = False\n",
    "    \n",
    "if DEBUG:\n",
    "    n_splits = 3\n",
    "    epochs = 2\n",
    "    HL = [4]\n",
    "else:\n",
    "    n_splits = 5\n",
    "    epochs = 500\n",
    "    HL = [2048, 1024, 512]\n",
    "\n",
    "batch_size = 512\n",
    "lr = 1e-4\n",
    "wd = 1e-5\n",
    "early_stopping = 25\n",
    "patience = None\n",
    "eps = None"
   ]
  },
  {
   "cell_type": "markdown",
   "id": "16bc4951",
   "metadata": {
    "papermill": {
     "duration": 0.014179,
     "end_time": "2022-03-28T10:28:22.844059",
     "exception": false,
     "start_time": "2022-03-28T10:28:22.829880",
     "status": "completed"
    },
    "tags": []
   },
   "source": [
    "### **Get SWIN Features for the Test Set**"
   ]
  },
  {
   "cell_type": "code",
   "execution_count": 9,
   "id": "365de637",
   "metadata": {
    "execution": {
     "iopub.execute_input": "2022-03-28T10:28:22.879354Z",
     "iopub.status.busy": "2022-03-28T10:28:22.878847Z",
     "iopub.status.idle": "2022-03-28T10:31:22.452088Z",
     "shell.execute_reply": "2022-03-28T10:31:22.451603Z",
     "shell.execute_reply.started": "2022-03-27T22:20:41.970853Z"
    },
    "papermill": {
     "duration": 179.593814,
     "end_time": "2022-03-28T10:31:22.452265",
     "exception": false,
     "start_time": "2022-03-28T10:28:22.858451",
     "status": "completed"
    },
    "tags": []
   },
   "outputs": [],
   "source": [
    "train_df = pd.read_csv(\"../input/sorghum-id-fgvc-9/train_cultivar_mapping.csv\")\n",
    "ss_df = pd.read_csv(\"../input/sorghum-id-fgvc-9/sample_submission.csv\")\n",
    "\n",
    "broken_images = [filename for filename in train_df.image if filename not in os.listdir(\"../input/sorghum-id-fgvc-9/train_images\")]\n",
    "for broken_image in broken_images:\n",
    "    index = train_df.index[train_df.image == broken_image]\n",
    "    train_df = train_df.drop(index=index)\n",
    "    \n",
    "filenames = train_df.image.copy().values\n",
    "labels    = train_df.cultivar.copy().values \n",
    "\n",
    "le = LabelEncoder()\n",
    "labels = le.fit_transform(labels)\n",
    "\n",
    "ts_filenames = ss_df.filename.copy().values\n",
    "ts_features = np.zeros((len(ts_filenames), FV_LENGTH))"
   ]
  },
  {
   "cell_type": "code",
   "execution_count": 10,
   "id": "cc031430",
   "metadata": {
    "execution": {
     "iopub.execute_input": "2022-03-28T10:31:22.491046Z",
     "iopub.status.busy": "2022-03-28T10:31:22.490415Z",
     "iopub.status.idle": "2022-03-28T10:56:30.237882Z",
     "shell.execute_reply": "2022-03-28T10:56:30.237354Z",
     "shell.execute_reply.started": "2022-03-27T22:37:52.178607Z"
    },
    "papermill": {
     "duration": 1507.770555,
     "end_time": "2022-03-28T10:56:30.238025",
     "exception": false,
     "start_time": "2022-03-28T10:31:22.467470",
     "status": "completed"
    },
    "tags": []
   },
   "outputs": [
    {
     "name": "stderr",
     "output_type": "stream",
     "text": [
      "Downloading: \"https://github.com/SwinTransformer/storage/releases/download/v1.0.0/swin_large_patch4_window12_384_22k.pth\" to /root/.cache/torch/hub/checkpoints/swin_large_patch4_window12_384_22k.pth\n"
     ]
    }
   ],
   "source": [
    "model = timm.create_model(\"swin_large_patch4_window12_384_in22k\", pretrained=True).to(DEVICE)\n",
    "model = torch.nn.Sequential(*[*model.children()][:-3])\n",
    "\n",
    "dataloader_setup = FEDS(\"../input/sorghum-id-fgvc-9/test\", ts_filenames, TRANSFORM)\n",
    "dataloader = DL(dataloader_setup, batch_size=64, shuffle=False)\n",
    "\n",
    "ts_features = torch.zeros(1, FV_LENGTH).to(DEVICE)\n",
    "\n",
    "for X in dataloader:\n",
    "    X = X.to(DEVICE)\n",
    "    with torch.no_grad():\n",
    "        output = model(X)\n",
    "    ts_features = torch.cat((ts_features, output[:, 0, :]), dim=0)\n",
    "\n",
    "ts_features = ts_features[1:].detach().cpu().numpy()"
   ]
  },
  {
   "cell_type": "markdown",
   "id": "6d8b5241",
   "metadata": {
    "papermill": {
     "duration": 0.014904,
     "end_time": "2022-03-28T10:56:30.269389",
     "exception": false,
     "start_time": "2022-03-28T10:56:30.254485",
     "status": "completed"
    },
    "tags": []
   },
   "source": [
    "### **Submission**"
   ]
  },
  {
   "cell_type": "code",
   "execution_count": 11,
   "id": "28357df8",
   "metadata": {
    "execution": {
     "iopub.execute_input": "2022-03-28T10:56:30.309371Z",
     "iopub.status.busy": "2022-03-28T10:56:30.308731Z",
     "iopub.status.idle": "2022-03-28T10:56:35.663200Z",
     "shell.execute_reply": "2022-03-28T10:56:35.663635Z",
     "shell.execute_reply.started": "2022-03-27T22:46:10.618671Z"
    },
    "papermill": {
     "duration": 5.379722,
     "end_time": "2022-03-28T10:56:35.663796",
     "exception": false,
     "start_time": "2022-03-28T10:56:30.284074",
     "status": "completed"
    },
    "tags": []
   },
   "outputs": [
    {
     "name": "stderr",
     "output_type": "stream",
     "text": [
      "/opt/conda/lib/python3.7/site-packages/sklearn/preprocessing/_label.py:154: DataConversionWarning: A column-vector y was passed when a 1d array was expected. Please change the shape of y to (n_samples, ), for example using ravel().\n",
      "  y = column_or_1d(y, warn=True)\n"
     ]
    }
   ],
   "source": [
    "ts_data_setup = DS(ts_features, None, \"test\")\n",
    "ts_data = DL(ts_data_setup, batch_size=batch_size, shuffle=False)\n",
    "\n",
    "torch.manual_seed(SEED)\n",
    "model = Model(IL=ts_features.shape[1], HL=HL, DP=0.5, use_WN=True).to(DEVICE)\n",
    "\n",
    "# best_model_fold = 1\n",
    "# y_pred = predict(model=model, dataloader=ts_data, path=os.path.join(CLASSIFIER_HEAD_PATH, f\"state_fold_{best_model_fold}.pt\"))\n",
    "\n",
    "# ss_df[\"cultivar\"] = le.inverse_transform(y_pred.astype(\"uint8\"))\n",
    "# ss_df.to_csv(\"submission.csv\", index=False)\n",
    "\n",
    "final_y_pred = np.zeros((len(ts_filenames), 1))\n",
    "\n",
    "for fold in range(1, n_splits+1):\n",
    "    y_pred = predict(model=model, dataloader=ts_data, path=os.path.join(CLASSIFIER_HEAD_PATH, f\"state_fold_{fold}.pt\"))\n",
    "    if fold == 1:\n",
    "        y_pred = y_pred * 4\n",
    "    final_y_pred += y_pred\n",
    "\n",
    "final_y_pred /= 8\n",
    "    \n",
    "ss_df[\"cultivar\"] = le.inverse_transform(final_y_pred.astype(\"uint8\"))\n",
    "ss_df.to_csv(\"submission.csv\", index=False)"
   ]
  }
 ],
 "metadata": {
  "kernelspec": {
   "display_name": "Python 3",
   "language": "python",
   "name": "python3"
  },
  "language_info": {
   "codemirror_mode": {
    "name": "ipython",
    "version": 3
   },
   "file_extension": ".py",
   "mimetype": "text/x-python",
   "name": "python",
   "nbconvert_exporter": "python",
   "pygments_lexer": "ipython3",
   "version": "3.7.12"
  },
  "papermill": {
   "default_parameters": {},
   "duration": 1717.990645,
   "end_time": "2022-03-28T10:56:38.400288",
   "environment_variables": {},
   "exception": null,
   "input_path": "__notebook__.ipynb",
   "output_path": "__notebook__.ipynb",
   "parameters": {},
   "start_time": "2022-03-28T10:28:00.409643",
   "version": "2.3.3"
  }
 },
 "nbformat": 4,
 "nbformat_minor": 5
}
