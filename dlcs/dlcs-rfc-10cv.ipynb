{
 "cells": [
  {
   "cell_type": "code",
   "execution_count": 1,
   "id": "05cbb7f5",
   "metadata": {
    "_cell_guid": "b1076dfc-b9ad-4769-8c92-a6c4dae69d19",
    "_uuid": "8f2839f25d086af736a60e9eeb907d3b93b6e0e5",
    "execution": {
     "iopub.execute_input": "2022-10-15T14:04:51.766234Z",
     "iopub.status.busy": "2022-10-15T14:04:51.765759Z",
     "iopub.status.idle": "2022-10-15T14:04:53.382872Z",
     "shell.execute_reply": "2022-10-15T14:04:53.381640Z"
    },
    "papermill": {
     "duration": 1.625789,
     "end_time": "2022-10-15T14:04:53.385654",
     "exception": false,
     "start_time": "2022-10-15T14:04:51.759865",
     "status": "completed"
    },
    "tags": []
   },
   "outputs": [],
   "source": [
    "import os\n",
    "import pickle\n",
    "import numpy as np\n",
    "import pandas as pd\n",
    "import random as r\n",
    "import seaborn as sns\n",
    "import matplotlib.pyplot as plt\n",
    "\n",
    "from time import time\n",
    "from sklearn.pipeline import Pipeline\n",
    "from sklearn.impute import SimpleImputer\n",
    "from sklearn.compose import ColumnTransformer\n",
    "from sklearn.preprocessing import StandardScaler\n",
    "from sklearn.model_selection import KFold, GridSearchCV\n",
    "\n",
    "from sklearn.ensemble import RandomForestClassifier\n",
    "from sklearn.metrics import accuracy_score, precision_recall_fscore_support, roc_auc_score, classification_report"
   ]
  },
  {
   "cell_type": "code",
   "execution_count": 2,
   "id": "2f16787d",
   "metadata": {
    "execution": {
     "iopub.execute_input": "2022-10-15T14:04:53.393339Z",
     "iopub.status.busy": "2022-10-15T14:04:53.392929Z",
     "iopub.status.idle": "2022-10-15T14:04:53.400670Z",
     "shell.execute_reply": "2022-10-15T14:04:53.399623Z"
    },
    "papermill": {
     "duration": 0.014178,
     "end_time": "2022-10-15T14:04:53.402958",
     "exception": false,
     "start_time": "2022-10-15T14:04:53.388780",
     "status": "completed"
    },
    "tags": []
   },
   "outputs": [],
   "source": [
    "class CFG(object):\n",
    "    def __init__(self,\n",
    "         seed: int = 42,\n",
    "         n_splits: int = 5,\n",
    "         show_info: bool = False,\n",
    "         ):\n",
    "\n",
    "        self.seed = seed\n",
    "        self.n_splits = n_splits\n",
    "        self.show_info = show_info\n",
    "        self.tr_data = \"../input/deep-learning-for-cyber-security/train.csv\"\n",
    "        self.ss_data = \"../input/deep-learning-for-cyber-security/sample_submission.csv\"\n",
    "        self.ts_data = \"../input/deep-learning-for-cyber-security/test.csv\"\n",
    "        self.model_save_path = \"models\"\n",
    "        if not os.path.exists(self.model_save_path): os.makedirs(self.model_save_path)\n",
    "\n",
    "cfg = CFG(seed=42, show_info=True)"
   ]
  },
  {
   "cell_type": "code",
   "execution_count": 3,
   "id": "8653a492",
   "metadata": {
    "execution": {
     "iopub.execute_input": "2022-10-15T14:04:53.410770Z",
     "iopub.status.busy": "2022-10-15T14:04:53.410343Z",
     "iopub.status.idle": "2022-10-15T14:04:53.419111Z",
     "shell.execute_reply": "2022-10-15T14:04:53.417852Z"
    },
    "papermill": {
     "duration": 0.015391,
     "end_time": "2022-10-15T14:04:53.421435",
     "exception": false,
     "start_time": "2022-10-15T14:04:53.406044",
     "status": "completed"
    },
    "tags": []
   },
   "outputs": [],
   "source": [
    "def breaker(num: int=50, char: str=\"*\") -> None:\n",
    "    print(\"\\n\" + num*char + \"\\n\")\n",
    "    \n",
    "\n",
    "def print_scores(accuracy: float, auc: float, precision: np.ndarray, recall: np.ndarray, f_score: np.ndarray) -> None:\n",
    "    print(f\"Accuracy  : {accuracy:.5f}\")\n",
    "    print(f\"ROC-AUC   : {auc:.5f}\")\n",
    "    print(f\"Precision : {precision}\")\n",
    "    print(f\"Recall    : {recall}\")\n",
    "    print(f\"F-Score   : {f_score}\")\n",
    "    \n",
    "\n",
    "def get_scores(y_true: np.ndarray, y_pred: np.ndarray) -> tuple:\n",
    "    accuracy = accuracy_score(y_pred, y_true)\n",
    "    auc = roc_auc_score(y_pred, y_true)\n",
    "    precision, recall, f_score, _ = precision_recall_fscore_support(y_pred, y_true)\n",
    "\n",
    "    return accuracy, auc, precision, recall, f_score"
   ]
  },
  {
   "cell_type": "code",
   "execution_count": 4,
   "id": "ab4b4b6c",
   "metadata": {
    "execution": {
     "iopub.execute_input": "2022-10-15T14:04:53.428947Z",
     "iopub.status.busy": "2022-10-15T14:04:53.428547Z",
     "iopub.status.idle": "2022-10-15T14:04:53.537937Z",
     "shell.execute_reply": "2022-10-15T14:04:53.536499Z"
    },
    "papermill": {
     "duration": 0.116625,
     "end_time": "2022-10-15T14:04:53.541090",
     "exception": false,
     "start_time": "2022-10-15T14:04:53.424465",
     "status": "completed"
    },
    "tags": []
   },
   "outputs": [
    {
     "name": "stdout",
     "output_type": "stream",
     "text": [
      "\n",
      "**************************************************\n",
      "\n",
      "Class False count : 2809\n",
      "Class True count : 2845\n",
      "\n",
      "**************************************************\n",
      "\n"
     ]
    }
   ],
   "source": [
    "tr_df = pd.read_csv(cfg.tr_data)\n",
    "tr_df = tr_df.drop(columns=[\"id\"])\n",
    "\n",
    "X = tr_df.iloc[:, :-1].copy().values\n",
    "y = tr_df.iloc[:, -1].copy().values\n",
    "\n",
    "sc_X = StandardScaler()\n",
    "X = sc_X.fit_transform(X)\n",
    "\n",
    "if cfg.show_info:\n",
    "    breaker()\n",
    "    for val in set(y):\n",
    "        print(f\"Class {val} count : {y[y == val].shape[0]}\")\n",
    "breaker()\n",
    "\n",
    "        \n",
    "parameters = {\n",
    "    \"n_estimators\" : [100, 200, 300, 400, 500, 600, 700, 800, 900, 1000],\n",
    "}"
   ]
  },
  {
   "cell_type": "code",
   "execution_count": 5,
   "id": "2f17f80b",
   "metadata": {
    "execution": {
     "iopub.execute_input": "2022-10-15T14:04:53.549310Z",
     "iopub.status.busy": "2022-10-15T14:04:53.548882Z",
     "iopub.status.idle": "2022-10-15T14:04:53.553666Z",
     "shell.execute_reply": "2022-10-15T14:04:53.552645Z"
    },
    "papermill": {
     "duration": 0.011506,
     "end_time": "2022-10-15T14:04:53.555864",
     "exception": false,
     "start_time": "2022-10-15T14:04:53.544358",
     "status": "completed"
    },
    "tags": []
   },
   "outputs": [],
   "source": [
    "# model_acc = GridSearchCV(\n",
    "#     RandomForestClassifier(random_state=cfg.seed),\n",
    "#     parameters,\n",
    "#     cv=10,\n",
    "#     scoring=\"accuracy\"\n",
    "# )\n",
    "# model_acc.fit(X, y)\n",
    "\n",
    "# breaker()\n",
    "# print(f\"Best Params : {model_acc.best_params_}\")\n",
    "# print(f\"Best Score  : {model_acc.best_score_}\")\n",
    "\n",
    "# breaker()"
   ]
  },
  {
   "cell_type": "code",
   "execution_count": 6,
   "id": "9a76e1ed",
   "metadata": {
    "execution": {
     "iopub.execute_input": "2022-10-15T14:04:53.563667Z",
     "iopub.status.busy": "2022-10-15T14:04:53.563142Z",
     "iopub.status.idle": "2022-10-15T14:09:31.820610Z",
     "shell.execute_reply": "2022-10-15T14:09:31.819156Z"
    },
    "papermill": {
     "duration": 278.265659,
     "end_time": "2022-10-15T14:09:31.824592",
     "exception": false,
     "start_time": "2022-10-15T14:04:53.558933",
     "status": "completed"
    },
    "tags": []
   },
   "outputs": [
    {
     "name": "stdout",
     "output_type": "stream",
     "text": [
      "\n",
      "**************************************************\n",
      "\n",
      "Best Params : {'n_estimators': 1000}\n",
      "Best Score  : 0.9927807095114861\n",
      "\n",
      "**************************************************\n",
      "\n"
     ]
    }
   ],
   "source": [
    "model_auc = GridSearchCV(\n",
    "    RandomForestClassifier(random_state=cfg.seed),\n",
    "    parameters,\n",
    "    cv=10,\n",
    "    scoring=\"roc_auc\"\n",
    ")\n",
    "model_auc.fit(X, y)\n",
    "\n",
    "breaker()\n",
    "print(f\"Best Params : {model_auc.best_params_}\")\n",
    "print(f\"Best Score  : {model_auc.best_score_}\")\n",
    "\n",
    "breaker()"
   ]
  },
  {
   "cell_type": "code",
   "execution_count": 7,
   "id": "751c7a47",
   "metadata": {
    "execution": {
     "iopub.execute_input": "2022-10-15T14:09:31.832379Z",
     "iopub.status.busy": "2022-10-15T14:09:31.831977Z",
     "iopub.status.idle": "2022-10-15T14:09:32.433740Z",
     "shell.execute_reply": "2022-10-15T14:09:32.432581Z"
    },
    "papermill": {
     "duration": 0.608782,
     "end_time": "2022-10-15T14:09:32.436376",
     "exception": false,
     "start_time": "2022-10-15T14:09:31.827594",
     "status": "completed"
    },
    "tags": []
   },
   "outputs": [],
   "source": [
    "ts_df = pd.read_csv(cfg.ts_data)\n",
    "ts_id = ts_df[\"id\"].copy().values\n",
    "ts_df = ts_df.drop(columns=[\"id\"])\n",
    "X_test = ts_df.copy().values\n",
    "\n",
    "X_test = sc_X.transform(X_test)\n",
    "y_pred = model_auc.predict(X_test)\n",
    "\n",
    "y_pred = [bool(y_pred[i]) for i in range(y_pred.shape[0])]\n",
    "\n",
    "ss_df = pd.DataFrame(data=None, columns=[\"id\", \"Malicious\"])\n",
    "ss_df[\"id\"] = ts_id\n",
    "ss_df[\"Malicious\"] = y_pred\n",
    "ss_df.to_csv(\"submission.csv\", index=False)"
   ]
  }
 ],
 "metadata": {
  "kernelspec": {
   "display_name": "Python 3",
   "language": "python",
   "name": "python3"
  },
  "language_info": {
   "codemirror_mode": {
    "name": "ipython",
    "version": 3
   },
   "file_extension": ".py",
   "mimetype": "text/x-python",
   "name": "python",
   "nbconvert_exporter": "python",
   "pygments_lexer": "ipython3",
   "version": "3.7.12"
  },
  "papermill": {
   "default_parameters": {},
   "duration": 291.039069,
   "end_time": "2022-10-15T14:09:33.262469",
   "environment_variables": {},
   "exception": null,
   "input_path": "__notebook__.ipynb",
   "output_path": "__notebook__.ipynb",
   "parameters": {},
   "start_time": "2022-10-15T14:04:42.223400",
   "version": "2.3.4"
  }
 },
 "nbformat": 4,
 "nbformat_minor": 5
}
