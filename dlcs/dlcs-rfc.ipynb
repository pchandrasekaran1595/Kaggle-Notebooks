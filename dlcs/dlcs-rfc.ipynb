{
 "cells": [
  {
   "cell_type": "code",
   "execution_count": 1,
   "id": "9c8bacb0",
   "metadata": {
    "_cell_guid": "b1076dfc-b9ad-4769-8c92-a6c4dae69d19",
    "_uuid": "8f2839f25d086af736a60e9eeb907d3b93b6e0e5",
    "execution": {
     "iopub.execute_input": "2022-10-15T13:55:14.598603Z",
     "iopub.status.busy": "2022-10-15T13:55:14.598021Z",
     "iopub.status.idle": "2022-10-15T13:55:15.857302Z",
     "shell.execute_reply": "2022-10-15T13:55:15.856378Z"
    },
    "papermill": {
     "duration": 1.267848,
     "end_time": "2022-10-15T13:55:15.860003",
     "exception": false,
     "start_time": "2022-10-15T13:55:14.592155",
     "status": "completed"
    },
    "tags": []
   },
   "outputs": [],
   "source": [
    "import os\n",
    "import pickle\n",
    "import numpy as np\n",
    "import pandas as pd\n",
    "import random as r\n",
    "import seaborn as sns\n",
    "import matplotlib.pyplot as plt\n",
    "\n",
    "from time import time\n",
    "from sklearn.pipeline import Pipeline\n",
    "from sklearn.impute import SimpleImputer\n",
    "from sklearn.compose import ColumnTransformer\n",
    "from sklearn.preprocessing import StandardScaler\n",
    "from sklearn.model_selection import KFold, GridSearchCV\n",
    "\n",
    "from sklearn.ensemble import RandomForestClassifier\n",
    "from sklearn.metrics import accuracy_score, precision_recall_fscore_support, roc_auc_score, classification_report"
   ]
  },
  {
   "cell_type": "code",
   "execution_count": 2,
   "id": "719d77c6",
   "metadata": {
    "execution": {
     "iopub.execute_input": "2022-10-15T13:55:15.867194Z",
     "iopub.status.busy": "2022-10-15T13:55:15.866768Z",
     "iopub.status.idle": "2022-10-15T13:55:15.874462Z",
     "shell.execute_reply": "2022-10-15T13:55:15.873367Z"
    },
    "papermill": {
     "duration": 0.013812,
     "end_time": "2022-10-15T13:55:15.876808",
     "exception": false,
     "start_time": "2022-10-15T13:55:15.862996",
     "status": "completed"
    },
    "tags": []
   },
   "outputs": [],
   "source": [
    "class CFG(object):\n",
    "    def __init__(self,\n",
    "         seed: int = 42,\n",
    "         n_splits: int = 5,\n",
    "         show_info: bool = False,\n",
    "         ):\n",
    "\n",
    "        self.seed = seed\n",
    "        self.n_splits = n_splits\n",
    "        self.show_info = show_info\n",
    "        self.tr_data = \"../input/deep-learning-for-cyber-security/train.csv\"\n",
    "        self.ss_data = \"../input/deep-learning-for-cyber-security/sample_submission.csv\"\n",
    "        self.ts_data = \"../input/deep-learning-for-cyber-security/test.csv\"\n",
    "        self.model_save_path = \"models\"\n",
    "        if not os.path.exists(self.model_save_path): os.makedirs(self.model_save_path)\n",
    "\n",
    "cfg = CFG(seed=42, show_info=True)"
   ]
  },
  {
   "cell_type": "code",
   "execution_count": 3,
   "id": "b8f0dbaa",
   "metadata": {
    "execution": {
     "iopub.execute_input": "2022-10-15T13:55:15.883637Z",
     "iopub.status.busy": "2022-10-15T13:55:15.883253Z",
     "iopub.status.idle": "2022-10-15T13:55:15.891767Z",
     "shell.execute_reply": "2022-10-15T13:55:15.890571Z"
    },
    "papermill": {
     "duration": 0.014325,
     "end_time": "2022-10-15T13:55:15.893897",
     "exception": false,
     "start_time": "2022-10-15T13:55:15.879572",
     "status": "completed"
    },
    "tags": []
   },
   "outputs": [],
   "source": [
    "def breaker(num: int=50, char: str=\"*\") -> None:\n",
    "    print(\"\\n\" + num*char + \"\\n\")\n",
    "    \n",
    "\n",
    "def print_scores(accuracy: float, auc: float, precision: np.ndarray, recall: np.ndarray, f_score: np.ndarray) -> None:\n",
    "    print(f\"Accuracy  : {accuracy:.5f}\")\n",
    "    print(f\"ROC-AUC   : {auc:.5f}\")\n",
    "    print(f\"Precision : {precision}\")\n",
    "    print(f\"Recall    : {recall}\")\n",
    "    print(f\"F-Score   : {f_score}\")\n",
    "    \n",
    "\n",
    "def get_scores(y_true: np.ndarray, y_pred: np.ndarray) -> tuple:\n",
    "    accuracy = accuracy_score(y_pred, y_true)\n",
    "    auc = roc_auc_score(y_pred, y_true)\n",
    "    precision, recall, f_score, _ = precision_recall_fscore_support(y_pred, y_true)\n",
    "\n",
    "    return accuracy, auc, precision, recall, f_score"
   ]
  },
  {
   "cell_type": "code",
   "execution_count": 4,
   "id": "9b078bff",
   "metadata": {
    "execution": {
     "iopub.execute_input": "2022-10-15T13:55:15.901829Z",
     "iopub.status.busy": "2022-10-15T13:55:15.900703Z",
     "iopub.status.idle": "2022-10-15T13:55:15.996721Z",
     "shell.execute_reply": "2022-10-15T13:55:15.995477Z"
    },
    "papermill": {
     "duration": 0.102534,
     "end_time": "2022-10-15T13:55:15.999407",
     "exception": false,
     "start_time": "2022-10-15T13:55:15.896873",
     "status": "completed"
    },
    "tags": []
   },
   "outputs": [
    {
     "name": "stdout",
     "output_type": "stream",
     "text": [
      "\n",
      "**************************************************\n",
      "\n",
      "Class False count : 2809\n",
      "Class True count : 2845\n",
      "\n",
      "**************************************************\n",
      "\n"
     ]
    }
   ],
   "source": [
    "tr_df = pd.read_csv(cfg.tr_data)\n",
    "tr_df = tr_df.drop(columns=[\"id\"])\n",
    "\n",
    "X = tr_df.iloc[:, :-1].copy().values\n",
    "y = tr_df.iloc[:, -1].copy().values\n",
    "\n",
    "sc_X = StandardScaler()\n",
    "X = sc_X.fit_transform(X)\n",
    "\n",
    "if cfg.show_info:\n",
    "    breaker()\n",
    "    for val in set(y):\n",
    "        print(f\"Class {val} count : {y[y == val].shape[0]}\")\n",
    "breaker()\n",
    "\n",
    "        \n",
    "parameters = {\n",
    "    \"n_estimators\" : [100, 200, 300, 400, 500, 600, 700, 800, 900, 1000],\n",
    "}"
   ]
  },
  {
   "cell_type": "code",
   "execution_count": 5,
   "id": "b0cace5c",
   "metadata": {
    "execution": {
     "iopub.execute_input": "2022-10-15T13:55:16.008278Z",
     "iopub.status.busy": "2022-10-15T13:55:16.006169Z",
     "iopub.status.idle": "2022-10-15T13:55:16.013138Z",
     "shell.execute_reply": "2022-10-15T13:55:16.012055Z"
    },
    "papermill": {
     "duration": 0.013387,
     "end_time": "2022-10-15T13:55:16.015705",
     "exception": false,
     "start_time": "2022-10-15T13:55:16.002318",
     "status": "completed"
    },
    "tags": []
   },
   "outputs": [],
   "source": [
    "# model_acc = GridSearchCV(\n",
    "#     RandomForestClassifier(random_state=cfg.seed),\n",
    "#     parameters,\n",
    "#     cv=5,\n",
    "#     scoring=\"accuracy\"\n",
    "# )\n",
    "# model_acc.fit(X, y)\n",
    "\n",
    "# breaker()\n",
    "# print(f\"Best Params : {model_acc.best_params_}\")\n",
    "# print(f\"Best Score  : {model_acc.best_score_}\")\n",
    "\n",
    "# breaker()"
   ]
  },
  {
   "cell_type": "code",
   "execution_count": 6,
   "id": "55ce2c7d",
   "metadata": {
    "execution": {
     "iopub.execute_input": "2022-10-15T13:55:16.022665Z",
     "iopub.status.busy": "2022-10-15T13:55:16.022260Z",
     "iopub.status.idle": "2022-10-15T13:57:25.736049Z",
     "shell.execute_reply": "2022-10-15T13:57:25.734914Z"
    },
    "papermill": {
     "duration": 129.722922,
     "end_time": "2022-10-15T13:57:25.741363",
     "exception": false,
     "start_time": "2022-10-15T13:55:16.018441",
     "status": "completed"
    },
    "tags": []
   },
   "outputs": [
    {
     "name": "stdout",
     "output_type": "stream",
     "text": [
      "\n",
      "**************************************************\n",
      "\n",
      "Best Params : {'n_estimators': 900}\n",
      "Best Score  : 0.9923453546967729\n",
      "\n",
      "**************************************************\n",
      "\n"
     ]
    }
   ],
   "source": [
    "model_auc = GridSearchCV(\n",
    "    RandomForestClassifier(random_state=cfg.seed),\n",
    "    parameters,\n",
    "    cv=5,\n",
    "    scoring=\"roc_auc\"\n",
    ")\n",
    "model_auc.fit(X, y)\n",
    "\n",
    "breaker()\n",
    "print(f\"Best Params : {model_auc.best_params_}\")\n",
    "print(f\"Best Score  : {model_auc.best_score_}\")\n",
    "\n",
    "breaker()"
   ]
  },
  {
   "cell_type": "code",
   "execution_count": 7,
   "id": "881474a2",
   "metadata": {
    "execution": {
     "iopub.execute_input": "2022-10-15T13:57:25.748817Z",
     "iopub.status.busy": "2022-10-15T13:57:25.748116Z",
     "iopub.status.idle": "2022-10-15T13:57:26.290198Z",
     "shell.execute_reply": "2022-10-15T13:57:26.289180Z"
    },
    "papermill": {
     "duration": 0.548432,
     "end_time": "2022-10-15T13:57:26.292591",
     "exception": false,
     "start_time": "2022-10-15T13:57:25.744159",
     "status": "completed"
    },
    "tags": []
   },
   "outputs": [],
   "source": [
    "ts_df = pd.read_csv(cfg.ts_data)\n",
    "ts_id = ts_df[\"id\"].copy().values\n",
    "ts_df = ts_df.drop(columns=[\"id\"])\n",
    "X_test = ts_df.copy().values\n",
    "\n",
    "X_test = sc_X.transform(X_test)\n",
    "y_pred = model_auc.predict(X_test)\n",
    "\n",
    "y_pred = [bool(y_pred[i]) for i in range(y_pred.shape[0])]\n",
    "\n",
    "ss_df = pd.DataFrame(data=None, columns=[\"id\", \"Malicious\"])\n",
    "ss_df[\"id\"] = ts_id\n",
    "ss_df[\"Malicious\"] = y_pred\n",
    "ss_df.to_csv(\"submission.csv\", index=False)"
   ]
  }
 ],
 "metadata": {
  "kernelspec": {
   "display_name": "Python 3",
   "language": "python",
   "name": "python3"
  },
  "language_info": {
   "codemirror_mode": {
    "name": "ipython",
    "version": 3
   },
   "file_extension": ".py",
   "mimetype": "text/x-python",
   "name": "python",
   "nbconvert_exporter": "python",
   "pygments_lexer": "ipython3",
   "version": "3.7.12"
  },
  "papermill": {
   "default_parameters": {},
   "duration": 140.923035,
   "end_time": "2022-10-15T13:57:27.016201",
   "environment_variables": {},
   "exception": null,
   "input_path": "__notebook__.ipynb",
   "output_path": "__notebook__.ipynb",
   "parameters": {},
   "start_time": "2022-10-15T13:55:06.093166",
   "version": "2.3.4"
  }
 },
 "nbformat": 4,
 "nbformat_minor": 5
}
