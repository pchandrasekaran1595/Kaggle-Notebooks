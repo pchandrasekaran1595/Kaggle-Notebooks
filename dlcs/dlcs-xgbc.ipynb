{
 "cells": [
  {
   "cell_type": "code",
   "execution_count": 1,
   "id": "d0db4e99",
   "metadata": {
    "_cell_guid": "b1076dfc-b9ad-4769-8c92-a6c4dae69d19",
    "_uuid": "8f2839f25d086af736a60e9eeb907d3b93b6e0e5",
    "execution": {
     "iopub.execute_input": "2022-10-15T15:23:59.852831Z",
     "iopub.status.busy": "2022-10-15T15:23:59.852382Z",
     "iopub.status.idle": "2022-10-15T15:24:01.426783Z",
     "shell.execute_reply": "2022-10-15T15:24:01.425614Z"
    },
    "papermill": {
     "duration": 1.585193,
     "end_time": "2022-10-15T15:24:01.429840",
     "exception": false,
     "start_time": "2022-10-15T15:23:59.844647",
     "status": "completed"
    },
    "tags": []
   },
   "outputs": [],
   "source": [
    "import os\n",
    "import pickle\n",
    "import numpy as np\n",
    "import pandas as pd\n",
    "import random as r\n",
    "import seaborn as sns\n",
    "import matplotlib.pyplot as plt\n",
    "\n",
    "from time import time\n",
    "from sklearn.pipeline import Pipeline\n",
    "from sklearn.impute import SimpleImputer\n",
    "from sklearn.compose import ColumnTransformer\n",
    "from sklearn.preprocessing import StandardScaler\n",
    "from sklearn.model_selection import KFold, GridSearchCV\n",
    "\n",
    "from xgboost import XGBClassifier\n",
    "from sklearn.metrics import accuracy_score, precision_recall_fscore_support, roc_auc_score, classification_report"
   ]
  },
  {
   "cell_type": "code",
   "execution_count": 2,
   "id": "8716585b",
   "metadata": {
    "execution": {
     "iopub.execute_input": "2022-10-15T15:24:01.437396Z",
     "iopub.status.busy": "2022-10-15T15:24:01.436977Z",
     "iopub.status.idle": "2022-10-15T15:24:01.444997Z",
     "shell.execute_reply": "2022-10-15T15:24:01.443751Z"
    },
    "papermill": {
     "duration": 0.014456,
     "end_time": "2022-10-15T15:24:01.447360",
     "exception": false,
     "start_time": "2022-10-15T15:24:01.432904",
     "status": "completed"
    },
    "tags": []
   },
   "outputs": [],
   "source": [
    "class CFG(object):\n",
    "    def __init__(self,\n",
    "         seed: int = 42,\n",
    "         n_splits: int = 5,\n",
    "         show_info: bool = False,\n",
    "         ):\n",
    "\n",
    "        self.seed = seed\n",
    "        self.n_splits = n_splits\n",
    "        self.show_info = show_info\n",
    "        self.tr_data = \"../input/deep-learning-for-cyber-security/train.csv\"\n",
    "        self.ss_data = \"../input/deep-learning-for-cyber-security/sample_submission.csv\"\n",
    "        self.ts_data = \"../input/deep-learning-for-cyber-security/test.csv\"\n",
    "        self.model_save_path = \"models\"\n",
    "        if not os.path.exists(self.model_save_path): os.makedirs(self.model_save_path)\n",
    "\n",
    "cfg = CFG(seed=42, show_info=True)"
   ]
  },
  {
   "cell_type": "code",
   "execution_count": 3,
   "id": "8a13d7bd",
   "metadata": {
    "execution": {
     "iopub.execute_input": "2022-10-15T15:24:01.454436Z",
     "iopub.status.busy": "2022-10-15T15:24:01.454062Z",
     "iopub.status.idle": "2022-10-15T15:24:01.462411Z",
     "shell.execute_reply": "2022-10-15T15:24:01.461248Z"
    },
    "papermill": {
     "duration": 0.014498,
     "end_time": "2022-10-15T15:24:01.464665",
     "exception": false,
     "start_time": "2022-10-15T15:24:01.450167",
     "status": "completed"
    },
    "tags": []
   },
   "outputs": [],
   "source": [
    "def breaker(num: int=50, char: str=\"*\") -> None:\n",
    "    print(\"\\n\" + num*char + \"\\n\")\n",
    "    \n",
    "\n",
    "def print_scores(accuracy: float, auc: float, precision: np.ndarray, recall: np.ndarray, f_score: np.ndarray) -> None:\n",
    "    print(f\"Accuracy  : {accuracy:.5f}\")\n",
    "    print(f\"ROC-AUC   : {auc:.5f}\")\n",
    "    print(f\"Precision : {precision}\")\n",
    "    print(f\"Recall    : {recall}\")\n",
    "    print(f\"F-Score   : {f_score}\")\n",
    "    \n",
    "\n",
    "def get_scores(y_true: np.ndarray, y_pred: np.ndarray) -> tuple:\n",
    "    accuracy = accuracy_score(y_pred, y_true)\n",
    "    auc = roc_auc_score(y_pred, y_true)\n",
    "    precision, recall, f_score, _ = precision_recall_fscore_support(y_pred, y_true)\n",
    "\n",
    "    return accuracy, auc, precision, recall, f_score"
   ]
  },
  {
   "cell_type": "code",
   "execution_count": 4,
   "id": "ecc84d01",
   "metadata": {
    "execution": {
     "iopub.execute_input": "2022-10-15T15:24:01.472261Z",
     "iopub.status.busy": "2022-10-15T15:24:01.471635Z",
     "iopub.status.idle": "2022-10-15T15:24:01.576375Z",
     "shell.execute_reply": "2022-10-15T15:24:01.574421Z"
    },
    "papermill": {
     "duration": 0.112576,
     "end_time": "2022-10-15T15:24:01.580125",
     "exception": false,
     "start_time": "2022-10-15T15:24:01.467549",
     "status": "completed"
    },
    "tags": []
   },
   "outputs": [
    {
     "name": "stdout",
     "output_type": "stream",
     "text": [
      "\n",
      "**************************************************\n",
      "\n",
      "Class False count : 2809\n",
      "Class True count : 2845\n",
      "\n",
      "**************************************************\n",
      "\n"
     ]
    }
   ],
   "source": [
    "tr_df = pd.read_csv(cfg.tr_data)\n",
    "tr_df = tr_df.drop(columns=[\"id\"])\n",
    "\n",
    "X = tr_df.iloc[:, :-1].copy().values\n",
    "y = tr_df.iloc[:, -1].copy().values\n",
    "\n",
    "sc_X = StandardScaler()\n",
    "X = sc_X.fit_transform(X)\n",
    "\n",
    "if cfg.show_info:\n",
    "    breaker()\n",
    "    for val in set(y):\n",
    "        print(f\"Class {val} count : {y[y == val].shape[0]}\")\n",
    "breaker()\n",
    "\n",
    "        \n",
    "parameters = {\n",
    "    \"n_estimators\" : [100, 200, 300, 400, 500, 600, 700, 800, 900, 1000],\n",
    "    \"learning_rate\" : [0.3, 0.1, 0.05, 0.01, 0.005, 0.001]\n",
    "    \n",
    "}"
   ]
  },
  {
   "cell_type": "code",
   "execution_count": 5,
   "id": "de5b11b0",
   "metadata": {
    "execution": {
     "iopub.execute_input": "2022-10-15T15:24:01.588580Z",
     "iopub.status.busy": "2022-10-15T15:24:01.587715Z",
     "iopub.status.idle": "2022-10-15T15:24:01.593983Z",
     "shell.execute_reply": "2022-10-15T15:24:01.592422Z"
    },
    "papermill": {
     "duration": 0.012972,
     "end_time": "2022-10-15T15:24:01.596250",
     "exception": false,
     "start_time": "2022-10-15T15:24:01.583278",
     "status": "completed"
    },
    "tags": []
   },
   "outputs": [],
   "source": [
    "# model_acc = GridSearchCV(\n",
    "#     RandomForestClassifier(random_state=cfg.seed),\n",
    "#     parameters,\n",
    "#     cv=5,\n",
    "#     scoring=\"accuracy\"\n",
    "# )\n",
    "# model_acc.fit(X, y)\n",
    "\n",
    "# breaker()\n",
    "# print(f\"Best Params : {model_acc.best_params_}\")\n",
    "# print(f\"Best Score  : {model_acc.best_score_}\")\n",
    "\n",
    "# breaker()"
   ]
  },
  {
   "cell_type": "code",
   "execution_count": 6,
   "id": "ff4b989d",
   "metadata": {
    "execution": {
     "iopub.execute_input": "2022-10-15T15:24:01.603810Z",
     "iopub.status.busy": "2022-10-15T15:24:01.603191Z",
     "iopub.status.idle": "2022-10-15T15:53:53.787523Z",
     "shell.execute_reply": "2022-10-15T15:53:53.786094Z"
    },
    "papermill": {
     "duration": 1792.193783,
     "end_time": "2022-10-15T15:53:53.792932",
     "exception": false,
     "start_time": "2022-10-15T15:24:01.599149",
     "status": "completed"
    },
    "tags": []
   },
   "outputs": [
    {
     "name": "stdout",
     "output_type": "stream",
     "text": [
      "\n",
      "**************************************************\n",
      "\n",
      "Best Params : {'learning_rate': 0.3, 'n_estimators': 100}\n",
      "Best Score  : 0.9921371192129067\n",
      "\n",
      "**************************************************\n",
      "\n"
     ]
    }
   ],
   "source": [
    "model_auc = GridSearchCV(\n",
    "    XGBClassifier(random_state=cfg.seed),\n",
    "    parameters,\n",
    "    cv=5,\n",
    "    scoring=\"roc_auc\"\n",
    ")\n",
    "model_auc.fit(X, y)\n",
    "\n",
    "breaker()\n",
    "print(f\"Best Params : {model_auc.best_params_}\")\n",
    "print(f\"Best Score  : {model_auc.best_score_}\")\n",
    "\n",
    "breaker()"
   ]
  },
  {
   "cell_type": "code",
   "execution_count": 7,
   "id": "d6f44829",
   "metadata": {
    "execution": {
     "iopub.execute_input": "2022-10-15T15:53:53.800654Z",
     "iopub.status.busy": "2022-10-15T15:53:53.799956Z",
     "iopub.status.idle": "2022-10-15T15:53:53.853022Z",
     "shell.execute_reply": "2022-10-15T15:53:53.851950Z"
    },
    "papermill": {
     "duration": 0.059702,
     "end_time": "2022-10-15T15:53:53.855560",
     "exception": false,
     "start_time": "2022-10-15T15:53:53.795858",
     "status": "completed"
    },
    "tags": []
   },
   "outputs": [],
   "source": [
    "ts_df = pd.read_csv(cfg.ts_data)\n",
    "ts_id = ts_df[\"id\"].copy().values\n",
    "ts_df = ts_df.drop(columns=[\"id\"])\n",
    "X_test = ts_df.copy().values\n",
    "\n",
    "X_test = sc_X.transform(X_test)\n",
    "y_pred = model_auc.predict(X_test)\n",
    "\n",
    "y_pred = [bool(y_pred[i]) for i in range(y_pred.shape[0])]\n",
    "\n",
    "ss_df = pd.DataFrame(data=None, columns=[\"id\", \"Malicious\"])\n",
    "ss_df[\"id\"] = ts_id\n",
    "ss_df[\"Malicious\"] = y_pred\n",
    "ss_df.to_csv(\"submission.csv\", index=False)"
   ]
  }
 ],
 "metadata": {
  "kernelspec": {
   "display_name": "Python 3",
   "language": "python",
   "name": "python3"
  },
  "language_info": {
   "codemirror_mode": {
    "name": "ipython",
    "version": 3
   },
   "file_extension": ".py",
   "mimetype": "text/x-python",
   "name": "python",
   "nbconvert_exporter": "python",
   "pygments_lexer": "ipython3",
   "version": "3.7.12"
  },
  "papermill": {
   "default_parameters": {},
   "duration": 1803.821417,
   "end_time": "2022-10-15T15:53:54.583241",
   "environment_variables": {},
   "exception": null,
   "input_path": "__notebook__.ipynb",
   "output_path": "__notebook__.ipynb",
   "parameters": {},
   "start_time": "2022-10-15T15:23:50.761824",
   "version": "2.3.4"
  }
 },
 "nbformat": 4,
 "nbformat_minor": 5
}
