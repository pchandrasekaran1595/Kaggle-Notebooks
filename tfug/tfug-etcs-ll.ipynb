{
 "cells": [
  {
   "cell_type": "code",
   "execution_count": 1,
   "id": "e9ea0f59",
   "metadata": {
    "_cell_guid": "b1076dfc-b9ad-4769-8c92-a6c4dae69d19",
    "_uuid": "8f2839f25d086af736a60e9eeb907d3b93b6e0e5",
    "execution": {
     "iopub.execute_input": "2022-10-16T08:51:53.980207Z",
     "iopub.status.busy": "2022-10-16T08:51:53.979218Z",
     "iopub.status.idle": "2022-10-16T08:51:55.592930Z",
     "shell.execute_reply": "2022-10-16T08:51:55.591387Z"
    },
    "papermill": {
     "duration": 1.62261,
     "end_time": "2022-10-16T08:51:55.595897",
     "exception": false,
     "start_time": "2022-10-16T08:51:53.973287",
     "status": "completed"
    },
    "tags": []
   },
   "outputs": [],
   "source": [
    "import os\n",
    "import pickle\n",
    "import numpy as np\n",
    "import pandas as pd\n",
    "import random as r\n",
    "import seaborn as sns\n",
    "import matplotlib.pyplot as plt\n",
    "\n",
    "from time import time\n",
    "from sklearn.pipeline import Pipeline\n",
    "from sklearn.impute import SimpleImputer\n",
    "from sklearn.compose import ColumnTransformer\n",
    "from sklearn.preprocessing import StandardScaler\n",
    "from sklearn.model_selection import KFold, GridSearchCV\n",
    "\n",
    "from sklearn.ensemble import ExtraTreesClassifier\n",
    "from sklearn.metrics import accuracy_score, precision_recall_fscore_support, roc_auc_score, classification_report"
   ]
  },
  {
   "cell_type": "code",
   "execution_count": 2,
   "id": "7b8560ab",
   "metadata": {
    "execution": {
     "iopub.execute_input": "2022-10-16T08:51:55.603756Z",
     "iopub.status.busy": "2022-10-16T08:51:55.603361Z",
     "iopub.status.idle": "2022-10-16T08:51:55.611297Z",
     "shell.execute_reply": "2022-10-16T08:51:55.610089Z"
    },
    "papermill": {
     "duration": 0.014962,
     "end_time": "2022-10-16T08:51:55.613866",
     "exception": false,
     "start_time": "2022-10-16T08:51:55.598904",
     "status": "completed"
    },
    "tags": []
   },
   "outputs": [],
   "source": [
    "class CFG(object):\n",
    "    def __init__(self,\n",
    "         seed: int = 42,\n",
    "         n_splits: int = 5,\n",
    "         show_info: bool = False,\n",
    "         ):\n",
    "\n",
    "        self.seed = seed\n",
    "        self.n_splits = n_splits\n",
    "        self.show_info = show_info\n",
    "        self.tr_data = \"../input/heart-disease-prediction-tfug-chd-oct-2022/train.csv\"\n",
    "        self.ss_data = \"../input/heart-disease-prediction-tfug-chd-oct-2022/sample_submission.csv\"\n",
    "        self.ts_data = \"../input/heart-disease-prediction-tfug-chd-oct-2022/test.csv\"\n",
    "        self.model_save_path = \"models\"\n",
    "        if not os.path.exists(self.model_save_path): os.makedirs(self.model_save_path)\n",
    "\n",
    "cfg = CFG(seed=42, show_info=True)"
   ]
  },
  {
   "cell_type": "code",
   "execution_count": 3,
   "id": "b95c9854",
   "metadata": {
    "execution": {
     "iopub.execute_input": "2022-10-16T08:51:55.621605Z",
     "iopub.status.busy": "2022-10-16T08:51:55.620497Z",
     "iopub.status.idle": "2022-10-16T08:51:55.630058Z",
     "shell.execute_reply": "2022-10-16T08:51:55.628514Z"
    },
    "papermill": {
     "duration": 0.016046,
     "end_time": "2022-10-16T08:51:55.632732",
     "exception": false,
     "start_time": "2022-10-16T08:51:55.616686",
     "status": "completed"
    },
    "tags": []
   },
   "outputs": [],
   "source": [
    "def breaker(num: int=50, char: str=\"*\") -> None:\n",
    "    print(\"\\n\" + num*char + \"\\n\")\n",
    "    \n",
    "\n",
    "def print_scores(accuracy: float, auc: float, precision: np.ndarray, recall: np.ndarray, f_score: np.ndarray) -> None:\n",
    "    print(f\"Accuracy  : {accuracy:.5f}\")\n",
    "    print(f\"ROC-AUC   : {auc:.5f}\")\n",
    "    print(f\"Precision : {precision}\")\n",
    "    print(f\"Recall    : {recall}\")\n",
    "    print(f\"F-Score   : {f_score}\")\n",
    "    \n",
    "\n",
    "def get_scores(y_true: np.ndarray, y_pred: np.ndarray) -> tuple:\n",
    "    accuracy = accuracy_score(y_pred, y_true)\n",
    "    auc = roc_auc_score(y_pred, y_true)\n",
    "    precision, recall, f_score, _ = precision_recall_fscore_support(y_pred, y_true)\n",
    "\n",
    "    return accuracy, auc, precision, recall, f_score"
   ]
  },
  {
   "cell_type": "code",
   "execution_count": 4,
   "id": "081dece9",
   "metadata": {
    "execution": {
     "iopub.execute_input": "2022-10-16T08:51:55.640127Z",
     "iopub.status.busy": "2022-10-16T08:51:55.639721Z",
     "iopub.status.idle": "2022-10-16T08:51:55.679829Z",
     "shell.execute_reply": "2022-10-16T08:51:55.678519Z"
    },
    "papermill": {
     "duration": 0.046858,
     "end_time": "2022-10-16T08:51:55.682672",
     "exception": false,
     "start_time": "2022-10-16T08:51:55.635814",
     "status": "completed"
    },
    "tags": []
   },
   "outputs": [
    {
     "name": "stdout",
     "output_type": "stream",
     "text": [
      "\n",
      "**************************************************\n",
      "\n",
      "Class 0 count : 386\n",
      "Class 1 count : 454\n",
      "\n",
      "**************************************************\n",
      "\n"
     ]
    }
   ],
   "source": [
    "tr_df = pd.read_csv(cfg.tr_data)\n",
    "tr_df = tr_df.drop(columns=[\"index\"])\n",
    "\n",
    "X = tr_df.iloc[:, :-1].copy().values\n",
    "y = tr_df.iloc[:, -1].copy().values\n",
    "\n",
    "sc_X = StandardScaler()\n",
    "X = sc_X.fit_transform(X)\n",
    "\n",
    "if cfg.show_info:\n",
    "    breaker()\n",
    "    for val in set(y):\n",
    "        print(f\"Class {val} count : {y[y == val].shape[0]}\")\n",
    "breaker()\n",
    "\n",
    "        \n",
    "parameters = {\n",
    "    \"n_estimators\" : [100, 200, 300, 400, 500, 600, 700, 800, 900, 1000],\n",
    "}"
   ]
  },
  {
   "cell_type": "code",
   "execution_count": 5,
   "id": "344654ea",
   "metadata": {
    "execution": {
     "iopub.execute_input": "2022-10-16T08:51:55.690133Z",
     "iopub.status.busy": "2022-10-16T08:51:55.689776Z",
     "iopub.status.idle": "2022-10-16T08:51:55.693914Z",
     "shell.execute_reply": "2022-10-16T08:51:55.692977Z"
    },
    "papermill": {
     "duration": 0.010501,
     "end_time": "2022-10-16T08:51:55.696094",
     "exception": false,
     "start_time": "2022-10-16T08:51:55.685593",
     "status": "completed"
    },
    "tags": []
   },
   "outputs": [],
   "source": [
    "# model_acc = GridSearchCV(\n",
    "#     RandomForestClassifier(random_state=cfg.seed),\n",
    "#     parameters,\n",
    "#     cv=5,\n",
    "#     scoring=\"accuracy\"\n",
    "# )\n",
    "# model_acc.fit(X, y)\n",
    "\n",
    "# breaker()\n",
    "# print(f\"Best Params : {model_acc.best_params_}\")\n",
    "# print(f\"Best Score  : {model_acc.best_score_}\")\n",
    "\n",
    "# breaker()"
   ]
  },
  {
   "cell_type": "code",
   "execution_count": 6,
   "id": "ff0c52ae",
   "metadata": {
    "execution": {
     "iopub.execute_input": "2022-10-16T08:51:55.703817Z",
     "iopub.status.busy": "2022-10-16T08:51:55.703133Z",
     "iopub.status.idle": "2022-10-16T08:52:46.994611Z",
     "shell.execute_reply": "2022-10-16T08:52:46.992980Z"
    },
    "papermill": {
     "duration": 51.300096,
     "end_time": "2022-10-16T08:52:46.999159",
     "exception": false,
     "start_time": "2022-10-16T08:51:55.699063",
     "status": "completed"
    },
    "tags": []
   },
   "outputs": [
    {
     "name": "stdout",
     "output_type": "stream",
     "text": [
      "\n",
      "**************************************************\n",
      "\n",
      "Best Params : {'n_estimators': 800}\n",
      "Best Score  : -0.7169294445970986\n",
      "\n",
      "**************************************************\n",
      "\n"
     ]
    }
   ],
   "source": [
    "model_auc = GridSearchCV(\n",
    "    ExtraTreesClassifier(random_state=cfg.seed),\n",
    "    parameters,\n",
    "    cv=5,\n",
    "    scoring=\"neg_log_loss\"\n",
    ")\n",
    "model_auc.fit(X, y)\n",
    "\n",
    "breaker()\n",
    "print(f\"Best Params : {model_auc.best_params_}\")\n",
    "print(f\"Best Score  : {model_auc.best_score_}\")\n",
    "\n",
    "breaker()"
   ]
  },
  {
   "cell_type": "code",
   "execution_count": 7,
   "id": "587ee30e",
   "metadata": {
    "execution": {
     "iopub.execute_input": "2022-10-16T08:52:47.007004Z",
     "iopub.status.busy": "2022-10-16T08:52:47.006565Z",
     "iopub.status.idle": "2022-10-16T08:52:47.220224Z",
     "shell.execute_reply": "2022-10-16T08:52:47.219318Z"
    },
    "papermill": {
     "duration": 0.220507,
     "end_time": "2022-10-16T08:52:47.222714",
     "exception": false,
     "start_time": "2022-10-16T08:52:47.002207",
     "status": "completed"
    },
    "tags": []
   },
   "outputs": [],
   "source": [
    "ts_df = pd.read_csv(cfg.ts_data)\n",
    "ts_df = ts_df.drop(columns=[\"index\"])\n",
    "X_test = ts_df.copy().values\n",
    "\n",
    "X_test = sc_X.transform(X_test)\n",
    "y_pred = model_auc.predict_proba(X_test)[:, 1]\n",
    "\n",
    "ss_df = pd.read_csv(cfg.ss_data)\n",
    "ss_df[\"target\"] = y_pred\n",
    "ss_df.to_csv(\"submission.csv\", index=False)"
   ]
  }
 ],
 "metadata": {
  "kernelspec": {
   "display_name": "Python 3",
   "language": "python",
   "name": "python3"
  },
  "language_info": {
   "codemirror_mode": {
    "name": "ipython",
    "version": 3
   },
   "file_extension": ".py",
   "mimetype": "text/x-python",
   "name": "python",
   "nbconvert_exporter": "python",
   "pygments_lexer": "ipython3",
   "version": "3.7.12"
  },
  "papermill": {
   "default_parameters": {},
   "duration": 63.474119,
   "end_time": "2022-10-16T08:52:48.051812",
   "environment_variables": {},
   "exception": null,
   "input_path": "__notebook__.ipynb",
   "output_path": "__notebook__.ipynb",
   "parameters": {},
   "start_time": "2022-10-16T08:51:44.577693",
   "version": "2.3.4"
  }
 },
 "nbformat": 4,
 "nbformat_minor": 5
}
