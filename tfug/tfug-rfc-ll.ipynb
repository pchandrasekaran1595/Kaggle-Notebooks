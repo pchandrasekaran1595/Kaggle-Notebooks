{
 "cells": [
  {
   "cell_type": "code",
   "execution_count": 1,
   "id": "cd971869",
   "metadata": {
    "_cell_guid": "b1076dfc-b9ad-4769-8c92-a6c4dae69d19",
    "_uuid": "8f2839f25d086af736a60e9eeb907d3b93b6e0e5",
    "execution": {
     "iopub.execute_input": "2022-10-16T10:03:20.481018Z",
     "iopub.status.busy": "2022-10-16T10:03:20.480639Z",
     "iopub.status.idle": "2022-10-16T10:03:22.041328Z",
     "shell.execute_reply": "2022-10-16T10:03:22.039851Z"
    },
    "papermill": {
     "duration": 1.567939,
     "end_time": "2022-10-16T10:03:22.043837",
     "exception": false,
     "start_time": "2022-10-16T10:03:20.475898",
     "status": "completed"
    },
    "tags": []
   },
   "outputs": [],
   "source": [
    "import os\n",
    "import pickle\n",
    "import numpy as np\n",
    "import pandas as pd\n",
    "import random as r\n",
    "import seaborn as sns\n",
    "import matplotlib.pyplot as plt\n",
    "\n",
    "from time import time\n",
    "from sklearn.pipeline import Pipeline\n",
    "from sklearn.impute import SimpleImputer\n",
    "from sklearn.compose import ColumnTransformer\n",
    "from sklearn.preprocessing import StandardScaler\n",
    "from sklearn.model_selection import KFold, GridSearchCV\n",
    "\n",
    "from sklearn.ensemble import RandomForestClassifier\n",
    "from sklearn.metrics import accuracy_score, precision_recall_fscore_support, roc_auc_score, classification_report"
   ]
  },
  {
   "cell_type": "code",
   "execution_count": 2,
   "id": "62e78f4c",
   "metadata": {
    "execution": {
     "iopub.execute_input": "2022-10-16T10:03:22.051127Z",
     "iopub.status.busy": "2022-10-16T10:03:22.050791Z",
     "iopub.status.idle": "2022-10-16T10:03:22.058338Z",
     "shell.execute_reply": "2022-10-16T10:03:22.057067Z"
    },
    "papermill": {
     "duration": 0.01406,
     "end_time": "2022-10-16T10:03:22.060504",
     "exception": false,
     "start_time": "2022-10-16T10:03:22.046444",
     "status": "completed"
    },
    "tags": []
   },
   "outputs": [],
   "source": [
    "class CFG(object):\n",
    "    def __init__(self,\n",
    "         seed: int = 42,\n",
    "         n_splits: int = 5,\n",
    "         show_info: bool = False,\n",
    "         ):\n",
    "\n",
    "        self.seed = seed\n",
    "        self.n_splits = n_splits\n",
    "        self.show_info = show_info\n",
    "        self.tr_data = \"../input/heart-disease-prediction-tfug-chd-oct-2022/train.csv\"\n",
    "        self.ss_data = \"../input/heart-disease-prediction-tfug-chd-oct-2022/sample_submission.csv\"\n",
    "        self.ts_data = \"../input/heart-disease-prediction-tfug-chd-oct-2022/test.csv\"\n",
    "        self.model_save_path = \"models\"\n",
    "        if not os.path.exists(self.model_save_path): os.makedirs(self.model_save_path)\n",
    "\n",
    "cfg = CFG(seed=42, show_info=True)"
   ]
  },
  {
   "cell_type": "code",
   "execution_count": 3,
   "id": "86aeefa0",
   "metadata": {
    "execution": {
     "iopub.execute_input": "2022-10-16T10:03:22.066817Z",
     "iopub.status.busy": "2022-10-16T10:03:22.066469Z",
     "iopub.status.idle": "2022-10-16T10:03:22.074593Z",
     "shell.execute_reply": "2022-10-16T10:03:22.073384Z"
    },
    "papermill": {
     "duration": 0.014487,
     "end_time": "2022-10-16T10:03:22.077419",
     "exception": false,
     "start_time": "2022-10-16T10:03:22.062932",
     "status": "completed"
    },
    "tags": []
   },
   "outputs": [],
   "source": [
    "def breaker(num: int=50, char: str=\"*\") -> None:\n",
    "    print(\"\\n\" + num*char + \"\\n\")\n",
    "    \n",
    "\n",
    "def print_scores(accuracy: float, auc: float, precision: np.ndarray, recall: np.ndarray, f_score: np.ndarray) -> None:\n",
    "    print(f\"Accuracy  : {accuracy:.5f}\")\n",
    "    print(f\"ROC-AUC   : {auc:.5f}\")\n",
    "    print(f\"Precision : {precision}\")\n",
    "    print(f\"Recall    : {recall}\")\n",
    "    print(f\"F-Score   : {f_score}\")\n",
    "    \n",
    "\n",
    "def get_scores(y_true: np.ndarray, y_pred: np.ndarray) -> tuple:\n",
    "    accuracy = accuracy_score(y_pred, y_true)\n",
    "    auc = roc_auc_score(y_pred, y_true)\n",
    "    precision, recall, f_score, _ = precision_recall_fscore_support(y_pred, y_true)\n",
    "\n",
    "    return accuracy, auc, precision, recall, f_score"
   ]
  },
  {
   "cell_type": "code",
   "execution_count": 4,
   "id": "f1b32f3d",
   "metadata": {
    "execution": {
     "iopub.execute_input": "2022-10-16T10:03:22.083848Z",
     "iopub.status.busy": "2022-10-16T10:03:22.083509Z",
     "iopub.status.idle": "2022-10-16T10:03:22.120933Z",
     "shell.execute_reply": "2022-10-16T10:03:22.118939Z"
    },
    "papermill": {
     "duration": 0.043884,
     "end_time": "2022-10-16T10:03:22.123895",
     "exception": false,
     "start_time": "2022-10-16T10:03:22.080011",
     "status": "completed"
    },
    "tags": []
   },
   "outputs": [
    {
     "name": "stdout",
     "output_type": "stream",
     "text": [
      "\n",
      "**************************************************\n",
      "\n",
      "Class 0 count : 386\n",
      "Class 1 count : 454\n",
      "\n",
      "**************************************************\n",
      "\n"
     ]
    }
   ],
   "source": [
    "tr_df = pd.read_csv(cfg.tr_data)\n",
    "tr_df = tr_df.drop(columns=[\"index\"])\n",
    "\n",
    "X = tr_df.iloc[:, :-1].copy().values\n",
    "y = tr_df.iloc[:, -1].copy().values\n",
    "\n",
    "sc_X = StandardScaler()\n",
    "X = sc_X.fit_transform(X)\n",
    "\n",
    "if cfg.show_info:\n",
    "    breaker()\n",
    "    for val in set(y):\n",
    "        print(f\"Class {val} count : {y[y == val].shape[0]}\")\n",
    "breaker()\n",
    "\n",
    "        \n",
    "parameters = {\n",
    "    \"n_estimators\" : [100, 200, 300, 400, 500, 600, 700, 800, 900, 1000],\n",
    "}"
   ]
  },
  {
   "cell_type": "code",
   "execution_count": 5,
   "id": "98279a91",
   "metadata": {
    "execution": {
     "iopub.execute_input": "2022-10-16T10:03:22.130318Z",
     "iopub.status.busy": "2022-10-16T10:03:22.129996Z",
     "iopub.status.idle": "2022-10-16T10:03:22.134416Z",
     "shell.execute_reply": "2022-10-16T10:03:22.133503Z"
    },
    "papermill": {
     "duration": 0.010304,
     "end_time": "2022-10-16T10:03:22.136771",
     "exception": false,
     "start_time": "2022-10-16T10:03:22.126467",
     "status": "completed"
    },
    "tags": []
   },
   "outputs": [],
   "source": [
    "# model_acc = GridSearchCV(\n",
    "#     RandomForestClassifier(random_state=cfg.seed),\n",
    "#     parameters,\n",
    "#     cv=5,\n",
    "#     scoring=\"accuracy\"\n",
    "# )\n",
    "# model_acc.fit(X, y)\n",
    "\n",
    "# breaker()\n",
    "# print(f\"Best Params : {model_acc.best_params_}\")\n",
    "# print(f\"Best Score  : {model_acc.best_score_}\")\n",
    "\n",
    "# breaker()"
   ]
  },
  {
   "cell_type": "code",
   "execution_count": 6,
   "id": "ac1171b0",
   "metadata": {
    "execution": {
     "iopub.execute_input": "2022-10-16T10:03:22.143138Z",
     "iopub.status.busy": "2022-10-16T10:03:22.142802Z",
     "iopub.status.idle": "2022-10-16T10:04:16.329359Z",
     "shell.execute_reply": "2022-10-16T10:04:16.328055Z"
    },
    "papermill": {
     "duration": 54.193532,
     "end_time": "2022-10-16T10:04:16.332780",
     "exception": false,
     "start_time": "2022-10-16T10:03:22.139248",
     "status": "completed"
    },
    "tags": []
   },
   "outputs": [
    {
     "name": "stdout",
     "output_type": "stream",
     "text": [
      "\n",
      "**************************************************\n",
      "\n",
      "Best Params : {'n_estimators': 500}\n",
      "Best Score  : -0.7041383944760992\n",
      "\n",
      "**************************************************\n",
      "\n"
     ]
    }
   ],
   "source": [
    "model_auc = GridSearchCV(\n",
    "    RandomForestClassifier(random_state=cfg.seed),\n",
    "    parameters,\n",
    "    cv=5,\n",
    "    scoring=\"neg_log_loss\"\n",
    ")\n",
    "model_auc.fit(X, y)\n",
    "\n",
    "breaker()\n",
    "print(f\"Best Params : {model_auc.best_params_}\")\n",
    "print(f\"Best Score  : {model_auc.best_score_}\")\n",
    "\n",
    "breaker()"
   ]
  },
  {
   "cell_type": "code",
   "execution_count": 7,
   "id": "3bba00a8",
   "metadata": {
    "execution": {
     "iopub.execute_input": "2022-10-16T10:04:16.339074Z",
     "iopub.status.busy": "2022-10-16T10:04:16.338693Z",
     "iopub.status.idle": "2022-10-16T10:04:16.443350Z",
     "shell.execute_reply": "2022-10-16T10:04:16.442644Z"
    },
    "papermill": {
     "duration": 0.110267,
     "end_time": "2022-10-16T10:04:16.445409",
     "exception": false,
     "start_time": "2022-10-16T10:04:16.335142",
     "status": "completed"
    },
    "tags": []
   },
   "outputs": [],
   "source": [
    "ts_df = pd.read_csv(cfg.ts_data)\n",
    "ts_df = ts_df.drop(columns=[\"index\"])\n",
    "X_test = ts_df.copy().values\n",
    "\n",
    "X_test = sc_X.transform(X_test)\n",
    "y_pred = model_auc.predict_proba(X_test)[:, 1]\n",
    "\n",
    "ss_df = pd.read_csv(cfg.ss_data)\n",
    "ss_df[\"target\"] = y_pred\n",
    "ss_df.to_csv(\"submission.csv\", index=False)"
   ]
  }
 ],
 "metadata": {
  "kernelspec": {
   "display_name": "Python 3",
   "language": "python",
   "name": "python3"
  },
  "language_info": {
   "codemirror_mode": {
    "name": "ipython",
    "version": 3
   },
   "file_extension": ".py",
   "mimetype": "text/x-python",
   "name": "python",
   "nbconvert_exporter": "python",
   "pygments_lexer": "ipython3",
   "version": "3.7.12"
  },
  "papermill": {
   "default_parameters": {},
   "duration": 64.944313,
   "end_time": "2022-10-16T10:04:17.169401",
   "environment_variables": {},
   "exception": null,
   "input_path": "__notebook__.ipynb",
   "output_path": "__notebook__.ipynb",
   "parameters": {},
   "start_time": "2022-10-16T10:03:12.225088",
   "version": "2.3.4"
  }
 },
 "nbformat": 4,
 "nbformat_minor": 5
}
