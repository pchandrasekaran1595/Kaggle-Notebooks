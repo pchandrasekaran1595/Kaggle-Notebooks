{
 "cells": [
  {
   "cell_type": "code",
   "execution_count": 1,
   "id": "a17b9710",
   "metadata": {
    "execution": {
     "iopub.execute_input": "2022-10-19T06:12:36.013044Z",
     "iopub.status.busy": "2022-10-19T06:12:36.012411Z",
     "iopub.status.idle": "2022-10-19T06:12:47.507943Z",
     "shell.execute_reply": "2022-10-19T06:12:47.506655Z"
    },
    "papermill": {
     "duration": 11.503298,
     "end_time": "2022-10-19T06:12:47.510475",
     "exception": false,
     "start_time": "2022-10-19T06:12:36.007177",
     "status": "completed"
    },
    "tags": []
   },
   "outputs": [
    {
     "name": "stdout",
     "output_type": "stream",
     "text": [
      "\u001b[33mWARNING: Running pip as the 'root' user can result in broken permissions and conflicting behaviour with the system package manager. It is recommended to use a virtual environment instead: https://pip.pypa.io/warnings/venv\u001b[0m\u001b[33m\r\n",
      "\u001b[0m"
     ]
    }
   ],
   "source": [
    "!pip install lightgbm -q"
   ]
  },
  {
   "cell_type": "code",
   "execution_count": 2,
   "id": "31aa7d8e",
   "metadata": {
    "execution": {
     "iopub.execute_input": "2022-10-19T06:12:47.517044Z",
     "iopub.status.busy": "2022-10-19T06:12:47.516440Z",
     "iopub.status.idle": "2022-10-19T06:12:49.679616Z",
     "shell.execute_reply": "2022-10-19T06:12:49.678753Z"
    },
    "papermill": {
     "duration": 2.169312,
     "end_time": "2022-10-19T06:12:49.682359",
     "exception": false,
     "start_time": "2022-10-19T06:12:47.513047",
     "status": "completed"
    },
    "tags": []
   },
   "outputs": [
    {
     "data": {
      "text/html": [
       "<style type='text/css'>\n",
       ".datatable table.frame { margin-bottom: 0; }\n",
       ".datatable table.frame thead { border-bottom: none; }\n",
       ".datatable table.frame tr.coltypes td {  color: #FFFFFF;  line-height: 6px;  padding: 0 0.5em;}\n",
       ".datatable .bool    { background: #DDDD99; }\n",
       ".datatable .object  { background: #565656; }\n",
       ".datatable .int     { background: #5D9E5D; }\n",
       ".datatable .float   { background: #4040CC; }\n",
       ".datatable .str     { background: #CC4040; }\n",
       ".datatable .time    { background: #40CC40; }\n",
       ".datatable .row_index {  background: var(--jp-border-color3);  border-right: 1px solid var(--jp-border-color0);  color: var(--jp-ui-font-color3);  font-size: 9px;}\n",
       ".datatable .frame tbody td { text-align: left; }\n",
       ".datatable .frame tr.coltypes .row_index {  background: var(--jp-border-color0);}\n",
       ".datatable th:nth-child(2) { padding-left: 12px; }\n",
       ".datatable .hellipsis {  color: var(--jp-cell-editor-border-color);}\n",
       ".datatable .vellipsis {  background: var(--jp-layout-color0);  color: var(--jp-cell-editor-border-color);}\n",
       ".datatable .na {  color: var(--jp-cell-editor-border-color);  font-size: 80%;}\n",
       ".datatable .sp {  opacity: 0.25;}\n",
       ".datatable .footer { font-size: 9px; }\n",
       ".datatable .frame_dimensions {  background: var(--jp-border-color3);  border-top: 1px solid var(--jp-border-color0);  color: var(--jp-ui-font-color3);  display: inline-block;  opacity: 0.6;  padding: 1px 10px 1px 5px;}\n",
       "</style>\n"
      ],
      "text/plain": [
       "<IPython.core.display.HTML object>"
      ]
     },
     "metadata": {},
     "output_type": "display_data"
    }
   ],
   "source": [
    "import os\n",
    "import pickle\n",
    "import numpy as np\n",
    "import pandas as pd\n",
    "import random as r\n",
    "import seaborn as sns\n",
    "import lightgbm as lgb\n",
    "import matplotlib.pyplot as plt\n",
    "\n",
    "from time import time\n",
    "from sklearn.pipeline import Pipeline\n",
    "from sklearn.impute import SimpleImputer\n",
    "from sklearn.compose import ColumnTransformer\n",
    "from sklearn.preprocessing import StandardScaler\n",
    "from sklearn.model_selection import KFold, GridSearchCV\n",
    "\n",
    "from sklearn.metrics import accuracy_score, precision_recall_fscore_support, roc_auc_score, classification_report"
   ]
  },
  {
   "cell_type": "code",
   "execution_count": 3,
   "id": "49f0ea0a",
   "metadata": {
    "execution": {
     "iopub.execute_input": "2022-10-19T06:12:49.689176Z",
     "iopub.status.busy": "2022-10-19T06:12:49.688827Z",
     "iopub.status.idle": "2022-10-19T06:12:49.695289Z",
     "shell.execute_reply": "2022-10-19T06:12:49.694627Z"
    },
    "papermill": {
     "duration": 0.011999,
     "end_time": "2022-10-19T06:12:49.697172",
     "exception": false,
     "start_time": "2022-10-19T06:12:49.685173",
     "status": "completed"
    },
    "tags": []
   },
   "outputs": [],
   "source": [
    "class CFG(object):\n",
    "    def __init__(self,\n",
    "         seed: int = 42,\n",
    "         n_splits: int = 5,\n",
    "         show_info: bool = False,\n",
    "         ):\n",
    "\n",
    "        self.seed = seed\n",
    "        self.n_splits = n_splits\n",
    "        self.show_info = show_info\n",
    "        self.tr_data = \"../input/heart-disease-prediction-tfug-chd-oct-2022/train.csv\"\n",
    "        self.ss_data = \"../input/heart-disease-prediction-tfug-chd-oct-2022/sample_submission.csv\"\n",
    "        self.ts_data = \"../input/heart-disease-prediction-tfug-chd-oct-2022/test.csv\"\n",
    "        self.model_save_path = \"models\"\n",
    "        if not os.path.exists(self.model_save_path): os.makedirs(self.model_save_path)\n",
    "\n",
    "cfg = CFG(seed=42, show_info=True)"
   ]
  },
  {
   "cell_type": "code",
   "execution_count": 4,
   "id": "e24b4b51",
   "metadata": {
    "execution": {
     "iopub.execute_input": "2022-10-19T06:12:49.703913Z",
     "iopub.status.busy": "2022-10-19T06:12:49.703257Z",
     "iopub.status.idle": "2022-10-19T06:12:49.710447Z",
     "shell.execute_reply": "2022-10-19T06:12:49.709796Z"
    },
    "papermill": {
     "duration": 0.012471,
     "end_time": "2022-10-19T06:12:49.712239",
     "exception": false,
     "start_time": "2022-10-19T06:12:49.699768",
     "status": "completed"
    },
    "tags": []
   },
   "outputs": [],
   "source": [
    "def breaker(num: int=50, char: str=\"*\") -> None:\n",
    "    print(\"\\n\" + num*char + \"\\n\")\n",
    "    \n",
    "\n",
    "def print_scores(accuracy: float, auc: float, precision: np.ndarray, recall: np.ndarray, f_score: np.ndarray) -> None:\n",
    "    print(f\"Accuracy  : {accuracy:.5f}\")\n",
    "    print(f\"ROC-AUC   : {auc:.5f}\")\n",
    "    print(f\"Precision : {precision}\")\n",
    "    print(f\"Recall    : {recall}\")\n",
    "    print(f\"F-Score   : {f_score}\")\n",
    "    \n",
    "\n",
    "def get_scores(y_true: np.ndarray, y_pred: np.ndarray) -> tuple:\n",
    "    accuracy = accuracy_score(y_pred, y_true)\n",
    "    auc = roc_auc_score(y_pred, y_true)\n",
    "    precision, recall, f_score, _ = precision_recall_fscore_support(y_pred, y_true)\n",
    "\n",
    "    return accuracy, auc, precision, recall, f_score"
   ]
  },
  {
   "cell_type": "code",
   "execution_count": 5,
   "id": "c36f7f30",
   "metadata": {
    "execution": {
     "iopub.execute_input": "2022-10-19T06:12:49.718938Z",
     "iopub.status.busy": "2022-10-19T06:12:49.718183Z",
     "iopub.status.idle": "2022-10-19T06:12:50.184953Z",
     "shell.execute_reply": "2022-10-19T06:12:50.184116Z"
    },
    "papermill": {
     "duration": 0.473079,
     "end_time": "2022-10-19T06:12:50.187854",
     "exception": false,
     "start_time": "2022-10-19T06:12:49.714775",
     "status": "completed"
    },
    "tags": []
   },
   "outputs": [
    {
     "name": "stdout",
     "output_type": "stream",
     "text": [
      "\n",
      "**************************************************\n",
      "\n",
      "Class 0 count : 386\n",
      "Class 1 count : 454\n",
      "\n",
      "**************************************************\n",
      "\n",
      "Fold 1\n",
      "\n",
      "Accuracy  : 0.52381\n",
      "ROC-AUC   : 0.54149\n",
      "Precision : [0.37362637 0.7012987 ]\n",
      "Recall    : [0.59649123 0.48648649]\n",
      "F-Score   : [0.45945946 0.57446809]\n",
      "\n",
      "Fold 2\n",
      "\n",
      "Accuracy  : 0.51190\n",
      "ROC-AUC   : 0.51084\n",
      "Precision : [0.50724638 0.51515152]\n",
      "Recall    : [0.42168675 0.6       ]\n",
      "F-Score   : [0.46052632 0.55434783]\n",
      "\n",
      "Fold 3\n",
      "\n",
      "Accuracy  : 0.53571\n",
      "ROC-AUC   : 0.52761\n",
      "Precision : [0.46575342 0.58947368]\n",
      "Recall    : [0.46575342 0.58947368]\n",
      "F-Score   : [0.46575342 0.58947368]\n",
      "\n",
      "Fold 4\n",
      "\n",
      "Accuracy  : 0.50595\n",
      "ROC-AUC   : 0.50174\n",
      "Precision : [0.43037975 0.57303371]\n",
      "Recall    : [0.47222222 0.53125   ]\n",
      "F-Score   : [0.45033113 0.55135135]\n",
      "\n",
      "Fold 5\n",
      "\n",
      "Accuracy  : 0.48810\n",
      "ROC-AUC   : 0.48810\n",
      "Precision : [0.48648649 0.4893617 ]\n",
      "Recall    : [0.42857143 0.54761905]\n",
      "F-Score   : [0.4556962  0.51685393]\n",
      "\n",
      "\n",
      "**************************************************\n",
      "\n",
      "Best Fold : 1\n",
      "\n",
      "**************************************************\n",
      "\n"
     ]
    }
   ],
   "source": [
    "tr_df = pd.read_csv(cfg.tr_data)\n",
    "tr_df = tr_df.drop(columns=[\"index\"])\n",
    "\n",
    "X = tr_df.iloc[:, :-1].copy().values\n",
    "y = tr_df.iloc[:, -1].copy().values\n",
    "\n",
    "sc_X = StandardScaler()\n",
    "X = sc_X.fit_transform(X)\n",
    "\n",
    "if cfg.show_info:\n",
    "    breaker()\n",
    "    for val in set(y):\n",
    "        print(f\"Class {val} count : {y[y == val].shape[0]}\")\n",
    "breaker()\n",
    "\n",
    "best_auc: float = 0.0\n",
    "fold: int = 1\n",
    "    \n",
    "for tr_idx, va_idx in KFold(n_splits=cfg.n_splits, random_state=cfg.seed, shuffle=True).split(X):\n",
    "    X_train, X_valid, y_train, y_valid = X[tr_idx], X[va_idx], y[tr_idx], y[va_idx]\n",
    "    model = lgb.LGBMClassifier(random_state=cfg.seed).fit(X_train, y_train)\n",
    "\n",
    "    y_pred = model.predict(X_valid)\n",
    "    if cfg.show_info:\n",
    "        acc, auc, pre, rec, f1 = get_scores(y_valid, y_pred)\n",
    "        print(f\"Fold {fold}\\n\")\n",
    "        print_scores(acc, auc, pre, rec, f1)\n",
    "        print(\"\")\n",
    "    else:\n",
    "        _, auc, _, _, _ = get_scores(y_valid, y_pred)\n",
    "\n",
    "    if auc > best_auc:\n",
    "        best_auc = auc\n",
    "        best_fold = f\"{fold}\"\n",
    "\n",
    "        with open(os.path.join(cfg.model_save_path, f\"best_model.pkl\"), \"wb\") as fp: pickle.dump(model, fp)\n",
    "\n",
    "    with open(os.path.join(cfg.model_save_path, f\"Fold_{fold}.pkl\"), \"wb\") as fp: pickle.dump(model, fp)\n",
    "\n",
    "    fold += 1\n",
    "\n",
    "if cfg.show_info: \n",
    "    breaker()\n",
    "    print(f\"Best Fold : {best_fold}\")\n",
    "\n",
    "breaker()"
   ]
  },
  {
   "cell_type": "code",
   "execution_count": 6,
   "id": "f8e14cae",
   "metadata": {
    "execution": {
     "iopub.execute_input": "2022-10-19T06:12:50.196567Z",
     "iopub.status.busy": "2022-10-19T06:12:50.195541Z",
     "iopub.status.idle": "2022-10-19T06:12:50.222353Z",
     "shell.execute_reply": "2022-10-19T06:12:50.221396Z"
    },
    "papermill": {
     "duration": 0.033605,
     "end_time": "2022-10-19T06:12:50.224956",
     "exception": false,
     "start_time": "2022-10-19T06:12:50.191351",
     "status": "completed"
    },
    "tags": []
   },
   "outputs": [],
   "source": [
    "ts_df = pd.read_csv(cfg.ts_data)\n",
    "ts_df = ts_df.drop(columns=[\"index\"])\n",
    "X_test = ts_df.copy().values\n",
    "\n",
    "X_test = sc_X.transform(X_test)\n",
    "y_pred = model.predict_proba(X_test)[:, 1]\n",
    "\n",
    "ss_df = pd.read_csv(cfg.ss_data)\n",
    "ss_df[\"target\"] = y_pred\n",
    "ss_df.to_csv(\"submission.csv\", index=False)"
   ]
  }
 ],
 "metadata": {
  "kernelspec": {
   "display_name": "Python 3",
   "language": "python",
   "name": "python3"
  },
  "language_info": {
   "codemirror_mode": {
    "name": "ipython",
    "version": 3
   },
   "file_extension": ".py",
   "mimetype": "text/x-python",
   "name": "python",
   "nbconvert_exporter": "python",
   "pygments_lexer": "ipython3",
   "version": "3.7.12"
  },
  "papermill": {
   "default_parameters": {},
   "duration": 23.459022,
   "end_time": "2022-10-19T06:12:50.950545",
   "environment_variables": {},
   "exception": null,
   "input_path": "__notebook__.ipynb",
   "output_path": "__notebook__.ipynb",
   "parameters": {},
   "start_time": "2022-10-19T06:12:27.491523",
   "version": "2.3.4"
  }
 },
 "nbformat": 4,
 "nbformat_minor": 5
}
