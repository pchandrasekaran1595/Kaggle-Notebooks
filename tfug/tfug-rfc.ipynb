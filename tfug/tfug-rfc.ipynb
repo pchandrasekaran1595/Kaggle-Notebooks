{
 "cells": [
  {
   "cell_type": "code",
   "execution_count": 1,
   "id": "0ee0efe9",
   "metadata": {
    "_cell_guid": "b1076dfc-b9ad-4769-8c92-a6c4dae69d19",
    "_uuid": "8f2839f25d086af736a60e9eeb907d3b93b6e0e5",
    "execution": {
     "iopub.execute_input": "2022-10-16T07:00:44.758217Z",
     "iopub.status.busy": "2022-10-16T07:00:44.757695Z",
     "iopub.status.idle": "2022-10-16T07:00:45.983645Z",
     "shell.execute_reply": "2022-10-16T07:00:45.982767Z"
    },
    "papermill": {
     "duration": 1.233899,
     "end_time": "2022-10-16T07:00:45.986090",
     "exception": false,
     "start_time": "2022-10-16T07:00:44.752191",
     "status": "completed"
    },
    "tags": []
   },
   "outputs": [],
   "source": [
    "import os\n",
    "import pickle\n",
    "import numpy as np\n",
    "import pandas as pd\n",
    "import random as r\n",
    "import seaborn as sns\n",
    "import matplotlib.pyplot as plt\n",
    "\n",
    "from time import time\n",
    "from sklearn.pipeline import Pipeline\n",
    "from sklearn.impute import SimpleImputer\n",
    "from sklearn.compose import ColumnTransformer\n",
    "from sklearn.preprocessing import StandardScaler\n",
    "from sklearn.model_selection import KFold, GridSearchCV\n",
    "\n",
    "from sklearn.ensemble import RandomForestClassifier\n",
    "from sklearn.metrics import accuracy_score, precision_recall_fscore_support, roc_auc_score, classification_report"
   ]
  },
  {
   "cell_type": "code",
   "execution_count": 2,
   "id": "1846aace",
   "metadata": {
    "execution": {
     "iopub.execute_input": "2022-10-16T07:00:45.992250Z",
     "iopub.status.busy": "2022-10-16T07:00:45.991951Z",
     "iopub.status.idle": "2022-10-16T07:00:45.998385Z",
     "shell.execute_reply": "2022-10-16T07:00:45.997502Z"
    },
    "papermill": {
     "duration": 0.0114,
     "end_time": "2022-10-16T07:00:46.000268",
     "exception": false,
     "start_time": "2022-10-16T07:00:45.988868",
     "status": "completed"
    },
    "tags": []
   },
   "outputs": [],
   "source": [
    "class CFG(object):\n",
    "    def __init__(self,\n",
    "         seed: int = 42,\n",
    "         n_splits: int = 5,\n",
    "         show_info: bool = False,\n",
    "         ):\n",
    "\n",
    "        self.seed = seed\n",
    "        self.n_splits = n_splits\n",
    "        self.show_info = show_info\n",
    "        self.tr_data = \"../input/heart-disease-prediction-tfug-chd-oct-2022/train.csv\"\n",
    "        self.ss_data = \"../input/heart-disease-prediction-tfug-chd-oct-2022/sample_submission.csv\"\n",
    "        self.ts_data = \"../input/heart-disease-prediction-tfug-chd-oct-2022/test.csv\"\n",
    "        self.model_save_path = \"models\"\n",
    "        if not os.path.exists(self.model_save_path): os.makedirs(self.model_save_path)\n",
    "\n",
    "cfg = CFG(seed=42, show_info=True)"
   ]
  },
  {
   "cell_type": "code",
   "execution_count": 3,
   "id": "d68a0dd0",
   "metadata": {
    "execution": {
     "iopub.execute_input": "2022-10-16T07:00:46.006068Z",
     "iopub.status.busy": "2022-10-16T07:00:46.005819Z",
     "iopub.status.idle": "2022-10-16T07:00:46.011923Z",
     "shell.execute_reply": "2022-10-16T07:00:46.011228Z"
    },
    "papermill": {
     "duration": 0.010723,
     "end_time": "2022-10-16T07:00:46.013546",
     "exception": false,
     "start_time": "2022-10-16T07:00:46.002823",
     "status": "completed"
    },
    "tags": []
   },
   "outputs": [],
   "source": [
    "def breaker(num: int=50, char: str=\"*\") -> None:\n",
    "    print(\"\\n\" + num*char + \"\\n\")\n",
    "    \n",
    "\n",
    "def print_scores(accuracy: float, auc: float, precision: np.ndarray, recall: np.ndarray, f_score: np.ndarray) -> None:\n",
    "    print(f\"Accuracy  : {accuracy:.5f}\")\n",
    "    print(f\"ROC-AUC   : {auc:.5f}\")\n",
    "    print(f\"Precision : {precision}\")\n",
    "    print(f\"Recall    : {recall}\")\n",
    "    print(f\"F-Score   : {f_score}\")\n",
    "    \n",
    "\n",
    "def get_scores(y_true: np.ndarray, y_pred: np.ndarray) -> tuple:\n",
    "    accuracy = accuracy_score(y_pred, y_true)\n",
    "    auc = roc_auc_score(y_pred, y_true)\n",
    "    precision, recall, f_score, _ = precision_recall_fscore_support(y_pred, y_true)\n",
    "\n",
    "    return accuracy, auc, precision, recall, f_score"
   ]
  },
  {
   "cell_type": "code",
   "execution_count": 4,
   "id": "2de5ca7e",
   "metadata": {
    "execution": {
     "iopub.execute_input": "2022-10-16T07:00:46.019167Z",
     "iopub.status.busy": "2022-10-16T07:00:46.018875Z",
     "iopub.status.idle": "2022-10-16T07:00:46.066131Z",
     "shell.execute_reply": "2022-10-16T07:00:46.065150Z"
    },
    "papermill": {
     "duration": 0.052729,
     "end_time": "2022-10-16T07:00:46.068494",
     "exception": false,
     "start_time": "2022-10-16T07:00:46.015765",
     "status": "completed"
    },
    "tags": []
   },
   "outputs": [
    {
     "name": "stdout",
     "output_type": "stream",
     "text": [
      "\n",
      "**************************************************\n",
      "\n",
      "Class 0 count : 386\n",
      "Class 1 count : 454\n",
      "\n",
      "**************************************************\n",
      "\n"
     ]
    }
   ],
   "source": [
    "tr_df = pd.read_csv(cfg.tr_data)\n",
    "tr_df = tr_df.drop(columns=[\"index\"])\n",
    "\n",
    "X = tr_df.iloc[:, :-1].copy().values\n",
    "y = tr_df.iloc[:, -1].copy().values\n",
    "\n",
    "sc_X = StandardScaler()\n",
    "X = sc_X.fit_transform(X)\n",
    "\n",
    "if cfg.show_info:\n",
    "    breaker()\n",
    "    for val in set(y):\n",
    "        print(f\"Class {val} count : {y[y == val].shape[0]}\")\n",
    "breaker()\n",
    "\n",
    "        \n",
    "parameters = {\n",
    "    \"n_estimators\" : [100, 200, 300, 400, 500, 600, 700, 800, 900, 1000],\n",
    "}"
   ]
  },
  {
   "cell_type": "code",
   "execution_count": 5,
   "id": "b124fe5b",
   "metadata": {
    "execution": {
     "iopub.execute_input": "2022-10-16T07:00:46.075306Z",
     "iopub.status.busy": "2022-10-16T07:00:46.074578Z",
     "iopub.status.idle": "2022-10-16T07:00:46.078265Z",
     "shell.execute_reply": "2022-10-16T07:00:46.077654Z"
    },
    "papermill": {
     "duration": 0.008694,
     "end_time": "2022-10-16T07:00:46.079873",
     "exception": false,
     "start_time": "2022-10-16T07:00:46.071179",
     "status": "completed"
    },
    "tags": []
   },
   "outputs": [],
   "source": [
    "# model_acc = GridSearchCV(\n",
    "#     RandomForestClassifier(random_state=cfg.seed),\n",
    "#     parameters,\n",
    "#     cv=5,\n",
    "#     scoring=\"accuracy\"\n",
    "# )\n",
    "# model_acc.fit(X, y)\n",
    "\n",
    "# breaker()\n",
    "# print(f\"Best Params : {model_acc.best_params_}\")\n",
    "# print(f\"Best Score  : {model_acc.best_score_}\")\n",
    "\n",
    "# breaker()"
   ]
  },
  {
   "cell_type": "code",
   "execution_count": 6,
   "id": "9e8e0a86",
   "metadata": {
    "execution": {
     "iopub.execute_input": "2022-10-16T07:00:46.086187Z",
     "iopub.status.busy": "2022-10-16T07:00:46.085259Z",
     "iopub.status.idle": "2022-10-16T07:01:45.652373Z",
     "shell.execute_reply": "2022-10-16T07:01:45.651390Z"
    },
    "papermill": {
     "duration": 59.574662,
     "end_time": "2022-10-16T07:01:45.656850",
     "exception": false,
     "start_time": "2022-10-16T07:00:46.082188",
     "status": "completed"
    },
    "tags": []
   },
   "outputs": [
    {
     "name": "stdout",
     "output_type": "stream",
     "text": [
      "\n",
      "**************************************************\n",
      "\n",
      "Best Params : {'n_estimators': 500}\n",
      "Best Score  : 0.5209975738547167\n",
      "\n",
      "**************************************************\n",
      "\n"
     ]
    }
   ],
   "source": [
    "model_auc = GridSearchCV(\n",
    "    RandomForestClassifier(random_state=cfg.seed),\n",
    "    parameters,\n",
    "    cv=5,\n",
    "    scoring=\"roc_auc\"\n",
    ")\n",
    "model_auc.fit(X, y)\n",
    "\n",
    "breaker()\n",
    "print(f\"Best Params : {model_auc.best_params_}\")\n",
    "print(f\"Best Score  : {model_auc.best_score_}\")\n",
    "\n",
    "breaker()"
   ]
  },
  {
   "cell_type": "code",
   "execution_count": 7,
   "id": "c46e4780",
   "metadata": {
    "execution": {
     "iopub.execute_input": "2022-10-16T07:01:45.662562Z",
     "iopub.status.busy": "2022-10-16T07:01:45.662241Z",
     "iopub.status.idle": "2022-10-16T07:01:45.765951Z",
     "shell.execute_reply": "2022-10-16T07:01:45.765096Z"
    },
    "papermill": {
     "duration": 0.108944,
     "end_time": "2022-10-16T07:01:45.768088",
     "exception": false,
     "start_time": "2022-10-16T07:01:45.659144",
     "status": "completed"
    },
    "tags": []
   },
   "outputs": [],
   "source": [
    "ts_df = pd.read_csv(cfg.ts_data)\n",
    "ts_df = ts_df.drop(columns=[\"index\"])\n",
    "X_test = ts_df.copy().values\n",
    "\n",
    "X_test = sc_X.transform(X_test)\n",
    "y_pred = model_auc.predict_proba(X_test)[:, 1]\n",
    "\n",
    "ss_df = pd.read_csv(cfg.ss_data)\n",
    "ss_df[\"target\"] = y_pred\n",
    "ss_df.to_csv(\"submission.csv\", index=False)"
   ]
  }
 ],
 "metadata": {
  "kernelspec": {
   "display_name": "Python 3",
   "language": "python",
   "name": "python3"
  },
  "language_info": {
   "codemirror_mode": {
    "name": "ipython",
    "version": 3
   },
   "file_extension": ".py",
   "mimetype": "text/x-python",
   "name": "python",
   "nbconvert_exporter": "python",
   "pygments_lexer": "ipython3",
   "version": "3.7.12"
  },
  "papermill": {
   "default_parameters": {},
   "duration": 69.362171,
   "end_time": "2022-10-16T07:01:46.390409",
   "environment_variables": {},
   "exception": null,
   "input_path": "__notebook__.ipynb",
   "output_path": "__notebook__.ipynb",
   "parameters": {},
   "start_time": "2022-10-16T07:00:37.028238",
   "version": "2.3.4"
  }
 },
 "nbformat": 4,
 "nbformat_minor": 5
}
