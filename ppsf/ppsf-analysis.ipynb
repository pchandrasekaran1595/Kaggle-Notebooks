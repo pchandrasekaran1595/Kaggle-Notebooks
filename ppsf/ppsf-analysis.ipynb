{
 "cells": [
  {
   "cell_type": "code",
   "execution_count": 1,
   "id": "bb2d197d",
   "metadata": {
    "_cell_guid": "b1076dfc-b9ad-4769-8c92-a6c4dae69d19",
    "_uuid": "8f2839f25d086af736a60e9eeb907d3b93b6e0e5",
    "execution": {
     "iopub.execute_input": "2022-09-07T11:55:38.203650Z",
     "iopub.status.busy": "2022-09-07T11:55:38.202837Z",
     "iopub.status.idle": "2022-09-07T11:55:39.289388Z",
     "shell.execute_reply": "2022-09-07T11:55:39.288307Z"
    },
    "papermill": {
     "duration": 1.094913,
     "end_time": "2022-09-07T11:55:39.292256",
     "exception": false,
     "start_time": "2022-09-07T11:55:38.197343",
     "status": "completed"
    },
    "tags": []
   },
   "outputs": [],
   "source": [
    "import os\n",
    "import numpy as np\n",
    "import pandas as pd\n",
    "import random as r\n",
    "import seaborn as sns\n",
    "import matplotlib.pyplot as plt"
   ]
  },
  {
   "cell_type": "code",
   "execution_count": 2,
   "id": "5e4ac45b",
   "metadata": {
    "execution": {
     "iopub.execute_input": "2022-09-07T11:55:39.299877Z",
     "iopub.status.busy": "2022-09-07T11:55:39.298938Z",
     "iopub.status.idle": "2022-09-07T11:55:39.306273Z",
     "shell.execute_reply": "2022-09-07T11:55:39.305055Z"
    },
    "papermill": {
     "duration": 0.013645,
     "end_time": "2022-09-07T11:55:39.308746",
     "exception": false,
     "start_time": "2022-09-07T11:55:39.295101",
     "status": "completed"
    },
    "tags": []
   },
   "outputs": [],
   "source": [
    "def breaker(num: int=50, char: str=\"*\") -> None:\n",
    "    print(\"\\n\" + num*char + \"\\n\")\n",
    "\n",
    "    \n",
    "def get_object_columns(df) -> list:\n",
    "    object_columns: list = []\n",
    "    for col in df.columns:\n",
    "        if df[col].dtype == \"object\":\n",
    "            object_columns.append(col)\n",
    "\n",
    "    return object_columns"
   ]
  },
  {
   "cell_type": "code",
   "execution_count": 3,
   "id": "8d6cb314",
   "metadata": {
    "execution": {
     "iopub.execute_input": "2022-09-07T11:55:39.318257Z",
     "iopub.status.busy": "2022-09-07T11:55:39.317871Z",
     "iopub.status.idle": "2022-09-07T11:55:39.326686Z",
     "shell.execute_reply": "2022-09-07T11:55:39.325595Z"
    },
    "papermill": {
     "duration": 0.016373,
     "end_time": "2022-09-07T11:55:39.328977",
     "exception": false,
     "start_time": "2022-09-07T11:55:39.312604",
     "status": "completed"
    },
    "tags": []
   },
   "outputs": [],
   "source": [
    "class CFG(object):\n",
    "    def __init__(self,\n",
    "                 seed: int = 42,\n",
    "                 n_splits: int = 5,\n",
    "                 show_info: bool = False,\n",
    "                 ):\n",
    "\n",
    "        self.seed = seed\n",
    "        self.n_splits = n_splits\n",
    "        self.show_info = show_info\n",
    "        self.train_data_read_path = \"../input/predict-potential-spammers-on-fiverr/train.csv\"\n",
    "        self.test_data_read_path = \"../input/predict-potential-spammers-on-fiverr/test.csv\"\n",
    "        self.ss_data_read_path = \"../input/predict-potential-spammers-on-fiverr/sample_submission.csv\"\n",
    "        self.model_save_path = \"models\"\n",
    "        if not os.path.exists(self.model_save_path): os.makedirs(self.model_save_path)\n",
    "\n",
    "cfg = CFG(seed=42, show_info=True)"
   ]
  },
  {
   "cell_type": "code",
   "execution_count": 4,
   "id": "9ef514cb",
   "metadata": {
    "execution": {
     "iopub.execute_input": "2022-09-07T11:55:39.336096Z",
     "iopub.status.busy": "2022-09-07T11:55:39.335725Z",
     "iopub.status.idle": "2022-09-07T11:55:41.803719Z",
     "shell.execute_reply": "2022-09-07T11:55:41.802408Z"
    },
    "papermill": {
     "duration": 2.475228,
     "end_time": "2022-09-07T11:55:41.806760",
     "exception": false,
     "start_time": "2022-09-07T11:55:39.331532",
     "status": "completed"
    },
    "tags": []
   },
   "outputs": [
    {
     "data": {
      "text/html": [
       "<div>\n",
       "<style scoped>\n",
       "    .dataframe tbody tr th:only-of-type {\n",
       "        vertical-align: middle;\n",
       "    }\n",
       "\n",
       "    .dataframe tbody tr th {\n",
       "        vertical-align: top;\n",
       "    }\n",
       "\n",
       "    .dataframe thead th {\n",
       "        text-align: right;\n",
       "    }\n",
       "</style>\n",
       "<table border=\"1\" class=\"dataframe\">\n",
       "  <thead>\n",
       "    <tr style=\"text-align: right;\">\n",
       "      <th></th>\n",
       "      <th>label</th>\n",
       "      <th>X1</th>\n",
       "      <th>X2</th>\n",
       "      <th>X3</th>\n",
       "      <th>X4</th>\n",
       "      <th>X5</th>\n",
       "      <th>X6</th>\n",
       "      <th>X7</th>\n",
       "      <th>X8</th>\n",
       "      <th>X9</th>\n",
       "      <th>...</th>\n",
       "      <th>X42</th>\n",
       "      <th>X43</th>\n",
       "      <th>X44</th>\n",
       "      <th>X45</th>\n",
       "      <th>X46</th>\n",
       "      <th>X47</th>\n",
       "      <th>X48</th>\n",
       "      <th>X49</th>\n",
       "      <th>X50</th>\n",
       "      <th>X51</th>\n",
       "    </tr>\n",
       "  </thead>\n",
       "  <tbody>\n",
       "    <tr>\n",
       "      <th>0</th>\n",
       "      <td>0</td>\n",
       "      <td>20972</td>\n",
       "      <td>14</td>\n",
       "      <td>13</td>\n",
       "      <td>3</td>\n",
       "      <td>11</td>\n",
       "      <td>1</td>\n",
       "      <td>2</td>\n",
       "      <td>15</td>\n",
       "      <td>26</td>\n",
       "      <td>...</td>\n",
       "      <td>0</td>\n",
       "      <td>0</td>\n",
       "      <td>0</td>\n",
       "      <td>0</td>\n",
       "      <td>0</td>\n",
       "      <td>0</td>\n",
       "      <td>0</td>\n",
       "      <td>0</td>\n",
       "      <td>1</td>\n",
       "      <td>0</td>\n",
       "    </tr>\n",
       "    <tr>\n",
       "      <th>1</th>\n",
       "      <td>0</td>\n",
       "      <td>7362</td>\n",
       "      <td>213</td>\n",
       "      <td>71</td>\n",
       "      <td>3</td>\n",
       "      <td>11</td>\n",
       "      <td>1</td>\n",
       "      <td>2</td>\n",
       "      <td>15</td>\n",
       "      <td>26</td>\n",
       "      <td>...</td>\n",
       "      <td>0</td>\n",
       "      <td>0</td>\n",
       "      <td>0</td>\n",
       "      <td>0</td>\n",
       "      <td>0</td>\n",
       "      <td>0</td>\n",
       "      <td>0</td>\n",
       "      <td>0</td>\n",
       "      <td>0</td>\n",
       "      <td>0</td>\n",
       "    </tr>\n",
       "    <tr>\n",
       "      <th>2</th>\n",
       "      <td>0</td>\n",
       "      <td>21216</td>\n",
       "      <td>215</td>\n",
       "      <td>71</td>\n",
       "      <td>3</td>\n",
       "      <td>11</td>\n",
       "      <td>1</td>\n",
       "      <td>2</td>\n",
       "      <td>15</td>\n",
       "      <td>14</td>\n",
       "      <td>...</td>\n",
       "      <td>0</td>\n",
       "      <td>0</td>\n",
       "      <td>0</td>\n",
       "      <td>0</td>\n",
       "      <td>0</td>\n",
       "      <td>0</td>\n",
       "      <td>0</td>\n",
       "      <td>0</td>\n",
       "      <td>0</td>\n",
       "      <td>0</td>\n",
       "    </tr>\n",
       "    <tr>\n",
       "      <th>3</th>\n",
       "      <td>0</td>\n",
       "      <td>2261</td>\n",
       "      <td>212</td>\n",
       "      <td>71</td>\n",
       "      <td>2</td>\n",
       "      <td>8</td>\n",
       "      <td>1</td>\n",
       "      <td>2</td>\n",
       "      <td>15</td>\n",
       "      <td>14</td>\n",
       "      <td>...</td>\n",
       "      <td>0</td>\n",
       "      <td>0</td>\n",
       "      <td>0</td>\n",
       "      <td>0</td>\n",
       "      <td>0</td>\n",
       "      <td>0</td>\n",
       "      <td>0</td>\n",
       "      <td>1</td>\n",
       "      <td>0</td>\n",
       "      <td>0</td>\n",
       "    </tr>\n",
       "    <tr>\n",
       "      <th>4</th>\n",
       "      <td>0</td>\n",
       "      <td>4543</td>\n",
       "      <td>213</td>\n",
       "      <td>71</td>\n",
       "      <td>2</td>\n",
       "      <td>8</td>\n",
       "      <td>1</td>\n",
       "      <td>2</td>\n",
       "      <td>15</td>\n",
       "      <td>14</td>\n",
       "      <td>...</td>\n",
       "      <td>0</td>\n",
       "      <td>0</td>\n",
       "      <td>0</td>\n",
       "      <td>0</td>\n",
       "      <td>0</td>\n",
       "      <td>0</td>\n",
       "      <td>0</td>\n",
       "      <td>0</td>\n",
       "      <td>0</td>\n",
       "      <td>0</td>\n",
       "    </tr>\n",
       "  </tbody>\n",
       "</table>\n",
       "<p>5 rows × 52 columns</p>\n",
       "</div>"
      ],
      "text/plain": [
       "   label     X1   X2  X3  X4  X5  X6  X7  X8  X9  ...  X42  X43  X44  X45  \\\n",
       "0      0  20972   14  13   3  11   1   2  15  26  ...    0    0    0    0   \n",
       "1      0   7362  213  71   3  11   1   2  15  26  ...    0    0    0    0   \n",
       "2      0  21216  215  71   3  11   1   2  15  14  ...    0    0    0    0   \n",
       "3      0   2261  212  71   2   8   1   2  15  14  ...    0    0    0    0   \n",
       "4      0   4543  213  71   2   8   1   2  15  14  ...    0    0    0    0   \n",
       "\n",
       "   X46  X47  X48  X49  X50  X51  \n",
       "0    0    0    0    0    1    0  \n",
       "1    0    0    0    0    0    0  \n",
       "2    0    0    0    0    0    0  \n",
       "3    0    0    0    1    0    0  \n",
       "4    0    0    0    0    0    0  \n",
       "\n",
       "[5 rows x 52 columns]"
      ]
     },
     "execution_count": 4,
     "metadata": {},
     "output_type": "execute_result"
    }
   ],
   "source": [
    "tr_data = pd.read_csv(cfg.train_data_read_path)\n",
    "tr_data.drop(columns=[\"user_id\"], inplace=True)\n",
    "tr_data.head(5)"
   ]
  },
  {
   "cell_type": "code",
   "execution_count": 5,
   "id": "dab9bc01",
   "metadata": {
    "execution": {
     "iopub.execute_input": "2022-09-07T11:55:41.814951Z",
     "iopub.status.busy": "2022-09-07T11:55:41.814315Z",
     "iopub.status.idle": "2022-09-07T11:55:41.825546Z",
     "shell.execute_reply": "2022-09-07T11:55:41.824402Z"
    },
    "papermill": {
     "duration": 0.018532,
     "end_time": "2022-09-07T11:55:41.828446",
     "exception": false,
     "start_time": "2022-09-07T11:55:41.809914",
     "status": "completed"
    },
    "tags": []
   },
   "outputs": [
    {
     "name": "stdout",
     "output_type": "stream",
     "text": [
      "\n",
      "**************************************************\n",
      "\n",
      "[]\n",
      "\n",
      "**************************************************\n",
      "\n"
     ]
    }
   ],
   "source": [
    "object_columns = get_object_columns(tr_data)\n",
    "breaker()\n",
    "print(object_columns)\n",
    "breaker()\n",
    "\n",
    "if len(object_columns) != 0:\n",
    "    print(\"No.of Unique Values\\n\")\n",
    "    for object_column in object_columns:\n",
    "        print(f\"{object_column} : {tr_data[object_column].nunique()}\")\n",
    "    breaker()"
   ]
  },
  {
   "cell_type": "code",
   "execution_count": 6,
   "id": "74453531",
   "metadata": {
    "execution": {
     "iopub.execute_input": "2022-09-07T11:55:41.836917Z",
     "iopub.status.busy": "2022-09-07T11:55:41.836392Z",
     "iopub.status.idle": "2022-09-07T11:55:42.045349Z",
     "shell.execute_reply": "2022-09-07T11:55:42.044071Z"
    },
    "papermill": {
     "duration": 0.216199,
     "end_time": "2022-09-07T11:55:42.048407",
     "exception": false,
     "start_time": "2022-09-07T11:55:41.832208",
     "status": "completed"
    },
    "tags": []
   },
   "outputs": [
    {
     "data": {
      "image/png": "[encoded data removed]",
      "text/plain": [
       "<Figure size 432x288 with 1 Axes>"
      ]
     },
     "metadata": {
      "needs_background": "light"
     },
     "output_type": "display_data"
    }
   ],
   "source": [
    "sns.countplot(data=tr_data, x=\"label\")\n",
    "plt.grid()\n",
    "plt.title(\"Label Class Count\")\n",
    "plt.show()"
   ]
  }
 ],
 "metadata": {
  "kernelspec": {
   "display_name": "Python 3",
   "language": "python",
   "name": "python3"
  },
  "language_info": {
   "codemirror_mode": {
    "name": "ipython",
    "version": 3
   },
   "file_extension": ".py",
   "mimetype": "text/x-python",
   "name": "python",
   "nbconvert_exporter": "python",
   "pygments_lexer": "ipython3",
   "version": "3.7.12"
  },
  "papermill": {
   "default_parameters": {},
   "duration": 13.602468,
   "end_time": "2022-09-07T11:55:42.774734",
   "environment_variables": {},
   "exception": null,
   "input_path": "__notebook__.ipynb",
   "output_path": "__notebook__.ipynb",
   "parameters": {},
   "start_time": "2022-09-07T11:55:29.172266",
   "version": "2.3.4"
  }
 },
 "nbformat": 4,
 "nbformat_minor": 5
}
