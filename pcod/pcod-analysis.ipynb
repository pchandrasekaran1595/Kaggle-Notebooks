{
 "cells": [
  {
   "cell_type": "code",
   "execution_count": 1,
   "id": "e54d4ccf",
   "metadata": {
    "_cell_guid": "b1076dfc-b9ad-4769-8c92-a6c4dae69d19",
    "_uuid": "8f2839f25d086af736a60e9eeb907d3b93b6e0e5",
    "execution": {
     "iopub.execute_input": "2022-07-05T11:13:29.582211Z",
     "iopub.status.busy": "2022-07-05T11:13:29.581076Z",
     "iopub.status.idle": "2022-07-05T11:13:41.755817Z",
     "shell.execute_reply": "2022-07-05T11:13:41.753645Z"
    },
    "papermill": {
     "duration": 12.185769,
     "end_time": "2022-07-05T11:13:41.759290",
     "exception": false,
     "start_time": "2022-07-05T11:13:29.573521",
     "status": "completed"
    },
    "tags": []
   },
   "outputs": [
    {
     "name": "stderr",
     "output_type": "stream",
     "text": [
      "WARNING: Running pip as the 'root' user can result in broken permissions and conflicting behaviour with the system package manager. It is recommended to use a virtual environment instead: https://pip.pypa.io/warnings/venv\n"
     ]
    }
   ],
   "source": [
    "%%bash\n",
    "pip install pyyaml -q"
   ]
  },
  {
   "cell_type": "code",
   "execution_count": 2,
   "id": "99d26856",
   "metadata": {
    "execution": {
     "iopub.execute_input": "2022-07-05T11:13:41.771367Z",
     "iopub.status.busy": "2022-07-05T11:13:41.770874Z",
     "iopub.status.idle": "2022-07-05T11:13:42.052119Z",
     "shell.execute_reply": "2022-07-05T11:13:42.050717Z"
    },
    "papermill": {
     "duration": 0.29074,
     "end_time": "2022-07-05T11:13:42.055082",
     "exception": false,
     "start_time": "2022-07-05T11:13:41.764342",
     "status": "completed"
    },
    "tags": []
   },
   "outputs": [],
   "source": [
    "import os\n",
    "import cv2\n",
    "import yaml\n",
    "import random as r\n",
    "import numpy as np\n",
    "from yaml.loader import SafeLoader\n",
    "\n",
    "BASE_PATH: str = \"../input/playing-cards-object-detection-dataset\""
   ]
  },
  {
   "cell_type": "code",
   "execution_count": 3,
   "id": "a75094dd",
   "metadata": {
    "execution": {
     "iopub.execute_input": "2022-07-05T11:13:42.067161Z",
     "iopub.status.busy": "2022-07-05T11:13:42.066119Z",
     "iopub.status.idle": "2022-07-05T11:13:43.622590Z",
     "shell.execute_reply": "2022-07-05T11:13:43.621420Z"
    },
    "papermill": {
     "duration": 1.565643,
     "end_time": "2022-07-05T11:13:43.625460",
     "exception": false,
     "start_time": "2022-07-05T11:13:42.059817",
     "status": "completed"
    },
    "tags": []
   },
   "outputs": [],
   "source": [
    "for folder_name in [\"train\", \"valid\", \"test\"]:\n",
    "\n",
    "    img_filenames = [filename[:-4] for filename in sorted(os.listdir(BASE_PATH + f\"/{folder_name}/images\"))]\n",
    "    txt_filenames = [filename[:-4] for filename in sorted(os.listdir(BASE_PATH + f\"/{folder_name}/labels\"))]\n",
    "\n",
    "    assert img_filenames == txt_filenames, f\"{folder_name} Failure\""
   ]
  },
  {
   "cell_type": "code",
   "execution_count": 4,
   "id": "93154b1b",
   "metadata": {
    "execution": {
     "iopub.execute_input": "2022-07-05T11:13:43.638724Z",
     "iopub.status.busy": "2022-07-05T11:13:43.637462Z",
     "iopub.status.idle": "2022-07-05T11:13:43.653866Z",
     "shell.execute_reply": "2022-07-05T11:13:43.652661Z"
    },
    "papermill": {
     "duration": 0.025975,
     "end_time": "2022-07-05T11:13:43.656673",
     "exception": false,
     "start_time": "2022-07-05T11:13:43.630698",
     "status": "completed"
    },
    "tags": []
   },
   "outputs": [],
   "source": [
    "with open(\"../input/playing-cards-object-detection-dataset/data.yaml\") as f:\n",
    "    yaml_data = yaml.load(f, Loader=SafeLoader)\n",
    "class_names = yaml_data[\"names\"]"
   ]
  },
  {
   "cell_type": "code",
   "execution_count": 5,
   "id": "6429a7ec",
   "metadata": {
    "execution": {
     "iopub.execute_input": "2022-07-05T11:13:43.668105Z",
     "iopub.status.busy": "2022-07-05T11:13:43.667377Z",
     "iopub.status.idle": "2022-07-05T11:13:43.702113Z",
     "shell.execute_reply": "2022-07-05T11:13:43.700963Z"
    },
    "papermill": {
     "duration": 0.043775,
     "end_time": "2022-07-05T11:13:43.705033",
     "exception": false,
     "start_time": "2022-07-05T11:13:43.661258",
     "status": "completed"
    },
    "tags": []
   },
   "outputs": [
    {
     "data": {
      "text/plain": [
       "[['47',\n",
       "  '0.15384615384615385',\n",
       "  '0.43509615384615385',\n",
       "  '0.09975961538461539',\n",
       "  '0.06370192307692307'],\n",
       " ['11',\n",
       "  '0.2091346153846154',\n",
       "  '0.33774038461538464',\n",
       "  '0.09615384615384616',\n",
       "  '0.07932692307692307'],\n",
       " ['14',\n",
       "  '0.2800480769230769',\n",
       "  '0.2692307692307692',\n",
       "  '0.07211538461538461',\n",
       "  '0.078125'],\n",
       " ['14',\n",
       "  '0.6983173076923077',\n",
       "  '0.32211538461538464',\n",
       "  '0.07692307692307693',\n",
       "  '0.078125']]"
      ]
     },
     "execution_count": 5,
     "metadata": {},
     "output_type": "execute_result"
    }
   ],
   "source": [
    "# with open(\"../input/playing-cards-object-detection-dataset/train/labels/000090528_jpg.rf.d50e89610e5c97c61632c290692f3e75.txt\") as f:\n",
    "\n",
    "path = \"../input/playing-cards-object-detection-dataset/train/labels\"\n",
    "name = os.listdir(path)[r.randint(0, len(os.listdir(path))-1)]\n",
    "\n",
    "with open(os.path.join(path, name)) as f:\n",
    "    data = f.read()\n",
    "    \n",
    "data = [data_item.split(\" \") for data_item in data.split(\"\\n\")]\n",
    "data"
   ]
  },
  {
   "cell_type": "markdown",
   "id": "5f8f7eff",
   "metadata": {
    "papermill": {
     "duration": 0.004709,
     "end_time": "2022-07-05T11:13:43.714648",
     "exception": false,
     "start_time": "2022-07-05T11:13:43.709939",
     "status": "completed"
    },
    "tags": []
   },
   "source": [
    "### **Dataset and DataLoader Analysis**"
   ]
  },
  {
   "cell_type": "code",
   "execution_count": 6,
   "id": "1bfa17aa",
   "metadata": {
    "execution": {
     "iopub.execute_input": "2022-07-05T11:13:43.726299Z",
     "iopub.status.busy": "2022-07-05T11:13:43.725503Z",
     "iopub.status.idle": "2022-07-05T11:13:46.168963Z",
     "shell.execute_reply": "2022-07-05T11:13:46.167552Z"
    },
    "papermill": {
     "duration": 2.452791,
     "end_time": "2022-07-05T11:13:46.172114",
     "exception": false,
     "start_time": "2022-07-05T11:13:43.719323",
     "status": "completed"
    },
    "tags": []
   },
   "outputs": [],
   "source": [
    "import torch\n",
    "\n",
    "from torch.utils.data import Dataset\n",
    "from torch.utils.data import DataLoader as DL\n",
    "\n",
    "from torchvision import transforms\n",
    "from torch.nn.utils.rnn import pad_sequence"
   ]
  },
  {
   "cell_type": "code",
   "execution_count": 7,
   "id": "772b7c50",
   "metadata": {
    "execution": {
     "iopub.execute_input": "2022-07-05T11:13:46.184642Z",
     "iopub.status.busy": "2022-07-05T11:13:46.183812Z",
     "iopub.status.idle": "2022-07-05T11:13:46.191904Z",
     "shell.execute_reply": "2022-07-05T11:13:46.190249Z"
    },
    "papermill": {
     "duration": 0.017672,
     "end_time": "2022-07-05T11:13:46.194505",
     "exception": false,
     "start_time": "2022-07-05T11:13:46.176833",
     "status": "completed"
    },
    "tags": []
   },
   "outputs": [],
   "source": [
    "def get_image(path: str, size: int=224) -> np.ndarray:\n",
    "    image = cv2.imread(path, cv2.IMREAD_COLOR)\n",
    "    image = cv2.cvtColor(src=image, code=cv2.COLOR_BGR2RGB)\n",
    "    image = cv2.resize(src=image, dsize=(size, size), interpolation=cv2.INTER_AREA)\n",
    "    return image"
   ]
  },
  {
   "cell_type": "code",
   "execution_count": 8,
   "id": "81e98513",
   "metadata": {
    "execution": {
     "iopub.execute_input": "2022-07-05T11:13:46.206835Z",
     "iopub.status.busy": "2022-07-05T11:13:46.206294Z",
     "iopub.status.idle": "2022-07-05T11:13:46.218791Z",
     "shell.execute_reply": "2022-07-05T11:13:46.217764Z"
    },
    "papermill": {
     "duration": 0.021561,
     "end_time": "2022-07-05T11:13:46.221255",
     "exception": false,
     "start_time": "2022-07-05T11:13:46.199694",
     "status": "completed"
    },
    "tags": []
   },
   "outputs": [],
   "source": [
    "class DS(Dataset):\n",
    "    def __init__(\n",
    "        self, \n",
    "        base_path: str=\"../input/playing-cards-object-detection-dataset/valid/images\",\n",
    "        filenames: np.ndarray=None, \n",
    "        labels: list=None, \n",
    "        bboxes: list=None,\n",
    "        size: int=224,\n",
    "        transform: transforms=transforms.Compose([transforms.ToTensor(),])\n",
    "    ):\n",
    "        self.base_path = base_path\n",
    "        self.filenames = filenames\n",
    "        self.labels = labels\n",
    "        self.bboxes = bboxes\n",
    "        self.size = size\n",
    "        self.transform = transform\n",
    "    \n",
    "    def __len__(self):\n",
    "        return self.filenames.shape[0]\n",
    "\n",
    "    def __getitem__(self, idx):\n",
    "        image = get_image(os.path.join(self.base_path, self.filenames[idx] + \".jpg\"), self.size)\n",
    "        if self.transform:\n",
    "            image = self.transform(image)\n",
    "        label = torch.LongTensor(self.labels[idx])\n",
    "        bbox  = torch.FloatTensor(self.bboxes[idx])\n",
    "        \n",
    "        return image, label, bbox"
   ]
  },
  {
   "cell_type": "code",
   "execution_count": 9,
   "id": "93ceb221",
   "metadata": {
    "execution": {
     "iopub.execute_input": "2022-07-05T11:13:46.233783Z",
     "iopub.status.busy": "2022-07-05T11:13:46.232890Z",
     "iopub.status.idle": "2022-07-05T11:14:04.648856Z",
     "shell.execute_reply": "2022-07-05T11:14:04.647382Z"
    },
    "papermill": {
     "duration": 18.426009,
     "end_time": "2022-07-05T11:14:04.652299",
     "exception": false,
     "start_time": "2022-07-05T11:13:46.226290",
     "status": "completed"
    },
    "tags": []
   },
   "outputs": [],
   "source": [
    "path = \"../input/playing-cards-object-detection-dataset/valid/labels\"\n",
    "names = np.array([name[:-4] for name in sorted(os.listdir(path))])\n",
    "\n",
    "final_classes: list = []\n",
    "final_bboxes : list = []\n",
    "        \n",
    "for name in names:\n",
    "    classes: list = []\n",
    "    bboxes: list  = []\n",
    "    with open(os.path.join(path, name + \".txt\")) as f:\n",
    "        data = f.read()\n",
    "    \n",
    "    data = [data_item.split(\" \") for data_item in data.split(\"\\n\")]\n",
    "    \n",
    "    for item in data:\n",
    "        classes.append(int(item[0]))\n",
    "        bboxes.append([\n",
    "            float(item[1]), \n",
    "            float(item[2]), \n",
    "            float(item[3]), \n",
    "            float(item[4]),\n",
    "        ])\n",
    "    \n",
    "    final_classes.append(classes)\n",
    "    final_bboxes.append(bboxes) "
   ]
  },
  {
   "cell_type": "code",
   "execution_count": 10,
   "id": "cc5f8943",
   "metadata": {
    "execution": {
     "iopub.execute_input": "2022-07-05T11:14:04.664609Z",
     "iopub.status.busy": "2022-07-05T11:14:04.664142Z",
     "iopub.status.idle": "2022-07-05T11:14:04.672901Z",
     "shell.execute_reply": "2022-07-05T11:14:04.671258Z"
    },
    "papermill": {
     "duration": 0.017567,
     "end_time": "2022-07-05T11:14:04.675307",
     "exception": false,
     "start_time": "2022-07-05T11:14:04.657740",
     "status": "completed"
    },
    "tags": []
   },
   "outputs": [],
   "source": [
    "def my_collate_fn(batch):\n",
    "    label_list: list = []\n",
    "    bbox_list: list  = []\n",
    "    images = torch.FloatTensor(len(batch), 3, 224, 224)\n",
    "    \n",
    "    i = 0\n",
    "    for image_, label_, box_ in batch:\n",
    "        images[i] = image_\n",
    "        label_list.append(label_)\n",
    "        bbox_list.append(box_)       \n",
    "    \n",
    "    label_list = pad_sequence(label_list, batch_first=True, padding_value=99)\n",
    "    bbox_list = pad_sequence(bbox_list, batch_first=True, padding_value=99)\n",
    "\n",
    "    return images, label_list, bbox_list"
   ]
  },
  {
   "cell_type": "code",
   "execution_count": 11,
   "id": "3647d8bb",
   "metadata": {
    "execution": {
     "iopub.execute_input": "2022-07-05T11:14:04.687200Z",
     "iopub.status.busy": "2022-07-05T11:14:04.686253Z",
     "iopub.status.idle": "2022-07-05T11:14:04.694518Z",
     "shell.execute_reply": "2022-07-05T11:14:04.693087Z"
    },
    "papermill": {
     "duration": 0.017133,
     "end_time": "2022-07-05T11:14:04.697453",
     "exception": false,
     "start_time": "2022-07-05T11:14:04.680320",
     "status": "completed"
    },
    "tags": []
   },
   "outputs": [],
   "source": [
    "va_data_setup = DS(filenames=names, labels=final_classes, bboxes=final_bboxes)\n",
    "va_data = DL(va_data_setup, batch_size=16, shuffle=False, collate_fn=my_collate_fn)"
   ]
  },
  {
   "cell_type": "code",
   "execution_count": 12,
   "id": "1a85c6b1",
   "metadata": {
    "execution": {
     "iopub.execute_input": "2022-07-05T11:14:04.708908Z",
     "iopub.status.busy": "2022-07-05T11:14:04.708441Z",
     "iopub.status.idle": "2022-07-05T11:14:04.991396Z",
     "shell.execute_reply": "2022-07-05T11:14:04.989354Z"
    },
    "papermill": {
     "duration": 0.292268,
     "end_time": "2022-07-05T11:14:04.994399",
     "exception": false,
     "start_time": "2022-07-05T11:14:04.702131",
     "status": "completed"
    },
    "tags": []
   },
   "outputs": [
    {
     "name": "stdout",
     "output_type": "stream",
     "text": [
      "imgs.shape    : torch.Size([16, 3, 224, 224])\n",
      "imgs[0].shape : torch.Size([3, 224, 224])\n",
      "lbls.shape    : torch.Size([16, 4])\n",
      "bbxs.shape    : torch.Size([16, 4, 4])\n"
     ]
    }
   ],
   "source": [
    "imgs, lbls, bbxs = next(iter(va_data))\n",
    "\n",
    "print(f\"imgs.shape    : {imgs.shape}\")\n",
    "print(f\"imgs[0].shape : {imgs[0].shape}\")\n",
    "print(f\"lbls.shape    : {lbls.shape}\")\n",
    "print(f\"bbxs.shape    : {bbxs.shape}\")"
   ]
  }
 ],
 "metadata": {
  "kernelspec": {
   "display_name": "Python 3",
   "language": "python",
   "name": "python3"
  },
  "language_info": {
   "codemirror_mode": {
    "name": "ipython",
    "version": 3
   },
   "file_extension": ".py",
   "mimetype": "text/x-python",
   "name": "python",
   "nbconvert_exporter": "python",
   "pygments_lexer": "ipython3",
   "version": "3.7.12"
  },
  "papermill": {
   "default_parameters": {},
   "duration": 47.305045,
   "end_time": "2022-07-05T11:14:06.031786",
   "environment_variables": {},
   "exception": null,
   "input_path": "__notebook__.ipynb",
   "output_path": "__notebook__.ipynb",
   "parameters": {},
   "start_time": "2022-07-05T11:13:18.726741",
   "version": "2.3.4"
  }
 },
 "nbformat": 4,
 "nbformat_minor": 5
}
