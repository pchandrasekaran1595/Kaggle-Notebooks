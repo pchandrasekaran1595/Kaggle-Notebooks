{
 "cells": [
  {
   "cell_type": "code",
   "execution_count": 1,
   "id": "0b25781b",
   "metadata": {
    "_cell_guid": "b1076dfc-b9ad-4769-8c92-a6c4dae69d19",
    "_uuid": "8f2839f25d086af736a60e9eeb907d3b93b6e0e5",
    "execution": {
     "iopub.execute_input": "2022-07-05T13:18:34.556386Z",
     "iopub.status.busy": "2022-07-05T13:18:34.555390Z",
     "iopub.status.idle": "2022-07-05T13:18:46.490392Z",
     "shell.execute_reply": "2022-07-05T13:18:46.489025Z"
    },
    "papermill": {
     "duration": 11.947496,
     "end_time": "2022-07-05T13:18:46.493455",
     "exception": false,
     "start_time": "2022-07-05T13:18:34.545959",
     "status": "completed"
    },
    "tags": []
   },
   "outputs": [
    {
     "name": "stderr",
     "output_type": "stream",
     "text": [
      "WARNING: Running pip as the 'root' user can result in broken permissions and conflicting behaviour with the system package manager. It is recommended to use a virtual environment instead: https://pip.pypa.io/warnings/venv\n"
     ]
    }
   ],
   "source": [
    "%%bash\n",
    "pip install pyyaml -q"
   ]
  },
  {
   "cell_type": "code",
   "execution_count": 2,
   "id": "8263a546",
   "metadata": {
    "execution": {
     "iopub.execute_input": "2022-07-05T13:18:46.508677Z",
     "iopub.status.busy": "2022-07-05T13:18:46.508295Z",
     "iopub.status.idle": "2022-07-05T13:18:46.779799Z",
     "shell.execute_reply": "2022-07-05T13:18:46.778333Z"
    },
    "papermill": {
     "duration": 0.282749,
     "end_time": "2022-07-05T13:18:46.782805",
     "exception": false,
     "start_time": "2022-07-05T13:18:46.500056",
     "status": "completed"
    },
    "tags": []
   },
   "outputs": [],
   "source": [
    "import os\n",
    "import cv2\n",
    "import yaml\n",
    "import random as r\n",
    "import numpy as np\n",
    "import pandas as pd\n",
    "from yaml.loader import SafeLoader\n",
    "\n",
    "BASE_PATH: str = \"../input/playing-cards-object-detection-dataset\"\n",
    "    \n",
    "def breaker(num: int=50, char: str=\"*\") -> None:\n",
    "    print(\"\\n\" + num*char + \"\\n\")"
   ]
  },
  {
   "cell_type": "code",
   "execution_count": 3,
   "id": "eb2cda34",
   "metadata": {
    "execution": {
     "iopub.execute_input": "2022-07-05T13:18:46.797683Z",
     "iopub.status.busy": "2022-07-05T13:18:46.797284Z",
     "iopub.status.idle": "2022-07-05T13:18:51.641405Z",
     "shell.execute_reply": "2022-07-05T13:18:51.640266Z"
    },
    "papermill": {
     "duration": 4.855396,
     "end_time": "2022-07-05T13:18:51.644763",
     "exception": false,
     "start_time": "2022-07-05T13:18:46.789367",
     "status": "completed"
    },
    "tags": []
   },
   "outputs": [],
   "source": [
    "for folder_name in [\"train\", \"valid\", \"test\"]:\n",
    "\n",
    "    img_filenames = [filename[:-4] for filename in sorted(os.listdir(BASE_PATH + f\"/{folder_name}/images\"))]\n",
    "    txt_filenames = [filename[:-4] for filename in sorted(os.listdir(BASE_PATH + f\"/{folder_name}/labels\"))]\n",
    "\n",
    "    assert img_filenames == txt_filenames, f\"{folder_name} Failure\""
   ]
  },
  {
   "cell_type": "code",
   "execution_count": 4,
   "id": "c205e4b2",
   "metadata": {
    "execution": {
     "iopub.execute_input": "2022-07-05T13:18:51.660609Z",
     "iopub.status.busy": "2022-07-05T13:18:51.660001Z",
     "iopub.status.idle": "2022-07-05T13:18:51.685739Z",
     "shell.execute_reply": "2022-07-05T13:18:51.684911Z"
    },
    "papermill": {
     "duration": 0.036263,
     "end_time": "2022-07-05T13:18:51.688317",
     "exception": false,
     "start_time": "2022-07-05T13:18:51.652054",
     "status": "completed"
    },
    "tags": []
   },
   "outputs": [],
   "source": [
    "with open(\"../input/playing-cards-object-detection-dataset/data.yaml\") as f:\n",
    "    yaml_data = yaml.load(f, Loader=SafeLoader)\n",
    "class_names = yaml_data[\"names\"]"
   ]
  },
  {
   "cell_type": "code",
   "execution_count": 5,
   "id": "75c37eba",
   "metadata": {
    "execution": {
     "iopub.execute_input": "2022-07-05T13:18:51.703005Z",
     "iopub.status.busy": "2022-07-05T13:18:51.702265Z",
     "iopub.status.idle": "2022-07-05T13:18:51.736190Z",
     "shell.execute_reply": "2022-07-05T13:18:51.735202Z"
    },
    "papermill": {
     "duration": 0.043993,
     "end_time": "2022-07-05T13:18:51.738560",
     "exception": false,
     "start_time": "2022-07-05T13:18:51.694567",
     "status": "completed"
    },
    "tags": []
   },
   "outputs": [
    {
     "data": {
      "text/plain": [
       "[['22',\n",
       "  '0.41947115384615385',\n",
       "  '0.4579326923076923',\n",
       "  '0.06129807692307692',\n",
       "  '0.04567307692307692'],\n",
       " ['26',\n",
       "  '0.43990384615384615',\n",
       "  '0.5096153846153846',\n",
       "  '0.06610576923076923',\n",
       "  '0.04447115384615385'],\n",
       " ['12',\n",
       "  '0.44711538461538464',\n",
       "  '0.6057692307692307',\n",
       "  '0.06850961538461539',\n",
       "  '0.03365384615384615'],\n",
       " ['12', '0.234375', '0.78125', '0.06850961538461539', '0.03245192307692308']]"
      ]
     },
     "execution_count": 5,
     "metadata": {},
     "output_type": "execute_result"
    }
   ],
   "source": [
    "# with open(\"../input/playing-cards-object-detection-dataset/train/labels/000090528_jpg.rf.d50e89610e5c97c61632c290692f3e75.txt\") as f:\n",
    "\n",
    "path = \"../input/playing-cards-object-detection-dataset/train/labels\"\n",
    "name = os.listdir(path)[r.randint(0, len(os.listdir(path))-1)]\n",
    "\n",
    "with open(os.path.join(path, name)) as f:\n",
    "    data = f.read()\n",
    "    \n",
    "data = [data_item.split(\" \") for data_item in data.split(\"\\n\")]\n",
    "data"
   ]
  },
  {
   "cell_type": "code",
   "execution_count": 6,
   "id": "fc4c5a51",
   "metadata": {
    "execution": {
     "iopub.execute_input": "2022-07-05T13:18:51.753151Z",
     "iopub.status.busy": "2022-07-05T13:18:51.752449Z",
     "iopub.status.idle": "2022-07-05T13:21:35.313615Z",
     "shell.execute_reply": "2022-07-05T13:21:35.312339Z"
    },
    "papermill": {
     "duration": 163.57167,
     "end_time": "2022-07-05T13:21:35.316614",
     "exception": false,
     "start_time": "2022-07-05T13:18:51.744944",
     "status": "completed"
    },
    "tags": []
   },
   "outputs": [],
   "source": [
    "for folder_name in [\"train\", \"valid\", \"test\"]:\n",
    "\n",
    "    df = pd.DataFrame(data=None, columns=[\"names\", \"classes\", \"bounding_boxes\"])\n",
    "    path = f\"../input/playing-cards-object-detection-dataset/{folder_name}/labels\"\n",
    "    names = np.array([name[:-4] for name in sorted(os.listdir(path))])\n",
    "\n",
    "    final_classes: list = []\n",
    "    final_bboxes : list = []\n",
    "\n",
    "    for name in names:\n",
    "        classes: list = []\n",
    "        bboxes: list  = []\n",
    "        with open(os.path.join(path, name + \".txt\")) as f:\n",
    "            data = f.read()\n",
    "\n",
    "        data = [data_item.split(\" \") for data_item in data.split(\"\\n\")]\n",
    "\n",
    "        for item in data:\n",
    "            classes.append(int(item[0]))\n",
    "            bboxes.append([\n",
    "                float(item[1]), \n",
    "                float(item[2]), \n",
    "                float(item[3]), \n",
    "                float(item[4]),\n",
    "            ])\n",
    "\n",
    "        final_classes.append(classes)\n",
    "        final_bboxes.append(bboxes) \n",
    "        \n",
    "    df.split = folder_name\n",
    "    df.names = names\n",
    "    df.classes = final_classes\n",
    "    df.bounding_boxes = final_bboxes\n",
    "    df.to_csv(f\"{folder_name}.csv\", index=False)"
   ]
  },
  {
   "cell_type": "markdown",
   "id": "cdba29f9",
   "metadata": {
    "papermill": {
     "duration": 0.006051,
     "end_time": "2022-07-05T13:21:35.329776",
     "exception": false,
     "start_time": "2022-07-05T13:21:35.323725",
     "status": "completed"
    },
    "tags": []
   },
   "source": [
    "### **Dataset and DataLoader Analysis**"
   ]
  },
  {
   "cell_type": "code",
   "execution_count": 7,
   "id": "3c47745a",
   "metadata": {
    "execution": {
     "iopub.execute_input": "2022-07-05T13:21:35.344761Z",
     "iopub.status.busy": "2022-07-05T13:21:35.343651Z",
     "iopub.status.idle": "2022-07-05T13:21:37.687848Z",
     "shell.execute_reply": "2022-07-05T13:21:37.686563Z"
    },
    "papermill": {
     "duration": 2.354597,
     "end_time": "2022-07-05T13:21:37.690622",
     "exception": false,
     "start_time": "2022-07-05T13:21:35.336025",
     "status": "completed"
    },
    "tags": []
   },
   "outputs": [],
   "source": [
    "import torch\n",
    "\n",
    "from torch.utils.data import Dataset\n",
    "from torch.utils.data import DataLoader as DL\n",
    "\n",
    "from torchvision import transforms\n",
    "from torch.nn.utils.rnn import pad_sequence"
   ]
  },
  {
   "cell_type": "code",
   "execution_count": 8,
   "id": "765298ec",
   "metadata": {
    "execution": {
     "iopub.execute_input": "2022-07-05T13:21:37.705203Z",
     "iopub.status.busy": "2022-07-05T13:21:37.704578Z",
     "iopub.status.idle": "2022-07-05T13:21:37.712140Z",
     "shell.execute_reply": "2022-07-05T13:21:37.710556Z"
    },
    "papermill": {
     "duration": 0.017932,
     "end_time": "2022-07-05T13:21:37.714957",
     "exception": false,
     "start_time": "2022-07-05T13:21:37.697025",
     "status": "completed"
    },
    "tags": []
   },
   "outputs": [],
   "source": [
    "def get_image(path: str, size: int=224) -> np.ndarray:\n",
    "    image = cv2.imread(path, cv2.IMREAD_COLOR)\n",
    "    image = cv2.cvtColor(src=image, code=cv2.COLOR_BGR2RGB)\n",
    "    image = cv2.resize(src=image, dsize=(size, size), interpolation=cv2.INTER_AREA)\n",
    "    return image"
   ]
  },
  {
   "cell_type": "code",
   "execution_count": 9,
   "id": "f7d4440b",
   "metadata": {
    "execution": {
     "iopub.execute_input": "2022-07-05T13:21:37.729717Z",
     "iopub.status.busy": "2022-07-05T13:21:37.729296Z",
     "iopub.status.idle": "2022-07-05T13:21:37.741441Z",
     "shell.execute_reply": "2022-07-05T13:21:37.740178Z"
    },
    "papermill": {
     "duration": 0.02224,
     "end_time": "2022-07-05T13:21:37.743944",
     "exception": false,
     "start_time": "2022-07-05T13:21:37.721704",
     "status": "completed"
    },
    "tags": []
   },
   "outputs": [],
   "source": [
    "class DS(Dataset):\n",
    "    def __init__(\n",
    "        self, \n",
    "        base_path: str=\"../input/playing-cards-object-detection-dataset/valid/images\",\n",
    "        filenames: np.ndarray=None, \n",
    "        labels: list=None, \n",
    "        bboxes: list=None,\n",
    "        size: int=224,\n",
    "        transform: transforms=transforms.Compose([transforms.ToTensor(),])\n",
    "    ):\n",
    "        self.base_path = base_path\n",
    "        self.filenames = filenames\n",
    "        self.labels = labels\n",
    "        self.bboxes = bboxes\n",
    "        self.size = size\n",
    "        self.transform = transform\n",
    "    \n",
    "    def __len__(self):\n",
    "        return self.filenames.shape[0]\n",
    "\n",
    "    def __getitem__(self, idx):\n",
    "        image = get_image(os.path.join(self.base_path, self.filenames[idx] + \".jpg\"), self.size)\n",
    "        if self.transform:\n",
    "            image = self.transform(image)\n",
    "        label = torch.LongTensor(self.labels[idx])\n",
    "        bbox  = torch.FloatTensor(self.bboxes[idx])\n",
    "        \n",
    "        return image, label, bbox"
   ]
  },
  {
   "cell_type": "code",
   "execution_count": 10,
   "id": "ce155a8a",
   "metadata": {
    "execution": {
     "iopub.execute_input": "2022-07-05T13:21:37.760643Z",
     "iopub.status.busy": "2022-07-05T13:21:37.759307Z",
     "iopub.status.idle": "2022-07-05T13:21:37.767846Z",
     "shell.execute_reply": "2022-07-05T13:21:37.766557Z"
    },
    "papermill": {
     "duration": 0.019287,
     "end_time": "2022-07-05T13:21:37.770273",
     "exception": false,
     "start_time": "2022-07-05T13:21:37.750986",
     "status": "completed"
    },
    "tags": []
   },
   "outputs": [],
   "source": [
    "def my_collate_fn(batch):\n",
    "    label_list: list = []\n",
    "    bbox_list: list  = []\n",
    "    images = torch.FloatTensor(len(batch), 3, 224, 224)\n",
    "    \n",
    "    i = 0\n",
    "    for image_, label_, box_ in batch:\n",
    "        images[i] = image_\n",
    "        label_list.append(label_)\n",
    "        bbox_list.append(box_)       \n",
    "    \n",
    "    label_list = pad_sequence(label_list, batch_first=True, padding_value=53)\n",
    "    bbox_list = pad_sequence(bbox_list, batch_first=True, padding_value=0)\n",
    "\n",
    "    return images, label_list, bbox_list"
   ]
  },
  {
   "cell_type": "code",
   "execution_count": 11,
   "id": "15134dd0",
   "metadata": {
    "execution": {
     "iopub.execute_input": "2022-07-05T13:21:37.784917Z",
     "iopub.status.busy": "2022-07-05T13:21:37.784515Z",
     "iopub.status.idle": "2022-07-05T13:21:37.797371Z",
     "shell.execute_reply": "2022-07-05T13:21:37.796377Z"
    },
    "papermill": {
     "duration": 0.023153,
     "end_time": "2022-07-05T13:21:37.799852",
     "exception": false,
     "start_time": "2022-07-05T13:21:37.776699",
     "status": "completed"
    },
    "tags": []
   },
   "outputs": [],
   "source": [
    "path = f\"../input/playing-cards-object-detection-dataset/valid/labels\"\n",
    "names = np.array([name[:-4] for name in sorted(os.listdir(path))])\n",
    "\n",
    "va_data_setup = DS(filenames=names, labels=final_classes, bboxes=final_bboxes)\n",
    "va_data = DL(va_data_setup, batch_size=16, shuffle=False, collate_fn=my_collate_fn)"
   ]
  },
  {
   "cell_type": "code",
   "execution_count": 12,
   "id": "b97c48d6",
   "metadata": {
    "execution": {
     "iopub.execute_input": "2022-07-05T13:21:37.815251Z",
     "iopub.status.busy": "2022-07-05T13:21:37.814257Z",
     "iopub.status.idle": "2022-07-05T13:21:38.147300Z",
     "shell.execute_reply": "2022-07-05T13:21:38.145540Z"
    },
    "papermill": {
     "duration": 0.343944,
     "end_time": "2022-07-05T13:21:38.150562",
     "exception": false,
     "start_time": "2022-07-05T13:21:37.806618",
     "status": "completed"
    },
    "tags": []
   },
   "outputs": [
    {
     "name": "stdout",
     "output_type": "stream",
     "text": [
      "imgs.shape    : torch.Size([16, 3, 224, 224])\n",
      "imgs[0].shape : torch.Size([3, 224, 224])\n",
      "lbls.shape    : torch.Size([16, 4])\n",
      "bbxs.shape    : torch.Size([16, 4, 4])\n"
     ]
    }
   ],
   "source": [
    "imgs, lbls, bbxs = next(iter(va_data))\n",
    "\n",
    "print(f\"imgs.shape    : {imgs.shape}\")\n",
    "print(f\"imgs[0].shape : {imgs[0].shape}\")\n",
    "print(f\"lbls.shape    : {lbls.shape}\")\n",
    "print(f\"bbxs.shape    : {bbxs.shape}\")"
   ]
  },
  {
   "cell_type": "markdown",
   "id": "6eee96a3",
   "metadata": {
    "papermill": {
     "duration": 0.006092,
     "end_time": "2022-07-05T13:21:38.164026",
     "exception": false,
     "start_time": "2022-07-05T13:21:38.157934",
     "status": "completed"
    },
    "tags": []
   },
   "source": [
    "### **Statistics**"
   ]
  },
  {
   "cell_type": "code",
   "execution_count": 13,
   "id": "8b02faa4",
   "metadata": {
    "execution": {
     "iopub.execute_input": "2022-07-05T13:21:38.179438Z",
     "iopub.status.busy": "2022-07-05T13:21:38.178749Z",
     "iopub.status.idle": "2022-07-05T13:21:38.198688Z",
     "shell.execute_reply": "2022-07-05T13:21:38.197711Z"
    },
    "papermill": {
     "duration": 0.030575,
     "end_time": "2022-07-05T13:21:38.201669",
     "exception": false,
     "start_time": "2022-07-05T13:21:38.171094",
     "status": "completed"
    },
    "tags": []
   },
   "outputs": [],
   "source": [
    "def get_statistics(path: str) -> dict:\n",
    "\n",
    "    sizes = [224, 384, 512]\n",
    "    stats: dict = dict()\n",
    "    means: dict = dict()\n",
    "    stds: dict  = dict()\n",
    "\n",
    "    for size in sizes:\n",
    "        r_mean, g_mean, b_mean, r_std, g_std, b_std = 0.0, 0.0, 0.0, 0.0, 0.0, 0.0\n",
    "        for name in os.listdir(path):\n",
    "            image = get_image(os.path.join(path, name), size)\n",
    "            r_mean += image[:, :, 0].mean()\n",
    "            g_mean += image[:, :, 1].mean()\n",
    "            b_mean += image[:, :, 2].mean()\n",
    "            r_std += image[:, :, 0].std()\n",
    "            g_std += image[:, :, 1].std()\n",
    "            b_std += image[:, :, 2].std()\n",
    "\n",
    "        means[f\"{size}\"] = [\n",
    "            r_mean / len(os.listdir(path)) / 255, \n",
    "            g_mean / len(os.listdir(path)) / 255, \n",
    "            b_mean / len(os.listdir(path)) / 255,\n",
    "        ]\n",
    "        stds[f\"{size}\"]  = [\n",
    "            r_std / len(os.listdir(path)) / 255, \n",
    "            g_std / len(os.listdir(path)) / 255, \n",
    "            b_std / len(os.listdir(path)) / 255,\n",
    "        ]\n",
    "\n",
    "    stats[\"means\"] = means\n",
    "    stats[\"stds\"] = stds\n",
    "    \n",
    "    return stats\n",
    "\n",
    "\n",
    "def print_statistics(stats: dict) -> None:\n",
    "    breaker()\n",
    "    print(\"Means\".upper())\n",
    "    breaker()\n",
    "    for k, v in stats[\"means\"].items():\n",
    "        print(f\"{k} x {k} Means\\n\")\n",
    "        for i in range(len(v)):\n",
    "            if i == 0:\n",
    "                print(f\"Red   : {v[i]:.5f}\")\n",
    "            if i == 1:\n",
    "                print(f\"Green : {v[i]:.5f}\")\n",
    "            if i == 2:\n",
    "                print(f\"Blue  : {v[i]:.5f}\")\n",
    "        breaker()\n",
    "\n",
    "    print(\"\\n\\n\\n\")\n",
    "\n",
    "    breaker()\n",
    "    print(\"Stds\".upper())\n",
    "    breaker()\n",
    "    for k, v in stats[\"stds\"].items():\n",
    "        print(f\"{k} x {k} Stds\\n\")\n",
    "        for i in range(len(v)):\n",
    "            if i == 0:\n",
    "                print(f\"Red   : {v[i]:.5f}\")\n",
    "            if i == 1:\n",
    "                print(f\"Green : {v[i]:.5f}\")\n",
    "            if i == 2:\n",
    "                print(f\"Blue  : {v[i]:.5f}\")\n",
    "        breaker()"
   ]
  },
  {
   "cell_type": "markdown",
   "id": "b4a775f2",
   "metadata": {
    "papermill": {
     "duration": 0.006089,
     "end_time": "2022-07-05T13:21:38.214050",
     "exception": false,
     "start_time": "2022-07-05T13:21:38.207961",
     "status": "completed"
    },
    "tags": []
   },
   "source": [
    "**Train**"
   ]
  },
  {
   "cell_type": "code",
   "execution_count": 14,
   "id": "9bf7a20f",
   "metadata": {
    "execution": {
     "iopub.execute_input": "2022-07-05T13:21:38.228530Z",
     "iopub.status.busy": "2022-07-05T13:21:38.228127Z",
     "iopub.status.idle": "2022-07-05T13:30:16.766887Z",
     "shell.execute_reply": "2022-07-05T13:30:16.765566Z"
    },
    "papermill": {
     "duration": 518.556372,
     "end_time": "2022-07-05T13:30:16.776708",
     "exception": false,
     "start_time": "2022-07-05T13:21:38.220336",
     "status": "completed"
    },
    "tags": []
   },
   "outputs": [
    {
     "name": "stdout",
     "output_type": "stream",
     "text": [
      "\n",
      "**************************************************\n",
      "\n",
      "MEANS\n",
      "\n",
      "**************************************************\n",
      "\n",
      "224 x 224 Means\n",
      "\n",
      "Red   : 0.55440\n",
      "Green : 0.49272\n",
      "Blue  : 0.44704\n",
      "\n",
      "**************************************************\n",
      "\n",
      "384 x 384 Means\n",
      "\n",
      "Red   : 0.55440\n",
      "Green : 0.49272\n",
      "Blue  : 0.44704\n",
      "\n",
      "**************************************************\n",
      "\n",
      "512 x 512 Means\n",
      "\n",
      "Red   : 0.55405\n",
      "Green : 0.49238\n",
      "Blue  : 0.44669\n",
      "\n",
      "**************************************************\n",
      "\n",
      "\n",
      "\n",
      "\n",
      "\n",
      "\n",
      "**************************************************\n",
      "\n",
      "STDS\n",
      "\n",
      "**************************************************\n",
      "\n",
      "224 x 224 Stds\n",
      "\n",
      "Red   : 0.19316\n",
      "Green : 0.19301\n",
      "Blue  : 0.19653\n",
      "\n",
      "**************************************************\n",
      "\n",
      "384 x 384 Stds\n",
      "\n",
      "Red   : 0.19614\n",
      "Green : 0.19604\n",
      "Blue  : 0.19948\n",
      "\n",
      "**************************************************\n",
      "\n",
      "512 x 512 Stds\n",
      "\n",
      "Red   : 0.19712\n",
      "Green : 0.19704\n",
      "Blue  : 0.20045\n",
      "\n",
      "**************************************************\n",
      "\n"
     ]
    }
   ],
   "source": [
    "path = \"../input/playing-cards-object-detection-dataset/train/images\"\n",
    "\n",
    "stats = get_statistics(path)\n",
    "print_statistics(stats)"
   ]
  },
  {
   "cell_type": "markdown",
   "id": "f2eb802c",
   "metadata": {
    "papermill": {
     "duration": 0.006097,
     "end_time": "2022-07-05T13:30:16.789515",
     "exception": false,
     "start_time": "2022-07-05T13:30:16.783418",
     "status": "completed"
    },
    "tags": []
   },
   "source": [
    "**Valid**"
   ]
  },
  {
   "cell_type": "code",
   "execution_count": 15,
   "id": "bdeb303e",
   "metadata": {
    "execution": {
     "iopub.execute_input": "2022-07-05T13:30:16.805146Z",
     "iopub.status.busy": "2022-07-05T13:30:16.804736Z",
     "iopub.status.idle": "2022-07-05T13:32:43.150642Z",
     "shell.execute_reply": "2022-07-05T13:32:43.149343Z"
    },
    "papermill": {
     "duration": 146.363125,
     "end_time": "2022-07-05T13:32:43.159092",
     "exception": false,
     "start_time": "2022-07-05T13:30:16.795967",
     "status": "completed"
    },
    "tags": []
   },
   "outputs": [
    {
     "name": "stdout",
     "output_type": "stream",
     "text": [
      "\n",
      "**************************************************\n",
      "\n",
      "MEANS\n",
      "\n",
      "**************************************************\n",
      "\n",
      "224 x 224 Means\n",
      "\n",
      "Red   : 0.55624\n",
      "Green : 0.49625\n",
      "Blue  : 0.45093\n",
      "\n",
      "**************************************************\n",
      "\n",
      "384 x 384 Means\n",
      "\n",
      "Red   : 0.55624\n",
      "Green : 0.49625\n",
      "Blue  : 0.45093\n",
      "\n",
      "**************************************************\n",
      "\n",
      "512 x 512 Means\n",
      "\n",
      "Red   : 0.55589\n",
      "Green : 0.49590\n",
      "Blue  : 0.45059\n",
      "\n",
      "**************************************************\n",
      "\n",
      "\n",
      "\n",
      "\n",
      "\n",
      "\n",
      "**************************************************\n",
      "\n",
      "STDS\n",
      "\n",
      "**************************************************\n",
      "\n",
      "224 x 224 Stds\n",
      "\n",
      "Red   : 0.19386\n",
      "Green : 0.19374\n",
      "Blue  : 0.19746\n",
      "\n",
      "**************************************************\n",
      "\n",
      "384 x 384 Stds\n",
      "\n",
      "Red   : 0.19695\n",
      "Green : 0.19689\n",
      "Blue  : 0.20052\n",
      "\n",
      "**************************************************\n",
      "\n",
      "512 x 512 Stds\n",
      "\n",
      "Red   : 0.19797\n",
      "Green : 0.19792\n",
      "Blue  : 0.20152\n",
      "\n",
      "**************************************************\n",
      "\n"
     ]
    }
   ],
   "source": [
    "path = \"../input/playing-cards-object-detection-dataset/valid/images\"\n",
    "\n",
    "stats = get_statistics(path)\n",
    "print_statistics(stats)"
   ]
  },
  {
   "cell_type": "markdown",
   "id": "acb0e87a",
   "metadata": {
    "papermill": {
     "duration": 0.006514,
     "end_time": "2022-07-05T13:32:43.172177",
     "exception": false,
     "start_time": "2022-07-05T13:32:43.165663",
     "status": "completed"
    },
    "tags": []
   },
   "source": [
    "**Test**"
   ]
  },
  {
   "cell_type": "code",
   "execution_count": 16,
   "id": "3dc02074",
   "metadata": {
    "execution": {
     "iopub.execute_input": "2022-07-05T13:32:43.187016Z",
     "iopub.status.busy": "2022-07-05T13:32:43.186585Z",
     "iopub.status.idle": "2022-07-05T13:33:56.652946Z",
     "shell.execute_reply": "2022-07-05T13:33:56.651738Z"
    },
    "papermill": {
     "duration": 73.483956,
     "end_time": "2022-07-05T13:33:56.662766",
     "exception": false,
     "start_time": "2022-07-05T13:32:43.178810",
     "status": "completed"
    },
    "tags": []
   },
   "outputs": [
    {
     "name": "stdout",
     "output_type": "stream",
     "text": [
      "\n",
      "**************************************************\n",
      "\n",
      "MEANS\n",
      "\n",
      "**************************************************\n",
      "\n",
      "224 x 224 Means\n",
      "\n",
      "Red   : 0.55492\n",
      "Green : 0.49802\n",
      "Blue  : 0.45294\n",
      "\n",
      "**************************************************\n",
      "\n",
      "384 x 384 Means\n",
      "\n",
      "Red   : 0.55492\n",
      "Green : 0.49802\n",
      "Blue  : 0.45294\n",
      "\n",
      "**************************************************\n",
      "\n",
      "512 x 512 Means\n",
      "\n",
      "Red   : 0.55458\n",
      "Green : 0.49767\n",
      "Blue  : 0.45260\n",
      "\n",
      "**************************************************\n",
      "\n",
      "\n",
      "\n",
      "\n",
      "\n",
      "\n",
      "**************************************************\n",
      "\n",
      "STDS\n",
      "\n",
      "**************************************************\n",
      "\n",
      "224 x 224 Stds\n",
      "\n",
      "Red   : 0.19541\n",
      "Green : 0.19503\n",
      "Blue  : 0.19883\n",
      "\n",
      "**************************************************\n",
      "\n",
      "384 x 384 Stds\n",
      "\n",
      "Red   : 0.19837\n",
      "Green : 0.19806\n",
      "Blue  : 0.20179\n",
      "\n",
      "**************************************************\n",
      "\n",
      "512 x 512 Stds\n",
      "\n",
      "Red   : 0.19935\n",
      "Green : 0.19905\n",
      "Blue  : 0.20276\n",
      "\n",
      "**************************************************\n",
      "\n"
     ]
    }
   ],
   "source": [
    "path = \"../input/playing-cards-object-detection-dataset/test/images\"\n",
    "\n",
    "stats = get_statistics(path)\n",
    "print_statistics(stats)"
   ]
  }
 ],
 "metadata": {
  "kernelspec": {
   "display_name": "Python 3",
   "language": "python",
   "name": "python3"
  },
  "language_info": {
   "codemirror_mode": {
    "name": "ipython",
    "version": 3
   },
   "file_extension": ".py",
   "mimetype": "text/x-python",
   "name": "python",
   "nbconvert_exporter": "python",
   "pygments_lexer": "ipython3",
   "version": "3.7.12"
  },
  "papermill": {
   "default_parameters": {},
   "duration": 933.9232,
   "end_time": "2022-07-05T13:33:57.595489",
   "environment_variables": {},
   "exception": null,
   "input_path": "__notebook__.ipynb",
   "output_path": "__notebook__.ipynb",
   "parameters": {},
   "start_time": "2022-07-05T13:18:23.672289",
   "version": "2.3.4"
  }
 },
 "nbformat": 4,
 "nbformat_minor": 5
}
