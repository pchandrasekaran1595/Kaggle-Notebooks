{
 "cells": [
  {
   "cell_type": "code",
   "execution_count": 1,
   "id": "c7c6fb87",
   "metadata": {
    "_cell_guid": "b1076dfc-b9ad-4769-8c92-a6c4dae69d19",
    "_uuid": "8f2839f25d086af736a60e9eeb907d3b93b6e0e5",
    "execution": {
     "iopub.execute_input": "2022-07-12T19:29:22.214945Z",
     "iopub.status.busy": "2022-07-12T19:29:22.214475Z",
     "iopub.status.idle": "2022-07-12T19:29:57.435018Z",
     "shell.execute_reply": "2022-07-12T19:29:57.433422Z"
    },
    "papermill": {
     "duration": 35.232014,
     "end_time": "2022-07-12T19:29:57.439775",
     "exception": false,
     "start_time": "2022-07-12T19:29:22.207761",
     "status": "completed"
    },
    "tags": []
   },
   "outputs": [
    {
     "name": "stderr",
     "output_type": "stream",
     "text": [
      "WARNING: Running pip as the 'root' user can result in broken permissions and conflicting behaviour with the system package manager. It is recommended to use a virtual environment instead: https://pip.pypa.io/warnings/venv\n",
      "WARNING: Running pip as the 'root' user can result in broken permissions and conflicting behaviour with the system package manager. It is recommended to use a virtual environment instead: https://pip.pypa.io/warnings/venv\n",
      "WARNING: Running pip as the 'root' user can result in broken permissions and conflicting behaviour with the system package manager. It is recommended to use a virtual environment instead: https://pip.pypa.io/warnings/venv\n"
     ]
    }
   ],
   "source": [
    "%%bash\n",
    "pip install timm -q\n",
    "pip install onnx -q\n",
    "pip install onnxruntime -q"
   ]
  },
  {
   "cell_type": "code",
   "execution_count": 2,
   "id": "bbfd6311",
   "metadata": {
    "execution": {
     "iopub.execute_input": "2022-07-12T19:29:57.449333Z",
     "iopub.status.busy": "2022-07-12T19:29:57.448878Z",
     "iopub.status.idle": "2022-07-12T19:30:11.164588Z",
     "shell.execute_reply": "2022-07-12T19:30:11.163112Z"
    },
    "papermill": {
     "duration": 13.723971,
     "end_time": "2022-07-12T19:30:11.167588",
     "exception": false,
     "start_time": "2022-07-12T19:29:57.443617",
     "status": "completed"
    },
    "tags": []
   },
   "outputs": [],
   "source": [
    "import os\n",
    "import sys\n",
    "import cv2\n",
    "import onnx\n",
    "import timm\n",
    "import torch\n",
    "import random as r\n",
    "import numpy as np\n",
    "import pandas as pd\n",
    "import onnxruntime as ort\n",
    "\n",
    "from torchvision import models, transforms\n",
    "from IPython.display import clear_output\n",
    "\n",
    "import warnings\n",
    "warnings.filterwarnings(\"ignore\")"
   ]
  },
  {
   "cell_type": "code",
   "execution_count": 3,
   "id": "ec28c224",
   "metadata": {
    "execution": {
     "iopub.execute_input": "2022-07-12T19:30:11.177675Z",
     "iopub.status.busy": "2022-07-12T19:30:11.176602Z",
     "iopub.status.idle": "2022-07-12T19:30:11.185344Z",
     "shell.execute_reply": "2022-07-12T19:30:11.184191Z"
    },
    "papermill": {
     "duration": 0.016622,
     "end_time": "2022-07-12T19:30:11.187917",
     "exception": false,
     "start_time": "2022-07-12T19:30:11.171295",
     "status": "completed"
    },
    "tags": []
   },
   "outputs": [],
   "source": [
    "def breaker() -> None:\n",
    "    print(\"\\n\" + 50*\"*\" + \"\\n\")\n",
    "\n",
    "    \n",
    "def get_image(path: str, size: int=224) -> np.ndarray:\n",
    "    image = cv2.imread(path, cv2.IMREAD_COLOR)\n",
    "    image = cv2.cvtColor(src=image, code=cv2.COLOR_BGR2RGB)\n",
    "    return cv2.resize(src=image, dsize=(size, size), interpolation=cv2.INTER_AREA)"
   ]
  },
  {
   "cell_type": "code",
   "execution_count": 4,
   "id": "9b2ac4a2",
   "metadata": {
    "execution": {
     "iopub.execute_input": "2022-07-12T19:30:11.196963Z",
     "iopub.status.busy": "2022-07-12T19:30:11.196552Z",
     "iopub.status.idle": "2022-07-12T19:30:11.207248Z",
     "shell.execute_reply": "2022-07-12T19:30:11.205942Z"
    },
    "papermill": {
     "duration": 0.018205,
     "end_time": "2022-07-12T19:30:11.209763",
     "exception": false,
     "start_time": "2022-07-12T19:30:11.191558",
     "status": "completed"
    },
    "tags": []
   },
   "outputs": [],
   "source": [
    "class Model(torch.nn.Module):\n",
    "    def __init__(self):\n",
    "        super(Model, self).__init__()\n",
    "        \n",
    "        self.model = timm.create_model(model_name=\"efficientnet_b2\")\n",
    "        self.model.classifier = torch.nn.Linear(in_features=self.model.classifier.in_features, out_features=11)\n",
    "\n",
    "    def forward(self, x):\n",
    "        return self.model(x)\n",
    "\n",
    "\n",
    "class CFG(object):  \n",
    "    def __init__(self, \n",
    "             in_channels: int=3, \n",
    "             size: int=256, \n",
    "             opset_version: int=9, \n",
    "             path: str=None):\n",
    "        self.in_channels = in_channels\n",
    "        self.size = size\n",
    "        self.dummy = torch.randn(1, self.in_channels, self.size, self.size)\n",
    "        self.opset_version = opset_version\n",
    "        self.path = path"
   ]
  },
  {
   "cell_type": "code",
   "execution_count": 5,
   "id": "72ad082c",
   "metadata": {
    "execution": {
     "iopub.execute_input": "2022-07-12T19:30:11.219393Z",
     "iopub.status.busy": "2022-07-12T19:30:11.218524Z",
     "iopub.status.idle": "2022-07-12T19:30:13.011361Z",
     "shell.execute_reply": "2022-07-12T19:30:13.010364Z"
    },
    "papermill": {
     "duration": 1.800318,
     "end_time": "2022-07-12T19:30:13.013750",
     "exception": false,
     "start_time": "2022-07-12T19:30:11.213432",
     "status": "completed"
    },
    "tags": []
   },
   "outputs": [
    {
     "name": "stdout",
     "output_type": "stream",
     "text": [
      "\n",
      "**************************************************\n",
      "\n",
      "Model size: 29.694 MB\n",
      "\n",
      "**************************************************\n",
      "\n"
     ]
    }
   ],
   "source": [
    "cfg = CFG(\n",
    "    in_channels=3, \n",
    "    size=384, \n",
    "    opset_version=13, \n",
    "    path=\"../input/wic-en2-a384/saves/efficientnet_b2_ble_state_fold_1.pt\"\n",
    ")\n",
    "\n",
    "\n",
    "model = Model()\n",
    "model.load_state_dict(torch.load(cfg.path, map_location=torch.device(\"cpu\"))[\"model_state_dict\"])\n",
    "model.eval()\n",
    "\n",
    "clear_output()\n",
    "\n",
    "param_size = 0\n",
    "for param in model.parameters():\n",
    "    param_size += param.nelement() * param.element_size()\n",
    "\n",
    "buffer_size = 0\n",
    "for buffer in model.buffers():\n",
    "    buffer_size += buffer.nelement() * buffer.element_size()\n",
    "\n",
    "size_all_mb = (param_size + buffer_size) / 1024**2\n",
    "\n",
    "breaker()\n",
    "print(f\"Model size: {size_all_mb:.3f} MB\")\n",
    "breaker()"
   ]
  },
  {
   "cell_type": "code",
   "execution_count": 6,
   "id": "f29c2c76",
   "metadata": {
    "execution": {
     "iopub.execute_input": "2022-07-12T19:30:13.023938Z",
     "iopub.status.busy": "2022-07-12T19:30:13.023326Z",
     "iopub.status.idle": "2022-07-12T19:30:27.596770Z",
     "shell.execute_reply": "2022-07-12T19:30:27.595732Z"
    },
    "papermill": {
     "duration": 14.581477,
     "end_time": "2022-07-12T19:30:27.599332",
     "exception": false,
     "start_time": "2022-07-12T19:30:13.017855",
     "status": "completed"
    },
    "tags": []
   },
   "outputs": [],
   "source": [
    "torch.onnx.export(\n",
    "    model=model, \n",
    "    args=cfg.dummy, \n",
    "    f=\"en2-f1.onnx\", \n",
    "    input_names=[\"input\"], \n",
    "    output_names=[\"output\"], \n",
    "    opset_version=cfg.opset_version,\n",
    "    export_params=True,\n",
    "    training=torch.onnx.TrainingMode.EVAL,\n",
    "    operator_export_type=torch.onnx.OperatorExportTypes.ONNX_ATEN_FALLBACK,\n",
    "    dynamic_axes={\n",
    "      \"input\"  : {0 : \"batch_size\"},\n",
    "      \"output\" : {0 : \"batch_size\"},\n",
    "    }\n",
    ")"
   ]
  },
  {
   "cell_type": "code",
   "execution_count": 7,
   "id": "f7c5b3da",
   "metadata": {
    "execution": {
     "iopub.execute_input": "2022-07-12T19:30:27.609581Z",
     "iopub.status.busy": "2022-07-12T19:30:27.608961Z",
     "iopub.status.idle": "2022-07-12T19:30:27.797816Z",
     "shell.execute_reply": "2022-07-12T19:30:27.796921Z"
    },
    "papermill": {
     "duration": 0.197492,
     "end_time": "2022-07-12T19:30:27.800801",
     "exception": false,
     "start_time": "2022-07-12T19:30:27.603309",
     "status": "completed"
    },
    "tags": []
   },
   "outputs": [],
   "source": [
    "class OnnxModel(object):\n",
    "    def __init__(self) -> None:\n",
    "        self.ort_session = None\n",
    "        self.size: int = 384\n",
    "            \n",
    "        # self.mean: list = [0.5, 0.5, 0.5]\n",
    "        # self.std: list  = [0.5, 0.5, 0.5]\n",
    "        \n",
    "        self.mean: list = [0.51684, 0.52503, 0.50567]\n",
    "        self.std: list  = [0.19350, 0.18743, 0.19404]\n",
    "        \n",
    "        self.path: str = \"en2-f1.onnx\"\n",
    "        self.labels = {\n",
    "            \"0\" : \"dew\",\n",
    "            \"1\" : \"fogsmog\",\n",
    "            \"2\" : \"frost\",\n",
    "            \"3\" : \"glaze\",\n",
    "            \"4\" : \"hail\",\n",
    "            \"5\" : \"lightning\",\n",
    "            \"6\" : \"rain\",\n",
    "            \"7\" : \"rainbow\",\n",
    "            \"8\" : \"rime\",\n",
    "            \"9\" : \"sandstorm\",\n",
    "            \"10\" : \"snow\",\n",
    "        }\n",
    "        ort.set_default_logger_severity(3)\n",
    "    \n",
    "    def setup(self) -> None:\n",
    "        model = onnx.load(self.path)\n",
    "        onnx.checker.check_model(model)\n",
    "        self.ort_session = ort.InferenceSession(self.path)\n",
    "    \n",
    "    def infer(self, image: np.ndarray) -> np.ndarray:\n",
    "        h, w, _ = image.shape\n",
    "\n",
    "        image = image / 255\n",
    "        image = cv2.resize(src=image, dsize=(self.size, self.size), interpolation=cv2.INTER_AREA).transpose(2, 0, 1)\n",
    "        for i in range(image.shape[0]):\n",
    "            image[i, :, :] = (image[i, :, :] - self.mean[i]) / self.std[i]\n",
    "            # image[i, :, :] = (image[i, :, :] - image[i, :, :].mean()) / mage[i, :, :].std()\n",
    "        image = np.expand_dims(image, axis=0)\n",
    "        input = {self.ort_session.get_inputs()[0].name : image.astype(\"float32\")}\n",
    "        return self.labels[str(np.argmax(self.ort_session.run(None, input)))].title()\n",
    "\n",
    "    \n",
    "onnx_model = OnnxModel()\n",
    "onnx_model.setup()"
   ]
  },
  {
   "cell_type": "code",
   "execution_count": 8,
   "id": "fc1543e1",
   "metadata": {
    "execution": {
     "iopub.execute_input": "2022-07-12T19:30:27.810672Z",
     "iopub.status.busy": "2022-07-12T19:30:27.809454Z",
     "iopub.status.idle": "2022-07-12T19:30:30.043116Z",
     "shell.execute_reply": "2022-07-12T19:30:30.041869Z"
    },
    "papermill": {
     "duration": 2.241185,
     "end_time": "2022-07-12T19:30:30.045614",
     "exception": false,
     "start_time": "2022-07-12T19:30:27.804429",
     "status": "completed"
    },
    "tags": []
   },
   "outputs": [
    {
     "name": "stdout",
     "output_type": "stream",
     "text": [
      "\n",
      "**************************************************\n",
      "\n",
      "Actual     : Glaze\n",
      "Predcition : Glaze\n",
      "\n",
      "**************************************************\n",
      "\n",
      "Actual     : Frost\n",
      "Predcition : Frost\n",
      "\n",
      "**************************************************\n",
      "\n",
      "Actual     : Sandstorm\n",
      "Predcition : Sandstorm\n",
      "\n",
      "**************************************************\n",
      "\n",
      "Actual     : Glaze\n",
      "Predcition : Glaze\n",
      "\n",
      "**************************************************\n",
      "\n",
      "Actual     : Dew\n",
      "Predcition : Dew\n",
      "\n",
      "**************************************************\n",
      "\n",
      "Actual     : Glaze\n",
      "Predcition : Glaze\n",
      "\n",
      "**************************************************\n",
      "\n",
      "Actual     : Rime\n",
      "Predcition : Rime\n",
      "\n",
      "**************************************************\n",
      "\n",
      "Actual     : Rime\n",
      "Predcition : Rime\n",
      "\n",
      "**************************************************\n",
      "\n",
      "Actual     : Rime\n",
      "Predcition : Rime\n",
      "\n",
      "**************************************************\n",
      "\n",
      "Actual     : Lightning\n",
      "Predcition : Lightning\n",
      "\n",
      "**************************************************\n",
      "\n"
     ]
    }
   ],
   "source": [
    "df = pd.read_csv(\"../input/wic-dataframe/data.csv\")\n",
    "\n",
    "breaker()\n",
    "for _ in range(10):\n",
    "    index = r.randint(0, df.shape[0] - 1)\n",
    "\n",
    "    folder_name = df.folder_names[index]\n",
    "    filename = df.filenames[index]\n",
    "\n",
    "    image = get_image(f\"../input/weather-dataset/dataset/{folder_name}/{filename}\", cfg.size)\n",
    "\n",
    "    label = onnx_model.infer(image)\n",
    "\n",
    "    print(f\"Actual     : {folder_name.title()}\")\n",
    "    print(f\"Predcition : {label}\")\n",
    "    breaker()"
   ]
  }
 ],
 "metadata": {
  "kernelspec": {
   "display_name": "Python 3",
   "language": "python",
   "name": "python3"
  },
  "language_info": {
   "codemirror_mode": {
    "name": "ipython",
    "version": 3
   },
   "file_extension": ".py",
   "mimetype": "text/x-python",
   "name": "python",
   "nbconvert_exporter": "python",
   "pygments_lexer": "ipython3",
   "version": "3.7.12"
  },
  "papermill": {
   "default_parameters": {},
   "duration": 81.842416,
   "end_time": "2022-07-12T19:30:32.979917",
   "environment_variables": {},
   "exception": null,
   "input_path": "__notebook__.ipynb",
   "output_path": "__notebook__.ipynb",
   "parameters": {},
   "start_time": "2022-07-12T19:29:11.137501",
   "version": "2.3.4"
  }
 },
 "nbformat": 4,
 "nbformat_minor": 5
}
