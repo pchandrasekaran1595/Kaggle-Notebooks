{
 "cells": [
  {
   "cell_type": "code",
   "execution_count": 1,
   "id": "039f3d66",
   "metadata": {
    "_cell_guid": "b1076dfc-b9ad-4769-8c92-a6c4dae69d19",
    "_uuid": "8f2839f25d086af736a60e9eeb907d3b93b6e0e5",
    "execution": {
     "iopub.execute_input": "2022-11-06T16:59:34.445638Z",
     "iopub.status.busy": "2022-11-06T16:59:34.444878Z",
     "iopub.status.idle": "2022-11-06T17:00:07.172021Z",
     "shell.execute_reply": "2022-11-06T17:00:07.170509Z"
    },
    "papermill": {
     "duration": 32.737751,
     "end_time": "2022-11-06T17:00:07.176678",
     "exception": false,
     "start_time": "2022-11-06T16:59:34.438927",
     "status": "completed"
    },
    "tags": []
   },
   "outputs": [
    {
     "name": "stderr",
     "output_type": "stream",
     "text": [
      "WARNING: Running pip as the 'root' user can result in broken permissions and conflicting behaviour with the system package manager. It is recommended to use a virtual environment instead: https://pip.pypa.io/warnings/venv\n",
      "WARNING: Running pip as the 'root' user can result in broken permissions and conflicting behaviour with the system package manager. It is recommended to use a virtual environment instead: https://pip.pypa.io/warnings/venv\n",
      "WARNING: Running pip as the 'root' user can result in broken permissions and conflicting behaviour with the system package manager. It is recommended to use a virtual environment instead: https://pip.pypa.io/warnings/venv\n"
     ]
    }
   ],
   "source": [
    "%%bash\n",
    "pip install timm -q\n",
    "pip install onnx -q\n",
    "pip install onnxruntime -q"
   ]
  },
  {
   "cell_type": "code",
   "execution_count": 2,
   "id": "126beacb",
   "metadata": {
    "execution": {
     "iopub.execute_input": "2022-11-06T17:00:07.184984Z",
     "iopub.status.busy": "2022-11-06T17:00:07.184565Z",
     "iopub.status.idle": "2022-11-06T17:00:19.143154Z",
     "shell.execute_reply": "2022-11-06T17:00:19.141671Z"
    },
    "papermill": {
     "duration": 11.966316,
     "end_time": "2022-11-06T17:00:19.146212",
     "exception": false,
     "start_time": "2022-11-06T17:00:07.179896",
     "status": "completed"
    },
    "tags": []
   },
   "outputs": [],
   "source": [
    "import os\n",
    "import sys\n",
    "import cv2\n",
    "import onnx\n",
    "import timm\n",
    "import torch\n",
    "import random as r\n",
    "import numpy as np\n",
    "import pandas as pd\n",
    "import onnxruntime as ort\n",
    "\n",
    "from torchvision import models, transforms\n",
    "from IPython.display import clear_output\n",
    "\n",
    "import warnings\n",
    "warnings.filterwarnings(\"ignore\")"
   ]
  },
  {
   "cell_type": "code",
   "execution_count": 3,
   "id": "3d24556e",
   "metadata": {
    "execution": {
     "iopub.execute_input": "2022-11-06T17:00:19.155435Z",
     "iopub.status.busy": "2022-11-06T17:00:19.154604Z",
     "iopub.status.idle": "2022-11-06T17:00:19.161961Z",
     "shell.execute_reply": "2022-11-06T17:00:19.160828Z"
    },
    "papermill": {
     "duration": 0.014691,
     "end_time": "2022-11-06T17:00:19.164324",
     "exception": false,
     "start_time": "2022-11-06T17:00:19.149633",
     "status": "completed"
    },
    "tags": []
   },
   "outputs": [],
   "source": [
    "def breaker() -> None:\n",
    "    print(\"\\n\" + 50*\"*\" + \"\\n\")\n",
    "\n",
    "    \n",
    "def get_image(path: str, size: int=224) -> np.ndarray:\n",
    "    image = cv2.imread(path, cv2.IMREAD_COLOR)\n",
    "    image = cv2.cvtColor(src=image, code=cv2.COLOR_BGR2RGB)\n",
    "    return cv2.resize(src=image, dsize=(size, size), interpolation=cv2.INTER_AREA)"
   ]
  },
  {
   "cell_type": "code",
   "execution_count": 4,
   "id": "436db0ca",
   "metadata": {
    "execution": {
     "iopub.execute_input": "2022-11-06T17:00:19.172085Z",
     "iopub.status.busy": "2022-11-06T17:00:19.171649Z",
     "iopub.status.idle": "2022-11-06T17:00:19.180573Z",
     "shell.execute_reply": "2022-11-06T17:00:19.179415Z"
    },
    "papermill": {
     "duration": 0.015308,
     "end_time": "2022-11-06T17:00:19.182772",
     "exception": false,
     "start_time": "2022-11-06T17:00:19.167464",
     "status": "completed"
    },
    "tags": []
   },
   "outputs": [],
   "source": [
    "class Model(torch.nn.Module):\n",
    "    def __init__(self):\n",
    "        super(Model, self).__init__()\n",
    "        \n",
    "        self.model = timm.create_model(model_name=\"efficientnet_b4\")\n",
    "        self.model.classifier = torch.nn.Linear(in_features=self.model.classifier.in_features, out_features=11)\n",
    "\n",
    "    def forward(self, x):\n",
    "        return self.model(x)\n",
    "\n",
    "\n",
    "class CFG(object):  \n",
    "    def __init__(self, \n",
    "             in_channels: int=3, \n",
    "             size: int=256, \n",
    "             opset_version: int=9, \n",
    "             path: str=None):\n",
    "        self.in_channels = in_channels\n",
    "        self.size = size\n",
    "        self.dummy = torch.randn(1, self.in_channels, self.size, self.size)\n",
    "        self.opset_version = opset_version\n",
    "        self.path = path"
   ]
  },
  {
   "cell_type": "code",
   "execution_count": 5,
   "id": "7a5d0860",
   "metadata": {
    "execution": {
     "iopub.execute_input": "2022-11-06T17:00:19.190654Z",
     "iopub.status.busy": "2022-11-06T17:00:19.190178Z",
     "iopub.status.idle": "2022-11-06T17:00:22.907763Z",
     "shell.execute_reply": "2022-11-06T17:00:22.906934Z"
    },
    "papermill": {
     "duration": 3.729755,
     "end_time": "2022-11-06T17:00:22.915832",
     "exception": false,
     "start_time": "2022-11-06T17:00:19.186077",
     "status": "completed"
    },
    "tags": []
   },
   "outputs": [
    {
     "name": "stdout",
     "output_type": "stream",
     "text": [
      "\n",
      "**************************************************\n",
      "\n",
      "Model size: 67.496 MB\n",
      "\n",
      "**************************************************\n",
      "\n"
     ]
    }
   ],
   "source": [
    "cfg = CFG(\n",
    "    in_channels=3, \n",
    "    size=384, \n",
    "    opset_version=13, \n",
    "    path=\"../input/wic-en4-a384/saves/ble_state_fold_1.pt\"\n",
    ")\n",
    "\n",
    "\n",
    "model = Model()\n",
    "model.load_state_dict(torch.load(cfg.path, map_location=torch.device(\"cpu\"))[\"model_state_dict\"])\n",
    "model.eval()\n",
    "\n",
    "clear_output()\n",
    "\n",
    "param_size = 0\n",
    "for param in model.parameters():\n",
    "    param_size += param.nelement() * param.element_size()\n",
    "\n",
    "buffer_size = 0\n",
    "for buffer in model.buffers():\n",
    "    buffer_size += buffer.nelement() * buffer.element_size()\n",
    "\n",
    "size_all_mb = (param_size + buffer_size) / 1024**2\n",
    "\n",
    "breaker()\n",
    "print(f\"Model size: {size_all_mb:.3f} MB\")\n",
    "breaker()"
   ]
  },
  {
   "cell_type": "code",
   "execution_count": 6,
   "id": "6babc3da",
   "metadata": {
    "execution": {
     "iopub.execute_input": "2022-11-06T17:00:22.938645Z",
     "iopub.status.busy": "2022-11-06T17:00:22.937702Z",
     "iopub.status.idle": "2022-11-06T17:00:45.241781Z",
     "shell.execute_reply": "2022-11-06T17:00:45.240632Z"
    },
    "papermill": {
     "duration": 22.311158,
     "end_time": "2022-11-06T17:00:45.244479",
     "exception": false,
     "start_time": "2022-11-06T17:00:22.933321",
     "status": "completed"
    },
    "tags": []
   },
   "outputs": [],
   "source": [
    "torch.onnx.export(\n",
    "    model=model, \n",
    "    args=cfg.dummy, \n",
    "    f=\"wic-en4-f1.onnx\", \n",
    "    input_names=[\"input\"], \n",
    "    output_names=[\"output\"], \n",
    "    opset_version=cfg.opset_version,\n",
    "    export_params=True,\n",
    "    training=torch.onnx.TrainingMode.EVAL,\n",
    "    operator_export_type=torch.onnx.OperatorExportTypes.ONNX_ATEN_FALLBACK,\n",
    "    dynamic_axes={\n",
    "      \"input\"  : {0 : \"batch_size\"},\n",
    "      \"output\" : {0 : \"batch_size\"},\n",
    "    }\n",
    ")"
   ]
  },
  {
   "cell_type": "code",
   "execution_count": 7,
   "id": "6aca9433",
   "metadata": {
    "execution": {
     "iopub.execute_input": "2022-11-06T17:00:45.253057Z",
     "iopub.status.busy": "2022-11-06T17:00:45.252285Z",
     "iopub.status.idle": "2022-11-06T17:00:45.513447Z",
     "shell.execute_reply": "2022-11-06T17:00:45.512406Z"
    },
    "papermill": {
     "duration": 0.268479,
     "end_time": "2022-11-06T17:00:45.516375",
     "exception": false,
     "start_time": "2022-11-06T17:00:45.247896",
     "status": "completed"
    },
    "tags": []
   },
   "outputs": [],
   "source": [
    "class OnnxModel(object):\n",
    "    def __init__(self) -> None:\n",
    "        self.ort_session = None\n",
    "        self.size: int = 384\n",
    "            \n",
    "        # self.mean: list = [0.5, 0.5, 0.5]\n",
    "        # self.std: list  = [0.5, 0.5, 0.5]\n",
    "        \n",
    "        self.mean: list = [0.51684, 0.52503, 0.50567]\n",
    "        self.std: list  = [0.19350, 0.18743, 0.19404]\n",
    "        \n",
    "        self.path: str = \"wic-en4-f1.onnx\"\n",
    "        self.labels = {\n",
    "            \"0\" : \"dew\",\n",
    "            \"1\" : \"fogsmog\",\n",
    "            \"2\" : \"frost\",\n",
    "            \"3\" : \"glaze\",\n",
    "            \"4\" : \"hail\",\n",
    "            \"5\" : \"lightning\",\n",
    "            \"6\" : \"rain\",\n",
    "            \"7\" : \"rainbow\",\n",
    "            \"8\" : \"rime\",\n",
    "            \"9\" : \"sandstorm\",\n",
    "            \"10\" : \"snow\",\n",
    "        }\n",
    "        ort.set_default_logger_severity(3)\n",
    "    \n",
    "    def setup(self) -> None:\n",
    "        model = onnx.load(self.path)\n",
    "        onnx.checker.check_model(model)\n",
    "        self.ort_session = ort.InferenceSession(self.path)\n",
    "    \n",
    "    def infer(self, image: np.ndarray) -> np.ndarray:\n",
    "        h, w, _ = image.shape\n",
    "\n",
    "        image = image / 255\n",
    "        image = cv2.resize(src=image, dsize=(self.size, self.size), interpolation=cv2.INTER_AREA).transpose(2, 0, 1)\n",
    "        for i in range(image.shape[0]): image[i, :, :] = (image[i, :, :] - self.mean[i]) / self.std[i]\n",
    "        image = np.expand_dims(image, axis=0)\n",
    "        input = {self.ort_session.get_inputs()[0].name : image.astype(\"float32\")}\n",
    "        return self.labels[str(np.argmax(self.ort_session.run(None, input)))].title()\n",
    "\n",
    "    \n",
    "onnx_model = OnnxModel()\n",
    "onnx_model.setup()"
   ]
  },
  {
   "cell_type": "code",
   "execution_count": 8,
   "id": "f610d35f",
   "metadata": {
    "execution": {
     "iopub.execute_input": "2022-11-06T17:00:45.526066Z",
     "iopub.status.busy": "2022-11-06T17:00:45.524111Z",
     "iopub.status.idle": "2022-11-06T17:00:49.450760Z",
     "shell.execute_reply": "2022-11-06T17:00:49.449378Z"
    },
    "papermill": {
     "duration": 3.934219,
     "end_time": "2022-11-06T17:00:49.453892",
     "exception": false,
     "start_time": "2022-11-06T17:00:45.519673",
     "status": "completed"
    },
    "tags": []
   },
   "outputs": [
    {
     "name": "stdout",
     "output_type": "stream",
     "text": [
      "\n",
      "**************************************************\n",
      "\n",
      "Actual     : Dew\n",
      "Predcition : Dew\n",
      "\n",
      "**************************************************\n",
      "\n",
      "Actual     : Sandstorm\n",
      "Predcition : Sandstorm\n",
      "\n",
      "**************************************************\n",
      "\n",
      "Actual     : Sandstorm\n",
      "Predcition : Sandstorm\n",
      "\n",
      "**************************************************\n",
      "\n",
      "Actual     : Hail\n",
      "Predcition : Hail\n",
      "\n",
      "**************************************************\n",
      "\n",
      "Actual     : Rime\n",
      "Predcition : Rime\n",
      "\n",
      "**************************************************\n",
      "\n",
      "Actual     : Glaze\n",
      "Predcition : Glaze\n",
      "\n",
      "**************************************************\n",
      "\n",
      "Actual     : Rime\n",
      "Predcition : Rime\n",
      "\n",
      "**************************************************\n",
      "\n",
      "Actual     : Frost\n",
      "Predcition : Frost\n",
      "\n",
      "**************************************************\n",
      "\n",
      "Actual     : Rime\n",
      "Predcition : Rime\n",
      "\n",
      "**************************************************\n",
      "\n",
      "Actual     : Frost\n",
      "Predcition : Frost\n",
      "\n",
      "**************************************************\n",
      "\n"
     ]
    }
   ],
   "source": [
    "df = pd.read_csv(\"../input/wic-dataframe/data.csv\")\n",
    "\n",
    "breaker()\n",
    "for _ in range(10):\n",
    "    index = r.randint(0, df.shape[0] - 1)\n",
    "\n",
    "    folder_name = df.folder_names[index]\n",
    "    filename = df.filenames[index]\n",
    "\n",
    "    image = get_image(f\"../input/weather-dataset/dataset/{folder_name}/{filename}\", cfg.size)\n",
    "\n",
    "    label = onnx_model.infer(image)\n",
    "\n",
    "    print(f\"Actual     : {folder_name.title()}\")\n",
    "    print(f\"Predcition : {label}\")\n",
    "    breaker()"
   ]
  }
 ],
 "metadata": {
  "kernelspec": {
   "display_name": "Python 3",
   "language": "python",
   "name": "python3"
  },
  "language_info": {
   "codemirror_mode": {
    "name": "ipython",
    "version": 3
   },
   "file_extension": ".py",
   "mimetype": "text/x-python",
   "name": "python",
   "nbconvert_exporter": "python",
   "pygments_lexer": "ipython3",
   "version": "3.7.12"
  },
  "papermill": {
   "default_parameters": {},
   "duration": 87.63474,
   "end_time": "2022-11-06T17:00:52.516139",
   "environment_variables": {},
   "exception": null,
   "input_path": "__notebook__.ipynb",
   "output_path": "__notebook__.ipynb",
   "parameters": {},
   "start_time": "2022-11-06T16:59:24.881399",
   "version": "2.3.4"
  }
 },
 "nbformat": 4,
 "nbformat_minor": 5
}
