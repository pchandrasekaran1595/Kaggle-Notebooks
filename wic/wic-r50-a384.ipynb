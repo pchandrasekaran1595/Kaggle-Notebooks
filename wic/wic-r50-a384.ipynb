{
 "cells": [
  {
   "cell_type": "markdown",
   "id": "281a847c",
   "metadata": {
    "_cell_guid": "b1076dfc-b9ad-4769-8c92-a6c4dae69d19",
    "_uuid": "8f2839f25d086af736a60e9eeb907d3b93b6e0e5",
    "papermill": {
     "duration": 0.005495,
     "end_time": "2022-07-11T19:19:01.099330",
     "exception": false,
     "start_time": "2022-07-11T19:19:01.093835",
     "status": "completed"
    },
    "tags": []
   },
   "source": [
    "##### **Setup**"
   ]
  },
  {
   "cell_type": "code",
   "execution_count": 1,
   "id": "1a2df297",
   "metadata": {
    "execution": {
     "iopub.execute_input": "2022-07-11T19:19:01.120431Z",
     "iopub.status.busy": "2022-07-11T19:19:01.118920Z",
     "iopub.status.idle": "2022-07-11T19:19:12.040377Z",
     "shell.execute_reply": "2022-07-11T19:19:12.039265Z"
    },
    "papermill": {
     "duration": 10.937605,
     "end_time": "2022-07-11T19:19:12.042733",
     "exception": false,
     "start_time": "2022-07-11T19:19:01.105128",
     "status": "completed"
    },
    "tags": []
   },
   "outputs": [
    {
     "name": "stderr",
     "output_type": "stream",
     "text": [
      "WARNING: Running pip as the 'root' user can result in broken permissions and conflicting behaviour with the system package manager. It is recommended to use a virtual environment instead: https://pip.pypa.io/warnings/venv\n"
     ]
    }
   ],
   "source": [
    "%%bash\n",
    "pip install timm -q"
   ]
  },
  {
   "cell_type": "markdown",
   "id": "e82db275",
   "metadata": {
    "papermill": {
     "duration": 0.004349,
     "end_time": "2022-07-11T19:19:12.052414",
     "exception": false,
     "start_time": "2022-07-11T19:19:12.048065",
     "status": "completed"
    },
    "tags": []
   },
   "source": [
    "### **Library Imports**"
   ]
  },
  {
   "cell_type": "code",
   "execution_count": 2,
   "id": "a15dae34",
   "metadata": {
    "execution": {
     "iopub.execute_input": "2022-07-11T19:19:12.062601Z",
     "iopub.status.busy": "2022-07-11T19:19:12.062277Z",
     "iopub.status.idle": "2022-07-11T19:19:20.461081Z",
     "shell.execute_reply": "2022-07-11T19:19:20.460016Z"
    },
    "papermill": {
     "duration": 8.406707,
     "end_time": "2022-07-11T19:19:20.463499",
     "exception": false,
     "start_time": "2022-07-11T19:19:12.056792",
     "status": "completed"
    },
    "tags": []
   },
   "outputs": [],
   "source": [
    "import os\n",
    "import re\n",
    "import cv2\n",
    "import timm\n",
    "import torch\n",
    "import numpy as np\n",
    "import pandas as pd\n",
    "import matplotlib.pyplot as plt\n",
    "\n",
    "from time import time\n",
    "from torch import nn, optim\n",
    "from torch.utils.data import Dataset\n",
    "from torch.utils.data import DataLoader as DL\n",
    "from torchvision import models, transforms\n",
    "\n",
    "from sklearn.model_selection import StratifiedKFold\n",
    "from sklearn.preprocessing import LabelEncoder\n",
    "from sklearn.metrics import accuracy_score"
   ]
  },
  {
   "cell_type": "markdown",
   "id": "4a976e4b",
   "metadata": {
    "papermill": {
     "duration": 0.004278,
     "end_time": "2022-07-11T19:19:20.472660",
     "exception": false,
     "start_time": "2022-07-11T19:19:20.468382",
     "status": "completed"
    },
    "tags": []
   },
   "source": [
    "### **Utilities and Helpers**"
   ]
  },
  {
   "cell_type": "code",
   "execution_count": 3,
   "id": "1e4b9729",
   "metadata": {
    "execution": {
     "iopub.execute_input": "2022-07-11T19:19:20.483749Z",
     "iopub.status.busy": "2022-07-11T19:19:20.482954Z",
     "iopub.status.idle": "2022-07-11T19:19:20.498594Z",
     "shell.execute_reply": "2022-07-11T19:19:20.497726Z"
    },
    "papermill": {
     "duration": 0.024099,
     "end_time": "2022-07-11T19:19:20.501148",
     "exception": false,
     "start_time": "2022-07-11T19:19:20.477049",
     "status": "completed"
    },
    "tags": []
   },
   "outputs": [],
   "source": [
    "SEED = 42\n",
    "SIZE = 384\n",
    "le = LabelEncoder()\n",
    "\n",
    "\n",
    "def breaker(num: int=50, char: str=\"*\") -> None:\n",
    "    print(\"\\n\" + num*char + \"\\n\")\n",
    "\n",
    "    \n",
    "def get_image(path: str, size: int=224) -> np.ndarray:\n",
    "    image = cv2.imread(path, cv2.IMREAD_COLOR)\n",
    "    image = cv2.cvtColor(src=image, code=cv2.COLOR_BGR2RGB)\n",
    "    return cv2.resize(src=image, dsize=(size, size), interpolation=cv2.INTER_AREA)\n",
    "\n",
    "    \n",
    "def show_loss_graphs(L: list) -> None:\n",
    "    TL, VL = [], []\n",
    "    for i in range(len(L)):\n",
    "        TL.append(L[i][\"train\"])\n",
    "        VL.append(L[i][\"valid\"])\n",
    "    x_Axis = np.arange(1, len(TL) + 1)\n",
    "    plt.figure()\n",
    "    plt.plot(x_Axis, TL, \"r\", label=\"Train\")\n",
    "    plt.plot(x_Axis, VL, \"b\", label=\"Valid\")\n",
    "    plt.legend()\n",
    "    plt.grid()\n",
    "    plt.title(\"Loss Graph\")\n",
    "    plt.show()\n",
    "\n",
    "    \n",
    "def show_accuracy_graphs(A: list) -> None:\n",
    "    TA, VA = [], []\n",
    "    for i in range(len(A)):\n",
    "        TA.append(A[i][\"train\"])\n",
    "        VA.append(A[i][\"valid\"])\n",
    "    x_Axis = np.arange(1, len(TA) + 1)\n",
    "    plt.figure()\n",
    "    plt.plot(x_Axis, TA, \"r\", label=\"Train\")\n",
    "    plt.plot(x_Axis, VA, \"b\", label=\"Valid\")\n",
    "    plt.legend()\n",
    "    plt.grid()\n",
    "    plt.title(\"Accuracy Graph\")\n",
    "    plt.show()\n",
    "    \n",
    "\n",
    "def show_lr_graph(LR: list) -> None:\n",
    "    x_Axis = [i+1 for i in range(len(LR))]\n",
    "    plt.figure(figsize=(8, 6))\n",
    "    plt.plot(x_Axis, LR, \"rx\")\n",
    "    plt.grid()\n",
    "    plt.show()"
   ]
  },
  {
   "cell_type": "markdown",
   "id": "015371bc",
   "metadata": {
    "papermill": {
     "duration": 0.004359,
     "end_time": "2022-07-11T19:19:20.510325",
     "exception": false,
     "start_time": "2022-07-11T19:19:20.505966",
     "status": "completed"
    },
    "tags": []
   },
   "source": [
    "### **Configuration**"
   ]
  },
  {
   "cell_type": "code",
   "execution_count": 4,
   "id": "30e9163a",
   "metadata": {
    "execution": {
     "iopub.execute_input": "2022-07-11T19:19:20.521836Z",
     "iopub.status.busy": "2022-07-11T19:19:20.520763Z",
     "iopub.status.idle": "2022-07-11T19:19:20.591017Z",
     "shell.execute_reply": "2022-07-11T19:19:20.590027Z"
    },
    "papermill": {
     "duration": 0.078702,
     "end_time": "2022-07-11T19:19:20.593563",
     "exception": false,
     "start_time": "2022-07-11T19:19:20.514861",
     "status": "completed"
    },
    "tags": []
   },
   "outputs": [],
   "source": [
    "class CFG(object):\n",
    "    def __init__(self, \n",
    "                 seed: int = 42,\n",
    "                 size: int = 224,\n",
    "                 n_splits: int = 5,\n",
    "                 batch_size: int = 16,\n",
    "                 epochs: int = 25,\n",
    "                 early_stopping: int = 5,\n",
    "                 lr: float = 1e-4,\n",
    "                 wd: float = 0.0,\n",
    "                 max_lr: float = 1e-3,\n",
    "                 pct_start: float = 0.2,\n",
    "                 steps_per_epoch: int = 100,\n",
    "                 div_factor: int = 1e3, \n",
    "                 final_div_factor: float = 1e3,\n",
    "                 ):\n",
    "        self.seed = seed\n",
    "        self.size = size\n",
    "        self.n_splits = n_splits\n",
    "        self.batch_size = batch_size\n",
    "        self.epochs = epochs\n",
    "        self.early_stopping = early_stopping\n",
    "        self.lr = lr\n",
    "        self.wd = wd\n",
    "        self.max_lr = max_lr\n",
    "        self.pct_start = pct_start\n",
    "        self.steps_per_epoch = steps_per_epoch\n",
    "        self.div_factor = div_factor\n",
    "        self.final_div_factor = final_div_factor\n",
    "        self.device = torch.device(\"cuda\" if torch.cuda.is_available() else \"cpu\")\n",
    "        self.train_transform = transforms.Compose([\n",
    "            transforms.ToTensor(),\n",
    "            transforms.Normalize([0.51684, 0.52503, 0.50567], [0.19350, 0.18743, 0.19404]),\n",
    "            transforms.RandomAffine(degrees=(-45, 45), translate=(0.15, 0.15), scale=(0.5, 1.5)),\n",
    "            transforms.RandomHorizontalFlip(p=0.25),\n",
    "            transforms.RandomVerticalFlip(p=0.25),\n",
    "        ])\n",
    "        self.valid_transform = transforms.Compose([\n",
    "            transforms.ToTensor(),\n",
    "            transforms.Normalize([0.51684, 0.52503, 0.50567], [0.19350, 0.18743, 0.19404]),\n",
    "        ])\n",
    "                                \n",
    "        self.save_path = \"saves\"\n",
    "        if not os.path.exists(self.save_path): os.makedirs(self.save_path)\n",
    "    \n",
    "cfg = CFG(seed=SEED, size=SIZE)"
   ]
  },
  {
   "cell_type": "markdown",
   "id": "8c90bdfe",
   "metadata": {
    "papermill": {
     "duration": 0.004363,
     "end_time": "2022-07-11T19:19:20.603045",
     "exception": false,
     "start_time": "2022-07-11T19:19:20.598682",
     "status": "completed"
    },
    "tags": []
   },
   "source": [
    "### **Dataset Template**"
   ]
  },
  {
   "cell_type": "code",
   "execution_count": 5,
   "id": "ffe48770",
   "metadata": {
    "execution": {
     "iopub.execute_input": "2022-07-11T19:19:20.613849Z",
     "iopub.status.busy": "2022-07-11T19:19:20.613473Z",
     "iopub.status.idle": "2022-07-11T19:19:20.621291Z",
     "shell.execute_reply": "2022-07-11T19:19:20.620300Z"
    },
    "papermill": {
     "duration": 0.01548,
     "end_time": "2022-07-11T19:19:20.623296",
     "exception": false,
     "start_time": "2022-07-11T19:19:20.607816",
     "status": "completed"
    },
    "tags": []
   },
   "outputs": [],
   "source": [
    "class DS(Dataset):\n",
    "    def __init__(\n",
    "        self, \n",
    "        base_path: str,\n",
    "        filenames: np.ndarray, \n",
    "        folder_names: np.ndarray, \n",
    "        labels: np.ndarray, \n",
    "        size: int,\n",
    "        transform=None):\n",
    "        \n",
    "        self.base_path = base_path\n",
    "        self.filenames = filenames\n",
    "        self.folder_names = folder_names\n",
    "        self.labels = labels\n",
    "        self.size = size\n",
    "        self.transform = transform\n",
    "    \n",
    "    def __len__(self):\n",
    "        return self.filenames.shape[0]\n",
    "    \n",
    "    def __getitem__(self, idx):\n",
    "        path = os.path.join(os.path.join(self.base_path, self.folder_names[idx]), self.filenames[idx])\n",
    "        image = get_image(path, self.size)\n",
    "        return self.transform(image), self.labels[idx]"
   ]
  },
  {
   "cell_type": "markdown",
   "id": "dc82bcbe",
   "metadata": {
    "papermill": {
     "duration": 0.004508,
     "end_time": "2022-07-11T19:19:20.632350",
     "exception": false,
     "start_time": "2022-07-11T19:19:20.627842",
     "status": "completed"
    },
    "tags": []
   },
   "source": [
    "### **Model**"
   ]
  },
  {
   "cell_type": "code",
   "execution_count": 6,
   "id": "a9a60889",
   "metadata": {
    "execution": {
     "iopub.execute_input": "2022-07-11T19:19:20.646949Z",
     "iopub.status.busy": "2022-07-11T19:19:20.646454Z",
     "iopub.status.idle": "2022-07-11T19:19:20.663043Z",
     "shell.execute_reply": "2022-07-11T19:19:20.662085Z"
    },
    "papermill": {
     "duration": 0.028275,
     "end_time": "2022-07-11T19:19:20.665424",
     "exception": false,
     "start_time": "2022-07-11T19:19:20.637149",
     "status": "completed"
    },
    "tags": []
   },
   "outputs": [],
   "source": [
    "class Model(nn.Module):\n",
    "    def __init__(self, model_name: str=\"resnet50\"):\n",
    "        super(Model, self).__init__()\n",
    "\n",
    "        if model_name == \"resnet50\":\n",
    "            self.model = models.resnet50(pretrained=True, progress=False)\n",
    "            self.model.fc = nn.Linear(in_features=self.model.fc.in_features, out_features=11)\n",
    "\n",
    "        elif model_name == \"densenet169\":\n",
    "            self.model = models.densenet169(pretrained=True, progress=True)\n",
    "            self.model.classifier = nn.Linear(in_features=self.model.classifier.in_features, out_features=11)\n",
    "\n",
    "        elif model_name == \"densenet201\":\n",
    "            self.model = models.densenet201(pretrained=True, progress=True)\n",
    "            self.model.classifier = nn.Linear(in_features=self.model.classifier.in_features, out_features=11)\n",
    "            \n",
    "        elif model_name == \"tv_densenet121\":\n",
    "            self.model = timm.create_model(model_name=\"tv_densenet121\", pretrained=True)\n",
    "            self.model.classifier = nn.Linear(in_features=self.model.classifier.in_features, out_features=11)\n",
    "            \n",
    "        elif model_name == \"efficientnet_b2\":\n",
    "            self.model = timm.create_model(model_name=model_name, pretrained=True)\n",
    "            self.model.classifier = nn.Linear(in_features=self.model.classifier.in_features, out_features=11)\n",
    "        \n",
    "        else:\n",
    "            raise NotImplementedError(\"Invalid Model Name. Model not currently available\")\n",
    "            \n",
    "    def freeze(self):\n",
    "        for params in self.parameters(): params.requires_grad = False\n",
    "\n",
    "    def forward(self, x):\n",
    "        return nn.LogSoftmax(dim=1)(self.model(x))"
   ]
  },
  {
   "cell_type": "markdown",
   "id": "945d105d",
   "metadata": {
    "papermill": {
     "duration": 0.004285,
     "end_time": "2022-07-11T19:19:20.674401",
     "exception": false,
     "start_time": "2022-07-11T19:19:20.670116",
     "status": "completed"
    },
    "tags": []
   },
   "source": [
    "### **Fit and Predict**"
   ]
  },
  {
   "cell_type": "code",
   "execution_count": 7,
   "id": "6778f7fd",
   "metadata": {
    "execution": {
     "iopub.execute_input": "2022-07-11T19:19:20.685230Z",
     "iopub.status.busy": "2022-07-11T19:19:20.684921Z",
     "iopub.status.idle": "2022-07-11T19:19:20.713312Z",
     "shell.execute_reply": "2022-07-11T19:19:20.712221Z"
    },
    "papermill": {
     "duration": 0.036935,
     "end_time": "2022-07-11T19:19:20.715830",
     "exception": false,
     "start_time": "2022-07-11T19:19:20.678895",
     "status": "completed"
    },
    "tags": []
   },
   "outputs": [],
   "source": [
    "def fit(model=None,\n",
    "        model_name=None,\n",
    "        optimizer=None, \n",
    "        scheduler_rlrop=None,\n",
    "        scheduler_oclr=None,\n",
    "        epochs=None, \n",
    "        early_stopping_patience=None, \n",
    "        dataloaders=None, \n",
    "        fold=None, \n",
    "        save_path=None,\n",
    "        device=None,\n",
    "        verbose=False) -> tuple:\n",
    "    \n",
    "    def get_accuracy(y_pred, y_true):\n",
    "        y_pred = torch.argmax(y_pred, dim=1)\n",
    "        return torch.count_nonzero(y_pred == y_true).item() / len(y_pred)\n",
    "    \n",
    "    \n",
    "    if verbose:\n",
    "        breaker()\n",
    "        print(f\" ----- {model_name.upper()} -----\")\n",
    "        breaker()\n",
    "        if fold: print(f\"Training Fold {fold}...\")\n",
    "        else: print(\"Training ...\")\n",
    "        breaker()\n",
    "        \n",
    "    bestLoss: dict = {\"train\" : np.inf, \"valid\" : np.inf} \n",
    "    bestAccs: dict = {\"train\" : 0.0, \"valid\" : 0.0}\n",
    "    \n",
    "    Losses: list = []\n",
    "    Accuracies: list = [] \n",
    "    LRs: list = []\n",
    "        \n",
    "    if fold: \n",
    "        ble_name = f\"{model_name}_ble_state_fold_{fold}.pt\"\n",
    "        bae_name = f\"{model_name}_bae_state_fold_{fold}.pt\"\n",
    "    else: \n",
    "        ble_name = f\"{model_name}_ble_state.pt\"\n",
    "        bae_name = f\"{model_name}_bae_state.pt\"\n",
    "        \n",
    "    start_time = time()\n",
    "    for e in range(epochs):\n",
    "        e_st = time()\n",
    "        epochLoss: dict = {\"train\" : 0.0, \"valid\" : 0.0} \n",
    "        epochAccs: dict = {\"train\" : 0.0, \"valid\" : 0.0}\n",
    "\n",
    "        for phase in [\"train\", \"valid\"]:\n",
    "            if phase == \"train\":\n",
    "                model.train()\n",
    "            else:\n",
    "                model.eval()\n",
    "            \n",
    "            lossPerPass: list = []\n",
    "            accsPerPass: list = []\n",
    "                \n",
    "            for X, y in dataloaders[phase]:\n",
    "                X, y = X.to(device), y.to(device).view(-1)\n",
    "\n",
    "                optimizer.zero_grad()\n",
    "                with torch.set_grad_enabled(phase == \"train\"):\n",
    "                    output = model(X)\n",
    "                    loss = torch.nn.NLLLoss()(output, y)\n",
    "                    if phase == \"train\":\n",
    "                        loss.backward()\n",
    "                        optimizer.step()\n",
    "                        if scheduler_oclr: scheduler_oclr.step()\n",
    "                lossPerPass.append(loss.item())\n",
    "                accsPerPass.append(get_accuracy(output, y))\n",
    "            epochLoss[phase] = np.mean(np.array(lossPerPass))\n",
    "            epochAccs[phase] = np.mean(np.array(accsPerPass))\n",
    "        if scheduler_oclr: LRs.append(scheduler_oclr.get_last_lr())\n",
    "        Losses.append(epochLoss)\n",
    "        Accuracies.append(epochAccs)\n",
    "        \n",
    "        if scheduler_oclr:\n",
    "            save_dict = {\"model_state_dict\"     : model.state_dict(),\n",
    "                         \"optim_state_dict\"     : optimizer.state_dict(),\n",
    "                         \"scheduler_state_dict\" : scheduler_oclr.state_dict()}\n",
    "        \n",
    "        elif scheduler_rlrop:\n",
    "            save_dict = {\"model_state_dict\"     : model.state_dict(),\n",
    "                         \"optim_state_dict\"     : optimizer.state_dict(),\n",
    "                         \"scheduler_state_dict\" : scheduler_rlrop.state_dict()}\n",
    "        \n",
    "        else:\n",
    "            save_dict = {\"model_state_dict\"     : model.state_dict(),\n",
    "                         \"optim_state_dict\"     : optimizer.state_dict()}\n",
    "        \n",
    "        if early_stopping_patience:\n",
    "            if epochLoss[\"valid\"] < bestLoss[\"valid\"]:\n",
    "                bestLoss = epochLoss\n",
    "                BLE = e + 1\n",
    "                torch.save(save_dict, os.path.join(save_path, ble_name))\n",
    "                torch.save(save_dict, os.path.join(save_path, bae_name))\n",
    "                early_stopping_step = 0\n",
    "            else:\n",
    "                early_stopping_step += 1\n",
    "                if early_stopping_step > early_stopping_patience:\n",
    "                    print(\"\\nEarly Stopping at Epoch {}\".format(e + 1))\n",
    "                    break\n",
    "        \n",
    "        if epochLoss[\"valid\"] < bestLoss[\"valid\"]:\n",
    "            bestLoss = epochLoss\n",
    "            BLE = e + 1\n",
    "            torch.save(save_dict,os.path.join(save_path, ble_name))\n",
    "        \n",
    "        if epochAccs[\"valid\"] > bestAccs[\"valid\"]:\n",
    "            bestAccs = epochAccs\n",
    "            BAE = e + 1\n",
    "            torch.save(save_dict,os.path.join(save_path, bae_name))\n",
    "        \n",
    "        if scheduler_rlrop: scheduler_rlrop.step(epochLoss[\"valid\"])\n",
    "        \n",
    "        if verbose:\n",
    "            print(\"Epoch: {} | Train Loss: {:.5f} | Valid Loss: {:.5f} |\\\n",
    " Train Accs: {:.5f} | Valid Accs: {:.5f} | Time: {:.2f} seconds\".format(e+1, \n",
    "                                                                        epochLoss[\"train\"], epochLoss[\"valid\"], \n",
    "                                                                        epochAccs[\"train\"], epochAccs[\"valid\"], \n",
    "                                                                        time()-e_st))\n",
    "\n",
    "    if verbose:                                           \n",
    "        breaker()\n",
    "        print(f\"Best Validation Loss at Epoch {BLE}\")\n",
    "        breaker()\n",
    "        print(f\"Best Validation Accs at Epoch {BAE}\")\n",
    "        breaker()\n",
    "        print(\"Time Taken [{} Epochs] : {:.2f} minutes\".format(len(Losses), (time()-start_time)/60))\n",
    "    \n",
    "    return Losses, Accuracies, LRs, BLE, BAE, ble_name, bae_name\n",
    "\n",
    "\n",
    "def predict_batch(model=None, dataloader=None, path=None, device=None) -> np.ndarray:\n",
    "    model.load_state_dict(torch.load(path, map_location=device)[\"model_state_dict\"])\n",
    "    model.to(device)    \n",
    "    model.eval()\n",
    "    \n",
    "    y_pred = torch.zeros(1, 1).to(device)\n",
    "    \n",
    "    for X in dataloader:\n",
    "        X = X.to(device)\n",
    "        with torch.no_grad():\n",
    "            output = torch.argmax(torch.exp(model(X)), dim=1)\n",
    "        y_pred = torch.cat((y_pred, output.view(-1, 1)), dim=0)\n",
    "    \n",
    "    return y_pred[1:].detach().cpu().numpy()"
   ]
  },
  {
   "cell_type": "markdown",
   "id": "7c5efa5c",
   "metadata": {
    "papermill": {
     "duration": 0.00462,
     "end_time": "2022-07-11T19:19:20.725275",
     "exception": false,
     "start_time": "2022-07-11T19:19:20.720655",
     "status": "completed"
    },
    "tags": []
   },
   "source": [
    "### **Train**"
   ]
  },
  {
   "cell_type": "code",
   "execution_count": 8,
   "id": "39271ec2",
   "metadata": {
    "execution": {
     "iopub.execute_input": "2022-07-11T19:19:20.735751Z",
     "iopub.status.busy": "2022-07-11T19:19:20.735415Z",
     "iopub.status.idle": "2022-07-11T19:19:20.767546Z",
     "shell.execute_reply": "2022-07-11T19:19:20.766645Z"
    },
    "papermill": {
     "duration": 0.039928,
     "end_time": "2022-07-11T19:19:20.769777",
     "exception": false,
     "start_time": "2022-07-11T19:19:20.729849",
     "status": "completed"
    },
    "tags": []
   },
   "outputs": [],
   "source": [
    "df = pd.read_csv(\"../input/wic-dataframe/data.csv\")\n",
    "\n",
    "filenames = df.filenames.copy().values\n",
    "folder_names = df.folder_names.copy().values\n",
    "labels = df.classes.copy().values"
   ]
  },
  {
   "cell_type": "code",
   "execution_count": 9,
   "id": "51569b74",
   "metadata": {
    "execution": {
     "iopub.execute_input": "2022-07-11T19:19:20.780529Z",
     "iopub.status.busy": "2022-07-11T19:19:20.780233Z",
     "iopub.status.idle": "2022-07-11T22:37:18.359388Z",
     "shell.execute_reply": "2022-07-11T22:37:18.358257Z"
    },
    "papermill": {
     "duration": 11877.586944,
     "end_time": "2022-07-11T22:37:18.361380",
     "exception": false,
     "start_time": "2022-07-11T19:19:20.774436",
     "status": "completed"
    },
    "tags": []
   },
   "outputs": [
    {
     "name": "stderr",
     "output_type": "stream",
     "text": [
      "Downloading: \"https://download.pytorch.org/models/resnet50-0676ba61.pth\" to /root/.cache/torch/hub/checkpoints/resnet50-0676ba61.pth\n"
     ]
    },
    {
     "name": "stdout",
     "output_type": "stream",
     "text": [
      "\n",
      "**************************************************\n",
      "\n",
      " ----- RESNET50 -----\n",
      "\n",
      "**************************************************\n",
      "\n",
      "Training Fold 1...\n",
      "\n",
      "**************************************************\n",
      "\n",
      "Epoch: 1 | Train Loss: 1.40686 | Valid Loss: 0.43873 | Train Accs: 0.56542 | Valid Accs: 0.86119 | Time: 272.73 seconds\n",
      "Epoch: 2 | Train Loss: 0.81196 | Valid Loss: 0.86036 | Train Accs: 0.74034 | Valid Accs: 0.71802 | Time: 212.51 seconds\n",
      "Epoch: 3 | Train Loss: 0.89931 | Valid Loss: 0.85367 | Train Accs: 0.69953 | Valid Accs: 0.75266 | Time: 210.25 seconds\n",
      "Epoch: 4 | Train Loss: 0.94339 | Valid Loss: 1.22180 | Train Accs: 0.68859 | Valid Accs: 0.67611 | Time: 211.61 seconds\n",
      "Epoch: 5 | Train Loss: 0.89586 | Valid Loss: 1.52421 | Train Accs: 0.69934 | Valid Accs: 0.68411 | Time: 212.59 seconds\n",
      "Epoch: 6 | Train Loss: 0.78685 | Valid Loss: 0.81122 | Train Accs: 0.75036 | Valid Accs: 0.75824 | Time: 212.70 seconds\n",
      "\n",
      "Early Stopping at Epoch 7\n",
      "\n",
      "**************************************************\n",
      "\n",
      "Best Validation Loss at Epoch 1\n",
      "\n",
      "**************************************************\n",
      "\n",
      "Best Validation Accs at Epoch 1\n",
      "\n",
      "**************************************************\n",
      "\n",
      "Time Taken [7 Epochs] : 25.76 minutes\n",
      "\n",
      "**************************************************\n",
      "\n"
     ]
    },
    {
     "data": {
      "image/png": "[encoded data removed]",
      "text/plain": [
       "<Figure size 432x288 with 1 Axes>"
      ]
     },
     "metadata": {
      "needs_background": "light"
     },
     "output_type": "display_data"
    },
    {
     "name": "stdout",
     "output_type": "stream",
     "text": [
      "\n",
      "**************************************************\n",
      "\n"
     ]
    },
    {
     "data": {
      "image/png": "[encoded data removed]",
      "text/plain": [
       "<Figure size 432x288 with 1 Axes>"
      ]
     },
     "metadata": {
      "needs_background": "light"
     },
     "output_type": "display_data"
    },
    {
     "name": "stdout",
     "output_type": "stream",
     "text": [
      "\n",
      "**************************************************\n",
      "\n"
     ]
    },
    {
     "data": {
      "image/png": "[encoded data removed]",
      "text/plain": [
       "<Figure size 576x432 with 1 Axes>"
      ]
     },
     "metadata": {
      "needs_background": "light"
     },
     "output_type": "display_data"
    },
    {
     "name": "stdout",
     "output_type": "stream",
     "text": [
      "\n",
      "**************************************************\n",
      "\n",
      "\n",
      "**************************************************\n",
      "\n",
      " ----- RESNET50 -----\n",
      "\n",
      "**************************************************\n",
      "\n",
      "Training Fold 2...\n",
      "\n",
      "**************************************************\n",
      "\n",
      "Epoch: 1 | Train Loss: 1.69146 | Valid Loss: 0.53139 | Train Accs: 0.48783 | Valid Accs: 0.82995 | Time: 107.33 seconds\n",
      "Epoch: 2 | Train Loss: 0.52948 | Valid Loss: 1.01120 | Train Accs: 0.82685 | Valid Accs: 0.70800 | Time: 105.82 seconds\n",
      "Epoch: 3 | Train Loss: 0.67680 | Valid Loss: 0.88407 | Train Accs: 0.78240 | Valid Accs: 0.75923 | Time: 105.51 seconds\n",
      "Epoch: 4 | Train Loss: 0.75820 | Valid Loss: 1.04510 | Train Accs: 0.75969 | Valid Accs: 0.69359 | Time: 105.83 seconds\n",
      "Epoch: 5 | Train Loss: 0.66524 | Valid Loss: 0.70344 | Train Accs: 0.78070 | Valid Accs: 0.77070 | Time: 106.69 seconds\n",
      "Epoch: 6 | Train Loss: 0.59829 | Valid Loss: 0.50540 | Train Accs: 0.80511 | Valid Accs: 0.82752 | Time: 106.87 seconds\n",
      "Epoch: 7 | Train Loss: 0.54384 | Valid Loss: 0.57240 | Train Accs: 0.81922 | Valid Accs: 0.81544 | Time: 105.22 seconds\n",
      "Epoch: 8 | Train Loss: 0.48591 | Valid Loss: 0.57439 | Train Accs: 0.83987 | Valid Accs: 0.81615 | Time: 105.56 seconds\n",
      "Epoch: 9 | Train Loss: 0.43990 | Valid Loss: 0.47831 | Train Accs: 0.85550 | Valid Accs: 0.85755 | Time: 107.60 seconds\n",
      "Epoch: 10 | Train Loss: 0.43933 | Valid Loss: 0.52989 | Train Accs: 0.84708 | Valid Accs: 0.83492 | Time: 106.06 seconds\n",
      "Epoch: 11 | Train Loss: 0.38828 | Valid Loss: 0.40994 | Train Accs: 0.86252 | Valid Accs: 0.87003 | Time: 107.74 seconds\n",
      "Epoch: 12 | Train Loss: 0.41267 | Valid Loss: 0.45846 | Train Accs: 0.85986 | Valid Accs: 0.85664 | Time: 105.61 seconds\n",
      "Epoch: 13 | Train Loss: 0.37286 | Valid Loss: 0.42677 | Train Accs: 0.87512 | Valid Accs: 0.85735 | Time: 105.38 seconds\n",
      "Epoch: 14 | Train Loss: 0.34212 | Valid Loss: 0.42923 | Train Accs: 0.88039 | Valid Accs: 0.87043 | Time: 105.03 seconds\n",
      "Epoch: 15 | Train Loss: 0.28389 | Valid Loss: 0.37091 | Train Accs: 0.89838 | Valid Accs: 0.88748 | Time: 107.34 seconds\n",
      "Epoch: 16 | Train Loss: 0.26022 | Valid Loss: 0.34699 | Train Accs: 0.91164 | Valid Accs: 0.88454 | Time: 109.08 seconds\n",
      "Epoch: 17 | Train Loss: 0.22100 | Valid Loss: 0.32549 | Train Accs: 0.92133 | Valid Accs: 0.89864 | Time: 108.31 seconds\n",
      "Epoch: 18 | Train Loss: 0.20274 | Valid Loss: 0.34969 | Train Accs: 0.92926 | Valid Accs: 0.88991 | Time: 106.14 seconds\n",
      "Epoch: 19 | Train Loss: 0.17361 | Valid Loss: 0.30885 | Train Accs: 0.93750 | Valid Accs: 0.90402 | Time: 106.65 seconds\n",
      "Epoch: 20 | Train Loss: 0.14637 | Valid Loss: 0.31692 | Train Accs: 0.94755 | Valid Accs: 0.90260 | Time: 104.21 seconds\n",
      "Epoch: 21 | Train Loss: 0.13825 | Valid Loss: 0.32554 | Train Accs: 0.94701 | Valid Accs: 0.90260 | Time: 103.35 seconds\n",
      "Epoch: 22 | Train Loss: 0.12641 | Valid Loss: 0.30658 | Train Accs: 0.95337 | Valid Accs: 0.90828 | Time: 105.60 seconds\n",
      "Epoch: 23 | Train Loss: 0.11404 | Valid Loss: 0.29168 | Train Accs: 0.96203 | Valid Accs: 0.91325 | Time: 105.27 seconds\n",
      "Epoch: 24 | Train Loss: 0.10149 | Valid Loss: 0.29990 | Train Accs: 0.96088 | Valid Accs: 0.91183 | Time: 104.58 seconds\n",
      "Epoch: 25 | Train Loss: 0.10043 | Valid Loss: 0.29960 | Train Accs: 0.96306 | Valid Accs: 0.91843 | Time: 104.97 seconds\n",
      "\n",
      "**************************************************\n",
      "\n",
      "Best Validation Loss at Epoch 23\n",
      "\n",
      "**************************************************\n",
      "\n",
      "Best Validation Accs at Epoch 25\n",
      "\n",
      "**************************************************\n",
      "\n",
      "Time Taken [25 Epochs] : 44.20 minutes\n",
      "\n",
      "**************************************************\n",
      "\n"
     ]
    },
    {
     "data": {
      "image/png": "[encoded data removed]",
      "text/plain": [
       "<Figure size 432x288 with 1 Axes>"
      ]
     },
     "metadata": {
      "needs_background": "light"
     },
     "output_type": "display_data"
    },
    {
     "name": "stdout",
     "output_type": "stream",
     "text": [
      "\n",
      "**************************************************\n",
      "\n"
     ]
    },
    {
     "data": {
      "image/png": "[encoded data removed]",
      "text/plain": [
       "<Figure size 432x288 with 1 Axes>"
      ]
     },
     "metadata": {
      "needs_background": "light"
     },
     "output_type": "display_data"
    },
    {
     "name": "stdout",
     "output_type": "stream",
     "text": [
      "\n",
      "**************************************************\n",
      "\n"
     ]
    },
    {
     "data": {
      "image/png": "[encoded data removed]",
      "text/plain": [
       "<Figure size 576x432 with 1 Axes>"
      ]
     },
     "metadata": {
      "needs_background": "light"
     },
     "output_type": "display_data"
    },
    {
     "name": "stdout",
     "output_type": "stream",
     "text": [
      "\n",
      "**************************************************\n",
      "\n",
      "\n",
      "**************************************************\n",
      "\n",
      " ----- RESNET50 -----\n",
      "\n",
      "**************************************************\n",
      "\n",
      "Training Fold 3...\n",
      "\n",
      "**************************************************\n",
      "\n",
      "Epoch: 1 | Train Loss: 1.70345 | Valid Loss: 0.48433 | Train Accs: 0.47135 | Valid Accs: 0.84365 | Time: 106.22 seconds\n",
      "Epoch: 2 | Train Loss: 0.54190 | Valid Loss: 0.56555 | Train Accs: 0.82280 | Valid Accs: 0.81909 | Time: 105.23 seconds\n",
      "Epoch: 3 | Train Loss: 0.66583 | Valid Loss: 1.61769 | Train Accs: 0.78325 | Valid Accs: 0.59537 | Time: 104.86 seconds\n",
      "Epoch: 4 | Train Loss: 0.73668 | Valid Loss: 0.93668 | Train Accs: 0.76248 | Valid Accs: 0.73174 | Time: 105.43 seconds\n",
      "Epoch: 5 | Train Loss: 0.68879 | Valid Loss: 0.65113 | Train Accs: 0.77980 | Valid Accs: 0.79769 | Time: 105.83 seconds\n",
      "Epoch: 6 | Train Loss: 0.61624 | Valid Loss: 0.55376 | Train Accs: 0.79524 | Valid Accs: 0.82325 | Time: 103.86 seconds\n",
      "Epoch: 7 | Train Loss: 0.53371 | Valid Loss: 0.44887 | Train Accs: 0.82516 | Valid Accs: 0.85582 | Time: 105.80 seconds\n",
      "Epoch: 8 | Train Loss: 0.49038 | Valid Loss: 0.75741 | Train Accs: 0.83242 | Valid Accs: 0.80063 | Time: 103.81 seconds\n",
      "Epoch: 9 | Train Loss: 0.48931 | Valid Loss: 0.46711 | Train Accs: 0.83727 | Valid Accs: 0.84131 | Time: 103.53 seconds\n",
      "Epoch: 10 | Train Loss: 0.46430 | Valid Loss: 0.46334 | Train Accs: 0.84018 | Valid Accs: 0.85136 | Time: 103.70 seconds\n",
      "Epoch: 11 | Train Loss: 0.42288 | Valid Loss: 0.56467 | Train Accs: 0.85441 | Valid Accs: 0.82792 | Time: 104.45 seconds\n",
      "Epoch: 12 | Train Loss: 0.38178 | Valid Loss: 0.39933 | Train Accs: 0.86616 | Valid Accs: 0.86526 | Time: 105.87 seconds\n",
      "Epoch: 13 | Train Loss: 0.34774 | Valid Loss: 0.39993 | Train Accs: 0.88318 | Valid Accs: 0.86526 | Time: 103.88 seconds\n",
      "Epoch: 14 | Train Loss: 0.32661 | Valid Loss: 0.32167 | Train Accs: 0.88094 | Valid Accs: 0.89550 | Time: 105.82 seconds\n",
      "Epoch: 15 | Train Loss: 0.30117 | Valid Loss: 0.29178 | Train Accs: 0.89971 | Valid Accs: 0.89407 | Time: 106.07 seconds\n",
      "Epoch: 16 | Train Loss: 0.25904 | Valid Loss: 0.27938 | Train Accs: 0.91049 | Valid Accs: 0.90645 | Time: 106.65 seconds\n",
      "Epoch: 17 | Train Loss: 0.22792 | Valid Loss: 0.31716 | Train Accs: 0.92036 | Valid Accs: 0.89692 | Time: 104.36 seconds\n",
      "Epoch: 18 | Train Loss: 0.21167 | Valid Loss: 0.30131 | Train Accs: 0.92642 | Valid Accs: 0.90808 | Time: 104.36 seconds\n",
      "Epoch: 19 | Train Loss: 0.18602 | Valid Loss: 0.30333 | Train Accs: 0.93326 | Valid Accs: 0.91000 | Time: 105.18 seconds\n",
      "Epoch: 20 | Train Loss: 0.17480 | Valid Loss: 0.26969 | Train Accs: 0.93738 | Valid Accs: 0.91873 | Time: 106.11 seconds\n",
      "Epoch: 21 | Train Loss: 0.13640 | Valid Loss: 0.26163 | Train Accs: 0.95167 | Valid Accs: 0.91893 | Time: 105.72 seconds\n",
      "Epoch: 22 | Train Loss: 0.12620 | Valid Loss: 0.25434 | Train Accs: 0.95718 | Valid Accs: 0.92299 | Time: 106.63 seconds\n",
      "Epoch: 23 | Train Loss: 0.11826 | Valid Loss: 0.26487 | Train Accs: 0.96045 | Valid Accs: 0.92461 | Time: 104.49 seconds\n",
      "Epoch: 24 | Train Loss: 0.11033 | Valid Loss: 0.27487 | Train Accs: 0.96336 | Valid Accs: 0.92177 | Time: 104.14 seconds\n",
      "Epoch: 25 | Train Loss: 0.10351 | Valid Loss: 0.27778 | Train Accs: 0.96294 | Valid Accs: 0.91944 | Time: 103.79 seconds\n",
      "\n",
      "**************************************************\n",
      "\n",
      "Best Validation Loss at Epoch 22\n",
      "\n",
      "**************************************************\n",
      "\n",
      "Best Validation Accs at Epoch 23\n",
      "\n",
      "**************************************************\n",
      "\n",
      "Time Taken [25 Epochs] : 43.76 minutes\n",
      "\n",
      "**************************************************\n",
      "\n"
     ]
    },
    {
     "data": {
      "image/png": "[encoded data removed]",
      "text/plain": [
       "<Figure size 432x288 with 1 Axes>"
      ]
     },
     "metadata": {
      "needs_background": "light"
     },
     "output_type": "display_data"
    },
    {
     "name": "stdout",
     "output_type": "stream",
     "text": [
      "\n",
      "**************************************************\n",
      "\n"
     ]
    },
    {
     "data": {
      "image/png": "[encoded data removed]",
      "text/plain": [
       "<Figure size 432x288 with 1 Axes>"
      ]
     },
     "metadata": {
      "needs_background": "light"
     },
     "output_type": "display_data"
    },
    {
     "name": "stdout",
     "output_type": "stream",
     "text": [
      "\n",
      "**************************************************\n",
      "\n"
     ]
    },
    {
     "data": {
      "image/png": "[encoded data removed]",
      "text/plain": [
       "<Figure size 576x432 with 1 Axes>"
      ]
     },
     "metadata": {
      "needs_background": "light"
     },
     "output_type": "display_data"
    },
    {
     "name": "stdout",
     "output_type": "stream",
     "text": [
      "\n",
      "**************************************************\n",
      "\n",
      "\n",
      "**************************************************\n",
      "\n",
      " ----- RESNET50 -----\n",
      "\n",
      "**************************************************\n",
      "\n",
      "Training Fold 4...\n",
      "\n",
      "**************************************************\n",
      "\n",
      "Epoch: 1 | Train Loss: 1.68848 | Valid Loss: 0.59889 | Train Accs: 0.47699 | Valid Accs: 0.81798 | Time: 106.12 seconds\n",
      "Epoch: 2 | Train Loss: 0.53194 | Valid Loss: 1.10414 | Train Accs: 0.82183 | Valid Accs: 0.70079 | Time: 104.66 seconds\n",
      "Epoch: 3 | Train Loss: 0.65073 | Valid Loss: 0.82912 | Train Accs: 0.79264 | Valid Accs: 0.72961 | Time: 103.46 seconds\n",
      "Epoch: 4 | Train Loss: 0.70687 | Valid Loss: 0.94994 | Train Accs: 0.77253 | Valid Accs: 0.72595 | Time: 101.98 seconds\n",
      "Epoch: 5 | Train Loss: 0.67734 | Valid Loss: 0.67082 | Train Accs: 0.78494 | Valid Accs: 0.78003 | Time: 103.27 seconds\n",
      "Epoch: 6 | Train Loss: 0.58022 | Valid Loss: 0.48550 | Train Accs: 0.80505 | Valid Accs: 0.83847 | Time: 105.98 seconds\n",
      "Epoch: 7 | Train Loss: 0.52712 | Valid Loss: 0.64302 | Train Accs: 0.82346 | Valid Accs: 0.79241 | Time: 104.96 seconds\n",
      "Epoch: 8 | Train Loss: 0.50478 | Valid Loss: 0.68389 | Train Accs: 0.83127 | Valid Accs: 0.78805 | Time: 103.82 seconds\n",
      "Epoch: 9 | Train Loss: 0.46950 | Valid Loss: 0.50118 | Train Accs: 0.84199 | Valid Accs: 0.83188 | Time: 104.57 seconds\n",
      "Epoch: 10 | Train Loss: 0.42490 | Valid Loss: 0.50376 | Train Accs: 0.85562 | Valid Accs: 0.82539 | Time: 103.64 seconds\n",
      "Epoch: 11 | Train Loss: 0.39694 | Valid Loss: 0.63570 | Train Accs: 0.86973 | Valid Accs: 0.79870 | Time: 104.59 seconds\n",
      "Epoch: 12 | Train Loss: 0.34809 | Valid Loss: 0.38861 | Train Accs: 0.87712 | Valid Accs: 0.88180 | Time: 105.89 seconds\n",
      "Epoch: 13 | Train Loss: 0.31303 | Valid Loss: 0.54481 | Train Accs: 0.89014 | Valid Accs: 0.82397 | Time: 104.77 seconds\n",
      "Epoch: 14 | Train Loss: 0.32684 | Valid Loss: 0.40444 | Train Accs: 0.88608 | Valid Accs: 0.86556 | Time: 103.31 seconds\n",
      "Epoch: 15 | Train Loss: 0.26632 | Valid Loss: 0.39283 | Train Accs: 0.90982 | Valid Accs: 0.87662 | Time: 104.30 seconds\n",
      "Epoch: 16 | Train Loss: 0.26298 | Valid Loss: 0.37400 | Train Accs: 0.90510 | Valid Accs: 0.88373 | Time: 106.20 seconds\n",
      "Epoch: 17 | Train Loss: 0.22214 | Valid Loss: 0.36601 | Train Accs: 0.92218 | Valid Accs: 0.88860 | Time: 106.59 seconds\n",
      "Epoch: 18 | Train Loss: 0.20109 | Valid Loss: 0.31410 | Train Accs: 0.92938 | Valid Accs: 0.89651 | Time: 106.75 seconds\n",
      "Epoch: 19 | Train Loss: 0.17033 | Valid Loss: 0.34602 | Train Accs: 0.93914 | Valid Accs: 0.90016 | Time: 104.91 seconds\n",
      "Epoch: 20 | Train Loss: 0.15404 | Valid Loss: 0.36215 | Train Accs: 0.94459 | Valid Accs: 0.89144 | Time: 104.71 seconds\n",
      "Epoch: 21 | Train Loss: 0.13850 | Valid Loss: 0.33910 | Train Accs: 0.94998 | Valid Accs: 0.90848 | Time: 104.24 seconds\n",
      "Epoch: 22 | Train Loss: 0.11703 | Valid Loss: 0.33650 | Train Accs: 0.95882 | Valid Accs: 0.90564 | Time: 103.91 seconds\n",
      "Epoch: 23 | Train Loss: 0.10610 | Valid Loss: 0.33741 | Train Accs: 0.96245 | Valid Accs: 0.91061 | Time: 104.07 seconds\n",
      "\n",
      "Early Stopping at Epoch 24\n",
      "\n",
      "**************************************************\n",
      "\n",
      "Best Validation Loss at Epoch 18\n",
      "\n",
      "**************************************************\n",
      "\n",
      "Best Validation Accs at Epoch 23\n",
      "\n",
      "**************************************************\n",
      "\n",
      "Time Taken [24 Epochs] : 41.84 minutes\n",
      "\n",
      "**************************************************\n",
      "\n"
     ]
    },
    {
     "data": {
      "image/png": "[encoded data removed]",
      "text/plain": [
       "<Figure size 432x288 with 1 Axes>"
      ]
     },
     "metadata": {
      "needs_background": "light"
     },
     "output_type": "display_data"
    },
    {
     "name": "stdout",
     "output_type": "stream",
     "text": [
      "\n",
      "**************************************************\n",
      "\n"
     ]
    },
    {
     "data": {
      "image/png": "[encoded data removed]",
      "text/plain": [
       "<Figure size 432x288 with 1 Axes>"
      ]
     },
     "metadata": {
      "needs_background": "light"
     },
     "output_type": "display_data"
    },
    {
     "name": "stdout",
     "output_type": "stream",
     "text": [
      "\n",
      "**************************************************\n",
      "\n"
     ]
    },
    {
     "data": {
      "image/png": "[encoded data removed]",
      "text/plain": [
       "<Figure size 576x432 with 1 Axes>"
      ]
     },
     "metadata": {
      "needs_background": "light"
     },
     "output_type": "display_data"
    },
    {
     "name": "stdout",
     "output_type": "stream",
     "text": [
      "\n",
      "**************************************************\n",
      "\n",
      "\n",
      "**************************************************\n",
      "\n",
      " ----- RESNET50 -----\n",
      "\n",
      "**************************************************\n",
      "\n",
      "Training Fold 5...\n",
      "\n",
      "**************************************************\n",
      "\n",
      "Epoch: 1 | Train Loss: 1.68264 | Valid Loss: 0.55736 | Train Accs: 0.48371 | Valid Accs: 0.82072 | Time: 105.70 seconds\n",
      "Epoch: 2 | Train Loss: 0.51499 | Valid Loss: 0.55633 | Train Accs: 0.82649 | Valid Accs: 0.84405 | Time: 107.65 seconds\n",
      "Epoch: 3 | Train Loss: 0.65644 | Valid Loss: 1.45776 | Train Accs: 0.78706 | Valid Accs: 0.70394 | Time: 104.74 seconds\n",
      "Epoch: 4 | Train Loss: 0.73795 | Valid Loss: 1.25179 | Train Accs: 0.76526 | Valid Accs: 0.66447 | Time: 104.11 seconds\n",
      "Epoch: 5 | Train Loss: 0.66759 | Valid Loss: 0.82110 | Train Accs: 0.77186 | Valid Accs: 0.73032 | Time: 103.99 seconds\n",
      "Epoch: 6 | Train Loss: 0.59341 | Valid Loss: 0.93860 | Train Accs: 0.79488 | Valid Accs: 0.75507 | Time: 104.78 seconds\n",
      "Epoch: 7 | Train Loss: 0.55777 | Valid Loss: 0.65471 | Train Accs: 0.81516 | Valid Accs: 0.78957 | Time: 104.99 seconds\n",
      "Epoch: 8 | Train Loss: 0.48005 | Valid Loss: 0.53104 | Train Accs: 0.83582 | Valid Accs: 0.84071 | Time: 105.55 seconds\n",
      "Epoch: 9 | Train Loss: 0.47031 | Valid Loss: 0.62210 | Train Accs: 0.84254 | Valid Accs: 0.82285 | Time: 105.03 seconds\n",
      "Epoch: 10 | Train Loss: 0.43434 | Valid Loss: 0.58885 | Train Accs: 0.85084 | Valid Accs: 0.81047 | Time: 104.79 seconds\n",
      "Epoch: 11 | Train Loss: 0.40360 | Valid Loss: 0.56762 | Train Accs: 0.85889 | Valid Accs: 0.82914 | Time: 105.33 seconds\n",
      "Epoch: 12 | Train Loss: 0.37667 | Valid Loss: 0.43451 | Train Accs: 0.87234 | Valid Accs: 0.86891 | Time: 107.47 seconds\n",
      "Epoch: 13 | Train Loss: 0.33466 | Valid Loss: 0.53535 | Train Accs: 0.88166 | Valid Accs: 0.83553 | Time: 104.48 seconds\n",
      "Epoch: 14 | Train Loss: 0.32265 | Valid Loss: 0.39393 | Train Accs: 0.89026 | Valid Accs: 0.87744 | Time: 106.40 seconds\n",
      "Epoch: 15 | Train Loss: 0.27331 | Valid Loss: 0.42716 | Train Accs: 0.90050 | Valid Accs: 0.86577 | Time: 104.85 seconds\n",
      "Epoch: 16 | Train Loss: 0.27556 | Valid Loss: 0.38713 | Train Accs: 0.90443 | Valid Accs: 0.88048 | Time: 107.40 seconds\n",
      "Epoch: 17 | Train Loss: 0.22166 | Valid Loss: 0.37179 | Train Accs: 0.92212 | Valid Accs: 0.88839 | Time: 107.36 seconds\n",
      "Epoch: 18 | Train Loss: 0.20314 | Valid Loss: 0.32893 | Train Accs: 0.92757 | Valid Accs: 0.90209 | Time: 107.36 seconds\n",
      "Epoch: 19 | Train Loss: 0.18465 | Valid Loss: 0.34729 | Train Accs: 0.93411 | Valid Accs: 0.89357 | Time: 105.35 seconds\n",
      "Epoch: 20 | Train Loss: 0.15002 | Valid Loss: 0.33958 | Train Accs: 0.94677 | Valid Accs: 0.90097 | Time: 104.13 seconds\n",
      "Epoch: 21 | Train Loss: 0.13246 | Valid Loss: 0.33696 | Train Accs: 0.95076 | Valid Accs: 0.91579 | Time: 105.89 seconds\n",
      "Epoch: 22 | Train Loss: 0.11346 | Valid Loss: 0.34851 | Train Accs: 0.95948 | Valid Accs: 0.91153 | Time: 104.65 seconds\n",
      "Epoch: 23 | Train Loss: 0.10729 | Valid Loss: 0.33952 | Train Accs: 0.96275 | Valid Accs: 0.91345 | Time: 104.70 seconds\n",
      "\n",
      "Early Stopping at Epoch 24\n",
      "\n",
      "**************************************************\n",
      "\n",
      "Best Validation Loss at Epoch 18\n",
      "\n",
      "**************************************************\n",
      "\n",
      "Best Validation Accs at Epoch 21\n",
      "\n",
      "**************************************************\n",
      "\n",
      "Time Taken [24 Epochs] : 42.19 minutes\n",
      "\n",
      "**************************************************\n",
      "\n"
     ]
    },
    {
     "data": {
      "image/png": "[encoded data removed]",
      "text/plain": [
       "<Figure size 432x288 with 1 Axes>"
      ]
     },
     "metadata": {
      "needs_background": "light"
     },
     "output_type": "display_data"
    },
    {
     "name": "stdout",
     "output_type": "stream",
     "text": [
      "\n",
      "**************************************************\n",
      "\n"
     ]
    },
    {
     "data": {
      "image/png": "[encoded data removed]",
      "text/plain": [
       "<Figure size 432x288 with 1 Axes>"
      ]
     },
     "metadata": {
      "needs_background": "light"
     },
     "output_type": "display_data"
    },
    {
     "name": "stdout",
     "output_type": "stream",
     "text": [
      "\n",
      "**************************************************\n",
      "\n"
     ]
    },
    {
     "data": {
      "image/png": "[encoded data removed]",
      "text/plain": [
       "<Figure size 576x432 with 1 Axes>"
      ]
     },
     "metadata": {
      "needs_background": "light"
     },
     "output_type": "display_data"
    },
    {
     "name": "stdout",
     "output_type": "stream",
     "text": [
      "\n",
      "**************************************************\n",
      "\n"
     ]
    }
   ],
   "source": [
    "fold: int = 1\n",
    "BLEs: list = []\n",
    "BAEs: list = []\n",
    "model_name: str = \"resnet50\"\n",
    "\n",
    "    \n",
    "for tr_idx, va_idx in StratifiedKFold(n_splits=cfg.n_splits, random_state=cfg.seed, shuffle=True).split(filenames, labels):\n",
    "\n",
    "    tr_filenames, va_filenames       = filenames[tr_idx], filenames[va_idx] \n",
    "    tr_folder_names, va_folder_names = folder_names[tr_idx], folder_names[va_idx] \n",
    "    tr_labels, va_labels             = labels[tr_idx], labels[va_idx]\n",
    "\n",
    "    tr_data_setup = DS(\n",
    "        base_path=\"../input/weather-dataset/dataset\", \n",
    "        filenames=tr_filenames, \n",
    "        folder_names=tr_folder_names,\n",
    "        labels=tr_labels.reshape(-1, 1),\n",
    "        size=cfg.size,\n",
    "        transform=cfg.train_transform)\n",
    "    \n",
    "    va_data_setup = DS(\n",
    "        base_path=\"../input/weather-dataset/dataset\", \n",
    "        filenames=va_filenames, \n",
    "        folder_names=va_folder_names,\n",
    "        labels=va_labels.reshape(-1, 1),\n",
    "        size=cfg.size,\n",
    "        transform=cfg.valid_transform)\n",
    "\n",
    "    dataloaders = {\n",
    "        \"train\" : DL(tr_data_setup, batch_size=cfg.batch_size, shuffle=True, generator=torch.manual_seed(cfg.seed)),\n",
    "        \"valid\" : DL(va_data_setup, batch_size=cfg.batch_size, shuffle=False),\n",
    "    }\n",
    "\n",
    "    cfg = CFG(\n",
    "        epochs=25, \n",
    "        batch_size=64, \n",
    "        lr=1e-3,\n",
    "        wd=0.0,\n",
    "        early_stopping=5,\n",
    "        steps_per_epoch=len(dataloaders[\"train\"])\n",
    "    )\n",
    "    \n",
    "    torch.manual_seed(cfg.seed)\n",
    "    model = Model(model_name=model_name).to(cfg.device)\n",
    "\n",
    "    optimizer = optim.Adam([p for p in model.parameters() if p.requires_grad], lr=cfg.lr, weight_decay=cfg.wd)\n",
    "    # optimizer = optim.AdamW([p for p in model.parameters() if p.requires_grad], lr=cfg.lr, weight_decay=cfg.wd)\n",
    "    # optimizer = optim.SGD([p for p in model.parameters() if p.requires_grad], lr=cfg.lr, weight_decay=cfg.wd, momentum=0.9)\n",
    "\n",
    "    scheduler_oclr = optim.lr_scheduler.OneCycleLR(\n",
    "        optimizer=optimizer, \n",
    "        max_lr=cfg.max_lr, \n",
    "        epochs=cfg.epochs, \n",
    "        steps_per_epoch=cfg.steps_per_epoch,\n",
    "        pct_start=cfg.pct_start, \n",
    "        div_factor=cfg.div_factor, \n",
    "        final_div_factor=cfg.final_div_factor\n",
    "    )\n",
    "\n",
    "    # scheduler_rlrop = optim.lr_scheduler.ReduceLROnPlateau(\n",
    "    #     optimizer=optimizer,\n",
    "    #     patience=cfg.patience,\n",
    "    #     eps=cfg.eps,\n",
    "    #     verbose=True\n",
    "    # )\n",
    "\n",
    "    # scheduler_oclr = None\n",
    "    scheduler_rlrop = None\n",
    "\n",
    "\n",
    "    L, A, LR, BLE, BAE, _, _ = fit(\n",
    "        model=model, \n",
    "        model_name=model_name,\n",
    "        optimizer=optimizer, \n",
    "        scheduler_oclr=scheduler_oclr,\n",
    "        scheduler_rlrop=scheduler_rlrop,\n",
    "        epochs=cfg.epochs, \n",
    "        early_stopping_patience=cfg.early_stopping, \n",
    "        dataloaders=dataloaders, \n",
    "        device=cfg.device,\n",
    "        save_path=cfg.save_path,\n",
    "        fold=fold,\n",
    "        verbose=True\n",
    "    )\n",
    "\n",
    "\n",
    "    breaker()\n",
    "    show_loss_graphs(L)\n",
    "    breaker()\n",
    "    show_accuracy_graphs(A)\n",
    "    breaker()\n",
    "    if scheduler_oclr:\n",
    "        show_lr_graph(LR)\n",
    "        breaker()\n",
    "    \n",
    "    BLEs.append(BLE)\n",
    "    BAEs.append(BAE)\n",
    "    \n",
    "    fold += 1"
   ]
  },
  {
   "cell_type": "markdown",
   "id": "b2b16141",
   "metadata": {
    "papermill": {
     "duration": 0.016125,
     "end_time": "2022-07-11T22:37:18.394073",
     "exception": false,
     "start_time": "2022-07-11T22:37:18.377948",
     "status": "completed"
    },
    "tags": []
   },
   "source": [
    "### **Best Model**"
   ]
  },
  {
   "cell_type": "code",
   "execution_count": 10,
   "id": "c0809693",
   "metadata": {
    "execution": {
     "iopub.execute_input": "2022-07-11T22:37:18.427113Z",
     "iopub.status.busy": "2022-07-11T22:37:18.426773Z",
     "iopub.status.idle": "2022-07-11T22:37:18.432610Z",
     "shell.execute_reply": "2022-07-11T22:37:18.431696Z"
    },
    "papermill": {
     "duration": 0.0248,
     "end_time": "2022-07-11T22:37:18.434692",
     "exception": false,
     "start_time": "2022-07-11T22:37:18.409892",
     "status": "completed"
    },
    "tags": []
   },
   "outputs": [
    {
     "name": "stdout",
     "output_type": "stream",
     "text": [
      "\n",
      "**************************************************\n",
      "\n",
      "Best Loss Model Fold     : 1\n",
      "Best Accuracy Model Fold : 2\n",
      "\n",
      "**************************************************\n",
      "\n"
     ]
    }
   ],
   "source": [
    "best_loss_index = BLEs.index(min(BLEs))\n",
    "best_accs_index = BAEs.index(max(BAEs))\n",
    "\n",
    "breaker()\n",
    "print(f\"Best Loss Model Fold     : {best_loss_index + 1}\")\n",
    "print(f\"Best Accuracy Model Fold : {best_accs_index + 1}\")\n",
    "breaker()"
   ]
  }
 ],
 "metadata": {
  "kernelspec": {
   "display_name": "Python 3",
   "language": "python",
   "name": "python3"
  },
  "language_info": {
   "codemirror_mode": {
    "name": "ipython",
    "version": 3
   },
   "file_extension": ".py",
   "mimetype": "text/x-python",
   "name": "python",
   "nbconvert_exporter": "python",
   "pygments_lexer": "ipython3",
   "version": "3.7.12"
  },
  "papermill": {
   "default_parameters": {},
   "duration": 11908.899548,
   "end_time": "2022-07-11T22:37:21.881588",
   "environment_variables": {},
   "exception": null,
   "input_path": "__notebook__.ipynb",
   "output_path": "__notebook__.ipynb",
   "parameters": {},
   "start_time": "2022-07-11T19:18:52.982040",
   "version": "2.3.4"
  }
 },
 "nbformat": 4,
 "nbformat_minor": 5
}
