{
 "cells": [
  {
   "cell_type": "markdown",
   "id": "f01fc893",
   "metadata": {
    "_cell_guid": "b1076dfc-b9ad-4769-8c92-a6c4dae69d19",
    "_uuid": "8f2839f25d086af736a60e9eeb907d3b93b6e0e5",
    "papermill": {
     "duration": 0.004911,
     "end_time": "2022-07-10T17:20:41.239713",
     "exception": false,
     "start_time": "2022-07-10T17:20:41.234802",
     "status": "completed"
    },
    "tags": []
   },
   "source": [
    "### **Setup**"
   ]
  },
  {
   "cell_type": "code",
   "execution_count": 1,
   "id": "84d0f285",
   "metadata": {
    "execution": {
     "iopub.execute_input": "2022-07-10T17:20:41.249792Z",
     "iopub.status.busy": "2022-07-10T17:20:41.249271Z",
     "iopub.status.idle": "2022-07-10T17:20:54.072429Z",
     "shell.execute_reply": "2022-07-10T17:20:54.071285Z"
    },
    "papermill": {
     "duration": 12.830986,
     "end_time": "2022-07-10T17:20:54.074713",
     "exception": false,
     "start_time": "2022-07-10T17:20:41.243727",
     "status": "completed"
    },
    "tags": []
   },
   "outputs": [
    {
     "name": "stderr",
     "output_type": "stream",
     "text": [
      "WARNING: Running pip as the 'root' user can result in broken permissions and conflicting behaviour with the system package manager. It is recommended to use a virtual environment instead: https://pip.pypa.io/warnings/venv\n"
     ]
    }
   ],
   "source": [
    "%%bash\n",
    "pip install timm -q"
   ]
  },
  {
   "cell_type": "markdown",
   "id": "8dbf138a",
   "metadata": {
    "papermill": {
     "duration": 0.003875,
     "end_time": "2022-07-10T17:20:54.082902",
     "exception": false,
     "start_time": "2022-07-10T17:20:54.079027",
     "status": "completed"
    },
    "tags": []
   },
   "source": [
    "### **Library Imports**"
   ]
  },
  {
   "cell_type": "code",
   "execution_count": 2,
   "id": "51e9f622",
   "metadata": {
    "execution": {
     "iopub.execute_input": "2022-07-10T17:20:54.092231Z",
     "iopub.status.busy": "2022-07-10T17:20:54.091927Z",
     "iopub.status.idle": "2022-07-10T17:21:02.100163Z",
     "shell.execute_reply": "2022-07-10T17:21:02.098924Z"
    },
    "papermill": {
     "duration": 8.015699,
     "end_time": "2022-07-10T17:21:02.102527",
     "exception": false,
     "start_time": "2022-07-10T17:20:54.086828",
     "status": "completed"
    },
    "tags": []
   },
   "outputs": [],
   "source": [
    "import os\n",
    "import re\n",
    "import cv2\n",
    "import timm\n",
    "import torch\n",
    "import numpy as np\n",
    "import pandas as pd\n",
    "import matplotlib.pyplot as plt\n",
    "\n",
    "from time import time\n",
    "from torch import nn, optim\n",
    "from torch.utils.data import Dataset\n",
    "from torch.utils.data import DataLoader as DL\n",
    "from torchvision import models, transforms\n",
    "\n",
    "from sklearn.model_selection import StratifiedKFold\n",
    "from sklearn.preprocessing import LabelEncoder\n",
    "from sklearn.metrics import accuracy_score"
   ]
  },
  {
   "cell_type": "markdown",
   "id": "d01ec391",
   "metadata": {
    "papermill": {
     "duration": 0.003941,
     "end_time": "2022-07-10T17:21:02.110912",
     "exception": false,
     "start_time": "2022-07-10T17:21:02.106971",
     "status": "completed"
    },
    "tags": []
   },
   "source": [
    "### **Utilities and Helpers**"
   ]
  },
  {
   "cell_type": "code",
   "execution_count": 3,
   "id": "95b901c8",
   "metadata": {
    "execution": {
     "iopub.execute_input": "2022-07-10T17:21:02.121029Z",
     "iopub.status.busy": "2022-07-10T17:21:02.120204Z",
     "iopub.status.idle": "2022-07-10T17:21:02.134451Z",
     "shell.execute_reply": "2022-07-10T17:21:02.133540Z"
    },
    "papermill": {
     "duration": 0.021633,
     "end_time": "2022-07-10T17:21:02.136559",
     "exception": false,
     "start_time": "2022-07-10T17:21:02.114926",
     "status": "completed"
    },
    "tags": []
   },
   "outputs": [],
   "source": [
    "SEED = 42\n",
    "SIZE = 384\n",
    "le = LabelEncoder()\n",
    "\n",
    "\n",
    "def breaker(num: int=50, char: str=\"*\") -> None:\n",
    "    print(\"\\n\" + num*char + \"\\n\")\n",
    "\n",
    "    \n",
    "def show_loss_graphs(L: list) -> None:\n",
    "    TL, VL = [], []\n",
    "    for i in range(len(L)):\n",
    "        TL.append(L[i][\"train\"])\n",
    "        VL.append(L[i][\"valid\"])\n",
    "    x_Axis = np.arange(1, len(TL) + 1)\n",
    "    plt.figure()\n",
    "    plt.plot(x_Axis, TL, \"r\", label=\"Train\")\n",
    "    plt.plot(x_Axis, VL, \"b\", label=\"Valid\")\n",
    "    plt.legend()\n",
    "    plt.grid()\n",
    "    plt.title(\"Loss Graph\")\n",
    "    plt.show()\n",
    "\n",
    "    \n",
    "def show_accuracy_graphs(A: list) -> None:\n",
    "    TA, VA = [], []\n",
    "    for i in range(len(A)):\n",
    "        TA.append(A[i][\"train\"])\n",
    "        VA.append(A[i][\"valid\"])\n",
    "    x_Axis = np.arange(1, len(TA) + 1)\n",
    "    plt.figure()\n",
    "    plt.plot(x_Axis, TA, \"r\", label=\"Train\")\n",
    "    plt.plot(x_Axis, VA, \"b\", label=\"Valid\")\n",
    "    plt.legend()\n",
    "    plt.grid()\n",
    "    plt.title(\"Accuracy Graph\")\n",
    "    plt.show()\n",
    "    \n",
    "\n",
    "def show_lr_graph(LR: list) -> None:\n",
    "    x_Axis = [i+1 for i in range(len(LR))]\n",
    "    plt.figure(figsize=(8, 6))\n",
    "    plt.plot(x_Axis, LR, \"rx\")\n",
    "    plt.grid()\n",
    "    plt.show()"
   ]
  },
  {
   "cell_type": "markdown",
   "id": "57bf05b1",
   "metadata": {
    "papermill": {
     "duration": 0.003816,
     "end_time": "2022-07-10T17:21:02.144475",
     "exception": false,
     "start_time": "2022-07-10T17:21:02.140659",
     "status": "completed"
    },
    "tags": []
   },
   "source": [
    "### **Configuration**"
   ]
  },
  {
   "cell_type": "code",
   "execution_count": 4,
   "id": "498fb234",
   "metadata": {
    "execution": {
     "iopub.execute_input": "2022-07-10T17:21:02.154394Z",
     "iopub.status.busy": "2022-07-10T17:21:02.153477Z",
     "iopub.status.idle": "2022-07-10T17:21:02.216476Z",
     "shell.execute_reply": "2022-07-10T17:21:02.215440Z"
    },
    "papermill": {
     "duration": 0.070067,
     "end_time": "2022-07-10T17:21:02.218574",
     "exception": false,
     "start_time": "2022-07-10T17:21:02.148507",
     "status": "completed"
    },
    "tags": []
   },
   "outputs": [],
   "source": [
    "class CFG(object):\n",
    "    def __init__(self, \n",
    "                 seed: int = 42,\n",
    "                 n_splits: int = 5,\n",
    "                 batch_size: int = 16,\n",
    "                 epochs: int = 25,\n",
    "                 early_stopping: int = 5,\n",
    "                 lr: float = 1e-4,\n",
    "                 wd: float = 0.0,\n",
    "                 max_lr: float = 1e-3,\n",
    "                 pct_start: float = 0.2,\n",
    "                 steps_per_epoch: int = 100,\n",
    "                 div_factor: int = 1e3, \n",
    "                 final_div_factor: float = 1e3,\n",
    "                 ):\n",
    "        self.seed = seed\n",
    "        self.n_splits = n_splits\n",
    "        self.batch_size = batch_size\n",
    "        self.epochs = epochs\n",
    "        self.early_stopping = early_stopping\n",
    "        self.lr = lr\n",
    "        self.wd = wd\n",
    "        self.max_lr = max_lr\n",
    "        self.pct_start = pct_start\n",
    "        self.steps_per_epoch = steps_per_epoch\n",
    "        self.div_factor = div_factor\n",
    "        self.final_div_factor = final_div_factor\n",
    "        self.device = torch.device(\"cuda\" if torch.cuda.is_available() else \"cpu\")\n",
    "        self.transform = transforms.Compose([transforms.ToTensor(),\n",
    "                                transforms.Normalize([0.51684, 0.52503, 0.50567],\n",
    "                                                     [0.19350, 0.18743, 0.19404]),\n",
    "                                ])\n",
    "        self.save_path = \"saves\"\n",
    "        if not os.path.exists(self.save_path): os.makedirs(self.save_path)\n",
    "    \n",
    "cfg = CFG(seed=SEED)"
   ]
  },
  {
   "cell_type": "markdown",
   "id": "9eeaac6b",
   "metadata": {
    "papermill": {
     "duration": 0.003954,
     "end_time": "2022-07-10T17:21:02.226916",
     "exception": false,
     "start_time": "2022-07-10T17:21:02.222962",
     "status": "completed"
    },
    "tags": []
   },
   "source": [
    "### **Dataset Template**"
   ]
  },
  {
   "cell_type": "code",
   "execution_count": 5,
   "id": "7c7c1bb6",
   "metadata": {
    "execution": {
     "iopub.execute_input": "2022-07-10T17:21:02.236878Z",
     "iopub.status.busy": "2022-07-10T17:21:02.236077Z",
     "iopub.status.idle": "2022-07-10T17:21:02.243387Z",
     "shell.execute_reply": "2022-07-10T17:21:02.242542Z"
    },
    "papermill": {
     "duration": 0.014424,
     "end_time": "2022-07-10T17:21:02.245406",
     "exception": false,
     "start_time": "2022-07-10T17:21:02.230982",
     "status": "completed"
    },
    "tags": []
   },
   "outputs": [],
   "source": [
    "class DS(Dataset):\n",
    "    def __init__(self, images: np.ndarray, labels: np.ndarray = None, transform=None):\n",
    "        self.images = images\n",
    "        self.labels = labels\n",
    "        self.transform = transform\n",
    "    \n",
    "    def __len__(self):\n",
    "        return self.images.shape[0]\n",
    "    \n",
    "    def __getitem__(self, idx):\n",
    "        if self.labels is not None:\n",
    "            return self.transform(self.images[idx]), torch.LongTensor(self.labels[idx])\n",
    "        else:\n",
    "            return self.transform(self.images[idx])"
   ]
  },
  {
   "cell_type": "markdown",
   "id": "015d05c6",
   "metadata": {
    "papermill": {
     "duration": 0.003943,
     "end_time": "2022-07-10T17:21:02.253517",
     "exception": false,
     "start_time": "2022-07-10T17:21:02.249574",
     "status": "completed"
    },
    "tags": []
   },
   "source": [
    "### **Model**"
   ]
  },
  {
   "cell_type": "code",
   "execution_count": 6,
   "id": "8d4eed05",
   "metadata": {
    "execution": {
     "iopub.execute_input": "2022-07-10T17:21:02.263546Z",
     "iopub.status.busy": "2022-07-10T17:21:02.262734Z",
     "iopub.status.idle": "2022-07-10T17:21:02.274278Z",
     "shell.execute_reply": "2022-07-10T17:21:02.273412Z"
    },
    "papermill": {
     "duration": 0.018695,
     "end_time": "2022-07-10T17:21:02.276317",
     "exception": false,
     "start_time": "2022-07-10T17:21:02.257622",
     "status": "completed"
    },
    "tags": []
   },
   "outputs": [],
   "source": [
    "class Model(nn.Module):\n",
    "    def __init__(self, model_name: str=\"resnet50\"):\n",
    "        super(Model, self).__init__()\n",
    "\n",
    "        if model_name == \"resnet50\":\n",
    "            self.model = models.resnet50(pretrained=True, progress=False)\n",
    "            self.model.fc = nn.Linear(in_features=self.model.fc.in_features, out_features=11)\n",
    "\n",
    "        elif model_name == \"densenet169\":\n",
    "            self.model = models.densenet169(pretrained=True, progress=True)\n",
    "            self.model.classifier = nn.Linear(in_features=self.model.classifier.in_features, out_features=11)\n",
    "\n",
    "        elif model_name == \"densenet201\":\n",
    "            self.model = models.densenet201(pretrained=True, progress=True)\n",
    "            self.model.classifier = nn.Linear(in_features=self.model.classifier.in_features, out_features=11)\n",
    "            \n",
    "        elif model_name == \"tv_densenet121\":\n",
    "            self.model = timm.create_model(model_name=\"tv_densenet121\", pretrained=True)\n",
    "            self.model.classifier = nn.Linear(in_features=self.model.classifier.in_features, out_features=11)\n",
    "            \n",
    "        elif model_name == \"efficientnet_b2\":\n",
    "            self.model = timm.create_model(model_name=model_name, pretrained=True)\n",
    "            self.model.classifier = nn.Linear(in_features=self.model.classifier.in_features, out_features=11)\n",
    "        \n",
    "        else:\n",
    "            raise NotImplementedError(\"Invalid Model Name. Model not currently available\")\n",
    "            \n",
    "    def freeze(self):\n",
    "        for params in self.parameters(): params.requires_grad = False\n",
    "\n",
    "    def forward(self, x):\n",
    "        return nn.LogSoftmax(dim=1)(self.model(x))"
   ]
  },
  {
   "cell_type": "markdown",
   "id": "0ac09f8c",
   "metadata": {
    "papermill": {
     "duration": 0.004134,
     "end_time": "2022-07-10T17:21:02.284931",
     "exception": false,
     "start_time": "2022-07-10T17:21:02.280797",
     "status": "completed"
    },
    "tags": []
   },
   "source": [
    "### **Fit and Predict**"
   ]
  },
  {
   "cell_type": "code",
   "execution_count": 7,
   "id": "2b70f48f",
   "metadata": {
    "execution": {
     "iopub.execute_input": "2022-07-10T17:21:02.294652Z",
     "iopub.status.busy": "2022-07-10T17:21:02.294398Z",
     "iopub.status.idle": "2022-07-10T17:21:02.320983Z",
     "shell.execute_reply": "2022-07-10T17:21:02.319981Z"
    },
    "papermill": {
     "duration": 0.034156,
     "end_time": "2022-07-10T17:21:02.323220",
     "exception": false,
     "start_time": "2022-07-10T17:21:02.289064",
     "status": "completed"
    },
    "tags": []
   },
   "outputs": [],
   "source": [
    "def fit(model=None,\n",
    "        model_name=None,\n",
    "        optimizer=None, \n",
    "        scheduler_rlrop=None,\n",
    "        scheduler_oclr=None,\n",
    "        epochs=None, \n",
    "        early_stopping_patience=None, \n",
    "        dataloaders=None, \n",
    "        fold=None, \n",
    "        save_path=None,\n",
    "        device=None,\n",
    "        verbose=False) -> tuple:\n",
    "    \n",
    "    def get_accuracy(y_pred, y_true):\n",
    "        y_pred = torch.argmax(y_pred, dim=1)\n",
    "        return torch.count_nonzero(y_pred == y_true).item() / len(y_pred)\n",
    "    \n",
    "    \n",
    "    if verbose:\n",
    "        breaker()\n",
    "        print(f\" ----- {model_name.upper()} -----\")\n",
    "        breaker()\n",
    "        if fold: print(f\"Training Fold {fold}...\")\n",
    "        else: print(\"Training ...\")\n",
    "        breaker()\n",
    "        \n",
    "    bestLoss: dict = {\"train\" : np.inf, \"valid\" : np.inf} \n",
    "    bestAccs: dict = {\"train\" : 0.0, \"valid\" : 0.0}\n",
    "    \n",
    "    Losses: list = []\n",
    "    Accuracies: list = [] \n",
    "    LRs: list = []\n",
    "        \n",
    "    if fold: \n",
    "        ble_name = f\"{model_name}_ble_state_fold_{fold}.pt\"\n",
    "        bae_name = f\"{model_name}_bae_state_fold_{fold}.pt\"\n",
    "    else: \n",
    "        ble_name = f\"{model_name}_ble_state.pt\"\n",
    "        bae_name = f\"{model_name}_bae_state.pt\"\n",
    "        \n",
    "    start_time = time()\n",
    "    for e in range(epochs):\n",
    "        e_st = time()\n",
    "        epochLoss: dict = {\"train\" : 0.0, \"valid\" : 0.0} \n",
    "        epochAccs: dict = {\"train\" : 0.0, \"valid\" : 0.0}\n",
    "\n",
    "        for phase in [\"train\", \"valid\"]:\n",
    "            if phase == \"train\":\n",
    "                model.train()\n",
    "            else:\n",
    "                model.eval()\n",
    "            \n",
    "            lossPerPass: list = []\n",
    "            accsPerPass: list = []\n",
    "                \n",
    "            for X, y in dataloaders[phase]:\n",
    "                X, y = X.to(device), y.to(device).view(-1)\n",
    "\n",
    "                optimizer.zero_grad()\n",
    "                with torch.set_grad_enabled(phase == \"train\"):\n",
    "                    output = model(X)\n",
    "                    loss = torch.nn.NLLLoss()(output, y)\n",
    "                    if phase == \"train\":\n",
    "                        loss.backward()\n",
    "                        optimizer.step()\n",
    "                        if scheduler_oclr: scheduler_oclr.step()\n",
    "                lossPerPass.append(loss.item())\n",
    "                accsPerPass.append(get_accuracy(output, y))\n",
    "            epochLoss[phase] = np.mean(np.array(lossPerPass))\n",
    "            epochAccs[phase] = np.mean(np.array(accsPerPass))\n",
    "        if scheduler_oclr: LRs.append(scheduler_oclr.get_last_lr())\n",
    "        Losses.append(epochLoss)\n",
    "        Accuracies.append(epochAccs)\n",
    "        \n",
    "        if scheduler_oclr:\n",
    "            save_dict = {\"model_state_dict\"     : model.state_dict(),\n",
    "                         \"optim_state_dict\"     : optimizer.state_dict(),\n",
    "                         \"scheduler_state_dict\" : scheduler_oclr.state_dict()}\n",
    "        \n",
    "        elif scheduler_rlrop:\n",
    "            save_dict = {\"model_state_dict\"     : model.state_dict(),\n",
    "                         \"optim_state_dict\"     : optimizer.state_dict(),\n",
    "                         \"scheduler_state_dict\" : scheduler_rlrop.state_dict()}\n",
    "        \n",
    "        else:\n",
    "            save_dict = {\"model_state_dict\"     : model.state_dict(),\n",
    "                         \"optim_state_dict\"     : optimizer.state_dict()}\n",
    "        \n",
    "        if early_stopping_patience:\n",
    "            if epochLoss[\"valid\"] < bestLoss[\"valid\"]:\n",
    "                bestLoss = epochLoss\n",
    "                BLE = e + 1\n",
    "                torch.save(save_dict, os.path.join(save_path, ble_name))\n",
    "                torch.save(save_dict, os.path.join(save_path, bae_name))\n",
    "                early_stopping_step = 0\n",
    "            else:\n",
    "                early_stopping_step += 1\n",
    "                if early_stopping_step > early_stopping_patience:\n",
    "                    print(\"\\nEarly Stopping at Epoch {}\".format(e + 1))\n",
    "                    break\n",
    "        \n",
    "        if epochLoss[\"valid\"] < bestLoss[\"valid\"]:\n",
    "            bestLoss = epochLoss\n",
    "            BLE = e + 1\n",
    "            torch.save(save_dict,os.path.join(save_path, ble_name))\n",
    "        \n",
    "        if epochAccs[\"valid\"] > bestAccs[\"valid\"]:\n",
    "            bestAccs = epochAccs\n",
    "            BAE = e + 1\n",
    "            torch.save(save_dict,os.path.join(save_path, bae_name))\n",
    "        \n",
    "        if scheduler_rlrop: scheduler_rlrop.step(epochLoss[\"valid\"])\n",
    "        \n",
    "        if verbose:\n",
    "            print(\"Epoch: {} | Train Loss: {:.5f} | Valid Loss: {:.5f} |\\\n",
    " Train Accs: {:.5f} | Valid Accs: {:.5f} | Time: {:.2f} seconds\".format(e+1, \n",
    "                                                                        epochLoss[\"train\"], epochLoss[\"valid\"], \n",
    "                                                                        epochAccs[\"train\"], epochAccs[\"valid\"], \n",
    "                                                                        time()-e_st))\n",
    "\n",
    "    if verbose:                                           \n",
    "        breaker()\n",
    "        print(f\"Best Validation Loss at Epoch {BLE}\")\n",
    "        breaker()\n",
    "        print(f\"Best Validation Accs at Epoch {BAE}\")\n",
    "        breaker()\n",
    "        print(\"Time Taken [{} Epochs] : {:.2f} minutes\".format(len(Losses), (time()-start_time)/60))\n",
    "    \n",
    "    return Losses, Accuracies, LRs, BLE, BAE, ble_name, bae_name\n",
    "\n",
    "\n",
    "def predict_batch(model=None, dataloader=None, path=None, device=None) -> np.ndarray:\n",
    "    model.load_state_dict(torch.load(path, map_location=device)[\"model_state_dict\"])\n",
    "    model.to(device)    \n",
    "    model.eval()\n",
    "    \n",
    "    y_pred = torch.zeros(1, 1).to(device)\n",
    "    \n",
    "    for X in dataloader:\n",
    "        X = X.to(device)\n",
    "        with torch.no_grad():\n",
    "            output = torch.argmax(torch.exp(model(X)), dim=1)\n",
    "        y_pred = torch.cat((y_pred, output.view(-1, 1)), dim=0)\n",
    "    \n",
    "    return y_pred[1:].detach().cpu().numpy()"
   ]
  },
  {
   "cell_type": "markdown",
   "id": "d74351bc",
   "metadata": {
    "papermill": {
     "duration": 0.004056,
     "end_time": "2022-07-10T17:21:02.331567",
     "exception": false,
     "start_time": "2022-07-10T17:21:02.327511",
     "status": "completed"
    },
    "tags": []
   },
   "source": [
    "### **Train**"
   ]
  },
  {
   "cell_type": "code",
   "execution_count": 8,
   "id": "f6ed31cb",
   "metadata": {
    "execution": {
     "iopub.execute_input": "2022-07-10T17:21:02.341206Z",
     "iopub.status.busy": "2022-07-10T17:21:02.340922Z",
     "iopub.status.idle": "2022-07-10T17:21:20.622769Z",
     "shell.execute_reply": "2022-07-10T17:21:20.621819Z"
    },
    "papermill": {
     "duration": 18.289694,
     "end_time": "2022-07-10T17:21:20.625483",
     "exception": false,
     "start_time": "2022-07-10T17:21:02.335789",
     "status": "completed"
    },
    "tags": []
   },
   "outputs": [],
   "source": [
    "images = np.load(f\"../input/wic-analysis/images_{SIZE}.npy\")\n",
    "labels = np.load(f\"../input/wic-analysis/labels_{SIZE}.npy\")"
   ]
  },
  {
   "cell_type": "code",
   "execution_count": 9,
   "id": "73ee333c",
   "metadata": {
    "execution": {
     "iopub.execute_input": "2022-07-10T17:21:20.636212Z",
     "iopub.status.busy": "2022-07-10T17:21:20.635907Z",
     "iopub.status.idle": "2022-07-10T18:47:11.870530Z",
     "shell.execute_reply": "2022-07-10T18:47:11.869455Z"
    },
    "papermill": {
     "duration": 5151.242401,
     "end_time": "2022-07-10T18:47:11.872563",
     "exception": false,
     "start_time": "2022-07-10T17:21:20.630162",
     "status": "completed"
    },
    "tags": []
   },
   "outputs": [
    {
     "name": "stderr",
     "output_type": "stream",
     "text": [
      "Downloading: \"https://download.pytorch.org/models/resnet50-0676ba61.pth\" to /root/.cache/torch/hub/checkpoints/resnet50-0676ba61.pth\n"
     ]
    },
    {
     "name": "stdout",
     "output_type": "stream",
     "text": [
      "\n",
      "**************************************************\n",
      "\n",
      " ----- RESNET50 -----\n",
      "\n",
      "**************************************************\n",
      "\n",
      "Training ...\n",
      "\n",
      "**************************************************\n",
      "\n",
      "Epoch: 1 | Train Loss: 1.26006 | Valid Loss: 0.37657 | Train Accs: 0.62573 | Valid Accs: 0.88857 | Time: 116.97 seconds\n",
      "Epoch: 2 | Train Loss: 0.58438 | Valid Loss: 0.73583 | Train Accs: 0.81159 | Valid Accs: 0.76381 | Time: 105.93 seconds\n",
      "Epoch: 3 | Train Loss: 0.70844 | Valid Loss: 0.57908 | Train Accs: 0.77132 | Valid Accs: 0.81274 | Time: 105.73 seconds\n",
      "Epoch: 4 | Train Loss: 0.65531 | Valid Loss: 0.89945 | Train Accs: 0.78371 | Valid Accs: 0.75557 | Time: 105.67 seconds\n",
      "Epoch: 5 | Train Loss: 0.59111 | Valid Loss: 1.19552 | Train Accs: 0.80339 | Valid Accs: 0.71536 | Time: 105.74 seconds\n",
      "Epoch: 6 | Train Loss: 0.52301 | Valid Loss: 0.80886 | Train Accs: 0.82562 | Valid Accs: 0.73619 | Time: 108.96 seconds\n",
      "\n",
      "Early Stopping at Epoch 7\n",
      "\n",
      "**************************************************\n",
      "\n",
      "Best Validation Loss at Epoch 1\n",
      "\n",
      "**************************************************\n",
      "\n",
      "Best Validation Accs at Epoch 1\n",
      "\n",
      "**************************************************\n",
      "\n",
      "Time Taken [7 Epochs] : 12.58 minutes\n",
      "\n",
      "**************************************************\n",
      "\n"
     ]
    },
    {
     "data": {
      "image/png": "[encoded data removed]",
      "text/plain": [
       "<Figure size 432x288 with 1 Axes>"
      ]
     },
     "metadata": {
      "needs_background": "light"
     },
     "output_type": "display_data"
    },
    {
     "name": "stdout",
     "output_type": "stream",
     "text": [
      "\n",
      "**************************************************\n",
      "\n"
     ]
    },
    {
     "data": {
      "image/png": "[encoded data removed]",
      "text/plain": [
       "<Figure size 432x288 with 1 Axes>"
      ]
     },
     "metadata": {
      "needs_background": "light"
     },
     "output_type": "display_data"
    },
    {
     "name": "stdout",
     "output_type": "stream",
     "text": [
      "\n",
      "**************************************************\n",
      "\n"
     ]
    },
    {
     "data": {
      "image/png": "[encoded data removed]",
      "text/plain": [
       "<Figure size 576x432 with 1 Axes>"
      ]
     },
     "metadata": {
      "needs_background": "light"
     },
     "output_type": "display_data"
    },
    {
     "name": "stdout",
     "output_type": "stream",
     "text": [
      "\n",
      "**************************************************\n",
      "\n"
     ]
    },
    {
     "name": "stderr",
     "output_type": "stream",
     "text": [
      "Downloading: \"https://download.pytorch.org/models/densenet169-b2777c0a.pth\" to /root/.cache/torch/hub/checkpoints/densenet169-b2777c0a.pth\n"
     ]
    },
    {
     "data": {
      "application/vnd.jupyter.widget-view+json": {
       "model_id": "2a75745274fe4da884c484f33b864476",
       "version_major": 2,
       "version_minor": 0
      },
      "text/plain": [
       "  0%|          | 0.00/54.7M [00:00<?, ?B/s]"
      ]
     },
     "metadata": {},
     "output_type": "display_data"
    },
    {
     "name": "stdout",
     "output_type": "stream",
     "text": [
      "\n",
      "**************************************************\n",
      "\n",
      " ----- DENSENET169 -----\n",
      "\n",
      "**************************************************\n",
      "\n",
      "Training ...\n",
      "\n",
      "**************************************************\n",
      "\n",
      "Epoch: 1 | Train Loss: 1.37577 | Valid Loss: 0.32672 | Train Accs: 0.60405 | Valid Accs: 0.91109 | Time: 140.34 seconds\n",
      "Epoch: 2 | Train Loss: 0.46609 | Valid Loss: 0.50260 | Train Accs: 0.85149 | Valid Accs: 0.83987 | Time: 139.04 seconds\n",
      "Epoch: 3 | Train Loss: 0.52689 | Valid Loss: 1.26538 | Train Accs: 0.82526 | Valid Accs: 0.68774 | Time: 138.70 seconds\n",
      "Epoch: 4 | Train Loss: 0.56071 | Valid Loss: 0.52969 | Train Accs: 0.81578 | Valid Accs: 0.83140 | Time: 139.05 seconds\n",
      "Epoch: 5 | Train Loss: 0.49449 | Valid Loss: 0.47041 | Train Accs: 0.83200 | Valid Accs: 0.85441 | Time: 139.08 seconds\n",
      "Epoch: 6 | Train Loss: 0.41848 | Valid Loss: 0.40979 | Train Accs: 0.86188 | Valid Accs: 0.87258 | Time: 139.23 seconds\n",
      "\n",
      "Early Stopping at Epoch 7\n",
      "\n",
      "**************************************************\n",
      "\n",
      "Best Validation Loss at Epoch 1\n",
      "\n",
      "**************************************************\n",
      "\n",
      "Best Validation Accs at Epoch 1\n",
      "\n",
      "**************************************************\n",
      "\n",
      "Time Taken [7 Epochs] : 16.24 minutes\n",
      "\n",
      "**************************************************\n",
      "\n"
     ]
    },
    {
     "data": {
      "image/png": "[encoded data removed]",
      "text/plain": [
       "<Figure size 432x288 with 1 Axes>"
      ]
     },
     "metadata": {
      "needs_background": "light"
     },
     "output_type": "display_data"
    },
    {
     "name": "stdout",
     "output_type": "stream",
     "text": [
      "\n",
      "**************************************************\n",
      "\n"
     ]
    },
    {
     "data": {
      "image/png": "[encoded data removed]",
      "text/plain": [
       "<Figure size 432x288 with 1 Axes>"
      ]
     },
     "metadata": {
      "needs_background": "light"
     },
     "output_type": "display_data"
    },
    {
     "name": "stdout",
     "output_type": "stream",
     "text": [
      "\n",
      "**************************************************\n",
      "\n"
     ]
    },
    {
     "data": {
      "image/png": "[encoded data removed]",
      "text/plain": [
       "<Figure size 576x432 with 1 Axes>"
      ]
     },
     "metadata": {
      "needs_background": "light"
     },
     "output_type": "display_data"
    },
    {
     "name": "stdout",
     "output_type": "stream",
     "text": [
      "\n",
      "**************************************************\n",
      "\n"
     ]
    },
    {
     "name": "stderr",
     "output_type": "stream",
     "text": [
      "Downloading: \"https://download.pytorch.org/models/densenet201-c1103571.pth\" to /root/.cache/torch/hub/checkpoints/densenet201-c1103571.pth\n"
     ]
    },
    {
     "data": {
      "application/vnd.jupyter.widget-view+json": {
       "model_id": "518fbaf5daa24d9ba4565a09fc99ff89",
       "version_major": 2,
       "version_minor": 0
      },
      "text/plain": [
       "  0%|          | 0.00/77.4M [00:00<?, ?B/s]"
      ]
     },
     "metadata": {},
     "output_type": "display_data"
    },
    {
     "name": "stdout",
     "output_type": "stream",
     "text": [
      "\n",
      "**************************************************\n",
      "\n",
      " ----- DENSENET201 -----\n",
      "\n",
      "**************************************************\n",
      "\n",
      "Training ...\n",
      "\n",
      "**************************************************\n",
      "\n",
      "Epoch: 1 | Train Loss: 1.39691 | Valid Loss: 0.37268 | Train Accs: 0.59876 | Valid Accs: 0.88081 | Time: 174.42 seconds\n",
      "Epoch: 2 | Train Loss: 0.47100 | Valid Loss: 0.47760 | Train Accs: 0.85386 | Valid Accs: 0.83939 | Time: 172.80 seconds\n",
      "Epoch: 3 | Train Loss: 0.54028 | Valid Loss: 0.82688 | Train Accs: 0.82088 | Valid Accs: 0.74273 | Time: 172.88 seconds\n",
      "Epoch: 4 | Train Loss: 0.56011 | Valid Loss: 0.61868 | Train Accs: 0.81560 | Valid Accs: 0.81056 | Time: 172.39 seconds\n",
      "Epoch: 5 | Train Loss: 0.52678 | Valid Loss: 0.58243 | Train Accs: 0.82015 | Valid Accs: 0.78973 | Time: 172.19 seconds\n",
      "Epoch: 6 | Train Loss: 0.45439 | Valid Loss: 0.49835 | Train Accs: 0.85095 | Valid Accs: 0.82800 | Time: 172.28 seconds\n",
      "\n",
      "Early Stopping at Epoch 7\n",
      "\n",
      "**************************************************\n",
      "\n",
      "Best Validation Loss at Epoch 1\n",
      "\n",
      "**************************************************\n",
      "\n",
      "Best Validation Accs at Epoch 1\n",
      "\n",
      "**************************************************\n",
      "\n",
      "Time Taken [7 Epochs] : 20.15 minutes\n",
      "\n",
      "**************************************************\n",
      "\n"
     ]
    },
    {
     "data": {
      "image/png": "[encoded data removed]",
      "text/plain": [
       "<Figure size 432x288 with 1 Axes>"
      ]
     },
     "metadata": {
      "needs_background": "light"
     },
     "output_type": "display_data"
    },
    {
     "name": "stdout",
     "output_type": "stream",
     "text": [
      "\n",
      "**************************************************\n",
      "\n"
     ]
    },
    {
     "data": {
      "image/png": "[encoded data removed]",
      "text/plain": [
       "<Figure size 432x288 with 1 Axes>"
      ]
     },
     "metadata": {
      "needs_background": "light"
     },
     "output_type": "display_data"
    },
    {
     "name": "stdout",
     "output_type": "stream",
     "text": [
      "\n",
      "**************************************************\n",
      "\n"
     ]
    },
    {
     "data": {
      "image/png": "[encoded data removed]",
      "text/plain": [
       "<Figure size 576x432 with 1 Axes>"
      ]
     },
     "metadata": {
      "needs_background": "light"
     },
     "output_type": "display_data"
    },
    {
     "name": "stdout",
     "output_type": "stream",
     "text": [
      "\n",
      "**************************************************\n",
      "\n"
     ]
    },
    {
     "name": "stderr",
     "output_type": "stream",
     "text": [
      "Downloading: \"https://download.pytorch.org/models/densenet121-a639ec97.pth\" to /root/.cache/torch/hub/checkpoints/densenet121-a639ec97.pth\n"
     ]
    },
    {
     "name": "stdout",
     "output_type": "stream",
     "text": [
      "\n",
      "**************************************************\n",
      "\n",
      " ----- TV_DENSENET121 -----\n",
      "\n",
      "**************************************************\n",
      "\n",
      "Training ...\n",
      "\n",
      "**************************************************\n",
      "\n",
      "Epoch: 1 | Train Loss: 1.47136 | Valid Loss: 0.38264 | Train Accs: 0.55794 | Valid Accs: 0.89341 | Time: 114.67 seconds\n",
      "Epoch: 2 | Train Loss: 0.47841 | Valid Loss: 0.51151 | Train Accs: 0.85131 | Valid Accs: 0.83140 | Time: 113.80 seconds\n",
      "Epoch: 3 | Train Loss: 0.52132 | Valid Loss: 0.48729 | Train Accs: 0.83072 | Valid Accs: 0.83188 | Time: 113.76 seconds\n",
      "Epoch: 4 | Train Loss: 0.54148 | Valid Loss: 0.72857 | Train Accs: 0.81651 | Valid Accs: 0.77035 | Time: 113.85 seconds\n",
      "Epoch: 5 | Train Loss: 0.51173 | Valid Loss: 0.44941 | Train Accs: 0.83181 | Valid Accs: 0.85078 | Time: 113.69 seconds\n",
      "Epoch: 6 | Train Loss: 0.42877 | Valid Loss: 0.42648 | Train Accs: 0.85787 | Valid Accs: 0.85998 | Time: 113.73 seconds\n",
      "\n",
      "Early Stopping at Epoch 7\n",
      "\n",
      "**************************************************\n",
      "\n",
      "Best Validation Loss at Epoch 1\n",
      "\n",
      "**************************************************\n",
      "\n",
      "Best Validation Accs at Epoch 1\n",
      "\n",
      "**************************************************\n",
      "\n",
      "Time Taken [7 Epochs] : 13.29 minutes\n",
      "\n",
      "**************************************************\n",
      "\n"
     ]
    },
    {
     "data": {
      "image/png": "[encoded data removed]",
      "text/plain": [
       "<Figure size 432x288 with 1 Axes>"
      ]
     },
     "metadata": {
      "needs_background": "light"
     },
     "output_type": "display_data"
    },
    {
     "name": "stdout",
     "output_type": "stream",
     "text": [
      "\n",
      "**************************************************\n",
      "\n"
     ]
    },
    {
     "data": {
      "image/png": "[encoded data removed]",
      "text/plain": [
       "<Figure size 432x288 with 1 Axes>"
      ]
     },
     "metadata": {
      "needs_background": "light"
     },
     "output_type": "display_data"
    },
    {
     "name": "stdout",
     "output_type": "stream",
     "text": [
      "\n",
      "**************************************************\n",
      "\n"
     ]
    },
    {
     "data": {
      "image/png": "[encoded data removed]",
      "text/plain": [
       "<Figure size 576x432 with 1 Axes>"
      ]
     },
     "metadata": {
      "needs_background": "light"
     },
     "output_type": "display_data"
    },
    {
     "name": "stdout",
     "output_type": "stream",
     "text": [
      "\n",
      "**************************************************\n",
      "\n"
     ]
    },
    {
     "name": "stderr",
     "output_type": "stream",
     "text": [
      "Downloading: \"https://github.com/rwightman/pytorch-image-models/releases/download/v0.1-weights/efficientnet_b2_ra-bcdf34b7.pth\" to /root/.cache/torch/hub/checkpoints/efficientnet_b2_ra-bcdf34b7.pth\n"
     ]
    },
    {
     "name": "stdout",
     "output_type": "stream",
     "text": [
      "\n",
      "**************************************************\n",
      "\n",
      " ----- EFFICIENTNET_B2 -----\n",
      "\n",
      "**************************************************\n",
      "\n",
      "Training ...\n",
      "\n",
      "**************************************************\n",
      "\n",
      "Epoch: 1 | Train Loss: 1.74312 | Valid Loss: 0.44001 | Train Accs: 0.49690 | Valid Accs: 0.88372 | Time: 105.02 seconds\n",
      "Epoch: 2 | Train Loss: 0.41432 | Valid Loss: 0.36362 | Train Accs: 0.86972 | Valid Accs: 0.89123 | Time: 105.03 seconds\n",
      "Epoch: 3 | Train Loss: 0.38118 | Valid Loss: 0.34479 | Train Accs: 0.87518 | Valid Accs: 0.88711 | Time: 104.58 seconds\n",
      "Epoch: 4 | Train Loss: 0.36578 | Valid Loss: 0.30514 | Train Accs: 0.88375 | Valid Accs: 0.90092 | Time: 105.12 seconds\n",
      "Epoch: 5 | Train Loss: 0.31980 | Valid Loss: 0.36896 | Train Accs: 0.89869 | Valid Accs: 0.89341 | Time: 105.02 seconds\n",
      "Epoch: 6 | Train Loss: 0.27822 | Valid Loss: 0.33111 | Train Accs: 0.90816 | Valid Accs: 0.89414 | Time: 105.02 seconds\n",
      "Epoch: 7 | Train Loss: 0.21279 | Valid Loss: 0.29163 | Train Accs: 0.93003 | Valid Accs: 0.90334 | Time: 106.36 seconds\n",
      "Epoch: 8 | Train Loss: 0.15287 | Valid Loss: 0.33693 | Train Accs: 0.95098 | Valid Accs: 0.89898 | Time: 105.08 seconds\n",
      "Epoch: 9 | Train Loss: 0.14414 | Valid Loss: 0.35973 | Train Accs: 0.95299 | Valid Accs: 0.90116 | Time: 105.16 seconds\n",
      "Epoch: 10 | Train Loss: 0.10075 | Valid Loss: 0.43298 | Train Accs: 0.96811 | Valid Accs: 0.88154 | Time: 103.94 seconds\n",
      "Epoch: 11 | Train Loss: 0.09633 | Valid Loss: 0.36271 | Train Accs: 0.96793 | Valid Accs: 0.89971 | Time: 104.93 seconds\n",
      "Epoch: 12 | Train Loss: 0.08417 | Valid Loss: 0.37736 | Train Accs: 0.97157 | Valid Accs: 0.90722 | Time: 105.50 seconds\n",
      "\n",
      "Early Stopping at Epoch 13\n",
      "\n",
      "**************************************************\n",
      "\n",
      "Best Validation Loss at Epoch 7\n",
      "\n",
      "**************************************************\n",
      "\n",
      "Best Validation Accs at Epoch 12\n",
      "\n",
      "**************************************************\n",
      "\n",
      "Time Taken [13 Epochs] : 22.77 minutes\n",
      "\n",
      "**************************************************\n",
      "\n"
     ]
    },
    {
     "data": {
      "image/png": "[encoded data removed]",
      "text/plain": [
       "<Figure size 432x288 with 1 Axes>"
      ]
     },
     "metadata": {
      "needs_background": "light"
     },
     "output_type": "display_data"
    },
    {
     "name": "stdout",
     "output_type": "stream",
     "text": [
      "\n",
      "**************************************************\n",
      "\n"
     ]
    },
    {
     "data": {
      "image/png": "[encoded data removed]",
      "text/plain": [
       "<Figure size 432x288 with 1 Axes>"
      ]
     },
     "metadata": {
      "needs_background": "light"
     },
     "output_type": "display_data"
    },
    {
     "name": "stdout",
     "output_type": "stream",
     "text": [
      "\n",
      "**************************************************\n",
      "\n"
     ]
    },
    {
     "data": {
      "image/png": "[encoded data removed]",
      "text/plain": [
       "<Figure size 576x432 with 1 Axes>"
      ]
     },
     "metadata": {
      "needs_background": "light"
     },
     "output_type": "display_data"
    },
    {
     "name": "stdout",
     "output_type": "stream",
     "text": [
      "\n",
      "**************************************************\n",
      "\n"
     ]
    }
   ],
   "source": [
    "fold = 1\n",
    "\n",
    "for tr_idx, va_idx in StratifiedKFold(n_splits=cfg.n_splits, random_state=cfg.seed, shuffle=True).split(images, labels):\n",
    "    break\n",
    "\n",
    "tr_images, va_images, tr_labels, va_labels = images[tr_idx], images[va_idx], labels[tr_idx], labels[va_idx]\n",
    "\n",
    "tr_data_setup = DS(tr_images, tr_labels.reshape(-1, 1), cfg.transform)\n",
    "va_data_setup = DS(va_images, va_labels.reshape(-1, 1), cfg.transform)\n",
    "\n",
    "dataloaders = {\n",
    "    \"train\" : DL(tr_data_setup, batch_size=cfg.batch_size, shuffle=True, generator=torch.manual_seed(cfg.seed)),\n",
    "    \"valid\" : DL(va_data_setup, batch_size=cfg.batch_size, shuffle=False),\n",
    "}\n",
    "\n",
    "cfg = CFG(\n",
    "    epochs=25, \n",
    "    batch_size=64, \n",
    "    lr=1e-3,\n",
    "    wd=0.0,\n",
    "    early_stopping=5,\n",
    "    steps_per_epoch=len(dataloaders[\"train\"])\n",
    ")\n",
    "    \n",
    "\n",
    "model_names: list = [\"resnet50\", \"densenet169\", \"densenet201\", \"tv_densenet121\", \"efficientnet_b2\"]\n",
    "BLEs: list = []\n",
    "BAEs: list = []\n",
    "\n",
    "for model_name in model_names:\n",
    "    \n",
    "    torch.manual_seed(cfg.seed)\n",
    "    model = Model(model_name=model_name).to(cfg.device)\n",
    "\n",
    "    optimizer = optim.Adam([p for p in model.parameters() if p.requires_grad], lr=cfg.lr, weight_decay=cfg.wd)\n",
    "    # optimizer = optim.AdamW([p for p in model.parameters() if p.requires_grad], lr=cfg.lr, weight_decay=cfg.wd)\n",
    "    # optimizer = optim.SGD([p for p in model.parameters() if p.requires_grad], lr=cfg.lr, weight_decay=cfg.wd, momentum=0.9)\n",
    "\n",
    "\n",
    "    scheduler_oclr = optim.lr_scheduler.OneCycleLR(\n",
    "        optimizer=optimizer, \n",
    "        max_lr=cfg.max_lr, \n",
    "        epochs=cfg.epochs, \n",
    "        steps_per_epoch=cfg.steps_per_epoch,\n",
    "        pct_start=cfg.pct_start, \n",
    "        div_factor=cfg.div_factor, \n",
    "        final_div_factor=cfg.final_div_factor\n",
    "    )\n",
    "\n",
    "    # scheduler_rlrop = optim.lr_scheduler.ReduceLROnPlateau(\n",
    "    #     optimizer=optimizer,\n",
    "    #     patience=cfg.patience,\n",
    "    #     eps=cfg.eps,\n",
    "    #     verbose=True\n",
    "    # )\n",
    "\n",
    "    # scheduler_oclr = None\n",
    "    scheduler_rlrop = None\n",
    "\n",
    "\n",
    "    L, A, LR, BLE, BAE, _, _ = fit(\n",
    "        model=model, \n",
    "        model_name=model_name,\n",
    "        optimizer=optimizer, \n",
    "        scheduler_oclr=scheduler_oclr,\n",
    "        scheduler_rlrop=scheduler_rlrop,\n",
    "        epochs=cfg.epochs, \n",
    "        early_stopping_patience=cfg.early_stopping, \n",
    "        dataloaders=dataloaders, \n",
    "        device=cfg.device,\n",
    "        save_path=cfg.save_path,\n",
    "        fold=None,\n",
    "        verbose=True\n",
    "    )\n",
    "\n",
    "\n",
    "    breaker()\n",
    "    show_loss_graphs(L)\n",
    "    breaker()\n",
    "    show_accuracy_graphs(A)\n",
    "    breaker()\n",
    "    if scheduler_oclr:\n",
    "        show_lr_graph(LR)\n",
    "        breaker()\n",
    "    \n",
    "    BLEs.append(BLE)\n",
    "    BAEs.append(BAE)"
   ]
  },
  {
   "cell_type": "markdown",
   "id": "542942ff",
   "metadata": {
    "papermill": {
     "duration": 0.012338,
     "end_time": "2022-07-10T18:47:11.897735",
     "exception": false,
     "start_time": "2022-07-10T18:47:11.885397",
     "status": "completed"
    },
    "tags": []
   },
   "source": [
    "### **Best Model**"
   ]
  },
  {
   "cell_type": "code",
   "execution_count": 10,
   "id": "4bbec383",
   "metadata": {
    "execution": {
     "iopub.execute_input": "2022-07-10T18:47:11.925949Z",
     "iopub.status.busy": "2022-07-10T18:47:11.924969Z",
     "iopub.status.idle": "2022-07-10T18:47:11.932698Z",
     "shell.execute_reply": "2022-07-10T18:47:11.931756Z"
    },
    "papermill": {
     "duration": 0.024648,
     "end_time": "2022-07-10T18:47:11.934660",
     "exception": false,
     "start_time": "2022-07-10T18:47:11.910012",
     "status": "completed"
    },
    "tags": []
   },
   "outputs": [
    {
     "name": "stdout",
     "output_type": "stream",
     "text": [
      "\n",
      "**************************************************\n",
      "\n",
      "Best Loss Model     : resnet50\n",
      "Best Accuracy Model : efficientnet_b2\n",
      "\n",
      "**************************************************\n",
      "\n"
     ]
    }
   ],
   "source": [
    "best_loss_index = BLEs.index(min(BLEs))\n",
    "best_accs_index = BAEs.index(max(BAEs))\n",
    "\n",
    "breaker()\n",
    "print(f\"Best Loss Model     : {model_names[best_loss_index]}\")\n",
    "print(f\"Best Accuracy Model : {model_names[best_accs_index]}\")\n",
    "breaker()"
   ]
  }
 ],
 "metadata": {
  "kernelspec": {
   "display_name": "Python 3",
   "language": "python",
   "name": "python3"
  },
  "language_info": {
   "codemirror_mode": {
    "name": "ipython",
    "version": 3
   },
   "file_extension": ".py",
   "mimetype": "text/x-python",
   "name": "python",
   "nbconvert_exporter": "python",
   "pygments_lexer": "ipython3",
   "version": "3.7.12"
  },
  "papermill": {
   "default_parameters": {},
   "duration": 5202.044831,
   "end_time": "2022-07-10T18:47:15.037542",
   "environment_variables": {},
   "exception": null,
   "input_path": "__notebook__.ipynb",
   "output_path": "__notebook__.ipynb",
   "parameters": {},
   "start_time": "2022-07-10T17:20:32.992711",
   "version": "2.3.4"
  },
  "widgets": {
   "application/vnd.jupyter.widget-state+json": {
    "state": {
     "01007383d6614dfa948f11672370a41a": {
      "model_module": "@jupyter-widgets/base",
      "model_module_version": "1.2.0",
      "model_name": "LayoutModel",
      "state": {
       "_model_module": "@jupyter-widgets/base",
       "_model_module_version": "1.2.0",
       "_model_name": "LayoutModel",
       "_view_count": null,
       "_view_module": "@jupyter-widgets/base",
       "_view_module_version": "1.2.0",
       "_view_name": "LayoutView",
       "align_content": null,
       "align_items": null,
       "align_self": null,
       "border": null,
       "bottom": null,
       "display": null,
       "flex": null,
       "flex_flow": null,
       "grid_area": null,
       "grid_auto_columns": null,
       "grid_auto_flow": null,
       "grid_auto_rows": null,
       "grid_column": null,
       "grid_gap": null,
       "grid_row": null,
       "grid_template_areas": null,
       "grid_template_columns": null,
       "grid_template_rows": null,
       "height": null,
       "justify_content": null,
       "justify_items": null,
       "left": null,
       "margin": null,
       "max_height": null,
       "max_width": null,
       "min_height": null,
       "min_width": null,
       "object_fit": null,
       "object_position": null,
       "order": null,
       "overflow": null,
       "overflow_x": null,
       "overflow_y": null,
       "padding": null,
       "right": null,
       "top": null,
       "visibility": null,
       "width": null
      }
     },
     "0edb7afecf4a4088bdb08890f21c015e": {
      "model_module": "@jupyter-widgets/base",
      "model_module_version": "1.2.0",
      "model_name": "LayoutModel",
      "state": {
       "_model_module": "@jupyter-widgets/base",
       "_model_module_version": "1.2.0",
       "_model_name": "LayoutModel",
       "_view_count": null,
       "_view_module": "@jupyter-widgets/base",
       "_view_module_version": "1.2.0",
       "_view_name": "LayoutView",
       "align_content": null,
       "align_items": null,
       "align_self": null,
       "border": null,
       "bottom": null,
       "display": null,
       "flex": null,
       "flex_flow": null,
       "grid_area": null,
       "grid_auto_columns": null,
       "grid_auto_flow": null,
       "grid_auto_rows": null,
       "grid_column": null,
       "grid_gap": null,
       "grid_row": null,
       "grid_template_areas": null,
       "grid_template_columns": null,
       "grid_template_rows": null,
       "height": null,
       "justify_content": null,
       "justify_items": null,
       "left": null,
       "margin": null,
       "max_height": null,
       "max_width": null,
       "min_height": null,
       "min_width": null,
       "object_fit": null,
       "object_position": null,
       "order": null,
       "overflow": null,
       "overflow_x": null,
       "overflow_y": null,
       "padding": null,
       "right": null,
       "top": null,
       "visibility": null,
       "width": null
      }
     },
     "158a744bc1844978bec886a12fdff880": {
      "model_module": "@jupyter-widgets/controls",
      "model_module_version": "1.5.0",
      "model_name": "HTMLModel",
      "state": {
       "_dom_classes": [],
       "_model_module": "@jupyter-widgets/controls",
       "_model_module_version": "1.5.0",
       "_model_name": "HTMLModel",
       "_view_count": null,
       "_view_module": "@jupyter-widgets/controls",
       "_view_module_version": "1.5.0",
       "_view_name": "HTMLView",
       "description": "",
       "description_tooltip": null,
       "layout": "IPY_MODEL_e530da94abab464f8fe72b5129524b2f",
       "placeholder": "​",
       "style": "IPY_MODEL_ac9689c5e6b44dbdb95fbd855ac4d8d5",
       "value": " 54.7M/54.7M [00:04&lt;00:00, 16.4MB/s]"
      }
     },
     "2223002008624c7290c719477018f85f": {
      "model_module": "@jupyter-widgets/controls",
      "model_module_version": "1.5.0",
      "model_name": "DescriptionStyleModel",
      "state": {
       "_model_module": "@jupyter-widgets/controls",
       "_model_module_version": "1.5.0",
       "_model_name": "DescriptionStyleModel",
       "_view_count": null,
       "_view_module": "@jupyter-widgets/base",
       "_view_module_version": "1.2.0",
       "_view_name": "StyleView",
       "description_width": ""
      }
     },
     "2a75745274fe4da884c484f33b864476": {
      "model_module": "@jupyter-widgets/controls",
      "model_module_version": "1.5.0",
      "model_name": "HBoxModel",
      "state": {
       "_dom_classes": [],
       "_model_module": "@jupyter-widgets/controls",
       "_model_module_version": "1.5.0",
       "_model_name": "HBoxModel",
       "_view_count": null,
       "_view_module": "@jupyter-widgets/controls",
       "_view_module_version": "1.5.0",
       "_view_name": "HBoxView",
       "box_style": "",
       "children": [
        "IPY_MODEL_b51a42ae5956487e8e4c2bcce0af6595",
        "IPY_MODEL_ab11c66e71bc41b1a8fe3e8cd7672d60",
        "IPY_MODEL_158a744bc1844978bec886a12fdff880"
       ],
       "layout": "IPY_MODEL_e64dcc5d8d4f409c8e8d208e4ed0ab93"
      }
     },
     "2f6003114b744c4a8270c25f2e775bfa": {
      "model_module": "@jupyter-widgets/controls",
      "model_module_version": "1.5.0",
      "model_name": "FloatProgressModel",
      "state": {
       "_dom_classes": [],
       "_model_module": "@jupyter-widgets/controls",
       "_model_module_version": "1.5.0",
       "_model_name": "FloatProgressModel",
       "_view_count": null,
       "_view_module": "@jupyter-widgets/controls",
       "_view_module_version": "1.5.0",
       "_view_name": "ProgressView",
       "bar_style": "success",
       "description": "",
       "description_tooltip": null,
       "layout": "IPY_MODEL_fd7df52b052c4ef093987a26260cec50",
       "max": 81131730.0,
       "min": 0.0,
       "orientation": "horizontal",
       "style": "IPY_MODEL_82e47eb0f7144069b0810e59517816ea",
       "value": 81131730.0
      }
     },
     "4f0e164b43994e18a27990e781c82125": {
      "model_module": "@jupyter-widgets/controls",
      "model_module_version": "1.5.0",
      "model_name": "ProgressStyleModel",
      "state": {
       "_model_module": "@jupyter-widgets/controls",
       "_model_module_version": "1.5.0",
       "_model_name": "ProgressStyleModel",
       "_view_count": null,
       "_view_module": "@jupyter-widgets/base",
       "_view_module_version": "1.2.0",
       "_view_name": "StyleView",
       "bar_color": null,
       "description_width": ""
      }
     },
     "4f1cc04e77234f2d8031a75645263074": {
      "model_module": "@jupyter-widgets/base",
      "model_module_version": "1.2.0",
      "model_name": "LayoutModel",
      "state": {
       "_model_module": "@jupyter-widgets/base",
       "_model_module_version": "1.2.0",
       "_model_name": "LayoutModel",
       "_view_count": null,
       "_view_module": "@jupyter-widgets/base",
       "_view_module_version": "1.2.0",
       "_view_name": "LayoutView",
       "align_content": null,
       "align_items": null,
       "align_self": null,
       "border": null,
       "bottom": null,
       "display": null,
       "flex": null,
       "flex_flow": null,
       "grid_area": null,
       "grid_auto_columns": null,
       "grid_auto_flow": null,
       "grid_auto_rows": null,
       "grid_column": null,
       "grid_gap": null,
       "grid_row": null,
       "grid_template_areas": null,
       "grid_template_columns": null,
       "grid_template_rows": null,
       "height": null,
       "justify_content": null,
       "justify_items": null,
       "left": null,
       "margin": null,
       "max_height": null,
       "max_width": null,
       "min_height": null,
       "min_width": null,
       "object_fit": null,
       "object_position": null,
       "order": null,
       "overflow": null,
       "overflow_x": null,
       "overflow_y": null,
       "padding": null,
       "right": null,
       "top": null,
       "visibility": null,
       "width": null
      }
     },
     "518fbaf5daa24d9ba4565a09fc99ff89": {
      "model_module": "@jupyter-widgets/controls",
      "model_module_version": "1.5.0",
      "model_name": "HBoxModel",
      "state": {
       "_dom_classes": [],
       "_model_module": "@jupyter-widgets/controls",
       "_model_module_version": "1.5.0",
       "_model_name": "HBoxModel",
       "_view_count": null,
       "_view_module": "@jupyter-widgets/controls",
       "_view_module_version": "1.5.0",
       "_view_name": "HBoxView",
       "box_style": "",
       "children": [
        "IPY_MODEL_f8a0b7b0b2d948ceb79a3e7a485c16fd",
        "IPY_MODEL_2f6003114b744c4a8270c25f2e775bfa",
        "IPY_MODEL_9cab3bcfe0874dbc9a3d02bcaef857ac"
       ],
       "layout": "IPY_MODEL_4f1cc04e77234f2d8031a75645263074"
      }
     },
     "6cd7cea82cd644d0a60b9d6014ebe644": {
      "model_module": "@jupyter-widgets/controls",
      "model_module_version": "1.5.0",
      "model_name": "DescriptionStyleModel",
      "state": {
       "_model_module": "@jupyter-widgets/controls",
       "_model_module_version": "1.5.0",
       "_model_name": "DescriptionStyleModel",
       "_view_count": null,
       "_view_module": "@jupyter-widgets/base",
       "_view_module_version": "1.2.0",
       "_view_name": "StyleView",
       "description_width": ""
      }
     },
     "82e47eb0f7144069b0810e59517816ea": {
      "model_module": "@jupyter-widgets/controls",
      "model_module_version": "1.5.0",
      "model_name": "ProgressStyleModel",
      "state": {
       "_model_module": "@jupyter-widgets/controls",
       "_model_module_version": "1.5.0",
       "_model_name": "ProgressStyleModel",
       "_view_count": null,
       "_view_module": "@jupyter-widgets/base",
       "_view_module_version": "1.2.0",
       "_view_name": "StyleView",
       "bar_color": null,
       "description_width": ""
      }
     },
     "862d03273ad64f029f2baedc95efaa6f": {
      "model_module": "@jupyter-widgets/controls",
      "model_module_version": "1.5.0",
      "model_name": "DescriptionStyleModel",
      "state": {
       "_model_module": "@jupyter-widgets/controls",
       "_model_module_version": "1.5.0",
       "_model_name": "DescriptionStyleModel",
       "_view_count": null,
       "_view_module": "@jupyter-widgets/base",
       "_view_module_version": "1.2.0",
       "_view_name": "StyleView",
       "description_width": ""
      }
     },
     "9cab3bcfe0874dbc9a3d02bcaef857ac": {
      "model_module": "@jupyter-widgets/controls",
      "model_module_version": "1.5.0",
      "model_name": "HTMLModel",
      "state": {
       "_dom_classes": [],
       "_model_module": "@jupyter-widgets/controls",
       "_model_module_version": "1.5.0",
       "_model_name": "HTMLModel",
       "_view_count": null,
       "_view_module": "@jupyter-widgets/controls",
       "_view_module_version": "1.5.0",
       "_view_name": "HTMLView",
       "description": "",
       "description_tooltip": null,
       "layout": "IPY_MODEL_0edb7afecf4a4088bdb08890f21c015e",
       "placeholder": "​",
       "style": "IPY_MODEL_2223002008624c7290c719477018f85f",
       "value": " 77.4M/77.4M [00:06&lt;00:00, 16.5MB/s]"
      }
     },
     "ab11c66e71bc41b1a8fe3e8cd7672d60": {
      "model_module": "@jupyter-widgets/controls",
      "model_module_version": "1.5.0",
      "model_name": "FloatProgressModel",
      "state": {
       "_dom_classes": [],
       "_model_module": "@jupyter-widgets/controls",
       "_model_module_version": "1.5.0",
       "_model_name": "FloatProgressModel",
       "_view_count": null,
       "_view_module": "@jupyter-widgets/controls",
       "_view_module_version": "1.5.0",
       "_view_name": "ProgressView",
       "bar_style": "success",
       "description": "",
       "description_tooltip": null,
       "layout": "IPY_MODEL_01007383d6614dfa948f11672370a41a",
       "max": 57365526.0,
       "min": 0.0,
       "orientation": "horizontal",
       "style": "IPY_MODEL_4f0e164b43994e18a27990e781c82125",
       "value": 57365526.0
      }
     },
     "ac9689c5e6b44dbdb95fbd855ac4d8d5": {
      "model_module": "@jupyter-widgets/controls",
      "model_module_version": "1.5.0",
      "model_name": "DescriptionStyleModel",
      "state": {
       "_model_module": "@jupyter-widgets/controls",
       "_model_module_version": "1.5.0",
       "_model_name": "DescriptionStyleModel",
       "_view_count": null,
       "_view_module": "@jupyter-widgets/base",
       "_view_module_version": "1.2.0",
       "_view_name": "StyleView",
       "description_width": ""
      }
     },
     "ad7d4849eab7432ebf816565c77490ff": {
      "model_module": "@jupyter-widgets/base",
      "model_module_version": "1.2.0",
      "model_name": "LayoutModel",
      "state": {
       "_model_module": "@jupyter-widgets/base",
       "_model_module_version": "1.2.0",
       "_model_name": "LayoutModel",
       "_view_count": null,
       "_view_module": "@jupyter-widgets/base",
       "_view_module_version": "1.2.0",
       "_view_name": "LayoutView",
       "align_content": null,
       "align_items": null,
       "align_self": null,
       "border": null,
       "bottom": null,
       "display": null,
       "flex": null,
       "flex_flow": null,
       "grid_area": null,
       "grid_auto_columns": null,
       "grid_auto_flow": null,
       "grid_auto_rows": null,
       "grid_column": null,
       "grid_gap": null,
       "grid_row": null,
       "grid_template_areas": null,
       "grid_template_columns": null,
       "grid_template_rows": null,
       "height": null,
       "justify_content": null,
       "justify_items": null,
       "left": null,
       "margin": null,
       "max_height": null,
       "max_width": null,
       "min_height": null,
       "min_width": null,
       "object_fit": null,
       "object_position": null,
       "order": null,
       "overflow": null,
       "overflow_x": null,
       "overflow_y": null,
       "padding": null,
       "right": null,
       "top": null,
       "visibility": null,
       "width": null
      }
     },
     "b51a42ae5956487e8e4c2bcce0af6595": {
      "model_module": "@jupyter-widgets/controls",
      "model_module_version": "1.5.0",
      "model_name": "HTMLModel",
      "state": {
       "_dom_classes": [],
       "_model_module": "@jupyter-widgets/controls",
       "_model_module_version": "1.5.0",
       "_model_name": "HTMLModel",
       "_view_count": null,
       "_view_module": "@jupyter-widgets/controls",
       "_view_module_version": "1.5.0",
       "_view_name": "HTMLView",
       "description": "",
       "description_tooltip": null,
       "layout": "IPY_MODEL_cc6565303c5842b1adc88adffd0b3ee4",
       "placeholder": "​",
       "style": "IPY_MODEL_6cd7cea82cd644d0a60b9d6014ebe644",
       "value": "100%"
      }
     },
     "cc6565303c5842b1adc88adffd0b3ee4": {
      "model_module": "@jupyter-widgets/base",
      "model_module_version": "1.2.0",
      "model_name": "LayoutModel",
      "state": {
       "_model_module": "@jupyter-widgets/base",
       "_model_module_version": "1.2.0",
       "_model_name": "LayoutModel",
       "_view_count": null,
       "_view_module": "@jupyter-widgets/base",
       "_view_module_version": "1.2.0",
       "_view_name": "LayoutView",
       "align_content": null,
       "align_items": null,
       "align_self": null,
       "border": null,
       "bottom": null,
       "display": null,
       "flex": null,
       "flex_flow": null,
       "grid_area": null,
       "grid_auto_columns": null,
       "grid_auto_flow": null,
       "grid_auto_rows": null,
       "grid_column": null,
       "grid_gap": null,
       "grid_row": null,
       "grid_template_areas": null,
       "grid_template_columns": null,
       "grid_template_rows": null,
       "height": null,
       "justify_content": null,
       "justify_items": null,
       "left": null,
       "margin": null,
       "max_height": null,
       "max_width": null,
       "min_height": null,
       "min_width": null,
       "object_fit": null,
       "object_position": null,
       "order": null,
       "overflow": null,
       "overflow_x": null,
       "overflow_y": null,
       "padding": null,
       "right": null,
       "top": null,
       "visibility": null,
       "width": null
      }
     },
     "e530da94abab464f8fe72b5129524b2f": {
      "model_module": "@jupyter-widgets/base",
      "model_module_version": "1.2.0",
      "model_name": "LayoutModel",
      "state": {
       "_model_module": "@jupyter-widgets/base",
       "_model_module_version": "1.2.0",
       "_model_name": "LayoutModel",
       "_view_count": null,
       "_view_module": "@jupyter-widgets/base",
       "_view_module_version": "1.2.0",
       "_view_name": "LayoutView",
       "align_content": null,
       "align_items": null,
       "align_self": null,
       "border": null,
       "bottom": null,
       "display": null,
       "flex": null,
       "flex_flow": null,
       "grid_area": null,
       "grid_auto_columns": null,
       "grid_auto_flow": null,
       "grid_auto_rows": null,
       "grid_column": null,
       "grid_gap": null,
       "grid_row": null,
       "grid_template_areas": null,
       "grid_template_columns": null,
       "grid_template_rows": null,
       "height": null,
       "justify_content": null,
       "justify_items": null,
       "left": null,
       "margin": null,
       "max_height": null,
       "max_width": null,
       "min_height": null,
       "min_width": null,
       "object_fit": null,
       "object_position": null,
       "order": null,
       "overflow": null,
       "overflow_x": null,
       "overflow_y": null,
       "padding": null,
       "right": null,
       "top": null,
       "visibility": null,
       "width": null
      }
     },
     "e64dcc5d8d4f409c8e8d208e4ed0ab93": {
      "model_module": "@jupyter-widgets/base",
      "model_module_version": "1.2.0",
      "model_name": "LayoutModel",
      "state": {
       "_model_module": "@jupyter-widgets/base",
       "_model_module_version": "1.2.0",
       "_model_name": "LayoutModel",
       "_view_count": null,
       "_view_module": "@jupyter-widgets/base",
       "_view_module_version": "1.2.0",
       "_view_name": "LayoutView",
       "align_content": null,
       "align_items": null,
       "align_self": null,
       "border": null,
       "bottom": null,
       "display": null,
       "flex": null,
       "flex_flow": null,
       "grid_area": null,
       "grid_auto_columns": null,
       "grid_auto_flow": null,
       "grid_auto_rows": null,
       "grid_column": null,
       "grid_gap": null,
       "grid_row": null,
       "grid_template_areas": null,
       "grid_template_columns": null,
       "grid_template_rows": null,
       "height": null,
       "justify_content": null,
       "justify_items": null,
       "left": null,
       "margin": null,
       "max_height": null,
       "max_width": null,
       "min_height": null,
       "min_width": null,
       "object_fit": null,
       "object_position": null,
       "order": null,
       "overflow": null,
       "overflow_x": null,
       "overflow_y": null,
       "padding": null,
       "right": null,
       "top": null,
       "visibility": null,
       "width": null
      }
     },
     "f8a0b7b0b2d948ceb79a3e7a485c16fd": {
      "model_module": "@jupyter-widgets/controls",
      "model_module_version": "1.5.0",
      "model_name": "HTMLModel",
      "state": {
       "_dom_classes": [],
       "_model_module": "@jupyter-widgets/controls",
       "_model_module_version": "1.5.0",
       "_model_name": "HTMLModel",
       "_view_count": null,
       "_view_module": "@jupyter-widgets/controls",
       "_view_module_version": "1.5.0",
       "_view_name": "HTMLView",
       "description": "",
       "description_tooltip": null,
       "layout": "IPY_MODEL_ad7d4849eab7432ebf816565c77490ff",
       "placeholder": "​",
       "style": "IPY_MODEL_862d03273ad64f029f2baedc95efaa6f",
       "value": "100%"
      }
     },
     "fd7df52b052c4ef093987a26260cec50": {
      "model_module": "@jupyter-widgets/base",
      "model_module_version": "1.2.0",
      "model_name": "LayoutModel",
      "state": {
       "_model_module": "@jupyter-widgets/base",
       "_model_module_version": "1.2.0",
       "_model_name": "LayoutModel",
       "_view_count": null,
       "_view_module": "@jupyter-widgets/base",
       "_view_module_version": "1.2.0",
       "_view_name": "LayoutView",
       "align_content": null,
       "align_items": null,
       "align_self": null,
       "border": null,
       "bottom": null,
       "display": null,
       "flex": null,
       "flex_flow": null,
       "grid_area": null,
       "grid_auto_columns": null,
       "grid_auto_flow": null,
       "grid_auto_rows": null,
       "grid_column": null,
       "grid_gap": null,
       "grid_row": null,
       "grid_template_areas": null,
       "grid_template_columns": null,
       "grid_template_rows": null,
       "height": null,
       "justify_content": null,
       "justify_items": null,
       "left": null,
       "margin": null,
       "max_height": null,
       "max_width": null,
       "min_height": null,
       "min_width": null,
       "object_fit": null,
       "object_position": null,
       "order": null,
       "overflow": null,
       "overflow_x": null,
       "overflow_y": null,
       "padding": null,
       "right": null,
       "top": null,
       "visibility": null,
       "width": null
      }
     }
    },
    "version_major": 2,
    "version_minor": 0
   }
  }
 },
 "nbformat": 4,
 "nbformat_minor": 5
}
