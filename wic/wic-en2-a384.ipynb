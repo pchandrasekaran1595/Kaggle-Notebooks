{
 "cells": [
  {
   "cell_type": "markdown",
   "id": "c0be4ec3",
   "metadata": {
    "_cell_guid": "b1076dfc-b9ad-4769-8c92-a6c4dae69d19",
    "_uuid": "8f2839f25d086af736a60e9eeb907d3b93b6e0e5",
    "papermill": {
     "duration": 0.005413,
     "end_time": "2022-09-26T12:12:55.446749",
     "exception": false,
     "start_time": "2022-09-26T12:12:55.441336",
     "status": "completed"
    },
    "tags": []
   },
   "source": [
    "##### **Setup**"
   ]
  },
  {
   "cell_type": "code",
   "execution_count": 1,
   "id": "912d530d",
   "metadata": {
    "execution": {
     "iopub.execute_input": "2022-09-26T12:12:55.458936Z",
     "iopub.status.busy": "2022-09-26T12:12:55.458090Z",
     "iopub.status.idle": "2022-09-26T12:13:05.128613Z",
     "shell.execute_reply": "2022-09-26T12:13:05.126373Z"
    },
    "papermill": {
     "duration": 9.681432,
     "end_time": "2022-09-26T12:13:05.132455",
     "exception": false,
     "start_time": "2022-09-26T12:12:55.451023",
     "status": "completed"
    },
    "tags": []
   },
   "outputs": [
    {
     "name": "stderr",
     "output_type": "stream",
     "text": [
      "WARNING: Running pip as the 'root' user can result in broken permissions and conflicting behaviour with the system package manager. It is recommended to use a virtual environment instead: https://pip.pypa.io/warnings/venv\n"
     ]
    }
   ],
   "source": [
    "%%bash\n",
    "pip install timm -q"
   ]
  },
  {
   "cell_type": "markdown",
   "id": "e5c81d73",
   "metadata": {
    "papermill": {
     "duration": 0.004163,
     "end_time": "2022-09-26T12:13:05.143432",
     "exception": false,
     "start_time": "2022-09-26T12:13:05.139269",
     "status": "completed"
    },
    "tags": []
   },
   "source": [
    "### **Library Imports**"
   ]
  },
  {
   "cell_type": "code",
   "execution_count": 2,
   "id": "7f940ba4",
   "metadata": {
    "execution": {
     "iopub.execute_input": "2022-09-26T12:13:05.152923Z",
     "iopub.status.busy": "2022-09-26T12:13:05.152527Z",
     "iopub.status.idle": "2022-09-26T12:13:12.943660Z",
     "shell.execute_reply": "2022-09-26T12:13:12.938928Z"
    },
    "papermill": {
     "duration": 7.806235,
     "end_time": "2022-09-26T12:13:12.953522",
     "exception": false,
     "start_time": "2022-09-26T12:13:05.147287",
     "status": "completed"
    },
    "tags": []
   },
   "outputs": [],
   "source": [
    "import os\n",
    "import re\n",
    "import cv2\n",
    "import timm\n",
    "import torch\n",
    "import numpy as np\n",
    "import pandas as pd\n",
    "import matplotlib.pyplot as plt\n",
    "\n",
    "from time import time\n",
    "from torch import nn, optim\n",
    "from torch.utils.data import Dataset\n",
    "from torch.utils.data import DataLoader as DL\n",
    "from torchvision import models, transforms\n",
    "\n",
    "from sklearn.model_selection import StratifiedKFold"
   ]
  },
  {
   "cell_type": "markdown",
   "id": "7771659b",
   "metadata": {
    "papermill": {
     "duration": 0.007513,
     "end_time": "2022-09-26T12:13:12.969934",
     "exception": false,
     "start_time": "2022-09-26T12:13:12.962421",
     "status": "completed"
    },
    "tags": []
   },
   "source": [
    "### **Utilities and Helpers**"
   ]
  },
  {
   "cell_type": "code",
   "execution_count": 3,
   "id": "2de031a4",
   "metadata": {
    "execution": {
     "iopub.execute_input": "2022-09-26T12:13:12.991041Z",
     "iopub.status.busy": "2022-09-26T12:13:12.989708Z",
     "iopub.status.idle": "2022-09-26T12:13:13.014360Z",
     "shell.execute_reply": "2022-09-26T12:13:13.013180Z"
    },
    "papermill": {
     "duration": 0.041193,
     "end_time": "2022-09-26T12:13:13.017966",
     "exception": false,
     "start_time": "2022-09-26T12:13:12.976773",
     "status": "completed"
    },
    "tags": []
   },
   "outputs": [],
   "source": [
    "SEED = 42\n",
    "SIZE = 384\n",
    "\n",
    "\n",
    "def breaker(num: int=50, char: str=\"*\") -> None:\n",
    "    print(\"\\n\" + num*char + \"\\n\")\n",
    "\n",
    "    \n",
    "def get_image(path: str, size: int=224) -> np.ndarray:\n",
    "    image = cv2.imread(path, cv2.IMREAD_COLOR)\n",
    "    image = cv2.cvtColor(src=image, code=cv2.COLOR_BGR2RGB)\n",
    "    return cv2.resize(src=image, dsize=(size, size), interpolation=cv2.INTER_AREA)\n",
    "\n",
    "    \n",
    "def show_loss_graphs(L: list) -> None:\n",
    "    TL, VL = [], []\n",
    "    for i in range(len(L)):\n",
    "        TL.append(L[i][\"train\"])\n",
    "        VL.append(L[i][\"valid\"])\n",
    "    x_Axis = np.arange(1, len(TL) + 1)\n",
    "    plt.figure()\n",
    "    plt.plot(x_Axis, TL, \"r\", label=\"Train\")\n",
    "    plt.plot(x_Axis, VL, \"b\", label=\"Valid\")\n",
    "    plt.legend()\n",
    "    plt.grid()\n",
    "    plt.title(\"Loss Graph\")\n",
    "    plt.show()\n",
    "\n",
    "    \n",
    "def show_accuracy_graphs(A: list) -> None:\n",
    "    TA, VA = [], []\n",
    "    for i in range(len(A)):\n",
    "        TA.append(A[i][\"train\"])\n",
    "        VA.append(A[i][\"valid\"])\n",
    "    x_Axis = np.arange(1, len(TA) + 1)\n",
    "    plt.figure()\n",
    "    plt.plot(x_Axis, TA, \"r\", label=\"Train\")\n",
    "    plt.plot(x_Axis, VA, \"b\", label=\"Valid\")\n",
    "    plt.legend()\n",
    "    plt.grid()\n",
    "    plt.title(\"Accuracy Graph\")\n",
    "    plt.show()\n",
    "    \n",
    "\n",
    "def show_lr_graph(LR: list) -> None:\n",
    "    x_Axis = [i+1 for i in range(len(LR))]\n",
    "    plt.figure(figsize=(8, 6))\n",
    "    plt.plot(x_Axis, LR, \"rx\")\n",
    "    plt.grid()\n",
    "    plt.show()"
   ]
  },
  {
   "cell_type": "markdown",
   "id": "022c66fa",
   "metadata": {
    "papermill": {
     "duration": 0.017985,
     "end_time": "2022-09-26T12:13:13.044540",
     "exception": false,
     "start_time": "2022-09-26T12:13:13.026555",
     "status": "completed"
    },
    "tags": []
   },
   "source": [
    "### **Configuration**"
   ]
  },
  {
   "cell_type": "code",
   "execution_count": 4,
   "id": "5cc6e22f",
   "metadata": {
    "execution": {
     "iopub.execute_input": "2022-09-26T12:13:13.058087Z",
     "iopub.status.busy": "2022-09-26T12:13:13.057277Z",
     "iopub.status.idle": "2022-09-26T12:13:13.156930Z",
     "shell.execute_reply": "2022-09-26T12:13:13.155869Z"
    },
    "papermill": {
     "duration": 0.109602,
     "end_time": "2022-09-26T12:13:13.159977",
     "exception": false,
     "start_time": "2022-09-26T12:13:13.050375",
     "status": "completed"
    },
    "tags": []
   },
   "outputs": [],
   "source": [
    "class CFG(object):\n",
    "    def __init__(self, \n",
    "                 seed: int = 42,\n",
    "                 size: int = 224,\n",
    "                 n_splits: int = 5,\n",
    "                 batch_size: int = 16,\n",
    "                 epochs: int = 25,\n",
    "                 early_stopping: int = 5,\n",
    "                 lr: float = 1e-4,\n",
    "                 wd: float = 0.0,\n",
    "                 max_lr: float = 1e-3,\n",
    "                 pct_start: float = 0.2,\n",
    "                 steps_per_epoch: int = 100,\n",
    "                 div_factor: int = 1e3, \n",
    "                 final_div_factor: float = 1e3,\n",
    "                 ):\n",
    "        self.seed = seed\n",
    "        self.size = size\n",
    "        self.n_splits = n_splits\n",
    "        self.batch_size = batch_size\n",
    "        self.epochs = epochs\n",
    "        self.early_stopping = early_stopping\n",
    "        self.lr = lr\n",
    "        self.wd = wd\n",
    "        self.max_lr = max_lr\n",
    "        self.pct_start = pct_start\n",
    "        self.steps_per_epoch = steps_per_epoch\n",
    "        self.div_factor = div_factor\n",
    "        self.final_div_factor = final_div_factor\n",
    "        self.device = torch.device(\"cuda\" if torch.cuda.is_available() else \"cpu\")\n",
    "        self.train_transform = transforms.Compose([\n",
    "            transforms.ToTensor(),\n",
    "            transforms.Normalize([0.51684, 0.52503, 0.50567], [0.19350, 0.18743, 0.19404]),\n",
    "            transforms.RandomAffine(degrees=(-45, 45), translate=(0.15, 0.15), scale=(0.5, 1.5)),\n",
    "            transforms.RandomHorizontalFlip(p=0.25),\n",
    "            transforms.RandomVerticalFlip(p=0.25),\n",
    "        ])\n",
    "        self.valid_transform = transforms.Compose([\n",
    "            transforms.ToTensor(),\n",
    "            transforms.Normalize([0.51684, 0.52503, 0.50567], [0.19350, 0.18743, 0.19404]),\n",
    "        ])\n",
    "                                \n",
    "        self.save_path = \"saves\"\n",
    "        if not os.path.exists(self.save_path): os.makedirs(self.save_path)\n",
    "    \n",
    "cfg = CFG(seed=SEED, size=SIZE)"
   ]
  },
  {
   "cell_type": "markdown",
   "id": "b3896062",
   "metadata": {
    "papermill": {
     "duration": 0.005603,
     "end_time": "2022-09-26T12:13:13.172204",
     "exception": false,
     "start_time": "2022-09-26T12:13:13.166601",
     "status": "completed"
    },
    "tags": []
   },
   "source": [
    "### **Dataset Template**"
   ]
  },
  {
   "cell_type": "code",
   "execution_count": 5,
   "id": "eb910c07",
   "metadata": {
    "execution": {
     "iopub.execute_input": "2022-09-26T12:13:13.184819Z",
     "iopub.status.busy": "2022-09-26T12:13:13.184409Z",
     "iopub.status.idle": "2022-09-26T12:13:13.195277Z",
     "shell.execute_reply": "2022-09-26T12:13:13.194444Z"
    },
    "papermill": {
     "duration": 0.019941,
     "end_time": "2022-09-26T12:13:13.197754",
     "exception": false,
     "start_time": "2022-09-26T12:13:13.177813",
     "status": "completed"
    },
    "tags": []
   },
   "outputs": [],
   "source": [
    "class DS(Dataset):\n",
    "    def __init__(\n",
    "        self, \n",
    "        base_path: str,\n",
    "        filenames: np.ndarray, \n",
    "        folder_names: np.ndarray, \n",
    "        labels: np.ndarray, \n",
    "        size: int,\n",
    "        transform=None):\n",
    "        \n",
    "        self.base_path = base_path\n",
    "        self.filenames = filenames\n",
    "        self.folder_names = folder_names\n",
    "        self.labels = labels\n",
    "        self.size = size\n",
    "        self.transform = transform\n",
    "    \n",
    "    def __len__(self):\n",
    "        return self.filenames.shape[0]\n",
    "    \n",
    "    def __getitem__(self, idx):\n",
    "        path = os.path.join(os.path.join(self.base_path, self.folder_names[idx]), self.filenames[idx])\n",
    "        image = get_image(path, self.size)\n",
    "        return self.transform(image), self.labels[idx]"
   ]
  },
  {
   "cell_type": "markdown",
   "id": "172ccb08",
   "metadata": {
    "papermill": {
     "duration": 0.005347,
     "end_time": "2022-09-26T12:13:13.208698",
     "exception": false,
     "start_time": "2022-09-26T12:13:13.203351",
     "status": "completed"
    },
    "tags": []
   },
   "source": [
    "### **Model**"
   ]
  },
  {
   "cell_type": "code",
   "execution_count": 6,
   "id": "c94f6dfa",
   "metadata": {
    "execution": {
     "iopub.execute_input": "2022-09-26T12:13:13.221284Z",
     "iopub.status.busy": "2022-09-26T12:13:13.220923Z",
     "iopub.status.idle": "2022-09-26T12:13:13.229872Z",
     "shell.execute_reply": "2022-09-26T12:13:13.229032Z"
    },
    "papermill": {
     "duration": 0.018166,
     "end_time": "2022-09-26T12:13:13.232388",
     "exception": false,
     "start_time": "2022-09-26T12:13:13.214222",
     "status": "completed"
    },
    "tags": []
   },
   "outputs": [],
   "source": [
    "class Model(nn.Module):\n",
    "    def __init__(self):\n",
    "        super(Model, self).__init__()\n",
    "            \n",
    "        self.model = timm.create_model(model_name=\"efficientnet_b2\", pretrained=True)\n",
    "        self.model.classifier = nn.Linear(in_features=self.model.classifier.in_features, out_features=11)\n",
    "            \n",
    "    def freeze(self):\n",
    "        for params in self.parameters(): params.requires_grad = False\n",
    "\n",
    "    def forward(self, x):\n",
    "        return nn.LogSoftmax(dim=1)(self.model(x))"
   ]
  },
  {
   "cell_type": "markdown",
   "id": "f5b237b1",
   "metadata": {
    "papermill": {
     "duration": 0.005647,
     "end_time": "2022-09-26T12:13:13.243818",
     "exception": false,
     "start_time": "2022-09-26T12:13:13.238171",
     "status": "completed"
    },
    "tags": []
   },
   "source": [
    "### **Fit and Predict**"
   ]
  },
  {
   "cell_type": "code",
   "execution_count": 7,
   "id": "a1e05a43",
   "metadata": {
    "execution": {
     "iopub.execute_input": "2022-09-26T12:13:13.256805Z",
     "iopub.status.busy": "2022-09-26T12:13:13.256448Z",
     "iopub.status.idle": "2022-09-26T12:13:13.288906Z",
     "shell.execute_reply": "2022-09-26T12:13:13.288034Z"
    },
    "papermill": {
     "duration": 0.042136,
     "end_time": "2022-09-26T12:13:13.291683",
     "exception": false,
     "start_time": "2022-09-26T12:13:13.249547",
     "status": "completed"
    },
    "tags": []
   },
   "outputs": [],
   "source": [
    "def fit(model=None,\n",
    "        optimizer=None, \n",
    "        scheduler_rlrop=None,\n",
    "        scheduler_oclr=None,\n",
    "        epochs=None, \n",
    "        early_stopping_patience=None, \n",
    "        dataloaders=None, \n",
    "        fold=None, \n",
    "        save_path=None,\n",
    "        device=None,\n",
    "        verbose=False) -> tuple:\n",
    "    \n",
    "    def get_accuracy(y_pred, y_true):\n",
    "        y_pred = torch.argmax(y_pred, dim=1)\n",
    "        return torch.count_nonzero(y_pred == y_true).item() / len(y_pred)\n",
    "    \n",
    "    \n",
    "    if verbose:\n",
    "        breaker()\n",
    "        if fold: print(f\"Training Fold {fold}...\")\n",
    "        else: print(\"Training ...\")\n",
    "        breaker()\n",
    "        \n",
    "    bestLoss: dict = {\"train\" : np.inf, \"valid\" : np.inf} \n",
    "    bestAccs: dict = {\"train\" : 0.0, \"valid\" : 0.0}\n",
    "    \n",
    "    Losses: list = []\n",
    "    Accuracies: list = [] \n",
    "    LRs: list = []\n",
    "        \n",
    "    if fold: \n",
    "        ble_name = f\"ble_state_fold_{fold}.pt\"\n",
    "        bae_name = f\"bae_state_fold_{fold}.pt\"\n",
    "    else: \n",
    "        ble_name = f\"ble_state.pt\"\n",
    "        bae_name = f\"bae_state.pt\"\n",
    "        \n",
    "    start_time = time()\n",
    "    for e in range(epochs):\n",
    "        e_st = time()\n",
    "        epochLoss: dict = {\"train\" : 0.0, \"valid\" : 0.0} \n",
    "        epochAccs: dict = {\"train\" : 0.0, \"valid\" : 0.0}\n",
    "\n",
    "        for phase in [\"train\", \"valid\"]:\n",
    "            if phase == \"train\":\n",
    "                model.train()\n",
    "            else:\n",
    "                model.eval()\n",
    "            \n",
    "            lossPerPass: list = []\n",
    "            accsPerPass: list = []\n",
    "                \n",
    "            for X, y in dataloaders[phase]:\n",
    "                X, y = X.to(device), y.to(device).view(-1)\n",
    "\n",
    "                optimizer.zero_grad()\n",
    "                with torch.set_grad_enabled(phase == \"train\"):\n",
    "                    output = model(X)\n",
    "                    loss = torch.nn.NLLLoss()(output, y)\n",
    "                    if phase == \"train\":\n",
    "                        loss.backward()\n",
    "                        optimizer.step()\n",
    "                        if scheduler_oclr: scheduler_oclr.step()\n",
    "                lossPerPass.append(loss.item())\n",
    "                accsPerPass.append(get_accuracy(output, y))\n",
    "            epochLoss[phase] = np.mean(np.array(lossPerPass))\n",
    "            epochAccs[phase] = np.mean(np.array(accsPerPass))\n",
    "        if scheduler_oclr: LRs.append(scheduler_oclr.get_last_lr())\n",
    "        Losses.append(epochLoss)\n",
    "        Accuracies.append(epochAccs)\n",
    "        \n",
    "        if scheduler_oclr:\n",
    "            save_dict = {\"model_state_dict\"     : model.state_dict(),\n",
    "                         \"optim_state_dict\"     : optimizer.state_dict(),\n",
    "                         \"scheduler_state_dict\" : scheduler_oclr.state_dict()}\n",
    "        \n",
    "        elif scheduler_rlrop:\n",
    "            save_dict = {\"model_state_dict\"     : model.state_dict(),\n",
    "                         \"optim_state_dict\"     : optimizer.state_dict(),\n",
    "                         \"scheduler_state_dict\" : scheduler_rlrop.state_dict()}\n",
    "        \n",
    "        else:\n",
    "            save_dict = {\"model_state_dict\"     : model.state_dict(),\n",
    "                         \"optim_state_dict\"     : optimizer.state_dict()}\n",
    "        \n",
    "        if early_stopping_patience:\n",
    "            if epochLoss[\"valid\"] < bestLoss[\"valid\"]:\n",
    "                bestLoss = epochLoss\n",
    "                BLE = e + 1\n",
    "                torch.save(save_dict, os.path.join(save_path, ble_name))\n",
    "                torch.save(save_dict, os.path.join(save_path, bae_name))\n",
    "                early_stopping_step = 0\n",
    "            else:\n",
    "                early_stopping_step += 1\n",
    "                if early_stopping_step > early_stopping_patience:\n",
    "                    print(\"\\nEarly Stopping at Epoch {}\".format(e + 1))\n",
    "                    break\n",
    "        \n",
    "        if epochLoss[\"valid\"] < bestLoss[\"valid\"]:\n",
    "            bestLoss = epochLoss\n",
    "            BLE = e + 1\n",
    "            torch.save(save_dict,os.path.join(save_path, ble_name))\n",
    "        \n",
    "        if epochAccs[\"valid\"] > bestAccs[\"valid\"]:\n",
    "            bestAccs = epochAccs\n",
    "            BAE = e + 1\n",
    "            torch.save(save_dict,os.path.join(save_path, bae_name))\n",
    "        \n",
    "        if scheduler_rlrop: scheduler_rlrop.step(epochLoss[\"valid\"])\n",
    "        \n",
    "        if verbose:\n",
    "            print(\"Epoch: {} | Train Loss: {:.5f} | Valid Loss: {:.5f} |\\\n",
    " Train Accs: {:.5f} | Valid Accs: {:.5f} | Time: {:.2f} seconds\".format(e+1, \n",
    "                                                                        epochLoss[\"train\"], epochLoss[\"valid\"], \n",
    "                                                                        epochAccs[\"train\"], epochAccs[\"valid\"], \n",
    "                                                                        time()-e_st))\n",
    "\n",
    "    if verbose:                                           \n",
    "        breaker()\n",
    "        print(f\"Best Validation Loss at Epoch {BLE}\")\n",
    "        breaker()\n",
    "        print(f\"Best Validation Accs at Epoch {BAE}\")\n",
    "        breaker()\n",
    "        print(\"Time Taken [{} Epochs] : {:.2f} minutes\".format(len(Losses), (time()-start_time)/60))\n",
    "    \n",
    "    return Losses, Accuracies, LRs, bestLoss, bestAccs, BLE, BAE, ble_name, bae_name\n",
    "\n",
    "\n",
    "# def predict_batch(model=None, dataloader=None, path=None, device=None) -> np.ndarray:\n",
    "#     model.load_state_dict(torch.load(path, map_location=device)[\"model_state_dict\"])\n",
    "#     model.to(device)    \n",
    "#     model.eval()\n",
    "    \n",
    "#     y_pred = torch.zeros(1, 1).to(device)\n",
    "    \n",
    "#     for X in dataloader:\n",
    "#         X = X.to(device)\n",
    "#         with torch.no_grad():\n",
    "#             output = torch.argmax(torch.exp(model(X)), dim=1)\n",
    "#         y_pred = torch.cat((y_pred, output.view(-1, 1)), dim=0)\n",
    "    \n",
    "#     return y_pred[1:].detach().cpu().numpy()"
   ]
  },
  {
   "cell_type": "markdown",
   "id": "21604c63",
   "metadata": {
    "papermill": {
     "duration": 0.005923,
     "end_time": "2022-09-26T12:13:13.303479",
     "exception": false,
     "start_time": "2022-09-26T12:13:13.297556",
     "status": "completed"
    },
    "tags": []
   },
   "source": [
    "### **Train**"
   ]
  },
  {
   "cell_type": "code",
   "execution_count": 8,
   "id": "829d117a",
   "metadata": {
    "execution": {
     "iopub.execute_input": "2022-09-26T12:13:13.316210Z",
     "iopub.status.busy": "2022-09-26T12:13:13.315861Z",
     "iopub.status.idle": "2022-09-26T12:13:13.319850Z",
     "shell.execute_reply": "2022-09-26T12:13:13.318979Z"
    },
    "papermill": {
     "duration": 0.014517,
     "end_time": "2022-09-26T12:13:13.323696",
     "exception": false,
     "start_time": "2022-09-26T12:13:13.309179",
     "status": "completed"
    },
    "tags": []
   },
   "outputs": [],
   "source": [
    "# df = pd.read_csv(\"../input/wic-dataframe/data.csv\")\n",
    "\n",
    "# filenames = df.filenames.copy().values\n",
    "# folder_names = df.folder_names.copy().values\n",
    "# labels = df.classes.copy().values"
   ]
  },
  {
   "cell_type": "code",
   "execution_count": 9,
   "id": "f433ded0",
   "metadata": {
    "execution": {
     "iopub.execute_input": "2022-09-26T12:13:13.335677Z",
     "iopub.status.busy": "2022-09-26T12:13:13.335354Z",
     "iopub.status.idle": "2022-09-26T12:13:13.343965Z",
     "shell.execute_reply": "2022-09-26T12:13:13.343163Z"
    },
    "papermill": {
     "duration": 0.017275,
     "end_time": "2022-09-26T12:13:13.346306",
     "exception": false,
     "start_time": "2022-09-26T12:13:13.329031",
     "status": "completed"
    },
    "tags": []
   },
   "outputs": [],
   "source": [
    "# fold: int = 1\n",
    "# BLs: list = []\n",
    "# BAs: list = []\n",
    "# model_name: str = \"efficientnet_b2\"\n",
    "    \n",
    "# for tr_idx, va_idx in StratifiedKFold(n_splits=cfg.n_splits, random_state=cfg.seed, shuffle=True).split(filenames, labels):\n",
    "\n",
    "#     tr_filenames, va_filenames       = filenames[tr_idx], filenames[va_idx] \n",
    "#     tr_folder_names, va_folder_names = folder_names[tr_idx], folder_names[va_idx] \n",
    "#     tr_labels, va_labels             = labels[tr_idx], labels[va_idx]\n",
    "\n",
    "#     tr_data_setup = DS(\n",
    "#         base_path=\"../input/weather-dataset/dataset\", \n",
    "#         filenames=tr_filenames, \n",
    "#         folder_names=tr_folder_names,\n",
    "#         labels=tr_labels.reshape(-1, 1),\n",
    "#         size=cfg.size,\n",
    "#         transform=cfg.train_transform\n",
    "#     )\n",
    "    \n",
    "#     va_data_setup = DS(\n",
    "#         base_path=\"../input/weather-dataset/dataset\", \n",
    "#         filenames=va_filenames, \n",
    "#         folder_names=va_folder_names,\n",
    "#         labels=va_labels.reshape(-1, 1),\n",
    "#         size=cfg.size,\n",
    "#         transform=cfg.valid_transform\n",
    "#     )\n",
    "\n",
    "#     dataloaders = {\n",
    "#         \"train\" : DL(tr_data_setup, batch_size=cfg.batch_size, shuffle=True, generator=torch.manual_seed(cfg.seed)),\n",
    "#         \"valid\" : DL(va_data_setup, batch_size=cfg.batch_size, shuffle=False),\n",
    "#     }\n",
    "\n",
    "#     cfg = CFG(\n",
    "#         size=SIZE,\n",
    "#         epochs=25, \n",
    "#         batch_size=64, \n",
    "#         early_stopping=5,\n",
    "#         steps_per_epoch=len(dataloaders[\"train\"])\n",
    "#     )\n",
    "    \n",
    "#     torch.manual_seed(cfg.seed)\n",
    "#     model = Model(model_name=model_name).to(cfg.device)\n",
    "\n",
    "#     optimizer = optim.Adam([p for p in model.parameters() if p.requires_grad], lr=cfg.lr, weight_decay=cfg.wd)\n",
    "#     # optimizer = optim.AdamW([p for p in model.parameters() if p.requires_grad], lr=cfg.lr, weight_decay=cfg.wd)\n",
    "#     # optimizer = optim.SGD([p for p in model.parameters() if p.requires_grad], lr=cfg.lr, weight_decay=cfg.wd, momentum=0.9)\n",
    "\n",
    "#     scheduler_oclr = optim.lr_scheduler.OneCycleLR(\n",
    "#         optimizer=optimizer, \n",
    "#         max_lr=cfg.max_lr, \n",
    "#         epochs=cfg.epochs, \n",
    "#         steps_per_epoch=cfg.steps_per_epoch,\n",
    "#         pct_start=cfg.pct_start, \n",
    "#         div_factor=cfg.div_factor, \n",
    "#         final_div_factor=cfg.final_div_factor\n",
    "#     )\n",
    "\n",
    "#     # scheduler_rlrop = optim.lr_scheduler.ReduceLROnPlateau(\n",
    "#     #     optimizer=optimizer,\n",
    "#     #     patience=cfg.patience,\n",
    "#     #     eps=cfg.eps,\n",
    "#     #     verbose=True\n",
    "#     # )\n",
    "\n",
    "#     # scheduler_oclr = None\n",
    "#     scheduler_rlrop = None\n",
    "\n",
    "\n",
    "#     L, A, LR, BL, BA, _, _, _, _ = fit(\n",
    "#         model=model, \n",
    "#         optimizer=optimizer, \n",
    "#         scheduler_oclr=scheduler_oclr,\n",
    "#         scheduler_rlrop=scheduler_rlrop,\n",
    "#         epochs=cfg.epochs, \n",
    "#         early_stopping_patience=cfg.early_stopping, \n",
    "#         dataloaders=dataloaders, \n",
    "#         device=cfg.device,\n",
    "#         save_path=cfg.save_path,\n",
    "#         fold=fold,\n",
    "#         verbose=True\n",
    "#     )\n",
    "\n",
    "\n",
    "#     breaker()\n",
    "#     show_loss_graphs(L)\n",
    "#     breaker()\n",
    "#     show_accuracy_graphs(A)\n",
    "#     breaker()\n",
    "#     if scheduler_oclr:\n",
    "#         show_lr_graph(LR)\n",
    "#         breaker()\n",
    "    \n",
    "#     BLs.append(BL)\n",
    "#     BAs.append(BA)\n",
    "    \n",
    "#     fold += 1"
   ]
  },
  {
   "cell_type": "markdown",
   "id": "b05900a4",
   "metadata": {
    "papermill": {
     "duration": 0.005466,
     "end_time": "2022-09-26T12:13:13.356962",
     "exception": false,
     "start_time": "2022-09-26T12:13:13.351496",
     "status": "completed"
    },
    "tags": []
   },
   "source": [
    "### **Best Model**"
   ]
  },
  {
   "cell_type": "code",
   "execution_count": 10,
   "id": "b4b6c036",
   "metadata": {
    "execution": {
     "iopub.execute_input": "2022-09-26T12:13:13.372575Z",
     "iopub.status.busy": "2022-09-26T12:13:13.372305Z",
     "iopub.status.idle": "2022-09-26T12:13:13.378876Z",
     "shell.execute_reply": "2022-09-26T12:13:13.378029Z"
    },
    "papermill": {
     "duration": 0.019068,
     "end_time": "2022-09-26T12:13:13.381412",
     "exception": false,
     "start_time": "2022-09-26T12:13:13.362344",
     "status": "completed"
    },
    "tags": []
   },
   "outputs": [],
   "source": [
    "# BL = np.inf\n",
    "# for i in range(len(BLs)):\n",
    "#     if BLs[i][\"valid\"] < BL:\n",
    "#         BL = BLs[i][\"valid\"]\n",
    "#         best_loss_index = i\n",
    "\n",
    "        \n",
    "# BA = 0.0\n",
    "# for i in range(len(BAs)):\n",
    "#     if BAs[i][\"valid\"] > BA:\n",
    "#         BA = BAs[i][\"valid\"]\n",
    "#         best_accs_index = i\n",
    "\n",
    "# breaker()\n",
    "# print(f\"Best Loss Model Fold     : {best_loss_index + 1}\")\n",
    "# print(f\"Best Accuracy Model Fold : {best_accs_index + 1}\")\n",
    "# breaker()"
   ]
  }
 ],
 "metadata": {
  "kernelspec": {
   "display_name": "Python 3",
   "language": "python",
   "name": "python3"
  },
  "language_info": {
   "codemirror_mode": {
    "name": "ipython",
    "version": 3
   },
   "file_extension": ".py",
   "mimetype": "text/x-python",
   "name": "python",
   "nbconvert_exporter": "python",
   "pygments_lexer": "ipython3",
   "version": "3.7.12"
  },
  "papermill": {
   "default_parameters": {},
   "duration": 29.337137,
   "end_time": "2022-09-26T12:13:16.854863",
   "environment_variables": {},
   "exception": null,
   "input_path": "__notebook__.ipynb",
   "output_path": "__notebook__.ipynb",
   "parameters": {},
   "start_time": "2022-09-26T12:12:47.517726",
   "version": "2.3.4"
  }
 },
 "nbformat": 4,
 "nbformat_minor": 5
}
