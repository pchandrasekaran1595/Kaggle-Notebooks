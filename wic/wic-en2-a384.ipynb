{
 "cells": [
  {
   "cell_type": "markdown",
   "id": "25679a97",
   "metadata": {
    "_cell_guid": "b1076dfc-b9ad-4769-8c92-a6c4dae69d19",
    "_uuid": "8f2839f25d086af736a60e9eeb907d3b93b6e0e5",
    "papermill": {
     "duration": 0.005357,
     "end_time": "2022-07-12T04:20:33.479043",
     "exception": false,
     "start_time": "2022-07-12T04:20:33.473686",
     "status": "completed"
    },
    "tags": []
   },
   "source": [
    "##### **Setup**"
   ]
  },
  {
   "cell_type": "code",
   "execution_count": 1,
   "id": "2737438c",
   "metadata": {
    "execution": {
     "iopub.execute_input": "2022-07-12T04:20:33.489943Z",
     "iopub.status.busy": "2022-07-12T04:20:33.489174Z",
     "iopub.status.idle": "2022-07-12T04:20:46.121769Z",
     "shell.execute_reply": "2022-07-12T04:20:46.120673Z"
    },
    "papermill": {
     "duration": 12.640549,
     "end_time": "2022-07-12T04:20:46.124114",
     "exception": false,
     "start_time": "2022-07-12T04:20:33.483565",
     "status": "completed"
    },
    "tags": []
   },
   "outputs": [
    {
     "name": "stderr",
     "output_type": "stream",
     "text": [
      "WARNING: Running pip as the 'root' user can result in broken permissions and conflicting behaviour with the system package manager. It is recommended to use a virtual environment instead: https://pip.pypa.io/warnings/venv\n"
     ]
    }
   ],
   "source": [
    "%%bash\n",
    "pip install timm -q"
   ]
  },
  {
   "cell_type": "markdown",
   "id": "9bf7f654",
   "metadata": {
    "papermill": {
     "duration": 0.004568,
     "end_time": "2022-07-12T04:20:46.133541",
     "exception": false,
     "start_time": "2022-07-12T04:20:46.128973",
     "status": "completed"
    },
    "tags": []
   },
   "source": [
    "### **Library Imports**"
   ]
  },
  {
   "cell_type": "code",
   "execution_count": 2,
   "id": "20571d7d",
   "metadata": {
    "execution": {
     "iopub.execute_input": "2022-07-12T04:20:46.144320Z",
     "iopub.status.busy": "2022-07-12T04:20:46.144000Z",
     "iopub.status.idle": "2022-07-12T04:20:53.683493Z",
     "shell.execute_reply": "2022-07-12T04:20:53.682417Z"
    },
    "papermill": {
     "duration": 7.547916,
     "end_time": "2022-07-12T04:20:53.685961",
     "exception": false,
     "start_time": "2022-07-12T04:20:46.138045",
     "status": "completed"
    },
    "tags": []
   },
   "outputs": [],
   "source": [
    "import os\n",
    "import re\n",
    "import cv2\n",
    "import timm\n",
    "import torch\n",
    "import numpy as np\n",
    "import pandas as pd\n",
    "import matplotlib.pyplot as plt\n",
    "\n",
    "from time import time\n",
    "from torch import nn, optim\n",
    "from torch.utils.data import Dataset\n",
    "from torch.utils.data import DataLoader as DL\n",
    "from torchvision import models, transforms\n",
    "\n",
    "from sklearn.model_selection import StratifiedKFold\n",
    "from sklearn.preprocessing import LabelEncoder\n",
    "from sklearn.metrics import accuracy_score"
   ]
  },
  {
   "cell_type": "markdown",
   "id": "c7f0954f",
   "metadata": {
    "papermill": {
     "duration": 0.004493,
     "end_time": "2022-07-12T04:20:53.695216",
     "exception": false,
     "start_time": "2022-07-12T04:20:53.690723",
     "status": "completed"
    },
    "tags": []
   },
   "source": [
    "### **Utilities and Helpers**"
   ]
  },
  {
   "cell_type": "code",
   "execution_count": 3,
   "id": "e13649f8",
   "metadata": {
    "execution": {
     "iopub.execute_input": "2022-07-12T04:20:53.706716Z",
     "iopub.status.busy": "2022-07-12T04:20:53.705187Z",
     "iopub.status.idle": "2022-07-12T04:20:53.720409Z",
     "shell.execute_reply": "2022-07-12T04:20:53.719585Z"
    },
    "papermill": {
     "duration": 0.022812,
     "end_time": "2022-07-12T04:20:53.722374",
     "exception": false,
     "start_time": "2022-07-12T04:20:53.699562",
     "status": "completed"
    },
    "tags": []
   },
   "outputs": [],
   "source": [
    "SEED = 42\n",
    "SIZE = 384\n",
    "le = LabelEncoder()\n",
    "\n",
    "\n",
    "def breaker(num: int=50, char: str=\"*\") -> None:\n",
    "    print(\"\\n\" + num*char + \"\\n\")\n",
    "\n",
    "    \n",
    "def get_image(path: str, size: int=224) -> np.ndarray:\n",
    "    image = cv2.imread(path, cv2.IMREAD_COLOR)\n",
    "    image = cv2.cvtColor(src=image, code=cv2.COLOR_BGR2RGB)\n",
    "    return cv2.resize(src=image, dsize=(size, size), interpolation=cv2.INTER_AREA)\n",
    "\n",
    "    \n",
    "def show_loss_graphs(L: list) -> None:\n",
    "    TL, VL = [], []\n",
    "    for i in range(len(L)):\n",
    "        TL.append(L[i][\"train\"])\n",
    "        VL.append(L[i][\"valid\"])\n",
    "    x_Axis = np.arange(1, len(TL) + 1)\n",
    "    plt.figure()\n",
    "    plt.plot(x_Axis, TL, \"r\", label=\"Train\")\n",
    "    plt.plot(x_Axis, VL, \"b\", label=\"Valid\")\n",
    "    plt.legend()\n",
    "    plt.grid()\n",
    "    plt.title(\"Loss Graph\")\n",
    "    plt.show()\n",
    "\n",
    "    \n",
    "def show_accuracy_graphs(A: list) -> None:\n",
    "    TA, VA = [], []\n",
    "    for i in range(len(A)):\n",
    "        TA.append(A[i][\"train\"])\n",
    "        VA.append(A[i][\"valid\"])\n",
    "    x_Axis = np.arange(1, len(TA) + 1)\n",
    "    plt.figure()\n",
    "    plt.plot(x_Axis, TA, \"r\", label=\"Train\")\n",
    "    plt.plot(x_Axis, VA, \"b\", label=\"Valid\")\n",
    "    plt.legend()\n",
    "    plt.grid()\n",
    "    plt.title(\"Accuracy Graph\")\n",
    "    plt.show()\n",
    "    \n",
    "\n",
    "def show_lr_graph(LR: list) -> None:\n",
    "    x_Axis = [i+1 for i in range(len(LR))]\n",
    "    plt.figure(figsize=(8, 6))\n",
    "    plt.plot(x_Axis, LR, \"rx\")\n",
    "    plt.grid()\n",
    "    plt.show()"
   ]
  },
  {
   "cell_type": "markdown",
   "id": "36731d29",
   "metadata": {
    "papermill": {
     "duration": 0.004166,
     "end_time": "2022-07-12T04:20:53.730973",
     "exception": false,
     "start_time": "2022-07-12T04:20:53.726807",
     "status": "completed"
    },
    "tags": []
   },
   "source": [
    "### **Configuration**"
   ]
  },
  {
   "cell_type": "code",
   "execution_count": 4,
   "id": "d9b43f2f",
   "metadata": {
    "execution": {
     "iopub.execute_input": "2022-07-12T04:20:53.740830Z",
     "iopub.status.busy": "2022-07-12T04:20:53.740552Z",
     "iopub.status.idle": "2022-07-12T04:20:53.807033Z",
     "shell.execute_reply": "2022-07-12T04:20:53.805969Z"
    },
    "papermill": {
     "duration": 0.074013,
     "end_time": "2022-07-12T04:20:53.809338",
     "exception": false,
     "start_time": "2022-07-12T04:20:53.735325",
     "status": "completed"
    },
    "tags": []
   },
   "outputs": [],
   "source": [
    "class CFG(object):\n",
    "    def __init__(self, \n",
    "                 seed: int = 42,\n",
    "                 size: int = 224,\n",
    "                 n_splits: int = 5,\n",
    "                 batch_size: int = 16,\n",
    "                 epochs: int = 25,\n",
    "                 early_stopping: int = 5,\n",
    "                 lr: float = 1e-4,\n",
    "                 wd: float = 0.0,\n",
    "                 max_lr: float = 1e-3,\n",
    "                 pct_start: float = 0.2,\n",
    "                 steps_per_epoch: int = 100,\n",
    "                 div_factor: int = 1e3, \n",
    "                 final_div_factor: float = 1e3,\n",
    "                 ):\n",
    "        self.seed = seed\n",
    "        self.size = size\n",
    "        self.n_splits = n_splits\n",
    "        self.batch_size = batch_size\n",
    "        self.epochs = epochs\n",
    "        self.early_stopping = early_stopping\n",
    "        self.lr = lr\n",
    "        self.wd = wd\n",
    "        self.max_lr = max_lr\n",
    "        self.pct_start = pct_start\n",
    "        self.steps_per_epoch = steps_per_epoch\n",
    "        self.div_factor = div_factor\n",
    "        self.final_div_factor = final_div_factor\n",
    "        self.device = torch.device(\"cuda\" if torch.cuda.is_available() else \"cpu\")\n",
    "        self.train_transform = transforms.Compose([\n",
    "            transforms.ToTensor(),\n",
    "            transforms.Normalize([0.51684, 0.52503, 0.50567], [0.19350, 0.18743, 0.19404]),\n",
    "            transforms.RandomAffine(degrees=(-45, 45), translate=(0.15, 0.15), scale=(0.5, 1.5)),\n",
    "            transforms.RandomHorizontalFlip(p=0.25),\n",
    "            transforms.RandomVerticalFlip(p=0.25),\n",
    "        ])\n",
    "        self.valid_transform = transforms.Compose([\n",
    "            transforms.ToTensor(),\n",
    "            transforms.Normalize([0.51684, 0.52503, 0.50567], [0.19350, 0.18743, 0.19404]),\n",
    "        ])\n",
    "                                \n",
    "        self.save_path = \"saves\"\n",
    "        if not os.path.exists(self.save_path): os.makedirs(self.save_path)\n",
    "    \n",
    "cfg = CFG(seed=SEED, size=SIZE)"
   ]
  },
  {
   "cell_type": "markdown",
   "id": "dceb5b97",
   "metadata": {
    "papermill": {
     "duration": 0.004184,
     "end_time": "2022-07-12T04:20:53.818021",
     "exception": false,
     "start_time": "2022-07-12T04:20:53.813837",
     "status": "completed"
    },
    "tags": []
   },
   "source": [
    "### **Dataset Template**"
   ]
  },
  {
   "cell_type": "code",
   "execution_count": 5,
   "id": "3c0e9def",
   "metadata": {
    "execution": {
     "iopub.execute_input": "2022-07-12T04:20:53.828458Z",
     "iopub.status.busy": "2022-07-12T04:20:53.827829Z",
     "iopub.status.idle": "2022-07-12T04:20:53.835717Z",
     "shell.execute_reply": "2022-07-12T04:20:53.834636Z"
    },
    "papermill": {
     "duration": 0.015197,
     "end_time": "2022-07-12T04:20:53.837679",
     "exception": false,
     "start_time": "2022-07-12T04:20:53.822482",
     "status": "completed"
    },
    "tags": []
   },
   "outputs": [],
   "source": [
    "class DS(Dataset):\n",
    "    def __init__(\n",
    "        self, \n",
    "        base_path: str,\n",
    "        filenames: np.ndarray, \n",
    "        folder_names: np.ndarray, \n",
    "        labels: np.ndarray, \n",
    "        size: int,\n",
    "        transform=None):\n",
    "        \n",
    "        self.base_path = base_path\n",
    "        self.filenames = filenames\n",
    "        self.folder_names = folder_names\n",
    "        self.labels = labels\n",
    "        self.size = size\n",
    "        self.transform = transform\n",
    "    \n",
    "    def __len__(self):\n",
    "        return self.filenames.shape[0]\n",
    "    \n",
    "    def __getitem__(self, idx):\n",
    "        path = os.path.join(os.path.join(self.base_path, self.folder_names[idx]), self.filenames[idx])\n",
    "        image = get_image(path, self.size)\n",
    "        return self.transform(image), self.labels[idx]"
   ]
  },
  {
   "cell_type": "markdown",
   "id": "6b5149a6",
   "metadata": {
    "papermill": {
     "duration": 0.004833,
     "end_time": "2022-07-12T04:20:53.846875",
     "exception": false,
     "start_time": "2022-07-12T04:20:53.842042",
     "status": "completed"
    },
    "tags": []
   },
   "source": [
    "### **Model**"
   ]
  },
  {
   "cell_type": "code",
   "execution_count": 6,
   "id": "aa6425ea",
   "metadata": {
    "execution": {
     "iopub.execute_input": "2022-07-12T04:20:53.857381Z",
     "iopub.status.busy": "2022-07-12T04:20:53.857112Z",
     "iopub.status.idle": "2022-07-12T04:20:53.868321Z",
     "shell.execute_reply": "2022-07-12T04:20:53.867516Z"
    },
    "papermill": {
     "duration": 0.01851,
     "end_time": "2022-07-12T04:20:53.870065",
     "exception": false,
     "start_time": "2022-07-12T04:20:53.851555",
     "status": "completed"
    },
    "tags": []
   },
   "outputs": [],
   "source": [
    "class Model(nn.Module):\n",
    "    def __init__(self, model_name: str=\"resnet50\"):\n",
    "        super(Model, self).__init__()\n",
    "\n",
    "        if model_name == \"resnet50\":\n",
    "            self.model = models.resnet50(pretrained=True, progress=False)\n",
    "            self.model.fc = nn.Linear(in_features=self.model.fc.in_features, out_features=11)\n",
    "\n",
    "        elif model_name == \"densenet169\":\n",
    "            self.model = models.densenet169(pretrained=True, progress=True)\n",
    "            self.model.classifier = nn.Linear(in_features=self.model.classifier.in_features, out_features=11)\n",
    "\n",
    "        elif model_name == \"densenet201\":\n",
    "            self.model = models.densenet201(pretrained=True, progress=True)\n",
    "            self.model.classifier = nn.Linear(in_features=self.model.classifier.in_features, out_features=11)\n",
    "            \n",
    "        elif model_name == \"tv_densenet121\":\n",
    "            self.model = timm.create_model(model_name=\"tv_densenet121\", pretrained=True)\n",
    "            self.model.classifier = nn.Linear(in_features=self.model.classifier.in_features, out_features=11)\n",
    "            \n",
    "        elif model_name == \"efficientnet_b2\":\n",
    "            self.model = timm.create_model(model_name=model_name, pretrained=True)\n",
    "            self.model.classifier = nn.Linear(in_features=self.model.classifier.in_features, out_features=11)\n",
    "        \n",
    "        else:\n",
    "            raise NotImplementedError(\"Invalid Model Name. Model not currently available\")\n",
    "            \n",
    "    def freeze(self):\n",
    "        for params in self.parameters(): params.requires_grad = False\n",
    "\n",
    "    def forward(self, x):\n",
    "        return nn.LogSoftmax(dim=1)(self.model(x))"
   ]
  },
  {
   "cell_type": "markdown",
   "id": "4086e69a",
   "metadata": {
    "papermill": {
     "duration": 0.004223,
     "end_time": "2022-07-12T04:20:53.878927",
     "exception": false,
     "start_time": "2022-07-12T04:20:53.874704",
     "status": "completed"
    },
    "tags": []
   },
   "source": [
    "### **Fit and Predict**"
   ]
  },
  {
   "cell_type": "code",
   "execution_count": 7,
   "id": "cb136921",
   "metadata": {
    "execution": {
     "iopub.execute_input": "2022-07-12T04:20:53.889689Z",
     "iopub.status.busy": "2022-07-12T04:20:53.889095Z",
     "iopub.status.idle": "2022-07-12T04:20:53.916737Z",
     "shell.execute_reply": "2022-07-12T04:20:53.915929Z"
    },
    "papermill": {
     "duration": 0.035136,
     "end_time": "2022-07-12T04:20:53.918629",
     "exception": false,
     "start_time": "2022-07-12T04:20:53.883493",
     "status": "completed"
    },
    "tags": []
   },
   "outputs": [],
   "source": [
    "def fit(model=None,\n",
    "        model_name=None,\n",
    "        optimizer=None, \n",
    "        scheduler_rlrop=None,\n",
    "        scheduler_oclr=None,\n",
    "        epochs=None, \n",
    "        early_stopping_patience=None, \n",
    "        dataloaders=None, \n",
    "        fold=None, \n",
    "        save_path=None,\n",
    "        device=None,\n",
    "        verbose=False) -> tuple:\n",
    "    \n",
    "    def get_accuracy(y_pred, y_true):\n",
    "        y_pred = torch.argmax(y_pred, dim=1)\n",
    "        return torch.count_nonzero(y_pred == y_true).item() / len(y_pred)\n",
    "    \n",
    "    \n",
    "    if verbose:\n",
    "        breaker()\n",
    "        print(f\" ----- {model_name.upper()} -----\")\n",
    "        breaker()\n",
    "        if fold: print(f\"Training Fold {fold}...\")\n",
    "        else: print(\"Training ...\")\n",
    "        breaker()\n",
    "        \n",
    "    bestLoss: dict = {\"train\" : np.inf, \"valid\" : np.inf} \n",
    "    bestAccs: dict = {\"train\" : 0.0, \"valid\" : 0.0}\n",
    "    \n",
    "    Losses: list = []\n",
    "    Accuracies: list = [] \n",
    "    LRs: list = []\n",
    "        \n",
    "    if fold: \n",
    "        ble_name = f\"{model_name}_ble_state_fold_{fold}.pt\"\n",
    "        bae_name = f\"{model_name}_bae_state_fold_{fold}.pt\"\n",
    "    else: \n",
    "        ble_name = f\"{model_name}_ble_state.pt\"\n",
    "        bae_name = f\"{model_name}_bae_state.pt\"\n",
    "        \n",
    "    start_time = time()\n",
    "    for e in range(epochs):\n",
    "        e_st = time()\n",
    "        epochLoss: dict = {\"train\" : 0.0, \"valid\" : 0.0} \n",
    "        epochAccs: dict = {\"train\" : 0.0, \"valid\" : 0.0}\n",
    "\n",
    "        for phase in [\"train\", \"valid\"]:\n",
    "            if phase == \"train\":\n",
    "                model.train()\n",
    "            else:\n",
    "                model.eval()\n",
    "            \n",
    "            lossPerPass: list = []\n",
    "            accsPerPass: list = []\n",
    "                \n",
    "            for X, y in dataloaders[phase]:\n",
    "                X, y = X.to(device), y.to(device).view(-1)\n",
    "\n",
    "                optimizer.zero_grad()\n",
    "                with torch.set_grad_enabled(phase == \"train\"):\n",
    "                    output = model(X)\n",
    "                    loss = torch.nn.NLLLoss()(output, y)\n",
    "                    if phase == \"train\":\n",
    "                        loss.backward()\n",
    "                        optimizer.step()\n",
    "                        if scheduler_oclr: scheduler_oclr.step()\n",
    "                lossPerPass.append(loss.item())\n",
    "                accsPerPass.append(get_accuracy(output, y))\n",
    "            epochLoss[phase] = np.mean(np.array(lossPerPass))\n",
    "            epochAccs[phase] = np.mean(np.array(accsPerPass))\n",
    "        if scheduler_oclr: LRs.append(scheduler_oclr.get_last_lr())\n",
    "        Losses.append(epochLoss)\n",
    "        Accuracies.append(epochAccs)\n",
    "        \n",
    "        if scheduler_oclr:\n",
    "            save_dict = {\"model_state_dict\"     : model.state_dict(),\n",
    "                         \"optim_state_dict\"     : optimizer.state_dict(),\n",
    "                         \"scheduler_state_dict\" : scheduler_oclr.state_dict()}\n",
    "        \n",
    "        elif scheduler_rlrop:\n",
    "            save_dict = {\"model_state_dict\"     : model.state_dict(),\n",
    "                         \"optim_state_dict\"     : optimizer.state_dict(),\n",
    "                         \"scheduler_state_dict\" : scheduler_rlrop.state_dict()}\n",
    "        \n",
    "        else:\n",
    "            save_dict = {\"model_state_dict\"     : model.state_dict(),\n",
    "                         \"optim_state_dict\"     : optimizer.state_dict()}\n",
    "        \n",
    "        if early_stopping_patience:\n",
    "            if epochLoss[\"valid\"] < bestLoss[\"valid\"]:\n",
    "                bestLoss = epochLoss\n",
    "                BLE = e + 1\n",
    "                torch.save(save_dict, os.path.join(save_path, ble_name))\n",
    "                torch.save(save_dict, os.path.join(save_path, bae_name))\n",
    "                early_stopping_step = 0\n",
    "            else:\n",
    "                early_stopping_step += 1\n",
    "                if early_stopping_step > early_stopping_patience:\n",
    "                    print(\"\\nEarly Stopping at Epoch {}\".format(e + 1))\n",
    "                    break\n",
    "        \n",
    "        if epochLoss[\"valid\"] < bestLoss[\"valid\"]:\n",
    "            bestLoss = epochLoss\n",
    "            BLE = e + 1\n",
    "            torch.save(save_dict,os.path.join(save_path, ble_name))\n",
    "        \n",
    "        if epochAccs[\"valid\"] > bestAccs[\"valid\"]:\n",
    "            bestAccs = epochAccs\n",
    "            BAE = e + 1\n",
    "            torch.save(save_dict,os.path.join(save_path, bae_name))\n",
    "        \n",
    "        if scheduler_rlrop: scheduler_rlrop.step(epochLoss[\"valid\"])\n",
    "        \n",
    "        if verbose:\n",
    "            print(\"Epoch: {} | Train Loss: {:.5f} | Valid Loss: {:.5f} |\\\n",
    " Train Accs: {:.5f} | Valid Accs: {:.5f} | Time: {:.2f} seconds\".format(e+1, \n",
    "                                                                        epochLoss[\"train\"], epochLoss[\"valid\"], \n",
    "                                                                        epochAccs[\"train\"], epochAccs[\"valid\"], \n",
    "                                                                        time()-e_st))\n",
    "\n",
    "    if verbose:                                           \n",
    "        breaker()\n",
    "        print(f\"Best Validation Loss at Epoch {BLE}\")\n",
    "        breaker()\n",
    "        print(f\"Best Validation Accs at Epoch {BAE}\")\n",
    "        breaker()\n",
    "        print(\"Time Taken [{} Epochs] : {:.2f} minutes\".format(len(Losses), (time()-start_time)/60))\n",
    "    \n",
    "    return Losses, Accuracies, LRs, BLE, BAE, ble_name, bae_name\n",
    "\n",
    "\n",
    "def predict_batch(model=None, dataloader=None, path=None, device=None) -> np.ndarray:\n",
    "    model.load_state_dict(torch.load(path, map_location=device)[\"model_state_dict\"])\n",
    "    model.to(device)    \n",
    "    model.eval()\n",
    "    \n",
    "    y_pred = torch.zeros(1, 1).to(device)\n",
    "    \n",
    "    for X in dataloader:\n",
    "        X = X.to(device)\n",
    "        with torch.no_grad():\n",
    "            output = torch.argmax(torch.exp(model(X)), dim=1)\n",
    "        y_pred = torch.cat((y_pred, output.view(-1, 1)), dim=0)\n",
    "    \n",
    "    return y_pred[1:].detach().cpu().numpy()"
   ]
  },
  {
   "cell_type": "markdown",
   "id": "e4558c15",
   "metadata": {
    "papermill": {
     "duration": 0.004914,
     "end_time": "2022-07-12T04:20:53.928107",
     "exception": false,
     "start_time": "2022-07-12T04:20:53.923193",
     "status": "completed"
    },
    "tags": []
   },
   "source": [
    "### **Train**"
   ]
  },
  {
   "cell_type": "code",
   "execution_count": 8,
   "id": "b0936046",
   "metadata": {
    "execution": {
     "iopub.execute_input": "2022-07-12T04:20:53.939072Z",
     "iopub.status.busy": "2022-07-12T04:20:53.937775Z",
     "iopub.status.idle": "2022-07-12T04:20:53.972284Z",
     "shell.execute_reply": "2022-07-12T04:20:53.971441Z"
    },
    "papermill": {
     "duration": 0.041841,
     "end_time": "2022-07-12T04:20:53.974288",
     "exception": false,
     "start_time": "2022-07-12T04:20:53.932447",
     "status": "completed"
    },
    "tags": []
   },
   "outputs": [],
   "source": [
    "df = pd.read_csv(\"../input/wic-dataframe/data.csv\")\n",
    "\n",
    "filenames = df.filenames.copy().values\n",
    "folder_names = df.folder_names.copy().values\n",
    "labels = df.classes.copy().values"
   ]
  },
  {
   "cell_type": "code",
   "execution_count": 9,
   "id": "e881d8f0",
   "metadata": {
    "execution": {
     "iopub.execute_input": "2022-07-12T04:20:53.985314Z",
     "iopub.status.busy": "2022-07-12T04:20:53.984753Z",
     "iopub.status.idle": "2022-07-12T07:16:14.167665Z",
     "shell.execute_reply": "2022-07-12T07:16:14.166607Z"
    },
    "papermill": {
     "duration": 10520.192443,
     "end_time": "2022-07-12T07:16:14.171241",
     "exception": false,
     "start_time": "2022-07-12T04:20:53.978798",
     "status": "completed"
    },
    "tags": []
   },
   "outputs": [
    {
     "name": "stderr",
     "output_type": "stream",
     "text": [
      "Downloading: \"https://github.com/rwightman/pytorch-image-models/releases/download/v0.1-weights/efficientnet_b2_ra-bcdf34b7.pth\" to /root/.cache/torch/hub/checkpoints/efficientnet_b2_ra-bcdf34b7.pth\n"
     ]
    },
    {
     "name": "stdout",
     "output_type": "stream",
     "text": [
      "\n",
      "**************************************************\n",
      "\n",
      " ----- EFFICIENTNET_B2 -----\n",
      "\n",
      "**************************************************\n",
      "\n",
      "Training Fold 1...\n",
      "\n",
      "**************************************************\n",
      "\n",
      "Epoch: 1 | Train Loss: 1.82609 | Valid Loss: 0.52540 | Train Accs: 0.44606 | Valid Accs: 0.85562 | Time: 264.67 seconds\n",
      "Epoch: 2 | Train Loss: 0.52065 | Valid Loss: 0.33496 | Train Accs: 0.83345 | Valid Accs: 0.88929 | Time: 205.74 seconds\n",
      "Epoch: 3 | Train Loss: 0.50266 | Valid Loss: 0.37472 | Train Accs: 0.84184 | Valid Accs: 0.88711 | Time: 205.92 seconds\n",
      "Epoch: 4 | Train Loss: 0.51781 | Valid Loss: 0.30777 | Train Accs: 0.83801 | Valid Accs: 0.89947 | Time: 205.77 seconds\n",
      "Epoch: 5 | Train Loss: 0.48822 | Valid Loss: 0.42641 | Train Accs: 0.83819 | Valid Accs: 0.88057 | Time: 204.80 seconds\n",
      "Epoch: 6 | Train Loss: 0.43337 | Valid Loss: 0.37964 | Train Accs: 0.85332 | Valid Accs: 0.87597 | Time: 203.61 seconds\n",
      "Epoch: 7 | Train Loss: 0.40852 | Valid Loss: 0.33829 | Train Accs: 0.86297 | Valid Accs: 0.89147 | Time: 204.01 seconds\n",
      "Epoch: 8 | Train Loss: 0.36219 | Valid Loss: 0.43052 | Train Accs: 0.87518 | Valid Accs: 0.85417 | Time: 202.66 seconds\n",
      "Epoch: 9 | Train Loss: 0.34893 | Valid Loss: 0.37492 | Train Accs: 0.88083 | Valid Accs: 0.89123 | Time: 203.81 seconds\n",
      "Epoch: 10 | Train Loss: 0.31262 | Valid Loss: 0.27490 | Train Accs: 0.89504 | Valid Accs: 0.90213 | Time: 204.43 seconds\n",
      "Epoch: 11 | Train Loss: 0.27079 | Valid Loss: 0.25941 | Train Accs: 0.90853 | Valid Accs: 0.90819 | Time: 204.82 seconds\n",
      "Epoch: 12 | Train Loss: 0.24231 | Valid Loss: 0.23412 | Train Accs: 0.91618 | Valid Accs: 0.91570 | Time: 203.93 seconds\n",
      "Epoch: 13 | Train Loss: 0.21260 | Valid Loss: 0.29816 | Train Accs: 0.92730 | Valid Accs: 0.91449 | Time: 205.22 seconds\n",
      "Epoch: 14 | Train Loss: 0.19633 | Valid Loss: 0.29868 | Train Accs: 0.93495 | Valid Accs: 0.90770 | Time: 203.49 seconds\n",
      "Epoch: 15 | Train Loss: 0.16180 | Valid Loss: 0.22026 | Train Accs: 0.94442 | Valid Accs: 0.92829 | Time: 203.05 seconds\n",
      "Epoch: 16 | Train Loss: 0.13851 | Valid Loss: 0.22528 | Train Accs: 0.95117 | Valid Accs: 0.93338 | Time: 203.04 seconds\n",
      "Epoch: 17 | Train Loss: 0.11785 | Valid Loss: 0.29277 | Train Accs: 0.95645 | Valid Accs: 0.91182 | Time: 202.61 seconds\n",
      "Epoch: 18 | Train Loss: 0.08416 | Valid Loss: 0.25687 | Train Accs: 0.97066 | Valid Accs: 0.92733 | Time: 202.69 seconds\n",
      "Epoch: 19 | Train Loss: 0.06164 | Valid Loss: 0.25833 | Train Accs: 0.97686 | Valid Accs: 0.93677 | Time: 202.78 seconds\n",
      "Epoch: 20 | Train Loss: 0.04832 | Valid Loss: 0.26075 | Train Accs: 0.98269 | Valid Accs: 0.93120 | Time: 202.18 seconds\n",
      "\n",
      "Early Stopping at Epoch 21\n",
      "\n",
      "**************************************************\n",
      "\n",
      "Best Validation Loss at Epoch 15\n",
      "\n",
      "**************************************************\n",
      "\n",
      "Best Validation Accs at Epoch 19\n",
      "\n",
      "**************************************************\n",
      "\n",
      "Time Taken [21 Epochs] : 72.36 minutes\n",
      "\n",
      "**************************************************\n",
      "\n"
     ]
    },
    {
     "data": {
      "image/png": "[encoded data removed]",
      "text/plain": [
       "<Figure size 432x288 with 1 Axes>"
      ]
     },
     "metadata": {
      "needs_background": "light"
     },
     "output_type": "display_data"
    },
    {
     "name": "stdout",
     "output_type": "stream",
     "text": [
      "\n",
      "**************************************************\n",
      "\n"
     ]
    },
    {
     "data": {
      "image/png": "[encoded data removed]",
      "text/plain": [
       "<Figure size 432x288 with 1 Axes>"
      ]
     },
     "metadata": {
      "needs_background": "light"
     },
     "output_type": "display_data"
    },
    {
     "name": "stdout",
     "output_type": "stream",
     "text": [
      "\n",
      "**************************************************\n",
      "\n"
     ]
    },
    {
     "data": {
      "image/png": "[encoded data removed]",
      "text/plain": [
       "<Figure size 576x432 with 1 Axes>"
      ]
     },
     "metadata": {
      "needs_background": "light"
     },
     "output_type": "display_data"
    },
    {
     "name": "stdout",
     "output_type": "stream",
     "text": [
      "\n",
      "**************************************************\n",
      "\n",
      "\n",
      "**************************************************\n",
      "\n",
      " ----- EFFICIENTNET_B2 -----\n",
      "\n",
      "**************************************************\n",
      "\n",
      "Training Fold 2...\n",
      "\n",
      "**************************************************\n",
      "\n",
      "Epoch: 1 | Train Loss: 2.19805 | Valid Loss: 1.48396 | Train Accs: 0.29681 | Valid Accs: 0.68841 | Time: 107.68 seconds\n",
      "Epoch: 2 | Train Loss: 0.69075 | Valid Loss: 0.35406 | Train Accs: 0.81099 | Valid Accs: 0.89580 | Time: 107.19 seconds\n",
      "Epoch: 3 | Train Loss: 0.38184 | Valid Loss: 0.41026 | Train Accs: 0.87118 | Valid Accs: 0.88231 | Time: 106.99 seconds\n",
      "Epoch: 4 | Train Loss: 0.37526 | Valid Loss: 0.36354 | Train Accs: 0.87773 | Valid Accs: 0.89205 | Time: 106.70 seconds\n",
      "Epoch: 5 | Train Loss: 0.35591 | Valid Loss: 0.51902 | Train Accs: 0.88221 | Valid Accs: 0.86120 | Time: 104.45 seconds\n",
      "Epoch: 6 | Train Loss: 0.30866 | Valid Loss: 0.34565 | Train Accs: 0.90019 | Valid Accs: 0.90057 | Time: 105.27 seconds\n",
      "Epoch: 7 | Train Loss: 0.26421 | Valid Loss: 0.38932 | Train Accs: 0.91340 | Valid Accs: 0.87967 | Time: 106.60 seconds\n",
      "Epoch: 8 | Train Loss: 0.22813 | Valid Loss: 0.30703 | Train Accs: 0.92406 | Valid Accs: 0.90990 | Time: 108.04 seconds\n",
      "Epoch: 9 | Train Loss: 0.19617 | Valid Loss: 0.41147 | Train Accs: 0.93078 | Valid Accs: 0.87916 | Time: 107.20 seconds\n",
      "Epoch: 10 | Train Loss: 0.18208 | Valid Loss: 0.30434 | Train Accs: 0.93605 | Valid Accs: 0.91071 | Time: 108.04 seconds\n",
      "Epoch: 11 | Train Loss: 0.16067 | Valid Loss: 0.37002 | Train Accs: 0.94507 | Valid Accs: 0.90077 | Time: 107.75 seconds\n",
      "Epoch: 12 | Train Loss: 0.13490 | Valid Loss: 0.34455 | Train Accs: 0.95252 | Valid Accs: 0.90168 | Time: 107.29 seconds\n",
      "Epoch: 13 | Train Loss: 0.12371 | Valid Loss: 0.36848 | Train Accs: 0.95742 | Valid Accs: 0.89651 | Time: 107.53 seconds\n",
      "Epoch: 14 | Train Loss: 0.09840 | Valid Loss: 0.34892 | Train Accs: 0.96742 | Valid Accs: 0.91305 | Time: 107.93 seconds\n",
      "Epoch: 15 | Train Loss: 0.07844 | Valid Loss: 0.38054 | Train Accs: 0.97214 | Valid Accs: 0.91305 | Time: 107.86 seconds\n",
      "\n",
      "Early Stopping at Epoch 16\n",
      "\n",
      "**************************************************\n",
      "\n",
      "Best Validation Loss at Epoch 10\n",
      "\n",
      "**************************************************\n",
      "\n",
      "Best Validation Accs at Epoch 14\n",
      "\n",
      "**************************************************\n",
      "\n",
      "Time Taken [16 Epochs] : 28.53 minutes\n",
      "\n",
      "**************************************************\n",
      "\n"
     ]
    },
    {
     "data": {
      "image/png": "[encoded data removed]",
      "text/plain": [
       "<Figure size 432x288 with 1 Axes>"
      ]
     },
     "metadata": {
      "needs_background": "light"
     },
     "output_type": "display_data"
    },
    {
     "name": "stdout",
     "output_type": "stream",
     "text": [
      "\n",
      "**************************************************\n",
      "\n"
     ]
    },
    {
     "data": {
      "image/png": "[encoded data removed]",
      "text/plain": [
       "<Figure size 432x288 with 1 Axes>"
      ]
     },
     "metadata": {
      "needs_background": "light"
     },
     "output_type": "display_data"
    },
    {
     "name": "stdout",
     "output_type": "stream",
     "text": [
      "\n",
      "**************************************************\n",
      "\n"
     ]
    },
    {
     "data": {
      "image/png": "[encoded data removed]",
      "text/plain": [
       "<Figure size 576x432 with 1 Axes>"
      ]
     },
     "metadata": {
      "needs_background": "light"
     },
     "output_type": "display_data"
    },
    {
     "name": "stdout",
     "output_type": "stream",
     "text": [
      "\n",
      "**************************************************\n",
      "\n",
      "\n",
      "**************************************************\n",
      "\n",
      " ----- EFFICIENTNET_B2 -----\n",
      "\n",
      "**************************************************\n",
      "\n",
      "Training Fold 3...\n",
      "\n",
      "**************************************************\n",
      "\n",
      "Epoch: 1 | Train Loss: 2.20536 | Valid Loss: 1.46845 | Train Accs: 0.28676 | Valid Accs: 0.68364 | Time: 105.94 seconds\n",
      "Epoch: 2 | Train Loss: 0.70695 | Valid Loss: 0.30420 | Train Accs: 0.80572 | Valid Accs: 0.90047 | Time: 106.74 seconds\n",
      "Epoch: 3 | Train Loss: 0.38985 | Valid Loss: 0.29987 | Train Accs: 0.87143 | Valid Accs: 0.89976 | Time: 106.56 seconds\n",
      "Epoch: 4 | Train Loss: 0.39526 | Valid Loss: 0.34474 | Train Accs: 0.86925 | Valid Accs: 0.88575 | Time: 104.53 seconds\n",
      "Epoch: 5 | Train Loss: 0.38017 | Valid Loss: 0.31882 | Train Accs: 0.87227 | Valid Accs: 0.89671 | Time: 105.46 seconds\n",
      "Epoch: 6 | Train Loss: 0.30890 | Valid Loss: 0.35282 | Train Accs: 0.89602 | Valid Accs: 0.88464 | Time: 105.82 seconds\n",
      "Epoch: 7 | Train Loss: 0.27131 | Valid Loss: 0.28814 | Train Accs: 0.91007 | Valid Accs: 0.90290 | Time: 106.65 seconds\n",
      "Epoch: 8 | Train Loss: 0.20868 | Valid Loss: 0.30331 | Train Accs: 0.92981 | Valid Accs: 0.90260 | Time: 104.71 seconds\n",
      "Epoch: 9 | Train Loss: 0.19103 | Valid Loss: 0.34080 | Train Accs: 0.93278 | Valid Accs: 0.89641 | Time: 104.89 seconds\n",
      "Epoch: 10 | Train Loss: 0.16593 | Valid Loss: 0.35033 | Train Accs: 0.94192 | Valid Accs: 0.88991 | Time: 105.30 seconds\n",
      "Epoch: 11 | Train Loss: 0.17333 | Valid Loss: 0.34604 | Train Accs: 0.94119 | Valid Accs: 0.88555 | Time: 105.88 seconds\n",
      "Epoch: 12 | Train Loss: 0.14036 | Valid Loss: 0.30575 | Train Accs: 0.95149 | Valid Accs: 0.91021 | Time: 107.79 seconds\n",
      "Epoch: 13 | Train Loss: 0.11628 | Valid Loss: 0.26580 | Train Accs: 0.96100 | Valid Accs: 0.91376 | Time: 109.08 seconds\n",
      "Epoch: 14 | Train Loss: 0.09007 | Valid Loss: 0.32633 | Train Accs: 0.96942 | Valid Accs: 0.91538 | Time: 107.99 seconds\n",
      "Epoch: 15 | Train Loss: 0.06437 | Valid Loss: 0.30090 | Train Accs: 0.97711 | Valid Accs: 0.91660 | Time: 107.71 seconds\n",
      "Epoch: 16 | Train Loss: 0.06730 | Valid Loss: 0.27925 | Train Accs: 0.97814 | Valid Accs: 0.92867 | Time: 108.77 seconds\n",
      "Epoch: 17 | Train Loss: 0.04738 | Valid Loss: 0.32147 | Train Accs: 0.98328 | Valid Accs: 0.92015 | Time: 108.15 seconds\n",
      "Epoch: 18 | Train Loss: 0.03354 | Valid Loss: 0.29646 | Train Accs: 0.99013 | Valid Accs: 0.92583 | Time: 107.86 seconds\n",
      "\n",
      "Early Stopping at Epoch 19\n",
      "\n",
      "**************************************************\n",
      "\n",
      "Best Validation Loss at Epoch 13\n",
      "\n",
      "**************************************************\n",
      "\n",
      "Best Validation Accs at Epoch 16\n",
      "\n",
      "**************************************************\n",
      "\n",
      "Time Taken [19 Epochs] : 33.81 minutes\n",
      "\n",
      "**************************************************\n",
      "\n"
     ]
    },
    {
     "data": {
      "image/png": "[encoded data removed]",
      "text/plain": [
       "<Figure size 432x288 with 1 Axes>"
      ]
     },
     "metadata": {
      "needs_background": "light"
     },
     "output_type": "display_data"
    },
    {
     "name": "stdout",
     "output_type": "stream",
     "text": [
      "\n",
      "**************************************************\n",
      "\n"
     ]
    },
    {
     "data": {
      "image/png": "[encoded data removed]",
      "text/plain": [
       "<Figure size 432x288 with 1 Axes>"
      ]
     },
     "metadata": {
      "needs_background": "light"
     },
     "output_type": "display_data"
    },
    {
     "name": "stdout",
     "output_type": "stream",
     "text": [
      "\n",
      "**************************************************\n",
      "\n"
     ]
    },
    {
     "data": {
      "image/png": "[encoded data removed]",
      "text/plain": [
       "<Figure size 576x432 with 1 Axes>"
      ]
     },
     "metadata": {
      "needs_background": "light"
     },
     "output_type": "display_data"
    },
    {
     "name": "stdout",
     "output_type": "stream",
     "text": [
      "\n",
      "**************************************************\n",
      "\n",
      "\n",
      "**************************************************\n",
      "\n",
      " ----- EFFICIENTNET_B2 -----\n",
      "\n",
      "**************************************************\n",
      "\n",
      "Training Fold 4...\n",
      "\n",
      "**************************************************\n",
      "\n",
      "Epoch: 1 | Train Loss: 2.20397 | Valid Loss: 1.49951 | Train Accs: 0.29136 | Valid Accs: 0.67330 | Time: 119.76 seconds\n",
      "Epoch: 2 | Train Loss: 0.69562 | Valid Loss: 0.33949 | Train Accs: 0.80996 | Valid Accs: 0.88474 | Time: 123.64 seconds\n",
      "Epoch: 3 | Train Loss: 0.37825 | Valid Loss: 0.37898 | Train Accs: 0.87439 | Valid Accs: 0.88636 | Time: 119.50 seconds\n",
      "Epoch: 4 | Train Loss: 0.38293 | Valid Loss: 0.41194 | Train Accs: 0.87833 | Valid Accs: 0.86942 | Time: 112.94 seconds\n",
      "Epoch: 5 | Train Loss: 0.33543 | Valid Loss: 0.49892 | Train Accs: 0.88633 | Valid Accs: 0.83858 | Time: 110.25 seconds\n",
      "Epoch: 6 | Train Loss: 0.30966 | Valid Loss: 0.35549 | Train Accs: 0.89602 | Valid Accs: 0.88941 | Time: 113.26 seconds\n",
      "Epoch: 7 | Train Loss: 0.27254 | Valid Loss: 0.35221 | Train Accs: 0.90988 | Valid Accs: 0.88880 | Time: 119.27 seconds\n",
      "\n",
      "Early Stopping at Epoch 8\n",
      "\n",
      "**************************************************\n",
      "\n",
      "Best Validation Loss at Epoch 2\n",
      "\n",
      "**************************************************\n",
      "\n",
      "Best Validation Accs at Epoch 6\n",
      "\n",
      "**************************************************\n",
      "\n",
      "Time Taken [8 Epochs] : 15.47 minutes\n",
      "\n",
      "**************************************************\n",
      "\n"
     ]
    },
    {
     "data": {
      "image/png": "[encoded data removed]",
      "text/plain": [
       "<Figure size 432x288 with 1 Axes>"
      ]
     },
     "metadata": {
      "needs_background": "light"
     },
     "output_type": "display_data"
    },
    {
     "name": "stdout",
     "output_type": "stream",
     "text": [
      "\n",
      "**************************************************\n",
      "\n"
     ]
    },
    {
     "data": {
      "image/png": "[encoded data removed]",
      "text/plain": [
       "<Figure size 432x288 with 1 Axes>"
      ]
     },
     "metadata": {
      "needs_background": "light"
     },
     "output_type": "display_data"
    },
    {
     "name": "stdout",
     "output_type": "stream",
     "text": [
      "\n",
      "**************************************************\n",
      "\n"
     ]
    },
    {
     "data": {
      "image/png": "[encoded data removed]",
      "text/plain": [
       "<Figure size 576x432 with 1 Axes>"
      ]
     },
     "metadata": {
      "needs_background": "light"
     },
     "output_type": "display_data"
    },
    {
     "name": "stdout",
     "output_type": "stream",
     "text": [
      "\n",
      "**************************************************\n",
      "\n",
      "\n",
      "**************************************************\n",
      "\n",
      " ----- EFFICIENTNET_B2 -----\n",
      "\n",
      "**************************************************\n",
      "\n",
      "Training Fold 5...\n",
      "\n",
      "**************************************************\n",
      "\n",
      "Epoch: 1 | Train Loss: 2.19966 | Valid Loss: 1.49285 | Train Accs: 0.29258 | Valid Accs: 0.66660 | Time: 107.85 seconds\n",
      "Epoch: 2 | Train Loss: 0.69308 | Valid Loss: 0.31400 | Train Accs: 0.81286 | Valid Accs: 0.90270 | Time: 107.80 seconds\n",
      "Epoch: 3 | Train Loss: 0.36205 | Valid Loss: 0.38172 | Train Accs: 0.88233 | Valid Accs: 0.88433 | Time: 107.71 seconds\n",
      "Epoch: 4 | Train Loss: 0.37462 | Valid Loss: 0.34753 | Train Accs: 0.87591 | Valid Accs: 0.88515 | Time: 106.41 seconds\n",
      "Epoch: 5 | Train Loss: 0.33909 | Valid Loss: 0.35186 | Train Accs: 0.88239 | Valid Accs: 0.89002 | Time: 106.86 seconds\n",
      "Epoch: 6 | Train Loss: 0.28752 | Valid Loss: 0.35391 | Train Accs: 0.90050 | Valid Accs: 0.89621 | Time: 107.12 seconds\n",
      "Epoch: 7 | Train Loss: 0.25041 | Valid Loss: 0.35725 | Train Accs: 0.91340 | Valid Accs: 0.89641 | Time: 106.34 seconds\n",
      "Epoch: 8 | Train Loss: 0.20829 | Valid Loss: 0.30930 | Train Accs: 0.92890 | Valid Accs: 0.90666 | Time: 108.89 seconds\n",
      "Epoch: 9 | Train Loss: 0.19505 | Valid Loss: 0.41588 | Train Accs: 0.93296 | Valid Accs: 0.87480 | Time: 107.28 seconds\n",
      "Epoch: 10 | Train Loss: 0.18856 | Valid Loss: 0.36116 | Train Accs: 0.92848 | Valid Accs: 0.89215 | Time: 106.87 seconds\n",
      "Epoch: 11 | Train Loss: 0.15708 | Valid Loss: 0.39893 | Train Accs: 0.94786 | Valid Accs: 0.89905 | Time: 106.30 seconds\n",
      "Epoch: 12 | Train Loss: 0.11664 | Valid Loss: 0.38269 | Train Accs: 0.96015 | Valid Accs: 0.90808 | Time: 105.19 seconds\n",
      "Epoch: 13 | Train Loss: 0.10585 | Valid Loss: 0.32785 | Train Accs: 0.96076 | Valid Accs: 0.91609 | Time: 108.57 seconds\n",
      "\n",
      "Early Stopping at Epoch 14\n",
      "\n",
      "**************************************************\n",
      "\n",
      "Best Validation Loss at Epoch 8\n",
      "\n",
      "**************************************************\n",
      "\n",
      "Best Validation Accs at Epoch 13\n",
      "\n",
      "**************************************************\n",
      "\n",
      "Time Taken [14 Epochs] : 24.95 minutes\n",
      "\n",
      "**************************************************\n",
      "\n"
     ]
    },
    {
     "data": {
      "image/png": "[encoded data removed]",
      "text/plain": [
       "<Figure size 432x288 with 1 Axes>"
      ]
     },
     "metadata": {
      "needs_background": "light"
     },
     "output_type": "display_data"
    },
    {
     "name": "stdout",
     "output_type": "stream",
     "text": [
      "\n",
      "**************************************************\n",
      "\n"
     ]
    },
    {
     "data": {
      "image/png": "[encoded data removed]",
      "text/plain": [
       "<Figure size 432x288 with 1 Axes>"
      ]
     },
     "metadata": {
      "needs_background": "light"
     },
     "output_type": "display_data"
    },
    {
     "name": "stdout",
     "output_type": "stream",
     "text": [
      "\n",
      "**************************************************\n",
      "\n"
     ]
    },
    {
     "data": {
      "image/png": "[encoded data removed]",
      "text/plain": [
       "<Figure size 576x432 with 1 Axes>"
      ]
     },
     "metadata": {
      "needs_background": "light"
     },
     "output_type": "display_data"
    },
    {
     "name": "stdout",
     "output_type": "stream",
     "text": [
      "\n",
      "**************************************************\n",
      "\n"
     ]
    }
   ],
   "source": [
    "fold: int = 1\n",
    "BLEs: list = []\n",
    "BAEs: list = []\n",
    "model_name: str = \"efficientnet_b2\"\n",
    "\n",
    "    \n",
    "for tr_idx, va_idx in StratifiedKFold(n_splits=cfg.n_splits, random_state=cfg.seed, shuffle=True).split(filenames, labels):\n",
    "\n",
    "    tr_filenames, va_filenames       = filenames[tr_idx], filenames[va_idx] \n",
    "    tr_folder_names, va_folder_names = folder_names[tr_idx], folder_names[va_idx] \n",
    "    tr_labels, va_labels             = labels[tr_idx], labels[va_idx]\n",
    "\n",
    "    tr_data_setup = DS(\n",
    "        base_path=\"../input/weather-dataset/dataset\", \n",
    "        filenames=tr_filenames, \n",
    "        folder_names=tr_folder_names,\n",
    "        labels=tr_labels.reshape(-1, 1),\n",
    "        size=cfg.size,\n",
    "        transform=cfg.train_transform)\n",
    "    \n",
    "    va_data_setup = DS(\n",
    "        base_path=\"../input/weather-dataset/dataset\", \n",
    "        filenames=va_filenames, \n",
    "        folder_names=va_folder_names,\n",
    "        labels=va_labels.reshape(-1, 1),\n",
    "        size=cfg.size,\n",
    "        transform=cfg.valid_transform)\n",
    "\n",
    "    dataloaders = {\n",
    "        \"train\" : DL(tr_data_setup, batch_size=cfg.batch_size, shuffle=True, generator=torch.manual_seed(cfg.seed)),\n",
    "        \"valid\" : DL(va_data_setup, batch_size=cfg.batch_size, shuffle=False),\n",
    "    }\n",
    "\n",
    "    cfg = CFG(\n",
    "        epochs=25, \n",
    "        batch_size=64, \n",
    "        lr=1e-3,\n",
    "        wd=0.0,\n",
    "        early_stopping=5,\n",
    "        steps_per_epoch=len(dataloaders[\"train\"])\n",
    "    )\n",
    "    \n",
    "    torch.manual_seed(cfg.seed)\n",
    "    model = Model(model_name=model_name).to(cfg.device)\n",
    "\n",
    "    optimizer = optim.Adam([p for p in model.parameters() if p.requires_grad], lr=cfg.lr, weight_decay=cfg.wd)\n",
    "    # optimizer = optim.AdamW([p for p in model.parameters() if p.requires_grad], lr=cfg.lr, weight_decay=cfg.wd)\n",
    "    # optimizer = optim.SGD([p for p in model.parameters() if p.requires_grad], lr=cfg.lr, weight_decay=cfg.wd, momentum=0.9)\n",
    "\n",
    "    scheduler_oclr = optim.lr_scheduler.OneCycleLR(\n",
    "        optimizer=optimizer, \n",
    "        max_lr=cfg.max_lr, \n",
    "        epochs=cfg.epochs, \n",
    "        steps_per_epoch=cfg.steps_per_epoch,\n",
    "        pct_start=cfg.pct_start, \n",
    "        div_factor=cfg.div_factor, \n",
    "        final_div_factor=cfg.final_div_factor\n",
    "    )\n",
    "\n",
    "    # scheduler_rlrop = optim.lr_scheduler.ReduceLROnPlateau(\n",
    "    #     optimizer=optimizer,\n",
    "    #     patience=cfg.patience,\n",
    "    #     eps=cfg.eps,\n",
    "    #     verbose=True\n",
    "    # )\n",
    "\n",
    "    # scheduler_oclr = None\n",
    "    scheduler_rlrop = None\n",
    "\n",
    "\n",
    "    L, A, LR, BLE, BAE, _, _ = fit(\n",
    "        model=model, \n",
    "        model_name=model_name,\n",
    "        optimizer=optimizer, \n",
    "        scheduler_oclr=scheduler_oclr,\n",
    "        scheduler_rlrop=scheduler_rlrop,\n",
    "        epochs=cfg.epochs, \n",
    "        early_stopping_patience=cfg.early_stopping, \n",
    "        dataloaders=dataloaders, \n",
    "        device=cfg.device,\n",
    "        save_path=cfg.save_path,\n",
    "        fold=fold,\n",
    "        verbose=True\n",
    "    )\n",
    "\n",
    "\n",
    "    breaker()\n",
    "    show_loss_graphs(L)\n",
    "    breaker()\n",
    "    show_accuracy_graphs(A)\n",
    "    breaker()\n",
    "    if scheduler_oclr:\n",
    "        show_lr_graph(LR)\n",
    "        breaker()\n",
    "    \n",
    "    BLEs.append(BLE)\n",
    "    BAEs.append(BAE)\n",
    "    \n",
    "    fold += 1"
   ]
  },
  {
   "cell_type": "markdown",
   "id": "42c4180d",
   "metadata": {
    "papermill": {
     "duration": 0.013636,
     "end_time": "2022-07-12T07:16:14.199101",
     "exception": false,
     "start_time": "2022-07-12T07:16:14.185465",
     "status": "completed"
    },
    "tags": []
   },
   "source": [
    "### **Best Model**"
   ]
  },
  {
   "cell_type": "code",
   "execution_count": 10,
   "id": "a2c3513e",
   "metadata": {
    "execution": {
     "iopub.execute_input": "2022-07-12T07:16:14.227951Z",
     "iopub.status.busy": "2022-07-12T07:16:14.227404Z",
     "iopub.status.idle": "2022-07-12T07:16:14.233291Z",
     "shell.execute_reply": "2022-07-12T07:16:14.232296Z"
    },
    "papermill": {
     "duration": 0.023899,
     "end_time": "2022-07-12T07:16:14.236679",
     "exception": false,
     "start_time": "2022-07-12T07:16:14.212780",
     "status": "completed"
    },
    "tags": []
   },
   "outputs": [
    {
     "name": "stdout",
     "output_type": "stream",
     "text": [
      "\n",
      "**************************************************\n",
      "\n",
      "Best Loss Model Fold     : 4\n",
      "Best Accuracy Model Fold : 1\n",
      "\n",
      "**************************************************\n",
      "\n"
     ]
    }
   ],
   "source": [
    "best_loss_index = BLEs.index(min(BLEs))\n",
    "best_accs_index = BAEs.index(max(BAEs))\n",
    "\n",
    "breaker()\n",
    "print(f\"Best Loss Model Fold     : {best_loss_index + 1}\")\n",
    "print(f\"Best Accuracy Model Fold : {best_accs_index + 1}\")\n",
    "breaker()"
   ]
  }
 ],
 "metadata": {
  "kernelspec": {
   "display_name": "Python 3",
   "language": "python",
   "name": "python3"
  },
  "language_info": {
   "codemirror_mode": {
    "name": "ipython",
    "version": 3
   },
   "file_extension": ".py",
   "mimetype": "text/x-python",
   "name": "python",
   "nbconvert_exporter": "python",
   "pygments_lexer": "ipython3",
   "version": "3.7.12"
  },
  "papermill": {
   "default_parameters": {},
   "duration": 10552.179164,
   "end_time": "2022-07-12T07:16:17.612919",
   "environment_variables": {},
   "exception": null,
   "input_path": "__notebook__.ipynb",
   "output_path": "__notebook__.ipynb",
   "parameters": {},
   "start_time": "2022-07-12T04:20:25.433755",
   "version": "2.3.4"
  }
 },
 "nbformat": 4,
 "nbformat_minor": 5
}
