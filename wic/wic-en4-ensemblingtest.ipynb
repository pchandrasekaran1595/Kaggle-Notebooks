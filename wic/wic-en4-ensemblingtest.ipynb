{
 "cells": [
  {
   "cell_type": "markdown",
   "id": "4221c08e",
   "metadata": {
    "_cell_guid": "b1076dfc-b9ad-4769-8c92-a6c4dae69d19",
    "_uuid": "8f2839f25d086af736a60e9eeb907d3b93b6e0e5",
    "papermill": {
     "duration": 0.004766,
     "end_time": "2022-11-13T08:36:06.377920",
     "exception": false,
     "start_time": "2022-11-13T08:36:06.373154",
     "status": "completed"
    },
    "tags": []
   },
   "source": [
    "### **Setup**"
   ]
  },
  {
   "cell_type": "code",
   "execution_count": 1,
   "id": "f7ba1ae3",
   "metadata": {
    "execution": {
     "iopub.execute_input": "2022-11-13T08:36:06.387572Z",
     "iopub.status.busy": "2022-11-13T08:36:06.387157Z",
     "iopub.status.idle": "2022-11-13T08:36:16.979341Z",
     "shell.execute_reply": "2022-11-13T08:36:16.978004Z"
    },
    "papermill": {
     "duration": 10.599867,
     "end_time": "2022-11-13T08:36:16.981901",
     "exception": false,
     "start_time": "2022-11-13T08:36:06.382034",
     "status": "completed"
    },
    "tags": []
   },
   "outputs": [
    {
     "name": "stderr",
     "output_type": "stream",
     "text": [
      "WARNING: Running pip as the 'root' user can result in broken permissions and conflicting behaviour with the system package manager. It is recommended to use a virtual environment instead: https://pip.pypa.io/warnings/venv\n"
     ]
    }
   ],
   "source": [
    "%%bash\n",
    "pip install timm -q"
   ]
  },
  {
   "cell_type": "markdown",
   "id": "a622e915",
   "metadata": {
    "papermill": {
     "duration": 0.003635,
     "end_time": "2022-11-13T08:36:16.989757",
     "exception": false,
     "start_time": "2022-11-13T08:36:16.986122",
     "status": "completed"
    },
    "tags": []
   },
   "source": [
    "### **Library Imports**"
   ]
  },
  {
   "cell_type": "code",
   "execution_count": 2,
   "id": "10106699",
   "metadata": {
    "execution": {
     "iopub.execute_input": "2022-11-13T08:36:16.999125Z",
     "iopub.status.busy": "2022-11-13T08:36:16.998785Z",
     "iopub.status.idle": "2022-11-13T08:36:20.980660Z",
     "shell.execute_reply": "2022-11-13T08:36:20.979704Z"
    },
    "papermill": {
     "duration": 3.989384,
     "end_time": "2022-11-13T08:36:20.982967",
     "exception": false,
     "start_time": "2022-11-13T08:36:16.993583",
     "status": "completed"
    },
    "tags": []
   },
   "outputs": [],
   "source": [
    "import os\n",
    "import re\n",
    "import cv2\n",
    "import timm\n",
    "import torch\n",
    "import numpy as np\n",
    "import pandas as pd\n",
    "import matplotlib.pyplot as plt\n",
    "\n",
    "from scipy import stats\n",
    "from torch import nn, optim\n",
    "from torchvision import models, transforms"
   ]
  },
  {
   "cell_type": "markdown",
   "id": "1e517710",
   "metadata": {
    "papermill": {
     "duration": 0.003682,
     "end_time": "2022-11-13T08:36:20.990864",
     "exception": false,
     "start_time": "2022-11-13T08:36:20.987182",
     "status": "completed"
    },
    "tags": []
   },
   "source": [
    "### **Helpers**"
   ]
  },
  {
   "cell_type": "code",
   "execution_count": 3,
   "id": "0cd6337e",
   "metadata": {
    "execution": {
     "iopub.execute_input": "2022-11-13T08:36:21.000343Z",
     "iopub.status.busy": "2022-11-13T08:36:20.999794Z",
     "iopub.status.idle": "2022-11-13T08:36:21.008372Z",
     "shell.execute_reply": "2022-11-13T08:36:21.007446Z"
    },
    "papermill": {
     "duration": 0.015874,
     "end_time": "2022-11-13T08:36:21.010513",
     "exception": false,
     "start_time": "2022-11-13T08:36:20.994639",
     "status": "completed"
    },
    "tags": []
   },
   "outputs": [],
   "source": [
    "LABELS: dict = {\n",
    "    0 : \"dew\",\n",
    "    1 : \"fogsmog\",\n",
    "    2 : \"frost\",\n",
    "    3 : \"glaze\",\n",
    "    4 : \"hail\",\n",
    "    5 : \"lightning\",\n",
    "    6 : \"rain\",\n",
    "    7 : \"rainbow\",\n",
    "    8 : \"rime\",\n",
    "    9 : \"sandstorm\",\n",
    "    10 : \"snow\",\n",
    "}\n",
    "IMAGE_BASE_PATH: str = \"../input/wictestimages\"\n",
    "MODEL_BASE_PATH: str = \"../input/wicen4a384models/saves\"\n",
    "\n",
    "\n",
    "def breaker(num: int=50, char: str=\"*\") -> None:\n",
    "    print(\"\\n\" + num*char + \"\\n\")\n",
    "\n",
    "    \n",
    "def get_image(path: str, size: int=224) -> np.ndarray:\n",
    "    image = cv2.imread(path, cv2.IMREAD_COLOR)\n",
    "    image = cv2.cvtColor(src=image, code=cv2.COLOR_BGR2RGB)\n",
    "    return cv2.resize(src=image, dsize=(size, size), interpolation=cv2.INTER_AREA)"
   ]
  },
  {
   "cell_type": "markdown",
   "id": "ee6ca6fe",
   "metadata": {
    "papermill": {
     "duration": 0.003773,
     "end_time": "2022-11-13T08:36:21.018537",
     "exception": false,
     "start_time": "2022-11-13T08:36:21.014764",
     "status": "completed"
    },
    "tags": []
   },
   "source": [
    "### **Configuration**"
   ]
  },
  {
   "cell_type": "code",
   "execution_count": 4,
   "id": "2406ba9e",
   "metadata": {
    "execution": {
     "iopub.execute_input": "2022-11-13T08:36:21.028331Z",
     "iopub.status.busy": "2022-11-13T08:36:21.027816Z",
     "iopub.status.idle": "2022-11-13T08:36:21.038077Z",
     "shell.execute_reply": "2022-11-13T08:36:21.037491Z"
    },
    "papermill": {
     "duration": 0.017413,
     "end_time": "2022-11-13T08:36:21.040024",
     "exception": false,
     "start_time": "2022-11-13T08:36:21.022611",
     "status": "completed"
    },
    "tags": []
   },
   "outputs": [],
   "source": [
    "class CFG(object):\n",
    "    def __init__(\n",
    "         self, \n",
    "         seed: int = 42,\n",
    "         size: int = 224,\n",
    "         n_splits: int = 5,\n",
    "         batch_size: int = 16,\n",
    "         epochs: int = 25,\n",
    "         early_stopping: int = 5,\n",
    "         lr: float = 1e-4,\n",
    "         wd: float = 0.0,\n",
    "         max_lr: float = 1e-3,\n",
    "         pct_start: float = 0.2,\n",
    "         steps_per_epoch: int = 100,\n",
    "         div_factor: int = 1e3, \n",
    "         final_div_factor: float = 1e3,\n",
    "     ):\n",
    "        self.seed = seed\n",
    "        self.size = size\n",
    "        self.n_splits = n_splits\n",
    "        self.batch_size = batch_size\n",
    "        self.epochs = epochs\n",
    "        self.early_stopping = early_stopping\n",
    "        self.lr = lr\n",
    "        self.wd = wd\n",
    "        self.max_lr = max_lr\n",
    "        self.pct_start = pct_start\n",
    "        self.steps_per_epoch = steps_per_epoch\n",
    "        self.div_factor = div_factor\n",
    "        self.final_div_factor = final_div_factor\n",
    "        self.device = torch.device(\"cuda\" if torch.cuda.is_available() else \"cpu\")\n",
    "        self.train_transform = transforms.Compose([\n",
    "            transforms.ToTensor(),\n",
    "            transforms.Normalize([0.51684, 0.52503, 0.50567], [0.19350, 0.18743, 0.19404]),\n",
    "            transforms.RandomAffine(degrees=(-45, 45), translate=(0.15, 0.15), scale=(0.5, 1.5)),\n",
    "            transforms.RandomHorizontalFlip(p=0.25),\n",
    "            transforms.RandomVerticalFlip(p=0.25),\n",
    "        ])\n",
    "        self.valid_transform = transforms.Compose([\n",
    "            transforms.ToTensor(),\n",
    "            transforms.Normalize([0.51684, 0.52503, 0.50567], [0.19350, 0.18743, 0.19404]),\n",
    "        ])\n",
    "                                \n",
    "        self.save_path = \"saves\"\n",
    "        if not os.path.exists(self.save_path): os.makedirs(self.save_path)\n",
    "    \n",
    "cfg = CFG(\n",
    "    seed=42, \n",
    "    size=384\n",
    ")"
   ]
  },
  {
   "cell_type": "markdown",
   "id": "8a62e109",
   "metadata": {
    "papermill": {
     "duration": 0.003775,
     "end_time": "2022-11-13T08:36:21.048021",
     "exception": false,
     "start_time": "2022-11-13T08:36:21.044246",
     "status": "completed"
    },
    "tags": []
   },
   "source": [
    "### **Model**"
   ]
  },
  {
   "cell_type": "code",
   "execution_count": 5,
   "id": "ca98b57b",
   "metadata": {
    "execution": {
     "iopub.execute_input": "2022-11-13T08:36:21.057561Z",
     "iopub.status.busy": "2022-11-13T08:36:21.057202Z",
     "iopub.status.idle": "2022-11-13T08:36:21.062715Z",
     "shell.execute_reply": "2022-11-13T08:36:21.061909Z"
    },
    "papermill": {
     "duration": 0.012176,
     "end_time": "2022-11-13T08:36:21.064197",
     "exception": false,
     "start_time": "2022-11-13T08:36:21.052021",
     "status": "completed"
    },
    "tags": []
   },
   "outputs": [],
   "source": [
    "class Model(nn.Module):\n",
    "    def __init__(self):\n",
    "        super(Model, self).__init__()\n",
    "            \n",
    "        self.model = timm.create_model(model_name=\"efficientnet_b4\", pretrained=False)\n",
    "        self.model.classifier = nn.Linear(in_features=self.model.classifier.in_features, out_features=11)\n",
    "\n",
    "    def forward(self, x):\n",
    "        return nn.LogSoftmax(dim=1)(self.model(x))"
   ]
  },
  {
   "cell_type": "markdown",
   "id": "da5af467",
   "metadata": {
    "papermill": {
     "duration": 0.003695,
     "end_time": "2022-11-13T08:36:21.072933",
     "exception": false,
     "start_time": "2022-11-13T08:36:21.069238",
     "status": "completed"
    },
    "tags": []
   },
   "source": [
    "### **Average Final Predictions**"
   ]
  },
  {
   "cell_type": "code",
   "execution_count": 6,
   "id": "06149138",
   "metadata": {
    "execution": {
     "iopub.execute_input": "2022-11-13T08:36:21.081971Z",
     "iopub.status.busy": "2022-11-13T08:36:21.081660Z",
     "iopub.status.idle": "2022-11-13T08:36:31.191224Z",
     "shell.execute_reply": "2022-11-13T08:36:31.190217Z"
    },
    "papermill": {
     "duration": 10.116855,
     "end_time": "2022-11-13T08:36:31.193682",
     "exception": false,
     "start_time": "2022-11-13T08:36:21.076827",
     "status": "completed"
    },
    "tags": []
   },
   "outputs": [
    {
     "name": "stdout",
     "output_type": "stream",
     "text": [
      "\n",
      "**************************************************\n",
      "\n",
      "Predicted: Fogsmog\n",
      "Actual   : Fog\n",
      "\n",
      "**************************************************\n",
      "\n",
      "Predicted: Frost\n",
      "Actual   : Frost\n",
      "\n",
      "**************************************************\n",
      "\n",
      "Predicted: Rime\n",
      "Actual   : Glaze\n",
      "\n",
      "**************************************************\n",
      "\n",
      "Predicted: Hail\n",
      "Actual   : Hail\n",
      "\n",
      "**************************************************\n",
      "\n",
      "Predicted: Lightning\n",
      "Actual   : Lightning\n",
      "\n",
      "**************************************************\n",
      "\n",
      "Predicted: Rain\n",
      "Actual   : Rain\n",
      "\n",
      "**************************************************\n",
      "\n",
      "Predicted: Rainbow\n",
      "Actual   : Rainbow\n",
      "\n",
      "**************************************************\n",
      "\n",
      "Predicted: Fogsmog\n",
      "Actual   : Smog\n",
      "\n",
      "**************************************************\n",
      "\n",
      "Predicted: Snow\n",
      "Actual   : Snow\n",
      "\n",
      "**************************************************\n",
      "\n"
     ]
    }
   ],
   "source": [
    "image_filenames: list = sorted(os.listdir(IMAGE_BASE_PATH))\n",
    "model_filenames: list = os.listdir(MODEL_BASE_PATH)\n",
    "model_filenames = model_filenames[:1]\n",
    "label_indexes: list = []\n",
    "\n",
    "breaker()\n",
    "for image_filename in image_filenames:\n",
    "    image = get_image(os.path.join(IMAGE_BASE_PATH, image_filename), cfg.size)\n",
    "    \n",
    "    label_index: float = 0.0\n",
    "    for model_filename in model_filenames:\n",
    "        model = Model().to(cfg.device)\n",
    "        model.load_state_dict(torch.load(f=os.path.join(MODEL_BASE_PATH, model_filename), map_location=cfg.device)[\"model_state_dict\"])\n",
    "        model.eval()\n",
    "        with torch.no_grad(): output = torch.argmax(model(cfg.valid_transform(image).to(cfg.device).unsqueeze(dim=0)), dim=1)\n",
    "        label_index += output.item()\n",
    "    \n",
    "    print(f\"Predicted: {LABELS[int(label_index / len(model_filenames))].title()}\")\n",
    "    print(f\"Actual   : {image_filename[:-4]}\")\n",
    "    breaker()"
   ]
  },
  {
   "cell_type": "markdown",
   "id": "406ffb17",
   "metadata": {
    "papermill": {
     "duration": 0.004482,
     "end_time": "2022-11-13T08:36:31.204143",
     "exception": false,
     "start_time": "2022-11-13T08:36:31.199661",
     "status": "completed"
    },
    "tags": []
   },
   "source": [
    "### **Mode Final Predictions**"
   ]
  },
  {
   "cell_type": "code",
   "execution_count": 7,
   "id": "78a52600",
   "metadata": {
    "execution": {
     "iopub.execute_input": "2022-11-13T08:36:31.215712Z",
     "iopub.status.busy": "2022-11-13T08:36:31.215385Z",
     "iopub.status.idle": "2022-11-13T08:36:37.860499Z",
     "shell.execute_reply": "2022-11-13T08:36:37.858751Z"
    },
    "papermill": {
     "duration": 6.653196,
     "end_time": "2022-11-13T08:36:37.862732",
     "exception": false,
     "start_time": "2022-11-13T08:36:31.209536",
     "status": "completed"
    },
    "tags": []
   },
   "outputs": [
    {
     "name": "stdout",
     "output_type": "stream",
     "text": [
      "\n",
      "**************************************************\n",
      "\n",
      "Predicted: Fogsmog\n",
      "Actual   : Fog\n",
      "\n",
      "**************************************************\n",
      "\n",
      "Predicted: Frost\n",
      "Actual   : Frost\n",
      "\n",
      "**************************************************\n",
      "\n",
      "Predicted: Rime\n",
      "Actual   : Glaze\n",
      "\n",
      "**************************************************\n",
      "\n",
      "Predicted: Hail\n",
      "Actual   : Hail\n",
      "\n",
      "**************************************************\n",
      "\n",
      "Predicted: Lightning\n",
      "Actual   : Lightning\n",
      "\n",
      "**************************************************\n",
      "\n",
      "Predicted: Rain\n",
      "Actual   : Rain\n",
      "\n",
      "**************************************************\n",
      "\n",
      "Predicted: Rainbow\n",
      "Actual   : Rainbow\n",
      "\n",
      "**************************************************\n",
      "\n",
      "Predicted: Fogsmog\n",
      "Actual   : Smog\n",
      "\n",
      "**************************************************\n",
      "\n",
      "Predicted: Snow\n",
      "Actual   : Snow\n",
      "\n",
      "**************************************************\n",
      "\n"
     ]
    }
   ],
   "source": [
    "image_filenames: list = sorted(os.listdir(IMAGE_BASE_PATH))\n",
    "model_filenames: list = os.listdir(MODEL_BASE_PATH)\n",
    "model_filenames = model_filenames[:1]\n",
    "label_indexes: list = []\n",
    "\n",
    "breaker()\n",
    "for image_filename in image_filenames:\n",
    "    image = get_image(os.path.join(IMAGE_BASE_PATH, image_filename), cfg.size)\n",
    "    \n",
    "    label_indexes: list = []\n",
    "    for model_filename in model_filenames:\n",
    "        model = Model().to(cfg.device)\n",
    "        model.load_state_dict(torch.load(f=os.path.join(MODEL_BASE_PATH, model_filename), map_location=cfg.device)[\"model_state_dict\"])\n",
    "        model.eval()\n",
    "        with torch.no_grad(): output = torch.argmax(model(cfg.valid_transform(image).to(cfg.device).unsqueeze(dim=0)), dim=1)\n",
    "        label_indexes.append(output.item())\n",
    "    \n",
    "    label_index = stats.mode(np.array(label_indexes), axis=0)[0]\n",
    "    print(f\"Predicted: {LABELS[int(label_index)].title()}\")\n",
    "    print(f\"Actual   : {image_filename[:-4]}\")\n",
    "    breaker()"
   ]
  },
  {
   "cell_type": "markdown",
   "id": "3c579dd1",
   "metadata": {
    "papermill": {
     "duration": 0.004748,
     "end_time": "2022-11-13T08:36:37.873003",
     "exception": false,
     "start_time": "2022-11-13T08:36:37.868255",
     "status": "completed"
    },
    "tags": []
   },
   "source": [
    "### **Summing State Dicts**"
   ]
  },
  {
   "cell_type": "code",
   "execution_count": 8,
   "id": "29cad937",
   "metadata": {
    "execution": {
     "iopub.execute_input": "2022-11-13T08:36:37.884653Z",
     "iopub.status.busy": "2022-11-13T08:36:37.884231Z",
     "iopub.status.idle": "2022-11-13T08:36:38.387215Z",
     "shell.execute_reply": "2022-11-13T08:36:38.386050Z"
    },
    "papermill": {
     "duration": 0.511497,
     "end_time": "2022-11-13T08:36:38.389401",
     "exception": false,
     "start_time": "2022-11-13T08:36:37.877904",
     "status": "completed"
    },
    "tags": []
   },
   "outputs": [],
   "source": [
    "for model_filename in model_filenames:\n",
    "    model = Model().to(cfg.device)\n",
    "    model.load_state_dict(torch.load(f=os.path.join(MODEL_BASE_PATH, model_filename), map_location=cfg.device)[\"model_state_dict\"])\n",
    "    model.eval()\n",
    "    \n",
    "    sum_state_dict: dict = dict()\n",
    "    for names, params in model.state_dict().items():\n",
    "        if names in sum_state_dict.keys():\n",
    "            sum_state_dict[names] += params\n",
    "        else:\n",
    "            sum_state_dict[names] = params"
   ]
  },
  {
   "cell_type": "code",
   "execution_count": 9,
   "id": "813e870e",
   "metadata": {
    "execution": {
     "iopub.execute_input": "2022-11-13T08:36:38.400791Z",
     "iopub.status.busy": "2022-11-13T08:36:38.400486Z",
     "iopub.status.idle": "2022-11-13T08:36:41.364375Z",
     "shell.execute_reply": "2022-11-13T08:36:41.363529Z"
    },
    "papermill": {
     "duration": 2.971961,
     "end_time": "2022-11-13T08:36:41.366411",
     "exception": false,
     "start_time": "2022-11-13T08:36:38.394450",
     "status": "completed"
    },
    "tags": []
   },
   "outputs": [
    {
     "name": "stdout",
     "output_type": "stream",
     "text": [
      "\n",
      "**************************************************\n",
      "\n",
      "Predicted: Rime\n",
      "Actual   : Fog\n",
      "\n",
      "**************************************************\n",
      "\n",
      "Predicted: Snow\n",
      "Actual   : Frost\n",
      "\n",
      "**************************************************\n",
      "\n",
      "Predicted: Snow\n",
      "Actual   : Glaze\n",
      "\n",
      "**************************************************\n",
      "\n",
      "Predicted: Snow\n",
      "Actual   : Hail\n",
      "\n",
      "**************************************************\n",
      "\n",
      "Predicted: Snow\n",
      "Actual   : Lightning\n",
      "\n",
      "**************************************************\n",
      "\n",
      "Predicted: Snow\n",
      "Actual   : Rain\n",
      "\n",
      "**************************************************\n",
      "\n",
      "Predicted: Snow\n",
      "Actual   : Rainbow\n",
      "\n",
      "**************************************************\n",
      "\n",
      "Predicted: Snow\n",
      "Actual   : Smog\n",
      "\n",
      "**************************************************\n",
      "\n",
      "Predicted: Snow\n",
      "Actual   : Snow\n",
      "\n",
      "**************************************************\n",
      "\n"
     ]
    }
   ],
   "source": [
    "image_filenames: list = sorted(os.listdir(IMAGE_BASE_PATH))\n",
    "model_filenames: list = os.listdir(MODEL_BASE_PATH)\n",
    "model_filenames = model_filenames[:1]\n",
    "label_indexes: list = []\n",
    "    \n",
    "model = Model().to(cfg.device)\n",
    "model.load_state_dict(sum_state_dict)\n",
    "\n",
    "breaker()\n",
    "for image_filename in image_filenames:\n",
    "    image = get_image(os.path.join(IMAGE_BASE_PATH, image_filename), cfg.size)\n",
    "    with torch.no_grad(): label_index = torch.argmax(model(cfg.valid_transform(image).to(cfg.device).unsqueeze(dim=0)), dim=1)\n",
    "    print(f\"Predicted: {LABELS[int(label_index.item())].title()}\")\n",
    "    print(f\"Actual   : {image_filename[:-4]}\")\n",
    "    breaker()"
   ]
  },
  {
   "cell_type": "markdown",
   "id": "4d1442a2",
   "metadata": {
    "papermill": {
     "duration": 0.004925,
     "end_time": "2022-11-13T08:36:41.378436",
     "exception": false,
     "start_time": "2022-11-13T08:36:41.373511",
     "status": "completed"
    },
    "tags": []
   },
   "source": [
    "### **Averaging State Dicts**"
   ]
  },
  {
   "cell_type": "code",
   "execution_count": 10,
   "id": "6300278d",
   "metadata": {
    "execution": {
     "iopub.execute_input": "2022-11-13T08:36:41.389981Z",
     "iopub.status.busy": "2022-11-13T08:36:41.389660Z",
     "iopub.status.idle": "2022-11-13T08:36:42.047930Z",
     "shell.execute_reply": "2022-11-13T08:36:42.046464Z"
    },
    "papermill": {
     "duration": 0.666621,
     "end_time": "2022-11-13T08:36:42.050173",
     "exception": false,
     "start_time": "2022-11-13T08:36:41.383552",
     "status": "completed"
    },
    "tags": []
   },
   "outputs": [],
   "source": [
    "for model_filename in model_filenames:\n",
    "    model = Model().to(cfg.device)\n",
    "    model.load_state_dict(torch.load(f=os.path.join(MODEL_BASE_PATH, model_filename), map_location=cfg.device)[\"model_state_dict\"])\n",
    "    model.eval()\n",
    "    \n",
    "    avg_state_dict: dict = dict()\n",
    "    for names, params in model.state_dict().items():\n",
    "        if names in avg_state_dict.keys():\n",
    "            avg_state_dict[names] += params\n",
    "        else:\n",
    "            avg_state_dict[names] = params\n",
    "        \n",
    "for k, v in avg_state_dict.items(): avg_state_dict[k] = v / len(model_filenames)"
   ]
  },
  {
   "cell_type": "code",
   "execution_count": 11,
   "id": "0edfff53",
   "metadata": {
    "execution": {
     "iopub.execute_input": "2022-11-13T08:36:42.063587Z",
     "iopub.status.busy": "2022-11-13T08:36:42.063208Z",
     "iopub.status.idle": "2022-11-13T08:36:45.042272Z",
     "shell.execute_reply": "2022-11-13T08:36:45.041282Z"
    },
    "papermill": {
     "duration": 2.988069,
     "end_time": "2022-11-13T08:36:45.044062",
     "exception": false,
     "start_time": "2022-11-13T08:36:42.055993",
     "status": "completed"
    },
    "tags": []
   },
   "outputs": [
    {
     "name": "stdout",
     "output_type": "stream",
     "text": [
      "\n",
      "**************************************************\n",
      "\n",
      "Predicted: Rime\n",
      "Actual   : Fog\n",
      "\n",
      "**************************************************\n",
      "\n",
      "Predicted: Snow\n",
      "Actual   : Frost\n",
      "\n",
      "**************************************************\n",
      "\n",
      "Predicted: Snow\n",
      "Actual   : Glaze\n",
      "\n",
      "**************************************************\n",
      "\n",
      "Predicted: Snow\n",
      "Actual   : Hail\n",
      "\n",
      "**************************************************\n",
      "\n",
      "Predicted: Snow\n",
      "Actual   : Lightning\n",
      "\n",
      "**************************************************\n",
      "\n",
      "Predicted: Snow\n",
      "Actual   : Rain\n",
      "\n",
      "**************************************************\n",
      "\n",
      "Predicted: Snow\n",
      "Actual   : Rainbow\n",
      "\n",
      "**************************************************\n",
      "\n",
      "Predicted: Snow\n",
      "Actual   : Smog\n",
      "\n",
      "**************************************************\n",
      "\n",
      "Predicted: Snow\n",
      "Actual   : Snow\n",
      "\n",
      "**************************************************\n",
      "\n"
     ]
    }
   ],
   "source": [
    "image_filenames: list = sorted(os.listdir(IMAGE_BASE_PATH))\n",
    "model_filenames: list = os.listdir(MODEL_BASE_PATH)\n",
    "model_filenames = model_filenames[:1]\n",
    "label_indexes: list = []\n",
    "    \n",
    "model = Model().to(cfg.device)\n",
    "model.load_state_dict(avg_state_dict)\n",
    "\n",
    "breaker()\n",
    "for image_filename in image_filenames:\n",
    "    image = get_image(os.path.join(IMAGE_BASE_PATH, image_filename), cfg.size)\n",
    "    with torch.no_grad(): label_index = torch.argmax(model(cfg.valid_transform(image).to(cfg.device).unsqueeze(dim=0)), dim=1)\n",
    "    print(f\"Predicted: {LABELS[int(label_index.item())].title()}\")\n",
    "    print(f\"Actual   : {image_filename[:-4]}\")\n",
    "    breaker()"
   ]
  }
 ],
 "metadata": {
  "kernelspec": {
   "display_name": "Python 3",
   "language": "python",
   "name": "python3"
  },
  "language_info": {
   "codemirror_mode": {
    "name": "ipython",
    "version": 3
   },
   "file_extension": ".py",
   "mimetype": "text/x-python",
   "name": "python",
   "nbconvert_exporter": "python",
   "pygments_lexer": "ipython3",
   "version": "3.7.12"
  },
  "papermill": {
   "default_parameters": {},
   "duration": 46.724089,
   "end_time": "2022-11-13T08:36:45.971369",
   "environment_variables": {},
   "exception": null,
   "input_path": "__notebook__.ipynb",
   "output_path": "__notebook__.ipynb",
   "parameters": {},
   "start_time": "2022-11-13T08:35:59.247280",
   "version": "2.3.4"
  }
 },
 "nbformat": 4,
 "nbformat_minor": 5
}
