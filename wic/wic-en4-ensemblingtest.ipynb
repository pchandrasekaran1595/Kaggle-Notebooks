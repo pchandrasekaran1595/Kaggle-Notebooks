{
 "cells": [
  {
   "cell_type": "markdown",
   "id": "ed43057b",
   "metadata": {
    "_cell_guid": "b1076dfc-b9ad-4769-8c92-a6c4dae69d19",
    "_uuid": "8f2839f25d086af736a60e9eeb907d3b93b6e0e5",
    "papermill": {
     "duration": 0.007134,
     "end_time": "2022-11-13T10:58:01.287999",
     "exception": false,
     "start_time": "2022-11-13T10:58:01.280865",
     "status": "completed"
    },
    "tags": []
   },
   "source": [
    "### **Setup**"
   ]
  },
  {
   "cell_type": "code",
   "execution_count": 1,
   "id": "86227ebb",
   "metadata": {
    "execution": {
     "iopub.execute_input": "2022-11-13T10:58:01.301311Z",
     "iopub.status.busy": "2022-11-13T10:58:01.300773Z",
     "iopub.status.idle": "2022-11-13T10:58:11.772847Z",
     "shell.execute_reply": "2022-11-13T10:58:11.771337Z"
    },
    "papermill": {
     "duration": 10.482056,
     "end_time": "2022-11-13T10:58:11.775958",
     "exception": false,
     "start_time": "2022-11-13T10:58:01.293902",
     "status": "completed"
    },
    "tags": []
   },
   "outputs": [
    {
     "name": "stderr",
     "output_type": "stream",
     "text": [
      "WARNING: Running pip as the 'root' user can result in broken permissions and conflicting behaviour with the system package manager. It is recommended to use a virtual environment instead: https://pip.pypa.io/warnings/venv\n"
     ]
    }
   ],
   "source": [
    "%%bash\n",
    "pip install timm -q"
   ]
  },
  {
   "cell_type": "markdown",
   "id": "217c5c26",
   "metadata": {
    "papermill": {
     "duration": 0.004219,
     "end_time": "2022-11-13T10:58:11.785484",
     "exception": false,
     "start_time": "2022-11-13T10:58:11.781265",
     "status": "completed"
    },
    "tags": []
   },
   "source": [
    "### **Library Imports**"
   ]
  },
  {
   "cell_type": "code",
   "execution_count": 2,
   "id": "740aaa3d",
   "metadata": {
    "execution": {
     "iopub.execute_input": "2022-11-13T10:58:11.795996Z",
     "iopub.status.busy": "2022-11-13T10:58:11.795637Z",
     "iopub.status.idle": "2022-11-13T10:58:15.544102Z",
     "shell.execute_reply": "2022-11-13T10:58:15.543055Z"
    },
    "papermill": {
     "duration": 3.756627,
     "end_time": "2022-11-13T10:58:15.546560",
     "exception": false,
     "start_time": "2022-11-13T10:58:11.789933",
     "status": "completed"
    },
    "tags": []
   },
   "outputs": [],
   "source": [
    "import os\n",
    "import re\n",
    "import cv2\n",
    "import timm\n",
    "import torch\n",
    "import numpy as np\n",
    "import pandas as pd\n",
    "import matplotlib.pyplot as plt\n",
    "\n",
    "from scipy import stats\n",
    "from torch import nn, optim\n",
    "from torchvision import models, transforms"
   ]
  },
  {
   "cell_type": "markdown",
   "id": "eb328f76",
   "metadata": {
    "papermill": {
     "duration": 0.003851,
     "end_time": "2022-11-13T10:58:15.554696",
     "exception": false,
     "start_time": "2022-11-13T10:58:15.550845",
     "status": "completed"
    },
    "tags": []
   },
   "source": [
    "### **Helpers**"
   ]
  },
  {
   "cell_type": "code",
   "execution_count": 3,
   "id": "bcf9c3d5",
   "metadata": {
    "execution": {
     "iopub.execute_input": "2022-11-13T10:58:15.565185Z",
     "iopub.status.busy": "2022-11-13T10:58:15.563946Z",
     "iopub.status.idle": "2022-11-13T10:58:15.592903Z",
     "shell.execute_reply": "2022-11-13T10:58:15.592080Z"
    },
    "papermill": {
     "duration": 0.036194,
     "end_time": "2022-11-13T10:58:15.594943",
     "exception": false,
     "start_time": "2022-11-13T10:58:15.558749",
     "status": "completed"
    },
    "tags": []
   },
   "outputs": [],
   "source": [
    "LABELS: dict = {\n",
    "    0 : \"dew\",\n",
    "    1 : \"fogsmog\",\n",
    "    2 : \"frost\",\n",
    "    3 : \"glaze\",\n",
    "    4 : \"hail\",\n",
    "    5 : \"lightning\",\n",
    "    6 : \"rain\",\n",
    "    7 : \"rainbow\",\n",
    "    8 : \"rime\",\n",
    "    9 : \"sandstorm\",\n",
    "    10 : \"snow\",\n",
    "}\n",
    "IMAGE_BASE_PATH: str = \"../input/wictestimages\"\n",
    "MODEL_BASE_PATH: str = \"../input/wicen4a384models/saves\"\n",
    "IMAGE_FILENAMES: list = sorted(os.listdir(IMAGE_BASE_PATH))\n",
    "MODEL_FILENAMES: list = os.listdir(MODEL_BASE_PATH)\n",
    "\n",
    "\n",
    "def breaker(num: int=50, char: str=\"*\") -> None:\n",
    "    print(\"\\n\" + num*char + \"\\n\")\n",
    "\n",
    "    \n",
    "def get_image(path: str, size: int=224) -> np.ndarray:\n",
    "    image = cv2.imread(path, cv2.IMREAD_COLOR)\n",
    "    image = cv2.cvtColor(src=image, code=cv2.COLOR_BGR2RGB)\n",
    "    return cv2.resize(src=image, dsize=(size, size), interpolation=cv2.INTER_AREA)"
   ]
  },
  {
   "cell_type": "markdown",
   "id": "6ff30776",
   "metadata": {
    "papermill": {
     "duration": 0.003766,
     "end_time": "2022-11-13T10:58:15.602661",
     "exception": false,
     "start_time": "2022-11-13T10:58:15.598895",
     "status": "completed"
    },
    "tags": []
   },
   "source": [
    "### **Configuration**"
   ]
  },
  {
   "cell_type": "code",
   "execution_count": 4,
   "id": "ea350176",
   "metadata": {
    "execution": {
     "iopub.execute_input": "2022-11-13T10:58:15.611648Z",
     "iopub.status.busy": "2022-11-13T10:58:15.611355Z",
     "iopub.status.idle": "2022-11-13T10:58:15.686803Z",
     "shell.execute_reply": "2022-11-13T10:58:15.685931Z"
    },
    "papermill": {
     "duration": 0.082187,
     "end_time": "2022-11-13T10:58:15.688737",
     "exception": false,
     "start_time": "2022-11-13T10:58:15.606550",
     "status": "completed"
    },
    "tags": []
   },
   "outputs": [],
   "source": [
    "class CFG(object):\n",
    "    def __init__(\n",
    "         self, \n",
    "         seed: int = 42,\n",
    "         size: int = 224,\n",
    "         n_splits: int = 5,\n",
    "         batch_size: int = 16,\n",
    "         epochs: int = 25,\n",
    "         early_stopping: int = 5,\n",
    "         lr: float = 1e-4,\n",
    "         wd: float = 0.0,\n",
    "         max_lr: float = 1e-3,\n",
    "         pct_start: float = 0.2,\n",
    "         steps_per_epoch: int = 100,\n",
    "         div_factor: int = 1e3, \n",
    "         final_div_factor: float = 1e3,\n",
    "     ):\n",
    "        self.seed = seed\n",
    "        self.size = size\n",
    "        self.n_splits = n_splits\n",
    "        self.batch_size = batch_size\n",
    "        self.epochs = epochs\n",
    "        self.early_stopping = early_stopping\n",
    "        self.lr = lr\n",
    "        self.wd = wd\n",
    "        self.max_lr = max_lr\n",
    "        self.pct_start = pct_start\n",
    "        self.steps_per_epoch = steps_per_epoch\n",
    "        self.div_factor = div_factor\n",
    "        self.final_div_factor = final_div_factor\n",
    "        self.device = torch.device(\"cuda\" if torch.cuda.is_available() else \"cpu\")\n",
    "        self.train_transform = transforms.Compose([\n",
    "            transforms.ToTensor(),\n",
    "            transforms.Normalize([0.51684, 0.52503, 0.50567], [0.19350, 0.18743, 0.19404]),\n",
    "            transforms.RandomAffine(degrees=(-45, 45), translate=(0.15, 0.15), scale=(0.5, 1.5)),\n",
    "            transforms.RandomHorizontalFlip(p=0.25),\n",
    "            transforms.RandomVerticalFlip(p=0.25),\n",
    "        ])\n",
    "        self.valid_transform = transforms.Compose([\n",
    "            transforms.ToTensor(),\n",
    "            transforms.Normalize([0.51684, 0.52503, 0.50567], [0.19350, 0.18743, 0.19404]),\n",
    "        ])\n",
    "                                \n",
    "        self.save_path = \"saves\"\n",
    "        if not os.path.exists(self.save_path): os.makedirs(self.save_path)\n",
    "    \n",
    "cfg = CFG(\n",
    "    seed=42, \n",
    "    size=384\n",
    ")"
   ]
  },
  {
   "cell_type": "markdown",
   "id": "2e7d241f",
   "metadata": {
    "papermill": {
     "duration": 0.003867,
     "end_time": "2022-11-13T10:58:15.697109",
     "exception": false,
     "start_time": "2022-11-13T10:58:15.693242",
     "status": "completed"
    },
    "tags": []
   },
   "source": [
    "### **Model**"
   ]
  },
  {
   "cell_type": "code",
   "execution_count": 5,
   "id": "b41913d7",
   "metadata": {
    "execution": {
     "iopub.execute_input": "2022-11-13T10:58:15.705981Z",
     "iopub.status.busy": "2022-11-13T10:58:15.705695Z",
     "iopub.status.idle": "2022-11-13T10:58:15.711456Z",
     "shell.execute_reply": "2022-11-13T10:58:15.710415Z"
    },
    "papermill": {
     "duration": 0.012722,
     "end_time": "2022-11-13T10:58:15.713710",
     "exception": false,
     "start_time": "2022-11-13T10:58:15.700988",
     "status": "completed"
    },
    "tags": []
   },
   "outputs": [],
   "source": [
    "class Model(nn.Module):\n",
    "    def __init__(self):\n",
    "        super(Model, self).__init__()\n",
    "            \n",
    "        self.model = timm.create_model(model_name=\"efficientnet_b4\", pretrained=False)\n",
    "        self.model.classifier = nn.Linear(in_features=self.model.classifier.in_features, out_features=11)\n",
    "\n",
    "    def forward(self, x):\n",
    "        return nn.LogSoftmax(dim=1)(self.model(x))"
   ]
  },
  {
   "cell_type": "markdown",
   "id": "d3f21eaf",
   "metadata": {
    "papermill": {
     "duration": 0.003882,
     "end_time": "2022-11-13T10:58:15.721491",
     "exception": false,
     "start_time": "2022-11-13T10:58:15.717609",
     "status": "completed"
    },
    "tags": []
   },
   "source": [
    "### **Averaging Final Predictions**"
   ]
  },
  {
   "cell_type": "code",
   "execution_count": 6,
   "id": "5d8069de",
   "metadata": {
    "execution": {
     "iopub.execute_input": "2022-11-13T10:58:15.730259Z",
     "iopub.status.busy": "2022-11-13T10:58:15.729978Z",
     "iopub.status.idle": "2022-11-13T11:00:04.693152Z",
     "shell.execute_reply": "2022-11-13T11:00:04.692115Z"
    },
    "papermill": {
     "duration": 108.974322,
     "end_time": "2022-11-13T11:00:04.699675",
     "exception": false,
     "start_time": "2022-11-13T10:58:15.725353",
     "status": "completed"
    },
    "tags": []
   },
   "outputs": [
    {
     "name": "stdout",
     "output_type": "stream",
     "text": [
      "\n",
      "**************************************************\n",
      "\n",
      "Predicted : Frost\n",
      "Actual    : Fog\n",
      "\n",
      "**************************************************\n",
      "\n",
      "Predicted : Frost\n",
      "Actual    : Frost\n",
      "\n",
      "**************************************************\n",
      "\n",
      "Predicted : Rainbow\n",
      "Actual    : Glaze\n",
      "\n",
      "**************************************************\n",
      "\n",
      "Predicted : Hail\n",
      "Actual    : Hail\n",
      "\n",
      "**************************************************\n",
      "\n",
      "Predicted : Lightning\n",
      "Actual    : Lightning\n",
      "\n",
      "**************************************************\n",
      "\n",
      "Predicted : Rain\n",
      "Actual    : Rain\n",
      "\n",
      "**************************************************\n",
      "\n",
      "Predicted : Rainbow\n",
      "Actual    : Rainbow\n",
      "\n",
      "**************************************************\n",
      "\n",
      "Predicted : Fogsmog\n",
      "Actual    : Smog\n",
      "\n",
      "**************************************************\n",
      "\n",
      "Predicted : Rime\n",
      "Actual    : Snow\n",
      "\n",
      "**************************************************\n",
      "\n"
     ]
    }
   ],
   "source": [
    "label_indexes: list = []\n",
    "\n",
    "breaker()\n",
    "for image_filename in IMAGE_FILENAMES:\n",
    "    image = get_image(os.path.join(IMAGE_BASE_PATH, image_filename), cfg.size)\n",
    "    \n",
    "    label_index: float = 0.0\n",
    "    for model_filename in MODEL_FILENAMES:\n",
    "        model = Model().to(cfg.device)\n",
    "        model.load_state_dict(torch.load(f=os.path.join(MODEL_BASE_PATH, model_filename), map_location=cfg.device)[\"model_state_dict\"])\n",
    "        model.eval()\n",
    "        with torch.no_grad(): output = torch.argmax(model(cfg.valid_transform(image).to(cfg.device).unsqueeze(dim=0)), dim=1)\n",
    "        label_index += output.item()\n",
    "    \n",
    "    print(f\"Predicted : {LABELS[int(label_index / len(MODEL_FILENAMES))].title()}\")\n",
    "    print(f\"Actual    : {image_filename[:-4]}\")\n",
    "    breaker()"
   ]
  },
  {
   "cell_type": "markdown",
   "id": "8fecb9be",
   "metadata": {
    "papermill": {
     "duration": 0.004177,
     "end_time": "2022-11-13T11:00:04.708339",
     "exception": false,
     "start_time": "2022-11-13T11:00:04.704162",
     "status": "completed"
    },
    "tags": []
   },
   "source": [
    "### **Mode Final Predictions**"
   ]
  },
  {
   "cell_type": "code",
   "execution_count": 7,
   "id": "53c672ab",
   "metadata": {
    "execution": {
     "iopub.execute_input": "2022-11-13T11:00:04.718378Z",
     "iopub.status.busy": "2022-11-13T11:00:04.718079Z",
     "iopub.status.idle": "2022-11-13T11:01:24.025742Z",
     "shell.execute_reply": "2022-11-13T11:01:24.023893Z"
    },
    "papermill": {
     "duration": 79.315262,
     "end_time": "2022-11-13T11:01:24.027999",
     "exception": false,
     "start_time": "2022-11-13T11:00:04.712737",
     "status": "completed"
    },
    "tags": []
   },
   "outputs": [
    {
     "name": "stdout",
     "output_type": "stream",
     "text": [
      "\n",
      "**************************************************\n",
      "\n",
      "Predicted : Fogsmog\n",
      "Actual    : Fog\n",
      "\n",
      "**************************************************\n",
      "\n",
      "Predicted : Frost\n",
      "Actual    : Frost\n",
      "\n",
      "**************************************************\n",
      "\n",
      "Predicted : Rime\n",
      "Actual    : Glaze\n",
      "\n",
      "**************************************************\n",
      "\n",
      "Predicted : Hail\n",
      "Actual    : Hail\n",
      "\n",
      "**************************************************\n",
      "\n",
      "Predicted : Lightning\n",
      "Actual    : Lightning\n",
      "\n",
      "**************************************************\n",
      "\n",
      "Predicted : Rain\n",
      "Actual    : Rain\n",
      "\n",
      "**************************************************\n",
      "\n",
      "Predicted : Rainbow\n",
      "Actual    : Rainbow\n",
      "\n",
      "**************************************************\n",
      "\n",
      "Predicted : Fogsmog\n",
      "Actual    : Smog\n",
      "\n",
      "**************************************************\n",
      "\n",
      "Predicted : Rime\n",
      "Actual    : Snow\n",
      "\n",
      "**************************************************\n",
      "\n"
     ]
    }
   ],
   "source": [
    "label_indexes: list = []\n",
    "\n",
    "breaker()\n",
    "for image_filename in IMAGE_FILENAMES:\n",
    "    image = get_image(os.path.join(IMAGE_BASE_PATH, image_filename), cfg.size)\n",
    "    \n",
    "    label_indexes: list = []\n",
    "    for model_filename in MODEL_FILENAMES:\n",
    "        model = Model().to(cfg.device)\n",
    "        model.load_state_dict(torch.load(f=os.path.join(MODEL_BASE_PATH, model_filename), map_location=cfg.device)[\"model_state_dict\"])\n",
    "        model.eval()\n",
    "        with torch.no_grad(): output = torch.argmax(model(cfg.valid_transform(image).to(cfg.device).unsqueeze(dim=0)), dim=1)\n",
    "        label_indexes.append(output.item())\n",
    "    \n",
    "    label_index = stats.mode(np.array(label_indexes), axis=0)[0]\n",
    "    print(f\"Predicted : {LABELS[int(label_index)].title()}\")\n",
    "    print(f\"Actual    : {image_filename[:-4]}\")\n",
    "    breaker()"
   ]
  },
  {
   "cell_type": "markdown",
   "id": "25f563fe",
   "metadata": {
    "papermill": {
     "duration": 0.005073,
     "end_time": "2022-11-13T11:01:24.038527",
     "exception": false,
     "start_time": "2022-11-13T11:01:24.033454",
     "status": "completed"
    },
    "tags": []
   },
   "source": [
    "### **Summing State Dicts**"
   ]
  },
  {
   "cell_type": "code",
   "execution_count": 8,
   "id": "110f7c66",
   "metadata": {
    "execution": {
     "iopub.execute_input": "2022-11-13T11:01:24.049925Z",
     "iopub.status.busy": "2022-11-13T11:01:24.049625Z",
     "iopub.status.idle": "2022-11-13T11:01:32.666607Z",
     "shell.execute_reply": "2022-11-13T11:01:32.665637Z"
    },
    "papermill": {
     "duration": 8.625366,
     "end_time": "2022-11-13T11:01:32.668963",
     "exception": false,
     "start_time": "2022-11-13T11:01:24.043597",
     "status": "completed"
    },
    "tags": []
   },
   "outputs": [],
   "source": [
    "for model_filename in MODEL_FILENAMES:\n",
    "    model = Model().to(cfg.device)\n",
    "    model.load_state_dict(torch.load(f=os.path.join(MODEL_BASE_PATH, model_filename), map_location=cfg.device)[\"model_state_dict\"])\n",
    "    model.eval()\n",
    "    \n",
    "    sum_state_dict: dict = dict()\n",
    "    for names, params in model.state_dict().items():\n",
    "        if names in sum_state_dict.keys():\n",
    "            sum_state_dict[names] += params\n",
    "        else:\n",
    "            sum_state_dict[names] = params"
   ]
  },
  {
   "cell_type": "code",
   "execution_count": 9,
   "id": "0894a164",
   "metadata": {
    "execution": {
     "iopub.execute_input": "2022-11-13T11:01:32.682091Z",
     "iopub.status.busy": "2022-11-13T11:01:32.680518Z",
     "iopub.status.idle": "2022-11-13T11:01:33.979387Z",
     "shell.execute_reply": "2022-11-13T11:01:33.978109Z"
    },
    "papermill": {
     "duration": 1.307062,
     "end_time": "2022-11-13T11:01:33.981336",
     "exception": false,
     "start_time": "2022-11-13T11:01:32.674274",
     "status": "completed"
    },
    "tags": []
   },
   "outputs": [
    {
     "name": "stdout",
     "output_type": "stream",
     "text": [
      "\n",
      "**************************************************\n",
      "\n",
      "Predicted : Rime\n",
      "Actual    : Fog\n",
      "\n",
      "**************************************************\n",
      "\n",
      "Predicted : Rime\n",
      "Actual    : Frost\n",
      "\n",
      "**************************************************\n",
      "\n",
      "Predicted : Fogsmog\n",
      "Actual    : Glaze\n",
      "\n",
      "**************************************************\n",
      "\n",
      "Predicted : Snow\n",
      "Actual    : Hail\n",
      "\n",
      "**************************************************\n",
      "\n",
      "Predicted : Glaze\n",
      "Actual    : Lightning\n",
      "\n",
      "**************************************************\n",
      "\n",
      "Predicted : Sandstorm\n",
      "Actual    : Rain\n",
      "\n",
      "**************************************************\n",
      "\n",
      "Predicted : Snow\n",
      "Actual    : Rainbow\n",
      "\n",
      "**************************************************\n",
      "\n",
      "Predicted : Glaze\n",
      "Actual    : Smog\n",
      "\n",
      "**************************************************\n",
      "\n",
      "Predicted : Rime\n",
      "Actual    : Snow\n",
      "\n",
      "**************************************************\n",
      "\n"
     ]
    }
   ],
   "source": [
    "label_indexes: list = []\n",
    "    \n",
    "model = Model().to(cfg.device)\n",
    "model.load_state_dict(sum_state_dict)\n",
    "\n",
    "breaker()\n",
    "for image_filename in IMAGE_FILENAMES:\n",
    "    image = get_image(os.path.join(IMAGE_BASE_PATH, image_filename), cfg.size)\n",
    "    with torch.no_grad(): label_index = torch.argmax(model(cfg.valid_transform(image).to(cfg.device).unsqueeze(dim=0)), dim=1)\n",
    "    print(f\"Predicted : {LABELS[int(label_index.item())].title()}\")\n",
    "    print(f\"Actual    : {image_filename[:-4]}\")\n",
    "    breaker()"
   ]
  },
  {
   "cell_type": "markdown",
   "id": "271e3da8",
   "metadata": {
    "papermill": {
     "duration": 0.005082,
     "end_time": "2022-11-13T11:01:33.992271",
     "exception": false,
     "start_time": "2022-11-13T11:01:33.987189",
     "status": "completed"
    },
    "tags": []
   },
   "source": [
    "### **Averaging State Dicts**"
   ]
  },
  {
   "cell_type": "code",
   "execution_count": 10,
   "id": "dac376f1",
   "metadata": {
    "execution": {
     "iopub.execute_input": "2022-11-13T11:01:34.003855Z",
     "iopub.status.busy": "2022-11-13T11:01:34.003548Z",
     "iopub.status.idle": "2022-11-13T11:01:42.833230Z",
     "shell.execute_reply": "2022-11-13T11:01:42.832237Z"
    },
    "papermill": {
     "duration": 8.838182,
     "end_time": "2022-11-13T11:01:42.835624",
     "exception": false,
     "start_time": "2022-11-13T11:01:33.997442",
     "status": "completed"
    },
    "tags": []
   },
   "outputs": [],
   "source": [
    "for model_filename in MODEL_FILENAMES:\n",
    "    model = Model().to(cfg.device)\n",
    "    model.load_state_dict(torch.load(f=os.path.join(MODEL_BASE_PATH, model_filename), map_location=cfg.device)[\"model_state_dict\"])\n",
    "    model.eval()\n",
    "    \n",
    "    avg_state_dict: dict = dict()\n",
    "    for names, params in model.state_dict().items():\n",
    "        if names in avg_state_dict.keys():\n",
    "            avg_state_dict[names] += params\n",
    "        else:\n",
    "            avg_state_dict[names] = params\n",
    "        \n",
    "for k, v in avg_state_dict.items(): avg_state_dict[k] = v / len(MODEL_FILENAMES)"
   ]
  },
  {
   "cell_type": "code",
   "execution_count": 11,
   "id": "1804e265",
   "metadata": {
    "execution": {
     "iopub.execute_input": "2022-11-13T11:01:42.847673Z",
     "iopub.status.busy": "2022-11-13T11:01:42.847390Z",
     "iopub.status.idle": "2022-11-13T11:01:44.261619Z",
     "shell.execute_reply": "2022-11-13T11:01:44.260588Z"
    },
    "papermill": {
     "duration": 1.422787,
     "end_time": "2022-11-13T11:01:44.263896",
     "exception": false,
     "start_time": "2022-11-13T11:01:42.841109",
     "status": "completed"
    },
    "tags": []
   },
   "outputs": [
    {
     "name": "stdout",
     "output_type": "stream",
     "text": [
      "\n",
      "**************************************************\n",
      "\n",
      "Predicted : Rime\n",
      "Actual    : Fog\n",
      "\n",
      "**************************************************\n",
      "\n",
      "Predicted : Sandstorm\n",
      "Actual    : Frost\n",
      "\n",
      "**************************************************\n",
      "\n",
      "Predicted : Sandstorm\n",
      "Actual    : Glaze\n",
      "\n",
      "**************************************************\n",
      "\n",
      "Predicted : Sandstorm\n",
      "Actual    : Hail\n",
      "\n",
      "**************************************************\n",
      "\n",
      "Predicted : Sandstorm\n",
      "Actual    : Lightning\n",
      "\n",
      "**************************************************\n",
      "\n",
      "Predicted : Sandstorm\n",
      "Actual    : Rain\n",
      "\n",
      "**************************************************\n",
      "\n",
      "Predicted : Rime\n",
      "Actual    : Rainbow\n",
      "\n",
      "**************************************************\n",
      "\n",
      "Predicted : Sandstorm\n",
      "Actual    : Smog\n",
      "\n",
      "**************************************************\n",
      "\n",
      "Predicted : Sandstorm\n",
      "Actual    : Snow\n",
      "\n",
      "**************************************************\n",
      "\n"
     ]
    }
   ],
   "source": [
    "label_indexes: list = []\n",
    "    \n",
    "model = Model().to(cfg.device)\n",
    "model.load_state_dict(avg_state_dict)\n",
    "\n",
    "breaker()\n",
    "for image_filename in IMAGE_FILENAMES:\n",
    "    image = get_image(os.path.join(IMAGE_BASE_PATH, image_filename), cfg.size)\n",
    "    with torch.no_grad(): label_index = torch.argmax(model(cfg.valid_transform(image).to(cfg.device).unsqueeze(dim=0)), dim=1)\n",
    "    print(f\"Predicted : {LABELS[int(label_index.item())].title()}\")\n",
    "    print(f\"Actual    : {image_filename[:-4]}\")\n",
    "    breaker()"
   ]
  }
 ],
 "metadata": {
  "kernelspec": {
   "display_name": "Python 3",
   "language": "python",
   "name": "python3"
  },
  "language_info": {
   "codemirror_mode": {
    "name": "ipython",
    "version": 3
   },
   "file_extension": ".py",
   "mimetype": "text/x-python",
   "name": "python",
   "nbconvert_exporter": "python",
   "pygments_lexer": "ipython3",
   "version": "3.7.12"
  },
  "papermill": {
   "default_parameters": {},
   "duration": 233.367602,
   "end_time": "2022-11-13T11:01:46.786441",
   "environment_variables": {},
   "exception": null,
   "input_path": "__notebook__.ipynb",
   "output_path": "__notebook__.ipynb",
   "parameters": {},
   "start_time": "2022-11-13T10:57:53.418839",
   "version": "2.3.4"
  }
 },
 "nbformat": 4,
 "nbformat_minor": 5
}
