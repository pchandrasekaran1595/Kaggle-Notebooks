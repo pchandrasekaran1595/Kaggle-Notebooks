{
 "cells": [
  {
   "cell_type": "code",
   "execution_count": 1,
   "id": "a5f93361",
   "metadata": {
    "_cell_guid": "b1076dfc-b9ad-4769-8c92-a6c4dae69d19",
    "_uuid": "8f2839f25d086af736a60e9eeb907d3b93b6e0e5",
    "execution": {
     "iopub.execute_input": "2022-07-11T15:41:33.893409Z",
     "iopub.status.busy": "2022-07-11T15:41:33.892927Z",
     "iopub.status.idle": "2022-07-11T15:41:33.903825Z",
     "shell.execute_reply": "2022-07-11T15:41:33.903083Z"
    },
    "papermill": {
     "duration": 0.017779,
     "end_time": "2022-07-11T15:41:33.906157",
     "exception": false,
     "start_time": "2022-07-11T15:41:33.888378",
     "status": "completed"
    },
    "tags": []
   },
   "outputs": [],
   "source": [
    "import os\n",
    "import pandas as pd"
   ]
  },
  {
   "cell_type": "code",
   "execution_count": 2,
   "id": "4082a996",
   "metadata": {
    "execution": {
     "iopub.execute_input": "2022-07-11T15:41:33.911125Z",
     "iopub.status.busy": "2022-07-11T15:41:33.910740Z",
     "iopub.status.idle": "2022-07-11T15:41:36.503140Z",
     "shell.execute_reply": "2022-07-11T15:41:36.502145Z"
    },
    "papermill": {
     "duration": 2.597319,
     "end_time": "2022-07-11T15:41:36.505485",
     "exception": false,
     "start_time": "2022-07-11T15:41:33.908166",
     "status": "completed"
    },
    "tags": []
   },
   "outputs": [],
   "source": [
    "path: str = \"../input/weather-dataset/dataset\"\n",
    "\n",
    "df = pd.DataFrame(data=None, columns=[\"filenames\", \"folder_names\", \"classes\"])\n",
    "folders = sorted(os.listdir(path))\n",
    "\n",
    "filenames: list = []\n",
    "folder_names: list = []\n",
    "classes: list = []\n",
    "i: int = 0\n",
    "    \n",
    "for folder_name in folders:\n",
    "    for filename in os.listdir(os.path.join(path, folder_name)):\n",
    "        if filename == \"4514.jpg\" or filename == \"1187.jpg\":\n",
    "            pass\n",
    "        else:\n",
    "            filenames.append(filename)\n",
    "            folder_names.append(folder_name)\n",
    "            classes.append(i)\n",
    "    i += 1\n",
    "\n",
    "df.filenames = filenames\n",
    "df.folder_names = folder_names\n",
    "df.classes = classes\n",
    "\n",
    "df.to_csv(\"data.csv\", index=False)"
   ]
  }
 ],
 "metadata": {
  "kernelspec": {
   "display_name": "Python 3",
   "language": "python",
   "name": "python3"
  },
  "language_info": {
   "codemirror_mode": {
    "name": "ipython",
    "version": 3
   },
   "file_extension": ".py",
   "mimetype": "text/x-python",
   "name": "python",
   "nbconvert_exporter": "python",
   "pygments_lexer": "ipython3",
   "version": "3.7.12"
  },
  "papermill": {
   "default_parameters": {},
   "duration": 12.716153,
   "end_time": "2022-07-11T15:41:37.127784",
   "environment_variables": {},
   "exception": null,
   "input_path": "__notebook__.ipynb",
   "output_path": "__notebook__.ipynb",
   "parameters": {},
   "start_time": "2022-07-11T15:41:24.411631",
   "version": "2.3.4"
  }
 },
 "nbformat": 4,
 "nbformat_minor": 5
}
