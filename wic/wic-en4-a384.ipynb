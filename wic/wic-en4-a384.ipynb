{
 "cells": [
  {
   "cell_type": "markdown",
   "id": "54582238",
   "metadata": {
    "_cell_guid": "b1076dfc-b9ad-4769-8c92-a6c4dae69d19",
    "_uuid": "8f2839f25d086af736a60e9eeb907d3b93b6e0e5",
    "papermill": {
     "duration": 0.005109,
     "end_time": "2022-11-05T17:35:26.892296",
     "exception": false,
     "start_time": "2022-11-05T17:35:26.887187",
     "status": "completed"
    },
    "tags": []
   },
   "source": [
    "##### **Setup**"
   ]
  },
  {
   "cell_type": "code",
   "execution_count": 1,
   "id": "610c4643",
   "metadata": {
    "execution": {
     "iopub.execute_input": "2022-11-05T17:35:26.902809Z",
     "iopub.status.busy": "2022-11-05T17:35:26.901926Z",
     "iopub.status.idle": "2022-11-05T17:35:37.486492Z",
     "shell.execute_reply": "2022-11-05T17:35:37.485040Z"
    },
    "papermill": {
     "duration": 10.59239,
     "end_time": "2022-11-05T17:35:37.488786",
     "exception": false,
     "start_time": "2022-11-05T17:35:26.896396",
     "status": "completed"
    },
    "tags": []
   },
   "outputs": [
    {
     "name": "stderr",
     "output_type": "stream",
     "text": [
      "WARNING: Running pip as the 'root' user can result in broken permissions and conflicting behaviour with the system package manager. It is recommended to use a virtual environment instead: https://pip.pypa.io/warnings/venv\n"
     ]
    }
   ],
   "source": [
    "%%bash\n",
    "pip install timm -q"
   ]
  },
  {
   "cell_type": "markdown",
   "id": "a0cb98e6",
   "metadata": {
    "papermill": {
     "duration": 0.003852,
     "end_time": "2022-11-05T17:35:37.497247",
     "exception": false,
     "start_time": "2022-11-05T17:35:37.493395",
     "status": "completed"
    },
    "tags": []
   },
   "source": [
    "### **Library Imports**"
   ]
  },
  {
   "cell_type": "code",
   "execution_count": 2,
   "id": "25cf7de6",
   "metadata": {
    "execution": {
     "iopub.execute_input": "2022-11-05T17:35:37.506443Z",
     "iopub.status.busy": "2022-11-05T17:35:37.506122Z",
     "iopub.status.idle": "2022-11-05T17:35:45.244589Z",
     "shell.execute_reply": "2022-11-05T17:35:45.243519Z"
    },
    "papermill": {
     "duration": 7.745834,
     "end_time": "2022-11-05T17:35:45.246992",
     "exception": false,
     "start_time": "2022-11-05T17:35:37.501158",
     "status": "completed"
    },
    "tags": []
   },
   "outputs": [],
   "source": [
    "import os\n",
    "import re\n",
    "import cv2\n",
    "import timm\n",
    "import torch\n",
    "import numpy as np\n",
    "import pandas as pd\n",
    "import matplotlib.pyplot as plt\n",
    "\n",
    "from time import time\n",
    "from torch import nn, optim\n",
    "from torch.utils.data import Dataset\n",
    "from torch.utils.data import DataLoader as DL\n",
    "from torchvision import models, transforms\n",
    "\n",
    "from sklearn.model_selection import StratifiedKFold"
   ]
  },
  {
   "cell_type": "markdown",
   "id": "5d3fac2a",
   "metadata": {
    "papermill": {
     "duration": 0.003734,
     "end_time": "2022-11-05T17:35:45.255102",
     "exception": false,
     "start_time": "2022-11-05T17:35:45.251368",
     "status": "completed"
    },
    "tags": []
   },
   "source": [
    "### **Utilities and Helpers**"
   ]
  },
  {
   "cell_type": "code",
   "execution_count": 3,
   "id": "7872e734",
   "metadata": {
    "execution": {
     "iopub.execute_input": "2022-11-05T17:35:45.265273Z",
     "iopub.status.busy": "2022-11-05T17:35:45.263849Z",
     "iopub.status.idle": "2022-11-05T17:35:45.277267Z",
     "shell.execute_reply": "2022-11-05T17:35:45.276437Z"
    },
    "papermill": {
     "duration": 0.020372,
     "end_time": "2022-11-05T17:35:45.279357",
     "exception": false,
     "start_time": "2022-11-05T17:35:45.258985",
     "status": "completed"
    },
    "tags": []
   },
   "outputs": [],
   "source": [
    "SEED = 42\n",
    "SIZE = 384\n",
    "\n",
    "\n",
    "def breaker(num: int=50, char: str=\"*\") -> None:\n",
    "    print(\"\\n\" + num*char + \"\\n\")\n",
    "\n",
    "    \n",
    "def get_image(path: str, size: int=224) -> np.ndarray:\n",
    "    image = cv2.imread(path, cv2.IMREAD_COLOR)\n",
    "    image = cv2.cvtColor(src=image, code=cv2.COLOR_BGR2RGB)\n",
    "    return cv2.resize(src=image, dsize=(size, size), interpolation=cv2.INTER_AREA)\n",
    "\n",
    "    \n",
    "def show_loss_graphs(L: list) -> None:\n",
    "    TL, VL = [], []\n",
    "    for i in range(len(L)):\n",
    "        TL.append(L[i][\"train\"])\n",
    "        VL.append(L[i][\"valid\"])\n",
    "    x_Axis = np.arange(1, len(TL) + 1)\n",
    "    plt.figure()\n",
    "    plt.plot(x_Axis, TL, \"r\", label=\"Train\")\n",
    "    plt.plot(x_Axis, VL, \"b\", label=\"Valid\")\n",
    "    plt.legend()\n",
    "    plt.grid()\n",
    "    plt.title(\"Loss Graph\")\n",
    "    plt.show()\n",
    "\n",
    "    \n",
    "def show_accuracy_graphs(A: list) -> None:\n",
    "    TA, VA = [], []\n",
    "    for i in range(len(A)):\n",
    "        TA.append(A[i][\"train\"])\n",
    "        VA.append(A[i][\"valid\"])\n",
    "    x_Axis = np.arange(1, len(TA) + 1)\n",
    "    plt.figure()\n",
    "    plt.plot(x_Axis, TA, \"r\", label=\"Train\")\n",
    "    plt.plot(x_Axis, VA, \"b\", label=\"Valid\")\n",
    "    plt.legend()\n",
    "    plt.grid()\n",
    "    plt.title(\"Accuracy Graph\")\n",
    "    plt.show()\n",
    "    \n",
    "\n",
    "def show_lr_graph(LR: list) -> None:\n",
    "    x_Axis = [i+1 for i in range(len(LR))]\n",
    "    plt.figure(figsize=(8, 6))\n",
    "    plt.plot(x_Axis, LR, \"rx\")\n",
    "    plt.grid()\n",
    "    plt.show()"
   ]
  },
  {
   "cell_type": "markdown",
   "id": "5aa949aa",
   "metadata": {
    "papermill": {
     "duration": 0.003645,
     "end_time": "2022-11-05T17:35:45.286886",
     "exception": false,
     "start_time": "2022-11-05T17:35:45.283241",
     "status": "completed"
    },
    "tags": []
   },
   "source": [
    "### **Configuration**"
   ]
  },
  {
   "cell_type": "code",
   "execution_count": 4,
   "id": "7c58532c",
   "metadata": {
    "execution": {
     "iopub.execute_input": "2022-11-05T17:35:45.295788Z",
     "iopub.status.busy": "2022-11-05T17:35:45.295527Z",
     "iopub.status.idle": "2022-11-05T17:35:45.367506Z",
     "shell.execute_reply": "2022-11-05T17:35:45.366549Z"
    },
    "papermill": {
     "duration": 0.079038,
     "end_time": "2022-11-05T17:35:45.369746",
     "exception": false,
     "start_time": "2022-11-05T17:35:45.290708",
     "status": "completed"
    },
    "tags": []
   },
   "outputs": [],
   "source": [
    "class CFG(object):\n",
    "    def __init__(self, \n",
    "                 seed: int = 42,\n",
    "                 size: int = 224,\n",
    "                 n_splits: int = 5,\n",
    "                 batch_size: int = 16,\n",
    "                 epochs: int = 25,\n",
    "                 early_stopping: int = 5,\n",
    "                 lr: float = 1e-4,\n",
    "                 wd: float = 0.0,\n",
    "                 max_lr: float = 1e-3,\n",
    "                 pct_start: float = 0.2,\n",
    "                 steps_per_epoch: int = 100,\n",
    "                 div_factor: int = 1e3, \n",
    "                 final_div_factor: float = 1e3,\n",
    "                 ):\n",
    "        self.seed = seed\n",
    "        self.size = size\n",
    "        self.n_splits = n_splits\n",
    "        self.batch_size = batch_size\n",
    "        self.epochs = epochs\n",
    "        self.early_stopping = early_stopping\n",
    "        self.lr = lr\n",
    "        self.wd = wd\n",
    "        self.max_lr = max_lr\n",
    "        self.pct_start = pct_start\n",
    "        self.steps_per_epoch = steps_per_epoch\n",
    "        self.div_factor = div_factor\n",
    "        self.final_div_factor = final_div_factor\n",
    "        self.device = torch.device(\"cuda\" if torch.cuda.is_available() else \"cpu\")\n",
    "        self.train_transform = transforms.Compose([\n",
    "            transforms.ToTensor(),\n",
    "            transforms.Normalize([0.51684, 0.52503, 0.50567], [0.19350, 0.18743, 0.19404]),\n",
    "            transforms.RandomAffine(degrees=(-45, 45), translate=(0.15, 0.15), scale=(0.5, 1.5)),\n",
    "            transforms.RandomHorizontalFlip(p=0.25),\n",
    "            transforms.RandomVerticalFlip(p=0.25),\n",
    "        ])\n",
    "        self.valid_transform = transforms.Compose([\n",
    "            transforms.ToTensor(),\n",
    "            transforms.Normalize([0.51684, 0.52503, 0.50567], [0.19350, 0.18743, 0.19404]),\n",
    "        ])\n",
    "                                \n",
    "        self.save_path = \"saves\"\n",
    "        if not os.path.exists(self.save_path): os.makedirs(self.save_path)\n",
    "    \n",
    "cfg = CFG(seed=SEED, size=SIZE)"
   ]
  },
  {
   "cell_type": "markdown",
   "id": "628ec40f",
   "metadata": {
    "papermill": {
     "duration": 0.003856,
     "end_time": "2022-11-05T17:35:45.377922",
     "exception": false,
     "start_time": "2022-11-05T17:35:45.374066",
     "status": "completed"
    },
    "tags": []
   },
   "source": [
    "### **Dataset Template**"
   ]
  },
  {
   "cell_type": "code",
   "execution_count": 5,
   "id": "10765ce9",
   "metadata": {
    "execution": {
     "iopub.execute_input": "2022-11-05T17:35:45.388344Z",
     "iopub.status.busy": "2022-11-05T17:35:45.387295Z",
     "iopub.status.idle": "2022-11-05T17:35:45.394984Z",
     "shell.execute_reply": "2022-11-05T17:35:45.394017Z"
    },
    "papermill": {
     "duration": 0.015054,
     "end_time": "2022-11-05T17:35:45.397031",
     "exception": false,
     "start_time": "2022-11-05T17:35:45.381977",
     "status": "completed"
    },
    "tags": []
   },
   "outputs": [],
   "source": [
    "class DS(Dataset):\n",
    "    def __init__(\n",
    "        self, \n",
    "        base_path: str,\n",
    "        filenames: np.ndarray, \n",
    "        folder_names: np.ndarray, \n",
    "        labels: np.ndarray, \n",
    "        size: int,\n",
    "        transform=None\n",
    "    ):\n",
    "        \n",
    "        self.base_path = base_path\n",
    "        self.filenames = filenames\n",
    "        self.folder_names = folder_names\n",
    "        self.labels = labels\n",
    "        self.size = size\n",
    "        self.transform = transform\n",
    "    \n",
    "    def __len__(self):\n",
    "        return self.filenames.shape[0]\n",
    "    \n",
    "    def __getitem__(self, idx):\n",
    "        path = os.path.join(os.path.join(self.base_path, self.folder_names[idx]), self.filenames[idx])\n",
    "        image = get_image(path, self.size)\n",
    "        return self.transform(image), self.labels[idx]"
   ]
  },
  {
   "cell_type": "markdown",
   "id": "7b6e638c",
   "metadata": {
    "papermill": {
     "duration": 0.003621,
     "end_time": "2022-11-05T17:35:45.404683",
     "exception": false,
     "start_time": "2022-11-05T17:35:45.401062",
     "status": "completed"
    },
    "tags": []
   },
   "source": [
    "### **Model**"
   ]
  },
  {
   "cell_type": "code",
   "execution_count": 6,
   "id": "c87ee660",
   "metadata": {
    "execution": {
     "iopub.execute_input": "2022-11-05T17:35:45.413570Z",
     "iopub.status.busy": "2022-11-05T17:35:45.413291Z",
     "iopub.status.idle": "2022-11-05T17:35:45.418687Z",
     "shell.execute_reply": "2022-11-05T17:35:45.417777Z"
    },
    "papermill": {
     "duration": 0.012137,
     "end_time": "2022-11-05T17:35:45.420701",
     "exception": false,
     "start_time": "2022-11-05T17:35:45.408564",
     "status": "completed"
    },
    "tags": []
   },
   "outputs": [],
   "source": [
    "class Model(nn.Module):\n",
    "    def __init__(self):\n",
    "        super(Model, self).__init__()\n",
    "            \n",
    "        self.model = timm.create_model(model_name=\"efficientnet_b4\", pretrained=True)\n",
    "        self.model.classifier = nn.Linear(in_features=self.model.classifier.in_features, out_features=11)\n",
    "\n",
    "    def forward(self, x):\n",
    "        return nn.LogSoftmax(dim=1)(self.model(x))"
   ]
  },
  {
   "cell_type": "markdown",
   "id": "c4554c16",
   "metadata": {
    "papermill": {
     "duration": 0.003712,
     "end_time": "2022-11-05T17:35:45.428272",
     "exception": false,
     "start_time": "2022-11-05T17:35:45.424560",
     "status": "completed"
    },
    "tags": []
   },
   "source": [
    "### **Fit and Predict**"
   ]
  },
  {
   "cell_type": "code",
   "execution_count": 7,
   "id": "b3149abc",
   "metadata": {
    "execution": {
     "iopub.execute_input": "2022-11-05T17:35:45.437589Z",
     "iopub.status.busy": "2022-11-05T17:35:45.437314Z",
     "iopub.status.idle": "2022-11-05T17:35:45.457994Z",
     "shell.execute_reply": "2022-11-05T17:35:45.457184Z"
    },
    "papermill": {
     "duration": 0.028019,
     "end_time": "2022-11-05T17:35:45.460116",
     "exception": false,
     "start_time": "2022-11-05T17:35:45.432097",
     "status": "completed"
    },
    "tags": []
   },
   "outputs": [],
   "source": [
    "def fit(\n",
    "    model=None,\n",
    "    optimizer=None, \n",
    "    scheduler_rlrop=None,\n",
    "    scheduler_oclr=None,\n",
    "    epochs=None, \n",
    "    early_stopping_patience=None, \n",
    "    dataloaders=None, \n",
    "    fold=None, \n",
    "    save_path=None,\n",
    "    device=None,\n",
    "    verbose=False\n",
    ") -> tuple:\n",
    "    \n",
    "    def get_accuracy(y_pred, y_true):\n",
    "        y_pred = torch.argmax(y_pred, dim=1)\n",
    "        return torch.count_nonzero(y_pred == y_true).item() / len(y_pred)\n",
    "    \n",
    "    \n",
    "    if verbose:\n",
    "        breaker()\n",
    "        if fold: print(f\"Training Fold {fold}...\")\n",
    "        else: print(\"Training ...\")\n",
    "        breaker()\n",
    "        \n",
    "    bestLoss: dict = {\"train\" : np.inf, \"valid\" : np.inf} \n",
    "    bestAccs: dict = {\"train\" : 0.0, \"valid\" : 0.0}\n",
    "    \n",
    "    Losses: list = []\n",
    "    Accuracies: list = [] \n",
    "    LRs: list = []\n",
    "        \n",
    "    if fold: \n",
    "        ble_name = f\"ble_state_fold_{fold}.pt\"\n",
    "        bae_name = f\"bae_state_fold_{fold}.pt\"\n",
    "    else: \n",
    "        ble_name = f\"ble_state.pt\"\n",
    "        bae_name = f\"bae_state.pt\"\n",
    "        \n",
    "    start_time = time()\n",
    "    for e in range(epochs):\n",
    "        e_st = time()\n",
    "        epochLoss: dict = {\"train\" : 0.0, \"valid\" : 0.0} \n",
    "        epochAccs: dict = {\"train\" : 0.0, \"valid\" : 0.0}\n",
    "\n",
    "        for phase in [\"train\", \"valid\"]:\n",
    "            if phase == \"train\":\n",
    "                model.train()\n",
    "            else:\n",
    "                model.eval()\n",
    "            \n",
    "            lossPerPass: list = []\n",
    "            accsPerPass: list = []\n",
    "                \n",
    "            for X, y in dataloaders[phase]:\n",
    "                X, y = X.to(device), y.to(device).view(-1)\n",
    "\n",
    "                optimizer.zero_grad()\n",
    "                with torch.set_grad_enabled(phase == \"train\"):\n",
    "                    output = model(X)\n",
    "                    loss = torch.nn.NLLLoss()(output, y)\n",
    "                    if phase == \"train\":\n",
    "                        loss.backward()\n",
    "                        optimizer.step()\n",
    "                        if scheduler_oclr: scheduler_oclr.step()\n",
    "                lossPerPass.append(loss.item())\n",
    "                accsPerPass.append(get_accuracy(output, y))\n",
    "            epochLoss[phase] = np.mean(np.array(lossPerPass))\n",
    "            epochAccs[phase] = np.mean(np.array(accsPerPass))\n",
    "        if scheduler_oclr: LRs.append(scheduler_oclr.get_last_lr())\n",
    "        Losses.append(epochLoss)\n",
    "        Accuracies.append(epochAccs)\n",
    "        \n",
    "        if scheduler_oclr:\n",
    "            save_dict = {\"model_state_dict\"     : model.state_dict(),\n",
    "                         \"optim_state_dict\"     : optimizer.state_dict(),\n",
    "                         \"scheduler_state_dict\" : scheduler_oclr.state_dict()}\n",
    "        \n",
    "        elif scheduler_rlrop:\n",
    "            save_dict = {\"model_state_dict\"     : model.state_dict(),\n",
    "                         \"optim_state_dict\"     : optimizer.state_dict(),\n",
    "                         \"scheduler_state_dict\" : scheduler_rlrop.state_dict()}\n",
    "        \n",
    "        else:\n",
    "            save_dict = {\"model_state_dict\"     : model.state_dict(),\n",
    "                         \"optim_state_dict\"     : optimizer.state_dict()}\n",
    "        \n",
    "        if early_stopping_patience:\n",
    "            if epochLoss[\"valid\"] < bestLoss[\"valid\"]:\n",
    "                bestLoss = epochLoss\n",
    "                BLE = e + 1\n",
    "                torch.save(save_dict, os.path.join(save_path, ble_name))\n",
    "                torch.save(save_dict, os.path.join(save_path, bae_name))\n",
    "                early_stopping_step = 0\n",
    "            else:\n",
    "                early_stopping_step += 1\n",
    "                if early_stopping_step > early_stopping_patience:\n",
    "                    print(\"\\nEarly Stopping at Epoch {}\".format(e + 1))\n",
    "                    break\n",
    "        \n",
    "        if epochLoss[\"valid\"] < bestLoss[\"valid\"]:\n",
    "            bestLoss = epochLoss\n",
    "            BLE = e + 1\n",
    "            torch.save(save_dict,os.path.join(save_path, ble_name))\n",
    "        \n",
    "        if epochAccs[\"valid\"] > bestAccs[\"valid\"]:\n",
    "            bestAccs = epochAccs\n",
    "            BAE = e + 1\n",
    "            torch.save(save_dict,os.path.join(save_path, bae_name))\n",
    "        \n",
    "        if scheduler_rlrop: scheduler_rlrop.step(epochLoss[\"valid\"])\n",
    "        \n",
    "        if verbose:\n",
    "            print(\"Epoch: {} | Train Loss: {:.5f} | Valid Loss: {:.5f} |\\\n",
    " Train Accs: {:.5f} | Valid Accs: {:.5f} | Time: {:.2f} seconds\".format(e+1, \n",
    "                                                                        epochLoss[\"train\"], epochLoss[\"valid\"], \n",
    "                                                                        epochAccs[\"train\"], epochAccs[\"valid\"], \n",
    "                                                                        time()-e_st))\n",
    "\n",
    "    if verbose:                                           \n",
    "        breaker()\n",
    "        print(f\"Best Validation Loss at Epoch {BLE}\")\n",
    "        breaker()\n",
    "        print(f\"Best Validation Accs at Epoch {BAE}\")\n",
    "        breaker()\n",
    "        print(\"Time Taken [{} Epochs] : {:.2f} minutes\".format(len(Losses), (time()-start_time)/60))\n",
    "    \n",
    "    return Losses, Accuracies, LRs, bestLoss, bestAccs, BLE, BAE, ble_name, bae_name\n",
    "\n",
    "\n",
    "# def predict_batch(model=None, dataloader=None, path=None, device=None) -> np.ndarray:\n",
    "#     model.load_state_dict(torch.load(path, map_location=device)[\"model_state_dict\"])\n",
    "#     model.to(device)    \n",
    "#     model.eval()\n",
    "    \n",
    "#     y_pred = torch.zeros(1, 1).to(device)\n",
    "    \n",
    "#     for X in dataloader:\n",
    "#         X = X.to(device)\n",
    "#         with torch.no_grad():\n",
    "#             output = torch.argmax(torch.exp(model(X)), dim=1)\n",
    "#         y_pred = torch.cat((y_pred, output.view(-1, 1)), dim=0)\n",
    "    \n",
    "#     return y_pred[1:].detach().cpu().numpy()"
   ]
  },
  {
   "cell_type": "markdown",
   "id": "a8804d03",
   "metadata": {
    "papermill": {
     "duration": 0.003667,
     "end_time": "2022-11-05T17:35:45.467613",
     "exception": false,
     "start_time": "2022-11-05T17:35:45.463946",
     "status": "completed"
    },
    "tags": []
   },
   "source": [
    "### **Train**"
   ]
  },
  {
   "cell_type": "code",
   "execution_count": 8,
   "id": "99c7142e",
   "metadata": {
    "execution": {
     "iopub.execute_input": "2022-11-05T17:35:45.476330Z",
     "iopub.status.busy": "2022-11-05T17:35:45.476075Z",
     "iopub.status.idle": "2022-11-05T17:35:45.504783Z",
     "shell.execute_reply": "2022-11-05T17:35:45.503947Z"
    },
    "papermill": {
     "duration": 0.035437,
     "end_time": "2022-11-05T17:35:45.506880",
     "exception": false,
     "start_time": "2022-11-05T17:35:45.471443",
     "status": "completed"
    },
    "tags": []
   },
   "outputs": [],
   "source": [
    "df = pd.read_csv(\"../input/wic-dataframe/data.csv\")\n",
    "\n",
    "filenames = df.filenames.copy().values\n",
    "folder_names = df.folder_names.copy().values\n",
    "labels = df.classes.copy().values"
   ]
  },
  {
   "cell_type": "code",
   "execution_count": 9,
   "id": "f29c0dae",
   "metadata": {
    "execution": {
     "iopub.execute_input": "2022-11-05T17:35:45.515867Z",
     "iopub.status.busy": "2022-11-05T17:35:45.515604Z",
     "iopub.status.idle": "2022-11-05T23:11:32.920919Z",
     "shell.execute_reply": "2022-11-05T23:11:32.919984Z"
    },
    "papermill": {
     "duration": 20147.412224,
     "end_time": "2022-11-05T23:11:32.923013",
     "exception": false,
     "start_time": "2022-11-05T17:35:45.510789",
     "status": "completed"
    },
    "tags": []
   },
   "outputs": [
    {
     "name": "stderr",
     "output_type": "stream",
     "text": [
      "Downloading: \"https://github.com/rwightman/pytorch-image-models/releases/download/v0.1-weights/efficientnet_b4_ra2_320-7eb33cd5.pth\" to /root/.cache/torch/hub/checkpoints/efficientnet_b4_ra2_320-7eb33cd5.pth\n"
     ]
    },
    {
     "name": "stdout",
     "output_type": "stream",
     "text": [
      "\n",
      "**************************************************\n",
      "\n",
      "Training Fold 1...\n",
      "\n",
      "**************************************************\n",
      "\n",
      "Epoch: 1 | Train Loss: 2.23171 | Valid Loss: 1.00472 | Train Accs: 0.31833 | Valid Accs: 0.77108 | Time: 359.26 seconds\n",
      "Epoch: 2 | Train Loss: 0.51881 | Valid Loss: 0.25857 | Train Accs: 0.82526 | Valid Accs: 0.91376 | Time: 278.48 seconds\n",
      "Epoch: 3 | Train Loss: 0.35776 | Valid Loss: 0.22160 | Train Accs: 0.88138 | Valid Accs: 0.91982 | Time: 275.20 seconds\n",
      "Epoch: 4 | Train Loss: 0.30833 | Valid Loss: 0.22781 | Train Accs: 0.89851 | Valid Accs: 0.92006 | Time: 275.48 seconds\n",
      "Epoch: 5 | Train Loss: 0.28791 | Valid Loss: 0.20948 | Train Accs: 0.90379 | Valid Accs: 0.92369 | Time: 278.17 seconds\n",
      "Epoch: 6 | Train Loss: 0.23811 | Valid Loss: 0.20669 | Train Accs: 0.92493 | Valid Accs: 0.93072 | Time: 276.41 seconds\n",
      "Epoch: 7 | Train Loss: 0.20301 | Valid Loss: 0.28574 | Train Accs: 0.93130 | Valid Accs: 0.90770 | Time: 275.03 seconds\n",
      "Epoch: 8 | Train Loss: 0.17970 | Valid Loss: 0.23075 | Train Accs: 0.93987 | Valid Accs: 0.91788 | Time: 274.73 seconds\n",
      "Epoch: 9 | Train Loss: 0.15901 | Valid Loss: 0.30361 | Train Accs: 0.94643 | Valid Accs: 0.91449 | Time: 274.44 seconds\n",
      "Epoch: 10 | Train Loss: 0.13744 | Valid Loss: 0.28204 | Train Accs: 0.94934 | Valid Accs: 0.93435 | Time: 273.76 seconds\n",
      "Epoch: 11 | Train Loss: 0.11933 | Valid Loss: 0.25903 | Train Accs: 0.95918 | Valid Accs: 0.92587 | Time: 273.46 seconds\n",
      "\n",
      "Early Stopping at Epoch 12\n",
      "\n",
      "**************************************************\n",
      "\n",
      "Best Validation Loss at Epoch 6\n",
      "\n",
      "**************************************************\n",
      "\n",
      "Best Validation Accs at Epoch 10\n",
      "\n",
      "**************************************************\n",
      "\n",
      "Time Taken [12 Epochs] : 56.47 minutes\n",
      "\n",
      "**************************************************\n",
      "\n"
     ]
    },
    {
     "data": {
      "image/png": "[encoded data removed]",
      "text/plain": [
       "<Figure size 432x288 with 1 Axes>"
      ]
     },
     "metadata": {
      "needs_background": "light"
     },
     "output_type": "display_data"
    },
    {
     "name": "stdout",
     "output_type": "stream",
     "text": [
      "\n",
      "**************************************************\n",
      "\n"
     ]
    },
    {
     "data": {
      "image/png": "[encoded data removed]",
      "text/plain": [
       "<Figure size 432x288 with 1 Axes>"
      ]
     },
     "metadata": {
      "needs_background": "light"
     },
     "output_type": "display_data"
    },
    {
     "name": "stdout",
     "output_type": "stream",
     "text": [
      "\n",
      "**************************************************\n",
      "\n"
     ]
    },
    {
     "data": {
      "image/png": "[encoded data removed]",
      "text/plain": [
       "<Figure size 576x432 with 1 Axes>"
      ]
     },
     "metadata": {
      "needs_background": "light"
     },
     "output_type": "display_data"
    },
    {
     "name": "stdout",
     "output_type": "stream",
     "text": [
      "\n",
      "**************************************************\n",
      "\n",
      "\n",
      "**************************************************\n",
      "\n",
      "Training Fold 2...\n",
      "\n",
      "**************************************************\n",
      "\n",
      "Epoch: 1 | Train Loss: 2.23485 | Valid Loss: 1.02684 | Train Accs: 0.32125 | Valid Accs: 0.77422 | Time: 276.04 seconds\n",
      "Epoch: 2 | Train Loss: 0.52063 | Valid Loss: 0.28786 | Train Accs: 0.82762 | Valid Accs: 0.90213 | Time: 277.77 seconds\n",
      "Epoch: 3 | Train Loss: 0.35519 | Valid Loss: 0.31838 | Train Accs: 0.88247 | Valid Accs: 0.89559 | Time: 277.94 seconds\n",
      "Epoch: 4 | Train Loss: 0.31697 | Valid Loss: 0.30945 | Train Accs: 0.89231 | Valid Accs: 0.89680 | Time: 275.24 seconds\n",
      "Epoch: 5 | Train Loss: 0.27113 | Valid Loss: 0.32193 | Train Accs: 0.90944 | Valid Accs: 0.89922 | Time: 276.37 seconds\n",
      "Epoch: 6 | Train Loss: 0.26457 | Valid Loss: 0.26555 | Train Accs: 0.91727 | Valid Accs: 0.91328 | Time: 280.26 seconds\n",
      "Epoch: 7 | Train Loss: 0.21007 | Valid Loss: 0.24347 | Train Accs: 0.93258 | Valid Accs: 0.93072 | Time: 280.16 seconds\n",
      "Epoch: 8 | Train Loss: 0.16865 | Valid Loss: 0.30014 | Train Accs: 0.94005 | Valid Accs: 0.90407 | Time: 278.72 seconds\n",
      "Epoch: 9 | Train Loss: 0.18478 | Valid Loss: 0.32368 | Train Accs: 0.93841 | Valid Accs: 0.91279 | Time: 279.30 seconds\n",
      "Epoch: 10 | Train Loss: 0.13062 | Valid Loss: 0.30582 | Train Accs: 0.95426 | Valid Accs: 0.91788 | Time: 278.50 seconds\n",
      "Epoch: 11 | Train Loss: 0.10770 | Valid Loss: 0.36457 | Train Accs: 0.96374 | Valid Accs: 0.90843 | Time: 277.26 seconds\n",
      "Epoch: 12 | Train Loss: 0.09524 | Valid Loss: 0.35355 | Train Accs: 0.96629 | Valid Accs: 0.90964 | Time: 278.69 seconds\n",
      "\n",
      "Early Stopping at Epoch 13\n",
      "\n",
      "**************************************************\n",
      "\n",
      "Best Validation Loss at Epoch 7\n",
      "\n",
      "**************************************************\n",
      "\n",
      "Best Validation Accs at Epoch 7\n",
      "\n",
      "**************************************************\n",
      "\n",
      "Time Taken [13 Epochs] : 60.25 minutes\n",
      "\n",
      "**************************************************\n",
      "\n"
     ]
    },
    {
     "data": {
      "image/png": "[encoded data removed]",
      "text/plain": [
       "<Figure size 432x288 with 1 Axes>"
      ]
     },
     "metadata": {
      "needs_background": "light"
     },
     "output_type": "display_data"
    },
    {
     "name": "stdout",
     "output_type": "stream",
     "text": [
      "\n",
      "**************************************************\n",
      "\n"
     ]
    },
    {
     "data": {
      "image/png": "[encoded data removed]",
      "text/plain": [
       "<Figure size 432x288 with 1 Axes>"
      ]
     },
     "metadata": {
      "needs_background": "light"
     },
     "output_type": "display_data"
    },
    {
     "name": "stdout",
     "output_type": "stream",
     "text": [
      "\n",
      "**************************************************\n",
      "\n"
     ]
    },
    {
     "data": {
      "image/png": "[encoded data removed]",
      "text/plain": [
       "<Figure size 576x432 with 1 Axes>"
      ]
     },
     "metadata": {
      "needs_background": "light"
     },
     "output_type": "display_data"
    },
    {
     "name": "stdout",
     "output_type": "stream",
     "text": [
      "\n",
      "**************************************************\n",
      "\n",
      "\n",
      "**************************************************\n",
      "\n",
      "Training Fold 3...\n",
      "\n",
      "**************************************************\n",
      "\n",
      "Epoch: 1 | Train Loss: 2.23899 | Valid Loss: 1.04153 | Train Accs: 0.31724 | Valid Accs: 0.74661 | Time: 281.18 seconds\n",
      "Epoch: 2 | Train Loss: 0.51632 | Valid Loss: 0.27251 | Train Accs: 0.83200 | Valid Accs: 0.90722 | Time: 279.91 seconds\n",
      "Epoch: 3 | Train Loss: 0.36020 | Valid Loss: 0.27166 | Train Accs: 0.87956 | Valid Accs: 0.91085 | Time: 280.34 seconds\n",
      "Epoch: 4 | Train Loss: 0.30969 | Valid Loss: 0.26288 | Train Accs: 0.89741 | Valid Accs: 0.90964 | Time: 280.57 seconds\n",
      "Epoch: 5 | Train Loss: 0.27261 | Valid Loss: 0.32352 | Train Accs: 0.90999 | Valid Accs: 0.90189 | Time: 279.50 seconds\n",
      "Epoch: 6 | Train Loss: 0.26683 | Valid Loss: 0.29102 | Train Accs: 0.91327 | Valid Accs: 0.91400 | Time: 280.00 seconds\n",
      "Epoch: 7 | Train Loss: 0.21545 | Valid Loss: 0.26720 | Train Accs: 0.92602 | Valid Accs: 0.90891 | Time: 277.77 seconds\n",
      "Epoch: 8 | Train Loss: 0.19615 | Valid Loss: 0.25773 | Train Accs: 0.93896 | Valid Accs: 0.92054 | Time: 280.18 seconds\n",
      "Epoch: 9 | Train Loss: 0.16087 | Valid Loss: 0.25730 | Train Accs: 0.94552 | Valid Accs: 0.92781 | Time: 280.87 seconds\n",
      "Epoch: 10 | Train Loss: 0.12862 | Valid Loss: 0.26280 | Train Accs: 0.95700 | Valid Accs: 0.92636 | Time: 277.63 seconds\n",
      "Epoch: 11 | Train Loss: 0.11274 | Valid Loss: 0.29733 | Train Accs: 0.96319 | Valid Accs: 0.93217 | Time: 278.48 seconds\n",
      "Epoch: 12 | Train Loss: 0.10860 | Valid Loss: 0.28529 | Train Accs: 0.96392 | Valid Accs: 0.93217 | Time: 278.71 seconds\n",
      "Epoch: 13 | Train Loss: 0.08067 | Valid Loss: 0.25922 | Train Accs: 0.97249 | Valid Accs: 0.92999 | Time: 278.65 seconds\n",
      "Epoch: 14 | Train Loss: 0.07142 | Valid Loss: 0.26990 | Train Accs: 0.97631 | Valid Accs: 0.93144 | Time: 278.01 seconds\n",
      "Epoch: 15 | Train Loss: 0.05563 | Valid Loss: 0.25114 | Train Accs: 0.98105 | Valid Accs: 0.94089 | Time: 278.77 seconds\n",
      "Epoch: 16 | Train Loss: 0.04132 | Valid Loss: 0.25233 | Train Accs: 0.98506 | Valid Accs: 0.93290 | Time: 278.54 seconds\n",
      "Epoch: 17 | Train Loss: 0.03251 | Valid Loss: 0.29346 | Train Accs: 0.98907 | Valid Accs: 0.93290 | Time: 279.67 seconds\n",
      "Epoch: 18 | Train Loss: 0.02769 | Valid Loss: 0.27992 | Train Accs: 0.99125 | Valid Accs: 0.93580 | Time: 283.73 seconds\n",
      "Epoch: 19 | Train Loss: 0.01888 | Valid Loss: 0.28366 | Train Accs: 0.99344 | Valid Accs: 0.94598 | Time: 284.39 seconds\n",
      "Epoch: 20 | Train Loss: 0.01958 | Valid Loss: 0.27371 | Train Accs: 0.99435 | Valid Accs: 0.94162 | Time: 284.57 seconds\n",
      "\n",
      "Early Stopping at Epoch 21\n",
      "\n",
      "**************************************************\n",
      "\n",
      "Best Validation Loss at Epoch 15\n",
      "\n",
      "**************************************************\n",
      "\n",
      "Best Validation Accs at Epoch 19\n",
      "\n",
      "**************************************************\n",
      "\n",
      "Time Taken [21 Epochs] : 98.09 minutes\n",
      "\n",
      "**************************************************\n",
      "\n"
     ]
    },
    {
     "data": {
      "image/png": "[encoded data removed]",
      "text/plain": [
       "<Figure size 432x288 with 1 Axes>"
      ]
     },
     "metadata": {
      "needs_background": "light"
     },
     "output_type": "display_data"
    },
    {
     "name": "stdout",
     "output_type": "stream",
     "text": [
      "\n",
      "**************************************************\n",
      "\n"
     ]
    },
    {
     "data": {
      "image/png": "[encoded data removed]",
      "text/plain": [
       "<Figure size 432x288 with 1 Axes>"
      ]
     },
     "metadata": {
      "needs_background": "light"
     },
     "output_type": "display_data"
    },
    {
     "name": "stdout",
     "output_type": "stream",
     "text": [
      "\n",
      "**************************************************\n",
      "\n"
     ]
    },
    {
     "data": {
      "image/png": "[encoded data removed]",
      "text/plain": [
       "<Figure size 576x432 with 1 Axes>"
      ]
     },
     "metadata": {
      "needs_background": "light"
     },
     "output_type": "display_data"
    },
    {
     "name": "stdout",
     "output_type": "stream",
     "text": [
      "\n",
      "**************************************************\n",
      "\n",
      "\n",
      "**************************************************\n",
      "\n",
      "Training Fold 4...\n",
      "\n",
      "**************************************************\n",
      "\n",
      "Epoch: 1 | Train Loss: 2.23635 | Valid Loss: 1.05722 | Train Accs: 0.31523 | Valid Accs: 0.75291 | Time: 285.04 seconds\n",
      "Epoch: 2 | Train Loss: 0.52140 | Valid Loss: 0.30522 | Train Accs: 0.82872 | Valid Accs: 0.89438 | Time: 285.51 seconds\n",
      "Epoch: 3 | Train Loss: 0.35060 | Valid Loss: 0.29327 | Train Accs: 0.88539 | Valid Accs: 0.90625 | Time: 279.76 seconds\n",
      "Epoch: 4 | Train Loss: 0.30903 | Valid Loss: 0.30353 | Train Accs: 0.89595 | Valid Accs: 0.90116 | Time: 278.01 seconds\n",
      "Epoch: 5 | Train Loss: 0.27837 | Valid Loss: 0.33235 | Train Accs: 0.90944 | Valid Accs: 0.89268 | Time: 277.53 seconds\n",
      "Epoch: 6 | Train Loss: 0.24754 | Valid Loss: 0.33606 | Train Accs: 0.91399 | Valid Accs: 0.90383 | Time: 278.28 seconds\n",
      "Epoch: 7 | Train Loss: 0.19556 | Valid Loss: 0.28894 | Train Accs: 0.93276 | Valid Accs: 0.91812 | Time: 279.59 seconds\n",
      "Epoch: 8 | Train Loss: 0.17123 | Valid Loss: 0.30805 | Train Accs: 0.94206 | Valid Accs: 0.91400 | Time: 278.98 seconds\n",
      "Epoch: 9 | Train Loss: 0.16951 | Valid Loss: 0.33873 | Train Accs: 0.94260 | Valid Accs: 0.90577 | Time: 278.61 seconds\n",
      "Epoch: 10 | Train Loss: 0.13452 | Valid Loss: 0.32959 | Train Accs: 0.95499 | Valid Accs: 0.91957 | Time: 279.21 seconds\n",
      "Epoch: 11 | Train Loss: 0.11855 | Valid Loss: 0.33177 | Train Accs: 0.95937 | Valid Accs: 0.91715 | Time: 276.93 seconds\n",
      "Epoch: 12 | Train Loss: 0.09719 | Valid Loss: 0.39194 | Train Accs: 0.96775 | Valid Accs: 0.91836 | Time: 278.50 seconds\n",
      "\n",
      "Early Stopping at Epoch 13\n",
      "\n",
      "**************************************************\n",
      "\n",
      "Best Validation Loss at Epoch 7\n",
      "\n",
      "**************************************************\n",
      "\n",
      "Best Validation Accs at Epoch 10\n",
      "\n",
      "**************************************************\n",
      "\n",
      "Time Taken [13 Epochs] : 60.57 minutes\n",
      "\n",
      "**************************************************\n",
      "\n"
     ]
    },
    {
     "data": {
      "image/png": "[encoded data removed]",
      "text/plain": [
       "<Figure size 432x288 with 1 Axes>"
      ]
     },
     "metadata": {
      "needs_background": "light"
     },
     "output_type": "display_data"
    },
    {
     "name": "stdout",
     "output_type": "stream",
     "text": [
      "\n",
      "**************************************************\n",
      "\n"
     ]
    },
    {
     "data": {
      "image/png": "[encoded data removed]",
      "text/plain": [
       "<Figure size 432x288 with 1 Axes>"
      ]
     },
     "metadata": {
      "needs_background": "light"
     },
     "output_type": "display_data"
    },
    {
     "name": "stdout",
     "output_type": "stream",
     "text": [
      "\n",
      "**************************************************\n",
      "\n"
     ]
    },
    {
     "data": {
      "image/png": "[encoded data removed]",
      "text/plain": [
       "<Figure size 576x432 with 1 Axes>"
      ]
     },
     "metadata": {
      "needs_background": "light"
     },
     "output_type": "display_data"
    },
    {
     "name": "stdout",
     "output_type": "stream",
     "text": [
      "\n",
      "**************************************************\n",
      "\n",
      "\n",
      "**************************************************\n",
      "\n",
      "Training Fold 5...\n",
      "\n",
      "**************************************************\n",
      "\n",
      "Epoch: 1 | Train Loss: 2.23463 | Valid Loss: 1.03881 | Train Accs: 0.31250 | Valid Accs: 0.77495 | Time: 279.58 seconds\n",
      "Epoch: 2 | Train Loss: 0.51363 | Valid Loss: 0.29088 | Train Accs: 0.83072 | Valid Accs: 0.90431 | Time: 278.49 seconds\n",
      "Epoch: 3 | Train Loss: 0.34316 | Valid Loss: 0.28769 | Train Accs: 0.88921 | Valid Accs: 0.91376 | Time: 279.03 seconds\n",
      "Epoch: 4 | Train Loss: 0.29223 | Valid Loss: 0.30808 | Train Accs: 0.89960 | Valid Accs: 0.90213 | Time: 276.40 seconds\n",
      "Epoch: 5 | Train Loss: 0.28810 | Valid Loss: 0.33715 | Train Accs: 0.90015 | Valid Accs: 0.89632 | Time: 276.54 seconds\n",
      "Epoch: 6 | Train Loss: 0.25640 | Valid Loss: 0.29410 | Train Accs: 0.91163 | Valid Accs: 0.90601 | Time: 275.80 seconds\n",
      "Epoch: 7 | Train Loss: 0.20416 | Valid Loss: 0.28622 | Train Accs: 0.93203 | Valid Accs: 0.90795 | Time: 277.25 seconds\n",
      "Epoch: 8 | Train Loss: 0.17688 | Valid Loss: 0.33197 | Train Accs: 0.94388 | Valid Accs: 0.90359 | Time: 276.94 seconds\n",
      "Epoch: 9 | Train Loss: 0.15324 | Valid Loss: 0.31247 | Train Accs: 0.94679 | Valid Accs: 0.91594 | Time: 279.10 seconds\n",
      "Epoch: 10 | Train Loss: 0.13756 | Valid Loss: 0.31745 | Train Accs: 0.95627 | Valid Accs: 0.92030 | Time: 279.50 seconds\n",
      "Epoch: 11 | Train Loss: 0.10999 | Valid Loss: 0.37307 | Train Accs: 0.96192 | Valid Accs: 0.91885 | Time: 276.66 seconds\n",
      "Epoch: 12 | Train Loss: 0.08847 | Valid Loss: 0.38613 | Train Accs: 0.97030 | Valid Accs: 0.91885 | Time: 277.21 seconds\n",
      "\n",
      "Early Stopping at Epoch 13\n",
      "\n",
      "**************************************************\n",
      "\n",
      "Best Validation Loss at Epoch 7\n",
      "\n",
      "**************************************************\n",
      "\n",
      "Best Validation Accs at Epoch 10\n",
      "\n",
      "**************************************************\n",
      "\n",
      "Time Taken [13 Epochs] : 60.17 minutes\n",
      "\n",
      "**************************************************\n",
      "\n"
     ]
    },
    {
     "data": {
      "image/png": "[encoded data removed]",
      "text/plain": [
       "<Figure size 432x288 with 1 Axes>"
      ]
     },
     "metadata": {
      "needs_background": "light"
     },
     "output_type": "display_data"
    },
    {
     "name": "stdout",
     "output_type": "stream",
     "text": [
      "\n",
      "**************************************************\n",
      "\n"
     ]
    },
    {
     "data": {
      "image/png": "[encoded data removed]",
      "text/plain": [
       "<Figure size 432x288 with 1 Axes>"
      ]
     },
     "metadata": {
      "needs_background": "light"
     },
     "output_type": "display_data"
    },
    {
     "name": "stdout",
     "output_type": "stream",
     "text": [
      "\n",
      "**************************************************\n",
      "\n"
     ]
    },
    {
     "data": {
      "image/png": "[encoded data removed]",
      "text/plain": [
       "<Figure size 576x432 with 1 Axes>"
      ]
     },
     "metadata": {
      "needs_background": "light"
     },
     "output_type": "display_data"
    },
    {
     "name": "stdout",
     "output_type": "stream",
     "text": [
      "\n",
      "**************************************************\n",
      "\n"
     ]
    }
   ],
   "source": [
    "fold: int = 1\n",
    "BLs: list = []\n",
    "BAs: list = []\n",
    "    \n",
    "cfg.batch_size = 16\n",
    "    \n",
    "for tr_idx, va_idx in StratifiedKFold(n_splits=cfg.n_splits, random_state=cfg.seed, shuffle=True).split(filenames, labels):\n",
    "\n",
    "    tr_filenames, va_filenames       = filenames[tr_idx], filenames[va_idx] \n",
    "    tr_folder_names, va_folder_names = folder_names[tr_idx], folder_names[va_idx] \n",
    "    tr_labels, va_labels             = labels[tr_idx], labels[va_idx]\n",
    "\n",
    "    tr_data_setup = DS(\n",
    "        base_path=\"../input/weather-dataset/dataset\", \n",
    "        filenames=tr_filenames, \n",
    "        folder_names=tr_folder_names,\n",
    "        labels=tr_labels.reshape(-1, 1),\n",
    "        size=cfg.size,\n",
    "        transform=cfg.train_transform\n",
    "    )\n",
    "    \n",
    "    va_data_setup = DS(\n",
    "        base_path=\"../input/weather-dataset/dataset\", \n",
    "        filenames=va_filenames, \n",
    "        folder_names=va_folder_names,\n",
    "        labels=va_labels.reshape(-1, 1),\n",
    "        size=cfg.size,\n",
    "        transform=cfg.valid_transform\n",
    "    )\n",
    "\n",
    "    dataloaders = {\n",
    "        \"train\" : DL(tr_data_setup, batch_size=cfg.batch_size, shuffle=True, generator=torch.manual_seed(cfg.seed)),\n",
    "        \"valid\" : DL(va_data_setup, batch_size=cfg.batch_size, shuffle=False),\n",
    "    }\n",
    "\n",
    "    cfg.steps_per_epoch=len(dataloaders[\"train\"])\n",
    "    \n",
    "    torch.manual_seed(cfg.seed)\n",
    "    model = Model().to(cfg.device)\n",
    "\n",
    "    optimizer = optim.Adam([p for p in model.parameters() if p.requires_grad], lr=cfg.lr, weight_decay=cfg.wd)\n",
    "    # optimizer = optim.AdamW([p for p in model.parameters() if p.requires_grad], lr=cfg.lr, weight_decay=cfg.wd)\n",
    "    # optimizer = optim.SGD([p for p in model.parameters() if p.requires_grad], lr=cfg.lr, weight_decay=cfg.wd, momentum=0.9)\n",
    "\n",
    "    scheduler_oclr = optim.lr_scheduler.OneCycleLR(\n",
    "        optimizer=optimizer, \n",
    "        max_lr=cfg.max_lr, \n",
    "        epochs=cfg.epochs, \n",
    "        steps_per_epoch=cfg.steps_per_epoch,\n",
    "        pct_start=cfg.pct_start, \n",
    "        div_factor=cfg.div_factor, \n",
    "        final_div_factor=cfg.final_div_factor\n",
    "    )\n",
    "\n",
    "    # scheduler_rlrop = optim.lr_scheduler.ReduceLROnPlateau(\n",
    "    #     optimizer=optimizer,\n",
    "    #     patience=cfg.patience,\n",
    "    #     eps=cfg.eps,\n",
    "    #     verbose=True\n",
    "    # )\n",
    "\n",
    "    # scheduler_oclr = None\n",
    "    scheduler_rlrop = None\n",
    "\n",
    "\n",
    "    L, A, LR, BL, BA, _, _, _, _ = fit(\n",
    "        model=model, \n",
    "        optimizer=optimizer, \n",
    "        scheduler_oclr=scheduler_oclr,\n",
    "        scheduler_rlrop=scheduler_rlrop,\n",
    "        epochs=cfg.epochs, \n",
    "        early_stopping_patience=cfg.early_stopping, \n",
    "        dataloaders=dataloaders, \n",
    "        device=cfg.device,\n",
    "        save_path=cfg.save_path,\n",
    "        fold=fold,\n",
    "        verbose=True\n",
    "    )\n",
    "\n",
    "\n",
    "    breaker()\n",
    "    show_loss_graphs(L)\n",
    "    breaker()\n",
    "    show_accuracy_graphs(A)\n",
    "    breaker()\n",
    "    if scheduler_oclr:\n",
    "        show_lr_graph(LR)\n",
    "        breaker()\n",
    "    \n",
    "    BLs.append(BL)\n",
    "    BAs.append(BA)\n",
    "    \n",
    "    fold += 1"
   ]
  },
  {
   "cell_type": "markdown",
   "id": "1c71a616",
   "metadata": {
    "papermill": {
     "duration": 0.011463,
     "end_time": "2022-11-05T23:11:32.946761",
     "exception": false,
     "start_time": "2022-11-05T23:11:32.935298",
     "status": "completed"
    },
    "tags": []
   },
   "source": [
    "### **Best Model**"
   ]
  },
  {
   "cell_type": "code",
   "execution_count": 10,
   "id": "c7ae3a26",
   "metadata": {
    "execution": {
     "iopub.execute_input": "2022-11-05T23:11:32.972298Z",
     "iopub.status.busy": "2022-11-05T23:11:32.971390Z",
     "iopub.status.idle": "2022-11-05T23:11:32.979576Z",
     "shell.execute_reply": "2022-11-05T23:11:32.978678Z"
    },
    "papermill": {
     "duration": 0.023192,
     "end_time": "2022-11-05T23:11:32.981611",
     "exception": false,
     "start_time": "2022-11-05T23:11:32.958419",
     "status": "completed"
    },
    "tags": []
   },
   "outputs": [
    {
     "name": "stdout",
     "output_type": "stream",
     "text": [
      "\n",
      "**************************************************\n",
      "\n",
      "Best Loss Model Fold     : 1\n",
      "Best Accuracy Model Fold : 3\n",
      "\n",
      "**************************************************\n",
      "\n"
     ]
    }
   ],
   "source": [
    "BL = np.inf\n",
    "for i in range(len(BLs)):\n",
    "    if BLs[i][\"valid\"] < BL:\n",
    "        BL = BLs[i][\"valid\"]\n",
    "        best_loss_index = i\n",
    "\n",
    "        \n",
    "BA = 0.0\n",
    "for i in range(len(BAs)):\n",
    "    if BAs[i][\"valid\"] > BA:\n",
    "        BA = BAs[i][\"valid\"]\n",
    "        best_accs_index = i\n",
    "\n",
    "breaker()\n",
    "print(f\"Best Loss Model Fold     : {best_loss_index + 1}\")\n",
    "print(f\"Best Accuracy Model Fold : {best_accs_index + 1}\")\n",
    "breaker()"
   ]
  }
 ],
 "metadata": {
  "kernelspec": {
   "display_name": "Python 3",
   "language": "python",
   "name": "python3"
  },
  "language_info": {
   "codemirror_mode": {
    "name": "ipython",
    "version": 3
   },
   "file_extension": ".py",
   "mimetype": "text/x-python",
   "name": "python",
   "nbconvert_exporter": "python",
   "pygments_lexer": "ipython3",
   "version": "3.7.12"
  },
  "papermill": {
   "default_parameters": {},
   "duration": 20177.084838,
   "end_time": "2022-11-05T23:11:36.404689",
   "environment_variables": {},
   "exception": null,
   "input_path": "__notebook__.ipynb",
   "output_path": "__notebook__.ipynb",
   "parameters": {},
   "start_time": "2022-11-05T17:35:19.319851",
   "version": "2.3.4"
  }
 },
 "nbformat": 4,
 "nbformat_minor": 5
}
