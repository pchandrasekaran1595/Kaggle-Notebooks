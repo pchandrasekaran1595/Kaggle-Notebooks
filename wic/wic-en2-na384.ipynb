{
 "cells": [
  {
   "cell_type": "markdown",
   "id": "a76d2dff",
   "metadata": {
    "_cell_guid": "b1076dfc-b9ad-4769-8c92-a6c4dae69d19",
    "_uuid": "8f2839f25d086af736a60e9eeb907d3b93b6e0e5",
    "papermill": {
     "duration": 0.00664,
     "end_time": "2022-07-11T16:22:25.554808",
     "exception": false,
     "start_time": "2022-07-11T16:22:25.548168",
     "status": "completed"
    },
    "tags": []
   },
   "source": [
    "### **Setup**"
   ]
  },
  {
   "cell_type": "code",
   "execution_count": 1,
   "id": "a234137d",
   "metadata": {
    "execution": {
     "iopub.execute_input": "2022-07-11T16:22:25.565089Z",
     "iopub.status.busy": "2022-07-11T16:22:25.564680Z",
     "iopub.status.idle": "2022-07-11T16:22:36.220619Z",
     "shell.execute_reply": "2022-07-11T16:22:36.219538Z"
    },
    "papermill": {
     "duration": 10.66347,
     "end_time": "2022-07-11T16:22:36.222850",
     "exception": false,
     "start_time": "2022-07-11T16:22:25.559380",
     "status": "completed"
    },
    "tags": []
   },
   "outputs": [
    {
     "name": "stderr",
     "output_type": "stream",
     "text": [
      "WARNING: Running pip as the 'root' user can result in broken permissions and conflicting behaviour with the system package manager. It is recommended to use a virtual environment instead: https://pip.pypa.io/warnings/venv\n"
     ]
    }
   ],
   "source": [
    "%%bash\n",
    "pip install timm -q"
   ]
  },
  {
   "cell_type": "markdown",
   "id": "327e16b7",
   "metadata": {
    "papermill": {
     "duration": 0.00433,
     "end_time": "2022-07-11T16:22:36.232061",
     "exception": false,
     "start_time": "2022-07-11T16:22:36.227731",
     "status": "completed"
    },
    "tags": []
   },
   "source": [
    "### **Library Imports**"
   ]
  },
  {
   "cell_type": "code",
   "execution_count": 2,
   "id": "10076acb",
   "metadata": {
    "execution": {
     "iopub.execute_input": "2022-07-11T16:22:36.242229Z",
     "iopub.status.busy": "2022-07-11T16:22:36.241934Z",
     "iopub.status.idle": "2022-07-11T16:22:43.817320Z",
     "shell.execute_reply": "2022-07-11T16:22:43.816150Z"
    },
    "papermill": {
     "duration": 7.583306,
     "end_time": "2022-07-11T16:22:43.819736",
     "exception": false,
     "start_time": "2022-07-11T16:22:36.236430",
     "status": "completed"
    },
    "tags": []
   },
   "outputs": [],
   "source": [
    "import os\n",
    "import re\n",
    "import cv2\n",
    "import timm\n",
    "import torch\n",
    "import numpy as np\n",
    "import pandas as pd\n",
    "import matplotlib.pyplot as plt\n",
    "\n",
    "from time import time\n",
    "from torch import nn, optim\n",
    "from torch.utils.data import Dataset\n",
    "from torch.utils.data import DataLoader as DL\n",
    "from torchvision import models, transforms\n",
    "\n",
    "from sklearn.model_selection import StratifiedKFold\n",
    "from sklearn.preprocessing import LabelEncoder\n",
    "from sklearn.metrics import accuracy_score"
   ]
  },
  {
   "cell_type": "markdown",
   "id": "dc671ac7",
   "metadata": {
    "papermill": {
     "duration": 0.004345,
     "end_time": "2022-07-11T16:22:43.829330",
     "exception": false,
     "start_time": "2022-07-11T16:22:43.824985",
     "status": "completed"
    },
    "tags": []
   },
   "source": [
    "### **Utilities and Helpers**"
   ]
  },
  {
   "cell_type": "code",
   "execution_count": 3,
   "id": "c570b05f",
   "metadata": {
    "execution": {
     "iopub.execute_input": "2022-07-11T16:22:43.840430Z",
     "iopub.status.busy": "2022-07-11T16:22:43.839207Z",
     "iopub.status.idle": "2022-07-11T16:22:43.853407Z",
     "shell.execute_reply": "2022-07-11T16:22:43.852501Z"
    },
    "papermill": {
     "duration": 0.021524,
     "end_time": "2022-07-11T16:22:43.855225",
     "exception": false,
     "start_time": "2022-07-11T16:22:43.833701",
     "status": "completed"
    },
    "tags": []
   },
   "outputs": [],
   "source": [
    "SEED = 42\n",
    "SIZE = 384\n",
    "le = LabelEncoder()\n",
    "\n",
    "\n",
    "def breaker(num: int=50, char: str=\"*\") -> None:\n",
    "    print(\"\\n\" + num*char + \"\\n\")\n",
    "\n",
    "    \n",
    "def get_image(path: str, size: int=224) -> np.ndarray:\n",
    "    image = cv2.imread(path, cv2.IMREAD_COLOR)\n",
    "    image = cv2.cvtColor(src=image, code=cv2.COLOR_BGR2RGB)\n",
    "    return cv2.resize(src=image, dsize=(size, size), interpolation=cv2.INTER_AREA)\n",
    "\n",
    "    \n",
    "def show_loss_graphs(L: list) -> None:\n",
    "    TL, VL = [], []\n",
    "    for i in range(len(L)):\n",
    "        TL.append(L[i][\"train\"])\n",
    "        VL.append(L[i][\"valid\"])\n",
    "    x_Axis = np.arange(1, len(TL) + 1)\n",
    "    plt.figure()\n",
    "    plt.plot(x_Axis, TL, \"r\", label=\"Train\")\n",
    "    plt.plot(x_Axis, VL, \"b\", label=\"Valid\")\n",
    "    plt.legend()\n",
    "    plt.grid()\n",
    "    plt.title(\"Loss Graph\")\n",
    "    plt.show()\n",
    "\n",
    "    \n",
    "def show_accuracy_graphs(A: list) -> None:\n",
    "    TA, VA = [], []\n",
    "    for i in range(len(A)):\n",
    "        TA.append(A[i][\"train\"])\n",
    "        VA.append(A[i][\"valid\"])\n",
    "    x_Axis = np.arange(1, len(TA) + 1)\n",
    "    plt.figure()\n",
    "    plt.plot(x_Axis, TA, \"r\", label=\"Train\")\n",
    "    plt.plot(x_Axis, VA, \"b\", label=\"Valid\")\n",
    "    plt.legend()\n",
    "    plt.grid()\n",
    "    plt.title(\"Accuracy Graph\")\n",
    "    plt.show()\n",
    "    \n",
    "\n",
    "def show_lr_graph(LR: list) -> None:\n",
    "    x_Axis = [i+1 for i in range(len(LR))]\n",
    "    plt.figure(figsize=(8, 6))\n",
    "    plt.plot(x_Axis, LR, \"rx\")\n",
    "    plt.grid()\n",
    "    plt.show()"
   ]
  },
  {
   "cell_type": "markdown",
   "id": "0524367a",
   "metadata": {
    "papermill": {
     "duration": 0.004351,
     "end_time": "2022-07-11T16:22:43.863974",
     "exception": false,
     "start_time": "2022-07-11T16:22:43.859623",
     "status": "completed"
    },
    "tags": []
   },
   "source": [
    "### **Configuration**"
   ]
  },
  {
   "cell_type": "code",
   "execution_count": 4,
   "id": "12d36be2",
   "metadata": {
    "execution": {
     "iopub.execute_input": "2022-07-11T16:22:43.873938Z",
     "iopub.status.busy": "2022-07-11T16:22:43.873668Z",
     "iopub.status.idle": "2022-07-11T16:22:43.941798Z",
     "shell.execute_reply": "2022-07-11T16:22:43.940961Z"
    },
    "papermill": {
     "duration": 0.075256,
     "end_time": "2022-07-11T16:22:43.943729",
     "exception": false,
     "start_time": "2022-07-11T16:22:43.868473",
     "status": "completed"
    },
    "tags": []
   },
   "outputs": [],
   "source": [
    "class CFG(object):\n",
    "    def __init__(self, \n",
    "                 seed: int = 42,\n",
    "                 size: int = 224,\n",
    "                 n_splits: int = 5,\n",
    "                 batch_size: int = 16,\n",
    "                 epochs: int = 25,\n",
    "                 early_stopping: int = 5,\n",
    "                 lr: float = 1e-4,\n",
    "                 wd: float = 0.0,\n",
    "                 max_lr: float = 1e-3,\n",
    "                 pct_start: float = 0.2,\n",
    "                 steps_per_epoch: int = 100,\n",
    "                 div_factor: int = 1e3, \n",
    "                 final_div_factor: float = 1e3,\n",
    "                 ):\n",
    "        self.seed = seed\n",
    "        self.size = size\n",
    "        self.n_splits = n_splits\n",
    "        self.batch_size = batch_size\n",
    "        self.epochs = epochs\n",
    "        self.early_stopping = early_stopping\n",
    "        self.lr = lr\n",
    "        self.wd = wd\n",
    "        self.max_lr = max_lr\n",
    "        self.pct_start = pct_start\n",
    "        self.steps_per_epoch = steps_per_epoch\n",
    "        self.div_factor = div_factor\n",
    "        self.final_div_factor = final_div_factor\n",
    "        self.device = torch.device(\"cuda\" if torch.cuda.is_available() else \"cpu\")\n",
    "        self.transform = transforms.Compose([transforms.ToTensor(),\n",
    "                                transforms.Normalize([0.51684, 0.52503, 0.50567],\n",
    "                                                     [0.19350, 0.18743, 0.19404]),\n",
    "                                ])\n",
    "        self.save_path = \"saves\"\n",
    "        if not os.path.exists(self.save_path): os.makedirs(self.save_path)\n",
    "    \n",
    "cfg = CFG(seed=SEED, size=SIZE)"
   ]
  },
  {
   "cell_type": "markdown",
   "id": "622cf4af",
   "metadata": {
    "papermill": {
     "duration": 0.004221,
     "end_time": "2022-07-11T16:22:43.952500",
     "exception": false,
     "start_time": "2022-07-11T16:22:43.948279",
     "status": "completed"
    },
    "tags": []
   },
   "source": [
    "### **Dataset Template**"
   ]
  },
  {
   "cell_type": "code",
   "execution_count": 5,
   "id": "400a1c4e",
   "metadata": {
    "execution": {
     "iopub.execute_input": "2022-07-11T16:22:43.963144Z",
     "iopub.status.busy": "2022-07-11T16:22:43.962118Z",
     "iopub.status.idle": "2022-07-11T16:22:43.970094Z",
     "shell.execute_reply": "2022-07-11T16:22:43.969275Z"
    },
    "papermill": {
     "duration": 0.015084,
     "end_time": "2022-07-11T16:22:43.971936",
     "exception": false,
     "start_time": "2022-07-11T16:22:43.956852",
     "status": "completed"
    },
    "tags": []
   },
   "outputs": [],
   "source": [
    "class DS(Dataset):\n",
    "    def __init__(\n",
    "        self, \n",
    "        base_path: str,\n",
    "        filenames: np.ndarray, \n",
    "        folder_names: np.ndarray, \n",
    "        labels: np.ndarray, \n",
    "        size: int,\n",
    "        transform=None):\n",
    "        \n",
    "        self.base_path = base_path\n",
    "        self.filenames = filenames\n",
    "        self.folder_names = folder_names\n",
    "        self.labels = labels\n",
    "        self.size = size\n",
    "        self.transform = transform\n",
    "    \n",
    "    def __len__(self):\n",
    "        return self.filenames.shape[0]\n",
    "    \n",
    "    def __getitem__(self, idx):\n",
    "        path = os.path.join(os.path.join(self.base_path, self.folder_names[idx]), self.filenames[idx])\n",
    "        image = get_image(path, self.size)\n",
    "        return self.transform(image), self.labels[idx]"
   ]
  },
  {
   "cell_type": "markdown",
   "id": "c973edfd",
   "metadata": {
    "papermill": {
     "duration": 0.004205,
     "end_time": "2022-07-11T16:22:43.980590",
     "exception": false,
     "start_time": "2022-07-11T16:22:43.976385",
     "status": "completed"
    },
    "tags": []
   },
   "source": [
    "### **Model**"
   ]
  },
  {
   "cell_type": "code",
   "execution_count": 6,
   "id": "aea7d69b",
   "metadata": {
    "execution": {
     "iopub.execute_input": "2022-07-11T16:22:43.991592Z",
     "iopub.status.busy": "2022-07-11T16:22:43.990760Z",
     "iopub.status.idle": "2022-07-11T16:22:44.001888Z",
     "shell.execute_reply": "2022-07-11T16:22:44.001042Z"
    },
    "papermill": {
     "duration": 0.018371,
     "end_time": "2022-07-11T16:22:44.003770",
     "exception": false,
     "start_time": "2022-07-11T16:22:43.985399",
     "status": "completed"
    },
    "tags": []
   },
   "outputs": [],
   "source": [
    "class Model(nn.Module):\n",
    "    def __init__(self, model_name: str=\"resnet50\"):\n",
    "        super(Model, self).__init__()\n",
    "\n",
    "        if model_name == \"resnet50\":\n",
    "            self.model = models.resnet50(pretrained=True, progress=False)\n",
    "            self.model.fc = nn.Linear(in_features=self.model.fc.in_features, out_features=11)\n",
    "\n",
    "        elif model_name == \"densenet169\":\n",
    "            self.model = models.densenet169(pretrained=True, progress=True)\n",
    "            self.model.classifier = nn.Linear(in_features=self.model.classifier.in_features, out_features=11)\n",
    "\n",
    "        elif model_name == \"densenet201\":\n",
    "            self.model = models.densenet201(pretrained=True, progress=True)\n",
    "            self.model.classifier = nn.Linear(in_features=self.model.classifier.in_features, out_features=11)\n",
    "            \n",
    "        elif model_name == \"tv_densenet121\":\n",
    "            self.model = timm.create_model(model_name=\"tv_densenet121\", pretrained=True)\n",
    "            self.model.classifier = nn.Linear(in_features=self.model.classifier.in_features, out_features=11)\n",
    "            \n",
    "        elif model_name == \"efficientnet_b2\":\n",
    "            self.model = timm.create_model(model_name=model_name, pretrained=True)\n",
    "            self.model.classifier = nn.Linear(in_features=self.model.classifier.in_features, out_features=11)\n",
    "        \n",
    "        else:\n",
    "            raise NotImplementedError(\"Invalid Model Name. Model not currently available\")\n",
    "            \n",
    "    def freeze(self):\n",
    "        for params in self.parameters(): params.requires_grad = False\n",
    "\n",
    "    def forward(self, x):\n",
    "        return nn.LogSoftmax(dim=1)(self.model(x))"
   ]
  },
  {
   "cell_type": "markdown",
   "id": "42700e55",
   "metadata": {
    "papermill": {
     "duration": 0.00418,
     "end_time": "2022-07-11T16:22:44.012410",
     "exception": false,
     "start_time": "2022-07-11T16:22:44.008230",
     "status": "completed"
    },
    "tags": []
   },
   "source": [
    "### **Fit and Predict**"
   ]
  },
  {
   "cell_type": "code",
   "execution_count": 7,
   "id": "19bf6190",
   "metadata": {
    "execution": {
     "iopub.execute_input": "2022-07-11T16:22:44.022935Z",
     "iopub.status.busy": "2022-07-11T16:22:44.022662Z",
     "iopub.status.idle": "2022-07-11T16:22:44.049986Z",
     "shell.execute_reply": "2022-07-11T16:22:44.049046Z"
    },
    "papermill": {
     "duration": 0.03506,
     "end_time": "2022-07-11T16:22:44.051852",
     "exception": false,
     "start_time": "2022-07-11T16:22:44.016792",
     "status": "completed"
    },
    "tags": []
   },
   "outputs": [],
   "source": [
    "def fit(model=None,\n",
    "        model_name=None,\n",
    "        optimizer=None, \n",
    "        scheduler_rlrop=None,\n",
    "        scheduler_oclr=None,\n",
    "        epochs=None, \n",
    "        early_stopping_patience=None, \n",
    "        dataloaders=None, \n",
    "        fold=None, \n",
    "        save_path=None,\n",
    "        device=None,\n",
    "        verbose=False) -> tuple:\n",
    "    \n",
    "    def get_accuracy(y_pred, y_true):\n",
    "        y_pred = torch.argmax(y_pred, dim=1)\n",
    "        return torch.count_nonzero(y_pred == y_true).item() / len(y_pred)\n",
    "    \n",
    "    \n",
    "    if verbose:\n",
    "        breaker()\n",
    "        print(f\" ----- {model_name.upper()} -----\")\n",
    "        breaker()\n",
    "        if fold: print(f\"Training Fold {fold}...\")\n",
    "        else: print(\"Training ...\")\n",
    "        breaker()\n",
    "        \n",
    "    bestLoss: dict = {\"train\" : np.inf, \"valid\" : np.inf} \n",
    "    bestAccs: dict = {\"train\" : 0.0, \"valid\" : 0.0}\n",
    "    \n",
    "    Losses: list = []\n",
    "    Accuracies: list = [] \n",
    "    LRs: list = []\n",
    "        \n",
    "    if fold: \n",
    "        ble_name = f\"{model_name}_ble_state_fold_{fold}.pt\"\n",
    "        bae_name = f\"{model_name}_bae_state_fold_{fold}.pt\"\n",
    "    else: \n",
    "        ble_name = f\"{model_name}_ble_state.pt\"\n",
    "        bae_name = f\"{model_name}_bae_state.pt\"\n",
    "        \n",
    "    start_time = time()\n",
    "    for e in range(epochs):\n",
    "        e_st = time()\n",
    "        epochLoss: dict = {\"train\" : 0.0, \"valid\" : 0.0} \n",
    "        epochAccs: dict = {\"train\" : 0.0, \"valid\" : 0.0}\n",
    "\n",
    "        for phase in [\"train\", \"valid\"]:\n",
    "            if phase == \"train\":\n",
    "                model.train()\n",
    "            else:\n",
    "                model.eval()\n",
    "            \n",
    "            lossPerPass: list = []\n",
    "            accsPerPass: list = []\n",
    "                \n",
    "            for X, y in dataloaders[phase]:\n",
    "                X, y = X.to(device), y.to(device).view(-1)\n",
    "\n",
    "                optimizer.zero_grad()\n",
    "                with torch.set_grad_enabled(phase == \"train\"):\n",
    "                    output = model(X)\n",
    "                    loss = torch.nn.NLLLoss()(output, y)\n",
    "                    if phase == \"train\":\n",
    "                        loss.backward()\n",
    "                        optimizer.step()\n",
    "                        if scheduler_oclr: scheduler_oclr.step()\n",
    "                lossPerPass.append(loss.item())\n",
    "                accsPerPass.append(get_accuracy(output, y))\n",
    "            epochLoss[phase] = np.mean(np.array(lossPerPass))\n",
    "            epochAccs[phase] = np.mean(np.array(accsPerPass))\n",
    "        if scheduler_oclr: LRs.append(scheduler_oclr.get_last_lr())\n",
    "        Losses.append(epochLoss)\n",
    "        Accuracies.append(epochAccs)\n",
    "        \n",
    "        if scheduler_oclr:\n",
    "            save_dict = {\"model_state_dict\"     : model.state_dict(),\n",
    "                         \"optim_state_dict\"     : optimizer.state_dict(),\n",
    "                         \"scheduler_state_dict\" : scheduler_oclr.state_dict()}\n",
    "        \n",
    "        elif scheduler_rlrop:\n",
    "            save_dict = {\"model_state_dict\"     : model.state_dict(),\n",
    "                         \"optim_state_dict\"     : optimizer.state_dict(),\n",
    "                         \"scheduler_state_dict\" : scheduler_rlrop.state_dict()}\n",
    "        \n",
    "        else:\n",
    "            save_dict = {\"model_state_dict\"     : model.state_dict(),\n",
    "                         \"optim_state_dict\"     : optimizer.state_dict()}\n",
    "        \n",
    "        if early_stopping_patience:\n",
    "            if epochLoss[\"valid\"] < bestLoss[\"valid\"]:\n",
    "                bestLoss = epochLoss\n",
    "                BLE = e + 1\n",
    "                torch.save(save_dict, os.path.join(save_path, ble_name))\n",
    "                torch.save(save_dict, os.path.join(save_path, bae_name))\n",
    "                early_stopping_step = 0\n",
    "            else:\n",
    "                early_stopping_step += 1\n",
    "                if early_stopping_step > early_stopping_patience:\n",
    "                    print(\"\\nEarly Stopping at Epoch {}\".format(e + 1))\n",
    "                    break\n",
    "        \n",
    "        if epochLoss[\"valid\"] < bestLoss[\"valid\"]:\n",
    "            bestLoss = epochLoss\n",
    "            BLE = e + 1\n",
    "            torch.save(save_dict,os.path.join(save_path, ble_name))\n",
    "        \n",
    "        if epochAccs[\"valid\"] > bestAccs[\"valid\"]:\n",
    "            bestAccs = epochAccs\n",
    "            BAE = e + 1\n",
    "            torch.save(save_dict,os.path.join(save_path, bae_name))\n",
    "        \n",
    "        if scheduler_rlrop: scheduler_rlrop.step(epochLoss[\"valid\"])\n",
    "        \n",
    "        if verbose:\n",
    "            print(\"Epoch: {} | Train Loss: {:.5f} | Valid Loss: {:.5f} |\\\n",
    " Train Accs: {:.5f} | Valid Accs: {:.5f} | Time: {:.2f} seconds\".format(e+1, \n",
    "                                                                        epochLoss[\"train\"], epochLoss[\"valid\"], \n",
    "                                                                        epochAccs[\"train\"], epochAccs[\"valid\"], \n",
    "                                                                        time()-e_st))\n",
    "\n",
    "    if verbose:                                           \n",
    "        breaker()\n",
    "        print(f\"Best Validation Loss at Epoch {BLE}\")\n",
    "        breaker()\n",
    "        print(f\"Best Validation Accs at Epoch {BAE}\")\n",
    "        breaker()\n",
    "        print(\"Time Taken [{} Epochs] : {:.2f} minutes\".format(len(Losses), (time()-start_time)/60))\n",
    "    \n",
    "    return Losses, Accuracies, LRs, BLE, BAE, ble_name, bae_name\n",
    "\n",
    "\n",
    "def predict_batch(model=None, dataloader=None, path=None, device=None) -> np.ndarray:\n",
    "    model.load_state_dict(torch.load(path, map_location=device)[\"model_state_dict\"])\n",
    "    model.to(device)    \n",
    "    model.eval()\n",
    "    \n",
    "    y_pred = torch.zeros(1, 1).to(device)\n",
    "    \n",
    "    for X in dataloader:\n",
    "        X = X.to(device)\n",
    "        with torch.no_grad():\n",
    "            output = torch.argmax(torch.exp(model(X)), dim=1)\n",
    "        y_pred = torch.cat((y_pred, output.view(-1, 1)), dim=0)\n",
    "    \n",
    "    return y_pred[1:].detach().cpu().numpy()"
   ]
  },
  {
   "cell_type": "markdown",
   "id": "0245c75f",
   "metadata": {
    "papermill": {
     "duration": 0.004477,
     "end_time": "2022-07-11T16:22:44.060784",
     "exception": false,
     "start_time": "2022-07-11T16:22:44.056307",
     "status": "completed"
    },
    "tags": []
   },
   "source": [
    "### **Train**"
   ]
  },
  {
   "cell_type": "code",
   "execution_count": 8,
   "id": "b1a2067b",
   "metadata": {
    "execution": {
     "iopub.execute_input": "2022-07-11T16:22:44.071657Z",
     "iopub.status.busy": "2022-07-11T16:22:44.071034Z",
     "iopub.status.idle": "2022-07-11T16:22:44.100422Z",
     "shell.execute_reply": "2022-07-11T16:22:44.099634Z"
    },
    "papermill": {
     "duration": 0.037139,
     "end_time": "2022-07-11T16:22:44.102279",
     "exception": false,
     "start_time": "2022-07-11T16:22:44.065140",
     "status": "completed"
    },
    "tags": []
   },
   "outputs": [],
   "source": [
    "df = pd.read_csv(\"../input/wic-dataframe/data.csv\")\n",
    "\n",
    "filenames = df.filenames.copy().values\n",
    "folder_names = df.folder_names.copy().values\n",
    "labels = df.classes.copy().values"
   ]
  },
  {
   "cell_type": "code",
   "execution_count": 9,
   "id": "986f8cf0",
   "metadata": {
    "execution": {
     "iopub.execute_input": "2022-07-11T16:22:44.113191Z",
     "iopub.status.busy": "2022-07-11T16:22:44.112926Z",
     "iopub.status.idle": "2022-07-11T17:39:23.148048Z",
     "shell.execute_reply": "2022-07-11T17:39:23.147077Z"
    },
    "papermill": {
     "duration": 4599.043045,
     "end_time": "2022-07-11T17:39:23.150159",
     "exception": false,
     "start_time": "2022-07-11T16:22:44.107114",
     "status": "completed"
    },
    "tags": []
   },
   "outputs": [
    {
     "name": "stderr",
     "output_type": "stream",
     "text": [
      "Downloading: \"https://github.com/rwightman/pytorch-image-models/releases/download/v0.1-weights/efficientnet_b2_ra-bcdf34b7.pth\" to /root/.cache/torch/hub/checkpoints/efficientnet_b2_ra-bcdf34b7.pth\n"
     ]
    },
    {
     "name": "stdout",
     "output_type": "stream",
     "text": [
      "\n",
      "**************************************************\n",
      "\n",
      " ----- EFFICIENTNET_B2 -----\n",
      "\n",
      "**************************************************\n",
      "\n",
      "Training Fold 1...\n",
      "\n",
      "**************************************************\n",
      "\n",
      "Epoch: 1 | Train Loss: 1.74312 | Valid Loss: 0.44001 | Train Accs: 0.49690 | Valid Accs: 0.88372 | Time: 214.71 seconds\n",
      "Epoch: 2 | Train Loss: 0.41432 | Valid Loss: 0.36361 | Train Accs: 0.86972 | Valid Accs: 0.89123 | Time: 156.59 seconds\n",
      "Epoch: 3 | Train Loss: 0.38118 | Valid Loss: 0.34482 | Train Accs: 0.87500 | Valid Accs: 0.88711 | Time: 155.01 seconds\n",
      "Epoch: 4 | Train Loss: 0.37137 | Valid Loss: 0.39679 | Train Accs: 0.88138 | Valid Accs: 0.87379 | Time: 156.60 seconds\n",
      "Epoch: 5 | Train Loss: 0.32762 | Valid Loss: 0.26117 | Train Accs: 0.89304 | Valid Accs: 0.91231 | Time: 153.27 seconds\n",
      "Epoch: 6 | Train Loss: 0.28245 | Valid Loss: 0.27822 | Train Accs: 0.90835 | Valid Accs: 0.90407 | Time: 156.48 seconds\n",
      "Epoch: 7 | Train Loss: 0.22418 | Valid Loss: 0.33217 | Train Accs: 0.93039 | Valid Accs: 0.89220 | Time: 155.84 seconds\n",
      "Epoch: 8 | Train Loss: 0.15357 | Valid Loss: 0.33618 | Train Accs: 0.94953 | Valid Accs: 0.90189 | Time: 153.25 seconds\n",
      "Epoch: 9 | Train Loss: 0.15666 | Valid Loss: 0.34446 | Train Accs: 0.94862 | Valid Accs: 0.91085 | Time: 156.58 seconds\n",
      "Epoch: 10 | Train Loss: 0.10672 | Valid Loss: 0.29470 | Train Accs: 0.96665 | Valid Accs: 0.91424 | Time: 155.57 seconds\n",
      "\n",
      "Early Stopping at Epoch 11\n",
      "\n",
      "**************************************************\n",
      "\n",
      "Best Validation Loss at Epoch 5\n",
      "\n",
      "**************************************************\n",
      "\n",
      "Best Validation Accs at Epoch 10\n",
      "\n",
      "**************************************************\n",
      "\n",
      "Time Taken [11 Epochs] : 29.49 minutes\n",
      "\n",
      "**************************************************\n",
      "\n"
     ]
    },
    {
     "data": {
      "image/png": "[encoded data removed]",
      "text/plain": [
       "<Figure size 432x288 with 1 Axes>"
      ]
     },
     "metadata": {
      "needs_background": "light"
     },
     "output_type": "display_data"
    },
    {
     "name": "stdout",
     "output_type": "stream",
     "text": [
      "\n",
      "**************************************************\n",
      "\n"
     ]
    },
    {
     "data": {
      "image/png": "[encoded data removed]",
      "text/plain": [
       "<Figure size 432x288 with 1 Axes>"
      ]
     },
     "metadata": {
      "needs_background": "light"
     },
     "output_type": "display_data"
    },
    {
     "name": "stdout",
     "output_type": "stream",
     "text": [
      "\n",
      "**************************************************\n",
      "\n"
     ]
    },
    {
     "data": {
      "image/png": "[encoded data removed]",
      "text/plain": [
       "<Figure size 576x432 with 1 Axes>"
      ]
     },
     "metadata": {
      "needs_background": "light"
     },
     "output_type": "display_data"
    },
    {
     "name": "stdout",
     "output_type": "stream",
     "text": [
      "\n",
      "**************************************************\n",
      "\n",
      "\n",
      "**************************************************\n",
      "\n",
      " ----- EFFICIENTNET_B2 -----\n",
      "\n",
      "**************************************************\n",
      "\n",
      "Training Fold 2...\n",
      "\n",
      "**************************************************\n",
      "\n",
      "Epoch: 1 | Train Loss: 2.13302 | Valid Loss: 1.31974 | Train Accs: 0.35435 | Valid Accs: 0.74280 | Time: 89.70 seconds\n",
      "Epoch: 2 | Train Loss: 0.54963 | Valid Loss: 0.30635 | Train Accs: 0.85689 | Valid Accs: 0.90524 | Time: 89.93 seconds\n",
      "Epoch: 3 | Train Loss: 0.22352 | Valid Loss: 0.32239 | Train Accs: 0.93247 | Valid Accs: 0.90432 | Time: 88.54 seconds\n",
      "Epoch: 4 | Train Loss: 0.21559 | Valid Loss: 0.63388 | Train Accs: 0.93484 | Valid Accs: 0.84274 | Time: 88.61 seconds\n",
      "Epoch: 5 | Train Loss: 0.22607 | Valid Loss: 0.52145 | Train Accs: 0.92926 | Valid Accs: 0.86556 | Time: 88.71 seconds\n",
      "Epoch: 6 | Train Loss: 0.13681 | Valid Loss: 0.38770 | Train Accs: 0.95827 | Valid Accs: 0.88971 | Time: 87.80 seconds\n",
      "Epoch: 7 | Train Loss: 0.08608 | Valid Loss: 0.46709 | Train Accs: 0.97299 | Valid Accs: 0.89539 | Time: 89.45 seconds\n",
      "\n",
      "Early Stopping at Epoch 8\n",
      "\n",
      "**************************************************\n",
      "\n",
      "Best Validation Loss at Epoch 2\n",
      "\n",
      "**************************************************\n",
      "\n",
      "Best Validation Accs at Epoch 2\n",
      "\n",
      "**************************************************\n",
      "\n",
      "Time Taken [8 Epochs] : 11.86 minutes\n",
      "\n",
      "**************************************************\n",
      "\n"
     ]
    },
    {
     "data": {
      "image/png": "[encoded data removed]",
      "text/plain": [
       "<Figure size 432x288 with 1 Axes>"
      ]
     },
     "metadata": {
      "needs_background": "light"
     },
     "output_type": "display_data"
    },
    {
     "name": "stdout",
     "output_type": "stream",
     "text": [
      "\n",
      "**************************************************\n",
      "\n"
     ]
    },
    {
     "data": {
      "image/png": "[encoded data removed]",
      "text/plain": [
       "<Figure size 432x288 with 1 Axes>"
      ]
     },
     "metadata": {
      "needs_background": "light"
     },
     "output_type": "display_data"
    },
    {
     "name": "stdout",
     "output_type": "stream",
     "text": [
      "\n",
      "**************************************************\n",
      "\n"
     ]
    },
    {
     "data": {
      "image/png": "[encoded data removed]",
      "text/plain": [
       "<Figure size 576x432 with 1 Axes>"
      ]
     },
     "metadata": {
      "needs_background": "light"
     },
     "output_type": "display_data"
    },
    {
     "name": "stdout",
     "output_type": "stream",
     "text": [
      "\n",
      "**************************************************\n",
      "\n",
      "\n",
      "**************************************************\n",
      "\n",
      " ----- EFFICIENTNET_B2 -----\n",
      "\n",
      "**************************************************\n",
      "\n",
      "Training Fold 3...\n",
      "\n",
      "**************************************************\n",
      "\n",
      "Epoch: 1 | Train Loss: 2.13546 | Valid Loss: 1.29750 | Train Accs: 0.35084 | Valid Accs: 0.73701 | Time: 89.17 seconds\n",
      "Epoch: 2 | Train Loss: 0.55844 | Valid Loss: 0.27023 | Train Accs: 0.86022 | Valid Accs: 0.91751 | Time: 88.21 seconds\n",
      "Epoch: 3 | Train Loss: 0.23085 | Valid Loss: 0.33113 | Train Accs: 0.92611 | Valid Accs: 0.89702 | Time: 87.93 seconds\n",
      "Epoch: 4 | Train Loss: 0.19007 | Valid Loss: 0.34006 | Train Accs: 0.94029 | Valid Accs: 0.89763 | Time: 87.92 seconds\n",
      "Epoch: 5 | Train Loss: 0.21125 | Valid Loss: 0.37204 | Train Accs: 0.93338 | Valid Accs: 0.88849 | Time: 87.42 seconds\n",
      "Epoch: 6 | Train Loss: 0.14752 | Valid Loss: 0.43522 | Train Accs: 0.95409 | Valid Accs: 0.87632 | Time: 87.44 seconds\n",
      "Epoch: 7 | Train Loss: 0.10941 | Valid Loss: 0.46081 | Train Accs: 0.96802 | Valid Accs: 0.87642 | Time: 88.16 seconds\n",
      "\n",
      "Early Stopping at Epoch 8\n",
      "\n",
      "**************************************************\n",
      "\n",
      "Best Validation Loss at Epoch 2\n",
      "\n",
      "**************************************************\n",
      "\n",
      "Best Validation Accs at Epoch 2\n",
      "\n",
      "**************************************************\n",
      "\n",
      "Time Taken [8 Epochs] : 11.73 minutes\n",
      "\n",
      "**************************************************\n",
      "\n"
     ]
    },
    {
     "data": {
      "image/png": "[encoded data removed]",
      "text/plain": [
       "<Figure size 432x288 with 1 Axes>"
      ]
     },
     "metadata": {
      "needs_background": "light"
     },
     "output_type": "display_data"
    },
    {
     "name": "stdout",
     "output_type": "stream",
     "text": [
      "\n",
      "**************************************************\n",
      "\n"
     ]
    },
    {
     "data": {
      "image/png": "[encoded data removed]",
      "text/plain": [
       "<Figure size 432x288 with 1 Axes>"
      ]
     },
     "metadata": {
      "needs_background": "light"
     },
     "output_type": "display_data"
    },
    {
     "name": "stdout",
     "output_type": "stream",
     "text": [
      "\n",
      "**************************************************\n",
      "\n"
     ]
    },
    {
     "data": {
      "image/png": "[encoded data removed]",
      "text/plain": [
       "<Figure size 576x432 with 1 Axes>"
      ]
     },
     "metadata": {
      "needs_background": "light"
     },
     "output_type": "display_data"
    },
    {
     "name": "stdout",
     "output_type": "stream",
     "text": [
      "\n",
      "**************************************************\n",
      "\n",
      "\n",
      "**************************************************\n",
      "\n",
      " ----- EFFICIENTNET_B2 -----\n",
      "\n",
      "**************************************************\n",
      "\n",
      "Training Fold 4...\n",
      "\n",
      "**************************************************\n",
      "\n",
      "Epoch: 1 | Train Loss: 2.13765 | Valid Loss: 1.31672 | Train Accs: 0.34847 | Valid Accs: 0.73458 | Time: 88.32 seconds\n",
      "Epoch: 2 | Train Loss: 0.54515 | Valid Loss: 0.31305 | Train Accs: 0.86501 | Valid Accs: 0.89377 | Time: 89.28 seconds\n",
      "Epoch: 3 | Train Loss: 0.22820 | Valid Loss: 0.34767 | Train Accs: 0.92666 | Valid Accs: 0.88575 | Time: 88.12 seconds\n",
      "Epoch: 4 | Train Loss: 0.21412 | Valid Loss: 0.41572 | Train Accs: 0.93320 | Valid Accs: 0.87328 | Time: 88.87 seconds\n",
      "Epoch: 5 | Train Loss: 0.18624 | Valid Loss: 0.44147 | Train Accs: 0.94089 | Valid Accs: 0.88667 | Time: 89.36 seconds\n",
      "Epoch: 6 | Train Loss: 0.13925 | Valid Loss: 0.49734 | Train Accs: 0.95325 | Valid Accs: 0.87246 | Time: 87.15 seconds\n",
      "Epoch: 7 | Train Loss: 0.10869 | Valid Loss: 0.44236 | Train Accs: 0.96391 | Valid Accs: 0.88413 | Time: 87.27 seconds\n",
      "\n",
      "Early Stopping at Epoch 8\n",
      "\n",
      "**************************************************\n",
      "\n",
      "Best Validation Loss at Epoch 2\n",
      "\n",
      "**************************************************\n",
      "\n",
      "Best Validation Accs at Epoch 2\n",
      "\n",
      "**************************************************\n",
      "\n",
      "Time Taken [8 Epochs] : 11.75 minutes\n",
      "\n",
      "**************************************************\n",
      "\n"
     ]
    },
    {
     "data": {
      "image/png": "[encoded data removed]",
      "text/plain": [
       "<Figure size 432x288 with 1 Axes>"
      ]
     },
     "metadata": {
      "needs_background": "light"
     },
     "output_type": "display_data"
    },
    {
     "name": "stdout",
     "output_type": "stream",
     "text": [
      "\n",
      "**************************************************\n",
      "\n"
     ]
    },
    {
     "data": {
      "image/png": "[encoded data removed]",
      "text/plain": [
       "<Figure size 432x288 with 1 Axes>"
      ]
     },
     "metadata": {
      "needs_background": "light"
     },
     "output_type": "display_data"
    },
    {
     "name": "stdout",
     "output_type": "stream",
     "text": [
      "\n",
      "**************************************************\n",
      "\n"
     ]
    },
    {
     "data": {
      "image/png": "[encoded data removed]",
      "text/plain": [
       "<Figure size 576x432 with 1 Axes>"
      ]
     },
     "metadata": {
      "needs_background": "light"
     },
     "output_type": "display_data"
    },
    {
     "name": "stdout",
     "output_type": "stream",
     "text": [
      "\n",
      "**************************************************\n",
      "\n",
      "\n",
      "**************************************************\n",
      "\n",
      " ----- EFFICIENTNET_B2 -----\n",
      "\n",
      "**************************************************\n",
      "\n",
      "Training Fold 5...\n",
      "\n",
      "**************************************************\n",
      "\n",
      "Epoch: 1 | Train Loss: 2.13457 | Valid Loss: 1.32452 | Train Accs: 0.34569 | Valid Accs: 0.72971 | Time: 87.56 seconds\n",
      "Epoch: 2 | Train Loss: 0.55872 | Valid Loss: 0.29962 | Train Accs: 0.85356 | Valid Accs: 0.90199 | Time: 87.87 seconds\n",
      "Epoch: 3 | Train Loss: 0.20685 | Valid Loss: 0.42309 | Train Accs: 0.93629 | Valid Accs: 0.86526 | Time: 87.18 seconds\n",
      "Epoch: 4 | Train Loss: 0.22222 | Valid Loss: 0.50201 | Train Accs: 0.92932 | Valid Accs: 0.86090 | Time: 86.89 seconds\n",
      "Epoch: 5 | Train Loss: 0.23165 | Valid Loss: 0.44542 | Train Accs: 0.93078 | Valid Accs: 0.86881 | Time: 86.86 seconds\n",
      "Epoch: 6 | Train Loss: 0.13549 | Valid Loss: 0.39011 | Train Accs: 0.95755 | Valid Accs: 0.88231 | Time: 86.70 seconds\n",
      "Epoch: 7 | Train Loss: 0.07710 | Valid Loss: 0.34330 | Train Accs: 0.97559 | Valid Accs: 0.90524 | Time: 88.37 seconds\n",
      "\n",
      "Early Stopping at Epoch 8\n",
      "\n",
      "**************************************************\n",
      "\n",
      "Best Validation Loss at Epoch 2\n",
      "\n",
      "**************************************************\n",
      "\n",
      "Best Validation Accs at Epoch 7\n",
      "\n",
      "**************************************************\n",
      "\n",
      "Time Taken [8 Epochs] : 11.64 minutes\n",
      "\n",
      "**************************************************\n",
      "\n"
     ]
    },
    {
     "data": {
      "image/png": "[encoded data removed]",
      "text/plain": [
       "<Figure size 432x288 with 1 Axes>"
      ]
     },
     "metadata": {
      "needs_background": "light"
     },
     "output_type": "display_data"
    },
    {
     "name": "stdout",
     "output_type": "stream",
     "text": [
      "\n",
      "**************************************************\n",
      "\n"
     ]
    },
    {
     "data": {
      "image/png": "[encoded data removed]",
      "text/plain": [
       "<Figure size 432x288 with 1 Axes>"
      ]
     },
     "metadata": {
      "needs_background": "light"
     },
     "output_type": "display_data"
    },
    {
     "name": "stdout",
     "output_type": "stream",
     "text": [
      "\n",
      "**************************************************\n",
      "\n"
     ]
    },
    {
     "data": {
      "image/png": "[encoded data removed]",
      "text/plain": [
       "<Figure size 576x432 with 1 Axes>"
      ]
     },
     "metadata": {
      "needs_background": "light"
     },
     "output_type": "display_data"
    },
    {
     "name": "stdout",
     "output_type": "stream",
     "text": [
      "\n",
      "**************************************************\n",
      "\n"
     ]
    }
   ],
   "source": [
    "fold: int = 1\n",
    "BLEs: list = []\n",
    "BAEs: list = []\n",
    "model_name: str = \"efficientnet_b2\"\n",
    "\n",
    "    \n",
    "for tr_idx, va_idx in StratifiedKFold(n_splits=cfg.n_splits, random_state=cfg.seed, shuffle=True).split(filenames, labels):\n",
    "\n",
    "    tr_filenames, va_filenames       = filenames[tr_idx], filenames[va_idx] \n",
    "    tr_folder_names, va_folder_names = folder_names[tr_idx], folder_names[va_idx] \n",
    "    tr_labels, va_labels             = labels[tr_idx], labels[va_idx]\n",
    "\n",
    "    tr_data_setup = DS(\n",
    "        base_path=\"../input/weather-dataset/dataset\", \n",
    "        filenames=tr_filenames, \n",
    "        folder_names=tr_folder_names,\n",
    "        labels=tr_labels.reshape(-1, 1),\n",
    "        size=cfg.size,\n",
    "        transform=cfg.transform)\n",
    "    \n",
    "    va_data_setup = DS(\n",
    "        base_path=\"../input/weather-dataset/dataset\", \n",
    "        filenames=va_filenames, \n",
    "        folder_names=va_folder_names,\n",
    "        labels=va_labels.reshape(-1, 1),\n",
    "        size=cfg.size,\n",
    "        transform=cfg.transform)\n",
    "\n",
    "    dataloaders = {\n",
    "        \"train\" : DL(tr_data_setup, batch_size=cfg.batch_size, shuffle=True, generator=torch.manual_seed(cfg.seed)),\n",
    "        \"valid\" : DL(va_data_setup, batch_size=cfg.batch_size, shuffle=False),\n",
    "    }\n",
    "\n",
    "    cfg = CFG(\n",
    "        epochs=25, \n",
    "        batch_size=64, \n",
    "        lr=1e-3,\n",
    "        wd=0.0,\n",
    "        early_stopping=5,\n",
    "        steps_per_epoch=len(dataloaders[\"train\"])\n",
    "    )\n",
    "    \n",
    "    torch.manual_seed(cfg.seed)\n",
    "    model = Model(model_name=model_name).to(cfg.device)\n",
    "\n",
    "    optimizer = optim.Adam([p for p in model.parameters() if p.requires_grad], lr=cfg.lr, weight_decay=cfg.wd)\n",
    "    # optimizer = optim.AdamW([p for p in model.parameters() if p.requires_grad], lr=cfg.lr, weight_decay=cfg.wd)\n",
    "    # optimizer = optim.SGD([p for p in model.parameters() if p.requires_grad], lr=cfg.lr, weight_decay=cfg.wd, momentum=0.9)\n",
    "\n",
    "    scheduler_oclr = optim.lr_scheduler.OneCycleLR(\n",
    "        optimizer=optimizer, \n",
    "        max_lr=cfg.max_lr, \n",
    "        epochs=cfg.epochs, \n",
    "        steps_per_epoch=cfg.steps_per_epoch,\n",
    "        pct_start=cfg.pct_start, \n",
    "        div_factor=cfg.div_factor, \n",
    "        final_div_factor=cfg.final_div_factor\n",
    "    )\n",
    "\n",
    "    # scheduler_rlrop = optim.lr_scheduler.ReduceLROnPlateau(\n",
    "    #     optimizer=optimizer,\n",
    "    #     patience=cfg.patience,\n",
    "    #     eps=cfg.eps,\n",
    "    #     verbose=True\n",
    "    # )\n",
    "\n",
    "    # scheduler_oclr = None\n",
    "    scheduler_rlrop = None\n",
    "\n",
    "\n",
    "    L, A, LR, BLE, BAE, _, _ = fit(\n",
    "        model=model, \n",
    "        model_name=model_name,\n",
    "        optimizer=optimizer, \n",
    "        scheduler_oclr=scheduler_oclr,\n",
    "        scheduler_rlrop=scheduler_rlrop,\n",
    "        epochs=cfg.epochs, \n",
    "        early_stopping_patience=cfg.early_stopping, \n",
    "        dataloaders=dataloaders, \n",
    "        device=cfg.device,\n",
    "        save_path=cfg.save_path,\n",
    "        fold=fold,\n",
    "        verbose=True\n",
    "    )\n",
    "\n",
    "\n",
    "    breaker()\n",
    "    show_loss_graphs(L)\n",
    "    breaker()\n",
    "    show_accuracy_graphs(A)\n",
    "    breaker()\n",
    "    if scheduler_oclr:\n",
    "        show_lr_graph(LR)\n",
    "        breaker()\n",
    "    \n",
    "    BLEs.append(BLE)\n",
    "    BAEs.append(BAE)\n",
    "    \n",
    "    fold += 1"
   ]
  },
  {
   "cell_type": "markdown",
   "id": "4ec7f36e",
   "metadata": {
    "papermill": {
     "duration": 0.011812,
     "end_time": "2022-07-11T17:39:23.174187",
     "exception": false,
     "start_time": "2022-07-11T17:39:23.162375",
     "status": "completed"
    },
    "tags": []
   },
   "source": [
    "### **Best Model**"
   ]
  },
  {
   "cell_type": "code",
   "execution_count": 10,
   "id": "5184fe29",
   "metadata": {
    "execution": {
     "iopub.execute_input": "2022-07-11T17:39:23.200173Z",
     "iopub.status.busy": "2022-07-11T17:39:23.199883Z",
     "iopub.status.idle": "2022-07-11T17:39:23.205849Z",
     "shell.execute_reply": "2022-07-11T17:39:23.204948Z"
    },
    "papermill": {
     "duration": 0.021144,
     "end_time": "2022-07-11T17:39:23.207765",
     "exception": false,
     "start_time": "2022-07-11T17:39:23.186621",
     "status": "completed"
    },
    "tags": []
   },
   "outputs": [
    {
     "name": "stdout",
     "output_type": "stream",
     "text": [
      "\n",
      "**************************************************\n",
      "\n",
      "Best Loss Model Fold     : 1\n",
      "Best Accuracy Model Fold : 0\n",
      "\n",
      "**************************************************\n",
      "\n"
     ]
    }
   ],
   "source": [
    "best_loss_index = BLEs.index(min(BLEs))\n",
    "best_accs_index = BAEs.index(max(BAEs))\n",
    "\n",
    "breaker()\n",
    "print(f\"Best Loss Model Fold     : {best_loss_index}\")\n",
    "print(f\"Best Accuracy Model Fold : {best_accs_index}\")\n",
    "breaker()"
   ]
  }
 ],
 "metadata": {
  "kernelspec": {
   "display_name": "Python 3",
   "language": "python",
   "name": "python3"
  },
  "language_info": {
   "codemirror_mode": {
    "name": "ipython",
    "version": 3
   },
   "file_extension": ".py",
   "mimetype": "text/x-python",
   "name": "python",
   "nbconvert_exporter": "python",
   "pygments_lexer": "ipython3",
   "version": "3.7.12"
  },
  "papermill": {
   "default_parameters": {},
   "duration": 4628.342721,
   "end_time": "2022-07-11T17:39:26.162713",
   "environment_variables": {},
   "exception": null,
   "input_path": "__notebook__.ipynb",
   "output_path": "__notebook__.ipynb",
   "parameters": {},
   "start_time": "2022-07-11T16:22:17.819992",
   "version": "2.3.4"
  }
 },
 "nbformat": 4,
 "nbformat_minor": 5
}
