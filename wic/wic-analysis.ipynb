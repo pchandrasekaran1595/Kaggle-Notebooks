{
 "cells": [
  {
   "cell_type": "code",
   "execution_count": 1,
   "id": "1d0aea22",
   "metadata": {
    "_cell_guid": "b1076dfc-b9ad-4769-8c92-a6c4dae69d19",
    "_uuid": "8f2839f25d086af736a60e9eeb907d3b93b6e0e5",
    "execution": {
     "iopub.execute_input": "2022-07-09T16:44:15.293726Z",
     "iopub.status.busy": "2022-07-09T16:44:15.293120Z",
     "iopub.status.idle": "2022-07-09T16:44:15.517102Z",
     "shell.execute_reply": "2022-07-09T16:44:15.516022Z"
    },
    "papermill": {
     "duration": 0.231685,
     "end_time": "2022-07-09T16:44:15.519795",
     "exception": false,
     "start_time": "2022-07-09T16:44:15.288110",
     "status": "completed"
    },
    "tags": []
   },
   "outputs": [],
   "source": [
    "import os\n",
    "import cv2\n",
    "import numpy as np\n",
    "import pandas as pd"
   ]
  },
  {
   "cell_type": "code",
   "execution_count": 2,
   "id": "9c455bc9",
   "metadata": {
    "execution": {
     "iopub.execute_input": "2022-07-09T16:44:15.525401Z",
     "iopub.status.busy": "2022-07-09T16:44:15.524394Z",
     "iopub.status.idle": "2022-07-09T16:44:15.535450Z",
     "shell.execute_reply": "2022-07-09T16:44:15.534667Z"
    },
    "papermill": {
     "duration": 0.016091,
     "end_time": "2022-07-09T16:44:15.537829",
     "exception": false,
     "start_time": "2022-07-09T16:44:15.521738",
     "status": "completed"
    },
    "tags": []
   },
   "outputs": [],
   "source": [
    "def get_image(path: str, size: int=224) -> np.ndarray:\n",
    "    image = cv2.imread(path, cv2.IMREAD_COLOR)\n",
    "    image = cv2.cvtColor(src=image, code=cv2.COLOR_BGR2RGB)\n",
    "    image = cv2.resize(src=image, dsize=(size, size), interpolation=cv2.INTER_AREA)\n",
    "    return image\n",
    "\n",
    "\n",
    "def get_statistics(images: list, size: int) -> None:\n",
    "    print(f\"Statistics {size}x{size}\\n\")\n",
    "    \n",
    "    for i in range(3):\n",
    "        mean, std = 0.0, 0.0\n",
    "        for j in range(len(images)):\n",
    "            mean += images[j][:, :, i].mean()\n",
    "            std += images[j][:, :, i].std()\n",
    "        \n",
    "        if i == 0:\n",
    "            print(f\"\\nRed Channel Mean   {size} : {mean / len(images) / 255:.5f}\")\n",
    "            print(f\"Red Channel Std    {size} : {std / len(images) / 255:.5f}\")\n",
    "\n",
    "        if i == 1:\n",
    "            print(f\"\\nGreen Channel Mean {size} : {mean / len(images) / 255:.5f}\")\n",
    "            print(f\"Green Channel Std  {size} : {std / len(images) / 255:.5f}\")\n",
    "\n",
    "        if i == 2:\n",
    "            print(f\"\\nBlue Channel Mean  {size} : {mean / len(images) / 255:.5f}\")\n",
    "            print(f\"Blue Channel Std   {size} : {std / len(images) / 255:.5f}\")\n",
    "\n",
    "            \n",
    "def reserve_memory(path: str, size: int) -> tuple:\n",
    "    total_num_files: int = 0\n",
    "    for name in os.listdir(path):\n",
    "        if \".\" in name or name == \"test\":\n",
    "            pass\n",
    "        else:\n",
    "            total_num_files += len(os.listdir(os.path.join(path, name)))\n",
    "    total_num_files -= 2\n",
    "    images = np.zeros((total_num_files, size, size, 3), dtype=np.uint8)\n",
    "    labels = np.ones((total_num_files, ), dtype=np.uint8)\n",
    "    return images, labels"
   ]
  },
  {
   "cell_type": "code",
   "execution_count": 3,
   "id": "8dc19fd7",
   "metadata": {
    "execution": {
     "iopub.execute_input": "2022-07-09T16:44:15.543125Z",
     "iopub.status.busy": "2022-07-09T16:44:15.542498Z",
     "iopub.status.idle": "2022-07-09T16:49:27.501091Z",
     "shell.execute_reply": "2022-07-09T16:49:27.499182Z"
    },
    "papermill": {
     "duration": 311.964983,
     "end_time": "2022-07-09T16:49:27.504633",
     "exception": false,
     "start_time": "2022-07-09T16:44:15.539650",
     "status": "completed"
    },
    "tags": []
   },
   "outputs": [
    {
     "name": "stdout",
     "output_type": "stream",
     "text": [
      "Statistics 224x224\n",
      "\n",
      "\n",
      "Red Channel Mean   224 : 0.51703\n",
      "Red Channel Std    224 : 0.19119\n",
      "\n",
      "Green Channel Mean 224 : 0.52522\n",
      "Green Channel Std  224 : 0.18506\n",
      "\n",
      "Blue Channel Mean  224 : 0.50585\n",
      "Blue Channel Std   224 : 0.19167\n",
      "Statistics 384x384\n",
      "\n",
      "\n",
      "Red Channel Mean   384 : 0.51684\n",
      "Red Channel Std    384 : 0.19350\n",
      "\n",
      "Green Channel Mean 384 : 0.52503\n",
      "Green Channel Std  384 : 0.18743\n",
      "\n",
      "Blue Channel Mean  384 : 0.50567\n",
      "Blue Channel Std   384 : 0.19404\n",
      "Statistics 512x512\n",
      "\n",
      "\n",
      "Red Channel Mean   512 : 0.51688\n",
      "Red Channel Std    512 : 0.19438\n",
      "\n",
      "Green Channel Mean 512 : 0.52507\n",
      "Green Channel Std  512 : 0.18833\n",
      "\n",
      "Blue Channel Mean  512 : 0.50570\n",
      "Blue Channel Std   512 : 0.19493\n"
     ]
    }
   ],
   "source": [
    "path: str = \"../input/weather-dataset/dataset\"\n",
    "folders: list = sorted([folder_name for folder_name in os.listdir(path) if \".\" not in folder_name and folder_name != \"test\"])\n",
    "sizes: list   = [224, 384, 512] \n",
    "\n",
    "for size in sizes:\n",
    "    images, labels = reserve_memory(path, size)  \n",
    "    i: int = 0\n",
    "    j: int = 0\n",
    "    for folder_name in folders:\n",
    "        for filename in os.listdir(os.path.join(path, folder_name)):\n",
    "            if filename == \"4514.jpg\" or filename == \"1187.jpg\":\n",
    "                i -= 1\n",
    "            else:\n",
    "                images[i] = get_image(os.path.join(os.path.join(path, folder_name), filename), size=size)\n",
    "                labels[i] = labels[i] * j\n",
    "            i += 1\n",
    "        j += 1\n",
    "\n",
    "    np.save(f\"images_{size}.npy\", images)\n",
    "    np.save(f\"labels_{size}.npy\", labels)\n",
    "    \n",
    "    get_statistics(images=list(images), size=size)"
   ]
  }
 ],
 "metadata": {
  "kernelspec": {
   "display_name": "Python 3",
   "language": "python",
   "name": "python3"
  },
  "language_info": {
   "codemirror_mode": {
    "name": "ipython",
    "version": 3
   },
   "file_extension": ".py",
   "mimetype": "text/x-python",
   "name": "python",
   "nbconvert_exporter": "python",
   "pygments_lexer": "ipython3",
   "version": "3.7.12"
  },
  "papermill": {
   "default_parameters": {},
   "duration": 321.845434,
   "end_time": "2022-07-09T16:49:28.634543",
   "environment_variables": {},
   "exception": null,
   "input_path": "__notebook__.ipynb",
   "output_path": "__notebook__.ipynb",
   "parameters": {},
   "start_time": "2022-07-09T16:44:06.789109",
   "version": "2.3.4"
  }
 },
 "nbformat": 4,
 "nbformat_minor": 5
}
