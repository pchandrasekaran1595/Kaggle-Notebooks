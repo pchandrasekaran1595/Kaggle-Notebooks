{
 "cells": [
  {
   "cell_type": "code",
   "execution_count": 1,
   "id": "e0978e23",
   "metadata": {
    "_cell_guid": "b1076dfc-b9ad-4769-8c92-a6c4dae69d19",
    "_uuid": "8f2839f25d086af736a60e9eeb907d3b93b6e0e5",
    "execution": {
     "iopub.execute_input": "2022-11-03T13:10:37.807648Z",
     "iopub.status.busy": "2022-11-03T13:10:37.807174Z",
     "iopub.status.idle": "2022-11-03T13:10:38.038237Z",
     "shell.execute_reply": "2022-11-03T13:10:38.037199Z"
    },
    "papermill": {
     "duration": 0.23888,
     "end_time": "2022-11-03T13:10:38.041046",
     "exception": false,
     "start_time": "2022-11-03T13:10:37.802166",
     "status": "completed"
    },
    "tags": []
   },
   "outputs": [],
   "source": [
    "import os\n",
    "import cv2\n",
    "import numpy as np\n",
    "import pandas as pd\n",
    "\n",
    "from PIL import Image, ImageFile\n",
    "from typing import Union\n",
    "\n",
    "ImageFile.LOAD_TRUNCATED_IMAGES = True\n",
    "\n",
    "def breaker(num: int = 50, char: str = \"*\") -> None: print(\"\\n\" + num*char + \"\\n\")"
   ]
  },
  {
   "cell_type": "code",
   "execution_count": 2,
   "id": "ef89db99",
   "metadata": {
    "execution": {
     "iopub.execute_input": "2022-11-03T13:10:38.047802Z",
     "iopub.status.busy": "2022-11-03T13:10:38.046939Z",
     "iopub.status.idle": "2022-11-03T13:10:38.065669Z",
     "shell.execute_reply": "2022-11-03T13:10:38.064683Z"
    },
    "papermill": {
     "duration": 0.024501,
     "end_time": "2022-11-03T13:10:38.068077",
     "exception": false,
     "start_time": "2022-11-03T13:10:38.043576",
     "status": "completed"
    },
    "tags": []
   },
   "outputs": [],
   "source": [
    "def get_image(path: str, size: int=224) -> np.ndarray:\n",
    "    image = cv2.imread(path, cv2.IMREAD_COLOR)\n",
    "    if image is None: \n",
    "        image = np.asarray(Image.open(path))\n",
    "        if len(image.shape) == 2:\n",
    "            image = np.concatenate((\n",
    "                np.expand_dims(image, axis=2),\n",
    "                np.expand_dims(image, axis=2),\n",
    "                np.expand_dims(image, axis=2),\n",
    "            ), axis=2)\n",
    "    image = cv2.cvtColor(src=image, code=cv2.COLOR_BGR2RGB)\n",
    "    return cv2.resize(src=image, dsize=(size, size), interpolation=cv2.INTER_AREA)\n",
    "\n",
    "\n",
    "def get_statistics(filepaths: np.ndarray) -> dict:\n",
    "\n",
    "    sizes: list = [224, 384, 512]\n",
    "    stats: dict = dict()\n",
    "    means: dict = dict()\n",
    "    stds: dict  = dict()\n",
    "        \n",
    "    for size in sizes:\n",
    "        total_num_of_images: int = 0\n",
    "        r_mean, g_mean, b_mean, r_std, g_std, b_std = 0.0, 0.0, 0.0, 0.0, 0.0, 0.0\n",
    "        for filepath in filepaths:\n",
    "            image = get_image(filepath, size)\n",
    "            r_mean += image[:, :, 0].mean()\n",
    "            g_mean += image[:, :, 1].mean()\n",
    "            b_mean += image[:, :, 2].mean()\n",
    "            r_std += image[:, :, 0].std()\n",
    "            g_std += image[:, :, 1].std()\n",
    "            b_std += image[:, :, 2].std()\n",
    "            total_num_of_images += 1\n",
    "        \n",
    "        means[f\"{size}\"] = [\n",
    "            r_mean / total_num_of_images / 255, \n",
    "            g_mean / total_num_of_images / 255, \n",
    "            b_mean / total_num_of_images / 255,\n",
    "        ]\n",
    "        \n",
    "        stds[f\"{size}\"]  = [\n",
    "            r_std / total_num_of_images / 255, \n",
    "            g_std / total_num_of_images / 255, \n",
    "            b_std / total_num_of_images / 255,\n",
    "            ]\n",
    "    \n",
    "    stats[\"means\"] = means\n",
    "    stats[\"stds\"] = stds\n",
    "    \n",
    "    return stats\n",
    "\n",
    "\n",
    "def print_statistics(stats: dict) -> None:\n",
    "    breaker()\n",
    "    print(\"Means\".upper())\n",
    "    breaker()\n",
    "    for k, v in stats[\"means\"].items():\n",
    "        print(f\"{k} x {k} Means\\n\")\n",
    "        for i in range(len(v)):\n",
    "            if i == 0:\n",
    "                print(f\"Red   : {v[i]:.5f}\")\n",
    "            if i == 1:\n",
    "                print(f\"Green : {v[i]:.5f}\")\n",
    "            if i == 2:\n",
    "                print(f\"Blue  : {v[i]:.5f}\")\n",
    "        breaker()\n",
    "    \n",
    "    breaker()\n",
    "    print(\"Stds\".upper())\n",
    "    breaker()\n",
    "    for k, v in stats[\"stds\"].items():\n",
    "        print(f\"{k} x {k} Stds\\n\")\n",
    "        for i in range(len(v)):\n",
    "            if i == 0:\n",
    "                print(f\"Red   : {v[i]:.5f}\")\n",
    "            if i == 1:\n",
    "                print(f\"Green : {v[i]:.5f}\")\n",
    "            if i == 2:\n",
    "                print(f\"Blue  : {v[i]:.5f}\")\n",
    "        breaker() "
   ]
  },
  {
   "cell_type": "code",
   "execution_count": 3,
   "id": "b5593c11",
   "metadata": {
    "execution": {
     "iopub.execute_input": "2022-11-03T13:10:38.074609Z",
     "iopub.status.busy": "2022-11-03T13:10:38.073433Z",
     "iopub.status.idle": "2022-11-03T13:28:20.191617Z",
     "shell.execute_reply": "2022-11-03T13:28:20.189602Z"
    },
    "papermill": {
     "duration": 1062.123631,
     "end_time": "2022-11-03T13:28:20.193862",
     "exception": false,
     "start_time": "2022-11-03T13:10:38.070231",
     "status": "completed"
    },
    "tags": []
   },
   "outputs": [
    {
     "name": "stderr",
     "output_type": "stream",
     "text": [
      "libpng error: Read Error\n",
      "libpng error: Read Error\n",
      "libpng error: Read Error\n"
     ]
    },
    {
     "name": "stdout",
     "output_type": "stream",
     "text": [
      "\n",
      "**************************************************\n",
      "\n",
      "MEANS\n",
      "\n",
      "**************************************************\n",
      "\n",
      "224 x 224 Means\n",
      "\n",
      "Red   : 0.45381\n",
      "Green : 0.47843\n",
      "Blue  : 0.41040\n",
      "\n",
      "**************************************************\n",
      "\n",
      "384 x 384 Means\n",
      "\n",
      "Red   : 0.45411\n",
      "Green : 0.47874\n",
      "Blue  : 0.41071\n",
      "\n",
      "**************************************************\n",
      "\n",
      "512 x 512 Means\n",
      "\n",
      "Red   : 0.45376\n",
      "Green : 0.47839\n",
      "Blue  : 0.41036\n",
      "\n",
      "**************************************************\n",
      "\n",
      "\n",
      "**************************************************\n",
      "\n",
      "STDS\n",
      "\n",
      "**************************************************\n",
      "\n",
      "224 x 224 Stds\n",
      "\n",
      "Red   : 0.17084\n",
      "Green : 0.15645\n",
      "Blue  : 0.18221\n",
      "\n",
      "**************************************************\n",
      "\n",
      "384 x 384 Stds\n",
      "\n",
      "Red   : 0.17396\n",
      "Green : 0.15995\n",
      "Blue  : 0.18505\n",
      "\n",
      "**************************************************\n",
      "\n",
      "512 x 512 Stds\n",
      "\n",
      "Red   : 0.17673\n",
      "Green : 0.16305\n",
      "Blue  : 0.18757\n",
      "\n",
      "**************************************************\n",
      "\n"
     ]
    }
   ],
   "source": [
    "df = pd.read_csv(\"../input/td-dataframe/full.csv\")\n",
    "\n",
    "stats = get_statistics(df.filepaths.copy().values)\n",
    "print_statistics(stats)"
   ]
  },
  {
   "cell_type": "code",
   "execution_count": null,
   "id": "3cc9676c",
   "metadata": {
    "papermill": {
     "duration": 0.002063,
     "end_time": "2022-11-03T13:28:20.198296",
     "exception": false,
     "start_time": "2022-11-03T13:28:20.196233",
     "status": "completed"
    },
    "tags": []
   },
   "outputs": [],
   "source": []
  }
 ],
 "metadata": {
  "kernelspec": {
   "display_name": "Python 3",
   "language": "python",
   "name": "python3"
  },
  "language_info": {
   "codemirror_mode": {
    "name": "ipython",
    "version": 3
   },
   "file_extension": ".py",
   "mimetype": "text/x-python",
   "name": "python",
   "nbconvert_exporter": "python",
   "pygments_lexer": "ipython3",
   "version": "3.7.12"
  },
  "papermill": {
   "default_parameters": {},
   "duration": 1071.628948,
   "end_time": "2022-11-03T13:28:20.924122",
   "environment_variables": {},
   "exception": null,
   "input_path": "__notebook__.ipynb",
   "output_path": "__notebook__.ipynb",
   "parameters": {},
   "start_time": "2022-11-03T13:10:29.295174",
   "version": "2.3.4"
  }
 },
 "nbformat": 4,
 "nbformat_minor": 5
}
