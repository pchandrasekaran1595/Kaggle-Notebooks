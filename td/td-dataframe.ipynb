{
 "cells": [
  {
   "cell_type": "code",
   "execution_count": 1,
   "id": "3ed6e018",
   "metadata": {
    "_cell_guid": "b1076dfc-b9ad-4769-8c92-a6c4dae69d19",
    "_uuid": "8f2839f25d086af736a60e9eeb907d3b93b6e0e5",
    "execution": {
     "iopub.execute_input": "2022-11-03T04:55:42.771804Z",
     "iopub.status.busy": "2022-11-03T04:55:42.771304Z",
     "iopub.status.idle": "2022-11-03T04:55:42.782850Z",
     "shell.execute_reply": "2022-11-03T04:55:42.781942Z"
    },
    "papermill": {
     "duration": 0.018889,
     "end_time": "2022-11-03T04:55:42.785238",
     "exception": false,
     "start_time": "2022-11-03T04:55:42.766349",
     "status": "completed"
    },
    "tags": []
   },
   "outputs": [],
   "source": [
    "import os\n",
    "import numpy as np\n",
    "import pandas as pd\n",
    "\n",
    "BASE_PATH: str = \"../input/tomato-disease-multiple-sources\"\n",
    "    \n",
    "LABELS_DICT = {\n",
    "    0 : \"Bacterial Spot\",\n",
    "    1 : \"Early Blight\",\n",
    "    2 : \"Late Blight\",\n",
    "    3 : \"Leaf Mold\",\n",
    "    4 : \"Septoria Leaf Spot\",\n",
    "    5 : \"Spider Mites, Two Spotted Spider Mite\",\n",
    "    6 : \"Target Spot\",\n",
    "    7 : \"Tomato Yellow Leaf Curl Virus\",\n",
    "    8 : \"Tomato Mosaic Virus\",\n",
    "    9 : \"Healthy\",\n",
    "    10 : \"Powdert Mildew\",\n",
    "}"
   ]
  },
  {
   "cell_type": "code",
   "execution_count": 2,
   "id": "721f82c4",
   "metadata": {
    "execution": {
     "iopub.execute_input": "2022-11-03T04:55:42.791287Z",
     "iopub.status.busy": "2022-11-03T04:55:42.790928Z",
     "iopub.status.idle": "2022-11-03T04:55:42.804316Z",
     "shell.execute_reply": "2022-11-03T04:55:42.803309Z"
    },
    "papermill": {
     "duration": 0.018698,
     "end_time": "2022-11-03T04:55:42.806412",
     "exception": false,
     "start_time": "2022-11-03T04:55:42.787714",
     "status": "completed"
    },
    "tags": []
   },
   "outputs": [],
   "source": [
    "tr_df = pd.DataFrame(data=None, columns=[\"filepaths\", \"labels\"])\n",
    "ts_df = pd.DataFrame(data=None, columns=[\"filepaths\", \"labels\"])"
   ]
  },
  {
   "cell_type": "code",
   "execution_count": 3,
   "id": "5516d525",
   "metadata": {
    "execution": {
     "iopub.execute_input": "2022-11-03T04:55:42.812023Z",
     "iopub.status.busy": "2022-11-03T04:55:42.811655Z",
     "iopub.status.idle": "2022-11-03T04:55:47.084975Z",
     "shell.execute_reply": "2022-11-03T04:55:47.083953Z"
    },
    "papermill": {
     "duration": 4.279276,
     "end_time": "2022-11-03T04:55:47.087769",
     "exception": false,
     "start_time": "2022-11-03T04:55:42.808493",
     "status": "completed"
    },
    "tags": []
   },
   "outputs": [],
   "source": [
    "folders: list = sorted(os.listdir(f\"{BASE_PATH}/train\"))\n",
    "filepaths: list = []\n",
    "labels: list = []\n",
    "\n",
    "i: int = 0\n",
    "for folder in folders:\n",
    "    for filename in os.listdir(f\"{BASE_PATH}/train/{folder}\"):\n",
    "        filepaths.append(f\"{BASE_PATH}/train/{folder}/{filename}\")\n",
    "        labels.append(i)\n",
    "    i += 1\n",
    "\n",
    "tr_df.filepaths = filepaths\n",
    "tr_df.labels = labels\n",
    "tr_df.to_csv(\"train.csv\", index=False)"
   ]
  },
  {
   "cell_type": "code",
   "execution_count": 4,
   "id": "f11a93b5",
   "metadata": {
    "execution": {
     "iopub.execute_input": "2022-11-03T04:55:47.093983Z",
     "iopub.status.busy": "2022-11-03T04:55:47.093623Z",
     "iopub.status.idle": "2022-11-03T04:55:49.845635Z",
     "shell.execute_reply": "2022-11-03T04:55:49.844654Z"
    },
    "papermill": {
     "duration": 2.758046,
     "end_time": "2022-11-03T04:55:49.848117",
     "exception": false,
     "start_time": "2022-11-03T04:55:47.090071",
     "status": "completed"
    },
    "tags": []
   },
   "outputs": [],
   "source": [
    "folders: list = sorted(os.listdir(f\"{BASE_PATH}/valid\"))\n",
    "filepaths: list = []\n",
    "labels: list = []\n",
    "\n",
    "i: int = 0\n",
    "for folder in folders:\n",
    "    for filename in os.listdir(f\"{BASE_PATH}/valid/{folder}\"):\n",
    "        filepaths.append(f\"{BASE_PATH}/valid/{folder}/{filename}\")\n",
    "        labels.append(i)\n",
    "    i += 1\n",
    "\n",
    "ts_df.filepaths = filepaths\n",
    "ts_df.labels = labels\n",
    "ts_df.to_csv(\"test.csv\", index=False)"
   ]
  }
 ],
 "metadata": {
  "kernelspec": {
   "display_name": "Python 3",
   "language": "python",
   "name": "python3"
  },
  "language_info": {
   "codemirror_mode": {
    "name": "ipython",
    "version": 3
   },
   "file_extension": ".py",
   "mimetype": "text/x-python",
   "name": "python",
   "nbconvert_exporter": "python",
   "pygments_lexer": "ipython3",
   "version": "3.7.12"
  },
  "papermill": {
   "default_parameters": {},
   "duration": 15.93671,
   "end_time": "2022-11-03T04:55:50.472253",
   "environment_variables": {},
   "exception": null,
   "input_path": "__notebook__.ipynb",
   "output_path": "__notebook__.ipynb",
   "parameters": {},
   "start_time": "2022-11-03T04:55:34.535543",
   "version": "2.3.4"
  }
 },
 "nbformat": 4,
 "nbformat_minor": 5
}
