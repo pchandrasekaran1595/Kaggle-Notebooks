{
 "cells": [
  {
   "cell_type": "code",
   "execution_count": 1,
   "id": "39bdc5c3",
   "metadata": {
    "_cell_guid": "b1076dfc-b9ad-4769-8c92-a6c4dae69d19",
    "_uuid": "8f2839f25d086af736a60e9eeb907d3b93b6e0e5",
    "execution": {
     "iopub.execute_input": "2022-11-03T05:29:56.919515Z",
     "iopub.status.busy": "2022-11-03T05:29:56.918724Z",
     "iopub.status.idle": "2022-11-03T05:29:56.932495Z",
     "shell.execute_reply": "2022-11-03T05:29:56.931092Z"
    },
    "papermill": {
     "duration": 0.021311,
     "end_time": "2022-11-03T05:29:56.935237",
     "exception": false,
     "start_time": "2022-11-03T05:29:56.913926",
     "status": "completed"
    },
    "tags": []
   },
   "outputs": [],
   "source": [
    "import os\n",
    "import numpy as np\n",
    "import pandas as pd\n",
    "\n",
    "BASE_PATH: str = \"../input/tomato-disease-multiple-sources\"\n",
    "    \n",
    "LABELS_DICT = {\n",
    "    0 : \"Bacterial Spot\",\n",
    "    1 : \"Early Blight\",\n",
    "    2 : \"Late Blight\",\n",
    "    3 : \"Leaf Mold\",\n",
    "    4 : \"Septoria Leaf Spot\",\n",
    "    5 : \"Spider Mites, Two Spotted Spider Mite\",\n",
    "    6 : \"Target Spot\",\n",
    "    7 : \"Tomato Yellow Leaf Curl Virus\",\n",
    "    8 : \"Tomato Mosaic Virus\",\n",
    "    9 : \"Healthy\",\n",
    "    10 : \"Powdert Mildew\",\n",
    "}"
   ]
  },
  {
   "cell_type": "code",
   "execution_count": 2,
   "id": "a3594866",
   "metadata": {
    "execution": {
     "iopub.execute_input": "2022-11-03T05:29:56.941562Z",
     "iopub.status.busy": "2022-11-03T05:29:56.941152Z",
     "iopub.status.idle": "2022-11-03T05:29:56.960303Z",
     "shell.execute_reply": "2022-11-03T05:29:56.959376Z"
    },
    "papermill": {
     "duration": 0.024923,
     "end_time": "2022-11-03T05:29:56.962599",
     "exception": false,
     "start_time": "2022-11-03T05:29:56.937676",
     "status": "completed"
    },
    "tags": []
   },
   "outputs": [],
   "source": [
    "tr_df = pd.DataFrame(data=None, columns=[\"filepaths\", \"labels\"])\n",
    "ts_df = pd.DataFrame(data=None, columns=[\"filepaths\", \"labels\"])\n",
    "fu_df = pd.DataFrame(data=None, columns=[\"filepaths\", \"labels\"])"
   ]
  },
  {
   "cell_type": "code",
   "execution_count": 3,
   "id": "98599d75",
   "metadata": {
    "execution": {
     "iopub.execute_input": "2022-11-03T05:29:56.968124Z",
     "iopub.status.busy": "2022-11-03T05:29:56.967350Z",
     "iopub.status.idle": "2022-11-03T05:29:58.803221Z",
     "shell.execute_reply": "2022-11-03T05:29:58.802248Z"
    },
    "papermill": {
     "duration": 1.841023,
     "end_time": "2022-11-03T05:29:58.805664",
     "exception": false,
     "start_time": "2022-11-03T05:29:56.964641",
     "status": "completed"
    },
    "tags": []
   },
   "outputs": [],
   "source": [
    "folders: list = sorted(os.listdir(f\"{BASE_PATH}/train\"))\n",
    "train_filepaths: list = []\n",
    "train_labels: list = []\n",
    "\n",
    "i: int = 0\n",
    "for folder in folders:\n",
    "    for filename in os.listdir(f\"{BASE_PATH}/train/{folder}\"):\n",
    "        train_filepaths.append(f\"{BASE_PATH}/train/{folder}/{filename}\")\n",
    "        train_labels.append(i)\n",
    "    i += 1\n",
    "\n",
    "tr_df.filepaths = train_filepaths\n",
    "tr_df.labels = train_labels\n",
    "tr_df.to_csv(\"train.csv\", index=False)"
   ]
  },
  {
   "cell_type": "code",
   "execution_count": 4,
   "id": "79336246",
   "metadata": {
    "execution": {
     "iopub.execute_input": "2022-11-03T05:29:58.811206Z",
     "iopub.status.busy": "2022-11-03T05:29:58.810874Z",
     "iopub.status.idle": "2022-11-03T05:30:00.116020Z",
     "shell.execute_reply": "2022-11-03T05:30:00.114423Z"
    },
    "papermill": {
     "duration": 1.311417,
     "end_time": "2022-11-03T05:30:00.119184",
     "exception": false,
     "start_time": "2022-11-03T05:29:58.807767",
     "status": "completed"
    },
    "tags": []
   },
   "outputs": [],
   "source": [
    "folders: list = sorted(os.listdir(f\"{BASE_PATH}/valid\"))\n",
    "test_filepaths: list = []\n",
    "test_labels: list = []\n",
    "\n",
    "i: int = 0\n",
    "for folder in folders:\n",
    "    for filename in os.listdir(f\"{BASE_PATH}/valid/{folder}\"):\n",
    "        test_filepaths.append(f\"{BASE_PATH}/valid/{folder}/{filename}\")\n",
    "        test_labels.append(i)\n",
    "    i += 1\n",
    "\n",
    "ts_df.filepaths = test_filepaths\n",
    "ts_df.labels = test_labels\n",
    "ts_df.to_csv(\"test.csv\", index=False)"
   ]
  },
  {
   "cell_type": "code",
   "execution_count": 5,
   "id": "43d3fec7",
   "metadata": {
    "execution": {
     "iopub.execute_input": "2022-11-03T05:30:00.125347Z",
     "iopub.status.busy": "2022-11-03T05:30:00.124954Z",
     "iopub.status.idle": "2022-11-03T05:30:00.238078Z",
     "shell.execute_reply": "2022-11-03T05:30:00.236851Z"
    },
    "papermill": {
     "duration": 0.119769,
     "end_time": "2022-11-03T05:30:00.241171",
     "exception": false,
     "start_time": "2022-11-03T05:30:00.121402",
     "status": "completed"
    },
    "tags": []
   },
   "outputs": [],
   "source": [
    "fu_df.filepaths = train_filepaths + test_filepaths\n",
    "fu_df.labels = train_labels + test_labels\n",
    "fu_df.to_csv(\"full.csv\", index=False)"
   ]
  }
 ],
 "metadata": {
  "kernelspec": {
   "display_name": "Python 3",
   "language": "python",
   "name": "python3"
  },
  "language_info": {
   "codemirror_mode": {
    "name": "ipython",
    "version": 3
   },
   "file_extension": ".py",
   "mimetype": "text/x-python",
   "name": "python",
   "nbconvert_exporter": "python",
   "pygments_lexer": "ipython3",
   "version": "3.7.12"
  },
  "papermill": {
   "default_parameters": {},
   "duration": 11.818444,
   "end_time": "2022-11-03T05:30:00.966244",
   "environment_variables": {},
   "exception": null,
   "input_path": "__notebook__.ipynb",
   "output_path": "__notebook__.ipynb",
   "parameters": {},
   "start_time": "2022-11-03T05:29:49.147800",
   "version": "2.3.4"
  }
 },
 "nbformat": 4,
 "nbformat_minor": 5
}
