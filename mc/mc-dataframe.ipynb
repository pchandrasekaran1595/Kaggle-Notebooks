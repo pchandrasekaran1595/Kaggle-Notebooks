{
 "cells": [
  {
   "cell_type": "code",
   "execution_count": 1,
   "id": "72404f91",
   "metadata": {
    "_cell_guid": "b1076dfc-b9ad-4769-8c92-a6c4dae69d19",
    "_uuid": "8f2839f25d086af736a60e9eeb907d3b93b6e0e5",
    "execution": {
     "iopub.execute_input": "2022-10-02T11:35:57.712376Z",
     "iopub.status.busy": "2022-10-02T11:35:57.711383Z",
     "iopub.status.idle": "2022-10-02T11:35:57.725153Z",
     "shell.execute_reply": "2022-10-02T11:35:57.724017Z"
    },
    "papermill": {
     "duration": 0.021311,
     "end_time": "2022-10-02T11:35:57.727629",
     "exception": false,
     "start_time": "2022-10-02T11:35:57.706318",
     "status": "completed"
    },
    "tags": []
   },
   "outputs": [],
   "source": [
    "import pandas as pd"
   ]
  },
  {
   "cell_type": "code",
   "execution_count": 2,
   "id": "fd94e657",
   "metadata": {
    "execution": {
     "iopub.execute_input": "2022-10-02T11:35:57.733901Z",
     "iopub.status.busy": "2022-10-02T11:35:57.733406Z",
     "iopub.status.idle": "2022-10-02T11:35:57.753653Z",
     "shell.execute_reply": "2022-10-02T11:35:57.752338Z"
    },
    "papermill": {
     "duration": 0.026459,
     "end_time": "2022-10-02T11:35:57.756268",
     "exception": false,
     "start_time": "2022-10-02T11:35:57.729809",
     "status": "completed"
    },
    "tags": []
   },
   "outputs": [],
   "source": [
    "def preprocess(df: pd.DataFrame, columns: list) -> None:\n",
    "    df[\"class\"] = df[\"class\"].map({'e' : 0, 'p' : 1})\n",
    "    df[\"cap-shape\"] = df[\"cap-shape\"].map({'b' : 0, 'c' : 1, 'f' : 2, 'k' : 3, 's' : 4, 'x' : 5})\n",
    "    df[\"cap-surface\"] = df[\"cap-surface\"].map({'f' : 0, 'g' : 1, 's' : 2, 'y' : 3})\n",
    "    df[\"cap-color\"] = df[\"cap-color\"].map({'b' : 0, 'c' : 1, 'e' : 2, 'g' : 3, 'n' : 4, 'p' : 5, 'r' : 6, 'u' : 7, 'w' : 8, 'y' : 9})\n",
    "    df[\"bruises\"] = df[\"bruises\"].map({'f' : 0, 't' : 1})\n",
    "    df[\"odor\"] = df[\"odor\"].map({'a' : 0, 'c' : 1, 'f' : 2, 'l' : 3, 'm' : 4, 'n' : 5, 'p' : 6, 's' : 7, 'y' : 8})\n",
    "    df[\"gill-attachment\"] = df[\"gill-attachment\"].map({'a' : 0, 'f' : 1})\n",
    "    df[\"gill-spacing\"] = df[\"gill-spacing\"].map({'c' : 0, 'w' : 1})\n",
    "    df[\"gill-size\"] = df[\"gill-size\"].map({'b' : 0, 'n' : 1})\n",
    "    df[\"gill-color\"] = df[\"gill-color\"].map({'b' : 0, 'e' : 1, 'g' : 2, 'h' : 3, 'k' : 4, 'n' : 5, 'o' : 6, 'p' : 7, 'r' : 8, 'u' : 9, 'w' : 10, 'y' : 11})\n",
    "    df[\"stalk-shape\"] = df[\"stalk-shape\"].map({'e' : 0, 't' : 1})\n",
    "    df[\"stalk-root\"] = df[\"stalk-root\"].map({'?' : 0, 'b' : 1, 'c' : 2, 'e' : 3, 'r' : 4})\n",
    "    df[\"stalk-surface-above-ring\"] = df[\"stalk-surface-above-ring\"].map({'f' : 0, 'k' : 1, 's' : 2, 'y' : 3})\n",
    "    df[\"stalk-surface-below-ring\"] = df[\"stalk-surface-below-ring\"].map({'f' : 0, 'k' : 1, 's' : 2, 'y' : 3})\n",
    "    df[\"stalk-color-above-ring\"] = df[\"stalk-color-above-ring\"].map({'b' : 0, 'c' : 1, 'e' : 2, 'g' : 3, 'n' : 4, 'o' : 5, 'p' : 6, 'w' : 7, 'y' : 8})\n",
    "    df[\"stalk-color-below-ring\"] = df[\"stalk-color-below-ring\"].map({'b' : 0, 'c' : 1, 'e' : 2, 'g' : 3, 'n' : 4, 'o' : 5, 'p' : 6, 'w' : 7, 'y' : 8})\n",
    "    df[\"veil-type\"] = df[\"veil-type\"].map({'p' : 0, 'u' : 1})\n",
    "    df[\"veil-color\"] = df[\"veil-color\"].map({'n' : 0, 'o' : 1, 'w' : 2, 'y' : 3})\n",
    "    df[\"ring-number\"] = df[\"ring-number\"].map({'n' : 0, 'o' : 1, 't' : 2})\n",
    "    df[\"ring-type\"] = df[\"ring-type\"].map({'e' : 0, 'f' : 1, 'l' : 2, 'n' : 3, 'p' : 4})\n",
    "    df[\"spore-print-color\"] = df[\"spore-print-color\"].map({'b' : 0, 'h' : 1, 'k' : 2, 'n' : 3, 'o' : 4, 'r' : 5, 'r' : 6, 'u' : 7, 'w' : 8, 'y' : 9})\n",
    "    df[\"population\"] = df[\"population\"].map({'a' : 0, 'c' : 1, 'n' : 2, 's' : 3, 'v' : 4, 'y' : 5})\n",
    "    df[\"habitat\"] = df[\"habitat\"].map({'d' : 0, 'g' : 1, 'l' : 2, 'm' : 3, 'p' : 4, 'u' : 5, 'w' : 6})"
   ]
  },
  {
   "cell_type": "code",
   "execution_count": 3,
   "id": "f8ddb309",
   "metadata": {
    "execution": {
     "iopub.execute_input": "2022-10-02T11:35:57.762110Z",
     "iopub.status.busy": "2022-10-02T11:35:57.761725Z",
     "iopub.status.idle": "2022-10-02T11:35:57.909753Z",
     "shell.execute_reply": "2022-10-02T11:35:57.908282Z"
    },
    "papermill": {
     "duration": 0.15412,
     "end_time": "2022-10-02T11:35:57.912732",
     "exception": false,
     "start_time": "2022-10-02T11:35:57.758612",
     "status": "completed"
    },
    "tags": []
   },
   "outputs": [],
   "source": [
    "df = pd.read_csv(\"../input/mushroom-classification/mushrooms.csv\")\n",
    "preprocess(df, [col for col in df.columns])\n",
    "df.to_csv(\"mc-dataframe.csv\", index=False)"
   ]
  }
 ],
 "metadata": {
  "kernelspec": {
   "display_name": "Python 3",
   "language": "python",
   "name": "python3"
  },
  "language_info": {
   "codemirror_mode": {
    "name": "ipython",
    "version": 3
   },
   "file_extension": ".py",
   "mimetype": "text/x-python",
   "name": "python",
   "nbconvert_exporter": "python",
   "pygments_lexer": "ipython3",
   "version": "3.7.12"
  },
  "papermill": {
   "default_parameters": {},
   "duration": 10.515012,
   "end_time": "2022-10-02T11:35:58.637346",
   "environment_variables": {},
   "exception": null,
   "input_path": "__notebook__.ipynb",
   "output_path": "__notebook__.ipynb",
   "parameters": {},
   "start_time": "2022-10-02T11:35:48.122334",
   "version": "2.3.4"
  }
 },
 "nbformat": 4,
 "nbformat_minor": 5
}
