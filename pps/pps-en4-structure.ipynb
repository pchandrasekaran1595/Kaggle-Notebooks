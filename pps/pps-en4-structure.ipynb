{
 "cells": [
  {
   "cell_type": "code",
   "execution_count": 1,
   "id": "9746abbf",
   "metadata": {
    "_cell_guid": "b1076dfc-b9ad-4769-8c92-a6c4dae69d19",
    "_uuid": "8f2839f25d086af736a60e9eeb907d3b93b6e0e5",
    "execution": {
     "iopub.execute_input": "2022-12-18T13:39:49.133642Z",
     "iopub.status.busy": "2022-12-18T13:39:49.133083Z",
     "iopub.status.idle": "2022-12-18T13:40:05.631443Z",
     "shell.execute_reply": "2022-12-18T13:40:05.629239Z"
    },
    "papermill": {
     "duration": 16.508092,
     "end_time": "2022-12-18T13:40:05.637078",
     "exception": false,
     "start_time": "2022-12-18T13:39:49.128986",
     "status": "completed"
    },
    "tags": []
   },
   "outputs": [
    {
     "name": "stdout",
     "output_type": "stream",
     "text": [
      "\u001b[33mWARNING: Running pip as the 'root' user can result in broken permissions and conflicting behaviour with the system package manager. It is recommended to use a virtual environment instead: https://pip.pypa.io/warnings/venv\u001b[0m\u001b[33m\r\n",
      "\u001b[0m"
     ]
    }
   ],
   "source": [
    "!pip install timm -q"
   ]
  },
  {
   "cell_type": "code",
   "execution_count": 2,
   "id": "3fa7140c",
   "metadata": {
    "execution": {
     "iopub.execute_input": "2022-12-18T13:40:05.656238Z",
     "iopub.status.busy": "2022-12-18T13:40:05.655826Z",
     "iopub.status.idle": "2022-12-18T13:40:11.164617Z",
     "shell.execute_reply": "2022-12-18T13:40:11.162828Z"
    },
    "papermill": {
     "duration": 5.517211,
     "end_time": "2022-12-18T13:40:11.167775",
     "exception": false,
     "start_time": "2022-12-18T13:40:05.650564",
     "status": "completed"
    },
    "tags": []
   },
   "outputs": [],
   "source": [
    "import timm\n",
    "import torch\n",
    "\n",
    "class Model(torch.nn.Module):\n",
    "    def __init__(self):\n",
    "        super(Model, self).__init__()\n",
    "            \n",
    "        self.model = timm.create_model(model_name=\"efficientnet_b4\", pretrained=False)\n",
    "        self.model.classifier = torch.nn.Linear(in_features=self.model.classifier.in_features, out_features=1)\n",
    "\n",
    "    def forward(self, x):\n",
    "        return self.model(x)\n",
    "\n",
    "model = Model()\n",
    "torch.save(model, f\"model.pt\")"
   ]
  }
 ],
 "metadata": {
  "kernelspec": {
   "display_name": "Python 3",
   "language": "python",
   "name": "python3"
  },
  "language_info": {
   "codemirror_mode": {
    "name": "ipython",
    "version": 3
   },
   "file_extension": ".py",
   "mimetype": "text/x-python",
   "name": "python",
   "nbconvert_exporter": "python",
   "pygments_lexer": "ipython3",
   "version": "3.7.12"
  },
  "papermill": {
   "default_parameters": {},
   "duration": 30.995884,
   "end_time": "2022-12-18T13:40:12.192717",
   "environment_variables": {},
   "exception": null,
   "input_path": "__notebook__.ipynb",
   "output_path": "__notebook__.ipynb",
   "parameters": {},
   "start_time": "2022-12-18T13:39:41.196833",
   "version": "2.3.4"
  }
 },
 "nbformat": 4,
 "nbformat_minor": 5
}
