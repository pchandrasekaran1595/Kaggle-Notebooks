{
 "cells": [
  {
   "cell_type": "code",
   "execution_count": 1,
   "id": "81389c18",
   "metadata": {
    "_cell_guid": "b1076dfc-b9ad-4769-8c92-a6c4dae69d19",
    "_uuid": "8f2839f25d086af736a60e9eeb907d3b93b6e0e5",
    "execution": {
     "iopub.execute_input": "2022-12-18T20:16:36.188828Z",
     "iopub.status.busy": "2022-12-18T20:16:36.188307Z",
     "iopub.status.idle": "2022-12-18T20:16:46.994357Z",
     "shell.execute_reply": "2022-12-18T20:16:46.993175Z"
    },
    "papermill": {
     "duration": 10.812294,
     "end_time": "2022-12-18T20:16:46.996611",
     "exception": false,
     "start_time": "2022-12-18T20:16:36.184317",
     "status": "completed"
    },
    "tags": []
   },
   "outputs": [
    {
     "name": "stdout",
     "output_type": "stream",
     "text": [
      "\u001b[33mWARNING: Running pip as the 'root' user can result in broken permissions and conflicting behaviour with the system package manager. It is recommended to use a virtual environment instead: https://pip.pypa.io/warnings/venv\u001b[0m\u001b[33m\r\n",
      "\u001b[0m"
     ]
    }
   ],
   "source": [
    "!pip install timm -q"
   ]
  },
  {
   "cell_type": "code",
   "execution_count": 2,
   "id": "3ce19bde",
   "metadata": {
    "execution": {
     "iopub.execute_input": "2022-12-18T20:16:47.001506Z",
     "iopub.status.busy": "2022-12-18T20:16:47.001225Z",
     "iopub.status.idle": "2022-12-18T20:16:49.307813Z",
     "shell.execute_reply": "2022-12-18T20:16:49.306816Z"
    },
    "papermill": {
     "duration": 2.311568,
     "end_time": "2022-12-18T20:16:49.310154",
     "exception": false,
     "start_time": "2022-12-18T20:16:46.998586",
     "status": "completed"
    },
    "tags": []
   },
   "outputs": [],
   "source": [
    "import timm\n",
    "import torch\n",
    "import pickle"
   ]
  },
  {
   "cell_type": "code",
   "execution_count": 3,
   "id": "d650a90e",
   "metadata": {
    "execution": {
     "iopub.execute_input": "2022-12-18T20:16:49.315296Z",
     "iopub.status.busy": "2022-12-18T20:16:49.314876Z",
     "iopub.status.idle": "2022-12-18T20:16:49.320087Z",
     "shell.execute_reply": "2022-12-18T20:16:49.319196Z"
    },
    "papermill": {
     "duration": 0.009786,
     "end_time": "2022-12-18T20:16:49.321898",
     "exception": false,
     "start_time": "2022-12-18T20:16:49.312112",
     "status": "completed"
    },
    "tags": []
   },
   "outputs": [],
   "source": [
    "class Model(torch.nn.Module):\n",
    "    def __init__(self):\n",
    "        super(Model, self).__init__()\n",
    "            \n",
    "        self.model = timm.create_model(model_name=\"efficientnet_b4\", pretrained=False)\n",
    "        self.model.classifier = torch.nn.Linear(in_features=self.model.classifier.in_features, out_features=1)\n",
    "\n",
    "    def forward(self, x):\n",
    "        return self.model(x)"
   ]
  },
  {
   "cell_type": "code",
   "execution_count": 4,
   "id": "3e385d15",
   "metadata": {
    "execution": {
     "iopub.execute_input": "2022-12-18T20:16:49.326230Z",
     "iopub.status.busy": "2022-12-18T20:16:49.325987Z",
     "iopub.status.idle": "2022-12-18T20:16:49.909692Z",
     "shell.execute_reply": "2022-12-18T20:16:49.908573Z"
    },
    "papermill": {
     "duration": 0.588368,
     "end_time": "2022-12-18T20:16:49.911927",
     "exception": false,
     "start_time": "2022-12-18T20:16:49.323559",
     "status": "completed"
    },
    "tags": []
   },
   "outputs": [],
   "source": [
    "model = Model()\n",
    "torch.save(model, f\"model.pt\")\n",
    "\n",
    "with open(\"model.pkl\", \"wb\") as fp:\n",
    "    pickle.dump(model, fp)"
   ]
  }
 ],
 "metadata": {
  "kernelspec": {
   "display_name": "Python 3",
   "language": "python",
   "name": "python3"
  },
  "language_info": {
   "codemirror_mode": {
    "name": "ipython",
    "version": 3
   },
   "file_extension": ".py",
   "mimetype": "text/x-python",
   "name": "python",
   "nbconvert_exporter": "python",
   "pygments_lexer": "ipython3",
   "version": "3.7.12"
  },
  "papermill": {
   "default_parameters": {},
   "duration": 21.876063,
   "end_time": "2022-12-18T20:16:50.736733",
   "environment_variables": {},
   "exception": null,
   "input_path": "__notebook__.ipynb",
   "output_path": "__notebook__.ipynb",
   "parameters": {},
   "start_time": "2022-12-18T20:16:28.860670",
   "version": "2.3.4"
  }
 },
 "nbformat": 4,
 "nbformat_minor": 5
}
