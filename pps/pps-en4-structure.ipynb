{
 "cells": [
  {
   "cell_type": "code",
   "execution_count": 1,
   "id": "76dc2b14",
   "metadata": {
    "_cell_guid": "b1076dfc-b9ad-4769-8c92-a6c4dae69d19",
    "_uuid": "8f2839f25d086af736a60e9eeb907d3b93b6e0e5",
    "execution": {
     "iopub.execute_input": "2022-12-19T10:54:04.990603Z",
     "iopub.status.busy": "2022-12-19T10:54:04.989617Z",
     "iopub.status.idle": "2022-12-19T10:54:18.208669Z",
     "shell.execute_reply": "2022-12-19T10:54:18.207397Z"
    },
    "papermill": {
     "duration": 13.227855,
     "end_time": "2022-12-19T10:54:18.211766",
     "exception": false,
     "start_time": "2022-12-19T10:54:04.983911",
     "status": "completed"
    },
    "tags": []
   },
   "outputs": [
    {
     "name": "stdout",
     "output_type": "stream",
     "text": [
      "\u001b[33mWARNING: Running pip as the 'root' user can result in broken permissions and conflicting behaviour with the system package manager. It is recommended to use a virtual environment instead: https://pip.pypa.io/warnings/venv\u001b[0m\u001b[33m\r\n",
      "\u001b[0m"
     ]
    }
   ],
   "source": [
    "!pip install timm -q"
   ]
  },
  {
   "cell_type": "code",
   "execution_count": 2,
   "id": "2e122d7f",
   "metadata": {
    "execution": {
     "iopub.execute_input": "2022-12-19T10:54:18.220133Z",
     "iopub.status.busy": "2022-12-19T10:54:18.219314Z",
     "iopub.status.idle": "2022-12-19T10:54:19.253242Z",
     "shell.execute_reply": "2022-12-19T10:54:19.251975Z"
    },
    "papermill": {
     "duration": 1.040778,
     "end_time": "2022-12-19T10:54:19.255774",
     "exception": false,
     "start_time": "2022-12-19T10:54:18.214996",
     "status": "completed"
    },
    "tags": []
   },
   "outputs": [],
   "source": [
    "!touch main.py"
   ]
  },
  {
   "cell_type": "code",
   "execution_count": 3,
   "id": "e4202e29",
   "metadata": {
    "execution": {
     "iopub.execute_input": "2022-12-19T10:54:19.263326Z",
     "iopub.status.busy": "2022-12-19T10:54:19.262890Z",
     "iopub.status.idle": "2022-12-19T10:54:19.272946Z",
     "shell.execute_reply": "2022-12-19T10:54:19.271887Z"
    },
    "papermill": {
     "duration": 0.016469,
     "end_time": "2022-12-19T10:54:19.275096",
     "exception": false,
     "start_time": "2022-12-19T10:54:19.258627",
     "status": "completed"
    },
    "tags": []
   },
   "outputs": [],
   "source": [
    "with open(\"main.py\", \"w\") as fp:\n",
    "    fp.write(\"import sys\\n\")\n",
    "    fp.write(\"import timm\\n\")\n",
    "    fp.write(\"import torch\\n\")    \n",
    "    fp.write(\"import pickle\\n\")  \n",
    "    \n",
    "    fp.write(\"class Model(torch.nn.Module):\\n\")\n",
    "    fp.write(\"\\tdef __init__(self):\\n\")\n",
    "    fp.write(\"\\t\\tsuper(Model, self).__init__()\\n\") \n",
    "    fp.write(\"\\t\\tself.model = timm.create_model(model_name='efficientnet_b4', pretrained=False)\\n\")            \n",
    "    fp.write(\"\\t\\tself.model.classifier = torch.nn.Linear(in_features=self.model.classifier.in_features, out_features=1)\\n\")\n",
    "    fp.write(\"\\tdef forward(self, x):\\n\")\n",
    "    fp.write(\"\\t\\treturn self.model(x)\\n\")\n",
    "    \n",
    "    fp.write(\"def main():\\n\")\n",
    "    fp.write(\"\\tmodel = Model()\\n\") \n",
    "    fp.write(\"\\ttorch.save(model, 'model.pt')\\n\")\n",
    "    fp.write(\"\\twith open('model.pkl', 'wb') as fp:\\n\")\n",
    "    fp.write(\"\\t\\tpickle.dump(model, fp)\\n\")\n",
    "    \n",
    "    fp.write(\"if __name__ == '__main__':\\n\")\n",
    "    fp.write(\"\\tsys.exit(main() or 0)\\n\") "
   ]
  },
  {
   "cell_type": "code",
   "execution_count": 4,
   "id": "58001004",
   "metadata": {
    "execution": {
     "iopub.execute_input": "2022-12-19T10:54:19.282622Z",
     "iopub.status.busy": "2022-12-19T10:54:19.282247Z",
     "iopub.status.idle": "2022-12-19T10:54:25.359574Z",
     "shell.execute_reply": "2022-12-19T10:54:25.358239Z"
    },
    "papermill": {
     "duration": 6.084358,
     "end_time": "2022-12-19T10:54:25.362416",
     "exception": false,
     "start_time": "2022-12-19T10:54:19.278058",
     "status": "completed"
    },
    "tags": []
   },
   "outputs": [],
   "source": [
    "!python3 main.py"
   ]
  },
  {
   "cell_type": "code",
   "execution_count": 5,
   "id": "6b980437",
   "metadata": {
    "execution": {
     "iopub.execute_input": "2022-12-19T10:54:25.370090Z",
     "iopub.status.busy": "2022-12-19T10:54:25.369669Z",
     "iopub.status.idle": "2022-12-19T10:54:25.374347Z",
     "shell.execute_reply": "2022-12-19T10:54:25.373295Z"
    },
    "papermill": {
     "duration": 0.011305,
     "end_time": "2022-12-19T10:54:25.376681",
     "exception": false,
     "start_time": "2022-12-19T10:54:25.365376",
     "status": "completed"
    },
    "tags": []
   },
   "outputs": [],
   "source": [
    "# import timm\n",
    "# import torch\n",
    "# import pickle"
   ]
  },
  {
   "cell_type": "code",
   "execution_count": 6,
   "id": "2885aa03",
   "metadata": {
    "execution": {
     "iopub.execute_input": "2022-12-19T10:54:25.383633Z",
     "iopub.status.busy": "2022-12-19T10:54:25.383297Z",
     "iopub.status.idle": "2022-12-19T10:54:25.387656Z",
     "shell.execute_reply": "2022-12-19T10:54:25.386637Z"
    },
    "papermill": {
     "duration": 0.010334,
     "end_time": "2022-12-19T10:54:25.389783",
     "exception": false,
     "start_time": "2022-12-19T10:54:25.379449",
     "status": "completed"
    },
    "tags": []
   },
   "outputs": [],
   "source": [
    "# class Model(torch.nn.Module):\n",
    "#     def __init__(self):\n",
    "#         super(Model, self).__init__()\n",
    "            \n",
    "#         self.model = timm.create_model(model_name=\"efficientnet_b4\", pretrained=False)\n",
    "#         self.model.classifier = torch.nn.Linear(in_features=self.model.classifier.in_features, out_features=1)\n",
    "\n",
    "#     def forward(self, x):\n",
    "#         return self.model(x)"
   ]
  },
  {
   "cell_type": "code",
   "execution_count": 7,
   "id": "f010ee97",
   "metadata": {
    "execution": {
     "iopub.execute_input": "2022-12-19T10:54:25.396631Z",
     "iopub.status.busy": "2022-12-19T10:54:25.396286Z",
     "iopub.status.idle": "2022-12-19T10:54:25.400303Z",
     "shell.execute_reply": "2022-12-19T10:54:25.399300Z"
    },
    "papermill": {
     "duration": 0.010054,
     "end_time": "2022-12-19T10:54:25.402561",
     "exception": false,
     "start_time": "2022-12-19T10:54:25.392507",
     "status": "completed"
    },
    "tags": []
   },
   "outputs": [],
   "source": [
    "# model = Model()\n",
    "# torch.save(model, f\"model.pt\")\n",
    "\n",
    "# with open(\"model.pkl\", \"wb\") as fp:\n",
    "#     pickle.dump(model, fp)"
   ]
  }
 ],
 "metadata": {
  "kernelspec": {
   "display_name": "Python 3",
   "language": "python",
   "name": "python3"
  },
  "language_info": {
   "codemirror_mode": {
    "name": "ipython",
    "version": 3
   },
   "file_extension": ".py",
   "mimetype": "text/x-python",
   "name": "python",
   "nbconvert_exporter": "python",
   "pygments_lexer": "ipython3",
   "version": "3.7.12"
  },
  "papermill": {
   "default_parameters": {},
   "duration": 29.288434,
   "end_time": "2022-12-19T10:54:26.128101",
   "environment_variables": {},
   "exception": null,
   "input_path": "__notebook__.ipynb",
   "output_path": "__notebook__.ipynb",
   "parameters": {},
   "start_time": "2022-12-19T10:53:56.839667",
   "version": "2.3.4"
  }
 },
 "nbformat": 4,
 "nbformat_minor": 5
}
