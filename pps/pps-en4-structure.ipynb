{
 "cells": [
  {
   "cell_type": "code",
   "execution_count": 1,
   "id": "21b8377d",
   "metadata": {
    "_cell_guid": "b1076dfc-b9ad-4769-8c92-a6c4dae69d19",
    "_uuid": "8f2839f25d086af736a60e9eeb907d3b93b6e0e5",
    "execution": {
     "iopub.execute_input": "2022-12-18T13:35:37.089807Z",
     "iopub.status.busy": "2022-12-18T13:35:37.089251Z",
     "iopub.status.idle": "2022-12-18T13:35:52.723802Z",
     "shell.execute_reply": "2022-12-18T13:35:52.722326Z"
    },
    "papermill": {
     "duration": 15.642478,
     "end_time": "2022-12-18T13:35:52.726835",
     "exception": false,
     "start_time": "2022-12-18T13:35:37.084357",
     "status": "completed"
    },
    "tags": []
   },
   "outputs": [
    {
     "name": "stdout",
     "output_type": "stream",
     "text": [
      "\u001b[33mWARNING: Running pip as the 'root' user can result in broken permissions and conflicting behaviour with the system package manager. It is recommended to use a virtual environment instead: https://pip.pypa.io/warnings/venv\u001b[0m\u001b[33m\r\n",
      "\u001b[0m"
     ]
    }
   ],
   "source": [
    "!pip install timm -q"
   ]
  },
  {
   "cell_type": "code",
   "execution_count": 2,
   "id": "72db9665",
   "metadata": {
    "execution": {
     "iopub.execute_input": "2022-12-18T13:35:52.732794Z",
     "iopub.status.busy": "2022-12-18T13:35:52.732402Z",
     "iopub.status.idle": "2022-12-18T13:35:56.721637Z",
     "shell.execute_reply": "2022-12-18T13:35:56.720100Z"
    },
    "papermill": {
     "duration": 3.995667,
     "end_time": "2022-12-18T13:35:56.724669",
     "exception": false,
     "start_time": "2022-12-18T13:35:52.729002",
     "status": "completed"
    },
    "tags": []
   },
   "outputs": [],
   "source": [
    "import timm\n",
    "import torch\n",
    "\n",
    "model_name: str = \"efficientnet_b4\"\n",
    "\n",
    "timm_model = timm.create_model(model_name, pretrained=False)\n",
    "torch.save(timm_model, f\"{model_name}.pt\")"
   ]
  }
 ],
 "metadata": {
  "kernelspec": {
   "display_name": "Python 3",
   "language": "python",
   "name": "python3"
  },
  "language_info": {
   "codemirror_mode": {
    "name": "ipython",
    "version": 3
   },
   "file_extension": ".py",
   "mimetype": "text/x-python",
   "name": "python",
   "nbconvert_exporter": "python",
   "pygments_lexer": "ipython3",
   "version": "3.7.12"
  },
  "papermill": {
   "default_parameters": {},
   "duration": 29.589403,
   "end_time": "2022-12-18T13:35:57.750758",
   "environment_variables": {},
   "exception": null,
   "input_path": "__notebook__.ipynb",
   "output_path": "__notebook__.ipynb",
   "parameters": {},
   "start_time": "2022-12-18T13:35:28.161355",
   "version": "2.3.4"
  }
 },
 "nbformat": 4,
 "nbformat_minor": 5
}
