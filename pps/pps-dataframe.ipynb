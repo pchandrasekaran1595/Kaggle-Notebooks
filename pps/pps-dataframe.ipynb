{
 "cells": [
  {
   "cell_type": "code",
   "execution_count": 1,
   "id": "621d89f1",
   "metadata": {
    "_cell_guid": "b1076dfc-b9ad-4769-8c92-a6c4dae69d19",
    "_uuid": "8f2839f25d086af736a60e9eeb907d3b93b6e0e5",
    "execution": {
     "iopub.execute_input": "2022-12-16T23:47:58.386888Z",
     "iopub.status.busy": "2022-12-16T23:47:58.386263Z",
     "iopub.status.idle": "2022-12-16T23:47:58.650090Z",
     "shell.execute_reply": "2022-12-16T23:47:58.648940Z"
    },
    "papermill": {
     "duration": 0.271807,
     "end_time": "2022-12-16T23:47:58.652976",
     "exception": false,
     "start_time": "2022-12-16T23:47:58.381169",
     "status": "completed"
    },
    "tags": []
   },
   "outputs": [],
   "source": [
    "import os\n",
    "import cv2\n",
    "import json\n",
    "import numpy as np\n",
    "import pandas as pd\n",
    "\n",
    "BASE_PATH: str = \"/kaggle/input/petfinder-pawpularity-score\""
   ]
  },
  {
   "cell_type": "code",
   "execution_count": 2,
   "id": "e37fdc3b",
   "metadata": {
    "execution": {
     "iopub.execute_input": "2022-12-16T23:47:58.658899Z",
     "iopub.status.busy": "2022-12-16T23:47:58.658530Z",
     "iopub.status.idle": "2022-12-16T23:47:58.673598Z",
     "shell.execute_reply": "2022-12-16T23:47:58.672401Z"
    },
    "papermill": {
     "duration": 0.020693,
     "end_time": "2022-12-16T23:47:58.675922",
     "exception": false,
     "start_time": "2022-12-16T23:47:58.655229",
     "status": "completed"
    },
    "tags": []
   },
   "outputs": [],
   "source": [
    "tr_df: pd.DataFrame = pd.DataFrame(data=None, columns=[\"filepaths\", \"labels\"])\n",
    "ts_df: pd.DataFrame = pd.DataFrame(data=None, columns=[\"filepaths\"])"
   ]
  },
  {
   "cell_type": "code",
   "execution_count": 3,
   "id": "8909013a",
   "metadata": {
    "execution": {
     "iopub.execute_input": "2022-12-16T23:47:58.681335Z",
     "iopub.status.busy": "2022-12-16T23:47:58.680940Z",
     "iopub.status.idle": "2022-12-16T23:47:59.361204Z",
     "shell.execute_reply": "2022-12-16T23:47:59.359808Z"
    },
    "papermill": {
     "duration": 0.685968,
     "end_time": "2022-12-16T23:47:59.363902",
     "exception": false,
     "start_time": "2022-12-16T23:47:58.677934",
     "status": "completed"
    },
    "tags": []
   },
   "outputs": [],
   "source": [
    "tr_data = pd.read_csv(f\"{BASE_PATH}/train.csv\")\n",
    "\n",
    "filepaths: list = []\n",
    "labels: list = []\n",
    "\n",
    "i: int = 0    \n",
    "for i in range(len(tr_data)):\n",
    "    filepaths.append(f\"{BASE_PATH}/train/{tr_data.iloc[i, 0]} + .jpg\")\n",
    "    labels.append(tr_data.iloc[i, -1])\n",
    "    i += 1\n",
    "\n",
    "tr_df.filepaths = filepaths\n",
    "tr_df.labels = labels\n",
    "tr_df.to_csv(\"train.csv\", index=False)"
   ]
  },
  {
   "cell_type": "code",
   "execution_count": 4,
   "id": "193516ac",
   "metadata": {
    "execution": {
     "iopub.execute_input": "2022-12-16T23:47:59.373943Z",
     "iopub.status.busy": "2022-12-16T23:47:59.373461Z",
     "iopub.status.idle": "2022-12-16T23:47:59.389793Z",
     "shell.execute_reply": "2022-12-16T23:47:59.388439Z"
    },
    "papermill": {
     "duration": 0.023762,
     "end_time": "2022-12-16T23:47:59.392671",
     "exception": false,
     "start_time": "2022-12-16T23:47:59.368909",
     "status": "completed"
    },
    "tags": []
   },
   "outputs": [],
   "source": [
    "ts_data = pd.read_csv(f\"{BASE_PATH}/sample_submission.csv\")\n",
    "\n",
    "filepaths: list = []\n",
    "\n",
    "i: int = 0    \n",
    "for i in range(len(ts_data)):\n",
    "    filepaths.append(f\"{BASE_PATH}/test/{ts_data.iloc[i, 0]}\")\n",
    "    i += 1\n",
    "\n",
    "ts_df.filepaths = filepaths\n",
    "ts_df.to_csv(\"test.csv\", index=False)"
   ]
  }
 ],
 "metadata": {
  "kernelspec": {
   "display_name": "Python 3",
   "language": "python",
   "name": "python3"
  },
  "language_info": {
   "codemirror_mode": {
    "name": "ipython",
    "version": 3
   },
   "file_extension": ".py",
   "mimetype": "text/x-python",
   "name": "python",
   "nbconvert_exporter": "python",
   "pygments_lexer": "ipython3",
   "version": "3.7.12"
  },
  "papermill": {
   "default_parameters": {},
   "duration": 10.334257,
   "end_time": "2022-12-16T23:48:00.117357",
   "environment_variables": {},
   "exception": null,
   "input_path": "__notebook__.ipynb",
   "output_path": "__notebook__.ipynb",
   "parameters": {},
   "start_time": "2022-12-16T23:47:49.783100",
   "version": "2.3.4"
  }
 },
 "nbformat": 4,
 "nbformat_minor": 5
}
