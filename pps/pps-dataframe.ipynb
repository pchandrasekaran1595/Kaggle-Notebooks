{
 "cells": [
  {
   "cell_type": "code",
   "execution_count": 1,
   "id": "d93fcff2",
   "metadata": {
    "_cell_guid": "b1076dfc-b9ad-4769-8c92-a6c4dae69d19",
    "_uuid": "8f2839f25d086af736a60e9eeb907d3b93b6e0e5",
    "execution": {
     "iopub.execute_input": "2022-12-16T23:49:46.941198Z",
     "iopub.status.busy": "2022-12-16T23:49:46.940673Z",
     "iopub.status.idle": "2022-12-16T23:49:47.178935Z",
     "shell.execute_reply": "2022-12-16T23:49:47.177697Z"
    },
    "papermill": {
     "duration": 0.246653,
     "end_time": "2022-12-16T23:49:47.182246",
     "exception": false,
     "start_time": "2022-12-16T23:49:46.935593",
     "status": "completed"
    },
    "tags": []
   },
   "outputs": [],
   "source": [
    "import os\n",
    "import cv2\n",
    "import json\n",
    "import numpy as np\n",
    "import pandas as pd\n",
    "\n",
    "BASE_PATH: str = \"/kaggle/input/petfinder-pawpularity-score\""
   ]
  },
  {
   "cell_type": "code",
   "execution_count": 2,
   "id": "14d9736b",
   "metadata": {
    "execution": {
     "iopub.execute_input": "2022-12-16T23:49:47.188512Z",
     "iopub.status.busy": "2022-12-16T23:49:47.188067Z",
     "iopub.status.idle": "2022-12-16T23:49:47.204635Z",
     "shell.execute_reply": "2022-12-16T23:49:47.203663Z"
    },
    "papermill": {
     "duration": 0.0224,
     "end_time": "2022-12-16T23:49:47.207092",
     "exception": false,
     "start_time": "2022-12-16T23:49:47.184692",
     "status": "completed"
    },
    "tags": []
   },
   "outputs": [],
   "source": [
    "tr_df: pd.DataFrame = pd.DataFrame(data=None, columns=[\"filepaths\", \"labels\"])\n",
    "ts_df: pd.DataFrame = pd.DataFrame(data=None, columns=[\"filepaths\"])"
   ]
  },
  {
   "cell_type": "code",
   "execution_count": 3,
   "id": "c9350669",
   "metadata": {
    "execution": {
     "iopub.execute_input": "2022-12-16T23:49:47.213649Z",
     "iopub.status.busy": "2022-12-16T23:49:47.212990Z",
     "iopub.status.idle": "2022-12-16T23:49:47.919005Z",
     "shell.execute_reply": "2022-12-16T23:49:47.917666Z"
    },
    "papermill": {
     "duration": 0.712828,
     "end_time": "2022-12-16T23:49:47.922157",
     "exception": false,
     "start_time": "2022-12-16T23:49:47.209329",
     "status": "completed"
    },
    "tags": []
   },
   "outputs": [],
   "source": [
    "tr_data = pd.read_csv(f\"{BASE_PATH}/train.csv\")\n",
    "\n",
    "filepaths: list = []\n",
    "labels: list = []\n",
    "\n",
    "i: int = 0    \n",
    "for i in range(len(tr_data)):\n",
    "    filepaths.append(f\"{BASE_PATH}/train/{tr_data.iloc[i, 0]}.jpg\")\n",
    "    labels.append(tr_data.iloc[i, -1])\n",
    "    i += 1\n",
    "\n",
    "tr_df.filepaths = filepaths\n",
    "tr_df.labels = labels\n",
    "tr_df.to_csv(\"train.csv\", index=False)"
   ]
  },
  {
   "cell_type": "code",
   "execution_count": 4,
   "id": "4bbfd094",
   "metadata": {
    "execution": {
     "iopub.execute_input": "2022-12-16T23:49:47.929233Z",
     "iopub.status.busy": "2022-12-16T23:49:47.928770Z",
     "iopub.status.idle": "2022-12-16T23:49:47.947439Z",
     "shell.execute_reply": "2022-12-16T23:49:47.945967Z"
    },
    "papermill": {
     "duration": 0.025999,
     "end_time": "2022-12-16T23:49:47.950780",
     "exception": false,
     "start_time": "2022-12-16T23:49:47.924781",
     "status": "completed"
    },
    "tags": []
   },
   "outputs": [],
   "source": [
    "ts_data = pd.read_csv(f\"{BASE_PATH}/sample_submission.csv\")\n",
    "\n",
    "filepaths: list = []\n",
    "\n",
    "i: int = 0    \n",
    "for i in range(len(ts_data)):\n",
    "    filepaths.append(f\"{BASE_PATH}/test/{ts_data.iloc[i, 0]}.jpg\")\n",
    "    i += 1\n",
    "\n",
    "ts_df.filepaths = filepaths\n",
    "ts_df.to_csv(\"test.csv\", index=False)"
   ]
  }
 ],
 "metadata": {
  "kernelspec": {
   "display_name": "Python 3",
   "language": "python",
   "name": "python3"
  },
  "language_info": {
   "codemirror_mode": {
    "name": "ipython",
    "version": 3
   },
   "file_extension": ".py",
   "mimetype": "text/x-python",
   "name": "python",
   "nbconvert_exporter": "python",
   "pygments_lexer": "ipython3",
   "version": "3.7.12"
  },
  "papermill": {
   "default_parameters": {},
   "duration": 13.50527,
   "end_time": "2022-12-16T23:49:48.877024",
   "environment_variables": {},
   "exception": null,
   "input_path": "__notebook__.ipynb",
   "output_path": "__notebook__.ipynb",
   "parameters": {},
   "start_time": "2022-12-16T23:49:35.371754",
   "version": "2.3.4"
  }
 },
 "nbformat": 4,
 "nbformat_minor": 5
}
