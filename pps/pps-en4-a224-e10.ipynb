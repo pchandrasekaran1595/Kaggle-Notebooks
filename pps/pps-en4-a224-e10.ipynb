{
 "cells": [
  {
   "cell_type": "markdown",
   "id": "338e4394",
   "metadata": {
    "_cell_guid": "b1076dfc-b9ad-4769-8c92-a6c4dae69d19",
    "_uuid": "8f2839f25d086af736a60e9eeb907d3b93b6e0e5",
    "papermill": {
     "duration": 0.007123,
     "end_time": "2022-12-17T06:55:45.091513",
     "exception": false,
     "start_time": "2022-12-17T06:55:45.084390",
     "status": "completed"
    },
    "tags": []
   },
   "source": [
    "### **Setup**"
   ]
  },
  {
   "cell_type": "code",
   "execution_count": 1,
   "id": "78af9fa9",
   "metadata": {
    "execution": {
     "iopub.execute_input": "2022-12-17T06:55:45.106547Z",
     "iopub.status.busy": "2022-12-17T06:55:45.105662Z",
     "iopub.status.idle": "2022-12-17T06:55:55.838548Z",
     "shell.execute_reply": "2022-12-17T06:55:55.837010Z"
    },
    "papermill": {
     "duration": 10.742173,
     "end_time": "2022-12-17T06:55:55.840990",
     "exception": false,
     "start_time": "2022-12-17T06:55:45.098817",
     "status": "completed"
    },
    "tags": []
   },
   "outputs": [
    {
     "name": "stderr",
     "output_type": "stream",
     "text": [
      "WARNING: Running pip as the 'root' user can result in broken permissions and conflicting behaviour with the system package manager. It is recommended to use a virtual environment instead: https://pip.pypa.io/warnings/venv\n"
     ]
    }
   ],
   "source": [
    "%%bash\n",
    "pip install timm -q"
   ]
  },
  {
   "cell_type": "markdown",
   "id": "60171646",
   "metadata": {
    "papermill": {
     "duration": 0.003642,
     "end_time": "2022-12-17T06:55:55.848469",
     "exception": false,
     "start_time": "2022-12-17T06:55:55.844827",
     "status": "completed"
    },
    "tags": []
   },
   "source": [
    "### **Library Imports**"
   ]
  },
  {
   "cell_type": "code",
   "execution_count": 2,
   "id": "36c23740",
   "metadata": {
    "execution": {
     "iopub.execute_input": "2022-12-17T06:55:55.857116Z",
     "iopub.status.busy": "2022-12-17T06:55:55.856754Z",
     "iopub.status.idle": "2022-12-17T06:55:59.677411Z",
     "shell.execute_reply": "2022-12-17T06:55:59.676217Z"
    },
    "papermill": {
     "duration": 3.828055,
     "end_time": "2022-12-17T06:55:59.680012",
     "exception": false,
     "start_time": "2022-12-17T06:55:55.851957",
     "status": "completed"
    },
    "tags": []
   },
   "outputs": [],
   "source": [
    "import os\n",
    "import re\n",
    "import cv2\n",
    "import timm\n",
    "import torch\n",
    "import numpy as np\n",
    "import pandas as pd\n",
    "import matplotlib.pyplot as plt\n",
    "\n",
    "from time import time\n",
    "from typing import Union\n",
    "from torch import nn, optim\n",
    "from torch.utils.data import Dataset\n",
    "from torch.utils.data import DataLoader as DL\n",
    "from torchvision import transforms\n",
    "\n",
    "from sklearn.model_selection import KFold\n",
    "from sklearn.preprocessing import StandardScaler"
   ]
  },
  {
   "cell_type": "markdown",
   "id": "fc564463",
   "metadata": {
    "papermill": {
     "duration": 0.003806,
     "end_time": "2022-12-17T06:55:59.687897",
     "exception": false,
     "start_time": "2022-12-17T06:55:59.684091",
     "status": "completed"
    },
    "tags": []
   },
   "source": [
    "### **Utilities and Helpers**"
   ]
  },
  {
   "cell_type": "code",
   "execution_count": 3,
   "id": "8b1be2a8",
   "metadata": {
    "execution": {
     "iopub.execute_input": "2022-12-17T06:55:59.697083Z",
     "iopub.status.busy": "2022-12-17T06:55:59.696506Z",
     "iopub.status.idle": "2022-12-17T06:55:59.710131Z",
     "shell.execute_reply": "2022-12-17T06:55:59.709279Z"
    },
    "papermill": {
     "duration": 0.020647,
     "end_time": "2022-12-17T06:55:59.712332",
     "exception": false,
     "start_time": "2022-12-17T06:55:59.691685",
     "status": "completed"
    },
    "tags": []
   },
   "outputs": [],
   "source": [
    "SEED: int = 42\n",
    "SIZE: int = 224\n",
    "\n",
    "\n",
    "def breaker(num: int=50, char: str=\"*\") -> None: print(\"\\n\" + num*char + \"\\n\")\n",
    "\n",
    "    \n",
    "def get_image(path: str, size: int=224) -> np.ndarray:\n",
    "    image = cv2.imread(path, cv2.IMREAD_COLOR)\n",
    "    image = cv2.cvtColor(src=image, code=cv2.COLOR_BGR2RGB)\n",
    "    return cv2.resize(src=image, dsize=(size, size), interpolation=cv2.INTER_AREA)\n",
    "\n",
    "    \n",
    "def show_loss_graphs(L: list) -> None:\n",
    "    TL, VL = [], []\n",
    "    for i in range(len(L)):\n",
    "        TL.append(L[i][\"train\"])\n",
    "        VL.append(L[i][\"valid\"])\n",
    "    x_Axis = np.arange(1, len(TL) + 1)\n",
    "    plt.figure()\n",
    "    plt.plot(x_Axis, TL, \"r\", label=\"Train\")\n",
    "    plt.plot(x_Axis, VL, \"b\", label=\"Valid\")\n",
    "    plt.legend()\n",
    "    plt.grid()\n",
    "    plt.title(\"Loss Graph\")\n",
    "    plt.show()\n",
    "\n",
    "    \n",
    "def show_accuracy_graphs(A: list) -> None:\n",
    "    TA, VA = [], []\n",
    "    for i in range(len(A)):\n",
    "        TA.append(A[i][\"train\"])\n",
    "        VA.append(A[i][\"valid\"])\n",
    "    x_Axis = np.arange(1, len(TA) + 1)\n",
    "    plt.figure()\n",
    "    plt.plot(x_Axis, TA, \"r\", label=\"Train\")\n",
    "    plt.plot(x_Axis, VA, \"b\", label=\"Valid\")\n",
    "    plt.legend()\n",
    "    plt.grid()\n",
    "    plt.title(\"Accuracy Graph\")\n",
    "    plt.show()\n",
    "    \n",
    "\n",
    "def show_lr_graph(LR: list) -> None:\n",
    "    x_Axis = [i+1 for i in range(len(LR))]\n",
    "    plt.figure(figsize=(8, 6))\n",
    "    plt.plot(x_Axis, LR, \"rx\")\n",
    "    plt.grid()\n",
    "    plt.show()"
   ]
  },
  {
   "cell_type": "markdown",
   "id": "429510f4",
   "metadata": {
    "papermill": {
     "duration": 0.003657,
     "end_time": "2022-12-17T06:55:59.720095",
     "exception": false,
     "start_time": "2022-12-17T06:55:59.716438",
     "status": "completed"
    },
    "tags": []
   },
   "source": [
    "\n",
    "\n",
    "### **Configuration**"
   ]
  },
  {
   "cell_type": "code",
   "execution_count": 4,
   "id": "2e12cfe9",
   "metadata": {
    "execution": {
     "iopub.execute_input": "2022-12-17T06:55:59.729551Z",
     "iopub.status.busy": "2022-12-17T06:55:59.728829Z",
     "iopub.status.idle": "2022-12-17T06:55:59.810547Z",
     "shell.execute_reply": "2022-12-17T06:55:59.809561Z"
    },
    "papermill": {
     "duration": 0.088895,
     "end_time": "2022-12-17T06:55:59.812733",
     "exception": false,
     "start_time": "2022-12-17T06:55:59.723838",
     "status": "completed"
    },
    "tags": []
   },
   "outputs": [],
   "source": [
    "class CFG(object):\n",
    "    def __init__(self, \n",
    "                 seed: int = 42,\n",
    "                 size: int = 224,\n",
    "                 n_splits: int = 5,\n",
    "                 batch_size: int = 16,\n",
    "                 epochs: int = 25,\n",
    "                 early_stopping: int = 5,\n",
    "                 lr: float = 1e-4,\n",
    "                 wd: float = 0.0,\n",
    "                 max_lr: float = 1e-3,\n",
    "                 pct_start: float = 0.2,\n",
    "                 steps_per_epoch: int = 100,\n",
    "                 div_factor: int = 1e3, \n",
    "                 final_div_factor: float = 1e3,\n",
    "                 ):\n",
    "        self.seed = seed\n",
    "        self.size = size\n",
    "        self.n_splits = n_splits\n",
    "        self.batch_size = batch_size\n",
    "        self.epochs = epochs\n",
    "        self.early_stopping = early_stopping\n",
    "        self.lr = lr\n",
    "        self.wd = wd\n",
    "        self.max_lr = max_lr\n",
    "        self.pct_start = pct_start\n",
    "        self.steps_per_epoch = steps_per_epoch\n",
    "        self.div_factor = div_factor\n",
    "        self.final_div_factor = final_div_factor\n",
    "        self.device = torch.device(\"cuda\" if torch.cuda.is_available() else \"cpu\")\n",
    "        \n",
    "        if self.size == 224:\n",
    "            self.train_transform = transforms.Compose([\n",
    "                transforms.ToTensor(),\n",
    "                transforms.Normalize([0.51876, 0.48398, 0.44619], [0.23359, 0.23201, 0.23240]),\n",
    "                transforms.RandomAffine(degrees=(-45, 45), translate=(0.15, 0.15), scale=(0.5, 1.5)),\n",
    "                transforms.RandomHorizontalFlip(p=0.25),\n",
    "                transforms.RandomVerticalFlip(p=0.25),\n",
    "            ])\n",
    "            self.valid_transform = transforms.Compose([\n",
    "                transforms.ToTensor(),\n",
    "                transforms.Normalize([0.51876, 0.48398, 0.44619], [0.23359, 0.23201, 0.23240]),\n",
    "            ])\n",
    "        \n",
    "        if self.size == 384:\n",
    "            self.train_transform = transforms.Compose([\n",
    "                transforms.ToTensor(),\n",
    "                transforms.Normalize([0.51876, 0.48398, 0.44618], [0.23544, 0.23389, 0.23425]),\n",
    "                transforms.RandomAffine(degrees=(-45, 45), translate=(0.15, 0.15), scale=(0.5, 1.5)),\n",
    "                transforms.RandomHorizontalFlip(p=0.25),\n",
    "                transforms.RandomVerticalFlip(p=0.25),\n",
    "            ])\n",
    "            self.valid_transform = transforms.Compose([\n",
    "                transforms.ToTensor(),\n",
    "                transforms.Normalize([0.51876, 0.48398, 0.44618], [0.23544, 0.23389, 0.23425]),\n",
    "            ])\n",
    "        \n",
    "        if self.size == 512:\n",
    "            self.train_transform = transforms.Compose([\n",
    "                transforms.ToTensor(),\n",
    "                transforms.Normalize([0.51872, 0.48394, 0.44614], [0.23612, 0.23458, 0.23943]),\n",
    "                transforms.RandomAffine(degrees=(-45, 45), translate=(0.15, 0.15), scale=(0.5, 1.5)),\n",
    "                transforms.RandomHorizontalFlip(p=0.25),\n",
    "                transforms.RandomVerticalFlip(p=0.25),\n",
    "            ])\n",
    "            self.valid_transform = transforms.Compose([\n",
    "                transforms.ToTensor(),\n",
    "                transforms.Normalize([0.51872, 0.48394, 0.44614], [0.23612, 0.23458, 0.23943]),\n",
    "            ])\n",
    "                                \n",
    "        self.save_path = \"saves\"\n",
    "        if not os.path.exists(self.save_path): os.makedirs(self.save_path)\n",
    "    \n",
    "cfg = CFG(\n",
    "    seed=SEED, \n",
    "    size=SIZE\n",
    ")"
   ]
  },
  {
   "cell_type": "markdown",
   "id": "ad868801",
   "metadata": {
    "papermill": {
     "duration": 0.003562,
     "end_time": "2022-12-17T06:55:59.820657",
     "exception": false,
     "start_time": "2022-12-17T06:55:59.817095",
     "status": "completed"
    },
    "tags": []
   },
   "source": [
    "### **Dataset Template**"
   ]
  },
  {
   "cell_type": "code",
   "execution_count": 5,
   "id": "92fd900c",
   "metadata": {
    "execution": {
     "iopub.execute_input": "2022-12-17T06:55:59.830067Z",
     "iopub.status.busy": "2022-12-17T06:55:59.829720Z",
     "iopub.status.idle": "2022-12-17T06:55:59.837616Z",
     "shell.execute_reply": "2022-12-17T06:55:59.836608Z"
    },
    "papermill": {
     "duration": 0.014947,
     "end_time": "2022-12-17T06:55:59.839583",
     "exception": false,
     "start_time": "2022-12-17T06:55:59.824636",
     "status": "completed"
    },
    "tags": []
   },
   "outputs": [],
   "source": [
    "class DS(Dataset):\n",
    "    def __init__(\n",
    "        self, \n",
    "        filepaths: np.ndarray, \n",
    "        size: int,\n",
    "        labels: Union[np.ndarray, None]=None, \n",
    "        transform=None\n",
    "    ):\n",
    "        \n",
    "        self.filepaths = filepaths\n",
    "        self.labels = labels\n",
    "        self.size = size\n",
    "        self.transform = transform\n",
    "    \n",
    "    def __len__(self):\n",
    "        return self.filepaths.shape[0]\n",
    "    \n",
    "    def __getitem__(self, idx):\n",
    "        image = get_image(self.filepaths[idx], self.size)\n",
    "        if self.labels is None:\n",
    "            return self.transform(image)\n",
    "        return self.transform(image), torch.FloatTensor(self.labels[idx])"
   ]
  },
  {
   "cell_type": "markdown",
   "id": "d6c13106",
   "metadata": {
    "papermill": {
     "duration": 0.003827,
     "end_time": "2022-12-17T06:55:59.847317",
     "exception": false,
     "start_time": "2022-12-17T06:55:59.843490",
     "status": "completed"
    },
    "tags": []
   },
   "source": [
    "### **Model**"
   ]
  },
  {
   "cell_type": "code",
   "execution_count": 6,
   "id": "3f78b24b",
   "metadata": {
    "execution": {
     "iopub.execute_input": "2022-12-17T06:55:59.856197Z",
     "iopub.status.busy": "2022-12-17T06:55:59.855765Z",
     "iopub.status.idle": "2022-12-17T06:55:59.862521Z",
     "shell.execute_reply": "2022-12-17T06:55:59.861614Z"
    },
    "papermill": {
     "duration": 0.013519,
     "end_time": "2022-12-17T06:55:59.864619",
     "exception": false,
     "start_time": "2022-12-17T06:55:59.851100",
     "status": "completed"
    },
    "tags": []
   },
   "outputs": [],
   "source": [
    "class Model(nn.Module):\n",
    "    def __init__(self):\n",
    "        super(Model, self).__init__()\n",
    "            \n",
    "        self.model = timm.create_model(model_name=\"efficientnet_b4\", pretrained=True)\n",
    "        self.model.classifier = nn.Linear(in_features=self.model.classifier.in_features, out_features=1)\n",
    "\n",
    "    def forward(self, x):\n",
    "        return self.model(x)"
   ]
  },
  {
   "cell_type": "markdown",
   "id": "0ba252f4",
   "metadata": {
    "papermill": {
     "duration": 0.003683,
     "end_time": "2022-12-17T06:55:59.872288",
     "exception": false,
     "start_time": "2022-12-17T06:55:59.868605",
     "status": "completed"
    },
    "tags": []
   },
   "source": [
    "### **Fit and Predict**"
   ]
  },
  {
   "cell_type": "code",
   "execution_count": 7,
   "id": "0cb52992",
   "metadata": {
    "execution": {
     "iopub.execute_input": "2022-12-17T06:55:59.882490Z",
     "iopub.status.busy": "2022-12-17T06:55:59.882115Z",
     "iopub.status.idle": "2022-12-17T06:55:59.903768Z",
     "shell.execute_reply": "2022-12-17T06:55:59.902697Z"
    },
    "papermill": {
     "duration": 0.02996,
     "end_time": "2022-12-17T06:55:59.906207",
     "exception": false,
     "start_time": "2022-12-17T06:55:59.876247",
     "status": "completed"
    },
    "tags": []
   },
   "outputs": [],
   "source": [
    "def fit(\n",
    "    model=None,\n",
    "    optimizer=None, \n",
    "    scheduler_rlrop=None,\n",
    "    scheduler_oclr=None,\n",
    "    epochs=None, \n",
    "    early_stopping_patience=None, \n",
    "    dataloaders=None, \n",
    "    fold=None, \n",
    "    save_path=None,\n",
    "    device=None,\n",
    "    verbose=False\n",
    ") -> tuple:    \n",
    "    \n",
    "    if verbose:\n",
    "        breaker()\n",
    "        if fold: print(f\"Training Fold {fold}...\")\n",
    "        else: print(\"Training ...\")\n",
    "        breaker()\n",
    "        \n",
    "    bestLoss: dict = {\"train\" : np.inf, \"valid\" : np.inf} \n",
    "    \n",
    "    Losses: list = []\n",
    "    LRs: list = []\n",
    "        \n",
    "    if fold: \n",
    "        ble_name = f\"ble_state_fold_{fold}.pt\"\n",
    "    else: \n",
    "        ble_name = f\"ble_state.pt\"\n",
    "        \n",
    "    start_time = time()\n",
    "    for e in range(epochs):\n",
    "        e_st = time()\n",
    "        epochLoss: dict = {\"train\" : 0.0, \"valid\" : 0.0} \n",
    "        epochAccs: dict = {\"train\" : 0.0, \"valid\" : 0.0}\n",
    "\n",
    "        for phase in [\"train\", \"valid\"]:\n",
    "            if phase == \"train\":\n",
    "                model.train()\n",
    "            else:\n",
    "                model.eval()\n",
    "            \n",
    "            lossPerPass: list = []\n",
    "                \n",
    "            for X, y in dataloaders[phase]:\n",
    "                X, y = X.to(device), y.to(device)\n",
    "\n",
    "                optimizer.zero_grad()\n",
    "                with torch.set_grad_enabled(phase == \"train\"):\n",
    "                    output = model(X)\n",
    "                    loss = nn.MSELoss()(output, y)\n",
    "                    if phase == \"train\":\n",
    "                        loss.backward()\n",
    "                        optimizer.step()\n",
    "                        if scheduler_oclr: scheduler_oclr.step()\n",
    "                lossPerPass.append(loss.item())\n",
    "            epochLoss[phase] = np.mean(np.array(lossPerPass))\n",
    "        if scheduler_oclr: LRs.append(scheduler_oclr.get_last_lr())\n",
    "        Losses.append(epochLoss)\n",
    "        \n",
    "        if scheduler_oclr:\n",
    "            save_dict = {\"model_state_dict\"     : model.state_dict(),\n",
    "                         \"optim_state_dict\"     : optimizer.state_dict(),\n",
    "                         \"scheduler_state_dict\" : scheduler_oclr.state_dict()}\n",
    "        \n",
    "        elif scheduler_rlrop:\n",
    "            save_dict = {\"model_state_dict\"     : model.state_dict(),\n",
    "                         \"optim_state_dict\"     : optimizer.state_dict(),\n",
    "                         \"scheduler_state_dict\" : scheduler_rlrop.state_dict()}\n",
    "        \n",
    "        else:\n",
    "            save_dict = {\"model_state_dict\"     : model.state_dict(),\n",
    "                         \"optim_state_dict\"     : optimizer.state_dict()}\n",
    "        \n",
    "        if early_stopping_patience:\n",
    "            if epochLoss[\"valid\"] < bestLoss[\"valid\"]:\n",
    "                bestLoss = epochLoss\n",
    "                BLE = e + 1\n",
    "                torch.save(save_dict, os.path.join(save_path, ble_name))\n",
    "                early_stopping_step = 0\n",
    "            else:\n",
    "                early_stopping_step += 1\n",
    "                if early_stopping_step > early_stopping_patience:\n",
    "                    print(\"\\nEarly Stopping at Epoch {}\".format(e + 1))\n",
    "                    break\n",
    "        \n",
    "        if epochLoss[\"valid\"] < bestLoss[\"valid\"]:\n",
    "            bestLoss = epochLoss\n",
    "            BLE = e + 1\n",
    "            torch.save(save_dict,os.path.join(save_path, ble_name))\n",
    "        \n",
    "        if scheduler_rlrop: scheduler_rlrop.step(epochLoss[\"valid\"])\n",
    "        \n",
    "        if verbose:\n",
    "            print(\"Epoch: {} | Train Loss: {:.5f} | Valid Loss: {:.5f} | Time: {:.2f} seconds\".format(e+1, epochLoss[\"train\"], epochLoss[\"valid\"], time()-e_st))\n",
    "\n",
    "    if verbose:                                           \n",
    "        breaker()\n",
    "        print(f\"Best Validation Loss at Epoch {BLE}\")\n",
    "        breaker()\n",
    "        print(\"Time Taken [{} Epochs] : {:.2f} minutes\".format(len(Losses), (time()-start_time)/60))\n",
    "    \n",
    "    return Losses, LRs, bestLoss, BLE, ble_name\n",
    "\n",
    "\n",
    "# def predict_batch(model=None, dataloader=None, path=None, device=None) -> np.ndarray:\n",
    "#     model.load_state_dict(torch.load(path, map_location=device)[\"model_state_dict\"])\n",
    "#     model.to(device)    \n",
    "#     model.eval()\n",
    "    \n",
    "#     y_pred = torch.zeros(1, 1).to(device)\n",
    "    \n",
    "#     for X in dataloader:\n",
    "#         X = X.to(device)\n",
    "#         with torch.no_grad():\n",
    "#             output = model(X)\n",
    "#         y_pred = torch.cat((y_pred, output.view(-1, 1)), dim=0)\n",
    "    \n",
    "#     return y_pred[1:].detach().cpu().numpy()"
   ]
  },
  {
   "cell_type": "markdown",
   "id": "17e02341",
   "metadata": {
    "papermill": {
     "duration": 0.005496,
     "end_time": "2022-12-17T06:55:59.916522",
     "exception": false,
     "start_time": "2022-12-17T06:55:59.911026",
     "status": "completed"
    },
    "tags": []
   },
   "source": [
    "### **Train**"
   ]
  },
  {
   "cell_type": "code",
   "execution_count": 8,
   "id": "49320aa1",
   "metadata": {
    "execution": {
     "iopub.execute_input": "2022-12-17T06:55:59.927844Z",
     "iopub.status.busy": "2022-12-17T06:55:59.926898Z",
     "iopub.status.idle": "2022-12-17T06:55:59.996328Z",
     "shell.execute_reply": "2022-12-17T06:55:59.995114Z"
    },
    "papermill": {
     "duration": 0.077545,
     "end_time": "2022-12-17T06:55:59.998769",
     "exception": false,
     "start_time": "2022-12-17T06:55:59.921224",
     "status": "completed"
    },
    "tags": []
   },
   "outputs": [],
   "source": [
    "df = pd.read_csv(\"/kaggle/input/pps-dataframe/train.csv\")\n",
    "\n",
    "filepaths = df.filepaths.copy().values\n",
    "labels = df.labels.copy().values"
   ]
  },
  {
   "cell_type": "code",
   "execution_count": 9,
   "id": "513554e7",
   "metadata": {
    "execution": {
     "iopub.execute_input": "2022-12-17T06:56:00.009165Z",
     "iopub.status.busy": "2022-12-17T06:56:00.008820Z",
     "iopub.status.idle": "2022-12-17T10:21:31.342417Z",
     "shell.execute_reply": "2022-12-17T10:21:31.341157Z"
    },
    "papermill": {
     "duration": 12331.3413,
     "end_time": "2022-12-17T10:21:31.344543",
     "exception": false,
     "start_time": "2022-12-17T06:56:00.003243",
     "status": "completed"
    },
    "tags": []
   },
   "outputs": [
    {
     "name": "stderr",
     "output_type": "stream",
     "text": [
      "Downloading: \"https://github.com/rwightman/pytorch-image-models/releases/download/v0.1-weights/efficientnet_b4_ra2_320-7eb33cd5.pth\" to /root/.cache/torch/hub/checkpoints/efficientnet_b4_ra2_320-7eb33cd5.pth\n"
     ]
    },
    {
     "name": "stdout",
     "output_type": "stream",
     "text": [
      "\n",
      "**************************************************\n",
      "\n",
      "Training Fold 1...\n",
      "\n",
      "**************************************************\n",
      "\n",
      "Epoch: 1 | Train Loss: 0.95973 | Valid Loss: 0.94193 | Time: 391.62 seconds\n",
      "Epoch: 2 | Train Loss: 0.86894 | Valid Loss: 0.92785 | Time: 281.26 seconds\n",
      "Epoch: 3 | Train Loss: 0.80364 | Valid Loss: 1.02820 | Time: 280.74 seconds\n",
      "Epoch: 4 | Train Loss: 0.72249 | Valid Loss: 0.96828 | Time: 281.32 seconds\n",
      "Epoch: 5 | Train Loss: 0.64492 | Valid Loss: 0.92003 | Time: 281.81 seconds\n",
      "Epoch: 6 | Train Loss: 0.53057 | Valid Loss: 0.98189 | Time: 287.31 seconds\n",
      "Epoch: 7 | Train Loss: 0.43033 | Valid Loss: 0.99012 | Time: 279.17 seconds\n",
      "Epoch: 8 | Train Loss: 0.36296 | Valid Loss: 0.98760 | Time: 285.09 seconds\n",
      "Epoch: 9 | Train Loss: 0.31360 | Valid Loss: 0.93738 | Time: 292.15 seconds\n",
      "Epoch: 10 | Train Loss: 0.29693 | Valid Loss: 0.95999 | Time: 283.45 seconds\n",
      "\n",
      "**************************************************\n",
      "\n",
      "Best Validation Loss at Epoch 5\n",
      "\n",
      "**************************************************\n",
      "\n",
      "Time Taken [10 Epochs] : 49.07 minutes\n",
      "\n",
      "**************************************************\n",
      "\n"
     ]
    },
    {
     "data": {
      "image/png": "[encoded data removed]",
      "text/plain": [
       "<Figure size 432x288 with 1 Axes>"
      ]
     },
     "metadata": {
      "needs_background": "light"
     },
     "output_type": "display_data"
    },
    {
     "name": "stdout",
     "output_type": "stream",
     "text": [
      "\n",
      "**************************************************\n",
      "\n"
     ]
    },
    {
     "data": {
      "image/png": "[encoded data removed]",
      "text/plain": [
       "<Figure size 576x432 with 1 Axes>"
      ]
     },
     "metadata": {
      "needs_background": "light"
     },
     "output_type": "display_data"
    },
    {
     "name": "stdout",
     "output_type": "stream",
     "text": [
      "\n",
      "**************************************************\n",
      "\n",
      "\n",
      "**************************************************\n",
      "\n",
      "Training Fold 2...\n",
      "\n",
      "**************************************************\n",
      "\n",
      "Epoch: 1 | Train Loss: 0.96274 | Valid Loss: 0.90949 | Time: 289.76 seconds\n",
      "Epoch: 2 | Train Loss: 0.87518 | Valid Loss: 0.88772 | Time: 287.11 seconds\n",
      "Epoch: 3 | Train Loss: 0.81308 | Valid Loss: 0.87837 | Time: 310.88 seconds\n",
      "Epoch: 4 | Train Loss: 0.72191 | Valid Loss: 0.84472 | Time: 280.98 seconds\n",
      "Epoch: 5 | Train Loss: 0.64185 | Valid Loss: 0.90024 | Time: 281.93 seconds\n",
      "Epoch: 6 | Train Loss: 0.54904 | Valid Loss: 0.98158 | Time: 282.64 seconds\n",
      "Epoch: 7 | Train Loss: 0.45121 | Valid Loss: 0.96395 | Time: 289.49 seconds\n",
      "Epoch: 8 | Train Loss: 0.36417 | Valid Loss: 0.95298 | Time: 282.43 seconds\n",
      "Epoch: 9 | Train Loss: 0.32437 | Valid Loss: 0.93305 | Time: 287.04 seconds\n",
      "\n",
      "Early Stopping at Epoch 10\n",
      "\n",
      "**************************************************\n",
      "\n",
      "Best Validation Loss at Epoch 4\n",
      "\n",
      "**************************************************\n",
      "\n",
      "Time Taken [10 Epochs] : 47.91 minutes\n",
      "\n",
      "**************************************************\n",
      "\n"
     ]
    },
    {
     "data": {
      "image/png": "[encoded data removed]",
      "text/plain": [
       "<Figure size 432x288 with 1 Axes>"
      ]
     },
     "metadata": {
      "needs_background": "light"
     },
     "output_type": "display_data"
    },
    {
     "name": "stdout",
     "output_type": "stream",
     "text": [
      "\n",
      "**************************************************\n",
      "\n"
     ]
    },
    {
     "data": {
      "image/png": "[encoded data removed]",
      "text/plain": [
       "<Figure size 576x432 with 1 Axes>"
      ]
     },
     "metadata": {
      "needs_background": "light"
     },
     "output_type": "display_data"
    },
    {
     "name": "stdout",
     "output_type": "stream",
     "text": [
      "\n",
      "**************************************************\n",
      "\n",
      "\n",
      "**************************************************\n",
      "\n",
      "Training Fold 3...\n",
      "\n",
      "**************************************************\n",
      "\n",
      "Epoch: 1 | Train Loss: 0.95977 | Valid Loss: 0.84512 | Time: 283.99 seconds\n",
      "Epoch: 2 | Train Loss: 0.87989 | Valid Loss: 0.83419 | Time: 284.54 seconds\n",
      "Epoch: 3 | Train Loss: 0.81369 | Valid Loss: 0.86141 | Time: 292.32 seconds\n",
      "Epoch: 4 | Train Loss: 0.73444 | Valid Loss: 0.87303 | Time: 284.07 seconds\n",
      "Epoch: 5 | Train Loss: 0.64081 | Valid Loss: 0.90514 | Time: 287.43 seconds\n",
      "Epoch: 6 | Train Loss: 0.54793 | Valid Loss: 0.87015 | Time: 283.76 seconds\n",
      "Epoch: 7 | Train Loss: 0.44445 | Valid Loss: 0.88617 | Time: 283.59 seconds\n",
      "\n",
      "Early Stopping at Epoch 8\n",
      "\n",
      "**************************************************\n",
      "\n",
      "Best Validation Loss at Epoch 2\n",
      "\n",
      "**************************************************\n",
      "\n",
      "Time Taken [8 Epochs] : 38.05 minutes\n",
      "\n",
      "**************************************************\n",
      "\n"
     ]
    },
    {
     "data": {
      "image/png": "[encoded data removed]",
      "text/plain": [
       "<Figure size 432x288 with 1 Axes>"
      ]
     },
     "metadata": {
      "needs_background": "light"
     },
     "output_type": "display_data"
    },
    {
     "name": "stdout",
     "output_type": "stream",
     "text": [
      "\n",
      "**************************************************\n",
      "\n"
     ]
    },
    {
     "data": {
      "image/png": "[encoded data removed]",
      "text/plain": [
       "<Figure size 576x432 with 1 Axes>"
      ]
     },
     "metadata": {
      "needs_background": "light"
     },
     "output_type": "display_data"
    },
    {
     "name": "stdout",
     "output_type": "stream",
     "text": [
      "\n",
      "**************************************************\n",
      "\n",
      "\n",
      "**************************************************\n",
      "\n",
      "Training Fold 4...\n",
      "\n",
      "**************************************************\n",
      "\n",
      "Epoch: 1 | Train Loss: 0.95611 | Valid Loss: 0.84632 | Time: 281.80 seconds\n",
      "Epoch: 2 | Train Loss: 0.86871 | Valid Loss: 0.88184 | Time: 280.29 seconds\n",
      "Epoch: 3 | Train Loss: 0.79614 | Valid Loss: 0.84762 | Time: 280.13 seconds\n",
      "Epoch: 4 | Train Loss: 0.71901 | Valid Loss: 0.86664 | Time: 281.26 seconds\n",
      "Epoch: 5 | Train Loss: 0.62414 | Valid Loss: 0.85856 | Time: 283.32 seconds\n",
      "Epoch: 6 | Train Loss: 0.52752 | Valid Loss: 0.89315 | Time: 280.03 seconds\n",
      "\n",
      "Early Stopping at Epoch 7\n",
      "\n",
      "**************************************************\n",
      "\n",
      "Best Validation Loss at Epoch 1\n",
      "\n",
      "**************************************************\n",
      "\n",
      "Time Taken [7 Epochs] : 32.83 minutes\n",
      "\n",
      "**************************************************\n",
      "\n"
     ]
    },
    {
     "data": {
      "image/png": "[encoded data removed]",
      "text/plain": [
       "<Figure size 432x288 with 1 Axes>"
      ]
     },
     "metadata": {
      "needs_background": "light"
     },
     "output_type": "display_data"
    },
    {
     "name": "stdout",
     "output_type": "stream",
     "text": [
      "\n",
      "**************************************************\n",
      "\n"
     ]
    },
    {
     "data": {
      "image/png": "[encoded data removed]",
      "text/plain": [
       "<Figure size 576x432 with 1 Axes>"
      ]
     },
     "metadata": {
      "needs_background": "light"
     },
     "output_type": "display_data"
    },
    {
     "name": "stdout",
     "output_type": "stream",
     "text": [
      "\n",
      "**************************************************\n",
      "\n",
      "\n",
      "**************************************************\n",
      "\n",
      "Training Fold 5...\n",
      "\n",
      "**************************************************\n",
      "\n",
      "Epoch: 1 | Train Loss: 0.95888 | Valid Loss: 0.89877 | Time: 280.74 seconds\n",
      "Epoch: 2 | Train Loss: 0.86532 | Valid Loss: 0.89661 | Time: 281.12 seconds\n",
      "Epoch: 3 | Train Loss: 0.80291 | Valid Loss: 0.90442 | Time: 279.69 seconds\n",
      "Epoch: 4 | Train Loss: 0.71416 | Valid Loss: 0.94201 | Time: 287.42 seconds\n",
      "Epoch: 5 | Train Loss: 0.60502 | Valid Loss: 0.95346 | Time: 280.47 seconds\n",
      "Epoch: 6 | Train Loss: 0.52736 | Valid Loss: 0.95763 | Time: 280.29 seconds\n",
      "Epoch: 7 | Train Loss: 0.42401 | Valid Loss: 0.97945 | Time: 279.89 seconds\n",
      "\n",
      "Early Stopping at Epoch 8\n",
      "\n",
      "**************************************************\n",
      "\n",
      "Best Validation Loss at Epoch 2\n",
      "\n",
      "**************************************************\n",
      "\n",
      "Time Taken [8 Epochs] : 37.52 minutes\n",
      "\n",
      "**************************************************\n",
      "\n"
     ]
    },
    {
     "data": {
      "image/png": "[encoded data removed]",
      "text/plain": [
       "<Figure size 432x288 with 1 Axes>"
      ]
     },
     "metadata": {
      "needs_background": "light"
     },
     "output_type": "display_data"
    },
    {
     "name": "stdout",
     "output_type": "stream",
     "text": [
      "\n",
      "**************************************************\n",
      "\n"
     ]
    },
    {
     "data": {
      "image/png": "[encoded data removed]",
      "text/plain": [
       "<Figure size 576x432 with 1 Axes>"
      ]
     },
     "metadata": {
      "needs_background": "light"
     },
     "output_type": "display_data"
    },
    {
     "name": "stdout",
     "output_type": "stream",
     "text": [
      "\n",
      "**************************************************\n",
      "\n"
     ]
    }
   ],
   "source": [
    "fold: int = 1\n",
    "BLs: list = []\n",
    "BAs: list = []\n",
    "    \n",
    "sc_X = StandardScaler()\n",
    "    \n",
    "cfg.batch_size = 64\n",
    "cfg.epochs = 10\n",
    "    \n",
    "for tr_idx, va_idx in KFold(n_splits=cfg.n_splits, random_state=cfg.seed, shuffle=True).split(filepaths):\n",
    "\n",
    "    tr_filepaths, va_filepaths = filepaths[tr_idx], filepaths[va_idx] \n",
    "    tr_labels, va_labels       = labels[tr_idx], labels[va_idx]\n",
    "    tr_labels, va_labels       = tr_labels.reshape(-1, 1), va_labels.reshape(-1, 1)\n",
    "    \n",
    "    tr_labels = sc_X.fit_transform(tr_labels)\n",
    "    va_labels = sc_X.transform(va_labels)\n",
    "\n",
    "    tr_data_setup = DS(\n",
    "        filepaths=tr_filepaths, \n",
    "        labels=tr_labels,\n",
    "        size=cfg.size,\n",
    "        transform=cfg.train_transform\n",
    "    )\n",
    "\n",
    "    va_data_setup = DS(\n",
    "        filepaths=va_filepaths, \n",
    "        labels=va_labels,\n",
    "        size=cfg.size,\n",
    "        transform=cfg.train_transform\n",
    "    )\n",
    "\n",
    "    dataloaders = {\n",
    "        \"train\" : DL(tr_data_setup, batch_size=cfg.batch_size, shuffle=True, generator=torch.manual_seed(cfg.seed)),\n",
    "        \"valid\" : DL(va_data_setup, batch_size=cfg.batch_size, shuffle=False),\n",
    "    }\n",
    "\n",
    "    cfg.steps_per_epoch=len(dataloaders[\"train\"])\n",
    "\n",
    "    torch.manual_seed(cfg.seed)\n",
    "    model = Model().to(cfg.device)\n",
    "\n",
    "    optimizer = optim.Adam([p for p in model.parameters() if p.requires_grad], lr=cfg.lr, weight_decay=cfg.wd)\n",
    "    # optimizer = optim.AdamW([p for p in model.parameters() if p.requires_grad], lr=cfg.lr, weight_decay=cfg.wd)\n",
    "    # optimizer = optim.SGD([p for p in model.parameters() if p.requires_grad], lr=cfg.lr, weight_decay=cfg.wd, momentum=0.9)\n",
    "\n",
    "    scheduler_oclr = optim.lr_scheduler.OneCycleLR(\n",
    "        optimizer=optimizer, \n",
    "        max_lr=cfg.max_lr, \n",
    "        epochs=cfg.epochs, \n",
    "        steps_per_epoch=cfg.steps_per_epoch,\n",
    "        pct_start=cfg.pct_start, \n",
    "        div_factor=cfg.div_factor, \n",
    "        final_div_factor=cfg.final_div_factor\n",
    "    )\n",
    "\n",
    "    # scheduler_rlrop = optim.lr_scheduler.ReduceLROnPlateau(\n",
    "    #     optimizer=optimizer,\n",
    "    #     patience=cfg.patience,\n",
    "    #     eps=cfg.eps,\n",
    "    #     verbose=True\n",
    "    # )\n",
    "\n",
    "    # scheduler_oclr = None\n",
    "    scheduler_rlrop = None\n",
    "\n",
    "\n",
    "    L, LR, BL, _, _ = fit(\n",
    "        model=model, \n",
    "        optimizer=optimizer, \n",
    "        scheduler_oclr=scheduler_oclr,\n",
    "        scheduler_rlrop=scheduler_rlrop,\n",
    "        epochs=cfg.epochs, \n",
    "        early_stopping_patience=cfg.early_stopping, \n",
    "        dataloaders=dataloaders, \n",
    "        device=cfg.device,\n",
    "        save_path=cfg.save_path,\n",
    "        fold=fold,\n",
    "        verbose=True\n",
    "    )\n",
    "\n",
    "\n",
    "    breaker()\n",
    "    show_loss_graphs(L)\n",
    "    breaker()\n",
    "    if scheduler_oclr:\n",
    "        show_lr_graph(LR)\n",
    "        breaker()\n",
    "\n",
    "    BLs.append(BL)\n",
    "\n",
    "    fold += 1"
   ]
  },
  {
   "cell_type": "markdown",
   "id": "7f14dfe3",
   "metadata": {
    "papermill": {
     "duration": 0.009798,
     "end_time": "2022-12-17T10:21:31.364207",
     "exception": false,
     "start_time": "2022-12-17T10:21:31.354409",
     "status": "completed"
    },
    "tags": []
   },
   "source": [
    "### **Best Model**"
   ]
  },
  {
   "cell_type": "code",
   "execution_count": 10,
   "id": "cd029b66",
   "metadata": {
    "execution": {
     "iopub.execute_input": "2022-12-17T10:21:31.385693Z",
     "iopub.status.busy": "2022-12-17T10:21:31.384790Z",
     "iopub.status.idle": "2022-12-17T10:21:31.391396Z",
     "shell.execute_reply": "2022-12-17T10:21:31.390356Z"
    },
    "papermill": {
     "duration": 0.020905,
     "end_time": "2022-12-17T10:21:31.394644",
     "exception": false,
     "start_time": "2022-12-17T10:21:31.373739",
     "status": "completed"
    },
    "tags": []
   },
   "outputs": [
    {
     "name": "stdout",
     "output_type": "stream",
     "text": [
      "\n",
      "**************************************************\n",
      "\n",
      "Best Loss Model Fold : 3\n",
      "\n",
      "**************************************************\n",
      "\n"
     ]
    }
   ],
   "source": [
    "BL = np.inf\n",
    "for i in range(len(BLs)):\n",
    "    if BLs[i][\"valid\"] < BL:\n",
    "        BL = BLs[i][\"valid\"]\n",
    "        best_loss_index = i\n",
    "\n",
    "\n",
    "breaker()\n",
    "print(f\"Best Loss Model Fold : {best_loss_index + 1}\")\n",
    "breaker()"
   ]
  }
 ],
 "metadata": {
  "kernelspec": {
   "display_name": "Python 3",
   "language": "python",
   "name": "python3"
  },
  "language_info": {
   "codemirror_mode": {
    "name": "ipython",
    "version": 3
   },
   "file_extension": ".py",
   "mimetype": "text/x-python",
   "name": "python",
   "nbconvert_exporter": "python",
   "pygments_lexer": "ipython3",
   "version": "3.7.12"
  },
  "papermill": {
   "default_parameters": {},
   "duration": 12355.982907,
   "end_time": "2022-12-17T10:21:33.245477",
   "environment_variables": {},
   "exception": null,
   "input_path": "__notebook__.ipynb",
   "output_path": "__notebook__.ipynb",
   "parameters": {},
   "start_time": "2022-12-17T06:55:37.262570",
   "version": "2.3.4"
  }
 },
 "nbformat": 4,
 "nbformat_minor": 5
}
