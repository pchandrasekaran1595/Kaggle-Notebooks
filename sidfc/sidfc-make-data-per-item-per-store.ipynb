{
 "cells": [
  {
   "cell_type": "code",
   "execution_count": 1,
   "id": "6e3cdc6d",
   "metadata": {
    "_cell_guid": "b1076dfc-b9ad-4769-8c92-a6c4dae69d19",
    "_uuid": "8f2839f25d086af736a60e9eeb907d3b93b6e0e5",
    "execution": {
     "iopub.execute_input": "2022-05-23T07:01:15.195014Z",
     "iopub.status.busy": "2022-05-23T07:01:15.194600Z",
     "iopub.status.idle": "2022-05-23T07:01:15.206146Z",
     "shell.execute_reply": "2022-05-23T07:01:15.205194Z"
    },
    "papermill": {
     "duration": 0.022471,
     "end_time": "2022-05-23T07:01:15.208649",
     "exception": false,
     "start_time": "2022-05-23T07:01:15.186178",
     "status": "completed"
    },
    "tags": []
   },
   "outputs": [],
   "source": [
    "import os\n",
    "import random as r\n",
    "import numpy as np\n",
    "import pandas as pd\n",
    "import matplotlib.pyplot as plt\n",
    "\n",
    "\n",
    "READ_PATH = \"../input/demand-forecasting-kernels-only\""
   ]
  },
  {
   "cell_type": "code",
   "execution_count": 2,
   "id": "80d16ed8",
   "metadata": {
    "execution": {
     "iopub.execute_input": "2022-05-23T07:01:15.220527Z",
     "iopub.status.busy": "2022-05-23T07:01:15.220169Z",
     "iopub.status.idle": "2022-05-23T07:01:15.803272Z",
     "shell.execute_reply": "2022-05-23T07:01:15.802085Z"
    },
    "papermill": {
     "duration": 0.592123,
     "end_time": "2022-05-23T07:01:15.806057",
     "exception": false,
     "start_time": "2022-05-23T07:01:15.213934",
     "status": "completed"
    },
    "tags": []
   },
   "outputs": [],
   "source": [
    "train_df = pd.read_csv(os.path.join(READ_PATH, \"train.csv\"))\n",
    "train_columns = [col for col in train_df.columns]\n",
    "\n",
    "test_df = pd.read_csv(os.path.join(READ_PATH, \"test.csv\"))\n",
    "test_columns = [col for col in test_df.columns]"
   ]
  },
  {
   "cell_type": "code",
   "execution_count": 3,
   "id": "cf403367",
   "metadata": {
    "execution": {
     "iopub.execute_input": "2022-05-23T07:01:15.818698Z",
     "iopub.status.busy": "2022-05-23T07:01:15.818311Z",
     "iopub.status.idle": "2022-05-23T07:01:24.047000Z",
     "shell.execute_reply": "2022-05-23T07:01:24.045959Z"
    },
    "papermill": {
     "duration": 8.238118,
     "end_time": "2022-05-23T07:01:24.049950",
     "exception": false,
     "start_time": "2022-05-23T07:01:15.811832",
     "status": "completed"
    },
    "tags": []
   },
   "outputs": [],
   "source": [
    "for store_id in set(train_df[\"store\"]):\n",
    "    main_df = pd.read_csv(os.path.join(READ_PATH, \"train.csv\"))\n",
    "    main_df = main_df[main_df[\"store\"] == store_id]\n",
    "    for item_id in set(main_df[\"item\"]):\n",
    "        df = pd.DataFrame(data=main_df[main_df[\"item\"] == item_id], columns=train_columns)\n",
    "        df.to_csv(f\"./tr_df_{store_id}_{item_id}.csv\", index=False)\n",
    "    \n",
    "    main_df = pd.read_csv(os.path.join(READ_PATH, \"test.csv\"))\n",
    "    main_df = main_df[main_df[\"store\"] == store_id]\n",
    "    for item_id in set(main_df[\"item\"]):\n",
    "        df = pd.DataFrame(data=main_df[main_df[\"item\"] == item_id], columns=test_columns)\n",
    "        df.to_csv(f\"./ts_df_{store_id}_{item_id}.csv\", index=False)"
   ]
  }
 ],
 "metadata": {
  "kernelspec": {
   "display_name": "Python 3",
   "language": "python",
   "name": "python3"
  },
  "language_info": {
   "codemirror_mode": {
    "name": "ipython",
    "version": 3
   },
   "file_extension": ".py",
   "mimetype": "text/x-python",
   "name": "python",
   "nbconvert_exporter": "python",
   "pygments_lexer": "ipython3",
   "version": "3.7.12"
  },
  "papermill": {
   "default_parameters": {},
   "duration": 21.910987,
   "end_time": "2022-05-23T07:01:25.080255",
   "environment_variables": {},
   "exception": null,
   "input_path": "__notebook__.ipynb",
   "output_path": "__notebook__.ipynb",
   "parameters": {},
   "start_time": "2022-05-23T07:01:03.169268",
   "version": "2.3.4"
  }
 },
 "nbformat": 4,
 "nbformat_minor": 5
}
