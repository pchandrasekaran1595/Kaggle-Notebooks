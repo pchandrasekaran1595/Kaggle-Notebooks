{
 "cells": [
  {
   "cell_type": "code",
   "execution_count": 1,
   "id": "4c12bffc",
   "metadata": {
    "_cell_guid": "b1076dfc-b9ad-4769-8c92-a6c4dae69d19",
    "_uuid": "8f2839f25d086af736a60e9eeb907d3b93b6e0e5",
    "execution": {
     "iopub.execute_input": "2022-05-23T07:32:15.091059Z",
     "iopub.status.busy": "2022-05-23T07:32:15.090663Z",
     "iopub.status.idle": "2022-05-23T07:32:15.101442Z",
     "shell.execute_reply": "2022-05-23T07:32:15.100579Z"
    },
    "papermill": {
     "duration": 0.022128,
     "end_time": "2022-05-23T07:32:15.103733",
     "exception": false,
     "start_time": "2022-05-23T07:32:15.081605",
     "status": "completed"
    },
    "tags": []
   },
   "outputs": [],
   "source": [
    "import os\n",
    "import random as r\n",
    "import numpy as np\n",
    "import pandas as pd\n",
    "import matplotlib.pyplot as plt\n",
    "\n",
    "\n",
    "READ_PATH = \"../input/demand-forecasting-kernels-only\""
   ]
  },
  {
   "cell_type": "code",
   "execution_count": 2,
   "id": "bc284f20",
   "metadata": {
    "execution": {
     "iopub.execute_input": "2022-05-23T07:32:15.118486Z",
     "iopub.status.busy": "2022-05-23T07:32:15.117928Z",
     "iopub.status.idle": "2022-05-23T07:32:15.652869Z",
     "shell.execute_reply": "2022-05-23T07:32:15.652262Z"
    },
    "papermill": {
     "duration": 0.544664,
     "end_time": "2022-05-23T07:32:15.655064",
     "exception": false,
     "start_time": "2022-05-23T07:32:15.110400",
     "status": "completed"
    },
    "tags": []
   },
   "outputs": [],
   "source": [
    "train_df = pd.read_csv(os.path.join(READ_PATH, \"train.csv\"))\n",
    "train_columns = [col for col in train_df.columns]\n",
    "\n",
    "test_df = pd.read_csv(os.path.join(READ_PATH, \"test.csv\"))\n",
    "test_columns = [col for col in test_df.columns]"
   ]
  },
  {
   "cell_type": "code",
   "execution_count": 3,
   "id": "14174ce1",
   "metadata": {
    "execution": {
     "iopub.execute_input": "2022-05-23T07:32:15.670111Z",
     "iopub.status.busy": "2022-05-23T07:32:15.669459Z",
     "iopub.status.idle": "2022-05-23T07:32:22.936826Z",
     "shell.execute_reply": "2022-05-23T07:32:22.936108Z"
    },
    "papermill": {
     "duration": 7.277383,
     "end_time": "2022-05-23T07:32:22.939185",
     "exception": false,
     "start_time": "2022-05-23T07:32:15.661802",
     "status": "completed"
    },
    "tags": []
   },
   "outputs": [],
   "source": [
    "for store_id in set(train_df[\"store\"]):\n",
    "    main_df = pd.read_csv(os.path.join(READ_PATH, \"train.csv\"))\n",
    "    main_df = main_df[main_df[\"store\"] == store_id]\n",
    "    for item_id in set(main_df[\"item\"]):\n",
    "        df = pd.DataFrame(data=main_df[main_df[\"item\"] == item_id], columns=train_columns)\n",
    "        df.to_csv(f\"./tr_df_{store_id}_{item_id}.csv\", index=False)\n",
    "    \n",
    "    main_df = pd.read_csv(os.path.join(READ_PATH, \"test.csv\"))\n",
    "    main_df = main_df[main_df[\"store\"] == store_id]\n",
    "    for item_id in set(main_df[\"item\"]):\n",
    "        df = pd.DataFrame(data=main_df[main_df[\"item\"] == item_id], columns=test_columns)\n",
    "        df.to_csv(f\"./ts_df_{store_id}_{item_id}.csv\", index=False)"
   ]
  },
  {
   "cell_type": "code",
   "execution_count": 4,
   "id": "1b15e2cc",
   "metadata": {
    "execution": {
     "iopub.execute_input": "2022-05-23T07:32:22.953812Z",
     "iopub.status.busy": "2022-05-23T07:32:22.953356Z",
     "iopub.status.idle": "2022-05-23T07:32:22.960124Z",
     "shell.execute_reply": "2022-05-23T07:32:22.959456Z"
    },
    "papermill": {
     "duration": 0.01647,
     "end_time": "2022-05-23T07:32:22.962079",
     "exception": false,
     "start_time": "2022-05-23T07:32:22.945609",
     "status": "completed"
    },
    "tags": []
   },
   "outputs": [],
   "source": [
    "store_id = r.randint(1, 9)\n",
    "item_id = r.randint(1, 49)\n",
    "\n",
    "tr_filename = f\"tr_df_{store_id}_{item_id}.csv\"\n",
    "ts_filename = f\"ts_df_{store_id}_{item_id}.csv\"\n",
    "\n",
    "assert tr_filename in os.listdir(\"./\")\n",
    "assert ts_filename in os.listdir(\"./\")"
   ]
  },
  {
   "cell_type": "code",
   "execution_count": null,
   "id": "99ee2c98",
   "metadata": {
    "papermill": {
     "duration": 0.006122,
     "end_time": "2022-05-23T07:32:22.974710",
     "exception": false,
     "start_time": "2022-05-23T07:32:22.968588",
     "status": "completed"
    },
    "tags": []
   },
   "outputs": [],
   "source": []
  }
 ],
 "metadata": {
  "kernelspec": {
   "display_name": "Python 3",
   "language": "python",
   "name": "python3"
  },
  "language_info": {
   "codemirror_mode": {
    "name": "ipython",
    "version": 3
   },
   "file_extension": ".py",
   "mimetype": "text/x-python",
   "name": "python",
   "nbconvert_exporter": "python",
   "pygments_lexer": "ipython3",
   "version": "3.7.12"
  },
  "papermill": {
   "default_parameters": {},
   "duration": 18.795256,
   "end_time": "2022-05-23T07:32:23.601545",
   "environment_variables": {},
   "exception": null,
   "input_path": "__notebook__.ipynb",
   "output_path": "__notebook__.ipynb",
   "parameters": {},
   "start_time": "2022-05-23T07:32:04.806289",
   "version": "2.3.4"
  }
 },
 "nbformat": 4,
 "nbformat_minor": 5
}
