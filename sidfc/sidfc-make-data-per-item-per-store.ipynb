{
 "cells": [
  {
   "cell_type": "code",
   "execution_count": 1,
   "id": "b02dcefa",
   "metadata": {
    "_cell_guid": "b1076dfc-b9ad-4769-8c92-a6c4dae69d19",
    "_uuid": "8f2839f25d086af736a60e9eeb907d3b93b6e0e5",
    "execution": {
     "iopub.execute_input": "2022-05-23T08:03:41.233889Z",
     "iopub.status.busy": "2022-05-23T08:03:41.233458Z",
     "iopub.status.idle": "2022-05-23T08:03:41.246002Z",
     "shell.execute_reply": "2022-05-23T08:03:41.244797Z"
    },
    "papermill": {
     "duration": 0.024304,
     "end_time": "2022-05-23T08:03:41.248466",
     "exception": false,
     "start_time": "2022-05-23T08:03:41.224162",
     "status": "completed"
    },
    "tags": []
   },
   "outputs": [],
   "source": [
    "import os\n",
    "import random as r\n",
    "import numpy as np\n",
    "import pandas as pd\n",
    "import matplotlib.pyplot as plt\n",
    "\n",
    "\n",
    "READ_PATH = \"../input/demand-forecasting-kernels-only\"\n",
    "\n",
    "TRAIN_SAVE_PATH = \"./train_files\"\n",
    "TEST_SAVE_PATH  = \"./test_files\"\n",
    "\n",
    "if not os.path.exists(TRAIN_SAVE_PATH): os.makedirs(TRAIN_SAVE_PATH)\n",
    "if not os.path.exists(TEST_SAVE_PATH): os.makedirs(TEST_SAVE_PATH)    "
   ]
  },
  {
   "cell_type": "code",
   "execution_count": 2,
   "id": "e9848f16",
   "metadata": {
    "execution": {
     "iopub.execute_input": "2022-05-23T08:03:41.261934Z",
     "iopub.status.busy": "2022-05-23T08:03:41.261623Z",
     "iopub.status.idle": "2022-05-23T08:03:41.894292Z",
     "shell.execute_reply": "2022-05-23T08:03:41.893347Z"
    },
    "papermill": {
     "duration": 0.642347,
     "end_time": "2022-05-23T08:03:41.896806",
     "exception": false,
     "start_time": "2022-05-23T08:03:41.254459",
     "status": "completed"
    },
    "tags": []
   },
   "outputs": [],
   "source": [
    "train_df = pd.read_csv(os.path.join(READ_PATH, \"train.csv\"))\n",
    "train_columns = [col for col in train_df.columns]\n",
    "\n",
    "test_df = pd.read_csv(os.path.join(READ_PATH, \"test.csv\"))\n",
    "test_columns = [col for col in test_df.columns]"
   ]
  },
  {
   "cell_type": "code",
   "execution_count": 3,
   "id": "c512a271",
   "metadata": {
    "execution": {
     "iopub.execute_input": "2022-05-23T08:03:41.910444Z",
     "iopub.status.busy": "2022-05-23T08:03:41.909629Z",
     "iopub.status.idle": "2022-05-23T08:03:49.301433Z",
     "shell.execute_reply": "2022-05-23T08:03:49.300451Z"
    },
    "papermill": {
     "duration": 7.401435,
     "end_time": "2022-05-23T08:03:49.304165",
     "exception": false,
     "start_time": "2022-05-23T08:03:41.902730",
     "status": "completed"
    },
    "tags": []
   },
   "outputs": [],
   "source": [
    "for store_id in set(train_df[\"store\"]):\n",
    "    main_df = pd.read_csv(os.path.join(READ_PATH, \"train.csv\"))\n",
    "    main_df = main_df[main_df[\"store\"] == store_id]\n",
    "    for item_id in set(main_df[\"item\"]):\n",
    "        df = pd.DataFrame(data=main_df[main_df[\"item\"] == item_id], columns=train_columns)\n",
    "        df.to_csv(os.path.join(TRAIN_SAVE_PATH, f\"./tr_df_{store_id}_{item_id}.csv\"), index=False)\n",
    "    \n",
    "    main_df = pd.read_csv(os.path.join(READ_PATH, \"test.csv\"))\n",
    "    main_df = main_df[main_df[\"store\"] == store_id]\n",
    "    for item_id in set(main_df[\"item\"]):\n",
    "        df = pd.DataFrame(data=main_df[main_df[\"item\"] == item_id], columns=test_columns)\n",
    "        df.to_csv(os.path.join(TEST_SAVE_PATH, f\"./ts_df_{store_id}_{item_id}.csv\"), index=False)"
   ]
  },
  {
   "cell_type": "code",
   "execution_count": 4,
   "id": "e80bee86",
   "metadata": {
    "execution": {
     "iopub.execute_input": "2022-05-23T08:03:49.317790Z",
     "iopub.status.busy": "2022-05-23T08:03:49.317132Z",
     "iopub.status.idle": "2022-05-23T08:03:49.383502Z",
     "shell.execute_reply": "2022-05-23T08:03:49.382510Z"
    },
    "papermill": {
     "duration": 0.076259,
     "end_time": "2022-05-23T08:03:49.386400",
     "exception": false,
     "start_time": "2022-05-23T08:03:49.310141",
     "status": "completed"
    },
    "tags": []
   },
   "outputs": [],
   "source": [
    "num_tests = 100\n",
    "\n",
    "for i in range(num_tests):\n",
    "    store_id = r.randint(1, 9)\n",
    "    item_id = r.randint(1, 49)\n",
    "\n",
    "    tr_filename = f\"tr_df_{store_id}_{item_id}.csv\"\n",
    "    ts_filename = f\"ts_df_{store_id}_{item_id}.csv\"\n",
    "\n",
    "    assert tr_filename in os.listdir(TRAIN_SAVE_PATH), f\"Error ===> Store ID: {store_id}, Item ID: {item_id}\"\n",
    "    assert ts_filename in os.listdir(TEST_SAVE_PATH), f\"Error ===> Store ID: {store_id}, Item ID: {item_id}\""
   ]
  }
 ],
 "metadata": {
  "kernelspec": {
   "display_name": "Python 3",
   "language": "python",
   "name": "python3"
  },
  "language_info": {
   "codemirror_mode": {
    "name": "ipython",
    "version": 3
   },
   "file_extension": ".py",
   "mimetype": "text/x-python",
   "name": "python",
   "nbconvert_exporter": "python",
   "pygments_lexer": "ipython3",
   "version": "3.7.12"
  },
  "papermill": {
   "default_parameters": {},
   "duration": 18.894706,
   "end_time": "2022-05-23T08:03:50.015024",
   "environment_variables": {},
   "exception": null,
   "input_path": "__notebook__.ipynb",
   "output_path": "__notebook__.ipynb",
   "parameters": {},
   "start_time": "2022-05-23T08:03:31.120318",
   "version": "2.3.4"
  }
 },
 "nbformat": 4,
 "nbformat_minor": 5
}
