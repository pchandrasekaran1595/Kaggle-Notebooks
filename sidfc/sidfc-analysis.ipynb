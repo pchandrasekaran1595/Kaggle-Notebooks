{
 "cells": [
  {
   "cell_type": "code",
   "execution_count": 1,
   "id": "94fdb5d6",
   "metadata": {
    "_cell_guid": "b1076dfc-b9ad-4769-8c92-a6c4dae69d19",
    "_uuid": "8f2839f25d086af736a60e9eeb907d3b93b6e0e5",
    "execution": {
     "iopub.execute_input": "2022-05-23T07:05:30.394183Z",
     "iopub.status.busy": "2022-05-23T07:05:30.393485Z",
     "iopub.status.idle": "2022-05-23T07:05:30.404804Z",
     "shell.execute_reply": "2022-05-23T07:05:30.404278Z"
    },
    "papermill": {
     "duration": 0.01872,
     "end_time": "2022-05-23T07:05:30.406719",
     "exception": false,
     "start_time": "2022-05-23T07:05:30.387999",
     "status": "completed"
    },
    "tags": []
   },
   "outputs": [],
   "source": [
    "pass"
   ]
  }
 ],
 "metadata": {
  "kernelspec": {
   "display_name": "Python 3",
   "language": "python",
   "name": "python3"
  },
  "language_info": {
   "codemirror_mode": {
    "name": "ipython",
    "version": 3
   },
   "file_extension": ".py",
   "mimetype": "text/x-python",
   "name": "python",
   "nbconvert_exporter": "python",
   "pygments_lexer": "ipython3",
   "version": "3.7.12"
  },
  "papermill": {
   "default_parameters": {},
   "duration": 10.305474,
   "end_time": "2022-05-23T07:05:31.028611",
   "environment_variables": {},
   "exception": null,
   "input_path": "__notebook__.ipynb",
   "output_path": "__notebook__.ipynb",
   "parameters": {},
   "start_time": "2022-05-23T07:05:20.723137",
   "version": "2.3.4"
  }
 },
 "nbformat": 4,
 "nbformat_minor": 5
}
