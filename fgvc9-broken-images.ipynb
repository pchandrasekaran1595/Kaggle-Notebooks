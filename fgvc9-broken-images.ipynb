{
 "cells": [
  {
   "cell_type": "code",
   "execution_count": 1,
   "id": "1bee994d",
   "metadata": {
    "_cell_guid": "b1076dfc-b9ad-4769-8c92-a6c4dae69d19",
    "_uuid": "8f2839f25d086af736a60e9eeb907d3b93b6e0e5",
    "execution": {
     "iopub.execute_input": "2022-03-22T11:54:55.143562Z",
     "iopub.status.busy": "2022-03-22T11:54:55.142280Z",
     "iopub.status.idle": "2022-03-22T12:11:18.203952Z",
     "shell.execute_reply": "2022-03-22T12:11:18.202499Z"
    },
    "papermill": {
     "duration": 983.070283,
     "end_time": "2022-03-22T12:11:18.204233",
     "exception": false,
     "start_time": "2022-03-22T11:54:55.133950",
     "status": "completed"
    },
    "tags": []
   },
   "outputs": [],
   "source": [
    "import os\n",
    "import cv2\n",
    "import pickle\n",
    "import numpy as np\n",
    "import pandas as pd\n",
    "\n",
    "train_df = pd.read_csv(\"../input/sorghum-id-fgvc-9/train_cultivar_mapping.csv\")\n",
    "filenames = train_df.iloc[:, 0].copy().values\n",
    "\n",
    "def get_broken_images(path: str, names: np.ndarray) -> list:\n",
    "    broken_images = []\n",
    "    for name in names:\n",
    "        image = cv2.imread(os.path.join(path, name), cv2.IMREAD_COLOR)\n",
    "        if image is None:\n",
    "            broken_images.append(name)\n",
    "    \n",
    "    return broken_images\n",
    "\n",
    "broken_images = get_broken_images(\"../input/sorghum-id-fgvc-9/train_images\", filenames)\n",
    "\n",
    "with open(\"broken_image_names.pkl\", \"wb\") as fp: pickle.dump(broken_images, fp)"
   ]
  }
 ],
 "metadata": {
  "kernelspec": {
   "display_name": "Python 3",
   "language": "python",
   "name": "python3"
  },
  "language_info": {
   "codemirror_mode": {
    "name": "ipython",
    "version": 3
   },
   "file_extension": ".py",
   "mimetype": "text/x-python",
   "name": "python",
   "nbconvert_exporter": "python",
   "pygments_lexer": "ipython3",
   "version": "3.7.12"
  },
  "papermill": {
   "default_parameters": {},
   "duration": 994.051998,
   "end_time": "2022-03-22T12:11:18.923971",
   "environment_variables": {},
   "exception": null,
   "input_path": "__notebook__.ipynb",
   "output_path": "__notebook__.ipynb",
   "parameters": {},
   "start_time": "2022-03-22T11:54:44.871973",
   "version": "2.3.3"
  }
 },
 "nbformat": 4,
 "nbformat_minor": 5
}
