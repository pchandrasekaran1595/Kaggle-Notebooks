{
 "cells": [
  {
   "cell_type": "markdown",
   "id": "bbcb7730",
   "metadata": {
    "_cell_guid": "b1076dfc-b9ad-4769-8c92-a6c4dae69d19",
    "_uuid": "8f2839f25d086af736a60e9eeb907d3b93b6e0e5",
    "papermill": {
     "duration": 0.04202,
     "end_time": "2022-04-18T18:51:09.127019",
     "exception": false,
     "start_time": "2022-04-18T18:51:09.084999",
     "status": "completed"
    },
    "tags": []
   },
   "source": [
    "### Library Imports"
   ]
  },
  {
   "cell_type": "code",
   "execution_count": 1,
   "id": "35dfd920",
   "metadata": {
    "execution": {
     "iopub.execute_input": "2022-04-18T18:51:09.209368Z",
     "iopub.status.busy": "2022-04-18T18:51:09.208692Z",
     "iopub.status.idle": "2022-04-18T18:51:12.196134Z",
     "shell.execute_reply": "2022-04-18T18:51:12.195146Z"
    },
    "papermill": {
     "duration": 3.031632,
     "end_time": "2022-04-18T18:51:12.198818",
     "exception": false,
     "start_time": "2022-04-18T18:51:09.167186",
     "status": "completed"
    },
    "tags": []
   },
   "outputs": [],
   "source": [
    "import os\n",
    "import re\n",
    "import torch\n",
    "import numpy as np\n",
    "import pandas as pd\n",
    "import matplotlib.pyplot as plt\n",
    "\n",
    "from time import time\n",
    "from torch import nn, optim\n",
    "from torch.utils.data import Dataset\n",
    "from torch.utils.data import DataLoader as DL\n",
    "from torchvision import models, transforms\n",
    "\n",
    "from sklearn.model_selection import KFold\n",
    "# from sklearn.preprocessing import LabelEncoder\n",
    "# from sklearn.metrics import accuracy_score, \\\n",
    "#                             precision_recall_fscore_support, \\\n",
    "#                             roc_auc_score, \\\n",
    "#                             classification_report, \\\n",
    "#                             confusion_matrix"
   ]
  },
  {
   "cell_type": "markdown",
   "id": "4d366128",
   "metadata": {
    "papermill": {
     "duration": 0.01606,
     "end_time": "2022-04-18T18:51:12.230934",
     "exception": false,
     "start_time": "2022-04-18T18:51:12.214874",
     "status": "completed"
    },
    "tags": []
   },
   "source": [
    "### **Utilities**"
   ]
  },
  {
   "cell_type": "code",
   "execution_count": 2,
   "id": "55a321da",
   "metadata": {
    "execution": {
     "iopub.execute_input": "2022-04-18T18:51:12.266166Z",
     "iopub.status.busy": "2022-04-18T18:51:12.265379Z",
     "iopub.status.idle": "2022-04-18T18:51:12.282353Z",
     "shell.execute_reply": "2022-04-18T18:51:12.281456Z"
    },
    "papermill": {
     "duration": 0.037417,
     "end_time": "2022-04-18T18:51:12.284543",
     "exception": false,
     "start_time": "2022-04-18T18:51:12.247126",
     "status": "completed"
    },
    "tags": []
   },
   "outputs": [],
   "source": [
    "SEED = 42\n",
    "SIZE = 256\n",
    "\n",
    "def breaker(num: int=50, char: str=\"*\") -> None:\n",
    "    print(\"\\n\" + num*char + \"\\n\")\n",
    "\n",
    "\n",
    "def show_graphs(L: list, A: list) -> None:\n",
    "    TL, VL, TA, VA = [], [], [], []\n",
    "    for i in range(len(L)):\n",
    "        TL.append(L[i][\"train\"])\n",
    "        VL.append(L[i][\"valid\"])\n",
    "        TA.append(A[i][\"train\"])\n",
    "        VA.append(A[i][\"valid\"])\n",
    "    x_Axis = np.arange(1, len(TL) + 1)\n",
    "    plt.figure(figsize=(8, 6))\n",
    "    plt.subplot(1, 2, 1)\n",
    "    plt.plot(x_Axis, TL, \"r\", label=\"Train\")\n",
    "    plt.plot(x_Axis, VL, \"b\", label=\"Valid\")\n",
    "    plt.legend()\n",
    "    plt.grid()\n",
    "    plt.title(\"Loss Graph\")\n",
    "    plt.subplot(1, 2, 2)\n",
    "    plt.plot(x_Axis, TA, \"r\", label=\"Train\")\n",
    "    plt.plot(x_Axis, VA, \"b\", label=\"Valid\")\n",
    "    plt.legend()\n",
    "    plt.grid()\n",
    "    plt.title(\"Accuracy Graph\")\n",
    "    plt.show()\n",
    "\n",
    "    \n",
    "def get_scores(y_true: np.ndarray, y_pred: np.ndarray) -> tuple:\n",
    "    accuracy = accuracy_score(y_pred, y_true)\n",
    "    try:\n",
    "        auc = roc_auc_score(y_pred, y_true)\n",
    "    except:\n",
    "        auc = 0\n",
    "    precision, recall, f_score, _ = precision_recall_fscore_support(y_pred, y_true)\n",
    "\n",
    "    return accuracy, auc, precision, recall, f_score\n",
    "\n",
    "\n",
    "def print_scores(accuracy: float, auc: float, precision: np.ndarray, recall: np.ndarray, f_score: np.ndarray) -> None:\n",
    "    print(f\"Accuracy  : {accuracy:.5f}\")\n",
    "    print(f\"ROC-AUC   : {auc:.5f}\")\n",
    "    print(f\"Precision : {precision}\")\n",
    "    print(f\"Recall    : {recall}\")\n",
    "    print(f\"F-Score   : {f_score}\")"
   ]
  },
  {
   "cell_type": "markdown",
   "id": "d7b1a519",
   "metadata": {
    "papermill": {
     "duration": 0.016007,
     "end_time": "2022-04-18T18:51:12.317122",
     "exception": false,
     "start_time": "2022-04-18T18:51:12.301115",
     "status": "completed"
    },
    "tags": []
   },
   "source": [
    "### **Configuration**"
   ]
  },
  {
   "cell_type": "code",
   "execution_count": 3,
   "id": "42ea7c6d",
   "metadata": {
    "execution": {
     "iopub.execute_input": "2022-04-18T18:51:12.351826Z",
     "iopub.status.busy": "2022-04-18T18:51:12.350961Z",
     "iopub.status.idle": "2022-04-18T18:51:12.423212Z",
     "shell.execute_reply": "2022-04-18T18:51:12.422240Z"
    },
    "papermill": {
     "duration": 0.091592,
     "end_time": "2022-04-18T18:51:12.425381",
     "exception": false,
     "start_time": "2022-04-18T18:51:12.333789",
     "status": "completed"
    },
    "tags": []
   },
   "outputs": [],
   "source": [
    "class CFG(object):\n",
    "    def __init__(self, \n",
    "                 seed: int = 42,\n",
    "                 n_splits: int = 5,\n",
    "                 batch_size: int = 16,\n",
    "                 epochs: int = 25,\n",
    "                 early_stopping: int = 5,\n",
    "                 lr: float = 1e-4,\n",
    "                 wd: float = 0.0,\n",
    "                 max_lr: float = 1e-3,\n",
    "                 pct_start: float = 0.2,\n",
    "                 steps_per_epoch: int = 100,\n",
    "                 div_factor: int = 1e3, \n",
    "                 final_div_factor: float = 1e3,\n",
    "                 ):\n",
    "        \n",
    "        self.seed = seed\n",
    "        self.n_splits = n_splits\n",
    "        self.batch_size = batch_size\n",
    "        self.epochs = epochs\n",
    "        self.early_stopping = early_stopping\n",
    "        self.lr = lr\n",
    "        self.wd = wd\n",
    "        self.max_lr = max_lr\n",
    "        self.pct_start = pct_start\n",
    "        self.steps_per_epoch = steps_per_epoch\n",
    "        self.div_factor = div_factor\n",
    "        self.final_div_factor = final_div_factor\n",
    "        self.device = torch.device(\"cuda\" if torch.cuda.is_available() else \"cpu\")\n",
    "        self.transform = transforms.Compose([transforms.ToTensor(),\n",
    "                                transforms.Normalize([0.36378, 0.36350, 0.35346],\n",
    "                                                     [0.31784, 0.31467, 0.30536]),\n",
    "                                ])\n",
    "        self.save_path = \"saves\"\n",
    "        if not os.path.exists(self.save_path): os.makedirs(self.save_path)\n",
    "    \n",
    "cfg = CFG(seed=SEED)"
   ]
  },
  {
   "cell_type": "markdown",
   "id": "b9f3bbb5",
   "metadata": {
    "papermill": {
     "duration": 0.016157,
     "end_time": "2022-04-18T18:51:12.458280",
     "exception": false,
     "start_time": "2022-04-18T18:51:12.442123",
     "status": "completed"
    },
    "tags": []
   },
   "source": [
    "### **Dataset Template**"
   ]
  },
  {
   "cell_type": "code",
   "execution_count": 4,
   "id": "9e42d73c",
   "metadata": {
    "execution": {
     "iopub.execute_input": "2022-04-18T18:51:12.492833Z",
     "iopub.status.busy": "2022-04-18T18:51:12.491971Z",
     "iopub.status.idle": "2022-04-18T18:51:12.500120Z",
     "shell.execute_reply": "2022-04-18T18:51:12.498968Z"
    },
    "papermill": {
     "duration": 0.027822,
     "end_time": "2022-04-18T18:51:12.502456",
     "exception": false,
     "start_time": "2022-04-18T18:51:12.474634",
     "status": "completed"
    },
    "tags": []
   },
   "outputs": [],
   "source": [
    "class DS(Dataset):\n",
    "    def __init__(self, images: np.ndarray, labels: np.ndarray = None, transform=None):\n",
    "        self.images = images\n",
    "        self.labels = labels\n",
    "        self.transform = transform\n",
    "    \n",
    "    def __len__(self):\n",
    "        return self.images.shape[0]\n",
    "    \n",
    "    def __getitem__(self, idx):\n",
    "        if self.labels is not None:\n",
    "            return self.transform(self.images[idx]), torch.FloatTensor(self.labels[idx])\n",
    "        else:\n",
    "            return self.transform(self.images[idx])"
   ]
  },
  {
   "cell_type": "markdown",
   "id": "362b1cdc",
   "metadata": {
    "papermill": {
     "duration": 0.017664,
     "end_time": "2022-04-18T18:51:12.536723",
     "exception": false,
     "start_time": "2022-04-18T18:51:12.519059",
     "status": "completed"
    },
    "tags": []
   },
   "source": [
    "### **Model**"
   ]
  },
  {
   "cell_type": "code",
   "execution_count": 5,
   "id": "331bb6bf",
   "metadata": {
    "execution": {
     "iopub.execute_input": "2022-04-18T18:51:12.571333Z",
     "iopub.status.busy": "2022-04-18T18:51:12.571037Z",
     "iopub.status.idle": "2022-04-18T18:51:12.577373Z",
     "shell.execute_reply": "2022-04-18T18:51:12.576374Z"
    },
    "papermill": {
     "duration": 0.026684,
     "end_time": "2022-04-18T18:51:12.579811",
     "exception": false,
     "start_time": "2022-04-18T18:51:12.553127",
     "status": "completed"
    },
    "tags": []
   },
   "outputs": [],
   "source": [
    "class Model(nn.Module):\n",
    "    def __init__(self):\n",
    "        super(Model, self).__init__()\n",
    "\n",
    "        self.model = models.densenet121(pretrained=True, progress=True)\n",
    "        self.model.classifier = nn.Linear(in_features=self.model.classifier.in_features, out_features=1)\n",
    "\n",
    "    def forward(self, x):\n",
    "        return self.model(x)"
   ]
  },
  {
   "cell_type": "markdown",
   "id": "268d2259",
   "metadata": {
    "papermill": {
     "duration": 0.016209,
     "end_time": "2022-04-18T18:51:12.612604",
     "exception": false,
     "start_time": "2022-04-18T18:51:12.596395",
     "status": "completed"
    },
    "tags": []
   },
   "source": [
    "### Fit and Predict Helper"
   ]
  },
  {
   "cell_type": "code",
   "execution_count": 6,
   "id": "e5a271c9",
   "metadata": {
    "execution": {
     "iopub.execute_input": "2022-04-18T18:51:12.648199Z",
     "iopub.status.busy": "2022-04-18T18:51:12.647722Z",
     "iopub.status.idle": "2022-04-18T18:51:12.677115Z",
     "shell.execute_reply": "2022-04-18T18:51:12.676191Z"
    },
    "papermill": {
     "duration": 0.050395,
     "end_time": "2022-04-18T18:51:12.679389",
     "exception": false,
     "start_time": "2022-04-18T18:51:12.628994",
     "status": "completed"
    },
    "tags": []
   },
   "outputs": [],
   "source": [
    "def fit(model=None, \n",
    "        optimizer=None, \n",
    "        scheduler=None, \n",
    "        epochs=None, \n",
    "        early_stopping_patience=None, \n",
    "        dataloaders=None, \n",
    "        fold=None, \n",
    "        save_path=None, \n",
    "        device=None,\n",
    "        verbose=False) -> tuple:\n",
    "    \n",
    "    def get_accuracy(y_pred, y_true):\n",
    "        y_pred = torch.sigmoid(y_pred)\n",
    "        \n",
    "        y_pred[y_pred > 0.5] = 1\n",
    "        y_pred[y_pred <= 0.5] = 0\n",
    "        \n",
    "        return torch.count_nonzero(y_pred == y_true).item() / len(y_pred)\n",
    "    \n",
    "    if verbose:\n",
    "        breaker()\n",
    "        if fold: print(f\"Training Fold {fold}...\")\n",
    "        else: print(\"Training ...\")\n",
    "        breaker()\n",
    "        \n",
    "    bestLoss, bestAccs = {\"train\" : np.inf, \"valid\" : np.inf}, {\"train\" : 0.0, \"valid\" : 0.0}\n",
    "    Losses, LRs, Accuracies = [], [], []\n",
    "    if fold: name = f\"state_fold_{fold}.pt\"\n",
    "    else: name = \"state.pt\"\n",
    "\n",
    "    start_time = time()\n",
    "    for e in range(epochs):\n",
    "        e_st = time()\n",
    "        epochLoss, epochAccs = {\"train\" : 0.0, \"valid\" : 0.0}, {\"train\" : 0.0, \"valid\" : 0.0}\n",
    "\n",
    "        for phase in [\"train\", \"valid\"]:\n",
    "            if phase == \"train\":\n",
    "                model.train()\n",
    "            else:\n",
    "                model.eval()\n",
    "            \n",
    "            lossPerPass, accsPerPass = [], []\n",
    "\n",
    "            for X, y in dataloaders[phase]:\n",
    "                X, y = X.to(device), y.to(device)\n",
    "\n",
    "                optimizer.zero_grad()\n",
    "                with torch.set_grad_enabled(phase == \"train\"):\n",
    "                    output = model(X)\n",
    "                    loss = torch.nn.BCEWithLogitsLoss()(output, y)\n",
    "                    if phase == \"train\":\n",
    "                        loss.backward()\n",
    "                        optimizer.step()\n",
    "                        if scheduler: scheduler.step()\n",
    "                lossPerPass.append(loss.item())\n",
    "                accsPerPass.append(get_accuracy(output, y))\n",
    "            epochLoss[phase] = np.mean(np.array(lossPerPass))\n",
    "            epochAccs[phase] = np.mean(np.array(accsPerPass))\n",
    "        LRs.append(scheduler.get_last_lr())\n",
    "        Losses.append(epochLoss)\n",
    "        Accuracies.append(epochAccs)\n",
    "        \n",
    "        if early_stopping_patience:\n",
    "            if epochLoss[\"valid\"] < bestLoss[\"valid\"]:\n",
    "                bestLoss = epochLoss\n",
    "                BLE = e + 1\n",
    "                torch.save({\"model_state_dict\"     : model.state_dict(),\n",
    "                            \"optim_state_dict\"     : optimizer.state_dict()},\n",
    "                           os.path.join(save_path, name))\n",
    "                early_stopping_step = 0\n",
    "            else:\n",
    "                early_stopping_step += 1\n",
    "                if early_stopping_step > early_stopping_patience:\n",
    "                    print(\"\\nEarly Stopping at Epoch {}\".format(e + 1))\n",
    "                    break\n",
    "        \n",
    "        if epochLoss[\"valid\"] < bestLoss[\"valid\"]:\n",
    "            bestLoss = epochLoss\n",
    "            BLE = e + 1\n",
    "            torch.save({\"model_state_dict\"     : model.state_dict(),\n",
    "                        \"optim_state_dict\"     : optimizer.state_dict()},\n",
    "                        os.path.join(save_path, name))\n",
    "        \n",
    "        if epochAccs[\"valid\"] > bestAccs[\"valid\"]:\n",
    "            bestAccs = epochAccs\n",
    "            BAE = e + 1\n",
    "        \n",
    "        # if scheduler: scheduler.step(epochLoss[\"valid\"])\n",
    "        \n",
    "        if verbose:\n",
    "            print(\"Epoch: {} | Train Loss: {:.5f} | Valid Loss: {:.5f} | Train Accs: {:.5f} | Valid Accs: {:.5f} | Time: {:.2f} seconds\".format(e+1, \n",
    "                                                                       epochLoss[\"train\"], epochLoss[\"valid\"], \n",
    "                                                                       epochAccs[\"train\"], epochAccs[\"valid\"], \n",
    "                                                                       time()-e_st))\n",
    "\n",
    "    if verbose:                                           \n",
    "        breaker()\n",
    "        print(f\"Best Validation Loss at Epoch {BLE}\")\n",
    "        breaker()\n",
    "        print(f\"Best Validation Accs at Epoch {BAE}\")\n",
    "        breaker()\n",
    "        print(\"Time Taken [{} Epochs] : {:.2f} minutes\".format(len(Losses), (time()-start_time)/60))\n",
    "    \n",
    "    return Losses, Accuracies, LRs, BLE, BAE, name\n",
    "\n",
    "\n",
    "def predict(model=None, dataloader=None, path=None, device=None) -> np.ndarray:\n",
    "    model.load_state_dict(torch.load(path, map_location=device)[\"model_state_dict\"])\n",
    "    model.to(device)    \n",
    "    model.eval()\n",
    "    \n",
    "    y_pred = torch.zeros(1, 1).to(device)\n",
    "    \n",
    "    for X in dataloader:\n",
    "        X = X.to(device)\n",
    "        with torch.no_grad():\n",
    "            output = torch.sigmoid(model(X))\n",
    "        y_pred = torch.cat((y_pred, output.view(-1, 1)), dim=0)\n",
    "    \n",
    "    y_pred[y_pred > 0.5] = 1\n",
    "    y_pred[y_pred <= 0.5] = 0\n",
    "    \n",
    "    return y_pred[1:].detach().cpu().numpy()"
   ]
  },
  {
   "cell_type": "markdown",
   "id": "c3c29801",
   "metadata": {
    "papermill": {
     "duration": 0.016195,
     "end_time": "2022-04-18T18:51:12.712855",
     "exception": false,
     "start_time": "2022-04-18T18:51:12.696660",
     "status": "completed"
    },
    "tags": []
   },
   "source": [
    "### **Train**"
   ]
  },
  {
   "cell_type": "code",
   "execution_count": 7,
   "id": "35f4998e",
   "metadata": {
    "execution": {
     "iopub.execute_input": "2022-04-18T18:51:12.747595Z",
     "iopub.status.busy": "2022-04-18T18:51:12.747264Z",
     "iopub.status.idle": "2022-04-18T18:51:19.387666Z",
     "shell.execute_reply": "2022-04-18T18:51:19.386577Z"
    },
    "papermill": {
     "duration": 6.660798,
     "end_time": "2022-04-18T18:51:19.390275",
     "exception": false,
     "start_time": "2022-04-18T18:51:12.729477",
     "status": "completed"
    },
    "tags": []
   },
   "outputs": [],
   "source": [
    "images = np.load(f\"../input/tb-chest-x-rays/images_{SIZE}.npy\")\n",
    "labels = np.load(f\"../input/tb-chest-x-rays/targets_{SIZE}.npy\")"
   ]
  },
  {
   "cell_type": "code",
   "execution_count": 8,
   "id": "5d0c9e22",
   "metadata": {
    "execution": {
     "iopub.execute_input": "2022-04-18T18:51:19.426790Z",
     "iopub.status.busy": "2022-04-18T18:51:19.426457Z",
     "iopub.status.idle": "2022-04-18T19:32:43.414206Z",
     "shell.execute_reply": "2022-04-18T19:32:43.413036Z"
    },
    "papermill": {
     "duration": 2484.009666,
     "end_time": "2022-04-18T19:32:43.417336",
     "exception": false,
     "start_time": "2022-04-18T18:51:19.407670",
     "status": "completed"
    },
    "tags": []
   },
   "outputs": [
    {
     "name": "stderr",
     "output_type": "stream",
     "text": [
      "Downloading: \"https://download.pytorch.org/models/densenet121-a639ec97.pth\" to /root/.cache/torch/hub/checkpoints/densenet121-a639ec97.pth\n"
     ]
    },
    {
     "data": {
      "application/vnd.jupyter.widget-view+json": {
       "model_id": "6e5cd970e64c4869a7e40a86591c4dc6",
       "version_major": 2,
       "version_minor": 0
      },
      "text/plain": [
       "  0%|          | 0.00/30.8M [00:00<?, ?B/s]"
      ]
     },
     "metadata": {},
     "output_type": "display_data"
    },
    {
     "name": "stdout",
     "output_type": "stream",
     "text": [
      "\n",
      "**************************************************\n",
      "\n",
      "Training Fold 1...\n",
      "\n",
      "**************************************************\n",
      "\n",
      "Epoch: 1 | Train Loss: 0.28114 | Valid Loss: 0.07668 | Train Accs: 0.94643 | Valid Accs: 0.96816 | Time: 50.62 seconds\n",
      "Epoch: 2 | Train Loss: 0.03708 | Valid Loss: 0.01918 | Train Accs: 0.98839 | Valid Accs: 0.99410 | Time: 44.30 seconds\n",
      "Epoch: 3 | Train Loss: 0.04658 | Valid Loss: 0.11148 | Train Accs: 0.98631 | Valid Accs: 0.97052 | Time: 44.14 seconds\n",
      "Epoch: 4 | Train Loss: 0.04278 | Valid Loss: 0.03099 | Train Accs: 0.98720 | Valid Accs: 0.98939 | Time: 43.78 seconds\n",
      "Epoch: 5 | Train Loss: 0.02268 | Valid Loss: 0.16361 | Train Accs: 0.99315 | Valid Accs: 0.93868 | Time: 43.38 seconds\n",
      "Epoch: 6 | Train Loss: 0.04152 | Valid Loss: 0.01444 | Train Accs: 0.98780 | Valid Accs: 0.99528 | Time: 44.51 seconds\n",
      "Epoch: 7 | Train Loss: 0.01661 | Valid Loss: 0.01583 | Train Accs: 0.99464 | Valid Accs: 0.99646 | Time: 43.81 seconds\n",
      "Epoch: 8 | Train Loss: 0.00905 | Valid Loss: 0.06250 | Train Accs: 0.99732 | Valid Accs: 0.98349 | Time: 43.32 seconds\n",
      "Epoch: 9 | Train Loss: 0.01235 | Valid Loss: 0.04932 | Train Accs: 0.99732 | Valid Accs: 0.97877 | Time: 44.17 seconds\n",
      "Epoch: 10 | Train Loss: 0.00728 | Valid Loss: 0.01446 | Train Accs: 0.99911 | Valid Accs: 0.99410 | Time: 43.66 seconds\n",
      "Epoch: 11 | Train Loss: 0.00408 | Valid Loss: 0.00367 | Train Accs: 0.99881 | Valid Accs: 0.99882 | Time: 43.75 seconds\n",
      "Epoch: 12 | Train Loss: 0.00756 | Valid Loss: 0.02482 | Train Accs: 0.99851 | Valid Accs: 0.99057 | Time: 43.52 seconds\n",
      "Epoch: 13 | Train Loss: 0.00336 | Valid Loss: 0.00364 | Train Accs: 0.99940 | Valid Accs: 1.00000 | Time: 44.16 seconds\n",
      "Epoch: 14 | Train Loss: 0.00188 | Valid Loss: 0.00241 | Train Accs: 0.99940 | Valid Accs: 0.99882 | Time: 43.65 seconds\n",
      "Epoch: 15 | Train Loss: 0.00092 | Valid Loss: 0.00190 | Train Accs: 0.99970 | Valid Accs: 1.00000 | Time: 43.51 seconds\n",
      "Epoch: 16 | Train Loss: 0.00046 | Valid Loss: 0.00218 | Train Accs: 1.00000 | Valid Accs: 0.99882 | Time: 43.66 seconds\n",
      "Epoch: 17 | Train Loss: 0.00022 | Valid Loss: 0.00213 | Train Accs: 1.00000 | Valid Accs: 0.99882 | Time: 43.55 seconds\n",
      "Epoch: 18 | Train Loss: 0.00043 | Valid Loss: 0.00245 | Train Accs: 1.00000 | Valid Accs: 0.99882 | Time: 43.44 seconds\n",
      "Epoch: 19 | Train Loss: 0.00024 | Valid Loss: 0.00198 | Train Accs: 1.00000 | Valid Accs: 0.99882 | Time: 43.39 seconds\n",
      "Epoch: 20 | Train Loss: 0.00031 | Valid Loss: 0.00223 | Train Accs: 1.00000 | Valid Accs: 0.99882 | Time: 43.13 seconds\n",
      "\n",
      "**************************************************\n",
      "\n",
      "Best Validation Loss at Epoch 15\n",
      "\n",
      "**************************************************\n",
      "\n",
      "Best Validation Accs at Epoch 13\n",
      "\n",
      "**************************************************\n",
      "\n",
      "Time Taken [20 Epochs] : 14.69 minutes\n",
      "\n",
      "**************************************************\n",
      "\n"
     ]
    },
    {
     "data": {
      "image/png": "[encoded data removed]",
      "text/plain": [
       "<Figure size 576x432 with 2 Axes>"
      ]
     },
     "metadata": {
      "needs_background": "light"
     },
     "output_type": "display_data"
    },
    {
     "name": "stdout",
     "output_type": "stream",
     "text": [
      "\n",
      "**************************************************\n",
      "\n",
      "Training Fold 2...\n",
      "\n",
      "**************************************************\n",
      "\n",
      "Epoch: 1 | Train Loss: 0.36021 | Valid Loss: 0.03903 | Train Accs: 0.93072 | Valid Accs: 0.99330 | Time: 34.77 seconds\n",
      "Epoch: 2 | Train Loss: 0.02019 | Valid Loss: 0.00909 | Train Accs: 0.99617 | Valid Accs: 0.99888 | Time: 34.79 seconds\n",
      "Epoch: 3 | Train Loss: 0.01566 | Valid Loss: 0.02933 | Train Accs: 0.99528 | Valid Accs: 0.98884 | Time: 34.32 seconds\n",
      "Epoch: 4 | Train Loss: 0.03023 | Valid Loss: 0.05540 | Train Accs: 0.98998 | Valid Accs: 0.99107 | Time: 34.50 seconds\n",
      "Epoch: 5 | Train Loss: 0.02286 | Valid Loss: 0.12604 | Train Accs: 0.99292 | Valid Accs: 0.96094 | Time: 34.40 seconds\n",
      "Epoch: 6 | Train Loss: 0.03190 | Valid Loss: 0.03503 | Train Accs: 0.98939 | Valid Accs: 0.98772 | Time: 34.49 seconds\n",
      "Epoch: 7 | Train Loss: 0.00809 | Valid Loss: 0.04981 | Train Accs: 0.99794 | Valid Accs: 0.98214 | Time: 34.44 seconds\n",
      "\n",
      "Early Stopping at Epoch 8\n",
      "\n",
      "**************************************************\n",
      "\n",
      "Best Validation Loss at Epoch 2\n",
      "\n",
      "**************************************************\n",
      "\n",
      "Best Validation Accs at Epoch 2\n",
      "\n",
      "**************************************************\n",
      "\n",
      "Time Taken [8 Epochs] : 4.61 minutes\n",
      "\n",
      "**************************************************\n",
      "\n"
     ]
    },
    {
     "data": {
      "image/png": "[encoded data removed]",
      "text/plain": [
       "<Figure size 576x432 with 2 Axes>"
      ]
     },
     "metadata": {
      "needs_background": "light"
     },
     "output_type": "display_data"
    },
    {
     "name": "stdout",
     "output_type": "stream",
     "text": [
      "\n",
      "**************************************************\n",
      "\n",
      "Training Fold 3...\n",
      "\n",
      "**************************************************\n",
      "\n",
      "Epoch: 1 | Train Loss: 0.36193 | Valid Loss: 0.05070 | Train Accs: 0.93721 | Valid Accs: 0.98661 | Time: 34.52 seconds\n",
      "Epoch: 2 | Train Loss: 0.01679 | Valid Loss: 0.12593 | Train Accs: 0.99676 | Valid Accs: 0.95536 | Time: 34.31 seconds\n",
      "Epoch: 3 | Train Loss: 0.02097 | Valid Loss: 0.01628 | Train Accs: 0.99558 | Valid Accs: 0.99665 | Time: 34.60 seconds\n",
      "Epoch: 4 | Train Loss: 0.00888 | Valid Loss: 0.00994 | Train Accs: 0.99823 | Valid Accs: 0.99777 | Time: 34.70 seconds\n",
      "Epoch: 5 | Train Loss: 0.00169 | Valid Loss: 0.00310 | Train Accs: 1.00000 | Valid Accs: 0.99888 | Time: 34.77 seconds\n",
      "Epoch: 6 | Train Loss: 0.00055 | Valid Loss: 0.00509 | Train Accs: 1.00000 | Valid Accs: 0.99888 | Time: 34.59 seconds\n",
      "Epoch: 7 | Train Loss: 0.00042 | Valid Loss: 0.00671 | Train Accs: 1.00000 | Valid Accs: 0.99888 | Time: 34.61 seconds\n",
      "Epoch: 8 | Train Loss: 0.00032 | Valid Loss: 0.00813 | Train Accs: 1.00000 | Valid Accs: 0.99888 | Time: 34.38 seconds\n",
      "Epoch: 9 | Train Loss: 0.00025 | Valid Loss: 0.00803 | Train Accs: 1.00000 | Valid Accs: 0.99888 | Time: 34.36 seconds\n",
      "Epoch: 10 | Train Loss: 0.00026 | Valid Loss: 0.00421 | Train Accs: 1.00000 | Valid Accs: 0.99888 | Time: 34.33 seconds\n",
      "\n",
      "Early Stopping at Epoch 11\n",
      "\n",
      "**************************************************\n",
      "\n",
      "Best Validation Loss at Epoch 5\n",
      "\n",
      "**************************************************\n",
      "\n",
      "Best Validation Accs at Epoch 5\n",
      "\n",
      "**************************************************\n",
      "\n",
      "Time Taken [11 Epochs] : 6.32 minutes\n",
      "\n",
      "**************************************************\n",
      "\n"
     ]
    },
    {
     "data": {
      "image/png": "[encoded data removed]",
      "text/plain": [
       "<Figure size 576x432 with 2 Axes>"
      ]
     },
     "metadata": {
      "needs_background": "light"
     },
     "output_type": "display_data"
    },
    {
     "name": "stdout",
     "output_type": "stream",
     "text": [
      "\n",
      "**************************************************\n",
      "\n",
      "Training Fold 4...\n",
      "\n",
      "**************************************************\n",
      "\n",
      "Epoch: 1 | Train Loss: 0.35845 | Valid Loss: 0.06124 | Train Accs: 0.93013 | Valid Accs: 0.97545 | Time: 34.80 seconds\n",
      "Epoch: 2 | Train Loss: 0.01527 | Valid Loss: 0.00435 | Train Accs: 0.99764 | Valid Accs: 1.00000 | Time: 34.83 seconds\n",
      "Epoch: 3 | Train Loss: 0.00868 | Valid Loss: 0.10002 | Train Accs: 0.99823 | Valid Accs: 0.95871 | Time: 34.35 seconds\n",
      "Epoch: 4 | Train Loss: 0.03228 | Valid Loss: 0.02803 | Train Accs: 0.99086 | Valid Accs: 0.98884 | Time: 34.37 seconds\n",
      "Epoch: 5 | Train Loss: 0.01895 | Valid Loss: 0.14603 | Train Accs: 0.99528 | Valid Accs: 0.94643 | Time: 34.36 seconds\n",
      "Epoch: 6 | Train Loss: 0.01517 | Valid Loss: 0.01089 | Train Accs: 0.99558 | Valid Accs: 0.99777 | Time: 34.28 seconds\n",
      "Epoch: 7 | Train Loss: 0.01059 | Valid Loss: 0.01723 | Train Accs: 0.99705 | Valid Accs: 0.99665 | Time: 34.44 seconds\n",
      "\n",
      "Early Stopping at Epoch 8\n",
      "\n",
      "**************************************************\n",
      "\n",
      "Best Validation Loss at Epoch 2\n",
      "\n",
      "**************************************************\n",
      "\n",
      "Best Validation Accs at Epoch 2\n",
      "\n",
      "**************************************************\n",
      "\n",
      "Time Taken [8 Epochs] : 4.60 minutes\n",
      "\n",
      "**************************************************\n",
      "\n"
     ]
    },
    {
     "data": {
      "image/png": "[encoded data removed]",
      "text/plain": [
       "<Figure size 576x432 with 2 Axes>"
      ]
     },
     "metadata": {
      "needs_background": "light"
     },
     "output_type": "display_data"
    },
    {
     "name": "stdout",
     "output_type": "stream",
     "text": [
      "\n",
      "**************************************************\n",
      "\n",
      "Training Fold 5...\n",
      "\n",
      "**************************************************\n",
      "\n",
      "Epoch: 1 | Train Loss: 0.36189 | Valid Loss: 0.07128 | Train Accs: 0.92954 | Valid Accs: 0.96987 | Time: 34.62 seconds\n",
      "Epoch: 2 | Train Loss: 0.02076 | Valid Loss: 0.01607 | Train Accs: 0.99587 | Valid Accs: 0.99554 | Time: 34.64 seconds\n",
      "Epoch: 3 | Train Loss: 0.01884 | Valid Loss: 0.03198 | Train Accs: 0.99617 | Valid Accs: 0.98326 | Time: 34.40 seconds\n",
      "Epoch: 4 | Train Loss: 0.02143 | Valid Loss: 0.02317 | Train Accs: 0.99351 | Valid Accs: 0.99442 | Time: 34.36 seconds\n",
      "Epoch: 5 | Train Loss: 0.01552 | Valid Loss: 0.01122 | Train Accs: 0.99617 | Valid Accs: 0.99554 | Time: 34.79 seconds\n",
      "Epoch: 6 | Train Loss: 0.01331 | Valid Loss: 0.04612 | Train Accs: 0.99558 | Valid Accs: 0.98884 | Time: 34.39 seconds\n",
      "Epoch: 7 | Train Loss: 0.00978 | Valid Loss: 0.19675 | Train Accs: 0.99676 | Valid Accs: 0.94308 | Time: 34.36 seconds\n",
      "Epoch: 8 | Train Loss: 0.00477 | Valid Loss: 0.00357 | Train Accs: 0.99912 | Valid Accs: 1.00000 | Time: 34.92 seconds\n",
      "Epoch: 9 | Train Loss: 0.00088 | Valid Loss: 0.00568 | Train Accs: 0.99971 | Valid Accs: 0.99888 | Time: 34.42 seconds\n",
      "Epoch: 10 | Train Loss: 0.00086 | Valid Loss: 0.00965 | Train Accs: 1.00000 | Valid Accs: 0.99777 | Time: 34.54 seconds\n",
      "Epoch: 11 | Train Loss: 0.00034 | Valid Loss: 0.00171 | Train Accs: 1.00000 | Valid Accs: 0.99888 | Time: 34.96 seconds\n",
      "Epoch: 12 | Train Loss: 0.00030 | Valid Loss: 0.00091 | Train Accs: 1.00000 | Valid Accs: 1.00000 | Time: 34.71 seconds\n",
      "Epoch: 13 | Train Loss: 0.00020 | Valid Loss: 0.00064 | Train Accs: 1.00000 | Valid Accs: 1.00000 | Time: 34.87 seconds\n",
      "Epoch: 14 | Train Loss: 0.00018 | Valid Loss: 0.00097 | Train Accs: 1.00000 | Valid Accs: 1.00000 | Time: 34.43 seconds\n",
      "Epoch: 15 | Train Loss: 0.00014 | Valid Loss: 0.00098 | Train Accs: 1.00000 | Valid Accs: 1.00000 | Time: 34.41 seconds\n",
      "Epoch: 16 | Train Loss: 0.00015 | Valid Loss: 0.00115 | Train Accs: 1.00000 | Valid Accs: 1.00000 | Time: 34.40 seconds\n",
      "Epoch: 17 | Train Loss: 0.00013 | Valid Loss: 0.00094 | Train Accs: 1.00000 | Valid Accs: 1.00000 | Time: 34.46 seconds\n",
      "Epoch: 18 | Train Loss: 0.00014 | Valid Loss: 0.00096 | Train Accs: 1.00000 | Valid Accs: 1.00000 | Time: 34.38 seconds\n",
      "\n",
      "Early Stopping at Epoch 19\n",
      "\n",
      "**************************************************\n",
      "\n",
      "Best Validation Loss at Epoch 13\n",
      "\n",
      "**************************************************\n",
      "\n",
      "Best Validation Accs at Epoch 8\n",
      "\n",
      "**************************************************\n",
      "\n",
      "Time Taken [19 Epochs] : 10.94 minutes\n",
      "\n",
      "**************************************************\n",
      "\n"
     ]
    },
    {
     "data": {
      "image/png": "[encoded data removed]",
      "text/plain": [
       "<Figure size 576x432 with 2 Axes>"
      ]
     },
     "metadata": {
      "needs_background": "light"
     },
     "output_type": "display_data"
    }
   ],
   "source": [
    "fold = 1\n",
    "BLEs, BAEs = [], []\n",
    "\n",
    "for tr_idx, va_idx in KFold(n_splits=cfg.n_splits, random_state=cfg.seed, shuffle=True).split(images):\n",
    "    tr_images, va_images, tr_labels, va_labels = images[tr_idx], images[va_idx], labels[tr_idx], labels[va_idx]\n",
    "\n",
    "    tr_data_setup = DS(tr_images, tr_labels.reshape(-1, 1), cfg.transform)\n",
    "    va_data_setup = DS(va_images, va_labels.reshape(-1, 1), cfg.transform)\n",
    "\n",
    "    dataloaders = {\n",
    "        \"train\" : DL(tr_data_setup, batch_size=cfg.batch_size, shuffle=True, generator=torch.manual_seed(cfg.seed)),\n",
    "        \"valid\" : DL(va_data_setup, batch_size=cfg.batch_size, shuffle=False),\n",
    "    }\n",
    "\n",
    "    cfg = CFG(epochs=20, lr=1e-3, wd=0.0, batch_size=64, steps_per_epoch=len(dataloaders[\"train\"]))\n",
    "\n",
    "    torch.manual_seed(cfg.seed)\n",
    "    model = Model().to(cfg.device)\n",
    "    optimizer = optim.Adam([p for p in model.parameters() if p.requires_grad], lr=cfg.lr, weight_decay=cfg.wd)\n",
    "    scheduler = optim.lr_scheduler.OneCycleLR(optimizer=optimizer, \n",
    "                                              max_lr=cfg.max_lr, \n",
    "                                              epochs=cfg.epochs, \n",
    "                                              steps_per_epoch=cfg.steps_per_epoch,\n",
    "                                              pct_start=cfg.pct_start, \n",
    "                                              div_factor=cfg.div_factor, \n",
    "                                              final_div_factor=cfg.final_div_factor)\n",
    "    # scheduler = None\n",
    "\n",
    "    L, A, LRs, BLE, BAE, name = fit(model=model, \n",
    "                                    optimizer=optimizer, \n",
    "                                    scheduler=scheduler, \n",
    "                                    epochs=cfg.epochs, \n",
    "                                    early_stopping_patience=cfg.early_stopping, \n",
    "                                    dataloaders=dataloaders, \n",
    "                                    device=cfg.device,\n",
    "                                    save_path=cfg.save_path,\n",
    "                                    fold = fold,\n",
    "                                    verbose=True)\n",
    "\n",
    "    breaker()\n",
    "    show_graphs(L, A)\n",
    "    \n",
    "    BLEs.append(BLE)\n",
    "    BAEs.append(BAE)\n",
    "\n",
    "    fold += 1"
   ]
  },
  {
   "cell_type": "markdown",
   "id": "3fc209cf",
   "metadata": {
    "papermill": {
     "duration": 0.054159,
     "end_time": "2022-04-18T19:32:43.525990",
     "exception": false,
     "start_time": "2022-04-18T19:32:43.471831",
     "status": "completed"
    },
    "tags": []
   },
   "source": [
    "### **Predictions**"
   ]
  },
  {
   "cell_type": "code",
   "execution_count": 9,
   "id": "d574bcea",
   "metadata": {
    "execution": {
     "iopub.execute_input": "2022-04-18T19:32:43.636996Z",
     "iopub.status.busy": "2022-04-18T19:32:43.636702Z",
     "iopub.status.idle": "2022-04-18T19:32:43.644865Z",
     "shell.execute_reply": "2022-04-18T19:32:43.643828Z"
    },
    "papermill": {
     "duration": 0.066895,
     "end_time": "2022-04-18T19:32:43.647445",
     "exception": false,
     "start_time": "2022-04-18T19:32:43.580550",
     "status": "completed"
    },
    "tags": []
   },
   "outputs": [
    {
     "name": "stdout",
     "output_type": "stream",
     "text": [
      "\n",
      "**************************************************\n",
      "\n",
      "Best Fold : 2\n",
      "\n",
      "**************************************************\n",
      "\n"
     ]
    }
   ],
   "source": [
    "# test_images = np.load(f\"../input/chest-x-rays-images/test_images_{SIZE}.npy\")\n",
    "# test_labels = np.load(f\"../input/chest-x-rays-images/test_targets_{SIZE}.npy\")\n",
    "\n",
    "# ts_data_setup = DS(test_images, None, cfg.transform)\n",
    "# ts_data = DL(ts_data_setup, batch_size=cfg.batch_size, shuffle=False)\n",
    "\n",
    "best_fold = BLEs.index(min(BLEs)) + 1\n",
    "# model_path = f\"saves/state_fold_{best_fold}.pt\"\n",
    "# y_pred = predict(model=Model().to(cfg.device), dataloader=ts_data, path=model_path, device=cfg.device)\n",
    "\n",
    "# accuracy, auc, precision, recall, f_score = get_scores(test_labels, y_pred)\n",
    "\n",
    "breaker()\n",
    "print(f\"Best Fold : {best_fold}\")\n",
    "breaker()\n",
    "# print_scores(accuracy, auc, precision, recall, f_score)\n",
    "# breaker()\n",
    "# print(classification_report(test_labels, y_pred))\n",
    "# breaker()\n",
    "# print(confusion_matrix(test_labels, y_pred))\n",
    "# breaker()"
   ]
  }
 ],
 "metadata": {
  "kernelspec": {
   "display_name": "Python 3",
   "language": "python",
   "name": "python3"
  },
  "language_info": {
   "codemirror_mode": {
    "name": "ipython",
    "version": 3
   },
   "file_extension": ".py",
   "mimetype": "text/x-python",
   "name": "python",
   "nbconvert_exporter": "python",
   "pygments_lexer": "ipython3",
   "version": "3.7.12"
  },
  "papermill": {
   "default_parameters": {},
   "duration": 2506.915447,
   "end_time": "2022-04-18T19:32:46.074417",
   "environment_variables": {},
   "exception": null,
   "input_path": "__notebook__.ipynb",
   "output_path": "__notebook__.ipynb",
   "parameters": {},
   "start_time": "2022-04-18T18:50:59.158970",
   "version": "2.3.4"
  },
  "widgets": {
   "application/vnd.jupyter.widget-state+json": {
    "state": {
     "13907a33c81b45aba32539becfc2a4fa": {
      "model_module": "@jupyter-widgets/base",
      "model_module_version": "1.2.0",
      "model_name": "LayoutModel",
      "state": {
       "_model_module": "@jupyter-widgets/base",
       "_model_module_version": "1.2.0",
       "_model_name": "LayoutModel",
       "_view_count": null,
       "_view_module": "@jupyter-widgets/base",
       "_view_module_version": "1.2.0",
       "_view_name": "LayoutView",
       "align_content": null,
       "align_items": null,
       "align_self": null,
       "border": null,
       "bottom": null,
       "display": null,
       "flex": null,
       "flex_flow": null,
       "grid_area": null,
       "grid_auto_columns": null,
       "grid_auto_flow": null,
       "grid_auto_rows": null,
       "grid_column": null,
       "grid_gap": null,
       "grid_row": null,
       "grid_template_areas": null,
       "grid_template_columns": null,
       "grid_template_rows": null,
       "height": null,
       "justify_content": null,
       "justify_items": null,
       "left": null,
       "margin": null,
       "max_height": null,
       "max_width": null,
       "min_height": null,
       "min_width": null,
       "object_fit": null,
       "object_position": null,
       "order": null,
       "overflow": null,
       "overflow_x": null,
       "overflow_y": null,
       "padding": null,
       "right": null,
       "top": null,
       "visibility": null,
       "width": null
      }
     },
     "3fe3a5bbf1e04423807c59ab28eca2de": {
      "model_module": "@jupyter-widgets/base",
      "model_module_version": "1.2.0",
      "model_name": "LayoutModel",
      "state": {
       "_model_module": "@jupyter-widgets/base",
       "_model_module_version": "1.2.0",
       "_model_name": "LayoutModel",
       "_view_count": null,
       "_view_module": "@jupyter-widgets/base",
       "_view_module_version": "1.2.0",
       "_view_name": "LayoutView",
       "align_content": null,
       "align_items": null,
       "align_self": null,
       "border": null,
       "bottom": null,
       "display": null,
       "flex": null,
       "flex_flow": null,
       "grid_area": null,
       "grid_auto_columns": null,
       "grid_auto_flow": null,
       "grid_auto_rows": null,
       "grid_column": null,
       "grid_gap": null,
       "grid_row": null,
       "grid_template_areas": null,
       "grid_template_columns": null,
       "grid_template_rows": null,
       "height": null,
       "justify_content": null,
       "justify_items": null,
       "left": null,
       "margin": null,
       "max_height": null,
       "max_width": null,
       "min_height": null,
       "min_width": null,
       "object_fit": null,
       "object_position": null,
       "order": null,
       "overflow": null,
       "overflow_x": null,
       "overflow_y": null,
       "padding": null,
       "right": null,
       "top": null,
       "visibility": null,
       "width": null
      }
     },
     "4945e594e8f642f5a0ee44b2535cb190": {
      "model_module": "@jupyter-widgets/controls",
      "model_module_version": "1.5.0",
      "model_name": "ProgressStyleModel",
      "state": {
       "_model_module": "@jupyter-widgets/controls",
       "_model_module_version": "1.5.0",
       "_model_name": "ProgressStyleModel",
       "_view_count": null,
       "_view_module": "@jupyter-widgets/base",
       "_view_module_version": "1.2.0",
       "_view_name": "StyleView",
       "bar_color": null,
       "description_width": ""
      }
     },
     "61bde5d8405e46729a0ba8e436534747": {
      "model_module": "@jupyter-widgets/controls",
      "model_module_version": "1.5.0",
      "model_name": "DescriptionStyleModel",
      "state": {
       "_model_module": "@jupyter-widgets/controls",
       "_model_module_version": "1.5.0",
       "_model_name": "DescriptionStyleModel",
       "_view_count": null,
       "_view_module": "@jupyter-widgets/base",
       "_view_module_version": "1.2.0",
       "_view_name": "StyleView",
       "description_width": ""
      }
     },
     "6e5cd970e64c4869a7e40a86591c4dc6": {
      "model_module": "@jupyter-widgets/controls",
      "model_module_version": "1.5.0",
      "model_name": "HBoxModel",
      "state": {
       "_dom_classes": [],
       "_model_module": "@jupyter-widgets/controls",
       "_model_module_version": "1.5.0",
       "_model_name": "HBoxModel",
       "_view_count": null,
       "_view_module": "@jupyter-widgets/controls",
       "_view_module_version": "1.5.0",
       "_view_name": "HBoxView",
       "box_style": "",
       "children": [
        "IPY_MODEL_c882416c8f7e44898ff68791e1a8264b",
        "IPY_MODEL_b28121258e914c279d85ca042b6ee4f0",
        "IPY_MODEL_f6b7c09455e74cccbaa042dbbf3a4cdd"
       ],
       "layout": "IPY_MODEL_13907a33c81b45aba32539becfc2a4fa"
      }
     },
     "7c0ec88a906f4157b9c12a68a4cd3daf": {
      "model_module": "@jupyter-widgets/controls",
      "model_module_version": "1.5.0",
      "model_name": "DescriptionStyleModel",
      "state": {
       "_model_module": "@jupyter-widgets/controls",
       "_model_module_version": "1.5.0",
       "_model_name": "DescriptionStyleModel",
       "_view_count": null,
       "_view_module": "@jupyter-widgets/base",
       "_view_module_version": "1.2.0",
       "_view_name": "StyleView",
       "description_width": ""
      }
     },
     "854f24a1f55f4eed8becc0331344443c": {
      "model_module": "@jupyter-widgets/base",
      "model_module_version": "1.2.0",
      "model_name": "LayoutModel",
      "state": {
       "_model_module": "@jupyter-widgets/base",
       "_model_module_version": "1.2.0",
       "_model_name": "LayoutModel",
       "_view_count": null,
       "_view_module": "@jupyter-widgets/base",
       "_view_module_version": "1.2.0",
       "_view_name": "LayoutView",
       "align_content": null,
       "align_items": null,
       "align_self": null,
       "border": null,
       "bottom": null,
       "display": null,
       "flex": null,
       "flex_flow": null,
       "grid_area": null,
       "grid_auto_columns": null,
       "grid_auto_flow": null,
       "grid_auto_rows": null,
       "grid_column": null,
       "grid_gap": null,
       "grid_row": null,
       "grid_template_areas": null,
       "grid_template_columns": null,
       "grid_template_rows": null,
       "height": null,
       "justify_content": null,
       "justify_items": null,
       "left": null,
       "margin": null,
       "max_height": null,
       "max_width": null,
       "min_height": null,
       "min_width": null,
       "object_fit": null,
       "object_position": null,
       "order": null,
       "overflow": null,
       "overflow_x": null,
       "overflow_y": null,
       "padding": null,
       "right": null,
       "top": null,
       "visibility": null,
       "width": null
      }
     },
     "8a552c2642cb44dfb6a7c2d8a4aaf0c9": {
      "model_module": "@jupyter-widgets/base",
      "model_module_version": "1.2.0",
      "model_name": "LayoutModel",
      "state": {
       "_model_module": "@jupyter-widgets/base",
       "_model_module_version": "1.2.0",
       "_model_name": "LayoutModel",
       "_view_count": null,
       "_view_module": "@jupyter-widgets/base",
       "_view_module_version": "1.2.0",
       "_view_name": "LayoutView",
       "align_content": null,
       "align_items": null,
       "align_self": null,
       "border": null,
       "bottom": null,
       "display": null,
       "flex": null,
       "flex_flow": null,
       "grid_area": null,
       "grid_auto_columns": null,
       "grid_auto_flow": null,
       "grid_auto_rows": null,
       "grid_column": null,
       "grid_gap": null,
       "grid_row": null,
       "grid_template_areas": null,
       "grid_template_columns": null,
       "grid_template_rows": null,
       "height": null,
       "justify_content": null,
       "justify_items": null,
       "left": null,
       "margin": null,
       "max_height": null,
       "max_width": null,
       "min_height": null,
       "min_width": null,
       "object_fit": null,
       "object_position": null,
       "order": null,
       "overflow": null,
       "overflow_x": null,
       "overflow_y": null,
       "padding": null,
       "right": null,
       "top": null,
       "visibility": null,
       "width": null
      }
     },
     "b28121258e914c279d85ca042b6ee4f0": {
      "model_module": "@jupyter-widgets/controls",
      "model_module_version": "1.5.0",
      "model_name": "FloatProgressModel",
      "state": {
       "_dom_classes": [],
       "_model_module": "@jupyter-widgets/controls",
       "_model_module_version": "1.5.0",
       "_model_name": "FloatProgressModel",
       "_view_count": null,
       "_view_module": "@jupyter-widgets/controls",
       "_view_module_version": "1.5.0",
       "_view_name": "ProgressView",
       "bar_style": "success",
       "description": "",
       "description_tooltip": null,
       "layout": "IPY_MODEL_854f24a1f55f4eed8becc0331344443c",
       "max": 32342954.0,
       "min": 0.0,
       "orientation": "horizontal",
       "style": "IPY_MODEL_4945e594e8f642f5a0ee44b2535cb190",
       "value": 32342954.0
      }
     },
     "c882416c8f7e44898ff68791e1a8264b": {
      "model_module": "@jupyter-widgets/controls",
      "model_module_version": "1.5.0",
      "model_name": "HTMLModel",
      "state": {
       "_dom_classes": [],
       "_model_module": "@jupyter-widgets/controls",
       "_model_module_version": "1.5.0",
       "_model_name": "HTMLModel",
       "_view_count": null,
       "_view_module": "@jupyter-widgets/controls",
       "_view_module_version": "1.5.0",
       "_view_name": "HTMLView",
       "description": "",
       "description_tooltip": null,
       "layout": "IPY_MODEL_3fe3a5bbf1e04423807c59ab28eca2de",
       "placeholder": "​",
       "style": "IPY_MODEL_7c0ec88a906f4157b9c12a68a4cd3daf",
       "value": "100%"
      }
     },
     "f6b7c09455e74cccbaa042dbbf3a4cdd": {
      "model_module": "@jupyter-widgets/controls",
      "model_module_version": "1.5.0",
      "model_name": "HTMLModel",
      "state": {
       "_dom_classes": [],
       "_model_module": "@jupyter-widgets/controls",
       "_model_module_version": "1.5.0",
       "_model_name": "HTMLModel",
       "_view_count": null,
       "_view_module": "@jupyter-widgets/controls",
       "_view_module_version": "1.5.0",
       "_view_name": "HTMLView",
       "description": "",
       "description_tooltip": null,
       "layout": "IPY_MODEL_8a552c2642cb44dfb6a7c2d8a4aaf0c9",
       "placeholder": "​",
       "style": "IPY_MODEL_61bde5d8405e46729a0ba8e436534747",
       "value": " 30.8M/30.8M [00:04&lt;00:00, 15.9MB/s]"
      }
     }
    },
    "version_major": 2,
    "version_minor": 0
   }
  }
 },
 "nbformat": 4,
 "nbformat_minor": 5
}
