{
 "cells": [
  {
   "cell_type": "markdown",
   "id": "5815d5e8",
   "metadata": {
    "_cell_guid": "b1076dfc-b9ad-4769-8c92-a6c4dae69d19",
    "_uuid": "8f2839f25d086af736a60e9eeb907d3b93b6e0e5",
    "papermill": {
     "duration": 0.014033,
     "end_time": "2022-04-19T09:15:54.447908",
     "exception": false,
     "start_time": "2022-04-19T09:15:54.433875",
     "status": "completed"
    },
    "tags": []
   },
   "source": [
    "### Library Imports"
   ]
  },
  {
   "cell_type": "code",
   "execution_count": 1,
   "id": "7b931f0e",
   "metadata": {
    "execution": {
     "iopub.execute_input": "2022-04-19T09:15:54.476710Z",
     "iopub.status.busy": "2022-04-19T09:15:54.475599Z",
     "iopub.status.idle": "2022-04-19T09:15:56.965164Z",
     "shell.execute_reply": "2022-04-19T09:15:56.964440Z"
    },
    "papermill": {
     "duration": 2.505893,
     "end_time": "2022-04-19T09:15:56.967304",
     "exception": false,
     "start_time": "2022-04-19T09:15:54.461411",
     "status": "completed"
    },
    "tags": []
   },
   "outputs": [],
   "source": [
    "import os\n",
    "import re\n",
    "import torch\n",
    "import numpy as np\n",
    "import pandas as pd\n",
    "import matplotlib.pyplot as plt\n",
    "\n",
    "from time import time\n",
    "from torch import nn, optim\n",
    "from torch.utils.data import Dataset\n",
    "from torch.utils.data import DataLoader as DL\n",
    "from torchvision import models, transforms\n",
    "\n",
    "from sklearn.model_selection import KFold\n",
    "# from sklearn.preprocessing import LabelEncoder\n",
    "# from sklearn.metrics import accuracy_score, \\\n",
    "#                             precision_recall_fscore_support, \\\n",
    "#                             roc_auc_score, \\\n",
    "#                             classification_report, \\\n",
    "#                             confusion_matrix"
   ]
  },
  {
   "cell_type": "markdown",
   "id": "18364e34",
   "metadata": {
    "papermill": {
     "duration": 0.012574,
     "end_time": "2022-04-19T09:15:56.993150",
     "exception": false,
     "start_time": "2022-04-19T09:15:56.980576",
     "status": "completed"
    },
    "tags": []
   },
   "source": [
    "### **Utilities**"
   ]
  },
  {
   "cell_type": "code",
   "execution_count": 2,
   "id": "620dade6",
   "metadata": {
    "execution": {
     "iopub.execute_input": "2022-04-19T09:15:57.019740Z",
     "iopub.status.busy": "2022-04-19T09:15:57.019254Z",
     "iopub.status.idle": "2022-04-19T09:15:57.031719Z",
     "shell.execute_reply": "2022-04-19T09:15:57.030946Z"
    },
    "papermill": {
     "duration": 0.028197,
     "end_time": "2022-04-19T09:15:57.033845",
     "exception": false,
     "start_time": "2022-04-19T09:15:57.005648",
     "status": "completed"
    },
    "tags": []
   },
   "outputs": [],
   "source": [
    "SEED = 42\n",
    "SIZE = 256\n",
    "\n",
    "def breaker(num: int=50, char: str=\"*\") -> None:\n",
    "    print(\"\\n\" + num*char + \"\\n\")\n",
    "\n",
    "\n",
    "def show_graphs(L: list, A: list) -> None:\n",
    "    TL, VL, TA, VA = [], [], [], []\n",
    "    for i in range(len(L)):\n",
    "        TL.append(L[i][\"train\"])\n",
    "        VL.append(L[i][\"valid\"])\n",
    "        TA.append(A[i][\"train\"])\n",
    "        VA.append(A[i][\"valid\"])\n",
    "    x_Axis = np.arange(1, len(TL) + 1)\n",
    "    plt.figure(figsize=(8, 6))\n",
    "    plt.subplot(1, 2, 1)\n",
    "    plt.plot(x_Axis, TL, \"r\", label=\"Train\")\n",
    "    plt.plot(x_Axis, VL, \"b\", label=\"Valid\")\n",
    "    plt.legend()\n",
    "    plt.grid()\n",
    "    plt.title(\"Loss Graph\")\n",
    "    plt.subplot(1, 2, 2)\n",
    "    plt.plot(x_Axis, TA, \"r\", label=\"Train\")\n",
    "    plt.plot(x_Axis, VA, \"b\", label=\"Valid\")\n",
    "    plt.legend()\n",
    "    plt.grid()\n",
    "    plt.title(\"Accuracy Graph\")\n",
    "    plt.show()\n",
    "\n",
    "    \n",
    "def get_scores(y_true: np.ndarray, y_pred: np.ndarray) -> tuple:\n",
    "    accuracy = accuracy_score(y_pred, y_true)\n",
    "    try:\n",
    "        auc = roc_auc_score(y_pred, y_true)\n",
    "    except:\n",
    "        auc = 0\n",
    "    precision, recall, f_score, _ = precision_recall_fscore_support(y_pred, y_true)\n",
    "\n",
    "    return accuracy, auc, precision, recall, f_score\n",
    "\n",
    "\n",
    "def print_scores(accuracy: float, auc: float, precision: np.ndarray, recall: np.ndarray, f_score: np.ndarray) -> None:\n",
    "    print(f\"Accuracy  : {accuracy:.5f}\")\n",
    "    print(f\"ROC-AUC   : {auc:.5f}\")\n",
    "    print(f\"Precision : {precision}\")\n",
    "    print(f\"Recall    : {recall}\")\n",
    "    print(f\"F-Score   : {f_score}\")"
   ]
  },
  {
   "cell_type": "markdown",
   "id": "53859840",
   "metadata": {
    "papermill": {
     "duration": 0.013254,
     "end_time": "2022-04-19T09:15:57.059569",
     "exception": false,
     "start_time": "2022-04-19T09:15:57.046315",
     "status": "completed"
    },
    "tags": []
   },
   "source": [
    "### **Configuration**"
   ]
  },
  {
   "cell_type": "code",
   "execution_count": 3,
   "id": "2185bba1",
   "metadata": {
    "execution": {
     "iopub.execute_input": "2022-04-19T09:15:57.086565Z",
     "iopub.status.busy": "2022-04-19T09:15:57.085822Z",
     "iopub.status.idle": "2022-04-19T09:15:57.161161Z",
     "shell.execute_reply": "2022-04-19T09:15:57.160443Z"
    },
    "papermill": {
     "duration": 0.091136,
     "end_time": "2022-04-19T09:15:57.163300",
     "exception": false,
     "start_time": "2022-04-19T09:15:57.072164",
     "status": "completed"
    },
    "tags": []
   },
   "outputs": [],
   "source": [
    "class CFG(object):\n",
    "    def __init__(self, \n",
    "                 seed: int = 42,\n",
    "                 n_splits: int = 5,\n",
    "                 batch_size: int = 16,\n",
    "                 epochs: int = 25,\n",
    "                 early_stopping: int = 5,\n",
    "                 lr: float = 1e-4,\n",
    "                 wd: float = 0.0,\n",
    "                 max_lr: float = 1e-3,\n",
    "                 pct_start: float = 0.2,\n",
    "                 steps_per_epoch: int = 100,\n",
    "                 div_factor: int = 1e3, \n",
    "                 final_div_factor: float = 1e3,\n",
    "                 ):\n",
    "        \n",
    "        self.seed = seed\n",
    "        self.n_splits = n_splits\n",
    "        self.batch_size = batch_size\n",
    "        self.epochs = epochs\n",
    "        self.early_stopping = early_stopping\n",
    "        self.lr = lr\n",
    "        self.wd = wd\n",
    "        self.max_lr = max_lr\n",
    "        self.pct_start = pct_start\n",
    "        self.steps_per_epoch = steps_per_epoch\n",
    "        self.div_factor = div_factor\n",
    "        self.final_div_factor = final_div_factor\n",
    "        self.device = torch.device(\"cuda\" if torch.cuda.is_available() else \"cpu\")\n",
    "        self.transform = transforms.Compose([transforms.ToTensor(),\n",
    "                                transforms.Normalize([0.36378, 0.36350, 0.35346],\n",
    "                                                     [0.31784, 0.31467, 0.30536]),\n",
    "                                ])\n",
    "        self.save_path = \"saves\"\n",
    "        if not os.path.exists(self.save_path): os.makedirs(self.save_path)\n",
    "    \n",
    "cfg = CFG(seed=SEED)"
   ]
  },
  {
   "cell_type": "markdown",
   "id": "e508d96e",
   "metadata": {
    "papermill": {
     "duration": 0.012277,
     "end_time": "2022-04-19T09:15:57.189125",
     "exception": false,
     "start_time": "2022-04-19T09:15:57.176848",
     "status": "completed"
    },
    "tags": []
   },
   "source": [
    "### **Dataset Template**"
   ]
  },
  {
   "cell_type": "code",
   "execution_count": 4,
   "id": "6b294959",
   "metadata": {
    "execution": {
     "iopub.execute_input": "2022-04-19T09:15:57.216555Z",
     "iopub.status.busy": "2022-04-19T09:15:57.215838Z",
     "iopub.status.idle": "2022-04-19T09:15:57.222391Z",
     "shell.execute_reply": "2022-04-19T09:15:57.221718Z"
    },
    "papermill": {
     "duration": 0.022134,
     "end_time": "2022-04-19T09:15:57.224008",
     "exception": false,
     "start_time": "2022-04-19T09:15:57.201874",
     "status": "completed"
    },
    "tags": []
   },
   "outputs": [],
   "source": [
    "class DS(Dataset):\n",
    "    def __init__(self, images: np.ndarray, labels: np.ndarray = None, transform=None):\n",
    "        self.images = images\n",
    "        self.labels = labels\n",
    "        self.transform = transform\n",
    "    \n",
    "    def __len__(self):\n",
    "        return self.images.shape[0]\n",
    "    \n",
    "    def __getitem__(self, idx):\n",
    "        if self.labels is not None:\n",
    "            return self.transform(self.images[idx]), torch.FloatTensor(self.labels[idx])\n",
    "        else:\n",
    "            return self.transform(self.images[idx])"
   ]
  },
  {
   "cell_type": "markdown",
   "id": "3be75618",
   "metadata": {
    "papermill": {
     "duration": 0.01411,
     "end_time": "2022-04-19T09:15:57.250899",
     "exception": false,
     "start_time": "2022-04-19T09:15:57.236789",
     "status": "completed"
    },
    "tags": []
   },
   "source": [
    "### **Model**"
   ]
  },
  {
   "cell_type": "code",
   "execution_count": 5,
   "id": "bab03e3a",
   "metadata": {
    "execution": {
     "iopub.execute_input": "2022-04-19T09:15:57.277444Z",
     "iopub.status.busy": "2022-04-19T09:15:57.277213Z",
     "iopub.status.idle": "2022-04-19T09:15:57.282132Z",
     "shell.execute_reply": "2022-04-19T09:15:57.281503Z"
    },
    "papermill": {
     "duration": 0.020047,
     "end_time": "2022-04-19T09:15:57.283788",
     "exception": false,
     "start_time": "2022-04-19T09:15:57.263741",
     "status": "completed"
    },
    "tags": []
   },
   "outputs": [],
   "source": [
    "class Model(nn.Module):\n",
    "    def __init__(self):\n",
    "        super(Model, self).__init__()\n",
    "\n",
    "        self.model = models.resnet50(pretrained=True, progress=True)\n",
    "        self.model.fc = nn.Linear(in_features=self.model.fc.in_features, out_features=1)\n",
    "\n",
    "    def forward(self, x):\n",
    "        return self.model(x)"
   ]
  },
  {
   "cell_type": "markdown",
   "id": "5ec11909",
   "metadata": {
    "papermill": {
     "duration": 0.012203,
     "end_time": "2022-04-19T09:15:57.308589",
     "exception": false,
     "start_time": "2022-04-19T09:15:57.296386",
     "status": "completed"
    },
    "tags": []
   },
   "source": [
    "### Fit and Predict Helper"
   ]
  },
  {
   "cell_type": "code",
   "execution_count": 6,
   "id": "c56003b5",
   "metadata": {
    "execution": {
     "iopub.execute_input": "2022-04-19T09:15:57.335107Z",
     "iopub.status.busy": "2022-04-19T09:15:57.334904Z",
     "iopub.status.idle": "2022-04-19T09:15:57.357955Z",
     "shell.execute_reply": "2022-04-19T09:15:57.357337Z"
    },
    "papermill": {
     "duration": 0.03841,
     "end_time": "2022-04-19T09:15:57.359559",
     "exception": false,
     "start_time": "2022-04-19T09:15:57.321149",
     "status": "completed"
    },
    "tags": []
   },
   "outputs": [],
   "source": [
    "def fit(model=None, \n",
    "        optimizer=None, \n",
    "        scheduler=None, \n",
    "        epochs=None, \n",
    "        early_stopping_patience=None, \n",
    "        dataloaders=None, \n",
    "        fold=None, \n",
    "        save_path=None, \n",
    "        device=None,\n",
    "        verbose=False) -> tuple:\n",
    "    \n",
    "    def get_accuracy(y_pred, y_true):\n",
    "        y_pred = torch.sigmoid(y_pred)\n",
    "        \n",
    "        y_pred[y_pred > 0.5] = 1\n",
    "        y_pred[y_pred <= 0.5] = 0\n",
    "        \n",
    "        return torch.count_nonzero(y_pred == y_true).item() / len(y_pred)\n",
    "    \n",
    "    if verbose:\n",
    "        breaker()\n",
    "        if fold: print(f\"Training Fold {fold}...\")\n",
    "        else: print(\"Training ...\")\n",
    "        breaker()\n",
    "        \n",
    "    bestLoss, bestAccs = {\"train\" : np.inf, \"valid\" : np.inf}, {\"train\" : 0.0, \"valid\" : 0.0}\n",
    "    Losses, LRs, Accuracies = [], [], []\n",
    "    if fold: name = f\"state_fold_{fold}.pt\"\n",
    "    else: name = \"state.pt\"\n",
    "\n",
    "    start_time = time()\n",
    "    for e in range(epochs):\n",
    "        e_st = time()\n",
    "        epochLoss, epochAccs = {\"train\" : 0.0, \"valid\" : 0.0}, {\"train\" : 0.0, \"valid\" : 0.0}\n",
    "\n",
    "        for phase in [\"train\", \"valid\"]:\n",
    "            if phase == \"train\":\n",
    "                model.train()\n",
    "            else:\n",
    "                model.eval()\n",
    "            \n",
    "            lossPerPass, accsPerPass = [], []\n",
    "\n",
    "            for X, y in dataloaders[phase]:\n",
    "                X, y = X.to(device), y.to(device)\n",
    "\n",
    "                optimizer.zero_grad()\n",
    "                with torch.set_grad_enabled(phase == \"train\"):\n",
    "                    output = model(X)\n",
    "                    loss = torch.nn.BCEWithLogitsLoss()(output, y)\n",
    "                    if phase == \"train\":\n",
    "                        loss.backward()\n",
    "                        optimizer.step()\n",
    "                        if scheduler: scheduler.step()\n",
    "                lossPerPass.append(loss.item())\n",
    "                accsPerPass.append(get_accuracy(output, y))\n",
    "            epochLoss[phase] = np.mean(np.array(lossPerPass))\n",
    "            epochAccs[phase] = np.mean(np.array(accsPerPass))\n",
    "        LRs.append(scheduler.get_last_lr())\n",
    "        Losses.append(epochLoss)\n",
    "        Accuracies.append(epochAccs)\n",
    "        \n",
    "        if early_stopping_patience:\n",
    "            if epochLoss[\"valid\"] < bestLoss[\"valid\"]:\n",
    "                bestLoss = epochLoss\n",
    "                BLE = e + 1\n",
    "                torch.save({\"model_state_dict\"     : model.state_dict(),\n",
    "                            \"optim_state_dict\"     : optimizer.state_dict()},\n",
    "                           os.path.join(save_path, name))\n",
    "                early_stopping_step = 0\n",
    "            else:\n",
    "                early_stopping_step += 1\n",
    "                if early_stopping_step > early_stopping_patience:\n",
    "                    print(\"\\nEarly Stopping at Epoch {}\".format(e + 1))\n",
    "                    break\n",
    "        \n",
    "        if epochLoss[\"valid\"] < bestLoss[\"valid\"]:\n",
    "            bestLoss = epochLoss\n",
    "            BLE = e + 1\n",
    "            torch.save({\"model_state_dict\"     : model.state_dict(),\n",
    "                        \"optim_state_dict\"     : optimizer.state_dict()},\n",
    "                        os.path.join(save_path, name))\n",
    "        \n",
    "        if epochAccs[\"valid\"] > bestAccs[\"valid\"]:\n",
    "            bestAccs = epochAccs\n",
    "            BAE = e + 1\n",
    "        \n",
    "        # if scheduler: scheduler.step(epochLoss[\"valid\"])\n",
    "        \n",
    "        if verbose:\n",
    "            print(\"Epoch: {} | Train Loss: {:.5f} | Valid Loss: {:.5f} | Train Accs: {:.5f} | Valid Accs: {:.5f} | Time: {:.2f} seconds\".format(e+1, \n",
    "                                                                       epochLoss[\"train\"], epochLoss[\"valid\"], \n",
    "                                                                       epochAccs[\"train\"], epochAccs[\"valid\"], \n",
    "                                                                       time()-e_st))\n",
    "\n",
    "    if verbose:                                           \n",
    "        breaker()\n",
    "        print(f\"Best Validation Loss at Epoch {BLE}\")\n",
    "        breaker()\n",
    "        print(f\"Best Validation Accs at Epoch {BAE}\")\n",
    "        breaker()\n",
    "        print(\"Time Taken [{} Epochs] : {:.2f} minutes\".format(len(Losses), (time()-start_time)/60))\n",
    "    \n",
    "    return Losses, Accuracies, LRs, BLE, BAE, name\n",
    "\n",
    "\n",
    "def predict(model=None, dataloader=None, path=None, device=None) -> np.ndarray:\n",
    "    model.load_state_dict(torch.load(path, map_location=device)[\"model_state_dict\"])\n",
    "    model.to(device)    \n",
    "    model.eval()\n",
    "    \n",
    "    y_pred = torch.zeros(1, 1).to(device)\n",
    "    \n",
    "    for X in dataloader:\n",
    "        X = X.to(device)\n",
    "        with torch.no_grad():\n",
    "            output = torch.sigmoid(model(X))\n",
    "        y_pred = torch.cat((y_pred, output.view(-1, 1)), dim=0)\n",
    "    \n",
    "    y_pred[y_pred > 0.5] = 1\n",
    "    y_pred[y_pred <= 0.5] = 0\n",
    "    \n",
    "    return y_pred[1:].detach().cpu().numpy()"
   ]
  },
  {
   "cell_type": "markdown",
   "id": "1c4b09d0",
   "metadata": {
    "papermill": {
     "duration": 0.01237,
     "end_time": "2022-04-19T09:15:57.384204",
     "exception": false,
     "start_time": "2022-04-19T09:15:57.371834",
     "status": "completed"
    },
    "tags": []
   },
   "source": [
    "### **Train**"
   ]
  },
  {
   "cell_type": "code",
   "execution_count": 7,
   "id": "702286df",
   "metadata": {
    "execution": {
     "iopub.execute_input": "2022-04-19T09:15:57.410668Z",
     "iopub.status.busy": "2022-04-19T09:15:57.410197Z",
     "iopub.status.idle": "2022-04-19T09:16:04.515250Z",
     "shell.execute_reply": "2022-04-19T09:16:04.514508Z"
    },
    "papermill": {
     "duration": 7.120587,
     "end_time": "2022-04-19T09:16:04.517597",
     "exception": false,
     "start_time": "2022-04-19T09:15:57.397010",
     "status": "completed"
    },
    "tags": []
   },
   "outputs": [],
   "source": [
    "images = np.load(f\"../input/tb-chest-x-rays/images_{SIZE}.npy\")\n",
    "labels = np.load(f\"../input/tb-chest-x-rays/targets_{SIZE}.npy\")"
   ]
  },
  {
   "cell_type": "code",
   "execution_count": 8,
   "id": "b1f93db1",
   "metadata": {
    "execution": {
     "iopub.execute_input": "2022-04-19T09:16:04.544411Z",
     "iopub.status.busy": "2022-04-19T09:16:04.544169Z",
     "iopub.status.idle": "2022-04-19T09:59:16.448042Z",
     "shell.execute_reply": "2022-04-19T09:59:16.447252Z"
    },
    "papermill": {
     "duration": 2591.919869,
     "end_time": "2022-04-19T09:59:16.450356",
     "exception": false,
     "start_time": "2022-04-19T09:16:04.530487",
     "status": "completed"
    },
    "tags": []
   },
   "outputs": [
    {
     "name": "stderr",
     "output_type": "stream",
     "text": [
      "Downloading: \"https://download.pytorch.org/models/resnet50-0676ba61.pth\" to /root/.cache/torch/hub/checkpoints/resnet50-0676ba61.pth\n"
     ]
    },
    {
     "data": {
      "application/vnd.jupyter.widget-view+json": {
       "model_id": "a4776ca4acf6486c81895b7aa8dacd50",
       "version_major": 2,
       "version_minor": 0
      },
      "text/plain": [
       "  0%|          | 0.00/97.8M [00:00<?, ?B/s]"
      ]
     },
     "metadata": {},
     "output_type": "display_data"
    },
    {
     "name": "stdout",
     "output_type": "stream",
     "text": [
      "\n",
      "**************************************************\n",
      "\n",
      "Training Fold 1...\n",
      "\n",
      "**************************************************\n",
      "\n",
      "Epoch: 1 | Train Loss: 0.27815 | Valid Loss: 1.09942 | Train Accs: 0.84613 | Valid Accs: 0.76415 | Time: 39.77 seconds\n",
      "Epoch: 2 | Train Loss: 0.04406 | Valid Loss: 0.75269 | Train Accs: 0.98839 | Valid Accs: 0.81840 | Time: 33.93 seconds\n",
      "Epoch: 3 | Train Loss: 0.10543 | Valid Loss: 0.39648 | Train Accs: 0.96667 | Valid Accs: 0.82901 | Time: 33.94 seconds\n",
      "Epoch: 4 | Train Loss: 0.06738 | Valid Loss: 0.86607 | Train Accs: 0.97917 | Valid Accs: 0.72995 | Time: 33.16 seconds\n",
      "Epoch: 5 | Train Loss: 0.05094 | Valid Loss: 0.08585 | Train Accs: 0.98363 | Valid Accs: 0.96816 | Time: 33.98 seconds\n",
      "Epoch: 6 | Train Loss: 0.03001 | Valid Loss: 0.21850 | Train Accs: 0.99167 | Valid Accs: 0.91038 | Time: 33.38 seconds\n",
      "Epoch: 7 | Train Loss: 0.04221 | Valid Loss: 0.08031 | Train Accs: 0.98810 | Valid Accs: 0.98113 | Time: 33.95 seconds\n",
      "Epoch: 8 | Train Loss: 0.02213 | Valid Loss: 0.06521 | Train Accs: 0.99435 | Valid Accs: 0.97288 | Time: 34.07 seconds\n",
      "Epoch: 9 | Train Loss: 0.03475 | Valid Loss: 0.04536 | Train Accs: 0.98929 | Valid Accs: 0.98231 | Time: 33.93 seconds\n",
      "Epoch: 10 | Train Loss: 0.01634 | Valid Loss: 0.03437 | Train Accs: 0.99494 | Valid Accs: 0.99292 | Time: 34.07 seconds\n",
      "Epoch: 11 | Train Loss: 0.01586 | Valid Loss: 0.07314 | Train Accs: 0.99524 | Valid Accs: 0.97052 | Time: 33.43 seconds\n",
      "Epoch: 12 | Train Loss: 0.01208 | Valid Loss: 0.09615 | Train Accs: 0.99673 | Valid Accs: 0.98231 | Time: 33.35 seconds\n",
      "Epoch: 13 | Train Loss: 0.01456 | Valid Loss: 0.03216 | Train Accs: 0.99673 | Valid Accs: 0.98821 | Time: 33.88 seconds\n",
      "Epoch: 14 | Train Loss: 0.00473 | Valid Loss: 0.02055 | Train Accs: 0.99911 | Valid Accs: 0.99528 | Time: 34.16 seconds\n",
      "Epoch: 15 | Train Loss: 0.00393 | Valid Loss: 0.01538 | Train Accs: 0.99881 | Valid Accs: 0.99528 | Time: 33.93 seconds\n",
      "Epoch: 16 | Train Loss: 0.00186 | Valid Loss: 0.01412 | Train Accs: 0.99940 | Valid Accs: 0.99764 | Time: 33.94 seconds\n",
      "Epoch: 17 | Train Loss: 0.00094 | Valid Loss: 0.01840 | Train Accs: 0.99970 | Valid Accs: 0.99646 | Time: 33.24 seconds\n",
      "Epoch: 18 | Train Loss: 0.00053 | Valid Loss: 0.01562 | Train Accs: 1.00000 | Valid Accs: 0.99764 | Time: 33.34 seconds\n",
      "Epoch: 19 | Train Loss: 0.00065 | Valid Loss: 0.01709 | Train Accs: 1.00000 | Valid Accs: 0.99764 | Time: 33.33 seconds\n",
      "Epoch: 20 | Train Loss: 0.00037 | Valid Loss: 0.01904 | Train Accs: 1.00000 | Valid Accs: 0.99646 | Time: 33.24 seconds\n",
      "\n",
      "**************************************************\n",
      "\n",
      "Best Validation Loss at Epoch 16\n",
      "\n",
      "**************************************************\n",
      "\n",
      "Best Validation Accs at Epoch 16\n",
      "\n",
      "**************************************************\n",
      "\n",
      "Time Taken [20 Epochs] : 11.33 minutes\n",
      "\n",
      "**************************************************\n",
      "\n"
     ]
    },
    {
     "data": {
      "image/png": "[encoded data removed]",
      "text/plain": [
       "<Figure size 576x432 with 2 Axes>"
      ]
     },
     "metadata": {
      "needs_background": "light"
     },
     "output_type": "display_data"
    },
    {
     "name": "stdout",
     "output_type": "stream",
     "text": [
      "\n",
      "**************************************************\n",
      "\n",
      "Training Fold 2...\n",
      "\n",
      "**************************************************\n",
      "\n",
      "Epoch: 1 | Train Loss: 0.36877 | Valid Loss: 2.43423 | Train Accs: 0.77447 | Valid Accs: 0.48996 | Time: 29.79 seconds\n",
      "Epoch: 2 | Train Loss: 0.01515 | Valid Loss: 0.04737 | Train Accs: 0.99499 | Valid Accs: 0.98772 | Time: 29.91 seconds\n",
      "Epoch: 3 | Train Loss: 0.02846 | Valid Loss: 0.30451 | Train Accs: 0.99292 | Valid Accs: 0.91295 | Time: 29.35 seconds\n",
      "Epoch: 4 | Train Loss: 0.01599 | Valid Loss: 0.20130 | Train Accs: 0.99499 | Valid Accs: 0.94085 | Time: 29.35 seconds\n",
      "Epoch: 5 | Train Loss: 0.03761 | Valid Loss: 0.01956 | Train Accs: 0.98762 | Valid Accs: 0.99554 | Time: 29.92 seconds\n",
      "Epoch: 6 | Train Loss: 0.04155 | Valid Loss: 0.02750 | Train Accs: 0.98909 | Valid Accs: 0.99107 | Time: 29.42 seconds\n",
      "Epoch: 7 | Train Loss: 0.03417 | Valid Loss: 0.13693 | Train Accs: 0.98821 | Valid Accs: 0.95647 | Time: 29.33 seconds\n",
      "Epoch: 8 | Train Loss: 0.01276 | Valid Loss: 0.60231 | Train Accs: 0.99587 | Valid Accs: 0.82701 | Time: 29.38 seconds\n",
      "Epoch: 9 | Train Loss: 0.00627 | Valid Loss: 0.00958 | Train Accs: 0.99882 | Valid Accs: 0.99554 | Time: 30.09 seconds\n",
      "Epoch: 10 | Train Loss: 0.00202 | Valid Loss: 0.00842 | Train Accs: 0.99971 | Valid Accs: 0.99554 | Time: 30.01 seconds\n",
      "Epoch: 11 | Train Loss: 0.00084 | Valid Loss: 0.00636 | Train Accs: 1.00000 | Valid Accs: 0.99888 | Time: 30.05 seconds\n",
      "Epoch: 12 | Train Loss: 0.00063 | Valid Loss: 0.00658 | Train Accs: 1.00000 | Valid Accs: 0.99888 | Time: 29.31 seconds\n",
      "Epoch: 13 | Train Loss: 0.00027 | Valid Loss: 0.00724 | Train Accs: 1.00000 | Valid Accs: 0.99888 | Time: 29.37 seconds\n",
      "Epoch: 14 | Train Loss: 0.00029 | Valid Loss: 0.00729 | Train Accs: 1.00000 | Valid Accs: 0.99888 | Time: 29.45 seconds\n",
      "Epoch: 15 | Train Loss: 0.00016 | Valid Loss: 0.00670 | Train Accs: 1.00000 | Valid Accs: 0.99888 | Time: 29.23 seconds\n",
      "Epoch: 16 | Train Loss: 0.00018 | Valid Loss: 0.00706 | Train Accs: 1.00000 | Valid Accs: 0.99888 | Time: 29.47 seconds\n",
      "\n",
      "Early Stopping at Epoch 17\n",
      "\n",
      "**************************************************\n",
      "\n",
      "Best Validation Loss at Epoch 11\n",
      "\n",
      "**************************************************\n",
      "\n",
      "Best Validation Accs at Epoch 11\n",
      "\n",
      "**************************************************\n",
      "\n",
      "Time Taken [17 Epochs] : 8.38 minutes\n",
      "\n",
      "**************************************************\n",
      "\n"
     ]
    },
    {
     "data": {
      "image/png": "[encoded data removed]",
      "text/plain": [
       "<Figure size 576x432 with 2 Axes>"
      ]
     },
     "metadata": {
      "needs_background": "light"
     },
     "output_type": "display_data"
    },
    {
     "name": "stdout",
     "output_type": "stream",
     "text": [
      "\n",
      "**************************************************\n",
      "\n",
      "Training Fold 3...\n",
      "\n",
      "**************************************************\n",
      "\n",
      "Epoch: 1 | Train Loss: 0.37095 | Valid Loss: 0.46491 | Train Accs: 0.77388 | Valid Accs: 0.84710 | Time: 29.96 seconds\n",
      "Epoch: 2 | Train Loss: 0.01383 | Valid Loss: 0.26504 | Train Accs: 0.99558 | Valid Accs: 0.90290 | Time: 30.08 seconds\n",
      "Epoch: 3 | Train Loss: 0.05241 | Valid Loss: 1.42723 | Train Accs: 0.98555 | Valid Accs: 0.41295 | Time: 29.49 seconds\n",
      "Epoch: 4 | Train Loss: 0.03533 | Valid Loss: 0.34117 | Train Accs: 0.98909 | Valid Accs: 0.86384 | Time: 29.52 seconds\n",
      "Epoch: 5 | Train Loss: 0.03580 | Valid Loss: 0.13648 | Train Accs: 0.99057 | Valid Accs: 0.94196 | Time: 30.04 seconds\n",
      "Epoch: 6 | Train Loss: 0.02077 | Valid Loss: 0.24823 | Train Accs: 0.99263 | Valid Accs: 0.89174 | Time: 29.34 seconds\n",
      "Epoch: 7 | Train Loss: 0.01733 | Valid Loss: 0.01781 | Train Accs: 0.99440 | Valid Accs: 0.99554 | Time: 30.04 seconds\n",
      "Epoch: 8 | Train Loss: 0.01133 | Valid Loss: 0.08964 | Train Accs: 0.99558 | Valid Accs: 0.96429 | Time: 29.28 seconds\n",
      "Epoch: 9 | Train Loss: 0.00290 | Valid Loss: 0.03070 | Train Accs: 0.99971 | Valid Accs: 0.99330 | Time: 29.31 seconds\n",
      "Epoch: 10 | Train Loss: 0.00714 | Valid Loss: 4.98684 | Train Accs: 0.99794 | Valid Accs: 0.54353 | Time: 29.42 seconds\n",
      "Epoch: 11 | Train Loss: 0.00799 | Valid Loss: 0.01186 | Train Accs: 0.99794 | Valid Accs: 0.99665 | Time: 30.20 seconds\n",
      "Epoch: 12 | Train Loss: 0.00260 | Valid Loss: 0.01301 | Train Accs: 0.99941 | Valid Accs: 0.99777 | Time: 29.33 seconds\n",
      "Epoch: 13 | Train Loss: 0.00219 | Valid Loss: 0.01688 | Train Accs: 0.99912 | Valid Accs: 0.99442 | Time: 29.37 seconds\n",
      "Epoch: 14 | Train Loss: 0.00092 | Valid Loss: 0.00892 | Train Accs: 1.00000 | Valid Accs: 0.99777 | Time: 30.04 seconds\n",
      "Epoch: 15 | Train Loss: 0.00036 | Valid Loss: 0.00799 | Train Accs: 1.00000 | Valid Accs: 0.99888 | Time: 30.06 seconds\n",
      "Epoch: 16 | Train Loss: 0.00029 | Valid Loss: 0.00756 | Train Accs: 1.00000 | Valid Accs: 0.99777 | Time: 30.06 seconds\n",
      "Epoch: 17 | Train Loss: 0.00030 | Valid Loss: 0.00744 | Train Accs: 1.00000 | Valid Accs: 0.99888 | Time: 30.03 seconds\n",
      "Epoch: 18 | Train Loss: 0.00025 | Valid Loss: 0.00752 | Train Accs: 1.00000 | Valid Accs: 0.99888 | Time: 29.37 seconds\n",
      "Epoch: 19 | Train Loss: 0.00032 | Valid Loss: 0.00767 | Train Accs: 1.00000 | Valid Accs: 0.99777 | Time: 29.46 seconds\n",
      "Epoch: 20 | Train Loss: 0.00025 | Valid Loss: 0.00767 | Train Accs: 1.00000 | Valid Accs: 0.99888 | Time: 29.32 seconds\n",
      "\n",
      "**************************************************\n",
      "\n",
      "Best Validation Loss at Epoch 17\n",
      "\n",
      "**************************************************\n",
      "\n",
      "Best Validation Accs at Epoch 15\n",
      "\n",
      "**************************************************\n",
      "\n",
      "Time Taken [20 Epochs] : 9.89 minutes\n",
      "\n",
      "**************************************************\n",
      "\n"
     ]
    },
    {
     "data": {
      "image/png": "[encoded data removed]",
      "text/plain": [
       "<Figure size 576x432 with 2 Axes>"
      ]
     },
     "metadata": {
      "needs_background": "light"
     },
     "output_type": "display_data"
    },
    {
     "name": "stdout",
     "output_type": "stream",
     "text": [
      "\n",
      "**************************************************\n",
      "\n",
      "Training Fold 4...\n",
      "\n",
      "**************************************************\n",
      "\n",
      "Epoch: 1 | Train Loss: 0.37058 | Valid Loss: 0.01491 | Train Accs: 0.77476 | Valid Accs: 0.99777 | Time: 30.03 seconds\n",
      "Epoch: 2 | Train Loss: 0.01255 | Valid Loss: 0.20286 | Train Accs: 0.99676 | Valid Accs: 0.93080 | Time: 29.30 seconds\n",
      "Epoch: 3 | Train Loss: 0.04939 | Valid Loss: 0.30621 | Train Accs: 0.98526 | Valid Accs: 0.92076 | Time: 29.30 seconds\n",
      "Epoch: 4 | Train Loss: 0.02085 | Valid Loss: 0.04114 | Train Accs: 0.99351 | Valid Accs: 0.98549 | Time: 29.33 seconds\n",
      "Epoch: 5 | Train Loss: 0.02793 | Valid Loss: 0.03504 | Train Accs: 0.99086 | Valid Accs: 0.97879 | Time: 29.43 seconds\n",
      "Epoch: 6 | Train Loss: 0.01340 | Valid Loss: 0.62122 | Train Accs: 0.99440 | Valid Accs: 0.86719 | Time: 29.45 seconds\n",
      "\n",
      "Early Stopping at Epoch 7\n",
      "\n",
      "**************************************************\n",
      "\n",
      "Best Validation Loss at Epoch 1\n",
      "\n",
      "**************************************************\n",
      "\n",
      "Best Validation Accs at Epoch 1\n",
      "\n",
      "**************************************************\n",
      "\n",
      "Time Taken [7 Epochs] : 3.44 minutes\n",
      "\n",
      "**************************************************\n",
      "\n"
     ]
    },
    {
     "data": {
      "image/png": "[encoded data removed]",
      "text/plain": [
       "<Figure size 576x432 with 2 Axes>"
      ]
     },
     "metadata": {
      "needs_background": "light"
     },
     "output_type": "display_data"
    },
    {
     "name": "stdout",
     "output_type": "stream",
     "text": [
      "\n",
      "**************************************************\n",
      "\n",
      "Training Fold 5...\n",
      "\n",
      "**************************************************\n",
      "\n",
      "Epoch: 1 | Train Loss: 0.36964 | Valid Loss: 0.94843 | Train Accs: 0.78213 | Valid Accs: 0.74554 | Time: 29.91 seconds\n",
      "Epoch: 2 | Train Loss: 0.01630 | Valid Loss: 1.48960 | Train Accs: 0.99528 | Valid Accs: 0.72433 | Time: 29.47 seconds\n",
      "Epoch: 3 | Train Loss: 0.02978 | Valid Loss: 0.09563 | Train Accs: 0.98968 | Valid Accs: 0.97768 | Time: 30.13 seconds\n",
      "Epoch: 4 | Train Loss: 0.02397 | Valid Loss: 4.43634 | Train Accs: 0.99204 | Valid Accs: 0.28683 | Time: 29.48 seconds\n",
      "Epoch: 5 | Train Loss: 0.00666 | Valid Loss: 0.25282 | Train Accs: 0.99794 | Valid Accs: 0.95759 | Time: 29.36 seconds\n",
      "Epoch: 6 | Train Loss: 0.04546 | Valid Loss: 0.09922 | Train Accs: 0.98673 | Valid Accs: 0.97433 | Time: 29.37 seconds\n",
      "Epoch: 7 | Train Loss: 0.02157 | Valid Loss: 0.05192 | Train Accs: 0.99322 | Valid Accs: 0.98549 | Time: 30.17 seconds\n",
      "Epoch: 8 | Train Loss: 0.01496 | Valid Loss: 0.47433 | Train Accs: 0.99499 | Valid Accs: 0.83147 | Time: 29.29 seconds\n",
      "Epoch: 9 | Train Loss: 0.00857 | Valid Loss: 0.02824 | Train Accs: 0.99882 | Valid Accs: 0.98772 | Time: 29.98 seconds\n",
      "Epoch: 10 | Train Loss: 0.00646 | Valid Loss: 0.01860 | Train Accs: 0.99794 | Valid Accs: 0.98996 | Time: 30.21 seconds\n",
      "Epoch: 11 | Train Loss: 0.00571 | Valid Loss: 0.00605 | Train Accs: 0.99823 | Valid Accs: 0.99888 | Time: 30.08 seconds\n",
      "Epoch: 12 | Train Loss: 0.00725 | Valid Loss: 1.78791 | Train Accs: 0.99735 | Valid Accs: 0.86719 | Time: 29.38 seconds\n",
      "Epoch: 13 | Train Loss: 0.00534 | Valid Loss: 0.00876 | Train Accs: 0.99794 | Valid Accs: 0.99777 | Time: 29.42 seconds\n",
      "Epoch: 14 | Train Loss: 0.00151 | Valid Loss: 0.00520 | Train Accs: 0.99971 | Valid Accs: 0.99777 | Time: 30.08 seconds\n",
      "Epoch: 15 | Train Loss: 0.00048 | Valid Loss: 0.00273 | Train Accs: 1.00000 | Valid Accs: 0.99888 | Time: 29.96 seconds\n",
      "Epoch: 16 | Train Loss: 0.00034 | Valid Loss: 0.00271 | Train Accs: 1.00000 | Valid Accs: 1.00000 | Time: 30.11 seconds\n",
      "Epoch: 17 | Train Loss: 0.00033 | Valid Loss: 0.00272 | Train Accs: 1.00000 | Valid Accs: 1.00000 | Time: 29.49 seconds\n",
      "Epoch: 18 | Train Loss: 0.00027 | Valid Loss: 0.00288 | Train Accs: 1.00000 | Valid Accs: 0.99888 | Time: 29.40 seconds\n",
      "Epoch: 19 | Train Loss: 0.00083 | Valid Loss: 0.00321 | Train Accs: 0.99971 | Valid Accs: 0.99888 | Time: 29.33 seconds\n",
      "Epoch: 20 | Train Loss: 0.00026 | Valid Loss: 0.00299 | Train Accs: 1.00000 | Valid Accs: 0.99888 | Time: 29.39 seconds\n",
      "\n",
      "**************************************************\n",
      "\n",
      "Best Validation Loss at Epoch 16\n",
      "\n",
      "**************************************************\n",
      "\n",
      "Best Validation Accs at Epoch 16\n",
      "\n",
      "**************************************************\n",
      "\n",
      "Time Taken [20 Epochs] : 9.90 minutes\n",
      "\n",
      "**************************************************\n",
      "\n"
     ]
    },
    {
     "data": {
      "image/png": "[encoded data removed]",
      "text/plain": [
       "<Figure size 576x432 with 2 Axes>"
      ]
     },
     "metadata": {
      "needs_background": "light"
     },
     "output_type": "display_data"
    }
   ],
   "source": [
    "fold = 1\n",
    "BLEs, BAEs = [], []\n",
    "\n",
    "for tr_idx, va_idx in KFold(n_splits=cfg.n_splits, random_state=cfg.seed, shuffle=True).split(images):\n",
    "    tr_images, va_images, tr_labels, va_labels = images[tr_idx], images[va_idx], labels[tr_idx], labels[va_idx]\n",
    "\n",
    "    tr_data_setup = DS(tr_images, tr_labels.reshape(-1, 1), cfg.transform)\n",
    "    va_data_setup = DS(va_images, va_labels.reshape(-1, 1), cfg.transform)\n",
    "\n",
    "    dataloaders = {\n",
    "        \"train\" : DL(tr_data_setup, batch_size=cfg.batch_size, shuffle=True, generator=torch.manual_seed(cfg.seed)),\n",
    "        \"valid\" : DL(va_data_setup, batch_size=cfg.batch_size, shuffle=False),\n",
    "    }\n",
    "\n",
    "    cfg = CFG(epochs=20, lr=1e-3, wd=0.0, batch_size=64, steps_per_epoch=len(dataloaders[\"train\"]))\n",
    "\n",
    "    torch.manual_seed(cfg.seed)\n",
    "    model = Model().to(cfg.device)\n",
    "    optimizer = optim.Adam([p for p in model.parameters() if p.requires_grad], lr=cfg.lr, weight_decay=cfg.wd)\n",
    "    scheduler = optim.lr_scheduler.OneCycleLR(optimizer=optimizer, \n",
    "                                              max_lr=cfg.max_lr, \n",
    "                                              epochs=cfg.epochs, \n",
    "                                              steps_per_epoch=cfg.steps_per_epoch,\n",
    "                                              pct_start=cfg.pct_start, \n",
    "                                              div_factor=cfg.div_factor, \n",
    "                                              final_div_factor=cfg.final_div_factor)\n",
    "    # scheduler = None\n",
    "\n",
    "    L, A, LRs, BLE, BAE, name = fit(model=model, \n",
    "                                    optimizer=optimizer, \n",
    "                                    scheduler=scheduler, \n",
    "                                    epochs=cfg.epochs, \n",
    "                                    early_stopping_patience=cfg.early_stopping, \n",
    "                                    dataloaders=dataloaders, \n",
    "                                    device=cfg.device,\n",
    "                                    save_path=cfg.save_path,\n",
    "                                    fold = fold,\n",
    "                                    verbose=True)\n",
    "\n",
    "    breaker()\n",
    "    show_graphs(L, A)\n",
    "    \n",
    "    BLEs.append(BLE)\n",
    "    BAEs.append(BAE)\n",
    "\n",
    "    fold += 1"
   ]
  },
  {
   "cell_type": "markdown",
   "id": "13553567",
   "metadata": {
    "papermill": {
     "duration": 0.045909,
     "end_time": "2022-04-19T09:59:16.542169",
     "exception": false,
     "start_time": "2022-04-19T09:59:16.496260",
     "status": "completed"
    },
    "tags": []
   },
   "source": [
    "### **Predictions**"
   ]
  },
  {
   "cell_type": "code",
   "execution_count": 9,
   "id": "89f9d2aa",
   "metadata": {
    "execution": {
     "iopub.execute_input": "2022-04-19T09:59:16.635012Z",
     "iopub.status.busy": "2022-04-19T09:59:16.634764Z",
     "iopub.status.idle": "2022-04-19T09:59:16.641043Z",
     "shell.execute_reply": "2022-04-19T09:59:16.640152Z"
    },
    "papermill": {
     "duration": 0.054656,
     "end_time": "2022-04-19T09:59:16.642676",
     "exception": false,
     "start_time": "2022-04-19T09:59:16.588020",
     "status": "completed"
    },
    "tags": []
   },
   "outputs": [
    {
     "name": "stdout",
     "output_type": "stream",
     "text": [
      "\n",
      "**************************************************\n",
      "\n",
      "Best Fold : 4\n",
      "\n",
      "**************************************************\n",
      "\n"
     ]
    }
   ],
   "source": [
    "# test_images = np.load(f\"../input/chest-x-rays-images/test_images_{SIZE}.npy\")\n",
    "# test_labels = np.load(f\"../input/chest-x-rays-images/test_targets_{SIZE}.npy\")\n",
    "\n",
    "# ts_data_setup = DS(test_images, None, cfg.transform)\n",
    "# ts_data = DL(ts_data_setup, batch_size=cfg.batch_size, shuffle=False)\n",
    "\n",
    "best_fold = BLEs.index(min(BLEs)) + 1\n",
    "# model_path = f\"saves/state_fold_{best_fold}.pt\"\n",
    "# y_pred = predict(model=Model().to(cfg.device), dataloader=ts_data, path=model_path, device=cfg.device)\n",
    "\n",
    "# accuracy, auc, precision, recall, f_score = get_scores(test_labels, y_pred)\n",
    "\n",
    "breaker()\n",
    "print(f\"Best Fold : {best_fold}\")\n",
    "breaker()\n",
    "# print_scores(accuracy, auc, precision, recall, f_score)\n",
    "# breaker()\n",
    "# print(classification_report(test_labels, y_pred))\n",
    "# breaker()\n",
    "# print(confusion_matrix(test_labels, y_pred))\n",
    "# breaker()"
   ]
  }
 ],
 "metadata": {
  "kernelspec": {
   "display_name": "Python 3",
   "language": "python",
   "name": "python3"
  },
  "language_info": {
   "codemirror_mode": {
    "name": "ipython",
    "version": 3
   },
   "file_extension": ".py",
   "mimetype": "text/x-python",
   "name": "python",
   "nbconvert_exporter": "python",
   "pygments_lexer": "ipython3",
   "version": "3.7.12"
  },
  "papermill": {
   "default_parameters": {},
   "duration": 2611.87165,
   "end_time": "2022-04-19T09:59:18.215675",
   "environment_variables": {},
   "exception": null,
   "input_path": "__notebook__.ipynb",
   "output_path": "__notebook__.ipynb",
   "parameters": {},
   "start_time": "2022-04-19T09:15:46.344025",
   "version": "2.3.4"
  },
  "widgets": {
   "application/vnd.jupyter.widget-state+json": {
    "state": {
     "26fe4708e97e420fa1c1af5f297a564e": {
      "model_module": "@jupyter-widgets/base",
      "model_module_version": "1.2.0",
      "model_name": "LayoutModel",
      "state": {
       "_model_module": "@jupyter-widgets/base",
       "_model_module_version": "1.2.0",
       "_model_name": "LayoutModel",
       "_view_count": null,
       "_view_module": "@jupyter-widgets/base",
       "_view_module_version": "1.2.0",
       "_view_name": "LayoutView",
       "align_content": null,
       "align_items": null,
       "align_self": null,
       "border": null,
       "bottom": null,
       "display": null,
       "flex": null,
       "flex_flow": null,
       "grid_area": null,
       "grid_auto_columns": null,
       "grid_auto_flow": null,
       "grid_auto_rows": null,
       "grid_column": null,
       "grid_gap": null,
       "grid_row": null,
       "grid_template_areas": null,
       "grid_template_columns": null,
       "grid_template_rows": null,
       "height": null,
       "justify_content": null,
       "justify_items": null,
       "left": null,
       "margin": null,
       "max_height": null,
       "max_width": null,
       "min_height": null,
       "min_width": null,
       "object_fit": null,
       "object_position": null,
       "order": null,
       "overflow": null,
       "overflow_x": null,
       "overflow_y": null,
       "padding": null,
       "right": null,
       "top": null,
       "visibility": null,
       "width": null
      }
     },
     "349c3c791b584f0eae7903870973db2d": {
      "model_module": "@jupyter-widgets/base",
      "model_module_version": "1.2.0",
      "model_name": "LayoutModel",
      "state": {
       "_model_module": "@jupyter-widgets/base",
       "_model_module_version": "1.2.0",
       "_model_name": "LayoutModel",
       "_view_count": null,
       "_view_module": "@jupyter-widgets/base",
       "_view_module_version": "1.2.0",
       "_view_name": "LayoutView",
       "align_content": null,
       "align_items": null,
       "align_self": null,
       "border": null,
       "bottom": null,
       "display": null,
       "flex": null,
       "flex_flow": null,
       "grid_area": null,
       "grid_auto_columns": null,
       "grid_auto_flow": null,
       "grid_auto_rows": null,
       "grid_column": null,
       "grid_gap": null,
       "grid_row": null,
       "grid_template_areas": null,
       "grid_template_columns": null,
       "grid_template_rows": null,
       "height": null,
       "justify_content": null,
       "justify_items": null,
       "left": null,
       "margin": null,
       "max_height": null,
       "max_width": null,
       "min_height": null,
       "min_width": null,
       "object_fit": null,
       "object_position": null,
       "order": null,
       "overflow": null,
       "overflow_x": null,
       "overflow_y": null,
       "padding": null,
       "right": null,
       "top": null,
       "visibility": null,
       "width": null
      }
     },
     "36aa7bc8c5b54992b4648422192c54c0": {
      "model_module": "@jupyter-widgets/base",
      "model_module_version": "1.2.0",
      "model_name": "LayoutModel",
      "state": {
       "_model_module": "@jupyter-widgets/base",
       "_model_module_version": "1.2.0",
       "_model_name": "LayoutModel",
       "_view_count": null,
       "_view_module": "@jupyter-widgets/base",
       "_view_module_version": "1.2.0",
       "_view_name": "LayoutView",
       "align_content": null,
       "align_items": null,
       "align_self": null,
       "border": null,
       "bottom": null,
       "display": null,
       "flex": null,
       "flex_flow": null,
       "grid_area": null,
       "grid_auto_columns": null,
       "grid_auto_flow": null,
       "grid_auto_rows": null,
       "grid_column": null,
       "grid_gap": null,
       "grid_row": null,
       "grid_template_areas": null,
       "grid_template_columns": null,
       "grid_template_rows": null,
       "height": null,
       "justify_content": null,
       "justify_items": null,
       "left": null,
       "margin": null,
       "max_height": null,
       "max_width": null,
       "min_height": null,
       "min_width": null,
       "object_fit": null,
       "object_position": null,
       "order": null,
       "overflow": null,
       "overflow_x": null,
       "overflow_y": null,
       "padding": null,
       "right": null,
       "top": null,
       "visibility": null,
       "width": null
      }
     },
     "3777794035d242cb8ad7f9de4892a386": {
      "model_module": "@jupyter-widgets/controls",
      "model_module_version": "1.5.0",
      "model_name": "HTMLModel",
      "state": {
       "_dom_classes": [],
       "_model_module": "@jupyter-widgets/controls",
       "_model_module_version": "1.5.0",
       "_model_name": "HTMLModel",
       "_view_count": null,
       "_view_module": "@jupyter-widgets/controls",
       "_view_module_version": "1.5.0",
       "_view_name": "HTMLView",
       "description": "",
       "description_tooltip": null,
       "layout": "IPY_MODEL_349c3c791b584f0eae7903870973db2d",
       "placeholder": "​",
       "style": "IPY_MODEL_68f41707e36645e4aa65236bcde6d669",
       "value": "100%"
      }
     },
     "3785ecc4b25f42f6be122e0f23fd58c6": {
      "model_module": "@jupyter-widgets/controls",
      "model_module_version": "1.5.0",
      "model_name": "HTMLModel",
      "state": {
       "_dom_classes": [],
       "_model_module": "@jupyter-widgets/controls",
       "_model_module_version": "1.5.0",
       "_model_name": "HTMLModel",
       "_view_count": null,
       "_view_module": "@jupyter-widgets/controls",
       "_view_module_version": "1.5.0",
       "_view_name": "HTMLView",
       "description": "",
       "description_tooltip": null,
       "layout": "IPY_MODEL_de4b9ccb62a746b88c3d0a2c49a2731c",
       "placeholder": "​",
       "style": "IPY_MODEL_7c0fd183ffab4703b063cdd37a0fb438",
       "value": " 97.8M/97.8M [00:03&lt;00:00, 55.5MB/s]"
      }
     },
     "37aa081db72e4d128738c8b01f93a29d": {
      "model_module": "@jupyter-widgets/controls",
      "model_module_version": "1.5.0",
      "model_name": "ProgressStyleModel",
      "state": {
       "_model_module": "@jupyter-widgets/controls",
       "_model_module_version": "1.5.0",
       "_model_name": "ProgressStyleModel",
       "_view_count": null,
       "_view_module": "@jupyter-widgets/base",
       "_view_module_version": "1.2.0",
       "_view_name": "StyleView",
       "bar_color": null,
       "description_width": ""
      }
     },
     "3c61b781c4ec4e76be30d0a58fba2057": {
      "model_module": "@jupyter-widgets/controls",
      "model_module_version": "1.5.0",
      "model_name": "FloatProgressModel",
      "state": {
       "_dom_classes": [],
       "_model_module": "@jupyter-widgets/controls",
       "_model_module_version": "1.5.0",
       "_model_name": "FloatProgressModel",
       "_view_count": null,
       "_view_module": "@jupyter-widgets/controls",
       "_view_module_version": "1.5.0",
       "_view_name": "ProgressView",
       "bar_style": "success",
       "description": "",
       "description_tooltip": null,
       "layout": "IPY_MODEL_26fe4708e97e420fa1c1af5f297a564e",
       "max": 102530333.0,
       "min": 0.0,
       "orientation": "horizontal",
       "style": "IPY_MODEL_37aa081db72e4d128738c8b01f93a29d",
       "value": 102530333.0
      }
     },
     "68f41707e36645e4aa65236bcde6d669": {
      "model_module": "@jupyter-widgets/controls",
      "model_module_version": "1.5.0",
      "model_name": "DescriptionStyleModel",
      "state": {
       "_model_module": "@jupyter-widgets/controls",
       "_model_module_version": "1.5.0",
       "_model_name": "DescriptionStyleModel",
       "_view_count": null,
       "_view_module": "@jupyter-widgets/base",
       "_view_module_version": "1.2.0",
       "_view_name": "StyleView",
       "description_width": ""
      }
     },
     "7c0fd183ffab4703b063cdd37a0fb438": {
      "model_module": "@jupyter-widgets/controls",
      "model_module_version": "1.5.0",
      "model_name": "DescriptionStyleModel",
      "state": {
       "_model_module": "@jupyter-widgets/controls",
       "_model_module_version": "1.5.0",
       "_model_name": "DescriptionStyleModel",
       "_view_count": null,
       "_view_module": "@jupyter-widgets/base",
       "_view_module_version": "1.2.0",
       "_view_name": "StyleView",
       "description_width": ""
      }
     },
     "a4776ca4acf6486c81895b7aa8dacd50": {
      "model_module": "@jupyter-widgets/controls",
      "model_module_version": "1.5.0",
      "model_name": "HBoxModel",
      "state": {
       "_dom_classes": [],
       "_model_module": "@jupyter-widgets/controls",
       "_model_module_version": "1.5.0",
       "_model_name": "HBoxModel",
       "_view_count": null,
       "_view_module": "@jupyter-widgets/controls",
       "_view_module_version": "1.5.0",
       "_view_name": "HBoxView",
       "box_style": "",
       "children": [
        "IPY_MODEL_3777794035d242cb8ad7f9de4892a386",
        "IPY_MODEL_3c61b781c4ec4e76be30d0a58fba2057",
        "IPY_MODEL_3785ecc4b25f42f6be122e0f23fd58c6"
       ],
       "layout": "IPY_MODEL_36aa7bc8c5b54992b4648422192c54c0"
      }
     },
     "de4b9ccb62a746b88c3d0a2c49a2731c": {
      "model_module": "@jupyter-widgets/base",
      "model_module_version": "1.2.0",
      "model_name": "LayoutModel",
      "state": {
       "_model_module": "@jupyter-widgets/base",
       "_model_module_version": "1.2.0",
       "_model_name": "LayoutModel",
       "_view_count": null,
       "_view_module": "@jupyter-widgets/base",
       "_view_module_version": "1.2.0",
       "_view_name": "LayoutView",
       "align_content": null,
       "align_items": null,
       "align_self": null,
       "border": null,
       "bottom": null,
       "display": null,
       "flex": null,
       "flex_flow": null,
       "grid_area": null,
       "grid_auto_columns": null,
       "grid_auto_flow": null,
       "grid_auto_rows": null,
       "grid_column": null,
       "grid_gap": null,
       "grid_row": null,
       "grid_template_areas": null,
       "grid_template_columns": null,
       "grid_template_rows": null,
       "height": null,
       "justify_content": null,
       "justify_items": null,
       "left": null,
       "margin": null,
       "max_height": null,
       "max_width": null,
       "min_height": null,
       "min_width": null,
       "object_fit": null,
       "object_position": null,
       "order": null,
       "overflow": null,
       "overflow_x": null,
       "overflow_y": null,
       "padding": null,
       "right": null,
       "top": null,
       "visibility": null,
       "width": null
      }
     }
    },
    "version_major": 2,
    "version_minor": 0
   }
  }
 },
 "nbformat": 4,
 "nbformat_minor": 5
}
