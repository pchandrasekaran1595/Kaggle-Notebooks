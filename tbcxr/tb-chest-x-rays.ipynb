{
 "cells": [
  {
   "cell_type": "code",
   "execution_count": 1,
   "id": "3efc750f",
   "metadata": {
    "_cell_guid": "b1076dfc-b9ad-4769-8c92-a6c4dae69d19",
    "_uuid": "8f2839f25d086af736a60e9eeb907d3b93b6e0e5",
    "execution": {
     "iopub.execute_input": "2022-04-25T07:37:30.489722Z",
     "iopub.status.busy": "2022-04-25T07:37:30.489139Z",
     "iopub.status.idle": "2022-04-25T07:37:30.689146Z",
     "shell.execute_reply": "2022-04-25T07:37:30.688233Z"
    },
    "papermill": {
     "duration": 0.212056,
     "end_time": "2022-04-25T07:37:30.691767",
     "exception": false,
     "start_time": "2022-04-25T07:37:30.479711",
     "status": "completed"
    },
    "tags": []
   },
   "outputs": [],
   "source": [
    "import os\n",
    "import cv2\n",
    "import numpy as np"
   ]
  },
  {
   "cell_type": "code",
   "execution_count": 2,
   "id": "df5c7af0",
   "metadata": {
    "execution": {
     "iopub.execute_input": "2022-04-25T07:37:30.702584Z",
     "iopub.status.busy": "2022-04-25T07:37:30.702322Z",
     "iopub.status.idle": "2022-04-25T07:37:30.714334Z",
     "shell.execute_reply": "2022-04-25T07:37:30.713274Z"
    },
    "papermill": {
     "duration": 0.019866,
     "end_time": "2022-04-25T07:37:30.716446",
     "exception": false,
     "start_time": "2022-04-25T07:37:30.696580",
     "status": "completed"
    },
    "tags": []
   },
   "outputs": [],
   "source": [
    "def breaker(num: int = 50, char: str = \"*\") -> None:\n",
    "    print(\"\\n\" + num*char + \"\\n\")\n",
    "\n",
    "\n",
    "def preprocess(image: np.ndarray, size: int) -> np.ndarray:\n",
    "    return cv2.resize(src=cv2.cvtColor(src=image, code=cv2.COLOR_BGR2RGB), dsize=(size, size), interpolation=cv2.INTER_AREA)\n",
    "\n",
    "\n",
    "def get_images(path: str, names: np.ndarray, size: int) -> np.ndarray:\n",
    "    images = np.zeros((len(names), size, size, 3), dtype=np.uint8)\n",
    "    \n",
    "    i = 0\n",
    "    for name in names:\n",
    "        images[i] = preprocess(cv2.imread(os.path.join(path, name), cv2.IMREAD_COLOR), size)\n",
    "        i += 1\n",
    "    return images\n",
    "\n",
    "    \n",
    "def get_statistics(images: np.ndarray, size: int) -> None:\n",
    "    print(f\"Mean {size}x{size}\\n\")\n",
    "    print(f\"Red Channel Mean   {size} : {images[:, :, :, 0].mean() / 255:.5f}\")\n",
    "    print(f\"Green Channel Mean {size} : {images[:, :, :, 1].mean() / 255:.5f}\")\n",
    "    print(f\"Blue Channel Mean  {size} : {images[:, :, :, 2].mean() / 255:.5f}\")\n",
    "    print(\"\")\n",
    "    print(f\"Standard Deviation {size}x{size}\\n\")\n",
    "    print(f\"Red Channel Std    {size} : {images[:, :, :, 0].std() / 255:.5f}\")\n",
    "    print(f\"Green Channel Std  {size} : {images[:, :, :, 1].std() / 255:.5f}\")\n",
    "    print(f\"Blue Channel Std   {size} : {images[:, :, :, 2].std() / 255:.5f}\")\n"
   ]
  },
  {
   "cell_type": "code",
   "execution_count": 3,
   "id": "ee46365d",
   "metadata": {
    "execution": {
     "iopub.execute_input": "2022-04-25T07:37:30.727573Z",
     "iopub.status.busy": "2022-04-25T07:37:30.727317Z",
     "iopub.status.idle": "2022-04-25T07:41:21.434369Z",
     "shell.execute_reply": "2022-04-25T07:41:21.433411Z"
    },
    "papermill": {
     "duration": 230.72859,
     "end_time": "2022-04-25T07:41:21.449824",
     "exception": false,
     "start_time": "2022-04-25T07:37:30.721234",
     "status": "completed"
    },
    "tags": []
   },
   "outputs": [
    {
     "name": "stdout",
     "output_type": "stream",
     "text": [
      "\n",
      "**************************************************\n",
      "\n",
      "Mean 256x256\n",
      "\n",
      "Red Channel Mean   256 : 0.50171\n",
      "Green Channel Mean 256 : 0.51011\n",
      "Blue Channel Mean  256 : 0.51292\n",
      "\n",
      "Standard Deviation 256x256\n",
      "\n",
      "Red Channel Std    256 : 0.25925\n",
      "Green Channel Std  256 : 0.25933\n",
      "Blue Channel Std   256 : 0.26062\n",
      "\n",
      "**************************************************\n",
      "\n",
      "Mean 384x384\n",
      "\n",
      "Red Channel Mean   384 : 0.50122\n",
      "Green Channel Mean 384 : 0.50962\n",
      "Blue Channel Mean  384 : 0.51243\n",
      "\n",
      "Standard Deviation 384x384\n",
      "\n",
      "Red Channel Std    384 : 0.25932\n",
      "Green Channel Std  384 : 0.25939\n",
      "Blue Channel Std   384 : 0.26068\n",
      "\n",
      "**************************************************\n",
      "\n",
      "Mean 512x512\n",
      "\n",
      "Red Channel Mean   512 : 0.50122\n",
      "Green Channel Mean 512 : 0.50962\n",
      "Blue Channel Mean  512 : 0.51243\n",
      "\n",
      "Standard Deviation 512x512\n",
      "\n",
      "Red Channel Std    512 : 0.25966\n",
      "Green Channel Std  512 : 0.25973\n",
      "Blue Channel Std   512 : 0.26102\n",
      "\n",
      "**************************************************\n",
      "\n"
     ]
    }
   ],
   "source": [
    "sizes = [256, 384, 512]\n",
    "\n",
    "breaker()\n",
    "for size in sizes:\n",
    "    normal_images = get_images(\"../input/tuberculosis-tb-chest-xray-dataset/TB_Chest_Radiography_Database/Normal\", \n",
    "                               os.listdir(\"../input/tuberculosis-tb-chest-xray-dataset/TB_Chest_Radiography_Database/Normal\"),\n",
    "                               size)\n",
    "    \n",
    "    tuberculosis_images = get_images(\"../input/tuberculosis-tb-chest-xray-dataset/TB_Chest_Radiography_Database/Tuberculosis\", \n",
    "                                     os.listdir(\"../input/tuberculosis-tb-chest-xray-dataset/TB_Chest_Radiography_Database/Tuberculosis\"),\n",
    "                                     size)\n",
    "    \n",
    "    images = np.concatenate((normal_images, tuberculosis_images), axis=0)\n",
    "    targets = np.concatenate((np.zeros(len(normal_images),), np.ones(len(tuberculosis_images),)), axis=0)\n",
    "    \n",
    "    np.save(f\"./images_{size}.npy\", images)\n",
    "    np.save(f\"./targets_{size}.npy\", targets)\n",
    "    \n",
    "    get_statistics(images, size)\n",
    "    breaker()"
   ]
  }
 ],
 "metadata": {
  "kernelspec": {
   "display_name": "Python 3",
   "language": "python",
   "name": "python3"
  },
  "language_info": {
   "codemirror_mode": {
    "name": "ipython",
    "version": 3
   },
   "file_extension": ".py",
   "mimetype": "text/x-python",
   "name": "python",
   "nbconvert_exporter": "python",
   "pygments_lexer": "ipython3",
   "version": "3.7.12"
  },
  "papermill": {
   "default_parameters": {},
   "duration": 241.373786,
   "end_time": "2022-04-25T07:41:22.386722",
   "environment_variables": {},
   "exception": null,
   "input_path": "__notebook__.ipynb",
   "output_path": "__notebook__.ipynb",
   "parameters": {},
   "start_time": "2022-04-25T07:37:21.012936",
   "version": "2.3.4"
  }
 },
 "nbformat": 4,
 "nbformat_minor": 5
}
