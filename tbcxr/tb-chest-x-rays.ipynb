{
 "cells": [
  {
   "cell_type": "code",
   "execution_count": 1,
   "id": "4fed976f",
   "metadata": {
    "_cell_guid": "b1076dfc-b9ad-4769-8c92-a6c4dae69d19",
    "_uuid": "8f2839f25d086af736a60e9eeb907d3b93b6e0e5",
    "execution": {
     "iopub.execute_input": "2022-04-18T11:04:49.200024Z",
     "iopub.status.busy": "2022-04-18T11:04:49.199216Z",
     "iopub.status.idle": "2022-04-18T11:04:49.402577Z",
     "shell.execute_reply": "2022-04-18T11:04:49.401747Z"
    },
    "papermill": {
     "duration": 0.214017,
     "end_time": "2022-04-18T11:04:49.405327",
     "exception": false,
     "start_time": "2022-04-18T11:04:49.191310",
     "status": "completed"
    },
    "tags": []
   },
   "outputs": [],
   "source": [
    "import os\n",
    "import cv2\n",
    "import numpy as np"
   ]
  },
  {
   "cell_type": "code",
   "execution_count": 2,
   "id": "cfbea67c",
   "metadata": {
    "execution": {
     "iopub.execute_input": "2022-04-18T11:04:49.416528Z",
     "iopub.status.busy": "2022-04-18T11:04:49.415881Z",
     "iopub.status.idle": "2022-04-18T11:04:49.427762Z",
     "shell.execute_reply": "2022-04-18T11:04:49.427119Z"
    },
    "papermill": {
     "duration": 0.019634,
     "end_time": "2022-04-18T11:04:49.429968",
     "exception": false,
     "start_time": "2022-04-18T11:04:49.410334",
     "status": "completed"
    },
    "tags": []
   },
   "outputs": [],
   "source": [
    "def breaker(num: int = 50, char: str = \"*\") -> None:\n",
    "    print(\"\\n\" + num*char + \"\\n\")\n",
    "\n",
    "\n",
    "def preprocess(image: np.ndarray, size: int) -> np.ndarray:\n",
    "    return cv2.resize(src=cv2.cvtColor(src=image, code=cv2.COLOR_BGR2RGB), dsize=(size, size), interpolation=cv2.INTER_AREA)\n",
    "\n",
    "\n",
    "def get_images(path: str, names: np.ndarray, size: int) -> np.ndarray:\n",
    "    images = np.zeros((len(names), size, size, 3), dtype=np.uint8)\n",
    "    \n",
    "    i = 0\n",
    "    for name in names:\n",
    "        images[i] = preprocess(cv2.imread(os.path.join(path, name), cv2.IMREAD_COLOR), size)\n",
    "        i += 1\n",
    "    return images\n",
    "\n",
    "    \n",
    "def get_statistics(images: np.ndarray, size: int) -> None:\n",
    "    print(f\"Mean {size}x{size}\\n\")\n",
    "    print(f\"Red Channel Mean   {size} : {images[:, :, 0].mean() / 255:.5f}\")\n",
    "    print(f\"Green Channel Mean {size} : {images[:, :, 1].mean() / 255:.5f}\")\n",
    "    print(f\"Blue Channel Mean  {size} : {images[:, :, 2].mean() / 255:.5f}\")\n",
    "    print(\"\")\n",
    "    print(f\"Standard Deviation {size}x{size}\\n\")\n",
    "    print(f\"Red Channel Std    {size} : {images[:, :, 0].std() / 255:.5f}\")\n",
    "    print(f\"Green Channel Std  {size} : {images[:, :, 1].std() / 255:.5f}\")\n",
    "    print(f\"Blue Channel Std   {size} : {images[:, :, 2].std() / 255:.5f}\")\n"
   ]
  },
  {
   "cell_type": "code",
   "execution_count": 3,
   "id": "6d3242ae",
   "metadata": {
    "execution": {
     "iopub.execute_input": "2022-04-18T11:04:49.440872Z",
     "iopub.status.busy": "2022-04-18T11:04:49.440315Z",
     "iopub.status.idle": "2022-04-18T11:08:21.030078Z",
     "shell.execute_reply": "2022-04-18T11:08:21.028778Z"
    },
    "papermill": {
     "duration": 211.59811,
     "end_time": "2022-04-18T11:08:21.032601",
     "exception": false,
     "start_time": "2022-04-18T11:04:49.434491",
     "status": "completed"
    },
    "tags": []
   },
   "outputs": [
    {
     "name": "stdout",
     "output_type": "stream",
     "text": [
      "\n",
      "**************************************************\n",
      "\n",
      "Mean 256x256\n",
      "\n",
      "Red Channel Mean   256 : 0.36378\n",
      "Green Channel Mean 256 : 0.36350\n",
      "Blue Channel Mean  256 : 0.35346\n",
      "\n",
      "Standard Deviation 256x256\n",
      "\n",
      "Red Channel Std    256 : 0.31784\n",
      "Green Channel Std  256 : 0.31467\n",
      "Blue Channel Std   256 : 0.30536\n",
      "\n",
      "**************************************************\n",
      "\n",
      "Mean 384x384\n",
      "\n",
      "Red Channel Mean   384 : 0.35806\n",
      "Green Channel Mean 384 : 0.36991\n",
      "Blue Channel Mean  384 : 0.36155\n",
      "\n",
      "Standard Deviation 384x384\n",
      "\n",
      "Red Channel Std    384 : 0.31737\n",
      "Green Channel Std  384 : 0.31962\n",
      "Blue Channel Std   384 : 0.31380\n",
      "\n",
      "**************************************************\n",
      "\n",
      "Mean 512x512\n",
      "\n",
      "Red Channel Mean   512 : 0.35279\n",
      "Green Channel Mean 512 : 0.37382\n",
      "Blue Channel Mean  512 : 0.36601\n",
      "\n",
      "Standard Deviation 512x512\n",
      "\n",
      "Red Channel Std    512 : 0.31884\n",
      "Green Channel Std  512 : 0.32410\n",
      "Blue Channel Std   512 : 0.31739\n",
      "\n",
      "**************************************************\n",
      "\n"
     ]
    }
   ],
   "source": [
    "sizes = [256, 384, 512]\n",
    "\n",
    "breaker()\n",
    "for size in sizes:\n",
    "    normal_images = get_images(\"../input/tuberculosis-tb-chest-xray-dataset/TB_Chest_Radiography_Database/Normal\", \n",
    "                               os.listdir(\"../input/tuberculosis-tb-chest-xray-dataset/TB_Chest_Radiography_Database/Normal\"),\n",
    "                               size)\n",
    "    \n",
    "    tuberculosis_images = get_images(\"../input/tuberculosis-tb-chest-xray-dataset/TB_Chest_Radiography_Database/Tuberculosis\", \n",
    "                                     os.listdir(\"../input/tuberculosis-tb-chest-xray-dataset/TB_Chest_Radiography_Database/Tuberculosis\"),\n",
    "                                     size)\n",
    "    \n",
    "    images = np.concatenate((normal_images, tuberculosis_images), axis=0)\n",
    "    targets = np.concatenate((np.zeros(len(normal_images),), np.ones(len(tuberculosis_images),)), axis=0)\n",
    "    \n",
    "    np.save(f\"./images_{size}.npy\", images)\n",
    "    np.save(f\"./targets_{size}.npy\", targets)\n",
    "    \n",
    "    get_statistics(images, size)\n",
    "    breaker()"
   ]
  }
 ],
 "metadata": {
  "kernelspec": {
   "display_name": "Python 3",
   "language": "python",
   "name": "python3"
  },
  "language_info": {
   "codemirror_mode": {
    "name": "ipython",
    "version": 3
   },
   "file_extension": ".py",
   "mimetype": "text/x-python",
   "name": "python",
   "nbconvert_exporter": "python",
   "pygments_lexer": "ipython3",
   "version": "3.7.12"
  },
  "papermill": {
   "default_parameters": {},
   "duration": 222.590932,
   "end_time": "2022-04-18T11:08:22.144735",
   "environment_variables": {},
   "exception": null,
   "input_path": "__notebook__.ipynb",
   "output_path": "__notebook__.ipynb",
   "parameters": {},
   "start_time": "2022-04-18T11:04:39.553803",
   "version": "2.3.4"
  }
 },
 "nbformat": 4,
 "nbformat_minor": 5
}
