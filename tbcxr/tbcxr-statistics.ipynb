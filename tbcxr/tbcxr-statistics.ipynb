{
 "cells": [
  {
   "cell_type": "code",
   "execution_count": 1,
   "id": "282ff9b2",
   "metadata": {
    "_cell_guid": "b1076dfc-b9ad-4769-8c92-a6c4dae69d19",
    "_uuid": "8f2839f25d086af736a60e9eeb907d3b93b6e0e5",
    "execution": {
     "iopub.execute_input": "2022-04-25T07:06:37.771045Z",
     "iopub.status.busy": "2022-04-25T07:06:37.770691Z",
     "iopub.status.idle": "2022-04-25T07:06:37.975395Z",
     "shell.execute_reply": "2022-04-25T07:06:37.974610Z"
    },
    "papermill": {
     "duration": 0.216325,
     "end_time": "2022-04-25T07:06:37.977837",
     "exception": false,
     "start_time": "2022-04-25T07:06:37.761512",
     "status": "completed"
    },
    "tags": []
   },
   "outputs": [],
   "source": [
    "import os\n",
    "import cv2\n",
    "import numpy as np\n",
    "import pandas as pd\n",
    "\n",
    "BASE_PATH = \"../input/tuberculosis-tb-chest-xray-dataset/TB_Chest_Radiography_Database\""
   ]
  },
  {
   "cell_type": "code",
   "execution_count": 2,
   "id": "1e7a68c5",
   "metadata": {
    "execution": {
     "iopub.execute_input": "2022-04-25T07:06:37.993635Z",
     "iopub.status.busy": "2022-04-25T07:06:37.992653Z",
     "iopub.status.idle": "2022-04-25T07:06:38.005768Z",
     "shell.execute_reply": "2022-04-25T07:06:38.005153Z"
    },
    "papermill": {
     "duration": 0.022741,
     "end_time": "2022-04-25T07:06:38.007816",
     "exception": false,
     "start_time": "2022-04-25T07:06:37.985075",
     "status": "completed"
    },
    "tags": []
   },
   "outputs": [],
   "source": [
    "def breaker(num: int = 50, char: str = \"*\") -> None:\n",
    "    print(\"\\n\" + num*char + \"\\n\")\n",
    "\n",
    "\n",
    "def preprocess(image: np.ndarray) -> np.ndarray:\n",
    "    return cv2.cvtColor(src=image, code=cv2.COLOR_BGR2RGB)\n",
    "\n",
    "\n",
    "def get_statistics(path: str, names: np.ndarray, sizes: list) -> list:\n",
    "    r_means, g_means, b_means, r_stds, g_stds, b_stds = [], [], [], [], [], []\n",
    "\n",
    "    i = 0\n",
    "    for size in sizes:\n",
    "        r_mean, g_mean, b_mean, r_std, g_std, b_std = 0.0, 0.0, 0.0, 0.0, 0.0, 0.0\n",
    "        for name in names:\n",
    "            main_image = preprocess(cv2.imread(os.path.join(path, name), cv2.IMREAD_COLOR))\n",
    "            image = cv2.resize(src=main_image, dsize=(size, size), interpolation=cv2.INTER_AREA)\n",
    "            r_mean += image[:, :, 0].mean()\n",
    "            g_mean += image[:, :, 1].mean()\n",
    "            b_mean += image[:, :, 2].mean()\n",
    "            r_std  += image[:, :, 0].std()\n",
    "            g_std  += image[:, :, 1].std()\n",
    "            b_std  += image[:, :, 2].std()\n",
    "            \n",
    "        r_means.append(r_mean / len(names))\n",
    "        g_means.append(g_mean / len(names))\n",
    "        b_means.append(b_mean / len(names))\n",
    "\n",
    "        r_stds.append(r_std / len(names))\n",
    "        g_stds.append(g_std / len(names))\n",
    "        b_stds.append(b_std / len(names))\n",
    "    \n",
    "    return r_means, g_means, b_means, r_stds, g_stds, b_stds "
   ]
  },
  {
   "cell_type": "code",
   "execution_count": 3,
   "id": "731326d3",
   "metadata": {
    "execution": {
     "iopub.execute_input": "2022-04-25T07:06:38.023327Z",
     "iopub.status.busy": "2022-04-25T07:06:38.023076Z",
     "iopub.status.idle": "2022-04-25T07:09:58.122135Z",
     "shell.execute_reply": "2022-04-25T07:09:58.121205Z"
    },
    "papermill": {
     "duration": 200.109914,
     "end_time": "2022-04-25T07:09:58.124839",
     "exception": false,
     "start_time": "2022-04-25T07:06:38.014925",
     "status": "completed"
    },
    "tags": []
   },
   "outputs": [],
   "source": [
    "sizes = [256, 384, 512]\n",
    "\n",
    "\n",
    "n_r_means, n_g_means, n_b_means, n_r_stds, n_g_stds, n_b_stds = get_statistics(\"../input/tuberculosis-tb-chest-xray-dataset/TB_Chest_Radiography_Database/Normal\", \n",
    "                                                                               os.listdir(\"../input/tuberculosis-tb-chest-xray-dataset/TB_Chest_Radiography_Database/Normal\"),\n",
    "                                                                               sizes)\n",
    "\n",
    "t_r_means, t_g_means, t_b_means, t_r_stds, t_g_stds, t_b_stds = get_statistics(\"../input/tuberculosis-tb-chest-xray-dataset/TB_Chest_Radiography_Database/Tuberculosis\", \n",
    "                                                                               os.listdir(\"../input/tuberculosis-tb-chest-xray-dataset/TB_Chest_Radiography_Database/Tuberculosis\"),\n",
    "                                                                               sizes)"
   ]
  },
  {
   "cell_type": "code",
   "execution_count": 4,
   "id": "605782e0",
   "metadata": {
    "execution": {
     "iopub.execute_input": "2022-04-25T07:09:58.141882Z",
     "iopub.status.busy": "2022-04-25T07:09:58.141101Z",
     "iopub.status.idle": "2022-04-25T07:09:58.151529Z",
     "shell.execute_reply": "2022-04-25T07:09:58.149219Z"
    },
    "papermill": {
     "duration": 0.021344,
     "end_time": "2022-04-25T07:09:58.153721",
     "exception": false,
     "start_time": "2022-04-25T07:09:58.132377",
     "status": "completed"
    },
    "tags": []
   },
   "outputs": [
    {
     "name": "stdout",
     "output_type": "stream",
     "text": [
      "\n",
      "**************************************************\n",
      "\n",
      "Normal\n",
      "\n",
      "Red Channel Mean (256)   : 0.51077\n",
      "Green Channel Mean (256) : 0.51077\n",
      "Blue Channel Mean (256)  : 0.51077\n",
      "\n",
      "\n",
      "Red Channel Std (256)    : 0.24285\n",
      "Green Channel Std (256)  : 0.24285\n",
      "Blue Channel Std (256)   : 0.24285\n",
      "\n",
      "**************************************************\n",
      "\n",
      "Red Channel Mean (384)   : 0.51029\n",
      "Green Channel Mean (384) : 0.51029\n",
      "Blue Channel Mean (384)  : 0.51029\n",
      "\n",
      "\n",
      "Red Channel Std (384)    : 0.24294\n",
      "Green Channel Std (384)  : 0.24294\n",
      "Blue Channel Std (384)   : 0.24294\n",
      "\n",
      "**************************************************\n",
      "\n",
      "Red Channel Mean (512)   : 0.51029\n",
      "Green Channel Mean (512) : 0.51029\n",
      "Blue Channel Mean (512)  : 0.51029\n",
      "\n",
      "\n",
      "Red Channel Std (512)    : 0.24333\n",
      "Green Channel Std (512)  : 0.24333\n",
      "Blue Channel Std (512)   : 0.24333\n",
      "\n",
      "**************************************************\n",
      "\n"
     ]
    }
   ],
   "source": [
    "breaker()\n",
    "print(\"Normal\\n\")\n",
    "for i in range(len(sizes)):\n",
    "    print(f\"Red Channel Mean ({sizes[i]})   : {n_r_means[i] / 255:.5f}\")\n",
    "    print(f\"Green Channel Mean ({sizes[i]}) : {n_g_means[i] / 255:.5f}\")\n",
    "    print(f\"Blue Channel Mean ({sizes[i]})  : {n_b_means[i] / 255:.5f}\")\n",
    "    print(\"\\n\")\n",
    "    print(f\"Red Channel Std ({sizes[i]})    : {n_r_stds[i] / 255:.5f}\")\n",
    "    print(f\"Green Channel Std ({sizes[i]})  : {n_g_stds[i] / 255:.5f}\")\n",
    "    print(f\"Blue Channel Std ({sizes[i]})   : {n_b_stds[i] / 255:.5f}\")\n",
    "    breaker()"
   ]
  },
  {
   "cell_type": "code",
   "execution_count": 5,
   "id": "28166a8d",
   "metadata": {
    "execution": {
     "iopub.execute_input": "2022-04-25T07:09:58.171863Z",
     "iopub.status.busy": "2022-04-25T07:09:58.171543Z",
     "iopub.status.idle": "2022-04-25T07:09:58.181551Z",
     "shell.execute_reply": "2022-04-25T07:09:58.179395Z"
    },
    "papermill": {
     "duration": 0.021562,
     "end_time": "2022-04-25T07:09:58.183674",
     "exception": false,
     "start_time": "2022-04-25T07:09:58.162112",
     "status": "completed"
    },
    "tags": []
   },
   "outputs": [
    {
     "name": "stdout",
     "output_type": "stream",
     "text": [
      "\n",
      "**************************************************\n",
      "\n",
      "Tuberculosis\n",
      "\n",
      "Red Channel Mean (256)   : 0.45644\n",
      "Green Channel Mean (256) : 0.50684\n",
      "Blue Channel Mean (256)  : 0.52369\n",
      "\n",
      "\n",
      "Red Channel Std (256)    : 0.19865\n",
      "Green Channel Std (256)  : 0.21142\n",
      "Blue Channel Std (256)   : 0.21833\n",
      "\n",
      "**************************************************\n",
      "\n",
      "Red Channel Mean (384)   : 0.45588\n",
      "Green Channel Mean (384) : 0.50628\n",
      "Blue Channel Mean (384)  : 0.52313\n",
      "\n",
      "\n",
      "Red Channel Std (384)    : 0.19866\n",
      "Green Channel Std (384)  : 0.21144\n",
      "Blue Channel Std (384)   : 0.21834\n",
      "\n",
      "**************************************************\n",
      "\n",
      "Red Channel Mean (512)   : 0.45588\n",
      "Green Channel Mean (512) : 0.50628\n",
      "Blue Channel Mean (512)  : 0.52313\n",
      "\n",
      "\n",
      "Red Channel Std (512)    : 0.19895\n",
      "Green Channel Std (512)  : 0.21173\n",
      "Blue Channel Std (512)   : 0.21863\n",
      "\n",
      "**************************************************\n",
      "\n"
     ]
    }
   ],
   "source": [
    "breaker()\n",
    "print(\"Tuberculosis\\n\")\n",
    "for i in range(len(sizes)):\n",
    "    print(f\"Red Channel Mean ({sizes[i]})   : {t_r_means[i] / 255:.5f}\")\n",
    "    print(f\"Green Channel Mean ({sizes[i]}) : {t_g_means[i] / 255:.5f}\")\n",
    "    print(f\"Blue Channel Mean ({sizes[i]})  : {t_b_means[i] / 255:.5f}\")\n",
    "    print(\"\\n\")\n",
    "    print(f\"Red Channel Std ({sizes[i]})    : {t_r_stds[i] / 255:.5f}\")\n",
    "    print(f\"Green Channel Std ({sizes[i]})  : {t_g_stds[i] / 255:.5f}\")\n",
    "    print(f\"Blue Channel Std ({sizes[i]})   : {t_b_stds[i] / 255:.5f}\")\n",
    "    breaker()"
   ]
  },
  {
   "cell_type": "code",
   "execution_count": 6,
   "id": "c070e984",
   "metadata": {
    "execution": {
     "iopub.execute_input": "2022-04-25T07:09:58.202519Z",
     "iopub.status.busy": "2022-04-25T07:09:58.202252Z",
     "iopub.status.idle": "2022-04-25T07:09:58.212687Z",
     "shell.execute_reply": "2022-04-25T07:09:58.211519Z"
    },
    "papermill": {
     "duration": 0.02225,
     "end_time": "2022-04-25T07:09:58.214962",
     "exception": false,
     "start_time": "2022-04-25T07:09:58.192712",
     "status": "completed"
    },
    "tags": []
   },
   "outputs": [
    {
     "name": "stdout",
     "output_type": "stream",
     "text": [
      "\n",
      "**************************************************\n",
      "\n",
      "Normal + Tuberculosis\n",
      "\n",
      "Red Channel Mean (256)   : 0.96721\n",
      "Green Channel Mean (256) : 1.01761\n",
      "Blue Channel Mean (256)  : 1.03446\n",
      "\n",
      "\n",
      "Red Channel Std (256)    : 0.44149\n",
      "Green Channel Std (256)  : 0.45427\n",
      "Blue Channel Std (256)   : 0.46118\n",
      "\n",
      "**************************************************\n",
      "\n",
      "Red Channel Mean (384)   : 0.96616\n",
      "Green Channel Mean (384) : 1.01657\n",
      "Blue Channel Mean (384)  : 1.03342\n",
      "\n",
      "\n",
      "Red Channel Std (384)    : 0.44160\n",
      "Green Channel Std (384)  : 0.45437\n",
      "Blue Channel Std (384)   : 0.46128\n",
      "\n",
      "**************************************************\n",
      "\n",
      "Red Channel Mean (512)   : 0.96617\n",
      "Green Channel Mean (512) : 1.01657\n",
      "Blue Channel Mean (512)  : 1.03342\n",
      "\n",
      "\n",
      "Red Channel Std (512)    : 0.44229\n",
      "Green Channel Std (512)  : 0.45506\n",
      "Blue Channel Std (512)   : 0.46196\n",
      "\n",
      "**************************************************\n",
      "\n"
     ]
    }
   ],
   "source": [
    "breaker()\n",
    "print(\"Normal + Tuberculosis\\n\")\n",
    "for i in range(len(sizes)):\n",
    "    print(f\"Red Channel Mean ({sizes[i]})   : {(n_r_means[i] + t_r_means[i]) / 255:.5f}\")\n",
    "    print(f\"Green Channel Mean ({sizes[i]}) : {(n_g_means[i] + t_g_means[i]) / 255:.5f}\")\n",
    "    print(f\"Blue Channel Mean ({sizes[i]})  : {(n_b_means[i] + t_b_means[i])/ 255:.5f}\")\n",
    "    print(\"\\n\")\n",
    "    print(f\"Red Channel Std ({sizes[i]})    : {(n_r_stds[i] + t_r_stds[i]) / 255:.5f}\")\n",
    "    print(f\"Green Channel Std ({sizes[i]})  : {(n_g_stds[i] + t_g_stds[i]) / 255:.5f}\")\n",
    "    print(f\"Blue Channel Std ({sizes[i]})   : {(n_b_stds[i] + t_b_stds[i]) / 255:.5f}\")\n",
    "    breaker()"
   ]
  }
 ],
 "metadata": {
  "kernelspec": {
   "display_name": "Python 3",
   "language": "python",
   "name": "python3"
  },
  "language_info": {
   "codemirror_mode": {
    "name": "ipython",
    "version": 3
   },
   "file_extension": ".py",
   "mimetype": "text/x-python",
   "name": "python",
   "nbconvert_exporter": "python",
   "pygments_lexer": "ipython3",
   "version": "3.7.12"
  },
  "papermill": {
   "default_parameters": {},
   "duration": 210.588407,
   "end_time": "2022-04-25T07:09:58.945613",
   "environment_variables": {},
   "exception": null,
   "input_path": "__notebook__.ipynb",
   "output_path": "__notebook__.ipynb",
   "parameters": {},
   "start_time": "2022-04-25T07:06:28.357206",
   "version": "2.3.4"
  }
 },
 "nbformat": 4,
 "nbformat_minor": 5
}
