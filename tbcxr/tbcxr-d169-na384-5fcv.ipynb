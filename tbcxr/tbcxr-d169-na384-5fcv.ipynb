{
 "cells": [
  {
   "cell_type": "markdown",
   "id": "5f1d6016",
   "metadata": {
    "_cell_guid": "b1076dfc-b9ad-4769-8c92-a6c4dae69d19",
    "_uuid": "8f2839f25d086af736a60e9eeb907d3b93b6e0e5",
    "papermill": {
     "duration": 0.021735,
     "end_time": "2022-07-04T07:52:22.569293",
     "exception": false,
     "start_time": "2022-07-04T07:52:22.547558",
     "status": "completed"
    },
    "tags": []
   },
   "source": [
    "### Library Imports"
   ]
  },
  {
   "cell_type": "code",
   "execution_count": 1,
   "id": "c1e3792c",
   "metadata": {
    "execution": {
     "iopub.execute_input": "2022-07-04T07:52:22.601135Z",
     "iopub.status.busy": "2022-07-04T07:52:22.600746Z",
     "iopub.status.idle": "2022-07-04T07:52:25.194153Z",
     "shell.execute_reply": "2022-07-04T07:52:25.193386Z"
    },
    "papermill": {
     "duration": 2.61001,
     "end_time": "2022-07-04T07:52:25.196756",
     "exception": false,
     "start_time": "2022-07-04T07:52:22.586746",
     "status": "completed"
    },
    "tags": []
   },
   "outputs": [],
   "source": [
    "import os\n",
    "import re\n",
    "import gc\n",
    "import torch\n",
    "import numpy as np\n",
    "import pandas as pd\n",
    "import matplotlib.pyplot as plt\n",
    "\n",
    "from time import time, sleep\n",
    "from torch import nn, optim\n",
    "from torch.utils.data import Dataset\n",
    "from torch.utils.data import DataLoader as DL\n",
    "from torchvision import models, transforms\n",
    "\n",
    "from sklearn.model_selection import KFold\n",
    "# from sklearn.preprocessing import LabelEncoder\n",
    "# from sklearn.metrics import accuracy_score, \\\n",
    "#                             precision_recall_fscore_support, \\\n",
    "#                             roc_auc_score, \\\n",
    "#                             classification_report, \\\n",
    "#                             confusion_matrix"
   ]
  },
  {
   "cell_type": "markdown",
   "id": "89779506",
   "metadata": {
    "papermill": {
     "duration": 0.012876,
     "end_time": "2022-07-04T07:52:25.223366",
     "exception": false,
     "start_time": "2022-07-04T07:52:25.210490",
     "status": "completed"
    },
    "tags": []
   },
   "source": [
    "### **Utilities**"
   ]
  },
  {
   "cell_type": "code",
   "execution_count": 2,
   "id": "2faa98dc",
   "metadata": {
    "execution": {
     "iopub.execute_input": "2022-07-04T07:52:25.250434Z",
     "iopub.status.busy": "2022-07-04T07:52:25.249728Z",
     "iopub.status.idle": "2022-07-04T07:52:25.262596Z",
     "shell.execute_reply": "2022-07-04T07:52:25.261907Z"
    },
    "papermill": {
     "duration": 0.028407,
     "end_time": "2022-07-04T07:52:25.264226",
     "exception": false,
     "start_time": "2022-07-04T07:52:25.235819",
     "status": "completed"
    },
    "tags": []
   },
   "outputs": [],
   "source": [
    "SEED = 42\n",
    "SIZE = 384\n",
    "\n",
    "def breaker(num: int=50, char: str=\"*\") -> None:\n",
    "    print(\"\\n\" + num*char + \"\\n\")\n",
    "\n",
    "\n",
    "def show_graphs(L: list, A: list) -> None:\n",
    "    TL, VL, TA, VA = [], [], [], []\n",
    "    for i in range(len(L)):\n",
    "        TL.append(L[i][\"train\"])\n",
    "        VL.append(L[i][\"valid\"])\n",
    "        TA.append(A[i][\"train\"])\n",
    "        VA.append(A[i][\"valid\"])\n",
    "    x_Axis = np.arange(1, len(TL) + 1)\n",
    "    plt.figure(figsize=(8, 6))\n",
    "    plt.subplot(1, 2, 1)\n",
    "    plt.plot(x_Axis, TL, \"r\", label=\"Train\")\n",
    "    plt.plot(x_Axis, VL, \"b\", label=\"Valid\")\n",
    "    plt.legend()\n",
    "    plt.grid()\n",
    "    plt.title(\"Loss Graph\")\n",
    "    plt.subplot(1, 2, 2)\n",
    "    plt.plot(x_Axis, TA, \"r\", label=\"Train\")\n",
    "    plt.plot(x_Axis, VA, \"b\", label=\"Valid\")\n",
    "    plt.legend()\n",
    "    plt.grid()\n",
    "    plt.title(\"Accuracy Graph\")\n",
    "    plt.show()\n",
    "\n",
    "    \n",
    "def get_scores(y_true: np.ndarray, y_pred: np.ndarray) -> tuple:\n",
    "    accuracy = accuracy_score(y_pred, y_true)\n",
    "    try:\n",
    "        auc = roc_auc_score(y_pred, y_true)\n",
    "    except:\n",
    "        auc = 0\n",
    "    precision, recall, f_score, _ = precision_recall_fscore_support(y_pred, y_true)\n",
    "\n",
    "    return accuracy, auc, precision, recall, f_score\n",
    "\n",
    "\n",
    "def print_scores(accuracy: float, auc: float, precision: np.ndarray, recall: np.ndarray, f_score: np.ndarray) -> None:\n",
    "    print(f\"Accuracy  : {accuracy:.5f}\")\n",
    "    print(f\"ROC-AUC   : {auc:.5f}\")\n",
    "    print(f\"Precision : {precision}\")\n",
    "    print(f\"Recall    : {recall}\")\n",
    "    print(f\"F-Score   : {f_score}\")"
   ]
  },
  {
   "cell_type": "markdown",
   "id": "efa8e648",
   "metadata": {
    "papermill": {
     "duration": 0.012504,
     "end_time": "2022-07-04T07:52:25.289500",
     "exception": false,
     "start_time": "2022-07-04T07:52:25.276996",
     "status": "completed"
    },
    "tags": []
   },
   "source": [
    "### **Configuration**"
   ]
  },
  {
   "cell_type": "code",
   "execution_count": 3,
   "id": "df52e798",
   "metadata": {
    "execution": {
     "iopub.execute_input": "2022-07-04T07:52:25.316467Z",
     "iopub.status.busy": "2022-07-04T07:52:25.316243Z",
     "iopub.status.idle": "2022-07-04T07:52:25.385087Z",
     "shell.execute_reply": "2022-07-04T07:52:25.384285Z"
    },
    "papermill": {
     "duration": 0.084335,
     "end_time": "2022-07-04T07:52:25.386805",
     "exception": false,
     "start_time": "2022-07-04T07:52:25.302470",
     "status": "completed"
    },
    "tags": []
   },
   "outputs": [],
   "source": [
    "class CFG(object):\n",
    "    def __init__(self, \n",
    "                 seed: int = 42,\n",
    "                 n_splits: int = 5,\n",
    "                 batch_size: int = 16,\n",
    "                 epochs: int = 25,\n",
    "                 early_stopping: int = 5,\n",
    "                 lr: float = 1e-4,\n",
    "                 wd: float = 0.0,\n",
    "                 max_lr: float = 1e-3,\n",
    "                 pct_start: float = 0.2,\n",
    "                 steps_per_epoch: int = 100,\n",
    "                 div_factor: int = 1e3, \n",
    "                 final_div_factor: float = 1e3,\n",
    "                 ):\n",
    "        \n",
    "        self.seed = seed\n",
    "        self.n_splits = n_splits\n",
    "        self.batch_size = batch_size\n",
    "        self.epochs = epochs\n",
    "        self.early_stopping = early_stopping\n",
    "        self.lr = lr\n",
    "        self.wd = wd\n",
    "        self.max_lr = max_lr\n",
    "        self.pct_start = pct_start\n",
    "        self.steps_per_epoch = steps_per_epoch\n",
    "        self.div_factor = div_factor\n",
    "        self.final_div_factor = final_div_factor\n",
    "        self.device = torch.device(\"cuda\" if torch.cuda.is_available() else \"cpu\")\n",
    "        self.transform = transforms.Compose([transforms.ToTensor(),\n",
    "                                transforms.Normalize([0.50122, 0.50962, 0.51243],\n",
    "                                                     [0.25932, 0.25939, 0.26068]),\n",
    "                                ])\n",
    "        self.save_path = \"saves\"\n",
    "        if not os.path.exists(self.save_path): os.makedirs(self.save_path)\n",
    "    \n",
    "cfg = CFG(seed=SEED)"
   ]
  },
  {
   "cell_type": "markdown",
   "id": "525b487c",
   "metadata": {
    "papermill": {
     "duration": 0.012518,
     "end_time": "2022-07-04T07:52:25.412510",
     "exception": false,
     "start_time": "2022-07-04T07:52:25.399992",
     "status": "completed"
    },
    "tags": []
   },
   "source": [
    "### **Dataset Template**"
   ]
  },
  {
   "cell_type": "code",
   "execution_count": 4,
   "id": "8fa57c19",
   "metadata": {
    "execution": {
     "iopub.execute_input": "2022-07-04T07:52:25.439869Z",
     "iopub.status.busy": "2022-07-04T07:52:25.439623Z",
     "iopub.status.idle": "2022-07-04T07:52:25.445519Z",
     "shell.execute_reply": "2022-07-04T07:52:25.444853Z"
    },
    "papermill": {
     "duration": 0.021119,
     "end_time": "2022-07-04T07:52:25.447141",
     "exception": false,
     "start_time": "2022-07-04T07:52:25.426022",
     "status": "completed"
    },
    "tags": []
   },
   "outputs": [],
   "source": [
    "class DS(Dataset):\n",
    "    def __init__(self, images: np.ndarray, labels: np.ndarray = None, transform=None):\n",
    "        self.images = images\n",
    "        self.labels = labels\n",
    "        self.transform = transform\n",
    "    \n",
    "    def __len__(self):\n",
    "        return self.images.shape[0]\n",
    "    \n",
    "    def __getitem__(self, idx):\n",
    "        if self.labels is not None:\n",
    "            return self.transform(self.images[idx]), torch.FloatTensor(self.labels[idx])\n",
    "        else:\n",
    "            return self.transform(self.images[idx])"
   ]
  },
  {
   "cell_type": "markdown",
   "id": "83d6c071",
   "metadata": {
    "papermill": {
     "duration": 0.014404,
     "end_time": "2022-07-04T07:52:25.474216",
     "exception": false,
     "start_time": "2022-07-04T07:52:25.459812",
     "status": "completed"
    },
    "tags": []
   },
   "source": [
    "### **Model**"
   ]
  },
  {
   "cell_type": "code",
   "execution_count": 5,
   "id": "fd949770",
   "metadata": {
    "execution": {
     "iopub.execute_input": "2022-07-04T07:52:25.500731Z",
     "iopub.status.busy": "2022-07-04T07:52:25.500524Z",
     "iopub.status.idle": "2022-07-04T07:52:25.505559Z",
     "shell.execute_reply": "2022-07-04T07:52:25.504720Z"
    },
    "papermill": {
     "duration": 0.020372,
     "end_time": "2022-07-04T07:52:25.507191",
     "exception": false,
     "start_time": "2022-07-04T07:52:25.486819",
     "status": "completed"
    },
    "tags": []
   },
   "outputs": [],
   "source": [
    "class Model(nn.Module):\n",
    "    def __init__(self):\n",
    "        super(Model, self).__init__()\n",
    "\n",
    "        self.model = models.densenet169(pretrained=True, progress=True)\n",
    "        self.model.classifier = nn.Linear(in_features=self.model.classifier.in_features, out_features=1)\n",
    "\n",
    "    def forward(self, x):\n",
    "        return self.model(x)"
   ]
  },
  {
   "cell_type": "markdown",
   "id": "56f16e9f",
   "metadata": {
    "papermill": {
     "duration": 0.012258,
     "end_time": "2022-07-04T07:52:25.532967",
     "exception": false,
     "start_time": "2022-07-04T07:52:25.520709",
     "status": "completed"
    },
    "tags": []
   },
   "source": [
    "### Fit and Predict Helper"
   ]
  },
  {
   "cell_type": "code",
   "execution_count": 6,
   "id": "8031dc68",
   "metadata": {
    "execution": {
     "iopub.execute_input": "2022-07-04T07:52:25.560091Z",
     "iopub.status.busy": "2022-07-04T07:52:25.559823Z",
     "iopub.status.idle": "2022-07-04T07:52:25.586468Z",
     "shell.execute_reply": "2022-07-04T07:52:25.585660Z"
    },
    "papermill": {
     "duration": 0.04257,
     "end_time": "2022-07-04T07:52:25.588135",
     "exception": false,
     "start_time": "2022-07-04T07:52:25.545565",
     "status": "completed"
    },
    "tags": []
   },
   "outputs": [],
   "source": [
    "def fit(model=None, \n",
    "        optimizer=None,\n",
    "        scheduler_rlrop=None,\n",
    "        scheduler_oclr=None, \n",
    "        epochs=None, \n",
    "        early_stopping_patience=None, \n",
    "        dataloaders=None, \n",
    "        fold=None, \n",
    "        save_path=None, \n",
    "        device=None,\n",
    "        verbose=False) -> tuple:\n",
    "    \n",
    "    def get_accuracy(y_pred, y_true):\n",
    "        y_pred = torch.sigmoid(y_pred)\n",
    "        \n",
    "        y_pred[y_pred > 0.5] = 1\n",
    "        y_pred[y_pred <= 0.5] = 0\n",
    "        \n",
    "        return torch.count_nonzero(y_pred == y_true).item() / len(y_pred)\n",
    "    \n",
    "    if verbose:\n",
    "        breaker()\n",
    "        if fold: print(f\"Training Fold {fold}...\")\n",
    "        else: print(\"Training ...\")\n",
    "        breaker()\n",
    "        \n",
    "    bestLoss, bestAccs = {\"train\" : np.inf, \"valid\" : np.inf}, {\"train\" : 0.0, \"valid\" : 0.0}\n",
    "    Losses, LRs, Accuracies = [], [], []\n",
    "    if fold: name = f\"state_fold_{fold}.pt\"\n",
    "    else: name = \"state.pt\"\n",
    "\n",
    "    start_time = time()\n",
    "    for e in range(epochs):\n",
    "        e_st = time()\n",
    "        epochLoss, epochAccs = {\"train\" : 0.0, \"valid\" : 0.0}, {\"train\" : 0.0, \"valid\" : 0.0}\n",
    "\n",
    "        for phase in [\"train\", \"valid\"]:\n",
    "            if phase == \"train\":\n",
    "                model.train()\n",
    "            else:\n",
    "                model.eval()\n",
    "            \n",
    "            lossPerPass, accsPerPass = [], []\n",
    "\n",
    "            for X, y in dataloaders[phase]:\n",
    "                X, y = X.to(device), y.to(device)\n",
    "\n",
    "                optimizer.zero_grad()\n",
    "                with torch.set_grad_enabled(phase == \"train\"):\n",
    "                    output = model(X)\n",
    "                    loss = torch.nn.BCEWithLogitsLoss()(output, y)\n",
    "                    if phase == \"train\":\n",
    "                        loss.backward()\n",
    "                        optimizer.step()\n",
    "                        if scheduler_oclr: scheduler_oclr.step()\n",
    "                lossPerPass.append(loss.item())\n",
    "                accsPerPass.append(get_accuracy(output, y))\n",
    "            epochLoss[phase] = np.mean(np.array(lossPerPass))\n",
    "            epochAccs[phase] = np.mean(np.array(accsPerPass))\n",
    "        if scheduler_oclr: LRs.append(scheduler_oclr.get_last_lr())\n",
    "        Losses.append(epochLoss)\n",
    "        Accuracies.append(epochAccs)\n",
    "        \n",
    "        if scheduler_oclr:\n",
    "            save_dict = {\"model_state_dict\"     : model.state_dict(),\n",
    "                         \"optim_state_dict\"     : optimizer.state_dict(),\n",
    "                         \"scheduler_state_dict\" : scheduler_oclr.state_dict()}\n",
    "        \n",
    "        elif scheduler_rlrop:\n",
    "            save_dict = {\"model_state_dict\"     : model.state_dict(),\n",
    "                         \"optim_state_dict\"     : optimizer.state_dict(),\n",
    "                         \"scheduler_state_dict\" : scheduler_rlrop.state_dict()}\n",
    "        \n",
    "        else:\n",
    "            save_dict = {\"model_state_dict\"     : model.state_dict(),\n",
    "                         \"optim_state_dict\"     : optimizer.state_dict()}\n",
    "        \n",
    "        if early_stopping_patience:\n",
    "            if epochLoss[\"valid\"] < bestLoss[\"valid\"]:\n",
    "                bestLoss = epochLoss\n",
    "                BLE = e + 1\n",
    "                torch.save(save_dict, os.path.join(save_path, name))\n",
    "                early_stopping_step = 0\n",
    "            else:\n",
    "                early_stopping_step += 1\n",
    "                if early_stopping_step > early_stopping_patience:\n",
    "                    print(\"\\nEarly Stopping at Epoch {}\".format(e + 1))\n",
    "                    break\n",
    "        \n",
    "        if epochLoss[\"valid\"] < bestLoss[\"valid\"]:\n",
    "            bestLoss = epochLoss\n",
    "            BLE = e + 1\n",
    "            torch.save(save_dict, os.path.join(save_path, name))\n",
    "        \n",
    "        if epochAccs[\"valid\"] > bestAccs[\"valid\"]:\n",
    "            bestAccs = epochAccs\n",
    "            BAE = e + 1            \n",
    "            # torch.save(save_dict, os.path.join(save_path, name))\n",
    "\n",
    "        \n",
    "        if scheduler_rlrop: scheduler_rlrop.step(epochLoss[\"valid\"])\n",
    "        \n",
    "        if verbose:\n",
    "            print(\"Epoch: {} | Train Loss: {:.5f} | Valid Loss: {:.5f} | Train Accs: {:.5f} | Valid Accs: {:.5f} | Time: {:.2f} seconds\".format(e+1, \n",
    "                                                                       epochLoss[\"train\"], epochLoss[\"valid\"], \n",
    "                                                                       epochAccs[\"train\"], epochAccs[\"valid\"], \n",
    "                                                                       time()-e_st))\n",
    "\n",
    "    del model, X, y\n",
    "    torch.cuda.empty_cache()\n",
    "    \n",
    "    if verbose:                                           \n",
    "        breaker()\n",
    "        print(f\"Best Validation Loss at Epoch {BLE}\")\n",
    "        breaker()\n",
    "        print(f\"Best Validation Accs at Epoch {BAE}\")\n",
    "        breaker()\n",
    "        print(\"Time Taken [{} Epochs] : {:.2f} minutes\".format(len(Losses), (time()-start_time)/60))\n",
    "    \n",
    "    return Losses, Accuracies, LRs, BLE, BAE, name\n",
    "\n",
    "\n",
    "def predict(model=None, dataloader=None, path=None, device=None) -> np.ndarray:\n",
    "    model.load_state_dict(torch.load(path, map_location=device)[\"model_state_dict\"])\n",
    "    model.to(device)    \n",
    "    model.eval()\n",
    "    \n",
    "    y_pred = torch.zeros(1, 1).to(device)\n",
    "    \n",
    "    for X in dataloader:\n",
    "        X = X.to(device)\n",
    "        with torch.no_grad():\n",
    "            output = torch.sigmoid(model(X))\n",
    "        y_pred = torch.cat((y_pred, output.view(-1, 1)), dim=0)\n",
    "    \n",
    "    y_pred[y_pred > 0.5] = 1\n",
    "    y_pred[y_pred <= 0.5] = 0\n",
    "    \n",
    "    return y_pred[1:].detach().cpu().numpy()"
   ]
  },
  {
   "cell_type": "markdown",
   "id": "fc292e72",
   "metadata": {
    "papermill": {
     "duration": 0.012686,
     "end_time": "2022-07-04T07:52:25.613721",
     "exception": false,
     "start_time": "2022-07-04T07:52:25.601035",
     "status": "completed"
    },
    "tags": []
   },
   "source": [
    "### **Train**"
   ]
  },
  {
   "cell_type": "code",
   "execution_count": 7,
   "id": "3a5e9477",
   "metadata": {
    "execution": {
     "iopub.execute_input": "2022-07-04T07:52:25.640256Z",
     "iopub.status.busy": "2022-07-04T07:52:25.640016Z",
     "iopub.status.idle": "2022-07-04T07:52:37.569560Z",
     "shell.execute_reply": "2022-07-04T07:52:37.568815Z"
    },
    "papermill": {
     "duration": 11.945278,
     "end_time": "2022-07-04T07:52:37.571609",
     "exception": false,
     "start_time": "2022-07-04T07:52:25.626331",
     "status": "completed"
    },
    "tags": []
   },
   "outputs": [],
   "source": [
    "images = np.load(f\"../input/tbcxr-images/images_{SIZE}.npy\")\n",
    "labels = np.load(f\"../input/tbcxr-images/targets_{SIZE}.npy\")"
   ]
  },
  {
   "cell_type": "code",
   "execution_count": 8,
   "id": "8eba3d47",
   "metadata": {
    "execution": {
     "iopub.execute_input": "2022-07-04T07:52:37.599000Z",
     "iopub.status.busy": "2022-07-04T07:52:37.598264Z",
     "iopub.status.idle": "2022-07-04T09:54:28.081292Z",
     "shell.execute_reply": "2022-07-04T09:54:28.080463Z"
    },
    "papermill": {
     "duration": 7310.499318,
     "end_time": "2022-07-04T09:54:28.083960",
     "exception": false,
     "start_time": "2022-07-04T07:52:37.584642",
     "status": "completed"
    },
    "tags": []
   },
   "outputs": [
    {
     "name": "stderr",
     "output_type": "stream",
     "text": [
      "Downloading: \"https://download.pytorch.org/models/densenet169-b2777c0a.pth\" to /root/.cache/torch/hub/checkpoints/densenet169-b2777c0a.pth\n"
     ]
    },
    {
     "data": {
      "application/vnd.jupyter.widget-view+json": {
       "model_id": "86af41fec62d4a03aca4a37850060f0a",
       "version_major": 2,
       "version_minor": 0
      },
      "text/plain": [
       "  0%|          | 0.00/54.7M [00:00<?, ?B/s]"
      ]
     },
     "metadata": {},
     "output_type": "display_data"
    },
    {
     "name": "stdout",
     "output_type": "stream",
     "text": [
      "\n",
      "**************************************************\n",
      "\n",
      "Training Fold 1...\n",
      "\n",
      "**************************************************\n",
      "\n",
      "Epoch: 1 | Train Loss: 0.29521 | Valid Loss: 0.03640 | Train Accs: 0.85774 | Valid Accs: 0.99292 | Time: 92.40 seconds\n",
      "Epoch: 2 | Train Loss: 0.04676 | Valid Loss: 0.01382 | Train Accs: 0.98720 | Valid Accs: 0.99646 | Time: 85.90 seconds\n",
      "Epoch: 3 | Train Loss: 0.03950 | Valid Loss: 0.25514 | Train Accs: 0.98839 | Valid Accs: 0.91509 | Time: 85.19 seconds\n",
      "Epoch: 4 | Train Loss: 0.05176 | Valid Loss: 0.07219 | Train Accs: 0.98363 | Valid Accs: 0.99057 | Time: 85.40 seconds\n",
      "Epoch: 5 | Train Loss: 0.03583 | Valid Loss: 0.11406 | Train Accs: 0.98690 | Valid Accs: 0.96108 | Time: 84.31 seconds\n",
      "Epoch: 6 | Train Loss: 0.02945 | Valid Loss: 0.03960 | Train Accs: 0.99107 | Valid Accs: 0.98939 | Time: 85.14 seconds\n",
      "Epoch: 7 | Train Loss: 0.02379 | Valid Loss: 0.00920 | Train Accs: 0.99256 | Valid Accs: 0.99882 | Time: 86.01 seconds\n",
      "Epoch: 8 | Train Loss: 0.01262 | Valid Loss: 0.01104 | Train Accs: 0.99613 | Valid Accs: 0.99764 | Time: 85.60 seconds\n",
      "Epoch: 9 | Train Loss: 0.01110 | Valid Loss: 0.02685 | Train Accs: 0.99673 | Valid Accs: 0.99057 | Time: 85.03 seconds\n",
      "Epoch: 10 | Train Loss: 0.00784 | Valid Loss: 0.00593 | Train Accs: 0.99702 | Valid Accs: 0.99764 | Time: 85.26 seconds\n",
      "Epoch: 11 | Train Loss: 0.00679 | Valid Loss: 0.03349 | Train Accs: 0.99821 | Valid Accs: 0.99292 | Time: 85.14 seconds\n",
      "Epoch: 12 | Train Loss: 0.00794 | Valid Loss: 0.01104 | Train Accs: 0.99732 | Valid Accs: 0.99646 | Time: 85.53 seconds\n",
      "Epoch: 13 | Train Loss: 0.00710 | Valid Loss: 0.00439 | Train Accs: 0.99762 | Valid Accs: 0.99882 | Time: 86.07 seconds\n",
      "Epoch: 14 | Train Loss: 0.00705 | Valid Loss: 0.00373 | Train Accs: 0.99762 | Valid Accs: 0.99764 | Time: 85.14 seconds\n",
      "Epoch: 15 | Train Loss: 0.00390 | Valid Loss: 0.00624 | Train Accs: 0.99851 | Valid Accs: 0.99764 | Time: 84.45 seconds\n",
      "Epoch: 16 | Train Loss: 0.00092 | Valid Loss: 0.00296 | Train Accs: 1.00000 | Valid Accs: 0.99764 | Time: 84.62 seconds\n",
      "Epoch: 17 | Train Loss: 0.00056 | Valid Loss: 0.00349 | Train Accs: 1.00000 | Valid Accs: 0.99764 | Time: 85.28 seconds\n",
      "Epoch: 18 | Train Loss: 0.00033 | Valid Loss: 0.00434 | Train Accs: 1.00000 | Valid Accs: 0.99764 | Time: 85.58 seconds\n",
      "Epoch: 19 | Train Loss: 0.00049 | Valid Loss: 0.00328 | Train Accs: 1.00000 | Valid Accs: 0.99764 | Time: 84.91 seconds\n",
      "Epoch: 20 | Train Loss: 0.00059 | Valid Loss: 0.00486 | Train Accs: 1.00000 | Valid Accs: 0.99764 | Time: 84.36 seconds\n",
      "\n",
      "**************************************************\n",
      "\n",
      "Best Validation Loss at Epoch 16\n",
      "\n",
      "**************************************************\n",
      "\n",
      "Best Validation Accs at Epoch 7\n",
      "\n",
      "**************************************************\n",
      "\n",
      "Time Taken [20 Epochs] : 28.53 minutes\n",
      "\n",
      "**************************************************\n",
      "\n"
     ]
    },
    {
     "data": {
      "image/png": "[encoded data removed]",
      "text/plain": [
       "<Figure size 576x432 with 2 Axes>"
      ]
     },
     "metadata": {
      "needs_background": "light"
     },
     "output_type": "display_data"
    },
    {
     "name": "stdout",
     "output_type": "stream",
     "text": [
      "\n",
      "**************************************************\n",
      "\n",
      "Training Fold 2...\n",
      "\n",
      "**************************************************\n",
      "\n",
      "Epoch: 1 | Train Loss: 0.29947 | Valid Loss: 0.01660 | Train Accs: 0.84673 | Valid Accs: 0.99882 | Time: 85.00 seconds\n",
      "Epoch: 2 | Train Loss: 0.03619 | Valid Loss: 0.00625 | Train Accs: 0.99167 | Valid Accs: 1.00000 | Time: 85.02 seconds\n",
      "Epoch: 3 | Train Loss: 0.06825 | Valid Loss: 0.28183 | Train Accs: 0.97857 | Valid Accs: 0.93632 | Time: 84.35 seconds\n",
      "Epoch: 4 | Train Loss: 0.05633 | Valid Loss: 0.33147 | Train Accs: 0.98304 | Valid Accs: 0.84198 | Time: 84.35 seconds\n",
      "Epoch: 5 | Train Loss: 0.02831 | Valid Loss: 0.00770 | Train Accs: 0.99137 | Valid Accs: 0.99764 | Time: 84.30 seconds\n",
      "Epoch: 6 | Train Loss: 0.05327 | Valid Loss: 0.01677 | Train Accs: 0.98333 | Valid Accs: 0.99528 | Time: 84.71 seconds\n",
      "Epoch: 7 | Train Loss: 0.03166 | Valid Loss: 0.06200 | Train Accs: 0.99018 | Valid Accs: 0.97642 | Time: 84.58 seconds\n",
      "\n",
      "Early Stopping at Epoch 8\n",
      "\n",
      "**************************************************\n",
      "\n",
      "Best Validation Loss at Epoch 2\n",
      "\n",
      "**************************************************\n",
      "\n",
      "Best Validation Accs at Epoch 2\n",
      "\n",
      "**************************************************\n",
      "\n",
      "Time Taken [8 Epochs] : 11.28 minutes\n",
      "\n",
      "**************************************************\n",
      "\n"
     ]
    },
    {
     "data": {
      "image/png": "[encoded data removed]",
      "text/plain": [
       "<Figure size 576x432 with 2 Axes>"
      ]
     },
     "metadata": {
      "needs_background": "light"
     },
     "output_type": "display_data"
    },
    {
     "name": "stdout",
     "output_type": "stream",
     "text": [
      "\n",
      "**************************************************\n",
      "\n",
      "Training Fold 3...\n",
      "\n",
      "**************************************************\n",
      "\n",
      "Epoch: 1 | Train Loss: 0.29760 | Valid Loss: 0.03544 | Train Accs: 0.85119 | Valid Accs: 0.99292 | Time: 85.08 seconds\n",
      "Epoch: 2 | Train Loss: 0.04228 | Valid Loss: 0.18689 | Train Accs: 0.99018 | Valid Accs: 0.93160 | Time: 84.32 seconds\n",
      "Epoch: 3 | Train Loss: 0.04138 | Valid Loss: 0.75945 | Train Accs: 0.98929 | Valid Accs: 0.90802 | Time: 84.21 seconds\n",
      "Epoch: 4 | Train Loss: 0.06653 | Valid Loss: 0.04869 | Train Accs: 0.97887 | Valid Accs: 0.99175 | Time: 84.35 seconds\n",
      "Epoch: 5 | Train Loss: 0.02827 | Valid Loss: 0.03282 | Train Accs: 0.99107 | Valid Accs: 0.99175 | Time: 85.00 seconds\n",
      "Epoch: 6 | Train Loss: 0.03383 | Valid Loss: 0.14793 | Train Accs: 0.99018 | Valid Accs: 0.93160 | Time: 84.55 seconds\n",
      "Epoch: 7 | Train Loss: 0.03590 | Valid Loss: 0.08603 | Train Accs: 0.98780 | Valid Accs: 0.98703 | Time: 84.39 seconds\n",
      "Epoch: 8 | Train Loss: 0.01869 | Valid Loss: 0.01556 | Train Accs: 0.99315 | Valid Accs: 0.99646 | Time: 84.97 seconds\n",
      "Epoch: 9 | Train Loss: 0.01147 | Valid Loss: 0.01831 | Train Accs: 0.99613 | Valid Accs: 0.99410 | Time: 84.10 seconds\n",
      "Epoch: 10 | Train Loss: 0.01322 | Valid Loss: 0.02675 | Train Accs: 0.99613 | Valid Accs: 0.99764 | Time: 84.30 seconds\n",
      "Epoch: 11 | Train Loss: 0.01670 | Valid Loss: 0.02008 | Train Accs: 0.99554 | Valid Accs: 0.99764 | Time: 84.48 seconds\n",
      "Epoch: 12 | Train Loss: 0.00514 | Valid Loss: 0.00666 | Train Accs: 0.99881 | Valid Accs: 0.99764 | Time: 84.78 seconds\n",
      "Epoch: 13 | Train Loss: 0.00464 | Valid Loss: 0.01954 | Train Accs: 0.99881 | Valid Accs: 0.99764 | Time: 84.33 seconds\n",
      "Epoch: 14 | Train Loss: 0.00154 | Valid Loss: 0.01358 | Train Accs: 1.00000 | Valid Accs: 0.99882 | Time: 84.13 seconds\n",
      "Epoch: 15 | Train Loss: 0.00096 | Valid Loss: 0.01573 | Train Accs: 0.99970 | Valid Accs: 0.99764 | Time: 84.47 seconds\n",
      "Epoch: 16 | Train Loss: 0.00147 | Valid Loss: 0.01646 | Train Accs: 0.99940 | Valid Accs: 0.99882 | Time: 84.35 seconds\n",
      "Epoch: 17 | Train Loss: 0.00104 | Valid Loss: 0.00976 | Train Accs: 0.99970 | Valid Accs: 0.99882 | Time: 84.36 seconds\n",
      "\n",
      "Early Stopping at Epoch 18\n",
      "\n",
      "**************************************************\n",
      "\n",
      "Best Validation Loss at Epoch 12\n",
      "\n",
      "**************************************************\n",
      "\n",
      "Best Validation Accs at Epoch 14\n",
      "\n",
      "**************************************************\n",
      "\n",
      "Time Taken [18 Epochs] : 25.35 minutes\n",
      "\n",
      "**************************************************\n",
      "\n"
     ]
    },
    {
     "data": {
      "image/png": "[encoded data removed]",
      "text/plain": [
       "<Figure size 576x432 with 2 Axes>"
      ]
     },
     "metadata": {
      "needs_background": "light"
     },
     "output_type": "display_data"
    },
    {
     "name": "stdout",
     "output_type": "stream",
     "text": [
      "\n",
      "**************************************************\n",
      "\n",
      "Training Fold 4...\n",
      "\n",
      "**************************************************\n",
      "\n",
      "Epoch: 1 | Train Loss: 0.29450 | Valid Loss: 0.03331 | Train Accs: 0.85446 | Valid Accs: 0.99292 | Time: 84.52 seconds\n",
      "Epoch: 2 | Train Loss: 0.04057 | Valid Loss: 0.02186 | Train Accs: 0.98869 | Valid Accs: 0.99764 | Time: 84.81 seconds\n",
      "Epoch: 3 | Train Loss: 0.04000 | Valid Loss: 0.24973 | Train Accs: 0.98899 | Valid Accs: 0.89741 | Time: 84.38 seconds\n",
      "Epoch: 4 | Train Loss: 0.09119 | Valid Loss: 0.08163 | Train Accs: 0.97440 | Valid Accs: 0.96226 | Time: 84.32 seconds\n",
      "Epoch: 5 | Train Loss: 0.04017 | Valid Loss: 0.20882 | Train Accs: 0.98899 | Valid Accs: 0.90566 | Time: 84.27 seconds\n",
      "Epoch: 6 | Train Loss: 0.02999 | Valid Loss: 0.00825 | Train Accs: 0.99256 | Valid Accs: 0.99882 | Time: 84.80 seconds\n",
      "Epoch: 7 | Train Loss: 0.02207 | Valid Loss: 0.18862 | Train Accs: 0.99286 | Valid Accs: 0.96698 | Time: 84.30 seconds\n",
      "Epoch: 8 | Train Loss: 0.02006 | Valid Loss: 0.01823 | Train Accs: 0.99435 | Valid Accs: 0.99528 | Time: 84.35 seconds\n",
      "Epoch: 9 | Train Loss: 0.00913 | Valid Loss: 0.00593 | Train Accs: 0.99762 | Valid Accs: 0.99882 | Time: 84.75 seconds\n",
      "Epoch: 10 | Train Loss: 0.01033 | Valid Loss: 0.01786 | Train Accs: 0.99732 | Valid Accs: 0.99646 | Time: 84.44 seconds\n",
      "Epoch: 11 | Train Loss: 0.02345 | Valid Loss: 0.09224 | Train Accs: 0.99226 | Valid Accs: 0.96226 | Time: 84.53 seconds\n",
      "Epoch: 12 | Train Loss: 0.02367 | Valid Loss: 0.00645 | Train Accs: 0.99107 | Valid Accs: 0.99882 | Time: 84.31 seconds\n",
      "Epoch: 13 | Train Loss: 0.00934 | Valid Loss: 0.00309 | Train Accs: 0.99673 | Valid Accs: 1.00000 | Time: 84.78 seconds\n",
      "Epoch: 14 | Train Loss: 0.00624 | Valid Loss: 0.00187 | Train Accs: 0.99762 | Valid Accs: 1.00000 | Time: 84.80 seconds\n",
      "Epoch: 15 | Train Loss: 0.00166 | Valid Loss: 0.00122 | Train Accs: 0.99970 | Valid Accs: 1.00000 | Time: 85.23 seconds\n",
      "Epoch: 16 | Train Loss: 0.00118 | Valid Loss: 0.00076 | Train Accs: 1.00000 | Valid Accs: 1.00000 | Time: 84.80 seconds\n",
      "Epoch: 17 | Train Loss: 0.00094 | Valid Loss: 0.00076 | Train Accs: 1.00000 | Valid Accs: 1.00000 | Time: 85.47 seconds\n",
      "Epoch: 18 | Train Loss: 0.00111 | Valid Loss: 0.00063 | Train Accs: 0.99970 | Valid Accs: 1.00000 | Time: 85.36 seconds\n",
      "Epoch: 19 | Train Loss: 0.00082 | Valid Loss: 0.00069 | Train Accs: 1.00000 | Valid Accs: 1.00000 | Time: 85.09 seconds\n",
      "Epoch: 20 | Train Loss: 0.00143 | Valid Loss: 0.00068 | Train Accs: 0.99970 | Valid Accs: 1.00000 | Time: 84.80 seconds\n",
      "\n",
      "**************************************************\n",
      "\n",
      "Best Validation Loss at Epoch 18\n",
      "\n",
      "**************************************************\n",
      "\n",
      "Best Validation Accs at Epoch 13\n",
      "\n",
      "**************************************************\n",
      "\n",
      "Time Taken [20 Epochs] : 28.24 minutes\n",
      "\n",
      "**************************************************\n",
      "\n"
     ]
    },
    {
     "data": {
      "image/png": "[encoded data removed]",
      "text/plain": [
       "<Figure size 576x432 with 2 Axes>"
      ]
     },
     "metadata": {
      "needs_background": "light"
     },
     "output_type": "display_data"
    },
    {
     "name": "stdout",
     "output_type": "stream",
     "text": [
      "\n",
      "**************************************************\n",
      "\n",
      "Training Fold 5...\n",
      "\n",
      "**************************************************\n",
      "\n",
      "Epoch: 1 | Train Loss: 0.29863 | Valid Loss: 0.02987 | Train Accs: 0.85000 | Valid Accs: 0.99528 | Time: 84.69 seconds\n",
      "Epoch: 2 | Train Loss: 0.04520 | Valid Loss: 0.05989 | Train Accs: 0.98899 | Valid Accs: 0.98113 | Time: 84.38 seconds\n",
      "Epoch: 3 | Train Loss: 0.07053 | Valid Loss: 0.30265 | Train Accs: 0.97768 | Valid Accs: 0.88325 | Time: 84.67 seconds\n",
      "Epoch: 4 | Train Loss: 0.08761 | Valid Loss: 0.08511 | Train Accs: 0.97679 | Valid Accs: 0.96934 | Time: 84.43 seconds\n",
      "Epoch: 5 | Train Loss: 0.04105 | Valid Loss: 0.01938 | Train Accs: 0.98601 | Valid Accs: 0.99528 | Time: 84.82 seconds\n",
      "Epoch: 6 | Train Loss: 0.04318 | Valid Loss: 0.04625 | Train Accs: 0.98601 | Valid Accs: 0.98231 | Time: 84.29 seconds\n",
      "Epoch: 7 | Train Loss: 0.02873 | Valid Loss: 0.03979 | Train Accs: 0.99048 | Valid Accs: 0.98231 | Time: 84.24 seconds\n",
      "Epoch: 8 | Train Loss: 0.01732 | Valid Loss: 0.01016 | Train Accs: 0.99405 | Valid Accs: 0.99646 | Time: 84.88 seconds\n",
      "Epoch: 9 | Train Loss: 0.01340 | Valid Loss: 0.00685 | Train Accs: 0.99702 | Valid Accs: 0.99882 | Time: 84.82 seconds\n",
      "Epoch: 10 | Train Loss: 0.00881 | Valid Loss: 0.11021 | Train Accs: 0.99732 | Valid Accs: 0.97406 | Time: 84.33 seconds\n",
      "Epoch: 11 | Train Loss: 0.02721 | Valid Loss: 0.02340 | Train Accs: 0.99107 | Valid Accs: 0.98939 | Time: 84.51 seconds\n",
      "Epoch: 12 | Train Loss: 0.01830 | Valid Loss: 0.00636 | Train Accs: 0.99435 | Valid Accs: 0.99882 | Time: 84.90 seconds\n",
      "Epoch: 13 | Train Loss: 0.00690 | Valid Loss: 0.01080 | Train Accs: 0.99792 | Valid Accs: 0.99646 | Time: 84.36 seconds\n",
      "Epoch: 14 | Train Loss: 0.00450 | Valid Loss: 0.00320 | Train Accs: 0.99881 | Valid Accs: 0.99882 | Time: 84.49 seconds\n",
      "Epoch: 15 | Train Loss: 0.00154 | Valid Loss: 0.00546 | Train Accs: 0.99970 | Valid Accs: 0.99882 | Time: 84.27 seconds\n",
      "Epoch: 16 | Train Loss: 0.00132 | Valid Loss: 0.00603 | Train Accs: 0.99970 | Valid Accs: 0.99646 | Time: 84.22 seconds\n",
      "Epoch: 17 | Train Loss: 0.00083 | Valid Loss: 0.00462 | Train Accs: 1.00000 | Valid Accs: 0.99764 | Time: 84.14 seconds\n",
      "Epoch: 18 | Train Loss: 0.00108 | Valid Loss: 0.00440 | Train Accs: 0.99970 | Valid Accs: 0.99764 | Time: 84.48 seconds\n",
      "Epoch: 19 | Train Loss: 0.00101 | Valid Loss: 0.00450 | Train Accs: 1.00000 | Valid Accs: 0.99764 | Time: 84.27 seconds\n",
      "\n",
      "Early Stopping at Epoch 20\n",
      "\n",
      "**************************************************\n",
      "\n",
      "Best Validation Loss at Epoch 14\n",
      "\n",
      "**************************************************\n",
      "\n",
      "Best Validation Accs at Epoch 9\n",
      "\n",
      "**************************************************\n",
      "\n",
      "Time Taken [20 Epochs] : 28.16 minutes\n",
      "\n",
      "**************************************************\n",
      "\n"
     ]
    },
    {
     "data": {
      "image/png": "[encoded data removed]",
      "text/plain": [
       "<Figure size 576x432 with 2 Axes>"
      ]
     },
     "metadata": {
      "needs_background": "light"
     },
     "output_type": "display_data"
    }
   ],
   "source": [
    "fold = 1\n",
    "BLEs, BAEs = [], []\n",
    "\n",
    "for tr_idx, va_idx in KFold(n_splits=cfg.n_splits, random_state=cfg.seed, shuffle=True).split(images):\n",
    "    tr_images, va_images, tr_labels, va_labels = images[tr_idx], images[va_idx], labels[tr_idx], labels[va_idx]\n",
    "\n",
    "    tr_data_setup = DS(tr_images, tr_labels.reshape(-1, 1), cfg.transform)\n",
    "    va_data_setup = DS(va_images, va_labels.reshape(-1, 1), cfg.transform)\n",
    "\n",
    "    dataloaders = {\n",
    "        \"train\" : DL(tr_data_setup, batch_size=cfg.batch_size, shuffle=True, generator=torch.manual_seed(cfg.seed)),\n",
    "        \"valid\" : DL(va_data_setup, batch_size=cfg.batch_size, shuffle=False),\n",
    "    }\n",
    "\n",
    "    cfg = CFG(epochs=20, lr=1e-3, wd=0.0, batch_size=16, steps_per_epoch=len(dataloaders[\"train\"]))\n",
    "\n",
    "    torch.manual_seed(cfg.seed)\n",
    "    model = Model().to(cfg.device)\n",
    "    \n",
    "    optimizer = optim.Adam([p for p in model.parameters() if p.requires_grad], lr=cfg.lr, weight_decay=cfg.wd)\n",
    "    # optimizer = optim.AdamW([p for p in model.parameters() if p.requires_grad], lr=cfg.lr, weight_decay=cfg.wd)\n",
    "\n",
    "    scheduler_oclr = optim.lr_scheduler.OneCycleLR(optimizer=optimizer, \n",
    "                                                   max_lr=cfg.max_lr, \n",
    "                                                   epochs=cfg.epochs, \n",
    "                                                   steps_per_epoch=cfg.steps_per_epoch,\n",
    "                                                   pct_start=cfg.pct_start, \n",
    "                                                   div_factor=cfg.div_factor, \n",
    "                                                   final_div_factor=cfg.final_div_factor)\n",
    "#     scheduler_rlrop = optim.lr_scheduler.ReduceLROnPlateau(optimizer=optimizer,\n",
    "#                                                            patience=cfg.patience,\n",
    "#                                                            eps=cfg.eps,\n",
    "#                                                            verbose=True)\n",
    "    scheduler_rlrop = None\n",
    "#     scheduler_oclr = None\n",
    "\n",
    "    L, A, LRs, BLE, BAE, name = fit(model=model, \n",
    "                                    optimizer=optimizer, \n",
    "                                    scheduler_rlrop=scheduler_rlrop,\n",
    "                                    scheduler_oclr=scheduler_oclr, \n",
    "                                    epochs=cfg.epochs, \n",
    "                                    early_stopping_patience=cfg.early_stopping, \n",
    "                                    dataloaders=dataloaders, \n",
    "                                    device=cfg.device,\n",
    "                                    save_path=cfg.save_path,\n",
    "                                    fold = fold,\n",
    "                                    verbose=True)\n",
    "\n",
    "    breaker()\n",
    "    show_graphs(L, A)\n",
    "    \n",
    "    BLEs.append(BLE)\n",
    "    BAEs.append(BAE)\n",
    "\n",
    "    fold += 1\n",
    "    \n",
    "#     del tr_images, va_images, \\\n",
    "#         tr_labels, va_labels, \\\n",
    "#         tr_data_setup, va_data_setup, \\\n",
    "#         dataloaders, model\n",
    "    \n",
    "#     gc.collect()\n",
    "#     torch.cuda.empty_cache()\n",
    "    \n",
    "#     sleep(30)"
   ]
  },
  {
   "cell_type": "markdown",
   "id": "f6d3e719",
   "metadata": {
    "papermill": {
     "duration": 0.046574,
     "end_time": "2022-07-04T09:54:28.177803",
     "exception": false,
     "start_time": "2022-07-04T09:54:28.131229",
     "status": "completed"
    },
    "tags": []
   },
   "source": [
    "### **Predictions**"
   ]
  },
  {
   "cell_type": "code",
   "execution_count": 9,
   "id": "fae3e819",
   "metadata": {
    "execution": {
     "iopub.execute_input": "2022-07-04T09:54:28.273017Z",
     "iopub.status.busy": "2022-07-04T09:54:28.272795Z",
     "iopub.status.idle": "2022-07-04T09:54:28.279760Z",
     "shell.execute_reply": "2022-07-04T09:54:28.278726Z"
    },
    "papermill": {
     "duration": 0.057387,
     "end_time": "2022-07-04T09:54:28.281474",
     "exception": false,
     "start_time": "2022-07-04T09:54:28.224087",
     "status": "completed"
    },
    "tags": []
   },
   "outputs": [
    {
     "name": "stdout",
     "output_type": "stream",
     "text": [
      "\n",
      "**************************************************\n",
      "\n",
      "Best Fold : 2\n",
      "\n",
      "**************************************************\n",
      "\n"
     ]
    }
   ],
   "source": [
    "# test_images = np.load(f\"../input/chest-x-rays-images/test_images_{SIZE}.npy\")\n",
    "# test_labels = np.load(f\"../input/chest-x-rays-images/test_targets_{SIZE}.npy\")\n",
    "\n",
    "# ts_data_setup = DS(test_images, None, cfg.transform)\n",
    "# ts_data = DL(ts_data_setup, batch_size=cfg.batch_size, shuffle=False)\n",
    "\n",
    "best_fold = BLEs.index(min(BLEs)) + 1\n",
    "# model_path = f\"saves/state_fold_{best_fold}.pt\"\n",
    "# y_pred = predict(model=Model().to(cfg.device), dataloader=ts_data, path=model_path, device=cfg.device)\n",
    "\n",
    "# accuracy, auc, precision, recall, f_score = get_scores(test_labels, y_pred)\n",
    "\n",
    "breaker()\n",
    "print(f\"Best Fold : {best_fold}\")\n",
    "breaker()\n",
    "# print_scores(accuracy, auc, precision, recall, f_score)\n",
    "# breaker()\n",
    "# print(classification_report(test_labels, y_pred))\n",
    "# breaker()\n",
    "# print(confusion_matrix(test_labels, y_pred))\n",
    "# breaker()"
   ]
  }
 ],
 "metadata": {
  "kernelspec": {
   "display_name": "Python 3",
   "language": "python",
   "name": "python3"
  },
  "language_info": {
   "codemirror_mode": {
    "name": "ipython",
    "version": 3
   },
   "file_extension": ".py",
   "mimetype": "text/x-python",
   "name": "python",
   "nbconvert_exporter": "python",
   "pygments_lexer": "ipython3",
   "version": "3.7.12"
  },
  "papermill": {
   "default_parameters": {},
   "duration": 7336.258651,
   "end_time": "2022-07-04T09:54:30.703898",
   "environment_variables": {},
   "exception": null,
   "input_path": "__notebook__.ipynb",
   "output_path": "__notebook__.ipynb",
   "parameters": {},
   "start_time": "2022-07-04T07:52:14.445247",
   "version": "2.3.4"
  },
  "widgets": {
   "application/vnd.jupyter.widget-state+json": {
    "state": {
     "1c987a16114b4e019afaf7ef5952ee79": {
      "model_module": "@jupyter-widgets/controls",
      "model_module_version": "1.5.0",
      "model_name": "HTMLModel",
      "state": {
       "_dom_classes": [],
       "_model_module": "@jupyter-widgets/controls",
       "_model_module_version": "1.5.0",
       "_model_name": "HTMLModel",
       "_view_count": null,
       "_view_module": "@jupyter-widgets/controls",
       "_view_module_version": "1.5.0",
       "_view_name": "HTMLView",
       "description": "",
       "description_tooltip": null,
       "layout": "IPY_MODEL_959812415fe54a679b5e6714228a0a85",
       "placeholder": "​",
       "style": "IPY_MODEL_44b5a550fc2d477d87e9699fa92a16aa",
       "value": " 54.7M/54.7M [00:03&lt;00:00, 23.8MB/s]"
      }
     },
     "331b0e9df46b419aab2dd4c7bd2dbb56": {
      "model_module": "@jupyter-widgets/controls",
      "model_module_version": "1.5.0",
      "model_name": "DescriptionStyleModel",
      "state": {
       "_model_module": "@jupyter-widgets/controls",
       "_model_module_version": "1.5.0",
       "_model_name": "DescriptionStyleModel",
       "_view_count": null,
       "_view_module": "@jupyter-widgets/base",
       "_view_module_version": "1.2.0",
       "_view_name": "StyleView",
       "description_width": ""
      }
     },
     "3b7e5aec75f04223b45e8b39d45b8344": {
      "model_module": "@jupyter-widgets/controls",
      "model_module_version": "1.5.0",
      "model_name": "FloatProgressModel",
      "state": {
       "_dom_classes": [],
       "_model_module": "@jupyter-widgets/controls",
       "_model_module_version": "1.5.0",
       "_model_name": "FloatProgressModel",
       "_view_count": null,
       "_view_module": "@jupyter-widgets/controls",
       "_view_module_version": "1.5.0",
       "_view_name": "ProgressView",
       "bar_style": "success",
       "description": "",
       "description_tooltip": null,
       "layout": "IPY_MODEL_c927c774870841f99c0aa3c06026486c",
       "max": 57365526.0,
       "min": 0.0,
       "orientation": "horizontal",
       "style": "IPY_MODEL_a0dfb404d8b54a1781be27e75442a17d",
       "value": 57365526.0
      }
     },
     "44b5a550fc2d477d87e9699fa92a16aa": {
      "model_module": "@jupyter-widgets/controls",
      "model_module_version": "1.5.0",
      "model_name": "DescriptionStyleModel",
      "state": {
       "_model_module": "@jupyter-widgets/controls",
       "_model_module_version": "1.5.0",
       "_model_name": "DescriptionStyleModel",
       "_view_count": null,
       "_view_module": "@jupyter-widgets/base",
       "_view_module_version": "1.2.0",
       "_view_name": "StyleView",
       "description_width": ""
      }
     },
     "86af41fec62d4a03aca4a37850060f0a": {
      "model_module": "@jupyter-widgets/controls",
      "model_module_version": "1.5.0",
      "model_name": "HBoxModel",
      "state": {
       "_dom_classes": [],
       "_model_module": "@jupyter-widgets/controls",
       "_model_module_version": "1.5.0",
       "_model_name": "HBoxModel",
       "_view_count": null,
       "_view_module": "@jupyter-widgets/controls",
       "_view_module_version": "1.5.0",
       "_view_name": "HBoxView",
       "box_style": "",
       "children": [
        "IPY_MODEL_c80890f05d964b07b07a1d7a8ae05270",
        "IPY_MODEL_3b7e5aec75f04223b45e8b39d45b8344",
        "IPY_MODEL_1c987a16114b4e019afaf7ef5952ee79"
       ],
       "layout": "IPY_MODEL_d1241802e3d34395a769ac91a8de1761"
      }
     },
     "959812415fe54a679b5e6714228a0a85": {
      "model_module": "@jupyter-widgets/base",
      "model_module_version": "1.2.0",
      "model_name": "LayoutModel",
      "state": {
       "_model_module": "@jupyter-widgets/base",
       "_model_module_version": "1.2.0",
       "_model_name": "LayoutModel",
       "_view_count": null,
       "_view_module": "@jupyter-widgets/base",
       "_view_module_version": "1.2.0",
       "_view_name": "LayoutView",
       "align_content": null,
       "align_items": null,
       "align_self": null,
       "border": null,
       "bottom": null,
       "display": null,
       "flex": null,
       "flex_flow": null,
       "grid_area": null,
       "grid_auto_columns": null,
       "grid_auto_flow": null,
       "grid_auto_rows": null,
       "grid_column": null,
       "grid_gap": null,
       "grid_row": null,
       "grid_template_areas": null,
       "grid_template_columns": null,
       "grid_template_rows": null,
       "height": null,
       "justify_content": null,
       "justify_items": null,
       "left": null,
       "margin": null,
       "max_height": null,
       "max_width": null,
       "min_height": null,
       "min_width": null,
       "object_fit": null,
       "object_position": null,
       "order": null,
       "overflow": null,
       "overflow_x": null,
       "overflow_y": null,
       "padding": null,
       "right": null,
       "top": null,
       "visibility": null,
       "width": null
      }
     },
     "a0dfb404d8b54a1781be27e75442a17d": {
      "model_module": "@jupyter-widgets/controls",
      "model_module_version": "1.5.0",
      "model_name": "ProgressStyleModel",
      "state": {
       "_model_module": "@jupyter-widgets/controls",
       "_model_module_version": "1.5.0",
       "_model_name": "ProgressStyleModel",
       "_view_count": null,
       "_view_module": "@jupyter-widgets/base",
       "_view_module_version": "1.2.0",
       "_view_name": "StyleView",
       "bar_color": null,
       "description_width": ""
      }
     },
     "c80890f05d964b07b07a1d7a8ae05270": {
      "model_module": "@jupyter-widgets/controls",
      "model_module_version": "1.5.0",
      "model_name": "HTMLModel",
      "state": {
       "_dom_classes": [],
       "_model_module": "@jupyter-widgets/controls",
       "_model_module_version": "1.5.0",
       "_model_name": "HTMLModel",
       "_view_count": null,
       "_view_module": "@jupyter-widgets/controls",
       "_view_module_version": "1.5.0",
       "_view_name": "HTMLView",
       "description": "",
       "description_tooltip": null,
       "layout": "IPY_MODEL_fa7eff1281f247c494ab0d8b0d46acd2",
       "placeholder": "​",
       "style": "IPY_MODEL_331b0e9df46b419aab2dd4c7bd2dbb56",
       "value": "100%"
      }
     },
     "c927c774870841f99c0aa3c06026486c": {
      "model_module": "@jupyter-widgets/base",
      "model_module_version": "1.2.0",
      "model_name": "LayoutModel",
      "state": {
       "_model_module": "@jupyter-widgets/base",
       "_model_module_version": "1.2.0",
       "_model_name": "LayoutModel",
       "_view_count": null,
       "_view_module": "@jupyter-widgets/base",
       "_view_module_version": "1.2.0",
       "_view_name": "LayoutView",
       "align_content": null,
       "align_items": null,
       "align_self": null,
       "border": null,
       "bottom": null,
       "display": null,
       "flex": null,
       "flex_flow": null,
       "grid_area": null,
       "grid_auto_columns": null,
       "grid_auto_flow": null,
       "grid_auto_rows": null,
       "grid_column": null,
       "grid_gap": null,
       "grid_row": null,
       "grid_template_areas": null,
       "grid_template_columns": null,
       "grid_template_rows": null,
       "height": null,
       "justify_content": null,
       "justify_items": null,
       "left": null,
       "margin": null,
       "max_height": null,
       "max_width": null,
       "min_height": null,
       "min_width": null,
       "object_fit": null,
       "object_position": null,
       "order": null,
       "overflow": null,
       "overflow_x": null,
       "overflow_y": null,
       "padding": null,
       "right": null,
       "top": null,
       "visibility": null,
       "width": null
      }
     },
     "d1241802e3d34395a769ac91a8de1761": {
      "model_module": "@jupyter-widgets/base",
      "model_module_version": "1.2.0",
      "model_name": "LayoutModel",
      "state": {
       "_model_module": "@jupyter-widgets/base",
       "_model_module_version": "1.2.0",
       "_model_name": "LayoutModel",
       "_view_count": null,
       "_view_module": "@jupyter-widgets/base",
       "_view_module_version": "1.2.0",
       "_view_name": "LayoutView",
       "align_content": null,
       "align_items": null,
       "align_self": null,
       "border": null,
       "bottom": null,
       "display": null,
       "flex": null,
       "flex_flow": null,
       "grid_area": null,
       "grid_auto_columns": null,
       "grid_auto_flow": null,
       "grid_auto_rows": null,
       "grid_column": null,
       "grid_gap": null,
       "grid_row": null,
       "grid_template_areas": null,
       "grid_template_columns": null,
       "grid_template_rows": null,
       "height": null,
       "justify_content": null,
       "justify_items": null,
       "left": null,
       "margin": null,
       "max_height": null,
       "max_width": null,
       "min_height": null,
       "min_width": null,
       "object_fit": null,
       "object_position": null,
       "order": null,
       "overflow": null,
       "overflow_x": null,
       "overflow_y": null,
       "padding": null,
       "right": null,
       "top": null,
       "visibility": null,
       "width": null
      }
     },
     "fa7eff1281f247c494ab0d8b0d46acd2": {
      "model_module": "@jupyter-widgets/base",
      "model_module_version": "1.2.0",
      "model_name": "LayoutModel",
      "state": {
       "_model_module": "@jupyter-widgets/base",
       "_model_module_version": "1.2.0",
       "_model_name": "LayoutModel",
       "_view_count": null,
       "_view_module": "@jupyter-widgets/base",
       "_view_module_version": "1.2.0",
       "_view_name": "LayoutView",
       "align_content": null,
       "align_items": null,
       "align_self": null,
       "border": null,
       "bottom": null,
       "display": null,
       "flex": null,
       "flex_flow": null,
       "grid_area": null,
       "grid_auto_columns": null,
       "grid_auto_flow": null,
       "grid_auto_rows": null,
       "grid_column": null,
       "grid_gap": null,
       "grid_row": null,
       "grid_template_areas": null,
       "grid_template_columns": null,
       "grid_template_rows": null,
       "height": null,
       "justify_content": null,
       "justify_items": null,
       "left": null,
       "margin": null,
       "max_height": null,
       "max_width": null,
       "min_height": null,
       "min_width": null,
       "object_fit": null,
       "object_position": null,
       "order": null,
       "overflow": null,
       "overflow_x": null,
       "overflow_y": null,
       "padding": null,
       "right": null,
       "top": null,
       "visibility": null,
       "width": null
      }
     }
    },
    "version_major": 2,
    "version_minor": 0
   }
  }
 },
 "nbformat": 4,
 "nbformat_minor": 5
}
