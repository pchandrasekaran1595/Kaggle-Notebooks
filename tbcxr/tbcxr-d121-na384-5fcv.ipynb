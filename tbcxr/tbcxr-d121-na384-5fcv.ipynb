{
 "cells": [
  {
   "cell_type": "markdown",
   "id": "b553ea29",
   "metadata": {
    "_cell_guid": "b1076dfc-b9ad-4769-8c92-a6c4dae69d19",
    "_uuid": "8f2839f25d086af736a60e9eeb907d3b93b6e0e5",
    "papermill": {
     "duration": 0.019465,
     "end_time": "2022-04-20T06:56:06.470987",
     "exception": false,
     "start_time": "2022-04-20T06:56:06.451522",
     "status": "completed"
    },
    "tags": []
   },
   "source": [
    "### Library Imports"
   ]
  },
  {
   "cell_type": "code",
   "execution_count": 1,
   "id": "949741ae",
   "metadata": {
    "execution": {
     "iopub.execute_input": "2022-04-20T06:56:06.506415Z",
     "iopub.status.busy": "2022-04-20T06:56:06.506037Z",
     "iopub.status.idle": "2022-04-20T06:56:09.154145Z",
     "shell.execute_reply": "2022-04-20T06:56:09.153345Z"
    },
    "papermill": {
     "duration": 2.664343,
     "end_time": "2022-04-20T06:56:09.156320",
     "exception": false,
     "start_time": "2022-04-20T06:56:06.491977",
     "status": "completed"
    },
    "tags": []
   },
   "outputs": [],
   "source": [
    "import os\n",
    "import re\n",
    "import gc\n",
    "import torch\n",
    "import numpy as np\n",
    "import pandas as pd\n",
    "import matplotlib.pyplot as plt\n",
    "\n",
    "from time import time, sleep\n",
    "from torch import nn, optim\n",
    "from torch.utils.data import Dataset\n",
    "from torch.utils.data import DataLoader as DL\n",
    "from torchvision import models, transforms\n",
    "\n",
    "from sklearn.model_selection import KFold\n",
    "# from sklearn.preprocessing import LabelEncoder\n",
    "# from sklearn.metrics import accuracy_score, \\\n",
    "#                             precision_recall_fscore_support, \\\n",
    "#                             roc_auc_score, \\\n",
    "#                             classification_report, \\\n",
    "#                             confusion_matrix"
   ]
  },
  {
   "cell_type": "markdown",
   "id": "29a001e3",
   "metadata": {
    "papermill": {
     "duration": 0.012389,
     "end_time": "2022-04-20T06:56:09.182667",
     "exception": false,
     "start_time": "2022-04-20T06:56:09.170278",
     "status": "completed"
    },
    "tags": []
   },
   "source": [
    "### **Utilities**"
   ]
  },
  {
   "cell_type": "code",
   "execution_count": 2,
   "id": "5d6ff848",
   "metadata": {
    "execution": {
     "iopub.execute_input": "2022-04-20T06:56:09.209226Z",
     "iopub.status.busy": "2022-04-20T06:56:09.208507Z",
     "iopub.status.idle": "2022-04-20T06:56:09.221660Z",
     "shell.execute_reply": "2022-04-20T06:56:09.220861Z"
    },
    "papermill": {
     "duration": 0.028271,
     "end_time": "2022-04-20T06:56:09.223362",
     "exception": false,
     "start_time": "2022-04-20T06:56:09.195091",
     "status": "completed"
    },
    "tags": []
   },
   "outputs": [],
   "source": [
    "SEED = 42\n",
    "SIZE = 384\n",
    "\n",
    "def breaker(num: int=50, char: str=\"*\") -> None:\n",
    "    print(\"\\n\" + num*char + \"\\n\")\n",
    "\n",
    "\n",
    "def show_graphs(L: list, A: list) -> None:\n",
    "    TL, VL, TA, VA = [], [], [], []\n",
    "    for i in range(len(L)):\n",
    "        TL.append(L[i][\"train\"])\n",
    "        VL.append(L[i][\"valid\"])\n",
    "        TA.append(A[i][\"train\"])\n",
    "        VA.append(A[i][\"valid\"])\n",
    "    x_Axis = np.arange(1, len(TL) + 1)\n",
    "    plt.figure(figsize=(8, 6))\n",
    "    plt.subplot(1, 2, 1)\n",
    "    plt.plot(x_Axis, TL, \"r\", label=\"Train\")\n",
    "    plt.plot(x_Axis, VL, \"b\", label=\"Valid\")\n",
    "    plt.legend()\n",
    "    plt.grid()\n",
    "    plt.title(\"Loss Graph\")\n",
    "    plt.subplot(1, 2, 2)\n",
    "    plt.plot(x_Axis, TA, \"r\", label=\"Train\")\n",
    "    plt.plot(x_Axis, VA, \"b\", label=\"Valid\")\n",
    "    plt.legend()\n",
    "    plt.grid()\n",
    "    plt.title(\"Accuracy Graph\")\n",
    "    plt.show()\n",
    "\n",
    "    \n",
    "def get_scores(y_true: np.ndarray, y_pred: np.ndarray) -> tuple:\n",
    "    accuracy = accuracy_score(y_pred, y_true)\n",
    "    try:\n",
    "        auc = roc_auc_score(y_pred, y_true)\n",
    "    except:\n",
    "        auc = 0\n",
    "    precision, recall, f_score, _ = precision_recall_fscore_support(y_pred, y_true)\n",
    "\n",
    "    return accuracy, auc, precision, recall, f_score\n",
    "\n",
    "\n",
    "def print_scores(accuracy: float, auc: float, precision: np.ndarray, recall: np.ndarray, f_score: np.ndarray) -> None:\n",
    "    print(f\"Accuracy  : {accuracy:.5f}\")\n",
    "    print(f\"ROC-AUC   : {auc:.5f}\")\n",
    "    print(f\"Precision : {precision}\")\n",
    "    print(f\"Recall    : {recall}\")\n",
    "    print(f\"F-Score   : {f_score}\")"
   ]
  },
  {
   "cell_type": "markdown",
   "id": "f94a5105",
   "metadata": {
    "papermill": {
     "duration": 0.012273,
     "end_time": "2022-04-20T06:56:09.248357",
     "exception": false,
     "start_time": "2022-04-20T06:56:09.236084",
     "status": "completed"
    },
    "tags": []
   },
   "source": [
    "### **Configuration**"
   ]
  },
  {
   "cell_type": "code",
   "execution_count": 3,
   "id": "d4a94796",
   "metadata": {
    "execution": {
     "iopub.execute_input": "2022-04-20T06:56:09.274758Z",
     "iopub.status.busy": "2022-04-20T06:56:09.274573Z",
     "iopub.status.idle": "2022-04-20T06:56:09.332955Z",
     "shell.execute_reply": "2022-04-20T06:56:09.332174Z"
    },
    "papermill": {
     "duration": 0.073556,
     "end_time": "2022-04-20T06:56:09.334637",
     "exception": false,
     "start_time": "2022-04-20T06:56:09.261081",
     "status": "completed"
    },
    "tags": []
   },
   "outputs": [],
   "source": [
    "class CFG(object):\n",
    "    def __init__(self, \n",
    "                 seed: int = 42,\n",
    "                 n_splits: int = 5,\n",
    "                 batch_size: int = 16,\n",
    "                 epochs: int = 25,\n",
    "                 early_stopping: int = 5,\n",
    "                 lr: float = 1e-4,\n",
    "                 wd: float = 0.0,\n",
    "                 max_lr: float = 1e-3,\n",
    "                 pct_start: float = 0.2,\n",
    "                 steps_per_epoch: int = 100,\n",
    "                 div_factor: int = 1e3, \n",
    "                 final_div_factor: float = 1e3,\n",
    "                 ):\n",
    "        \n",
    "        self.seed = seed\n",
    "        self.n_splits = n_splits\n",
    "        self.batch_size = batch_size\n",
    "        self.epochs = epochs\n",
    "        self.early_stopping = early_stopping\n",
    "        self.lr = lr\n",
    "        self.wd = wd\n",
    "        self.max_lr = max_lr\n",
    "        self.pct_start = pct_start\n",
    "        self.steps_per_epoch = steps_per_epoch\n",
    "        self.div_factor = div_factor\n",
    "        self.final_div_factor = final_div_factor\n",
    "        self.device = torch.device(\"cuda\" if torch.cuda.is_available() else \"cpu\")\n",
    "        self.transform = transforms.Compose([transforms.ToTensor(),\n",
    "                                transforms.Normalize([0.35806, 0.36991, 0.36155],\n",
    "                                                     [0.31737, 0.31962, 0.31380]),\n",
    "                                ])\n",
    "        self.save_path = \"saves\"\n",
    "        if not os.path.exists(self.save_path): os.makedirs(self.save_path)\n",
    "    \n",
    "cfg = CFG(seed=SEED)"
   ]
  },
  {
   "cell_type": "markdown",
   "id": "5ba69b39",
   "metadata": {
    "papermill": {
     "duration": 0.012857,
     "end_time": "2022-04-20T06:56:09.359990",
     "exception": false,
     "start_time": "2022-04-20T06:56:09.347133",
     "status": "completed"
    },
    "tags": []
   },
   "source": [
    "### **Dataset Template**"
   ]
  },
  {
   "cell_type": "code",
   "execution_count": 4,
   "id": "158cc62f",
   "metadata": {
    "execution": {
     "iopub.execute_input": "2022-04-20T06:56:09.385982Z",
     "iopub.status.busy": "2022-04-20T06:56:09.385766Z",
     "iopub.status.idle": "2022-04-20T06:56:09.392347Z",
     "shell.execute_reply": "2022-04-20T06:56:09.391716Z"
    },
    "papermill": {
     "duration": 0.021529,
     "end_time": "2022-04-20T06:56:09.394004",
     "exception": false,
     "start_time": "2022-04-20T06:56:09.372475",
     "status": "completed"
    },
    "tags": []
   },
   "outputs": [],
   "source": [
    "class DS(Dataset):\n",
    "    def __init__(self, images: np.ndarray, labels: np.ndarray = None, transform=None):\n",
    "        self.images = images\n",
    "        self.labels = labels\n",
    "        self.transform = transform\n",
    "    \n",
    "    def __len__(self):\n",
    "        return self.images.shape[0]\n",
    "    \n",
    "    def __getitem__(self, idx):\n",
    "        if self.labels is not None:\n",
    "            return self.transform(self.images[idx]), torch.FloatTensor(self.labels[idx])\n",
    "        else:\n",
    "            return self.transform(self.images[idx])"
   ]
  },
  {
   "cell_type": "markdown",
   "id": "df23ffed",
   "metadata": {
    "papermill": {
     "duration": 0.014298,
     "end_time": "2022-04-20T06:56:09.420626",
     "exception": false,
     "start_time": "2022-04-20T06:56:09.406328",
     "status": "completed"
    },
    "tags": []
   },
   "source": [
    "### **Model**"
   ]
  },
  {
   "cell_type": "code",
   "execution_count": 5,
   "id": "a393bc25",
   "metadata": {
    "execution": {
     "iopub.execute_input": "2022-04-20T06:56:09.446656Z",
     "iopub.status.busy": "2022-04-20T06:56:09.446468Z",
     "iopub.status.idle": "2022-04-20T06:56:09.451227Z",
     "shell.execute_reply": "2022-04-20T06:56:09.450579Z"
    },
    "papermill": {
     "duration": 0.019572,
     "end_time": "2022-04-20T06:56:09.452870",
     "exception": false,
     "start_time": "2022-04-20T06:56:09.433298",
     "status": "completed"
    },
    "tags": []
   },
   "outputs": [],
   "source": [
    "class Model(nn.Module):\n",
    "    def __init__(self):\n",
    "        super(Model, self).__init__()\n",
    "\n",
    "        self.model = models.densenet121(pretrained=True, progress=True)\n",
    "        self.model.classifier = nn.Linear(in_features=self.model.classifier.in_features, out_features=1)\n",
    "\n",
    "    def forward(self, x):\n",
    "        return self.model(x)"
   ]
  },
  {
   "cell_type": "markdown",
   "id": "271df1e3",
   "metadata": {
    "papermill": {
     "duration": 0.012313,
     "end_time": "2022-04-20T06:56:09.478226",
     "exception": false,
     "start_time": "2022-04-20T06:56:09.465913",
     "status": "completed"
    },
    "tags": []
   },
   "source": [
    "### Fit and Predict Helper"
   ]
  },
  {
   "cell_type": "code",
   "execution_count": 6,
   "id": "f8cb1f96",
   "metadata": {
    "execution": {
     "iopub.execute_input": "2022-04-20T06:56:09.504463Z",
     "iopub.status.busy": "2022-04-20T06:56:09.504272Z",
     "iopub.status.idle": "2022-04-20T06:56:09.528375Z",
     "shell.execute_reply": "2022-04-20T06:56:09.527678Z"
    },
    "papermill": {
     "duration": 0.039164,
     "end_time": "2022-04-20T06:56:09.530067",
     "exception": false,
     "start_time": "2022-04-20T06:56:09.490903",
     "status": "completed"
    },
    "tags": []
   },
   "outputs": [],
   "source": [
    "def fit(model=None, \n",
    "        optimizer=None, \n",
    "        scheduler=None, \n",
    "        epochs=None, \n",
    "        early_stopping_patience=None, \n",
    "        dataloaders=None, \n",
    "        fold=None, \n",
    "        save_path=None, \n",
    "        device=None,\n",
    "        verbose=False) -> tuple:\n",
    "    \n",
    "    def get_accuracy(y_pred, y_true):\n",
    "        y_pred = torch.sigmoid(y_pred)\n",
    "        \n",
    "        y_pred[y_pred > 0.5] = 1\n",
    "        y_pred[y_pred <= 0.5] = 0\n",
    "        \n",
    "        return torch.count_nonzero(y_pred == y_true).item() / len(y_pred)\n",
    "    \n",
    "    if verbose:\n",
    "        breaker()\n",
    "        if fold: print(f\"Training Fold {fold}...\")\n",
    "        else: print(\"Training ...\")\n",
    "        breaker()\n",
    "        \n",
    "    bestLoss, bestAccs = {\"train\" : np.inf, \"valid\" : np.inf}, {\"train\" : 0.0, \"valid\" : 0.0}\n",
    "    Losses, LRs, Accuracies = [], [], []\n",
    "    if fold: name = f\"state_fold_{fold}.pt\"\n",
    "    else: name = \"state.pt\"\n",
    "\n",
    "    start_time = time()\n",
    "    for e in range(epochs):\n",
    "        e_st = time()\n",
    "        epochLoss, epochAccs = {\"train\" : 0.0, \"valid\" : 0.0}, {\"train\" : 0.0, \"valid\" : 0.0}\n",
    "\n",
    "        for phase in [\"train\", \"valid\"]:\n",
    "            if phase == \"train\":\n",
    "                model.train()\n",
    "            else:\n",
    "                model.eval()\n",
    "            \n",
    "            lossPerPass, accsPerPass = [], []\n",
    "\n",
    "            for X, y in dataloaders[phase]:\n",
    "                X, y = X.to(device), y.to(device)\n",
    "\n",
    "                optimizer.zero_grad()\n",
    "                with torch.set_grad_enabled(phase == \"train\"):\n",
    "                    output = model(X)\n",
    "                    loss = torch.nn.BCEWithLogitsLoss()(output, y)\n",
    "                    if phase == \"train\":\n",
    "                        loss.backward()\n",
    "                        optimizer.step()\n",
    "                        if scheduler: scheduler.step()\n",
    "                lossPerPass.append(loss.item())\n",
    "                accsPerPass.append(get_accuracy(output, y))\n",
    "            epochLoss[phase] = np.mean(np.array(lossPerPass))\n",
    "            epochAccs[phase] = np.mean(np.array(accsPerPass))\n",
    "        LRs.append(scheduler.get_last_lr())\n",
    "        Losses.append(epochLoss)\n",
    "        Accuracies.append(epochAccs)\n",
    "        \n",
    "        if early_stopping_patience:\n",
    "            if epochLoss[\"valid\"] < bestLoss[\"valid\"]:\n",
    "                bestLoss = epochLoss\n",
    "                BLE = e + 1\n",
    "                torch.save({\"model_state_dict\"     : model.state_dict(),\n",
    "                            \"optim_state_dict\"     : optimizer.state_dict()},\n",
    "                           os.path.join(save_path, name))\n",
    "                early_stopping_step = 0\n",
    "            else:\n",
    "                early_stopping_step += 1\n",
    "                if early_stopping_step > early_stopping_patience:\n",
    "                    print(\"\\nEarly Stopping at Epoch {}\".format(e + 1))\n",
    "                    break\n",
    "        \n",
    "        if epochLoss[\"valid\"] < bestLoss[\"valid\"]:\n",
    "            bestLoss = epochLoss\n",
    "            BLE = e + 1\n",
    "            torch.save({\"model_state_dict\"     : model.state_dict(),\n",
    "                        \"optim_state_dict\"     : optimizer.state_dict()},\n",
    "                        os.path.join(save_path, name))\n",
    "        \n",
    "        if epochAccs[\"valid\"] > bestAccs[\"valid\"]:\n",
    "            bestAccs = epochAccs\n",
    "            BAE = e + 1\n",
    "        \n",
    "        # if scheduler: scheduler.step(epochLoss[\"valid\"])\n",
    "        \n",
    "        if verbose:\n",
    "            print(\"Epoch: {} | Train Loss: {:.5f} | Valid Loss: {:.5f} | Train Accs: {:.5f} | Valid Accs: {:.5f} | Time: {:.2f} seconds\".format(e+1, \n",
    "                                                                       epochLoss[\"train\"], epochLoss[\"valid\"], \n",
    "                                                                       epochAccs[\"train\"], epochAccs[\"valid\"], \n",
    "                                                                       time()-e_st))\n",
    "\n",
    "    del model, X, y\n",
    "    torch.cuda.empty_cache()\n",
    "    \n",
    "    if verbose:                                           \n",
    "        breaker()\n",
    "        print(f\"Best Validation Loss at Epoch {BLE}\")\n",
    "        breaker()\n",
    "        print(f\"Best Validation Accs at Epoch {BAE}\")\n",
    "        breaker()\n",
    "        print(\"Time Taken [{} Epochs] : {:.2f} minutes\".format(len(Losses), (time()-start_time)/60))\n",
    "    \n",
    "    return Losses, Accuracies, LRs, BLE, BAE, name\n",
    "\n",
    "\n",
    "def predict(model=None, dataloader=None, path=None, device=None) -> np.ndarray:\n",
    "    model.load_state_dict(torch.load(path, map_location=device)[\"model_state_dict\"])\n",
    "    model.to(device)    \n",
    "    model.eval()\n",
    "    \n",
    "    y_pred = torch.zeros(1, 1).to(device)\n",
    "    \n",
    "    for X in dataloader:\n",
    "        X = X.to(device)\n",
    "        with torch.no_grad():\n",
    "            output = torch.sigmoid(model(X))\n",
    "        y_pred = torch.cat((y_pred, output.view(-1, 1)), dim=0)\n",
    "    \n",
    "    y_pred[y_pred > 0.5] = 1\n",
    "    y_pred[y_pred <= 0.5] = 0\n",
    "    \n",
    "    return y_pred[1:].detach().cpu().numpy()"
   ]
  },
  {
   "cell_type": "markdown",
   "id": "681040e6",
   "metadata": {
    "papermill": {
     "duration": 0.012317,
     "end_time": "2022-04-20T06:56:09.555074",
     "exception": false,
     "start_time": "2022-04-20T06:56:09.542757",
     "status": "completed"
    },
    "tags": []
   },
   "source": [
    "### **Train**"
   ]
  },
  {
   "cell_type": "code",
   "execution_count": 7,
   "id": "99e69264",
   "metadata": {
    "execution": {
     "iopub.execute_input": "2022-04-20T06:56:09.580795Z",
     "iopub.status.busy": "2022-04-20T06:56:09.580610Z",
     "iopub.status.idle": "2022-04-20T06:56:25.824065Z",
     "shell.execute_reply": "2022-04-20T06:56:25.823321Z"
    },
    "papermill": {
     "duration": 16.258506,
     "end_time": "2022-04-20T06:56:25.826083",
     "exception": false,
     "start_time": "2022-04-20T06:56:09.567577",
     "status": "completed"
    },
    "tags": []
   },
   "outputs": [],
   "source": [
    "images = np.load(f\"../input/tb-chest-x-rays/images_{SIZE}.npy\")\n",
    "labels = np.load(f\"../input/tb-chest-x-rays/targets_{SIZE}.npy\")"
   ]
  },
  {
   "cell_type": "code",
   "execution_count": 8,
   "id": "28516aa7",
   "metadata": {
    "execution": {
     "iopub.execute_input": "2022-04-20T06:56:25.853347Z",
     "iopub.status.busy": "2022-04-20T06:56:25.853136Z",
     "iopub.status.idle": "2022-04-20T08:46:34.082819Z",
     "shell.execute_reply": "2022-04-20T08:46:34.082019Z"
    },
    "papermill": {
     "duration": 6608.245906,
     "end_time": "2022-04-20T08:46:34.085130",
     "exception": false,
     "start_time": "2022-04-20T06:56:25.839224",
     "status": "completed"
    },
    "tags": []
   },
   "outputs": [
    {
     "name": "stderr",
     "output_type": "stream",
     "text": [
      "Downloading: \"https://download.pytorch.org/models/densenet121-a639ec97.pth\" to /root/.cache/torch/hub/checkpoints/densenet121-a639ec97.pth\n"
     ]
    },
    {
     "data": {
      "application/vnd.jupyter.widget-view+json": {
       "model_id": "b7ec86b05e3a4a468194c718238377cd",
       "version_major": 2,
       "version_minor": 0
      },
      "text/plain": [
       "  0%|          | 0.00/30.8M [00:00<?, ?B/s]"
      ]
     },
     "metadata": {},
     "output_type": "display_data"
    },
    {
     "name": "stdout",
     "output_type": "stream",
     "text": [
      "\n",
      "**************************************************\n",
      "\n",
      "Training Fold 1...\n",
      "\n",
      "**************************************************\n",
      "\n",
      "Epoch: 1 | Train Loss: 0.27224 | Valid Loss: 0.02990 | Train Accs: 0.95685 | Valid Accs: 0.99292 | Time: 75.59 seconds\n",
      "Epoch: 2 | Train Loss: 0.03426 | Valid Loss: 0.02439 | Train Accs: 0.98988 | Valid Accs: 0.99410 | Time: 69.92 seconds\n",
      "Epoch: 3 | Train Loss: 0.05216 | Valid Loss: 0.03370 | Train Accs: 0.98631 | Valid Accs: 0.98939 | Time: 69.90 seconds\n",
      "Epoch: 4 | Train Loss: 0.02678 | Valid Loss: 0.60209 | Train Accs: 0.99196 | Valid Accs: 0.73703 | Time: 69.68 seconds\n",
      "Epoch: 5 | Train Loss: 0.03203 | Valid Loss: 0.45512 | Train Accs: 0.99315 | Valid Accs: 0.93278 | Time: 69.62 seconds\n",
      "Epoch: 6 | Train Loss: 0.02711 | Valid Loss: 0.01358 | Train Accs: 0.99226 | Valid Accs: 0.99646 | Time: 69.88 seconds\n",
      "Epoch: 7 | Train Loss: 0.04040 | Valid Loss: 0.03275 | Train Accs: 0.98899 | Valid Accs: 0.98821 | Time: 69.86 seconds\n",
      "Epoch: 8 | Train Loss: 0.02542 | Valid Loss: 0.05330 | Train Accs: 0.99345 | Valid Accs: 0.98113 | Time: 69.69 seconds\n",
      "Epoch: 9 | Train Loss: 0.01028 | Valid Loss: 0.01682 | Train Accs: 0.99673 | Valid Accs: 0.99410 | Time: 69.57 seconds\n",
      "Epoch: 10 | Train Loss: 0.01008 | Valid Loss: 0.01083 | Train Accs: 0.99732 | Valid Accs: 0.99764 | Time: 70.00 seconds\n",
      "Epoch: 11 | Train Loss: 0.00350 | Valid Loss: 0.00177 | Train Accs: 0.99881 | Valid Accs: 1.00000 | Time: 70.07 seconds\n",
      "Epoch: 12 | Train Loss: 0.00255 | Valid Loss: 0.00439 | Train Accs: 0.99940 | Valid Accs: 1.00000 | Time: 69.80 seconds\n",
      "Epoch: 13 | Train Loss: 0.02869 | Valid Loss: 0.02297 | Train Accs: 0.99226 | Valid Accs: 0.99410 | Time: 69.78 seconds\n",
      "Epoch: 14 | Train Loss: 0.00888 | Valid Loss: 0.01524 | Train Accs: 0.99643 | Valid Accs: 0.99528 | Time: 69.50 seconds\n",
      "Epoch: 15 | Train Loss: 0.00375 | Valid Loss: 0.00352 | Train Accs: 0.99911 | Valid Accs: 0.99882 | Time: 69.60 seconds\n",
      "Epoch: 16 | Train Loss: 0.00108 | Valid Loss: 0.00317 | Train Accs: 1.00000 | Valid Accs: 0.99882 | Time: 69.98 seconds\n",
      "\n",
      "Early Stopping at Epoch 17\n",
      "\n",
      "**************************************************\n",
      "\n",
      "Best Validation Loss at Epoch 11\n",
      "\n",
      "**************************************************\n",
      "\n",
      "Best Validation Accs at Epoch 11\n",
      "\n",
      "**************************************************\n",
      "\n",
      "Time Taken [17 Epochs] : 19.87 minutes\n",
      "\n",
      "**************************************************\n",
      "\n"
     ]
    },
    {
     "data": {
      "image/png": "[encoded data removed]",
      "text/plain": [
       "<Figure size 576x432 with 2 Axes>"
      ]
     },
     "metadata": {
      "needs_background": "light"
     },
     "output_type": "display_data"
    },
    {
     "name": "stdout",
     "output_type": "stream",
     "text": [
      "\n",
      "**************************************************\n",
      "\n",
      "Training Fold 2...\n",
      "\n",
      "**************************************************\n",
      "\n",
      "Epoch: 1 | Train Loss: 0.27479 | Valid Loss: 0.01749 | Train Accs: 0.96012 | Valid Accs: 0.99410 | Time: 69.40 seconds\n",
      "Epoch: 2 | Train Loss: 0.03398 | Valid Loss: 0.02358 | Train Accs: 0.99315 | Valid Accs: 0.99292 | Time: 68.61 seconds\n",
      "Epoch: 3 | Train Loss: 0.05152 | Valid Loss: 0.02677 | Train Accs: 0.98512 | Valid Accs: 0.99764 | Time: 68.68 seconds\n",
      "Epoch: 4 | Train Loss: 0.03707 | Valid Loss: 0.40376 | Train Accs: 0.98839 | Valid Accs: 0.86557 | Time: 68.72 seconds\n",
      "Epoch: 5 | Train Loss: 0.03808 | Valid Loss: 0.27323 | Train Accs: 0.98839 | Valid Accs: 0.90330 | Time: 68.71 seconds\n",
      "Epoch: 6 | Train Loss: 0.02100 | Valid Loss: 0.00612 | Train Accs: 0.99435 | Valid Accs: 0.99882 | Time: 68.91 seconds\n",
      "Epoch: 7 | Train Loss: 0.01653 | Valid Loss: 0.02414 | Train Accs: 0.99435 | Valid Accs: 0.98939 | Time: 68.59 seconds\n",
      "Epoch: 8 | Train Loss: 0.00952 | Valid Loss: 0.04688 | Train Accs: 0.99524 | Valid Accs: 0.98231 | Time: 68.54 seconds\n",
      "Epoch: 9 | Train Loss: 0.01330 | Valid Loss: 0.03495 | Train Accs: 0.99583 | Valid Accs: 0.98703 | Time: 68.74 seconds\n",
      "Epoch: 10 | Train Loss: 0.01630 | Valid Loss: 0.00382 | Train Accs: 0.99613 | Valid Accs: 0.99882 | Time: 69.37 seconds\n",
      "Epoch: 11 | Train Loss: 0.00429 | Valid Loss: 0.00408 | Train Accs: 0.99940 | Valid Accs: 0.99882 | Time: 68.98 seconds\n",
      "Epoch: 12 | Train Loss: 0.00108 | Valid Loss: 0.00132 | Train Accs: 1.00000 | Valid Accs: 1.00000 | Time: 69.17 seconds\n",
      "Epoch: 13 | Train Loss: 0.00191 | Valid Loss: 0.03534 | Train Accs: 0.99940 | Valid Accs: 0.99175 | Time: 68.78 seconds\n",
      "Epoch: 14 | Train Loss: 0.02139 | Valid Loss: 0.01321 | Train Accs: 0.99256 | Valid Accs: 0.99646 | Time: 68.71 seconds\n",
      "Epoch: 15 | Train Loss: 0.00471 | Valid Loss: 0.00759 | Train Accs: 0.99851 | Valid Accs: 0.99764 | Time: 68.64 seconds\n",
      "Epoch: 16 | Train Loss: 0.00201 | Valid Loss: 0.00436 | Train Accs: 0.99970 | Valid Accs: 0.99764 | Time: 68.82 seconds\n",
      "Epoch: 17 | Train Loss: 0.00127 | Valid Loss: 0.00396 | Train Accs: 1.00000 | Valid Accs: 0.99882 | Time: 68.70 seconds\n",
      "\n",
      "Early Stopping at Epoch 18\n",
      "\n",
      "**************************************************\n",
      "\n",
      "Best Validation Loss at Epoch 12\n",
      "\n",
      "**************************************************\n",
      "\n",
      "Best Validation Accs at Epoch 12\n",
      "\n",
      "**************************************************\n",
      "\n",
      "Time Taken [18 Epochs] : 20.65 minutes\n",
      "\n",
      "**************************************************\n",
      "\n"
     ]
    },
    {
     "data": {
      "image/png": "[encoded data removed]",
      "text/plain": [
       "<Figure size 576x432 with 2 Axes>"
      ]
     },
     "metadata": {
      "needs_background": "light"
     },
     "output_type": "display_data"
    },
    {
     "name": "stdout",
     "output_type": "stream",
     "text": [
      "\n",
      "**************************************************\n",
      "\n",
      "Training Fold 3...\n",
      "\n",
      "**************************************************\n",
      "\n",
      "Epoch: 1 | Train Loss: 0.27141 | Valid Loss: 0.02394 | Train Accs: 0.96071 | Valid Accs: 0.99528 | Time: 70.23 seconds\n",
      "Epoch: 2 | Train Loss: 0.03788 | Valid Loss: 0.05305 | Train Accs: 0.98839 | Valid Accs: 0.98821 | Time: 68.88 seconds\n",
      "Epoch: 3 | Train Loss: 0.07442 | Valid Loss: 0.02788 | Train Accs: 0.98095 | Valid Accs: 0.99528 | Time: 68.85 seconds\n",
      "Epoch: 4 | Train Loss: 0.05042 | Valid Loss: 0.04675 | Train Accs: 0.98601 | Valid Accs: 0.98231 | Time: 68.90 seconds\n",
      "Epoch: 5 | Train Loss: 0.02875 | Valid Loss: 0.02090 | Train Accs: 0.99137 | Valid Accs: 0.99292 | Time: 68.98 seconds\n",
      "Epoch: 6 | Train Loss: 0.01325 | Valid Loss: 0.06123 | Train Accs: 0.99613 | Valid Accs: 0.97406 | Time: 68.78 seconds\n",
      "Epoch: 7 | Train Loss: 0.01035 | Valid Loss: 0.02562 | Train Accs: 0.99643 | Valid Accs: 0.99528 | Time: 68.74 seconds\n",
      "Epoch: 8 | Train Loss: 0.03144 | Valid Loss: 0.02710 | Train Accs: 0.98988 | Valid Accs: 0.98703 | Time: 68.87 seconds\n",
      "Epoch: 9 | Train Loss: 0.01031 | Valid Loss: 0.02468 | Train Accs: 0.99702 | Valid Accs: 0.99410 | Time: 68.81 seconds\n",
      "Epoch: 10 | Train Loss: 0.00854 | Valid Loss: 0.02398 | Train Accs: 0.99732 | Valid Accs: 0.99175 | Time: 68.97 seconds\n",
      "Epoch: 11 | Train Loss: 0.00377 | Valid Loss: 0.01275 | Train Accs: 0.99911 | Valid Accs: 0.99528 | Time: 69.12 seconds\n",
      "Epoch: 12 | Train Loss: 0.00635 | Valid Loss: 0.01569 | Train Accs: 0.99732 | Valid Accs: 0.99410 | Time: 68.91 seconds\n",
      "Epoch: 13 | Train Loss: 0.00485 | Valid Loss: 0.02562 | Train Accs: 0.99821 | Valid Accs: 0.99410 | Time: 68.75 seconds\n",
      "Epoch: 14 | Train Loss: 0.00167 | Valid Loss: 0.00594 | Train Accs: 1.00000 | Valid Accs: 0.99764 | Time: 69.12 seconds\n",
      "Epoch: 15 | Train Loss: 0.00110 | Valid Loss: 0.00674 | Train Accs: 1.00000 | Valid Accs: 0.99764 | Time: 68.81 seconds\n",
      "Epoch: 16 | Train Loss: 0.00094 | Valid Loss: 0.03762 | Train Accs: 0.99970 | Valid Accs: 0.99292 | Time: 68.59 seconds\n",
      "Epoch: 17 | Train Loss: 0.00072 | Valid Loss: 0.01424 | Train Accs: 1.00000 | Valid Accs: 0.99528 | Time: 69.13 seconds\n",
      "Epoch: 18 | Train Loss: 0.00037 | Valid Loss: 0.02383 | Train Accs: 1.00000 | Valid Accs: 0.99410 | Time: 69.12 seconds\n",
      "Epoch: 19 | Train Loss: 0.00066 | Valid Loss: 0.02552 | Train Accs: 1.00000 | Valid Accs: 0.99175 | Time: 69.00 seconds\n",
      "\n",
      "Early Stopping at Epoch 20\n",
      "\n",
      "**************************************************\n",
      "\n",
      "Best Validation Loss at Epoch 14\n",
      "\n",
      "**************************************************\n",
      "\n",
      "Best Validation Accs at Epoch 14\n",
      "\n",
      "**************************************************\n",
      "\n",
      "Time Taken [20 Epochs] : 22.99 minutes\n",
      "\n",
      "**************************************************\n",
      "\n"
     ]
    },
    {
     "data": {
      "image/png": "[encoded data removed]",
      "text/plain": [
       "<Figure size 576x432 with 2 Axes>"
      ]
     },
     "metadata": {
      "needs_background": "light"
     },
     "output_type": "display_data"
    },
    {
     "name": "stdout",
     "output_type": "stream",
     "text": [
      "\n",
      "**************************************************\n",
      "\n",
      "Training Fold 4...\n",
      "\n",
      "**************************************************\n",
      "\n",
      "Epoch: 1 | Train Loss: 0.27206 | Valid Loss: 0.02440 | Train Accs: 0.95952 | Valid Accs: 0.99528 | Time: 69.64 seconds\n",
      "Epoch: 2 | Train Loss: 0.02864 | Valid Loss: 0.01584 | Train Accs: 0.99405 | Valid Accs: 0.99764 | Time: 69.83 seconds\n",
      "Epoch: 3 | Train Loss: 0.07303 | Valid Loss: 0.05984 | Train Accs: 0.97560 | Valid Accs: 0.99528 | Time: 69.41 seconds\n",
      "Epoch: 4 | Train Loss: 0.04921 | Valid Loss: 2.30421 | Train Accs: 0.98661 | Valid Accs: 0.21934 | Time: 69.50 seconds\n",
      "Epoch: 5 | Train Loss: 0.02579 | Valid Loss: 0.06388 | Train Accs: 0.99435 | Valid Accs: 0.97995 | Time: 69.72 seconds\n",
      "Epoch: 6 | Train Loss: 0.03359 | Valid Loss: 0.01038 | Train Accs: 0.98869 | Valid Accs: 0.99882 | Time: 69.90 seconds\n",
      "Epoch: 7 | Train Loss: 0.03116 | Valid Loss: 0.07405 | Train Accs: 0.99077 | Valid Accs: 0.97642 | Time: 69.27 seconds\n",
      "Epoch: 8 | Train Loss: 0.01781 | Valid Loss: 0.01219 | Train Accs: 0.99583 | Valid Accs: 0.99528 | Time: 68.64 seconds\n",
      "Epoch: 9 | Train Loss: 0.02270 | Valid Loss: 0.03952 | Train Accs: 0.99375 | Valid Accs: 0.98703 | Time: 69.48 seconds\n",
      "Epoch: 10 | Train Loss: 0.01839 | Valid Loss: 0.00725 | Train Accs: 0.99435 | Valid Accs: 0.99882 | Time: 70.02 seconds\n",
      "Epoch: 11 | Train Loss: 0.01188 | Valid Loss: 0.01057 | Train Accs: 0.99792 | Valid Accs: 0.99882 | Time: 69.65 seconds\n",
      "Epoch: 12 | Train Loss: 0.01091 | Valid Loss: 0.10724 | Train Accs: 0.99702 | Valid Accs: 0.95283 | Time: 69.32 seconds\n",
      "Epoch: 13 | Train Loss: 0.01764 | Valid Loss: 0.00563 | Train Accs: 0.99494 | Valid Accs: 0.99882 | Time: 69.91 seconds\n",
      "Epoch: 14 | Train Loss: 0.00689 | Valid Loss: 0.00155 | Train Accs: 0.99792 | Valid Accs: 1.00000 | Time: 69.93 seconds\n",
      "Epoch: 15 | Train Loss: 0.00258 | Valid Loss: 0.00086 | Train Accs: 0.99940 | Valid Accs: 1.00000 | Time: 69.77 seconds\n",
      "Epoch: 16 | Train Loss: 0.00070 | Valid Loss: 0.00070 | Train Accs: 1.00000 | Valid Accs: 1.00000 | Time: 69.31 seconds\n",
      "Epoch: 17 | Train Loss: 0.00076 | Valid Loss: 0.00060 | Train Accs: 1.00000 | Valid Accs: 1.00000 | Time: 69.97 seconds\n",
      "Epoch: 18 | Train Loss: 0.00054 | Valid Loss: 0.00066 | Train Accs: 1.00000 | Valid Accs: 1.00000 | Time: 69.64 seconds\n",
      "Epoch: 19 | Train Loss: 0.00074 | Valid Loss: 0.00057 | Train Accs: 1.00000 | Valid Accs: 1.00000 | Time: 70.32 seconds\n",
      "Epoch: 20 | Train Loss: 0.00067 | Valid Loss: 0.00064 | Train Accs: 1.00000 | Valid Accs: 1.00000 | Time: 68.70 seconds\n",
      "\n",
      "**************************************************\n",
      "\n",
      "Best Validation Loss at Epoch 19\n",
      "\n",
      "**************************************************\n",
      "\n",
      "Best Validation Accs at Epoch 14\n",
      "\n",
      "**************************************************\n",
      "\n",
      "Time Taken [20 Epochs] : 23.20 minutes\n",
      "\n",
      "**************************************************\n",
      "\n"
     ]
    },
    {
     "data": {
      "image/png": "[encoded data removed]",
      "text/plain": [
       "<Figure size 576x432 with 2 Axes>"
      ]
     },
     "metadata": {
      "needs_background": "light"
     },
     "output_type": "display_data"
    },
    {
     "name": "stdout",
     "output_type": "stream",
     "text": [
      "\n",
      "**************************************************\n",
      "\n",
      "Training Fold 5...\n",
      "\n",
      "**************************************************\n",
      "\n",
      "Epoch: 1 | Train Loss: 0.27249 | Valid Loss: 0.02652 | Train Accs: 0.95863 | Valid Accs: 0.99646 | Time: 69.61 seconds\n",
      "Epoch: 2 | Train Loss: 0.03800 | Valid Loss: 0.01518 | Train Accs: 0.99137 | Valid Accs: 0.99646 | Time: 70.05 seconds\n",
      "Epoch: 3 | Train Loss: 0.04399 | Valid Loss: 0.10664 | Train Accs: 0.98482 | Valid Accs: 0.95755 | Time: 69.10 seconds\n",
      "Epoch: 4 | Train Loss: 0.04168 | Valid Loss: 0.01306 | Train Accs: 0.98631 | Valid Accs: 0.99764 | Time: 69.71 seconds\n",
      "Epoch: 5 | Train Loss: 0.03119 | Valid Loss: 0.03118 | Train Accs: 0.99167 | Valid Accs: 0.99175 | Time: 69.27 seconds\n",
      "Epoch: 6 | Train Loss: 0.03185 | Valid Loss: 0.02058 | Train Accs: 0.99345 | Valid Accs: 0.99410 | Time: 69.55 seconds\n",
      "Epoch: 7 | Train Loss: 0.02322 | Valid Loss: 0.07004 | Train Accs: 0.99226 | Valid Accs: 0.97288 | Time: 69.91 seconds\n",
      "Epoch: 8 | Train Loss: 0.03190 | Valid Loss: 0.01075 | Train Accs: 0.99226 | Valid Accs: 0.99764 | Time: 69.92 seconds\n",
      "Epoch: 9 | Train Loss: 0.01002 | Valid Loss: 0.01243 | Train Accs: 0.99702 | Valid Accs: 0.99646 | Time: 69.56 seconds\n",
      "Epoch: 10 | Train Loss: 0.01036 | Valid Loss: 0.01160 | Train Accs: 0.99673 | Valid Accs: 0.99646 | Time: 68.85 seconds\n",
      "Epoch: 11 | Train Loss: 0.00943 | Valid Loss: 0.00795 | Train Accs: 0.99702 | Valid Accs: 0.99764 | Time: 69.73 seconds\n",
      "Epoch: 12 | Train Loss: 0.00958 | Valid Loss: 0.00587 | Train Accs: 0.99702 | Valid Accs: 0.99882 | Time: 69.64 seconds\n",
      "Epoch: 13 | Train Loss: 0.00391 | Valid Loss: 0.00556 | Train Accs: 0.99940 | Valid Accs: 0.99882 | Time: 69.81 seconds\n",
      "Epoch: 14 | Train Loss: 0.00262 | Valid Loss: 0.00299 | Train Accs: 0.99940 | Valid Accs: 0.99764 | Time: 69.58 seconds\n",
      "Epoch: 15 | Train Loss: 0.00095 | Valid Loss: 0.00194 | Train Accs: 1.00000 | Valid Accs: 1.00000 | Time: 69.66 seconds\n",
      "Epoch: 16 | Train Loss: 0.00119 | Valid Loss: 0.00497 | Train Accs: 0.99970 | Valid Accs: 0.99764 | Time: 69.50 seconds\n",
      "Epoch: 17 | Train Loss: 0.00087 | Valid Loss: 0.00217 | Train Accs: 1.00000 | Valid Accs: 0.99882 | Time: 69.37 seconds\n",
      "Epoch: 18 | Train Loss: 0.00079 | Valid Loss: 0.00208 | Train Accs: 1.00000 | Valid Accs: 1.00000 | Time: 69.48 seconds\n",
      "Epoch: 19 | Train Loss: 0.00046 | Valid Loss: 0.00245 | Train Accs: 1.00000 | Valid Accs: 0.99882 | Time: 69.42 seconds\n",
      "Epoch: 20 | Train Loss: 0.00053 | Valid Loss: 0.00246 | Train Accs: 1.00000 | Valid Accs: 0.99764 | Time: 69.47 seconds\n",
      "\n",
      "**************************************************\n",
      "\n",
      "Best Validation Loss at Epoch 15\n",
      "\n",
      "**************************************************\n",
      "\n",
      "Best Validation Accs at Epoch 15\n",
      "\n",
      "**************************************************\n",
      "\n",
      "Time Taken [20 Epochs] : 23.19 minutes\n",
      "\n",
      "**************************************************\n",
      "\n"
     ]
    },
    {
     "data": {
      "image/png": "[encoded data removed]",
      "text/plain": [
       "<Figure size 576x432 with 2 Axes>"
      ]
     },
     "metadata": {
      "needs_background": "light"
     },
     "output_type": "display_data"
    }
   ],
   "source": [
    "fold = 1\n",
    "BLEs, BAEs = [], []\n",
    "\n",
    "for tr_idx, va_idx in KFold(n_splits=cfg.n_splits, random_state=cfg.seed, shuffle=True).split(images):\n",
    "    tr_images, va_images, tr_labels, va_labels = images[tr_idx], images[va_idx], labels[tr_idx], labels[va_idx]\n",
    "\n",
    "    tr_data_setup = DS(tr_images, tr_labels.reshape(-1, 1), cfg.transform)\n",
    "    va_data_setup = DS(va_images, va_labels.reshape(-1, 1), cfg.transform)\n",
    "\n",
    "    dataloaders = {\n",
    "        \"train\" : DL(tr_data_setup, batch_size=cfg.batch_size, shuffle=True, generator=torch.manual_seed(cfg.seed)),\n",
    "        \"valid\" : DL(va_data_setup, batch_size=cfg.batch_size, shuffle=False),\n",
    "    }\n",
    "\n",
    "    cfg = CFG(epochs=20, lr=1e-3, wd=0.0, batch_size=16, steps_per_epoch=len(dataloaders[\"train\"]))\n",
    "\n",
    "    torch.manual_seed(cfg.seed)\n",
    "    model = Model().to(cfg.device)\n",
    "    optimizer = optim.Adam([p for p in model.parameters() if p.requires_grad], lr=cfg.lr, weight_decay=cfg.wd)\n",
    "    scheduler = optim.lr_scheduler.OneCycleLR(optimizer=optimizer, \n",
    "                                              max_lr=cfg.max_lr, \n",
    "                                              epochs=cfg.epochs, \n",
    "                                              steps_per_epoch=cfg.steps_per_epoch,\n",
    "                                              pct_start=cfg.pct_start, \n",
    "                                              div_factor=cfg.div_factor, \n",
    "                                              final_div_factor=cfg.final_div_factor)\n",
    "    # scheduler = None\n",
    "\n",
    "    L, A, LRs, BLE, BAE, name = fit(model=model, \n",
    "                                    optimizer=optimizer, \n",
    "                                    scheduler=scheduler, \n",
    "                                    epochs=cfg.epochs, \n",
    "                                    early_stopping_patience=cfg.early_stopping, \n",
    "                                    dataloaders=dataloaders, \n",
    "                                    device=cfg.device,\n",
    "                                    save_path=cfg.save_path,\n",
    "                                    fold = fold,\n",
    "                                    verbose=True)\n",
    "\n",
    "    breaker()\n",
    "    show_graphs(L, A)\n",
    "    \n",
    "    BLEs.append(BLE)\n",
    "    BAEs.append(BAE)\n",
    "\n",
    "    fold += 1\n",
    "    \n",
    "#     del tr_images, va_images, \\\n",
    "#         tr_labels, va_labels, \\\n",
    "#         tr_data_setup, va_data_setup, \\\n",
    "#         dataloaders, model\n",
    "    \n",
    "#     gc.collect()\n",
    "#     torch.cuda.empty_cache()\n",
    "    \n",
    "#     sleep(30)"
   ]
  },
  {
   "cell_type": "markdown",
   "id": "b7372406",
   "metadata": {
    "papermill": {
     "duration": 0.049775,
     "end_time": "2022-04-20T08:46:34.184325",
     "exception": false,
     "start_time": "2022-04-20T08:46:34.134550",
     "status": "completed"
    },
    "tags": []
   },
   "source": [
    "### **Predictions**"
   ]
  },
  {
   "cell_type": "code",
   "execution_count": 9,
   "id": "9525acbc",
   "metadata": {
    "execution": {
     "iopub.execute_input": "2022-04-20T08:46:34.285664Z",
     "iopub.status.busy": "2022-04-20T08:46:34.285443Z",
     "iopub.status.idle": "2022-04-20T08:46:34.291259Z",
     "shell.execute_reply": "2022-04-20T08:46:34.290458Z"
    },
    "papermill": {
     "duration": 0.059588,
     "end_time": "2022-04-20T08:46:34.293833",
     "exception": false,
     "start_time": "2022-04-20T08:46:34.234245",
     "status": "completed"
    },
    "tags": []
   },
   "outputs": [
    {
     "name": "stdout",
     "output_type": "stream",
     "text": [
      "\n",
      "**************************************************\n",
      "\n",
      "Best Fold : 1\n",
      "\n",
      "**************************************************\n",
      "\n"
     ]
    }
   ],
   "source": [
    "# test_images = np.load(f\"../input/chest-x-rays-images/test_images_{SIZE}.npy\")\n",
    "# test_labels = np.load(f\"../input/chest-x-rays-images/test_targets_{SIZE}.npy\")\n",
    "\n",
    "# ts_data_setup = DS(test_images, None, cfg.transform)\n",
    "# ts_data = DL(ts_data_setup, batch_size=cfg.batch_size, shuffle=False)\n",
    "\n",
    "best_fold = BLEs.index(min(BLEs)) + 1\n",
    "# model_path = f\"saves/state_fold_{best_fold}.pt\"\n",
    "# y_pred = predict(model=Model().to(cfg.device), dataloader=ts_data, path=model_path, device=cfg.device)\n",
    "\n",
    "# accuracy, auc, precision, recall, f_score = get_scores(test_labels, y_pred)\n",
    "\n",
    "breaker()\n",
    "print(f\"Best Fold : {best_fold}\")\n",
    "breaker()\n",
    "# print_scores(accuracy, auc, precision, recall, f_score)\n",
    "# breaker()\n",
    "# print(classification_report(test_labels, y_pred))\n",
    "# breaker()\n",
    "# print(confusion_matrix(test_labels, y_pred))\n",
    "# breaker()"
   ]
  }
 ],
 "metadata": {
  "kernelspec": {
   "display_name": "Python 3",
   "language": "python",
   "name": "python3"
  },
  "language_info": {
   "codemirror_mode": {
    "name": "ipython",
    "version": 3
   },
   "file_extension": ".py",
   "mimetype": "text/x-python",
   "name": "python",
   "nbconvert_exporter": "python",
   "pygments_lexer": "ipython3",
   "version": "3.7.12"
  },
  "papermill": {
   "default_parameters": {},
   "duration": 6637.980814,
   "end_time": "2022-04-20T08:46:36.650037",
   "environment_variables": {},
   "exception": null,
   "input_path": "__notebook__.ipynb",
   "output_path": "__notebook__.ipynb",
   "parameters": {},
   "start_time": "2022-04-20T06:55:58.669223",
   "version": "2.3.4"
  },
  "widgets": {
   "application/vnd.jupyter.widget-state+json": {
    "state": {
     "03149e15e2854347b9d239ab9082f28c": {
      "model_module": "@jupyter-widgets/controls",
      "model_module_version": "1.5.0",
      "model_name": "FloatProgressModel",
      "state": {
       "_dom_classes": [],
       "_model_module": "@jupyter-widgets/controls",
       "_model_module_version": "1.5.0",
       "_model_name": "FloatProgressModel",
       "_view_count": null,
       "_view_module": "@jupyter-widgets/controls",
       "_view_module_version": "1.5.0",
       "_view_name": "ProgressView",
       "bar_style": "success",
       "description": "",
       "description_tooltip": null,
       "layout": "IPY_MODEL_66dfce5febdd42728bbf9cea99a7bf99",
       "max": 32342954.0,
       "min": 0.0,
       "orientation": "horizontal",
       "style": "IPY_MODEL_a9dda86fc126466099c602c20dd92123",
       "value": 32342954.0
      }
     },
     "0f635c0436444d44aad23e87d76aacc3": {
      "model_module": "@jupyter-widgets/controls",
      "model_module_version": "1.5.0",
      "model_name": "DescriptionStyleModel",
      "state": {
       "_model_module": "@jupyter-widgets/controls",
       "_model_module_version": "1.5.0",
       "_model_name": "DescriptionStyleModel",
       "_view_count": null,
       "_view_module": "@jupyter-widgets/base",
       "_view_module_version": "1.2.0",
       "_view_name": "StyleView",
       "description_width": ""
      }
     },
     "3ac724856a584e1a8f44010706f05bdc": {
      "model_module": "@jupyter-widgets/controls",
      "model_module_version": "1.5.0",
      "model_name": "HTMLModel",
      "state": {
       "_dom_classes": [],
       "_model_module": "@jupyter-widgets/controls",
       "_model_module_version": "1.5.0",
       "_model_name": "HTMLModel",
       "_view_count": null,
       "_view_module": "@jupyter-widgets/controls",
       "_view_module_version": "1.5.0",
       "_view_name": "HTMLView",
       "description": "",
       "description_tooltip": null,
       "layout": "IPY_MODEL_9d24a0721e4b43148c48ac94deda16dc",
       "placeholder": "​",
       "style": "IPY_MODEL_5187cbe963ca42a2a9a5cd4a11989ba9",
       "value": " 30.8M/30.8M [00:02&lt;00:00, 24.9MB/s]"
      }
     },
     "5187cbe963ca42a2a9a5cd4a11989ba9": {
      "model_module": "@jupyter-widgets/controls",
      "model_module_version": "1.5.0",
      "model_name": "DescriptionStyleModel",
      "state": {
       "_model_module": "@jupyter-widgets/controls",
       "_model_module_version": "1.5.0",
       "_model_name": "DescriptionStyleModel",
       "_view_count": null,
       "_view_module": "@jupyter-widgets/base",
       "_view_module_version": "1.2.0",
       "_view_name": "StyleView",
       "description_width": ""
      }
     },
     "546e8bcb0a8d47ea9dd7df72f764907d": {
      "model_module": "@jupyter-widgets/base",
      "model_module_version": "1.2.0",
      "model_name": "LayoutModel",
      "state": {
       "_model_module": "@jupyter-widgets/base",
       "_model_module_version": "1.2.0",
       "_model_name": "LayoutModel",
       "_view_count": null,
       "_view_module": "@jupyter-widgets/base",
       "_view_module_version": "1.2.0",
       "_view_name": "LayoutView",
       "align_content": null,
       "align_items": null,
       "align_self": null,
       "border": null,
       "bottom": null,
       "display": null,
       "flex": null,
       "flex_flow": null,
       "grid_area": null,
       "grid_auto_columns": null,
       "grid_auto_flow": null,
       "grid_auto_rows": null,
       "grid_column": null,
       "grid_gap": null,
       "grid_row": null,
       "grid_template_areas": null,
       "grid_template_columns": null,
       "grid_template_rows": null,
       "height": null,
       "justify_content": null,
       "justify_items": null,
       "left": null,
       "margin": null,
       "max_height": null,
       "max_width": null,
       "min_height": null,
       "min_width": null,
       "object_fit": null,
       "object_position": null,
       "order": null,
       "overflow": null,
       "overflow_x": null,
       "overflow_y": null,
       "padding": null,
       "right": null,
       "top": null,
       "visibility": null,
       "width": null
      }
     },
     "66dfce5febdd42728bbf9cea99a7bf99": {
      "model_module": "@jupyter-widgets/base",
      "model_module_version": "1.2.0",
      "model_name": "LayoutModel",
      "state": {
       "_model_module": "@jupyter-widgets/base",
       "_model_module_version": "1.2.0",
       "_model_name": "LayoutModel",
       "_view_count": null,
       "_view_module": "@jupyter-widgets/base",
       "_view_module_version": "1.2.0",
       "_view_name": "LayoutView",
       "align_content": null,
       "align_items": null,
       "align_self": null,
       "border": null,
       "bottom": null,
       "display": null,
       "flex": null,
       "flex_flow": null,
       "grid_area": null,
       "grid_auto_columns": null,
       "grid_auto_flow": null,
       "grid_auto_rows": null,
       "grid_column": null,
       "grid_gap": null,
       "grid_row": null,
       "grid_template_areas": null,
       "grid_template_columns": null,
       "grid_template_rows": null,
       "height": null,
       "justify_content": null,
       "justify_items": null,
       "left": null,
       "margin": null,
       "max_height": null,
       "max_width": null,
       "min_height": null,
       "min_width": null,
       "object_fit": null,
       "object_position": null,
       "order": null,
       "overflow": null,
       "overflow_x": null,
       "overflow_y": null,
       "padding": null,
       "right": null,
       "top": null,
       "visibility": null,
       "width": null
      }
     },
     "76af18859b544e14b16a3463d6f919fe": {
      "model_module": "@jupyter-widgets/base",
      "model_module_version": "1.2.0",
      "model_name": "LayoutModel",
      "state": {
       "_model_module": "@jupyter-widgets/base",
       "_model_module_version": "1.2.0",
       "_model_name": "LayoutModel",
       "_view_count": null,
       "_view_module": "@jupyter-widgets/base",
       "_view_module_version": "1.2.0",
       "_view_name": "LayoutView",
       "align_content": null,
       "align_items": null,
       "align_self": null,
       "border": null,
       "bottom": null,
       "display": null,
       "flex": null,
       "flex_flow": null,
       "grid_area": null,
       "grid_auto_columns": null,
       "grid_auto_flow": null,
       "grid_auto_rows": null,
       "grid_column": null,
       "grid_gap": null,
       "grid_row": null,
       "grid_template_areas": null,
       "grid_template_columns": null,
       "grid_template_rows": null,
       "height": null,
       "justify_content": null,
       "justify_items": null,
       "left": null,
       "margin": null,
       "max_height": null,
       "max_width": null,
       "min_height": null,
       "min_width": null,
       "object_fit": null,
       "object_position": null,
       "order": null,
       "overflow": null,
       "overflow_x": null,
       "overflow_y": null,
       "padding": null,
       "right": null,
       "top": null,
       "visibility": null,
       "width": null
      }
     },
     "9d24a0721e4b43148c48ac94deda16dc": {
      "model_module": "@jupyter-widgets/base",
      "model_module_version": "1.2.0",
      "model_name": "LayoutModel",
      "state": {
       "_model_module": "@jupyter-widgets/base",
       "_model_module_version": "1.2.0",
       "_model_name": "LayoutModel",
       "_view_count": null,
       "_view_module": "@jupyter-widgets/base",
       "_view_module_version": "1.2.0",
       "_view_name": "LayoutView",
       "align_content": null,
       "align_items": null,
       "align_self": null,
       "border": null,
       "bottom": null,
       "display": null,
       "flex": null,
       "flex_flow": null,
       "grid_area": null,
       "grid_auto_columns": null,
       "grid_auto_flow": null,
       "grid_auto_rows": null,
       "grid_column": null,
       "grid_gap": null,
       "grid_row": null,
       "grid_template_areas": null,
       "grid_template_columns": null,
       "grid_template_rows": null,
       "height": null,
       "justify_content": null,
       "justify_items": null,
       "left": null,
       "margin": null,
       "max_height": null,
       "max_width": null,
       "min_height": null,
       "min_width": null,
       "object_fit": null,
       "object_position": null,
       "order": null,
       "overflow": null,
       "overflow_x": null,
       "overflow_y": null,
       "padding": null,
       "right": null,
       "top": null,
       "visibility": null,
       "width": null
      }
     },
     "a9dda86fc126466099c602c20dd92123": {
      "model_module": "@jupyter-widgets/controls",
      "model_module_version": "1.5.0",
      "model_name": "ProgressStyleModel",
      "state": {
       "_model_module": "@jupyter-widgets/controls",
       "_model_module_version": "1.5.0",
       "_model_name": "ProgressStyleModel",
       "_view_count": null,
       "_view_module": "@jupyter-widgets/base",
       "_view_module_version": "1.2.0",
       "_view_name": "StyleView",
       "bar_color": null,
       "description_width": ""
      }
     },
     "b7ec86b05e3a4a468194c718238377cd": {
      "model_module": "@jupyter-widgets/controls",
      "model_module_version": "1.5.0",
      "model_name": "HBoxModel",
      "state": {
       "_dom_classes": [],
       "_model_module": "@jupyter-widgets/controls",
       "_model_module_version": "1.5.0",
       "_model_name": "HBoxModel",
       "_view_count": null,
       "_view_module": "@jupyter-widgets/controls",
       "_view_module_version": "1.5.0",
       "_view_name": "HBoxView",
       "box_style": "",
       "children": [
        "IPY_MODEL_be6b2d508d5e434d8dc52f2ba6c1ad3a",
        "IPY_MODEL_03149e15e2854347b9d239ab9082f28c",
        "IPY_MODEL_3ac724856a584e1a8f44010706f05bdc"
       ],
       "layout": "IPY_MODEL_546e8bcb0a8d47ea9dd7df72f764907d"
      }
     },
     "be6b2d508d5e434d8dc52f2ba6c1ad3a": {
      "model_module": "@jupyter-widgets/controls",
      "model_module_version": "1.5.0",
      "model_name": "HTMLModel",
      "state": {
       "_dom_classes": [],
       "_model_module": "@jupyter-widgets/controls",
       "_model_module_version": "1.5.0",
       "_model_name": "HTMLModel",
       "_view_count": null,
       "_view_module": "@jupyter-widgets/controls",
       "_view_module_version": "1.5.0",
       "_view_name": "HTMLView",
       "description": "",
       "description_tooltip": null,
       "layout": "IPY_MODEL_76af18859b544e14b16a3463d6f919fe",
       "placeholder": "​",
       "style": "IPY_MODEL_0f635c0436444d44aad23e87d76aacc3",
       "value": "100%"
      }
     }
    },
    "version_major": 2,
    "version_minor": 0
   }
  }
 },
 "nbformat": 4,
 "nbformat_minor": 5
}
