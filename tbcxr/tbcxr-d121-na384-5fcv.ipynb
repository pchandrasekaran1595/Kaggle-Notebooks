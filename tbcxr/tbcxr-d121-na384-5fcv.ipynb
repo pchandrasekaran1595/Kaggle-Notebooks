{
 "cells": [
  {
   "cell_type": "markdown",
   "id": "b4c104af",
   "metadata": {
    "_cell_guid": "b1076dfc-b9ad-4769-8c92-a6c4dae69d19",
    "_uuid": "8f2839f25d086af736a60e9eeb907d3b93b6e0e5",
    "papermill": {
     "duration": 0.022956,
     "end_time": "2022-04-25T08:18:21.544989",
     "exception": false,
     "start_time": "2022-04-25T08:18:21.522033",
     "status": "completed"
    },
    "tags": []
   },
   "source": [
    "### Library Imports"
   ]
  },
  {
   "cell_type": "code",
   "execution_count": 1,
   "id": "47c0fdd7",
   "metadata": {
    "execution": {
     "iopub.execute_input": "2022-04-25T08:18:21.594189Z",
     "iopub.status.busy": "2022-04-25T08:18:21.593781Z",
     "iopub.status.idle": "2022-04-25T08:18:24.061800Z",
     "shell.execute_reply": "2022-04-25T08:18:24.061087Z"
    },
    "papermill": {
     "duration": 2.492869,
     "end_time": "2022-04-25T08:18:24.064048",
     "exception": false,
     "start_time": "2022-04-25T08:18:21.571179",
     "status": "completed"
    },
    "tags": []
   },
   "outputs": [],
   "source": [
    "import os\n",
    "import re\n",
    "import gc\n",
    "import torch\n",
    "import numpy as np\n",
    "import pandas as pd\n",
    "import matplotlib.pyplot as plt\n",
    "\n",
    "from time import time, sleep\n",
    "from torch import nn, optim\n",
    "from torch.utils.data import Dataset\n",
    "from torch.utils.data import DataLoader as DL\n",
    "from torchvision import models, transforms\n",
    "\n",
    "from sklearn.model_selection import KFold\n",
    "# from sklearn.preprocessing import LabelEncoder\n",
    "# from sklearn.metrics import accuracy_score, \\\n",
    "#                             precision_recall_fscore_support, \\\n",
    "#                             roc_auc_score, \\\n",
    "#                             classification_report, \\\n",
    "#                             confusion_matrix"
   ]
  },
  {
   "cell_type": "markdown",
   "id": "3bd50e76",
   "metadata": {
    "papermill": {
     "duration": 0.012497,
     "end_time": "2022-04-25T08:18:24.089434",
     "exception": false,
     "start_time": "2022-04-25T08:18:24.076937",
     "status": "completed"
    },
    "tags": []
   },
   "source": [
    "### **Utilities**"
   ]
  },
  {
   "cell_type": "code",
   "execution_count": 2,
   "id": "9c2b6acd",
   "metadata": {
    "execution": {
     "iopub.execute_input": "2022-04-25T08:18:24.115776Z",
     "iopub.status.busy": "2022-04-25T08:18:24.115113Z",
     "iopub.status.idle": "2022-04-25T08:18:24.127769Z",
     "shell.execute_reply": "2022-04-25T08:18:24.127146Z"
    },
    "papermill": {
     "duration": 0.027663,
     "end_time": "2022-04-25T08:18:24.129508",
     "exception": false,
     "start_time": "2022-04-25T08:18:24.101845",
     "status": "completed"
    },
    "tags": []
   },
   "outputs": [],
   "source": [
    "SEED = 42\n",
    "SIZE = 384\n",
    "\n",
    "def breaker(num: int=50, char: str=\"*\") -> None:\n",
    "    print(\"\\n\" + num*char + \"\\n\")\n",
    "\n",
    "\n",
    "def show_graphs(L: list, A: list) -> None:\n",
    "    TL, VL, TA, VA = [], [], [], []\n",
    "    for i in range(len(L)):\n",
    "        TL.append(L[i][\"train\"])\n",
    "        VL.append(L[i][\"valid\"])\n",
    "        TA.append(A[i][\"train\"])\n",
    "        VA.append(A[i][\"valid\"])\n",
    "    x_Axis = np.arange(1, len(TL) + 1)\n",
    "    plt.figure(figsize=(8, 6))\n",
    "    plt.subplot(1, 2, 1)\n",
    "    plt.plot(x_Axis, TL, \"r\", label=\"Train\")\n",
    "    plt.plot(x_Axis, VL, \"b\", label=\"Valid\")\n",
    "    plt.legend()\n",
    "    plt.grid()\n",
    "    plt.title(\"Loss Graph\")\n",
    "    plt.subplot(1, 2, 2)\n",
    "    plt.plot(x_Axis, TA, \"r\", label=\"Train\")\n",
    "    plt.plot(x_Axis, VA, \"b\", label=\"Valid\")\n",
    "    plt.legend()\n",
    "    plt.grid()\n",
    "    plt.title(\"Accuracy Graph\")\n",
    "    plt.show()\n",
    "\n",
    "    \n",
    "def get_scores(y_true: np.ndarray, y_pred: np.ndarray) -> tuple:\n",
    "    accuracy = accuracy_score(y_pred, y_true)\n",
    "    try:\n",
    "        auc = roc_auc_score(y_pred, y_true)\n",
    "    except:\n",
    "        auc = 0\n",
    "    precision, recall, f_score, _ = precision_recall_fscore_support(y_pred, y_true)\n",
    "\n",
    "    return accuracy, auc, precision, recall, f_score\n",
    "\n",
    "\n",
    "def print_scores(accuracy: float, auc: float, precision: np.ndarray, recall: np.ndarray, f_score: np.ndarray) -> None:\n",
    "    print(f\"Accuracy  : {accuracy:.5f}\")\n",
    "    print(f\"ROC-AUC   : {auc:.5f}\")\n",
    "    print(f\"Precision : {precision}\")\n",
    "    print(f\"Recall    : {recall}\")\n",
    "    print(f\"F-Score   : {f_score}\")"
   ]
  },
  {
   "cell_type": "markdown",
   "id": "7683c2e7",
   "metadata": {
    "papermill": {
     "duration": 0.012264,
     "end_time": "2022-04-25T08:18:24.154126",
     "exception": false,
     "start_time": "2022-04-25T08:18:24.141862",
     "status": "completed"
    },
    "tags": []
   },
   "source": [
    "### **Configuration**"
   ]
  },
  {
   "cell_type": "code",
   "execution_count": 3,
   "id": "c1bd4db7",
   "metadata": {
    "execution": {
     "iopub.execute_input": "2022-04-25T08:18:24.180192Z",
     "iopub.status.busy": "2022-04-25T08:18:24.180002Z",
     "iopub.status.idle": "2022-04-25T08:18:24.247705Z",
     "shell.execute_reply": "2022-04-25T08:18:24.247032Z"
    },
    "papermill": {
     "duration": 0.082709,
     "end_time": "2022-04-25T08:18:24.249318",
     "exception": false,
     "start_time": "2022-04-25T08:18:24.166609",
     "status": "completed"
    },
    "tags": []
   },
   "outputs": [],
   "source": [
    "class CFG(object):\n",
    "    def __init__(self, \n",
    "                 seed: int = 42,\n",
    "                 n_splits: int = 5,\n",
    "                 batch_size: int = 16,\n",
    "                 epochs: int = 25,\n",
    "                 early_stopping: int = 5,\n",
    "                 lr: float = 1e-4,\n",
    "                 wd: float = 0.0,\n",
    "                 max_lr: float = 1e-3,\n",
    "                 pct_start: float = 0.2,\n",
    "                 steps_per_epoch: int = 100,\n",
    "                 div_factor: int = 1e3, \n",
    "                 final_div_factor: float = 1e3,\n",
    "                 ):\n",
    "        \n",
    "        self.seed = seed\n",
    "        self.n_splits = n_splits\n",
    "        self.batch_size = batch_size\n",
    "        self.epochs = epochs\n",
    "        self.early_stopping = early_stopping\n",
    "        self.lr = lr\n",
    "        self.wd = wd\n",
    "        self.max_lr = max_lr\n",
    "        self.pct_start = pct_start\n",
    "        self.steps_per_epoch = steps_per_epoch\n",
    "        self.div_factor = div_factor\n",
    "        self.final_div_factor = final_div_factor\n",
    "        self.device = torch.device(\"cuda\" if torch.cuda.is_available() else \"cpu\")\n",
    "        self.transform = transforms.Compose([transforms.ToTensor(),\n",
    "                                transforms.Normalize([0.50122, 0.50962, 0.51243],\n",
    "                                                     [0.25932, 0.25939, 0.26068]),\n",
    "                                ])\n",
    "        self.save_path = \"saves\"\n",
    "        if not os.path.exists(self.save_path): os.makedirs(self.save_path)\n",
    "    \n",
    "cfg = CFG(seed=SEED)"
   ]
  },
  {
   "cell_type": "markdown",
   "id": "889c2aa8",
   "metadata": {
    "papermill": {
     "duration": 0.012561,
     "end_time": "2022-04-25T08:18:24.274630",
     "exception": false,
     "start_time": "2022-04-25T08:18:24.262069",
     "status": "completed"
    },
    "tags": []
   },
   "source": [
    "### **Dataset Template**"
   ]
  },
  {
   "cell_type": "code",
   "execution_count": 4,
   "id": "56da07fc",
   "metadata": {
    "execution": {
     "iopub.execute_input": "2022-04-25T08:18:24.301839Z",
     "iopub.status.busy": "2022-04-25T08:18:24.301281Z",
     "iopub.status.idle": "2022-04-25T08:18:24.307431Z",
     "shell.execute_reply": "2022-04-25T08:18:24.306635Z"
    },
    "papermill": {
     "duration": 0.021983,
     "end_time": "2022-04-25T08:18:24.309402",
     "exception": false,
     "start_time": "2022-04-25T08:18:24.287419",
     "status": "completed"
    },
    "tags": []
   },
   "outputs": [],
   "source": [
    "class DS(Dataset):\n",
    "    def __init__(self, images: np.ndarray, labels: np.ndarray = None, transform=None):\n",
    "        self.images = images\n",
    "        self.labels = labels\n",
    "        self.transform = transform\n",
    "    \n",
    "    def __len__(self):\n",
    "        return self.images.shape[0]\n",
    "    \n",
    "    def __getitem__(self, idx):\n",
    "        if self.labels is not None:\n",
    "            return self.transform(self.images[idx]), torch.FloatTensor(self.labels[idx])\n",
    "        else:\n",
    "            return self.transform(self.images[idx])"
   ]
  },
  {
   "cell_type": "markdown",
   "id": "c869cb2b",
   "metadata": {
    "papermill": {
     "duration": 0.013901,
     "end_time": "2022-04-25T08:18:24.336224",
     "exception": false,
     "start_time": "2022-04-25T08:18:24.322323",
     "status": "completed"
    },
    "tags": []
   },
   "source": [
    "### **Model**"
   ]
  },
  {
   "cell_type": "code",
   "execution_count": 5,
   "id": "46f9162a",
   "metadata": {
    "execution": {
     "iopub.execute_input": "2022-04-25T08:18:24.362351Z",
     "iopub.status.busy": "2022-04-25T08:18:24.362116Z",
     "iopub.status.idle": "2022-04-25T08:18:24.367428Z",
     "shell.execute_reply": "2022-04-25T08:18:24.366632Z"
    },
    "papermill": {
     "duration": 0.020804,
     "end_time": "2022-04-25T08:18:24.369367",
     "exception": false,
     "start_time": "2022-04-25T08:18:24.348563",
     "status": "completed"
    },
    "tags": []
   },
   "outputs": [],
   "source": [
    "class Model(nn.Module):\n",
    "    def __init__(self):\n",
    "        super(Model, self).__init__()\n",
    "\n",
    "        self.model = models.densenet121(pretrained=True, progress=True)\n",
    "        self.model.classifier = nn.Linear(in_features=self.model.classifier.in_features, out_features=1)\n",
    "\n",
    "    def forward(self, x):\n",
    "        return self.model(x)"
   ]
  },
  {
   "cell_type": "markdown",
   "id": "4aa1eae0",
   "metadata": {
    "papermill": {
     "duration": 0.012372,
     "end_time": "2022-04-25T08:18:24.394196",
     "exception": false,
     "start_time": "2022-04-25T08:18:24.381824",
     "status": "completed"
    },
    "tags": []
   },
   "source": [
    "### Fit and Predict Helper"
   ]
  },
  {
   "cell_type": "code",
   "execution_count": 6,
   "id": "94b92a6a",
   "metadata": {
    "execution": {
     "iopub.execute_input": "2022-04-25T08:18:24.420869Z",
     "iopub.status.busy": "2022-04-25T08:18:24.420633Z",
     "iopub.status.idle": "2022-04-25T08:18:24.444745Z",
     "shell.execute_reply": "2022-04-25T08:18:24.444006Z"
    },
    "papermill": {
     "duration": 0.039678,
     "end_time": "2022-04-25T08:18:24.446382",
     "exception": false,
     "start_time": "2022-04-25T08:18:24.406704",
     "status": "completed"
    },
    "tags": []
   },
   "outputs": [],
   "source": [
    "def fit(model=None, \n",
    "        optimizer=None, \n",
    "        scheduler=None, \n",
    "        epochs=None, \n",
    "        early_stopping_patience=None, \n",
    "        dataloaders=None, \n",
    "        fold=None, \n",
    "        save_path=None, \n",
    "        device=None,\n",
    "        verbose=False) -> tuple:\n",
    "    \n",
    "    def get_accuracy(y_pred, y_true):\n",
    "        y_pred = torch.sigmoid(y_pred)\n",
    "        \n",
    "        y_pred[y_pred > 0.5] = 1\n",
    "        y_pred[y_pred <= 0.5] = 0\n",
    "        \n",
    "        return torch.count_nonzero(y_pred == y_true).item() / len(y_pred)\n",
    "    \n",
    "    if verbose:\n",
    "        breaker()\n",
    "        if fold: print(f\"Training Fold {fold}...\")\n",
    "        else: print(\"Training ...\")\n",
    "        breaker()\n",
    "        \n",
    "    bestLoss, bestAccs = {\"train\" : np.inf, \"valid\" : np.inf}, {\"train\" : 0.0, \"valid\" : 0.0}\n",
    "    Losses, LRs, Accuracies = [], [], []\n",
    "    if fold: name = f\"state_fold_{fold}.pt\"\n",
    "    else: name = \"state.pt\"\n",
    "\n",
    "    start_time = time()\n",
    "    for e in range(epochs):\n",
    "        e_st = time()\n",
    "        epochLoss, epochAccs = {\"train\" : 0.0, \"valid\" : 0.0}, {\"train\" : 0.0, \"valid\" : 0.0}\n",
    "\n",
    "        for phase in [\"train\", \"valid\"]:\n",
    "            if phase == \"train\":\n",
    "                model.train()\n",
    "            else:\n",
    "                model.eval()\n",
    "            \n",
    "            lossPerPass, accsPerPass = [], []\n",
    "\n",
    "            for X, y in dataloaders[phase]:\n",
    "                X, y = X.to(device), y.to(device)\n",
    "\n",
    "                optimizer.zero_grad()\n",
    "                with torch.set_grad_enabled(phase == \"train\"):\n",
    "                    output = model(X)\n",
    "                    loss = torch.nn.BCEWithLogitsLoss()(output, y)\n",
    "                    if phase == \"train\":\n",
    "                        loss.backward()\n",
    "                        optimizer.step()\n",
    "                        if scheduler: scheduler.step()\n",
    "                lossPerPass.append(loss.item())\n",
    "                accsPerPass.append(get_accuracy(output, y))\n",
    "            epochLoss[phase] = np.mean(np.array(lossPerPass))\n",
    "            epochAccs[phase] = np.mean(np.array(accsPerPass))\n",
    "        LRs.append(scheduler.get_last_lr())\n",
    "        Losses.append(epochLoss)\n",
    "        Accuracies.append(epochAccs)\n",
    "        \n",
    "        if early_stopping_patience:\n",
    "            if epochLoss[\"valid\"] < bestLoss[\"valid\"]:\n",
    "                bestLoss = epochLoss\n",
    "                BLE = e + 1\n",
    "                torch.save({\"model_state_dict\"     : model.state_dict(),\n",
    "                            \"optim_state_dict\"     : optimizer.state_dict()},\n",
    "                           os.path.join(save_path, name))\n",
    "                early_stopping_step = 0\n",
    "            else:\n",
    "                early_stopping_step += 1\n",
    "                if early_stopping_step > early_stopping_patience:\n",
    "                    print(\"\\nEarly Stopping at Epoch {}\".format(e + 1))\n",
    "                    break\n",
    "        \n",
    "        if epochLoss[\"valid\"] < bestLoss[\"valid\"]:\n",
    "            bestLoss = epochLoss\n",
    "            BLE = e + 1\n",
    "            torch.save({\"model_state_dict\"     : model.state_dict(),\n",
    "                        \"optim_state_dict\"     : optimizer.state_dict()},\n",
    "                        os.path.join(save_path, name))\n",
    "        \n",
    "        if epochAccs[\"valid\"] > bestAccs[\"valid\"]:\n",
    "            bestAccs = epochAccs\n",
    "            BAE = e + 1\n",
    "        \n",
    "        # if scheduler: scheduler.step(epochLoss[\"valid\"])\n",
    "        \n",
    "        if verbose:\n",
    "            print(\"Epoch: {} | Train Loss: {:.5f} | Valid Loss: {:.5f} | Train Accs: {:.5f} | Valid Accs: {:.5f} | Time: {:.2f} seconds\".format(e+1, \n",
    "                                                                       epochLoss[\"train\"], epochLoss[\"valid\"], \n",
    "                                                                       epochAccs[\"train\"], epochAccs[\"valid\"], \n",
    "                                                                       time()-e_st))\n",
    "\n",
    "    del model, X, y\n",
    "    torch.cuda.empty_cache()\n",
    "    \n",
    "    if verbose:                                           \n",
    "        breaker()\n",
    "        print(f\"Best Validation Loss at Epoch {BLE}\")\n",
    "        breaker()\n",
    "        print(f\"Best Validation Accs at Epoch {BAE}\")\n",
    "        breaker()\n",
    "        print(\"Time Taken [{} Epochs] : {:.2f} minutes\".format(len(Losses), (time()-start_time)/60))\n",
    "    \n",
    "    return Losses, Accuracies, LRs, BLE, BAE, name\n",
    "\n",
    "\n",
    "def predict(model=None, dataloader=None, path=None, device=None) -> np.ndarray:\n",
    "    model.load_state_dict(torch.load(path, map_location=device)[\"model_state_dict\"])\n",
    "    model.to(device)    \n",
    "    model.eval()\n",
    "    \n",
    "    y_pred = torch.zeros(1, 1).to(device)\n",
    "    \n",
    "    for X in dataloader:\n",
    "        X = X.to(device)\n",
    "        with torch.no_grad():\n",
    "            output = torch.sigmoid(model(X))\n",
    "        y_pred = torch.cat((y_pred, output.view(-1, 1)), dim=0)\n",
    "    \n",
    "    y_pred[y_pred > 0.5] = 1\n",
    "    y_pred[y_pred <= 0.5] = 0\n",
    "    \n",
    "    return y_pred[1:].detach().cpu().numpy()"
   ]
  },
  {
   "cell_type": "markdown",
   "id": "e3bdd92b",
   "metadata": {
    "papermill": {
     "duration": 0.012201,
     "end_time": "2022-04-25T08:18:24.471041",
     "exception": false,
     "start_time": "2022-04-25T08:18:24.458840",
     "status": "completed"
    },
    "tags": []
   },
   "source": [
    "### **Train**"
   ]
  },
  {
   "cell_type": "code",
   "execution_count": 7,
   "id": "0eec57e6",
   "metadata": {
    "execution": {
     "iopub.execute_input": "2022-04-25T08:18:24.497031Z",
     "iopub.status.busy": "2022-04-25T08:18:24.496801Z",
     "iopub.status.idle": "2022-04-25T08:18:37.843509Z",
     "shell.execute_reply": "2022-04-25T08:18:37.842784Z"
    },
    "papermill": {
     "duration": 13.36213,
     "end_time": "2022-04-25T08:18:37.845548",
     "exception": false,
     "start_time": "2022-04-25T08:18:24.483418",
     "status": "completed"
    },
    "tags": []
   },
   "outputs": [],
   "source": [
    "images = np.load(f\"../input/tbcxr-images/images_{SIZE}.npy\")\n",
    "labels = np.load(f\"../input/tbcxr-images/targets_{SIZE}.npy\")"
   ]
  },
  {
   "cell_type": "code",
   "execution_count": 8,
   "id": "ecb988ba",
   "metadata": {
    "execution": {
     "iopub.execute_input": "2022-04-25T08:18:37.872627Z",
     "iopub.status.busy": "2022-04-25T08:18:37.872404Z",
     "iopub.status.idle": "2022-04-25T09:25:12.353766Z",
     "shell.execute_reply": "2022-04-25T09:25:12.352919Z"
    },
    "papermill": {
     "duration": 3994.497867,
     "end_time": "2022-04-25T09:25:12.356446",
     "exception": false,
     "start_time": "2022-04-25T08:18:37.858579",
     "status": "completed"
    },
    "tags": []
   },
   "outputs": [
    {
     "name": "stderr",
     "output_type": "stream",
     "text": [
      "Downloading: \"https://download.pytorch.org/models/densenet121-a639ec97.pth\" to /root/.cache/torch/hub/checkpoints/densenet121-a639ec97.pth\n"
     ]
    },
    {
     "data": {
      "application/vnd.jupyter.widget-view+json": {
       "model_id": "b62486f4058e47ffa646daf87174138b",
       "version_major": 2,
       "version_minor": 0
      },
      "text/plain": [
       "  0%|          | 0.00/30.8M [00:00<?, ?B/s]"
      ]
     },
     "metadata": {},
     "output_type": "display_data"
    },
    {
     "name": "stdout",
     "output_type": "stream",
     "text": [
      "\n",
      "**************************************************\n",
      "\n",
      "Training Fold 1...\n",
      "\n",
      "**************************************************\n",
      "\n",
      "Epoch: 1 | Train Loss: 0.27314 | Valid Loss: 0.02753 | Train Accs: 0.95685 | Valid Accs: 0.99292 | Time: 75.97 seconds\n",
      "Epoch: 2 | Train Loss: 0.04152 | Valid Loss: 0.28607 | Train Accs: 0.98958 | Valid Accs: 0.93986 | Time: 70.23 seconds\n",
      "Epoch: 3 | Train Loss: 0.04631 | Valid Loss: 0.04539 | Train Accs: 0.98542 | Valid Accs: 0.97995 | Time: 69.71 seconds\n",
      "Epoch: 4 | Train Loss: 0.05437 | Valid Loss: 0.04893 | Train Accs: 0.98333 | Valid Accs: 0.98703 | Time: 69.93 seconds\n",
      "Epoch: 5 | Train Loss: 0.02920 | Valid Loss: 0.04448 | Train Accs: 0.99196 | Valid Accs: 0.98349 | Time: 70.03 seconds\n",
      "Epoch: 6 | Train Loss: 0.02191 | Valid Loss: 0.01531 | Train Accs: 0.99435 | Valid Accs: 0.99292 | Time: 70.02 seconds\n",
      "Epoch: 7 | Train Loss: 0.02696 | Valid Loss: 0.02467 | Train Accs: 0.99167 | Valid Accs: 0.99057 | Time: 70.02 seconds\n",
      "Epoch: 8 | Train Loss: 0.02397 | Valid Loss: 0.01896 | Train Accs: 0.99345 | Valid Accs: 0.99292 | Time: 70.27 seconds\n",
      "Epoch: 9 | Train Loss: 0.01476 | Valid Loss: 0.01483 | Train Accs: 0.99554 | Valid Accs: 0.99410 | Time: 69.99 seconds\n",
      "Epoch: 10 | Train Loss: 0.01102 | Valid Loss: 0.01211 | Train Accs: 0.99643 | Valid Accs: 0.99764 | Time: 70.09 seconds\n",
      "Epoch: 11 | Train Loss: 0.00374 | Valid Loss: 0.00928 | Train Accs: 0.99911 | Valid Accs: 0.99764 | Time: 70.47 seconds\n",
      "Epoch: 12 | Train Loss: 0.00532 | Valid Loss: 0.01028 | Train Accs: 0.99851 | Valid Accs: 0.99764 | Time: 69.92 seconds\n",
      "Epoch: 13 | Train Loss: 0.00563 | Valid Loss: 0.00833 | Train Accs: 0.99732 | Valid Accs: 0.99764 | Time: 70.07 seconds\n",
      "Epoch: 14 | Train Loss: 0.00532 | Valid Loss: 0.00610 | Train Accs: 0.99792 | Valid Accs: 0.99646 | Time: 70.04 seconds\n",
      "Epoch: 15 | Train Loss: 0.00123 | Valid Loss: 0.00392 | Train Accs: 1.00000 | Valid Accs: 0.99764 | Time: 70.14 seconds\n",
      "Epoch: 16 | Train Loss: 0.00119 | Valid Loss: 0.00441 | Train Accs: 0.99940 | Valid Accs: 0.99764 | Time: 69.97 seconds\n",
      "Epoch: 17 | Train Loss: 0.00058 | Valid Loss: 0.00435 | Train Accs: 1.00000 | Valid Accs: 0.99764 | Time: 70.12 seconds\n",
      "Epoch: 18 | Train Loss: 0.00043 | Valid Loss: 0.00448 | Train Accs: 1.00000 | Valid Accs: 0.99764 | Time: 69.97 seconds\n",
      "Epoch: 19 | Train Loss: 0.00053 | Valid Loss: 0.00432 | Train Accs: 1.00000 | Valid Accs: 0.99764 | Time: 69.92 seconds\n",
      "Epoch: 20 | Train Loss: 0.00039 | Valid Loss: 0.00484 | Train Accs: 1.00000 | Valid Accs: 0.99646 | Time: 69.77 seconds\n",
      "\n",
      "**************************************************\n",
      "\n",
      "Best Validation Loss at Epoch 15\n",
      "\n",
      "**************************************************\n",
      "\n",
      "Best Validation Accs at Epoch 10\n",
      "\n",
      "**************************************************\n",
      "\n",
      "Time Taken [20 Epochs] : 23.45 minutes\n",
      "\n",
      "**************************************************\n",
      "\n"
     ]
    },
    {
     "data": {
      "image/png": "[encoded data removed]",
      "text/plain": [
       "<Figure size 576x432 with 2 Axes>"
      ]
     },
     "metadata": {
      "needs_background": "light"
     },
     "output_type": "display_data"
    },
    {
     "name": "stdout",
     "output_type": "stream",
     "text": [
      "\n",
      "**************************************************\n",
      "\n",
      "Training Fold 2...\n",
      "\n",
      "**************************************************\n",
      "\n",
      "Epoch: 1 | Train Loss: 0.27729 | Valid Loss: 0.01693 | Train Accs: 0.95774 | Valid Accs: 0.99646 | Time: 70.23 seconds\n",
      "Epoch: 2 | Train Loss: 0.03362 | Valid Loss: 0.00801 | Train Accs: 0.99345 | Valid Accs: 0.99882 | Time: 70.21 seconds\n",
      "Epoch: 3 | Train Loss: 0.06140 | Valid Loss: 0.32415 | Train Accs: 0.98006 | Valid Accs: 0.87264 | Time: 69.96 seconds\n",
      "Epoch: 4 | Train Loss: 0.07287 | Valid Loss: 0.64452 | Train Accs: 0.97768 | Valid Accs: 0.77241 | Time: 70.12 seconds\n",
      "Epoch: 5 | Train Loss: 0.03908 | Valid Loss: 0.14519 | Train Accs: 0.98750 | Valid Accs: 0.94693 | Time: 69.70 seconds\n",
      "Epoch: 6 | Train Loss: 0.01784 | Valid Loss: 0.01037 | Train Accs: 0.99464 | Valid Accs: 0.99882 | Time: 69.96 seconds\n",
      "Epoch: 7 | Train Loss: 0.04719 | Valid Loss: 0.06238 | Train Accs: 0.98482 | Valid Accs: 0.98467 | Time: 69.91 seconds\n",
      "\n",
      "Early Stopping at Epoch 8\n",
      "\n",
      "**************************************************\n",
      "\n",
      "Best Validation Loss at Epoch 2\n",
      "\n",
      "**************************************************\n",
      "\n",
      "Best Validation Accs at Epoch 2\n",
      "\n",
      "**************************************************\n",
      "\n",
      "Time Taken [8 Epochs] : 9.34 minutes\n",
      "\n",
      "**************************************************\n",
      "\n"
     ]
    },
    {
     "data": {
      "image/png": "[encoded data removed]",
      "text/plain": [
       "<Figure size 576x432 with 2 Axes>"
      ]
     },
     "metadata": {
      "needs_background": "light"
     },
     "output_type": "display_data"
    },
    {
     "name": "stdout",
     "output_type": "stream",
     "text": [
      "\n",
      "**************************************************\n",
      "\n",
      "Training Fold 3...\n",
      "\n",
      "**************************************************\n",
      "\n",
      "Epoch: 1 | Train Loss: 0.27423 | Valid Loss: 0.02001 | Train Accs: 0.95655 | Valid Accs: 0.99646 | Time: 70.16 seconds\n",
      "Epoch: 2 | Train Loss: 0.03330 | Valid Loss: 0.01549 | Train Accs: 0.99167 | Valid Accs: 0.99764 | Time: 70.24 seconds\n",
      "Epoch: 3 | Train Loss: 0.06780 | Valid Loss: 0.13118 | Train Accs: 0.98065 | Valid Accs: 0.96108 | Time: 69.85 seconds\n",
      "Epoch: 4 | Train Loss: 0.06299 | Valid Loss: 0.04648 | Train Accs: 0.98512 | Valid Accs: 0.99292 | Time: 69.77 seconds\n",
      "Epoch: 5 | Train Loss: 0.04134 | Valid Loss: 0.03814 | Train Accs: 0.98988 | Valid Accs: 0.98703 | Time: 69.83 seconds\n",
      "Epoch: 6 | Train Loss: 0.02476 | Valid Loss: 0.04301 | Train Accs: 0.99286 | Valid Accs: 0.99175 | Time: 69.63 seconds\n",
      "Epoch: 7 | Train Loss: 0.01162 | Valid Loss: 0.20627 | Train Accs: 0.99643 | Valid Accs: 0.91745 | Time: 69.57 seconds\n",
      "\n",
      "Early Stopping at Epoch 8\n",
      "\n",
      "**************************************************\n",
      "\n",
      "Best Validation Loss at Epoch 2\n",
      "\n",
      "**************************************************\n",
      "\n",
      "Best Validation Accs at Epoch 2\n",
      "\n",
      "**************************************************\n",
      "\n",
      "Time Taken [8 Epochs] : 9.32 minutes\n",
      "\n",
      "**************************************************\n",
      "\n"
     ]
    },
    {
     "data": {
      "image/png": "[encoded data removed]",
      "text/plain": [
       "<Figure size 576x432 with 2 Axes>"
      ]
     },
     "metadata": {
      "needs_background": "light"
     },
     "output_type": "display_data"
    },
    {
     "name": "stdout",
     "output_type": "stream",
     "text": [
      "\n",
      "**************************************************\n",
      "\n",
      "Training Fold 4...\n",
      "\n",
      "**************************************************\n",
      "\n",
      "Epoch: 1 | Train Loss: 0.27490 | Valid Loss: 0.02607 | Train Accs: 0.95893 | Valid Accs: 0.99292 | Time: 69.71 seconds\n",
      "Epoch: 2 | Train Loss: 0.03132 | Valid Loss: 0.07022 | Train Accs: 0.99107 | Valid Accs: 0.97288 | Time: 69.23 seconds\n",
      "Epoch: 3 | Train Loss: 0.06735 | Valid Loss: 0.35365 | Train Accs: 0.98006 | Valid Accs: 0.84670 | Time: 69.02 seconds\n",
      "Epoch: 4 | Train Loss: 0.04799 | Valid Loss: 0.12409 | Train Accs: 0.98482 | Valid Accs: 0.95873 | Time: 69.06 seconds\n",
      "Epoch: 5 | Train Loss: 0.02064 | Valid Loss: 0.61667 | Train Accs: 0.99405 | Valid Accs: 0.79953 | Time: 69.14 seconds\n",
      "Epoch: 6 | Train Loss: 0.02211 | Valid Loss: 0.04104 | Train Accs: 0.99405 | Valid Accs: 0.98703 | Time: 69.09 seconds\n",
      "\n",
      "Early Stopping at Epoch 7\n",
      "\n",
      "**************************************************\n",
      "\n",
      "Best Validation Loss at Epoch 1\n",
      "\n",
      "**************************************************\n",
      "\n",
      "Best Validation Accs at Epoch 1\n",
      "\n",
      "**************************************************\n",
      "\n",
      "Time Taken [7 Epochs] : 8.08 minutes\n",
      "\n",
      "**************************************************\n",
      "\n"
     ]
    },
    {
     "data": {
      "image/png": "[encoded data removed]",
      "text/plain": [
       "<Figure size 576x432 with 2 Axes>"
      ]
     },
     "metadata": {
      "needs_background": "light"
     },
     "output_type": "display_data"
    },
    {
     "name": "stdout",
     "output_type": "stream",
     "text": [
      "\n",
      "**************************************************\n",
      "\n",
      "Training Fold 5...\n",
      "\n",
      "**************************************************\n",
      "\n",
      "Epoch: 1 | Train Loss: 0.27529 | Valid Loss: 0.02771 | Train Accs: 0.95685 | Valid Accs: 0.99528 | Time: 69.64 seconds\n",
      "Epoch: 2 | Train Loss: 0.03624 | Valid Loss: 0.03297 | Train Accs: 0.99077 | Valid Accs: 0.99057 | Time: 69.44 seconds\n",
      "Epoch: 3 | Train Loss: 0.06455 | Valid Loss: 0.54051 | Train Accs: 0.98155 | Valid Accs: 0.72406 | Time: 69.49 seconds\n",
      "Epoch: 4 | Train Loss: 0.05648 | Valid Loss: 0.07348 | Train Accs: 0.98185 | Valid Accs: 0.96580 | Time: 69.27 seconds\n",
      "Epoch: 5 | Train Loss: 0.03576 | Valid Loss: 0.51987 | Train Accs: 0.98810 | Valid Accs: 0.78066 | Time: 69.36 seconds\n",
      "Epoch: 6 | Train Loss: 0.04038 | Valid Loss: 0.05546 | Train Accs: 0.98690 | Valid Accs: 0.98703 | Time: 69.23 seconds\n",
      "Epoch: 7 | Train Loss: 0.04160 | Valid Loss: 0.02677 | Train Accs: 0.98810 | Valid Accs: 0.99292 | Time: 69.69 seconds\n",
      "Epoch: 8 | Train Loss: 0.02113 | Valid Loss: 0.00554 | Train Accs: 0.99315 | Valid Accs: 1.00000 | Time: 69.58 seconds\n",
      "Epoch: 9 | Train Loss: 0.01523 | Valid Loss: 0.01178 | Train Accs: 0.99494 | Valid Accs: 0.99528 | Time: 69.59 seconds\n",
      "Epoch: 10 | Train Loss: 0.01163 | Valid Loss: 0.02436 | Train Accs: 0.99673 | Valid Accs: 0.99057 | Time: 69.24 seconds\n",
      "Epoch: 11 | Train Loss: 0.00673 | Valid Loss: 0.00764 | Train Accs: 0.99821 | Valid Accs: 0.99646 | Time: 69.23 seconds\n",
      "Epoch: 12 | Train Loss: 0.00662 | Valid Loss: 0.00673 | Train Accs: 0.99881 | Valid Accs: 0.99764 | Time: 69.48 seconds\n",
      "Epoch: 13 | Train Loss: 0.00263 | Valid Loss: 0.00853 | Train Accs: 0.99911 | Valid Accs: 0.99646 | Time: 69.35 seconds\n",
      "\n",
      "Early Stopping at Epoch 14\n",
      "\n",
      "**************************************************\n",
      "\n",
      "Best Validation Loss at Epoch 8\n",
      "\n",
      "**************************************************\n",
      "\n",
      "Best Validation Accs at Epoch 8\n",
      "\n",
      "**************************************************\n",
      "\n",
      "Time Taken [14 Epochs] : 16.20 minutes\n",
      "\n",
      "**************************************************\n",
      "\n"
     ]
    },
    {
     "data": {
      "image/png": "[encoded data removed]",
      "text/plain": [
       "<Figure size 576x432 with 2 Axes>"
      ]
     },
     "metadata": {
      "needs_background": "light"
     },
     "output_type": "display_data"
    }
   ],
   "source": [
    "fold = 1\n",
    "BLEs, BAEs = [], []\n",
    "\n",
    "for tr_idx, va_idx in KFold(n_splits=cfg.n_splits, random_state=cfg.seed, shuffle=True).split(images):\n",
    "    tr_images, va_images, tr_labels, va_labels = images[tr_idx], images[va_idx], labels[tr_idx], labels[va_idx]\n",
    "\n",
    "    tr_data_setup = DS(tr_images, tr_labels.reshape(-1, 1), cfg.transform)\n",
    "    va_data_setup = DS(va_images, va_labels.reshape(-1, 1), cfg.transform)\n",
    "\n",
    "    dataloaders = {\n",
    "        \"train\" : DL(tr_data_setup, batch_size=cfg.batch_size, shuffle=True, generator=torch.manual_seed(cfg.seed)),\n",
    "        \"valid\" : DL(va_data_setup, batch_size=cfg.batch_size, shuffle=False),\n",
    "    }\n",
    "\n",
    "    cfg = CFG(epochs=20, lr=1e-3, wd=0.0, batch_size=16, steps_per_epoch=len(dataloaders[\"train\"]))\n",
    "\n",
    "    torch.manual_seed(cfg.seed)\n",
    "    model = Model().to(cfg.device)\n",
    "    optimizer = optim.Adam([p for p in model.parameters() if p.requires_grad], lr=cfg.lr, weight_decay=cfg.wd)\n",
    "    scheduler = optim.lr_scheduler.OneCycleLR(optimizer=optimizer, \n",
    "                                              max_lr=cfg.max_lr, \n",
    "                                              epochs=cfg.epochs, \n",
    "                                              steps_per_epoch=cfg.steps_per_epoch,\n",
    "                                              pct_start=cfg.pct_start, \n",
    "                                              div_factor=cfg.div_factor, \n",
    "                                              final_div_factor=cfg.final_div_factor)\n",
    "    # scheduler = None\n",
    "\n",
    "    L, A, LRs, BLE, BAE, name = fit(model=model, \n",
    "                                    optimizer=optimizer, \n",
    "                                    scheduler=scheduler, \n",
    "                                    epochs=cfg.epochs, \n",
    "                                    early_stopping_patience=cfg.early_stopping, \n",
    "                                    dataloaders=dataloaders, \n",
    "                                    device=cfg.device,\n",
    "                                    save_path=cfg.save_path,\n",
    "                                    fold = fold,\n",
    "                                    verbose=True)\n",
    "\n",
    "    breaker()\n",
    "    show_graphs(L, A)\n",
    "    \n",
    "    BLEs.append(BLE)\n",
    "    BAEs.append(BAE)\n",
    "\n",
    "    fold += 1\n",
    "    \n",
    "#     del tr_images, va_images, \\\n",
    "#         tr_labels, va_labels, \\\n",
    "#         tr_data_setup, va_data_setup, \\\n",
    "#         dataloaders, model\n",
    "    \n",
    "#     gc.collect()\n",
    "#     torch.cuda.empty_cache()\n",
    "    \n",
    "#     sleep(30)"
   ]
  },
  {
   "cell_type": "markdown",
   "id": "8b939e85",
   "metadata": {
    "papermill": {
     "duration": 0.038507,
     "end_time": "2022-04-25T09:25:12.435446",
     "exception": false,
     "start_time": "2022-04-25T09:25:12.396939",
     "status": "completed"
    },
    "tags": []
   },
   "source": [
    "### **Predictions**"
   ]
  },
  {
   "cell_type": "code",
   "execution_count": 9,
   "id": "fd6cc2a2",
   "metadata": {
    "execution": {
     "iopub.execute_input": "2022-04-25T09:25:12.512878Z",
     "iopub.status.busy": "2022-04-25T09:25:12.512665Z",
     "iopub.status.idle": "2022-04-25T09:25:12.518552Z",
     "shell.execute_reply": "2022-04-25T09:25:12.516913Z"
    },
    "papermill": {
     "duration": 0.047953,
     "end_time": "2022-04-25T09:25:12.521118",
     "exception": false,
     "start_time": "2022-04-25T09:25:12.473165",
     "status": "completed"
    },
    "tags": []
   },
   "outputs": [
    {
     "name": "stdout",
     "output_type": "stream",
     "text": [
      "\n",
      "**************************************************\n",
      "\n",
      "Best Fold : 4\n",
      "\n",
      "**************************************************\n",
      "\n"
     ]
    }
   ],
   "source": [
    "# test_images = np.load(f\"../input/chest-x-rays-images/test_images_{SIZE}.npy\")\n",
    "# test_labels = np.load(f\"../input/chest-x-rays-images/test_targets_{SIZE}.npy\")\n",
    "\n",
    "# ts_data_setup = DS(test_images, None, cfg.transform)\n",
    "# ts_data = DL(ts_data_setup, batch_size=cfg.batch_size, shuffle=False)\n",
    "\n",
    "best_fold = BLEs.index(min(BLEs)) + 1\n",
    "# model_path = f\"saves/state_fold_{best_fold}.pt\"\n",
    "# y_pred = predict(model=Model().to(cfg.device), dataloader=ts_data, path=model_path, device=cfg.device)\n",
    "\n",
    "# accuracy, auc, precision, recall, f_score = get_scores(test_labels, y_pred)\n",
    "\n",
    "breaker()\n",
    "print(f\"Best Fold : {best_fold}\")\n",
    "breaker()\n",
    "# print_scores(accuracy, auc, precision, recall, f_score)\n",
    "# breaker()\n",
    "# print(classification_report(test_labels, y_pred))\n",
    "# breaker()\n",
    "# print(confusion_matrix(test_labels, y_pred))\n",
    "# breaker()"
   ]
  }
 ],
 "metadata": {
  "kernelspec": {
   "display_name": "Python 3",
   "language": "python",
   "name": "python3"
  },
  "language_info": {
   "codemirror_mode": {
    "name": "ipython",
    "version": 3
   },
   "file_extension": ".py",
   "mimetype": "text/x-python",
   "name": "python",
   "nbconvert_exporter": "python",
   "pygments_lexer": "ipython3",
   "version": "3.7.12"
  },
  "papermill": {
   "default_parameters": {},
   "duration": 4020.619861,
   "end_time": "2022-04-25T09:25:14.090130",
   "environment_variables": {},
   "exception": null,
   "input_path": "__notebook__.ipynb",
   "output_path": "__notebook__.ipynb",
   "parameters": {},
   "start_time": "2022-04-25T08:18:13.470269",
   "version": "2.3.4"
  },
  "widgets": {
   "application/vnd.jupyter.widget-state+json": {
    "state": {
     "32931e3bd14343babb42d3b62df5eafd": {
      "model_module": "@jupyter-widgets/base",
      "model_module_version": "1.2.0",
      "model_name": "LayoutModel",
      "state": {
       "_model_module": "@jupyter-widgets/base",
       "_model_module_version": "1.2.0",
       "_model_name": "LayoutModel",
       "_view_count": null,
       "_view_module": "@jupyter-widgets/base",
       "_view_module_version": "1.2.0",
       "_view_name": "LayoutView",
       "align_content": null,
       "align_items": null,
       "align_self": null,
       "border": null,
       "bottom": null,
       "display": null,
       "flex": null,
       "flex_flow": null,
       "grid_area": null,
       "grid_auto_columns": null,
       "grid_auto_flow": null,
       "grid_auto_rows": null,
       "grid_column": null,
       "grid_gap": null,
       "grid_row": null,
       "grid_template_areas": null,
       "grid_template_columns": null,
       "grid_template_rows": null,
       "height": null,
       "justify_content": null,
       "justify_items": null,
       "left": null,
       "margin": null,
       "max_height": null,
       "max_width": null,
       "min_height": null,
       "min_width": null,
       "object_fit": null,
       "object_position": null,
       "order": null,
       "overflow": null,
       "overflow_x": null,
       "overflow_y": null,
       "padding": null,
       "right": null,
       "top": null,
       "visibility": null,
       "width": null
      }
     },
     "3bae062e8418467e8cefde28b1bcf667": {
      "model_module": "@jupyter-widgets/base",
      "model_module_version": "1.2.0",
      "model_name": "LayoutModel",
      "state": {
       "_model_module": "@jupyter-widgets/base",
       "_model_module_version": "1.2.0",
       "_model_name": "LayoutModel",
       "_view_count": null,
       "_view_module": "@jupyter-widgets/base",
       "_view_module_version": "1.2.0",
       "_view_name": "LayoutView",
       "align_content": null,
       "align_items": null,
       "align_self": null,
       "border": null,
       "bottom": null,
       "display": null,
       "flex": null,
       "flex_flow": null,
       "grid_area": null,
       "grid_auto_columns": null,
       "grid_auto_flow": null,
       "grid_auto_rows": null,
       "grid_column": null,
       "grid_gap": null,
       "grid_row": null,
       "grid_template_areas": null,
       "grid_template_columns": null,
       "grid_template_rows": null,
       "height": null,
       "justify_content": null,
       "justify_items": null,
       "left": null,
       "margin": null,
       "max_height": null,
       "max_width": null,
       "min_height": null,
       "min_width": null,
       "object_fit": null,
       "object_position": null,
       "order": null,
       "overflow": null,
       "overflow_x": null,
       "overflow_y": null,
       "padding": null,
       "right": null,
       "top": null,
       "visibility": null,
       "width": null
      }
     },
     "93461f54d692448c806a2341658e8d6f": {
      "model_module": "@jupyter-widgets/controls",
      "model_module_version": "1.5.0",
      "model_name": "HTMLModel",
      "state": {
       "_dom_classes": [],
       "_model_module": "@jupyter-widgets/controls",
       "_model_module_version": "1.5.0",
       "_model_name": "HTMLModel",
       "_view_count": null,
       "_view_module": "@jupyter-widgets/controls",
       "_view_module_version": "1.5.0",
       "_view_name": "HTMLView",
       "description": "",
       "description_tooltip": null,
       "layout": "IPY_MODEL_cbc4db75f7bb463493d5452fb01a65a4",
       "placeholder": "​",
       "style": "IPY_MODEL_f89863c5a9bf46f28b92257c55268f08",
       "value": "100%"
      }
     },
     "9d79a45aef8f4978affa0944eb7e5c5f": {
      "model_module": "@jupyter-widgets/controls",
      "model_module_version": "1.5.0",
      "model_name": "ProgressStyleModel",
      "state": {
       "_model_module": "@jupyter-widgets/controls",
       "_model_module_version": "1.5.0",
       "_model_name": "ProgressStyleModel",
       "_view_count": null,
       "_view_module": "@jupyter-widgets/base",
       "_view_module_version": "1.2.0",
       "_view_name": "StyleView",
       "bar_color": null,
       "description_width": ""
      }
     },
     "a70a1d4046fc4972a3728631ddb2de86": {
      "model_module": "@jupyter-widgets/controls",
      "model_module_version": "1.5.0",
      "model_name": "FloatProgressModel",
      "state": {
       "_dom_classes": [],
       "_model_module": "@jupyter-widgets/controls",
       "_model_module_version": "1.5.0",
       "_model_name": "FloatProgressModel",
       "_view_count": null,
       "_view_module": "@jupyter-widgets/controls",
       "_view_module_version": "1.5.0",
       "_view_name": "ProgressView",
       "bar_style": "success",
       "description": "",
       "description_tooltip": null,
       "layout": "IPY_MODEL_3bae062e8418467e8cefde28b1bcf667",
       "max": 32342954.0,
       "min": 0.0,
       "orientation": "horizontal",
       "style": "IPY_MODEL_9d79a45aef8f4978affa0944eb7e5c5f",
       "value": 32342954.0
      }
     },
     "ade8e7266d22489f89b3c4c1bc369cc3": {
      "model_module": "@jupyter-widgets/base",
      "model_module_version": "1.2.0",
      "model_name": "LayoutModel",
      "state": {
       "_model_module": "@jupyter-widgets/base",
       "_model_module_version": "1.2.0",
       "_model_name": "LayoutModel",
       "_view_count": null,
       "_view_module": "@jupyter-widgets/base",
       "_view_module_version": "1.2.0",
       "_view_name": "LayoutView",
       "align_content": null,
       "align_items": null,
       "align_self": null,
       "border": null,
       "bottom": null,
       "display": null,
       "flex": null,
       "flex_flow": null,
       "grid_area": null,
       "grid_auto_columns": null,
       "grid_auto_flow": null,
       "grid_auto_rows": null,
       "grid_column": null,
       "grid_gap": null,
       "grid_row": null,
       "grid_template_areas": null,
       "grid_template_columns": null,
       "grid_template_rows": null,
       "height": null,
       "justify_content": null,
       "justify_items": null,
       "left": null,
       "margin": null,
       "max_height": null,
       "max_width": null,
       "min_height": null,
       "min_width": null,
       "object_fit": null,
       "object_position": null,
       "order": null,
       "overflow": null,
       "overflow_x": null,
       "overflow_y": null,
       "padding": null,
       "right": null,
       "top": null,
       "visibility": null,
       "width": null
      }
     },
     "b62486f4058e47ffa646daf87174138b": {
      "model_module": "@jupyter-widgets/controls",
      "model_module_version": "1.5.0",
      "model_name": "HBoxModel",
      "state": {
       "_dom_classes": [],
       "_model_module": "@jupyter-widgets/controls",
       "_model_module_version": "1.5.0",
       "_model_name": "HBoxModel",
       "_view_count": null,
       "_view_module": "@jupyter-widgets/controls",
       "_view_module_version": "1.5.0",
       "_view_name": "HBoxView",
       "box_style": "",
       "children": [
        "IPY_MODEL_93461f54d692448c806a2341658e8d6f",
        "IPY_MODEL_a70a1d4046fc4972a3728631ddb2de86",
        "IPY_MODEL_c7665184f68d4fb18facb6e3f654ec7e"
       ],
       "layout": "IPY_MODEL_32931e3bd14343babb42d3b62df5eafd"
      }
     },
     "c7665184f68d4fb18facb6e3f654ec7e": {
      "model_module": "@jupyter-widgets/controls",
      "model_module_version": "1.5.0",
      "model_name": "HTMLModel",
      "state": {
       "_dom_classes": [],
       "_model_module": "@jupyter-widgets/controls",
       "_model_module_version": "1.5.0",
       "_model_name": "HTMLModel",
       "_view_count": null,
       "_view_module": "@jupyter-widgets/controls",
       "_view_module_version": "1.5.0",
       "_view_name": "HTMLView",
       "description": "",
       "description_tooltip": null,
       "layout": "IPY_MODEL_ade8e7266d22489f89b3c4c1bc369cc3",
       "placeholder": "​",
       "style": "IPY_MODEL_d4968c67c8ef41468b0c1f6ee90fa49d",
       "value": " 30.8M/30.8M [00:00&lt;00:00, 50.3MB/s]"
      }
     },
     "cbc4db75f7bb463493d5452fb01a65a4": {
      "model_module": "@jupyter-widgets/base",
      "model_module_version": "1.2.0",
      "model_name": "LayoutModel",
      "state": {
       "_model_module": "@jupyter-widgets/base",
       "_model_module_version": "1.2.0",
       "_model_name": "LayoutModel",
       "_view_count": null,
       "_view_module": "@jupyter-widgets/base",
       "_view_module_version": "1.2.0",
       "_view_name": "LayoutView",
       "align_content": null,
       "align_items": null,
       "align_self": null,
       "border": null,
       "bottom": null,
       "display": null,
       "flex": null,
       "flex_flow": null,
       "grid_area": null,
       "grid_auto_columns": null,
       "grid_auto_flow": null,
       "grid_auto_rows": null,
       "grid_column": null,
       "grid_gap": null,
       "grid_row": null,
       "grid_template_areas": null,
       "grid_template_columns": null,
       "grid_template_rows": null,
       "height": null,
       "justify_content": null,
       "justify_items": null,
       "left": null,
       "margin": null,
       "max_height": null,
       "max_width": null,
       "min_height": null,
       "min_width": null,
       "object_fit": null,
       "object_position": null,
       "order": null,
       "overflow": null,
       "overflow_x": null,
       "overflow_y": null,
       "padding": null,
       "right": null,
       "top": null,
       "visibility": null,
       "width": null
      }
     },
     "d4968c67c8ef41468b0c1f6ee90fa49d": {
      "model_module": "@jupyter-widgets/controls",
      "model_module_version": "1.5.0",
      "model_name": "DescriptionStyleModel",
      "state": {
       "_model_module": "@jupyter-widgets/controls",
       "_model_module_version": "1.5.0",
       "_model_name": "DescriptionStyleModel",
       "_view_count": null,
       "_view_module": "@jupyter-widgets/base",
       "_view_module_version": "1.2.0",
       "_view_name": "StyleView",
       "description_width": ""
      }
     },
     "f89863c5a9bf46f28b92257c55268f08": {
      "model_module": "@jupyter-widgets/controls",
      "model_module_version": "1.5.0",
      "model_name": "DescriptionStyleModel",
      "state": {
       "_model_module": "@jupyter-widgets/controls",
       "_model_module_version": "1.5.0",
       "_model_name": "DescriptionStyleModel",
       "_view_count": null,
       "_view_module": "@jupyter-widgets/base",
       "_view_module_version": "1.2.0",
       "_view_name": "StyleView",
       "description_width": ""
      }
     }
    },
    "version_major": 2,
    "version_minor": 0
   }
  }
 },
 "nbformat": 4,
 "nbformat_minor": 5
}
