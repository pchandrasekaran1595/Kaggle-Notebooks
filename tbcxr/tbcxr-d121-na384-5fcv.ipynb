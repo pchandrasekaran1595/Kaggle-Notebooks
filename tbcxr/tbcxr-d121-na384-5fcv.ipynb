{
 "cells": [
  {
   "cell_type": "markdown",
   "id": "d822e762",
   "metadata": {
    "_cell_guid": "b1076dfc-b9ad-4769-8c92-a6c4dae69d19",
    "_uuid": "8f2839f25d086af736a60e9eeb907d3b93b6e0e5",
    "papermill": {
     "duration": 0.021476,
     "end_time": "2022-04-19T17:01:18.509155",
     "exception": false,
     "start_time": "2022-04-19T17:01:18.487679",
     "status": "completed"
    },
    "tags": []
   },
   "source": [
    "### Library Imports"
   ]
  },
  {
   "cell_type": "code",
   "execution_count": 1,
   "id": "d5b36815",
   "metadata": {
    "execution": {
     "iopub.execute_input": "2022-04-19T17:01:18.588744Z",
     "iopub.status.busy": "2022-04-19T17:01:18.588236Z",
     "iopub.status.idle": "2022-04-19T17:01:21.570775Z",
     "shell.execute_reply": "2022-04-19T17:01:21.569793Z"
    },
    "papermill": {
     "duration": 3.025245,
     "end_time": "2022-04-19T17:01:21.573269",
     "exception": false,
     "start_time": "2022-04-19T17:01:18.548024",
     "status": "completed"
    },
    "tags": []
   },
   "outputs": [],
   "source": [
    "import os\n",
    "import re\n",
    "import gc\n",
    "import torch\n",
    "import numpy as np\n",
    "import pandas as pd\n",
    "import matplotlib.pyplot as plt\n",
    "\n",
    "from time import time, sleep\n",
    "from torch import nn, optim\n",
    "from torch.utils.data import Dataset\n",
    "from torch.utils.data import DataLoader as DL\n",
    "from torchvision import models, transforms\n",
    "\n",
    "from sklearn.model_selection import KFold\n",
    "# from sklearn.preprocessing import LabelEncoder\n",
    "# from sklearn.metrics import accuracy_score, \\\n",
    "#                             precision_recall_fscore_support, \\\n",
    "#                             roc_auc_score, \\\n",
    "#                             classification_report, \\\n",
    "#                             confusion_matrix"
   ]
  },
  {
   "cell_type": "markdown",
   "id": "feb948c6",
   "metadata": {
    "papermill": {
     "duration": 0.015909,
     "end_time": "2022-04-19T17:01:21.605687",
     "exception": false,
     "start_time": "2022-04-19T17:01:21.589778",
     "status": "completed"
    },
    "tags": []
   },
   "source": [
    "### **Utilities**"
   ]
  },
  {
   "cell_type": "code",
   "execution_count": 2,
   "id": "22f47ae9",
   "metadata": {
    "execution": {
     "iopub.execute_input": "2022-04-19T17:01:21.639213Z",
     "iopub.status.busy": "2022-04-19T17:01:21.638478Z",
     "iopub.status.idle": "2022-04-19T17:01:21.653890Z",
     "shell.execute_reply": "2022-04-19T17:01:21.653059Z"
    },
    "papermill": {
     "duration": 0.034984,
     "end_time": "2022-04-19T17:01:21.656386",
     "exception": false,
     "start_time": "2022-04-19T17:01:21.621402",
     "status": "completed"
    },
    "tags": []
   },
   "outputs": [],
   "source": [
    "SEED = 42\n",
    "SIZE = 384\n",
    "\n",
    "def breaker(num: int=50, char: str=\"*\") -> None:\n",
    "    print(\"\\n\" + num*char + \"\\n\")\n",
    "\n",
    "\n",
    "def show_graphs(L: list, A: list) -> None:\n",
    "    TL, VL, TA, VA = [], [], [], []\n",
    "    for i in range(len(L)):\n",
    "        TL.append(L[i][\"train\"])\n",
    "        VL.append(L[i][\"valid\"])\n",
    "        TA.append(A[i][\"train\"])\n",
    "        VA.append(A[i][\"valid\"])\n",
    "    x_Axis = np.arange(1, len(TL) + 1)\n",
    "    plt.figure(figsize=(8, 6))\n",
    "    plt.subplot(1, 2, 1)\n",
    "    plt.plot(x_Axis, TL, \"r\", label=\"Train\")\n",
    "    plt.plot(x_Axis, VL, \"b\", label=\"Valid\")\n",
    "    plt.legend()\n",
    "    plt.grid()\n",
    "    plt.title(\"Loss Graph\")\n",
    "    plt.subplot(1, 2, 2)\n",
    "    plt.plot(x_Axis, TA, \"r\", label=\"Train\")\n",
    "    plt.plot(x_Axis, VA, \"b\", label=\"Valid\")\n",
    "    plt.legend()\n",
    "    plt.grid()\n",
    "    plt.title(\"Accuracy Graph\")\n",
    "    plt.show()\n",
    "\n",
    "    \n",
    "def get_scores(y_true: np.ndarray, y_pred: np.ndarray) -> tuple:\n",
    "    accuracy = accuracy_score(y_pred, y_true)\n",
    "    try:\n",
    "        auc = roc_auc_score(y_pred, y_true)\n",
    "    except:\n",
    "        auc = 0\n",
    "    precision, recall, f_score, _ = precision_recall_fscore_support(y_pred, y_true)\n",
    "\n",
    "    return accuracy, auc, precision, recall, f_score\n",
    "\n",
    "\n",
    "def print_scores(accuracy: float, auc: float, precision: np.ndarray, recall: np.ndarray, f_score: np.ndarray) -> None:\n",
    "    print(f\"Accuracy  : {accuracy:.5f}\")\n",
    "    print(f\"ROC-AUC   : {auc:.5f}\")\n",
    "    print(f\"Precision : {precision}\")\n",
    "    print(f\"Recall    : {recall}\")\n",
    "    print(f\"F-Score   : {f_score}\")"
   ]
  },
  {
   "cell_type": "markdown",
   "id": "5a3f3b80",
   "metadata": {
    "papermill": {
     "duration": 0.015363,
     "end_time": "2022-04-19T17:01:21.687204",
     "exception": false,
     "start_time": "2022-04-19T17:01:21.671841",
     "status": "completed"
    },
    "tags": []
   },
   "source": [
    "### **Configuration**"
   ]
  },
  {
   "cell_type": "code",
   "execution_count": 3,
   "id": "e806d2d0",
   "metadata": {
    "execution": {
     "iopub.execute_input": "2022-04-19T17:01:21.721171Z",
     "iopub.status.busy": "2022-04-19T17:01:21.720414Z",
     "iopub.status.idle": "2022-04-19T17:01:21.794809Z",
     "shell.execute_reply": "2022-04-19T17:01:21.793793Z"
    },
    "papermill": {
     "duration": 0.093954,
     "end_time": "2022-04-19T17:01:21.797091",
     "exception": false,
     "start_time": "2022-04-19T17:01:21.703137",
     "status": "completed"
    },
    "tags": []
   },
   "outputs": [],
   "source": [
    "class CFG(object):\n",
    "    def __init__(self, \n",
    "                 seed: int = 42,\n",
    "                 n_splits: int = 5,\n",
    "                 batch_size: int = 16,\n",
    "                 epochs: int = 25,\n",
    "                 early_stopping: int = 5,\n",
    "                 lr: float = 1e-4,\n",
    "                 wd: float = 0.0,\n",
    "                 max_lr: float = 1e-3,\n",
    "                 pct_start: float = 0.2,\n",
    "                 steps_per_epoch: int = 100,\n",
    "                 div_factor: int = 1e3, \n",
    "                 final_div_factor: float = 1e3,\n",
    "                 ):\n",
    "        \n",
    "        self.seed = seed\n",
    "        self.n_splits = n_splits\n",
    "        self.batch_size = batch_size\n",
    "        self.epochs = epochs\n",
    "        self.early_stopping = early_stopping\n",
    "        self.lr = lr\n",
    "        self.wd = wd\n",
    "        self.max_lr = max_lr\n",
    "        self.pct_start = pct_start\n",
    "        self.steps_per_epoch = steps_per_epoch\n",
    "        self.div_factor = div_factor\n",
    "        self.final_div_factor = final_div_factor\n",
    "        self.device = torch.device(\"cuda\" if torch.cuda.is_available() else \"cpu\")\n",
    "        self.transform = transforms.Compose([transforms.ToTensor(),\n",
    "                                transforms.Normalize([0.35806, 0.36991, 0.36155],\n",
    "                                                     [0.31737, 0.31962, 0.31380]),\n",
    "                                ])\n",
    "        self.save_path = \"saves\"\n",
    "        if not os.path.exists(self.save_path): os.makedirs(self.save_path)\n",
    "    \n",
    "cfg = CFG(seed=SEED)"
   ]
  },
  {
   "cell_type": "markdown",
   "id": "c92a26b6",
   "metadata": {
    "papermill": {
     "duration": 0.017094,
     "end_time": "2022-04-19T17:01:21.831205",
     "exception": false,
     "start_time": "2022-04-19T17:01:21.814111",
     "status": "completed"
    },
    "tags": []
   },
   "source": [
    "### **Dataset Template**"
   ]
  },
  {
   "cell_type": "code",
   "execution_count": 4,
   "id": "a2a8853c",
   "metadata": {
    "execution": {
     "iopub.execute_input": "2022-04-19T17:01:21.865387Z",
     "iopub.status.busy": "2022-04-19T17:01:21.865067Z",
     "iopub.status.idle": "2022-04-19T17:01:21.871961Z",
     "shell.execute_reply": "2022-04-19T17:01:21.871024Z"
    },
    "papermill": {
     "duration": 0.02638,
     "end_time": "2022-04-19T17:01:21.874010",
     "exception": false,
     "start_time": "2022-04-19T17:01:21.847630",
     "status": "completed"
    },
    "tags": []
   },
   "outputs": [],
   "source": [
    "class DS(Dataset):\n",
    "    def __init__(self, images: np.ndarray, labels: np.ndarray = None, transform=None):\n",
    "        self.images = images\n",
    "        self.labels = labels\n",
    "        self.transform = transform\n",
    "    \n",
    "    def __len__(self):\n",
    "        return self.images.shape[0]\n",
    "    \n",
    "    def __getitem__(self, idx):\n",
    "        if self.labels is not None:\n",
    "            return self.transform(self.images[idx]), torch.FloatTensor(self.labels[idx])\n",
    "        else:\n",
    "            return self.transform(self.images[idx])"
   ]
  },
  {
   "cell_type": "markdown",
   "id": "2f12e1e1",
   "metadata": {
    "papermill": {
     "duration": 0.017909,
     "end_time": "2022-04-19T17:01:21.908063",
     "exception": false,
     "start_time": "2022-04-19T17:01:21.890154",
     "status": "completed"
    },
    "tags": []
   },
   "source": [
    "### **Model**"
   ]
  },
  {
   "cell_type": "code",
   "execution_count": 5,
   "id": "d3b7bcdc",
   "metadata": {
    "execution": {
     "iopub.execute_input": "2022-04-19T17:01:21.942256Z",
     "iopub.status.busy": "2022-04-19T17:01:21.941434Z",
     "iopub.status.idle": "2022-04-19T17:01:21.948412Z",
     "shell.execute_reply": "2022-04-19T17:01:21.947469Z"
    },
    "papermill": {
     "duration": 0.026498,
     "end_time": "2022-04-19T17:01:21.950634",
     "exception": false,
     "start_time": "2022-04-19T17:01:21.924136",
     "status": "completed"
    },
    "tags": []
   },
   "outputs": [],
   "source": [
    "class Model(nn.Module):\n",
    "    def __init__(self):\n",
    "        super(Model, self).__init__()\n",
    "\n",
    "        self.model = models.densenet121(pretrained=True, progress=True)\n",
    "        self.model.classifier = nn.Linear(in_features=self.model.classifier.in_features, out_features=1)\n",
    "\n",
    "    def forward(self, x):\n",
    "        return self.model(x)"
   ]
  },
  {
   "cell_type": "markdown",
   "id": "162e1253",
   "metadata": {
    "papermill": {
     "duration": 0.016095,
     "end_time": "2022-04-19T17:01:21.983126",
     "exception": false,
     "start_time": "2022-04-19T17:01:21.967031",
     "status": "completed"
    },
    "tags": []
   },
   "source": [
    "### Fit and Predict Helper"
   ]
  },
  {
   "cell_type": "code",
   "execution_count": 6,
   "id": "5ad6bf74",
   "metadata": {
    "execution": {
     "iopub.execute_input": "2022-04-19T17:01:22.019026Z",
     "iopub.status.busy": "2022-04-19T17:01:22.018326Z",
     "iopub.status.idle": "2022-04-19T17:01:22.048746Z",
     "shell.execute_reply": "2022-04-19T17:01:22.047830Z"
    },
    "papermill": {
     "duration": 0.051459,
     "end_time": "2022-04-19T17:01:22.051094",
     "exception": false,
     "start_time": "2022-04-19T17:01:21.999635",
     "status": "completed"
    },
    "tags": []
   },
   "outputs": [],
   "source": [
    "def fit(model=None, \n",
    "        optimizer=None, \n",
    "        scheduler=None, \n",
    "        epochs=None, \n",
    "        early_stopping_patience=None, \n",
    "        dataloaders=None, \n",
    "        fold=None, \n",
    "        save_path=None, \n",
    "        device=None,\n",
    "        verbose=False) -> tuple:\n",
    "    \n",
    "    def get_accuracy(y_pred, y_true):\n",
    "        y_pred = torch.sigmoid(y_pred)\n",
    "        \n",
    "        y_pred[y_pred > 0.5] = 1\n",
    "        y_pred[y_pred <= 0.5] = 0\n",
    "        \n",
    "        return torch.count_nonzero(y_pred == y_true).item() / len(y_pred)\n",
    "    \n",
    "    if verbose:\n",
    "        breaker()\n",
    "        if fold: print(f\"Training Fold {fold}...\")\n",
    "        else: print(\"Training ...\")\n",
    "        breaker()\n",
    "        \n",
    "    bestLoss, bestAccs = {\"train\" : np.inf, \"valid\" : np.inf}, {\"train\" : 0.0, \"valid\" : 0.0}\n",
    "    Losses, LRs, Accuracies = [], [], []\n",
    "    if fold: name = f\"state_fold_{fold}.pt\"\n",
    "    else: name = \"state.pt\"\n",
    "\n",
    "    start_time = time()\n",
    "    for e in range(epochs):\n",
    "        e_st = time()\n",
    "        epochLoss, epochAccs = {\"train\" : 0.0, \"valid\" : 0.0}, {\"train\" : 0.0, \"valid\" : 0.0}\n",
    "\n",
    "        for phase in [\"train\", \"valid\"]:\n",
    "            if phase == \"train\":\n",
    "                model.train()\n",
    "            else:\n",
    "                model.eval()\n",
    "            \n",
    "            lossPerPass, accsPerPass = [], []\n",
    "\n",
    "            for X, y in dataloaders[phase]:\n",
    "                X, y = X.to(device), y.to(device)\n",
    "\n",
    "                optimizer.zero_grad()\n",
    "                with torch.set_grad_enabled(phase == \"train\"):\n",
    "                    output = model(X)\n",
    "                    loss = torch.nn.BCEWithLogitsLoss()(output, y)\n",
    "                    if phase == \"train\":\n",
    "                        loss.backward()\n",
    "                        optimizer.step()\n",
    "                        if scheduler: scheduler.step()\n",
    "                lossPerPass.append(loss.item())\n",
    "                accsPerPass.append(get_accuracy(output, y))\n",
    "            epochLoss[phase] = np.mean(np.array(lossPerPass))\n",
    "            epochAccs[phase] = np.mean(np.array(accsPerPass))\n",
    "        LRs.append(scheduler.get_last_lr())\n",
    "        Losses.append(epochLoss)\n",
    "        Accuracies.append(epochAccs)\n",
    "        \n",
    "        if early_stopping_patience:\n",
    "            if epochLoss[\"valid\"] < bestLoss[\"valid\"]:\n",
    "                bestLoss = epochLoss\n",
    "                BLE = e + 1\n",
    "                torch.save({\"model_state_dict\"     : model.state_dict(),\n",
    "                            \"optim_state_dict\"     : optimizer.state_dict()},\n",
    "                           os.path.join(save_path, name))\n",
    "                early_stopping_step = 0\n",
    "            else:\n",
    "                early_stopping_step += 1\n",
    "                if early_stopping_step > early_stopping_patience:\n",
    "                    print(\"\\nEarly Stopping at Epoch {}\".format(e + 1))\n",
    "                    break\n",
    "        \n",
    "        if epochLoss[\"valid\"] < bestLoss[\"valid\"]:\n",
    "            bestLoss = epochLoss\n",
    "            BLE = e + 1\n",
    "            torch.save({\"model_state_dict\"     : model.state_dict(),\n",
    "                        \"optim_state_dict\"     : optimizer.state_dict()},\n",
    "                        os.path.join(save_path, name))\n",
    "        \n",
    "        if epochAccs[\"valid\"] > bestAccs[\"valid\"]:\n",
    "            bestAccs = epochAccs\n",
    "            BAE = e + 1\n",
    "        \n",
    "        # if scheduler: scheduler.step(epochLoss[\"valid\"])\n",
    "        \n",
    "        if verbose:\n",
    "            print(\"Epoch: {} | Train Loss: {:.5f} | Valid Loss: {:.5f} | Train Accs: {:.5f} | Valid Accs: {:.5f} | Time: {:.2f} seconds\".format(e+1, \n",
    "                                                                       epochLoss[\"train\"], epochLoss[\"valid\"], \n",
    "                                                                       epochAccs[\"train\"], epochAccs[\"valid\"], \n",
    "                                                                       time()-e_st))\n",
    "\n",
    "    del model, X, y\n",
    "    torch.cuda.empty_cache()\n",
    "    \n",
    "    if verbose:                                           \n",
    "        breaker()\n",
    "        print(f\"Best Validation Loss at Epoch {BLE}\")\n",
    "        breaker()\n",
    "        print(f\"Best Validation Accs at Epoch {BAE}\")\n",
    "        breaker()\n",
    "        print(\"Time Taken [{} Epochs] : {:.2f} minutes\".format(len(Losses), (time()-start_time)/60))\n",
    "    \n",
    "    return Losses, Accuracies, LRs, BLE, BAE, name\n",
    "\n",
    "\n",
    "def predict(model=None, dataloader=None, path=None, device=None) -> np.ndarray:\n",
    "    model.load_state_dict(torch.load(path, map_location=device)[\"model_state_dict\"])\n",
    "    model.to(device)    \n",
    "    model.eval()\n",
    "    \n",
    "    y_pred = torch.zeros(1, 1).to(device)\n",
    "    \n",
    "    for X in dataloader:\n",
    "        X = X.to(device)\n",
    "        with torch.no_grad():\n",
    "            output = torch.sigmoid(model(X))\n",
    "        y_pred = torch.cat((y_pred, output.view(-1, 1)), dim=0)\n",
    "    \n",
    "    y_pred[y_pred > 0.5] = 1\n",
    "    y_pred[y_pred <= 0.5] = 0\n",
    "    \n",
    "    return y_pred[1:].detach().cpu().numpy()"
   ]
  },
  {
   "cell_type": "markdown",
   "id": "c6a0d946",
   "metadata": {
    "papermill": {
     "duration": 0.016247,
     "end_time": "2022-04-19T17:01:22.084134",
     "exception": false,
     "start_time": "2022-04-19T17:01:22.067887",
     "status": "completed"
    },
    "tags": []
   },
   "source": [
    "### **Train**"
   ]
  },
  {
   "cell_type": "code",
   "execution_count": 7,
   "id": "a10457ec",
   "metadata": {
    "execution": {
     "iopub.execute_input": "2022-04-19T17:01:22.118142Z",
     "iopub.status.busy": "2022-04-19T17:01:22.117322Z",
     "iopub.status.idle": "2022-04-19T17:01:37.025344Z",
     "shell.execute_reply": "2022-04-19T17:01:37.024337Z"
    },
    "papermill": {
     "duration": 14.927564,
     "end_time": "2022-04-19T17:01:37.027887",
     "exception": false,
     "start_time": "2022-04-19T17:01:22.100323",
     "status": "completed"
    },
    "tags": []
   },
   "outputs": [],
   "source": [
    "images = np.load(f\"../input/tb-chest-x-rays/images_{SIZE}.npy\")\n",
    "labels = np.load(f\"../input/tb-chest-x-rays/targets_{SIZE}.npy\")"
   ]
  },
  {
   "cell_type": "code",
   "execution_count": 8,
   "id": "7842645e",
   "metadata": {
    "execution": {
     "iopub.execute_input": "2022-04-19T17:01:37.062571Z",
     "iopub.status.busy": "2022-04-19T17:01:37.061861Z",
     "iopub.status.idle": "2022-04-19T17:14:22.722563Z",
     "shell.execute_reply": "2022-04-19T17:14:22.721611Z"
    },
    "papermill": {
     "duration": 765.680927,
     "end_time": "2022-04-19T17:14:22.724856",
     "exception": false,
     "start_time": "2022-04-19T17:01:37.043929",
     "status": "completed"
    },
    "tags": []
   },
   "outputs": [
    {
     "name": "stderr",
     "output_type": "stream",
     "text": [
      "Downloading: \"https://download.pytorch.org/models/densenet121-a639ec97.pth\" to /root/.cache/torch/hub/checkpoints/densenet121-a639ec97.pth\n"
     ]
    },
    {
     "data": {
      "application/vnd.jupyter.widget-view+json": {
       "model_id": "442058fd03794fa59cd1337ec75c7596",
       "version_major": 2,
       "version_minor": 0
      },
      "text/plain": [
       "  0%|          | 0.00/30.8M [00:00<?, ?B/s]"
      ]
     },
     "metadata": {},
     "output_type": "display_data"
    },
    {
     "name": "stdout",
     "output_type": "stream",
     "text": [
      "\n",
      "**************************************************\n",
      "\n",
      "Training Fold 1...\n",
      "\n",
      "**************************************************\n",
      "\n",
      "Epoch: 1 | Train Loss: 0.13332 | Valid Loss: 0.47407 | Train Accs: 0.97054 | Valid Accs: 0.79835 | Time: 81.43 seconds\n",
      "Epoch: 2 | Train Loss: 0.03070 | Valid Loss: 0.01723 | Train Accs: 0.99256 | Valid Accs: 0.99410 | Time: 74.08 seconds\n",
      "\n",
      "**************************************************\n",
      "\n",
      "Best Validation Loss at Epoch 2\n",
      "\n",
      "**************************************************\n",
      "\n",
      "Best Validation Accs at Epoch 2\n",
      "\n",
      "**************************************************\n",
      "\n",
      "Time Taken [2 Epochs] : 2.60 minutes\n",
      "\n",
      "**************************************************\n",
      "\n"
     ]
    },
    {
     "data": {
      "image/png": "[encoded data removed]",
      "text/plain": [
       "<Figure size 576x432 with 2 Axes>"
      ]
     },
     "metadata": {
      "needs_background": "light"
     },
     "output_type": "display_data"
    },
    {
     "name": "stdout",
     "output_type": "stream",
     "text": [
      "\n",
      "**************************************************\n",
      "\n",
      "Training Fold 2...\n",
      "\n",
      "**************************************************\n",
      "\n",
      "Epoch: 1 | Train Loss: 0.13489 | Valid Loss: 0.02892 | Train Accs: 0.96905 | Valid Accs: 0.99175 | Time: 74.19 seconds\n",
      "Epoch: 2 | Train Loss: 0.02510 | Valid Loss: 0.00931 | Train Accs: 0.99405 | Valid Accs: 0.99764 | Time: 74.70 seconds\n",
      "\n",
      "**************************************************\n",
      "\n",
      "Best Validation Loss at Epoch 2\n",
      "\n",
      "**************************************************\n",
      "\n",
      "Best Validation Accs at Epoch 2\n",
      "\n",
      "**************************************************\n",
      "\n",
      "Time Taken [2 Epochs] : 2.49 minutes\n",
      "\n",
      "**************************************************\n",
      "\n"
     ]
    },
    {
     "data": {
      "image/png": "[encoded data removed]",
      "text/plain": [
       "<Figure size 576x432 with 2 Axes>"
      ]
     },
     "metadata": {
      "needs_background": "light"
     },
     "output_type": "display_data"
    },
    {
     "name": "stdout",
     "output_type": "stream",
     "text": [
      "\n",
      "**************************************************\n",
      "\n",
      "Training Fold 3...\n",
      "\n",
      "**************************************************\n",
      "\n",
      "Epoch: 1 | Train Loss: 0.11529 | Valid Loss: 0.02409 | Train Accs: 0.97679 | Valid Accs: 0.99764 | Time: 74.91 seconds\n",
      "Epoch: 2 | Train Loss: 0.02462 | Valid Loss: 0.01657 | Train Accs: 0.99315 | Valid Accs: 0.99764 | Time: 74.59 seconds\n",
      "\n",
      "**************************************************\n",
      "\n",
      "Best Validation Loss at Epoch 2\n",
      "\n",
      "**************************************************\n",
      "\n",
      "Best Validation Accs at Epoch 1\n",
      "\n",
      "**************************************************\n",
      "\n",
      "Time Taken [2 Epochs] : 2.50 minutes\n",
      "\n",
      "**************************************************\n",
      "\n"
     ]
    },
    {
     "data": {
      "image/png": "[encoded data removed]",
      "text/plain": [
       "<Figure size 576x432 with 2 Axes>"
      ]
     },
     "metadata": {
      "needs_background": "light"
     },
     "output_type": "display_data"
    },
    {
     "name": "stdout",
     "output_type": "stream",
     "text": [
      "\n",
      "**************************************************\n",
      "\n",
      "Training Fold 4...\n",
      "\n",
      "**************************************************\n",
      "\n",
      "Epoch: 1 | Train Loss: 0.12057 | Valid Loss: 0.21783 | Train Accs: 0.97470 | Valid Accs: 0.96462 | Time: 73.33 seconds\n",
      "Epoch: 2 | Train Loss: 0.02344 | Valid Loss: 0.01395 | Train Accs: 0.99494 | Valid Accs: 0.99410 | Time: 72.95 seconds\n",
      "\n",
      "**************************************************\n",
      "\n",
      "Best Validation Loss at Epoch 2\n",
      "\n",
      "**************************************************\n",
      "\n",
      "Best Validation Accs at Epoch 2\n",
      "\n",
      "**************************************************\n",
      "\n",
      "Time Taken [2 Epochs] : 2.44 minutes\n",
      "\n",
      "**************************************************\n",
      "\n"
     ]
    },
    {
     "data": {
      "image/png": "[encoded data removed]",
      "text/plain": [
       "<Figure size 576x432 with 2 Axes>"
      ]
     },
     "metadata": {
      "needs_background": "light"
     },
     "output_type": "display_data"
    },
    {
     "name": "stdout",
     "output_type": "stream",
     "text": [
      "\n",
      "**************************************************\n",
      "\n",
      "Training Fold 5...\n",
      "\n",
      "**************************************************\n",
      "\n",
      "Epoch: 1 | Train Loss: 0.12069 | Valid Loss: 0.07585 | Train Accs: 0.97202 | Valid Accs: 0.97642 | Time: 72.95 seconds\n",
      "Epoch: 2 | Train Loss: 0.01883 | Valid Loss: 0.00909 | Train Accs: 0.99435 | Valid Accs: 0.99764 | Time: 73.22 seconds\n",
      "\n",
      "**************************************************\n",
      "\n",
      "Best Validation Loss at Epoch 2\n",
      "\n",
      "**************************************************\n",
      "\n",
      "Best Validation Accs at Epoch 2\n",
      "\n",
      "**************************************************\n",
      "\n",
      "Time Taken [2 Epochs] : 2.44 minutes\n",
      "\n",
      "**************************************************\n",
      "\n"
     ]
    },
    {
     "data": {
      "image/png": "[encoded data removed]",
      "text/plain": [
       "<Figure size 576x432 with 2 Axes>"
      ]
     },
     "metadata": {
      "needs_background": "light"
     },
     "output_type": "display_data"
    }
   ],
   "source": [
    "fold = 1\n",
    "BLEs, BAEs = [], []\n",
    "\n",
    "for tr_idx, va_idx in KFold(n_splits=cfg.n_splits, random_state=cfg.seed, shuffle=True).split(images):\n",
    "    tr_images, va_images, tr_labels, va_labels = images[tr_idx], images[va_idx], labels[tr_idx], labels[va_idx]\n",
    "\n",
    "    tr_data_setup = DS(tr_images, tr_labels.reshape(-1, 1), cfg.transform)\n",
    "    va_data_setup = DS(va_images, va_labels.reshape(-1, 1), cfg.transform)\n",
    "\n",
    "    dataloaders = {\n",
    "        \"train\" : DL(tr_data_setup, batch_size=cfg.batch_size, shuffle=True, generator=torch.manual_seed(cfg.seed)),\n",
    "        \"valid\" : DL(va_data_setup, batch_size=cfg.batch_size, shuffle=False),\n",
    "    }\n",
    "\n",
    "    cfg = CFG(epochs=2, lr=1e-3, wd=0.0, batch_size=16, steps_per_epoch=len(dataloaders[\"train\"]))\n",
    "\n",
    "    torch.manual_seed(cfg.seed)\n",
    "    model = Model().to(cfg.device)\n",
    "    optimizer = optim.Adam([p for p in model.parameters() if p.requires_grad], lr=cfg.lr, weight_decay=cfg.wd)\n",
    "    scheduler = optim.lr_scheduler.OneCycleLR(optimizer=optimizer, \n",
    "                                              max_lr=cfg.max_lr, \n",
    "                                              epochs=cfg.epochs, \n",
    "                                              steps_per_epoch=cfg.steps_per_epoch,\n",
    "                                              pct_start=cfg.pct_start, \n",
    "                                              div_factor=cfg.div_factor, \n",
    "                                              final_div_factor=cfg.final_div_factor)\n",
    "    # scheduler = None\n",
    "\n",
    "    L, A, LRs, BLE, BAE, name = fit(model=model, \n",
    "                                    optimizer=optimizer, \n",
    "                                    scheduler=scheduler, \n",
    "                                    epochs=cfg.epochs, \n",
    "                                    early_stopping_patience=cfg.early_stopping, \n",
    "                                    dataloaders=dataloaders, \n",
    "                                    device=cfg.device,\n",
    "                                    save_path=cfg.save_path,\n",
    "                                    fold = fold,\n",
    "                                    verbose=True)\n",
    "\n",
    "    breaker()\n",
    "    show_graphs(L, A)\n",
    "    \n",
    "    BLEs.append(BLE)\n",
    "    BAEs.append(BAE)\n",
    "\n",
    "    fold += 1\n",
    "    \n",
    "#     del tr_images, va_images, \\\n",
    "#         tr_labels, va_labels, \\\n",
    "#         tr_data_setup, va_data_setup, \\\n",
    "#         dataloaders, model\n",
    "    \n",
    "#     gc.collect()\n",
    "#     torch.cuda.empty_cache()\n",
    "    \n",
    "#     sleep(30)"
   ]
  },
  {
   "cell_type": "markdown",
   "id": "117f503e",
   "metadata": {
    "papermill": {
     "duration": 0.030547,
     "end_time": "2022-04-19T17:14:22.786435",
     "exception": false,
     "start_time": "2022-04-19T17:14:22.755888",
     "status": "completed"
    },
    "tags": []
   },
   "source": [
    "### **Predictions**"
   ]
  },
  {
   "cell_type": "code",
   "execution_count": 9,
   "id": "4a20de15",
   "metadata": {
    "execution": {
     "iopub.execute_input": "2022-04-19T17:14:22.850996Z",
     "iopub.status.busy": "2022-04-19T17:14:22.850734Z",
     "iopub.status.idle": "2022-04-19T17:14:22.858823Z",
     "shell.execute_reply": "2022-04-19T17:14:22.857835Z"
    },
    "papermill": {
     "duration": 0.043125,
     "end_time": "2022-04-19T17:14:22.861137",
     "exception": false,
     "start_time": "2022-04-19T17:14:22.818012",
     "status": "completed"
    },
    "tags": []
   },
   "outputs": [
    {
     "name": "stdout",
     "output_type": "stream",
     "text": [
      "\n",
      "**************************************************\n",
      "\n",
      "Best Fold : 1\n",
      "\n",
      "**************************************************\n",
      "\n"
     ]
    }
   ],
   "source": [
    "# test_images = np.load(f\"../input/chest-x-rays-images/test_images_{SIZE}.npy\")\n",
    "# test_labels = np.load(f\"../input/chest-x-rays-images/test_targets_{SIZE}.npy\")\n",
    "\n",
    "# ts_data_setup = DS(test_images, None, cfg.transform)\n",
    "# ts_data = DL(ts_data_setup, batch_size=cfg.batch_size, shuffle=False)\n",
    "\n",
    "best_fold = BLEs.index(min(BLEs)) + 1\n",
    "# model_path = f\"saves/state_fold_{best_fold}.pt\"\n",
    "# y_pred = predict(model=Model().to(cfg.device), dataloader=ts_data, path=model_path, device=cfg.device)\n",
    "\n",
    "# accuracy, auc, precision, recall, f_score = get_scores(test_labels, y_pred)\n",
    "\n",
    "breaker()\n",
    "print(f\"Best Fold : {best_fold}\")\n",
    "breaker()\n",
    "# print_scores(accuracy, auc, precision, recall, f_score)\n",
    "# breaker()\n",
    "# print(classification_report(test_labels, y_pred))\n",
    "# breaker()\n",
    "# print(confusion_matrix(test_labels, y_pred))\n",
    "# breaker()"
   ]
  }
 ],
 "metadata": {
  "kernelspec": {
   "display_name": "Python 3",
   "language": "python",
   "name": "python3"
  },
  "language_info": {
   "codemirror_mode": {
    "name": "ipython",
    "version": 3
   },
   "file_extension": ".py",
   "mimetype": "text/x-python",
   "name": "python",
   "nbconvert_exporter": "python",
   "pygments_lexer": "ipython3",
   "version": "3.7.12"
  },
  "papermill": {
   "default_parameters": {},
   "duration": 795.863277,
   "end_time": "2022-04-19T17:14:24.619880",
   "environment_variables": {},
   "exception": null,
   "input_path": "__notebook__.ipynb",
   "output_path": "__notebook__.ipynb",
   "parameters": {},
   "start_time": "2022-04-19T17:01:08.756603",
   "version": "2.3.4"
  },
  "widgets": {
   "application/vnd.jupyter.widget-state+json": {
    "state": {
     "442058fd03794fa59cd1337ec75c7596": {
      "model_module": "@jupyter-widgets/controls",
      "model_module_version": "1.5.0",
      "model_name": "HBoxModel",
      "state": {
       "_dom_classes": [],
       "_model_module": "@jupyter-widgets/controls",
       "_model_module_version": "1.5.0",
       "_model_name": "HBoxModel",
       "_view_count": null,
       "_view_module": "@jupyter-widgets/controls",
       "_view_module_version": "1.5.0",
       "_view_name": "HBoxView",
       "box_style": "",
       "children": [
        "IPY_MODEL_f3842dfd68b24dc5b99233711464e56a",
        "IPY_MODEL_9434ea00bf4144f4a2b89f989cfe39ba",
        "IPY_MODEL_e2ff04c7c9334d4090118fd7c756d38d"
       ],
       "layout": "IPY_MODEL_75448f6aae3f422c8704a1b309ba8242"
      }
     },
     "75448f6aae3f422c8704a1b309ba8242": {
      "model_module": "@jupyter-widgets/base",
      "model_module_version": "1.2.0",
      "model_name": "LayoutModel",
      "state": {
       "_model_module": "@jupyter-widgets/base",
       "_model_module_version": "1.2.0",
       "_model_name": "LayoutModel",
       "_view_count": null,
       "_view_module": "@jupyter-widgets/base",
       "_view_module_version": "1.2.0",
       "_view_name": "LayoutView",
       "align_content": null,
       "align_items": null,
       "align_self": null,
       "border": null,
       "bottom": null,
       "display": null,
       "flex": null,
       "flex_flow": null,
       "grid_area": null,
       "grid_auto_columns": null,
       "grid_auto_flow": null,
       "grid_auto_rows": null,
       "grid_column": null,
       "grid_gap": null,
       "grid_row": null,
       "grid_template_areas": null,
       "grid_template_columns": null,
       "grid_template_rows": null,
       "height": null,
       "justify_content": null,
       "justify_items": null,
       "left": null,
       "margin": null,
       "max_height": null,
       "max_width": null,
       "min_height": null,
       "min_width": null,
       "object_fit": null,
       "object_position": null,
       "order": null,
       "overflow": null,
       "overflow_x": null,
       "overflow_y": null,
       "padding": null,
       "right": null,
       "top": null,
       "visibility": null,
       "width": null
      }
     },
     "8b7c5a0e7217463c9504a69b55a3373a": {
      "model_module": "@jupyter-widgets/controls",
      "model_module_version": "1.5.0",
      "model_name": "DescriptionStyleModel",
      "state": {
       "_model_module": "@jupyter-widgets/controls",
       "_model_module_version": "1.5.0",
       "_model_name": "DescriptionStyleModel",
       "_view_count": null,
       "_view_module": "@jupyter-widgets/base",
       "_view_module_version": "1.2.0",
       "_view_name": "StyleView",
       "description_width": ""
      }
     },
     "9434ea00bf4144f4a2b89f989cfe39ba": {
      "model_module": "@jupyter-widgets/controls",
      "model_module_version": "1.5.0",
      "model_name": "FloatProgressModel",
      "state": {
       "_dom_classes": [],
       "_model_module": "@jupyter-widgets/controls",
       "_model_module_version": "1.5.0",
       "_model_name": "FloatProgressModel",
       "_view_count": null,
       "_view_module": "@jupyter-widgets/controls",
       "_view_module_version": "1.5.0",
       "_view_name": "ProgressView",
       "bar_style": "success",
       "description": "",
       "description_tooltip": null,
       "layout": "IPY_MODEL_bf25f7060a48448ba7a0c0ae4312f3f7",
       "max": 32342954.0,
       "min": 0.0,
       "orientation": "horizontal",
       "style": "IPY_MODEL_96651d82bfa64b3b801d503b13e3eaf8",
       "value": 32342954.0
      }
     },
     "96651d82bfa64b3b801d503b13e3eaf8": {
      "model_module": "@jupyter-widgets/controls",
      "model_module_version": "1.5.0",
      "model_name": "ProgressStyleModel",
      "state": {
       "_model_module": "@jupyter-widgets/controls",
       "_model_module_version": "1.5.0",
       "_model_name": "ProgressStyleModel",
       "_view_count": null,
       "_view_module": "@jupyter-widgets/base",
       "_view_module_version": "1.2.0",
       "_view_name": "StyleView",
       "bar_color": null,
       "description_width": ""
      }
     },
     "ba9823c9748b4442821731150953a0ac": {
      "model_module": "@jupyter-widgets/controls",
      "model_module_version": "1.5.0",
      "model_name": "DescriptionStyleModel",
      "state": {
       "_model_module": "@jupyter-widgets/controls",
       "_model_module_version": "1.5.0",
       "_model_name": "DescriptionStyleModel",
       "_view_count": null,
       "_view_module": "@jupyter-widgets/base",
       "_view_module_version": "1.2.0",
       "_view_name": "StyleView",
       "description_width": ""
      }
     },
     "bf25f7060a48448ba7a0c0ae4312f3f7": {
      "model_module": "@jupyter-widgets/base",
      "model_module_version": "1.2.0",
      "model_name": "LayoutModel",
      "state": {
       "_model_module": "@jupyter-widgets/base",
       "_model_module_version": "1.2.0",
       "_model_name": "LayoutModel",
       "_view_count": null,
       "_view_module": "@jupyter-widgets/base",
       "_view_module_version": "1.2.0",
       "_view_name": "LayoutView",
       "align_content": null,
       "align_items": null,
       "align_self": null,
       "border": null,
       "bottom": null,
       "display": null,
       "flex": null,
       "flex_flow": null,
       "grid_area": null,
       "grid_auto_columns": null,
       "grid_auto_flow": null,
       "grid_auto_rows": null,
       "grid_column": null,
       "grid_gap": null,
       "grid_row": null,
       "grid_template_areas": null,
       "grid_template_columns": null,
       "grid_template_rows": null,
       "height": null,
       "justify_content": null,
       "justify_items": null,
       "left": null,
       "margin": null,
       "max_height": null,
       "max_width": null,
       "min_height": null,
       "min_width": null,
       "object_fit": null,
       "object_position": null,
       "order": null,
       "overflow": null,
       "overflow_x": null,
       "overflow_y": null,
       "padding": null,
       "right": null,
       "top": null,
       "visibility": null,
       "width": null
      }
     },
     "c28a646554c046108f49c5e873aa8582": {
      "model_module": "@jupyter-widgets/base",
      "model_module_version": "1.2.0",
      "model_name": "LayoutModel",
      "state": {
       "_model_module": "@jupyter-widgets/base",
       "_model_module_version": "1.2.0",
       "_model_name": "LayoutModel",
       "_view_count": null,
       "_view_module": "@jupyter-widgets/base",
       "_view_module_version": "1.2.0",
       "_view_name": "LayoutView",
       "align_content": null,
       "align_items": null,
       "align_self": null,
       "border": null,
       "bottom": null,
       "display": null,
       "flex": null,
       "flex_flow": null,
       "grid_area": null,
       "grid_auto_columns": null,
       "grid_auto_flow": null,
       "grid_auto_rows": null,
       "grid_column": null,
       "grid_gap": null,
       "grid_row": null,
       "grid_template_areas": null,
       "grid_template_columns": null,
       "grid_template_rows": null,
       "height": null,
       "justify_content": null,
       "justify_items": null,
       "left": null,
       "margin": null,
       "max_height": null,
       "max_width": null,
       "min_height": null,
       "min_width": null,
       "object_fit": null,
       "object_position": null,
       "order": null,
       "overflow": null,
       "overflow_x": null,
       "overflow_y": null,
       "padding": null,
       "right": null,
       "top": null,
       "visibility": null,
       "width": null
      }
     },
     "d3fa013e09e44799a9e3463fafd32b31": {
      "model_module": "@jupyter-widgets/base",
      "model_module_version": "1.2.0",
      "model_name": "LayoutModel",
      "state": {
       "_model_module": "@jupyter-widgets/base",
       "_model_module_version": "1.2.0",
       "_model_name": "LayoutModel",
       "_view_count": null,
       "_view_module": "@jupyter-widgets/base",
       "_view_module_version": "1.2.0",
       "_view_name": "LayoutView",
       "align_content": null,
       "align_items": null,
       "align_self": null,
       "border": null,
       "bottom": null,
       "display": null,
       "flex": null,
       "flex_flow": null,
       "grid_area": null,
       "grid_auto_columns": null,
       "grid_auto_flow": null,
       "grid_auto_rows": null,
       "grid_column": null,
       "grid_gap": null,
       "grid_row": null,
       "grid_template_areas": null,
       "grid_template_columns": null,
       "grid_template_rows": null,
       "height": null,
       "justify_content": null,
       "justify_items": null,
       "left": null,
       "margin": null,
       "max_height": null,
       "max_width": null,
       "min_height": null,
       "min_width": null,
       "object_fit": null,
       "object_position": null,
       "order": null,
       "overflow": null,
       "overflow_x": null,
       "overflow_y": null,
       "padding": null,
       "right": null,
       "top": null,
       "visibility": null,
       "width": null
      }
     },
     "e2ff04c7c9334d4090118fd7c756d38d": {
      "model_module": "@jupyter-widgets/controls",
      "model_module_version": "1.5.0",
      "model_name": "HTMLModel",
      "state": {
       "_dom_classes": [],
       "_model_module": "@jupyter-widgets/controls",
       "_model_module_version": "1.5.0",
       "_model_name": "HTMLModel",
       "_view_count": null,
       "_view_module": "@jupyter-widgets/controls",
       "_view_module_version": "1.5.0",
       "_view_name": "HTMLView",
       "description": "",
       "description_tooltip": null,
       "layout": "IPY_MODEL_c28a646554c046108f49c5e873aa8582",
       "placeholder": "​",
       "style": "IPY_MODEL_8b7c5a0e7217463c9504a69b55a3373a",
       "value": " 30.8M/30.8M [00:02&lt;00:00, 17.7MB/s]"
      }
     },
     "f3842dfd68b24dc5b99233711464e56a": {
      "model_module": "@jupyter-widgets/controls",
      "model_module_version": "1.5.0",
      "model_name": "HTMLModel",
      "state": {
       "_dom_classes": [],
       "_model_module": "@jupyter-widgets/controls",
       "_model_module_version": "1.5.0",
       "_model_name": "HTMLModel",
       "_view_count": null,
       "_view_module": "@jupyter-widgets/controls",
       "_view_module_version": "1.5.0",
       "_view_name": "HTMLView",
       "description": "",
       "description_tooltip": null,
       "layout": "IPY_MODEL_d3fa013e09e44799a9e3463fafd32b31",
       "placeholder": "​",
       "style": "IPY_MODEL_ba9823c9748b4442821731150953a0ac",
       "value": "100%"
      }
     }
    },
    "version_major": 2,
    "version_minor": 0
   }
  }
 },
 "nbformat": 4,
 "nbformat_minor": 5
}
