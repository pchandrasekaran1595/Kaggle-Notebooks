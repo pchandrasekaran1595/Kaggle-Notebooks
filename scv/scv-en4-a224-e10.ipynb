{
 "cells": [
  {
   "cell_type": "markdown",
   "id": "e6af31d3",
   "metadata": {
    "_cell_guid": "b1076dfc-b9ad-4769-8c92-a6c4dae69d19",
    "_uuid": "8f2839f25d086af736a60e9eeb907d3b93b6e0e5",
    "papermill": {
     "duration": 0.004568,
     "end_time": "2022-12-15T05:44:15.385211",
     "exception": false,
     "start_time": "2022-12-15T05:44:15.380643",
     "status": "completed"
    },
    "tags": []
   },
   "source": [
    "### **Setup**"
   ]
  },
  {
   "cell_type": "code",
   "execution_count": 1,
   "id": "de92133a",
   "metadata": {
    "execution": {
     "iopub.execute_input": "2022-12-15T05:44:15.393843Z",
     "iopub.status.busy": "2022-12-15T05:44:15.393422Z",
     "iopub.status.idle": "2022-12-15T05:44:27.208260Z",
     "shell.execute_reply": "2022-12-15T05:44:27.206968Z"
    },
    "papermill": {
     "duration": 11.821823,
     "end_time": "2022-12-15T05:44:27.210627",
     "exception": false,
     "start_time": "2022-12-15T05:44:15.388804",
     "status": "completed"
    },
    "tags": []
   },
   "outputs": [
    {
     "name": "stderr",
     "output_type": "stream",
     "text": [
      "WARNING: Running pip as the 'root' user can result in broken permissions and conflicting behaviour with the system package manager. It is recommended to use a virtual environment instead: https://pip.pypa.io/warnings/venv\n"
     ]
    }
   ],
   "source": [
    "%%bash\n",
    "pip install timm -q"
   ]
  },
  {
   "cell_type": "markdown",
   "id": "418efa32",
   "metadata": {
    "papermill": {
     "duration": 0.003403,
     "end_time": "2022-12-15T05:44:27.217945",
     "exception": false,
     "start_time": "2022-12-15T05:44:27.214542",
     "status": "completed"
    },
    "tags": []
   },
   "source": [
    "### **Library Imports**"
   ]
  },
  {
   "cell_type": "code",
   "execution_count": 2,
   "id": "ea4aa10c",
   "metadata": {
    "execution": {
     "iopub.execute_input": "2022-12-15T05:44:27.226289Z",
     "iopub.status.busy": "2022-12-15T05:44:27.225979Z",
     "iopub.status.idle": "2022-12-15T05:44:30.686653Z",
     "shell.execute_reply": "2022-12-15T05:44:30.685506Z"
    },
    "papermill": {
     "duration": 3.467569,
     "end_time": "2022-12-15T05:44:30.688970",
     "exception": false,
     "start_time": "2022-12-15T05:44:27.221401",
     "status": "completed"
    },
    "tags": []
   },
   "outputs": [],
   "source": [
    "import os\n",
    "import re\n",
    "import cv2\n",
    "import timm\n",
    "import torch\n",
    "import numpy as np\n",
    "import pandas as pd\n",
    "import matplotlib.pyplot as plt\n",
    "\n",
    "from time import time\n",
    "from typing import Union\n",
    "from torch import nn, optim\n",
    "from torch.utils.data import Dataset\n",
    "from torch.utils.data import DataLoader as DL\n",
    "from torchvision import transforms\n",
    "\n",
    "from sklearn.model_selection import KFold"
   ]
  },
  {
   "cell_type": "markdown",
   "id": "1952b447",
   "metadata": {
    "papermill": {
     "duration": 0.003593,
     "end_time": "2022-12-15T05:44:30.696957",
     "exception": false,
     "start_time": "2022-12-15T05:44:30.693364",
     "status": "completed"
    },
    "tags": []
   },
   "source": [
    "### **Utilities and Helpers**"
   ]
  },
  {
   "cell_type": "code",
   "execution_count": 3,
   "id": "603d04bb",
   "metadata": {
    "execution": {
     "iopub.execute_input": "2022-12-15T05:44:30.707583Z",
     "iopub.status.busy": "2022-12-15T05:44:30.705447Z",
     "iopub.status.idle": "2022-12-15T05:44:30.719396Z",
     "shell.execute_reply": "2022-12-15T05:44:30.718581Z"
    },
    "papermill": {
     "duration": 0.02068,
     "end_time": "2022-12-15T05:44:30.721323",
     "exception": false,
     "start_time": "2022-12-15T05:44:30.700643",
     "status": "completed"
    },
    "tags": []
   },
   "outputs": [],
   "source": [
    "SEED: int = 42\n",
    "SIZE: int = 224\n",
    "\n",
    "\n",
    "def breaker(num: int=50, char: str=\"*\") -> None: print(\"\\n\" + num*char + \"\\n\")\n",
    "\n",
    "    \n",
    "def get_image(path: str, size: int=224) -> np.ndarray:\n",
    "    image = cv2.imread(path, cv2.IMREAD_COLOR)\n",
    "    image = cv2.cvtColor(src=image, code=cv2.COLOR_BGR2RGB)\n",
    "    return cv2.resize(src=image, dsize=(size, size), interpolation=cv2.INTER_AREA)\n",
    "\n",
    "    \n",
    "def show_loss_graphs(L: list) -> None:\n",
    "    TL, VL = [], []\n",
    "    for i in range(len(L)):\n",
    "        TL.append(L[i][\"train\"])\n",
    "        VL.append(L[i][\"valid\"])\n",
    "    x_Axis = np.arange(1, len(TL) + 1)\n",
    "    plt.figure()\n",
    "    plt.plot(x_Axis, TL, \"r\", label=\"Train\")\n",
    "    plt.plot(x_Axis, VL, \"b\", label=\"Valid\")\n",
    "    plt.legend()\n",
    "    plt.grid()\n",
    "    plt.title(\"Loss Graph\")\n",
    "    plt.show()\n",
    "\n",
    "    \n",
    "def show_accuracy_graphs(A: list) -> None:\n",
    "    TA, VA = [], []\n",
    "    for i in range(len(A)):\n",
    "        TA.append(A[i][\"train\"])\n",
    "        VA.append(A[i][\"valid\"])\n",
    "    x_Axis = np.arange(1, len(TA) + 1)\n",
    "    plt.figure()\n",
    "    plt.plot(x_Axis, TA, \"r\", label=\"Train\")\n",
    "    plt.plot(x_Axis, VA, \"b\", label=\"Valid\")\n",
    "    plt.legend()\n",
    "    plt.grid()\n",
    "    plt.title(\"Accuracy Graph\")\n",
    "    plt.show()\n",
    "    \n",
    "\n",
    "def show_lr_graph(LR: list) -> None:\n",
    "    x_Axis = [i+1 for i in range(len(LR))]\n",
    "    plt.figure(figsize=(8, 6))\n",
    "    plt.plot(x_Axis, LR, \"rx\")\n",
    "    plt.grid()\n",
    "    plt.show()"
   ]
  },
  {
   "cell_type": "markdown",
   "id": "0ca478f1",
   "metadata": {
    "papermill": {
     "duration": 0.003936,
     "end_time": "2022-12-15T05:44:30.729113",
     "exception": false,
     "start_time": "2022-12-15T05:44:30.725177",
     "status": "completed"
    },
    "tags": []
   },
   "source": [
    "\n",
    "\n",
    "### **Configuration**"
   ]
  },
  {
   "cell_type": "code",
   "execution_count": 4,
   "id": "a4ece76d",
   "metadata": {
    "execution": {
     "iopub.execute_input": "2022-12-15T05:44:30.738307Z",
     "iopub.status.busy": "2022-12-15T05:44:30.738055Z",
     "iopub.status.idle": "2022-12-15T05:44:30.806832Z",
     "shell.execute_reply": "2022-12-15T05:44:30.805988Z"
    },
    "papermill": {
     "duration": 0.076147,
     "end_time": "2022-12-15T05:44:30.808989",
     "exception": false,
     "start_time": "2022-12-15T05:44:30.732842",
     "status": "completed"
    },
    "tags": []
   },
   "outputs": [],
   "source": [
    "class CFG(object):\n",
    "    def __init__(self, \n",
    "                 seed: int = 42,\n",
    "                 size: int = 224,\n",
    "                 n_splits: int = 5,\n",
    "                 batch_size: int = 16,\n",
    "                 epochs: int = 25,\n",
    "                 early_stopping: int = 5,\n",
    "                 lr: float = 1e-4,\n",
    "                 wd: float = 0.0,\n",
    "                 max_lr: float = 1e-3,\n",
    "                 pct_start: float = 0.2,\n",
    "                 steps_per_epoch: int = 100,\n",
    "                 div_factor: int = 1e3, \n",
    "                 final_div_factor: float = 1e3,\n",
    "                 ):\n",
    "        self.seed = seed\n",
    "        self.size = size\n",
    "        self.n_splits = n_splits\n",
    "        self.batch_size = batch_size\n",
    "        self.epochs = epochs\n",
    "        self.early_stopping = early_stopping\n",
    "        self.lr = lr\n",
    "        self.wd = wd\n",
    "        self.max_lr = max_lr\n",
    "        self.pct_start = pct_start\n",
    "        self.steps_per_epoch = steps_per_epoch\n",
    "        self.div_factor = div_factor\n",
    "        self.final_div_factor = final_div_factor\n",
    "        self.device = torch.device(\"cuda\" if torch.cuda.is_available() else \"cpu\")\n",
    "        \n",
    "        if self.size == 224:\n",
    "            self.train_transform = transforms.Compose([\n",
    "                transforms.ToTensor(),\n",
    "                transforms.Normalize([0.36468, 0.33754, 0.31026], [0.20133, 0.19425, 0.19649]),\n",
    "                transforms.RandomAffine(degrees=(-45, 45), translate=(0.15, 0.15), scale=(0.5, 1.5)),\n",
    "                transforms.RandomHorizontalFlip(p=0.25),\n",
    "                transforms.RandomVerticalFlip(p=0.25),\n",
    "            ])\n",
    "            self.valid_transform = transforms.Compose([\n",
    "                transforms.ToTensor(),\n",
    "                transforms.Normalize([0.36468, 0.33754, 0.31026], [0.20133, 0.19425, 0.19649]),\n",
    "            ])\n",
    "        \n",
    "        if self.size == 384:\n",
    "            self.train_transform = transforms.Compose([\n",
    "                transforms.ToTensor(),\n",
    "                transforms.Normalize([0.36468, 0.33754, 0.31026], [0.20285, 0.19578, 0.19797]),\n",
    "                transforms.RandomAffine(degrees=(-45, 45), translate=(0.15, 0.15), scale=(0.5, 1.5)),\n",
    "                transforms.RandomHorizontalFlip(p=0.25),\n",
    "                transforms.RandomVerticalFlip(p=0.25),\n",
    "            ])\n",
    "            self.valid_transform = transforms.Compose([\n",
    "                transforms.ToTensor(),\n",
    "                transforms.Normalize([0.36468, 0.33754, 0.31026], [0.20285, 0.19578, 0.19797]),\n",
    "            ])\n",
    "        \n",
    "        if self.size == 512:\n",
    "            self.train_transform = transforms.Compose([\n",
    "                transforms.ToTensor(),\n",
    "                transforms.Normalize([0.36468, 0.33754, 0.31026], [0.20326, 0.19620, 0.19838]),\n",
    "                transforms.RandomAffine(degrees=(-45, 45), translate=(0.15, 0.15), scale=(0.5, 1.5)),\n",
    "                transforms.RandomHorizontalFlip(p=0.25),\n",
    "                transforms.RandomVerticalFlip(p=0.25),\n",
    "            ])\n",
    "            self.valid_transform = transforms.Compose([\n",
    "                transforms.ToTensor(),\n",
    "                transforms.Normalize([0.36468, 0.33754, 0.31026], [0.20326, 0.19620, 0.19838]),\n",
    "            ])\n",
    "                                \n",
    "        self.save_path = \"saves\"\n",
    "        if not os.path.exists(self.save_path): os.makedirs(self.save_path)\n",
    "    \n",
    "cfg = CFG(\n",
    "    seed=SEED, \n",
    "    size=SIZE\n",
    ")"
   ]
  },
  {
   "cell_type": "markdown",
   "id": "fd7b0577",
   "metadata": {
    "papermill": {
     "duration": 0.003608,
     "end_time": "2022-12-15T05:44:30.816350",
     "exception": false,
     "start_time": "2022-12-15T05:44:30.812742",
     "status": "completed"
    },
    "tags": []
   },
   "source": [
    "### **Dataset Template**"
   ]
  },
  {
   "cell_type": "code",
   "execution_count": 5,
   "id": "e3e20404",
   "metadata": {
    "execution": {
     "iopub.execute_input": "2022-12-15T05:44:30.826222Z",
     "iopub.status.busy": "2022-12-15T05:44:30.824640Z",
     "iopub.status.idle": "2022-12-15T05:44:30.832155Z",
     "shell.execute_reply": "2022-12-15T05:44:30.831264Z"
    },
    "papermill": {
     "duration": 0.014033,
     "end_time": "2022-12-15T05:44:30.834106",
     "exception": false,
     "start_time": "2022-12-15T05:44:30.820073",
     "status": "completed"
    },
    "tags": []
   },
   "outputs": [],
   "source": [
    "class DS(Dataset):\n",
    "    def __init__(\n",
    "        self, \n",
    "        filepaths: np.ndarray, \n",
    "        size: int,\n",
    "        labels: Union[np.ndarray, None]=None, \n",
    "        transform=None\n",
    "    ):\n",
    "        \n",
    "        self.filepaths = filepaths\n",
    "        self.labels = labels\n",
    "        self.size = size\n",
    "        self.transform = transform\n",
    "    \n",
    "    def __len__(self):\n",
    "        return self.filepaths.shape[0]\n",
    "    \n",
    "    def __getitem__(self, idx):\n",
    "        image = get_image(self.filepaths[idx], self.size)\n",
    "        if self.labels is None:\n",
    "            return self.transform(image)\n",
    "        return self.transform(image), torch.FloatTensor(self.labels[idx])"
   ]
  },
  {
   "cell_type": "markdown",
   "id": "d580dd3e",
   "metadata": {
    "papermill": {
     "duration": 0.003506,
     "end_time": "2022-12-15T05:44:30.841352",
     "exception": false,
     "start_time": "2022-12-15T05:44:30.837846",
     "status": "completed"
    },
    "tags": []
   },
   "source": [
    "### **Model**"
   ]
  },
  {
   "cell_type": "code",
   "execution_count": 6,
   "id": "3f57e869",
   "metadata": {
    "execution": {
     "iopub.execute_input": "2022-12-15T05:44:30.850005Z",
     "iopub.status.busy": "2022-12-15T05:44:30.849718Z",
     "iopub.status.idle": "2022-12-15T05:44:30.855721Z",
     "shell.execute_reply": "2022-12-15T05:44:30.854892Z"
    },
    "papermill": {
     "duration": 0.012784,
     "end_time": "2022-12-15T05:44:30.857826",
     "exception": false,
     "start_time": "2022-12-15T05:44:30.845042",
     "status": "completed"
    },
    "tags": []
   },
   "outputs": [],
   "source": [
    "class Model(nn.Module):\n",
    "    def __init__(self):\n",
    "        super(Model, self).__init__()\n",
    "            \n",
    "        self.model = timm.create_model(model_name=\"efficientnet_b4\", pretrained=True)\n",
    "        self.model.classifier = nn.Linear(in_features=self.model.classifier.in_features, out_features=1)\n",
    "\n",
    "    def forward(self, x):\n",
    "        return self.model(x)"
   ]
  },
  {
   "cell_type": "markdown",
   "id": "1b383821",
   "metadata": {
    "papermill": {
     "duration": 0.003785,
     "end_time": "2022-12-15T05:44:30.865373",
     "exception": false,
     "start_time": "2022-12-15T05:44:30.861588",
     "status": "completed"
    },
    "tags": []
   },
   "source": [
    "### **Fit and Predict**"
   ]
  },
  {
   "cell_type": "code",
   "execution_count": 7,
   "id": "c1d688b8",
   "metadata": {
    "execution": {
     "iopub.execute_input": "2022-12-15T05:44:30.874322Z",
     "iopub.status.busy": "2022-12-15T05:44:30.874053Z",
     "iopub.status.idle": "2022-12-15T05:44:30.895122Z",
     "shell.execute_reply": "2022-12-15T05:44:30.894295Z"
    },
    "papermill": {
     "duration": 0.028104,
     "end_time": "2022-12-15T05:44:30.897147",
     "exception": false,
     "start_time": "2022-12-15T05:44:30.869043",
     "status": "completed"
    },
    "tags": []
   },
   "outputs": [],
   "source": [
    "def fit(\n",
    "    model=None,\n",
    "    optimizer=None, \n",
    "    scheduler_rlrop=None,\n",
    "    scheduler_oclr=None,\n",
    "    epochs=None, \n",
    "    early_stopping_patience=None, \n",
    "    dataloaders=None, \n",
    "    fold=None, \n",
    "    save_path=None,\n",
    "    device=None,\n",
    "    verbose=False\n",
    ") -> tuple:\n",
    "    \n",
    "    def get_accuracy(y_pred, y_true):\n",
    "        y_pred = torch.sigmoid(y_pred)\n",
    "        \n",
    "        y_pred[y_pred > 0.5] = 1\n",
    "        y_pred[y_pred <= 0.5] = 0\n",
    "        \n",
    "        return torch.count_nonzero(y_pred == y_true).item() / len(y_pred)\n",
    "    \n",
    "    \n",
    "    if verbose:\n",
    "        breaker()\n",
    "        if fold: print(f\"Training Fold {fold}...\")\n",
    "        else: print(\"Training ...\")\n",
    "        breaker()\n",
    "        \n",
    "    bestLoss: dict = {\"train\" : np.inf, \"valid\" : np.inf} \n",
    "    bestAccs: dict = {\"train\" : 0.0, \"valid\" : 0.0}\n",
    "    \n",
    "    Losses: list = []\n",
    "    Accuracies: list = [] \n",
    "    LRs: list = []\n",
    "        \n",
    "    if fold: \n",
    "        ble_name = f\"ble_state_fold_{fold}.pt\"\n",
    "        bae_name = f\"bae_state_fold_{fold}.pt\"\n",
    "    else: \n",
    "        ble_name = f\"ble_state.pt\"\n",
    "        bae_name = f\"bae_state.pt\"\n",
    "        \n",
    "    start_time = time()\n",
    "    for e in range(epochs):\n",
    "        e_st = time()\n",
    "        epochLoss: dict = {\"train\" : 0.0, \"valid\" : 0.0} \n",
    "        epochAccs: dict = {\"train\" : 0.0, \"valid\" : 0.0}\n",
    "\n",
    "        for phase in [\"train\", \"valid\"]:\n",
    "            if phase == \"train\":\n",
    "                model.train()\n",
    "            else:\n",
    "                model.eval()\n",
    "            \n",
    "            lossPerPass: list = []\n",
    "            accsPerPass: list = []\n",
    "                \n",
    "            for X, y in dataloaders[phase]:\n",
    "                X, y = X.to(device), y.to(device)\n",
    "\n",
    "                optimizer.zero_grad()\n",
    "                with torch.set_grad_enabled(phase == \"train\"):\n",
    "                    output = model(X)\n",
    "                    loss = nn.BCEWithLogitsLoss()(output, y)\n",
    "                    if phase == \"train\":\n",
    "                        loss.backward()\n",
    "                        optimizer.step()\n",
    "                        if scheduler_oclr: scheduler_oclr.step()\n",
    "                lossPerPass.append(loss.item())\n",
    "                accsPerPass.append(get_accuracy(output, y))\n",
    "            epochLoss[phase] = np.mean(np.array(lossPerPass))\n",
    "            epochAccs[phase] = np.mean(np.array(accsPerPass))\n",
    "        if scheduler_oclr: LRs.append(scheduler_oclr.get_last_lr())\n",
    "        Losses.append(epochLoss)\n",
    "        Accuracies.append(epochAccs)\n",
    "        \n",
    "        if scheduler_oclr:\n",
    "            save_dict = {\"model_state_dict\"     : model.state_dict(),\n",
    "                         \"optim_state_dict\"     : optimizer.state_dict(),\n",
    "                         \"scheduler_state_dict\" : scheduler_oclr.state_dict()}\n",
    "        \n",
    "        elif scheduler_rlrop:\n",
    "            save_dict = {\"model_state_dict\"     : model.state_dict(),\n",
    "                         \"optim_state_dict\"     : optimizer.state_dict(),\n",
    "                         \"scheduler_state_dict\" : scheduler_rlrop.state_dict()}\n",
    "        \n",
    "        else:\n",
    "            save_dict = {\"model_state_dict\"     : model.state_dict(),\n",
    "                         \"optim_state_dict\"     : optimizer.state_dict()}\n",
    "        \n",
    "        if early_stopping_patience:\n",
    "            if epochLoss[\"valid\"] < bestLoss[\"valid\"]:\n",
    "                bestLoss = epochLoss\n",
    "                BLE = e + 1\n",
    "                torch.save(save_dict, os.path.join(save_path, ble_name))\n",
    "                torch.save(save_dict, os.path.join(save_path, bae_name))\n",
    "                early_stopping_step = 0\n",
    "            else:\n",
    "                early_stopping_step += 1\n",
    "                if early_stopping_step > early_stopping_patience:\n",
    "                    print(\"\\nEarly Stopping at Epoch {}\".format(e + 1))\n",
    "                    break\n",
    "        \n",
    "        if epochLoss[\"valid\"] < bestLoss[\"valid\"]:\n",
    "            bestLoss = epochLoss\n",
    "            BLE = e + 1\n",
    "            torch.save(save_dict,os.path.join(save_path, ble_name))\n",
    "        \n",
    "        if epochAccs[\"valid\"] > bestAccs[\"valid\"]:\n",
    "            bestAccs = epochAccs\n",
    "            BAE = e + 1\n",
    "            torch.save(save_dict,os.path.join(save_path, bae_name))\n",
    "        \n",
    "        if scheduler_rlrop: scheduler_rlrop.step(epochLoss[\"valid\"])\n",
    "        \n",
    "        if verbose:\n",
    "            print(\"Epoch: {} | Train Loss: {:.5f} | Valid Loss: {:.5f} |\\\n",
    " Train Accs: {:.5f} | Valid Accs: {:.5f} | Time: {:.2f} seconds\".format(e+1, \n",
    "                                                                        epochLoss[\"train\"], epochLoss[\"valid\"], \n",
    "                                                                        epochAccs[\"train\"], epochAccs[\"valid\"], \n",
    "                                                                        time()-e_st))\n",
    "\n",
    "    if verbose:                                           \n",
    "        breaker()\n",
    "        print(f\"Best Validation Loss at Epoch {BLE}\")\n",
    "        breaker()\n",
    "        print(f\"Best Validation Accs at Epoch {BAE}\")\n",
    "        breaker()\n",
    "        print(\"Time Taken [{} Epochs] : {:.2f} minutes\".format(len(Losses), (time()-start_time)/60))\n",
    "    \n",
    "    return Losses, Accuracies, LRs, bestLoss, bestAccs, BLE, BAE, ble_name, bae_name\n",
    "\n",
    "\n",
    "# def predict_batch(model=None, dataloader=None, path=None, device=None) -> np.ndarray:\n",
    "#     model.load_state_dict(torch.load(path, map_location=device)[\"model_state_dict\"])\n",
    "#     model.to(device)    \n",
    "#     model.eval()\n",
    "    \n",
    "#     y_pred = torch.zeros(1, 1).to(device)\n",
    "    \n",
    "#     for X in dataloader:\n",
    "#         X = X.to(device)\n",
    "#         with torch.no_grad():\n",
    "#             output = torch.argmax(torch.exp(model(X)), dim=1)\n",
    "#         y_pred = torch.cat((y_pred, output.view(-1, 1)), dim=0)\n",
    "    \n",
    "#     return y_pred[1:].detach().cpu().numpy()"
   ]
  },
  {
   "cell_type": "markdown",
   "id": "2740de90",
   "metadata": {
    "papermill": {
     "duration": 0.00446,
     "end_time": "2022-12-15T05:44:30.905419",
     "exception": false,
     "start_time": "2022-12-15T05:44:30.900959",
     "status": "completed"
    },
    "tags": []
   },
   "source": [
    "### **Train**"
   ]
  },
  {
   "cell_type": "code",
   "execution_count": 8,
   "id": "dbad996c",
   "metadata": {
    "execution": {
     "iopub.execute_input": "2022-12-15T05:44:30.914232Z",
     "iopub.status.busy": "2022-12-15T05:44:30.913971Z",
     "iopub.status.idle": "2022-12-15T05:44:30.939586Z",
     "shell.execute_reply": "2022-12-15T05:44:30.938767Z"
    },
    "papermill": {
     "duration": 0.032055,
     "end_time": "2022-12-15T05:44:30.941470",
     "exception": false,
     "start_time": "2022-12-15T05:44:30.909415",
     "status": "completed"
    },
    "tags": []
   },
   "outputs": [],
   "source": [
    "df = pd.read_csv(\"/kaggle/input/scv-dataframe/train.csv\")\n",
    "\n",
    "filepaths = df.filepaths.copy().values\n",
    "labels = df.labels.copy().values"
   ]
  },
  {
   "cell_type": "code",
   "execution_count": 9,
   "id": "af5d4c5b",
   "metadata": {
    "execution": {
     "iopub.execute_input": "2022-12-15T05:44:30.951655Z",
     "iopub.status.busy": "2022-12-15T05:44:30.950296Z",
     "iopub.status.idle": "2022-12-15T06:35:06.104411Z",
     "shell.execute_reply": "2022-12-15T06:35:06.103448Z"
    },
    "papermill": {
     "duration": 3035.161017,
     "end_time": "2022-12-15T06:35:06.106440",
     "exception": false,
     "start_time": "2022-12-15T05:44:30.945423",
     "status": "completed"
    },
    "tags": []
   },
   "outputs": [
    {
     "name": "stderr",
     "output_type": "stream",
     "text": [
      "Downloading: \"https://github.com/rwightman/pytorch-image-models/releases/download/v0.1-weights/efficientnet_b4_ra2_320-7eb33cd5.pth\" to /root/.cache/torch/hub/checkpoints/efficientnet_b4_ra2_320-7eb33cd5.pth\n"
     ]
    },
    {
     "name": "stdout",
     "output_type": "stream",
     "text": [
      "\n",
      "**************************************************\n",
      "\n",
      "Training Fold 1...\n",
      "\n",
      "**************************************************\n",
      "\n",
      "Epoch: 1 | Train Loss: 0.68941 | Valid Loss: 0.67529 | Train Accs: 0.54288 | Valid Accs: 0.63269 | Time: 74.07 seconds\n",
      "Epoch: 2 | Train Loss: 0.45126 | Valid Loss: 0.39061 | Train Accs: 0.81630 | Valid Accs: 0.84160 | Time: 60.54 seconds\n",
      "Epoch: 3 | Train Loss: 0.19812 | Valid Loss: 0.15350 | Train Accs: 0.92062 | Valid Accs: 0.93742 | Time: 60.27 seconds\n",
      "Epoch: 4 | Train Loss: 0.13291 | Valid Loss: 0.13952 | Train Accs: 0.95404 | Valid Accs: 0.93733 | Time: 59.03 seconds\n",
      "Epoch: 5 | Train Loss: 0.11225 | Valid Loss: 0.08781 | Train Accs: 0.95267 | Valid Accs: 0.97396 | Time: 60.68 seconds\n",
      "Epoch: 6 | Train Loss: 0.09887 | Valid Loss: 0.14260 | Train Accs: 0.96415 | Valid Accs: 0.95478 | Time: 58.50 seconds\n",
      "Epoch: 7 | Train Loss: 0.08044 | Valid Loss: 0.12538 | Train Accs: 0.97197 | Valid Accs: 0.95312 | Time: 57.95 seconds\n",
      "Epoch: 8 | Train Loss: 0.06560 | Valid Loss: 0.11078 | Train Accs: 0.97685 | Valid Accs: 0.96503 | Time: 58.47 seconds\n",
      "Epoch: 9 | Train Loss: 0.06131 | Valid Loss: 0.11812 | Train Accs: 0.97610 | Valid Accs: 0.96867 | Time: 58.07 seconds\n",
      "Epoch: 10 | Train Loss: 0.06146 | Valid Loss: 0.08971 | Train Accs: 0.97410 | Valid Accs: 0.97396 | Time: 58.22 seconds\n",
      "\n",
      "**************************************************\n",
      "\n",
      "Best Validation Loss at Epoch 5\n",
      "\n",
      "**************************************************\n",
      "\n",
      "Best Validation Accs at Epoch 5\n",
      "\n",
      "**************************************************\n",
      "\n",
      "Time Taken [10 Epochs] : 10.10 minutes\n",
      "\n",
      "**************************************************\n",
      "\n"
     ]
    },
    {
     "data": {
      "image/png": "[encoded data removed]",
      "text/plain": [
       "<Figure size 432x288 with 1 Axes>"
      ]
     },
     "metadata": {
      "needs_background": "light"
     },
     "output_type": "display_data"
    },
    {
     "name": "stdout",
     "output_type": "stream",
     "text": [
      "\n",
      "**************************************************\n",
      "\n"
     ]
    },
    {
     "data": {
      "image/png": "[encoded data removed]",
      "text/plain": [
       "<Figure size 432x288 with 1 Axes>"
      ]
     },
     "metadata": {
      "needs_background": "light"
     },
     "output_type": "display_data"
    },
    {
     "name": "stdout",
     "output_type": "stream",
     "text": [
      "\n",
      "**************************************************\n",
      "\n"
     ]
    },
    {
     "data": {
      "image/png": "[encoded data removed]",
      "text/plain": [
       "<Figure size 576x432 with 1 Axes>"
      ]
     },
     "metadata": {
      "needs_background": "light"
     },
     "output_type": "display_data"
    },
    {
     "name": "stdout",
     "output_type": "stream",
     "text": [
      "\n",
      "**************************************************\n",
      "\n",
      "\n",
      "**************************************************\n",
      "\n",
      "Training Fold 2...\n",
      "\n",
      "**************************************************\n",
      "\n",
      "Epoch: 1 | Train Loss: 0.69148 | Valid Loss: 0.67444 | Train Accs: 0.50888 | Valid Accs: 0.61227 | Time: 60.02 seconds\n",
      "Epoch: 2 | Train Loss: 0.44693 | Valid Loss: 0.33804 | Train Accs: 0.81968 | Valid Accs: 0.86781 | Time: 59.86 seconds\n",
      "Epoch: 3 | Train Loss: 0.19042 | Valid Loss: 0.21647 | Train Accs: 0.92200 | Valid Accs: 0.92518 | Time: 60.28 seconds\n",
      "Epoch: 4 | Train Loss: 0.12359 | Valid Loss: 0.14465 | Train Accs: 0.95450 | Valid Accs: 0.93386 | Time: 60.24 seconds\n",
      "Epoch: 5 | Train Loss: 0.11945 | Valid Loss: 0.12504 | Train Accs: 0.95663 | Valid Accs: 0.96520 | Time: 60.58 seconds\n",
      "Epoch: 6 | Train Loss: 0.08700 | Valid Loss: 0.11636 | Train Accs: 0.96921 | Valid Accs: 0.96867 | Time: 60.10 seconds\n",
      "Epoch: 7 | Train Loss: 0.07866 | Valid Loss: 0.14119 | Train Accs: 0.97151 | Valid Accs: 0.95131 | Time: 58.40 seconds\n",
      "Epoch: 8 | Train Loss: 0.06625 | Valid Loss: 0.09266 | Train Accs: 0.97284 | Valid Accs: 0.97049 | Time: 60.47 seconds\n",
      "Epoch: 9 | Train Loss: 0.05970 | Valid Loss: 0.10746 | Train Accs: 0.97564 | Valid Accs: 0.96875 | Time: 57.85 seconds\n",
      "Epoch: 10 | Train Loss: 0.07085 | Valid Loss: 0.09860 | Train Accs: 0.97714 | Valid Accs: 0.97396 | Time: 58.58 seconds\n",
      "\n",
      "**************************************************\n",
      "\n",
      "Best Validation Loss at Epoch 8\n",
      "\n",
      "**************************************************\n",
      "\n",
      "Best Validation Accs at Epoch 10\n",
      "\n",
      "**************************************************\n",
      "\n",
      "Time Taken [10 Epochs] : 9.94 minutes\n",
      "\n",
      "**************************************************\n",
      "\n"
     ]
    },
    {
     "data": {
      "image/png": "[encoded data removed]",
      "text/plain": [
       "<Figure size 432x288 with 1 Axes>"
      ]
     },
     "metadata": {
      "needs_background": "light"
     },
     "output_type": "display_data"
    },
    {
     "name": "stdout",
     "output_type": "stream",
     "text": [
      "\n",
      "**************************************************\n",
      "\n"
     ]
    },
    {
     "data": {
      "image/png": "[encoded data removed]",
      "text/plain": [
       "<Figure size 432x288 with 1 Axes>"
      ]
     },
     "metadata": {
      "needs_background": "light"
     },
     "output_type": "display_data"
    },
    {
     "name": "stdout",
     "output_type": "stream",
     "text": [
      "\n",
      "**************************************************\n",
      "\n"
     ]
    },
    {
     "data": {
      "image/png": "[encoded data removed]",
      "text/plain": [
       "<Figure size 576x432 with 1 Axes>"
      ]
     },
     "metadata": {
      "needs_background": "light"
     },
     "output_type": "display_data"
    },
    {
     "name": "stdout",
     "output_type": "stream",
     "text": [
      "\n",
      "**************************************************\n",
      "\n",
      "\n",
      "**************************************************\n",
      "\n",
      "Training Fold 3...\n",
      "\n",
      "**************************************************\n",
      "\n",
      "Epoch: 1 | Train Loss: 0.68898 | Valid Loss: 0.67283 | Train Accs: 0.53863 | Valid Accs: 0.59474 | Time: 60.11 seconds\n",
      "Epoch: 2 | Train Loss: 0.47108 | Valid Loss: 0.25717 | Train Accs: 0.78918 | Valid Accs: 0.89385 | Time: 60.25 seconds\n",
      "Epoch: 3 | Train Loss: 0.19068 | Valid Loss: 0.11977 | Train Accs: 0.92722 | Valid Accs: 0.95478 | Time: 60.28 seconds\n",
      "Epoch: 4 | Train Loss: 0.13442 | Valid Loss: 0.11438 | Train Accs: 0.95267 | Valid Accs: 0.95139 | Time: 59.94 seconds\n",
      "Epoch: 5 | Train Loss: 0.11647 | Valid Loss: 0.08997 | Train Accs: 0.95175 | Valid Accs: 0.96875 | Time: 60.24 seconds\n",
      "Epoch: 6 | Train Loss: 0.10879 | Valid Loss: 0.07624 | Train Accs: 0.95871 | Valid Accs: 0.97561 | Time: 60.60 seconds\n",
      "Epoch: 7 | Train Loss: 0.09301 | Valid Loss: 0.07229 | Train Accs: 0.96536 | Valid Accs: 0.96875 | Time: 59.58 seconds\n",
      "Epoch: 8 | Train Loss: 0.06852 | Valid Loss: 0.06965 | Train Accs: 0.97289 | Valid Accs: 0.97396 | Time: 60.18 seconds\n",
      "Epoch: 9 | Train Loss: 0.07926 | Valid Loss: 0.05030 | Train Accs: 0.96979 | Valid Accs: 0.98611 | Time: 59.94 seconds\n",
      "Epoch: 10 | Train Loss: 0.06575 | Valid Loss: 0.05841 | Train Accs: 0.97564 | Valid Accs: 0.97917 | Time: 58.57 seconds\n",
      "\n",
      "**************************************************\n",
      "\n",
      "Best Validation Loss at Epoch 9\n",
      "\n",
      "**************************************************\n",
      "\n",
      "Best Validation Accs at Epoch 9\n",
      "\n",
      "**************************************************\n",
      "\n",
      "Time Taken [10 Epochs] : 9.99 minutes\n",
      "\n",
      "**************************************************\n",
      "\n"
     ]
    },
    {
     "data": {
      "image/png": "[encoded data removed]",
      "text/plain": [
       "<Figure size 432x288 with 1 Axes>"
      ]
     },
     "metadata": {
      "needs_background": "light"
     },
     "output_type": "display_data"
    },
    {
     "name": "stdout",
     "output_type": "stream",
     "text": [
      "\n",
      "**************************************************\n",
      "\n"
     ]
    },
    {
     "data": {
      "image/png": "[encoded data removed]",
      "text/plain": [
       "<Figure size 432x288 with 1 Axes>"
      ]
     },
     "metadata": {
      "needs_background": "light"
     },
     "output_type": "display_data"
    },
    {
     "name": "stdout",
     "output_type": "stream",
     "text": [
      "\n",
      "**************************************************\n",
      "\n"
     ]
    },
    {
     "data": {
      "image/png": "[encoded data removed]",
      "text/plain": [
       "<Figure size 576x432 with 1 Axes>"
      ]
     },
     "metadata": {
      "needs_background": "light"
     },
     "output_type": "display_data"
    },
    {
     "name": "stdout",
     "output_type": "stream",
     "text": [
      "\n",
      "**************************************************\n",
      "\n",
      "\n",
      "**************************************************\n",
      "\n",
      "Training Fold 4...\n",
      "\n",
      "**************************************************\n",
      "\n",
      "Epoch: 1 | Train Loss: 0.69130 | Valid Loss: 0.67197 | Train Accs: 0.52886 | Valid Accs: 0.64187 | Time: 59.97 seconds\n",
      "Epoch: 2 | Train Loss: 0.44953 | Valid Loss: 0.31411 | Train Accs: 0.81434 | Valid Accs: 0.88525 | Time: 60.23 seconds\n",
      "Epoch: 3 | Train Loss: 0.18058 | Valid Loss: 0.13791 | Train Accs: 0.93274 | Valid Accs: 0.94783 | Time: 60.82 seconds\n",
      "Epoch: 4 | Train Loss: 0.14126 | Valid Loss: 0.13687 | Train Accs: 0.94664 | Valid Accs: 0.94263 | Time: 59.94 seconds\n",
      "Epoch: 5 | Train Loss: 0.13189 | Valid Loss: 0.11548 | Train Accs: 0.94911 | Valid Accs: 0.96172 | Time: 60.38 seconds\n",
      "Epoch: 6 | Train Loss: 0.12225 | Valid Loss: 0.09472 | Train Accs: 0.95417 | Valid Accs: 0.97396 | Time: 60.57 seconds\n",
      "Epoch: 7 | Train Loss: 0.09240 | Valid Loss: 0.08852 | Train Accs: 0.96899 | Valid Accs: 0.96693 | Time: 59.81 seconds\n",
      "Epoch: 8 | Train Loss: 0.07022 | Valid Loss: 0.08357 | Train Accs: 0.97656 | Valid Accs: 0.97561 | Time: 60.46 seconds\n",
      "Epoch: 9 | Train Loss: 0.05763 | Valid Loss: 0.08494 | Train Accs: 0.97639 | Valid Accs: 0.97040 | Time: 58.25 seconds\n",
      "Epoch: 10 | Train Loss: 0.06995 | Valid Loss: 0.04036 | Train Accs: 0.97501 | Valid Accs: 0.98611 | Time: 60.52 seconds\n",
      "\n",
      "**************************************************\n",
      "\n",
      "Best Validation Loss at Epoch 10\n",
      "\n",
      "**************************************************\n",
      "\n",
      "Best Validation Accs at Epoch 10\n",
      "\n",
      "**************************************************\n",
      "\n",
      "Time Taken [10 Epochs] : 10.02 minutes\n",
      "\n",
      "**************************************************\n",
      "\n"
     ]
    },
    {
     "data": {
      "image/png": "[encoded data removed]",
      "text/plain": [
       "<Figure size 432x288 with 1 Axes>"
      ]
     },
     "metadata": {
      "needs_background": "light"
     },
     "output_type": "display_data"
    },
    {
     "name": "stdout",
     "output_type": "stream",
     "text": [
      "\n",
      "**************************************************\n",
      "\n"
     ]
    },
    {
     "data": {
      "image/png": "[encoded data removed]",
      "text/plain": [
       "<Figure size 432x288 with 1 Axes>"
      ]
     },
     "metadata": {
      "needs_background": "light"
     },
     "output_type": "display_data"
    },
    {
     "name": "stdout",
     "output_type": "stream",
     "text": [
      "\n",
      "**************************************************\n",
      "\n"
     ]
    },
    {
     "data": {
      "image/png": "[encoded data removed]",
      "text/plain": [
       "<Figure size 576x432 with 1 Axes>"
      ]
     },
     "metadata": {
      "needs_background": "light"
     },
     "output_type": "display_data"
    },
    {
     "name": "stdout",
     "output_type": "stream",
     "text": [
      "\n",
      "**************************************************\n",
      "\n",
      "\n",
      "**************************************************\n",
      "\n",
      "Training Fold 5...\n",
      "\n",
      "**************************************************\n",
      "\n",
      "Epoch: 1 | Train Loss: 0.68885 | Valid Loss: 0.67357 | Train Accs: 0.53382 | Valid Accs: 0.65382 | Time: 60.20 seconds\n",
      "Epoch: 2 | Train Loss: 0.44419 | Valid Loss: 0.22753 | Train Accs: 0.80460 | Valid Accs: 0.90590 | Time: 59.72 seconds\n",
      "Epoch: 3 | Train Loss: 0.18955 | Valid Loss: 0.16081 | Train Accs: 0.93061 | Valid Accs: 0.93576 | Time: 59.53 seconds\n",
      "Epoch: 4 | Train Loss: 0.14772 | Valid Loss: 0.12564 | Train Accs: 0.94467 | Valid Accs: 0.95451 | Time: 60.59 seconds\n",
      "Epoch: 5 | Train Loss: 0.13053 | Valid Loss: 0.11193 | Train Accs: 0.95441 | Valid Accs: 0.96875 | Time: 60.82 seconds\n",
      "Epoch: 6 | Train Loss: 0.10027 | Valid Loss: 0.10212 | Train Accs: 0.96176 | Valid Accs: 0.96701 | Time: 59.71 seconds\n",
      "Epoch: 7 | Train Loss: 0.08104 | Valid Loss: 0.06085 | Train Accs: 0.96921 | Valid Accs: 0.97743 | Time: 59.97 seconds\n",
      "Epoch: 8 | Train Loss: 0.06519 | Valid Loss: 0.06224 | Train Accs: 0.96967 | Valid Accs: 0.98090 | Time: 58.87 seconds\n",
      "Epoch: 9 | Train Loss: 0.05765 | Valid Loss: 0.05320 | Train Accs: 0.98189 | Valid Accs: 0.97917 | Time: 59.18 seconds\n",
      "Epoch: 10 | Train Loss: 0.05774 | Valid Loss: 0.06401 | Train Accs: 0.97767 | Valid Accs: 0.98090 | Time: 58.50 seconds\n",
      "\n",
      "**************************************************\n",
      "\n",
      "Best Validation Loss at Epoch 9\n",
      "\n",
      "**************************************************\n",
      "\n",
      "Best Validation Accs at Epoch 8\n",
      "\n",
      "**************************************************\n",
      "\n",
      "Time Taken [10 Epochs] : 9.95 minutes\n",
      "\n",
      "**************************************************\n",
      "\n"
     ]
    },
    {
     "data": {
      "image/png": "[encoded data removed]",
      "text/plain": [
       "<Figure size 432x288 with 1 Axes>"
      ]
     },
     "metadata": {
      "needs_background": "light"
     },
     "output_type": "display_data"
    },
    {
     "name": "stdout",
     "output_type": "stream",
     "text": [
      "\n",
      "**************************************************\n",
      "\n"
     ]
    },
    {
     "data": {
      "image/png": "[encoded data removed]",
      "text/plain": [
       "<Figure size 432x288 with 1 Axes>"
      ]
     },
     "metadata": {
      "needs_background": "light"
     },
     "output_type": "display_data"
    },
    {
     "name": "stdout",
     "output_type": "stream",
     "text": [
      "\n",
      "**************************************************\n",
      "\n"
     ]
    },
    {
     "data": {
      "image/png": "[encoded data removed]",
      "text/plain": [
       "<Figure size 576x432 with 1 Axes>"
      ]
     },
     "metadata": {
      "needs_background": "light"
     },
     "output_type": "display_data"
    },
    {
     "name": "stdout",
     "output_type": "stream",
     "text": [
      "\n",
      "**************************************************\n",
      "\n"
     ]
    }
   ],
   "source": [
    "fold: int = 1\n",
    "BLs: list = []\n",
    "BAs: list = []\n",
    "    \n",
    "cfg.batch_size = 64\n",
    "cfg.epochs = 10\n",
    "    \n",
    "for tr_idx, va_idx in KFold(n_splits=cfg.n_splits, random_state=cfg.seed, shuffle=True).split(filepaths):\n",
    "\n",
    "    tr_filepaths, va_filepaths = filepaths[tr_idx], filepaths[va_idx] \n",
    "    tr_labels, va_labels       = labels[tr_idx], labels[va_idx]\n",
    "\n",
    "    tr_data_setup = DS(\n",
    "        filepaths=tr_filepaths, \n",
    "        labels=tr_labels.reshape(-1, 1),\n",
    "        size=cfg.size,\n",
    "        transform=cfg.train_transform\n",
    "    )\n",
    "\n",
    "    va_data_setup = DS(\n",
    "        filepaths=va_filepaths, \n",
    "        labels=va_labels.reshape(-1, 1),\n",
    "        size=cfg.size,\n",
    "        transform=cfg.train_transform\n",
    "    )\n",
    "\n",
    "    dataloaders = {\n",
    "        \"train\" : DL(tr_data_setup, batch_size=cfg.batch_size, shuffle=True, generator=torch.manual_seed(cfg.seed)),\n",
    "        \"valid\" : DL(va_data_setup, batch_size=cfg.batch_size, shuffle=False),\n",
    "    }\n",
    "\n",
    "    cfg.steps_per_epoch=len(dataloaders[\"train\"])\n",
    "\n",
    "    torch.manual_seed(cfg.seed)\n",
    "    model = Model().to(cfg.device)\n",
    "\n",
    "    optimizer = optim.Adam([p for p in model.parameters() if p.requires_grad], lr=cfg.lr, weight_decay=cfg.wd)\n",
    "    # optimizer = optim.AdamW([p for p in model.parameters() if p.requires_grad], lr=cfg.lr, weight_decay=cfg.wd)\n",
    "    # optimizer = optim.SGD([p for p in model.parameters() if p.requires_grad], lr=cfg.lr, weight_decay=cfg.wd, momentum=0.9)\n",
    "\n",
    "    scheduler_oclr = optim.lr_scheduler.OneCycleLR(\n",
    "        optimizer=optimizer, \n",
    "        max_lr=cfg.max_lr, \n",
    "        epochs=cfg.epochs, \n",
    "        steps_per_epoch=cfg.steps_per_epoch,\n",
    "        pct_start=cfg.pct_start, \n",
    "        div_factor=cfg.div_factor, \n",
    "        final_div_factor=cfg.final_div_factor\n",
    "    )\n",
    "\n",
    "    # scheduler_rlrop = optim.lr_scheduler.ReduceLROnPlateau(\n",
    "    #     optimizer=optimizer,\n",
    "    #     patience=cfg.patience,\n",
    "    #     eps=cfg.eps,\n",
    "    #     verbose=True\n",
    "    # )\n",
    "\n",
    "    # scheduler_oclr = None\n",
    "    scheduler_rlrop = None\n",
    "\n",
    "\n",
    "    L, A, LR, BL, BA, _, _, _, _ = fit(\n",
    "        model=model, \n",
    "        optimizer=optimizer, \n",
    "        scheduler_oclr=scheduler_oclr,\n",
    "        scheduler_rlrop=scheduler_rlrop,\n",
    "        epochs=cfg.epochs, \n",
    "        early_stopping_patience=cfg.early_stopping, \n",
    "        dataloaders=dataloaders, \n",
    "        device=cfg.device,\n",
    "        save_path=cfg.save_path,\n",
    "        fold=fold,\n",
    "        verbose=True\n",
    "    )\n",
    "\n",
    "\n",
    "    breaker()\n",
    "    show_loss_graphs(L)\n",
    "    breaker()\n",
    "    show_accuracy_graphs(A)\n",
    "    breaker()\n",
    "    if scheduler_oclr:\n",
    "        show_lr_graph(LR)\n",
    "        breaker()\n",
    "\n",
    "    BLs.append(BL)\n",
    "    BAs.append(BA)\n",
    "\n",
    "    fold += 1"
   ]
  },
  {
   "cell_type": "markdown",
   "id": "35e83eef",
   "metadata": {
    "papermill": {
     "duration": 0.018171,
     "end_time": "2022-12-15T06:35:06.148445",
     "exception": false,
     "start_time": "2022-12-15T06:35:06.130274",
     "status": "completed"
    },
    "tags": []
   },
   "source": [
    "### **Best Model**"
   ]
  },
  {
   "cell_type": "code",
   "execution_count": 10,
   "id": "1d6c567b",
   "metadata": {
    "execution": {
     "iopub.execute_input": "2022-12-15T06:35:06.201129Z",
     "iopub.status.busy": "2022-12-15T06:35:06.200691Z",
     "iopub.status.idle": "2022-12-15T06:35:06.214067Z",
     "shell.execute_reply": "2022-12-15T06:35:06.212854Z"
    },
    "papermill": {
     "duration": 0.041857,
     "end_time": "2022-12-15T06:35:06.222379",
     "exception": false,
     "start_time": "2022-12-15T06:35:06.180522",
     "status": "completed"
    },
    "tags": []
   },
   "outputs": [
    {
     "name": "stdout",
     "output_type": "stream",
     "text": [
      "\n",
      "**************************************************\n",
      "\n",
      "Best Loss Model Fold     : 4\n",
      "Best Accuracy Model Fold : 3\n",
      "\n",
      "**************************************************\n",
      "\n"
     ]
    }
   ],
   "source": [
    "BL = np.inf\n",
    "for i in range(len(BLs)):\n",
    "    if BLs[i][\"valid\"] < BL:\n",
    "        BL = BLs[i][\"valid\"]\n",
    "        best_loss_index = i\n",
    "\n",
    "        \n",
    "BA = 0.0\n",
    "for i in range(len(BAs)):\n",
    "    if BAs[i][\"valid\"] > BA:\n",
    "        BA = BAs[i][\"valid\"]\n",
    "        best_accs_index = i\n",
    "\n",
    "breaker()\n",
    "print(f\"Best Loss Model Fold     : {best_loss_index + 1}\")\n",
    "print(f\"Best Accuracy Model Fold : {best_accs_index + 1}\")\n",
    "breaker()"
   ]
  }
 ],
 "metadata": {
  "kernelspec": {
   "display_name": "Python 3",
   "language": "python",
   "name": "python3"
  },
  "language_info": {
   "codemirror_mode": {
    "name": "ipython",
    "version": 3
   },
   "file_extension": ".py",
   "mimetype": "text/x-python",
   "name": "python",
   "nbconvert_exporter": "python",
   "pygments_lexer": "ipython3",
   "version": "3.7.12"
  },
  "papermill": {
   "default_parameters": {},
   "duration": 3060.91732,
   "end_time": "2022-12-15T06:35:08.466781",
   "environment_variables": {},
   "exception": null,
   "input_path": "__notebook__.ipynb",
   "output_path": "__notebook__.ipynb",
   "parameters": {},
   "start_time": "2022-12-15T05:44:07.549461",
   "version": "2.3.4"
  }
 },
 "nbformat": 4,
 "nbformat_minor": 5
}
