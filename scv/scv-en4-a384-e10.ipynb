{
 "cells": [
  {
   "cell_type": "markdown",
   "id": "dd37d63d",
   "metadata": {
    "_cell_guid": "b1076dfc-b9ad-4769-8c92-a6c4dae69d19",
    "_uuid": "8f2839f25d086af736a60e9eeb907d3b93b6e0e5",
    "papermill": {
     "duration": 0.004531,
     "end_time": "2022-12-15T18:17:47.525026",
     "exception": false,
     "start_time": "2022-12-15T18:17:47.520495",
     "status": "completed"
    },
    "tags": []
   },
   "source": [
    "### **Setup**"
   ]
  },
  {
   "cell_type": "code",
   "execution_count": 1,
   "id": "19ebf18b",
   "metadata": {
    "execution": {
     "iopub.execute_input": "2022-12-15T18:17:47.533706Z",
     "iopub.status.busy": "2022-12-15T18:17:47.533254Z",
     "iopub.status.idle": "2022-12-15T18:17:58.392285Z",
     "shell.execute_reply": "2022-12-15T18:17:58.390675Z"
    },
    "papermill": {
     "duration": 10.866035,
     "end_time": "2022-12-15T18:17:58.394657",
     "exception": false,
     "start_time": "2022-12-15T18:17:47.528622",
     "status": "completed"
    },
    "tags": []
   },
   "outputs": [
    {
     "name": "stderr",
     "output_type": "stream",
     "text": [
      "WARNING: Running pip as the 'root' user can result in broken permissions and conflicting behaviour with the system package manager. It is recommended to use a virtual environment instead: https://pip.pypa.io/warnings/venv\n"
     ]
    }
   ],
   "source": [
    "%%bash\n",
    "pip install timm -q"
   ]
  },
  {
   "cell_type": "markdown",
   "id": "33581e4d",
   "metadata": {
    "papermill": {
     "duration": 0.003492,
     "end_time": "2022-12-15T18:17:58.402055",
     "exception": false,
     "start_time": "2022-12-15T18:17:58.398563",
     "status": "completed"
    },
    "tags": []
   },
   "source": [
    "### **Library Imports**"
   ]
  },
  {
   "cell_type": "code",
   "execution_count": 2,
   "id": "6c2791cc",
   "metadata": {
    "execution": {
     "iopub.execute_input": "2022-12-15T18:17:58.411726Z",
     "iopub.status.busy": "2022-12-15T18:17:58.411387Z",
     "iopub.status.idle": "2022-12-15T18:18:02.123191Z",
     "shell.execute_reply": "2022-12-15T18:18:02.121825Z"
    },
    "papermill": {
     "duration": 3.723532,
     "end_time": "2022-12-15T18:18:02.129195",
     "exception": false,
     "start_time": "2022-12-15T18:17:58.405663",
     "status": "completed"
    },
    "tags": []
   },
   "outputs": [],
   "source": [
    "import os\n",
    "import re\n",
    "import cv2\n",
    "import timm\n",
    "import torch\n",
    "import numpy as np\n",
    "import pandas as pd\n",
    "import matplotlib.pyplot as plt\n",
    "\n",
    "from time import time\n",
    "from typing import Union\n",
    "from torch import nn, optim\n",
    "from torch.utils.data import Dataset\n",
    "from torch.utils.data import DataLoader as DL\n",
    "from torchvision import transforms\n",
    "\n",
    "from sklearn.model_selection import KFold"
   ]
  },
  {
   "cell_type": "markdown",
   "id": "945d4475",
   "metadata": {
    "papermill": {
     "duration": 0.005579,
     "end_time": "2022-12-15T18:18:02.141049",
     "exception": false,
     "start_time": "2022-12-15T18:18:02.135470",
     "status": "completed"
    },
    "tags": []
   },
   "source": [
    "### **Utilities and Helpers**"
   ]
  },
  {
   "cell_type": "code",
   "execution_count": 3,
   "id": "69debccb",
   "metadata": {
    "execution": {
     "iopub.execute_input": "2022-12-15T18:18:02.154313Z",
     "iopub.status.busy": "2022-12-15T18:18:02.153447Z",
     "iopub.status.idle": "2022-12-15T18:18:02.172796Z",
     "shell.execute_reply": "2022-12-15T18:18:02.171835Z"
    },
    "papermill": {
     "duration": 0.028728,
     "end_time": "2022-12-15T18:18:02.175397",
     "exception": false,
     "start_time": "2022-12-15T18:18:02.146669",
     "status": "completed"
    },
    "tags": []
   },
   "outputs": [],
   "source": [
    "SEED: int = 42\n",
    "SIZE: int = 384\n",
    "\n",
    "\n",
    "def breaker(num: int=50, char: str=\"*\") -> None: print(\"\\n\" + num*char + \"\\n\")\n",
    "\n",
    "    \n",
    "def get_image(path: str, size: int=224) -> np.ndarray:\n",
    "    image = cv2.imread(path, cv2.IMREAD_COLOR)\n",
    "    image = cv2.cvtColor(src=image, code=cv2.COLOR_BGR2RGB)\n",
    "    return cv2.resize(src=image, dsize=(size, size), interpolation=cv2.INTER_AREA)\n",
    "\n",
    "    \n",
    "def show_loss_graphs(L: list) -> None:\n",
    "    TL, VL = [], []\n",
    "    for i in range(len(L)):\n",
    "        TL.append(L[i][\"train\"])\n",
    "        VL.append(L[i][\"valid\"])\n",
    "    x_Axis = np.arange(1, len(TL) + 1)\n",
    "    plt.figure()\n",
    "    plt.plot(x_Axis, TL, \"r\", label=\"Train\")\n",
    "    plt.plot(x_Axis, VL, \"b\", label=\"Valid\")\n",
    "    plt.legend()\n",
    "    plt.grid()\n",
    "    plt.title(\"Loss Graph\")\n",
    "    plt.show()\n",
    "\n",
    "    \n",
    "def show_accuracy_graphs(A: list) -> None:\n",
    "    TA, VA = [], []\n",
    "    for i in range(len(A)):\n",
    "        TA.append(A[i][\"train\"])\n",
    "        VA.append(A[i][\"valid\"])\n",
    "    x_Axis = np.arange(1, len(TA) + 1)\n",
    "    plt.figure()\n",
    "    plt.plot(x_Axis, TA, \"r\", label=\"Train\")\n",
    "    plt.plot(x_Axis, VA, \"b\", label=\"Valid\")\n",
    "    plt.legend()\n",
    "    plt.grid()\n",
    "    plt.title(\"Accuracy Graph\")\n",
    "    plt.show()\n",
    "    \n",
    "\n",
    "def show_lr_graph(LR: list) -> None:\n",
    "    x_Axis = [i+1 for i in range(len(LR))]\n",
    "    plt.figure(figsize=(8, 6))\n",
    "    plt.plot(x_Axis, LR, \"rx\")\n",
    "    plt.grid()\n",
    "    plt.show()"
   ]
  },
  {
   "cell_type": "markdown",
   "id": "f53d0c37",
   "metadata": {
    "papermill": {
     "duration": 0.005565,
     "end_time": "2022-12-15T18:18:02.187257",
     "exception": false,
     "start_time": "2022-12-15T18:18:02.181692",
     "status": "completed"
    },
    "tags": []
   },
   "source": [
    "\n",
    "\n",
    "### **Configuration**"
   ]
  },
  {
   "cell_type": "code",
   "execution_count": 4,
   "id": "28fe401c",
   "metadata": {
    "execution": {
     "iopub.execute_input": "2022-12-15T18:18:02.200357Z",
     "iopub.status.busy": "2022-12-15T18:18:02.199870Z",
     "iopub.status.idle": "2022-12-15T18:18:02.301689Z",
     "shell.execute_reply": "2022-12-15T18:18:02.299577Z"
    },
    "papermill": {
     "duration": 0.111803,
     "end_time": "2022-12-15T18:18:02.304733",
     "exception": false,
     "start_time": "2022-12-15T18:18:02.192930",
     "status": "completed"
    },
    "tags": []
   },
   "outputs": [],
   "source": [
    "class CFG(object):\n",
    "    def __init__(self, \n",
    "                 seed: int = 42,\n",
    "                 size: int = 224,\n",
    "                 n_splits: int = 5,\n",
    "                 batch_size: int = 16,\n",
    "                 epochs: int = 25,\n",
    "                 early_stopping: int = 5,\n",
    "                 lr: float = 1e-4,\n",
    "                 wd: float = 0.0,\n",
    "                 max_lr: float = 1e-3,\n",
    "                 pct_start: float = 0.2,\n",
    "                 steps_per_epoch: int = 100,\n",
    "                 div_factor: int = 1e3, \n",
    "                 final_div_factor: float = 1e3,\n",
    "                 ):\n",
    "        self.seed = seed\n",
    "        self.size = size\n",
    "        self.n_splits = n_splits\n",
    "        self.batch_size = batch_size\n",
    "        self.epochs = epochs\n",
    "        self.early_stopping = early_stopping\n",
    "        self.lr = lr\n",
    "        self.wd = wd\n",
    "        self.max_lr = max_lr\n",
    "        self.pct_start = pct_start\n",
    "        self.steps_per_epoch = steps_per_epoch\n",
    "        self.div_factor = div_factor\n",
    "        self.final_div_factor = final_div_factor\n",
    "        self.device = torch.device(\"cuda\" if torch.cuda.is_available() else \"cpu\")\n",
    "        \n",
    "        if self.size == 224:\n",
    "            self.train_transform = transforms.Compose([\n",
    "                transforms.ToTensor(),\n",
    "                transforms.Normalize([0.36468, 0.33754, 0.31026], [0.20133, 0.19425, 0.19649]),\n",
    "                transforms.RandomAffine(degrees=(-45, 45), translate=(0.15, 0.15), scale=(0.5, 1.5)),\n",
    "                transforms.RandomHorizontalFlip(p=0.25),\n",
    "                transforms.RandomVerticalFlip(p=0.25),\n",
    "            ])\n",
    "            self.valid_transform = transforms.Compose([\n",
    "                transforms.ToTensor(),\n",
    "                transforms.Normalize([0.36468, 0.33754, 0.31026], [0.20133, 0.19425, 0.19649]),\n",
    "            ])\n",
    "        \n",
    "        if self.size == 384:\n",
    "            self.train_transform = transforms.Compose([\n",
    "                transforms.ToTensor(),\n",
    "                transforms.Normalize([0.36468, 0.33754, 0.31026], [0.20285, 0.19578, 0.19797]),\n",
    "                transforms.RandomAffine(degrees=(-45, 45), translate=(0.15, 0.15), scale=(0.5, 1.5)),\n",
    "                transforms.RandomHorizontalFlip(p=0.25),\n",
    "                transforms.RandomVerticalFlip(p=0.25),\n",
    "            ])\n",
    "            self.valid_transform = transforms.Compose([\n",
    "                transforms.ToTensor(),\n",
    "                transforms.Normalize([0.36468, 0.33754, 0.31026], [0.20285, 0.19578, 0.19797]),\n",
    "            ])\n",
    "        \n",
    "        if self.size == 512:\n",
    "            self.train_transform = transforms.Compose([\n",
    "                transforms.ToTensor(),\n",
    "                transforms.Normalize([0.36468, 0.33754, 0.31026], [0.20326, 0.19620, 0.19838]),\n",
    "                transforms.RandomAffine(degrees=(-45, 45), translate=(0.15, 0.15), scale=(0.5, 1.5)),\n",
    "                transforms.RandomHorizontalFlip(p=0.25),\n",
    "                transforms.RandomVerticalFlip(p=0.25),\n",
    "            ])\n",
    "            self.valid_transform = transforms.Compose([\n",
    "                transforms.ToTensor(),\n",
    "                transforms.Normalize([0.36468, 0.33754, 0.31026], [0.20326, 0.19620, 0.19838]),\n",
    "            ])\n",
    "                                \n",
    "        self.save_path = \"saves\"\n",
    "        if not os.path.exists(self.save_path): os.makedirs(self.save_path)\n",
    "    \n",
    "cfg = CFG(\n",
    "    seed=SEED, \n",
    "    size=SIZE\n",
    ")"
   ]
  },
  {
   "cell_type": "markdown",
   "id": "a6dd39f5",
   "metadata": {
    "papermill": {
     "duration": 0.005179,
     "end_time": "2022-12-15T18:18:02.315897",
     "exception": false,
     "start_time": "2022-12-15T18:18:02.310718",
     "status": "completed"
    },
    "tags": []
   },
   "source": [
    "### **Dataset Template**"
   ]
  },
  {
   "cell_type": "code",
   "execution_count": 5,
   "id": "450126f4",
   "metadata": {
    "execution": {
     "iopub.execute_input": "2022-12-15T18:18:02.327802Z",
     "iopub.status.busy": "2022-12-15T18:18:02.327342Z",
     "iopub.status.idle": "2022-12-15T18:18:02.337225Z",
     "shell.execute_reply": "2022-12-15T18:18:02.336358Z"
    },
    "papermill": {
     "duration": 0.018635,
     "end_time": "2022-12-15T18:18:02.339728",
     "exception": false,
     "start_time": "2022-12-15T18:18:02.321093",
     "status": "completed"
    },
    "tags": []
   },
   "outputs": [],
   "source": [
    "class DS(Dataset):\n",
    "    def __init__(\n",
    "        self, \n",
    "        filepaths: np.ndarray, \n",
    "        size: int,\n",
    "        labels: Union[np.ndarray, None]=None, \n",
    "        transform=None\n",
    "    ):\n",
    "        \n",
    "        self.filepaths = filepaths\n",
    "        self.labels = labels\n",
    "        self.size = size\n",
    "        self.transform = transform\n",
    "    \n",
    "    def __len__(self):\n",
    "        return self.filepaths.shape[0]\n",
    "    \n",
    "    def __getitem__(self, idx):\n",
    "        image = get_image(self.filepaths[idx], self.size)\n",
    "        if self.labels is None:\n",
    "            return self.transform(image)\n",
    "        return self.transform(image), torch.FloatTensor(self.labels[idx])"
   ]
  },
  {
   "cell_type": "markdown",
   "id": "6f05a54a",
   "metadata": {
    "papermill": {
     "duration": 0.005142,
     "end_time": "2022-12-15T18:18:02.350215",
     "exception": false,
     "start_time": "2022-12-15T18:18:02.345073",
     "status": "completed"
    },
    "tags": []
   },
   "source": [
    "### **Model**"
   ]
  },
  {
   "cell_type": "code",
   "execution_count": 6,
   "id": "339b53fe",
   "metadata": {
    "execution": {
     "iopub.execute_input": "2022-12-15T18:18:02.362504Z",
     "iopub.status.busy": "2022-12-15T18:18:02.361661Z",
     "iopub.status.idle": "2022-12-15T18:18:02.368137Z",
     "shell.execute_reply": "2022-12-15T18:18:02.367322Z"
    },
    "papermill": {
     "duration": 0.016429,
     "end_time": "2022-12-15T18:18:02.371977",
     "exception": false,
     "start_time": "2022-12-15T18:18:02.355548",
     "status": "completed"
    },
    "tags": []
   },
   "outputs": [],
   "source": [
    "class Model(nn.Module):\n",
    "    def __init__(self):\n",
    "        super(Model, self).__init__()\n",
    "            \n",
    "        self.model = timm.create_model(model_name=\"efficientnet_b4\", pretrained=True)\n",
    "        self.model.classifier = nn.Linear(in_features=self.model.classifier.in_features, out_features=1)\n",
    "\n",
    "    def forward(self, x):\n",
    "        return self.model(x)"
   ]
  },
  {
   "cell_type": "markdown",
   "id": "edd411d9",
   "metadata": {
    "papermill": {
     "duration": 0.005034,
     "end_time": "2022-12-15T18:18:02.382358",
     "exception": false,
     "start_time": "2022-12-15T18:18:02.377324",
     "status": "completed"
    },
    "tags": []
   },
   "source": [
    "### **Fit and Predict**"
   ]
  },
  {
   "cell_type": "code",
   "execution_count": 7,
   "id": "7ac20704",
   "metadata": {
    "execution": {
     "iopub.execute_input": "2022-12-15T18:18:02.394221Z",
     "iopub.status.busy": "2022-12-15T18:18:02.393905Z",
     "iopub.status.idle": "2022-12-15T18:18:02.423027Z",
     "shell.execute_reply": "2022-12-15T18:18:02.422186Z"
    },
    "papermill": {
     "duration": 0.038517,
     "end_time": "2022-12-15T18:18:02.426194",
     "exception": false,
     "start_time": "2022-12-15T18:18:02.387677",
     "status": "completed"
    },
    "tags": []
   },
   "outputs": [],
   "source": [
    "def fit(\n",
    "    model=None,\n",
    "    optimizer=None, \n",
    "    scheduler_rlrop=None,\n",
    "    scheduler_oclr=None,\n",
    "    epochs=None, \n",
    "    early_stopping_patience=None, \n",
    "    dataloaders=None, \n",
    "    fold=None, \n",
    "    save_path=None,\n",
    "    device=None,\n",
    "    verbose=False\n",
    ") -> tuple:\n",
    "    \n",
    "    def get_accuracy(y_pred, y_true):\n",
    "        y_pred = torch.sigmoid(y_pred)\n",
    "        \n",
    "        y_pred[y_pred > 0.5] = 1\n",
    "        y_pred[y_pred <= 0.5] = 0\n",
    "        \n",
    "        return torch.count_nonzero(y_pred == y_true).item() / len(y_pred)\n",
    "    \n",
    "    \n",
    "    if verbose:\n",
    "        breaker()\n",
    "        if fold: print(f\"Training Fold {fold}...\")\n",
    "        else: print(\"Training ...\")\n",
    "        breaker()\n",
    "        \n",
    "    bestLoss: dict = {\"train\" : np.inf, \"valid\" : np.inf} \n",
    "    bestAccs: dict = {\"train\" : 0.0, \"valid\" : 0.0}\n",
    "    \n",
    "    Losses: list = []\n",
    "    Accuracies: list = [] \n",
    "    LRs: list = []\n",
    "        \n",
    "    if fold: \n",
    "        ble_name = f\"ble_state_fold_{fold}.pt\"\n",
    "        bae_name = f\"bae_state_fold_{fold}.pt\"\n",
    "    else: \n",
    "        ble_name = f\"ble_state.pt\"\n",
    "        bae_name = f\"bae_state.pt\"\n",
    "        \n",
    "    start_time = time()\n",
    "    for e in range(epochs):\n",
    "        e_st = time()\n",
    "        epochLoss: dict = {\"train\" : 0.0, \"valid\" : 0.0} \n",
    "        epochAccs: dict = {\"train\" : 0.0, \"valid\" : 0.0}\n",
    "\n",
    "        for phase in [\"train\", \"valid\"]:\n",
    "            if phase == \"train\":\n",
    "                model.train()\n",
    "            else:\n",
    "                model.eval()\n",
    "            \n",
    "            lossPerPass: list = []\n",
    "            accsPerPass: list = []\n",
    "                \n",
    "            for X, y in dataloaders[phase]:\n",
    "                X, y = X.to(device), y.to(device)\n",
    "\n",
    "                optimizer.zero_grad()\n",
    "                with torch.set_grad_enabled(phase == \"train\"):\n",
    "                    output = model(X)\n",
    "                    loss = nn.BCEWithLogitsLoss()(output, y)\n",
    "                    if phase == \"train\":\n",
    "                        loss.backward()\n",
    "                        optimizer.step()\n",
    "                        if scheduler_oclr: scheduler_oclr.step()\n",
    "                lossPerPass.append(loss.item())\n",
    "                accsPerPass.append(get_accuracy(output, y))\n",
    "            epochLoss[phase] = np.mean(np.array(lossPerPass))\n",
    "            epochAccs[phase] = np.mean(np.array(accsPerPass))\n",
    "        if scheduler_oclr: LRs.append(scheduler_oclr.get_last_lr())\n",
    "        Losses.append(epochLoss)\n",
    "        Accuracies.append(epochAccs)\n",
    "        \n",
    "        if scheduler_oclr:\n",
    "            save_dict = {\"model_state_dict\"     : model.state_dict(),\n",
    "                         \"optim_state_dict\"     : optimizer.state_dict(),\n",
    "                         \"scheduler_state_dict\" : scheduler_oclr.state_dict()}\n",
    "        \n",
    "        elif scheduler_rlrop:\n",
    "            save_dict = {\"model_state_dict\"     : model.state_dict(),\n",
    "                         \"optim_state_dict\"     : optimizer.state_dict(),\n",
    "                         \"scheduler_state_dict\" : scheduler_rlrop.state_dict()}\n",
    "        \n",
    "        else:\n",
    "            save_dict = {\"model_state_dict\"     : model.state_dict(),\n",
    "                         \"optim_state_dict\"     : optimizer.state_dict()}\n",
    "        \n",
    "        if early_stopping_patience:\n",
    "            if epochLoss[\"valid\"] < bestLoss[\"valid\"]:\n",
    "                bestLoss = epochLoss\n",
    "                BLE = e + 1\n",
    "                torch.save(save_dict, os.path.join(save_path, ble_name))\n",
    "                torch.save(save_dict, os.path.join(save_path, bae_name))\n",
    "                early_stopping_step = 0\n",
    "            else:\n",
    "                early_stopping_step += 1\n",
    "                if early_stopping_step > early_stopping_patience:\n",
    "                    print(\"\\nEarly Stopping at Epoch {}\".format(e + 1))\n",
    "                    break\n",
    "        \n",
    "        if epochLoss[\"valid\"] < bestLoss[\"valid\"]:\n",
    "            bestLoss = epochLoss\n",
    "            BLE = e + 1\n",
    "            torch.save(save_dict,os.path.join(save_path, ble_name))\n",
    "        \n",
    "        if epochAccs[\"valid\"] > bestAccs[\"valid\"]:\n",
    "            bestAccs = epochAccs\n",
    "            BAE = e + 1\n",
    "            torch.save(save_dict,os.path.join(save_path, bae_name))\n",
    "        \n",
    "        if scheduler_rlrop: scheduler_rlrop.step(epochLoss[\"valid\"])\n",
    "        \n",
    "        if verbose:\n",
    "            print(\"Epoch: {} | Train Loss: {:.5f} | Valid Loss: {:.5f} |\\\n",
    " Train Accs: {:.5f} | Valid Accs: {:.5f} | Time: {:.2f} seconds\".format(e+1, \n",
    "                                                                        epochLoss[\"train\"], epochLoss[\"valid\"], \n",
    "                                                                        epochAccs[\"train\"], epochAccs[\"valid\"], \n",
    "                                                                        time()-e_st))\n",
    "\n",
    "    if verbose:                                           \n",
    "        breaker()\n",
    "        print(f\"Best Validation Loss at Epoch {BLE}\")\n",
    "        breaker()\n",
    "        print(f\"Best Validation Accs at Epoch {BAE}\")\n",
    "        breaker()\n",
    "        print(\"Time Taken [{} Epochs] : {:.2f} minutes\".format(len(Losses), (time()-start_time)/60))\n",
    "    \n",
    "    return Losses, Accuracies, LRs, bestLoss, bestAccs, BLE, BAE, ble_name, bae_name\n",
    "\n",
    "\n",
    "# def predict_batch(model=None, dataloader=None, path=None, device=None) -> np.ndarray:\n",
    "#     model.load_state_dict(torch.load(path, map_location=device)[\"model_state_dict\"])\n",
    "#     model.to(device)    \n",
    "#     model.eval()\n",
    "    \n",
    "#     y_pred = torch.zeros(1, 1).to(device)\n",
    "    \n",
    "#     for X in dataloader:\n",
    "#         X = X.to(device)\n",
    "#         with torch.no_grad():\n",
    "#             output = torch.argmax(torch.exp(model(X)), dim=1)\n",
    "#         y_pred = torch.cat((y_pred, output.view(-1, 1)), dim=0)\n",
    "    \n",
    "#     return y_pred[1:].detach().cpu().numpy()"
   ]
  },
  {
   "cell_type": "markdown",
   "id": "2b717ec3",
   "metadata": {
    "papermill": {
     "duration": 0.007504,
     "end_time": "2022-12-15T18:18:02.446325",
     "exception": false,
     "start_time": "2022-12-15T18:18:02.438821",
     "status": "completed"
    },
    "tags": []
   },
   "source": [
    "### **Train**"
   ]
  },
  {
   "cell_type": "code",
   "execution_count": 8,
   "id": "ba10767c",
   "metadata": {
    "execution": {
     "iopub.execute_input": "2022-12-15T18:18:02.461313Z",
     "iopub.status.busy": "2022-12-15T18:18:02.460967Z",
     "iopub.status.idle": "2022-12-15T18:18:02.497656Z",
     "shell.execute_reply": "2022-12-15T18:18:02.495568Z"
    },
    "papermill": {
     "duration": 0.04817,
     "end_time": "2022-12-15T18:18:02.501446",
     "exception": false,
     "start_time": "2022-12-15T18:18:02.453276",
     "status": "completed"
    },
    "tags": []
   },
   "outputs": [],
   "source": [
    "df = pd.read_csv(\"/kaggle/input/scv-dataframe/train.csv\")\n",
    "\n",
    "filepaths = df.filepaths.copy().values\n",
    "labels = df.labels.copy().values"
   ]
  },
  {
   "cell_type": "code",
   "execution_count": 9,
   "id": "12e467e8",
   "metadata": {
    "execution": {
     "iopub.execute_input": "2022-12-15T18:18:02.514343Z",
     "iopub.status.busy": "2022-12-15T18:18:02.514020Z",
     "iopub.status.idle": "2022-12-15T19:58:14.717027Z",
     "shell.execute_reply": "2022-12-15T19:58:14.716078Z"
    },
    "papermill": {
     "duration": 6012.211901,
     "end_time": "2022-12-15T19:58:14.719071",
     "exception": false,
     "start_time": "2022-12-15T18:18:02.507170",
     "status": "completed"
    },
    "tags": []
   },
   "outputs": [
    {
     "name": "stderr",
     "output_type": "stream",
     "text": [
      "Downloading: \"https://github.com/rwightman/pytorch-image-models/releases/download/v0.1-weights/efficientnet_b4_ra2_320-7eb33cd5.pth\" to /root/.cache/torch/hub/checkpoints/efficientnet_b4_ra2_320-7eb33cd5.pth\n"
     ]
    },
    {
     "name": "stdout",
     "output_type": "stream",
     "text": [
      "\n",
      "**************************************************\n",
      "\n",
      "Training Fold 1...\n",
      "\n",
      "**************************************************\n",
      "\n",
      "Epoch: 1 | Train Loss: 0.61613 | Valid Loss: 0.23910 | Train Accs: 0.64024 | Valid Accs: 0.89890 | Time: 148.55 seconds\n",
      "Epoch: 2 | Train Loss: 0.21348 | Valid Loss: 0.16443 | Train Accs: 0.92226 | Valid Accs: 0.94118 | Time: 119.38 seconds\n",
      "Epoch: 3 | Train Loss: 0.17737 | Valid Loss: 0.13125 | Train Accs: 0.93190 | Valid Accs: 0.96140 | Time: 120.19 seconds\n",
      "Epoch: 4 | Train Loss: 0.14944 | Valid Loss: 0.10213 | Train Accs: 0.96098 | Valid Accs: 0.96324 | Time: 120.22 seconds\n",
      "Epoch: 5 | Train Loss: 0.13346 | Valid Loss: 0.05142 | Train Accs: 0.94621 | Valid Accs: 0.98346 | Time: 121.10 seconds\n",
      "Epoch: 6 | Train Loss: 0.08410 | Valid Loss: 0.05203 | Train Accs: 0.97248 | Valid Accs: 0.98713 | Time: 118.75 seconds\n",
      "Epoch: 7 | Train Loss: 0.05846 | Valid Loss: 0.06167 | Train Accs: 0.98414 | Valid Accs: 0.97978 | Time: 117.72 seconds\n",
      "Epoch: 8 | Train Loss: 0.02616 | Valid Loss: 0.04545 | Train Accs: 0.99254 | Valid Accs: 0.98713 | Time: 117.43 seconds\n",
      "Epoch: 9 | Train Loss: 0.01668 | Valid Loss: 0.06524 | Train Accs: 0.99487 | Valid Accs: 0.97978 | Time: 118.12 seconds\n",
      "Epoch: 10 | Train Loss: 0.02262 | Valid Loss: 0.03142 | Train Accs: 0.99207 | Valid Accs: 0.99081 | Time: 120.36 seconds\n",
      "\n",
      "**************************************************\n",
      "\n",
      "Best Validation Loss at Epoch 10\n",
      "\n",
      "**************************************************\n",
      "\n",
      "Best Validation Accs at Epoch 10\n",
      "\n",
      "**************************************************\n",
      "\n",
      "Time Taken [10 Epochs] : 20.36 minutes\n",
      "\n",
      "**************************************************\n",
      "\n"
     ]
    },
    {
     "data": {
      "image/png": "[encoded data removed]",
      "text/plain": [
       "<Figure size 432x288 with 1 Axes>"
      ]
     },
     "metadata": {
      "needs_background": "light"
     },
     "output_type": "display_data"
    },
    {
     "name": "stdout",
     "output_type": "stream",
     "text": [
      "\n",
      "**************************************************\n",
      "\n"
     ]
    },
    {
     "data": {
      "image/png": "[encoded data removed]",
      "text/plain": [
       "<Figure size 432x288 with 1 Axes>"
      ]
     },
     "metadata": {
      "needs_background": "light"
     },
     "output_type": "display_data"
    },
    {
     "name": "stdout",
     "output_type": "stream",
     "text": [
      "\n",
      "**************************************************\n",
      "\n"
     ]
    },
    {
     "data": {
      "image/png": "[encoded data removed]",
      "text/plain": [
       "<Figure size 576x432 with 1 Axes>"
      ]
     },
     "metadata": {
      "needs_background": "light"
     },
     "output_type": "display_data"
    },
    {
     "name": "stdout",
     "output_type": "stream",
     "text": [
      "\n",
      "**************************************************\n",
      "\n",
      "\n",
      "**************************************************\n",
      "\n",
      "Training Fold 2...\n",
      "\n",
      "**************************************************\n",
      "\n",
      "Epoch: 1 | Train Loss: 0.61785 | Valid Loss: 0.24748 | Train Accs: 0.64226 | Valid Accs: 0.90257 | Time: 118.37 seconds\n",
      "Epoch: 2 | Train Loss: 0.22735 | Valid Loss: 0.19518 | Train Accs: 0.92118 | Valid Accs: 0.92463 | Time: 119.14 seconds\n",
      "Epoch: 3 | Train Loss: 0.15351 | Valid Loss: 0.13121 | Train Accs: 0.94667 | Valid Accs: 0.95772 | Time: 119.39 seconds\n",
      "Epoch: 4 | Train Loss: 0.14807 | Valid Loss: 0.09324 | Train Accs: 0.95414 | Valid Accs: 0.95772 | Time: 118.45 seconds\n",
      "Epoch: 5 | Train Loss: 0.11281 | Valid Loss: 0.10639 | Train Accs: 0.96331 | Valid Accs: 0.95956 | Time: 117.93 seconds\n",
      "Epoch: 6 | Train Loss: 0.11484 | Valid Loss: 0.07395 | Train Accs: 0.96455 | Valid Accs: 0.97059 | Time: 119.43 seconds\n",
      "Epoch: 7 | Train Loss: 0.05149 | Valid Loss: 0.07044 | Train Accs: 0.98181 | Valid Accs: 0.97426 | Time: 119.08 seconds\n",
      "Epoch: 8 | Train Loss: 0.03355 | Valid Loss: 0.03766 | Train Accs: 0.98818 | Valid Accs: 0.98346 | Time: 119.53 seconds\n",
      "Epoch: 9 | Train Loss: 0.04090 | Valid Loss: 0.03621 | Train Accs: 0.98632 | Valid Accs: 0.98897 | Time: 118.45 seconds\n",
      "Epoch: 10 | Train Loss: 0.03071 | Valid Loss: 0.05394 | Train Accs: 0.99160 | Valid Accs: 0.97978 | Time: 118.38 seconds\n",
      "\n",
      "**************************************************\n",
      "\n",
      "Best Validation Loss at Epoch 9\n",
      "\n",
      "**************************************************\n",
      "\n",
      "Best Validation Accs at Epoch 9\n",
      "\n",
      "**************************************************\n",
      "\n",
      "Time Taken [10 Epochs] : 19.80 minutes\n",
      "\n",
      "**************************************************\n",
      "\n"
     ]
    },
    {
     "data": {
      "image/png": "[encoded data removed]",
      "text/plain": [
       "<Figure size 432x288 with 1 Axes>"
      ]
     },
     "metadata": {
      "needs_background": "light"
     },
     "output_type": "display_data"
    },
    {
     "name": "stdout",
     "output_type": "stream",
     "text": [
      "\n",
      "**************************************************\n",
      "\n"
     ]
    },
    {
     "data": {
      "image/png": "[encoded data removed]",
      "text/plain": [
       "<Figure size 432x288 with 1 Axes>"
      ]
     },
     "metadata": {
      "needs_background": "light"
     },
     "output_type": "display_data"
    },
    {
     "name": "stdout",
     "output_type": "stream",
     "text": [
      "\n",
      "**************************************************\n",
      "\n"
     ]
    },
    {
     "data": {
      "image/png": "[encoded data removed]",
      "text/plain": [
       "<Figure size 576x432 with 1 Axes>"
      ]
     },
     "metadata": {
      "needs_background": "light"
     },
     "output_type": "display_data"
    },
    {
     "name": "stdout",
     "output_type": "stream",
     "text": [
      "\n",
      "**************************************************\n",
      "\n",
      "\n",
      "**************************************************\n",
      "\n",
      "Training Fold 3...\n",
      "\n",
      "**************************************************\n",
      "\n",
      "Epoch: 1 | Train Loss: 0.62437 | Valid Loss: 0.34382 | Train Accs: 0.64008 | Valid Accs: 0.83640 | Time: 120.49 seconds\n",
      "Epoch: 2 | Train Loss: 0.24825 | Valid Loss: 0.14468 | Train Accs: 0.90516 | Valid Accs: 0.96691 | Time: 120.37 seconds\n",
      "Epoch: 3 | Train Loss: 0.18956 | Valid Loss: 0.10738 | Train Accs: 0.93361 | Valid Accs: 0.96324 | Time: 120.22 seconds\n",
      "Epoch: 4 | Train Loss: 0.12936 | Valid Loss: 0.06103 | Train Accs: 0.95429 | Valid Accs: 0.98713 | Time: 120.63 seconds\n",
      "Epoch: 5 | Train Loss: 0.09423 | Valid Loss: 0.07721 | Train Accs: 0.96362 | Valid Accs: 0.97426 | Time: 119.12 seconds\n",
      "Epoch: 6 | Train Loss: 0.06761 | Valid Loss: 0.04559 | Train Accs: 0.97668 | Valid Accs: 0.98713 | Time: 120.20 seconds\n",
      "Epoch: 7 | Train Loss: 0.06133 | Valid Loss: 0.04208 | Train Accs: 0.98539 | Valid Accs: 0.98713 | Time: 120.04 seconds\n",
      "Epoch: 8 | Train Loss: 0.05853 | Valid Loss: 0.03545 | Train Accs: 0.98041 | Valid Accs: 0.99081 | Time: 121.46 seconds\n",
      "Epoch: 9 | Train Loss: 0.02971 | Valid Loss: 0.03828 | Train Accs: 0.99114 | Valid Accs: 0.98897 | Time: 120.29 seconds\n",
      "Epoch: 10 | Train Loss: 0.02878 | Valid Loss: 0.03549 | Train Accs: 0.99207 | Valid Accs: 0.99081 | Time: 121.87 seconds\n",
      "\n",
      "**************************************************\n",
      "\n",
      "Best Validation Loss at Epoch 8\n",
      "\n",
      "**************************************************\n",
      "\n",
      "Best Validation Accs at Epoch 8\n",
      "\n",
      "**************************************************\n",
      "\n",
      "Time Taken [10 Epochs] : 20.08 minutes\n",
      "\n",
      "**************************************************\n",
      "\n"
     ]
    },
    {
     "data": {
      "image/png": "[encoded data removed]",
      "text/plain": [
       "<Figure size 432x288 with 1 Axes>"
      ]
     },
     "metadata": {
      "needs_background": "light"
     },
     "output_type": "display_data"
    },
    {
     "name": "stdout",
     "output_type": "stream",
     "text": [
      "\n",
      "**************************************************\n",
      "\n"
     ]
    },
    {
     "data": {
      "image/png": "[encoded data removed]",
      "text/plain": [
       "<Figure size 432x288 with 1 Axes>"
      ]
     },
     "metadata": {
      "needs_background": "light"
     },
     "output_type": "display_data"
    },
    {
     "name": "stdout",
     "output_type": "stream",
     "text": [
      "\n",
      "**************************************************\n",
      "\n"
     ]
    },
    {
     "data": {
      "image/png": "[encoded data removed]",
      "text/plain": [
       "<Figure size 576x432 with 1 Axes>"
      ]
     },
     "metadata": {
      "needs_background": "light"
     },
     "output_type": "display_data"
    },
    {
     "name": "stdout",
     "output_type": "stream",
     "text": [
      "\n",
      "**************************************************\n",
      "\n",
      "\n",
      "**************************************************\n",
      "\n",
      "Training Fold 4...\n",
      "\n",
      "**************************************************\n",
      "\n",
      "Epoch: 1 | Train Loss: 0.61993 | Valid Loss: 0.28434 | Train Accs: 0.64599 | Valid Accs: 0.85478 | Time: 122.29 seconds\n",
      "Epoch: 2 | Train Loss: 0.22375 | Valid Loss: 0.12058 | Train Accs: 0.91371 | Valid Accs: 0.95037 | Time: 120.64 seconds\n",
      "Epoch: 3 | Train Loss: 0.19008 | Valid Loss: 0.14133 | Train Accs: 0.93548 | Valid Accs: 0.97794 | Time: 119.50 seconds\n",
      "Epoch: 4 | Train Loss: 0.13991 | Valid Loss: 0.10163 | Train Accs: 0.95460 | Valid Accs: 0.97059 | Time: 120.22 seconds\n",
      "Epoch: 5 | Train Loss: 0.10011 | Valid Loss: 0.03493 | Train Accs: 0.96300 | Valid Accs: 0.98713 | Time: 119.51 seconds\n",
      "Epoch: 6 | Train Loss: 0.07743 | Valid Loss: 0.02615 | Train Accs: 0.97388 | Valid Accs: 0.99081 | Time: 119.81 seconds\n",
      "Epoch: 7 | Train Loss: 0.05173 | Valid Loss: 0.03854 | Train Accs: 0.98181 | Valid Accs: 0.99081 | Time: 116.69 seconds\n",
      "Epoch: 8 | Train Loss: 0.07011 | Valid Loss: 0.02804 | Train Accs: 0.98025 | Valid Accs: 0.99265 | Time: 117.73 seconds\n",
      "Epoch: 9 | Train Loss: 0.03326 | Valid Loss: 0.03194 | Train Accs: 0.98834 | Valid Accs: 0.99081 | Time: 117.01 seconds\n",
      "Epoch: 10 | Train Loss: 0.05538 | Valid Loss: 0.03151 | Train Accs: 0.98663 | Valid Accs: 0.98897 | Time: 116.61 seconds\n",
      "\n",
      "**************************************************\n",
      "\n",
      "Best Validation Loss at Epoch 6\n",
      "\n",
      "**************************************************\n",
      "\n",
      "Best Validation Accs at Epoch 8\n",
      "\n",
      "**************************************************\n",
      "\n",
      "Time Taken [10 Epochs] : 19.83 minutes\n",
      "\n",
      "**************************************************\n",
      "\n"
     ]
    },
    {
     "data": {
      "image/png": "[encoded data removed]",
      "text/plain": [
       "<Figure size 432x288 with 1 Axes>"
      ]
     },
     "metadata": {
      "needs_background": "light"
     },
     "output_type": "display_data"
    },
    {
     "name": "stdout",
     "output_type": "stream",
     "text": [
      "\n",
      "**************************************************\n",
      "\n"
     ]
    },
    {
     "data": {
      "image/png": "[encoded data removed]",
      "text/plain": [
       "<Figure size 432x288 with 1 Axes>"
      ]
     },
     "metadata": {
      "needs_background": "light"
     },
     "output_type": "display_data"
    },
    {
     "name": "stdout",
     "output_type": "stream",
     "text": [
      "\n",
      "**************************************************\n",
      "\n"
     ]
    },
    {
     "data": {
      "image/png": "[encoded data removed]",
      "text/plain": [
       "<Figure size 576x432 with 1 Axes>"
      ]
     },
     "metadata": {
      "needs_background": "light"
     },
     "output_type": "display_data"
    },
    {
     "name": "stdout",
     "output_type": "stream",
     "text": [
      "\n",
      "**************************************************\n",
      "\n",
      "\n",
      "**************************************************\n",
      "\n",
      "Training Fold 5...\n",
      "\n",
      "**************************************************\n",
      "\n",
      "Epoch: 1 | Train Loss: 0.61948 | Valid Loss: 0.23965 | Train Accs: 0.64552 | Valid Accs: 0.91360 | Time: 118.62 seconds\n",
      "Epoch: 2 | Train Loss: 0.22421 | Valid Loss: 0.17197 | Train Accs: 0.91698 | Valid Accs: 0.94669 | Time: 118.70 seconds\n",
      "Epoch: 3 | Train Loss: 0.20689 | Valid Loss: 0.13218 | Train Accs: 0.93050 | Valid Accs: 0.96140 | Time: 120.23 seconds\n",
      "Epoch: 4 | Train Loss: 0.10643 | Valid Loss: 0.12001 | Train Accs: 0.96035 | Valid Accs: 0.96691 | Time: 119.84 seconds\n",
      "Epoch: 5 | Train Loss: 0.11399 | Valid Loss: 0.08954 | Train Accs: 0.96129 | Valid Accs: 0.96140 | Time: 118.75 seconds\n",
      "Epoch: 6 | Train Loss: 0.07244 | Valid Loss: 0.04062 | Train Accs: 0.97248 | Valid Accs: 0.98346 | Time: 119.01 seconds\n",
      "Epoch: 7 | Train Loss: 0.05984 | Valid Loss: 0.03782 | Train Accs: 0.97808 | Valid Accs: 0.98713 | Time: 118.40 seconds\n",
      "Epoch: 8 | Train Loss: 0.03494 | Valid Loss: 0.03489 | Train Accs: 0.99067 | Valid Accs: 0.98713 | Time: 118.69 seconds\n",
      "Epoch: 9 | Train Loss: 0.04709 | Valid Loss: 0.02947 | Train Accs: 0.98368 | Valid Accs: 0.99265 | Time: 118.36 seconds\n",
      "Epoch: 10 | Train Loss: 0.03435 | Valid Loss: 0.03443 | Train Accs: 0.98927 | Valid Accs: 0.99081 | Time: 118.13 seconds\n",
      "\n",
      "**************************************************\n",
      "\n",
      "Best Validation Loss at Epoch 9\n",
      "\n",
      "**************************************************\n",
      "\n",
      "Best Validation Accs at Epoch 9\n",
      "\n",
      "**************************************************\n",
      "\n",
      "Time Taken [10 Epochs] : 19.81 minutes\n",
      "\n",
      "**************************************************\n",
      "\n"
     ]
    },
    {
     "data": {
      "image/png": "[encoded data removed]",
      "text/plain": [
       "<Figure size 432x288 with 1 Axes>"
      ]
     },
     "metadata": {
      "needs_background": "light"
     },
     "output_type": "display_data"
    },
    {
     "name": "stdout",
     "output_type": "stream",
     "text": [
      "\n",
      "**************************************************\n",
      "\n"
     ]
    },
    {
     "data": {
      "image/png": "[encoded data removed]",
      "text/plain": [
       "<Figure size 432x288 with 1 Axes>"
      ]
     },
     "metadata": {
      "needs_background": "light"
     },
     "output_type": "display_data"
    },
    {
     "name": "stdout",
     "output_type": "stream",
     "text": [
      "\n",
      "**************************************************\n",
      "\n"
     ]
    },
    {
     "data": {
      "image/png": "[encoded data removed]",
      "text/plain": [
       "<Figure size 576x432 with 1 Axes>"
      ]
     },
     "metadata": {
      "needs_background": "light"
     },
     "output_type": "display_data"
    },
    {
     "name": "stdout",
     "output_type": "stream",
     "text": [
      "\n",
      "**************************************************\n",
      "\n"
     ]
    }
   ],
   "source": [
    "fold: int = 1\n",
    "BLs: list = []\n",
    "BAs: list = []\n",
    "    \n",
    "cfg.batch_size = 16\n",
    "cfg.epochs = 10\n",
    "    \n",
    "for tr_idx, va_idx in KFold(n_splits=cfg.n_splits, random_state=cfg.seed, shuffle=True).split(filepaths):\n",
    "\n",
    "    tr_filepaths, va_filepaths = filepaths[tr_idx], filepaths[va_idx] \n",
    "    tr_labels, va_labels       = labels[tr_idx], labels[va_idx]\n",
    "\n",
    "    tr_data_setup = DS(\n",
    "        filepaths=tr_filepaths, \n",
    "        labels=tr_labels.reshape(-1, 1),\n",
    "        size=cfg.size,\n",
    "        transform=cfg.train_transform\n",
    "    )\n",
    "\n",
    "    va_data_setup = DS(\n",
    "        filepaths=va_filepaths, \n",
    "        labels=va_labels.reshape(-1, 1),\n",
    "        size=cfg.size,\n",
    "        transform=cfg.train_transform\n",
    "    )\n",
    "\n",
    "    dataloaders = {\n",
    "        \"train\" : DL(tr_data_setup, batch_size=cfg.batch_size, shuffle=True, generator=torch.manual_seed(cfg.seed)),\n",
    "        \"valid\" : DL(va_data_setup, batch_size=cfg.batch_size, shuffle=False),\n",
    "    }\n",
    "\n",
    "    cfg.steps_per_epoch=len(dataloaders[\"train\"])\n",
    "\n",
    "    torch.manual_seed(cfg.seed)\n",
    "    model = Model().to(cfg.device)\n",
    "\n",
    "    optimizer = optim.Adam([p for p in model.parameters() if p.requires_grad], lr=cfg.lr, weight_decay=cfg.wd)\n",
    "    # optimizer = optim.AdamW([p for p in model.parameters() if p.requires_grad], lr=cfg.lr, weight_decay=cfg.wd)\n",
    "    # optimizer = optim.SGD([p for p in model.parameters() if p.requires_grad], lr=cfg.lr, weight_decay=cfg.wd, momentum=0.9)\n",
    "\n",
    "    scheduler_oclr = optim.lr_scheduler.OneCycleLR(\n",
    "        optimizer=optimizer, \n",
    "        max_lr=cfg.max_lr, \n",
    "        epochs=cfg.epochs, \n",
    "        steps_per_epoch=cfg.steps_per_epoch,\n",
    "        pct_start=cfg.pct_start, \n",
    "        div_factor=cfg.div_factor, \n",
    "        final_div_factor=cfg.final_div_factor\n",
    "    )\n",
    "\n",
    "    # scheduler_rlrop = optim.lr_scheduler.ReduceLROnPlateau(\n",
    "    #     optimizer=optimizer,\n",
    "    #     patience=cfg.patience,\n",
    "    #     eps=cfg.eps,\n",
    "    #     verbose=True\n",
    "    # )\n",
    "\n",
    "    # scheduler_oclr = None\n",
    "    scheduler_rlrop = None\n",
    "\n",
    "\n",
    "    L, A, LR, BL, BA, _, _, _, _ = fit(\n",
    "        model=model, \n",
    "        optimizer=optimizer, \n",
    "        scheduler_oclr=scheduler_oclr,\n",
    "        scheduler_rlrop=scheduler_rlrop,\n",
    "        epochs=cfg.epochs, \n",
    "        early_stopping_patience=cfg.early_stopping, \n",
    "        dataloaders=dataloaders, \n",
    "        device=cfg.device,\n",
    "        save_path=cfg.save_path,\n",
    "        fold=fold,\n",
    "        verbose=True\n",
    "    )\n",
    "\n",
    "\n",
    "    breaker()\n",
    "    show_loss_graphs(L)\n",
    "    breaker()\n",
    "    show_accuracy_graphs(A)\n",
    "    breaker()\n",
    "    if scheduler_oclr:\n",
    "        show_lr_graph(LR)\n",
    "        breaker()\n",
    "\n",
    "    BLs.append(BL)\n",
    "    BAs.append(BA)\n",
    "\n",
    "    fold += 1"
   ]
  },
  {
   "cell_type": "markdown",
   "id": "7707c942",
   "metadata": {
    "papermill": {
     "duration": 0.010674,
     "end_time": "2022-12-15T19:58:14.740871",
     "exception": false,
     "start_time": "2022-12-15T19:58:14.730197",
     "status": "completed"
    },
    "tags": []
   },
   "source": [
    "### **Best Model**"
   ]
  },
  {
   "cell_type": "code",
   "execution_count": 10,
   "id": "fa7e9c75",
   "metadata": {
    "execution": {
     "iopub.execute_input": "2022-12-15T19:58:14.764301Z",
     "iopub.status.busy": "2022-12-15T19:58:14.763757Z",
     "iopub.status.idle": "2022-12-15T19:58:14.772298Z",
     "shell.execute_reply": "2022-12-15T19:58:14.771401Z"
    },
    "papermill": {
     "duration": 0.022304,
     "end_time": "2022-12-15T19:58:14.774224",
     "exception": false,
     "start_time": "2022-12-15T19:58:14.751920",
     "status": "completed"
    },
    "tags": []
   },
   "outputs": [
    {
     "name": "stdout",
     "output_type": "stream",
     "text": [
      "\n",
      "**************************************************\n",
      "\n",
      "Best Loss Model Fold     : 4\n",
      "Best Accuracy Model Fold : 4\n",
      "\n",
      "**************************************************\n",
      "\n"
     ]
    }
   ],
   "source": [
    "BL = np.inf\n",
    "for i in range(len(BLs)):\n",
    "    if BLs[i][\"valid\"] < BL:\n",
    "        BL = BLs[i][\"valid\"]\n",
    "        best_loss_index = i\n",
    "\n",
    "        \n",
    "BA = 0.0\n",
    "for i in range(len(BAs)):\n",
    "    if BAs[i][\"valid\"] > BA:\n",
    "        BA = BAs[i][\"valid\"]\n",
    "        best_accs_index = i\n",
    "\n",
    "breaker()\n",
    "print(f\"Best Loss Model Fold     : {best_loss_index + 1}\")\n",
    "print(f\"Best Accuracy Model Fold : {best_accs_index + 1}\")\n",
    "breaker()"
   ]
  }
 ],
 "metadata": {
  "kernelspec": {
   "display_name": "Python 3",
   "language": "python",
   "name": "python3"
  },
  "language_info": {
   "codemirror_mode": {
    "name": "ipython",
    "version": 3
   },
   "file_extension": ".py",
   "mimetype": "text/x-python",
   "name": "python",
   "nbconvert_exporter": "python",
   "pygments_lexer": "ipython3",
   "version": "3.7.12"
  },
  "papermill": {
   "default_parameters": {},
   "duration": 6037.045554,
   "end_time": "2022-12-15T19:58:17.074847",
   "environment_variables": {},
   "exception": null,
   "input_path": "__notebook__.ipynb",
   "output_path": "__notebook__.ipynb",
   "parameters": {},
   "start_time": "2022-12-15T18:17:40.029293",
   "version": "2.3.4"
  }
 },
 "nbformat": 4,
 "nbformat_minor": 5
}
