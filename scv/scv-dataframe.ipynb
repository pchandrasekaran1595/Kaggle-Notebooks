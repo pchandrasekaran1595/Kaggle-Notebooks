{
 "cells": [
  {
   "cell_type": "code",
   "execution_count": 1,
   "id": "7256f02c",
   "metadata": {
    "_cell_guid": "b1076dfc-b9ad-4769-8c92-a6c4dae69d19",
    "_uuid": "8f2839f25d086af736a60e9eeb907d3b93b6e0e5",
    "execution": {
     "iopub.execute_input": "2022-12-14T10:20:18.833205Z",
     "iopub.status.busy": "2022-12-14T10:20:18.832443Z",
     "iopub.status.idle": "2022-12-14T10:20:19.083121Z",
     "shell.execute_reply": "2022-12-14T10:20:19.081853Z"
    },
    "papermill": {
     "duration": 0.258367,
     "end_time": "2022-12-14T10:20:19.086025",
     "exception": false,
     "start_time": "2022-12-14T10:20:18.827658",
     "status": "completed"
    },
    "tags": []
   },
   "outputs": [],
   "source": [
    "import os\n",
    "import cv2\n",
    "import json\n",
    "import numpy as np\n",
    "import pandas as pd\n",
    "\n",
    "BASE_PATH: str = \"/kaggle/input/shift-cv-2023\""
   ]
  },
  {
   "cell_type": "code",
   "execution_count": 2,
   "id": "b57fc00a",
   "metadata": {
    "execution": {
     "iopub.execute_input": "2022-12-14T10:20:19.092375Z",
     "iopub.status.busy": "2022-12-14T10:20:19.091977Z",
     "iopub.status.idle": "2022-12-14T10:20:19.107514Z",
     "shell.execute_reply": "2022-12-14T10:20:19.106425Z"
    },
    "papermill": {
     "duration": 0.021651,
     "end_time": "2022-12-14T10:20:19.110155",
     "exception": false,
     "start_time": "2022-12-14T10:20:19.088504",
     "status": "completed"
    },
    "tags": []
   },
   "outputs": [],
   "source": [
    "tr_df: pd.DataFrame = pd.DataFrame(data=None, columns=[\"filepaths\", \"labels\"])\n",
    "ts_df: pd.DataFrame = pd.DataFrame(data=None, columns=[\"filepaths\"])"
   ]
  },
  {
   "cell_type": "code",
   "execution_count": 3,
   "id": "2871c421",
   "metadata": {
    "execution": {
     "iopub.execute_input": "2022-12-14T10:20:19.116719Z",
     "iopub.status.busy": "2022-12-14T10:20:19.115545Z",
     "iopub.status.idle": "2022-12-14T10:20:19.315589Z",
     "shell.execute_reply": "2022-12-14T10:20:19.314667Z"
    },
    "papermill": {
     "duration": 0.206042,
     "end_time": "2022-12-14T10:20:19.318359",
     "exception": false,
     "start_time": "2022-12-14T10:20:19.112317",
     "status": "completed"
    },
    "tags": []
   },
   "outputs": [],
   "source": [
    "tr_data = pd.read_csv(\"/kaggle/input/shift-cv-2023/train.csv\")\n",
    "\n",
    "filepaths: list = []\n",
    "labels: list = []\n",
    "\n",
    "i: int = 0    \n",
    "for i in range(len(tr_data)):\n",
    "    filepaths.append(f\"{BASE_PATH}/train/train/{tr_data.iloc[i, 0]}\")\n",
    "    labels.append(tr_data.iloc[i, 1])\n",
    "    i += 1\n",
    "\n",
    "tr_df.filepaths = filepaths\n",
    "tr_df.labels = labels\n",
    "tr_df.to_csv(\"train.csv\", index=False)"
   ]
  },
  {
   "cell_type": "code",
   "execution_count": 4,
   "id": "998664a9",
   "metadata": {
    "execution": {
     "iopub.execute_input": "2022-12-14T10:20:19.326451Z",
     "iopub.status.busy": "2022-12-14T10:20:19.326037Z",
     "iopub.status.idle": "2022-12-14T10:20:19.369410Z",
     "shell.execute_reply": "2022-12-14T10:20:19.367706Z"
    },
    "papermill": {
     "duration": 0.049675,
     "end_time": "2022-12-14T10:20:19.372273",
     "exception": false,
     "start_time": "2022-12-14T10:20:19.322598",
     "status": "completed"
    },
    "tags": []
   },
   "outputs": [],
   "source": [
    "ts_data = pd.read_csv(\"/kaggle/input/shift-cv-2023/sample_submission.csv\")\n",
    "\n",
    "filepaths: list = []\n",
    "\n",
    "i: int = 0    \n",
    "for i in range(len(ts_data)):\n",
    "    filepaths.append(f\"{BASE_PATH}/test/test/{ts_data.iloc[i, 0]}\")\n",
    "    i += 1\n",
    "\n",
    "ts_df.filepaths = filepaths\n",
    "ts_df.to_csv(\"test.csv\", index=False)"
   ]
  }
 ],
 "metadata": {
  "kernelspec": {
   "display_name": "Python 3",
   "language": "python",
   "name": "python3"
  },
  "language_info": {
   "codemirror_mode": {
    "name": "ipython",
    "version": 3
   },
   "file_extension": ".py",
   "mimetype": "text/x-python",
   "name": "python",
   "nbconvert_exporter": "python",
   "pygments_lexer": "ipython3",
   "version": "3.7.12"
  },
  "papermill": {
   "default_parameters": {},
   "duration": 9.772255,
   "end_time": "2022-12-14T10:20:20.098846",
   "environment_variables": {},
   "exception": null,
   "input_path": "__notebook__.ipynb",
   "output_path": "__notebook__.ipynb",
   "parameters": {},
   "start_time": "2022-12-14T10:20:10.326591",
   "version": "2.3.4"
  }
 },
 "nbformat": 4,
 "nbformat_minor": 5
}
