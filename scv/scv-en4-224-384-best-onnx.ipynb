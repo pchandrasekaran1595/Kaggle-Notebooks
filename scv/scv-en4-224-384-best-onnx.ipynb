{
 "cells": [
  {
   "cell_type": "code",
   "execution_count": 1,
   "id": "7e8a0877",
   "metadata": {
    "_cell_guid": "b1076dfc-b9ad-4769-8c92-a6c4dae69d19",
    "_uuid": "8f2839f25d086af736a60e9eeb907d3b93b6e0e5",
    "execution": {
     "iopub.execute_input": "2022-12-16T04:51:44.719667Z",
     "iopub.status.busy": "2022-12-16T04:51:44.719127Z",
     "iopub.status.idle": "2022-12-16T04:52:20.133818Z",
     "shell.execute_reply": "2022-12-16T04:52:20.131640Z"
    },
    "papermill": {
     "duration": 35.425973,
     "end_time": "2022-12-16T04:52:20.138608",
     "exception": false,
     "start_time": "2022-12-16T04:51:44.712635",
     "status": "completed"
    },
    "tags": []
   },
   "outputs": [
    {
     "name": "stderr",
     "output_type": "stream",
     "text": [
      "WARNING: Running pip as the 'root' user can result in broken permissions and conflicting behaviour with the system package manager. It is recommended to use a virtual environment instead: https://pip.pypa.io/warnings/venv\n",
      "WARNING: Running pip as the 'root' user can result in broken permissions and conflicting behaviour with the system package manager. It is recommended to use a virtual environment instead: https://pip.pypa.io/warnings/venv\n",
      "WARNING: Running pip as the 'root' user can result in broken permissions and conflicting behaviour with the system package manager. It is recommended to use a virtual environment instead: https://pip.pypa.io/warnings/venv\n"
     ]
    }
   ],
   "source": [
    "%%bash\n",
    "pip install timm -q\n",
    "pip install onnx -q\n",
    "pip install onnxruntime -q"
   ]
  },
  {
   "cell_type": "code",
   "execution_count": 2,
   "id": "b1c43312",
   "metadata": {
    "execution": {
     "iopub.execute_input": "2022-12-16T04:52:20.148060Z",
     "iopub.status.busy": "2022-12-16T04:52:20.147584Z",
     "iopub.status.idle": "2022-12-16T04:52:23.607217Z",
     "shell.execute_reply": "2022-12-16T04:52:23.605700Z"
    },
    "papermill": {
     "duration": 3.46857,
     "end_time": "2022-12-16T04:52:23.610583",
     "exception": false,
     "start_time": "2022-12-16T04:52:20.142013",
     "status": "completed"
    },
    "tags": []
   },
   "outputs": [],
   "source": [
    "import onnx\n",
    "import timm\n",
    "import torch\n",
    "import random as r\n",
    "import numpy as np\n",
    "import onnxruntime as ort\n",
    "\n",
    "from typing import Union\n",
    "from IPython.display import clear_output\n",
    "\n",
    "import warnings\n",
    "warnings.filterwarnings(\"ignore\")"
   ]
  },
  {
   "cell_type": "code",
   "execution_count": 3,
   "id": "7d9cc291",
   "metadata": {
    "execution": {
     "iopub.execute_input": "2022-12-16T04:52:23.620376Z",
     "iopub.status.busy": "2022-12-16T04:52:23.618857Z",
     "iopub.status.idle": "2022-12-16T04:52:23.627718Z",
     "shell.execute_reply": "2022-12-16T04:52:23.626362Z"
    },
    "papermill": {
     "duration": 0.016636,
     "end_time": "2022-12-16T04:52:23.630825",
     "exception": false,
     "start_time": "2022-12-16T04:52:23.614189",
     "status": "completed"
    },
    "tags": []
   },
   "outputs": [],
   "source": [
    "def breaker() -> None: print(\"\\n\" + 50*\"*\" + \"\\n\")"
   ]
  },
  {
   "cell_type": "code",
   "execution_count": 4,
   "id": "1f124e94",
   "metadata": {
    "execution": {
     "iopub.execute_input": "2022-12-16T04:52:23.639267Z",
     "iopub.status.busy": "2022-12-16T04:52:23.638765Z",
     "iopub.status.idle": "2022-12-16T04:52:23.650820Z",
     "shell.execute_reply": "2022-12-16T04:52:23.649555Z"
    },
    "papermill": {
     "duration": 0.019953,
     "end_time": "2022-12-16T04:52:23.653879",
     "exception": false,
     "start_time": "2022-12-16T04:52:23.633926",
     "status": "completed"
    },
    "tags": []
   },
   "outputs": [],
   "source": [
    "class Model(torch.nn.Module):\n",
    "    def __init__(self):\n",
    "        super(Model, self).__init__()\n",
    "        \n",
    "        self.model = timm.create_model(model_name=\"efficientnet_b4\", pretrained=False)\n",
    "        self.model.classifier = torch.nn.Linear(in_features=self.model.classifier.in_features, out_features=1)\n",
    "\n",
    "    def forward(self, x):\n",
    "        return self.model(x)\n",
    "\n",
    "    \n",
    "    \n",
    "class CFG(object):  \n",
    "    def __init__(\n",
    "        self, \n",
    "        in_channels: int=3, \n",
    "        size: int=256, \n",
    "        opset_version: int=9, \n",
    "        path: Union[str, None]=None\n",
    "    ):\n",
    "        self.in_channels = in_channels\n",
    "        self.size = size\n",
    "        self.dummy = torch.randn(1, self.in_channels, self.size, self.size)\n",
    "        self.opset_version = opset_version\n",
    "        self.path = path"
   ]
  },
  {
   "cell_type": "code",
   "execution_count": 5,
   "id": "49efc583",
   "metadata": {
    "execution": {
     "iopub.execute_input": "2022-12-16T04:52:23.661815Z",
     "iopub.status.busy": "2022-12-16T04:52:23.661430Z",
     "iopub.status.idle": "2022-12-16T04:52:50.621945Z",
     "shell.execute_reply": "2022-12-16T04:52:50.620535Z"
    },
    "papermill": {
     "duration": 26.968513,
     "end_time": "2022-12-16T04:52:50.625587",
     "exception": false,
     "start_time": "2022-12-16T04:52:23.657074",
     "status": "completed"
    },
    "tags": []
   },
   "outputs": [],
   "source": [
    "cfg = CFG(\n",
    "    in_channels=3, \n",
    "    size=224, \n",
    "    opset_version=13, \n",
    "    path=f\"/kaggle/input/scv-en4-a224-e10/saves/ble_state_fold_4.pt\"\n",
    ")\n",
    "\n",
    "model = Model()\n",
    "model.load_state_dict(torch.load(cfg.path, map_location=torch.device(\"cpu\"))[\"model_state_dict\"])\n",
    "model.eval()\n",
    "\n",
    "clear_output()\n",
    "\n",
    "torch.onnx.export(\n",
    "    model=model, \n",
    "    args=cfg.dummy, \n",
    "    f=f\"model-224.onnx\", \n",
    "    input_names=[\"input\"], \n",
    "    output_names=[\"output\"], \n",
    "    opset_version=cfg.opset_version,\n",
    "    export_params=True,\n",
    "    training=torch.onnx.TrainingMode.EVAL,\n",
    "    operator_export_type=torch.onnx.OperatorExportTypes.ONNX_ATEN_FALLBACK,\n",
    "    dynamic_axes={\n",
    "      \"input\"  : {0 : \"batch_size\"},\n",
    "      \"output\" : {0 : \"batch_size\"},\n",
    "    }\n",
    ")"
   ]
  },
  {
   "cell_type": "code",
   "execution_count": 6,
   "id": "1709ca9b",
   "metadata": {
    "execution": {
     "iopub.execute_input": "2022-12-16T04:52:50.634223Z",
     "iopub.status.busy": "2022-12-16T04:52:50.633785Z",
     "iopub.status.idle": "2022-12-16T04:53:19.271195Z",
     "shell.execute_reply": "2022-12-16T04:53:19.269467Z"
    },
    "papermill": {
     "duration": 28.646366,
     "end_time": "2022-12-16T04:53:19.275042",
     "exception": false,
     "start_time": "2022-12-16T04:52:50.628676",
     "status": "completed"
    },
    "tags": []
   },
   "outputs": [],
   "source": [
    "cfg = CFG(\n",
    "    in_channels=3, \n",
    "    size=384, \n",
    "    opset_version=13, \n",
    "    path=f\"/kaggle/input/scv-en4-a384-e10/saves/ble_state_fold_4.pt\"\n",
    ")\n",
    "\n",
    "model = Model()\n",
    "model.load_state_dict(torch.load(cfg.path, map_location=torch.device(\"cpu\"))[\"model_state_dict\"])\n",
    "model.eval()\n",
    "\n",
    "clear_output()\n",
    "\n",
    "torch.onnx.export(\n",
    "    model=model, \n",
    "    args=cfg.dummy, \n",
    "    f=f\"model-384.onnx\", \n",
    "    input_names=[\"input\"], \n",
    "    output_names=[\"output\"], \n",
    "    opset_version=cfg.opset_version,\n",
    "    export_params=True,\n",
    "    training=torch.onnx.TrainingMode.EVAL,\n",
    "    operator_export_type=torch.onnx.OperatorExportTypes.ONNX_ATEN_FALLBACK,\n",
    "    dynamic_axes={\n",
    "      \"input\"  : {0 : \"batch_size\"},\n",
    "      \"output\" : {0 : \"batch_size\"},\n",
    "    }\n",
    ")"
   ]
  }
 ],
 "metadata": {
  "kernelspec": {
   "display_name": "Python 3",
   "language": "python",
   "name": "python3"
  },
  "language_info": {
   "codemirror_mode": {
    "name": "ipython",
    "version": 3
   },
   "file_extension": ".py",
   "mimetype": "text/x-python",
   "name": "python",
   "nbconvert_exporter": "python",
   "pygments_lexer": "ipython3",
   "version": "3.7.12"
  },
  "papermill": {
   "default_parameters": {},
   "duration": 104.848181,
   "end_time": "2022-12-16T04:53:20.605771",
   "environment_variables": {},
   "exception": null,
   "input_path": "__notebook__.ipynb",
   "output_path": "__notebook__.ipynb",
   "parameters": {},
   "start_time": "2022-12-16T04:51:35.757590",
   "version": "2.3.4"
  }
 },
 "nbformat": 4,
 "nbformat_minor": 5
}
