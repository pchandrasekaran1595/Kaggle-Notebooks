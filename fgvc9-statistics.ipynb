{
 "cells": [
  {
   "cell_type": "code",
   "execution_count": 1,
   "id": "3c88a8fe",
   "metadata": {
    "_cell_guid": "b1076dfc-b9ad-4769-8c92-a6c4dae69d19",
    "_uuid": "8f2839f25d086af736a60e9eeb907d3b93b6e0e5",
    "execution": {
     "iopub.execute_input": "2022-03-22T09:16:19.506024Z",
     "iopub.status.busy": "2022-03-22T09:16:19.504775Z",
     "iopub.status.idle": "2022-03-22T09:16:19.911615Z",
     "shell.execute_reply": "2022-03-22T09:16:19.910845Z",
     "shell.execute_reply.started": "2022-03-22T08:25:32.509761Z"
    },
    "papermill": {
     "duration": 0.419525,
     "end_time": "2022-03-22T09:16:19.911810",
     "exception": false,
     "start_time": "2022-03-22T09:16:19.492285",
     "status": "completed"
    },
    "tags": []
   },
   "outputs": [],
   "source": [
    "import os\n",
    "import cv2\n",
    "import numpy as np\n",
    "import pandas as pd"
   ]
  },
  {
   "cell_type": "code",
   "execution_count": 2,
   "id": "18d55e81",
   "metadata": {
    "execution": {
     "iopub.execute_input": "2022-03-22T09:16:19.944278Z",
     "iopub.status.busy": "2022-03-22T09:16:19.943352Z",
     "iopub.status.idle": "2022-03-22T09:16:19.946221Z",
     "shell.execute_reply": "2022-03-22T09:16:19.946739Z",
     "shell.execute_reply.started": "2022-03-22T08:28:42.971399Z"
    },
    "papermill": {
     "duration": 0.026591,
     "end_time": "2022-03-22T09:16:19.946987",
     "exception": false,
     "start_time": "2022-03-22T09:16:19.920396",
     "status": "completed"
    },
    "tags": []
   },
   "outputs": [],
   "source": [
    "def breaker(num: int = 50, char: str = \"*\") -> None:\n",
    "    print(\"\\n\" + num*char + \"\\n\")\n",
    "\n",
    "\n",
    "def preprocess(image: np.ndarray) -> np.ndarray:\n",
    "    return cv2.cvtColor(src=image, code=cv2.COLOR_BGR2RGB)\n",
    "\n",
    "\n",
    "def get_statistics(path: str, names: np.ndarray, sizes: list, broken_images: list) -> list:\n",
    "    r_means, g_means, b_means, r_stds, g_stds, b_stds = [], [], [], [], [], []\n",
    "    r_mean, g_mean, b_mean, r_std, g_std, b_std = 0.0, 0.0, 0.0, 0.0, 0.0, 0.0\n",
    "\n",
    "    i = 0\n",
    "    for name in names:\n",
    "        if name in broken_images:\n",
    "            pass\n",
    "        else:\n",
    "            main_image = preprocess(cv2.imread(os.path.join(path, name), cv2.IMREAD_COLOR))\n",
    "        for size in sizes:\n",
    "            image = cv2.resize(src=main_image, dsize=(size, size), interpolation=cv2.INTER_AREA)\n",
    "            r_mean += image[:, :, 0].mean()\n",
    "            g_mean += image[:, :, 1].mean()\n",
    "            b_mean += image[:, :, 2].mean()\n",
    "            r_std  += image[:, :, 0].std()\n",
    "            g_std  += image[:, :, 1].std()\n",
    "            b_std  += image[:, :, 2].std()\n",
    "        r_means.append(r_mean / len(names))\n",
    "        g_means.append(g_mean / len(names))\n",
    "        b_means.append(b_mean / len(names))\n",
    "\n",
    "        r_stds.append(r_std / len(names))\n",
    "        g_stds.append(g_std / len(names))\n",
    "        b_stds.append(b_std / len(names))\n",
    "    \n",
    "    return r_means, g_means, b_means, r_stds, g_stds, b_stds "
   ]
  },
  {
   "cell_type": "code",
   "execution_count": 3,
   "id": "304372bd",
   "metadata": {
    "execution": {
     "iopub.execute_input": "2022-03-22T09:16:19.965568Z",
     "iopub.status.busy": "2022-03-22T09:16:19.964930Z",
     "iopub.status.idle": "2022-03-22T09:16:20.012367Z",
     "shell.execute_reply": "2022-03-22T09:16:20.011748Z",
     "shell.execute_reply.started": "2022-03-22T08:28:44.75089Z"
    },
    "papermill": {
     "duration": 0.05789,
     "end_time": "2022-03-22T09:16:20.012526",
     "exception": false,
     "start_time": "2022-03-22T09:16:19.954636",
     "status": "completed"
    },
    "tags": []
   },
   "outputs": [],
   "source": [
    "train_df = pd.read_csv(\"../input/sorghum-id-fgvc-9/train_cultivar_mapping.csv\")\n",
    "filenames = train_df.iloc[:, 0].copy().values"
   ]
  },
  {
   "cell_type": "code",
   "execution_count": 4,
   "id": "55a15380",
   "metadata": {
    "execution": {
     "iopub.execute_input": "2022-03-22T09:16:20.034471Z",
     "iopub.status.busy": "2022-03-22T09:16:20.033692Z",
     "iopub.status.idle": "2022-03-22T09:32:20.137932Z",
     "shell.execute_reply": "2022-03-22T09:32:20.137302Z",
     "shell.execute_reply.started": "2022-03-22T08:31:04.914368Z"
    },
    "papermill": {
     "duration": 960.117893,
     "end_time": "2022-03-22T09:32:20.138101",
     "exception": false,
     "start_time": "2022-03-22T09:16:20.020208",
     "status": "completed"
    },
    "tags": []
   },
   "outputs": [],
   "source": [
    "def get_broken_images(path: str, names: np.ndarray) -> list:\n",
    "    broken_images = []\n",
    "    for name in names:\n",
    "        image = cv2.imread(os.path.join(path, name), cv2.IMREAD_COLOR)\n",
    "        if image is None:\n",
    "            broken_images.append(name)\n",
    "    \n",
    "    return broken_images\n",
    "\n",
    "broken_images = get_broken_images(\"../input/sorghum-id-fgvc-9/train_images\", filenames)"
   ]
  },
  {
   "cell_type": "code",
   "execution_count": 5,
   "id": "19f8adf5",
   "metadata": {
    "execution": {
     "iopub.execute_input": "2022-03-22T09:32:20.162002Z",
     "iopub.status.busy": "2022-03-22T09:32:20.161183Z",
     "iopub.status.idle": "2022-03-22T10:06:28.373552Z",
     "shell.execute_reply": "2022-03-22T10:06:28.374578Z",
     "shell.execute_reply.started": "2022-03-22T08:28:46.856531Z"
    },
    "papermill": {
     "duration": 2048.2286,
     "end_time": "2022-03-22T10:06:28.375374",
     "exception": false,
     "start_time": "2022-03-22T09:32:20.146774",
     "status": "completed"
    },
    "tags": []
   },
   "outputs": [],
   "source": [
    "sizes = [256, 512, 768, 1024]\n",
    "\n",
    "r_means, g_means, b_means, r_stds, g_stds, b_stds = get_statistics(\"../input/sorghum-id-fgvc-9/train_images\", filenames, sizes, broken_images)"
   ]
  },
  {
   "cell_type": "code",
   "execution_count": 6,
   "id": "6b2c9071",
   "metadata": {
    "execution": {
     "iopub.execute_input": "2022-03-22T10:06:28.409742Z",
     "iopub.status.busy": "2022-03-22T10:06:28.408649Z",
     "iopub.status.idle": "2022-03-22T10:06:28.419312Z",
     "shell.execute_reply": "2022-03-22T10:06:28.418674Z"
    },
    "papermill": {
     "duration": 0.031856,
     "end_time": "2022-03-22T10:06:28.419468",
     "exception": false,
     "start_time": "2022-03-22T10:06:28.387612",
     "status": "completed"
    },
    "tags": []
   },
   "outputs": [
    {
     "name": "stdout",
     "output_type": "stream",
     "text": [
      "\n",
      "**************************************************\n",
      "\n",
      "Red Channel Mean (256)   : 0.01334\n",
      "Green Channel Mean (256) : 0.01469\n",
      "Blue Channel Mean (256)  : 0.01124\n",
      "\n",
      "\n",
      "Red Channel Std (256)    : 0.00501\n",
      "Green Channel Std (256)  : 0.00543\n",
      "Blue Channel Std (256)   : 0.00389\n",
      "\n",
      "**************************************************\n",
      "\n",
      "Red Channel Mean (512)   : 0.02397\n",
      "Green Channel Mean (512) : 0.02634\n",
      "Blue Channel Mean (512)  : 0.02069\n",
      "\n",
      "\n",
      "Red Channel Std (512)    : 0.00791\n",
      "Green Channel Std (512)  : 0.00873\n",
      "Blue Channel Std (512)   : 0.00652\n",
      "\n",
      "**************************************************\n",
      "\n",
      "Red Channel Mean (768)   : 0.04085\n",
      "Green Channel Mean (768) : 0.04468\n",
      "Blue Channel Mean (768)  : 0.03433\n",
      "\n",
      "\n",
      "Red Channel Std (768)    : 0.01826\n",
      "Green Channel Std (768)  : 0.01939\n",
      "Blue Channel Std (768)   : 0.01416\n",
      "\n",
      "**************************************************\n",
      "\n",
      "Red Channel Mean (1024)   : 0.05691\n",
      "Green Channel Mean (1024) : 0.06177\n",
      "Blue Channel Mean (1024)  : 0.04739\n",
      "\n",
      "\n",
      "Red Channel Std (1024)    : 0.02708\n",
      "Green Channel Std (1024)  : 0.02838\n",
      "Blue Channel Std (1024)   : 0.02113\n",
      "\n",
      "**************************************************\n",
      "\n"
     ]
    }
   ],
   "source": [
    "breaker()\n",
    "for i in range(len(sizes)):\n",
    "    print(f\"Red Channel Mean ({sizes[i]})   : {r_means[i]:.5f}\")\n",
    "    print(f\"Green Channel Mean ({sizes[i]}) : {g_means[i]:.5f}\")\n",
    "    print(f\"Blue Channel Mean ({sizes[i]})  : {b_means[i]:.5f}\")\n",
    "    print(\"\\n\")\n",
    "    print(f\"Red Channel Std ({sizes[i]})    : {r_stds[i]:.5f}\")\n",
    "    print(f\"Green Channel Std ({sizes[i]})  : {g_stds[i]:.5f}\")\n",
    "    print(f\"Blue Channel Std ({sizes[i]})   : {b_stds[i]:.5f}\")\n",
    "    breaker()"
   ]
  }
 ],
 "metadata": {
  "kernelspec": {
   "display_name": "Python 3",
   "language": "python",
   "name": "python3"
  },
  "language_info": {
   "codemirror_mode": {
    "name": "ipython",
    "version": 3
   },
   "file_extension": ".py",
   "mimetype": "text/x-python",
   "name": "python",
   "nbconvert_exporter": "python",
   "pygments_lexer": "ipython3",
   "version": "3.7.12"
  },
  "papermill": {
   "default_parameters": {},
   "duration": 3019.9661,
   "end_time": "2022-03-22T10:06:29.251446",
   "environment_variables": {},
   "exception": null,
   "input_path": "__notebook__.ipynb",
   "output_path": "__notebook__.ipynb",
   "parameters": {},
   "start_time": "2022-03-22T09:16:09.285346",
   "version": "2.3.3"
  }
 },
 "nbformat": 4,
 "nbformat_minor": 5
}
