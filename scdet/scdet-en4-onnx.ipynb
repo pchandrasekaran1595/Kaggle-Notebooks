{
 "cells": [
  {
   "cell_type": "code",
   "execution_count": 1,
   "id": "f598f680",
   "metadata": {
    "_cell_guid": "b1076dfc-b9ad-4769-8c92-a6c4dae69d19",
    "_uuid": "8f2839f25d086af736a60e9eeb907d3b93b6e0e5",
    "execution": {
     "iopub.execute_input": "2023-01-29T05:40:03.489214Z",
     "iopub.status.busy": "2023-01-29T05:40:03.488568Z",
     "iopub.status.idle": "2023-01-29T05:40:33.432823Z",
     "shell.execute_reply": "2023-01-29T05:40:33.431218Z"
    },
    "papermill": {
     "duration": 29.951255,
     "end_time": "2023-01-29T05:40:33.435306",
     "exception": false,
     "start_time": "2023-01-29T05:40:03.484051",
     "status": "completed"
    },
    "tags": []
   },
   "outputs": [
    {
     "name": "stderr",
     "output_type": "stream",
     "text": [
      "WARNING: Running pip as the 'root' user can result in broken permissions and conflicting behaviour with the system package manager. It is recommended to use a virtual environment instead: https://pip.pypa.io/warnings/venv\n",
      "WARNING: Running pip as the 'root' user can result in broken permissions and conflicting behaviour with the system package manager. It is recommended to use a virtual environment instead: https://pip.pypa.io/warnings/venv\n",
      "WARNING: Running pip as the 'root' user can result in broken permissions and conflicting behaviour with the system package manager. It is recommended to use a virtual environment instead: https://pip.pypa.io/warnings/venv\n"
     ]
    }
   ],
   "source": [
    "%%bash\n",
    "pip install timm -q\n",
    "pip install onnx -q\n",
    "pip install onnxruntime -q"
   ]
  },
  {
   "cell_type": "code",
   "execution_count": 2,
   "id": "e94c33d7",
   "metadata": {
    "execution": {
     "iopub.execute_input": "2023-01-29T05:40:33.442084Z",
     "iopub.status.busy": "2023-01-29T05:40:33.441704Z",
     "iopub.status.idle": "2023-01-29T05:40:37.033035Z",
     "shell.execute_reply": "2023-01-29T05:40:37.031635Z"
    },
    "papermill": {
     "duration": 3.598838,
     "end_time": "2023-01-29T05:40:37.036732",
     "exception": false,
     "start_time": "2023-01-29T05:40:33.437894",
     "status": "completed"
    },
    "tags": []
   },
   "outputs": [],
   "source": [
    "import os\n",
    "import sys\n",
    "import cv2\n",
    "import json\n",
    "import onnx\n",
    "import timm\n",
    "import torch\n",
    "import random as r\n",
    "import numpy as np\n",
    "import pandas as pd\n",
    "import onnxruntime as ort\n",
    "import matplotlib.pyplot as plt\n",
    "\n",
    "from typing import Union\n",
    "from torchvision import models\n",
    "from IPython.display import clear_output\n",
    "\n",
    "import warnings\n",
    "warnings.filterwarnings(\"ignore\")\n",
    "\n",
    "if not os.path.exists(\"onnx\"): os.makedirs(\"onnx\")\n",
    "    \n",
    "ort.set_default_logger_severity(3)"
   ]
  },
  {
   "cell_type": "code",
   "execution_count": 3,
   "id": "c8c340f8",
   "metadata": {
    "execution": {
     "iopub.execute_input": "2023-01-29T05:40:37.044488Z",
     "iopub.status.busy": "2023-01-29T05:40:37.043829Z",
     "iopub.status.idle": "2023-01-29T05:40:37.050343Z",
     "shell.execute_reply": "2023-01-29T05:40:37.048927Z"
    },
    "papermill": {
     "duration": 0.013558,
     "end_time": "2023-01-29T05:40:37.053322",
     "exception": false,
     "start_time": "2023-01-29T05:40:37.039764",
     "status": "completed"
    },
    "tags": []
   },
   "outputs": [],
   "source": [
    "def breaker() -> None:\n",
    "    print(\"\\n\" + 50*\"*\" + \"\\n\")\n",
    "\n",
    "    \n",
    "def sigmoid(x):\n",
    "    return 1 / (1 + np.exp(-x))"
   ]
  },
  {
   "cell_type": "code",
   "execution_count": 4,
   "id": "b498d22e",
   "metadata": {
    "execution": {
     "iopub.execute_input": "2023-01-29T05:40:37.059660Z",
     "iopub.status.busy": "2023-01-29T05:40:37.059269Z",
     "iopub.status.idle": "2023-01-29T05:40:37.069379Z",
     "shell.execute_reply": "2023-01-29T05:40:37.067993Z"
    },
    "papermill": {
     "duration": 0.016541,
     "end_time": "2023-01-29T05:40:37.072364",
     "exception": false,
     "start_time": "2023-01-29T05:40:37.055823",
     "status": "completed"
    },
    "tags": []
   },
   "outputs": [],
   "source": [
    "class Model(torch.nn.Module):\n",
    "    def __init__(self):\n",
    "        super(Model, self).__init__()\n",
    "        \n",
    "        self.model = timm.create_model(model_name=\"efficientnet_b4\", pretrained=False)\n",
    "        self.model.classifier = torch.nn.Linear(in_features=self.model.classifier.in_features, out_features=1)\n",
    "\n",
    "    def forward(self, x):\n",
    "        return self.model(x)\n",
    "\n",
    "    \n",
    "    \n",
    "class CFG(object):  \n",
    "    def __init__(\n",
    "        self, \n",
    "        in_channels: int=3, \n",
    "        size: int=256, \n",
    "        opset_version: int=9, \n",
    "        path: str=None\n",
    "    ):\n",
    "        self.in_channels = in_channels\n",
    "        self.size = size\n",
    "        self.dummy = torch.randn(1, self.in_channels, self.size, self.size)\n",
    "        self.opset_version = opset_version\n",
    "        self.path = path"
   ]
  },
  {
   "cell_type": "code",
   "execution_count": 5,
   "id": "ee774718",
   "metadata": {
    "execution": {
     "iopub.execute_input": "2023-01-29T05:40:37.078565Z",
     "iopub.status.busy": "2023-01-29T05:40:37.078113Z",
     "iopub.status.idle": "2023-01-29T05:41:16.065072Z",
     "shell.execute_reply": "2023-01-29T05:41:16.063454Z"
    },
    "papermill": {
     "duration": 38.993474,
     "end_time": "2023-01-29T05:41:16.068315",
     "exception": false,
     "start_time": "2023-01-29T05:40:37.074841",
     "status": "completed"
    },
    "tags": []
   },
   "outputs": [],
   "source": [
    "for v in [\"a\", \"l\"]:\n",
    "    cfg = CFG(\n",
    "        in_channels=3, \n",
    "        size=227, \n",
    "        opset_version=13, \n",
    "        path=f\"/kaggle/input/scdet-en4-a227-e10-f1/saves/b{v}e_state_fold_1.pt\"\n",
    "    )\n",
    "\n",
    "    model = Model()\n",
    "    model.load_state_dict(torch.load(cfg.path, map_location=torch.device(\"cpu\"))[\"model_state_dict\"])\n",
    "    model.eval()\n",
    "\n",
    "    clear_output()\n",
    "\n",
    "    # param_size: float = 0\n",
    "    # for param in model.parameters():\n",
    "    #     param_size += param.nelement() * param.element_size()\n",
    "\n",
    "    # buffer_size: float = 0\n",
    "    # for buffer in model.buffers():\n",
    "    #     buffer_size += buffer.nelement() * buffer.element_size()\n",
    "\n",
    "    # size_all_mb: float = (param_size + buffer_size) / 1024**2\n",
    "\n",
    "    # breaker()\n",
    "    # print(f\"Model size: {size_all_mb:.3f} MB\")\n",
    "    # breaker()\n",
    "\n",
    "    torch.onnx.export(\n",
    "        model=model, \n",
    "        args=cfg.dummy, \n",
    "        f=f\"onnx/b{v}e_model_f1.onnx\", \n",
    "        input_names=[\"input\"], \n",
    "        output_names=[\"output\"], \n",
    "        opset_version=cfg.opset_version,\n",
    "        export_params=True,\n",
    "        training=torch.onnx.TrainingMode.EVAL,\n",
    "        operator_export_type=torch.onnx.OperatorExportTypes.ONNX_ATEN_FALLBACK,\n",
    "        dynamic_axes={\n",
    "          \"input\"  : {0 : \"batch_size\"},\n",
    "          \"output\" : {0 : \"batch_size\"},\n",
    "        }\n",
    "    )"
   ]
  },
  {
   "cell_type": "code",
   "execution_count": 6,
   "id": "61b6f297",
   "metadata": {
    "execution": {
     "iopub.execute_input": "2023-01-29T05:41:16.074688Z",
     "iopub.status.busy": "2023-01-29T05:41:16.074352Z",
     "iopub.status.idle": "2023-01-29T05:41:16.085126Z",
     "shell.execute_reply": "2023-01-29T05:41:16.084186Z"
    },
    "papermill": {
     "duration": 0.016811,
     "end_time": "2023-01-29T05:41:16.087585",
     "exception": false,
     "start_time": "2023-01-29T05:41:16.070774",
     "status": "completed"
    },
    "tags": []
   },
   "outputs": [],
   "source": [
    "class OnnxModel(object):\n",
    "    def __init__(self, path: str) -> None:\n",
    "        self.ort_session = None\n",
    "        self.size: int = 384\n",
    "        \n",
    "        self.mean: list = [0.69530, 0.67521, 0.64236]\n",
    "        self.std: list  = [0.07926, 0.07729, 0.07490]\n",
    "        \n",
    "        self.path: str = path\n",
    "    \n",
    "        model = onnx.load(self.path)\n",
    "        onnx.checker.check_model(model)\n",
    "        self.ort_session = ort.InferenceSession(self.path)\n",
    "    \n",
    "    def infer(self, image: np.ndarray, labels: dict) -> str:\n",
    "        h, w, _ = image.shape\n",
    "\n",
    "        image = image / 255\n",
    "        image = cv2.resize(src=image, dsize=(self.size, self.size), interpolation=cv2.INTER_AREA).transpose(2, 0, 1)\n",
    "        for i in range(image.shape[0]): image[i, :, :] = (image[i, :, :] - self.mean[i]) / self.std[i]\n",
    "        image = np.expand_dims(image, axis=0)\n",
    "        inputs = {self.ort_session.get_inputs()[0].name : image.astype(\"float32\")}\n",
    "        prob = sigmoid(self.ort_session.run(None, input)[0][0])\n",
    "        if prob <= 0.5:\n",
    "            return \"Negative\", 1-prob\n",
    "        else:\n",
    "            return \"Positive\", prob"
   ]
  }
 ],
 "metadata": {
  "kernelspec": {
   "display_name": "Python 3",
   "language": "python",
   "name": "python3"
  },
  "language_info": {
   "codemirror_mode": {
    "name": "ipython",
    "version": 3
   },
   "file_extension": ".py",
   "mimetype": "text/x-python",
   "name": "python",
   "nbconvert_exporter": "python",
   "pygments_lexer": "ipython3",
   "version": "3.7.12"
  },
  "papermill": {
   "default_parameters": {},
   "duration": 81.091648,
   "end_time": "2023-01-29T05:41:17.114272",
   "environment_variables": {},
   "exception": null,
   "input_path": "__notebook__.ipynb",
   "output_path": "__notebook__.ipynb",
   "parameters": {},
   "start_time": "2023-01-29T05:39:56.022624",
   "version": "2.3.4"
  }
 },
 "nbformat": 4,
 "nbformat_minor": 5
}
