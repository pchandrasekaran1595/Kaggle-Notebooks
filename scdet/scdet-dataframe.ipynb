{
 "cells": [
  {
   "cell_type": "code",
   "execution_count": 1,
   "id": "895f08ea",
   "metadata": {
    "_cell_guid": "b1076dfc-b9ad-4769-8c92-a6c4dae69d19",
    "_uuid": "8f2839f25d086af736a60e9eeb907d3b93b6e0e5",
    "execution": {
     "iopub.execute_input": "2022-10-03T05:25:39.399084Z",
     "iopub.status.busy": "2022-10-03T05:25:39.398056Z",
     "iopub.status.idle": "2022-10-03T05:25:39.411054Z",
     "shell.execute_reply": "2022-10-03T05:25:39.410166Z"
    },
    "papermill": {
     "duration": 0.020627,
     "end_time": "2022-10-03T05:25:39.413684",
     "exception": false,
     "start_time": "2022-10-03T05:25:39.393057",
     "status": "completed"
    },
    "tags": []
   },
   "outputs": [],
   "source": [
    "import os\n",
    "import pandas as pd\n"
   ]
  },
  {
   "cell_type": "code",
   "execution_count": 2,
   "id": "39a1a19f",
   "metadata": {
    "execution": {
     "iopub.execute_input": "2022-10-03T05:25:39.419404Z",
     "iopub.status.busy": "2022-10-03T05:25:39.419030Z",
     "iopub.status.idle": "2022-10-03T05:25:40.993463Z",
     "shell.execute_reply": "2022-10-03T05:25:40.992191Z"
    },
    "papermill": {
     "duration": 1.58041,
     "end_time": "2022-10-03T05:25:40.996309",
     "exception": false,
     "start_time": "2022-10-03T05:25:39.415899",
     "status": "completed"
    },
    "tags": []
   },
   "outputs": [],
   "source": [
    "negative_filepaths = [os.path.join(\"../input/surface-crack-detection/Negative\", name) for name in os.listdir(\"../input/surface-crack-detection/Negative\")]\n",
    "positive_filepaths = [os.path.join(\"../input/surface-crack-detection/Positive\", name) for name in os.listdir(\"../input/surface-crack-detection/Positive\")]\n",
    "\n",
    "negative_labels = [0 for _ in range(len(negative_filepaths))]\n",
    "positive_labels = [1 for _ in range(len(positive_filepaths))]"
   ]
  },
  {
   "cell_type": "code",
   "execution_count": 3,
   "id": "5b275366",
   "metadata": {
    "execution": {
     "iopub.execute_input": "2022-10-03T05:25:41.002513Z",
     "iopub.status.busy": "2022-10-03T05:25:41.002076Z",
     "iopub.status.idle": "2022-10-03T05:25:41.153120Z",
     "shell.execute_reply": "2022-10-03T05:25:41.150265Z"
    },
    "papermill": {
     "duration": 0.159172,
     "end_time": "2022-10-03T05:25:41.157654",
     "exception": false,
     "start_time": "2022-10-03T05:25:40.998482",
     "status": "completed"
    },
    "tags": []
   },
   "outputs": [],
   "source": [
    "df = pd.DataFrame(data=None, columns=[\"filepaths\", \"labels\"])\n",
    "df.filepaths = negative_filepaths + positive_filepaths\n",
    "df.labels    = negative_labels + positive_labels\n",
    "\n",
    "df.to_csv(\"submission.csv\", index=False)"
   ]
  }
 ],
 "metadata": {
  "kernelspec": {
   "display_name": "Python 3",
   "language": "python",
   "name": "python3"
  },
  "language_info": {
   "codemirror_mode": {
    "name": "ipython",
    "version": 3
   },
   "file_extension": ".py",
   "mimetype": "text/x-python",
   "name": "python",
   "nbconvert_exporter": "python",
   "pygments_lexer": "ipython3",
   "version": "3.7.12"
  },
  "papermill": {
   "default_parameters": {},
   "duration": 12.194931,
   "end_time": "2022-10-03T05:25:41.986211",
   "environment_variables": {},
   "exception": null,
   "input_path": "__notebook__.ipynb",
   "output_path": "__notebook__.ipynb",
   "parameters": {},
   "start_time": "2022-10-03T05:25:29.791280",
   "version": "2.3.4"
  }
 },
 "nbformat": 4,
 "nbformat_minor": 5
}
