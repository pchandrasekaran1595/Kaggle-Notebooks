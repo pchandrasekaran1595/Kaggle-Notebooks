{
 "cells": [
  {
   "cell_type": "code",
   "execution_count": 1,
   "id": "a25931e1",
   "metadata": {
    "_cell_guid": "b1076dfc-b9ad-4769-8c92-a6c4dae69d19",
    "_uuid": "8f2839f25d086af736a60e9eeb907d3b93b6e0e5",
    "execution": {
     "iopub.execute_input": "2022-10-03T05:31:51.192918Z",
     "iopub.status.busy": "2022-10-03T05:31:51.192041Z",
     "iopub.status.idle": "2022-10-03T05:31:51.446193Z",
     "shell.execute_reply": "2022-10-03T05:31:51.445016Z"
    },
    "papermill": {
     "duration": 0.263548,
     "end_time": "2022-10-03T05:31:51.449441",
     "exception": false,
     "start_time": "2022-10-03T05:31:51.185893",
     "status": "completed"
    },
    "tags": []
   },
   "outputs": [],
   "source": [
    "import os\n",
    "import cv2\n",
    "import numpy as np\n",
    "import pandas as pd\n",
    "\n",
    "from typing import Union\n",
    "\n",
    "def breaker(num: int = 50, char: str = \"*\") -> None:\n",
    "    print(\"\\n\" + num*char + \"\\n\")"
   ]
  },
  {
   "cell_type": "code",
   "execution_count": 2,
   "id": "3cde0a6c",
   "metadata": {
    "execution": {
     "iopub.execute_input": "2022-10-03T05:31:51.455626Z",
     "iopub.status.busy": "2022-10-03T05:31:51.455227Z",
     "iopub.status.idle": "2022-10-03T05:31:51.461206Z",
     "shell.execute_reply": "2022-10-03T05:31:51.459879Z"
    },
    "papermill": {
     "duration": 0.012279,
     "end_time": "2022-10-03T05:31:51.464081",
     "exception": false,
     "start_time": "2022-10-03T05:31:51.451802",
     "status": "completed"
    },
    "tags": []
   },
   "outputs": [],
   "source": [
    "def get_image(path: str) -> np.ndarray:\n",
    "    image = cv2.imread(path, cv2.IMREAD_COLOR)\n",
    "    image = cv2.cvtColor(src=image, code=cv2.COLOR_BGR2RGB)\n",
    "    return image"
   ]
  },
  {
   "cell_type": "code",
   "execution_count": 3,
   "id": "10cf8bac",
   "metadata": {
    "execution": {
     "iopub.execute_input": "2022-10-03T05:31:51.470131Z",
     "iopub.status.busy": "2022-10-03T05:31:51.469568Z",
     "iopub.status.idle": "2022-10-03T05:31:51.486804Z",
     "shell.execute_reply": "2022-10-03T05:31:51.485235Z"
    },
    "papermill": {
     "duration": 0.023619,
     "end_time": "2022-10-03T05:31:51.489838",
     "exception": false,
     "start_time": "2022-10-03T05:31:51.466219",
     "status": "completed"
    },
    "tags": []
   },
   "outputs": [],
   "source": [
    "def get_statistics(filepaths: np.ndarray) -> dict:\n",
    "\n",
    "    sizes = [227]\n",
    "    stats: dict = dict()\n",
    "    means: dict = dict()\n",
    "    stds: dict  = dict()\n",
    "        \n",
    "    for size in sizes:\n",
    "        total_num_of_images: int = 0\n",
    "        r_mean, g_mean, b_mean, r_std, g_std, b_std = 0.0, 0.0, 0.0, 0.0, 0.0, 0.0\n",
    "        for filepath in filepaths:\n",
    "            image = get_image(filepath)\n",
    "            r_mean += image[:, :, 0].mean()\n",
    "            g_mean += image[:, :, 1].mean()\n",
    "            b_mean += image[:, :, 2].mean()\n",
    "            r_std += image[:, :, 0].std()\n",
    "            g_std += image[:, :, 1].std()\n",
    "            b_std += image[:, :, 2].std()\n",
    "            total_num_of_images += 1\n",
    "        \n",
    "        means[f\"{size}\"] = [\n",
    "            r_mean / total_num_of_images / 255, \n",
    "            g_mean / total_num_of_images / 255, \n",
    "            b_mean / total_num_of_images / 255,\n",
    "        ]\n",
    "        \n",
    "        stds[f\"{size}\"]  = [\n",
    "            r_std / total_num_of_images / 255, \n",
    "            g_std / total_num_of_images / 255, \n",
    "            b_std / total_num_of_images / 255,\n",
    "            ]\n",
    "    \n",
    "    stats[\"means\"] = means\n",
    "    stats[\"stds\"] = stds\n",
    "    \n",
    "    return stats\n",
    "\n",
    "\n",
    "def print_statistics(stats: dict) -> None:\n",
    "    breaker()\n",
    "    print(\"Means\".upper())\n",
    "    breaker()\n",
    "    for k, v in stats[\"means\"].items():\n",
    "        print(f\"{k} x {k} Means\\n\")\n",
    "        for i in range(len(v)):\n",
    "            if i == 0:\n",
    "                print(f\"Red   : {v[i]:.5f}\")\n",
    "            if i == 1:\n",
    "                print(f\"Green : {v[i]:.5f}\")\n",
    "            if i == 2:\n",
    "                print(f\"Blue  : {v[i]:.5f}\")\n",
    "        breaker()\n",
    "\n",
    "    breaker()\n",
    "    print(\"Stds\".upper())\n",
    "    breaker()\n",
    "    for k, v in stats[\"stds\"].items():\n",
    "        print(f\"{k} x {k} Stds\\n\")\n",
    "        for i in range(len(v)):\n",
    "            if i == 0:\n",
    "                print(f\"Red   : {v[i]:.5f}\")\n",
    "            if i == 1:\n",
    "                print(f\"Green : {v[i]:.5f}\")\n",
    "            if i == 2:\n",
    "                print(f\"Blue  : {v[i]:.5f}\")\n",
    "        breaker()"
   ]
  },
  {
   "cell_type": "code",
   "execution_count": 4,
   "id": "e14db338",
   "metadata": {
    "execution": {
     "iopub.execute_input": "2022-10-03T05:31:51.497045Z",
     "iopub.status.busy": "2022-10-03T05:31:51.495656Z",
     "iopub.status.idle": "2022-10-03T05:37:23.288252Z",
     "shell.execute_reply": "2022-10-03T05:37:23.286708Z"
    },
    "papermill": {
     "duration": 331.800802,
     "end_time": "2022-10-03T05:37:23.292978",
     "exception": false,
     "start_time": "2022-10-03T05:31:51.492176",
     "status": "completed"
    },
    "tags": []
   },
   "outputs": [
    {
     "name": "stdout",
     "output_type": "stream",
     "text": [
      "\n",
      "**************************************************\n",
      "\n",
      "MEANS\n",
      "\n",
      "**************************************************\n",
      "\n",
      "227 x 227 Means\n",
      "\n",
      "Red   : 0.69530\n",
      "Green : 0.67521\n",
      "Blue  : 0.64236\n",
      "\n",
      "**************************************************\n",
      "\n",
      "\n",
      "**************************************************\n",
      "\n",
      "STDS\n",
      "\n",
      "**************************************************\n",
      "\n",
      "227 x 227 Stds\n",
      "\n",
      "Red   : 0.07926\n",
      "Green : 0.07729\n",
      "Blue  : 0.07490\n",
      "\n",
      "**************************************************\n",
      "\n"
     ]
    }
   ],
   "source": [
    "df = pd.read_csv(\"../input/scdet-dataframe/submission.csv\")\n",
    "\n",
    "stats = get_statistics(df.filepaths.copy().values)\n",
    "print_statistics(stats)"
   ]
  }
 ],
 "metadata": {
  "kernelspec": {
   "display_name": "Python 3",
   "language": "python",
   "name": "python3"
  },
  "language_info": {
   "codemirror_mode": {
    "name": "ipython",
    "version": 3
   },
   "file_extension": ".py",
   "mimetype": "text/x-python",
   "name": "python",
   "nbconvert_exporter": "python",
   "pygments_lexer": "ipython3",
   "version": "3.7.12"
  },
  "papermill": {
   "default_parameters": {},
   "duration": 342.571668,
   "end_time": "2022-10-03T05:37:24.017759",
   "environment_variables": {},
   "exception": null,
   "input_path": "__notebook__.ipynb",
   "output_path": "__notebook__.ipynb",
   "parameters": {},
   "start_time": "2022-10-03T05:31:41.446091",
   "version": "2.3.4"
  }
 },
 "nbformat": 4,
 "nbformat_minor": 5
}
