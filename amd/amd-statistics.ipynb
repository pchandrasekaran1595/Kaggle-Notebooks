{
 "cells": [
  {
   "cell_type": "code",
   "execution_count": 1,
   "id": "28fdd6bf",
   "metadata": {
    "_cell_guid": "b1076dfc-b9ad-4769-8c92-a6c4dae69d19",
    "_uuid": "8f2839f25d086af736a60e9eeb907d3b93b6e0e5",
    "execution": {
     "iopub.execute_input": "2022-10-08T20:05:18.256460Z",
     "iopub.status.busy": "2022-10-08T20:05:18.256003Z",
     "iopub.status.idle": "2022-10-08T20:05:18.538869Z",
     "shell.execute_reply": "2022-10-08T20:05:18.537611Z"
    },
    "papermill": {
     "duration": 0.291226,
     "end_time": "2022-10-08T20:05:18.541996",
     "exception": false,
     "start_time": "2022-10-08T20:05:18.250770",
     "status": "completed"
    },
    "tags": []
   },
   "outputs": [],
   "source": [
    "import os\n",
    "import cv2\n",
    "import numpy as np\n",
    "import pandas as pd\n",
    "\n",
    "from typing import Union\n",
    "\n",
    "def breaker(num: int = 50, char: str = \"*\") -> None:\n",
    "    print(\"\\n\" + num*char + \"\\n\")"
   ]
  },
  {
   "cell_type": "code",
   "execution_count": 2,
   "id": "34d5f95d",
   "metadata": {
    "execution": {
     "iopub.execute_input": "2022-10-08T20:05:18.548325Z",
     "iopub.status.busy": "2022-10-08T20:05:18.547813Z",
     "iopub.status.idle": "2022-10-08T20:05:18.555673Z",
     "shell.execute_reply": "2022-10-08T20:05:18.554635Z"
    },
    "papermill": {
     "duration": 0.013658,
     "end_time": "2022-10-08T20:05:18.558147",
     "exception": false,
     "start_time": "2022-10-08T20:05:18.544489",
     "status": "completed"
    },
    "tags": []
   },
   "outputs": [],
   "source": [
    "def get_image(path: str, size: int=128) -> np.ndarray:\n",
    "    image = cv2.imread(path, cv2.IMREAD_COLOR)\n",
    "    image = cv2.cvtColor(src=image, code=cv2.COLOR_BGR2RGB)\n",
    "    if image.shape != (128, 128, 3): cv2.resize(src=image, dsize=(size, size), interpolation=cv2.INTER_AREA)\n",
    "    return image"
   ]
  },
  {
   "cell_type": "code",
   "execution_count": 3,
   "id": "be5250af",
   "metadata": {
    "execution": {
     "iopub.execute_input": "2022-10-08T20:05:18.564166Z",
     "iopub.status.busy": "2022-10-08T20:05:18.563530Z",
     "iopub.status.idle": "2022-10-08T20:05:18.578637Z",
     "shell.execute_reply": "2022-10-08T20:05:18.577799Z"
    },
    "papermill": {
     "duration": 0.02048,
     "end_time": "2022-10-08T20:05:18.580781",
     "exception": false,
     "start_time": "2022-10-08T20:05:18.560301",
     "status": "completed"
    },
    "tags": []
   },
   "outputs": [],
   "source": [
    "def get_statistics(filepaths: np.ndarray) -> dict:\n",
    "\n",
    "    sizes: list = [128, 224, 256]\n",
    "    stats: dict = dict()\n",
    "    means: dict = dict()\n",
    "    stds: dict  = dict()\n",
    "        \n",
    "    for size in sizes:\n",
    "        total_num_of_images: int = 0\n",
    "        r_mean, g_mean, b_mean, r_std, g_std, b_std = 0.0, 0.0, 0.0, 0.0, 0.0, 0.0\n",
    "        for filepath in filepaths:\n",
    "            image = get_image(filepath, size)\n",
    "            r_mean += image[:, :, 0].mean()\n",
    "            g_mean += image[:, :, 1].mean()\n",
    "            b_mean += image[:, :, 2].mean()\n",
    "            r_std += image[:, :, 0].std()\n",
    "            g_std += image[:, :, 1].std()\n",
    "            b_std += image[:, :, 2].std()\n",
    "            total_num_of_images += 1\n",
    "        \n",
    "        means[f\"{size}\"] = [\n",
    "            r_mean / total_num_of_images / 255, \n",
    "            g_mean / total_num_of_images / 255, \n",
    "            b_mean / total_num_of_images / 255,\n",
    "        ]\n",
    "        \n",
    "        stds[f\"{size}\"]  = [\n",
    "            r_std / total_num_of_images / 255, \n",
    "            g_std / total_num_of_images / 255, \n",
    "            b_std / total_num_of_images / 255,\n",
    "            ]\n",
    "    \n",
    "    stats[\"means\"] = means\n",
    "    stats[\"stds\"] = stds\n",
    "    \n",
    "    return stats\n",
    "\n",
    "\n",
    "def print_statistics(stats: dict) -> None:\n",
    "    breaker()\n",
    "    print(\"Means\".upper())\n",
    "    breaker()\n",
    "    for k, v in stats[\"means\"].items():\n",
    "        print(f\"{k} x {k} Means\\n\")\n",
    "        for i in range(len(v)):\n",
    "            if i == 0:\n",
    "                print(f\"Red   : {v[i]:.5f}\")\n",
    "            if i == 1:\n",
    "                print(f\"Green : {v[i]:.5f}\")\n",
    "            if i == 2:\n",
    "                print(f\"Blue  : {v[i]:.5f}\")\n",
    "        breaker()\n",
    "    \n",
    "    breaker()\n",
    "    print(\"Stds\".upper())\n",
    "    breaker()\n",
    "    for k, v in stats[\"stds\"].items():\n",
    "        print(f\"{k} x {k} Stds\\n\")\n",
    "        for i in range(len(v)):\n",
    "            if i == 0:\n",
    "                print(f\"Red   : {v[i]:.5f}\")\n",
    "            if i == 1:\n",
    "                print(f\"Green : {v[i]:.5f}\")\n",
    "            if i == 2:\n",
    "                print(f\"Blue  : {v[i]:.5f}\")\n",
    "        breaker()"
   ]
  },
  {
   "cell_type": "code",
   "execution_count": 4,
   "id": "3f088cf9",
   "metadata": {
    "execution": {
     "iopub.execute_input": "2022-10-08T20:05:18.586944Z",
     "iopub.status.busy": "2022-10-08T20:05:18.586299Z",
     "iopub.status.idle": "2022-10-08T20:06:20.220025Z",
     "shell.execute_reply": "2022-10-08T20:06:20.218686Z"
    },
    "papermill": {
     "duration": 61.64275,
     "end_time": "2022-10-08T20:06:20.225779",
     "exception": false,
     "start_time": "2022-10-08T20:05:18.583029",
     "status": "completed"
    },
    "tags": []
   },
   "outputs": [
    {
     "name": "stdout",
     "output_type": "stream",
     "text": [
      "\n",
      "**************************************************\n",
      "\n",
      "MEANS\n",
      "\n",
      "**************************************************\n",
      "\n",
      "128 x 128 Means\n",
      "\n",
      "Red   : 0.27862\n",
      "Green : 0.27862\n",
      "Blue  : 0.27862\n",
      "\n",
      "**************************************************\n",
      "\n",
      "224 x 224 Means\n",
      "\n",
      "Red   : 0.27862\n",
      "Green : 0.27862\n",
      "Blue  : 0.27862\n",
      "\n",
      "**************************************************\n",
      "\n",
      "256 x 256 Means\n",
      "\n",
      "Red   : 0.27862\n",
      "Green : 0.27862\n",
      "Blue  : 0.27862\n",
      "\n",
      "**************************************************\n",
      "\n",
      "\n",
      "**************************************************\n",
      "\n",
      "STDS\n",
      "\n",
      "**************************************************\n",
      "\n",
      "128 x 128 Stds\n",
      "\n",
      "Red   : 0.32443\n",
      "Green : 0.32443\n",
      "Blue  : 0.32443\n",
      "\n",
      "**************************************************\n",
      "\n",
      "224 x 224 Stds\n",
      "\n",
      "Red   : 0.32443\n",
      "Green : 0.32443\n",
      "Blue  : 0.32443\n",
      "\n",
      "**************************************************\n",
      "\n",
      "256 x 256 Stds\n",
      "\n",
      "Red   : 0.32443\n",
      "Green : 0.32443\n",
      "Blue  : 0.32443\n",
      "\n",
      "**************************************************\n",
      "\n"
     ]
    }
   ],
   "source": [
    "df = pd.read_csv(\"../input/amd-dataframe/data.csv\")\n",
    "\n",
    "stats = get_statistics(df.filepaths.copy().values)\n",
    "print_statistics(stats)"
   ]
  }
 ],
 "metadata": {
  "kernelspec": {
   "display_name": "Python 3",
   "language": "python",
   "name": "python3"
  },
  "language_info": {
   "codemirror_mode": {
    "name": "ipython",
    "version": 3
   },
   "file_extension": ".py",
   "mimetype": "text/x-python",
   "name": "python",
   "nbconvert_exporter": "python",
   "pygments_lexer": "ipython3",
   "version": "3.7.12"
  },
  "papermill": {
   "default_parameters": {},
   "duration": 72.189132,
   "end_time": "2022-10-08T20:06:20.950735",
   "environment_variables": {},
   "exception": null,
   "input_path": "__notebook__.ipynb",
   "output_path": "__notebook__.ipynb",
   "parameters": {},
   "start_time": "2022-10-08T20:05:08.761603",
   "version": "2.3.4"
  }
 },
 "nbformat": 4,
 "nbformat_minor": 5
}
