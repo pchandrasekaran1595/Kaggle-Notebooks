{
 "cells": [
  {
   "cell_type": "markdown",
   "id": "00e844db",
   "metadata": {
    "_cell_guid": "b1076dfc-b9ad-4769-8c92-a6c4dae69d19",
    "_uuid": "8f2839f25d086af736a60e9eeb907d3b93b6e0e5",
    "papermill": {
     "duration": 0.004846,
     "end_time": "2022-10-09T07:09:33.159019",
     "exception": false,
     "start_time": "2022-10-09T07:09:33.154173",
     "status": "completed"
    },
    "tags": []
   },
   "source": [
    "### **Setup**"
   ]
  },
  {
   "cell_type": "code",
   "execution_count": 1,
   "id": "c12a94d8",
   "metadata": {
    "execution": {
     "iopub.execute_input": "2022-10-09T07:09:33.168849Z",
     "iopub.status.busy": "2022-10-09T07:09:33.168187Z",
     "iopub.status.idle": "2022-10-09T07:09:43.998613Z",
     "shell.execute_reply": "2022-10-09T07:09:43.996594Z"
    },
    "papermill": {
     "duration": 10.838231,
     "end_time": "2022-10-09T07:09:44.001107",
     "exception": false,
     "start_time": "2022-10-09T07:09:33.162876",
     "status": "completed"
    },
    "tags": []
   },
   "outputs": [
    {
     "name": "stderr",
     "output_type": "stream",
     "text": [
      "WARNING: Running pip as the 'root' user can result in broken permissions and conflicting behaviour with the system package manager. It is recommended to use a virtual environment instead: https://pip.pypa.io/warnings/venv\n"
     ]
    }
   ],
   "source": [
    "%%bash\n",
    "pip install timm -q"
   ]
  },
  {
   "cell_type": "markdown",
   "id": "c873d281",
   "metadata": {
    "papermill": {
     "duration": 0.004075,
     "end_time": "2022-10-09T07:09:44.009525",
     "exception": false,
     "start_time": "2022-10-09T07:09:44.005450",
     "status": "completed"
    },
    "tags": []
   },
   "source": [
    "### **Library Imports**"
   ]
  },
  {
   "cell_type": "code",
   "execution_count": 2,
   "id": "fc02738f",
   "metadata": {
    "execution": {
     "iopub.execute_input": "2022-10-09T07:09:44.018956Z",
     "iopub.status.busy": "2022-10-09T07:09:44.018621Z",
     "iopub.status.idle": "2022-10-09T07:09:47.435051Z",
     "shell.execute_reply": "2022-10-09T07:09:47.433977Z"
    },
    "papermill": {
     "duration": 3.42401,
     "end_time": "2022-10-09T07:09:47.437445",
     "exception": false,
     "start_time": "2022-10-09T07:09:44.013435",
     "status": "completed"
    },
    "tags": []
   },
   "outputs": [],
   "source": [
    "import os\n",
    "import re\n",
    "import cv2\n",
    "import timm\n",
    "import torch\n",
    "import numpy as np\n",
    "import pandas as pd\n",
    "import matplotlib.pyplot as plt\n",
    "\n",
    "from time import time\n",
    "from torch import nn, optim\n",
    "from torch.utils.data import Dataset\n",
    "from torch.utils.data import DataLoader as DL\n",
    "from torchvision import models, transforms\n",
    "\n",
    "from sklearn.model_selection import StratifiedKFold"
   ]
  },
  {
   "cell_type": "markdown",
   "id": "4df826b1",
   "metadata": {
    "papermill": {
     "duration": 0.003861,
     "end_time": "2022-10-09T07:09:47.445694",
     "exception": false,
     "start_time": "2022-10-09T07:09:47.441833",
     "status": "completed"
    },
    "tags": []
   },
   "source": [
    "### **Utilities and Helpers**"
   ]
  },
  {
   "cell_type": "code",
   "execution_count": 3,
   "id": "4aa10ea6",
   "metadata": {
    "execution": {
     "iopub.execute_input": "2022-10-09T07:09:47.455501Z",
     "iopub.status.busy": "2022-10-09T07:09:47.454952Z",
     "iopub.status.idle": "2022-10-09T07:09:47.467631Z",
     "shell.execute_reply": "2022-10-09T07:09:47.466647Z"
    },
    "papermill": {
     "duration": 0.019761,
     "end_time": "2022-10-09T07:09:47.469503",
     "exception": false,
     "start_time": "2022-10-09T07:09:47.449742",
     "status": "completed"
    },
    "tags": []
   },
   "outputs": [],
   "source": [
    "SEED = 42\n",
    "SIZE = 128\n",
    "\n",
    "\n",
    "def breaker(num: int=50, char: str=\"*\") -> None:\n",
    "    print(\"\\n\" + num*char + \"\\n\")\n",
    "\n",
    "    \n",
    "def get_image(path: str, size: int=224) -> np.ndarray:\n",
    "    image = cv2.imread(path, cv2.IMREAD_COLOR)\n",
    "    image = cv2.cvtColor(src=image, code=cv2.COLOR_BGR2RGB)\n",
    "    return cv2.resize(src=image, dsize=(size, size), interpolation=cv2.INTER_AREA)\n",
    "\n",
    "\n",
    "def show_loss_graphs(L: list) -> None:\n",
    "    TL, VL = [], []\n",
    "    for i in range(len(L)):\n",
    "        TL.append(L[i][\"train\"])\n",
    "        VL.append(L[i][\"valid\"])\n",
    "    x_Axis = np.arange(1, len(TL) + 1)\n",
    "    plt.figure()\n",
    "    plt.plot(x_Axis, TL, \"r\", label=\"Train\")\n",
    "    plt.plot(x_Axis, VL, \"b\", label=\"Valid\")\n",
    "    plt.legend()\n",
    "    plt.grid()\n",
    "    plt.title(\"Loss Graph\")\n",
    "    plt.show()\n",
    "\n",
    "    \n",
    "def show_accuracy_graphs(A: list) -> None:\n",
    "    TA, VA = [], []\n",
    "    for i in range(len(A)):\n",
    "        TA.append(A[i][\"train\"])\n",
    "        VA.append(A[i][\"valid\"])\n",
    "    x_Axis = np.arange(1, len(TA) + 1)\n",
    "    plt.figure()\n",
    "    plt.plot(x_Axis, TA, \"r\", label=\"Train\")\n",
    "    plt.plot(x_Axis, VA, \"b\", label=\"Valid\")\n",
    "    plt.legend()\n",
    "    plt.grid()\n",
    "    plt.title(\"Accuracy Graph\")\n",
    "    plt.show()\n",
    "    \n",
    "\n",
    "def show_lr_graph(LR: list) -> None:\n",
    "    x_Axis = [i+1 for i in range(len(LR))]\n",
    "    plt.figure(figsize=(8, 6))\n",
    "    plt.plot(x_Axis, LR, \"rx\")\n",
    "    plt.grid()\n",
    "    plt.show()"
   ]
  },
  {
   "cell_type": "markdown",
   "id": "501ef76d",
   "metadata": {
    "papermill": {
     "duration": 0.003637,
     "end_time": "2022-10-09T07:09:47.477006",
     "exception": false,
     "start_time": "2022-10-09T07:09:47.473369",
     "status": "completed"
    },
    "tags": []
   },
   "source": [
    "### **Configuration**"
   ]
  },
  {
   "cell_type": "code",
   "execution_count": 4,
   "id": "8be190d0",
   "metadata": {
    "execution": {
     "iopub.execute_input": "2022-10-09T07:09:47.486190Z",
     "iopub.status.busy": "2022-10-09T07:09:47.485555Z",
     "iopub.status.idle": "2022-10-09T07:09:47.552726Z",
     "shell.execute_reply": "2022-10-09T07:09:47.551836Z"
    },
    "papermill": {
     "duration": 0.073803,
     "end_time": "2022-10-09T07:09:47.554664",
     "exception": false,
     "start_time": "2022-10-09T07:09:47.480861",
     "status": "completed"
    },
    "tags": []
   },
   "outputs": [],
   "source": [
    "class CFG(object):\n",
    "    def __init__(self, \n",
    "                 seed: int = 42,\n",
    "                 size: int = 224,\n",
    "                 n_splits: int = 5,\n",
    "                 batch_size: int = 16,\n",
    "                 epochs: int = 25,\n",
    "                 early_stopping: int = 5,\n",
    "                 lr: float = 1e-4,\n",
    "                 wd: float = 0.0,\n",
    "                 max_lr: float = 1e-3,\n",
    "                 pct_start: float = 0.2,\n",
    "                 steps_per_epoch: int = 100,\n",
    "                 div_factor: int = 1e3, \n",
    "                 final_div_factor: float = 1e3,\n",
    "                 ):\n",
    "        self.seed = seed\n",
    "        self.size = size\n",
    "        self.n_splits = n_splits\n",
    "        self.batch_size = batch_size\n",
    "        self.epochs = epochs\n",
    "        self.early_stopping = early_stopping\n",
    "        self.lr = lr\n",
    "        self.wd = wd\n",
    "        self.max_lr = max_lr\n",
    "        self.pct_start = pct_start\n",
    "        self.steps_per_epoch = steps_per_epoch\n",
    "        self.div_factor = div_factor\n",
    "        self.final_div_factor = final_div_factor\n",
    "        self.device = torch.device(\"cuda\" if torch.cuda.is_available() else \"cpu\")\n",
    "        self.train_transform = transforms.Compose([\n",
    "            transforms.ToTensor(),\n",
    "            transforms.Normalize([0.27862, 0.27862, 0.27862], [0.32443, 0.32443, 0.32443]),\n",
    "            transforms.RandomAffine(degrees=(-45, 45), translate=(0.15, 0.15), scale=(0.5, 1.5)),\n",
    "            transforms.RandomHorizontalFlip(p=0.25),\n",
    "            transforms.RandomVerticalFlip(p=0.25),\n",
    "        ])\n",
    "        self.valid_transform = transforms.Compose([\n",
    "            transforms.ToTensor(),\n",
    "            transforms.Normalize([0.27862, 0.27862, 0.27862], [0.32443, 0.32443, 0.32443]),\n",
    "        ])\n",
    "                                \n",
    "        self.save_path = \"saves\"\n",
    "        if not os.path.exists(self.save_path): os.makedirs(self.save_path)\n",
    "    \n",
    "cfg = CFG(\n",
    "    seed=SEED, \n",
    "    size=SIZE\n",
    ")"
   ]
  },
  {
   "cell_type": "markdown",
   "id": "378a7448",
   "metadata": {
    "papermill": {
     "duration": 0.003748,
     "end_time": "2022-10-09T07:09:47.562500",
     "exception": false,
     "start_time": "2022-10-09T07:09:47.558752",
     "status": "completed"
    },
    "tags": []
   },
   "source": [
    "### **Dataset Template**"
   ]
  },
  {
   "cell_type": "code",
   "execution_count": 5,
   "id": "4fc04411",
   "metadata": {
    "execution": {
     "iopub.execute_input": "2022-10-09T07:09:47.571769Z",
     "iopub.status.busy": "2022-10-09T07:09:47.571097Z",
     "iopub.status.idle": "2022-10-09T07:09:47.577486Z",
     "shell.execute_reply": "2022-10-09T07:09:47.576663Z"
    },
    "papermill": {
     "duration": 0.013091,
     "end_time": "2022-10-09T07:09:47.579397",
     "exception": false,
     "start_time": "2022-10-09T07:09:47.566306",
     "status": "completed"
    },
    "tags": []
   },
   "outputs": [],
   "source": [
    "class DS(Dataset):\n",
    "    def __init__(\n",
    "        self, \n",
    "        filepaths: np.ndarray, \n",
    "        labels: np.ndarray, \n",
    "        size: int,\n",
    "        transform=None):\n",
    "        \n",
    "        self.filepaths = filepaths\n",
    "        self.labels = labels\n",
    "        self.size = size\n",
    "        self.transform = transform\n",
    "    \n",
    "    def __len__(self):\n",
    "        return self.filepaths.shape[0]\n",
    "    \n",
    "    def __getitem__(self, idx):\n",
    "        image = get_image(self.filepaths[idx], self.size)\n",
    "        return self.transform(image), torch.LongTensor(self.labels[idx])"
   ]
  },
  {
   "cell_type": "markdown",
   "id": "fc51a9d9",
   "metadata": {
    "papermill": {
     "duration": 0.003643,
     "end_time": "2022-10-09T07:09:47.586872",
     "exception": false,
     "start_time": "2022-10-09T07:09:47.583229",
     "status": "completed"
    },
    "tags": []
   },
   "source": [
    "### **Model**"
   ]
  },
  {
   "cell_type": "code",
   "execution_count": 6,
   "id": "76577ec3",
   "metadata": {
    "execution": {
     "iopub.execute_input": "2022-10-09T07:09:47.596258Z",
     "iopub.status.busy": "2022-10-09T07:09:47.595395Z",
     "iopub.status.idle": "2022-10-09T07:09:47.601675Z",
     "shell.execute_reply": "2022-10-09T07:09:47.600804Z"
    },
    "papermill": {
     "duration": 0.013,
     "end_time": "2022-10-09T07:09:47.603670",
     "exception": false,
     "start_time": "2022-10-09T07:09:47.590670",
     "status": "completed"
    },
    "tags": []
   },
   "outputs": [],
   "source": [
    "class Model(nn.Module):\n",
    "    def __init__(self):\n",
    "        super(Model, self).__init__()\n",
    "            \n",
    "        self.model = timm.create_model(model_name=\"efficientnet_b4\", pretrained=True)\n",
    "        \n",
    "        self.model.classifier = nn.Linear(\n",
    "            in_features=self.model.classifier.in_features, \n",
    "            out_features=4\n",
    "        )\n",
    "            \n",
    "    def freeze(self):\n",
    "        for params in self.parameters(): params.requires_grad = False\n",
    "\n",
    "    def forward(self, x):\n",
    "        return nn.LogSoftmax(dim=1)(self.model(x))"
   ]
  },
  {
   "cell_type": "markdown",
   "id": "9572ef33",
   "metadata": {
    "papermill": {
     "duration": 0.004002,
     "end_time": "2022-10-09T07:09:47.611512",
     "exception": false,
     "start_time": "2022-10-09T07:09:47.607510",
     "status": "completed"
    },
    "tags": []
   },
   "source": [
    "### **Fit and Predict**"
   ]
  },
  {
   "cell_type": "code",
   "execution_count": 7,
   "id": "1b397230",
   "metadata": {
    "execution": {
     "iopub.execute_input": "2022-10-09T07:09:47.620607Z",
     "iopub.status.busy": "2022-10-09T07:09:47.620357Z",
     "iopub.status.idle": "2022-10-09T07:09:47.639977Z",
     "shell.execute_reply": "2022-10-09T07:09:47.639106Z"
    },
    "papermill": {
     "duration": 0.026778,
     "end_time": "2022-10-09T07:09:47.642209",
     "exception": false,
     "start_time": "2022-10-09T07:09:47.615431",
     "status": "completed"
    },
    "tags": []
   },
   "outputs": [],
   "source": [
    "def fit(model=None,\n",
    "        optimizer=None, \n",
    "        scheduler_rlrop=None,\n",
    "        scheduler_oclr=None,\n",
    "        epochs=None, \n",
    "        early_stopping_patience=None, \n",
    "        dataloaders=None, \n",
    "        fold=None, \n",
    "        save_path=None,\n",
    "        device=None,\n",
    "        verbose=False\n",
    ") -> tuple:\n",
    "    \n",
    "    def get_accuracy(y_pred, y_true):\n",
    "        y_pred = torch.argmax(y_pred, dim=1)\n",
    "        return torch.count_nonzero(y_pred == y_true).item() / len(y_pred)\n",
    "    \n",
    "    if verbose:\n",
    "        breaker()\n",
    "        if fold: print(f\"Training Fold {fold}...\")\n",
    "        else: print(\"Training ...\")\n",
    "        breaker()\n",
    "        \n",
    "    bestLoss: dict = {\"train\" : np.inf, \"valid\" : np.inf} \n",
    "    bestAccs: dict = {\"train\" : 0.0, \"valid\" : 0.0}\n",
    "        \n",
    "    Losses: list = []\n",
    "    Accuracies: list = [] \n",
    "    LRs: list = []\n",
    "        \n",
    "    if fold: \n",
    "        ble_name = f\"ble_state_fold_{fold}.pt\"\n",
    "        bae_name = f\"bae_state_fold_{fold}.pt\"\n",
    "    else: \n",
    "        ble_name = f\"ble_state.pt\"\n",
    "        bae_name = f\"bae_state.pt\"\n",
    "    \n",
    "    start_time = time()\n",
    "    for e in range(epochs):\n",
    "        e_st = time()\n",
    "        epochLoss: dict = {\"train\" : 0.0, \"valid\" : 0.0} \n",
    "        epochAccs: dict = {\"train\" : 0.0, \"valid\" : 0.0}\n",
    "\n",
    "        for phase in [\"train\", \"valid\"]:\n",
    "            if phase == \"train\":\n",
    "                model.train()\n",
    "            else:\n",
    "                model.eval()\n",
    "            \n",
    "            lossPerPass: list = []\n",
    "            accsPerPass: list = []\n",
    "                \n",
    "            for X, y in dataloaders[phase]:\n",
    "                X, y = X.to(device), y.to(device).view(-1)\n",
    "\n",
    "                optimizer.zero_grad()\n",
    "                with torch.set_grad_enabled(phase == \"train\"):\n",
    "                    output = model(X)\n",
    "                    loss = torch.nn.NLLLoss()(output, y)\n",
    "                    if phase == \"train\":\n",
    "                        loss.backward()\n",
    "                        optimizer.step()\n",
    "                        if scheduler_oclr: scheduler_oclr.step()\n",
    "                lossPerPass.append(loss.item())\n",
    "                accsPerPass.append(get_accuracy(output, y))\n",
    "            epochLoss[phase] = np.mean(np.array(lossPerPass))\n",
    "            epochAccs[phase] = np.mean(np.array(accsPerPass))\n",
    "        if scheduler_oclr: LRs.append(scheduler_oclr.get_last_lr())\n",
    "        Losses.append(epochLoss)\n",
    "        Accuracies.append(epochAccs)\n",
    "    \n",
    "        if scheduler_oclr:\n",
    "            save_dict = {\"model_state_dict\"     : model.state_dict(),\n",
    "                         \"optim_state_dict\"     : optimizer.state_dict(),\n",
    "                         \"scheduler_state_dict\" : scheduler_oclr.state_dict()}\n",
    "        \n",
    "        elif scheduler_rlrop:\n",
    "            save_dict = {\"model_state_dict\"     : model.state_dict(),\n",
    "                         \"optim_state_dict\"     : optimizer.state_dict(),\n",
    "                         \"scheduler_state_dict\" : scheduler_rlrop.state_dict()}\n",
    "        \n",
    "        else:\n",
    "            save_dict = {\"model_state_dict\"     : model.state_dict(),\n",
    "                         \"optim_state_dict\"     : optimizer.state_dict()}\n",
    "        \n",
    "        \n",
    "        if early_stopping_patience:\n",
    "            if epochLoss[\"valid\"] < bestLoss[\"valid\"]:\n",
    "                bestLoss = epochLoss\n",
    "                BLE = e + 1\n",
    "                torch.save(save_dict, os.path.join(save_path, ble_name))\n",
    "                torch.save(save_dict, os.path.join(save_path, bae_name))\n",
    "                early_stopping_step = 0\n",
    "            else:\n",
    "                early_stopping_step += 1\n",
    "                if early_stopping_step > early_stopping_patience:\n",
    "                    print(\"\\nEarly Stopping at Epoch {}\".format(e + 1))\n",
    "                    break\n",
    "        \n",
    "        if epochLoss[\"valid\"] < bestLoss[\"valid\"]:\n",
    "            bestLoss = epochLoss\n",
    "            BLE = e + 1\n",
    "            torch.save(save_dict,os.path.join(save_path, ble_name))\n",
    "        \n",
    "        if epochAccs[\"valid\"] > bestAccs[\"valid\"]:\n",
    "            bestAccs = epochAccs\n",
    "            BAE = e + 1\n",
    "            torch.save(save_dict,os.path.join(save_path, bae_name))\n",
    "        \n",
    "        if scheduler_rlrop: scheduler_rlrop.step(epochLoss[\"valid\"])\n",
    "        \n",
    "        if verbose:\n",
    "            print(\"Epoch: {} | Train Loss: {:.5f} | Valid Loss: {:.5f} |\\\n",
    " Train Accs: {:.5f} | Valid Accs: {:.5f} | Time: {:.2f} seconds\".format(e+1, \n",
    "                                                                        epochLoss[\"train\"], epochLoss[\"valid\"], \n",
    "                                                                        epochAccs[\"train\"], epochAccs[\"valid\"], \n",
    "                                                                        time()-e_st))\n",
    "\n",
    "    if verbose:                                           \n",
    "        breaker()\n",
    "        print(f\"Best Validation Loss at Epoch {BLE}\")\n",
    "        breaker()\n",
    "        print(f\"Best Validation Accs at Epoch {BAE}\")\n",
    "        breaker()\n",
    "        print(\"Time Taken [{} Epochs] : {:.2f} minutes\".format(len(Losses), (time()-start_time)/60))\n",
    "    \n",
    "    return Losses, Accuracies, LRs, bestLoss, bestAccs, BLE, BAE, ble_name, bae_name\n",
    "\n",
    "\n",
    "# def predict_batch(model=None, dataloader=None, path=None, device=None) -> np.ndarray:\n",
    "#     model.load_state_dict(torch.load(path, map_location=device)[\"model_state_dict\"])\n",
    "#     model.to(device)    \n",
    "#     model.eval()\n",
    "    \n",
    "#     y_pred = torch.zeros(1, 1).to(device)\n",
    "    \n",
    "#     for X in dataloader:\n",
    "#         X = X.to(device)\n",
    "#         with torch.no_grad():\n",
    "#             output = torch.argmax(torch.exp(model(X)), dim=1)\n",
    "#         y_pred = torch.cat((y_pred, output.view(-1, 1)), dim=0)\n",
    "    \n",
    "#     return y_pred[1:].detach().cpu().numpy()"
   ]
  },
  {
   "cell_type": "markdown",
   "id": "ebc2a63d",
   "metadata": {
    "papermill": {
     "duration": 0.004463,
     "end_time": "2022-10-09T07:09:47.650519",
     "exception": false,
     "start_time": "2022-10-09T07:09:47.646056",
     "status": "completed"
    },
    "tags": []
   },
   "source": [
    "### **Train**"
   ]
  },
  {
   "cell_type": "code",
   "execution_count": 8,
   "id": "58108136",
   "metadata": {
    "execution": {
     "iopub.execute_input": "2022-10-09T07:09:47.659908Z",
     "iopub.status.busy": "2022-10-09T07:09:47.659098Z",
     "iopub.status.idle": "2022-10-09T07:09:47.698310Z",
     "shell.execute_reply": "2022-10-09T07:09:47.697492Z"
    },
    "papermill": {
     "duration": 0.046157,
     "end_time": "2022-10-09T07:09:47.700529",
     "exception": false,
     "start_time": "2022-10-09T07:09:47.654372",
     "status": "completed"
    },
    "tags": []
   },
   "outputs": [],
   "source": [
    "df = pd.read_csv(\"../input/amd-dataframe/data.csv\")\n",
    "\n",
    "filepaths = df.filepaths.copy().values\n",
    "labels = df.labels.copy().values"
   ]
  },
  {
   "cell_type": "code",
   "execution_count": 9,
   "id": "b5dc105e",
   "metadata": {
    "execution": {
     "iopub.execute_input": "2022-10-09T07:09:47.710044Z",
     "iopub.status.busy": "2022-10-09T07:09:47.709233Z",
     "iopub.status.idle": "2022-10-09T08:33:43.030112Z",
     "shell.execute_reply": "2022-10-09T08:33:43.028998Z"
    },
    "papermill": {
     "duration": 5035.327772,
     "end_time": "2022-10-09T08:33:43.032224",
     "exception": false,
     "start_time": "2022-10-09T07:09:47.704452",
     "status": "completed"
    },
    "tags": []
   },
   "outputs": [
    {
     "name": "stderr",
     "output_type": "stream",
     "text": [
      "Downloading: \"https://github.com/rwightman/pytorch-image-models/releases/download/v0.1-weights/efficientnet_b4_ra2_320-7eb33cd5.pth\" to /root/.cache/torch/hub/checkpoints/efficientnet_b4_ra2_320-7eb33cd5.pth\n"
     ]
    },
    {
     "name": "stdout",
     "output_type": "stream",
     "text": [
      "\n",
      "**************************************************\n",
      "\n",
      "Training Fold 1...\n",
      "\n",
      "**************************************************\n",
      "\n",
      "Epoch: 1 | Train Loss: 1.33459 | Valid Loss: 1.19066 | Train Accs: 0.36719 | Valid Accs: 0.49531 | Time: 67.14 seconds\n",
      "Epoch: 2 | Train Loss: 1.05896 | Valid Loss: 0.98504 | Train Accs: 0.50488 | Valid Accs: 0.51094 | Time: 40.45 seconds\n",
      "Epoch: 3 | Train Loss: 0.94786 | Valid Loss: 0.93928 | Train Accs: 0.54004 | Valid Accs: 0.55781 | Time: 40.04 seconds\n",
      "Epoch: 4 | Train Loss: 0.89977 | Valid Loss: 0.86454 | Train Accs: 0.55566 | Valid Accs: 0.59453 | Time: 40.60 seconds\n",
      "Epoch: 5 | Train Loss: 0.87173 | Valid Loss: 0.83200 | Train Accs: 0.57344 | Valid Accs: 0.59609 | Time: 40.08 seconds\n",
      "Epoch: 6 | Train Loss: 0.86742 | Valid Loss: 0.80655 | Train Accs: 0.57168 | Valid Accs: 0.62109 | Time: 39.96 seconds\n",
      "Epoch: 7 | Train Loss: 0.82675 | Valid Loss: 0.79253 | Train Accs: 0.60273 | Valid Accs: 0.64062 | Time: 40.43 seconds\n",
      "Epoch: 8 | Train Loss: 0.79853 | Valid Loss: 0.70303 | Train Accs: 0.62422 | Valid Accs: 0.69297 | Time: 40.10 seconds\n",
      "Epoch: 9 | Train Loss: 0.76831 | Valid Loss: 0.77180 | Train Accs: 0.63594 | Valid Accs: 0.61641 | Time: 38.58 seconds\n",
      "Epoch: 10 | Train Loss: 0.73045 | Valid Loss: 0.68825 | Train Accs: 0.66016 | Valid Accs: 0.70625 | Time: 40.40 seconds\n",
      "Epoch: 11 | Train Loss: 0.68476 | Valid Loss: 0.60983 | Train Accs: 0.68594 | Valid Accs: 0.72656 | Time: 39.95 seconds\n",
      "Epoch: 12 | Train Loss: 0.62727 | Valid Loss: 0.51591 | Train Accs: 0.72207 | Valid Accs: 0.78750 | Time: 40.43 seconds\n",
      "Epoch: 13 | Train Loss: 0.58989 | Valid Loss: 0.47338 | Train Accs: 0.73828 | Valid Accs: 0.79531 | Time: 41.18 seconds\n",
      "Epoch: 14 | Train Loss: 0.51457 | Valid Loss: 0.43471 | Train Accs: 0.77598 | Valid Accs: 0.81875 | Time: 40.34 seconds\n",
      "Epoch: 15 | Train Loss: 0.47557 | Valid Loss: 0.36594 | Train Accs: 0.79922 | Valid Accs: 0.85781 | Time: 41.97 seconds\n",
      "Epoch: 16 | Train Loss: 0.41562 | Valid Loss: 0.31935 | Train Accs: 0.82539 | Valid Accs: 0.88047 | Time: 41.63 seconds\n",
      "Epoch: 17 | Train Loss: 0.37540 | Valid Loss: 0.25389 | Train Accs: 0.84277 | Valid Accs: 0.89844 | Time: 41.04 seconds\n",
      "Epoch: 18 | Train Loss: 0.34669 | Valid Loss: 0.22187 | Train Accs: 0.85840 | Valid Accs: 0.91250 | Time: 40.38 seconds\n",
      "Epoch: 19 | Train Loss: 0.30536 | Valid Loss: 0.21128 | Train Accs: 0.87695 | Valid Accs: 0.91328 | Time: 40.10 seconds\n",
      "Epoch: 20 | Train Loss: 0.26047 | Valid Loss: 0.16725 | Train Accs: 0.89238 | Valid Accs: 0.93437 | Time: 40.44 seconds\n",
      "Epoch: 21 | Train Loss: 0.25617 | Valid Loss: 0.16584 | Train Accs: 0.89668 | Valid Accs: 0.94141 | Time: 41.41 seconds\n",
      "Epoch: 22 | Train Loss: 0.23843 | Valid Loss: 0.15460 | Train Accs: 0.90508 | Valid Accs: 0.94063 | Time: 41.97 seconds\n",
      "Epoch: 23 | Train Loss: 0.23683 | Valid Loss: 0.14517 | Train Accs: 0.90371 | Valid Accs: 0.94297 | Time: 40.83 seconds\n",
      "Epoch: 24 | Train Loss: 0.23286 | Valid Loss: 0.14613 | Train Accs: 0.91230 | Valid Accs: 0.94531 | Time: 39.66 seconds\n",
      "Epoch: 25 | Train Loss: 0.21444 | Valid Loss: 0.14732 | Train Accs: 0.91387 | Valid Accs: 0.94375 | Time: 38.53 seconds\n",
      "\n",
      "**************************************************\n",
      "\n",
      "Best Validation Loss at Epoch 23\n",
      "\n",
      "**************************************************\n",
      "\n",
      "Best Validation Accs at Epoch 24\n",
      "\n",
      "**************************************************\n",
      "\n",
      "Time Taken [25 Epochs] : 17.29 minutes\n",
      "\n",
      "**************************************************\n",
      "\n"
     ]
    },
    {
     "data": {
      "image/png": "[encoded data removed]",
      "text/plain": [
       "<Figure size 432x288 with 1 Axes>"
      ]
     },
     "metadata": {
      "needs_background": "light"
     },
     "output_type": "display_data"
    },
    {
     "name": "stdout",
     "output_type": "stream",
     "text": [
      "\n",
      "**************************************************\n",
      "\n"
     ]
    },
    {
     "data": {
      "image/png": "[encoded data removed]",
      "text/plain": [
       "<Figure size 432x288 with 1 Axes>"
      ]
     },
     "metadata": {
      "needs_background": "light"
     },
     "output_type": "display_data"
    },
    {
     "name": "stdout",
     "output_type": "stream",
     "text": [
      "\n",
      "**************************************************\n",
      "\n"
     ]
    },
    {
     "data": {
      "image/png": "[encoded data removed]",
      "text/plain": [
       "<Figure size 576x432 with 1 Axes>"
      ]
     },
     "metadata": {
      "needs_background": "light"
     },
     "output_type": "display_data"
    },
    {
     "name": "stdout",
     "output_type": "stream",
     "text": [
      "\n",
      "**************************************************\n",
      "\n",
      "\n",
      "**************************************************\n",
      "\n",
      "Training Fold 2...\n",
      "\n",
      "**************************************************\n",
      "\n",
      "Epoch: 1 | Train Loss: 1.33697 | Valid Loss: 1.18857 | Train Accs: 0.35273 | Valid Accs: 0.49766 | Time: 39.98 seconds\n",
      "Epoch: 2 | Train Loss: 1.05959 | Valid Loss: 0.98309 | Train Accs: 0.50039 | Valid Accs: 0.53438 | Time: 40.23 seconds\n",
      "Epoch: 3 | Train Loss: 0.94063 | Valid Loss: 0.93747 | Train Accs: 0.54219 | Valid Accs: 0.53203 | Time: 39.64 seconds\n",
      "Epoch: 4 | Train Loss: 0.89861 | Valid Loss: 0.88269 | Train Accs: 0.55117 | Valid Accs: 0.59531 | Time: 40.58 seconds\n",
      "Epoch: 5 | Train Loss: 0.86656 | Valid Loss: 0.86423 | Train Accs: 0.58164 | Valid Accs: 0.59688 | Time: 40.44 seconds\n",
      "Epoch: 6 | Train Loss: 0.84349 | Valid Loss: 0.88979 | Train Accs: 0.59590 | Valid Accs: 0.55625 | Time: 38.61 seconds\n",
      "Epoch: 7 | Train Loss: 0.80823 | Valid Loss: 0.74859 | Train Accs: 0.61309 | Valid Accs: 0.65703 | Time: 40.36 seconds\n",
      "Epoch: 8 | Train Loss: 0.77060 | Valid Loss: 0.74913 | Train Accs: 0.63750 | Valid Accs: 0.66797 | Time: 39.40 seconds\n",
      "Epoch: 9 | Train Loss: 0.74252 | Valid Loss: 0.80986 | Train Accs: 0.65723 | Valid Accs: 0.62344 | Time: 38.59 seconds\n",
      "Epoch: 10 | Train Loss: 0.71452 | Valid Loss: 0.58787 | Train Accs: 0.67734 | Valid Accs: 0.75313 | Time: 40.03 seconds\n",
      "Epoch: 11 | Train Loss: 0.66100 | Valid Loss: 0.62122 | Train Accs: 0.70059 | Valid Accs: 0.73672 | Time: 38.19 seconds\n",
      "Epoch: 12 | Train Loss: 0.59925 | Valid Loss: 0.52994 | Train Accs: 0.73457 | Valid Accs: 0.77187 | Time: 40.31 seconds\n",
      "Epoch: 13 | Train Loss: 0.53287 | Valid Loss: 0.44632 | Train Accs: 0.76992 | Valid Accs: 0.81406 | Time: 40.47 seconds\n",
      "Epoch: 14 | Train Loss: 0.48633 | Valid Loss: 0.41887 | Train Accs: 0.79355 | Valid Accs: 0.84375 | Time: 40.13 seconds\n",
      "Epoch: 15 | Train Loss: 0.43502 | Valid Loss: 0.29888 | Train Accs: 0.81777 | Valid Accs: 0.88047 | Time: 40.19 seconds\n",
      "Epoch: 16 | Train Loss: 0.38994 | Valid Loss: 0.25859 | Train Accs: 0.83633 | Valid Accs: 0.90156 | Time: 40.56 seconds\n",
      "Epoch: 17 | Train Loss: 0.35925 | Valid Loss: 0.24612 | Train Accs: 0.85059 | Valid Accs: 0.89766 | Time: 39.43 seconds\n",
      "Epoch: 18 | Train Loss: 0.32442 | Valid Loss: 0.18271 | Train Accs: 0.86895 | Valid Accs: 0.92891 | Time: 40.24 seconds\n",
      "Epoch: 19 | Train Loss: 0.26583 | Valid Loss: 0.17162 | Train Accs: 0.89316 | Valid Accs: 0.93828 | Time: 40.68 seconds\n",
      "Epoch: 20 | Train Loss: 0.24118 | Valid Loss: 0.16726 | Train Accs: 0.89961 | Valid Accs: 0.94453 | Time: 40.68 seconds\n",
      "Epoch: 21 | Train Loss: 0.22323 | Valid Loss: 0.14428 | Train Accs: 0.90938 | Valid Accs: 0.95234 | Time: 40.77 seconds\n",
      "Epoch: 22 | Train Loss: 0.21260 | Valid Loss: 0.14030 | Train Accs: 0.91660 | Valid Accs: 0.95469 | Time: 40.46 seconds\n",
      "Epoch: 23 | Train Loss: 0.22139 | Valid Loss: 0.13184 | Train Accs: 0.91133 | Valid Accs: 0.95469 | Time: 39.69 seconds\n",
      "Epoch: 24 | Train Loss: 0.20297 | Valid Loss: 0.13691 | Train Accs: 0.92012 | Valid Accs: 0.95625 | Time: 38.83 seconds\n",
      "Epoch: 25 | Train Loss: 0.20654 | Valid Loss: 0.13518 | Train Accs: 0.92070 | Valid Accs: 0.95547 | Time: 38.39 seconds\n",
      "\n",
      "**************************************************\n",
      "\n",
      "Best Validation Loss at Epoch 23\n",
      "\n",
      "**************************************************\n",
      "\n",
      "Best Validation Accs at Epoch 24\n",
      "\n",
      "**************************************************\n",
      "\n",
      "Time Taken [25 Epochs] : 16.61 minutes\n",
      "\n",
      "**************************************************\n",
      "\n"
     ]
    },
    {
     "data": {
      "image/png": "[encoded data removed]",
      "text/plain": [
       "<Figure size 432x288 with 1 Axes>"
      ]
     },
     "metadata": {
      "needs_background": "light"
     },
     "output_type": "display_data"
    },
    {
     "name": "stdout",
     "output_type": "stream",
     "text": [
      "\n",
      "**************************************************\n",
      "\n"
     ]
    },
    {
     "data": {
      "image/png": "[encoded data removed]",
      "text/plain": [
       "<Figure size 432x288 with 1 Axes>"
      ]
     },
     "metadata": {
      "needs_background": "light"
     },
     "output_type": "display_data"
    },
    {
     "name": "stdout",
     "output_type": "stream",
     "text": [
      "\n",
      "**************************************************\n",
      "\n"
     ]
    },
    {
     "data": {
      "image/png": "[encoded data removed]",
      "text/plain": [
       "<Figure size 576x432 with 1 Axes>"
      ]
     },
     "metadata": {
      "needs_background": "light"
     },
     "output_type": "display_data"
    },
    {
     "name": "stdout",
     "output_type": "stream",
     "text": [
      "\n",
      "**************************************************\n",
      "\n",
      "\n",
      "**************************************************\n",
      "\n",
      "Training Fold 3...\n",
      "\n",
      "**************************************************\n",
      "\n",
      "Epoch: 1 | Train Loss: 1.33527 | Valid Loss: 1.19302 | Train Accs: 0.35742 | Valid Accs: 0.46172 | Time: 39.70 seconds\n",
      "Epoch: 2 | Train Loss: 1.05560 | Valid Loss: 0.97248 | Train Accs: 0.49727 | Valid Accs: 0.54766 | Time: 40.67 seconds\n",
      "Epoch: 3 | Train Loss: 0.94520 | Valid Loss: 0.89754 | Train Accs: 0.54766 | Valid Accs: 0.53594 | Time: 39.26 seconds\n",
      "Epoch: 4 | Train Loss: 0.90921 | Valid Loss: 1.04854 | Train Accs: 0.55586 | Valid Accs: 0.55625 | Time: 38.76 seconds\n",
      "Epoch: 5 | Train Loss: 0.87915 | Valid Loss: 0.84051 | Train Accs: 0.56855 | Valid Accs: 0.57656 | Time: 40.03 seconds\n",
      "Epoch: 6 | Train Loss: 0.86576 | Valid Loss: 0.88725 | Train Accs: 0.56758 | Valid Accs: 0.54609 | Time: 38.39 seconds\n",
      "Epoch: 7 | Train Loss: 0.82649 | Valid Loss: 0.79092 | Train Accs: 0.59199 | Valid Accs: 0.64062 | Time: 39.67 seconds\n",
      "Epoch: 8 | Train Loss: 0.85895 | Valid Loss: 0.73607 | Train Accs: 0.59160 | Valid Accs: 0.65312 | Time: 40.06 seconds\n",
      "Epoch: 9 | Train Loss: 0.79474 | Valid Loss: 0.72448 | Train Accs: 0.61367 | Valid Accs: 0.67500 | Time: 39.99 seconds\n",
      "Epoch: 10 | Train Loss: 0.76247 | Valid Loss: 0.66974 | Train Accs: 0.64434 | Valid Accs: 0.69219 | Time: 40.18 seconds\n",
      "Epoch: 11 | Train Loss: 0.72592 | Valid Loss: 0.58142 | Train Accs: 0.66738 | Valid Accs: 0.74219 | Time: 39.86 seconds\n",
      "Epoch: 12 | Train Loss: 0.69320 | Valid Loss: 0.63664 | Train Accs: 0.67852 | Valid Accs: 0.72891 | Time: 38.28 seconds\n",
      "Epoch: 13 | Train Loss: 0.66147 | Valid Loss: 0.50286 | Train Accs: 0.70254 | Valid Accs: 0.78203 | Time: 40.15 seconds\n",
      "Epoch: 14 | Train Loss: 0.61247 | Valid Loss: 0.52013 | Train Accs: 0.73262 | Valid Accs: 0.79141 | Time: 38.89 seconds\n",
      "Epoch: 15 | Train Loss: 0.58834 | Valid Loss: 0.47928 | Train Accs: 0.74004 | Valid Accs: 0.81094 | Time: 39.69 seconds\n",
      "Epoch: 16 | Train Loss: 0.54414 | Valid Loss: 0.40285 | Train Accs: 0.75820 | Valid Accs: 0.83047 | Time: 39.83 seconds\n",
      "Epoch: 17 | Train Loss: 0.50659 | Valid Loss: 0.35098 | Train Accs: 0.78516 | Valid Accs: 0.85781 | Time: 40.07 seconds\n",
      "Epoch: 18 | Train Loss: 0.48478 | Valid Loss: 0.32761 | Train Accs: 0.79043 | Valid Accs: 0.87031 | Time: 40.10 seconds\n",
      "Epoch: 19 | Train Loss: 0.42971 | Valid Loss: 0.28503 | Train Accs: 0.81660 | Valid Accs: 0.88984 | Time: 39.88 seconds\n",
      "Epoch: 20 | Train Loss: 0.42975 | Valid Loss: 0.26194 | Train Accs: 0.81914 | Valid Accs: 0.89609 | Time: 40.17 seconds\n",
      "Epoch: 21 | Train Loss: 0.39580 | Valid Loss: 0.24452 | Train Accs: 0.83320 | Valid Accs: 0.90938 | Time: 40.92 seconds\n",
      "Epoch: 22 | Train Loss: 0.37733 | Valid Loss: 0.25054 | Train Accs: 0.84551 | Valid Accs: 0.90859 | Time: 38.42 seconds\n",
      "Epoch: 23 | Train Loss: 0.36661 | Valid Loss: 0.22828 | Train Accs: 0.84902 | Valid Accs: 0.91484 | Time: 39.65 seconds\n",
      "Epoch: 24 | Train Loss: 0.36572 | Valid Loss: 0.23534 | Train Accs: 0.84141 | Valid Accs: 0.91250 | Time: 37.84 seconds\n",
      "Epoch: 25 | Train Loss: 0.35861 | Valid Loss: 0.23528 | Train Accs: 0.85137 | Valid Accs: 0.91016 | Time: 38.10 seconds\n",
      "\n",
      "**************************************************\n",
      "\n",
      "Best Validation Loss at Epoch 23\n",
      "\n",
      "**************************************************\n",
      "\n",
      "Best Validation Accs at Epoch 23\n",
      "\n",
      "**************************************************\n",
      "\n",
      "Time Taken [25 Epochs] : 16.48 minutes\n",
      "\n",
      "**************************************************\n",
      "\n"
     ]
    },
    {
     "data": {
      "image/png": "[encoded data removed]",
      "text/plain": [
       "<Figure size 432x288 with 1 Axes>"
      ]
     },
     "metadata": {
      "needs_background": "light"
     },
     "output_type": "display_data"
    },
    {
     "name": "stdout",
     "output_type": "stream",
     "text": [
      "\n",
      "**************************************************\n",
      "\n"
     ]
    },
    {
     "data": {
      "image/png": "[encoded data removed]",
      "text/plain": [
       "<Figure size 432x288 with 1 Axes>"
      ]
     },
     "metadata": {
      "needs_background": "light"
     },
     "output_type": "display_data"
    },
    {
     "name": "stdout",
     "output_type": "stream",
     "text": [
      "\n",
      "**************************************************\n",
      "\n"
     ]
    },
    {
     "data": {
      "image/png": "[encoded data removed]",
      "text/plain": [
       "<Figure size 576x432 with 1 Axes>"
      ]
     },
     "metadata": {
      "needs_background": "light"
     },
     "output_type": "display_data"
    },
    {
     "name": "stdout",
     "output_type": "stream",
     "text": [
      "\n",
      "**************************************************\n",
      "\n",
      "\n",
      "**************************************************\n",
      "\n",
      "Training Fold 4...\n",
      "\n",
      "**************************************************\n",
      "\n",
      "Epoch: 1 | Train Loss: 1.33581 | Valid Loss: 1.19690 | Train Accs: 0.36016 | Valid Accs: 0.48125 | Time: 39.88 seconds\n",
      "Epoch: 2 | Train Loss: 1.05437 | Valid Loss: 0.98233 | Train Accs: 0.50977 | Valid Accs: 0.53906 | Time: 40.40 seconds\n",
      "Epoch: 3 | Train Loss: 0.94624 | Valid Loss: 0.94238 | Train Accs: 0.53672 | Valid Accs: 0.53516 | Time: 39.58 seconds\n",
      "Epoch: 4 | Train Loss: 0.91505 | Valid Loss: 0.88207 | Train Accs: 0.55566 | Valid Accs: 0.58047 | Time: 40.16 seconds\n",
      "Epoch: 5 | Train Loss: 0.89442 | Valid Loss: 0.84668 | Train Accs: 0.56445 | Valid Accs: 0.60547 | Time: 39.90 seconds\n",
      "Epoch: 6 | Train Loss: 0.88065 | Valid Loss: 0.83681 | Train Accs: 0.56621 | Valid Accs: 0.58047 | Time: 41.26 seconds\n",
      "Epoch: 7 | Train Loss: 0.84573 | Valid Loss: 0.77372 | Train Accs: 0.58457 | Valid Accs: 0.63594 | Time: 39.96 seconds\n",
      "Epoch: 8 | Train Loss: 0.82501 | Valid Loss: 0.74535 | Train Accs: 0.60332 | Valid Accs: 0.64766 | Time: 40.35 seconds\n",
      "Epoch: 9 | Train Loss: 0.79820 | Valid Loss: 0.73344 | Train Accs: 0.60898 | Valid Accs: 0.64844 | Time: 40.04 seconds\n",
      "Epoch: 10 | Train Loss: 0.77746 | Valid Loss: 0.69116 | Train Accs: 0.63984 | Valid Accs: 0.69453 | Time: 39.99 seconds\n",
      "Epoch: 11 | Train Loss: 0.75017 | Valid Loss: 0.67566 | Train Accs: 0.63926 | Valid Accs: 0.69922 | Time: 39.63 seconds\n",
      "Epoch: 12 | Train Loss: 0.72245 | Valid Loss: 0.63568 | Train Accs: 0.65762 | Valid Accs: 0.71641 | Time: 40.07 seconds\n",
      "Epoch: 13 | Train Loss: 0.68074 | Valid Loss: 0.62578 | Train Accs: 0.68945 | Valid Accs: 0.73438 | Time: 39.91 seconds\n",
      "Epoch: 14 | Train Loss: 0.65226 | Valid Loss: 0.57472 | Train Accs: 0.70195 | Valid Accs: 0.77031 | Time: 39.68 seconds\n",
      "Epoch: 15 | Train Loss: 0.61741 | Valid Loss: 0.51540 | Train Accs: 0.72207 | Valid Accs: 0.77578 | Time: 40.37 seconds\n",
      "Epoch: 16 | Train Loss: 0.56987 | Valid Loss: 0.44952 | Train Accs: 0.74082 | Valid Accs: 0.80859 | Time: 39.90 seconds\n",
      "Epoch: 17 | Train Loss: 0.53727 | Valid Loss: 0.47172 | Train Accs: 0.76875 | Valid Accs: 0.81172 | Time: 38.77 seconds\n",
      "Epoch: 18 | Train Loss: 0.50694 | Valid Loss: 0.44696 | Train Accs: 0.78105 | Valid Accs: 0.81875 | Time: 39.79 seconds\n",
      "Epoch: 19 | Train Loss: 0.45840 | Valid Loss: 0.40381 | Train Accs: 0.80625 | Valid Accs: 0.83125 | Time: 40.02 seconds\n",
      "Epoch: 20 | Train Loss: 0.46144 | Valid Loss: 0.38539 | Train Accs: 0.80176 | Valid Accs: 0.84297 | Time: 39.94 seconds\n",
      "Epoch: 21 | Train Loss: 0.41629 | Valid Loss: 0.37612 | Train Accs: 0.82246 | Valid Accs: 0.85469 | Time: 40.04 seconds\n",
      "Epoch: 22 | Train Loss: 0.41057 | Valid Loss: 0.36205 | Train Accs: 0.82695 | Valid Accs: 0.86094 | Time: 40.20 seconds\n",
      "Epoch: 23 | Train Loss: 0.40490 | Valid Loss: 0.34586 | Train Accs: 0.82812 | Valid Accs: 0.86641 | Time: 40.10 seconds\n",
      "Epoch: 24 | Train Loss: 0.38785 | Valid Loss: 0.35229 | Train Accs: 0.83750 | Valid Accs: 0.86953 | Time: 38.67 seconds\n",
      "Epoch: 25 | Train Loss: 0.39416 | Valid Loss: 0.37310 | Train Accs: 0.83887 | Valid Accs: 0.86406 | Time: 38.18 seconds\n",
      "\n",
      "**************************************************\n",
      "\n",
      "Best Validation Loss at Epoch 23\n",
      "\n",
      "**************************************************\n",
      "\n",
      "Best Validation Accs at Epoch 24\n",
      "\n",
      "**************************************************\n",
      "\n",
      "Time Taken [25 Epochs] : 16.61 minutes\n",
      "\n",
      "**************************************************\n",
      "\n"
     ]
    },
    {
     "data": {
      "image/png": "[encoded data removed]",
      "text/plain": [
       "<Figure size 432x288 with 1 Axes>"
      ]
     },
     "metadata": {
      "needs_background": "light"
     },
     "output_type": "display_data"
    },
    {
     "name": "stdout",
     "output_type": "stream",
     "text": [
      "\n",
      "**************************************************\n",
      "\n"
     ]
    },
    {
     "data": {
      "image/png": "[encoded data removed]",
      "text/plain": [
       "<Figure size 432x288 with 1 Axes>"
      ]
     },
     "metadata": {
      "needs_background": "light"
     },
     "output_type": "display_data"
    },
    {
     "name": "stdout",
     "output_type": "stream",
     "text": [
      "\n",
      "**************************************************\n",
      "\n"
     ]
    },
    {
     "data": {
      "image/png": "[encoded data removed]",
      "text/plain": [
       "<Figure size 576x432 with 1 Axes>"
      ]
     },
     "metadata": {
      "needs_background": "light"
     },
     "output_type": "display_data"
    },
    {
     "name": "stdout",
     "output_type": "stream",
     "text": [
      "\n",
      "**************************************************\n",
      "\n",
      "\n",
      "**************************************************\n",
      "\n",
      "Training Fold 5...\n",
      "\n",
      "**************************************************\n",
      "\n",
      "Epoch: 1 | Train Loss: 1.33527 | Valid Loss: 1.19743 | Train Accs: 0.35781 | Valid Accs: 0.46953 | Time: 40.03 seconds\n",
      "Epoch: 2 | Train Loss: 1.05541 | Valid Loss: 0.98040 | Train Accs: 0.50273 | Valid Accs: 0.51250 | Time: 40.43 seconds\n",
      "Epoch: 3 | Train Loss: 0.94620 | Valid Loss: 0.94377 | Train Accs: 0.54688 | Valid Accs: 0.52812 | Time: 40.04 seconds\n",
      "Epoch: 4 | Train Loss: 0.90953 | Valid Loss: 0.90103 | Train Accs: 0.54883 | Valid Accs: 0.57969 | Time: 40.63 seconds\n",
      "Epoch: 5 | Train Loss: 0.88774 | Valid Loss: 0.82879 | Train Accs: 0.56738 | Valid Accs: 0.60938 | Time: 40.64 seconds\n",
      "Epoch: 6 | Train Loss: 0.85962 | Valid Loss: 0.80872 | Train Accs: 0.56719 | Valid Accs: 0.61406 | Time: 40.07 seconds\n",
      "Epoch: 7 | Train Loss: 0.82866 | Valid Loss: 0.75153 | Train Accs: 0.59590 | Valid Accs: 0.62578 | Time: 39.92 seconds\n",
      "Epoch: 8 | Train Loss: 0.81045 | Valid Loss: 0.71385 | Train Accs: 0.61543 | Valid Accs: 0.68594 | Time: 40.64 seconds\n",
      "Epoch: 9 | Train Loss: 0.76578 | Valid Loss: 0.65850 | Train Accs: 0.64199 | Valid Accs: 0.72344 | Time: 40.49 seconds\n",
      "Epoch: 10 | Train Loss: 0.74739 | Valid Loss: 0.63787 | Train Accs: 0.65547 | Valid Accs: 0.70937 | Time: 39.98 seconds\n",
      "Epoch: 11 | Train Loss: 0.69261 | Valid Loss: 0.67734 | Train Accs: 0.68242 | Valid Accs: 0.69688 | Time: 38.09 seconds\n",
      "Epoch: 12 | Train Loss: 0.64991 | Valid Loss: 0.50553 | Train Accs: 0.71074 | Valid Accs: 0.79453 | Time: 39.75 seconds\n",
      "Epoch: 13 | Train Loss: 0.59980 | Valid Loss: 0.56910 | Train Accs: 0.73965 | Valid Accs: 0.77422 | Time: 38.23 seconds\n",
      "Epoch: 14 | Train Loss: 0.55378 | Valid Loss: 0.41325 | Train Accs: 0.75879 | Valid Accs: 0.83828 | Time: 40.04 seconds\n",
      "Epoch: 15 | Train Loss: 0.49545 | Valid Loss: 0.38712 | Train Accs: 0.78789 | Valid Accs: 0.84453 | Time: 40.23 seconds\n",
      "Epoch: 16 | Train Loss: 0.46026 | Valid Loss: 0.30600 | Train Accs: 0.80664 | Valid Accs: 0.88125 | Time: 40.12 seconds\n",
      "Epoch: 17 | Train Loss: 0.40572 | Valid Loss: 0.25926 | Train Accs: 0.83730 | Valid Accs: 0.90078 | Time: 40.15 seconds\n",
      "Epoch: 18 | Train Loss: 0.36851 | Valid Loss: 0.23933 | Train Accs: 0.84609 | Valid Accs: 0.90703 | Time: 40.20 seconds\n",
      "Epoch: 19 | Train Loss: 0.32535 | Valid Loss: 0.20172 | Train Accs: 0.86953 | Valid Accs: 0.91563 | Time: 40.09 seconds\n",
      "Epoch: 20 | Train Loss: 0.30488 | Valid Loss: 0.17290 | Train Accs: 0.87617 | Valid Accs: 0.93828 | Time: 40.12 seconds\n",
      "Epoch: 21 | Train Loss: 0.27557 | Valid Loss: 0.16544 | Train Accs: 0.88730 | Valid Accs: 0.93906 | Time: 40.44 seconds\n",
      "Epoch: 22 | Train Loss: 0.26648 | Valid Loss: 0.16781 | Train Accs: 0.88984 | Valid Accs: 0.94141 | Time: 39.11 seconds\n",
      "Epoch: 23 | Train Loss: 0.26503 | Valid Loss: 0.16223 | Train Accs: 0.89375 | Valid Accs: 0.93906 | Time: 39.40 seconds\n",
      "Epoch: 24 | Train Loss: 0.25930 | Valid Loss: 0.16436 | Train Accs: 0.89668 | Valid Accs: 0.94141 | Time: 38.81 seconds\n",
      "Epoch: 25 | Train Loss: 0.25059 | Valid Loss: 0.16754 | Train Accs: 0.89727 | Valid Accs: 0.94375 | Time: 39.30 seconds\n",
      "\n",
      "**************************************************\n",
      "\n",
      "Best Validation Loss at Epoch 23\n",
      "\n",
      "**************************************************\n",
      "\n",
      "Best Validation Accs at Epoch 25\n",
      "\n",
      "**************************************************\n",
      "\n",
      "Time Taken [25 Epochs] : 16.62 minutes\n",
      "\n",
      "**************************************************\n",
      "\n"
     ]
    },
    {
     "data": {
      "image/png": "[encoded data removed]",
      "text/plain": [
       "<Figure size 432x288 with 1 Axes>"
      ]
     },
     "metadata": {
      "needs_background": "light"
     },
     "output_type": "display_data"
    },
    {
     "name": "stdout",
     "output_type": "stream",
     "text": [
      "\n",
      "**************************************************\n",
      "\n"
     ]
    },
    {
     "data": {
      "image/png": "[encoded data removed]",
      "text/plain": [
       "<Figure size 432x288 with 1 Axes>"
      ]
     },
     "metadata": {
      "needs_background": "light"
     },
     "output_type": "display_data"
    },
    {
     "name": "stdout",
     "output_type": "stream",
     "text": [
      "\n",
      "**************************************************\n",
      "\n"
     ]
    },
    {
     "data": {
      "image/png": "[encoded data removed]",
      "text/plain": [
       "<Figure size 576x432 with 1 Axes>"
      ]
     },
     "metadata": {
      "needs_background": "light"
     },
     "output_type": "display_data"
    },
    {
     "name": "stdout",
     "output_type": "stream",
     "text": [
      "\n",
      "**************************************************\n",
      "\n"
     ]
    }
   ],
   "source": [
    "fold: int = 1\n",
    "BLs: list = []\n",
    "BAs: list = []\n",
    "    \n",
    "cfg.batch_size = 64\n",
    "    \n",
    "for tr_idx, va_idx in StratifiedKFold(n_splits=cfg.n_splits, random_state=cfg.seed, shuffle=True).split(filepaths, labels):\n",
    "        \n",
    "    tr_filepaths, va_filepaths = filepaths[tr_idx], filepaths[va_idx] \n",
    "    tr_labels, va_labels       = labels[tr_idx], labels[va_idx]\n",
    "\n",
    "    tr_data_setup = DS(\n",
    "        filepaths=tr_filepaths, \n",
    "        labels=tr_labels.reshape(-1, 1),\n",
    "        size=cfg.size,\n",
    "        transform=cfg.train_transform)\n",
    "\n",
    "    va_data_setup = DS(\n",
    "        filepaths=va_filepaths, \n",
    "        labels=va_labels.reshape(-1, 1),\n",
    "        size=cfg.size,\n",
    "        transform=cfg.valid_transform)\n",
    "\n",
    "    dataloaders = {\n",
    "        \"train\" : DL(tr_data_setup, batch_size=cfg.batch_size, shuffle=True, generator=torch.manual_seed(cfg.seed)),\n",
    "        \"valid\" : DL(va_data_setup, batch_size=cfg.batch_size, shuffle=False),\n",
    "    }\n",
    "\n",
    "    cfg.steps_per_epoch=len(dataloaders[\"train\"])\n",
    "\n",
    "    torch.manual_seed(cfg.seed)\n",
    "    model = Model().to(cfg.device)\n",
    "\n",
    "    optimizer = optim.Adam([p for p in model.parameters() if p.requires_grad], lr=cfg.lr, weight_decay=cfg.wd)\n",
    "    # optimizer = optim.AdamW([p for p in model.parameters() if p.requires_grad], lr=cfg.lr, weight_decay=cfg.wd)\n",
    "    # optimizer = optim.SGD([p for p in model.parameters() if p.requires_grad], lr=cfg.lr, weight_decay=cfg.wd, momentum=0.9)\n",
    "\n",
    "    scheduler_oclr = optim.lr_scheduler.OneCycleLR(\n",
    "        optimizer=optimizer, \n",
    "        max_lr=cfg.max_lr, \n",
    "        epochs=cfg.epochs, \n",
    "        steps_per_epoch=cfg.steps_per_epoch,\n",
    "        pct_start=cfg.pct_start, \n",
    "        div_factor=cfg.div_factor, \n",
    "        final_div_factor=cfg.final_div_factor\n",
    "    )\n",
    "\n",
    "    # scheduler_rlrop = optim.lr_scheduler.ReduceLROnPlateau(\n",
    "    #     optimizer=optimizer,\n",
    "    #     patience=cfg.patience,\n",
    "    #     eps=cfg.eps,\n",
    "    #     verbose=True\n",
    "    # )\n",
    "\n",
    "    # scheduler_oclr = None\n",
    "    scheduler_rlrop = None\n",
    "\n",
    "    L, A, LR, BL, BA, _, _, _, _ = fit(\n",
    "        model=model, \n",
    "        optimizer=optimizer, \n",
    "        scheduler_oclr=scheduler_oclr,\n",
    "        scheduler_rlrop=scheduler_rlrop,\n",
    "        epochs=cfg.epochs, \n",
    "        early_stopping_patience=cfg.early_stopping, \n",
    "        dataloaders=dataloaders, \n",
    "        device=cfg.device,\n",
    "        save_path=cfg.save_path,\n",
    "        fold=fold,\n",
    "        verbose=True\n",
    "    )\n",
    "\n",
    "    breaker()\n",
    "    show_loss_graphs(L)\n",
    "    breaker()\n",
    "    show_accuracy_graphs(A)\n",
    "    breaker()\n",
    "    if scheduler_oclr:\n",
    "        show_lr_graph(LR)\n",
    "        breaker()\n",
    "\n",
    "    BLs.append(BL)\n",
    "    BAs.append(BA)\n",
    "    \n",
    "    fold += 1"
   ]
  },
  {
   "cell_type": "markdown",
   "id": "b511f886",
   "metadata": {
    "papermill": {
     "duration": 0.014868,
     "end_time": "2022-10-09T08:33:43.062346",
     "exception": false,
     "start_time": "2022-10-09T08:33:43.047478",
     "status": "completed"
    },
    "tags": []
   },
   "source": [
    "### **Best Model**"
   ]
  },
  {
   "cell_type": "code",
   "execution_count": 10,
   "id": "37815e88",
   "metadata": {
    "execution": {
     "iopub.execute_input": "2022-10-09T08:33:43.148484Z",
     "iopub.status.busy": "2022-10-09T08:33:43.147492Z",
     "iopub.status.idle": "2022-10-09T08:33:43.155408Z",
     "shell.execute_reply": "2022-10-09T08:33:43.154427Z"
    },
    "papermill": {
     "duration": 0.025484,
     "end_time": "2022-10-09T08:33:43.157446",
     "exception": false,
     "start_time": "2022-10-09T08:33:43.131962",
     "status": "completed"
    },
    "tags": []
   },
   "outputs": [
    {
     "name": "stdout",
     "output_type": "stream",
     "text": [
      "\n",
      "**************************************************\n",
      "\n",
      "Best Loss Model Fold     : 2\n",
      "Best Accuracy Model Fold : 2\n",
      "\n",
      "**************************************************\n",
      "\n"
     ]
    }
   ],
   "source": [
    "BL = np.inf\n",
    "for i in range(len(BLs)):\n",
    "    if BLs[i][\"valid\"] < BL:\n",
    "        BL = BLs[i][\"valid\"]\n",
    "        best_loss_index = i\n",
    "\n",
    "        \n",
    "BA = 0.0\n",
    "for i in range(len(BAs)):\n",
    "    if BAs[i][\"valid\"] > BA:\n",
    "        BA = BAs[i][\"valid\"]\n",
    "        best_accs_index = i\n",
    "\n",
    "breaker()\n",
    "print(f\"Best Loss Model Fold     : {best_loss_index + 1}\")\n",
    "print(f\"Best Accuracy Model Fold : {best_accs_index + 1}\")\n",
    "breaker()"
   ]
  }
 ],
 "metadata": {
  "kernelspec": {
   "display_name": "Python 3",
   "language": "python",
   "name": "python3"
  },
  "language_info": {
   "codemirror_mode": {
    "name": "ipython",
    "version": 3
   },
   "file_extension": ".py",
   "mimetype": "text/x-python",
   "name": "python",
   "nbconvert_exporter": "python",
   "pygments_lexer": "ipython3",
   "version": "3.7.12"
  },
  "papermill": {
   "default_parameters": {},
   "duration": 5059.557164,
   "end_time": "2022-10-09T08:33:45.506783",
   "environment_variables": {},
   "exception": null,
   "input_path": "__notebook__.ipynb",
   "output_path": "__notebook__.ipynb",
   "parameters": {},
   "start_time": "2022-10-09T07:09:25.949619",
   "version": "2.3.4"
  }
 },
 "nbformat": 4,
 "nbformat_minor": 5
}
