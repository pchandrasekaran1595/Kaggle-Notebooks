{
 "cells": [
  {
   "cell_type": "code",
   "execution_count": 1,
   "id": "e1702a9f",
   "metadata": {
    "_cell_guid": "b1076dfc-b9ad-4769-8c92-a6c4dae69d19",
    "_uuid": "8f2839f25d086af736a60e9eeb907d3b93b6e0e5",
    "execution": {
     "iopub.execute_input": "2022-10-08T20:01:40.093520Z",
     "iopub.status.busy": "2022-10-08T20:01:40.092976Z",
     "iopub.status.idle": "2022-10-08T20:01:40.100313Z",
     "shell.execute_reply": "2022-10-08T20:01:40.099821Z"
    },
    "papermill": {
     "duration": 0.012356,
     "end_time": "2022-10-08T20:01:40.102026",
     "exception": false,
     "start_time": "2022-10-08T20:01:40.089670",
     "status": "completed"
    },
    "tags": []
   },
   "outputs": [],
   "source": [
    "import os\n",
    "import pandas as pd\n",
    "\n",
    "BASE_PATH: str = \"../input/alzheimer-mri-dataset/Dataset\""
   ]
  },
  {
   "cell_type": "code",
   "execution_count": 2,
   "id": "2391fe06",
   "metadata": {
    "execution": {
     "iopub.execute_input": "2022-10-08T20:01:40.105892Z",
     "iopub.status.busy": "2022-10-08T20:01:40.105510Z",
     "iopub.status.idle": "2022-10-08T20:01:40.739665Z",
     "shell.execute_reply": "2022-10-08T20:01:40.738671Z"
    },
    "papermill": {
     "duration": 0.638119,
     "end_time": "2022-10-08T20:01:40.741685",
     "exception": false,
     "start_time": "2022-10-08T20:01:40.103566",
     "status": "completed"
    },
    "tags": []
   },
   "outputs": [],
   "source": [
    "folders: list = sorted(os.listdir(BASE_PATH))\n",
    "filepaths: list = []\n",
    "labels: list = []\n",
    "\n",
    "i: int = 0\n",
    "for folder in folders:\n",
    "    filepaths += [os.path.join(os.path.join(BASE_PATH, folder), name) for name in os.listdir(os.path.join(BASE_PATH, folder))]\n",
    "    labels += [i] * len(os.listdir(os.path.join(BASE_PATH, folder)))\n",
    "    i += 1"
   ]
  },
  {
   "cell_type": "code",
   "execution_count": 3,
   "id": "59c2fc19",
   "metadata": {
    "execution": {
     "iopub.execute_input": "2022-10-08T20:01:40.745603Z",
     "iopub.status.busy": "2022-10-08T20:01:40.745342Z",
     "iopub.status.idle": "2022-10-08T20:01:40.781877Z",
     "shell.execute_reply": "2022-10-08T20:01:40.780954Z"
    },
    "papermill": {
     "duration": 0.040444,
     "end_time": "2022-10-08T20:01:40.783670",
     "exception": false,
     "start_time": "2022-10-08T20:01:40.743226",
     "status": "completed"
    },
    "tags": []
   },
   "outputs": [],
   "source": [
    "df = pd.DataFrame(data=None, columns=[\"filepaths\", \"labels\"])\n",
    "df.filepaths = filepaths\n",
    "df.labels = labels\n",
    "\n",
    "df.to_csv(\"data.csv\", index=False)"
   ]
  }
 ],
 "metadata": {
  "kernelspec": {
   "display_name": "Python 3",
   "language": "python",
   "name": "python3"
  },
  "language_info": {
   "codemirror_mode": {
    "name": "ipython",
    "version": 3
   },
   "file_extension": ".py",
   "mimetype": "text/x-python",
   "name": "python",
   "nbconvert_exporter": "python",
   "pygments_lexer": "ipython3",
   "version": "3.7.12"
  },
  "papermill": {
   "default_parameters": {},
   "duration": 7.992888,
   "end_time": "2022-10-08T20:01:41.303752",
   "environment_variables": {},
   "exception": null,
   "input_path": "__notebook__.ipynb",
   "output_path": "__notebook__.ipynb",
   "parameters": {},
   "start_time": "2022-10-08T20:01:33.310864",
   "version": "2.3.4"
  }
 },
 "nbformat": 4,
 "nbformat_minor": 5
}
