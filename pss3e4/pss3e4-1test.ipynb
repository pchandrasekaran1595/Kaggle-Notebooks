{
 "cells": [
  {
   "cell_type": "code",
   "execution_count": 1,
   "id": "686d9392",
   "metadata": {
    "_cell_guid": "b1076dfc-b9ad-4769-8c92-a6c4dae69d19",
    "_uuid": "8f2839f25d086af736a60e9eeb907d3b93b6e0e5",
    "execution": {
     "iopub.execute_input": "2023-01-25T07:12:58.478983Z",
     "iopub.status.busy": "2023-01-25T07:12:58.478313Z",
     "iopub.status.idle": "2023-01-25T07:12:58.796107Z",
     "shell.execute_reply": "2023-01-25T07:12:58.794713Z"
    },
    "papermill": {
     "duration": 0.325793,
     "end_time": "2023-01-25T07:12:58.799369",
     "exception": false,
     "start_time": "2023-01-25T07:12:58.473576",
     "status": "completed"
    },
    "tags": []
   },
   "outputs": [],
   "source": [
    "import pandas as pd\n",
    "\n",
    "ss_df = pd.read_csv(\"/kaggle/input/playground-series-s3e4/sample_submission.csv\")\n",
    "ss_df.Class = [1.0] * ss_df.shape[0]\n",
    "ss_df.to_csv(\"submision.csv\", index=False)"
   ]
  }
 ],
 "metadata": {
  "kernelspec": {
   "display_name": "Python 3",
   "language": "python",
   "name": "python3"
  },
  "language_info": {
   "codemirror_mode": {
    "name": "ipython",
    "version": 3
   },
   "file_extension": ".py",
   "mimetype": "text/x-python",
   "name": "python",
   "nbconvert_exporter": "python",
   "pygments_lexer": "ipython3",
   "version": "3.7.12"
  },
  "papermill": {
   "default_parameters": {},
   "duration": 9.644382,
   "end_time": "2023-01-25T07:12:59.424786",
   "environment_variables": {},
   "exception": null,
   "input_path": "__notebook__.ipynb",
   "output_path": "__notebook__.ipynb",
   "parameters": {},
   "start_time": "2023-01-25T07:12:49.780404",
   "version": "2.3.4"
  }
 },
 "nbformat": 4,
 "nbformat_minor": 5
}
