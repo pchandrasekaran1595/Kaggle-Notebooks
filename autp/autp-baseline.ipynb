{
 "cells": [
  {
   "cell_type": "code",
   "execution_count": 1,
   "id": "8fa76633",
   "metadata": {
    "_cell_guid": "b1076dfc-b9ad-4769-8c92-a6c4dae69d19",
    "_uuid": "8f2839f25d086af736a60e9eeb907d3b93b6e0e5",
    "execution": {
     "iopub.execute_input": "2022-05-25T11:26:42.468797Z",
     "iopub.status.busy": "2022-05-25T11:26:42.468464Z",
     "iopub.status.idle": "2022-05-25T11:26:42.479664Z",
     "shell.execute_reply": "2022-05-25T11:26:42.478792Z"
    },
    "papermill": {
     "duration": 0.020994,
     "end_time": "2022-05-25T11:26:42.482142",
     "exception": false,
     "start_time": "2022-05-25T11:26:42.461148",
     "status": "completed"
    },
    "tags": []
   },
   "outputs": [],
   "source": [
    "import os\n",
    "import numpy as np\n",
    "import pandas as pd\n",
    "import matplotlib.pyplot as plt"
   ]
  },
  {
   "cell_type": "code",
   "execution_count": 2,
   "id": "9d0cd882",
   "metadata": {
    "execution": {
     "iopub.execute_input": "2022-05-25T11:26:42.493491Z",
     "iopub.status.busy": "2022-05-25T11:26:42.492963Z",
     "iopub.status.idle": "2022-05-25T11:26:42.496883Z",
     "shell.execute_reply": "2022-05-25T11:26:42.496325Z"
    },
    "papermill": {
     "duration": 0.01166,
     "end_time": "2022-05-25T11:26:42.498851",
     "exception": false,
     "start_time": "2022-05-25T11:26:42.487191",
     "status": "completed"
    },
    "tags": []
   },
   "outputs": [],
   "source": [
    "def breaker(num: int=50, char: str=\"*\") -> None:\n",
    "    pritn(\"\\n\" + num*char + \"\\n\")\n",
    "\n",
    "BASE_PATH = \"../input/autismdiagnosis/Autism_Prediction\""
   ]
  },
  {
   "cell_type": "code",
   "execution_count": 3,
   "id": "d34861ba",
   "metadata": {
    "execution": {
     "iopub.execute_input": "2022-05-25T11:26:42.509936Z",
     "iopub.status.busy": "2022-05-25T11:26:42.509384Z",
     "iopub.status.idle": "2022-05-25T11:26:42.546877Z",
     "shell.execute_reply": "2022-05-25T11:26:42.545990Z"
    },
    "papermill": {
     "duration": 0.045854,
     "end_time": "2022-05-25T11:26:42.549350",
     "exception": false,
     "start_time": "2022-05-25T11:26:42.503496",
     "status": "completed"
    },
    "tags": []
   },
   "outputs": [],
   "source": [
    "ts_df = pd.read_csv(os.path.join(BASE_PATH, \"test.csv\"))\n",
    "ss_df = pd.read_csv(os.path.join(BASE_PATH, \"sample_submission.csv\"))\n",
    "\n",
    "class_ = ts_df[\"austim\"]\n",
    "class_ = class_.map({\"no\" : 0, \"yes\" : 1})\n",
    "ss_df[\"Class/ASD\"] = class_\n",
    "ss_df.to_csv(\"submission.csv\", index=False)"
   ]
  }
 ],
 "metadata": {
  "kernelspec": {
   "display_name": "Python 3",
   "language": "python",
   "name": "python3"
  },
  "language_info": {
   "codemirror_mode": {
    "name": "ipython",
    "version": 3
   },
   "file_extension": ".py",
   "mimetype": "text/x-python",
   "name": "python",
   "nbconvert_exporter": "python",
   "pygments_lexer": "ipython3",
   "version": "3.7.12"
  },
  "papermill": {
   "default_parameters": {},
   "duration": 11.346484,
   "end_time": "2022-05-25T11:26:43.174925",
   "environment_variables": {},
   "exception": null,
   "input_path": "__notebook__.ipynb",
   "output_path": "__notebook__.ipynb",
   "parameters": {},
   "start_time": "2022-05-25T11:26:31.828441",
   "version": "2.3.4"
  }
 },
 "nbformat": 4,
 "nbformat_minor": 5
}
