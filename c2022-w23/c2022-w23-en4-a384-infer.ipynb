{
 "cells": [
  {
   "cell_type": "markdown",
   "id": "e43a937a",
   "metadata": {
    "_cell_guid": "b1076dfc-b9ad-4769-8c92-a6c4dae69d19",
    "_uuid": "8f2839f25d086af736a60e9eeb907d3b93b6e0e5",
    "papermill": {
     "duration": 0.005437,
     "end_time": "2022-09-25T09:57:05.506003",
     "exception": false,
     "start_time": "2022-09-25T09:57:05.500566",
     "status": "completed"
    },
    "tags": []
   },
   "source": [
    "### **Setup**"
   ]
  },
  {
   "cell_type": "code",
   "execution_count": 1,
   "id": "95a08134",
   "metadata": {
    "execution": {
     "iopub.execute_input": "2022-09-25T09:57:05.516793Z",
     "iopub.status.busy": "2022-09-25T09:57:05.516238Z",
     "iopub.status.idle": "2022-09-25T09:57:16.687212Z",
     "shell.execute_reply": "2022-09-25T09:57:16.685927Z"
    },
    "papermill": {
     "duration": 11.179179,
     "end_time": "2022-09-25T09:57:16.689582",
     "exception": false,
     "start_time": "2022-09-25T09:57:05.510403",
     "status": "completed"
    },
    "tags": []
   },
   "outputs": [
    {
     "name": "stderr",
     "output_type": "stream",
     "text": [
      "WARNING: Running pip as the 'root' user can result in broken permissions and conflicting behaviour with the system package manager. It is recommended to use a virtual environment instead: https://pip.pypa.io/warnings/venv\n"
     ]
    }
   ],
   "source": [
    "%%bash\n",
    "pip install timm -q"
   ]
  },
  {
   "cell_type": "markdown",
   "id": "9476562f",
   "metadata": {
    "papermill": {
     "duration": 0.004045,
     "end_time": "2022-09-25T09:57:16.698755",
     "exception": false,
     "start_time": "2022-09-25T09:57:16.694710",
     "status": "completed"
    },
    "tags": []
   },
   "source": [
    "### **Library Imports**"
   ]
  },
  {
   "cell_type": "code",
   "execution_count": 2,
   "id": "fb9b2c95",
   "metadata": {
    "execution": {
     "iopub.execute_input": "2022-09-25T09:57:16.708852Z",
     "iopub.status.busy": "2022-09-25T09:57:16.708487Z",
     "iopub.status.idle": "2022-09-25T09:57:19.931886Z",
     "shell.execute_reply": "2022-09-25T09:57:19.930725Z"
    },
    "papermill": {
     "duration": 3.231582,
     "end_time": "2022-09-25T09:57:19.934558",
     "exception": false,
     "start_time": "2022-09-25T09:57:16.702976",
     "status": "completed"
    },
    "tags": []
   },
   "outputs": [],
   "source": [
    "import os\n",
    "import re\n",
    "import cv2\n",
    "import timm\n",
    "import torch\n",
    "import numpy as np\n",
    "import pandas as pd\n",
    "import matplotlib.pyplot as plt\n",
    "\n",
    "from time import time\n",
    "from torch import nn, optim\n",
    "from torch.utils.data import Dataset\n",
    "from torch.utils.data import DataLoader as DL\n",
    "from torchvision import models, transforms\n",
    "\n",
    "# from sklearn.model_selection import StratifiedKFold"
   ]
  },
  {
   "cell_type": "markdown",
   "id": "1e56a153",
   "metadata": {
    "papermill": {
     "duration": 0.004116,
     "end_time": "2022-09-25T09:57:19.943106",
     "exception": false,
     "start_time": "2022-09-25T09:57:19.938990",
     "status": "completed"
    },
    "tags": []
   },
   "source": [
    "### **Utilities and Helpers**"
   ]
  },
  {
   "cell_type": "code",
   "execution_count": 3,
   "id": "41032190",
   "metadata": {
    "execution": {
     "iopub.execute_input": "2022-09-25T09:57:19.953779Z",
     "iopub.status.busy": "2022-09-25T09:57:19.953071Z",
     "iopub.status.idle": "2022-09-25T09:57:19.960911Z",
     "shell.execute_reply": "2022-09-25T09:57:19.960076Z"
    },
    "papermill": {
     "duration": 0.015643,
     "end_time": "2022-09-25T09:57:19.962923",
     "exception": false,
     "start_time": "2022-09-25T09:57:19.947280",
     "status": "completed"
    },
    "tags": []
   },
   "outputs": [],
   "source": [
    "SEED = 42\n",
    "SIZE = 384\n",
    "\n",
    "\n",
    "def breaker(num: int=50, char: str=\"*\") -> None:\n",
    "    print(\"\\n\" + num*char + \"\\n\")\n",
    "\n",
    "    \n",
    "def get_image(path: str, size: int=224) -> np.ndarray:\n",
    "    image = cv2.imread(path, cv2.IMREAD_COLOR)\n",
    "    image = cv2.cvtColor(src=image, code=cv2.COLOR_BGR2RGB)\n",
    "    return cv2.resize(src=image, dsize=(size, size), interpolation=cv2.INTER_AREA)\n",
    "\n",
    "\n",
    "# def show_loss_graphs(L: list) -> None:\n",
    "#     TL, VL = [], []\n",
    "#     for i in range(len(L)):\n",
    "#         TL.append(L[i][\"train\"])\n",
    "#         VL.append(L[i][\"valid\"])\n",
    "#     x_Axis = np.arange(1, len(TL) + 1)\n",
    "#     plt.figure()\n",
    "#     plt.plot(x_Axis, TL, \"r\", label=\"Train\")\n",
    "#     plt.plot(x_Axis, VL, \"b\", label=\"Valid\")\n",
    "#     plt.legend()\n",
    "#     plt.grid()\n",
    "#     plt.title(\"Loss Graph\")\n",
    "#     plt.show()\n",
    "\n",
    "\n",
    "# def show_accuracy_graphs(A: list) -> None:\n",
    "#     TA, VA = [], []\n",
    "#     for i in range(len(A)):\n",
    "#         TA.append(A[i][\"train\"])\n",
    "#         VA.append(A[i][\"valid\"])\n",
    "#     x_Axis = np.arange(1, len(TA) + 1)\n",
    "#     plt.figure()\n",
    "#     plt.plot(x_Axis, TA, \"r\", label=\"Train\")\n",
    "#     plt.plot(x_Axis, VA, \"b\", label=\"Valid\")\n",
    "#     plt.legend()\n",
    "#     plt.grid()\n",
    "#     plt.title(\"Accuracy Graph\")\n",
    "#     plt.show()\n",
    "    \n",
    "\n",
    "# def show_lr_graph(LR: list) -> None:\n",
    "#     x_Axis = [i+1 for i in range(len(LR))]\n",
    "#     plt.figure(figsize=(8, 6))\n",
    "#     plt.plot(x_Axis, LR, \"rx\")\n",
    "#     plt.grid()\n",
    "#     plt.show()"
   ]
  },
  {
   "cell_type": "markdown",
   "id": "1347f07c",
   "metadata": {
    "papermill": {
     "duration": 0.00399,
     "end_time": "2022-09-25T09:57:19.971015",
     "exception": false,
     "start_time": "2022-09-25T09:57:19.967025",
     "status": "completed"
    },
    "tags": []
   },
   "source": [
    "### **Configuration**"
   ]
  },
  {
   "cell_type": "code",
   "execution_count": 4,
   "id": "d69faed6",
   "metadata": {
    "execution": {
     "iopub.execute_input": "2022-09-25T09:57:19.981248Z",
     "iopub.status.busy": "2022-09-25T09:57:19.980392Z",
     "iopub.status.idle": "2022-09-25T09:57:20.052598Z",
     "shell.execute_reply": "2022-09-25T09:57:20.051730Z"
    },
    "papermill": {
     "duration": 0.079623,
     "end_time": "2022-09-25T09:57:20.054787",
     "exception": false,
     "start_time": "2022-09-25T09:57:19.975164",
     "status": "completed"
    },
    "tags": []
   },
   "outputs": [],
   "source": [
    "class CFG(object):\n",
    "    def __init__(self, \n",
    "                 seed: int = 42,\n",
    "                 size: int = 224,\n",
    "                 n_splits: int = 5,\n",
    "                 batch_size: int = 16,\n",
    "                 epochs: int = 25,\n",
    "                 early_stopping: int = 5,\n",
    "                 lr: float = 1e-4,\n",
    "                 wd: float = 0.0,\n",
    "                 max_lr: float = 1e-3,\n",
    "                 pct_start: float = 0.2,\n",
    "                 steps_per_epoch: int = 100,\n",
    "                 div_factor: int = 1e3, \n",
    "                 final_div_factor: float = 1e3,\n",
    "                 ):\n",
    "        self.seed = seed\n",
    "        self.size = size\n",
    "        self.n_splits = n_splits\n",
    "        self.batch_size = batch_size\n",
    "        self.epochs = epochs\n",
    "        self.early_stopping = early_stopping\n",
    "        self.lr = lr\n",
    "        self.wd = wd\n",
    "        self.max_lr = max_lr\n",
    "        self.pct_start = pct_start\n",
    "        self.steps_per_epoch = steps_per_epoch\n",
    "        self.div_factor = div_factor\n",
    "        self.final_div_factor = final_div_factor\n",
    "        self.device = torch.device(\"cuda\" if torch.cuda.is_available() else \"cpu\")\n",
    "        self.train_transform = transforms.Compose([\n",
    "            transforms.ToTensor(),\n",
    "            transforms.Normalize([0.43444, 0.38296, 0.29537], [0.26031, 0.21142, 0.22197]),\n",
    "            transforms.RandomAffine(degrees=(-45, 45), translate=(0.15, 0.15), scale=(0.5, 1.5)),\n",
    "            transforms.RandomHorizontalFlip(p=0.25),\n",
    "            transforms.RandomVerticalFlip(p=0.25),\n",
    "        ])\n",
    "        self.valid_transform = transforms.Compose([\n",
    "            transforms.ToTensor(),\n",
    "            transforms.Normalize([0.43444, 0.38296, 0.29537], [0.26031, 0.21142, 0.22197]),\n",
    "        ])\n",
    "                                \n",
    "        self.save_path = \"saves\"\n",
    "        if not os.path.exists(self.save_path): os.makedirs(self.save_path)\n",
    "    \n",
    "cfg = CFG(seed=SEED, size=SIZE)"
   ]
  },
  {
   "cell_type": "markdown",
   "id": "e0edf1d7",
   "metadata": {
    "papermill": {
     "duration": 0.004069,
     "end_time": "2022-09-25T09:57:20.063345",
     "exception": false,
     "start_time": "2022-09-25T09:57:20.059276",
     "status": "completed"
    },
    "tags": []
   },
   "source": [
    "### **Dataset Template**"
   ]
  },
  {
   "cell_type": "code",
   "execution_count": 5,
   "id": "01849484",
   "metadata": {
    "execution": {
     "iopub.execute_input": "2022-09-25T09:57:20.074184Z",
     "iopub.status.busy": "2022-09-25T09:57:20.072778Z",
     "iopub.status.idle": "2022-09-25T09:57:20.080700Z",
     "shell.execute_reply": "2022-09-25T09:57:20.079886Z"
    },
    "papermill": {
     "duration": 0.015093,
     "end_time": "2022-09-25T09:57:20.082583",
     "exception": false,
     "start_time": "2022-09-25T09:57:20.067490",
     "status": "completed"
    },
    "tags": []
   },
   "outputs": [],
   "source": [
    "class DS(Dataset):\n",
    "    def __init__(\n",
    "        self, \n",
    "        base_path: str,\n",
    "        filenames: np.ndarray, \n",
    "        labels: np.ndarray, \n",
    "        size: int,\n",
    "        transform=None):\n",
    "        \n",
    "        self.base_path = base_path\n",
    "        self.filenames = filenames\n",
    "        self.labels = labels\n",
    "        self.size = size\n",
    "        self.transform = transform\n",
    "    \n",
    "    def __len__(self):\n",
    "        return self.filenames.shape[0]\n",
    "    \n",
    "    def __getitem__(self, idx):\n",
    "        path = os.path.join(self.base_path, self.filenames[idx])\n",
    "        image = get_image(path, self.size)\n",
    "        if self.labels is None:\n",
    "            return self.transform(image)\n",
    "        return self.transform(image), self.labels[idx]"
   ]
  },
  {
   "cell_type": "markdown",
   "id": "9dad67a7",
   "metadata": {
    "papermill": {
     "duration": 0.003997,
     "end_time": "2022-09-25T09:57:20.090779",
     "exception": false,
     "start_time": "2022-09-25T09:57:20.086782",
     "status": "completed"
    },
    "tags": []
   },
   "source": [
    "### **Model**"
   ]
  },
  {
   "cell_type": "code",
   "execution_count": 6,
   "id": "78b2dae8",
   "metadata": {
    "execution": {
     "iopub.execute_input": "2022-09-25T09:57:20.100855Z",
     "iopub.status.busy": "2022-09-25T09:57:20.100075Z",
     "iopub.status.idle": "2022-09-25T09:57:20.106454Z",
     "shell.execute_reply": "2022-09-25T09:57:20.105575Z"
    },
    "papermill": {
     "duration": 0.013467,
     "end_time": "2022-09-25T09:57:20.108518",
     "exception": false,
     "start_time": "2022-09-25T09:57:20.095051",
     "status": "completed"
    },
    "tags": []
   },
   "outputs": [],
   "source": [
    "class Model(nn.Module):\n",
    "    def __init__(self):\n",
    "        super(Model, self).__init__()\n",
    "        \n",
    "        self.model = timm.create_model(model_name=\"efficientnet_b4\", pretrained=False)\n",
    "        self.model.classifier = nn.Linear(in_features=self.model.classifier.in_features, out_features=102)\n",
    "            \n",
    "    def freeze(self):\n",
    "        for params in self.parameters(): params.requires_grad = False\n",
    "\n",
    "    def forward(self, x):\n",
    "        return nn.LogSoftmax(dim=1)(self.model(x))"
   ]
  },
  {
   "cell_type": "markdown",
   "id": "884d444b",
   "metadata": {
    "papermill": {
     "duration": 0.004023,
     "end_time": "2022-09-25T09:57:20.116764",
     "exception": false,
     "start_time": "2022-09-25T09:57:20.112741",
     "status": "completed"
    },
    "tags": []
   },
   "source": [
    "### **Fit and Predict**"
   ]
  },
  {
   "cell_type": "code",
   "execution_count": 7,
   "id": "a26d4793",
   "metadata": {
    "execution": {
     "iopub.execute_input": "2022-09-25T09:57:20.126580Z",
     "iopub.status.busy": "2022-09-25T09:57:20.126324Z",
     "iopub.status.idle": "2022-09-25T09:57:20.136250Z",
     "shell.execute_reply": "2022-09-25T09:57:20.135275Z"
    },
    "papermill": {
     "duration": 0.017652,
     "end_time": "2022-09-25T09:57:20.138580",
     "exception": false,
     "start_time": "2022-09-25T09:57:20.120928",
     "status": "completed"
    },
    "tags": []
   },
   "outputs": [],
   "source": [
    "# def fit(model=None,\n",
    "#         optimizer=None, \n",
    "#         scheduler_rlrop=None,\n",
    "#         scheduler_oclr=None,\n",
    "#         epochs=None, \n",
    "#         early_stopping_patience=None, \n",
    "#         dataloaders=None, \n",
    "#         fold=None, \n",
    "#         save_path=None,\n",
    "#         device=None,\n",
    "#         verbose=False) -> tuple:   \n",
    "    \n",
    "#     def get_accuracy(y_pred, y_true):\n",
    "#         y_pred = torch.argmax(y_pred, dim=1)\n",
    "#         return torch.count_nonzero(y_pred == y_true).item() / len(y_pred)\n",
    "    \n",
    "#     if verbose:\n",
    "#         breaker()\n",
    "#         if fold: print(f\"Training Fold {fold}...\")\n",
    "#         else: print(\"Training ...\")\n",
    "#         breaker()\n",
    "        \n",
    "#     bestLoss: dict = {\"train\" : np.inf, \"valid\" : np.inf} \n",
    "#     bestAccs: dict = {\"train\" : 0.0, \"valid\" : 0.0}\n",
    "        \n",
    "#     Losses: list = []\n",
    "#     Accuracies: list = [] \n",
    "#     LRs: list = []\n",
    "        \n",
    "#     if fold: \n",
    "#         ble_name = f\"ble_state_fold_{fold}.pt\"\n",
    "#         bae_name = f\"bae_state_fold_{fold}.pt\"\n",
    "#     else: \n",
    "#         ble_name = f\"ble_state.pt\"\n",
    "#         bae_name = f\"bae_state.pt\"\n",
    "    \n",
    "#     start_time = time()\n",
    "#     for e in range(epochs):\n",
    "#         e_st = time()\n",
    "#         epochLoss: dict = {\"train\" : 0.0, \"valid\" : 0.0} \n",
    "#         epochAccs: dict = {\"train\" : 0.0, \"valid\" : 0.0} \n",
    "\n",
    "#         for phase in [\"train\", \"valid\"]:\n",
    "#             if phase == \"train\": model.train()\n",
    "#             else: model.eval()\n",
    "            \n",
    "#             lossPerPass: list = []\n",
    "#             accsPerPass: list = []\n",
    "                   \n",
    "#             for X, y in dataloaders[phase]:\n",
    "#                 X, y = X.to(device), y.to(device).view(-1)\n",
    "\n",
    "#                 optimizer.zero_grad()\n",
    "#                 with torch.set_grad_enabled(phase == \"train\"):\n",
    "#                     output = model(X)\n",
    "#                     loss = torch.nn.NLLLoss()(output, y)\n",
    "#                     if phase == \"train\":\n",
    "#                         loss.backward()\n",
    "#                         optimizer.step()\n",
    "#                         if scheduler_oclr: scheduler_oclr.step()\n",
    "#                 lossPerPass.append(loss.item())\n",
    "#                 accsPerPass.append(get_accuracy(output, y))\n",
    "#             epochLoss[phase] = np.mean(np.array(lossPerPass))\n",
    "#             epochAccs[phase] = np.mean(np.array(accsPerPass))\n",
    "#         if scheduler_oclr: LRs.append(scheduler_oclr.get_last_lr())\n",
    "#         Losses.append(epochLoss)\n",
    "#         Accuracies.append(epochAccs)\n",
    "        \n",
    "#         if scheduler_oclr:\n",
    "#             save_dict = {\"model_state_dict\"     : model.state_dict(),\n",
    "#                          \"optim_state_dict\"     : optimizer.state_dict(),\n",
    "#                          \"scheduler_state_dict\" : scheduler_oclr.state_dict()}\n",
    "        \n",
    "#         elif scheduler_rlrop:\n",
    "#             save_dict = {\"model_state_dict\"     : model.state_dict(),\n",
    "#                          \"optim_state_dict\"     : optimizer.state_dict(),\n",
    "#                          \"scheduler_state_dict\" : scheduler_rlrop.state_dict()}\n",
    "        \n",
    "#         else:\n",
    "#             save_dict = {\"model_state_dict\"     : model.state_dict(),\n",
    "#                          \"optim_state_dict\"     : optimizer.state_dict()}\n",
    "        \n",
    "        \n",
    "#         if early_stopping_patience:\n",
    "#             if epochLoss[\"valid\"] < bestLoss[\"valid\"]:\n",
    "#                 bestLoss = epochLoss\n",
    "#                 BLE = e + 1\n",
    "#                 torch.save(save_dict, os.path.join(save_path, ble_name))\n",
    "#                 early_stopping_step = 0\n",
    "#             else:\n",
    "#                 early_stopping_step += 1\n",
    "#                 if early_stopping_step > early_stopping_patience:\n",
    "#                     print(\"\\nEarly Stopping at Epoch {}\".format(e + 1))\n",
    "#                     break\n",
    "        \n",
    "#         if epochLoss[\"valid\"] < bestLoss[\"valid\"]:\n",
    "#             bestLoss = epochLoss\n",
    "#             BLE = e + 1\n",
    "#             torch.save(save_dict,os.path.join(save_path, ble_name))\n",
    "        \n",
    "#         if epochAccs[\"valid\"] > bestAccs[\"valid\"]:\n",
    "#             bestAccs = epochAccs\n",
    "#             BAE = e + 1\n",
    "#             torch.save(save_dict,os.path.join(save_path, bae_name))\n",
    "        \n",
    "#         if scheduler_rlrop: scheduler_rlrop.step(epochLoss[\"valid\"])\n",
    "        \n",
    "#         if verbose:\n",
    "#             print(\"Epoch: {} | Train Loss: {:.5f} | Valid Loss: {:.5f} |\\\n",
    "#  Train Accs: {:.5f} | Valid Accs: {:.5f} | Time: {:.2f} seconds\".format(e+1, \n",
    "#                                                                         epochLoss[\"train\"], epochLoss[\"valid\"], \n",
    "#                                                                         epochAccs[\"train\"], epochAccs[\"valid\"], \n",
    "#                                                                         time()-e_st))\n",
    "\n",
    "#     if verbose:                                           \n",
    "#         breaker()\n",
    "#         print(f\"Best Validation Loss at Epoch {BLE}\")\n",
    "#         breaker()\n",
    "#         print(f\"Best Validation Accs at Epoch {BAE}\")\n",
    "#         breaker()\n",
    "#         print(\"Time Taken [{} Epochs] : {:.2f} minutes\".format(len(Losses), (time()-start_time)/60))\n",
    "    \n",
    "#     return Losses, Accuracies, LRs, bestLoss, bestAccs, BLE, BAE, ble_name, bae_name\n",
    "\n",
    "def predict_batch(\n",
    "    model=None, \n",
    "    dataloader=None, \n",
    "    path=None, \n",
    "    device=None\n",
    ") -> np.ndarray:\n",
    "    \n",
    "    model.load_state_dict(torch.load(path, map_location=device)[\"model_state_dict\"])\n",
    "    model.to(device)    \n",
    "    model.eval()\n",
    "    \n",
    "    y_pred = torch.zeros(1, 1).to(device)\n",
    "    \n",
    "    for X in dataloader:\n",
    "        X = X.to(device)\n",
    "        with torch.no_grad():\n",
    "            output = torch.argmax(torch.exp(model(X)), dim=1)\n",
    "        y_pred = torch.cat((y_pred, output.view(-1, 1)), dim=0)\n",
    "    \n",
    "    return y_pred[1:].detach().cpu().numpy()"
   ]
  },
  {
   "cell_type": "markdown",
   "id": "5b77bb0a",
   "metadata": {
    "papermill": {
     "duration": 0.003971,
     "end_time": "2022-09-25T09:57:20.147634",
     "exception": false,
     "start_time": "2022-09-25T09:57:20.143663",
     "status": "completed"
    },
    "tags": []
   },
   "source": [
    "### **Train**"
   ]
  },
  {
   "cell_type": "code",
   "execution_count": 8,
   "id": "ef7b8925",
   "metadata": {
    "execution": {
     "iopub.execute_input": "2022-09-25T09:57:20.157142Z",
     "iopub.status.busy": "2022-09-25T09:57:20.156886Z",
     "iopub.status.idle": "2022-09-25T09:57:20.160723Z",
     "shell.execute_reply": "2022-09-25T09:57:20.159741Z"
    },
    "papermill": {
     "duration": 0.011137,
     "end_time": "2022-09-25T09:57:20.162993",
     "exception": false,
     "start_time": "2022-09-25T09:57:20.151856",
     "status": "completed"
    },
    "tags": []
   },
   "outputs": [],
   "source": [
    "# df = pd.read_csv(\"../input/com3025-2022-challenge-week2-and-3-extend-extend/train.csv\")\n",
    "\n",
    "# filenames = df.file_path.copy().values\n",
    "# labels = df.iloc[:, 1:].copy().values"
   ]
  },
  {
   "cell_type": "code",
   "execution_count": 9,
   "id": "b6365f2c",
   "metadata": {
    "execution": {
     "iopub.execute_input": "2022-09-25T09:57:20.172492Z",
     "iopub.status.busy": "2022-09-25T09:57:20.172244Z",
     "iopub.status.idle": "2022-09-25T09:57:20.178266Z",
     "shell.execute_reply": "2022-09-25T09:57:20.177233Z"
    },
    "papermill": {
     "duration": 0.013372,
     "end_time": "2022-09-25T09:57:20.180546",
     "exception": false,
     "start_time": "2022-09-25T09:57:20.167174",
     "status": "completed"
    },
    "tags": []
   },
   "outputs": [],
   "source": [
    "# fold: int = 1\n",
    "# BLs: list = []\n",
    "# BAs: list = []\n",
    "\n",
    "# for tr_idx, va_idx in StratifiedKFold(n_splits=cfg.n_splits, random_state=cfg.seed, shuffle=True).split(filenames, labels):\n",
    "\n",
    "#     tr_filenames, va_filenames = filenames[tr_idx], filenames[va_idx] \n",
    "#     tr_labels, va_labels       = labels[tr_idx], labels[va_idx]\n",
    "    \n",
    "#     tr_data_setup = DS(\n",
    "#         base_path=\"../input/com3025-2022-challenge-week2-and-3-extend-extend\", \n",
    "#         filenames=tr_filenames, \n",
    "#         labels=tr_labels.reshape(-1, 1),\n",
    "#         size=cfg.size,\n",
    "#         transform=cfg.train_transform\n",
    "#     )\n",
    "    \n",
    "#     va_data_setup = DS(\n",
    "#         base_path=\"../input/com3025-2022-challenge-week2-and-3-extend-extend\", \n",
    "#         filenames=va_filenames, \n",
    "#         labels=va_labels.reshape(-1, 1),\n",
    "#         size=cfg.size,\n",
    "#         transform=cfg.valid_transform\n",
    "#     )\n",
    "\n",
    "#     dataloaders = {\n",
    "#         \"train\" : DL(tr_data_setup, batch_size=cfg.batch_size, shuffle=True, generator=torch.manual_seed(cfg.seed)),\n",
    "#         \"valid\" : DL(va_data_setup, batch_size=cfg.batch_size, shuffle=False),\n",
    "#     }\n",
    "\n",
    "#     cfg = CFG(\n",
    "#         epochs=25, \n",
    "#         batch_size=64, \n",
    "#         early_stopping=5,\n",
    "#         steps_per_epoch=len(dataloaders[\"train\"])\n",
    "#     )\n",
    "    \n",
    "#     torch.manual_seed(cfg.seed)\n",
    "#     model = Model().to(cfg.device)\n",
    "\n",
    "#     optimizer = optim.Adam([p for p in model.parameters() if p.requires_grad], lr=cfg.lr, weight_decay=cfg.wd)\n",
    "#     # optimizer = optim.AdamW([p for p in model.parameters() if p.requires_grad], lr=cfg.lr, weight_decay=cfg.wd)\n",
    "#     # optimizer = optim.SGD([p for p in model.parameters() if p.requires_grad], lr=cfg.lr, weight_decay=cfg.wd, momentum=0.9)\n",
    "    \n",
    "#     scheduler_oclr = optim.lr_scheduler.OneCycleLR(\n",
    "#         optimizer=optimizer, \n",
    "#         max_lr=cfg.max_lr, \n",
    "#         epochs=cfg.epochs, \n",
    "#         steps_per_epoch=cfg.steps_per_epoch,\n",
    "#         pct_start=cfg.pct_start, \n",
    "#         div_factor=cfg.div_factor, \n",
    "#         final_div_factor=cfg.final_div_factor\n",
    "#     )\n",
    "\n",
    "#     # scheduler_rlrop = optim.lr_scheduler.ReduceLROnPlateau(\n",
    "#     #     optimizer=optimizer,\n",
    "#     #     patience=cfg.patience,\n",
    "#     #     eps=cfg.eps,\n",
    "#     #     verbose=True\n",
    "#     # )\n",
    "\n",
    "#     # scheduler_oclr = None\n",
    "#     scheduler_rlrop = None\n",
    "    \n",
    "#     L, A, LR, BL, BA, _, _, _, _ = fit(\n",
    "#         model=model, \n",
    "#         optimizer=optimizer, \n",
    "#         scheduler_oclr=scheduler_oclr,\n",
    "#         scheduler_rlrop=scheduler_rlrop,\n",
    "#         epochs=cfg.epochs, \n",
    "#         early_stopping_patience=cfg.early_stopping, \n",
    "#         dataloaders=dataloaders, \n",
    "#         device=cfg.device,\n",
    "#         save_path=cfg.save_path,\n",
    "#         fold=fold,\n",
    "#         verbose=True\n",
    "#     )\n",
    "    \n",
    "#     breaker()\n",
    "#     show_loss_graphs(L)\n",
    "#     breaker()\n",
    "#     show_accuracy_graphs(A)\n",
    "#     breaker()\n",
    "#     if scheduler_oclr:\n",
    "#         show_lr_graph(LR)\n",
    "#         breaker()\n",
    "    \n",
    "#     BLs.append(BL)\n",
    "#     BAs.append(BA)\n",
    "    \n",
    "#     fold += 1"
   ]
  },
  {
   "cell_type": "markdown",
   "id": "1cec6536",
   "metadata": {
    "papermill": {
     "duration": 0.004294,
     "end_time": "2022-09-25T09:57:20.189132",
     "exception": false,
     "start_time": "2022-09-25T09:57:20.184838",
     "status": "completed"
    },
    "tags": []
   },
   "source": [
    "### **Best Model**"
   ]
  },
  {
   "cell_type": "code",
   "execution_count": 10,
   "id": "e2817430",
   "metadata": {
    "execution": {
     "iopub.execute_input": "2022-09-25T09:57:20.198570Z",
     "iopub.status.busy": "2022-09-25T09:57:20.198315Z",
     "iopub.status.idle": "2022-09-25T09:57:20.202375Z",
     "shell.execute_reply": "2022-09-25T09:57:20.201392Z"
    },
    "papermill": {
     "duration": 0.011144,
     "end_time": "2022-09-25T09:57:20.204535",
     "exception": false,
     "start_time": "2022-09-25T09:57:20.193391",
     "status": "completed"
    },
    "tags": []
   },
   "outputs": [],
   "source": [
    "# BL = np.inf\n",
    "# for i in range(len(BLs)):\n",
    "#     if BLs[i][\"valid\"] < BL:\n",
    "#         BL = BLs[i][\"valid\"]\n",
    "#         best_loss_index = i\n",
    "\n",
    "        \n",
    "# BA = 0.0\n",
    "# for i in range(len(BAs)):\n",
    "#     if BAs[i][\"valid\"] > BA:\n",
    "#         BA = BAs[i][\"valid\"]\n",
    "#         best_accs_index = i\n",
    "\n",
    "# breaker()\n",
    "# print(f\"Best Loss Model Fold     : {best_loss_index + 1}\")\n",
    "# print(f\"Best Accuracy Model Fold : {best_accs_index + 1}\")\n",
    "# breaker()"
   ]
  },
  {
   "cell_type": "markdown",
   "id": "6bf6b3dc",
   "metadata": {
    "papermill": {
     "duration": 0.003988,
     "end_time": "2022-09-25T09:57:20.212735",
     "exception": false,
     "start_time": "2022-09-25T09:57:20.208747",
     "status": "completed"
    },
    "tags": []
   },
   "source": [
    "### **Submit**"
   ]
  },
  {
   "cell_type": "code",
   "execution_count": 11,
   "id": "1af8c4e5",
   "metadata": {
    "execution": {
     "iopub.execute_input": "2022-09-25T09:57:20.221998Z",
     "iopub.status.busy": "2022-09-25T09:57:20.221744Z",
     "iopub.status.idle": "2022-09-25T09:59:59.773923Z",
     "shell.execute_reply": "2022-09-25T09:59:59.772968Z"
    },
    "papermill": {
     "duration": 159.559582,
     "end_time": "2022-09-25T09:59:59.776467",
     "exception": false,
     "start_time": "2022-09-25T09:57:20.216885",
     "status": "completed"
    },
    "tags": []
   },
   "outputs": [],
   "source": [
    "torch.manual_seed(cfg.seed)\n",
    "model = Model().to(cfg.device)\n",
    "\n",
    "ss_df = pd.read_csv(\"../input/com3025-2022-challenge-week2-and-3-extend-extend/example_submission.csv\")\n",
    "ts_filenames = ss_df[\"file_path\"]\n",
    "\n",
    "ts_data_setup = DS(\n",
    "    base_path=\"../input/com3025-2022-challenge-week2-and-3-extend-extend\", \n",
    "    filenames=ts_filenames, \n",
    "    size=cfg.size,\n",
    "    transform=cfg.valid_transform,\n",
    "    labels=None,\n",
    ")\n",
    "ts_data = DL(ts_data_setup, batch_size=cfg.batch_size, shuffle=False)\n",
    "\n",
    "y_pred = predict_batch(\n",
    "    model=model,\n",
    "    dataloader=ts_data,\n",
    "    path=\"../input/c2022-w23-en4-a384/saves/ble_state_fold_3.pt\",\n",
    "    device=cfg.device\n",
    ")\n",
    "\n",
    "ss_df[\"label\"] = y_pred.astype(\"uint8\")\n",
    "ss_df.to_csv(\"submission.csv\", index=False)"
   ]
  }
 ],
 "metadata": {
  "kernelspec": {
   "display_name": "Python 3",
   "language": "python",
   "name": "python3"
  },
  "language_info": {
   "codemirror_mode": {
    "name": "ipython",
    "version": 3
   },
   "file_extension": ".py",
   "mimetype": "text/x-python",
   "name": "python",
   "nbconvert_exporter": "python",
   "pygments_lexer": "ipython3",
   "version": "3.7.12"
  },
  "papermill": {
   "default_parameters": {},
   "duration": 183.292682,
   "end_time": "2022-09-25T10:00:01.304019",
   "environment_variables": {},
   "exception": null,
   "input_path": "__notebook__.ipynb",
   "output_path": "__notebook__.ipynb",
   "parameters": {},
   "start_time": "2022-09-25T09:56:58.011337",
   "version": "2.3.4"
  }
 },
 "nbformat": 4,
 "nbformat_minor": 5
}
