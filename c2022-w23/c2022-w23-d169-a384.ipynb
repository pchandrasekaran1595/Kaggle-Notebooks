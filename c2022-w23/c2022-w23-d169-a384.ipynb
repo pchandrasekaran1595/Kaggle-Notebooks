{
 "cells": [
  {
   "cell_type": "markdown",
   "id": "c71b1023",
   "metadata": {
    "_cell_guid": "b1076dfc-b9ad-4769-8c92-a6c4dae69d19",
    "_uuid": "8f2839f25d086af736a60e9eeb907d3b93b6e0e5",
    "papermill": {
     "duration": 0.005451,
     "end_time": "2022-09-16T19:35:12.114839",
     "exception": false,
     "start_time": "2022-09-16T19:35:12.109388",
     "status": "completed"
    },
    "tags": []
   },
   "source": [
    "### **Setup**"
   ]
  },
  {
   "cell_type": "code",
   "execution_count": 1,
   "id": "636bb6d0",
   "metadata": {
    "execution": {
     "iopub.execute_input": "2022-09-16T19:35:12.126028Z",
     "iopub.status.busy": "2022-09-16T19:35:12.125147Z",
     "iopub.status.idle": "2022-09-16T19:35:12.131508Z",
     "shell.execute_reply": "2022-09-16T19:35:12.130538Z"
    },
    "papermill": {
     "duration": 0.014338,
     "end_time": "2022-09-16T19:35:12.133500",
     "exception": false,
     "start_time": "2022-09-16T19:35:12.119162",
     "status": "completed"
    },
    "tags": []
   },
   "outputs": [],
   "source": [
    "# %%bash\n",
    "# pip install timm -q"
   ]
  },
  {
   "cell_type": "markdown",
   "id": "08bb5de3",
   "metadata": {
    "papermill": {
     "duration": 0.004095,
     "end_time": "2022-09-16T19:35:12.142270",
     "exception": false,
     "start_time": "2022-09-16T19:35:12.138175",
     "status": "completed"
    },
    "tags": []
   },
   "source": [
    "### **Library Imports**"
   ]
  },
  {
   "cell_type": "code",
   "execution_count": 2,
   "id": "f1457506",
   "metadata": {
    "execution": {
     "iopub.execute_input": "2022-09-16T19:35:12.151895Z",
     "iopub.status.busy": "2022-09-16T19:35:12.151238Z",
     "iopub.status.idle": "2022-09-16T19:35:15.071098Z",
     "shell.execute_reply": "2022-09-16T19:35:15.069782Z"
    },
    "papermill": {
     "duration": 2.927353,
     "end_time": "2022-09-16T19:35:15.073571",
     "exception": false,
     "start_time": "2022-09-16T19:35:12.146218",
     "status": "completed"
    },
    "tags": []
   },
   "outputs": [],
   "source": [
    "import os\n",
    "import re\n",
    "import cv2\n",
    "# import timm\n",
    "import torch\n",
    "import numpy as np\n",
    "import pandas as pd\n",
    "import matplotlib.pyplot as plt\n",
    "\n",
    "from time import time\n",
    "from torch import nn, optim\n",
    "from torch.utils.data import Dataset\n",
    "from torch.utils.data import DataLoader as DL\n",
    "from torchvision import models, transforms\n",
    "\n",
    "from sklearn.model_selection import StratifiedKFold"
   ]
  },
  {
   "cell_type": "code",
   "execution_count": 3,
   "id": "89836d39",
   "metadata": {
    "execution": {
     "iopub.execute_input": "2022-09-16T19:35:15.088481Z",
     "iopub.status.busy": "2022-09-16T19:35:15.088035Z",
     "iopub.status.idle": "2022-09-16T19:35:15.123412Z",
     "shell.execute_reply": "2022-09-16T19:35:15.122527Z"
    },
    "papermill": {
     "duration": 0.045453,
     "end_time": "2022-09-16T19:35:15.126088",
     "exception": false,
     "start_time": "2022-09-16T19:35:15.080635",
     "status": "completed"
    },
    "tags": []
   },
   "outputs": [
    {
     "data": {
      "text/plain": [
       "102"
      ]
     },
     "execution_count": 3,
     "metadata": {},
     "output_type": "execute_result"
    }
   ],
   "source": [
    "df = pd.read_csv(\"../input/com3025-2022-challenge-week2-and-3-extend-extend/train.csv\")\n",
    "df.label.nunique()"
   ]
  },
  {
   "cell_type": "markdown",
   "id": "58cfc7a3",
   "metadata": {
    "papermill": {
     "duration": 0.006351,
     "end_time": "2022-09-16T19:35:15.139494",
     "exception": false,
     "start_time": "2022-09-16T19:35:15.133143",
     "status": "completed"
    },
    "tags": []
   },
   "source": [
    "### **Utilities and Helpers**"
   ]
  },
  {
   "cell_type": "code",
   "execution_count": 4,
   "id": "f65e7db3",
   "metadata": {
    "execution": {
     "iopub.execute_input": "2022-09-16T19:35:15.154128Z",
     "iopub.status.busy": "2022-09-16T19:35:15.153682Z",
     "iopub.status.idle": "2022-09-16T19:35:15.173327Z",
     "shell.execute_reply": "2022-09-16T19:35:15.172368Z"
    },
    "papermill": {
     "duration": 0.029932,
     "end_time": "2022-09-16T19:35:15.175908",
     "exception": false,
     "start_time": "2022-09-16T19:35:15.145976",
     "status": "completed"
    },
    "tags": []
   },
   "outputs": [],
   "source": [
    "SEED = 42\n",
    "SIZE = 384\n",
    "\n",
    "\n",
    "def breaker(num: int=50, char: str=\"*\") -> None:\n",
    "    print(\"\\n\" + num*char + \"\\n\")\n",
    "\n",
    "    \n",
    "def get_image(path: str, size: int=224) -> np.ndarray:\n",
    "    image = cv2.imread(path, cv2.IMREAD_COLOR)\n",
    "    image = cv2.cvtColor(src=image, code=cv2.COLOR_BGR2RGB)\n",
    "    return cv2.resize(src=image, dsize=(size, size), interpolation=cv2.INTER_AREA)\n",
    "\n",
    "\n",
    "def show_loss_graphs(L: list) -> None:\n",
    "    TL, VL = [], []\n",
    "    for i in range(len(L)):\n",
    "        TL.append(L[i][\"train\"])\n",
    "        VL.append(L[i][\"valid\"])\n",
    "    x_Axis = np.arange(1, len(TL) + 1)\n",
    "    plt.figure()\n",
    "    plt.plot(x_Axis, TL, \"r\", label=\"Train\")\n",
    "    plt.plot(x_Axis, VL, \"b\", label=\"Valid\")\n",
    "    plt.legend()\n",
    "    plt.grid()\n",
    "    plt.title(\"Loss Graph\")\n",
    "    plt.show()\n",
    "\n",
    "\n",
    "def show_accuracy_graphs(A: list) -> None:\n",
    "    TA, VA = [], []\n",
    "    for i in range(len(A)):\n",
    "        TA.append(A[i][\"train\"])\n",
    "        VA.append(A[i][\"valid\"])\n",
    "    x_Axis = np.arange(1, len(TA) + 1)\n",
    "    plt.figure()\n",
    "    plt.plot(x_Axis, TA, \"r\", label=\"Train\")\n",
    "    plt.plot(x_Axis, VA, \"b\", label=\"Valid\")\n",
    "    plt.legend()\n",
    "    plt.grid()\n",
    "    plt.title(\"Accuracy Graph\")\n",
    "    plt.show()\n",
    "    \n",
    "\n",
    "def show_lr_graph(LR: list) -> None:\n",
    "    x_Axis = [i+1 for i in range(len(LR))]\n",
    "    plt.figure(figsize=(8, 6))\n",
    "    plt.plot(x_Axis, LR, \"rx\")\n",
    "    plt.grid()\n",
    "    plt.show()"
   ]
  },
  {
   "cell_type": "markdown",
   "id": "fd975691",
   "metadata": {
    "papermill": {
     "duration": 0.006556,
     "end_time": "2022-09-16T19:35:15.189957",
     "exception": false,
     "start_time": "2022-09-16T19:35:15.183401",
     "status": "completed"
    },
    "tags": []
   },
   "source": [
    "### **Configuration**"
   ]
  },
  {
   "cell_type": "code",
   "execution_count": 5,
   "id": "9ed8149d",
   "metadata": {
    "execution": {
     "iopub.execute_input": "2022-09-16T19:35:15.205497Z",
     "iopub.status.busy": "2022-09-16T19:35:15.204994Z",
     "iopub.status.idle": "2022-09-16T19:35:15.296172Z",
     "shell.execute_reply": "2022-09-16T19:35:15.295066Z"
    },
    "papermill": {
     "duration": 0.102385,
     "end_time": "2022-09-16T19:35:15.299233",
     "exception": false,
     "start_time": "2022-09-16T19:35:15.196848",
     "status": "completed"
    },
    "tags": []
   },
   "outputs": [],
   "source": [
    "class CFG(object):\n",
    "    def __init__(self, \n",
    "                 seed: int = 42,\n",
    "                 size: int = 224,\n",
    "                 n_splits: int = 5,\n",
    "                 batch_size: int = 16,\n",
    "                 epochs: int = 25,\n",
    "                 early_stopping: int = 5,\n",
    "                 lr: float = 1e-4,\n",
    "                 wd: float = 0.0,\n",
    "                 max_lr: float = 1e-3,\n",
    "                 pct_start: float = 0.2,\n",
    "                 steps_per_epoch: int = 100,\n",
    "                 div_factor: int = 1e3, \n",
    "                 final_div_factor: float = 1e3,\n",
    "                 ):\n",
    "        self.seed = seed\n",
    "        self.size = size\n",
    "        self.n_splits = n_splits\n",
    "        self.batch_size = batch_size\n",
    "        self.epochs = epochs\n",
    "        self.early_stopping = early_stopping\n",
    "        self.lr = lr\n",
    "        self.wd = wd\n",
    "        self.max_lr = max_lr\n",
    "        self.pct_start = pct_start\n",
    "        self.steps_per_epoch = steps_per_epoch\n",
    "        self.div_factor = div_factor\n",
    "        self.final_div_factor = final_div_factor\n",
    "        self.device = torch.device(\"cuda\" if torch.cuda.is_available() else \"cpu\")\n",
    "        self.train_transform = transforms.Compose([\n",
    "            transforms.ToTensor(),\n",
    "            transforms.Normalize([0.43444, 0.38296, 0.29537], [0.26031, 0.21142, 0.22197]),\n",
    "            transforms.RandomAffine(degrees=(-45, 45), translate=(0.15, 0.15), scale=(0.5, 1.5)),\n",
    "            transforms.RandomHorizontalFlip(p=0.25),\n",
    "            transforms.RandomVerticalFlip(p=0.25),\n",
    "        ])\n",
    "        self.valid_transform = transforms.Compose([\n",
    "            transforms.ToTensor(),\n",
    "            transforms.Normalize([0.43444, 0.38296, 0.29537], [0.26031, 0.21142, 0.22197]),\n",
    "        ])\n",
    "                                \n",
    "        self.save_path = \"saves\"\n",
    "        if not os.path.exists(self.save_path): os.makedirs(self.save_path)\n",
    "    \n",
    "cfg = CFG(seed=SEED, size=SIZE)"
   ]
  },
  {
   "cell_type": "markdown",
   "id": "46c7df76",
   "metadata": {
    "papermill": {
     "duration": 0.004473,
     "end_time": "2022-09-16T19:35:15.308607",
     "exception": false,
     "start_time": "2022-09-16T19:35:15.304134",
     "status": "completed"
    },
    "tags": []
   },
   "source": [
    "### **Dataset Template**"
   ]
  },
  {
   "cell_type": "code",
   "execution_count": 6,
   "id": "5d11e31d",
   "metadata": {
    "execution": {
     "iopub.execute_input": "2022-09-16T19:35:15.319648Z",
     "iopub.status.busy": "2022-09-16T19:35:15.319253Z",
     "iopub.status.idle": "2022-09-16T19:35:15.328903Z",
     "shell.execute_reply": "2022-09-16T19:35:15.327930Z"
    },
    "papermill": {
     "duration": 0.017817,
     "end_time": "2022-09-16T19:35:15.331195",
     "exception": false,
     "start_time": "2022-09-16T19:35:15.313378",
     "status": "completed"
    },
    "tags": []
   },
   "outputs": [],
   "source": [
    "class DS(Dataset):\n",
    "    def __init__(\n",
    "        self, \n",
    "        base_path: str,\n",
    "        filenames: np.ndarray, \n",
    "        labels: np.ndarray, \n",
    "        size: int,\n",
    "        transform=None):\n",
    "        \n",
    "        self.base_path = base_path\n",
    "        self.filenames = filenames\n",
    "        self.labels = labels\n",
    "        self.size = size\n",
    "        self.transform = transform\n",
    "    \n",
    "    def __len__(self):\n",
    "        return self.filenames.shape[0]\n",
    "    \n",
    "    def __getitem__(self, idx):\n",
    "        path = os.path.join(self.base_path, self.filenames[idx])\n",
    "        image = get_image(path, self.size)\n",
    "        if self.labels is None:\n",
    "            return self.transform(image)\n",
    "        return self.transform(image), self.labels[idx]"
   ]
  },
  {
   "cell_type": "markdown",
   "id": "2294f93b",
   "metadata": {
    "papermill": {
     "duration": 0.004711,
     "end_time": "2022-09-16T19:35:15.340863",
     "exception": false,
     "start_time": "2022-09-16T19:35:15.336152",
     "status": "completed"
    },
    "tags": []
   },
   "source": [
    "### **Model**"
   ]
  },
  {
   "cell_type": "code",
   "execution_count": 7,
   "id": "c4659cc5",
   "metadata": {
    "execution": {
     "iopub.execute_input": "2022-09-16T19:35:15.351853Z",
     "iopub.status.busy": "2022-09-16T19:35:15.351462Z",
     "iopub.status.idle": "2022-09-16T19:35:15.358370Z",
     "shell.execute_reply": "2022-09-16T19:35:15.357264Z"
    },
    "papermill": {
     "duration": 0.015165,
     "end_time": "2022-09-16T19:35:15.360731",
     "exception": false,
     "start_time": "2022-09-16T19:35:15.345566",
     "status": "completed"
    },
    "tags": []
   },
   "outputs": [],
   "source": [
    "class Model(nn.Module):\n",
    "    def __init__(self):\n",
    "        super(Model, self).__init__()\n",
    "        \n",
    "        self.model = models.densenet169(pretrained=True, progress=True)\n",
    "        self.model.classifier = nn.Linear(in_features=self.model.classifier.in_features, out_features=102)\n",
    "            \n",
    "    def freeze(self):\n",
    "        for params in self.parameters(): params.requires_grad = False\n",
    "\n",
    "    def forward(self, x):\n",
    "        return nn.LogSoftmax(dim=1)(self.model(x))"
   ]
  },
  {
   "cell_type": "markdown",
   "id": "8d8625be",
   "metadata": {
    "papermill": {
     "duration": 0.004622,
     "end_time": "2022-09-16T19:35:15.370147",
     "exception": false,
     "start_time": "2022-09-16T19:35:15.365525",
     "status": "completed"
    },
    "tags": []
   },
   "source": [
    "### **Fit and Predict**"
   ]
  },
  {
   "cell_type": "code",
   "execution_count": 8,
   "id": "d47edb62",
   "metadata": {
    "execution": {
     "iopub.execute_input": "2022-09-16T19:35:15.382361Z",
     "iopub.status.busy": "2022-09-16T19:35:15.382087Z",
     "iopub.status.idle": "2022-09-16T19:35:15.408665Z",
     "shell.execute_reply": "2022-09-16T19:35:15.407692Z"
    },
    "papermill": {
     "duration": 0.035168,
     "end_time": "2022-09-16T19:35:15.411136",
     "exception": false,
     "start_time": "2022-09-16T19:35:15.375968",
     "status": "completed"
    },
    "tags": []
   },
   "outputs": [],
   "source": [
    "def fit(model=None,\n",
    "        optimizer=None, \n",
    "        scheduler_rlrop=None,\n",
    "        scheduler_oclr=None,\n",
    "        epochs=None, \n",
    "        early_stopping_patience=None, \n",
    "        dataloaders=None, \n",
    "        fold=None, \n",
    "        save_path=None,\n",
    "        device=None,\n",
    "        verbose=False) -> tuple:   \n",
    "    \n",
    "    def get_accuracy(y_pred, y_true):\n",
    "        y_pred = torch.argmax(y_pred, dim=1)\n",
    "        return torch.count_nonzero(y_pred == y_true).item() / len(y_pred)\n",
    "    \n",
    "    if verbose:\n",
    "        breaker()\n",
    "        if fold: print(f\"Training Fold {fold}...\")\n",
    "        else: print(\"Training ...\")\n",
    "        breaker()\n",
    "        \n",
    "    bestLoss: dict = {\"train\" : np.inf, \"valid\" : np.inf} \n",
    "    bestAccs: dict = {\"train\" : 0.0, \"valid\" : 0.0}\n",
    "        \n",
    "    Losses: list = []\n",
    "    Accuracies: list = [] \n",
    "    LRs: list = []\n",
    "        \n",
    "    if fold: \n",
    "        ble_name = f\"ble_state_fold_{fold}.pt\"\n",
    "        bae_name = f\"bae_state_fold_{fold}.pt\"\n",
    "    else: \n",
    "        ble_name = f\"ble_state.pt\"\n",
    "        bae_name = f\"bae_state.pt\"\n",
    "    \n",
    "    start_time = time()\n",
    "    for e in range(epochs):\n",
    "        e_st = time()\n",
    "        epochLoss: dict = {\"train\" : 0.0, \"valid\" : 0.0} \n",
    "        epochAccs: dict = {\"train\" : 0.0, \"valid\" : 0.0} \n",
    "\n",
    "        for phase in [\"train\", \"valid\"]:\n",
    "            if phase == \"train\": model.train()\n",
    "            else: model.eval()\n",
    "            \n",
    "            lossPerPass: list = []\n",
    "            accsPerPass: list = []\n",
    "                   \n",
    "            for X, y in dataloaders[phase]:\n",
    "                X, y = X.to(device), y.to(device).view(-1)\n",
    "\n",
    "                optimizer.zero_grad()\n",
    "                with torch.set_grad_enabled(phase == \"train\"):\n",
    "                    output = model(X)\n",
    "                    loss = torch.nn.NLLLoss()(output, y)\n",
    "                    if phase == \"train\":\n",
    "                        loss.backward()\n",
    "                        optimizer.step()\n",
    "                        if scheduler_oclr: scheduler_oclr.step()\n",
    "                lossPerPass.append(loss.item())\n",
    "                accsPerPass.append(get_accuracy(output, y))\n",
    "            epochLoss[phase] = np.mean(np.array(lossPerPass))\n",
    "            epochAccs[phase] = np.mean(np.array(accsPerPass))\n",
    "        if scheduler_oclr: LRs.append(scheduler_oclr.get_last_lr())\n",
    "        Losses.append(epochLoss)\n",
    "        Accuracies.append(epochAccs)\n",
    "    \n",
    "        if scheduler_oclr:\n",
    "            save_dict = {\"model_state_dict\"     : model.state_dict(),\n",
    "                         \"optim_state_dict\"     : optimizer.state_dict(),\n",
    "                         \"scheduler_state_dict\" : scheduler_oclr.state_dict()}\n",
    "        \n",
    "        elif scheduler_rlrop:\n",
    "            save_dict = {\"model_state_dict\"     : model.state_dict(),\n",
    "                         \"optim_state_dict\"     : optimizer.state_dict(),\n",
    "                         \"scheduler_state_dict\" : scheduler_rlrop.state_dict()}\n",
    "        \n",
    "        else:\n",
    "            save_dict = {\"model_state_dict\"     : model.state_dict(),\n",
    "                         \"optim_state_dict\"     : optimizer.state_dict()}\n",
    "        \n",
    "        \n",
    "        if early_stopping_patience:\n",
    "            if epochLoss[\"valid\"] < bestLoss[\"valid\"]:\n",
    "                bestLoss = epochLoss\n",
    "                BLE = e + 1\n",
    "                torch.save(save_dict, os.path.join(save_path, ble_name))\n",
    "                early_stopping_step = 0\n",
    "            else:\n",
    "                early_stopping_step += 1\n",
    "                if early_stopping_step > early_stopping_patience:\n",
    "                    print(\"\\nEarly Stopping at Epoch {}\".format(e + 1))\n",
    "                    break\n",
    "        \n",
    "        if epochLoss[\"valid\"] < bestLoss[\"valid\"]:\n",
    "            bestLoss = epochLoss\n",
    "            BLE = e + 1\n",
    "            torch.save(save_dict,os.path.join(save_path, ble_name))\n",
    "        \n",
    "        if epochAccs[\"valid\"] > bestAccs[\"valid\"]:\n",
    "            bestAccs = epochAccs\n",
    "            BAE = e + 1\n",
    "            torch.save(save_dict,os.path.join(save_path, bae_name))\n",
    "        \n",
    "        if scheduler_rlrop: scheduler_rlrop.step(epochLoss[\"valid\"])\n",
    "        \n",
    "        if verbose:\n",
    "            print(\"Epoch: {} | Train Loss: {:.5f} | Valid Loss: {:.5f} |\\\n",
    " Train Accs: {:.5f} | Valid Accs: {:.5f} | Time: {:.2f} seconds\".format(e+1, \n",
    "                                                                        epochLoss[\"train\"], epochLoss[\"valid\"], \n",
    "                                                                        epochAccs[\"train\"], epochAccs[\"valid\"], \n",
    "                                                                        time()-e_st))\n",
    "\n",
    "    if verbose:                                           \n",
    "        breaker()\n",
    "        print(f\"Best Validation Loss at Epoch {BLE}\")\n",
    "        breaker()\n",
    "        print(f\"Best Validation Accs at Epoch {BAE}\")\n",
    "        breaker()\n",
    "        print(\"Time Taken [{} Epochs] : {:.2f} minutes\".format(len(Losses), (time()-start_time)/60))\n",
    "    \n",
    "    return Losses, Accuracies, LRs, BLE, BAE, ble_name, bae_name\n",
    "    \n",
    "\n",
    "def predict_batch(\n",
    "    model=None, \n",
    "    dataloader=None, \n",
    "    path=None, \n",
    "    device=None\n",
    ") -> np.ndarray:\n",
    "    \n",
    "    model.load_state_dict(torch.load(path, map_location=device)[\"model_state_dict\"])\n",
    "    model.to(device)    \n",
    "    model.eval()\n",
    "    \n",
    "    y_pred = torch.zeros(1, 1).to(device)\n",
    "    \n",
    "    for X in dataloader:\n",
    "        X = X.to(device)\n",
    "        with torch.no_grad():\n",
    "            output = torch.argmax(torch.exp(model(X)), dim=1)\n",
    "        y_pred = torch.cat((y_pred, output.view(-1, 1)), dim=0)\n",
    "    \n",
    "    return y_pred[1:].detach().cpu().numpy()"
   ]
  },
  {
   "cell_type": "markdown",
   "id": "a4ac9056",
   "metadata": {
    "papermill": {
     "duration": 0.004306,
     "end_time": "2022-09-16T19:35:15.420227",
     "exception": false,
     "start_time": "2022-09-16T19:35:15.415921",
     "status": "completed"
    },
    "tags": []
   },
   "source": [
    "### **Train**"
   ]
  },
  {
   "cell_type": "code",
   "execution_count": 9,
   "id": "b69fbd05",
   "metadata": {
    "execution": {
     "iopub.execute_input": "2022-09-16T19:35:15.430432Z",
     "iopub.status.busy": "2022-09-16T19:35:15.429675Z",
     "iopub.status.idle": "2022-09-16T19:35:15.440779Z",
     "shell.execute_reply": "2022-09-16T19:35:15.439760Z"
    },
    "papermill": {
     "duration": 0.018612,
     "end_time": "2022-09-16T19:35:15.443141",
     "exception": false,
     "start_time": "2022-09-16T19:35:15.424529",
     "status": "completed"
    },
    "tags": []
   },
   "outputs": [],
   "source": [
    "df = pd.read_csv(\"../input/com3025-2022-challenge-week2-and-3-extend-extend/train.csv\")\n",
    "\n",
    "filenames = df.file_path.copy().values\n",
    "labels = df.iloc[:, 1:].copy().values"
   ]
  },
  {
   "cell_type": "code",
   "execution_count": 10,
   "id": "caebec40",
   "metadata": {
    "execution": {
     "iopub.execute_input": "2022-09-16T19:35:15.453411Z",
     "iopub.status.busy": "2022-09-16T19:35:15.453143Z",
     "iopub.status.idle": "2022-09-16T21:17:49.153258Z",
     "shell.execute_reply": "2022-09-16T21:17:49.152052Z"
    },
    "papermill": {
     "duration": 6153.708176,
     "end_time": "2022-09-16T21:17:49.155534",
     "exception": false,
     "start_time": "2022-09-16T19:35:15.447358",
     "status": "completed"
    },
    "tags": []
   },
   "outputs": [
    {
     "name": "stderr",
     "output_type": "stream",
     "text": [
      "Downloading: \"https://download.pytorch.org/models/densenet169-b2777c0a.pth\" to /root/.cache/torch/hub/checkpoints/densenet169-b2777c0a.pth\n"
     ]
    },
    {
     "data": {
      "application/vnd.jupyter.widget-view+json": {
       "model_id": "78987afcaf5f42b698d29ac399e76d24",
       "version_major": 2,
       "version_minor": 0
      },
      "text/plain": [
       "  0%|          | 0.00/54.7M [00:00<?, ?B/s]"
      ]
     },
     "metadata": {},
     "output_type": "display_data"
    },
    {
     "name": "stdout",
     "output_type": "stream",
     "text": [
      "\n",
      "**************************************************\n",
      "\n",
      "Training Fold 1...\n",
      "\n",
      "**************************************************\n",
      "\n",
      "Epoch: 1 | Train Loss: 4.57636 | Valid Loss: 4.16455 | Train Accs: 0.04228 | Valid Accs: 0.22115 | Time: 107.93 seconds\n",
      "Epoch: 2 | Train Loss: 3.30140 | Valid Loss: 1.64048 | Train Accs: 0.41360 | Valid Accs: 0.62740 | Time: 82.36 seconds\n",
      "Epoch: 3 | Train Loss: 1.79900 | Valid Loss: 2.39472 | Train Accs: 0.64951 | Valid Accs: 0.42308 | Time: 81.62 seconds\n",
      "Epoch: 4 | Train Loss: 1.58572 | Valid Loss: 2.02347 | Train Accs: 0.61887 | Valid Accs: 0.47837 | Time: 82.59 seconds\n",
      "Epoch: 5 | Train Loss: 1.21055 | Valid Loss: 1.55727 | Train Accs: 0.68260 | Valid Accs: 0.59135 | Time: 82.10 seconds\n",
      "Epoch: 6 | Train Loss: 0.97346 | Valid Loss: 1.17208 | Train Accs: 0.73652 | Valid Accs: 0.71154 | Time: 83.94 seconds\n",
      "Epoch: 7 | Train Loss: 0.67209 | Valid Loss: 0.66677 | Train Accs: 0.83395 | Valid Accs: 0.82452 | Time: 82.39 seconds\n",
      "Epoch: 8 | Train Loss: 0.57051 | Valid Loss: 0.89248 | Train Accs: 0.84620 | Valid Accs: 0.77163 | Time: 82.73 seconds\n",
      "Epoch: 9 | Train Loss: 0.46544 | Valid Loss: 0.52308 | Train Accs: 0.87255 | Valid Accs: 0.86058 | Time: 84.19 seconds\n",
      "Epoch: 10 | Train Loss: 0.32299 | Valid Loss: 0.42253 | Train Accs: 0.90931 | Valid Accs: 0.88702 | Time: 83.32 seconds\n",
      "Epoch: 11 | Train Loss: 0.20897 | Valid Loss: 0.42701 | Train Accs: 0.94914 | Valid Accs: 0.89423 | Time: 83.31 seconds\n",
      "Epoch: 12 | Train Loss: 0.17718 | Valid Loss: 0.52825 | Train Accs: 0.95772 | Valid Accs: 0.87019 | Time: 82.18 seconds\n",
      "Epoch: 13 | Train Loss: 0.11121 | Valid Loss: 0.37550 | Train Accs: 0.97365 | Valid Accs: 0.91106 | Time: 82.43 seconds\n",
      "Epoch: 14 | Train Loss: 0.07245 | Valid Loss: 0.25637 | Train Accs: 0.98775 | Valid Accs: 0.93990 | Time: 83.85 seconds\n",
      "Epoch: 15 | Train Loss: 0.07078 | Valid Loss: 0.29810 | Train Accs: 0.98407 | Valid Accs: 0.91827 | Time: 82.21 seconds\n",
      "Epoch: 16 | Train Loss: 0.05473 | Valid Loss: 0.22564 | Train Accs: 0.99020 | Valid Accs: 0.93990 | Time: 82.46 seconds\n",
      "Epoch: 17 | Train Loss: 0.04060 | Valid Loss: 0.23422 | Train Accs: 0.99081 | Valid Accs: 0.94712 | Time: 83.49 seconds\n",
      "Epoch: 18 | Train Loss: 0.02572 | Valid Loss: 0.23147 | Train Accs: 0.99632 | Valid Accs: 0.93990 | Time: 81.57 seconds\n",
      "Epoch: 19 | Train Loss: 0.01973 | Valid Loss: 0.20168 | Train Accs: 0.99816 | Valid Accs: 0.94712 | Time: 82.31 seconds\n",
      "Epoch: 20 | Train Loss: 0.01193 | Valid Loss: 0.19830 | Train Accs: 1.00000 | Valid Accs: 0.94952 | Time: 82.46 seconds\n",
      "Epoch: 21 | Train Loss: 0.01484 | Valid Loss: 0.22104 | Train Accs: 0.99694 | Valid Accs: 0.95192 | Time: 83.99 seconds\n",
      "Epoch: 22 | Train Loss: 0.00873 | Valid Loss: 0.22849 | Train Accs: 1.00000 | Valid Accs: 0.94231 | Time: 81.96 seconds\n",
      "Epoch: 23 | Train Loss: 0.01197 | Valid Loss: 0.21302 | Train Accs: 0.99939 | Valid Accs: 0.93990 | Time: 81.75 seconds\n",
      "Epoch: 24 | Train Loss: 0.01008 | Valid Loss: 0.21965 | Train Accs: 1.00000 | Valid Accs: 0.95192 | Time: 82.21 seconds\n",
      "Epoch: 25 | Train Loss: 0.01114 | Valid Loss: 0.20187 | Train Accs: 0.99939 | Valid Accs: 0.94952 | Time: 82.31 seconds\n",
      "\n",
      "**************************************************\n",
      "\n",
      "Best Validation Loss at Epoch 20\n",
      "\n",
      "**************************************************\n",
      "\n",
      "Best Validation Accs at Epoch 21\n",
      "\n",
      "**************************************************\n",
      "\n",
      "Time Taken [25 Epochs] : 34.86 minutes\n",
      "\n",
      "**************************************************\n",
      "\n"
     ]
    },
    {
     "data": {
      "image/png": "[encoded data removed]",
      "text/plain": [
       "<Figure size 432x288 with 1 Axes>"
      ]
     },
     "metadata": {
      "needs_background": "light"
     },
     "output_type": "display_data"
    },
    {
     "name": "stdout",
     "output_type": "stream",
     "text": [
      "\n",
      "**************************************************\n",
      "\n"
     ]
    },
    {
     "data": {
      "image/png": "[encoded data removed]",
      "text/plain": [
       "<Figure size 432x288 with 1 Axes>"
      ]
     },
     "metadata": {
      "needs_background": "light"
     },
     "output_type": "display_data"
    },
    {
     "name": "stdout",
     "output_type": "stream",
     "text": [
      "\n",
      "**************************************************\n",
      "\n"
     ]
    },
    {
     "data": {
      "image/png": "[encoded data removed]",
      "text/plain": [
       "<Figure size 576x432 with 1 Axes>"
      ]
     },
     "metadata": {
      "needs_background": "light"
     },
     "output_type": "display_data"
    },
    {
     "name": "stdout",
     "output_type": "stream",
     "text": [
      "\n",
      "**************************************************\n",
      "\n",
      "\n",
      "**************************************************\n",
      "\n",
      "Training Fold 2...\n",
      "\n",
      "**************************************************\n",
      "\n",
      "Epoch: 1 | Train Loss: 4.64216 | Valid Loss: 4.45650 | Train Accs: 0.01683 | Valid Accs: 0.05952 | Time: 41.44 seconds\n",
      "Epoch: 2 | Train Loss: 3.78993 | Valid Loss: 2.48779 | Train Accs: 0.38221 | Valid Accs: 0.64509 | Time: 41.42 seconds\n",
      "Epoch: 3 | Train Loss: 1.94661 | Valid Loss: 1.24061 | Train Accs: 0.74099 | Valid Accs: 0.74330 | Time: 41.35 seconds\n",
      "Epoch: 4 | Train Loss: 0.88118 | Valid Loss: 1.87131 | Train Accs: 0.84796 | Valid Accs: 0.55804 | Time: 41.35 seconds\n",
      "Epoch: 5 | Train Loss: 0.69824 | Valid Loss: 1.17963 | Train Accs: 0.83834 | Valid Accs: 0.69196 | Time: 40.25 seconds\n",
      "Epoch: 6 | Train Loss: 0.57748 | Valid Loss: 1.23125 | Train Accs: 0.86298 | Valid Accs: 0.69271 | Time: 40.53 seconds\n",
      "Epoch: 7 | Train Loss: 0.47039 | Valid Loss: 1.60576 | Train Accs: 0.87981 | Valid Accs: 0.60417 | Time: 40.34 seconds\n",
      "Epoch: 8 | Train Loss: 0.38883 | Valid Loss: 0.82167 | Train Accs: 0.90204 | Valid Accs: 0.78274 | Time: 42.04 seconds\n",
      "Epoch: 9 | Train Loss: 0.24409 | Valid Loss: 0.62073 | Train Accs: 0.94231 | Valid Accs: 0.81696 | Time: 41.71 seconds\n",
      "Epoch: 10 | Train Loss: 0.17956 | Valid Loss: 0.42809 | Train Accs: 0.95913 | Valid Accs: 0.87574 | Time: 41.58 seconds\n",
      "Epoch: 11 | Train Loss: 0.11294 | Valid Loss: 0.31118 | Train Accs: 0.97356 | Valid Accs: 0.90253 | Time: 42.27 seconds\n",
      "Epoch: 12 | Train Loss: 0.10928 | Valid Loss: 0.35058 | Train Accs: 0.97055 | Valid Accs: 0.91369 | Time: 41.29 seconds\n",
      "Epoch: 13 | Train Loss: 0.08007 | Valid Loss: 0.40561 | Train Accs: 0.98377 | Valid Accs: 0.88542 | Time: 40.49 seconds\n",
      "Epoch: 14 | Train Loss: 0.04631 | Valid Loss: 0.22522 | Train Accs: 0.99099 | Valid Accs: 0.93899 | Time: 41.37 seconds\n",
      "Epoch: 15 | Train Loss: 0.03240 | Valid Loss: 0.33587 | Train Accs: 0.99519 | Valid Accs: 0.91295 | Time: 40.39 seconds\n",
      "Epoch: 16 | Train Loss: 0.02021 | Valid Loss: 0.26397 | Train Accs: 0.99760 | Valid Accs: 0.93006 | Time: 39.90 seconds\n",
      "Epoch: 17 | Train Loss: 0.02499 | Valid Loss: 0.23049 | Train Accs: 0.99639 | Valid Accs: 0.92560 | Time: 39.78 seconds\n",
      "Epoch: 18 | Train Loss: 0.01981 | Valid Loss: 0.21736 | Train Accs: 0.99700 | Valid Accs: 0.94122 | Time: 41.61 seconds\n",
      "Epoch: 19 | Train Loss: 0.01350 | Valid Loss: 0.25422 | Train Accs: 0.99760 | Valid Accs: 0.92188 | Time: 39.94 seconds\n",
      "Epoch: 20 | Train Loss: 0.00979 | Valid Loss: 0.26303 | Train Accs: 0.99880 | Valid Accs: 0.92411 | Time: 40.27 seconds\n",
      "Epoch: 21 | Train Loss: 0.00969 | Valid Loss: 0.24647 | Train Accs: 0.99940 | Valid Accs: 0.92411 | Time: 40.56 seconds\n",
      "Epoch: 22 | Train Loss: 0.00891 | Valid Loss: 0.23460 | Train Accs: 0.99940 | Valid Accs: 0.92783 | Time: 39.90 seconds\n",
      "Epoch: 23 | Train Loss: 0.00774 | Valid Loss: 0.23433 | Train Accs: 0.99940 | Valid Accs: 0.93006 | Time: 39.65 seconds\n",
      "\n",
      "Early Stopping at Epoch 24\n",
      "\n",
      "**************************************************\n",
      "\n",
      "Best Validation Loss at Epoch 18\n",
      "\n",
      "**************************************************\n",
      "\n",
      "Best Validation Accs at Epoch 18\n",
      "\n",
      "**************************************************\n",
      "\n",
      "Time Taken [24 Epochs] : 16.32 minutes\n",
      "\n",
      "**************************************************\n",
      "\n"
     ]
    },
    {
     "data": {
      "image/png": "[encoded data removed]",
      "text/plain": [
       "<Figure size 432x288 with 1 Axes>"
      ]
     },
     "metadata": {
      "needs_background": "light"
     },
     "output_type": "display_data"
    },
    {
     "name": "stdout",
     "output_type": "stream",
     "text": [
      "\n",
      "**************************************************\n",
      "\n"
     ]
    },
    {
     "data": {
      "image/png": "[encoded data removed]",
      "text/plain": [
       "<Figure size 432x288 with 1 Axes>"
      ]
     },
     "metadata": {
      "needs_background": "light"
     },
     "output_type": "display_data"
    },
    {
     "name": "stdout",
     "output_type": "stream",
     "text": [
      "\n",
      "**************************************************\n",
      "\n"
     ]
    },
    {
     "data": {
      "image/png": "[encoded data removed]",
      "text/plain": [
       "<Figure size 576x432 with 1 Axes>"
      ]
     },
     "metadata": {
      "needs_background": "light"
     },
     "output_type": "display_data"
    },
    {
     "name": "stdout",
     "output_type": "stream",
     "text": [
      "\n",
      "**************************************************\n",
      "\n",
      "\n",
      "**************************************************\n",
      "\n",
      "Training Fold 3...\n",
      "\n",
      "**************************************************\n",
      "\n",
      "Epoch: 1 | Train Loss: 4.63534 | Valid Loss: 4.43503 | Train Accs: 0.01322 | Valid Accs: 0.06622 | Time: 41.17 seconds\n",
      "Epoch: 2 | Train Loss: 3.79466 | Valid Loss: 2.50061 | Train Accs: 0.36538 | Valid Accs: 0.61012 | Time: 40.57 seconds\n",
      "Epoch: 3 | Train Loss: 1.94409 | Valid Loss: 1.21239 | Train Accs: 0.74038 | Valid Accs: 0.75967 | Time: 41.28 seconds\n",
      "Epoch: 4 | Train Loss: 0.87402 | Valid Loss: 1.75397 | Train Accs: 0.84736 | Valid Accs: 0.59301 | Time: 40.20 seconds\n",
      "Epoch: 5 | Train Loss: 0.63711 | Valid Loss: 1.39051 | Train Accs: 0.86659 | Valid Accs: 0.62798 | Time: 40.18 seconds\n",
      "Epoch: 6 | Train Loss: 0.55007 | Valid Loss: 1.47023 | Train Accs: 0.87139 | Valid Accs: 0.64955 | Time: 40.68 seconds\n",
      "Epoch: 7 | Train Loss: 0.46698 | Valid Loss: 1.05938 | Train Accs: 0.88161 | Valid Accs: 0.69271 | Time: 40.86 seconds\n",
      "Epoch: 8 | Train Loss: 0.32514 | Valid Loss: 0.81882 | Train Accs: 0.91466 | Valid Accs: 0.80357 | Time: 41.92 seconds\n",
      "Epoch: 9 | Train Loss: 0.26686 | Valid Loss: 0.69523 | Train Accs: 0.93029 | Valid Accs: 0.80952 | Time: 40.93 seconds\n",
      "Epoch: 10 | Train Loss: 0.19833 | Valid Loss: 0.44760 | Train Accs: 0.94712 | Valid Accs: 0.85342 | Time: 41.64 seconds\n",
      "Epoch: 11 | Train Loss: 0.12905 | Valid Loss: 0.40035 | Train Accs: 0.96514 | Valid Accs: 0.89062 | Time: 42.37 seconds\n",
      "Epoch: 12 | Train Loss: 0.11971 | Valid Loss: 0.41417 | Train Accs: 0.97356 | Valid Accs: 0.88690 | Time: 40.38 seconds\n",
      "Epoch: 13 | Train Loss: 0.07553 | Valid Loss: 0.42834 | Train Accs: 0.97957 | Valid Accs: 0.90253 | Time: 40.89 seconds\n",
      "Epoch: 14 | Train Loss: 0.05061 | Valid Loss: 0.28531 | Train Accs: 0.99038 | Valid Accs: 0.90848 | Time: 42.24 seconds\n",
      "Epoch: 15 | Train Loss: 0.03522 | Valid Loss: 0.28772 | Train Accs: 0.99459 | Valid Accs: 0.91369 | Time: 40.89 seconds\n",
      "Epoch: 16 | Train Loss: 0.02214 | Valid Loss: 0.30469 | Train Accs: 0.99760 | Valid Accs: 0.91815 | Time: 40.91 seconds\n",
      "Epoch: 17 | Train Loss: 0.01605 | Valid Loss: 0.27854 | Train Accs: 0.99760 | Valid Accs: 0.92485 | Time: 41.74 seconds\n",
      "Epoch: 18 | Train Loss: 0.01004 | Valid Loss: 0.24804 | Train Accs: 0.99940 | Valid Accs: 0.93378 | Time: 42.05 seconds\n",
      "Epoch: 19 | Train Loss: 0.00948 | Valid Loss: 0.26155 | Train Accs: 0.99940 | Valid Accs: 0.93750 | Time: 41.10 seconds\n",
      "Epoch: 20 | Train Loss: 0.00945 | Valid Loss: 0.22935 | Train Accs: 0.99880 | Valid Accs: 0.93750 | Time: 41.20 seconds\n",
      "Epoch: 21 | Train Loss: 0.00916 | Valid Loss: 0.23758 | Train Accs: 0.99940 | Valid Accs: 0.93304 | Time: 41.10 seconds\n",
      "Epoch: 22 | Train Loss: 0.00673 | Valid Loss: 0.23265 | Train Accs: 0.99940 | Valid Accs: 0.93304 | Time: 39.91 seconds\n",
      "Epoch: 23 | Train Loss: 0.00612 | Valid Loss: 0.24287 | Train Accs: 0.99940 | Valid Accs: 0.93304 | Time: 40.69 seconds\n",
      "Epoch: 24 | Train Loss: 0.00948 | Valid Loss: 0.24583 | Train Accs: 0.99820 | Valid Accs: 0.93304 | Time: 40.25 seconds\n",
      "Epoch: 25 | Train Loss: 0.00687 | Valid Loss: 0.23952 | Train Accs: 0.99940 | Valid Accs: 0.93527 | Time: 40.35 seconds\n",
      "\n",
      "**************************************************\n",
      "\n",
      "Best Validation Loss at Epoch 20\n",
      "\n",
      "**************************************************\n",
      "\n",
      "Best Validation Accs at Epoch 19\n",
      "\n",
      "**************************************************\n",
      "\n",
      "Time Taken [25 Epochs] : 17.09 minutes\n",
      "\n",
      "**************************************************\n",
      "\n"
     ]
    },
    {
     "data": {
      "image/png": "[encoded data removed]",
      "text/plain": [
       "<Figure size 432x288 with 1 Axes>"
      ]
     },
     "metadata": {
      "needs_background": "light"
     },
     "output_type": "display_data"
    },
    {
     "name": "stdout",
     "output_type": "stream",
     "text": [
      "\n",
      "**************************************************\n",
      "\n"
     ]
    },
    {
     "data": {
      "image/png": "[encoded data removed]",
      "text/plain": [
       "<Figure size 432x288 with 1 Axes>"
      ]
     },
     "metadata": {
      "needs_background": "light"
     },
     "output_type": "display_data"
    },
    {
     "name": "stdout",
     "output_type": "stream",
     "text": [
      "\n",
      "**************************************************\n",
      "\n"
     ]
    },
    {
     "data": {
      "image/png": "[encoded data removed]",
      "text/plain": [
       "<Figure size 576x432 with 1 Axes>"
      ]
     },
     "metadata": {
      "needs_background": "light"
     },
     "output_type": "display_data"
    },
    {
     "name": "stdout",
     "output_type": "stream",
     "text": [
      "\n",
      "**************************************************\n",
      "\n",
      "\n",
      "**************************************************\n",
      "\n",
      "Training Fold 4...\n",
      "\n",
      "**************************************************\n",
      "\n",
      "Epoch: 1 | Train Loss: 4.64347 | Valid Loss: 4.42744 | Train Accs: 0.01382 | Valid Accs: 0.08259 | Time: 40.90 seconds\n",
      "Epoch: 2 | Train Loss: 3.80757 | Valid Loss: 2.50536 | Train Accs: 0.34976 | Valid Accs: 0.65923 | Time: 41.86 seconds\n",
      "Epoch: 3 | Train Loss: 1.92600 | Valid Loss: 1.21680 | Train Accs: 0.75120 | Valid Accs: 0.73214 | Time: 41.77 seconds\n",
      "Epoch: 4 | Train Loss: 0.88415 | Valid Loss: 1.45962 | Train Accs: 0.84736 | Valid Accs: 0.69494 | Time: 40.10 seconds\n",
      "Epoch: 5 | Train Loss: 0.63841 | Valid Loss: 1.16199 | Train Accs: 0.86779 | Valid Accs: 0.69866 | Time: 40.46 seconds\n",
      "Epoch: 6 | Train Loss: 0.58805 | Valid Loss: 1.38286 | Train Accs: 0.86238 | Valid Accs: 0.65774 | Time: 39.53 seconds\n",
      "Epoch: 7 | Train Loss: 0.46642 | Valid Loss: 0.89444 | Train Accs: 0.88522 | Valid Accs: 0.78795 | Time: 41.31 seconds\n",
      "Epoch: 8 | Train Loss: 0.35091 | Valid Loss: 0.63505 | Train Accs: 0.91406 | Valid Accs: 0.84152 | Time: 41.26 seconds\n",
      "Epoch: 9 | Train Loss: 0.23774 | Valid Loss: 0.63865 | Train Accs: 0.94351 | Valid Accs: 0.82217 | Time: 40.08 seconds\n",
      "Epoch: 10 | Train Loss: 0.15307 | Valid Loss: 0.62140 | Train Accs: 0.96154 | Valid Accs: 0.83705 | Time: 41.44 seconds\n",
      "Epoch: 11 | Train Loss: 0.14356 | Valid Loss: 0.62429 | Train Accs: 0.96334 | Valid Accs: 0.82887 | Time: 40.39 seconds\n",
      "Epoch: 12 | Train Loss: 0.12929 | Valid Loss: 0.49062 | Train Accs: 0.96755 | Valid Accs: 0.85342 | Time: 41.55 seconds\n",
      "Epoch: 13 | Train Loss: 0.10853 | Valid Loss: 0.47203 | Train Accs: 0.97476 | Valid Accs: 0.86310 | Time: 41.17 seconds\n",
      "Epoch: 14 | Train Loss: 0.08058 | Valid Loss: 0.37939 | Train Accs: 0.97897 | Valid Accs: 0.89137 | Time: 41.87 seconds\n",
      "Epoch: 15 | Train Loss: 0.05689 | Valid Loss: 0.44473 | Train Accs: 0.98918 | Valid Accs: 0.91071 | Time: 41.10 seconds\n",
      "Epoch: 16 | Train Loss: 0.03777 | Valid Loss: 0.33599 | Train Accs: 0.99219 | Valid Accs: 0.92113 | Time: 41.85 seconds\n",
      "Epoch: 17 | Train Loss: 0.02564 | Valid Loss: 0.35684 | Train Accs: 0.99579 | Valid Accs: 0.93452 | Time: 41.51 seconds\n",
      "Epoch: 18 | Train Loss: 0.01395 | Valid Loss: 0.33280 | Train Accs: 0.99880 | Valid Accs: 0.92783 | Time: 40.81 seconds\n",
      "Epoch: 19 | Train Loss: 0.01105 | Valid Loss: 0.31006 | Train Accs: 1.00000 | Valid Accs: 0.93452 | Time: 41.04 seconds\n",
      "Epoch: 20 | Train Loss: 0.00982 | Valid Loss: 0.30764 | Train Accs: 0.99820 | Valid Accs: 0.93676 | Time: 42.30 seconds\n",
      "Epoch: 21 | Train Loss: 0.00670 | Valid Loss: 0.30992 | Train Accs: 1.00000 | Valid Accs: 0.93452 | Time: 40.35 seconds\n",
      "Epoch: 22 | Train Loss: 0.00780 | Valid Loss: 0.30959 | Train Accs: 0.99880 | Valid Accs: 0.93676 | Time: 40.12 seconds\n",
      "Epoch: 23 | Train Loss: 0.00897 | Valid Loss: 0.30568 | Train Accs: 0.99880 | Valid Accs: 0.93676 | Time: 41.39 seconds\n",
      "Epoch: 24 | Train Loss: 0.00658 | Valid Loss: 0.30133 | Train Accs: 1.00000 | Valid Accs: 0.93676 | Time: 41.14 seconds\n",
      "Epoch: 25 | Train Loss: 0.00607 | Valid Loss: 0.30602 | Train Accs: 1.00000 | Valid Accs: 0.93676 | Time: 40.06 seconds\n",
      "\n",
      "**************************************************\n",
      "\n",
      "Best Validation Loss at Epoch 24\n",
      "\n",
      "**************************************************\n",
      "\n",
      "Best Validation Accs at Epoch 20\n",
      "\n",
      "**************************************************\n",
      "\n",
      "Time Taken [25 Epochs] : 17.09 minutes\n",
      "\n",
      "**************************************************\n",
      "\n"
     ]
    },
    {
     "data": {
      "image/png": "[encoded data removed]",
      "text/plain": [
       "<Figure size 432x288 with 1 Axes>"
      ]
     },
     "metadata": {
      "needs_background": "light"
     },
     "output_type": "display_data"
    },
    {
     "name": "stdout",
     "output_type": "stream",
     "text": [
      "\n",
      "**************************************************\n",
      "\n"
     ]
    },
    {
     "data": {
      "image/png": "[encoded data removed]",
      "text/plain": [
       "<Figure size 432x288 with 1 Axes>"
      ]
     },
     "metadata": {
      "needs_background": "light"
     },
     "output_type": "display_data"
    },
    {
     "name": "stdout",
     "output_type": "stream",
     "text": [
      "\n",
      "**************************************************\n",
      "\n"
     ]
    },
    {
     "data": {
      "image/png": "[encoded data removed]",
      "text/plain": [
       "<Figure size 576x432 with 1 Axes>"
      ]
     },
     "metadata": {
      "needs_background": "light"
     },
     "output_type": "display_data"
    },
    {
     "name": "stdout",
     "output_type": "stream",
     "text": [
      "\n",
      "**************************************************\n",
      "\n",
      "\n",
      "**************************************************\n",
      "\n",
      "Training Fold 5...\n",
      "\n",
      "**************************************************\n",
      "\n",
      "Epoch: 1 | Train Loss: 4.63804 | Valid Loss: 4.43386 | Train Accs: 0.01863 | Valid Accs: 0.06994 | Time: 41.09 seconds\n",
      "Epoch: 2 | Train Loss: 3.76887 | Valid Loss: 2.54771 | Train Accs: 0.39002 | Valid Accs: 0.58705 | Time: 42.16 seconds\n",
      "Epoch: 3 | Train Loss: 1.89330 | Valid Loss: 1.25182 | Train Accs: 0.76082 | Valid Accs: 0.72396 | Time: 41.35 seconds\n",
      "Epoch: 4 | Train Loss: 0.87997 | Valid Loss: 1.43388 | Train Accs: 0.83834 | Valid Accs: 0.64807 | Time: 40.37 seconds\n",
      "Epoch: 5 | Train Loss: 0.67883 | Valid Loss: 1.43392 | Train Accs: 0.85216 | Valid Accs: 0.63690 | Time: 40.31 seconds\n",
      "Epoch: 6 | Train Loss: 0.58984 | Valid Loss: 1.19467 | Train Accs: 0.86899 | Valid Accs: 0.68006 | Time: 40.58 seconds\n",
      "Epoch: 7 | Train Loss: 0.50301 | Valid Loss: 1.17134 | Train Accs: 0.86959 | Valid Accs: 0.69866 | Time: 40.77 seconds\n",
      "Epoch: 8 | Train Loss: 0.34626 | Valid Loss: 0.82912 | Train Accs: 0.92188 | Valid Accs: 0.78274 | Time: 40.44 seconds\n",
      "Epoch: 9 | Train Loss: 0.21077 | Valid Loss: 0.55278 | Train Accs: 0.94712 | Valid Accs: 0.84375 | Time: 41.63 seconds\n",
      "Epoch: 10 | Train Loss: 0.16208 | Valid Loss: 0.52957 | Train Accs: 0.96635 | Valid Accs: 0.85863 | Time: 40.71 seconds\n",
      "Epoch: 11 | Train Loss: 0.09255 | Valid Loss: 0.36671 | Train Accs: 0.97897 | Valid Accs: 0.89360 | Time: 40.89 seconds\n",
      "Epoch: 12 | Train Loss: 0.07607 | Valid Loss: 0.33515 | Train Accs: 0.98558 | Valid Accs: 0.90848 | Time: 40.86 seconds\n",
      "Epoch: 13 | Train Loss: 0.05502 | Valid Loss: 0.46199 | Train Accs: 0.98678 | Valid Accs: 0.87426 | Time: 39.78 seconds\n",
      "Epoch: 14 | Train Loss: 0.06549 | Valid Loss: 0.31836 | Train Accs: 0.98618 | Valid Accs: 0.91071 | Time: 41.22 seconds\n",
      "Epoch: 15 | Train Loss: 0.05368 | Valid Loss: 0.28027 | Train Accs: 0.98978 | Valid Accs: 0.92113 | Time: 40.88 seconds\n",
      "Epoch: 16 | Train Loss: 0.03141 | Valid Loss: 0.28729 | Train Accs: 0.99339 | Valid Accs: 0.92783 | Time: 40.39 seconds\n",
      "Epoch: 17 | Train Loss: 0.02028 | Valid Loss: 0.24343 | Train Accs: 0.99820 | Valid Accs: 0.92783 | Time: 40.27 seconds\n",
      "Epoch: 18 | Train Loss: 0.01037 | Valid Loss: 0.22064 | Train Accs: 1.00000 | Valid Accs: 0.93899 | Time: 40.45 seconds\n",
      "Epoch: 19 | Train Loss: 0.00762 | Valid Loss: 0.21187 | Train Accs: 1.00000 | Valid Accs: 0.93676 | Time: 40.24 seconds\n",
      "Epoch: 20 | Train Loss: 0.01083 | Valid Loss: 0.20397 | Train Accs: 0.99820 | Valid Accs: 0.94494 | Time: 41.16 seconds\n",
      "Epoch: 21 | Train Loss: 0.00797 | Valid Loss: 0.19401 | Train Accs: 1.00000 | Valid Accs: 0.95164 | Time: 40.60 seconds\n",
      "Epoch: 22 | Train Loss: 0.00819 | Valid Loss: 0.19616 | Train Accs: 0.99940 | Valid Accs: 0.95164 | Time: 39.34 seconds\n",
      "Epoch: 23 | Train Loss: 0.00671 | Valid Loss: 0.19827 | Train Accs: 0.99940 | Valid Accs: 0.95164 | Time: 40.48 seconds\n",
      "Epoch: 24 | Train Loss: 0.00683 | Valid Loss: 0.19599 | Train Accs: 1.00000 | Valid Accs: 0.95164 | Time: 39.04 seconds\n",
      "Epoch: 25 | Train Loss: 0.00731 | Valid Loss: 0.19985 | Train Accs: 0.99940 | Valid Accs: 0.95387 | Time: 40.28 seconds\n",
      "\n",
      "**************************************************\n",
      "\n",
      "Best Validation Loss at Epoch 21\n",
      "\n",
      "**************************************************\n",
      "\n",
      "Best Validation Accs at Epoch 25\n",
      "\n",
      "**************************************************\n",
      "\n",
      "Time Taken [25 Epochs] : 16.92 minutes\n",
      "\n",
      "**************************************************\n",
      "\n"
     ]
    },
    {
     "data": {
      "image/png": "[encoded data removed]",
      "text/plain": [
       "<Figure size 432x288 with 1 Axes>"
      ]
     },
     "metadata": {
      "needs_background": "light"
     },
     "output_type": "display_data"
    },
    {
     "name": "stdout",
     "output_type": "stream",
     "text": [
      "\n",
      "**************************************************\n",
      "\n"
     ]
    },
    {
     "data": {
      "image/png": "[encoded data removed]",
      "text/plain": [
       "<Figure size 432x288 with 1 Axes>"
      ]
     },
     "metadata": {
      "needs_background": "light"
     },
     "output_type": "display_data"
    },
    {
     "name": "stdout",
     "output_type": "stream",
     "text": [
      "\n",
      "**************************************************\n",
      "\n"
     ]
    },
    {
     "data": {
      "image/png": "[encoded data removed]",
      "text/plain": [
       "<Figure size 576x432 with 1 Axes>"
      ]
     },
     "metadata": {
      "needs_background": "light"
     },
     "output_type": "display_data"
    },
    {
     "name": "stdout",
     "output_type": "stream",
     "text": [
      "\n",
      "**************************************************\n",
      "\n"
     ]
    }
   ],
   "source": [
    "fold: int = 1\n",
    "BLEs: list = []\n",
    "BAEs: list = []\n",
    "\n",
    "for tr_idx, va_idx in StratifiedKFold(n_splits=cfg.n_splits, random_state=cfg.seed, shuffle=True).split(filenames, labels):\n",
    "\n",
    "    tr_filenames, va_filenames = filenames[tr_idx], filenames[va_idx] \n",
    "    tr_labels, va_labels       = labels[tr_idx], labels[va_idx]\n",
    "    \n",
    "    tr_data_setup = DS(\n",
    "        base_path=\"../input/com3025-2022-challenge-week2-and-3-extend-extend\", \n",
    "        filenames=tr_filenames, \n",
    "        labels=tr_labels.reshape(-1, 1),\n",
    "        size=cfg.size,\n",
    "        transform=cfg.train_transform\n",
    "    )\n",
    "    \n",
    "    va_data_setup = DS(\n",
    "        base_path=\"../input/com3025-2022-challenge-week2-and-3-extend-extend\", \n",
    "        filenames=va_filenames, \n",
    "        labels=va_labels.reshape(-1, 1),\n",
    "        size=cfg.size,\n",
    "        transform=cfg.valid_transform\n",
    "    )\n",
    "\n",
    "    dataloaders = {\n",
    "        \"train\" : DL(tr_data_setup, batch_size=cfg.batch_size, shuffle=True, generator=torch.manual_seed(cfg.seed)),\n",
    "        \"valid\" : DL(va_data_setup, batch_size=cfg.batch_size, shuffle=False),\n",
    "    }\n",
    "\n",
    "    cfg = CFG(\n",
    "        epochs=25, \n",
    "        batch_size=64, \n",
    "        early_stopping=5,\n",
    "        steps_per_epoch=len(dataloaders[\"train\"])\n",
    "    )\n",
    "    \n",
    "    torch.manual_seed(cfg.seed)\n",
    "    model = Model().to(cfg.device)\n",
    "\n",
    "    optimizer = optim.Adam([p for p in model.parameters() if p.requires_grad], lr=cfg.lr, weight_decay=cfg.wd)\n",
    "    # optimizer = optim.AdamW([p for p in model.parameters() if p.requires_grad], lr=cfg.lr, weight_decay=cfg.wd)\n",
    "    # optimizer = optim.SGD([p for p in model.parameters() if p.requires_grad], lr=cfg.lr, weight_decay=cfg.wd, momentum=0.9)\n",
    "    \n",
    "    scheduler_oclr = optim.lr_scheduler.OneCycleLR(\n",
    "        optimizer=optimizer, \n",
    "        max_lr=cfg.max_lr, \n",
    "        epochs=cfg.epochs, \n",
    "        steps_per_epoch=cfg.steps_per_epoch,\n",
    "        pct_start=cfg.pct_start, \n",
    "        div_factor=cfg.div_factor, \n",
    "        final_div_factor=cfg.final_div_factor\n",
    "    )\n",
    "\n",
    "    # scheduler_rlrop = optim.lr_scheduler.ReduceLROnPlateau(\n",
    "    #     optimizer=optimizer,\n",
    "    #     patience=cfg.patience,\n",
    "    #     eps=cfg.eps,\n",
    "    #     verbose=True\n",
    "    # )\n",
    "\n",
    "    # scheduler_oclr = None\n",
    "    scheduler_rlrop = None\n",
    "    \n",
    "    L, A, LR, BLE, BAE, _, _ = fit(\n",
    "        model=model, \n",
    "        optimizer=optimizer, \n",
    "        scheduler_oclr=scheduler_oclr,\n",
    "        scheduler_rlrop=scheduler_rlrop,\n",
    "        epochs=cfg.epochs, \n",
    "        early_stopping_patience=cfg.early_stopping, \n",
    "        dataloaders=dataloaders, \n",
    "        device=cfg.device,\n",
    "        save_path=cfg.save_path,\n",
    "        fold=fold,\n",
    "        verbose=True\n",
    "    )\n",
    "    \n",
    "    breaker()\n",
    "    show_loss_graphs(L)\n",
    "    breaker()\n",
    "    show_accuracy_graphs(A)\n",
    "    breaker()\n",
    "    if scheduler_oclr:\n",
    "        show_lr_graph(LR)\n",
    "        breaker()\n",
    "    \n",
    "    BLEs.append(BLE)\n",
    "    BAEs.append(BAE)\n",
    "    \n",
    "    fold += 1"
   ]
  },
  {
   "cell_type": "markdown",
   "id": "1856d3fc",
   "metadata": {
    "papermill": {
     "duration": 0.01596,
     "end_time": "2022-09-16T21:17:49.188872",
     "exception": false,
     "start_time": "2022-09-16T21:17:49.172912",
     "status": "completed"
    },
    "tags": []
   },
   "source": [
    "### **Best Model**"
   ]
  },
  {
   "cell_type": "code",
   "execution_count": 11,
   "id": "3d958d9e",
   "metadata": {
    "execution": {
     "iopub.execute_input": "2022-09-16T21:17:49.225356Z",
     "iopub.status.busy": "2022-09-16T21:17:49.223672Z",
     "iopub.status.idle": "2022-09-16T21:17:49.232454Z",
     "shell.execute_reply": "2022-09-16T21:17:49.231481Z"
    },
    "papermill": {
     "duration": 0.029249,
     "end_time": "2022-09-16T21:17:49.234645",
     "exception": false,
     "start_time": "2022-09-16T21:17:49.205396",
     "status": "completed"
    },
    "tags": []
   },
   "outputs": [
    {
     "name": "stdout",
     "output_type": "stream",
     "text": [
      "\n",
      "**************************************************\n",
      "\n",
      "Best Loss Model Fold     : 2\n",
      "Best Accuracy Model Fold : 5\n",
      "\n",
      "**************************************************\n",
      "\n"
     ]
    }
   ],
   "source": [
    "best_loss_index = BLEs.index(min(BLEs))\n",
    "best_accs_index = BAEs.index(max(BAEs))\n",
    "\n",
    "breaker()\n",
    "print(f\"Best Loss Model Fold     : {best_loss_index + 1}\")\n",
    "print(f\"Best Accuracy Model Fold : {best_accs_index + 1}\")\n",
    "breaker()"
   ]
  }
 ],
 "metadata": {
  "kernelspec": {
   "display_name": "Python 3",
   "language": "python",
   "name": "python3"
  },
  "language_info": {
   "codemirror_mode": {
    "name": "ipython",
    "version": 3
   },
   "file_extension": ".py",
   "mimetype": "text/x-python",
   "name": "python",
   "nbconvert_exporter": "python",
   "pygments_lexer": "ipython3",
   "version": "3.7.12"
  },
  "papermill": {
   "default_parameters": {},
   "duration": 6167.287291,
   "end_time": "2022-09-16T21:17:51.609157",
   "environment_variables": {},
   "exception": null,
   "input_path": "__notebook__.ipynb",
   "output_path": "__notebook__.ipynb",
   "parameters": {},
   "start_time": "2022-09-16T19:35:04.321866",
   "version": "2.3.4"
  },
  "widgets": {
   "application/vnd.jupyter.widget-state+json": {
    "state": {
     "18bfe0c3a3484d5fbe6f554775ec06c5": {
      "model_module": "@jupyter-widgets/base",
      "model_module_version": "1.2.0",
      "model_name": "LayoutModel",
      "state": {
       "_model_module": "@jupyter-widgets/base",
       "_model_module_version": "1.2.0",
       "_model_name": "LayoutModel",
       "_view_count": null,
       "_view_module": "@jupyter-widgets/base",
       "_view_module_version": "1.2.0",
       "_view_name": "LayoutView",
       "align_content": null,
       "align_items": null,
       "align_self": null,
       "border": null,
       "bottom": null,
       "display": null,
       "flex": null,
       "flex_flow": null,
       "grid_area": null,
       "grid_auto_columns": null,
       "grid_auto_flow": null,
       "grid_auto_rows": null,
       "grid_column": null,
       "grid_gap": null,
       "grid_row": null,
       "grid_template_areas": null,
       "grid_template_columns": null,
       "grid_template_rows": null,
       "height": null,
       "justify_content": null,
       "justify_items": null,
       "left": null,
       "margin": null,
       "max_height": null,
       "max_width": null,
       "min_height": null,
       "min_width": null,
       "object_fit": null,
       "object_position": null,
       "order": null,
       "overflow": null,
       "overflow_x": null,
       "overflow_y": null,
       "padding": null,
       "right": null,
       "top": null,
       "visibility": null,
       "width": null
      }
     },
     "282d3e30a3a545029a3027c08e4c1b67": {
      "model_module": "@jupyter-widgets/base",
      "model_module_version": "1.2.0",
      "model_name": "LayoutModel",
      "state": {
       "_model_module": "@jupyter-widgets/base",
       "_model_module_version": "1.2.0",
       "_model_name": "LayoutModel",
       "_view_count": null,
       "_view_module": "@jupyter-widgets/base",
       "_view_module_version": "1.2.0",
       "_view_name": "LayoutView",
       "align_content": null,
       "align_items": null,
       "align_self": null,
       "border": null,
       "bottom": null,
       "display": null,
       "flex": null,
       "flex_flow": null,
       "grid_area": null,
       "grid_auto_columns": null,
       "grid_auto_flow": null,
       "grid_auto_rows": null,
       "grid_column": null,
       "grid_gap": null,
       "grid_row": null,
       "grid_template_areas": null,
       "grid_template_columns": null,
       "grid_template_rows": null,
       "height": null,
       "justify_content": null,
       "justify_items": null,
       "left": null,
       "margin": null,
       "max_height": null,
       "max_width": null,
       "min_height": null,
       "min_width": null,
       "object_fit": null,
       "object_position": null,
       "order": null,
       "overflow": null,
       "overflow_x": null,
       "overflow_y": null,
       "padding": null,
       "right": null,
       "top": null,
       "visibility": null,
       "width": null
      }
     },
     "4bd0e50df5544145b1feecebd069200e": {
      "model_module": "@jupyter-widgets/controls",
      "model_module_version": "1.5.0",
      "model_name": "DescriptionStyleModel",
      "state": {
       "_model_module": "@jupyter-widgets/controls",
       "_model_module_version": "1.5.0",
       "_model_name": "DescriptionStyleModel",
       "_view_count": null,
       "_view_module": "@jupyter-widgets/base",
       "_view_module_version": "1.2.0",
       "_view_name": "StyleView",
       "description_width": ""
      }
     },
     "5004d8dea48049c5aad85f461be478ba": {
      "model_module": "@jupyter-widgets/controls",
      "model_module_version": "1.5.0",
      "model_name": "ProgressStyleModel",
      "state": {
       "_model_module": "@jupyter-widgets/controls",
       "_model_module_version": "1.5.0",
       "_model_name": "ProgressStyleModel",
       "_view_count": null,
       "_view_module": "@jupyter-widgets/base",
       "_view_module_version": "1.2.0",
       "_view_name": "StyleView",
       "bar_color": null,
       "description_width": ""
      }
     },
     "64c886a058cc40abb2758bb81155987c": {
      "model_module": "@jupyter-widgets/controls",
      "model_module_version": "1.5.0",
      "model_name": "HTMLModel",
      "state": {
       "_dom_classes": [],
       "_model_module": "@jupyter-widgets/controls",
       "_model_module_version": "1.5.0",
       "_model_name": "HTMLModel",
       "_view_count": null,
       "_view_module": "@jupyter-widgets/controls",
       "_view_module_version": "1.5.0",
       "_view_name": "HTMLView",
       "description": "",
       "description_tooltip": null,
       "layout": "IPY_MODEL_282d3e30a3a545029a3027c08e4c1b67",
       "placeholder": "​",
       "style": "IPY_MODEL_4bd0e50df5544145b1feecebd069200e",
       "value": " 54.7M/54.7M [00:06&lt;00:00, 12.2MB/s]"
      }
     },
     "78987afcaf5f42b698d29ac399e76d24": {
      "model_module": "@jupyter-widgets/controls",
      "model_module_version": "1.5.0",
      "model_name": "HBoxModel",
      "state": {
       "_dom_classes": [],
       "_model_module": "@jupyter-widgets/controls",
       "_model_module_version": "1.5.0",
       "_model_name": "HBoxModel",
       "_view_count": null,
       "_view_module": "@jupyter-widgets/controls",
       "_view_module_version": "1.5.0",
       "_view_name": "HBoxView",
       "box_style": "",
       "children": [
        "IPY_MODEL_e2f0ead8de954f72baf42c4748fe59d5",
        "IPY_MODEL_dd7b82592a5c490dad9cdb3e1a0a5c67",
        "IPY_MODEL_64c886a058cc40abb2758bb81155987c"
       ],
       "layout": "IPY_MODEL_9d05b844f4fe4c95b5d978a5d0d89f03"
      }
     },
     "9d05b844f4fe4c95b5d978a5d0d89f03": {
      "model_module": "@jupyter-widgets/base",
      "model_module_version": "1.2.0",
      "model_name": "LayoutModel",
      "state": {
       "_model_module": "@jupyter-widgets/base",
       "_model_module_version": "1.2.0",
       "_model_name": "LayoutModel",
       "_view_count": null,
       "_view_module": "@jupyter-widgets/base",
       "_view_module_version": "1.2.0",
       "_view_name": "LayoutView",
       "align_content": null,
       "align_items": null,
       "align_self": null,
       "border": null,
       "bottom": null,
       "display": null,
       "flex": null,
       "flex_flow": null,
       "grid_area": null,
       "grid_auto_columns": null,
       "grid_auto_flow": null,
       "grid_auto_rows": null,
       "grid_column": null,
       "grid_gap": null,
       "grid_row": null,
       "grid_template_areas": null,
       "grid_template_columns": null,
       "grid_template_rows": null,
       "height": null,
       "justify_content": null,
       "justify_items": null,
       "left": null,
       "margin": null,
       "max_height": null,
       "max_width": null,
       "min_height": null,
       "min_width": null,
       "object_fit": null,
       "object_position": null,
       "order": null,
       "overflow": null,
       "overflow_x": null,
       "overflow_y": null,
       "padding": null,
       "right": null,
       "top": null,
       "visibility": null,
       "width": null
      }
     },
     "a78e4f2c956347689e176508dce4fdc6": {
      "model_module": "@jupyter-widgets/controls",
      "model_module_version": "1.5.0",
      "model_name": "DescriptionStyleModel",
      "state": {
       "_model_module": "@jupyter-widgets/controls",
       "_model_module_version": "1.5.0",
       "_model_name": "DescriptionStyleModel",
       "_view_count": null,
       "_view_module": "@jupyter-widgets/base",
       "_view_module_version": "1.2.0",
       "_view_name": "StyleView",
       "description_width": ""
      }
     },
     "c76b14e733d440a3b343404d14829e23": {
      "model_module": "@jupyter-widgets/base",
      "model_module_version": "1.2.0",
      "model_name": "LayoutModel",
      "state": {
       "_model_module": "@jupyter-widgets/base",
       "_model_module_version": "1.2.0",
       "_model_name": "LayoutModel",
       "_view_count": null,
       "_view_module": "@jupyter-widgets/base",
       "_view_module_version": "1.2.0",
       "_view_name": "LayoutView",
       "align_content": null,
       "align_items": null,
       "align_self": null,
       "border": null,
       "bottom": null,
       "display": null,
       "flex": null,
       "flex_flow": null,
       "grid_area": null,
       "grid_auto_columns": null,
       "grid_auto_flow": null,
       "grid_auto_rows": null,
       "grid_column": null,
       "grid_gap": null,
       "grid_row": null,
       "grid_template_areas": null,
       "grid_template_columns": null,
       "grid_template_rows": null,
       "height": null,
       "justify_content": null,
       "justify_items": null,
       "left": null,
       "margin": null,
       "max_height": null,
       "max_width": null,
       "min_height": null,
       "min_width": null,
       "object_fit": null,
       "object_position": null,
       "order": null,
       "overflow": null,
       "overflow_x": null,
       "overflow_y": null,
       "padding": null,
       "right": null,
       "top": null,
       "visibility": null,
       "width": null
      }
     },
     "dd7b82592a5c490dad9cdb3e1a0a5c67": {
      "model_module": "@jupyter-widgets/controls",
      "model_module_version": "1.5.0",
      "model_name": "FloatProgressModel",
      "state": {
       "_dom_classes": [],
       "_model_module": "@jupyter-widgets/controls",
       "_model_module_version": "1.5.0",
       "_model_name": "FloatProgressModel",
       "_view_count": null,
       "_view_module": "@jupyter-widgets/controls",
       "_view_module_version": "1.5.0",
       "_view_name": "ProgressView",
       "bar_style": "success",
       "description": "",
       "description_tooltip": null,
       "layout": "IPY_MODEL_18bfe0c3a3484d5fbe6f554775ec06c5",
       "max": 57365526.0,
       "min": 0.0,
       "orientation": "horizontal",
       "style": "IPY_MODEL_5004d8dea48049c5aad85f461be478ba",
       "value": 57365526.0
      }
     },
     "e2f0ead8de954f72baf42c4748fe59d5": {
      "model_module": "@jupyter-widgets/controls",
      "model_module_version": "1.5.0",
      "model_name": "HTMLModel",
      "state": {
       "_dom_classes": [],
       "_model_module": "@jupyter-widgets/controls",
       "_model_module_version": "1.5.0",
       "_model_name": "HTMLModel",
       "_view_count": null,
       "_view_module": "@jupyter-widgets/controls",
       "_view_module_version": "1.5.0",
       "_view_name": "HTMLView",
       "description": "",
       "description_tooltip": null,
       "layout": "IPY_MODEL_c76b14e733d440a3b343404d14829e23",
       "placeholder": "​",
       "style": "IPY_MODEL_a78e4f2c956347689e176508dce4fdc6",
       "value": "100%"
      }
     }
    },
    "version_major": 2,
    "version_minor": 0
   }
  }
 },
 "nbformat": 4,
 "nbformat_minor": 5
}
