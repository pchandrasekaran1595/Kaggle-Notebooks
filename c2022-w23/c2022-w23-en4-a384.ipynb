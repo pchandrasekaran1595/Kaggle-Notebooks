{
 "cells": [
  {
   "cell_type": "markdown",
   "id": "94bd0dee",
   "metadata": {
    "_cell_guid": "b1076dfc-b9ad-4769-8c92-a6c4dae69d19",
    "_uuid": "8f2839f25d086af736a60e9eeb907d3b93b6e0e5",
    "papermill": {
     "duration": 0.007823,
     "end_time": "2022-09-25T07:14:25.150904",
     "exception": false,
     "start_time": "2022-09-25T07:14:25.143081",
     "status": "completed"
    },
    "tags": []
   },
   "source": [
    "### **Setup**"
   ]
  },
  {
   "cell_type": "code",
   "execution_count": 1,
   "id": "25b095c7",
   "metadata": {
    "execution": {
     "iopub.execute_input": "2022-09-25T07:14:25.171595Z",
     "iopub.status.busy": "2022-09-25T07:14:25.170758Z",
     "iopub.status.idle": "2022-09-25T07:14:35.883579Z",
     "shell.execute_reply": "2022-09-25T07:14:35.882436Z"
    },
    "papermill": {
     "duration": 10.728616,
     "end_time": "2022-09-25T07:14:35.885991",
     "exception": false,
     "start_time": "2022-09-25T07:14:25.157375",
     "status": "completed"
    },
    "tags": []
   },
   "outputs": [
    {
     "name": "stderr",
     "output_type": "stream",
     "text": [
      "WARNING: Running pip as the 'root' user can result in broken permissions and conflicting behaviour with the system package manager. It is recommended to use a virtual environment instead: https://pip.pypa.io/warnings/venv\n"
     ]
    }
   ],
   "source": [
    "%%bash\n",
    "pip install timm -q"
   ]
  },
  {
   "cell_type": "markdown",
   "id": "00fc961b",
   "metadata": {
    "papermill": {
     "duration": 0.003957,
     "end_time": "2022-09-25T07:14:35.894343",
     "exception": false,
     "start_time": "2022-09-25T07:14:35.890386",
     "status": "completed"
    },
    "tags": []
   },
   "source": [
    "### **Library Imports**"
   ]
  },
  {
   "cell_type": "code",
   "execution_count": 2,
   "id": "74ff5f71",
   "metadata": {
    "execution": {
     "iopub.execute_input": "2022-09-25T07:14:35.904797Z",
     "iopub.status.busy": "2022-09-25T07:14:35.904180Z",
     "iopub.status.idle": "2022-09-25T07:14:39.871980Z",
     "shell.execute_reply": "2022-09-25T07:14:39.870715Z"
    },
    "papermill": {
     "duration": 3.976439,
     "end_time": "2022-09-25T07:14:39.874796",
     "exception": false,
     "start_time": "2022-09-25T07:14:35.898357",
     "status": "completed"
    },
    "tags": []
   },
   "outputs": [],
   "source": [
    "import os\n",
    "import re\n",
    "import cv2\n",
    "import timm\n",
    "import torch\n",
    "import numpy as np\n",
    "import pandas as pd\n",
    "import matplotlib.pyplot as plt\n",
    "\n",
    "from time import time\n",
    "from torch import nn, optim\n",
    "from torch.utils.data import Dataset\n",
    "from torch.utils.data import DataLoader as DL\n",
    "from torchvision import models, transforms\n",
    "\n",
    "from sklearn.model_selection import StratifiedKFold"
   ]
  },
  {
   "cell_type": "code",
   "execution_count": 3,
   "id": "2d3add06",
   "metadata": {
    "execution": {
     "iopub.execute_input": "2022-09-25T07:14:39.886147Z",
     "iopub.status.busy": "2022-09-25T07:14:39.885387Z",
     "iopub.status.idle": "2022-09-25T07:14:39.915666Z",
     "shell.execute_reply": "2022-09-25T07:14:39.914648Z"
    },
    "papermill": {
     "duration": 0.038544,
     "end_time": "2022-09-25T07:14:39.918309",
     "exception": false,
     "start_time": "2022-09-25T07:14:39.879765",
     "status": "completed"
    },
    "tags": []
   },
   "outputs": [
    {
     "data": {
      "text/plain": [
       "102"
      ]
     },
     "execution_count": 3,
     "metadata": {},
     "output_type": "execute_result"
    }
   ],
   "source": [
    "df = pd.read_csv(\"../input/com3025-2022-challenge-week2-and-3-extend-extend/train.csv\")\n",
    "df.label.nunique()"
   ]
  },
  {
   "cell_type": "markdown",
   "id": "f403259c",
   "metadata": {
    "papermill": {
     "duration": 0.004068,
     "end_time": "2022-09-25T07:14:39.926685",
     "exception": false,
     "start_time": "2022-09-25T07:14:39.922617",
     "status": "completed"
    },
    "tags": []
   },
   "source": [
    "### **Utilities and Helpers**"
   ]
  },
  {
   "cell_type": "code",
   "execution_count": 4,
   "id": "823bd77e",
   "metadata": {
    "execution": {
     "iopub.execute_input": "2022-09-25T07:14:39.936534Z",
     "iopub.status.busy": "2022-09-25T07:14:39.936208Z",
     "iopub.status.idle": "2022-09-25T07:14:39.948399Z",
     "shell.execute_reply": "2022-09-25T07:14:39.947562Z"
    },
    "papermill": {
     "duration": 0.019497,
     "end_time": "2022-09-25T07:14:39.950420",
     "exception": false,
     "start_time": "2022-09-25T07:14:39.930923",
     "status": "completed"
    },
    "tags": []
   },
   "outputs": [],
   "source": [
    "SEED = 42\n",
    "SIZE = 384\n",
    "\n",
    "\n",
    "def breaker(num: int=50, char: str=\"*\") -> None:\n",
    "    print(\"\\n\" + num*char + \"\\n\")\n",
    "\n",
    "    \n",
    "def get_image(path: str, size: int=224) -> np.ndarray:\n",
    "    image = cv2.imread(path, cv2.IMREAD_COLOR)\n",
    "    image = cv2.cvtColor(src=image, code=cv2.COLOR_BGR2RGB)\n",
    "    return cv2.resize(src=image, dsize=(size, size), interpolation=cv2.INTER_AREA)\n",
    "\n",
    "\n",
    "def show_loss_graphs(L: list) -> None:\n",
    "    TL, VL = [], []\n",
    "    for i in range(len(L)):\n",
    "        TL.append(L[i][\"train\"])\n",
    "        VL.append(L[i][\"valid\"])\n",
    "    x_Axis = np.arange(1, len(TL) + 1)\n",
    "    plt.figure()\n",
    "    plt.plot(x_Axis, TL, \"r\", label=\"Train\")\n",
    "    plt.plot(x_Axis, VL, \"b\", label=\"Valid\")\n",
    "    plt.legend()\n",
    "    plt.grid()\n",
    "    plt.title(\"Loss Graph\")\n",
    "    plt.show()\n",
    "\n",
    "\n",
    "def show_accuracy_graphs(A: list) -> None:\n",
    "    TA, VA = [], []\n",
    "    for i in range(len(A)):\n",
    "        TA.append(A[i][\"train\"])\n",
    "        VA.append(A[i][\"valid\"])\n",
    "    x_Axis = np.arange(1, len(TA) + 1)\n",
    "    plt.figure()\n",
    "    plt.plot(x_Axis, TA, \"r\", label=\"Train\")\n",
    "    plt.plot(x_Axis, VA, \"b\", label=\"Valid\")\n",
    "    plt.legend()\n",
    "    plt.grid()\n",
    "    plt.title(\"Accuracy Graph\")\n",
    "    plt.show()\n",
    "    \n",
    "\n",
    "def show_lr_graph(LR: list) -> None:\n",
    "    x_Axis = [i+1 for i in range(len(LR))]\n",
    "    plt.figure(figsize=(8, 6))\n",
    "    plt.plot(x_Axis, LR, \"rx\")\n",
    "    plt.grid()\n",
    "    plt.show()"
   ]
  },
  {
   "cell_type": "markdown",
   "id": "0972b2c0",
   "metadata": {
    "papermill": {
     "duration": 0.004057,
     "end_time": "2022-09-25T07:14:39.958736",
     "exception": false,
     "start_time": "2022-09-25T07:14:39.954679",
     "status": "completed"
    },
    "tags": []
   },
   "source": [
    "### **Configuration**"
   ]
  },
  {
   "cell_type": "code",
   "execution_count": 5,
   "id": "be10619e",
   "metadata": {
    "execution": {
     "iopub.execute_input": "2022-09-25T07:14:39.968434Z",
     "iopub.status.busy": "2022-09-25T07:14:39.968142Z",
     "iopub.status.idle": "2022-09-25T07:14:40.040437Z",
     "shell.execute_reply": "2022-09-25T07:14:40.039531Z"
    },
    "papermill": {
     "duration": 0.079856,
     "end_time": "2022-09-25T07:14:40.042906",
     "exception": false,
     "start_time": "2022-09-25T07:14:39.963050",
     "status": "completed"
    },
    "tags": []
   },
   "outputs": [],
   "source": [
    "class CFG(object):\n",
    "    def __init__(self, \n",
    "                 seed: int = 42,\n",
    "                 size: int = 224,\n",
    "                 n_splits: int = 5,\n",
    "                 batch_size: int = 16,\n",
    "                 epochs: int = 25,\n",
    "                 early_stopping: int = 5,\n",
    "                 lr: float = 1e-4,\n",
    "                 wd: float = 0.0,\n",
    "                 max_lr: float = 1e-3,\n",
    "                 pct_start: float = 0.2,\n",
    "                 steps_per_epoch: int = 100,\n",
    "                 div_factor: int = 1e3, \n",
    "                 final_div_factor: float = 1e3,\n",
    "                 ):\n",
    "        self.seed = seed\n",
    "        self.size = size\n",
    "        self.n_splits = n_splits\n",
    "        self.batch_size = batch_size\n",
    "        self.epochs = epochs\n",
    "        self.early_stopping = early_stopping\n",
    "        self.lr = lr\n",
    "        self.wd = wd\n",
    "        self.max_lr = max_lr\n",
    "        self.pct_start = pct_start\n",
    "        self.steps_per_epoch = steps_per_epoch\n",
    "        self.div_factor = div_factor\n",
    "        self.final_div_factor = final_div_factor\n",
    "        self.device = torch.device(\"cuda\" if torch.cuda.is_available() else \"cpu\")\n",
    "        self.train_transform = transforms.Compose([\n",
    "            transforms.ToTensor(),\n",
    "            transforms.Normalize([0.43444, 0.38296, 0.29537], [0.26031, 0.21142, 0.22197]),\n",
    "            transforms.RandomAffine(degrees=(-45, 45), translate=(0.15, 0.15), scale=(0.5, 1.5)),\n",
    "            transforms.RandomHorizontalFlip(p=0.25),\n",
    "            transforms.RandomVerticalFlip(p=0.25),\n",
    "        ])\n",
    "        self.valid_transform = transforms.Compose([\n",
    "            transforms.ToTensor(),\n",
    "            transforms.Normalize([0.43444, 0.38296, 0.29537], [0.26031, 0.21142, 0.22197]),\n",
    "        ])\n",
    "                                \n",
    "        self.save_path = \"saves\"\n",
    "        if not os.path.exists(self.save_path): os.makedirs(self.save_path)\n",
    "    \n",
    "cfg = CFG(seed=SEED, size=SIZE)"
   ]
  },
  {
   "cell_type": "markdown",
   "id": "6836ad87",
   "metadata": {
    "papermill": {
     "duration": 0.004079,
     "end_time": "2022-09-25T07:14:40.051644",
     "exception": false,
     "start_time": "2022-09-25T07:14:40.047565",
     "status": "completed"
    },
    "tags": []
   },
   "source": [
    "### **Dataset Template**"
   ]
  },
  {
   "cell_type": "code",
   "execution_count": 6,
   "id": "9f5fc654",
   "metadata": {
    "execution": {
     "iopub.execute_input": "2022-09-25T07:14:40.062098Z",
     "iopub.status.busy": "2022-09-25T07:14:40.061337Z",
     "iopub.status.idle": "2022-09-25T07:14:40.069205Z",
     "shell.execute_reply": "2022-09-25T07:14:40.068364Z"
    },
    "papermill": {
     "duration": 0.015195,
     "end_time": "2022-09-25T07:14:40.071171",
     "exception": false,
     "start_time": "2022-09-25T07:14:40.055976",
     "status": "completed"
    },
    "tags": []
   },
   "outputs": [],
   "source": [
    "class DS(Dataset):\n",
    "    def __init__(\n",
    "        self, \n",
    "        base_path: str,\n",
    "        filenames: np.ndarray, \n",
    "        labels: np.ndarray, \n",
    "        size: int,\n",
    "        transform=None):\n",
    "        \n",
    "        self.base_path = base_path\n",
    "        self.filenames = filenames\n",
    "        self.labels = labels\n",
    "        self.size = size\n",
    "        self.transform = transform\n",
    "    \n",
    "    def __len__(self):\n",
    "        return self.filenames.shape[0]\n",
    "    \n",
    "    def __getitem__(self, idx):\n",
    "        path = os.path.join(self.base_path, self.filenames[idx])\n",
    "        image = get_image(path, self.size)\n",
    "        if self.labels is None:\n",
    "            return self.transform(image)\n",
    "        return self.transform(image), self.labels[idx]"
   ]
  },
  {
   "cell_type": "markdown",
   "id": "4ac149ce",
   "metadata": {
    "papermill": {
     "duration": 0.004245,
     "end_time": "2022-09-25T07:14:40.079781",
     "exception": false,
     "start_time": "2022-09-25T07:14:40.075536",
     "status": "completed"
    },
    "tags": []
   },
   "source": [
    "### **Model**"
   ]
  },
  {
   "cell_type": "code",
   "execution_count": 7,
   "id": "4ccd92e7",
   "metadata": {
    "execution": {
     "iopub.execute_input": "2022-09-25T07:14:40.089623Z",
     "iopub.status.busy": "2022-09-25T07:14:40.089296Z",
     "iopub.status.idle": "2022-09-25T07:14:40.096286Z",
     "shell.execute_reply": "2022-09-25T07:14:40.095247Z"
    },
    "papermill": {
     "duration": 0.014265,
     "end_time": "2022-09-25T07:14:40.098335",
     "exception": false,
     "start_time": "2022-09-25T07:14:40.084070",
     "status": "completed"
    },
    "tags": []
   },
   "outputs": [],
   "source": [
    "class Model(nn.Module):\n",
    "    def __init__(self):\n",
    "        super(Model, self).__init__()\n",
    "        \n",
    "        self.model = timm.create_model(model_name=\"efficientnet_b4\", pretrained=True)\n",
    "        self.model.classifier = nn.Linear(in_features=self.model.classifier.in_features, out_features=102)\n",
    "            \n",
    "    def freeze(self):\n",
    "        for params in self.parameters(): params.requires_grad = False\n",
    "\n",
    "    def forward(self, x):\n",
    "        return nn.LogSoftmax(dim=1)(self.model(x))"
   ]
  },
  {
   "cell_type": "markdown",
   "id": "f5fa5ca0",
   "metadata": {
    "papermill": {
     "duration": 0.003972,
     "end_time": "2022-09-25T07:14:40.106561",
     "exception": false,
     "start_time": "2022-09-25T07:14:40.102589",
     "status": "completed"
    },
    "tags": []
   },
   "source": [
    "### **Fit and Predict**"
   ]
  },
  {
   "cell_type": "code",
   "execution_count": 8,
   "id": "82078216",
   "metadata": {
    "execution": {
     "iopub.execute_input": "2022-09-25T07:14:40.116577Z",
     "iopub.status.busy": "2022-09-25T07:14:40.116274Z",
     "iopub.status.idle": "2022-09-25T07:14:40.138909Z",
     "shell.execute_reply": "2022-09-25T07:14:40.137920Z"
    },
    "papermill": {
     "duration": 0.030134,
     "end_time": "2022-09-25T07:14:40.140850",
     "exception": false,
     "start_time": "2022-09-25T07:14:40.110716",
     "status": "completed"
    },
    "tags": []
   },
   "outputs": [],
   "source": [
    "def fit(model=None,\n",
    "        optimizer=None, \n",
    "        scheduler_rlrop=None,\n",
    "        scheduler_oclr=None,\n",
    "        epochs=None, \n",
    "        early_stopping_patience=None, \n",
    "        dataloaders=None, \n",
    "        fold=None, \n",
    "        save_path=None,\n",
    "        device=None,\n",
    "        verbose=False) -> tuple:   \n",
    "    \n",
    "    def get_accuracy(y_pred, y_true):\n",
    "        y_pred = torch.argmax(y_pred, dim=1)\n",
    "        return torch.count_nonzero(y_pred == y_true).item() / len(y_pred)\n",
    "    \n",
    "    if verbose:\n",
    "        breaker()\n",
    "        if fold: print(f\"Training Fold {fold}...\")\n",
    "        else: print(\"Training ...\")\n",
    "        breaker()\n",
    "        \n",
    "    bestLoss: dict = {\"train\" : np.inf, \"valid\" : np.inf} \n",
    "    bestAccs: dict = {\"train\" : 0.0, \"valid\" : 0.0}\n",
    "        \n",
    "    Losses: list = []\n",
    "    Accuracies: list = [] \n",
    "    LRs: list = []\n",
    "        \n",
    "    if fold: \n",
    "        ble_name = f\"ble_state_fold_{fold}.pt\"\n",
    "        bae_name = f\"bae_state_fold_{fold}.pt\"\n",
    "    else: \n",
    "        ble_name = f\"ble_state.pt\"\n",
    "        bae_name = f\"bae_state.pt\"\n",
    "    \n",
    "    start_time = time()\n",
    "    for e in range(epochs):\n",
    "        e_st = time()\n",
    "        epochLoss: dict = {\"train\" : 0.0, \"valid\" : 0.0} \n",
    "        epochAccs: dict = {\"train\" : 0.0, \"valid\" : 0.0} \n",
    "\n",
    "        for phase in [\"train\", \"valid\"]:\n",
    "            if phase == \"train\": model.train()\n",
    "            else: model.eval()\n",
    "            \n",
    "            lossPerPass: list = []\n",
    "            accsPerPass: list = []\n",
    "                   \n",
    "            for X, y in dataloaders[phase]:\n",
    "                X, y = X.to(device), y.to(device).view(-1)\n",
    "\n",
    "                optimizer.zero_grad()\n",
    "                with torch.set_grad_enabled(phase == \"train\"):\n",
    "                    output = model(X)\n",
    "                    loss = torch.nn.NLLLoss()(output, y)\n",
    "                    if phase == \"train\":\n",
    "                        loss.backward()\n",
    "                        optimizer.step()\n",
    "                        if scheduler_oclr: scheduler_oclr.step()\n",
    "                lossPerPass.append(loss.item())\n",
    "                accsPerPass.append(get_accuracy(output, y))\n",
    "            epochLoss[phase] = np.mean(np.array(lossPerPass))\n",
    "            epochAccs[phase] = np.mean(np.array(accsPerPass))\n",
    "        if scheduler_oclr: LRs.append(scheduler_oclr.get_last_lr())\n",
    "        Losses.append(epochLoss)\n",
    "        Accuracies.append(epochAccs)\n",
    "    \n",
    "        if scheduler_oclr:\n",
    "            save_dict = {\"model_state_dict\"     : model.state_dict(),\n",
    "                         \"optim_state_dict\"     : optimizer.state_dict(),\n",
    "                         \"scheduler_state_dict\" : scheduler_oclr.state_dict()}\n",
    "        \n",
    "        elif scheduler_rlrop:\n",
    "            save_dict = {\"model_state_dict\"     : model.state_dict(),\n",
    "                         \"optim_state_dict\"     : optimizer.state_dict(),\n",
    "                         \"scheduler_state_dict\" : scheduler_rlrop.state_dict()}\n",
    "        \n",
    "        else:\n",
    "            save_dict = {\"model_state_dict\"     : model.state_dict(),\n",
    "                         \"optim_state_dict\"     : optimizer.state_dict()}\n",
    "        \n",
    "        \n",
    "        if early_stopping_patience:\n",
    "            if epochLoss[\"valid\"] < bestLoss[\"valid\"]:\n",
    "                bestLoss = epochLoss\n",
    "                BLE = e + 1\n",
    "                torch.save(save_dict, os.path.join(save_path, ble_name))\n",
    "                early_stopping_step = 0\n",
    "            else:\n",
    "                early_stopping_step += 1\n",
    "                if early_stopping_step > early_stopping_patience:\n",
    "                    print(\"\\nEarly Stopping at Epoch {}\".format(e + 1))\n",
    "                    break\n",
    "        \n",
    "        if epochLoss[\"valid\"] < bestLoss[\"valid\"]:\n",
    "            bestLoss = epochLoss\n",
    "            BLE = e + 1\n",
    "            torch.save(save_dict,os.path.join(save_path, ble_name))\n",
    "        \n",
    "        if epochAccs[\"valid\"] > bestAccs[\"valid\"]:\n",
    "            bestAccs = epochAccs\n",
    "            BAE = e + 1\n",
    "            torch.save(save_dict,os.path.join(save_path, bae_name))\n",
    "        \n",
    "        if scheduler_rlrop: scheduler_rlrop.step(epochLoss[\"valid\"])\n",
    "        \n",
    "        if verbose:\n",
    "            print(\"Epoch: {} | Train Loss: {:.5f} | Valid Loss: {:.5f} |\\\n",
    " Train Accs: {:.5f} | Valid Accs: {:.5f} | Time: {:.2f} seconds\".format(e+1, \n",
    "                                                                        epochLoss[\"train\"], epochLoss[\"valid\"], \n",
    "                                                                        epochAccs[\"train\"], epochAccs[\"valid\"], \n",
    "                                                                        time()-e_st))\n",
    "\n",
    "    if verbose:                                           \n",
    "        breaker()\n",
    "        print(f\"Best Validation Loss at Epoch {BLE}\")\n",
    "        breaker()\n",
    "        print(f\"Best Validation Accs at Epoch {BAE}\")\n",
    "        breaker()\n",
    "        print(\"Time Taken [{} Epochs] : {:.2f} minutes\".format(len(Losses), (time()-start_time)/60))\n",
    "    \n",
    "    return Losses, Accuracies, LRs, bestLoss, bestAccs, BLE, BAE, ble_name, bae_name\n",
    "    \n",
    "\n",
    "def predict_batch(\n",
    "    model=None, \n",
    "    dataloader=None, \n",
    "    path=None, \n",
    "    device=None\n",
    ") -> np.ndarray:\n",
    "    \n",
    "    model.load_state_dict(torch.load(path, map_location=device)[\"model_state_dict\"])\n",
    "    model.to(device)    \n",
    "    model.eval()\n",
    "    \n",
    "    y_pred = torch.zeros(1, 1).to(device)\n",
    "    \n",
    "    for X in dataloader:\n",
    "        X = X.to(device)\n",
    "        with torch.no_grad():\n",
    "            output = torch.argmax(torch.exp(model(X)), dim=1)\n",
    "        y_pred = torch.cat((y_pred, output.view(-1, 1)), dim=0)\n",
    "    \n",
    "    return y_pred[1:].detach().cpu().numpy()"
   ]
  },
  {
   "cell_type": "markdown",
   "id": "22cfaf80",
   "metadata": {
    "papermill": {
     "duration": 0.004053,
     "end_time": "2022-09-25T07:14:40.150257",
     "exception": false,
     "start_time": "2022-09-25T07:14:40.146204",
     "status": "completed"
    },
    "tags": []
   },
   "source": [
    "### **Train**"
   ]
  },
  {
   "cell_type": "code",
   "execution_count": 9,
   "id": "8d76098d",
   "metadata": {
    "execution": {
     "iopub.execute_input": "2022-09-25T07:14:40.160683Z",
     "iopub.status.busy": "2022-09-25T07:14:40.159873Z",
     "iopub.status.idle": "2022-09-25T07:14:40.181039Z",
     "shell.execute_reply": "2022-09-25T07:14:40.180210Z"
    },
    "papermill": {
     "duration": 0.02866,
     "end_time": "2022-09-25T07:14:40.183214",
     "exception": false,
     "start_time": "2022-09-25T07:14:40.154554",
     "status": "completed"
    },
    "tags": []
   },
   "outputs": [],
   "source": [
    "df = pd.read_csv(\"../input/com3025-2022-challenge-week2-and-3-extend-extend/train.csv\")\n",
    "\n",
    "filenames = df.file_path.copy().values\n",
    "labels = df.iloc[:, 1:].copy().values"
   ]
  },
  {
   "cell_type": "code",
   "execution_count": 10,
   "id": "820238e9",
   "metadata": {
    "execution": {
     "iopub.execute_input": "2022-09-25T07:14:40.193334Z",
     "iopub.status.busy": "2022-09-25T07:14:40.193058Z",
     "iopub.status.idle": "2022-09-25T09:51:34.939348Z",
     "shell.execute_reply": "2022-09-25T09:51:34.938310Z"
    },
    "papermill": {
     "duration": 9414.753812,
     "end_time": "2022-09-25T09:51:34.941515",
     "exception": false,
     "start_time": "2022-09-25T07:14:40.187703",
     "status": "completed"
    },
    "tags": []
   },
   "outputs": [
    {
     "name": "stderr",
     "output_type": "stream",
     "text": [
      "Downloading: \"https://github.com/rwightman/pytorch-image-models/releases/download/v0.1-weights/efficientnet_b4_ra2_320-7eb33cd5.pth\" to /root/.cache/torch/hub/checkpoints/efficientnet_b4_ra2_320-7eb33cd5.pth\n"
     ]
    },
    {
     "name": "stdout",
     "output_type": "stream",
     "text": [
      "\n",
      "**************************************************\n",
      "\n",
      "Training Fold 1...\n",
      "\n",
      "**************************************************\n",
      "\n",
      "Epoch: 1 | Train Loss: 4.61302 | Valid Loss: 4.57066 | Train Accs: 0.02083 | Valid Accs: 0.08654 | Time: 109.69 seconds\n",
      "Epoch: 2 | Train Loss: 3.84883 | Valid Loss: 1.42071 | Train Accs: 0.25674 | Valid Accs: 0.67548 | Time: 92.07 seconds\n",
      "Epoch: 3 | Train Loss: 0.92887 | Valid Loss: 0.52781 | Train Accs: 0.75184 | Valid Accs: 0.87260 | Time: 91.03 seconds\n",
      "Epoch: 4 | Train Loss: 0.43738 | Valid Loss: 0.47398 | Train Accs: 0.87990 | Valid Accs: 0.85817 | Time: 90.27 seconds\n",
      "Epoch: 5 | Train Loss: 0.28823 | Valid Loss: 0.42078 | Train Accs: 0.92279 | Valid Accs: 0.89904 | Time: 90.76 seconds\n",
      "Epoch: 6 | Train Loss: 0.22110 | Valid Loss: 0.51912 | Train Accs: 0.95098 | Valid Accs: 0.87019 | Time: 90.08 seconds\n",
      "Epoch: 7 | Train Loss: 0.19728 | Valid Loss: 0.36208 | Train Accs: 0.94608 | Valid Accs: 0.91106 | Time: 91.74 seconds\n",
      "Epoch: 8 | Train Loss: 0.10446 | Valid Loss: 0.19232 | Train Accs: 0.96752 | Valid Accs: 0.94231 | Time: 90.63 seconds\n",
      "Epoch: 9 | Train Loss: 0.11460 | Valid Loss: 0.22846 | Train Accs: 0.96998 | Valid Accs: 0.93269 | Time: 88.04 seconds\n",
      "Epoch: 10 | Train Loss: 0.06777 | Valid Loss: 0.28636 | Train Accs: 0.98100 | Valid Accs: 0.93510 | Time: 89.48 seconds\n",
      "Epoch: 11 | Train Loss: 0.05672 | Valid Loss: 0.22356 | Train Accs: 0.98162 | Valid Accs: 0.94231 | Time: 89.45 seconds\n",
      "Epoch: 12 | Train Loss: 0.04026 | Valid Loss: 0.24823 | Train Accs: 0.99020 | Valid Accs: 0.94231 | Time: 89.75 seconds\n",
      "Epoch: 13 | Train Loss: 0.05712 | Valid Loss: 0.18884 | Train Accs: 0.98775 | Valid Accs: 0.95913 | Time: 90.62 seconds\n",
      "Epoch: 14 | Train Loss: 0.03175 | Valid Loss: 0.23018 | Train Accs: 0.98958 | Valid Accs: 0.94471 | Time: 89.88 seconds\n",
      "Epoch: 15 | Train Loss: 0.02328 | Valid Loss: 0.25869 | Train Accs: 0.99203 | Valid Accs: 0.94231 | Time: 89.36 seconds\n",
      "Epoch: 16 | Train Loss: 0.00832 | Valid Loss: 0.26873 | Train Accs: 0.99877 | Valid Accs: 0.94712 | Time: 90.08 seconds\n",
      "Epoch: 17 | Train Loss: 0.00656 | Valid Loss: 0.23042 | Train Accs: 0.99755 | Valid Accs: 0.94952 | Time: 90.35 seconds\n",
      "Epoch: 18 | Train Loss: 0.01269 | Valid Loss: 0.23883 | Train Accs: 0.99632 | Valid Accs: 0.94471 | Time: 89.50 seconds\n",
      "\n",
      "Early Stopping at Epoch 19\n",
      "\n",
      "**************************************************\n",
      "\n",
      "Best Validation Loss at Epoch 13\n",
      "\n",
      "**************************************************\n",
      "\n",
      "Best Validation Accs at Epoch 13\n",
      "\n",
      "**************************************************\n",
      "\n",
      "Time Taken [19 Epochs] : 28.88 minutes\n",
      "\n",
      "**************************************************\n",
      "\n"
     ]
    },
    {
     "data": {
      "image/png": "[encoded data removed]",
      "text/plain": [
       "<Figure size 432x288 with 1 Axes>"
      ]
     },
     "metadata": {
      "needs_background": "light"
     },
     "output_type": "display_data"
    },
    {
     "name": "stdout",
     "output_type": "stream",
     "text": [
      "\n",
      "**************************************************\n",
      "\n"
     ]
    },
    {
     "data": {
      "image/png": "[encoded data removed]",
      "text/plain": [
       "<Figure size 432x288 with 1 Axes>"
      ]
     },
     "metadata": {
      "needs_background": "light"
     },
     "output_type": "display_data"
    },
    {
     "name": "stdout",
     "output_type": "stream",
     "text": [
      "\n",
      "**************************************************\n",
      "\n"
     ]
    },
    {
     "data": {
      "image/png": "[encoded data removed]",
      "text/plain": [
       "<Figure size 576x432 with 1 Axes>"
      ]
     },
     "metadata": {
      "needs_background": "light"
     },
     "output_type": "display_data"
    },
    {
     "name": "stdout",
     "output_type": "stream",
     "text": [
      "\n",
      "**************************************************\n",
      "\n",
      "\n",
      "**************************************************\n",
      "\n",
      "Training Fold 2...\n",
      "\n",
      "**************************************************\n",
      "\n",
      "Epoch: 1 | Train Loss: 4.61221 | Valid Loss: 4.57501 | Train Accs: 0.01838 | Valid Accs: 0.05769 | Time: 90.31 seconds\n",
      "Epoch: 2 | Train Loss: 3.88933 | Valid Loss: 1.64547 | Train Accs: 0.24510 | Valid Accs: 0.65865 | Time: 89.87 seconds\n",
      "Epoch: 3 | Train Loss: 1.02272 | Valid Loss: 0.43261 | Train Accs: 0.73713 | Valid Accs: 0.89183 | Time: 88.93 seconds\n",
      "Epoch: 4 | Train Loss: 0.46075 | Valid Loss: 0.48412 | Train Accs: 0.87623 | Valid Accs: 0.86538 | Time: 89.71 seconds\n",
      "Epoch: 5 | Train Loss: 0.32489 | Valid Loss: 0.35067 | Train Accs: 0.91054 | Valid Accs: 0.90625 | Time: 91.20 seconds\n",
      "Epoch: 6 | Train Loss: 0.25209 | Valid Loss: 0.43136 | Train Accs: 0.93382 | Valid Accs: 0.90385 | Time: 89.96 seconds\n",
      "Epoch: 7 | Train Loss: 0.13881 | Valid Loss: 0.31757 | Train Accs: 0.96078 | Valid Accs: 0.91827 | Time: 90.51 seconds\n",
      "Epoch: 8 | Train Loss: 0.11910 | Valid Loss: 0.24197 | Train Accs: 0.97365 | Valid Accs: 0.94231 | Time: 90.69 seconds\n",
      "Epoch: 9 | Train Loss: 0.10370 | Valid Loss: 0.24395 | Train Accs: 0.97181 | Valid Accs: 0.94231 | Time: 89.70 seconds\n",
      "Epoch: 10 | Train Loss: 0.06281 | Valid Loss: 0.19758 | Train Accs: 0.98162 | Valid Accs: 0.96394 | Time: 91.27 seconds\n",
      "Epoch: 11 | Train Loss: 0.07496 | Valid Loss: 0.20490 | Train Accs: 0.98346 | Valid Accs: 0.94471 | Time: 89.20 seconds\n",
      "Epoch: 12 | Train Loss: 0.04053 | Valid Loss: 0.21445 | Train Accs: 0.98897 | Valid Accs: 0.94712 | Time: 89.98 seconds\n",
      "Epoch: 13 | Train Loss: 0.06205 | Valid Loss: 0.21260 | Train Accs: 0.98591 | Valid Accs: 0.95433 | Time: 89.52 seconds\n",
      "Epoch: 14 | Train Loss: 0.02523 | Valid Loss: 0.21135 | Train Accs: 0.99265 | Valid Accs: 0.95913 | Time: 88.28 seconds\n",
      "Epoch: 15 | Train Loss: 0.01089 | Valid Loss: 0.17764 | Train Accs: 0.99755 | Valid Accs: 0.96394 | Time: 89.09 seconds\n",
      "Epoch: 16 | Train Loss: 0.01642 | Valid Loss: 0.16079 | Train Accs: 0.99694 | Valid Accs: 0.96154 | Time: 89.20 seconds\n",
      "Epoch: 17 | Train Loss: 0.01642 | Valid Loss: 0.16390 | Train Accs: 0.99632 | Valid Accs: 0.96875 | Time: 88.67 seconds\n",
      "Epoch: 18 | Train Loss: 0.00860 | Valid Loss: 0.16152 | Train Accs: 0.99755 | Valid Accs: 0.96394 | Time: 88.74 seconds\n",
      "Epoch: 19 | Train Loss: 0.00950 | Valid Loss: 0.16666 | Train Accs: 0.99694 | Valid Accs: 0.96154 | Time: 88.24 seconds\n",
      "Epoch: 20 | Train Loss: 0.00699 | Valid Loss: 0.16008 | Train Accs: 0.99877 | Valid Accs: 0.96394 | Time: 88.68 seconds\n",
      "Epoch: 21 | Train Loss: 0.00448 | Valid Loss: 0.14794 | Train Accs: 1.00000 | Valid Accs: 0.97115 | Time: 89.20 seconds\n",
      "Epoch: 22 | Train Loss: 0.00304 | Valid Loss: 0.14311 | Train Accs: 0.99939 | Valid Accs: 0.97115 | Time: 89.01 seconds\n",
      "Epoch: 23 | Train Loss: 0.00624 | Valid Loss: 0.16156 | Train Accs: 0.99755 | Valid Accs: 0.96154 | Time: 88.15 seconds\n",
      "Epoch: 24 | Train Loss: 0.00429 | Valid Loss: 0.14882 | Train Accs: 0.99755 | Valid Accs: 0.96635 | Time: 88.82 seconds\n",
      "Epoch: 25 | Train Loss: 0.00206 | Valid Loss: 0.15747 | Train Accs: 1.00000 | Valid Accs: 0.96875 | Time: 89.71 seconds\n",
      "\n",
      "**************************************************\n",
      "\n",
      "Best Validation Loss at Epoch 22\n",
      "\n",
      "**************************************************\n",
      "\n",
      "Best Validation Accs at Epoch 21\n",
      "\n",
      "**************************************************\n",
      "\n",
      "Time Taken [25 Epochs] : 37.28 minutes\n",
      "\n",
      "**************************************************\n",
      "\n"
     ]
    },
    {
     "data": {
      "image/png": "[encoded data removed]",
      "text/plain": [
       "<Figure size 432x288 with 1 Axes>"
      ]
     },
     "metadata": {
      "needs_background": "light"
     },
     "output_type": "display_data"
    },
    {
     "name": "stdout",
     "output_type": "stream",
     "text": [
      "\n",
      "**************************************************\n",
      "\n"
     ]
    },
    {
     "data": {
      "image/png": "[encoded data removed]",
      "text/plain": [
       "<Figure size 432x288 with 1 Axes>"
      ]
     },
     "metadata": {
      "needs_background": "light"
     },
     "output_type": "display_data"
    },
    {
     "name": "stdout",
     "output_type": "stream",
     "text": [
      "\n",
      "**************************************************\n",
      "\n"
     ]
    },
    {
     "data": {
      "image/png": "[encoded data removed]",
      "text/plain": [
       "<Figure size 576x432 with 1 Axes>"
      ]
     },
     "metadata": {
      "needs_background": "light"
     },
     "output_type": "display_data"
    },
    {
     "name": "stdout",
     "output_type": "stream",
     "text": [
      "\n",
      "**************************************************\n",
      "\n",
      "\n",
      "**************************************************\n",
      "\n",
      "Training Fold 3...\n",
      "\n",
      "**************************************************\n",
      "\n",
      "Epoch: 1 | Train Loss: 4.61191 | Valid Loss: 4.57091 | Train Accs: 0.01777 | Valid Accs: 0.08894 | Time: 90.38 seconds\n",
      "Epoch: 2 | Train Loss: 3.85818 | Valid Loss: 1.64257 | Train Accs: 0.25000 | Valid Accs: 0.61298 | Time: 90.88 seconds\n",
      "Epoch: 3 | Train Loss: 0.99163 | Valid Loss: 0.53378 | Train Accs: 0.73652 | Valid Accs: 0.84135 | Time: 90.74 seconds\n",
      "Epoch: 4 | Train Loss: 0.46800 | Valid Loss: 0.56917 | Train Accs: 0.85968 | Valid Accs: 0.84856 | Time: 90.36 seconds\n",
      "Epoch: 5 | Train Loss: 0.32220 | Valid Loss: 0.34025 | Train Accs: 0.91176 | Valid Accs: 0.89904 | Time: 89.91 seconds\n",
      "Epoch: 6 | Train Loss: 0.21348 | Valid Loss: 0.33202 | Train Accs: 0.93995 | Valid Accs: 0.89663 | Time: 89.72 seconds\n",
      "Epoch: 7 | Train Loss: 0.14977 | Valid Loss: 0.22260 | Train Accs: 0.95895 | Valid Accs: 0.92788 | Time: 90.69 seconds\n",
      "Epoch: 8 | Train Loss: 0.10483 | Valid Loss: 0.31246 | Train Accs: 0.97304 | Valid Accs: 0.91587 | Time: 89.23 seconds\n",
      "Epoch: 9 | Train Loss: 0.06563 | Valid Loss: 0.20638 | Train Accs: 0.98652 | Valid Accs: 0.94712 | Time: 90.51 seconds\n",
      "Epoch: 10 | Train Loss: 0.08270 | Valid Loss: 0.22766 | Train Accs: 0.97610 | Valid Accs: 0.93029 | Time: 88.28 seconds\n",
      "Epoch: 11 | Train Loss: 0.06739 | Valid Loss: 0.27689 | Train Accs: 0.98100 | Valid Accs: 0.93510 | Time: 87.74 seconds\n",
      "Epoch: 12 | Train Loss: 0.07803 | Valid Loss: 0.16300 | Train Accs: 0.97794 | Valid Accs: 0.95913 | Time: 90.88 seconds\n",
      "Epoch: 13 | Train Loss: 0.04071 | Valid Loss: 0.14157 | Train Accs: 0.98958 | Valid Accs: 0.96875 | Time: 91.18 seconds\n",
      "Epoch: 14 | Train Loss: 0.02174 | Valid Loss: 0.21478 | Train Accs: 0.99265 | Valid Accs: 0.94952 | Time: 89.83 seconds\n",
      "Epoch: 15 | Train Loss: 0.01731 | Valid Loss: 0.17338 | Train Accs: 0.99510 | Valid Accs: 0.96635 | Time: 89.59 seconds\n",
      "Epoch: 16 | Train Loss: 0.04047 | Valid Loss: 0.12491 | Train Accs: 0.98897 | Valid Accs: 0.96635 | Time: 90.52 seconds\n",
      "Epoch: 17 | Train Loss: 0.01087 | Valid Loss: 0.09408 | Train Accs: 0.99816 | Valid Accs: 0.98077 | Time: 89.72 seconds\n",
      "Epoch: 18 | Train Loss: 0.00879 | Valid Loss: 0.10870 | Train Accs: 0.99694 | Valid Accs: 0.97356 | Time: 87.51 seconds\n",
      "Epoch: 19 | Train Loss: 0.00945 | Valid Loss: 0.12442 | Train Accs: 0.99632 | Valid Accs: 0.97115 | Time: 87.08 seconds\n",
      "Epoch: 20 | Train Loss: 0.00472 | Valid Loss: 0.14190 | Train Accs: 0.99939 | Valid Accs: 0.96154 | Time: 87.01 seconds\n",
      "Epoch: 21 | Train Loss: 0.00745 | Valid Loss: 0.12921 | Train Accs: 0.99694 | Valid Accs: 0.96875 | Time: 87.60 seconds\n",
      "Epoch: 22 | Train Loss: 0.00576 | Valid Loss: 0.11777 | Train Accs: 0.99939 | Valid Accs: 0.97115 | Time: 86.63 seconds\n",
      "\n",
      "Early Stopping at Epoch 23\n",
      "\n",
      "**************************************************\n",
      "\n",
      "Best Validation Loss at Epoch 17\n",
      "\n",
      "**************************************************\n",
      "\n",
      "Best Validation Accs at Epoch 17\n",
      "\n",
      "**************************************************\n",
      "\n",
      "Time Taken [23 Epochs] : 34.20 minutes\n",
      "\n",
      "**************************************************\n",
      "\n"
     ]
    },
    {
     "data": {
      "image/png": "[encoded data removed]",
      "text/plain": [
       "<Figure size 432x288 with 1 Axes>"
      ]
     },
     "metadata": {
      "needs_background": "light"
     },
     "output_type": "display_data"
    },
    {
     "name": "stdout",
     "output_type": "stream",
     "text": [
      "\n",
      "**************************************************\n",
      "\n"
     ]
    },
    {
     "data": {
      "image/png": "[encoded data removed]",
      "text/plain": [
       "<Figure size 432x288 with 1 Axes>"
      ]
     },
     "metadata": {
      "needs_background": "light"
     },
     "output_type": "display_data"
    },
    {
     "name": "stdout",
     "output_type": "stream",
     "text": [
      "\n",
      "**************************************************\n",
      "\n"
     ]
    },
    {
     "data": {
      "image/png": "[encoded data removed]",
      "text/plain": [
       "<Figure size 576x432 with 1 Axes>"
      ]
     },
     "metadata": {
      "needs_background": "light"
     },
     "output_type": "display_data"
    },
    {
     "name": "stdout",
     "output_type": "stream",
     "text": [
      "\n",
      "**************************************************\n",
      "\n",
      "\n",
      "**************************************************\n",
      "\n",
      "Training Fold 4...\n",
      "\n",
      "**************************************************\n",
      "\n",
      "Epoch: 1 | Train Loss: 4.61427 | Valid Loss: 4.57165 | Train Accs: 0.02022 | Valid Accs: 0.08894 | Time: 86.77 seconds\n",
      "Epoch: 2 | Train Loss: 3.84815 | Valid Loss: 1.72221 | Train Accs: 0.25613 | Valid Accs: 0.58894 | Time: 88.56 seconds\n",
      "Epoch: 3 | Train Loss: 0.96414 | Valid Loss: 0.50074 | Train Accs: 0.74449 | Valid Accs: 0.84856 | Time: 88.25 seconds\n",
      "Epoch: 4 | Train Loss: 0.43295 | Valid Loss: 0.44121 | Train Accs: 0.87500 | Valid Accs: 0.88942 | Time: 87.16 seconds\n",
      "Epoch: 5 | Train Loss: 0.28865 | Valid Loss: 0.38604 | Train Accs: 0.92096 | Valid Accs: 0.90144 | Time: 87.30 seconds\n",
      "Epoch: 6 | Train Loss: 0.21829 | Valid Loss: 0.32914 | Train Accs: 0.93382 | Valid Accs: 0.91106 | Time: 87.83 seconds\n",
      "Epoch: 7 | Train Loss: 0.18360 | Valid Loss: 0.36148 | Train Accs: 0.95037 | Valid Accs: 0.91106 | Time: 86.40 seconds\n",
      "Epoch: 8 | Train Loss: 0.11436 | Valid Loss: 0.25472 | Train Accs: 0.96691 | Valid Accs: 0.94471 | Time: 87.49 seconds\n",
      "Epoch: 9 | Train Loss: 0.08034 | Valid Loss: 0.20615 | Train Accs: 0.98100 | Valid Accs: 0.93990 | Time: 86.61 seconds\n",
      "Epoch: 10 | Train Loss: 0.07227 | Valid Loss: 0.25821 | Train Accs: 0.98223 | Valid Accs: 0.94471 | Time: 86.52 seconds\n",
      "Epoch: 11 | Train Loss: 0.08870 | Valid Loss: 0.23208 | Train Accs: 0.97549 | Valid Accs: 0.96154 | Time: 86.45 seconds\n",
      "Epoch: 12 | Train Loss: 0.03883 | Valid Loss: 0.22199 | Train Accs: 0.98958 | Valid Accs: 0.94952 | Time: 86.32 seconds\n",
      "Epoch: 13 | Train Loss: 0.05538 | Valid Loss: 0.18153 | Train Accs: 0.98591 | Valid Accs: 0.96154 | Time: 86.62 seconds\n",
      "Epoch: 14 | Train Loss: 0.02353 | Valid Loss: 0.16734 | Train Accs: 0.99387 | Valid Accs: 0.96394 | Time: 87.35 seconds\n",
      "Epoch: 15 | Train Loss: 0.02973 | Valid Loss: 0.19011 | Train Accs: 0.99081 | Valid Accs: 0.96394 | Time: 86.31 seconds\n",
      "Epoch: 16 | Train Loss: 0.01133 | Valid Loss: 0.18612 | Train Accs: 0.99755 | Valid Accs: 0.96635 | Time: 86.31 seconds\n",
      "Epoch: 17 | Train Loss: 0.00739 | Valid Loss: 0.16814 | Train Accs: 0.99816 | Valid Accs: 0.96635 | Time: 84.94 seconds\n",
      "Epoch: 18 | Train Loss: 0.00736 | Valid Loss: 0.19270 | Train Accs: 0.99755 | Valid Accs: 0.97115 | Time: 85.58 seconds\n",
      "Epoch: 19 | Train Loss: 0.00689 | Valid Loss: 0.21076 | Train Accs: 0.99877 | Valid Accs: 0.96875 | Time: 85.07 seconds\n",
      "\n",
      "Early Stopping at Epoch 20\n",
      "\n",
      "**************************************************\n",
      "\n",
      "Best Validation Loss at Epoch 14\n",
      "\n",
      "**************************************************\n",
      "\n",
      "Best Validation Accs at Epoch 18\n",
      "\n",
      "**************************************************\n",
      "\n",
      "Time Taken [20 Epochs] : 28.89 minutes\n",
      "\n",
      "**************************************************\n",
      "\n"
     ]
    },
    {
     "data": {
      "image/png": "[encoded data removed]",
      "text/plain": [
       "<Figure size 432x288 with 1 Axes>"
      ]
     },
     "metadata": {
      "needs_background": "light"
     },
     "output_type": "display_data"
    },
    {
     "name": "stdout",
     "output_type": "stream",
     "text": [
      "\n",
      "**************************************************\n",
      "\n"
     ]
    },
    {
     "data": {
      "image/png": "[encoded data removed]",
      "text/plain": [
       "<Figure size 432x288 with 1 Axes>"
      ]
     },
     "metadata": {
      "needs_background": "light"
     },
     "output_type": "display_data"
    },
    {
     "name": "stdout",
     "output_type": "stream",
     "text": [
      "\n",
      "**************************************************\n",
      "\n"
     ]
    },
    {
     "data": {
      "image/png": "[encoded data removed]",
      "text/plain": [
       "<Figure size 576x432 with 1 Axes>"
      ]
     },
     "metadata": {
      "needs_background": "light"
     },
     "output_type": "display_data"
    },
    {
     "name": "stdout",
     "output_type": "stream",
     "text": [
      "\n",
      "**************************************************\n",
      "\n",
      "\n",
      "**************************************************\n",
      "\n",
      "Training Fold 5...\n",
      "\n",
      "**************************************************\n",
      "\n",
      "Epoch: 1 | Train Loss: 4.61388 | Valid Loss: 4.57570 | Train Accs: 0.01348 | Valid Accs: 0.05769 | Time: 86.80 seconds\n",
      "Epoch: 2 | Train Loss: 3.82437 | Valid Loss: 1.65098 | Train Accs: 0.25123 | Valid Accs: 0.63221 | Time: 87.22 seconds\n",
      "Epoch: 3 | Train Loss: 1.00011 | Valid Loss: 0.46552 | Train Accs: 0.73652 | Valid Accs: 0.88462 | Time: 87.09 seconds\n",
      "Epoch: 4 | Train Loss: 0.39234 | Valid Loss: 0.35934 | Train Accs: 0.90196 | Valid Accs: 0.90865 | Time: 87.41 seconds\n",
      "Epoch: 5 | Train Loss: 0.29701 | Valid Loss: 0.45039 | Train Accs: 0.91667 | Valid Accs: 0.89663 | Time: 85.73 seconds\n",
      "Epoch: 6 | Train Loss: 0.20953 | Valid Loss: 0.32548 | Train Accs: 0.94363 | Valid Accs: 0.91346 | Time: 87.68 seconds\n",
      "Epoch: 7 | Train Loss: 0.18296 | Valid Loss: 0.19046 | Train Accs: 0.94669 | Valid Accs: 0.95913 | Time: 87.75 seconds\n",
      "Epoch: 8 | Train Loss: 0.07371 | Valid Loss: 0.35903 | Train Accs: 0.97610 | Valid Accs: 0.92788 | Time: 86.68 seconds\n",
      "Epoch: 9 | Train Loss: 0.12606 | Valid Loss: 0.28936 | Train Accs: 0.96201 | Valid Accs: 0.93750 | Time: 86.01 seconds\n",
      "Epoch: 10 | Train Loss: 0.09311 | Valid Loss: 0.27547 | Train Accs: 0.97672 | Valid Accs: 0.93750 | Time: 86.55 seconds\n",
      "Epoch: 11 | Train Loss: 0.05751 | Valid Loss: 0.22859 | Train Accs: 0.98529 | Valid Accs: 0.94952 | Time: 84.82 seconds\n",
      "Epoch: 12 | Train Loss: 0.04017 | Valid Loss: 0.19577 | Train Accs: 0.98775 | Valid Accs: 0.94952 | Time: 85.79 seconds\n",
      "Epoch: 13 | Train Loss: 0.03716 | Valid Loss: 0.18264 | Train Accs: 0.98897 | Valid Accs: 0.95913 | Time: 86.81 seconds\n",
      "Epoch: 14 | Train Loss: 0.01630 | Valid Loss: 0.21948 | Train Accs: 0.99694 | Valid Accs: 0.96154 | Time: 87.68 seconds\n",
      "Epoch: 15 | Train Loss: 0.00670 | Valid Loss: 0.27856 | Train Accs: 0.99877 | Valid Accs: 0.95913 | Time: 87.50 seconds\n",
      "Epoch: 16 | Train Loss: 0.01341 | Valid Loss: 0.25242 | Train Accs: 0.99632 | Valid Accs: 0.95673 | Time: 87.68 seconds\n",
      "Epoch: 17 | Train Loss: 0.01073 | Valid Loss: 0.21832 | Train Accs: 0.99571 | Valid Accs: 0.95673 | Time: 87.35 seconds\n",
      "Epoch: 18 | Train Loss: 0.00697 | Valid Loss: 0.22314 | Train Accs: 0.99877 | Valid Accs: 0.96154 | Time: 87.19 seconds\n",
      "\n",
      "Early Stopping at Epoch 19\n",
      "\n",
      "**************************************************\n",
      "\n",
      "Best Validation Loss at Epoch 13\n",
      "\n",
      "**************************************************\n",
      "\n",
      "Best Validation Accs at Epoch 14\n",
      "\n",
      "**************************************************\n",
      "\n",
      "Time Taken [19 Epochs] : 27.51 minutes\n",
      "\n",
      "**************************************************\n",
      "\n"
     ]
    },
    {
     "data": {
      "image/png": "[encoded data removed]",
      "text/plain": [
       "<Figure size 432x288 with 1 Axes>"
      ]
     },
     "metadata": {
      "needs_background": "light"
     },
     "output_type": "display_data"
    },
    {
     "name": "stdout",
     "output_type": "stream",
     "text": [
      "\n",
      "**************************************************\n",
      "\n"
     ]
    },
    {
     "data": {
      "image/png": "[encoded data removed]",
      "text/plain": [
       "<Figure size 432x288 with 1 Axes>"
      ]
     },
     "metadata": {
      "needs_background": "light"
     },
     "output_type": "display_data"
    },
    {
     "name": "stdout",
     "output_type": "stream",
     "text": [
      "\n",
      "**************************************************\n",
      "\n"
     ]
    },
    {
     "data": {
      "image/png": "[encoded data removed]",
      "text/plain": [
       "<Figure size 576x432 with 1 Axes>"
      ]
     },
     "metadata": {
      "needs_background": "light"
     },
     "output_type": "display_data"
    },
    {
     "name": "stdout",
     "output_type": "stream",
     "text": [
      "\n",
      "**************************************************\n",
      "\n"
     ]
    }
   ],
   "source": [
    "fold: int = 1\n",
    "BLs: list = []\n",
    "BAs: list = []\n",
    "\n",
    "for tr_idx, va_idx in StratifiedKFold(n_splits=cfg.n_splits, random_state=cfg.seed, shuffle=True).split(filenames, labels):\n",
    "\n",
    "    tr_filenames, va_filenames = filenames[tr_idx], filenames[va_idx] \n",
    "    tr_labels, va_labels       = labels[tr_idx], labels[va_idx]\n",
    "    \n",
    "    tr_data_setup = DS(\n",
    "        base_path=\"../input/com3025-2022-challenge-week2-and-3-extend-extend\", \n",
    "        filenames=tr_filenames, \n",
    "        labels=tr_labels.reshape(-1, 1),\n",
    "        size=cfg.size,\n",
    "        transform=cfg.train_transform\n",
    "    )\n",
    "    \n",
    "    va_data_setup = DS(\n",
    "        base_path=\"../input/com3025-2022-challenge-week2-and-3-extend-extend\", \n",
    "        filenames=va_filenames, \n",
    "        labels=va_labels.reshape(-1, 1),\n",
    "        size=cfg.size,\n",
    "        transform=cfg.valid_transform\n",
    "    )\n",
    "\n",
    "    dataloaders = {\n",
    "        \"train\" : DL(tr_data_setup, batch_size=cfg.batch_size, shuffle=True, generator=torch.manual_seed(cfg.seed)),\n",
    "        \"valid\" : DL(va_data_setup, batch_size=cfg.batch_size, shuffle=False),\n",
    "    }\n",
    "\n",
    "    cfg = CFG(\n",
    "        size=SIZE,\n",
    "        epochs=25, \n",
    "        batch_size=16, \n",
    "        early_stopping=5,\n",
    "        steps_per_epoch=len(dataloaders[\"train\"])\n",
    "    )\n",
    "    \n",
    "    torch.manual_seed(cfg.seed)\n",
    "    model = Model().to(cfg.device)\n",
    "\n",
    "    optimizer = optim.Adam([p for p in model.parameters() if p.requires_grad], lr=cfg.lr, weight_decay=cfg.wd)\n",
    "    # optimizer = optim.AdamW([p for p in model.parameters() if p.requires_grad], lr=cfg.lr, weight_decay=cfg.wd)\n",
    "    # optimizer = optim.SGD([p for p in model.parameters() if p.requires_grad], lr=cfg.lr, weight_decay=cfg.wd, momentum=0.9)\n",
    "    \n",
    "    scheduler_oclr = optim.lr_scheduler.OneCycleLR(\n",
    "        optimizer=optimizer, \n",
    "        max_lr=cfg.max_lr, \n",
    "        epochs=cfg.epochs, \n",
    "        steps_per_epoch=cfg.steps_per_epoch,\n",
    "        pct_start=cfg.pct_start, \n",
    "        div_factor=cfg.div_factor, \n",
    "        final_div_factor=cfg.final_div_factor\n",
    "    )\n",
    "\n",
    "    # scheduler_rlrop = optim.lr_scheduler.ReduceLROnPlateau(\n",
    "    #     optimizer=optimizer,\n",
    "    #     patience=cfg.patience,\n",
    "    #     eps=cfg.eps,\n",
    "    #     verbose=True\n",
    "    # )\n",
    "\n",
    "    # scheduler_oclr = None\n",
    "    scheduler_rlrop = None\n",
    "    \n",
    "    L, A, LR, BL, BA, _, _, _, _ = fit(\n",
    "        model=model, \n",
    "        optimizer=optimizer, \n",
    "        scheduler_oclr=scheduler_oclr,\n",
    "        scheduler_rlrop=scheduler_rlrop,\n",
    "        epochs=cfg.epochs, \n",
    "        early_stopping_patience=cfg.early_stopping, \n",
    "        dataloaders=dataloaders, \n",
    "        device=cfg.device,\n",
    "        save_path=cfg.save_path,\n",
    "        fold=fold,\n",
    "        verbose=True\n",
    "    )\n",
    "    \n",
    "    breaker()\n",
    "    show_loss_graphs(L)\n",
    "    breaker()\n",
    "    show_accuracy_graphs(A)\n",
    "    breaker()\n",
    "    if scheduler_oclr:\n",
    "        show_lr_graph(LR)\n",
    "        breaker()\n",
    "    \n",
    "    BLs.append(BL)\n",
    "    BAs.append(BA)\n",
    "    \n",
    "    fold += 1"
   ]
  },
  {
   "cell_type": "markdown",
   "id": "ae5bdff2",
   "metadata": {
    "papermill": {
     "duration": 0.013557,
     "end_time": "2022-09-25T09:51:34.969885",
     "exception": false,
     "start_time": "2022-09-25T09:51:34.956328",
     "status": "completed"
    },
    "tags": []
   },
   "source": [
    "### **Best Model**"
   ]
  },
  {
   "cell_type": "code",
   "execution_count": 11,
   "id": "299fa8fb",
   "metadata": {
    "execution": {
     "iopub.execute_input": "2022-09-25T09:51:34.999142Z",
     "iopub.status.busy": "2022-09-25T09:51:34.998147Z",
     "iopub.status.idle": "2022-09-25T09:51:35.005936Z",
     "shell.execute_reply": "2022-09-25T09:51:35.004912Z"
    },
    "papermill": {
     "duration": 0.024559,
     "end_time": "2022-09-25T09:51:35.008077",
     "exception": false,
     "start_time": "2022-09-25T09:51:34.983518",
     "status": "completed"
    },
    "tags": []
   },
   "outputs": [
    {
     "name": "stdout",
     "output_type": "stream",
     "text": [
      "\n",
      "**************************************************\n",
      "\n",
      "Best Loss Model Fold     : 3\n",
      "Best Accuracy Model Fold : 3\n",
      "\n",
      "**************************************************\n",
      "\n"
     ]
    }
   ],
   "source": [
    "BL = np.inf\n",
    "for i in range(len(BLs)):\n",
    "    if BLs[i][\"valid\"] < BL:\n",
    "        BL = BLs[i][\"valid\"]\n",
    "        best_loss_index = i\n",
    "\n",
    "        \n",
    "BA = 0.0\n",
    "for i in range(len(BAs)):\n",
    "    if BAs[i][\"valid\"] > BA:\n",
    "        BA = BAs[i][\"valid\"]\n",
    "        best_accs_index = i\n",
    "\n",
    "breaker()\n",
    "print(f\"Best Loss Model Fold     : {best_loss_index + 1}\")\n",
    "print(f\"Best Accuracy Model Fold : {best_accs_index + 1}\")\n",
    "breaker()"
   ]
  }
 ],
 "metadata": {
  "kernelspec": {
   "display_name": "Python 3",
   "language": "python",
   "name": "python3"
  },
  "language_info": {
   "codemirror_mode": {
    "name": "ipython",
    "version": 3
   },
   "file_extension": ".py",
   "mimetype": "text/x-python",
   "name": "python",
   "nbconvert_exporter": "python",
   "pygments_lexer": "ipython3",
   "version": "3.7.12"
  },
  "papermill": {
   "default_parameters": {},
   "duration": 9440.061904,
   "end_time": "2022-09-25T09:51:37.354866",
   "environment_variables": {},
   "exception": null,
   "input_path": "__notebook__.ipynb",
   "output_path": "__notebook__.ipynb",
   "parameters": {},
   "start_time": "2022-09-25T07:14:17.292962",
   "version": "2.3.4"
  }
 },
 "nbformat": 4,
 "nbformat_minor": 5
}
