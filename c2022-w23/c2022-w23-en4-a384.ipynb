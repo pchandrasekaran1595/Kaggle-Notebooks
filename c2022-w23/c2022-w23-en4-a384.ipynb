{
 "cells": [
  {
   "cell_type": "markdown",
   "id": "b35bb50b",
   "metadata": {
    "_cell_guid": "b1076dfc-b9ad-4769-8c92-a6c4dae69d19",
    "_uuid": "8f2839f25d086af736a60e9eeb907d3b93b6e0e5",
    "papermill": {
     "duration": 0.005227,
     "end_time": "2022-09-16T16:08:18.183062",
     "exception": false,
     "start_time": "2022-09-16T16:08:18.177835",
     "status": "completed"
    },
    "tags": []
   },
   "source": [
    "### **Setup**"
   ]
  },
  {
   "cell_type": "code",
   "execution_count": 1,
   "id": "3c37b254",
   "metadata": {
    "execution": {
     "iopub.execute_input": "2022-09-16T16:08:18.193947Z",
     "iopub.status.busy": "2022-09-16T16:08:18.193422Z",
     "iopub.status.idle": "2022-09-16T16:08:28.912443Z",
     "shell.execute_reply": "2022-09-16T16:08:28.911341Z"
    },
    "papermill": {
     "duration": 10.727032,
     "end_time": "2022-09-16T16:08:28.914722",
     "exception": false,
     "start_time": "2022-09-16T16:08:18.187690",
     "status": "completed"
    },
    "tags": []
   },
   "outputs": [
    {
     "name": "stderr",
     "output_type": "stream",
     "text": [
      "WARNING: Running pip as the 'root' user can result in broken permissions and conflicting behaviour with the system package manager. It is recommended to use a virtual environment instead: https://pip.pypa.io/warnings/venv\n"
     ]
    }
   ],
   "source": [
    "%%bash\n",
    "pip install timm -q"
   ]
  },
  {
   "cell_type": "markdown",
   "id": "7c15340d",
   "metadata": {
    "papermill": {
     "duration": 0.004385,
     "end_time": "2022-09-16T16:08:28.923989",
     "exception": false,
     "start_time": "2022-09-16T16:08:28.919604",
     "status": "completed"
    },
    "tags": []
   },
   "source": [
    "### **Library Imports**"
   ]
  },
  {
   "cell_type": "code",
   "execution_count": 2,
   "id": "ae038aeb",
   "metadata": {
    "execution": {
     "iopub.execute_input": "2022-09-16T16:08:28.934256Z",
     "iopub.status.busy": "2022-09-16T16:08:28.933186Z",
     "iopub.status.idle": "2022-09-16T16:08:32.985186Z",
     "shell.execute_reply": "2022-09-16T16:08:32.984064Z"
    },
    "papermill": {
     "duration": 4.059658,
     "end_time": "2022-09-16T16:08:32.987681",
     "exception": false,
     "start_time": "2022-09-16T16:08:28.928023",
     "status": "completed"
    },
    "tags": []
   },
   "outputs": [],
   "source": [
    "import os\n",
    "import re\n",
    "import cv2\n",
    "import timm\n",
    "import torch\n",
    "import numpy as np\n",
    "import pandas as pd\n",
    "import matplotlib.pyplot as plt\n",
    "\n",
    "from time import time\n",
    "from torch import nn, optim\n",
    "from torch.utils.data import Dataset\n",
    "from torch.utils.data import DataLoader as DL\n",
    "from torchvision import models, transforms\n",
    "\n",
    "from sklearn.model_selection import StratifiedKFold"
   ]
  },
  {
   "cell_type": "code",
   "execution_count": 3,
   "id": "c5b76df9",
   "metadata": {
    "execution": {
     "iopub.execute_input": "2022-09-16T16:08:32.998379Z",
     "iopub.status.busy": "2022-09-16T16:08:32.997626Z",
     "iopub.status.idle": "2022-09-16T16:08:33.029750Z",
     "shell.execute_reply": "2022-09-16T16:08:33.028720Z"
    },
    "papermill": {
     "duration": 0.04001,
     "end_time": "2022-09-16T16:08:33.032125",
     "exception": false,
     "start_time": "2022-09-16T16:08:32.992115",
     "status": "completed"
    },
    "tags": []
   },
   "outputs": [
    {
     "data": {
      "text/plain": [
       "102"
      ]
     },
     "execution_count": 3,
     "metadata": {},
     "output_type": "execute_result"
    }
   ],
   "source": [
    "df = pd.read_csv(\"../input/com3025-2022-challenge-week2-and-3-extend-extend/train.csv\")\n",
    "df.label.nunique()"
   ]
  },
  {
   "cell_type": "markdown",
   "id": "c75fbc91",
   "metadata": {
    "papermill": {
     "duration": 0.004361,
     "end_time": "2022-09-16T16:08:33.040911",
     "exception": false,
     "start_time": "2022-09-16T16:08:33.036550",
     "status": "completed"
    },
    "tags": []
   },
   "source": [
    "### **Utilities and Helpers**"
   ]
  },
  {
   "cell_type": "code",
   "execution_count": 4,
   "id": "e99c497c",
   "metadata": {
    "execution": {
     "iopub.execute_input": "2022-09-16T16:08:33.050997Z",
     "iopub.status.busy": "2022-09-16T16:08:33.050188Z",
     "iopub.status.idle": "2022-09-16T16:08:33.062951Z",
     "shell.execute_reply": "2022-09-16T16:08:33.062072Z"
    },
    "papermill": {
     "duration": 0.019815,
     "end_time": "2022-09-16T16:08:33.064903",
     "exception": false,
     "start_time": "2022-09-16T16:08:33.045088",
     "status": "completed"
    },
    "tags": []
   },
   "outputs": [],
   "source": [
    "SEED = 42\n",
    "SIZE = 384\n",
    "\n",
    "\n",
    "def breaker(num: int=50, char: str=\"*\") -> None:\n",
    "    print(\"\\n\" + num*char + \"\\n\")\n",
    "\n",
    "    \n",
    "def get_image(path: str, size: int=224) -> np.ndarray:\n",
    "    image = cv2.imread(path, cv2.IMREAD_COLOR)\n",
    "    image = cv2.cvtColor(src=image, code=cv2.COLOR_BGR2RGB)\n",
    "    return cv2.resize(src=image, dsize=(size, size), interpolation=cv2.INTER_AREA)\n",
    "\n",
    "\n",
    "def show_loss_graphs(L: list) -> None:\n",
    "    TL, VL = [], []\n",
    "    for i in range(len(L)):\n",
    "        TL.append(L[i][\"train\"])\n",
    "        VL.append(L[i][\"valid\"])\n",
    "    x_Axis = np.arange(1, len(TL) + 1)\n",
    "    plt.figure()\n",
    "    plt.plot(x_Axis, TL, \"r\", label=\"Train\")\n",
    "    plt.plot(x_Axis, VL, \"b\", label=\"Valid\")\n",
    "    plt.legend()\n",
    "    plt.grid()\n",
    "    plt.title(\"Loss Graph\")\n",
    "    plt.show()\n",
    "\n",
    "\n",
    "def show_accuracy_graphs(A: list) -> None:\n",
    "    TA, VA = [], []\n",
    "    for i in range(len(A)):\n",
    "        TA.append(A[i][\"train\"])\n",
    "        VA.append(A[i][\"valid\"])\n",
    "    x_Axis = np.arange(1, len(TA) + 1)\n",
    "    plt.figure()\n",
    "    plt.plot(x_Axis, TA, \"r\", label=\"Train\")\n",
    "    plt.plot(x_Axis, VA, \"b\", label=\"Valid\")\n",
    "    plt.legend()\n",
    "    plt.grid()\n",
    "    plt.title(\"Accuracy Graph\")\n",
    "    plt.show()\n",
    "    \n",
    "\n",
    "def show_lr_graph(LR: list) -> None:\n",
    "    x_Axis = [i+1 for i in range(len(LR))]\n",
    "    plt.figure(figsize=(8, 6))\n",
    "    plt.plot(x_Axis, LR, \"rx\")\n",
    "    plt.grid()\n",
    "    plt.show()"
   ]
  },
  {
   "cell_type": "markdown",
   "id": "5a7994a1",
   "metadata": {
    "papermill": {
     "duration": 0.003982,
     "end_time": "2022-09-16T16:08:33.073067",
     "exception": false,
     "start_time": "2022-09-16T16:08:33.069085",
     "status": "completed"
    },
    "tags": []
   },
   "source": [
    "### **Configuration**"
   ]
  },
  {
   "cell_type": "code",
   "execution_count": 5,
   "id": "11b924e9",
   "metadata": {
    "execution": {
     "iopub.execute_input": "2022-09-16T16:08:33.082711Z",
     "iopub.status.busy": "2022-09-16T16:08:33.082441Z",
     "iopub.status.idle": "2022-09-16T16:08:33.158529Z",
     "shell.execute_reply": "2022-09-16T16:08:33.157587Z"
    },
    "papermill": {
     "duration": 0.083675,
     "end_time": "2022-09-16T16:08:33.161148",
     "exception": false,
     "start_time": "2022-09-16T16:08:33.077473",
     "status": "completed"
    },
    "tags": []
   },
   "outputs": [],
   "source": [
    "class CFG(object):\n",
    "    def __init__(self, \n",
    "                 seed: int = 42,\n",
    "                 size: int = 224,\n",
    "                 n_splits: int = 5,\n",
    "                 batch_size: int = 16,\n",
    "                 epochs: int = 25,\n",
    "                 early_stopping: int = 5,\n",
    "                 lr: float = 1e-4,\n",
    "                 wd: float = 0.0,\n",
    "                 max_lr: float = 1e-3,\n",
    "                 pct_start: float = 0.2,\n",
    "                 steps_per_epoch: int = 100,\n",
    "                 div_factor: int = 1e3, \n",
    "                 final_div_factor: float = 1e3,\n",
    "                 ):\n",
    "        self.seed = seed\n",
    "        self.size = size\n",
    "        self.n_splits = n_splits\n",
    "        self.batch_size = batch_size\n",
    "        self.epochs = epochs\n",
    "        self.early_stopping = early_stopping\n",
    "        self.lr = lr\n",
    "        self.wd = wd\n",
    "        self.max_lr = max_lr\n",
    "        self.pct_start = pct_start\n",
    "        self.steps_per_epoch = steps_per_epoch\n",
    "        self.div_factor = div_factor\n",
    "        self.final_div_factor = final_div_factor\n",
    "        self.device = torch.device(\"cuda\" if torch.cuda.is_available() else \"cpu\")\n",
    "        self.train_transform = transforms.Compose([\n",
    "            transforms.ToTensor(),\n",
    "            transforms.Normalize([0.43444, 0.38296, 0.29537], [0.26031, 0.21142, 0.22197]),\n",
    "            transforms.RandomAffine(degrees=(-45, 45), translate=(0.15, 0.15), scale=(0.5, 1.5)),\n",
    "            transforms.RandomHorizontalFlip(p=0.25),\n",
    "            transforms.RandomVerticalFlip(p=0.25),\n",
    "        ])\n",
    "        self.valid_transform = transforms.Compose([\n",
    "            transforms.ToTensor(),\n",
    "            transforms.Normalize([0.43444, 0.38296, 0.29537], [0.26031, 0.21142, 0.22197]),\n",
    "        ])\n",
    "                                \n",
    "        self.save_path = \"saves\"\n",
    "        if not os.path.exists(self.save_path): os.makedirs(self.save_path)\n",
    "    \n",
    "cfg = CFG(seed=SEED, size=SIZE)"
   ]
  },
  {
   "cell_type": "markdown",
   "id": "a046e07d",
   "metadata": {
    "papermill": {
     "duration": 0.004095,
     "end_time": "2022-09-16T16:08:33.169915",
     "exception": false,
     "start_time": "2022-09-16T16:08:33.165820",
     "status": "completed"
    },
    "tags": []
   },
   "source": [
    "### **Dataset Template**"
   ]
  },
  {
   "cell_type": "code",
   "execution_count": 6,
   "id": "15da1ab0",
   "metadata": {
    "execution": {
     "iopub.execute_input": "2022-09-16T16:08:33.180304Z",
     "iopub.status.busy": "2022-09-16T16:08:33.179475Z",
     "iopub.status.idle": "2022-09-16T16:08:33.186676Z",
     "shell.execute_reply": "2022-09-16T16:08:33.185781Z"
    },
    "papermill": {
     "duration": 0.014561,
     "end_time": "2022-09-16T16:08:33.188686",
     "exception": false,
     "start_time": "2022-09-16T16:08:33.174125",
     "status": "completed"
    },
    "tags": []
   },
   "outputs": [],
   "source": [
    "class DS(Dataset):\n",
    "    def __init__(\n",
    "        self, \n",
    "        base_path: str,\n",
    "        filenames: np.ndarray, \n",
    "        labels: np.ndarray, \n",
    "        size: int,\n",
    "        transform=None):\n",
    "        \n",
    "        self.base_path = base_path\n",
    "        self.filenames = filenames\n",
    "        self.labels = labels\n",
    "        self.size = size\n",
    "        self.transform = transform\n",
    "    \n",
    "    def __len__(self):\n",
    "        return self.filenames.shape[0]\n",
    "    \n",
    "    def __getitem__(self, idx):\n",
    "        path = os.path.join(self.base_path, self.filenames[idx])\n",
    "        image = get_image(path, self.size)\n",
    "        if self.labels is None:\n",
    "            return self.transform(image)\n",
    "        return self.transform(image), self.labels[idx]"
   ]
  },
  {
   "cell_type": "markdown",
   "id": "ecd24ebb",
   "metadata": {
    "papermill": {
     "duration": 0.004742,
     "end_time": "2022-09-16T16:08:33.197579",
     "exception": false,
     "start_time": "2022-09-16T16:08:33.192837",
     "status": "completed"
    },
    "tags": []
   },
   "source": [
    "### **Model**"
   ]
  },
  {
   "cell_type": "code",
   "execution_count": 7,
   "id": "3855a88c",
   "metadata": {
    "execution": {
     "iopub.execute_input": "2022-09-16T16:08:33.207841Z",
     "iopub.status.busy": "2022-09-16T16:08:33.206960Z",
     "iopub.status.idle": "2022-09-16T16:08:33.213558Z",
     "shell.execute_reply": "2022-09-16T16:08:33.212654Z"
    },
    "papermill": {
     "duration": 0.013886,
     "end_time": "2022-09-16T16:08:33.215713",
     "exception": false,
     "start_time": "2022-09-16T16:08:33.201827",
     "status": "completed"
    },
    "tags": []
   },
   "outputs": [],
   "source": [
    "class Model(nn.Module):\n",
    "    def __init__(self):\n",
    "        super(Model, self).__init__()\n",
    "        \n",
    "        self.model = timm.create_model(model_name=\"efficientnet_b4\", pretrained=True)\n",
    "        self.model.classifier = nn.Linear(in_features=self.model.classifier.in_features, out_features=102)\n",
    "            \n",
    "    def freeze(self):\n",
    "        for params in self.parameters(): params.requires_grad = False\n",
    "\n",
    "    def forward(self, x):\n",
    "        return nn.LogSoftmax(dim=1)(self.model(x))"
   ]
  },
  {
   "cell_type": "markdown",
   "id": "414479f9",
   "metadata": {
    "papermill": {
     "duration": 0.003979,
     "end_time": "2022-09-16T16:08:33.224054",
     "exception": false,
     "start_time": "2022-09-16T16:08:33.220075",
     "status": "completed"
    },
    "tags": []
   },
   "source": [
    "### **Fit and Predict**"
   ]
  },
  {
   "cell_type": "code",
   "execution_count": 8,
   "id": "5c2c8f70",
   "metadata": {
    "execution": {
     "iopub.execute_input": "2022-09-16T16:08:33.233995Z",
     "iopub.status.busy": "2022-09-16T16:08:33.233722Z",
     "iopub.status.idle": "2022-09-16T16:08:33.257194Z",
     "shell.execute_reply": "2022-09-16T16:08:33.256057Z"
    },
    "papermill": {
     "duration": 0.030717,
     "end_time": "2022-09-16T16:08:33.259064",
     "exception": false,
     "start_time": "2022-09-16T16:08:33.228347",
     "status": "completed"
    },
    "tags": []
   },
   "outputs": [],
   "source": [
    "def fit(model=None,\n",
    "        optimizer=None, \n",
    "        scheduler_rlrop=None,\n",
    "        scheduler_oclr=None,\n",
    "        epochs=None, \n",
    "        early_stopping_patience=None, \n",
    "        dataloaders=None, \n",
    "        fold=None, \n",
    "        save_path=None,\n",
    "        device=None,\n",
    "        verbose=False) -> tuple:   \n",
    "    \n",
    "    def get_accuracy(y_pred, y_true):\n",
    "        y_pred = torch.argmax(y_pred, dim=1)\n",
    "        return torch.count_nonzero(y_pred == y_true).item() / len(y_pred)\n",
    "    \n",
    "    if verbose:\n",
    "        breaker()\n",
    "        if fold: print(f\"Training Fold {fold}...\")\n",
    "        else: print(\"Training ...\")\n",
    "        breaker()\n",
    "        \n",
    "    bestLoss: dict = {\"train\" : np.inf, \"valid\" : np.inf} \n",
    "    bestAccs: dict = {\"train\" : 0.0, \"valid\" : 0.0}\n",
    "        \n",
    "    Losses: list = []\n",
    "    Accuracies: list = [] \n",
    "    LRs: list = []\n",
    "        \n",
    "    if fold: \n",
    "        ble_name = f\"ble_state_fold_{fold}.pt\"\n",
    "        bae_name = f\"bae_state_fold_{fold}.pt\"\n",
    "    else: \n",
    "        ble_name = f\"ble_state.pt\"\n",
    "        bae_name = f\"bae_state.pt\"\n",
    "    \n",
    "    start_time = time()\n",
    "    for e in range(epochs):\n",
    "        e_st = time()\n",
    "        epochLoss: dict = {\"train\" : 0.0, \"valid\" : 0.0} \n",
    "        epochAccs: dict = {\"train\" : 0.0, \"valid\" : 0.0} \n",
    "\n",
    "        for phase in [\"train\", \"valid\"]:\n",
    "            if phase == \"train\": model.train()\n",
    "            else: model.eval()\n",
    "            \n",
    "            lossPerPass: list = []\n",
    "            accsPerPass: list = []\n",
    "                   \n",
    "            for X, y in dataloaders[phase]:\n",
    "                X, y = X.to(device), y.to(device).view(-1)\n",
    "\n",
    "                optimizer.zero_grad()\n",
    "                with torch.set_grad_enabled(phase == \"train\"):\n",
    "                    output = model(X)\n",
    "                    loss = torch.nn.NLLLoss()(output, y)\n",
    "                    if phase == \"train\":\n",
    "                        loss.backward()\n",
    "                        optimizer.step()\n",
    "                        if scheduler_oclr: scheduler_oclr.step()\n",
    "                lossPerPass.append(loss.item())\n",
    "                accsPerPass.append(get_accuracy(output, y))\n",
    "            epochLoss[phase] = np.mean(np.array(lossPerPass))\n",
    "            epochAccs[phase] = np.mean(np.array(accsPerPass))\n",
    "        if scheduler_oclr: LRs.append(scheduler_oclr.get_last_lr())\n",
    "        Losses.append(epochLoss)\n",
    "        Accuracies.append(epochAccs)\n",
    "    \n",
    "        if scheduler_oclr:\n",
    "            save_dict = {\"model_state_dict\"     : model.state_dict(),\n",
    "                         \"optim_state_dict\"     : optimizer.state_dict(),\n",
    "                         \"scheduler_state_dict\" : scheduler_oclr.state_dict()}\n",
    "        \n",
    "        elif scheduler_rlrop:\n",
    "            save_dict = {\"model_state_dict\"     : model.state_dict(),\n",
    "                         \"optim_state_dict\"     : optimizer.state_dict(),\n",
    "                         \"scheduler_state_dict\" : scheduler_rlrop.state_dict()}\n",
    "        \n",
    "        else:\n",
    "            save_dict = {\"model_state_dict\"     : model.state_dict(),\n",
    "                         \"optim_state_dict\"     : optimizer.state_dict()}\n",
    "        \n",
    "        \n",
    "        if early_stopping_patience:\n",
    "            if epochLoss[\"valid\"] < bestLoss[\"valid\"]:\n",
    "                bestLoss = epochLoss\n",
    "                BLE = e + 1\n",
    "                torch.save(save_dict, os.path.join(save_path, ble_name))\n",
    "                early_stopping_step = 0\n",
    "            else:\n",
    "                early_stopping_step += 1\n",
    "                if early_stopping_step > early_stopping_patience:\n",
    "                    print(\"\\nEarly Stopping at Epoch {}\".format(e + 1))\n",
    "                    break\n",
    "        \n",
    "        if epochLoss[\"valid\"] < bestLoss[\"valid\"]:\n",
    "            bestLoss = epochLoss\n",
    "            BLE = e + 1\n",
    "            torch.save(save_dict,os.path.join(save_path, ble_name))\n",
    "        \n",
    "        if epochAccs[\"valid\"] > bestAccs[\"valid\"]:\n",
    "            bestAccs = epochAccs\n",
    "            BAE = e + 1\n",
    "            torch.save(save_dict,os.path.join(save_path, bae_name))\n",
    "        \n",
    "        if scheduler_rlrop: scheduler_rlrop.step(epochLoss[\"valid\"])\n",
    "        \n",
    "        if verbose:\n",
    "            print(\"Epoch: {} | Train Loss: {:.5f} | Valid Loss: {:.5f} |\\\n",
    " Train Accs: {:.5f} | Valid Accs: {:.5f} | Time: {:.2f} seconds\".format(e+1, \n",
    "                                                                        epochLoss[\"train\"], epochLoss[\"valid\"], \n",
    "                                                                        epochAccs[\"train\"], epochAccs[\"valid\"], \n",
    "                                                                        time()-e_st))\n",
    "\n",
    "    if verbose:                                           \n",
    "        breaker()\n",
    "        print(f\"Best Validation Loss at Epoch {BLE}\")\n",
    "        breaker()\n",
    "        print(f\"Best Validation Accs at Epoch {BAE}\")\n",
    "        breaker()\n",
    "        print(\"Time Taken [{} Epochs] : {:.2f} minutes\".format(len(Losses), (time()-start_time)/60))\n",
    "    \n",
    "    return Losses, Accuracies, LRs, BLE, BAE, ble_name, bae_name\n",
    "    \n",
    "\n",
    "def predict_batch(\n",
    "    model=None, \n",
    "    dataloader=None, \n",
    "    path=None, \n",
    "    device=None\n",
    ") -> np.ndarray:\n",
    "    \n",
    "    model.load_state_dict(torch.load(path, map_location=device)[\"model_state_dict\"])\n",
    "    model.to(device)    \n",
    "    model.eval()\n",
    "    \n",
    "    y_pred = torch.zeros(1, 1).to(device)\n",
    "    \n",
    "    for X in dataloader:\n",
    "        X = X.to(device)\n",
    "        with torch.no_grad():\n",
    "            output = torch.argmax(torch.exp(model(X)), dim=1)\n",
    "        y_pred = torch.cat((y_pred, output.view(-1, 1)), dim=0)\n",
    "    \n",
    "    return y_pred[1:].detach().cpu().numpy()"
   ]
  },
  {
   "cell_type": "markdown",
   "id": "2d6789c7",
   "metadata": {
    "papermill": {
     "duration": 0.00391,
     "end_time": "2022-09-16T16:08:33.268161",
     "exception": false,
     "start_time": "2022-09-16T16:08:33.264251",
     "status": "completed"
    },
    "tags": []
   },
   "source": [
    "### **Train**"
   ]
  },
  {
   "cell_type": "code",
   "execution_count": 9,
   "id": "5dd99451",
   "metadata": {
    "execution": {
     "iopub.execute_input": "2022-09-16T16:08:33.279307Z",
     "iopub.status.busy": "2022-09-16T16:08:33.277676Z",
     "iopub.status.idle": "2022-09-16T16:08:33.295867Z",
     "shell.execute_reply": "2022-09-16T16:08:33.294976Z"
    },
    "papermill": {
     "duration": 0.025715,
     "end_time": "2022-09-16T16:08:33.298001",
     "exception": false,
     "start_time": "2022-09-16T16:08:33.272286",
     "status": "completed"
    },
    "tags": []
   },
   "outputs": [],
   "source": [
    "df = pd.read_csv(\"../input/com3025-2022-challenge-week2-and-3-extend-extend/train.csv\")\n",
    "\n",
    "filenames = df.file_path.copy().values\n",
    "labels = df.iloc[:, 1:].copy().values"
   ]
  },
  {
   "cell_type": "code",
   "execution_count": 10,
   "id": "07d5fe00",
   "metadata": {
    "execution": {
     "iopub.execute_input": "2022-09-16T16:08:33.308733Z",
     "iopub.status.busy": "2022-09-16T16:08:33.307356Z",
     "iopub.status.idle": "2022-09-16T17:26:07.609141Z",
     "shell.execute_reply": "2022-09-16T17:26:07.608197Z"
    },
    "papermill": {
     "duration": 4654.309053,
     "end_time": "2022-09-16T17:26:07.611264",
     "exception": false,
     "start_time": "2022-09-16T16:08:33.302211",
     "status": "completed"
    },
    "tags": []
   },
   "outputs": [
    {
     "name": "stderr",
     "output_type": "stream",
     "text": [
      "Downloading: \"https://github.com/rwightman/pytorch-image-models/releases/download/v0.1-weights/efficientnet_b4_ra2_320-7eb33cd5.pth\" to /root/.cache/torch/hub/checkpoints/efficientnet_b4_ra2_320-7eb33cd5.pth\n"
     ]
    },
    {
     "name": "stdout",
     "output_type": "stream",
     "text": [
      "\n",
      "**************************************************\n",
      "\n",
      "Training Fold 1...\n",
      "\n",
      "**************************************************\n",
      "\n",
      "Epoch: 1 | Train Loss: 4.61302 | Valid Loss: 4.57066 | Train Accs: 0.02083 | Valid Accs: 0.08654 | Time: 111.45 seconds\n",
      "Epoch: 2 | Train Loss: 3.84883 | Valid Loss: 1.42072 | Train Accs: 0.25674 | Valid Accs: 0.67548 | Time: 88.00 seconds\n",
      "Epoch: 3 | Train Loss: 0.92881 | Valid Loss: 0.52720 | Train Accs: 0.75184 | Valid Accs: 0.87260 | Time: 89.32 seconds\n",
      "Epoch: 4 | Train Loss: 0.43751 | Valid Loss: 0.54913 | Train Accs: 0.87929 | Valid Accs: 0.83413 | Time: 87.81 seconds\n",
      "Epoch: 5 | Train Loss: 0.26342 | Valid Loss: 0.37944 | Train Accs: 0.93137 | Valid Accs: 0.90144 | Time: 88.64 seconds\n",
      "Epoch: 6 | Train Loss: 0.23320 | Valid Loss: 0.35133 | Train Accs: 0.94240 | Valid Accs: 0.91346 | Time: 89.24 seconds\n",
      "Epoch: 7 | Train Loss: 0.19054 | Valid Loss: 0.49886 | Train Accs: 0.95404 | Valid Accs: 0.87500 | Time: 87.98 seconds\n",
      "Epoch: 8 | Train Loss: 0.12689 | Valid Loss: 0.33560 | Train Accs: 0.96324 | Valid Accs: 0.89663 | Time: 87.60 seconds\n",
      "Epoch: 9 | Train Loss: 0.11523 | Valid Loss: 0.27693 | Train Accs: 0.97120 | Valid Accs: 0.92788 | Time: 88.88 seconds\n",
      "Epoch: 10 | Train Loss: 0.06740 | Valid Loss: 0.29346 | Train Accs: 0.98039 | Valid Accs: 0.92308 | Time: 86.74 seconds\n",
      "Epoch: 11 | Train Loss: 0.04118 | Valid Loss: 0.23416 | Train Accs: 0.98652 | Valid Accs: 0.94231 | Time: 87.98 seconds\n",
      "Epoch: 12 | Train Loss: 0.03307 | Valid Loss: 0.28023 | Train Accs: 0.98836 | Valid Accs: 0.93510 | Time: 87.12 seconds\n",
      "Epoch: 13 | Train Loss: 0.03474 | Valid Loss: 0.20164 | Train Accs: 0.98897 | Valid Accs: 0.95192 | Time: 88.71 seconds\n",
      "Epoch: 14 | Train Loss: 0.02420 | Valid Loss: 0.15477 | Train Accs: 0.99387 | Valid Accs: 0.95913 | Time: 89.03 seconds\n",
      "Epoch: 15 | Train Loss: 0.01155 | Valid Loss: 0.21083 | Train Accs: 0.99694 | Valid Accs: 0.95673 | Time: 87.62 seconds\n",
      "Epoch: 16 | Train Loss: 0.01189 | Valid Loss: 0.18076 | Train Accs: 0.99632 | Valid Accs: 0.95673 | Time: 88.00 seconds\n",
      "Epoch: 17 | Train Loss: 0.01237 | Valid Loss: 0.17422 | Train Accs: 0.99755 | Valid Accs: 0.95673 | Time: 87.50 seconds\n",
      "Epoch: 18 | Train Loss: 0.00616 | Valid Loss: 0.19297 | Train Accs: 0.99816 | Valid Accs: 0.96635 | Time: 88.11 seconds\n",
      "Epoch: 19 | Train Loss: 0.00824 | Valid Loss: 0.22905 | Train Accs: 0.99694 | Valid Accs: 0.95433 | Time: 87.26 seconds\n",
      "\n",
      "Early Stopping at Epoch 20\n",
      "\n",
      "**************************************************\n",
      "\n",
      "Best Validation Loss at Epoch 14\n",
      "\n",
      "**************************************************\n",
      "\n",
      "Best Validation Accs at Epoch 18\n",
      "\n",
      "**************************************************\n",
      "\n",
      "Time Taken [20 Epochs] : 29.73 minutes\n",
      "\n",
      "**************************************************\n",
      "\n"
     ]
    },
    {
     "data": {
      "image/png": "[encoded data removed]",
      "text/plain": [
       "<Figure size 432x288 with 1 Axes>"
      ]
     },
     "metadata": {
      "needs_background": "light"
     },
     "output_type": "display_data"
    },
    {
     "name": "stdout",
     "output_type": "stream",
     "text": [
      "\n",
      "**************************************************\n",
      "\n"
     ]
    },
    {
     "data": {
      "image/png": "[encoded data removed]",
      "text/plain": [
       "<Figure size 432x288 with 1 Axes>"
      ]
     },
     "metadata": {
      "needs_background": "light"
     },
     "output_type": "display_data"
    },
    {
     "name": "stdout",
     "output_type": "stream",
     "text": [
      "\n",
      "**************************************************\n",
      "\n"
     ]
    },
    {
     "data": {
      "image/png": "[encoded data removed]",
      "text/plain": [
       "<Figure size 576x432 with 1 Axes>"
      ]
     },
     "metadata": {
      "needs_background": "light"
     },
     "output_type": "display_data"
    },
    {
     "name": "stdout",
     "output_type": "stream",
     "text": [
      "\n",
      "**************************************************\n",
      "\n",
      "\n",
      "**************************************************\n",
      "\n",
      "Training Fold 2...\n",
      "\n",
      "**************************************************\n",
      "\n",
      "Epoch: 1 | Train Loss: 4.62081 | Valid Loss: 4.60358 | Train Accs: 0.01142 | Valid Accs: 0.03423 | Time: 42.71 seconds\n",
      "Epoch: 2 | Train Loss: 4.54445 | Valid Loss: 4.40493 | Train Accs: 0.10938 | Valid Accs: 0.34673 | Time: 43.40 seconds\n",
      "Epoch: 3 | Train Loss: 3.45531 | Valid Loss: 1.76248 | Train Accs: 0.47596 | Valid Accs: 0.61830 | Time: 42.14 seconds\n",
      "Epoch: 4 | Train Loss: 0.93707 | Valid Loss: 0.60901 | Train Accs: 0.74820 | Valid Accs: 0.82143 | Time: 43.48 seconds\n",
      "Epoch: 5 | Train Loss: 0.29906 | Valid Loss: 0.50354 | Train Accs: 0.91226 | Valid Accs: 0.86533 | Time: 43.29 seconds\n",
      "Epoch: 6 | Train Loss: 0.17643 | Valid Loss: 0.48008 | Train Accs: 0.94712 | Valid Accs: 0.88170 | Time: 42.60 seconds\n",
      "Epoch: 7 | Train Loss: 0.11661 | Valid Loss: 0.36014 | Train Accs: 0.96334 | Valid Accs: 0.91443 | Time: 42.72 seconds\n",
      "Epoch: 8 | Train Loss: 0.09007 | Valid Loss: 0.36240 | Train Accs: 0.97416 | Valid Accs: 0.90476 | Time: 41.48 seconds\n",
      "Epoch: 9 | Train Loss: 0.05939 | Valid Loss: 0.32459 | Train Accs: 0.98137 | Valid Accs: 0.93080 | Time: 42.31 seconds\n",
      "Epoch: 10 | Train Loss: 0.05619 | Valid Loss: 0.42358 | Train Accs: 0.98377 | Valid Accs: 0.91890 | Time: 41.74 seconds\n",
      "Epoch: 11 | Train Loss: 0.05427 | Valid Loss: 0.26629 | Train Accs: 0.98558 | Valid Accs: 0.92634 | Time: 41.68 seconds\n",
      "Epoch: 12 | Train Loss: 0.03817 | Valid Loss: 0.31699 | Train Accs: 0.98918 | Valid Accs: 0.92634 | Time: 41.35 seconds\n",
      "Epoch: 13 | Train Loss: 0.02273 | Valid Loss: 0.28004 | Train Accs: 0.99519 | Valid Accs: 0.93601 | Time: 43.10 seconds\n",
      "Epoch: 14 | Train Loss: 0.01825 | Valid Loss: 0.31222 | Train Accs: 0.99579 | Valid Accs: 0.93601 | Time: 41.51 seconds\n",
      "Epoch: 15 | Train Loss: 0.01998 | Valid Loss: 0.29316 | Train Accs: 0.99459 | Valid Accs: 0.93601 | Time: 41.64 seconds\n",
      "Epoch: 16 | Train Loss: 0.02237 | Valid Loss: 0.24519 | Train Accs: 0.99519 | Valid Accs: 0.94048 | Time: 42.78 seconds\n",
      "Epoch: 17 | Train Loss: 0.00886 | Valid Loss: 0.24774 | Train Accs: 0.99760 | Valid Accs: 0.94717 | Time: 42.02 seconds\n",
      "Epoch: 18 | Train Loss: 0.01468 | Valid Loss: 0.23387 | Train Accs: 0.99639 | Valid Accs: 0.95089 | Time: 42.68 seconds\n",
      "Epoch: 19 | Train Loss: 0.01377 | Valid Loss: 0.28567 | Train Accs: 0.99760 | Valid Accs: 0.94643 | Time: 41.80 seconds\n",
      "Epoch: 20 | Train Loss: 0.00943 | Valid Loss: 0.20860 | Train Accs: 0.99700 | Valid Accs: 0.95536 | Time: 42.43 seconds\n",
      "Epoch: 21 | Train Loss: 0.00488 | Valid Loss: 0.21308 | Train Accs: 0.99820 | Valid Accs: 0.95536 | Time: 41.34 seconds\n",
      "Epoch: 22 | Train Loss: 0.00212 | Valid Loss: 0.20436 | Train Accs: 1.00000 | Valid Accs: 0.95312 | Time: 41.55 seconds\n",
      "Epoch: 23 | Train Loss: 0.00319 | Valid Loss: 0.21692 | Train Accs: 0.99940 | Valid Accs: 0.95312 | Time: 41.45 seconds\n",
      "Epoch: 24 | Train Loss: 0.00545 | Valid Loss: 0.21249 | Train Accs: 0.99820 | Valid Accs: 0.94866 | Time: 41.13 seconds\n",
      "Epoch: 25 | Train Loss: 0.00323 | Valid Loss: 0.22108 | Train Accs: 1.00000 | Valid Accs: 0.95089 | Time: 41.53 seconds\n",
      "\n",
      "**************************************************\n",
      "\n",
      "Best Validation Loss at Epoch 22\n",
      "\n",
      "**************************************************\n",
      "\n",
      "Best Validation Accs at Epoch 20\n",
      "\n",
      "**************************************************\n",
      "\n",
      "Time Taken [25 Epochs] : 17.56 minutes\n",
      "\n",
      "**************************************************\n",
      "\n"
     ]
    },
    {
     "data": {
      "image/png": "[encoded data removed]",
      "text/plain": [
       "<Figure size 432x288 with 1 Axes>"
      ]
     },
     "metadata": {
      "needs_background": "light"
     },
     "output_type": "display_data"
    },
    {
     "name": "stdout",
     "output_type": "stream",
     "text": [
      "\n",
      "**************************************************\n",
      "\n"
     ]
    },
    {
     "data": {
      "image/png": "[encoded data removed]",
      "text/plain": [
       "<Figure size 432x288 with 1 Axes>"
      ]
     },
     "metadata": {
      "needs_background": "light"
     },
     "output_type": "display_data"
    },
    {
     "name": "stdout",
     "output_type": "stream",
     "text": [
      "\n",
      "**************************************************\n",
      "\n"
     ]
    },
    {
     "data": {
      "image/png": "[encoded data removed]",
      "text/plain": [
       "<Figure size 576x432 with 1 Axes>"
      ]
     },
     "metadata": {
      "needs_background": "light"
     },
     "output_type": "display_data"
    },
    {
     "name": "stdout",
     "output_type": "stream",
     "text": [
      "\n",
      "**************************************************\n",
      "\n",
      "\n",
      "**************************************************\n",
      "\n",
      "Training Fold 3...\n",
      "\n",
      "**************************************************\n",
      "\n",
      "Epoch: 1 | Train Loss: 4.61830 | Valid Loss: 4.60018 | Train Accs: 0.00901 | Valid Accs: 0.02381 | Time: 42.16 seconds\n",
      "Epoch: 2 | Train Loss: 4.54061 | Valid Loss: 4.39686 | Train Accs: 0.11899 | Valid Accs: 0.33333 | Time: 43.10 seconds\n",
      "Epoch: 3 | Train Loss: 3.44560 | Valid Loss: 1.71115 | Train Accs: 0.45673 | Valid Accs: 0.63318 | Time: 43.02 seconds\n",
      "Epoch: 4 | Train Loss: 0.92291 | Valid Loss: 0.63856 | Train Accs: 0.75180 | Valid Accs: 0.82812 | Time: 42.53 seconds\n",
      "Epoch: 5 | Train Loss: 0.35091 | Valid Loss: 0.56890 | Train Accs: 0.89603 | Valid Accs: 0.84598 | Time: 42.59 seconds\n",
      "Epoch: 6 | Train Loss: 0.16661 | Valid Loss: 0.41336 | Train Accs: 0.95312 | Valid Accs: 0.89360 | Time: 42.90 seconds\n",
      "Epoch: 7 | Train Loss: 0.16943 | Valid Loss: 0.53257 | Train Accs: 0.95072 | Valid Accs: 0.85119 | Time: 41.36 seconds\n",
      "Epoch: 8 | Train Loss: 0.08568 | Valid Loss: 0.29006 | Train Accs: 0.97536 | Valid Accs: 0.92188 | Time: 42.83 seconds\n",
      "Epoch: 9 | Train Loss: 0.04469 | Valid Loss: 0.31945 | Train Accs: 0.98558 | Valid Accs: 0.89583 | Time: 41.10 seconds\n",
      "Epoch: 10 | Train Loss: 0.03256 | Valid Loss: 0.34172 | Train Accs: 0.99038 | Valid Accs: 0.90848 | Time: 41.03 seconds\n",
      "Epoch: 11 | Train Loss: 0.02320 | Valid Loss: 0.33221 | Train Accs: 0.99219 | Valid Accs: 0.91071 | Time: 40.98 seconds\n",
      "Epoch: 12 | Train Loss: 0.04400 | Valid Loss: 0.39207 | Train Accs: 0.98738 | Valid Accs: 0.89509 | Time: 41.70 seconds\n",
      "Epoch: 13 | Train Loss: 0.02430 | Valid Loss: 0.35630 | Train Accs: 0.99399 | Valid Accs: 0.92188 | Time: 41.10 seconds\n",
      "\n",
      "Early Stopping at Epoch 14\n",
      "\n",
      "**************************************************\n",
      "\n",
      "Best Validation Loss at Epoch 8\n",
      "\n",
      "**************************************************\n",
      "\n",
      "Best Validation Accs at Epoch 8\n",
      "\n",
      "**************************************************\n",
      "\n",
      "Time Taken [14 Epochs] : 9.79 minutes\n",
      "\n",
      "**************************************************\n",
      "\n"
     ]
    },
    {
     "data": {
      "image/png": "[encoded data removed]",
      "text/plain": [
       "<Figure size 432x288 with 1 Axes>"
      ]
     },
     "metadata": {
      "needs_background": "light"
     },
     "output_type": "display_data"
    },
    {
     "name": "stdout",
     "output_type": "stream",
     "text": [
      "\n",
      "**************************************************\n",
      "\n"
     ]
    },
    {
     "data": {
      "image/png": "[encoded data removed]",
      "text/plain": [
       "<Figure size 432x288 with 1 Axes>"
      ]
     },
     "metadata": {
      "needs_background": "light"
     },
     "output_type": "display_data"
    },
    {
     "name": "stdout",
     "output_type": "stream",
     "text": [
      "\n",
      "**************************************************\n",
      "\n"
     ]
    },
    {
     "data": {
      "image/png": "[encoded data removed]",
      "text/plain": [
       "<Figure size 576x432 with 1 Axes>"
      ]
     },
     "metadata": {
      "needs_background": "light"
     },
     "output_type": "display_data"
    },
    {
     "name": "stdout",
     "output_type": "stream",
     "text": [
      "\n",
      "**************************************************\n",
      "\n",
      "\n",
      "**************************************************\n",
      "\n",
      "Training Fold 4...\n",
      "\n",
      "**************************************************\n",
      "\n",
      "Epoch: 1 | Train Loss: 4.62312 | Valid Loss: 4.60035 | Train Accs: 0.00901 | Valid Accs: 0.01786 | Time: 42.41 seconds\n",
      "Epoch: 2 | Train Loss: 4.54503 | Valid Loss: 4.40338 | Train Accs: 0.10337 | Valid Accs: 0.33780 | Time: 42.54 seconds\n",
      "Epoch: 3 | Train Loss: 3.43846 | Valid Loss: 1.81058 | Train Accs: 0.45673 | Valid Accs: 0.61682 | Time: 42.34 seconds\n",
      "Epoch: 4 | Train Loss: 0.90501 | Valid Loss: 0.60536 | Train Accs: 0.75901 | Valid Accs: 0.84077 | Time: 42.48 seconds\n",
      "Epoch: 5 | Train Loss: 0.30697 | Valid Loss: 0.56604 | Train Accs: 0.89964 | Valid Accs: 0.86310 | Time: 42.44 seconds\n",
      "Epoch: 6 | Train Loss: 0.19507 | Valid Loss: 0.43530 | Train Accs: 0.93930 | Valid Accs: 0.89286 | Time: 42.72 seconds\n",
      "Epoch: 7 | Train Loss: 0.12818 | Valid Loss: 0.47393 | Train Accs: 0.96394 | Valid Accs: 0.88839 | Time: 41.17 seconds\n",
      "Epoch: 8 | Train Loss: 0.07699 | Valid Loss: 0.41298 | Train Accs: 0.98077 | Valid Accs: 0.89435 | Time: 41.89 seconds\n",
      "Epoch: 9 | Train Loss: 0.04977 | Valid Loss: 0.40961 | Train Accs: 0.98498 | Valid Accs: 0.90104 | Time: 42.81 seconds\n",
      "Epoch: 10 | Train Loss: 0.04511 | Valid Loss: 0.48371 | Train Accs: 0.98738 | Valid Accs: 0.88542 | Time: 40.83 seconds\n",
      "Epoch: 11 | Train Loss: 0.03944 | Valid Loss: 0.46795 | Train Accs: 0.98558 | Valid Accs: 0.89286 | Time: 40.96 seconds\n",
      "Epoch: 12 | Train Loss: 0.02301 | Valid Loss: 0.51861 | Train Accs: 0.99339 | Valid Accs: 0.89435 | Time: 41.05 seconds\n",
      "Epoch: 13 | Train Loss: 0.01564 | Valid Loss: 0.48747 | Train Accs: 0.99700 | Valid Accs: 0.90104 | Time: 41.74 seconds\n",
      "Epoch: 14 | Train Loss: 0.01359 | Valid Loss: 0.51663 | Train Accs: 0.99519 | Valid Accs: 0.89583 | Time: 41.08 seconds\n",
      "\n",
      "Early Stopping at Epoch 15\n",
      "\n",
      "**************************************************\n",
      "\n",
      "Best Validation Loss at Epoch 9\n",
      "\n",
      "**************************************************\n",
      "\n",
      "Best Validation Accs at Epoch 9\n",
      "\n",
      "**************************************************\n",
      "\n",
      "Time Taken [15 Epochs] : 10.46 minutes\n",
      "\n",
      "**************************************************\n",
      "\n"
     ]
    },
    {
     "data": {
      "image/png": "[encoded data removed]",
      "text/plain": [
       "<Figure size 432x288 with 1 Axes>"
      ]
     },
     "metadata": {
      "needs_background": "light"
     },
     "output_type": "display_data"
    },
    {
     "name": "stdout",
     "output_type": "stream",
     "text": [
      "\n",
      "**************************************************\n",
      "\n"
     ]
    },
    {
     "data": {
      "image/png": "[encoded data removed]",
      "text/plain": [
       "<Figure size 432x288 with 1 Axes>"
      ]
     },
     "metadata": {
      "needs_background": "light"
     },
     "output_type": "display_data"
    },
    {
     "name": "stdout",
     "output_type": "stream",
     "text": [
      "\n",
      "**************************************************\n",
      "\n"
     ]
    },
    {
     "data": {
      "image/png": "[encoded data removed]",
      "text/plain": [
       "<Figure size 576x432 with 1 Axes>"
      ]
     },
     "metadata": {
      "needs_background": "light"
     },
     "output_type": "display_data"
    },
    {
     "name": "stdout",
     "output_type": "stream",
     "text": [
      "\n",
      "**************************************************\n",
      "\n",
      "\n",
      "**************************************************\n",
      "\n",
      "Training Fold 5...\n",
      "\n",
      "**************************************************\n",
      "\n",
      "Epoch: 1 | Train Loss: 4.61946 | Valid Loss: 4.60605 | Train Accs: 0.01142 | Valid Accs: 0.01786 | Time: 43.05 seconds\n",
      "Epoch: 2 | Train Loss: 4.54468 | Valid Loss: 4.41065 | Train Accs: 0.11418 | Valid Accs: 0.32738 | Time: 44.05 seconds\n",
      "Epoch: 3 | Train Loss: 3.44336 | Valid Loss: 1.81054 | Train Accs: 0.46514 | Valid Accs: 0.60045 | Time: 43.35 seconds\n",
      "Epoch: 4 | Train Loss: 0.91728 | Valid Loss: 0.63663 | Train Accs: 0.74760 | Valid Accs: 0.83780 | Time: 42.46 seconds\n",
      "Epoch: 5 | Train Loss: 0.33281 | Valid Loss: 0.47131 | Train Accs: 0.90385 | Valid Accs: 0.86979 | Time: 42.24 seconds\n",
      "Epoch: 6 | Train Loss: 0.18500 | Valid Loss: 0.42015 | Train Accs: 0.94651 | Valid Accs: 0.90030 | Time: 42.73 seconds\n",
      "Epoch: 7 | Train Loss: 0.12566 | Valid Loss: 0.44231 | Train Accs: 0.96635 | Valid Accs: 0.88839 | Time: 41.17 seconds\n",
      "Epoch: 8 | Train Loss: 0.09158 | Valid Loss: 0.28544 | Train Accs: 0.97476 | Valid Accs: 0.92485 | Time: 41.99 seconds\n",
      "Epoch: 9 | Train Loss: 0.05559 | Valid Loss: 0.42359 | Train Accs: 0.98257 | Valid Accs: 0.88839 | Time: 41.37 seconds\n",
      "Epoch: 10 | Train Loss: 0.05696 | Valid Loss: 0.35285 | Train Accs: 0.98438 | Valid Accs: 0.90625 | Time: 40.98 seconds\n",
      "Epoch: 11 | Train Loss: 0.05331 | Valid Loss: 0.36656 | Train Accs: 0.98257 | Valid Accs: 0.90551 | Time: 41.23 seconds\n",
      "Epoch: 12 | Train Loss: 0.04113 | Valid Loss: 0.29739 | Train Accs: 0.98858 | Valid Accs: 0.92411 | Time: 41.61 seconds\n",
      "Epoch: 13 | Train Loss: 0.03262 | Valid Loss: 0.34113 | Train Accs: 0.99099 | Valid Accs: 0.91741 | Time: 41.48 seconds\n",
      "\n",
      "Early Stopping at Epoch 14\n",
      "\n",
      "**************************************************\n",
      "\n",
      "Best Validation Loss at Epoch 8\n",
      "\n",
      "**************************************************\n",
      "\n",
      "Best Validation Accs at Epoch 8\n",
      "\n",
      "**************************************************\n",
      "\n",
      "Time Taken [14 Epochs] : 9.81 minutes\n",
      "\n",
      "**************************************************\n",
      "\n"
     ]
    },
    {
     "data": {
      "image/png": "[encoded data removed]",
      "text/plain": [
       "<Figure size 432x288 with 1 Axes>"
      ]
     },
     "metadata": {
      "needs_background": "light"
     },
     "output_type": "display_data"
    },
    {
     "name": "stdout",
     "output_type": "stream",
     "text": [
      "\n",
      "**************************************************\n",
      "\n"
     ]
    },
    {
     "data": {
      "image/png": "[encoded data removed]",
      "text/plain": [
       "<Figure size 432x288 with 1 Axes>"
      ]
     },
     "metadata": {
      "needs_background": "light"
     },
     "output_type": "display_data"
    },
    {
     "name": "stdout",
     "output_type": "stream",
     "text": [
      "\n",
      "**************************************************\n",
      "\n"
     ]
    },
    {
     "data": {
      "image/png": "[encoded data removed]",
      "text/plain": [
       "<Figure size 576x432 with 1 Axes>"
      ]
     },
     "metadata": {
      "needs_background": "light"
     },
     "output_type": "display_data"
    },
    {
     "name": "stdout",
     "output_type": "stream",
     "text": [
      "\n",
      "**************************************************\n",
      "\n"
     ]
    }
   ],
   "source": [
    "fold: int = 1\n",
    "BLEs: list = []\n",
    "BAEs: list = []\n",
    "\n",
    "for tr_idx, va_idx in StratifiedKFold(n_splits=cfg.n_splits, random_state=cfg.seed, shuffle=True).split(filenames, labels):\n",
    "\n",
    "    tr_filenames, va_filenames = filenames[tr_idx], filenames[va_idx] \n",
    "    tr_labels, va_labels       = labels[tr_idx], labels[va_idx]\n",
    "    \n",
    "    tr_data_setup = DS(\n",
    "        base_path=\"../input/com3025-2022-challenge-week2-and-3-extend-extend\", \n",
    "        filenames=tr_filenames, \n",
    "        labels=tr_labels.reshape(-1, 1),\n",
    "        size=cfg.size,\n",
    "        transform=cfg.train_transform\n",
    "    )\n",
    "    \n",
    "    va_data_setup = DS(\n",
    "        base_path=\"../input/com3025-2022-challenge-week2-and-3-extend-extend\", \n",
    "        filenames=va_filenames, \n",
    "        labels=va_labels.reshape(-1, 1),\n",
    "        size=cfg.size,\n",
    "        transform=cfg.valid_transform\n",
    "    )\n",
    "\n",
    "    dataloaders = {\n",
    "        \"train\" : DL(tr_data_setup, batch_size=cfg.batch_size, shuffle=True, generator=torch.manual_seed(cfg.seed)),\n",
    "        \"valid\" : DL(va_data_setup, batch_size=cfg.batch_size, shuffle=False),\n",
    "    }\n",
    "\n",
    "    cfg = CFG(\n",
    "        epochs=25, \n",
    "        batch_size=64, \n",
    "        early_stopping=5,\n",
    "        steps_per_epoch=len(dataloaders[\"train\"])\n",
    "    )\n",
    "    \n",
    "    torch.manual_seed(cfg.seed)\n",
    "    model = Model().to(cfg.device)\n",
    "\n",
    "    optimizer = optim.Adam([p for p in model.parameters() if p.requires_grad], lr=cfg.lr, weight_decay=cfg.wd)\n",
    "    # optimizer = optim.AdamW([p for p in model.parameters() if p.requires_grad], lr=cfg.lr, weight_decay=cfg.wd)\n",
    "    # optimizer = optim.SGD([p for p in model.parameters() if p.requires_grad], lr=cfg.lr, weight_decay=cfg.wd, momentum=0.9)\n",
    "    \n",
    "    scheduler_oclr = optim.lr_scheduler.OneCycleLR(\n",
    "        optimizer=optimizer, \n",
    "        max_lr=cfg.max_lr, \n",
    "        epochs=cfg.epochs, \n",
    "        steps_per_epoch=cfg.steps_per_epoch,\n",
    "        pct_start=cfg.pct_start, \n",
    "        div_factor=cfg.div_factor, \n",
    "        final_div_factor=cfg.final_div_factor\n",
    "    )\n",
    "\n",
    "    # scheduler_rlrop = optim.lr_scheduler.ReduceLROnPlateau(\n",
    "    #     optimizer=optimizer,\n",
    "    #     patience=cfg.patience,\n",
    "    #     eps=cfg.eps,\n",
    "    #     verbose=True\n",
    "    # )\n",
    "\n",
    "    # scheduler_oclr = None\n",
    "    scheduler_rlrop = None\n",
    "    \n",
    "    L, A, LR, BLE, BAE, _, _ = fit(\n",
    "        model=model, \n",
    "        optimizer=optimizer, \n",
    "        scheduler_oclr=scheduler_oclr,\n",
    "        scheduler_rlrop=scheduler_rlrop,\n",
    "        epochs=cfg.epochs, \n",
    "        early_stopping_patience=cfg.early_stopping, \n",
    "        dataloaders=dataloaders, \n",
    "        device=cfg.device,\n",
    "        save_path=cfg.save_path,\n",
    "        fold=fold,\n",
    "        verbose=True\n",
    "    )\n",
    "    \n",
    "    breaker()\n",
    "    show_loss_graphs(L)\n",
    "    breaker()\n",
    "    show_accuracy_graphs(A)\n",
    "    breaker()\n",
    "    if scheduler_oclr:\n",
    "        show_lr_graph(LR)\n",
    "        breaker()\n",
    "    \n",
    "    BLEs.append(BLE)\n",
    "    BAEs.append(BAE)\n",
    "    \n",
    "    fold += 1"
   ]
  },
  {
   "cell_type": "markdown",
   "id": "32080d83",
   "metadata": {
    "papermill": {
     "duration": 0.013093,
     "end_time": "2022-09-16T17:26:07.637884",
     "exception": false,
     "start_time": "2022-09-16T17:26:07.624791",
     "status": "completed"
    },
    "tags": []
   },
   "source": [
    "### **Best Model**"
   ]
  },
  {
   "cell_type": "code",
   "execution_count": 11,
   "id": "98a81f30",
   "metadata": {
    "execution": {
     "iopub.execute_input": "2022-09-16T17:26:07.666960Z",
     "iopub.status.busy": "2022-09-16T17:26:07.665507Z",
     "iopub.status.idle": "2022-09-16T17:26:07.672899Z",
     "shell.execute_reply": "2022-09-16T17:26:07.672065Z"
    },
    "papermill": {
     "duration": 0.023443,
     "end_time": "2022-09-16T17:26:07.674984",
     "exception": false,
     "start_time": "2022-09-16T17:26:07.651541",
     "status": "completed"
    },
    "tags": []
   },
   "outputs": [
    {
     "name": "stdout",
     "output_type": "stream",
     "text": [
      "\n",
      "**************************************************\n",
      "\n",
      "Best Loss Model Fold     : 3\n",
      "Best Accuracy Model Fold : 2\n",
      "\n",
      "**************************************************\n",
      "\n"
     ]
    }
   ],
   "source": [
    "best_loss_index = BLEs.index(min(BLEs))\n",
    "best_accs_index = BAEs.index(max(BAEs))\n",
    "\n",
    "breaker()\n",
    "print(f\"Best Loss Model Fold     : {best_loss_index + 1}\")\n",
    "print(f\"Best Accuracy Model Fold : {best_accs_index + 1}\")\n",
    "breaker()"
   ]
  }
 ],
 "metadata": {
  "kernelspec": {
   "display_name": "Python 3",
   "language": "python",
   "name": "python3"
  },
  "language_info": {
   "codemirror_mode": {
    "name": "ipython",
    "version": 3
   },
   "file_extension": ".py",
   "mimetype": "text/x-python",
   "name": "python",
   "nbconvert_exporter": "python",
   "pygments_lexer": "ipython3",
   "version": "3.7.12"
  },
  "papermill": {
   "default_parameters": {},
   "duration": 4679.506803,
   "end_time": "2022-09-16T17:26:09.317466",
   "environment_variables": {},
   "exception": null,
   "input_path": "__notebook__.ipynb",
   "output_path": "__notebook__.ipynb",
   "parameters": {},
   "start_time": "2022-09-16T16:08:09.810663",
   "version": "2.3.4"
  }
 },
 "nbformat": 4,
 "nbformat_minor": 5
}
