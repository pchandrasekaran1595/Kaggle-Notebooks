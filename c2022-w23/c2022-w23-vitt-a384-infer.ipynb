{
 "cells": [
  {
   "cell_type": "markdown",
   "id": "3bf5f8d0",
   "metadata": {
    "_cell_guid": "b1076dfc-b9ad-4769-8c92-a6c4dae69d19",
    "_uuid": "8f2839f25d086af736a60e9eeb907d3b93b6e0e5",
    "papermill": {
     "duration": 0.005367,
     "end_time": "2022-09-18T09:41:14.437909",
     "exception": false,
     "start_time": "2022-09-18T09:41:14.432542",
     "status": "completed"
    },
    "tags": []
   },
   "source": [
    "### **Setup**"
   ]
  },
  {
   "cell_type": "code",
   "execution_count": 1,
   "id": "1d0c5c44",
   "metadata": {
    "execution": {
     "iopub.execute_input": "2022-09-18T09:41:14.448052Z",
     "iopub.status.busy": "2022-09-18T09:41:14.447572Z",
     "iopub.status.idle": "2022-09-18T09:41:25.262547Z",
     "shell.execute_reply": "2022-09-18T09:41:25.260948Z"
    },
    "papermill": {
     "duration": 10.822814,
     "end_time": "2022-09-18T09:41:25.265051",
     "exception": false,
     "start_time": "2022-09-18T09:41:14.442237",
     "status": "completed"
    },
    "tags": []
   },
   "outputs": [
    {
     "name": "stderr",
     "output_type": "stream",
     "text": [
      "WARNING: Running pip as the 'root' user can result in broken permissions and conflicting behaviour with the system package manager. It is recommended to use a virtual environment instead: https://pip.pypa.io/warnings/venv\n"
     ]
    }
   ],
   "source": [
    "%%bash\n",
    "pip install timm -q"
   ]
  },
  {
   "cell_type": "markdown",
   "id": "6bc247c7",
   "metadata": {
    "papermill": {
     "duration": 0.004542,
     "end_time": "2022-09-18T09:41:25.274155",
     "exception": false,
     "start_time": "2022-09-18T09:41:25.269613",
     "status": "completed"
    },
    "tags": []
   },
   "source": [
    "### **Library Imports**"
   ]
  },
  {
   "cell_type": "code",
   "execution_count": 2,
   "id": "e839b49b",
   "metadata": {
    "execution": {
     "iopub.execute_input": "2022-09-18T09:41:25.284066Z",
     "iopub.status.busy": "2022-09-18T09:41:25.283714Z",
     "iopub.status.idle": "2022-09-18T09:41:28.197598Z",
     "shell.execute_reply": "2022-09-18T09:41:28.196507Z"
    },
    "papermill": {
     "duration": 2.921602,
     "end_time": "2022-09-18T09:41:28.200013",
     "exception": false,
     "start_time": "2022-09-18T09:41:25.278411",
     "status": "completed"
    },
    "tags": []
   },
   "outputs": [],
   "source": [
    "import os\n",
    "import re\n",
    "import cv2\n",
    "import timm\n",
    "import torch\n",
    "import numpy as np\n",
    "import pandas as pd\n",
    "import matplotlib.pyplot as plt\n",
    "\n",
    "from time import time\n",
    "from torch import nn, optim\n",
    "from torch.utils.data import Dataset\n",
    "from torch.utils.data import DataLoader as DL\n",
    "from torchvision import models, transforms\n",
    "\n",
    "# from sklearn.model_selection import StratifiedKFold"
   ]
  },
  {
   "cell_type": "markdown",
   "id": "341549c7",
   "metadata": {
    "papermill": {
     "duration": 0.004036,
     "end_time": "2022-09-18T09:41:28.208573",
     "exception": false,
     "start_time": "2022-09-18T09:41:28.204537",
     "status": "completed"
    },
    "tags": []
   },
   "source": [
    "### **Utilities and Helpers**"
   ]
  },
  {
   "cell_type": "code",
   "execution_count": 3,
   "id": "4ca46c7b",
   "metadata": {
    "execution": {
     "iopub.execute_input": "2022-09-18T09:41:28.220340Z",
     "iopub.status.busy": "2022-09-18T09:41:28.218324Z",
     "iopub.status.idle": "2022-09-18T09:41:28.231530Z",
     "shell.execute_reply": "2022-09-18T09:41:28.230685Z"
    },
    "papermill": {
     "duration": 0.02072,
     "end_time": "2022-09-18T09:41:28.233603",
     "exception": false,
     "start_time": "2022-09-18T09:41:28.212883",
     "status": "completed"
    },
    "tags": []
   },
   "outputs": [],
   "source": [
    "SEED = 42\n",
    "SIZE = 384\n",
    "\n",
    "\n",
    "def breaker(num: int=50, char: str=\"*\") -> None:\n",
    "    print(\"\\n\" + num*char + \"\\n\")\n",
    "\n",
    "    \n",
    "def get_image(path: str, size: int=224) -> np.ndarray:\n",
    "    image = cv2.imread(path, cv2.IMREAD_COLOR)\n",
    "    image = cv2.cvtColor(src=image, code=cv2.COLOR_BGR2RGB)\n",
    "    return cv2.resize(src=image, dsize=(size, size), interpolation=cv2.INTER_AREA)\n",
    "\n",
    "\n",
    "def show_loss_graphs(L: list) -> None:\n",
    "    TL, VL = [], []\n",
    "    for i in range(len(L)):\n",
    "        TL.append(L[i][\"train\"])\n",
    "        VL.append(L[i][\"valid\"])\n",
    "    x_Axis = np.arange(1, len(TL) + 1)\n",
    "    plt.figure()\n",
    "    plt.plot(x_Axis, TL, \"r\", label=\"Train\")\n",
    "    plt.plot(x_Axis, VL, \"b\", label=\"Valid\")\n",
    "    plt.legend()\n",
    "    plt.grid()\n",
    "    plt.title(\"Loss Graph\")\n",
    "    plt.show()\n",
    "\n",
    "\n",
    "def show_accuracy_graphs(A: list) -> None:\n",
    "    TA, VA = [], []\n",
    "    for i in range(len(A)):\n",
    "        TA.append(A[i][\"train\"])\n",
    "        VA.append(A[i][\"valid\"])\n",
    "    x_Axis = np.arange(1, len(TA) + 1)\n",
    "    plt.figure()\n",
    "    plt.plot(x_Axis, TA, \"r\", label=\"Train\")\n",
    "    plt.plot(x_Axis, VA, \"b\", label=\"Valid\")\n",
    "    plt.legend()\n",
    "    plt.grid()\n",
    "    plt.title(\"Accuracy Graph\")\n",
    "    plt.show()\n",
    "    \n",
    "\n",
    "def show_lr_graph(LR: list) -> None:\n",
    "    x_Axis = [i+1 for i in range(len(LR))]\n",
    "    plt.figure(figsize=(8, 6))\n",
    "    plt.plot(x_Axis, LR, \"rx\")\n",
    "    plt.grid()\n",
    "    plt.show()"
   ]
  },
  {
   "cell_type": "markdown",
   "id": "d42d65d9",
   "metadata": {
    "papermill": {
     "duration": 0.003997,
     "end_time": "2022-09-18T09:41:28.241709",
     "exception": false,
     "start_time": "2022-09-18T09:41:28.237712",
     "status": "completed"
    },
    "tags": []
   },
   "source": [
    "### **Configuration**"
   ]
  },
  {
   "cell_type": "code",
   "execution_count": 4,
   "id": "49b1add6",
   "metadata": {
    "execution": {
     "iopub.execute_input": "2022-09-18T09:41:28.251566Z",
     "iopub.status.busy": "2022-09-18T09:41:28.251298Z",
     "iopub.status.idle": "2022-09-18T09:41:28.317926Z",
     "shell.execute_reply": "2022-09-18T09:41:28.316862Z"
    },
    "papermill": {
     "duration": 0.07409,
     "end_time": "2022-09-18T09:41:28.319908",
     "exception": false,
     "start_time": "2022-09-18T09:41:28.245818",
     "status": "completed"
    },
    "tags": []
   },
   "outputs": [],
   "source": [
    "class CFG(object):\n",
    "    def __init__(self, \n",
    "                 seed: int = 42,\n",
    "                 size: int = 224,\n",
    "                 n_splits: int = 5,\n",
    "                 batch_size: int = 16,\n",
    "                 epochs: int = 25,\n",
    "                 early_stopping: int = 5,\n",
    "                 lr: float = 1e-4,\n",
    "                 wd: float = 0.0,\n",
    "                 max_lr: float = 1e-3,\n",
    "                 pct_start: float = 0.2,\n",
    "                 steps_per_epoch: int = 100,\n",
    "                 div_factor: int = 1e3, \n",
    "                 final_div_factor: float = 1e3,\n",
    "                 ):\n",
    "        self.seed = seed\n",
    "        self.size = size\n",
    "        self.n_splits = n_splits\n",
    "        self.batch_size = batch_size\n",
    "        self.epochs = epochs\n",
    "        self.early_stopping = early_stopping\n",
    "        self.lr = lr\n",
    "        self.wd = wd\n",
    "        self.max_lr = max_lr\n",
    "        self.pct_start = pct_start\n",
    "        self.steps_per_epoch = steps_per_epoch\n",
    "        self.div_factor = div_factor\n",
    "        self.final_div_factor = final_div_factor\n",
    "        self.device = torch.device(\"cuda\" if torch.cuda.is_available() else \"cpu\")\n",
    "        self.train_transform = transforms.Compose([\n",
    "            transforms.ToTensor(),\n",
    "            transforms.Normalize([0.43444, 0.38296, 0.29537], [0.26031, 0.21142, 0.22197]),\n",
    "            transforms.RandomAffine(degrees=(-45, 45), translate=(0.15, 0.15), scale=(0.5, 1.5)),\n",
    "            transforms.RandomHorizontalFlip(p=0.25),\n",
    "            transforms.RandomVerticalFlip(p=0.25),\n",
    "        ])\n",
    "        self.valid_transform = transforms.Compose([\n",
    "            transforms.ToTensor(),\n",
    "            transforms.Normalize([0.43444, 0.38296, 0.29537], [0.26031, 0.21142, 0.22197]),\n",
    "        ])\n",
    "                                \n",
    "        self.save_path = \"saves\"\n",
    "        if not os.path.exists(self.save_path): os.makedirs(self.save_path)\n",
    "    \n",
    "cfg = CFG(seed=SEED, size=SIZE)"
   ]
  },
  {
   "cell_type": "markdown",
   "id": "fb8abd34",
   "metadata": {
    "papermill": {
     "duration": 0.004157,
     "end_time": "2022-09-18T09:41:28.328332",
     "exception": false,
     "start_time": "2022-09-18T09:41:28.324175",
     "status": "completed"
    },
    "tags": []
   },
   "source": [
    "### **Dataset Template**"
   ]
  },
  {
   "cell_type": "code",
   "execution_count": 5,
   "id": "e8d2e989",
   "metadata": {
    "execution": {
     "iopub.execute_input": "2022-09-18T09:41:28.338715Z",
     "iopub.status.busy": "2022-09-18T09:41:28.337878Z",
     "iopub.status.idle": "2022-09-18T09:41:28.345102Z",
     "shell.execute_reply": "2022-09-18T09:41:28.344259Z"
    },
    "papermill": {
     "duration": 0.014251,
     "end_time": "2022-09-18T09:41:28.347035",
     "exception": false,
     "start_time": "2022-09-18T09:41:28.332784",
     "status": "completed"
    },
    "tags": []
   },
   "outputs": [],
   "source": [
    "class DS(Dataset):\n",
    "    def __init__(\n",
    "        self, \n",
    "        base_path: str,\n",
    "        filenames: np.ndarray, \n",
    "        labels: np.ndarray, \n",
    "        size: int,\n",
    "        transform=None):\n",
    "        \n",
    "        self.base_path = base_path\n",
    "        self.filenames = filenames\n",
    "        self.labels = labels\n",
    "        self.size = size\n",
    "        self.transform = transform\n",
    "    \n",
    "    def __len__(self):\n",
    "        return self.filenames.shape[0]\n",
    "    \n",
    "    def __getitem__(self, idx):\n",
    "        path = os.path.join(self.base_path, self.filenames[idx])\n",
    "        image = get_image(path, self.size)\n",
    "        if self.labels is None:\n",
    "            return self.transform(image)\n",
    "        return self.transform(image), self.labels[idx]"
   ]
  },
  {
   "cell_type": "markdown",
   "id": "e9c0ae38",
   "metadata": {
    "papermill": {
     "duration": 0.004,
     "end_time": "2022-09-18T09:41:28.355196",
     "exception": false,
     "start_time": "2022-09-18T09:41:28.351196",
     "status": "completed"
    },
    "tags": []
   },
   "source": [
    "### **Model**"
   ]
  },
  {
   "cell_type": "code",
   "execution_count": 6,
   "id": "b7cf074f",
   "metadata": {
    "execution": {
     "iopub.execute_input": "2022-09-18T09:41:28.365348Z",
     "iopub.status.busy": "2022-09-18T09:41:28.364517Z",
     "iopub.status.idle": "2022-09-18T09:41:28.370854Z",
     "shell.execute_reply": "2022-09-18T09:41:28.369953Z"
    },
    "papermill": {
     "duration": 0.013535,
     "end_time": "2022-09-18T09:41:28.372881",
     "exception": false,
     "start_time": "2022-09-18T09:41:28.359346",
     "status": "completed"
    },
    "tags": []
   },
   "outputs": [],
   "source": [
    "class Model(nn.Module):\n",
    "    def __init__(self):\n",
    "        super(Model, self).__init__()\n",
    "        \n",
    "        self.model = timm.create_model(model_name=\"vit_tiny_patch16_384\", pretrained=True)\n",
    "        self.model.head = nn.Linear(in_features=self.model.head.in_features, out_features=102)\n",
    "            \n",
    "    def freeze(self):\n",
    "        for params in self.parameters(): params.requires_grad = False\n",
    "\n",
    "    def forward(self, x):\n",
    "        return nn.LogSoftmax(dim=1)(self.model(x))"
   ]
  },
  {
   "cell_type": "markdown",
   "id": "33780c9e",
   "metadata": {
    "papermill": {
     "duration": 0.004022,
     "end_time": "2022-09-18T09:41:28.381066",
     "exception": false,
     "start_time": "2022-09-18T09:41:28.377044",
     "status": "completed"
    },
    "tags": []
   },
   "source": [
    "### **Fit and Predict**"
   ]
  },
  {
   "cell_type": "code",
   "execution_count": 7,
   "id": "00064f87",
   "metadata": {
    "execution": {
     "iopub.execute_input": "2022-09-18T09:41:28.390780Z",
     "iopub.status.busy": "2022-09-18T09:41:28.390528Z",
     "iopub.status.idle": "2022-09-18T09:41:28.400505Z",
     "shell.execute_reply": "2022-09-18T09:41:28.399637Z"
    },
    "papermill": {
     "duration": 0.017246,
     "end_time": "2022-09-18T09:41:28.402449",
     "exception": false,
     "start_time": "2022-09-18T09:41:28.385203",
     "status": "completed"
    },
    "tags": []
   },
   "outputs": [],
   "source": [
    "# def fit(model=None,\n",
    "#         optimizer=None, \n",
    "#         scheduler_rlrop=None,\n",
    "#         scheduler_oclr=None,\n",
    "#         epochs=None, \n",
    "#         early_stopping_patience=None, \n",
    "#         dataloaders=None, \n",
    "#         fold=None, \n",
    "#         save_path=None,\n",
    "#         device=None,\n",
    "#         verbose=False) -> tuple:   \n",
    "    \n",
    "#     def get_accuracy(y_pred, y_true):\n",
    "#         y_pred = torch.argmax(y_pred, dim=1)\n",
    "#         return torch.count_nonzero(y_pred == y_true).item() / len(y_pred)\n",
    "    \n",
    "#     if verbose:\n",
    "#         breaker()\n",
    "#         if fold: print(f\"Training Fold {fold}...\")\n",
    "#         else: print(\"Training ...\")\n",
    "#         breaker()\n",
    "        \n",
    "#     bestLoss: dict = {\"train\" : np.inf, \"valid\" : np.inf} \n",
    "#     bestAccs: dict = {\"train\" : 0.0, \"valid\" : 0.0}\n",
    "        \n",
    "#     Losses: list = []\n",
    "#     Accuracies: list = [] \n",
    "#     LRs: list = []\n",
    "        \n",
    "#     if fold: \n",
    "#         ble_name = f\"ble_state_fold_{fold}.pt\"\n",
    "#         bae_name = f\"bae_state_fold_{fold}.pt\"\n",
    "#     else: \n",
    "#         ble_name = f\"ble_state.pt\"\n",
    "#         bae_name = f\"bae_state.pt\"\n",
    "    \n",
    "#     start_time = time()\n",
    "#     for e in range(epochs):\n",
    "#         e_st = time()\n",
    "#         epochLoss: dict = {\"train\" : 0.0, \"valid\" : 0.0} \n",
    "#         epochAccs: dict = {\"train\" : 0.0, \"valid\" : 0.0} \n",
    "\n",
    "#         for phase in [\"train\", \"valid\"]:\n",
    "#             if phase == \"train\": model.train()\n",
    "#             else: model.eval()\n",
    "            \n",
    "#             lossPerPass: list = []\n",
    "#             accsPerPass: list = []\n",
    "                   \n",
    "#             for X, y in dataloaders[phase]:\n",
    "#                 X, y = X.to(device), y.to(device).view(-1)\n",
    "\n",
    "#                 optimizer.zero_grad()\n",
    "#                 with torch.set_grad_enabled(phase == \"train\"):\n",
    "#                     output = model(X)\n",
    "#                     loss = torch.nn.NLLLoss()(output, y)\n",
    "#                     if phase == \"train\":\n",
    "#                         loss.backward()\n",
    "#                         optimizer.step()\n",
    "#                         if scheduler_oclr: scheduler_oclr.step()\n",
    "#                 lossPerPass.append(loss.item())\n",
    "#                 accsPerPass.append(get_accuracy(output, y))\n",
    "#             epochLoss[phase] = np.mean(np.array(lossPerPass))\n",
    "#             epochAccs[phase] = np.mean(np.array(accsPerPass))\n",
    "#         if scheduler_oclr: LRs.append(scheduler_oclr.get_last_lr())\n",
    "#         Losses.append(epochLoss)\n",
    "#         Accuracies.append(epochAccs)\n",
    "    \n",
    "#         if scheduler_oclr:\n",
    "#             save_dict = {\"model_state_dict\"     : model.state_dict(),\n",
    "#                          \"optim_state_dict\"     : optimizer.state_dict(),\n",
    "#                          \"scheduler_state_dict\" : scheduler_oclr.state_dict()}\n",
    "        \n",
    "#         elif scheduler_rlrop:\n",
    "#             save_dict = {\"model_state_dict\"     : model.state_dict(),\n",
    "#                          \"optim_state_dict\"     : optimizer.state_dict(),\n",
    "#                          \"scheduler_state_dict\" : scheduler_rlrop.state_dict()}\n",
    "        \n",
    "#         else:\n",
    "#             save_dict = {\"model_state_dict\"     : model.state_dict(),\n",
    "#                          \"optim_state_dict\"     : optimizer.state_dict()}\n",
    "        \n",
    "        \n",
    "#         if early_stopping_patience:\n",
    "#             if epochLoss[\"valid\"] < bestLoss[\"valid\"]:\n",
    "#                 bestLoss = epochLoss\n",
    "#                 BLE = e + 1\n",
    "#                 torch.save(save_dict, os.path.join(save_path, ble_name))\n",
    "#                 early_stopping_step = 0\n",
    "#             else:\n",
    "#                 early_stopping_step += 1\n",
    "#                 if early_stopping_step > early_stopping_patience:\n",
    "#                     print(\"\\nEarly Stopping at Epoch {}\".format(e + 1))\n",
    "#                     break\n",
    "        \n",
    "#         if epochLoss[\"valid\"] < bestLoss[\"valid\"]:\n",
    "#             bestLoss = epochLoss\n",
    "#             BLE = e + 1\n",
    "#             torch.save(save_dict,os.path.join(save_path, ble_name))\n",
    "        \n",
    "#         if epochAccs[\"valid\"] > bestAccs[\"valid\"]:\n",
    "#             bestAccs = epochAccs\n",
    "#             BAE = e + 1\n",
    "#             torch.save(save_dict,os.path.join(save_path, bae_name))\n",
    "        \n",
    "#         if scheduler_rlrop: scheduler_rlrop.step(epochLoss[\"valid\"])\n",
    "        \n",
    "#         if verbose:\n",
    "#             print(\"Epoch: {} | Train Loss: {:.5f} | Valid Loss: {:.5f} |\\\n",
    "#  Train Accs: {:.5f} | Valid Accs: {:.5f} | Time: {:.2f} seconds\".format(e+1, \n",
    "#                                                                         epochLoss[\"train\"], epochLoss[\"valid\"], \n",
    "#                                                                         epochAccs[\"train\"], epochAccs[\"valid\"], \n",
    "#                                                                         time()-e_st))\n",
    "\n",
    "#     if verbose:                                           \n",
    "#         breaker()\n",
    "#         print(f\"Best Validation Loss at Epoch {BLE}\")\n",
    "#         breaker()\n",
    "#         print(f\"Best Validation Accs at Epoch {BAE}\")\n",
    "#         breaker()\n",
    "#         print(\"Time Taken [{} Epochs] : {:.2f} minutes\".format(len(Losses), (time()-start_time)/60))\n",
    "    \n",
    "#     return Losses, Accuracies, LRs, BLE, BAE, ble_name, bae_name\n",
    "    \n",
    "\n",
    "def predict_batch(\n",
    "    model=None, \n",
    "    dataloader=None, \n",
    "    path=None, \n",
    "    device=None\n",
    ") -> np.ndarray:\n",
    "    \n",
    "    model.load_state_dict(torch.load(path, map_location=device)[\"model_state_dict\"])\n",
    "    model.to(device)    \n",
    "    model.eval()\n",
    "    \n",
    "    y_pred = torch.zeros(1, 1).to(device)\n",
    "    \n",
    "    for X in dataloader:\n",
    "        X = X.to(device)\n",
    "        with torch.no_grad():\n",
    "            output = torch.argmax(torch.exp(model(X)), dim=1)\n",
    "        y_pred = torch.cat((y_pred, output.view(-1, 1)), dim=0)\n",
    "    \n",
    "    return y_pred[1:].detach().cpu().numpy()"
   ]
  },
  {
   "cell_type": "markdown",
   "id": "730a8fcd",
   "metadata": {
    "papermill": {
     "duration": 0.003943,
     "end_time": "2022-09-18T09:41:28.411480",
     "exception": false,
     "start_time": "2022-09-18T09:41:28.407537",
     "status": "completed"
    },
    "tags": []
   },
   "source": [
    "### **Train**"
   ]
  },
  {
   "cell_type": "code",
   "execution_count": 8,
   "id": "a50704cf",
   "metadata": {
    "execution": {
     "iopub.execute_input": "2022-09-18T09:41:28.421631Z",
     "iopub.status.busy": "2022-09-18T09:41:28.420802Z",
     "iopub.status.idle": "2022-09-18T09:41:28.425424Z",
     "shell.execute_reply": "2022-09-18T09:41:28.424501Z"
    },
    "papermill": {
     "duration": 0.012061,
     "end_time": "2022-09-18T09:41:28.427697",
     "exception": false,
     "start_time": "2022-09-18T09:41:28.415636",
     "status": "completed"
    },
    "tags": []
   },
   "outputs": [],
   "source": [
    "# df = pd.read_csv(\"../input/com3025-2022-challenge-week2-and-3-extend-extend/train.csv\")\n",
    "\n",
    "# filenames = df.file_path.copy().values\n",
    "# labels = df.iloc[:, 1:].copy().values"
   ]
  },
  {
   "cell_type": "code",
   "execution_count": 9,
   "id": "c18ca90b",
   "metadata": {
    "execution": {
     "iopub.execute_input": "2022-09-18T09:41:28.437767Z",
     "iopub.status.busy": "2022-09-18T09:41:28.437176Z",
     "iopub.status.idle": "2022-09-18T09:41:28.443406Z",
     "shell.execute_reply": "2022-09-18T09:41:28.442610Z"
    },
    "papermill": {
     "duration": 0.013355,
     "end_time": "2022-09-18T09:41:28.445342",
     "exception": false,
     "start_time": "2022-09-18T09:41:28.431987",
     "status": "completed"
    },
    "tags": []
   },
   "outputs": [],
   "source": [
    "# fold: int = 1\n",
    "# BLEs: list = []\n",
    "# BAEs: list = []\n",
    "\n",
    "# for tr_idx, va_idx in StratifiedKFold(n_splits=cfg.n_splits, random_state=cfg.seed, shuffle=True).split(filenames, labels):\n",
    "\n",
    "#     tr_filenames, va_filenames = filenames[tr_idx], filenames[va_idx] \n",
    "#     tr_labels, va_labels       = labels[tr_idx], labels[va_idx]\n",
    "    \n",
    "#     tr_data_setup = DS(\n",
    "#         base_path=\"../input/com3025-2022-challenge-week2-and-3-extend-extend\", \n",
    "#         filenames=tr_filenames, \n",
    "#         labels=tr_labels.reshape(-1, 1),\n",
    "#         size=cfg.size,\n",
    "#         transform=cfg.train_transform\n",
    "#     )\n",
    "    \n",
    "#     va_data_setup = DS(\n",
    "#         base_path=\"../input/com3025-2022-challenge-week2-and-3-extend-extend\", \n",
    "#         filenames=va_filenames, \n",
    "#         labels=va_labels.reshape(-1, 1),\n",
    "#         size=cfg.size,\n",
    "#         transform=cfg.valid_transform\n",
    "#     )\n",
    "\n",
    "#     dataloaders = {\n",
    "#         \"train\" : DL(tr_data_setup, batch_size=cfg.batch_size, shuffle=True, generator=torch.manual_seed(cfg.seed)),\n",
    "#         \"valid\" : DL(va_data_setup, batch_size=cfg.batch_size, shuffle=False),\n",
    "#     }\n",
    "\n",
    "#     cfg = CFG(\n",
    "#         size=SIZE,\n",
    "#         epochs=25, \n",
    "#         batch_size=64, \n",
    "#         early_stopping=5,\n",
    "#         steps_per_epoch=len(dataloaders[\"train\"])\n",
    "#     )\n",
    "    \n",
    "#     torch.manual_seed(cfg.seed)\n",
    "#     model = Model().to(cfg.device)\n",
    "\n",
    "#     optimizer = optim.Adam([p for p in model.parameters() if p.requires_grad], lr=cfg.lr, weight_decay=cfg.wd)\n",
    "#     # optimizer = optim.AdamW([p for p in model.parameters() if p.requires_grad], lr=cfg.lr, weight_decay=cfg.wd)\n",
    "#     # optimizer = optim.SGD([p for p in model.parameters() if p.requires_grad], lr=cfg.lr, weight_decay=cfg.wd, momentum=0.9)\n",
    "    \n",
    "#     scheduler_oclr = optim.lr_scheduler.OneCycleLR(\n",
    "#         optimizer=optimizer, \n",
    "#         max_lr=cfg.max_lr, \n",
    "#         epochs=cfg.epochs, \n",
    "#         steps_per_epoch=cfg.steps_per_epoch,\n",
    "#         pct_start=cfg.pct_start, \n",
    "#         div_factor=cfg.div_factor, \n",
    "#         final_div_factor=cfg.final_div_factor\n",
    "#     )\n",
    "\n",
    "#     # scheduler_rlrop = optim.lr_scheduler.ReduceLROnPlateau(\n",
    "#     #     optimizer=optimizer,\n",
    "#     #     patience=cfg.patience,\n",
    "#     #     eps=cfg.eps,\n",
    "#     #     verbose=True\n",
    "#     # )\n",
    "\n",
    "#     # scheduler_oclr = None\n",
    "#     scheduler_rlrop = None\n",
    "    \n",
    "#     L, A, LR, BLE, BAE, _, _ = fit(\n",
    "#         model=model, \n",
    "#         optimizer=optimizer, \n",
    "#         scheduler_oclr=scheduler_oclr,\n",
    "#         scheduler_rlrop=scheduler_rlrop,\n",
    "#         epochs=cfg.epochs, \n",
    "#         early_stopping_patience=cfg.early_stopping, \n",
    "#         dataloaders=dataloaders, \n",
    "#         device=cfg.device,\n",
    "#         save_path=cfg.save_path,\n",
    "#         fold=fold,\n",
    "#         verbose=True\n",
    "#     )\n",
    "    \n",
    "#     breaker()\n",
    "#     show_loss_graphs(L)\n",
    "#     breaker()\n",
    "#     show_accuracy_graphs(A)\n",
    "#     breaker()\n",
    "#     if scheduler_oclr:\n",
    "#         show_lr_graph(LR)\n",
    "#         breaker()\n",
    "    \n",
    "#     BLEs.append(BLE)\n",
    "#     BAEs.append(BAE)\n",
    "    \n",
    "#     fold += 1"
   ]
  },
  {
   "cell_type": "markdown",
   "id": "1fb9abe6",
   "metadata": {
    "papermill": {
     "duration": 0.004207,
     "end_time": "2022-09-18T09:41:28.453860",
     "exception": false,
     "start_time": "2022-09-18T09:41:28.449653",
     "status": "completed"
    },
    "tags": []
   },
   "source": [
    "### **Best Model**"
   ]
  },
  {
   "cell_type": "code",
   "execution_count": 10,
   "id": "aa304368",
   "metadata": {
    "execution": {
     "iopub.execute_input": "2022-09-18T09:41:28.463655Z",
     "iopub.status.busy": "2022-09-18T09:41:28.462868Z",
     "iopub.status.idle": "2022-09-18T09:41:28.466982Z",
     "shell.execute_reply": "2022-09-18T09:41:28.466176Z"
    },
    "papermill": {
     "duration": 0.010885,
     "end_time": "2022-09-18T09:41:28.468859",
     "exception": false,
     "start_time": "2022-09-18T09:41:28.457974",
     "status": "completed"
    },
    "tags": []
   },
   "outputs": [],
   "source": [
    "# best_loss_index = BLEs.index(min(BLEs))\n",
    "# best_accs_index = BAEs.index(max(BAEs))\n",
    "\n",
    "# breaker()\n",
    "# print(f\"Best Loss Model Fold     : {best_loss_index + 1}\")\n",
    "# print(f\"Best Accuracy Model Fold : {best_accs_index + 1}\")\n",
    "# breaker()"
   ]
  },
  {
   "cell_type": "markdown",
   "id": "7bd1c3e7",
   "metadata": {
    "papermill": {
     "duration": 0.003966,
     "end_time": "2022-09-18T09:41:28.477007",
     "exception": false,
     "start_time": "2022-09-18T09:41:28.473041",
     "status": "completed"
    },
    "tags": []
   },
   "source": [
    "### **Submit**"
   ]
  },
  {
   "cell_type": "code",
   "execution_count": 11,
   "id": "a2412465",
   "metadata": {
    "execution": {
     "iopub.execute_input": "2022-09-18T09:41:28.486983Z",
     "iopub.status.busy": "2022-09-18T09:41:28.486179Z",
     "iopub.status.idle": "2022-09-18T09:43:42.382649Z",
     "shell.execute_reply": "2022-09-18T09:43:42.381633Z"
    },
    "papermill": {
     "duration": 133.904557,
     "end_time": "2022-09-18T09:43:42.385817",
     "exception": false,
     "start_time": "2022-09-18T09:41:28.481260",
     "status": "completed"
    },
    "tags": []
   },
   "outputs": [],
   "source": [
    "torch.manual_seed(cfg.seed)\n",
    "model = Model().to(cfg.device)\n",
    "\n",
    "ss_df = pd.read_csv(\"../input/com3025-2022-challenge-week2-and-3-extend-extend/example_submission.csv\")\n",
    "ts_filenames = ss_df[\"file_path\"]\n",
    "\n",
    "ts_data_setup = DS(\n",
    "    base_path=\"../input/com3025-2022-challenge-week2-and-3-extend-extend\", \n",
    "    filenames=ts_filenames, \n",
    "    size=cfg.size,\n",
    "    transform=cfg.valid_transform,\n",
    "    labels=None,\n",
    ")\n",
    "ts_data = DL(ts_data_setup, batch_size=cfg.batch_size, shuffle=False)\n",
    "\n",
    "y_pred = predict_batch(\n",
    "    model=model,\n",
    "    dataloader=ts_data,\n",
    "    path=\"../input/c2022-w23-vitt-a384/saves/ble_state_fold_1.pt\",\n",
    "    device=cfg.device\n",
    ")\n",
    "\n",
    "ss_df[\"label\"] = y_pred.astype(\"uint8\")\n",
    "ss_df.to_csv(\"submission.csv\", index=False)"
   ]
  }
 ],
 "metadata": {
  "kernelspec": {
   "display_name": "Python 3",
   "language": "python",
   "name": "python3"
  },
  "language_info": {
   "codemirror_mode": {
    "name": "ipython",
    "version": 3
   },
   "file_extension": ".py",
   "mimetype": "text/x-python",
   "name": "python",
   "nbconvert_exporter": "python",
   "pygments_lexer": "ipython3",
   "version": "3.7.12"
  },
  "papermill": {
   "default_parameters": {},
   "duration": 157.158808,
   "end_time": "2022-09-18T09:43:43.923024",
   "environment_variables": {},
   "exception": null,
   "input_path": "__notebook__.ipynb",
   "output_path": "__notebook__.ipynb",
   "parameters": {},
   "start_time": "2022-09-18T09:41:06.764216",
   "version": "2.3.4"
  }
 },
 "nbformat": 4,
 "nbformat_minor": 5
}
