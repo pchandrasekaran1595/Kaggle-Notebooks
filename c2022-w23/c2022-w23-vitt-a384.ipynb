{
 "cells": [
  {
   "cell_type": "markdown",
   "id": "adf7419a",
   "metadata": {
    "_cell_guid": "b1076dfc-b9ad-4769-8c92-a6c4dae69d19",
    "_uuid": "8f2839f25d086af736a60e9eeb907d3b93b6e0e5",
    "papermill": {
     "duration": 0.010163,
     "end_time": "2022-09-18T06:25:22.820975",
     "exception": false,
     "start_time": "2022-09-18T06:25:22.810812",
     "status": "completed"
    },
    "tags": []
   },
   "source": [
    "### **Setup**"
   ]
  },
  {
   "cell_type": "code",
   "execution_count": 1,
   "id": "698899a7",
   "metadata": {
    "execution": {
     "iopub.execute_input": "2022-09-18T06:25:22.841067Z",
     "iopub.status.busy": "2022-09-18T06:25:22.840441Z",
     "iopub.status.idle": "2022-09-18T06:25:33.107341Z",
     "shell.execute_reply": "2022-09-18T06:25:33.105824Z"
    },
    "papermill": {
     "duration": 10.279279,
     "end_time": "2022-09-18T06:25:33.109646",
     "exception": false,
     "start_time": "2022-09-18T06:25:22.830367",
     "status": "completed"
    },
    "tags": []
   },
   "outputs": [
    {
     "name": "stderr",
     "output_type": "stream",
     "text": [
      "WARNING: Running pip as the 'root' user can result in broken permissions and conflicting behaviour with the system package manager. It is recommended to use a virtual environment instead: https://pip.pypa.io/warnings/venv\n"
     ]
    }
   ],
   "source": [
    "%%bash\n",
    "pip install timm -q"
   ]
  },
  {
   "cell_type": "markdown",
   "id": "8f684fb2",
   "metadata": {
    "papermill": {
     "duration": 0.004307,
     "end_time": "2022-09-18T06:25:33.118435",
     "exception": false,
     "start_time": "2022-09-18T06:25:33.114128",
     "status": "completed"
    },
    "tags": []
   },
   "source": [
    "### **Library Imports**"
   ]
  },
  {
   "cell_type": "code",
   "execution_count": 2,
   "id": "3f7f94af",
   "metadata": {
    "execution": {
     "iopub.execute_input": "2022-09-18T06:25:33.128317Z",
     "iopub.status.busy": "2022-09-18T06:25:33.128011Z",
     "iopub.status.idle": "2022-09-18T06:25:36.973656Z",
     "shell.execute_reply": "2022-09-18T06:25:36.972552Z"
    },
    "papermill": {
     "duration": 3.853527,
     "end_time": "2022-09-18T06:25:36.976127",
     "exception": false,
     "start_time": "2022-09-18T06:25:33.122600",
     "status": "completed"
    },
    "tags": []
   },
   "outputs": [],
   "source": [
    "import os\n",
    "import re\n",
    "import cv2\n",
    "import timm\n",
    "import torch\n",
    "import numpy as np\n",
    "import pandas as pd\n",
    "import matplotlib.pyplot as plt\n",
    "\n",
    "from time import time\n",
    "from torch import nn, optim\n",
    "from torch.utils.data import Dataset\n",
    "from torch.utils.data import DataLoader as DL\n",
    "from torchvision import models, transforms\n",
    "\n",
    "from sklearn.model_selection import StratifiedKFold"
   ]
  },
  {
   "cell_type": "markdown",
   "id": "65c3766c",
   "metadata": {
    "papermill": {
     "duration": 0.00409,
     "end_time": "2022-09-18T06:25:36.984806",
     "exception": false,
     "start_time": "2022-09-18T06:25:36.980716",
     "status": "completed"
    },
    "tags": []
   },
   "source": [
    "### **Utilities and Helpers**"
   ]
  },
  {
   "cell_type": "code",
   "execution_count": 3,
   "id": "a6b318cb",
   "metadata": {
    "execution": {
     "iopub.execute_input": "2022-09-18T06:25:36.995161Z",
     "iopub.status.busy": "2022-09-18T06:25:36.994442Z",
     "iopub.status.idle": "2022-09-18T06:25:37.007477Z",
     "shell.execute_reply": "2022-09-18T06:25:37.006642Z"
    },
    "papermill": {
     "duration": 0.020401,
     "end_time": "2022-09-18T06:25:37.009355",
     "exception": false,
     "start_time": "2022-09-18T06:25:36.988954",
     "status": "completed"
    },
    "tags": []
   },
   "outputs": [],
   "source": [
    "SEED = 42\n",
    "SIZE = 384\n",
    "\n",
    "\n",
    "def breaker(num: int=50, char: str=\"*\") -> None:\n",
    "    print(\"\\n\" + num*char + \"\\n\")\n",
    "\n",
    "    \n",
    "def get_image(path: str, size: int=224) -> np.ndarray:\n",
    "    image = cv2.imread(path, cv2.IMREAD_COLOR)\n",
    "    image = cv2.cvtColor(src=image, code=cv2.COLOR_BGR2RGB)\n",
    "    return cv2.resize(src=image, dsize=(size, size), interpolation=cv2.INTER_AREA)\n",
    "\n",
    "\n",
    "def show_loss_graphs(L: list) -> None:\n",
    "    TL, VL = [], []\n",
    "    for i in range(len(L)):\n",
    "        TL.append(L[i][\"train\"])\n",
    "        VL.append(L[i][\"valid\"])\n",
    "    x_Axis = np.arange(1, len(TL) + 1)\n",
    "    plt.figure()\n",
    "    plt.plot(x_Axis, TL, \"r\", label=\"Train\")\n",
    "    plt.plot(x_Axis, VL, \"b\", label=\"Valid\")\n",
    "    plt.legend()\n",
    "    plt.grid()\n",
    "    plt.title(\"Loss Graph\")\n",
    "    plt.show()\n",
    "\n",
    "\n",
    "def show_accuracy_graphs(A: list) -> None:\n",
    "    TA, VA = [], []\n",
    "    for i in range(len(A)):\n",
    "        TA.append(A[i][\"train\"])\n",
    "        VA.append(A[i][\"valid\"])\n",
    "    x_Axis = np.arange(1, len(TA) + 1)\n",
    "    plt.figure()\n",
    "    plt.plot(x_Axis, TA, \"r\", label=\"Train\")\n",
    "    plt.plot(x_Axis, VA, \"b\", label=\"Valid\")\n",
    "    plt.legend()\n",
    "    plt.grid()\n",
    "    plt.title(\"Accuracy Graph\")\n",
    "    plt.show()\n",
    "    \n",
    "\n",
    "def show_lr_graph(LR: list) -> None:\n",
    "    x_Axis = [i+1 for i in range(len(LR))]\n",
    "    plt.figure(figsize=(8, 6))\n",
    "    plt.plot(x_Axis, LR, \"rx\")\n",
    "    plt.grid()\n",
    "    plt.show()"
   ]
  },
  {
   "cell_type": "markdown",
   "id": "4e383bb1",
   "metadata": {
    "papermill": {
     "duration": 0.004385,
     "end_time": "2022-09-18T06:25:37.017981",
     "exception": false,
     "start_time": "2022-09-18T06:25:37.013596",
     "status": "completed"
    },
    "tags": []
   },
   "source": [
    "### **Configuration**"
   ]
  },
  {
   "cell_type": "code",
   "execution_count": 4,
   "id": "b6bc54de",
   "metadata": {
    "execution": {
     "iopub.execute_input": "2022-09-18T06:25:37.027525Z",
     "iopub.status.busy": "2022-09-18T06:25:37.027257Z",
     "iopub.status.idle": "2022-09-18T06:25:37.097265Z",
     "shell.execute_reply": "2022-09-18T06:25:37.096361Z"
    },
    "papermill": {
     "duration": 0.07714,
     "end_time": "2022-09-18T06:25:37.099342",
     "exception": false,
     "start_time": "2022-09-18T06:25:37.022202",
     "status": "completed"
    },
    "tags": []
   },
   "outputs": [],
   "source": [
    "class CFG(object):\n",
    "    def __init__(self, \n",
    "                 seed: int = 42,\n",
    "                 size: int = 224,\n",
    "                 n_splits: int = 5,\n",
    "                 batch_size: int = 16,\n",
    "                 epochs: int = 25,\n",
    "                 early_stopping: int = 5,\n",
    "                 lr: float = 1e-4,\n",
    "                 wd: float = 0.0,\n",
    "                 max_lr: float = 1e-3,\n",
    "                 pct_start: float = 0.2,\n",
    "                 steps_per_epoch: int = 100,\n",
    "                 div_factor: int = 1e3, \n",
    "                 final_div_factor: float = 1e3,\n",
    "                 ):\n",
    "        self.seed = seed\n",
    "        self.size = size\n",
    "        self.n_splits = n_splits\n",
    "        self.batch_size = batch_size\n",
    "        self.epochs = epochs\n",
    "        self.early_stopping = early_stopping\n",
    "        self.lr = lr\n",
    "        self.wd = wd\n",
    "        self.max_lr = max_lr\n",
    "        self.pct_start = pct_start\n",
    "        self.steps_per_epoch = steps_per_epoch\n",
    "        self.div_factor = div_factor\n",
    "        self.final_div_factor = final_div_factor\n",
    "        self.device = torch.device(\"cuda\" if torch.cuda.is_available() else \"cpu\")\n",
    "        self.train_transform = transforms.Compose([\n",
    "            transforms.ToTensor(),\n",
    "            transforms.Normalize([0.43444, 0.38296, 0.29537], [0.26031, 0.21142, 0.22197]),\n",
    "            transforms.RandomAffine(degrees=(-45, 45), translate=(0.15, 0.15), scale=(0.5, 1.5)),\n",
    "            transforms.RandomHorizontalFlip(p=0.25),\n",
    "            transforms.RandomVerticalFlip(p=0.25),\n",
    "        ])\n",
    "        self.valid_transform = transforms.Compose([\n",
    "            transforms.ToTensor(),\n",
    "            transforms.Normalize([0.43444, 0.38296, 0.29537], [0.26031, 0.21142, 0.22197]),\n",
    "        ])\n",
    "                                \n",
    "        self.save_path = \"saves\"\n",
    "        if not os.path.exists(self.save_path): os.makedirs(self.save_path)\n",
    "    \n",
    "cfg = CFG(seed=SEED, size=SIZE)"
   ]
  },
  {
   "cell_type": "markdown",
   "id": "e715d413",
   "metadata": {
    "papermill": {
     "duration": 0.004056,
     "end_time": "2022-09-18T06:25:37.107813",
     "exception": false,
     "start_time": "2022-09-18T06:25:37.103757",
     "status": "completed"
    },
    "tags": []
   },
   "source": [
    "### **Dataset Template**"
   ]
  },
  {
   "cell_type": "code",
   "execution_count": 5,
   "id": "e101835b",
   "metadata": {
    "execution": {
     "iopub.execute_input": "2022-09-18T06:25:37.118254Z",
     "iopub.status.busy": "2022-09-18T06:25:37.117379Z",
     "iopub.status.idle": "2022-09-18T06:25:37.124642Z",
     "shell.execute_reply": "2022-09-18T06:25:37.123768Z"
    },
    "papermill": {
     "duration": 0.014697,
     "end_time": "2022-09-18T06:25:37.126671",
     "exception": false,
     "start_time": "2022-09-18T06:25:37.111974",
     "status": "completed"
    },
    "tags": []
   },
   "outputs": [],
   "source": [
    "class DS(Dataset):\n",
    "    def __init__(\n",
    "        self, \n",
    "        base_path: str,\n",
    "        filenames: np.ndarray, \n",
    "        labels: np.ndarray, \n",
    "        size: int,\n",
    "        transform=None):\n",
    "        \n",
    "        self.base_path = base_path\n",
    "        self.filenames = filenames\n",
    "        self.labels = labels\n",
    "        self.size = size\n",
    "        self.transform = transform\n",
    "    \n",
    "    def __len__(self):\n",
    "        return self.filenames.shape[0]\n",
    "    \n",
    "    def __getitem__(self, idx):\n",
    "        path = os.path.join(self.base_path, self.filenames[idx])\n",
    "        image = get_image(path, self.size)\n",
    "        if self.labels is None:\n",
    "            return self.transform(image)\n",
    "        return self.transform(image), self.labels[idx]"
   ]
  },
  {
   "cell_type": "markdown",
   "id": "6274378d",
   "metadata": {
    "papermill": {
     "duration": 0.00394,
     "end_time": "2022-09-18T06:25:37.134776",
     "exception": false,
     "start_time": "2022-09-18T06:25:37.130836",
     "status": "completed"
    },
    "tags": []
   },
   "source": [
    "### **Model**"
   ]
  },
  {
   "cell_type": "code",
   "execution_count": 6,
   "id": "4ab7b15e",
   "metadata": {
    "execution": {
     "iopub.execute_input": "2022-09-18T06:25:37.144400Z",
     "iopub.status.busy": "2022-09-18T06:25:37.144129Z",
     "iopub.status.idle": "2022-09-18T06:25:37.150149Z",
     "shell.execute_reply": "2022-09-18T06:25:37.149184Z"
    },
    "papermill": {
     "duration": 0.013299,
     "end_time": "2022-09-18T06:25:37.152282",
     "exception": false,
     "start_time": "2022-09-18T06:25:37.138983",
     "status": "completed"
    },
    "tags": []
   },
   "outputs": [],
   "source": [
    "class Model(nn.Module):\n",
    "    def __init__(self):\n",
    "        super(Model, self).__init__()\n",
    "        \n",
    "        self.model = timm.create_model(model_name=\"vit_tiny_patch16_384\", pretrained=True)\n",
    "        self.model.head = nn.Linear(in_features=self.model.head.in_features, out_features=102)\n",
    "            \n",
    "    def freeze(self):\n",
    "        for params in self.parameters(): params.requires_grad = False\n",
    "\n",
    "    def forward(self, x):\n",
    "        return nn.LogSoftmax(dim=1)(self.model(x))"
   ]
  },
  {
   "cell_type": "markdown",
   "id": "9267fa4f",
   "metadata": {
    "papermill": {
     "duration": 0.004008,
     "end_time": "2022-09-18T06:25:37.160430",
     "exception": false,
     "start_time": "2022-09-18T06:25:37.156422",
     "status": "completed"
    },
    "tags": []
   },
   "source": [
    "### **Fit and Predict**"
   ]
  },
  {
   "cell_type": "code",
   "execution_count": 7,
   "id": "01c618ed",
   "metadata": {
    "execution": {
     "iopub.execute_input": "2022-09-18T06:25:37.170271Z",
     "iopub.status.busy": "2022-09-18T06:25:37.170024Z",
     "iopub.status.idle": "2022-09-18T06:25:37.193083Z",
     "shell.execute_reply": "2022-09-18T06:25:37.192176Z"
    },
    "papermill": {
     "duration": 0.030415,
     "end_time": "2022-09-18T06:25:37.195137",
     "exception": false,
     "start_time": "2022-09-18T06:25:37.164722",
     "status": "completed"
    },
    "tags": []
   },
   "outputs": [],
   "source": [
    "def fit(model=None,\n",
    "        optimizer=None, \n",
    "        scheduler_rlrop=None,\n",
    "        scheduler_oclr=None,\n",
    "        epochs=None, \n",
    "        early_stopping_patience=None, \n",
    "        dataloaders=None, \n",
    "        fold=None, \n",
    "        save_path=None,\n",
    "        device=None,\n",
    "        verbose=False) -> tuple:   \n",
    "    \n",
    "    def get_accuracy(y_pred, y_true):\n",
    "        y_pred = torch.argmax(y_pred, dim=1)\n",
    "        return torch.count_nonzero(y_pred == y_true).item() / len(y_pred)\n",
    "    \n",
    "    if verbose:\n",
    "        breaker()\n",
    "        if fold: print(f\"Training Fold {fold}...\")\n",
    "        else: print(\"Training ...\")\n",
    "        breaker()\n",
    "        \n",
    "    bestLoss: dict = {\"train\" : np.inf, \"valid\" : np.inf} \n",
    "    bestAccs: dict = {\"train\" : 0.0, \"valid\" : 0.0}\n",
    "        \n",
    "    Losses: list = []\n",
    "    Accuracies: list = [] \n",
    "    LRs: list = []\n",
    "        \n",
    "    if fold: \n",
    "        ble_name = f\"ble_state_fold_{fold}.pt\"\n",
    "        bae_name = f\"bae_state_fold_{fold}.pt\"\n",
    "    else: \n",
    "        ble_name = f\"ble_state.pt\"\n",
    "        bae_name = f\"bae_state.pt\"\n",
    "    \n",
    "    start_time = time()\n",
    "    for e in range(epochs):\n",
    "        e_st = time()\n",
    "        epochLoss: dict = {\"train\" : 0.0, \"valid\" : 0.0} \n",
    "        epochAccs: dict = {\"train\" : 0.0, \"valid\" : 0.0} \n",
    "\n",
    "        for phase in [\"train\", \"valid\"]:\n",
    "            if phase == \"train\": model.train()\n",
    "            else: model.eval()\n",
    "            \n",
    "            lossPerPass: list = []\n",
    "            accsPerPass: list = []\n",
    "                   \n",
    "            for X, y in dataloaders[phase]:\n",
    "                X, y = X.to(device), y.to(device).view(-1)\n",
    "\n",
    "                optimizer.zero_grad()\n",
    "                with torch.set_grad_enabled(phase == \"train\"):\n",
    "                    output = model(X)\n",
    "                    loss = torch.nn.NLLLoss()(output, y)\n",
    "                    if phase == \"train\":\n",
    "                        loss.backward()\n",
    "                        optimizer.step()\n",
    "                        if scheduler_oclr: scheduler_oclr.step()\n",
    "                lossPerPass.append(loss.item())\n",
    "                accsPerPass.append(get_accuracy(output, y))\n",
    "            epochLoss[phase] = np.mean(np.array(lossPerPass))\n",
    "            epochAccs[phase] = np.mean(np.array(accsPerPass))\n",
    "        if scheduler_oclr: LRs.append(scheduler_oclr.get_last_lr())\n",
    "        Losses.append(epochLoss)\n",
    "        Accuracies.append(epochAccs)\n",
    "    \n",
    "        if scheduler_oclr:\n",
    "            save_dict = {\"model_state_dict\"     : model.state_dict(),\n",
    "                         \"optim_state_dict\"     : optimizer.state_dict(),\n",
    "                         \"scheduler_state_dict\" : scheduler_oclr.state_dict()}\n",
    "        \n",
    "        elif scheduler_rlrop:\n",
    "            save_dict = {\"model_state_dict\"     : model.state_dict(),\n",
    "                         \"optim_state_dict\"     : optimizer.state_dict(),\n",
    "                         \"scheduler_state_dict\" : scheduler_rlrop.state_dict()}\n",
    "        \n",
    "        else:\n",
    "            save_dict = {\"model_state_dict\"     : model.state_dict(),\n",
    "                         \"optim_state_dict\"     : optimizer.state_dict()}\n",
    "        \n",
    "        \n",
    "        if early_stopping_patience:\n",
    "            if epochLoss[\"valid\"] < bestLoss[\"valid\"]:\n",
    "                bestLoss = epochLoss\n",
    "                BLE = e + 1\n",
    "                torch.save(save_dict, os.path.join(save_path, ble_name))\n",
    "                early_stopping_step = 0\n",
    "            else:\n",
    "                early_stopping_step += 1\n",
    "                if early_stopping_step > early_stopping_patience:\n",
    "                    print(\"\\nEarly Stopping at Epoch {}\".format(e + 1))\n",
    "                    break\n",
    "        \n",
    "        if epochLoss[\"valid\"] < bestLoss[\"valid\"]:\n",
    "            bestLoss = epochLoss\n",
    "            BLE = e + 1\n",
    "            torch.save(save_dict,os.path.join(save_path, ble_name))\n",
    "        \n",
    "        if epochAccs[\"valid\"] > bestAccs[\"valid\"]:\n",
    "            bestAccs = epochAccs\n",
    "            BAE = e + 1\n",
    "            torch.save(save_dict,os.path.join(save_path, bae_name))\n",
    "        \n",
    "        if scheduler_rlrop: scheduler_rlrop.step(epochLoss[\"valid\"])\n",
    "        \n",
    "        if verbose:\n",
    "            print(\"Epoch: {} | Train Loss: {:.5f} | Valid Loss: {:.5f} |\\\n",
    " Train Accs: {:.5f} | Valid Accs: {:.5f} | Time: {:.2f} seconds\".format(e+1, \n",
    "                                                                        epochLoss[\"train\"], epochLoss[\"valid\"], \n",
    "                                                                        epochAccs[\"train\"], epochAccs[\"valid\"], \n",
    "                                                                        time()-e_st))\n",
    "\n",
    "    if verbose:                                           \n",
    "        breaker()\n",
    "        print(f\"Best Validation Loss at Epoch {BLE}\")\n",
    "        breaker()\n",
    "        print(f\"Best Validation Accs at Epoch {BAE}\")\n",
    "        breaker()\n",
    "        print(\"Time Taken [{} Epochs] : {:.2f} minutes\".format(len(Losses), (time()-start_time)/60))\n",
    "    \n",
    "    return Losses, Accuracies, LRs, BLE, BAE, ble_name, bae_name\n",
    "    \n",
    "\n",
    "def predict_batch(\n",
    "    model=None, \n",
    "    dataloader=None, \n",
    "    path=None, \n",
    "    device=None\n",
    ") -> np.ndarray:\n",
    "    \n",
    "    model.load_state_dict(torch.load(path, map_location=device)[\"model_state_dict\"])\n",
    "    model.to(device)    \n",
    "    model.eval()\n",
    "    \n",
    "    y_pred = torch.zeros(1, 1).to(device)\n",
    "    \n",
    "    for X in dataloader:\n",
    "        X = X.to(device)\n",
    "        with torch.no_grad():\n",
    "            output = torch.argmax(torch.exp(model(X)), dim=1)\n",
    "        y_pred = torch.cat((y_pred, output.view(-1, 1)), dim=0)\n",
    "    \n",
    "    return y_pred[1:].detach().cpu().numpy()"
   ]
  },
  {
   "cell_type": "markdown",
   "id": "e316c159",
   "metadata": {
    "papermill": {
     "duration": 0.003984,
     "end_time": "2022-09-18T06:25:37.204154",
     "exception": false,
     "start_time": "2022-09-18T06:25:37.200170",
     "status": "completed"
    },
    "tags": []
   },
   "source": [
    "### **Train**"
   ]
  },
  {
   "cell_type": "code",
   "execution_count": 8,
   "id": "73b9c7ff",
   "metadata": {
    "execution": {
     "iopub.execute_input": "2022-09-18T06:25:37.213340Z",
     "iopub.status.busy": "2022-09-18T06:25:37.213085Z",
     "iopub.status.idle": "2022-09-18T06:25:37.241445Z",
     "shell.execute_reply": "2022-09-18T06:25:37.240613Z"
    },
    "papermill": {
     "duration": 0.035284,
     "end_time": "2022-09-18T06:25:37.243511",
     "exception": false,
     "start_time": "2022-09-18T06:25:37.208227",
     "status": "completed"
    },
    "tags": []
   },
   "outputs": [],
   "source": [
    "df = pd.read_csv(\"../input/com3025-2022-challenge-week2-and-3-extend-extend/train.csv\")\n",
    "\n",
    "filenames = df.file_path.copy().values\n",
    "labels = df.iloc[:, 1:].copy().values"
   ]
  },
  {
   "cell_type": "code",
   "execution_count": 9,
   "id": "83174c66",
   "metadata": {
    "execution": {
     "iopub.execute_input": "2022-09-18T06:25:37.253202Z",
     "iopub.status.busy": "2022-09-18T06:25:37.252943Z",
     "iopub.status.idle": "2022-09-18T08:22:38.665871Z",
     "shell.execute_reply": "2022-09-18T08:22:38.664646Z"
    },
    "papermill": {
     "duration": 7021.420283,
     "end_time": "2022-09-18T08:22:38.667954",
     "exception": false,
     "start_time": "2022-09-18T06:25:37.247671",
     "status": "completed"
    },
    "tags": []
   },
   "outputs": [
    {
     "name": "stdout",
     "output_type": "stream",
     "text": [
      "\n",
      "**************************************************\n",
      "\n",
      "Training Fold 1...\n",
      "\n",
      "**************************************************\n",
      "\n",
      "Epoch: 1 | Train Loss: 5.84857 | Valid Loss: 4.57980 | Train Accs: 0.01348 | Valid Accs: 0.03365 | Time: 74.06 seconds\n",
      "Epoch: 2 | Train Loss: 3.77411 | Valid Loss: 2.67541 | Train Accs: 0.15748 | Valid Accs: 0.35337 | Time: 56.15 seconds\n",
      "Epoch: 3 | Train Loss: 2.34429 | Valid Loss: 1.99034 | Train Accs: 0.41299 | Valid Accs: 0.52163 | Time: 57.10 seconds\n",
      "Epoch: 4 | Train Loss: 1.92087 | Valid Loss: 1.95009 | Train Accs: 0.49081 | Valid Accs: 0.50721 | Time: 56.62 seconds\n",
      "Epoch: 5 | Train Loss: 1.54656 | Valid Loss: 1.82562 | Train Accs: 0.58088 | Valid Accs: 0.54327 | Time: 56.74 seconds\n",
      "Epoch: 6 | Train Loss: 1.30207 | Valid Loss: 1.93722 | Train Accs: 0.63051 | Valid Accs: 0.52163 | Time: 57.87 seconds\n",
      "Epoch: 7 | Train Loss: 1.11549 | Valid Loss: 1.45658 | Train Accs: 0.69363 | Valid Accs: 0.64183 | Time: 58.02 seconds\n",
      "Epoch: 8 | Train Loss: 0.81046 | Valid Loss: 1.63920 | Train Accs: 0.75368 | Valid Accs: 0.60817 | Time: 56.86 seconds\n",
      "Epoch: 9 | Train Loss: 0.82390 | Valid Loss: 1.34759 | Train Accs: 0.75184 | Valid Accs: 0.69712 | Time: 56.92 seconds\n",
      "Epoch: 10 | Train Loss: 0.60349 | Valid Loss: 1.34550 | Train Accs: 0.81679 | Valid Accs: 0.67067 | Time: 56.76 seconds\n",
      "Epoch: 11 | Train Loss: 0.45773 | Valid Loss: 1.17255 | Train Accs: 0.86458 | Valid Accs: 0.73077 | Time: 56.90 seconds\n",
      "Epoch: 12 | Train Loss: 0.49551 | Valid Loss: 1.27259 | Train Accs: 0.84436 | Valid Accs: 0.71635 | Time: 56.27 seconds\n",
      "Epoch: 13 | Train Loss: 0.28487 | Valid Loss: 1.06892 | Train Accs: 0.91115 | Valid Accs: 0.74760 | Time: 57.44 seconds\n",
      "Epoch: 14 | Train Loss: 0.19983 | Valid Loss: 0.85653 | Train Accs: 0.93566 | Valid Accs: 0.82212 | Time: 57.72 seconds\n",
      "Epoch: 15 | Train Loss: 0.09279 | Valid Loss: 0.91885 | Train Accs: 0.96936 | Valid Accs: 0.79567 | Time: 57.09 seconds\n",
      "Epoch: 16 | Train Loss: 0.03354 | Valid Loss: 0.72033 | Train Accs: 0.99142 | Valid Accs: 0.84615 | Time: 57.37 seconds\n",
      "Epoch: 17 | Train Loss: 0.01376 | Valid Loss: 0.70877 | Train Accs: 0.99694 | Valid Accs: 0.84615 | Time: 57.81 seconds\n",
      "Epoch: 18 | Train Loss: 0.01638 | Valid Loss: 0.71995 | Train Accs: 0.99632 | Valid Accs: 0.83173 | Time: 57.00 seconds\n",
      "Epoch: 19 | Train Loss: 0.00682 | Valid Loss: 0.72133 | Train Accs: 0.99877 | Valid Accs: 0.84615 | Time: 57.38 seconds\n",
      "Epoch: 20 | Train Loss: 0.00369 | Valid Loss: 0.68754 | Train Accs: 1.00000 | Valid Accs: 0.85096 | Time: 57.30 seconds\n",
      "Epoch: 21 | Train Loss: 0.00298 | Valid Loss: 0.69273 | Train Accs: 1.00000 | Valid Accs: 0.85337 | Time: 57.58 seconds\n",
      "Epoch: 22 | Train Loss: 0.00329 | Valid Loss: 0.68175 | Train Accs: 0.99939 | Valid Accs: 0.86298 | Time: 58.09 seconds\n",
      "Epoch: 23 | Train Loss: 0.00383 | Valid Loss: 0.68585 | Train Accs: 0.99939 | Valid Accs: 0.86058 | Time: 57.37 seconds\n",
      "Epoch: 24 | Train Loss: 0.00177 | Valid Loss: 0.68526 | Train Accs: 1.00000 | Valid Accs: 0.86058 | Time: 56.54 seconds\n",
      "Epoch: 25 | Train Loss: 0.00276 | Valid Loss: 0.68535 | Train Accs: 0.99939 | Valid Accs: 0.86058 | Time: 57.32 seconds\n",
      "\n",
      "**************************************************\n",
      "\n",
      "Best Validation Loss at Epoch 22\n",
      "\n",
      "**************************************************\n",
      "\n",
      "Best Validation Accs at Epoch 22\n",
      "\n",
      "**************************************************\n",
      "\n",
      "Time Taken [25 Epochs] : 24.10 minutes\n",
      "\n",
      "**************************************************\n",
      "\n"
     ]
    },
    {
     "data": {
      "image/png": "[encoded data removed]",
      "text/plain": [
       "<Figure size 432x288 with 1 Axes>"
      ]
     },
     "metadata": {
      "needs_background": "light"
     },
     "output_type": "display_data"
    },
    {
     "name": "stdout",
     "output_type": "stream",
     "text": [
      "\n",
      "**************************************************\n",
      "\n"
     ]
    },
    {
     "data": {
      "image/png": "[encoded data removed]",
      "text/plain": [
       "<Figure size 432x288 with 1 Axes>"
      ]
     },
     "metadata": {
      "needs_background": "light"
     },
     "output_type": "display_data"
    },
    {
     "name": "stdout",
     "output_type": "stream",
     "text": [
      "\n",
      "**************************************************\n",
      "\n"
     ]
    },
    {
     "data": {
      "image/png": "[encoded data removed]",
      "text/plain": [
       "<Figure size 576x432 with 1 Axes>"
      ]
     },
     "metadata": {
      "needs_background": "light"
     },
     "output_type": "display_data"
    },
    {
     "name": "stdout",
     "output_type": "stream",
     "text": [
      "\n",
      "**************************************************\n",
      "\n",
      "\n",
      "**************************************************\n",
      "\n",
      "Training Fold 2...\n",
      "\n",
      "**************************************************\n",
      "\n",
      "Epoch: 1 | Train Loss: 6.51202 | Valid Loss: 5.06861 | Train Accs: 0.01082 | Valid Accs: 0.01116 | Time: 55.57 seconds\n",
      "Epoch: 2 | Train Loss: 4.63186 | Valid Loss: 4.25061 | Train Accs: 0.02464 | Valid Accs: 0.06548 | Time: 54.94 seconds\n",
      "Epoch: 3 | Train Loss: 3.69627 | Valid Loss: 3.01792 | Train Accs: 0.14844 | Valid Accs: 0.29241 | Time: 55.31 seconds\n",
      "Epoch: 4 | Train Loss: 2.33605 | Valid Loss: 2.23921 | Train Accs: 0.41346 | Valid Accs: 0.42336 | Time: 55.36 seconds\n",
      "Epoch: 5 | Train Loss: 1.69472 | Valid Loss: 1.89556 | Train Accs: 0.54627 | Valid Accs: 0.49033 | Time: 55.88 seconds\n",
      "Epoch: 6 | Train Loss: 1.10228 | Valid Loss: 1.27013 | Train Accs: 0.69471 | Valid Accs: 0.67560 | Time: 55.41 seconds\n",
      "Epoch: 7 | Train Loss: 0.74248 | Valid Loss: 1.10888 | Train Accs: 0.78906 | Valid Accs: 0.71280 | Time: 56.08 seconds\n",
      "Epoch: 8 | Train Loss: 0.51338 | Valid Loss: 1.18549 | Train Accs: 0.85216 | Valid Accs: 0.70833 | Time: 54.24 seconds\n",
      "Epoch: 9 | Train Loss: 0.38830 | Valid Loss: 0.95461 | Train Accs: 0.89543 | Valid Accs: 0.76414 | Time: 55.56 seconds\n",
      "Epoch: 10 | Train Loss: 0.14882 | Valid Loss: 1.00591 | Train Accs: 0.95613 | Valid Accs: 0.76190 | Time: 55.40 seconds\n",
      "Epoch: 11 | Train Loss: 0.15736 | Valid Loss: 0.98019 | Train Accs: 0.95733 | Valid Accs: 0.76488 | Time: 55.35 seconds\n",
      "Epoch: 12 | Train Loss: 0.13761 | Valid Loss: 0.84268 | Train Accs: 0.96034 | Valid Accs: 0.80134 | Time: 55.48 seconds\n",
      "Epoch: 13 | Train Loss: 0.09860 | Valid Loss: 0.78864 | Train Accs: 0.96935 | Valid Accs: 0.83036 | Time: 56.32 seconds\n",
      "Epoch: 14 | Train Loss: 0.04278 | Valid Loss: 0.60518 | Train Accs: 0.98918 | Valid Accs: 0.84375 | Time: 56.12 seconds\n",
      "Epoch: 15 | Train Loss: 0.01362 | Valid Loss: 0.55943 | Train Accs: 0.99820 | Valid Accs: 0.87054 | Time: 55.34 seconds\n",
      "Epoch: 16 | Train Loss: 0.00677 | Valid Loss: 0.58771 | Train Accs: 0.99880 | Valid Accs: 0.86012 | Time: 56.22 seconds\n",
      "Epoch: 17 | Train Loss: 0.00386 | Valid Loss: 0.52984 | Train Accs: 1.00000 | Valid Accs: 0.87500 | Time: 55.63 seconds\n",
      "Epoch: 18 | Train Loss: 0.00642 | Valid Loss: 0.52509 | Train Accs: 0.99940 | Valid Accs: 0.87128 | Time: 56.02 seconds\n",
      "Epoch: 19 | Train Loss: 0.00339 | Valid Loss: 0.53983 | Train Accs: 1.00000 | Valid Accs: 0.86682 | Time: 55.55 seconds\n",
      "Epoch: 20 | Train Loss: 0.00270 | Valid Loss: 0.53088 | Train Accs: 1.00000 | Valid Accs: 0.87054 | Time: 55.79 seconds\n",
      "Epoch: 21 | Train Loss: 0.00304 | Valid Loss: 0.51889 | Train Accs: 0.99940 | Valid Accs: 0.87277 | Time: 55.94 seconds\n",
      "Epoch: 22 | Train Loss: 0.00278 | Valid Loss: 0.51977 | Train Accs: 0.99940 | Valid Accs: 0.86607 | Time: 55.94 seconds\n",
      "Epoch: 23 | Train Loss: 0.00195 | Valid Loss: 0.51878 | Train Accs: 1.00000 | Valid Accs: 0.86607 | Time: 56.98 seconds\n",
      "Epoch: 24 | Train Loss: 0.00185 | Valid Loss: 0.51815 | Train Accs: 1.00000 | Valid Accs: 0.86607 | Time: 55.73 seconds\n",
      "Epoch: 25 | Train Loss: 0.00192 | Valid Loss: 0.51804 | Train Accs: 1.00000 | Valid Accs: 0.86607 | Time: 55.28 seconds\n",
      "\n",
      "**************************************************\n",
      "\n",
      "Best Validation Loss at Epoch 25\n",
      "\n",
      "**************************************************\n",
      "\n",
      "Best Validation Accs at Epoch 17\n",
      "\n",
      "**************************************************\n",
      "\n",
      "Time Taken [25 Epochs] : 23.19 minutes\n",
      "\n",
      "**************************************************\n",
      "\n"
     ]
    },
    {
     "data": {
      "image/png": "[encoded data removed]",
      "text/plain": [
       "<Figure size 432x288 with 1 Axes>"
      ]
     },
     "metadata": {
      "needs_background": "light"
     },
     "output_type": "display_data"
    },
    {
     "name": "stdout",
     "output_type": "stream",
     "text": [
      "\n",
      "**************************************************\n",
      "\n"
     ]
    },
    {
     "data": {
      "image/png": "[encoded data removed]",
      "text/plain": [
       "<Figure size 432x288 with 1 Axes>"
      ]
     },
     "metadata": {
      "needs_background": "light"
     },
     "output_type": "display_data"
    },
    {
     "name": "stdout",
     "output_type": "stream",
     "text": [
      "\n",
      "**************************************************\n",
      "\n"
     ]
    },
    {
     "data": {
      "image/png": "[encoded data removed]",
      "text/plain": [
       "<Figure size 576x432 with 1 Axes>"
      ]
     },
     "metadata": {
      "needs_background": "light"
     },
     "output_type": "display_data"
    },
    {
     "name": "stdout",
     "output_type": "stream",
     "text": [
      "\n",
      "**************************************************\n",
      "\n",
      "\n",
      "**************************************************\n",
      "\n",
      "Training Fold 3...\n",
      "\n",
      "**************************************************\n",
      "\n",
      "Epoch: 1 | Train Loss: 6.54034 | Valid Loss: 5.03314 | Train Accs: 0.01082 | Valid Accs: 0.00446 | Time: 54.78 seconds\n",
      "Epoch: 2 | Train Loss: 4.60705 | Valid Loss: 4.18361 | Train Accs: 0.03305 | Valid Accs: 0.04836 | Time: 55.09 seconds\n",
      "Epoch: 3 | Train Loss: 3.47892 | Valid Loss: 2.50622 | Train Accs: 0.19531 | Valid Accs: 0.37946 | Time: 55.89 seconds\n",
      "Epoch: 4 | Train Loss: 2.09584 | Valid Loss: 1.72049 | Train Accs: 0.44892 | Valid Accs: 0.56771 | Time: 55.28 seconds\n",
      "Epoch: 5 | Train Loss: 1.36707 | Valid Loss: 2.09780 | Train Accs: 0.62260 | Valid Accs: 0.49851 | Time: 54.78 seconds\n",
      "Epoch: 6 | Train Loss: 1.09535 | Valid Loss: 1.43440 | Train Accs: 0.69351 | Valid Accs: 0.66220 | Time: 55.09 seconds\n",
      "Epoch: 7 | Train Loss: 0.67854 | Valid Loss: 1.14549 | Train Accs: 0.79928 | Valid Accs: 0.68378 | Time: 55.91 seconds\n",
      "Epoch: 8 | Train Loss: 0.54273 | Valid Loss: 1.15555 | Train Accs: 0.83954 | Valid Accs: 0.70685 | Time: 54.77 seconds\n",
      "Epoch: 9 | Train Loss: 0.27003 | Valid Loss: 0.79317 | Train Accs: 0.92127 | Valid Accs: 0.77009 | Time: 54.74 seconds\n",
      "Epoch: 10 | Train Loss: 0.24989 | Valid Loss: 0.79681 | Train Accs: 0.92668 | Valid Accs: 0.79911 | Time: 55.09 seconds\n",
      "Epoch: 11 | Train Loss: 0.16384 | Valid Loss: 0.86912 | Train Accs: 0.95373 | Valid Accs: 0.77976 | Time: 54.68 seconds\n",
      "Epoch: 12 | Train Loss: 0.08427 | Valid Loss: 0.67075 | Train Accs: 0.97716 | Valid Accs: 0.83780 | Time: 55.22 seconds\n",
      "Epoch: 13 | Train Loss: 0.05907 | Valid Loss: 0.69731 | Train Accs: 0.98498 | Valid Accs: 0.81399 | Time: 54.70 seconds\n",
      "Epoch: 14 | Train Loss: 0.02662 | Valid Loss: 0.58108 | Train Accs: 0.99339 | Valid Accs: 0.85119 | Time: 55.86 seconds\n",
      "Epoch: 15 | Train Loss: 0.02422 | Valid Loss: 0.57963 | Train Accs: 0.99279 | Valid Accs: 0.84449 | Time: 54.91 seconds\n",
      "Epoch: 16 | Train Loss: 0.01656 | Valid Loss: 0.52360 | Train Accs: 0.99519 | Valid Accs: 0.86830 | Time: 55.68 seconds\n",
      "Epoch: 17 | Train Loss: 0.01247 | Valid Loss: 0.51736 | Train Accs: 0.99639 | Valid Accs: 0.88095 | Time: 55.27 seconds\n",
      "Epoch: 18 | Train Loss: 0.00919 | Valid Loss: 0.51335 | Train Accs: 0.99880 | Valid Accs: 0.87946 | Time: 55.49 seconds\n",
      "Epoch: 19 | Train Loss: 0.00690 | Valid Loss: 0.45468 | Train Accs: 0.99820 | Valid Accs: 0.88393 | Time: 55.69 seconds\n",
      "Epoch: 20 | Train Loss: 0.00333 | Valid Loss: 0.44815 | Train Accs: 1.00000 | Valid Accs: 0.89360 | Time: 55.54 seconds\n",
      "Epoch: 21 | Train Loss: 0.00291 | Valid Loss: 0.44009 | Train Accs: 1.00000 | Valid Accs: 0.89807 | Time: 55.87 seconds\n",
      "Epoch: 22 | Train Loss: 0.00205 | Valid Loss: 0.43707 | Train Accs: 1.00000 | Valid Accs: 0.89435 | Time: 55.30 seconds\n",
      "Epoch: 23 | Train Loss: 0.00173 | Valid Loss: 0.43587 | Train Accs: 1.00000 | Valid Accs: 0.89211 | Time: 55.94 seconds\n",
      "Epoch: 24 | Train Loss: 0.00349 | Valid Loss: 0.43513 | Train Accs: 0.99940 | Valid Accs: 0.89435 | Time: 55.71 seconds\n",
      "Epoch: 25 | Train Loss: 0.00243 | Valid Loss: 0.43495 | Train Accs: 1.00000 | Valid Accs: 0.89658 | Time: 56.00 seconds\n",
      "\n",
      "**************************************************\n",
      "\n",
      "Best Validation Loss at Epoch 25\n",
      "\n",
      "**************************************************\n",
      "\n",
      "Best Validation Accs at Epoch 21\n",
      "\n",
      "**************************************************\n",
      "\n",
      "Time Taken [25 Epochs] : 23.05 minutes\n",
      "\n",
      "**************************************************\n",
      "\n"
     ]
    },
    {
     "data": {
      "image/png": "[encoded data removed]",
      "text/plain": [
       "<Figure size 432x288 with 1 Axes>"
      ]
     },
     "metadata": {
      "needs_background": "light"
     },
     "output_type": "display_data"
    },
    {
     "name": "stdout",
     "output_type": "stream",
     "text": [
      "\n",
      "**************************************************\n",
      "\n"
     ]
    },
    {
     "data": {
      "image/png": "[encoded data removed]",
      "text/plain": [
       "<Figure size 432x288 with 1 Axes>"
      ]
     },
     "metadata": {
      "needs_background": "light"
     },
     "output_type": "display_data"
    },
    {
     "name": "stdout",
     "output_type": "stream",
     "text": [
      "\n",
      "**************************************************\n",
      "\n"
     ]
    },
    {
     "data": {
      "image/png": "[encoded data removed]",
      "text/plain": [
       "<Figure size 576x432 with 1 Axes>"
      ]
     },
     "metadata": {
      "needs_background": "light"
     },
     "output_type": "display_data"
    },
    {
     "name": "stdout",
     "output_type": "stream",
     "text": [
      "\n",
      "**************************************************\n",
      "\n",
      "\n",
      "**************************************************\n",
      "\n",
      "Training Fold 4...\n",
      "\n",
      "**************************************************\n",
      "\n",
      "Epoch: 1 | Train Loss: 6.49656 | Valid Loss: 5.05710 | Train Accs: 0.00962 | Valid Accs: 0.00446 | Time: 54.77 seconds\n",
      "Epoch: 2 | Train Loss: 4.61825 | Valid Loss: 4.24855 | Train Accs: 0.02644 | Valid Accs: 0.03571 | Time: 54.75 seconds\n",
      "Epoch: 3 | Train Loss: 3.61198 | Valid Loss: 2.89351 | Train Accs: 0.18089 | Valid Accs: 0.32143 | Time: 55.34 seconds\n",
      "Epoch: 4 | Train Loss: 2.24679 | Valid Loss: 2.44384 | Train Accs: 0.43329 | Valid Accs: 0.41890 | Time: 55.20 seconds\n",
      "Epoch: 5 | Train Loss: 1.65939 | Valid Loss: 1.76659 | Train Accs: 0.56130 | Valid Accs: 0.52158 | Time: 55.10 seconds\n",
      "Epoch: 6 | Train Loss: 0.98044 | Valid Loss: 1.58725 | Train Accs: 0.71755 | Valid Accs: 0.57366 | Time: 54.74 seconds\n",
      "Epoch: 7 | Train Loss: 0.75955 | Valid Loss: 1.22746 | Train Accs: 0.77584 | Valid Accs: 0.68676 | Time: 55.76 seconds\n",
      "Epoch: 8 | Train Loss: 0.43785 | Valid Loss: 1.16283 | Train Accs: 0.87019 | Valid Accs: 0.72098 | Time: 54.93 seconds\n",
      "Epoch: 9 | Train Loss: 0.36456 | Valid Loss: 1.03622 | Train Accs: 0.89483 | Valid Accs: 0.74033 | Time: 55.07 seconds\n",
      "Epoch: 10 | Train Loss: 0.21479 | Valid Loss: 1.04901 | Train Accs: 0.93570 | Valid Accs: 0.76265 | Time: 55.17 seconds\n",
      "Epoch: 11 | Train Loss: 0.19040 | Valid Loss: 1.04700 | Train Accs: 0.94291 | Valid Accs: 0.75744 | Time: 54.98 seconds\n",
      "Epoch: 12 | Train Loss: 0.10941 | Valid Loss: 0.94361 | Train Accs: 0.96695 | Valid Accs: 0.76190 | Time: 55.29 seconds\n",
      "Epoch: 13 | Train Loss: 0.07784 | Valid Loss: 0.86462 | Train Accs: 0.97776 | Valid Accs: 0.79390 | Time: 55.00 seconds\n",
      "Epoch: 14 | Train Loss: 0.10242 | Valid Loss: 0.91698 | Train Accs: 0.97055 | Valid Accs: 0.79018 | Time: 55.62 seconds\n",
      "Epoch: 15 | Train Loss: 0.04802 | Valid Loss: 0.91025 | Train Accs: 0.98858 | Valid Accs: 0.79836 | Time: 55.29 seconds\n",
      "Epoch: 16 | Train Loss: 0.02636 | Valid Loss: 0.70775 | Train Accs: 0.99399 | Valid Accs: 0.83482 | Time: 55.65 seconds\n",
      "Epoch: 17 | Train Loss: 0.01173 | Valid Loss: 0.74253 | Train Accs: 0.99700 | Valid Accs: 0.83333 | Time: 55.19 seconds\n",
      "Epoch: 18 | Train Loss: 0.01044 | Valid Loss: 0.70775 | Train Accs: 0.99880 | Valid Accs: 0.82217 | Time: 55.27 seconds\n",
      "Epoch: 19 | Train Loss: 0.00533 | Valid Loss: 0.67610 | Train Accs: 1.00000 | Valid Accs: 0.82812 | Time: 55.85 seconds\n",
      "Epoch: 20 | Train Loss: 0.00353 | Valid Loss: 0.65632 | Train Accs: 0.99940 | Valid Accs: 0.84673 | Time: 56.02 seconds\n",
      "Epoch: 21 | Train Loss: 0.00229 | Valid Loss: 0.64299 | Train Accs: 1.00000 | Valid Accs: 0.84673 | Time: 55.72 seconds\n",
      "Epoch: 22 | Train Loss: 0.00210 | Valid Loss: 0.63813 | Train Accs: 1.00000 | Valid Accs: 0.85268 | Time: 55.49 seconds\n",
      "Epoch: 23 | Train Loss: 0.00252 | Valid Loss: 0.63570 | Train Accs: 1.00000 | Valid Accs: 0.85268 | Time: 56.00 seconds\n",
      "Epoch: 24 | Train Loss: 0.00319 | Valid Loss: 0.63499 | Train Accs: 0.99940 | Valid Accs: 0.85491 | Time: 55.76 seconds\n",
      "Epoch: 25 | Train Loss: 0.00194 | Valid Loss: 0.63488 | Train Accs: 1.00000 | Valid Accs: 0.85491 | Time: 55.47 seconds\n",
      "\n",
      "**************************************************\n",
      "\n",
      "Best Validation Loss at Epoch 25\n",
      "\n",
      "**************************************************\n",
      "\n",
      "Best Validation Accs at Epoch 24\n",
      "\n",
      "**************************************************\n",
      "\n",
      "Time Taken [25 Epochs] : 23.06 minutes\n",
      "\n",
      "**************************************************\n",
      "\n"
     ]
    },
    {
     "data": {
      "image/png": "[encoded data removed]",
      "text/plain": [
       "<Figure size 432x288 with 1 Axes>"
      ]
     },
     "metadata": {
      "needs_background": "light"
     },
     "output_type": "display_data"
    },
    {
     "name": "stdout",
     "output_type": "stream",
     "text": [
      "\n",
      "**************************************************\n",
      "\n"
     ]
    },
    {
     "data": {
      "image/png": "[encoded data removed]",
      "text/plain": [
       "<Figure size 432x288 with 1 Axes>"
      ]
     },
     "metadata": {
      "needs_background": "light"
     },
     "output_type": "display_data"
    },
    {
     "name": "stdout",
     "output_type": "stream",
     "text": [
      "\n",
      "**************************************************\n",
      "\n"
     ]
    },
    {
     "data": {
      "image/png": "[encoded data removed]",
      "text/plain": [
       "<Figure size 576x432 with 1 Axes>"
      ]
     },
     "metadata": {
      "needs_background": "light"
     },
     "output_type": "display_data"
    },
    {
     "name": "stdout",
     "output_type": "stream",
     "text": [
      "\n",
      "**************************************************\n",
      "\n",
      "\n",
      "**************************************************\n",
      "\n",
      "Training Fold 5...\n",
      "\n",
      "**************************************************\n",
      "\n",
      "Epoch: 1 | Train Loss: 6.49058 | Valid Loss: 5.10819 | Train Accs: 0.00841 | Valid Accs: 0.00893 | Time: 56.16 seconds\n",
      "Epoch: 2 | Train Loss: 4.63810 | Valid Loss: 4.24682 | Train Accs: 0.02404 | Valid Accs: 0.06622 | Time: 56.13 seconds\n",
      "Epoch: 3 | Train Loss: 3.57494 | Valid Loss: 2.79534 | Train Accs: 0.17248 | Valid Accs: 0.32440 | Time: 57.05 seconds\n",
      "Epoch: 4 | Train Loss: 2.02253 | Valid Loss: 1.97117 | Train Accs: 0.48197 | Valid Accs: 0.49554 | Time: 57.13 seconds\n",
      "Epoch: 5 | Train Loss: 1.41681 | Valid Loss: 1.92101 | Train Accs: 0.61719 | Valid Accs: 0.56399 | Time: 56.86 seconds\n",
      "Epoch: 6 | Train Loss: 0.99397 | Valid Loss: 1.46125 | Train Accs: 0.72656 | Valid Accs: 0.61905 | Time: 56.45 seconds\n",
      "Epoch: 7 | Train Loss: 0.79657 | Valid Loss: 1.16913 | Train Accs: 0.75901 | Valid Accs: 0.66592 | Time: 56.43 seconds\n",
      "Epoch: 8 | Train Loss: 0.46278 | Valid Loss: 1.04245 | Train Accs: 0.86118 | Valid Accs: 0.74330 | Time: 56.13 seconds\n",
      "Epoch: 9 | Train Loss: 0.29707 | Valid Loss: 1.03793 | Train Accs: 0.91647 | Valid Accs: 0.71875 | Time: 55.98 seconds\n",
      "Epoch: 10 | Train Loss: 0.25903 | Valid Loss: 0.93639 | Train Accs: 0.92368 | Valid Accs: 0.75670 | Time: 56.21 seconds\n",
      "Epoch: 11 | Train Loss: 0.17781 | Valid Loss: 0.99436 | Train Accs: 0.94772 | Valid Accs: 0.75446 | Time: 55.86 seconds\n",
      "Epoch: 12 | Train Loss: 0.14739 | Valid Loss: 0.75289 | Train Accs: 0.95733 | Valid Accs: 0.81696 | Time: 55.98 seconds\n",
      "Epoch: 13 | Train Loss: 0.06619 | Valid Loss: 0.71210 | Train Accs: 0.98197 | Valid Accs: 0.83482 | Time: 56.22 seconds\n",
      "Epoch: 14 | Train Loss: 0.04947 | Valid Loss: 0.72959 | Train Accs: 0.98377 | Valid Accs: 0.80506 | Time: 56.49 seconds\n",
      "Epoch: 15 | Train Loss: 0.03134 | Valid Loss: 0.67220 | Train Accs: 0.99339 | Valid Accs: 0.81101 | Time: 56.21 seconds\n",
      "Epoch: 16 | Train Loss: 0.01577 | Valid Loss: 0.54084 | Train Accs: 0.99700 | Valid Accs: 0.85193 | Time: 55.95 seconds\n",
      "Epoch: 17 | Train Loss: 0.01069 | Valid Loss: 0.47697 | Train Accs: 0.99820 | Valid Accs: 0.87202 | Time: 56.69 seconds\n",
      "Epoch: 18 | Train Loss: 0.00514 | Valid Loss: 0.49290 | Train Accs: 0.99940 | Valid Accs: 0.86905 | Time: 56.60 seconds\n",
      "Epoch: 19 | Train Loss: 0.00330 | Valid Loss: 0.48402 | Train Accs: 1.00000 | Valid Accs: 0.88021 | Time: 56.08 seconds\n",
      "Epoch: 20 | Train Loss: 0.00225 | Valid Loss: 0.46872 | Train Accs: 1.00000 | Valid Accs: 0.88244 | Time: 56.49 seconds\n",
      "Epoch: 21 | Train Loss: 0.00230 | Valid Loss: 0.46092 | Train Accs: 1.00000 | Valid Accs: 0.88244 | Time: 55.87 seconds\n",
      "Epoch: 22 | Train Loss: 0.00313 | Valid Loss: 0.45893 | Train Accs: 0.99940 | Valid Accs: 0.88021 | Time: 56.59 seconds\n",
      "Epoch: 23 | Train Loss: 0.00224 | Valid Loss: 0.45978 | Train Accs: 1.00000 | Valid Accs: 0.88021 | Time: 55.96 seconds\n",
      "Epoch: 24 | Train Loss: 0.00206 | Valid Loss: 0.45946 | Train Accs: 1.00000 | Valid Accs: 0.88021 | Time: 56.41 seconds\n",
      "Epoch: 25 | Train Loss: 0.00200 | Valid Loss: 0.45939 | Train Accs: 1.00000 | Valid Accs: 0.88021 | Time: 55.78 seconds\n",
      "\n",
      "**************************************************\n",
      "\n",
      "Best Validation Loss at Epoch 22\n",
      "\n",
      "**************************************************\n",
      "\n",
      "Best Validation Accs at Epoch 20\n",
      "\n",
      "**************************************************\n",
      "\n",
      "Time Taken [25 Epochs] : 23.46 minutes\n",
      "\n",
      "**************************************************\n",
      "\n"
     ]
    },
    {
     "data": {
      "image/png": "[encoded data removed]",
      "text/plain": [
       "<Figure size 432x288 with 1 Axes>"
      ]
     },
     "metadata": {
      "needs_background": "light"
     },
     "output_type": "display_data"
    },
    {
     "name": "stdout",
     "output_type": "stream",
     "text": [
      "\n",
      "**************************************************\n",
      "\n"
     ]
    },
    {
     "data": {
      "image/png": "[encoded data removed]",
      "text/plain": [
       "<Figure size 432x288 with 1 Axes>"
      ]
     },
     "metadata": {
      "needs_background": "light"
     },
     "output_type": "display_data"
    },
    {
     "name": "stdout",
     "output_type": "stream",
     "text": [
      "\n",
      "**************************************************\n",
      "\n"
     ]
    },
    {
     "data": {
      "image/png": "[encoded data removed]",
      "text/plain": [
       "<Figure size 576x432 with 1 Axes>"
      ]
     },
     "metadata": {
      "needs_background": "light"
     },
     "output_type": "display_data"
    },
    {
     "name": "stdout",
     "output_type": "stream",
     "text": [
      "\n",
      "**************************************************\n",
      "\n"
     ]
    }
   ],
   "source": [
    "fold: int = 1\n",
    "BLEs: list = []\n",
    "BAEs: list = []\n",
    "\n",
    "for tr_idx, va_idx in StratifiedKFold(n_splits=cfg.n_splits, random_state=cfg.seed, shuffle=True).split(filenames, labels):\n",
    "\n",
    "    tr_filenames, va_filenames = filenames[tr_idx], filenames[va_idx] \n",
    "    tr_labels, va_labels       = labels[tr_idx], labels[va_idx]\n",
    "    \n",
    "    tr_data_setup = DS(\n",
    "        base_path=\"../input/com3025-2022-challenge-week2-and-3-extend-extend\", \n",
    "        filenames=tr_filenames, \n",
    "        labels=tr_labels.reshape(-1, 1),\n",
    "        size=cfg.size,\n",
    "        transform=cfg.train_transform\n",
    "    )\n",
    "    \n",
    "    va_data_setup = DS(\n",
    "        base_path=\"../input/com3025-2022-challenge-week2-and-3-extend-extend\", \n",
    "        filenames=va_filenames, \n",
    "        labels=va_labels.reshape(-1, 1),\n",
    "        size=cfg.size,\n",
    "        transform=cfg.valid_transform\n",
    "    )\n",
    "\n",
    "    dataloaders = {\n",
    "        \"train\" : DL(tr_data_setup, batch_size=cfg.batch_size, shuffle=True, generator=torch.manual_seed(cfg.seed)),\n",
    "        \"valid\" : DL(va_data_setup, batch_size=cfg.batch_size, shuffle=False),\n",
    "    }\n",
    "\n",
    "    cfg = CFG(\n",
    "        size=SIZE,\n",
    "        epochs=25, \n",
    "        batch_size=64, \n",
    "        early_stopping=5,\n",
    "        steps_per_epoch=len(dataloaders[\"train\"])\n",
    "    )\n",
    "    \n",
    "    torch.manual_seed(cfg.seed)\n",
    "    model = Model().to(cfg.device)\n",
    "\n",
    "    optimizer = optim.Adam([p for p in model.parameters() if p.requires_grad], lr=cfg.lr, weight_decay=cfg.wd)\n",
    "    # optimizer = optim.AdamW([p for p in model.parameters() if p.requires_grad], lr=cfg.lr, weight_decay=cfg.wd)\n",
    "    # optimizer = optim.SGD([p for p in model.parameters() if p.requires_grad], lr=cfg.lr, weight_decay=cfg.wd, momentum=0.9)\n",
    "    \n",
    "    scheduler_oclr = optim.lr_scheduler.OneCycleLR(\n",
    "        optimizer=optimizer, \n",
    "        max_lr=cfg.max_lr, \n",
    "        epochs=cfg.epochs, \n",
    "        steps_per_epoch=cfg.steps_per_epoch,\n",
    "        pct_start=cfg.pct_start, \n",
    "        div_factor=cfg.div_factor, \n",
    "        final_div_factor=cfg.final_div_factor\n",
    "    )\n",
    "\n",
    "    # scheduler_rlrop = optim.lr_scheduler.ReduceLROnPlateau(\n",
    "    #     optimizer=optimizer,\n",
    "    #     patience=cfg.patience,\n",
    "    #     eps=cfg.eps,\n",
    "    #     verbose=True\n",
    "    # )\n",
    "\n",
    "    # scheduler_oclr = None\n",
    "    scheduler_rlrop = None\n",
    "    \n",
    "    L, A, LR, BLE, BAE, _, _ = fit(\n",
    "        model=model, \n",
    "        optimizer=optimizer, \n",
    "        scheduler_oclr=scheduler_oclr,\n",
    "        scheduler_rlrop=scheduler_rlrop,\n",
    "        epochs=cfg.epochs, \n",
    "        early_stopping_patience=cfg.early_stopping, \n",
    "        dataloaders=dataloaders, \n",
    "        device=cfg.device,\n",
    "        save_path=cfg.save_path,\n",
    "        fold=fold,\n",
    "        verbose=True\n",
    "    )\n",
    "    \n",
    "    breaker()\n",
    "    show_loss_graphs(L)\n",
    "    breaker()\n",
    "    show_accuracy_graphs(A)\n",
    "    breaker()\n",
    "    if scheduler_oclr:\n",
    "        show_lr_graph(LR)\n",
    "        breaker()\n",
    "    \n",
    "    BLEs.append(BLE)\n",
    "    BAEs.append(BAE)\n",
    "    \n",
    "    fold += 1"
   ]
  },
  {
   "cell_type": "markdown",
   "id": "72769640",
   "metadata": {
    "papermill": {
     "duration": 0.015214,
     "end_time": "2022-09-18T08:22:38.698681",
     "exception": false,
     "start_time": "2022-09-18T08:22:38.683467",
     "status": "completed"
    },
    "tags": []
   },
   "source": [
    "### **Best Model**"
   ]
  },
  {
   "cell_type": "code",
   "execution_count": 10,
   "id": "72376dca",
   "metadata": {
    "execution": {
     "iopub.execute_input": "2022-09-18T08:22:38.730189Z",
     "iopub.status.busy": "2022-09-18T08:22:38.729542Z",
     "iopub.status.idle": "2022-09-18T08:22:38.736410Z",
     "shell.execute_reply": "2022-09-18T08:22:38.735225Z"
    },
    "papermill": {
     "duration": 0.025019,
     "end_time": "2022-09-18T08:22:38.738530",
     "exception": false,
     "start_time": "2022-09-18T08:22:38.713511",
     "status": "completed"
    },
    "tags": []
   },
   "outputs": [
    {
     "name": "stdout",
     "output_type": "stream",
     "text": [
      "\n",
      "**************************************************\n",
      "\n",
      "Best Loss Model Fold     : 1\n",
      "Best Accuracy Model Fold : 4\n",
      "\n",
      "**************************************************\n",
      "\n"
     ]
    }
   ],
   "source": [
    "best_loss_index = BLEs.index(min(BLEs))\n",
    "best_accs_index = BAEs.index(max(BAEs))\n",
    "\n",
    "breaker()\n",
    "print(f\"Best Loss Model Fold     : {best_loss_index + 1}\")\n",
    "print(f\"Best Accuracy Model Fold : {best_accs_index + 1}\")\n",
    "breaker()"
   ]
  },
  {
   "cell_type": "markdown",
   "id": "dce90a71",
   "metadata": {
    "papermill": {
     "duration": 0.014362,
     "end_time": "2022-09-18T08:22:38.767507",
     "exception": false,
     "start_time": "2022-09-18T08:22:38.753145",
     "status": "completed"
    },
    "tags": []
   },
   "source": [
    "### **Submit**"
   ]
  },
  {
   "cell_type": "code",
   "execution_count": 11,
   "id": "4d776277",
   "metadata": {
    "execution": {
     "iopub.execute_input": "2022-09-18T08:22:38.798220Z",
     "iopub.status.busy": "2022-09-18T08:22:38.797924Z",
     "iopub.status.idle": "2022-09-18T08:22:38.802673Z",
     "shell.execute_reply": "2022-09-18T08:22:38.801748Z"
    },
    "papermill": {
     "duration": 0.022636,
     "end_time": "2022-09-18T08:22:38.804800",
     "exception": false,
     "start_time": "2022-09-18T08:22:38.782164",
     "status": "completed"
    },
    "tags": []
   },
   "outputs": [],
   "source": [
    "# torch.manual_seed(cfg.seed)\n",
    "# model = Model().to(cfg.device)\n",
    "\n",
    "# ss_df = pd.read_csv(\"../input/com3025-2022-challenge-week2-and-3-extend-extend/example_submission.csv\")\n",
    "# ts_filenames = ss_df[\"file_path\"]\n",
    "\n",
    "# ts_data_setup = DS(\n",
    "#     base_path=\"../input/com3025-2022-challenge-week2-and-3-extend-extend\", \n",
    "#     filenames=ts_filenames, \n",
    "#     size=cfg.size,\n",
    "#     transform=cfg.valid_transform,\n",
    "#     labels=None,\n",
    "# )\n",
    "# ts_data = DL(ts_data_setup, batch_size=cfg.batch_size, shuffle=False)\n",
    "\n",
    "# y_pred = predict_batch(\n",
    "#     model=model,\n",
    "#     dataloader=ts_data,\n",
    "#     path=\"../input/c2022-w23-en4-a384/saves/ble_state_fold_3.pt\",\n",
    "#     device=cfg.device\n",
    "# )\n",
    "\n",
    "# ss_df[\"label\"] = y_pred.astype(\"uint8\")\n",
    "# ss_df.to_csv(\"submission.csv\", index=False)"
   ]
  }
 ],
 "metadata": {
  "kernelspec": {
   "display_name": "Python 3",
   "language": "python",
   "name": "python3"
  },
  "language_info": {
   "codemirror_mode": {
    "name": "ipython",
    "version": 3
   },
   "file_extension": ".py",
   "mimetype": "text/x-python",
   "name": "python",
   "nbconvert_exporter": "python",
   "pygments_lexer": "ipython3",
   "version": "3.7.12"
  },
  "papermill": {
   "default_parameters": {},
   "duration": 7046.688253,
   "end_time": "2022-09-18T08:22:41.376393",
   "environment_variables": {},
   "exception": null,
   "input_path": "__notebook__.ipynb",
   "output_path": "__notebook__.ipynb",
   "parameters": {},
   "start_time": "2022-09-18T06:25:14.688140",
   "version": "2.3.4"
  }
 },
 "nbformat": 4,
 "nbformat_minor": 5
}
