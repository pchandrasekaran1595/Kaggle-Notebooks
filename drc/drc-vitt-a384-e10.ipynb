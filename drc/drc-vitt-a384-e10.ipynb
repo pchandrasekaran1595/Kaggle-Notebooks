{
 "cells": [
  {
   "cell_type": "markdown",
   "id": "bae30618",
   "metadata": {
    "_cell_guid": "b1076dfc-b9ad-4769-8c92-a6c4dae69d19",
    "_uuid": "8f2839f25d086af736a60e9eeb907d3b93b6e0e5",
    "papermill": {
     "duration": 0.004736,
     "end_time": "2023-01-10T06:21:31.149181",
     "exception": false,
     "start_time": "2023-01-10T06:21:31.144445",
     "status": "completed"
    },
    "tags": []
   },
   "source": [
    "### **Setup**"
   ]
  },
  {
   "cell_type": "code",
   "execution_count": 1,
   "id": "a274a9d2",
   "metadata": {
    "execution": {
     "iopub.execute_input": "2023-01-10T06:21:31.159281Z",
     "iopub.status.busy": "2023-01-10T06:21:31.158215Z",
     "iopub.status.idle": "2023-01-10T06:21:42.310324Z",
     "shell.execute_reply": "2023-01-10T06:21:42.309106Z"
    },
    "papermill": {
     "duration": 11.160418,
     "end_time": "2023-01-10T06:21:42.313892",
     "exception": false,
     "start_time": "2023-01-10T06:21:31.153474",
     "status": "completed"
    },
    "tags": []
   },
   "outputs": [
    {
     "name": "stderr",
     "output_type": "stream",
     "text": [
      "WARNING: Running pip as the 'root' user can result in broken permissions and conflicting behaviour with the system package manager. It is recommended to use a virtual environment instead: https://pip.pypa.io/warnings/venv\n"
     ]
    }
   ],
   "source": [
    "%%bash\n",
    "pip install timm -q"
   ]
  },
  {
   "cell_type": "markdown",
   "id": "3dc94485",
   "metadata": {
    "papermill": {
     "duration": 0.005701,
     "end_time": "2023-01-10T06:21:42.326136",
     "exception": false,
     "start_time": "2023-01-10T06:21:42.320435",
     "status": "completed"
    },
    "tags": []
   },
   "source": [
    "### **Library Imports**"
   ]
  },
  {
   "cell_type": "code",
   "execution_count": 2,
   "id": "45fee2a7",
   "metadata": {
    "execution": {
     "iopub.execute_input": "2023-01-10T06:21:42.340169Z",
     "iopub.status.busy": "2023-01-10T06:21:42.339700Z",
     "iopub.status.idle": "2023-01-10T06:21:46.700595Z",
     "shell.execute_reply": "2023-01-10T06:21:46.699378Z"
    },
    "papermill": {
     "duration": 4.371334,
     "end_time": "2023-01-10T06:21:46.703604",
     "exception": false,
     "start_time": "2023-01-10T06:21:42.332270",
     "status": "completed"
    },
    "tags": []
   },
   "outputs": [],
   "source": [
    "import os\n",
    "import re\n",
    "import cv2\n",
    "import timm\n",
    "import torch\n",
    "import numpy as np\n",
    "import pandas as pd\n",
    "import matplotlib.pyplot as plt\n",
    "\n",
    "from time import time\n",
    "from typing import Union\n",
    "from torch import nn, optim\n",
    "from torch.utils.data import Dataset\n",
    "from torch.utils.data import DataLoader as DL\n",
    "from torchvision import transforms\n",
    "\n",
    "from sklearn.model_selection import StratifiedKFold"
   ]
  },
  {
   "cell_type": "markdown",
   "id": "56446598",
   "metadata": {
    "papermill": {
     "duration": 0.00407,
     "end_time": "2023-01-10T06:21:46.712467",
     "exception": false,
     "start_time": "2023-01-10T06:21:46.708397",
     "status": "completed"
    },
    "tags": []
   },
   "source": [
    "### **Utilities and Helpers**"
   ]
  },
  {
   "cell_type": "code",
   "execution_count": 3,
   "id": "d9d3bde0",
   "metadata": {
    "execution": {
     "iopub.execute_input": "2023-01-10T06:21:46.721409Z",
     "iopub.status.busy": "2023-01-10T06:21:46.721108Z",
     "iopub.status.idle": "2023-01-10T06:21:46.734584Z",
     "shell.execute_reply": "2023-01-10T06:21:46.733659Z"
    },
    "papermill": {
     "duration": 0.020537,
     "end_time": "2023-01-10T06:21:46.736874",
     "exception": false,
     "start_time": "2023-01-10T06:21:46.716337",
     "status": "completed"
    },
    "tags": []
   },
   "outputs": [],
   "source": [
    "SEED: int = 42\n",
    "SIZE: int = 384\n",
    "\n",
    "\n",
    "def breaker(num: int=50, char: str=\"*\") -> None: print(\"\\n\" + num*char + \"\\n\")\n",
    "\n",
    "    \n",
    "def get_image(path: str, size: int=224) -> np.ndarray:\n",
    "    image = cv2.imread(path, cv2.IMREAD_COLOR)\n",
    "    image = cv2.cvtColor(src=image, code=cv2.COLOR_BGR2RGB)\n",
    "    return cv2.resize(src=image, dsize=(size, size), interpolation=cv2.INTER_AREA)\n",
    "\n",
    "    \n",
    "def show_loss_graphs(L: list) -> None:\n",
    "    TL, VL = [], []\n",
    "    for i in range(len(L)):\n",
    "        TL.append(L[i][\"train\"])\n",
    "        VL.append(L[i][\"valid\"])\n",
    "    x_Axis = np.arange(1, len(TL) + 1)\n",
    "    plt.figure()\n",
    "    plt.plot(x_Axis, TL, \"r\", label=\"Train\")\n",
    "    plt.plot(x_Axis, VL, \"b\", label=\"Valid\")\n",
    "    plt.legend()\n",
    "    plt.grid()\n",
    "    plt.title(\"Loss Graph\")\n",
    "    plt.show()\n",
    "\n",
    "    \n",
    "def show_accuracy_graphs(A: list) -> None:\n",
    "    TA, VA = [], []\n",
    "    for i in range(len(A)):\n",
    "        TA.append(A[i][\"train\"])\n",
    "        VA.append(A[i][\"valid\"])\n",
    "    x_Axis = np.arange(1, len(TA) + 1)\n",
    "    plt.figure()\n",
    "    plt.plot(x_Axis, TA, \"r\", label=\"Train\")\n",
    "    plt.plot(x_Axis, VA, \"b\", label=\"Valid\")\n",
    "    plt.legend()\n",
    "    plt.grid()\n",
    "    plt.title(\"Accuracy Graph\")\n",
    "    plt.show()\n",
    "    \n",
    "\n",
    "def show_lr_graph(LR: list) -> None:\n",
    "    x_Axis = [i+1 for i in range(len(LR))]\n",
    "    plt.figure(figsize=(8, 6))\n",
    "    plt.plot(x_Axis, LR, \"rx\")\n",
    "    plt.grid()\n",
    "    plt.show()"
   ]
  },
  {
   "cell_type": "markdown",
   "id": "97a534e5",
   "metadata": {
    "papermill": {
     "duration": 0.003616,
     "end_time": "2023-01-10T06:21:46.744236",
     "exception": false,
     "start_time": "2023-01-10T06:21:46.740620",
     "status": "completed"
    },
    "tags": []
   },
   "source": [
    "\n",
    "\n",
    "### **Configuration**"
   ]
  },
  {
   "cell_type": "code",
   "execution_count": 4,
   "id": "0c6c6523",
   "metadata": {
    "execution": {
     "iopub.execute_input": "2023-01-10T06:21:46.753231Z",
     "iopub.status.busy": "2023-01-10T06:21:46.752874Z",
     "iopub.status.idle": "2023-01-10T06:21:46.830720Z",
     "shell.execute_reply": "2023-01-10T06:21:46.829650Z"
    },
    "papermill": {
     "duration": 0.084749,
     "end_time": "2023-01-10T06:21:46.832757",
     "exception": false,
     "start_time": "2023-01-10T06:21:46.748008",
     "status": "completed"
    },
    "tags": []
   },
   "outputs": [],
   "source": [
    "class CFG(object):\n",
    "    def __init__(self, \n",
    "                 seed: int = 42,\n",
    "                 size: int = 224,\n",
    "                 n_splits: int = 5,\n",
    "                 batch_size: int = 16,\n",
    "                 epochs: int = 25,\n",
    "                 early_stopping: int = 5,\n",
    "                 lr: float = 1e-4,\n",
    "                 wd: float = 0.0,\n",
    "                 max_lr: float = 1e-3,\n",
    "                 pct_start: float = 0.2,\n",
    "                 steps_per_epoch: int = 100,\n",
    "                 div_factor: int = 1e3, \n",
    "                 final_div_factor: float = 1e3,\n",
    "                 ):\n",
    "        self.seed = seed\n",
    "        self.size = size\n",
    "        self.n_splits = n_splits\n",
    "        self.batch_size = batch_size\n",
    "        self.epochs = epochs\n",
    "        self.early_stopping = early_stopping\n",
    "        self.lr = lr\n",
    "        self.wd = wd\n",
    "        self.max_lr = max_lr\n",
    "        self.pct_start = pct_start\n",
    "        self.steps_per_epoch = steps_per_epoch\n",
    "        self.div_factor = div_factor\n",
    "        self.final_div_factor = final_div_factor\n",
    "        self.device = torch.device(\"cuda\" if torch.cuda.is_available() else \"cpu\")\n",
    "        \n",
    "        if self.size == 224:\n",
    "            self.train_transform = transforms.Compose([\n",
    "                transforms.ToTensor(),\n",
    "                transforms.Normalize([0.41080, 0.21938, 0.07357], [0.23762, 0.13099, 0.04847]),\n",
    "                transforms.RandomAffine(degrees=(-45, 45), translate=(0.15, 0.15), scale=(0.5, 1.5)),\n",
    "                transforms.RandomHorizontalFlip(p=0.25),\n",
    "                transforms.RandomVerticalFlip(p=0.25),\n",
    "            ])\n",
    "            self.valid_transform = transforms.Compose([\n",
    "                transforms.ToTensor(),\n",
    "                transforms.Normalize([0.41080, 0.21938, 0.07357], [0.23762, 0.13099, 0.04847]),\n",
    "            ])\n",
    "        \n",
    "        if self.size == 384:\n",
    "            self.train_transform = transforms.Compose([\n",
    "                transforms.ToTensor(),\n",
    "                transforms.Normalize([0.41076, 0.21934, 0.07357], [0.23796, 0.13130, 0.04884]),\n",
    "                transforms.RandomAffine(degrees=(-45, 45), translate=(0.15, 0.15), scale=(0.5, 1.5)),\n",
    "                transforms.RandomHorizontalFlip(p=0.25),\n",
    "                transforms.RandomVerticalFlip(p=0.25),\n",
    "            ])\n",
    "            self.valid_transform = transforms.Compose([\n",
    "                transforms.ToTensor(),\n",
    "                transforms.Normalize([0.41076, 0.21934, 0.07357], [0.23796, 0.13130, 0.04884]),\n",
    "            ])\n",
    "        \n",
    "        if self.size == 512:\n",
    "            self.train_transform = transforms.Compose([\n",
    "                transforms.ToTensor(),\n",
    "                transforms.Normalize([0.41071, 0.21929, 0.07348], [0.23807, 0.13140, 0.04898]),\n",
    "                transforms.RandomAffine(degrees=(-45, 45), translate=(0.15, 0.15), scale=(0.5, 1.5)),\n",
    "                transforms.RandomHorizontalFlip(p=0.25),\n",
    "                transforms.RandomVerticalFlip(p=0.25),\n",
    "            ])\n",
    "            self.valid_transform = transforms.Compose([\n",
    "                transforms.ToTensor(),\n",
    "                transforms.Normalize([0.41071, 0.21929, 0.07348], [0.23807, 0.13140, 0.04898]),\n",
    "            ])\n",
    "                                \n",
    "        self.save_path = \"saves\"\n",
    "        if not os.path.exists(self.save_path): os.makedirs(self.save_path)\n",
    "    \n",
    "cfg = CFG(\n",
    "    seed=SEED, \n",
    "    size=SIZE\n",
    ")"
   ]
  },
  {
   "cell_type": "markdown",
   "id": "6fe9a781",
   "metadata": {
    "papermill": {
     "duration": 0.003687,
     "end_time": "2023-01-10T06:21:46.840438",
     "exception": false,
     "start_time": "2023-01-10T06:21:46.836751",
     "status": "completed"
    },
    "tags": []
   },
   "source": [
    "### **Dataset Template**"
   ]
  },
  {
   "cell_type": "code",
   "execution_count": 5,
   "id": "196ac19f",
   "metadata": {
    "execution": {
     "iopub.execute_input": "2023-01-10T06:21:46.849751Z",
     "iopub.status.busy": "2023-01-10T06:21:46.849144Z",
     "iopub.status.idle": "2023-01-10T06:21:46.856445Z",
     "shell.execute_reply": "2023-01-10T06:21:46.855487Z"
    },
    "papermill": {
     "duration": 0.014166,
     "end_time": "2023-01-10T06:21:46.858642",
     "exception": false,
     "start_time": "2023-01-10T06:21:46.844476",
     "status": "completed"
    },
    "tags": []
   },
   "outputs": [],
   "source": [
    "class DS(Dataset):\n",
    "    def __init__(\n",
    "        self, \n",
    "        filepaths: np.ndarray, \n",
    "        size: int,\n",
    "        labels: Union[np.ndarray, None]=None, \n",
    "        transform=None\n",
    "    ):\n",
    "        \n",
    "        self.filepaths = filepaths\n",
    "        self.labels = labels\n",
    "        self.size = size\n",
    "        self.transform = transform\n",
    "    \n",
    "    def __len__(self):\n",
    "        return self.filepaths.shape[0]\n",
    "    \n",
    "    def __getitem__(self, idx):\n",
    "        image = get_image(self.filepaths[idx], self.size)\n",
    "        if self.labels is None:\n",
    "            return self.transform(image)\n",
    "        return self.transform(image), torch.LongTensor(self.labels[idx])"
   ]
  },
  {
   "cell_type": "markdown",
   "id": "110cfa81",
   "metadata": {
    "papermill": {
     "duration": 0.00363,
     "end_time": "2023-01-10T06:21:46.866137",
     "exception": false,
     "start_time": "2023-01-10T06:21:46.862507",
     "status": "completed"
    },
    "tags": []
   },
   "source": [
    "### **Model**"
   ]
  },
  {
   "cell_type": "code",
   "execution_count": 6,
   "id": "00f7d731",
   "metadata": {
    "execution": {
     "iopub.execute_input": "2023-01-10T06:21:46.875099Z",
     "iopub.status.busy": "2023-01-10T06:21:46.874694Z",
     "iopub.status.idle": "2023-01-10T06:21:46.880811Z",
     "shell.execute_reply": "2023-01-10T06:21:46.879710Z"
    },
    "papermill": {
     "duration": 0.013167,
     "end_time": "2023-01-10T06:21:46.883152",
     "exception": false,
     "start_time": "2023-01-10T06:21:46.869985",
     "status": "completed"
    },
    "tags": []
   },
   "outputs": [],
   "source": [
    "class Model(nn.Module):\n",
    "    def __init__(self):\n",
    "        super(Model, self).__init__()\n",
    "            \n",
    "        self.model = timm.create_model(model_name=\"vit_tiny_patch16_384\", pretrained=True)\n",
    "        self.model.head = nn.Linear(in_features=self.model.head.in_features, out_features=5)\n",
    "\n",
    "    def forward(self, x):\n",
    "        return nn.LogSoftmax(dim=1)(self.model(x))"
   ]
  },
  {
   "cell_type": "markdown",
   "id": "30dd769e",
   "metadata": {
    "papermill": {
     "duration": 0.003686,
     "end_time": "2023-01-10T06:21:46.890762",
     "exception": false,
     "start_time": "2023-01-10T06:21:46.887076",
     "status": "completed"
    },
    "tags": []
   },
   "source": [
    "### **Fit and Predict**"
   ]
  },
  {
   "cell_type": "code",
   "execution_count": 7,
   "id": "02f08507",
   "metadata": {
    "execution": {
     "iopub.execute_input": "2023-01-10T06:21:46.900101Z",
     "iopub.status.busy": "2023-01-10T06:21:46.899749Z",
     "iopub.status.idle": "2023-01-10T06:21:46.921616Z",
     "shell.execute_reply": "2023-01-10T06:21:46.920826Z"
    },
    "papermill": {
     "duration": 0.028968,
     "end_time": "2023-01-10T06:21:46.923619",
     "exception": false,
     "start_time": "2023-01-10T06:21:46.894651",
     "status": "completed"
    },
    "tags": []
   },
   "outputs": [],
   "source": [
    "def fit(\n",
    "    model=None,\n",
    "    optimizer=None, \n",
    "    scheduler_rlrop=None,\n",
    "    scheduler_oclr=None,\n",
    "    epochs=None, \n",
    "    early_stopping_patience=None, \n",
    "    dataloaders=None, \n",
    "    fold=None, \n",
    "    save_path=None,\n",
    "    device=None,\n",
    "    verbose=False\n",
    ") -> tuple:\n",
    "    \n",
    "    def get_accuracy(y_pred, y_true):\n",
    "        y_pred = torch.argmax(y_pred, dim=1)\n",
    "        return torch.count_nonzero(y_pred == y_true).item() / len(y_pred)\n",
    "    \n",
    "    \n",
    "    if verbose:\n",
    "        breaker()\n",
    "        if fold: print(f\"Training Fold {fold}...\")\n",
    "        else: print(\"Training ...\")\n",
    "        breaker()\n",
    "        \n",
    "    bestLoss: dict = {\"train\" : np.inf, \"valid\" : np.inf} \n",
    "    bestAccs: dict = {\"train\" : 0.0, \"valid\" : 0.0}\n",
    "    \n",
    "    Losses: list = []\n",
    "    Accuracies: list = [] \n",
    "    LRs: list = []\n",
    "        \n",
    "    if fold: \n",
    "        ble_name = f\"ble_state_fold_{fold}.pt\"\n",
    "        bae_name = f\"bae_state_fold_{fold}.pt\"\n",
    "    else: \n",
    "        ble_name = f\"ble_state.pt\"\n",
    "        bae_name = f\"bae_state.pt\"\n",
    "        \n",
    "    start_time = time()\n",
    "    for e in range(epochs):\n",
    "        e_st = time()\n",
    "        epochLoss: dict = {\"train\" : 0.0, \"valid\" : 0.0} \n",
    "        epochAccs: dict = {\"train\" : 0.0, \"valid\" : 0.0}\n",
    "\n",
    "        for phase in [\"train\", \"valid\"]:\n",
    "            if phase == \"train\":\n",
    "                model.train()\n",
    "            else:\n",
    "                model.eval()\n",
    "            \n",
    "            lossPerPass: list = []\n",
    "            accsPerPass: list = []\n",
    "                \n",
    "            for X, y in dataloaders[phase]:\n",
    "                X, y = X.to(device), y.to(device).view(-1)\n",
    "\n",
    "                optimizer.zero_grad()\n",
    "                with torch.set_grad_enabled(phase == \"train\"):\n",
    "                    output = model(X)\n",
    "                    loss = nn.NLLLoss()(output, y)\n",
    "                    if phase == \"train\":\n",
    "                        loss.backward()\n",
    "                        optimizer.step()\n",
    "                        if scheduler_oclr: scheduler_oclr.step()\n",
    "                lossPerPass.append(loss.item())\n",
    "                accsPerPass.append(get_accuracy(output, y))\n",
    "            epochLoss[phase] = np.mean(np.array(lossPerPass))\n",
    "            epochAccs[phase] = np.mean(np.array(accsPerPass))\n",
    "        if scheduler_oclr: LRs.append(scheduler_oclr.get_last_lr())\n",
    "        Losses.append(epochLoss)\n",
    "        Accuracies.append(epochAccs)\n",
    "        \n",
    "        if scheduler_oclr:\n",
    "            save_dict = {\"model_state_dict\"     : model.state_dict(),\n",
    "                         \"optim_state_dict\"     : optimizer.state_dict(),\n",
    "                         \"scheduler_state_dict\" : scheduler_oclr.state_dict()}\n",
    "        \n",
    "        elif scheduler_rlrop:\n",
    "            save_dict = {\"model_state_dict\"     : model.state_dict(),\n",
    "                         \"optim_state_dict\"     : optimizer.state_dict(),\n",
    "                         \"scheduler_state_dict\" : scheduler_rlrop.state_dict()}\n",
    "        \n",
    "        else:\n",
    "            save_dict = {\"model_state_dict\"     : model.state_dict(),\n",
    "                         \"optim_state_dict\"     : optimizer.state_dict()}\n",
    "        \n",
    "        if early_stopping_patience:\n",
    "            if epochLoss[\"valid\"] < bestLoss[\"valid\"]:\n",
    "                bestLoss = epochLoss\n",
    "                BLE = e + 1\n",
    "                torch.save(save_dict, os.path.join(save_path, ble_name))\n",
    "                torch.save(save_dict, os.path.join(save_path, bae_name))\n",
    "                early_stopping_step = 0\n",
    "            else:\n",
    "                early_stopping_step += 1\n",
    "                if early_stopping_step > early_stopping_patience:\n",
    "                    print(\"\\nEarly Stopping at Epoch {}\".format(e + 1))\n",
    "                    break\n",
    "        \n",
    "        if epochLoss[\"valid\"] < bestLoss[\"valid\"]:\n",
    "            bestLoss = epochLoss\n",
    "            BLE = e + 1\n",
    "            torch.save(save_dict,os.path.join(save_path, ble_name))\n",
    "        \n",
    "        if epochAccs[\"valid\"] > bestAccs[\"valid\"]:\n",
    "            bestAccs = epochAccs\n",
    "            BAE = e + 1\n",
    "            torch.save(save_dict,os.path.join(save_path, bae_name))\n",
    "        \n",
    "        if scheduler_rlrop: scheduler_rlrop.step(epochLoss[\"valid\"])\n",
    "        \n",
    "        if verbose:\n",
    "            print(\"Epoch: {} | Train Loss: {:.5f} | Valid Loss: {:.5f} |\\\n",
    " Train Accs: {:.5f} | Valid Accs: {:.5f} | Time: {:.2f} seconds\".format(e+1, \n",
    "                                                                        epochLoss[\"train\"], epochLoss[\"valid\"], \n",
    "                                                                        epochAccs[\"train\"], epochAccs[\"valid\"], \n",
    "                                                                        time()-e_st))\n",
    "\n",
    "    if verbose:                                           \n",
    "        breaker()\n",
    "        print(f\"Best Validation Loss at Epoch {BLE}\")\n",
    "        breaker()\n",
    "        print(f\"Best Validation Accs at Epoch {BAE}\")\n",
    "        breaker()\n",
    "        print(\"Time Taken [{} Epochs] : {:.2f} minutes\".format(len(Losses), (time()-start_time)/60))\n",
    "    \n",
    "    return Losses, Accuracies, LRs, bestLoss, bestAccs, BLE, BAE, ble_name, bae_name\n",
    "\n",
    "\n",
    "# def predict_batch(model=None, dataloader=None, path=None, device=None) -> np.ndarray:\n",
    "#     model.load_state_dict(torch.load(path, map_location=device)[\"model_state_dict\"])\n",
    "#     model.to(device)    \n",
    "#     model.eval()\n",
    "    \n",
    "#     y_pred = torch.zeros(1, 1).to(device)\n",
    "    \n",
    "#     for X in dataloader:\n",
    "#         X = X.to(device)\n",
    "#         with torch.no_grad():\n",
    "#             output = torch.argmax(torch.exp(model(X)), dim=1)\n",
    "#         y_pred = torch.cat((y_pred, output.view(-1, 1)), dim=0)\n",
    "    \n",
    "#     return y_pred[1:].detach().cpu().numpy()"
   ]
  },
  {
   "cell_type": "markdown",
   "id": "bfe226cc",
   "metadata": {
    "papermill": {
     "duration": 0.003776,
     "end_time": "2023-01-10T06:21:46.932485",
     "exception": false,
     "start_time": "2023-01-10T06:21:46.928709",
     "status": "completed"
    },
    "tags": []
   },
   "source": [
    "### **Train**"
   ]
  },
  {
   "cell_type": "code",
   "execution_count": 8,
   "id": "c85de599",
   "metadata": {
    "execution": {
     "iopub.execute_input": "2023-01-10T06:21:46.942034Z",
     "iopub.status.busy": "2023-01-10T06:21:46.941295Z",
     "iopub.status.idle": "2023-01-10T06:21:46.975997Z",
     "shell.execute_reply": "2023-01-10T06:21:46.975069Z"
    },
    "papermill": {
     "duration": 0.041623,
     "end_time": "2023-01-10T06:21:46.978069",
     "exception": false,
     "start_time": "2023-01-10T06:21:46.936446",
     "status": "completed"
    },
    "tags": []
   },
   "outputs": [],
   "source": [
    "df = pd.read_csv(\"/kaggle/input/drc-dataframe/train.csv\")\n",
    "\n",
    "filepaths = df.filepaths.copy().values\n",
    "labels = df.labels.copy().values"
   ]
  },
  {
   "cell_type": "code",
   "execution_count": 9,
   "id": "3f63e463",
   "metadata": {
    "execution": {
     "iopub.execute_input": "2023-01-10T06:21:46.988312Z",
     "iopub.status.busy": "2023-01-10T06:21:46.987713Z",
     "iopub.status.idle": "2023-01-10T07:12:27.403076Z",
     "shell.execute_reply": "2023-01-10T07:12:27.401446Z"
    },
    "papermill": {
     "duration": 3040.426421,
     "end_time": "2023-01-10T07:12:27.408877",
     "exception": false,
     "start_time": "2023-01-10T06:21:46.982456",
     "status": "completed"
    },
    "tags": []
   },
   "outputs": [
    {
     "name": "stdout",
     "output_type": "stream",
     "text": [
      "\n",
      "**************************************************\n",
      "\n",
      "Training Fold 1...\n",
      "\n",
      "**************************************************\n",
      "\n",
      "Epoch: 1 | Train Loss: 1.42723 | Valid Loss: 0.99515 | Train Accs: 0.57461 | Valid Accs: 0.70312 | Time: 82.81 seconds\n",
      "Epoch: 2 | Train Loss: 0.91281 | Valid Loss: 0.79892 | Train Accs: 0.68925 | Valid Accs: 0.70089 | Time: 63.05 seconds\n",
      "Epoch: 3 | Train Loss: 0.79214 | Valid Loss: 1.20920 | Train Accs: 0.71753 | Valid Accs: 0.59375 | Time: 61.88 seconds\n",
      "Epoch: 4 | Train Loss: 0.81321 | Valid Loss: 0.73840 | Train Accs: 0.69991 | Valid Accs: 0.73661 | Time: 61.91 seconds\n",
      "Epoch: 5 | Train Loss: 0.71261 | Valid Loss: 0.83852 | Train Accs: 0.73571 | Valid Accs: 0.64732 | Time: 62.26 seconds\n",
      "Epoch: 6 | Train Loss: 0.67127 | Valid Loss: 0.69027 | Train Accs: 0.74677 | Valid Accs: 0.73214 | Time: 61.94 seconds\n",
      "Epoch: 7 | Train Loss: 0.60101 | Valid Loss: 0.61146 | Train Accs: 0.78383 | Valid Accs: 0.75893 | Time: 61.35 seconds\n",
      "Epoch: 8 | Train Loss: 0.53288 | Valid Loss: 0.55933 | Train Accs: 0.80529 | Valid Accs: 0.79464 | Time: 60.76 seconds\n",
      "Epoch: 9 | Train Loss: 0.45260 | Valid Loss: 0.53701 | Train Accs: 0.83042 | Valid Accs: 0.79018 | Time: 61.41 seconds\n",
      "Epoch: 10 | Train Loss: 0.42233 | Valid Loss: 0.51510 | Train Accs: 0.84589 | Valid Accs: 0.82366 | Time: 61.46 seconds\n",
      "\n",
      "**************************************************\n",
      "\n",
      "Best Validation Loss at Epoch 10\n",
      "\n",
      "**************************************************\n",
      "\n",
      "Best Validation Accs at Epoch 10\n",
      "\n",
      "**************************************************\n",
      "\n",
      "Time Taken [10 Epochs] : 10.65 minutes\n",
      "\n",
      "**************************************************\n",
      "\n"
     ]
    },
    {
     "data": {
      "image/png": "[encoded data removed]",
      "text/plain": [
       "<Figure size 432x288 with 1 Axes>"
      ]
     },
     "metadata": {
      "needs_background": "light"
     },
     "output_type": "display_data"
    },
    {
     "name": "stdout",
     "output_type": "stream",
     "text": [
      "\n",
      "**************************************************\n",
      "\n"
     ]
    },
    {
     "data": {
      "image/png": "[encoded data removed]",
      "text/plain": [
       "<Figure size 432x288 with 1 Axes>"
      ]
     },
     "metadata": {
      "needs_background": "light"
     },
     "output_type": "display_data"
    },
    {
     "name": "stdout",
     "output_type": "stream",
     "text": [
      "\n",
      "**************************************************\n",
      "\n"
     ]
    },
    {
     "data": {
      "image/png": "[encoded data removed]",
      "text/plain": [
       "<Figure size 576x432 with 1 Axes>"
      ]
     },
     "metadata": {
      "needs_background": "light"
     },
     "output_type": "display_data"
    },
    {
     "name": "stdout",
     "output_type": "stream",
     "text": [
      "\n",
      "**************************************************\n",
      "\n",
      "\n",
      "**************************************************\n",
      "\n",
      "Training Fold 2...\n",
      "\n",
      "**************************************************\n",
      "\n",
      "Epoch: 1 | Train Loss: 1.29888 | Valid Loss: 0.93204 | Train Accs: 0.59423 | Valid Accs: 0.70982 | Time: 61.12 seconds\n",
      "Epoch: 2 | Train Loss: 0.87253 | Valid Loss: 0.88435 | Train Accs: 0.68003 | Valid Accs: 0.67857 | Time: 61.22 seconds\n",
      "Epoch: 3 | Train Loss: 0.81888 | Valid Loss: 0.88639 | Train Accs: 0.69222 | Valid Accs: 0.70312 | Time: 60.18 seconds\n",
      "Epoch: 4 | Train Loss: 0.78066 | Valid Loss: 0.76152 | Train Accs: 0.71254 | Valid Accs: 0.71652 | Time: 60.45 seconds\n",
      "Epoch: 5 | Train Loss: 0.71472 | Valid Loss: 0.77134 | Train Accs: 0.73982 | Valid Accs: 0.73214 | Time: 59.67 seconds\n",
      "Epoch: 6 | Train Loss: 0.64576 | Valid Loss: 0.75211 | Train Accs: 0.75730 | Valid Accs: 0.71205 | Time: 60.32 seconds\n",
      "Epoch: 7 | Train Loss: 0.59852 | Valid Loss: 0.63055 | Train Accs: 0.77063 | Valid Accs: 0.78125 | Time: 59.93 seconds\n",
      "Epoch: 8 | Train Loss: 0.51930 | Valid Loss: 0.59976 | Train Accs: 0.80258 | Valid Accs: 0.78348 | Time: 60.27 seconds\n",
      "Epoch: 9 | Train Loss: 0.44549 | Valid Loss: 0.62846 | Train Accs: 0.83112 | Valid Accs: 0.81027 | Time: 59.56 seconds\n",
      "Epoch: 10 | Train Loss: 0.40425 | Valid Loss: 0.63904 | Train Accs: 0.84476 | Valid Accs: 0.78348 | Time: 59.76 seconds\n",
      "\n",
      "**************************************************\n",
      "\n",
      "Best Validation Loss at Epoch 8\n",
      "\n",
      "**************************************************\n",
      "\n",
      "Best Validation Accs at Epoch 9\n",
      "\n",
      "**************************************************\n",
      "\n",
      "Time Taken [10 Epochs] : 10.04 minutes\n",
      "\n",
      "**************************************************\n",
      "\n"
     ]
    },
    {
     "data": {
      "image/png": "[encoded data removed]",
      "text/plain": [
       "<Figure size 432x288 with 1 Axes>"
      ]
     },
     "metadata": {
      "needs_background": "light"
     },
     "output_type": "display_data"
    },
    {
     "name": "stdout",
     "output_type": "stream",
     "text": [
      "\n",
      "**************************************************\n",
      "\n"
     ]
    },
    {
     "data": {
      "image/png": "[encoded data removed]",
      "text/plain": [
       "<Figure size 432x288 with 1 Axes>"
      ]
     },
     "metadata": {
      "needs_background": "light"
     },
     "output_type": "display_data"
    },
    {
     "name": "stdout",
     "output_type": "stream",
     "text": [
      "\n",
      "**************************************************\n",
      "\n"
     ]
    },
    {
     "data": {
      "image/png": "[encoded data removed]",
      "text/plain": [
       "<Figure size 576x432 with 1 Axes>"
      ]
     },
     "metadata": {
      "needs_background": "light"
     },
     "output_type": "display_data"
    },
    {
     "name": "stdout",
     "output_type": "stream",
     "text": [
      "\n",
      "**************************************************\n",
      "\n",
      "\n",
      "**************************************************\n",
      "\n",
      "Training Fold 3...\n",
      "\n",
      "**************************************************\n",
      "\n",
      "Epoch: 1 | Train Loss: 1.39012 | Valid Loss: 1.05563 | Train Accs: 0.56948 | Valid Accs: 0.54018 | Time: 58.74 seconds\n",
      "Epoch: 2 | Train Loss: 0.87478 | Valid Loss: 0.82655 | Train Accs: 0.69140 | Valid Accs: 0.68941 | Time: 59.19 seconds\n",
      "Epoch: 3 | Train Loss: 0.88285 | Valid Loss: 0.89655 | Train Accs: 0.68458 | Valid Accs: 0.66869 | Time: 58.58 seconds\n",
      "Epoch: 4 | Train Loss: 0.77762 | Valid Loss: 0.74536 | Train Accs: 0.71388 | Valid Accs: 0.72800 | Time: 58.89 seconds\n",
      "Epoch: 5 | Train Loss: 0.75215 | Valid Loss: 0.71304 | Train Accs: 0.72167 | Valid Accs: 0.75478 | Time: 58.19 seconds\n",
      "Epoch: 6 | Train Loss: 0.69300 | Valid Loss: 0.68243 | Train Accs: 0.74789 | Valid Accs: 0.74235 | Time: 59.01 seconds\n",
      "Epoch: 7 | Train Loss: 0.60023 | Valid Loss: 0.61585 | Train Accs: 0.76794 | Valid Accs: 0.78380 | Time: 58.60 seconds\n",
      "Epoch: 8 | Train Loss: 0.56282 | Valid Loss: 0.64024 | Train Accs: 0.78450 | Valid Accs: 0.77360 | Time: 58.45 seconds\n",
      "Epoch: 9 | Train Loss: 0.47970 | Valid Loss: 0.51810 | Train Accs: 0.82135 | Valid Accs: 0.80612 | Time: 59.06 seconds\n",
      "Epoch: 10 | Train Loss: 0.45532 | Valid Loss: 0.51374 | Train Accs: 0.82817 | Valid Accs: 0.81218 | Time: 58.94 seconds\n",
      "\n",
      "**************************************************\n",
      "\n",
      "Best Validation Loss at Epoch 10\n",
      "\n",
      "**************************************************\n",
      "\n",
      "Best Validation Accs at Epoch 10\n",
      "\n",
      "**************************************************\n",
      "\n",
      "Time Taken [10 Epochs] : 9.79 minutes\n",
      "\n",
      "**************************************************\n",
      "\n"
     ]
    },
    {
     "data": {
      "image/png": "[encoded data removed]",
      "text/plain": [
       "<Figure size 432x288 with 1 Axes>"
      ]
     },
     "metadata": {
      "needs_background": "light"
     },
     "output_type": "display_data"
    },
    {
     "name": "stdout",
     "output_type": "stream",
     "text": [
      "\n",
      "**************************************************\n",
      "\n"
     ]
    },
    {
     "data": {
      "image/png": "[encoded data removed]",
      "text/plain": [
       "<Figure size 432x288 with 1 Axes>"
      ]
     },
     "metadata": {
      "needs_background": "light"
     },
     "output_type": "display_data"
    },
    {
     "name": "stdout",
     "output_type": "stream",
     "text": [
      "\n",
      "**************************************************\n",
      "\n"
     ]
    },
    {
     "data": {
      "image/png": "[encoded data removed]",
      "text/plain": [
       "<Figure size 576x432 with 1 Axes>"
      ]
     },
     "metadata": {
      "needs_background": "light"
     },
     "output_type": "display_data"
    },
    {
     "name": "stdout",
     "output_type": "stream",
     "text": [
      "\n",
      "**************************************************\n",
      "\n",
      "\n",
      "**************************************************\n",
      "\n",
      "Training Fold 4...\n",
      "\n",
      "**************************************************\n",
      "\n",
      "Epoch: 1 | Train Loss: 1.34403 | Valid Loss: 0.78722 | Train Accs: 0.58149 | Valid Accs: 0.67730 | Time: 60.62 seconds\n",
      "Epoch: 2 | Train Loss: 0.92399 | Valid Loss: 0.88494 | Train Accs: 0.66201 | Valid Accs: 0.69962 | Time: 59.78 seconds\n",
      "Epoch: 3 | Train Loss: 0.88523 | Valid Loss: 0.88060 | Train Accs: 0.68612 | Valid Accs: 0.71078 | Time: 60.66 seconds\n",
      "Epoch: 4 | Train Loss: 0.80270 | Valid Loss: 0.73345 | Train Accs: 0.70065 | Valid Accs: 0.73756 | Time: 60.13 seconds\n",
      "Epoch: 5 | Train Loss: 0.73103 | Valid Loss: 0.68107 | Train Accs: 0.73271 | Valid Accs: 0.75989 | Time: 59.88 seconds\n",
      "Epoch: 6 | Train Loss: 0.66729 | Valid Loss: 0.66339 | Train Accs: 0.76502 | Valid Accs: 0.75096 | Time: 59.68 seconds\n",
      "Epoch: 7 | Train Loss: 0.62755 | Valid Loss: 0.62756 | Train Accs: 0.76851 | Valid Accs: 0.78061 | Time: 60.12 seconds\n",
      "Epoch: 8 | Train Loss: 0.54835 | Valid Loss: 0.58902 | Train Accs: 0.79302 | Valid Accs: 0.79464 | Time: 60.67 seconds\n",
      "Epoch: 9 | Train Loss: 0.46974 | Valid Loss: 0.54866 | Train Accs: 0.83174 | Valid Accs: 0.80357 | Time: 60.45 seconds\n",
      "Epoch: 10 | Train Loss: 0.42835 | Valid Loss: 0.54807 | Train Accs: 0.84407 | Valid Accs: 0.80517 | Time: 60.68 seconds\n",
      "\n",
      "**************************************************\n",
      "\n",
      "Best Validation Loss at Epoch 10\n",
      "\n",
      "**************************************************\n",
      "\n",
      "Best Validation Accs at Epoch 10\n",
      "\n",
      "**************************************************\n",
      "\n",
      "Time Taken [10 Epochs] : 10.04 minutes\n",
      "\n",
      "**************************************************\n",
      "\n"
     ]
    },
    {
     "data": {
      "image/png": "[encoded data removed]",
      "text/plain": [
       "<Figure size 432x288 with 1 Axes>"
      ]
     },
     "metadata": {
      "needs_background": "light"
     },
     "output_type": "display_data"
    },
    {
     "name": "stdout",
     "output_type": "stream",
     "text": [
      "\n",
      "**************************************************\n",
      "\n"
     ]
    },
    {
     "data": {
      "image/png": "[encoded data removed]",
      "text/plain": [
       "<Figure size 432x288 with 1 Axes>"
      ]
     },
     "metadata": {
      "needs_background": "light"
     },
     "output_type": "display_data"
    },
    {
     "name": "stdout",
     "output_type": "stream",
     "text": [
      "\n",
      "**************************************************\n",
      "\n"
     ]
    },
    {
     "data": {
      "image/png": "[encoded data removed]",
      "text/plain": [
       "<Figure size 576x432 with 1 Axes>"
      ]
     },
     "metadata": {
      "needs_background": "light"
     },
     "output_type": "display_data"
    },
    {
     "name": "stdout",
     "output_type": "stream",
     "text": [
      "\n",
      "**************************************************\n",
      "\n",
      "\n",
      "**************************************************\n",
      "\n",
      "Training Fold 5...\n",
      "\n",
      "**************************************************\n",
      "\n",
      "Epoch: 1 | Train Loss: 1.42880 | Valid Loss: 0.67955 | Train Accs: 0.58247 | Valid Accs: 0.74362 | Time: 59.59 seconds\n",
      "Epoch: 2 | Train Loss: 0.93359 | Valid Loss: 0.92918 | Train Accs: 0.67143 | Valid Accs: 0.66932 | Time: 59.08 seconds\n",
      "Epoch: 3 | Train Loss: 0.88858 | Valid Loss: 0.79056 | Train Accs: 0.69050 | Valid Accs: 0.68048 | Time: 59.50 seconds\n",
      "Epoch: 4 | Train Loss: 0.79912 | Valid Loss: 0.74649 | Train Accs: 0.70308 | Valid Accs: 0.73469 | Time: 59.43 seconds\n",
      "Epoch: 5 | Train Loss: 0.71388 | Valid Loss: 0.65422 | Train Accs: 0.73498 | Valid Accs: 0.76945 | Time: 59.87 seconds\n",
      "Epoch: 6 | Train Loss: 0.66343 | Valid Loss: 0.71859 | Train Accs: 0.75106 | Valid Accs: 0.74490 | Time: 60.63 seconds\n",
      "Epoch: 7 | Train Loss: 0.58027 | Valid Loss: 0.60818 | Train Accs: 0.78839 | Valid Accs: 0.79401 | Time: 60.55 seconds\n",
      "Epoch: 8 | Train Loss: 0.51161 | Valid Loss: 0.64592 | Train Accs: 0.80763 | Valid Accs: 0.76658 | Time: 59.90 seconds\n",
      "Epoch: 9 | Train Loss: 0.45167 | Valid Loss: 0.58586 | Train Accs: 0.83052 | Valid Accs: 0.78348 | Time: 59.92 seconds\n",
      "Epoch: 10 | Train Loss: 0.40912 | Valid Loss: 0.56091 | Train Accs: 0.84651 | Valid Accs: 0.79401 | Time: 59.90 seconds\n",
      "\n",
      "**************************************************\n",
      "\n",
      "Best Validation Loss at Epoch 10\n",
      "\n",
      "**************************************************\n",
      "\n",
      "Best Validation Accs at Epoch 7\n",
      "\n",
      "**************************************************\n",
      "\n",
      "Time Taken [10 Epochs] : 9.97 minutes\n",
      "\n",
      "**************************************************\n",
      "\n"
     ]
    },
    {
     "data": {
      "image/png": "[encoded data removed]",
      "text/plain": [
       "<Figure size 432x288 with 1 Axes>"
      ]
     },
     "metadata": {
      "needs_background": "light"
     },
     "output_type": "display_data"
    },
    {
     "name": "stdout",
     "output_type": "stream",
     "text": [
      "\n",
      "**************************************************\n",
      "\n"
     ]
    },
    {
     "data": {
      "image/png": "[encoded data removed]",
      "text/plain": [
       "<Figure size 432x288 with 1 Axes>"
      ]
     },
     "metadata": {
      "needs_background": "light"
     },
     "output_type": "display_data"
    },
    {
     "name": "stdout",
     "output_type": "stream",
     "text": [
      "\n",
      "**************************************************\n",
      "\n"
     ]
    },
    {
     "data": {
      "image/png": "[encoded data removed]",
      "text/plain": [
       "<Figure size 576x432 with 1 Axes>"
      ]
     },
     "metadata": {
      "needs_background": "light"
     },
     "output_type": "display_data"
    },
    {
     "name": "stdout",
     "output_type": "stream",
     "text": [
      "\n",
      "**************************************************\n",
      "\n"
     ]
    }
   ],
   "source": [
    "fold: int = 1\n",
    "BLs: list = []\n",
    "BAs: list = []\n",
    "    \n",
    "cfg.batch_size = 16\n",
    "cfg.epochs = 10\n",
    "    \n",
    "for tr_idx, va_idx in StratifiedKFold(n_splits=cfg.n_splits, random_state=cfg.seed, shuffle=True).split(filepaths, labels):\n",
    "#     if fold == 1: break\n",
    "#     fold += 1\n",
    "\n",
    "    tr_filepaths, va_filepaths = filepaths[tr_idx], filepaths[va_idx] \n",
    "    tr_labels, va_labels       = labels[tr_idx], labels[va_idx]\n",
    "\n",
    "    tr_data_setup = DS(\n",
    "        filepaths=tr_filepaths, \n",
    "        labels=tr_labels.reshape(-1, 1),\n",
    "        size=cfg.size,\n",
    "        transform=cfg.train_transform\n",
    "    )\n",
    "\n",
    "    va_data_setup = DS(\n",
    "        filepaths=va_filepaths, \n",
    "        labels=va_labels.reshape(-1, 1),\n",
    "        size=cfg.size,\n",
    "        transform=cfg.train_transform\n",
    "    )\n",
    "\n",
    "    dataloaders = {\n",
    "        \"train\" : DL(tr_data_setup, batch_size=cfg.batch_size, shuffle=True, generator=torch.manual_seed(cfg.seed)),\n",
    "        \"valid\" : DL(va_data_setup, batch_size=cfg.batch_size, shuffle=False),\n",
    "    }\n",
    "\n",
    "    cfg.steps_per_epoch=len(dataloaders[\"train\"])\n",
    "\n",
    "    torch.manual_seed(cfg.seed)\n",
    "    model = Model().to(cfg.device)\n",
    "\n",
    "    optimizer = optim.Adam([p for p in model.parameters() if p.requires_grad], lr=cfg.lr, weight_decay=cfg.wd)\n",
    "    # optimizer = optim.AdamW([p for p in model.parameters() if p.requires_grad], lr=cfg.lr, weight_decay=cfg.wd)\n",
    "    # optimizer = optim.SGD([p for p in model.parameters() if p.requires_grad], lr=cfg.lr, weight_decay=cfg.wd, momentum=0.9)\n",
    "\n",
    "    scheduler_oclr = optim.lr_scheduler.OneCycleLR(\n",
    "        optimizer=optimizer, \n",
    "        max_lr=cfg.max_lr, \n",
    "        epochs=cfg.epochs, \n",
    "        steps_per_epoch=cfg.steps_per_epoch,\n",
    "        pct_start=cfg.pct_start, \n",
    "        div_factor=cfg.div_factor, \n",
    "        final_div_factor=cfg.final_div_factor\n",
    "    )\n",
    "\n",
    "    # scheduler_rlrop = optim.lr_scheduler.ReduceLROnPlateau(\n",
    "    #     optimizer=optimizer,\n",
    "    #     patience=cfg.patience,\n",
    "    #     eps=cfg.eps,\n",
    "    #     verbose=True\n",
    "    # )\n",
    "\n",
    "    # scheduler_oclr = None\n",
    "    scheduler_rlrop = None\n",
    "\n",
    "\n",
    "    L, A, LR, BL, BA, _, _, _, _ = fit(\n",
    "        model=model, \n",
    "        optimizer=optimizer, \n",
    "        scheduler_oclr=scheduler_oclr,\n",
    "        scheduler_rlrop=scheduler_rlrop,\n",
    "        epochs=cfg.epochs, \n",
    "        early_stopping_patience=cfg.early_stopping, \n",
    "        dataloaders=dataloaders, \n",
    "        device=cfg.device,\n",
    "        save_path=cfg.save_path,\n",
    "        fold=fold,\n",
    "        verbose=True\n",
    "    )\n",
    "\n",
    "\n",
    "    breaker()\n",
    "    show_loss_graphs(L)\n",
    "    breaker()\n",
    "    show_accuracy_graphs(A)\n",
    "    breaker()\n",
    "    if scheduler_oclr:\n",
    "        show_lr_graph(LR)\n",
    "        breaker()\n",
    "\n",
    "    BLs.append(BL)\n",
    "    BAs.append(BA)\n",
    "\n",
    "    fold += 1"
   ]
  },
  {
   "cell_type": "markdown",
   "id": "3483be25",
   "metadata": {
    "papermill": {
     "duration": 0.01075,
     "end_time": "2023-01-10T07:12:27.430909",
     "exception": false,
     "start_time": "2023-01-10T07:12:27.420159",
     "status": "completed"
    },
    "tags": []
   },
   "source": [
    "### **Best Model**"
   ]
  },
  {
   "cell_type": "code",
   "execution_count": 10,
   "id": "baefb2df",
   "metadata": {
    "execution": {
     "iopub.execute_input": "2023-01-10T07:12:27.455738Z",
     "iopub.status.busy": "2023-01-10T07:12:27.454230Z",
     "iopub.status.idle": "2023-01-10T07:12:27.462275Z",
     "shell.execute_reply": "2023-01-10T07:12:27.460999Z"
    },
    "papermill": {
     "duration": 0.022426,
     "end_time": "2023-01-10T07:12:27.464529",
     "exception": false,
     "start_time": "2023-01-10T07:12:27.442103",
     "status": "completed"
    },
    "tags": []
   },
   "outputs": [
    {
     "name": "stdout",
     "output_type": "stream",
     "text": [
      "\n",
      "**************************************************\n",
      "\n",
      "Best Loss Model Fold     : 3\n",
      "Best Accuracy Model Fold : 1\n",
      "\n",
      "**************************************************\n",
      "\n"
     ]
    }
   ],
   "source": [
    "BL = np.inf\n",
    "for i in range(len(BLs)):\n",
    "    if BLs[i][\"valid\"] < BL:\n",
    "        BL = BLs[i][\"valid\"]\n",
    "        best_loss_index = i\n",
    "\n",
    "        \n",
    "BA = 0.0\n",
    "for i in range(len(BAs)):\n",
    "    if BAs[i][\"valid\"] > BA:\n",
    "        BA = BAs[i][\"valid\"]\n",
    "        best_accs_index = i\n",
    "\n",
    "breaker()\n",
    "print(f\"Best Loss Model Fold     : {best_loss_index + 1}\")\n",
    "print(f\"Best Accuracy Model Fold : {best_accs_index + 1}\")\n",
    "breaker()"
   ]
  }
 ],
 "metadata": {
  "kernelspec": {
   "display_name": "Python 3",
   "language": "python",
   "name": "python3"
  },
  "language_info": {
   "codemirror_mode": {
    "name": "ipython",
    "version": 3
   },
   "file_extension": ".py",
   "mimetype": "text/x-python",
   "name": "python",
   "nbconvert_exporter": "python",
   "pygments_lexer": "ipython3",
   "version": "3.7.12"
  },
  "papermill": {
   "default_parameters": {},
   "duration": 3066.849858,
   "end_time": "2023-01-10T07:12:29.982758",
   "environment_variables": {},
   "exception": null,
   "input_path": "__notebook__.ipynb",
   "output_path": "__notebook__.ipynb",
   "parameters": {},
   "start_time": "2023-01-10T06:21:23.132900",
   "version": "2.3.4"
  }
 },
 "nbformat": 4,
 "nbformat_minor": 5
}
