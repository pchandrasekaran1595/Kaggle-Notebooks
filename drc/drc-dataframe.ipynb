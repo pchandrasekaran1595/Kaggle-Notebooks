{
 "cells": [
  {
   "cell_type": "code",
   "execution_count": 1,
   "id": "f788b9c7",
   "metadata": {
    "_cell_guid": "b1076dfc-b9ad-4769-8c92-a6c4dae69d19",
    "_uuid": "8f2839f25d086af736a60e9eeb907d3b93b6e0e5",
    "execution": {
     "iopub.execute_input": "2023-01-08T19:47:57.801420Z",
     "iopub.status.busy": "2023-01-08T19:47:57.800983Z",
     "iopub.status.idle": "2023-01-08T19:47:58.011219Z",
     "shell.execute_reply": "2023-01-08T19:47:58.010036Z"
    },
    "papermill": {
     "duration": 0.218741,
     "end_time": "2023-01-08T19:47:58.014128",
     "exception": false,
     "start_time": "2023-01-08T19:47:57.795387",
     "status": "completed"
    },
    "tags": []
   },
   "outputs": [],
   "source": [
    "import os\n",
    "import cv2\n",
    "import json\n",
    "import numpy as np\n",
    "import pandas as pd\n",
    "\n",
    "BASE_PATH: str = \"/kaggle/input/diabetic-retinopathy-classification-3/kaggle_retina\""
   ]
  },
  {
   "cell_type": "code",
   "execution_count": 2,
   "id": "8bc551d4",
   "metadata": {
    "execution": {
     "iopub.execute_input": "2023-01-08T19:47:58.019556Z",
     "iopub.status.busy": "2023-01-08T19:47:58.019150Z",
     "iopub.status.idle": "2023-01-08T19:47:58.079056Z",
     "shell.execute_reply": "2023-01-08T19:47:58.078101Z"
    },
    "papermill": {
     "duration": 0.066072,
     "end_time": "2023-01-08T19:47:58.082217",
     "exception": false,
     "start_time": "2023-01-08T19:47:58.016145",
     "status": "completed"
    },
    "tags": []
   },
   "outputs": [],
   "source": [
    "tr_data: pd.DataFrame = pd.read_csv(\"/kaggle/input/diabetic-retinopathy-classification-3/kaggle_retina/train.csv\")\n",
    "df: pd.DataFrame = pd.DataFrame(data=None, columns=[\"filepaths\", \"labels\"])\n",
    "    \n",
    "filepaths: list = []\n",
    "\n",
    "for filename in tr_data.id_code.copy().values:\n",
    "    filepaths.append(os.path.join(f\"{BASE_PATH}/train\", filename + \".png\"))\n",
    "\n",
    "df.filepaths = filepaths\n",
    "df.labels = tr_data.diagnosis.copy().values\n",
    "df.to_csv(\"train.csv\", index=False)"
   ]
  },
  {
   "cell_type": "code",
   "execution_count": 3,
   "id": "ec7b7673",
   "metadata": {
    "execution": {
     "iopub.execute_input": "2023-01-08T19:47:58.093461Z",
     "iopub.status.busy": "2023-01-08T19:47:58.092158Z",
     "iopub.status.idle": "2023-01-08T19:47:58.122062Z",
     "shell.execute_reply": "2023-01-08T19:47:58.120374Z"
    },
    "papermill": {
     "duration": 0.037658,
     "end_time": "2023-01-08T19:47:58.125202",
     "exception": false,
     "start_time": "2023-01-08T19:47:58.087544",
     "status": "completed"
    },
    "tags": []
   },
   "outputs": [],
   "source": [
    "ts_data: pd.DataFrame = pd.read_csv(\"/kaggle/input/diabetic-retinopathy-classification-3/kaggle_retina/submission.csv\")\n",
    "df: pd.DataFrame = pd.DataFrame(data=None, columns=[\"filepaths\"])\n",
    "    \n",
    "filepaths: list = []\n",
    "\n",
    "for filename in ts_data.id_code.copy().values:\n",
    "    filepaths.append(os.path.join(f\"{BASE_PATH}/test\", filename + \".png\"))\n",
    "\n",
    "df.filepaths = filepaths\n",
    "df.to_csv(\"test.csv\", index=False)"
   ]
  }
 ],
 "metadata": {
  "kernelspec": {
   "display_name": "Python 3",
   "language": "python",
   "name": "python3"
  },
  "language_info": {
   "codemirror_mode": {
    "name": "ipython",
    "version": 3
   },
   "file_extension": ".py",
   "mimetype": "text/x-python",
   "name": "python",
   "nbconvert_exporter": "python",
   "pygments_lexer": "ipython3",
   "version": "3.7.12"
  },
  "papermill": {
   "default_parameters": {},
   "duration": 9.891726,
   "end_time": "2023-01-08T19:47:58.851739",
   "environment_variables": {},
   "exception": null,
   "input_path": "__notebook__.ipynb",
   "output_path": "__notebook__.ipynb",
   "parameters": {},
   "start_time": "2023-01-08T19:47:48.960013",
   "version": "2.3.4"
  }
 },
 "nbformat": 4,
 "nbformat_minor": 5
}
