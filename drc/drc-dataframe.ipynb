{
 "cells": [
  {
   "cell_type": "code",
   "execution_count": 1,
   "id": "c833fae0",
   "metadata": {
    "_cell_guid": "b1076dfc-b9ad-4769-8c92-a6c4dae69d19",
    "_uuid": "8f2839f25d086af736a60e9eeb907d3b93b6e0e5",
    "execution": {
     "iopub.execute_input": "2023-01-07T18:47:29.017683Z",
     "iopub.status.busy": "2023-01-07T18:47:29.016668Z",
     "iopub.status.idle": "2023-01-07T18:47:29.179291Z",
     "shell.execute_reply": "2023-01-07T18:47:29.178474Z"
    },
    "papermill": {
     "duration": 0.169322,
     "end_time": "2023-01-07T18:47:29.181736",
     "exception": false,
     "start_time": "2023-01-07T18:47:29.012414",
     "status": "completed"
    },
    "tags": []
   },
   "outputs": [],
   "source": [
    "import os\n",
    "import cv2\n",
    "import json\n",
    "import numpy as np\n",
    "import pandas as pd\n",
    "\n",
    "BASE_PATH: str = \"/kaggle/input/diabetic-retinopathy-classification-3/kaggle_retina/train\""
   ]
  },
  {
   "cell_type": "code",
   "execution_count": 2,
   "id": "9ebbcfbc",
   "metadata": {
    "execution": {
     "iopub.execute_input": "2023-01-07T18:47:29.187052Z",
     "iopub.status.busy": "2023-01-07T18:47:29.186276Z",
     "iopub.status.idle": "2023-01-07T18:47:29.246218Z",
     "shell.execute_reply": "2023-01-07T18:47:29.245161Z"
    },
    "papermill": {
     "duration": 0.065101,
     "end_time": "2023-01-07T18:47:29.248825",
     "exception": false,
     "start_time": "2023-01-07T18:47:29.183724",
     "status": "completed"
    },
    "tags": []
   },
   "outputs": [],
   "source": [
    "tr_data: pd.DataFrame = pd.read_csv(\"/kaggle/input/diabetic-retinopathy-classification-3/kaggle_retina/train.csv\")\n",
    "df: pd.DataFrame = pd.DataFrame(data=None, columns=[\"filepaths\", \"labels\"])\n",
    "    \n",
    "filepaths: list = []\n",
    "\n",
    "for filename in tr_data.id_code.copy().values:\n",
    "    filepaths.append(os.path.join(f\"{BASE_PATH}\", filename + \".png\"))\n",
    "\n",
    "df.filepaths = filepaths\n",
    "df.labels = tr_data.diagnosis.copy().values\n",
    "df.to_csv(\"train.csv\", index=False)"
   ]
  },
  {
   "cell_type": "code",
   "execution_count": 3,
   "id": "d44ca678",
   "metadata": {
    "execution": {
     "iopub.execute_input": "2023-01-07T18:47:29.253525Z",
     "iopub.status.busy": "2023-01-07T18:47:29.253205Z",
     "iopub.status.idle": "2023-01-07T18:47:29.280360Z",
     "shell.execute_reply": "2023-01-07T18:47:29.279543Z"
    },
    "papermill": {
     "duration": 0.03204,
     "end_time": "2023-01-07T18:47:29.282654",
     "exception": false,
     "start_time": "2023-01-07T18:47:29.250614",
     "status": "completed"
    },
    "tags": []
   },
   "outputs": [],
   "source": [
    "ts_data: pd.DataFrame = pd.read_csv(\"/kaggle/input/diabetic-retinopathy-classification-3/kaggle_retina/submission.csv\")\n",
    "df: pd.DataFrame = pd.DataFrame(data=None, columns=[\"filepaths\"])\n",
    "    \n",
    "filepaths: list = []\n",
    "\n",
    "for filename in ts_data.id_code.copy().values:\n",
    "    filepaths.append(os.path.join(f\"{BASE_PATH}\", filename + \".png\"))\n",
    "\n",
    "df.filepaths = filepaths\n",
    "df.to_csv(\"test.csv\", index=False)"
   ]
  }
 ],
 "metadata": {
  "kernelspec": {
   "display_name": "Python 3",
   "language": "python",
   "name": "python3"
  },
  "language_info": {
   "codemirror_mode": {
    "name": "ipython",
    "version": 3
   },
   "file_extension": ".py",
   "mimetype": "text/x-python",
   "name": "python",
   "nbconvert_exporter": "python",
   "pygments_lexer": "ipython3",
   "version": "3.7.12"
  },
  "papermill": {
   "default_parameters": {},
   "duration": 8.53499,
   "end_time": "2023-01-07T18:47:29.805688",
   "environment_variables": {},
   "exception": null,
   "input_path": "__notebook__.ipynb",
   "output_path": "__notebook__.ipynb",
   "parameters": {},
   "start_time": "2023-01-07T18:47:21.270698",
   "version": "2.3.4"
  }
 },
 "nbformat": 4,
 "nbformat_minor": 5
}
