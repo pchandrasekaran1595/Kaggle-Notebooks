{
 "cells": [
  {
   "cell_type": "markdown",
   "id": "b0713f79",
   "metadata": {
    "_cell_guid": "b1076dfc-b9ad-4769-8c92-a6c4dae69d19",
    "_uuid": "8f2839f25d086af736a60e9eeb907d3b93b6e0e5",
    "papermill": {
     "duration": 0.005984,
     "end_time": "2023-01-08T10:44:38.472680",
     "exception": false,
     "start_time": "2023-01-08T10:44:38.466696",
     "status": "completed"
    },
    "tags": []
   },
   "source": [
    "### **Setup**"
   ]
  },
  {
   "cell_type": "code",
   "execution_count": 1,
   "id": "a9531f45",
   "metadata": {
    "execution": {
     "iopub.execute_input": "2023-01-08T10:44:38.482297Z",
     "iopub.status.busy": "2023-01-08T10:44:38.481747Z",
     "iopub.status.idle": "2023-01-08T10:44:49.493654Z",
     "shell.execute_reply": "2023-01-08T10:44:49.492062Z"
    },
    "papermill": {
     "duration": 11.019104,
     "end_time": "2023-01-08T10:44:49.495942",
     "exception": false,
     "start_time": "2023-01-08T10:44:38.476838",
     "status": "completed"
    },
    "tags": []
   },
   "outputs": [
    {
     "name": "stderr",
     "output_type": "stream",
     "text": [
      "WARNING: Running pip as the 'root' user can result in broken permissions and conflicting behaviour with the system package manager. It is recommended to use a virtual environment instead: https://pip.pypa.io/warnings/venv\n"
     ]
    }
   ],
   "source": [
    "%%bash\n",
    "pip install timm -q"
   ]
  },
  {
   "cell_type": "markdown",
   "id": "2310006e",
   "metadata": {
    "papermill": {
     "duration": 0.00338,
     "end_time": "2023-01-08T10:44:49.503308",
     "exception": false,
     "start_time": "2023-01-08T10:44:49.499928",
     "status": "completed"
    },
    "tags": []
   },
   "source": [
    "### **Library Imports**"
   ]
  },
  {
   "cell_type": "code",
   "execution_count": 2,
   "id": "7912f41d",
   "metadata": {
    "execution": {
     "iopub.execute_input": "2023-01-08T10:44:49.512564Z",
     "iopub.status.busy": "2023-01-08T10:44:49.512243Z",
     "iopub.status.idle": "2023-01-08T10:44:53.344746Z",
     "shell.execute_reply": "2023-01-08T10:44:53.343719Z"
    },
    "papermill": {
     "duration": 3.840853,
     "end_time": "2023-01-08T10:44:53.347667",
     "exception": false,
     "start_time": "2023-01-08T10:44:49.506814",
     "status": "completed"
    },
    "tags": []
   },
   "outputs": [],
   "source": [
    "import os\n",
    "import re\n",
    "import cv2\n",
    "import timm\n",
    "import torch\n",
    "import numpy as np\n",
    "import pandas as pd\n",
    "import matplotlib.pyplot as plt\n",
    "\n",
    "from time import time\n",
    "from typing import Union\n",
    "from torch import nn, optim\n",
    "from torch.utils.data import Dataset\n",
    "from torch.utils.data import DataLoader as DL\n",
    "from torchvision import transforms\n",
    "\n",
    "from sklearn.model_selection import StratifiedKFold"
   ]
  },
  {
   "cell_type": "markdown",
   "id": "481abe7a",
   "metadata": {
    "papermill": {
     "duration": 0.0088,
     "end_time": "2023-01-08T10:44:53.365364",
     "exception": false,
     "start_time": "2023-01-08T10:44:53.356564",
     "status": "completed"
    },
    "tags": []
   },
   "source": [
    "### **Utilities and Helpers**"
   ]
  },
  {
   "cell_type": "code",
   "execution_count": 3,
   "id": "04b478f0",
   "metadata": {
    "execution": {
     "iopub.execute_input": "2023-01-08T10:44:53.390151Z",
     "iopub.status.busy": "2023-01-08T10:44:53.389729Z",
     "iopub.status.idle": "2023-01-08T10:44:53.420050Z",
     "shell.execute_reply": "2023-01-08T10:44:53.419205Z"
    },
    "papermill": {
     "duration": 0.039812,
     "end_time": "2023-01-08T10:44:53.422553",
     "exception": false,
     "start_time": "2023-01-08T10:44:53.382741",
     "status": "completed"
    },
    "tags": []
   },
   "outputs": [],
   "source": [
    "SEED: int = 42\n",
    "SIZE: int = 384\n",
    "\n",
    "\n",
    "def breaker(num: int=50, char: str=\"*\") -> None: print(\"\\n\" + num*char + \"\\n\")\n",
    "\n",
    "    \n",
    "def get_image(path: str, size: int=224) -> np.ndarray:\n",
    "    image = cv2.imread(path, cv2.IMREAD_COLOR)\n",
    "    image = cv2.cvtColor(src=image, code=cv2.COLOR_BGR2RGB)\n",
    "    return cv2.resize(src=image, dsize=(size, size), interpolation=cv2.INTER_AREA)\n",
    "\n",
    "    \n",
    "def show_loss_graphs(L: list) -> None:\n",
    "    TL, VL = [], []\n",
    "    for i in range(len(L)):\n",
    "        TL.append(L[i][\"train\"])\n",
    "        VL.append(L[i][\"valid\"])\n",
    "    x_Axis = np.arange(1, len(TL) + 1)\n",
    "    plt.figure()\n",
    "    plt.plot(x_Axis, TL, \"r\", label=\"Train\")\n",
    "    plt.plot(x_Axis, VL, \"b\", label=\"Valid\")\n",
    "    plt.legend()\n",
    "    plt.grid()\n",
    "    plt.title(\"Loss Graph\")\n",
    "    plt.show()\n",
    "\n",
    "    \n",
    "def show_accuracy_graphs(A: list) -> None:\n",
    "    TA, VA = [], []\n",
    "    for i in range(len(A)):\n",
    "        TA.append(A[i][\"train\"])\n",
    "        VA.append(A[i][\"valid\"])\n",
    "    x_Axis = np.arange(1, len(TA) + 1)\n",
    "    plt.figure()\n",
    "    plt.plot(x_Axis, TA, \"r\", label=\"Train\")\n",
    "    plt.plot(x_Axis, VA, \"b\", label=\"Valid\")\n",
    "    plt.legend()\n",
    "    plt.grid()\n",
    "    plt.title(\"Accuracy Graph\")\n",
    "    plt.show()\n",
    "    \n",
    "\n",
    "def show_lr_graph(LR: list) -> None:\n",
    "    x_Axis = [i+1 for i in range(len(LR))]\n",
    "    plt.figure(figsize=(8, 6))\n",
    "    plt.plot(x_Axis, LR, \"rx\")\n",
    "    plt.grid()\n",
    "    plt.show()"
   ]
  },
  {
   "cell_type": "markdown",
   "id": "483c6c83",
   "metadata": {
    "papermill": {
     "duration": 0.012714,
     "end_time": "2023-01-08T10:44:53.440963",
     "exception": false,
     "start_time": "2023-01-08T10:44:53.428249",
     "status": "completed"
    },
    "tags": []
   },
   "source": [
    "\n",
    "\n",
    "### **Configuration**"
   ]
  },
  {
   "cell_type": "code",
   "execution_count": 4,
   "id": "2d70f397",
   "metadata": {
    "execution": {
     "iopub.execute_input": "2023-01-08T10:44:53.461010Z",
     "iopub.status.busy": "2023-01-08T10:44:53.460634Z",
     "iopub.status.idle": "2023-01-08T10:44:53.582304Z",
     "shell.execute_reply": "2023-01-08T10:44:53.581230Z"
    },
    "papermill": {
     "duration": 0.138906,
     "end_time": "2023-01-08T10:44:53.585422",
     "exception": false,
     "start_time": "2023-01-08T10:44:53.446516",
     "status": "completed"
    },
    "tags": []
   },
   "outputs": [],
   "source": [
    "class CFG(object):\n",
    "    def __init__(self, \n",
    "                 seed: int = 42,\n",
    "                 size: int = 224,\n",
    "                 n_splits: int = 5,\n",
    "                 batch_size: int = 16,\n",
    "                 epochs: int = 25,\n",
    "                 early_stopping: int = 5,\n",
    "                 lr: float = 1e-4,\n",
    "                 wd: float = 0.0,\n",
    "                 max_lr: float = 1e-3,\n",
    "                 pct_start: float = 0.2,\n",
    "                 steps_per_epoch: int = 100,\n",
    "                 div_factor: int = 1e3, \n",
    "                 final_div_factor: float = 1e3,\n",
    "                 ):\n",
    "        self.seed = seed\n",
    "        self.size = size\n",
    "        self.n_splits = n_splits\n",
    "        self.batch_size = batch_size\n",
    "        self.epochs = epochs\n",
    "        self.early_stopping = early_stopping\n",
    "        self.lr = lr\n",
    "        self.wd = wd\n",
    "        self.max_lr = max_lr\n",
    "        self.pct_start = pct_start\n",
    "        self.steps_per_epoch = steps_per_epoch\n",
    "        self.div_factor = div_factor\n",
    "        self.final_div_factor = final_div_factor\n",
    "        self.device = torch.device(\"cuda\" if torch.cuda.is_available() else \"cpu\")\n",
    "        \n",
    "        if self.size == 224:\n",
    "            self.train_transform = transforms.Compose([\n",
    "                transforms.ToTensor(),\n",
    "                transforms.Normalize([0.41080, 0.21938, 0.07357], [0.23762, 0.13099, 0.04847]),\n",
    "                transforms.RandomAffine(degrees=(-45, 45), translate=(0.15, 0.15), scale=(0.5, 1.5)),\n",
    "                transforms.RandomHorizontalFlip(p=0.25),\n",
    "                transforms.RandomVerticalFlip(p=0.25),\n",
    "            ])\n",
    "            self.valid_transform = transforms.Compose([\n",
    "                transforms.ToTensor(),\n",
    "                transforms.Normalize([0.41080, 0.21938, 0.07357], [0.23762, 0.13099, 0.04847]),\n",
    "            ])\n",
    "        \n",
    "        if self.size == 384:\n",
    "            self.train_transform = transforms.Compose([\n",
    "                transforms.ToTensor(),\n",
    "                transforms.Normalize([0.41076, 0.21934, 0.07357], [0.23796, 0.13130, 0.04884]),\n",
    "                transforms.RandomAffine(degrees=(-45, 45), translate=(0.15, 0.15), scale=(0.5, 1.5)),\n",
    "                transforms.RandomHorizontalFlip(p=0.25),\n",
    "                transforms.RandomVerticalFlip(p=0.25),\n",
    "            ])\n",
    "            self.valid_transform = transforms.Compose([\n",
    "                transforms.ToTensor(),\n",
    "                transforms.Normalize([0.41076, 0.21934, 0.07357], [0.23796, 0.13130, 0.04884]),\n",
    "            ])\n",
    "        \n",
    "        if self.size == 512:\n",
    "            self.train_transform = transforms.Compose([\n",
    "                transforms.ToTensor(),\n",
    "                transforms.Normalize([0.41071, 0.21929, 0.07348], [0.23807, 0.13140, 0.04898]),\n",
    "                transforms.RandomAffine(degrees=(-45, 45), translate=(0.15, 0.15), scale=(0.5, 1.5)),\n",
    "                transforms.RandomHorizontalFlip(p=0.25),\n",
    "                transforms.RandomVerticalFlip(p=0.25),\n",
    "            ])\n",
    "            self.valid_transform = transforms.Compose([\n",
    "                transforms.ToTensor(),\n",
    "                transforms.Normalize([0.41071, 0.21929, 0.07348], [0.23807, 0.13140, 0.04898]),\n",
    "            ])\n",
    "                                \n",
    "        self.save_path = \"saves\"\n",
    "        if not os.path.exists(self.save_path): os.makedirs(self.save_path)\n",
    "    \n",
    "cfg = CFG(\n",
    "    seed=SEED, \n",
    "    size=SIZE\n",
    ")"
   ]
  },
  {
   "cell_type": "markdown",
   "id": "e74d3c74",
   "metadata": {
    "papermill": {
     "duration": 0.013587,
     "end_time": "2023-01-08T10:44:53.605021",
     "exception": false,
     "start_time": "2023-01-08T10:44:53.591434",
     "status": "completed"
    },
    "tags": []
   },
   "source": [
    "### **Dataset Template**"
   ]
  },
  {
   "cell_type": "code",
   "execution_count": 5,
   "id": "3fccb7f8",
   "metadata": {
    "execution": {
     "iopub.execute_input": "2023-01-08T10:44:53.625392Z",
     "iopub.status.busy": "2023-01-08T10:44:53.625011Z",
     "iopub.status.idle": "2023-01-08T10:44:53.636943Z",
     "shell.execute_reply": "2023-01-08T10:44:53.636042Z"
    },
    "papermill": {
     "duration": 0.035878,
     "end_time": "2023-01-08T10:44:53.646215",
     "exception": false,
     "start_time": "2023-01-08T10:44:53.610337",
     "status": "completed"
    },
    "tags": []
   },
   "outputs": [],
   "source": [
    "class DS(Dataset):\n",
    "    def __init__(\n",
    "        self, \n",
    "        filepaths: np.ndarray, \n",
    "        size: int,\n",
    "        labels: Union[np.ndarray, None]=None, \n",
    "        transform=None\n",
    "    ):\n",
    "        \n",
    "        self.filepaths = filepaths\n",
    "        self.labels = labels\n",
    "        self.size = size\n",
    "        self.transform = transform\n",
    "    \n",
    "    def __len__(self):\n",
    "        return self.filepaths.shape[0]\n",
    "    \n",
    "    def __getitem__(self, idx):\n",
    "        image = get_image(self.filepaths[idx], self.size)\n",
    "        if self.labels is None:\n",
    "            return self.transform(image)\n",
    "        return self.transform(image), torch.LongTensor(self.labels[idx])"
   ]
  },
  {
   "cell_type": "markdown",
   "id": "7f96559d",
   "metadata": {
    "papermill": {
     "duration": 0.008107,
     "end_time": "2023-01-08T10:44:53.660118",
     "exception": false,
     "start_time": "2023-01-08T10:44:53.652011",
     "status": "completed"
    },
    "tags": []
   },
   "source": [
    "### **Model**"
   ]
  },
  {
   "cell_type": "code",
   "execution_count": 6,
   "id": "50bbd0fc",
   "metadata": {
    "execution": {
     "iopub.execute_input": "2023-01-08T10:44:53.669069Z",
     "iopub.status.busy": "2023-01-08T10:44:53.668734Z",
     "iopub.status.idle": "2023-01-08T10:44:53.674509Z",
     "shell.execute_reply": "2023-01-08T10:44:53.673574Z"
    },
    "papermill": {
     "duration": 0.012473,
     "end_time": "2023-01-08T10:44:53.676566",
     "exception": false,
     "start_time": "2023-01-08T10:44:53.664093",
     "status": "completed"
    },
    "tags": []
   },
   "outputs": [],
   "source": [
    "class Model(nn.Module):\n",
    "    def __init__(self):\n",
    "        super(Model, self).__init__()\n",
    "            \n",
    "        self.model = timm.create_model(model_name=\"efficientnet_b4\", pretrained=True)\n",
    "        self.model.classifier = nn.Linear(in_features=self.model.classifier.in_features, out_features=70)\n",
    "\n",
    "    def forward(self, x):\n",
    "        return nn.LogSoftmax(dim=1)(self.model(x))"
   ]
  },
  {
   "cell_type": "markdown",
   "id": "4e565aa1",
   "metadata": {
    "papermill": {
     "duration": 0.003866,
     "end_time": "2023-01-08T10:44:53.684237",
     "exception": false,
     "start_time": "2023-01-08T10:44:53.680371",
     "status": "completed"
    },
    "tags": []
   },
   "source": [
    "### **Fit and Predict**"
   ]
  },
  {
   "cell_type": "code",
   "execution_count": 7,
   "id": "fda2f46a",
   "metadata": {
    "execution": {
     "iopub.execute_input": "2023-01-08T10:44:53.693342Z",
     "iopub.status.busy": "2023-01-08T10:44:53.692992Z",
     "iopub.status.idle": "2023-01-08T10:44:53.713855Z",
     "shell.execute_reply": "2023-01-08T10:44:53.712978Z"
    },
    "papermill": {
     "duration": 0.02805,
     "end_time": "2023-01-08T10:44:53.716046",
     "exception": false,
     "start_time": "2023-01-08T10:44:53.687996",
     "status": "completed"
    },
    "tags": []
   },
   "outputs": [],
   "source": [
    "def fit(\n",
    "    model=None,\n",
    "    optimizer=None, \n",
    "    scheduler_rlrop=None,\n",
    "    scheduler_oclr=None,\n",
    "    epochs=None, \n",
    "    early_stopping_patience=None, \n",
    "    dataloaders=None, \n",
    "    fold=None, \n",
    "    save_path=None,\n",
    "    device=None,\n",
    "    verbose=False\n",
    ") -> tuple:\n",
    "    \n",
    "    def get_accuracy(y_pred, y_true):\n",
    "        y_pred = torch.argmax(y_pred, dim=1)\n",
    "        return torch.count_nonzero(y_pred == y_true).item() / len(y_pred)\n",
    "    \n",
    "    \n",
    "    if verbose:\n",
    "        breaker()\n",
    "        if fold: print(f\"Training Fold {fold}...\")\n",
    "        else: print(\"Training ...\")\n",
    "        breaker()\n",
    "        \n",
    "    bestLoss: dict = {\"train\" : np.inf, \"valid\" : np.inf} \n",
    "    bestAccs: dict = {\"train\" : 0.0, \"valid\" : 0.0}\n",
    "    \n",
    "    Losses: list = []\n",
    "    Accuracies: list = [] \n",
    "    LRs: list = []\n",
    "        \n",
    "    if fold: \n",
    "        ble_name = f\"ble_state_fold_{fold}.pt\"\n",
    "        bae_name = f\"bae_state_fold_{fold}.pt\"\n",
    "    else: \n",
    "        ble_name = f\"ble_state.pt\"\n",
    "        bae_name = f\"bae_state.pt\"\n",
    "        \n",
    "    start_time = time()\n",
    "    for e in range(epochs):\n",
    "        e_st = time()\n",
    "        epochLoss: dict = {\"train\" : 0.0, \"valid\" : 0.0} \n",
    "        epochAccs: dict = {\"train\" : 0.0, \"valid\" : 0.0}\n",
    "\n",
    "        for phase in [\"train\", \"valid\"]:\n",
    "            if phase == \"train\":\n",
    "                model.train()\n",
    "            else:\n",
    "                model.eval()\n",
    "            \n",
    "            lossPerPass: list = []\n",
    "            accsPerPass: list = []\n",
    "                \n",
    "            for X, y in dataloaders[phase]:\n",
    "                X, y = X.to(device), y.to(device).view(-1)\n",
    "\n",
    "                optimizer.zero_grad()\n",
    "                with torch.set_grad_enabled(phase == \"train\"):\n",
    "                    output = model(X)\n",
    "                    loss = nn.NLLLoss()(output, y)\n",
    "                    if phase == \"train\":\n",
    "                        loss.backward()\n",
    "                        optimizer.step()\n",
    "                        if scheduler_oclr: scheduler_oclr.step()\n",
    "                lossPerPass.append(loss.item())\n",
    "                accsPerPass.append(get_accuracy(output, y))\n",
    "            epochLoss[phase] = np.mean(np.array(lossPerPass))\n",
    "            epochAccs[phase] = np.mean(np.array(accsPerPass))\n",
    "        if scheduler_oclr: LRs.append(scheduler_oclr.get_last_lr())\n",
    "        Losses.append(epochLoss)\n",
    "        Accuracies.append(epochAccs)\n",
    "        \n",
    "        if scheduler_oclr:\n",
    "            save_dict = {\"model_state_dict\"     : model.state_dict(),\n",
    "                         \"optim_state_dict\"     : optimizer.state_dict(),\n",
    "                         \"scheduler_state_dict\" : scheduler_oclr.state_dict()}\n",
    "        \n",
    "        elif scheduler_rlrop:\n",
    "            save_dict = {\"model_state_dict\"     : model.state_dict(),\n",
    "                         \"optim_state_dict\"     : optimizer.state_dict(),\n",
    "                         \"scheduler_state_dict\" : scheduler_rlrop.state_dict()}\n",
    "        \n",
    "        else:\n",
    "            save_dict = {\"model_state_dict\"     : model.state_dict(),\n",
    "                         \"optim_state_dict\"     : optimizer.state_dict()}\n",
    "        \n",
    "        if early_stopping_patience:\n",
    "            if epochLoss[\"valid\"] < bestLoss[\"valid\"]:\n",
    "                bestLoss = epochLoss\n",
    "                BLE = e + 1\n",
    "                torch.save(save_dict, os.path.join(save_path, ble_name))\n",
    "                torch.save(save_dict, os.path.join(save_path, bae_name))\n",
    "                early_stopping_step = 0\n",
    "            else:\n",
    "                early_stopping_step += 1\n",
    "                if early_stopping_step > early_stopping_patience:\n",
    "                    print(\"\\nEarly Stopping at Epoch {}\".format(e + 1))\n",
    "                    break\n",
    "        \n",
    "        if epochLoss[\"valid\"] < bestLoss[\"valid\"]:\n",
    "            bestLoss = epochLoss\n",
    "            BLE = e + 1\n",
    "            torch.save(save_dict,os.path.join(save_path, ble_name))\n",
    "        \n",
    "        if epochAccs[\"valid\"] > bestAccs[\"valid\"]:\n",
    "            bestAccs = epochAccs\n",
    "            BAE = e + 1\n",
    "            torch.save(save_dict,os.path.join(save_path, bae_name))\n",
    "        \n",
    "        if scheduler_rlrop: scheduler_rlrop.step(epochLoss[\"valid\"])\n",
    "        \n",
    "        if verbose:\n",
    "            print(\"Epoch: {} | Train Loss: {:.5f} | Valid Loss: {:.5f} |\\\n",
    " Train Accs: {:.5f} | Valid Accs: {:.5f} | Time: {:.2f} seconds\".format(e+1, \n",
    "                                                                        epochLoss[\"train\"], epochLoss[\"valid\"], \n",
    "                                                                        epochAccs[\"train\"], epochAccs[\"valid\"], \n",
    "                                                                        time()-e_st))\n",
    "\n",
    "    if verbose:                                           \n",
    "        breaker()\n",
    "        print(f\"Best Validation Loss at Epoch {BLE}\")\n",
    "        breaker()\n",
    "        print(f\"Best Validation Accs at Epoch {BAE}\")\n",
    "        breaker()\n",
    "        print(\"Time Taken [{} Epochs] : {:.2f} minutes\".format(len(Losses), (time()-start_time)/60))\n",
    "    \n",
    "    return Losses, Accuracies, LRs, bestLoss, bestAccs, BLE, BAE, ble_name, bae_name\n",
    "\n",
    "\n",
    "# def predict_batch(model=None, dataloader=None, path=None, device=None) -> np.ndarray:\n",
    "#     model.load_state_dict(torch.load(path, map_location=device)[\"model_state_dict\"])\n",
    "#     model.to(device)    \n",
    "#     model.eval()\n",
    "    \n",
    "#     y_pred = torch.zeros(1, 1).to(device)\n",
    "    \n",
    "#     for X in dataloader:\n",
    "#         X = X.to(device)\n",
    "#         with torch.no_grad():\n",
    "#             output = torch.argmax(torch.exp(model(X)), dim=1)\n",
    "#         y_pred = torch.cat((y_pred, output.view(-1, 1)), dim=0)\n",
    "    \n",
    "#     return y_pred[1:].detach().cpu().numpy()"
   ]
  },
  {
   "cell_type": "markdown",
   "id": "a923f289",
   "metadata": {
    "papermill": {
     "duration": 0.004554,
     "end_time": "2023-01-08T10:44:53.724606",
     "exception": false,
     "start_time": "2023-01-08T10:44:53.720052",
     "status": "completed"
    },
    "tags": []
   },
   "source": [
    "### **Train**"
   ]
  },
  {
   "cell_type": "code",
   "execution_count": 8,
   "id": "dcd36661",
   "metadata": {
    "execution": {
     "iopub.execute_input": "2023-01-08T10:44:53.733295Z",
     "iopub.status.busy": "2023-01-08T10:44:53.733006Z",
     "iopub.status.idle": "2023-01-08T10:44:53.762659Z",
     "shell.execute_reply": "2023-01-08T10:44:53.761803Z"
    },
    "papermill": {
     "duration": 0.036464,
     "end_time": "2023-01-08T10:44:53.764813",
     "exception": false,
     "start_time": "2023-01-08T10:44:53.728349",
     "status": "completed"
    },
    "tags": []
   },
   "outputs": [],
   "source": [
    "df = pd.read_csv(\"/kaggle/input/drc-dataframe/train.csv\")\n",
    "\n",
    "filepaths = df.filepaths.copy().values\n",
    "labels = df.labels.copy().values"
   ]
  },
  {
   "cell_type": "code",
   "execution_count": 9,
   "id": "b15eb8e1",
   "metadata": {
    "execution": {
     "iopub.execute_input": "2023-01-08T10:44:53.774183Z",
     "iopub.status.busy": "2023-01-08T10:44:53.773839Z",
     "iopub.status.idle": "2023-01-08T12:01:36.443152Z",
     "shell.execute_reply": "2023-01-08T12:01:36.442256Z"
    },
    "papermill": {
     "duration": 4602.676517,
     "end_time": "2023-01-08T12:01:36.445405",
     "exception": false,
     "start_time": "2023-01-08T10:44:53.768888",
     "status": "completed"
    },
    "tags": []
   },
   "outputs": [
    {
     "name": "stderr",
     "output_type": "stream",
     "text": [
      "Downloading: \"https://github.com/rwightman/pytorch-image-models/releases/download/v0.1-weights/efficientnet_b4_ra2_320-7eb33cd5.pth\" to /root/.cache/torch/hub/checkpoints/efficientnet_b4_ra2_320-7eb33cd5.pth\n"
     ]
    },
    {
     "name": "stdout",
     "output_type": "stream",
     "text": [
      "\n",
      "**************************************************\n",
      "\n",
      "Training Fold 1...\n",
      "\n",
      "**************************************************\n",
      "\n",
      "Epoch: 1 | Train Loss: 2.90737 | Valid Loss: 0.91199 | Train Accs: 0.38798 | Valid Accs: 0.69866 | Time: 108.51 seconds\n",
      "Epoch: 2 | Train Loss: 0.79441 | Valid Loss: 0.67047 | Train Accs: 0.72972 | Valid Accs: 0.74554 | Time: 92.37 seconds\n",
      "Epoch: 3 | Train Loss: 0.65024 | Valid Loss: 0.56904 | Train Accs: 0.76281 | Valid Accs: 0.76786 | Time: 93.04 seconds\n",
      "Epoch: 4 | Train Loss: 0.59220 | Valid Loss: 0.60726 | Train Accs: 0.77990 | Valid Accs: 0.78125 | Time: 91.35 seconds\n",
      "Epoch: 5 | Train Loss: 0.50595 | Valid Loss: 0.47179 | Train Accs: 0.80983 | Valid Accs: 0.80804 | Time: 92.99 seconds\n",
      "Epoch: 6 | Train Loss: 0.44522 | Valid Loss: 0.54418 | Train Accs: 0.83737 | Valid Accs: 0.78795 | Time: 90.08 seconds\n",
      "Epoch: 7 | Train Loss: 0.37237 | Valid Loss: 0.46552 | Train Accs: 0.87019 | Valid Accs: 0.83036 | Time: 91.95 seconds\n",
      "Epoch: 8 | Train Loss: 0.31533 | Valid Loss: 0.55828 | Train Accs: 0.88453 | Valid Accs: 0.81250 | Time: 92.59 seconds\n",
      "Epoch: 9 | Train Loss: 0.30004 | Valid Loss: 0.54329 | Train Accs: 0.89506 | Valid Accs: 0.80804 | Time: 90.52 seconds\n",
      "Epoch: 10 | Train Loss: 0.27125 | Valid Loss: 0.46026 | Train Accs: 0.89860 | Valid Accs: 0.83929 | Time: 91.40 seconds\n",
      "\n",
      "**************************************************\n",
      "\n",
      "Best Validation Loss at Epoch 10\n",
      "\n",
      "**************************************************\n",
      "\n",
      "Best Validation Accs at Epoch 10\n",
      "\n",
      "**************************************************\n",
      "\n",
      "Time Taken [10 Epochs] : 15.58 minutes\n",
      "\n",
      "**************************************************\n",
      "\n"
     ]
    },
    {
     "data": {
      "image/png": "[encoded data removed]",
      "text/plain": [
       "<Figure size 432x288 with 1 Axes>"
      ]
     },
     "metadata": {
      "needs_background": "light"
     },
     "output_type": "display_data"
    },
    {
     "name": "stdout",
     "output_type": "stream",
     "text": [
      "\n",
      "**************************************************\n",
      "\n"
     ]
    },
    {
     "data": {
      "image/png": "[encoded data removed]",
      "text/plain": [
       "<Figure size 432x288 with 1 Axes>"
      ]
     },
     "metadata": {
      "needs_background": "light"
     },
     "output_type": "display_data"
    },
    {
     "name": "stdout",
     "output_type": "stream",
     "text": [
      "\n",
      "**************************************************\n",
      "\n"
     ]
    },
    {
     "data": {
      "image/png": "[encoded data removed]",
      "text/plain": [
       "<Figure size 576x432 with 1 Axes>"
      ]
     },
     "metadata": {
      "needs_background": "light"
     },
     "output_type": "display_data"
    },
    {
     "name": "stdout",
     "output_type": "stream",
     "text": [
      "\n",
      "**************************************************\n",
      "\n",
      "\n",
      "**************************************************\n",
      "\n",
      "Training Fold 2...\n",
      "\n",
      "**************************************************\n",
      "\n",
      "Epoch: 1 | Train Loss: 2.88495 | Valid Loss: 0.92747 | Train Accs: 0.39235 | Valid Accs: 0.70536 | Time: 92.24 seconds\n",
      "Epoch: 2 | Train Loss: 0.75894 | Valid Loss: 0.64489 | Train Accs: 0.72133 | Valid Accs: 0.77902 | Time: 92.50 seconds\n",
      "Epoch: 3 | Train Loss: 0.61586 | Valid Loss: 0.61946 | Train Accs: 0.76906 | Valid Accs: 0.79018 | Time: 92.20 seconds\n",
      "Epoch: 4 | Train Loss: 0.55644 | Valid Loss: 0.52638 | Train Accs: 0.78737 | Valid Accs: 0.79241 | Time: 92.70 seconds\n",
      "Epoch: 5 | Train Loss: 0.48229 | Valid Loss: 0.52639 | Train Accs: 0.81053 | Valid Accs: 0.81473 | Time: 92.15 seconds\n",
      "Epoch: 6 | Train Loss: 0.43178 | Valid Loss: 0.58406 | Train Accs: 0.84873 | Valid Accs: 0.80357 | Time: 90.81 seconds\n",
      "Epoch: 7 | Train Loss: 0.41358 | Valid Loss: 0.51387 | Train Accs: 0.84148 | Valid Accs: 0.82812 | Time: 93.44 seconds\n",
      "Epoch: 8 | Train Loss: 0.32043 | Valid Loss: 0.52953 | Train Accs: 0.88680 | Valid Accs: 0.81696 | Time: 90.79 seconds\n",
      "Epoch: 9 | Train Loss: 0.28501 | Valid Loss: 0.52356 | Train Accs: 0.89462 | Valid Accs: 0.81027 | Time: 90.89 seconds\n",
      "Epoch: 10 | Train Loss: 0.28337 | Valid Loss: 0.52543 | Train Accs: 0.89519 | Valid Accs: 0.81696 | Time: 89.86 seconds\n",
      "\n",
      "**************************************************\n",
      "\n",
      "Best Validation Loss at Epoch 7\n",
      "\n",
      "**************************************************\n",
      "\n",
      "Best Validation Accs at Epoch 7\n",
      "\n",
      "**************************************************\n",
      "\n",
      "Time Taken [10 Epochs] : 15.29 minutes\n",
      "\n",
      "**************************************************\n",
      "\n"
     ]
    },
    {
     "data": {
      "image/png": "[encoded data removed]",
      "text/plain": [
       "<Figure size 432x288 with 1 Axes>"
      ]
     },
     "metadata": {
      "needs_background": "light"
     },
     "output_type": "display_data"
    },
    {
     "name": "stdout",
     "output_type": "stream",
     "text": [
      "\n",
      "**************************************************\n",
      "\n"
     ]
    },
    {
     "data": {
      "image/png": "[encoded data removed]",
      "text/plain": [
       "<Figure size 432x288 with 1 Axes>"
      ]
     },
     "metadata": {
      "needs_background": "light"
     },
     "output_type": "display_data"
    },
    {
     "name": "stdout",
     "output_type": "stream",
     "text": [
      "\n",
      "**************************************************\n",
      "\n"
     ]
    },
    {
     "data": {
      "image/png": "[encoded data removed]",
      "text/plain": [
       "<Figure size 576x432 with 1 Axes>"
      ]
     },
     "metadata": {
      "needs_background": "light"
     },
     "output_type": "display_data"
    },
    {
     "name": "stdout",
     "output_type": "stream",
     "text": [
      "\n",
      "**************************************************\n",
      "\n",
      "\n",
      "**************************************************\n",
      "\n",
      "Training Fold 3...\n",
      "\n",
      "**************************************************\n",
      "\n",
      "Epoch: 1 | Train Loss: 2.90532 | Valid Loss: 0.88249 | Train Accs: 0.38766 | Valid Accs: 0.70568 | Time: 91.29 seconds\n",
      "Epoch: 2 | Train Loss: 0.77441 | Valid Loss: 0.64231 | Train Accs: 0.72086 | Valid Accs: 0.74522 | Time: 91.96 seconds\n",
      "Epoch: 3 | Train Loss: 0.64377 | Valid Loss: 0.58847 | Train Accs: 0.76575 | Valid Accs: 0.77487 | Time: 93.62 seconds\n",
      "Epoch: 4 | Train Loss: 0.56603 | Valid Loss: 0.47096 | Train Accs: 0.79131 | Valid Accs: 0.83355 | Time: 92.62 seconds\n",
      "Epoch: 5 | Train Loss: 0.48917 | Valid Loss: 0.45455 | Train Accs: 0.81981 | Valid Accs: 0.83418 | Time: 92.27 seconds\n",
      "Epoch: 6 | Train Loss: 0.44541 | Valid Loss: 0.43984 | Train Accs: 0.83433 | Valid Accs: 0.83195 | Time: 90.84 seconds\n",
      "Epoch: 7 | Train Loss: 0.37854 | Valid Loss: 0.45605 | Train Accs: 0.85503 | Valid Accs: 0.83514 | Time: 91.15 seconds\n",
      "Epoch: 8 | Train Loss: 0.33153 | Valid Loss: 0.42087 | Train Accs: 0.87695 | Valid Accs: 0.83514 | Time: 90.87 seconds\n",
      "Epoch: 9 | Train Loss: 0.28967 | Valid Loss: 0.40430 | Train Accs: 0.89651 | Valid Accs: 0.85810 | Time: 92.48 seconds\n",
      "Epoch: 10 | Train Loss: 0.27727 | Valid Loss: 0.41341 | Train Accs: 0.89594 | Valid Accs: 0.84407 | Time: 89.46 seconds\n",
      "\n",
      "**************************************************\n",
      "\n",
      "Best Validation Loss at Epoch 9\n",
      "\n",
      "**************************************************\n",
      "\n",
      "Best Validation Accs at Epoch 9\n",
      "\n",
      "**************************************************\n",
      "\n",
      "Time Taken [10 Epochs] : 15.28 minutes\n",
      "\n",
      "**************************************************\n",
      "\n"
     ]
    },
    {
     "data": {
      "image/png": "[encoded data removed]",
      "text/plain": [
       "<Figure size 432x288 with 1 Axes>"
      ]
     },
     "metadata": {
      "needs_background": "light"
     },
     "output_type": "display_data"
    },
    {
     "name": "stdout",
     "output_type": "stream",
     "text": [
      "\n",
      "**************************************************\n",
      "\n"
     ]
    },
    {
     "data": {
      "image/png": "[encoded data removed]",
      "text/plain": [
       "<Figure size 432x288 with 1 Axes>"
      ]
     },
     "metadata": {
      "needs_background": "light"
     },
     "output_type": "display_data"
    },
    {
     "name": "stdout",
     "output_type": "stream",
     "text": [
      "\n",
      "**************************************************\n",
      "\n"
     ]
    },
    {
     "data": {
      "image/png": "[encoded data removed]",
      "text/plain": [
       "<Figure size 576x432 with 1 Axes>"
      ]
     },
     "metadata": {
      "needs_background": "light"
     },
     "output_type": "display_data"
    },
    {
     "name": "stdout",
     "output_type": "stream",
     "text": [
      "\n",
      "**************************************************\n",
      "\n",
      "\n",
      "**************************************************\n",
      "\n",
      "Training Fold 4...\n",
      "\n",
      "**************************************************\n",
      "\n",
      "Epoch: 1 | Train Loss: 2.90369 | Valid Loss: 0.86572 | Train Accs: 0.37638 | Valid Accs: 0.69962 | Time: 91.36 seconds\n",
      "Epoch: 2 | Train Loss: 0.79184 | Valid Loss: 0.70485 | Train Accs: 0.72297 | Valid Accs: 0.74203 | Time: 92.83 seconds\n",
      "Epoch: 3 | Train Loss: 0.64500 | Valid Loss: 0.60264 | Train Accs: 0.77281 | Valid Accs: 0.77392 | Time: 94.29 seconds\n",
      "Epoch: 4 | Train Loss: 0.56843 | Valid Loss: 0.53865 | Train Accs: 0.77784 | Valid Accs: 0.81346 | Time: 91.87 seconds\n",
      "Epoch: 5 | Train Loss: 0.51248 | Valid Loss: 0.59490 | Train Accs: 0.81226 | Valid Accs: 0.79783 | Time: 90.74 seconds\n",
      "Epoch: 6 | Train Loss: 0.44053 | Valid Loss: 0.54514 | Train Accs: 0.83904 | Valid Accs: 0.80676 | Time: 89.82 seconds\n",
      "Epoch: 7 | Train Loss: 0.36906 | Valid Loss: 0.48056 | Train Accs: 0.85471 | Valid Accs: 0.84311 | Time: 91.94 seconds\n",
      "Epoch: 8 | Train Loss: 0.33108 | Valid Loss: 0.49742 | Train Accs: 0.88685 | Valid Accs: 0.83642 | Time: 89.32 seconds\n",
      "Epoch: 9 | Train Loss: 0.29353 | Valid Loss: 0.46705 | Train Accs: 0.89245 | Valid Accs: 0.85651 | Time: 91.89 seconds\n",
      "Epoch: 10 | Train Loss: 0.27061 | Valid Loss: 0.45545 | Train Accs: 0.89886 | Valid Accs: 0.85204 | Time: 91.13 seconds\n",
      "\n",
      "**************************************************\n",
      "\n",
      "Best Validation Loss at Epoch 10\n",
      "\n",
      "**************************************************\n",
      "\n",
      "Best Validation Accs at Epoch 9\n",
      "\n",
      "**************************************************\n",
      "\n",
      "Time Taken [10 Epochs] : 15.25 minutes\n",
      "\n",
      "**************************************************\n",
      "\n"
     ]
    },
    {
     "data": {
      "image/png": "[encoded data removed]",
      "text/plain": [
       "<Figure size 432x288 with 1 Axes>"
      ]
     },
     "metadata": {
      "needs_background": "light"
     },
     "output_type": "display_data"
    },
    {
     "name": "stdout",
     "output_type": "stream",
     "text": [
      "\n",
      "**************************************************\n",
      "\n"
     ]
    },
    {
     "data": {
      "image/png": "[encoded data removed]",
      "text/plain": [
       "<Figure size 432x288 with 1 Axes>"
      ]
     },
     "metadata": {
      "needs_background": "light"
     },
     "output_type": "display_data"
    },
    {
     "name": "stdout",
     "output_type": "stream",
     "text": [
      "\n",
      "**************************************************\n",
      "\n"
     ]
    },
    {
     "data": {
      "image/png": "[encoded data removed]",
      "text/plain": [
       "<Figure size 576x432 with 1 Axes>"
      ]
     },
     "metadata": {
      "needs_background": "light"
     },
     "output_type": "display_data"
    },
    {
     "name": "stdout",
     "output_type": "stream",
     "text": [
      "\n",
      "**************************************************\n",
      "\n",
      "\n",
      "**************************************************\n",
      "\n",
      "Training Fold 5...\n",
      "\n",
      "**************************************************\n",
      "\n",
      "Epoch: 1 | Train Loss: 2.91579 | Valid Loss: 0.87224 | Train Accs: 0.38360 | Valid Accs: 0.69675 | Time: 90.87 seconds\n",
      "Epoch: 2 | Train Loss: 0.76952 | Valid Loss: 0.64903 | Train Accs: 0.72005 | Valid Accs: 0.75765 | Time: 92.27 seconds\n",
      "Epoch: 3 | Train Loss: 0.63241 | Valid Loss: 0.55646 | Train Accs: 0.76282 | Valid Accs: 0.79401 | Time: 92.12 seconds\n",
      "Epoch: 4 | Train Loss: 0.55694 | Valid Loss: 0.58165 | Train Accs: 0.79180 | Valid Accs: 0.79114 | Time: 89.31 seconds\n",
      "Epoch: 5 | Train Loss: 0.47940 | Valid Loss: 0.49983 | Train Accs: 0.81567 | Valid Accs: 0.82589 | Time: 92.09 seconds\n",
      "Epoch: 6 | Train Loss: 0.42610 | Valid Loss: 0.48382 | Train Accs: 0.84302 | Valid Accs: 0.81473 | Time: 90.69 seconds\n",
      "Epoch: 7 | Train Loss: 0.35917 | Valid Loss: 0.51339 | Train Accs: 0.86981 | Valid Accs: 0.81920 | Time: 90.23 seconds\n",
      "Epoch: 8 | Train Loss: 0.31505 | Valid Loss: 0.52904 | Train Accs: 0.88515 | Valid Accs: 0.80517 | Time: 89.67 seconds\n",
      "Epoch: 9 | Train Loss: 0.27484 | Valid Loss: 0.50276 | Train Accs: 0.90097 | Valid Accs: 0.82589 | Time: 89.58 seconds\n",
      "Epoch: 10 | Train Loss: 0.25214 | Valid Loss: 0.50943 | Train Accs: 0.90568 | Valid Accs: 0.82812 | Time: 89.87 seconds\n",
      "\n",
      "**************************************************\n",
      "\n",
      "Best Validation Loss at Epoch 6\n",
      "\n",
      "**************************************************\n",
      "\n",
      "Best Validation Accs at Epoch 10\n",
      "\n",
      "**************************************************\n",
      "\n",
      "Time Taken [10 Epochs] : 15.11 minutes\n",
      "\n",
      "**************************************************\n",
      "\n"
     ]
    },
    {
     "data": {
      "image/png": "[encoded data removed]",
      "text/plain": [
       "<Figure size 432x288 with 1 Axes>"
      ]
     },
     "metadata": {
      "needs_background": "light"
     },
     "output_type": "display_data"
    },
    {
     "name": "stdout",
     "output_type": "stream",
     "text": [
      "\n",
      "**************************************************\n",
      "\n"
     ]
    },
    {
     "data": {
      "image/png": "[encoded data removed]",
      "text/plain": [
       "<Figure size 432x288 with 1 Axes>"
      ]
     },
     "metadata": {
      "needs_background": "light"
     },
     "output_type": "display_data"
    },
    {
     "name": "stdout",
     "output_type": "stream",
     "text": [
      "\n",
      "**************************************************\n",
      "\n"
     ]
    },
    {
     "data": {
      "image/png": "[encoded data removed]",
      "text/plain": [
       "<Figure size 576x432 with 1 Axes>"
      ]
     },
     "metadata": {
      "needs_background": "light"
     },
     "output_type": "display_data"
    },
    {
     "name": "stdout",
     "output_type": "stream",
     "text": [
      "\n",
      "**************************************************\n",
      "\n"
     ]
    }
   ],
   "source": [
    "fold: int = 1\n",
    "BLs: list = []\n",
    "BAs: list = []\n",
    "    \n",
    "cfg.batch_size = 16\n",
    "cfg.epochs = 10\n",
    "    \n",
    "for tr_idx, va_idx in StratifiedKFold(n_splits=cfg.n_splits, random_state=cfg.seed, shuffle=True).split(filepaths, labels):\n",
    "#     if fold == 1: break\n",
    "#     fold += 1\n",
    "\n",
    "    tr_filepaths, va_filepaths = filepaths[tr_idx], filepaths[va_idx] \n",
    "    tr_labels, va_labels       = labels[tr_idx], labels[va_idx]\n",
    "\n",
    "    tr_data_setup = DS(\n",
    "        filepaths=tr_filepaths, \n",
    "        labels=tr_labels.reshape(-1, 1),\n",
    "        size=cfg.size,\n",
    "        transform=cfg.train_transform\n",
    "    )\n",
    "\n",
    "    va_data_setup = DS(\n",
    "        filepaths=va_filepaths, \n",
    "        labels=va_labels.reshape(-1, 1),\n",
    "        size=cfg.size,\n",
    "        transform=cfg.train_transform\n",
    "    )\n",
    "\n",
    "    dataloaders = {\n",
    "        \"train\" : DL(tr_data_setup, batch_size=cfg.batch_size, shuffle=True, generator=torch.manual_seed(cfg.seed)),\n",
    "        \"valid\" : DL(va_data_setup, batch_size=cfg.batch_size, shuffle=False),\n",
    "    }\n",
    "\n",
    "    cfg.steps_per_epoch=len(dataloaders[\"train\"])\n",
    "\n",
    "    torch.manual_seed(cfg.seed)\n",
    "    model = Model().to(cfg.device)\n",
    "\n",
    "    optimizer = optim.Adam([p for p in model.parameters() if p.requires_grad], lr=cfg.lr, weight_decay=cfg.wd)\n",
    "    # optimizer = optim.AdamW([p for p in model.parameters() if p.requires_grad], lr=cfg.lr, weight_decay=cfg.wd)\n",
    "    # optimizer = optim.SGD([p for p in model.parameters() if p.requires_grad], lr=cfg.lr, weight_decay=cfg.wd, momentum=0.9)\n",
    "\n",
    "    scheduler_oclr = optim.lr_scheduler.OneCycleLR(\n",
    "        optimizer=optimizer, \n",
    "        max_lr=cfg.max_lr, \n",
    "        epochs=cfg.epochs, \n",
    "        steps_per_epoch=cfg.steps_per_epoch,\n",
    "        pct_start=cfg.pct_start, \n",
    "        div_factor=cfg.div_factor, \n",
    "        final_div_factor=cfg.final_div_factor\n",
    "    )\n",
    "\n",
    "    # scheduler_rlrop = optim.lr_scheduler.ReduceLROnPlateau(\n",
    "    #     optimizer=optimizer,\n",
    "    #     patience=cfg.patience,\n",
    "    #     eps=cfg.eps,\n",
    "    #     verbose=True\n",
    "    # )\n",
    "\n",
    "    # scheduler_oclr = None\n",
    "    scheduler_rlrop = None\n",
    "\n",
    "\n",
    "    L, A, LR, BL, BA, _, _, _, _ = fit(\n",
    "        model=model, \n",
    "        optimizer=optimizer, \n",
    "        scheduler_oclr=scheduler_oclr,\n",
    "        scheduler_rlrop=scheduler_rlrop,\n",
    "        epochs=cfg.epochs, \n",
    "        early_stopping_patience=cfg.early_stopping, \n",
    "        dataloaders=dataloaders, \n",
    "        device=cfg.device,\n",
    "        save_path=cfg.save_path,\n",
    "        fold=fold,\n",
    "        verbose=True\n",
    "    )\n",
    "\n",
    "\n",
    "    breaker()\n",
    "    show_loss_graphs(L)\n",
    "    breaker()\n",
    "    show_accuracy_graphs(A)\n",
    "    breaker()\n",
    "    if scheduler_oclr:\n",
    "        show_lr_graph(LR)\n",
    "        breaker()\n",
    "\n",
    "    BLs.append(BL)\n",
    "    BAs.append(BA)\n",
    "\n",
    "    fold += 1"
   ]
  },
  {
   "cell_type": "markdown",
   "id": "d54bd140",
   "metadata": {
    "papermill": {
     "duration": 0.010705,
     "end_time": "2023-01-08T12:01:36.467120",
     "exception": false,
     "start_time": "2023-01-08T12:01:36.456415",
     "status": "completed"
    },
    "tags": []
   },
   "source": [
    "### **Best Model**"
   ]
  },
  {
   "cell_type": "code",
   "execution_count": 10,
   "id": "219b2220",
   "metadata": {
    "execution": {
     "iopub.execute_input": "2023-01-08T12:01:36.490338Z",
     "iopub.status.busy": "2023-01-08T12:01:36.489409Z",
     "iopub.status.idle": "2023-01-08T12:01:36.497230Z",
     "shell.execute_reply": "2023-01-08T12:01:36.495973Z"
    },
    "papermill": {
     "duration": 0.021637,
     "end_time": "2023-01-08T12:01:36.499154",
     "exception": false,
     "start_time": "2023-01-08T12:01:36.477517",
     "status": "completed"
    },
    "tags": []
   },
   "outputs": [
    {
     "name": "stdout",
     "output_type": "stream",
     "text": [
      "\n",
      "**************************************************\n",
      "\n",
      "Best Loss Model Fold     : 3\n",
      "Best Accuracy Model Fold : 3\n",
      "\n",
      "**************************************************\n",
      "\n"
     ]
    }
   ],
   "source": [
    "BL = np.inf\n",
    "for i in range(len(BLs)):\n",
    "    if BLs[i][\"valid\"] < BL:\n",
    "        BL = BLs[i][\"valid\"]\n",
    "        best_loss_index = i\n",
    "\n",
    "        \n",
    "BA = 0.0\n",
    "for i in range(len(BAs)):\n",
    "    if BAs[i][\"valid\"] > BA:\n",
    "        BA = BAs[i][\"valid\"]\n",
    "        best_accs_index = i\n",
    "\n",
    "breaker()\n",
    "print(f\"Best Loss Model Fold     : {best_loss_index + 1}\")\n",
    "print(f\"Best Accuracy Model Fold : {best_accs_index + 1}\")\n",
    "breaker()"
   ]
  }
 ],
 "metadata": {
  "kernelspec": {
   "display_name": "Python 3",
   "language": "python",
   "name": "python3"
  },
  "language_info": {
   "codemirror_mode": {
    "name": "ipython",
    "version": 3
   },
   "file_extension": ".py",
   "mimetype": "text/x-python",
   "name": "python",
   "nbconvert_exporter": "python",
   "pygments_lexer": "ipython3",
   "version": "3.7.12"
  },
  "papermill": {
   "default_parameters": {},
   "duration": 4627.288642,
   "end_time": "2023-01-08T12:01:38.139763",
   "environment_variables": {},
   "exception": null,
   "input_path": "__notebook__.ipynb",
   "output_path": "__notebook__.ipynb",
   "parameters": {},
   "start_time": "2023-01-08T10:44:30.851121",
   "version": "2.3.4"
  }
 },
 "nbformat": 4,
 "nbformat_minor": 5
}
