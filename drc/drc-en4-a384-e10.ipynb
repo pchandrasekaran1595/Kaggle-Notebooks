{
 "cells": [
  {
   "cell_type": "markdown",
   "id": "a7d699a6",
   "metadata": {
    "_cell_guid": "b1076dfc-b9ad-4769-8c92-a6c4dae69d19",
    "_uuid": "8f2839f25d086af736a60e9eeb907d3b93b6e0e5",
    "papermill": {
     "duration": 0.004483,
     "end_time": "2023-01-08T13:33:54.505027",
     "exception": false,
     "start_time": "2023-01-08T13:33:54.500544",
     "status": "completed"
    },
    "tags": []
   },
   "source": [
    "### **Setup**"
   ]
  },
  {
   "cell_type": "code",
   "execution_count": 1,
   "id": "474b8a92",
   "metadata": {
    "execution": {
     "iopub.execute_input": "2023-01-08T13:33:54.513893Z",
     "iopub.status.busy": "2023-01-08T13:33:54.513188Z",
     "iopub.status.idle": "2023-01-08T13:34:05.709187Z",
     "shell.execute_reply": "2023-01-08T13:34:05.707805Z"
    },
    "papermill": {
     "duration": 11.203368,
     "end_time": "2023-01-08T13:34:05.711997",
     "exception": false,
     "start_time": "2023-01-08T13:33:54.508629",
     "status": "completed"
    },
    "tags": []
   },
   "outputs": [
    {
     "name": "stderr",
     "output_type": "stream",
     "text": [
      "WARNING: Running pip as the 'root' user can result in broken permissions and conflicting behaviour with the system package manager. It is recommended to use a virtual environment instead: https://pip.pypa.io/warnings/venv\n"
     ]
    }
   ],
   "source": [
    "%%bash\n",
    "pip install timm -q"
   ]
  },
  {
   "cell_type": "markdown",
   "id": "90f2f916",
   "metadata": {
    "papermill": {
     "duration": 0.00345,
     "end_time": "2023-01-08T13:34:05.719481",
     "exception": false,
     "start_time": "2023-01-08T13:34:05.716031",
     "status": "completed"
    },
    "tags": []
   },
   "source": [
    "### **Library Imports**"
   ]
  },
  {
   "cell_type": "code",
   "execution_count": 2,
   "id": "797aa491",
   "metadata": {
    "execution": {
     "iopub.execute_input": "2023-01-08T13:34:05.729053Z",
     "iopub.status.busy": "2023-01-08T13:34:05.728742Z",
     "iopub.status.idle": "2023-01-08T13:34:09.511869Z",
     "shell.execute_reply": "2023-01-08T13:34:09.510828Z"
    },
    "papermill": {
     "duration": 3.791038,
     "end_time": "2023-01-08T13:34:09.514473",
     "exception": false,
     "start_time": "2023-01-08T13:34:05.723435",
     "status": "completed"
    },
    "tags": []
   },
   "outputs": [],
   "source": [
    "import os\n",
    "import re\n",
    "import cv2\n",
    "import timm\n",
    "import torch\n",
    "import numpy as np\n",
    "import pandas as pd\n",
    "import matplotlib.pyplot as plt\n",
    "\n",
    "from time import time\n",
    "from typing import Union\n",
    "from torch import nn, optim\n",
    "from torch.utils.data import Dataset\n",
    "from torch.utils.data import DataLoader as DL\n",
    "from torchvision import transforms\n",
    "\n",
    "from sklearn.model_selection import StratifiedKFold"
   ]
  },
  {
   "cell_type": "markdown",
   "id": "dfb0f02e",
   "metadata": {
    "papermill": {
     "duration": 0.003561,
     "end_time": "2023-01-08T13:34:09.522141",
     "exception": false,
     "start_time": "2023-01-08T13:34:09.518580",
     "status": "completed"
    },
    "tags": []
   },
   "source": [
    "### **Utilities and Helpers**"
   ]
  },
  {
   "cell_type": "code",
   "execution_count": 3,
   "id": "c7c58b43",
   "metadata": {
    "execution": {
     "iopub.execute_input": "2023-01-08T13:34:09.530954Z",
     "iopub.status.busy": "2023-01-08T13:34:09.530656Z",
     "iopub.status.idle": "2023-01-08T13:34:09.543503Z",
     "shell.execute_reply": "2023-01-08T13:34:09.542676Z"
    },
    "papermill": {
     "duration": 0.019732,
     "end_time": "2023-01-08T13:34:09.545556",
     "exception": false,
     "start_time": "2023-01-08T13:34:09.525824",
     "status": "completed"
    },
    "tags": []
   },
   "outputs": [],
   "source": [
    "SEED: int = 42\n",
    "SIZE: int = 384\n",
    "\n",
    "\n",
    "def breaker(num: int=50, char: str=\"*\") -> None: print(\"\\n\" + num*char + \"\\n\")\n",
    "\n",
    "    \n",
    "def get_image(path: str, size: int=224) -> np.ndarray:\n",
    "    image = cv2.imread(path, cv2.IMREAD_COLOR)\n",
    "    image = cv2.cvtColor(src=image, code=cv2.COLOR_BGR2RGB)\n",
    "    return cv2.resize(src=image, dsize=(size, size), interpolation=cv2.INTER_AREA)\n",
    "\n",
    "    \n",
    "def show_loss_graphs(L: list) -> None:\n",
    "    TL, VL = [], []\n",
    "    for i in range(len(L)):\n",
    "        TL.append(L[i][\"train\"])\n",
    "        VL.append(L[i][\"valid\"])\n",
    "    x_Axis = np.arange(1, len(TL) + 1)\n",
    "    plt.figure()\n",
    "    plt.plot(x_Axis, TL, \"r\", label=\"Train\")\n",
    "    plt.plot(x_Axis, VL, \"b\", label=\"Valid\")\n",
    "    plt.legend()\n",
    "    plt.grid()\n",
    "    plt.title(\"Loss Graph\")\n",
    "    plt.show()\n",
    "\n",
    "    \n",
    "def show_accuracy_graphs(A: list) -> None:\n",
    "    TA, VA = [], []\n",
    "    for i in range(len(A)):\n",
    "        TA.append(A[i][\"train\"])\n",
    "        VA.append(A[i][\"valid\"])\n",
    "    x_Axis = np.arange(1, len(TA) + 1)\n",
    "    plt.figure()\n",
    "    plt.plot(x_Axis, TA, \"r\", label=\"Train\")\n",
    "    plt.plot(x_Axis, VA, \"b\", label=\"Valid\")\n",
    "    plt.legend()\n",
    "    plt.grid()\n",
    "    plt.title(\"Accuracy Graph\")\n",
    "    plt.show()\n",
    "    \n",
    "\n",
    "def show_lr_graph(LR: list) -> None:\n",
    "    x_Axis = [i+1 for i in range(len(LR))]\n",
    "    plt.figure(figsize=(8, 6))\n",
    "    plt.plot(x_Axis, LR, \"rx\")\n",
    "    plt.grid()\n",
    "    plt.show()"
   ]
  },
  {
   "cell_type": "markdown",
   "id": "19f24f5c",
   "metadata": {
    "papermill": {
     "duration": 0.003615,
     "end_time": "2023-01-08T13:34:09.552897",
     "exception": false,
     "start_time": "2023-01-08T13:34:09.549282",
     "status": "completed"
    },
    "tags": []
   },
   "source": [
    "\n",
    "\n",
    "### **Configuration**"
   ]
  },
  {
   "cell_type": "code",
   "execution_count": 4,
   "id": "9f3f84e1",
   "metadata": {
    "execution": {
     "iopub.execute_input": "2023-01-08T13:34:09.561649Z",
     "iopub.status.busy": "2023-01-08T13:34:09.561334Z",
     "iopub.status.idle": "2023-01-08T13:34:09.632429Z",
     "shell.execute_reply": "2023-01-08T13:34:09.631565Z"
    },
    "papermill": {
     "duration": 0.077978,
     "end_time": "2023-01-08T13:34:09.634582",
     "exception": false,
     "start_time": "2023-01-08T13:34:09.556604",
     "status": "completed"
    },
    "tags": []
   },
   "outputs": [],
   "source": [
    "class CFG(object):\n",
    "    def __init__(self, \n",
    "                 seed: int = 42,\n",
    "                 size: int = 224,\n",
    "                 n_splits: int = 5,\n",
    "                 batch_size: int = 16,\n",
    "                 epochs: int = 25,\n",
    "                 early_stopping: int = 5,\n",
    "                 lr: float = 1e-4,\n",
    "                 wd: float = 0.0,\n",
    "                 max_lr: float = 1e-3,\n",
    "                 pct_start: float = 0.2,\n",
    "                 steps_per_epoch: int = 100,\n",
    "                 div_factor: int = 1e3, \n",
    "                 final_div_factor: float = 1e3,\n",
    "                 ):\n",
    "        self.seed = seed\n",
    "        self.size = size\n",
    "        self.n_splits = n_splits\n",
    "        self.batch_size = batch_size\n",
    "        self.epochs = epochs\n",
    "        self.early_stopping = early_stopping\n",
    "        self.lr = lr\n",
    "        self.wd = wd\n",
    "        self.max_lr = max_lr\n",
    "        self.pct_start = pct_start\n",
    "        self.steps_per_epoch = steps_per_epoch\n",
    "        self.div_factor = div_factor\n",
    "        self.final_div_factor = final_div_factor\n",
    "        self.device = torch.device(\"cuda\" if torch.cuda.is_available() else \"cpu\")\n",
    "        \n",
    "        if self.size == 224:\n",
    "            self.train_transform = transforms.Compose([\n",
    "                transforms.ToTensor(),\n",
    "                transforms.Normalize([0.41080, 0.21938, 0.07357], [0.23762, 0.13099, 0.04847]),\n",
    "                transforms.RandomAffine(degrees=(-45, 45), translate=(0.15, 0.15), scale=(0.5, 1.5)),\n",
    "                transforms.RandomHorizontalFlip(p=0.25),\n",
    "                transforms.RandomVerticalFlip(p=0.25),\n",
    "            ])\n",
    "            self.valid_transform = transforms.Compose([\n",
    "                transforms.ToTensor(),\n",
    "                transforms.Normalize([0.41080, 0.21938, 0.07357], [0.23762, 0.13099, 0.04847]),\n",
    "            ])\n",
    "        \n",
    "        if self.size == 384:\n",
    "            self.train_transform = transforms.Compose([\n",
    "                transforms.ToTensor(),\n",
    "                transforms.Normalize([0.41076, 0.21934, 0.07357], [0.23796, 0.13130, 0.04884]),\n",
    "                transforms.RandomAffine(degrees=(-45, 45), translate=(0.15, 0.15), scale=(0.5, 1.5)),\n",
    "                transforms.RandomHorizontalFlip(p=0.25),\n",
    "                transforms.RandomVerticalFlip(p=0.25),\n",
    "            ])\n",
    "            self.valid_transform = transforms.Compose([\n",
    "                transforms.ToTensor(),\n",
    "                transforms.Normalize([0.41076, 0.21934, 0.07357], [0.23796, 0.13130, 0.04884]),\n",
    "            ])\n",
    "        \n",
    "        if self.size == 512:\n",
    "            self.train_transform = transforms.Compose([\n",
    "                transforms.ToTensor(),\n",
    "                transforms.Normalize([0.41071, 0.21929, 0.07348], [0.23807, 0.13140, 0.04898]),\n",
    "                transforms.RandomAffine(degrees=(-45, 45), translate=(0.15, 0.15), scale=(0.5, 1.5)),\n",
    "                transforms.RandomHorizontalFlip(p=0.25),\n",
    "                transforms.RandomVerticalFlip(p=0.25),\n",
    "            ])\n",
    "            self.valid_transform = transforms.Compose([\n",
    "                transforms.ToTensor(),\n",
    "                transforms.Normalize([0.41071, 0.21929, 0.07348], [0.23807, 0.13140, 0.04898]),\n",
    "            ])\n",
    "                                \n",
    "        self.save_path = \"saves\"\n",
    "        if not os.path.exists(self.save_path): os.makedirs(self.save_path)\n",
    "    \n",
    "cfg = CFG(\n",
    "    seed=SEED, \n",
    "    size=SIZE\n",
    ")"
   ]
  },
  {
   "cell_type": "markdown",
   "id": "2f986063",
   "metadata": {
    "papermill": {
     "duration": 0.003543,
     "end_time": "2023-01-08T13:34:09.641843",
     "exception": false,
     "start_time": "2023-01-08T13:34:09.638300",
     "status": "completed"
    },
    "tags": []
   },
   "source": [
    "### **Dataset Template**"
   ]
  },
  {
   "cell_type": "code",
   "execution_count": 5,
   "id": "a86e0021",
   "metadata": {
    "execution": {
     "iopub.execute_input": "2023-01-08T13:34:09.651600Z",
     "iopub.status.busy": "2023-01-08T13:34:09.650031Z",
     "iopub.status.idle": "2023-01-08T13:34:09.657316Z",
     "shell.execute_reply": "2023-01-08T13:34:09.656433Z"
    },
    "papermill": {
     "duration": 0.013914,
     "end_time": "2023-01-08T13:34:09.659355",
     "exception": false,
     "start_time": "2023-01-08T13:34:09.645441",
     "status": "completed"
    },
    "tags": []
   },
   "outputs": [],
   "source": [
    "class DS(Dataset):\n",
    "    def __init__(\n",
    "        self, \n",
    "        filepaths: np.ndarray, \n",
    "        size: int,\n",
    "        labels: Union[np.ndarray, None]=None, \n",
    "        transform=None\n",
    "    ):\n",
    "        \n",
    "        self.filepaths = filepaths\n",
    "        self.labels = labels\n",
    "        self.size = size\n",
    "        self.transform = transform\n",
    "    \n",
    "    def __len__(self):\n",
    "        return self.filepaths.shape[0]\n",
    "    \n",
    "    def __getitem__(self, idx):\n",
    "        image = get_image(self.filepaths[idx], self.size)\n",
    "        if self.labels is None:\n",
    "            return self.transform(image)\n",
    "        return self.transform(image), torch.LongTensor(self.labels[idx])"
   ]
  },
  {
   "cell_type": "markdown",
   "id": "7d884fb7",
   "metadata": {
    "papermill": {
     "duration": 0.003587,
     "end_time": "2023-01-08T13:34:09.666627",
     "exception": false,
     "start_time": "2023-01-08T13:34:09.663040",
     "status": "completed"
    },
    "tags": []
   },
   "source": [
    "### **Model**"
   ]
  },
  {
   "cell_type": "code",
   "execution_count": 6,
   "id": "a4bf107a",
   "metadata": {
    "execution": {
     "iopub.execute_input": "2023-01-08T13:34:09.675262Z",
     "iopub.status.busy": "2023-01-08T13:34:09.675001Z",
     "iopub.status.idle": "2023-01-08T13:34:09.680540Z",
     "shell.execute_reply": "2023-01-08T13:34:09.679579Z"
    },
    "papermill": {
     "duration": 0.012238,
     "end_time": "2023-01-08T13:34:09.682471",
     "exception": false,
     "start_time": "2023-01-08T13:34:09.670233",
     "status": "completed"
    },
    "tags": []
   },
   "outputs": [],
   "source": [
    "class Model(nn.Module):\n",
    "    def __init__(self):\n",
    "        super(Model, self).__init__()\n",
    "            \n",
    "        self.model = timm.create_model(model_name=\"efficientnet_b4\", pretrained=True)\n",
    "        self.model.classifier = nn.Linear(in_features=self.model.classifier.in_features, out_features=5)\n",
    "\n",
    "    def forward(self, x):\n",
    "        return nn.LogSoftmax(dim=1)(self.model(x))"
   ]
  },
  {
   "cell_type": "markdown",
   "id": "eb5d5ce5",
   "metadata": {
    "papermill": {
     "duration": 0.003612,
     "end_time": "2023-01-08T13:34:09.689766",
     "exception": false,
     "start_time": "2023-01-08T13:34:09.686154",
     "status": "completed"
    },
    "tags": []
   },
   "source": [
    "### **Fit and Predict**"
   ]
  },
  {
   "cell_type": "code",
   "execution_count": 7,
   "id": "0d4b2f7d",
   "metadata": {
    "execution": {
     "iopub.execute_input": "2023-01-08T13:34:09.698619Z",
     "iopub.status.busy": "2023-01-08T13:34:09.698330Z",
     "iopub.status.idle": "2023-01-08T13:34:09.718147Z",
     "shell.execute_reply": "2023-01-08T13:34:09.717249Z"
    },
    "papermill": {
     "duration": 0.026689,
     "end_time": "2023-01-08T13:34:09.720163",
     "exception": false,
     "start_time": "2023-01-08T13:34:09.693474",
     "status": "completed"
    },
    "tags": []
   },
   "outputs": [],
   "source": [
    "def fit(\n",
    "    model=None,\n",
    "    optimizer=None, \n",
    "    scheduler_rlrop=None,\n",
    "    scheduler_oclr=None,\n",
    "    epochs=None, \n",
    "    early_stopping_patience=None, \n",
    "    dataloaders=None, \n",
    "    fold=None, \n",
    "    save_path=None,\n",
    "    device=None,\n",
    "    verbose=False\n",
    ") -> tuple:\n",
    "    \n",
    "    def get_accuracy(y_pred, y_true):\n",
    "        y_pred = torch.argmax(y_pred, dim=1)\n",
    "        return torch.count_nonzero(y_pred == y_true).item() / len(y_pred)\n",
    "    \n",
    "    \n",
    "    if verbose:\n",
    "        breaker()\n",
    "        if fold: print(f\"Training Fold {fold}...\")\n",
    "        else: print(\"Training ...\")\n",
    "        breaker()\n",
    "        \n",
    "    bestLoss: dict = {\"train\" : np.inf, \"valid\" : np.inf} \n",
    "    bestAccs: dict = {\"train\" : 0.0, \"valid\" : 0.0}\n",
    "    \n",
    "    Losses: list = []\n",
    "    Accuracies: list = [] \n",
    "    LRs: list = []\n",
    "        \n",
    "    if fold: \n",
    "        ble_name = f\"ble_state_fold_{fold}.pt\"\n",
    "        bae_name = f\"bae_state_fold_{fold}.pt\"\n",
    "    else: \n",
    "        ble_name = f\"ble_state.pt\"\n",
    "        bae_name = f\"bae_state.pt\"\n",
    "        \n",
    "    start_time = time()\n",
    "    for e in range(epochs):\n",
    "        e_st = time()\n",
    "        epochLoss: dict = {\"train\" : 0.0, \"valid\" : 0.0} \n",
    "        epochAccs: dict = {\"train\" : 0.0, \"valid\" : 0.0}\n",
    "\n",
    "        for phase in [\"train\", \"valid\"]:\n",
    "            if phase == \"train\":\n",
    "                model.train()\n",
    "            else:\n",
    "                model.eval()\n",
    "            \n",
    "            lossPerPass: list = []\n",
    "            accsPerPass: list = []\n",
    "                \n",
    "            for X, y in dataloaders[phase]:\n",
    "                X, y = X.to(device), y.to(device).view(-1)\n",
    "\n",
    "                optimizer.zero_grad()\n",
    "                with torch.set_grad_enabled(phase == \"train\"):\n",
    "                    output = model(X)\n",
    "                    loss = nn.NLLLoss()(output, y)\n",
    "                    if phase == \"train\":\n",
    "                        loss.backward()\n",
    "                        optimizer.step()\n",
    "                        if scheduler_oclr: scheduler_oclr.step()\n",
    "                lossPerPass.append(loss.item())\n",
    "                accsPerPass.append(get_accuracy(output, y))\n",
    "            epochLoss[phase] = np.mean(np.array(lossPerPass))\n",
    "            epochAccs[phase] = np.mean(np.array(accsPerPass))\n",
    "        if scheduler_oclr: LRs.append(scheduler_oclr.get_last_lr())\n",
    "        Losses.append(epochLoss)\n",
    "        Accuracies.append(epochAccs)\n",
    "        \n",
    "        if scheduler_oclr:\n",
    "            save_dict = {\"model_state_dict\"     : model.state_dict(),\n",
    "                         \"optim_state_dict\"     : optimizer.state_dict(),\n",
    "                         \"scheduler_state_dict\" : scheduler_oclr.state_dict()}\n",
    "        \n",
    "        elif scheduler_rlrop:\n",
    "            save_dict = {\"model_state_dict\"     : model.state_dict(),\n",
    "                         \"optim_state_dict\"     : optimizer.state_dict(),\n",
    "                         \"scheduler_state_dict\" : scheduler_rlrop.state_dict()}\n",
    "        \n",
    "        else:\n",
    "            save_dict = {\"model_state_dict\"     : model.state_dict(),\n",
    "                         \"optim_state_dict\"     : optimizer.state_dict()}\n",
    "        \n",
    "        if early_stopping_patience:\n",
    "            if epochLoss[\"valid\"] < bestLoss[\"valid\"]:\n",
    "                bestLoss = epochLoss\n",
    "                BLE = e + 1\n",
    "                torch.save(save_dict, os.path.join(save_path, ble_name))\n",
    "                torch.save(save_dict, os.path.join(save_path, bae_name))\n",
    "                early_stopping_step = 0\n",
    "            else:\n",
    "                early_stopping_step += 1\n",
    "                if early_stopping_step > early_stopping_patience:\n",
    "                    print(\"\\nEarly Stopping at Epoch {}\".format(e + 1))\n",
    "                    break\n",
    "        \n",
    "        if epochLoss[\"valid\"] < bestLoss[\"valid\"]:\n",
    "            bestLoss = epochLoss\n",
    "            BLE = e + 1\n",
    "            torch.save(save_dict,os.path.join(save_path, ble_name))\n",
    "        \n",
    "        if epochAccs[\"valid\"] > bestAccs[\"valid\"]:\n",
    "            bestAccs = epochAccs\n",
    "            BAE = e + 1\n",
    "            torch.save(save_dict,os.path.join(save_path, bae_name))\n",
    "        \n",
    "        if scheduler_rlrop: scheduler_rlrop.step(epochLoss[\"valid\"])\n",
    "        \n",
    "        if verbose:\n",
    "            print(\"Epoch: {} | Train Loss: {:.5f} | Valid Loss: {:.5f} |\\\n",
    " Train Accs: {:.5f} | Valid Accs: {:.5f} | Time: {:.2f} seconds\".format(e+1, \n",
    "                                                                        epochLoss[\"train\"], epochLoss[\"valid\"], \n",
    "                                                                        epochAccs[\"train\"], epochAccs[\"valid\"], \n",
    "                                                                        time()-e_st))\n",
    "\n",
    "    if verbose:                                           \n",
    "        breaker()\n",
    "        print(f\"Best Validation Loss at Epoch {BLE}\")\n",
    "        breaker()\n",
    "        print(f\"Best Validation Accs at Epoch {BAE}\")\n",
    "        breaker()\n",
    "        print(\"Time Taken [{} Epochs] : {:.2f} minutes\".format(len(Losses), (time()-start_time)/60))\n",
    "    \n",
    "    return Losses, Accuracies, LRs, bestLoss, bestAccs, BLE, BAE, ble_name, bae_name\n",
    "\n",
    "\n",
    "# def predict_batch(model=None, dataloader=None, path=None, device=None) -> np.ndarray:\n",
    "#     model.load_state_dict(torch.load(path, map_location=device)[\"model_state_dict\"])\n",
    "#     model.to(device)    \n",
    "#     model.eval()\n",
    "    \n",
    "#     y_pred = torch.zeros(1, 1).to(device)\n",
    "    \n",
    "#     for X in dataloader:\n",
    "#         X = X.to(device)\n",
    "#         with torch.no_grad():\n",
    "#             output = torch.argmax(torch.exp(model(X)), dim=1)\n",
    "#         y_pred = torch.cat((y_pred, output.view(-1, 1)), dim=0)\n",
    "    \n",
    "#     return y_pred[1:].detach().cpu().numpy()"
   ]
  },
  {
   "cell_type": "markdown",
   "id": "7b18430b",
   "metadata": {
    "papermill": {
     "duration": 0.004531,
     "end_time": "2023-01-08T13:34:09.728488",
     "exception": false,
     "start_time": "2023-01-08T13:34:09.723957",
     "status": "completed"
    },
    "tags": []
   },
   "source": [
    "### **Train**"
   ]
  },
  {
   "cell_type": "code",
   "execution_count": 8,
   "id": "f0d98405",
   "metadata": {
    "execution": {
     "iopub.execute_input": "2023-01-08T13:34:09.737045Z",
     "iopub.status.busy": "2023-01-08T13:34:09.736789Z",
     "iopub.status.idle": "2023-01-08T13:34:09.770979Z",
     "shell.execute_reply": "2023-01-08T13:34:09.770135Z"
    },
    "papermill": {
     "duration": 0.041023,
     "end_time": "2023-01-08T13:34:09.773242",
     "exception": false,
     "start_time": "2023-01-08T13:34:09.732219",
     "status": "completed"
    },
    "tags": []
   },
   "outputs": [],
   "source": [
    "df = pd.read_csv(\"/kaggle/input/drc-dataframe/train.csv\")\n",
    "\n",
    "filepaths = df.filepaths.copy().values\n",
    "labels = df.labels.copy().values"
   ]
  },
  {
   "cell_type": "code",
   "execution_count": 9,
   "id": "61410ebb",
   "metadata": {
    "execution": {
     "iopub.execute_input": "2023-01-08T13:34:09.782329Z",
     "iopub.status.busy": "2023-01-08T13:34:09.782068Z",
     "iopub.status.idle": "2023-01-08T14:51:09.374515Z",
     "shell.execute_reply": "2023-01-08T14:51:09.373607Z"
    },
    "papermill": {
     "duration": 4619.599801,
     "end_time": "2023-01-08T14:51:09.377040",
     "exception": false,
     "start_time": "2023-01-08T13:34:09.777239",
     "status": "completed"
    },
    "tags": []
   },
   "outputs": [
    {
     "name": "stderr",
     "output_type": "stream",
     "text": [
      "Downloading: \"https://github.com/rwightman/pytorch-image-models/releases/download/v0.1-weights/efficientnet_b4_ra2_320-7eb33cd5.pth\" to /root/.cache/torch/hub/checkpoints/efficientnet_b4_ra2_320-7eb33cd5.pth\n"
     ]
    },
    {
     "name": "stdout",
     "output_type": "stream",
     "text": [
      "\n",
      "**************************************************\n",
      "\n",
      "Training Fold 1...\n",
      "\n",
      "**************************************************\n",
      "\n",
      "Epoch: 1 | Train Loss: 1.30299 | Valid Loss: 0.65332 | Train Accs: 0.49878 | Valid Accs: 0.77679 | Time: 120.91 seconds\n",
      "Epoch: 2 | Train Loss: 0.66632 | Valid Loss: 0.68699 | Train Accs: 0.75529 | Valid Accs: 0.74107 | Time: 91.06 seconds\n",
      "Epoch: 3 | Train Loss: 0.58690 | Valid Loss: 0.53201 | Train Accs: 0.78628 | Valid Accs: 0.79911 | Time: 92.21 seconds\n",
      "Epoch: 4 | Train Loss: 0.51153 | Valid Loss: 0.55881 | Train Accs: 0.81071 | Valid Accs: 0.79464 | Time: 90.84 seconds\n",
      "Epoch: 5 | Train Loss: 0.43871 | Valid Loss: 0.50882 | Train Accs: 0.83894 | Valid Accs: 0.81027 | Time: 91.99 seconds\n",
      "Epoch: 6 | Train Loss: 0.39561 | Valid Loss: 0.46905 | Train Accs: 0.85542 | Valid Accs: 0.82143 | Time: 95.50 seconds\n",
      "Epoch: 7 | Train Loss: 0.31760 | Valid Loss: 0.50139 | Train Accs: 0.88086 | Valid Accs: 0.83036 | Time: 93.88 seconds\n",
      "Epoch: 8 | Train Loss: 0.28198 | Valid Loss: 0.51119 | Train Accs: 0.90087 | Valid Accs: 0.83036 | Time: 90.98 seconds\n",
      "Epoch: 9 | Train Loss: 0.23679 | Valid Loss: 0.55327 | Train Accs: 0.91805 | Valid Accs: 0.81696 | Time: 89.24 seconds\n",
      "Epoch: 10 | Train Loss: 0.21841 | Valid Loss: 0.54112 | Train Accs: 0.92474 | Valid Accs: 0.82812 | Time: 90.31 seconds\n",
      "\n",
      "**************************************************\n",
      "\n",
      "Best Validation Loss at Epoch 6\n",
      "\n",
      "**************************************************\n",
      "\n",
      "Best Validation Accs at Epoch 7\n",
      "\n",
      "**************************************************\n",
      "\n",
      "Time Taken [10 Epochs] : 15.78 minutes\n",
      "\n",
      "**************************************************\n",
      "\n"
     ]
    },
    {
     "data": {
      "image/png": "[encoded data removed]",
      "text/plain": [
       "<Figure size 432x288 with 1 Axes>"
      ]
     },
     "metadata": {
      "needs_background": "light"
     },
     "output_type": "display_data"
    },
    {
     "name": "stdout",
     "output_type": "stream",
     "text": [
      "\n",
      "**************************************************\n",
      "\n"
     ]
    },
    {
     "data": {
      "image/png": "[encoded data removed]",
      "text/plain": [
       "<Figure size 432x288 with 1 Axes>"
      ]
     },
     "metadata": {
      "needs_background": "light"
     },
     "output_type": "display_data"
    },
    {
     "name": "stdout",
     "output_type": "stream",
     "text": [
      "\n",
      "**************************************************\n",
      "\n"
     ]
    },
    {
     "data": {
      "image/png": "[encoded data removed]",
      "text/plain": [
       "<Figure size 576x432 with 1 Axes>"
      ]
     },
     "metadata": {
      "needs_background": "light"
     },
     "output_type": "display_data"
    },
    {
     "name": "stdout",
     "output_type": "stream",
     "text": [
      "\n",
      "**************************************************\n",
      "\n",
      "\n",
      "**************************************************\n",
      "\n",
      "Training Fold 2...\n",
      "\n",
      "**************************************************\n",
      "\n",
      "Epoch: 1 | Train Loss: 1.28834 | Valid Loss: 0.73452 | Train Accs: 0.48842 | Valid Accs: 0.73214 | Time: 92.35 seconds\n",
      "Epoch: 2 | Train Loss: 0.67298 | Valid Loss: 0.65465 | Train Accs: 0.75284 | Valid Accs: 0.76339 | Time: 93.01 seconds\n",
      "Epoch: 3 | Train Loss: 0.58697 | Valid Loss: 0.56339 | Train Accs: 0.77360 | Valid Accs: 0.80580 | Time: 94.06 seconds\n",
      "Epoch: 4 | Train Loss: 0.52921 | Valid Loss: 0.52513 | Train Accs: 0.79519 | Valid Accs: 0.81250 | Time: 92.65 seconds\n",
      "Epoch: 5 | Train Loss: 0.43369 | Valid Loss: 0.50495 | Train Accs: 0.83584 | Valid Accs: 0.82812 | Time: 92.25 seconds\n",
      "Epoch: 6 | Train Loss: 0.38797 | Valid Loss: 0.50530 | Train Accs: 0.85669 | Valid Accs: 0.81920 | Time: 90.18 seconds\n",
      "Epoch: 7 | Train Loss: 0.33164 | Valid Loss: 0.51035 | Train Accs: 0.87373 | Valid Accs: 0.79688 | Time: 90.80 seconds\n",
      "Epoch: 8 | Train Loss: 0.27515 | Valid Loss: 0.59051 | Train Accs: 0.89620 | Valid Accs: 0.79464 | Time: 89.68 seconds\n",
      "Epoch: 9 | Train Loss: 0.24154 | Valid Loss: 0.58700 | Train Accs: 0.90953 | Valid Accs: 0.80134 | Time: 90.34 seconds\n",
      "Epoch: 10 | Train Loss: 0.22064 | Valid Loss: 0.53787 | Train Accs: 0.91962 | Valid Accs: 0.81920 | Time: 90.69 seconds\n",
      "\n",
      "**************************************************\n",
      "\n",
      "Best Validation Loss at Epoch 5\n",
      "\n",
      "**************************************************\n",
      "\n",
      "Best Validation Accs at Epoch 5\n",
      "\n",
      "**************************************************\n",
      "\n",
      "Time Taken [10 Epochs] : 15.27 minutes\n",
      "\n",
      "**************************************************\n",
      "\n"
     ]
    },
    {
     "data": {
      "image/png": "[encoded data removed]",
      "text/plain": [
       "<Figure size 432x288 with 1 Axes>"
      ]
     },
     "metadata": {
      "needs_background": "light"
     },
     "output_type": "display_data"
    },
    {
     "name": "stdout",
     "output_type": "stream",
     "text": [
      "\n",
      "**************************************************\n",
      "\n"
     ]
    },
    {
     "data": {
      "image/png": "[encoded data removed]",
      "text/plain": [
       "<Figure size 432x288 with 1 Axes>"
      ]
     },
     "metadata": {
      "needs_background": "light"
     },
     "output_type": "display_data"
    },
    {
     "name": "stdout",
     "output_type": "stream",
     "text": [
      "\n",
      "**************************************************\n",
      "\n"
     ]
    },
    {
     "data": {
      "image/png": "[encoded data removed]",
      "text/plain": [
       "<Figure size 576x432 with 1 Axes>"
      ]
     },
     "metadata": {
      "needs_background": "light"
     },
     "output_type": "display_data"
    },
    {
     "name": "stdout",
     "output_type": "stream",
     "text": [
      "\n",
      "**************************************************\n",
      "\n",
      "\n",
      "**************************************************\n",
      "\n",
      "Training Fold 3...\n",
      "\n",
      "**************************************************\n",
      "\n",
      "Epoch: 1 | Train Loss: 1.28733 | Valid Loss: 0.69927 | Train Accs: 0.48726 | Valid Accs: 0.73693 | Time: 92.67 seconds\n",
      "Epoch: 2 | Train Loss: 0.66402 | Valid Loss: 0.52662 | Train Accs: 0.75755 | Valid Accs: 0.79943 | Time: 92.48 seconds\n",
      "Epoch: 3 | Train Loss: 0.56455 | Valid Loss: 0.52132 | Train Accs: 0.79805 | Valid Accs: 0.80835 | Time: 92.70 seconds\n",
      "Epoch: 4 | Train Loss: 0.50703 | Valid Loss: 0.52777 | Train Accs: 0.80731 | Valid Accs: 0.78890 | Time: 91.09 seconds\n",
      "Epoch: 5 | Train Loss: 0.45134 | Valid Loss: 0.46058 | Train Accs: 0.83222 | Valid Accs: 0.82015 | Time: 93.61 seconds\n",
      "Epoch: 6 | Train Loss: 0.37650 | Valid Loss: 0.44758 | Train Accs: 0.85893 | Valid Accs: 0.80166 | Time: 92.52 seconds\n",
      "Epoch: 7 | Train Loss: 0.36018 | Valid Loss: 0.42471 | Train Accs: 0.86916 | Valid Accs: 0.81792 | Time: 92.87 seconds\n",
      "Epoch: 8 | Train Loss: 0.27391 | Valid Loss: 0.44350 | Train Accs: 0.89481 | Valid Accs: 0.83195 | Time: 90.67 seconds\n",
      "Epoch: 9 | Train Loss: 0.24680 | Valid Loss: 0.43753 | Train Accs: 0.90609 | Valid Accs: 0.83355 | Time: 90.55 seconds\n",
      "Epoch: 10 | Train Loss: 0.22273 | Valid Loss: 0.42358 | Train Accs: 0.91859 | Valid Accs: 0.84024 | Time: 92.12 seconds\n",
      "\n",
      "**************************************************\n",
      "\n",
      "Best Validation Loss at Epoch 10\n",
      "\n",
      "**************************************************\n",
      "\n",
      "Best Validation Accs at Epoch 10\n",
      "\n",
      "**************************************************\n",
      "\n",
      "Time Taken [10 Epochs] : 15.35 minutes\n",
      "\n",
      "**************************************************\n",
      "\n"
     ]
    },
    {
     "data": {
      "image/png": "[encoded data removed]",
      "text/plain": [
       "<Figure size 432x288 with 1 Axes>"
      ]
     },
     "metadata": {
      "needs_background": "light"
     },
     "output_type": "display_data"
    },
    {
     "name": "stdout",
     "output_type": "stream",
     "text": [
      "\n",
      "**************************************************\n",
      "\n"
     ]
    },
    {
     "data": {
      "image/png": "[encoded data removed]",
      "text/plain": [
       "<Figure size 432x288 with 1 Axes>"
      ]
     },
     "metadata": {
      "needs_background": "light"
     },
     "output_type": "display_data"
    },
    {
     "name": "stdout",
     "output_type": "stream",
     "text": [
      "\n",
      "**************************************************\n",
      "\n"
     ]
    },
    {
     "data": {
      "image/png": "[encoded data removed]",
      "text/plain": [
       "<Figure size 576x432 with 1 Axes>"
      ]
     },
     "metadata": {
      "needs_background": "light"
     },
     "output_type": "display_data"
    },
    {
     "name": "stdout",
     "output_type": "stream",
     "text": [
      "\n",
      "**************************************************\n",
      "\n",
      "\n",
      "**************************************************\n",
      "\n",
      "Training Fold 4...\n",
      "\n",
      "**************************************************\n",
      "\n",
      "Epoch: 1 | Train Loss: 1.29243 | Valid Loss: 0.67437 | Train Accs: 0.49464 | Valid Accs: 0.74203 | Time: 92.65 seconds\n",
      "Epoch: 2 | Train Loss: 0.64316 | Valid Loss: 0.62633 | Train Accs: 0.75593 | Valid Accs: 0.76945 | Time: 92.59 seconds\n",
      "Epoch: 3 | Train Loss: 0.55336 | Valid Loss: 0.75370 | Train Accs: 0.79253 | Valid Accs: 0.74043 | Time: 90.49 seconds\n",
      "Epoch: 4 | Train Loss: 0.49909 | Valid Loss: 0.56811 | Train Accs: 0.80787 | Valid Accs: 0.77997 | Time: 91.49 seconds\n",
      "Epoch: 5 | Train Loss: 0.46069 | Valid Loss: 0.51130 | Train Accs: 0.83093 | Valid Accs: 0.82972 | Time: 92.29 seconds\n",
      "Epoch: 6 | Train Loss: 0.36883 | Valid Loss: 0.52282 | Train Accs: 0.86063 | Valid Accs: 0.81856 | Time: 89.71 seconds\n",
      "Epoch: 7 | Train Loss: 0.31371 | Valid Loss: 0.53959 | Train Accs: 0.88807 | Valid Accs: 0.79624 | Time: 90.95 seconds\n",
      "Epoch: 8 | Train Loss: 0.26072 | Valid Loss: 0.54463 | Train Accs: 0.89886 | Valid Accs: 0.83291 | Time: 90.51 seconds\n",
      "Epoch: 9 | Train Loss: 0.21970 | Valid Loss: 0.51941 | Train Accs: 0.91972 | Valid Accs: 0.84024 | Time: 90.17 seconds\n",
      "Epoch: 10 | Train Loss: 0.22426 | Valid Loss: 0.51487 | Train Accs: 0.92037 | Valid Accs: 0.83195 | Time: 90.29 seconds\n",
      "\n",
      "**************************************************\n",
      "\n",
      "Best Validation Loss at Epoch 5\n",
      "\n",
      "**************************************************\n",
      "\n",
      "Best Validation Accs at Epoch 9\n",
      "\n",
      "**************************************************\n",
      "\n",
      "Time Taken [10 Epochs] : 15.19 minutes\n",
      "\n",
      "**************************************************\n",
      "\n"
     ]
    },
    {
     "data": {
      "image/png": "[encoded data removed]",
      "text/plain": [
       "<Figure size 432x288 with 1 Axes>"
      ]
     },
     "metadata": {
      "needs_background": "light"
     },
     "output_type": "display_data"
    },
    {
     "name": "stdout",
     "output_type": "stream",
     "text": [
      "\n",
      "**************************************************\n",
      "\n"
     ]
    },
    {
     "data": {
      "image/png": "[encoded data removed]",
      "text/plain": [
       "<Figure size 432x288 with 1 Axes>"
      ]
     },
     "metadata": {
      "needs_background": "light"
     },
     "output_type": "display_data"
    },
    {
     "name": "stdout",
     "output_type": "stream",
     "text": [
      "\n",
      "**************************************************\n",
      "\n"
     ]
    },
    {
     "data": {
      "image/png": "[encoded data removed]",
      "text/plain": [
       "<Figure size 576x432 with 1 Axes>"
      ]
     },
     "metadata": {
      "needs_background": "light"
     },
     "output_type": "display_data"
    },
    {
     "name": "stdout",
     "output_type": "stream",
     "text": [
      "\n",
      "**************************************************\n",
      "\n",
      "\n",
      "**************************************************\n",
      "\n",
      "Training Fold 5...\n",
      "\n",
      "**************************************************\n",
      "\n",
      "Epoch: 1 | Train Loss: 1.29297 | Valid Loss: 0.71831 | Train Accs: 0.51445 | Valid Accs: 0.75255 | Time: 92.28 seconds\n",
      "Epoch: 2 | Train Loss: 0.64484 | Valid Loss: 0.60136 | Train Accs: 0.76680 | Valid Accs: 0.78061 | Time: 91.27 seconds\n",
      "Epoch: 3 | Train Loss: 0.55769 | Valid Loss: 0.53067 | Train Accs: 0.79416 | Valid Accs: 0.81633 | Time: 92.16 seconds\n",
      "Epoch: 4 | Train Loss: 0.48371 | Valid Loss: 0.52226 | Train Accs: 0.80909 | Valid Accs: 0.83036 | Time: 92.00 seconds\n",
      "Epoch: 5 | Train Loss: 0.43910 | Valid Loss: 0.54989 | Train Accs: 0.83726 | Valid Accs: 0.79624 | Time: 90.57 seconds\n",
      "Epoch: 6 | Train Loss: 0.35882 | Valid Loss: 0.52623 | Train Accs: 0.86234 | Valid Accs: 0.81696 | Time: 90.38 seconds\n",
      "Epoch: 7 | Train Loss: 0.31888 | Valid Loss: 0.62432 | Train Accs: 0.88498 | Valid Accs: 0.77232 | Time: 90.64 seconds\n",
      "Epoch: 8 | Train Loss: 0.25980 | Valid Loss: 0.59768 | Train Accs: 0.90787 | Valid Accs: 0.78571 | Time: 89.95 seconds\n",
      "Epoch: 9 | Train Loss: 0.21368 | Valid Loss: 0.58385 | Train Accs: 0.91972 | Valid Accs: 0.79688 | Time: 89.89 seconds\n",
      "\n",
      "Early Stopping at Epoch 10\n",
      "\n",
      "**************************************************\n",
      "\n",
      "Best Validation Loss at Epoch 4\n",
      "\n",
      "**************************************************\n",
      "\n",
      "Best Validation Accs at Epoch 4\n",
      "\n",
      "**************************************************\n",
      "\n",
      "Time Taken [10 Epochs] : 15.16 minutes\n",
      "\n",
      "**************************************************\n",
      "\n"
     ]
    },
    {
     "data": {
      "image/png": "[encoded data removed]",
      "text/plain": [
       "<Figure size 432x288 with 1 Axes>"
      ]
     },
     "metadata": {
      "needs_background": "light"
     },
     "output_type": "display_data"
    },
    {
     "name": "stdout",
     "output_type": "stream",
     "text": [
      "\n",
      "**************************************************\n",
      "\n"
     ]
    },
    {
     "data": {
      "image/png": "[encoded data removed]",
      "text/plain": [
       "<Figure size 432x288 with 1 Axes>"
      ]
     },
     "metadata": {
      "needs_background": "light"
     },
     "output_type": "display_data"
    },
    {
     "name": "stdout",
     "output_type": "stream",
     "text": [
      "\n",
      "**************************************************\n",
      "\n"
     ]
    },
    {
     "data": {
      "image/png": "[encoded data removed]",
      "text/plain": [
       "<Figure size 576x432 with 1 Axes>"
      ]
     },
     "metadata": {
      "needs_background": "light"
     },
     "output_type": "display_data"
    },
    {
     "name": "stdout",
     "output_type": "stream",
     "text": [
      "\n",
      "**************************************************\n",
      "\n"
     ]
    }
   ],
   "source": [
    "fold: int = 1\n",
    "BLs: list = []\n",
    "BAs: list = []\n",
    "    \n",
    "cfg.batch_size = 16\n",
    "cfg.epochs = 10\n",
    "    \n",
    "for tr_idx, va_idx in StratifiedKFold(n_splits=cfg.n_splits, random_state=cfg.seed, shuffle=True).split(filepaths, labels):\n",
    "#     if fold == 1: break\n",
    "#     fold += 1\n",
    "\n",
    "    tr_filepaths, va_filepaths = filepaths[tr_idx], filepaths[va_idx] \n",
    "    tr_labels, va_labels       = labels[tr_idx], labels[va_idx]\n",
    "\n",
    "    tr_data_setup = DS(\n",
    "        filepaths=tr_filepaths, \n",
    "        labels=tr_labels.reshape(-1, 1),\n",
    "        size=cfg.size,\n",
    "        transform=cfg.train_transform\n",
    "    )\n",
    "\n",
    "    va_data_setup = DS(\n",
    "        filepaths=va_filepaths, \n",
    "        labels=va_labels.reshape(-1, 1),\n",
    "        size=cfg.size,\n",
    "        transform=cfg.train_transform\n",
    "    )\n",
    "\n",
    "    dataloaders = {\n",
    "        \"train\" : DL(tr_data_setup, batch_size=cfg.batch_size, shuffle=True, generator=torch.manual_seed(cfg.seed)),\n",
    "        \"valid\" : DL(va_data_setup, batch_size=cfg.batch_size, shuffle=False),\n",
    "    }\n",
    "\n",
    "    cfg.steps_per_epoch=len(dataloaders[\"train\"])\n",
    "\n",
    "    torch.manual_seed(cfg.seed)\n",
    "    model = Model().to(cfg.device)\n",
    "\n",
    "    optimizer = optim.Adam([p for p in model.parameters() if p.requires_grad], lr=cfg.lr, weight_decay=cfg.wd)\n",
    "    # optimizer = optim.AdamW([p for p in model.parameters() if p.requires_grad], lr=cfg.lr, weight_decay=cfg.wd)\n",
    "    # optimizer = optim.SGD([p for p in model.parameters() if p.requires_grad], lr=cfg.lr, weight_decay=cfg.wd, momentum=0.9)\n",
    "\n",
    "    scheduler_oclr = optim.lr_scheduler.OneCycleLR(\n",
    "        optimizer=optimizer, \n",
    "        max_lr=cfg.max_lr, \n",
    "        epochs=cfg.epochs, \n",
    "        steps_per_epoch=cfg.steps_per_epoch,\n",
    "        pct_start=cfg.pct_start, \n",
    "        div_factor=cfg.div_factor, \n",
    "        final_div_factor=cfg.final_div_factor\n",
    "    )\n",
    "\n",
    "    # scheduler_rlrop = optim.lr_scheduler.ReduceLROnPlateau(\n",
    "    #     optimizer=optimizer,\n",
    "    #     patience=cfg.patience,\n",
    "    #     eps=cfg.eps,\n",
    "    #     verbose=True\n",
    "    # )\n",
    "\n",
    "    # scheduler_oclr = None\n",
    "    scheduler_rlrop = None\n",
    "\n",
    "\n",
    "    L, A, LR, BL, BA, _, _, _, _ = fit(\n",
    "        model=model, \n",
    "        optimizer=optimizer, \n",
    "        scheduler_oclr=scheduler_oclr,\n",
    "        scheduler_rlrop=scheduler_rlrop,\n",
    "        epochs=cfg.epochs, \n",
    "        early_stopping_patience=cfg.early_stopping, \n",
    "        dataloaders=dataloaders, \n",
    "        device=cfg.device,\n",
    "        save_path=cfg.save_path,\n",
    "        fold=fold,\n",
    "        verbose=True\n",
    "    )\n",
    "\n",
    "\n",
    "    breaker()\n",
    "    show_loss_graphs(L)\n",
    "    breaker()\n",
    "    show_accuracy_graphs(A)\n",
    "    breaker()\n",
    "    if scheduler_oclr:\n",
    "        show_lr_graph(LR)\n",
    "        breaker()\n",
    "\n",
    "    BLs.append(BL)\n",
    "    BAs.append(BA)\n",
    "\n",
    "    fold += 1"
   ]
  },
  {
   "cell_type": "markdown",
   "id": "0090d5e8",
   "metadata": {
    "papermill": {
     "duration": 0.016727,
     "end_time": "2023-01-08T14:51:09.411338",
     "exception": false,
     "start_time": "2023-01-08T14:51:09.394611",
     "status": "completed"
    },
    "tags": []
   },
   "source": [
    "### **Best Model**"
   ]
  },
  {
   "cell_type": "code",
   "execution_count": 10,
   "id": "5641a762",
   "metadata": {
    "execution": {
     "iopub.execute_input": "2023-01-08T14:51:09.445584Z",
     "iopub.status.busy": "2023-01-08T14:51:09.445107Z",
     "iopub.status.idle": "2023-01-08T14:51:09.456911Z",
     "shell.execute_reply": "2023-01-08T14:51:09.455966Z"
    },
    "papermill": {
     "duration": 0.031808,
     "end_time": "2023-01-08T14:51:09.459722",
     "exception": false,
     "start_time": "2023-01-08T14:51:09.427914",
     "status": "completed"
    },
    "tags": []
   },
   "outputs": [
    {
     "name": "stdout",
     "output_type": "stream",
     "text": [
      "\n",
      "**************************************************\n",
      "\n",
      "Best Loss Model Fold     : 3\n",
      "Best Accuracy Model Fold : 3\n",
      "\n",
      "**************************************************\n",
      "\n"
     ]
    }
   ],
   "source": [
    "BL = np.inf\n",
    "for i in range(len(BLs)):\n",
    "    if BLs[i][\"valid\"] < BL:\n",
    "        BL = BLs[i][\"valid\"]\n",
    "        best_loss_index = i\n",
    "\n",
    "        \n",
    "BA = 0.0\n",
    "for i in range(len(BAs)):\n",
    "    if BAs[i][\"valid\"] > BA:\n",
    "        BA = BAs[i][\"valid\"]\n",
    "        best_accs_index = i\n",
    "\n",
    "breaker()\n",
    "print(f\"Best Loss Model Fold     : {best_loss_index + 1}\")\n",
    "print(f\"Best Accuracy Model Fold : {best_accs_index + 1}\")\n",
    "breaker()"
   ]
  }
 ],
 "metadata": {
  "kernelspec": {
   "display_name": "Python 3",
   "language": "python",
   "name": "python3"
  },
  "language_info": {
   "codemirror_mode": {
    "name": "ipython",
    "version": 3
   },
   "file_extension": ".py",
   "mimetype": "text/x-python",
   "name": "python",
   "nbconvert_exporter": "python",
   "pygments_lexer": "ipython3",
   "version": "3.7.12"
  },
  "papermill": {
   "default_parameters": {},
   "duration": 4645.475651,
   "end_time": "2023-01-08T14:51:12.568293",
   "environment_variables": {},
   "exception": null,
   "input_path": "__notebook__.ipynb",
   "output_path": "__notebook__.ipynb",
   "parameters": {},
   "start_time": "2023-01-08T13:33:47.092642",
   "version": "2.3.4"
  }
 },
 "nbformat": 4,
 "nbformat_minor": 5
}
