{
 "cells": [
  {
   "cell_type": "markdown",
   "id": "a06fda39",
   "metadata": {
    "_cell_guid": "b1076dfc-b9ad-4769-8c92-a6c4dae69d19",
    "_uuid": "8f2839f25d086af736a60e9eeb907d3b93b6e0e5",
    "papermill": {
     "duration": 0.004625,
     "end_time": "2023-01-10T06:20:23.162865",
     "exception": false,
     "start_time": "2023-01-10T06:20:23.158240",
     "status": "completed"
    },
    "tags": []
   },
   "source": [
    "### **Setup**"
   ]
  },
  {
   "cell_type": "code",
   "execution_count": 1,
   "id": "500d0565",
   "metadata": {
    "execution": {
     "iopub.execute_input": "2023-01-10T06:20:23.172431Z",
     "iopub.status.busy": "2023-01-10T06:20:23.171581Z",
     "iopub.status.idle": "2023-01-10T06:20:33.860409Z",
     "shell.execute_reply": "2023-01-10T06:20:33.859302Z"
    },
    "papermill": {
     "duration": 10.696162,
     "end_time": "2023-01-10T06:20:33.862680",
     "exception": false,
     "start_time": "2023-01-10T06:20:23.166518",
     "status": "completed"
    },
    "tags": []
   },
   "outputs": [
    {
     "name": "stderr",
     "output_type": "stream",
     "text": [
      "WARNING: Running pip as the 'root' user can result in broken permissions and conflicting behaviour with the system package manager. It is recommended to use a virtual environment instead: https://pip.pypa.io/warnings/venv\n"
     ]
    }
   ],
   "source": [
    "%%bash\n",
    "pip install timm -q"
   ]
  },
  {
   "cell_type": "markdown",
   "id": "3a4dcd2e",
   "metadata": {
    "papermill": {
     "duration": 0.003521,
     "end_time": "2023-01-10T06:20:33.870330",
     "exception": false,
     "start_time": "2023-01-10T06:20:33.866809",
     "status": "completed"
    },
    "tags": []
   },
   "source": [
    "### **Library Imports**"
   ]
  },
  {
   "cell_type": "code",
   "execution_count": 2,
   "id": "90e42ffd",
   "metadata": {
    "execution": {
     "iopub.execute_input": "2023-01-10T06:20:33.879474Z",
     "iopub.status.busy": "2023-01-10T06:20:33.879152Z",
     "iopub.status.idle": "2023-01-10T06:20:37.766306Z",
     "shell.execute_reply": "2023-01-10T06:20:37.765193Z"
    },
    "papermill": {
     "duration": 3.894785,
     "end_time": "2023-01-10T06:20:37.768956",
     "exception": false,
     "start_time": "2023-01-10T06:20:33.874171",
     "status": "completed"
    },
    "tags": []
   },
   "outputs": [],
   "source": [
    "import os\n",
    "import re\n",
    "import cv2\n",
    "import timm\n",
    "import torch\n",
    "import numpy as np\n",
    "import pandas as pd\n",
    "import matplotlib.pyplot as plt\n",
    "\n",
    "from time import time\n",
    "from typing import Union\n",
    "from torch import nn, optim\n",
    "from torch.utils.data import Dataset\n",
    "from torch.utils.data import DataLoader as DL\n",
    "from torchvision import transforms\n",
    "\n",
    "from sklearn.model_selection import StratifiedKFold"
   ]
  },
  {
   "cell_type": "markdown",
   "id": "4ff81543",
   "metadata": {
    "papermill": {
     "duration": 0.003469,
     "end_time": "2023-01-10T06:20:37.776436",
     "exception": false,
     "start_time": "2023-01-10T06:20:37.772967",
     "status": "completed"
    },
    "tags": []
   },
   "source": [
    "### **Utilities and Helpers**"
   ]
  },
  {
   "cell_type": "code",
   "execution_count": 3,
   "id": "501a2e61",
   "metadata": {
    "execution": {
     "iopub.execute_input": "2023-01-10T06:20:37.785749Z",
     "iopub.status.busy": "2023-01-10T06:20:37.784779Z",
     "iopub.status.idle": "2023-01-10T06:20:37.797141Z",
     "shell.execute_reply": "2023-01-10T06:20:37.796193Z"
    },
    "papermill": {
     "duration": 0.019086,
     "end_time": "2023-01-10T06:20:37.799096",
     "exception": false,
     "start_time": "2023-01-10T06:20:37.780010",
     "status": "completed"
    },
    "tags": []
   },
   "outputs": [],
   "source": [
    "SEED: int = 42\n",
    "SIZE: int = 384\n",
    "\n",
    "\n",
    "def breaker(num: int=50, char: str=\"*\") -> None: print(\"\\n\" + num*char + \"\\n\")\n",
    "\n",
    "    \n",
    "def get_image(path: str, size: int=224) -> np.ndarray:\n",
    "    image = cv2.imread(path, cv2.IMREAD_COLOR)\n",
    "    image = cv2.cvtColor(src=image, code=cv2.COLOR_BGR2RGB)\n",
    "    return cv2.resize(src=image, dsize=(size, size), interpolation=cv2.INTER_AREA)\n",
    "\n",
    "    \n",
    "def show_loss_graphs(L: list) -> None:\n",
    "    TL, VL = [], []\n",
    "    for i in range(len(L)):\n",
    "        TL.append(L[i][\"train\"])\n",
    "        VL.append(L[i][\"valid\"])\n",
    "    x_Axis = np.arange(1, len(TL) + 1)\n",
    "    plt.figure()\n",
    "    plt.plot(x_Axis, TL, \"r\", label=\"Train\")\n",
    "    plt.plot(x_Axis, VL, \"b\", label=\"Valid\")\n",
    "    plt.legend()\n",
    "    plt.grid()\n",
    "    plt.title(\"Loss Graph\")\n",
    "    plt.show()\n",
    "\n",
    "    \n",
    "def show_accuracy_graphs(A: list) -> None:\n",
    "    TA, VA = [], []\n",
    "    for i in range(len(A)):\n",
    "        TA.append(A[i][\"train\"])\n",
    "        VA.append(A[i][\"valid\"])\n",
    "    x_Axis = np.arange(1, len(TA) + 1)\n",
    "    plt.figure()\n",
    "    plt.plot(x_Axis, TA, \"r\", label=\"Train\")\n",
    "    plt.plot(x_Axis, VA, \"b\", label=\"Valid\")\n",
    "    plt.legend()\n",
    "    plt.grid()\n",
    "    plt.title(\"Accuracy Graph\")\n",
    "    plt.show()\n",
    "    \n",
    "\n",
    "def show_lr_graph(LR: list) -> None:\n",
    "    x_Axis = [i+1 for i in range(len(LR))]\n",
    "    plt.figure(figsize=(8, 6))\n",
    "    plt.plot(x_Axis, LR, \"rx\")\n",
    "    plt.grid()\n",
    "    plt.show()"
   ]
  },
  {
   "cell_type": "markdown",
   "id": "653e0a2f",
   "metadata": {
    "papermill": {
     "duration": 0.003475,
     "end_time": "2023-01-10T06:20:37.806257",
     "exception": false,
     "start_time": "2023-01-10T06:20:37.802782",
     "status": "completed"
    },
    "tags": []
   },
   "source": [
    "\n",
    "\n",
    "### **Configuration**"
   ]
  },
  {
   "cell_type": "code",
   "execution_count": 4,
   "id": "7c36d237",
   "metadata": {
    "execution": {
     "iopub.execute_input": "2023-01-10T06:20:37.814969Z",
     "iopub.status.busy": "2023-01-10T06:20:37.814672Z",
     "iopub.status.idle": "2023-01-10T06:20:37.889851Z",
     "shell.execute_reply": "2023-01-10T06:20:37.888865Z"
    },
    "papermill": {
     "duration": 0.082499,
     "end_time": "2023-01-10T06:20:37.892350",
     "exception": false,
     "start_time": "2023-01-10T06:20:37.809851",
     "status": "completed"
    },
    "tags": []
   },
   "outputs": [],
   "source": [
    "class CFG(object):\n",
    "    def __init__(self, \n",
    "                 seed: int = 42,\n",
    "                 size: int = 224,\n",
    "                 n_splits: int = 5,\n",
    "                 batch_size: int = 16,\n",
    "                 epochs: int = 25,\n",
    "                 early_stopping: int = 5,\n",
    "                 lr: float = 1e-4,\n",
    "                 wd: float = 0.0,\n",
    "                 max_lr: float = 1e-3,\n",
    "                 pct_start: float = 0.2,\n",
    "                 steps_per_epoch: int = 100,\n",
    "                 div_factor: int = 1e3, \n",
    "                 final_div_factor: float = 1e3,\n",
    "                 ):\n",
    "        self.seed = seed\n",
    "        self.size = size\n",
    "        self.n_splits = n_splits\n",
    "        self.batch_size = batch_size\n",
    "        self.epochs = epochs\n",
    "        self.early_stopping = early_stopping\n",
    "        self.lr = lr\n",
    "        self.wd = wd\n",
    "        self.max_lr = max_lr\n",
    "        self.pct_start = pct_start\n",
    "        self.steps_per_epoch = steps_per_epoch\n",
    "        self.div_factor = div_factor\n",
    "        self.final_div_factor = final_div_factor\n",
    "        self.device = torch.device(\"cuda\" if torch.cuda.is_available() else \"cpu\")\n",
    "        \n",
    "        if self.size == 224:\n",
    "            self.train_transform = transforms.Compose([\n",
    "                transforms.ToTensor(),\n",
    "                transforms.Normalize([0.41080, 0.21938, 0.07357], [0.23762, 0.13099, 0.04847]),\n",
    "                transforms.RandomAffine(degrees=(-45, 45), translate=(0.15, 0.15), scale=(0.5, 1.5)),\n",
    "                transforms.RandomHorizontalFlip(p=0.25),\n",
    "                transforms.RandomVerticalFlip(p=0.25),\n",
    "            ])\n",
    "            self.valid_transform = transforms.Compose([\n",
    "                transforms.ToTensor(),\n",
    "                transforms.Normalize([0.41080, 0.21938, 0.07357], [0.23762, 0.13099, 0.04847]),\n",
    "            ])\n",
    "        \n",
    "        if self.size == 384:\n",
    "            self.train_transform = transforms.Compose([\n",
    "                transforms.ToTensor(),\n",
    "                transforms.Normalize([0.41076, 0.21934, 0.07357], [0.23796, 0.13130, 0.04884]),\n",
    "                transforms.RandomAffine(degrees=(-45, 45), translate=(0.15, 0.15), scale=(0.5, 1.5)),\n",
    "                transforms.RandomHorizontalFlip(p=0.25),\n",
    "                transforms.RandomVerticalFlip(p=0.25),\n",
    "            ])\n",
    "            self.valid_transform = transforms.Compose([\n",
    "                transforms.ToTensor(),\n",
    "                transforms.Normalize([0.41076, 0.21934, 0.07357], [0.23796, 0.13130, 0.04884]),\n",
    "            ])\n",
    "        \n",
    "        if self.size == 512:\n",
    "            self.train_transform = transforms.Compose([\n",
    "                transforms.ToTensor(),\n",
    "                transforms.Normalize([0.41071, 0.21929, 0.07348], [0.23807, 0.13140, 0.04898]),\n",
    "                transforms.RandomAffine(degrees=(-45, 45), translate=(0.15, 0.15), scale=(0.5, 1.5)),\n",
    "                transforms.RandomHorizontalFlip(p=0.25),\n",
    "                transforms.RandomVerticalFlip(p=0.25),\n",
    "            ])\n",
    "            self.valid_transform = transforms.Compose([\n",
    "                transforms.ToTensor(),\n",
    "                transforms.Normalize([0.41071, 0.21929, 0.07348], [0.23807, 0.13140, 0.04898]),\n",
    "            ])\n",
    "                                \n",
    "        self.save_path = \"saves\"\n",
    "        if not os.path.exists(self.save_path): os.makedirs(self.save_path)\n",
    "    \n",
    "cfg = CFG(\n",
    "    seed=SEED, \n",
    "    size=SIZE\n",
    ")"
   ]
  },
  {
   "cell_type": "markdown",
   "id": "fe2df3a1",
   "metadata": {
    "papermill": {
     "duration": 0.003613,
     "end_time": "2023-01-10T06:20:37.899850",
     "exception": false,
     "start_time": "2023-01-10T06:20:37.896237",
     "status": "completed"
    },
    "tags": []
   },
   "source": [
    "### **Dataset Template**"
   ]
  },
  {
   "cell_type": "code",
   "execution_count": 5,
   "id": "fe855954",
   "metadata": {
    "execution": {
     "iopub.execute_input": "2023-01-10T06:20:37.908717Z",
     "iopub.status.busy": "2023-01-10T06:20:37.908405Z",
     "iopub.status.idle": "2023-01-10T06:20:37.915756Z",
     "shell.execute_reply": "2023-01-10T06:20:37.914888Z"
    },
    "papermill": {
     "duration": 0.014314,
     "end_time": "2023-01-10T06:20:37.917861",
     "exception": false,
     "start_time": "2023-01-10T06:20:37.903547",
     "status": "completed"
    },
    "tags": []
   },
   "outputs": [],
   "source": [
    "class DS(Dataset):\n",
    "    def __init__(\n",
    "        self, \n",
    "        filepaths: np.ndarray, \n",
    "        size: int,\n",
    "        labels: Union[np.ndarray, None]=None, \n",
    "        transform=None\n",
    "    ):\n",
    "        \n",
    "        self.filepaths = filepaths\n",
    "        self.labels = labels\n",
    "        self.size = size\n",
    "        self.transform = transform\n",
    "    \n",
    "    def __len__(self):\n",
    "        return self.filepaths.shape[0]\n",
    "    \n",
    "    def __getitem__(self, idx):\n",
    "        image = get_image(self.filepaths[idx], self.size)\n",
    "        if self.labels is None:\n",
    "            return self.transform(image)\n",
    "        return self.transform(image), torch.LongTensor(self.labels[idx])"
   ]
  },
  {
   "cell_type": "markdown",
   "id": "fa13f508",
   "metadata": {
    "papermill": {
     "duration": 0.003636,
     "end_time": "2023-01-10T06:20:37.925290",
     "exception": false,
     "start_time": "2023-01-10T06:20:37.921654",
     "status": "completed"
    },
    "tags": []
   },
   "source": [
    "### **Model**"
   ]
  },
  {
   "cell_type": "code",
   "execution_count": 6,
   "id": "c220e44b",
   "metadata": {
    "execution": {
     "iopub.execute_input": "2023-01-10T06:20:37.934491Z",
     "iopub.status.busy": "2023-01-10T06:20:37.933952Z",
     "iopub.status.idle": "2023-01-10T06:20:37.939602Z",
     "shell.execute_reply": "2023-01-10T06:20:37.938674Z"
    },
    "papermill": {
     "duration": 0.012416,
     "end_time": "2023-01-10T06:20:37.941624",
     "exception": false,
     "start_time": "2023-01-10T06:20:37.929208",
     "status": "completed"
    },
    "tags": []
   },
   "outputs": [],
   "source": [
    "class Model(nn.Module):\n",
    "    def __init__(self):\n",
    "        super(Model, self).__init__()\n",
    "            \n",
    "        self.model = timm.create_model(model_name=\"vit_tiny_r_s16_p8_384\", pretrained=True)\n",
    "        self.model.head = nn.Linear(in_features=self.model.head.in_features, out_features=5)\n",
    "\n",
    "    def forward(self, x):\n",
    "        return nn.LogSoftmax(dim=1)(self.model(x))"
   ]
  },
  {
   "cell_type": "markdown",
   "id": "8894bde4",
   "metadata": {
    "papermill": {
     "duration": 0.003638,
     "end_time": "2023-01-10T06:20:37.948956",
     "exception": false,
     "start_time": "2023-01-10T06:20:37.945318",
     "status": "completed"
    },
    "tags": []
   },
   "source": [
    "### **Fit and Predict**"
   ]
  },
  {
   "cell_type": "code",
   "execution_count": 7,
   "id": "6f90bbd5",
   "metadata": {
    "execution": {
     "iopub.execute_input": "2023-01-10T06:20:37.958061Z",
     "iopub.status.busy": "2023-01-10T06:20:37.957775Z",
     "iopub.status.idle": "2023-01-10T06:20:37.978085Z",
     "shell.execute_reply": "2023-01-10T06:20:37.977112Z"
    },
    "papermill": {
     "duration": 0.027395,
     "end_time": "2023-01-10T06:20:37.980036",
     "exception": false,
     "start_time": "2023-01-10T06:20:37.952641",
     "status": "completed"
    },
    "tags": []
   },
   "outputs": [],
   "source": [
    "def fit(\n",
    "    model=None,\n",
    "    optimizer=None, \n",
    "    scheduler_rlrop=None,\n",
    "    scheduler_oclr=None,\n",
    "    epochs=None, \n",
    "    early_stopping_patience=None, \n",
    "    dataloaders=None, \n",
    "    fold=None, \n",
    "    save_path=None,\n",
    "    device=None,\n",
    "    verbose=False\n",
    ") -> tuple:\n",
    "    \n",
    "    def get_accuracy(y_pred, y_true):\n",
    "        y_pred = torch.argmax(y_pred, dim=1)\n",
    "        return torch.count_nonzero(y_pred == y_true).item() / len(y_pred)\n",
    "    \n",
    "    \n",
    "    if verbose:\n",
    "        breaker()\n",
    "        if fold: print(f\"Training Fold {fold}...\")\n",
    "        else: print(\"Training ...\")\n",
    "        breaker()\n",
    "        \n",
    "    bestLoss: dict = {\"train\" : np.inf, \"valid\" : np.inf} \n",
    "    bestAccs: dict = {\"train\" : 0.0, \"valid\" : 0.0}\n",
    "    \n",
    "    Losses: list = []\n",
    "    Accuracies: list = [] \n",
    "    LRs: list = []\n",
    "        \n",
    "    if fold: \n",
    "        ble_name = f\"ble_state_fold_{fold}.pt\"\n",
    "        bae_name = f\"bae_state_fold_{fold}.pt\"\n",
    "    else: \n",
    "        ble_name = f\"ble_state.pt\"\n",
    "        bae_name = f\"bae_state.pt\"\n",
    "        \n",
    "    start_time = time()\n",
    "    for e in range(epochs):\n",
    "        e_st = time()\n",
    "        epochLoss: dict = {\"train\" : 0.0, \"valid\" : 0.0} \n",
    "        epochAccs: dict = {\"train\" : 0.0, \"valid\" : 0.0}\n",
    "\n",
    "        for phase in [\"train\", \"valid\"]:\n",
    "            if phase == \"train\":\n",
    "                model.train()\n",
    "            else:\n",
    "                model.eval()\n",
    "            \n",
    "            lossPerPass: list = []\n",
    "            accsPerPass: list = []\n",
    "                \n",
    "            for X, y in dataloaders[phase]:\n",
    "                X, y = X.to(device), y.to(device).view(-1)\n",
    "\n",
    "                optimizer.zero_grad()\n",
    "                with torch.set_grad_enabled(phase == \"train\"):\n",
    "                    output = model(X)\n",
    "                    loss = nn.NLLLoss()(output, y)\n",
    "                    if phase == \"train\":\n",
    "                        loss.backward()\n",
    "                        optimizer.step()\n",
    "                        if scheduler_oclr: scheduler_oclr.step()\n",
    "                lossPerPass.append(loss.item())\n",
    "                accsPerPass.append(get_accuracy(output, y))\n",
    "            epochLoss[phase] = np.mean(np.array(lossPerPass))\n",
    "            epochAccs[phase] = np.mean(np.array(accsPerPass))\n",
    "        if scheduler_oclr: LRs.append(scheduler_oclr.get_last_lr())\n",
    "        Losses.append(epochLoss)\n",
    "        Accuracies.append(epochAccs)\n",
    "        \n",
    "        if scheduler_oclr:\n",
    "            save_dict = {\"model_state_dict\"     : model.state_dict(),\n",
    "                         \"optim_state_dict\"     : optimizer.state_dict(),\n",
    "                         \"scheduler_state_dict\" : scheduler_oclr.state_dict()}\n",
    "        \n",
    "        elif scheduler_rlrop:\n",
    "            save_dict = {\"model_state_dict\"     : model.state_dict(),\n",
    "                         \"optim_state_dict\"     : optimizer.state_dict(),\n",
    "                         \"scheduler_state_dict\" : scheduler_rlrop.state_dict()}\n",
    "        \n",
    "        else:\n",
    "            save_dict = {\"model_state_dict\"     : model.state_dict(),\n",
    "                         \"optim_state_dict\"     : optimizer.state_dict()}\n",
    "        \n",
    "        if early_stopping_patience:\n",
    "            if epochLoss[\"valid\"] < bestLoss[\"valid\"]:\n",
    "                bestLoss = epochLoss\n",
    "                BLE = e + 1\n",
    "                torch.save(save_dict, os.path.join(save_path, ble_name))\n",
    "                torch.save(save_dict, os.path.join(save_path, bae_name))\n",
    "                early_stopping_step = 0\n",
    "            else:\n",
    "                early_stopping_step += 1\n",
    "                if early_stopping_step > early_stopping_patience:\n",
    "                    print(\"\\nEarly Stopping at Epoch {}\".format(e + 1))\n",
    "                    break\n",
    "        \n",
    "        if epochLoss[\"valid\"] < bestLoss[\"valid\"]:\n",
    "            bestLoss = epochLoss\n",
    "            BLE = e + 1\n",
    "            torch.save(save_dict,os.path.join(save_path, ble_name))\n",
    "        \n",
    "        if epochAccs[\"valid\"] > bestAccs[\"valid\"]:\n",
    "            bestAccs = epochAccs\n",
    "            BAE = e + 1\n",
    "            torch.save(save_dict,os.path.join(save_path, bae_name))\n",
    "        \n",
    "        if scheduler_rlrop: scheduler_rlrop.step(epochLoss[\"valid\"])\n",
    "        \n",
    "        if verbose:\n",
    "            print(\"Epoch: {} | Train Loss: {:.5f} | Valid Loss: {:.5f} |\\\n",
    " Train Accs: {:.5f} | Valid Accs: {:.5f} | Time: {:.2f} seconds\".format(e+1, \n",
    "                                                                        epochLoss[\"train\"], epochLoss[\"valid\"], \n",
    "                                                                        epochAccs[\"train\"], epochAccs[\"valid\"], \n",
    "                                                                        time()-e_st))\n",
    "\n",
    "    if verbose:                                           \n",
    "        breaker()\n",
    "        print(f\"Best Validation Loss at Epoch {BLE}\")\n",
    "        breaker()\n",
    "        print(f\"Best Validation Accs at Epoch {BAE}\")\n",
    "        breaker()\n",
    "        print(\"Time Taken [{} Epochs] : {:.2f} minutes\".format(len(Losses), (time()-start_time)/60))\n",
    "    \n",
    "    return Losses, Accuracies, LRs, bestLoss, bestAccs, BLE, BAE, ble_name, bae_name\n",
    "\n",
    "\n",
    "# def predict_batch(model=None, dataloader=None, path=None, device=None) -> np.ndarray:\n",
    "#     model.load_state_dict(torch.load(path, map_location=device)[\"model_state_dict\"])\n",
    "#     model.to(device)    \n",
    "#     model.eval()\n",
    "    \n",
    "#     y_pred = torch.zeros(1, 1).to(device)\n",
    "    \n",
    "#     for X in dataloader:\n",
    "#         X = X.to(device)\n",
    "#         with torch.no_grad():\n",
    "#             output = torch.argmax(torch.exp(model(X)), dim=1)\n",
    "#         y_pred = torch.cat((y_pred, output.view(-1, 1)), dim=0)\n",
    "    \n",
    "#     return y_pred[1:].detach().cpu().numpy()"
   ]
  },
  {
   "cell_type": "markdown",
   "id": "3f974005",
   "metadata": {
    "papermill": {
     "duration": 0.004526,
     "end_time": "2023-01-10T06:20:37.988494",
     "exception": false,
     "start_time": "2023-01-10T06:20:37.983968",
     "status": "completed"
    },
    "tags": []
   },
   "source": [
    "### **Train**"
   ]
  },
  {
   "cell_type": "code",
   "execution_count": 8,
   "id": "ecc6f328",
   "metadata": {
    "execution": {
     "iopub.execute_input": "2023-01-10T06:20:37.997330Z",
     "iopub.status.busy": "2023-01-10T06:20:37.997069Z",
     "iopub.status.idle": "2023-01-10T06:20:38.026987Z",
     "shell.execute_reply": "2023-01-10T06:20:38.026118Z"
    },
    "papermill": {
     "duration": 0.036893,
     "end_time": "2023-01-10T06:20:38.029145",
     "exception": false,
     "start_time": "2023-01-10T06:20:37.992252",
     "status": "completed"
    },
    "tags": []
   },
   "outputs": [],
   "source": [
    "df = pd.read_csv(\"/kaggle/input/drc-dataframe/train.csv\")\n",
    "\n",
    "filepaths = df.filepaths.copy().values\n",
    "labels = df.labels.copy().values"
   ]
  },
  {
   "cell_type": "code",
   "execution_count": 9,
   "id": "1bd22e77",
   "metadata": {
    "execution": {
     "iopub.execute_input": "2023-01-10T06:20:38.038433Z",
     "iopub.status.busy": "2023-01-10T06:20:38.038159Z",
     "iopub.status.idle": "2023-01-10T07:02:13.900771Z",
     "shell.execute_reply": "2023-01-10T07:02:13.899836Z"
    },
    "papermill": {
     "duration": 2495.869778,
     "end_time": "2023-01-10T07:02:13.902965",
     "exception": false,
     "start_time": "2023-01-10T06:20:38.033187",
     "status": "completed"
    },
    "tags": []
   },
   "outputs": [
    {
     "name": "stdout",
     "output_type": "stream",
     "text": [
      "\n",
      "**************************************************\n",
      "\n",
      "Training Fold 1...\n",
      "\n",
      "**************************************************\n",
      "\n",
      "Epoch: 1 | Train Loss: 1.34095 | Valid Loss: 0.87623 | Train Accs: 0.59449 | Valid Accs: 0.66071 | Time: 82.65 seconds\n",
      "Epoch: 2 | Train Loss: 0.82855 | Valid Loss: 0.91666 | Train Accs: 0.70109 | Valid Accs: 0.68527 | Time: 49.53 seconds\n",
      "Epoch: 3 | Train Loss: 0.80108 | Valid Loss: 0.79528 | Train Accs: 0.71691 | Valid Accs: 0.72098 | Time: 49.52 seconds\n",
      "Epoch: 4 | Train Loss: 0.73354 | Valid Loss: 0.95690 | Train Accs: 0.72714 | Valid Accs: 0.65625 | Time: 50.16 seconds\n",
      "Epoch: 5 | Train Loss: 0.72558 | Valid Loss: 0.60699 | Train Accs: 0.73785 | Valid Accs: 0.76562 | Time: 51.04 seconds\n",
      "Epoch: 6 | Train Loss: 0.63562 | Valid Loss: 0.56376 | Train Accs: 0.76608 | Valid Accs: 0.79018 | Time: 51.26 seconds\n",
      "Epoch: 7 | Train Loss: 0.60196 | Valid Loss: 0.57299 | Train Accs: 0.77019 | Valid Accs: 0.77679 | Time: 50.11 seconds\n",
      "Epoch: 8 | Train Loss: 0.52823 | Valid Loss: 0.51258 | Train Accs: 0.80201 | Valid Accs: 0.78125 | Time: 50.06 seconds\n",
      "Epoch: 9 | Train Loss: 0.47372 | Valid Loss: 0.50815 | Train Accs: 0.82845 | Valid Accs: 0.82589 | Time: 50.17 seconds\n",
      "Epoch: 10 | Train Loss: 0.42577 | Valid Loss: 0.50985 | Train Accs: 0.84432 | Valid Accs: 0.80580 | Time: 48.42 seconds\n",
      "\n",
      "**************************************************\n",
      "\n",
      "Best Validation Loss at Epoch 9\n",
      "\n",
      "**************************************************\n",
      "\n",
      "Best Validation Accs at Epoch 9\n",
      "\n",
      "**************************************************\n",
      "\n",
      "Time Taken [10 Epochs] : 8.88 minutes\n",
      "\n",
      "**************************************************\n",
      "\n"
     ]
    },
    {
     "data": {
      "image/png": "[encoded data removed]",
      "text/plain": [
       "<Figure size 432x288 with 1 Axes>"
      ]
     },
     "metadata": {
      "needs_background": "light"
     },
     "output_type": "display_data"
    },
    {
     "name": "stdout",
     "output_type": "stream",
     "text": [
      "\n",
      "**************************************************\n",
      "\n"
     ]
    },
    {
     "data": {
      "image/png": "[encoded data removed]",
      "text/plain": [
       "<Figure size 432x288 with 1 Axes>"
      ]
     },
     "metadata": {
      "needs_background": "light"
     },
     "output_type": "display_data"
    },
    {
     "name": "stdout",
     "output_type": "stream",
     "text": [
      "\n",
      "**************************************************\n",
      "\n"
     ]
    },
    {
     "data": {
      "image/png": "[encoded data removed]",
      "text/plain": [
       "<Figure size 576x432 with 1 Axes>"
      ]
     },
     "metadata": {
      "needs_background": "light"
     },
     "output_type": "display_data"
    },
    {
     "name": "stdout",
     "output_type": "stream",
     "text": [
      "\n",
      "**************************************************\n",
      "\n",
      "\n",
      "**************************************************\n",
      "\n",
      "Training Fold 2...\n",
      "\n",
      "**************************************************\n",
      "\n",
      "Epoch: 1 | Train Loss: 1.25482 | Valid Loss: 1.39841 | Train Accs: 0.63383 | Valid Accs: 0.66518 | Time: 48.19 seconds\n",
      "Epoch: 2 | Train Loss: 0.86522 | Valid Loss: 0.88843 | Train Accs: 0.70389 | Valid Accs: 0.62946 | Time: 48.38 seconds\n",
      "Epoch: 3 | Train Loss: 0.78259 | Valid Loss: 0.84628 | Train Accs: 0.71241 | Valid Accs: 0.72545 | Time: 48.78 seconds\n",
      "Epoch: 4 | Train Loss: 0.73811 | Valid Loss: 0.74197 | Train Accs: 0.73282 | Valid Accs: 0.74554 | Time: 48.53 seconds\n",
      "Epoch: 5 | Train Loss: 0.69525 | Valid Loss: 0.72652 | Train Accs: 0.73899 | Valid Accs: 0.76339 | Time: 50.05 seconds\n",
      "Epoch: 6 | Train Loss: 0.65127 | Valid Loss: 0.66679 | Train Accs: 0.75712 | Valid Accs: 0.74777 | Time: 48.36 seconds\n",
      "Epoch: 7 | Train Loss: 0.57773 | Valid Loss: 0.65525 | Train Accs: 0.78059 | Valid Accs: 0.75223 | Time: 47.92 seconds\n",
      "Epoch: 8 | Train Loss: 0.52394 | Valid Loss: 0.57816 | Train Accs: 0.79235 | Valid Accs: 0.78571 | Time: 48.30 seconds\n",
      "Epoch: 9 | Train Loss: 0.46058 | Valid Loss: 0.57375 | Train Accs: 0.82544 | Valid Accs: 0.78571 | Time: 48.03 seconds\n",
      "Epoch: 10 | Train Loss: 0.42496 | Valid Loss: 0.54524 | Train Accs: 0.83907 | Valid Accs: 0.81027 | Time: 49.03 seconds\n",
      "\n",
      "**************************************************\n",
      "\n",
      "Best Validation Loss at Epoch 10\n",
      "\n",
      "**************************************************\n",
      "\n",
      "Best Validation Accs at Epoch 10\n",
      "\n",
      "**************************************************\n",
      "\n",
      "Time Taken [10 Epochs] : 8.09 minutes\n",
      "\n",
      "**************************************************\n",
      "\n"
     ]
    },
    {
     "data": {
      "image/png": "[encoded data removed]",
      "text/plain": [
       "<Figure size 432x288 with 1 Axes>"
      ]
     },
     "metadata": {
      "needs_background": "light"
     },
     "output_type": "display_data"
    },
    {
     "name": "stdout",
     "output_type": "stream",
     "text": [
      "\n",
      "**************************************************\n",
      "\n"
     ]
    },
    {
     "data": {
      "image/png": "[encoded data removed]",
      "text/plain": [
       "<Figure size 432x288 with 1 Axes>"
      ]
     },
     "metadata": {
      "needs_background": "light"
     },
     "output_type": "display_data"
    },
    {
     "name": "stdout",
     "output_type": "stream",
     "text": [
      "\n",
      "**************************************************\n",
      "\n"
     ]
    },
    {
     "data": {
      "image/png": "[encoded data removed]",
      "text/plain": [
       "<Figure size 576x432 with 1 Axes>"
      ]
     },
     "metadata": {
      "needs_background": "light"
     },
     "output_type": "display_data"
    },
    {
     "name": "stdout",
     "output_type": "stream",
     "text": [
      "\n",
      "**************************************************\n",
      "\n",
      "\n",
      "**************************************************\n",
      "\n",
      "Training Fold 3...\n",
      "\n",
      "**************************************************\n",
      "\n",
      "Epoch: 1 | Train Loss: 1.37672 | Valid Loss: 0.75194 | Train Accs: 0.59156 | Valid Accs: 0.67315 | Time: 48.00 seconds\n",
      "Epoch: 2 | Train Loss: 0.86166 | Valid Loss: 0.79098 | Train Accs: 0.69570 | Valid Accs: 0.71620 | Time: 48.36 seconds\n",
      "Epoch: 3 | Train Loss: 0.80561 | Valid Loss: 0.70502 | Train Accs: 0.70674 | Valid Accs: 0.74681 | Time: 48.20 seconds\n",
      "Epoch: 4 | Train Loss: 0.73829 | Valid Loss: 0.80682 | Train Accs: 0.73028 | Valid Accs: 0.71907 | Time: 48.25 seconds\n",
      "Epoch: 5 | Train Loss: 0.67525 | Valid Loss: 0.71263 | Train Accs: 0.75317 | Valid Accs: 0.76148 | Time: 48.46 seconds\n",
      "Epoch: 6 | Train Loss: 0.62606 | Valid Loss: 0.60132 | Train Accs: 0.76558 | Valid Accs: 0.75478 | Time: 49.02 seconds\n",
      "Epoch: 7 | Train Loss: 0.57652 | Valid Loss: 0.54321 | Train Accs: 0.79131 | Valid Accs: 0.81346 | Time: 49.17 seconds\n",
      "Epoch: 8 | Train Loss: 0.52663 | Valid Loss: 0.48823 | Train Accs: 0.79351 | Valid Accs: 0.80899 | Time: 49.34 seconds\n",
      "Epoch: 9 | Train Loss: 0.45615 | Valid Loss: 0.46553 | Train Accs: 0.81875 | Valid Accs: 0.83642 | Time: 49.03 seconds\n",
      "Epoch: 10 | Train Loss: 0.41171 | Valid Loss: 0.50361 | Train Accs: 0.84010 | Valid Accs: 0.80548 | Time: 48.15 seconds\n",
      "\n",
      "**************************************************\n",
      "\n",
      "Best Validation Loss at Epoch 9\n",
      "\n",
      "**************************************************\n",
      "\n",
      "Best Validation Accs at Epoch 9\n",
      "\n",
      "**************************************************\n",
      "\n",
      "Time Taken [10 Epochs] : 8.10 minutes\n",
      "\n",
      "**************************************************\n",
      "\n"
     ]
    },
    {
     "data": {
      "image/png": "[encoded data removed]",
      "text/plain": [
       "<Figure size 432x288 with 1 Axes>"
      ]
     },
     "metadata": {
      "needs_background": "light"
     },
     "output_type": "display_data"
    },
    {
     "name": "stdout",
     "output_type": "stream",
     "text": [
      "\n",
      "**************************************************\n",
      "\n"
     ]
    },
    {
     "data": {
      "image/png": "[encoded data removed]",
      "text/plain": [
       "<Figure size 432x288 with 1 Axes>"
      ]
     },
     "metadata": {
      "needs_background": "light"
     },
     "output_type": "display_data"
    },
    {
     "name": "stdout",
     "output_type": "stream",
     "text": [
      "\n",
      "**************************************************\n",
      "\n"
     ]
    },
    {
     "data": {
      "image/png": "[encoded data removed]",
      "text/plain": [
       "<Figure size 576x432 with 1 Axes>"
      ]
     },
     "metadata": {
      "needs_background": "light"
     },
     "output_type": "display_data"
    },
    {
     "name": "stdout",
     "output_type": "stream",
     "text": [
      "\n",
      "**************************************************\n",
      "\n",
      "\n",
      "**************************************************\n",
      "\n",
      "Training Fold 4...\n",
      "\n",
      "**************************************************\n",
      "\n",
      "Epoch: 1 | Train Loss: 1.29202 | Valid Loss: 0.80564 | Train Accs: 0.61745 | Valid Accs: 0.72481 | Time: 50.10 seconds\n",
      "Epoch: 2 | Train Loss: 0.87803 | Valid Loss: 0.90770 | Train Accs: 0.69351 | Valid Accs: 0.67953 | Time: 48.21 seconds\n",
      "Epoch: 3 | Train Loss: 0.82416 | Valid Loss: 0.80945 | Train Accs: 0.69732 | Valid Accs: 0.65497 | Time: 49.51 seconds\n",
      "Epoch: 4 | Train Loss: 0.71960 | Valid Loss: 0.74365 | Train Accs: 0.74286 | Valid Accs: 0.72640 | Time: 49.56 seconds\n",
      "Epoch: 5 | Train Loss: 0.65980 | Valid Loss: 0.68501 | Train Accs: 0.75836 | Valid Accs: 0.75542 | Time: 50.29 seconds\n",
      "Epoch: 6 | Train Loss: 0.64042 | Valid Loss: 0.67107 | Train Accs: 0.75511 | Valid Accs: 0.73980 | Time: 48.87 seconds\n",
      "Epoch: 7 | Train Loss: 0.58032 | Valid Loss: 0.62934 | Train Accs: 0.77898 | Valid Accs: 0.76052 | Time: 50.03 seconds\n",
      "Epoch: 8 | Train Loss: 0.50122 | Valid Loss: 0.54177 | Train Accs: 0.81461 | Valid Accs: 0.79241 | Time: 49.58 seconds\n",
      "Epoch: 9 | Train Loss: 0.45025 | Valid Loss: 0.55989 | Train Accs: 0.82468 | Valid Accs: 0.79847 | Time: 49.03 seconds\n",
      "Epoch: 10 | Train Loss: 0.41892 | Valid Loss: 0.53778 | Train Accs: 0.83912 | Valid Accs: 0.79847 | Time: 49.17 seconds\n",
      "\n",
      "**************************************************\n",
      "\n",
      "Best Validation Loss at Epoch 10\n",
      "\n",
      "**************************************************\n",
      "\n",
      "Best Validation Accs at Epoch 9\n",
      "\n",
      "**************************************************\n",
      "\n",
      "Time Taken [10 Epochs] : 8.24 minutes\n",
      "\n",
      "**************************************************\n",
      "\n"
     ]
    },
    {
     "data": {
      "image/png": "[encoded data removed]",
      "text/plain": [
       "<Figure size 432x288 with 1 Axes>"
      ]
     },
     "metadata": {
      "needs_background": "light"
     },
     "output_type": "display_data"
    },
    {
     "name": "stdout",
     "output_type": "stream",
     "text": [
      "\n",
      "**************************************************\n",
      "\n"
     ]
    },
    {
     "data": {
      "image/png": "[encoded data removed]",
      "text/plain": [
       "<Figure size 432x288 with 1 Axes>"
      ]
     },
     "metadata": {
      "needs_background": "light"
     },
     "output_type": "display_data"
    },
    {
     "name": "stdout",
     "output_type": "stream",
     "text": [
      "\n",
      "**************************************************\n",
      "\n"
     ]
    },
    {
     "data": {
      "image/png": "[encoded data removed]",
      "text/plain": [
       "<Figure size 576x432 with 1 Axes>"
      ]
     },
     "metadata": {
      "needs_background": "light"
     },
     "output_type": "display_data"
    },
    {
     "name": "stdout",
     "output_type": "stream",
     "text": [
      "\n",
      "**************************************************\n",
      "\n",
      "\n",
      "**************************************************\n",
      "\n",
      "Training Fold 5...\n",
      "\n",
      "**************************************************\n",
      "\n",
      "Epoch: 1 | Train Loss: 1.30706 | Valid Loss: 0.78732 | Train Accs: 0.60893 | Valid Accs: 0.71014 | Time: 48.11 seconds\n",
      "Epoch: 2 | Train Loss: 0.85744 | Valid Loss: 1.18709 | Train Accs: 0.69326 | Valid Accs: 0.55166 | Time: 48.36 seconds\n",
      "Epoch: 3 | Train Loss: 0.89270 | Valid Loss: 0.79878 | Train Accs: 0.68377 | Valid Accs: 0.71907 | Time: 48.04 seconds\n",
      "Epoch: 4 | Train Loss: 0.72681 | Valid Loss: 0.66422 | Train Accs: 0.73093 | Valid Accs: 0.72417 | Time: 48.96 seconds\n",
      "Epoch: 5 | Train Loss: 0.70620 | Valid Loss: 0.75598 | Train Accs: 0.74724 | Valid Accs: 0.70568 | Time: 49.19 seconds\n",
      "Epoch: 6 | Train Loss: 0.67139 | Valid Loss: 0.69895 | Train Accs: 0.75097 | Valid Accs: 0.74649 | Time: 49.17 seconds\n",
      "Epoch: 7 | Train Loss: 0.59104 | Valid Loss: 0.64613 | Train Accs: 0.78157 | Valid Accs: 0.75925 | Time: 49.40 seconds\n",
      "Epoch: 8 | Train Loss: 0.52360 | Valid Loss: 0.59602 | Train Accs: 0.80390 | Valid Accs: 0.79624 | Time: 48.53 seconds\n",
      "Epoch: 9 | Train Loss: 0.45675 | Valid Loss: 0.58112 | Train Accs: 0.82995 | Valid Accs: 0.77679 | Time: 48.36 seconds\n",
      "Epoch: 10 | Train Loss: 0.41206 | Valid Loss: 0.56566 | Train Accs: 0.84878 | Valid Accs: 0.79401 | Time: 48.61 seconds\n",
      "\n",
      "**************************************************\n",
      "\n",
      "Best Validation Loss at Epoch 10\n",
      "\n",
      "**************************************************\n",
      "\n",
      "Best Validation Accs at Epoch 8\n",
      "\n",
      "**************************************************\n",
      "\n",
      "Time Taken [10 Epochs] : 8.11 minutes\n",
      "\n",
      "**************************************************\n",
      "\n"
     ]
    },
    {
     "data": {
      "image/png": "[encoded data removed]",
      "text/plain": [
       "<Figure size 432x288 with 1 Axes>"
      ]
     },
     "metadata": {
      "needs_background": "light"
     },
     "output_type": "display_data"
    },
    {
     "name": "stdout",
     "output_type": "stream",
     "text": [
      "\n",
      "**************************************************\n",
      "\n"
     ]
    },
    {
     "data": {
      "image/png": "[encoded data removed]",
      "text/plain": [
       "<Figure size 432x288 with 1 Axes>"
      ]
     },
     "metadata": {
      "needs_background": "light"
     },
     "output_type": "display_data"
    },
    {
     "name": "stdout",
     "output_type": "stream",
     "text": [
      "\n",
      "**************************************************\n",
      "\n"
     ]
    },
    {
     "data": {
      "image/png": "[encoded data removed]",
      "text/plain": [
       "<Figure size 576x432 with 1 Axes>"
      ]
     },
     "metadata": {
      "needs_background": "light"
     },
     "output_type": "display_data"
    },
    {
     "name": "stdout",
     "output_type": "stream",
     "text": [
      "\n",
      "**************************************************\n",
      "\n"
     ]
    }
   ],
   "source": [
    "fold: int = 1\n",
    "BLs: list = []\n",
    "BAs: list = []\n",
    "    \n",
    "cfg.batch_size = 16\n",
    "cfg.epochs = 10\n",
    "    \n",
    "for tr_idx, va_idx in StratifiedKFold(n_splits=cfg.n_splits, random_state=cfg.seed, shuffle=True).split(filepaths, labels):\n",
    "#     if fold == 1: break\n",
    "#     fold += 1\n",
    "\n",
    "    tr_filepaths, va_filepaths = filepaths[tr_idx], filepaths[va_idx] \n",
    "    tr_labels, va_labels       = labels[tr_idx], labels[va_idx]\n",
    "\n",
    "    tr_data_setup = DS(\n",
    "        filepaths=tr_filepaths, \n",
    "        labels=tr_labels.reshape(-1, 1),\n",
    "        size=cfg.size,\n",
    "        transform=cfg.train_transform\n",
    "    )\n",
    "\n",
    "    va_data_setup = DS(\n",
    "        filepaths=va_filepaths, \n",
    "        labels=va_labels.reshape(-1, 1),\n",
    "        size=cfg.size,\n",
    "        transform=cfg.train_transform\n",
    "    )\n",
    "\n",
    "    dataloaders = {\n",
    "        \"train\" : DL(tr_data_setup, batch_size=cfg.batch_size, shuffle=True, generator=torch.manual_seed(cfg.seed)),\n",
    "        \"valid\" : DL(va_data_setup, batch_size=cfg.batch_size, shuffle=False),\n",
    "    }\n",
    "\n",
    "    cfg.steps_per_epoch=len(dataloaders[\"train\"])\n",
    "\n",
    "    torch.manual_seed(cfg.seed)\n",
    "    model = Model().to(cfg.device)\n",
    "\n",
    "    optimizer = optim.Adam([p for p in model.parameters() if p.requires_grad], lr=cfg.lr, weight_decay=cfg.wd)\n",
    "    # optimizer = optim.AdamW([p for p in model.parameters() if p.requires_grad], lr=cfg.lr, weight_decay=cfg.wd)\n",
    "    # optimizer = optim.SGD([p for p in model.parameters() if p.requires_grad], lr=cfg.lr, weight_decay=cfg.wd, momentum=0.9)\n",
    "\n",
    "    scheduler_oclr = optim.lr_scheduler.OneCycleLR(\n",
    "        optimizer=optimizer, \n",
    "        max_lr=cfg.max_lr, \n",
    "        epochs=cfg.epochs, \n",
    "        steps_per_epoch=cfg.steps_per_epoch,\n",
    "        pct_start=cfg.pct_start, \n",
    "        div_factor=cfg.div_factor, \n",
    "        final_div_factor=cfg.final_div_factor\n",
    "    )\n",
    "\n",
    "    # scheduler_rlrop = optim.lr_scheduler.ReduceLROnPlateau(\n",
    "    #     optimizer=optimizer,\n",
    "    #     patience=cfg.patience,\n",
    "    #     eps=cfg.eps,\n",
    "    #     verbose=True\n",
    "    # )\n",
    "\n",
    "    # scheduler_oclr = None\n",
    "    scheduler_rlrop = None\n",
    "\n",
    "\n",
    "    L, A, LR, BL, BA, _, _, _, _ = fit(\n",
    "        model=model, \n",
    "        optimizer=optimizer, \n",
    "        scheduler_oclr=scheduler_oclr,\n",
    "        scheduler_rlrop=scheduler_rlrop,\n",
    "        epochs=cfg.epochs, \n",
    "        early_stopping_patience=cfg.early_stopping, \n",
    "        dataloaders=dataloaders, \n",
    "        device=cfg.device,\n",
    "        save_path=cfg.save_path,\n",
    "        fold=fold,\n",
    "        verbose=True\n",
    "    )\n",
    "\n",
    "\n",
    "    breaker()\n",
    "    show_loss_graphs(L)\n",
    "    breaker()\n",
    "    show_accuracy_graphs(A)\n",
    "    breaker()\n",
    "    if scheduler_oclr:\n",
    "        show_lr_graph(LR)\n",
    "        breaker()\n",
    "\n",
    "    BLs.append(BL)\n",
    "    BAs.append(BA)\n",
    "\n",
    "    fold += 1"
   ]
  },
  {
   "cell_type": "markdown",
   "id": "6fcd9c0f",
   "metadata": {
    "papermill": {
     "duration": 0.010856,
     "end_time": "2023-01-10T07:02:13.925217",
     "exception": false,
     "start_time": "2023-01-10T07:02:13.914361",
     "status": "completed"
    },
    "tags": []
   },
   "source": [
    "### **Best Model**"
   ]
  },
  {
   "cell_type": "code",
   "execution_count": 10,
   "id": "139f5d19",
   "metadata": {
    "execution": {
     "iopub.execute_input": "2023-01-10T07:02:13.948311Z",
     "iopub.status.busy": "2023-01-10T07:02:13.947999Z",
     "iopub.status.idle": "2023-01-10T07:02:13.955173Z",
     "shell.execute_reply": "2023-01-10T07:02:13.954047Z"
    },
    "papermill": {
     "duration": 0.021198,
     "end_time": "2023-01-10T07:02:13.957229",
     "exception": false,
     "start_time": "2023-01-10T07:02:13.936031",
     "status": "completed"
    },
    "tags": []
   },
   "outputs": [
    {
     "name": "stdout",
     "output_type": "stream",
     "text": [
      "\n",
      "**************************************************\n",
      "\n",
      "Best Loss Model Fold     : 3\n",
      "Best Accuracy Model Fold : 3\n",
      "\n",
      "**************************************************\n",
      "\n"
     ]
    }
   ],
   "source": [
    "BL = np.inf\n",
    "for i in range(len(BLs)):\n",
    "    if BLs[i][\"valid\"] < BL:\n",
    "        BL = BLs[i][\"valid\"]\n",
    "        best_loss_index = i\n",
    "\n",
    "        \n",
    "BA = 0.0\n",
    "for i in range(len(BAs)):\n",
    "    if BAs[i][\"valid\"] > BA:\n",
    "        BA = BAs[i][\"valid\"]\n",
    "        best_accs_index = i\n",
    "\n",
    "breaker()\n",
    "print(f\"Best Loss Model Fold     : {best_loss_index + 1}\")\n",
    "print(f\"Best Accuracy Model Fold : {best_accs_index + 1}\")\n",
    "breaker()"
   ]
  }
 ],
 "metadata": {
  "kernelspec": {
   "display_name": "Python 3",
   "language": "python",
   "name": "python3"
  },
  "language_info": {
   "codemirror_mode": {
    "name": "ipython",
    "version": 3
   },
   "file_extension": ".py",
   "mimetype": "text/x-python",
   "name": "python",
   "nbconvert_exporter": "python",
   "pygments_lexer": "ipython3",
   "version": "3.7.12"
  },
  "papermill": {
   "default_parameters": {},
   "duration": 2521.528632,
   "end_time": "2023-01-10T07:02:16.560066",
   "environment_variables": {},
   "exception": null,
   "input_path": "__notebook__.ipynb",
   "output_path": "__notebook__.ipynb",
   "parameters": {},
   "start_time": "2023-01-10T06:20:15.031434",
   "version": "2.3.4"
  }
 },
 "nbformat": 4,
 "nbformat_minor": 5
}
