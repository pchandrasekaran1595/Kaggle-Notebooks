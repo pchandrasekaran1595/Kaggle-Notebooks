{
 "cells": [
  {
   "cell_type": "markdown",
   "id": "e05e102c",
   "metadata": {
    "_cell_guid": "b1076dfc-b9ad-4769-8c92-a6c4dae69d19",
    "_uuid": "8f2839f25d086af736a60e9eeb907d3b93b6e0e5",
    "papermill": {
     "duration": 0.004668,
     "end_time": "2023-01-12T07:30:05.071727",
     "exception": false,
     "start_time": "2023-01-12T07:30:05.067059",
     "status": "completed"
    },
    "tags": []
   },
   "source": [
    "### **Setup**"
   ]
  },
  {
   "cell_type": "code",
   "execution_count": 1,
   "id": "d0c315c8",
   "metadata": {
    "execution": {
     "iopub.execute_input": "2023-01-12T07:30:05.081423Z",
     "iopub.status.busy": "2023-01-12T07:30:05.080570Z",
     "iopub.status.idle": "2023-01-12T07:30:16.608175Z",
     "shell.execute_reply": "2023-01-12T07:30:16.606906Z"
    },
    "papermill": {
     "duration": 11.536258,
     "end_time": "2023-01-12T07:30:16.611663",
     "exception": false,
     "start_time": "2023-01-12T07:30:05.075405",
     "status": "completed"
    },
    "tags": []
   },
   "outputs": [
    {
     "name": "stderr",
     "output_type": "stream",
     "text": [
      "WARNING: Running pip as the 'root' user can result in broken permissions and conflicting behaviour with the system package manager. It is recommended to use a virtual environment instead: https://pip.pypa.io/warnings/venv\n"
     ]
    }
   ],
   "source": [
    "%%bash\n",
    "pip install timm -q"
   ]
  },
  {
   "cell_type": "markdown",
   "id": "cf17934d",
   "metadata": {
    "papermill": {
     "duration": 0.003439,
     "end_time": "2023-01-12T07:30:16.619615",
     "exception": false,
     "start_time": "2023-01-12T07:30:16.616176",
     "status": "completed"
    },
    "tags": []
   },
   "source": [
    "### **Library Imports**"
   ]
  },
  {
   "cell_type": "code",
   "execution_count": 2,
   "id": "7fcc397e",
   "metadata": {
    "execution": {
     "iopub.execute_input": "2023-01-12T07:30:16.628185Z",
     "iopub.status.busy": "2023-01-12T07:30:16.627870Z",
     "iopub.status.idle": "2023-01-12T07:30:20.487499Z",
     "shell.execute_reply": "2023-01-12T07:30:20.486516Z"
    },
    "papermill": {
     "duration": 3.866741,
     "end_time": "2023-01-12T07:30:20.489940",
     "exception": false,
     "start_time": "2023-01-12T07:30:16.623199",
     "status": "completed"
    },
    "tags": []
   },
   "outputs": [],
   "source": [
    "import os\n",
    "import re\n",
    "import cv2\n",
    "import timm\n",
    "import torch\n",
    "import numpy as np\n",
    "import pandas as pd\n",
    "import matplotlib.pyplot as plt\n",
    "\n",
    "from time import time\n",
    "from typing import Union\n",
    "from torch import nn, optim\n",
    "from torch.utils.data import Dataset\n",
    "from torch.utils.data import DataLoader as DL\n",
    "from torchvision import transforms\n",
    "\n",
    "from sklearn.model_selection import StratifiedKFold"
   ]
  },
  {
   "cell_type": "markdown",
   "id": "2ebad631",
   "metadata": {
    "papermill": {
     "duration": 0.003362,
     "end_time": "2023-01-12T07:30:20.497305",
     "exception": false,
     "start_time": "2023-01-12T07:30:20.493943",
     "status": "completed"
    },
    "tags": []
   },
   "source": [
    "### **Utilities and Helpers**"
   ]
  },
  {
   "cell_type": "code",
   "execution_count": 3,
   "id": "e4733644",
   "metadata": {
    "execution": {
     "iopub.execute_input": "2023-01-12T07:30:20.506058Z",
     "iopub.status.busy": "2023-01-12T07:30:20.505359Z",
     "iopub.status.idle": "2023-01-12T07:30:20.517654Z",
     "shell.execute_reply": "2023-01-12T07:30:20.516770Z"
    },
    "papermill": {
     "duration": 0.018887,
     "end_time": "2023-01-12T07:30:20.519719",
     "exception": false,
     "start_time": "2023-01-12T07:30:20.500832",
     "status": "completed"
    },
    "tags": []
   },
   "outputs": [],
   "source": [
    "SEED: int = 42\n",
    "SIZE: int = 384\n",
    "\n",
    "\n",
    "def breaker(num: int=50, char: str=\"*\") -> None: print(\"\\n\" + num*char + \"\\n\")\n",
    "\n",
    "    \n",
    "def get_image(path: str, size: int=224) -> np.ndarray:\n",
    "    image = cv2.imread(path, cv2.IMREAD_COLOR)\n",
    "    image = cv2.cvtColor(src=image, code=cv2.COLOR_BGR2RGB)\n",
    "    return cv2.resize(src=image, dsize=(size, size), interpolation=cv2.INTER_AREA)\n",
    "\n",
    "    \n",
    "def show_loss_graphs(L: list) -> None:\n",
    "    TL, VL = [], []\n",
    "    for i in range(len(L)):\n",
    "        TL.append(L[i][\"train\"])\n",
    "        VL.append(L[i][\"valid\"])\n",
    "    x_Axis = np.arange(1, len(TL) + 1)\n",
    "    plt.figure()\n",
    "    plt.plot(x_Axis, TL, \"r\", label=\"Train\")\n",
    "    plt.plot(x_Axis, VL, \"b\", label=\"Valid\")\n",
    "    plt.legend()\n",
    "    plt.grid()\n",
    "    plt.title(\"Loss Graph\")\n",
    "    plt.show()\n",
    "\n",
    "    \n",
    "def show_accuracy_graphs(A: list) -> None:\n",
    "    TA, VA = [], []\n",
    "    for i in range(len(A)):\n",
    "        TA.append(A[i][\"train\"])\n",
    "        VA.append(A[i][\"valid\"])\n",
    "    x_Axis = np.arange(1, len(TA) + 1)\n",
    "    plt.figure()\n",
    "    plt.plot(x_Axis, TA, \"r\", label=\"Train\")\n",
    "    plt.plot(x_Axis, VA, \"b\", label=\"Valid\")\n",
    "    plt.legend()\n",
    "    plt.grid()\n",
    "    plt.title(\"Accuracy Graph\")\n",
    "    plt.show()\n",
    "    \n",
    "\n",
    "def show_lr_graph(LR: list) -> None:\n",
    "    x_Axis = [i+1 for i in range(len(LR))]\n",
    "    plt.figure(figsize=(8, 6))\n",
    "    plt.plot(x_Axis, LR, \"rx\")\n",
    "    plt.grid()\n",
    "    plt.show()"
   ]
  },
  {
   "cell_type": "markdown",
   "id": "ed8451d4",
   "metadata": {
    "papermill": {
     "duration": 0.003455,
     "end_time": "2023-01-12T07:30:20.526735",
     "exception": false,
     "start_time": "2023-01-12T07:30:20.523280",
     "status": "completed"
    },
    "tags": []
   },
   "source": [
    "\n",
    "\n",
    "### **Configuration**"
   ]
  },
  {
   "cell_type": "code",
   "execution_count": 4,
   "id": "60de8e24",
   "metadata": {
    "execution": {
     "iopub.execute_input": "2023-01-12T07:30:20.535574Z",
     "iopub.status.busy": "2023-01-12T07:30:20.534712Z",
     "iopub.status.idle": "2023-01-12T07:30:20.617151Z",
     "shell.execute_reply": "2023-01-12T07:30:20.616177Z"
    },
    "papermill": {
     "duration": 0.089242,
     "end_time": "2023-01-12T07:30:20.619500",
     "exception": false,
     "start_time": "2023-01-12T07:30:20.530258",
     "status": "completed"
    },
    "tags": []
   },
   "outputs": [],
   "source": [
    "class CFG(object):\n",
    "    def __init__(self, \n",
    "                 seed: int = 42,\n",
    "                 size: int = 224,\n",
    "                 n_splits: int = 5,\n",
    "                 batch_size: int = 16,\n",
    "                 epochs: int = 25,\n",
    "                 early_stopping: int = 5,\n",
    "                 lr: float = 1e-4,\n",
    "                 wd: float = 0.0,\n",
    "                 max_lr: float = 1e-3,\n",
    "                 pct_start: float = 0.2,\n",
    "                 steps_per_epoch: int = 100,\n",
    "                 div_factor: int = 1e3, \n",
    "                 final_div_factor: float = 1e3,\n",
    "                 ):\n",
    "        self.seed = seed\n",
    "        self.size = size\n",
    "        self.n_splits = n_splits\n",
    "        self.batch_size = batch_size\n",
    "        self.epochs = epochs\n",
    "        self.early_stopping = early_stopping\n",
    "        self.lr = lr\n",
    "        self.wd = wd\n",
    "        self.max_lr = max_lr\n",
    "        self.pct_start = pct_start\n",
    "        self.steps_per_epoch = steps_per_epoch\n",
    "        self.div_factor = div_factor\n",
    "        self.final_div_factor = final_div_factor\n",
    "        self.device = torch.device(\"cuda\" if torch.cuda.is_available() else \"cpu\")\n",
    "        \n",
    "        if self.size == 224:\n",
    "            self.train_transform = transforms.Compose([\n",
    "                transforms.ToTensor(),\n",
    "                transforms.Normalize([0.41080, 0.21938, 0.07357], [0.23762, 0.13099, 0.04847]),\n",
    "                transforms.RandomAffine(degrees=(-45, 45), translate=(0.15, 0.15), scale=(0.5, 1.5)),\n",
    "                transforms.RandomHorizontalFlip(p=0.25),\n",
    "                transforms.RandomVerticalFlip(p=0.25),\n",
    "            ])\n",
    "            self.valid_transform = transforms.Compose([\n",
    "                transforms.ToTensor(),\n",
    "                transforms.Normalize([0.41080, 0.21938, 0.07357], [0.23762, 0.13099, 0.04847]),\n",
    "            ])\n",
    "        \n",
    "        if self.size == 384:\n",
    "            self.train_transform = transforms.Compose([\n",
    "                transforms.ToTensor(),\n",
    "                transforms.Normalize([0.41076, 0.21934, 0.07357], [0.23796, 0.13130, 0.04884]),\n",
    "                transforms.RandomAffine(degrees=(-45, 45), translate=(0.15, 0.15), scale=(0.5, 1.5)),\n",
    "                transforms.RandomHorizontalFlip(p=0.25),\n",
    "                transforms.RandomVerticalFlip(p=0.25),\n",
    "            ])\n",
    "            self.valid_transform = transforms.Compose([\n",
    "                transforms.ToTensor(),\n",
    "                transforms.Normalize([0.41076, 0.21934, 0.07357], [0.23796, 0.13130, 0.04884]),\n",
    "            ])\n",
    "        \n",
    "        if self.size == 512:\n",
    "            self.train_transform = transforms.Compose([\n",
    "                transforms.ToTensor(),\n",
    "                transforms.Normalize([0.41071, 0.21929, 0.07348], [0.23807, 0.13140, 0.04898]),\n",
    "                transforms.RandomAffine(degrees=(-45, 45), translate=(0.15, 0.15), scale=(0.5, 1.5)),\n",
    "                transforms.RandomHorizontalFlip(p=0.25),\n",
    "                transforms.RandomVerticalFlip(p=0.25),\n",
    "            ])\n",
    "            self.valid_transform = transforms.Compose([\n",
    "                transforms.ToTensor(),\n",
    "                transforms.Normalize([0.41071, 0.21929, 0.07348], [0.23807, 0.13140, 0.04898]),\n",
    "            ])\n",
    "                                \n",
    "        self.save_path = \"saves\"\n",
    "        if not os.path.exists(self.save_path): os.makedirs(self.save_path)\n",
    "    \n",
    "cfg = CFG(\n",
    "    seed=SEED, \n",
    "    size=SIZE\n",
    ")"
   ]
  },
  {
   "cell_type": "markdown",
   "id": "d1484982",
   "metadata": {
    "papermill": {
     "duration": 0.003666,
     "end_time": "2023-01-12T07:30:20.627083",
     "exception": false,
     "start_time": "2023-01-12T07:30:20.623417",
     "status": "completed"
    },
    "tags": []
   },
   "source": [
    "### **Dataset Template**"
   ]
  },
  {
   "cell_type": "code",
   "execution_count": 5,
   "id": "780199c8",
   "metadata": {
    "execution": {
     "iopub.execute_input": "2023-01-12T07:30:20.636285Z",
     "iopub.status.busy": "2023-01-12T07:30:20.635417Z",
     "iopub.status.idle": "2023-01-12T07:30:20.642643Z",
     "shell.execute_reply": "2023-01-12T07:30:20.641717Z"
    },
    "papermill": {
     "duration": 0.013982,
     "end_time": "2023-01-12T07:30:20.644684",
     "exception": false,
     "start_time": "2023-01-12T07:30:20.630702",
     "status": "completed"
    },
    "tags": []
   },
   "outputs": [],
   "source": [
    "class DS(Dataset):\n",
    "    def __init__(\n",
    "        self, \n",
    "        filepaths: np.ndarray, \n",
    "        size: int,\n",
    "        labels: Union[np.ndarray, None]=None, \n",
    "        transform=None\n",
    "    ):\n",
    "        \n",
    "        self.filepaths = filepaths\n",
    "        self.labels = labels\n",
    "        self.size = size\n",
    "        self.transform = transform\n",
    "    \n",
    "    def __len__(self):\n",
    "        return self.filepaths.shape[0]\n",
    "    \n",
    "    def __getitem__(self, idx):\n",
    "        image = get_image(self.filepaths[idx], self.size)\n",
    "        if self.labels is None:\n",
    "            return self.transform(image)\n",
    "        return self.transform(image), torch.LongTensor(self.labels[idx])"
   ]
  },
  {
   "cell_type": "markdown",
   "id": "679b8c19",
   "metadata": {
    "papermill": {
     "duration": 0.003615,
     "end_time": "2023-01-12T07:30:20.652053",
     "exception": false,
     "start_time": "2023-01-12T07:30:20.648438",
     "status": "completed"
    },
    "tags": []
   },
   "source": [
    "### **Model**"
   ]
  },
  {
   "cell_type": "code",
   "execution_count": 6,
   "id": "c0b698b2",
   "metadata": {
    "execution": {
     "iopub.execute_input": "2023-01-12T07:30:20.661797Z",
     "iopub.status.busy": "2023-01-12T07:30:20.660877Z",
     "iopub.status.idle": "2023-01-12T07:30:20.668257Z",
     "shell.execute_reply": "2023-01-12T07:30:20.667375Z"
    },
    "papermill": {
     "duration": 0.01447,
     "end_time": "2023-01-12T07:30:20.670336",
     "exception": false,
     "start_time": "2023-01-12T07:30:20.655866",
     "status": "completed"
    },
    "tags": []
   },
   "outputs": [],
   "source": [
    "class Model(nn.Module):\n",
    "    def __init__(self):\n",
    "        super(Model, self).__init__()\n",
    "            \n",
    "        self.model = timm.create_model(model_name=\"efficientnet_b4\", pretrained=True)\n",
    "        self.freeze()\n",
    "        self.model.classifier = nn.Linear(in_features=self.model.classifier.in_features, out_features=5)\n",
    "\n",
    "    def freeze(self):\n",
    "        for params in self.parameters():\n",
    "            params.requires_grad = False\n",
    "        \n",
    "    def forward(self, x):\n",
    "        return nn.LogSoftmax(dim=1)(self.model(x))"
   ]
  },
  {
   "cell_type": "markdown",
   "id": "ab5fd7b5",
   "metadata": {
    "papermill": {
     "duration": 0.003754,
     "end_time": "2023-01-12T07:30:20.677963",
     "exception": false,
     "start_time": "2023-01-12T07:30:20.674209",
     "status": "completed"
    },
    "tags": []
   },
   "source": [
    "### **Fit and Predict**"
   ]
  },
  {
   "cell_type": "code",
   "execution_count": 7,
   "id": "257792b7",
   "metadata": {
    "execution": {
     "iopub.execute_input": "2023-01-12T07:30:20.686905Z",
     "iopub.status.busy": "2023-01-12T07:30:20.686578Z",
     "iopub.status.idle": "2023-01-12T07:30:20.707236Z",
     "shell.execute_reply": "2023-01-12T07:30:20.706263Z"
    },
    "papermill": {
     "duration": 0.027544,
     "end_time": "2023-01-12T07:30:20.709226",
     "exception": false,
     "start_time": "2023-01-12T07:30:20.681682",
     "status": "completed"
    },
    "tags": []
   },
   "outputs": [],
   "source": [
    "def fit(\n",
    "    model=None,\n",
    "    optimizer=None, \n",
    "    scheduler_rlrop=None,\n",
    "    scheduler_oclr=None,\n",
    "    epochs=None, \n",
    "    early_stopping_patience=None, \n",
    "    dataloaders=None, \n",
    "    fold=None, \n",
    "    save_path=None,\n",
    "    device=None,\n",
    "    verbose=False\n",
    ") -> tuple:\n",
    "    \n",
    "    def get_accuracy(y_pred, y_true):\n",
    "        y_pred = torch.argmax(y_pred, dim=1)\n",
    "        return torch.count_nonzero(y_pred == y_true).item() / len(y_pred)\n",
    "    \n",
    "    \n",
    "    if verbose:\n",
    "        breaker()\n",
    "        if fold: print(f\"Training Fold {fold}...\")\n",
    "        else: print(\"Training ...\")\n",
    "        breaker()\n",
    "        \n",
    "    bestLoss: dict = {\"train\" : np.inf, \"valid\" : np.inf} \n",
    "    bestAccs: dict = {\"train\" : 0.0, \"valid\" : 0.0}\n",
    "    \n",
    "    Losses: list = []\n",
    "    Accuracies: list = [] \n",
    "    LRs: list = []\n",
    "        \n",
    "    if fold: \n",
    "        ble_name = f\"ble_state_fold_{fold}.pt\"\n",
    "        bae_name = f\"bae_state_fold_{fold}.pt\"\n",
    "    else: \n",
    "        ble_name = f\"ble_state.pt\"\n",
    "        bae_name = f\"bae_state.pt\"\n",
    "        \n",
    "    start_time = time()\n",
    "    for e in range(epochs):\n",
    "        e_st = time()\n",
    "        epochLoss: dict = {\"train\" : 0.0, \"valid\" : 0.0} \n",
    "        epochAccs: dict = {\"train\" : 0.0, \"valid\" : 0.0}\n",
    "\n",
    "        for phase in [\"train\", \"valid\"]:\n",
    "            if phase == \"train\":\n",
    "                model.train()\n",
    "            else:\n",
    "                model.eval()\n",
    "            \n",
    "            lossPerPass: list = []\n",
    "            accsPerPass: list = []\n",
    "                \n",
    "            for X, y in dataloaders[phase]:\n",
    "                X, y = X.to(device), y.to(device).view(-1)\n",
    "\n",
    "                optimizer.zero_grad()\n",
    "                with torch.set_grad_enabled(phase == \"train\"):\n",
    "                    output = model(X)\n",
    "                    loss = nn.NLLLoss()(output, y)\n",
    "                    if phase == \"train\":\n",
    "                        loss.backward()\n",
    "                        optimizer.step()\n",
    "                        if scheduler_oclr: scheduler_oclr.step()\n",
    "                lossPerPass.append(loss.item())\n",
    "                accsPerPass.append(get_accuracy(output, y))\n",
    "            epochLoss[phase] = np.mean(np.array(lossPerPass))\n",
    "            epochAccs[phase] = np.mean(np.array(accsPerPass))\n",
    "        if scheduler_oclr: LRs.append(scheduler_oclr.get_last_lr())\n",
    "        Losses.append(epochLoss)\n",
    "        Accuracies.append(epochAccs)\n",
    "        \n",
    "        if scheduler_oclr:\n",
    "            save_dict = {\"model_state_dict\"     : model.state_dict(),\n",
    "                         \"optim_state_dict\"     : optimizer.state_dict(),\n",
    "                         \"scheduler_state_dict\" : scheduler_oclr.state_dict()}\n",
    "        \n",
    "        elif scheduler_rlrop:\n",
    "            save_dict = {\"model_state_dict\"     : model.state_dict(),\n",
    "                         \"optim_state_dict\"     : optimizer.state_dict(),\n",
    "                         \"scheduler_state_dict\" : scheduler_rlrop.state_dict()}\n",
    "        \n",
    "        else:\n",
    "            save_dict = {\"model_state_dict\"     : model.state_dict(),\n",
    "                         \"optim_state_dict\"     : optimizer.state_dict()}\n",
    "        \n",
    "        if early_stopping_patience:\n",
    "            if epochLoss[\"valid\"] < bestLoss[\"valid\"]:\n",
    "                bestLoss = epochLoss\n",
    "                BLE = e + 1\n",
    "                torch.save(save_dict, os.path.join(save_path, ble_name))\n",
    "                torch.save(save_dict, os.path.join(save_path, bae_name))\n",
    "                early_stopping_step = 0\n",
    "            else:\n",
    "                early_stopping_step += 1\n",
    "                if early_stopping_step > early_stopping_patience:\n",
    "                    print(\"\\nEarly Stopping at Epoch {}\".format(e + 1))\n",
    "                    break\n",
    "        \n",
    "        if epochLoss[\"valid\"] < bestLoss[\"valid\"]:\n",
    "            bestLoss = epochLoss\n",
    "            BLE = e + 1\n",
    "            torch.save(save_dict,os.path.join(save_path, ble_name))\n",
    "        \n",
    "        if epochAccs[\"valid\"] > bestAccs[\"valid\"]:\n",
    "            bestAccs = epochAccs\n",
    "            BAE = e + 1\n",
    "            torch.save(save_dict,os.path.join(save_path, bae_name))\n",
    "        \n",
    "        if scheduler_rlrop: scheduler_rlrop.step(epochLoss[\"valid\"])\n",
    "        \n",
    "        if verbose:\n",
    "            print(\"Epoch: {} | Train Loss: {:.5f} | Valid Loss: {:.5f} |\\\n",
    " Train Accs: {:.5f} | Valid Accs: {:.5f} | Time: {:.2f} seconds\".format(e+1, \n",
    "                                                                        epochLoss[\"train\"], epochLoss[\"valid\"], \n",
    "                                                                        epochAccs[\"train\"], epochAccs[\"valid\"], \n",
    "                                                                        time()-e_st))\n",
    "\n",
    "    if verbose:                                           \n",
    "        breaker()\n",
    "        print(f\"Best Validation Loss at Epoch {BLE}\")\n",
    "        breaker()\n",
    "        print(f\"Best Validation Accs at Epoch {BAE}\")\n",
    "        breaker()\n",
    "        print(\"Time Taken [{} Epochs] : {:.2f} minutes\".format(len(Losses), (time()-start_time)/60))\n",
    "    \n",
    "    return Losses, Accuracies, LRs, bestLoss, bestAccs, BLE, BAE, ble_name, bae_name\n",
    "\n",
    "\n",
    "# def predict_batch(model=None, dataloader=None, path=None, device=None) -> np.ndarray:\n",
    "#     model.load_state_dict(torch.load(path, map_location=device)[\"model_state_dict\"])\n",
    "#     model.to(device)    \n",
    "#     model.eval()\n",
    "    \n",
    "#     y_pred = torch.zeros(1, 1).to(device)\n",
    "    \n",
    "#     for X in dataloader:\n",
    "#         X = X.to(device)\n",
    "#         with torch.no_grad():\n",
    "#             output = torch.argmax(torch.exp(model(X)), dim=1)\n",
    "#         y_pred = torch.cat((y_pred, output.view(-1, 1)), dim=0)\n",
    "    \n",
    "#     return y_pred[1:].detach().cpu().numpy()"
   ]
  },
  {
   "cell_type": "markdown",
   "id": "1f51eba1",
   "metadata": {
    "papermill": {
     "duration": 0.004518,
     "end_time": "2023-01-12T07:30:20.717555",
     "exception": false,
     "start_time": "2023-01-12T07:30:20.713037",
     "status": "completed"
    },
    "tags": []
   },
   "source": [
    "### **Train**"
   ]
  },
  {
   "cell_type": "code",
   "execution_count": 8,
   "id": "610fe54e",
   "metadata": {
    "execution": {
     "iopub.execute_input": "2023-01-12T07:30:20.727588Z",
     "iopub.status.busy": "2023-01-12T07:30:20.726661Z",
     "iopub.status.idle": "2023-01-12T07:30:20.779256Z",
     "shell.execute_reply": "2023-01-12T07:30:20.778341Z"
    },
    "papermill": {
     "duration": 0.060186,
     "end_time": "2023-01-12T07:30:20.781549",
     "exception": false,
     "start_time": "2023-01-12T07:30:20.721363",
     "status": "completed"
    },
    "tags": []
   },
   "outputs": [],
   "source": [
    "df = pd.read_csv(\"/kaggle/input/drc-dataframe/train.csv\")\n",
    "\n",
    "filepaths = df.filepaths.copy().values\n",
    "labels = df.labels.copy().values"
   ]
  },
  {
   "cell_type": "code",
   "execution_count": 9,
   "id": "e6e6390a",
   "metadata": {
    "execution": {
     "iopub.execute_input": "2023-01-12T07:30:20.791588Z",
     "iopub.status.busy": "2023-01-12T07:30:20.790709Z",
     "iopub.status.idle": "2023-01-12T08:18:33.471714Z",
     "shell.execute_reply": "2023-01-12T08:18:33.470746Z"
    },
    "papermill": {
     "duration": 2892.688063,
     "end_time": "2023-01-12T08:18:33.473848",
     "exception": false,
     "start_time": "2023-01-12T07:30:20.785785",
     "status": "completed"
    },
    "tags": []
   },
   "outputs": [
    {
     "name": "stderr",
     "output_type": "stream",
     "text": [
      "Downloading: \"https://github.com/rwightman/pytorch-image-models/releases/download/v0.1-weights/efficientnet_b4_ra2_320-7eb33cd5.pth\" to /root/.cache/torch/hub/checkpoints/efficientnet_b4_ra2_320-7eb33cd5.pth\n"
     ]
    },
    {
     "name": "stdout",
     "output_type": "stream",
     "text": [
      "\n",
      "**************************************************\n",
      "\n",
      "Training Fold 1...\n",
      "\n",
      "**************************************************\n",
      "\n",
      "Epoch: 1 | Train Loss: 1.51051 | Valid Loss: 1.28993 | Train Accs: 0.42679 | Valid Accs: 0.53125 | Time: 90.50 seconds\n",
      "Epoch: 2 | Train Loss: 1.11343 | Valid Loss: 0.98862 | Train Accs: 0.62163 | Valid Accs: 0.65848 | Time: 57.74 seconds\n",
      "Epoch: 3 | Train Loss: 0.92281 | Valid Loss: 0.87386 | Train Accs: 0.69139 | Valid Accs: 0.69196 | Time: 57.59 seconds\n",
      "Epoch: 4 | Train Loss: 0.84497 | Valid Loss: 0.81525 | Train Accs: 0.70249 | Valid Accs: 0.72991 | Time: 57.39 seconds\n",
      "Epoch: 5 | Train Loss: 0.79928 | Valid Loss: 0.77407 | Train Accs: 0.71753 | Valid Accs: 0.70759 | Time: 57.10 seconds\n",
      "Epoch: 6 | Train Loss: 0.77533 | Valid Loss: 0.77347 | Train Accs: 0.72675 | Valid Accs: 0.72545 | Time: 57.76 seconds\n",
      "Epoch: 7 | Train Loss: 0.75120 | Valid Loss: 0.75163 | Train Accs: 0.72998 | Valid Accs: 0.72321 | Time: 57.16 seconds\n",
      "Epoch: 8 | Train Loss: 0.75238 | Valid Loss: 0.74428 | Train Accs: 0.72675 | Valid Accs: 0.72991 | Time: 56.81 seconds\n",
      "Epoch: 9 | Train Loss: 0.75367 | Valid Loss: 0.74507 | Train Accs: 0.72762 | Valid Accs: 0.73661 | Time: 55.28 seconds\n",
      "Epoch: 10 | Train Loss: 0.74395 | Valid Loss: 0.74474 | Train Accs: 0.73824 | Valid Accs: 0.72991 | Time: 56.23 seconds\n",
      "\n",
      "**************************************************\n",
      "\n",
      "Best Validation Loss at Epoch 8\n",
      "\n",
      "**************************************************\n",
      "\n",
      "Best Validation Accs at Epoch 9\n",
      "\n",
      "**************************************************\n",
      "\n",
      "Time Taken [10 Epochs] : 10.06 minutes\n",
      "\n",
      "**************************************************\n",
      "\n"
     ]
    },
    {
     "data": {
      "image/png": "[encoded data removed]",
      "text/plain": [
       "<Figure size 432x288 with 1 Axes>"
      ]
     },
     "metadata": {
      "needs_background": "light"
     },
     "output_type": "display_data"
    },
    {
     "name": "stdout",
     "output_type": "stream",
     "text": [
      "\n",
      "**************************************************\n",
      "\n"
     ]
    },
    {
     "data": {
      "image/png": "[encoded data removed]",
      "text/plain": [
       "<Figure size 432x288 with 1 Axes>"
      ]
     },
     "metadata": {
      "needs_background": "light"
     },
     "output_type": "display_data"
    },
    {
     "name": "stdout",
     "output_type": "stream",
     "text": [
      "\n",
      "**************************************************\n",
      "\n"
     ]
    },
    {
     "data": {
      "image/png": "[encoded data removed]",
      "text/plain": [
       "<Figure size 576x432 with 1 Axes>"
      ]
     },
     "metadata": {
      "needs_background": "light"
     },
     "output_type": "display_data"
    },
    {
     "name": "stdout",
     "output_type": "stream",
     "text": [
      "\n",
      "**************************************************\n",
      "\n",
      "\n",
      "**************************************************\n",
      "\n",
      "Training Fold 2...\n",
      "\n",
      "**************************************************\n",
      "\n",
      "Epoch: 1 | Train Loss: 1.50528 | Valid Loss: 1.28167 | Train Accs: 0.42509 | Valid Accs: 0.57366 | Time: 56.97 seconds\n",
      "Epoch: 2 | Train Loss: 1.10173 | Valid Loss: 0.97821 | Train Accs: 0.63269 | Valid Accs: 0.68750 | Time: 57.04 seconds\n",
      "Epoch: 3 | Train Loss: 0.91134 | Valid Loss: 0.87423 | Train Accs: 0.68724 | Valid Accs: 0.72098 | Time: 56.91 seconds\n",
      "Epoch: 4 | Train Loss: 0.83747 | Valid Loss: 0.82215 | Train Accs: 0.70415 | Valid Accs: 0.72098 | Time: 55.35 seconds\n",
      "Epoch: 5 | Train Loss: 0.79672 | Valid Loss: 0.78066 | Train Accs: 0.71512 | Valid Accs: 0.73438 | Time: 55.94 seconds\n",
      "Epoch: 6 | Train Loss: 0.76284 | Valid Loss: 0.78237 | Train Accs: 0.72902 | Valid Accs: 0.72768 | Time: 55.60 seconds\n",
      "Epoch: 7 | Train Loss: 0.74706 | Valid Loss: 0.75362 | Train Accs: 0.72802 | Valid Accs: 0.72991 | Time: 55.59 seconds\n",
      "Epoch: 8 | Train Loss: 0.72907 | Valid Loss: 0.76331 | Train Accs: 0.73059 | Valid Accs: 0.75446 | Time: 55.04 seconds\n",
      "Epoch: 9 | Train Loss: 0.72941 | Valid Loss: 0.76741 | Train Accs: 0.73497 | Valid Accs: 0.72545 | Time: 56.55 seconds\n",
      "Epoch: 10 | Train Loss: 0.71090 | Valid Loss: 0.75513 | Train Accs: 0.74690 | Valid Accs: 0.74107 | Time: 55.01 seconds\n",
      "\n",
      "**************************************************\n",
      "\n",
      "Best Validation Loss at Epoch 7\n",
      "\n",
      "**************************************************\n",
      "\n",
      "Best Validation Accs at Epoch 8\n",
      "\n",
      "**************************************************\n",
      "\n",
      "Time Taken [10 Epochs] : 9.33 minutes\n",
      "\n",
      "**************************************************\n",
      "\n"
     ]
    },
    {
     "data": {
      "image/png": "[encoded data removed]",
      "text/plain": [
       "<Figure size 432x288 with 1 Axes>"
      ]
     },
     "metadata": {
      "needs_background": "light"
     },
     "output_type": "display_data"
    },
    {
     "name": "stdout",
     "output_type": "stream",
     "text": [
      "\n",
      "**************************************************\n",
      "\n"
     ]
    },
    {
     "data": {
      "image/png": "[encoded data removed]",
      "text/plain": [
       "<Figure size 432x288 with 1 Axes>"
      ]
     },
     "metadata": {
      "needs_background": "light"
     },
     "output_type": "display_data"
    },
    {
     "name": "stdout",
     "output_type": "stream",
     "text": [
      "\n",
      "**************************************************\n",
      "\n"
     ]
    },
    {
     "data": {
      "image/png": "[encoded data removed]",
      "text/plain": [
       "<Figure size 576x432 with 1 Axes>"
      ]
     },
     "metadata": {
      "needs_background": "light"
     },
     "output_type": "display_data"
    },
    {
     "name": "stdout",
     "output_type": "stream",
     "text": [
      "\n",
      "**************************************************\n",
      "\n",
      "\n",
      "**************************************************\n",
      "\n",
      "Training Fold 3...\n",
      "\n",
      "**************************************************\n",
      "\n",
      "Epoch: 1 | Train Loss: 1.51221 | Valid Loss: 1.28852 | Train Accs: 0.41940 | Valid Accs: 0.56760 | Time: 56.48 seconds\n",
      "Epoch: 2 | Train Loss: 1.10769 | Valid Loss: 0.96306 | Train Accs: 0.61713 | Valid Accs: 0.68782 | Time: 56.19 seconds\n",
      "Epoch: 3 | Train Loss: 0.91550 | Valid Loss: 0.86624 | Train Accs: 0.68774 | Valid Accs: 0.68878 | Time: 56.55 seconds\n",
      "Epoch: 4 | Train Loss: 0.84422 | Valid Loss: 0.81529 | Train Accs: 0.70106 | Valid Accs: 0.72736 | Time: 58.86 seconds\n",
      "Epoch: 5 | Train Loss: 0.78582 | Valid Loss: 0.79952 | Train Accs: 0.72362 | Valid Accs: 0.72672 | Time: 56.50 seconds\n",
      "Epoch: 6 | Train Loss: 0.76670 | Valid Loss: 0.77356 | Train Accs: 0.72151 | Valid Accs: 0.72959 | Time: 56.51 seconds\n",
      "Epoch: 7 | Train Loss: 0.76359 | Valid Loss: 0.74643 | Train Accs: 0.72005 | Valid Accs: 0.75096 | Time: 58.18 seconds\n",
      "Epoch: 8 | Train Loss: 0.73617 | Valid Loss: 0.76189 | Train Accs: 0.74334 | Valid Accs: 0.73469 | Time: 58.33 seconds\n",
      "Epoch: 9 | Train Loss: 0.72078 | Valid Loss: 0.71758 | Train Accs: 0.73604 | Valid Accs: 0.75989 | Time: 56.68 seconds\n",
      "Epoch: 10 | Train Loss: 0.74097 | Valid Loss: 0.74873 | Train Accs: 0.73255 | Valid Accs: 0.74362 | Time: 56.43 seconds\n",
      "\n",
      "**************************************************\n",
      "\n",
      "Best Validation Loss at Epoch 9\n",
      "\n",
      "**************************************************\n",
      "\n",
      "Best Validation Accs at Epoch 9\n",
      "\n",
      "**************************************************\n",
      "\n",
      "Time Taken [10 Epochs] : 9.51 minutes\n",
      "\n",
      "**************************************************\n",
      "\n"
     ]
    },
    {
     "data": {
      "image/png": "[encoded data removed]",
      "text/plain": [
       "<Figure size 432x288 with 1 Axes>"
      ]
     },
     "metadata": {
      "needs_background": "light"
     },
     "output_type": "display_data"
    },
    {
     "name": "stdout",
     "output_type": "stream",
     "text": [
      "\n",
      "**************************************************\n",
      "\n"
     ]
    },
    {
     "data": {
      "image/png": "[encoded data removed]",
      "text/plain": [
       "<Figure size 432x288 with 1 Axes>"
      ]
     },
     "metadata": {
      "needs_background": "light"
     },
     "output_type": "display_data"
    },
    {
     "name": "stdout",
     "output_type": "stream",
     "text": [
      "\n",
      "**************************************************\n",
      "\n"
     ]
    },
    {
     "data": {
      "image/png": "[encoded data removed]",
      "text/plain": [
       "<Figure size 576x432 with 1 Axes>"
      ]
     },
     "metadata": {
      "needs_background": "light"
     },
     "output_type": "display_data"
    },
    {
     "name": "stdout",
     "output_type": "stream",
     "text": [
      "\n",
      "**************************************************\n",
      "\n",
      "\n",
      "**************************************************\n",
      "\n",
      "Training Fold 4...\n",
      "\n",
      "**************************************************\n",
      "\n",
      "Epoch: 1 | Train Loss: 1.51155 | Valid Loss: 1.28570 | Train Accs: 0.43214 | Valid Accs: 0.58960 | Time: 63.29 seconds\n",
      "Epoch: 2 | Train Loss: 1.10112 | Valid Loss: 0.98207 | Train Accs: 0.63036 | Valid Accs: 0.68112 | Time: 60.71 seconds\n",
      "Epoch: 3 | Train Loss: 0.91776 | Valid Loss: 0.87621 | Train Accs: 0.68669 | Valid Accs: 0.69739 | Time: 59.79 seconds\n",
      "Epoch: 4 | Train Loss: 0.83695 | Valid Loss: 0.80951 | Train Accs: 0.70966 | Valid Accs: 0.71971 | Time: 56.71 seconds\n",
      "Epoch: 5 | Train Loss: 0.79659 | Valid Loss: 0.78307 | Train Accs: 0.71494 | Valid Accs: 0.71907 | Time: 56.61 seconds\n",
      "Epoch: 6 | Train Loss: 0.75235 | Valid Loss: 0.77060 | Train Accs: 0.73555 | Valid Accs: 0.73469 | Time: 56.34 seconds\n",
      "Epoch: 7 | Train Loss: 0.75893 | Valid Loss: 0.75366 | Train Accs: 0.73044 | Valid Accs: 0.72864 | Time: 56.88 seconds\n",
      "Epoch: 8 | Train Loss: 0.73547 | Valid Loss: 0.75415 | Train Accs: 0.73734 | Valid Accs: 0.73374 | Time: 56.35 seconds\n",
      "Epoch: 9 | Train Loss: 0.73559 | Valid Loss: 0.74575 | Train Accs: 0.73620 | Valid Accs: 0.72864 | Time: 56.61 seconds\n",
      "Epoch: 10 | Train Loss: 0.73616 | Valid Loss: 0.74588 | Train Accs: 0.74107 | Valid Accs: 0.74649 | Time: 56.46 seconds\n",
      "\n",
      "**************************************************\n",
      "\n",
      "Best Validation Loss at Epoch 9\n",
      "\n",
      "**************************************************\n",
      "\n",
      "Best Validation Accs at Epoch 10\n",
      "\n",
      "**************************************************\n",
      "\n",
      "Time Taken [10 Epochs] : 9.66 minutes\n",
      "\n",
      "**************************************************\n",
      "\n"
     ]
    },
    {
     "data": {
      "image/png": "[encoded data removed]",
      "text/plain": [
       "<Figure size 432x288 with 1 Axes>"
      ]
     },
     "metadata": {
      "needs_background": "light"
     },
     "output_type": "display_data"
    },
    {
     "name": "stdout",
     "output_type": "stream",
     "text": [
      "\n",
      "**************************************************\n",
      "\n"
     ]
    },
    {
     "data": {
      "image/png": "[encoded data removed]",
      "text/plain": [
       "<Figure size 432x288 with 1 Axes>"
      ]
     },
     "metadata": {
      "needs_background": "light"
     },
     "output_type": "display_data"
    },
    {
     "name": "stdout",
     "output_type": "stream",
     "text": [
      "\n",
      "**************************************************\n",
      "\n"
     ]
    },
    {
     "data": {
      "image/png": "[encoded data removed]",
      "text/plain": [
       "<Figure size 576x432 with 1 Axes>"
      ]
     },
     "metadata": {
      "needs_background": "light"
     },
     "output_type": "display_data"
    },
    {
     "name": "stdout",
     "output_type": "stream",
     "text": [
      "\n",
      "**************************************************\n",
      "\n",
      "\n",
      "**************************************************\n",
      "\n",
      "Training Fold 5...\n",
      "\n",
      "**************************************************\n",
      "\n",
      "Epoch: 1 | Train Loss: 1.51048 | Valid Loss: 1.29722 | Train Accs: 0.43823 | Valid Accs: 0.56888 | Time: 57.02 seconds\n",
      "Epoch: 2 | Train Loss: 1.10399 | Valid Loss: 0.99464 | Train Accs: 0.62581 | Valid Accs: 0.67666 | Time: 57.11 seconds\n",
      "Epoch: 3 | Train Loss: 0.91311 | Valid Loss: 0.89627 | Train Accs: 0.69294 | Valid Accs: 0.66996 | Time: 56.54 seconds\n",
      "Epoch: 4 | Train Loss: 0.84444 | Valid Loss: 0.82087 | Train Accs: 0.70901 | Valid Accs: 0.70344 | Time: 56.63 seconds\n",
      "Epoch: 5 | Train Loss: 0.80235 | Valid Loss: 0.81255 | Train Accs: 0.71769 | Valid Accs: 0.68782 | Time: 56.91 seconds\n",
      "Epoch: 6 | Train Loss: 0.76532 | Valid Loss: 0.76945 | Train Accs: 0.73263 | Valid Accs: 0.71014 | Time: 56.40 seconds\n",
      "Epoch: 7 | Train Loss: 0.75418 | Valid Loss: 0.76727 | Train Accs: 0.72930 | Valid Accs: 0.72417 | Time: 57.57 seconds\n",
      "Epoch: 8 | Train Loss: 0.73687 | Valid Loss: 0.76055 | Train Accs: 0.73490 | Valid Accs: 0.72130 | Time: 57.14 seconds\n",
      "Epoch: 9 | Train Loss: 0.73412 | Valid Loss: 0.75779 | Train Accs: 0.73766 | Valid Accs: 0.71684 | Time: 57.28 seconds\n",
      "Epoch: 10 | Train Loss: 0.74295 | Valid Loss: 0.77546 | Train Accs: 0.73109 | Valid Accs: 0.72577 | Time: 56.98 seconds\n",
      "\n",
      "**************************************************\n",
      "\n",
      "Best Validation Loss at Epoch 9\n",
      "\n",
      "**************************************************\n",
      "\n",
      "Best Validation Accs at Epoch 10\n",
      "\n",
      "**************************************************\n",
      "\n",
      "Time Taken [10 Epochs] : 9.49 minutes\n",
      "\n",
      "**************************************************\n",
      "\n"
     ]
    },
    {
     "data": {
      "image/png": "[encoded data removed]",
      "text/plain": [
       "<Figure size 432x288 with 1 Axes>"
      ]
     },
     "metadata": {
      "needs_background": "light"
     },
     "output_type": "display_data"
    },
    {
     "name": "stdout",
     "output_type": "stream",
     "text": [
      "\n",
      "**************************************************\n",
      "\n"
     ]
    },
    {
     "data": {
      "image/png": "[encoded data removed]",
      "text/plain": [
       "<Figure size 432x288 with 1 Axes>"
      ]
     },
     "metadata": {
      "needs_background": "light"
     },
     "output_type": "display_data"
    },
    {
     "name": "stdout",
     "output_type": "stream",
     "text": [
      "\n",
      "**************************************************\n",
      "\n"
     ]
    },
    {
     "data": {
      "image/png": "[encoded data removed]",
      "text/plain": [
       "<Figure size 576x432 with 1 Axes>"
      ]
     },
     "metadata": {
      "needs_background": "light"
     },
     "output_type": "display_data"
    },
    {
     "name": "stdout",
     "output_type": "stream",
     "text": [
      "\n",
      "**************************************************\n",
      "\n"
     ]
    }
   ],
   "source": [
    "fold: int = 1\n",
    "BLs: list = []\n",
    "BAs: list = []\n",
    "    \n",
    "cfg.batch_size = 16\n",
    "cfg.epochs = 10\n",
    "    \n",
    "for tr_idx, va_idx in StratifiedKFold(n_splits=cfg.n_splits, random_state=cfg.seed, shuffle=True).split(filepaths, labels):\n",
    "#     if fold == 1: break\n",
    "#     fold += 1\n",
    "\n",
    "    tr_filepaths, va_filepaths = filepaths[tr_idx], filepaths[va_idx] \n",
    "    tr_labels, va_labels       = labels[tr_idx], labels[va_idx]\n",
    "\n",
    "    tr_data_setup = DS(\n",
    "        filepaths=tr_filepaths, \n",
    "        labels=tr_labels.reshape(-1, 1),\n",
    "        size=cfg.size,\n",
    "        transform=cfg.train_transform\n",
    "    )\n",
    "\n",
    "    va_data_setup = DS(\n",
    "        filepaths=va_filepaths, \n",
    "        labels=va_labels.reshape(-1, 1),\n",
    "        size=cfg.size,\n",
    "        transform=cfg.train_transform\n",
    "    )\n",
    "\n",
    "    dataloaders = {\n",
    "        \"train\" : DL(tr_data_setup, batch_size=cfg.batch_size, shuffle=True, generator=torch.manual_seed(cfg.seed)),\n",
    "        \"valid\" : DL(va_data_setup, batch_size=cfg.batch_size, shuffle=False),\n",
    "    }\n",
    "\n",
    "    cfg.steps_per_epoch=len(dataloaders[\"train\"])\n",
    "\n",
    "    torch.manual_seed(cfg.seed)\n",
    "    model = Model().to(cfg.device)\n",
    "\n",
    "    optimizer = optim.Adam([p for p in model.parameters() if p.requires_grad], lr=cfg.lr, weight_decay=cfg.wd)\n",
    "    # optimizer = optim.AdamW([p for p in model.parameters() if p.requires_grad], lr=cfg.lr, weight_decay=cfg.wd)\n",
    "    # optimizer = optim.SGD([p for p in model.parameters() if p.requires_grad], lr=cfg.lr, weight_decay=cfg.wd, momentum=0.9)\n",
    "\n",
    "    scheduler_oclr = optim.lr_scheduler.OneCycleLR(\n",
    "        optimizer=optimizer, \n",
    "        max_lr=cfg.max_lr, \n",
    "        epochs=cfg.epochs, \n",
    "        steps_per_epoch=cfg.steps_per_epoch,\n",
    "        pct_start=cfg.pct_start, \n",
    "        div_factor=cfg.div_factor, \n",
    "        final_div_factor=cfg.final_div_factor\n",
    "    )\n",
    "\n",
    "    # scheduler_rlrop = optim.lr_scheduler.ReduceLROnPlateau(\n",
    "    #     optimizer=optimizer,\n",
    "    #     patience=cfg.patience,\n",
    "    #     eps=cfg.eps,\n",
    "    #     verbose=True\n",
    "    # )\n",
    "\n",
    "    # scheduler_oclr = None\n",
    "    scheduler_rlrop = None\n",
    "\n",
    "\n",
    "    L, A, LR, BL, BA, _, _, _, _ = fit(\n",
    "        model=model, \n",
    "        optimizer=optimizer, \n",
    "        scheduler_oclr=scheduler_oclr,\n",
    "        scheduler_rlrop=scheduler_rlrop,\n",
    "        epochs=cfg.epochs, \n",
    "        early_stopping_patience=cfg.early_stopping, \n",
    "        dataloaders=dataloaders, \n",
    "        device=cfg.device,\n",
    "        save_path=cfg.save_path,\n",
    "        fold=fold,\n",
    "        verbose=True\n",
    "    )\n",
    "\n",
    "\n",
    "    breaker()\n",
    "    show_loss_graphs(L)\n",
    "    breaker()\n",
    "    show_accuracy_graphs(A)\n",
    "    breaker()\n",
    "    if scheduler_oclr:\n",
    "        show_lr_graph(LR)\n",
    "        breaker()\n",
    "\n",
    "    BLs.append(BL)\n",
    "    BAs.append(BA)\n",
    "\n",
    "    fold += 1"
   ]
  },
  {
   "cell_type": "markdown",
   "id": "203c701d",
   "metadata": {
    "papermill": {
     "duration": 0.010967,
     "end_time": "2023-01-12T08:18:33.495989",
     "exception": false,
     "start_time": "2023-01-12T08:18:33.485022",
     "status": "completed"
    },
    "tags": []
   },
   "source": [
    "### **Best Model**"
   ]
  },
  {
   "cell_type": "code",
   "execution_count": 10,
   "id": "1123989a",
   "metadata": {
    "execution": {
     "iopub.execute_input": "2023-01-12T08:18:33.518774Z",
     "iopub.status.busy": "2023-01-12T08:18:33.518471Z",
     "iopub.status.idle": "2023-01-12T08:18:33.525272Z",
     "shell.execute_reply": "2023-01-12T08:18:33.524352Z"
    },
    "papermill": {
     "duration": 0.020861,
     "end_time": "2023-01-12T08:18:33.527522",
     "exception": false,
     "start_time": "2023-01-12T08:18:33.506661",
     "status": "completed"
    },
    "tags": []
   },
   "outputs": [
    {
     "name": "stdout",
     "output_type": "stream",
     "text": [
      "\n",
      "**************************************************\n",
      "\n",
      "Best Loss Model Fold     : 3\n",
      "Best Accuracy Model Fold : 3\n",
      "\n",
      "**************************************************\n",
      "\n"
     ]
    }
   ],
   "source": [
    "BL = np.inf\n",
    "for i in range(len(BLs)):\n",
    "    if BLs[i][\"valid\"] < BL:\n",
    "        BL = BLs[i][\"valid\"]\n",
    "        best_loss_index = i\n",
    "\n",
    "        \n",
    "BA = 0.0\n",
    "for i in range(len(BAs)):\n",
    "    if BAs[i][\"valid\"] > BA:\n",
    "        BA = BAs[i][\"valid\"]\n",
    "        best_accs_index = i\n",
    "\n",
    "breaker()\n",
    "print(f\"Best Loss Model Fold     : {best_loss_index + 1}\")\n",
    "print(f\"Best Accuracy Model Fold : {best_accs_index + 1}\")\n",
    "breaker()"
   ]
  }
 ],
 "metadata": {
  "kernelspec": {
   "display_name": "Python 3",
   "language": "python",
   "name": "python3"
  },
  "language_info": {
   "codemirror_mode": {
    "name": "ipython",
    "version": 3
   },
   "file_extension": ".py",
   "mimetype": "text/x-python",
   "name": "python",
   "nbconvert_exporter": "python",
   "pygments_lexer": "ipython3",
   "version": "3.7.12"
  },
  "papermill": {
   "default_parameters": {},
   "duration": 2918.583581,
   "end_time": "2023-01-12T08:18:36.006584",
   "environment_variables": {},
   "exception": null,
   "input_path": "__notebook__.ipynb",
   "output_path": "__notebook__.ipynb",
   "parameters": {},
   "start_time": "2023-01-12T07:29:57.423003",
   "version": "2.3.4"
  }
 },
 "nbformat": 4,
 "nbformat_minor": 5
}
