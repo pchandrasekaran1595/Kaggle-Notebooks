{
 "cells": [
  {
   "cell_type": "markdown",
   "id": "bce28d94",
   "metadata": {
    "_cell_guid": "b1076dfc-b9ad-4769-8c92-a6c4dae69d19",
    "_uuid": "8f2839f25d086af736a60e9eeb907d3b93b6e0e5",
    "papermill": {
     "duration": 0.004654,
     "end_time": "2023-01-12T05:14:19.450375",
     "exception": false,
     "start_time": "2023-01-12T05:14:19.445721",
     "status": "completed"
    },
    "tags": []
   },
   "source": [
    "### **Setup**"
   ]
  },
  {
   "cell_type": "code",
   "execution_count": 1,
   "id": "0aa164e0",
   "metadata": {
    "execution": {
     "iopub.execute_input": "2023-01-12T05:14:19.459255Z",
     "iopub.status.busy": "2023-01-12T05:14:19.458794Z",
     "iopub.status.idle": "2023-01-12T05:14:31.549384Z",
     "shell.execute_reply": "2023-01-12T05:14:31.548196Z"
    },
    "papermill": {
     "duration": 12.097945,
     "end_time": "2023-01-12T05:14:31.552074",
     "exception": false,
     "start_time": "2023-01-12T05:14:19.454129",
     "status": "completed"
    },
    "tags": []
   },
   "outputs": [
    {
     "name": "stderr",
     "output_type": "stream",
     "text": [
      "WARNING: Running pip as the 'root' user can result in broken permissions and conflicting behaviour with the system package manager. It is recommended to use a virtual environment instead: https://pip.pypa.io/warnings/venv\n"
     ]
    }
   ],
   "source": [
    "%%bash\n",
    "pip install timm -q"
   ]
  },
  {
   "cell_type": "markdown",
   "id": "c5a03580",
   "metadata": {
    "papermill": {
     "duration": 0.003422,
     "end_time": "2023-01-12T05:14:31.559594",
     "exception": false,
     "start_time": "2023-01-12T05:14:31.556172",
     "status": "completed"
    },
    "tags": []
   },
   "source": [
    "### **Library Imports**"
   ]
  },
  {
   "cell_type": "code",
   "execution_count": 2,
   "id": "c57caab2",
   "metadata": {
    "execution": {
     "iopub.execute_input": "2023-01-12T05:14:31.568447Z",
     "iopub.status.busy": "2023-01-12T05:14:31.568106Z",
     "iopub.status.idle": "2023-01-12T05:14:34.921223Z",
     "shell.execute_reply": "2023-01-12T05:14:34.920185Z"
    },
    "papermill": {
     "duration": 3.360715,
     "end_time": "2023-01-12T05:14:34.924096",
     "exception": false,
     "start_time": "2023-01-12T05:14:31.563381",
     "status": "completed"
    },
    "tags": []
   },
   "outputs": [],
   "source": [
    "import os\n",
    "import re\n",
    "import cv2\n",
    "import timm\n",
    "import torch\n",
    "import numpy as np\n",
    "import pandas as pd\n",
    "import matplotlib.pyplot as plt\n",
    "\n",
    "from time import time\n",
    "from typing import Union\n",
    "from torch import nn, optim\n",
    "from torch.utils.data import Dataset\n",
    "from torch.utils.data import DataLoader as DL\n",
    "from torchvision import transforms\n",
    "\n",
    "from sklearn.model_selection import StratifiedKFold"
   ]
  },
  {
   "cell_type": "markdown",
   "id": "de2631ed",
   "metadata": {
    "papermill": {
     "duration": 0.003902,
     "end_time": "2023-01-12T05:14:34.932194",
     "exception": false,
     "start_time": "2023-01-12T05:14:34.928292",
     "status": "completed"
    },
    "tags": []
   },
   "source": [
    "### **Utilities and Helpers**"
   ]
  },
  {
   "cell_type": "code",
   "execution_count": 3,
   "id": "e402bd7f",
   "metadata": {
    "execution": {
     "iopub.execute_input": "2023-01-12T05:14:34.940826Z",
     "iopub.status.busy": "2023-01-12T05:14:34.940509Z",
     "iopub.status.idle": "2023-01-12T05:14:34.953114Z",
     "shell.execute_reply": "2023-01-12T05:14:34.952071Z"
    },
    "papermill": {
     "duration": 0.019403,
     "end_time": "2023-01-12T05:14:34.955181",
     "exception": false,
     "start_time": "2023-01-12T05:14:34.935778",
     "status": "completed"
    },
    "tags": []
   },
   "outputs": [],
   "source": [
    "SEED: int = 42\n",
    "SIZE: int = 384\n",
    "\n",
    "\n",
    "def breaker(num: int=50, char: str=\"*\") -> None: print(\"\\n\" + num*char + \"\\n\")\n",
    "\n",
    "    \n",
    "def get_image(path: str, size: int=224) -> np.ndarray:\n",
    "    image = cv2.imread(path, cv2.IMREAD_COLOR)\n",
    "    image = cv2.cvtColor(src=image, code=cv2.COLOR_BGR2RGB)\n",
    "    return cv2.resize(src=image, dsize=(size, size), interpolation=cv2.INTER_AREA)\n",
    "\n",
    "    \n",
    "def show_loss_graphs(L: list) -> None:\n",
    "    TL, VL = [], []\n",
    "    for i in range(len(L)):\n",
    "        TL.append(L[i][\"train\"])\n",
    "        VL.append(L[i][\"valid\"])\n",
    "    x_Axis = np.arange(1, len(TL) + 1)\n",
    "    plt.figure()\n",
    "    plt.plot(x_Axis, TL, \"r\", label=\"Train\")\n",
    "    plt.plot(x_Axis, VL, \"b\", label=\"Valid\")\n",
    "    plt.legend()\n",
    "    plt.grid()\n",
    "    plt.title(\"Loss Graph\")\n",
    "    plt.show()\n",
    "\n",
    "    \n",
    "def show_accuracy_graphs(A: list) -> None:\n",
    "    TA, VA = [], []\n",
    "    for i in range(len(A)):\n",
    "        TA.append(A[i][\"train\"])\n",
    "        VA.append(A[i][\"valid\"])\n",
    "    x_Axis = np.arange(1, len(TA) + 1)\n",
    "    plt.figure()\n",
    "    plt.plot(x_Axis, TA, \"r\", label=\"Train\")\n",
    "    plt.plot(x_Axis, VA, \"b\", label=\"Valid\")\n",
    "    plt.legend()\n",
    "    plt.grid()\n",
    "    plt.title(\"Accuracy Graph\")\n",
    "    plt.show()\n",
    "    \n",
    "\n",
    "def show_lr_graph(LR: list) -> None:\n",
    "    x_Axis = [i+1 for i in range(len(LR))]\n",
    "    plt.figure(figsize=(8, 6))\n",
    "    plt.plot(x_Axis, LR, \"rx\")\n",
    "    plt.grid()\n",
    "    plt.show()"
   ]
  },
  {
   "cell_type": "markdown",
   "id": "0a4bb834",
   "metadata": {
    "papermill": {
     "duration": 0.003723,
     "end_time": "2023-01-12T05:14:34.962534",
     "exception": false,
     "start_time": "2023-01-12T05:14:34.958811",
     "status": "completed"
    },
    "tags": []
   },
   "source": [
    "\n",
    "\n",
    "### **Configuration**"
   ]
  },
  {
   "cell_type": "code",
   "execution_count": 4,
   "id": "30e72a1b",
   "metadata": {
    "execution": {
     "iopub.execute_input": "2023-01-12T05:14:34.971308Z",
     "iopub.status.busy": "2023-01-12T05:14:34.971000Z",
     "iopub.status.idle": "2023-01-12T05:14:35.041419Z",
     "shell.execute_reply": "2023-01-12T05:14:35.040685Z"
    },
    "papermill": {
     "duration": 0.077187,
     "end_time": "2023-01-12T05:14:35.043271",
     "exception": false,
     "start_time": "2023-01-12T05:14:34.966084",
     "status": "completed"
    },
    "tags": []
   },
   "outputs": [],
   "source": [
    "class CFG(object):\n",
    "    def __init__(self, \n",
    "                 seed: int = 42,\n",
    "                 size: int = 224,\n",
    "                 n_splits: int = 5,\n",
    "                 batch_size: int = 16,\n",
    "                 epochs: int = 25,\n",
    "                 early_stopping: int = 5,\n",
    "                 lr: float = 1e-4,\n",
    "                 wd: float = 0.0,\n",
    "                 max_lr: float = 1e-3,\n",
    "                 pct_start: float = 0.2,\n",
    "                 steps_per_epoch: int = 100,\n",
    "                 div_factor: int = 1e3, \n",
    "                 final_div_factor: float = 1e3,\n",
    "                 ):\n",
    "        self.seed = seed\n",
    "        self.size = size\n",
    "        self.n_splits = n_splits\n",
    "        self.batch_size = batch_size\n",
    "        self.epochs = epochs\n",
    "        self.early_stopping = early_stopping\n",
    "        self.lr = lr\n",
    "        self.wd = wd\n",
    "        self.max_lr = max_lr\n",
    "        self.pct_start = pct_start\n",
    "        self.steps_per_epoch = steps_per_epoch\n",
    "        self.div_factor = div_factor\n",
    "        self.final_div_factor = final_div_factor\n",
    "        self.device = torch.device(\"cuda\" if torch.cuda.is_available() else \"cpu\")\n",
    "        \n",
    "        if self.size == 224:\n",
    "            self.train_transform = transforms.Compose([\n",
    "                transforms.ToTensor(),\n",
    "                transforms.Normalize([0.41080, 0.21938, 0.07357], [0.23762, 0.13099, 0.04847]),\n",
    "                transforms.RandomAffine(degrees=(-45, 45), translate=(0.15, 0.15), scale=(0.5, 1.5)),\n",
    "                transforms.RandomHorizontalFlip(p=0.25),\n",
    "                transforms.RandomVerticalFlip(p=0.25),\n",
    "            ])\n",
    "            self.valid_transform = transforms.Compose([\n",
    "                transforms.ToTensor(),\n",
    "                transforms.Normalize([0.41080, 0.21938, 0.07357], [0.23762, 0.13099, 0.04847]),\n",
    "            ])\n",
    "        \n",
    "        if self.size == 384:\n",
    "            self.train_transform = transforms.Compose([\n",
    "                transforms.ToTensor(),\n",
    "                transforms.Normalize([0.41076, 0.21934, 0.07357], [0.23796, 0.13130, 0.04884]),\n",
    "                transforms.RandomAffine(degrees=(-45, 45), translate=(0.15, 0.15), scale=(0.5, 1.5)),\n",
    "                transforms.RandomHorizontalFlip(p=0.25),\n",
    "                transforms.RandomVerticalFlip(p=0.25),\n",
    "            ])\n",
    "            self.valid_transform = transforms.Compose([\n",
    "                transforms.ToTensor(),\n",
    "                transforms.Normalize([0.41076, 0.21934, 0.07357], [0.23796, 0.13130, 0.04884]),\n",
    "            ])\n",
    "        \n",
    "        if self.size == 512:\n",
    "            self.train_transform = transforms.Compose([\n",
    "                transforms.ToTensor(),\n",
    "                transforms.Normalize([0.41071, 0.21929, 0.07348], [0.23807, 0.13140, 0.04898]),\n",
    "                transforms.RandomAffine(degrees=(-45, 45), translate=(0.15, 0.15), scale=(0.5, 1.5)),\n",
    "                transforms.RandomHorizontalFlip(p=0.25),\n",
    "                transforms.RandomVerticalFlip(p=0.25),\n",
    "            ])\n",
    "            self.valid_transform = transforms.Compose([\n",
    "                transforms.ToTensor(),\n",
    "                transforms.Normalize([0.41071, 0.21929, 0.07348], [0.23807, 0.13140, 0.04898]),\n",
    "            ])\n",
    "                                \n",
    "        self.save_path = \"saves\"\n",
    "        if not os.path.exists(self.save_path): os.makedirs(self.save_path)\n",
    "    \n",
    "cfg = CFG(\n",
    "    seed=SEED, \n",
    "    size=SIZE\n",
    ")"
   ]
  },
  {
   "cell_type": "markdown",
   "id": "6ac22dd4",
   "metadata": {
    "papermill": {
     "duration": 0.003596,
     "end_time": "2023-01-12T05:14:35.051036",
     "exception": false,
     "start_time": "2023-01-12T05:14:35.047440",
     "status": "completed"
    },
    "tags": []
   },
   "source": [
    "### **Dataset Template**"
   ]
  },
  {
   "cell_type": "code",
   "execution_count": 5,
   "id": "c2e2d42a",
   "metadata": {
    "execution": {
     "iopub.execute_input": "2023-01-12T05:14:35.060859Z",
     "iopub.status.busy": "2023-01-12T05:14:35.059203Z",
     "iopub.status.idle": "2023-01-12T05:14:35.066500Z",
     "shell.execute_reply": "2023-01-12T05:14:35.065632Z"
    },
    "papermill": {
     "duration": 0.013654,
     "end_time": "2023-01-12T05:14:35.068393",
     "exception": false,
     "start_time": "2023-01-12T05:14:35.054739",
     "status": "completed"
    },
    "tags": []
   },
   "outputs": [],
   "source": [
    "class DS(Dataset):\n",
    "    def __init__(\n",
    "        self, \n",
    "        filepaths: np.ndarray, \n",
    "        size: int,\n",
    "        labels: Union[np.ndarray, None]=None, \n",
    "        transform=None\n",
    "    ):\n",
    "        \n",
    "        self.filepaths = filepaths\n",
    "        self.labels = labels\n",
    "        self.size = size\n",
    "        self.transform = transform\n",
    "    \n",
    "    def __len__(self):\n",
    "        return self.filepaths.shape[0]\n",
    "    \n",
    "    def __getitem__(self, idx):\n",
    "        image = get_image(self.filepaths[idx], self.size)\n",
    "        if self.labels is None:\n",
    "            return self.transform(image)\n",
    "        return self.transform(image), torch.LongTensor(self.labels[idx])"
   ]
  },
  {
   "cell_type": "markdown",
   "id": "3e4f6a94",
   "metadata": {
    "papermill": {
     "duration": 0.003577,
     "end_time": "2023-01-12T05:14:35.075740",
     "exception": false,
     "start_time": "2023-01-12T05:14:35.072163",
     "status": "completed"
    },
    "tags": []
   },
   "source": [
    "### **Model**"
   ]
  },
  {
   "cell_type": "code",
   "execution_count": 6,
   "id": "47283f19",
   "metadata": {
    "execution": {
     "iopub.execute_input": "2023-01-12T05:14:35.085311Z",
     "iopub.status.busy": "2023-01-12T05:14:35.083889Z",
     "iopub.status.idle": "2023-01-12T05:14:35.091144Z",
     "shell.execute_reply": "2023-01-12T05:14:35.090265Z"
    },
    "papermill": {
     "duration": 0.013746,
     "end_time": "2023-01-12T05:14:35.093164",
     "exception": false,
     "start_time": "2023-01-12T05:14:35.079418",
     "status": "completed"
    },
    "tags": []
   },
   "outputs": [],
   "source": [
    "class Model(nn.Module):\n",
    "    def __init__(self):\n",
    "        super(Model, self).__init__()\n",
    "            \n",
    "        self.model = timm.create_model(model_name=\"swin_base_patch4_window12_384_in22k\", pretrained=True)\n",
    "        self.freeze()\n",
    "        self.model.head = nn.Linear(in_features=self.model.head.in_features, out_features=5)\n",
    "\n",
    "    def freeze(self):\n",
    "        for params in self.parameters():\n",
    "            params.requires_grad = False\n",
    "\n",
    "    def forward(self, x):\n",
    "        return nn.LogSoftmax(dim=1)(self.model(x))"
   ]
  },
  {
   "cell_type": "markdown",
   "id": "c50ff2ef",
   "metadata": {
    "papermill": {
     "duration": 0.008321,
     "end_time": "2023-01-12T05:14:35.106604",
     "exception": false,
     "start_time": "2023-01-12T05:14:35.098283",
     "status": "completed"
    },
    "tags": []
   },
   "source": [
    "### **Fit and Predict**"
   ]
  },
  {
   "cell_type": "code",
   "execution_count": 7,
   "id": "a0e1310f",
   "metadata": {
    "execution": {
     "iopub.execute_input": "2023-01-12T05:14:35.124392Z",
     "iopub.status.busy": "2023-01-12T05:14:35.124042Z",
     "iopub.status.idle": "2023-01-12T05:14:35.145455Z",
     "shell.execute_reply": "2023-01-12T05:14:35.144632Z"
    },
    "papermill": {
     "duration": 0.031273,
     "end_time": "2023-01-12T05:14:35.147444",
     "exception": false,
     "start_time": "2023-01-12T05:14:35.116171",
     "status": "completed"
    },
    "tags": []
   },
   "outputs": [],
   "source": [
    "def fit(\n",
    "    model=None,\n",
    "    optimizer=None, \n",
    "    scheduler_rlrop=None,\n",
    "    scheduler_oclr=None,\n",
    "    epochs=None, \n",
    "    early_stopping_patience=None, \n",
    "    dataloaders=None, \n",
    "    fold=None, \n",
    "    save_path=None,\n",
    "    device=None,\n",
    "    verbose=False\n",
    ") -> tuple:\n",
    "    \n",
    "    def get_accuracy(y_pred, y_true):\n",
    "        y_pred = torch.argmax(y_pred, dim=1)\n",
    "        return torch.count_nonzero(y_pred == y_true).item() / len(y_pred)\n",
    "    \n",
    "    \n",
    "    if verbose:\n",
    "        breaker()\n",
    "        if fold: print(f\"Training Fold {fold}...\")\n",
    "        else: print(\"Training ...\")\n",
    "        breaker()\n",
    "        \n",
    "    bestLoss: dict = {\"train\" : np.inf, \"valid\" : np.inf} \n",
    "    bestAccs: dict = {\"train\" : 0.0, \"valid\" : 0.0}\n",
    "    \n",
    "    Losses: list = []\n",
    "    Accuracies: list = [] \n",
    "    LRs: list = []\n",
    "        \n",
    "    if fold: \n",
    "        ble_name = f\"ble_state_fold_{fold}.pt\"\n",
    "        bae_name = f\"bae_state_fold_{fold}.pt\"\n",
    "    else: \n",
    "        ble_name = f\"ble_state.pt\"\n",
    "        bae_name = f\"bae_state.pt\"\n",
    "        \n",
    "    start_time = time()\n",
    "    for e in range(epochs):\n",
    "        e_st = time()\n",
    "        epochLoss: dict = {\"train\" : 0.0, \"valid\" : 0.0} \n",
    "        epochAccs: dict = {\"train\" : 0.0, \"valid\" : 0.0}\n",
    "\n",
    "        for phase in [\"train\", \"valid\"]:\n",
    "            if phase == \"train\":\n",
    "                model.train()\n",
    "            else:\n",
    "                model.eval()\n",
    "            \n",
    "            lossPerPass: list = []\n",
    "            accsPerPass: list = []\n",
    "                \n",
    "            for X, y in dataloaders[phase]:\n",
    "                X, y = X.to(device), y.to(device).view(-1)\n",
    "\n",
    "                optimizer.zero_grad()\n",
    "                with torch.set_grad_enabled(phase == \"train\"):\n",
    "                    output = model(X)\n",
    "                    loss = nn.NLLLoss()(output, y)\n",
    "                    if phase == \"train\":\n",
    "                        loss.backward()\n",
    "                        optimizer.step()\n",
    "                        if scheduler_oclr: scheduler_oclr.step()\n",
    "                lossPerPass.append(loss.item())\n",
    "                accsPerPass.append(get_accuracy(output, y))\n",
    "            epochLoss[phase] = np.mean(np.array(lossPerPass))\n",
    "            epochAccs[phase] = np.mean(np.array(accsPerPass))\n",
    "        if scheduler_oclr: LRs.append(scheduler_oclr.get_last_lr())\n",
    "        Losses.append(epochLoss)\n",
    "        Accuracies.append(epochAccs)\n",
    "        \n",
    "        if scheduler_oclr:\n",
    "            save_dict = {\"model_state_dict\"     : model.state_dict(),\n",
    "                         \"optim_state_dict\"     : optimizer.state_dict(),\n",
    "                         \"scheduler_state_dict\" : scheduler_oclr.state_dict()}\n",
    "        \n",
    "        elif scheduler_rlrop:\n",
    "            save_dict = {\"model_state_dict\"     : model.state_dict(),\n",
    "                         \"optim_state_dict\"     : optimizer.state_dict(),\n",
    "                         \"scheduler_state_dict\" : scheduler_rlrop.state_dict()}\n",
    "        \n",
    "        else:\n",
    "            save_dict = {\"model_state_dict\"     : model.state_dict(),\n",
    "                         \"optim_state_dict\"     : optimizer.state_dict()}\n",
    "        \n",
    "        if early_stopping_patience:\n",
    "            if epochLoss[\"valid\"] < bestLoss[\"valid\"]:\n",
    "                bestLoss = epochLoss\n",
    "                BLE = e + 1\n",
    "                torch.save(save_dict, os.path.join(save_path, ble_name))\n",
    "                torch.save(save_dict, os.path.join(save_path, bae_name))\n",
    "                early_stopping_step = 0\n",
    "            else:\n",
    "                early_stopping_step += 1\n",
    "                if early_stopping_step > early_stopping_patience:\n",
    "                    print(\"\\nEarly Stopping at Epoch {}\".format(e + 1))\n",
    "                    break\n",
    "        \n",
    "        if epochLoss[\"valid\"] < bestLoss[\"valid\"]:\n",
    "            bestLoss = epochLoss\n",
    "            BLE = e + 1\n",
    "            torch.save(save_dict,os.path.join(save_path, ble_name))\n",
    "        \n",
    "        if epochAccs[\"valid\"] > bestAccs[\"valid\"]:\n",
    "            bestAccs = epochAccs\n",
    "            BAE = e + 1\n",
    "            torch.save(save_dict,os.path.join(save_path, bae_name))\n",
    "        \n",
    "        if scheduler_rlrop: scheduler_rlrop.step(epochLoss[\"valid\"])\n",
    "        \n",
    "        if verbose:\n",
    "            print(\"Epoch: {} | Train Loss: {:.5f} | Valid Loss: {:.5f} |\\\n",
    " Train Accs: {:.5f} | Valid Accs: {:.5f} | Time: {:.2f} seconds\".format(e+1, \n",
    "                                                                        epochLoss[\"train\"], epochLoss[\"valid\"], \n",
    "                                                                        epochAccs[\"train\"], epochAccs[\"valid\"], \n",
    "                                                                        time()-e_st))\n",
    "\n",
    "    if verbose:                                           \n",
    "        breaker()\n",
    "        print(f\"Best Validation Loss at Epoch {BLE}\")\n",
    "        breaker()\n",
    "        print(f\"Best Validation Accs at Epoch {BAE}\")\n",
    "        breaker()\n",
    "        print(\"Time Taken [{} Epochs] : {:.2f} minutes\".format(len(Losses), (time()-start_time)/60))\n",
    "    \n",
    "    return Losses, Accuracies, LRs, bestLoss, bestAccs, BLE, BAE, ble_name, bae_name\n",
    "\n",
    "\n",
    "# def predict_batch(model=None, dataloader=None, path=None, device=None) -> np.ndarray:\n",
    "#     model.load_state_dict(torch.load(path, map_location=device)[\"model_state_dict\"])\n",
    "#     model.to(device)    \n",
    "#     model.eval()\n",
    "    \n",
    "#     y_pred = torch.zeros(1, 1).to(device)\n",
    "    \n",
    "#     for X in dataloader:\n",
    "#         X = X.to(device)\n",
    "#         with torch.no_grad():\n",
    "#             output = torch.argmax(torch.exp(model(X)), dim=1)\n",
    "#         y_pred = torch.cat((y_pred, output.view(-1, 1)), dim=0)\n",
    "    \n",
    "#     return y_pred[1:].detach().cpu().numpy()"
   ]
  },
  {
   "cell_type": "markdown",
   "id": "7f1cdffc",
   "metadata": {
    "papermill": {
     "duration": 0.004533,
     "end_time": "2023-01-12T05:14:35.155827",
     "exception": false,
     "start_time": "2023-01-12T05:14:35.151294",
     "status": "completed"
    },
    "tags": []
   },
   "source": [
    "### **Train**"
   ]
  },
  {
   "cell_type": "code",
   "execution_count": 8,
   "id": "f97c159b",
   "metadata": {
    "execution": {
     "iopub.execute_input": "2023-01-12T05:14:35.165438Z",
     "iopub.status.busy": "2023-01-12T05:14:35.164698Z",
     "iopub.status.idle": "2023-01-12T05:14:35.207976Z",
     "shell.execute_reply": "2023-01-12T05:14:35.207147Z"
    },
    "papermill": {
     "duration": 0.049899,
     "end_time": "2023-01-12T05:14:35.209985",
     "exception": false,
     "start_time": "2023-01-12T05:14:35.160086",
     "status": "completed"
    },
    "tags": []
   },
   "outputs": [],
   "source": [
    "df = pd.read_csv(\"/kaggle/input/drc-dataframe/train.csv\")\n",
    "\n",
    "filepaths = df.filepaths.copy().values\n",
    "labels = df.labels.copy().values"
   ]
  },
  {
   "cell_type": "code",
   "execution_count": 9,
   "id": "af60d98e",
   "metadata": {
    "execution": {
     "iopub.execute_input": "2023-01-12T05:14:35.219656Z",
     "iopub.status.busy": "2023-01-12T05:14:35.218679Z",
     "iopub.status.idle": "2023-01-12T06:34:32.559912Z",
     "shell.execute_reply": "2023-01-12T06:34:32.558934Z"
    },
    "papermill": {
     "duration": 4797.348295,
     "end_time": "2023-01-12T06:34:32.562209",
     "exception": false,
     "start_time": "2023-01-12T05:14:35.213914",
     "status": "completed"
    },
    "tags": []
   },
   "outputs": [
    {
     "name": "stderr",
     "output_type": "stream",
     "text": [
      "/opt/conda/lib/python3.7/site-packages/torch/functional.py:568: UserWarning: torch.meshgrid: in an upcoming release, it will be required to pass the indexing argument. (Triggered internally at  /usr/local/src/pytorch/aten/src/ATen/native/TensorShape.cpp:2227.)\n",
      "  return _VF.meshgrid(tensors, **kwargs)  # type: ignore[attr-defined]\n",
      "Downloading: \"https://github.com/SwinTransformer/storage/releases/download/v1.0.0/swin_base_patch4_window12_384_22k.pth\" to /root/.cache/torch/hub/checkpoints/swin_base_patch4_window12_384_22k.pth\n"
     ]
    },
    {
     "name": "stdout",
     "output_type": "stream",
     "text": [
      "\n",
      "**************************************************\n",
      "\n",
      "Training Fold 1...\n",
      "\n",
      "**************************************************\n",
      "\n",
      "Epoch: 1 | Train Loss: 1.26902 | Valid Loss: 0.95832 | Train Accs: 0.48571 | Valid Accs: 0.65625 | Time: 127.65 seconds\n",
      "Epoch: 2 | Train Loss: 0.84297 | Valid Loss: 0.67849 | Train Accs: 0.70616 | Valid Accs: 0.75223 | Time: 92.65 seconds\n",
      "Epoch: 3 | Train Loss: 0.70141 | Valid Loss: 0.61348 | Train Accs: 0.75219 | Valid Accs: 0.76786 | Time: 93.19 seconds\n",
      "Epoch: 4 | Train Loss: 0.64998 | Valid Loss: 0.58809 | Train Accs: 0.76508 | Valid Accs: 0.75670 | Time: 93.43 seconds\n",
      "Epoch: 5 | Train Loss: 0.61720 | Valid Loss: 0.61176 | Train Accs: 0.77587 | Valid Accs: 0.76562 | Time: 90.37 seconds\n",
      "Epoch: 6 | Train Loss: 0.58375 | Valid Loss: 0.54235 | Train Accs: 0.79122 | Valid Accs: 0.77902 | Time: 93.30 seconds\n",
      "Epoch: 7 | Train Loss: 0.57767 | Valid Loss: 0.57463 | Train Accs: 0.79576 | Valid Accs: 0.77232 | Time: 90.14 seconds\n",
      "Epoch: 8 | Train Loss: 0.56617 | Valid Loss: 0.54440 | Train Accs: 0.79392 | Valid Accs: 0.78795 | Time: 91.43 seconds\n",
      "Epoch: 9 | Train Loss: 0.55943 | Valid Loss: 0.54197 | Train Accs: 0.80756 | Valid Accs: 0.79911 | Time: 93.91 seconds\n",
      "Epoch: 10 | Train Loss: 0.55655 | Valid Loss: 0.53324 | Train Accs: 0.79589 | Valid Accs: 0.79241 | Time: 91.95 seconds\n",
      "\n",
      "**************************************************\n",
      "\n",
      "Best Validation Loss at Epoch 10\n",
      "\n",
      "**************************************************\n",
      "\n",
      "Best Validation Accs at Epoch 9\n",
      "\n",
      "**************************************************\n",
      "\n",
      "Time Taken [10 Epochs] : 15.97 minutes\n",
      "\n",
      "**************************************************\n",
      "\n"
     ]
    },
    {
     "data": {
      "image/png": "[encoded data removed]",
      "text/plain": [
       "<Figure size 432x288 with 1 Axes>"
      ]
     },
     "metadata": {
      "needs_background": "light"
     },
     "output_type": "display_data"
    },
    {
     "name": "stdout",
     "output_type": "stream",
     "text": [
      "\n",
      "**************************************************\n",
      "\n"
     ]
    },
    {
     "data": {
      "image/png": "[encoded data removed]",
      "text/plain": [
       "<Figure size 432x288 with 1 Axes>"
      ]
     },
     "metadata": {
      "needs_background": "light"
     },
     "output_type": "display_data"
    },
    {
     "name": "stdout",
     "output_type": "stream",
     "text": [
      "\n",
      "**************************************************\n",
      "\n"
     ]
    },
    {
     "data": {
      "image/png": "[encoded data removed]",
      "text/plain": [
       "<Figure size 576x432 with 1 Axes>"
      ]
     },
     "metadata": {
      "needs_background": "light"
     },
     "output_type": "display_data"
    },
    {
     "name": "stdout",
     "output_type": "stream",
     "text": [
      "\n",
      "**************************************************\n",
      "\n",
      "\n",
      "**************************************************\n",
      "\n",
      "Training Fold 2...\n",
      "\n",
      "**************************************************\n",
      "\n",
      "Epoch: 1 | Train Loss: 1.26269 | Valid Loss: 0.97010 | Train Accs: 0.49948 | Valid Accs: 0.67634 | Time: 93.99 seconds\n",
      "Epoch: 2 | Train Loss: 0.83605 | Valid Loss: 0.74458 | Train Accs: 0.70957 | Valid Accs: 0.74330 | Time: 94.73 seconds\n",
      "Epoch: 3 | Train Loss: 0.69458 | Valid Loss: 0.66835 | Train Accs: 0.75485 | Valid Accs: 0.75223 | Time: 95.97 seconds\n",
      "Epoch: 4 | Train Loss: 0.64593 | Valid Loss: 0.63478 | Train Accs: 0.75826 | Valid Accs: 0.78125 | Time: 95.65 seconds\n",
      "Epoch: 5 | Train Loss: 0.61952 | Valid Loss: 0.64388 | Train Accs: 0.77430 | Valid Accs: 0.78125 | Time: 92.58 seconds\n",
      "Epoch: 6 | Train Loss: 0.57596 | Valid Loss: 0.64615 | Train Accs: 0.79873 | Valid Accs: 0.78795 | Time: 93.58 seconds\n",
      "Epoch: 7 | Train Loss: 0.56777 | Valid Loss: 0.60264 | Train Accs: 0.79703 | Valid Accs: 0.79911 | Time: 94.21 seconds\n",
      "Epoch: 8 | Train Loss: 0.54452 | Valid Loss: 0.59907 | Train Accs: 0.80756 | Valid Accs: 0.78125 | Time: 93.39 seconds\n",
      "Epoch: 9 | Train Loss: 0.54437 | Valid Loss: 0.59470 | Train Accs: 0.80428 | Valid Accs: 0.77679 | Time: 94.04 seconds\n",
      "Epoch: 10 | Train Loss: 0.54026 | Valid Loss: 0.60249 | Train Accs: 0.80245 | Valid Accs: 0.79018 | Time: 91.95 seconds\n",
      "\n",
      "**************************************************\n",
      "\n",
      "Best Validation Loss at Epoch 9\n",
      "\n",
      "**************************************************\n",
      "\n",
      "Best Validation Accs at Epoch 7\n",
      "\n",
      "**************************************************\n",
      "\n",
      "Time Taken [10 Epochs] : 15.67 minutes\n",
      "\n",
      "**************************************************\n",
      "\n"
     ]
    },
    {
     "data": {
      "image/png": "[encoded data removed]",
      "text/plain": [
       "<Figure size 432x288 with 1 Axes>"
      ]
     },
     "metadata": {
      "needs_background": "light"
     },
     "output_type": "display_data"
    },
    {
     "name": "stdout",
     "output_type": "stream",
     "text": [
      "\n",
      "**************************************************\n",
      "\n"
     ]
    },
    {
     "data": {
      "image/png": "[encoded data removed]",
      "text/plain": [
       "<Figure size 432x288 with 1 Axes>"
      ]
     },
     "metadata": {
      "needs_background": "light"
     },
     "output_type": "display_data"
    },
    {
     "name": "stdout",
     "output_type": "stream",
     "text": [
      "\n",
      "**************************************************\n",
      "\n"
     ]
    },
    {
     "data": {
      "image/png": "[encoded data removed]",
      "text/plain": [
       "<Figure size 576x432 with 1 Axes>"
      ]
     },
     "metadata": {
      "needs_background": "light"
     },
     "output_type": "display_data"
    },
    {
     "name": "stdout",
     "output_type": "stream",
     "text": [
      "\n",
      "**************************************************\n",
      "\n",
      "\n",
      "**************************************************\n",
      "\n",
      "Training Fold 3...\n",
      "\n",
      "**************************************************\n",
      "\n",
      "Epoch: 1 | Train Loss: 1.25847 | Valid Loss: 0.99550 | Train Accs: 0.50300 | Valid Accs: 0.65976 | Time: 93.99 seconds\n",
      "Epoch: 2 | Train Loss: 0.84551 | Valid Loss: 0.71326 | Train Accs: 0.70649 | Valid Accs: 0.74809 | Time: 94.50 seconds\n",
      "Epoch: 3 | Train Loss: 0.70300 | Valid Loss: 0.66237 | Train Accs: 0.74578 | Valid Accs: 0.76881 | Time: 94.02 seconds\n",
      "Epoch: 4 | Train Loss: 0.65303 | Valid Loss: 0.60612 | Train Accs: 0.75260 | Valid Accs: 0.77041 | Time: 94.34 seconds\n",
      "Epoch: 5 | Train Loss: 0.61383 | Valid Loss: 0.61129 | Train Accs: 0.77833 | Valid Accs: 0.76371 | Time: 92.31 seconds\n",
      "Epoch: 6 | Train Loss: 0.59876 | Valid Loss: 0.57383 | Train Accs: 0.78052 | Valid Accs: 0.79560 | Time: 94.46 seconds\n",
      "Epoch: 7 | Train Loss: 0.57703 | Valid Loss: 0.59365 | Train Accs: 0.78263 | Valid Accs: 0.78827 | Time: 91.75 seconds\n",
      "Epoch: 8 | Train Loss: 0.54809 | Valid Loss: 0.57986 | Train Accs: 0.80024 | Valid Accs: 0.78157 | Time: 93.30 seconds\n",
      "Epoch: 9 | Train Loss: 0.54387 | Valid Loss: 0.55134 | Train Accs: 0.79903 | Valid Accs: 0.80166 | Time: 94.35 seconds\n",
      "Epoch: 10 | Train Loss: 0.54975 | Valid Loss: 0.57761 | Train Accs: 0.79878 | Valid Accs: 0.80612 | Time: 92.84 seconds\n",
      "\n",
      "**************************************************\n",
      "\n",
      "Best Validation Loss at Epoch 9\n",
      "\n",
      "**************************************************\n",
      "\n",
      "Best Validation Accs at Epoch 10\n",
      "\n",
      "**************************************************\n",
      "\n",
      "Time Taken [10 Epochs] : 15.60 minutes\n",
      "\n",
      "**************************************************\n",
      "\n"
     ]
    },
    {
     "data": {
      "image/png": "[encoded data removed]",
      "text/plain": [
       "<Figure size 432x288 with 1 Axes>"
      ]
     },
     "metadata": {
      "needs_background": "light"
     },
     "output_type": "display_data"
    },
    {
     "name": "stdout",
     "output_type": "stream",
     "text": [
      "\n",
      "**************************************************\n",
      "\n"
     ]
    },
    {
     "data": {
      "image/png": "[encoded data removed]",
      "text/plain": [
       "<Figure size 432x288 with 1 Axes>"
      ]
     },
     "metadata": {
      "needs_background": "light"
     },
     "output_type": "display_data"
    },
    {
     "name": "stdout",
     "output_type": "stream",
     "text": [
      "\n",
      "**************************************************\n",
      "\n"
     ]
    },
    {
     "data": {
      "image/png": "[encoded data removed]",
      "text/plain": [
       "<Figure size 576x432 with 1 Axes>"
      ]
     },
     "metadata": {
      "needs_background": "light"
     },
     "output_type": "display_data"
    },
    {
     "name": "stdout",
     "output_type": "stream",
     "text": [
      "\n",
      "**************************************************\n",
      "\n",
      "\n",
      "**************************************************\n",
      "\n",
      "Training Fold 4...\n",
      "\n",
      "**************************************************\n",
      "\n",
      "Epoch: 1 | Train Loss: 1.26669 | Valid Loss: 0.97356 | Train Accs: 0.49343 | Valid Accs: 0.69292 | Time: 93.95 seconds\n",
      "Epoch: 2 | Train Loss: 0.84110 | Valid Loss: 0.70320 | Train Accs: 0.71055 | Valid Accs: 0.75829 | Time: 95.13 seconds\n",
      "Epoch: 3 | Train Loss: 0.70435 | Valid Loss: 0.67168 | Train Accs: 0.74862 | Valid Accs: 0.76562 | Time: 94.61 seconds\n",
      "Epoch: 4 | Train Loss: 0.64471 | Valid Loss: 0.62039 | Train Accs: 0.77192 | Valid Accs: 0.76945 | Time: 94.90 seconds\n",
      "Epoch: 5 | Train Loss: 0.59616 | Valid Loss: 0.60781 | Train Accs: 0.78068 | Valid Accs: 0.79624 | Time: 94.20 seconds\n",
      "Epoch: 6 | Train Loss: 0.58534 | Valid Loss: 0.59079 | Train Accs: 0.78718 | Valid Accs: 0.79177 | Time: 93.85 seconds\n",
      "Epoch: 7 | Train Loss: 0.56509 | Valid Loss: 0.58222 | Train Accs: 0.79058 | Valid Accs: 0.80070 | Time: 93.50 seconds\n",
      "Epoch: 8 | Train Loss: 0.56001 | Valid Loss: 0.58660 | Train Accs: 0.79740 | Valid Accs: 0.80740 | Time: 92.32 seconds\n",
      "Epoch: 9 | Train Loss: 0.55279 | Valid Loss: 0.58973 | Train Accs: 0.80154 | Valid Accs: 0.79847 | Time: 92.05 seconds\n",
      "Epoch: 10 | Train Loss: 0.53723 | Valid Loss: 0.59168 | Train Accs: 0.81104 | Valid Accs: 0.78731 | Time: 91.42 seconds\n",
      "\n",
      "**************************************************\n",
      "\n",
      "Best Validation Loss at Epoch 7\n",
      "\n",
      "**************************************************\n",
      "\n",
      "Best Validation Accs at Epoch 8\n",
      "\n",
      "**************************************************\n",
      "\n",
      "Time Taken [10 Epochs] : 15.60 minutes\n",
      "\n",
      "**************************************************\n",
      "\n"
     ]
    },
    {
     "data": {
      "image/png": "[encoded data removed]",
      "text/plain": [
       "<Figure size 432x288 with 1 Axes>"
      ]
     },
     "metadata": {
      "needs_background": "light"
     },
     "output_type": "display_data"
    },
    {
     "name": "stdout",
     "output_type": "stream",
     "text": [
      "\n",
      "**************************************************\n",
      "\n"
     ]
    },
    {
     "data": {
      "image/png": "[encoded data removed]",
      "text/plain": [
       "<Figure size 432x288 with 1 Axes>"
      ]
     },
     "metadata": {
      "needs_background": "light"
     },
     "output_type": "display_data"
    },
    {
     "name": "stdout",
     "output_type": "stream",
     "text": [
      "\n",
      "**************************************************\n",
      "\n"
     ]
    },
    {
     "data": {
      "image/png": "[encoded data removed]",
      "text/plain": [
       "<Figure size 576x432 with 1 Axes>"
      ]
     },
     "metadata": {
      "needs_background": "light"
     },
     "output_type": "display_data"
    },
    {
     "name": "stdout",
     "output_type": "stream",
     "text": [
      "\n",
      "**************************************************\n",
      "\n",
      "\n",
      "**************************************************\n",
      "\n",
      "Training Fold 5...\n",
      "\n",
      "**************************************************\n",
      "\n",
      "Epoch: 1 | Train Loss: 1.25582 | Valid Loss: 0.99234 | Train Accs: 0.49375 | Valid Accs: 0.66709 | Time: 93.98 seconds\n",
      "Epoch: 2 | Train Loss: 0.85274 | Valid Loss: 0.77348 | Train Accs: 0.71047 | Valid Accs: 0.73980 | Time: 95.41 seconds\n",
      "Epoch: 3 | Train Loss: 0.71380 | Valid Loss: 0.74307 | Train Accs: 0.74383 | Valid Accs: 0.69069 | Time: 93.31 seconds\n",
      "Epoch: 4 | Train Loss: 0.63381 | Valid Loss: 0.65659 | Train Accs: 0.77248 | Valid Accs: 0.74872 | Time: 94.95 seconds\n",
      "Epoch: 5 | Train Loss: 0.60267 | Valid Loss: 0.60788 | Train Accs: 0.78677 | Valid Accs: 0.76148 | Time: 94.98 seconds\n",
      "Epoch: 6 | Train Loss: 0.57573 | Valid Loss: 0.65965 | Train Accs: 0.79196 | Valid Accs: 0.73023 | Time: 91.66 seconds\n",
      "Epoch: 7 | Train Loss: 0.55431 | Valid Loss: 0.63555 | Train Accs: 0.80714 | Valid Accs: 0.76435 | Time: 92.07 seconds\n",
      "Epoch: 8 | Train Loss: 0.55169 | Valid Loss: 0.62178 | Train Accs: 0.79968 | Valid Accs: 0.75925 | Time: 92.23 seconds\n",
      "Epoch: 9 | Train Loss: 0.55101 | Valid Loss: 0.61296 | Train Accs: 0.81112 | Valid Accs: 0.76212 | Time: 92.05 seconds\n",
      "Epoch: 10 | Train Loss: 0.53698 | Valid Loss: 0.59868 | Train Accs: 0.81461 | Valid Accs: 0.76658 | Time: 94.76 seconds\n",
      "\n",
      "**************************************************\n",
      "\n",
      "Best Validation Loss at Epoch 10\n",
      "\n",
      "**************************************************\n",
      "\n",
      "Best Validation Accs at Epoch 10\n",
      "\n",
      "**************************************************\n",
      "\n",
      "Time Taken [10 Epochs] : 15.59 minutes\n",
      "\n",
      "**************************************************\n",
      "\n"
     ]
    },
    {
     "data": {
      "image/png": "[encoded data removed]",
      "text/plain": [
       "<Figure size 432x288 with 1 Axes>"
      ]
     },
     "metadata": {
      "needs_background": "light"
     },
     "output_type": "display_data"
    },
    {
     "name": "stdout",
     "output_type": "stream",
     "text": [
      "\n",
      "**************************************************\n",
      "\n"
     ]
    },
    {
     "data": {
      "image/png": "[encoded data removed]",
      "text/plain": [
       "<Figure size 432x288 with 1 Axes>"
      ]
     },
     "metadata": {
      "needs_background": "light"
     },
     "output_type": "display_data"
    },
    {
     "name": "stdout",
     "output_type": "stream",
     "text": [
      "\n",
      "**************************************************\n",
      "\n"
     ]
    },
    {
     "data": {
      "image/png": "[encoded data removed]",
      "text/plain": [
       "<Figure size 576x432 with 1 Axes>"
      ]
     },
     "metadata": {
      "needs_background": "light"
     },
     "output_type": "display_data"
    },
    {
     "name": "stdout",
     "output_type": "stream",
     "text": [
      "\n",
      "**************************************************\n",
      "\n"
     ]
    }
   ],
   "source": [
    "fold: int = 1\n",
    "BLs: list = []\n",
    "BAs: list = []\n",
    "    \n",
    "cfg.batch_size = 16\n",
    "cfg.epochs = 10\n",
    "    \n",
    "for tr_idx, va_idx in StratifiedKFold(n_splits=cfg.n_splits, random_state=cfg.seed, shuffle=True).split(filepaths, labels):\n",
    "#     if fold == 1: break\n",
    "#     fold += 1\n",
    "\n",
    "    tr_filepaths, va_filepaths = filepaths[tr_idx], filepaths[va_idx] \n",
    "    tr_labels, va_labels       = labels[tr_idx], labels[va_idx]\n",
    "\n",
    "    tr_data_setup = DS(\n",
    "        filepaths=tr_filepaths, \n",
    "        labels=tr_labels.reshape(-1, 1),\n",
    "        size=cfg.size,\n",
    "        transform=cfg.train_transform\n",
    "    )\n",
    "\n",
    "    va_data_setup = DS(\n",
    "        filepaths=va_filepaths, \n",
    "        labels=va_labels.reshape(-1, 1),\n",
    "        size=cfg.size,\n",
    "        transform=cfg.train_transform\n",
    "    )\n",
    "\n",
    "    dataloaders = {\n",
    "        \"train\" : DL(tr_data_setup, batch_size=cfg.batch_size, shuffle=True, generator=torch.manual_seed(cfg.seed)),\n",
    "        \"valid\" : DL(va_data_setup, batch_size=cfg.batch_size, shuffle=False),\n",
    "    }\n",
    "\n",
    "    cfg.steps_per_epoch=len(dataloaders[\"train\"])\n",
    "\n",
    "    torch.manual_seed(cfg.seed)\n",
    "    model = Model().to(cfg.device)\n",
    "\n",
    "    optimizer = optim.Adam([p for p in model.parameters() if p.requires_grad], lr=cfg.lr, weight_decay=cfg.wd)\n",
    "    # optimizer = optim.AdamW([p for p in model.parameters() if p.requires_grad], lr=cfg.lr, weight_decay=cfg.wd)\n",
    "    # optimizer = optim.SGD([p for p in model.parameters() if p.requires_grad], lr=cfg.lr, weight_decay=cfg.wd, momentum=0.9)\n",
    "\n",
    "    scheduler_oclr = optim.lr_scheduler.OneCycleLR(\n",
    "        optimizer=optimizer, \n",
    "        max_lr=cfg.max_lr, \n",
    "        epochs=cfg.epochs, \n",
    "        steps_per_epoch=cfg.steps_per_epoch,\n",
    "        pct_start=cfg.pct_start, \n",
    "        div_factor=cfg.div_factor, \n",
    "        final_div_factor=cfg.final_div_factor\n",
    "    )\n",
    "\n",
    "    # scheduler_rlrop = optim.lr_scheduler.ReduceLROnPlateau(\n",
    "    #     optimizer=optimizer,\n",
    "    #     patience=cfg.patience,\n",
    "    #     eps=cfg.eps,\n",
    "    #     verbose=True\n",
    "    # )\n",
    "\n",
    "    # scheduler_oclr = None\n",
    "    scheduler_rlrop = None\n",
    "\n",
    "\n",
    "    L, A, LR, BL, BA, _, _, _, _ = fit(\n",
    "        model=model, \n",
    "        optimizer=optimizer, \n",
    "        scheduler_oclr=scheduler_oclr,\n",
    "        scheduler_rlrop=scheduler_rlrop,\n",
    "        epochs=cfg.epochs, \n",
    "        early_stopping_patience=cfg.early_stopping, \n",
    "        dataloaders=dataloaders, \n",
    "        device=cfg.device,\n",
    "        save_path=cfg.save_path,\n",
    "        fold=fold,\n",
    "        verbose=True\n",
    "    )\n",
    "\n",
    "\n",
    "    breaker()\n",
    "    show_loss_graphs(L)\n",
    "    breaker()\n",
    "    show_accuracy_graphs(A)\n",
    "    breaker()\n",
    "    if scheduler_oclr:\n",
    "        show_lr_graph(LR)\n",
    "        breaker()\n",
    "\n",
    "    BLs.append(BL)\n",
    "    BAs.append(BA)\n",
    "\n",
    "    fold += 1"
   ]
  },
  {
   "cell_type": "markdown",
   "id": "d75a3fd3",
   "metadata": {
    "papermill": {
     "duration": 0.010676,
     "end_time": "2023-01-12T06:34:32.584037",
     "exception": false,
     "start_time": "2023-01-12T06:34:32.573361",
     "status": "completed"
    },
    "tags": []
   },
   "source": [
    "### **Best Model**"
   ]
  },
  {
   "cell_type": "code",
   "execution_count": 10,
   "id": "82bfbcf1",
   "metadata": {
    "execution": {
     "iopub.execute_input": "2023-01-12T06:34:32.608292Z",
     "iopub.status.busy": "2023-01-12T06:34:32.606839Z",
     "iopub.status.idle": "2023-01-12T06:34:32.615143Z",
     "shell.execute_reply": "2023-01-12T06:34:32.614254Z"
    },
    "papermill": {
     "duration": 0.022337,
     "end_time": "2023-01-12T06:34:32.617297",
     "exception": false,
     "start_time": "2023-01-12T06:34:32.594960",
     "status": "completed"
    },
    "tags": []
   },
   "outputs": [
    {
     "name": "stdout",
     "output_type": "stream",
     "text": [
      "\n",
      "**************************************************\n",
      "\n",
      "Best Loss Model Fold     : 1\n",
      "Best Accuracy Model Fold : 4\n",
      "\n",
      "**************************************************\n",
      "\n"
     ]
    }
   ],
   "source": [
    "BL = np.inf\n",
    "for i in range(len(BLs)):\n",
    "    if BLs[i][\"valid\"] < BL:\n",
    "        BL = BLs[i][\"valid\"]\n",
    "        best_loss_index = i\n",
    "\n",
    "        \n",
    "BA = 0.0\n",
    "for i in range(len(BAs)):\n",
    "    if BAs[i][\"valid\"] > BA:\n",
    "        BA = BAs[i][\"valid\"]\n",
    "        best_accs_index = i\n",
    "\n",
    "breaker()\n",
    "print(f\"Best Loss Model Fold     : {best_loss_index + 1}\")\n",
    "print(f\"Best Accuracy Model Fold : {best_accs_index + 1}\")\n",
    "breaker()"
   ]
  }
 ],
 "metadata": {
  "kernelspec": {
   "display_name": "Python 3",
   "language": "python",
   "name": "python3"
  },
  "language_info": {
   "codemirror_mode": {
    "name": "ipython",
    "version": 3
   },
   "file_extension": ".py",
   "mimetype": "text/x-python",
   "name": "python",
   "nbconvert_exporter": "python",
   "pygments_lexer": "ipython3",
   "version": "3.7.12"
  },
  "papermill": {
   "default_parameters": {},
   "duration": 4822.321317,
   "end_time": "2023-01-12T06:34:34.260881",
   "environment_variables": {},
   "exception": null,
   "input_path": "__notebook__.ipynb",
   "output_path": "__notebook__.ipynb",
   "parameters": {},
   "start_time": "2023-01-12T05:14:11.939564",
   "version": "2.3.4"
  }
 },
 "nbformat": 4,
 "nbformat_minor": 5
}
