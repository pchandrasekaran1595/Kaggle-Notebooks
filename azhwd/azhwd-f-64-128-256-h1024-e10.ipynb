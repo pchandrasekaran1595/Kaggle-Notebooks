{
 "cells": [
  {
   "cell_type": "markdown",
   "id": "4440f43c",
   "metadata": {
    "_cell_guid": "b1076dfc-b9ad-4769-8c92-a6c4dae69d19",
    "_uuid": "8f2839f25d086af736a60e9eeb907d3b93b6e0e5",
    "papermill": {
     "duration": 0.004403,
     "end_time": "2023-01-22T10:30:20.484938",
     "exception": false,
     "start_time": "2023-01-22T10:30:20.480535",
     "status": "completed"
    },
    "tags": []
   },
   "source": [
    "### **Library Imports**"
   ]
  },
  {
   "cell_type": "code",
   "execution_count": 1,
   "id": "b8b34201",
   "metadata": {
    "execution": {
     "iopub.execute_input": "2023-01-22T10:30:20.494191Z",
     "iopub.status.busy": "2023-01-22T10:30:20.493345Z",
     "iopub.status.idle": "2023-01-22T10:30:23.230352Z",
     "shell.execute_reply": "2023-01-22T10:30:23.229280Z"
    },
    "papermill": {
     "duration": 2.744788,
     "end_time": "2023-01-22T10:30:23.233225",
     "exception": false,
     "start_time": "2023-01-22T10:30:20.488437",
     "status": "completed"
    },
    "tags": []
   },
   "outputs": [],
   "source": [
    "import os\n",
    "import re\n",
    "import cv2\n",
    "import torch\n",
    "import numpy as np\n",
    "import pandas as pd\n",
    "import matplotlib.pyplot as plt\n",
    "\n",
    "from time import time\n",
    "from typing import Union\n",
    "from torch import nn, optim\n",
    "from torch.utils.data import Dataset\n",
    "from torch.utils.data import DataLoader as DL\n",
    "from torchvision import transforms\n",
    "\n",
    "from sklearn.model_selection import StratifiedKFold"
   ]
  },
  {
   "cell_type": "code",
   "execution_count": 2,
   "id": "c1581e44",
   "metadata": {
    "execution": {
     "iopub.execute_input": "2023-01-22T10:30:23.244646Z",
     "iopub.status.busy": "2023-01-22T10:30:23.244116Z",
     "iopub.status.idle": "2023-01-22T10:30:23.262281Z",
     "shell.execute_reply": "2023-01-22T10:30:23.261454Z"
    },
    "papermill": {
     "duration": 0.026406,
     "end_time": "2023-01-22T10:30:23.264840",
     "exception": false,
     "start_time": "2023-01-22T10:30:23.238434",
     "status": "completed"
    },
    "tags": []
   },
   "outputs": [],
   "source": [
    "SEED: int = 42\n",
    "SIZE: int = 28\n",
    "\n",
    "\n",
    "def breaker(num: int=50, char: str=\"*\") -> None: print(\"\\n\" + num*char + \"\\n\")\n",
    "\n",
    "    \n",
    "def show_loss_graphs(L: list) -> None:\n",
    "    TL, VL = [], []\n",
    "    for i in range(len(L)):\n",
    "        TL.append(L[i][\"train\"])\n",
    "        VL.append(L[i][\"valid\"])\n",
    "    x_Axis = np.arange(1, len(TL) + 1)\n",
    "    plt.figure()\n",
    "    plt.plot(x_Axis, TL, \"r\", label=\"Train\")\n",
    "    plt.plot(x_Axis, VL, \"b\", label=\"Valid\")\n",
    "    plt.legend()\n",
    "    plt.grid()\n",
    "    plt.title(\"Loss Graph\")\n",
    "    plt.show()\n",
    "    \n",
    "\n",
    "def show_accuracy_graphs(A: list) -> None:\n",
    "    TA, VA = [], []\n",
    "    for i in range(len(A)):\n",
    "        TA.append(A[i][\"train\"])\n",
    "        VA.append(A[i][\"valid\"])\n",
    "    x_Axis = np.arange(1, len(TA) + 1)\n",
    "    plt.figure()\n",
    "    plt.plot(x_Axis, TA, \"r\", label=\"Train\")\n",
    "    plt.plot(x_Axis, VA, \"b\", label=\"Valid\")\n",
    "    plt.legend()\n",
    "    plt.grid()\n",
    "    plt.title(\"Accuracy Graph\")\n",
    "    plt.show()\n",
    "    \n",
    "\n",
    "def show_lr_graph(LR: list) -> None:\n",
    "    x_Axis = [i+1 for i in range(len(LR))]\n",
    "    plt.figure(figsize=(8, 6))\n",
    "    plt.plot(x_Axis, LR, \"rx\")\n",
    "    plt.grid()\n",
    "    plt.show()"
   ]
  },
  {
   "cell_type": "code",
   "execution_count": 3,
   "id": "75a6d374",
   "metadata": {
    "execution": {
     "iopub.execute_input": "2023-01-22T10:30:23.276954Z",
     "iopub.status.busy": "2023-01-22T10:30:23.276597Z",
     "iopub.status.idle": "2023-01-22T10:30:23.350447Z",
     "shell.execute_reply": "2023-01-22T10:30:23.349450Z"
    },
    "papermill": {
     "duration": 0.082689,
     "end_time": "2023-01-22T10:30:23.353169",
     "exception": false,
     "start_time": "2023-01-22T10:30:23.270480",
     "status": "completed"
    },
    "tags": []
   },
   "outputs": [],
   "source": [
    "class CFG(object):\n",
    "    def __init__(self,\n",
    "             seed: int = 42,\n",
    "             size: int = 224,\n",
    "             n_splits: int = 5,\n",
    "             batch_size: int = 16,\n",
    "             epochs: int = 25,\n",
    "             early_stopping: int = 5,\n",
    "             lr: float = 1e-4,\n",
    "             wd: float = 0.0,\n",
    "             max_lr: float = 1e-3,\n",
    "             pct_start: float = 0.2,\n",
    "             steps_per_epoch: int = 100,\n",
    "             div_factor: int = 1e3, \n",
    "             final_div_factor: float = 1e3,\n",
    "             filter_sizes: list = [64, 128, 256],\n",
    "             HL: list = [1024]\n",
    "         ):\n",
    "        \n",
    "        self.seed = seed\n",
    "        self.size = size\n",
    "        self.n_splits = n_splits\n",
    "        self.batch_size = batch_size\n",
    "        self.epochs = epochs\n",
    "        self.early_stopping = early_stopping\n",
    "        self.lr = lr\n",
    "        self.wd = wd\n",
    "        self.max_lr = max_lr\n",
    "        self.pct_start = pct_start\n",
    "        self.steps_per_epoch = steps_per_epoch\n",
    "        self.div_factor = div_factor\n",
    "        self.final_div_factor = final_div_factor\n",
    "        self.filter_sizes = filter_sizes\n",
    "        self.HL = HL\n",
    "        self.device = torch.device(\"cuda\" if torch.cuda.is_available() else \"cpu\")\n",
    "        \n",
    "        self.train_transform = transforms.Compose([\n",
    "            transforms.ToTensor(),\n",
    "            transforms.Normalize([0.15344], [0.19509]),\n",
    "            transforms.RandomAffine(degrees=(-45, 45), translate=(0.15, 0.15), scale=(0.5, 1.5)),\n",
    "            transforms.RandomHorizontalFlip(p=0.25),\n",
    "            transforms.RandomVerticalFlip(p=0.25),\n",
    "        ])\n",
    "        self.valid_transform = transforms.Compose([\n",
    "            transforms.ToTensor(),\n",
    "            transforms.Normalize([0.15344], [0.19509]),\n",
    "        ])\n",
    "        self.save_path = \"saves\"\n",
    "        if not os.path.exists(self.save_path): os.makedirs(self.save_path)\n",
    "\n",
    "\n",
    "cfg = CFG(\n",
    "    seed=SEED, \n",
    "    size=SIZE\n",
    ")"
   ]
  },
  {
   "cell_type": "markdown",
   "id": "7d8061e1",
   "metadata": {
    "papermill": {
     "duration": 0.004633,
     "end_time": "2023-01-22T10:30:23.363143",
     "exception": false,
     "start_time": "2023-01-22T10:30:23.358510",
     "status": "completed"
    },
    "tags": []
   },
   "source": [
    "### **Dataset Template**"
   ]
  },
  {
   "cell_type": "code",
   "execution_count": 4,
   "id": "3c6af96e",
   "metadata": {
    "execution": {
     "iopub.execute_input": "2023-01-22T10:30:23.374144Z",
     "iopub.status.busy": "2023-01-22T10:30:23.373824Z",
     "iopub.status.idle": "2023-01-22T10:30:23.381875Z",
     "shell.execute_reply": "2023-01-22T10:30:23.380975Z"
    },
    "papermill": {
     "duration": 0.017492,
     "end_time": "2023-01-22T10:30:23.385479",
     "exception": false,
     "start_time": "2023-01-22T10:30:23.367987",
     "status": "completed"
    },
    "tags": []
   },
   "outputs": [],
   "source": [
    "class DS(Dataset):\n",
    "    def __init__(\n",
    "        self, \n",
    "        images: np.ndarray, \n",
    "        labels: Union[np.ndarray, None]=None, \n",
    "        transform=None\n",
    "    ):\n",
    "        \n",
    "        self.images = images\n",
    "        self.labels = labels\n",
    "        self.transform = transform\n",
    "\n",
    "    def __len__(self):\n",
    "        return self.images.shape[0]\n",
    "\n",
    "    def __getitem__(self, idx):\n",
    "        if self.labels is not None:\n",
    "            return self.transform(self.images[idx]), torch.LongTensor(self.labels[idx])\n",
    "        return self.transform(self.images[idx])"
   ]
  },
  {
   "cell_type": "markdown",
   "id": "052aa267",
   "metadata": {
    "papermill": {
     "duration": 0.004589,
     "end_time": "2023-01-22T10:30:23.394935",
     "exception": false,
     "start_time": "2023-01-22T10:30:23.390346",
     "status": "completed"
    },
    "tags": []
   },
   "source": [
    "### **Model**"
   ]
  },
  {
   "cell_type": "code",
   "execution_count": 5,
   "id": "b3040218",
   "metadata": {
    "execution": {
     "iopub.execute_input": "2023-01-22T10:30:23.405839Z",
     "iopub.status.busy": "2023-01-22T10:30:23.405517Z",
     "iopub.status.idle": "2023-01-22T10:30:23.430796Z",
     "shell.execute_reply": "2023-01-22T10:30:23.429965Z"
    },
    "papermill": {
     "duration": 0.03351,
     "end_time": "2023-01-22T10:30:23.433359",
     "exception": false,
     "start_time": "2023-01-22T10:30:23.399849",
     "status": "completed"
    },
    "tags": []
   },
   "outputs": [],
   "source": [
    "class Model(nn.Module):\n",
    "    def __init__(self, filter_sizes: list, HL: list, DP: Union[float, None]=None):\n",
    "        \n",
    "        super(Model, self).__init__()\n",
    "        \n",
    "        self.features = nn.Sequential()\n",
    "        self.features.add_module(\"CN1\", nn.Conv2d(in_channels=1, out_channels=filter_sizes[0], kernel_size=(3, 3), stride=(1, 1), padding=(1, 1)))\n",
    "        self.features.add_module(\"BN1\", nn.BatchNorm2d(num_features=filter_sizes[0], eps=1e-5))\n",
    "        self.features.add_module(\"AN1\", nn.ReLU())\n",
    "        self.features.add_module(\"MP1\", nn.MaxPool2d(kernel_size=(2, 2)))\n",
    "        self.features.add_module(\"CN2\", nn.Conv2d(in_channels=filter_sizes[0], out_channels=filter_sizes[1], kernel_size=(3, 3), stride=(1, 1), padding=(1, 1)))\n",
    "        self.features.add_module(\"BN2\", nn.BatchNorm2d(num_features=filter_sizes[1], eps=1e-5))\n",
    "        self.features.add_module(\"AN2\", nn.ReLU())\n",
    "        self.features.add_module(\"MP2\", nn.MaxPool2d(kernel_size=(2, 2)))\n",
    "        self.features.add_module(\"CN3\", nn.Conv2d(in_channels=filter_sizes[1], out_channels=filter_sizes[2], kernel_size=(3, 3), stride=(1, 1), padding=(1, 1)))\n",
    "        self.features.add_module(\"BN3\", nn.BatchNorm2d(num_features=filter_sizes[2], eps=1e-5))\n",
    "        self.features.add_module(\"AN3\", nn.ReLU())\n",
    "        self.features.add_module(\"MP3\", nn.MaxPool2d(kernel_size=(2, 2))) \n",
    "        \n",
    "        self.classifier = nn.Sequential()\n",
    "        if len(HL) == 0:\n",
    "            self.classifier.add_module(\"FC1\", nn.Linear(in_features=filter_sizes[2]*3*3, out_features=26))\n",
    "        elif len(HL) == 1:\n",
    "            self.classifier.add_module(\"FC1\", nn.Linear(in_features=filter_sizes[2]*3*3, out_features=HL[0]))\n",
    "            if isinstance(DP, float):\n",
    "                self.classifier.add_module(\"DP1\", nn.Dropout(p=DP))\n",
    "            self.classifier.add_module(\"AN1\", nn.ReLU())\n",
    "            self.classifier.add_module(\"FC2\", nn.Linear(in_features=HL[0], out_features=26))\n",
    "        elif len(HL) == 2:\n",
    "            self.classifier.add_module(\"FC1\", nn.Linear(in_features=filter_sizes[2]*3*3, out_features=HL[0]))\n",
    "            if isinstance(DP, float):\n",
    "                self.classifier.add_module(\"DP1\", nn.Dropout(p=DP))\n",
    "            self.classifier.add_module(\"AN1\", nn.ReLU())\n",
    "            self.classifier.add_module(\"FC2\", nn.Linear(in_features=HL[0], out_features=HL[1]))\n",
    "            if isinstance(DP, float):\n",
    "                self.classifier.add_module(\"DP2\", nn.Dropout(p=DP))\n",
    "            self.classifier.add_module(\"AN2\", nn.ReLU())\n",
    "            self.classifier.add_module(\"FC3\", nn.Linear(in_features=HL[1], out_features=26))\n",
    "        self.classifier.add_module(\"Final Activation\", nn.LogSoftmax(dim=1))\n",
    "    \n",
    "    def forward(self, x):\n",
    "        x = self.features(x)\n",
    "        x = x.view(x.shape[0], -1)\n",
    "        return self.classifier(x)"
   ]
  },
  {
   "cell_type": "markdown",
   "id": "c6c7a018",
   "metadata": {
    "papermill": {
     "duration": 0.004572,
     "end_time": "2023-01-22T10:30:23.443284",
     "exception": false,
     "start_time": "2023-01-22T10:30:23.438712",
     "status": "completed"
    },
    "tags": []
   },
   "source": [
    "### **Fit and Predict**"
   ]
  },
  {
   "cell_type": "code",
   "execution_count": 6,
   "id": "a07575d1",
   "metadata": {
    "execution": {
     "iopub.execute_input": "2023-01-22T10:30:23.454418Z",
     "iopub.status.busy": "2023-01-22T10:30:23.454082Z",
     "iopub.status.idle": "2023-01-22T10:30:23.502131Z",
     "shell.execute_reply": "2023-01-22T10:30:23.496598Z"
    },
    "papermill": {
     "duration": 0.057028,
     "end_time": "2023-01-22T10:30:23.505052",
     "exception": false,
     "start_time": "2023-01-22T10:30:23.448024",
     "status": "completed"
    },
    "tags": []
   },
   "outputs": [],
   "source": [
    "def fit(\n",
    "    model=None,\n",
    "    optimizer=None, \n",
    "    scheduler_rlrop=None,\n",
    "    scheduler_oclr=None,\n",
    "    epochs=None, \n",
    "    early_stopping_patience=None, \n",
    "    dataloaders=None, \n",
    "    fold=None, \n",
    "    save_path=None,\n",
    "    device=None,\n",
    "    verbose=False\n",
    ") -> tuple:\n",
    "    \n",
    "    def get_accuracy(y_pred, y_true):\n",
    "        y_pred = torch.argmax(y_pred, dim=1)\n",
    "        return torch.count_nonzero(y_pred == y_true).item() / len(y_pred)\n",
    "    \n",
    "    if verbose:\n",
    "        breaker()\n",
    "        if fold: print(f\"Training Fold {fold}...\")\n",
    "        else: print(\"Training ...\")\n",
    "        breaker()\n",
    "        \n",
    "    bestLoss: dict = {\"train\" : np.inf, \"valid\" : np.inf} \n",
    "    bestAccs: dict = {\"train\" : 0.0, \"valid\" : 0.0}\n",
    "        \n",
    "    Losses: list = []\n",
    "    Accuracies: list = [] \n",
    "    LRs: list = []\n",
    "        \n",
    "    if fold: \n",
    "        ble_name = f\"ble_state_fold_{fold}.pt\"\n",
    "        bae_name = f\"bae_state_fold_{fold}.pt\"\n",
    "    else: \n",
    "        ble_name = f\"ble_state.pt\"\n",
    "        bae_name = f\"bae_state.pt\"\n",
    "        \n",
    "    start_time = time()\n",
    "    for e in range(epochs):\n",
    "        e_st = time()\n",
    "        epochLoss: dict = {\"train\" : 0.0, \"valid\" : 0.0} \n",
    "        epochAccs: dict = {\"train\" : 0.0, \"valid\" : 0.0}\n",
    "            \n",
    "        for phase in [\"train\", \"valid\"]:\n",
    "            if phase == \"train\":\n",
    "                model.train()\n",
    "            else:\n",
    "                model.eval()\n",
    "            \n",
    "            lossPerPass: list = []\n",
    "            accsPerPass: list = []\n",
    "                \n",
    "            for X, y in dataloaders[phase]:\n",
    "                X, y = X.to(device), y.to(device).view(-1)\n",
    "                \n",
    "                optimizer.zero_grad()\n",
    "                with torch.set_grad_enabled(phase == \"train\"):\n",
    "                    output = model(X)\n",
    "                    loss = nn.NLLLoss()(output, y)\n",
    "                    if phase == \"train\":\n",
    "                        loss.backward()\n",
    "                        optimizer.step()\n",
    "                        if scheduler_oclr: scheduler_oclr.step()\n",
    "                lossPerPass.append(loss.item())\n",
    "                accsPerPass.append(get_accuracy(output, y))\n",
    "            epochLoss[phase] = np.mean(np.array(lossPerPass))\n",
    "            epochAccs[phase] = np.mean(np.array(accsPerPass))\n",
    "        if scheduler_oclr: LRs.append(scheduler_oclr.get_last_lr())\n",
    "        Losses.append(epochLoss)\n",
    "        Accuracies.append(epochAccs)\n",
    "        \n",
    "        if scheduler_oclr:\n",
    "            save_dict = {\"model_state_dict\"     : model.state_dict(),\n",
    "                         \"optim_state_dict\"     : optimizer.state_dict(),\n",
    "                         \"scheduler_state_dict\" : scheduler_oclr.state_dict()}\n",
    "        \n",
    "        elif scheduler_rlrop:\n",
    "            save_dict = {\"model_state_dict\"     : model.state_dict(),\n",
    "                         \"optim_state_dict\"     : optimizer.state_dict(),\n",
    "                         \"scheduler_state_dict\" : scheduler_rlrop.state_dict()}\n",
    "        \n",
    "        else:\n",
    "            save_dict = {\"model_state_dict\"     : model.state_dict(),\n",
    "                         \"optim_state_dict\"     : optimizer.state_dict()}\n",
    "        \n",
    "        if early_stopping_patience:\n",
    "            if epochLoss[\"valid\"] < bestLoss[\"valid\"]:\n",
    "                bestLoss = epochLoss\n",
    "                BLE = e + 1\n",
    "                torch.save(save_dict, os.path.join(save_path, ble_name))\n",
    "                torch.save(save_dict, os.path.join(save_path, bae_name))\n",
    "                early_stopping_step = 0\n",
    "            else:\n",
    "                early_stopping_step += 1\n",
    "                if early_stopping_step > early_stopping_patience:\n",
    "                    print(\"\\nEarly Stopping at Epoch {}\".format(e + 1))\n",
    "                    break\n",
    "        \n",
    "        if epochLoss[\"valid\"] < bestLoss[\"valid\"]:\n",
    "            bestLoss = epochLoss\n",
    "            BLE = e + 1\n",
    "            torch.save(save_dict,os.path.join(save_path, ble_name))\n",
    "        \n",
    "        if epochAccs[\"valid\"] > bestAccs[\"valid\"]:\n",
    "            bestAccs = epochAccs\n",
    "            BAE = e + 1\n",
    "            torch.save(save_dict,os.path.join(save_path, bae_name))\n",
    "        \n",
    "        if scheduler_rlrop: scheduler_rlrop.step(epochLoss[\"valid\"])\n",
    "        \n",
    "        if verbose:\n",
    "            print(\"Epoch: {} | Train Loss: {:.5f} | Valid Loss: {:.5f} |\\\n",
    " Train Accs: {:.5f} | Valid Accs: {:.5f} | Time: {:.2f} seconds\".format(\n",
    "                e+1, \n",
    "                epochLoss[\"train\"], epochLoss[\"valid\"], \n",
    "                epochAccs[\"train\"], epochAccs[\"valid\"], \n",
    "                time()-e_st)\n",
    "            )\n",
    "        \n",
    "    if verbose:                                           \n",
    "        breaker()\n",
    "        print(f\"Best Validation Loss at Epoch {BLE}\")\n",
    "        breaker()\n",
    "        print(f\"Best Validation Accs at Epoch {BAE}\")\n",
    "        breaker()\n",
    "        print(\"Time Taken [{} Epochs] : {:.2f} minutes\".format(len(Losses), (time()-start_time)/60))\n",
    "    \n",
    "    return Losses, Accuracies, LRs, bestLoss, bestAccs, BLE, BAE, ble_name, bae_name\n",
    "\n",
    "\n",
    "# def predict_batch(model=None, dataloader=None, path=None, device=None) -> np.ndarray:\n",
    "#     model.load_state_dict(torch.load(path, map_location=device)[\"model_state_dict\"])\n",
    "#     model.to(device)    \n",
    "#     model.eval()\n",
    "    \n",
    "#     y_pred = torch.zeros(1, 1).to(device)\n",
    "    \n",
    "#     for X in dataloader:\n",
    "#         X = X.to(device)\n",
    "#         with torch.no_grad():\n",
    "#             output = torch.argmax(torch.exp(model(X)), dim=1)\n",
    "#         y_pred = torch.cat((y_pred, output.view(-1, 1)), dim=0)\n",
    "    \n",
    "#     return y_pred[1:].detach().cpu().numpy()"
   ]
  },
  {
   "cell_type": "markdown",
   "id": "0a16e4b3",
   "metadata": {
    "papermill": {
     "duration": 0.003286,
     "end_time": "2023-01-22T10:30:23.511922",
     "exception": false,
     "start_time": "2023-01-22T10:30:23.508636",
     "status": "completed"
    },
    "tags": []
   },
   "source": [
    "### **Train**"
   ]
  },
  {
   "cell_type": "code",
   "execution_count": 7,
   "id": "18156491",
   "metadata": {
    "execution": {
     "iopub.execute_input": "2023-01-22T10:30:23.520543Z",
     "iopub.status.busy": "2023-01-22T10:30:23.520242Z",
     "iopub.status.idle": "2023-01-22T10:30:53.689700Z",
     "shell.execute_reply": "2023-01-22T10:30:53.688691Z"
    },
    "papermill": {
     "duration": 30.176616,
     "end_time": "2023-01-22T10:30:53.692319",
     "exception": false,
     "start_time": "2023-01-22T10:30:23.515703",
     "status": "completed"
    },
    "tags": []
   },
   "outputs": [],
   "source": [
    "df = pd.read_csv(\"/kaggle/input/az-handwritten-alphabets-in-csv-format/A_Z Handwritten Data.csv\")\n",
    "\n",
    "images = df.iloc[:, 1:].copy().values.reshape(df.shape[0], 28, 28, 1).astype(\"uint8\")\n",
    "labels = df.iloc[:, 0].copy().values"
   ]
  },
  {
   "cell_type": "code",
   "execution_count": 8,
   "id": "02802ce1",
   "metadata": {
    "execution": {
     "iopub.execute_input": "2023-01-22T10:30:53.701289Z",
     "iopub.status.busy": "2023-01-22T10:30:53.700511Z",
     "iopub.status.idle": "2023-01-22T13:21:09.348112Z",
     "shell.execute_reply": "2023-01-22T13:21:09.347185Z"
    },
    "papermill": {
     "duration": 10215.654256,
     "end_time": "2023-01-22T13:21:09.350127",
     "exception": false,
     "start_time": "2023-01-22T10:30:53.695871",
     "status": "completed"
    },
    "tags": []
   },
   "outputs": [
    {
     "name": "stdout",
     "output_type": "stream",
     "text": [
      "\n",
      "**************************************************\n",
      "\n",
      "Training Fold 1...\n",
      "\n",
      "**************************************************\n",
      "\n",
      "Epoch: 1 | Train Loss: 1.35996 | Valid Loss: 0.26762 | Train Accs: 0.60192 | Valid Accs: 0.92083 | Time: 214.29 seconds\n",
      "Epoch: 2 | Train Loss: 0.47191 | Valid Loss: 0.14750 | Train Accs: 0.85241 | Valid Accs: 0.95778 | Time: 205.26 seconds\n",
      "Epoch: 3 | Train Loss: 0.33097 | Valid Loss: 0.14499 | Train Accs: 0.89765 | Valid Accs: 0.95902 | Time: 207.81 seconds\n",
      "Epoch: 4 | Train Loss: 0.26874 | Valid Loss: 0.10690 | Train Accs: 0.91641 | Valid Accs: 0.96912 | Time: 204.99 seconds\n",
      "Epoch: 5 | Train Loss: 0.22959 | Valid Loss: 0.09848 | Train Accs: 0.92947 | Valid Accs: 0.97080 | Time: 203.60 seconds\n",
      "Epoch: 6 | Train Loss: 0.20087 | Valid Loss: 0.08200 | Train Accs: 0.93758 | Valid Accs: 0.97703 | Time: 203.00 seconds\n",
      "Epoch: 7 | Train Loss: 0.17715 | Valid Loss: 0.07215 | Train Accs: 0.94538 | Valid Accs: 0.97872 | Time: 203.06 seconds\n",
      "Epoch: 8 | Train Loss: 0.15925 | Valid Loss: 0.06571 | Train Accs: 0.95097 | Valid Accs: 0.98135 | Time: 202.89 seconds\n",
      "Epoch: 9 | Train Loss: 0.14556 | Valid Loss: 0.06445 | Train Accs: 0.95475 | Valid Accs: 0.98177 | Time: 203.50 seconds\n",
      "Epoch: 10 | Train Loss: 0.14006 | Valid Loss: 0.06409 | Train Accs: 0.95704 | Valid Accs: 0.98165 | Time: 203.21 seconds\n",
      "\n",
      "**************************************************\n",
      "\n",
      "Best Validation Loss at Epoch 10\n",
      "\n",
      "**************************************************\n",
      "\n",
      "Best Validation Accs at Epoch 9\n",
      "\n",
      "**************************************************\n",
      "\n",
      "Time Taken [10 Epochs] : 34.19 minutes\n",
      "\n",
      "**************************************************\n",
      "\n"
     ]
    },
    {
     "data": {
      "image/png": "[encoded data removed]",
      "text/plain": [
       "<Figure size 432x288 with 1 Axes>"
      ]
     },
     "metadata": {
      "needs_background": "light"
     },
     "output_type": "display_data"
    },
    {
     "name": "stdout",
     "output_type": "stream",
     "text": [
      "\n",
      "**************************************************\n",
      "\n"
     ]
    },
    {
     "data": {
      "image/png": "[encoded data removed]",
      "text/plain": [
       "<Figure size 432x288 with 1 Axes>"
      ]
     },
     "metadata": {
      "needs_background": "light"
     },
     "output_type": "display_data"
    },
    {
     "name": "stdout",
     "output_type": "stream",
     "text": [
      "\n",
      "**************************************************\n",
      "\n"
     ]
    },
    {
     "data": {
      "image/png": "[encoded data removed]",
      "text/plain": [
       "<Figure size 576x432 with 1 Axes>"
      ]
     },
     "metadata": {
      "needs_background": "light"
     },
     "output_type": "display_data"
    },
    {
     "name": "stdout",
     "output_type": "stream",
     "text": [
      "\n",
      "**************************************************\n",
      "\n",
      "\n",
      "**************************************************\n",
      "\n",
      "Training Fold 2...\n",
      "\n",
      "**************************************************\n",
      "\n",
      "Epoch: 1 | Train Loss: 1.36073 | Valid Loss: 0.28136 | Train Accs: 0.60031 | Valid Accs: 0.91444 | Time: 203.54 seconds\n",
      "Epoch: 2 | Train Loss: 0.47273 | Valid Loss: 0.16229 | Train Accs: 0.85295 | Valid Accs: 0.95355 | Time: 201.10 seconds\n",
      "Epoch: 3 | Train Loss: 0.32883 | Valid Loss: 0.13682 | Train Accs: 0.89786 | Valid Accs: 0.96075 | Time: 201.87 seconds\n",
      "Epoch: 4 | Train Loss: 0.26810 | Valid Loss: 0.10875 | Train Accs: 0.91745 | Valid Accs: 0.96821 | Time: 204.59 seconds\n",
      "Epoch: 5 | Train Loss: 0.22934 | Valid Loss: 0.09624 | Train Accs: 0.92939 | Valid Accs: 0.97123 | Time: 199.83 seconds\n",
      "Epoch: 6 | Train Loss: 0.19967 | Valid Loss: 0.08586 | Train Accs: 0.93811 | Valid Accs: 0.97562 | Time: 204.60 seconds\n",
      "Epoch: 7 | Train Loss: 0.17834 | Valid Loss: 0.07681 | Train Accs: 0.94504 | Valid Accs: 0.97715 | Time: 199.71 seconds\n",
      "Epoch: 8 | Train Loss: 0.15919 | Valid Loss: 0.06859 | Train Accs: 0.95074 | Valid Accs: 0.98017 | Time: 200.58 seconds\n",
      "Epoch: 9 | Train Loss: 0.14687 | Valid Loss: 0.06487 | Train Accs: 0.95457 | Valid Accs: 0.98145 | Time: 200.05 seconds\n",
      "Epoch: 10 | Train Loss: 0.14241 | Valid Loss: 0.06417 | Train Accs: 0.95602 | Valid Accs: 0.98143 | Time: 198.43 seconds\n",
      "\n",
      "**************************************************\n",
      "\n",
      "Best Validation Loss at Epoch 10\n",
      "\n",
      "**************************************************\n",
      "\n",
      "Best Validation Accs at Epoch 9\n",
      "\n",
      "**************************************************\n",
      "\n",
      "Time Taken [10 Epochs] : 33.57 minutes\n",
      "\n",
      "**************************************************\n",
      "\n"
     ]
    },
    {
     "data": {
      "image/png": "[encoded data removed]",
      "text/plain": [
       "<Figure size 432x288 with 1 Axes>"
      ]
     },
     "metadata": {
      "needs_background": "light"
     },
     "output_type": "display_data"
    },
    {
     "name": "stdout",
     "output_type": "stream",
     "text": [
      "\n",
      "**************************************************\n",
      "\n"
     ]
    },
    {
     "data": {
      "image/png": "[encoded data removed]",
      "text/plain": [
       "<Figure size 432x288 with 1 Axes>"
      ]
     },
     "metadata": {
      "needs_background": "light"
     },
     "output_type": "display_data"
    },
    {
     "name": "stdout",
     "output_type": "stream",
     "text": [
      "\n",
      "**************************************************\n",
      "\n"
     ]
    },
    {
     "data": {
      "image/png": "[encoded data removed]",
      "text/plain": [
       "<Figure size 576x432 with 1 Axes>"
      ]
     },
     "metadata": {
      "needs_background": "light"
     },
     "output_type": "display_data"
    },
    {
     "name": "stdout",
     "output_type": "stream",
     "text": [
      "\n",
      "**************************************************\n",
      "\n",
      "\n",
      "**************************************************\n",
      "\n",
      "Training Fold 3...\n",
      "\n",
      "**************************************************\n",
      "\n",
      "Epoch: 1 | Train Loss: 1.36259 | Valid Loss: 0.23539 | Train Accs: 0.60098 | Valid Accs: 0.92998 | Time: 203.56 seconds\n",
      "Epoch: 2 | Train Loss: 0.47070 | Valid Loss: 0.14758 | Train Accs: 0.85250 | Valid Accs: 0.95684 | Time: 199.49 seconds\n",
      "Epoch: 3 | Train Loss: 0.32883 | Valid Loss: 0.16118 | Train Accs: 0.89774 | Valid Accs: 0.95152 | Time: 198.16 seconds\n",
      "Epoch: 4 | Train Loss: 0.26863 | Valid Loss: 0.12530 | Train Accs: 0.91679 | Valid Accs: 0.96334 | Time: 197.55 seconds\n",
      "Epoch: 5 | Train Loss: 0.22946 | Valid Loss: 0.09827 | Train Accs: 0.92912 | Valid Accs: 0.97161 | Time: 206.18 seconds\n",
      "Epoch: 6 | Train Loss: 0.20019 | Valid Loss: 0.08955 | Train Accs: 0.93800 | Valid Accs: 0.97369 | Time: 200.13 seconds\n",
      "Epoch: 7 | Train Loss: 0.17725 | Valid Loss: 0.08607 | Train Accs: 0.94515 | Valid Accs: 0.97409 | Time: 200.00 seconds\n",
      "Epoch: 8 | Train Loss: 0.15850 | Valid Loss: 0.07550 | Train Accs: 0.95153 | Valid Accs: 0.97843 | Time: 204.55 seconds\n",
      "Epoch: 9 | Train Loss: 0.14539 | Valid Loss: 0.07045 | Train Accs: 0.95506 | Valid Accs: 0.97996 | Time: 211.43 seconds\n",
      "Epoch: 10 | Train Loss: 0.13966 | Valid Loss: 0.06944 | Train Accs: 0.95672 | Valid Accs: 0.98001 | Time: 208.77 seconds\n",
      "\n",
      "**************************************************\n",
      "\n",
      "Best Validation Loss at Epoch 10\n",
      "\n",
      "**************************************************\n",
      "\n",
      "Best Validation Accs at Epoch 10\n",
      "\n",
      "**************************************************\n",
      "\n",
      "Time Taken [10 Epochs] : 33.83 minutes\n",
      "\n",
      "**************************************************\n",
      "\n"
     ]
    },
    {
     "data": {
      "image/png": "[encoded data removed]",
      "text/plain": [
       "<Figure size 432x288 with 1 Axes>"
      ]
     },
     "metadata": {
      "needs_background": "light"
     },
     "output_type": "display_data"
    },
    {
     "name": "stdout",
     "output_type": "stream",
     "text": [
      "\n",
      "**************************************************\n",
      "\n"
     ]
    },
    {
     "data": {
      "image/png": "[encoded data removed]",
      "text/plain": [
       "<Figure size 432x288 with 1 Axes>"
      ]
     },
     "metadata": {
      "needs_background": "light"
     },
     "output_type": "display_data"
    },
    {
     "name": "stdout",
     "output_type": "stream",
     "text": [
      "\n",
      "**************************************************\n",
      "\n"
     ]
    },
    {
     "data": {
      "image/png": "[encoded data removed]",
      "text/plain": [
       "<Figure size 576x432 with 1 Axes>"
      ]
     },
     "metadata": {
      "needs_background": "light"
     },
     "output_type": "display_data"
    },
    {
     "name": "stdout",
     "output_type": "stream",
     "text": [
      "\n",
      "**************************************************\n",
      "\n",
      "\n",
      "**************************************************\n",
      "\n",
      "Training Fold 4...\n",
      "\n",
      "**************************************************\n",
      "\n",
      "Epoch: 1 | Train Loss: 1.36158 | Valid Loss: 0.26041 | Train Accs: 0.60100 | Valid Accs: 0.92017 | Time: 209.65 seconds\n",
      "Epoch: 2 | Train Loss: 0.47072 | Valid Loss: 0.15366 | Train Accs: 0.85383 | Valid Accs: 0.95582 | Time: 212.05 seconds\n",
      "Epoch: 3 | Train Loss: 0.32897 | Valid Loss: 0.11369 | Train Accs: 0.89811 | Valid Accs: 0.96755 | Time: 208.36 seconds\n",
      "Epoch: 4 | Train Loss: 0.26698 | Valid Loss: 0.11758 | Train Accs: 0.91685 | Valid Accs: 0.96426 | Time: 210.96 seconds\n",
      "Epoch: 5 | Train Loss: 0.22745 | Valid Loss: 0.09506 | Train Accs: 0.92978 | Valid Accs: 0.97222 | Time: 209.43 seconds\n",
      "Epoch: 6 | Train Loss: 0.19985 | Valid Loss: 0.08055 | Train Accs: 0.93829 | Valid Accs: 0.97588 | Time: 207.63 seconds\n",
      "Epoch: 7 | Train Loss: 0.17638 | Valid Loss: 0.07814 | Train Accs: 0.94569 | Valid Accs: 0.97710 | Time: 204.98 seconds\n",
      "Epoch: 8 | Train Loss: 0.15681 | Valid Loss: 0.06947 | Train Accs: 0.95139 | Valid Accs: 0.97982 | Time: 208.53 seconds\n",
      "Epoch: 9 | Train Loss: 0.14560 | Valid Loss: 0.06621 | Train Accs: 0.95528 | Valid Accs: 0.98106 | Time: 209.13 seconds\n",
      "Epoch: 10 | Train Loss: 0.13834 | Valid Loss: 0.06542 | Train Accs: 0.95729 | Valid Accs: 0.98106 | Time: 205.95 seconds\n",
      "\n",
      "**************************************************\n",
      "\n",
      "Best Validation Loss at Epoch 10\n",
      "\n",
      "**************************************************\n",
      "\n",
      "Best Validation Accs at Epoch 9\n",
      "\n",
      "**************************************************\n",
      "\n",
      "Time Taken [10 Epochs] : 34.78 minutes\n",
      "\n",
      "**************************************************\n",
      "\n"
     ]
    },
    {
     "data": {
      "image/png": "[encoded data removed]",
      "text/plain": [
       "<Figure size 432x288 with 1 Axes>"
      ]
     },
     "metadata": {
      "needs_background": "light"
     },
     "output_type": "display_data"
    },
    {
     "name": "stdout",
     "output_type": "stream",
     "text": [
      "\n",
      "**************************************************\n",
      "\n"
     ]
    },
    {
     "data": {
      "image/png": "[encoded data removed]",
      "text/plain": [
       "<Figure size 432x288 with 1 Axes>"
      ]
     },
     "metadata": {
      "needs_background": "light"
     },
     "output_type": "display_data"
    },
    {
     "name": "stdout",
     "output_type": "stream",
     "text": [
      "\n",
      "**************************************************\n",
      "\n"
     ]
    },
    {
     "data": {
      "image/png": "[encoded data removed]",
      "text/plain": [
       "<Figure size 576x432 with 1 Axes>"
      ]
     },
     "metadata": {
      "needs_background": "light"
     },
     "output_type": "display_data"
    },
    {
     "name": "stdout",
     "output_type": "stream",
     "text": [
      "\n",
      "**************************************************\n",
      "\n",
      "\n",
      "**************************************************\n",
      "\n",
      "Training Fold 5...\n",
      "\n",
      "**************************************************\n",
      "\n",
      "Epoch: 1 | Train Loss: 1.35831 | Valid Loss: 0.21690 | Train Accs: 0.60237 | Valid Accs: 0.93229 | Time: 201.15 seconds\n",
      "Epoch: 2 | Train Loss: 0.47336 | Valid Loss: 0.16806 | Train Accs: 0.85255 | Valid Accs: 0.95067 | Time: 205.15 seconds\n",
      "Epoch: 3 | Train Loss: 0.32976 | Valid Loss: 0.11696 | Train Accs: 0.89713 | Valid Accs: 0.96690 | Time: 201.66 seconds\n",
      "Epoch: 4 | Train Loss: 0.26710 | Valid Loss: 0.10748 | Train Accs: 0.91748 | Valid Accs: 0.96907 | Time: 201.66 seconds\n",
      "Epoch: 5 | Train Loss: 0.22847 | Valid Loss: 0.09160 | Train Accs: 0.92967 | Valid Accs: 0.97355 | Time: 202.90 seconds\n",
      "Epoch: 6 | Train Loss: 0.20262 | Valid Loss: 0.08405 | Train Accs: 0.93721 | Valid Accs: 0.97545 | Time: 203.74 seconds\n",
      "Epoch: 7 | Train Loss: 0.17627 | Valid Loss: 0.07745 | Train Accs: 0.94535 | Valid Accs: 0.97742 | Time: 203.07 seconds\n",
      "Epoch: 8 | Train Loss: 0.15837 | Valid Loss: 0.07340 | Train Accs: 0.95085 | Valid Accs: 0.97891 | Time: 202.21 seconds\n",
      "Epoch: 9 | Train Loss: 0.14539 | Valid Loss: 0.06907 | Train Accs: 0.95521 | Valid Accs: 0.98027 | Time: 202.67 seconds\n",
      "Epoch: 10 | Train Loss: 0.13810 | Valid Loss: 0.06916 | Train Accs: 0.95763 | Valid Accs: 0.98012 | Time: 201.26 seconds\n",
      "\n",
      "**************************************************\n",
      "\n",
      "Best Validation Loss at Epoch 9\n",
      "\n",
      "**************************************************\n",
      "\n",
      "Best Validation Accs at Epoch 9\n",
      "\n",
      "**************************************************\n",
      "\n",
      "Time Taken [10 Epochs] : 33.76 minutes\n",
      "\n",
      "**************************************************\n",
      "\n"
     ]
    },
    {
     "data": {
      "image/png": "[encoded data removed]",
      "text/plain": [
       "<Figure size 432x288 with 1 Axes>"
      ]
     },
     "metadata": {
      "needs_background": "light"
     },
     "output_type": "display_data"
    },
    {
     "name": "stdout",
     "output_type": "stream",
     "text": [
      "\n",
      "**************************************************\n",
      "\n"
     ]
    },
    {
     "data": {
      "image/png": "[encoded data removed]",
      "text/plain": [
       "<Figure size 432x288 with 1 Axes>"
      ]
     },
     "metadata": {
      "needs_background": "light"
     },
     "output_type": "display_data"
    },
    {
     "name": "stdout",
     "output_type": "stream",
     "text": [
      "\n",
      "**************************************************\n",
      "\n"
     ]
    },
    {
     "data": {
      "image/png": "[encoded data removed]",
      "text/plain": [
       "<Figure size 576x432 with 1 Axes>"
      ]
     },
     "metadata": {
      "needs_background": "light"
     },
     "output_type": "display_data"
    },
    {
     "name": "stdout",
     "output_type": "stream",
     "text": [
      "\n",
      "**************************************************\n",
      "\n"
     ]
    }
   ],
   "source": [
    "fold: int = 1\n",
    "BLs: list = []\n",
    "BAs: list = []\n",
    "    \n",
    "cfg.batch_size = 64\n",
    "cfg.epochs = 10\n",
    "    \n",
    "for tr_idx, va_idx in StratifiedKFold(n_splits=cfg.n_splits, random_state=cfg.seed, shuffle=True).split(images, labels):\n",
    "\n",
    "    tr_images, va_images = images[tr_idx], images[va_idx] \n",
    "    tr_labels, va_labels = labels[tr_idx], labels[va_idx]\n",
    "    \n",
    "    tr_data_setup = DS(\n",
    "        images=tr_images, \n",
    "        labels=tr_labels.reshape(-1, 1),\n",
    "        transform=cfg.train_transform\n",
    "    )\n",
    "\n",
    "    va_data_setup = DS(\n",
    "        images=va_images, \n",
    "        labels=va_labels.reshape(-1, 1),\n",
    "        transform=cfg.valid_transform\n",
    "    )\n",
    "\n",
    "    dataloaders = {\n",
    "        \"train\" : DL(tr_data_setup, batch_size=cfg.batch_size, shuffle=True, generator=torch.manual_seed(cfg.seed)),\n",
    "        \"valid\" : DL(va_data_setup, batch_size=cfg.batch_size, shuffle=False),\n",
    "    }\n",
    "\n",
    "    cfg.steps_per_epoch=len(dataloaders[\"train\"])\n",
    "    \n",
    "    torch.manual_seed(cfg.seed)\n",
    "    model = Model(filter_sizes=cfg.filter_sizes, HL=cfg.HL).to(cfg.device)\n",
    "\n",
    "    optimizer = optim.Adam([p for p in model.parameters() if p.requires_grad], lr=cfg.lr, weight_decay=cfg.wd)\n",
    "    # optimizer = optim.AdamW([p for p in model.parameters() if p.requires_grad], lr=cfg.lr, weight_decay=cfg.wd)\n",
    "    # optimizer = optim.SGD([p for p in model.parameters() if p.requires_grad], lr=cfg.lr, weight_decay=cfg.wd, momentum=0.9)\n",
    "\n",
    "    scheduler_oclr = optim.lr_scheduler.OneCycleLR(\n",
    "        optimizer=optimizer, \n",
    "        max_lr=cfg.max_lr, \n",
    "        epochs=cfg.epochs, \n",
    "        steps_per_epoch=cfg.steps_per_epoch,\n",
    "        pct_start=cfg.pct_start, \n",
    "        div_factor=cfg.div_factor, \n",
    "        final_div_factor=cfg.final_div_factor\n",
    "    )\n",
    "    \n",
    "    # scheduler_rlrop = optim.lr_scheduler.ReduceLROnPlateau(\n",
    "    #     optimizer=optimizer,\n",
    "    #     patience=cfg.patience,\n",
    "    #     eps=cfg.eps,\n",
    "    #     verbose=True\n",
    "    # )\n",
    "\n",
    "    # scheduler_oclr = None\n",
    "    scheduler_rlrop = None\n",
    "    \n",
    "    L, A, LR, BL, BA, _, _, _, _ = fit(\n",
    "        model=model, \n",
    "        optimizer=optimizer, \n",
    "        scheduler_oclr=scheduler_oclr,\n",
    "        scheduler_rlrop=scheduler_rlrop,\n",
    "        epochs=cfg.epochs, \n",
    "        early_stopping_patience=cfg.early_stopping, \n",
    "        dataloaders=dataloaders, \n",
    "        device=cfg.device,\n",
    "        save_path=cfg.save_path,\n",
    "        fold=fold,\n",
    "        verbose=True\n",
    "    )\n",
    "\n",
    "\n",
    "    breaker()\n",
    "    show_loss_graphs(L)\n",
    "    breaker()\n",
    "    show_accuracy_graphs(A)\n",
    "    breaker()\n",
    "    if scheduler_oclr:\n",
    "        show_lr_graph(LR)\n",
    "        breaker()\n",
    "    \n",
    "    BLs.append(BL)\n",
    "    BAs.append(BA)\n",
    "\n",
    "    fold += 1"
   ]
  },
  {
   "cell_type": "code",
   "execution_count": 9,
   "id": "f25243ba",
   "metadata": {
    "execution": {
     "iopub.execute_input": "2023-01-22T13:21:09.373071Z",
     "iopub.status.busy": "2023-01-22T13:21:09.372671Z",
     "iopub.status.idle": "2023-01-22T13:21:09.380825Z",
     "shell.execute_reply": "2023-01-22T13:21:09.379725Z"
    },
    "papermill": {
     "duration": 0.02192,
     "end_time": "2023-01-22T13:21:09.383087",
     "exception": false,
     "start_time": "2023-01-22T13:21:09.361167",
     "status": "completed"
    },
    "tags": []
   },
   "outputs": [
    {
     "name": "stdout",
     "output_type": "stream",
     "text": [
      "\n",
      "**************************************************\n",
      "\n",
      "Best Loss Model Fold     : 1\n",
      "Best Accuracy Model Fold : 1\n",
      "\n",
      "**************************************************\n",
      "\n"
     ]
    }
   ],
   "source": [
    "BL = np.inf\n",
    "for i in range(len(BLs)):\n",
    "    if BLs[i][\"valid\"] < BL:\n",
    "        BL = BLs[i][\"valid\"]\n",
    "        best_loss_index = i\n",
    "\n",
    "        \n",
    "BA = 0.0\n",
    "for i in range(len(BAs)):\n",
    "    if BAs[i][\"valid\"] > BA:\n",
    "        BA = BAs[i][\"valid\"]\n",
    "        best_accs_index = i\n",
    "\n",
    "breaker()\n",
    "print(f\"Best Loss Model Fold     : {best_loss_index + 1}\")\n",
    "print(f\"Best Accuracy Model Fold : {best_accs_index + 1}\")\n",
    "breaker()"
   ]
  }
 ],
 "metadata": {
  "kernelspec": {
   "display_name": "Python 3",
   "language": "python",
   "name": "python3"
  },
  "language_info": {
   "codemirror_mode": {
    "name": "ipython",
    "version": 3
   },
   "file_extension": ".py",
   "mimetype": "text/x-python",
   "name": "python",
   "nbconvert_exporter": "python",
   "pygments_lexer": "ipython3",
   "version": "3.7.12"
  },
  "papermill": {
   "default_parameters": {},
   "duration": 10257.99059,
   "end_time": "2023-01-22T13:21:10.999660",
   "environment_variables": {},
   "exception": null,
   "input_path": "__notebook__.ipynb",
   "output_path": "__notebook__.ipynb",
   "parameters": {},
   "start_time": "2023-01-22T10:30:13.009070",
   "version": "2.3.4"
  }
 },
 "nbformat": 4,
 "nbformat_minor": 5
}
