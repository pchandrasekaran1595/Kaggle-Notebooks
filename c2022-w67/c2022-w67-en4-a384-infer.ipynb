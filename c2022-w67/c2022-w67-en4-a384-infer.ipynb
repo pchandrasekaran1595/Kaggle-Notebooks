{
 "cells": [
  {
   "cell_type": "markdown",
   "id": "f2503cc2",
   "metadata": {
    "_cell_guid": "b1076dfc-b9ad-4769-8c92-a6c4dae69d19",
    "_uuid": "8f2839f25d086af736a60e9eeb907d3b93b6e0e5",
    "papermill": {
     "duration": 0.005351,
     "end_time": "2022-09-08T18:20:06.569714",
     "exception": false,
     "start_time": "2022-09-08T18:20:06.564363",
     "status": "completed"
    },
    "tags": []
   },
   "source": [
    "### **Setup**"
   ]
  },
  {
   "cell_type": "code",
   "execution_count": 1,
   "id": "f99f3f75",
   "metadata": {
    "execution": {
     "iopub.execute_input": "2022-09-08T18:20:06.579759Z",
     "iopub.status.busy": "2022-09-08T18:20:06.579354Z",
     "iopub.status.idle": "2022-09-08T18:20:17.881861Z",
     "shell.execute_reply": "2022-09-08T18:20:17.880424Z"
    },
    "papermill": {
     "duration": 11.309977,
     "end_time": "2022-09-08T18:20:17.884201",
     "exception": false,
     "start_time": "2022-09-08T18:20:06.574224",
     "status": "completed"
    },
    "tags": []
   },
   "outputs": [
    {
     "name": "stderr",
     "output_type": "stream",
     "text": [
      "WARNING: Running pip as the 'root' user can result in broken permissions and conflicting behaviour with the system package manager. It is recommended to use a virtual environment instead: https://pip.pypa.io/warnings/venv\n"
     ]
    }
   ],
   "source": [
    "%%bash\n",
    "pip install timm -q"
   ]
  },
  {
   "cell_type": "markdown",
   "id": "305f7d75",
   "metadata": {
    "papermill": {
     "duration": 0.004158,
     "end_time": "2022-09-08T18:20:17.892889",
     "exception": false,
     "start_time": "2022-09-08T18:20:17.888731",
     "status": "completed"
    },
    "tags": []
   },
   "source": [
    "### **Library Imports**"
   ]
  },
  {
   "cell_type": "code",
   "execution_count": 2,
   "id": "28953277",
   "metadata": {
    "execution": {
     "iopub.execute_input": "2022-09-08T18:20:17.904798Z",
     "iopub.status.busy": "2022-09-08T18:20:17.904467Z",
     "iopub.status.idle": "2022-09-08T18:20:21.026885Z",
     "shell.execute_reply": "2022-09-08T18:20:21.025392Z"
    },
    "papermill": {
     "duration": 3.131986,
     "end_time": "2022-09-08T18:20:21.030481",
     "exception": false,
     "start_time": "2022-09-08T18:20:17.898495",
     "status": "completed"
    },
    "tags": []
   },
   "outputs": [],
   "source": [
    "import os\n",
    "import re\n",
    "import cv2\n",
    "import timm\n",
    "import torch\n",
    "import numpy as np\n",
    "import pandas as pd\n",
    "import matplotlib.pyplot as plt\n",
    "\n",
    "from time import time\n",
    "from torch import nn, optim\n",
    "from torch.utils.data import Dataset\n",
    "from torch.utils.data import DataLoader as DL\n",
    "from torchvision import models, transforms\n",
    "\n",
    "# from sklearn.model_selection import KFold"
   ]
  },
  {
   "cell_type": "markdown",
   "id": "6473766c",
   "metadata": {
    "papermill": {
     "duration": 0.006781,
     "end_time": "2022-09-08T18:20:21.045933",
     "exception": false,
     "start_time": "2022-09-08T18:20:21.039152",
     "status": "completed"
    },
    "tags": []
   },
   "source": [
    "### **Utilities and Helpers**"
   ]
  },
  {
   "cell_type": "code",
   "execution_count": 3,
   "id": "a64da0e1",
   "metadata": {
    "execution": {
     "iopub.execute_input": "2022-09-08T18:20:21.061628Z",
     "iopub.status.busy": "2022-09-08T18:20:21.060750Z",
     "iopub.status.idle": "2022-09-08T18:20:21.075664Z",
     "shell.execute_reply": "2022-09-08T18:20:21.074833Z"
    },
    "papermill": {
     "duration": 0.025984,
     "end_time": "2022-09-08T18:20:21.078672",
     "exception": false,
     "start_time": "2022-09-08T18:20:21.052688",
     "status": "completed"
    },
    "tags": []
   },
   "outputs": [],
   "source": [
    "SEED = 42\n",
    "SIZE = 384\n",
    "\n",
    "\n",
    "def breaker(num: int=50, char: str=\"*\") -> None:\n",
    "    print(\"\\n\" + num*char + \"\\n\")\n",
    "\n",
    "    \n",
    "def get_image(path: str, size: int=224) -> np.ndarray:\n",
    "    image = cv2.imread(path, cv2.IMREAD_COLOR)\n",
    "    image = cv2.cvtColor(src=image, code=cv2.COLOR_BGR2RGB)\n",
    "    return cv2.resize(src=image, dsize=(size, size), interpolation=cv2.INTER_AREA)\n",
    "\n",
    "\n",
    "# def show_loss_graphs(L: list) -> None:\n",
    "#     TL, VL = [], []\n",
    "#     for i in range(len(L)):\n",
    "#         TL.append(L[i][\"train\"])\n",
    "#         VL.append(L[i][\"valid\"])\n",
    "#     x_Axis = np.arange(1, len(TL) + 1)\n",
    "#     plt.figure()\n",
    "#     plt.plot(x_Axis, TL, \"r\", label=\"Train\")\n",
    "#     plt.plot(x_Axis, VL, \"b\", label=\"Valid\")\n",
    "#     plt.legend()\n",
    "#     plt.grid()\n",
    "#     plt.title(\"Loss Graph\")\n",
    "#     plt.show()\n",
    "    \n",
    "\n",
    "# def show_lr_graph(LR: list) -> None:\n",
    "#     x_Axis = [i+1 for i in range(len(LR))]\n",
    "#     plt.figure(figsize=(8, 6))\n",
    "#     plt.plot(x_Axis, LR, \"rx\")\n",
    "#     plt.grid()\n",
    "#     plt.show()"
   ]
  },
  {
   "cell_type": "markdown",
   "id": "36730047",
   "metadata": {
    "papermill": {
     "duration": 0.006413,
     "end_time": "2022-09-08T18:20:21.091639",
     "exception": false,
     "start_time": "2022-09-08T18:20:21.085226",
     "status": "completed"
    },
    "tags": []
   },
   "source": [
    "### **Configuration**"
   ]
  },
  {
   "cell_type": "code",
   "execution_count": 4,
   "id": "1c02e743",
   "metadata": {
    "execution": {
     "iopub.execute_input": "2022-09-08T18:20:21.106192Z",
     "iopub.status.busy": "2022-09-08T18:20:21.105877Z",
     "iopub.status.idle": "2022-09-08T18:20:21.184397Z",
     "shell.execute_reply": "2022-09-08T18:20:21.183156Z"
    },
    "papermill": {
     "duration": 0.088911,
     "end_time": "2022-09-08T18:20:21.187155",
     "exception": false,
     "start_time": "2022-09-08T18:20:21.098244",
     "status": "completed"
    },
    "tags": []
   },
   "outputs": [],
   "source": [
    "class CFG(object):\n",
    "    def __init__(self, \n",
    "                 seed: int = 42,\n",
    "                 size: int = 224,\n",
    "                 n_splits: int = 5,\n",
    "                 batch_size: int = 16,\n",
    "                 epochs: int = 25,\n",
    "                 early_stopping: int = 5,\n",
    "                 lr: float = 1e-4,\n",
    "                 wd: float = 0.0,\n",
    "                 max_lr: float = 1e-3,\n",
    "                 pct_start: float = 0.2,\n",
    "                 steps_per_epoch: int = 100,\n",
    "                 div_factor: int = 1e3, \n",
    "                 final_div_factor: float = 1e3,\n",
    "                 ):\n",
    "        self.seed = seed\n",
    "        self.size = size\n",
    "        self.n_splits = n_splits\n",
    "        self.batch_size = batch_size\n",
    "        self.epochs = epochs\n",
    "        self.early_stopping = early_stopping\n",
    "        self.lr = lr\n",
    "        self.wd = wd\n",
    "        self.max_lr = max_lr\n",
    "        self.pct_start = pct_start\n",
    "        self.steps_per_epoch = steps_per_epoch\n",
    "        self.div_factor = div_factor\n",
    "        self.final_div_factor = final_div_factor\n",
    "        self.device = torch.device(\"cuda\" if torch.cuda.is_available() else \"cpu\")\n",
    "        self.train_transform = transforms.Compose([\n",
    "            transforms.ToTensor(),\n",
    "            transforms.Normalize([0.44811, 0.42458, 0.39159], [0.23526, 0.22963, 0.23221]),\n",
    "            transforms.RandomAffine(degrees=(-45, 45), translate=(0.15, 0.15), scale=(0.5, 1.5)),\n",
    "            transforms.RandomHorizontalFlip(p=0.25),\n",
    "            transforms.RandomVerticalFlip(p=0.25),\n",
    "        ])\n",
    "        self.valid_transform = transforms.Compose([\n",
    "            transforms.ToTensor(),\n",
    "            transforms.Normalize([0.44811, 0.42458, 0.39159], [0.23526, 0.22963, 0.23221]),\n",
    "        ])\n",
    "                                \n",
    "        self.save_path = \"saves\"\n",
    "        if not os.path.exists(self.save_path): os.makedirs(self.save_path)\n",
    "    \n",
    "cfg = CFG(seed=SEED, size=SIZE)"
   ]
  },
  {
   "cell_type": "markdown",
   "id": "2b06e28e",
   "metadata": {
    "papermill": {
     "duration": 0.006131,
     "end_time": "2022-09-08T18:20:21.200119",
     "exception": false,
     "start_time": "2022-09-08T18:20:21.193988",
     "status": "completed"
    },
    "tags": []
   },
   "source": [
    "### **Dataset Template**"
   ]
  },
  {
   "cell_type": "code",
   "execution_count": 5,
   "id": "01dd25eb",
   "metadata": {
    "execution": {
     "iopub.execute_input": "2022-09-08T18:20:21.219269Z",
     "iopub.status.busy": "2022-09-08T18:20:21.218740Z",
     "iopub.status.idle": "2022-09-08T18:20:21.231145Z",
     "shell.execute_reply": "2022-09-08T18:20:21.230158Z"
    },
    "papermill": {
     "duration": 0.02602,
     "end_time": "2022-09-08T18:20:21.233213",
     "exception": false,
     "start_time": "2022-09-08T18:20:21.207193",
     "status": "completed"
    },
    "tags": []
   },
   "outputs": [],
   "source": [
    "# class DS(Dataset):\n",
    "#     def __init__(\n",
    "#         self, \n",
    "#         base_path: str,\n",
    "#         filenames: np.ndarray, \n",
    "#         labels: np.ndarray, \n",
    "#         size: int,\n",
    "#         transform=None):\n",
    "        \n",
    "#         self.base_path = base_path\n",
    "#         self.filenames = filenames\n",
    "#         self.labels = labels\n",
    "#         self.size = size\n",
    "#         self.transform = transform\n",
    "    \n",
    "#     def __len__(self):\n",
    "#         return self.filenames.shape[0]\n",
    "    \n",
    "#     def __getitem__(self, idx):\n",
    "#         path = os.path.join(self.base_path, self.filenames[idx])\n",
    "#         image = get_image(path, self.size)\n",
    "#         return self.transform(image), self.labels[idx]\n",
    "\n",
    "class DS(Dataset):\n",
    "    def __init__(\n",
    "        self, \n",
    "        base_path: str,\n",
    "        filenames: np.ndarray, \n",
    "        size: int,\n",
    "        transform=None):\n",
    "        \n",
    "        self.base_path = base_path\n",
    "        self.filenames = filenames\n",
    "        self.size = size\n",
    "        self.transform = transform\n",
    "    \n",
    "    def __len__(self):\n",
    "        return self.filenames.shape[0]\n",
    "    \n",
    "    def __getitem__(self, idx):\n",
    "        path = os.path.join(self.base_path, self.filenames[idx])\n",
    "        image = get_image(path, self.size)\n",
    "        return self.transform(image)"
   ]
  },
  {
   "cell_type": "markdown",
   "id": "4cdbf0fe",
   "metadata": {
    "papermill": {
     "duration": 0.004586,
     "end_time": "2022-09-08T18:20:21.246359",
     "exception": false,
     "start_time": "2022-09-08T18:20:21.241773",
     "status": "completed"
    },
    "tags": []
   },
   "source": [
    "### **Model**"
   ]
  },
  {
   "cell_type": "code",
   "execution_count": 6,
   "id": "f694eb98",
   "metadata": {
    "execution": {
     "iopub.execute_input": "2022-09-08T18:20:21.256775Z",
     "iopub.status.busy": "2022-09-08T18:20:21.256458Z",
     "iopub.status.idle": "2022-09-08T18:20:21.266919Z",
     "shell.execute_reply": "2022-09-08T18:20:21.266056Z"
    },
    "papermill": {
     "duration": 0.018039,
     "end_time": "2022-09-08T18:20:21.268904",
     "exception": false,
     "start_time": "2022-09-08T18:20:21.250865",
     "status": "completed"
    },
    "tags": []
   },
   "outputs": [],
   "source": [
    "class Model(nn.Module):\n",
    "    def __init__(self, model_name: str=\"efficientnet_b4\"):\n",
    "        super(Model, self).__init__()\n",
    "        \n",
    "        if model_name == \"resnet50\":\n",
    "            self.model = models.resnet50(pretrained=False, progress=False)\n",
    "            self.model.fc = nn.Linear(in_features=self.model.fc.in_features, out_features=23)\n",
    "\n",
    "        elif model_name == \"densenet169\":\n",
    "            self.model = models.densenet169(pretrained=False, progress=False)\n",
    "            self.model.classifier = nn.Linear(in_features=self.model.classifier.in_features, out_features=23)\n",
    "\n",
    "        elif model_name == \"densenet201\":\n",
    "            self.model = models.densenet201(pretrained=False, progress=False)\n",
    "            self.model.classifier = nn.Linear(in_features=self.model.classifier.in_features, out_features=23)\n",
    "            \n",
    "        elif model_name == \"tv_densenet121\":\n",
    "            self.model = timm.create_model(model_name=model_name, pretrained=False)\n",
    "            self.model.classifier = nn.Linear(in_features=self.model.classifier.in_features, out_features=23)\n",
    "            \n",
    "        elif model_name == \"efficientnet_b2\":\n",
    "            self.model = timm.create_model(model_name=model_name, pretrained=False)\n",
    "            self.model.classifier = nn.Linear(in_features=self.model.classifier.in_features, out_features=23)\n",
    "        \n",
    "        elif model_name == \"efficientnet_b4\":\n",
    "            self.model = timm.create_model(model_name=model_name, pretrained=False)\n",
    "            self.model.classifier = nn.Linear(in_features=self.model.classifier.in_features, out_features=23)\n",
    "            \n",
    "    def freeze(self):\n",
    "        for params in self.parameters(): params.requires_grad = False\n",
    "\n",
    "    def forward(self, x):\n",
    "        return self.model(x)"
   ]
  },
  {
   "cell_type": "markdown",
   "id": "2fbb2e83",
   "metadata": {
    "papermill": {
     "duration": 0.004262,
     "end_time": "2022-09-08T18:20:21.277389",
     "exception": false,
     "start_time": "2022-09-08T18:20:21.273127",
     "status": "completed"
    },
    "tags": []
   },
   "source": [
    "### **Fit and Predict**"
   ]
  },
  {
   "cell_type": "code",
   "execution_count": 7,
   "id": "7b0deb9a",
   "metadata": {
    "execution": {
     "iopub.execute_input": "2022-09-08T18:20:21.287831Z",
     "iopub.status.busy": "2022-09-08T18:20:21.287567Z",
     "iopub.status.idle": "2022-09-08T18:20:21.296782Z",
     "shell.execute_reply": "2022-09-08T18:20:21.295744Z"
    },
    "papermill": {
     "duration": 0.017159,
     "end_time": "2022-09-08T18:20:21.298817",
     "exception": false,
     "start_time": "2022-09-08T18:20:21.281658",
     "status": "completed"
    },
    "tags": []
   },
   "outputs": [],
   "source": [
    "# def fit(model=None,\n",
    "#         model_name=None,\n",
    "#         optimizer=None, \n",
    "#         scheduler_rlrop=None,\n",
    "#         scheduler_oclr=None,\n",
    "#         epochs=None, \n",
    "#         early_stopping_patience=None, \n",
    "#         dataloaders=None, \n",
    "#         fold=None, \n",
    "#         save_path=None,\n",
    "#         device=None,\n",
    "#         verbose=False) -> tuple:    \n",
    "    \n",
    "#     if verbose:\n",
    "#         breaker()\n",
    "#         print(f\" ----- {model_name.upper()} -----\")\n",
    "#         breaker()\n",
    "#         if fold: print(f\"Training Fold {fold}...\")\n",
    "#         else: print(\"Training ...\")\n",
    "#         breaker()\n",
    "        \n",
    "#     bestLoss: dict = {\"train\" : np.inf, \"valid\" : np.inf} \n",
    "        \n",
    "#     Losses: list = []\n",
    "#     LRs: list = []\n",
    "        \n",
    "#     if fold: ble_name = f\"{model_name}_ble_state_fold_{fold}.pt\"\n",
    "#     else: ble_name = f\"{model_name}_ble_state.pt\"\n",
    "    \n",
    "#     start_time = time()\n",
    "#     for e in range(epochs):\n",
    "#         e_st = time()\n",
    "#         epochLoss: dict = {\"train\" : 0.0, \"valid\" : 0.0} \n",
    "\n",
    "#         for phase in [\"train\", \"valid\"]:\n",
    "#             if phase == \"train\": model.train()\n",
    "#             else: model.eval()\n",
    "            \n",
    "#             lossPerPass: list = []\n",
    "                \n",
    "#             for X, y in dataloaders[phase]:\n",
    "#                 X, y = X.to(device), y.to(device)\n",
    "\n",
    "#                 optimizer.zero_grad()\n",
    "#                 with torch.set_grad_enabled(phase == \"train\"):\n",
    "#                     output = model(X)\n",
    "#                     loss = torch.nn.BCEWithLogitsLoss()(output, y)\n",
    "#                     if phase == \"train\":\n",
    "#                         loss.backward()\n",
    "#                         optimizer.step()\n",
    "#                         if scheduler_oclr: scheduler_oclr.step()\n",
    "#                 lossPerPass.append(loss.item())\n",
    "#             epochLoss[phase] = np.mean(np.array(lossPerPass))\n",
    "#         if scheduler_oclr: LRs.append(scheduler_oclr.get_last_lr())\n",
    "#         Losses.append(epochLoss)\n",
    "    \n",
    "#         if scheduler_oclr:\n",
    "#             save_dict = {\"model_state_dict\"     : model.state_dict(),\n",
    "#                          \"optim_state_dict\"     : optimizer.state_dict(),\n",
    "#                          \"scheduler_state_dict\" : scheduler_oclr.state_dict()}\n",
    "        \n",
    "#         elif scheduler_rlrop:\n",
    "#             save_dict = {\"model_state_dict\"     : model.state_dict(),\n",
    "#                          \"optim_state_dict\"     : optimizer.state_dict(),\n",
    "#                          \"scheduler_state_dict\" : scheduler_rlrop.state_dict()}\n",
    "        \n",
    "#         else:\n",
    "#             save_dict = {\"model_state_dict\"     : model.state_dict(),\n",
    "#                          \"optim_state_dict\"     : optimizer.state_dict()}\n",
    "        \n",
    "        \n",
    "#         if early_stopping_patience:\n",
    "#             if epochLoss[\"valid\"] < bestLoss[\"valid\"]:\n",
    "#                 bestLoss = epochLoss\n",
    "#                 BLE = e + 1\n",
    "#                 torch.save(save_dict, os.path.join(save_path, ble_name))\n",
    "#                 early_stopping_step = 0\n",
    "#             else:\n",
    "#                 early_stopping_step += 1\n",
    "#                 if early_stopping_step > early_stopping_patience:\n",
    "#                     print(\"\\nEarly Stopping at Epoch {}\".format(e + 1))\n",
    "#                     break\n",
    "        \n",
    "#         if epochLoss[\"valid\"] < bestLoss[\"valid\"]:\n",
    "#             bestLoss = epochLoss\n",
    "#             BLE = e + 1\n",
    "#             torch.save(save_dict,os.path.join(save_path, ble_name))\n",
    "        \n",
    "#         if scheduler_rlrop: scheduler_rlrop.step(epochLoss[\"valid\"])\n",
    "        \n",
    "#         if verbose:\n",
    "#             print(\"Epoch: {} | Train Loss: {:.5f} | Valid Loss: {:.5f} | Time: {:.2f} seconds\".format(e+1, epochLoss[\"train\"], epochLoss[\"valid\"], time()-e_st))\n",
    "\n",
    "#     if verbose:                                           \n",
    "#         breaker()\n",
    "#         print(f\"Best Validation Loss at Epoch {BLE}\")\n",
    "#         breaker()\n",
    "#         print(\"Time Taken [{} Epochs] : {:.2f} minutes\".format(len(Losses), (time()-start_time)/60))\n",
    "    \n",
    "#     return Losses, LRs, BLE, ble_name\n",
    "\n",
    "\n",
    "def predict_batch(\n",
    "    model=None, \n",
    "    dataloader=None, \n",
    "    path=None, \n",
    "    device=None\n",
    ") -> np.ndarray:\n",
    "    \n",
    "    model.load_state_dict(torch.load(path, map_location=device)[\"model_state_dict\"])\n",
    "    model.to(device)    \n",
    "    model.eval()\n",
    "    \n",
    "    y_pred = torch.zeros(1, 23).to(device)\n",
    "    \n",
    "    for X in dataloader:\n",
    "        X = X.to(device)\n",
    "        with torch.no_grad():\n",
    "            output = torch.sigmoid(model(X))\n",
    "        y_pred = torch.cat((y_pred, output), dim=0)\n",
    "    \n",
    "    return y_pred[1:].detach().cpu().numpy()"
   ]
  },
  {
   "cell_type": "markdown",
   "id": "9a719220",
   "metadata": {
    "papermill": {
     "duration": 0.004244,
     "end_time": "2022-09-08T18:20:21.308084",
     "exception": false,
     "start_time": "2022-09-08T18:20:21.303840",
     "status": "completed"
    },
    "tags": []
   },
   "source": [
    "### **Train**"
   ]
  },
  {
   "cell_type": "code",
   "execution_count": 8,
   "id": "52ff4533",
   "metadata": {
    "execution": {
     "iopub.execute_input": "2022-09-08T18:20:21.317815Z",
     "iopub.status.busy": "2022-09-08T18:20:21.317279Z",
     "iopub.status.idle": "2022-09-08T18:20:21.322149Z",
     "shell.execute_reply": "2022-09-08T18:20:21.321352Z"
    },
    "papermill": {
     "duration": 0.011924,
     "end_time": "2022-09-08T18:20:21.324155",
     "exception": false,
     "start_time": "2022-09-08T18:20:21.312231",
     "status": "completed"
    },
    "tags": []
   },
   "outputs": [],
   "source": [
    "# df = pd.read_csv(\"../input/com3025-2022-challenge-week-6-7-extended-extend/train.csv\")\n",
    "\n",
    "# filenames = df.file_name.copy().values\n",
    "# labels = df.iloc[:, 1:].copy().values"
   ]
  },
  {
   "cell_type": "code",
   "execution_count": 9,
   "id": "f44249be",
   "metadata": {
    "execution": {
     "iopub.execute_input": "2022-09-08T18:20:21.334197Z",
     "iopub.status.busy": "2022-09-08T18:20:21.333468Z",
     "iopub.status.idle": "2022-09-08T18:20:21.340792Z",
     "shell.execute_reply": "2022-09-08T18:20:21.339981Z"
    },
    "papermill": {
     "duration": 0.014377,
     "end_time": "2022-09-08T18:20:21.342723",
     "exception": false,
     "start_time": "2022-09-08T18:20:21.328346",
     "status": "completed"
    },
    "tags": []
   },
   "outputs": [],
   "source": [
    "# fold: int = 1\n",
    "# BLEs: list = []\n",
    "# model_name: str = \"efficientnet_b4\"\n",
    "\n",
    "# for tr_idx, va_idx in KFold(n_splits=cfg.n_splits, random_state=cfg.seed, shuffle=True).split(filenames):\n",
    "\n",
    "#     tr_filenames, va_filenames = filenames[tr_idx], filenames[va_idx] \n",
    "#     tr_labels, va_labels       = labels[tr_idx], labels[va_idx]\n",
    "    \n",
    "#     tr_data_setup = DS(\n",
    "#         base_path=\"../input/com3025-2022-challenge-week-6-7-extended-extend/train_data/train_data\", \n",
    "#         filenames=tr_filenames, \n",
    "#         labels=tr_labels,\n",
    "#         size=cfg.size,\n",
    "#         transform=cfg.train_transform\n",
    "#     )\n",
    "    \n",
    "#     va_data_setup = DS(\n",
    "#         base_path=\"../input/com3025-2022-challenge-week-6-7-extended-extend/train_data/train_data\", \n",
    "#         filenames=va_filenames, \n",
    "#         labels=va_labels,\n",
    "#         size=cfg.size,\n",
    "#         transform=cfg.valid_transform\n",
    "#     )\n",
    "\n",
    "#     dataloaders = {\n",
    "#         \"train\" : DL(tr_data_setup, batch_size=cfg.batch_size, shuffle=True, generator=torch.manual_seed(cfg.seed)),\n",
    "#         \"valid\" : DL(va_data_setup, batch_size=cfg.batch_size, shuffle=False),\n",
    "#     }\n",
    "\n",
    "#     cfg = CFG(\n",
    "#         epochs=25, \n",
    "#         batch_size=64, \n",
    "#         early_stopping=5,\n",
    "#         steps_per_epoch=len(dataloaders[\"train\"])\n",
    "#     )\n",
    "    \n",
    "#     torch.manual_seed(cfg.seed)\n",
    "#     model = Model(model_name=model_name).to(cfg.device)\n",
    "\n",
    "#     optimizer = optim.Adam([p for p in model.parameters() if p.requires_grad], lr=cfg.lr, weight_decay=cfg.wd)\n",
    "#     # optimizer = optim.AdamW([p for p in model.parameters() if p.requires_grad], lr=cfg.lr, weight_decay=cfg.wd)\n",
    "#     # optimizer = optim.SGD([p for p in model.parameters() if p.requires_grad], lr=cfg.lr, weight_decay=cfg.wd, momentum=0.9)\n",
    "    \n",
    "#     scheduler_oclr = optim.lr_scheduler.OneCycleLR(\n",
    "#         optimizer=optimizer, \n",
    "#         max_lr=cfg.max_lr, \n",
    "#         epochs=cfg.epochs, \n",
    "#         steps_per_epoch=cfg.steps_per_epoch,\n",
    "#         pct_start=cfg.pct_start, \n",
    "#         div_factor=cfg.div_factor, \n",
    "#         final_div_factor=cfg.final_div_factor\n",
    "#     )\n",
    "\n",
    "#     # scheduler_rlrop = optim.lr_scheduler.ReduceLROnPlateau(\n",
    "#     #     optimizer=optimizer,\n",
    "#     #     patience=cfg.patience,\n",
    "#     #     eps=cfg.eps,\n",
    "#     #     verbose=True\n",
    "#     # )\n",
    "\n",
    "#     # scheduler_oclr = None\n",
    "#     scheduler_rlrop = None\n",
    "    \n",
    "#     L, LR, BLE, _ = fit(\n",
    "#         model=model, \n",
    "#         model_name=model_name,\n",
    "#         optimizer=optimizer, \n",
    "#         scheduler_oclr=scheduler_oclr,\n",
    "#         scheduler_rlrop=scheduler_rlrop,\n",
    "#         epochs=cfg.epochs, \n",
    "#         early_stopping_patience=cfg.early_stopping, \n",
    "#         dataloaders=dataloaders, \n",
    "#         device=cfg.device,\n",
    "#         save_path=cfg.save_path,\n",
    "#         fold=fold,\n",
    "#         verbose=True\n",
    "#     )\n",
    "    \n",
    "#     breaker()\n",
    "#     show_loss_graphs(L)\n",
    "#     breaker()\n",
    "#     if scheduler_oclr:\n",
    "#         show_lr_graph(LR)\n",
    "#         breaker()\n",
    "    \n",
    "#     BLEs.append(BLE)\n",
    "    \n",
    "#     fold += 1"
   ]
  },
  {
   "cell_type": "markdown",
   "id": "2841472b",
   "metadata": {
    "papermill": {
     "duration": 0.003983,
     "end_time": "2022-09-08T18:20:21.350937",
     "exception": false,
     "start_time": "2022-09-08T18:20:21.346954",
     "status": "completed"
    },
    "tags": []
   },
   "source": [
    "### **Best Model**"
   ]
  },
  {
   "cell_type": "code",
   "execution_count": 10,
   "id": "a67f3e82",
   "metadata": {
    "execution": {
     "iopub.execute_input": "2022-09-08T18:20:21.360258Z",
     "iopub.status.busy": "2022-09-08T18:20:21.359994Z",
     "iopub.status.idle": "2022-09-08T18:20:21.363763Z",
     "shell.execute_reply": "2022-09-08T18:20:21.362762Z"
    },
    "papermill": {
     "duration": 0.010798,
     "end_time": "2022-09-08T18:20:21.365858",
     "exception": false,
     "start_time": "2022-09-08T18:20:21.355060",
     "status": "completed"
    },
    "tags": []
   },
   "outputs": [],
   "source": [
    "# best_loss_index = BLEs.index(min(BLEs))\n",
    "\n",
    "# breaker()\n",
    "# print(f\"Best Loss Model Fold : {best_loss_index + 1}\")\n",
    "# breaker()"
   ]
  },
  {
   "cell_type": "markdown",
   "id": "3f5267f6",
   "metadata": {
    "papermill": {
     "duration": 0.003995,
     "end_time": "2022-09-08T18:20:21.373983",
     "exception": false,
     "start_time": "2022-09-08T18:20:21.369988",
     "status": "completed"
    },
    "tags": []
   },
   "source": [
    "### **Submission**"
   ]
  },
  {
   "cell_type": "code",
   "execution_count": 11,
   "id": "428ad8dc",
   "metadata": {
    "execution": {
     "iopub.execute_input": "2022-09-08T18:20:21.383693Z",
     "iopub.status.busy": "2022-09-08T18:20:21.383418Z",
     "iopub.status.idle": "2022-09-08T18:22:13.226788Z",
     "shell.execute_reply": "2022-09-08T18:22:13.225787Z"
    },
    "papermill": {
     "duration": 111.851212,
     "end_time": "2022-09-08T18:22:13.229429",
     "exception": false,
     "start_time": "2022-09-08T18:20:21.378217",
     "status": "completed"
    },
    "tags": []
   },
   "outputs": [],
   "source": [
    "ss_df = pd.read_csv(\"../input/com3025-2022-challenge-week-6-7-extended-extend/submission_sampe.csv\")\n",
    "\n",
    "ts_data_setup = DS(\n",
    "    base_path=\"../input/com3025-2022-challenge-week-6-7-extended-extend/test_data/test_data/\", \n",
    "    filenames=ss_df[\"file_name\"].values, \n",
    "    size=cfg.size,\n",
    "    transform=cfg.valid_transform\n",
    ")\n",
    "ts_data = DL(ts_data_setup, batch_size=cfg.batch_size, shuffle=False)\n",
    "\n",
    "model_name: str = \"efficientnet_b4\"\n",
    "torch.manual_seed(cfg.seed)\n",
    "model = Model(model_name=model_name).to(cfg.device)\n",
    "\n",
    "y_pred = predict_batch(\n",
    "    model=model, \n",
    "    dataloader=ts_data, \n",
    "    path=\"../input/c2022-w67-en4-a384/saves/efficientnet_b4_ble_state_fold_1.pt\", \n",
    "    device=cfg.device\n",
    ")\n",
    "\n",
    "ss_df.iloc[:, 1:] = y_pred\n",
    "ss_df.to_csv(\"submission.csv\", index=False)"
   ]
  }
 ],
 "metadata": {
  "kernelspec": {
   "display_name": "Python 3",
   "language": "python",
   "name": "python3"
  },
  "language_info": {
   "codemirror_mode": {
    "name": "ipython",
    "version": 3
   },
   "file_extension": ".py",
   "mimetype": "text/x-python",
   "name": "python",
   "nbconvert_exporter": "python",
   "pygments_lexer": "ipython3",
   "version": "3.7.12"
  },
  "papermill": {
   "default_parameters": {},
   "duration": 135.768231,
   "end_time": "2022-09-08T18:22:14.757431",
   "environment_variables": {},
   "exception": null,
   "input_path": "__notebook__.ipynb",
   "output_path": "__notebook__.ipynb",
   "parameters": {},
   "start_time": "2022-09-08T18:19:58.989200",
   "version": "2.3.4"
  }
 },
 "nbformat": 4,
 "nbformat_minor": 5
}
