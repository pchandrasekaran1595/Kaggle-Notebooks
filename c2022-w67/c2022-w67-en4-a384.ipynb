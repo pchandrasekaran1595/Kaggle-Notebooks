{
 "cells": [
  {
   "cell_type": "markdown",
   "id": "7e6f2fb4",
   "metadata": {
    "_cell_guid": "b1076dfc-b9ad-4769-8c92-a6c4dae69d19",
    "_uuid": "8f2839f25d086af736a60e9eeb907d3b93b6e0e5",
    "papermill": {
     "duration": 0.005027,
     "end_time": "2022-09-20T10:55:36.775087",
     "exception": false,
     "start_time": "2022-09-20T10:55:36.770060",
     "status": "completed"
    },
    "tags": []
   },
   "source": [
    "### **Setup**"
   ]
  },
  {
   "cell_type": "code",
   "execution_count": 1,
   "id": "c654a9b4",
   "metadata": {
    "execution": {
     "iopub.execute_input": "2022-09-20T10:55:36.785852Z",
     "iopub.status.busy": "2022-09-20T10:55:36.784943Z",
     "iopub.status.idle": "2022-09-20T10:55:47.797052Z",
     "shell.execute_reply": "2022-09-20T10:55:47.795739Z"
    },
    "papermill": {
     "duration": 11.020094,
     "end_time": "2022-09-20T10:55:47.799362",
     "exception": false,
     "start_time": "2022-09-20T10:55:36.779268",
     "status": "completed"
    },
    "tags": []
   },
   "outputs": [
    {
     "name": "stderr",
     "output_type": "stream",
     "text": [
      "WARNING: Running pip as the 'root' user can result in broken permissions and conflicting behaviour with the system package manager. It is recommended to use a virtual environment instead: https://pip.pypa.io/warnings/venv\n"
     ]
    }
   ],
   "source": [
    "%%bash\n",
    "pip install timm -q"
   ]
  },
  {
   "cell_type": "markdown",
   "id": "9240ccb1",
   "metadata": {
    "papermill": {
     "duration": 0.003756,
     "end_time": "2022-09-20T10:55:47.807313",
     "exception": false,
     "start_time": "2022-09-20T10:55:47.803557",
     "status": "completed"
    },
    "tags": []
   },
   "source": [
    "### **Library Imports**"
   ]
  },
  {
   "cell_type": "code",
   "execution_count": 2,
   "id": "056b18e5",
   "metadata": {
    "execution": {
     "iopub.execute_input": "2022-09-20T10:55:47.817472Z",
     "iopub.status.busy": "2022-09-20T10:55:47.817138Z",
     "iopub.status.idle": "2022-09-20T10:55:51.619979Z",
     "shell.execute_reply": "2022-09-20T10:55:51.618872Z"
    },
    "papermill": {
     "duration": 3.81131,
     "end_time": "2022-09-20T10:55:51.622423",
     "exception": false,
     "start_time": "2022-09-20T10:55:47.811113",
     "status": "completed"
    },
    "tags": []
   },
   "outputs": [],
   "source": [
    "import os\n",
    "import re\n",
    "import cv2\n",
    "import timm\n",
    "import torch\n",
    "import numpy as np\n",
    "import pandas as pd\n",
    "import matplotlib.pyplot as plt\n",
    "\n",
    "from time import time\n",
    "from torch import nn, optim\n",
    "from torch.utils.data import Dataset\n",
    "from torch.utils.data import DataLoader as DL\n",
    "from torchvision import models, transforms\n",
    "\n",
    "from sklearn.model_selection import KFold"
   ]
  },
  {
   "cell_type": "markdown",
   "id": "c6daf7ef",
   "metadata": {
    "papermill": {
     "duration": 0.003666,
     "end_time": "2022-09-20T10:55:51.630383",
     "exception": false,
     "start_time": "2022-09-20T10:55:51.626717",
     "status": "completed"
    },
    "tags": []
   },
   "source": [
    "### **Utilities and Helpers**"
   ]
  },
  {
   "cell_type": "code",
   "execution_count": 3,
   "id": "bdee7dc4",
   "metadata": {
    "execution": {
     "iopub.execute_input": "2022-09-20T10:55:51.641216Z",
     "iopub.status.busy": "2022-09-20T10:55:51.639255Z",
     "iopub.status.idle": "2022-09-20T10:55:51.650164Z",
     "shell.execute_reply": "2022-09-20T10:55:51.649293Z"
    },
    "papermill": {
     "duration": 0.018113,
     "end_time": "2022-09-20T10:55:51.652261",
     "exception": false,
     "start_time": "2022-09-20T10:55:51.634148",
     "status": "completed"
    },
    "tags": []
   },
   "outputs": [],
   "source": [
    "SEED = 42\n",
    "SIZE = 384\n",
    "\n",
    "\n",
    "def breaker(num: int=50, char: str=\"*\") -> None:\n",
    "    print(\"\\n\" + num*char + \"\\n\")\n",
    "\n",
    "    \n",
    "def get_image(path: str, size: int=224) -> np.ndarray:\n",
    "    image = cv2.imread(path, cv2.IMREAD_COLOR)\n",
    "    image = cv2.cvtColor(src=image, code=cv2.COLOR_BGR2RGB)\n",
    "    return cv2.resize(src=image, dsize=(size, size), interpolation=cv2.INTER_AREA)\n",
    "\n",
    "\n",
    "def show_loss_graphs(L: list) -> None:\n",
    "    TL, VL = [], []\n",
    "    for i in range(len(L)):\n",
    "        TL.append(L[i][\"train\"])\n",
    "        VL.append(L[i][\"valid\"])\n",
    "    x_Axis = np.arange(1, len(TL) + 1)\n",
    "    plt.figure()\n",
    "    plt.plot(x_Axis, TL, \"r\", label=\"Train\")\n",
    "    plt.plot(x_Axis, VL, \"b\", label=\"Valid\")\n",
    "    plt.legend()\n",
    "    plt.grid()\n",
    "    plt.title(\"Loss Graph\")\n",
    "    plt.show()\n",
    "    \n",
    "\n",
    "def show_lr_graph(LR: list) -> None:\n",
    "    x_Axis = [i+1 for i in range(len(LR))]\n",
    "    plt.figure(figsize=(8, 6))\n",
    "    plt.plot(x_Axis, LR, \"rx\")\n",
    "    plt.grid()\n",
    "    plt.show()"
   ]
  },
  {
   "cell_type": "markdown",
   "id": "10ff7394",
   "metadata": {
    "papermill": {
     "duration": 0.003589,
     "end_time": "2022-09-20T10:55:51.659725",
     "exception": false,
     "start_time": "2022-09-20T10:55:51.656136",
     "status": "completed"
    },
    "tags": []
   },
   "source": [
    "### **Configuration**"
   ]
  },
  {
   "cell_type": "code",
   "execution_count": 4,
   "id": "a783d5d3",
   "metadata": {
    "execution": {
     "iopub.execute_input": "2022-09-20T10:55:51.668600Z",
     "iopub.status.busy": "2022-09-20T10:55:51.668230Z",
     "iopub.status.idle": "2022-09-20T10:55:51.741793Z",
     "shell.execute_reply": "2022-09-20T10:55:51.740884Z"
    },
    "papermill": {
     "duration": 0.080314,
     "end_time": "2022-09-20T10:55:51.743824",
     "exception": false,
     "start_time": "2022-09-20T10:55:51.663510",
     "status": "completed"
    },
    "tags": []
   },
   "outputs": [],
   "source": [
    "class CFG(object):\n",
    "    def __init__(self, \n",
    "                 seed: int = 42,\n",
    "                 size: int = 224,\n",
    "                 n_splits: int = 5,\n",
    "                 batch_size: int = 16,\n",
    "                 epochs: int = 25,\n",
    "                 early_stopping: int = 5,\n",
    "                 lr: float = 1e-4,\n",
    "                 wd: float = 0.0,\n",
    "                 max_lr: float = 1e-3,\n",
    "                 pct_start: float = 0.2,\n",
    "                 steps_per_epoch: int = 100,\n",
    "                 div_factor: int = 1e3, \n",
    "                 final_div_factor: float = 1e3,\n",
    "                 ):\n",
    "        self.seed = seed\n",
    "        self.size = size\n",
    "        self.n_splits = n_splits\n",
    "        self.batch_size = batch_size\n",
    "        self.epochs = epochs\n",
    "        self.early_stopping = early_stopping\n",
    "        self.lr = lr\n",
    "        self.wd = wd\n",
    "        self.max_lr = max_lr\n",
    "        self.pct_start = pct_start\n",
    "        self.steps_per_epoch = steps_per_epoch\n",
    "        self.div_factor = div_factor\n",
    "        self.final_div_factor = final_div_factor\n",
    "        self.device = torch.device(\"cuda\" if torch.cuda.is_available() else \"cpu\")\n",
    "        self.train_transform = transforms.Compose([\n",
    "            transforms.ToTensor(),\n",
    "            transforms.Normalize([0.44811, 0.42458, 0.39159], [0.23526, 0.22963, 0.23221]),\n",
    "            transforms.RandomAffine(degrees=(-45, 45), translate=(0.15, 0.15), scale=(0.5, 1.5)),\n",
    "            transforms.RandomHorizontalFlip(p=0.25),\n",
    "            transforms.RandomVerticalFlip(p=0.25),\n",
    "        ])\n",
    "        self.valid_transform = transforms.Compose([\n",
    "            transforms.ToTensor(),\n",
    "            transforms.Normalize([0.44811, 0.42458, 0.39159], [0.23526, 0.22963, 0.23221]),\n",
    "        ])\n",
    "                                \n",
    "        self.save_path = \"saves\"\n",
    "        if not os.path.exists(self.save_path): os.makedirs(self.save_path)\n",
    "    \n",
    "cfg = CFG(seed=SEED, size=SIZE)"
   ]
  },
  {
   "cell_type": "markdown",
   "id": "9b8e57cd",
   "metadata": {
    "papermill": {
     "duration": 0.003724,
     "end_time": "2022-09-20T10:55:51.751740",
     "exception": false,
     "start_time": "2022-09-20T10:55:51.748016",
     "status": "completed"
    },
    "tags": []
   },
   "source": [
    "### **Dataset Template**"
   ]
  },
  {
   "cell_type": "code",
   "execution_count": 5,
   "id": "1a1c8e26",
   "metadata": {
    "execution": {
     "iopub.execute_input": "2022-09-20T10:55:51.760737Z",
     "iopub.status.busy": "2022-09-20T10:55:51.760380Z",
     "iopub.status.idle": "2022-09-20T10:55:51.767141Z",
     "shell.execute_reply": "2022-09-20T10:55:51.766165Z"
    },
    "papermill": {
     "duration": 0.013394,
     "end_time": "2022-09-20T10:55:51.768931",
     "exception": false,
     "start_time": "2022-09-20T10:55:51.755537",
     "status": "completed"
    },
    "tags": []
   },
   "outputs": [],
   "source": [
    "class DS(Dataset):\n",
    "    def __init__(\n",
    "        self, \n",
    "        base_path: str,\n",
    "        filenames: np.ndarray, \n",
    "        labels: np.ndarray, \n",
    "        size: int,\n",
    "        transform=None):\n",
    "        \n",
    "        self.base_path = base_path\n",
    "        self.filenames = filenames\n",
    "        self.labels = labels\n",
    "        self.size = size\n",
    "        self.transform = transform\n",
    "    \n",
    "    def __len__(self):\n",
    "        return self.filenames.shape[0]\n",
    "    \n",
    "    def __getitem__(self, idx):\n",
    "        path = os.path.join(self.base_path, self.filenames[idx])\n",
    "        image = get_image(path, self.size)\n",
    "        return self.transform(image), self.labels[idx]"
   ]
  },
  {
   "cell_type": "markdown",
   "id": "d9e793b5",
   "metadata": {
    "papermill": {
     "duration": 0.003651,
     "end_time": "2022-09-20T10:55:51.776577",
     "exception": false,
     "start_time": "2022-09-20T10:55:51.772926",
     "status": "completed"
    },
    "tags": []
   },
   "source": [
    "### **Model**"
   ]
  },
  {
   "cell_type": "code",
   "execution_count": 6,
   "id": "66fe7435",
   "metadata": {
    "execution": {
     "iopub.execute_input": "2022-09-20T10:55:51.785506Z",
     "iopub.status.busy": "2022-09-20T10:55:51.785232Z",
     "iopub.status.idle": "2022-09-20T10:55:51.790998Z",
     "shell.execute_reply": "2022-09-20T10:55:51.789993Z"
    },
    "papermill": {
     "duration": 0.012933,
     "end_time": "2022-09-20T10:55:51.793281",
     "exception": false,
     "start_time": "2022-09-20T10:55:51.780348",
     "status": "completed"
    },
    "tags": []
   },
   "outputs": [],
   "source": [
    "class Model(nn.Module):\n",
    "    def __init__(self):\n",
    "        super(Model, self).__init__()\n",
    "\n",
    "        self.model = timm.create_model(model_name=\"efficientnet_b4\", pretrained=True)\n",
    "        self.model.classifier = nn.Linear(in_features=self.model.classifier.in_features, out_features=23)\n",
    "            \n",
    "    def freeze(self):\n",
    "        for params in self.parameters(): params.requires_grad = False\n",
    "\n",
    "    def forward(self, x):\n",
    "        return self.model(x)"
   ]
  },
  {
   "cell_type": "markdown",
   "id": "c8bd100e",
   "metadata": {
    "papermill": {
     "duration": 0.003658,
     "end_time": "2022-09-20T10:55:51.800795",
     "exception": false,
     "start_time": "2022-09-20T10:55:51.797137",
     "status": "completed"
    },
    "tags": []
   },
   "source": [
    "### **Fit and Predict**"
   ]
  },
  {
   "cell_type": "code",
   "execution_count": 7,
   "id": "60d09a0d",
   "metadata": {
    "execution": {
     "iopub.execute_input": "2022-09-20T10:55:51.809898Z",
     "iopub.status.busy": "2022-09-20T10:55:51.809630Z",
     "iopub.status.idle": "2022-09-20T10:55:51.828591Z",
     "shell.execute_reply": "2022-09-20T10:55:51.827586Z"
    },
    "papermill": {
     "duration": 0.026004,
     "end_time": "2022-09-20T10:55:51.830617",
     "exception": false,
     "start_time": "2022-09-20T10:55:51.804613",
     "status": "completed"
    },
    "tags": []
   },
   "outputs": [],
   "source": [
    "def fit(model=None,\n",
    "        optimizer=None, \n",
    "        scheduler_rlrop=None,\n",
    "        scheduler_oclr=None,\n",
    "        epochs=None, \n",
    "        early_stopping_patience=None, \n",
    "        dataloaders=None, \n",
    "        fold=None, \n",
    "        save_path=None,\n",
    "        device=None,\n",
    "        verbose=False) -> tuple:    \n",
    "    \n",
    "    if verbose:\n",
    "        breaker()\n",
    "        if fold: print(f\"Training Fold {fold}...\")\n",
    "        else: print(\"Training ...\")\n",
    "        breaker()\n",
    "        \n",
    "    bestLoss: dict = {\"train\" : np.inf, \"valid\" : np.inf} \n",
    "        \n",
    "    Losses: list = []\n",
    "    LRs: list = []\n",
    "        \n",
    "    if fold: ble_name = f\"ble_state_fold_{fold}.pt\"\n",
    "    else: ble_name = f\"ble_state.pt\"\n",
    "    \n",
    "    start_time = time()\n",
    "    for e in range(epochs):\n",
    "        e_st = time()\n",
    "        epochLoss: dict = {\"train\" : 0.0, \"valid\" : 0.0} \n",
    "\n",
    "        for phase in [\"train\", \"valid\"]:\n",
    "            if phase == \"train\": model.train()\n",
    "            else: model.eval()\n",
    "            \n",
    "            lossPerPass: list = []\n",
    "                \n",
    "            for X, y in dataloaders[phase]:\n",
    "                X, y = X.to(device), y.to(device)\n",
    "\n",
    "                optimizer.zero_grad()\n",
    "                with torch.set_grad_enabled(phase == \"train\"):\n",
    "                    output = model(X)\n",
    "                    loss = torch.nn.BCEWithLogitsLoss()(output, y)\n",
    "                    if phase == \"train\":\n",
    "                        loss.backward()\n",
    "                        optimizer.step()\n",
    "                        if scheduler_oclr: scheduler_oclr.step()\n",
    "                lossPerPass.append(loss.item())\n",
    "            epochLoss[phase] = np.mean(np.array(lossPerPass))\n",
    "        if scheduler_oclr: LRs.append(scheduler_oclr.get_last_lr())\n",
    "        Losses.append(epochLoss)\n",
    "    \n",
    "        if scheduler_oclr:\n",
    "            save_dict = {\"model_state_dict\"     : model.state_dict(),\n",
    "                         \"optim_state_dict\"     : optimizer.state_dict(),\n",
    "                         \"scheduler_state_dict\" : scheduler_oclr.state_dict()}\n",
    "        \n",
    "        elif scheduler_rlrop:\n",
    "            save_dict = {\"model_state_dict\"     : model.state_dict(),\n",
    "                         \"optim_state_dict\"     : optimizer.state_dict(),\n",
    "                         \"scheduler_state_dict\" : scheduler_rlrop.state_dict()}\n",
    "        \n",
    "        else:\n",
    "            save_dict = {\"model_state_dict\"     : model.state_dict(),\n",
    "                         \"optim_state_dict\"     : optimizer.state_dict()}\n",
    "        \n",
    "        \n",
    "        if early_stopping_patience:\n",
    "            if epochLoss[\"valid\"] < bestLoss[\"valid\"]:\n",
    "                bestLoss = epochLoss\n",
    "                BLE = e + 1\n",
    "                torch.save(save_dict, os.path.join(save_path, ble_name))\n",
    "                early_stopping_step = 0\n",
    "            else:\n",
    "                early_stopping_step += 1\n",
    "                if early_stopping_step > early_stopping_patience:\n",
    "                    print(\"\\nEarly Stopping at Epoch {}\".format(e + 1))\n",
    "                    break\n",
    "        \n",
    "        if epochLoss[\"valid\"] < bestLoss[\"valid\"]:\n",
    "            bestLoss = epochLoss\n",
    "            BLE = e + 1\n",
    "            torch.save(save_dict,os.path.join(save_path, ble_name))\n",
    "        \n",
    "        if scheduler_rlrop: scheduler_rlrop.step(epochLoss[\"valid\"])\n",
    "        \n",
    "        if verbose:\n",
    "            print(\"Epoch: {} | Train Loss: {:.5f} | Valid Loss: {:.5f} | Time: {:.2f} seconds\".format(e+1, epochLoss[\"train\"], epochLoss[\"valid\"], time()-e_st))\n",
    "\n",
    "    if verbose:                                           \n",
    "        breaker()\n",
    "        print(f\"Best Validation Loss at Epoch {BLE}\")\n",
    "        breaker()\n",
    "        print(\"Time Taken [{} Epochs] : {:.2f} minutes\".format(len(Losses), (time()-start_time)/60))\n",
    "    \n",
    "    return Losses, LRs, BLE, ble_name\n",
    "\n",
    "\n",
    "def predict_batch(\n",
    "    model=None, \n",
    "    dataloader=None, \n",
    "    path=None, \n",
    "    device=None\n",
    ") -> np.ndarray:\n",
    "    \n",
    "    model.load_state_dict(torch.load(path, map_location=device)[\"model_state_dict\"])\n",
    "    model.to(device)    \n",
    "    model.eval()\n",
    "    \n",
    "    y_pred = torch.zeros(1, 23).to(device)\n",
    "    \n",
    "    for X in dataloader:\n",
    "        X = X.to(device)\n",
    "        with torch.no_grad():\n",
    "            output = torch.sigmoid(model(X))\n",
    "        y_pred = torch.cat((y_pred, output), dim=0)\n",
    "    \n",
    "    return y_pred[1:].detach().cpu().numpy()"
   ]
  },
  {
   "cell_type": "markdown",
   "id": "caad331f",
   "metadata": {
    "papermill": {
     "duration": 0.004496,
     "end_time": "2022-09-20T10:55:51.838983",
     "exception": false,
     "start_time": "2022-09-20T10:55:51.834487",
     "status": "completed"
    },
    "tags": []
   },
   "source": [
    "### **Train**"
   ]
  },
  {
   "cell_type": "code",
   "execution_count": 8,
   "id": "74b3877d",
   "metadata": {
    "execution": {
     "iopub.execute_input": "2022-09-20T10:55:51.848839Z",
     "iopub.status.busy": "2022-09-20T10:55:51.847418Z",
     "iopub.status.idle": "2022-09-20T10:55:51.896515Z",
     "shell.execute_reply": "2022-09-20T10:55:51.895610Z"
    },
    "papermill": {
     "duration": 0.056359,
     "end_time": "2022-09-20T10:55:51.899127",
     "exception": false,
     "start_time": "2022-09-20T10:55:51.842768",
     "status": "completed"
    },
    "tags": []
   },
   "outputs": [],
   "source": [
    "df = pd.read_csv(\"../input/com3025-2022-challenge-week-6-7-extended-extend/train.csv\")\n",
    "\n",
    "filenames = df.file_name.copy().values\n",
    "labels = df.iloc[:, 1:].copy().values"
   ]
  },
  {
   "cell_type": "code",
   "execution_count": 9,
   "id": "a1ead2b4",
   "metadata": {
    "execution": {
     "iopub.execute_input": "2022-09-20T10:55:51.908915Z",
     "iopub.status.busy": "2022-09-20T10:55:51.908618Z",
     "iopub.status.idle": "2022-09-20T14:11:16.691519Z",
     "shell.execute_reply": "2022-09-20T14:11:16.690398Z"
    },
    "papermill": {
     "duration": 11724.790306,
     "end_time": "2022-09-20T14:11:16.693637",
     "exception": false,
     "start_time": "2022-09-20T10:55:51.903331",
     "status": "completed"
    },
    "tags": []
   },
   "outputs": [
    {
     "name": "stderr",
     "output_type": "stream",
     "text": [
      "Downloading: \"https://github.com/rwightman/pytorch-image-models/releases/download/v0.1-weights/efficientnet_b4_ra2_320-7eb33cd5.pth\" to /root/.cache/torch/hub/checkpoints/efficientnet_b4_ra2_320-7eb33cd5.pth\n"
     ]
    },
    {
     "name": "stdout",
     "output_type": "stream",
     "text": [
      "\n",
      "**************************************************\n",
      "\n",
      "Training Fold 1...\n",
      "\n",
      "**************************************************\n",
      "\n",
      "Epoch: 1 | Train Loss: 0.54876 | Valid Loss: 0.24105 | Time: 226.32 seconds\n",
      "Epoch: 2 | Train Loss: 0.23162 | Valid Loss: 0.18406 | Time: 195.91 seconds\n",
      "Epoch: 3 | Train Loss: 0.13900 | Valid Loss: 0.08886 | Time: 196.16 seconds\n",
      "Epoch: 4 | Train Loss: 0.10199 | Valid Loss: 0.08586 | Time: 197.41 seconds\n",
      "Epoch: 5 | Train Loss: 0.08958 | Valid Loss: 0.08362 | Time: 196.19 seconds\n",
      "Epoch: 6 | Train Loss: 0.08062 | Valid Loss: 0.09049 | Time: 196.78 seconds\n",
      "Epoch: 7 | Train Loss: 0.06969 | Valid Loss: 0.08617 | Time: 195.44 seconds\n",
      "Epoch: 8 | Train Loss: 0.06108 | Valid Loss: 0.08932 | Time: 195.47 seconds\n",
      "Epoch: 9 | Train Loss: 0.05325 | Valid Loss: 0.09778 | Time: 196.19 seconds\n",
      "Epoch: 10 | Train Loss: 0.04821 | Valid Loss: 0.08958 | Time: 197.06 seconds\n",
      "\n",
      "Early Stopping at Epoch 11\n",
      "\n",
      "**************************************************\n",
      "\n",
      "Best Validation Loss at Epoch 5\n",
      "\n",
      "**************************************************\n",
      "\n",
      "Time Taken [11 Epochs] : 36.49 minutes\n",
      "\n",
      "**************************************************\n",
      "\n"
     ]
    },
    {
     "data": {
      "image/png": "[encoded data removed]",
      "text/plain": [
       "<Figure size 432x288 with 1 Axes>"
      ]
     },
     "metadata": {
      "needs_background": "light"
     },
     "output_type": "display_data"
    },
    {
     "name": "stdout",
     "output_type": "stream",
     "text": [
      "\n",
      "**************************************************\n",
      "\n"
     ]
    },
    {
     "data": {
      "image/png": "[encoded data removed]",
      "text/plain": [
       "<Figure size 576x432 with 1 Axes>"
      ]
     },
     "metadata": {
      "needs_background": "light"
     },
     "output_type": "display_data"
    },
    {
     "name": "stdout",
     "output_type": "stream",
     "text": [
      "\n",
      "**************************************************\n",
      "\n",
      "\n",
      "**************************************************\n",
      "\n",
      "Training Fold 2...\n",
      "\n",
      "**************************************************\n",
      "\n",
      "Epoch: 1 | Train Loss: 0.54871 | Valid Loss: 0.23636 | Time: 196.21 seconds\n",
      "Epoch: 2 | Train Loss: 0.23343 | Valid Loss: 0.18107 | Time: 196.94 seconds\n",
      "Epoch: 3 | Train Loss: 0.13995 | Valid Loss: 0.08179 | Time: 196.54 seconds\n",
      "Epoch: 4 | Train Loss: 0.10467 | Valid Loss: 0.07488 | Time: 196.73 seconds\n",
      "Epoch: 5 | Train Loss: 0.09157 | Valid Loss: 0.07712 | Time: 195.02 seconds\n",
      "Epoch: 6 | Train Loss: 0.07969 | Valid Loss: 0.07186 | Time: 195.73 seconds\n",
      "Epoch: 7 | Train Loss: 0.07129 | Valid Loss: 0.08069 | Time: 195.64 seconds\n",
      "Epoch: 8 | Train Loss: 0.06099 | Valid Loss: 0.07796 | Time: 195.77 seconds\n",
      "Epoch: 9 | Train Loss: 0.05599 | Valid Loss: 0.08338 | Time: 196.78 seconds\n",
      "Epoch: 10 | Train Loss: 0.04751 | Valid Loss: 0.08368 | Time: 197.77 seconds\n",
      "Epoch: 11 | Train Loss: 0.04021 | Valid Loss: 0.08465 | Time: 195.63 seconds\n",
      "\n",
      "Early Stopping at Epoch 12\n",
      "\n",
      "**************************************************\n",
      "\n",
      "Best Validation Loss at Epoch 6\n",
      "\n",
      "**************************************************\n",
      "\n",
      "Time Taken [12 Epochs] : 39.26 minutes\n",
      "\n",
      "**************************************************\n",
      "\n"
     ]
    },
    {
     "data": {
      "image/png": "[encoded data removed]",
      "text/plain": [
       "<Figure size 432x288 with 1 Axes>"
      ]
     },
     "metadata": {
      "needs_background": "light"
     },
     "output_type": "display_data"
    },
    {
     "name": "stdout",
     "output_type": "stream",
     "text": [
      "\n",
      "**************************************************\n",
      "\n"
     ]
    },
    {
     "data": {
      "image/png": "[encoded data removed]",
      "text/plain": [
       "<Figure size 576x432 with 1 Axes>"
      ]
     },
     "metadata": {
      "needs_background": "light"
     },
     "output_type": "display_data"
    },
    {
     "name": "stdout",
     "output_type": "stream",
     "text": [
      "\n",
      "**************************************************\n",
      "\n",
      "\n",
      "**************************************************\n",
      "\n",
      "Training Fold 3...\n",
      "\n",
      "**************************************************\n",
      "\n",
      "Epoch: 1 | Train Loss: 0.54796 | Valid Loss: 0.24208 | Time: 198.66 seconds\n",
      "Epoch: 2 | Train Loss: 0.23144 | Valid Loss: 0.18299 | Time: 198.80 seconds\n",
      "Epoch: 3 | Train Loss: 0.13662 | Valid Loss: 0.09584 | Time: 198.41 seconds\n",
      "Epoch: 4 | Train Loss: 0.10322 | Valid Loss: 0.08396 | Time: 198.44 seconds\n",
      "Epoch: 5 | Train Loss: 0.08948 | Valid Loss: 0.08970 | Time: 198.60 seconds\n",
      "Epoch: 6 | Train Loss: 0.08086 | Valid Loss: 0.09477 | Time: 199.71 seconds\n",
      "Epoch: 7 | Train Loss: 0.07089 | Valid Loss: 0.08462 | Time: 199.65 seconds\n",
      "Epoch: 8 | Train Loss: 0.06039 | Valid Loss: 0.08758 | Time: 199.53 seconds\n",
      "Epoch: 9 | Train Loss: 0.05390 | Valid Loss: 0.09498 | Time: 198.24 seconds\n",
      "\n",
      "Early Stopping at Epoch 10\n",
      "\n",
      "**************************************************\n",
      "\n",
      "Best Validation Loss at Epoch 4\n",
      "\n",
      "**************************************************\n",
      "\n",
      "Time Taken [10 Epochs] : 33.16 minutes\n",
      "\n",
      "**************************************************\n",
      "\n"
     ]
    },
    {
     "data": {
      "image/png": "[encoded data removed]",
      "text/plain": [
       "<Figure size 432x288 with 1 Axes>"
      ]
     },
     "metadata": {
      "needs_background": "light"
     },
     "output_type": "display_data"
    },
    {
     "name": "stdout",
     "output_type": "stream",
     "text": [
      "\n",
      "**************************************************\n",
      "\n"
     ]
    },
    {
     "data": {
      "image/png": "[encoded data removed]",
      "text/plain": [
       "<Figure size 576x432 with 1 Axes>"
      ]
     },
     "metadata": {
      "needs_background": "light"
     },
     "output_type": "display_data"
    },
    {
     "name": "stdout",
     "output_type": "stream",
     "text": [
      "\n",
      "**************************************************\n",
      "\n",
      "\n",
      "**************************************************\n",
      "\n",
      "Training Fold 4...\n",
      "\n",
      "**************************************************\n",
      "\n",
      "Epoch: 1 | Train Loss: 0.54784 | Valid Loss: 0.25091 | Time: 198.76 seconds\n",
      "Epoch: 2 | Train Loss: 0.22981 | Valid Loss: 0.18798 | Time: 200.23 seconds\n",
      "Epoch: 3 | Train Loss: 0.13713 | Valid Loss: 0.09139 | Time: 199.56 seconds\n",
      "Epoch: 4 | Train Loss: 0.10108 | Valid Loss: 0.09191 | Time: 198.42 seconds\n",
      "Epoch: 5 | Train Loss: 0.08944 | Valid Loss: 0.09775 | Time: 198.16 seconds\n",
      "Epoch: 6 | Train Loss: 0.07925 | Valid Loss: 0.08828 | Time: 200.60 seconds\n",
      "Epoch: 7 | Train Loss: 0.07193 | Valid Loss: 0.08465 | Time: 198.94 seconds\n",
      "Epoch: 8 | Train Loss: 0.05860 | Valid Loss: 0.09240 | Time: 198.95 seconds\n",
      "Epoch: 9 | Train Loss: 0.05421 | Valid Loss: 0.09056 | Time: 199.45 seconds\n",
      "Epoch: 10 | Train Loss: 0.04556 | Valid Loss: 0.09854 | Time: 198.45 seconds\n",
      "Epoch: 11 | Train Loss: 0.03938 | Valid Loss: 0.10623 | Time: 199.12 seconds\n",
      "Epoch: 12 | Train Loss: 0.03468 | Valid Loss: 0.10455 | Time: 199.86 seconds\n",
      "\n",
      "Early Stopping at Epoch 13\n",
      "\n",
      "**************************************************\n",
      "\n",
      "Best Validation Loss at Epoch 7\n",
      "\n",
      "**************************************************\n",
      "\n",
      "Time Taken [13 Epochs] : 43.15 minutes\n",
      "\n",
      "**************************************************\n",
      "\n"
     ]
    },
    {
     "data": {
      "image/png": "[encoded data removed]",
      "text/plain": [
       "<Figure size 432x288 with 1 Axes>"
      ]
     },
     "metadata": {
      "needs_background": "light"
     },
     "output_type": "display_data"
    },
    {
     "name": "stdout",
     "output_type": "stream",
     "text": [
      "\n",
      "**************************************************\n",
      "\n"
     ]
    },
    {
     "data": {
      "image/png": "[encoded data removed]",
      "text/plain": [
       "<Figure size 576x432 with 1 Axes>"
      ]
     },
     "metadata": {
      "needs_background": "light"
     },
     "output_type": "display_data"
    },
    {
     "name": "stdout",
     "output_type": "stream",
     "text": [
      "\n",
      "**************************************************\n",
      "\n",
      "\n",
      "**************************************************\n",
      "\n",
      "Training Fold 5...\n",
      "\n",
      "**************************************************\n",
      "\n",
      "Epoch: 1 | Train Loss: 0.54842 | Valid Loss: 0.24354 | Time: 199.11 seconds\n",
      "Epoch: 2 | Train Loss: 0.22988 | Valid Loss: 0.18423 | Time: 200.72 seconds\n",
      "Epoch: 3 | Train Loss: 0.13756 | Valid Loss: 0.09683 | Time: 199.77 seconds\n",
      "Epoch: 4 | Train Loss: 0.10173 | Valid Loss: 0.08616 | Time: 201.09 seconds\n",
      "Epoch: 5 | Train Loss: 0.09206 | Valid Loss: 0.08285 | Time: 199.52 seconds\n",
      "Epoch: 6 | Train Loss: 0.07949 | Valid Loss: 0.08770 | Time: 198.74 seconds\n",
      "Epoch: 7 | Train Loss: 0.06887 | Valid Loss: 0.08192 | Time: 198.63 seconds\n",
      "Epoch: 8 | Train Loss: 0.06022 | Valid Loss: 0.10160 | Time: 198.90 seconds\n",
      "Epoch: 9 | Train Loss: 0.05334 | Valid Loss: 0.09463 | Time: 198.72 seconds\n",
      "Epoch: 10 | Train Loss: 0.04649 | Valid Loss: 0.11254 | Time: 200.20 seconds\n",
      "Epoch: 11 | Train Loss: 0.03935 | Valid Loss: 0.10515 | Time: 198.46 seconds\n",
      "Epoch: 12 | Train Loss: 0.03419 | Valid Loss: 0.12728 | Time: 198.68 seconds\n",
      "\n",
      "Early Stopping at Epoch 13\n",
      "\n",
      "**************************************************\n",
      "\n",
      "Best Validation Loss at Epoch 7\n",
      "\n",
      "**************************************************\n",
      "\n",
      "Time Taken [13 Epochs] : 43.18 minutes\n",
      "\n",
      "**************************************************\n",
      "\n"
     ]
    },
    {
     "data": {
      "image/png": "[encoded data removed]",
      "text/plain": [
       "<Figure size 432x288 with 1 Axes>"
      ]
     },
     "metadata": {
      "needs_background": "light"
     },
     "output_type": "display_data"
    },
    {
     "name": "stdout",
     "output_type": "stream",
     "text": [
      "\n",
      "**************************************************\n",
      "\n"
     ]
    },
    {
     "data": {
      "image/png": "[encoded data removed]",
      "text/plain": [
       "<Figure size 576x432 with 1 Axes>"
      ]
     },
     "metadata": {
      "needs_background": "light"
     },
     "output_type": "display_data"
    },
    {
     "name": "stdout",
     "output_type": "stream",
     "text": [
      "\n",
      "**************************************************\n",
      "\n"
     ]
    }
   ],
   "source": [
    "fold: int = 1\n",
    "BLEs: list = []\n",
    "\n",
    "for tr_idx, va_idx in KFold(n_splits=cfg.n_splits, random_state=cfg.seed, shuffle=True).split(filenames):\n",
    "\n",
    "    tr_filenames, va_filenames = filenames[tr_idx], filenames[va_idx] \n",
    "    tr_labels, va_labels       = labels[tr_idx], labels[va_idx]\n",
    "    \n",
    "    tr_data_setup = DS(\n",
    "        base_path=\"../input/com3025-2022-challenge-week-6-7-extended-extend/train_data/train_data\", \n",
    "        filenames=tr_filenames, \n",
    "        labels=tr_labels,\n",
    "        size=cfg.size,\n",
    "        transform=cfg.train_transform\n",
    "    )\n",
    "    \n",
    "    va_data_setup = DS(\n",
    "        base_path=\"../input/com3025-2022-challenge-week-6-7-extended-extend/train_data/train_data\", \n",
    "        filenames=va_filenames, \n",
    "        labels=va_labels,\n",
    "        size=cfg.size,\n",
    "        transform=cfg.valid_transform\n",
    "    )\n",
    "\n",
    "    dataloaders = {\n",
    "        \"train\" : DL(tr_data_setup, batch_size=cfg.batch_size, shuffle=True, generator=torch.manual_seed(cfg.seed)),\n",
    "        \"valid\" : DL(va_data_setup, batch_size=cfg.batch_size, shuffle=False),\n",
    "    }\n",
    "\n",
    "    cfg = CFG(\n",
    "        size=SIZE,\n",
    "        epochs=25, \n",
    "        batch_size=16, \n",
    "        early_stopping=5,\n",
    "        steps_per_epoch=len(dataloaders[\"train\"])\n",
    "    )\n",
    "    \n",
    "    torch.manual_seed(cfg.seed)\n",
    "    model = Model().to(cfg.device)\n",
    "\n",
    "    optimizer = optim.Adam([p for p in model.parameters() if p.requires_grad], lr=cfg.lr, weight_decay=cfg.wd)\n",
    "    # optimizer = optim.AdamW([p for p in model.parameters() if p.requires_grad], lr=cfg.lr, weight_decay=cfg.wd)\n",
    "    # optimizer = optim.SGD([p for p in model.parameters() if p.requires_grad], lr=cfg.lr, weight_decay=cfg.wd, momentum=0.9)\n",
    "    \n",
    "    scheduler_oclr = optim.lr_scheduler.OneCycleLR(\n",
    "        optimizer=optimizer, \n",
    "        max_lr=cfg.max_lr, \n",
    "        epochs=cfg.epochs, \n",
    "        steps_per_epoch=cfg.steps_per_epoch,\n",
    "        pct_start=cfg.pct_start, \n",
    "        div_factor=cfg.div_factor, \n",
    "        final_div_factor=cfg.final_div_factor\n",
    "    )\n",
    "\n",
    "    # scheduler_rlrop = optim.lr_scheduler.ReduceLROnPlateau(\n",
    "    #     optimizer=optimizer,\n",
    "    #     patience=cfg.patience,\n",
    "    #     eps=cfg.eps,\n",
    "    #     verbose=True\n",
    "    # )\n",
    "\n",
    "    # scheduler_oclr = None\n",
    "    scheduler_rlrop = None\n",
    "    \n",
    "    L, LR, BLE, _ = fit(\n",
    "        model=model, \n",
    "        optimizer=optimizer, \n",
    "        scheduler_oclr=scheduler_oclr,\n",
    "        scheduler_rlrop=scheduler_rlrop,\n",
    "        epochs=cfg.epochs, \n",
    "        early_stopping_patience=cfg.early_stopping, \n",
    "        dataloaders=dataloaders, \n",
    "        device=cfg.device,\n",
    "        save_path=cfg.save_path,\n",
    "        fold=fold,\n",
    "        verbose=True\n",
    "    )\n",
    "    \n",
    "    breaker()\n",
    "    show_loss_graphs(L)\n",
    "    breaker()\n",
    "    if scheduler_oclr:\n",
    "        show_lr_graph(LR)\n",
    "        breaker()\n",
    "    \n",
    "    BLEs.append(BLE)\n",
    "    \n",
    "    fold += 1"
   ]
  },
  {
   "cell_type": "markdown",
   "id": "6b5c3ecf",
   "metadata": {
    "papermill": {
     "duration": 0.009468,
     "end_time": "2022-09-20T14:11:16.712995",
     "exception": false,
     "start_time": "2022-09-20T14:11:16.703527",
     "status": "completed"
    },
    "tags": []
   },
   "source": [
    "### **Best Model**"
   ]
  },
  {
   "cell_type": "code",
   "execution_count": 10,
   "id": "4eed7721",
   "metadata": {
    "execution": {
     "iopub.execute_input": "2022-09-20T14:11:16.734776Z",
     "iopub.status.busy": "2022-09-20T14:11:16.733275Z",
     "iopub.status.idle": "2022-09-20T14:11:16.739749Z",
     "shell.execute_reply": "2022-09-20T14:11:16.738539Z"
    },
    "papermill": {
     "duration": 0.01928,
     "end_time": "2022-09-20T14:11:16.741795",
     "exception": false,
     "start_time": "2022-09-20T14:11:16.722515",
     "status": "completed"
    },
    "tags": []
   },
   "outputs": [
    {
     "name": "stdout",
     "output_type": "stream",
     "text": [
      "\n",
      "**************************************************\n",
      "\n",
      "Best Loss Model Fold : 3\n",
      "\n",
      "**************************************************\n",
      "\n"
     ]
    }
   ],
   "source": [
    "best_loss_index = BLEs.index(min(BLEs))\n",
    "\n",
    "breaker()\n",
    "print(f\"Best Loss Model Fold : {best_loss_index + 1}\")\n",
    "breaker()"
   ]
  }
 ],
 "metadata": {
  "kernelspec": {
   "display_name": "Python 3",
   "language": "python",
   "name": "python3"
  },
  "language_info": {
   "codemirror_mode": {
    "name": "ipython",
    "version": 3
   },
   "file_extension": ".py",
   "mimetype": "text/x-python",
   "name": "python",
   "nbconvert_exporter": "python",
   "pygments_lexer": "ipython3",
   "version": "3.7.12"
  },
  "papermill": {
   "default_parameters": {},
   "duration": 11750.209163,
   "end_time": "2022-09-20T14:11:19.135100",
   "environment_variables": {},
   "exception": null,
   "input_path": "__notebook__.ipynb",
   "output_path": "__notebook__.ipynb",
   "parameters": {},
   "start_time": "2022-09-20T10:55:28.925937",
   "version": "2.3.4"
  }
 },
 "nbformat": 4,
 "nbformat_minor": 5
}
