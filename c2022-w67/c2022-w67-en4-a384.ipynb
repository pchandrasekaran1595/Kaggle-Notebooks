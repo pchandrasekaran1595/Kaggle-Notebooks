{
 "cells": [
  {
   "cell_type": "markdown",
   "id": "5b59f3cb",
   "metadata": {
    "_cell_guid": "b1076dfc-b9ad-4769-8c92-a6c4dae69d19",
    "_uuid": "8f2839f25d086af736a60e9eeb907d3b93b6e0e5",
    "papermill": {
     "duration": 0.005242,
     "end_time": "2022-09-08T13:26:28.849525",
     "exception": false,
     "start_time": "2022-09-08T13:26:28.844283",
     "status": "completed"
    },
    "tags": []
   },
   "source": [
    "### **Setup**"
   ]
  },
  {
   "cell_type": "code",
   "execution_count": 1,
   "id": "7504b08d",
   "metadata": {
    "execution": {
     "iopub.execute_input": "2022-09-08T13:26:28.859365Z",
     "iopub.status.busy": "2022-09-08T13:26:28.858828Z",
     "iopub.status.idle": "2022-09-08T13:26:39.600399Z",
     "shell.execute_reply": "2022-09-08T13:26:39.599274Z"
    },
    "papermill": {
     "duration": 10.749253,
     "end_time": "2022-09-08T13:26:39.602743",
     "exception": false,
     "start_time": "2022-09-08T13:26:28.853490",
     "status": "completed"
    },
    "tags": []
   },
   "outputs": [
    {
     "name": "stderr",
     "output_type": "stream",
     "text": [
      "WARNING: Running pip as the 'root' user can result in broken permissions and conflicting behaviour with the system package manager. It is recommended to use a virtual environment instead: https://pip.pypa.io/warnings/venv\n"
     ]
    }
   ],
   "source": [
    "%%bash\n",
    "pip install timm -q"
   ]
  },
  {
   "cell_type": "markdown",
   "id": "06a123df",
   "metadata": {
    "papermill": {
     "duration": 0.0037,
     "end_time": "2022-09-08T13:26:39.610784",
     "exception": false,
     "start_time": "2022-09-08T13:26:39.607084",
     "status": "completed"
    },
    "tags": []
   },
   "source": [
    "### **Library Imports**"
   ]
  },
  {
   "cell_type": "code",
   "execution_count": 2,
   "id": "ed21c14f",
   "metadata": {
    "execution": {
     "iopub.execute_input": "2022-09-08T13:26:39.620330Z",
     "iopub.status.busy": "2022-09-08T13:26:39.620006Z",
     "iopub.status.idle": "2022-09-08T13:26:43.990953Z",
     "shell.execute_reply": "2022-09-08T13:26:43.989860Z"
    },
    "papermill": {
     "duration": 4.379033,
     "end_time": "2022-09-08T13:26:43.993638",
     "exception": false,
     "start_time": "2022-09-08T13:26:39.614605",
     "status": "completed"
    },
    "tags": []
   },
   "outputs": [],
   "source": [
    "import os\n",
    "import re\n",
    "import cv2\n",
    "import timm\n",
    "import torch\n",
    "import numpy as np\n",
    "import pandas as pd\n",
    "import matplotlib.pyplot as plt\n",
    "\n",
    "from time import time\n",
    "from torch import nn, optim\n",
    "from torch.utils.data import Dataset\n",
    "from torch.utils.data import DataLoader as DL\n",
    "from torchvision import models, transforms\n",
    "\n",
    "from sklearn.model_selection import KFold"
   ]
  },
  {
   "cell_type": "markdown",
   "id": "11204895",
   "metadata": {
    "papermill": {
     "duration": 0.00379,
     "end_time": "2022-09-08T13:26:44.001833",
     "exception": false,
     "start_time": "2022-09-08T13:26:43.998043",
     "status": "completed"
    },
    "tags": []
   },
   "source": [
    "### **Utilities and Helpers**"
   ]
  },
  {
   "cell_type": "code",
   "execution_count": 3,
   "id": "434d43ad",
   "metadata": {
    "execution": {
     "iopub.execute_input": "2022-09-08T13:26:44.011407Z",
     "iopub.status.busy": "2022-09-08T13:26:44.010681Z",
     "iopub.status.idle": "2022-09-08T13:26:44.021573Z",
     "shell.execute_reply": "2022-09-08T13:26:44.020649Z"
    },
    "papermill": {
     "duration": 0.017865,
     "end_time": "2022-09-08T13:26:44.023610",
     "exception": false,
     "start_time": "2022-09-08T13:26:44.005745",
     "status": "completed"
    },
    "tags": []
   },
   "outputs": [],
   "source": [
    "SEED = 42\n",
    "SIZE = 384\n",
    "\n",
    "\n",
    "def breaker(num: int=50, char: str=\"*\") -> None:\n",
    "    print(\"\\n\" + num*char + \"\\n\")\n",
    "\n",
    "    \n",
    "def get_image(path: str, size: int=224) -> np.ndarray:\n",
    "    image = cv2.imread(path, cv2.IMREAD_COLOR)\n",
    "    image = cv2.cvtColor(src=image, code=cv2.COLOR_BGR2RGB)\n",
    "    return cv2.resize(src=image, dsize=(size, size), interpolation=cv2.INTER_AREA)\n",
    "\n",
    "\n",
    "def show_loss_graphs(L: list) -> None:\n",
    "    TL, VL = [], []\n",
    "    for i in range(len(L)):\n",
    "        TL.append(L[i][\"train\"])\n",
    "        VL.append(L[i][\"valid\"])\n",
    "    x_Axis = np.arange(1, len(TL) + 1)\n",
    "    plt.figure()\n",
    "    plt.plot(x_Axis, TL, \"r\", label=\"Train\")\n",
    "    plt.plot(x_Axis, VL, \"b\", label=\"Valid\")\n",
    "    plt.legend()\n",
    "    plt.grid()\n",
    "    plt.title(\"Loss Graph\")\n",
    "    plt.show()\n",
    "    \n",
    "\n",
    "def show_lr_graph(LR: list) -> None:\n",
    "    x_Axis = [i+1 for i in range(len(LR))]\n",
    "    plt.figure(figsize=(8, 6))\n",
    "    plt.plot(x_Axis, LR, \"rx\")\n",
    "    plt.grid()\n",
    "    plt.show()"
   ]
  },
  {
   "cell_type": "markdown",
   "id": "362e5522",
   "metadata": {
    "papermill": {
     "duration": 0.003931,
     "end_time": "2022-09-08T13:26:44.031628",
     "exception": false,
     "start_time": "2022-09-08T13:26:44.027697",
     "status": "completed"
    },
    "tags": []
   },
   "source": [
    "### **Configuration**"
   ]
  },
  {
   "cell_type": "code",
   "execution_count": 4,
   "id": "0867ec0c",
   "metadata": {
    "execution": {
     "iopub.execute_input": "2022-09-08T13:26:44.041148Z",
     "iopub.status.busy": "2022-09-08T13:26:44.040871Z",
     "iopub.status.idle": "2022-09-08T13:26:44.110935Z",
     "shell.execute_reply": "2022-09-08T13:26:44.110001Z"
    },
    "papermill": {
     "duration": 0.077088,
     "end_time": "2022-09-08T13:26:44.113254",
     "exception": false,
     "start_time": "2022-09-08T13:26:44.036166",
     "status": "completed"
    },
    "tags": []
   },
   "outputs": [],
   "source": [
    "class CFG(object):\n",
    "    def __init__(self, \n",
    "                 seed: int = 42,\n",
    "                 size: int = 224,\n",
    "                 n_splits: int = 5,\n",
    "                 batch_size: int = 16,\n",
    "                 epochs: int = 25,\n",
    "                 early_stopping: int = 5,\n",
    "                 lr: float = 1e-4,\n",
    "                 wd: float = 0.0,\n",
    "                 max_lr: float = 1e-3,\n",
    "                 pct_start: float = 0.2,\n",
    "                 steps_per_epoch: int = 100,\n",
    "                 div_factor: int = 1e3, \n",
    "                 final_div_factor: float = 1e3,\n",
    "                 ):\n",
    "        self.seed = seed\n",
    "        self.size = size\n",
    "        self.n_splits = n_splits\n",
    "        self.batch_size = batch_size\n",
    "        self.epochs = epochs\n",
    "        self.early_stopping = early_stopping\n",
    "        self.lr = lr\n",
    "        self.wd = wd\n",
    "        self.max_lr = max_lr\n",
    "        self.pct_start = pct_start\n",
    "        self.steps_per_epoch = steps_per_epoch\n",
    "        self.div_factor = div_factor\n",
    "        self.final_div_factor = final_div_factor\n",
    "        self.device = torch.device(\"cuda\" if torch.cuda.is_available() else \"cpu\")\n",
    "        self.train_transform = transforms.Compose([\n",
    "            transforms.ToTensor(),\n",
    "            transforms.Normalize([0.44811, 0.42458, 0.39159], [0.23526, 0.22963, 0.23221]),\n",
    "            transforms.RandomAffine(degrees=(-45, 45), translate=(0.15, 0.15), scale=(0.5, 1.5)),\n",
    "            transforms.RandomHorizontalFlip(p=0.25),\n",
    "            transforms.RandomVerticalFlip(p=0.25),\n",
    "        ])\n",
    "        self.valid_transform = transforms.Compose([\n",
    "            transforms.ToTensor(),\n",
    "            transforms.Normalize([0.44811, 0.42458, 0.39159], [0.23526, 0.22963, 0.23221]),\n",
    "        ])\n",
    "                                \n",
    "        self.save_path = \"saves\"\n",
    "        if not os.path.exists(self.save_path): os.makedirs(self.save_path)\n",
    "    \n",
    "cfg = CFG(seed=SEED, size=SIZE)"
   ]
  },
  {
   "cell_type": "markdown",
   "id": "350c2274",
   "metadata": {
    "papermill": {
     "duration": 0.004002,
     "end_time": "2022-09-08T13:26:44.122179",
     "exception": false,
     "start_time": "2022-09-08T13:26:44.118177",
     "status": "completed"
    },
    "tags": []
   },
   "source": [
    "### **Dataset Template**"
   ]
  },
  {
   "cell_type": "code",
   "execution_count": 5,
   "id": "b0f45604",
   "metadata": {
    "execution": {
     "iopub.execute_input": "2022-09-08T13:26:44.131760Z",
     "iopub.status.busy": "2022-09-08T13:26:44.131187Z",
     "iopub.status.idle": "2022-09-08T13:26:44.139358Z",
     "shell.execute_reply": "2022-09-08T13:26:44.138524Z"
    },
    "papermill": {
     "duration": 0.015168,
     "end_time": "2022-09-08T13:26:44.141398",
     "exception": false,
     "start_time": "2022-09-08T13:26:44.126230",
     "status": "completed"
    },
    "tags": []
   },
   "outputs": [],
   "source": [
    "class DS(Dataset):\n",
    "    def __init__(\n",
    "        self, \n",
    "        base_path: str,\n",
    "        filenames: np.ndarray, \n",
    "        labels: np.ndarray, \n",
    "        size: int,\n",
    "        transform=None):\n",
    "        \n",
    "        self.base_path = base_path\n",
    "        self.filenames = filenames\n",
    "        self.labels = labels\n",
    "        self.size = size\n",
    "        self.transform = transform\n",
    "    \n",
    "    def __len__(self):\n",
    "        return self.filenames.shape[0]\n",
    "    \n",
    "    def __getitem__(self, idx):\n",
    "        path = os.path.join(self.base_path, self.filenames[idx])\n",
    "        image = get_image(path, self.size)\n",
    "        return self.transform(image), self.labels[idx]"
   ]
  },
  {
   "cell_type": "markdown",
   "id": "7864bd78",
   "metadata": {
    "papermill": {
     "duration": 0.003899,
     "end_time": "2022-09-08T13:26:44.149225",
     "exception": false,
     "start_time": "2022-09-08T13:26:44.145326",
     "status": "completed"
    },
    "tags": []
   },
   "source": [
    "### **Model**"
   ]
  },
  {
   "cell_type": "code",
   "execution_count": 6,
   "id": "6455ce31",
   "metadata": {
    "execution": {
     "iopub.execute_input": "2022-09-08T13:26:44.159200Z",
     "iopub.status.busy": "2022-09-08T13:26:44.158919Z",
     "iopub.status.idle": "2022-09-08T13:26:44.168798Z",
     "shell.execute_reply": "2022-09-08T13:26:44.167924Z"
    },
    "papermill": {
     "duration": 0.01708,
     "end_time": "2022-09-08T13:26:44.170744",
     "exception": false,
     "start_time": "2022-09-08T13:26:44.153664",
     "status": "completed"
    },
    "tags": []
   },
   "outputs": [],
   "source": [
    "class Model(nn.Module):\n",
    "    def __init__(self, model_name: str=\"efficientnet_b4\"):\n",
    "        super(Model, self).__init__()\n",
    "        \n",
    "        if model_name == \"resnet50\":\n",
    "            self.model = models.resnet50(pretrained=True, progress=False)\n",
    "            self.model.fc = nn.Linear(in_features=self.model.fc.in_features, out_features=23)\n",
    "\n",
    "        elif model_name == \"densenet169\":\n",
    "            self.model = models.densenet169(pretrained=True, progress=False)\n",
    "            self.model.classifier = nn.Linear(in_features=self.model.classifier.in_features, out_features=23)\n",
    "\n",
    "        elif model_name == \"densenet201\":\n",
    "            self.model = models.densenet201(pretrained=True, progress=False)\n",
    "            self.model.classifier = nn.Linear(in_features=self.model.classifier.in_features, out_features=23)\n",
    "            \n",
    "        elif model_name == \"tv_densenet121\":\n",
    "            self.model = timm.create_model(model_name=model_name, pretrained=True)\n",
    "            self.model.classifier = nn.Linear(in_features=self.model.classifier.in_features, out_features=23)\n",
    "            \n",
    "        elif model_name == \"efficientnet_b2\":\n",
    "            self.model = timm.create_model(model_name=model_name, pretrained=True)\n",
    "            self.model.classifier = nn.Linear(in_features=self.model.classifier.in_features, out_features=23)\n",
    "        \n",
    "        elif model_name == \"efficientnet_b4\":\n",
    "            self.model = timm.create_model(model_name=model_name, pretrained=True)\n",
    "            self.model.classifier = nn.Linear(in_features=self.model.classifier.in_features, out_features=23)\n",
    "            \n",
    "    def freeze(self):\n",
    "        for params in self.parameters(): params.requires_grad = False\n",
    "\n",
    "    def forward(self, x):\n",
    "        return self.model(x)"
   ]
  },
  {
   "cell_type": "markdown",
   "id": "eb4ba38d",
   "metadata": {
    "papermill": {
     "duration": 0.00407,
     "end_time": "2022-09-08T13:26:44.178723",
     "exception": false,
     "start_time": "2022-09-08T13:26:44.174653",
     "status": "completed"
    },
    "tags": []
   },
   "source": [
    "### **Fit and Predict**"
   ]
  },
  {
   "cell_type": "code",
   "execution_count": 7,
   "id": "1e739aa4",
   "metadata": {
    "execution": {
     "iopub.execute_input": "2022-09-08T13:26:44.188297Z",
     "iopub.status.busy": "2022-09-08T13:26:44.187858Z",
     "iopub.status.idle": "2022-09-08T13:26:44.207011Z",
     "shell.execute_reply": "2022-09-08T13:26:44.205928Z"
    },
    "papermill": {
     "duration": 0.02623,
     "end_time": "2022-09-08T13:26:44.208956",
     "exception": false,
     "start_time": "2022-09-08T13:26:44.182726",
     "status": "completed"
    },
    "tags": []
   },
   "outputs": [],
   "source": [
    "def fit(model=None,\n",
    "        model_name=None,\n",
    "        optimizer=None, \n",
    "        scheduler_rlrop=None,\n",
    "        scheduler_oclr=None,\n",
    "        epochs=None, \n",
    "        early_stopping_patience=None, \n",
    "        dataloaders=None, \n",
    "        fold=None, \n",
    "        save_path=None,\n",
    "        device=None,\n",
    "        verbose=False) -> tuple:    \n",
    "    \n",
    "    if verbose:\n",
    "        breaker()\n",
    "        print(f\" ----- {model_name.upper()} -----\")\n",
    "        breaker()\n",
    "        if fold: print(f\"Training Fold {fold}...\")\n",
    "        else: print(\"Training ...\")\n",
    "        breaker()\n",
    "        \n",
    "    bestLoss: dict = {\"train\" : np.inf, \"valid\" : np.inf} \n",
    "        \n",
    "    Losses: list = []\n",
    "    LRs: list = []\n",
    "        \n",
    "    if fold: ble_name = f\"{model_name}_ble_state_fold_{fold}.pt\"\n",
    "    else: ble_name = f\"{model_name}_ble_state.pt\"\n",
    "    \n",
    "    start_time = time()\n",
    "    for e in range(epochs):\n",
    "        e_st = time()\n",
    "        epochLoss: dict = {\"train\" : 0.0, \"valid\" : 0.0} \n",
    "\n",
    "        for phase in [\"train\", \"valid\"]:\n",
    "            if phase == \"train\": model.train()\n",
    "            else: model.eval()\n",
    "            \n",
    "            lossPerPass: list = []\n",
    "                \n",
    "            for X, y in dataloaders[phase]:\n",
    "                X, y = X.to(device), y.to(device)\n",
    "\n",
    "                optimizer.zero_grad()\n",
    "                with torch.set_grad_enabled(phase == \"train\"):\n",
    "                    output = model(X)\n",
    "                    loss = torch.nn.BCEWithLogitsLoss()(output, y)\n",
    "                    if phase == \"train\":\n",
    "                        loss.backward()\n",
    "                        optimizer.step()\n",
    "                        if scheduler_oclr: scheduler_oclr.step()\n",
    "                lossPerPass.append(loss.item())\n",
    "            epochLoss[phase] = np.mean(np.array(lossPerPass))\n",
    "        if scheduler_oclr: LRs.append(scheduler_oclr.get_last_lr())\n",
    "        Losses.append(epochLoss)\n",
    "    \n",
    "        if scheduler_oclr:\n",
    "            save_dict = {\"model_state_dict\"     : model.state_dict(),\n",
    "                         \"optim_state_dict\"     : optimizer.state_dict(),\n",
    "                         \"scheduler_state_dict\" : scheduler_oclr.state_dict()}\n",
    "        \n",
    "        elif scheduler_rlrop:\n",
    "            save_dict = {\"model_state_dict\"     : model.state_dict(),\n",
    "                         \"optim_state_dict\"     : optimizer.state_dict(),\n",
    "                         \"scheduler_state_dict\" : scheduler_rlrop.state_dict()}\n",
    "        \n",
    "        else:\n",
    "            save_dict = {\"model_state_dict\"     : model.state_dict(),\n",
    "                         \"optim_state_dict\"     : optimizer.state_dict()}\n",
    "        \n",
    "        \n",
    "        if early_stopping_patience:\n",
    "            if epochLoss[\"valid\"] < bestLoss[\"valid\"]:\n",
    "                bestLoss = epochLoss\n",
    "                BLE = e + 1\n",
    "                torch.save(save_dict, os.path.join(save_path, ble_name))\n",
    "                early_stopping_step = 0\n",
    "            else:\n",
    "                early_stopping_step += 1\n",
    "                if early_stopping_step > early_stopping_patience:\n",
    "                    print(\"\\nEarly Stopping at Epoch {}\".format(e + 1))\n",
    "                    break\n",
    "        \n",
    "        if epochLoss[\"valid\"] < bestLoss[\"valid\"]:\n",
    "            bestLoss = epochLoss\n",
    "            BLE = e + 1\n",
    "            torch.save(save_dict,os.path.join(save_path, ble_name))\n",
    "        \n",
    "        if scheduler_rlrop: scheduler_rlrop.step(epochLoss[\"valid\"])\n",
    "        \n",
    "        if verbose:\n",
    "            print(\"Epoch: {} | Train Loss: {:.5f} | Valid Loss: {:.5f} | Time: {:.2f} seconds\".format(e+1, epochLoss[\"train\"], epochLoss[\"valid\"], time()-e_st))\n",
    "\n",
    "    if verbose:                                           \n",
    "        breaker()\n",
    "        print(f\"Best Validation Loss at Epoch {BLE}\")\n",
    "        breaker()\n",
    "        print(\"Time Taken [{} Epochs] : {:.2f} minutes\".format(len(Losses), (time()-start_time)/60))\n",
    "    \n",
    "    return Losses, LRs, BLE, ble_name\n",
    "\n",
    "\n",
    "def predict_batch(\n",
    "    model=None, \n",
    "    dataloader=None, \n",
    "    path=None, \n",
    "    device=None\n",
    ") -> np.ndarray:\n",
    "    \n",
    "    model.load_state_dict(torch.load(path, map_location=device)[\"model_state_dict\"])\n",
    "    model.to(device)    \n",
    "    model.eval()\n",
    "    \n",
    "    y_pred = torch.zeros(1, 23).to(device)\n",
    "    \n",
    "    for X in dataloader:\n",
    "        X = X.to(device)\n",
    "        with torch.no_grad():\n",
    "            output = torch.sigmoid(model(X))\n",
    "        y_pred = torch.cat((y_pred, output), dim=0)\n",
    "    \n",
    "    return y_pred[1:].detach().cpu().numpy()"
   ]
  },
  {
   "cell_type": "markdown",
   "id": "d92cc95c",
   "metadata": {
    "papermill": {
     "duration": 0.005107,
     "end_time": "2022-09-08T13:26:44.217951",
     "exception": false,
     "start_time": "2022-09-08T13:26:44.212844",
     "status": "completed"
    },
    "tags": []
   },
   "source": [
    "### **Train**"
   ]
  },
  {
   "cell_type": "code",
   "execution_count": 8,
   "id": "377fe18d",
   "metadata": {
    "execution": {
     "iopub.execute_input": "2022-09-08T13:26:44.227248Z",
     "iopub.status.busy": "2022-09-08T13:26:44.226440Z",
     "iopub.status.idle": "2022-09-08T13:26:44.274160Z",
     "shell.execute_reply": "2022-09-08T13:26:44.273328Z"
    },
    "papermill": {
     "duration": 0.054819,
     "end_time": "2022-09-08T13:26:44.276600",
     "exception": false,
     "start_time": "2022-09-08T13:26:44.221781",
     "status": "completed"
    },
    "tags": []
   },
   "outputs": [],
   "source": [
    "df = pd.read_csv(\"../input/com3025-2022-challenge-week-6-7-extended-extend/train.csv\")\n",
    "\n",
    "filenames = df.file_name.copy().values\n",
    "labels = df.iloc[:, 1:].copy().values"
   ]
  },
  {
   "cell_type": "code",
   "execution_count": 9,
   "id": "b9007faa",
   "metadata": {
    "execution": {
     "iopub.execute_input": "2022-09-08T13:26:44.286305Z",
     "iopub.status.busy": "2022-09-08T13:26:44.285671Z",
     "iopub.status.idle": "2022-09-08T15:19:27.362907Z",
     "shell.execute_reply": "2022-09-08T15:19:27.361810Z"
    },
    "papermill": {
     "duration": 6763.084414,
     "end_time": "2022-09-08T15:19:27.365073",
     "exception": false,
     "start_time": "2022-09-08T13:26:44.280659",
     "status": "completed"
    },
    "tags": []
   },
   "outputs": [
    {
     "name": "stderr",
     "output_type": "stream",
     "text": [
      "Downloading: \"https://github.com/rwightman/pytorch-image-models/releases/download/v0.1-weights/efficientnet_b4_ra2_320-7eb33cd5.pth\" to /root/.cache/torch/hub/checkpoints/efficientnet_b4_ra2_320-7eb33cd5.pth\n"
     ]
    },
    {
     "name": "stdout",
     "output_type": "stream",
     "text": [
      "\n",
      "**************************************************\n",
      "\n",
      " ----- EFFICIENTNET_B4 -----\n",
      "\n",
      "**************************************************\n",
      "\n",
      "Training Fold 1...\n",
      "\n",
      "**************************************************\n",
      "\n",
      "Epoch: 1 | Train Loss: 0.54876 | Valid Loss: 0.24105 | Time: 246.53 seconds\n",
      "Epoch: 2 | Train Loss: 0.23162 | Valid Loss: 0.18407 | Time: 198.21 seconds\n",
      "Epoch: 3 | Train Loss: 0.13898 | Valid Loss: 0.08887 | Time: 198.93 seconds\n",
      "Epoch: 4 | Train Loss: 0.10206 | Valid Loss: 0.08644 | Time: 198.56 seconds\n",
      "Epoch: 5 | Train Loss: 0.09085 | Valid Loss: 0.08216 | Time: 198.14 seconds\n",
      "Epoch: 6 | Train Loss: 0.08055 | Valid Loss: 0.08997 | Time: 201.24 seconds\n",
      "Epoch: 7 | Train Loss: 0.06871 | Valid Loss: 0.09048 | Time: 198.76 seconds\n",
      "Epoch: 8 | Train Loss: 0.06081 | Valid Loss: 0.09124 | Time: 198.53 seconds\n",
      "Epoch: 9 | Train Loss: 0.05376 | Valid Loss: 0.09919 | Time: 197.84 seconds\n",
      "Epoch: 10 | Train Loss: 0.04866 | Valid Loss: 0.09116 | Time: 197.54 seconds\n",
      "\n",
      "Early Stopping at Epoch 11\n",
      "\n",
      "**************************************************\n",
      "\n",
      "Best Validation Loss at Epoch 5\n",
      "\n",
      "**************************************************\n",
      "\n",
      "Time Taken [11 Epochs] : 37.20 minutes\n",
      "\n",
      "**************************************************\n",
      "\n"
     ]
    },
    {
     "data": {
      "image/png": "[encoded data removed]",
      "text/plain": [
       "<Figure size 432x288 with 1 Axes>"
      ]
     },
     "metadata": {
      "needs_background": "light"
     },
     "output_type": "display_data"
    },
    {
     "name": "stdout",
     "output_type": "stream",
     "text": [
      "\n",
      "**************************************************\n",
      "\n"
     ]
    },
    {
     "data": {
      "image/png": "[encoded data removed]",
      "text/plain": [
       "<Figure size 576x432 with 1 Axes>"
      ]
     },
     "metadata": {
      "needs_background": "light"
     },
     "output_type": "display_data"
    },
    {
     "name": "stdout",
     "output_type": "stream",
     "text": [
      "\n",
      "**************************************************\n",
      "\n",
      "\n",
      "**************************************************\n",
      "\n",
      " ----- EFFICIENTNET_B4 -----\n",
      "\n",
      "**************************************************\n",
      "\n",
      "Training Fold 2...\n",
      "\n",
      "**************************************************\n",
      "\n",
      "Epoch: 1 | Train Loss: 0.66676 | Valid Loss: 0.56227 | Time: 95.02 seconds\n",
      "Epoch: 2 | Train Loss: 0.29601 | Valid Loss: 0.22046 | Time: 94.74 seconds\n",
      "Epoch: 3 | Train Loss: 0.19557 | Valid Loss: 0.12046 | Time: 94.05 seconds\n",
      "Epoch: 4 | Train Loss: 0.12126 | Valid Loss: 0.08157 | Time: 95.18 seconds\n",
      "Epoch: 5 | Train Loss: 0.09663 | Valid Loss: 0.07980 | Time: 95.09 seconds\n",
      "Epoch: 6 | Train Loss: 0.08512 | Valid Loss: 0.08171 | Time: 94.05 seconds\n",
      "Epoch: 7 | Train Loss: 0.07280 | Valid Loss: 0.07760 | Time: 94.47 seconds\n",
      "Epoch: 8 | Train Loss: 0.06001 | Valid Loss: 0.08396 | Time: 94.70 seconds\n",
      "Epoch: 9 | Train Loss: 0.05591 | Valid Loss: 0.09028 | Time: 95.32 seconds\n",
      "Epoch: 10 | Train Loss: 0.04487 | Valid Loss: 0.09273 | Time: 94.78 seconds\n",
      "Epoch: 11 | Train Loss: 0.04061 | Valid Loss: 0.09824 | Time: 95.57 seconds\n",
      "Epoch: 12 | Train Loss: 0.03325 | Valid Loss: 0.10441 | Time: 94.40 seconds\n",
      "\n",
      "Early Stopping at Epoch 13\n",
      "\n",
      "**************************************************\n",
      "\n",
      "Best Validation Loss at Epoch 7\n",
      "\n",
      "**************************************************\n",
      "\n",
      "Time Taken [13 Epochs] : 20.54 minutes\n",
      "\n",
      "**************************************************\n",
      "\n"
     ]
    },
    {
     "data": {
      "image/png": "[encoded data removed]",
      "text/plain": [
       "<Figure size 432x288 with 1 Axes>"
      ]
     },
     "metadata": {
      "needs_background": "light"
     },
     "output_type": "display_data"
    },
    {
     "name": "stdout",
     "output_type": "stream",
     "text": [
      "\n",
      "**************************************************\n",
      "\n"
     ]
    },
    {
     "data": {
      "image/png": "[encoded data removed]",
      "text/plain": [
       "<Figure size 576x432 with 1 Axes>"
      ]
     },
     "metadata": {
      "needs_background": "light"
     },
     "output_type": "display_data"
    },
    {
     "name": "stdout",
     "output_type": "stream",
     "text": [
      "\n",
      "**************************************************\n",
      "\n",
      "\n",
      "**************************************************\n",
      "\n",
      " ----- EFFICIENTNET_B4 -----\n",
      "\n",
      "**************************************************\n",
      "\n",
      "Training Fold 3...\n",
      "\n",
      "**************************************************\n",
      "\n",
      "Epoch: 1 | Train Loss: 0.66672 | Valid Loss: 0.56241 | Time: 94.96 seconds\n",
      "Epoch: 2 | Train Loss: 0.29392 | Valid Loss: 0.22950 | Time: 95.71 seconds\n",
      "Epoch: 3 | Train Loss: 0.19343 | Valid Loss: 0.13559 | Time: 95.06 seconds\n",
      "Epoch: 4 | Train Loss: 0.11878 | Valid Loss: 0.09417 | Time: 95.04 seconds\n",
      "Epoch: 5 | Train Loss: 0.09689 | Valid Loss: 0.08683 | Time: 95.17 seconds\n",
      "Epoch: 6 | Train Loss: 0.08174 | Valid Loss: 0.08999 | Time: 94.27 seconds\n",
      "Epoch: 7 | Train Loss: 0.07181 | Valid Loss: 0.09269 | Time: 94.18 seconds\n",
      "Epoch: 8 | Train Loss: 0.06158 | Valid Loss: 0.09913 | Time: 94.47 seconds\n",
      "Epoch: 9 | Train Loss: 0.05402 | Valid Loss: 0.10211 | Time: 94.46 seconds\n",
      "Epoch: 10 | Train Loss: 0.04428 | Valid Loss: 0.11128 | Time: 94.47 seconds\n",
      "\n",
      "Early Stopping at Epoch 11\n",
      "\n",
      "**************************************************\n",
      "\n",
      "Best Validation Loss at Epoch 5\n",
      "\n",
      "**************************************************\n",
      "\n",
      "Time Taken [11 Epochs] : 17.37 minutes\n",
      "\n",
      "**************************************************\n",
      "\n"
     ]
    },
    {
     "data": {
      "image/png": "[encoded data removed]",
      "text/plain": [
       "<Figure size 432x288 with 1 Axes>"
      ]
     },
     "metadata": {
      "needs_background": "light"
     },
     "output_type": "display_data"
    },
    {
     "name": "stdout",
     "output_type": "stream",
     "text": [
      "\n",
      "**************************************************\n",
      "\n"
     ]
    },
    {
     "data": {
      "image/png": "[encoded data removed]",
      "text/plain": [
       "<Figure size 576x432 with 1 Axes>"
      ]
     },
     "metadata": {
      "needs_background": "light"
     },
     "output_type": "display_data"
    },
    {
     "name": "stdout",
     "output_type": "stream",
     "text": [
      "\n",
      "**************************************************\n",
      "\n",
      "\n",
      "**************************************************\n",
      "\n",
      " ----- EFFICIENTNET_B4 -----\n",
      "\n",
      "**************************************************\n",
      "\n",
      "Training Fold 4...\n",
      "\n",
      "**************************************************\n",
      "\n",
      "Epoch: 1 | Train Loss: 0.66691 | Valid Loss: 0.56550 | Time: 93.85 seconds\n",
      "Epoch: 2 | Train Loss: 0.29327 | Valid Loss: 0.23430 | Time: 93.83 seconds\n",
      "Epoch: 3 | Train Loss: 0.19339 | Valid Loss: 0.13448 | Time: 94.88 seconds\n",
      "Epoch: 4 | Train Loss: 0.11844 | Valid Loss: 0.09760 | Time: 96.73 seconds\n",
      "Epoch: 5 | Train Loss: 0.09486 | Valid Loss: 0.09060 | Time: 94.55 seconds\n",
      "Epoch: 6 | Train Loss: 0.08158 | Valid Loss: 0.09166 | Time: 96.36 seconds\n",
      "Epoch: 7 | Train Loss: 0.07215 | Valid Loss: 0.08843 | Time: 97.51 seconds\n",
      "Epoch: 8 | Train Loss: 0.06055 | Valid Loss: 0.09820 | Time: 93.93 seconds\n",
      "Epoch: 9 | Train Loss: 0.05406 | Valid Loss: 0.09792 | Time: 93.20 seconds\n",
      "Epoch: 10 | Train Loss: 0.04660 | Valid Loss: 0.10221 | Time: 93.67 seconds\n",
      "Epoch: 11 | Train Loss: 0.03883 | Valid Loss: 0.12008 | Time: 94.10 seconds\n",
      "Epoch: 12 | Train Loss: 0.03409 | Valid Loss: 0.11693 | Time: 92.31 seconds\n",
      "\n",
      "Early Stopping at Epoch 13\n",
      "\n",
      "**************************************************\n",
      "\n",
      "Best Validation Loss at Epoch 7\n",
      "\n",
      "**************************************************\n",
      "\n",
      "Time Taken [13 Epochs] : 20.45 minutes\n",
      "\n",
      "**************************************************\n",
      "\n"
     ]
    },
    {
     "data": {
      "image/png": "[encoded data removed]",
      "text/plain": [
       "<Figure size 432x288 with 1 Axes>"
      ]
     },
     "metadata": {
      "needs_background": "light"
     },
     "output_type": "display_data"
    },
    {
     "name": "stdout",
     "output_type": "stream",
     "text": [
      "\n",
      "**************************************************\n",
      "\n"
     ]
    },
    {
     "data": {
      "image/png": "[encoded data removed]",
      "text/plain": [
       "<Figure size 576x432 with 1 Axes>"
      ]
     },
     "metadata": {
      "needs_background": "light"
     },
     "output_type": "display_data"
    },
    {
     "name": "stdout",
     "output_type": "stream",
     "text": [
      "\n",
      "**************************************************\n",
      "\n",
      "\n",
      "**************************************************\n",
      "\n",
      " ----- EFFICIENTNET_B4 -----\n",
      "\n",
      "**************************************************\n",
      "\n",
      "Training Fold 5...\n",
      "\n",
      "**************************************************\n",
      "\n",
      "Epoch: 1 | Train Loss: 0.66686 | Valid Loss: 0.56279 | Time: 93.13 seconds\n",
      "Epoch: 2 | Train Loss: 0.29481 | Valid Loss: 0.22901 | Time: 94.44 seconds\n",
      "Epoch: 3 | Train Loss: 0.19297 | Valid Loss: 0.12823 | Time: 92.68 seconds\n",
      "Epoch: 4 | Train Loss: 0.11890 | Valid Loss: 0.09440 | Time: 93.19 seconds\n",
      "Epoch: 5 | Train Loss: 0.09501 | Valid Loss: 0.09026 | Time: 93.02 seconds\n",
      "Epoch: 6 | Train Loss: 0.08220 | Valid Loss: 0.09172 | Time: 92.60 seconds\n",
      "Epoch: 7 | Train Loss: 0.07008 | Valid Loss: 0.09668 | Time: 91.89 seconds\n",
      "Epoch: 8 | Train Loss: 0.06071 | Valid Loss: 0.10287 | Time: 91.60 seconds\n",
      "Epoch: 9 | Train Loss: 0.05353 | Valid Loss: 0.09899 | Time: 91.69 seconds\n",
      "Epoch: 10 | Train Loss: 0.04437 | Valid Loss: 0.11239 | Time: 92.48 seconds\n",
      "\n",
      "Early Stopping at Epoch 11\n",
      "\n",
      "**************************************************\n",
      "\n",
      "Best Validation Loss at Epoch 5\n",
      "\n",
      "**************************************************\n",
      "\n",
      "Time Taken [11 Epochs] : 16.99 minutes\n",
      "\n",
      "**************************************************\n",
      "\n"
     ]
    },
    {
     "data": {
      "image/png": "[encoded data removed]",
      "text/plain": [
       "<Figure size 432x288 with 1 Axes>"
      ]
     },
     "metadata": {
      "needs_background": "light"
     },
     "output_type": "display_data"
    },
    {
     "name": "stdout",
     "output_type": "stream",
     "text": [
      "\n",
      "**************************************************\n",
      "\n"
     ]
    },
    {
     "data": {
      "image/png": "[encoded data removed]",
      "text/plain": [
       "<Figure size 576x432 with 1 Axes>"
      ]
     },
     "metadata": {
      "needs_background": "light"
     },
     "output_type": "display_data"
    },
    {
     "name": "stdout",
     "output_type": "stream",
     "text": [
      "\n",
      "**************************************************\n",
      "\n"
     ]
    }
   ],
   "source": [
    "fold: int = 1\n",
    "BLEs: list = []\n",
    "model_name: str = \"efficientnet_b4\"\n",
    "\n",
    "for tr_idx, va_idx in KFold(n_splits=cfg.n_splits, random_state=cfg.seed, shuffle=True).split(filenames):\n",
    "\n",
    "    tr_filenames, va_filenames = filenames[tr_idx], filenames[va_idx] \n",
    "    tr_labels, va_labels       = labels[tr_idx], labels[va_idx]\n",
    "    \n",
    "    tr_data_setup = DS(\n",
    "        base_path=\"../input/com3025-2022-challenge-week-6-7-extended-extend/train_data/train_data\", \n",
    "        filenames=tr_filenames, \n",
    "        labels=tr_labels,\n",
    "        size=cfg.size,\n",
    "        transform=cfg.train_transform\n",
    "    )\n",
    "    \n",
    "    va_data_setup = DS(\n",
    "        base_path=\"../input/com3025-2022-challenge-week-6-7-extended-extend/train_data/train_data\", \n",
    "        filenames=va_filenames, \n",
    "        labels=va_labels,\n",
    "        size=cfg.size,\n",
    "        transform=cfg.valid_transform\n",
    "    )\n",
    "\n",
    "    dataloaders = {\n",
    "        \"train\" : DL(tr_data_setup, batch_size=cfg.batch_size, shuffle=True, generator=torch.manual_seed(cfg.seed)),\n",
    "        \"valid\" : DL(va_data_setup, batch_size=cfg.batch_size, shuffle=False),\n",
    "    }\n",
    "\n",
    "    cfg = CFG(\n",
    "        epochs=25, \n",
    "        batch_size=64, \n",
    "        early_stopping=5,\n",
    "        steps_per_epoch=len(dataloaders[\"train\"])\n",
    "    )\n",
    "    \n",
    "    torch.manual_seed(cfg.seed)\n",
    "    model = Model(model_name=model_name).to(cfg.device)\n",
    "\n",
    "    optimizer = optim.Adam([p for p in model.parameters() if p.requires_grad], lr=cfg.lr, weight_decay=cfg.wd)\n",
    "    # optimizer = optim.AdamW([p for p in model.parameters() if p.requires_grad], lr=cfg.lr, weight_decay=cfg.wd)\n",
    "    # optimizer = optim.SGD([p for p in model.parameters() if p.requires_grad], lr=cfg.lr, weight_decay=cfg.wd, momentum=0.9)\n",
    "    \n",
    "    scheduler_oclr = optim.lr_scheduler.OneCycleLR(\n",
    "        optimizer=optimizer, \n",
    "        max_lr=cfg.max_lr, \n",
    "        epochs=cfg.epochs, \n",
    "        steps_per_epoch=cfg.steps_per_epoch,\n",
    "        pct_start=cfg.pct_start, \n",
    "        div_factor=cfg.div_factor, \n",
    "        final_div_factor=cfg.final_div_factor\n",
    "    )\n",
    "\n",
    "    # scheduler_rlrop = optim.lr_scheduler.ReduceLROnPlateau(\n",
    "    #     optimizer=optimizer,\n",
    "    #     patience=cfg.patience,\n",
    "    #     eps=cfg.eps,\n",
    "    #     verbose=True\n",
    "    # )\n",
    "\n",
    "    # scheduler_oclr = None\n",
    "    scheduler_rlrop = None\n",
    "    \n",
    "    L, LR, BLE, _ = fit(\n",
    "        model=model, \n",
    "        model_name=model_name,\n",
    "        optimizer=optimizer, \n",
    "        scheduler_oclr=scheduler_oclr,\n",
    "        scheduler_rlrop=scheduler_rlrop,\n",
    "        epochs=cfg.epochs, \n",
    "        early_stopping_patience=cfg.early_stopping, \n",
    "        dataloaders=dataloaders, \n",
    "        device=cfg.device,\n",
    "        save_path=cfg.save_path,\n",
    "        fold=fold,\n",
    "        verbose=True\n",
    "    )\n",
    "    \n",
    "    breaker()\n",
    "    show_loss_graphs(L)\n",
    "    breaker()\n",
    "    if scheduler_oclr:\n",
    "        show_lr_graph(LR)\n",
    "        breaker()\n",
    "    \n",
    "    BLEs.append(BLE)\n",
    "    \n",
    "    fold += 1"
   ]
  },
  {
   "cell_type": "markdown",
   "id": "754f16bc",
   "metadata": {
    "papermill": {
     "duration": 0.009803,
     "end_time": "2022-09-08T15:19:27.384780",
     "exception": false,
     "start_time": "2022-09-08T15:19:27.374977",
     "status": "completed"
    },
    "tags": []
   },
   "source": [
    "### **Best Model**"
   ]
  },
  {
   "cell_type": "code",
   "execution_count": 10,
   "id": "10475a24",
   "metadata": {
    "execution": {
     "iopub.execute_input": "2022-09-08T15:19:27.406772Z",
     "iopub.status.busy": "2022-09-08T15:19:27.406473Z",
     "iopub.status.idle": "2022-09-08T15:19:27.411628Z",
     "shell.execute_reply": "2022-09-08T15:19:27.410727Z"
    },
    "papermill": {
     "duration": 0.017892,
     "end_time": "2022-09-08T15:19:27.413649",
     "exception": false,
     "start_time": "2022-09-08T15:19:27.395757",
     "status": "completed"
    },
    "tags": []
   },
   "outputs": [
    {
     "name": "stdout",
     "output_type": "stream",
     "text": [
      "\n",
      "**************************************************\n",
      "\n",
      "Best Loss Model Fold : 1\n",
      "\n",
      "**************************************************\n",
      "\n"
     ]
    }
   ],
   "source": [
    "best_loss_index = BLEs.index(min(BLEs))\n",
    "\n",
    "breaker()\n",
    "print(f\"Best Loss Model Fold : {best_loss_index + 1}\")\n",
    "breaker()"
   ]
  }
 ],
 "metadata": {
  "kernelspec": {
   "display_name": "Python 3",
   "language": "python",
   "name": "python3"
  },
  "language_info": {
   "codemirror_mode": {
    "name": "ipython",
    "version": 3
   },
   "file_extension": ".py",
   "mimetype": "text/x-python",
   "name": "python",
   "nbconvert_exporter": "python",
   "pygments_lexer": "ipython3",
   "version": "3.7.12"
  },
  "papermill": {
   "default_parameters": {},
   "duration": 6788.471773,
   "end_time": "2022-09-08T15:19:29.256005",
   "environment_variables": {},
   "exception": null,
   "input_path": "__notebook__.ipynb",
   "output_path": "__notebook__.ipynb",
   "parameters": {},
   "start_time": "2022-09-08T13:26:20.784232",
   "version": "2.3.4"
  }
 },
 "nbformat": 4,
 "nbformat_minor": 5
}
