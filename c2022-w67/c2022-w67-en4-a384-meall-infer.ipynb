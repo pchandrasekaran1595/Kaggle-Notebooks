{
 "cells": [
  {
   "cell_type": "markdown",
   "id": "9e280a91",
   "metadata": {
    "_cell_guid": "b1076dfc-b9ad-4769-8c92-a6c4dae69d19",
    "_uuid": "8f2839f25d086af736a60e9eeb907d3b93b6e0e5",
    "papermill": {
     "duration": 0.005267,
     "end_time": "2022-09-25T05:56:41.383091",
     "exception": false,
     "start_time": "2022-09-25T05:56:41.377824",
     "status": "completed"
    },
    "tags": []
   },
   "source": [
    "### **Setup**"
   ]
  },
  {
   "cell_type": "code",
   "execution_count": 1,
   "id": "1c7010f1",
   "metadata": {
    "execution": {
     "iopub.execute_input": "2022-09-25T05:56:41.393270Z",
     "iopub.status.busy": "2022-09-25T05:56:41.392757Z",
     "iopub.status.idle": "2022-09-25T05:56:52.192512Z",
     "shell.execute_reply": "2022-09-25T05:56:52.191256Z"
    },
    "papermill": {
     "duration": 10.808444,
     "end_time": "2022-09-25T05:56:52.195884",
     "exception": false,
     "start_time": "2022-09-25T05:56:41.387440",
     "status": "completed"
    },
    "tags": []
   },
   "outputs": [
    {
     "name": "stderr",
     "output_type": "stream",
     "text": [
      "WARNING: Running pip as the 'root' user can result in broken permissions and conflicting behaviour with the system package manager. It is recommended to use a virtual environment instead: https://pip.pypa.io/warnings/venv\n"
     ]
    }
   ],
   "source": [
    "%%bash\n",
    "pip install timm -q"
   ]
  },
  {
   "cell_type": "markdown",
   "id": "f9ea8629",
   "metadata": {
    "papermill": {
     "duration": 0.004047,
     "end_time": "2022-09-25T05:56:52.204504",
     "exception": false,
     "start_time": "2022-09-25T05:56:52.200457",
     "status": "completed"
    },
    "tags": []
   },
   "source": [
    "### **Library Imports**"
   ]
  },
  {
   "cell_type": "code",
   "execution_count": 2,
   "id": "39154ea0",
   "metadata": {
    "execution": {
     "iopub.execute_input": "2022-09-25T05:56:52.214598Z",
     "iopub.status.busy": "2022-09-25T05:56:52.214256Z",
     "iopub.status.idle": "2022-09-25T05:56:55.080070Z",
     "shell.execute_reply": "2022-09-25T05:56:55.078949Z"
    },
    "papermill": {
     "duration": 2.873773,
     "end_time": "2022-09-25T05:56:55.082650",
     "exception": false,
     "start_time": "2022-09-25T05:56:52.208877",
     "status": "completed"
    },
    "tags": []
   },
   "outputs": [],
   "source": [
    "import os\n",
    "import re\n",
    "import cv2\n",
    "import timm\n",
    "import torch\n",
    "import numpy as np\n",
    "import pandas as pd\n",
    "import matplotlib.pyplot as plt\n",
    "\n",
    "from time import time\n",
    "from torch import nn, optim\n",
    "from torch.utils.data import Dataset\n",
    "from torch.utils.data import DataLoader as DL\n",
    "from torchvision import models, transforms\n",
    "\n",
    "# from sklearn.model_selection import KFold"
   ]
  },
  {
   "cell_type": "markdown",
   "id": "1b9cf7b5",
   "metadata": {
    "papermill": {
     "duration": 0.004015,
     "end_time": "2022-09-25T05:56:55.091116",
     "exception": false,
     "start_time": "2022-09-25T05:56:55.087101",
     "status": "completed"
    },
    "tags": []
   },
   "source": [
    "### **Utilities and Helpers**"
   ]
  },
  {
   "cell_type": "code",
   "execution_count": 3,
   "id": "6d226330",
   "metadata": {
    "execution": {
     "iopub.execute_input": "2022-09-25T05:56:55.102506Z",
     "iopub.status.busy": "2022-09-25T05:56:55.100856Z",
     "iopub.status.idle": "2022-09-25T05:56:55.108941Z",
     "shell.execute_reply": "2022-09-25T05:56:55.108026Z"
    },
    "papermill": {
     "duration": 0.015512,
     "end_time": "2022-09-25T05:56:55.110994",
     "exception": false,
     "start_time": "2022-09-25T05:56:55.095482",
     "status": "completed"
    },
    "tags": []
   },
   "outputs": [],
   "source": [
    "SEED: int = 42\n",
    "SIZE: int = 384\n",
    "MODEL_PATHS: str = \"../input/c2022-w67-en4-a384/saves\"\n",
    "\n",
    "\n",
    "def breaker(num: int=50, char: str=\"*\") -> None:\n",
    "    print(\"\\n\" + num*char + \"\\n\")\n",
    "\n",
    "    \n",
    "def get_image(path: str, size: int=224) -> np.ndarray:\n",
    "    image = cv2.imread(path, cv2.IMREAD_COLOR)\n",
    "    image = cv2.cvtColor(src=image, code=cv2.COLOR_BGR2RGB)\n",
    "    return cv2.resize(src=image, dsize=(size, size), interpolation=cv2.INTER_AREA)\n",
    "\n",
    "\n",
    "# def show_loss_graphs(L: list) -> None:\n",
    "#     TL, VL = [], []\n",
    "#     for i in range(len(L)):\n",
    "#         TL.append(L[i][\"train\"])\n",
    "#         VL.append(L[i][\"valid\"])\n",
    "#     x_Axis = np.arange(1, len(TL) + 1)\n",
    "#     plt.figure()\n",
    "#     plt.plot(x_Axis, TL, \"r\", label=\"Train\")\n",
    "#     plt.plot(x_Axis, VL, \"b\", label=\"Valid\")\n",
    "#     plt.legend()\n",
    "#     plt.grid()\n",
    "#     plt.title(\"Loss Graph\")\n",
    "#     plt.show()\n",
    "    \n",
    "\n",
    "# def show_lr_graph(LR: list) -> None:\n",
    "#     x_Axis = [i+1 for i in range(len(LR))]\n",
    "#     plt.figure(figsize=(8, 6))\n",
    "#     plt.plot(x_Axis, LR, \"rx\")\n",
    "#     plt.grid()\n",
    "#     plt.show()"
   ]
  },
  {
   "cell_type": "markdown",
   "id": "ba4e8013",
   "metadata": {
    "papermill": {
     "duration": 0.00395,
     "end_time": "2022-09-25T05:56:55.119126",
     "exception": false,
     "start_time": "2022-09-25T05:56:55.115176",
     "status": "completed"
    },
    "tags": []
   },
   "source": [
    "### **Configuration**"
   ]
  },
  {
   "cell_type": "code",
   "execution_count": 4,
   "id": "d787e1d6",
   "metadata": {
    "execution": {
     "iopub.execute_input": "2022-09-25T05:56:55.129074Z",
     "iopub.status.busy": "2022-09-25T05:56:55.128291Z",
     "iopub.status.idle": "2022-09-25T05:56:55.195478Z",
     "shell.execute_reply": "2022-09-25T05:56:55.194642Z"
    },
    "papermill": {
     "duration": 0.074159,
     "end_time": "2022-09-25T05:56:55.197395",
     "exception": false,
     "start_time": "2022-09-25T05:56:55.123236",
     "status": "completed"
    },
    "tags": []
   },
   "outputs": [],
   "source": [
    "class CFG(object):\n",
    "    def __init__(self, \n",
    "                 seed: int = 42,\n",
    "                 size: int = 224,\n",
    "                 n_splits: int = 5,\n",
    "                 batch_size: int = 16,\n",
    "                 epochs: int = 25,\n",
    "                 early_stopping: int = 5,\n",
    "                 lr: float = 1e-4,\n",
    "                 wd: float = 0.0,\n",
    "                 max_lr: float = 1e-3,\n",
    "                 pct_start: float = 0.2,\n",
    "                 steps_per_epoch: int = 100,\n",
    "                 div_factor: int = 1e3, \n",
    "                 final_div_factor: float = 1e3,\n",
    "                 ):\n",
    "        self.seed = seed\n",
    "        self.size = size\n",
    "        self.n_splits = n_splits\n",
    "        self.batch_size = batch_size\n",
    "        self.epochs = epochs\n",
    "        self.early_stopping = early_stopping\n",
    "        self.lr = lr\n",
    "        self.wd = wd\n",
    "        self.max_lr = max_lr\n",
    "        self.pct_start = pct_start\n",
    "        self.steps_per_epoch = steps_per_epoch\n",
    "        self.div_factor = div_factor\n",
    "        self.final_div_factor = final_div_factor\n",
    "        self.device = torch.device(\"cuda\" if torch.cuda.is_available() else \"cpu\")\n",
    "        self.train_transform = transforms.Compose([\n",
    "            transforms.ToTensor(),\n",
    "            transforms.Normalize([0.44811, 0.42458, 0.39159], [0.23526, 0.22963, 0.23221]),\n",
    "            transforms.RandomAffine(degrees=(-45, 45), translate=(0.15, 0.15), scale=(0.5, 1.5)),\n",
    "            transforms.RandomHorizontalFlip(p=0.25),\n",
    "            transforms.RandomVerticalFlip(p=0.25),\n",
    "        ])\n",
    "        self.valid_transform = transforms.Compose([\n",
    "            transforms.ToTensor(),\n",
    "            transforms.Normalize([0.44811, 0.42458, 0.39159], [0.23526, 0.22963, 0.23221]),\n",
    "        ])\n",
    "                                \n",
    "        self.save_path = \"saves\"\n",
    "        if not os.path.exists(self.save_path): os.makedirs(self.save_path)\n",
    "    \n",
    "cfg = CFG(seed=SEED, size=SIZE)"
   ]
  },
  {
   "cell_type": "markdown",
   "id": "1aee82a4",
   "metadata": {
    "papermill": {
     "duration": 0.004002,
     "end_time": "2022-09-25T05:56:55.205894",
     "exception": false,
     "start_time": "2022-09-25T05:56:55.201892",
     "status": "completed"
    },
    "tags": []
   },
   "source": [
    "### **Dataset Template**"
   ]
  },
  {
   "cell_type": "code",
   "execution_count": 5,
   "id": "956b6499",
   "metadata": {
    "execution": {
     "iopub.execute_input": "2022-09-25T05:56:55.216288Z",
     "iopub.status.busy": "2022-09-25T05:56:55.215606Z",
     "iopub.status.idle": "2022-09-25T05:56:55.222766Z",
     "shell.execute_reply": "2022-09-25T05:56:55.221966Z"
    },
    "papermill": {
     "duration": 0.014345,
     "end_time": "2022-09-25T05:56:55.224726",
     "exception": false,
     "start_time": "2022-09-25T05:56:55.210381",
     "status": "completed"
    },
    "tags": []
   },
   "outputs": [],
   "source": [
    "# class DS(Dataset):\n",
    "#     def __init__(\n",
    "#         self, \n",
    "#         base_path: str,\n",
    "#         filenames: np.ndarray, \n",
    "#         labels: np.ndarray, \n",
    "#         size: int,\n",
    "#         transform=None):\n",
    "        \n",
    "#         self.base_path = base_path\n",
    "#         self.filenames = filenames\n",
    "#         self.labels = labels\n",
    "#         self.size = size\n",
    "#         self.transform = transform\n",
    "    \n",
    "#     def __len__(self):\n",
    "#         return self.filenames.shape[0]\n",
    "    \n",
    "#     def __getitem__(self, idx):\n",
    "#         path = os.path.join(self.base_path, self.filenames[idx])\n",
    "#         image = get_image(path, self.size)\n",
    "#         return self.transform(image), self.labels[idx]\n",
    "\n",
    "class DS(Dataset):\n",
    "    def __init__(\n",
    "        self, \n",
    "        base_path: str,\n",
    "        filenames: np.ndarray, \n",
    "        size: int,\n",
    "        transform=None):\n",
    "        \n",
    "        self.base_path = base_path\n",
    "        self.filenames = filenames\n",
    "        self.size = size\n",
    "        self.transform = transform\n",
    "    \n",
    "    def __len__(self):\n",
    "        return self.filenames.shape[0]\n",
    "    \n",
    "    def __getitem__(self, idx):\n",
    "        path = os.path.join(self.base_path, self.filenames[idx])\n",
    "        image = get_image(path, self.size)\n",
    "        return self.transform(image)"
   ]
  },
  {
   "cell_type": "markdown",
   "id": "171dbff9",
   "metadata": {
    "papermill": {
     "duration": 0.004101,
     "end_time": "2022-09-25T05:56:55.233126",
     "exception": false,
     "start_time": "2022-09-25T05:56:55.229025",
     "status": "completed"
    },
    "tags": []
   },
   "source": [
    "### **Model**"
   ]
  },
  {
   "cell_type": "code",
   "execution_count": 6,
   "id": "99c1e13d",
   "metadata": {
    "execution": {
     "iopub.execute_input": "2022-09-25T05:56:55.243215Z",
     "iopub.status.busy": "2022-09-25T05:56:55.242397Z",
     "iopub.status.idle": "2022-09-25T05:56:55.248746Z",
     "shell.execute_reply": "2022-09-25T05:56:55.247931Z"
    },
    "papermill": {
     "duration": 0.013568,
     "end_time": "2022-09-25T05:56:55.250863",
     "exception": false,
     "start_time": "2022-09-25T05:56:55.237295",
     "status": "completed"
    },
    "tags": []
   },
   "outputs": [],
   "source": [
    "class Model(nn.Module):\n",
    "    def __init__(self):\n",
    "        super(Model, self).__init__()\n",
    "        \n",
    "        self.model = timm.create_model(model_name=\"efficientnet_b4\", pretrained=False)\n",
    "        self.model.classifier = nn.Linear(in_features=self.model.classifier.in_features, out_features=23)\n",
    "            \n",
    "    def freeze(self):\n",
    "        for params in self.parameters(): params.requires_grad = False\n",
    "\n",
    "    def forward(self, x):\n",
    "        return self.model(x)"
   ]
  },
  {
   "cell_type": "markdown",
   "id": "486a3848",
   "metadata": {
    "papermill": {
     "duration": 0.003971,
     "end_time": "2022-09-25T05:56:55.259085",
     "exception": false,
     "start_time": "2022-09-25T05:56:55.255114",
     "status": "completed"
    },
    "tags": []
   },
   "source": [
    "### **Fit and Predict**"
   ]
  },
  {
   "cell_type": "code",
   "execution_count": 7,
   "id": "6048ec71",
   "metadata": {
    "execution": {
     "iopub.execute_input": "2022-09-25T05:56:55.269088Z",
     "iopub.status.busy": "2022-09-25T05:56:55.268828Z",
     "iopub.status.idle": "2022-09-25T05:56:55.278123Z",
     "shell.execute_reply": "2022-09-25T05:56:55.277309Z"
    },
    "papermill": {
     "duration": 0.016908,
     "end_time": "2022-09-25T05:56:55.280275",
     "exception": false,
     "start_time": "2022-09-25T05:56:55.263367",
     "status": "completed"
    },
    "tags": []
   },
   "outputs": [],
   "source": [
    "# def fit(model=None,\n",
    "#         model_name=None,\n",
    "#         optimizer=None, \n",
    "#         scheduler_rlrop=None,\n",
    "#         scheduler_oclr=None,\n",
    "#         epochs=None, \n",
    "#         early_stopping_patience=None, \n",
    "#         dataloaders=None, \n",
    "#         fold=None, \n",
    "#         save_path=None,\n",
    "#         device=None,\n",
    "#         verbose=False) -> tuple:    \n",
    "    \n",
    "#     if verbose:\n",
    "#         breaker()\n",
    "#         print(f\" ----- {model_name.upper()} -----\")\n",
    "#         breaker()\n",
    "#         if fold: print(f\"Training Fold {fold}...\")\n",
    "#         else: print(\"Training ...\")\n",
    "#         breaker()\n",
    "        \n",
    "#     bestLoss: dict = {\"train\" : np.inf, \"valid\" : np.inf} \n",
    "        \n",
    "#     Losses: list = []\n",
    "#     LRs: list = []\n",
    "        \n",
    "#     if fold: ble_name = f\"{model_name}_ble_state_fold_{fold}.pt\"\n",
    "#     else: ble_name = f\"{model_name}_ble_state.pt\"\n",
    "    \n",
    "#     start_time = time()\n",
    "#     for e in range(epochs):\n",
    "#         e_st = time()\n",
    "#         epochLoss: dict = {\"train\" : 0.0, \"valid\" : 0.0} \n",
    "\n",
    "#         for phase in [\"train\", \"valid\"]:\n",
    "#             if phase == \"train\": model.train()\n",
    "#             else: model.eval()\n",
    "            \n",
    "#             lossPerPass: list = []\n",
    "                \n",
    "#             for X, y in dataloaders[phase]:\n",
    "#                 X, y = X.to(device), y.to(device)\n",
    "\n",
    "#                 optimizer.zero_grad()\n",
    "#                 with torch.set_grad_enabled(phase == \"train\"):\n",
    "#                     output = model(X)\n",
    "#                     loss = torch.nn.BCEWithLogitsLoss()(output, y)\n",
    "#                     if phase == \"train\":\n",
    "#                         loss.backward()\n",
    "#                         optimizer.step()\n",
    "#                         if scheduler_oclr: scheduler_oclr.step()\n",
    "#                 lossPerPass.append(loss.item())\n",
    "#             epochLoss[phase] = np.mean(np.array(lossPerPass))\n",
    "#         if scheduler_oclr: LRs.append(scheduler_oclr.get_last_lr())\n",
    "#         Losses.append(epochLoss)\n",
    "    \n",
    "#         if scheduler_oclr:\n",
    "#             save_dict = {\"model_state_dict\"     : model.state_dict(),\n",
    "#                          \"optim_state_dict\"     : optimizer.state_dict(),\n",
    "#                          \"scheduler_state_dict\" : scheduler_oclr.state_dict()}\n",
    "        \n",
    "#         elif scheduler_rlrop:\n",
    "#             save_dict = {\"model_state_dict\"     : model.state_dict(),\n",
    "#                          \"optim_state_dict\"     : optimizer.state_dict(),\n",
    "#                          \"scheduler_state_dict\" : scheduler_rlrop.state_dict()}\n",
    "        \n",
    "#         else:\n",
    "#             save_dict = {\"model_state_dict\"     : model.state_dict(),\n",
    "#                          \"optim_state_dict\"     : optimizer.state_dict()}\n",
    "        \n",
    "        \n",
    "#         if early_stopping_patience:\n",
    "#             if epochLoss[\"valid\"] < bestLoss[\"valid\"]:\n",
    "#                 bestLoss = epochLoss\n",
    "#                 BLE = e + 1\n",
    "#                 torch.save(save_dict, os.path.join(save_path, ble_name))\n",
    "#                 early_stopping_step = 0\n",
    "#             else:\n",
    "#                 early_stopping_step += 1\n",
    "#                 if early_stopping_step > early_stopping_patience:\n",
    "#                     print(\"\\nEarly Stopping at Epoch {}\".format(e + 1))\n",
    "#                     break\n",
    "        \n",
    "#         if epochLoss[\"valid\"] < bestLoss[\"valid\"]:\n",
    "#             bestLoss = epochLoss\n",
    "#             BLE = e + 1\n",
    "#             torch.save(save_dict,os.path.join(save_path, ble_name))\n",
    "        \n",
    "#         if scheduler_rlrop: scheduler_rlrop.step(epochLoss[\"valid\"])\n",
    "        \n",
    "#         if verbose:\n",
    "#             print(\"Epoch: {} | Train Loss: {:.5f} | Valid Loss: {:.5f} | Time: {:.2f} seconds\".format(e+1, epochLoss[\"train\"], epochLoss[\"valid\"], time()-e_st))\n",
    "\n",
    "#     if verbose:                                           \n",
    "#         breaker()\n",
    "#         print(f\"Best Validation Loss at Epoch {BLE}\")\n",
    "#         breaker()\n",
    "#         print(\"Time Taken [{} Epochs] : {:.2f} minutes\".format(len(Losses), (time()-start_time)/60))\n",
    "    \n",
    "#     return Losses, LRs, BLE, ble_name\n",
    "\n",
    "\n",
    "def predict_batch(\n",
    "    model=None, \n",
    "    dataloader=None, \n",
    "    path=None, \n",
    "    device=None\n",
    ") -> np.ndarray:\n",
    "    \n",
    "    model.load_state_dict(torch.load(path, map_location=device)[\"model_state_dict\"])\n",
    "    model.to(device)    \n",
    "    model.eval()\n",
    "    \n",
    "    y_pred = torch.zeros(1, 23).to(device)\n",
    "    \n",
    "    for X in dataloader:\n",
    "        X = X.to(device)\n",
    "        with torch.no_grad():\n",
    "            output = torch.sigmoid(model(X))\n",
    "        y_pred = torch.cat((y_pred, output), dim=0)\n",
    "    \n",
    "    return y_pred[1:].detach().cpu().numpy()"
   ]
  },
  {
   "cell_type": "markdown",
   "id": "5b62ccff",
   "metadata": {
    "papermill": {
     "duration": 0.004377,
     "end_time": "2022-09-25T05:56:55.289809",
     "exception": false,
     "start_time": "2022-09-25T05:56:55.285432",
     "status": "completed"
    },
    "tags": []
   },
   "source": [
    "### **Train**"
   ]
  },
  {
   "cell_type": "code",
   "execution_count": 8,
   "id": "43929226",
   "metadata": {
    "execution": {
     "iopub.execute_input": "2022-09-25T05:56:55.299835Z",
     "iopub.status.busy": "2022-09-25T05:56:55.299246Z",
     "iopub.status.idle": "2022-09-25T05:56:55.303091Z",
     "shell.execute_reply": "2022-09-25T05:56:55.302195Z"
    },
    "papermill": {
     "duration": 0.010958,
     "end_time": "2022-09-25T05:56:55.305057",
     "exception": false,
     "start_time": "2022-09-25T05:56:55.294099",
     "status": "completed"
    },
    "tags": []
   },
   "outputs": [],
   "source": [
    "# df = pd.read_csv(\"../input/com3025-2022-challenge-week-6-7-extended-extend/train.csv\")\n",
    "\n",
    "# filenames = df.file_name.copy().values\n",
    "# labels = df.iloc[:, 1:].copy().values"
   ]
  },
  {
   "cell_type": "code",
   "execution_count": 9,
   "id": "f6bd6c0e",
   "metadata": {
    "execution": {
     "iopub.execute_input": "2022-09-25T05:56:55.315063Z",
     "iopub.status.busy": "2022-09-25T05:56:55.314816Z",
     "iopub.status.idle": "2022-09-25T05:56:55.320373Z",
     "shell.execute_reply": "2022-09-25T05:56:55.319441Z"
    },
    "papermill": {
     "duration": 0.013024,
     "end_time": "2022-09-25T05:56:55.322310",
     "exception": false,
     "start_time": "2022-09-25T05:56:55.309286",
     "status": "completed"
    },
    "tags": []
   },
   "outputs": [],
   "source": [
    "# fold: int = 1\n",
    "# BLEs: list = []\n",
    "# model_name: str = \"efficientnet_b4\"\n",
    "\n",
    "# for tr_idx, va_idx in KFold(n_splits=cfg.n_splits, random_state=cfg.seed, shuffle=True).split(filenames):\n",
    "\n",
    "#     tr_filenames, va_filenames = filenames[tr_idx], filenames[va_idx] \n",
    "#     tr_labels, va_labels       = labels[tr_idx], labels[va_idx]\n",
    "    \n",
    "#     tr_data_setup = DS(\n",
    "#         base_path=\"../input/com3025-2022-challenge-week-6-7-extended-extend/train_data/train_data\", \n",
    "#         filenames=tr_filenames, \n",
    "#         labels=tr_labels,\n",
    "#         size=cfg.size,\n",
    "#         transform=cfg.train_transform\n",
    "#     )\n",
    "    \n",
    "#     va_data_setup = DS(\n",
    "#         base_path=\"../input/com3025-2022-challenge-week-6-7-extended-extend/train_data/train_data\", \n",
    "#         filenames=va_filenames, \n",
    "#         labels=va_labels,\n",
    "#         size=cfg.size,\n",
    "#         transform=cfg.valid_transform\n",
    "#     )\n",
    "\n",
    "#     dataloaders = {\n",
    "#         \"train\" : DL(tr_data_setup, batch_size=cfg.batch_size, shuffle=True, generator=torch.manual_seed(cfg.seed)),\n",
    "#         \"valid\" : DL(va_data_setup, batch_size=cfg.batch_size, shuffle=False),\n",
    "#     }\n",
    "\n",
    "#     cfg = CFG(\n",
    "#         epochs=25, \n",
    "#         batch_size=64, \n",
    "#         early_stopping=5,\n",
    "#         steps_per_epoch=len(dataloaders[\"train\"])\n",
    "#     )\n",
    "    \n",
    "#     torch.manual_seed(cfg.seed)\n",
    "#     model = Model(model_name=model_name).to(cfg.device)\n",
    "\n",
    "#     optimizer = optim.Adam([p for p in model.parameters() if p.requires_grad], lr=cfg.lr, weight_decay=cfg.wd)\n",
    "#     # optimizer = optim.AdamW([p for p in model.parameters() if p.requires_grad], lr=cfg.lr, weight_decay=cfg.wd)\n",
    "#     # optimizer = optim.SGD([p for p in model.parameters() if p.requires_grad], lr=cfg.lr, weight_decay=cfg.wd, momentum=0.9)\n",
    "    \n",
    "#     scheduler_oclr = optim.lr_scheduler.OneCycleLR(\n",
    "#         optimizer=optimizer, \n",
    "#         max_lr=cfg.max_lr, \n",
    "#         epochs=cfg.epochs, \n",
    "#         steps_per_epoch=cfg.steps_per_epoch,\n",
    "#         pct_start=cfg.pct_start, \n",
    "#         div_factor=cfg.div_factor, \n",
    "#         final_div_factor=cfg.final_div_factor\n",
    "#     )\n",
    "\n",
    "#     # scheduler_rlrop = optim.lr_scheduler.ReduceLROnPlateau(\n",
    "#     #     optimizer=optimizer,\n",
    "#     #     patience=cfg.patience,\n",
    "#     #     eps=cfg.eps,\n",
    "#     #     verbose=True\n",
    "#     # )\n",
    "\n",
    "#     # scheduler_oclr = None\n",
    "#     scheduler_rlrop = None\n",
    "    \n",
    "#     L, LR, BLE, _ = fit(\n",
    "#         model=model, \n",
    "#         model_name=model_name,\n",
    "#         optimizer=optimizer, \n",
    "#         scheduler_oclr=scheduler_oclr,\n",
    "#         scheduler_rlrop=scheduler_rlrop,\n",
    "#         epochs=cfg.epochs, \n",
    "#         early_stopping_patience=cfg.early_stopping, \n",
    "#         dataloaders=dataloaders, \n",
    "#         device=cfg.device,\n",
    "#         save_path=cfg.save_path,\n",
    "#         fold=fold,\n",
    "#         verbose=True\n",
    "#     )\n",
    "    \n",
    "#     breaker()\n",
    "#     show_loss_graphs(L)\n",
    "#     breaker()\n",
    "#     if scheduler_oclr:\n",
    "#         show_lr_graph(LR)\n",
    "#         breaker()\n",
    "    \n",
    "#     BLEs.append(BLE)\n",
    "    \n",
    "#     fold += 1"
   ]
  },
  {
   "cell_type": "markdown",
   "id": "75403879",
   "metadata": {
    "papermill": {
     "duration": 0.004021,
     "end_time": "2022-09-25T05:56:55.330657",
     "exception": false,
     "start_time": "2022-09-25T05:56:55.326636",
     "status": "completed"
    },
    "tags": []
   },
   "source": [
    "### **Best Model**"
   ]
  },
  {
   "cell_type": "code",
   "execution_count": 10,
   "id": "a81bfc47",
   "metadata": {
    "execution": {
     "iopub.execute_input": "2022-09-25T05:56:55.340481Z",
     "iopub.status.busy": "2022-09-25T05:56:55.339777Z",
     "iopub.status.idle": "2022-09-25T05:56:55.343594Z",
     "shell.execute_reply": "2022-09-25T05:56:55.342660Z"
    },
    "papermill": {
     "duration": 0.010913,
     "end_time": "2022-09-25T05:56:55.345747",
     "exception": false,
     "start_time": "2022-09-25T05:56:55.334834",
     "status": "completed"
    },
    "tags": []
   },
   "outputs": [],
   "source": [
    "# best_loss_index = BLEs.index(min(BLEs))\n",
    "\n",
    "# breaker()\n",
    "# print(f\"Best Loss Model Fold : {best_loss_index + 1}\")\n",
    "# breaker()"
   ]
  },
  {
   "cell_type": "markdown",
   "id": "f97d03c6",
   "metadata": {
    "papermill": {
     "duration": 0.003914,
     "end_time": "2022-09-25T05:56:55.353788",
     "exception": false,
     "start_time": "2022-09-25T05:56:55.349874",
     "status": "completed"
    },
    "tags": []
   },
   "source": [
    "### **Submission**"
   ]
  },
  {
   "cell_type": "code",
   "execution_count": 11,
   "id": "7388f3b5",
   "metadata": {
    "execution": {
     "iopub.execute_input": "2022-09-25T05:56:55.363710Z",
     "iopub.status.busy": "2022-09-25T05:56:55.362904Z",
     "iopub.status.idle": "2022-09-25T06:01:12.440283Z",
     "shell.execute_reply": "2022-09-25T06:01:12.439085Z"
    },
    "papermill": {
     "duration": 257.08554,
     "end_time": "2022-09-25T06:01:12.443536",
     "exception": false,
     "start_time": "2022-09-25T05:56:55.357996",
     "status": "completed"
    },
    "tags": []
   },
   "outputs": [],
   "source": [
    "ss_df = pd.read_csv(\"../input/com3025-2022-challenge-week-6-7-extended-extend/submission_sampe.csv\")\n",
    "\n",
    "ts_data_setup = DS(\n",
    "    base_path=\"../input/com3025-2022-challenge-week-6-7-extended-extend/test_data/test_data/\", \n",
    "    filenames=ss_df[\"file_name\"].values, \n",
    "    size=cfg.size,\n",
    "    transform=cfg.valid_transform\n",
    ")\n",
    "ts_data = DL(ts_data_setup, batch_size=cfg.batch_size, shuffle=False)\n",
    "\n",
    "torch.manual_seed(cfg.seed)\n",
    "model = Model().to(cfg.device)\n",
    "\n",
    "y_pred = np.zeros((ss_df[\"file_name\"].values.shape[0], 23))\n",
    "\n",
    "for path in os.listdir(MODEL_PATHS):\n",
    "    y_pred += predict_batch(\n",
    "        model=model, \n",
    "        dataloader=ts_data, \n",
    "        path=\"../input/c2022-w67-en4-a384/saves/ble_state_fold_2.pt\", \n",
    "        device=cfg.device\n",
    "    )\n",
    "\n",
    "ss_df.iloc[:, 1:] = y_pred / len(os.listdir(MODEL_PATHS))\n",
    "ss_df.to_csv(\"submission.csv\", index=False)"
   ]
  }
 ],
 "metadata": {
  "kernelspec": {
   "display_name": "Python 3",
   "language": "python",
   "name": "python3"
  },
  "language_info": {
   "codemirror_mode": {
    "name": "ipython",
    "version": 3
   },
   "file_extension": ".py",
   "mimetype": "text/x-python",
   "name": "python",
   "nbconvert_exporter": "python",
   "pygments_lexer": "ipython3",
   "version": "3.7.12"
  },
  "papermill": {
   "default_parameters": {},
   "duration": 280.278031,
   "end_time": "2022-09-25T06:01:14.082637",
   "environment_variables": {},
   "exception": null,
   "input_path": "__notebook__.ipynb",
   "output_path": "__notebook__.ipynb",
   "parameters": {},
   "start_time": "2022-09-25T05:56:33.804606",
   "version": "2.3.4"
  }
 },
 "nbformat": 4,
 "nbformat_minor": 5
}
