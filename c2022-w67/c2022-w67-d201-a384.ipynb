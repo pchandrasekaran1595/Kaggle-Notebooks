{
 "cells": [
  {
   "cell_type": "markdown",
   "id": "7296cb41",
   "metadata": {
    "_cell_guid": "b1076dfc-b9ad-4769-8c92-a6c4dae69d19",
    "_uuid": "8f2839f25d086af736a60e9eeb907d3b93b6e0e5",
    "papermill": {
     "duration": 0.005419,
     "end_time": "2022-09-10T00:52:22.042303",
     "exception": false,
     "start_time": "2022-09-10T00:52:22.036884",
     "status": "completed"
    },
    "tags": []
   },
   "source": [
    "### **Setup**"
   ]
  },
  {
   "cell_type": "code",
   "execution_count": 1,
   "id": "65bf5f72",
   "metadata": {
    "execution": {
     "iopub.execute_input": "2022-09-10T00:52:22.052304Z",
     "iopub.status.busy": "2022-09-10T00:52:22.051658Z",
     "iopub.status.idle": "2022-09-10T00:52:32.942798Z",
     "shell.execute_reply": "2022-09-10T00:52:32.941462Z"
    },
    "papermill": {
     "duration": 10.898522,
     "end_time": "2022-09-10T00:52:32.945106",
     "exception": false,
     "start_time": "2022-09-10T00:52:22.046584",
     "status": "completed"
    },
    "tags": []
   },
   "outputs": [
    {
     "name": "stderr",
     "output_type": "stream",
     "text": [
      "WARNING: Running pip as the 'root' user can result in broken permissions and conflicting behaviour with the system package manager. It is recommended to use a virtual environment instead: https://pip.pypa.io/warnings/venv\n"
     ]
    }
   ],
   "source": [
    "%%bash\n",
    "pip install timm -q"
   ]
  },
  {
   "cell_type": "markdown",
   "id": "04a4653a",
   "metadata": {
    "papermill": {
     "duration": 0.003797,
     "end_time": "2022-09-10T00:52:32.953323",
     "exception": false,
     "start_time": "2022-09-10T00:52:32.949526",
     "status": "completed"
    },
    "tags": []
   },
   "source": [
    "### **Library Imports**"
   ]
  },
  {
   "cell_type": "code",
   "execution_count": 2,
   "id": "738d4470",
   "metadata": {
    "execution": {
     "iopub.execute_input": "2022-09-10T00:52:32.963857Z",
     "iopub.status.busy": "2022-09-10T00:52:32.963513Z",
     "iopub.status.idle": "2022-09-10T00:52:36.865870Z",
     "shell.execute_reply": "2022-09-10T00:52:36.864783Z"
    },
    "papermill": {
     "duration": 3.911424,
     "end_time": "2022-09-10T00:52:36.868564",
     "exception": false,
     "start_time": "2022-09-10T00:52:32.957140",
     "status": "completed"
    },
    "tags": []
   },
   "outputs": [],
   "source": [
    "import os\n",
    "import re\n",
    "import cv2\n",
    "import timm\n",
    "import torch\n",
    "import numpy as np\n",
    "import pandas as pd\n",
    "import matplotlib.pyplot as plt\n",
    "\n",
    "from time import time\n",
    "from torch import nn, optim\n",
    "from torch.utils.data import Dataset\n",
    "from torch.utils.data import DataLoader as DL\n",
    "from torchvision import models, transforms\n",
    "\n",
    "from sklearn.model_selection import KFold"
   ]
  },
  {
   "cell_type": "markdown",
   "id": "94abb5b2",
   "metadata": {
    "papermill": {
     "duration": 0.003813,
     "end_time": "2022-09-10T00:52:36.876718",
     "exception": false,
     "start_time": "2022-09-10T00:52:36.872905",
     "status": "completed"
    },
    "tags": []
   },
   "source": [
    "### **Utilities and Helpers**"
   ]
  },
  {
   "cell_type": "code",
   "execution_count": 3,
   "id": "bd6162cb",
   "metadata": {
    "execution": {
     "iopub.execute_input": "2022-09-10T00:52:36.887582Z",
     "iopub.status.busy": "2022-09-10T00:52:36.886075Z",
     "iopub.status.idle": "2022-09-10T00:52:36.897560Z",
     "shell.execute_reply": "2022-09-10T00:52:36.896717Z"
    },
    "papermill": {
     "duration": 0.018614,
     "end_time": "2022-09-10T00:52:36.899523",
     "exception": false,
     "start_time": "2022-09-10T00:52:36.880909",
     "status": "completed"
    },
    "tags": []
   },
   "outputs": [],
   "source": [
    "SEED = 42\n",
    "SIZE = 384\n",
    "\n",
    "\n",
    "def breaker(num: int=50, char: str=\"*\") -> None:\n",
    "    print(\"\\n\" + num*char + \"\\n\")\n",
    "\n",
    "    \n",
    "def get_image(path: str, size: int=224) -> np.ndarray:\n",
    "    image = cv2.imread(path, cv2.IMREAD_COLOR)\n",
    "    image = cv2.cvtColor(src=image, code=cv2.COLOR_BGR2RGB)\n",
    "    return cv2.resize(src=image, dsize=(size, size), interpolation=cv2.INTER_AREA)\n",
    "\n",
    "\n",
    "def show_loss_graphs(L: list) -> None:\n",
    "    TL, VL = [], []\n",
    "    for i in range(len(L)):\n",
    "        TL.append(L[i][\"train\"])\n",
    "        VL.append(L[i][\"valid\"])\n",
    "    x_Axis = np.arange(1, len(TL) + 1)\n",
    "    plt.figure()\n",
    "    plt.plot(x_Axis, TL, \"r\", label=\"Train\")\n",
    "    plt.plot(x_Axis, VL, \"b\", label=\"Valid\")\n",
    "    plt.legend()\n",
    "    plt.grid()\n",
    "    plt.title(\"Loss Graph\")\n",
    "    plt.show()\n",
    "    \n",
    "\n",
    "def show_lr_graph(LR: list) -> None:\n",
    "    x_Axis = [i+1 for i in range(len(LR))]\n",
    "    plt.figure(figsize=(8, 6))\n",
    "    plt.plot(x_Axis, LR, \"rx\")\n",
    "    plt.grid()\n",
    "    plt.show()"
   ]
  },
  {
   "cell_type": "markdown",
   "id": "0a8aeb3b",
   "metadata": {
    "papermill": {
     "duration": 0.003615,
     "end_time": "2022-09-10T00:52:36.907107",
     "exception": false,
     "start_time": "2022-09-10T00:52:36.903492",
     "status": "completed"
    },
    "tags": []
   },
   "source": [
    "### **Configuration**"
   ]
  },
  {
   "cell_type": "code",
   "execution_count": 4,
   "id": "6cd32d82",
   "metadata": {
    "execution": {
     "iopub.execute_input": "2022-09-10T00:52:36.916194Z",
     "iopub.status.busy": "2022-09-10T00:52:36.915933Z",
     "iopub.status.idle": "2022-09-10T00:52:36.983635Z",
     "shell.execute_reply": "2022-09-10T00:52:36.982743Z"
    },
    "papermill": {
     "duration": 0.0745,
     "end_time": "2022-09-10T00:52:36.985795",
     "exception": false,
     "start_time": "2022-09-10T00:52:36.911295",
     "status": "completed"
    },
    "tags": []
   },
   "outputs": [],
   "source": [
    "class CFG(object):\n",
    "    def __init__(self, \n",
    "                 seed: int = 42,\n",
    "                 size: int = 224,\n",
    "                 n_splits: int = 5,\n",
    "                 batch_size: int = 16,\n",
    "                 epochs: int = 25,\n",
    "                 early_stopping: int = 5,\n",
    "                 lr: float = 1e-4,\n",
    "                 wd: float = 0.0,\n",
    "                 max_lr: float = 1e-3,\n",
    "                 pct_start: float = 0.2,\n",
    "                 steps_per_epoch: int = 100,\n",
    "                 div_factor: int = 1e3, \n",
    "                 final_div_factor: float = 1e3,\n",
    "                 ):\n",
    "        self.seed = seed\n",
    "        self.size = size\n",
    "        self.n_splits = n_splits\n",
    "        self.batch_size = batch_size\n",
    "        self.epochs = epochs\n",
    "        self.early_stopping = early_stopping\n",
    "        self.lr = lr\n",
    "        self.wd = wd\n",
    "        self.max_lr = max_lr\n",
    "        self.pct_start = pct_start\n",
    "        self.steps_per_epoch = steps_per_epoch\n",
    "        self.div_factor = div_factor\n",
    "        self.final_div_factor = final_div_factor\n",
    "        self.device = torch.device(\"cuda\" if torch.cuda.is_available() else \"cpu\")\n",
    "        self.train_transform = transforms.Compose([\n",
    "            transforms.ToTensor(),\n",
    "            transforms.Normalize([0.44811, 0.42458, 0.39159], [0.23526, 0.22963, 0.23221]),\n",
    "            transforms.RandomAffine(degrees=(-45, 45), translate=(0.15, 0.15), scale=(0.5, 1.5)),\n",
    "            transforms.RandomHorizontalFlip(p=0.25),\n",
    "            transforms.RandomVerticalFlip(p=0.25),\n",
    "        ])\n",
    "        self.valid_transform = transforms.Compose([\n",
    "            transforms.ToTensor(),\n",
    "            transforms.Normalize([0.44811, 0.42458, 0.39159], [0.23526, 0.22963, 0.23221]),\n",
    "        ])\n",
    "                                \n",
    "        self.save_path = \"saves\"\n",
    "        if not os.path.exists(self.save_path): os.makedirs(self.save_path)\n",
    "    \n",
    "cfg = CFG(seed=SEED, size=SIZE)"
   ]
  },
  {
   "cell_type": "markdown",
   "id": "4324aba5",
   "metadata": {
    "papermill": {
     "duration": 0.003741,
     "end_time": "2022-09-10T00:52:36.993737",
     "exception": false,
     "start_time": "2022-09-10T00:52:36.989996",
     "status": "completed"
    },
    "tags": []
   },
   "source": [
    "### **Dataset Template**"
   ]
  },
  {
   "cell_type": "code",
   "execution_count": 5,
   "id": "cea4692f",
   "metadata": {
    "execution": {
     "iopub.execute_input": "2022-09-10T00:52:37.003400Z",
     "iopub.status.busy": "2022-09-10T00:52:37.002617Z",
     "iopub.status.idle": "2022-09-10T00:52:37.009744Z",
     "shell.execute_reply": "2022-09-10T00:52:37.008833Z"
    },
    "papermill": {
     "duration": 0.014042,
     "end_time": "2022-09-10T00:52:37.011727",
     "exception": false,
     "start_time": "2022-09-10T00:52:36.997685",
     "status": "completed"
    },
    "tags": []
   },
   "outputs": [],
   "source": [
    "class DS(Dataset):\n",
    "    def __init__(\n",
    "        self, \n",
    "        base_path: str,\n",
    "        filenames: np.ndarray, \n",
    "        labels: np.ndarray, \n",
    "        size: int,\n",
    "        transform=None):\n",
    "        \n",
    "        self.base_path = base_path\n",
    "        self.filenames = filenames\n",
    "        self.labels = labels\n",
    "        self.size = size\n",
    "        self.transform = transform\n",
    "    \n",
    "    def __len__(self):\n",
    "        return self.filenames.shape[0]\n",
    "    \n",
    "    def __getitem__(self, idx):\n",
    "        path = os.path.join(self.base_path, self.filenames[idx])\n",
    "        image = get_image(path, self.size)\n",
    "        return self.transform(image), self.labels[idx]"
   ]
  },
  {
   "cell_type": "markdown",
   "id": "4ff38f13",
   "metadata": {
    "papermill": {
     "duration": 0.003888,
     "end_time": "2022-09-10T00:52:37.019994",
     "exception": false,
     "start_time": "2022-09-10T00:52:37.016106",
     "status": "completed"
    },
    "tags": []
   },
   "source": [
    "### **Model**"
   ]
  },
  {
   "cell_type": "code",
   "execution_count": 6,
   "id": "6fd6e001",
   "metadata": {
    "execution": {
     "iopub.execute_input": "2022-09-10T00:52:37.029032Z",
     "iopub.status.busy": "2022-09-10T00:52:37.028748Z",
     "iopub.status.idle": "2022-09-10T00:52:37.039861Z",
     "shell.execute_reply": "2022-09-10T00:52:37.038975Z"
    },
    "papermill": {
     "duration": 0.017926,
     "end_time": "2022-09-10T00:52:37.041976",
     "exception": false,
     "start_time": "2022-09-10T00:52:37.024050",
     "status": "completed"
    },
    "tags": []
   },
   "outputs": [],
   "source": [
    "class Model(nn.Module):\n",
    "    def __init__(self, model_name: str=\"efficientnet_b4\"):\n",
    "        super(Model, self).__init__()\n",
    "        \n",
    "        if model_name == \"resnet50\":\n",
    "            self.model = models.resnet50(pretrained=True, progress=False)\n",
    "            self.model.fc = nn.Linear(in_features=self.model.fc.in_features, out_features=23)\n",
    "\n",
    "        elif model_name == \"densenet169\":\n",
    "            self.model = models.densenet169(pretrained=True, progress=False)\n",
    "            self.model.classifier = nn.Linear(in_features=self.model.classifier.in_features, out_features=23)\n",
    "\n",
    "        elif model_name == \"densenet201\":\n",
    "            self.model = models.densenet201(pretrained=True, progress=False)\n",
    "            self.model.classifier = nn.Linear(in_features=self.model.classifier.in_features, out_features=23)\n",
    "            \n",
    "        elif model_name == \"tv_densenet121\":\n",
    "            self.model = timm.create_model(model_name=model_name, pretrained=True)\n",
    "            self.model.classifier = nn.Linear(in_features=self.model.classifier.in_features, out_features=23)\n",
    "            \n",
    "        elif model_name == \"efficientnet_b2\":\n",
    "            self.model = timm.create_model(model_name=model_name, pretrained=True)\n",
    "            self.model.classifier = nn.Linear(in_features=self.model.classifier.in_features, out_features=23)\n",
    "        \n",
    "        elif model_name == \"efficientnet_b4\":\n",
    "            self.model = timm.create_model(model_name=model_name, pretrained=True)\n",
    "            self.model.classifier = nn.Linear(in_features=self.model.classifier.in_features, out_features=23)\n",
    "            \n",
    "    def freeze(self):\n",
    "        for params in self.parameters(): params.requires_grad = False\n",
    "\n",
    "    def forward(self, x):\n",
    "        return self.model(x)"
   ]
  },
  {
   "cell_type": "markdown",
   "id": "44225764",
   "metadata": {
    "papermill": {
     "duration": 0.00389,
     "end_time": "2022-09-10T00:52:37.049775",
     "exception": false,
     "start_time": "2022-09-10T00:52:37.045885",
     "status": "completed"
    },
    "tags": []
   },
   "source": [
    "### **Fit and Predict**"
   ]
  },
  {
   "cell_type": "code",
   "execution_count": 7,
   "id": "fd3bbbf7",
   "metadata": {
    "execution": {
     "iopub.execute_input": "2022-09-10T00:52:37.059980Z",
     "iopub.status.busy": "2022-09-10T00:52:37.059688Z",
     "iopub.status.idle": "2022-09-10T00:52:37.078550Z",
     "shell.execute_reply": "2022-09-10T00:52:37.077621Z"
    },
    "papermill": {
     "duration": 0.026464,
     "end_time": "2022-09-10T00:52:37.080640",
     "exception": false,
     "start_time": "2022-09-10T00:52:37.054176",
     "status": "completed"
    },
    "tags": []
   },
   "outputs": [],
   "source": [
    "def fit(model=None,\n",
    "        model_name=None,\n",
    "        optimizer=None, \n",
    "        scheduler_rlrop=None,\n",
    "        scheduler_oclr=None,\n",
    "        epochs=None, \n",
    "        early_stopping_patience=None, \n",
    "        dataloaders=None, \n",
    "        fold=None, \n",
    "        save_path=None,\n",
    "        device=None,\n",
    "        verbose=False) -> tuple:    \n",
    "    \n",
    "    if verbose:\n",
    "        breaker()\n",
    "        print(f\" ----- {model_name.upper()} -----\")\n",
    "        breaker()\n",
    "        if fold: print(f\"Training Fold {fold}...\")\n",
    "        else: print(\"Training ...\")\n",
    "        breaker()\n",
    "        \n",
    "    bestLoss: dict = {\"train\" : np.inf, \"valid\" : np.inf} \n",
    "        \n",
    "    Losses: list = []\n",
    "    LRs: list = []\n",
    "        \n",
    "    if fold: ble_name = f\"{model_name}_ble_state_fold_{fold}.pt\"\n",
    "    else: ble_name = f\"{model_name}_ble_state.pt\"\n",
    "    \n",
    "    start_time = time()\n",
    "    for e in range(epochs):\n",
    "        e_st = time()\n",
    "        epochLoss: dict = {\"train\" : 0.0, \"valid\" : 0.0} \n",
    "\n",
    "        for phase in [\"train\", \"valid\"]:\n",
    "            if phase == \"train\": model.train()\n",
    "            else: model.eval()\n",
    "            \n",
    "            lossPerPass: list = []\n",
    "                \n",
    "            for X, y in dataloaders[phase]:\n",
    "                X, y = X.to(device), y.to(device)\n",
    "\n",
    "                optimizer.zero_grad()\n",
    "                with torch.set_grad_enabled(phase == \"train\"):\n",
    "                    output = model(X)\n",
    "                    loss = torch.nn.BCEWithLogitsLoss()(output, y)\n",
    "                    if phase == \"train\":\n",
    "                        loss.backward()\n",
    "                        optimizer.step()\n",
    "                        if scheduler_oclr: scheduler_oclr.step()\n",
    "                lossPerPass.append(loss.item())\n",
    "            epochLoss[phase] = np.mean(np.array(lossPerPass))\n",
    "        if scheduler_oclr: LRs.append(scheduler_oclr.get_last_lr())\n",
    "        Losses.append(epochLoss)\n",
    "    \n",
    "        if scheduler_oclr:\n",
    "            save_dict = {\"model_state_dict\"     : model.state_dict(),\n",
    "                         \"optim_state_dict\"     : optimizer.state_dict(),\n",
    "                         \"scheduler_state_dict\" : scheduler_oclr.state_dict()}\n",
    "        \n",
    "        elif scheduler_rlrop:\n",
    "            save_dict = {\"model_state_dict\"     : model.state_dict(),\n",
    "                         \"optim_state_dict\"     : optimizer.state_dict(),\n",
    "                         \"scheduler_state_dict\" : scheduler_rlrop.state_dict()}\n",
    "        \n",
    "        else:\n",
    "            save_dict = {\"model_state_dict\"     : model.state_dict(),\n",
    "                         \"optim_state_dict\"     : optimizer.state_dict()}\n",
    "        \n",
    "        \n",
    "        if early_stopping_patience:\n",
    "            if epochLoss[\"valid\"] < bestLoss[\"valid\"]:\n",
    "                bestLoss = epochLoss\n",
    "                BLE = e + 1\n",
    "                torch.save(save_dict, os.path.join(save_path, ble_name))\n",
    "                early_stopping_step = 0\n",
    "            else:\n",
    "                early_stopping_step += 1\n",
    "                if early_stopping_step > early_stopping_patience:\n",
    "                    print(\"\\nEarly Stopping at Epoch {}\".format(e + 1))\n",
    "                    break\n",
    "        \n",
    "        if epochLoss[\"valid\"] < bestLoss[\"valid\"]:\n",
    "            bestLoss = epochLoss\n",
    "            BLE = e + 1\n",
    "            torch.save(save_dict,os.path.join(save_path, ble_name))\n",
    "        \n",
    "        if scheduler_rlrop: scheduler_rlrop.step(epochLoss[\"valid\"])\n",
    "        \n",
    "        if verbose:\n",
    "            print(\"Epoch: {} | Train Loss: {:.5f} | Valid Loss: {:.5f} | Time: {:.2f} seconds\".format(e+1, epochLoss[\"train\"], epochLoss[\"valid\"], time()-e_st))\n",
    "\n",
    "    if verbose:                                           \n",
    "        breaker()\n",
    "        print(f\"Best Validation Loss at Epoch {BLE}\")\n",
    "        breaker()\n",
    "        print(\"Time Taken [{} Epochs] : {:.2f} minutes\".format(len(Losses), (time()-start_time)/60))\n",
    "    \n",
    "    return Losses, LRs, BLE, ble_name\n",
    "\n",
    "\n",
    "def predict_batch(\n",
    "    model=None, \n",
    "    dataloader=None, \n",
    "    path=None, \n",
    "    device=None\n",
    ") -> np.ndarray:\n",
    "    \n",
    "    model.load_state_dict(torch.load(path, map_location=device)[\"model_state_dict\"])\n",
    "    model.to(device)    \n",
    "    model.eval()\n",
    "    \n",
    "    y_pred = torch.zeros(1, 23).to(device)\n",
    "    \n",
    "    for X in dataloader:\n",
    "        X = X.to(device)\n",
    "        with torch.no_grad():\n",
    "            output = torch.sigmoid(model(X))\n",
    "        y_pred = torch.cat((y_pred, output), dim=0)\n",
    "    \n",
    "    return y_pred[1:].detach().cpu().numpy()"
   ]
  },
  {
   "cell_type": "markdown",
   "id": "1fb9ca88",
   "metadata": {
    "papermill": {
     "duration": 0.004916,
     "end_time": "2022-09-10T00:52:37.089864",
     "exception": false,
     "start_time": "2022-09-10T00:52:37.084948",
     "status": "completed"
    },
    "tags": []
   },
   "source": [
    "### **Train**"
   ]
  },
  {
   "cell_type": "code",
   "execution_count": 8,
   "id": "39e29614",
   "metadata": {
    "execution": {
     "iopub.execute_input": "2022-09-10T00:52:37.098871Z",
     "iopub.status.busy": "2022-09-10T00:52:37.098538Z",
     "iopub.status.idle": "2022-09-10T00:52:37.145580Z",
     "shell.execute_reply": "2022-09-10T00:52:37.144699Z"
    },
    "papermill": {
     "duration": 0.053981,
     "end_time": "2022-09-10T00:52:37.147738",
     "exception": false,
     "start_time": "2022-09-10T00:52:37.093757",
     "status": "completed"
    },
    "tags": []
   },
   "outputs": [],
   "source": [
    "df = pd.read_csv(\"../input/com3025-2022-challenge-week-6-7-extended-extend/train.csv\")\n",
    "\n",
    "filenames = df.file_name.copy().values\n",
    "labels = df.iloc[:, 1:].copy().values"
   ]
  },
  {
   "cell_type": "code",
   "execution_count": 9,
   "id": "d2b9dcc9",
   "metadata": {
    "execution": {
     "iopub.execute_input": "2022-09-10T00:52:37.157144Z",
     "iopub.status.busy": "2022-09-10T00:52:37.156887Z",
     "iopub.status.idle": "2022-09-10T03:28:56.022372Z",
     "shell.execute_reply": "2022-09-10T03:28:56.021379Z"
    },
    "papermill": {
     "duration": 9378.87278,
     "end_time": "2022-09-10T03:28:56.024589",
     "exception": false,
     "start_time": "2022-09-10T00:52:37.151809",
     "status": "completed"
    },
    "tags": []
   },
   "outputs": [
    {
     "name": "stderr",
     "output_type": "stream",
     "text": [
      "Downloading: \"https://download.pytorch.org/models/densenet201-c1103571.pth\" to /root/.cache/torch/hub/checkpoints/densenet201-c1103571.pth\n"
     ]
    },
    {
     "name": "stdout",
     "output_type": "stream",
     "text": [
      "\n",
      "**************************************************\n",
      "\n",
      " ----- DENSENET201 -----\n",
      "\n",
      "**************************************************\n",
      "\n",
      "Training Fold 1...\n",
      "\n",
      "**************************************************\n",
      "\n",
      "Epoch: 1 | Train Loss: 0.44468 | Valid Loss: 0.16130 | Time: 270.49 seconds\n",
      "Epoch: 2 | Train Loss: 0.16359 | Valid Loss: 0.15176 | Time: 202.21 seconds\n",
      "Epoch: 3 | Train Loss: 0.16931 | Valid Loss: 0.14970 | Time: 202.73 seconds\n",
      "Epoch: 4 | Train Loss: 0.17133 | Valid Loss: 0.17213 | Time: 200.51 seconds\n",
      "Epoch: 5 | Train Loss: 0.17197 | Valid Loss: 0.14995 | Time: 202.87 seconds\n",
      "Epoch: 6 | Train Loss: 0.16334 | Valid Loss: 0.16637 | Time: 200.67 seconds\n",
      "Epoch: 7 | Train Loss: 0.15860 | Valid Loss: 0.16387 | Time: 199.38 seconds\n",
      "Epoch: 8 | Train Loss: 0.15332 | Valid Loss: 0.15993 | Time: 199.98 seconds\n",
      "Epoch: 9 | Train Loss: 0.14823 | Valid Loss: 0.14909 | Time: 200.53 seconds\n",
      "Epoch: 10 | Train Loss: 0.14177 | Valid Loss: 0.14449 | Time: 199.33 seconds\n",
      "Epoch: 11 | Train Loss: 0.14012 | Valid Loss: 0.14077 | Time: 200.14 seconds\n",
      "Epoch: 12 | Train Loss: 0.13247 | Valid Loss: 0.13525 | Time: 201.14 seconds\n",
      "Epoch: 13 | Train Loss: 0.12331 | Valid Loss: 0.13986 | Time: 198.40 seconds\n",
      "Epoch: 14 | Train Loss: 0.11831 | Valid Loss: 0.12931 | Time: 201.81 seconds\n",
      "Epoch: 15 | Train Loss: 0.11301 | Valid Loss: 0.12206 | Time: 200.70 seconds\n",
      "Epoch: 16 | Train Loss: 0.10703 | Valid Loss: 0.12583 | Time: 196.57 seconds\n",
      "Epoch: 17 | Train Loss: 0.09641 | Valid Loss: 0.12193 | Time: 199.65 seconds\n",
      "Epoch: 18 | Train Loss: 0.09026 | Valid Loss: 0.12140 | Time: 200.25 seconds\n",
      "Epoch: 19 | Train Loss: 0.08035 | Valid Loss: 0.11725 | Time: 200.13 seconds\n",
      "Epoch: 20 | Train Loss: 0.07303 | Valid Loss: 0.11543 | Time: 199.12 seconds\n",
      "Epoch: 21 | Train Loss: 0.06663 | Valid Loss: 0.11782 | Time: 200.16 seconds\n",
      "Epoch: 22 | Train Loss: 0.06298 | Valid Loss: 0.11788 | Time: 199.56 seconds\n",
      "Epoch: 23 | Train Loss: 0.05749 | Valid Loss: 0.11688 | Time: 195.18 seconds\n",
      "Epoch: 24 | Train Loss: 0.05566 | Valid Loss: 0.11663 | Time: 198.04 seconds\n",
      "Epoch: 25 | Train Loss: 0.05446 | Valid Loss: 0.11649 | Time: 200.30 seconds\n",
      "\n",
      "**************************************************\n",
      "\n",
      "Best Validation Loss at Epoch 20\n",
      "\n",
      "**************************************************\n",
      "\n",
      "Time Taken [25 Epochs] : 84.50 minutes\n",
      "\n",
      "**************************************************\n",
      "\n"
     ]
    },
    {
     "data": {
      "image/png": "[encoded data removed]",
      "text/plain": [
       "<Figure size 432x288 with 1 Axes>"
      ]
     },
     "metadata": {
      "needs_background": "light"
     },
     "output_type": "display_data"
    },
    {
     "name": "stdout",
     "output_type": "stream",
     "text": [
      "\n",
      "**************************************************\n",
      "\n"
     ]
    },
    {
     "data": {
      "image/png": "[encoded data removed]",
      "text/plain": [
       "<Figure size 576x432 with 1 Axes>"
      ]
     },
     "metadata": {
      "needs_background": "light"
     },
     "output_type": "display_data"
    },
    {
     "name": "stdout",
     "output_type": "stream",
     "text": [
      "\n",
      "**************************************************\n",
      "\n",
      "\n",
      "**************************************************\n",
      "\n",
      " ----- DENSENET201 -----\n",
      "\n",
      "**************************************************\n",
      "\n",
      "Training Fold 2...\n",
      "\n",
      "**************************************************\n",
      "\n",
      "Epoch: 1 | Train Loss: 0.56912 | Valid Loss: 0.31465 | Time: 94.06 seconds\n",
      "Epoch: 2 | Train Loss: 0.19528 | Valid Loss: 0.11830 | Time: 93.80 seconds\n",
      "Epoch: 3 | Train Loss: 0.14540 | Valid Loss: 0.15995 | Time: 92.99 seconds\n",
      "Epoch: 4 | Train Loss: 0.15174 | Valid Loss: 0.18088 | Time: 94.96 seconds\n",
      "Epoch: 5 | Train Loss: 0.14943 | Valid Loss: 0.18290 | Time: 93.06 seconds\n",
      "Epoch: 6 | Train Loss: 0.14097 | Valid Loss: 0.17204 | Time: 92.95 seconds\n",
      "Epoch: 7 | Train Loss: 0.13469 | Valid Loss: 0.16216 | Time: 92.79 seconds\n",
      "\n",
      "Early Stopping at Epoch 8\n",
      "\n",
      "**************************************************\n",
      "\n",
      "Best Validation Loss at Epoch 2\n",
      "\n",
      "**************************************************\n",
      "\n",
      "Time Taken [8 Epochs] : 12.45 minutes\n",
      "\n",
      "**************************************************\n",
      "\n"
     ]
    },
    {
     "data": {
      "image/png": "[encoded data removed]",
      "text/plain": [
       "<Figure size 432x288 with 1 Axes>"
      ]
     },
     "metadata": {
      "needs_background": "light"
     },
     "output_type": "display_data"
    },
    {
     "name": "stdout",
     "output_type": "stream",
     "text": [
      "\n",
      "**************************************************\n",
      "\n"
     ]
    },
    {
     "data": {
      "image/png": "[encoded data removed]",
      "text/plain": [
       "<Figure size 576x432 with 1 Axes>"
      ]
     },
     "metadata": {
      "needs_background": "light"
     },
     "output_type": "display_data"
    },
    {
     "name": "stdout",
     "output_type": "stream",
     "text": [
      "\n",
      "**************************************************\n",
      "\n",
      "\n",
      "**************************************************\n",
      "\n",
      " ----- DENSENET201 -----\n",
      "\n",
      "**************************************************\n",
      "\n",
      "Training Fold 3...\n",
      "\n",
      "**************************************************\n",
      "\n",
      "Epoch: 1 | Train Loss: 0.56868 | Valid Loss: 0.32229 | Time: 93.48 seconds\n",
      "Epoch: 2 | Train Loss: 0.19337 | Valid Loss: 0.13093 | Time: 94.50 seconds\n",
      "Epoch: 3 | Train Loss: 0.14294 | Valid Loss: 0.17526 | Time: 92.81 seconds\n",
      "Epoch: 4 | Train Loss: 0.14805 | Valid Loss: 0.17405 | Time: 92.54 seconds\n",
      "Epoch: 5 | Train Loss: 0.14450 | Valid Loss: 0.17124 | Time: 92.69 seconds\n",
      "Epoch: 6 | Train Loss: 0.13947 | Valid Loss: 0.14343 | Time: 92.73 seconds\n",
      "Epoch: 7 | Train Loss: 0.13285 | Valid Loss: 0.15741 | Time: 93.12 seconds\n",
      "\n",
      "Early Stopping at Epoch 8\n",
      "\n",
      "**************************************************\n",
      "\n",
      "Best Validation Loss at Epoch 2\n",
      "\n",
      "**************************************************\n",
      "\n",
      "Time Taken [8 Epochs] : 12.41 minutes\n",
      "\n",
      "**************************************************\n",
      "\n"
     ]
    },
    {
     "data": {
      "image/png": "[encoded data removed]",
      "text/plain": [
       "<Figure size 432x288 with 1 Axes>"
      ]
     },
     "metadata": {
      "needs_background": "light"
     },
     "output_type": "display_data"
    },
    {
     "name": "stdout",
     "output_type": "stream",
     "text": [
      "\n",
      "**************************************************\n",
      "\n"
     ]
    },
    {
     "data": {
      "image/png": "[encoded data removed]",
      "text/plain": [
       "<Figure size 576x432 with 1 Axes>"
      ]
     },
     "metadata": {
      "needs_background": "light"
     },
     "output_type": "display_data"
    },
    {
     "name": "stdout",
     "output_type": "stream",
     "text": [
      "\n",
      "**************************************************\n",
      "\n",
      "\n",
      "**************************************************\n",
      "\n",
      " ----- DENSENET201 -----\n",
      "\n",
      "**************************************************\n",
      "\n",
      "Training Fold 4...\n",
      "\n",
      "**************************************************\n",
      "\n",
      "Epoch: 1 | Train Loss: 0.56882 | Valid Loss: 0.32178 | Time: 93.26 seconds\n",
      "Epoch: 2 | Train Loss: 0.19234 | Valid Loss: 0.14441 | Time: 93.42 seconds\n",
      "Epoch: 3 | Train Loss: 0.14152 | Valid Loss: 0.17372 | Time: 92.50 seconds\n",
      "Epoch: 4 | Train Loss: 0.14633 | Valid Loss: 0.23762 | Time: 92.29 seconds\n",
      "Epoch: 5 | Train Loss: 0.14859 | Valid Loss: 0.17496 | Time: 93.85 seconds\n",
      "Epoch: 6 | Train Loss: 0.13930 | Valid Loss: 0.15619 | Time: 92.98 seconds\n",
      "Epoch: 7 | Train Loss: 0.13220 | Valid Loss: 0.14103 | Time: 94.78 seconds\n",
      "Epoch: 8 | Train Loss: 0.12548 | Valid Loss: 0.15381 | Time: 94.44 seconds\n",
      "Epoch: 9 | Train Loss: 0.11869 | Valid Loss: 0.13493 | Time: 93.56 seconds\n",
      "Epoch: 10 | Train Loss: 0.11217 | Valid Loss: 0.15804 | Time: 93.20 seconds\n",
      "Epoch: 11 | Train Loss: 0.10743 | Valid Loss: 0.14538 | Time: 93.18 seconds\n",
      "Epoch: 12 | Train Loss: 0.09953 | Valid Loss: 0.13886 | Time: 92.72 seconds\n",
      "Epoch: 13 | Train Loss: 0.09214 | Valid Loss: 0.13497 | Time: 93.55 seconds\n",
      "Epoch: 14 | Train Loss: 0.08225 | Valid Loss: 0.13201 | Time: 93.78 seconds\n",
      "Epoch: 15 | Train Loss: 0.07640 | Valid Loss: 0.13594 | Time: 93.45 seconds\n",
      "Epoch: 16 | Train Loss: 0.06859 | Valid Loss: 0.12725 | Time: 94.52 seconds\n",
      "Epoch: 17 | Train Loss: 0.05872 | Valid Loss: 0.13208 | Time: 93.20 seconds\n",
      "Epoch: 18 | Train Loss: 0.05213 | Valid Loss: 0.13011 | Time: 92.70 seconds\n",
      "Epoch: 19 | Train Loss: 0.04465 | Valid Loss: 0.13642 | Time: 93.04 seconds\n",
      "Epoch: 20 | Train Loss: 0.03836 | Valid Loss: 0.12877 | Time: 93.60 seconds\n",
      "Epoch: 21 | Train Loss: 0.03476 | Valid Loss: 0.13090 | Time: 92.73 seconds\n",
      "\n",
      "Early Stopping at Epoch 22\n",
      "\n",
      "**************************************************\n",
      "\n",
      "Best Validation Loss at Epoch 16\n",
      "\n",
      "**************************************************\n",
      "\n",
      "Time Taken [22 Epochs] : 34.22 minutes\n",
      "\n",
      "**************************************************\n",
      "\n"
     ]
    },
    {
     "data": {
      "image/png": "[encoded data removed]",
      "text/plain": [
       "<Figure size 432x288 with 1 Axes>"
      ]
     },
     "metadata": {
      "needs_background": "light"
     },
     "output_type": "display_data"
    },
    {
     "name": "stdout",
     "output_type": "stream",
     "text": [
      "\n",
      "**************************************************\n",
      "\n"
     ]
    },
    {
     "data": {
      "image/png": "[encoded data removed]",
      "text/plain": [
       "<Figure size 576x432 with 1 Axes>"
      ]
     },
     "metadata": {
      "needs_background": "light"
     },
     "output_type": "display_data"
    },
    {
     "name": "stdout",
     "output_type": "stream",
     "text": [
      "\n",
      "**************************************************\n",
      "\n",
      "\n",
      "**************************************************\n",
      "\n",
      " ----- DENSENET201 -----\n",
      "\n",
      "**************************************************\n",
      "\n",
      "Training Fold 5...\n",
      "\n",
      "**************************************************\n",
      "\n",
      "Epoch: 1 | Train Loss: 0.56955 | Valid Loss: 0.32652 | Time: 93.02 seconds\n",
      "Epoch: 2 | Train Loss: 0.19258 | Valid Loss: 0.12750 | Time: 94.17 seconds\n",
      "Epoch: 3 | Train Loss: 0.14268 | Valid Loss: 0.17024 | Time: 93.52 seconds\n",
      "Epoch: 4 | Train Loss: 0.14976 | Valid Loss: 0.18874 | Time: 93.05 seconds\n",
      "Epoch: 5 | Train Loss: 0.14585 | Valid Loss: 0.15251 | Time: 92.98 seconds\n",
      "Epoch: 6 | Train Loss: 0.14018 | Valid Loss: 0.18111 | Time: 93.78 seconds\n",
      "Epoch: 7 | Train Loss: 0.13014 | Valid Loss: 0.15285 | Time: 93.26 seconds\n",
      "\n",
      "Early Stopping at Epoch 8\n",
      "\n",
      "**************************************************\n",
      "\n",
      "Best Validation Loss at Epoch 2\n",
      "\n",
      "**************************************************\n",
      "\n",
      "Time Taken [8 Epochs] : 12.44 minutes\n",
      "\n",
      "**************************************************\n",
      "\n"
     ]
    },
    {
     "data": {
      "image/png": "[encoded data removed]",
      "text/plain": [
       "<Figure size 432x288 with 1 Axes>"
      ]
     },
     "metadata": {
      "needs_background": "light"
     },
     "output_type": "display_data"
    },
    {
     "name": "stdout",
     "output_type": "stream",
     "text": [
      "\n",
      "**************************************************\n",
      "\n"
     ]
    },
    {
     "data": {
      "image/png": "[encoded data removed]",
      "text/plain": [
       "<Figure size 576x432 with 1 Axes>"
      ]
     },
     "metadata": {
      "needs_background": "light"
     },
     "output_type": "display_data"
    },
    {
     "name": "stdout",
     "output_type": "stream",
     "text": [
      "\n",
      "**************************************************\n",
      "\n"
     ]
    }
   ],
   "source": [
    "fold: int = 1\n",
    "BLEs: list = []\n",
    "model_name: str = \"densenet201\"\n",
    "\n",
    "for tr_idx, va_idx in KFold(n_splits=cfg.n_splits, random_state=cfg.seed, shuffle=True).split(filenames):\n",
    "\n",
    "    tr_filenames, va_filenames = filenames[tr_idx], filenames[va_idx] \n",
    "    tr_labels, va_labels       = labels[tr_idx], labels[va_idx]\n",
    "    \n",
    "    tr_data_setup = DS(\n",
    "        base_path=\"../input/com3025-2022-challenge-week-6-7-extended-extend/train_data/train_data\", \n",
    "        filenames=tr_filenames, \n",
    "        labels=tr_labels,\n",
    "        size=cfg.size,\n",
    "        transform=cfg.train_transform\n",
    "    )\n",
    "    \n",
    "    va_data_setup = DS(\n",
    "        base_path=\"../input/com3025-2022-challenge-week-6-7-extended-extend/train_data/train_data\", \n",
    "        filenames=va_filenames, \n",
    "        labels=va_labels,\n",
    "        size=cfg.size,\n",
    "        transform=cfg.valid_transform\n",
    "    )\n",
    "\n",
    "    dataloaders = {\n",
    "        \"train\" : DL(tr_data_setup, batch_size=cfg.batch_size, shuffle=True, generator=torch.manual_seed(cfg.seed)),\n",
    "        \"valid\" : DL(va_data_setup, batch_size=cfg.batch_size, shuffle=False),\n",
    "    }\n",
    "\n",
    "    cfg = CFG(\n",
    "        epochs=25, \n",
    "        batch_size=64, \n",
    "        early_stopping=5,\n",
    "        steps_per_epoch=len(dataloaders[\"train\"])\n",
    "    )\n",
    "    \n",
    "    torch.manual_seed(cfg.seed)\n",
    "    model = Model(model_name=model_name).to(cfg.device)\n",
    "\n",
    "    optimizer = optim.Adam([p for p in model.parameters() if p.requires_grad], lr=cfg.lr, weight_decay=cfg.wd)\n",
    "    # optimizer = optim.AdamW([p for p in model.parameters() if p.requires_grad], lr=cfg.lr, weight_decay=cfg.wd)\n",
    "    # optimizer = optim.SGD([p for p in model.parameters() if p.requires_grad], lr=cfg.lr, weight_decay=cfg.wd, momentum=0.9)\n",
    "    \n",
    "    scheduler_oclr = optim.lr_scheduler.OneCycleLR(\n",
    "        optimizer=optimizer, \n",
    "        max_lr=cfg.max_lr, \n",
    "        epochs=cfg.epochs, \n",
    "        steps_per_epoch=cfg.steps_per_epoch,\n",
    "        pct_start=cfg.pct_start, \n",
    "        div_factor=cfg.div_factor, \n",
    "        final_div_factor=cfg.final_div_factor\n",
    "    )\n",
    "\n",
    "    # scheduler_rlrop = optim.lr_scheduler.ReduceLROnPlateau(\n",
    "    #     optimizer=optimizer,\n",
    "    #     patience=cfg.patience,\n",
    "    #     eps=cfg.eps,\n",
    "    #     verbose=True\n",
    "    # )\n",
    "\n",
    "    # scheduler_oclr = None\n",
    "    scheduler_rlrop = None\n",
    "    \n",
    "    L, LR, BLE, _ = fit(\n",
    "        model=model, \n",
    "        model_name=model_name,\n",
    "        optimizer=optimizer, \n",
    "        scheduler_oclr=scheduler_oclr,\n",
    "        scheduler_rlrop=scheduler_rlrop,\n",
    "        epochs=cfg.epochs, \n",
    "        early_stopping_patience=cfg.early_stopping, \n",
    "        dataloaders=dataloaders, \n",
    "        device=cfg.device,\n",
    "        save_path=cfg.save_path,\n",
    "        fold=fold,\n",
    "        verbose=True\n",
    "    )\n",
    "    \n",
    "    breaker()\n",
    "    show_loss_graphs(L)\n",
    "    breaker()\n",
    "    if scheduler_oclr:\n",
    "        show_lr_graph(LR)\n",
    "        breaker()\n",
    "    \n",
    "    BLEs.append(BLE)\n",
    "    \n",
    "    fold += 1"
   ]
  },
  {
   "cell_type": "markdown",
   "id": "7508069e",
   "metadata": {
    "papermill": {
     "duration": 0.010391,
     "end_time": "2022-09-10T03:28:56.045770",
     "exception": false,
     "start_time": "2022-09-10T03:28:56.035379",
     "status": "completed"
    },
    "tags": []
   },
   "source": [
    "### **Best Model**"
   ]
  },
  {
   "cell_type": "code",
   "execution_count": 10,
   "id": "8a0af5b6",
   "metadata": {
    "execution": {
     "iopub.execute_input": "2022-09-10T03:28:56.068286Z",
     "iopub.status.busy": "2022-09-10T03:28:56.067974Z",
     "iopub.status.idle": "2022-09-10T03:28:56.073613Z",
     "shell.execute_reply": "2022-09-10T03:28:56.072686Z"
    },
    "papermill": {
     "duration": 0.019504,
     "end_time": "2022-09-10T03:28:56.076063",
     "exception": false,
     "start_time": "2022-09-10T03:28:56.056559",
     "status": "completed"
    },
    "tags": []
   },
   "outputs": [
    {
     "name": "stdout",
     "output_type": "stream",
     "text": [
      "\n",
      "**************************************************\n",
      "\n",
      "Best Loss Model Fold : 2\n",
      "\n",
      "**************************************************\n",
      "\n"
     ]
    }
   ],
   "source": [
    "best_loss_index = BLEs.index(min(BLEs))\n",
    "\n",
    "breaker()\n",
    "print(f\"Best Loss Model Fold : {best_loss_index + 1}\")\n",
    "breaker()"
   ]
  }
 ],
 "metadata": {
  "kernelspec": {
   "display_name": "Python 3",
   "language": "python",
   "name": "python3"
  },
  "language_info": {
   "codemirror_mode": {
    "name": "ipython",
    "version": 3
   },
   "file_extension": ".py",
   "mimetype": "text/x-python",
   "name": "python",
   "nbconvert_exporter": "python",
   "pygments_lexer": "ipython3",
   "version": "3.7.12"
  },
  "papermill": {
   "default_parameters": {},
   "duration": 9403.285919,
   "end_time": "2022-09-10T03:28:57.724619",
   "environment_variables": {},
   "exception": null,
   "input_path": "__notebook__.ipynb",
   "output_path": "__notebook__.ipynb",
   "parameters": {},
   "start_time": "2022-09-10T00:52:14.438700",
   "version": "2.3.4"
  }
 },
 "nbformat": 4,
 "nbformat_minor": 5
}
