{
 "cells": [
  {
   "cell_type": "markdown",
   "id": "b536f864",
   "metadata": {
    "_cell_guid": "b1076dfc-b9ad-4769-8c92-a6c4dae69d19",
    "_uuid": "8f2839f25d086af736a60e9eeb907d3b93b6e0e5",
    "papermill": {
     "duration": 0.005221,
     "end_time": "2022-09-10T10:51:39.054728",
     "exception": false,
     "start_time": "2022-09-10T10:51:39.049507",
     "status": "completed"
    },
    "tags": []
   },
   "source": [
    "### **Setup**"
   ]
  },
  {
   "cell_type": "code",
   "execution_count": 1,
   "id": "0848b0d6",
   "metadata": {
    "execution": {
     "iopub.execute_input": "2022-09-10T10:51:39.065138Z",
     "iopub.status.busy": "2022-09-10T10:51:39.063936Z",
     "iopub.status.idle": "2022-09-10T10:51:51.534815Z",
     "shell.execute_reply": "2022-09-10T10:51:51.533667Z"
    },
    "papermill": {
     "duration": 12.478567,
     "end_time": "2022-09-10T10:51:51.537310",
     "exception": false,
     "start_time": "2022-09-10T10:51:39.058743",
     "status": "completed"
    },
    "tags": []
   },
   "outputs": [
    {
     "name": "stderr",
     "output_type": "stream",
     "text": [
      "WARNING: Running pip as the 'root' user can result in broken permissions and conflicting behaviour with the system package manager. It is recommended to use a virtual environment instead: https://pip.pypa.io/warnings/venv\n"
     ]
    }
   ],
   "source": [
    "%%bash\n",
    "pip install timm -q"
   ]
  },
  {
   "cell_type": "markdown",
   "id": "e02a747f",
   "metadata": {
    "papermill": {
     "duration": 0.003718,
     "end_time": "2022-09-10T10:51:51.545401",
     "exception": false,
     "start_time": "2022-09-10T10:51:51.541683",
     "status": "completed"
    },
    "tags": []
   },
   "source": [
    "### **Library Imports**"
   ]
  },
  {
   "cell_type": "code",
   "execution_count": 2,
   "id": "4c76c729",
   "metadata": {
    "execution": {
     "iopub.execute_input": "2022-09-10T10:51:51.554831Z",
     "iopub.status.busy": "2022-09-10T10:51:51.554507Z",
     "iopub.status.idle": "2022-09-10T10:51:55.180211Z",
     "shell.execute_reply": "2022-09-10T10:51:55.178785Z"
    },
    "papermill": {
     "duration": 3.634187,
     "end_time": "2022-09-10T10:51:55.183439",
     "exception": false,
     "start_time": "2022-09-10T10:51:51.549252",
     "status": "completed"
    },
    "tags": []
   },
   "outputs": [],
   "source": [
    "import os\n",
    "import re\n",
    "import cv2\n",
    "import timm\n",
    "import torch\n",
    "import numpy as np\n",
    "import pandas as pd\n",
    "import matplotlib.pyplot as plt\n",
    "\n",
    "from time import time\n",
    "from torch import nn, optim\n",
    "from torch.utils.data import Dataset\n",
    "from torch.utils.data import DataLoader as DL\n",
    "from torchvision import models, transforms\n",
    "\n",
    "from sklearn.model_selection import KFold"
   ]
  },
  {
   "cell_type": "markdown",
   "id": "4d1f3835",
   "metadata": {
    "papermill": {
     "duration": 0.006657,
     "end_time": "2022-09-10T10:51:55.197007",
     "exception": false,
     "start_time": "2022-09-10T10:51:55.190350",
     "status": "completed"
    },
    "tags": []
   },
   "source": [
    "### **Utilities and Helpers**"
   ]
  },
  {
   "cell_type": "code",
   "execution_count": 3,
   "id": "474a53e5",
   "metadata": {
    "execution": {
     "iopub.execute_input": "2022-09-10T10:51:55.211533Z",
     "iopub.status.busy": "2022-09-10T10:51:55.210749Z",
     "iopub.status.idle": "2022-09-10T10:51:55.226048Z",
     "shell.execute_reply": "2022-09-10T10:51:55.225010Z"
    },
    "papermill": {
     "duration": 0.024832,
     "end_time": "2022-09-10T10:51:55.228393",
     "exception": false,
     "start_time": "2022-09-10T10:51:55.203561",
     "status": "completed"
    },
    "tags": []
   },
   "outputs": [],
   "source": [
    "SEED = 42\n",
    "SIZE = 384\n",
    "\n",
    "\n",
    "def breaker(num: int=50, char: str=\"*\") -> None:\n",
    "    print(\"\\n\" + num*char + \"\\n\")\n",
    "\n",
    "    \n",
    "def get_image(path: str, size: int=224) -> np.ndarray:\n",
    "    image = cv2.imread(path, cv2.IMREAD_COLOR)\n",
    "    image = cv2.cvtColor(src=image, code=cv2.COLOR_BGR2RGB)\n",
    "    return cv2.resize(src=image, dsize=(size, size), interpolation=cv2.INTER_AREA)\n",
    "\n",
    "\n",
    "def show_loss_graphs(L: list) -> None:\n",
    "    TL, VL = [], []\n",
    "    for i in range(len(L)):\n",
    "        TL.append(L[i][\"train\"])\n",
    "        VL.append(L[i][\"valid\"])\n",
    "    x_Axis = np.arange(1, len(TL) + 1)\n",
    "    plt.figure()\n",
    "    plt.plot(x_Axis, TL, \"r\", label=\"Train\")\n",
    "    plt.plot(x_Axis, VL, \"b\", label=\"Valid\")\n",
    "    plt.legend()\n",
    "    plt.grid()\n",
    "    plt.title(\"Loss Graph\")\n",
    "    plt.show()\n",
    "    \n",
    "\n",
    "def show_lr_graph(LR: list) -> None:\n",
    "    x_Axis = [i+1 for i in range(len(LR))]\n",
    "    plt.figure(figsize=(8, 6))\n",
    "    plt.plot(x_Axis, LR, \"rx\")\n",
    "    plt.grid()\n",
    "    plt.show()"
   ]
  },
  {
   "cell_type": "markdown",
   "id": "e8d7e5a8",
   "metadata": {
    "papermill": {
     "duration": 0.005948,
     "end_time": "2022-09-10T10:51:55.241577",
     "exception": false,
     "start_time": "2022-09-10T10:51:55.235629",
     "status": "completed"
    },
    "tags": []
   },
   "source": [
    "### **Configuration**"
   ]
  },
  {
   "cell_type": "code",
   "execution_count": 4,
   "id": "4cb2119b",
   "metadata": {
    "execution": {
     "iopub.execute_input": "2022-09-10T10:51:55.255390Z",
     "iopub.status.busy": "2022-09-10T10:51:55.254906Z",
     "iopub.status.idle": "2022-09-10T10:51:55.332082Z",
     "shell.execute_reply": "2022-09-10T10:51:55.330826Z"
    },
    "papermill": {
     "duration": 0.087137,
     "end_time": "2022-09-10T10:51:55.334855",
     "exception": false,
     "start_time": "2022-09-10T10:51:55.247718",
     "status": "completed"
    },
    "tags": []
   },
   "outputs": [],
   "source": [
    "class CFG(object):\n",
    "    def __init__(self, \n",
    "                 seed: int = 42,\n",
    "                 size: int = 224,\n",
    "                 n_splits: int = 5,\n",
    "                 batch_size: int = 16,\n",
    "                 epochs: int = 25,\n",
    "                 early_stopping: int = 5,\n",
    "                 lr: float = 1e-4,\n",
    "                 wd: float = 0.0,\n",
    "                 max_lr: float = 1e-3,\n",
    "                 pct_start: float = 0.2,\n",
    "                 steps_per_epoch: int = 100,\n",
    "                 div_factor: int = 1e3, \n",
    "                 final_div_factor: float = 1e3,\n",
    "                 ):\n",
    "        self.seed = seed\n",
    "        self.size = size\n",
    "        self.n_splits = n_splits\n",
    "        self.batch_size = batch_size\n",
    "        self.epochs = epochs\n",
    "        self.early_stopping = early_stopping\n",
    "        self.lr = lr\n",
    "        self.wd = wd\n",
    "        self.max_lr = max_lr\n",
    "        self.pct_start = pct_start\n",
    "        self.steps_per_epoch = steps_per_epoch\n",
    "        self.div_factor = div_factor\n",
    "        self.final_div_factor = final_div_factor\n",
    "        self.device = torch.device(\"cuda\" if torch.cuda.is_available() else \"cpu\")\n",
    "        self.train_transform = transforms.Compose([\n",
    "            transforms.ToTensor(),\n",
    "            transforms.Normalize([0.44811, 0.42458, 0.39159], [0.23526, 0.22963, 0.23221]),\n",
    "            transforms.RandomAffine(degrees=(-45, 45), translate=(0.15, 0.15), scale=(0.5, 1.5)),\n",
    "            transforms.RandomHorizontalFlip(p=0.25),\n",
    "            transforms.RandomVerticalFlip(p=0.25),\n",
    "        ])\n",
    "        self.valid_transform = transforms.Compose([\n",
    "            transforms.ToTensor(),\n",
    "            transforms.Normalize([0.44811, 0.42458, 0.39159], [0.23526, 0.22963, 0.23221]),\n",
    "        ])\n",
    "                                \n",
    "        self.save_path = \"saves\"\n",
    "        if not os.path.exists(self.save_path): os.makedirs(self.save_path)\n",
    "    \n",
    "cfg = CFG(seed=SEED, size=SIZE)"
   ]
  },
  {
   "cell_type": "markdown",
   "id": "300add8d",
   "metadata": {
    "papermill": {
     "duration": 0.005924,
     "end_time": "2022-09-10T10:51:55.347648",
     "exception": false,
     "start_time": "2022-09-10T10:51:55.341724",
     "status": "completed"
    },
    "tags": []
   },
   "source": [
    "### **Dataset Template**"
   ]
  },
  {
   "cell_type": "code",
   "execution_count": 5,
   "id": "3883d94f",
   "metadata": {
    "execution": {
     "iopub.execute_input": "2022-09-10T10:51:55.361155Z",
     "iopub.status.busy": "2022-09-10T10:51:55.360667Z",
     "iopub.status.idle": "2022-09-10T10:51:55.371379Z",
     "shell.execute_reply": "2022-09-10T10:51:55.370361Z"
    },
    "papermill": {
     "duration": 0.020418,
     "end_time": "2022-09-10T10:51:55.374113",
     "exception": false,
     "start_time": "2022-09-10T10:51:55.353695",
     "status": "completed"
    },
    "tags": []
   },
   "outputs": [],
   "source": [
    "class DS(Dataset):\n",
    "    def __init__(\n",
    "        self, \n",
    "        base_path: str,\n",
    "        filenames: np.ndarray, \n",
    "        labels: np.ndarray, \n",
    "        size: int,\n",
    "        transform=None):\n",
    "        \n",
    "        self.base_path = base_path\n",
    "        self.filenames = filenames\n",
    "        self.labels = labels\n",
    "        self.size = size\n",
    "        self.transform = transform\n",
    "    \n",
    "    def __len__(self):\n",
    "        return self.filenames.shape[0]\n",
    "    \n",
    "    def __getitem__(self, idx):\n",
    "        path = os.path.join(self.base_path, self.filenames[idx])\n",
    "        image = get_image(path, self.size)\n",
    "        return self.transform(image), self.labels[idx]"
   ]
  },
  {
   "cell_type": "markdown",
   "id": "3963b654",
   "metadata": {
    "papermill": {
     "duration": 0.005962,
     "end_time": "2022-09-10T10:51:55.386527",
     "exception": false,
     "start_time": "2022-09-10T10:51:55.380565",
     "status": "completed"
    },
    "tags": []
   },
   "source": [
    "### **Model**"
   ]
  },
  {
   "cell_type": "code",
   "execution_count": 6,
   "id": "84cb8ef3",
   "metadata": {
    "execution": {
     "iopub.execute_input": "2022-09-10T10:51:55.400255Z",
     "iopub.status.busy": "2022-09-10T10:51:55.399794Z",
     "iopub.status.idle": "2022-09-10T10:51:55.409509Z",
     "shell.execute_reply": "2022-09-10T10:51:55.408590Z"
    },
    "papermill": {
     "duration": 0.018689,
     "end_time": "2022-09-10T10:51:55.411656",
     "exception": false,
     "start_time": "2022-09-10T10:51:55.392967",
     "status": "completed"
    },
    "tags": []
   },
   "outputs": [],
   "source": [
    "class Model(nn.Module):\n",
    "    def __init__(self):\n",
    "        super(Model, self).__init__()\n",
    "            \n",
    "        self.model = timm.create_model(model_name=\"tf_efficientnet_b5\")\n",
    "        self.model.classifier = nn.Linear(in_features=self.model.classifier.in_features, out_features=23) \n",
    "            \n",
    "    def freeze(self):\n",
    "        for params in self.parameters(): params.requires_grad = False\n",
    "\n",
    "    def forward(self, x):\n",
    "        return self.model(x)"
   ]
  },
  {
   "cell_type": "markdown",
   "id": "077dad49",
   "metadata": {
    "papermill": {
     "duration": 0.005857,
     "end_time": "2022-09-10T10:51:55.423302",
     "exception": false,
     "start_time": "2022-09-10T10:51:55.417445",
     "status": "completed"
    },
    "tags": []
   },
   "source": [
    "### **Fit and Predict**"
   ]
  },
  {
   "cell_type": "code",
   "execution_count": 7,
   "id": "5559ee88",
   "metadata": {
    "execution": {
     "iopub.execute_input": "2022-09-10T10:51:55.436443Z",
     "iopub.status.busy": "2022-09-10T10:51:55.436078Z",
     "iopub.status.idle": "2022-09-10T10:51:55.473393Z",
     "shell.execute_reply": "2022-09-10T10:51:55.471771Z"
    },
    "papermill": {
     "duration": 0.046803,
     "end_time": "2022-09-10T10:51:55.475893",
     "exception": false,
     "start_time": "2022-09-10T10:51:55.429090",
     "status": "completed"
    },
    "tags": []
   },
   "outputs": [],
   "source": [
    "def fit(model=None,\n",
    "        optimizer=None, \n",
    "        scheduler_rlrop=None,\n",
    "        scheduler_oclr=None,\n",
    "        epochs=None, \n",
    "        early_stopping_patience=None, \n",
    "        dataloaders=None, \n",
    "        fold=None, \n",
    "        save_path=None,\n",
    "        device=None,\n",
    "        verbose=False) -> tuple:    \n",
    "    \n",
    "    if verbose:\n",
    "        breaker()\n",
    "        if fold: print(f\"Training Fold {fold}...\")\n",
    "        else: print(\"Training ...\")\n",
    "        breaker()\n",
    "        \n",
    "    bestLoss: dict = {\"train\" : np.inf, \"valid\" : np.inf} \n",
    "        \n",
    "    Losses: list = []\n",
    "    LRs: list = []\n",
    "        \n",
    "    if fold: ble_name = f\"ble_state_fold_{fold}.pt\"\n",
    "    else: ble_name = f\"ble_state.pt\"\n",
    "    \n",
    "    start_time = time()\n",
    "    for e in range(epochs):\n",
    "        e_st = time()\n",
    "        epochLoss: dict = {\"train\" : 0.0, \"valid\" : 0.0} \n",
    "\n",
    "        for phase in [\"train\", \"valid\"]:\n",
    "            if phase == \"train\": model.train()\n",
    "            else: model.eval()\n",
    "            \n",
    "            lossPerPass: list = []\n",
    "                \n",
    "            for X, y in dataloaders[phase]:\n",
    "                X, y = X.to(device), y.to(device)\n",
    "\n",
    "                optimizer.zero_grad()\n",
    "                with torch.set_grad_enabled(phase == \"train\"):\n",
    "                    output = model(X)\n",
    "                    loss = torch.nn.BCEWithLogitsLoss()(output, y)\n",
    "                    if phase == \"train\":\n",
    "                        loss.backward()\n",
    "                        optimizer.step()\n",
    "                        if scheduler_oclr: scheduler_oclr.step()\n",
    "                lossPerPass.append(loss.item())\n",
    "            epochLoss[phase] = np.mean(np.array(lossPerPass))\n",
    "        if scheduler_oclr: LRs.append(scheduler_oclr.get_last_lr())\n",
    "        Losses.append(epochLoss)\n",
    "    \n",
    "        if scheduler_oclr:\n",
    "            save_dict = {\"model_state_dict\"     : model.state_dict(),\n",
    "                         \"optim_state_dict\"     : optimizer.state_dict(),\n",
    "                         \"scheduler_state_dict\" : scheduler_oclr.state_dict()}\n",
    "        \n",
    "        elif scheduler_rlrop:\n",
    "            save_dict = {\"model_state_dict\"     : model.state_dict(),\n",
    "                         \"optim_state_dict\"     : optimizer.state_dict(),\n",
    "                         \"scheduler_state_dict\" : scheduler_rlrop.state_dict()}\n",
    "        \n",
    "        else:\n",
    "            save_dict = {\"model_state_dict\"     : model.state_dict(),\n",
    "                         \"optim_state_dict\"     : optimizer.state_dict()}\n",
    "        \n",
    "        \n",
    "        if early_stopping_patience:\n",
    "            if epochLoss[\"valid\"] < bestLoss[\"valid\"]:\n",
    "                bestLoss = epochLoss\n",
    "                BLE = e + 1\n",
    "                torch.save(save_dict, os.path.join(save_path, ble_name))\n",
    "                early_stopping_step = 0\n",
    "            else:\n",
    "                early_stopping_step += 1\n",
    "                if early_stopping_step > early_stopping_patience:\n",
    "                    print(\"\\nEarly Stopping at Epoch {}\".format(e + 1))\n",
    "                    break\n",
    "        \n",
    "        if epochLoss[\"valid\"] < bestLoss[\"valid\"]:\n",
    "            bestLoss = epochLoss\n",
    "            BLE = e + 1\n",
    "            torch.save(save_dict,os.path.join(save_path, ble_name))\n",
    "        \n",
    "        if scheduler_rlrop: scheduler_rlrop.step(epochLoss[\"valid\"])\n",
    "        \n",
    "        if verbose:\n",
    "            print(\"Epoch: {} | Train Loss: {:.5f} | Valid Loss: {:.5f} | Time: {:.2f} seconds\".format(e+1, epochLoss[\"train\"], epochLoss[\"valid\"], time()-e_st))\n",
    "\n",
    "    if verbose:                                           \n",
    "        breaker()\n",
    "        print(f\"Best Validation Loss at Epoch {BLE}\")\n",
    "        breaker()\n",
    "        print(\"Time Taken [{} Epochs] : {:.2f} minutes\".format(len(Losses), (time()-start_time)/60))\n",
    "    \n",
    "    return Losses, LRs, BLE, ble_name\n",
    "\n",
    "\n",
    "def predict_batch(\n",
    "    model=None, \n",
    "    dataloader=None, \n",
    "    path=None, \n",
    "    device=None\n",
    ") -> np.ndarray:\n",
    "    \n",
    "    model.load_state_dict(torch.load(path, map_location=device)[\"model_state_dict\"])\n",
    "    model.to(device)    \n",
    "    model.eval()\n",
    "    \n",
    "    y_pred = torch.zeros(1, 23).to(device)\n",
    "    \n",
    "    for X in dataloader:\n",
    "        X = X.to(device)\n",
    "        with torch.no_grad():\n",
    "            output = torch.sigmoid(model(X))\n",
    "        y_pred = torch.cat((y_pred, output), dim=0)\n",
    "    \n",
    "    return y_pred[1:].detach().cpu().numpy()"
   ]
  },
  {
   "cell_type": "markdown",
   "id": "42bc4faa",
   "metadata": {
    "papermill": {
     "duration": 0.004655,
     "end_time": "2022-09-10T10:51:55.484758",
     "exception": false,
     "start_time": "2022-09-10T10:51:55.480103",
     "status": "completed"
    },
    "tags": []
   },
   "source": [
    "### **Train**"
   ]
  },
  {
   "cell_type": "code",
   "execution_count": 8,
   "id": "2a9ee044",
   "metadata": {
    "execution": {
     "iopub.execute_input": "2022-09-10T10:51:55.493679Z",
     "iopub.status.busy": "2022-09-10T10:51:55.493382Z",
     "iopub.status.idle": "2022-09-10T10:51:55.545694Z",
     "shell.execute_reply": "2022-09-10T10:51:55.544763Z"
    },
    "papermill": {
     "duration": 0.059441,
     "end_time": "2022-09-10T10:51:55.548069",
     "exception": false,
     "start_time": "2022-09-10T10:51:55.488628",
     "status": "completed"
    },
    "tags": []
   },
   "outputs": [],
   "source": [
    "df = pd.read_csv(\"../input/com3025-2022-challenge-week-6-7-extended-extend/train.csv\")\n",
    "\n",
    "filenames = df.file_name.copy().values\n",
    "labels = df.iloc[:, 1:].copy().values"
   ]
  },
  {
   "cell_type": "code",
   "execution_count": 9,
   "id": "c5d15055",
   "metadata": {
    "execution": {
     "iopub.execute_input": "2022-09-10T10:51:55.557845Z",
     "iopub.status.busy": "2022-09-10T10:51:55.557553Z",
     "iopub.status.idle": "2022-09-10T15:41:24.673269Z",
     "shell.execute_reply": "2022-09-10T15:41:24.672284Z"
    },
    "papermill": {
     "duration": 17369.123557,
     "end_time": "2022-09-10T15:41:24.675805",
     "exception": false,
     "start_time": "2022-09-10T10:51:55.552248",
     "status": "completed"
    },
    "tags": []
   },
   "outputs": [
    {
     "name": "stdout",
     "output_type": "stream",
     "text": [
      "\n",
      "**************************************************\n",
      "\n",
      "Training Fold 1...\n",
      "\n",
      "**************************************************\n",
      "\n",
      "Epoch: 1 | Train Loss: 0.51662 | Valid Loss: 0.39745 | Time: 288.42 seconds\n",
      "Epoch: 2 | Train Loss: 0.23853 | Valid Loss: 0.25802 | Time: 240.10 seconds\n",
      "Epoch: 3 | Train Loss: 0.23494 | Valid Loss: 0.23200 | Time: 240.21 seconds\n",
      "Epoch: 4 | Train Loss: 0.23328 | Valid Loss: 0.22709 | Time: 240.93 seconds\n",
      "Epoch: 5 | Train Loss: 0.23079 | Valid Loss: 0.23321 | Time: 240.61 seconds\n",
      "Epoch: 6 | Train Loss: 0.23138 | Valid Loss: 0.22777 | Time: 240.49 seconds\n",
      "Epoch: 7 | Train Loss: 0.22758 | Valid Loss: 0.22070 | Time: 241.00 seconds\n",
      "Epoch: 8 | Train Loss: 0.22555 | Valid Loss: 0.21888 | Time: 241.59 seconds\n",
      "Epoch: 9 | Train Loss: 0.22354 | Valid Loss: 0.21759 | Time: 240.68 seconds\n",
      "Epoch: 10 | Train Loss: 0.22283 | Valid Loss: 0.21647 | Time: 241.53 seconds\n",
      "Epoch: 11 | Train Loss: 0.22085 | Valid Loss: 0.21771 | Time: 239.41 seconds\n",
      "Epoch: 12 | Train Loss: 0.21844 | Valid Loss: 0.21040 | Time: 240.30 seconds\n",
      "Epoch: 13 | Train Loss: 0.21771 | Valid Loss: 0.20843 | Time: 241.69 seconds\n",
      "Epoch: 14 | Train Loss: 0.21540 | Valid Loss: 0.20820 | Time: 241.15 seconds\n",
      "Epoch: 15 | Train Loss: 0.21359 | Valid Loss: 0.20917 | Time: 239.56 seconds\n",
      "Epoch: 16 | Train Loss: 0.21020 | Valid Loss: 0.21004 | Time: 239.50 seconds\n",
      "Epoch: 17 | Train Loss: 0.20984 | Valid Loss: 0.20053 | Time: 241.16 seconds\n",
      "Epoch: 18 | Train Loss: 0.20511 | Valid Loss: 0.19617 | Time: 240.19 seconds\n",
      "Epoch: 19 | Train Loss: 0.20347 | Valid Loss: 0.19438 | Time: 240.56 seconds\n",
      "Epoch: 20 | Train Loss: 0.20137 | Valid Loss: 0.19166 | Time: 240.15 seconds\n",
      "Epoch: 21 | Train Loss: 0.19828 | Valid Loss: 0.19080 | Time: 241.02 seconds\n",
      "Epoch: 22 | Train Loss: 0.19751 | Valid Loss: 0.19046 | Time: 239.10 seconds\n",
      "Epoch: 23 | Train Loss: 0.19569 | Valid Loss: 0.18870 | Time: 239.00 seconds\n",
      "Epoch: 24 | Train Loss: 0.19559 | Valid Loss: 0.18807 | Time: 238.33 seconds\n",
      "Epoch: 25 | Train Loss: 0.19379 | Valid Loss: 0.18822 | Time: 237.38 seconds\n",
      "\n",
      "**************************************************\n",
      "\n",
      "Best Validation Loss at Epoch 24\n",
      "\n",
      "**************************************************\n",
      "\n",
      "Time Taken [25 Epochs] : 100.90 minutes\n",
      "\n",
      "**************************************************\n",
      "\n"
     ]
    },
    {
     "data": {
      "image/png": "[encoded data removed]",
      "text/plain": [
       "<Figure size 432x288 with 1 Axes>"
      ]
     },
     "metadata": {
      "needs_background": "light"
     },
     "output_type": "display_data"
    },
    {
     "name": "stdout",
     "output_type": "stream",
     "text": [
      "\n",
      "**************************************************\n",
      "\n"
     ]
    },
    {
     "data": {
      "image/png": "[encoded data removed]",
      "text/plain": [
       "<Figure size 576x432 with 1 Axes>"
      ]
     },
     "metadata": {
      "needs_background": "light"
     },
     "output_type": "display_data"
    },
    {
     "name": "stdout",
     "output_type": "stream",
     "text": [
      "\n",
      "**************************************************\n",
      "\n",
      "\n",
      "**************************************************\n",
      "\n",
      "Training Fold 2...\n",
      "\n",
      "**************************************************\n",
      "\n",
      "Epoch: 1 | Train Loss: 0.59356 | Valid Loss: 0.39230 | Time: 113.26 seconds\n",
      "Epoch: 2 | Train Loss: 0.24902 | Valid Loss: 0.33778 | Time: 113.86 seconds\n",
      "Epoch: 3 | Train Loss: 0.23729 | Valid Loss: 0.27490 | Time: 113.12 seconds\n",
      "Epoch: 4 | Train Loss: 0.23437 | Valid Loss: 0.23049 | Time: 114.11 seconds\n",
      "Epoch: 5 | Train Loss: 0.23289 | Valid Loss: 0.22019 | Time: 113.86 seconds\n",
      "Epoch: 6 | Train Loss: 0.23047 | Valid Loss: 0.22564 | Time: 112.54 seconds\n",
      "Epoch: 7 | Train Loss: 0.22883 | Valid Loss: 0.21898 | Time: 113.64 seconds\n",
      "Epoch: 8 | Train Loss: 0.22718 | Valid Loss: 0.21659 | Time: 113.33 seconds\n",
      "Epoch: 9 | Train Loss: 0.22605 | Valid Loss: 0.21660 | Time: 112.84 seconds\n",
      "Epoch: 10 | Train Loss: 0.22434 | Valid Loss: 0.21008 | Time: 112.89 seconds\n",
      "Epoch: 11 | Train Loss: 0.22409 | Valid Loss: 0.21298 | Time: 112.33 seconds\n",
      "Epoch: 12 | Train Loss: 0.22038 | Valid Loss: 0.21075 | Time: 112.04 seconds\n",
      "Epoch: 13 | Train Loss: 0.22001 | Valid Loss: 0.20465 | Time: 113.00 seconds\n",
      "Epoch: 14 | Train Loss: 0.21879 | Valid Loss: 0.21018 | Time: 111.90 seconds\n",
      "Epoch: 15 | Train Loss: 0.21620 | Valid Loss: 0.20398 | Time: 113.16 seconds\n",
      "Epoch: 16 | Train Loss: 0.21371 | Valid Loss: 0.20274 | Time: 113.79 seconds\n",
      "Epoch: 17 | Train Loss: 0.21264 | Valid Loss: 0.20030 | Time: 113.21 seconds\n",
      "Epoch: 18 | Train Loss: 0.21090 | Valid Loss: 0.19597 | Time: 113.51 seconds\n",
      "Epoch: 19 | Train Loss: 0.20989 | Valid Loss: 0.19692 | Time: 112.14 seconds\n",
      "Epoch: 20 | Train Loss: 0.20627 | Valid Loss: 0.19357 | Time: 113.50 seconds\n",
      "Epoch: 21 | Train Loss: 0.20453 | Valid Loss: 0.19212 | Time: 112.63 seconds\n",
      "Epoch: 22 | Train Loss: 0.20277 | Valid Loss: 0.19179 | Time: 113.72 seconds\n",
      "Epoch: 23 | Train Loss: 0.20087 | Valid Loss: 0.19142 | Time: 112.99 seconds\n",
      "Epoch: 24 | Train Loss: 0.20119 | Valid Loss: 0.19017 | Time: 113.57 seconds\n",
      "Epoch: 25 | Train Loss: 0.20050 | Valid Loss: 0.19104 | Time: 112.14 seconds\n",
      "\n",
      "**************************************************\n",
      "\n",
      "Best Validation Loss at Epoch 24\n",
      "\n",
      "**************************************************\n",
      "\n",
      "Time Taken [25 Epochs] : 47.12 minutes\n",
      "\n",
      "**************************************************\n",
      "\n"
     ]
    },
    {
     "data": {
      "image/png": "[encoded data removed]",
      "text/plain": [
       "<Figure size 432x288 with 1 Axes>"
      ]
     },
     "metadata": {
      "needs_background": "light"
     },
     "output_type": "display_data"
    },
    {
     "name": "stdout",
     "output_type": "stream",
     "text": [
      "\n",
      "**************************************************\n",
      "\n"
     ]
    },
    {
     "data": {
      "image/png": "[encoded data removed]",
      "text/plain": [
       "<Figure size 576x432 with 1 Axes>"
      ]
     },
     "metadata": {
      "needs_background": "light"
     },
     "output_type": "display_data"
    },
    {
     "name": "stdout",
     "output_type": "stream",
     "text": [
      "\n",
      "**************************************************\n",
      "\n",
      "\n",
      "**************************************************\n",
      "\n",
      "Training Fold 3...\n",
      "\n",
      "**************************************************\n",
      "\n",
      "Epoch: 1 | Train Loss: 0.59074 | Valid Loss: 0.34489 | Time: 113.18 seconds\n",
      "Epoch: 2 | Train Loss: 0.24842 | Valid Loss: 0.37871 | Time: 112.63 seconds\n",
      "Epoch: 3 | Train Loss: 0.23532 | Valid Loss: 0.24293 | Time: 113.10 seconds\n",
      "Epoch: 4 | Train Loss: 0.23226 | Valid Loss: 0.23666 | Time: 113.62 seconds\n",
      "Epoch: 5 | Train Loss: 0.23065 | Valid Loss: 0.23241 | Time: 113.24 seconds\n",
      "Epoch: 6 | Train Loss: 0.22865 | Valid Loss: 0.22846 | Time: 113.62 seconds\n",
      "Epoch: 7 | Train Loss: 0.22667 | Valid Loss: 0.22829 | Time: 112.71 seconds\n",
      "Epoch: 8 | Train Loss: 0.22538 | Valid Loss: 0.22018 | Time: 113.53 seconds\n",
      "Epoch: 9 | Train Loss: 0.22314 | Valid Loss: 0.23449 | Time: 112.25 seconds\n",
      "Epoch: 10 | Train Loss: 0.22167 | Valid Loss: 0.22158 | Time: 112.09 seconds\n",
      "Epoch: 11 | Train Loss: 0.22031 | Valid Loss: 0.21748 | Time: 112.95 seconds\n",
      "Epoch: 12 | Train Loss: 0.21991 | Valid Loss: 0.21303 | Time: 113.93 seconds\n",
      "Epoch: 13 | Train Loss: 0.21761 | Valid Loss: 0.21453 | Time: 112.42 seconds\n",
      "Epoch: 14 | Train Loss: 0.21555 | Valid Loss: 0.21125 | Time: 112.98 seconds\n",
      "Epoch: 15 | Train Loss: 0.21475 | Valid Loss: 0.21062 | Time: 113.13 seconds\n",
      "Epoch: 16 | Train Loss: 0.21163 | Valid Loss: 0.20870 | Time: 113.21 seconds\n",
      "Epoch: 17 | Train Loss: 0.20955 | Valid Loss: 0.20866 | Time: 113.16 seconds\n",
      "Epoch: 18 | Train Loss: 0.20913 | Valid Loss: 0.20196 | Time: 113.28 seconds\n",
      "Epoch: 19 | Train Loss: 0.20689 | Valid Loss: 0.20227 | Time: 112.70 seconds\n",
      "Epoch: 20 | Train Loss: 0.20570 | Valid Loss: 0.19989 | Time: 112.83 seconds\n",
      "Epoch: 21 | Train Loss: 0.20321 | Valid Loss: 0.19870 | Time: 113.18 seconds\n",
      "Epoch: 22 | Train Loss: 0.20125 | Valid Loss: 0.19750 | Time: 114.55 seconds\n",
      "Epoch: 23 | Train Loss: 0.20028 | Valid Loss: 0.19635 | Time: 113.18 seconds\n",
      "Epoch: 24 | Train Loss: 0.19886 | Valid Loss: 0.19616 | Time: 113.73 seconds\n",
      "Epoch: 25 | Train Loss: 0.19873 | Valid Loss: 0.19606 | Time: 113.56 seconds\n",
      "\n",
      "**************************************************\n",
      "\n",
      "Best Validation Loss at Epoch 25\n",
      "\n",
      "**************************************************\n",
      "\n",
      "Time Taken [25 Epochs] : 47.15 minutes\n",
      "\n",
      "**************************************************\n",
      "\n"
     ]
    },
    {
     "data": {
      "image/png": "[encoded data removed]",
      "text/plain": [
       "<Figure size 432x288 with 1 Axes>"
      ]
     },
     "metadata": {
      "needs_background": "light"
     },
     "output_type": "display_data"
    },
    {
     "name": "stdout",
     "output_type": "stream",
     "text": [
      "\n",
      "**************************************************\n",
      "\n"
     ]
    },
    {
     "data": {
      "image/png": "[encoded data removed]",
      "text/plain": [
       "<Figure size 576x432 with 1 Axes>"
      ]
     },
     "metadata": {
      "needs_background": "light"
     },
     "output_type": "display_data"
    },
    {
     "name": "stdout",
     "output_type": "stream",
     "text": [
      "\n",
      "**************************************************\n",
      "\n",
      "\n",
      "**************************************************\n",
      "\n",
      "Training Fold 4...\n",
      "\n",
      "**************************************************\n",
      "\n",
      "Epoch: 1 | Train Loss: 0.59210 | Valid Loss: 0.43792 | Time: 112.88 seconds\n",
      "Epoch: 2 | Train Loss: 0.24546 | Valid Loss: 0.39701 | Time: 112.96 seconds\n",
      "Epoch: 3 | Train Loss: 0.23489 | Valid Loss: 0.27403 | Time: 113.91 seconds\n",
      "Epoch: 4 | Train Loss: 0.23081 | Valid Loss: 0.24140 | Time: 112.80 seconds\n",
      "Epoch: 5 | Train Loss: 0.22855 | Valid Loss: 0.23370 | Time: 113.40 seconds\n",
      "Epoch: 6 | Train Loss: 0.22763 | Valid Loss: 0.23455 | Time: 112.23 seconds\n",
      "Epoch: 7 | Train Loss: 0.22553 | Valid Loss: 0.23578 | Time: 111.13 seconds\n",
      "Epoch: 8 | Train Loss: 0.22505 | Valid Loss: 0.22745 | Time: 113.65 seconds\n",
      "Epoch: 9 | Train Loss: 0.22196 | Valid Loss: 0.23178 | Time: 111.87 seconds\n",
      "Epoch: 10 | Train Loss: 0.22163 | Valid Loss: 0.22691 | Time: 113.39 seconds\n",
      "Epoch: 11 | Train Loss: 0.21879 | Valid Loss: 0.22140 | Time: 112.66 seconds\n",
      "Epoch: 12 | Train Loss: 0.21813 | Valid Loss: 0.22018 | Time: 113.08 seconds\n",
      "Epoch: 13 | Train Loss: 0.21616 | Valid Loss: 0.21634 | Time: 112.73 seconds\n",
      "Epoch: 14 | Train Loss: 0.21465 | Valid Loss: 0.21763 | Time: 112.69 seconds\n",
      "Epoch: 15 | Train Loss: 0.21324 | Valid Loss: 0.21787 | Time: 112.02 seconds\n",
      "Epoch: 16 | Train Loss: 0.21094 | Valid Loss: 0.21381 | Time: 113.37 seconds\n",
      "Epoch: 17 | Train Loss: 0.20919 | Valid Loss: 0.21342 | Time: 113.44 seconds\n",
      "Epoch: 18 | Train Loss: 0.20641 | Valid Loss: 0.21125 | Time: 113.55 seconds\n",
      "Epoch: 19 | Train Loss: 0.20509 | Valid Loss: 0.21045 | Time: 113.93 seconds\n",
      "Epoch: 20 | Train Loss: 0.20320 | Valid Loss: 0.20721 | Time: 112.98 seconds\n",
      "Epoch: 21 | Train Loss: 0.20104 | Valid Loss: 0.20605 | Time: 113.70 seconds\n",
      "Epoch: 22 | Train Loss: 0.19951 | Valid Loss: 0.20550 | Time: 112.94 seconds\n",
      "Epoch: 23 | Train Loss: 0.19849 | Valid Loss: 0.20457 | Time: 113.58 seconds\n",
      "Epoch: 24 | Train Loss: 0.19816 | Valid Loss: 0.20500 | Time: 112.63 seconds\n",
      "Epoch: 25 | Train Loss: 0.19810 | Valid Loss: 0.20426 | Time: 113.69 seconds\n",
      "\n",
      "**************************************************\n",
      "\n",
      "Best Validation Loss at Epoch 25\n",
      "\n",
      "**************************************************\n",
      "\n",
      "Time Taken [25 Epochs] : 47.09 minutes\n",
      "\n",
      "**************************************************\n",
      "\n"
     ]
    },
    {
     "data": {
      "image/png": "[encoded data removed]",
      "text/plain": [
       "<Figure size 432x288 with 1 Axes>"
      ]
     },
     "metadata": {
      "needs_background": "light"
     },
     "output_type": "display_data"
    },
    {
     "name": "stdout",
     "output_type": "stream",
     "text": [
      "\n",
      "**************************************************\n",
      "\n"
     ]
    },
    {
     "data": {
      "image/png": "[encoded data removed]",
      "text/plain": [
       "<Figure size 576x432 with 1 Axes>"
      ]
     },
     "metadata": {
      "needs_background": "light"
     },
     "output_type": "display_data"
    },
    {
     "name": "stdout",
     "output_type": "stream",
     "text": [
      "\n",
      "**************************************************\n",
      "\n",
      "\n",
      "**************************************************\n",
      "\n",
      "Training Fold 5...\n",
      "\n",
      "**************************************************\n",
      "\n",
      "Epoch: 1 | Train Loss: 0.59250 | Valid Loss: 0.37896 | Time: 113.21 seconds\n",
      "Epoch: 2 | Train Loss: 0.24676 | Valid Loss: 0.32080 | Time: 113.57 seconds\n",
      "Epoch: 3 | Train Loss: 0.23616 | Valid Loss: 0.25622 | Time: 113.66 seconds\n",
      "Epoch: 4 | Train Loss: 0.23265 | Valid Loss: 0.23140 | Time: 113.57 seconds\n",
      "Epoch: 5 | Train Loss: 0.23119 | Valid Loss: 0.22971 | Time: 113.96 seconds\n",
      "Epoch: 6 | Train Loss: 0.22928 | Valid Loss: 0.22480 | Time: 113.76 seconds\n",
      "Epoch: 7 | Train Loss: 0.22623 | Valid Loss: 0.22722 | Time: 111.91 seconds\n",
      "Epoch: 8 | Train Loss: 0.22632 | Valid Loss: 0.22070 | Time: 112.83 seconds\n",
      "Epoch: 9 | Train Loss: 0.22432 | Valid Loss: 0.22835 | Time: 112.27 seconds\n",
      "Epoch: 10 | Train Loss: 0.22305 | Valid Loss: 0.21911 | Time: 113.48 seconds\n",
      "Epoch: 11 | Train Loss: 0.22178 | Valid Loss: 0.21500 | Time: 112.66 seconds\n",
      "Epoch: 12 | Train Loss: 0.22058 | Valid Loss: 0.21863 | Time: 111.97 seconds\n",
      "Epoch: 13 | Train Loss: 0.21871 | Valid Loss: 0.20990 | Time: 112.84 seconds\n",
      "Epoch: 14 | Train Loss: 0.21723 | Valid Loss: 0.21190 | Time: 112.73 seconds\n",
      "Epoch: 15 | Train Loss: 0.21410 | Valid Loss: 0.21099 | Time: 111.96 seconds\n",
      "Epoch: 16 | Train Loss: 0.21391 | Valid Loss: 0.20508 | Time: 113.49 seconds\n",
      "Epoch: 17 | Train Loss: 0.21197 | Valid Loss: 0.20666 | Time: 111.77 seconds\n",
      "Epoch: 18 | Train Loss: 0.20932 | Valid Loss: 0.20232 | Time: 113.28 seconds\n",
      "Epoch: 19 | Train Loss: 0.20782 | Valid Loss: 0.20741 | Time: 112.35 seconds\n",
      "Epoch: 20 | Train Loss: 0.20488 | Valid Loss: 0.20005 | Time: 113.54 seconds\n",
      "Epoch: 21 | Train Loss: 0.20195 | Valid Loss: 0.20014 | Time: 112.27 seconds\n",
      "Epoch: 22 | Train Loss: 0.20187 | Valid Loss: 0.19848 | Time: 113.67 seconds\n",
      "Epoch: 23 | Train Loss: 0.19908 | Valid Loss: 0.19673 | Time: 114.15 seconds\n",
      "Epoch: 24 | Train Loss: 0.19757 | Valid Loss: 0.19664 | Time: 113.91 seconds\n",
      "Epoch: 25 | Train Loss: 0.19740 | Valid Loss: 0.19665 | Time: 113.30 seconds\n",
      "\n",
      "**************************************************\n",
      "\n",
      "Best Validation Loss at Epoch 24\n",
      "\n",
      "**************************************************\n",
      "\n",
      "Time Taken [25 Epochs] : 47.10 minutes\n",
      "\n",
      "**************************************************\n",
      "\n"
     ]
    },
    {
     "data": {
      "image/png": "[encoded data removed]",
      "text/plain": [
       "<Figure size 432x288 with 1 Axes>"
      ]
     },
     "metadata": {
      "needs_background": "light"
     },
     "output_type": "display_data"
    },
    {
     "name": "stdout",
     "output_type": "stream",
     "text": [
      "\n",
      "**************************************************\n",
      "\n"
     ]
    },
    {
     "data": {
      "image/png": "[encoded data removed]",
      "text/plain": [
       "<Figure size 576x432 with 1 Axes>"
      ]
     },
     "metadata": {
      "needs_background": "light"
     },
     "output_type": "display_data"
    },
    {
     "name": "stdout",
     "output_type": "stream",
     "text": [
      "\n",
      "**************************************************\n",
      "\n"
     ]
    }
   ],
   "source": [
    "fold: int = 1\n",
    "BLEs: list = []\n",
    "\n",
    "for tr_idx, va_idx in KFold(n_splits=cfg.n_splits, random_state=cfg.seed, shuffle=True).split(filenames):\n",
    "\n",
    "    tr_filenames, va_filenames = filenames[tr_idx], filenames[va_idx] \n",
    "    tr_labels, va_labels       = labels[tr_idx], labels[va_idx]\n",
    "    \n",
    "    tr_data_setup = DS(\n",
    "        base_path=\"../input/com3025-2022-challenge-week-6-7-extended-extend/train_data/train_data\", \n",
    "        filenames=tr_filenames, \n",
    "        labels=tr_labels,\n",
    "        size=cfg.size,\n",
    "        transform=cfg.train_transform\n",
    "    )\n",
    "    \n",
    "    va_data_setup = DS(\n",
    "        base_path=\"../input/com3025-2022-challenge-week-6-7-extended-extend/train_data/train_data\", \n",
    "        filenames=va_filenames, \n",
    "        labels=va_labels,\n",
    "        size=cfg.size,\n",
    "        transform=cfg.valid_transform\n",
    "    )\n",
    "\n",
    "    dataloaders = {\n",
    "        \"train\" : DL(tr_data_setup, batch_size=cfg.batch_size, shuffle=True, generator=torch.manual_seed(cfg.seed)),\n",
    "        \"valid\" : DL(va_data_setup, batch_size=cfg.batch_size, shuffle=False),\n",
    "    }\n",
    "\n",
    "    cfg = CFG(\n",
    "        epochs=25, \n",
    "        batch_size=32, \n",
    "        early_stopping=5,\n",
    "        steps_per_epoch=len(dataloaders[\"train\"])\n",
    "    )\n",
    "    \n",
    "    torch.manual_seed(cfg.seed)\n",
    "    model = Model().to(cfg.device)\n",
    "\n",
    "    optimizer = optim.Adam([p for p in model.parameters() if p.requires_grad], lr=cfg.lr, weight_decay=cfg.wd)\n",
    "    # optimizer = optim.AdamW([p for p in model.parameters() if p.requires_grad], lr=cfg.lr, weight_decay=cfg.wd)\n",
    "    # optimizer = optim.SGD([p for p in model.parameters() if p.requires_grad], lr=cfg.lr, weight_decay=cfg.wd, momentum=0.9)\n",
    "    \n",
    "    scheduler_oclr = optim.lr_scheduler.OneCycleLR(\n",
    "        optimizer=optimizer, \n",
    "        max_lr=cfg.max_lr, \n",
    "        epochs=cfg.epochs, \n",
    "        steps_per_epoch=cfg.steps_per_epoch,\n",
    "        pct_start=cfg.pct_start, \n",
    "        div_factor=cfg.div_factor, \n",
    "        final_div_factor=cfg.final_div_factor\n",
    "    )\n",
    "\n",
    "    # scheduler_rlrop = optim.lr_scheduler.ReduceLROnPlateau(\n",
    "    #     optimizer=optimizer,\n",
    "    #     patience=cfg.patience,\n",
    "    #     eps=cfg.eps,\n",
    "    #     verbose=True\n",
    "    # )\n",
    "\n",
    "    # scheduler_oclr = None\n",
    "    scheduler_rlrop = None\n",
    "    \n",
    "    L, LR, BLE, _ = fit(\n",
    "        model=model, \n",
    "        optimizer=optimizer, \n",
    "        scheduler_oclr=scheduler_oclr,\n",
    "        scheduler_rlrop=scheduler_rlrop,\n",
    "        epochs=cfg.epochs, \n",
    "        early_stopping_patience=cfg.early_stopping, \n",
    "        dataloaders=dataloaders, \n",
    "        device=cfg.device,\n",
    "        save_path=cfg.save_path,\n",
    "        fold=fold,\n",
    "        verbose=True\n",
    "    )\n",
    "    \n",
    "    breaker()\n",
    "    show_loss_graphs(L)\n",
    "    breaker()\n",
    "    if scheduler_oclr:\n",
    "        show_lr_graph(LR)\n",
    "        breaker()\n",
    "    \n",
    "    BLEs.append(BLE)\n",
    "    \n",
    "    fold += 1"
   ]
  },
  {
   "cell_type": "markdown",
   "id": "02ce40a5",
   "metadata": {
    "papermill": {
     "duration": 0.01295,
     "end_time": "2022-09-10T15:41:24.702407",
     "exception": false,
     "start_time": "2022-09-10T15:41:24.689457",
     "status": "completed"
    },
    "tags": []
   },
   "source": [
    "### **Best Model**"
   ]
  },
  {
   "cell_type": "code",
   "execution_count": 10,
   "id": "48d6421f",
   "metadata": {
    "execution": {
     "iopub.execute_input": "2022-09-10T15:41:24.730139Z",
     "iopub.status.busy": "2022-09-10T15:41:24.729273Z",
     "iopub.status.idle": "2022-09-10T15:41:24.734930Z",
     "shell.execute_reply": "2022-09-10T15:41:24.734014Z"
    },
    "papermill": {
     "duration": 0.02164,
     "end_time": "2022-09-10T15:41:24.736955",
     "exception": false,
     "start_time": "2022-09-10T15:41:24.715315",
     "status": "completed"
    },
    "tags": []
   },
   "outputs": [
    {
     "name": "stdout",
     "output_type": "stream",
     "text": [
      "\n",
      "**************************************************\n",
      "\n",
      "Best Loss Model Fold : 1\n",
      "\n",
      "**************************************************\n",
      "\n"
     ]
    }
   ],
   "source": [
    "best_loss_index = BLEs.index(min(BLEs))\n",
    "\n",
    "breaker()\n",
    "print(f\"Best Loss Model Fold : {best_loss_index + 1}\")\n",
    "breaker()"
   ]
  }
 ],
 "metadata": {
  "kernelspec": {
   "display_name": "Python 3",
   "language": "python",
   "name": "python3"
  },
  "language_info": {
   "codemirror_mode": {
    "name": "ipython",
    "version": 3
   },
   "file_extension": ".py",
   "mimetype": "text/x-python",
   "name": "python",
   "nbconvert_exporter": "python",
   "pygments_lexer": "ipython3",
   "version": "3.7.12"
  },
  "papermill": {
   "default_parameters": {},
   "duration": 17395.723407,
   "end_time": "2022-09-10T15:41:27.101650",
   "environment_variables": {},
   "exception": null,
   "input_path": "__notebook__.ipynb",
   "output_path": "__notebook__.ipynb",
   "parameters": {},
   "start_time": "2022-09-10T10:51:31.378243",
   "version": "2.3.4"
  }
 },
 "nbformat": 4,
 "nbformat_minor": 5
}
