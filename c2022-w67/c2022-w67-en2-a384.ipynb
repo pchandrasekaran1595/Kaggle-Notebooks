{
 "cells": [
  {
   "cell_type": "markdown",
   "id": "3d29e206",
   "metadata": {
    "_cell_guid": "b1076dfc-b9ad-4769-8c92-a6c4dae69d19",
    "_uuid": "8f2839f25d086af736a60e9eeb907d3b93b6e0e5",
    "papermill": {
     "duration": 0.012208,
     "end_time": "2022-09-09T13:46:29.821938",
     "exception": false,
     "start_time": "2022-09-09T13:46:29.809730",
     "status": "completed"
    },
    "tags": []
   },
   "source": [
    "### **Setup**"
   ]
  },
  {
   "cell_type": "code",
   "execution_count": 1,
   "id": "9d9e876e",
   "metadata": {
    "execution": {
     "iopub.execute_input": "2022-09-09T13:46:29.849678Z",
     "iopub.status.busy": "2022-09-09T13:46:29.848254Z",
     "iopub.status.idle": "2022-09-09T13:46:45.094260Z",
     "shell.execute_reply": "2022-09-09T13:46:45.092590Z"
    },
    "papermill": {
     "duration": 15.262713,
     "end_time": "2022-09-09T13:46:45.097526",
     "exception": false,
     "start_time": "2022-09-09T13:46:29.834813",
     "status": "completed"
    },
    "tags": []
   },
   "outputs": [
    {
     "name": "stderr",
     "output_type": "stream",
     "text": [
      "WARNING: Running pip as the 'root' user can result in broken permissions and conflicting behaviour with the system package manager. It is recommended to use a virtual environment instead: https://pip.pypa.io/warnings/venv\n"
     ]
    }
   ],
   "source": [
    "%%bash\n",
    "pip install timm -q"
   ]
  },
  {
   "cell_type": "markdown",
   "id": "36128efa",
   "metadata": {
    "papermill": {
     "duration": 0.004749,
     "end_time": "2022-09-09T13:46:45.107500",
     "exception": false,
     "start_time": "2022-09-09T13:46:45.102751",
     "status": "completed"
    },
    "tags": []
   },
   "source": [
    "### **Library Imports**"
   ]
  },
  {
   "cell_type": "code",
   "execution_count": 2,
   "id": "dd0be014",
   "metadata": {
    "execution": {
     "iopub.execute_input": "2022-09-09T13:46:45.118935Z",
     "iopub.status.busy": "2022-09-09T13:46:45.118531Z",
     "iopub.status.idle": "2022-09-09T13:46:50.070272Z",
     "shell.execute_reply": "2022-09-09T13:46:50.068664Z"
    },
    "papermill": {
     "duration": 4.961432,
     "end_time": "2022-09-09T13:46:50.073608",
     "exception": false,
     "start_time": "2022-09-09T13:46:45.112176",
     "status": "completed"
    },
    "tags": []
   },
   "outputs": [],
   "source": [
    "import os\n",
    "import re\n",
    "import cv2\n",
    "import timm\n",
    "import torch\n",
    "import numpy as np\n",
    "import pandas as pd\n",
    "import matplotlib.pyplot as plt\n",
    "\n",
    "from time import time\n",
    "from torch import nn, optim\n",
    "from torch.utils.data import Dataset\n",
    "from torch.utils.data import DataLoader as DL\n",
    "from torchvision import models, transforms\n",
    "\n",
    "from sklearn.model_selection import KFold"
   ]
  },
  {
   "cell_type": "markdown",
   "id": "a64061b7",
   "metadata": {
    "papermill": {
     "duration": 0.005452,
     "end_time": "2022-09-09T13:46:50.086521",
     "exception": false,
     "start_time": "2022-09-09T13:46:50.081069",
     "status": "completed"
    },
    "tags": []
   },
   "source": [
    "### **Utilities and Helpers**"
   ]
  },
  {
   "cell_type": "code",
   "execution_count": 3,
   "id": "9ead0e0a",
   "metadata": {
    "execution": {
     "iopub.execute_input": "2022-09-09T13:46:50.099318Z",
     "iopub.status.busy": "2022-09-09T13:46:50.098375Z",
     "iopub.status.idle": "2022-09-09T13:46:50.113165Z",
     "shell.execute_reply": "2022-09-09T13:46:50.111688Z"
    },
    "papermill": {
     "duration": 0.024675,
     "end_time": "2022-09-09T13:46:50.116219",
     "exception": false,
     "start_time": "2022-09-09T13:46:50.091544",
     "status": "completed"
    },
    "tags": []
   },
   "outputs": [],
   "source": [
    "SEED = 42\n",
    "SIZE = 384\n",
    "\n",
    "\n",
    "def breaker(num: int=50, char: str=\"*\") -> None:\n",
    "    print(\"\\n\" + num*char + \"\\n\")\n",
    "\n",
    "    \n",
    "def get_image(path: str, size: int=224) -> np.ndarray:\n",
    "    image = cv2.imread(path, cv2.IMREAD_COLOR)\n",
    "    image = cv2.cvtColor(src=image, code=cv2.COLOR_BGR2RGB)\n",
    "    return cv2.resize(src=image, dsize=(size, size), interpolation=cv2.INTER_AREA)\n",
    "\n",
    "\n",
    "def show_loss_graphs(L: list) -> None:\n",
    "    TL, VL = [], []\n",
    "    for i in range(len(L)):\n",
    "        TL.append(L[i][\"train\"])\n",
    "        VL.append(L[i][\"valid\"])\n",
    "    x_Axis = np.arange(1, len(TL) + 1)\n",
    "    plt.figure()\n",
    "    plt.plot(x_Axis, TL, \"r\", label=\"Train\")\n",
    "    plt.plot(x_Axis, VL, \"b\", label=\"Valid\")\n",
    "    plt.legend()\n",
    "    plt.grid()\n",
    "    plt.title(\"Loss Graph\")\n",
    "    plt.show()\n",
    "    \n",
    "\n",
    "def show_lr_graph(LR: list) -> None:\n",
    "    x_Axis = [i+1 for i in range(len(LR))]\n",
    "    plt.figure(figsize=(8, 6))\n",
    "    plt.plot(x_Axis, LR, \"rx\")\n",
    "    plt.grid()\n",
    "    plt.show()"
   ]
  },
  {
   "cell_type": "markdown",
   "id": "6d9bf900",
   "metadata": {
    "papermill": {
     "duration": 0.005427,
     "end_time": "2022-09-09T13:46:50.126864",
     "exception": false,
     "start_time": "2022-09-09T13:46:50.121437",
     "status": "completed"
    },
    "tags": []
   },
   "source": [
    "### **Configuration**"
   ]
  },
  {
   "cell_type": "code",
   "execution_count": 4,
   "id": "11b75267",
   "metadata": {
    "execution": {
     "iopub.execute_input": "2022-09-09T13:46:50.139511Z",
     "iopub.status.busy": "2022-09-09T13:46:50.138271Z",
     "iopub.status.idle": "2022-09-09T13:46:50.237055Z",
     "shell.execute_reply": "2022-09-09T13:46:50.235619Z"
    },
    "papermill": {
     "duration": 0.108557,
     "end_time": "2022-09-09T13:46:50.240528",
     "exception": false,
     "start_time": "2022-09-09T13:46:50.131971",
     "status": "completed"
    },
    "tags": []
   },
   "outputs": [],
   "source": [
    "class CFG(object):\n",
    "    def __init__(self, \n",
    "                 seed: int = 42,\n",
    "                 size: int = 224,\n",
    "                 n_splits: int = 5,\n",
    "                 batch_size: int = 16,\n",
    "                 epochs: int = 25,\n",
    "                 early_stopping: int = 5,\n",
    "                 lr: float = 1e-4,\n",
    "                 wd: float = 0.0,\n",
    "                 max_lr: float = 1e-3,\n",
    "                 pct_start: float = 0.2,\n",
    "                 steps_per_epoch: int = 100,\n",
    "                 div_factor: int = 1e3, \n",
    "                 final_div_factor: float = 1e3,\n",
    "                 ):\n",
    "        self.seed = seed\n",
    "        self.size = size\n",
    "        self.n_splits = n_splits\n",
    "        self.batch_size = batch_size\n",
    "        self.epochs = epochs\n",
    "        self.early_stopping = early_stopping\n",
    "        self.lr = lr\n",
    "        self.wd = wd\n",
    "        self.max_lr = max_lr\n",
    "        self.pct_start = pct_start\n",
    "        self.steps_per_epoch = steps_per_epoch\n",
    "        self.div_factor = div_factor\n",
    "        self.final_div_factor = final_div_factor\n",
    "        self.device = torch.device(\"cuda\" if torch.cuda.is_available() else \"cpu\")\n",
    "        self.train_transform = transforms.Compose([\n",
    "            transforms.ToTensor(),\n",
    "            transforms.Normalize([0.44811, 0.42458, 0.39159], [0.23526, 0.22963, 0.23221]),\n",
    "            transforms.RandomAffine(degrees=(-45, 45), translate=(0.15, 0.15), scale=(0.5, 1.5)),\n",
    "            transforms.RandomHorizontalFlip(p=0.25),\n",
    "            transforms.RandomVerticalFlip(p=0.25),\n",
    "        ])\n",
    "        self.valid_transform = transforms.Compose([\n",
    "            transforms.ToTensor(),\n",
    "            transforms.Normalize([0.44811, 0.42458, 0.39159], [0.23526, 0.22963, 0.23221]),\n",
    "        ])\n",
    "                                \n",
    "        self.save_path = \"saves\"\n",
    "        if not os.path.exists(self.save_path): os.makedirs(self.save_path)\n",
    "    \n",
    "cfg = CFG(seed=SEED, size=SIZE)"
   ]
  },
  {
   "cell_type": "markdown",
   "id": "1c7e928a",
   "metadata": {
    "papermill": {
     "duration": 0.004616,
     "end_time": "2022-09-09T13:46:50.250435",
     "exception": false,
     "start_time": "2022-09-09T13:46:50.245819",
     "status": "completed"
    },
    "tags": []
   },
   "source": [
    "### **Dataset Template**"
   ]
  },
  {
   "cell_type": "code",
   "execution_count": 5,
   "id": "28a5a560",
   "metadata": {
    "execution": {
     "iopub.execute_input": "2022-09-09T13:46:50.262070Z",
     "iopub.status.busy": "2022-09-09T13:46:50.261634Z",
     "iopub.status.idle": "2022-09-09T13:46:50.269959Z",
     "shell.execute_reply": "2022-09-09T13:46:50.268444Z"
    },
    "papermill": {
     "duration": 0.017521,
     "end_time": "2022-09-09T13:46:50.272884",
     "exception": false,
     "start_time": "2022-09-09T13:46:50.255363",
     "status": "completed"
    },
    "tags": []
   },
   "outputs": [],
   "source": [
    "class DS(Dataset):\n",
    "    def __init__(\n",
    "        self, \n",
    "        base_path: str,\n",
    "        filenames: np.ndarray, \n",
    "        labels: np.ndarray, \n",
    "        size: int,\n",
    "        transform=None):\n",
    "        \n",
    "        self.base_path = base_path\n",
    "        self.filenames = filenames\n",
    "        self.labels = labels\n",
    "        self.size = size\n",
    "        self.transform = transform\n",
    "    \n",
    "    def __len__(self):\n",
    "        return self.filenames.shape[0]\n",
    "    \n",
    "    def __getitem__(self, idx):\n",
    "        path = os.path.join(self.base_path, self.filenames[idx])\n",
    "        image = get_image(path, self.size)\n",
    "        return self.transform(image), self.labels[idx]"
   ]
  },
  {
   "cell_type": "markdown",
   "id": "bc349c2c",
   "metadata": {
    "papermill": {
     "duration": 0.004738,
     "end_time": "2022-09-09T13:46:50.282621",
     "exception": false,
     "start_time": "2022-09-09T13:46:50.277883",
     "status": "completed"
    },
    "tags": []
   },
   "source": [
    "### **Model**"
   ]
  },
  {
   "cell_type": "code",
   "execution_count": 6,
   "id": "c371866e",
   "metadata": {
    "execution": {
     "iopub.execute_input": "2022-09-09T13:46:50.294035Z",
     "iopub.status.busy": "2022-09-09T13:46:50.293616Z",
     "iopub.status.idle": "2022-09-09T13:46:50.306938Z",
     "shell.execute_reply": "2022-09-09T13:46:50.305556Z"
    },
    "papermill": {
     "duration": 0.021909,
     "end_time": "2022-09-09T13:46:50.309466",
     "exception": false,
     "start_time": "2022-09-09T13:46:50.287557",
     "status": "completed"
    },
    "tags": []
   },
   "outputs": [],
   "source": [
    "class Model(nn.Module):\n",
    "    def __init__(self, model_name: str=\"efficientnet_b4\"):\n",
    "        super(Model, self).__init__()\n",
    "        \n",
    "        if model_name == \"resnet50\":\n",
    "            self.model = models.resnet50(pretrained=True, progress=False)\n",
    "            self.model.fc = nn.Linear(in_features=self.model.fc.in_features, out_features=23)\n",
    "\n",
    "        elif model_name == \"densenet169\":\n",
    "            self.model = models.densenet169(pretrained=True, progress=False)\n",
    "            self.model.classifier = nn.Linear(in_features=self.model.classifier.in_features, out_features=23)\n",
    "\n",
    "        elif model_name == \"densenet201\":\n",
    "            self.model = models.densenet201(pretrained=True, progress=False)\n",
    "            self.model.classifier = nn.Linear(in_features=self.model.classifier.in_features, out_features=23)\n",
    "            \n",
    "        elif model_name == \"tv_densenet121\":\n",
    "            self.model = timm.create_model(model_name=model_name, pretrained=True)\n",
    "            self.model.classifier = nn.Linear(in_features=self.model.classifier.in_features, out_features=23)\n",
    "            \n",
    "        elif model_name == \"efficientnet_b2\":\n",
    "            self.model = timm.create_model(model_name=model_name, pretrained=True)\n",
    "            self.model.classifier = nn.Linear(in_features=self.model.classifier.in_features, out_features=23)\n",
    "        \n",
    "        elif model_name == \"efficientnet_b4\":\n",
    "            self.model = timm.create_model(model_name=model_name, pretrained=True)\n",
    "            self.model.classifier = nn.Linear(in_features=self.model.classifier.in_features, out_features=23)\n",
    "            \n",
    "    def freeze(self):\n",
    "        for params in self.parameters(): params.requires_grad = False\n",
    "\n",
    "    def forward(self, x):\n",
    "        return self.model(x)"
   ]
  },
  {
   "cell_type": "markdown",
   "id": "ddb14542",
   "metadata": {
    "papermill": {
     "duration": 0.004743,
     "end_time": "2022-09-09T13:46:50.319157",
     "exception": false,
     "start_time": "2022-09-09T13:46:50.314414",
     "status": "completed"
    },
    "tags": []
   },
   "source": [
    "### **Fit and Predict**"
   ]
  },
  {
   "cell_type": "code",
   "execution_count": 7,
   "id": "13478fed",
   "metadata": {
    "execution": {
     "iopub.execute_input": "2022-09-09T13:46:50.331045Z",
     "iopub.status.busy": "2022-09-09T13:46:50.330688Z",
     "iopub.status.idle": "2022-09-09T13:46:50.355818Z",
     "shell.execute_reply": "2022-09-09T13:46:50.354463Z"
    },
    "papermill": {
     "duration": 0.034652,
     "end_time": "2022-09-09T13:46:50.358579",
     "exception": false,
     "start_time": "2022-09-09T13:46:50.323927",
     "status": "completed"
    },
    "tags": []
   },
   "outputs": [],
   "source": [
    "def fit(model=None,\n",
    "        model_name=None,\n",
    "        optimizer=None, \n",
    "        scheduler_rlrop=None,\n",
    "        scheduler_oclr=None,\n",
    "        epochs=None, \n",
    "        early_stopping_patience=None, \n",
    "        dataloaders=None, \n",
    "        fold=None, \n",
    "        save_path=None,\n",
    "        device=None,\n",
    "        verbose=False) -> tuple:    \n",
    "    \n",
    "    if verbose:\n",
    "        breaker()\n",
    "        print(f\" ----- {model_name.upper()} -----\")\n",
    "        breaker()\n",
    "        if fold: print(f\"Training Fold {fold}...\")\n",
    "        else: print(\"Training ...\")\n",
    "        breaker()\n",
    "        \n",
    "    bestLoss: dict = {\"train\" : np.inf, \"valid\" : np.inf} \n",
    "        \n",
    "    Losses: list = []\n",
    "    LRs: list = []\n",
    "        \n",
    "    if fold: ble_name = f\"{model_name}_ble_state_fold_{fold}.pt\"\n",
    "    else: ble_name = f\"{model_name}_ble_state.pt\"\n",
    "    \n",
    "    start_time = time()\n",
    "    for e in range(epochs):\n",
    "        e_st = time()\n",
    "        epochLoss: dict = {\"train\" : 0.0, \"valid\" : 0.0} \n",
    "\n",
    "        for phase in [\"train\", \"valid\"]:\n",
    "            if phase == \"train\": model.train()\n",
    "            else: model.eval()\n",
    "            \n",
    "            lossPerPass: list = []\n",
    "                \n",
    "            for X, y in dataloaders[phase]:\n",
    "                X, y = X.to(device), y.to(device)\n",
    "\n",
    "                optimizer.zero_grad()\n",
    "                with torch.set_grad_enabled(phase == \"train\"):\n",
    "                    output = model(X)\n",
    "                    loss = torch.nn.BCEWithLogitsLoss()(output, y)\n",
    "                    if phase == \"train\":\n",
    "                        loss.backward()\n",
    "                        optimizer.step()\n",
    "                        if scheduler_oclr: scheduler_oclr.step()\n",
    "                lossPerPass.append(loss.item())\n",
    "            epochLoss[phase] = np.mean(np.array(lossPerPass))\n",
    "        if scheduler_oclr: LRs.append(scheduler_oclr.get_last_lr())\n",
    "        Losses.append(epochLoss)\n",
    "    \n",
    "        if scheduler_oclr:\n",
    "            save_dict = {\"model_state_dict\"     : model.state_dict(),\n",
    "                         \"optim_state_dict\"     : optimizer.state_dict(),\n",
    "                         \"scheduler_state_dict\" : scheduler_oclr.state_dict()}\n",
    "        \n",
    "        elif scheduler_rlrop:\n",
    "            save_dict = {\"model_state_dict\"     : model.state_dict(),\n",
    "                         \"optim_state_dict\"     : optimizer.state_dict(),\n",
    "                         \"scheduler_state_dict\" : scheduler_rlrop.state_dict()}\n",
    "        \n",
    "        else:\n",
    "            save_dict = {\"model_state_dict\"     : model.state_dict(),\n",
    "                         \"optim_state_dict\"     : optimizer.state_dict()}\n",
    "        \n",
    "        \n",
    "        if early_stopping_patience:\n",
    "            if epochLoss[\"valid\"] < bestLoss[\"valid\"]:\n",
    "                bestLoss = epochLoss\n",
    "                BLE = e + 1\n",
    "                torch.save(save_dict, os.path.join(save_path, ble_name))\n",
    "                early_stopping_step = 0\n",
    "            else:\n",
    "                early_stopping_step += 1\n",
    "                if early_stopping_step > early_stopping_patience:\n",
    "                    print(\"\\nEarly Stopping at Epoch {}\".format(e + 1))\n",
    "                    break\n",
    "        \n",
    "        if epochLoss[\"valid\"] < bestLoss[\"valid\"]:\n",
    "            bestLoss = epochLoss\n",
    "            BLE = e + 1\n",
    "            torch.save(save_dict,os.path.join(save_path, ble_name))\n",
    "        \n",
    "        if scheduler_rlrop: scheduler_rlrop.step(epochLoss[\"valid\"])\n",
    "        \n",
    "        if verbose:\n",
    "            print(\"Epoch: {} | Train Loss: {:.5f} | Valid Loss: {:.5f} | Time: {:.2f} seconds\".format(e+1, epochLoss[\"train\"], epochLoss[\"valid\"], time()-e_st))\n",
    "\n",
    "    if verbose:                                           \n",
    "        breaker()\n",
    "        print(f\"Best Validation Loss at Epoch {BLE}\")\n",
    "        breaker()\n",
    "        print(\"Time Taken [{} Epochs] : {:.2f} minutes\".format(len(Losses), (time()-start_time)/60))\n",
    "    \n",
    "    return Losses, LRs, BLE, ble_name\n",
    "\n",
    "\n",
    "def predict_batch(\n",
    "    model=None, \n",
    "    dataloader=None, \n",
    "    path=None, \n",
    "    device=None\n",
    ") -> np.ndarray:\n",
    "    \n",
    "    model.load_state_dict(torch.load(path, map_location=device)[\"model_state_dict\"])\n",
    "    model.to(device)    \n",
    "    model.eval()\n",
    "    \n",
    "    y_pred = torch.zeros(1, 23).to(device)\n",
    "    \n",
    "    for X in dataloader:\n",
    "        X = X.to(device)\n",
    "        with torch.no_grad():\n",
    "            output = torch.sigmoid(model(X))\n",
    "        y_pred = torch.cat((y_pred, output), dim=0)\n",
    "    \n",
    "    return y_pred[1:].detach().cpu().numpy()"
   ]
  },
  {
   "cell_type": "markdown",
   "id": "90616d88",
   "metadata": {
    "papermill": {
     "duration": 0.005923,
     "end_time": "2022-09-09T13:46:50.369597",
     "exception": false,
     "start_time": "2022-09-09T13:46:50.363674",
     "status": "completed"
    },
    "tags": []
   },
   "source": [
    "### **Train**"
   ]
  },
  {
   "cell_type": "code",
   "execution_count": 8,
   "id": "0cbb5519",
   "metadata": {
    "execution": {
     "iopub.execute_input": "2022-09-09T13:46:50.381166Z",
     "iopub.status.busy": "2022-09-09T13:46:50.380788Z",
     "iopub.status.idle": "2022-09-09T13:46:50.434521Z",
     "shell.execute_reply": "2022-09-09T13:46:50.433032Z"
    },
    "papermill": {
     "duration": 0.062887,
     "end_time": "2022-09-09T13:46:50.437468",
     "exception": false,
     "start_time": "2022-09-09T13:46:50.374581",
     "status": "completed"
    },
    "tags": []
   },
   "outputs": [],
   "source": [
    "df = pd.read_csv(\"../input/com3025-2022-challenge-week-6-7-extended-extend/train.csv\")\n",
    "\n",
    "filenames = df.file_name.copy().values\n",
    "labels = df.iloc[:, 1:].copy().values"
   ]
  },
  {
   "cell_type": "code",
   "execution_count": 9,
   "id": "105a75b3",
   "metadata": {
    "execution": {
     "iopub.execute_input": "2022-09-09T13:46:50.449996Z",
     "iopub.status.busy": "2022-09-09T13:46:50.449609Z",
     "iopub.status.idle": "2022-09-09T15:24:49.232246Z",
     "shell.execute_reply": "2022-09-09T15:24:49.230589Z"
    },
    "papermill": {
     "duration": 5878.792038,
     "end_time": "2022-09-09T15:24:49.235039",
     "exception": false,
     "start_time": "2022-09-09T13:46:50.443001",
     "status": "completed"
    },
    "tags": []
   },
   "outputs": [
    {
     "name": "stderr",
     "output_type": "stream",
     "text": [
      "Downloading: \"https://github.com/rwightman/pytorch-image-models/releases/download/v0.1-weights/efficientnet_b2_ra-bcdf34b7.pth\" to /root/.cache/torch/hub/checkpoints/efficientnet_b2_ra-bcdf34b7.pth\n"
     ]
    },
    {
     "name": "stdout",
     "output_type": "stream",
     "text": [
      "\n",
      "**************************************************\n",
      "\n",
      " ----- EFFICIENTNET_B2 -----\n",
      "\n",
      "**************************************************\n",
      "\n",
      "Training Fold 1...\n",
      "\n",
      "**************************************************\n",
      "\n",
      "Epoch: 1 | Train Loss: 0.51944 | Valid Loss: 0.21309 | Time: 213.67 seconds\n",
      "Epoch: 2 | Train Loss: 0.15595 | Valid Loss: 0.11090 | Time: 171.67 seconds\n",
      "Epoch: 3 | Train Loss: 0.12978 | Valid Loss: 0.11003 | Time: 179.75 seconds\n",
      "Epoch: 4 | Train Loss: 0.13236 | Valid Loss: 0.12181 | Time: 178.35 seconds\n",
      "Epoch: 5 | Train Loss: 0.12834 | Valid Loss: 0.12076 | Time: 178.53 seconds\n",
      "Epoch: 6 | Train Loss: 0.12114 | Valid Loss: 0.12439 | Time: 176.92 seconds\n",
      "Epoch: 7 | Train Loss: 0.10949 | Valid Loss: 0.12430 | Time: 176.87 seconds\n",
      "Epoch: 8 | Train Loss: 0.10369 | Valid Loss: 0.12686 | Time: 177.04 seconds\n",
      "\n",
      "Early Stopping at Epoch 9\n",
      "\n",
      "**************************************************\n",
      "\n",
      "Best Validation Loss at Epoch 3\n",
      "\n",
      "**************************************************\n",
      "\n",
      "Time Taken [9 Epochs] : 27.16 minutes\n",
      "\n",
      "**************************************************\n",
      "\n"
     ]
    },
    {
     "data": {
      "image/png": "[encoded data removed]",
      "text/plain": [
       "<Figure size 432x288 with 1 Axes>"
      ]
     },
     "metadata": {
      "needs_background": "light"
     },
     "output_type": "display_data"
    },
    {
     "name": "stdout",
     "output_type": "stream",
     "text": [
      "\n",
      "**************************************************\n",
      "\n"
     ]
    },
    {
     "data": {
      "image/png": "[encoded data removed]",
      "text/plain": [
       "<Figure size 576x432 with 1 Axes>"
      ]
     },
     "metadata": {
      "needs_background": "light"
     },
     "output_type": "display_data"
    },
    {
     "name": "stdout",
     "output_type": "stream",
     "text": [
      "\n",
      "**************************************************\n",
      "\n",
      "\n",
      "**************************************************\n",
      "\n",
      " ----- EFFICIENTNET_B2 -----\n",
      "\n",
      "**************************************************\n",
      "\n",
      "Training Fold 2...\n",
      "\n",
      "**************************************************\n",
      "\n",
      "Epoch: 1 | Train Loss: 0.65798 | Valid Loss: 0.46373 | Time: 93.60 seconds\n",
      "Epoch: 2 | Train Loss: 0.27301 | Valid Loss: 0.14065 | Time: 89.25 seconds\n",
      "Epoch: 3 | Train Loss: 0.13956 | Valid Loss: 0.10488 | Time: 89.10 seconds\n",
      "Epoch: 4 | Train Loss: 0.12307 | Valid Loss: 0.10943 | Time: 91.40 seconds\n",
      "Epoch: 5 | Train Loss: 0.11405 | Valid Loss: 0.10625 | Time: 92.40 seconds\n",
      "Epoch: 6 | Train Loss: 0.10347 | Valid Loss: 0.09981 | Time: 93.43 seconds\n",
      "Epoch: 7 | Train Loss: 0.09293 | Valid Loss: 0.10283 | Time: 95.05 seconds\n",
      "Epoch: 8 | Train Loss: 0.08717 | Valid Loss: 0.09842 | Time: 95.43 seconds\n",
      "Epoch: 9 | Train Loss: 0.07514 | Valid Loss: 0.10459 | Time: 92.32 seconds\n",
      "Epoch: 10 | Train Loss: 0.06883 | Valid Loss: 0.11077 | Time: 91.03 seconds\n",
      "Epoch: 11 | Train Loss: 0.05992 | Valid Loss: 0.10532 | Time: 90.48 seconds\n",
      "Epoch: 12 | Train Loss: 0.05171 | Valid Loss: 0.10528 | Time: 91.33 seconds\n",
      "Epoch: 13 | Train Loss: 0.04445 | Valid Loss: 0.11118 | Time: 91.26 seconds\n",
      "\n",
      "Early Stopping at Epoch 14\n",
      "\n",
      "**************************************************\n",
      "\n",
      "Best Validation Loss at Epoch 8\n",
      "\n",
      "**************************************************\n",
      "\n",
      "Time Taken [14 Epochs] : 21.46 minutes\n",
      "\n",
      "**************************************************\n",
      "\n"
     ]
    },
    {
     "data": {
      "image/png": "[encoded data removed]",
      "text/plain": [
       "<Figure size 432x288 with 1 Axes>"
      ]
     },
     "metadata": {
      "needs_background": "light"
     },
     "output_type": "display_data"
    },
    {
     "name": "stdout",
     "output_type": "stream",
     "text": [
      "\n",
      "**************************************************\n",
      "\n"
     ]
    },
    {
     "data": {
      "image/png": "[encoded data removed]",
      "text/plain": [
       "<Figure size 576x432 with 1 Axes>"
      ]
     },
     "metadata": {
      "needs_background": "light"
     },
     "output_type": "display_data"
    },
    {
     "name": "stdout",
     "output_type": "stream",
     "text": [
      "\n",
      "**************************************************\n",
      "\n",
      "\n",
      "**************************************************\n",
      "\n",
      " ----- EFFICIENTNET_B2 -----\n",
      "\n",
      "**************************************************\n",
      "\n",
      "Training Fold 3...\n",
      "\n",
      "**************************************************\n",
      "\n",
      "Epoch: 1 | Train Loss: 0.65779 | Valid Loss: 0.46495 | Time: 95.70 seconds\n",
      "Epoch: 2 | Train Loss: 0.27055 | Valid Loss: 0.15766 | Time: 96.66 seconds\n",
      "Epoch: 3 | Train Loss: 0.13712 | Valid Loss: 0.11128 | Time: 94.39 seconds\n",
      "Epoch: 4 | Train Loss: 0.11922 | Valid Loss: 0.12155 | Time: 95.34 seconds\n",
      "Epoch: 5 | Train Loss: 0.11346 | Valid Loss: 0.11845 | Time: 94.32 seconds\n",
      "Epoch: 6 | Train Loss: 0.10008 | Valid Loss: 0.11246 | Time: 90.97 seconds\n",
      "Epoch: 7 | Train Loss: 0.09369 | Valid Loss: 0.13327 | Time: 90.47 seconds\n",
      "Epoch: 8 | Train Loss: 0.08526 | Valid Loss: 0.12231 | Time: 91.08 seconds\n",
      "\n",
      "Early Stopping at Epoch 9\n",
      "\n",
      "**************************************************\n",
      "\n",
      "Best Validation Loss at Epoch 3\n",
      "\n",
      "**************************************************\n",
      "\n",
      "Time Taken [9 Epochs] : 14.04 minutes\n",
      "\n",
      "**************************************************\n",
      "\n"
     ]
    },
    {
     "data": {
      "image/png": "[encoded data removed]",
      "text/plain": [
       "<Figure size 432x288 with 1 Axes>"
      ]
     },
     "metadata": {
      "needs_background": "light"
     },
     "output_type": "display_data"
    },
    {
     "name": "stdout",
     "output_type": "stream",
     "text": [
      "\n",
      "**************************************************\n",
      "\n"
     ]
    },
    {
     "data": {
      "image/png": "[encoded data removed]",
      "text/plain": [
       "<Figure size 576x432 with 1 Axes>"
      ]
     },
     "metadata": {
      "needs_background": "light"
     },
     "output_type": "display_data"
    },
    {
     "name": "stdout",
     "output_type": "stream",
     "text": [
      "\n",
      "**************************************************\n",
      "\n",
      "\n",
      "**************************************************\n",
      "\n",
      " ----- EFFICIENTNET_B2 -----\n",
      "\n",
      "**************************************************\n",
      "\n",
      "Training Fold 4...\n",
      "\n",
      "**************************************************\n",
      "\n",
      "Epoch: 1 | Train Loss: 0.65750 | Valid Loss: 0.46694 | Time: 93.65 seconds\n",
      "Epoch: 2 | Train Loss: 0.26915 | Valid Loss: 0.15804 | Time: 91.36 seconds\n",
      "Epoch: 3 | Train Loss: 0.13668 | Valid Loss: 0.12076 | Time: 91.61 seconds\n",
      "Epoch: 4 | Train Loss: 0.11885 | Valid Loss: 0.12403 | Time: 91.22 seconds\n",
      "Epoch: 5 | Train Loss: 0.11407 | Valid Loss: 0.13390 | Time: 91.78 seconds\n",
      "Epoch: 6 | Train Loss: 0.10231 | Valid Loss: 0.11986 | Time: 91.57 seconds\n",
      "Epoch: 7 | Train Loss: 0.09111 | Valid Loss: 0.11886 | Time: 91.31 seconds\n",
      "Epoch: 8 | Train Loss: 0.08462 | Valid Loss: 0.13100 | Time: 90.62 seconds\n",
      "Epoch: 9 | Train Loss: 0.07465 | Valid Loss: 0.12062 | Time: 91.52 seconds\n",
      "Epoch: 10 | Train Loss: 0.06492 | Valid Loss: 0.12814 | Time: 92.39 seconds\n",
      "Epoch: 11 | Train Loss: 0.05747 | Valid Loss: 0.12700 | Time: 92.18 seconds\n",
      "Epoch: 12 | Train Loss: 0.05302 | Valid Loss: 0.12785 | Time: 90.89 seconds\n",
      "\n",
      "Early Stopping at Epoch 13\n",
      "\n",
      "**************************************************\n",
      "\n",
      "Best Validation Loss at Epoch 7\n",
      "\n",
      "**************************************************\n",
      "\n",
      "Time Taken [13 Epochs] : 19.85 minutes\n",
      "\n",
      "**************************************************\n",
      "\n"
     ]
    },
    {
     "data": {
      "image/png": "[encoded data removed]",
      "text/plain": [
       "<Figure size 432x288 with 1 Axes>"
      ]
     },
     "metadata": {
      "needs_background": "light"
     },
     "output_type": "display_data"
    },
    {
     "name": "stdout",
     "output_type": "stream",
     "text": [
      "\n",
      "**************************************************\n",
      "\n"
     ]
    },
    {
     "data": {
      "image/png": "[encoded data removed]",
      "text/plain": [
       "<Figure size 576x432 with 1 Axes>"
      ]
     },
     "metadata": {
      "needs_background": "light"
     },
     "output_type": "display_data"
    },
    {
     "name": "stdout",
     "output_type": "stream",
     "text": [
      "\n",
      "**************************************************\n",
      "\n",
      "\n",
      "**************************************************\n",
      "\n",
      " ----- EFFICIENTNET_B2 -----\n",
      "\n",
      "**************************************************\n",
      "\n",
      "Training Fold 5...\n",
      "\n",
      "**************************************************\n",
      "\n",
      "Epoch: 1 | Train Loss: 0.65793 | Valid Loss: 0.46281 | Time: 90.80 seconds\n",
      "Epoch: 2 | Train Loss: 0.27057 | Valid Loss: 0.15397 | Time: 92.23 seconds\n",
      "Epoch: 3 | Train Loss: 0.13734 | Valid Loss: 0.11500 | Time: 94.50 seconds\n",
      "Epoch: 4 | Train Loss: 0.12021 | Valid Loss: 0.11396 | Time: 94.68 seconds\n",
      "Epoch: 5 | Train Loss: 0.11297 | Valid Loss: 0.11968 | Time: 91.13 seconds\n",
      "Epoch: 6 | Train Loss: 0.09896 | Valid Loss: 0.11762 | Time: 91.61 seconds\n",
      "Epoch: 7 | Train Loss: 0.09277 | Valid Loss: 0.12355 | Time: 91.49 seconds\n",
      "Epoch: 8 | Train Loss: 0.08426 | Valid Loss: 0.11409 | Time: 90.84 seconds\n",
      "Epoch: 9 | Train Loss: 0.07227 | Valid Loss: 0.12009 | Time: 89.95 seconds\n",
      "\n",
      "Early Stopping at Epoch 10\n",
      "\n",
      "**************************************************\n",
      "\n",
      "Best Validation Loss at Epoch 4\n",
      "\n",
      "**************************************************\n",
      "\n",
      "Time Taken [10 Epochs] : 15.30 minutes\n",
      "\n",
      "**************************************************\n",
      "\n"
     ]
    },
    {
     "data": {
      "image/png": "[encoded data removed]",
      "text/plain": [
       "<Figure size 432x288 with 1 Axes>"
      ]
     },
     "metadata": {
      "needs_background": "light"
     },
     "output_type": "display_data"
    },
    {
     "name": "stdout",
     "output_type": "stream",
     "text": [
      "\n",
      "**************************************************\n",
      "\n"
     ]
    },
    {
     "data": {
      "image/png": "[encoded data removed]",
      "text/plain": [
       "<Figure size 576x432 with 1 Axes>"
      ]
     },
     "metadata": {
      "needs_background": "light"
     },
     "output_type": "display_data"
    },
    {
     "name": "stdout",
     "output_type": "stream",
     "text": [
      "\n",
      "**************************************************\n",
      "\n"
     ]
    }
   ],
   "source": [
    "fold: int = 1\n",
    "BLEs: list = []\n",
    "model_name: str = \"efficientnet_b2\"\n",
    "\n",
    "for tr_idx, va_idx in KFold(n_splits=cfg.n_splits, random_state=cfg.seed, shuffle=True).split(filenames):\n",
    "\n",
    "    tr_filenames, va_filenames = filenames[tr_idx], filenames[va_idx] \n",
    "    tr_labels, va_labels       = labels[tr_idx], labels[va_idx]\n",
    "    \n",
    "    tr_data_setup = DS(\n",
    "        base_path=\"../input/com3025-2022-challenge-week-6-7-extended-extend/train_data/train_data\", \n",
    "        filenames=tr_filenames, \n",
    "        labels=tr_labels,\n",
    "        size=cfg.size,\n",
    "        transform=cfg.train_transform\n",
    "    )\n",
    "    \n",
    "    va_data_setup = DS(\n",
    "        base_path=\"../input/com3025-2022-challenge-week-6-7-extended-extend/train_data/train_data\", \n",
    "        filenames=va_filenames, \n",
    "        labels=va_labels,\n",
    "        size=cfg.size,\n",
    "        transform=cfg.valid_transform\n",
    "    )\n",
    "\n",
    "    dataloaders = {\n",
    "        \"train\" : DL(tr_data_setup, batch_size=cfg.batch_size, shuffle=True, generator=torch.manual_seed(cfg.seed)),\n",
    "        \"valid\" : DL(va_data_setup, batch_size=cfg.batch_size, shuffle=False),\n",
    "    }\n",
    "\n",
    "    cfg = CFG(\n",
    "        epochs=25, \n",
    "        batch_size=64, \n",
    "        early_stopping=5,\n",
    "        steps_per_epoch=len(dataloaders[\"train\"])\n",
    "    )\n",
    "    \n",
    "    torch.manual_seed(cfg.seed)\n",
    "    model = Model(model_name=model_name).to(cfg.device)\n",
    "\n",
    "    optimizer = optim.Adam([p for p in model.parameters() if p.requires_grad], lr=cfg.lr, weight_decay=cfg.wd)\n",
    "    # optimizer = optim.AdamW([p for p in model.parameters() if p.requires_grad], lr=cfg.lr, weight_decay=cfg.wd)\n",
    "    # optimizer = optim.SGD([p for p in model.parameters() if p.requires_grad], lr=cfg.lr, weight_decay=cfg.wd, momentum=0.9)\n",
    "    \n",
    "    scheduler_oclr = optim.lr_scheduler.OneCycleLR(\n",
    "        optimizer=optimizer, \n",
    "        max_lr=cfg.max_lr, \n",
    "        epochs=cfg.epochs, \n",
    "        steps_per_epoch=cfg.steps_per_epoch,\n",
    "        pct_start=cfg.pct_start, \n",
    "        div_factor=cfg.div_factor, \n",
    "        final_div_factor=cfg.final_div_factor\n",
    "    )\n",
    "\n",
    "    # scheduler_rlrop = optim.lr_scheduler.ReduceLROnPlateau(\n",
    "    #     optimizer=optimizer,\n",
    "    #     patience=cfg.patience,\n",
    "    #     eps=cfg.eps,\n",
    "    #     verbose=True\n",
    "    # )\n",
    "\n",
    "    # scheduler_oclr = None\n",
    "    scheduler_rlrop = None\n",
    "    \n",
    "    L, LR, BLE, _ = fit(\n",
    "        model=model, \n",
    "        model_name=model_name,\n",
    "        optimizer=optimizer, \n",
    "        scheduler_oclr=scheduler_oclr,\n",
    "        scheduler_rlrop=scheduler_rlrop,\n",
    "        epochs=cfg.epochs, \n",
    "        early_stopping_patience=cfg.early_stopping, \n",
    "        dataloaders=dataloaders, \n",
    "        device=cfg.device,\n",
    "        save_path=cfg.save_path,\n",
    "        fold=fold,\n",
    "        verbose=True\n",
    "    )\n",
    "    \n",
    "    breaker()\n",
    "    show_loss_graphs(L)\n",
    "    breaker()\n",
    "    if scheduler_oclr:\n",
    "        show_lr_graph(LR)\n",
    "        breaker()\n",
    "    \n",
    "    BLEs.append(BLE)\n",
    "    \n",
    "    fold += 1"
   ]
  },
  {
   "cell_type": "markdown",
   "id": "afe55b40",
   "metadata": {
    "papermill": {
     "duration": 0.010698,
     "end_time": "2022-09-09T15:24:49.257194",
     "exception": false,
     "start_time": "2022-09-09T15:24:49.246496",
     "status": "completed"
    },
    "tags": []
   },
   "source": [
    "### **Best Model**"
   ]
  },
  {
   "cell_type": "code",
   "execution_count": 10,
   "id": "98c63e95",
   "metadata": {
    "execution": {
     "iopub.execute_input": "2022-09-09T15:24:49.281134Z",
     "iopub.status.busy": "2022-09-09T15:24:49.280767Z",
     "iopub.status.idle": "2022-09-09T15:24:49.287976Z",
     "shell.execute_reply": "2022-09-09T15:24:49.286439Z"
    },
    "papermill": {
     "duration": 0.023973,
     "end_time": "2022-09-09T15:24:49.292356",
     "exception": false,
     "start_time": "2022-09-09T15:24:49.268383",
     "status": "completed"
    },
    "tags": []
   },
   "outputs": [
    {
     "name": "stdout",
     "output_type": "stream",
     "text": [
      "\n",
      "**************************************************\n",
      "\n",
      "Best Loss Model Fold : 1\n",
      "\n",
      "**************************************************\n",
      "\n"
     ]
    }
   ],
   "source": [
    "best_loss_index = BLEs.index(min(BLEs))\n",
    "\n",
    "breaker()\n",
    "print(f\"Best Loss Model Fold : {best_loss_index + 1}\")\n",
    "breaker()"
   ]
  }
 ],
 "metadata": {
  "kernelspec": {
   "display_name": "Python 3",
   "language": "python",
   "name": "python3"
  },
  "language_info": {
   "codemirror_mode": {
    "name": "ipython",
    "version": 3
   },
   "file_extension": ".py",
   "mimetype": "text/x-python",
   "name": "python",
   "nbconvert_exporter": "python",
   "pygments_lexer": "ipython3",
   "version": "3.7.12"
  },
  "papermill": {
   "default_parameters": {},
   "duration": 5912.135387,
   "end_time": "2022-09-09T15:24:52.018643",
   "environment_variables": {},
   "exception": null,
   "input_path": "__notebook__.ipynb",
   "output_path": "__notebook__.ipynb",
   "parameters": {},
   "start_time": "2022-09-09T13:46:19.883256",
   "version": "2.3.4"
  }
 },
 "nbformat": 4,
 "nbformat_minor": 5
}
