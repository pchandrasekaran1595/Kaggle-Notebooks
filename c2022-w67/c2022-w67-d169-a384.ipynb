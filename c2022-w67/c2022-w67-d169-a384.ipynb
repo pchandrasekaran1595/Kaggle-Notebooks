{
 "cells": [
  {
   "cell_type": "markdown",
   "id": "3253a679",
   "metadata": {
    "_cell_guid": "b1076dfc-b9ad-4769-8c92-a6c4dae69d19",
    "_uuid": "8f2839f25d086af736a60e9eeb907d3b93b6e0e5",
    "papermill": {
     "duration": 0.009076,
     "end_time": "2022-09-10T00:51:44.070068",
     "exception": false,
     "start_time": "2022-09-10T00:51:44.060992",
     "status": "completed"
    },
    "tags": []
   },
   "source": [
    "### **Setup**"
   ]
  },
  {
   "cell_type": "code",
   "execution_count": 1,
   "id": "0a621dd4",
   "metadata": {
    "execution": {
     "iopub.execute_input": "2022-09-10T00:51:44.085158Z",
     "iopub.status.busy": "2022-09-10T00:51:44.083003Z",
     "iopub.status.idle": "2022-09-10T00:51:55.021015Z",
     "shell.execute_reply": "2022-09-10T00:51:55.019882Z"
    },
    "papermill": {
     "duration": 10.947912,
     "end_time": "2022-09-10T00:51:55.023296",
     "exception": false,
     "start_time": "2022-09-10T00:51:44.075384",
     "status": "completed"
    },
    "tags": []
   },
   "outputs": [
    {
     "name": "stderr",
     "output_type": "stream",
     "text": [
      "WARNING: Running pip as the 'root' user can result in broken permissions and conflicting behaviour with the system package manager. It is recommended to use a virtual environment instead: https://pip.pypa.io/warnings/venv\n"
     ]
    }
   ],
   "source": [
    "%%bash\n",
    "pip install timm -q"
   ]
  },
  {
   "cell_type": "markdown",
   "id": "da58be20",
   "metadata": {
    "papermill": {
     "duration": 0.003797,
     "end_time": "2022-09-10T00:51:55.031389",
     "exception": false,
     "start_time": "2022-09-10T00:51:55.027592",
     "status": "completed"
    },
    "tags": []
   },
   "source": [
    "### **Library Imports**"
   ]
  },
  {
   "cell_type": "code",
   "execution_count": 2,
   "id": "1d0ce15c",
   "metadata": {
    "execution": {
     "iopub.execute_input": "2022-09-10T00:51:55.040656Z",
     "iopub.status.busy": "2022-09-10T00:51:55.040331Z",
     "iopub.status.idle": "2022-09-10T00:51:58.953717Z",
     "shell.execute_reply": "2022-09-10T00:51:58.952565Z"
    },
    "papermill": {
     "duration": 3.921014,
     "end_time": "2022-09-10T00:51:58.956242",
     "exception": false,
     "start_time": "2022-09-10T00:51:55.035228",
     "status": "completed"
    },
    "tags": []
   },
   "outputs": [],
   "source": [
    "import os\n",
    "import re\n",
    "import cv2\n",
    "import timm\n",
    "import torch\n",
    "import numpy as np\n",
    "import pandas as pd\n",
    "import matplotlib.pyplot as plt\n",
    "\n",
    "from time import time\n",
    "from torch import nn, optim\n",
    "from torch.utils.data import Dataset\n",
    "from torch.utils.data import DataLoader as DL\n",
    "from torchvision import models, transforms\n",
    "\n",
    "from sklearn.model_selection import KFold"
   ]
  },
  {
   "cell_type": "markdown",
   "id": "05ee60bc",
   "metadata": {
    "papermill": {
     "duration": 0.003748,
     "end_time": "2022-09-10T00:51:58.964237",
     "exception": false,
     "start_time": "2022-09-10T00:51:58.960489",
     "status": "completed"
    },
    "tags": []
   },
   "source": [
    "### **Utilities and Helpers**"
   ]
  },
  {
   "cell_type": "code",
   "execution_count": 3,
   "id": "a9c5edc6",
   "metadata": {
    "execution": {
     "iopub.execute_input": "2022-09-10T00:51:58.974172Z",
     "iopub.status.busy": "2022-09-10T00:51:58.973433Z",
     "iopub.status.idle": "2022-09-10T00:51:58.984299Z",
     "shell.execute_reply": "2022-09-10T00:51:58.983406Z"
    },
    "papermill": {
     "duration": 0.017898,
     "end_time": "2022-09-10T00:51:58.986322",
     "exception": false,
     "start_time": "2022-09-10T00:51:58.968424",
     "status": "completed"
    },
    "tags": []
   },
   "outputs": [],
   "source": [
    "SEED = 42\n",
    "SIZE = 384\n",
    "\n",
    "\n",
    "def breaker(num: int=50, char: str=\"*\") -> None:\n",
    "    print(\"\\n\" + num*char + \"\\n\")\n",
    "\n",
    "    \n",
    "def get_image(path: str, size: int=224) -> np.ndarray:\n",
    "    image = cv2.imread(path, cv2.IMREAD_COLOR)\n",
    "    image = cv2.cvtColor(src=image, code=cv2.COLOR_BGR2RGB)\n",
    "    return cv2.resize(src=image, dsize=(size, size), interpolation=cv2.INTER_AREA)\n",
    "\n",
    "\n",
    "def show_loss_graphs(L: list) -> None:\n",
    "    TL, VL = [], []\n",
    "    for i in range(len(L)):\n",
    "        TL.append(L[i][\"train\"])\n",
    "        VL.append(L[i][\"valid\"])\n",
    "    x_Axis = np.arange(1, len(TL) + 1)\n",
    "    plt.figure()\n",
    "    plt.plot(x_Axis, TL, \"r\", label=\"Train\")\n",
    "    plt.plot(x_Axis, VL, \"b\", label=\"Valid\")\n",
    "    plt.legend()\n",
    "    plt.grid()\n",
    "    plt.title(\"Loss Graph\")\n",
    "    plt.show()\n",
    "    \n",
    "\n",
    "def show_lr_graph(LR: list) -> None:\n",
    "    x_Axis = [i+1 for i in range(len(LR))]\n",
    "    plt.figure(figsize=(8, 6))\n",
    "    plt.plot(x_Axis, LR, \"rx\")\n",
    "    plt.grid()\n",
    "    plt.show()"
   ]
  },
  {
   "cell_type": "markdown",
   "id": "03f73679",
   "metadata": {
    "papermill": {
     "duration": 0.0039,
     "end_time": "2022-09-10T00:51:58.994128",
     "exception": false,
     "start_time": "2022-09-10T00:51:58.990228",
     "status": "completed"
    },
    "tags": []
   },
   "source": [
    "### **Configuration**"
   ]
  },
  {
   "cell_type": "code",
   "execution_count": 4,
   "id": "8665000e",
   "metadata": {
    "execution": {
     "iopub.execute_input": "2022-09-10T00:51:59.003545Z",
     "iopub.status.busy": "2022-09-10T00:51:59.003276Z",
     "iopub.status.idle": "2022-09-10T00:51:59.070726Z",
     "shell.execute_reply": "2022-09-10T00:51:59.069712Z"
    },
    "papermill": {
     "duration": 0.074771,
     "end_time": "2022-09-10T00:51:59.072887",
     "exception": false,
     "start_time": "2022-09-10T00:51:58.998116",
     "status": "completed"
    },
    "tags": []
   },
   "outputs": [],
   "source": [
    "class CFG(object):\n",
    "    def __init__(self, \n",
    "                 seed: int = 42,\n",
    "                 size: int = 224,\n",
    "                 n_splits: int = 5,\n",
    "                 batch_size: int = 16,\n",
    "                 epochs: int = 25,\n",
    "                 early_stopping: int = 5,\n",
    "                 lr: float = 1e-4,\n",
    "                 wd: float = 0.0,\n",
    "                 max_lr: float = 1e-3,\n",
    "                 pct_start: float = 0.2,\n",
    "                 steps_per_epoch: int = 100,\n",
    "                 div_factor: int = 1e3, \n",
    "                 final_div_factor: float = 1e3,\n",
    "                 ):\n",
    "        self.seed = seed\n",
    "        self.size = size\n",
    "        self.n_splits = n_splits\n",
    "        self.batch_size = batch_size\n",
    "        self.epochs = epochs\n",
    "        self.early_stopping = early_stopping\n",
    "        self.lr = lr\n",
    "        self.wd = wd\n",
    "        self.max_lr = max_lr\n",
    "        self.pct_start = pct_start\n",
    "        self.steps_per_epoch = steps_per_epoch\n",
    "        self.div_factor = div_factor\n",
    "        self.final_div_factor = final_div_factor\n",
    "        self.device = torch.device(\"cuda\" if torch.cuda.is_available() else \"cpu\")\n",
    "        self.train_transform = transforms.Compose([\n",
    "            transforms.ToTensor(),\n",
    "            transforms.Normalize([0.44811, 0.42458, 0.39159], [0.23526, 0.22963, 0.23221]),\n",
    "            transforms.RandomAffine(degrees=(-45, 45), translate=(0.15, 0.15), scale=(0.5, 1.5)),\n",
    "            transforms.RandomHorizontalFlip(p=0.25),\n",
    "            transforms.RandomVerticalFlip(p=0.25),\n",
    "        ])\n",
    "        self.valid_transform = transforms.Compose([\n",
    "            transforms.ToTensor(),\n",
    "            transforms.Normalize([0.44811, 0.42458, 0.39159], [0.23526, 0.22963, 0.23221]),\n",
    "        ])\n",
    "                                \n",
    "        self.save_path = \"saves\"\n",
    "        if not os.path.exists(self.save_path): os.makedirs(self.save_path)\n",
    "    \n",
    "cfg = CFG(seed=SEED, size=SIZE)"
   ]
  },
  {
   "cell_type": "markdown",
   "id": "3700687f",
   "metadata": {
    "papermill": {
     "duration": 0.003876,
     "end_time": "2022-09-10T00:51:59.080724",
     "exception": false,
     "start_time": "2022-09-10T00:51:59.076848",
     "status": "completed"
    },
    "tags": []
   },
   "source": [
    "### **Dataset Template**"
   ]
  },
  {
   "cell_type": "code",
   "execution_count": 5,
   "id": "cff5388f",
   "metadata": {
    "execution": {
     "iopub.execute_input": "2022-09-10T00:51:59.090049Z",
     "iopub.status.busy": "2022-09-10T00:51:59.089748Z",
     "iopub.status.idle": "2022-09-10T00:51:59.096590Z",
     "shell.execute_reply": "2022-09-10T00:51:59.095741Z"
    },
    "papermill": {
     "duration": 0.013728,
     "end_time": "2022-09-10T00:51:59.098647",
     "exception": false,
     "start_time": "2022-09-10T00:51:59.084919",
     "status": "completed"
    },
    "tags": []
   },
   "outputs": [],
   "source": [
    "class DS(Dataset):\n",
    "    def __init__(\n",
    "        self, \n",
    "        base_path: str,\n",
    "        filenames: np.ndarray, \n",
    "        labels: np.ndarray, \n",
    "        size: int,\n",
    "        transform=None):\n",
    "        \n",
    "        self.base_path = base_path\n",
    "        self.filenames = filenames\n",
    "        self.labels = labels\n",
    "        self.size = size\n",
    "        self.transform = transform\n",
    "    \n",
    "    def __len__(self):\n",
    "        return self.filenames.shape[0]\n",
    "    \n",
    "    def __getitem__(self, idx):\n",
    "        path = os.path.join(self.base_path, self.filenames[idx])\n",
    "        image = get_image(path, self.size)\n",
    "        return self.transform(image), self.labels[idx]"
   ]
  },
  {
   "cell_type": "markdown",
   "id": "1e5273af",
   "metadata": {
    "papermill": {
     "duration": 0.003717,
     "end_time": "2022-09-10T00:51:59.106300",
     "exception": false,
     "start_time": "2022-09-10T00:51:59.102583",
     "status": "completed"
    },
    "tags": []
   },
   "source": [
    "### **Model**"
   ]
  },
  {
   "cell_type": "code",
   "execution_count": 6,
   "id": "6c4cad51",
   "metadata": {
    "execution": {
     "iopub.execute_input": "2022-09-10T00:51:59.115377Z",
     "iopub.status.busy": "2022-09-10T00:51:59.115118Z",
     "iopub.status.idle": "2022-09-10T00:51:59.126558Z",
     "shell.execute_reply": "2022-09-10T00:51:59.125710Z"
    },
    "papermill": {
     "duration": 0.018092,
     "end_time": "2022-09-10T00:51:59.128473",
     "exception": false,
     "start_time": "2022-09-10T00:51:59.110381",
     "status": "completed"
    },
    "tags": []
   },
   "outputs": [],
   "source": [
    "class Model(nn.Module):\n",
    "    def __init__(self, model_name: str=\"efficientnet_b4\"):\n",
    "        super(Model, self).__init__()\n",
    "        \n",
    "        if model_name == \"resnet50\":\n",
    "            self.model = models.resnet50(pretrained=True, progress=False)\n",
    "            self.model.fc = nn.Linear(in_features=self.model.fc.in_features, out_features=23)\n",
    "\n",
    "        elif model_name == \"densenet169\":\n",
    "            self.model = models.densenet169(pretrained=True, progress=False)\n",
    "            self.model.classifier = nn.Linear(in_features=self.model.classifier.in_features, out_features=23)\n",
    "\n",
    "        elif model_name == \"densenet201\":\n",
    "            self.model = models.densenet201(pretrained=True, progress=False)\n",
    "            self.model.classifier = nn.Linear(in_features=self.model.classifier.in_features, out_features=23)\n",
    "            \n",
    "        elif model_name == \"tv_densenet121\":\n",
    "            self.model = timm.create_model(model_name=model_name, pretrained=True)\n",
    "            self.model.classifier = nn.Linear(in_features=self.model.classifier.in_features, out_features=23)\n",
    "            \n",
    "        elif model_name == \"efficientnet_b2\":\n",
    "            self.model = timm.create_model(model_name=model_name, pretrained=True)\n",
    "            self.model.classifier = nn.Linear(in_features=self.model.classifier.in_features, out_features=23)\n",
    "        \n",
    "        elif model_name == \"efficientnet_b4\":\n",
    "            self.model = timm.create_model(model_name=model_name, pretrained=True)\n",
    "            self.model.classifier = nn.Linear(in_features=self.model.classifier.in_features, out_features=23)\n",
    "            \n",
    "    def freeze(self):\n",
    "        for params in self.parameters(): params.requires_grad = False\n",
    "\n",
    "    def forward(self, x):\n",
    "        return self.model(x)"
   ]
  },
  {
   "cell_type": "markdown",
   "id": "2dcd5fdd",
   "metadata": {
    "papermill": {
     "duration": 0.003771,
     "end_time": "2022-09-10T00:51:59.136159",
     "exception": false,
     "start_time": "2022-09-10T00:51:59.132388",
     "status": "completed"
    },
    "tags": []
   },
   "source": [
    "### **Fit and Predict**"
   ]
  },
  {
   "cell_type": "code",
   "execution_count": 7,
   "id": "482a9c60",
   "metadata": {
    "execution": {
     "iopub.execute_input": "2022-09-10T00:51:59.145436Z",
     "iopub.status.busy": "2022-09-10T00:51:59.145185Z",
     "iopub.status.idle": "2022-09-10T00:51:59.164799Z",
     "shell.execute_reply": "2022-09-10T00:51:59.163782Z"
    },
    "papermill": {
     "duration": 0.027031,
     "end_time": "2022-09-10T00:51:59.167080",
     "exception": false,
     "start_time": "2022-09-10T00:51:59.140049",
     "status": "completed"
    },
    "tags": []
   },
   "outputs": [],
   "source": [
    "def fit(model=None,\n",
    "        model_name=None,\n",
    "        optimizer=None, \n",
    "        scheduler_rlrop=None,\n",
    "        scheduler_oclr=None,\n",
    "        epochs=None, \n",
    "        early_stopping_patience=None, \n",
    "        dataloaders=None, \n",
    "        fold=None, \n",
    "        save_path=None,\n",
    "        device=None,\n",
    "        verbose=False) -> tuple:    \n",
    "    \n",
    "    if verbose:\n",
    "        breaker()\n",
    "        print(f\" ----- {model_name.upper()} -----\")\n",
    "        breaker()\n",
    "        if fold: print(f\"Training Fold {fold}...\")\n",
    "        else: print(\"Training ...\")\n",
    "        breaker()\n",
    "        \n",
    "    bestLoss: dict = {\"train\" : np.inf, \"valid\" : np.inf} \n",
    "        \n",
    "    Losses: list = []\n",
    "    LRs: list = []\n",
    "        \n",
    "    if fold: ble_name = f\"{model_name}_ble_state_fold_{fold}.pt\"\n",
    "    else: ble_name = f\"{model_name}_ble_state.pt\"\n",
    "    \n",
    "    start_time = time()\n",
    "    for e in range(epochs):\n",
    "        e_st = time()\n",
    "        epochLoss: dict = {\"train\" : 0.0, \"valid\" : 0.0} \n",
    "\n",
    "        for phase in [\"train\", \"valid\"]:\n",
    "            if phase == \"train\": model.train()\n",
    "            else: model.eval()\n",
    "            \n",
    "            lossPerPass: list = []\n",
    "                \n",
    "            for X, y in dataloaders[phase]:\n",
    "                X, y = X.to(device), y.to(device)\n",
    "\n",
    "                optimizer.zero_grad()\n",
    "                with torch.set_grad_enabled(phase == \"train\"):\n",
    "                    output = model(X)\n",
    "                    loss = torch.nn.BCEWithLogitsLoss()(output, y)\n",
    "                    if phase == \"train\":\n",
    "                        loss.backward()\n",
    "                        optimizer.step()\n",
    "                        if scheduler_oclr: scheduler_oclr.step()\n",
    "                lossPerPass.append(loss.item())\n",
    "            epochLoss[phase] = np.mean(np.array(lossPerPass))\n",
    "        if scheduler_oclr: LRs.append(scheduler_oclr.get_last_lr())\n",
    "        Losses.append(epochLoss)\n",
    "    \n",
    "        if scheduler_oclr:\n",
    "            save_dict = {\"model_state_dict\"     : model.state_dict(),\n",
    "                         \"optim_state_dict\"     : optimizer.state_dict(),\n",
    "                         \"scheduler_state_dict\" : scheduler_oclr.state_dict()}\n",
    "        \n",
    "        elif scheduler_rlrop:\n",
    "            save_dict = {\"model_state_dict\"     : model.state_dict(),\n",
    "                         \"optim_state_dict\"     : optimizer.state_dict(),\n",
    "                         \"scheduler_state_dict\" : scheduler_rlrop.state_dict()}\n",
    "        \n",
    "        else:\n",
    "            save_dict = {\"model_state_dict\"     : model.state_dict(),\n",
    "                         \"optim_state_dict\"     : optimizer.state_dict()}\n",
    "        \n",
    "        \n",
    "        if early_stopping_patience:\n",
    "            if epochLoss[\"valid\"] < bestLoss[\"valid\"]:\n",
    "                bestLoss = epochLoss\n",
    "                BLE = e + 1\n",
    "                torch.save(save_dict, os.path.join(save_path, ble_name))\n",
    "                early_stopping_step = 0\n",
    "            else:\n",
    "                early_stopping_step += 1\n",
    "                if early_stopping_step > early_stopping_patience:\n",
    "                    print(\"\\nEarly Stopping at Epoch {}\".format(e + 1))\n",
    "                    break\n",
    "        \n",
    "        if epochLoss[\"valid\"] < bestLoss[\"valid\"]:\n",
    "            bestLoss = epochLoss\n",
    "            BLE = e + 1\n",
    "            torch.save(save_dict,os.path.join(save_path, ble_name))\n",
    "        \n",
    "        if scheduler_rlrop: scheduler_rlrop.step(epochLoss[\"valid\"])\n",
    "        \n",
    "        if verbose:\n",
    "            print(\"Epoch: {} | Train Loss: {:.5f} | Valid Loss: {:.5f} | Time: {:.2f} seconds\".format(e+1, epochLoss[\"train\"], epochLoss[\"valid\"], time()-e_st))\n",
    "\n",
    "    if verbose:                                           \n",
    "        breaker()\n",
    "        print(f\"Best Validation Loss at Epoch {BLE}\")\n",
    "        breaker()\n",
    "        print(\"Time Taken [{} Epochs] : {:.2f} minutes\".format(len(Losses), (time()-start_time)/60))\n",
    "    \n",
    "    return Losses, LRs, BLE, ble_name\n",
    "\n",
    "\n",
    "def predict_batch(\n",
    "    model=None, \n",
    "    dataloader=None, \n",
    "    path=None, \n",
    "    device=None\n",
    ") -> np.ndarray:\n",
    "    \n",
    "    model.load_state_dict(torch.load(path, map_location=device)[\"model_state_dict\"])\n",
    "    model.to(device)    \n",
    "    model.eval()\n",
    "    \n",
    "    y_pred = torch.zeros(1, 23).to(device)\n",
    "    \n",
    "    for X in dataloader:\n",
    "        X = X.to(device)\n",
    "        with torch.no_grad():\n",
    "            output = torch.sigmoid(model(X))\n",
    "        y_pred = torch.cat((y_pred, output), dim=0)\n",
    "    \n",
    "    return y_pred[1:].detach().cpu().numpy()"
   ]
  },
  {
   "cell_type": "markdown",
   "id": "94061e67",
   "metadata": {
    "papermill": {
     "duration": 0.004664,
     "end_time": "2022-09-10T00:51:59.175665",
     "exception": false,
     "start_time": "2022-09-10T00:51:59.171001",
     "status": "completed"
    },
    "tags": []
   },
   "source": [
    "### **Train**"
   ]
  },
  {
   "cell_type": "code",
   "execution_count": 8,
   "id": "3127c00f",
   "metadata": {
    "execution": {
     "iopub.execute_input": "2022-09-10T00:51:59.184469Z",
     "iopub.status.busy": "2022-09-10T00:51:59.184214Z",
     "iopub.status.idle": "2022-09-10T00:51:59.226139Z",
     "shell.execute_reply": "2022-09-10T00:51:59.225299Z"
    },
    "papermill": {
     "duration": 0.048621,
     "end_time": "2022-09-10T00:51:59.228207",
     "exception": false,
     "start_time": "2022-09-10T00:51:59.179586",
     "status": "completed"
    },
    "tags": []
   },
   "outputs": [],
   "source": [
    "df = pd.read_csv(\"../input/com3025-2022-challenge-week-6-7-extended-extend/train.csv\")\n",
    "\n",
    "filenames = df.file_name.copy().values\n",
    "labels = df.iloc[:, 1:].copy().values"
   ]
  },
  {
   "cell_type": "code",
   "execution_count": 9,
   "id": "af979567",
   "metadata": {
    "execution": {
     "iopub.execute_input": "2022-09-10T00:51:59.237313Z",
     "iopub.status.busy": "2022-09-10T00:51:59.237053Z",
     "iopub.status.idle": "2022-09-10T03:08:11.187300Z",
     "shell.execute_reply": "2022-09-10T03:08:11.186253Z"
    },
    "papermill": {
     "duration": 8171.957209,
     "end_time": "2022-09-10T03:08:11.189358",
     "exception": false,
     "start_time": "2022-09-10T00:51:59.232149",
     "status": "completed"
    },
    "tags": []
   },
   "outputs": [
    {
     "name": "stderr",
     "output_type": "stream",
     "text": [
      "Downloading: \"https://download.pytorch.org/models/densenet169-b2777c0a.pth\" to /root/.cache/torch/hub/checkpoints/densenet169-b2777c0a.pth\n"
     ]
    },
    {
     "name": "stdout",
     "output_type": "stream",
     "text": [
      "\n",
      "**************************************************\n",
      "\n",
      " ----- DENSENET169 -----\n",
      "\n",
      "**************************************************\n",
      "\n",
      "Training Fold 1...\n",
      "\n",
      "**************************************************\n",
      "\n",
      "Epoch: 1 | Train Loss: 0.44741 | Valid Loss: 0.16754 | Time: 222.29 seconds\n",
      "Epoch: 2 | Train Loss: 0.16202 | Valid Loss: 0.13975 | Time: 175.51 seconds\n",
      "Epoch: 3 | Train Loss: 0.16860 | Valid Loss: 0.16454 | Time: 175.65 seconds\n",
      "Epoch: 4 | Train Loss: 0.17225 | Valid Loss: 0.16465 | Time: 175.06 seconds\n",
      "Epoch: 5 | Train Loss: 0.17056 | Valid Loss: 0.19617 | Time: 174.28 seconds\n",
      "Epoch: 6 | Train Loss: 0.16481 | Valid Loss: 0.20480 | Time: 175.05 seconds\n",
      "Epoch: 7 | Train Loss: 0.15727 | Valid Loss: 0.18553 | Time: 172.54 seconds\n",
      "\n",
      "Early Stopping at Epoch 8\n",
      "\n",
      "**************************************************\n",
      "\n",
      "Best Validation Loss at Epoch 2\n",
      "\n",
      "**************************************************\n",
      "\n",
      "Time Taken [8 Epochs] : 24.06 minutes\n",
      "\n",
      "**************************************************\n",
      "\n"
     ]
    },
    {
     "data": {
      "image/png": "[encoded data removed]",
      "text/plain": [
       "<Figure size 432x288 with 1 Axes>"
      ]
     },
     "metadata": {
      "needs_background": "light"
     },
     "output_type": "display_data"
    },
    {
     "name": "stdout",
     "output_type": "stream",
     "text": [
      "\n",
      "**************************************************\n",
      "\n"
     ]
    },
    {
     "data": {
      "image/png": "[encoded data removed]",
      "text/plain": [
       "<Figure size 576x432 with 1 Axes>"
      ]
     },
     "metadata": {
      "needs_background": "light"
     },
     "output_type": "display_data"
    },
    {
     "name": "stdout",
     "output_type": "stream",
     "text": [
      "\n",
      "**************************************************\n",
      "\n",
      "\n",
      "**************************************************\n",
      "\n",
      " ----- DENSENET169 -----\n",
      "\n",
      "**************************************************\n",
      "\n",
      "Training Fold 2...\n",
      "\n",
      "**************************************************\n",
      "\n",
      "Epoch: 1 | Train Loss: 0.57442 | Valid Loss: 0.33825 | Time: 86.67 seconds\n",
      "Epoch: 2 | Train Loss: 0.19634 | Valid Loss: 0.13554 | Time: 85.45 seconds\n",
      "Epoch: 3 | Train Loss: 0.14768 | Valid Loss: 0.15133 | Time: 84.99 seconds\n",
      "Epoch: 4 | Train Loss: 0.15035 | Valid Loss: 0.16830 | Time: 84.33 seconds\n",
      "Epoch: 5 | Train Loss: 0.15091 | Valid Loss: 0.16560 | Time: 85.01 seconds\n",
      "Epoch: 6 | Train Loss: 0.13952 | Valid Loss: 0.15646 | Time: 85.06 seconds\n",
      "Epoch: 7 | Train Loss: 0.13677 | Valid Loss: 0.13687 | Time: 87.69 seconds\n",
      "Epoch: 8 | Train Loss: 0.12713 | Valid Loss: 0.12552 | Time: 87.07 seconds\n",
      "Epoch: 9 | Train Loss: 0.12322 | Valid Loss: 0.15261 | Time: 86.30 seconds\n",
      "Epoch: 10 | Train Loss: 0.11919 | Valid Loss: 0.14004 | Time: 86.42 seconds\n",
      "Epoch: 11 | Train Loss: 0.10935 | Valid Loss: 0.12484 | Time: 87.47 seconds\n",
      "Epoch: 12 | Train Loss: 0.10313 | Valid Loss: 0.13010 | Time: 87.11 seconds\n",
      "Epoch: 13 | Train Loss: 0.09699 | Valid Loss: 0.13090 | Time: 87.30 seconds\n",
      "Epoch: 14 | Train Loss: 0.08792 | Valid Loss: 0.12172 | Time: 87.40 seconds\n",
      "Epoch: 15 | Train Loss: 0.08156 | Valid Loss: 0.11893 | Time: 87.47 seconds\n",
      "Epoch: 16 | Train Loss: 0.07318 | Valid Loss: 0.11377 | Time: 87.47 seconds\n",
      "Epoch: 17 | Train Loss: 0.06549 | Valid Loss: 0.11069 | Time: 87.84 seconds\n",
      "Epoch: 18 | Train Loss: 0.05839 | Valid Loss: 0.10776 | Time: 86.89 seconds\n",
      "Epoch: 19 | Train Loss: 0.05028 | Valid Loss: 0.10771 | Time: 87.89 seconds\n",
      "Epoch: 20 | Train Loss: 0.04459 | Valid Loss: 0.10685 | Time: 87.50 seconds\n",
      "Epoch: 21 | Train Loss: 0.03928 | Valid Loss: 0.10698 | Time: 86.82 seconds\n",
      "Epoch: 22 | Train Loss: 0.03567 | Valid Loss: 0.10530 | Time: 87.09 seconds\n",
      "Epoch: 23 | Train Loss: 0.03380 | Valid Loss: 0.10604 | Time: 86.17 seconds\n",
      "Epoch: 24 | Train Loss: 0.03267 | Valid Loss: 0.10541 | Time: 86.08 seconds\n",
      "Epoch: 25 | Train Loss: 0.03191 | Valid Loss: 0.10547 | Time: 85.75 seconds\n",
      "\n",
      "**************************************************\n",
      "\n",
      "Best Validation Loss at Epoch 22\n",
      "\n",
      "**************************************************\n",
      "\n",
      "Time Taken [25 Epochs] : 36.09 minutes\n",
      "\n",
      "**************************************************\n",
      "\n"
     ]
    },
    {
     "data": {
      "image/png": "[encoded data removed]",
      "text/plain": [
       "<Figure size 432x288 with 1 Axes>"
      ]
     },
     "metadata": {
      "needs_background": "light"
     },
     "output_type": "display_data"
    },
    {
     "name": "stdout",
     "output_type": "stream",
     "text": [
      "\n",
      "**************************************************\n",
      "\n"
     ]
    },
    {
     "data": {
      "image/png": "[encoded data removed]",
      "text/plain": [
       "<Figure size 576x432 with 1 Axes>"
      ]
     },
     "metadata": {
      "needs_background": "light"
     },
     "output_type": "display_data"
    },
    {
     "name": "stdout",
     "output_type": "stream",
     "text": [
      "\n",
      "**************************************************\n",
      "\n",
      "\n",
      "**************************************************\n",
      "\n",
      " ----- DENSENET169 -----\n",
      "\n",
      "**************************************************\n",
      "\n",
      "Training Fold 3...\n",
      "\n",
      "**************************************************\n",
      "\n",
      "Epoch: 1 | Train Loss: 0.57395 | Valid Loss: 0.33427 | Time: 86.38 seconds\n",
      "Epoch: 2 | Train Loss: 0.19628 | Valid Loss: 0.14379 | Time: 86.96 seconds\n",
      "Epoch: 3 | Train Loss: 0.14452 | Valid Loss: 0.18318 | Time: 86.32 seconds\n",
      "Epoch: 4 | Train Loss: 0.14696 | Valid Loss: 0.17661 | Time: 85.62 seconds\n",
      "Epoch: 5 | Train Loss: 0.14561 | Valid Loss: 0.17153 | Time: 85.25 seconds\n",
      "Epoch: 6 | Train Loss: 0.13990 | Valid Loss: 0.14844 | Time: 85.91 seconds\n",
      "Epoch: 7 | Train Loss: 0.13283 | Valid Loss: 0.14140 | Time: 87.32 seconds\n",
      "Epoch: 8 | Train Loss: 0.12704 | Valid Loss: 0.13544 | Time: 86.33 seconds\n",
      "Epoch: 9 | Train Loss: 0.11847 | Valid Loss: 0.14781 | Time: 85.55 seconds\n",
      "Epoch: 10 | Train Loss: 0.11419 | Valid Loss: 0.16818 | Time: 85.98 seconds\n",
      "Epoch: 11 | Train Loss: 0.10573 | Valid Loss: 0.15804 | Time: 85.47 seconds\n",
      "Epoch: 12 | Train Loss: 0.10228 | Valid Loss: 0.12747 | Time: 86.07 seconds\n",
      "Epoch: 13 | Train Loss: 0.09378 | Valid Loss: 0.13209 | Time: 85.87 seconds\n",
      "Epoch: 14 | Train Loss: 0.08569 | Valid Loss: 0.12306 | Time: 87.89 seconds\n",
      "Epoch: 15 | Train Loss: 0.07786 | Valid Loss: 0.12688 | Time: 87.18 seconds\n",
      "Epoch: 16 | Train Loss: 0.07112 | Valid Loss: 0.13489 | Time: 86.49 seconds\n",
      "Epoch: 17 | Train Loss: 0.06222 | Valid Loss: 0.12488 | Time: 87.50 seconds\n",
      "Epoch: 18 | Train Loss: 0.05356 | Valid Loss: 0.13023 | Time: 88.03 seconds\n",
      "Epoch: 19 | Train Loss: 0.04809 | Valid Loss: 0.12786 | Time: 86.21 seconds\n",
      "\n",
      "Early Stopping at Epoch 20\n",
      "\n",
      "**************************************************\n",
      "\n",
      "Best Validation Loss at Epoch 14\n",
      "\n",
      "**************************************************\n",
      "\n",
      "Time Taken [20 Epochs] : 28.83 minutes\n",
      "\n",
      "**************************************************\n",
      "\n"
     ]
    },
    {
     "data": {
      "image/png": "[encoded data removed]",
      "text/plain": [
       "<Figure size 432x288 with 1 Axes>"
      ]
     },
     "metadata": {
      "needs_background": "light"
     },
     "output_type": "display_data"
    },
    {
     "name": "stdout",
     "output_type": "stream",
     "text": [
      "\n",
      "**************************************************\n",
      "\n"
     ]
    },
    {
     "data": {
      "image/png": "[encoded data removed]",
      "text/plain": [
       "<Figure size 576x432 with 1 Axes>"
      ]
     },
     "metadata": {
      "needs_background": "light"
     },
     "output_type": "display_data"
    },
    {
     "name": "stdout",
     "output_type": "stream",
     "text": [
      "\n",
      "**************************************************\n",
      "\n",
      "\n",
      "**************************************************\n",
      "\n",
      " ----- DENSENET169 -----\n",
      "\n",
      "**************************************************\n",
      "\n",
      "Training Fold 4...\n",
      "\n",
      "**************************************************\n",
      "\n",
      "Epoch: 1 | Train Loss: 0.57405 | Valid Loss: 0.34210 | Time: 87.02 seconds\n",
      "Epoch: 2 | Train Loss: 0.19469 | Valid Loss: 0.13883 | Time: 86.35 seconds\n",
      "Epoch: 3 | Train Loss: 0.14410 | Valid Loss: 0.14654 | Time: 86.45 seconds\n",
      "Epoch: 4 | Train Loss: 0.14764 | Valid Loss: 0.18397 | Time: 85.81 seconds\n",
      "Epoch: 5 | Train Loss: 0.14626 | Valid Loss: 0.22320 | Time: 86.72 seconds\n",
      "Epoch: 6 | Train Loss: 0.13821 | Valid Loss: 0.19322 | Time: 86.64 seconds\n",
      "Epoch: 7 | Train Loss: 0.13344 | Valid Loss: 0.14866 | Time: 86.79 seconds\n",
      "\n",
      "Early Stopping at Epoch 8\n",
      "\n",
      "**************************************************\n",
      "\n",
      "Best Validation Loss at Epoch 2\n",
      "\n",
      "**************************************************\n",
      "\n",
      "Time Taken [8 Epochs] : 11.52 minutes\n",
      "\n",
      "**************************************************\n",
      "\n"
     ]
    },
    {
     "data": {
      "image/png": "[encoded data removed]",
      "text/plain": [
       "<Figure size 432x288 with 1 Axes>"
      ]
     },
     "metadata": {
      "needs_background": "light"
     },
     "output_type": "display_data"
    },
    {
     "name": "stdout",
     "output_type": "stream",
     "text": [
      "\n",
      "**************************************************\n",
      "\n"
     ]
    },
    {
     "data": {
      "image/png": "[encoded data removed]",
      "text/plain": [
       "<Figure size 576x432 with 1 Axes>"
      ]
     },
     "metadata": {
      "needs_background": "light"
     },
     "output_type": "display_data"
    },
    {
     "name": "stdout",
     "output_type": "stream",
     "text": [
      "\n",
      "**************************************************\n",
      "\n",
      "\n",
      "**************************************************\n",
      "\n",
      " ----- DENSENET169 -----\n",
      "\n",
      "**************************************************\n",
      "\n",
      "Training Fold 5...\n",
      "\n",
      "**************************************************\n",
      "\n",
      "Epoch: 1 | Train Loss: 0.57398 | Valid Loss: 0.34206 | Time: 86.43 seconds\n",
      "Epoch: 2 | Train Loss: 0.19363 | Valid Loss: 0.13445 | Time: 87.30 seconds\n",
      "Epoch: 3 | Train Loss: 0.14466 | Valid Loss: 0.21803 | Time: 85.60 seconds\n",
      "Epoch: 4 | Train Loss: 0.14653 | Valid Loss: 0.16438 | Time: 84.29 seconds\n",
      "Epoch: 5 | Train Loss: 0.14881 | Valid Loss: 0.15610 | Time: 85.47 seconds\n",
      "Epoch: 6 | Train Loss: 0.13728 | Valid Loss: 0.14683 | Time: 85.20 seconds\n",
      "Epoch: 7 | Train Loss: 0.13302 | Valid Loss: 0.16794 | Time: 84.73 seconds\n",
      "Epoch: 8 | Train Loss: 0.12486 | Valid Loss: 0.13277 | Time: 85.60 seconds\n",
      "Epoch: 9 | Train Loss: 0.11849 | Valid Loss: 0.13741 | Time: 84.37 seconds\n",
      "Epoch: 10 | Train Loss: 0.11490 | Valid Loss: 0.14539 | Time: 84.26 seconds\n",
      "Epoch: 11 | Train Loss: 0.10826 | Valid Loss: 0.14400 | Time: 84.49 seconds\n",
      "Epoch: 12 | Train Loss: 0.09981 | Valid Loss: 0.13081 | Time: 85.66 seconds\n",
      "Epoch: 13 | Train Loss: 0.09271 | Valid Loss: 0.13632 | Time: 84.03 seconds\n",
      "Epoch: 14 | Train Loss: 0.08622 | Valid Loss: 0.12883 | Time: 86.61 seconds\n",
      "Epoch: 15 | Train Loss: 0.07974 | Valid Loss: 0.13398 | Time: 85.49 seconds\n",
      "Epoch: 16 | Train Loss: 0.06980 | Valid Loss: 0.13085 | Time: 85.05 seconds\n",
      "Epoch: 17 | Train Loss: 0.06253 | Valid Loss: 0.13022 | Time: 85.07 seconds\n",
      "Epoch: 18 | Train Loss: 0.05454 | Valid Loss: 0.12913 | Time: 85.23 seconds\n",
      "Epoch: 19 | Train Loss: 0.04742 | Valid Loss: 0.12690 | Time: 85.59 seconds\n",
      "Epoch: 20 | Train Loss: 0.04243 | Valid Loss: 0.12557 | Time: 85.29 seconds\n",
      "Epoch: 21 | Train Loss: 0.03762 | Valid Loss: 0.12927 | Time: 85.04 seconds\n",
      "Epoch: 22 | Train Loss: 0.03359 | Valid Loss: 0.12760 | Time: 85.09 seconds\n",
      "Epoch: 23 | Train Loss: 0.03165 | Valid Loss: 0.12686 | Time: 84.89 seconds\n",
      "Epoch: 24 | Train Loss: 0.03060 | Valid Loss: 0.12636 | Time: 84.26 seconds\n",
      "Epoch: 25 | Train Loss: 0.03015 | Valid Loss: 0.12699 | Time: 85.36 seconds\n",
      "\n",
      "**************************************************\n",
      "\n",
      "Best Validation Loss at Epoch 20\n",
      "\n",
      "**************************************************\n",
      "\n",
      "Time Taken [25 Epochs] : 35.51 minutes\n",
      "\n",
      "**************************************************\n",
      "\n"
     ]
    },
    {
     "data": {
      "image/png": "[encoded data removed]",
      "text/plain": [
       "<Figure size 432x288 with 1 Axes>"
      ]
     },
     "metadata": {
      "needs_background": "light"
     },
     "output_type": "display_data"
    },
    {
     "name": "stdout",
     "output_type": "stream",
     "text": [
      "\n",
      "**************************************************\n",
      "\n"
     ]
    },
    {
     "data": {
      "image/png": "[encoded data removed]",
      "text/plain": [
       "<Figure size 576x432 with 1 Axes>"
      ]
     },
     "metadata": {
      "needs_background": "light"
     },
     "output_type": "display_data"
    },
    {
     "name": "stdout",
     "output_type": "stream",
     "text": [
      "\n",
      "**************************************************\n",
      "\n"
     ]
    }
   ],
   "source": [
    "fold: int = 1\n",
    "BLEs: list = []\n",
    "model_name: str = \"densenet169\"\n",
    "\n",
    "for tr_idx, va_idx in KFold(n_splits=cfg.n_splits, random_state=cfg.seed, shuffle=True).split(filenames):\n",
    "\n",
    "    tr_filenames, va_filenames = filenames[tr_idx], filenames[va_idx] \n",
    "    tr_labels, va_labels       = labels[tr_idx], labels[va_idx]\n",
    "    \n",
    "    tr_data_setup = DS(\n",
    "        base_path=\"../input/com3025-2022-challenge-week-6-7-extended-extend/train_data/train_data\", \n",
    "        filenames=tr_filenames, \n",
    "        labels=tr_labels,\n",
    "        size=cfg.size,\n",
    "        transform=cfg.train_transform\n",
    "    )\n",
    "    \n",
    "    va_data_setup = DS(\n",
    "        base_path=\"../input/com3025-2022-challenge-week-6-7-extended-extend/train_data/train_data\", \n",
    "        filenames=va_filenames, \n",
    "        labels=va_labels,\n",
    "        size=cfg.size,\n",
    "        transform=cfg.valid_transform\n",
    "    )\n",
    "\n",
    "    dataloaders = {\n",
    "        \"train\" : DL(tr_data_setup, batch_size=cfg.batch_size, shuffle=True, generator=torch.manual_seed(cfg.seed)),\n",
    "        \"valid\" : DL(va_data_setup, batch_size=cfg.batch_size, shuffle=False),\n",
    "    }\n",
    "\n",
    "    cfg = CFG(\n",
    "        epochs=25, \n",
    "        batch_size=64, \n",
    "        early_stopping=5,\n",
    "        steps_per_epoch=len(dataloaders[\"train\"])\n",
    "    )\n",
    "    \n",
    "    torch.manual_seed(cfg.seed)\n",
    "    model = Model(model_name=model_name).to(cfg.device)\n",
    "\n",
    "    optimizer = optim.Adam([p for p in model.parameters() if p.requires_grad], lr=cfg.lr, weight_decay=cfg.wd)\n",
    "    # optimizer = optim.AdamW([p for p in model.parameters() if p.requires_grad], lr=cfg.lr, weight_decay=cfg.wd)\n",
    "    # optimizer = optim.SGD([p for p in model.parameters() if p.requires_grad], lr=cfg.lr, weight_decay=cfg.wd, momentum=0.9)\n",
    "    \n",
    "    scheduler_oclr = optim.lr_scheduler.OneCycleLR(\n",
    "        optimizer=optimizer, \n",
    "        max_lr=cfg.max_lr, \n",
    "        epochs=cfg.epochs, \n",
    "        steps_per_epoch=cfg.steps_per_epoch,\n",
    "        pct_start=cfg.pct_start, \n",
    "        div_factor=cfg.div_factor, \n",
    "        final_div_factor=cfg.final_div_factor\n",
    "    )\n",
    "\n",
    "    # scheduler_rlrop = optim.lr_scheduler.ReduceLROnPlateau(\n",
    "    #     optimizer=optimizer,\n",
    "    #     patience=cfg.patience,\n",
    "    #     eps=cfg.eps,\n",
    "    #     verbose=True\n",
    "    # )\n",
    "\n",
    "    # scheduler_oclr = None\n",
    "    scheduler_rlrop = None\n",
    "    \n",
    "    L, LR, BLE, _ = fit(\n",
    "        model=model, \n",
    "        model_name=model_name,\n",
    "        optimizer=optimizer, \n",
    "        scheduler_oclr=scheduler_oclr,\n",
    "        scheduler_rlrop=scheduler_rlrop,\n",
    "        epochs=cfg.epochs, \n",
    "        early_stopping_patience=cfg.early_stopping, \n",
    "        dataloaders=dataloaders, \n",
    "        device=cfg.device,\n",
    "        save_path=cfg.save_path,\n",
    "        fold=fold,\n",
    "        verbose=True\n",
    "    )\n",
    "    \n",
    "    breaker()\n",
    "    show_loss_graphs(L)\n",
    "    breaker()\n",
    "    if scheduler_oclr:\n",
    "        show_lr_graph(LR)\n",
    "        breaker()\n",
    "    \n",
    "    BLEs.append(BLE)\n",
    "    \n",
    "    fold += 1"
   ]
  },
  {
   "cell_type": "markdown",
   "id": "972a69e3",
   "metadata": {
    "papermill": {
     "duration": 0.011355,
     "end_time": "2022-09-10T03:08:11.212310",
     "exception": false,
     "start_time": "2022-09-10T03:08:11.200955",
     "status": "completed"
    },
    "tags": []
   },
   "source": [
    "### **Best Model**"
   ]
  },
  {
   "cell_type": "code",
   "execution_count": 10,
   "id": "eaf541cc",
   "metadata": {
    "execution": {
     "iopub.execute_input": "2022-09-10T03:08:11.236470Z",
     "iopub.status.busy": "2022-09-10T03:08:11.235836Z",
     "iopub.status.idle": "2022-09-10T03:08:11.241668Z",
     "shell.execute_reply": "2022-09-10T03:08:11.240619Z"
    },
    "papermill": {
     "duration": 0.020381,
     "end_time": "2022-09-10T03:08:11.243803",
     "exception": false,
     "start_time": "2022-09-10T03:08:11.223422",
     "status": "completed"
    },
    "tags": []
   },
   "outputs": [
    {
     "name": "stdout",
     "output_type": "stream",
     "text": [
      "\n",
      "**************************************************\n",
      "\n",
      "Best Loss Model Fold : 1\n",
      "\n",
      "**************************************************\n",
      "\n"
     ]
    }
   ],
   "source": [
    "best_loss_index = BLEs.index(min(BLEs))\n",
    "\n",
    "breaker()\n",
    "print(f\"Best Loss Model Fold : {best_loss_index + 1}\")\n",
    "breaker()"
   ]
  }
 ],
 "metadata": {
  "kernelspec": {
   "display_name": "Python 3",
   "language": "python",
   "name": "python3"
  },
  "language_info": {
   "codemirror_mode": {
    "name": "ipython",
    "version": 3
   },
   "file_extension": ".py",
   "mimetype": "text/x-python",
   "name": "python",
   "nbconvert_exporter": "python",
   "pygments_lexer": "ipython3",
   "version": "3.7.12"
  },
  "papermill": {
   "default_parameters": {},
   "duration": 8197.083198,
   "end_time": "2022-09-10T03:08:13.491666",
   "environment_variables": {},
   "exception": null,
   "input_path": "__notebook__.ipynb",
   "output_path": "__notebook__.ipynb",
   "parameters": {},
   "start_time": "2022-09-10T00:51:36.408468",
   "version": "2.3.4"
  }
 },
 "nbformat": 4,
 "nbformat_minor": 5
}
