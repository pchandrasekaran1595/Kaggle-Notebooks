{
 "cells": [
  {
   "cell_type": "markdown",
   "id": "900a887f",
   "metadata": {
    "_cell_guid": "b1076dfc-b9ad-4769-8c92-a6c4dae69d19",
    "_uuid": "8f2839f25d086af736a60e9eeb907d3b93b6e0e5",
    "papermill": {
     "duration": 0.005143,
     "end_time": "2022-09-10T06:09:50.298986",
     "exception": false,
     "start_time": "2022-09-10T06:09:50.293843",
     "status": "completed"
    },
    "tags": []
   },
   "source": [
    "### **Setup**"
   ]
  },
  {
   "cell_type": "code",
   "execution_count": 1,
   "id": "2f4575e4",
   "metadata": {
    "execution": {
     "iopub.execute_input": "2022-09-10T06:09:50.308651Z",
     "iopub.status.busy": "2022-09-10T06:09:50.308092Z",
     "iopub.status.idle": "2022-09-10T06:10:00.849739Z",
     "shell.execute_reply": "2022-09-10T06:10:00.848280Z"
    },
    "papermill": {
     "duration": 10.549121,
     "end_time": "2022-09-10T06:10:00.852039",
     "exception": false,
     "start_time": "2022-09-10T06:09:50.302918",
     "status": "completed"
    },
    "tags": []
   },
   "outputs": [
    {
     "name": "stderr",
     "output_type": "stream",
     "text": [
      "WARNING: Running pip as the 'root' user can result in broken permissions and conflicting behaviour with the system package manager. It is recommended to use a virtual environment instead: https://pip.pypa.io/warnings/venv\n"
     ]
    }
   ],
   "source": [
    "%%bash\n",
    "pip install timm -q"
   ]
  },
  {
   "cell_type": "markdown",
   "id": "9dd06907",
   "metadata": {
    "papermill": {
     "duration": 0.003665,
     "end_time": "2022-09-10T06:10:00.859930",
     "exception": false,
     "start_time": "2022-09-10T06:10:00.856265",
     "status": "completed"
    },
    "tags": []
   },
   "source": [
    "### **Library Imports**"
   ]
  },
  {
   "cell_type": "code",
   "execution_count": 2,
   "id": "03c60438",
   "metadata": {
    "execution": {
     "iopub.execute_input": "2022-09-10T06:10:00.868960Z",
     "iopub.status.busy": "2022-09-10T06:10:00.868640Z",
     "iopub.status.idle": "2022-09-10T06:10:04.786467Z",
     "shell.execute_reply": "2022-09-10T06:10:04.785250Z"
    },
    "papermill": {
     "duration": 3.925255,
     "end_time": "2022-09-10T06:10:04.788929",
     "exception": false,
     "start_time": "2022-09-10T06:10:00.863674",
     "status": "completed"
    },
    "tags": []
   },
   "outputs": [],
   "source": [
    "import os\n",
    "import re\n",
    "import cv2\n",
    "import timm\n",
    "import torch\n",
    "import numpy as np\n",
    "import pandas as pd\n",
    "import matplotlib.pyplot as plt\n",
    "\n",
    "from time import time\n",
    "from torch import nn, optim\n",
    "from torch.utils.data import Dataset\n",
    "from torch.utils.data import DataLoader as DL\n",
    "from torchvision import models, transforms\n",
    "\n",
    "from sklearn.model_selection import KFold"
   ]
  },
  {
   "cell_type": "markdown",
   "id": "1fda54f7",
   "metadata": {
    "papermill": {
     "duration": 0.003756,
     "end_time": "2022-09-10T06:10:04.796876",
     "exception": false,
     "start_time": "2022-09-10T06:10:04.793120",
     "status": "completed"
    },
    "tags": []
   },
   "source": [
    "### **Utilities and Helpers**"
   ]
  },
  {
   "cell_type": "code",
   "execution_count": 3,
   "id": "2aeaccd0",
   "metadata": {
    "execution": {
     "iopub.execute_input": "2022-09-10T06:10:04.806729Z",
     "iopub.status.busy": "2022-09-10T06:10:04.805909Z",
     "iopub.status.idle": "2022-09-10T06:10:04.816559Z",
     "shell.execute_reply": "2022-09-10T06:10:04.815443Z"
    },
    "papermill": {
     "duration": 0.021129,
     "end_time": "2022-09-10T06:10:04.821834",
     "exception": false,
     "start_time": "2022-09-10T06:10:04.800705",
     "status": "completed"
    },
    "tags": []
   },
   "outputs": [],
   "source": [
    "SEED = 42\n",
    "SIZE = 384\n",
    "\n",
    "\n",
    "def breaker(num: int=50, char: str=\"*\") -> None:\n",
    "    print(\"\\n\" + num*char + \"\\n\")\n",
    "\n",
    "    \n",
    "def get_image(path: str, size: int=224) -> np.ndarray:\n",
    "    image = cv2.imread(path, cv2.IMREAD_COLOR)\n",
    "    image = cv2.cvtColor(src=image, code=cv2.COLOR_BGR2RGB)\n",
    "    return cv2.resize(src=image, dsize=(size, size), interpolation=cv2.INTER_AREA)\n",
    "\n",
    "\n",
    "def show_loss_graphs(L: list) -> None:\n",
    "    TL, VL = [], []\n",
    "    for i in range(len(L)):\n",
    "        TL.append(L[i][\"train\"])\n",
    "        VL.append(L[i][\"valid\"])\n",
    "    x_Axis = np.arange(1, len(TL) + 1)\n",
    "    plt.figure()\n",
    "    plt.plot(x_Axis, TL, \"r\", label=\"Train\")\n",
    "    plt.plot(x_Axis, VL, \"b\", label=\"Valid\")\n",
    "    plt.legend()\n",
    "    plt.grid()\n",
    "    plt.title(\"Loss Graph\")\n",
    "    plt.show()\n",
    "    \n",
    "\n",
    "def show_lr_graph(LR: list) -> None:\n",
    "    x_Axis = [i+1 for i in range(len(LR))]\n",
    "    plt.figure(figsize=(8, 6))\n",
    "    plt.plot(x_Axis, LR, \"rx\")\n",
    "    plt.grid()\n",
    "    plt.show()"
   ]
  },
  {
   "cell_type": "markdown",
   "id": "ecb26e46",
   "metadata": {
    "papermill": {
     "duration": 0.008541,
     "end_time": "2022-09-10T06:10:04.840715",
     "exception": false,
     "start_time": "2022-09-10T06:10:04.832174",
     "status": "completed"
    },
    "tags": []
   },
   "source": [
    "### **Configuration**"
   ]
  },
  {
   "cell_type": "code",
   "execution_count": 4,
   "id": "0111a979",
   "metadata": {
    "execution": {
     "iopub.execute_input": "2022-09-10T06:10:04.860286Z",
     "iopub.status.busy": "2022-09-10T06:10:04.859839Z",
     "iopub.status.idle": "2022-09-10T06:10:04.943698Z",
     "shell.execute_reply": "2022-09-10T06:10:04.942726Z"
    },
    "papermill": {
     "duration": 0.096271,
     "end_time": "2022-09-10T06:10:04.945963",
     "exception": false,
     "start_time": "2022-09-10T06:10:04.849692",
     "status": "completed"
    },
    "tags": []
   },
   "outputs": [],
   "source": [
    "class CFG(object):\n",
    "    def __init__(self, \n",
    "                 seed: int = 42,\n",
    "                 size: int = 224,\n",
    "                 n_splits: int = 5,\n",
    "                 batch_size: int = 16,\n",
    "                 epochs: int = 25,\n",
    "                 early_stopping: int = 5,\n",
    "                 lr: float = 1e-4,\n",
    "                 wd: float = 0.0,\n",
    "                 max_lr: float = 1e-3,\n",
    "                 pct_start: float = 0.2,\n",
    "                 steps_per_epoch: int = 100,\n",
    "                 div_factor: int = 1e3, \n",
    "                 final_div_factor: float = 1e3,\n",
    "                 ):\n",
    "        self.seed = seed\n",
    "        self.size = size\n",
    "        self.n_splits = n_splits\n",
    "        self.batch_size = batch_size\n",
    "        self.epochs = epochs\n",
    "        self.early_stopping = early_stopping\n",
    "        self.lr = lr\n",
    "        self.wd = wd\n",
    "        self.max_lr = max_lr\n",
    "        self.pct_start = pct_start\n",
    "        self.steps_per_epoch = steps_per_epoch\n",
    "        self.div_factor = div_factor\n",
    "        self.final_div_factor = final_div_factor\n",
    "        self.device = torch.device(\"cuda\" if torch.cuda.is_available() else \"cpu\")\n",
    "        self.train_transform = transforms.Compose([\n",
    "            transforms.ToTensor(),\n",
    "            transforms.Normalize([0.44811, 0.42458, 0.39159], [0.23526, 0.22963, 0.23221]),\n",
    "            transforms.RandomAffine(degrees=(-45, 45), translate=(0.15, 0.15), scale=(0.5, 1.5)),\n",
    "            transforms.RandomHorizontalFlip(p=0.25),\n",
    "            transforms.RandomVerticalFlip(p=0.25),\n",
    "        ])\n",
    "        self.valid_transform = transforms.Compose([\n",
    "            transforms.ToTensor(),\n",
    "            transforms.Normalize([0.44811, 0.42458, 0.39159], [0.23526, 0.22963, 0.23221]),\n",
    "        ])\n",
    "                                \n",
    "        self.save_path = \"saves\"\n",
    "        if not os.path.exists(self.save_path): os.makedirs(self.save_path)\n",
    "    \n",
    "cfg = CFG(seed=SEED, size=SIZE)"
   ]
  },
  {
   "cell_type": "markdown",
   "id": "1f7f4884",
   "metadata": {
    "papermill": {
     "duration": 0.003713,
     "end_time": "2022-09-10T06:10:04.953789",
     "exception": false,
     "start_time": "2022-09-10T06:10:04.950076",
     "status": "completed"
    },
    "tags": []
   },
   "source": [
    "### **Dataset Template**"
   ]
  },
  {
   "cell_type": "code",
   "execution_count": 5,
   "id": "0eea66cc",
   "metadata": {
    "execution": {
     "iopub.execute_input": "2022-09-10T06:10:04.962619Z",
     "iopub.status.busy": "2022-09-10T06:10:04.962332Z",
     "iopub.status.idle": "2022-09-10T06:10:04.968659Z",
     "shell.execute_reply": "2022-09-10T06:10:04.967742Z"
    },
    "papermill": {
     "duration": 0.013169,
     "end_time": "2022-09-10T06:10:04.970762",
     "exception": false,
     "start_time": "2022-09-10T06:10:04.957593",
     "status": "completed"
    },
    "tags": []
   },
   "outputs": [],
   "source": [
    "class DS(Dataset):\n",
    "    def __init__(\n",
    "        self, \n",
    "        base_path: str,\n",
    "        filenames: np.ndarray, \n",
    "        labels: np.ndarray, \n",
    "        size: int,\n",
    "        transform=None):\n",
    "        \n",
    "        self.base_path = base_path\n",
    "        self.filenames = filenames\n",
    "        self.labels = labels\n",
    "        self.size = size\n",
    "        self.transform = transform\n",
    "    \n",
    "    def __len__(self):\n",
    "        return self.filenames.shape[0]\n",
    "    \n",
    "    def __getitem__(self, idx):\n",
    "        path = os.path.join(self.base_path, self.filenames[idx])\n",
    "        image = get_image(path, self.size)\n",
    "        return self.transform(image), self.labels[idx]"
   ]
  },
  {
   "cell_type": "markdown",
   "id": "1d804a31",
   "metadata": {
    "papermill": {
     "duration": 0.00362,
     "end_time": "2022-09-10T06:10:04.978791",
     "exception": false,
     "start_time": "2022-09-10T06:10:04.975171",
     "status": "completed"
    },
    "tags": []
   },
   "source": [
    "### **Model**"
   ]
  },
  {
   "cell_type": "code",
   "execution_count": 6,
   "id": "cfcccac0",
   "metadata": {
    "execution": {
     "iopub.execute_input": "2022-09-10T06:10:04.987477Z",
     "iopub.status.busy": "2022-09-10T06:10:04.987214Z",
     "iopub.status.idle": "2022-09-10T06:10:04.993674Z",
     "shell.execute_reply": "2022-09-10T06:10:04.992798Z"
    },
    "papermill": {
     "duration": 0.013021,
     "end_time": "2022-09-10T06:10:04.995619",
     "exception": false,
     "start_time": "2022-09-10T06:10:04.982598",
     "status": "completed"
    },
    "tags": []
   },
   "outputs": [],
   "source": [
    "class Model(nn.Module):\n",
    "    def __init__(self):\n",
    "        super(Model, self).__init__()\n",
    "            \n",
    "        self.model = timm.create_model(model_name=\"mobilenetv3_small_100\")\n",
    "        self.model.classifier = nn.Linear(in_features=self.model.classifier.in_features, out_features=23) \n",
    "            \n",
    "    def freeze(self):\n",
    "        for params in self.parameters(): params.requires_grad = False\n",
    "\n",
    "    def forward(self, x):\n",
    "        return self.model(x)"
   ]
  },
  {
   "cell_type": "markdown",
   "id": "76f04e18",
   "metadata": {
    "papermill": {
     "duration": 0.003714,
     "end_time": "2022-09-10T06:10:05.003216",
     "exception": false,
     "start_time": "2022-09-10T06:10:04.999502",
     "status": "completed"
    },
    "tags": []
   },
   "source": [
    "### **Fit and Predict**"
   ]
  },
  {
   "cell_type": "code",
   "execution_count": 7,
   "id": "5784c54a",
   "metadata": {
    "execution": {
     "iopub.execute_input": "2022-09-10T06:10:05.012898Z",
     "iopub.status.busy": "2022-09-10T06:10:05.012587Z",
     "iopub.status.idle": "2022-09-10T06:10:05.031601Z",
     "shell.execute_reply": "2022-09-10T06:10:05.030645Z"
    },
    "papermill": {
     "duration": 0.026571,
     "end_time": "2022-09-10T06:10:05.033568",
     "exception": false,
     "start_time": "2022-09-10T06:10:05.006997",
     "status": "completed"
    },
    "tags": []
   },
   "outputs": [],
   "source": [
    "def fit(model=None,\n",
    "        optimizer=None, \n",
    "        scheduler_rlrop=None,\n",
    "        scheduler_oclr=None,\n",
    "        epochs=None, \n",
    "        early_stopping_patience=None, \n",
    "        dataloaders=None, \n",
    "        fold=None, \n",
    "        save_path=None,\n",
    "        device=None,\n",
    "        verbose=False) -> tuple:    \n",
    "    \n",
    "    if verbose:\n",
    "        breaker()\n",
    "        if fold: print(f\"Training Fold {fold}...\")\n",
    "        else: print(\"Training ...\")\n",
    "        breaker()\n",
    "        \n",
    "    bestLoss: dict = {\"train\" : np.inf, \"valid\" : np.inf} \n",
    "        \n",
    "    Losses: list = []\n",
    "    LRs: list = []\n",
    "        \n",
    "    if fold: ble_name = f\"ble_state_fold_{fold}.pt\"\n",
    "    else: ble_name = f\"ble_state.pt\"\n",
    "    \n",
    "    start_time = time()\n",
    "    for e in range(epochs):\n",
    "        e_st = time()\n",
    "        epochLoss: dict = {\"train\" : 0.0, \"valid\" : 0.0} \n",
    "\n",
    "        for phase in [\"train\", \"valid\"]:\n",
    "            if phase == \"train\": model.train()\n",
    "            else: model.eval()\n",
    "            \n",
    "            lossPerPass: list = []\n",
    "                \n",
    "            for X, y in dataloaders[phase]:\n",
    "                X, y = X.to(device), y.to(device)\n",
    "\n",
    "                optimizer.zero_grad()\n",
    "                with torch.set_grad_enabled(phase == \"train\"):\n",
    "                    output = model(X)\n",
    "                    loss = torch.nn.BCEWithLogitsLoss()(output, y)\n",
    "                    if phase == \"train\":\n",
    "                        loss.backward()\n",
    "                        optimizer.step()\n",
    "                        if scheduler_oclr: scheduler_oclr.step()\n",
    "                lossPerPass.append(loss.item())\n",
    "            epochLoss[phase] = np.mean(np.array(lossPerPass))\n",
    "        if scheduler_oclr: LRs.append(scheduler_oclr.get_last_lr())\n",
    "        Losses.append(epochLoss)\n",
    "    \n",
    "        if scheduler_oclr:\n",
    "            save_dict = {\"model_state_dict\"     : model.state_dict(),\n",
    "                         \"optim_state_dict\"     : optimizer.state_dict(),\n",
    "                         \"scheduler_state_dict\" : scheduler_oclr.state_dict()}\n",
    "        \n",
    "        elif scheduler_rlrop:\n",
    "            save_dict = {\"model_state_dict\"     : model.state_dict(),\n",
    "                         \"optim_state_dict\"     : optimizer.state_dict(),\n",
    "                         \"scheduler_state_dict\" : scheduler_rlrop.state_dict()}\n",
    "        \n",
    "        else:\n",
    "            save_dict = {\"model_state_dict\"     : model.state_dict(),\n",
    "                         \"optim_state_dict\"     : optimizer.state_dict()}\n",
    "        \n",
    "        \n",
    "        if early_stopping_patience:\n",
    "            if epochLoss[\"valid\"] < bestLoss[\"valid\"]:\n",
    "                bestLoss = epochLoss\n",
    "                BLE = e + 1\n",
    "                torch.save(save_dict, os.path.join(save_path, ble_name))\n",
    "                early_stopping_step = 0\n",
    "            else:\n",
    "                early_stopping_step += 1\n",
    "                if early_stopping_step > early_stopping_patience:\n",
    "                    print(\"\\nEarly Stopping at Epoch {}\".format(e + 1))\n",
    "                    break\n",
    "        \n",
    "        if epochLoss[\"valid\"] < bestLoss[\"valid\"]:\n",
    "            bestLoss = epochLoss\n",
    "            BLE = e + 1\n",
    "            torch.save(save_dict,os.path.join(save_path, ble_name))\n",
    "        \n",
    "        if scheduler_rlrop: scheduler_rlrop.step(epochLoss[\"valid\"])\n",
    "        \n",
    "        if verbose:\n",
    "            print(\"Epoch: {} | Train Loss: {:.5f} | Valid Loss: {:.5f} | Time: {:.2f} seconds\".format(e+1, epochLoss[\"train\"], epochLoss[\"valid\"], time()-e_st))\n",
    "\n",
    "    if verbose:                                           \n",
    "        breaker()\n",
    "        print(f\"Best Validation Loss at Epoch {BLE}\")\n",
    "        breaker()\n",
    "        print(\"Time Taken [{} Epochs] : {:.2f} minutes\".format(len(Losses), (time()-start_time)/60))\n",
    "    \n",
    "    return Losses, LRs, BLE, ble_name\n",
    "\n",
    "\n",
    "def predict_batch(\n",
    "    model=None, \n",
    "    dataloader=None, \n",
    "    path=None, \n",
    "    device=None\n",
    ") -> np.ndarray:\n",
    "    \n",
    "    model.load_state_dict(torch.load(path, map_location=device)[\"model_state_dict\"])\n",
    "    model.to(device)    \n",
    "    model.eval()\n",
    "    \n",
    "    y_pred = torch.zeros(1, 23).to(device)\n",
    "    \n",
    "    for X in dataloader:\n",
    "        X = X.to(device)\n",
    "        with torch.no_grad():\n",
    "            output = torch.sigmoid(model(X))\n",
    "        y_pred = torch.cat((y_pred, output), dim=0)\n",
    "    \n",
    "    return y_pred[1:].detach().cpu().numpy()"
   ]
  },
  {
   "cell_type": "markdown",
   "id": "a722b9ea",
   "metadata": {
    "papermill": {
     "duration": 0.004652,
     "end_time": "2022-09-10T06:10:05.042098",
     "exception": false,
     "start_time": "2022-09-10T06:10:05.037446",
     "status": "completed"
    },
    "tags": []
   },
   "source": [
    "### **Train**"
   ]
  },
  {
   "cell_type": "code",
   "execution_count": 8,
   "id": "0494f609",
   "metadata": {
    "execution": {
     "iopub.execute_input": "2022-09-10T06:10:05.050899Z",
     "iopub.status.busy": "2022-09-10T06:10:05.050632Z",
     "iopub.status.idle": "2022-09-10T06:10:05.093274Z",
     "shell.execute_reply": "2022-09-10T06:10:05.092413Z"
    },
    "papermill": {
     "duration": 0.049483,
     "end_time": "2022-09-10T06:10:05.095410",
     "exception": false,
     "start_time": "2022-09-10T06:10:05.045927",
     "status": "completed"
    },
    "tags": []
   },
   "outputs": [],
   "source": [
    "df = pd.read_csv(\"../input/com3025-2022-challenge-week-6-7-extended-extend/train.csv\")\n",
    "\n",
    "filenames = df.file_name.copy().values\n",
    "labels = df.iloc[:, 1:].copy().values"
   ]
  },
  {
   "cell_type": "code",
   "execution_count": 9,
   "id": "45d644eb",
   "metadata": {
    "execution": {
     "iopub.execute_input": "2022-09-10T06:10:05.104964Z",
     "iopub.status.busy": "2022-09-10T06:10:05.104412Z",
     "iopub.status.idle": "2022-09-10T08:30:14.986612Z",
     "shell.execute_reply": "2022-09-10T08:30:14.985300Z"
    },
    "papermill": {
     "duration": 8409.889449,
     "end_time": "2022-09-10T08:30:14.988831",
     "exception": false,
     "start_time": "2022-09-10T06:10:05.099382",
     "status": "completed"
    },
    "tags": []
   },
   "outputs": [
    {
     "name": "stdout",
     "output_type": "stream",
     "text": [
      "\n",
      "**************************************************\n",
      "\n",
      "Training Fold 1...\n",
      "\n",
      "**************************************************\n",
      "\n",
      "Epoch: 1 | Train Loss: 0.53576 | Valid Loss: 0.23883 | Time: 148.36 seconds\n",
      "Epoch: 2 | Train Loss: 0.23825 | Valid Loss: 0.23324 | Time: 97.77 seconds\n",
      "Epoch: 3 | Train Loss: 0.23353 | Valid Loss: 0.23405 | Time: 100.15 seconds\n",
      "Epoch: 4 | Train Loss: 0.23065 | Valid Loss: 0.22435 | Time: 97.76 seconds\n",
      "Epoch: 5 | Train Loss: 0.22724 | Valid Loss: 0.22359 | Time: 97.43 seconds\n",
      "Epoch: 6 | Train Loss: 0.22420 | Valid Loss: 0.21807 | Time: 98.64 seconds\n",
      "Epoch: 7 | Train Loss: 0.22172 | Valid Loss: 0.21880 | Time: 97.01 seconds\n",
      "Epoch: 8 | Train Loss: 0.21865 | Valid Loss: 0.21480 | Time: 97.19 seconds\n",
      "Epoch: 9 | Train Loss: 0.21611 | Valid Loss: 0.21067 | Time: 96.29 seconds\n",
      "Epoch: 10 | Train Loss: 0.21360 | Valid Loss: 0.20905 | Time: 95.26 seconds\n",
      "Epoch: 11 | Train Loss: 0.20961 | Valid Loss: 0.20382 | Time: 95.75 seconds\n",
      "Epoch: 12 | Train Loss: 0.20848 | Valid Loss: 0.20009 | Time: 94.68 seconds\n",
      "Epoch: 13 | Train Loss: 0.20427 | Valid Loss: 0.19722 | Time: 96.00 seconds\n",
      "Epoch: 14 | Train Loss: 0.20156 | Valid Loss: 0.19651 | Time: 96.22 seconds\n",
      "Epoch: 15 | Train Loss: 0.19797 | Valid Loss: 0.19351 | Time: 96.75 seconds\n",
      "Epoch: 16 | Train Loss: 0.19612 | Valid Loss: 0.19182 | Time: 96.21 seconds\n",
      "Epoch: 17 | Train Loss: 0.19363 | Valid Loss: 0.18930 | Time: 95.49 seconds\n",
      "Epoch: 18 | Train Loss: 0.19011 | Valid Loss: 0.18642 | Time: 95.03 seconds\n",
      "Epoch: 19 | Train Loss: 0.18909 | Valid Loss: 0.18338 | Time: 95.13 seconds\n",
      "Epoch: 20 | Train Loss: 0.18784 | Valid Loss: 0.18388 | Time: 96.46 seconds\n",
      "Epoch: 21 | Train Loss: 0.18526 | Valid Loss: 0.18255 | Time: 96.84 seconds\n",
      "Epoch: 22 | Train Loss: 0.18422 | Valid Loss: 0.18376 | Time: 97.57 seconds\n",
      "Epoch: 23 | Train Loss: 0.18350 | Valid Loss: 0.18269 | Time: 96.38 seconds\n",
      "Epoch: 24 | Train Loss: 0.18072 | Valid Loss: 0.18263 | Time: 95.84 seconds\n",
      "Epoch: 25 | Train Loss: 0.18107 | Valid Loss: 0.18303 | Time: 97.12 seconds\n",
      "\n",
      "**************************************************\n",
      "\n",
      "Best Validation Loss at Epoch 21\n",
      "\n",
      "**************************************************\n",
      "\n",
      "Time Taken [25 Epochs] : 41.12 minutes\n",
      "\n",
      "**************************************************\n",
      "\n"
     ]
    },
    {
     "data": {
      "image/png": "[encoded data removed]",
      "text/plain": [
       "<Figure size 432x288 with 1 Axes>"
      ]
     },
     "metadata": {
      "needs_background": "light"
     },
     "output_type": "display_data"
    },
    {
     "name": "stdout",
     "output_type": "stream",
     "text": [
      "\n",
      "**************************************************\n",
      "\n"
     ]
    },
    {
     "data": {
      "image/png": "[encoded data removed]",
      "text/plain": [
       "<Figure size 576x432 with 1 Axes>"
      ]
     },
     "metadata": {
      "needs_background": "light"
     },
     "output_type": "display_data"
    },
    {
     "name": "stdout",
     "output_type": "stream",
     "text": [
      "\n",
      "**************************************************\n",
      "\n",
      "\n",
      "**************************************************\n",
      "\n",
      "Training Fold 2...\n",
      "\n",
      "**************************************************\n",
      "\n",
      "Epoch: 1 | Train Loss: 0.65739 | Valid Loss: 0.54889 | Time: 60.12 seconds\n",
      "Epoch: 2 | Train Loss: 0.31974 | Valid Loss: 0.23312 | Time: 60.37 seconds\n",
      "Epoch: 3 | Train Loss: 0.23939 | Valid Loss: 0.23343 | Time: 59.82 seconds\n",
      "Epoch: 4 | Train Loss: 0.23612 | Valid Loss: 0.22482 | Time: 59.11 seconds\n",
      "Epoch: 5 | Train Loss: 0.23215 | Valid Loss: 0.22194 | Time: 60.25 seconds\n",
      "Epoch: 6 | Train Loss: 0.22705 | Valid Loss: 0.21590 | Time: 59.87 seconds\n",
      "Epoch: 7 | Train Loss: 0.22267 | Valid Loss: 0.21599 | Time: 59.34 seconds\n",
      "Epoch: 8 | Train Loss: 0.22126 | Valid Loss: 0.20833 | Time: 59.76 seconds\n",
      "Epoch: 9 | Train Loss: 0.21840 | Valid Loss: 0.20734 | Time: 59.19 seconds\n",
      "Epoch: 10 | Train Loss: 0.21712 | Valid Loss: 0.20924 | Time: 59.59 seconds\n",
      "Epoch: 11 | Train Loss: 0.21594 | Valid Loss: 0.20475 | Time: 59.35 seconds\n",
      "Epoch: 12 | Train Loss: 0.21357 | Valid Loss: 0.20708 | Time: 59.24 seconds\n",
      "Epoch: 13 | Train Loss: 0.21148 | Valid Loss: 0.20289 | Time: 59.15 seconds\n",
      "Epoch: 14 | Train Loss: 0.21088 | Valid Loss: 0.20020 | Time: 59.46 seconds\n",
      "Epoch: 15 | Train Loss: 0.20915 | Valid Loss: 0.20142 | Time: 59.51 seconds\n",
      "Epoch: 16 | Train Loss: 0.20617 | Valid Loss: 0.19766 | Time: 59.82 seconds\n",
      "Epoch: 17 | Train Loss: 0.20461 | Valid Loss: 0.19533 | Time: 60.23 seconds\n",
      "Epoch: 18 | Train Loss: 0.20367 | Valid Loss: 0.19464 | Time: 60.23 seconds\n",
      "Epoch: 19 | Train Loss: 0.20159 | Valid Loss: 0.19350 | Time: 60.01 seconds\n",
      "Epoch: 20 | Train Loss: 0.19996 | Valid Loss: 0.19207 | Time: 59.96 seconds\n",
      "Epoch: 21 | Train Loss: 0.19944 | Valid Loss: 0.19155 | Time: 59.66 seconds\n",
      "Epoch: 22 | Train Loss: 0.19870 | Valid Loss: 0.19182 | Time: 60.41 seconds\n",
      "Epoch: 23 | Train Loss: 0.19691 | Valid Loss: 0.19181 | Time: 59.04 seconds\n",
      "Epoch: 24 | Train Loss: 0.19767 | Valid Loss: 0.19189 | Time: 59.72 seconds\n",
      "Epoch: 25 | Train Loss: 0.19727 | Valid Loss: 0.19153 | Time: 59.90 seconds\n",
      "\n",
      "**************************************************\n",
      "\n",
      "Best Validation Loss at Epoch 25\n",
      "\n",
      "**************************************************\n",
      "\n",
      "Time Taken [25 Epochs] : 24.88 minutes\n",
      "\n",
      "**************************************************\n",
      "\n"
     ]
    },
    {
     "data": {
      "image/png": "[encoded data removed]",
      "text/plain": [
       "<Figure size 432x288 with 1 Axes>"
      ]
     },
     "metadata": {
      "needs_background": "light"
     },
     "output_type": "display_data"
    },
    {
     "name": "stdout",
     "output_type": "stream",
     "text": [
      "\n",
      "**************************************************\n",
      "\n"
     ]
    },
    {
     "data": {
      "image/png": "[encoded data removed]",
      "text/plain": [
       "<Figure size 576x432 with 1 Axes>"
      ]
     },
     "metadata": {
      "needs_background": "light"
     },
     "output_type": "display_data"
    },
    {
     "name": "stdout",
     "output_type": "stream",
     "text": [
      "\n",
      "**************************************************\n",
      "\n",
      "\n",
      "**************************************************\n",
      "\n",
      "Training Fold 3...\n",
      "\n",
      "**************************************************\n",
      "\n",
      "Epoch: 1 | Train Loss: 0.65735 | Valid Loss: 0.55129 | Time: 59.93 seconds\n",
      "Epoch: 2 | Train Loss: 0.31763 | Valid Loss: 0.24098 | Time: 59.73 seconds\n",
      "Epoch: 3 | Train Loss: 0.23795 | Valid Loss: 0.23846 | Time: 59.84 seconds\n",
      "Epoch: 4 | Train Loss: 0.23377 | Valid Loss: 0.23133 | Time: 60.20 seconds\n",
      "Epoch: 5 | Train Loss: 0.22857 | Valid Loss: 0.23866 | Time: 58.87 seconds\n",
      "Epoch: 6 | Train Loss: 0.22528 | Valid Loss: 0.22454 | Time: 59.16 seconds\n",
      "Epoch: 7 | Train Loss: 0.22221 | Valid Loss: 0.22242 | Time: 58.93 seconds\n",
      "Epoch: 8 | Train Loss: 0.22058 | Valid Loss: 0.22082 | Time: 58.52 seconds\n",
      "Epoch: 9 | Train Loss: 0.21810 | Valid Loss: 0.21874 | Time: 58.94 seconds\n",
      "Epoch: 10 | Train Loss: 0.21554 | Valid Loss: 0.21319 | Time: 58.71 seconds\n",
      "Epoch: 11 | Train Loss: 0.21425 | Valid Loss: 0.21404 | Time: 58.59 seconds\n",
      "Epoch: 12 | Train Loss: 0.21093 | Valid Loss: 0.21111 | Time: 59.25 seconds\n",
      "Epoch: 13 | Train Loss: 0.21137 | Valid Loss: 0.20907 | Time: 58.90 seconds\n",
      "Epoch: 14 | Train Loss: 0.20798 | Valid Loss: 0.21065 | Time: 58.79 seconds\n",
      "Epoch: 15 | Train Loss: 0.20580 | Valid Loss: 0.20434 | Time: 59.25 seconds\n",
      "Epoch: 16 | Train Loss: 0.20363 | Valid Loss: 0.20225 | Time: 58.18 seconds\n",
      "Epoch: 17 | Train Loss: 0.20285 | Valid Loss: 0.20081 | Time: 58.79 seconds\n",
      "Epoch: 18 | Train Loss: 0.20121 | Valid Loss: 0.20163 | Time: 58.74 seconds\n",
      "Epoch: 19 | Train Loss: 0.19879 | Valid Loss: 0.19901 | Time: 58.30 seconds\n",
      "Epoch: 20 | Train Loss: 0.19769 | Valid Loss: 0.19837 | Time: 58.43 seconds\n",
      "Epoch: 21 | Train Loss: 0.19678 | Valid Loss: 0.19817 | Time: 58.47 seconds\n",
      "Epoch: 22 | Train Loss: 0.19592 | Valid Loss: 0.19741 | Time: 58.57 seconds\n",
      "Epoch: 23 | Train Loss: 0.19497 | Valid Loss: 0.19745 | Time: 57.69 seconds\n",
      "Epoch: 24 | Train Loss: 0.19529 | Valid Loss: 0.19702 | Time: 59.04 seconds\n",
      "Epoch: 25 | Train Loss: 0.19443 | Valid Loss: 0.19715 | Time: 58.29 seconds\n",
      "\n",
      "**************************************************\n",
      "\n",
      "Best Validation Loss at Epoch 24\n",
      "\n",
      "**************************************************\n",
      "\n",
      "Time Taken [25 Epochs] : 24.54 minutes\n",
      "\n",
      "**************************************************\n",
      "\n"
     ]
    },
    {
     "data": {
      "image/png": "[encoded data removed]",
      "text/plain": [
       "<Figure size 432x288 with 1 Axes>"
      ]
     },
     "metadata": {
      "needs_background": "light"
     },
     "output_type": "display_data"
    },
    {
     "name": "stdout",
     "output_type": "stream",
     "text": [
      "\n",
      "**************************************************\n",
      "\n"
     ]
    },
    {
     "data": {
      "image/png": "[encoded data removed]",
      "text/plain": [
       "<Figure size 576x432 with 1 Axes>"
      ]
     },
     "metadata": {
      "needs_background": "light"
     },
     "output_type": "display_data"
    },
    {
     "name": "stdout",
     "output_type": "stream",
     "text": [
      "\n",
      "**************************************************\n",
      "\n",
      "\n",
      "**************************************************\n",
      "\n",
      "Training Fold 4...\n",
      "\n",
      "**************************************************\n",
      "\n",
      "Epoch: 1 | Train Loss: 0.65734 | Valid Loss: 0.54454 | Time: 58.95 seconds\n",
      "Epoch: 2 | Train Loss: 0.31576 | Valid Loss: 0.25016 | Time: 59.15 seconds\n",
      "Epoch: 3 | Train Loss: 0.23591 | Valid Loss: 0.24367 | Time: 58.85 seconds\n",
      "Epoch: 4 | Train Loss: 0.23160 | Valid Loss: 0.25211 | Time: 58.64 seconds\n",
      "Epoch: 5 | Train Loss: 0.22769 | Valid Loss: 0.23357 | Time: 59.22 seconds\n",
      "Epoch: 6 | Train Loss: 0.22414 | Valid Loss: 0.23487 | Time: 58.88 seconds\n",
      "Epoch: 7 | Train Loss: 0.22024 | Valid Loss: 0.22567 | Time: 60.17 seconds\n",
      "Epoch: 8 | Train Loss: 0.21870 | Valid Loss: 0.23015 | Time: 59.36 seconds\n",
      "Epoch: 9 | Train Loss: 0.21657 | Valid Loss: 0.22369 | Time: 59.44 seconds\n",
      "Epoch: 10 | Train Loss: 0.21427 | Valid Loss: 0.21919 | Time: 59.97 seconds\n",
      "Epoch: 11 | Train Loss: 0.21225 | Valid Loss: 0.22069 | Time: 59.57 seconds\n",
      "Epoch: 12 | Train Loss: 0.21014 | Valid Loss: 0.21943 | Time: 59.60 seconds\n",
      "Epoch: 13 | Train Loss: 0.20831 | Valid Loss: 0.22151 | Time: 59.70 seconds\n",
      "Epoch: 14 | Train Loss: 0.20633 | Valid Loss: 0.21317 | Time: 59.80 seconds\n",
      "Epoch: 15 | Train Loss: 0.20337 | Valid Loss: 0.21354 | Time: 59.01 seconds\n",
      "Epoch: 16 | Train Loss: 0.20150 | Valid Loss: 0.21026 | Time: 59.69 seconds\n",
      "Epoch: 17 | Train Loss: 0.19994 | Valid Loss: 0.20876 | Time: 60.04 seconds\n",
      "Epoch: 18 | Train Loss: 0.19948 | Valid Loss: 0.20841 | Time: 59.23 seconds\n",
      "Epoch: 19 | Train Loss: 0.19674 | Valid Loss: 0.20616 | Time: 59.37 seconds\n",
      "Epoch: 20 | Train Loss: 0.19547 | Valid Loss: 0.20489 | Time: 59.06 seconds\n",
      "Epoch: 21 | Train Loss: 0.19431 | Valid Loss: 0.20613 | Time: 59.65 seconds\n",
      "Epoch: 22 | Train Loss: 0.19274 | Valid Loss: 0.20451 | Time: 59.73 seconds\n",
      "Epoch: 23 | Train Loss: 0.19234 | Valid Loss: 0.20448 | Time: 59.46 seconds\n",
      "Epoch: 24 | Train Loss: 0.19205 | Valid Loss: 0.20440 | Time: 59.32 seconds\n",
      "Epoch: 25 | Train Loss: 0.19154 | Valid Loss: 0.20424 | Time: 59.07 seconds\n",
      "\n",
      "**************************************************\n",
      "\n",
      "Best Validation Loss at Epoch 25\n",
      "\n",
      "**************************************************\n",
      "\n",
      "Time Taken [25 Epochs] : 24.75 minutes\n",
      "\n",
      "**************************************************\n",
      "\n"
     ]
    },
    {
     "data": {
      "image/png": "[encoded data removed]",
      "text/plain": [
       "<Figure size 432x288 with 1 Axes>"
      ]
     },
     "metadata": {
      "needs_background": "light"
     },
     "output_type": "display_data"
    },
    {
     "name": "stdout",
     "output_type": "stream",
     "text": [
      "\n",
      "**************************************************\n",
      "\n"
     ]
    },
    {
     "data": {
      "image/png": "[encoded data removed]",
      "text/plain": [
       "<Figure size 576x432 with 1 Axes>"
      ]
     },
     "metadata": {
      "needs_background": "light"
     },
     "output_type": "display_data"
    },
    {
     "name": "stdout",
     "output_type": "stream",
     "text": [
      "\n",
      "**************************************************\n",
      "\n",
      "\n",
      "**************************************************\n",
      "\n",
      "Training Fold 5...\n",
      "\n",
      "**************************************************\n",
      "\n",
      "Epoch: 1 | Train Loss: 0.65731 | Valid Loss: 0.55520 | Time: 59.62 seconds\n",
      "Epoch: 2 | Train Loss: 0.31745 | Valid Loss: 0.24188 | Time: 59.73 seconds\n",
      "Epoch: 3 | Train Loss: 0.23779 | Valid Loss: 0.23552 | Time: 59.16 seconds\n",
      "Epoch: 4 | Train Loss: 0.23443 | Valid Loss: 0.22817 | Time: 59.62 seconds\n",
      "Epoch: 5 | Train Loss: 0.22923 | Valid Loss: 0.22837 | Time: 59.28 seconds\n",
      "Epoch: 6 | Train Loss: 0.22617 | Valid Loss: 0.21888 | Time: 59.79 seconds\n",
      "Epoch: 7 | Train Loss: 0.22278 | Valid Loss: 0.21749 | Time: 59.57 seconds\n",
      "Epoch: 8 | Train Loss: 0.22058 | Valid Loss: 0.22089 | Time: 59.45 seconds\n",
      "Epoch: 9 | Train Loss: 0.21827 | Valid Loss: 0.21248 | Time: 59.24 seconds\n",
      "Epoch: 10 | Train Loss: 0.21643 | Valid Loss: 0.21153 | Time: 59.51 seconds\n",
      "Epoch: 11 | Train Loss: 0.21501 | Valid Loss: 0.21128 | Time: 59.64 seconds\n",
      "Epoch: 12 | Train Loss: 0.21213 | Valid Loss: 0.21319 | Time: 59.26 seconds\n",
      "Epoch: 13 | Train Loss: 0.21045 | Valid Loss: 0.20748 | Time: 59.58 seconds\n",
      "Epoch: 14 | Train Loss: 0.20898 | Valid Loss: 0.20640 | Time: 60.45 seconds\n",
      "Epoch: 15 | Train Loss: 0.20743 | Valid Loss: 0.20519 | Time: 59.37 seconds\n",
      "Epoch: 16 | Train Loss: 0.20471 | Valid Loss: 0.20320 | Time: 59.64 seconds\n",
      "Epoch: 17 | Train Loss: 0.20350 | Valid Loss: 0.20097 | Time: 59.72 seconds\n",
      "Epoch: 18 | Train Loss: 0.20144 | Valid Loss: 0.20225 | Time: 59.11 seconds\n",
      "Epoch: 19 | Train Loss: 0.19920 | Valid Loss: 0.20060 | Time: 59.11 seconds\n",
      "Epoch: 20 | Train Loss: 0.19822 | Valid Loss: 0.19826 | Time: 59.48 seconds\n",
      "Epoch: 21 | Train Loss: 0.19742 | Valid Loss: 0.19915 | Time: 59.40 seconds\n",
      "Epoch: 22 | Train Loss: 0.19618 | Valid Loss: 0.19778 | Time: 60.22 seconds\n",
      "Epoch: 23 | Train Loss: 0.19437 | Valid Loss: 0.19787 | Time: 58.99 seconds\n",
      "Epoch: 24 | Train Loss: 0.19471 | Valid Loss: 0.19812 | Time: 59.32 seconds\n",
      "Epoch: 25 | Train Loss: 0.19484 | Valid Loss: 0.19860 | Time: 59.06 seconds\n",
      "\n",
      "**************************************************\n",
      "\n",
      "Best Validation Loss at Epoch 22\n",
      "\n",
      "**************************************************\n",
      "\n",
      "Time Taken [25 Epochs] : 24.79 minutes\n",
      "\n",
      "**************************************************\n",
      "\n"
     ]
    },
    {
     "data": {
      "image/png": "[encoded data removed]",
      "text/plain": [
       "<Figure size 432x288 with 1 Axes>"
      ]
     },
     "metadata": {
      "needs_background": "light"
     },
     "output_type": "display_data"
    },
    {
     "name": "stdout",
     "output_type": "stream",
     "text": [
      "\n",
      "**************************************************\n",
      "\n"
     ]
    },
    {
     "data": {
      "image/png": "[encoded data removed]",
      "text/plain": [
       "<Figure size 576x432 with 1 Axes>"
      ]
     },
     "metadata": {
      "needs_background": "light"
     },
     "output_type": "display_data"
    },
    {
     "name": "stdout",
     "output_type": "stream",
     "text": [
      "\n",
      "**************************************************\n",
      "\n"
     ]
    }
   ],
   "source": [
    "fold: int = 1\n",
    "BLEs: list = []\n",
    "\n",
    "for tr_idx, va_idx in KFold(n_splits=cfg.n_splits, random_state=cfg.seed, shuffle=True).split(filenames):\n",
    "\n",
    "    tr_filenames, va_filenames = filenames[tr_idx], filenames[va_idx] \n",
    "    tr_labels, va_labels       = labels[tr_idx], labels[va_idx]\n",
    "    \n",
    "    tr_data_setup = DS(\n",
    "        base_path=\"../input/com3025-2022-challenge-week-6-7-extended-extend/train_data/train_data\", \n",
    "        filenames=tr_filenames, \n",
    "        labels=tr_labels,\n",
    "        size=cfg.size,\n",
    "        transform=cfg.train_transform\n",
    "    )\n",
    "    \n",
    "    va_data_setup = DS(\n",
    "        base_path=\"../input/com3025-2022-challenge-week-6-7-extended-extend/train_data/train_data\", \n",
    "        filenames=va_filenames, \n",
    "        labels=va_labels,\n",
    "        size=cfg.size,\n",
    "        transform=cfg.valid_transform\n",
    "    )\n",
    "\n",
    "    dataloaders = {\n",
    "        \"train\" : DL(tr_data_setup, batch_size=cfg.batch_size, shuffle=True, generator=torch.manual_seed(cfg.seed)),\n",
    "        \"valid\" : DL(va_data_setup, batch_size=cfg.batch_size, shuffle=False),\n",
    "    }\n",
    "\n",
    "    cfg = CFG(\n",
    "        epochs=25, \n",
    "        batch_size=64, \n",
    "        early_stopping=5,\n",
    "        steps_per_epoch=len(dataloaders[\"train\"])\n",
    "    )\n",
    "    \n",
    "    torch.manual_seed(cfg.seed)\n",
    "    model = Model().to(cfg.device)\n",
    "\n",
    "    optimizer = optim.Adam([p for p in model.parameters() if p.requires_grad], lr=cfg.lr, weight_decay=cfg.wd)\n",
    "    # optimizer = optim.AdamW([p for p in model.parameters() if p.requires_grad], lr=cfg.lr, weight_decay=cfg.wd)\n",
    "    # optimizer = optim.SGD([p for p in model.parameters() if p.requires_grad], lr=cfg.lr, weight_decay=cfg.wd, momentum=0.9)\n",
    "    \n",
    "    scheduler_oclr = optim.lr_scheduler.OneCycleLR(\n",
    "        optimizer=optimizer, \n",
    "        max_lr=cfg.max_lr, \n",
    "        epochs=cfg.epochs, \n",
    "        steps_per_epoch=cfg.steps_per_epoch,\n",
    "        pct_start=cfg.pct_start, \n",
    "        div_factor=cfg.div_factor, \n",
    "        final_div_factor=cfg.final_div_factor\n",
    "    )\n",
    "\n",
    "    # scheduler_rlrop = optim.lr_scheduler.ReduceLROnPlateau(\n",
    "    #     optimizer=optimizer,\n",
    "    #     patience=cfg.patience,\n",
    "    #     eps=cfg.eps,\n",
    "    #     verbose=True\n",
    "    # )\n",
    "\n",
    "    # scheduler_oclr = None\n",
    "    scheduler_rlrop = None\n",
    "    \n",
    "    L, LR, BLE, _ = fit(\n",
    "        model=model, \n",
    "        optimizer=optimizer, \n",
    "        scheduler_oclr=scheduler_oclr,\n",
    "        scheduler_rlrop=scheduler_rlrop,\n",
    "        epochs=cfg.epochs, \n",
    "        early_stopping_patience=cfg.early_stopping, \n",
    "        dataloaders=dataloaders, \n",
    "        device=cfg.device,\n",
    "        save_path=cfg.save_path,\n",
    "        fold=fold,\n",
    "        verbose=True\n",
    "    )\n",
    "    \n",
    "    breaker()\n",
    "    show_loss_graphs(L)\n",
    "    breaker()\n",
    "    if scheduler_oclr:\n",
    "        show_lr_graph(LR)\n",
    "        breaker()\n",
    "    \n",
    "    BLEs.append(BLE)\n",
    "    \n",
    "    fold += 1"
   ]
  },
  {
   "cell_type": "markdown",
   "id": "0ffc5e4b",
   "metadata": {
    "papermill": {
     "duration": 0.013044,
     "end_time": "2022-09-10T08:30:15.015558",
     "exception": false,
     "start_time": "2022-09-10T08:30:15.002514",
     "status": "completed"
    },
    "tags": []
   },
   "source": [
    "### **Best Model**"
   ]
  },
  {
   "cell_type": "code",
   "execution_count": 10,
   "id": "476c5672",
   "metadata": {
    "execution": {
     "iopub.execute_input": "2022-09-10T08:30:15.044011Z",
     "iopub.status.busy": "2022-09-10T08:30:15.042557Z",
     "iopub.status.idle": "2022-09-10T08:30:15.049096Z",
     "shell.execute_reply": "2022-09-10T08:30:15.048164Z"
    },
    "papermill": {
     "duration": 0.022528,
     "end_time": "2022-09-10T08:30:15.051207",
     "exception": false,
     "start_time": "2022-09-10T08:30:15.028679",
     "status": "completed"
    },
    "tags": []
   },
   "outputs": [
    {
     "name": "stdout",
     "output_type": "stream",
     "text": [
      "\n",
      "**************************************************\n",
      "\n",
      "Best Loss Model Fold : 1\n",
      "\n",
      "**************************************************\n",
      "\n"
     ]
    }
   ],
   "source": [
    "best_loss_index = BLEs.index(min(BLEs))\n",
    "\n",
    "breaker()\n",
    "print(f\"Best Loss Model Fold : {best_loss_index + 1}\")\n",
    "breaker()"
   ]
  }
 ],
 "metadata": {
  "kernelspec": {
   "display_name": "Python 3",
   "language": "python",
   "name": "python3"
  },
  "language_info": {
   "codemirror_mode": {
    "name": "ipython",
    "version": 3
   },
   "file_extension": ".py",
   "mimetype": "text/x-python",
   "name": "python",
   "nbconvert_exporter": "python",
   "pygments_lexer": "ipython3",
   "version": "3.7.12"
  },
  "papermill": {
   "default_parameters": {},
   "duration": 8435.153797,
   "end_time": "2022-09-10T08:30:17.261822",
   "environment_variables": {},
   "exception": null,
   "input_path": "__notebook__.ipynb",
   "output_path": "__notebook__.ipynb",
   "parameters": {},
   "start_time": "2022-09-10T06:09:42.108025",
   "version": "2.3.4"
  }
 },
 "nbformat": 4,
 "nbformat_minor": 5
}
