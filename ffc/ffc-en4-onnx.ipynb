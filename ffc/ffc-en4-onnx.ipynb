{
 "cells": [
  {
   "cell_type": "code",
   "execution_count": 1,
   "id": "58d9db22",
   "metadata": {
    "_cell_guid": "b1076dfc-b9ad-4769-8c92-a6c4dae69d19",
    "_uuid": "8f2839f25d086af736a60e9eeb907d3b93b6e0e5",
    "execution": {
     "iopub.execute_input": "2022-11-21T11:13:39.040288Z",
     "iopub.status.busy": "2022-11-21T11:13:39.039446Z",
     "iopub.status.idle": "2022-11-21T11:14:13.826605Z",
     "shell.execute_reply": "2022-11-21T11:14:13.824871Z"
    },
    "papermill": {
     "duration": 34.79719,
     "end_time": "2022-11-21T11:14:13.831577",
     "exception": false,
     "start_time": "2022-11-21T11:13:39.034387",
     "status": "completed"
    },
    "tags": []
   },
   "outputs": [
    {
     "name": "stderr",
     "output_type": "stream",
     "text": [
      "WARNING: Running pip as the 'root' user can result in broken permissions and conflicting behaviour with the system package manager. It is recommended to use a virtual environment instead: https://pip.pypa.io/warnings/venv\n",
      "WARNING: Running pip as the 'root' user can result in broken permissions and conflicting behaviour with the system package manager. It is recommended to use a virtual environment instead: https://pip.pypa.io/warnings/venv\n",
      "WARNING: Running pip as the 'root' user can result in broken permissions and conflicting behaviour with the system package manager. It is recommended to use a virtual environment instead: https://pip.pypa.io/warnings/venv\n"
     ]
    }
   ],
   "source": [
    "%%bash\n",
    "pip install timm -q\n",
    "pip install onnx -q\n",
    "pip install onnxruntime -q"
   ]
  },
  {
   "cell_type": "code",
   "execution_count": 2,
   "id": "ffefb1a7",
   "metadata": {
    "execution": {
     "iopub.execute_input": "2022-11-21T11:14:13.840074Z",
     "iopub.status.busy": "2022-11-21T11:14:13.839652Z",
     "iopub.status.idle": "2022-11-21T11:14:17.869312Z",
     "shell.execute_reply": "2022-11-21T11:14:17.867502Z"
    },
    "papermill": {
     "duration": 4.037202,
     "end_time": "2022-11-21T11:14:17.872323",
     "exception": false,
     "start_time": "2022-11-21T11:14:13.835121",
     "status": "completed"
    },
    "tags": []
   },
   "outputs": [],
   "source": [
    "import os\n",
    "import sys\n",
    "import cv2\n",
    "import onnx\n",
    "import timm\n",
    "import torch\n",
    "import random as r\n",
    "import numpy as np\n",
    "import pandas as pd\n",
    "import onnxruntime as ort\n",
    "\n",
    "from typing import Union\n",
    "from torchvision import models, transforms\n",
    "from IPython.display import clear_output\n",
    "\n",
    "import warnings\n",
    "warnings.filterwarnings(\"ignore\")"
   ]
  },
  {
   "cell_type": "code",
   "execution_count": 3,
   "id": "ac050096",
   "metadata": {
    "execution": {
     "iopub.execute_input": "2022-11-21T11:14:17.881125Z",
     "iopub.status.busy": "2022-11-21T11:14:17.880142Z",
     "iopub.status.idle": "2022-11-21T11:14:17.888869Z",
     "shell.execute_reply": "2022-11-21T11:14:17.887402Z"
    },
    "papermill": {
     "duration": 0.016433,
     "end_time": "2022-11-21T11:14:17.891839",
     "exception": false,
     "start_time": "2022-11-21T11:14:17.875406",
     "status": "completed"
    },
    "tags": []
   },
   "outputs": [],
   "source": [
    "labels: list = {\n",
    "    0 : \"Burger\",\n",
    "    1 : \"Donut\",\n",
    "    2 : \"Hot Dog\",\n",
    "    3 : \"Pizza\",\n",
    "    4 : \"Sandwich\",\n",
    "}\n",
    "\n",
    "    \n",
    "def breaker() -> None:\n",
    "    print(\"\\n\" + 50*\"*\" + \"\\n\")\n",
    "\n",
    "    \n",
    "def get_image(path: str, size: int=224) -> np.ndarray:\n",
    "    image = cv2.imread(path, cv2.IMREAD_COLOR)\n",
    "    image = cv2.cvtColor(src=image, code=cv2.COLOR_BGR2RGB)\n",
    "    return cv2.resize(src=image, dsize=(size, size), interpolation=cv2.INTER_AREA)"
   ]
  },
  {
   "cell_type": "code",
   "execution_count": 4,
   "id": "36c61f60",
   "metadata": {
    "execution": {
     "iopub.execute_input": "2022-11-21T11:14:17.899449Z",
     "iopub.status.busy": "2022-11-21T11:14:17.898993Z",
     "iopub.status.idle": "2022-11-21T11:14:17.908906Z",
     "shell.execute_reply": "2022-11-21T11:14:17.907511Z"
    },
    "papermill": {
     "duration": 0.01674,
     "end_time": "2022-11-21T11:14:17.911493",
     "exception": false,
     "start_time": "2022-11-21T11:14:17.894753",
     "status": "completed"
    },
    "tags": []
   },
   "outputs": [],
   "source": [
    "class Model(torch.nn.Module):\n",
    "    def __init__(self):\n",
    "        super(Model, self).__init__()\n",
    "        \n",
    "        self.model = timm.create_model(model_name=\"efficientnet_b4\", pretrained=False)\n",
    "        self.model.classifier = torch.nn.Linear(in_features=self.model.classifier.in_features, out_features=5)\n",
    "\n",
    "    def forward(self, x):\n",
    "        return self.model(x)\n",
    "\n",
    "\n",
    "class CFG(object):  \n",
    "    def __init__(self, \n",
    "             in_channels: int=3, \n",
    "             size: int=256, \n",
    "             opset_version: int=9, \n",
    "             path: str=None):\n",
    "        self.in_channels = in_channels\n",
    "        self.size = size\n",
    "        self.dummy = torch.randn(1, self.in_channels, self.size, self.size)\n",
    "        self.opset_version = opset_version\n",
    "        self.path = path"
   ]
  },
  {
   "cell_type": "code",
   "execution_count": 5,
   "id": "a44c8f85",
   "metadata": {
    "execution": {
     "iopub.execute_input": "2022-11-21T11:14:17.919587Z",
     "iopub.status.busy": "2022-11-21T11:14:17.918404Z",
     "iopub.status.idle": "2022-11-21T11:19:57.046114Z",
     "shell.execute_reply": "2022-11-21T11:19:57.044497Z"
    },
    "papermill": {
     "duration": 339.135227,
     "end_time": "2022-11-21T11:19:57.049613",
     "exception": false,
     "start_time": "2022-11-21T11:14:17.914386",
     "status": "completed"
    },
    "tags": []
   },
   "outputs": [],
   "source": [
    "MODEL_BASE_PATH: str = \"../input/ffc-en4-a384-e10/saves\"\n",
    "PT_MODEL_NAMES: list = os.listdir(MODEL_BASE_PATH)\n",
    "\n",
    "if not os.path.exists(\"onnx\"): os.makedirs(\"onnx\")\n",
    "\n",
    "for model_name in PT_MODEL_NAMES:\n",
    "    cfg = CFG(\n",
    "        in_channels=3, \n",
    "        size=384, \n",
    "        opset_version=13, \n",
    "        path=f\"{MODEL_BASE_PATH}/{model_name}\"\n",
    "    )\n",
    "\n",
    "    model = Model()\n",
    "    model.load_state_dict(torch.load(cfg.path, map_location=torch.device(\"cpu\"))[\"model_state_dict\"])\n",
    "    model.eval()\n",
    "\n",
    "    clear_output()\n",
    "\n",
    "    # param_size = 0\n",
    "    # for param in model.parameters():\n",
    "    #     param_size += param.nelement() * param.element_size()\n",
    "\n",
    "    # buffer_size = 0\n",
    "    # for buffer in model.buffers():\n",
    "    #     buffer_size += buffer.nelement() * buffer.element_size()\n",
    "\n",
    "    # size_all_mb = (param_size + buffer_size) / 1024**2\n",
    "\n",
    "    # breaker()\n",
    "    # print(f\"Model size: {size_all_mb:.3f} MB\")\n",
    "    # breaker()\n",
    "\n",
    "\n",
    "    torch.onnx.export(\n",
    "        model=model, \n",
    "        args=cfg.dummy, \n",
    "        f=f\"onnx/{model_name[:-3].split('_')[0]}_f{model_name[:-3].split('_')[-1]}.onnx\", \n",
    "        input_names=[\"input\"], \n",
    "        output_names=[\"output\"], \n",
    "        opset_version=cfg.opset_version,\n",
    "        export_params=True,\n",
    "        training=torch.onnx.TrainingMode.EVAL,\n",
    "        operator_export_type=torch.onnx.OperatorExportTypes.ONNX_ATEN_FALLBACK,\n",
    "        dynamic_axes={\n",
    "          \"input\"  : {0 : \"batch_size\"},\n",
    "          \"output\" : {0 : \"batch_size\"},\n",
    "        }\n",
    "    )"
   ]
  },
  {
   "cell_type": "code",
   "execution_count": 6,
   "id": "b6ff2b05",
   "metadata": {
    "execution": {
     "iopub.execute_input": "2022-11-21T11:19:57.057827Z",
     "iopub.status.busy": "2022-11-21T11:19:57.057418Z",
     "iopub.status.idle": "2022-11-21T11:19:57.064248Z",
     "shell.execute_reply": "2022-11-21T11:19:57.062626Z"
    },
    "papermill": {
     "duration": 0.014188,
     "end_time": "2022-11-21T11:19:57.066900",
     "exception": false,
     "start_time": "2022-11-21T11:19:57.052712",
     "status": "completed"
    },
    "tags": []
   },
   "outputs": [],
   "source": [
    "# class OnnxModel(object):\n",
    "#     def __init__(self, path: Union[str, None]=None) -> None:\n",
    "#         self.ort_session = None\n",
    "#         self.size: int = 384\n",
    "        \n",
    "#         self.mean: list = [0.66472, 0.54634, 0.45022]\n",
    "#         self.std: list  = [0.22459, 0.24354, 0.26168]\n",
    "        \n",
    "#         self.path: str = path\n",
    "#         ort.set_default_logger_severity(3)\n",
    "    \n",
    "#     def setup(self) -> None:\n",
    "#         model = onnx.load(self.path)\n",
    "#         onnx.checker.check_model(model)\n",
    "#         self.ort_session = ort.InferenceSession(self.path)\n",
    "    \n",
    "#     def infer(self, image: np.ndarray, labels: dict) -> np.ndarray:\n",
    "#         h, w, _ = image.shape\n",
    "\n",
    "#         image = image / 255\n",
    "#         image = cv2.resize(src=image, dsize=(self.size, self.size), interpolation=cv2.INTER_AREA).transpose(2, 0, 1)\n",
    "#         for i in range(image.shape[0]): image[i, :, :] = (image[i, :, :] - self.mean[i]) / self.std[i]\n",
    "#         image = np.expand_dims(image, axis=0)\n",
    "#         input = {self.ort_session.get_inputs()[0].name : image.astype(\"float32\")}\n",
    "#         return labels[np.argmax(self.ort_session.run(None, input))].title()"
   ]
  },
  {
   "cell_type": "code",
   "execution_count": 7,
   "id": "18c66b71",
   "metadata": {
    "execution": {
     "iopub.execute_input": "2022-11-21T11:19:57.074482Z",
     "iopub.status.busy": "2022-11-21T11:19:57.074088Z",
     "iopub.status.idle": "2022-11-21T11:19:57.080373Z",
     "shell.execute_reply": "2022-11-21T11:19:57.079128Z"
    },
    "papermill": {
     "duration": 0.012963,
     "end_time": "2022-11-21T11:19:57.082908",
     "exception": false,
     "start_time": "2022-11-21T11:19:57.069945",
     "status": "completed"
    },
    "tags": []
   },
   "outputs": [],
   "source": [
    "# ONNX_MODEL_PATH: str = \"onnx\"\n",
    "# ONNX_MODEL_FILENAMES: list = sorted(os.listdir(ONNX_MODEL_PATH))\n",
    "    \n",
    "\n",
    "# df = pd.read_csv(\"../input/aic-dataframe/test.csv\")\n",
    "\n",
    "\n",
    "# for model_filename in ONNX_MODEL_FILENAMES:\n",
    "#     onnx_model = OnnxModel(f\"{ONNX_MODEL_PATH}/{model_filename}\")\n",
    "#     onnx_model.setup()\n",
    "    \n",
    "#     breaker()\n",
    "#     print(f\"{model_filename}\\n\")\n",
    "    \n",
    "#     for i in range(9):\n",
    "#         index = r.randint(0, df.shape[0] - 1)\n",
    "\n",
    "#         filepath = df.iloc[index, 0]\n",
    "#         y_true = df.iloc[index, 1]\n",
    "\n",
    "#         image = get_image(filepath, cfg.size)\n",
    "#         y_pred = onnx_model.infer(image, labels)\n",
    "\n",
    "#         print(f\"{i+1}. Actual     : {labels[y_true]}\")\n",
    "#         print(f\"{i+1}. Prediction : {y_pred}\\n\")\n",
    "    \n",
    "# breaker()"
   ]
  }
 ],
 "metadata": {
  "kernelspec": {
   "display_name": "Python 3",
   "language": "python",
   "name": "python3"
  },
  "language_info": {
   "codemirror_mode": {
    "name": "ipython",
    "version": 3
   },
   "file_extension": ".py",
   "mimetype": "text/x-python",
   "name": "python",
   "nbconvert_exporter": "python",
   "pygments_lexer": "ipython3",
   "version": "3.7.12"
  },
  "papermill": {
   "default_parameters": {},
   "duration": 388.358595,
   "end_time": "2022-11-21T11:19:58.411816",
   "environment_variables": {},
   "exception": null,
   "input_path": "__notebook__.ipynb",
   "output_path": "__notebook__.ipynb",
   "parameters": {},
   "start_time": "2022-11-21T11:13:30.053221",
   "version": "2.3.4"
  }
 },
 "nbformat": 4,
 "nbformat_minor": 5
}
