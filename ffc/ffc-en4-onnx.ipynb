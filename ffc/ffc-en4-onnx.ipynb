{
 "cells": [
  {
   "cell_type": "code",
   "execution_count": 1,
   "id": "d603207d",
   "metadata": {
    "_cell_guid": "b1076dfc-b9ad-4769-8c92-a6c4dae69d19",
    "_uuid": "8f2839f25d086af736a60e9eeb907d3b93b6e0e5",
    "execution": {
     "iopub.execute_input": "2022-11-20T05:30:15.942808Z",
     "iopub.status.busy": "2022-11-20T05:30:15.942344Z",
     "iopub.status.idle": "2022-11-20T05:30:51.504633Z",
     "shell.execute_reply": "2022-11-20T05:30:51.503284Z"
    },
    "papermill": {
     "duration": 35.572744,
     "end_time": "2022-11-20T05:30:51.509964",
     "exception": false,
     "start_time": "2022-11-20T05:30:15.937220",
     "status": "completed"
    },
    "tags": []
   },
   "outputs": [
    {
     "name": "stderr",
     "output_type": "stream",
     "text": [
      "WARNING: Running pip as the 'root' user can result in broken permissions and conflicting behaviour with the system package manager. It is recommended to use a virtual environment instead: https://pip.pypa.io/warnings/venv\n",
      "WARNING: Running pip as the 'root' user can result in broken permissions and conflicting behaviour with the system package manager. It is recommended to use a virtual environment instead: https://pip.pypa.io/warnings/venv\n",
      "WARNING: Running pip as the 'root' user can result in broken permissions and conflicting behaviour with the system package manager. It is recommended to use a virtual environment instead: https://pip.pypa.io/warnings/venv\n"
     ]
    }
   ],
   "source": [
    "%%bash\n",
    "pip install timm -q\n",
    "pip install onnx -q\n",
    "pip install onnxruntime -q"
   ]
  },
  {
   "cell_type": "code",
   "execution_count": 2,
   "id": "59c32bfd",
   "metadata": {
    "execution": {
     "iopub.execute_input": "2022-11-20T05:30:51.516551Z",
     "iopub.status.busy": "2022-11-20T05:30:51.516184Z",
     "iopub.status.idle": "2022-11-20T05:30:54.598892Z",
     "shell.execute_reply": "2022-11-20T05:30:54.597694Z"
    },
    "papermill": {
     "duration": 3.089092,
     "end_time": "2022-11-20T05:30:54.601565",
     "exception": false,
     "start_time": "2022-11-20T05:30:51.512473",
     "status": "completed"
    },
    "tags": []
   },
   "outputs": [],
   "source": [
    "import os\n",
    "import sys\n",
    "import cv2\n",
    "import onnx\n",
    "import timm\n",
    "import torch\n",
    "import random as r\n",
    "import numpy as np\n",
    "import pandas as pd\n",
    "import onnxruntime as ort\n",
    "\n",
    "from typing import Union\n",
    "from torchvision import models, transforms\n",
    "from IPython.display import clear_output\n",
    "\n",
    "import warnings\n",
    "warnings.filterwarnings(\"ignore\")"
   ]
  },
  {
   "cell_type": "code",
   "execution_count": 3,
   "id": "e805dcd8",
   "metadata": {
    "execution": {
     "iopub.execute_input": "2022-11-20T05:30:54.608477Z",
     "iopub.status.busy": "2022-11-20T05:30:54.607662Z",
     "iopub.status.idle": "2022-11-20T05:30:54.615394Z",
     "shell.execute_reply": "2022-11-20T05:30:54.614270Z"
    },
    "papermill": {
     "duration": 0.013403,
     "end_time": "2022-11-20T05:30:54.617528",
     "exception": false,
     "start_time": "2022-11-20T05:30:54.604125",
     "status": "completed"
    },
    "tags": []
   },
   "outputs": [],
   "source": [
    "labels: list = {\n",
    "    0 : \"Burger\",\n",
    "    1 : \"Donut\",\n",
    "    2 : \"Hot Dog\",\n",
    "    3 : \"Pizza\",\n",
    "    4 : \"Sandwich\",\n",
    "}\n",
    "\n",
    "    \n",
    "def breaker() -> None:\n",
    "    print(\"\\n\" + 50*\"*\" + \"\\n\")\n",
    "\n",
    "    \n",
    "def get_image(path: str, size: int=224) -> np.ndarray:\n",
    "    image = cv2.imread(path, cv2.IMREAD_COLOR)\n",
    "    image = cv2.cvtColor(src=image, code=cv2.COLOR_BGR2RGB)\n",
    "    return cv2.resize(src=image, dsize=(size, size), interpolation=cv2.INTER_AREA)"
   ]
  },
  {
   "cell_type": "code",
   "execution_count": 4,
   "id": "13dc1c8c",
   "metadata": {
    "execution": {
     "iopub.execute_input": "2022-11-20T05:30:54.624010Z",
     "iopub.status.busy": "2022-11-20T05:30:54.623491Z",
     "iopub.status.idle": "2022-11-20T05:30:54.631476Z",
     "shell.execute_reply": "2022-11-20T05:30:54.630724Z"
    },
    "papermill": {
     "duration": 0.013447,
     "end_time": "2022-11-20T05:30:54.633485",
     "exception": false,
     "start_time": "2022-11-20T05:30:54.620038",
     "status": "completed"
    },
    "tags": []
   },
   "outputs": [],
   "source": [
    "class Model(torch.nn.Module):\n",
    "    def __init__(self):\n",
    "        super(Model, self).__init__()\n",
    "        \n",
    "        self.model = timm.create_model(model_name=\"efficientnet_b4\", pretrained=False)\n",
    "        self.model.classifier = torch.nn.Linear(in_features=self.model.classifier.in_features, out_features=11)\n",
    "\n",
    "    def forward(self, x):\n",
    "        return self.model(x)\n",
    "\n",
    "\n",
    "class CFG(object):  \n",
    "    def __init__(self, \n",
    "             in_channels: int=3, \n",
    "             size: int=256, \n",
    "             opset_version: int=9, \n",
    "             path: str=None):\n",
    "        self.in_channels = in_channels\n",
    "        self.size = size\n",
    "        self.dummy = torch.randn(1, self.in_channels, self.size, self.size)\n",
    "        self.opset_version = opset_version\n",
    "        self.path = path"
   ]
  },
  {
   "cell_type": "code",
   "execution_count": 5,
   "id": "ed00b8e9",
   "metadata": {
    "execution": {
     "iopub.execute_input": "2022-11-20T05:30:54.640284Z",
     "iopub.status.busy": "2022-11-20T05:30:54.639812Z",
     "iopub.status.idle": "2022-11-20T05:34:31.395555Z",
     "shell.execute_reply": "2022-11-20T05:34:31.394553Z"
    },
    "papermill": {
     "duration": 216.7619,
     "end_time": "2022-11-20T05:34:31.398008",
     "exception": false,
     "start_time": "2022-11-20T05:30:54.636108",
     "status": "completed"
    },
    "tags": []
   },
   "outputs": [],
   "source": [
    "MODEL_BASE_PATH: str = \"../input/ffc-en4-a384-e10/saves\"\n",
    "PT_MODEL_NAMES: list = os.listdir(MODEL_BASE_PATH)\n",
    "\n",
    "if not os.path.exists(\"onnx\"): os.makedirs(\"onnx\")\n",
    "\n",
    "for model_name in PT_MODEL_NAMES:\n",
    "    cfg = CFG(\n",
    "        in_channels=3, \n",
    "        size=384, \n",
    "        opset_version=13, \n",
    "        path=f\"{MODEL_BASE_PATH}/{model_name}\"\n",
    "    )\n",
    "\n",
    "    model = Model()\n",
    "    model.load_state_dict(torch.load(cfg.path, map_location=torch.device(\"cpu\"))[\"model_state_dict\"])\n",
    "    model.eval()\n",
    "\n",
    "    clear_output()\n",
    "\n",
    "    # param_size = 0\n",
    "    # for param in model.parameters():\n",
    "    #     param_size += param.nelement() * param.element_size()\n",
    "\n",
    "    # buffer_size = 0\n",
    "    # for buffer in model.buffers():\n",
    "    #     buffer_size += buffer.nelement() * buffer.element_size()\n",
    "\n",
    "    # size_all_mb = (param_size + buffer_size) / 1024**2\n",
    "\n",
    "    # breaker()\n",
    "    # print(f\"Model size: {size_all_mb:.3f} MB\")\n",
    "    # breaker()\n",
    "\n",
    "\n",
    "    torch.onnx.export(\n",
    "        model=model, \n",
    "        args=cfg.dummy, \n",
    "        f=f\"onnx/{model_name[:-3].split('_')[0]}_f{model_name[:-3].split('_')[-1]}.onnx\", \n",
    "        input_names=[\"input\"], \n",
    "        output_names=[\"output\"], \n",
    "        opset_version=cfg.opset_version,\n",
    "        export_params=True,\n",
    "        training=torch.onnx.TrainingMode.EVAL,\n",
    "        operator_export_type=torch.onnx.OperatorExportTypes.ONNX_ATEN_FALLBACK,\n",
    "        dynamic_axes={\n",
    "          \"input\"  : {0 : \"batch_size\"},\n",
    "          \"output\" : {0 : \"batch_size\"},\n",
    "        }\n",
    "    )"
   ]
  },
  {
   "cell_type": "code",
   "execution_count": 6,
   "id": "160dd0b8",
   "metadata": {
    "execution": {
     "iopub.execute_input": "2022-11-20T05:34:31.405176Z",
     "iopub.status.busy": "2022-11-20T05:34:31.404774Z",
     "iopub.status.idle": "2022-11-20T05:34:31.409373Z",
     "shell.execute_reply": "2022-11-20T05:34:31.408380Z"
    },
    "papermill": {
     "duration": 0.010869,
     "end_time": "2022-11-20T05:34:31.411857",
     "exception": false,
     "start_time": "2022-11-20T05:34:31.400988",
     "status": "completed"
    },
    "tags": []
   },
   "outputs": [],
   "source": [
    "# class OnnxModel(object):\n",
    "#     def __init__(self, path: Union[str, None]=None) -> None:\n",
    "#         self.ort_session = None\n",
    "#         self.size: int = 384\n",
    "        \n",
    "#         self.mean: list = [0.66472, 0.54634, 0.45022]\n",
    "#         self.std: list  = [0.22459, 0.24354, 0.26168]\n",
    "        \n",
    "#         self.path: str = path\n",
    "#         ort.set_default_logger_severity(3)\n",
    "    \n",
    "#     def setup(self) -> None:\n",
    "#         model = onnx.load(self.path)\n",
    "#         onnx.checker.check_model(model)\n",
    "#         self.ort_session = ort.InferenceSession(self.path)\n",
    "    \n",
    "#     def infer(self, image: np.ndarray, labels: dict) -> np.ndarray:\n",
    "#         h, w, _ = image.shape\n",
    "\n",
    "#         image = image / 255\n",
    "#         image = cv2.resize(src=image, dsize=(self.size, self.size), interpolation=cv2.INTER_AREA).transpose(2, 0, 1)\n",
    "#         for i in range(image.shape[0]): image[i, :, :] = (image[i, :, :] - self.mean[i]) / self.std[i]\n",
    "#         image = np.expand_dims(image, axis=0)\n",
    "#         input = {self.ort_session.get_inputs()[0].name : image.astype(\"float32\")}\n",
    "#         return labels[np.argmax(self.ort_session.run(None, input))].title()"
   ]
  },
  {
   "cell_type": "code",
   "execution_count": 7,
   "id": "ae316880",
   "metadata": {
    "execution": {
     "iopub.execute_input": "2022-11-20T05:34:31.419337Z",
     "iopub.status.busy": "2022-11-20T05:34:31.418972Z",
     "iopub.status.idle": "2022-11-20T05:34:31.423361Z",
     "shell.execute_reply": "2022-11-20T05:34:31.422468Z"
    },
    "papermill": {
     "duration": 0.010783,
     "end_time": "2022-11-20T05:34:31.425498",
     "exception": false,
     "start_time": "2022-11-20T05:34:31.414715",
     "status": "completed"
    },
    "tags": []
   },
   "outputs": [],
   "source": [
    "# ONNX_MODEL_PATH: str = \"onnx\"\n",
    "# ONNX_MODEL_FILENAMES: list = sorted(os.listdir(ONNX_MODEL_PATH))\n",
    "    \n",
    "\n",
    "# df = pd.read_csv(\"../input/aic-dataframe/test.csv\")\n",
    "\n",
    "\n",
    "# for model_filename in ONNX_MODEL_FILENAMES:\n",
    "#     onnx_model = OnnxModel(f\"{ONNX_MODEL_PATH}/{model_filename}\")\n",
    "#     onnx_model.setup()\n",
    "    \n",
    "#     breaker()\n",
    "#     print(f\"{model_filename}\\n\")\n",
    "    \n",
    "#     for i in range(9):\n",
    "#         index = r.randint(0, df.shape[0] - 1)\n",
    "\n",
    "#         filepath = df.iloc[index, 0]\n",
    "#         y_true = df.iloc[index, 1]\n",
    "\n",
    "#         image = get_image(filepath, cfg.size)\n",
    "#         y_pred = onnx_model.infer(image, labels)\n",
    "\n",
    "#         print(f\"{i+1}. Actual     : {labels[y_true]}\")\n",
    "#         print(f\"{i+1}. Prediction : {y_pred}\\n\")\n",
    "    \n",
    "# breaker()"
   ]
  }
 ],
 "metadata": {
  "kernelspec": {
   "display_name": "Python 3",
   "language": "python",
   "name": "python3"
  },
  "language_info": {
   "codemirror_mode": {
    "name": "ipython",
    "version": 3
   },
   "file_extension": ".py",
   "mimetype": "text/x-python",
   "name": "python",
   "nbconvert_exporter": "python",
   "pygments_lexer": "ipython3",
   "version": "3.7.12"
  },
  "papermill": {
   "default_parameters": {},
   "duration": 264.681092,
   "end_time": "2022-11-20T05:34:32.551471",
   "environment_variables": {},
   "exception": null,
   "input_path": "__notebook__.ipynb",
   "output_path": "__notebook__.ipynb",
   "parameters": {},
   "start_time": "2022-11-20T05:30:07.870379",
   "version": "2.3.4"
  }
 },
 "nbformat": 4,
 "nbformat_minor": 5
}
