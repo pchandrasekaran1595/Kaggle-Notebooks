{
 "cells": [
  {
   "cell_type": "code",
   "execution_count": 1,
   "id": "ac85f925",
   "metadata": {
    "_cell_guid": "b1076dfc-b9ad-4769-8c92-a6c4dae69d19",
    "_uuid": "8f2839f25d086af736a60e9eeb907d3b93b6e0e5",
    "execution": {
     "iopub.execute_input": "2022-11-18T18:07:10.562812Z",
     "iopub.status.busy": "2022-11-18T18:07:10.561723Z",
     "iopub.status.idle": "2022-11-18T18:07:10.793497Z",
     "shell.execute_reply": "2022-11-18T18:07:10.792516Z"
    },
    "papermill": {
     "duration": 0.240022,
     "end_time": "2022-11-18T18:07:10.796658",
     "exception": false,
     "start_time": "2022-11-18T18:07:10.556636",
     "status": "completed"
    },
    "tags": []
   },
   "outputs": [],
   "source": [
    "import os\n",
    "import cv2\n",
    "import numpy as np\n",
    "import pandas as pd\n",
    "\n",
    "BASE_PATH: str = \"../input/fast-food-classification-dataset/Fast Food Data\"\n",
    "\n",
    "LABELS: dict = {\n",
    "    0 : \"Burger\",\n",
    "    1 : \"Donut\",\n",
    "    2 : \"Hot Dog\",\n",
    "    3 : \"Pizza\",\n",
    "    4 : \"Sandwich\"\n",
    "}"
   ]
  },
  {
   "cell_type": "code",
   "execution_count": 2,
   "id": "4f0a15a9",
   "metadata": {
    "execution": {
     "iopub.execute_input": "2022-11-18T18:07:10.802933Z",
     "iopub.status.busy": "2022-11-18T18:07:10.802054Z",
     "iopub.status.idle": "2022-11-18T18:07:10.815640Z",
     "shell.execute_reply": "2022-11-18T18:07:10.814508Z"
    },
    "papermill": {
     "duration": 0.018728,
     "end_time": "2022-11-18T18:07:10.817774",
     "exception": false,
     "start_time": "2022-11-18T18:07:10.799046",
     "status": "completed"
    },
    "tags": []
   },
   "outputs": [],
   "source": [
    "df: pd.DataFrame = pd.DataFrame(data=None, columns=[\"filepaths\", \"labels\"])   "
   ]
  },
  {
   "cell_type": "code",
   "execution_count": 3,
   "id": "3f7fc8b8",
   "metadata": {
    "execution": {
     "iopub.execute_input": "2022-11-18T18:07:10.823577Z",
     "iopub.status.busy": "2022-11-18T18:07:10.823148Z",
     "iopub.status.idle": "2022-11-18T18:07:13.867370Z",
     "shell.execute_reply": "2022-11-18T18:07:13.866263Z"
    },
    "papermill": {
     "duration": 3.050621,
     "end_time": "2022-11-18T18:07:13.870588",
     "exception": false,
     "start_time": "2022-11-18T18:07:10.819967",
     "status": "completed"
    },
    "tags": []
   },
   "outputs": [],
   "source": [
    "tr_filepaths: list = []\n",
    "tr_labels: list = []\n",
    "\n",
    "va_filepaths: list = []\n",
    "va_labels: list = []\n",
    "\n",
    "i: int = 0\n",
    "for folder in sorted(os.listdir(f\"{BASE_PATH}/Training Data\")):\n",
    "    for filename in os.listdir(f\"{BASE_PATH}/Training Data/{folder}\"):\n",
    "        tr_filepaths.append(os.path.join(f\"{BASE_PATH}/Training Data/{folder}\", filename))\n",
    "        tr_labels.append(i)\n",
    "    i += 1\n",
    "\n",
    "i: int = 0\n",
    "for folder in sorted(os.listdir(f\"{BASE_PATH}/Validation Data\")):\n",
    "    for filename in os.listdir(f\"{BASE_PATH}/Validation Data/{folder}\"):\n",
    "        va_filepaths.append(os.path.join(f\"{BASE_PATH}/Validation Data/{folder}\", filename))\n",
    "        va_labels.append(i)\n",
    "    i += 1\n",
    "\n",
    "df.filepaths = tr_filepaths + va_filepaths\n",
    "df.labels = tr_labels + va_labels\n",
    "df.to_csv(\"dataframe.csv\", index=False)"
   ]
  }
 ],
 "metadata": {
  "kernelspec": {
   "display_name": "Python 3",
   "language": "python",
   "name": "python3"
  },
  "language_info": {
   "codemirror_mode": {
    "name": "ipython",
    "version": 3
   },
   "file_extension": ".py",
   "mimetype": "text/x-python",
   "name": "python",
   "nbconvert_exporter": "python",
   "pygments_lexer": "ipython3",
   "version": "3.7.12"
  },
  "papermill": {
   "default_parameters": {},
   "duration": 12.844728,
   "end_time": "2022-11-18T18:07:14.596936",
   "environment_variables": {},
   "exception": null,
   "input_path": "__notebook__.ipynb",
   "output_path": "__notebook__.ipynb",
   "parameters": {},
   "start_time": "2022-11-18T18:07:01.752208",
   "version": "2.3.4"
  }
 },
 "nbformat": 4,
 "nbformat_minor": 5
}
