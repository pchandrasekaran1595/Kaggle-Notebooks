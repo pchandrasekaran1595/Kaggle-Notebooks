{
 "cells": [
  {
   "cell_type": "markdown",
   "id": "81b8f261",
   "metadata": {
    "_cell_guid": "b1076dfc-b9ad-4769-8c92-a6c4dae69d19",
    "_uuid": "8f2839f25d086af736a60e9eeb907d3b93b6e0e5",
    "papermill": {
     "duration": 0.007274,
     "end_time": "2022-11-21T04:24:30.807664",
     "exception": false,
     "start_time": "2022-11-21T04:24:30.800390",
     "status": "completed"
    },
    "tags": []
   },
   "source": [
    "##### **Setup**"
   ]
  },
  {
   "cell_type": "code",
   "execution_count": 1,
   "id": "35755575",
   "metadata": {
    "execution": {
     "iopub.execute_input": "2022-11-21T04:24:30.818274Z",
     "iopub.status.busy": "2022-11-21T04:24:30.817752Z",
     "iopub.status.idle": "2022-11-21T04:24:41.433913Z",
     "shell.execute_reply": "2022-11-21T04:24:41.432757Z"
    },
    "papermill": {
     "duration": 10.62395,
     "end_time": "2022-11-21T04:24:41.436438",
     "exception": false,
     "start_time": "2022-11-21T04:24:30.812488",
     "status": "completed"
    },
    "tags": []
   },
   "outputs": [
    {
     "name": "stderr",
     "output_type": "stream",
     "text": [
      "WARNING: Running pip as the 'root' user can result in broken permissions and conflicting behaviour with the system package manager. It is recommended to use a virtual environment instead: https://pip.pypa.io/warnings/venv\n"
     ]
    }
   ],
   "source": [
    "%%bash\n",
    "pip install timm -q"
   ]
  },
  {
   "cell_type": "markdown",
   "id": "9aa5132b",
   "metadata": {
    "papermill": {
     "duration": 0.003998,
     "end_time": "2022-11-21T04:24:41.445014",
     "exception": false,
     "start_time": "2022-11-21T04:24:41.441016",
     "status": "completed"
    },
    "tags": []
   },
   "source": [
    "### **Library Imports**"
   ]
  },
  {
   "cell_type": "code",
   "execution_count": 2,
   "id": "ea051b18",
   "metadata": {
    "execution": {
     "iopub.execute_input": "2022-11-21T04:24:41.454508Z",
     "iopub.status.busy": "2022-11-21T04:24:41.453832Z",
     "iopub.status.idle": "2022-11-21T04:24:45.400523Z",
     "shell.execute_reply": "2022-11-21T04:24:45.399460Z"
    },
    "papermill": {
     "duration": 3.954117,
     "end_time": "2022-11-21T04:24:45.403040",
     "exception": false,
     "start_time": "2022-11-21T04:24:41.448923",
     "status": "completed"
    },
    "tags": []
   },
   "outputs": [],
   "source": [
    "import os\n",
    "import re\n",
    "import cv2\n",
    "import timm\n",
    "import torch\n",
    "import numpy as np\n",
    "import pandas as pd\n",
    "import matplotlib.pyplot as plt\n",
    "\n",
    "from time import time\n",
    "from typing import Union\n",
    "from torch import nn, optim\n",
    "from torch.utils.data import Dataset\n",
    "from torch.utils.data import DataLoader as DL\n",
    "from torchvision import models, transforms\n",
    "\n",
    "from sklearn.model_selection import StratifiedKFold"
   ]
  },
  {
   "cell_type": "markdown",
   "id": "93649ad0",
   "metadata": {
    "papermill": {
     "duration": 0.003801,
     "end_time": "2022-11-21T04:24:45.411164",
     "exception": false,
     "start_time": "2022-11-21T04:24:45.407363",
     "status": "completed"
    },
    "tags": []
   },
   "source": [
    "### **Utilities and Helpers**"
   ]
  },
  {
   "cell_type": "code",
   "execution_count": 3,
   "id": "5ef54f5b",
   "metadata": {
    "execution": {
     "iopub.execute_input": "2022-11-21T04:24:45.422084Z",
     "iopub.status.busy": "2022-11-21T04:24:45.420353Z",
     "iopub.status.idle": "2022-11-21T04:24:45.432963Z",
     "shell.execute_reply": "2022-11-21T04:24:45.432075Z"
    },
    "papermill": {
     "duration": 0.019749,
     "end_time": "2022-11-21T04:24:45.434937",
     "exception": false,
     "start_time": "2022-11-21T04:24:45.415188",
     "status": "completed"
    },
    "tags": []
   },
   "outputs": [],
   "source": [
    "SEED = 42\n",
    "SIZE = 384\n",
    "\n",
    "\n",
    "def breaker(num: int=50, char: str=\"*\") -> None:\n",
    "    print(\"\\n\" + num*char + \"\\n\")\n",
    "\n",
    "    \n",
    "def get_image(path: str, size: int=224) -> np.ndarray:\n",
    "    image = cv2.imread(path, cv2.IMREAD_COLOR)\n",
    "    image = cv2.cvtColor(src=image, code=cv2.COLOR_BGR2RGB)\n",
    "    return cv2.resize(src=image, dsize=(size, size), interpolation=cv2.INTER_AREA)\n",
    "\n",
    "    \n",
    "def show_loss_graphs(L: list) -> None:\n",
    "    TL, VL = [], []\n",
    "    for i in range(len(L)):\n",
    "        TL.append(L[i][\"train\"])\n",
    "        VL.append(L[i][\"valid\"])\n",
    "    x_Axis = np.arange(1, len(TL) + 1)\n",
    "    plt.figure()\n",
    "    plt.plot(x_Axis, TL, \"r\", label=\"Train\")\n",
    "    plt.plot(x_Axis, VL, \"b\", label=\"Valid\")\n",
    "    plt.legend()\n",
    "    plt.grid()\n",
    "    plt.title(\"Loss Graph\")\n",
    "    plt.show()\n",
    "\n",
    "    \n",
    "def show_accuracy_graphs(A: list) -> None:\n",
    "    TA, VA = [], []\n",
    "    for i in range(len(A)):\n",
    "        TA.append(A[i][\"train\"])\n",
    "        VA.append(A[i][\"valid\"])\n",
    "    x_Axis = np.arange(1, len(TA) + 1)\n",
    "    plt.figure()\n",
    "    plt.plot(x_Axis, TA, \"r\", label=\"Train\")\n",
    "    plt.plot(x_Axis, VA, \"b\", label=\"Valid\")\n",
    "    plt.legend()\n",
    "    plt.grid()\n",
    "    plt.title(\"Accuracy Graph\")\n",
    "    plt.show()\n",
    "    \n",
    "\n",
    "def show_lr_graph(LR: list) -> None:\n",
    "    x_Axis = [i+1 for i in range(len(LR))]\n",
    "    plt.figure(figsize=(8, 6))\n",
    "    plt.plot(x_Axis, LR, \"rx\")\n",
    "    plt.grid()\n",
    "    plt.show()"
   ]
  },
  {
   "cell_type": "markdown",
   "id": "fc9f0a57",
   "metadata": {
    "papermill": {
     "duration": 0.003657,
     "end_time": "2022-11-21T04:24:45.442630",
     "exception": false,
     "start_time": "2022-11-21T04:24:45.438973",
     "status": "completed"
    },
    "tags": []
   },
   "source": [
    "### **Configuration**"
   ]
  },
  {
   "cell_type": "code",
   "execution_count": 4,
   "id": "e509bf8c",
   "metadata": {
    "execution": {
     "iopub.execute_input": "2022-11-21T04:24:45.453061Z",
     "iopub.status.busy": "2022-11-21T04:24:45.451739Z",
     "iopub.status.idle": "2022-11-21T04:24:45.518096Z",
     "shell.execute_reply": "2022-11-21T04:24:45.517069Z"
    },
    "papermill": {
     "duration": 0.073614,
     "end_time": "2022-11-21T04:24:45.520218",
     "exception": false,
     "start_time": "2022-11-21T04:24:45.446604",
     "status": "completed"
    },
    "tags": []
   },
   "outputs": [],
   "source": [
    "class CFG(object):\n",
    "    def __init__(self, \n",
    "                 seed: int = 42,\n",
    "                 size: int = 224,\n",
    "                 n_splits: int = 5,\n",
    "                 batch_size: int = 16,\n",
    "                 epochs: int = 25,\n",
    "                 early_stopping: int = 5,\n",
    "                 lr: float = 1e-4,\n",
    "                 wd: float = 0.0,\n",
    "                 max_lr: float = 1e-3,\n",
    "                 pct_start: float = 0.2,\n",
    "                 steps_per_epoch: int = 100,\n",
    "                 div_factor: int = 1e3, \n",
    "                 final_div_factor: float = 1e3,\n",
    "                 ):\n",
    "        self.seed = seed\n",
    "        self.size = size\n",
    "        self.n_splits = n_splits\n",
    "        self.batch_size = batch_size\n",
    "        self.epochs = epochs\n",
    "        self.early_stopping = early_stopping\n",
    "        self.lr = lr\n",
    "        self.wd = wd\n",
    "        self.max_lr = max_lr\n",
    "        self.pct_start = pct_start\n",
    "        self.steps_per_epoch = steps_per_epoch\n",
    "        self.div_factor = div_factor\n",
    "        self.final_div_factor = final_div_factor\n",
    "        self.device = torch.device(\"cuda\" if torch.cuda.is_available() else \"cpu\")\n",
    "        \n",
    "        if self.size == 224:\n",
    "            self.train_transform = transforms.Compose([\n",
    "                transforms.ToTensor(),\n",
    "                transforms.Normalize([0.66463, 0.54626, 0.45014], [0.22289, 0.24184, 0.26005]),\n",
    "                transforms.RandomAffine(degrees=(-45, 45), translate=(0.15, 0.15), scale=(0.5, 1.5)),\n",
    "                transforms.RandomHorizontalFlip(p=0.25),\n",
    "                transforms.RandomVerticalFlip(p=0.25),\n",
    "            ])\n",
    "            self.valid_transform = transforms.Compose([\n",
    "                transforms.ToTensor(),\n",
    "                transforms.Normalize([0.66463, 0.54626, 0.45014], [0.22289, 0.24184, 0.26005]),\n",
    "            ])\n",
    "        \n",
    "        if self.size == 384:\n",
    "            self.train_transform = transforms.Compose([\n",
    "                transforms.ToTensor(),\n",
    "                transforms.Normalize([0.66472, 0.54634, 0.45022], [0.22459, 0.24354, 0.26168]),\n",
    "                transforms.RandomAffine(degrees=(-45, 45), translate=(0.15, 0.15), scale=(0.5, 1.5)),\n",
    "                transforms.RandomHorizontalFlip(p=0.25),\n",
    "                transforms.RandomVerticalFlip(p=0.25),\n",
    "            ])\n",
    "            self.valid_transform = transforms.Compose([\n",
    "                transforms.ToTensor(),\n",
    "                transforms.Normalize([0.66472, 0.54634, 0.45022], [0.22459, 0.24354, 0.26168]),\n",
    "            ])\n",
    "        \n",
    "        if self.size == 512:\n",
    "            self.train_transform = transforms.Compose([\n",
    "                transforms.ToTensor(),\n",
    "                transforms.Normalize([0.66477, 0.54639, 0.45027], [0.22523, 0.24419, 0.26230]),\n",
    "                transforms.RandomAffine(degrees=(-45, 45), translate=(0.15, 0.15), scale=(0.5, 1.5)),\n",
    "                transforms.RandomHorizontalFlip(p=0.25),\n",
    "                transforms.RandomVerticalFlip(p=0.25),\n",
    "            ])\n",
    "            self.valid_transform = transforms.Compose([\n",
    "                transforms.ToTensor(),\n",
    "                transforms.Normalize([0.66477, 0.54639, 0.45027], [0.22523, 0.24419, 0.26230]),\n",
    "            ])\n",
    "                                \n",
    "        self.save_path = \"saves\"\n",
    "        if not os.path.exists(self.save_path): os.makedirs(self.save_path)\n",
    "    \n",
    "cfg = CFG(\n",
    "    seed=SEED, \n",
    "    size=SIZE\n",
    ")"
   ]
  },
  {
   "cell_type": "markdown",
   "id": "1d171f3f",
   "metadata": {
    "papermill": {
     "duration": 0.003767,
     "end_time": "2022-11-21T04:24:45.528252",
     "exception": false,
     "start_time": "2022-11-21T04:24:45.524485",
     "status": "completed"
    },
    "tags": []
   },
   "source": [
    "### **Dataset Template**"
   ]
  },
  {
   "cell_type": "code",
   "execution_count": 5,
   "id": "56988789",
   "metadata": {
    "execution": {
     "iopub.execute_input": "2022-11-21T04:24:45.538684Z",
     "iopub.status.busy": "2022-11-21T04:24:45.537081Z",
     "iopub.status.idle": "2022-11-21T04:24:45.544493Z",
     "shell.execute_reply": "2022-11-21T04:24:45.543661Z"
    },
    "papermill": {
     "duration": 0.014299,
     "end_time": "2022-11-21T04:24:45.546396",
     "exception": false,
     "start_time": "2022-11-21T04:24:45.532097",
     "status": "completed"
    },
    "tags": []
   },
   "outputs": [],
   "source": [
    "class DS(Dataset):\n",
    "    def __init__(\n",
    "        self, \n",
    "        filepaths: np.ndarray, \n",
    "        size: int,\n",
    "        labels: Union[np.ndarray, None]=None, \n",
    "        transform=None\n",
    "    ):\n",
    "        \n",
    "        self.filepaths = filepaths\n",
    "        self.labels = labels\n",
    "        self.size = size\n",
    "        self.transform = transform\n",
    "    \n",
    "    def __len__(self):\n",
    "        return self.filepaths.shape[0]\n",
    "    \n",
    "    def __getitem__(self, idx):\n",
    "        image = get_image(self.filepaths[idx], self.size)\n",
    "        if self.labels is None:\n",
    "            return self.transform(image)\n",
    "        return self.transform(image), torch.LongTensor(self.labels[idx])"
   ]
  },
  {
   "cell_type": "markdown",
   "id": "904b3da7",
   "metadata": {
    "papermill": {
     "duration": 0.003676,
     "end_time": "2022-11-21T04:24:45.553943",
     "exception": false,
     "start_time": "2022-11-21T04:24:45.550267",
     "status": "completed"
    },
    "tags": []
   },
   "source": [
    "### **Model**"
   ]
  },
  {
   "cell_type": "code",
   "execution_count": 6,
   "id": "384ff18f",
   "metadata": {
    "execution": {
     "iopub.execute_input": "2022-11-21T04:24:45.563392Z",
     "iopub.status.busy": "2022-11-21T04:24:45.562566Z",
     "iopub.status.idle": "2022-11-21T04:24:45.568441Z",
     "shell.execute_reply": "2022-11-21T04:24:45.567560Z"
    },
    "papermill": {
     "duration": 0.012691,
     "end_time": "2022-11-21T04:24:45.570459",
     "exception": false,
     "start_time": "2022-11-21T04:24:45.557768",
     "status": "completed"
    },
    "tags": []
   },
   "outputs": [],
   "source": [
    "class Model(nn.Module):\n",
    "    def __init__(self):\n",
    "        super(Model, self).__init__()\n",
    "            \n",
    "        self.model = timm.create_model(model_name=\"efficientnet_b4\", pretrained=True)\n",
    "        self.model.classifier = nn.Linear(in_features=self.model.classifier.in_features, out_features=5)\n",
    "\n",
    "    def forward(self, x):\n",
    "        return nn.LogSoftmax(dim=1)(self.model(x))"
   ]
  },
  {
   "cell_type": "markdown",
   "id": "fd7640fb",
   "metadata": {
    "papermill": {
     "duration": 0.003713,
     "end_time": "2022-11-21T04:24:45.578070",
     "exception": false,
     "start_time": "2022-11-21T04:24:45.574357",
     "status": "completed"
    },
    "tags": []
   },
   "source": [
    "### **Fit and Predict**"
   ]
  },
  {
   "cell_type": "code",
   "execution_count": 7,
   "id": "26ff9720",
   "metadata": {
    "execution": {
     "iopub.execute_input": "2022-11-21T04:24:45.587294Z",
     "iopub.status.busy": "2022-11-21T04:24:45.587040Z",
     "iopub.status.idle": "2022-11-21T04:24:45.607933Z",
     "shell.execute_reply": "2022-11-21T04:24:45.607123Z"
    },
    "papermill": {
     "duration": 0.02787,
     "end_time": "2022-11-21T04:24:45.609731",
     "exception": false,
     "start_time": "2022-11-21T04:24:45.581861",
     "status": "completed"
    },
    "tags": []
   },
   "outputs": [],
   "source": [
    "def fit(\n",
    "    model=None,\n",
    "    optimizer=None, \n",
    "    scheduler_rlrop=None,\n",
    "    scheduler_oclr=None,\n",
    "    epochs=None, \n",
    "    early_stopping_patience=None, \n",
    "    dataloaders=None, \n",
    "    fold=None, \n",
    "    save_path=None,\n",
    "    device=None,\n",
    "    verbose=False\n",
    ") -> tuple:\n",
    "    \n",
    "    def get_accuracy(y_pred, y_true):\n",
    "        y_pred = torch.argmax(y_pred, dim=1)\n",
    "        return torch.count_nonzero(y_pred == y_true).item() / len(y_pred)\n",
    "    \n",
    "    \n",
    "    if verbose:\n",
    "        breaker()\n",
    "        if fold: print(f\"Training Fold {fold}...\")\n",
    "        else: print(\"Training ...\")\n",
    "        breaker()\n",
    "        \n",
    "    bestLoss: dict = {\"train\" : np.inf, \"valid\" : np.inf} \n",
    "    bestAccs: dict = {\"train\" : 0.0, \"valid\" : 0.0}\n",
    "    \n",
    "    Losses: list = []\n",
    "    Accuracies: list = [] \n",
    "    LRs: list = []\n",
    "        \n",
    "    if fold: \n",
    "        ble_name = f\"ble_state_fold_{fold}.pt\"\n",
    "        bae_name = f\"bae_state_fold_{fold}.pt\"\n",
    "    else: \n",
    "        ble_name = f\"ble_state.pt\"\n",
    "        bae_name = f\"bae_state.pt\"\n",
    "        \n",
    "    start_time = time()\n",
    "    for e in range(epochs):\n",
    "        e_st = time()\n",
    "        epochLoss: dict = {\"train\" : 0.0, \"valid\" : 0.0} \n",
    "        epochAccs: dict = {\"train\" : 0.0, \"valid\" : 0.0}\n",
    "\n",
    "        for phase in [\"train\", \"valid\"]:\n",
    "            if phase == \"train\":\n",
    "                model.train()\n",
    "            else:\n",
    "                model.eval()\n",
    "            \n",
    "            lossPerPass: list = []\n",
    "            accsPerPass: list = []\n",
    "                \n",
    "            for X, y in dataloaders[phase]:\n",
    "                X, y = X.to(device), y.to(device).view(-1)\n",
    "\n",
    "                optimizer.zero_grad()\n",
    "                with torch.set_grad_enabled(phase == \"train\"):\n",
    "                    output = model(X)\n",
    "                    loss = torch.nn.NLLLoss()(output, y)\n",
    "                    if phase == \"train\":\n",
    "                        loss.backward()\n",
    "                        optimizer.step()\n",
    "                        if scheduler_oclr: scheduler_oclr.step()\n",
    "                lossPerPass.append(loss.item())\n",
    "                accsPerPass.append(get_accuracy(output, y))\n",
    "            epochLoss[phase] = np.mean(np.array(lossPerPass))\n",
    "            epochAccs[phase] = np.mean(np.array(accsPerPass))\n",
    "        if scheduler_oclr: LRs.append(scheduler_oclr.get_last_lr())\n",
    "        Losses.append(epochLoss)\n",
    "        Accuracies.append(epochAccs)\n",
    "        \n",
    "        if scheduler_oclr:\n",
    "            save_dict = {\"model_state_dict\"     : model.state_dict(),\n",
    "                         \"optim_state_dict\"     : optimizer.state_dict(),\n",
    "                         \"scheduler_state_dict\" : scheduler_oclr.state_dict()}\n",
    "        \n",
    "        elif scheduler_rlrop:\n",
    "            save_dict = {\"model_state_dict\"     : model.state_dict(),\n",
    "                         \"optim_state_dict\"     : optimizer.state_dict(),\n",
    "                         \"scheduler_state_dict\" : scheduler_rlrop.state_dict()}\n",
    "        \n",
    "        else:\n",
    "            save_dict = {\"model_state_dict\"     : model.state_dict(),\n",
    "                         \"optim_state_dict\"     : optimizer.state_dict()}\n",
    "        \n",
    "        if early_stopping_patience:\n",
    "            if epochLoss[\"valid\"] < bestLoss[\"valid\"]:\n",
    "                bestLoss = epochLoss\n",
    "                BLE = e + 1\n",
    "                torch.save(save_dict, os.path.join(save_path, ble_name))\n",
    "                torch.save(save_dict, os.path.join(save_path, bae_name))\n",
    "                early_stopping_step = 0\n",
    "            else:\n",
    "                early_stopping_step += 1\n",
    "                if early_stopping_step > early_stopping_patience:\n",
    "                    print(\"\\nEarly Stopping at Epoch {}\".format(e + 1))\n",
    "                    break\n",
    "        \n",
    "        if epochLoss[\"valid\"] < bestLoss[\"valid\"]:\n",
    "            bestLoss = epochLoss\n",
    "            BLE = e + 1\n",
    "            torch.save(save_dict,os.path.join(save_path, ble_name))\n",
    "        \n",
    "        if epochAccs[\"valid\"] > bestAccs[\"valid\"]:\n",
    "            bestAccs = epochAccs\n",
    "            BAE = e + 1\n",
    "            torch.save(save_dict,os.path.join(save_path, bae_name))\n",
    "        \n",
    "        if scheduler_rlrop: scheduler_rlrop.step(epochLoss[\"valid\"])\n",
    "        \n",
    "        if verbose:\n",
    "            print(\"Epoch: {} | Train Loss: {:.5f} | Valid Loss: {:.5f} |\\\n",
    " Train Accs: {:.5f} | Valid Accs: {:.5f} | Time: {:.2f} seconds\".format(e+1, \n",
    "                                                                        epochLoss[\"train\"], epochLoss[\"valid\"], \n",
    "                                                                        epochAccs[\"train\"], epochAccs[\"valid\"], \n",
    "                                                                        time()-e_st))\n",
    "\n",
    "    if verbose:                                           \n",
    "        breaker()\n",
    "        print(f\"Best Validation Loss at Epoch {BLE}\")\n",
    "        breaker()\n",
    "        print(f\"Best Validation Accs at Epoch {BAE}\")\n",
    "        breaker()\n",
    "        print(\"Time Taken [{} Epochs] : {:.2f} minutes\".format(len(Losses), (time()-start_time)/60))\n",
    "    \n",
    "    return Losses, Accuracies, LRs, bestLoss, bestAccs, BLE, BAE, ble_name, bae_name\n",
    "\n",
    "\n",
    "# def predict_batch(model=None, dataloader=None, path=None, device=None) -> np.ndarray:\n",
    "#     model.load_state_dict(torch.load(path, map_location=device)[\"model_state_dict\"])\n",
    "#     model.to(device)    \n",
    "#     model.eval()\n",
    "    \n",
    "#     y_pred = torch.zeros(1, 1).to(device)\n",
    "    \n",
    "#     for X in dataloader:\n",
    "#         X = X.to(device)\n",
    "#         with torch.no_grad():\n",
    "#             output = torch.argmax(torch.exp(model(X)), dim=1)\n",
    "#         y_pred = torch.cat((y_pred, output.view(-1, 1)), dim=0)\n",
    "    \n",
    "#     return y_pred[1:].detach().cpu().numpy()"
   ]
  },
  {
   "cell_type": "markdown",
   "id": "eb9b87a4",
   "metadata": {
    "papermill": {
     "duration": 0.004804,
     "end_time": "2022-11-21T04:24:45.618527",
     "exception": false,
     "start_time": "2022-11-21T04:24:45.613723",
     "status": "completed"
    },
    "tags": []
   },
   "source": [
    "### **Train**"
   ]
  },
  {
   "cell_type": "code",
   "execution_count": 8,
   "id": "5ceb7cb7",
   "metadata": {
    "execution": {
     "iopub.execute_input": "2022-11-21T04:24:45.628358Z",
     "iopub.status.busy": "2022-11-21T04:24:45.626979Z",
     "iopub.status.idle": "2022-11-21T04:24:45.681002Z",
     "shell.execute_reply": "2022-11-21T04:24:45.680116Z"
    },
    "papermill": {
     "duration": 0.060742,
     "end_time": "2022-11-21T04:24:45.683111",
     "exception": false,
     "start_time": "2022-11-21T04:24:45.622369",
     "status": "completed"
    },
    "tags": []
   },
   "outputs": [],
   "source": [
    "df = pd.read_csv(\"../input/ffc-dataframe/dataframe.csv\")\n",
    "\n",
    "filepaths = df.filepaths.copy().values\n",
    "labels = df.labels.copy().values"
   ]
  },
  {
   "cell_type": "code",
   "execution_count": 9,
   "id": "26809f9c",
   "metadata": {
    "execution": {
     "iopub.execute_input": "2022-11-21T04:24:45.692477Z",
     "iopub.status.busy": "2022-11-21T04:24:45.692220Z",
     "iopub.status.idle": "2022-11-21T09:53:17.091595Z",
     "shell.execute_reply": "2022-11-21T09:53:17.090579Z"
    },
    "papermill": {
     "duration": 19711.407009,
     "end_time": "2022-11-21T09:53:17.094147",
     "exception": false,
     "start_time": "2022-11-21T04:24:45.687138",
     "status": "completed"
    },
    "tags": []
   },
   "outputs": [
    {
     "name": "stderr",
     "output_type": "stream",
     "text": [
      "Downloading: \"https://github.com/rwightman/pytorch-image-models/releases/download/v0.1-weights/efficientnet_b4_ra2_320-7eb33cd5.pth\" to /root/.cache/torch/hub/checkpoints/efficientnet_b4_ra2_320-7eb33cd5.pth\n"
     ]
    },
    {
     "name": "stdout",
     "output_type": "stream",
     "text": [
      "\n",
      "**************************************************\n",
      "\n",
      "Training Fold 1...\n",
      "\n",
      "**************************************************\n",
      "\n",
      "Epoch: 1 | Train Loss: 0.89150 | Valid Loss: 0.25363 | Train Accs: 0.67637 | Valid Accs: 0.91850 | Time: 483.63 seconds\n",
      "Epoch: 2 | Train Loss: 0.30491 | Valid Loss: 0.24057 | Train Accs: 0.89663 | Valid Accs: 0.92200 | Time: 393.68 seconds\n",
      "Epoch: 3 | Train Loss: 0.24748 | Valid Loss: 0.18162 | Train Accs: 0.91763 | Valid Accs: 0.94050 | Time: 391.49 seconds\n",
      "Epoch: 4 | Train Loss: 0.18801 | Valid Loss: 0.17878 | Train Accs: 0.93675 | Valid Accs: 0.95000 | Time: 392.22 seconds\n",
      "Epoch: 5 | Train Loss: 0.13790 | Valid Loss: 0.18816 | Train Accs: 0.95350 | Valid Accs: 0.94700 | Time: 391.28 seconds\n",
      "Epoch: 6 | Train Loss: 0.11000 | Valid Loss: 0.16129 | Train Accs: 0.96288 | Valid Accs: 0.95350 | Time: 392.69 seconds\n",
      "Epoch: 7 | Train Loss: 0.05793 | Valid Loss: 0.19071 | Train Accs: 0.98050 | Valid Accs: 0.95300 | Time: 392.87 seconds\n",
      "Epoch: 8 | Train Loss: 0.04110 | Valid Loss: 0.15708 | Train Accs: 0.98700 | Valid Accs: 0.95750 | Time: 390.07 seconds\n",
      "Epoch: 9 | Train Loss: 0.02842 | Valid Loss: 0.16351 | Train Accs: 0.98975 | Valid Accs: 0.96200 | Time: 392.16 seconds\n",
      "Epoch: 10 | Train Loss: 0.02600 | Valid Loss: 0.13912 | Train Accs: 0.99125 | Valid Accs: 0.96250 | Time: 392.46 seconds\n",
      "\n",
      "**************************************************\n",
      "\n",
      "Best Validation Loss at Epoch 10\n",
      "\n",
      "**************************************************\n",
      "\n",
      "Best Validation Accs at Epoch 10\n",
      "\n",
      "**************************************************\n",
      "\n",
      "Time Taken [10 Epochs] : 66.88 minutes\n",
      "\n",
      "**************************************************\n",
      "\n"
     ]
    },
    {
     "data": {
      "image/png": "[encoded data removed]",
      "text/plain": [
       "<Figure size 432x288 with 1 Axes>"
      ]
     },
     "metadata": {
      "needs_background": "light"
     },
     "output_type": "display_data"
    },
    {
     "name": "stdout",
     "output_type": "stream",
     "text": [
      "\n",
      "**************************************************\n",
      "\n"
     ]
    },
    {
     "data": {
      "image/png": "[encoded data removed]",
      "text/plain": [
       "<Figure size 432x288 with 1 Axes>"
      ]
     },
     "metadata": {
      "needs_background": "light"
     },
     "output_type": "display_data"
    },
    {
     "name": "stdout",
     "output_type": "stream",
     "text": [
      "\n",
      "**************************************************\n",
      "\n"
     ]
    },
    {
     "data": {
      "image/png": "[encoded data removed]",
      "text/plain": [
       "<Figure size 576x432 with 1 Axes>"
      ]
     },
     "metadata": {
      "needs_background": "light"
     },
     "output_type": "display_data"
    },
    {
     "name": "stdout",
     "output_type": "stream",
     "text": [
      "\n",
      "**************************************************\n",
      "\n",
      "\n",
      "**************************************************\n",
      "\n",
      "Training Fold 2...\n",
      "\n",
      "**************************************************\n",
      "\n",
      "Epoch: 1 | Train Loss: 0.89355 | Valid Loss: 0.25507 | Train Accs: 0.67537 | Valid Accs: 0.91950 | Time: 386.84 seconds\n",
      "Epoch: 2 | Train Loss: 0.29459 | Valid Loss: 0.26348 | Train Accs: 0.90175 | Valid Accs: 0.91650 | Time: 385.72 seconds\n",
      "Epoch: 3 | Train Loss: 0.24991 | Valid Loss: 0.20830 | Train Accs: 0.91538 | Valid Accs: 0.93950 | Time: 387.71 seconds\n",
      "Epoch: 4 | Train Loss: 0.18600 | Valid Loss: 0.17584 | Train Accs: 0.93925 | Valid Accs: 0.94850 | Time: 388.30 seconds\n",
      "Epoch: 5 | Train Loss: 0.14109 | Valid Loss: 0.15396 | Train Accs: 0.95175 | Valid Accs: 0.94950 | Time: 389.46 seconds\n",
      "Epoch: 6 | Train Loss: 0.10246 | Valid Loss: 0.14140 | Train Accs: 0.96625 | Valid Accs: 0.95900 | Time: 391.18 seconds\n",
      "Epoch: 7 | Train Loss: 0.06977 | Valid Loss: 0.13613 | Train Accs: 0.97788 | Valid Accs: 0.96100 | Time: 389.87 seconds\n",
      "Epoch: 8 | Train Loss: 0.03962 | Valid Loss: 0.14104 | Train Accs: 0.98625 | Valid Accs: 0.96100 | Time: 390.20 seconds\n",
      "Epoch: 9 | Train Loss: 0.02973 | Valid Loss: 0.14042 | Train Accs: 0.99075 | Valid Accs: 0.96350 | Time: 385.90 seconds\n",
      "Epoch: 10 | Train Loss: 0.02749 | Valid Loss: 0.12577 | Train Accs: 0.99113 | Valid Accs: 0.96700 | Time: 386.47 seconds\n",
      "\n",
      "**************************************************\n",
      "\n",
      "Best Validation Loss at Epoch 10\n",
      "\n",
      "**************************************************\n",
      "\n",
      "Best Validation Accs at Epoch 10\n",
      "\n",
      "**************************************************\n",
      "\n",
      "Time Taken [10 Epochs] : 64.69 minutes\n",
      "\n",
      "**************************************************\n",
      "\n"
     ]
    },
    {
     "data": {
      "image/png": "[encoded data removed]",
      "text/plain": [
       "<Figure size 432x288 with 1 Axes>"
      ]
     },
     "metadata": {
      "needs_background": "light"
     },
     "output_type": "display_data"
    },
    {
     "name": "stdout",
     "output_type": "stream",
     "text": [
      "\n",
      "**************************************************\n",
      "\n"
     ]
    },
    {
     "data": {
      "image/png": "[encoded data removed]",
      "text/plain": [
       "<Figure size 432x288 with 1 Axes>"
      ]
     },
     "metadata": {
      "needs_background": "light"
     },
     "output_type": "display_data"
    },
    {
     "name": "stdout",
     "output_type": "stream",
     "text": [
      "\n",
      "**************************************************\n",
      "\n"
     ]
    },
    {
     "data": {
      "image/png": "[encoded data removed]",
      "text/plain": [
       "<Figure size 576x432 with 1 Axes>"
      ]
     },
     "metadata": {
      "needs_background": "light"
     },
     "output_type": "display_data"
    },
    {
     "name": "stdout",
     "output_type": "stream",
     "text": [
      "\n",
      "**************************************************\n",
      "\n",
      "\n",
      "**************************************************\n",
      "\n",
      "Training Fold 3...\n",
      "\n",
      "**************************************************\n",
      "\n",
      "Epoch: 1 | Train Loss: 0.88660 | Valid Loss: 0.24732 | Train Accs: 0.68088 | Valid Accs: 0.91900 | Time: 390.09 seconds\n",
      "Epoch: 2 | Train Loss: 0.30334 | Valid Loss: 0.21998 | Train Accs: 0.89863 | Valid Accs: 0.93000 | Time: 393.54 seconds\n",
      "Epoch: 3 | Train Loss: 0.24720 | Valid Loss: 0.21423 | Train Accs: 0.91900 | Valid Accs: 0.93000 | Time: 391.90 seconds\n",
      "Epoch: 4 | Train Loss: 0.17864 | Valid Loss: 0.25025 | Train Accs: 0.93975 | Valid Accs: 0.92700 | Time: 390.86 seconds\n",
      "Epoch: 5 | Train Loss: 0.14198 | Valid Loss: 0.21316 | Train Accs: 0.95462 | Valid Accs: 0.93900 | Time: 395.51 seconds\n",
      "Epoch: 6 | Train Loss: 0.09774 | Valid Loss: 0.17881 | Train Accs: 0.96962 | Valid Accs: 0.94450 | Time: 395.24 seconds\n",
      "Epoch: 7 | Train Loss: 0.06468 | Valid Loss: 0.18309 | Train Accs: 0.97937 | Valid Accs: 0.94800 | Time: 393.49 seconds\n",
      "Epoch: 8 | Train Loss: 0.04560 | Valid Loss: 0.16222 | Train Accs: 0.98450 | Valid Accs: 0.95650 | Time: 396.07 seconds\n",
      "Epoch: 9 | Train Loss: 0.02634 | Valid Loss: 0.15893 | Train Accs: 0.99113 | Valid Accs: 0.95600 | Time: 399.11 seconds\n",
      "Epoch: 10 | Train Loss: 0.02208 | Valid Loss: 0.16132 | Train Accs: 0.99200 | Valid Accs: 0.95650 | Time: 395.83 seconds\n",
      "\n",
      "**************************************************\n",
      "\n",
      "Best Validation Loss at Epoch 9\n",
      "\n",
      "**************************************************\n",
      "\n",
      "Best Validation Accs at Epoch 8\n",
      "\n",
      "**************************************************\n",
      "\n",
      "Time Taken [10 Epochs] : 65.69 minutes\n",
      "\n",
      "**************************************************\n",
      "\n"
     ]
    },
    {
     "data": {
      "image/png": "[encoded data removed]",
      "text/plain": [
       "<Figure size 432x288 with 1 Axes>"
      ]
     },
     "metadata": {
      "needs_background": "light"
     },
     "output_type": "display_data"
    },
    {
     "name": "stdout",
     "output_type": "stream",
     "text": [
      "\n",
      "**************************************************\n",
      "\n"
     ]
    },
    {
     "data": {
      "image/png": "[encoded data removed]",
      "text/plain": [
       "<Figure size 432x288 with 1 Axes>"
      ]
     },
     "metadata": {
      "needs_background": "light"
     },
     "output_type": "display_data"
    },
    {
     "name": "stdout",
     "output_type": "stream",
     "text": [
      "\n",
      "**************************************************\n",
      "\n"
     ]
    },
    {
     "data": {
      "image/png": "[encoded data removed]",
      "text/plain": [
       "<Figure size 576x432 with 1 Axes>"
      ]
     },
     "metadata": {
      "needs_background": "light"
     },
     "output_type": "display_data"
    },
    {
     "name": "stdout",
     "output_type": "stream",
     "text": [
      "\n",
      "**************************************************\n",
      "\n",
      "\n",
      "**************************************************\n",
      "\n",
      "Training Fold 4...\n",
      "\n",
      "**************************************************\n",
      "\n",
      "Epoch: 1 | Train Loss: 0.89276 | Valid Loss: 0.27580 | Train Accs: 0.67463 | Valid Accs: 0.90700 | Time: 393.73 seconds\n",
      "Epoch: 2 | Train Loss: 0.30275 | Valid Loss: 0.25024 | Train Accs: 0.89938 | Valid Accs: 0.91800 | Time: 392.08 seconds\n",
      "Epoch: 3 | Train Loss: 0.24156 | Valid Loss: 0.26747 | Train Accs: 0.91975 | Valid Accs: 0.91100 | Time: 390.67 seconds\n",
      "Epoch: 4 | Train Loss: 0.18832 | Valid Loss: 0.22581 | Train Accs: 0.93875 | Valid Accs: 0.93250 | Time: 394.39 seconds\n",
      "Epoch: 5 | Train Loss: 0.13336 | Valid Loss: 0.21198 | Train Accs: 0.95713 | Valid Accs: 0.94850 | Time: 396.62 seconds\n",
      "Epoch: 6 | Train Loss: 0.09933 | Valid Loss: 0.17824 | Train Accs: 0.96837 | Valid Accs: 0.95250 | Time: 395.40 seconds\n",
      "Epoch: 7 | Train Loss: 0.05982 | Valid Loss: 0.18666 | Train Accs: 0.98188 | Valid Accs: 0.95000 | Time: 392.27 seconds\n",
      "Epoch: 8 | Train Loss: 0.04059 | Valid Loss: 0.17327 | Train Accs: 0.98725 | Valid Accs: 0.94800 | Time: 394.07 seconds\n",
      "Epoch: 9 | Train Loss: 0.02960 | Valid Loss: 0.18882 | Train Accs: 0.98962 | Valid Accs: 0.95000 | Time: 390.60 seconds\n",
      "Epoch: 10 | Train Loss: 0.02898 | Valid Loss: 0.16873 | Train Accs: 0.99113 | Valid Accs: 0.95250 | Time: 394.39 seconds\n",
      "\n",
      "**************************************************\n",
      "\n",
      "Best Validation Loss at Epoch 10\n",
      "\n",
      "**************************************************\n",
      "\n",
      "Best Validation Accs at Epoch 6\n",
      "\n",
      "**************************************************\n",
      "\n",
      "Time Taken [10 Epochs] : 65.57 minutes\n",
      "\n",
      "**************************************************\n",
      "\n"
     ]
    },
    {
     "data": {
      "image/png": "[encoded data removed]",
      "text/plain": [
       "<Figure size 432x288 with 1 Axes>"
      ]
     },
     "metadata": {
      "needs_background": "light"
     },
     "output_type": "display_data"
    },
    {
     "name": "stdout",
     "output_type": "stream",
     "text": [
      "\n",
      "**************************************************\n",
      "\n"
     ]
    },
    {
     "data": {
      "image/png": "[encoded data removed]",
      "text/plain": [
       "<Figure size 432x288 with 1 Axes>"
      ]
     },
     "metadata": {
      "needs_background": "light"
     },
     "output_type": "display_data"
    },
    {
     "name": "stdout",
     "output_type": "stream",
     "text": [
      "\n",
      "**************************************************\n",
      "\n"
     ]
    },
    {
     "data": {
      "image/png": "[encoded data removed]",
      "text/plain": [
       "<Figure size 576x432 with 1 Axes>"
      ]
     },
     "metadata": {
      "needs_background": "light"
     },
     "output_type": "display_data"
    },
    {
     "name": "stdout",
     "output_type": "stream",
     "text": [
      "\n",
      "**************************************************\n",
      "\n",
      "\n",
      "**************************************************\n",
      "\n",
      "Training Fold 5...\n",
      "\n",
      "**************************************************\n",
      "\n",
      "Epoch: 1 | Train Loss: 0.89803 | Valid Loss: 0.30331 | Train Accs: 0.67437 | Valid Accs: 0.90000 | Time: 393.81 seconds\n",
      "Epoch: 2 | Train Loss: 0.29413 | Valid Loss: 0.27943 | Train Accs: 0.90287 | Valid Accs: 0.91600 | Time: 392.02 seconds\n",
      "Epoch: 3 | Train Loss: 0.24362 | Valid Loss: 0.25064 | Train Accs: 0.91938 | Valid Accs: 0.92900 | Time: 392.78 seconds\n",
      "Epoch: 4 | Train Loss: 0.17937 | Valid Loss: 0.26179 | Train Accs: 0.94237 | Valid Accs: 0.92200 | Time: 393.24 seconds\n",
      "Epoch: 5 | Train Loss: 0.13577 | Valid Loss: 0.20983 | Train Accs: 0.95475 | Valid Accs: 0.94700 | Time: 396.47 seconds\n",
      "Epoch: 6 | Train Loss: 0.09303 | Valid Loss: 0.23846 | Train Accs: 0.97088 | Valid Accs: 0.93800 | Time: 391.60 seconds\n",
      "Epoch: 7 | Train Loss: 0.06403 | Valid Loss: 0.23178 | Train Accs: 0.97862 | Valid Accs: 0.94100 | Time: 391.83 seconds\n",
      "Epoch: 8 | Train Loss: 0.04464 | Valid Loss: 0.20641 | Train Accs: 0.98450 | Valid Accs: 0.95150 | Time: 393.10 seconds\n",
      "Epoch: 9 | Train Loss: 0.02515 | Valid Loss: 0.22632 | Train Accs: 0.99162 | Valid Accs: 0.95050 | Time: 391.95 seconds\n",
      "Epoch: 10 | Train Loss: 0.02447 | Valid Loss: 0.20928 | Train Accs: 0.99213 | Valid Accs: 0.95300 | Time: 391.93 seconds\n",
      "\n",
      "**************************************************\n",
      "\n",
      "Best Validation Loss at Epoch 8\n",
      "\n",
      "**************************************************\n",
      "\n",
      "Best Validation Accs at Epoch 10\n",
      "\n",
      "**************************************************\n",
      "\n",
      "Time Taken [10 Epochs] : 65.48 minutes\n",
      "\n",
      "**************************************************\n",
      "\n"
     ]
    },
    {
     "data": {
      "image/png": "[encoded data removed]",
      "text/plain": [
       "<Figure size 432x288 with 1 Axes>"
      ]
     },
     "metadata": {
      "needs_background": "light"
     },
     "output_type": "display_data"
    },
    {
     "name": "stdout",
     "output_type": "stream",
     "text": [
      "\n",
      "**************************************************\n",
      "\n"
     ]
    },
    {
     "data": {
      "image/png": "[encoded data removed]",
      "text/plain": [
       "<Figure size 432x288 with 1 Axes>"
      ]
     },
     "metadata": {
      "needs_background": "light"
     },
     "output_type": "display_data"
    },
    {
     "name": "stdout",
     "output_type": "stream",
     "text": [
      "\n",
      "**************************************************\n",
      "\n"
     ]
    },
    {
     "data": {
      "image/png": "[encoded data removed]",
      "text/plain": [
       "<Figure size 576x432 with 1 Axes>"
      ]
     },
     "metadata": {
      "needs_background": "light"
     },
     "output_type": "display_data"
    },
    {
     "name": "stdout",
     "output_type": "stream",
     "text": [
      "\n",
      "**************************************************\n",
      "\n"
     ]
    }
   ],
   "source": [
    "fold: int = 1\n",
    "BLs: list = []\n",
    "BAs: list = []\n",
    "    \n",
    "cfg.batch_size = 16\n",
    "cfg.epochs = 10\n",
    "    \n",
    "for tr_idx, va_idx in StratifiedKFold(n_splits=cfg.n_splits, random_state=cfg.seed, shuffle=True).split(filepaths, labels):\n",
    "\n",
    "    tr_filepaths, va_filepaths = filepaths[tr_idx], filepaths[va_idx] \n",
    "    tr_labels, va_labels       = labels[tr_idx], labels[va_idx]\n",
    "\n",
    "    tr_data_setup = DS(\n",
    "        filepaths=tr_filepaths, \n",
    "        labels=tr_labels.reshape(-1, 1),\n",
    "        size=cfg.size,\n",
    "        transform=cfg.train_transform\n",
    "    )\n",
    "    \n",
    "    va_data_setup = DS(\n",
    "        filepaths=va_filepaths, \n",
    "        labels=va_labels.reshape(-1, 1),\n",
    "        size=cfg.size,\n",
    "        transform=cfg.train_transform\n",
    "    )\n",
    "\n",
    "    dataloaders = {\n",
    "        \"train\" : DL(tr_data_setup, batch_size=cfg.batch_size, shuffle=True, generator=torch.manual_seed(cfg.seed)),\n",
    "        \"valid\" : DL(va_data_setup, batch_size=cfg.batch_size, shuffle=False),\n",
    "    }\n",
    "\n",
    "    cfg.steps_per_epoch=len(dataloaders[\"train\"])\n",
    "    \n",
    "    torch.manual_seed(cfg.seed)\n",
    "    model = Model().to(cfg.device)\n",
    "\n",
    "    optimizer = optim.Adam([p for p in model.parameters() if p.requires_grad], lr=cfg.lr, weight_decay=cfg.wd)\n",
    "    # optimizer = optim.AdamW([p for p in model.parameters() if p.requires_grad], lr=cfg.lr, weight_decay=cfg.wd)\n",
    "    # optimizer = optim.SGD([p for p in model.parameters() if p.requires_grad], lr=cfg.lr, weight_decay=cfg.wd, momentum=0.9)\n",
    "\n",
    "    scheduler_oclr = optim.lr_scheduler.OneCycleLR(\n",
    "        optimizer=optimizer, \n",
    "        max_lr=cfg.max_lr, \n",
    "        epochs=cfg.epochs, \n",
    "        steps_per_epoch=cfg.steps_per_epoch,\n",
    "        pct_start=cfg.pct_start, \n",
    "        div_factor=cfg.div_factor, \n",
    "        final_div_factor=cfg.final_div_factor\n",
    "    )\n",
    "\n",
    "    # scheduler_rlrop = optim.lr_scheduler.ReduceLROnPlateau(\n",
    "    #     optimizer=optimizer,\n",
    "    #     patience=cfg.patience,\n",
    "    #     eps=cfg.eps,\n",
    "    #     verbose=True\n",
    "    # )\n",
    "\n",
    "    # scheduler_oclr = None\n",
    "    scheduler_rlrop = None\n",
    "\n",
    "\n",
    "    L, A, LR, BL, BA, _, _, _, _ = fit(\n",
    "        model=model, \n",
    "        optimizer=optimizer, \n",
    "        scheduler_oclr=scheduler_oclr,\n",
    "        scheduler_rlrop=scheduler_rlrop,\n",
    "        epochs=cfg.epochs, \n",
    "        early_stopping_patience=cfg.early_stopping, \n",
    "        dataloaders=dataloaders, \n",
    "        device=cfg.device,\n",
    "        save_path=cfg.save_path,\n",
    "        fold=fold,\n",
    "        verbose=True\n",
    "    )\n",
    "\n",
    "\n",
    "    breaker()\n",
    "    show_loss_graphs(L)\n",
    "    breaker()\n",
    "    show_accuracy_graphs(A)\n",
    "    breaker()\n",
    "    if scheduler_oclr:\n",
    "        show_lr_graph(LR)\n",
    "        breaker()\n",
    "    \n",
    "    BLs.append(BL)\n",
    "    BAs.append(BA)\n",
    "    \n",
    "    fold += 1"
   ]
  },
  {
   "cell_type": "markdown",
   "id": "6240ee94",
   "metadata": {
    "papermill": {
     "duration": 0.011045,
     "end_time": "2022-11-21T09:53:17.116210",
     "exception": false,
     "start_time": "2022-11-21T09:53:17.105165",
     "status": "completed"
    },
    "tags": []
   },
   "source": [
    "### **Best Model**"
   ]
  },
  {
   "cell_type": "code",
   "execution_count": 10,
   "id": "b17818ba",
   "metadata": {
    "execution": {
     "iopub.execute_input": "2022-11-21T09:53:17.139218Z",
     "iopub.status.busy": "2022-11-21T09:53:17.138531Z",
     "iopub.status.idle": "2022-11-21T09:53:17.147185Z",
     "shell.execute_reply": "2022-11-21T09:53:17.146327Z"
    },
    "papermill": {
     "duration": 0.022257,
     "end_time": "2022-11-21T09:53:17.149016",
     "exception": false,
     "start_time": "2022-11-21T09:53:17.126759",
     "status": "completed"
    },
    "tags": []
   },
   "outputs": [
    {
     "name": "stdout",
     "output_type": "stream",
     "text": [
      "\n",
      "**************************************************\n",
      "\n",
      "Best Loss Model Fold     : 2\n",
      "Best Accuracy Model Fold : 2\n",
      "\n",
      "**************************************************\n",
      "\n"
     ]
    }
   ],
   "source": [
    "BL = np.inf\n",
    "for i in range(len(BLs)):\n",
    "    if BLs[i][\"valid\"] < BL:\n",
    "        BL = BLs[i][\"valid\"]\n",
    "        best_loss_index = i\n",
    "\n",
    "        \n",
    "BA = 0.0\n",
    "for i in range(len(BAs)):\n",
    "    if BAs[i][\"valid\"] > BA:\n",
    "        BA = BAs[i][\"valid\"]\n",
    "        best_accs_index = i\n",
    "\n",
    "breaker()\n",
    "print(f\"Best Loss Model Fold     : {best_loss_index + 1}\")\n",
    "print(f\"Best Accuracy Model Fold : {best_accs_index + 1}\")\n",
    "breaker()"
   ]
  }
 ],
 "metadata": {
  "kernelspec": {
   "display_name": "Python 3",
   "language": "python",
   "name": "python3"
  },
  "language_info": {
   "codemirror_mode": {
    "name": "ipython",
    "version": 3
   },
   "file_extension": ".py",
   "mimetype": "text/x-python",
   "name": "python",
   "nbconvert_exporter": "python",
   "pygments_lexer": "ipython3",
   "version": "3.7.12"
  },
  "papermill": {
   "default_parameters": {},
   "duration": 19735.527475,
   "end_time": "2022-11-21T09:53:18.813632",
   "environment_variables": {},
   "exception": null,
   "input_path": "__notebook__.ipynb",
   "output_path": "__notebook__.ipynb",
   "parameters": {},
   "start_time": "2022-11-21T04:24:23.286157",
   "version": "2.3.4"
  }
 },
 "nbformat": 4,
 "nbformat_minor": 5
}
