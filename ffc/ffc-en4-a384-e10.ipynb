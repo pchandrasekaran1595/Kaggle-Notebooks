{
 "cells": [
  {
   "cell_type": "markdown",
   "id": "03ffb9d4",
   "metadata": {
    "_cell_guid": "b1076dfc-b9ad-4769-8c92-a6c4dae69d19",
    "_uuid": "8f2839f25d086af736a60e9eeb907d3b93b6e0e5",
    "papermill": {
     "duration": 0.007312,
     "end_time": "2022-11-19T15:09:33.120142",
     "exception": false,
     "start_time": "2022-11-19T15:09:33.112830",
     "status": "completed"
    },
    "tags": []
   },
   "source": [
    "##### **Setup**"
   ]
  },
  {
   "cell_type": "code",
   "execution_count": 1,
   "id": "11616cf5",
   "metadata": {
    "execution": {
     "iopub.execute_input": "2022-11-19T15:09:33.134640Z",
     "iopub.status.busy": "2022-11-19T15:09:33.133669Z",
     "iopub.status.idle": "2022-11-19T15:09:43.789113Z",
     "shell.execute_reply": "2022-11-19T15:09:43.787882Z"
    },
    "papermill": {
     "duration": 10.665381,
     "end_time": "2022-11-19T15:09:43.791450",
     "exception": false,
     "start_time": "2022-11-19T15:09:33.126069",
     "status": "completed"
    },
    "tags": []
   },
   "outputs": [
    {
     "name": "stderr",
     "output_type": "stream",
     "text": [
      "WARNING: Running pip as the 'root' user can result in broken permissions and conflicting behaviour with the system package manager. It is recommended to use a virtual environment instead: https://pip.pypa.io/warnings/venv\n"
     ]
    }
   ],
   "source": [
    "%%bash\n",
    "pip install timm -q"
   ]
  },
  {
   "cell_type": "markdown",
   "id": "c0d38da6",
   "metadata": {
    "papermill": {
     "duration": 0.003899,
     "end_time": "2022-11-19T15:09:43.799984",
     "exception": false,
     "start_time": "2022-11-19T15:09:43.796085",
     "status": "completed"
    },
    "tags": []
   },
   "source": [
    "### **Library Imports**"
   ]
  },
  {
   "cell_type": "code",
   "execution_count": 2,
   "id": "523c7c70",
   "metadata": {
    "execution": {
     "iopub.execute_input": "2022-11-19T15:09:43.809471Z",
     "iopub.status.busy": "2022-11-19T15:09:43.809113Z",
     "iopub.status.idle": "2022-11-19T15:09:47.762022Z",
     "shell.execute_reply": "2022-11-19T15:09:47.760885Z"
    },
    "papermill": {
     "duration": 3.960589,
     "end_time": "2022-11-19T15:09:47.764527",
     "exception": false,
     "start_time": "2022-11-19T15:09:43.803938",
     "status": "completed"
    },
    "tags": []
   },
   "outputs": [],
   "source": [
    "import os\n",
    "import re\n",
    "import cv2\n",
    "import timm\n",
    "import torch\n",
    "import numpy as np\n",
    "import pandas as pd\n",
    "import matplotlib.pyplot as plt\n",
    "\n",
    "from time import time\n",
    "from typing import Union\n",
    "from torch import nn, optim\n",
    "from torch.utils.data import Dataset\n",
    "from torch.utils.data import DataLoader as DL\n",
    "from torchvision import models, transforms\n",
    "\n",
    "from sklearn.model_selection import StratifiedKFold"
   ]
  },
  {
   "cell_type": "markdown",
   "id": "5b5f59bd",
   "metadata": {
    "papermill": {
     "duration": 0.004045,
     "end_time": "2022-11-19T15:09:47.772873",
     "exception": false,
     "start_time": "2022-11-19T15:09:47.768828",
     "status": "completed"
    },
    "tags": []
   },
   "source": [
    "### **Utilities and Helpers**"
   ]
  },
  {
   "cell_type": "code",
   "execution_count": 3,
   "id": "809cb326",
   "metadata": {
    "execution": {
     "iopub.execute_input": "2022-11-19T15:09:47.782418Z",
     "iopub.status.busy": "2022-11-19T15:09:47.781850Z",
     "iopub.status.idle": "2022-11-19T15:09:47.794900Z",
     "shell.execute_reply": "2022-11-19T15:09:47.794063Z"
    },
    "papermill": {
     "duration": 0.02008,
     "end_time": "2022-11-19T15:09:47.796919",
     "exception": false,
     "start_time": "2022-11-19T15:09:47.776839",
     "status": "completed"
    },
    "tags": []
   },
   "outputs": [],
   "source": [
    "SEED = 42\n",
    "SIZE = 384\n",
    "\n",
    "\n",
    "def breaker(num: int=50, char: str=\"*\") -> None:\n",
    "    print(\"\\n\" + num*char + \"\\n\")\n",
    "\n",
    "    \n",
    "def get_image(path: str, size: int=224) -> np.ndarray:\n",
    "    image = cv2.imread(path, cv2.IMREAD_COLOR)\n",
    "    image = cv2.cvtColor(src=image, code=cv2.COLOR_BGR2RGB)\n",
    "    return cv2.resize(src=image, dsize=(size, size), interpolation=cv2.INTER_AREA)\n",
    "\n",
    "    \n",
    "def show_loss_graphs(L: list) -> None:\n",
    "    TL, VL = [], []\n",
    "    for i in range(len(L)):\n",
    "        TL.append(L[i][\"train\"])\n",
    "        VL.append(L[i][\"valid\"])\n",
    "    x_Axis = np.arange(1, len(TL) + 1)\n",
    "    plt.figure()\n",
    "    plt.plot(x_Axis, TL, \"r\", label=\"Train\")\n",
    "    plt.plot(x_Axis, VL, \"b\", label=\"Valid\")\n",
    "    plt.legend()\n",
    "    plt.grid()\n",
    "    plt.title(\"Loss Graph\")\n",
    "    plt.show()\n",
    "\n",
    "    \n",
    "def show_accuracy_graphs(A: list) -> None:\n",
    "    TA, VA = [], []\n",
    "    for i in range(len(A)):\n",
    "        TA.append(A[i][\"train\"])\n",
    "        VA.append(A[i][\"valid\"])\n",
    "    x_Axis = np.arange(1, len(TA) + 1)\n",
    "    plt.figure()\n",
    "    plt.plot(x_Axis, TA, \"r\", label=\"Train\")\n",
    "    plt.plot(x_Axis, VA, \"b\", label=\"Valid\")\n",
    "    plt.legend()\n",
    "    plt.grid()\n",
    "    plt.title(\"Accuracy Graph\")\n",
    "    plt.show()\n",
    "    \n",
    "\n",
    "def show_lr_graph(LR: list) -> None:\n",
    "    x_Axis = [i+1 for i in range(len(LR))]\n",
    "    plt.figure(figsize=(8, 6))\n",
    "    plt.plot(x_Axis, LR, \"rx\")\n",
    "    plt.grid()\n",
    "    plt.show()"
   ]
  },
  {
   "cell_type": "markdown",
   "id": "8ddfc397",
   "metadata": {
    "papermill": {
     "duration": 0.003766,
     "end_time": "2022-11-19T15:09:47.804832",
     "exception": false,
     "start_time": "2022-11-19T15:09:47.801066",
     "status": "completed"
    },
    "tags": []
   },
   "source": [
    "### **Configuration**"
   ]
  },
  {
   "cell_type": "code",
   "execution_count": 4,
   "id": "c96e92ec",
   "metadata": {
    "execution": {
     "iopub.execute_input": "2022-11-19T15:09:47.814230Z",
     "iopub.status.busy": "2022-11-19T15:09:47.813900Z",
     "iopub.status.idle": "2022-11-19T15:09:47.888853Z",
     "shell.execute_reply": "2022-11-19T15:09:47.887728Z"
    },
    "papermill": {
     "duration": 0.081989,
     "end_time": "2022-11-19T15:09:47.890862",
     "exception": false,
     "start_time": "2022-11-19T15:09:47.808873",
     "status": "completed"
    },
    "tags": []
   },
   "outputs": [],
   "source": [
    "class CFG(object):\n",
    "    def __init__(self, \n",
    "                 seed: int = 42,\n",
    "                 size: int = 224,\n",
    "                 n_splits: int = 5,\n",
    "                 batch_size: int = 16,\n",
    "                 epochs: int = 25,\n",
    "                 early_stopping: int = 5,\n",
    "                 lr: float = 1e-4,\n",
    "                 wd: float = 0.0,\n",
    "                 max_lr: float = 1e-3,\n",
    "                 pct_start: float = 0.2,\n",
    "                 steps_per_epoch: int = 100,\n",
    "                 div_factor: int = 1e3, \n",
    "                 final_div_factor: float = 1e3,\n",
    "                 ):\n",
    "        self.seed = seed\n",
    "        self.size = size\n",
    "        self.n_splits = n_splits\n",
    "        self.batch_size = batch_size\n",
    "        self.epochs = epochs\n",
    "        self.early_stopping = early_stopping\n",
    "        self.lr = lr\n",
    "        self.wd = wd\n",
    "        self.max_lr = max_lr\n",
    "        self.pct_start = pct_start\n",
    "        self.steps_per_epoch = steps_per_epoch\n",
    "        self.div_factor = div_factor\n",
    "        self.final_div_factor = final_div_factor\n",
    "        self.device = torch.device(\"cuda\" if torch.cuda.is_available() else \"cpu\")\n",
    "        \n",
    "        if self.size == 224:\n",
    "            self.train_transform = transforms.Compose([\n",
    "                transforms.ToTensor(),\n",
    "                transforms.Normalize([0.66463, 0.54626, 0.45014], [0.22289, 0.24184, 0.26005]),\n",
    "                transforms.RandomAffine(degrees=(-45, 45), translate=(0.15, 0.15), scale=(0.5, 1.5)),\n",
    "                transforms.RandomHorizontalFlip(p=0.25),\n",
    "                transforms.RandomVerticalFlip(p=0.25),\n",
    "            ])\n",
    "            self.valid_transform = transforms.Compose([\n",
    "                transforms.ToTensor(),\n",
    "                transforms.Normalize([0.66463, 0.54626, 0.45014], [0.22289, 0.24184, 0.26005]),\n",
    "            ])\n",
    "        \n",
    "        if self.size == 384:\n",
    "            self.train_transform = transforms.Compose([\n",
    "                transforms.ToTensor(),\n",
    "                transforms.Normalize([0.66472, 0.54634, 0.45022], [0.22459, 0.24354, 0.26168]),\n",
    "                transforms.RandomAffine(degrees=(-45, 45), translate=(0.15, 0.15), scale=(0.5, 1.5)),\n",
    "                transforms.RandomHorizontalFlip(p=0.25),\n",
    "                transforms.RandomVerticalFlip(p=0.25),\n",
    "            ])\n",
    "            self.valid_transform = transforms.Compose([\n",
    "                transforms.ToTensor(),\n",
    "                transforms.Normalize([0.66472, 0.54634, 0.45022], [0.22459, 0.24354, 0.26168]),\n",
    "            ])\n",
    "        \n",
    "        if self.size == 512:\n",
    "            self.train_transform = transforms.Compose([\n",
    "                transforms.ToTensor(),\n",
    "                transforms.Normalize([0.66477, 0.54639, 0.45027], [0.22523, 0.24419, 0.26230]),\n",
    "                transforms.RandomAffine(degrees=(-45, 45), translate=(0.15, 0.15), scale=(0.5, 1.5)),\n",
    "                transforms.RandomHorizontalFlip(p=0.25),\n",
    "                transforms.RandomVerticalFlip(p=0.25),\n",
    "            ])\n",
    "            self.valid_transform = transforms.Compose([\n",
    "                transforms.ToTensor(),\n",
    "                transforms.Normalize([0.66477, 0.54639, 0.45027], [0.22523, 0.24419, 0.26230]),\n",
    "            ])\n",
    "                                \n",
    "        self.save_path = \"saves\"\n",
    "        if not os.path.exists(self.save_path): os.makedirs(self.save_path)\n",
    "    \n",
    "cfg = CFG(\n",
    "    seed=SEED, \n",
    "    size=SIZE\n",
    ")"
   ]
  },
  {
   "cell_type": "markdown",
   "id": "f30bc1bb",
   "metadata": {
    "papermill": {
     "duration": 0.003806,
     "end_time": "2022-11-19T15:09:47.898947",
     "exception": false,
     "start_time": "2022-11-19T15:09:47.895141",
     "status": "completed"
    },
    "tags": []
   },
   "source": [
    "### **Dataset Template**"
   ]
  },
  {
   "cell_type": "code",
   "execution_count": 5,
   "id": "2a778a82",
   "metadata": {
    "execution": {
     "iopub.execute_input": "2022-11-19T15:09:47.909329Z",
     "iopub.status.busy": "2022-11-19T15:09:47.908243Z",
     "iopub.status.idle": "2022-11-19T15:09:47.915789Z",
     "shell.execute_reply": "2022-11-19T15:09:47.914824Z"
    },
    "papermill": {
     "duration": 0.015041,
     "end_time": "2022-11-19T15:09:47.917975",
     "exception": false,
     "start_time": "2022-11-19T15:09:47.902934",
     "status": "completed"
    },
    "tags": []
   },
   "outputs": [],
   "source": [
    "class DS(Dataset):\n",
    "    def __init__(\n",
    "        self, \n",
    "        filepaths: np.ndarray, \n",
    "        size: int,\n",
    "        labels: Union[np.ndarray, None]=None, \n",
    "        transform=None\n",
    "    ):\n",
    "        \n",
    "        self.filepaths = filepaths\n",
    "        self.labels = labels\n",
    "        self.size = size\n",
    "        self.transform = transform\n",
    "    \n",
    "    def __len__(self):\n",
    "        return self.filepaths.shape[0]\n",
    "    \n",
    "    def __getitem__(self, idx):\n",
    "        image = get_image(self.filepaths[idx], self.size)\n",
    "        if self.labels is None:\n",
    "            return self.transform(image)\n",
    "        return self.transform(image), torch.LongTensor(self.labels[idx])"
   ]
  },
  {
   "cell_type": "markdown",
   "id": "1ba20ded",
   "metadata": {
    "papermill": {
     "duration": 0.003922,
     "end_time": "2022-11-19T15:09:47.926445",
     "exception": false,
     "start_time": "2022-11-19T15:09:47.922523",
     "status": "completed"
    },
    "tags": []
   },
   "source": [
    "### **Model**"
   ]
  },
  {
   "cell_type": "code",
   "execution_count": 6,
   "id": "2959a667",
   "metadata": {
    "execution": {
     "iopub.execute_input": "2022-11-19T15:09:47.935822Z",
     "iopub.status.busy": "2022-11-19T15:09:47.935496Z",
     "iopub.status.idle": "2022-11-19T15:09:47.941680Z",
     "shell.execute_reply": "2022-11-19T15:09:47.940649Z"
    },
    "papermill": {
     "duration": 0.013545,
     "end_time": "2022-11-19T15:09:47.944055",
     "exception": false,
     "start_time": "2022-11-19T15:09:47.930510",
     "status": "completed"
    },
    "tags": []
   },
   "outputs": [],
   "source": [
    "class Model(nn.Module):\n",
    "    def __init__(self):\n",
    "        super(Model, self).__init__()\n",
    "            \n",
    "        self.model = timm.create_model(model_name=\"efficientnet_b4\", pretrained=True)\n",
    "        self.model.classifier = nn.Linear(in_features=self.model.classifier.in_features, out_features=11)\n",
    "\n",
    "    def forward(self, x):\n",
    "        return nn.LogSoftmax(dim=1)(self.model(x))"
   ]
  },
  {
   "cell_type": "markdown",
   "id": "f0d92bc8",
   "metadata": {
    "papermill": {
     "duration": 0.003786,
     "end_time": "2022-11-19T15:09:47.951806",
     "exception": false,
     "start_time": "2022-11-19T15:09:47.948020",
     "status": "completed"
    },
    "tags": []
   },
   "source": [
    "### **Fit and Predict**"
   ]
  },
  {
   "cell_type": "code",
   "execution_count": 7,
   "id": "50d7b7ff",
   "metadata": {
    "execution": {
     "iopub.execute_input": "2022-11-19T15:09:47.961256Z",
     "iopub.status.busy": "2022-11-19T15:09:47.960951Z",
     "iopub.status.idle": "2022-11-19T15:09:47.981727Z",
     "shell.execute_reply": "2022-11-19T15:09:47.980768Z"
    },
    "papermill": {
     "duration": 0.028011,
     "end_time": "2022-11-19T15:09:47.983709",
     "exception": false,
     "start_time": "2022-11-19T15:09:47.955698",
     "status": "completed"
    },
    "tags": []
   },
   "outputs": [],
   "source": [
    "def fit(\n",
    "    model=None,\n",
    "    optimizer=None, \n",
    "    scheduler_rlrop=None,\n",
    "    scheduler_oclr=None,\n",
    "    epochs=None, \n",
    "    early_stopping_patience=None, \n",
    "    dataloaders=None, \n",
    "    fold=None, \n",
    "    save_path=None,\n",
    "    device=None,\n",
    "    verbose=False\n",
    ") -> tuple:\n",
    "    \n",
    "    def get_accuracy(y_pred, y_true):\n",
    "        y_pred = torch.argmax(y_pred, dim=1)\n",
    "        return torch.count_nonzero(y_pred == y_true).item() / len(y_pred)\n",
    "    \n",
    "    \n",
    "    if verbose:\n",
    "        breaker()\n",
    "        if fold: print(f\"Training Fold {fold}...\")\n",
    "        else: print(\"Training ...\")\n",
    "        breaker()\n",
    "        \n",
    "    bestLoss: dict = {\"train\" : np.inf, \"valid\" : np.inf} \n",
    "    bestAccs: dict = {\"train\" : 0.0, \"valid\" : 0.0}\n",
    "    \n",
    "    Losses: list = []\n",
    "    Accuracies: list = [] \n",
    "    LRs: list = []\n",
    "        \n",
    "    if fold: \n",
    "        ble_name = f\"ble_state_fold_{fold}.pt\"\n",
    "        bae_name = f\"bae_state_fold_{fold}.pt\"\n",
    "    else: \n",
    "        ble_name = f\"ble_state.pt\"\n",
    "        bae_name = f\"bae_state.pt\"\n",
    "        \n",
    "    start_time = time()\n",
    "    for e in range(epochs):\n",
    "        e_st = time()\n",
    "        epochLoss: dict = {\"train\" : 0.0, \"valid\" : 0.0} \n",
    "        epochAccs: dict = {\"train\" : 0.0, \"valid\" : 0.0}\n",
    "\n",
    "        for phase in [\"train\", \"valid\"]:\n",
    "            if phase == \"train\":\n",
    "                model.train()\n",
    "            else:\n",
    "                model.eval()\n",
    "            \n",
    "            lossPerPass: list = []\n",
    "            accsPerPass: list = []\n",
    "                \n",
    "            for X, y in dataloaders[phase]:\n",
    "                X, y = X.to(device), y.to(device).view(-1)\n",
    "\n",
    "                optimizer.zero_grad()\n",
    "                with torch.set_grad_enabled(phase == \"train\"):\n",
    "                    output = model(X)\n",
    "                    loss = torch.nn.NLLLoss()(output, y)\n",
    "                    if phase == \"train\":\n",
    "                        loss.backward()\n",
    "                        optimizer.step()\n",
    "                        if scheduler_oclr: scheduler_oclr.step()\n",
    "                lossPerPass.append(loss.item())\n",
    "                accsPerPass.append(get_accuracy(output, y))\n",
    "            epochLoss[phase] = np.mean(np.array(lossPerPass))\n",
    "            epochAccs[phase] = np.mean(np.array(accsPerPass))\n",
    "        if scheduler_oclr: LRs.append(scheduler_oclr.get_last_lr())\n",
    "        Losses.append(epochLoss)\n",
    "        Accuracies.append(epochAccs)\n",
    "        \n",
    "        if scheduler_oclr:\n",
    "            save_dict = {\"model_state_dict\"     : model.state_dict(),\n",
    "                         \"optim_state_dict\"     : optimizer.state_dict(),\n",
    "                         \"scheduler_state_dict\" : scheduler_oclr.state_dict()}\n",
    "        \n",
    "        elif scheduler_rlrop:\n",
    "            save_dict = {\"model_state_dict\"     : model.state_dict(),\n",
    "                         \"optim_state_dict\"     : optimizer.state_dict(),\n",
    "                         \"scheduler_state_dict\" : scheduler_rlrop.state_dict()}\n",
    "        \n",
    "        else:\n",
    "            save_dict = {\"model_state_dict\"     : model.state_dict(),\n",
    "                         \"optim_state_dict\"     : optimizer.state_dict()}\n",
    "        \n",
    "        if early_stopping_patience:\n",
    "            if epochLoss[\"valid\"] < bestLoss[\"valid\"]:\n",
    "                bestLoss = epochLoss\n",
    "                BLE = e + 1\n",
    "                torch.save(save_dict, os.path.join(save_path, ble_name))\n",
    "                torch.save(save_dict, os.path.join(save_path, bae_name))\n",
    "                early_stopping_step = 0\n",
    "            else:\n",
    "                early_stopping_step += 1\n",
    "                if early_stopping_step > early_stopping_patience:\n",
    "                    print(\"\\nEarly Stopping at Epoch {}\".format(e + 1))\n",
    "                    break\n",
    "        \n",
    "        if epochLoss[\"valid\"] < bestLoss[\"valid\"]:\n",
    "            bestLoss = epochLoss\n",
    "            BLE = e + 1\n",
    "            torch.save(save_dict,os.path.join(save_path, ble_name))\n",
    "        \n",
    "        if epochAccs[\"valid\"] > bestAccs[\"valid\"]:\n",
    "            bestAccs = epochAccs\n",
    "            BAE = e + 1\n",
    "            torch.save(save_dict,os.path.join(save_path, bae_name))\n",
    "        \n",
    "        if scheduler_rlrop: scheduler_rlrop.step(epochLoss[\"valid\"])\n",
    "        \n",
    "        if verbose:\n",
    "            print(\"Epoch: {} | Train Loss: {:.5f} | Valid Loss: {:.5f} |\\\n",
    " Train Accs: {:.5f} | Valid Accs: {:.5f} | Time: {:.2f} seconds\".format(e+1, \n",
    "                                                                        epochLoss[\"train\"], epochLoss[\"valid\"], \n",
    "                                                                        epochAccs[\"train\"], epochAccs[\"valid\"], \n",
    "                                                                        time()-e_st))\n",
    "\n",
    "    if verbose:                                           \n",
    "        breaker()\n",
    "        print(f\"Best Validation Loss at Epoch {BLE}\")\n",
    "        breaker()\n",
    "        print(f\"Best Validation Accs at Epoch {BAE}\")\n",
    "        breaker()\n",
    "        print(\"Time Taken [{} Epochs] : {:.2f} minutes\".format(len(Losses), (time()-start_time)/60))\n",
    "    \n",
    "    return Losses, Accuracies, LRs, bestLoss, bestAccs, BLE, BAE, ble_name, bae_name\n",
    "\n",
    "\n",
    "# def predict_batch(model=None, dataloader=None, path=None, device=None) -> np.ndarray:\n",
    "#     model.load_state_dict(torch.load(path, map_location=device)[\"model_state_dict\"])\n",
    "#     model.to(device)    \n",
    "#     model.eval()\n",
    "    \n",
    "#     y_pred = torch.zeros(1, 1).to(device)\n",
    "    \n",
    "#     for X in dataloader:\n",
    "#         X = X.to(device)\n",
    "#         with torch.no_grad():\n",
    "#             output = torch.argmax(torch.exp(model(X)), dim=1)\n",
    "#         y_pred = torch.cat((y_pred, output.view(-1, 1)), dim=0)\n",
    "    \n",
    "#     return y_pred[1:].detach().cpu().numpy()"
   ]
  },
  {
   "cell_type": "markdown",
   "id": "6a3f3acd",
   "metadata": {
    "papermill": {
     "duration": 0.004698,
     "end_time": "2022-11-19T15:09:47.992604",
     "exception": false,
     "start_time": "2022-11-19T15:09:47.987906",
     "status": "completed"
    },
    "tags": []
   },
   "source": [
    "### **Train**"
   ]
  },
  {
   "cell_type": "code",
   "execution_count": 8,
   "id": "108f09e8",
   "metadata": {
    "execution": {
     "iopub.execute_input": "2022-11-19T15:09:48.001722Z",
     "iopub.status.busy": "2022-11-19T15:09:48.001404Z",
     "iopub.status.idle": "2022-11-19T15:09:48.070877Z",
     "shell.execute_reply": "2022-11-19T15:09:48.069913Z"
    },
    "papermill": {
     "duration": 0.076817,
     "end_time": "2022-11-19T15:09:48.073308",
     "exception": false,
     "start_time": "2022-11-19T15:09:47.996491",
     "status": "completed"
    },
    "tags": []
   },
   "outputs": [],
   "source": [
    "df = pd.read_csv(\"../input/ffc-dataframe/dataframe.csv\")\n",
    "\n",
    "filepaths = df.filepaths.copy().values\n",
    "labels = df.labels.copy().values"
   ]
  },
  {
   "cell_type": "code",
   "execution_count": 9,
   "id": "8d260bbf",
   "metadata": {
    "execution": {
     "iopub.execute_input": "2022-11-19T15:09:48.083385Z",
     "iopub.status.busy": "2022-11-19T15:09:48.082539Z",
     "iopub.status.idle": "2022-11-19T20:40:49.143961Z",
     "shell.execute_reply": "2022-11-19T20:40:49.142056Z"
    },
    "papermill": {
     "duration": 19861.068489,
     "end_time": "2022-11-19T20:40:49.145996",
     "exception": false,
     "start_time": "2022-11-19T15:09:48.077507",
     "status": "completed"
    },
    "tags": []
   },
   "outputs": [
    {
     "name": "stderr",
     "output_type": "stream",
     "text": [
      "Downloading: \"https://github.com/rwightman/pytorch-image-models/releases/download/v0.1-weights/efficientnet_b4_ra2_320-7eb33cd5.pth\" to /root/.cache/torch/hub/checkpoints/efficientnet_b4_ra2_320-7eb33cd5.pth\n"
     ]
    },
    {
     "name": "stdout",
     "output_type": "stream",
     "text": [
      "\n",
      "**************************************************\n",
      "\n",
      "Training Fold 1...\n",
      "\n",
      "**************************************************\n",
      "\n",
      "Epoch: 1 | Train Loss: 1.12652 | Valid Loss: 0.26332 | Train Accs: 0.65263 | Valid Accs: 0.91050 | Time: 487.42 seconds\n",
      "Epoch: 2 | Train Loss: 0.31308 | Valid Loss: 0.29840 | Train Accs: 0.89438 | Valid Accs: 0.90550 | Time: 396.02 seconds\n",
      "Epoch: 3 | Train Loss: 0.25221 | Valid Loss: 0.20916 | Train Accs: 0.91675 | Valid Accs: 0.93200 | Time: 393.46 seconds\n",
      "Epoch: 4 | Train Loss: 0.19059 | Valid Loss: 0.19117 | Train Accs: 0.94100 | Valid Accs: 0.93600 | Time: 388.73 seconds\n",
      "Epoch: 5 | Train Loss: 0.14999 | Valid Loss: 0.17835 | Train Accs: 0.94912 | Valid Accs: 0.94100 | Time: 390.55 seconds\n",
      "Epoch: 6 | Train Loss: 0.10325 | Valid Loss: 0.16243 | Train Accs: 0.96837 | Valid Accs: 0.95550 | Time: 395.17 seconds\n",
      "Epoch: 7 | Train Loss: 0.06542 | Valid Loss: 0.15746 | Train Accs: 0.98113 | Valid Accs: 0.95650 | Time: 403.21 seconds\n",
      "Epoch: 8 | Train Loss: 0.04420 | Valid Loss: 0.15842 | Train Accs: 0.98487 | Valid Accs: 0.95250 | Time: 401.30 seconds\n",
      "Epoch: 9 | Train Loss: 0.03543 | Valid Loss: 0.15686 | Train Accs: 0.98887 | Valid Accs: 0.95800 | Time: 397.41 seconds\n",
      "Epoch: 10 | Train Loss: 0.03107 | Valid Loss: 0.13625 | Train Accs: 0.98962 | Valid Accs: 0.96250 | Time: 397.89 seconds\n",
      "\n",
      "**************************************************\n",
      "\n",
      "Best Validation Loss at Epoch 10\n",
      "\n",
      "**************************************************\n",
      "\n",
      "Best Validation Accs at Epoch 10\n",
      "\n",
      "**************************************************\n",
      "\n",
      "Time Taken [10 Epochs] : 67.52 minutes\n",
      "\n",
      "**************************************************\n",
      "\n"
     ]
    },
    {
     "data": {
      "image/png": "[encoded data removed]",
      "text/plain": [
       "<Figure size 432x288 with 1 Axes>"
      ]
     },
     "metadata": {
      "needs_background": "light"
     },
     "output_type": "display_data"
    },
    {
     "name": "stdout",
     "output_type": "stream",
     "text": [
      "\n",
      "**************************************************\n",
      "\n"
     ]
    },
    {
     "data": {
      "image/png": "[encoded data removed]",
      "text/plain": [
       "<Figure size 432x288 with 1 Axes>"
      ]
     },
     "metadata": {
      "needs_background": "light"
     },
     "output_type": "display_data"
    },
    {
     "name": "stdout",
     "output_type": "stream",
     "text": [
      "\n",
      "**************************************************\n",
      "\n"
     ]
    },
    {
     "data": {
      "image/png": "[encoded data removed]",
      "text/plain": [
       "<Figure size 576x432 with 1 Axes>"
      ]
     },
     "metadata": {
      "needs_background": "light"
     },
     "output_type": "display_data"
    },
    {
     "name": "stdout",
     "output_type": "stream",
     "text": [
      "\n",
      "**************************************************\n",
      "\n",
      "\n",
      "**************************************************\n",
      "\n",
      "Training Fold 2...\n",
      "\n",
      "**************************************************\n",
      "\n",
      "Epoch: 1 | Train Loss: 1.13500 | Valid Loss: 0.25338 | Train Accs: 0.65663 | Valid Accs: 0.92150 | Time: 393.27 seconds\n",
      "Epoch: 2 | Train Loss: 0.30602 | Valid Loss: 0.29186 | Train Accs: 0.89775 | Valid Accs: 0.90800 | Time: 386.08 seconds\n",
      "Epoch: 3 | Train Loss: 0.25514 | Valid Loss: 0.19911 | Train Accs: 0.91425 | Valid Accs: 0.94150 | Time: 387.17 seconds\n",
      "Epoch: 4 | Train Loss: 0.18781 | Valid Loss: 0.16861 | Train Accs: 0.93688 | Valid Accs: 0.95100 | Time: 387.98 seconds\n",
      "Epoch: 5 | Train Loss: 0.13626 | Valid Loss: 0.20547 | Train Accs: 0.95600 | Valid Accs: 0.94800 | Time: 390.12 seconds\n",
      "Epoch: 6 | Train Loss: 0.10294 | Valid Loss: 0.17118 | Train Accs: 0.96675 | Valid Accs: 0.95200 | Time: 391.92 seconds\n",
      "Epoch: 7 | Train Loss: 0.06910 | Valid Loss: 0.17925 | Train Accs: 0.97762 | Valid Accs: 0.94800 | Time: 395.80 seconds\n",
      "Epoch: 8 | Train Loss: 0.04819 | Valid Loss: 0.15042 | Train Accs: 0.98388 | Valid Accs: 0.96150 | Time: 391.00 seconds\n",
      "Epoch: 9 | Train Loss: 0.03414 | Valid Loss: 0.12510 | Train Accs: 0.98787 | Valid Accs: 0.96450 | Time: 394.24 seconds\n",
      "Epoch: 10 | Train Loss: 0.02602 | Valid Loss: 0.12991 | Train Accs: 0.99175 | Valid Accs: 0.97000 | Time: 390.75 seconds\n",
      "\n",
      "**************************************************\n",
      "\n",
      "Best Validation Loss at Epoch 9\n",
      "\n",
      "**************************************************\n",
      "\n",
      "Best Validation Accs at Epoch 10\n",
      "\n",
      "**************************************************\n",
      "\n",
      "Time Taken [10 Epochs] : 65.14 minutes\n",
      "\n",
      "**************************************************\n",
      "\n"
     ]
    },
    {
     "data": {
      "image/png": "[encoded data removed]",
      "text/plain": [
       "<Figure size 432x288 with 1 Axes>"
      ]
     },
     "metadata": {
      "needs_background": "light"
     },
     "output_type": "display_data"
    },
    {
     "name": "stdout",
     "output_type": "stream",
     "text": [
      "\n",
      "**************************************************\n",
      "\n"
     ]
    },
    {
     "data": {
      "image/png": "[encoded data removed]",
      "text/plain": [
       "<Figure size 432x288 with 1 Axes>"
      ]
     },
     "metadata": {
      "needs_background": "light"
     },
     "output_type": "display_data"
    },
    {
     "name": "stdout",
     "output_type": "stream",
     "text": [
      "\n",
      "**************************************************\n",
      "\n"
     ]
    },
    {
     "data": {
      "image/png": "[encoded data removed]",
      "text/plain": [
       "<Figure size 576x432 with 1 Axes>"
      ]
     },
     "metadata": {
      "needs_background": "light"
     },
     "output_type": "display_data"
    },
    {
     "name": "stdout",
     "output_type": "stream",
     "text": [
      "\n",
      "**************************************************\n",
      "\n",
      "\n",
      "**************************************************\n",
      "\n",
      "Training Fold 3...\n",
      "\n",
      "**************************************************\n",
      "\n",
      "Epoch: 1 | Train Loss: 1.12215 | Valid Loss: 0.24111 | Train Accs: 0.65950 | Valid Accs: 0.91750 | Time: 394.40 seconds\n",
      "Epoch: 2 | Train Loss: 0.30725 | Valid Loss: 0.22928 | Train Accs: 0.90012 | Valid Accs: 0.92550 | Time: 395.72 seconds\n",
      "Epoch: 3 | Train Loss: 0.25131 | Valid Loss: 0.25572 | Train Accs: 0.91800 | Valid Accs: 0.91750 | Time: 392.22 seconds\n",
      "Epoch: 4 | Train Loss: 0.18573 | Valid Loss: 0.20776 | Train Accs: 0.93712 | Valid Accs: 0.93700 | Time: 394.77 seconds\n",
      "Epoch: 5 | Train Loss: 0.14250 | Valid Loss: 0.18472 | Train Accs: 0.95475 | Valid Accs: 0.94850 | Time: 395.45 seconds\n",
      "Epoch: 6 | Train Loss: 0.09278 | Valid Loss: 0.16977 | Train Accs: 0.96937 | Valid Accs: 0.95150 | Time: 395.69 seconds\n",
      "Epoch: 7 | Train Loss: 0.06808 | Valid Loss: 0.17620 | Train Accs: 0.97800 | Valid Accs: 0.95100 | Time: 392.86 seconds\n",
      "Epoch: 8 | Train Loss: 0.03850 | Valid Loss: 0.19254 | Train Accs: 0.98687 | Valid Accs: 0.94800 | Time: 393.64 seconds\n",
      "Epoch: 9 | Train Loss: 0.02958 | Valid Loss: 0.16881 | Train Accs: 0.98987 | Valid Accs: 0.95550 | Time: 397.39 seconds\n",
      "Epoch: 10 | Train Loss: 0.02418 | Valid Loss: 0.16740 | Train Accs: 0.99162 | Valid Accs: 0.95150 | Time: 395.95 seconds\n",
      "\n",
      "**************************************************\n",
      "\n",
      "Best Validation Loss at Epoch 10\n",
      "\n",
      "**************************************************\n",
      "\n",
      "Best Validation Accs at Epoch 9\n",
      "\n",
      "**************************************************\n",
      "\n",
      "Time Taken [10 Epochs] : 65.80 minutes\n",
      "\n",
      "**************************************************\n",
      "\n"
     ]
    },
    {
     "data": {
      "image/png": "[encoded data removed]",
      "text/plain": [
       "<Figure size 432x288 with 1 Axes>"
      ]
     },
     "metadata": {
      "needs_background": "light"
     },
     "output_type": "display_data"
    },
    {
     "name": "stdout",
     "output_type": "stream",
     "text": [
      "\n",
      "**************************************************\n",
      "\n"
     ]
    },
    {
     "data": {
      "image/png": "[encoded data removed]",
      "text/plain": [
       "<Figure size 432x288 with 1 Axes>"
      ]
     },
     "metadata": {
      "needs_background": "light"
     },
     "output_type": "display_data"
    },
    {
     "name": "stdout",
     "output_type": "stream",
     "text": [
      "\n",
      "**************************************************\n",
      "\n"
     ]
    },
    {
     "data": {
      "image/png": "[encoded data removed]",
      "text/plain": [
       "<Figure size 576x432 with 1 Axes>"
      ]
     },
     "metadata": {
      "needs_background": "light"
     },
     "output_type": "display_data"
    },
    {
     "name": "stdout",
     "output_type": "stream",
     "text": [
      "\n",
      "**************************************************\n",
      "\n",
      "\n",
      "**************************************************\n",
      "\n",
      "Training Fold 4...\n",
      "\n",
      "**************************************************\n",
      "\n",
      "Epoch: 1 | Train Loss: 1.13628 | Valid Loss: 0.26035 | Train Accs: 0.65700 | Valid Accs: 0.91000 | Time: 395.14 seconds\n",
      "Epoch: 2 | Train Loss: 0.32235 | Valid Loss: 0.25658 | Train Accs: 0.89200 | Valid Accs: 0.91500 | Time: 393.12 seconds\n",
      "Epoch: 3 | Train Loss: 0.24145 | Valid Loss: 0.21348 | Train Accs: 0.91987 | Valid Accs: 0.92650 | Time: 394.43 seconds\n",
      "Epoch: 4 | Train Loss: 0.18123 | Valid Loss: 0.18873 | Train Accs: 0.94137 | Valid Accs: 0.93800 | Time: 395.37 seconds\n",
      "Epoch: 5 | Train Loss: 0.12765 | Valid Loss: 0.19237 | Train Accs: 0.95988 | Valid Accs: 0.94000 | Time: 394.42 seconds\n",
      "Epoch: 6 | Train Loss: 0.10115 | Valid Loss: 0.20840 | Train Accs: 0.96650 | Valid Accs: 0.94250 | Time: 392.83 seconds\n",
      "Epoch: 7 | Train Loss: 0.06949 | Valid Loss: 0.16212 | Train Accs: 0.97725 | Valid Accs: 0.94900 | Time: 394.26 seconds\n",
      "Epoch: 8 | Train Loss: 0.04354 | Valid Loss: 0.16067 | Train Accs: 0.98550 | Valid Accs: 0.95900 | Time: 396.21 seconds\n",
      "Epoch: 9 | Train Loss: 0.02822 | Valid Loss: 0.17556 | Train Accs: 0.99113 | Valid Accs: 0.95400 | Time: 395.67 seconds\n",
      "Epoch: 10 | Train Loss: 0.02479 | Valid Loss: 0.15935 | Train Accs: 0.99200 | Valid Accs: 0.95500 | Time: 397.59 seconds\n",
      "\n",
      "**************************************************\n",
      "\n",
      "Best Validation Loss at Epoch 10\n",
      "\n",
      "**************************************************\n",
      "\n",
      "Best Validation Accs at Epoch 8\n",
      "\n",
      "**************************************************\n",
      "\n",
      "Time Taken [10 Epochs] : 65.82 minutes\n",
      "\n",
      "**************************************************\n",
      "\n"
     ]
    },
    {
     "data": {
      "image/png": "[encoded data removed]",
      "text/plain": [
       "<Figure size 432x288 with 1 Axes>"
      ]
     },
     "metadata": {
      "needs_background": "light"
     },
     "output_type": "display_data"
    },
    {
     "name": "stdout",
     "output_type": "stream",
     "text": [
      "\n",
      "**************************************************\n",
      "\n"
     ]
    },
    {
     "data": {
      "image/png": "[encoded data removed]",
      "text/plain": [
       "<Figure size 432x288 with 1 Axes>"
      ]
     },
     "metadata": {
      "needs_background": "light"
     },
     "output_type": "display_data"
    },
    {
     "name": "stdout",
     "output_type": "stream",
     "text": [
      "\n",
      "**************************************************\n",
      "\n"
     ]
    },
    {
     "data": {
      "image/png": "[encoded data removed]",
      "text/plain": [
       "<Figure size 576x432 with 1 Axes>"
      ]
     },
     "metadata": {
      "needs_background": "light"
     },
     "output_type": "display_data"
    },
    {
     "name": "stdout",
     "output_type": "stream",
     "text": [
      "\n",
      "**************************************************\n",
      "\n",
      "\n",
      "**************************************************\n",
      "\n",
      "Training Fold 5...\n",
      "\n",
      "**************************************************\n",
      "\n",
      "Epoch: 1 | Train Loss: 1.13614 | Valid Loss: 0.28321 | Train Accs: 0.66000 | Valid Accs: 0.91050 | Time: 398.38 seconds\n",
      "Epoch: 2 | Train Loss: 0.30818 | Valid Loss: 0.30614 | Train Accs: 0.89612 | Valid Accs: 0.90900 | Time: 395.40 seconds\n",
      "Epoch: 3 | Train Loss: 0.24007 | Valid Loss: 0.28172 | Train Accs: 0.91800 | Valid Accs: 0.91800 | Time: 400.33 seconds\n",
      "Epoch: 4 | Train Loss: 0.17867 | Valid Loss: 0.23491 | Train Accs: 0.93975 | Valid Accs: 0.93850 | Time: 399.99 seconds\n",
      "Epoch: 5 | Train Loss: 0.13321 | Valid Loss: 0.23244 | Train Accs: 0.95562 | Valid Accs: 0.94400 | Time: 401.74 seconds\n",
      "Epoch: 6 | Train Loss: 0.09888 | Valid Loss: 0.20034 | Train Accs: 0.96637 | Valid Accs: 0.94400 | Time: 400.26 seconds\n",
      "Epoch: 7 | Train Loss: 0.06616 | Valid Loss: 0.20888 | Train Accs: 0.97788 | Valid Accs: 0.94850 | Time: 399.61 seconds\n",
      "Epoch: 8 | Train Loss: 0.03865 | Valid Loss: 0.22286 | Train Accs: 0.98638 | Valid Accs: 0.95350 | Time: 399.74 seconds\n",
      "Epoch: 9 | Train Loss: 0.02907 | Valid Loss: 0.22640 | Train Accs: 0.99113 | Valid Accs: 0.94900 | Time: 399.36 seconds\n",
      "Epoch: 10 | Train Loss: 0.02164 | Valid Loss: 0.22517 | Train Accs: 0.99375 | Valid Accs: 0.94950 | Time: 400.06 seconds\n",
      "\n",
      "**************************************************\n",
      "\n",
      "Best Validation Loss at Epoch 6\n",
      "\n",
      "**************************************************\n",
      "\n",
      "Best Validation Accs at Epoch 8\n",
      "\n",
      "**************************************************\n",
      "\n",
      "Time Taken [10 Epochs] : 66.58 minutes\n",
      "\n",
      "**************************************************\n",
      "\n"
     ]
    },
    {
     "data": {
      "image/png": "[encoded data removed]",
      "text/plain": [
       "<Figure size 432x288 with 1 Axes>"
      ]
     },
     "metadata": {
      "needs_background": "light"
     },
     "output_type": "display_data"
    },
    {
     "name": "stdout",
     "output_type": "stream",
     "text": [
      "\n",
      "**************************************************\n",
      "\n"
     ]
    },
    {
     "data": {
      "image/png": "[encoded data removed]",
      "text/plain": [
       "<Figure size 432x288 with 1 Axes>"
      ]
     },
     "metadata": {
      "needs_background": "light"
     },
     "output_type": "display_data"
    },
    {
     "name": "stdout",
     "output_type": "stream",
     "text": [
      "\n",
      "**************************************************\n",
      "\n"
     ]
    },
    {
     "data": {
      "image/png": "[encoded data removed]",
      "text/plain": [
       "<Figure size 576x432 with 1 Axes>"
      ]
     },
     "metadata": {
      "needs_background": "light"
     },
     "output_type": "display_data"
    },
    {
     "name": "stdout",
     "output_type": "stream",
     "text": [
      "\n",
      "**************************************************\n",
      "\n"
     ]
    }
   ],
   "source": [
    "fold: int = 1\n",
    "BLs: list = []\n",
    "BAs: list = []\n",
    "    \n",
    "cfg.batch_size = 16\n",
    "cfg.epochs = 10\n",
    "    \n",
    "for tr_idx, va_idx in StratifiedKFold(n_splits=cfg.n_splits, random_state=cfg.seed, shuffle=True).split(filepaths, labels):\n",
    "\n",
    "    tr_filepaths, va_filepaths = filepaths[tr_idx], filepaths[va_idx] \n",
    "    tr_labels, va_labels       = labels[tr_idx], labels[va_idx]\n",
    "\n",
    "    tr_data_setup = DS(\n",
    "        filepaths=tr_filepaths, \n",
    "        labels=tr_labels.reshape(-1, 1),\n",
    "        size=cfg.size,\n",
    "        transform=cfg.train_transform\n",
    "    )\n",
    "    \n",
    "    va_data_setup = DS(\n",
    "        filepaths=va_filepaths, \n",
    "        labels=va_labels.reshape(-1, 1),\n",
    "        size=cfg.size,\n",
    "        transform=cfg.train_transform\n",
    "    )\n",
    "\n",
    "    dataloaders = {\n",
    "        \"train\" : DL(tr_data_setup, batch_size=cfg.batch_size, shuffle=True, generator=torch.manual_seed(cfg.seed)),\n",
    "        \"valid\" : DL(va_data_setup, batch_size=cfg.batch_size, shuffle=False),\n",
    "    }\n",
    "\n",
    "    cfg.steps_per_epoch=len(dataloaders[\"train\"])\n",
    "    \n",
    "    torch.manual_seed(cfg.seed)\n",
    "    model = Model().to(cfg.device)\n",
    "\n",
    "    optimizer = optim.Adam([p for p in model.parameters() if p.requires_grad], lr=cfg.lr, weight_decay=cfg.wd)\n",
    "    # optimizer = optim.AdamW([p for p in model.parameters() if p.requires_grad], lr=cfg.lr, weight_decay=cfg.wd)\n",
    "    # optimizer = optim.SGD([p for p in model.parameters() if p.requires_grad], lr=cfg.lr, weight_decay=cfg.wd, momentum=0.9)\n",
    "\n",
    "    scheduler_oclr = optim.lr_scheduler.OneCycleLR(\n",
    "        optimizer=optimizer, \n",
    "        max_lr=cfg.max_lr, \n",
    "        epochs=cfg.epochs, \n",
    "        steps_per_epoch=cfg.steps_per_epoch,\n",
    "        pct_start=cfg.pct_start, \n",
    "        div_factor=cfg.div_factor, \n",
    "        final_div_factor=cfg.final_div_factor\n",
    "    )\n",
    "\n",
    "    # scheduler_rlrop = optim.lr_scheduler.ReduceLROnPlateau(\n",
    "    #     optimizer=optimizer,\n",
    "    #     patience=cfg.patience,\n",
    "    #     eps=cfg.eps,\n",
    "    #     verbose=True\n",
    "    # )\n",
    "\n",
    "    # scheduler_oclr = None\n",
    "    scheduler_rlrop = None\n",
    "\n",
    "\n",
    "    L, A, LR, BL, BA, _, _, _, _ = fit(\n",
    "        model=model, \n",
    "        optimizer=optimizer, \n",
    "        scheduler_oclr=scheduler_oclr,\n",
    "        scheduler_rlrop=scheduler_rlrop,\n",
    "        epochs=cfg.epochs, \n",
    "        early_stopping_patience=cfg.early_stopping, \n",
    "        dataloaders=dataloaders, \n",
    "        device=cfg.device,\n",
    "        save_path=cfg.save_path,\n",
    "        fold=fold,\n",
    "        verbose=True\n",
    "    )\n",
    "\n",
    "\n",
    "    breaker()\n",
    "    show_loss_graphs(L)\n",
    "    breaker()\n",
    "    show_accuracy_graphs(A)\n",
    "    breaker()\n",
    "    if scheduler_oclr:\n",
    "        show_lr_graph(LR)\n",
    "        breaker()\n",
    "    \n",
    "    BLs.append(BL)\n",
    "    BAs.append(BA)\n",
    "    \n",
    "    fold += 1"
   ]
  },
  {
   "cell_type": "markdown",
   "id": "630b89fe",
   "metadata": {
    "papermill": {
     "duration": 0.010943,
     "end_time": "2022-11-19T20:40:49.168039",
     "exception": false,
     "start_time": "2022-11-19T20:40:49.157096",
     "status": "completed"
    },
    "tags": []
   },
   "source": [
    "### **Best Model**"
   ]
  },
  {
   "cell_type": "code",
   "execution_count": 10,
   "id": "5e4a7cfb",
   "metadata": {
    "execution": {
     "iopub.execute_input": "2022-11-19T20:40:49.192058Z",
     "iopub.status.busy": "2022-11-19T20:40:49.190539Z",
     "iopub.status.idle": "2022-11-19T20:40:49.199578Z",
     "shell.execute_reply": "2022-11-19T20:40:49.198746Z"
    },
    "papermill": {
     "duration": 0.022933,
     "end_time": "2022-11-19T20:40:49.201517",
     "exception": false,
     "start_time": "2022-11-19T20:40:49.178584",
     "status": "completed"
    },
    "tags": []
   },
   "outputs": [
    {
     "name": "stdout",
     "output_type": "stream",
     "text": [
      "\n",
      "**************************************************\n",
      "\n",
      "Best Loss Model Fold     : 2\n",
      "Best Accuracy Model Fold : 2\n",
      "\n",
      "**************************************************\n",
      "\n"
     ]
    }
   ],
   "source": [
    "BL = np.inf\n",
    "for i in range(len(BLs)):\n",
    "    if BLs[i][\"valid\"] < BL:\n",
    "        BL = BLs[i][\"valid\"]\n",
    "        best_loss_index = i\n",
    "\n",
    "        \n",
    "BA = 0.0\n",
    "for i in range(len(BAs)):\n",
    "    if BAs[i][\"valid\"] > BA:\n",
    "        BA = BAs[i][\"valid\"]\n",
    "        best_accs_index = i\n",
    "\n",
    "breaker()\n",
    "print(f\"Best Loss Model Fold     : {best_loss_index + 1}\")\n",
    "print(f\"Best Accuracy Model Fold : {best_accs_index + 1}\")\n",
    "breaker()"
   ]
  }
 ],
 "metadata": {
  "kernelspec": {
   "display_name": "Python 3",
   "language": "python",
   "name": "python3"
  },
  "language_info": {
   "codemirror_mode": {
    "name": "ipython",
    "version": 3
   },
   "file_extension": ".py",
   "mimetype": "text/x-python",
   "name": "python",
   "nbconvert_exporter": "python",
   "pygments_lexer": "ipython3",
   "version": "3.7.12"
  },
  "papermill": {
   "default_parameters": {},
   "duration": 19885.716121,
   "end_time": "2022-11-19T20:40:51.066459",
   "environment_variables": {},
   "exception": null,
   "input_path": "__notebook__.ipynb",
   "output_path": "__notebook__.ipynb",
   "parameters": {},
   "start_time": "2022-11-19T15:09:25.350338",
   "version": "2.3.4"
  }
 },
 "nbformat": 4,
 "nbformat_minor": 5
}
