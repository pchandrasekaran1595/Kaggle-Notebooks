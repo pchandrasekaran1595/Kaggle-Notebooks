{
 "cells": [
  {
   "cell_type": "code",
   "execution_count": 1,
   "id": "8893ae70",
   "metadata": {
    "_cell_guid": "b1076dfc-b9ad-4769-8c92-a6c4dae69d19",
    "_uuid": "8f2839f25d086af736a60e9eeb907d3b93b6e0e5",
    "execution": {
     "iopub.execute_input": "2022-07-03T08:25:29.953642Z",
     "iopub.status.busy": "2022-07-03T08:25:29.953126Z",
     "iopub.status.idle": "2022-07-03T08:25:31.349960Z",
     "shell.execute_reply": "2022-07-03T08:25:31.348687Z"
    },
    "papermill": {
     "duration": 1.405286,
     "end_time": "2022-07-03T08:25:31.353059",
     "exception": false,
     "start_time": "2022-07-03T08:25:29.947773",
     "status": "completed"
    },
    "tags": []
   },
   "outputs": [],
   "source": [
    "import os\n",
    "import numpy as np\n",
    "import pandas as pd\n",
    "import matplotlib.pyplot as plt\n",
    "\n",
    "from time import time\n",
    "from sklearn.cluster import KMeans\n",
    "from sklearn.impute import SimpleImputer\n",
    "from sklearn.preprocessing import StandardScaler"
   ]
  },
  {
   "cell_type": "code",
   "execution_count": 2,
   "id": "941b0a2f",
   "metadata": {
    "execution": {
     "iopub.execute_input": "2022-07-03T08:25:31.360634Z",
     "iopub.status.busy": "2022-07-03T08:25:31.359605Z",
     "iopub.status.idle": "2022-07-03T08:25:31.366702Z",
     "shell.execute_reply": "2022-07-03T08:25:31.365411Z"
    },
    "papermill": {
     "duration": 0.013524,
     "end_time": "2022-07-03T08:25:31.369521",
     "exception": false,
     "start_time": "2022-07-03T08:25:31.355997",
     "status": "completed"
    },
    "tags": []
   },
   "outputs": [],
   "source": [
    "si_mean = SimpleImputer(missing_values=np.nan, strategy=\"mean\")\n",
    "sc_X = StandardScaler()\n",
    "\n",
    "\n",
    "def breaker(num: int=50, char: str=\"*\") -> None:\n",
    "    print(\"\\n\" + num*char + \"\\n\")"
   ]
  },
  {
   "cell_type": "code",
   "execution_count": 3,
   "id": "5511937e",
   "metadata": {
    "execution": {
     "iopub.execute_input": "2022-07-03T08:25:31.376608Z",
     "iopub.status.busy": "2022-07-03T08:25:31.375635Z",
     "iopub.status.idle": "2022-07-03T08:25:32.584603Z",
     "shell.execute_reply": "2022-07-03T08:25:32.583430Z"
    },
    "papermill": {
     "duration": 1.215599,
     "end_time": "2022-07-03T08:25:32.587456",
     "exception": false,
     "start_time": "2022-07-03T08:25:31.371857",
     "status": "completed"
    },
    "tags": []
   },
   "outputs": [],
   "source": [
    "df = pd.read_csv(\"../input/tabular-playground-series-jul-2022/data.csv\")\n",
    "df.head(5)\n",
    "\n",
    "ss_df = pd.read_csv(\"../input/tabular-playground-series-jul-2022/sample_submission.csv\")"
   ]
  },
  {
   "cell_type": "code",
   "execution_count": 4,
   "id": "15c6119f",
   "metadata": {
    "execution": {
     "iopub.execute_input": "2022-07-03T08:25:32.594359Z",
     "iopub.status.busy": "2022-07-03T08:25:32.593971Z",
     "iopub.status.idle": "2022-07-03T08:25:32.739070Z",
     "shell.execute_reply": "2022-07-03T08:25:32.738042Z"
    },
    "papermill": {
     "duration": 0.150966,
     "end_time": "2022-07-03T08:25:32.741534",
     "exception": false,
     "start_time": "2022-07-03T08:25:32.590568",
     "status": "completed"
    },
    "tags": []
   },
   "outputs": [],
   "source": [
    "X = df.iloc[:, 1:].copy().values\n",
    "X = si_mean.fit_transform(X)\n",
    "X = sc_X.fit_transform(X)"
   ]
  },
  {
   "cell_type": "code",
   "execution_count": 5,
   "id": "c51467a9",
   "metadata": {
    "execution": {
     "iopub.execute_input": "2022-07-03T08:25:32.746814Z",
     "iopub.status.busy": "2022-07-03T08:25:32.746481Z",
     "iopub.status.idle": "2022-07-03T08:38:02.905151Z",
     "shell.execute_reply": "2022-07-03T08:38:02.903913Z"
    },
    "papermill": {
     "duration": 750.166633,
     "end_time": "2022-07-03T08:38:02.910176",
     "exception": false,
     "start_time": "2022-07-03T08:25:32.743543",
     "status": "completed"
    },
    "tags": []
   },
   "outputs": [
    {
     "name": "stdout",
     "output_type": "stream",
     "text": [
      "\n",
      "**************************************************\n",
      "\n",
      "13 Clusters : 14.90 seconds\n",
      "15 Clusters : 18.88 seconds\n",
      "17 Clusters : 20.38 seconds\n",
      "19 Clusters : 23.96 seconds\n",
      "21 Clusters : 26.36 seconds\n",
      "23 Clusters : 26.71 seconds\n",
      "25 Clusters : 28.91 seconds\n",
      "27 Clusters : 37.44 seconds\n",
      "29 Clusters : 37.52 seconds\n",
      "31 Clusters : 44.68 seconds\n",
      "33 Clusters : 44.40 seconds\n",
      "35 Clusters : 48.47 seconds\n",
      "37 Clusters : 50.19 seconds\n",
      "39 Clusters : 52.06 seconds\n",
      "41 Clusters : 51.12 seconds\n",
      "43 Clusters : 53.74 seconds\n",
      "45 Clusters : 52.51 seconds\n",
      "47 Clusters : 57.94 seconds\n",
      "49 Clusters : 59.96 seconds\n",
      "\n",
      "**************************************************\n",
      "\n"
     ]
    }
   ],
   "source": [
    "n_clusters = [i for i in range(13, 51, 2)]\n",
    "\n",
    "breaker()\n",
    "for n_cluster in n_clusters:\n",
    "    start_time = time()\n",
    "    model = KMeans(n_clusters=n_cluster, init=\"k-means++\", random_state=42, verbose=0).fit(X)\n",
    "    ss_df.Predicted = model.labels_\n",
    "    ss_df.to_csv(f\"submission_{n_cluster}.csv\", index=False)\n",
    "    print(f\"{n_cluster} Clusters : {time() - start_time:.2f} seconds\")\n",
    "breaker()"
   ]
  }
 ],
 "metadata": {
  "kernelspec": {
   "display_name": "Python 3",
   "language": "python",
   "name": "python3"
  },
  "language_info": {
   "codemirror_mode": {
    "name": "ipython",
    "version": 3
   },
   "file_extension": ".py",
   "mimetype": "text/x-python",
   "name": "python",
   "nbconvert_exporter": "python",
   "pygments_lexer": "ipython3",
   "version": "3.7.12"
  },
  "papermill": {
   "default_parameters": {},
   "duration": 765.034103,
   "end_time": "2022-07-03T08:38:05.607571",
   "environment_variables": {},
   "exception": null,
   "input_path": "__notebook__.ipynb",
   "output_path": "__notebook__.ipynb",
   "parameters": {},
   "start_time": "2022-07-03T08:25:20.573468",
   "version": "2.3.4"
  }
 },
 "nbformat": 4,
 "nbformat_minor": 5
}
