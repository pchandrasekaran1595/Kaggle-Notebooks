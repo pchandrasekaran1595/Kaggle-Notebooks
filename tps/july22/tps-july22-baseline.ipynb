{
 "cells": [
  {
   "cell_type": "code",
   "execution_count": 1,
   "id": "402bbd48",
   "metadata": {
    "_cell_guid": "b1076dfc-b9ad-4769-8c92-a6c4dae69d19",
    "_uuid": "8f2839f25d086af736a60e9eeb907d3b93b6e0e5",
    "execution": {
     "iopub.execute_input": "2022-07-03T08:19:50.339833Z",
     "iopub.status.busy": "2022-07-03T08:19:50.339214Z",
     "iopub.status.idle": "2022-07-03T08:19:51.999928Z",
     "shell.execute_reply": "2022-07-03T08:19:51.998673Z"
    },
    "papermill": {
     "duration": 1.668977,
     "end_time": "2022-07-03T08:19:52.003143",
     "exception": false,
     "start_time": "2022-07-03T08:19:50.334166",
     "status": "completed"
    },
    "tags": []
   },
   "outputs": [],
   "source": [
    "import os\n",
    "import numpy as np\n",
    "import pandas as pd\n",
    "import matplotlib.pyplot as plt\n",
    "\n",
    "from time import time\n",
    "from sklearn.cluster import KMeans\n",
    "from sklearn.impute import SimpleImputer\n",
    "from sklearn.preprocessing import StandardScaler"
   ]
  },
  {
   "cell_type": "code",
   "execution_count": 2,
   "id": "8660f8ff",
   "metadata": {
    "execution": {
     "iopub.execute_input": "2022-07-03T08:19:52.009765Z",
     "iopub.status.busy": "2022-07-03T08:19:52.009003Z",
     "iopub.status.idle": "2022-07-03T08:19:52.015425Z",
     "shell.execute_reply": "2022-07-03T08:19:52.014638Z"
    },
    "papermill": {
     "duration": 0.011994,
     "end_time": "2022-07-03T08:19:52.017599",
     "exception": false,
     "start_time": "2022-07-03T08:19:52.005605",
     "status": "completed"
    },
    "tags": []
   },
   "outputs": [],
   "source": [
    "si_mean = SimpleImputer(missing_values=np.nan, strategy=\"mean\")\n",
    "sc_X = StandardScaler()\n",
    "\n",
    "\n",
    "def breaker(num: int=50, char: str=\"*\") -> None:\n",
    "    print(\"\\n\" + num*char + \"\\n\")"
   ]
  },
  {
   "cell_type": "code",
   "execution_count": 3,
   "id": "2dd9a08d",
   "metadata": {
    "execution": {
     "iopub.execute_input": "2022-07-03T08:19:52.023341Z",
     "iopub.status.busy": "2022-07-03T08:19:52.022951Z",
     "iopub.status.idle": "2022-07-03T08:19:53.298102Z",
     "shell.execute_reply": "2022-07-03T08:19:53.296925Z"
    },
    "papermill": {
     "duration": 1.281079,
     "end_time": "2022-07-03T08:19:53.300852",
     "exception": false,
     "start_time": "2022-07-03T08:19:52.019773",
     "status": "completed"
    },
    "tags": []
   },
   "outputs": [],
   "source": [
    "df = pd.read_csv(\"../input/tabular-playground-series-jul-2022/data.csv\")\n",
    "df.head(5)\n",
    "\n",
    "ss_df = pd.read_csv(\"../input/tabular-playground-series-jul-2022/sample_submission.csv\")"
   ]
  },
  {
   "cell_type": "code",
   "execution_count": 4,
   "id": "48142097",
   "metadata": {
    "execution": {
     "iopub.execute_input": "2022-07-03T08:19:53.307296Z",
     "iopub.status.busy": "2022-07-03T08:19:53.306493Z",
     "iopub.status.idle": "2022-07-03T08:19:53.423831Z",
     "shell.execute_reply": "2022-07-03T08:19:53.422665Z"
    },
    "papermill": {
     "duration": 0.123164,
     "end_time": "2022-07-03T08:19:53.426357",
     "exception": false,
     "start_time": "2022-07-03T08:19:53.303193",
     "status": "completed"
    },
    "tags": []
   },
   "outputs": [],
   "source": [
    "X = df.iloc[:, 1:].copy().values\n",
    "X = si_mean.fit_transform(X)\n",
    "X = sc_X.fit_transform(X)"
   ]
  },
  {
   "cell_type": "code",
   "execution_count": 5,
   "id": "39cfb7ec",
   "metadata": {
    "execution": {
     "iopub.execute_input": "2022-07-03T08:19:53.432667Z",
     "iopub.status.busy": "2022-07-03T08:19:53.431840Z",
     "iopub.status.idle": "2022-07-03T08:20:59.780110Z",
     "shell.execute_reply": "2022-07-03T08:20:59.779196Z"
    },
    "papermill": {
     "duration": 66.35675,
     "end_time": "2022-07-03T08:20:59.785291",
     "exception": false,
     "start_time": "2022-07-03T08:19:53.428541",
     "status": "completed"
    },
    "tags": []
   },
   "outputs": [
    {
     "name": "stdout",
     "output_type": "stream",
     "text": [
      "\n",
      "**************************************************\n",
      "\n",
      "3 Clusters : 2.88 seconds\n",
      "4 Clusters : 3.20 seconds\n",
      "5 Clusters : 3.69 seconds\n",
      "6 Clusters : 6.00 seconds\n",
      "7 Clusters : 9.25 seconds\n",
      "8 Clusters : 9.10 seconds\n",
      "9 Clusters : 8.71 seconds\n",
      "10 Clusters : 11.08 seconds\n",
      "11 Clusters : 12.44 seconds\n",
      "\n",
      "**************************************************\n",
      "\n"
     ]
    }
   ],
   "source": [
    "n_clusters = [i for i in range(3, 12)]\n",
    "\n",
    "breaker()\n",
    "for n_cluster in n_clusters:\n",
    "    start_time = time()\n",
    "    model = KMeans(n_clusters=n_cluster, init=\"k-means++\", random_state=42, verbose=0).fit(X)\n",
    "    ss_df.Predicted = model.labels_\n",
    "    ss_df.to_csv(f\"submission_csv_{n_cluster}.csv\", index=False)\n",
    "    print(f\"{n_cluster} Clusters : {time() - start_time:.2f} seconds\")\n",
    "breaker()"
   ]
  }
 ],
 "metadata": {
  "kernelspec": {
   "display_name": "Python 3",
   "language": "python",
   "name": "python3"
  },
  "language_info": {
   "codemirror_mode": {
    "name": "ipython",
    "version": 3
   },
   "file_extension": ".py",
   "mimetype": "text/x-python",
   "name": "python",
   "nbconvert_exporter": "python",
   "pygments_lexer": "ipython3",
   "version": "3.7.12"
  },
  "papermill": {
   "default_parameters": {},
   "duration": 79.464522,
   "end_time": "2022-07-03T08:21:00.509447",
   "environment_variables": {},
   "exception": null,
   "input_path": "__notebook__.ipynb",
   "output_path": "__notebook__.ipynb",
   "parameters": {},
   "start_time": "2022-07-03T08:19:41.044925",
   "version": "2.3.4"
  }
 },
 "nbformat": 4,
 "nbformat_minor": 5
}
