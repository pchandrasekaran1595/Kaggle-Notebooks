{
 "cells": [
  {
   "cell_type": "code",
   "execution_count": 1,
   "id": "fa91092b",
   "metadata": {
    "_cell_guid": "b1076dfc-b9ad-4769-8c92-a6c4dae69d19",
    "_uuid": "8f2839f25d086af736a60e9eeb907d3b93b6e0e5",
    "execution": {
     "iopub.execute_input": "2022-10-30T05:21:27.297505Z",
     "iopub.status.busy": "2022-10-30T05:21:27.296489Z",
     "iopub.status.idle": "2022-10-30T05:21:33.911942Z",
     "shell.execute_reply": "2022-10-30T05:21:33.910707Z"
    },
    "papermill": {
     "duration": 6.623072,
     "end_time": "2022-10-30T05:21:33.914905",
     "exception": false,
     "start_time": "2022-10-30T05:21:27.291833",
     "status": "completed"
    },
    "tags": []
   },
   "outputs": [],
   "source": [
    "import os\n",
    "import numpy as np\n",
    "import pandas as pd\n",
    "\n",
    "tr_data = np.load(\"../input/blg561e2022/train_data.npy\")\n",
    "tr_labels = np.load(\"../input/blg561e2022/train_labels.npy\")\n",
    "ts_data = np.load(\"../input/blg561e2022/test_data.npy\")\n",
    "\n",
    "columns = [f\"F_{i}\" for i in range(tr_data.shape[1])]\n",
    "\n",
    "tr_df = pd.DataFrame(data=None, columns=columns + [\"labels\"])\n",
    "ts_df = pd.DataFrame(data=None, columns=columns)\n",
    "\n",
    "tr_df.labels = tr_labels\n",
    "tr_df.iloc[:, :-1] = tr_data\n",
    "ts_df.iloc[:, 0] = ts_data[:, 0]\n",
    "ts_df.iloc[:, 1:] = ts_data[:, 1:]\n",
    "\n",
    "tr_df.to_csv(\"train.csv\", index=False)\n",
    "ts_df.to_csv(\"test.csv\", index=False)"
   ]
  }
 ],
 "metadata": {
  "kernelspec": {
   "display_name": "Python 3",
   "language": "python",
   "name": "python3"
  },
  "language_info": {
   "codemirror_mode": {
    "name": "ipython",
    "version": 3
   },
   "file_extension": ".py",
   "mimetype": "text/x-python",
   "name": "python",
   "nbconvert_exporter": "python",
   "pygments_lexer": "ipython3",
   "version": "3.7.12"
  },
  "papermill": {
   "default_parameters": {},
   "duration": 15.870712,
   "end_time": "2022-10-30T05:21:34.538216",
   "environment_variables": {},
   "exception": null,
   "input_path": "__notebook__.ipynb",
   "output_path": "__notebook__.ipynb",
   "parameters": {},
   "start_time": "2022-10-30T05:21:18.667504",
   "version": "2.3.4"
  }
 },
 "nbformat": 4,
 "nbformat_minor": 5
}
