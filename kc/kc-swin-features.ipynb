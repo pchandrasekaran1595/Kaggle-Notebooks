{
 "cells": [
  {
   "cell_type": "markdown",
   "id": "ff835288",
   "metadata": {
    "_cell_guid": "b1076dfc-b9ad-4769-8c92-a6c4dae69d19",
    "_uuid": "8f2839f25d086af736a60e9eeb907d3b93b6e0e5",
    "papermill": {
     "duration": 0.006925,
     "end_time": "2022-11-26T09:05:35.675176",
     "exception": false,
     "start_time": "2022-11-26T09:05:35.668251",
     "status": "completed"
    },
    "tags": []
   },
   "source": [
    "### **Setup**"
   ]
  },
  {
   "cell_type": "code",
   "execution_count": 1,
   "id": "037b09cf",
   "metadata": {
    "execution": {
     "iopub.execute_input": "2022-11-26T09:05:35.688408Z",
     "iopub.status.busy": "2022-11-26T09:05:35.687907Z",
     "iopub.status.idle": "2022-11-26T09:05:47.309386Z",
     "shell.execute_reply": "2022-11-26T09:05:47.308178Z"
    },
    "papermill": {
     "duration": 11.630713,
     "end_time": "2022-11-26T09:05:47.312070",
     "exception": false,
     "start_time": "2022-11-26T09:05:35.681357",
     "status": "completed"
    },
    "tags": []
   },
   "outputs": [
    {
     "name": "stdout",
     "output_type": "stream",
     "text": [
      "\u001b[33mWARNING: Running pip as the 'root' user can result in broken permissions and conflicting behaviour with the system package manager. It is recommended to use a virtual environment instead: https://pip.pypa.io/warnings/venv\u001b[0m\u001b[33m\r\n",
      "\u001b[0m"
     ]
    }
   ],
   "source": [
    "!pip install timm -q"
   ]
  },
  {
   "cell_type": "markdown",
   "id": "f585d088",
   "metadata": {
    "papermill": {
     "duration": 0.003053,
     "end_time": "2022-11-26T09:05:47.318551",
     "exception": false,
     "start_time": "2022-11-26T09:05:47.315498",
     "status": "completed"
    },
    "tags": []
   },
   "source": [
    "### **Library Imports**"
   ]
  },
  {
   "cell_type": "code",
   "execution_count": 2,
   "id": "5d02a6af",
   "metadata": {
    "execution": {
     "iopub.execute_input": "2022-11-26T09:05:47.326612Z",
     "iopub.status.busy": "2022-11-26T09:05:47.325887Z",
     "iopub.status.idle": "2022-11-26T09:05:50.461282Z",
     "shell.execute_reply": "2022-11-26T09:05:50.460253Z"
    },
    "papermill": {
     "duration": 3.142088,
     "end_time": "2022-11-26T09:05:50.463762",
     "exception": false,
     "start_time": "2022-11-26T09:05:47.321674",
     "status": "completed"
    },
    "tags": []
   },
   "outputs": [],
   "source": [
    "import os\n",
    "import re\n",
    "import cv2\n",
    "import timm\n",
    "import torch\n",
    "import numpy as np\n",
    "import pandas as pd\n",
    "\n",
    "from PIL import Image\n",
    "from time import time, sleep\n",
    "\n",
    "from torch import nn\n",
    "from torch.utils.data import Dataset\n",
    "from torch.utils.data import DataLoader as DL\n",
    "from torchvision import transforms"
   ]
  },
  {
   "cell_type": "markdown",
   "id": "2ffcc59d",
   "metadata": {
    "papermill": {
     "duration": 0.003187,
     "end_time": "2022-11-26T09:05:50.470441",
     "exception": false,
     "start_time": "2022-11-26T09:05:50.467254",
     "status": "completed"
    },
    "tags": []
   },
   "source": [
    "### **Models**"
   ]
  },
  {
   "cell_type": "code",
   "execution_count": 3,
   "id": "935d9a24",
   "metadata": {
    "execution": {
     "iopub.execute_input": "2022-11-26T09:05:50.479557Z",
     "iopub.status.busy": "2022-11-26T09:05:50.477826Z",
     "iopub.status.idle": "2022-11-26T09:05:50.486833Z",
     "shell.execute_reply": "2022-11-26T09:05:50.485976Z"
    },
    "papermill": {
     "duration": 0.015167,
     "end_time": "2022-11-26T09:05:50.488883",
     "exception": false,
     "start_time": "2022-11-26T09:05:50.473716",
     "status": "completed"
    },
    "tags": []
   },
   "outputs": [],
   "source": [
    "class Model(nn.Module):\n",
    "    def __init__(self, model_name: str):\n",
    "        super(Model, self).__init__()\n",
    "        \n",
    "        if model_name == \"swin_base_patch4_window12_384_in22k\":\n",
    "            self.model = timm.create_model(model_name, pretrained=True)\n",
    "            self.freeze()\n",
    "            self.model = nn.Sequential(*[*self.model.children()][:-1])\n",
    "        \n",
    "        elif model_name == \"swin_large_patch4_window12_384_in22k\":\n",
    "            self.model = timm.create_model(model_name, pretrained=True)\n",
    "            self.freeze()\n",
    "            self.model = nn.Sequential(*[*self.model.children()][:-1])\n",
    "        \n",
    "    def freeze(self):\n",
    "        for p in self.parameters(): p.requires_grad = False\n",
    "    \n",
    "    def forward(self, x):\n",
    "        return self.model(x)"
   ]
  },
  {
   "cell_type": "markdown",
   "id": "98c705c9",
   "metadata": {
    "papermill": {
     "duration": 0.002959,
     "end_time": "2022-11-26T09:05:50.494884",
     "exception": false,
     "start_time": "2022-11-26T09:05:50.491925",
     "status": "completed"
    },
    "tags": []
   },
   "source": [
    "### **Utils**"
   ]
  },
  {
   "cell_type": "code",
   "execution_count": 4,
   "id": "d85a3aaa",
   "metadata": {
    "execution": {
     "iopub.execute_input": "2022-11-26T09:05:50.503493Z",
     "iopub.status.busy": "2022-11-26T09:05:50.502025Z",
     "iopub.status.idle": "2022-11-26T09:05:50.510555Z",
     "shell.execute_reply": "2022-11-26T09:05:50.509737Z"
    },
    "papermill": {
     "duration": 0.014741,
     "end_time": "2022-11-26T09:05:50.512709",
     "exception": false,
     "start_time": "2022-11-26T09:05:50.497968",
     "status": "completed"
    },
    "tags": []
   },
   "outputs": [],
   "source": [
    "def breaker(num: int=50, char: str=\"*\") -> None:\n",
    "    print(\"\\n\" + num*char + \"\\n\")\n",
    "\n",
    "    \n",
    "def get_image(path: str, size: int=224) -> np.ndarray:\n",
    "    image = cv2.imread(path, cv2.IMREAD_COLOR)\n",
    "    image = cv2.cvtColor(src=image, code=cv2.COLOR_BGR2RGB)\n",
    "    return cv2.resize(src=image, dsize=(size, size), interpolation=cv2.INTER_AREA)\n",
    "\n",
    "\n",
    "def get_features(model=None, dataloader=None, feature_length: int=None) -> np.ndarray: \n",
    "    model.eval()\n",
    "    \n",
    "    y_pred = torch.zeros(1, feature_length).to(torch.device(\"cuda\" if torch.cuda.is_available() else \"cpu\"))\n",
    "    \n",
    "    for X in dataloader:\n",
    "        X = X.to(torch.device(\"cuda\" if torch.cuda.is_available() else \"cpu\"))\n",
    "        with torch.no_grad():\n",
    "            output = model(X)[:, -1, :]\n",
    "        y_pred = torch.cat((y_pred, output), dim=0)\n",
    "    \n",
    "    return y_pred[1:].detach().cpu().numpy()"
   ]
  },
  {
   "cell_type": "markdown",
   "id": "4634aa7b",
   "metadata": {
    "papermill": {
     "duration": 0.002805,
     "end_time": "2022-11-26T09:05:50.518543",
     "exception": false,
     "start_time": "2022-11-26T09:05:50.515738",
     "status": "completed"
    },
    "tags": []
   },
   "source": [
    "### **Dataset Template**"
   ]
  },
  {
   "cell_type": "code",
   "execution_count": 5,
   "id": "ddbb7ba0",
   "metadata": {
    "execution": {
     "iopub.execute_input": "2022-11-26T09:05:50.525732Z",
     "iopub.status.busy": "2022-11-26T09:05:50.525452Z",
     "iopub.status.idle": "2022-11-26T09:05:50.531540Z",
     "shell.execute_reply": "2022-11-26T09:05:50.530561Z"
    },
    "papermill": {
     "duration": 0.012197,
     "end_time": "2022-11-26T09:05:50.533799",
     "exception": false,
     "start_time": "2022-11-26T09:05:50.521602",
     "status": "completed"
    },
    "tags": []
   },
   "outputs": [],
   "source": [
    "class DS(Dataset):\n",
    "    def __init__(\n",
    "        self, \n",
    "        filepaths: np.ndarray, \n",
    "        size: int,\n",
    "        transform=None\n",
    "    ):\n",
    "        \n",
    "        self.filepaths = filepaths\n",
    "        self.size = size\n",
    "        self.transform = transform\n",
    "    \n",
    "    def __len__(self):\n",
    "        if isinstance(self.filepaths, np.ndarray):\n",
    "            return self.filepaths.shape[0]\n",
    "        else:\n",
    "            return len(self.filepaths)\n",
    "    \n",
    "    def __getitem__(self, idx):\n",
    "        image = get_image(self.filepaths[idx], self.size)\n",
    "        return self.transform(image)"
   ]
  },
  {
   "cell_type": "code",
   "execution_count": 6,
   "id": "2c30eed8",
   "metadata": {
    "execution": {
     "iopub.execute_input": "2022-11-26T09:05:50.540981Z",
     "iopub.status.busy": "2022-11-26T09:05:50.540727Z",
     "iopub.status.idle": "2022-11-26T09:05:50.545083Z",
     "shell.execute_reply": "2022-11-26T09:05:50.544082Z"
    },
    "papermill": {
     "duration": 0.010376,
     "end_time": "2022-11-26T09:05:50.547281",
     "exception": false,
     "start_time": "2022-11-26T09:05:50.536905",
     "status": "completed"
    },
    "tags": []
   },
   "outputs": [],
   "source": [
    "model_names: list = [\n",
    "    \"swin_base_patch4_window12_384_in22k\",\n",
    "    \"swin_large_patch4_window12_384_in22k\"\n",
    "]\n",
    "    \n",
    "feature_lengths: list = [\n",
    "    1024,\n",
    "    1536\n",
    "]"
   ]
  },
  {
   "cell_type": "markdown",
   "id": "271e16a0",
   "metadata": {
    "papermill": {
     "duration": 0.002924,
     "end_time": "2022-11-26T09:05:50.553266",
     "exception": false,
     "start_time": "2022-11-26T09:05:50.550342",
     "status": "completed"
    },
    "tags": []
   },
   "source": [
    "### **Train Features**"
   ]
  },
  {
   "cell_type": "code",
   "execution_count": 7,
   "id": "85df05f7",
   "metadata": {
    "execution": {
     "iopub.execute_input": "2022-11-26T09:05:50.560509Z",
     "iopub.status.busy": "2022-11-26T09:05:50.560262Z",
     "iopub.status.idle": "2022-11-26T09:14:48.950079Z",
     "shell.execute_reply": "2022-11-26T09:14:48.948833Z"
    },
    "papermill": {
     "duration": 538.397527,
     "end_time": "2022-11-26T09:14:48.953879",
     "exception": false,
     "start_time": "2022-11-26T09:05:50.556352",
     "status": "completed"
    },
    "tags": []
   },
   "outputs": [
    {
     "name": "stderr",
     "output_type": "stream",
     "text": [
      "/opt/conda/lib/python3.7/site-packages/torch/functional.py:568: UserWarning: torch.meshgrid: in an upcoming release, it will be required to pass the indexing argument. (Triggered internally at  /usr/local/src/pytorch/aten/src/ATen/native/TensorShape.cpp:2227.)\n",
      "  return _VF.meshgrid(tensors, **kwargs)  # type: ignore[attr-defined]\n",
      "Downloading: \"https://github.com/SwinTransformer/storage/releases/download/v1.0.0/swin_base_patch4_window12_384_22k.pth\" to /root/.cache/torch/hub/checkpoints/swin_base_patch4_window12_384_22k.pth\n",
      "Downloading: \"https://github.com/SwinTransformer/storage/releases/download/v1.0.0/swin_large_patch4_window12_384_22k.pth\" to /root/.cache/torch/hub/checkpoints/swin_large_patch4_window12_384_22k.pth\n"
     ]
    }
   ],
   "source": [
    "df = pd.read_csv(\"/kaggle/input/kc-dataframe/train.csv\")\n",
    "\n",
    "data_setup = DS(\n",
    "    filepaths=df.filepaths.copy().values, \n",
    "    size=384,\n",
    "    transform=transforms.Compose([\n",
    "        transforms.ToTensor(),\n",
    "        transforms.Normalize([0.52184, 0.47946, 0.43919], [0.17009, 0.17413, 0.17846]),\n",
    "    ])\n",
    ")\n",
    "    \n",
    "for i in range(len(model_names)):\n",
    "    model = Model(model_names[i]).to(torch.device(\"cuda\" if torch.cuda.is_available() else \"cpu\"))\n",
    "    data = DL(data_setup, batch_size=16, shuffle=False)\n",
    "    features = get_features(model=model, dataloader=data, feature_length=feature_lengths[i])\n",
    "    np.save(f\"tr_{model_names[i]}.npy\", features)\n",
    "    \n",
    "    del model, data\n",
    "    torch.cuda.empty_cache()\n",
    "    \n",
    "    sleep(30)"
   ]
  },
  {
   "cell_type": "markdown",
   "id": "19064b39",
   "metadata": {
    "papermill": {
     "duration": 0.004541,
     "end_time": "2022-11-26T09:14:48.963697",
     "exception": false,
     "start_time": "2022-11-26T09:14:48.959156",
     "status": "completed"
    },
    "tags": []
   },
   "source": [
    "### **Test Featues**"
   ]
  },
  {
   "cell_type": "code",
   "execution_count": 8,
   "id": "78758463",
   "metadata": {
    "execution": {
     "iopub.execute_input": "2022-11-26T09:14:48.974737Z",
     "iopub.status.busy": "2022-11-26T09:14:48.974232Z",
     "iopub.status.idle": "2022-11-26T09:18:33.785339Z",
     "shell.execute_reply": "2022-11-26T09:18:33.784281Z"
    },
    "papermill": {
     "duration": 224.819738,
     "end_time": "2022-11-26T09:18:33.788043",
     "exception": false,
     "start_time": "2022-11-26T09:14:48.968305",
     "status": "completed"
    },
    "tags": []
   },
   "outputs": [],
   "source": [
    "df = pd.read_csv(\"/kaggle/input/kc-dataframe/test.csv\")\n",
    "\n",
    "data_setup = DS(\n",
    "    filepaths=df.filepaths.copy().values, \n",
    "    size=384,\n",
    "    transform=transforms.Compose([\n",
    "        transforms.ToTensor(),\n",
    "        transforms.Normalize([0.52184, 0.47946, 0.43919], [0.17009, 0.17413, 0.17846]),\n",
    "    ])\n",
    ")\n",
    "    \n",
    "for i in range(len(model_names)):\n",
    "    model = Model(model_names[i]).to(torch.device(\"cuda\" if torch.cuda.is_available() else \"cpu\"))\n",
    "    data = DL(data_setup, batch_size=16, shuffle=False)\n",
    "    features = get_features(model=model, dataloader=data, feature_length=feature_lengths[i])\n",
    "    np.save(f\"ts_{model_names[i]}.npy\", features)\n",
    "    \n",
    "    del model, data\n",
    "    torch.cuda.empty_cache()\n",
    "    \n",
    "    sleep(30)"
   ]
  }
 ],
 "metadata": {
  "kernelspec": {
   "display_name": "Python 3",
   "language": "python",
   "name": "python3"
  },
  "language_info": {
   "codemirror_mode": {
    "name": "ipython",
    "version": 3
   },
   "file_extension": ".py",
   "mimetype": "text/x-python",
   "name": "python",
   "nbconvert_exporter": "python",
   "pygments_lexer": "ipython3",
   "version": "3.7.12"
  },
  "papermill": {
   "default_parameters": {},
   "duration": 787.328494,
   "end_time": "2022-11-26T09:18:35.317109",
   "environment_variables": {},
   "exception": null,
   "input_path": "__notebook__.ipynb",
   "output_path": "__notebook__.ipynb",
   "parameters": {},
   "start_time": "2022-11-26T09:05:27.988615",
   "version": "2.3.4"
  }
 },
 "nbformat": 4,
 "nbformat_minor": 5
}
