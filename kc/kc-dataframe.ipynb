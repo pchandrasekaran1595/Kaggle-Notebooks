{
 "cells": [
  {
   "cell_type": "code",
   "execution_count": 1,
   "id": "9d97d893",
   "metadata": {
    "_cell_guid": "b1076dfc-b9ad-4769-8c92-a6c4dae69d19",
    "_uuid": "8f2839f25d086af736a60e9eeb907d3b93b6e0e5",
    "execution": {
     "iopub.execute_input": "2022-11-24T09:21:27.369310Z",
     "iopub.status.busy": "2022-11-24T09:21:27.368654Z",
     "iopub.status.idle": "2022-11-24T09:21:27.720299Z",
     "shell.execute_reply": "2022-11-24T09:21:27.719140Z"
    },
    "papermill": {
     "duration": 0.359842,
     "end_time": "2022-11-24T09:21:27.723295",
     "exception": false,
     "start_time": "2022-11-24T09:21:27.363453",
     "status": "completed"
    },
    "tags": []
   },
   "outputs": [],
   "source": [
    "import os\n",
    "import cv2\n",
    "import numpy as np\n",
    "import pandas as pd\n",
    "\n",
    "IMAGES_PATH: str = \"/kaggle/input/kitchenware-classification/images\""
   ]
  },
  {
   "cell_type": "code",
   "execution_count": 2,
   "id": "dd2bb3a1",
   "metadata": {
    "execution": {
     "iopub.execute_input": "2022-11-24T09:21:27.729992Z",
     "iopub.status.busy": "2022-11-24T09:21:27.729584Z",
     "iopub.status.idle": "2022-11-24T09:21:27.775558Z",
     "shell.execute_reply": "2022-11-24T09:21:27.773873Z"
    },
    "papermill": {
     "duration": 0.052838,
     "end_time": "2022-11-24T09:21:27.778551",
     "exception": false,
     "start_time": "2022-11-24T09:21:27.725713",
     "status": "completed"
    },
    "tags": []
   },
   "outputs": [],
   "source": [
    "tr_df: pd.DataFrame = pd.DataFrame(data=None, columns=[\"filepaths\", \"labels\"])  \n",
    "ts_df: pd.DataFrame = pd.DataFrame(data=None, columns=[\"filepaths\"]) \n",
    "    \n",
    "competition_tr_df = pd.read_csv(\"/kaggle/input/kitchenware-classification/train.csv\")\n",
    "competition_ts_df = pd.read_csv(\"/kaggle/input/kitchenware-classification/test.csv\")"
   ]
  },
  {
   "cell_type": "code",
   "execution_count": 3,
   "id": "58eb7bc1",
   "metadata": {
    "execution": {
     "iopub.execute_input": "2022-11-24T09:21:27.785005Z",
     "iopub.status.busy": "2022-11-24T09:21:27.784421Z",
     "iopub.status.idle": "2022-11-24T09:21:28.210169Z",
     "shell.execute_reply": "2022-11-24T09:21:28.209223Z"
    },
    "papermill": {
     "duration": 0.432025,
     "end_time": "2022-11-24T09:21:28.212877",
     "exception": false,
     "start_time": "2022-11-24T09:21:27.780852",
     "status": "completed"
    },
    "tags": []
   },
   "outputs": [],
   "source": [
    "filepaths: list = []\n",
    "labels: list = []\n",
    "\n",
    "for i in range(competition_tr_df.shape[0]):\n",
    "    filepaths.append(os.path.join(IMAGES_PATH, str(competition_tr_df.iloc[i, 0]) + \".jpg\"))\n",
    "    labels.append(competition_tr_df.iloc[i, 1])\n",
    "\n",
    "tr_df.filepaths = filepaths\n",
    "tr_df.labels = labels\n",
    "tr_df.to_csv(\"train.csv\", index=False)"
   ]
  },
  {
   "cell_type": "code",
   "execution_count": 4,
   "id": "ac49c2f1",
   "metadata": {
    "execution": {
     "iopub.execute_input": "2022-11-24T09:21:28.219342Z",
     "iopub.status.busy": "2022-11-24T09:21:28.218259Z",
     "iopub.status.idle": "2022-11-24T09:21:28.323698Z",
     "shell.execute_reply": "2022-11-24T09:21:28.322250Z"
    },
    "papermill": {
     "duration": 0.112543,
     "end_time": "2022-11-24T09:21:28.327548",
     "exception": false,
     "start_time": "2022-11-24T09:21:28.215005",
     "status": "completed"
    },
    "tags": []
   },
   "outputs": [],
   "source": [
    "filepaths: list = []\n",
    "\n",
    "for i in range(competition_ts_df.shape[0]):\n",
    "    filepaths.append(os.path.join(IMAGES_PATH, str(competition_ts_df.iloc[i, 0]) + \".jpg\"))\n",
    "\n",
    "ts_df.filepaths = filepaths\n",
    "ts_df.to_csv(\"test.csv\", index=False)"
   ]
  }
 ],
 "metadata": {
  "kernelspec": {
   "display_name": "Python 3",
   "language": "python",
   "name": "python3"
  },
  "language_info": {
   "codemirror_mode": {
    "name": "ipython",
    "version": 3
   },
   "file_extension": ".py",
   "mimetype": "text/x-python",
   "name": "python",
   "nbconvert_exporter": "python",
   "pygments_lexer": "ipython3",
   "version": "3.7.12"
  },
  "papermill": {
   "default_parameters": {},
   "duration": 11.305559,
   "end_time": "2022-11-24T09:21:29.053698",
   "environment_variables": {},
   "exception": null,
   "input_path": "__notebook__.ipynb",
   "output_path": "__notebook__.ipynb",
   "parameters": {},
   "start_time": "2022-11-24T09:21:17.748139",
   "version": "2.3.4"
  }
 },
 "nbformat": 4,
 "nbformat_minor": 5
}
