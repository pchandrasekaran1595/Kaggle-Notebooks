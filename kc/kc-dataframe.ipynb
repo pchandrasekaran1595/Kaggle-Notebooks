{
 "cells": [
  {
   "cell_type": "code",
   "execution_count": 1,
   "id": "0e7eb691",
   "metadata": {
    "_cell_guid": "b1076dfc-b9ad-4769-8c92-a6c4dae69d19",
    "_uuid": "8f2839f25d086af736a60e9eeb907d3b93b6e0e5",
    "execution": {
     "iopub.execute_input": "2022-11-25T02:55:05.534535Z",
     "iopub.status.busy": "2022-11-25T02:55:05.534056Z",
     "iopub.status.idle": "2022-11-25T02:55:05.816493Z",
     "shell.execute_reply": "2022-11-25T02:55:05.814919Z"
    },
    "papermill": {
     "duration": 0.28925,
     "end_time": "2022-11-25T02:55:05.819141",
     "exception": false,
     "start_time": "2022-11-25T02:55:05.529891",
     "status": "completed"
    },
    "tags": []
   },
   "outputs": [],
   "source": [
    "import os\n",
    "import cv2\n",
    "import numpy as np\n",
    "import pandas as pd\n",
    "\n",
    "IMAGES_PATH: str = \"/kaggle/input/kitchenware-classification/images\""
   ]
  },
  {
   "cell_type": "code",
   "execution_count": 2,
   "id": "568fcc69",
   "metadata": {
    "execution": {
     "iopub.execute_input": "2022-11-25T02:55:05.824627Z",
     "iopub.status.busy": "2022-11-25T02:55:05.824012Z",
     "iopub.status.idle": "2022-11-25T02:55:05.874764Z",
     "shell.execute_reply": "2022-11-25T02:55:05.873750Z"
    },
    "papermill": {
     "duration": 0.055991,
     "end_time": "2022-11-25T02:55:05.877197",
     "exception": false,
     "start_time": "2022-11-25T02:55:05.821206",
     "status": "completed"
    },
    "tags": []
   },
   "outputs": [],
   "source": [
    "tr_df: pd.DataFrame = pd.DataFrame(data=None, columns=[\"filepaths\", \"labels\"])  \n",
    "ts_df: pd.DataFrame = pd.DataFrame(data=None, columns=[\"filepaths\"]) \n",
    "    \n",
    "competition_tr_df = pd.read_csv(\"/kaggle/input/kitchenware-classification/train.csv\")\n",
    "competition_ts_df = pd.read_csv(\"/kaggle/input/kitchenware-classification/test.csv\")"
   ]
  },
  {
   "cell_type": "code",
   "execution_count": 3,
   "id": "3fd41b67",
   "metadata": {
    "execution": {
     "iopub.execute_input": "2022-11-25T02:55:05.882003Z",
     "iopub.status.busy": "2022-11-25T02:55:05.881698Z",
     "iopub.status.idle": "2022-11-25T02:55:06.229846Z",
     "shell.execute_reply": "2022-11-25T02:55:06.228941Z"
    },
    "papermill": {
     "duration": 0.352992,
     "end_time": "2022-11-25T02:55:06.232001",
     "exception": false,
     "start_time": "2022-11-25T02:55:05.879009",
     "status": "completed"
    },
    "tags": []
   },
   "outputs": [],
   "source": [
    "filepaths: list = []\n",
    "labels: list = []\n",
    "\n",
    "for i in range(competition_tr_df.shape[0]):\n",
    "    filepaths.append(os.path.join(IMAGES_PATH, str(competition_tr_df.iloc[i, 0]).zfill(4) + \".jpg\"))\n",
    "    labels.append(competition_tr_df.iloc[i, 1])\n",
    "\n",
    "tr_df.filepaths = filepaths\n",
    "tr_df.labels = labels\n",
    "tr_df.to_csv(\"train.csv\", index=False)"
   ]
  },
  {
   "cell_type": "code",
   "execution_count": 4,
   "id": "a151f1e2",
   "metadata": {
    "execution": {
     "iopub.execute_input": "2022-11-25T02:55:06.237042Z",
     "iopub.status.busy": "2022-11-25T02:55:06.236667Z",
     "iopub.status.idle": "2022-11-25T02:55:06.322998Z",
     "shell.execute_reply": "2022-11-25T02:55:06.321856Z"
    },
    "papermill": {
     "duration": 0.091808,
     "end_time": "2022-11-25T02:55:06.325667",
     "exception": false,
     "start_time": "2022-11-25T02:55:06.233859",
     "status": "completed"
    },
    "tags": []
   },
   "outputs": [],
   "source": [
    "filepaths: list = []\n",
    "\n",
    "for i in range(competition_ts_df.shape[0]):\n",
    "    filepaths.append(os.path.join(IMAGES_PATH, str(competition_ts_df.iloc[i, 0]).zfill(4) + \".jpg\"))\n",
    "\n",
    "ts_df.filepaths = filepaths\n",
    "ts_df.to_csv(\"test.csv\", index=False)"
   ]
  }
 ],
 "metadata": {
  "kernelspec": {
   "display_name": "Python 3",
   "language": "python",
   "name": "python3"
  },
  "language_info": {
   "codemirror_mode": {
    "name": "ipython",
    "version": 3
   },
   "file_extension": ".py",
   "mimetype": "text/x-python",
   "name": "python",
   "nbconvert_exporter": "python",
   "pygments_lexer": "ipython3",
   "version": "3.7.12"
  },
  "papermill": {
   "default_parameters": {},
   "duration": 8.537853,
   "end_time": "2022-11-25T02:55:06.947434",
   "environment_variables": {},
   "exception": null,
   "input_path": "__notebook__.ipynb",
   "output_path": "__notebook__.ipynb",
   "parameters": {},
   "start_time": "2022-11-25T02:54:58.409581",
   "version": "2.3.4"
  }
 },
 "nbformat": 4,
 "nbformat_minor": 5
}
