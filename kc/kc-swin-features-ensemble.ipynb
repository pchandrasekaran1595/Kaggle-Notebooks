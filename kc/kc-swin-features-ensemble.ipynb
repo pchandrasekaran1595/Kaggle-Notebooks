{
 "cells": [
  {
   "cell_type": "code",
   "execution_count": 1,
   "id": "9a2c739d",
   "metadata": {
    "_cell_guid": "b1076dfc-b9ad-4769-8c92-a6c4dae69d19",
    "_uuid": "8f2839f25d086af736a60e9eeb907d3b93b6e0e5",
    "execution": {
     "iopub.execute_input": "2022-11-26T12:04:28.454888Z",
     "iopub.status.busy": "2022-11-26T12:04:28.454107Z",
     "iopub.status.idle": "2022-11-26T12:04:29.308025Z",
     "shell.execute_reply": "2022-11-26T12:04:29.306619Z"
    },
    "papermill": {
     "duration": 0.861858,
     "end_time": "2022-11-26T12:04:29.311069",
     "exception": false,
     "start_time": "2022-11-26T12:04:28.449211",
     "status": "completed"
    },
    "tags": []
   },
   "outputs": [],
   "source": [
    "import os, pickle\n",
    "import numpy as np\n",
    "import pandas as pd\n",
    "from scipy import stats\n",
    "\n",
    "FEATURES_BASE_PATH: str = \"/kaggle/input/kc-swin-features\"\n",
    "MODELS_BASE_PATH: str = \"/kaggle/input/kc-swin-features-train/models\"\n",
    "MODEL_NAMES: list = os.listdir(MODELS_BASE_PATH)\n",
    "INT_TO_STR: dict = {\n",
    "    0 : \"cup\",\n",
    "    1 : \"fork\",\n",
    "    2 : \"glass\",\n",
    "    3 : \"knife\",\n",
    "    4 : \"plate\",\n",
    "    5 : \"spoon\"\n",
    "}"
   ]
  },
  {
   "cell_type": "code",
   "execution_count": 2,
   "id": "50504b86",
   "metadata": {
    "execution": {
     "iopub.execute_input": "2022-11-26T12:04:29.316472Z",
     "iopub.status.busy": "2022-11-26T12:04:29.316063Z",
     "iopub.status.idle": "2022-11-26T12:05:29.262910Z",
     "shell.execute_reply": "2022-11-26T12:05:29.261721Z"
    },
    "papermill": {
     "duration": 59.95259,
     "end_time": "2022-11-26T12:05:29.265659",
     "exception": false,
     "start_time": "2022-11-26T12:04:29.313069",
     "status": "completed"
    },
    "tags": []
   },
   "outputs": [],
   "source": [
    "ts_base_features  = np.load(f\"{FEATURES_BASE_PATH}/ts_swin_base_patch4_window12_384_in22k.npy\")\n",
    "ts_large_features = np.load(f\"{FEATURES_BASE_PATH}/ts_swin_large_patch4_window12_384_in22k.npy\")\n",
    "\n",
    "y_pred = np.zeros((1, ts_base_features.shape[0]), dtype=np.uint8)\n",
    "\n",
    "for model_name in MODEL_NAMES:\n",
    "    if \"lgr\" in model_name or \"knc\" in model_name or \"svc\" in model_name or \"rfc\" in model_name or \"etcs\" in model_name:\n",
    "        if \"base\" in model_name:\n",
    "            model = pickle.load(open(os.path.join(MODELS_BASE_PATH, model_name), \"rb\"))\n",
    "            y_pred = np.concatenate((y_pred, model.predict(ts_base_features).reshape(1, -1)), axis=0)\n",
    "        if \"large\" in model_name:\n",
    "            model = pickle.load(open(os.path.join(MODELS_BASE_PATH, model_name), \"rb\"))\n",
    "            y_pred = np.concatenate((y_pred, model.predict(ts_large_features).reshape(1, -1)), axis=0)\n",
    "\n",
    "y_pred = stats.mode(y_pred[1:])[0].reshape(-1)\n",
    "y_pred = [INT_TO_STR[int(sample)] for sample in y_pred]\n",
    "                                    \n",
    "ss_df = pd.read_csv(\"/kaggle/input/kitchenware-classification/sample_submission.csv\")\n",
    "ss_df.label = y_pred\n",
    "ss_df.to_csv(\"submission.csv\", index=False)"
   ]
  }
 ],
 "metadata": {
  "kernelspec": {
   "display_name": "Python 3",
   "language": "python",
   "name": "python3"
  },
  "language_info": {
   "codemirror_mode": {
    "name": "ipython",
    "version": 3
   },
   "file_extension": ".py",
   "mimetype": "text/x-python",
   "name": "python",
   "nbconvert_exporter": "python",
   "pygments_lexer": "ipython3",
   "version": "3.7.12"
  },
  "papermill": {
   "default_parameters": {},
   "duration": 72.267644,
   "end_time": "2022-11-26T12:05:30.089601",
   "environment_variables": {},
   "exception": null,
   "input_path": "__notebook__.ipynb",
   "output_path": "__notebook__.ipynb",
   "parameters": {},
   "start_time": "2022-11-26T12:04:17.821957",
   "version": "2.3.4"
  }
 },
 "nbformat": 4,
 "nbformat_minor": 5
}
