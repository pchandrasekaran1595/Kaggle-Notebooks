{
 "cells": [
  {
   "cell_type": "code",
   "execution_count": 1,
   "id": "342ab8b0",
   "metadata": {
    "_cell_guid": "b1076dfc-b9ad-4769-8c92-a6c4dae69d19",
    "_uuid": "8f2839f25d086af736a60e9eeb907d3b93b6e0e5",
    "execution": {
     "iopub.execute_input": "2022-11-26T09:43:14.453549Z",
     "iopub.status.busy": "2022-11-26T09:43:14.452155Z",
     "iopub.status.idle": "2022-11-26T09:43:17.112956Z",
     "shell.execute_reply": "2022-11-26T09:43:17.111677Z"
    },
    "papermill": {
     "duration": 2.672144,
     "end_time": "2022-11-26T09:43:17.117167",
     "exception": false,
     "start_time": "2022-11-26T09:43:14.445023",
     "status": "completed"
    },
    "tags": []
   },
   "outputs": [
    {
     "data": {
      "text/html": [
       "<style type='text/css'>\n",
       ".datatable table.frame { margin-bottom: 0; }\n",
       ".datatable table.frame thead { border-bottom: none; }\n",
       ".datatable table.frame tr.coltypes td {  color: #FFFFFF;  line-height: 6px;  padding: 0 0.5em;}\n",
       ".datatable .bool    { background: #DDDD99; }\n",
       ".datatable .object  { background: #565656; }\n",
       ".datatable .int     { background: #5D9E5D; }\n",
       ".datatable .float   { background: #4040CC; }\n",
       ".datatable .str     { background: #CC4040; }\n",
       ".datatable .time    { background: #40CC40; }\n",
       ".datatable .row_index {  background: var(--jp-border-color3);  border-right: 1px solid var(--jp-border-color0);  color: var(--jp-ui-font-color3);  font-size: 9px;}\n",
       ".datatable .frame tbody td { text-align: left; }\n",
       ".datatable .frame tr.coltypes .row_index {  background: var(--jp-border-color0);}\n",
       ".datatable th:nth-child(2) { padding-left: 12px; }\n",
       ".datatable .hellipsis {  color: var(--jp-cell-editor-border-color);}\n",
       ".datatable .vellipsis {  background: var(--jp-layout-color0);  color: var(--jp-cell-editor-border-color);}\n",
       ".datatable .na {  color: var(--jp-cell-editor-border-color);  font-size: 80%;}\n",
       ".datatable .sp {  opacity: 0.25;}\n",
       ".datatable .footer { font-size: 9px; }\n",
       ".datatable .frame_dimensions {  background: var(--jp-border-color3);  border-top: 1px solid var(--jp-border-color0);  color: var(--jp-ui-font-color3);  display: inline-block;  opacity: 0.6;  padding: 1px 10px 1px 5px;}\n",
       "</style>\n"
      ],
      "text/plain": [
       "<IPython.core.display.HTML object>"
      ]
     },
     "metadata": {},
     "output_type": "display_data"
    }
   ],
   "source": [
    "import os\n",
    "import pickle\n",
    "import numpy as np\n",
    "import pandas as pd\n",
    "import random as r\n",
    "import seaborn as sns\n",
    "import matplotlib.pyplot as plt\n",
    "\n",
    "from time import time\n",
    "from sklearn.pipeline import Pipeline\n",
    "from sklearn.model_selection import StratifiedKFold\n",
    "\n",
    "from sklearn.svm import SVC\n",
    "from sklearn.naive_bayes import GaussianNB\n",
    "from sklearn.neighbors import KNeighborsClassifier\n",
    "from sklearn.linear_model import LogisticRegression\n",
    "from sklearn.tree import DecisionTreeClassifier, ExtraTreeClassifier\n",
    "from sklearn.ensemble import AdaBoostClassifier, ExtraTreesClassifier, GradientBoostingClassifier, RandomForestClassifier\n",
    "from xgboost import XGBClassifier\n",
    "from lightgbm import LGBMClassifier\n",
    "\n",
    "from sklearn.metrics import accuracy_score"
   ]
  },
  {
   "cell_type": "code",
   "execution_count": 2,
   "id": "78dd1ab7",
   "metadata": {
    "execution": {
     "iopub.execute_input": "2022-11-26T09:43:17.126592Z",
     "iopub.status.busy": "2022-11-26T09:43:17.125232Z",
     "iopub.status.idle": "2022-11-26T09:43:17.133562Z",
     "shell.execute_reply": "2022-11-26T09:43:17.132249Z"
    },
    "papermill": {
     "duration": 0.015968,
     "end_time": "2022-11-26T09:43:17.136885",
     "exception": false,
     "start_time": "2022-11-26T09:43:17.120917",
     "status": "completed"
    },
    "tags": []
   },
   "outputs": [],
   "source": [
    "def breaker() -> None: print(\"\\n\" + 50*\"*\" + \"\\n\")\n",
    "    \n",
    "STR_TO_INT: dict = {\n",
    "    \"cup\"   : 0,\n",
    "    \"fork\"  : 1,\n",
    "    \"glass\" : 2,\n",
    "    \"knife\" : 3,\n",
    "    \"plate\" : 4,\n",
    "    \"spoon\" : 5\n",
    "}"
   ]
  },
  {
   "cell_type": "code",
   "execution_count": 3,
   "id": "1964227e",
   "metadata": {
    "execution": {
     "iopub.execute_input": "2022-11-26T09:43:17.144974Z",
     "iopub.status.busy": "2022-11-26T09:43:17.144521Z",
     "iopub.status.idle": "2022-11-26T09:43:17.152338Z",
     "shell.execute_reply": "2022-11-26T09:43:17.150700Z"
    },
    "papermill": {
     "duration": 0.014784,
     "end_time": "2022-11-26T09:43:17.154879",
     "exception": false,
     "start_time": "2022-11-26T09:43:17.140095",
     "status": "completed"
    },
    "tags": []
   },
   "outputs": [],
   "source": [
    "class CFG(object):\n",
    "    def __init__(self,\n",
    "                 seed: int = 42,\n",
    "                 n_splits: int = 5,\n",
    "                 show_info: bool = False,\n",
    "                 ):\n",
    "\n",
    "        self.seed = seed\n",
    "        self.n_splits = n_splits\n",
    "        self.show_info = show_info\n",
    "        self.features_path = \"/kaggle/input/kc-swin-features\"\n",
    "        self.model_save_path = \"models\"\n",
    "        if not os.path.exists(self.model_save_path): os.makedirs(self.model_save_path)\n",
    "\n",
    "cfg = CFG(seed=42, show_info=True)"
   ]
  },
  {
   "cell_type": "code",
   "execution_count": 4,
   "id": "a519690a",
   "metadata": {
    "execution": {
     "iopub.execute_input": "2022-11-26T09:43:17.164169Z",
     "iopub.status.busy": "2022-11-26T09:43:17.162585Z",
     "iopub.status.idle": "2022-11-26T09:43:17.210898Z",
     "shell.execute_reply": "2022-11-26T09:43:17.208935Z"
    },
    "papermill": {
     "duration": 0.05595,
     "end_time": "2022-11-26T09:43:17.213853",
     "exception": false,
     "start_time": "2022-11-26T09:43:17.157903",
     "status": "completed"
    },
    "tags": []
   },
   "outputs": [],
   "source": [
    "y = pd.read_csv(\"/kaggle/input/kc-dataframe/train.csv\")\n",
    "y = y[\"labels\"].copy().values\n",
    "y = np.array([STR_TO_INT[label] for label in y])"
   ]
  },
  {
   "cell_type": "code",
   "execution_count": 5,
   "id": "a654b183",
   "metadata": {
    "execution": {
     "iopub.execute_input": "2022-11-26T09:43:17.222460Z",
     "iopub.status.busy": "2022-11-26T09:43:17.221713Z",
     "iopub.status.idle": "2022-11-26T09:43:17.236377Z",
     "shell.execute_reply": "2022-11-26T09:43:17.234873Z"
    },
    "papermill": {
     "duration": 0.022553,
     "end_time": "2022-11-26T09:43:17.239626",
     "exception": false,
     "start_time": "2022-11-26T09:43:17.217073",
     "status": "completed"
    },
    "tags": []
   },
   "outputs": [],
   "source": [
    "class Model(object):\n",
    "    def __init__(self, model_name: str, seed: int):\n",
    "        self.model_name = model_name\n",
    "\n",
    "        if self.model_name == \"lgr\":\n",
    "            self.model = Pipeline(\n",
    "                steps=[\n",
    "                    (\"classifier\", LogisticRegression(random_state=seed)),\n",
    "                ]\n",
    "            )\n",
    "        \n",
    "        elif self.model_name == \"knc\":\n",
    "            self.model = Pipeline(\n",
    "                steps=[\n",
    "                    (\"classifier\", KNeighborsClassifier()),\n",
    "                ]\n",
    "            )\n",
    "        \n",
    "        elif self.model_name == \"svc\":\n",
    "            self.model = Pipeline(\n",
    "                steps=[\n",
    "                    (\"classifier\", SVC()),\n",
    "                ]\n",
    "            )\n",
    "        \n",
    "        elif self.model_name == \"dtc\":\n",
    "            self.model = Pipeline(\n",
    "                steps=[\n",
    "                    (\"classifier\", DecisionTreeClassifier(random_state=seed)),\n",
    "                ]\n",
    "            )\n",
    "\n",
    "        elif self.model_name == \"etc\":\n",
    "            self.model = Pipeline(\n",
    "                steps=[\n",
    "                    (\"classifier\", ExtraTreeClassifier(random_state=seed)),\n",
    "                ]\n",
    "            )\n",
    "        \n",
    "        elif self.model_name == \"rfc\":\n",
    "            self.model = Pipeline(\n",
    "                steps=[\n",
    "                    (\"classifier\", RandomForestClassifier(random_state=seed)),\n",
    "                ]\n",
    "            )\n",
    "        \n",
    "        elif self.model_name == \"gbc\":\n",
    "            self.model = Pipeline(\n",
    "                steps=[\n",
    "                    (\"classifier\", GradientBoostingClassifier(random_state=seed)),\n",
    "                ]\n",
    "            )\n",
    "        \n",
    "        elif self.model_name == \"abc\":\n",
    "            self.model = Pipeline(\n",
    "                steps=[\n",
    "                    (\"classifier\", AdaBoostClassifier(random_state=seed)),\n",
    "                ]\n",
    "            )\n",
    "        \n",
    "        elif self.model_name == \"etcs\":\n",
    "            self.model = Pipeline(\n",
    "                steps=[\n",
    "                    (\"classifier\", ExtraTreesClassifier(random_state=seed)),\n",
    "                ]\n",
    "            )\n",
    "        \n",
    "        elif self.model_name == \"gnb\":\n",
    "            self.model = Pipeline(\n",
    "                steps=[\n",
    "                    (\"classifier\", GaussianNB()),\n",
    "                ]\n",
    "            )\n",
    "        \n",
    "        elif self.model_name == \"xgbc\":\n",
    "            self.model = Pipeline(\n",
    "                steps=[\n",
    "                    (\"classifier\", XGBClassifier(random_state=seed)),\n",
    "                ]\n",
    "            )\n",
    "        \n",
    "        elif self.model_name == \"lgbmc\":\n",
    "            self.model = Pipeline(\n",
    "                steps=[\n",
    "                    (\"classifier\", LGBMClassifier(random_state=seed)),\n",
    "                ]\n",
    "            )"
   ]
  },
  {
   "cell_type": "code",
   "execution_count": 6,
   "id": "cd23f72c",
   "metadata": {
    "execution": {
     "iopub.execute_input": "2022-11-26T09:43:17.248357Z",
     "iopub.status.busy": "2022-11-26T09:43:17.247695Z",
     "iopub.status.idle": "2022-11-26T09:48:43.341336Z",
     "shell.execute_reply": "2022-11-26T09:48:43.339709Z"
    },
    "papermill": {
     "duration": 326.101449,
     "end_time": "2022-11-26T09:48:43.344628",
     "exception": false,
     "start_time": "2022-11-26T09:43:17.243179",
     "status": "completed"
    },
    "tags": []
   },
   "outputs": [
    {
     "name": "stdout",
     "output_type": "stream",
     "text": [
      "\n",
      "**************************************************\n",
      "\n",
      "SWIN_LARGE_PATCH4_WINDOW12_384_IN22K\n",
      "\n",
      "**************************************************\n",
      "\n"
     ]
    },
    {
     "name": "stderr",
     "output_type": "stream",
     "text": [
      "/opt/conda/lib/python3.7/site-packages/sklearn/linear_model/_logistic.py:818: ConvergenceWarning: lbfgs failed to converge (status=1):\n",
      "STOP: TOTAL NO. of ITERATIONS REACHED LIMIT.\n",
      "\n",
      "Increase the number of iterations (max_iter) or scale the data as shown in:\n",
      "    https://scikit-learn.org/stable/modules/preprocessing.html\n",
      "Please also refer to the documentation for alternative solver options:\n",
      "    https://scikit-learn.org/stable/modules/linear_model.html#logistic-regression\n",
      "  extra_warning_msg=_LOGISTIC_SOLVER_CONVERGENCE_MSG,\n"
     ]
    },
    {
     "name": "stdout",
     "output_type": "stream",
     "text": [
      "lgr, 1, Accuracy : 0.98471\n"
     ]
    },
    {
     "name": "stderr",
     "output_type": "stream",
     "text": [
      "/opt/conda/lib/python3.7/site-packages/sklearn/linear_model/_logistic.py:818: ConvergenceWarning: lbfgs failed to converge (status=1):\n",
      "STOP: TOTAL NO. of ITERATIONS REACHED LIMIT.\n",
      "\n",
      "Increase the number of iterations (max_iter) or scale the data as shown in:\n",
      "    https://scikit-learn.org/stable/modules/preprocessing.html\n",
      "Please also refer to the documentation for alternative solver options:\n",
      "    https://scikit-learn.org/stable/modules/linear_model.html#logistic-regression\n",
      "  extra_warning_msg=_LOGISTIC_SOLVER_CONVERGENCE_MSG,\n"
     ]
    },
    {
     "name": "stdout",
     "output_type": "stream",
     "text": [
      "lgr, 2, Accuracy : 0.97842\n"
     ]
    },
    {
     "name": "stderr",
     "output_type": "stream",
     "text": [
      "/opt/conda/lib/python3.7/site-packages/sklearn/linear_model/_logistic.py:818: ConvergenceWarning: lbfgs failed to converge (status=1):\n",
      "STOP: TOTAL NO. of ITERATIONS REACHED LIMIT.\n",
      "\n",
      "Increase the number of iterations (max_iter) or scale the data as shown in:\n",
      "    https://scikit-learn.org/stable/modules/preprocessing.html\n",
      "Please also refer to the documentation for alternative solver options:\n",
      "    https://scikit-learn.org/stable/modules/linear_model.html#logistic-regression\n",
      "  extra_warning_msg=_LOGISTIC_SOLVER_CONVERGENCE_MSG,\n"
     ]
    },
    {
     "name": "stdout",
     "output_type": "stream",
     "text": [
      "lgr, 3, Accuracy : 0.97662\n"
     ]
    },
    {
     "name": "stderr",
     "output_type": "stream",
     "text": [
      "/opt/conda/lib/python3.7/site-packages/sklearn/linear_model/_logistic.py:818: ConvergenceWarning: lbfgs failed to converge (status=1):\n",
      "STOP: TOTAL NO. of ITERATIONS REACHED LIMIT.\n",
      "\n",
      "Increase the number of iterations (max_iter) or scale the data as shown in:\n",
      "    https://scikit-learn.org/stable/modules/preprocessing.html\n",
      "Please also refer to the documentation for alternative solver options:\n",
      "    https://scikit-learn.org/stable/modules/linear_model.html#logistic-regression\n",
      "  extra_warning_msg=_LOGISTIC_SOLVER_CONVERGENCE_MSG,\n"
     ]
    },
    {
     "name": "stdout",
     "output_type": "stream",
     "text": [
      "lgr, 4, Accuracy : 0.97572\n"
     ]
    },
    {
     "name": "stderr",
     "output_type": "stream",
     "text": [
      "/opt/conda/lib/python3.7/site-packages/sklearn/linear_model/_logistic.py:818: ConvergenceWarning: lbfgs failed to converge (status=1):\n",
      "STOP: TOTAL NO. of ITERATIONS REACHED LIMIT.\n",
      "\n",
      "Increase the number of iterations (max_iter) or scale the data as shown in:\n",
      "    https://scikit-learn.org/stable/modules/preprocessing.html\n",
      "Please also refer to the documentation for alternative solver options:\n",
      "    https://scikit-learn.org/stable/modules/linear_model.html#logistic-regression\n",
      "  extra_warning_msg=_LOGISTIC_SOLVER_CONVERGENCE_MSG,\n"
     ]
    },
    {
     "name": "stdout",
     "output_type": "stream",
     "text": [
      "lgr, 5, Accuracy : 0.97660\n",
      "\n",
      "Best : swin_large_patch4_window12_384_in22k_lgr_1\n",
      "\n",
      "**************************************************\n",
      "\n",
      "knc, 1, Accuracy : 0.94604\n",
      "knc, 2, Accuracy : 0.94514\n",
      "knc, 3, Accuracy : 0.93705\n",
      "knc, 4, Accuracy : 0.94155\n",
      "knc, 5, Accuracy : 0.94059\n",
      "\n",
      "Best : swin_large_patch4_window12_384_in22k_knc_1\n",
      "\n",
      "**************************************************\n",
      "\n",
      "svc, 1, Accuracy : 0.97932\n",
      "svc, 2, Accuracy : 0.97572\n",
      "svc, 3, Accuracy : 0.97482\n",
      "svc, 4, Accuracy : 0.97032\n",
      "svc, 5, Accuracy : 0.96850\n",
      "\n",
      "Best : swin_large_patch4_window12_384_in22k_svc_1\n",
      "\n",
      "**************************************************\n",
      "\n",
      "dtc, 1, Accuracy : 0.77608\n",
      "dtc, 2, Accuracy : 0.75360\n",
      "dtc, 3, Accuracy : 0.78058\n",
      "dtc, 4, Accuracy : 0.79406\n",
      "dtc, 5, Accuracy : 0.79838\n",
      "\n",
      "Best : swin_large_patch4_window12_384_in22k_dtc_5\n",
      "\n",
      "**************************************************\n",
      "\n",
      "etc, 1, Accuracy : 0.65737\n",
      "etc, 2, Accuracy : 0.65647\n",
      "etc, 3, Accuracy : 0.63669\n",
      "etc, 4, Accuracy : 0.65198\n",
      "etc, 5, Accuracy : 0.65527\n",
      "\n",
      "Best : swin_large_patch4_window12_384_in22k_etc_1\n",
      "\n",
      "**************************************************\n",
      "\n",
      "rfc, 1, Accuracy : 0.96493\n",
      "rfc, 2, Accuracy : 0.95324\n",
      "rfc, 3, Accuracy : 0.95594\n",
      "rfc, 4, Accuracy : 0.94604\n",
      "rfc, 5, Accuracy : 0.96220\n",
      "\n",
      "Best : swin_large_patch4_window12_384_in22k_rfc_1\n",
      "\n",
      "**************************************************\n",
      "\n",
      "etcs, 1, Accuracy : 0.96403\n",
      "etcs, 2, Accuracy : 0.94964\n",
      "etcs, 3, Accuracy : 0.95144\n",
      "etcs, 4, Accuracy : 0.95234\n",
      "etcs, 5, Accuracy : 0.95680\n",
      "\n",
      "Best : swin_large_patch4_window12_384_in22k_etcs_1\n",
      "\n",
      "**************************************************\n",
      "\n",
      "gnb, 1, Accuracy : 0.68255\n",
      "gnb, 2, Accuracy : 0.64029\n",
      "gnb, 3, Accuracy : 0.69784\n",
      "gnb, 4, Accuracy : 0.63129\n",
      "gnb, 5, Accuracy : 0.71917\n",
      "\n",
      "Best : swin_large_patch4_window12_384_in22k_gnb_5\n",
      "\n",
      "**************************************************\n",
      "\n",
      "SWIN_BASE_PATCH4_WINDOW12_384_IN22K\n",
      "\n",
      "**************************************************\n",
      "\n"
     ]
    },
    {
     "name": "stderr",
     "output_type": "stream",
     "text": [
      "/opt/conda/lib/python3.7/site-packages/sklearn/linear_model/_logistic.py:818: ConvergenceWarning: lbfgs failed to converge (status=1):\n",
      "STOP: TOTAL NO. of ITERATIONS REACHED LIMIT.\n",
      "\n",
      "Increase the number of iterations (max_iter) or scale the data as shown in:\n",
      "    https://scikit-learn.org/stable/modules/preprocessing.html\n",
      "Please also refer to the documentation for alternative solver options:\n",
      "    https://scikit-learn.org/stable/modules/linear_model.html#logistic-regression\n",
      "  extra_warning_msg=_LOGISTIC_SOLVER_CONVERGENCE_MSG,\n"
     ]
    },
    {
     "name": "stdout",
     "output_type": "stream",
     "text": [
      "lgr, 1, Accuracy : 0.97212\n"
     ]
    },
    {
     "name": "stderr",
     "output_type": "stream",
     "text": [
      "/opt/conda/lib/python3.7/site-packages/sklearn/linear_model/_logistic.py:818: ConvergenceWarning: lbfgs failed to converge (status=1):\n",
      "STOP: TOTAL NO. of ITERATIONS REACHED LIMIT.\n",
      "\n",
      "Increase the number of iterations (max_iter) or scale the data as shown in:\n",
      "    https://scikit-learn.org/stable/modules/preprocessing.html\n",
      "Please also refer to the documentation for alternative solver options:\n",
      "    https://scikit-learn.org/stable/modules/linear_model.html#logistic-regression\n",
      "  extra_warning_msg=_LOGISTIC_SOLVER_CONVERGENCE_MSG,\n"
     ]
    },
    {
     "name": "stdout",
     "output_type": "stream",
     "text": [
      "lgr, 2, Accuracy : 0.97302\n"
     ]
    },
    {
     "name": "stderr",
     "output_type": "stream",
     "text": [
      "/opt/conda/lib/python3.7/site-packages/sklearn/linear_model/_logistic.py:818: ConvergenceWarning: lbfgs failed to converge (status=1):\n",
      "STOP: TOTAL NO. of ITERATIONS REACHED LIMIT.\n",
      "\n",
      "Increase the number of iterations (max_iter) or scale the data as shown in:\n",
      "    https://scikit-learn.org/stable/modules/preprocessing.html\n",
      "Please also refer to the documentation for alternative solver options:\n",
      "    https://scikit-learn.org/stable/modules/linear_model.html#logistic-regression\n",
      "  extra_warning_msg=_LOGISTIC_SOLVER_CONVERGENCE_MSG,\n"
     ]
    },
    {
     "name": "stdout",
     "output_type": "stream",
     "text": [
      "lgr, 3, Accuracy : 0.97122\n"
     ]
    },
    {
     "name": "stderr",
     "output_type": "stream",
     "text": [
      "/opt/conda/lib/python3.7/site-packages/sklearn/linear_model/_logistic.py:818: ConvergenceWarning: lbfgs failed to converge (status=1):\n",
      "STOP: TOTAL NO. of ITERATIONS REACHED LIMIT.\n",
      "\n",
      "Increase the number of iterations (max_iter) or scale the data as shown in:\n",
      "    https://scikit-learn.org/stable/modules/preprocessing.html\n",
      "Please also refer to the documentation for alternative solver options:\n",
      "    https://scikit-learn.org/stable/modules/linear_model.html#logistic-regression\n",
      "  extra_warning_msg=_LOGISTIC_SOLVER_CONVERGENCE_MSG,\n"
     ]
    },
    {
     "name": "stdout",
     "output_type": "stream",
     "text": [
      "lgr, 4, Accuracy : 0.96763\n"
     ]
    },
    {
     "name": "stderr",
     "output_type": "stream",
     "text": [
      "/opt/conda/lib/python3.7/site-packages/sklearn/linear_model/_logistic.py:818: ConvergenceWarning: lbfgs failed to converge (status=1):\n",
      "STOP: TOTAL NO. of ITERATIONS REACHED LIMIT.\n",
      "\n",
      "Increase the number of iterations (max_iter) or scale the data as shown in:\n",
      "    https://scikit-learn.org/stable/modules/preprocessing.html\n",
      "Please also refer to the documentation for alternative solver options:\n",
      "    https://scikit-learn.org/stable/modules/linear_model.html#logistic-regression\n",
      "  extra_warning_msg=_LOGISTIC_SOLVER_CONVERGENCE_MSG,\n"
     ]
    },
    {
     "name": "stdout",
     "output_type": "stream",
     "text": [
      "lgr, 5, Accuracy : 0.97210\n",
      "\n",
      "Best : swin_base_patch4_window12_384_in22k_lgr_2\n",
      "\n",
      "**************************************************\n",
      "\n",
      "knc, 1, Accuracy : 0.95324\n",
      "knc, 2, Accuracy : 0.95144\n",
      "knc, 3, Accuracy : 0.95234\n",
      "knc, 4, Accuracy : 0.95234\n",
      "knc, 5, Accuracy : 0.95680\n",
      "\n",
      "Best : swin_base_patch4_window12_384_in22k_knc_5\n",
      "\n",
      "**************************************************\n",
      "\n",
      "svc, 1, Accuracy : 0.96493\n",
      "svc, 2, Accuracy : 0.96493\n",
      "svc, 3, Accuracy : 0.95504\n",
      "svc, 4, Accuracy : 0.95953\n",
      "svc, 5, Accuracy : 0.95770\n",
      "\n",
      "Best : swin_base_patch4_window12_384_in22k_svc_1\n",
      "\n",
      "**************************************************\n",
      "\n",
      "dtc, 1, Accuracy : 0.77878\n",
      "dtc, 2, Accuracy : 0.79317\n",
      "dtc, 3, Accuracy : 0.79227\n",
      "dtc, 4, Accuracy : 0.79766\n",
      "dtc, 5, Accuracy : 0.78578\n",
      "\n",
      "Best : swin_base_patch4_window12_384_in22k_dtc_4\n",
      "\n",
      "**************************************************\n",
      "\n",
      "etc, 1, Accuracy : 0.66277\n",
      "etc, 2, Accuracy : 0.66817\n",
      "etc, 3, Accuracy : 0.65827\n",
      "etc, 4, Accuracy : 0.70414\n",
      "etc, 5, Accuracy : 0.68137\n",
      "\n",
      "Best : swin_base_patch4_window12_384_in22k_etc_4\n",
      "\n",
      "**************************************************\n",
      "\n",
      "rfc, 1, Accuracy : 0.95414\n",
      "rfc, 2, Accuracy : 0.95773\n",
      "rfc, 3, Accuracy : 0.95504\n",
      "rfc, 4, Accuracy : 0.94604\n",
      "rfc, 5, Accuracy : 0.95320\n",
      "\n",
      "Best : swin_base_patch4_window12_384_in22k_rfc_2\n",
      "\n",
      "**************************************************\n",
      "\n",
      "etcs, 1, Accuracy : 0.95324\n",
      "etcs, 2, Accuracy : 0.94424\n",
      "etcs, 3, Accuracy : 0.94065\n",
      "etcs, 4, Accuracy : 0.95144\n",
      "etcs, 5, Accuracy : 0.94599\n",
      "\n",
      "Best : swin_base_patch4_window12_384_in22k_etcs_1\n",
      "\n",
      "**************************************************\n",
      "\n",
      "gnb, 1, Accuracy : 0.48921\n",
      "gnb, 2, Accuracy : 0.57014\n",
      "gnb, 3, Accuracy : 0.53597\n",
      "gnb, 4, Accuracy : 0.49191\n",
      "gnb, 5, Accuracy : 0.53015\n",
      "\n",
      "Best : swin_base_patch4_window12_384_in22k_gnb_2\n",
      "\n",
      "**************************************************\n",
      "\n",
      "Overall Best Model : swin_large_patch4_window12_384_in22k_lgr_1\n",
      "\n",
      "**************************************************\n",
      "\n"
     ]
    }
   ],
   "source": [
    "names: list = [\"lgr\", \"knc\", \"svc\", \"dtc\", \"etc\", \"rfc\", \"etcs\", \"gnb\"]\n",
    "\n",
    "model_names: list = [\n",
    "    \"swin_large_patch4_window12_384_in22k\",\n",
    "    \"swin_base_patch4_window12_384_in22k\",\n",
    "]\n",
    "\n",
    "overall_best_acc: float = 0.0\n",
    "for model_name in model_names:\n",
    "    X = np.load(os.path.join(cfg.features_path, f\"tr_{model_name}.npy\"))\n",
    "    if cfg.show_info: \n",
    "        breaker()\n",
    "        print(f\"{model_name.upper()}\")\n",
    "    for name in names:\n",
    "        fold: int = 1\n",
    "        best_name: str = None\n",
    "        best_acc: float = 0.0\n",
    "        if cfg.show_info: breaker()\n",
    "        for tr_idx, va_idx in StratifiedKFold(n_splits=cfg.n_splits, random_state=cfg.seed, shuffle=True).split(X, y):\n",
    "            X_train, X_valid, y_train, y_valid = X[tr_idx], X[va_idx], y[tr_idx], y[va_idx]\n",
    "            my_pipeline = Model(name, cfg.seed)\n",
    "            my_pipeline.model.fit(X_train, y_train)\n",
    "\n",
    "            y_pred = my_pipeline.model.predict(X_valid)\n",
    "            if cfg.show_info:\n",
    "                acc = accuracy_score(y_pred, y_valid)\n",
    "                print(f\"{my_pipeline.model_name}, {fold}, Accuracy : {acc:.5f}\")\n",
    "            else:\n",
    "                acc = accuracy_score(y_pred, y_valid)\n",
    "\n",
    "            if acc > overall_best_acc:\n",
    "                overall_best_acc = acc\n",
    "                overall_best_name = f\"{model_name}_{name}_{fold}\"\n",
    "\n",
    "            if acc > best_acc:\n",
    "                best_acc = acc\n",
    "                best_name = f\"{model_name}_{name}_{fold}\"\n",
    "\n",
    "            with open(os.path.join(cfg.model_save_path, f\"{model_name}_{name}_{fold}.pkl\"), \"wb\") as fp: pickle.dump(my_pipeline.model, fp)\n",
    "            fold += 1\n",
    "\n",
    "        print(f\"\\nBest : {best_name}\")\n",
    "\n",
    "\n",
    "if cfg.show_info: \n",
    "    breaker()\n",
    "    print(f\"Overall Best Model : {overall_best_name}\")\n",
    "\n",
    "breaker()"
   ]
  },
  {
   "cell_type": "code",
   "execution_count": 7,
   "id": "cf062336",
   "metadata": {
    "execution": {
     "iopub.execute_input": "2022-11-26T09:48:43.361753Z",
     "iopub.status.busy": "2022-11-26T09:48:43.361368Z",
     "iopub.status.idle": "2022-11-26T09:48:43.366296Z",
     "shell.execute_reply": "2022-11-26T09:48:43.365215Z"
    },
    "papermill": {
     "duration": 0.016116,
     "end_time": "2022-11-26T09:48:43.368499",
     "exception": false,
     "start_time": "2022-11-26T09:48:43.352383",
     "status": "completed"
    },
    "tags": []
   },
   "outputs": [],
   "source": [
    "# ts_features = np.load(os.path.join(cfg.features_path, f\"ts_{model_names[0]}.npy\"))\n",
    "# model = pickle.load(open(os.path.join(cfg.model_save_path, f\"{overall_best_name}.pkl\"), \"rb\"))\n",
    "# y_pred = model.predict(ts_features)\n",
    "\n",
    "# ss_df = pd.read_csv(\"/kaggle/input/kitchenware-classification/sample_submission.csv\")\n",
    "# ss_df.label = y_pred.astype(\"uint8\")\n",
    "# ss_df.to_csv(\"submission.csv\", index=False)"
   ]
  }
 ],
 "metadata": {
  "kernelspec": {
   "display_name": "Python 3",
   "language": "python",
   "name": "python3"
  },
  "language_info": {
   "codemirror_mode": {
    "name": "ipython",
    "version": 3
   },
   "file_extension": ".py",
   "mimetype": "text/x-python",
   "name": "python",
   "nbconvert_exporter": "python",
   "pygments_lexer": "ipython3",
   "version": "3.7.12"
  },
  "papermill": {
   "default_parameters": {},
   "duration": 339.311772,
   "end_time": "2022-11-26T09:48:44.201528",
   "environment_variables": {},
   "exception": null,
   "input_path": "__notebook__.ipynb",
   "output_path": "__notebook__.ipynb",
   "parameters": {},
   "start_time": "2022-11-26T09:43:04.889756",
   "version": "2.3.4"
  }
 },
 "nbformat": 4,
 "nbformat_minor": 5
}
