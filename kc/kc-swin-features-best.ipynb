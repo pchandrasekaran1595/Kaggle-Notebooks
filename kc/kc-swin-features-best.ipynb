{
 "cells": [
  {
   "cell_type": "code",
   "execution_count": 1,
   "id": "bed47c0e",
   "metadata": {
    "_cell_guid": "b1076dfc-b9ad-4769-8c92-a6c4dae69d19",
    "_uuid": "8f2839f25d086af736a60e9eeb907d3b93b6e0e5",
    "execution": {
     "iopub.execute_input": "2022-11-26T12:10:39.001773Z",
     "iopub.status.busy": "2022-11-26T12:10:39.000911Z",
     "iopub.status.idle": "2022-11-26T12:10:39.775722Z",
     "shell.execute_reply": "2022-11-26T12:10:39.774449Z"
    },
    "papermill": {
     "duration": 0.782929,
     "end_time": "2022-11-26T12:10:39.778677",
     "exception": false,
     "start_time": "2022-11-26T12:10:38.995748",
     "status": "completed"
    },
    "tags": []
   },
   "outputs": [],
   "source": [
    "import os, pickle\n",
    "import numpy as np\n",
    "import pandas as pd\n",
    "from scipy import stats\n",
    "\n",
    "FEATURES_BASE_PATH: str = \"/kaggle/input/kc-swin-features\"\n",
    "MODELS_BASE_PATH: str = \"/kaggle/input/kc-swin-features-train/models\"\n",
    "MODEL_NAMES: list = os.listdir(MODELS_BASE_PATH)\n",
    "INT_TO_STR: dict = {\n",
    "    0 : \"cup\",\n",
    "    1 : \"fork\",\n",
    "    2 : \"glass\",\n",
    "    3 : \"knife\",\n",
    "    4 : \"plate\",\n",
    "    5 : \"spoon\"\n",
    "}"
   ]
  },
  {
   "cell_type": "code",
   "execution_count": 2,
   "id": "494b0043",
   "metadata": {
    "execution": {
     "iopub.execute_input": "2022-11-26T12:10:39.788112Z",
     "iopub.status.busy": "2022-11-26T12:10:39.786878Z",
     "iopub.status.idle": "2022-11-26T12:10:40.588805Z",
     "shell.execute_reply": "2022-11-26T12:10:40.586852Z"
    },
    "papermill": {
     "duration": 0.810343,
     "end_time": "2022-11-26T12:10:40.593492",
     "exception": false,
     "start_time": "2022-11-26T12:10:39.783149",
     "status": "completed"
    },
    "tags": []
   },
   "outputs": [],
   "source": [
    "model = pickle.load(open(os.path.join(MODELS_BASE_PATH, \"swin_large_patch4_window12_384_in22k_lgr_1.pkl\"), \"rb\"))\n",
    "ts_features = np.load(f\"{FEATURES_BASE_PATH}/ts_swin_large_patch4_window12_384_in22k.npy\")\n",
    "\n",
    "y_pred = model.predict(ts_features)\n",
    "y_pred = [INT_TO_STR[int(sample)] for sample in y_pred]\n",
    "                                    \n",
    "ss_df = pd.read_csv(\"/kaggle/input/kitchenware-classification/sample_submission.csv\")\n",
    "ss_df.label = y_pred\n",
    "ss_df.to_csv(\"submission.csv\", index=False)"
   ]
  }
 ],
 "metadata": {
  "kernelspec": {
   "display_name": "Python 3",
   "language": "python",
   "name": "python3"
  },
  "language_info": {
   "codemirror_mode": {
    "name": "ipython",
    "version": 3
   },
   "file_extension": ".py",
   "mimetype": "text/x-python",
   "name": "python",
   "nbconvert_exporter": "python",
   "pygments_lexer": "ipython3",
   "version": "3.7.12"
  },
  "papermill": {
   "default_parameters": {},
   "duration": 13.151803,
   "end_time": "2022-11-26T12:10:43.272307",
   "environment_variables": {},
   "exception": null,
   "input_path": "__notebook__.ipynb",
   "output_path": "__notebook__.ipynb",
   "parameters": {},
   "start_time": "2022-11-26T12:10:30.120504",
   "version": "2.3.4"
  }
 },
 "nbformat": 4,
 "nbformat_minor": 5
}
