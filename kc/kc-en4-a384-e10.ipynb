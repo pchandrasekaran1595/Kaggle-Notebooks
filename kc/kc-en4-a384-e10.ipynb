{
 "cells": [
  {
   "cell_type": "markdown",
   "id": "e2525420",
   "metadata": {
    "_cell_guid": "b1076dfc-b9ad-4769-8c92-a6c4dae69d19",
    "_uuid": "8f2839f25d086af736a60e9eeb907d3b93b6e0e5",
    "papermill": {
     "duration": 0.004969,
     "end_time": "2022-11-26T03:04:00.141174",
     "exception": false,
     "start_time": "2022-11-26T03:04:00.136205",
     "status": "completed"
    },
    "tags": []
   },
   "source": [
    "### **Setup**"
   ]
  },
  {
   "cell_type": "code",
   "execution_count": 1,
   "id": "2e9b3b27",
   "metadata": {
    "execution": {
     "iopub.execute_input": "2022-11-26T03:04:00.150976Z",
     "iopub.status.busy": "2022-11-26T03:04:00.150240Z",
     "iopub.status.idle": "2022-11-26T03:04:12.380592Z",
     "shell.execute_reply": "2022-11-26T03:04:12.379071Z"
    },
    "papermill": {
     "duration": 12.237838,
     "end_time": "2022-11-26T03:04:12.382995",
     "exception": false,
     "start_time": "2022-11-26T03:04:00.145157",
     "status": "completed"
    },
    "tags": []
   },
   "outputs": [
    {
     "name": "stderr",
     "output_type": "stream",
     "text": [
      "WARNING: Running pip as the 'root' user can result in broken permissions and conflicting behaviour with the system package manager. It is recommended to use a virtual environment instead: https://pip.pypa.io/warnings/venv\n"
     ]
    }
   ],
   "source": [
    "%%bash\n",
    "pip install timm -q"
   ]
  },
  {
   "cell_type": "markdown",
   "id": "66f7222a",
   "metadata": {
    "papermill": {
     "duration": 0.00382,
     "end_time": "2022-11-26T03:04:12.391013",
     "exception": false,
     "start_time": "2022-11-26T03:04:12.387193",
     "status": "completed"
    },
    "tags": []
   },
   "source": [
    "### **Library Imports**"
   ]
  },
  {
   "cell_type": "code",
   "execution_count": 2,
   "id": "c400f49c",
   "metadata": {
    "execution": {
     "iopub.execute_input": "2022-11-26T03:04:12.400227Z",
     "iopub.status.busy": "2022-11-26T03:04:12.399921Z",
     "iopub.status.idle": "2022-11-26T03:04:16.027253Z",
     "shell.execute_reply": "2022-11-26T03:04:16.026135Z"
    },
    "papermill": {
     "duration": 3.634806,
     "end_time": "2022-11-26T03:04:16.029708",
     "exception": false,
     "start_time": "2022-11-26T03:04:12.394902",
     "status": "completed"
    },
    "tags": []
   },
   "outputs": [],
   "source": [
    "import os\n",
    "import re\n",
    "import cv2\n",
    "import timm\n",
    "import torch\n",
    "import numpy as np\n",
    "import pandas as pd\n",
    "import matplotlib.pyplot as plt\n",
    "\n",
    "from time import time\n",
    "from typing import Union\n",
    "from torch import nn, optim\n",
    "from torch.utils.data import Dataset\n",
    "from torch.utils.data import DataLoader as DL\n",
    "from torchvision import models, transforms\n",
    "\n",
    "from sklearn.model_selection import StratifiedKFold"
   ]
  },
  {
   "cell_type": "markdown",
   "id": "872382a1",
   "metadata": {
    "papermill": {
     "duration": 0.003798,
     "end_time": "2022-11-26T03:04:16.038122",
     "exception": false,
     "start_time": "2022-11-26T03:04:16.034324",
     "status": "completed"
    },
    "tags": []
   },
   "source": [
    "### **Utilities and Helpers**"
   ]
  },
  {
   "cell_type": "code",
   "execution_count": 3,
   "id": "507594e7",
   "metadata": {
    "execution": {
     "iopub.execute_input": "2022-11-26T03:04:16.047820Z",
     "iopub.status.busy": "2022-11-26T03:04:16.047329Z",
     "iopub.status.idle": "2022-11-26T03:04:16.060221Z",
     "shell.execute_reply": "2022-11-26T03:04:16.059171Z"
    },
    "papermill": {
     "duration": 0.020525,
     "end_time": "2022-11-26T03:04:16.062767",
     "exception": false,
     "start_time": "2022-11-26T03:04:16.042242",
     "status": "completed"
    },
    "tags": []
   },
   "outputs": [],
   "source": [
    "SEED = 42\n",
    "SIZE = 384\n",
    "STR_TO_INT = {\n",
    "    \"cup\"   : 0,\n",
    "    \"fork\"  : 1,\n",
    "    \"glass\" : 2,\n",
    "    \"knife\" : 3,\n",
    "    \"plate\" : 4,\n",
    "    \"spoon\" : 5\n",
    "}\n",
    "\n",
    "\n",
    "def breaker(num: int=50, char: str=\"*\") -> None:\n",
    "    print(\"\\n\" + num*char + \"\\n\")\n",
    "\n",
    "    \n",
    "def get_image(path: str, size: int=224) -> np.ndarray:\n",
    "    image = cv2.imread(path, cv2.IMREAD_COLOR)\n",
    "    image = cv2.cvtColor(src=image, code=cv2.COLOR_BGR2RGB)\n",
    "    return cv2.resize(src=image, dsize=(size, size), interpolation=cv2.INTER_AREA)\n",
    "\n",
    "    \n",
    "def show_loss_graphs(L: list) -> None:\n",
    "    TL, VL = [], []\n",
    "    for i in range(len(L)):\n",
    "        TL.append(L[i][\"train\"])\n",
    "        VL.append(L[i][\"valid\"])\n",
    "    x_Axis = np.arange(1, len(TL) + 1)\n",
    "    plt.figure()\n",
    "    plt.plot(x_Axis, TL, \"r\", label=\"Train\")\n",
    "    plt.plot(x_Axis, VL, \"b\", label=\"Valid\")\n",
    "    plt.legend()\n",
    "    plt.grid()\n",
    "    plt.title(\"Loss Graph\")\n",
    "    plt.show()\n",
    "\n",
    "    \n",
    "def show_accuracy_graphs(A: list) -> None:\n",
    "    TA, VA = [], []\n",
    "    for i in range(len(A)):\n",
    "        TA.append(A[i][\"train\"])\n",
    "        VA.append(A[i][\"valid\"])\n",
    "    x_Axis = np.arange(1, len(TA) + 1)\n",
    "    plt.figure()\n",
    "    plt.plot(x_Axis, TA, \"r\", label=\"Train\")\n",
    "    plt.plot(x_Axis, VA, \"b\", label=\"Valid\")\n",
    "    plt.legend()\n",
    "    plt.grid()\n",
    "    plt.title(\"Accuracy Graph\")\n",
    "    plt.show()\n",
    "    \n",
    "\n",
    "def show_lr_graph(LR: list) -> None:\n",
    "    x_Axis = [i+1 for i in range(len(LR))]\n",
    "    plt.figure(figsize=(8, 6))\n",
    "    plt.plot(x_Axis, LR, \"rx\")\n",
    "    plt.grid()\n",
    "    plt.show()"
   ]
  },
  {
   "cell_type": "markdown",
   "id": "d5920bac",
   "metadata": {
    "papermill": {
     "duration": 0.003883,
     "end_time": "2022-11-26T03:04:16.071130",
     "exception": false,
     "start_time": "2022-11-26T03:04:16.067247",
     "status": "completed"
    },
    "tags": []
   },
   "source": [
    "\n",
    "\n",
    "### **Configuration**"
   ]
  },
  {
   "cell_type": "code",
   "execution_count": 4,
   "id": "242d0ba1",
   "metadata": {
    "execution": {
     "iopub.execute_input": "2022-11-26T03:04:16.080759Z",
     "iopub.status.busy": "2022-11-26T03:04:16.080498Z",
     "iopub.status.idle": "2022-11-26T03:04:16.151416Z",
     "shell.execute_reply": "2022-11-26T03:04:16.150343Z"
    },
    "papermill": {
     "duration": 0.078184,
     "end_time": "2022-11-26T03:04:16.153430",
     "exception": false,
     "start_time": "2022-11-26T03:04:16.075246",
     "status": "completed"
    },
    "tags": []
   },
   "outputs": [],
   "source": [
    "class CFG(object):\n",
    "    def __init__(self, \n",
    "                 seed: int = 42,\n",
    "                 size: int = 224,\n",
    "                 n_splits: int = 5,\n",
    "                 batch_size: int = 16,\n",
    "                 epochs: int = 25,\n",
    "                 early_stopping: int = 5,\n",
    "                 lr: float = 1e-4,\n",
    "                 wd: float = 0.0,\n",
    "                 max_lr: float = 1e-3,\n",
    "                 pct_start: float = 0.2,\n",
    "                 steps_per_epoch: int = 100,\n",
    "                 div_factor: int = 1e3, \n",
    "                 final_div_factor: float = 1e3,\n",
    "                 ):\n",
    "        self.seed = seed\n",
    "        self.size = size\n",
    "        self.n_splits = n_splits\n",
    "        self.batch_size = batch_size\n",
    "        self.epochs = epochs\n",
    "        self.early_stopping = early_stopping\n",
    "        self.lr = lr\n",
    "        self.wd = wd\n",
    "        self.max_lr = max_lr\n",
    "        self.pct_start = pct_start\n",
    "        self.steps_per_epoch = steps_per_epoch\n",
    "        self.div_factor = div_factor\n",
    "        self.final_div_factor = final_div_factor\n",
    "        self.device = torch.device(\"cuda\" if torch.cuda.is_available() else \"cpu\")\n",
    "        \n",
    "        if self.size == 224:\n",
    "            self.train_transform = transforms.Compose([\n",
    "                transforms.ToTensor(),\n",
    "                transforms.Normalize([0.52184, 0.47946, 0.43919], [0.16873, 0.17278, 0.17715]),\n",
    "                transforms.RandomAffine(degrees=(-45, 45), translate=(0.15, 0.15), scale=(0.5, 1.5)),\n",
    "                transforms.RandomHorizontalFlip(p=0.25),\n",
    "                transforms.RandomVerticalFlip(p=0.25),\n",
    "            ])\n",
    "            self.valid_transform = transforms.Compose([\n",
    "                transforms.ToTensor(),\n",
    "                transforms.Normalize([0.52184, 0.47946, 0.43919], [0.16873, 0.17278, 0.17715]),\n",
    "            ])\n",
    "        \n",
    "        if self.size == 384:\n",
    "            self.train_transform = transforms.Compose([\n",
    "                transforms.ToTensor(),\n",
    "                transforms.Normalize([0.52184, 0.47946, 0.43919], [0.17009, 0.17413, 0.17846]),\n",
    "                transforms.RandomAffine(degrees=(-45, 45), translate=(0.15, 0.15), scale=(0.5, 1.5)),\n",
    "                transforms.RandomHorizontalFlip(p=0.25),\n",
    "                transforms.RandomVerticalFlip(p=0.25),\n",
    "            ])\n",
    "            self.valid_transform = transforms.Compose([\n",
    "                transforms.ToTensor(),\n",
    "                transforms.Normalize([0.52184, 0.47946, 0.43919], [0.17009, 0.17413, 0.17846]),\n",
    "            ])\n",
    "        \n",
    "        if self.size == 512:\n",
    "            self.train_transform = transforms.Compose([\n",
    "                transforms.ToTensor(),\n",
    "                transforms.Normalize([0.52181, 0.47943, 0.43916], [0.17060, 0.17464, 0.17896]),\n",
    "                transforms.RandomAffine(degrees=(-45, 45), translate=(0.15, 0.15), scale=(0.5, 1.5)),\n",
    "                transforms.RandomHorizontalFlip(p=0.25),\n",
    "                transforms.RandomVerticalFlip(p=0.25),\n",
    "            ])\n",
    "            self.valid_transform = transforms.Compose([\n",
    "                transforms.ToTensor(),\n",
    "                transforms.Normalize([0.52181, 0.47943, 0.43916], [0.17060, 0.17464, 0.17896]),\n",
    "            ])\n",
    "                                \n",
    "        self.save_path = \"saves\"\n",
    "        if not os.path.exists(self.save_path): os.makedirs(self.save_path)\n",
    "    \n",
    "cfg = CFG(\n",
    "    seed=SEED, \n",
    "    size=SIZE\n",
    ")"
   ]
  },
  {
   "cell_type": "markdown",
   "id": "d75d5eb0",
   "metadata": {
    "papermill": {
     "duration": 0.003715,
     "end_time": "2022-11-26T03:04:16.161316",
     "exception": false,
     "start_time": "2022-11-26T03:04:16.157601",
     "status": "completed"
    },
    "tags": []
   },
   "source": [
    "### **Dataset Template**"
   ]
  },
  {
   "cell_type": "code",
   "execution_count": 5,
   "id": "187c6f26",
   "metadata": {
    "execution": {
     "iopub.execute_input": "2022-11-26T03:04:16.171084Z",
     "iopub.status.busy": "2022-11-26T03:04:16.169943Z",
     "iopub.status.idle": "2022-11-26T03:04:16.177326Z",
     "shell.execute_reply": "2022-11-26T03:04:16.176511Z"
    },
    "papermill": {
     "duration": 0.014308,
     "end_time": "2022-11-26T03:04:16.179525",
     "exception": false,
     "start_time": "2022-11-26T03:04:16.165217",
     "status": "completed"
    },
    "tags": []
   },
   "outputs": [],
   "source": [
    "class DS(Dataset):\n",
    "    def __init__(\n",
    "        self, \n",
    "        filepaths: np.ndarray, \n",
    "        size: int,\n",
    "        labels: Union[np.ndarray, None]=None, \n",
    "        transform=None\n",
    "    ):\n",
    "        \n",
    "        self.filepaths = filepaths\n",
    "        self.labels = labels\n",
    "        self.size = size\n",
    "        self.transform = transform\n",
    "    \n",
    "    def __len__(self):\n",
    "        return self.filepaths.shape[0]\n",
    "    \n",
    "    def __getitem__(self, idx):\n",
    "        image = get_image(self.filepaths[idx], self.size)\n",
    "        if self.labels is None:\n",
    "            return self.transform(image)\n",
    "        return self.transform(image), torch.LongTensor(self.labels[idx])"
   ]
  },
  {
   "cell_type": "markdown",
   "id": "ca8baed6",
   "metadata": {
    "papermill": {
     "duration": 0.00368,
     "end_time": "2022-11-26T03:04:16.187069",
     "exception": false,
     "start_time": "2022-11-26T03:04:16.183389",
     "status": "completed"
    },
    "tags": []
   },
   "source": [
    "### **Model**"
   ]
  },
  {
   "cell_type": "code",
   "execution_count": 6,
   "id": "36f30592",
   "metadata": {
    "execution": {
     "iopub.execute_input": "2022-11-26T03:04:16.195849Z",
     "iopub.status.busy": "2022-11-26T03:04:16.195599Z",
     "iopub.status.idle": "2022-11-26T03:04:16.200943Z",
     "shell.execute_reply": "2022-11-26T03:04:16.200060Z"
    },
    "papermill": {
     "duration": 0.012009,
     "end_time": "2022-11-26T03:04:16.202857",
     "exception": false,
     "start_time": "2022-11-26T03:04:16.190848",
     "status": "completed"
    },
    "tags": []
   },
   "outputs": [],
   "source": [
    "class Model(nn.Module):\n",
    "    def __init__(self):\n",
    "        super(Model, self).__init__()\n",
    "            \n",
    "        self.model = timm.create_model(model_name=\"efficientnet_b4\", pretrained=True)\n",
    "        self.model.classifier = nn.Linear(in_features=self.model.classifier.in_features, out_features=6)\n",
    "\n",
    "    def forward(self, x):\n",
    "        return nn.LogSoftmax(dim=1)(self.model(x))"
   ]
  },
  {
   "cell_type": "markdown",
   "id": "eed1297c",
   "metadata": {
    "papermill": {
     "duration": 0.003893,
     "end_time": "2022-11-26T03:04:16.210709",
     "exception": false,
     "start_time": "2022-11-26T03:04:16.206816",
     "status": "completed"
    },
    "tags": []
   },
   "source": [
    "### **Fit and Predict**"
   ]
  },
  {
   "cell_type": "code",
   "execution_count": 7,
   "id": "97d78cdb",
   "metadata": {
    "execution": {
     "iopub.execute_input": "2022-11-26T03:04:16.219959Z",
     "iopub.status.busy": "2022-11-26T03:04:16.219679Z",
     "iopub.status.idle": "2022-11-26T03:04:16.239866Z",
     "shell.execute_reply": "2022-11-26T03:04:16.238944Z"
    },
    "papermill": {
     "duration": 0.027345,
     "end_time": "2022-11-26T03:04:16.241917",
     "exception": false,
     "start_time": "2022-11-26T03:04:16.214572",
     "status": "completed"
    },
    "tags": []
   },
   "outputs": [],
   "source": [
    "def fit(\n",
    "    model=None,\n",
    "    optimizer=None, \n",
    "    scheduler_rlrop=None,\n",
    "    scheduler_oclr=None,\n",
    "    epochs=None, \n",
    "    early_stopping_patience=None, \n",
    "    dataloaders=None, \n",
    "    fold=None, \n",
    "    save_path=None,\n",
    "    device=None,\n",
    "    verbose=False\n",
    ") -> tuple:\n",
    "    \n",
    "    def get_accuracy(y_pred, y_true):\n",
    "        y_pred = torch.argmax(y_pred, dim=1)\n",
    "        return torch.count_nonzero(y_pred == y_true).item() / len(y_pred)\n",
    "    \n",
    "    \n",
    "    if verbose:\n",
    "        breaker()\n",
    "        if fold: print(f\"Training Fold {fold}...\")\n",
    "        else: print(\"Training ...\")\n",
    "        breaker()\n",
    "        \n",
    "    bestLoss: dict = {\"train\" : np.inf, \"valid\" : np.inf} \n",
    "    bestAccs: dict = {\"train\" : 0.0, \"valid\" : 0.0}\n",
    "    \n",
    "    Losses: list = []\n",
    "    Accuracies: list = [] \n",
    "    LRs: list = []\n",
    "        \n",
    "    if fold: \n",
    "        ble_name = f\"ble_state_fold_{fold}.pt\"\n",
    "        bae_name = f\"bae_state_fold_{fold}.pt\"\n",
    "    else: \n",
    "        ble_name = f\"ble_state.pt\"\n",
    "        bae_name = f\"bae_state.pt\"\n",
    "        \n",
    "    start_time = time()\n",
    "    for e in range(epochs):\n",
    "        e_st = time()\n",
    "        epochLoss: dict = {\"train\" : 0.0, \"valid\" : 0.0} \n",
    "        epochAccs: dict = {\"train\" : 0.0, \"valid\" : 0.0}\n",
    "\n",
    "        for phase in [\"train\", \"valid\"]:\n",
    "            if phase == \"train\":\n",
    "                model.train()\n",
    "            else:\n",
    "                model.eval()\n",
    "            \n",
    "            lossPerPass: list = []\n",
    "            accsPerPass: list = []\n",
    "                \n",
    "            for X, y in dataloaders[phase]:\n",
    "                X, y = X.to(device), y.to(device).view(-1)\n",
    "\n",
    "                optimizer.zero_grad()\n",
    "                with torch.set_grad_enabled(phase == \"train\"):\n",
    "                    output = model(X)\n",
    "                    loss = torch.nn.NLLLoss()(output, y)\n",
    "                    if phase == \"train\":\n",
    "                        loss.backward()\n",
    "                        optimizer.step()\n",
    "                        if scheduler_oclr: scheduler_oclr.step()\n",
    "                lossPerPass.append(loss.item())\n",
    "                accsPerPass.append(get_accuracy(output, y))\n",
    "            epochLoss[phase] = np.mean(np.array(lossPerPass))\n",
    "            epochAccs[phase] = np.mean(np.array(accsPerPass))\n",
    "        if scheduler_oclr: LRs.append(scheduler_oclr.get_last_lr())\n",
    "        Losses.append(epochLoss)\n",
    "        Accuracies.append(epochAccs)\n",
    "        \n",
    "        if scheduler_oclr:\n",
    "            save_dict = {\"model_state_dict\"     : model.state_dict(),\n",
    "                         \"optim_state_dict\"     : optimizer.state_dict(),\n",
    "                         \"scheduler_state_dict\" : scheduler_oclr.state_dict()}\n",
    "        \n",
    "        elif scheduler_rlrop:\n",
    "            save_dict = {\"model_state_dict\"     : model.state_dict(),\n",
    "                         \"optim_state_dict\"     : optimizer.state_dict(),\n",
    "                         \"scheduler_state_dict\" : scheduler_rlrop.state_dict()}\n",
    "        \n",
    "        else:\n",
    "            save_dict = {\"model_state_dict\"     : model.state_dict(),\n",
    "                         \"optim_state_dict\"     : optimizer.state_dict()}\n",
    "        \n",
    "        if early_stopping_patience:\n",
    "            if epochLoss[\"valid\"] < bestLoss[\"valid\"]:\n",
    "                bestLoss = epochLoss\n",
    "                BLE = e + 1\n",
    "                torch.save(save_dict, os.path.join(save_path, ble_name))\n",
    "                torch.save(save_dict, os.path.join(save_path, bae_name))\n",
    "                early_stopping_step = 0\n",
    "            else:\n",
    "                early_stopping_step += 1\n",
    "                if early_stopping_step > early_stopping_patience:\n",
    "                    print(\"\\nEarly Stopping at Epoch {}\".format(e + 1))\n",
    "                    break\n",
    "        \n",
    "        if epochLoss[\"valid\"] < bestLoss[\"valid\"]:\n",
    "            bestLoss = epochLoss\n",
    "            BLE = e + 1\n",
    "            torch.save(save_dict,os.path.join(save_path, ble_name))\n",
    "        \n",
    "        if epochAccs[\"valid\"] > bestAccs[\"valid\"]:\n",
    "            bestAccs = epochAccs\n",
    "            BAE = e + 1\n",
    "            torch.save(save_dict,os.path.join(save_path, bae_name))\n",
    "        \n",
    "        if scheduler_rlrop: scheduler_rlrop.step(epochLoss[\"valid\"])\n",
    "        \n",
    "        if verbose:\n",
    "            print(\"Epoch: {} | Train Loss: {:.5f} | Valid Loss: {:.5f} |\\\n",
    " Train Accs: {:.5f} | Valid Accs: {:.5f} | Time: {:.2f} seconds\".format(e+1, \n",
    "                                                                        epochLoss[\"train\"], epochLoss[\"valid\"], \n",
    "                                                                        epochAccs[\"train\"], epochAccs[\"valid\"], \n",
    "                                                                        time()-e_st))\n",
    "\n",
    "    if verbose:                                           \n",
    "        breaker()\n",
    "        print(f\"Best Validation Loss at Epoch {BLE}\")\n",
    "        breaker()\n",
    "        print(f\"Best Validation Accs at Epoch {BAE}\")\n",
    "        breaker()\n",
    "        print(\"Time Taken [{} Epochs] : {:.2f} minutes\".format(len(Losses), (time()-start_time)/60))\n",
    "    \n",
    "    return Losses, Accuracies, LRs, bestLoss, bestAccs, BLE, BAE, ble_name, bae_name\n",
    "\n",
    "\n",
    "# def predict_batch(model=None, dataloader=None, path=None, device=None) -> np.ndarray:\n",
    "#     model.load_state_dict(torch.load(path, map_location=device)[\"model_state_dict\"])\n",
    "#     model.to(device)    \n",
    "#     model.eval()\n",
    "    \n",
    "#     y_pred = torch.zeros(1, 1).to(device)\n",
    "    \n",
    "#     for X in dataloader:\n",
    "#         X = X.to(device)\n",
    "#         with torch.no_grad():\n",
    "#             output = torch.argmax(torch.exp(model(X)), dim=1)\n",
    "#         y_pred = torch.cat((y_pred, output.view(-1, 1)), dim=0)\n",
    "    \n",
    "#     return y_pred[1:].detach().cpu().numpy()"
   ]
  },
  {
   "cell_type": "markdown",
   "id": "4c444b62",
   "metadata": {
    "papermill": {
     "duration": 0.00371,
     "end_time": "2022-11-26T03:04:16.250248",
     "exception": false,
     "start_time": "2022-11-26T03:04:16.246538",
     "status": "completed"
    },
    "tags": []
   },
   "source": [
    "### **Train**"
   ]
  },
  {
   "cell_type": "code",
   "execution_count": 8,
   "id": "73a03e31",
   "metadata": {
    "execution": {
     "iopub.execute_input": "2022-11-26T03:04:16.259040Z",
     "iopub.status.busy": "2022-11-26T03:04:16.258767Z",
     "iopub.status.idle": "2022-11-26T03:04:16.294976Z",
     "shell.execute_reply": "2022-11-26T03:04:16.294154Z"
    },
    "papermill": {
     "duration": 0.042949,
     "end_time": "2022-11-26T03:04:16.297027",
     "exception": false,
     "start_time": "2022-11-26T03:04:16.254078",
     "status": "completed"
    },
    "tags": []
   },
   "outputs": [],
   "source": [
    "df = pd.read_csv(\"/kaggle/input/kc-dataframe/train.csv\")\n",
    "\n",
    "filepaths = df.filepaths.copy().values\n",
    "labels = df.labels.copy().values\n",
    "labels = np.array([STR_TO_INT[label] for label in labels])"
   ]
  },
  {
   "cell_type": "code",
   "execution_count": 9,
   "id": "9ef2073e",
   "metadata": {
    "execution": {
     "iopub.execute_input": "2022-11-26T03:04:16.305996Z",
     "iopub.status.busy": "2022-11-26T03:04:16.305728Z",
     "iopub.status.idle": "2022-11-26T07:07:23.115330Z",
     "shell.execute_reply": "2022-11-26T07:07:23.113688Z"
    },
    "papermill": {
     "duration": 14586.817087,
     "end_time": "2022-11-26T07:07:23.118028",
     "exception": false,
     "start_time": "2022-11-26T03:04:16.300941",
     "status": "completed"
    },
    "tags": []
   },
   "outputs": [
    {
     "name": "stderr",
     "output_type": "stream",
     "text": [
      "Downloading: \"https://github.com/rwightman/pytorch-image-models/releases/download/v0.1-weights/efficientnet_b4_ra2_320-7eb33cd5.pth\" to /root/.cache/torch/hub/checkpoints/efficientnet_b4_ra2_320-7eb33cd5.pth\n"
     ]
    },
    {
     "name": "stdout",
     "output_type": "stream",
     "text": [
      "\n",
      "**************************************************\n",
      "\n",
      "Training Fold 1...\n",
      "\n",
      "**************************************************\n",
      "\n",
      "Epoch: 1 | Train Loss: 0.97460 | Valid Loss: 0.17691 | Train Accs: 0.68525 | Valid Accs: 0.93571 | Time: 346.83 seconds\n",
      "Epoch: 2 | Train Loss: 0.22235 | Valid Loss: 0.17559 | Train Accs: 0.92758 | Valid Accs: 0.94732 | Time: 294.45 seconds\n",
      "Epoch: 3 | Train Loss: 0.15516 | Valid Loss: 0.16293 | Train Accs: 0.95031 | Valid Accs: 0.95804 | Time: 292.01 seconds\n",
      "Epoch: 4 | Train Loss: 0.11550 | Valid Loss: 0.13060 | Train Accs: 0.96313 | Valid Accs: 0.95804 | Time: 293.37 seconds\n",
      "Epoch: 5 | Train Loss: 0.09333 | Valid Loss: 0.14422 | Train Accs: 0.96692 | Valid Accs: 0.95268 | Time: 290.79 seconds\n",
      "Epoch: 6 | Train Loss: 0.06224 | Valid Loss: 0.11973 | Train Accs: 0.97977 | Valid Accs: 0.96339 | Time: 291.55 seconds\n",
      "Epoch: 7 | Train Loss: 0.04269 | Valid Loss: 0.14240 | Train Accs: 0.98651 | Valid Accs: 0.95982 | Time: 289.89 seconds\n",
      "Epoch: 8 | Train Loss: 0.02836 | Valid Loss: 0.12253 | Train Accs: 0.99078 | Valid Accs: 0.97054 | Time: 291.63 seconds\n",
      "Epoch: 9 | Train Loss: 0.01687 | Valid Loss: 0.14129 | Train Accs: 0.99483 | Valid Accs: 0.96518 | Time: 291.54 seconds\n",
      "Epoch: 10 | Train Loss: 0.01814 | Valid Loss: 0.14185 | Train Accs: 0.99303 | Valid Accs: 0.96964 | Time: 290.32 seconds\n",
      "\n",
      "**************************************************\n",
      "\n",
      "Best Validation Loss at Epoch 6\n",
      "\n",
      "**************************************************\n",
      "\n",
      "Best Validation Accs at Epoch 8\n",
      "\n",
      "**************************************************\n",
      "\n",
      "Time Taken [10 Epochs] : 49.54 minutes\n",
      "\n",
      "**************************************************\n",
      "\n"
     ]
    },
    {
     "data": {
      "image/png": "[encoded data removed]",
      "text/plain": [
       "<Figure size 432x288 with 1 Axes>"
      ]
     },
     "metadata": {
      "needs_background": "light"
     },
     "output_type": "display_data"
    },
    {
     "name": "stdout",
     "output_type": "stream",
     "text": [
      "\n",
      "**************************************************\n",
      "\n"
     ]
    },
    {
     "data": {
      "image/png": "[encoded data removed]",
      "text/plain": [
       "<Figure size 432x288 with 1 Axes>"
      ]
     },
     "metadata": {
      "needs_background": "light"
     },
     "output_type": "display_data"
    },
    {
     "name": "stdout",
     "output_type": "stream",
     "text": [
      "\n",
      "**************************************************\n",
      "\n"
     ]
    },
    {
     "data": {
      "image/png": "[encoded data removed]",
      "text/plain": [
       "<Figure size 576x432 with 1 Axes>"
      ]
     },
     "metadata": {
      "needs_background": "light"
     },
     "output_type": "display_data"
    },
    {
     "name": "stdout",
     "output_type": "stream",
     "text": [
      "\n",
      "**************************************************\n",
      "\n",
      "\n",
      "**************************************************\n",
      "\n",
      "Training Fold 2...\n",
      "\n",
      "**************************************************\n",
      "\n",
      "Epoch: 1 | Train Loss: 0.97244 | Valid Loss: 0.13676 | Train Accs: 0.68503 | Valid Accs: 0.95714 | Time: 291.06 seconds\n",
      "Epoch: 2 | Train Loss: 0.20641 | Valid Loss: 0.16083 | Train Accs: 0.93615 | Valid Accs: 0.94643 | Time: 288.80 seconds\n",
      "Epoch: 3 | Train Loss: 0.16386 | Valid Loss: 0.16786 | Train Accs: 0.94603 | Valid Accs: 0.94911 | Time: 289.56 seconds\n",
      "Epoch: 4 | Train Loss: 0.13123 | Valid Loss: 0.13462 | Train Accs: 0.95526 | Valid Accs: 0.95357 | Time: 290.16 seconds\n",
      "Epoch: 5 | Train Loss: 0.09851 | Valid Loss: 0.12416 | Train Accs: 0.97053 | Valid Accs: 0.95804 | Time: 291.25 seconds\n",
      "Epoch: 6 | Train Loss: 0.06452 | Valid Loss: 0.08990 | Train Accs: 0.97705 | Valid Accs: 0.96786 | Time: 289.88 seconds\n",
      "Epoch: 7 | Train Loss: 0.04294 | Valid Loss: 0.09946 | Train Accs: 0.98582 | Valid Accs: 0.96786 | Time: 289.07 seconds\n",
      "Epoch: 8 | Train Loss: 0.03812 | Valid Loss: 0.09196 | Train Accs: 0.98719 | Valid Accs: 0.96875 | Time: 289.95 seconds\n",
      "Epoch: 9 | Train Loss: 0.02152 | Valid Loss: 0.10395 | Train Accs: 0.99258 | Valid Accs: 0.96696 | Time: 288.33 seconds\n",
      "Epoch: 10 | Train Loss: 0.01780 | Valid Loss: 0.11023 | Train Accs: 0.99460 | Valid Accs: 0.96964 | Time: 289.60 seconds\n",
      "\n",
      "**************************************************\n",
      "\n",
      "Best Validation Loss at Epoch 6\n",
      "\n",
      "**************************************************\n",
      "\n",
      "Best Validation Accs at Epoch 10\n",
      "\n",
      "**************************************************\n",
      "\n",
      "Time Taken [10 Epochs] : 48.29 minutes\n",
      "\n",
      "**************************************************\n",
      "\n"
     ]
    },
    {
     "data": {
      "image/png": "[encoded data removed]",
      "text/plain": [
       "<Figure size 432x288 with 1 Axes>"
      ]
     },
     "metadata": {
      "needs_background": "light"
     },
     "output_type": "display_data"
    },
    {
     "name": "stdout",
     "output_type": "stream",
     "text": [
      "\n",
      "**************************************************\n",
      "\n"
     ]
    },
    {
     "data": {
      "image/png": "[encoded data removed]",
      "text/plain": [
       "<Figure size 432x288 with 1 Axes>"
      ]
     },
     "metadata": {
      "needs_background": "light"
     },
     "output_type": "display_data"
    },
    {
     "name": "stdout",
     "output_type": "stream",
     "text": [
      "\n",
      "**************************************************\n",
      "\n"
     ]
    },
    {
     "data": {
      "image/png": "[encoded data removed]",
      "text/plain": [
       "<Figure size 576x432 with 1 Axes>"
      ]
     },
     "metadata": {
      "needs_background": "light"
     },
     "output_type": "display_data"
    },
    {
     "name": "stdout",
     "output_type": "stream",
     "text": [
      "\n",
      "**************************************************\n",
      "\n",
      "\n",
      "**************************************************\n",
      "\n",
      "Training Fold 3...\n",
      "\n",
      "**************************************************\n",
      "\n",
      "Epoch: 1 | Train Loss: 0.98258 | Valid Loss: 0.15482 | Train Accs: 0.68276 | Valid Accs: 0.95000 | Time: 289.12 seconds\n",
      "Epoch: 2 | Train Loss: 0.18923 | Valid Loss: 0.22559 | Train Accs: 0.93994 | Valid Accs: 0.93839 | Time: 286.64 seconds\n",
      "Epoch: 3 | Train Loss: 0.16635 | Valid Loss: 0.14194 | Train Accs: 0.94715 | Valid Accs: 0.95446 | Time: 290.89 seconds\n",
      "Epoch: 4 | Train Loss: 0.12475 | Valid Loss: 0.17274 | Train Accs: 0.96132 | Valid Accs: 0.94018 | Time: 289.88 seconds\n",
      "Epoch: 5 | Train Loss: 0.08312 | Valid Loss: 0.14893 | Train Accs: 0.97347 | Valid Accs: 0.95179 | Time: 291.08 seconds\n",
      "Epoch: 6 | Train Loss: 0.06740 | Valid Loss: 0.14080 | Train Accs: 0.97797 | Valid Accs: 0.95089 | Time: 290.72 seconds\n",
      "Epoch: 7 | Train Loss: 0.05137 | Valid Loss: 0.14394 | Train Accs: 0.98246 | Valid Accs: 0.96250 | Time: 289.27 seconds\n",
      "Epoch: 8 | Train Loss: 0.02855 | Valid Loss: 0.12448 | Train Accs: 0.99146 | Valid Accs: 0.96518 | Time: 291.61 seconds\n",
      "Epoch: 9 | Train Loss: 0.02495 | Valid Loss: 0.11105 | Train Accs: 0.99281 | Valid Accs: 0.96518 | Time: 291.31 seconds\n",
      "Epoch: 10 | Train Loss: 0.02446 | Valid Loss: 0.11470 | Train Accs: 0.99326 | Valid Accs: 0.96875 | Time: 289.72 seconds\n",
      "\n",
      "**************************************************\n",
      "\n",
      "Best Validation Loss at Epoch 9\n",
      "\n",
      "**************************************************\n",
      "\n",
      "Best Validation Accs at Epoch 10\n",
      "\n",
      "**************************************************\n",
      "\n",
      "Time Taken [10 Epochs] : 48.34 minutes\n",
      "\n",
      "**************************************************\n",
      "\n"
     ]
    },
    {
     "data": {
      "image/png": "[encoded data removed]",
      "text/plain": [
       "<Figure size 432x288 with 1 Axes>"
      ]
     },
     "metadata": {
      "needs_background": "light"
     },
     "output_type": "display_data"
    },
    {
     "name": "stdout",
     "output_type": "stream",
     "text": [
      "\n",
      "**************************************************\n",
      "\n"
     ]
    },
    {
     "data": {
      "image/png": "[encoded data removed]",
      "text/plain": [
       "<Figure size 432x288 with 1 Axes>"
      ]
     },
     "metadata": {
      "needs_background": "light"
     },
     "output_type": "display_data"
    },
    {
     "name": "stdout",
     "output_type": "stream",
     "text": [
      "\n",
      "**************************************************\n",
      "\n"
     ]
    },
    {
     "data": {
      "image/png": "[encoded data removed]",
      "text/plain": [
       "<Figure size 576x432 with 1 Axes>"
      ]
     },
     "metadata": {
      "needs_background": "light"
     },
     "output_type": "display_data"
    },
    {
     "name": "stdout",
     "output_type": "stream",
     "text": [
      "\n",
      "**************************************************\n",
      "\n",
      "\n",
      "**************************************************\n",
      "\n",
      "Training Fold 4...\n",
      "\n",
      "**************************************************\n",
      "\n",
      "Epoch: 1 | Train Loss: 0.96967 | Valid Loss: 0.15026 | Train Accs: 0.69402 | Valid Accs: 0.94375 | Time: 289.85 seconds\n",
      "Epoch: 2 | Train Loss: 0.20094 | Valid Loss: 0.16709 | Train Accs: 0.93503 | Valid Accs: 0.94732 | Time: 288.49 seconds\n",
      "Epoch: 3 | Train Loss: 0.15779 | Valid Loss: 0.16379 | Train Accs: 0.94942 | Valid Accs: 0.95714 | Time: 289.36 seconds\n",
      "Epoch: 4 | Train Loss: 0.11336 | Valid Loss: 0.15191 | Train Accs: 0.96156 | Valid Accs: 0.95536 | Time: 287.96 seconds\n",
      "Epoch: 5 | Train Loss: 0.08924 | Valid Loss: 0.14205 | Train Accs: 0.97212 | Valid Accs: 0.96429 | Time: 290.06 seconds\n",
      "Epoch: 6 | Train Loss: 0.07355 | Valid Loss: 0.12983 | Train Accs: 0.97594 | Valid Accs: 0.96250 | Time: 289.06 seconds\n",
      "Epoch: 7 | Train Loss: 0.03476 | Valid Loss: 0.13705 | Train Accs: 0.98966 | Valid Accs: 0.96875 | Time: 287.85 seconds\n",
      "Epoch: 8 | Train Loss: 0.03095 | Valid Loss: 0.12744 | Train Accs: 0.99056 | Valid Accs: 0.96696 | Time: 288.79 seconds\n",
      "Epoch: 9 | Train Loss: 0.02508 | Valid Loss: 0.13215 | Train Accs: 0.99168 | Valid Accs: 0.96161 | Time: 288.19 seconds\n",
      "Epoch: 10 | Train Loss: 0.02105 | Valid Loss: 0.11405 | Train Accs: 0.99371 | Valid Accs: 0.97143 | Time: 289.47 seconds\n",
      "\n",
      "**************************************************\n",
      "\n",
      "Best Validation Loss at Epoch 10\n",
      "\n",
      "**************************************************\n",
      "\n",
      "Best Validation Accs at Epoch 10\n",
      "\n",
      "**************************************************\n",
      "\n",
      "Time Taken [10 Epochs] : 48.15 minutes\n",
      "\n",
      "**************************************************\n",
      "\n"
     ]
    },
    {
     "data": {
      "image/png": "[encoded data removed]",
      "text/plain": [
       "<Figure size 432x288 with 1 Axes>"
      ]
     },
     "metadata": {
      "needs_background": "light"
     },
     "output_type": "display_data"
    },
    {
     "name": "stdout",
     "output_type": "stream",
     "text": [
      "\n",
      "**************************************************\n",
      "\n"
     ]
    },
    {
     "data": {
      "image/png": "[encoded data removed]",
      "text/plain": [
       "<Figure size 432x288 with 1 Axes>"
      ]
     },
     "metadata": {
      "needs_background": "light"
     },
     "output_type": "display_data"
    },
    {
     "name": "stdout",
     "output_type": "stream",
     "text": [
      "\n",
      "**************************************************\n",
      "\n"
     ]
    },
    {
     "data": {
      "image/png": "[encoded data removed]",
      "text/plain": [
       "<Figure size 576x432 with 1 Axes>"
      ]
     },
     "metadata": {
      "needs_background": "light"
     },
     "output_type": "display_data"
    },
    {
     "name": "stdout",
     "output_type": "stream",
     "text": [
      "\n",
      "**************************************************\n",
      "\n",
      "\n",
      "**************************************************\n",
      "\n",
      "Training Fold 5...\n",
      "\n",
      "**************************************************\n",
      "\n",
      "Epoch: 1 | Train Loss: 0.96980 | Valid Loss: 0.18567 | Train Accs: 0.69222 | Valid Accs: 0.93839 | Time: 292.35 seconds\n",
      "Epoch: 2 | Train Loss: 0.19996 | Valid Loss: 0.21009 | Train Accs: 0.93233 | Valid Accs: 0.93571 | Time: 289.81 seconds\n",
      "Epoch: 3 | Train Loss: 0.16489 | Valid Loss: 0.18769 | Train Accs: 0.94604 | Valid Accs: 0.93304 | Time: 291.73 seconds\n",
      "Epoch: 4 | Train Loss: 0.12268 | Valid Loss: 0.10767 | Train Accs: 0.95751 | Valid Accs: 0.96429 | Time: 292.99 seconds\n",
      "Epoch: 5 | Train Loss: 0.07791 | Valid Loss: 0.15316 | Train Accs: 0.97594 | Valid Accs: 0.96071 | Time: 291.28 seconds\n",
      "Epoch: 6 | Train Loss: 0.06703 | Valid Loss: 0.13159 | Train Accs: 0.97549 | Valid Accs: 0.95625 | Time: 288.32 seconds\n",
      "Epoch: 7 | Train Loss: 0.03745 | Valid Loss: 0.12697 | Train Accs: 0.98719 | Valid Accs: 0.97321 | Time: 291.34 seconds\n",
      "Epoch: 8 | Train Loss: 0.03224 | Valid Loss: 0.11004 | Train Accs: 0.98831 | Valid Accs: 0.97232 | Time: 288.48 seconds\n",
      "Epoch: 9 | Train Loss: 0.02615 | Valid Loss: 0.13765 | Train Accs: 0.99168 | Valid Accs: 0.96429 | Time: 292.30 seconds\n",
      "\n",
      "Early Stopping at Epoch 10\n",
      "\n",
      "**************************************************\n",
      "\n",
      "Best Validation Loss at Epoch 4\n",
      "\n",
      "**************************************************\n",
      "\n",
      "Best Validation Accs at Epoch 7\n",
      "\n",
      "**************************************************\n",
      "\n",
      "Time Taken [10 Epochs] : 48.52 minutes\n",
      "\n",
      "**************************************************\n",
      "\n"
     ]
    },
    {
     "data": {
      "image/png": "[encoded data removed]",
      "text/plain": [
       "<Figure size 432x288 with 1 Axes>"
      ]
     },
     "metadata": {
      "needs_background": "light"
     },
     "output_type": "display_data"
    },
    {
     "name": "stdout",
     "output_type": "stream",
     "text": [
      "\n",
      "**************************************************\n",
      "\n"
     ]
    },
    {
     "data": {
      "image/png": "[encoded data removed]",
      "text/plain": [
       "<Figure size 432x288 with 1 Axes>"
      ]
     },
     "metadata": {
      "needs_background": "light"
     },
     "output_type": "display_data"
    },
    {
     "name": "stdout",
     "output_type": "stream",
     "text": [
      "\n",
      "**************************************************\n",
      "\n"
     ]
    },
    {
     "data": {
      "image/png": "[encoded data removed]",
      "text/plain": [
       "<Figure size 576x432 with 1 Axes>"
      ]
     },
     "metadata": {
      "needs_background": "light"
     },
     "output_type": "display_data"
    },
    {
     "name": "stdout",
     "output_type": "stream",
     "text": [
      "\n",
      "**************************************************\n",
      "\n"
     ]
    }
   ],
   "source": [
    "fold: int = 1\n",
    "BLs: list = []\n",
    "BAs: list = []\n",
    "    \n",
    "cfg.batch_size = 16\n",
    "cfg.epochs = 10\n",
    "    \n",
    "for tr_idx, va_idx in StratifiedKFold(n_splits=cfg.n_splits, random_state=cfg.seed, shuffle=True).split(filepaths, labels):\n",
    "\n",
    "    tr_filepaths, va_filepaths = filepaths[tr_idx], filepaths[va_idx] \n",
    "    tr_labels, va_labels       = labels[tr_idx], labels[va_idx]\n",
    "\n",
    "    tr_data_setup = DS(\n",
    "        filepaths=tr_filepaths, \n",
    "        labels=tr_labels.reshape(-1, 1),\n",
    "        size=cfg.size,\n",
    "        transform=cfg.train_transform\n",
    "    )\n",
    "    \n",
    "    va_data_setup = DS(\n",
    "        filepaths=va_filepaths, \n",
    "        labels=va_labels.reshape(-1, 1),\n",
    "        size=cfg.size,\n",
    "        transform=cfg.train_transform\n",
    "    )\n",
    "\n",
    "    dataloaders = {\n",
    "        \"train\" : DL(tr_data_setup, batch_size=cfg.batch_size, shuffle=True, generator=torch.manual_seed(cfg.seed)),\n",
    "        \"valid\" : DL(va_data_setup, batch_size=cfg.batch_size, shuffle=False),\n",
    "    }\n",
    "\n",
    "    cfg.steps_per_epoch=len(dataloaders[\"train\"])\n",
    "    \n",
    "    torch.manual_seed(cfg.seed)\n",
    "    model = Model().to(cfg.device)\n",
    "\n",
    "    optimizer = optim.Adam([p for p in model.parameters() if p.requires_grad], lr=cfg.lr, weight_decay=cfg.wd)\n",
    "    # optimizer = optim.AdamW([p for p in model.parameters() if p.requires_grad], lr=cfg.lr, weight_decay=cfg.wd)\n",
    "    # optimizer = optim.SGD([p for p in model.parameters() if p.requires_grad], lr=cfg.lr, weight_decay=cfg.wd, momentum=0.9)\n",
    "\n",
    "    scheduler_oclr = optim.lr_scheduler.OneCycleLR(\n",
    "        optimizer=optimizer, \n",
    "        max_lr=cfg.max_lr, \n",
    "        epochs=cfg.epochs, \n",
    "        steps_per_epoch=cfg.steps_per_epoch,\n",
    "        pct_start=cfg.pct_start, \n",
    "        div_factor=cfg.div_factor, \n",
    "        final_div_factor=cfg.final_div_factor\n",
    "    )\n",
    "\n",
    "    # scheduler_rlrop = optim.lr_scheduler.ReduceLROnPlateau(\n",
    "    #     optimizer=optimizer,\n",
    "    #     patience=cfg.patience,\n",
    "    #     eps=cfg.eps,\n",
    "    #     verbose=True\n",
    "    # )\n",
    "\n",
    "    # scheduler_oclr = None\n",
    "    scheduler_rlrop = None\n",
    "\n",
    "\n",
    "    L, A, LR, BL, BA, _, _, _, _ = fit(\n",
    "        model=model, \n",
    "        optimizer=optimizer, \n",
    "        scheduler_oclr=scheduler_oclr,\n",
    "        scheduler_rlrop=scheduler_rlrop,\n",
    "        epochs=cfg.epochs, \n",
    "        early_stopping_patience=cfg.early_stopping, \n",
    "        dataloaders=dataloaders, \n",
    "        device=cfg.device,\n",
    "        save_path=cfg.save_path,\n",
    "        fold=fold,\n",
    "        verbose=True\n",
    "    )\n",
    "\n",
    "\n",
    "    breaker()\n",
    "    show_loss_graphs(L)\n",
    "    breaker()\n",
    "    show_accuracy_graphs(A)\n",
    "    breaker()\n",
    "    if scheduler_oclr:\n",
    "        show_lr_graph(LR)\n",
    "        breaker()\n",
    "    \n",
    "    BLs.append(BL)\n",
    "    BAs.append(BA)\n",
    "    \n",
    "    fold += 1"
   ]
  },
  {
   "cell_type": "markdown",
   "id": "e18bd802",
   "metadata": {
    "papermill": {
     "duration": 0.010589,
     "end_time": "2022-11-26T07:07:23.140413",
     "exception": false,
     "start_time": "2022-11-26T07:07:23.129824",
     "status": "completed"
    },
    "tags": []
   },
   "source": [
    "### **Best Model**"
   ]
  },
  {
   "cell_type": "code",
   "execution_count": 10,
   "id": "37d1cd78",
   "metadata": {
    "execution": {
     "iopub.execute_input": "2022-11-26T07:07:23.164613Z",
     "iopub.status.busy": "2022-11-26T07:07:23.163114Z",
     "iopub.status.idle": "2022-11-26T07:07:23.172465Z",
     "shell.execute_reply": "2022-11-26T07:07:23.171582Z"
    },
    "papermill": {
     "duration": 0.023264,
     "end_time": "2022-11-26T07:07:23.174566",
     "exception": false,
     "start_time": "2022-11-26T07:07:23.151302",
     "status": "completed"
    },
    "tags": []
   },
   "outputs": [
    {
     "name": "stdout",
     "output_type": "stream",
     "text": [
      "\n",
      "**************************************************\n",
      "\n",
      "Best Loss Model Fold     : 2\n",
      "Best Accuracy Model Fold : 5\n",
      "\n",
      "**************************************************\n",
      "\n"
     ]
    }
   ],
   "source": [
    "BL = np.inf\n",
    "for i in range(len(BLs)):\n",
    "    if BLs[i][\"valid\"] < BL:\n",
    "        BL = BLs[i][\"valid\"]\n",
    "        best_loss_index = i\n",
    "\n",
    "        \n",
    "BA = 0.0\n",
    "for i in range(len(BAs)):\n",
    "    if BAs[i][\"valid\"] > BA:\n",
    "        BA = BAs[i][\"valid\"]\n",
    "        best_accs_index = i\n",
    "\n",
    "breaker()\n",
    "print(f\"Best Loss Model Fold     : {best_loss_index + 1}\")\n",
    "print(f\"Best Accuracy Model Fold : {best_accs_index + 1}\")\n",
    "breaker()"
   ]
  }
 ],
 "metadata": {
  "kernelspec": {
   "display_name": "Python 3",
   "language": "python",
   "name": "python3"
  },
  "language_info": {
   "codemirror_mode": {
    "name": "ipython",
    "version": 3
   },
   "file_extension": ".py",
   "mimetype": "text/x-python",
   "name": "python",
   "nbconvert_exporter": "python",
   "pygments_lexer": "ipython3",
   "version": "3.7.12"
  },
  "papermill": {
   "default_parameters": {},
   "duration": 14612.20692,
   "end_time": "2022-11-26T07:07:24.930549",
   "environment_variables": {},
   "exception": null,
   "input_path": "__notebook__.ipynb",
   "output_path": "__notebook__.ipynb",
   "parameters": {},
   "start_time": "2022-11-26T03:03:52.723629",
   "version": "2.3.4"
  }
 },
 "nbformat": 4,
 "nbformat_minor": 5
}
