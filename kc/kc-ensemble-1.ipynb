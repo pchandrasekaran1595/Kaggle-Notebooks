{
 "cells": [
  {
   "cell_type": "code",
   "execution_count": 1,
   "id": "4f34b57e",
   "metadata": {
    "_cell_guid": "b1076dfc-b9ad-4769-8c92-a6c4dae69d19",
    "_uuid": "8f2839f25d086af736a60e9eeb907d3b93b6e0e5",
    "execution": {
     "iopub.execute_input": "2022-11-26T12:43:49.508486Z",
     "iopub.status.busy": "2022-11-26T12:43:49.507688Z",
     "iopub.status.idle": "2022-11-26T12:43:50.455865Z",
     "shell.execute_reply": "2022-11-26T12:43:50.454812Z"
    },
    "papermill": {
     "duration": 0.956891,
     "end_time": "2022-11-26T12:43:50.458679",
     "exception": false,
     "start_time": "2022-11-26T12:43:49.501788",
     "status": "completed"
    },
    "tags": []
   },
   "outputs": [],
   "source": [
    "import numpy as np\n",
    "import pandas as pd\n",
    "from scipy import stats"
   ]
  },
  {
   "cell_type": "code",
   "execution_count": 2,
   "id": "9f8d7d42",
   "metadata": {
    "execution": {
     "iopub.execute_input": "2022-11-26T12:43:50.464089Z",
     "iopub.status.busy": "2022-11-26T12:43:50.463685Z",
     "iopub.status.idle": "2022-11-26T12:43:50.691672Z",
     "shell.execute_reply": "2022-11-26T12:43:50.689605Z"
    },
    "papermill": {
     "duration": 0.234531,
     "end_time": "2022-11-26T12:43:50.695261",
     "exception": false,
     "start_time": "2022-11-26T12:43:50.460730",
     "status": "completed"
    },
    "tags": []
   },
   "outputs": [
    {
     "name": "stderr",
     "output_type": "stream",
     "text": [
      "/opt/conda/lib/python3.7/site-packages/ipykernel_launcher.py:10: UserWarning: Pandas doesn't allow columns to be created via a new attribute name - see https://pandas.pydata.org/pandas-docs/stable/indexing.html#attribute-access\n",
      "  # Remove the CWD from sys.path while we load stuff.\n"
     ]
    }
   ],
   "source": [
    "sub_df_1 = pd.read_csv(\"/kaggle/input/kc-swin-features-best/submission.csv\")\n",
    "sub_df_2 = pd.read_csv(\"/kaggle/input/kc-en4-a384-e10-b-la-mode-infer/submission.csv\")\n",
    "\n",
    "y_pred_1 = sub_df_1.label.copy().values.reshape(1, -1)\n",
    "y_pred_2 = sub_df_2.label.copy().values.reshape(1, -1)\n",
    "\n",
    "y_pred = np.concatenate((y_pred_1, y_pred_2), axis=0)\n",
    "y_pred = stats.mode(y_pred)[0].reshape(-1)\n",
    "\n",
    "sub_df_1.labels = y_pred\n",
    "sub_df_1.to_csv(\"submission.csv\", index=False)"
   ]
  }
 ],
 "metadata": {
  "kernelspec": {
   "display_name": "Python 3",
   "language": "python",
   "name": "python3"
  },
  "language_info": {
   "codemirror_mode": {
    "name": "ipython",
    "version": 3
   },
   "file_extension": ".py",
   "mimetype": "text/x-python",
   "name": "python",
   "nbconvert_exporter": "python",
   "pygments_lexer": "ipython3",
   "version": "3.7.12"
  },
  "papermill": {
   "default_parameters": {},
   "duration": 11.175544,
   "end_time": "2022-11-26T12:43:51.420460",
   "environment_variables": {},
   "exception": null,
   "input_path": "__notebook__.ipynb",
   "output_path": "__notebook__.ipynb",
   "parameters": {},
   "start_time": "2022-11-26T12:43:40.244916",
   "version": "2.3.4"
  }
 },
 "nbformat": 4,
 "nbformat_minor": 5
}
