{
 "cells": [
  {
   "cell_type": "markdown",
   "id": "3d68d2f6",
   "metadata": {
    "_cell_guid": "b1076dfc-b9ad-4769-8c92-a6c4dae69d19",
    "_uuid": "8f2839f25d086af736a60e9eeb907d3b93b6e0e5",
    "papermill": {
     "duration": 0.004442,
     "end_time": "2023-01-22T06:10:54.100572",
     "exception": false,
     "start_time": "2023-01-22T06:10:54.096130",
     "status": "completed"
    },
    "tags": []
   },
   "source": [
    "### **Setup**"
   ]
  },
  {
   "cell_type": "code",
   "execution_count": 1,
   "id": "a9171f51",
   "metadata": {
    "execution": {
     "iopub.execute_input": "2023-01-22T06:10:54.109413Z",
     "iopub.status.busy": "2023-01-22T06:10:54.108723Z",
     "iopub.status.idle": "2023-01-22T06:11:05.430344Z",
     "shell.execute_reply": "2023-01-22T06:11:05.428846Z"
    },
    "papermill": {
     "duration": 11.329016,
     "end_time": "2023-01-22T06:11:05.433154",
     "exception": false,
     "start_time": "2023-01-22T06:10:54.104138",
     "status": "completed"
    },
    "tags": []
   },
   "outputs": [
    {
     "name": "stderr",
     "output_type": "stream",
     "text": [
      "WARNING: Running pip as the 'root' user can result in broken permissions and conflicting behaviour with the system package manager. It is recommended to use a virtual environment instead: https://pip.pypa.io/warnings/venv\n"
     ]
    }
   ],
   "source": [
    "%%bash\n",
    "pip install timm -q"
   ]
  },
  {
   "cell_type": "markdown",
   "id": "1e4cf550",
   "metadata": {
    "papermill": {
     "duration": 0.003578,
     "end_time": "2023-01-22T06:11:05.440781",
     "exception": false,
     "start_time": "2023-01-22T06:11:05.437203",
     "status": "completed"
    },
    "tags": []
   },
   "source": [
    "### **Library Imports**"
   ]
  },
  {
   "cell_type": "code",
   "execution_count": 2,
   "id": "0072783b",
   "metadata": {
    "execution": {
     "iopub.execute_input": "2023-01-22T06:11:05.450676Z",
     "iopub.status.busy": "2023-01-22T06:11:05.449625Z",
     "iopub.status.idle": "2023-01-22T06:11:08.872685Z",
     "shell.execute_reply": "2023-01-22T06:11:08.871292Z"
    },
    "papermill": {
     "duration": 3.430623,
     "end_time": "2023-01-22T06:11:08.875487",
     "exception": false,
     "start_time": "2023-01-22T06:11:05.444864",
     "status": "completed"
    },
    "tags": []
   },
   "outputs": [],
   "source": [
    "import os\n",
    "import re\n",
    "import cv2\n",
    "import timm\n",
    "import torch\n",
    "import numpy as np\n",
    "import pandas as pd\n",
    "import matplotlib.pyplot as plt\n",
    "\n",
    "from time import time\n",
    "from PIL import Image\n",
    "from typing import Union\n",
    "from torch import nn, optim\n",
    "from torch.utils.data import Dataset\n",
    "from torch.utils.data import DataLoader as DL\n",
    "from torchvision import transforms\n",
    "\n",
    "from sklearn.model_selection import StratifiedKFold"
   ]
  },
  {
   "cell_type": "markdown",
   "id": "0effe0d6",
   "metadata": {
    "papermill": {
     "duration": 0.006105,
     "end_time": "2023-01-22T06:11:08.888337",
     "exception": false,
     "start_time": "2023-01-22T06:11:08.882232",
     "status": "completed"
    },
    "tags": []
   },
   "source": [
    "### **Utilities and Helpers**"
   ]
  },
  {
   "cell_type": "code",
   "execution_count": 3,
   "id": "05e024a6",
   "metadata": {
    "execution": {
     "iopub.execute_input": "2023-01-22T06:11:08.902474Z",
     "iopub.status.busy": "2023-01-22T06:11:08.901884Z",
     "iopub.status.idle": "2023-01-22T06:11:08.923528Z",
     "shell.execute_reply": "2023-01-22T06:11:08.922590Z"
    },
    "papermill": {
     "duration": 0.03113,
     "end_time": "2023-01-22T06:11:08.925735",
     "exception": false,
     "start_time": "2023-01-22T06:11:08.894605",
     "status": "completed"
    },
    "tags": []
   },
   "outputs": [],
   "source": [
    "SEED: int = 42\n",
    "SIZE: int = 384\n",
    "\n",
    "\n",
    "def breaker(num: int=50, char: str=\"*\") -> None: print(\"\\n\" + num*char + \"\\n\")\n",
    "\n",
    "    \n",
    "def get_image(path: str, size: int=224) -> np.ndarray:\n",
    "    image = cv2.imread(path, cv2.IMREAD_COLOR)\n",
    "    if image is None:\n",
    "        image = np.array(Image.open(path).convert(\"RGB\"))\n",
    "    else:\n",
    "        image = cv2.cvtColor(src=image, code=cv2.COLOR_BGR2RGB)\n",
    "    if image.shape == (224, 224, 3) and size == 224: return image\n",
    "    return cv2.resize(src=image, dsize=(size, size), interpolation=cv2.INTER_AREA)\n",
    "\n",
    "    \n",
    "def show_loss_graphs(L: list) -> None:\n",
    "    TL, VL = [], []\n",
    "    for i in range(len(L)):\n",
    "        TL.append(L[i][\"train\"])\n",
    "        VL.append(L[i][\"valid\"])\n",
    "    x_Axis = np.arange(1, len(TL) + 1)\n",
    "    plt.figure()\n",
    "    plt.plot(x_Axis, TL, \"r\", label=\"Train\")\n",
    "    plt.plot(x_Axis, VL, \"b\", label=\"Valid\")\n",
    "    plt.legend()\n",
    "    plt.grid()\n",
    "    plt.title(\"Loss Graph\")\n",
    "    plt.show()\n",
    "\n",
    "    \n",
    "def show_accuracy_graphs(A: list) -> None:\n",
    "    TA, VA = [], []\n",
    "    for i in range(len(A)):\n",
    "        TA.append(A[i][\"train\"])\n",
    "        VA.append(A[i][\"valid\"])\n",
    "    x_Axis = np.arange(1, len(TA) + 1)\n",
    "    plt.figure()\n",
    "    plt.plot(x_Axis, TA, \"r\", label=\"Train\")\n",
    "    plt.plot(x_Axis, VA, \"b\", label=\"Valid\")\n",
    "    plt.legend()\n",
    "    plt.grid()\n",
    "    plt.title(\"Accuracy Graph\")\n",
    "    plt.show()\n",
    "    \n",
    "\n",
    "def show_lr_graph(LR: list) -> None:\n",
    "    x_Axis = [i+1 for i in range(len(LR))]\n",
    "    plt.figure(figsize=(8, 6))\n",
    "    plt.plot(x_Axis, LR, \"rx\")\n",
    "    plt.grid()\n",
    "    plt.show()"
   ]
  },
  {
   "cell_type": "markdown",
   "id": "3248b0e9",
   "metadata": {
    "papermill": {
     "duration": 0.005434,
     "end_time": "2023-01-22T06:11:08.936512",
     "exception": false,
     "start_time": "2023-01-22T06:11:08.931078",
     "status": "completed"
    },
    "tags": []
   },
   "source": [
    "\n",
    "\n",
    "### **Configuration**"
   ]
  },
  {
   "cell_type": "code",
   "execution_count": 4,
   "id": "d5c50743",
   "metadata": {
    "execution": {
     "iopub.execute_input": "2023-01-22T06:11:08.947903Z",
     "iopub.status.busy": "2023-01-22T06:11:08.947635Z",
     "iopub.status.idle": "2023-01-22T06:11:09.027805Z",
     "shell.execute_reply": "2023-01-22T06:11:09.026829Z"
    },
    "papermill": {
     "duration": 0.088741,
     "end_time": "2023-01-22T06:11:09.030378",
     "exception": false,
     "start_time": "2023-01-22T06:11:08.941637",
     "status": "completed"
    },
    "tags": []
   },
   "outputs": [],
   "source": [
    "class CFG(object):\n",
    "    def __init__(self,\n",
    "             seed: int = 42,\n",
    "             size: int = 224,\n",
    "             n_splits: int = 5,\n",
    "             batch_size: int = 16,\n",
    "             epochs: int = 25,\n",
    "             early_stopping: int = 5,\n",
    "             lr: float = 1e-4,\n",
    "             wd: float = 0.0,\n",
    "             max_lr: float = 1e-3,\n",
    "             pct_start: float = 0.2,\n",
    "             steps_per_epoch: int = 100,\n",
    "             div_factor: int = 1e3, \n",
    "             final_div_factor: float = 1e3,\n",
    "         ):\n",
    "        self.seed = seed\n",
    "        self.size = size\n",
    "        self.n_splits = n_splits\n",
    "        self.batch_size = batch_size\n",
    "        self.epochs = epochs\n",
    "        self.early_stopping = early_stopping\n",
    "        self.lr = lr\n",
    "        self.wd = wd\n",
    "        self.max_lr = max_lr\n",
    "        self.pct_start = pct_start\n",
    "        self.steps_per_epoch = steps_per_epoch\n",
    "        self.div_factor = div_factor\n",
    "        self.final_div_factor = final_div_factor\n",
    "        self.device = torch.device(\"cuda\" if torch.cuda.is_available() else \"cpu\")\n",
    "        \n",
    "        if self.size == 224:\n",
    "            self.train_transform = transforms.Compose([\n",
    "                transforms.ToTensor(),\n",
    "                transforms.Normalize([0.50855, 0.50042, 0.44033], [0.20755, 0.20303, 0.20667]),\n",
    "                transforms.RandomAffine(degrees=(-45, 45), translate=(0.15, 0.15), scale=(0.5, 1.5)),\n",
    "                transforms.RandomHorizontalFlip(p=0.25),\n",
    "                transforms.RandomVerticalFlip(p=0.25),\n",
    "            ])\n",
    "            self.valid_transform = transforms.Compose([\n",
    "                transforms.ToTensor(),\n",
    "                transforms.Normalize([0.50855, 0.50042, 0.44033], [0.20755, 0.20303, 0.20667]),\n",
    "            ])\n",
    "        \n",
    "        if self.size == 384:\n",
    "            self.train_transform = transforms.Compose([\n",
    "                transforms.ToTensor(),\n",
    "                transforms.Normalize([0.50858, 0.50046, 0.44037], [0.20953, 0.20504, 0.20869]),\n",
    "                transforms.RandomAffine(degrees=(-45, 45), translate=(0.15, 0.15), scale=(0.5, 1.5)),\n",
    "                transforms.RandomHorizontalFlip(p=0.25),\n",
    "                transforms.RandomVerticalFlip(p=0.25),\n",
    "            ])\n",
    "            self.valid_transform = transforms.Compose([\n",
    "                transforms.ToTensor(),\n",
    "                transforms.Normalize([0.50858, 0.50046, 0.44037], [0.20953, 0.20504, 0.20869]),\n",
    "            ])\n",
    "        \n",
    "        if self.size == 512:\n",
    "            self.train_transform = transforms.Compose([\n",
    "                transforms.ToTensor(),\n",
    "                transforms.Normalize([0.50858, 0.50046, 0.44037], [0.21033, 0.20586, 0.20951]),\n",
    "                transforms.RandomAffine(degrees=(-45, 45), translate=(0.15, 0.15), scale=(0.5, 1.5)),\n",
    "                transforms.RandomHorizontalFlip(p=0.25),\n",
    "                transforms.RandomVerticalFlip(p=0.25),\n",
    "            ])\n",
    "            self.valid_transform = transforms.Compose([\n",
    "                transforms.ToTensor(),\n",
    "                transforms.Normalize([0.50858, 0.50046, 0.44037], [0.21033, 0.20586, 0.20951]),\n",
    "            ])\n",
    "                                \n",
    "        self.save_path = \"saves\"\n",
    "        if not os.path.exists(self.save_path): os.makedirs(self.save_path)\n",
    "    \n",
    "cfg = CFG(\n",
    "    seed=SEED, \n",
    "    size=SIZE\n",
    ")"
   ]
  },
  {
   "cell_type": "markdown",
   "id": "9db51324",
   "metadata": {
    "papermill": {
     "duration": 0.00521,
     "end_time": "2023-01-22T06:11:09.041025",
     "exception": false,
     "start_time": "2023-01-22T06:11:09.035815",
     "status": "completed"
    },
    "tags": []
   },
   "source": [
    "### **Dataset Template**"
   ]
  },
  {
   "cell_type": "code",
   "execution_count": 5,
   "id": "e93a3458",
   "metadata": {
    "execution": {
     "iopub.execute_input": "2023-01-22T06:11:09.053393Z",
     "iopub.status.busy": "2023-01-22T06:11:09.052458Z",
     "iopub.status.idle": "2023-01-22T06:11:09.061807Z",
     "shell.execute_reply": "2023-01-22T06:11:09.061015Z"
    },
    "papermill": {
     "duration": 0.017408,
     "end_time": "2023-01-22T06:11:09.063671",
     "exception": false,
     "start_time": "2023-01-22T06:11:09.046263",
     "status": "completed"
    },
    "tags": []
   },
   "outputs": [],
   "source": [
    "class DS(Dataset):\n",
    "    def __init__(\n",
    "        self, \n",
    "        filepaths: np.ndarray, \n",
    "        size: int,\n",
    "        labels: Union[np.ndarray, None]=None, \n",
    "        transform=None\n",
    "    ):\n",
    "        \n",
    "        self.filepaths = filepaths\n",
    "        self.labels = labels\n",
    "        self.size = size\n",
    "        self.transform = transform\n",
    "    \n",
    "    def __len__(self):\n",
    "        return self.filepaths.shape[0]\n",
    "    \n",
    "    def __getitem__(self, idx):\n",
    "        image = get_image(self.filepaths[idx], self.size)\n",
    "        if self.labels is None:\n",
    "            return self.transform(image)\n",
    "        return self.transform(image), torch.LongTensor(self.labels[idx])"
   ]
  },
  {
   "cell_type": "markdown",
   "id": "87d31523",
   "metadata": {
    "papermill": {
     "duration": 0.005097,
     "end_time": "2023-01-22T06:11:09.074009",
     "exception": false,
     "start_time": "2023-01-22T06:11:09.068912",
     "status": "completed"
    },
    "tags": []
   },
   "source": [
    "### **Model**"
   ]
  },
  {
   "cell_type": "code",
   "execution_count": 6,
   "id": "181d113b",
   "metadata": {
    "execution": {
     "iopub.execute_input": "2023-01-22T06:11:09.085712Z",
     "iopub.status.busy": "2023-01-22T06:11:09.085451Z",
     "iopub.status.idle": "2023-01-22T06:11:09.091483Z",
     "shell.execute_reply": "2023-01-22T06:11:09.090602Z"
    },
    "papermill": {
     "duration": 0.015391,
     "end_time": "2023-01-22T06:11:09.094631",
     "exception": false,
     "start_time": "2023-01-22T06:11:09.079240",
     "status": "completed"
    },
    "tags": []
   },
   "outputs": [],
   "source": [
    "class Model(nn.Module):\n",
    "    def __init__(self):\n",
    "        super(Model, self).__init__()\n",
    "            \n",
    "        self.model = timm.create_model(model_name=\"efficientnet_b4\", pretrained=True)\n",
    "        self.model.classifier = nn.Linear(in_features=self.model.classifier.in_features, out_features=90)\n",
    "\n",
    "    def forward(self, x):\n",
    "        return nn.LogSoftmax(dim=1)(self.model(x))"
   ]
  },
  {
   "cell_type": "markdown",
   "id": "8203c252",
   "metadata": {
    "papermill": {
     "duration": 0.005492,
     "end_time": "2023-01-22T06:11:09.106183",
     "exception": false,
     "start_time": "2023-01-22T06:11:09.100691",
     "status": "completed"
    },
    "tags": []
   },
   "source": [
    "### **Fit and Predict**"
   ]
  },
  {
   "cell_type": "code",
   "execution_count": 7,
   "id": "7c629b05",
   "metadata": {
    "execution": {
     "iopub.execute_input": "2023-01-22T06:11:09.118892Z",
     "iopub.status.busy": "2023-01-22T06:11:09.118546Z",
     "iopub.status.idle": "2023-01-22T06:11:09.147107Z",
     "shell.execute_reply": "2023-01-22T06:11:09.145998Z"
    },
    "papermill": {
     "duration": 0.037423,
     "end_time": "2023-01-22T06:11:09.149299",
     "exception": false,
     "start_time": "2023-01-22T06:11:09.111876",
     "status": "completed"
    },
    "tags": []
   },
   "outputs": [],
   "source": [
    "def fit(\n",
    "    model=None,\n",
    "    optimizer=None, \n",
    "    scheduler_rlrop=None,\n",
    "    scheduler_oclr=None,\n",
    "    epochs=None, \n",
    "    early_stopping_patience=None, \n",
    "    dataloaders=None, \n",
    "    fold=None, \n",
    "    save_path=None,\n",
    "    device=None,\n",
    "    verbose=False\n",
    ") -> tuple:\n",
    "    \n",
    "    def get_accuracy(y_pred, y_true):\n",
    "        y_pred = torch.argmax(y_pred, dim=1)\n",
    "        return torch.count_nonzero(y_pred == y_true).item() / len(y_pred)\n",
    "    \n",
    "    \n",
    "    if verbose:\n",
    "        breaker()\n",
    "        if fold: print(f\"Training Fold {fold}...\")\n",
    "        else: print(\"Training ...\")\n",
    "        breaker()\n",
    "        \n",
    "    bestLoss: dict = {\"train\" : np.inf, \"valid\" : np.inf} \n",
    "    bestAccs: dict = {\"train\" : 0.0, \"valid\" : 0.0}\n",
    "    \n",
    "    Losses: list = []\n",
    "    Accuracies: list = [] \n",
    "    LRs: list = []\n",
    "        \n",
    "    if fold: \n",
    "        ble_name = f\"ble_state_fold_{fold}.pt\"\n",
    "        bae_name = f\"bae_state_fold_{fold}.pt\"\n",
    "    else: \n",
    "        ble_name = f\"ble_state.pt\"\n",
    "        bae_name = f\"bae_state.pt\"\n",
    "        \n",
    "    start_time = time()\n",
    "    for e in range(epochs):\n",
    "        e_st = time()\n",
    "        epochLoss: dict = {\"train\" : 0.0, \"valid\" : 0.0} \n",
    "        epochAccs: dict = {\"train\" : 0.0, \"valid\" : 0.0}\n",
    "\n",
    "        for phase in [\"train\", \"valid\"]:\n",
    "            if phase == \"train\":\n",
    "                model.train()\n",
    "            else:\n",
    "                model.eval()\n",
    "            \n",
    "            lossPerPass: list = []\n",
    "            accsPerPass: list = []\n",
    "                \n",
    "            for X, y in dataloaders[phase]:\n",
    "                X, y = X.to(device), y.to(device).view(-1)\n",
    "\n",
    "                optimizer.zero_grad()\n",
    "                with torch.set_grad_enabled(phase == \"train\"):\n",
    "                    output = model(X)\n",
    "                    loss = nn.NLLLoss()(output, y)\n",
    "                    if phase == \"train\":\n",
    "                        loss.backward()\n",
    "                        optimizer.step()\n",
    "                        if scheduler_oclr: scheduler_oclr.step()\n",
    "                lossPerPass.append(loss.item())\n",
    "                accsPerPass.append(get_accuracy(output, y))\n",
    "            epochLoss[phase] = np.mean(np.array(lossPerPass))\n",
    "            epochAccs[phase] = np.mean(np.array(accsPerPass))\n",
    "        if scheduler_oclr: LRs.append(scheduler_oclr.get_last_lr())\n",
    "        Losses.append(epochLoss)\n",
    "        Accuracies.append(epochAccs)\n",
    "        \n",
    "        if scheduler_oclr:\n",
    "            save_dict = {\"model_state_dict\"     : model.state_dict(),\n",
    "                         \"optim_state_dict\"     : optimizer.state_dict(),\n",
    "                         \"scheduler_state_dict\" : scheduler_oclr.state_dict()}\n",
    "        \n",
    "        elif scheduler_rlrop:\n",
    "            save_dict = {\"model_state_dict\"     : model.state_dict(),\n",
    "                         \"optim_state_dict\"     : optimizer.state_dict(),\n",
    "                         \"scheduler_state_dict\" : scheduler_rlrop.state_dict()}\n",
    "        \n",
    "        else:\n",
    "            save_dict = {\"model_state_dict\"     : model.state_dict(),\n",
    "                         \"optim_state_dict\"     : optimizer.state_dict()}\n",
    "        \n",
    "        if early_stopping_patience:\n",
    "            if epochLoss[\"valid\"] < bestLoss[\"valid\"]:\n",
    "                bestLoss = epochLoss\n",
    "                BLE = e + 1\n",
    "                torch.save(save_dict, os.path.join(save_path, ble_name))\n",
    "                torch.save(save_dict, os.path.join(save_path, bae_name))\n",
    "                early_stopping_step = 0\n",
    "            else:\n",
    "                early_stopping_step += 1\n",
    "                if early_stopping_step > early_stopping_patience:\n",
    "                    print(\"\\nEarly Stopping at Epoch {}\".format(e + 1))\n",
    "                    break\n",
    "        \n",
    "        if epochLoss[\"valid\"] < bestLoss[\"valid\"]:\n",
    "            bestLoss = epochLoss\n",
    "            BLE = e + 1\n",
    "            torch.save(save_dict,os.path.join(save_path, ble_name))\n",
    "        \n",
    "        if epochAccs[\"valid\"] > bestAccs[\"valid\"]:\n",
    "            bestAccs = epochAccs\n",
    "            BAE = e + 1\n",
    "            torch.save(save_dict,os.path.join(save_path, bae_name))\n",
    "        \n",
    "        if scheduler_rlrop: scheduler_rlrop.step(epochLoss[\"valid\"])\n",
    "        \n",
    "        if verbose:\n",
    "            print(\"Epoch: {} | Train Loss: {:.5f} | Valid Loss: {:.5f} |\\\n",
    " Train Accs: {:.5f} | Valid Accs: {:.5f} | Time: {:.2f} seconds\".format(e+1, \n",
    "                                                                        epochLoss[\"train\"], epochLoss[\"valid\"], \n",
    "                                                                        epochAccs[\"train\"], epochAccs[\"valid\"], \n",
    "                                                                        time()-e_st))\n",
    "\n",
    "    if verbose:                                           \n",
    "        breaker()\n",
    "        print(f\"Best Validation Loss at Epoch {BLE}\")\n",
    "        breaker()\n",
    "        print(f\"Best Validation Accs at Epoch {BAE}\")\n",
    "        breaker()\n",
    "        print(\"Time Taken [{} Epochs] : {:.2f} minutes\".format(len(Losses), (time()-start_time)/60))\n",
    "    \n",
    "    return Losses, Accuracies, LRs, bestLoss, bestAccs, BLE, BAE, ble_name, bae_name\n",
    "\n",
    "\n",
    "# def predict_batch(model=None, dataloader=None, path=None, device=None) -> np.ndarray:\n",
    "#     model.load_state_dict(torch.load(path, map_location=device)[\"model_state_dict\"])\n",
    "#     model.to(device)    \n",
    "#     model.eval()\n",
    "    \n",
    "#     y_pred = torch.zeros(1, 1).to(device)\n",
    "    \n",
    "#     for X in dataloader:\n",
    "#         X = X.to(device)\n",
    "#         with torch.no_grad():\n",
    "#             output = torch.argmax(torch.exp(model(X)), dim=1)\n",
    "#         y_pred = torch.cat((y_pred, output.view(-1, 1)), dim=0)\n",
    "    \n",
    "#     return y_pred[1:].detach().cpu().numpy()"
   ]
  },
  {
   "cell_type": "markdown",
   "id": "b04f3fbb",
   "metadata": {
    "papermill": {
     "duration": 0.006738,
     "end_time": "2023-01-22T06:11:09.161623",
     "exception": false,
     "start_time": "2023-01-22T06:11:09.154885",
     "status": "completed"
    },
    "tags": []
   },
   "source": [
    "### **Train**"
   ]
  },
  {
   "cell_type": "code",
   "execution_count": 8,
   "id": "80b71293",
   "metadata": {
    "execution": {
     "iopub.execute_input": "2023-01-22T06:11:09.174230Z",
     "iopub.status.busy": "2023-01-22T06:11:09.173891Z",
     "iopub.status.idle": "2023-01-22T06:11:09.230384Z",
     "shell.execute_reply": "2023-01-22T06:11:09.229479Z"
    },
    "papermill": {
     "duration": 0.066013,
     "end_time": "2023-01-22T06:11:09.233340",
     "exception": false,
     "start_time": "2023-01-22T06:11:09.167327",
     "status": "completed"
    },
    "tags": []
   },
   "outputs": [],
   "source": [
    "df = pd.read_csv(\"/kaggle/input/aid-dataframe/dataframe.csv\")\n",
    "\n",
    "filepaths = df.filepaths.copy().values\n",
    "labels = df.labels.copy().values"
   ]
  },
  {
   "cell_type": "code",
   "execution_count": 9,
   "id": "fb203df3",
   "metadata": {
    "execution": {
     "iopub.execute_input": "2023-01-22T06:11:09.251297Z",
     "iopub.status.busy": "2023-01-22T06:11:09.251037Z",
     "iopub.status.idle": "2023-01-22T09:55:16.479292Z",
     "shell.execute_reply": "2023-01-22T09:55:16.478245Z"
    },
    "papermill": {
     "duration": 13447.237155,
     "end_time": "2023-01-22T09:55:16.481372",
     "exception": false,
     "start_time": "2023-01-22T06:11:09.244217",
     "status": "completed"
    },
    "tags": []
   },
   "outputs": [
    {
     "name": "stderr",
     "output_type": "stream",
     "text": [
      "Downloading: \"https://github.com/rwightman/pytorch-image-models/releases/download/v0.1-weights/efficientnet_b4_ra2_320-7eb33cd5.pth\" to /root/.cache/torch/hub/checkpoints/efficientnet_b4_ra2_320-7eb33cd5.pth\n"
     ]
    },
    {
     "name": "stdout",
     "output_type": "stream",
     "text": [
      "\n",
      "**************************************************\n",
      "\n",
      "Training Fold 1...\n",
      "\n",
      "**************************************************\n",
      "\n",
      "Epoch: 1 | Train Loss: 3.67586 | Valid Loss: 0.66311 | Train Accs: 0.26412 | Valid Accs: 0.81618 | Time: 341.70 seconds\n",
      "Epoch: 2 | Train Loss: 0.85017 | Valid Loss: 0.37834 | Train Accs: 0.75833 | Valid Accs: 0.88879 | Time: 265.09 seconds\n",
      "Epoch: 3 | Train Loss: 0.49855 | Valid Loss: 0.33879 | Train Accs: 0.85972 | Valid Accs: 0.90257 | Time: 264.16 seconds\n",
      "Epoch: 4 | Train Loss: 0.33096 | Valid Loss: 0.30681 | Train Accs: 0.90394 | Valid Accs: 0.91820 | Time: 263.78 seconds\n",
      "Epoch: 5 | Train Loss: 0.22290 | Valid Loss: 0.28979 | Train Accs: 0.93287 | Valid Accs: 0.92555 | Time: 263.41 seconds\n",
      "Epoch: 6 | Train Loss: 0.16098 | Valid Loss: 0.23452 | Train Accs: 0.95718 | Valid Accs: 0.92647 | Time: 264.32 seconds\n",
      "Epoch: 7 | Train Loss: 0.08524 | Valid Loss: 0.21399 | Train Accs: 0.97315 | Valid Accs: 0.94669 | Time: 269.26 seconds\n",
      "Epoch: 8 | Train Loss: 0.04677 | Valid Loss: 0.20980 | Train Accs: 0.98495 | Valid Accs: 0.94393 | Time: 264.46 seconds\n",
      "Epoch: 9 | Train Loss: 0.03728 | Valid Loss: 0.18723 | Train Accs: 0.98750 | Valid Accs: 0.94761 | Time: 263.65 seconds\n",
      "Epoch: 10 | Train Loss: 0.03032 | Valid Loss: 0.18764 | Train Accs: 0.99074 | Valid Accs: 0.94853 | Time: 261.72 seconds\n",
      "\n",
      "**************************************************\n",
      "\n",
      "Best Validation Loss at Epoch 9\n",
      "\n",
      "**************************************************\n",
      "\n",
      "Best Validation Accs at Epoch 10\n",
      "\n",
      "**************************************************\n",
      "\n",
      "Time Taken [10 Epochs] : 45.36 minutes\n",
      "\n",
      "**************************************************\n",
      "\n"
     ]
    },
    {
     "data": {
      "image/png": "[encoded data removed]",
      "text/plain": [
       "<Figure size 432x288 with 1 Axes>"
      ]
     },
     "metadata": {
      "needs_background": "light"
     },
     "output_type": "display_data"
    },
    {
     "name": "stdout",
     "output_type": "stream",
     "text": [
      "\n",
      "**************************************************\n",
      "\n"
     ]
    },
    {
     "data": {
      "image/png": "[encoded data removed]",
      "text/plain": [
       "<Figure size 432x288 with 1 Axes>"
      ]
     },
     "metadata": {
      "needs_background": "light"
     },
     "output_type": "display_data"
    },
    {
     "name": "stdout",
     "output_type": "stream",
     "text": [
      "\n",
      "**************************************************\n",
      "\n"
     ]
    },
    {
     "data": {
      "image/png": "[encoded data removed]",
      "text/plain": [
       "<Figure size 576x432 with 1 Axes>"
      ]
     },
     "metadata": {
      "needs_background": "light"
     },
     "output_type": "display_data"
    },
    {
     "name": "stdout",
     "output_type": "stream",
     "text": [
      "\n",
      "**************************************************\n",
      "\n",
      "\n",
      "**************************************************\n",
      "\n",
      "Training Fold 2...\n",
      "\n",
      "**************************************************\n",
      "\n",
      "Epoch: 1 | Train Loss: 3.66992 | Valid Loss: 0.68043 | Train Accs: 0.26273 | Valid Accs: 0.79688 | Time: 263.92 seconds\n",
      "Epoch: 2 | Train Loss: 0.84069 | Valid Loss: 0.44674 | Train Accs: 0.75880 | Valid Accs: 0.87408 | Time: 264.52 seconds\n",
      "Epoch: 3 | Train Loss: 0.49718 | Valid Loss: 0.32488 | Train Accs: 0.85856 | Valid Accs: 0.90074 | Time: 264.49 seconds\n",
      "Epoch: 4 | Train Loss: 0.32996 | Valid Loss: 0.32901 | Train Accs: 0.90509 | Valid Accs: 0.91268 | Time: 263.77 seconds\n",
      "Epoch: 5 | Train Loss: 0.19882 | Valid Loss: 0.34621 | Train Accs: 0.94167 | Valid Accs: 0.91176 | Time: 264.58 seconds\n",
      "Epoch: 6 | Train Loss: 0.13525 | Valid Loss: 0.24653 | Train Accs: 0.95718 | Valid Accs: 0.92463 | Time: 263.22 seconds\n",
      "Epoch: 7 | Train Loss: 0.08563 | Valid Loss: 0.24819 | Train Accs: 0.97546 | Valid Accs: 0.93566 | Time: 263.37 seconds\n",
      "Epoch: 8 | Train Loss: 0.05774 | Valid Loss: 0.24153 | Train Accs: 0.98403 | Valid Accs: 0.93382 | Time: 262.59 seconds\n",
      "Epoch: 9 | Train Loss: 0.03731 | Valid Loss: 0.24673 | Train Accs: 0.98889 | Valid Accs: 0.93015 | Time: 262.85 seconds\n",
      "Epoch: 10 | Train Loss: 0.03111 | Valid Loss: 0.25057 | Train Accs: 0.99213 | Valid Accs: 0.93290 | Time: 262.49 seconds\n",
      "\n",
      "**************************************************\n",
      "\n",
      "Best Validation Loss at Epoch 8\n",
      "\n",
      "**************************************************\n",
      "\n",
      "Best Validation Accs at Epoch 7\n",
      "\n",
      "**************************************************\n",
      "\n",
      "Time Taken [10 Epochs] : 43.93 minutes\n",
      "\n",
      "**************************************************\n",
      "\n"
     ]
    },
    {
     "data": {
      "image/png": "[encoded data removed]",
      "text/plain": [
       "<Figure size 432x288 with 1 Axes>"
      ]
     },
     "metadata": {
      "needs_background": "light"
     },
     "output_type": "display_data"
    },
    {
     "name": "stdout",
     "output_type": "stream",
     "text": [
      "\n",
      "**************************************************\n",
      "\n"
     ]
    },
    {
     "data": {
      "image/png": "[encoded data removed]",
      "text/plain": [
       "<Figure size 432x288 with 1 Axes>"
      ]
     },
     "metadata": {
      "needs_background": "light"
     },
     "output_type": "display_data"
    },
    {
     "name": "stdout",
     "output_type": "stream",
     "text": [
      "\n",
      "**************************************************\n",
      "\n"
     ]
    },
    {
     "data": {
      "image/png": "[encoded data removed]",
      "text/plain": [
       "<Figure size 576x432 with 1 Axes>"
      ]
     },
     "metadata": {
      "needs_background": "light"
     },
     "output_type": "display_data"
    },
    {
     "name": "stdout",
     "output_type": "stream",
     "text": [
      "\n",
      "**************************************************\n",
      "\n",
      "\n",
      "**************************************************\n",
      "\n",
      "Training Fold 3...\n",
      "\n",
      "**************************************************\n",
      "\n",
      "Epoch: 1 | Train Loss: 3.67316 | Valid Loss: 0.61695 | Train Accs: 0.25602 | Valid Accs: 0.83456 | Time: 265.67 seconds\n",
      "Epoch: 2 | Train Loss: 0.84127 | Valid Loss: 0.43464 | Train Accs: 0.77037 | Valid Accs: 0.88511 | Time: 265.60 seconds\n",
      "Epoch: 3 | Train Loss: 0.52557 | Valid Loss: 0.29397 | Train Accs: 0.84398 | Valid Accs: 0.91085 | Time: 265.61 seconds\n",
      "Epoch: 4 | Train Loss: 0.32902 | Valid Loss: 0.28893 | Train Accs: 0.90208 | Valid Accs: 0.92463 | Time: 265.53 seconds\n",
      "Epoch: 5 | Train Loss: 0.21929 | Valid Loss: 0.36920 | Train Accs: 0.93264 | Valid Accs: 0.90533 | Time: 263.47 seconds\n",
      "Epoch: 6 | Train Loss: 0.14139 | Valid Loss: 0.28566 | Train Accs: 0.95764 | Valid Accs: 0.93474 | Time: 267.58 seconds\n",
      "Epoch: 7 | Train Loss: 0.07849 | Valid Loss: 0.27489 | Train Accs: 0.97731 | Valid Accs: 0.93658 | Time: 266.85 seconds\n",
      "Epoch: 8 | Train Loss: 0.04647 | Valid Loss: 0.26244 | Train Accs: 0.98819 | Valid Accs: 0.94118 | Time: 265.35 seconds\n",
      "Epoch: 9 | Train Loss: 0.03932 | Valid Loss: 0.27879 | Train Accs: 0.98727 | Valid Accs: 0.94301 | Time: 267.89 seconds\n",
      "Epoch: 10 | Train Loss: 0.03363 | Valid Loss: 0.28200 | Train Accs: 0.99236 | Valid Accs: 0.94210 | Time: 264.76 seconds\n",
      "\n",
      "**************************************************\n",
      "\n",
      "Best Validation Loss at Epoch 8\n",
      "\n",
      "**************************************************\n",
      "\n",
      "Best Validation Accs at Epoch 9\n",
      "\n",
      "**************************************************\n",
      "\n",
      "Time Taken [10 Epochs] : 44.31 minutes\n",
      "\n",
      "**************************************************\n",
      "\n"
     ]
    },
    {
     "data": {
      "image/png": "[encoded data removed]",
      "text/plain": [
       "<Figure size 432x288 with 1 Axes>"
      ]
     },
     "metadata": {
      "needs_background": "light"
     },
     "output_type": "display_data"
    },
    {
     "name": "stdout",
     "output_type": "stream",
     "text": [
      "\n",
      "**************************************************\n",
      "\n"
     ]
    },
    {
     "data": {
      "image/png": "[encoded data removed]",
      "text/plain": [
       "<Figure size 432x288 with 1 Axes>"
      ]
     },
     "metadata": {
      "needs_background": "light"
     },
     "output_type": "display_data"
    },
    {
     "name": "stdout",
     "output_type": "stream",
     "text": [
      "\n",
      "**************************************************\n",
      "\n"
     ]
    },
    {
     "data": {
      "image/png": "[encoded data removed]",
      "text/plain": [
       "<Figure size 576x432 with 1 Axes>"
      ]
     },
     "metadata": {
      "needs_background": "light"
     },
     "output_type": "display_data"
    },
    {
     "name": "stdout",
     "output_type": "stream",
     "text": [
      "\n",
      "**************************************************\n",
      "\n",
      "\n",
      "**************************************************\n",
      "\n",
      "Training Fold 4...\n",
      "\n",
      "**************************************************\n",
      "\n",
      "Epoch: 1 | Train Loss: 3.66564 | Valid Loss: 0.65629 | Train Accs: 0.25972 | Valid Accs: 0.79871 | Time: 269.27 seconds\n",
      "Epoch: 2 | Train Loss: 0.86267 | Valid Loss: 0.39477 | Train Accs: 0.75532 | Valid Accs: 0.88971 | Time: 265.59 seconds\n",
      "Epoch: 3 | Train Loss: 0.51352 | Valid Loss: 0.34822 | Train Accs: 0.85370 | Valid Accs: 0.89154 | Time: 266.20 seconds\n",
      "Epoch: 4 | Train Loss: 0.31931 | Valid Loss: 0.26776 | Train Accs: 0.90579 | Valid Accs: 0.91820 | Time: 277.76 seconds\n",
      "Epoch: 5 | Train Loss: 0.20037 | Valid Loss: 0.25861 | Train Accs: 0.93727 | Valid Accs: 0.92923 | Time: 283.80 seconds\n",
      "Epoch: 6 | Train Loss: 0.14307 | Valid Loss: 0.24204 | Train Accs: 0.95764 | Valid Accs: 0.92831 | Time: 267.24 seconds\n",
      "Epoch: 7 | Train Loss: 0.07825 | Valid Loss: 0.22518 | Train Accs: 0.97593 | Valid Accs: 0.93750 | Time: 267.30 seconds\n",
      "Epoch: 8 | Train Loss: 0.05952 | Valid Loss: 0.20509 | Train Accs: 0.98194 | Valid Accs: 0.94761 | Time: 267.29 seconds\n",
      "Epoch: 9 | Train Loss: 0.04021 | Valid Loss: 0.20978 | Train Accs: 0.98634 | Valid Accs: 0.94669 | Time: 267.20 seconds\n",
      "Epoch: 10 | Train Loss: 0.03935 | Valid Loss: 0.20968 | Train Accs: 0.98796 | Valid Accs: 0.94577 | Time: 268.63 seconds\n",
      "\n",
      "**************************************************\n",
      "\n",
      "Best Validation Loss at Epoch 8\n",
      "\n",
      "**************************************************\n",
      "\n",
      "Best Validation Accs at Epoch 8\n",
      "\n",
      "**************************************************\n",
      "\n",
      "Time Taken [10 Epochs] : 45.00 minutes\n",
      "\n",
      "**************************************************\n",
      "\n"
     ]
    },
    {
     "data": {
      "image/png": "[encoded data removed]",
      "text/plain": [
       "<Figure size 432x288 with 1 Axes>"
      ]
     },
     "metadata": {
      "needs_background": "light"
     },
     "output_type": "display_data"
    },
    {
     "name": "stdout",
     "output_type": "stream",
     "text": [
      "\n",
      "**************************************************\n",
      "\n"
     ]
    },
    {
     "data": {
      "image/png": "[encoded data removed]",
      "text/plain": [
       "<Figure size 432x288 with 1 Axes>"
      ]
     },
     "metadata": {
      "needs_background": "light"
     },
     "output_type": "display_data"
    },
    {
     "name": "stdout",
     "output_type": "stream",
     "text": [
      "\n",
      "**************************************************\n",
      "\n"
     ]
    },
    {
     "data": {
      "image/png": "[encoded data removed]",
      "text/plain": [
       "<Figure size 576x432 with 1 Axes>"
      ]
     },
     "metadata": {
      "needs_background": "light"
     },
     "output_type": "display_data"
    },
    {
     "name": "stdout",
     "output_type": "stream",
     "text": [
      "\n",
      "**************************************************\n",
      "\n",
      "\n",
      "**************************************************\n",
      "\n",
      "Training Fold 5...\n",
      "\n",
      "**************************************************\n",
      "\n",
      "Epoch: 1 | Train Loss: 3.67702 | Valid Loss: 0.66186 | Train Accs: 0.25625 | Valid Accs: 0.80974 | Time: 270.21 seconds\n",
      "Epoch: 2 | Train Loss: 0.88232 | Valid Loss: 0.41173 | Train Accs: 0.75370 | Valid Accs: 0.87408 | Time: 268.05 seconds\n",
      "Epoch: 3 | Train Loss: 0.51848 | Valid Loss: 0.31968 | Train Accs: 0.85347 | Valid Accs: 0.90901 | Time: 267.37 seconds\n",
      "Epoch: 4 | Train Loss: 0.30931 | Valid Loss: 0.29417 | Train Accs: 0.91181 | Valid Accs: 0.92647 | Time: 283.30 seconds\n",
      "Epoch: 5 | Train Loss: 0.20275 | Valid Loss: 0.27509 | Train Accs: 0.93958 | Valid Accs: 0.92555 | Time: 273.12 seconds\n",
      "Epoch: 6 | Train Loss: 0.12743 | Valid Loss: 0.22911 | Train Accs: 0.96296 | Valid Accs: 0.94026 | Time: 272.91 seconds\n",
      "Epoch: 7 | Train Loss: 0.07141 | Valid Loss: 0.22046 | Train Accs: 0.97986 | Valid Accs: 0.93474 | Time: 279.79 seconds\n",
      "Epoch: 8 | Train Loss: 0.05090 | Valid Loss: 0.19729 | Train Accs: 0.98611 | Valid Accs: 0.94853 | Time: 267.68 seconds\n",
      "Epoch: 9 | Train Loss: 0.03280 | Valid Loss: 0.19096 | Train Accs: 0.99097 | Valid Accs: 0.95221 | Time: 268.55 seconds\n",
      "Epoch: 10 | Train Loss: 0.03031 | Valid Loss: 0.17891 | Train Accs: 0.99259 | Valid Accs: 0.95221 | Time: 268.30 seconds\n",
      "\n",
      "**************************************************\n",
      "\n",
      "Best Validation Loss at Epoch 10\n",
      "\n",
      "**************************************************\n",
      "\n",
      "Best Validation Accs at Epoch 9\n",
      "\n",
      "**************************************************\n",
      "\n",
      "Time Taken [10 Epochs] : 45.32 minutes\n",
      "\n",
      "**************************************************\n",
      "\n"
     ]
    },
    {
     "data": {
      "image/png": "[encoded data removed]",
      "text/plain": [
       "<Figure size 432x288 with 1 Axes>"
      ]
     },
     "metadata": {
      "needs_background": "light"
     },
     "output_type": "display_data"
    },
    {
     "name": "stdout",
     "output_type": "stream",
     "text": [
      "\n",
      "**************************************************\n",
      "\n"
     ]
    },
    {
     "data": {
      "image/png": "[encoded data removed]",
      "text/plain": [
       "<Figure size 432x288 with 1 Axes>"
      ]
     },
     "metadata": {
      "needs_background": "light"
     },
     "output_type": "display_data"
    },
    {
     "name": "stdout",
     "output_type": "stream",
     "text": [
      "\n",
      "**************************************************\n",
      "\n"
     ]
    },
    {
     "data": {
      "image/png": "[encoded data removed]",
      "text/plain": [
       "<Figure size 576x432 with 1 Axes>"
      ]
     },
     "metadata": {
      "needs_background": "light"
     },
     "output_type": "display_data"
    },
    {
     "name": "stdout",
     "output_type": "stream",
     "text": [
      "\n",
      "**************************************************\n",
      "\n"
     ]
    }
   ],
   "source": [
    "fold: int = 1\n",
    "BLs: list = []\n",
    "BAs: list = []\n",
    "    \n",
    "cfg.batch_size = 16\n",
    "cfg.epochs = 10\n",
    "    \n",
    "for tr_idx, va_idx in StratifiedKFold(n_splits=cfg.n_splits, random_state=cfg.seed, shuffle=True).split(filepaths, labels):\n",
    "#     if fold == 1: break\n",
    "#     fold += 1\n",
    "\n",
    "    tr_filepaths, va_filepaths = filepaths[tr_idx], filepaths[va_idx] \n",
    "    tr_labels, va_labels       = labels[tr_idx], labels[va_idx]\n",
    "\n",
    "    tr_data_setup = DS(\n",
    "        filepaths=tr_filepaths, \n",
    "        labels=tr_labels.reshape(-1, 1),\n",
    "        size=cfg.size,\n",
    "        transform=cfg.train_transform\n",
    "    )\n",
    "\n",
    "    va_data_setup = DS(\n",
    "        filepaths=va_filepaths, \n",
    "        labels=va_labels.reshape(-1, 1),\n",
    "        size=cfg.size,\n",
    "        transform=cfg.valid_transform\n",
    "    )\n",
    "\n",
    "    dataloaders = {\n",
    "        \"train\" : DL(tr_data_setup, batch_size=cfg.batch_size, shuffle=True, generator=torch.manual_seed(cfg.seed)),\n",
    "        \"valid\" : DL(va_data_setup, batch_size=cfg.batch_size, shuffle=False),\n",
    "    }\n",
    "\n",
    "    cfg.steps_per_epoch=len(dataloaders[\"train\"])\n",
    "\n",
    "    torch.manual_seed(cfg.seed)\n",
    "    model = Model().to(cfg.device)\n",
    "\n",
    "    optimizer = optim.Adam([p for p in model.parameters() if p.requires_grad], lr=cfg.lr, weight_decay=cfg.wd)\n",
    "    # optimizer = optim.AdamW([p for p in model.parameters() if p.requires_grad], lr=cfg.lr, weight_decay=cfg.wd)\n",
    "    # optimizer = optim.SGD([p for p in model.parameters() if p.requires_grad], lr=cfg.lr, weight_decay=cfg.wd, momentum=0.9)\n",
    "\n",
    "    scheduler_oclr = optim.lr_scheduler.OneCycleLR(\n",
    "        optimizer=optimizer, \n",
    "        max_lr=cfg.max_lr, \n",
    "        epochs=cfg.epochs, \n",
    "        steps_per_epoch=cfg.steps_per_epoch,\n",
    "        pct_start=cfg.pct_start, \n",
    "        div_factor=cfg.div_factor, \n",
    "        final_div_factor=cfg.final_div_factor\n",
    "    )\n",
    "\n",
    "    # scheduler_rlrop = optim.lr_scheduler.ReduceLROnPlateau(\n",
    "    #     optimizer=optimizer,\n",
    "    #     patience=cfg.patience,\n",
    "    #     eps=cfg.eps,\n",
    "    #     verbose=True\n",
    "    # )\n",
    "\n",
    "    # scheduler_oclr = None\n",
    "    scheduler_rlrop = None\n",
    "\n",
    "\n",
    "    L, A, LR, BL, BA, _, _, _, _ = fit(\n",
    "        model=model, \n",
    "        optimizer=optimizer, \n",
    "        scheduler_oclr=scheduler_oclr,\n",
    "        scheduler_rlrop=scheduler_rlrop,\n",
    "        epochs=cfg.epochs, \n",
    "        early_stopping_patience=cfg.early_stopping, \n",
    "        dataloaders=dataloaders, \n",
    "        device=cfg.device,\n",
    "        save_path=cfg.save_path,\n",
    "        fold=fold,\n",
    "        verbose=True\n",
    "    )\n",
    "\n",
    "\n",
    "    breaker()\n",
    "    show_loss_graphs(L)\n",
    "    breaker()\n",
    "    show_accuracy_graphs(A)\n",
    "    breaker()\n",
    "    if scheduler_oclr:\n",
    "        show_lr_graph(LR)\n",
    "        breaker()\n",
    "\n",
    "    BLs.append(BL)\n",
    "    BAs.append(BA)\n",
    "\n",
    "    fold += 1"
   ]
  },
  {
   "cell_type": "markdown",
   "id": "cfb844d8",
   "metadata": {
    "papermill": {
     "duration": 0.010619,
     "end_time": "2023-01-22T09:55:16.503145",
     "exception": false,
     "start_time": "2023-01-22T09:55:16.492526",
     "status": "completed"
    },
    "tags": []
   },
   "source": [
    "### **Best Model**"
   ]
  },
  {
   "cell_type": "code",
   "execution_count": 10,
   "id": "b4137b4f",
   "metadata": {
    "execution": {
     "iopub.execute_input": "2023-01-22T09:55:16.526300Z",
     "iopub.status.busy": "2023-01-22T09:55:16.525389Z",
     "iopub.status.idle": "2023-01-22T09:55:16.532605Z",
     "shell.execute_reply": "2023-01-22T09:55:16.531823Z"
    },
    "papermill": {
     "duration": 0.020621,
     "end_time": "2023-01-22T09:55:16.534407",
     "exception": false,
     "start_time": "2023-01-22T09:55:16.513786",
     "status": "completed"
    },
    "tags": []
   },
   "outputs": [
    {
     "name": "stdout",
     "output_type": "stream",
     "text": [
      "\n",
      "**************************************************\n",
      "\n",
      "Best Loss Model Fold     : 5\n",
      "Best Accuracy Model Fold : 5\n",
      "\n",
      "**************************************************\n",
      "\n"
     ]
    }
   ],
   "source": [
    "BL = np.inf\n",
    "for i in range(len(BLs)):\n",
    "    if BLs[i][\"valid\"] < BL:\n",
    "        BL = BLs[i][\"valid\"]\n",
    "        best_loss_index = i\n",
    "\n",
    "        \n",
    "BA = 0.0\n",
    "for i in range(len(BAs)):\n",
    "    if BAs[i][\"valid\"] > BA:\n",
    "        BA = BAs[i][\"valid\"]\n",
    "        best_accs_index = i\n",
    "\n",
    "breaker()\n",
    "print(f\"Best Loss Model Fold     : {best_loss_index + 1}\")\n",
    "print(f\"Best Accuracy Model Fold : {best_accs_index + 1}\")\n",
    "breaker()"
   ]
  }
 ],
 "metadata": {
  "kernelspec": {
   "display_name": "Python 3",
   "language": "python",
   "name": "python3"
  },
  "language_info": {
   "codemirror_mode": {
    "name": "ipython",
    "version": 3
   },
   "file_extension": ".py",
   "mimetype": "text/x-python",
   "name": "python",
   "nbconvert_exporter": "python",
   "pygments_lexer": "ipython3",
   "version": "3.7.12"
  },
  "papermill": {
   "default_parameters": {},
   "duration": 13471.377931,
   "end_time": "2023-01-22T09:55:18.185542",
   "environment_variables": {},
   "exception": null,
   "input_path": "__notebook__.ipynb",
   "output_path": "__notebook__.ipynb",
   "parameters": {},
   "start_time": "2023-01-22T06:10:46.807611",
   "version": "2.3.4"
  }
 },
 "nbformat": 4,
 "nbformat_minor": 5
}
