{
 "cells": [
  {
   "cell_type": "markdown",
   "id": "570640ff",
   "metadata": {
    "_cell_guid": "b1076dfc-b9ad-4769-8c92-a6c4dae69d19",
    "_uuid": "8f2839f25d086af736a60e9eeb907d3b93b6e0e5",
    "papermill": {
     "duration": 0.006197,
     "end_time": "2023-01-19T05:14:09.628099",
     "exception": false,
     "start_time": "2023-01-19T05:14:09.621902",
     "status": "completed"
    },
    "tags": []
   },
   "source": [
    "### **Setup**"
   ]
  },
  {
   "cell_type": "code",
   "execution_count": 1,
   "id": "8fba4aaf",
   "metadata": {
    "execution": {
     "iopub.execute_input": "2023-01-19T05:14:09.646016Z",
     "iopub.status.busy": "2023-01-19T05:14:09.645409Z",
     "iopub.status.idle": "2023-01-19T05:14:20.773434Z",
     "shell.execute_reply": "2023-01-19T05:14:20.772084Z"
    },
    "papermill": {
     "duration": 11.142737,
     "end_time": "2023-01-19T05:14:20.776338",
     "exception": false,
     "start_time": "2023-01-19T05:14:09.633601",
     "status": "completed"
    },
    "tags": []
   },
   "outputs": [
    {
     "name": "stderr",
     "output_type": "stream",
     "text": [
      "WARNING: Running pip as the 'root' user can result in broken permissions and conflicting behaviour with the system package manager. It is recommended to use a virtual environment instead: https://pip.pypa.io/warnings/venv\n"
     ]
    }
   ],
   "source": [
    "%%bash\n",
    "pip install timm -q"
   ]
  },
  {
   "cell_type": "markdown",
   "id": "0a11f94f",
   "metadata": {
    "papermill": {
     "duration": 0.003453,
     "end_time": "2023-01-19T05:14:20.783811",
     "exception": false,
     "start_time": "2023-01-19T05:14:20.780358",
     "status": "completed"
    },
    "tags": []
   },
   "source": [
    "### **Library Imports**"
   ]
  },
  {
   "cell_type": "code",
   "execution_count": 2,
   "id": "1a2a1ceb",
   "metadata": {
    "execution": {
     "iopub.execute_input": "2023-01-19T05:14:20.792271Z",
     "iopub.status.busy": "2023-01-19T05:14:20.791960Z",
     "iopub.status.idle": "2023-01-19T05:14:24.700891Z",
     "shell.execute_reply": "2023-01-19T05:14:24.699859Z"
    },
    "papermill": {
     "duration": 3.91634,
     "end_time": "2023-01-19T05:14:24.703660",
     "exception": false,
     "start_time": "2023-01-19T05:14:20.787320",
     "status": "completed"
    },
    "tags": []
   },
   "outputs": [],
   "source": [
    "import os\n",
    "import re\n",
    "import cv2\n",
    "import timm\n",
    "import torch\n",
    "import numpy as np\n",
    "import pandas as pd\n",
    "import matplotlib.pyplot as plt\n",
    "\n",
    "from time import time\n",
    "from PIL import Image\n",
    "from typing import Union\n",
    "from torch import nn, optim\n",
    "from torch.utils.data import Dataset\n",
    "from torch.utils.data import DataLoader as DL\n",
    "from torchvision import transforms\n",
    "\n",
    "from sklearn.model_selection import StratifiedKFold"
   ]
  },
  {
   "cell_type": "markdown",
   "id": "65f05cb2",
   "metadata": {
    "papermill": {
     "duration": 0.003651,
     "end_time": "2023-01-19T05:14:24.711318",
     "exception": false,
     "start_time": "2023-01-19T05:14:24.707667",
     "status": "completed"
    },
    "tags": []
   },
   "source": [
    "### **Utilities and Helpers**"
   ]
  },
  {
   "cell_type": "code",
   "execution_count": 3,
   "id": "39c0a3f1",
   "metadata": {
    "execution": {
     "iopub.execute_input": "2023-01-19T05:14:24.719954Z",
     "iopub.status.busy": "2023-01-19T05:14:24.719648Z",
     "iopub.status.idle": "2023-01-19T05:14:24.732539Z",
     "shell.execute_reply": "2023-01-19T05:14:24.731563Z"
    },
    "papermill": {
     "duration": 0.019617,
     "end_time": "2023-01-19T05:14:24.734516",
     "exception": false,
     "start_time": "2023-01-19T05:14:24.714899",
     "status": "completed"
    },
    "tags": []
   },
   "outputs": [],
   "source": [
    "SEED: int = 42\n",
    "SIZE: int = 384\n",
    "\n",
    "\n",
    "def breaker(num: int=50, char: str=\"*\") -> None: print(\"\\n\" + num*char + \"\\n\")\n",
    "\n",
    "    \n",
    "def get_image(path: str, size: int=224) -> np.ndarray:\n",
    "    image = cv2.imread(path, cv2.IMREAD_COLOR)\n",
    "    if image is None:\n",
    "        image = np.array(Image.open(path).convert(\"RGB\"))\n",
    "    else:\n",
    "        image = cv2.cvtColor(src=image, code=cv2.COLOR_BGR2RGB)\n",
    "    if image.shape == (224, 224, 3) and size == 224: return image\n",
    "    return cv2.resize(src=image, dsize=(size, size), interpolation=cv2.INTER_AREA)\n",
    "\n",
    "    \n",
    "def show_loss_graphs(L: list) -> None:\n",
    "    TL, VL = [], []\n",
    "    for i in range(len(L)):\n",
    "        TL.append(L[i][\"train\"])\n",
    "        VL.append(L[i][\"valid\"])\n",
    "    x_Axis = np.arange(1, len(TL) + 1)\n",
    "    plt.figure()\n",
    "    plt.plot(x_Axis, TL, \"r\", label=\"Train\")\n",
    "    plt.plot(x_Axis, VL, \"b\", label=\"Valid\")\n",
    "    plt.legend()\n",
    "    plt.grid()\n",
    "    plt.title(\"Loss Graph\")\n",
    "    plt.show()\n",
    "\n",
    "    \n",
    "def show_accuracy_graphs(A: list) -> None:\n",
    "    TA, VA = [], []\n",
    "    for i in range(len(A)):\n",
    "        TA.append(A[i][\"train\"])\n",
    "        VA.append(A[i][\"valid\"])\n",
    "    x_Axis = np.arange(1, len(TA) + 1)\n",
    "    plt.figure()\n",
    "    plt.plot(x_Axis, TA, \"r\", label=\"Train\")\n",
    "    plt.plot(x_Axis, VA, \"b\", label=\"Valid\")\n",
    "    plt.legend()\n",
    "    plt.grid()\n",
    "    plt.title(\"Accuracy Graph\")\n",
    "    plt.show()\n",
    "    \n",
    "\n",
    "def show_lr_graph(LR: list) -> None:\n",
    "    x_Axis = [i+1 for i in range(len(LR))]\n",
    "    plt.figure(figsize=(8, 6))\n",
    "    plt.plot(x_Axis, LR, \"rx\")\n",
    "    plt.grid()\n",
    "    plt.show()"
   ]
  },
  {
   "cell_type": "markdown",
   "id": "c67882a4",
   "metadata": {
    "papermill": {
     "duration": 0.003579,
     "end_time": "2023-01-19T05:14:24.741717",
     "exception": false,
     "start_time": "2023-01-19T05:14:24.738138",
     "status": "completed"
    },
    "tags": []
   },
   "source": [
    "\n",
    "\n",
    "### **Configuration**"
   ]
  },
  {
   "cell_type": "code",
   "execution_count": 4,
   "id": "3c61e682",
   "metadata": {
    "execution": {
     "iopub.execute_input": "2023-01-19T05:14:24.750825Z",
     "iopub.status.busy": "2023-01-19T05:14:24.750026Z",
     "iopub.status.idle": "2023-01-19T05:14:24.827282Z",
     "shell.execute_reply": "2023-01-19T05:14:24.826333Z"
    },
    "papermill": {
     "duration": 0.084133,
     "end_time": "2023-01-19T05:14:24.829697",
     "exception": false,
     "start_time": "2023-01-19T05:14:24.745564",
     "status": "completed"
    },
    "tags": []
   },
   "outputs": [],
   "source": [
    "class CFG(object):\n",
    "    def __init__(self,\n",
    "             seed: int = 42,\n",
    "             size: int = 224,\n",
    "             n_splits: int = 5,\n",
    "             batch_size: int = 16,\n",
    "             epochs: int = 25,\n",
    "             early_stopping: int = 5,\n",
    "             lr: float = 1e-4,\n",
    "             wd: float = 0.0,\n",
    "             max_lr: float = 1e-3,\n",
    "             pct_start: float = 0.2,\n",
    "             steps_per_epoch: int = 100,\n",
    "             div_factor: int = 1e3, \n",
    "             final_div_factor: float = 1e3,\n",
    "         ):\n",
    "        self.seed = seed\n",
    "        self.size = size\n",
    "        self.n_splits = n_splits\n",
    "        self.batch_size = batch_size\n",
    "        self.epochs = epochs\n",
    "        self.early_stopping = early_stopping\n",
    "        self.lr = lr\n",
    "        self.wd = wd\n",
    "        self.max_lr = max_lr\n",
    "        self.pct_start = pct_start\n",
    "        self.steps_per_epoch = steps_per_epoch\n",
    "        self.div_factor = div_factor\n",
    "        self.final_div_factor = final_div_factor\n",
    "        self.device = torch.device(\"cuda\" if torch.cuda.is_available() else \"cpu\")\n",
    "        \n",
    "        if self.size == 224:\n",
    "            self.train_transform = transforms.Compose([\n",
    "                transforms.ToTensor(),\n",
    "                transforms.Normalize([0.50855, 0.50042, 0.44033], [0.20755, 0.20303, 0.20667]),\n",
    "                transforms.RandomAffine(degrees=(-45, 45), translate=(0.15, 0.15), scale=(0.5, 1.5)),\n",
    "                transforms.RandomHorizontalFlip(p=0.25),\n",
    "                transforms.RandomVerticalFlip(p=0.25),\n",
    "            ])\n",
    "            self.valid_transform = transforms.Compose([\n",
    "                transforms.ToTensor(),\n",
    "                transforms.Normalize([0.50855, 0.50042, 0.44033], [0.20755, 0.20303, 0.20667]),\n",
    "            ])\n",
    "        \n",
    "        if self.size == 384:\n",
    "            self.train_transform = transforms.Compose([\n",
    "                transforms.ToTensor(),\n",
    "                transforms.Normalize([0.50858, 0.50046, 0.44037], [0.20953, 0.20504, 0.20869]),\n",
    "                transforms.RandomAffine(degrees=(-45, 45), translate=(0.15, 0.15), scale=(0.5, 1.5)),\n",
    "                transforms.RandomHorizontalFlip(p=0.25),\n",
    "                transforms.RandomVerticalFlip(p=0.25),\n",
    "            ])\n",
    "            self.valid_transform = transforms.Compose([\n",
    "                transforms.ToTensor(),\n",
    "                transforms.Normalize([0.50858, 0.50046, 0.44037], [0.20953, 0.20504, 0.20869]),\n",
    "            ])\n",
    "        \n",
    "        if self.size == 512:\n",
    "            self.train_transform = transforms.Compose([\n",
    "                transforms.ToTensor(),\n",
    "                transforms.Normalize([0.50858, 0.50046, 0.44037], [0.21033, 0.20586, 0.20951]),\n",
    "                transforms.RandomAffine(degrees=(-45, 45), translate=(0.15, 0.15), scale=(0.5, 1.5)),\n",
    "                transforms.RandomHorizontalFlip(p=0.25),\n",
    "                transforms.RandomVerticalFlip(p=0.25),\n",
    "            ])\n",
    "            self.valid_transform = transforms.Compose([\n",
    "                transforms.ToTensor(),\n",
    "                transforms.Normalize([0.50858, 0.50046, 0.44037], [0.21033, 0.20586, 0.20951]),\n",
    "            ])\n",
    "                                \n",
    "        self.save_path = \"saves\"\n",
    "        if not os.path.exists(self.save_path): os.makedirs(self.save_path)\n",
    "    \n",
    "cfg = CFG(\n",
    "    seed=SEED, \n",
    "    size=SIZE\n",
    ")"
   ]
  },
  {
   "cell_type": "markdown",
   "id": "b73b0c00",
   "metadata": {
    "papermill": {
     "duration": 0.003625,
     "end_time": "2023-01-19T05:14:24.837203",
     "exception": false,
     "start_time": "2023-01-19T05:14:24.833578",
     "status": "completed"
    },
    "tags": []
   },
   "source": [
    "### **Dataset Template**"
   ]
  },
  {
   "cell_type": "code",
   "execution_count": 5,
   "id": "4c87788f",
   "metadata": {
    "execution": {
     "iopub.execute_input": "2023-01-19T05:14:24.845820Z",
     "iopub.status.busy": "2023-01-19T05:14:24.845516Z",
     "iopub.status.idle": "2023-01-19T05:14:24.852187Z",
     "shell.execute_reply": "2023-01-19T05:14:24.851274Z"
    },
    "papermill": {
     "duration": 0.013313,
     "end_time": "2023-01-19T05:14:24.854177",
     "exception": false,
     "start_time": "2023-01-19T05:14:24.840864",
     "status": "completed"
    },
    "tags": []
   },
   "outputs": [],
   "source": [
    "class DS(Dataset):\n",
    "    def __init__(\n",
    "        self, \n",
    "        filepaths: np.ndarray, \n",
    "        size: int,\n",
    "        labels: Union[np.ndarray, None]=None, \n",
    "        transform=None\n",
    "    ):\n",
    "        \n",
    "        self.filepaths = filepaths\n",
    "        self.labels = labels\n",
    "        self.size = size\n",
    "        self.transform = transform\n",
    "    \n",
    "    def __len__(self):\n",
    "        return self.filepaths.shape[0]\n",
    "    \n",
    "    def __getitem__(self, idx):\n",
    "        image = get_image(self.filepaths[idx], self.size)\n",
    "        if self.labels is None:\n",
    "            return self.transform(image)\n",
    "        return self.transform(image), torch.LongTensor(self.labels[idx])"
   ]
  },
  {
   "cell_type": "markdown",
   "id": "c9b5afd1",
   "metadata": {
    "papermill": {
     "duration": 0.003659,
     "end_time": "2023-01-19T05:14:24.861585",
     "exception": false,
     "start_time": "2023-01-19T05:14:24.857926",
     "status": "completed"
    },
    "tags": []
   },
   "source": [
    "### **Model**"
   ]
  },
  {
   "cell_type": "code",
   "execution_count": 6,
   "id": "28d1b276",
   "metadata": {
    "execution": {
     "iopub.execute_input": "2023-01-19T05:14:24.870290Z",
     "iopub.status.busy": "2023-01-19T05:14:24.870022Z",
     "iopub.status.idle": "2023-01-19T05:14:24.875770Z",
     "shell.execute_reply": "2023-01-19T05:14:24.874814Z"
    },
    "papermill": {
     "duration": 0.012391,
     "end_time": "2023-01-19T05:14:24.877705",
     "exception": false,
     "start_time": "2023-01-19T05:14:24.865314",
     "status": "completed"
    },
    "tags": []
   },
   "outputs": [],
   "source": [
    "class Model(nn.Module):\n",
    "    def __init__(self):\n",
    "        super(Model, self).__init__()\n",
    "            \n",
    "        self.model = timm.create_model(model_name=\"efficientnet_b4\", pretrained=True)\n",
    "        self.model.classifier = nn.Linear(in_features=self.model.classifier.in_features, out_features=90)\n",
    "\n",
    "    def forward(self, x):\n",
    "        return nn.LogSoftmax(dim=1)(self.model(x))"
   ]
  },
  {
   "cell_type": "markdown",
   "id": "5bc547cf",
   "metadata": {
    "papermill": {
     "duration": 0.003638,
     "end_time": "2023-01-19T05:14:24.885106",
     "exception": false,
     "start_time": "2023-01-19T05:14:24.881468",
     "status": "completed"
    },
    "tags": []
   },
   "source": [
    "### **Fit and Predict**"
   ]
  },
  {
   "cell_type": "code",
   "execution_count": 7,
   "id": "44137d76",
   "metadata": {
    "execution": {
     "iopub.execute_input": "2023-01-19T05:14:24.894170Z",
     "iopub.status.busy": "2023-01-19T05:14:24.893913Z",
     "iopub.status.idle": "2023-01-19T05:14:24.914442Z",
     "shell.execute_reply": "2023-01-19T05:14:24.913558Z"
    },
    "papermill": {
     "duration": 0.027502,
     "end_time": "2023-01-19T05:14:24.916391",
     "exception": false,
     "start_time": "2023-01-19T05:14:24.888889",
     "status": "completed"
    },
    "tags": []
   },
   "outputs": [],
   "source": [
    "def fit(\n",
    "    model=None,\n",
    "    optimizer=None, \n",
    "    scheduler_rlrop=None,\n",
    "    scheduler_oclr=None,\n",
    "    epochs=None, \n",
    "    early_stopping_patience=None, \n",
    "    dataloaders=None, \n",
    "    fold=None, \n",
    "    save_path=None,\n",
    "    device=None,\n",
    "    verbose=False\n",
    ") -> tuple:\n",
    "    \n",
    "    def get_accuracy(y_pred, y_true):\n",
    "        y_pred = torch.argmax(y_pred, dim=1)\n",
    "        return torch.count_nonzero(y_pred == y_true).item() / len(y_pred)\n",
    "    \n",
    "    \n",
    "    if verbose:\n",
    "        breaker()\n",
    "        if fold: print(f\"Training Fold {fold}...\")\n",
    "        else: print(\"Training ...\")\n",
    "        breaker()\n",
    "        \n",
    "    bestLoss: dict = {\"train\" : np.inf, \"valid\" : np.inf} \n",
    "    bestAccs: dict = {\"train\" : 0.0, \"valid\" : 0.0}\n",
    "    \n",
    "    Losses: list = []\n",
    "    Accuracies: list = [] \n",
    "    LRs: list = []\n",
    "        \n",
    "    if fold: \n",
    "        ble_name = f\"ble_state_fold_{fold}.pt\"\n",
    "        bae_name = f\"bae_state_fold_{fold}.pt\"\n",
    "    else: \n",
    "        ble_name = f\"ble_state.pt\"\n",
    "        bae_name = f\"bae_state.pt\"\n",
    "        \n",
    "    start_time = time()\n",
    "    for e in range(epochs):\n",
    "        e_st = time()\n",
    "        epochLoss: dict = {\"train\" : 0.0, \"valid\" : 0.0} \n",
    "        epochAccs: dict = {\"train\" : 0.0, \"valid\" : 0.0}\n",
    "\n",
    "        for phase in [\"train\", \"valid\"]:\n",
    "            if phase == \"train\":\n",
    "                model.train()\n",
    "            else:\n",
    "                model.eval()\n",
    "            \n",
    "            lossPerPass: list = []\n",
    "            accsPerPass: list = []\n",
    "                \n",
    "            for X, y in dataloaders[phase]:\n",
    "                X, y = X.to(device), y.to(device).view(-1)\n",
    "\n",
    "                optimizer.zero_grad()\n",
    "                with torch.set_grad_enabled(phase == \"train\"):\n",
    "                    output = model(X)\n",
    "                    loss = nn.NLLLoss()(output, y)\n",
    "                    if phase == \"train\":\n",
    "                        loss.backward()\n",
    "                        optimizer.step()\n",
    "                        if scheduler_oclr: scheduler_oclr.step()\n",
    "                lossPerPass.append(loss.item())\n",
    "                accsPerPass.append(get_accuracy(output, y))\n",
    "            epochLoss[phase] = np.mean(np.array(lossPerPass))\n",
    "            epochAccs[phase] = np.mean(np.array(accsPerPass))\n",
    "        if scheduler_oclr: LRs.append(scheduler_oclr.get_last_lr())\n",
    "        Losses.append(epochLoss)\n",
    "        Accuracies.append(epochAccs)\n",
    "        \n",
    "        if scheduler_oclr:\n",
    "            save_dict = {\"model_state_dict\"     : model.state_dict(),\n",
    "                         \"optim_state_dict\"     : optimizer.state_dict(),\n",
    "                         \"scheduler_state_dict\" : scheduler_oclr.state_dict()}\n",
    "        \n",
    "        elif scheduler_rlrop:\n",
    "            save_dict = {\"model_state_dict\"     : model.state_dict(),\n",
    "                         \"optim_state_dict\"     : optimizer.state_dict(),\n",
    "                         \"scheduler_state_dict\" : scheduler_rlrop.state_dict()}\n",
    "        \n",
    "        else:\n",
    "            save_dict = {\"model_state_dict\"     : model.state_dict(),\n",
    "                         \"optim_state_dict\"     : optimizer.state_dict()}\n",
    "        \n",
    "        if early_stopping_patience:\n",
    "            if epochLoss[\"valid\"] < bestLoss[\"valid\"]:\n",
    "                bestLoss = epochLoss\n",
    "                BLE = e + 1\n",
    "                torch.save(save_dict, os.path.join(save_path, ble_name))\n",
    "                torch.save(save_dict, os.path.join(save_path, bae_name))\n",
    "                early_stopping_step = 0\n",
    "            else:\n",
    "                early_stopping_step += 1\n",
    "                if early_stopping_step > early_stopping_patience:\n",
    "                    print(\"\\nEarly Stopping at Epoch {}\".format(e + 1))\n",
    "                    break\n",
    "        \n",
    "        if epochLoss[\"valid\"] < bestLoss[\"valid\"]:\n",
    "            bestLoss = epochLoss\n",
    "            BLE = e + 1\n",
    "            torch.save(save_dict,os.path.join(save_path, ble_name))\n",
    "        \n",
    "        if epochAccs[\"valid\"] > bestAccs[\"valid\"]:\n",
    "            bestAccs = epochAccs\n",
    "            BAE = e + 1\n",
    "            torch.save(save_dict,os.path.join(save_path, bae_name))\n",
    "        \n",
    "        if scheduler_rlrop: scheduler_rlrop.step(epochLoss[\"valid\"])\n",
    "        \n",
    "        if verbose:\n",
    "            print(\"Epoch: {} | Train Loss: {:.5f} | Valid Loss: {:.5f} |\\\n",
    " Train Accs: {:.5f} | Valid Accs: {:.5f} | Time: {:.2f} seconds\".format(e+1, \n",
    "                                                                        epochLoss[\"train\"], epochLoss[\"valid\"], \n",
    "                                                                        epochAccs[\"train\"], epochAccs[\"valid\"], \n",
    "                                                                        time()-e_st))\n",
    "\n",
    "    if verbose:                                           \n",
    "        breaker()\n",
    "        print(f\"Best Validation Loss at Epoch {BLE}\")\n",
    "        breaker()\n",
    "        print(f\"Best Validation Accs at Epoch {BAE}\")\n",
    "        breaker()\n",
    "        print(\"Time Taken [{} Epochs] : {:.2f} minutes\".format(len(Losses), (time()-start_time)/60))\n",
    "    \n",
    "    return Losses, Accuracies, LRs, bestLoss, bestAccs, BLE, BAE, ble_name, bae_name\n",
    "\n",
    "\n",
    "# def predict_batch(model=None, dataloader=None, path=None, device=None) -> np.ndarray:\n",
    "#     model.load_state_dict(torch.load(path, map_location=device)[\"model_state_dict\"])\n",
    "#     model.to(device)    \n",
    "#     model.eval()\n",
    "    \n",
    "#     y_pred = torch.zeros(1, 1).to(device)\n",
    "    \n",
    "#     for X in dataloader:\n",
    "#         X = X.to(device)\n",
    "#         with torch.no_grad():\n",
    "#             output = torch.argmax(torch.exp(model(X)), dim=1)\n",
    "#         y_pred = torch.cat((y_pred, output.view(-1, 1)), dim=0)\n",
    "    \n",
    "#     return y_pred[1:].detach().cpu().numpy()"
   ]
  },
  {
   "cell_type": "markdown",
   "id": "451a9245",
   "metadata": {
    "papermill": {
     "duration": 0.004575,
     "end_time": "2023-01-19T05:14:24.924918",
     "exception": false,
     "start_time": "2023-01-19T05:14:24.920343",
     "status": "completed"
    },
    "tags": []
   },
   "source": [
    "### **Train**"
   ]
  },
  {
   "cell_type": "code",
   "execution_count": 8,
   "id": "f490cec1",
   "metadata": {
    "execution": {
     "iopub.execute_input": "2023-01-19T05:14:24.933769Z",
     "iopub.status.busy": "2023-01-19T05:14:24.933433Z",
     "iopub.status.idle": "2023-01-19T05:14:24.972834Z",
     "shell.execute_reply": "2023-01-19T05:14:24.971889Z"
    },
    "papermill": {
     "duration": 0.046403,
     "end_time": "2023-01-19T05:14:24.975108",
     "exception": false,
     "start_time": "2023-01-19T05:14:24.928705",
     "status": "completed"
    },
    "tags": []
   },
   "outputs": [],
   "source": [
    "df = pd.read_csv(\"/kaggle/input/aid-dataframe/dataframe.csv\")\n",
    "\n",
    "filepaths = df.filepaths.copy().values\n",
    "labels = df.labels.copy().values"
   ]
  },
  {
   "cell_type": "code",
   "execution_count": 9,
   "id": "e405905a",
   "metadata": {
    "execution": {
     "iopub.execute_input": "2023-01-19T05:14:24.985676Z",
     "iopub.status.busy": "2023-01-19T05:14:24.984227Z",
     "iopub.status.idle": "2023-01-19T09:07:35.313169Z",
     "shell.execute_reply": "2023-01-19T09:07:35.312190Z"
    },
    "papermill": {
     "duration": 13990.335841,
     "end_time": "2023-01-19T09:07:35.315243",
     "exception": false,
     "start_time": "2023-01-19T05:14:24.979402",
     "status": "completed"
    },
    "tags": []
   },
   "outputs": [
    {
     "name": "stderr",
     "output_type": "stream",
     "text": [
      "Downloading: \"https://github.com/rwightman/pytorch-image-models/releases/download/v0.1-weights/efficientnet_b4_ra2_320-7eb33cd5.pth\" to /root/.cache/torch/hub/checkpoints/efficientnet_b4_ra2_320-7eb33cd5.pth\n"
     ]
    },
    {
     "name": "stdout",
     "output_type": "stream",
     "text": [
      "\n",
      "**************************************************\n",
      "\n",
      "Training Fold 1...\n",
      "\n",
      "**************************************************\n",
      "\n",
      "Epoch: 1 | Train Loss: 3.67586 | Valid Loss: 0.89103 | Train Accs: 0.26412 | Valid Accs: 0.73621 | Time: 329.73 seconds\n",
      "Epoch: 2 | Train Loss: 0.82682 | Valid Loss: 0.61163 | Train Accs: 0.76481 | Valid Accs: 0.82445 | Time: 276.13 seconds\n",
      "Epoch: 3 | Train Loss: 0.54474 | Valid Loss: 0.55919 | Train Accs: 0.84745 | Valid Accs: 0.84375 | Time: 276.49 seconds\n",
      "Epoch: 4 | Train Loss: 0.34837 | Valid Loss: 0.38124 | Train Accs: 0.89398 | Valid Accs: 0.89430 | Time: 277.28 seconds\n",
      "Epoch: 5 | Train Loss: 0.20876 | Valid Loss: 0.35024 | Train Accs: 0.93519 | Valid Accs: 0.90349 | Time: 278.76 seconds\n",
      "Epoch: 6 | Train Loss: 0.15164 | Valid Loss: 0.32307 | Train Accs: 0.95579 | Valid Accs: 0.91268 | Time: 275.68 seconds\n",
      "Epoch: 7 | Train Loss: 0.08587 | Valid Loss: 0.28992 | Train Accs: 0.97361 | Valid Accs: 0.92647 | Time: 276.57 seconds\n",
      "Epoch: 8 | Train Loss: 0.06063 | Valid Loss: 0.26080 | Train Accs: 0.98125 | Valid Accs: 0.93566 | Time: 276.43 seconds\n",
      "Epoch: 9 | Train Loss: 0.04731 | Valid Loss: 0.30321 | Train Accs: 0.98426 | Valid Accs: 0.93015 | Time: 274.49 seconds\n",
      "Epoch: 10 | Train Loss: 0.03200 | Valid Loss: 0.30614 | Train Accs: 0.99028 | Valid Accs: 0.93015 | Time: 271.81 seconds\n",
      "\n",
      "**************************************************\n",
      "\n",
      "Best Validation Loss at Epoch 8\n",
      "\n",
      "**************************************************\n",
      "\n",
      "Best Validation Accs at Epoch 8\n",
      "\n",
      "**************************************************\n",
      "\n",
      "Time Taken [10 Epochs] : 46.89 minutes\n",
      "\n",
      "**************************************************\n",
      "\n"
     ]
    },
    {
     "data": {
      "image/png": "[encoded data removed]",
      "text/plain": [
       "<Figure size 432x288 with 1 Axes>"
      ]
     },
     "metadata": {
      "needs_background": "light"
     },
     "output_type": "display_data"
    },
    {
     "name": "stdout",
     "output_type": "stream",
     "text": [
      "\n",
      "**************************************************\n",
      "\n"
     ]
    },
    {
     "data": {
      "image/png": "[encoded data removed]",
      "text/plain": [
       "<Figure size 432x288 with 1 Axes>"
      ]
     },
     "metadata": {
      "needs_background": "light"
     },
     "output_type": "display_data"
    },
    {
     "name": "stdout",
     "output_type": "stream",
     "text": [
      "\n",
      "**************************************************\n",
      "\n"
     ]
    },
    {
     "data": {
      "image/png": "[encoded data removed]",
      "text/plain": [
       "<Figure size 576x432 with 1 Axes>"
      ]
     },
     "metadata": {
      "needs_background": "light"
     },
     "output_type": "display_data"
    },
    {
     "name": "stdout",
     "output_type": "stream",
     "text": [
      "\n",
      "**************************************************\n",
      "\n",
      "\n",
      "**************************************************\n",
      "\n",
      "Training Fold 2...\n",
      "\n",
      "**************************************************\n",
      "\n",
      "Epoch: 1 | Train Loss: 3.66992 | Valid Loss: 0.93123 | Train Accs: 0.26273 | Valid Accs: 0.73162 | Time: 276.45 seconds\n",
      "Epoch: 2 | Train Loss: 0.82747 | Valid Loss: 0.73586 | Train Accs: 0.76898 | Valid Accs: 0.78768 | Time: 276.32 seconds\n",
      "Epoch: 3 | Train Loss: 0.54084 | Valid Loss: 0.62343 | Train Accs: 0.83981 | Valid Accs: 0.82812 | Time: 277.40 seconds\n",
      "Epoch: 4 | Train Loss: 0.33290 | Valid Loss: 0.52104 | Train Accs: 0.90046 | Valid Accs: 0.86121 | Time: 277.89 seconds\n",
      "Epoch: 5 | Train Loss: 0.19848 | Valid Loss: 0.43240 | Train Accs: 0.94282 | Valid Accs: 0.88143 | Time: 275.21 seconds\n",
      "Epoch: 6 | Train Loss: 0.14604 | Valid Loss: 0.34221 | Train Accs: 0.95648 | Valid Accs: 0.90809 | Time: 279.00 seconds\n",
      "Epoch: 7 | Train Loss: 0.08060 | Valid Loss: 0.33668 | Train Accs: 0.97708 | Valid Accs: 0.91085 | Time: 279.72 seconds\n",
      "Epoch: 8 | Train Loss: 0.05292 | Valid Loss: 0.34011 | Train Accs: 0.98218 | Valid Accs: 0.91085 | Time: 274.09 seconds\n",
      "Epoch: 9 | Train Loss: 0.04005 | Valid Loss: 0.30856 | Train Accs: 0.98542 | Valid Accs: 0.93107 | Time: 278.26 seconds\n",
      "Epoch: 10 | Train Loss: 0.03406 | Valid Loss: 0.31110 | Train Accs: 0.98935 | Valid Accs: 0.92096 | Time: 279.72 seconds\n",
      "\n",
      "**************************************************\n",
      "\n",
      "Best Validation Loss at Epoch 9\n",
      "\n",
      "**************************************************\n",
      "\n",
      "Best Validation Accs at Epoch 9\n",
      "\n",
      "**************************************************\n",
      "\n",
      "Time Taken [10 Epochs] : 46.23 minutes\n",
      "\n",
      "**************************************************\n",
      "\n"
     ]
    },
    {
     "data": {
      "image/png": "[encoded data removed]",
      "text/plain": [
       "<Figure size 432x288 with 1 Axes>"
      ]
     },
     "metadata": {
      "needs_background": "light"
     },
     "output_type": "display_data"
    },
    {
     "name": "stdout",
     "output_type": "stream",
     "text": [
      "\n",
      "**************************************************\n",
      "\n"
     ]
    },
    {
     "data": {
      "image/png": "[encoded data removed]",
      "text/plain": [
       "<Figure size 432x288 with 1 Axes>"
      ]
     },
     "metadata": {
      "needs_background": "light"
     },
     "output_type": "display_data"
    },
    {
     "name": "stdout",
     "output_type": "stream",
     "text": [
      "\n",
      "**************************************************\n",
      "\n"
     ]
    },
    {
     "data": {
      "image/png": "[encoded data removed]",
      "text/plain": [
       "<Figure size 576x432 with 1 Axes>"
      ]
     },
     "metadata": {
      "needs_background": "light"
     },
     "output_type": "display_data"
    },
    {
     "name": "stdout",
     "output_type": "stream",
     "text": [
      "\n",
      "**************************************************\n",
      "\n",
      "\n",
      "**************************************************\n",
      "\n",
      "Training Fold 3...\n",
      "\n",
      "**************************************************\n",
      "\n",
      "Epoch: 1 | Train Loss: 3.67316 | Valid Loss: 0.86681 | Train Accs: 0.25602 | Valid Accs: 0.77206 | Time: 281.08 seconds\n",
      "Epoch: 2 | Train Loss: 0.83412 | Valid Loss: 0.60790 | Train Accs: 0.76968 | Valid Accs: 0.81985 | Time: 281.89 seconds\n",
      "Epoch: 3 | Train Loss: 0.52890 | Valid Loss: 0.55347 | Train Accs: 0.84977 | Valid Accs: 0.86121 | Time: 281.93 seconds\n",
      "Epoch: 4 | Train Loss: 0.32987 | Valid Loss: 0.47469 | Train Accs: 0.89884 | Valid Accs: 0.86765 | Time: 281.61 seconds\n",
      "Epoch: 5 | Train Loss: 0.19879 | Valid Loss: 0.42741 | Train Accs: 0.93704 | Valid Accs: 0.88419 | Time: 280.40 seconds\n",
      "Epoch: 6 | Train Loss: 0.14845 | Valid Loss: 0.36044 | Train Accs: 0.95556 | Valid Accs: 0.91728 | Time: 280.90 seconds\n",
      "Epoch: 7 | Train Loss: 0.07842 | Valid Loss: 0.32962 | Train Accs: 0.97755 | Valid Accs: 0.91544 | Time: 280.22 seconds\n",
      "Epoch: 8 | Train Loss: 0.05773 | Valid Loss: 0.32086 | Train Accs: 0.98356 | Valid Accs: 0.93290 | Time: 280.56 seconds\n",
      "Epoch: 9 | Train Loss: 0.03156 | Valid Loss: 0.30224 | Train Accs: 0.99167 | Valid Accs: 0.92463 | Time: 278.66 seconds\n",
      "Epoch: 10 | Train Loss: 0.02316 | Valid Loss: 0.36049 | Train Accs: 0.99398 | Valid Accs: 0.92188 | Time: 275.31 seconds\n",
      "\n",
      "**************************************************\n",
      "\n",
      "Best Validation Loss at Epoch 9\n",
      "\n",
      "**************************************************\n",
      "\n",
      "Best Validation Accs at Epoch 8\n",
      "\n",
      "**************************************************\n",
      "\n",
      "Time Taken [10 Epochs] : 46.71 minutes\n",
      "\n",
      "**************************************************\n",
      "\n"
     ]
    },
    {
     "data": {
      "image/png": "[encoded data removed]",
      "text/plain": [
       "<Figure size 432x288 with 1 Axes>"
      ]
     },
     "metadata": {
      "needs_background": "light"
     },
     "output_type": "display_data"
    },
    {
     "name": "stdout",
     "output_type": "stream",
     "text": [
      "\n",
      "**************************************************\n",
      "\n"
     ]
    },
    {
     "data": {
      "image/png": "[encoded data removed]",
      "text/plain": [
       "<Figure size 432x288 with 1 Axes>"
      ]
     },
     "metadata": {
      "needs_background": "light"
     },
     "output_type": "display_data"
    },
    {
     "name": "stdout",
     "output_type": "stream",
     "text": [
      "\n",
      "**************************************************\n",
      "\n"
     ]
    },
    {
     "data": {
      "image/png": "[encoded data removed]",
      "text/plain": [
       "<Figure size 576x432 with 1 Axes>"
      ]
     },
     "metadata": {
      "needs_background": "light"
     },
     "output_type": "display_data"
    },
    {
     "name": "stdout",
     "output_type": "stream",
     "text": [
      "\n",
      "**************************************************\n",
      "\n",
      "\n",
      "**************************************************\n",
      "\n",
      "Training Fold 4...\n",
      "\n",
      "**************************************************\n",
      "\n",
      "Epoch: 1 | Train Loss: 3.66563 | Valid Loss: 0.91518 | Train Accs: 0.25995 | Valid Accs: 0.72243 | Time: 276.20 seconds\n",
      "Epoch: 2 | Train Loss: 0.85940 | Valid Loss: 0.66209 | Train Accs: 0.76296 | Valid Accs: 0.82629 | Time: 282.80 seconds\n",
      "Epoch: 3 | Train Loss: 0.51089 | Valid Loss: 0.48647 | Train Accs: 0.85000 | Valid Accs: 0.87132 | Time: 277.87 seconds\n",
      "Epoch: 4 | Train Loss: 0.33049 | Valid Loss: 0.43969 | Train Accs: 0.90301 | Valid Accs: 0.87592 | Time: 282.21 seconds\n",
      "Epoch: 5 | Train Loss: 0.20451 | Valid Loss: 0.35609 | Train Accs: 0.94005 | Valid Accs: 0.90625 | Time: 283.36 seconds\n",
      "Epoch: 6 | Train Loss: 0.14715 | Valid Loss: 0.39445 | Train Accs: 0.95486 | Valid Accs: 0.89798 | Time: 280.10 seconds\n",
      "Epoch: 7 | Train Loss: 0.08284 | Valid Loss: 0.30461 | Train Accs: 0.97454 | Valid Accs: 0.91728 | Time: 281.11 seconds\n",
      "Epoch: 8 | Train Loss: 0.05406 | Valid Loss: 0.28981 | Train Accs: 0.98426 | Valid Accs: 0.92739 | Time: 279.23 seconds\n",
      "Epoch: 9 | Train Loss: 0.03920 | Valid Loss: 0.30148 | Train Accs: 0.98796 | Valid Accs: 0.92831 | Time: 278.87 seconds\n",
      "Epoch: 10 | Train Loss: 0.03476 | Valid Loss: 0.27880 | Train Accs: 0.98819 | Valid Accs: 0.93290 | Time: 280.54 seconds\n",
      "\n",
      "**************************************************\n",
      "\n",
      "Best Validation Loss at Epoch 10\n",
      "\n",
      "**************************************************\n",
      "\n",
      "Best Validation Accs at Epoch 10\n",
      "\n",
      "**************************************************\n",
      "\n",
      "Time Taken [10 Epochs] : 46.70 minutes\n",
      "\n",
      "**************************************************\n",
      "\n"
     ]
    },
    {
     "data": {
      "image/png": "[encoded data removed]",
      "text/plain": [
       "<Figure size 432x288 with 1 Axes>"
      ]
     },
     "metadata": {
      "needs_background": "light"
     },
     "output_type": "display_data"
    },
    {
     "name": "stdout",
     "output_type": "stream",
     "text": [
      "\n",
      "**************************************************\n",
      "\n"
     ]
    },
    {
     "data": {
      "image/png": "[encoded data removed]",
      "text/plain": [
       "<Figure size 432x288 with 1 Axes>"
      ]
     },
     "metadata": {
      "needs_background": "light"
     },
     "output_type": "display_data"
    },
    {
     "name": "stdout",
     "output_type": "stream",
     "text": [
      "\n",
      "**************************************************\n",
      "\n"
     ]
    },
    {
     "data": {
      "image/png": "[encoded data removed]",
      "text/plain": [
       "<Figure size 576x432 with 1 Axes>"
      ]
     },
     "metadata": {
      "needs_background": "light"
     },
     "output_type": "display_data"
    },
    {
     "name": "stdout",
     "output_type": "stream",
     "text": [
      "\n",
      "**************************************************\n",
      "\n",
      "\n",
      "**************************************************\n",
      "\n",
      "Training Fold 5...\n",
      "\n",
      "**************************************************\n",
      "\n",
      "Epoch: 1 | Train Loss: 3.67699 | Valid Loss: 0.93026 | Train Accs: 0.25694 | Valid Accs: 0.74265 | Time: 281.77 seconds\n",
      "Epoch: 2 | Train Loss: 0.85257 | Valid Loss: 0.67824 | Train Accs: 0.75602 | Valid Accs: 0.81985 | Time: 278.28 seconds\n",
      "Epoch: 3 | Train Loss: 0.50352 | Valid Loss: 0.59028 | Train Accs: 0.85741 | Valid Accs: 0.84926 | Time: 282.27 seconds\n",
      "Epoch: 4 | Train Loss: 0.34787 | Valid Loss: 0.42911 | Train Accs: 0.90000 | Valid Accs: 0.87868 | Time: 281.35 seconds\n",
      "Epoch: 5 | Train Loss: 0.19390 | Valid Loss: 0.41080 | Train Accs: 0.94190 | Valid Accs: 0.89890 | Time: 278.13 seconds\n",
      "Epoch: 6 | Train Loss: 0.13414 | Valid Loss: 0.37122 | Train Accs: 0.96597 | Valid Accs: 0.90625 | Time: 276.81 seconds\n",
      "Epoch: 7 | Train Loss: 0.07744 | Valid Loss: 0.36176 | Train Accs: 0.97778 | Valid Accs: 0.91360 | Time: 278.45 seconds\n",
      "Epoch: 8 | Train Loss: 0.05686 | Valid Loss: 0.31581 | Train Accs: 0.98472 | Valid Accs: 0.92096 | Time: 275.91 seconds\n",
      "Epoch: 9 | Train Loss: 0.03931 | Valid Loss: 0.31339 | Train Accs: 0.98889 | Valid Accs: 0.92923 | Time: 276.30 seconds\n",
      "Epoch: 10 | Train Loss: 0.03228 | Valid Loss: 0.29606 | Train Accs: 0.99005 | Valid Accs: 0.93107 | Time: 279.16 seconds\n",
      "\n",
      "**************************************************\n",
      "\n",
      "Best Validation Loss at Epoch 10\n",
      "\n",
      "**************************************************\n",
      "\n",
      "Best Validation Accs at Epoch 10\n",
      "\n",
      "**************************************************\n",
      "\n",
      "Time Taken [10 Epochs] : 46.47 minutes\n",
      "\n",
      "**************************************************\n",
      "\n"
     ]
    },
    {
     "data": {
      "image/png": "[encoded data removed]",
      "text/plain": [
       "<Figure size 432x288 with 1 Axes>"
      ]
     },
     "metadata": {
      "needs_background": "light"
     },
     "output_type": "display_data"
    },
    {
     "name": "stdout",
     "output_type": "stream",
     "text": [
      "\n",
      "**************************************************\n",
      "\n"
     ]
    },
    {
     "data": {
      "image/png": "[encoded data removed]",
      "text/plain": [
       "<Figure size 432x288 with 1 Axes>"
      ]
     },
     "metadata": {
      "needs_background": "light"
     },
     "output_type": "display_data"
    },
    {
     "name": "stdout",
     "output_type": "stream",
     "text": [
      "\n",
      "**************************************************\n",
      "\n"
     ]
    },
    {
     "data": {
      "image/png": "[encoded data removed]",
      "text/plain": [
       "<Figure size 576x432 with 1 Axes>"
      ]
     },
     "metadata": {
      "needs_background": "light"
     },
     "output_type": "display_data"
    },
    {
     "name": "stdout",
     "output_type": "stream",
     "text": [
      "\n",
      "**************************************************\n",
      "\n"
     ]
    }
   ],
   "source": [
    "fold: int = 1\n",
    "BLs: list = []\n",
    "BAs: list = []\n",
    "    \n",
    "cfg.batch_size = 16\n",
    "cfg.epochs = 10\n",
    "    \n",
    "for tr_idx, va_idx in StratifiedKFold(n_splits=cfg.n_splits, random_state=cfg.seed, shuffle=True).split(filepaths, labels):\n",
    "#     if fold == 1: break\n",
    "#     fold += 1\n",
    "\n",
    "    tr_filepaths, va_filepaths = filepaths[tr_idx], filepaths[va_idx] \n",
    "    tr_labels, va_labels       = labels[tr_idx], labels[va_idx]\n",
    "\n",
    "    tr_data_setup = DS(\n",
    "        filepaths=tr_filepaths, \n",
    "        labels=tr_labels.reshape(-1, 1),\n",
    "        size=cfg.size,\n",
    "        transform=cfg.train_transform\n",
    "    )\n",
    "\n",
    "    va_data_setup = DS(\n",
    "        filepaths=va_filepaths, \n",
    "        labels=va_labels.reshape(-1, 1),\n",
    "        size=cfg.size,\n",
    "        transform=cfg.train_transform\n",
    "    )\n",
    "\n",
    "    dataloaders = {\n",
    "        \"train\" : DL(tr_data_setup, batch_size=cfg.batch_size, shuffle=True, generator=torch.manual_seed(cfg.seed)),\n",
    "        \"valid\" : DL(va_data_setup, batch_size=cfg.batch_size, shuffle=False),\n",
    "    }\n",
    "\n",
    "    cfg.steps_per_epoch=len(dataloaders[\"train\"])\n",
    "\n",
    "    torch.manual_seed(cfg.seed)\n",
    "    model = Model().to(cfg.device)\n",
    "\n",
    "    optimizer = optim.Adam([p for p in model.parameters() if p.requires_grad], lr=cfg.lr, weight_decay=cfg.wd)\n",
    "    # optimizer = optim.AdamW([p for p in model.parameters() if p.requires_grad], lr=cfg.lr, weight_decay=cfg.wd)\n",
    "    # optimizer = optim.SGD([p for p in model.parameters() if p.requires_grad], lr=cfg.lr, weight_decay=cfg.wd, momentum=0.9)\n",
    "\n",
    "    scheduler_oclr = optim.lr_scheduler.OneCycleLR(\n",
    "        optimizer=optimizer, \n",
    "        max_lr=cfg.max_lr, \n",
    "        epochs=cfg.epochs, \n",
    "        steps_per_epoch=cfg.steps_per_epoch,\n",
    "        pct_start=cfg.pct_start, \n",
    "        div_factor=cfg.div_factor, \n",
    "        final_div_factor=cfg.final_div_factor\n",
    "    )\n",
    "\n",
    "    # scheduler_rlrop = optim.lr_scheduler.ReduceLROnPlateau(\n",
    "    #     optimizer=optimizer,\n",
    "    #     patience=cfg.patience,\n",
    "    #     eps=cfg.eps,\n",
    "    #     verbose=True\n",
    "    # )\n",
    "\n",
    "    # scheduler_oclr = None\n",
    "    scheduler_rlrop = None\n",
    "\n",
    "\n",
    "    L, A, LR, BL, BA, _, _, _, _ = fit(\n",
    "        model=model, \n",
    "        optimizer=optimizer, \n",
    "        scheduler_oclr=scheduler_oclr,\n",
    "        scheduler_rlrop=scheduler_rlrop,\n",
    "        epochs=cfg.epochs, \n",
    "        early_stopping_patience=cfg.early_stopping, \n",
    "        dataloaders=dataloaders, \n",
    "        device=cfg.device,\n",
    "        save_path=cfg.save_path,\n",
    "        fold=fold,\n",
    "        verbose=True\n",
    "    )\n",
    "\n",
    "\n",
    "    breaker()\n",
    "    show_loss_graphs(L)\n",
    "    breaker()\n",
    "    show_accuracy_graphs(A)\n",
    "    breaker()\n",
    "    if scheduler_oclr:\n",
    "        show_lr_graph(LR)\n",
    "        breaker()\n",
    "\n",
    "    BLs.append(BL)\n",
    "    BAs.append(BA)\n",
    "\n",
    "    fold += 1"
   ]
  },
  {
   "cell_type": "markdown",
   "id": "71141836",
   "metadata": {
    "papermill": {
     "duration": 0.0107,
     "end_time": "2023-01-19T09:07:35.336971",
     "exception": false,
     "start_time": "2023-01-19T09:07:35.326271",
     "status": "completed"
    },
    "tags": []
   },
   "source": [
    "### **Best Model**"
   ]
  },
  {
   "cell_type": "code",
   "execution_count": 10,
   "id": "7212af44",
   "metadata": {
    "execution": {
     "iopub.execute_input": "2023-01-19T09:07:35.359987Z",
     "iopub.status.busy": "2023-01-19T09:07:35.359636Z",
     "iopub.status.idle": "2023-01-19T09:07:35.366927Z",
     "shell.execute_reply": "2023-01-19T09:07:35.365957Z"
    },
    "papermill": {
     "duration": 0.021791,
     "end_time": "2023-01-19T09:07:35.369430",
     "exception": false,
     "start_time": "2023-01-19T09:07:35.347639",
     "status": "completed"
    },
    "tags": []
   },
   "outputs": [
    {
     "name": "stdout",
     "output_type": "stream",
     "text": [
      "\n",
      "**************************************************\n",
      "\n",
      "Best Loss Model Fold     : 1\n",
      "Best Accuracy Model Fold : 1\n",
      "\n",
      "**************************************************\n",
      "\n"
     ]
    }
   ],
   "source": [
    "BL = np.inf\n",
    "for i in range(len(BLs)):\n",
    "    if BLs[i][\"valid\"] < BL:\n",
    "        BL = BLs[i][\"valid\"]\n",
    "        best_loss_index = i\n",
    "\n",
    "        \n",
    "BA = 0.0\n",
    "for i in range(len(BAs)):\n",
    "    if BAs[i][\"valid\"] > BA:\n",
    "        BA = BAs[i][\"valid\"]\n",
    "        best_accs_index = i\n",
    "\n",
    "breaker()\n",
    "print(f\"Best Loss Model Fold     : {best_loss_index + 1}\")\n",
    "print(f\"Best Accuracy Model Fold : {best_accs_index + 1}\")\n",
    "breaker()"
   ]
  }
 ],
 "metadata": {
  "kernelspec": {
   "display_name": "Python 3",
   "language": "python",
   "name": "python3"
  },
  "language_info": {
   "codemirror_mode": {
    "name": "ipython",
    "version": 3
   },
   "file_extension": ".py",
   "mimetype": "text/x-python",
   "name": "python",
   "nbconvert_exporter": "python",
   "pygments_lexer": "ipython3",
   "version": "3.7.12"
  },
  "papermill": {
   "default_parameters": {},
   "duration": 14015.930192,
   "end_time": "2023-01-19T09:07:37.872378",
   "environment_variables": {},
   "exception": null,
   "input_path": "__notebook__.ipynb",
   "output_path": "__notebook__.ipynb",
   "parameters": {},
   "start_time": "2023-01-19T05:14:01.942186",
   "version": "2.3.4"
  }
 },
 "nbformat": 4,
 "nbformat_minor": 5
}
