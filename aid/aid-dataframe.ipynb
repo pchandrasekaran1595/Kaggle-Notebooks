{
 "cells": [
  {
   "cell_type": "code",
   "execution_count": 1,
   "id": "ec8584f9",
   "metadata": {
    "_cell_guid": "b1076dfc-b9ad-4769-8c92-a6c4dae69d19",
    "_uuid": "8f2839f25d086af736a60e9eeb907d3b93b6e0e5",
    "execution": {
     "iopub.execute_input": "2023-01-18T13:40:17.897174Z",
     "iopub.status.busy": "2023-01-18T13:40:17.896732Z",
     "iopub.status.idle": "2023-01-18T13:40:18.083152Z",
     "shell.execute_reply": "2023-01-18T13:40:18.081280Z"
    },
    "papermill": {
     "duration": 0.19315,
     "end_time": "2023-01-18T13:40:18.086129",
     "exception": false,
     "start_time": "2023-01-18T13:40:17.892979",
     "status": "completed"
    },
    "tags": []
   },
   "outputs": [],
   "source": [
    "import os\n",
    "import cv2\n",
    "import json\n",
    "import numpy as np\n",
    "import pandas as pd\n",
    "\n",
    "BASE_PATH: str = \"/kaggle/input/animal-image-dataset-90-different-animals/animals/animals\""
   ]
  },
  {
   "cell_type": "code",
   "execution_count": 2,
   "id": "780367e3",
   "metadata": {
    "execution": {
     "iopub.execute_input": "2023-01-18T13:40:18.091394Z",
     "iopub.status.busy": "2023-01-18T13:40:18.090850Z",
     "iopub.status.idle": "2023-01-18T13:40:20.124605Z",
     "shell.execute_reply": "2023-01-18T13:40:20.122885Z"
    },
    "papermill": {
     "duration": 2.039341,
     "end_time": "2023-01-18T13:40:20.127358",
     "exception": false,
     "start_time": "2023-01-18T13:40:18.088017",
     "status": "completed"
    },
    "tags": []
   },
   "outputs": [],
   "source": [
    "df: pd.DataFrame = pd.DataFrame(data=None, columns=[\"filepaths\", \"labels\"])\n",
    "    \n",
    "filepaths: list = []\n",
    "labels: list = []\n",
    "\n",
    "i: int = 0    \n",
    "for folder in sorted(os.listdir(f\"{BASE_PATH}\")):\n",
    "    for filename in os.listdir(f\"{BASE_PATH}/{folder}\"):\n",
    "        filepaths.append(os.path.join(f\"{BASE_PATH}/{folder}\", filename))\n",
    "        labels.append(i)\n",
    "    i += 1\n",
    "\n",
    "df.filepaths = filepaths\n",
    "df.labels = labels\n",
    "df.to_csv(\"dataframe.csv\", index=False)"
   ]
  },
  {
   "cell_type": "code",
   "execution_count": 3,
   "id": "7051a8e2",
   "metadata": {
    "execution": {
     "iopub.execute_input": "2023-01-18T13:40:20.131882Z",
     "iopub.status.busy": "2023-01-18T13:40:20.131520Z",
     "iopub.status.idle": "2023-01-18T13:40:20.137932Z",
     "shell.execute_reply": "2023-01-18T13:40:20.136997Z"
    },
    "papermill": {
     "duration": 0.011424,
     "end_time": "2023-01-18T13:40:20.140504",
     "exception": false,
     "start_time": "2023-01-18T13:40:20.129080",
     "status": "completed"
    },
    "tags": []
   },
   "outputs": [],
   "source": [
    "labels: dict = dict()\n",
    "\n",
    "i = 0\n",
    "for folder in sorted(os.listdir(f\"{BASE_PATH}\")):\n",
    "    labels[i] = folder\n",
    "    i += 1\n",
    "\n",
    "json.dump(labels, open(\"labels.json\", \"w\"))"
   ]
  }
 ],
 "metadata": {
  "kernelspec": {
   "display_name": "Python 3",
   "language": "python",
   "name": "python3"
  },
  "language_info": {
   "codemirror_mode": {
    "name": "ipython",
    "version": 3
   },
   "file_extension": ".py",
   "mimetype": "text/x-python",
   "name": "python",
   "nbconvert_exporter": "python",
   "pygments_lexer": "ipython3",
   "version": "3.7.12"
  },
  "papermill": {
   "default_parameters": {},
   "duration": 10.767346,
   "end_time": "2023-01-18T13:40:20.865819",
   "environment_variables": {},
   "exception": null,
   "input_path": "__notebook__.ipynb",
   "output_path": "__notebook__.ipynb",
   "parameters": {},
   "start_time": "2023-01-18T13:40:10.098473",
   "version": "2.3.4"
  }
 },
 "nbformat": 4,
 "nbformat_minor": 5
}
