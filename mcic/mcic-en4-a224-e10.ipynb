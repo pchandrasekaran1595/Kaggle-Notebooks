{
 "cells": [
  {
   "cell_type": "markdown",
   "id": "5b631efd",
   "metadata": {
    "_cell_guid": "b1076dfc-b9ad-4769-8c92-a6c4dae69d19",
    "_uuid": "8f2839f25d086af736a60e9eeb907d3b93b6e0e5",
    "papermill": {
     "duration": 0.004911,
     "end_time": "2023-01-16T07:19:38.166089",
     "exception": false,
     "start_time": "2023-01-16T07:19:38.161178",
     "status": "completed"
    },
    "tags": []
   },
   "source": [
    "### **Setup**"
   ]
  },
  {
   "cell_type": "code",
   "execution_count": 1,
   "id": "c6287ee6",
   "metadata": {
    "execution": {
     "iopub.execute_input": "2023-01-16T07:19:38.175759Z",
     "iopub.status.busy": "2023-01-16T07:19:38.175307Z",
     "iopub.status.idle": "2023-01-16T07:19:49.178139Z",
     "shell.execute_reply": "2023-01-16T07:19:49.176577Z"
    },
    "papermill": {
     "duration": 11.011423,
     "end_time": "2023-01-16T07:19:49.181456",
     "exception": false,
     "start_time": "2023-01-16T07:19:38.170033",
     "status": "completed"
    },
    "tags": []
   },
   "outputs": [
    {
     "name": "stderr",
     "output_type": "stream",
     "text": [
      "WARNING: Running pip as the 'root' user can result in broken permissions and conflicting behaviour with the system package manager. It is recommended to use a virtual environment instead: https://pip.pypa.io/warnings/venv\n"
     ]
    }
   ],
   "source": [
    "%%bash\n",
    "pip install timm -q"
   ]
  },
  {
   "cell_type": "markdown",
   "id": "3aa95183",
   "metadata": {
    "papermill": {
     "duration": 0.004074,
     "end_time": "2023-01-16T07:19:49.190154",
     "exception": false,
     "start_time": "2023-01-16T07:19:49.186080",
     "status": "completed"
    },
    "tags": []
   },
   "source": [
    "### **Library Imports**"
   ]
  },
  {
   "cell_type": "code",
   "execution_count": 2,
   "id": "55534b7f",
   "metadata": {
    "execution": {
     "iopub.execute_input": "2023-01-16T07:19:49.200753Z",
     "iopub.status.busy": "2023-01-16T07:19:49.200386Z",
     "iopub.status.idle": "2023-01-16T07:19:52.994359Z",
     "shell.execute_reply": "2023-01-16T07:19:52.993364Z"
    },
    "papermill": {
     "duration": 3.802233,
     "end_time": "2023-01-16T07:19:52.996810",
     "exception": false,
     "start_time": "2023-01-16T07:19:49.194577",
     "status": "completed"
    },
    "tags": []
   },
   "outputs": [],
   "source": [
    "import os\n",
    "import re\n",
    "import cv2\n",
    "import timm\n",
    "import torch\n",
    "import numpy as np\n",
    "import pandas as pd\n",
    "import matplotlib.pyplot as plt\n",
    "\n",
    "from time import time\n",
    "from typing import Union\n",
    "from torch import nn, optim\n",
    "from torch.utils.data import Dataset\n",
    "from torch.utils.data import DataLoader as DL\n",
    "from torchvision import transforms\n",
    "\n",
    "from sklearn.model_selection import StratifiedKFold"
   ]
  },
  {
   "cell_type": "markdown",
   "id": "c5f419dc",
   "metadata": {
    "papermill": {
     "duration": 0.003769,
     "end_time": "2023-01-16T07:19:53.004843",
     "exception": false,
     "start_time": "2023-01-16T07:19:53.001074",
     "status": "completed"
    },
    "tags": []
   },
   "source": [
    "### **Utilities and Helpers**"
   ]
  },
  {
   "cell_type": "code",
   "execution_count": 3,
   "id": "2132feab",
   "metadata": {
    "execution": {
     "iopub.execute_input": "2023-01-16T07:19:53.014008Z",
     "iopub.status.busy": "2023-01-16T07:19:53.013722Z",
     "iopub.status.idle": "2023-01-16T07:19:53.025465Z",
     "shell.execute_reply": "2023-01-16T07:19:53.024462Z"
    },
    "papermill": {
     "duration": 0.018715,
     "end_time": "2023-01-16T07:19:53.027417",
     "exception": false,
     "start_time": "2023-01-16T07:19:53.008702",
     "status": "completed"
    },
    "tags": []
   },
   "outputs": [],
   "source": [
    "SEED: int = 42\n",
    "SIZE: int = 224\n",
    "\n",
    "\n",
    "def breaker(num: int=50, char: str=\"*\") -> None: print(\"\\n\" + num*char + \"\\n\")\n",
    "\n",
    "    \n",
    "def get_image(path: str, size: int=224) -> np.ndarray:\n",
    "    image = cv2.imread(path, cv2.IMREAD_COLOR)\n",
    "    image = cv2.cvtColor(src=image, code=cv2.COLOR_BGR2RGB)\n",
    "    return cv2.resize(src=image, dsize=(size, size), interpolation=cv2.INTER_AREA)\n",
    "\n",
    "    \n",
    "def show_loss_graphs(L: list) -> None:\n",
    "    TL, VL = [], []\n",
    "    for i in range(len(L)):\n",
    "        TL.append(L[i][\"train\"])\n",
    "        VL.append(L[i][\"valid\"])\n",
    "    x_Axis = np.arange(1, len(TL) + 1)\n",
    "    plt.figure()\n",
    "    plt.plot(x_Axis, TL, \"r\", label=\"Train\")\n",
    "    plt.plot(x_Axis, VL, \"b\", label=\"Valid\")\n",
    "    plt.legend()\n",
    "    plt.grid()\n",
    "    plt.title(\"Loss Graph\")\n",
    "    plt.show()\n",
    "\n",
    "    \n",
    "def show_accuracy_graphs(A: list) -> None:\n",
    "    TA, VA = [], []\n",
    "    for i in range(len(A)):\n",
    "        TA.append(A[i][\"train\"])\n",
    "        VA.append(A[i][\"valid\"])\n",
    "    x_Axis = np.arange(1, len(TA) + 1)\n",
    "    plt.figure()\n",
    "    plt.plot(x_Axis, TA, \"r\", label=\"Train\")\n",
    "    plt.plot(x_Axis, VA, \"b\", label=\"Valid\")\n",
    "    plt.legend()\n",
    "    plt.grid()\n",
    "    plt.title(\"Accuracy Graph\")\n",
    "    plt.show()\n",
    "    \n",
    "\n",
    "def show_lr_graph(LR: list) -> None:\n",
    "    x_Axis = [i+1 for i in range(len(LR))]\n",
    "    plt.figure(figsize=(8, 6))\n",
    "    plt.plot(x_Axis, LR, \"rx\")\n",
    "    plt.grid()\n",
    "    plt.show()"
   ]
  },
  {
   "cell_type": "markdown",
   "id": "38daec22",
   "metadata": {
    "papermill": {
     "duration": 0.003948,
     "end_time": "2023-01-16T07:19:53.035566",
     "exception": false,
     "start_time": "2023-01-16T07:19:53.031618",
     "status": "completed"
    },
    "tags": []
   },
   "source": [
    "\n",
    "\n",
    "### **Configuration**"
   ]
  },
  {
   "cell_type": "code",
   "execution_count": 4,
   "id": "aa77c5c3",
   "metadata": {
    "execution": {
     "iopub.execute_input": "2023-01-16T07:19:53.044758Z",
     "iopub.status.busy": "2023-01-16T07:19:53.044221Z",
     "iopub.status.idle": "2023-01-16T07:19:53.113467Z",
     "shell.execute_reply": "2023-01-16T07:19:53.112573Z"
    },
    "papermill": {
     "duration": 0.076301,
     "end_time": "2023-01-16T07:19:53.115673",
     "exception": false,
     "start_time": "2023-01-16T07:19:53.039372",
     "status": "completed"
    },
    "tags": []
   },
   "outputs": [],
   "source": [
    "class CFG(object):\n",
    "    def __init__(self, \n",
    "                 seed: int = 42,\n",
    "                 size: int = 224,\n",
    "                 n_splits: int = 5,\n",
    "                 batch_size: int = 16,\n",
    "                 epochs: int = 25,\n",
    "                 early_stopping: int = 5,\n",
    "                 lr: float = 1e-4,\n",
    "                 wd: float = 0.0,\n",
    "                 max_lr: float = 1e-3,\n",
    "                 pct_start: float = 0.2,\n",
    "                 steps_per_epoch: int = 100,\n",
    "                 div_factor: int = 1e3, \n",
    "                 final_div_factor: float = 1e3,\n",
    "                 ):\n",
    "        self.seed = seed\n",
    "        self.size = size\n",
    "        self.n_splits = n_splits\n",
    "        self.batch_size = batch_size\n",
    "        self.epochs = epochs\n",
    "        self.early_stopping = early_stopping\n",
    "        self.lr = lr\n",
    "        self.wd = wd\n",
    "        self.max_lr = max_lr\n",
    "        self.pct_start = pct_start\n",
    "        self.steps_per_epoch = steps_per_epoch\n",
    "        self.div_factor = div_factor\n",
    "        self.final_div_factor = final_div_factor\n",
    "        self.device = torch.device(\"cuda\" if torch.cuda.is_available() else \"cpu\")\n",
    "        \n",
    "        if self.size == 224:\n",
    "            self.train_transform = transforms.Compose([\n",
    "                transforms.ToTensor(),\n",
    "                transforms.Normalize([0.46775, 0.46364, 0.33950], [0.20240, 0.20422, 0.19535]),\n",
    "                transforms.RandomAffine(degrees=(-45, 45), translate=(0.15, 0.15), scale=(0.5, 1.5)),\n",
    "                transforms.RandomHorizontalFlip(p=0.25),\n",
    "                transforms.RandomVerticalFlip(p=0.25),\n",
    "            ])\n",
    "            self.valid_transform = transforms.Compose([\n",
    "                transforms.ToTensor(),\n",
    "                transforms.Normalize([0.46775, 0.46364, 0.33950], [0.20240, 0.20422, 0.19535]),\n",
    "            ])\n",
    "        \n",
    "        if self.size == 384:\n",
    "            self.train_transform = transforms.Compose([\n",
    "                transforms.ToTensor(),\n",
    "                transforms.Normalize([0.46752, 0.46341, 0.33927], [0.20075, 0.20258, 0.19362]),\n",
    "                transforms.RandomAffine(degrees=(-45, 45), translate=(0.15, 0.15), scale=(0.5, 1.5)),\n",
    "                transforms.RandomHorizontalFlip(p=0.25),\n",
    "                transforms.RandomVerticalFlip(p=0.25),\n",
    "            ])\n",
    "            self.valid_transform = transforms.Compose([\n",
    "                transforms.ToTensor(),\n",
    "                transforms.Normalize([0.46752, 0.46341, 0.33927], [0.20075, 0.20258, 0.19362]),\n",
    "            ])\n",
    "        \n",
    "        if self.size == 512:\n",
    "            self.train_transform = transforms.Compose([\n",
    "                transforms.ToTensor(),\n",
    "                transforms.Normalize([0.46758, 0.46347, 0.33933], [0.20115, 0.20298, 0.19404]),\n",
    "                transforms.RandomAffine(degrees=(-45, 45), translate=(0.15, 0.15), scale=(0.5, 1.5)),\n",
    "                transforms.RandomHorizontalFlip(p=0.25),\n",
    "                transforms.RandomVerticalFlip(p=0.25),\n",
    "            ])\n",
    "            self.valid_transform = transforms.Compose([\n",
    "                transforms.ToTensor(),\n",
    "                transforms.Normalize([0.46758, 0.46347, 0.33933], [0.20115, 0.20298, 0.19404]),\n",
    "            ])\n",
    "                                \n",
    "        self.save_path = \"saves\"\n",
    "        if not os.path.exists(self.save_path): os.makedirs(self.save_path)\n",
    "    \n",
    "cfg = CFG(\n",
    "    seed=SEED, \n",
    "    size=SIZE\n",
    ")"
   ]
  },
  {
   "cell_type": "markdown",
   "id": "f0fce134",
   "metadata": {
    "papermill": {
     "duration": 0.003827,
     "end_time": "2023-01-16T07:19:53.123560",
     "exception": false,
     "start_time": "2023-01-16T07:19:53.119733",
     "status": "completed"
    },
    "tags": []
   },
   "source": [
    "### **Dataset Template**"
   ]
  },
  {
   "cell_type": "code",
   "execution_count": 5,
   "id": "a193c72c",
   "metadata": {
    "execution": {
     "iopub.execute_input": "2023-01-16T07:19:53.132305Z",
     "iopub.status.busy": "2023-01-16T07:19:53.132035Z",
     "iopub.status.idle": "2023-01-16T07:19:53.138573Z",
     "shell.execute_reply": "2023-01-16T07:19:53.137668Z"
    },
    "papermill": {
     "duration": 0.013304,
     "end_time": "2023-01-16T07:19:53.140751",
     "exception": false,
     "start_time": "2023-01-16T07:19:53.127447",
     "status": "completed"
    },
    "tags": []
   },
   "outputs": [],
   "source": [
    "class DS(Dataset):\n",
    "    def __init__(\n",
    "        self, \n",
    "        filepaths: np.ndarray, \n",
    "        size: int,\n",
    "        labels: Union[np.ndarray, None]=None, \n",
    "        transform=None\n",
    "    ):\n",
    "        \n",
    "        self.filepaths = filepaths\n",
    "        self.labels = labels\n",
    "        self.size = size\n",
    "        self.transform = transform\n",
    "    \n",
    "    def __len__(self):\n",
    "        return self.filepaths.shape[0]\n",
    "    \n",
    "    def __getitem__(self, idx):\n",
    "        image = get_image(self.filepaths[idx], self.size)\n",
    "        if self.labels is None:\n",
    "            return self.transform(image)\n",
    "        return self.transform(image), torch.LongTensor(self.labels[idx])"
   ]
  },
  {
   "cell_type": "markdown",
   "id": "9ac3e9de",
   "metadata": {
    "papermill": {
     "duration": 0.003705,
     "end_time": "2023-01-16T07:19:53.148362",
     "exception": false,
     "start_time": "2023-01-16T07:19:53.144657",
     "status": "completed"
    },
    "tags": []
   },
   "source": [
    "### **Model**"
   ]
  },
  {
   "cell_type": "code",
   "execution_count": 6,
   "id": "07c33079",
   "metadata": {
    "execution": {
     "iopub.execute_input": "2023-01-16T07:19:53.157198Z",
     "iopub.status.busy": "2023-01-16T07:19:53.156945Z",
     "iopub.status.idle": "2023-01-16T07:19:53.163178Z",
     "shell.execute_reply": "2023-01-16T07:19:53.162362Z"
    },
    "papermill": {
     "duration": 0.013015,
     "end_time": "2023-01-16T07:19:53.165214",
     "exception": false,
     "start_time": "2023-01-16T07:19:53.152199",
     "status": "completed"
    },
    "tags": []
   },
   "outputs": [],
   "source": [
    "class Model(nn.Module):\n",
    "    def __init__(self):\n",
    "        super(Model, self).__init__()\n",
    "            \n",
    "        self.model = timm.create_model(model_name=\"efficientnet_b4\", pretrained=True)\n",
    "        self.model.classifier = nn.Linear(in_features=self.model.classifier.in_features, out_features=15)\n",
    "\n",
    "    def forward(self, x):\n",
    "        return nn.LogSoftmax(dim=1)(self.model(x))"
   ]
  },
  {
   "cell_type": "markdown",
   "id": "ed59d4c2",
   "metadata": {
    "papermill": {
     "duration": 0.00371,
     "end_time": "2023-01-16T07:19:53.172849",
     "exception": false,
     "start_time": "2023-01-16T07:19:53.169139",
     "status": "completed"
    },
    "tags": []
   },
   "source": [
    "### **Fit and Predict**"
   ]
  },
  {
   "cell_type": "code",
   "execution_count": 7,
   "id": "fb33804c",
   "metadata": {
    "execution": {
     "iopub.execute_input": "2023-01-16T07:19:53.182050Z",
     "iopub.status.busy": "2023-01-16T07:19:53.181799Z",
     "iopub.status.idle": "2023-01-16T07:19:53.203172Z",
     "shell.execute_reply": "2023-01-16T07:19:53.202285Z"
    },
    "papermill": {
     "duration": 0.028415,
     "end_time": "2023-01-16T07:19:53.205168",
     "exception": false,
     "start_time": "2023-01-16T07:19:53.176753",
     "status": "completed"
    },
    "tags": []
   },
   "outputs": [],
   "source": [
    "def fit(\n",
    "    model=None,\n",
    "    optimizer=None, \n",
    "    scheduler_rlrop=None,\n",
    "    scheduler_oclr=None,\n",
    "    epochs=None, \n",
    "    early_stopping_patience=None, \n",
    "    dataloaders=None, \n",
    "    fold=None, \n",
    "    save_path=None,\n",
    "    device=None,\n",
    "    verbose=False\n",
    ") -> tuple:\n",
    "    \n",
    "    def get_accuracy(y_pred, y_true):\n",
    "        y_pred = torch.argmax(y_pred, dim=1)\n",
    "        return torch.count_nonzero(y_pred == y_true).item() / len(y_pred)\n",
    "    \n",
    "    \n",
    "    if verbose:\n",
    "        breaker()\n",
    "        if fold: print(f\"Training Fold {fold}...\")\n",
    "        else: print(\"Training ...\")\n",
    "        breaker()\n",
    "        \n",
    "    bestLoss: dict = {\"train\" : np.inf, \"valid\" : np.inf} \n",
    "    bestAccs: dict = {\"train\" : 0.0, \"valid\" : 0.0}\n",
    "    \n",
    "    Losses: list = []\n",
    "    Accuracies: list = [] \n",
    "    LRs: list = []\n",
    "        \n",
    "    if fold: \n",
    "        ble_name = f\"ble_state_fold_{fold}.pt\"\n",
    "        bae_name = f\"bae_state_fold_{fold}.pt\"\n",
    "    else: \n",
    "        ble_name = f\"ble_state.pt\"\n",
    "        bae_name = f\"bae_state.pt\"\n",
    "        \n",
    "    start_time = time()\n",
    "    for e in range(epochs):\n",
    "        e_st = time()\n",
    "        epochLoss: dict = {\"train\" : 0.0, \"valid\" : 0.0} \n",
    "        epochAccs: dict = {\"train\" : 0.0, \"valid\" : 0.0}\n",
    "\n",
    "        for phase in [\"train\", \"valid\"]:\n",
    "            if phase == \"train\":\n",
    "                model.train()\n",
    "            else:\n",
    "                model.eval()\n",
    "            \n",
    "            lossPerPass: list = []\n",
    "            accsPerPass: list = []\n",
    "                \n",
    "            for X, y in dataloaders[phase]:\n",
    "                X, y = X.to(device), y.to(device).view(-1)\n",
    "\n",
    "                optimizer.zero_grad()\n",
    "                with torch.set_grad_enabled(phase == \"train\"):\n",
    "                    output = model(X)\n",
    "                    loss = nn.NLLLoss()(output, y)\n",
    "                    if phase == \"train\":\n",
    "                        loss.backward()\n",
    "                        optimizer.step()\n",
    "                        if scheduler_oclr: scheduler_oclr.step()\n",
    "                lossPerPass.append(loss.item())\n",
    "                accsPerPass.append(get_accuracy(output, y))\n",
    "            epochLoss[phase] = np.mean(np.array(lossPerPass))\n",
    "            epochAccs[phase] = np.mean(np.array(accsPerPass))\n",
    "        if scheduler_oclr: LRs.append(scheduler_oclr.get_last_lr())\n",
    "        Losses.append(epochLoss)\n",
    "        Accuracies.append(epochAccs)\n",
    "        \n",
    "        if scheduler_oclr:\n",
    "            save_dict = {\"model_state_dict\"     : model.state_dict(),\n",
    "                         \"optim_state_dict\"     : optimizer.state_dict(),\n",
    "                         \"scheduler_state_dict\" : scheduler_oclr.state_dict()}\n",
    "        \n",
    "        elif scheduler_rlrop:\n",
    "            save_dict = {\"model_state_dict\"     : model.state_dict(),\n",
    "                         \"optim_state_dict\"     : optimizer.state_dict(),\n",
    "                         \"scheduler_state_dict\" : scheduler_rlrop.state_dict()}\n",
    "        \n",
    "        else:\n",
    "            save_dict = {\"model_state_dict\"     : model.state_dict(),\n",
    "                         \"optim_state_dict\"     : optimizer.state_dict()}\n",
    "        \n",
    "        if early_stopping_patience:\n",
    "            if epochLoss[\"valid\"] < bestLoss[\"valid\"]:\n",
    "                bestLoss = epochLoss\n",
    "                BLE = e + 1\n",
    "                torch.save(save_dict, os.path.join(save_path, ble_name))\n",
    "                torch.save(save_dict, os.path.join(save_path, bae_name))\n",
    "                early_stopping_step = 0\n",
    "            else:\n",
    "                early_stopping_step += 1\n",
    "                if early_stopping_step > early_stopping_patience:\n",
    "                    print(\"\\nEarly Stopping at Epoch {}\".format(e + 1))\n",
    "                    break\n",
    "        \n",
    "        if epochLoss[\"valid\"] < bestLoss[\"valid\"]:\n",
    "            bestLoss = epochLoss\n",
    "            BLE = e + 1\n",
    "            torch.save(save_dict,os.path.join(save_path, ble_name))\n",
    "        \n",
    "        if epochAccs[\"valid\"] > bestAccs[\"valid\"]:\n",
    "            bestAccs = epochAccs\n",
    "            BAE = e + 1\n",
    "            torch.save(save_dict,os.path.join(save_path, bae_name))\n",
    "        \n",
    "        if scheduler_rlrop: scheduler_rlrop.step(epochLoss[\"valid\"])\n",
    "        \n",
    "        if verbose:\n",
    "            print(\"Epoch: {} | Train Loss: {:.5f} | Valid Loss: {:.5f} |\\\n",
    " Train Accs: {:.5f} | Valid Accs: {:.5f} | Time: {:.2f} seconds\".format(e+1, \n",
    "                                                                        epochLoss[\"train\"], epochLoss[\"valid\"], \n",
    "                                                                        epochAccs[\"train\"], epochAccs[\"valid\"], \n",
    "                                                                        time()-e_st))\n",
    "\n",
    "    if verbose:                                           \n",
    "        breaker()\n",
    "        print(f\"Best Validation Loss at Epoch {BLE}\")\n",
    "        breaker()\n",
    "        print(f\"Best Validation Accs at Epoch {BAE}\")\n",
    "        breaker()\n",
    "        print(\"Time Taken [{} Epochs] : {:.2f} minutes\".format(len(Losses), (time()-start_time)/60))\n",
    "    \n",
    "    return Losses, Accuracies, LRs, bestLoss, bestAccs, BLE, BAE, ble_name, bae_name\n",
    "\n",
    "\n",
    "# def predict_batch(model=None, dataloader=None, path=None, device=None) -> np.ndarray:\n",
    "#     model.load_state_dict(torch.load(path, map_location=device)[\"model_state_dict\"])\n",
    "#     model.to(device)    \n",
    "#     model.eval()\n",
    "    \n",
    "#     y_pred = torch.zeros(1, 1).to(device)\n",
    "    \n",
    "#     for X in dataloader:\n",
    "#         X = X.to(device)\n",
    "#         with torch.no_grad():\n",
    "#             output = torch.argmax(torch.exp(model(X)), dim=1)\n",
    "#         y_pred = torch.cat((y_pred, output.view(-1, 1)), dim=0)\n",
    "    \n",
    "#     return y_pred[1:].detach().cpu().numpy()"
   ]
  },
  {
   "cell_type": "markdown",
   "id": "dcbc7c6d",
   "metadata": {
    "papermill": {
     "duration": 0.004591,
     "end_time": "2023-01-16T07:19:53.213737",
     "exception": false,
     "start_time": "2023-01-16T07:19:53.209146",
     "status": "completed"
    },
    "tags": []
   },
   "source": [
    "### **Train**"
   ]
  },
  {
   "cell_type": "code",
   "execution_count": 8,
   "id": "b0716e4e",
   "metadata": {
    "execution": {
     "iopub.execute_input": "2023-01-16T07:19:53.222931Z",
     "iopub.status.busy": "2023-01-16T07:19:53.222198Z",
     "iopub.status.idle": "2023-01-16T07:19:53.256158Z",
     "shell.execute_reply": "2023-01-16T07:19:53.255321Z"
    },
    "papermill": {
     "duration": 0.040576,
     "end_time": "2023-01-16T07:19:53.258168",
     "exception": false,
     "start_time": "2023-01-16T07:19:53.217592",
     "status": "completed"
    },
    "tags": []
   },
   "outputs": [],
   "source": [
    "df = pd.read_csv(\"/kaggle/input/mcic-dataframe/train.csv\")\n",
    "\n",
    "filepaths = df.filepaths.copy().values\n",
    "labels = df.labels.copy().values"
   ]
  },
  {
   "cell_type": "code",
   "execution_count": 9,
   "id": "4b92867c",
   "metadata": {
    "execution": {
     "iopub.execute_input": "2023-01-16T07:19:53.267436Z",
     "iopub.status.busy": "2023-01-16T07:19:53.267160Z",
     "iopub.status.idle": "2023-01-16T07:42:28.938558Z",
     "shell.execute_reply": "2023-01-16T07:42:28.937630Z"
    },
    "papermill": {
     "duration": 1355.678495,
     "end_time": "2023-01-16T07:42:28.940590",
     "exception": false,
     "start_time": "2023-01-16T07:19:53.262095",
     "status": "completed"
    },
    "tags": []
   },
   "outputs": [
    {
     "name": "stderr",
     "output_type": "stream",
     "text": [
      "Downloading: \"https://github.com/rwightman/pytorch-image-models/releases/download/v0.1-weights/efficientnet_b4_ra2_320-7eb33cd5.pth\" to /root/.cache/torch/hub/checkpoints/efficientnet_b4_ra2_320-7eb33cd5.pth\n"
     ]
    },
    {
     "name": "stdout",
     "output_type": "stream",
     "text": [
      "\n",
      "**************************************************\n",
      "\n",
      "Training Fold 1...\n",
      "\n",
      "**************************************************\n",
      "\n",
      "Epoch: 1 | Train Loss: 2.64696 | Valid Loss: 2.43635 | Train Accs: 0.24796 | Valid Accs: 0.78802 | Time: 40.84 seconds\n",
      "Epoch: 2 | Train Loss: 1.00649 | Valid Loss: 0.12204 | Train Accs: 0.91644 | Valid Accs: 0.96719 | Time: 28.26 seconds\n",
      "Epoch: 3 | Train Loss: 0.09193 | Valid Loss: 0.03263 | Train Accs: 0.97079 | Valid Accs: 0.98802 | Time: 27.12 seconds\n",
      "Epoch: 4 | Train Loss: 0.04738 | Valid Loss: 0.04217 | Train Accs: 0.98981 | Valid Accs: 0.99062 | Time: 26.13 seconds\n",
      "Epoch: 5 | Train Loss: 0.02311 | Valid Loss: 0.02461 | Train Accs: 0.99321 | Valid Accs: 0.99479 | Time: 28.23 seconds\n",
      "Epoch: 6 | Train Loss: 0.01245 | Valid Loss: 0.03485 | Train Accs: 0.99728 | Valid Accs: 0.98802 | Time: 27.57 seconds\n",
      "Epoch: 7 | Train Loss: 0.00874 | Valid Loss: 0.04735 | Train Accs: 0.99728 | Valid Accs: 0.97865 | Time: 27.26 seconds\n",
      "Epoch: 8 | Train Loss: 0.00714 | Valid Loss: 0.02742 | Train Accs: 0.99660 | Valid Accs: 0.99219 | Time: 27.35 seconds\n",
      "Epoch: 9 | Train Loss: 0.00670 | Valid Loss: 0.03577 | Train Accs: 0.99796 | Valid Accs: 0.97865 | Time: 28.02 seconds\n",
      "Epoch: 10 | Train Loss: 0.00278 | Valid Loss: 0.04096 | Train Accs: 1.00000 | Valid Accs: 0.98802 | Time: 26.04 seconds\n",
      "\n",
      "**************************************************\n",
      "\n",
      "Best Validation Loss at Epoch 5\n",
      "\n",
      "**************************************************\n",
      "\n",
      "Best Validation Accs at Epoch 5\n",
      "\n",
      "**************************************************\n",
      "\n",
      "Time Taken [10 Epochs] : 4.78 minutes\n",
      "\n",
      "**************************************************\n",
      "\n"
     ]
    },
    {
     "data": {
      "image/png": "[encoded data removed]",
      "text/plain": [
       "<Figure size 432x288 with 1 Axes>"
      ]
     },
     "metadata": {
      "needs_background": "light"
     },
     "output_type": "display_data"
    },
    {
     "name": "stdout",
     "output_type": "stream",
     "text": [
      "\n",
      "**************************************************\n",
      "\n"
     ]
    },
    {
     "data": {
      "image/png": "[encoded data removed]",
      "text/plain": [
       "<Figure size 432x288 with 1 Axes>"
      ]
     },
     "metadata": {
      "needs_background": "light"
     },
     "output_type": "display_data"
    },
    {
     "name": "stdout",
     "output_type": "stream",
     "text": [
      "\n",
      "**************************************************\n",
      "\n"
     ]
    },
    {
     "data": {
      "image/png": "[encoded data removed]",
      "text/plain": [
       "<Figure size 576x432 with 1 Axes>"
      ]
     },
     "metadata": {
      "needs_background": "light"
     },
     "output_type": "display_data"
    },
    {
     "name": "stdout",
     "output_type": "stream",
     "text": [
      "\n",
      "**************************************************\n",
      "\n",
      "\n",
      "**************************************************\n",
      "\n",
      "Training Fold 2...\n",
      "\n",
      "**************************************************\n",
      "\n",
      "Epoch: 1 | Train Loss: 2.64896 | Valid Loss: 2.42553 | Train Accs: 0.24389 | Valid Accs: 0.84219 | Time: 26.99 seconds\n",
      "Epoch: 2 | Train Loss: 1.03510 | Valid Loss: 0.09288 | Train Accs: 0.89742 | Valid Accs: 0.97083 | Time: 28.00 seconds\n",
      "Epoch: 3 | Train Loss: 0.08726 | Valid Loss: 0.05678 | Train Accs: 0.97147 | Valid Accs: 0.97760 | Time: 27.76 seconds\n",
      "Epoch: 4 | Train Loss: 0.03394 | Valid Loss: 0.02463 | Train Accs: 0.99389 | Valid Accs: 0.98958 | Time: 27.54 seconds\n",
      "Epoch: 5 | Train Loss: 0.04140 | Valid Loss: 0.05009 | Train Accs: 0.98777 | Valid Accs: 0.98958 | Time: 25.17 seconds\n",
      "Epoch: 6 | Train Loss: 0.01769 | Valid Loss: 0.03080 | Train Accs: 0.99321 | Valid Accs: 0.99219 | Time: 26.05 seconds\n",
      "Epoch: 7 | Train Loss: 0.00712 | Valid Loss: 0.01617 | Train Accs: 0.99796 | Valid Accs: 0.99479 | Time: 27.55 seconds\n",
      "Epoch: 8 | Train Loss: 0.01345 | Valid Loss: 0.01239 | Train Accs: 0.99660 | Valid Accs: 0.99740 | Time: 26.97 seconds\n",
      "Epoch: 9 | Train Loss: 0.00721 | Valid Loss: 0.02677 | Train Accs: 0.99796 | Valid Accs: 0.99219 | Time: 25.76 seconds\n",
      "Epoch: 10 | Train Loss: 0.00503 | Valid Loss: 0.02249 | Train Accs: 0.99864 | Valid Accs: 0.99219 | Time: 25.46 seconds\n",
      "\n",
      "**************************************************\n",
      "\n",
      "Best Validation Loss at Epoch 8\n",
      "\n",
      "**************************************************\n",
      "\n",
      "Best Validation Accs at Epoch 8\n",
      "\n",
      "**************************************************\n",
      "\n",
      "Time Taken [10 Epochs] : 4.45 minutes\n",
      "\n",
      "**************************************************\n",
      "\n"
     ]
    },
    {
     "data": {
      "image/png": "[encoded data removed]",
      "text/plain": [
       "<Figure size 432x288 with 1 Axes>"
      ]
     },
     "metadata": {
      "needs_background": "light"
     },
     "output_type": "display_data"
    },
    {
     "name": "stdout",
     "output_type": "stream",
     "text": [
      "\n",
      "**************************************************\n",
      "\n"
     ]
    },
    {
     "data": {
      "image/png": "[encoded data removed]",
      "text/plain": [
       "<Figure size 432x288 with 1 Axes>"
      ]
     },
     "metadata": {
      "needs_background": "light"
     },
     "output_type": "display_data"
    },
    {
     "name": "stdout",
     "output_type": "stream",
     "text": [
      "\n",
      "**************************************************\n",
      "\n"
     ]
    },
    {
     "data": {
      "image/png": "[encoded data removed]",
      "text/plain": [
       "<Figure size 576x432 with 1 Axes>"
      ]
     },
     "metadata": {
      "needs_background": "light"
     },
     "output_type": "display_data"
    },
    {
     "name": "stdout",
     "output_type": "stream",
     "text": [
      "\n",
      "**************************************************\n",
      "\n",
      "\n",
      "**************************************************\n",
      "\n",
      "Training Fold 3...\n",
      "\n",
      "**************************************************\n",
      "\n",
      "Epoch: 1 | Train Loss: 2.64821 | Valid Loss: 2.41591 | Train Accs: 0.23030 | Valid Accs: 0.83906 | Time: 26.50 seconds\n",
      "Epoch: 2 | Train Loss: 1.03633 | Valid Loss: 0.08878 | Train Accs: 0.90625 | Valid Accs: 0.97760 | Time: 27.01 seconds\n",
      "Epoch: 3 | Train Loss: 0.07358 | Valid Loss: 0.07051 | Train Accs: 0.97690 | Valid Accs: 0.98438 | Time: 27.07 seconds\n",
      "Epoch: 4 | Train Loss: 0.04283 | Valid Loss: 0.02826 | Train Accs: 0.98505 | Valid Accs: 0.99323 | Time: 26.91 seconds\n",
      "Epoch: 5 | Train Loss: 0.02383 | Valid Loss: 0.03389 | Train Accs: 0.99321 | Valid Accs: 0.98906 | Time: 25.24 seconds\n",
      "Epoch: 6 | Train Loss: 0.01844 | Valid Loss: 0.02919 | Train Accs: 0.99457 | Valid Accs: 0.99219 | Time: 24.82 seconds\n",
      "Epoch: 7 | Train Loss: 0.00913 | Valid Loss: 0.02660 | Train Accs: 0.99796 | Valid Accs: 0.99062 | Time: 26.16 seconds\n",
      "Epoch: 8 | Train Loss: 0.00521 | Valid Loss: 0.02353 | Train Accs: 0.99932 | Valid Accs: 0.99219 | Time: 26.21 seconds\n",
      "Epoch: 9 | Train Loss: 0.01081 | Valid Loss: 0.02424 | Train Accs: 0.99728 | Valid Accs: 0.99479 | Time: 25.38 seconds\n",
      "Epoch: 10 | Train Loss: 0.00940 | Valid Loss: 0.01615 | Train Accs: 0.99796 | Valid Accs: 0.99740 | Time: 26.84 seconds\n",
      "\n",
      "**************************************************\n",
      "\n",
      "Best Validation Loss at Epoch 10\n",
      "\n",
      "**************************************************\n",
      "\n",
      "Best Validation Accs at Epoch 10\n",
      "\n",
      "**************************************************\n",
      "\n",
      "Time Taken [10 Epochs] : 4.37 minutes\n",
      "\n",
      "**************************************************\n",
      "\n"
     ]
    },
    {
     "data": {
      "image/png": "[encoded data removed]",
      "text/plain": [
       "<Figure size 432x288 with 1 Axes>"
      ]
     },
     "metadata": {
      "needs_background": "light"
     },
     "output_type": "display_data"
    },
    {
     "name": "stdout",
     "output_type": "stream",
     "text": [
      "\n",
      "**************************************************\n",
      "\n"
     ]
    },
    {
     "data": {
      "image/png": "[encoded data removed]",
      "text/plain": [
       "<Figure size 432x288 with 1 Axes>"
      ]
     },
     "metadata": {
      "needs_background": "light"
     },
     "output_type": "display_data"
    },
    {
     "name": "stdout",
     "output_type": "stream",
     "text": [
      "\n",
      "**************************************************\n",
      "\n"
     ]
    },
    {
     "data": {
      "image/png": "[encoded data removed]",
      "text/plain": [
       "<Figure size 576x432 with 1 Axes>"
      ]
     },
     "metadata": {
      "needs_background": "light"
     },
     "output_type": "display_data"
    },
    {
     "name": "stdout",
     "output_type": "stream",
     "text": [
      "\n",
      "**************************************************\n",
      "\n",
      "\n",
      "**************************************************\n",
      "\n",
      "Training Fold 4...\n",
      "\n",
      "**************************************************\n",
      "\n",
      "Epoch: 1 | Train Loss: 2.64696 | Valid Loss: 2.42808 | Train Accs: 0.26562 | Valid Accs: 0.81562 | Time: 26.38 seconds\n",
      "Epoch: 2 | Train Loss: 1.01646 | Valid Loss: 0.07106 | Train Accs: 0.91508 | Valid Accs: 0.97917 | Time: 26.94 seconds\n",
      "Epoch: 3 | Train Loss: 0.11879 | Valid Loss: 0.05396 | Train Accs: 0.96128 | Valid Accs: 0.98438 | Time: 26.95 seconds\n",
      "Epoch: 4 | Train Loss: 0.02651 | Valid Loss: 0.04452 | Train Accs: 0.99321 | Valid Accs: 0.99219 | Time: 27.10 seconds\n",
      "Epoch: 5 | Train Loss: 0.02405 | Valid Loss: 0.01097 | Train Accs: 0.99389 | Valid Accs: 1.00000 | Time: 27.09 seconds\n",
      "Epoch: 6 | Train Loss: 0.01327 | Valid Loss: 0.01830 | Train Accs: 0.99660 | Valid Accs: 0.99479 | Time: 24.87 seconds\n",
      "Epoch: 7 | Train Loss: 0.00701 | Valid Loss: 0.01290 | Train Accs: 0.99796 | Valid Accs: 0.99740 | Time: 25.04 seconds\n",
      "Epoch: 8 | Train Loss: 0.00548 | Valid Loss: 0.02866 | Train Accs: 0.99796 | Valid Accs: 0.98698 | Time: 24.91 seconds\n",
      "Epoch: 9 | Train Loss: 0.00708 | Valid Loss: 0.01156 | Train Accs: 0.99864 | Valid Accs: 0.99479 | Time: 25.06 seconds\n",
      "Epoch: 10 | Train Loss: 0.00550 | Valid Loss: 0.00875 | Train Accs: 0.99932 | Valid Accs: 0.99740 | Time: 26.43 seconds\n",
      "\n",
      "**************************************************\n",
      "\n",
      "Best Validation Loss at Epoch 10\n",
      "\n",
      "**************************************************\n",
      "\n",
      "Best Validation Accs at Epoch 5\n",
      "\n",
      "**************************************************\n",
      "\n",
      "Time Taken [10 Epochs] : 4.35 minutes\n",
      "\n",
      "**************************************************\n",
      "\n"
     ]
    },
    {
     "data": {
      "image/png": "[encoded data removed]",
      "text/plain": [
       "<Figure size 432x288 with 1 Axes>"
      ]
     },
     "metadata": {
      "needs_background": "light"
     },
     "output_type": "display_data"
    },
    {
     "name": "stdout",
     "output_type": "stream",
     "text": [
      "\n",
      "**************************************************\n",
      "\n"
     ]
    },
    {
     "data": {
      "image/png": "[encoded data removed]",
      "text/plain": [
       "<Figure size 432x288 with 1 Axes>"
      ]
     },
     "metadata": {
      "needs_background": "light"
     },
     "output_type": "display_data"
    },
    {
     "name": "stdout",
     "output_type": "stream",
     "text": [
      "\n",
      "**************************************************\n",
      "\n"
     ]
    },
    {
     "data": {
      "image/png": "[encoded data removed]",
      "text/plain": [
       "<Figure size 576x432 with 1 Axes>"
      ]
     },
     "metadata": {
      "needs_background": "light"
     },
     "output_type": "display_data"
    },
    {
     "name": "stdout",
     "output_type": "stream",
     "text": [
      "\n",
      "**************************************************\n",
      "\n",
      "\n",
      "**************************************************\n",
      "\n",
      "Training Fold 5...\n",
      "\n",
      "**************************************************\n",
      "\n",
      "Epoch: 1 | Train Loss: 2.64842 | Valid Loss: 2.42139 | Train Accs: 0.26495 | Valid Accs: 0.78646 | Time: 26.82 seconds\n",
      "Epoch: 2 | Train Loss: 1.01498 | Valid Loss: 0.05631 | Train Accs: 0.91101 | Valid Accs: 0.98698 | Time: 27.05 seconds\n",
      "Epoch: 3 | Train Loss: 0.10373 | Valid Loss: 0.02904 | Train Accs: 0.97147 | Valid Accs: 0.98958 | Time: 26.61 seconds\n",
      "Epoch: 4 | Train Loss: 0.03147 | Valid Loss: 0.06568 | Train Accs: 0.99117 | Valid Accs: 0.98021 | Time: 25.25 seconds\n",
      "Epoch: 5 | Train Loss: 0.02783 | Valid Loss: 0.03727 | Train Accs: 0.99253 | Valid Accs: 0.98958 | Time: 25.45 seconds\n",
      "Epoch: 6 | Train Loss: 0.01459 | Valid Loss: 0.06261 | Train Accs: 0.99524 | Valid Accs: 0.98281 | Time: 26.23 seconds\n",
      "Epoch: 7 | Train Loss: 0.01206 | Valid Loss: 0.02187 | Train Accs: 0.99660 | Valid Accs: 0.99479 | Time: 28.38 seconds\n",
      "Epoch: 8 | Train Loss: 0.00542 | Valid Loss: 0.04379 | Train Accs: 0.99864 | Valid Accs: 0.98958 | Time: 25.86 seconds\n",
      "Epoch: 9 | Train Loss: 0.00621 | Valid Loss: 0.01999 | Train Accs: 0.99796 | Valid Accs: 0.99479 | Time: 27.35 seconds\n",
      "Epoch: 10 | Train Loss: 0.00335 | Valid Loss: 0.04582 | Train Accs: 0.99932 | Valid Accs: 0.98958 | Time: 26.44 seconds\n",
      "\n",
      "**************************************************\n",
      "\n",
      "Best Validation Loss at Epoch 9\n",
      "\n",
      "**************************************************\n",
      "\n",
      "Best Validation Accs at Epoch 7\n",
      "\n",
      "**************************************************\n",
      "\n",
      "Time Taken [10 Epochs] : 4.42 minutes\n",
      "\n",
      "**************************************************\n",
      "\n"
     ]
    },
    {
     "data": {
      "image/png": "[encoded data removed]",
      "text/plain": [
       "<Figure size 432x288 with 1 Axes>"
      ]
     },
     "metadata": {
      "needs_background": "light"
     },
     "output_type": "display_data"
    },
    {
     "name": "stdout",
     "output_type": "stream",
     "text": [
      "\n",
      "**************************************************\n",
      "\n"
     ]
    },
    {
     "data": {
      "image/png": "[encoded data removed]",
      "text/plain": [
       "<Figure size 432x288 with 1 Axes>"
      ]
     },
     "metadata": {
      "needs_background": "light"
     },
     "output_type": "display_data"
    },
    {
     "name": "stdout",
     "output_type": "stream",
     "text": [
      "\n",
      "**************************************************\n",
      "\n"
     ]
    },
    {
     "data": {
      "image/png": "[encoded data removed]",
      "text/plain": [
       "<Figure size 576x432 with 1 Axes>"
      ]
     },
     "metadata": {
      "needs_background": "light"
     },
     "output_type": "display_data"
    },
    {
     "name": "stdout",
     "output_type": "stream",
     "text": [
      "\n",
      "**************************************************\n",
      "\n"
     ]
    }
   ],
   "source": [
    "fold: int = 1\n",
    "BLs: list = []\n",
    "BAs: list = []\n",
    "    \n",
    "cfg.batch_size = 64\n",
    "cfg.epochs = 10\n",
    "    \n",
    "for tr_idx, va_idx in StratifiedKFold(n_splits=cfg.n_splits, random_state=cfg.seed, shuffle=True).split(filepaths, labels):\n",
    "#     if fold == 1: break\n",
    "#     fold += 1\n",
    "\n",
    "    tr_filepaths, va_filepaths = filepaths[tr_idx], filepaths[va_idx] \n",
    "    tr_labels, va_labels       = labels[tr_idx], labels[va_idx]\n",
    "\n",
    "    tr_data_setup = DS(\n",
    "        filepaths=tr_filepaths, \n",
    "        labels=tr_labels.reshape(-1, 1),\n",
    "        size=cfg.size,\n",
    "        transform=cfg.train_transform\n",
    "    )\n",
    "\n",
    "    va_data_setup = DS(\n",
    "        filepaths=va_filepaths, \n",
    "        labels=va_labels.reshape(-1, 1),\n",
    "        size=cfg.size,\n",
    "        transform=cfg.train_transform\n",
    "    )\n",
    "\n",
    "    dataloaders = {\n",
    "        \"train\" : DL(tr_data_setup, batch_size=cfg.batch_size, shuffle=True, generator=torch.manual_seed(cfg.seed)),\n",
    "        \"valid\" : DL(va_data_setup, batch_size=cfg.batch_size, shuffle=False),\n",
    "    }\n",
    "\n",
    "    cfg.steps_per_epoch=len(dataloaders[\"train\"])\n",
    "\n",
    "    torch.manual_seed(cfg.seed)\n",
    "    model = Model().to(cfg.device)\n",
    "\n",
    "    optimizer = optim.Adam([p for p in model.parameters() if p.requires_grad], lr=cfg.lr, weight_decay=cfg.wd)\n",
    "    # optimizer = optim.AdamW([p for p in model.parameters() if p.requires_grad], lr=cfg.lr, weight_decay=cfg.wd)\n",
    "    # optimizer = optim.SGD([p for p in model.parameters() if p.requires_grad], lr=cfg.lr, weight_decay=cfg.wd, momentum=0.9)\n",
    "\n",
    "    scheduler_oclr = optim.lr_scheduler.OneCycleLR(\n",
    "        optimizer=optimizer, \n",
    "        max_lr=cfg.max_lr, \n",
    "        epochs=cfg.epochs, \n",
    "        steps_per_epoch=cfg.steps_per_epoch,\n",
    "        pct_start=cfg.pct_start, \n",
    "        div_factor=cfg.div_factor, \n",
    "        final_div_factor=cfg.final_div_factor\n",
    "    )\n",
    "\n",
    "    # scheduler_rlrop = optim.lr_scheduler.ReduceLROnPlateau(\n",
    "    #     optimizer=optimizer,\n",
    "    #     patience=cfg.patience,\n",
    "    #     eps=cfg.eps,\n",
    "    #     verbose=True\n",
    "    # )\n",
    "\n",
    "    # scheduler_oclr = None\n",
    "    scheduler_rlrop = None\n",
    "\n",
    "\n",
    "    L, A, LR, BL, BA, _, _, _, _ = fit(\n",
    "        model=model, \n",
    "        optimizer=optimizer, \n",
    "        scheduler_oclr=scheduler_oclr,\n",
    "        scheduler_rlrop=scheduler_rlrop,\n",
    "        epochs=cfg.epochs, \n",
    "        early_stopping_patience=cfg.early_stopping, \n",
    "        dataloaders=dataloaders, \n",
    "        device=cfg.device,\n",
    "        save_path=cfg.save_path,\n",
    "        fold=fold,\n",
    "        verbose=True\n",
    "    )\n",
    "\n",
    "\n",
    "    breaker()\n",
    "    show_loss_graphs(L)\n",
    "    breaker()\n",
    "    show_accuracy_graphs(A)\n",
    "    breaker()\n",
    "    if scheduler_oclr:\n",
    "        show_lr_graph(LR)\n",
    "        breaker()\n",
    "\n",
    "    BLs.append(BL)\n",
    "    BAs.append(BA)\n",
    "\n",
    "    fold += 1"
   ]
  },
  {
   "cell_type": "markdown",
   "id": "04bb4b4a",
   "metadata": {
    "papermill": {
     "duration": 0.010349,
     "end_time": "2023-01-16T07:42:28.962475",
     "exception": false,
     "start_time": "2023-01-16T07:42:28.952126",
     "status": "completed"
    },
    "tags": []
   },
   "source": [
    "### **Best Model**"
   ]
  },
  {
   "cell_type": "code",
   "execution_count": 10,
   "id": "30c81c64",
   "metadata": {
    "execution": {
     "iopub.execute_input": "2023-01-16T07:42:28.985667Z",
     "iopub.status.busy": "2023-01-16T07:42:28.985343Z",
     "iopub.status.idle": "2023-01-16T07:42:28.992346Z",
     "shell.execute_reply": "2023-01-16T07:42:28.991447Z"
    },
    "papermill": {
     "duration": 0.021447,
     "end_time": "2023-01-16T07:42:28.994508",
     "exception": false,
     "start_time": "2023-01-16T07:42:28.973061",
     "status": "completed"
    },
    "tags": []
   },
   "outputs": [
    {
     "name": "stdout",
     "output_type": "stream",
     "text": [
      "\n",
      "**************************************************\n",
      "\n",
      "Best Loss Model Fold     : 4\n",
      "Best Accuracy Model Fold : 4\n",
      "\n",
      "**************************************************\n",
      "\n"
     ]
    }
   ],
   "source": [
    "BL = np.inf\n",
    "for i in range(len(BLs)):\n",
    "    if BLs[i][\"valid\"] < BL:\n",
    "        BL = BLs[i][\"valid\"]\n",
    "        best_loss_index = i\n",
    "\n",
    "        \n",
    "BA = 0.0\n",
    "for i in range(len(BAs)):\n",
    "    if BAs[i][\"valid\"] > BA:\n",
    "        BA = BAs[i][\"valid\"]\n",
    "        best_accs_index = i\n",
    "\n",
    "breaker()\n",
    "print(f\"Best Loss Model Fold     : {best_loss_index + 1}\")\n",
    "print(f\"Best Accuracy Model Fold : {best_accs_index + 1}\")\n",
    "breaker()"
   ]
  }
 ],
 "metadata": {
  "kernelspec": {
   "display_name": "Python 3",
   "language": "python",
   "name": "python3"
  },
  "language_info": {
   "codemirror_mode": {
    "name": "ipython",
    "version": 3
   },
   "file_extension": ".py",
   "mimetype": "text/x-python",
   "name": "python",
   "nbconvert_exporter": "python",
   "pygments_lexer": "ipython3",
   "version": "3.7.12"
  },
  "papermill": {
   "default_parameters": {},
   "duration": 1380.924779,
   "end_time": "2023-01-16T07:42:31.196000",
   "environment_variables": {},
   "exception": null,
   "input_path": "__notebook__.ipynb",
   "output_path": "__notebook__.ipynb",
   "parameters": {},
   "start_time": "2023-01-16T07:19:30.271221",
   "version": "2.3.4"
  }
 },
 "nbformat": 4,
 "nbformat_minor": 5
}
