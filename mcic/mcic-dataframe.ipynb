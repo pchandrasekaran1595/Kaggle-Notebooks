{
 "cells": [
  {
   "cell_type": "code",
   "execution_count": 1,
   "id": "aedd3eff",
   "metadata": {
    "_cell_guid": "b1076dfc-b9ad-4769-8c92-a6c4dae69d19",
    "_uuid": "8f2839f25d086af736a60e9eeb907d3b93b6e0e5",
    "execution": {
     "iopub.execute_input": "2023-01-16T06:55:10.241075Z",
     "iopub.status.busy": "2023-01-16T06:55:10.240602Z",
     "iopub.status.idle": "2023-01-16T06:55:10.426896Z",
     "shell.execute_reply": "2023-01-16T06:55:10.425978Z"
    },
    "papermill": {
     "duration": 0.193917,
     "end_time": "2023-01-16T06:55:10.429654",
     "exception": false,
     "start_time": "2023-01-16T06:55:10.235737",
     "status": "completed"
    },
    "tags": []
   },
   "outputs": [],
   "source": [
    "import os\n",
    "import cv2\n",
    "import json\n",
    "import numpy as np\n",
    "import pandas as pd\n",
    "\n",
    "BASE_PATH: str = \"/kaggle/input/micro-course-6-cnn-image-classification/Vegetable Images\""
   ]
  },
  {
   "cell_type": "code",
   "execution_count": 2,
   "id": "4430c9db",
   "metadata": {
    "execution": {
     "iopub.execute_input": "2023-01-16T06:55:10.436215Z",
     "iopub.status.busy": "2023-01-16T06:55:10.435801Z",
     "iopub.status.idle": "2023-01-16T06:55:10.451951Z",
     "shell.execute_reply": "2023-01-16T06:55:10.451092Z"
    },
    "papermill": {
     "duration": 0.021781,
     "end_time": "2023-01-16T06:55:10.454057",
     "exception": false,
     "start_time": "2023-01-16T06:55:10.432276",
     "status": "completed"
    },
    "tags": []
   },
   "outputs": [],
   "source": [
    "tr_df: pd.DataFrame = pd.DataFrame(data=None, columns=[\"filepaths\", \"labels\"])\n",
    "ts_df: pd.DataFrame = pd.DataFrame(data=None, columns=[\"filepaths\", \"labels\"])\n",
    "fu_df: pd.DataFrame = pd.DataFrame(data=None, columns=[\"filepaths\", \"labels\"])  "
   ]
  },
  {
   "cell_type": "code",
   "execution_count": 3,
   "id": "3dd35772",
   "metadata": {
    "execution": {
     "iopub.execute_input": "2023-01-16T06:55:10.460486Z",
     "iopub.status.busy": "2023-01-16T06:55:10.459892Z",
     "iopub.status.idle": "2023-01-16T06:55:10.724564Z",
     "shell.execute_reply": "2023-01-16T06:55:10.723610Z"
    },
    "papermill": {
     "duration": 0.270528,
     "end_time": "2023-01-16T06:55:10.726999",
     "exception": false,
     "start_time": "2023-01-16T06:55:10.456471",
     "status": "completed"
    },
    "tags": []
   },
   "outputs": [],
   "source": [
    "tr_filepaths: list = []\n",
    "tr_labels: list = []\n",
    "\n",
    "va_filepaths: list = []\n",
    "va_labels: list = []\n",
    "\n",
    "i: int = 0\n",
    "for folder in sorted(os.listdir(f\"{BASE_PATH}/train\")):\n",
    "    for filename in os.listdir(f\"{BASE_PATH}/train/{folder}\"):\n",
    "        tr_filepaths.append(os.path.join(f\"{BASE_PATH}/train/{folder}\", filename))\n",
    "        tr_labels.append(i)\n",
    "    i += 1\n",
    "\n",
    "    \n",
    "i: int = 0\n",
    "for folder in sorted(os.listdir(f\"{BASE_PATH}/validation\")):\n",
    "    for filename in os.listdir(f\"{BASE_PATH}/validation/{folder}\"):\n",
    "        va_filepaths.append(os.path.join(f\"{BASE_PATH}/validation/{folder}\", filename))\n",
    "        va_labels.append(i)\n",
    "    i += 1\n",
    "\n",
    "tr_df.filepaths = tr_filepaths + va_filepaths\n",
    "tr_df.labels = tr_labels + va_labels\n",
    "tr_df.to_csv(\"train.csv\", index=False)"
   ]
  },
  {
   "cell_type": "code",
   "execution_count": 4,
   "id": "166a3061",
   "metadata": {
    "execution": {
     "iopub.execute_input": "2023-01-16T06:55:10.736611Z",
     "iopub.status.busy": "2023-01-16T06:55:10.736181Z",
     "iopub.status.idle": "2023-01-16T06:55:10.807582Z",
     "shell.execute_reply": "2023-01-16T06:55:10.806094Z"
    },
    "papermill": {
     "duration": 0.078759,
     "end_time": "2023-01-16T06:55:10.810943",
     "exception": false,
     "start_time": "2023-01-16T06:55:10.732184",
     "status": "completed"
    },
    "tags": []
   },
   "outputs": [],
   "source": [
    "filepaths: list = []\n",
    "labels: list = []\n",
    "\n",
    "i: int = 0    \n",
    "for folder in sorted(os.listdir(f\"{BASE_PATH}/test\")):\n",
    "    for filename in os.listdir(f\"{BASE_PATH}/test/{folder}\"):\n",
    "        filepaths.append(os.path.join(f\"{BASE_PATH}/test/{folder}\", filename))\n",
    "        labels.append(i)\n",
    "    i += 1\n",
    "\n",
    "ts_df.filepaths = filepaths\n",
    "ts_df.labels = labels\n",
    "ts_df.to_csv(\"test.csv\", index=False)"
   ]
  },
  {
   "cell_type": "code",
   "execution_count": 5,
   "id": "ad4cdd52",
   "metadata": {
    "execution": {
     "iopub.execute_input": "2023-01-16T06:55:10.818238Z",
     "iopub.status.busy": "2023-01-16T06:55:10.817167Z",
     "iopub.status.idle": "2023-01-16T06:55:10.838292Z",
     "shell.execute_reply": "2023-01-16T06:55:10.837221Z"
    },
    "papermill": {
     "duration": 0.027244,
     "end_time": "2023-01-16T06:55:10.840664",
     "exception": false,
     "start_time": "2023-01-16T06:55:10.813420",
     "status": "completed"
    },
    "tags": []
   },
   "outputs": [],
   "source": [
    "fu_df.filepaths = tr_filepaths + va_filepaths + filepaths\n",
    "fu_df.labels = tr_labels + va_labels + labels\n",
    "fu_df.to_csv(\"full.csv\", index=False)"
   ]
  },
  {
   "cell_type": "code",
   "execution_count": 6,
   "id": "c4d3e473",
   "metadata": {
    "execution": {
     "iopub.execute_input": "2023-01-16T06:55:10.847475Z",
     "iopub.status.busy": "2023-01-16T06:55:10.846891Z",
     "iopub.status.idle": "2023-01-16T06:55:10.852717Z",
     "shell.execute_reply": "2023-01-16T06:55:10.851952Z"
    },
    "papermill": {
     "duration": 0.011514,
     "end_time": "2023-01-16T06:55:10.854792",
     "exception": false,
     "start_time": "2023-01-16T06:55:10.843278",
     "status": "completed"
    },
    "tags": []
   },
   "outputs": [],
   "source": [
    "labels: dict = dict()\n",
    "\n",
    "i = 0\n",
    "for folder in sorted(os.listdir(f\"{BASE_PATH}/test\")):\n",
    "    labels[i] = folder\n",
    "    i += 1\n",
    "\n",
    "json.dump(labels, open(\"labels.json\", \"w\"))"
   ]
  }
 ],
 "metadata": {
  "kernelspec": {
   "display_name": "Python 3",
   "language": "python",
   "name": "python3"
  },
  "language_info": {
   "codemirror_mode": {
    "name": "ipython",
    "version": 3
   },
   "file_extension": ".py",
   "mimetype": "text/x-python",
   "name": "python",
   "nbconvert_exporter": "python",
   "pygments_lexer": "ipython3",
   "version": "3.7.12"
  },
  "papermill": {
   "default_parameters": {},
   "duration": 9.898346,
   "end_time": "2023-01-16T06:55:11.578221",
   "environment_variables": {},
   "exception": null,
   "input_path": "__notebook__.ipynb",
   "output_path": "__notebook__.ipynb",
   "parameters": {},
   "start_time": "2023-01-16T06:55:01.679875",
   "version": "2.3.4"
  }
 },
 "nbformat": 4,
 "nbformat_minor": 5
}
