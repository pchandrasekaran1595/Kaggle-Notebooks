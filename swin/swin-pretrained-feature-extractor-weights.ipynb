{
 "cells": [
  {
   "cell_type": "code",
   "execution_count": 1,
   "id": "b724dbd7",
   "metadata": {
    "execution": {
     "iopub.execute_input": "2022-03-27T08:18:25.404162Z",
     "iopub.status.busy": "2022-03-27T08:18:25.403080Z",
     "iopub.status.idle": "2022-03-27T08:18:33.959922Z",
     "shell.execute_reply": "2022-03-27T08:18:33.960543Z"
    },
    "papermill": {
     "duration": 8.564582,
     "end_time": "2022-03-27T08:18:33.960817",
     "exception": false,
     "start_time": "2022-03-27T08:18:25.396235",
     "status": "completed"
    },
    "tags": []
   },
   "outputs": [
    {
     "name": "stdout",
     "output_type": "stream",
     "text": [
      "Collecting timm\n",
      "  Downloading timm-0.5.4-py3-none-any.whl (431 kB)\n",
      "Requirement already satisfied: torch>=1.4 in /opt/conda/lib/python3.7/site-packages (from timm) (1.9.1+cpu)\n",
      "Requirement already satisfied: torchvision in /opt/conda/lib/python3.7/site-packages (from timm) (0.10.1+cpu)\n",
      "Requirement already satisfied: typing-extensions in /opt/conda/lib/python3.7/site-packages (from torch>=1.4->timm) (4.1.1)\n",
      "Requirement already satisfied: pillow>=5.3.0 in /opt/conda/lib/python3.7/site-packages (from torchvision->timm) (8.2.0)\n",
      "Requirement already satisfied: numpy in /opt/conda/lib/python3.7/site-packages (from torchvision->timm) (1.20.3)\n",
      "Installing collected packages: timm\n",
      "Successfully installed timm-0.5.4\n"
     ]
    },
    {
     "name": "stderr",
     "output_type": "stream",
     "text": [
      "WARNING: Running pip as the 'root' user can result in broken permissions and conflicting behaviour with the system package manager. It is recommended to use a virtual environment instead: https://pip.pypa.io/warnings/venv\n"
     ]
    }
   ],
   "source": [
    "%%bash\n",
    "pip install --upgrade timm"
   ]
  },
  {
   "cell_type": "code",
   "execution_count": 2,
   "id": "ded3b3ef",
   "metadata": {
    "_cell_guid": "b1076dfc-b9ad-4769-8c92-a6c4dae69d19",
    "_uuid": "8f2839f25d086af736a60e9eeb907d3b93b6e0e5",
    "execution": {
     "iopub.execute_input": "2022-03-27T08:18:33.976395Z",
     "iopub.status.busy": "2022-03-27T08:18:33.975706Z",
     "iopub.status.idle": "2022-03-27T08:20:28.936713Z",
     "shell.execute_reply": "2022-03-27T08:20:28.937219Z"
    },
    "papermill": {
     "duration": 114.972274,
     "end_time": "2022-03-27T08:20:28.937421",
     "exception": false,
     "start_time": "2022-03-27T08:18:33.965147",
     "status": "completed"
    },
    "tags": []
   },
   "outputs": [
    {
     "name": "stderr",
     "output_type": "stream",
     "text": [
      "Downloading: \"https://github.com/SwinTransformer/storage/releases/download/v1.0.0/swin_base_patch4_window7_224_22kto1k.pth\" to /root/.cache/torch/hub/checkpoints/swin_base_patch4_window7_224_22kto1k.pth\n",
      "Downloading: \"https://github.com/SwinTransformer/storage/releases/download/v1.0.0/swin_base_patch4_window7_224_22k.pth\" to /root/.cache/torch/hub/checkpoints/swin_base_patch4_window7_224_22k.pth\n",
      "Downloading: \"https://github.com/SwinTransformer/storage/releases/download/v1.0.0/swin_base_patch4_window12_384_22kto1k.pth\" to /root/.cache/torch/hub/checkpoints/swin_base_patch4_window12_384_22kto1k.pth\n",
      "Downloading: \"https://github.com/SwinTransformer/storage/releases/download/v1.0.0/swin_base_patch4_window12_384_22k.pth\" to /root/.cache/torch/hub/checkpoints/swin_base_patch4_window12_384_22k.pth\n",
      "Downloading: \"https://github.com/SwinTransformer/storage/releases/download/v1.0.0/swin_large_patch4_window7_224_22kto1k.pth\" to /root/.cache/torch/hub/checkpoints/swin_large_patch4_window7_224_22kto1k.pth\n",
      "Downloading: \"https://github.com/SwinTransformer/storage/releases/download/v1.0.0/swin_large_patch4_window7_224_22k.pth\" to /root/.cache/torch/hub/checkpoints/swin_large_patch4_window7_224_22k.pth\n",
      "Downloading: \"https://github.com/SwinTransformer/storage/releases/download/v1.0.0/swin_large_patch4_window12_384_22kto1k.pth\" to /root/.cache/torch/hub/checkpoints/swin_large_patch4_window12_384_22kto1k.pth\n",
      "Downloading: \"https://github.com/SwinTransformer/storage/releases/download/v1.0.0/swin_large_patch4_window12_384_22k.pth\" to /root/.cache/torch/hub/checkpoints/swin_large_patch4_window12_384_22k.pth\n",
      "Downloading: \"https://github.com/SwinTransformer/storage/releases/download/v1.0.0/swin_small_patch4_window7_224.pth\" to /root/.cache/torch/hub/checkpoints/swin_small_patch4_window7_224.pth\n",
      "Downloading: \"https://github.com/SwinTransformer/storage/releases/download/v1.0.0/swin_tiny_patch4_window7_224.pth\" to /root/.cache/torch/hub/checkpoints/swin_tiny_patch4_window7_224.pth\n"
     ]
    }
   ],
   "source": [
    "import re\n",
    "import timm\n",
    "import torch\n",
    "from torch import nn\n",
    "\n",
    "swin_model_names = [model_name for model_name in timm.list_models(pretrained=True) if re.match(\"swin\", model_name)]\n",
    "# swin_model_names\n",
    "\n",
    "for swin_model_name in swin_model_names:\n",
    "    model = timm.create_model(model_name=swin_model_name, pretrained=True)\n",
    "    model = nn.Sequential(*[*model.children()][:-3])\n",
    "    torch.save(model.state_dict(), f\"{swin_model_name}.pt\")"
   ]
  }
 ],
 "metadata": {
  "kernelspec": {
   "display_name": "Python 3",
   "language": "python",
   "name": "python3"
  },
  "language_info": {
   "codemirror_mode": {
    "name": "ipython",
    "version": 3
   },
   "file_extension": ".py",
   "mimetype": "text/x-python",
   "name": "python",
   "nbconvert_exporter": "python",
   "pygments_lexer": "ipython3",
   "version": "3.7.12"
  },
  "papermill": {
   "default_parameters": {},
   "duration": 133.113045,
   "end_time": "2022-03-27T08:20:29.958046",
   "environment_variables": {},
   "exception": null,
   "input_path": "__notebook__.ipynb",
   "output_path": "__notebook__.ipynb",
   "parameters": {},
   "start_time": "2022-03-27T08:18:16.845001",
   "version": "2.3.3"
  }
 },
 "nbformat": 4,
 "nbformat_minor": 5
}
