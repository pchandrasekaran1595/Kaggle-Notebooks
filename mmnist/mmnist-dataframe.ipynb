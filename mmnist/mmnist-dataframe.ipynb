{
 "cells": [
  {
   "cell_type": "code",
   "execution_count": 1,
   "id": "54258efb",
   "metadata": {
    "_cell_guid": "b1076dfc-b9ad-4769-8c92-a6c4dae69d19",
    "_uuid": "8f2839f25d086af736a60e9eeb907d3b93b6e0e5",
    "execution": {
     "iopub.execute_input": "2023-01-29T12:56:59.824796Z",
     "iopub.status.busy": "2023-01-29T12:56:59.824311Z",
     "iopub.status.idle": "2023-01-29T12:57:00.035705Z",
     "shell.execute_reply": "2023-01-29T12:57:00.034472Z"
    },
    "papermill": {
     "duration": 0.219192,
     "end_time": "2023-01-29T12:57:00.039006",
     "exception": false,
     "start_time": "2023-01-29T12:56:59.819814",
     "status": "completed"
    },
    "tags": []
   },
   "outputs": [],
   "source": [
    "import os\n",
    "import cv2\n",
    "import json\n",
    "import numpy as np\n",
    "import pandas as pd\n",
    "\n",
    "BASE_PATH: str = \"/kaggle/input/medical-mnist\""
   ]
  },
  {
   "cell_type": "code",
   "execution_count": 2,
   "id": "f6e28c2a",
   "metadata": {
    "execution": {
     "iopub.execute_input": "2023-01-29T12:57:00.045079Z",
     "iopub.status.busy": "2023-01-29T12:57:00.044642Z",
     "iopub.status.idle": "2023-01-29T12:57:05.176335Z",
     "shell.execute_reply": "2023-01-29T12:57:05.175226Z"
    },
    "papermill": {
     "duration": 5.137779,
     "end_time": "2023-01-29T12:57:05.179132",
     "exception": false,
     "start_time": "2023-01-29T12:57:00.041353",
     "status": "completed"
    },
    "tags": []
   },
   "outputs": [],
   "source": [
    "df: pd.DataFrame = pd.DataFrame(data=None, columns=[\"filepaths\", \"labels\"])\n",
    "     \n",
    "filepaths: list = []\n",
    "labels: list = []\n",
    "\n",
    "i: int = 0\n",
    "for folder in sorted(os.listdir(f\"{BASE_PATH}\")):\n",
    "    for filename in os.listdir(f\"{BASE_PATH}/{folder}\"):\n",
    "        filepaths.append(os.path.join(f\"{BASE_PATH}/{folder}\", filename))\n",
    "        labels.append(i)\n",
    "    i += 1\n",
    "\n",
    "df.filepaths = filepaths\n",
    "df.labels = labels\n",
    "df.to_csv(\"dataframe.csv\", index=False)"
   ]
  },
  {
   "cell_type": "code",
   "execution_count": 3,
   "id": "7732f834",
   "metadata": {
    "execution": {
     "iopub.execute_input": "2023-01-29T12:57:05.184444Z",
     "iopub.status.busy": "2023-01-29T12:57:05.184039Z",
     "iopub.status.idle": "2023-01-29T12:57:05.190571Z",
     "shell.execute_reply": "2023-01-29T12:57:05.189590Z"
    },
    "papermill": {
     "duration": 0.011606,
     "end_time": "2023-01-29T12:57:05.192716",
     "exception": false,
     "start_time": "2023-01-29T12:57:05.181110",
     "status": "completed"
    },
    "tags": []
   },
   "outputs": [],
   "source": [
    "labels: dict = dict()\n",
    "\n",
    "i = 0\n",
    "for folder in sorted(os.listdir(f\"{BASE_PATH}\")):\n",
    "    labels[i] = folder\n",
    "    i += 1\n",
    "\n",
    "json.dump(labels, open(\"labels.json\", \"w\"))"
   ]
  }
 ],
 "metadata": {
  "kernelspec": {
   "display_name": "Python 3",
   "language": "python",
   "name": "python3"
  },
  "language_info": {
   "codemirror_mode": {
    "name": "ipython",
    "version": 3
   },
   "file_extension": ".py",
   "mimetype": "text/x-python",
   "name": "python",
   "nbconvert_exporter": "python",
   "pygments_lexer": "ipython3",
   "version": "3.7.12"
  },
  "papermill": {
   "default_parameters": {},
   "duration": 14.568186,
   "end_time": "2023-01-29T12:57:05.817292",
   "environment_variables": {},
   "exception": null,
   "input_path": "__notebook__.ipynb",
   "output_path": "__notebook__.ipynb",
   "parameters": {},
   "start_time": "2023-01-29T12:56:51.249106",
   "version": "2.3.4"
  }
 },
 "nbformat": 4,
 "nbformat_minor": 5
}
