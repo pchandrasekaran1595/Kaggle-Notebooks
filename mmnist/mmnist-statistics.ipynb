{
 "cells": [
  {
   "cell_type": "code",
   "execution_count": 1,
   "id": "3b735c9b",
   "metadata": {
    "_cell_guid": "b1076dfc-b9ad-4769-8c92-a6c4dae69d19",
    "_uuid": "8f2839f25d086af736a60e9eeb907d3b93b6e0e5",
    "execution": {
     "iopub.execute_input": "2023-01-29T13:00:38.730434Z",
     "iopub.status.busy": "2023-01-29T13:00:38.729808Z",
     "iopub.status.idle": "2023-01-29T13:00:38.958151Z",
     "shell.execute_reply": "2023-01-29T13:00:38.956851Z"
    },
    "papermill": {
     "duration": 0.238706,
     "end_time": "2023-01-29T13:00:38.961696",
     "exception": false,
     "start_time": "2023-01-29T13:00:38.722990",
     "status": "completed"
    },
    "tags": []
   },
   "outputs": [],
   "source": [
    "import os\n",
    "import cv2\n",
    "import numpy as np\n",
    "import pandas as pd\n",
    "\n",
    "def breaker(num: int = 50, char: str = \"*\") -> None: print(\"\\n\" + num*char + \"\\n\")"
   ]
  },
  {
   "cell_type": "code",
   "execution_count": 2,
   "id": "50d26bbc",
   "metadata": {
    "execution": {
     "iopub.execute_input": "2023-01-29T13:00:38.968403Z",
     "iopub.status.busy": "2023-01-29T13:00:38.967933Z",
     "iopub.status.idle": "2023-01-29T13:00:38.986997Z",
     "shell.execute_reply": "2023-01-29T13:00:38.985731Z"
    },
    "papermill": {
     "duration": 0.025492,
     "end_time": "2023-01-29T13:00:38.989644",
     "exception": false,
     "start_time": "2023-01-29T13:00:38.964152",
     "status": "completed"
    },
    "tags": []
   },
   "outputs": [],
   "source": [
    "def get_image(path: str, size: int=224) -> np.ndarray:\n",
    "    image = cv2.imread(path, cv2.IMREAD_COLOR)\n",
    "    image = cv2.cvtColor(src=image, code=cv2.COLOR_BGR2RGB)\n",
    "    if image.shape == (64, 64, 3) and size == 64: return image\n",
    "    return cv2.resize(src=image, dsize=(size, size), interpolation=cv2.INTER_AREA)\n",
    "\n",
    "\n",
    "def get_statistics(filepaths: np.ndarray) -> dict:\n",
    "\n",
    "    sizes: list = [64]\n",
    "    stats: dict = dict()\n",
    "    means: dict = dict()\n",
    "    stds: dict  = dict()\n",
    "        \n",
    "    for size in sizes:\n",
    "        total_num_of_images: int = 0\n",
    "        r_mean, g_mean, b_mean, r_std, g_std, b_std = 0.0, 0.0, 0.0, 0.0, 0.0, 0.0\n",
    "        for filepath in filepaths:\n",
    "            image = get_image(filepath, size)\n",
    "            r_mean += image[:, :, 0].mean()\n",
    "            g_mean += image[:, :, 1].mean()\n",
    "            b_mean += image[:, :, 2].mean()\n",
    "            r_std += image[:, :, 0].std()\n",
    "            g_std += image[:, :, 1].std()\n",
    "            b_std += image[:, :, 2].std()\n",
    "            total_num_of_images += 1\n",
    "        \n",
    "        means[f\"{size}\"] = [\n",
    "            r_mean / total_num_of_images / 255, \n",
    "            g_mean / total_num_of_images / 255, \n",
    "            b_mean / total_num_of_images / 255,\n",
    "        ]\n",
    "        \n",
    "        stds[f\"{size}\"]  = [\n",
    "            r_std / total_num_of_images / 255, \n",
    "            g_std / total_num_of_images / 255, \n",
    "            b_std / total_num_of_images / 255,\n",
    "            ]\n",
    "    \n",
    "    stats[\"means\"] = means\n",
    "    stats[\"stds\"] = stds\n",
    "    \n",
    "    return stats\n",
    "\n",
    "\n",
    "def print_statistics(stats: dict) -> None:\n",
    "    breaker()\n",
    "    print(\"Means\".upper())\n",
    "    breaker()\n",
    "    for k, v in stats[\"means\"].items():\n",
    "        print(f\"{k} x {k} Means\\n\")\n",
    "        for i in range(len(v)):\n",
    "            if i == 0:\n",
    "                print(f\"Red   : {v[i]:.5f}\")\n",
    "            if i == 1:\n",
    "                print(f\"Green : {v[i]:.5f}\")\n",
    "            if i == 2:\n",
    "                print(f\"Blue  : {v[i]:.5f}\")\n",
    "        breaker()\n",
    "        \n",
    "    breaker()\n",
    "    print(\"Stds\".upper())\n",
    "    breaker()\n",
    "    \n",
    "    for k, v in stats[\"stds\"].items():\n",
    "        print(f\"{k} x {k} Stds\\n\")\n",
    "        for i in range(len(v)):\n",
    "            if i == 0:\n",
    "                print(f\"Red   : {v[i]:.5f}\")\n",
    "            if i == 1:\n",
    "                print(f\"Green : {v[i]:.5f}\")\n",
    "            if i == 2:\n",
    "                print(f\"Blue  : {v[i]:.5f}\")\n",
    "        breaker()"
   ]
  },
  {
   "cell_type": "code",
   "execution_count": 3,
   "id": "d2eee305",
   "metadata": {
    "execution": {
     "iopub.execute_input": "2023-01-29T13:00:38.995801Z",
     "iopub.status.busy": "2023-01-29T13:00:38.995328Z",
     "iopub.status.idle": "2023-01-29T13:06:37.222310Z",
     "shell.execute_reply": "2023-01-29T13:06:37.220700Z"
    },
    "papermill": {
     "duration": 358.236714,
     "end_time": "2023-01-29T13:06:37.228569",
     "exception": false,
     "start_time": "2023-01-29T13:00:38.991855",
     "status": "completed"
    },
    "tags": []
   },
   "outputs": [
    {
     "name": "stdout",
     "output_type": "stream",
     "text": [
      "\n",
      "**************************************************\n",
      "\n",
      "MEANS\n",
      "\n",
      "**************************************************\n",
      "\n",
      "64 x 64 Means\n",
      "\n",
      "Red   : 0.35835\n",
      "Green : 0.35835\n",
      "Blue  : 0.35835\n",
      "\n",
      "**************************************************\n",
      "\n",
      "\n",
      "**************************************************\n",
      "\n",
      "STDS\n",
      "\n",
      "**************************************************\n",
      "\n",
      "64 x 64 Stds\n",
      "\n",
      "Red   : 0.20144\n",
      "Green : 0.20144\n",
      "Blue  : 0.20144\n",
      "\n",
      "**************************************************\n",
      "\n"
     ]
    }
   ],
   "source": [
    "df = pd.read_csv(\"/kaggle/input/mmnist-dataframe/dataframe.csv\")\n",
    "\n",
    "stats = get_statistics(df.filepaths.copy().values)\n",
    "print_statistics(stats)"
   ]
  }
 ],
 "metadata": {
  "kernelspec": {
   "display_name": "Python 3",
   "language": "python",
   "name": "python3"
  },
  "language_info": {
   "codemirror_mode": {
    "name": "ipython",
    "version": 3
   },
   "file_extension": ".py",
   "mimetype": "text/x-python",
   "name": "python",
   "nbconvert_exporter": "python",
   "pygments_lexer": "ipython3",
   "version": "3.7.12"
  },
  "papermill": {
   "default_parameters": {},
   "duration": 368.842731,
   "end_time": "2023-01-29T13:06:38.155476",
   "environment_variables": {},
   "exception": null,
   "input_path": "__notebook__.ipynb",
   "output_path": "__notebook__.ipynb",
   "parameters": {},
   "start_time": "2023-01-29T13:00:29.312745",
   "version": "2.3.4"
  }
 },
 "nbformat": 4,
 "nbformat_minor": 5
}
