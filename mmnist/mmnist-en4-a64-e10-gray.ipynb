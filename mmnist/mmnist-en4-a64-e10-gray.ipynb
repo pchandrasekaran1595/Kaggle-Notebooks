{
 "cells": [
  {
   "cell_type": "markdown",
   "id": "e0742a0d",
   "metadata": {
    "_cell_guid": "b1076dfc-b9ad-4769-8c92-a6c4dae69d19",
    "_uuid": "8f2839f25d086af736a60e9eeb907d3b93b6e0e5",
    "papermill": {
     "duration": 0.004676,
     "end_time": "2023-01-29T13:27:11.370779",
     "exception": false,
     "start_time": "2023-01-29T13:27:11.366103",
     "status": "completed"
    },
    "tags": []
   },
   "source": [
    "### **Setup**"
   ]
  },
  {
   "cell_type": "code",
   "execution_count": 1,
   "id": "67bde915",
   "metadata": {
    "execution": {
     "iopub.execute_input": "2023-01-29T13:27:11.380483Z",
     "iopub.status.busy": "2023-01-29T13:27:11.379655Z",
     "iopub.status.idle": "2023-01-29T13:27:20.841862Z",
     "shell.execute_reply": "2023-01-29T13:27:20.840282Z"
    },
    "papermill": {
     "duration": 9.470537,
     "end_time": "2023-01-29T13:27:20.844990",
     "exception": false,
     "start_time": "2023-01-29T13:27:11.374453",
     "status": "completed"
    },
    "tags": []
   },
   "outputs": [
    {
     "name": "stderr",
     "output_type": "stream",
     "text": [
      "WARNING: Running pip as the 'root' user can result in broken permissions and conflicting behaviour with the system package manager. It is recommended to use a virtual environment instead: https://pip.pypa.io/warnings/venv\n"
     ]
    }
   ],
   "source": [
    "%%bash\n",
    "pip install timm -q"
   ]
  },
  {
   "cell_type": "markdown",
   "id": "a0c1d649",
   "metadata": {
    "papermill": {
     "duration": 0.003378,
     "end_time": "2023-01-29T13:27:20.852769",
     "exception": false,
     "start_time": "2023-01-29T13:27:20.849391",
     "status": "completed"
    },
    "tags": []
   },
   "source": [
    "### **Library Imports**"
   ]
  },
  {
   "cell_type": "code",
   "execution_count": 2,
   "id": "e1e95167",
   "metadata": {
    "execution": {
     "iopub.execute_input": "2023-01-29T13:27:20.861792Z",
     "iopub.status.busy": "2023-01-29T13:27:20.861471Z",
     "iopub.status.idle": "2023-01-29T13:27:24.778185Z",
     "shell.execute_reply": "2023-01-29T13:27:24.777026Z"
    },
    "papermill": {
     "duration": 3.924246,
     "end_time": "2023-01-29T13:27:24.780630",
     "exception": false,
     "start_time": "2023-01-29T13:27:20.856384",
     "status": "completed"
    },
    "tags": []
   },
   "outputs": [],
   "source": [
    "import os\n",
    "import re\n",
    "import cv2\n",
    "import timm\n",
    "import torch\n",
    "import numpy as np\n",
    "import pandas as pd\n",
    "import matplotlib.pyplot as plt\n",
    "\n",
    "from time import time\n",
    "from typing import Union\n",
    "from torch import nn, optim\n",
    "from torch.utils.data import Dataset\n",
    "from torch.utils.data import DataLoader as DL\n",
    "from torchvision import transforms\n",
    "\n",
    "from sklearn.model_selection import StratifiedKFold"
   ]
  },
  {
   "cell_type": "markdown",
   "id": "ae546b69",
   "metadata": {
    "papermill": {
     "duration": 0.003486,
     "end_time": "2023-01-29T13:27:24.788178",
     "exception": false,
     "start_time": "2023-01-29T13:27:24.784692",
     "status": "completed"
    },
    "tags": []
   },
   "source": [
    "### **Utilities and Helpers**"
   ]
  },
  {
   "cell_type": "code",
   "execution_count": 3,
   "id": "f8da06d0",
   "metadata": {
    "execution": {
     "iopub.execute_input": "2023-01-29T13:27:24.798045Z",
     "iopub.status.busy": "2023-01-29T13:27:24.796585Z",
     "iopub.status.idle": "2023-01-29T13:27:24.809242Z",
     "shell.execute_reply": "2023-01-29T13:27:24.808365Z"
    },
    "papermill": {
     "duration": 0.019662,
     "end_time": "2023-01-29T13:27:24.811450",
     "exception": false,
     "start_time": "2023-01-29T13:27:24.791788",
     "status": "completed"
    },
    "tags": []
   },
   "outputs": [],
   "source": [
    "SEED: int = 42\n",
    "    \n",
    "\n",
    "def breaker(num: int=50, char: str=\"*\") -> None: print(\"\\n\" + num*char + \"\\n\")\n",
    "\n",
    "    \n",
    "def get_image(path: str) -> np.ndarray:\n",
    "     return cv2.imread(path, cv2.IMREAD_GRAYSCALE)\n",
    "\n",
    "    \n",
    "def show_loss_graphs(L: list) -> None:\n",
    "    TL, VL = [], []\n",
    "    for i in range(len(L)):\n",
    "        TL.append(L[i][\"train\"])\n",
    "        VL.append(L[i][\"valid\"])\n",
    "    x_Axis = np.arange(1, len(TL) + 1)\n",
    "    plt.figure()\n",
    "    plt.plot(x_Axis, TL, \"r\", label=\"Train\")\n",
    "    plt.plot(x_Axis, VL, \"b\", label=\"Valid\")\n",
    "    plt.legend()\n",
    "    plt.grid()\n",
    "    plt.title(\"Loss Graph\")\n",
    "    plt.show()\n",
    "\n",
    "    \n",
    "def show_accuracy_graphs(A: list) -> None:\n",
    "    TA, VA = [], []\n",
    "    for i in range(len(A)):\n",
    "        TA.append(A[i][\"train\"])\n",
    "        VA.append(A[i][\"valid\"])\n",
    "    x_Axis = np.arange(1, len(TA) + 1)\n",
    "    plt.figure()\n",
    "    plt.plot(x_Axis, TA, \"r\", label=\"Train\")\n",
    "    plt.plot(x_Axis, VA, \"b\", label=\"Valid\")\n",
    "    plt.legend()\n",
    "    plt.grid()\n",
    "    plt.title(\"Accuracy Graph\")\n",
    "    plt.show()\n",
    "    \n",
    "\n",
    "def show_lr_graph(LR: list) -> None:\n",
    "    x_Axis = [i+1 for i in range(len(LR))]\n",
    "    plt.figure(figsize=(8, 6))\n",
    "    plt.plot(x_Axis, LR, \"rx\")\n",
    "    plt.grid()\n",
    "    plt.show()"
   ]
  },
  {
   "cell_type": "markdown",
   "id": "1cd73ae8",
   "metadata": {
    "papermill": {
     "duration": 0.003388,
     "end_time": "2023-01-29T13:27:24.818498",
     "exception": false,
     "start_time": "2023-01-29T13:27:24.815110",
     "status": "completed"
    },
    "tags": []
   },
   "source": [
    "\n",
    "\n",
    "### **Configuration**"
   ]
  },
  {
   "cell_type": "code",
   "execution_count": 4,
   "id": "fde62fb2",
   "metadata": {
    "execution": {
     "iopub.execute_input": "2023-01-29T13:27:24.827088Z",
     "iopub.status.busy": "2023-01-29T13:27:24.826794Z",
     "iopub.status.idle": "2023-01-29T13:27:24.899403Z",
     "shell.execute_reply": "2023-01-29T13:27:24.898451Z"
    },
    "papermill": {
     "duration": 0.079763,
     "end_time": "2023-01-29T13:27:24.901839",
     "exception": false,
     "start_time": "2023-01-29T13:27:24.822076",
     "status": "completed"
    },
    "tags": []
   },
   "outputs": [],
   "source": [
    "class CFG(object):\n",
    "    def __init__(self, \n",
    "                 seed: int = 42,\n",
    "                 n_splits: int = 5,\n",
    "                 batch_size: int = 16,\n",
    "                 epochs: int = 25,\n",
    "                 early_stopping: int = 5,\n",
    "                 lr: float = 1e-4,\n",
    "                 wd: float = 0.0,\n",
    "                 max_lr: float = 1e-3,\n",
    "                 pct_start: float = 0.2,\n",
    "                 steps_per_epoch: int = 100,\n",
    "                 div_factor: int = 1e3, \n",
    "                 final_div_factor: float = 1e3,\n",
    "                 ):\n",
    "        self.seed = seed\n",
    "        self.n_splits = n_splits\n",
    "        self.batch_size = batch_size\n",
    "        self.epochs = epochs\n",
    "        self.early_stopping = early_stopping\n",
    "        self.lr = lr\n",
    "        self.wd = wd\n",
    "        self.max_lr = max_lr\n",
    "        self.pct_start = pct_start\n",
    "        self.steps_per_epoch = steps_per_epoch\n",
    "        self.div_factor = div_factor\n",
    "        self.final_div_factor = final_div_factor\n",
    "        self.device = torch.device(\"cuda\" if torch.cuda.is_available() else \"cpu\")\n",
    "        \n",
    "        self.train_transform = transforms.Compose([\n",
    "            transforms.ToTensor(),\n",
    "            transforms.Normalize([0.35835], [0.20144]),\n",
    "            transforms.RandomAffine(degrees=(-45, 45), translate=(0.15, 0.15), scale=(0.5, 1.5)),\n",
    "            transforms.RandomHorizontalFlip(p=0.25),\n",
    "            transforms.RandomVerticalFlip(p=0.25),\n",
    "        ])\n",
    "        self.valid_transform = transforms.Compose([\n",
    "            transforms.ToTensor(),\n",
    "            transforms.Normalize([0.35835], [0.20144]),\n",
    "        ])\n",
    "                                \n",
    "        self.save_path = \"saves\"\n",
    "        if not os.path.exists(self.save_path): os.makedirs(self.save_path)\n",
    "    \n",
    "cfg = CFG(\n",
    "    seed=SEED, \n",
    ")"
   ]
  },
  {
   "cell_type": "markdown",
   "id": "2dfdff5f",
   "metadata": {
    "papermill": {
     "duration": 0.00351,
     "end_time": "2023-01-29T13:27:24.909552",
     "exception": false,
     "start_time": "2023-01-29T13:27:24.906042",
     "status": "completed"
    },
    "tags": []
   },
   "source": [
    "### **Dataset Template**"
   ]
  },
  {
   "cell_type": "code",
   "execution_count": 5,
   "id": "86f7763f",
   "metadata": {
    "execution": {
     "iopub.execute_input": "2023-01-29T13:27:24.919416Z",
     "iopub.status.busy": "2023-01-29T13:27:24.918020Z",
     "iopub.status.idle": "2023-01-29T13:27:24.925280Z",
     "shell.execute_reply": "2023-01-29T13:27:24.924304Z"
    },
    "papermill": {
     "duration": 0.01408,
     "end_time": "2023-01-29T13:27:24.927294",
     "exception": false,
     "start_time": "2023-01-29T13:27:24.913214",
     "status": "completed"
    },
    "tags": []
   },
   "outputs": [],
   "source": [
    "class DS(Dataset):\n",
    "    def __init__(\n",
    "        self, \n",
    "        filepaths: np.ndarray, \n",
    "        labels: Union[np.ndarray, None]=None, \n",
    "        transform=None\n",
    "    ):\n",
    "        \n",
    "        self.filepaths = filepaths\n",
    "        self.labels = labels\n",
    "        self.transform = transform\n",
    "    \n",
    "    def __len__(self):\n",
    "        return self.filepaths.shape[0]\n",
    "    \n",
    "    def __getitem__(self, idx):\n",
    "        image = get_image(self.filepaths[idx])\n",
    "        if self.labels is None:\n",
    "            return self.transform(image)\n",
    "        return self.transform(image), torch.LongTensor(self.labels[idx])"
   ]
  },
  {
   "cell_type": "markdown",
   "id": "7bc20238",
   "metadata": {
    "papermill": {
     "duration": 0.00353,
     "end_time": "2023-01-29T13:27:24.934558",
     "exception": false,
     "start_time": "2023-01-29T13:27:24.931028",
     "status": "completed"
    },
    "tags": []
   },
   "source": [
    "### **Model**"
   ]
  },
  {
   "cell_type": "code",
   "execution_count": 6,
   "id": "1a17ca19",
   "metadata": {
    "execution": {
     "iopub.execute_input": "2023-01-29T13:27:24.944480Z",
     "iopub.status.busy": "2023-01-29T13:27:24.942931Z",
     "iopub.status.idle": "2023-01-29T13:27:24.950243Z",
     "shell.execute_reply": "2023-01-29T13:27:24.949381Z"
    },
    "papermill": {
     "duration": 0.014292,
     "end_time": "2023-01-29T13:27:24.952517",
     "exception": false,
     "start_time": "2023-01-29T13:27:24.938225",
     "status": "completed"
    },
    "tags": []
   },
   "outputs": [],
   "source": [
    "class Model(nn.Module):\n",
    "    def __init__(self):\n",
    "        super(Model, self).__init__()\n",
    "            \n",
    "        self.model = timm.create_model(model_name=\"efficientnet_b4\", pretrained=True)\n",
    "        self.model.conv_stem = nn.Conv2d(\n",
    "            in_channels=1,\n",
    "            out_channels=self.model.conv_stem.out_channels,\n",
    "            kernel_size=self.model.conv_stem.kernel_size,\n",
    "            stride=self.model.conv_stem.stride,\n",
    "            padding=self.model.conv_stem.padding\n",
    "        )\n",
    "        self.model.classifier = nn.Linear(in_features=self.model.classifier.in_features, out_features=6)\n",
    "\n",
    "    def forward(self, x):\n",
    "        return nn.LogSoftmax(dim=1)(self.model(x))"
   ]
  },
  {
   "cell_type": "markdown",
   "id": "63a9badc",
   "metadata": {
    "papermill": {
     "duration": 0.003777,
     "end_time": "2023-01-29T13:27:24.960031",
     "exception": false,
     "start_time": "2023-01-29T13:27:24.956254",
     "status": "completed"
    },
    "tags": []
   },
   "source": [
    "### **Fit and Predict**"
   ]
  },
  {
   "cell_type": "code",
   "execution_count": 7,
   "id": "807644f5",
   "metadata": {
    "execution": {
     "iopub.execute_input": "2023-01-29T13:27:24.969355Z",
     "iopub.status.busy": "2023-01-29T13:27:24.969065Z",
     "iopub.status.idle": "2023-01-29T13:27:24.989570Z",
     "shell.execute_reply": "2023-01-29T13:27:24.988611Z"
    },
    "papermill": {
     "duration": 0.028155,
     "end_time": "2023-01-29T13:27:24.991905",
     "exception": false,
     "start_time": "2023-01-29T13:27:24.963750",
     "status": "completed"
    },
    "tags": []
   },
   "outputs": [],
   "source": [
    "def fit(\n",
    "    model=None,\n",
    "    optimizer=None, \n",
    "    scheduler_rlrop=None,\n",
    "    scheduler_oclr=None,\n",
    "    epochs=None, \n",
    "    early_stopping_patience=None, \n",
    "    dataloaders=None, \n",
    "    fold=None, \n",
    "    save_path=None,\n",
    "    device=None,\n",
    "    verbose=False\n",
    ") -> tuple:\n",
    "    \n",
    "    def get_accuracy(y_pred, y_true):\n",
    "        y_pred = torch.argmax(y_pred, dim=1)\n",
    "        return torch.count_nonzero(y_pred == y_true).item() / len(y_pred)\n",
    "    \n",
    "    \n",
    "    if verbose:\n",
    "        breaker()\n",
    "        if fold: print(f\"Training Fold {fold}...\")\n",
    "        else: print(\"Training ...\")\n",
    "        breaker()\n",
    "        \n",
    "    bestLoss: dict = {\"train\" : np.inf, \"valid\" : np.inf} \n",
    "    bestAccs: dict = {\"train\" : 0.0, \"valid\" : 0.0}\n",
    "    \n",
    "    Losses: list = []\n",
    "    Accuracies: list = [] \n",
    "    LRs: list = []\n",
    "        \n",
    "    if fold: \n",
    "        ble_name = f\"ble_state_fold_{fold}.pt\"\n",
    "        bae_name = f\"bae_state_fold_{fold}.pt\"\n",
    "    else: \n",
    "        ble_name = f\"ble_state.pt\"\n",
    "        bae_name = f\"bae_state.pt\"\n",
    "        \n",
    "    start_time = time()\n",
    "    for e in range(epochs):\n",
    "        e_st = time()\n",
    "        epochLoss: dict = {\"train\" : 0.0, \"valid\" : 0.0} \n",
    "        epochAccs: dict = {\"train\" : 0.0, \"valid\" : 0.0}\n",
    "\n",
    "        for phase in [\"train\", \"valid\"]:\n",
    "            if phase == \"train\":\n",
    "                model.train()\n",
    "            else:\n",
    "                model.eval()\n",
    "            \n",
    "            lossPerPass: list = []\n",
    "            accsPerPass: list = []\n",
    "                \n",
    "            for X, y in dataloaders[phase]:\n",
    "                X, y = X.to(device), y.to(device).view(-1)\n",
    "\n",
    "                optimizer.zero_grad()\n",
    "                with torch.set_grad_enabled(phase == \"train\"):\n",
    "                    output = model(X)\n",
    "                    loss = nn.NLLLoss()(output, y)\n",
    "                    if phase == \"train\":\n",
    "                        loss.backward()\n",
    "                        optimizer.step()\n",
    "                        if scheduler_oclr: scheduler_oclr.step()\n",
    "                lossPerPass.append(loss.item())\n",
    "                accsPerPass.append(get_accuracy(output, y))\n",
    "            epochLoss[phase] = np.mean(np.array(lossPerPass))\n",
    "            epochAccs[phase] = np.mean(np.array(accsPerPass))\n",
    "        if scheduler_oclr: LRs.append(scheduler_oclr.get_last_lr())\n",
    "        Losses.append(epochLoss)\n",
    "        Accuracies.append(epochAccs)\n",
    "        \n",
    "        if scheduler_oclr:\n",
    "            save_dict = {\"model_state_dict\"     : model.state_dict(),\n",
    "                         \"optim_state_dict\"     : optimizer.state_dict(),\n",
    "                         \"scheduler_state_dict\" : scheduler_oclr.state_dict()}\n",
    "        \n",
    "        elif scheduler_rlrop:\n",
    "            save_dict = {\"model_state_dict\"     : model.state_dict(),\n",
    "                         \"optim_state_dict\"     : optimizer.state_dict(),\n",
    "                         \"scheduler_state_dict\" : scheduler_rlrop.state_dict()}\n",
    "        \n",
    "        else:\n",
    "            save_dict = {\"model_state_dict\"     : model.state_dict(),\n",
    "                         \"optim_state_dict\"     : optimizer.state_dict()}\n",
    "        \n",
    "        if early_stopping_patience:\n",
    "            if epochLoss[\"valid\"] < bestLoss[\"valid\"]:\n",
    "                bestLoss = epochLoss\n",
    "                BLE = e + 1\n",
    "                torch.save(save_dict, os.path.join(save_path, ble_name))\n",
    "                torch.save(save_dict, os.path.join(save_path, bae_name))\n",
    "                early_stopping_step = 0\n",
    "            else:\n",
    "                early_stopping_step += 1\n",
    "                if early_stopping_step > early_stopping_patience:\n",
    "                    print(\"\\nEarly Stopping at Epoch {}\".format(e + 1))\n",
    "                    break\n",
    "        \n",
    "        if epochLoss[\"valid\"] < bestLoss[\"valid\"]:\n",
    "            bestLoss = epochLoss\n",
    "            BLE = e + 1\n",
    "            torch.save(save_dict,os.path.join(save_path, ble_name))\n",
    "        \n",
    "        if epochAccs[\"valid\"] > bestAccs[\"valid\"]:\n",
    "            bestAccs = epochAccs\n",
    "            BAE = e + 1\n",
    "            torch.save(save_dict,os.path.join(save_path, bae_name))\n",
    "        \n",
    "        if scheduler_rlrop: scheduler_rlrop.step(epochLoss[\"valid\"])\n",
    "        \n",
    "        if verbose:\n",
    "            print(\"Epoch: {} | Train Loss: {:.5f} | Valid Loss: {:.5f} |\\\n",
    " Train Accs: {:.5f} | Valid Accs: {:.5f} | Time: {:.2f} seconds\".format(e+1, \n",
    "                                                                        epochLoss[\"train\"], epochLoss[\"valid\"], \n",
    "                                                                        epochAccs[\"train\"], epochAccs[\"valid\"], \n",
    "                                                                        time()-e_st))\n",
    "\n",
    "    if verbose:                                           \n",
    "        breaker()\n",
    "        print(f\"Best Validation Loss at Epoch {BLE}\")\n",
    "        breaker()\n",
    "        print(f\"Best Validation Accs at Epoch {BAE}\")\n",
    "        breaker()\n",
    "        print(\"Time Taken [{} Epochs] : {:.2f} minutes\".format(len(Losses), (time()-start_time)/60))\n",
    "    \n",
    "    return Losses, Accuracies, LRs, bestLoss, bestAccs, BLE, BAE, ble_name, bae_name\n",
    "\n",
    "\n",
    "# def predict_batch(model=None, dataloader=None, path=None, device=None) -> np.ndarray:\n",
    "#     model.load_state_dict(torch.load(path, map_location=device)[\"model_state_dict\"])\n",
    "#     model.to(device)    \n",
    "#     model.eval()\n",
    "    \n",
    "#     y_pred = torch.zeros(1, 1).to(device)\n",
    "    \n",
    "#     for X in dataloader:\n",
    "#         X = X.to(device)\n",
    "#         with torch.no_grad():\n",
    "#             output = torch.argmax(torch.exp(model(X)), dim=1)\n",
    "#         y_pred = torch.cat((y_pred, output.view(-1, 1)), dim=0)\n",
    "    \n",
    "#     return y_pred[1:].detach().cpu().numpy()"
   ]
  },
  {
   "cell_type": "markdown",
   "id": "11c57507",
   "metadata": {
    "papermill": {
     "duration": 0.003618,
     "end_time": "2023-01-29T13:27:25.000246",
     "exception": false,
     "start_time": "2023-01-29T13:27:24.996628",
     "status": "completed"
    },
    "tags": []
   },
   "source": [
    "### **Train**"
   ]
  },
  {
   "cell_type": "code",
   "execution_count": 8,
   "id": "f0ca0bd0",
   "metadata": {
    "execution": {
     "iopub.execute_input": "2023-01-29T13:27:25.010229Z",
     "iopub.status.busy": "2023-01-29T13:27:25.008798Z",
     "iopub.status.idle": "2023-01-29T13:27:25.111631Z",
     "shell.execute_reply": "2023-01-29T13:27:25.110666Z"
    },
    "papermill": {
     "duration": 0.110426,
     "end_time": "2023-01-29T13:27:25.114423",
     "exception": false,
     "start_time": "2023-01-29T13:27:25.003997",
     "status": "completed"
    },
    "tags": []
   },
   "outputs": [],
   "source": [
    "df = pd.read_csv(\"/kaggle/input/mmnist-dataframe/dataframe.csv\")\n",
    "\n",
    "filepaths = df.filepaths.copy().values\n",
    "labels = df.labels.copy().values"
   ]
  },
  {
   "cell_type": "code",
   "execution_count": 9,
   "id": "70e0b52d",
   "metadata": {
    "execution": {
     "iopub.execute_input": "2023-01-29T13:27:25.126065Z",
     "iopub.status.busy": "2023-01-29T13:27:25.123569Z",
     "iopub.status.idle": "2023-01-29T16:24:23.855187Z",
     "shell.execute_reply": "2023-01-29T16:24:23.854065Z"
    },
    "papermill": {
     "duration": 10618.738745,
     "end_time": "2023-01-29T16:24:23.857375",
     "exception": false,
     "start_time": "2023-01-29T13:27:25.118630",
     "status": "completed"
    },
    "tags": []
   },
   "outputs": [
    {
     "name": "stderr",
     "output_type": "stream",
     "text": [
      "Downloading: \"https://github.com/rwightman/pytorch-image-models/releases/download/v0.1-weights/efficientnet_b4_ra2_320-7eb33cd5.pth\" to /root/.cache/torch/hub/checkpoints/efficientnet_b4_ra2_320-7eb33cd5.pth\n"
     ]
    },
    {
     "name": "stdout",
     "output_type": "stream",
     "text": [
      "\n",
      "**************************************************\n",
      "\n",
      "Training Fold 1...\n",
      "\n",
      "**************************************************\n",
      "\n",
      "Epoch: 1 | Train Loss: 0.87147 | Valid Loss: 0.03966 | Train Accs: 0.68328 | Valid Accs: 0.98809 | Time: 609.56 seconds\n",
      "Epoch: 2 | Train Loss: 0.07326 | Valid Loss: 0.02944 | Train Accs: 0.97483 | Valid Accs: 0.99747 | Time: 203.03 seconds\n",
      "Epoch: 3 | Train Loss: 0.03010 | Valid Loss: 0.00440 | Train Accs: 0.99086 | Valid Accs: 0.99873 | Time: 204.12 seconds\n",
      "Epoch: 4 | Train Loss: 0.01322 | Valid Loss: 0.00775 | Train Accs: 0.99593 | Valid Accs: 0.99806 | Time: 201.57 seconds\n",
      "Epoch: 5 | Train Loss: 0.01217 | Valid Loss: 0.00277 | Train Accs: 0.99648 | Valid Accs: 0.99916 | Time: 207.17 seconds\n",
      "Epoch: 6 | Train Loss: 0.00773 | Valid Loss: 0.00200 | Train Accs: 0.99735 | Valid Accs: 0.99949 | Time: 209.05 seconds\n",
      "Epoch: 7 | Train Loss: 0.00575 | Valid Loss: 0.00203 | Train Accs: 0.99803 | Valid Accs: 0.99949 | Time: 206.26 seconds\n",
      "Epoch: 8 | Train Loss: 0.00276 | Valid Loss: 0.00172 | Train Accs: 0.99905 | Valid Accs: 0.99949 | Time: 204.50 seconds\n",
      "Epoch: 9 | Train Loss: 0.00320 | Valid Loss: 0.00172 | Train Accs: 0.99898 | Valid Accs: 0.99958 | Time: 201.30 seconds\n",
      "Epoch: 10 | Train Loss: 0.00212 | Valid Loss: 0.00113 | Train Accs: 0.99924 | Valid Accs: 0.99975 | Time: 203.54 seconds\n",
      "\n",
      "**************************************************\n",
      "\n",
      "Best Validation Loss at Epoch 10\n",
      "\n",
      "**************************************************\n",
      "\n",
      "Best Validation Accs at Epoch 10\n",
      "\n",
      "**************************************************\n",
      "\n",
      "Time Taken [10 Epochs] : 40.83 minutes\n",
      "\n",
      "**************************************************\n",
      "\n"
     ]
    },
    {
     "data": {
      "image/png": "[encoded data removed]",
      "text/plain": [
       "<Figure size 432x288 with 1 Axes>"
      ]
     },
     "metadata": {
      "needs_background": "light"
     },
     "output_type": "display_data"
    },
    {
     "name": "stdout",
     "output_type": "stream",
     "text": [
      "\n",
      "**************************************************\n",
      "\n"
     ]
    },
    {
     "data": {
      "image/png": "[encoded data removed]",
      "text/plain": [
       "<Figure size 432x288 with 1 Axes>"
      ]
     },
     "metadata": {
      "needs_background": "light"
     },
     "output_type": "display_data"
    },
    {
     "name": "stdout",
     "output_type": "stream",
     "text": [
      "\n",
      "**************************************************\n",
      "\n"
     ]
    },
    {
     "data": {
      "image/png": "[encoded data removed]",
      "text/plain": [
       "<Figure size 576x432 with 1 Axes>"
      ]
     },
     "metadata": {
      "needs_background": "light"
     },
     "output_type": "display_data"
    },
    {
     "name": "stdout",
     "output_type": "stream",
     "text": [
      "\n",
      "**************************************************\n",
      "\n",
      "\n",
      "**************************************************\n",
      "\n",
      "Training Fold 2...\n",
      "\n",
      "**************************************************\n",
      "\n",
      "Epoch: 1 | Train Loss: 0.87316 | Valid Loss: 0.02807 | Train Accs: 0.68175 | Valid Accs: 0.99198 | Time: 204.10 seconds\n",
      "Epoch: 2 | Train Loss: 0.06832 | Valid Loss: 0.01007 | Train Accs: 0.97746 | Valid Accs: 0.99696 | Time: 204.30 seconds\n",
      "Epoch: 3 | Train Loss: 0.02572 | Valid Loss: 0.00327 | Train Accs: 0.99179 | Valid Accs: 0.99907 | Time: 201.87 seconds\n",
      "Epoch: 4 | Train Loss: 0.01423 | Valid Loss: 0.00212 | Train Accs: 0.99570 | Valid Accs: 0.99924 | Time: 199.15 seconds\n",
      "Epoch: 5 | Train Loss: 0.00903 | Valid Loss: 0.00184 | Train Accs: 0.99720 | Valid Accs: 0.99924 | Time: 203.22 seconds\n",
      "Epoch: 6 | Train Loss: 0.00494 | Valid Loss: 0.00144 | Train Accs: 0.99841 | Valid Accs: 0.99941 | Time: 203.86 seconds\n",
      "Epoch: 7 | Train Loss: 0.00422 | Valid Loss: 0.00068 | Train Accs: 0.99860 | Valid Accs: 0.99975 | Time: 199.09 seconds\n",
      "Epoch: 8 | Train Loss: 0.00356 | Valid Loss: 0.00028 | Train Accs: 0.99900 | Valid Accs: 0.99992 | Time: 201.30 seconds\n",
      "Epoch: 9 | Train Loss: 0.00271 | Valid Loss: 0.00023 | Train Accs: 0.99930 | Valid Accs: 0.99992 | Time: 204.20 seconds\n",
      "Epoch: 10 | Train Loss: 0.00232 | Valid Loss: 0.00028 | Train Accs: 0.99919 | Valid Accs: 0.99992 | Time: 199.92 seconds\n",
      "\n",
      "**************************************************\n",
      "\n",
      "Best Validation Loss at Epoch 9\n",
      "\n",
      "**************************************************\n",
      "\n",
      "Best Validation Accs at Epoch 8\n",
      "\n",
      "**************************************************\n",
      "\n",
      "Time Taken [10 Epochs] : 33.68 minutes\n",
      "\n",
      "**************************************************\n",
      "\n"
     ]
    },
    {
     "data": {
      "image/png": "[encoded data removed]",
      "text/plain": [
       "<Figure size 432x288 with 1 Axes>"
      ]
     },
     "metadata": {
      "needs_background": "light"
     },
     "output_type": "display_data"
    },
    {
     "name": "stdout",
     "output_type": "stream",
     "text": [
      "\n",
      "**************************************************\n",
      "\n"
     ]
    },
    {
     "data": {
      "image/png": "[encoded data removed]",
      "text/plain": [
       "<Figure size 432x288 with 1 Axes>"
      ]
     },
     "metadata": {
      "needs_background": "light"
     },
     "output_type": "display_data"
    },
    {
     "name": "stdout",
     "output_type": "stream",
     "text": [
      "\n",
      "**************************************************\n",
      "\n"
     ]
    },
    {
     "data": {
      "image/png": "[encoded data removed]",
      "text/plain": [
       "<Figure size 576x432 with 1 Axes>"
      ]
     },
     "metadata": {
      "needs_background": "light"
     },
     "output_type": "display_data"
    },
    {
     "name": "stdout",
     "output_type": "stream",
     "text": [
      "\n",
      "**************************************************\n",
      "\n",
      "\n",
      "**************************************************\n",
      "\n",
      "Training Fold 3...\n",
      "\n",
      "**************************************************\n",
      "\n",
      "Epoch: 1 | Train Loss: 0.86425 | Valid Loss: 0.04452 | Train Accs: 0.68461 | Valid Accs: 0.98995 | Time: 202.26 seconds\n",
      "Epoch: 2 | Train Loss: 0.06519 | Valid Loss: 0.00447 | Train Accs: 0.97903 | Valid Accs: 0.99848 | Time: 201.84 seconds\n",
      "Epoch: 3 | Train Loss: 0.02311 | Valid Loss: 0.00095 | Train Accs: 0.99311 | Valid Accs: 0.99975 | Time: 202.29 seconds\n",
      "Epoch: 4 | Train Loss: 0.01393 | Valid Loss: 0.00152 | Train Accs: 0.99597 | Valid Accs: 0.99941 | Time: 199.50 seconds\n",
      "Epoch: 5 | Train Loss: 0.00924 | Valid Loss: 0.00028 | Train Accs: 0.99714 | Valid Accs: 0.99983 | Time: 203.19 seconds\n",
      "Epoch: 6 | Train Loss: 0.00450 | Valid Loss: 0.00024 | Train Accs: 0.99856 | Valid Accs: 1.00000 | Time: 204.79 seconds\n",
      "Epoch: 7 | Train Loss: 0.00478 | Valid Loss: 0.00005 | Train Accs: 0.99852 | Valid Accs: 1.00000 | Time: 202.60 seconds\n",
      "Epoch: 8 | Train Loss: 0.00272 | Valid Loss: 0.00005 | Train Accs: 0.99902 | Valid Accs: 1.00000 | Time: 205.12 seconds\n",
      "Epoch: 9 | Train Loss: 0.00302 | Valid Loss: 0.00003 | Train Accs: 0.99913 | Valid Accs: 1.00000 | Time: 199.14 seconds\n",
      "Epoch: 10 | Train Loss: 0.00174 | Valid Loss: 0.00003 | Train Accs: 0.99934 | Valid Accs: 1.00000 | Time: 198.57 seconds\n",
      "\n",
      "**************************************************\n",
      "\n",
      "Best Validation Loss at Epoch 9\n",
      "\n",
      "**************************************************\n",
      "\n",
      "Best Validation Accs at Epoch 6\n",
      "\n",
      "**************************************************\n",
      "\n",
      "Time Taken [10 Epochs] : 33.66 minutes\n",
      "\n",
      "**************************************************\n",
      "\n"
     ]
    },
    {
     "data": {
      "image/png": "[encoded data removed]",
      "text/plain": [
       "<Figure size 432x288 with 1 Axes>"
      ]
     },
     "metadata": {
      "needs_background": "light"
     },
     "output_type": "display_data"
    },
    {
     "name": "stdout",
     "output_type": "stream",
     "text": [
      "\n",
      "**************************************************\n",
      "\n"
     ]
    },
    {
     "data": {
      "image/png": "[encoded data removed]",
      "text/plain": [
       "<Figure size 432x288 with 1 Axes>"
      ]
     },
     "metadata": {
      "needs_background": "light"
     },
     "output_type": "display_data"
    },
    {
     "name": "stdout",
     "output_type": "stream",
     "text": [
      "\n",
      "**************************************************\n",
      "\n"
     ]
    },
    {
     "data": {
      "image/png": "[encoded data removed]",
      "text/plain": [
       "<Figure size 576x432 with 1 Axes>"
      ]
     },
     "metadata": {
      "needs_background": "light"
     },
     "output_type": "display_data"
    },
    {
     "name": "stdout",
     "output_type": "stream",
     "text": [
      "\n",
      "**************************************************\n",
      "\n",
      "\n",
      "**************************************************\n",
      "\n",
      "Training Fold 4...\n",
      "\n",
      "**************************************************\n",
      "\n",
      "Epoch: 1 | Train Loss: 0.86435 | Valid Loss: 0.04172 | Train Accs: 0.68871 | Valid Accs: 0.98739 | Time: 202.62 seconds\n",
      "Epoch: 2 | Train Loss: 0.07008 | Valid Loss: 0.01261 | Train Accs: 0.97738 | Valid Accs: 0.99628 | Time: 213.32 seconds\n",
      "Epoch: 3 | Train Loss: 0.02419 | Valid Loss: 0.00566 | Train Accs: 0.99205 | Valid Accs: 0.99916 | Time: 207.31 seconds\n",
      "Epoch: 4 | Train Loss: 0.01401 | Valid Loss: 0.00158 | Train Accs: 0.99580 | Valid Accs: 0.99924 | Time: 206.21 seconds\n",
      "Epoch: 5 | Train Loss: 0.00836 | Valid Loss: 0.00077 | Train Accs: 0.99763 | Valid Accs: 0.99975 | Time: 207.29 seconds\n",
      "Epoch: 6 | Train Loss: 0.00520 | Valid Loss: 0.00025 | Train Accs: 0.99839 | Valid Accs: 0.99992 | Time: 207.79 seconds\n",
      "Epoch: 7 | Train Loss: 0.00314 | Valid Loss: 0.00025 | Train Accs: 0.99909 | Valid Accs: 0.99992 | Time: 203.34 seconds\n",
      "Epoch: 8 | Train Loss: 0.00261 | Valid Loss: 0.00003 | Train Accs: 0.99915 | Valid Accs: 1.00000 | Time: 209.53 seconds\n",
      "Epoch: 9 | Train Loss: 0.00200 | Valid Loss: 0.00004 | Train Accs: 0.99939 | Valid Accs: 1.00000 | Time: 209.37 seconds\n",
      "Epoch: 10 | Train Loss: 0.00184 | Valid Loss: 0.00004 | Train Accs: 0.99947 | Valid Accs: 1.00000 | Time: 205.65 seconds\n",
      "\n",
      "**************************************************\n",
      "\n",
      "Best Validation Loss at Epoch 8\n",
      "\n",
      "**************************************************\n",
      "\n",
      "Best Validation Accs at Epoch 8\n",
      "\n",
      "**************************************************\n",
      "\n",
      "Time Taken [10 Epochs] : 34.54 minutes\n",
      "\n",
      "**************************************************\n",
      "\n"
     ]
    },
    {
     "data": {
      "image/png": "[encoded data removed]",
      "text/plain": [
       "<Figure size 432x288 with 1 Axes>"
      ]
     },
     "metadata": {
      "needs_background": "light"
     },
     "output_type": "display_data"
    },
    {
     "name": "stdout",
     "output_type": "stream",
     "text": [
      "\n",
      "**************************************************\n",
      "\n"
     ]
    },
    {
     "data": {
      "image/png": "[encoded data removed]",
      "text/plain": [
       "<Figure size 432x288 with 1 Axes>"
      ]
     },
     "metadata": {
      "needs_background": "light"
     },
     "output_type": "display_data"
    },
    {
     "name": "stdout",
     "output_type": "stream",
     "text": [
      "\n",
      "**************************************************\n",
      "\n"
     ]
    },
    {
     "data": {
      "image/png": "[encoded data removed]",
      "text/plain": [
       "<Figure size 576x432 with 1 Axes>"
      ]
     },
     "metadata": {
      "needs_background": "light"
     },
     "output_type": "display_data"
    },
    {
     "name": "stdout",
     "output_type": "stream",
     "text": [
      "\n",
      "**************************************************\n",
      "\n",
      "\n",
      "**************************************************\n",
      "\n",
      "Training Fold 5...\n",
      "\n",
      "**************************************************\n",
      "\n",
      "Epoch: 1 | Train Loss: 0.87805 | Valid Loss: 0.03054 | Train Accs: 0.67971 | Valid Accs: 0.99079 | Time: 203.08 seconds\n",
      "Epoch: 2 | Train Loss: 0.07230 | Valid Loss: 0.00774 | Train Accs: 0.97558 | Valid Accs: 0.99780 | Time: 200.32 seconds\n",
      "Epoch: 3 | Train Loss: 0.02539 | Valid Loss: 0.00198 | Train Accs: 0.99175 | Valid Accs: 0.99941 | Time: 201.06 seconds\n",
      "Epoch: 4 | Train Loss: 0.01536 | Valid Loss: 0.00099 | Train Accs: 0.99529 | Valid Accs: 0.99958 | Time: 200.44 seconds\n",
      "Epoch: 5 | Train Loss: 0.00891 | Valid Loss: 0.00076 | Train Accs: 0.99705 | Valid Accs: 0.99992 | Time: 203.53 seconds\n",
      "Epoch: 6 | Train Loss: 0.00567 | Valid Loss: 0.00093 | Train Accs: 0.99824 | Valid Accs: 0.99975 | Time: 207.23 seconds\n",
      "Epoch: 7 | Train Loss: 0.00423 | Valid Loss: 0.00059 | Train Accs: 0.99852 | Valid Accs: 0.99992 | Time: 210.73 seconds\n",
      "Epoch: 8 | Train Loss: 0.00288 | Valid Loss: 0.00030 | Train Accs: 0.99902 | Valid Accs: 0.99992 | Time: 207.69 seconds\n",
      "Epoch: 9 | Train Loss: 0.00216 | Valid Loss: 0.00036 | Train Accs: 0.99936 | Valid Accs: 0.99992 | Time: 204.69 seconds\n",
      "Epoch: 10 | Train Loss: 0.00152 | Valid Loss: 0.00036 | Train Accs: 0.99947 | Valid Accs: 0.99992 | Time: 203.50 seconds\n",
      "\n",
      "**************************************************\n",
      "\n",
      "Best Validation Loss at Epoch 8\n",
      "\n",
      "**************************************************\n",
      "\n",
      "Best Validation Accs at Epoch 5\n",
      "\n",
      "**************************************************\n",
      "\n",
      "Time Taken [10 Epochs] : 34.04 minutes\n",
      "\n",
      "**************************************************\n",
      "\n"
     ]
    },
    {
     "data": {
      "image/png": "[encoded data removed]",
      "text/plain": [
       "<Figure size 432x288 with 1 Axes>"
      ]
     },
     "metadata": {
      "needs_background": "light"
     },
     "output_type": "display_data"
    },
    {
     "name": "stdout",
     "output_type": "stream",
     "text": [
      "\n",
      "**************************************************\n",
      "\n"
     ]
    },
    {
     "data": {
      "image/png": "[encoded data removed]",
      "text/plain": [
       "<Figure size 432x288 with 1 Axes>"
      ]
     },
     "metadata": {
      "needs_background": "light"
     },
     "output_type": "display_data"
    },
    {
     "name": "stdout",
     "output_type": "stream",
     "text": [
      "\n",
      "**************************************************\n",
      "\n"
     ]
    },
    {
     "data": {
      "image/png": "[encoded data removed]",
      "text/plain": [
       "<Figure size 576x432 with 1 Axes>"
      ]
     },
     "metadata": {
      "needs_background": "light"
     },
     "output_type": "display_data"
    },
    {
     "name": "stdout",
     "output_type": "stream",
     "text": [
      "\n",
      "**************************************************\n",
      "\n"
     ]
    }
   ],
   "source": [
    "fold: int = 1\n",
    "BLs: list = []\n",
    "BAs: list = []\n",
    "    \n",
    "cfg.batch_size = 64\n",
    "cfg.epochs = 10\n",
    "    \n",
    "for tr_idx, va_idx in StratifiedKFold(n_splits=cfg.n_splits, random_state=cfg.seed, shuffle=True).split(filepaths, labels):\n",
    "#     if fold == 1: break\n",
    "#     fold += 1\n",
    "\n",
    "    tr_filepaths, va_filepaths = filepaths[tr_idx], filepaths[va_idx] \n",
    "    tr_labels, va_labels       = labels[tr_idx], labels[va_idx]\n",
    "\n",
    "    tr_data_setup = DS(\n",
    "        filepaths=tr_filepaths, \n",
    "        labels=tr_labels.reshape(-1, 1),\n",
    "        transform=cfg.train_transform\n",
    "    )\n",
    "\n",
    "    va_data_setup = DS(\n",
    "        filepaths=va_filepaths, \n",
    "        labels=va_labels.reshape(-1, 1),\n",
    "        transform=cfg.valid_transform\n",
    "    )\n",
    "\n",
    "    dataloaders = {\n",
    "        \"train\" : DL(tr_data_setup, batch_size=cfg.batch_size, shuffle=True, generator=torch.manual_seed(cfg.seed)),\n",
    "        \"valid\" : DL(va_data_setup, batch_size=cfg.batch_size, shuffle=False),\n",
    "    }\n",
    "\n",
    "    cfg.steps_per_epoch=len(dataloaders[\"train\"])\n",
    "\n",
    "    torch.manual_seed(cfg.seed)\n",
    "    model = Model().to(cfg.device)\n",
    "\n",
    "    optimizer = optim.Adam([p for p in model.parameters() if p.requires_grad], lr=cfg.lr, weight_decay=cfg.wd)\n",
    "    # optimizer = optim.AdamW([p for p in model.parameters() if p.requires_grad], lr=cfg.lr, weight_decay=cfg.wd)\n",
    "    # optimizer = optim.SGD([p for p in model.parameters() if p.requires_grad], lr=cfg.lr, weight_decay=cfg.wd, momentum=0.9)\n",
    "\n",
    "    scheduler_oclr = optim.lr_scheduler.OneCycleLR(\n",
    "        optimizer=optimizer, \n",
    "        max_lr=cfg.max_lr, \n",
    "        epochs=cfg.epochs, \n",
    "        steps_per_epoch=cfg.steps_per_epoch,\n",
    "        pct_start=cfg.pct_start, \n",
    "        div_factor=cfg.div_factor, \n",
    "        final_div_factor=cfg.final_div_factor\n",
    "    )\n",
    "\n",
    "    # scheduler_rlrop = optim.lr_scheduler.ReduceLROnPlateau(\n",
    "    #     optimizer=optimizer,\n",
    "    #     patience=cfg.patience,\n",
    "    #     eps=cfg.eps,\n",
    "    #     verbose=True\n",
    "    # )\n",
    "\n",
    "    # scheduler_oclr = None\n",
    "    scheduler_rlrop = None\n",
    "\n",
    "\n",
    "    L, A, LR, BL, BA, _, _, _, _ = fit(\n",
    "        model=model, \n",
    "        optimizer=optimizer, \n",
    "        scheduler_oclr=scheduler_oclr,\n",
    "        scheduler_rlrop=scheduler_rlrop,\n",
    "        epochs=cfg.epochs, \n",
    "        early_stopping_patience=cfg.early_stopping, \n",
    "        dataloaders=dataloaders, \n",
    "        device=cfg.device,\n",
    "        save_path=cfg.save_path,\n",
    "        fold=fold,\n",
    "        verbose=True\n",
    "    )\n",
    "\n",
    "\n",
    "    breaker()\n",
    "    show_loss_graphs(L)\n",
    "    breaker()\n",
    "    show_accuracy_graphs(A)\n",
    "    breaker()\n",
    "    if scheduler_oclr:\n",
    "        show_lr_graph(LR)\n",
    "        breaker()\n",
    "\n",
    "    BLs.append(BL)\n",
    "    BAs.append(BA)\n",
    "\n",
    "    fold += 1"
   ]
  },
  {
   "cell_type": "markdown",
   "id": "e4cef674",
   "metadata": {
    "papermill": {
     "duration": 0.010521,
     "end_time": "2023-01-29T16:24:23.878715",
     "exception": false,
     "start_time": "2023-01-29T16:24:23.868194",
     "status": "completed"
    },
    "tags": []
   },
   "source": [
    "### **Best Model**"
   ]
  },
  {
   "cell_type": "code",
   "execution_count": 10,
   "id": "3240bb0d",
   "metadata": {
    "execution": {
     "iopub.execute_input": "2023-01-29T16:24:23.901279Z",
     "iopub.status.busy": "2023-01-29T16:24:23.900961Z",
     "iopub.status.idle": "2023-01-29T16:24:23.907876Z",
     "shell.execute_reply": "2023-01-29T16:24:23.906857Z"
    },
    "papermill": {
     "duration": 0.021525,
     "end_time": "2023-01-29T16:24:23.910794",
     "exception": false,
     "start_time": "2023-01-29T16:24:23.889269",
     "status": "completed"
    },
    "tags": []
   },
   "outputs": [
    {
     "name": "stdout",
     "output_type": "stream",
     "text": [
      "\n",
      "**************************************************\n",
      "\n",
      "Best Loss Model Fold     : 3\n",
      "Best Accuracy Model Fold : 3\n",
      "\n",
      "**************************************************\n",
      "\n"
     ]
    }
   ],
   "source": [
    "BL = np.inf\n",
    "for i in range(len(BLs)):\n",
    "    if BLs[i][\"valid\"] < BL:\n",
    "        BL = BLs[i][\"valid\"]\n",
    "        best_loss_index = i\n",
    "\n",
    "        \n",
    "BA = 0.0\n",
    "for i in range(len(BAs)):\n",
    "    if BAs[i][\"valid\"] > BA:\n",
    "        BA = BAs[i][\"valid\"]\n",
    "        best_accs_index = i\n",
    "\n",
    "breaker()\n",
    "print(f\"Best Loss Model Fold     : {best_loss_index + 1}\")\n",
    "print(f\"Best Accuracy Model Fold : {best_accs_index + 1}\")\n",
    "breaker()"
   ]
  }
 ],
 "metadata": {
  "kernelspec": {
   "display_name": "Python 3",
   "language": "python",
   "name": "python3"
  },
  "language_info": {
   "codemirror_mode": {
    "name": "ipython",
    "version": 3
   },
   "file_extension": ".py",
   "mimetype": "text/x-python",
   "name": "python",
   "nbconvert_exporter": "python",
   "pygments_lexer": "ipython3",
   "version": "3.7.12"
  },
  "papermill": {
   "default_parameters": {},
   "duration": 10641.662632,
   "end_time": "2023-01-29T16:24:25.458309",
   "environment_variables": {},
   "exception": null,
   "input_path": "__notebook__.ipynb",
   "output_path": "__notebook__.ipynb",
   "parameters": {},
   "start_time": "2023-01-29T13:27:03.795677",
   "version": "2.3.4"
  }
 },
 "nbformat": 4,
 "nbformat_minor": 5
}
