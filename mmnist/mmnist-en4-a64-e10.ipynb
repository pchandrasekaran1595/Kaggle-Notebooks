{
 "cells": [
  {
   "cell_type": "markdown",
   "id": "6da119ee",
   "metadata": {
    "_cell_guid": "b1076dfc-b9ad-4769-8c92-a6c4dae69d19",
    "_uuid": "8f2839f25d086af736a60e9eeb907d3b93b6e0e5",
    "papermill": {
     "duration": 0.004849,
     "end_time": "2023-01-29T13:31:53.429399",
     "exception": false,
     "start_time": "2023-01-29T13:31:53.424550",
     "status": "completed"
    },
    "tags": []
   },
   "source": [
    "### **Setup**"
   ]
  },
  {
   "cell_type": "code",
   "execution_count": 1,
   "id": "f7009c40",
   "metadata": {
    "execution": {
     "iopub.execute_input": "2023-01-29T13:31:53.439217Z",
     "iopub.status.busy": "2023-01-29T13:31:53.438310Z",
     "iopub.status.idle": "2023-01-29T13:32:02.918990Z",
     "shell.execute_reply": "2023-01-29T13:32:02.917719Z"
    },
    "papermill": {
     "duration": 9.488306,
     "end_time": "2023-01-29T13:32:02.921481",
     "exception": false,
     "start_time": "2023-01-29T13:31:53.433175",
     "status": "completed"
    },
    "tags": []
   },
   "outputs": [
    {
     "name": "stderr",
     "output_type": "stream",
     "text": [
      "WARNING: Running pip as the 'root' user can result in broken permissions and conflicting behaviour with the system package manager. It is recommended to use a virtual environment instead: https://pip.pypa.io/warnings/venv\n"
     ]
    }
   ],
   "source": [
    "%%bash\n",
    "pip install timm -q"
   ]
  },
  {
   "cell_type": "markdown",
   "id": "517017ca",
   "metadata": {
    "papermill": {
     "duration": 0.003363,
     "end_time": "2023-01-29T13:32:02.928696",
     "exception": false,
     "start_time": "2023-01-29T13:32:02.925333",
     "status": "completed"
    },
    "tags": []
   },
   "source": [
    "### **Library Imports**"
   ]
  },
  {
   "cell_type": "code",
   "execution_count": 2,
   "id": "77862128",
   "metadata": {
    "execution": {
     "iopub.execute_input": "2023-01-29T13:32:02.937459Z",
     "iopub.status.busy": "2023-01-29T13:32:02.937137Z",
     "iopub.status.idle": "2023-01-29T13:32:06.302646Z",
     "shell.execute_reply": "2023-01-29T13:32:06.301356Z"
    },
    "papermill": {
     "duration": 3.37273,
     "end_time": "2023-01-29T13:32:06.305136",
     "exception": false,
     "start_time": "2023-01-29T13:32:02.932406",
     "status": "completed"
    },
    "tags": []
   },
   "outputs": [],
   "source": [
    "import os\n",
    "import re\n",
    "import cv2\n",
    "import timm\n",
    "import torch\n",
    "import numpy as np\n",
    "import pandas as pd\n",
    "import matplotlib.pyplot as plt\n",
    "\n",
    "from time import time\n",
    "from typing import Union\n",
    "from torch import nn, optim\n",
    "from torch.utils.data import Dataset\n",
    "from torch.utils.data import DataLoader as DL\n",
    "from torchvision import transforms\n",
    "\n",
    "from sklearn.model_selection import StratifiedKFold"
   ]
  },
  {
   "cell_type": "markdown",
   "id": "baeab4ec",
   "metadata": {
    "papermill": {
     "duration": 0.003386,
     "end_time": "2023-01-29T13:32:06.312471",
     "exception": false,
     "start_time": "2023-01-29T13:32:06.309085",
     "status": "completed"
    },
    "tags": []
   },
   "source": [
    "### **Utilities and Helpers**"
   ]
  },
  {
   "cell_type": "code",
   "execution_count": 3,
   "id": "76740bff",
   "metadata": {
    "execution": {
     "iopub.execute_input": "2023-01-29T13:32:06.320906Z",
     "iopub.status.busy": "2023-01-29T13:32:06.320567Z",
     "iopub.status.idle": "2023-01-29T13:32:06.332849Z",
     "shell.execute_reply": "2023-01-29T13:32:06.331901Z"
    },
    "papermill": {
     "duration": 0.018934,
     "end_time": "2023-01-29T13:32:06.334956",
     "exception": false,
     "start_time": "2023-01-29T13:32:06.316022",
     "status": "completed"
    },
    "tags": []
   },
   "outputs": [],
   "source": [
    "SEED: int = 42\n",
    "    \n",
    "\n",
    "def breaker(num: int=50, char: str=\"*\") -> None: print(\"\\n\" + num*char + \"\\n\")\n",
    "\n",
    "    \n",
    "def get_image(path: str) -> np.ndarray:\n",
    "     return cv2.imread(path, cv2.IMREAD_COLOR)\n",
    "\n",
    "    \n",
    "def show_loss_graphs(L: list) -> None:\n",
    "    TL, VL = [], []\n",
    "    for i in range(len(L)):\n",
    "        TL.append(L[i][\"train\"])\n",
    "        VL.append(L[i][\"valid\"])\n",
    "    x_Axis = np.arange(1, len(TL) + 1)\n",
    "    plt.figure()\n",
    "    plt.plot(x_Axis, TL, \"r\", label=\"Train\")\n",
    "    plt.plot(x_Axis, VL, \"b\", label=\"Valid\")\n",
    "    plt.legend()\n",
    "    plt.grid()\n",
    "    plt.title(\"Loss Graph\")\n",
    "    plt.show()\n",
    "\n",
    "    \n",
    "def show_accuracy_graphs(A: list) -> None:\n",
    "    TA, VA = [], []\n",
    "    for i in range(len(A)):\n",
    "        TA.append(A[i][\"train\"])\n",
    "        VA.append(A[i][\"valid\"])\n",
    "    x_Axis = np.arange(1, len(TA) + 1)\n",
    "    plt.figure()\n",
    "    plt.plot(x_Axis, TA, \"r\", label=\"Train\")\n",
    "    plt.plot(x_Axis, VA, \"b\", label=\"Valid\")\n",
    "    plt.legend()\n",
    "    plt.grid()\n",
    "    plt.title(\"Accuracy Graph\")\n",
    "    plt.show()\n",
    "    \n",
    "\n",
    "def show_lr_graph(LR: list) -> None:\n",
    "    x_Axis = [i+1 for i in range(len(LR))]\n",
    "    plt.figure(figsize=(8, 6))\n",
    "    plt.plot(x_Axis, LR, \"rx\")\n",
    "    plt.grid()\n",
    "    plt.show()"
   ]
  },
  {
   "cell_type": "markdown",
   "id": "610c04ea",
   "metadata": {
    "papermill": {
     "duration": 0.003555,
     "end_time": "2023-01-29T13:32:06.342106",
     "exception": false,
     "start_time": "2023-01-29T13:32:06.338551",
     "status": "completed"
    },
    "tags": []
   },
   "source": [
    "\n",
    "\n",
    "### **Configuration**"
   ]
  },
  {
   "cell_type": "code",
   "execution_count": 4,
   "id": "eb7476ae",
   "metadata": {
    "execution": {
     "iopub.execute_input": "2023-01-29T13:32:06.350478Z",
     "iopub.status.busy": "2023-01-29T13:32:06.350203Z",
     "iopub.status.idle": "2023-01-29T13:32:06.412959Z",
     "shell.execute_reply": "2023-01-29T13:32:06.411975Z"
    },
    "papermill": {
     "duration": 0.069297,
     "end_time": "2023-01-29T13:32:06.414950",
     "exception": false,
     "start_time": "2023-01-29T13:32:06.345653",
     "status": "completed"
    },
    "tags": []
   },
   "outputs": [],
   "source": [
    "class CFG(object):\n",
    "    def __init__(self, \n",
    "                 seed: int = 42,\n",
    "                 n_splits: int = 5,\n",
    "                 batch_size: int = 16,\n",
    "                 epochs: int = 25,\n",
    "                 early_stopping: int = 5,\n",
    "                 lr: float = 1e-4,\n",
    "                 wd: float = 0.0,\n",
    "                 max_lr: float = 1e-3,\n",
    "                 pct_start: float = 0.2,\n",
    "                 steps_per_epoch: int = 100,\n",
    "                 div_factor: int = 1e3, \n",
    "                 final_div_factor: float = 1e3,\n",
    "                 ):\n",
    "        self.seed = seed\n",
    "        self.n_splits = n_splits\n",
    "        self.batch_size = batch_size\n",
    "        self.epochs = epochs\n",
    "        self.early_stopping = early_stopping\n",
    "        self.lr = lr\n",
    "        self.wd = wd\n",
    "        self.max_lr = max_lr\n",
    "        self.pct_start = pct_start\n",
    "        self.steps_per_epoch = steps_per_epoch\n",
    "        self.div_factor = div_factor\n",
    "        self.final_div_factor = final_div_factor\n",
    "        self.device = torch.device(\"cuda\" if torch.cuda.is_available() else \"cpu\")\n",
    "        \n",
    "        self.train_transform = transforms.Compose([\n",
    "            transforms.ToTensor(),\n",
    "            transforms.Normalize([0.35835, 0.35835, 0.35835], [0.20144, 0.20144, 0.20144]),\n",
    "            transforms.RandomAffine(degrees=(-45, 45), translate=(0.15, 0.15), scale=(0.5, 1.5)),\n",
    "            transforms.RandomHorizontalFlip(p=0.25),\n",
    "            transforms.RandomVerticalFlip(p=0.25),\n",
    "        ])\n",
    "        self.valid_transform = transforms.Compose([\n",
    "            transforms.ToTensor(),\n",
    "            transforms.Normalize([0.35835, 0.35835, 0.35835], [0.20144, 0.20144, 0.20144]),\n",
    "        ])\n",
    "                                \n",
    "        self.save_path = \"saves\"\n",
    "        if not os.path.exists(self.save_path): os.makedirs(self.save_path)\n",
    "    \n",
    "cfg = CFG(\n",
    "    seed=SEED, \n",
    ")"
   ]
  },
  {
   "cell_type": "markdown",
   "id": "bfd7c16b",
   "metadata": {
    "papermill": {
     "duration": 0.003594,
     "end_time": "2023-01-29T13:32:06.422434",
     "exception": false,
     "start_time": "2023-01-29T13:32:06.418840",
     "status": "completed"
    },
    "tags": []
   },
   "source": [
    "### **Dataset Template**"
   ]
  },
  {
   "cell_type": "code",
   "execution_count": 5,
   "id": "f98b81d6",
   "metadata": {
    "execution": {
     "iopub.execute_input": "2023-01-29T13:32:06.431392Z",
     "iopub.status.busy": "2023-01-29T13:32:06.431095Z",
     "iopub.status.idle": "2023-01-29T13:32:06.437733Z",
     "shell.execute_reply": "2023-01-29T13:32:06.436696Z"
    },
    "papermill": {
     "duration": 0.013385,
     "end_time": "2023-01-29T13:32:06.439905",
     "exception": false,
     "start_time": "2023-01-29T13:32:06.426520",
     "status": "completed"
    },
    "tags": []
   },
   "outputs": [],
   "source": [
    "class DS(Dataset):\n",
    "    def __init__(\n",
    "        self, \n",
    "        filepaths: np.ndarray, \n",
    "        labels: Union[np.ndarray, None]=None, \n",
    "        transform=None\n",
    "    ):\n",
    "        \n",
    "        self.filepaths = filepaths\n",
    "        self.labels = labels\n",
    "        self.transform = transform\n",
    "    \n",
    "    def __len__(self):\n",
    "        return self.filepaths.shape[0]\n",
    "    \n",
    "    def __getitem__(self, idx):\n",
    "        image = get_image(self.filepaths[idx])\n",
    "        if self.labels is None:\n",
    "            return self.transform(image)\n",
    "        return self.transform(image), torch.LongTensor(self.labels[idx])"
   ]
  },
  {
   "cell_type": "markdown",
   "id": "636bcc50",
   "metadata": {
    "papermill": {
     "duration": 0.003525,
     "end_time": "2023-01-29T13:32:06.447089",
     "exception": false,
     "start_time": "2023-01-29T13:32:06.443564",
     "status": "completed"
    },
    "tags": []
   },
   "source": [
    "### **Model**"
   ]
  },
  {
   "cell_type": "code",
   "execution_count": 6,
   "id": "ba8d3501",
   "metadata": {
    "execution": {
     "iopub.execute_input": "2023-01-29T13:32:06.455859Z",
     "iopub.status.busy": "2023-01-29T13:32:06.455563Z",
     "iopub.status.idle": "2023-01-29T13:32:06.461172Z",
     "shell.execute_reply": "2023-01-29T13:32:06.460187Z"
    },
    "papermill": {
     "duration": 0.012353,
     "end_time": "2023-01-29T13:32:06.463082",
     "exception": false,
     "start_time": "2023-01-29T13:32:06.450729",
     "status": "completed"
    },
    "tags": []
   },
   "outputs": [],
   "source": [
    "class Model(nn.Module):\n",
    "    def __init__(self):\n",
    "        super(Model, self).__init__()\n",
    "            \n",
    "        self.model = timm.create_model(model_name=\"efficientnet_b4\", pretrained=True)\n",
    "        self.model.classifier = nn.Linear(in_features=self.model.classifier.in_features, out_features=6)\n",
    "\n",
    "    def forward(self, x):\n",
    "        return nn.LogSoftmax(dim=1)(self.model(x))"
   ]
  },
  {
   "cell_type": "markdown",
   "id": "3c700e09",
   "metadata": {
    "papermill": {
     "duration": 0.003536,
     "end_time": "2023-01-29T13:32:06.470355",
     "exception": false,
     "start_time": "2023-01-29T13:32:06.466819",
     "status": "completed"
    },
    "tags": []
   },
   "source": [
    "### **Fit and Predict**"
   ]
  },
  {
   "cell_type": "code",
   "execution_count": 7,
   "id": "f9738f23",
   "metadata": {
    "execution": {
     "iopub.execute_input": "2023-01-29T13:32:06.479189Z",
     "iopub.status.busy": "2023-01-29T13:32:06.478932Z",
     "iopub.status.idle": "2023-01-29T13:32:06.499398Z",
     "shell.execute_reply": "2023-01-29T13:32:06.498513Z"
    },
    "papermill": {
     "duration": 0.027264,
     "end_time": "2023-01-29T13:32:06.501300",
     "exception": false,
     "start_time": "2023-01-29T13:32:06.474036",
     "status": "completed"
    },
    "tags": []
   },
   "outputs": [],
   "source": [
    "def fit(\n",
    "    model=None,\n",
    "    optimizer=None, \n",
    "    scheduler_rlrop=None,\n",
    "    scheduler_oclr=None,\n",
    "    epochs=None, \n",
    "    early_stopping_patience=None, \n",
    "    dataloaders=None, \n",
    "    fold=None, \n",
    "    save_path=None,\n",
    "    device=None,\n",
    "    verbose=False\n",
    ") -> tuple:\n",
    "    \n",
    "    def get_accuracy(y_pred, y_true):\n",
    "        y_pred = torch.argmax(y_pred, dim=1)\n",
    "        return torch.count_nonzero(y_pred == y_true).item() / len(y_pred)\n",
    "    \n",
    "    \n",
    "    if verbose:\n",
    "        breaker()\n",
    "        if fold: print(f\"Training Fold {fold}...\")\n",
    "        else: print(\"Training ...\")\n",
    "        breaker()\n",
    "        \n",
    "    bestLoss: dict = {\"train\" : np.inf, \"valid\" : np.inf} \n",
    "    bestAccs: dict = {\"train\" : 0.0, \"valid\" : 0.0}\n",
    "    \n",
    "    Losses: list = []\n",
    "    Accuracies: list = [] \n",
    "    LRs: list = []\n",
    "        \n",
    "    if fold: \n",
    "        ble_name = f\"ble_state_fold_{fold}.pt\"\n",
    "        bae_name = f\"bae_state_fold_{fold}.pt\"\n",
    "    else: \n",
    "        ble_name = f\"ble_state.pt\"\n",
    "        bae_name = f\"bae_state.pt\"\n",
    "        \n",
    "    start_time = time()\n",
    "    for e in range(epochs):\n",
    "        e_st = time()\n",
    "        epochLoss: dict = {\"train\" : 0.0, \"valid\" : 0.0} \n",
    "        epochAccs: dict = {\"train\" : 0.0, \"valid\" : 0.0}\n",
    "\n",
    "        for phase in [\"train\", \"valid\"]:\n",
    "            if phase == \"train\":\n",
    "                model.train()\n",
    "            else:\n",
    "                model.eval()\n",
    "            \n",
    "            lossPerPass: list = []\n",
    "            accsPerPass: list = []\n",
    "                \n",
    "            for X, y in dataloaders[phase]:\n",
    "                X, y = X.to(device), y.to(device).view(-1)\n",
    "\n",
    "                optimizer.zero_grad()\n",
    "                with torch.set_grad_enabled(phase == \"train\"):\n",
    "                    output = model(X)\n",
    "                    loss = nn.NLLLoss()(output, y)\n",
    "                    if phase == \"train\":\n",
    "                        loss.backward()\n",
    "                        optimizer.step()\n",
    "                        if scheduler_oclr: scheduler_oclr.step()\n",
    "                lossPerPass.append(loss.item())\n",
    "                accsPerPass.append(get_accuracy(output, y))\n",
    "            epochLoss[phase] = np.mean(np.array(lossPerPass))\n",
    "            epochAccs[phase] = np.mean(np.array(accsPerPass))\n",
    "        if scheduler_oclr: LRs.append(scheduler_oclr.get_last_lr())\n",
    "        Losses.append(epochLoss)\n",
    "        Accuracies.append(epochAccs)\n",
    "        \n",
    "        if scheduler_oclr:\n",
    "            save_dict = {\"model_state_dict\"     : model.state_dict(),\n",
    "                         \"optim_state_dict\"     : optimizer.state_dict(),\n",
    "                         \"scheduler_state_dict\" : scheduler_oclr.state_dict()}\n",
    "        \n",
    "        elif scheduler_rlrop:\n",
    "            save_dict = {\"model_state_dict\"     : model.state_dict(),\n",
    "                         \"optim_state_dict\"     : optimizer.state_dict(),\n",
    "                         \"scheduler_state_dict\" : scheduler_rlrop.state_dict()}\n",
    "        \n",
    "        else:\n",
    "            save_dict = {\"model_state_dict\"     : model.state_dict(),\n",
    "                         \"optim_state_dict\"     : optimizer.state_dict()}\n",
    "        \n",
    "        if early_stopping_patience:\n",
    "            if epochLoss[\"valid\"] < bestLoss[\"valid\"]:\n",
    "                bestLoss = epochLoss\n",
    "                BLE = e + 1\n",
    "                torch.save(save_dict, os.path.join(save_path, ble_name))\n",
    "                torch.save(save_dict, os.path.join(save_path, bae_name))\n",
    "                early_stopping_step = 0\n",
    "            else:\n",
    "                early_stopping_step += 1\n",
    "                if early_stopping_step > early_stopping_patience:\n",
    "                    print(\"\\nEarly Stopping at Epoch {}\".format(e + 1))\n",
    "                    break\n",
    "        \n",
    "        if epochLoss[\"valid\"] < bestLoss[\"valid\"]:\n",
    "            bestLoss = epochLoss\n",
    "            BLE = e + 1\n",
    "            torch.save(save_dict,os.path.join(save_path, ble_name))\n",
    "        \n",
    "        if epochAccs[\"valid\"] > bestAccs[\"valid\"]:\n",
    "            bestAccs = epochAccs\n",
    "            BAE = e + 1\n",
    "            torch.save(save_dict,os.path.join(save_path, bae_name))\n",
    "        \n",
    "        if scheduler_rlrop: scheduler_rlrop.step(epochLoss[\"valid\"])\n",
    "        \n",
    "        if verbose:\n",
    "            print(\"Epoch: {} | Train Loss: {:.5f} | Valid Loss: {:.5f} |\\\n",
    " Train Accs: {:.5f} | Valid Accs: {:.5f} | Time: {:.2f} seconds\".format(e+1, \n",
    "                                                                        epochLoss[\"train\"], epochLoss[\"valid\"], \n",
    "                                                                        epochAccs[\"train\"], epochAccs[\"valid\"], \n",
    "                                                                        time()-e_st))\n",
    "\n",
    "    if verbose:                                           \n",
    "        breaker()\n",
    "        print(f\"Best Validation Loss at Epoch {BLE}\")\n",
    "        breaker()\n",
    "        print(f\"Best Validation Accs at Epoch {BAE}\")\n",
    "        breaker()\n",
    "        print(\"Time Taken [{} Epochs] : {:.2f} minutes\".format(len(Losses), (time()-start_time)/60))\n",
    "    \n",
    "    return Losses, Accuracies, LRs, bestLoss, bestAccs, BLE, BAE, ble_name, bae_name\n",
    "\n",
    "\n",
    "# def predict_batch(model=None, dataloader=None, path=None, device=None) -> np.ndarray:\n",
    "#     model.load_state_dict(torch.load(path, map_location=device)[\"model_state_dict\"])\n",
    "#     model.to(device)    \n",
    "#     model.eval()\n",
    "    \n",
    "#     y_pred = torch.zeros(1, 1).to(device)\n",
    "    \n",
    "#     for X in dataloader:\n",
    "#         X = X.to(device)\n",
    "#         with torch.no_grad():\n",
    "#             output = torch.argmax(torch.exp(model(X)), dim=1)\n",
    "#         y_pred = torch.cat((y_pred, output.view(-1, 1)), dim=0)\n",
    "    \n",
    "#     return y_pred[1:].detach().cpu().numpy()"
   ]
  },
  {
   "cell_type": "markdown",
   "id": "1e60d4ba",
   "metadata": {
    "papermill": {
     "duration": 0.004442,
     "end_time": "2023-01-29T13:32:06.509579",
     "exception": false,
     "start_time": "2023-01-29T13:32:06.505137",
     "status": "completed"
    },
    "tags": []
   },
   "source": [
    "### **Train**"
   ]
  },
  {
   "cell_type": "code",
   "execution_count": 8,
   "id": "23b84857",
   "metadata": {
    "execution": {
     "iopub.execute_input": "2023-01-29T13:32:06.518983Z",
     "iopub.status.busy": "2023-01-29T13:32:06.518178Z",
     "iopub.status.idle": "2023-01-29T13:32:06.611252Z",
     "shell.execute_reply": "2023-01-29T13:32:06.610236Z"
    },
    "papermill": {
     "duration": 0.100329,
     "end_time": "2023-01-29T13:32:06.613845",
     "exception": false,
     "start_time": "2023-01-29T13:32:06.513516",
     "status": "completed"
    },
    "tags": []
   },
   "outputs": [],
   "source": [
    "df = pd.read_csv(\"/kaggle/input/mmnist-dataframe/dataframe.csv\")\n",
    "\n",
    "filepaths = df.filepaths.copy().values\n",
    "labels = df.labels.copy().values"
   ]
  },
  {
   "cell_type": "code",
   "execution_count": 9,
   "id": "272b6406",
   "metadata": {
    "execution": {
     "iopub.execute_input": "2023-01-29T13:32:06.623295Z",
     "iopub.status.busy": "2023-01-29T13:32:06.622991Z",
     "iopub.status.idle": "2023-01-29T16:22:44.260070Z",
     "shell.execute_reply": "2023-01-29T16:22:44.258804Z"
    },
    "papermill": {
     "duration": 10237.644503,
     "end_time": "2023-01-29T16:22:44.262452",
     "exception": false,
     "start_time": "2023-01-29T13:32:06.617949",
     "status": "completed"
    },
    "tags": []
   },
   "outputs": [
    {
     "name": "stderr",
     "output_type": "stream",
     "text": [
      "Downloading: \"https://github.com/rwightman/pytorch-image-models/releases/download/v0.1-weights/efficientnet_b4_ra2_320-7eb33cd5.pth\" to /root/.cache/torch/hub/checkpoints/efficientnet_b4_ra2_320-7eb33cd5.pth\n"
     ]
    },
    {
     "name": "stdout",
     "output_type": "stream",
     "text": [
      "\n",
      "**************************************************\n",
      "\n",
      "Training Fold 1...\n",
      "\n",
      "**************************************************\n",
      "\n",
      "Epoch: 1 | Train Loss: 0.74426 | Valid Loss: 0.27575 | Train Accs: 0.74635 | Valid Accs: 0.98851 | Time: 335.36 seconds\n",
      "Epoch: 2 | Train Loss: 0.03360 | Valid Loss: 0.02002 | Train Accs: 0.98923 | Valid Accs: 0.99316 | Time: 210.39 seconds\n",
      "Epoch: 3 | Train Loss: 0.01537 | Valid Loss: 0.00137 | Train Accs: 0.99498 | Valid Accs: 0.99966 | Time: 210.22 seconds\n",
      "Epoch: 4 | Train Loss: 0.00859 | Valid Loss: 0.00136 | Train Accs: 0.99731 | Valid Accs: 0.99992 | Time: 210.85 seconds\n",
      "Epoch: 5 | Train Loss: 0.00508 | Valid Loss: 0.00091 | Train Accs: 0.99856 | Valid Accs: 0.99966 | Time: 210.04 seconds\n",
      "Epoch: 6 | Train Loss: 0.00354 | Valid Loss: 0.01222 | Train Accs: 0.99900 | Valid Accs: 0.99620 | Time: 207.10 seconds\n",
      "Epoch: 7 | Train Loss: 0.00226 | Valid Loss: 0.00118 | Train Accs: 0.99939 | Valid Accs: 0.99983 | Time: 206.08 seconds\n",
      "Epoch: 8 | Train Loss: 0.00204 | Valid Loss: 0.00062 | Train Accs: 0.99928 | Valid Accs: 0.99966 | Time: 207.56 seconds\n",
      "Epoch: 9 | Train Loss: 0.00140 | Valid Loss: 0.00040 | Train Accs: 0.99953 | Valid Accs: 0.99983 | Time: 209.24 seconds\n",
      "Epoch: 10 | Train Loss: 0.00062 | Valid Loss: 0.00038 | Train Accs: 0.99975 | Valid Accs: 0.99992 | Time: 206.32 seconds\n",
      "\n",
      "**************************************************\n",
      "\n",
      "Best Validation Loss at Epoch 10\n",
      "\n",
      "**************************************************\n",
      "\n",
      "Best Validation Accs at Epoch 4\n",
      "\n",
      "**************************************************\n",
      "\n",
      "Time Taken [10 Epochs] : 36.89 minutes\n",
      "\n",
      "**************************************************\n",
      "\n"
     ]
    },
    {
     "data": {
      "image/png": "[encoded data removed]",
      "text/plain": [
       "<Figure size 432x288 with 1 Axes>"
      ]
     },
     "metadata": {
      "needs_background": "light"
     },
     "output_type": "display_data"
    },
    {
     "name": "stdout",
     "output_type": "stream",
     "text": [
      "\n",
      "**************************************************\n",
      "\n"
     ]
    },
    {
     "data": {
      "image/png": "[encoded data removed]",
      "text/plain": [
       "<Figure size 432x288 with 1 Axes>"
      ]
     },
     "metadata": {
      "needs_background": "light"
     },
     "output_type": "display_data"
    },
    {
     "name": "stdout",
     "output_type": "stream",
     "text": [
      "\n",
      "**************************************************\n",
      "\n"
     ]
    },
    {
     "data": {
      "image/png": "[encoded data removed]",
      "text/plain": [
       "<Figure size 576x432 with 1 Axes>"
      ]
     },
     "metadata": {
      "needs_background": "light"
     },
     "output_type": "display_data"
    },
    {
     "name": "stdout",
     "output_type": "stream",
     "text": [
      "\n",
      "**************************************************\n",
      "\n",
      "\n",
      "**************************************************\n",
      "\n",
      "Training Fold 2...\n",
      "\n",
      "**************************************************\n",
      "\n",
      "Epoch: 1 | Train Loss: 0.74952 | Valid Loss: 2.24976 | Train Accs: 0.74419 | Valid Accs: 0.98201 | Time: 226.67 seconds\n",
      "Epoch: 2 | Train Loss: 0.02859 | Valid Loss: 0.00214 | Train Accs: 0.99063 | Valid Accs: 0.99949 | Time: 212.88 seconds\n",
      "Epoch: 3 | Train Loss: 0.01304 | Valid Loss: 0.04420 | Train Accs: 0.99625 | Valid Accs: 0.98970 | Time: 207.64 seconds\n",
      "Epoch: 4 | Train Loss: 0.00653 | Valid Loss: 0.49758 | Train Accs: 0.99818 | Valid Accs: 0.99274 | Time: 205.72 seconds\n",
      "Epoch: 5 | Train Loss: 0.00529 | Valid Loss: 0.26954 | Train Accs: 0.99864 | Valid Accs: 0.99544 | Time: 203.74 seconds\n",
      "Epoch: 6 | Train Loss: 0.00324 | Valid Loss: 0.00152 | Train Accs: 0.99909 | Valid Accs: 0.99941 | Time: 208.06 seconds\n",
      "Epoch: 7 | Train Loss: 0.00145 | Valid Loss: 0.00008 | Train Accs: 0.99960 | Valid Accs: 1.00000 | Time: 204.24 seconds\n",
      "Epoch: 8 | Train Loss: 0.00102 | Valid Loss: 0.00007 | Train Accs: 0.99968 | Valid Accs: 1.00000 | Time: 201.92 seconds\n",
      "Epoch: 9 | Train Loss: 0.00093 | Valid Loss: 0.00043 | Train Accs: 0.99972 | Valid Accs: 0.99983 | Time: 200.90 seconds\n",
      "Epoch: 10 | Train Loss: 0.00052 | Valid Loss: 0.00030 | Train Accs: 0.99981 | Valid Accs: 0.99992 | Time: 201.82 seconds\n",
      "\n",
      "**************************************************\n",
      "\n",
      "Best Validation Loss at Epoch 8\n",
      "\n",
      "**************************************************\n",
      "\n",
      "Best Validation Accs at Epoch 7\n",
      "\n",
      "**************************************************\n",
      "\n",
      "Time Taken [10 Epochs] : 34.56 minutes\n",
      "\n",
      "**************************************************\n",
      "\n"
     ]
    },
    {
     "data": {
      "image/png": "[encoded data removed]",
      "text/plain": [
       "<Figure size 432x288 with 1 Axes>"
      ]
     },
     "metadata": {
      "needs_background": "light"
     },
     "output_type": "display_data"
    },
    {
     "name": "stdout",
     "output_type": "stream",
     "text": [
      "\n",
      "**************************************************\n",
      "\n"
     ]
    },
    {
     "data": {
      "image/png": "[encoded data removed]",
      "text/plain": [
       "<Figure size 432x288 with 1 Axes>"
      ]
     },
     "metadata": {
      "needs_background": "light"
     },
     "output_type": "display_data"
    },
    {
     "name": "stdout",
     "output_type": "stream",
     "text": [
      "\n",
      "**************************************************\n",
      "\n"
     ]
    },
    {
     "data": {
      "image/png": "[encoded data removed]",
      "text/plain": [
       "<Figure size 576x432 with 1 Axes>"
      ]
     },
     "metadata": {
      "needs_background": "light"
     },
     "output_type": "display_data"
    },
    {
     "name": "stdout",
     "output_type": "stream",
     "text": [
      "\n",
      "**************************************************\n",
      "\n",
      "\n",
      "**************************************************\n",
      "\n",
      "Training Fold 3...\n",
      "\n",
      "**************************************************\n",
      "\n",
      "Epoch: 1 | Train Loss: 0.73560 | Valid Loss: 0.04346 | Train Accs: 0.74794 | Valid Accs: 0.99113 | Time: 212.11 seconds\n",
      "Epoch: 2 | Train Loss: 0.03063 | Valid Loss: 0.03579 | Train Accs: 0.99046 | Valid Accs: 0.99519 | Time: 207.47 seconds\n",
      "Epoch: 3 | Train Loss: 0.01342 | Valid Loss: 0.03786 | Train Accs: 0.99580 | Valid Accs: 0.99704 | Time: 207.77 seconds\n",
      "Epoch: 4 | Train Loss: 0.00814 | Valid Loss: 0.00311 | Train Accs: 0.99765 | Valid Accs: 0.99916 | Time: 208.30 seconds\n",
      "Epoch: 5 | Train Loss: 0.00409 | Valid Loss: 0.00082 | Train Accs: 0.99881 | Valid Accs: 0.99966 | Time: 206.54 seconds\n",
      "Epoch: 6 | Train Loss: 0.00369 | Valid Loss: 0.06942 | Train Accs: 0.99890 | Valid Accs: 0.98142 | Time: 203.77 seconds\n",
      "Epoch: 7 | Train Loss: 0.00291 | Valid Loss: 0.06427 | Train Accs: 0.99924 | Valid Accs: 0.98015 | Time: 205.28 seconds\n",
      "Epoch: 8 | Train Loss: 0.00088 | Valid Loss: 0.00440 | Train Accs: 0.99970 | Valid Accs: 0.99916 | Time: 215.77 seconds\n",
      "Epoch: 9 | Train Loss: 0.00091 | Valid Loss: 0.01769 | Train Accs: 0.99975 | Valid Accs: 0.99502 | Time: 205.39 seconds\n",
      "Epoch: 10 | Train Loss: 0.00106 | Valid Loss: 0.00105 | Train Accs: 0.99968 | Valid Accs: 0.99966 | Time: 205.91 seconds\n",
      "\n",
      "**************************************************\n",
      "\n",
      "Best Validation Loss at Epoch 5\n",
      "\n",
      "**************************************************\n",
      "\n",
      "Best Validation Accs at Epoch 5\n",
      "\n",
      "**************************************************\n",
      "\n",
      "Time Taken [10 Epochs] : 34.64 minutes\n",
      "\n",
      "**************************************************\n",
      "\n"
     ]
    },
    {
     "data": {
      "image/png": "[encoded data removed]",
      "text/plain": [
       "<Figure size 432x288 with 1 Axes>"
      ]
     },
     "metadata": {
      "needs_background": "light"
     },
     "output_type": "display_data"
    },
    {
     "name": "stdout",
     "output_type": "stream",
     "text": [
      "\n",
      "**************************************************\n",
      "\n"
     ]
    },
    {
     "data": {
      "image/png": "[encoded data removed]",
      "text/plain": [
       "<Figure size 432x288 with 1 Axes>"
      ]
     },
     "metadata": {
      "needs_background": "light"
     },
     "output_type": "display_data"
    },
    {
     "name": "stdout",
     "output_type": "stream",
     "text": [
      "\n",
      "**************************************************\n",
      "\n"
     ]
    },
    {
     "data": {
      "image/png": "[encoded data removed]",
      "text/plain": [
       "<Figure size 576x432 with 1 Axes>"
      ]
     },
     "metadata": {
      "needs_background": "light"
     },
     "output_type": "display_data"
    },
    {
     "name": "stdout",
     "output_type": "stream",
     "text": [
      "\n",
      "**************************************************\n",
      "\n",
      "\n",
      "**************************************************\n",
      "\n",
      "Training Fold 4...\n",
      "\n",
      "**************************************************\n",
      "\n",
      "Epoch: 1 | Train Loss: 0.74436 | Valid Loss: 0.51459 | Train Accs: 0.74582 | Valid Accs: 0.98666 | Time: 202.32 seconds\n",
      "Epoch: 2 | Train Loss: 0.03170 | Valid Loss: 0.11712 | Train Accs: 0.99006 | Valid Accs: 0.99603 | Time: 202.94 seconds\n",
      "Epoch: 3 | Train Loss: 0.01392 | Valid Loss: 0.01816 | Train Accs: 0.99555 | Valid Accs: 0.99789 | Time: 207.78 seconds\n",
      "Epoch: 4 | Train Loss: 0.00891 | Valid Loss: 0.00206 | Train Accs: 0.99739 | Valid Accs: 0.99924 | Time: 212.35 seconds\n",
      "Epoch: 5 | Train Loss: 0.00430 | Valid Loss: 0.01210 | Train Accs: 0.99860 | Valid Accs: 0.99696 | Time: 203.98 seconds\n",
      "Epoch: 6 | Train Loss: 0.00284 | Valid Loss: 0.01250 | Train Accs: 0.99917 | Valid Accs: 0.99654 | Time: 200.37 seconds\n",
      "Epoch: 7 | Train Loss: 0.00221 | Valid Loss: 0.01273 | Train Accs: 0.99939 | Valid Accs: 0.99535 | Time: 201.03 seconds\n",
      "Epoch: 8 | Train Loss: 0.00202 | Valid Loss: 0.05695 | Train Accs: 0.99936 | Valid Accs: 0.98176 | Time: 199.78 seconds\n",
      "Epoch: 9 | Train Loss: 0.00137 | Valid Loss: 0.02657 | Train Accs: 0.99953 | Valid Accs: 0.99206 | Time: 210.36 seconds\n",
      "\n",
      "Early Stopping at Epoch 10\n",
      "\n",
      "**************************************************\n",
      "\n",
      "Best Validation Loss at Epoch 4\n",
      "\n",
      "**************************************************\n",
      "\n",
      "Best Validation Accs at Epoch 4\n",
      "\n",
      "**************************************************\n",
      "\n",
      "Time Taken [10 Epochs] : 34.08 minutes\n",
      "\n",
      "**************************************************\n",
      "\n"
     ]
    },
    {
     "data": {
      "image/png": "[encoded data removed]",
      "text/plain": [
       "<Figure size 432x288 with 1 Axes>"
      ]
     },
     "metadata": {
      "needs_background": "light"
     },
     "output_type": "display_data"
    },
    {
     "name": "stdout",
     "output_type": "stream",
     "text": [
      "\n",
      "**************************************************\n",
      "\n"
     ]
    },
    {
     "data": {
      "image/png": "[encoded data removed]",
      "text/plain": [
       "<Figure size 432x288 with 1 Axes>"
      ]
     },
     "metadata": {
      "needs_background": "light"
     },
     "output_type": "display_data"
    },
    {
     "name": "stdout",
     "output_type": "stream",
     "text": [
      "\n",
      "**************************************************\n",
      "\n"
     ]
    },
    {
     "data": {
      "image/png": "[encoded data removed]",
      "text/plain": [
       "<Figure size 576x432 with 1 Axes>"
      ]
     },
     "metadata": {
      "needs_background": "light"
     },
     "output_type": "display_data"
    },
    {
     "name": "stdout",
     "output_type": "stream",
     "text": [
      "\n",
      "**************************************************\n",
      "\n",
      "\n",
      "**************************************************\n",
      "\n",
      "Training Fold 5...\n",
      "\n",
      "**************************************************\n",
      "\n",
      "Epoch: 1 | Train Loss: 0.74317 | Valid Loss: 0.07840 | Train Accs: 0.74595 | Valid Accs: 0.98471 | Time: 202.14 seconds\n",
      "Epoch: 2 | Train Loss: 0.03166 | Valid Loss: 0.04803 | Train Accs: 0.98923 | Valid Accs: 0.99155 | Time: 202.19 seconds\n",
      "Epoch: 3 | Train Loss: 0.01298 | Valid Loss: 0.00178 | Train Accs: 0.99601 | Valid Accs: 0.99958 | Time: 200.72 seconds\n",
      "Epoch: 4 | Train Loss: 0.00668 | Valid Loss: 0.00780 | Train Accs: 0.99805 | Valid Accs: 0.99637 | Time: 202.43 seconds\n",
      "Epoch: 5 | Train Loss: 0.00355 | Valid Loss: 0.00666 | Train Accs: 0.99886 | Valid Accs: 0.99747 | Time: 200.16 seconds\n",
      "Epoch: 6 | Train Loss: 0.00317 | Valid Loss: 0.00822 | Train Accs: 0.99907 | Valid Accs: 0.99780 | Time: 199.26 seconds\n",
      "Epoch: 7 | Train Loss: 0.00275 | Valid Loss: 0.00336 | Train Accs: 0.99924 | Valid Accs: 0.99966 | Time: 200.02 seconds\n",
      "Epoch: 8 | Train Loss: 0.00110 | Valid Loss: 0.00741 | Train Accs: 0.99977 | Valid Accs: 0.99831 | Time: 198.94 seconds\n",
      "\n",
      "Early Stopping at Epoch 9\n",
      "\n",
      "**************************************************\n",
      "\n",
      "Best Validation Loss at Epoch 3\n",
      "\n",
      "**************************************************\n",
      "\n",
      "Best Validation Accs at Epoch 7\n",
      "\n",
      "**************************************************\n",
      "\n",
      "Time Taken [9 Epochs] : 30.10 minutes\n",
      "\n",
      "**************************************************\n",
      "\n"
     ]
    },
    {
     "data": {
      "image/png": "[encoded data removed]",
      "text/plain": [
       "<Figure size 432x288 with 1 Axes>"
      ]
     },
     "metadata": {
      "needs_background": "light"
     },
     "output_type": "display_data"
    },
    {
     "name": "stdout",
     "output_type": "stream",
     "text": [
      "\n",
      "**************************************************\n",
      "\n"
     ]
    },
    {
     "data": {
      "image/png": "[encoded data removed]",
      "text/plain": [
       "<Figure size 432x288 with 1 Axes>"
      ]
     },
     "metadata": {
      "needs_background": "light"
     },
     "output_type": "display_data"
    },
    {
     "name": "stdout",
     "output_type": "stream",
     "text": [
      "\n",
      "**************************************************\n",
      "\n"
     ]
    },
    {
     "data": {
      "image/png": "[encoded data removed]",
      "text/plain": [
       "<Figure size 576x432 with 1 Axes>"
      ]
     },
     "metadata": {
      "needs_background": "light"
     },
     "output_type": "display_data"
    },
    {
     "name": "stdout",
     "output_type": "stream",
     "text": [
      "\n",
      "**************************************************\n",
      "\n"
     ]
    }
   ],
   "source": [
    "fold: int = 1\n",
    "BLs: list = []\n",
    "BAs: list = []\n",
    "    \n",
    "cfg.batch_size = 64\n",
    "cfg.epochs = 10\n",
    "    \n",
    "for tr_idx, va_idx in StratifiedKFold(n_splits=cfg.n_splits, random_state=cfg.seed, shuffle=True).split(filepaths, labels):\n",
    "#     if fold == 1: break\n",
    "#     fold += 1\n",
    "\n",
    "    tr_filepaths, va_filepaths = filepaths[tr_idx], filepaths[va_idx] \n",
    "    tr_labels, va_labels       = labels[tr_idx], labels[va_idx]\n",
    "\n",
    "    tr_data_setup = DS(\n",
    "        filepaths=tr_filepaths, \n",
    "        labels=tr_labels.reshape(-1, 1),\n",
    "        transform=cfg.train_transform\n",
    "    )\n",
    "\n",
    "    va_data_setup = DS(\n",
    "        filepaths=va_filepaths, \n",
    "        labels=va_labels.reshape(-1, 1),\n",
    "        transform=cfg.valid_transform\n",
    "    )\n",
    "\n",
    "    dataloaders = {\n",
    "        \"train\" : DL(tr_data_setup, batch_size=cfg.batch_size, shuffle=True, generator=torch.manual_seed(cfg.seed)),\n",
    "        \"valid\" : DL(va_data_setup, batch_size=cfg.batch_size, shuffle=False),\n",
    "    }\n",
    "\n",
    "    cfg.steps_per_epoch=len(dataloaders[\"train\"])\n",
    "\n",
    "    torch.manual_seed(cfg.seed)\n",
    "    model = Model().to(cfg.device)\n",
    "\n",
    "    optimizer = optim.Adam([p for p in model.parameters() if p.requires_grad], lr=cfg.lr, weight_decay=cfg.wd)\n",
    "    # optimizer = optim.AdamW([p for p in model.parameters() if p.requires_grad], lr=cfg.lr, weight_decay=cfg.wd)\n",
    "    # optimizer = optim.SGD([p for p in model.parameters() if p.requires_grad], lr=cfg.lr, weight_decay=cfg.wd, momentum=0.9)\n",
    "\n",
    "    scheduler_oclr = optim.lr_scheduler.OneCycleLR(\n",
    "        optimizer=optimizer, \n",
    "        max_lr=cfg.max_lr, \n",
    "        epochs=cfg.epochs, \n",
    "        steps_per_epoch=cfg.steps_per_epoch,\n",
    "        pct_start=cfg.pct_start, \n",
    "        div_factor=cfg.div_factor, \n",
    "        final_div_factor=cfg.final_div_factor\n",
    "    )\n",
    "\n",
    "    # scheduler_rlrop = optim.lr_scheduler.ReduceLROnPlateau(\n",
    "    #     optimizer=optimizer,\n",
    "    #     patience=cfg.patience,\n",
    "    #     eps=cfg.eps,\n",
    "    #     verbose=True\n",
    "    # )\n",
    "\n",
    "    # scheduler_oclr = None\n",
    "    scheduler_rlrop = None\n",
    "\n",
    "\n",
    "    L, A, LR, BL, BA, _, _, _, _ = fit(\n",
    "        model=model, \n",
    "        optimizer=optimizer, \n",
    "        scheduler_oclr=scheduler_oclr,\n",
    "        scheduler_rlrop=scheduler_rlrop,\n",
    "        epochs=cfg.epochs, \n",
    "        early_stopping_patience=cfg.early_stopping, \n",
    "        dataloaders=dataloaders, \n",
    "        device=cfg.device,\n",
    "        save_path=cfg.save_path,\n",
    "        fold=fold,\n",
    "        verbose=True\n",
    "    )\n",
    "\n",
    "\n",
    "    breaker()\n",
    "    show_loss_graphs(L)\n",
    "    breaker()\n",
    "    show_accuracy_graphs(A)\n",
    "    breaker()\n",
    "    if scheduler_oclr:\n",
    "        show_lr_graph(LR)\n",
    "        breaker()\n",
    "\n",
    "    BLs.append(BL)\n",
    "    BAs.append(BA)\n",
    "\n",
    "    fold += 1"
   ]
  },
  {
   "cell_type": "markdown",
   "id": "760d1166",
   "metadata": {
    "papermill": {
     "duration": 0.011615,
     "end_time": "2023-01-29T16:22:44.286589",
     "exception": false,
     "start_time": "2023-01-29T16:22:44.274974",
     "status": "completed"
    },
    "tags": []
   },
   "source": [
    "### **Best Model**"
   ]
  },
  {
   "cell_type": "code",
   "execution_count": 10,
   "id": "5f860bf4",
   "metadata": {
    "execution": {
     "iopub.execute_input": "2023-01-29T16:22:44.310669Z",
     "iopub.status.busy": "2023-01-29T16:22:44.310300Z",
     "iopub.status.idle": "2023-01-29T16:22:44.317654Z",
     "shell.execute_reply": "2023-01-29T16:22:44.316612Z"
    },
    "papermill": {
     "duration": 0.021557,
     "end_time": "2023-01-29T16:22:44.319780",
     "exception": false,
     "start_time": "2023-01-29T16:22:44.298223",
     "status": "completed"
    },
    "tags": []
   },
   "outputs": [
    {
     "name": "stdout",
     "output_type": "stream",
     "text": [
      "\n",
      "**************************************************\n",
      "\n",
      "Best Loss Model Fold     : 2\n",
      "Best Accuracy Model Fold : 2\n",
      "\n",
      "**************************************************\n",
      "\n"
     ]
    }
   ],
   "source": [
    "BL = np.inf\n",
    "for i in range(len(BLs)):\n",
    "    if BLs[i][\"valid\"] < BL:\n",
    "        BL = BLs[i][\"valid\"]\n",
    "        best_loss_index = i\n",
    "\n",
    "        \n",
    "BA = 0.0\n",
    "for i in range(len(BAs)):\n",
    "    if BAs[i][\"valid\"] > BA:\n",
    "        BA = BAs[i][\"valid\"]\n",
    "        best_accs_index = i\n",
    "\n",
    "breaker()\n",
    "print(f\"Best Loss Model Fold     : {best_loss_index + 1}\")\n",
    "print(f\"Best Accuracy Model Fold : {best_accs_index + 1}\")\n",
    "breaker()"
   ]
  }
 ],
 "metadata": {
  "kernelspec": {
   "display_name": "Python 3",
   "language": "python",
   "name": "python3"
  },
  "language_info": {
   "codemirror_mode": {
    "name": "ipython",
    "version": 3
   },
   "file_extension": ".py",
   "mimetype": "text/x-python",
   "name": "python",
   "nbconvert_exporter": "python",
   "pygments_lexer": "ipython3",
   "version": "3.7.12"
  },
  "papermill": {
   "default_parameters": {},
   "duration": 10261.321508,
   "end_time": "2023-01-29T16:22:46.798112",
   "environment_variables": {},
   "exception": null,
   "input_path": "__notebook__.ipynb",
   "output_path": "__notebook__.ipynb",
   "parameters": {},
   "start_time": "2023-01-29T13:31:45.476604",
   "version": "2.3.4"
  }
 },
 "nbformat": 4,
 "nbformat_minor": 5
}
