{
 "cells": [
  {
   "cell_type": "code",
   "execution_count": 1,
   "id": "4d06d368",
   "metadata": {
    "_cell_guid": "b1076dfc-b9ad-4769-8c92-a6c4dae69d19",
    "_uuid": "8f2839f25d086af736a60e9eeb907d3b93b6e0e5",
    "execution": {
     "iopub.execute_input": "2022-09-29T11:52:52.786457Z",
     "iopub.status.busy": "2022-09-29T11:52:52.786041Z",
     "iopub.status.idle": "2022-09-29T11:52:53.711743Z",
     "shell.execute_reply": "2022-09-29T11:52:53.710721Z"
    },
    "papermill": {
     "duration": 0.933739,
     "end_time": "2022-09-29T11:52:53.714532",
     "exception": false,
     "start_time": "2022-09-29T11:52:52.780793",
     "status": "completed"
    },
    "tags": []
   },
   "outputs": [],
   "source": [
    "import os\n",
    "import re\n",
    "import pickle\n",
    "import numpy as np\n",
    "import pandas as pd\n",
    "import random as r\n",
    "import seaborn as sns\n",
    "import matplotlib.pyplot as plt\n",
    "\n",
    "from time import time\n",
    "from scipy import stats"
   ]
  },
  {
   "cell_type": "code",
   "execution_count": 2,
   "id": "9ca8b028",
   "metadata": {
    "execution": {
     "iopub.execute_input": "2022-09-29T11:52:53.721109Z",
     "iopub.status.busy": "2022-09-29T11:52:53.720764Z",
     "iopub.status.idle": "2022-09-29T11:52:53.725969Z",
     "shell.execute_reply": "2022-09-29T11:52:53.724819Z"
    },
    "papermill": {
     "duration": 0.010782,
     "end_time": "2022-09-29T11:52:53.728077",
     "exception": false,
     "start_time": "2022-09-29T11:52:53.717295",
     "status": "completed"
    },
    "tags": []
   },
   "outputs": [],
   "source": [
    "def breaker() -> None: print(\"\\n\" + 50*\"*\" + \"\\n\")\n",
    "    \n",
    "MODELS_PATH:str = \"../input/4ac-swinfs-ml-train/models\""
   ]
  },
  {
   "cell_type": "code",
   "execution_count": 3,
   "id": "6a511485",
   "metadata": {
    "execution": {
     "iopub.execute_input": "2022-09-29T11:52:53.734617Z",
     "iopub.status.busy": "2022-09-29T11:52:53.733870Z",
     "iopub.status.idle": "2022-09-29T11:52:54.584750Z",
     "shell.execute_reply": "2022-09-29T11:52:54.583890Z"
    },
    "papermill": {
     "duration": 0.856856,
     "end_time": "2022-09-29T11:52:54.587383",
     "exception": false,
     "start_time": "2022-09-29T11:52:53.730527",
     "status": "completed"
    },
    "tags": []
   },
   "outputs": [],
   "source": [
    "swin_B_model_paths = [os.path.join(MODELS_PATH, name) for name in os.listdir(MODELS_PATH) if re.match(r\"swin_base_patch4_window12_384_in22k\", name, re.IGNORECASE)]\n",
    "swin_L_model_paths = [os.path.join(MODELS_PATH, name) for name in os.listdir(MODELS_PATH) if re.match(r\"swin_large_patch4_window12_384_in22k\", name, re.IGNORECASE)]\n",
    "\n",
    "swin_B_features = np.load(\"../input/4actrsfsna384/swin_base_patch4_window12_384_in22k.npy\")[-729:]\n",
    "swin_L_features = np.load(\"../input/4actrsfsna384/swin_large_patch4_window12_384_in22k.npy\")[-729:]"
   ]
  },
  {
   "cell_type": "code",
   "execution_count": 4,
   "id": "415d3b35",
   "metadata": {
    "execution": {
     "iopub.execute_input": "2022-09-29T11:52:54.593827Z",
     "iopub.status.busy": "2022-09-29T11:52:54.593225Z",
     "iopub.status.idle": "2022-09-29T11:52:58.773615Z",
     "shell.execute_reply": "2022-09-29T11:52:58.772340Z"
    },
    "papermill": {
     "duration": 4.187632,
     "end_time": "2022-09-29T11:52:58.777500",
     "exception": false,
     "start_time": "2022-09-29T11:52:54.589868",
     "status": "completed"
    },
    "tags": []
   },
   "outputs": [],
   "source": [
    "y_pred_1 = np.zeros((1, swin_B_features.shape[0]), dtype=np.uint8)\n",
    "\n",
    "for swin_B_model_path in swin_B_model_paths:\n",
    "    with open(swin_B_model_path, \"rb\") as fp: model = pickle.load(fp)\n",
    "    temp = model.predict(swin_B_features)\n",
    "    y_pred_1 = np.concatenate((y_pred_1, temp.reshape(1, -1)), axis=0)\n",
    "\n",
    "y_pred_1 = y_pred_1[1:]"
   ]
  },
  {
   "cell_type": "code",
   "execution_count": 5,
   "id": "a8447ae0",
   "metadata": {
    "execution": {
     "iopub.execute_input": "2022-09-29T11:52:58.787839Z",
     "iopub.status.busy": "2022-09-29T11:52:58.787079Z",
     "iopub.status.idle": "2022-09-29T11:53:04.335004Z",
     "shell.execute_reply": "2022-09-29T11:53:04.333806Z"
    },
    "papermill": {
     "duration": 5.5571,
     "end_time": "2022-09-29T11:53:04.338384",
     "exception": false,
     "start_time": "2022-09-29T11:52:58.781284",
     "status": "completed"
    },
    "tags": []
   },
   "outputs": [],
   "source": [
    "y_pred_2 = np.zeros((1, swin_L_features.shape[0]), dtype=np.uint8)\n",
    "\n",
    "for swin_L_model_path in swin_L_model_paths:\n",
    "    with open(swin_L_model_path, \"rb\") as fp: model = pickle.load(fp)\n",
    "    temp = model.predict(swin_L_features)\n",
    "    y_pred_2 = np.concatenate((y_pred_2, temp.reshape(1, -1)), axis=0)\n",
    "\n",
    "y_pred_2 = y_pred_2[1:]"
   ]
  },
  {
   "cell_type": "code",
   "execution_count": 6,
   "id": "d41fbdc1",
   "metadata": {
    "execution": {
     "iopub.execute_input": "2022-09-29T11:53:04.352386Z",
     "iopub.status.busy": "2022-09-29T11:53:04.350968Z",
     "iopub.status.idle": "2022-09-29T11:53:04.407148Z",
     "shell.execute_reply": "2022-09-29T11:53:04.406304Z"
    },
    "papermill": {
     "duration": 0.06552,
     "end_time": "2022-09-29T11:53:04.409378",
     "exception": false,
     "start_time": "2022-09-29T11:53:04.343858",
     "status": "completed"
    },
    "tags": []
   },
   "outputs": [],
   "source": [
    "y_pred = np.concatenate((y_pred_1, y_pred_2), axis=0)\n",
    "y_pred = stats.mode(y_pred)[0]\n",
    "\n",
    "df = pd.read_csv(\"../input/4-animal-classification/Sample_submission.csv\")\n",
    "df[\"Label\"] = y_pred.reshape(-1)\n",
    "df.to_csv(\"submission.csv\", index=False)"
   ]
  }
 ],
 "metadata": {
  "kernelspec": {
   "display_name": "Python 3",
   "language": "python",
   "name": "python3"
  },
  "language_info": {
   "codemirror_mode": {
    "name": "ipython",
    "version": 3
   },
   "file_extension": ".py",
   "mimetype": "text/x-python",
   "name": "python",
   "nbconvert_exporter": "python",
   "pygments_lexer": "ipython3",
   "version": "3.7.12"
  },
  "papermill": {
   "default_parameters": {},
   "duration": 20.884794,
   "end_time": "2022-09-29T11:53:05.131178",
   "environment_variables": {},
   "exception": null,
   "input_path": "__notebook__.ipynb",
   "output_path": "__notebook__.ipynb",
   "parameters": {},
   "start_time": "2022-09-29T11:52:44.246384",
   "version": "2.3.4"
  }
 },
 "nbformat": 4,
 "nbformat_minor": 5
}
