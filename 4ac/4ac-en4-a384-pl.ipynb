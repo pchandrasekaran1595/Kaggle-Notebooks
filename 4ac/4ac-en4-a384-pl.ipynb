{
 "cells": [
  {
   "cell_type": "markdown",
   "id": "8a8d06dc",
   "metadata": {
    "_cell_guid": "b1076dfc-b9ad-4769-8c92-a6c4dae69d19",
    "_uuid": "8f2839f25d086af736a60e9eeb907d3b93b6e0e5",
    "papermill": {
     "duration": 0.006754,
     "end_time": "2022-09-28T10:45:44.983946",
     "exception": false,
     "start_time": "2022-09-28T10:45:44.977192",
     "status": "completed"
    },
    "tags": []
   },
   "source": [
    "### **Setup**"
   ]
  },
  {
   "cell_type": "code",
   "execution_count": 1,
   "id": "54fb2924",
   "metadata": {
    "execution": {
     "iopub.execute_input": "2022-09-28T10:45:44.997035Z",
     "iopub.status.busy": "2022-09-28T10:45:44.996043Z",
     "iopub.status.idle": "2022-09-28T10:45:58.974362Z",
     "shell.execute_reply": "2022-09-28T10:45:58.972599Z"
    },
    "papermill": {
     "duration": 13.988595,
     "end_time": "2022-09-28T10:45:58.977574",
     "exception": false,
     "start_time": "2022-09-28T10:45:44.988979",
     "status": "completed"
    },
    "tags": []
   },
   "outputs": [
    {
     "name": "stderr",
     "output_type": "stream",
     "text": [
      "WARNING: Running pip as the 'root' user can result in broken permissions and conflicting behaviour with the system package manager. It is recommended to use a virtual environment instead: https://pip.pypa.io/warnings/venv\n"
     ]
    }
   ],
   "source": [
    "%%bash\n",
    "pip install timm -q"
   ]
  },
  {
   "cell_type": "markdown",
   "id": "f230b9fb",
   "metadata": {
    "papermill": {
     "duration": 0.00502,
     "end_time": "2022-09-28T10:45:58.988424",
     "exception": false,
     "start_time": "2022-09-28T10:45:58.983404",
     "status": "completed"
    },
    "tags": []
   },
   "source": [
    "### **Library Imports**"
   ]
  },
  {
   "cell_type": "code",
   "execution_count": 2,
   "id": "63131fb2",
   "metadata": {
    "execution": {
     "iopub.execute_input": "2022-09-28T10:45:59.001272Z",
     "iopub.status.busy": "2022-09-28T10:45:59.000888Z",
     "iopub.status.idle": "2022-09-28T10:46:04.183130Z",
     "shell.execute_reply": "2022-09-28T10:46:04.181459Z"
    },
    "papermill": {
     "duration": 5.19262,
     "end_time": "2022-09-28T10:46:04.186366",
     "exception": false,
     "start_time": "2022-09-28T10:45:58.993746",
     "status": "completed"
    },
    "tags": []
   },
   "outputs": [],
   "source": [
    "import os\n",
    "import re\n",
    "import cv2\n",
    "import timm\n",
    "import torch\n",
    "import numpy as np\n",
    "import pandas as pd\n",
    "import matplotlib.pyplot as plt\n",
    "\n",
    "from time import time\n",
    "from torch import nn, optim\n",
    "from torch.utils.data import Dataset\n",
    "from torch.utils.data import DataLoader as DL\n",
    "from torchvision import models, transforms\n",
    "\n",
    "from sklearn.model_selection import StratifiedKFold"
   ]
  },
  {
   "cell_type": "markdown",
   "id": "cf5bb867",
   "metadata": {
    "papermill": {
     "duration": 0.006084,
     "end_time": "2022-09-28T10:46:04.200991",
     "exception": false,
     "start_time": "2022-09-28T10:46:04.194907",
     "status": "completed"
    },
    "tags": []
   },
   "source": [
    "### **Utilities and Helpers**"
   ]
  },
  {
   "cell_type": "code",
   "execution_count": 3,
   "id": "ccfb16be",
   "metadata": {
    "execution": {
     "iopub.execute_input": "2022-09-28T10:46:04.216425Z",
     "iopub.status.busy": "2022-09-28T10:46:04.214445Z",
     "iopub.status.idle": "2022-09-28T10:46:04.231094Z",
     "shell.execute_reply": "2022-09-28T10:46:04.229860Z"
    },
    "papermill": {
     "duration": 0.026909,
     "end_time": "2022-09-28T10:46:04.234108",
     "exception": false,
     "start_time": "2022-09-28T10:46:04.207199",
     "status": "completed"
    },
    "tags": []
   },
   "outputs": [],
   "source": [
    "SEED = 42\n",
    "SIZE = 384\n",
    "\n",
    "\n",
    "def breaker(num: int=50, char: str=\"*\") -> None:\n",
    "    print(\"\\n\" + num*char + \"\\n\")\n",
    "\n",
    "    \n",
    "def get_image(path: str, size: int=224) -> np.ndarray:\n",
    "    image = cv2.imread(path, cv2.IMREAD_COLOR)\n",
    "    image = cv2.cvtColor(src=image, code=cv2.COLOR_BGR2RGB)\n",
    "    return cv2.resize(src=image, dsize=(size, size), interpolation=cv2.INTER_AREA)\n",
    "\n",
    "\n",
    "def show_loss_graphs(L: list) -> None:\n",
    "    TL, VL = [], []\n",
    "    for i in range(len(L)):\n",
    "        TL.append(L[i][\"train\"])\n",
    "        VL.append(L[i][\"valid\"])\n",
    "    x_Axis = np.arange(1, len(TL) + 1)\n",
    "    plt.figure()\n",
    "    plt.plot(x_Axis, TL, \"r\", label=\"Train\")\n",
    "    plt.plot(x_Axis, VL, \"b\", label=\"Valid\")\n",
    "    plt.legend()\n",
    "    plt.grid()\n",
    "    plt.title(\"Loss Graph\")\n",
    "    plt.show()\n",
    "\n",
    "    \n",
    "def show_accuracy_graphs(A: list) -> None:\n",
    "    TA, VA = [], []\n",
    "    for i in range(len(A)):\n",
    "        TA.append(A[i][\"train\"])\n",
    "        VA.append(A[i][\"valid\"])\n",
    "    x_Axis = np.arange(1, len(TA) + 1)\n",
    "    plt.figure()\n",
    "    plt.plot(x_Axis, TA, \"r\", label=\"Train\")\n",
    "    plt.plot(x_Axis, VA, \"b\", label=\"Valid\")\n",
    "    plt.legend()\n",
    "    plt.grid()\n",
    "    plt.title(\"Accuracy Graph\")\n",
    "    plt.show()\n",
    "    \n",
    "\n",
    "def show_lr_graph(LR: list) -> None:\n",
    "    x_Axis = [i+1 for i in range(len(LR))]\n",
    "    plt.figure(figsize=(8, 6))\n",
    "    plt.plot(x_Axis, LR, \"rx\")\n",
    "    plt.grid()\n",
    "    plt.show()"
   ]
  },
  {
   "cell_type": "markdown",
   "id": "3bbf3126",
   "metadata": {
    "papermill": {
     "duration": 0.004697,
     "end_time": "2022-09-28T10:46:04.243668",
     "exception": false,
     "start_time": "2022-09-28T10:46:04.238971",
     "status": "completed"
    },
    "tags": []
   },
   "source": [
    "### **Configuration**"
   ]
  },
  {
   "cell_type": "code",
   "execution_count": 4,
   "id": "3844d4ce",
   "metadata": {
    "execution": {
     "iopub.execute_input": "2022-09-28T10:46:04.255409Z",
     "iopub.status.busy": "2022-09-28T10:46:04.254345Z",
     "iopub.status.idle": "2022-09-28T10:46:04.353861Z",
     "shell.execute_reply": "2022-09-28T10:46:04.352564Z"
    },
    "papermill": {
     "duration": 0.108249,
     "end_time": "2022-09-28T10:46:04.356680",
     "exception": false,
     "start_time": "2022-09-28T10:46:04.248431",
     "status": "completed"
    },
    "tags": []
   },
   "outputs": [],
   "source": [
    "class CFG(object):\n",
    "    def __init__(self, \n",
    "                 seed: int = 42,\n",
    "                 size: int = 224,\n",
    "                 n_splits: int = 5,\n",
    "                 batch_size: int = 16,\n",
    "                 epochs: int = 25,\n",
    "                 early_stopping: int = 5,\n",
    "                 lr: float = 1e-4,\n",
    "                 wd: float = 0.0,\n",
    "                 max_lr: float = 1e-3,\n",
    "                 pct_start: float = 0.2,\n",
    "                 steps_per_epoch: int = 100,\n",
    "                 div_factor: int = 1e3, \n",
    "                 final_div_factor: float = 1e3,\n",
    "                 ):\n",
    "        self.seed = seed\n",
    "        self.size = size\n",
    "        self.n_splits = n_splits\n",
    "        self.batch_size = batch_size\n",
    "        self.epochs = epochs\n",
    "        self.early_stopping = early_stopping\n",
    "        self.lr = lr\n",
    "        self.wd = wd\n",
    "        self.max_lr = max_lr\n",
    "        self.pct_start = pct_start\n",
    "        self.steps_per_epoch = steps_per_epoch\n",
    "        self.div_factor = div_factor\n",
    "        self.final_div_factor = final_div_factor\n",
    "        self.device = torch.device(\"cuda\" if torch.cuda.is_available() else \"cpu\")\n",
    "        self.train_transform = transforms.Compose([\n",
    "            transforms.ToTensor(),\n",
    "            transforms.Normalize([0.48805, 0.46218, 0.38043], [0.21471, 0.21141, 0.21124]),\n",
    "            transforms.RandomAffine(degrees=(-45, 45), translate=(0.15, 0.15), scale=(0.5, 1.5)),\n",
    "            transforms.RandomHorizontalFlip(p=0.25),\n",
    "            transforms.RandomVerticalFlip(p=0.25),\n",
    "        ])\n",
    "        self.valid_transform = transforms.Compose([\n",
    "            transforms.ToTensor(),\n",
    "            transforms.Normalize([0.48805, 0.46218, 0.38043], [0.21471, 0.21141, 0.21124]),\n",
    "        ])\n",
    "                                \n",
    "        self.save_path = \"saves\"\n",
    "        if not os.path.exists(self.save_path): os.makedirs(self.save_path)\n",
    "    \n",
    "cfg = CFG(seed=SEED, size=SIZE)"
   ]
  },
  {
   "cell_type": "markdown",
   "id": "23bc63f9",
   "metadata": {
    "papermill": {
     "duration": 0.004622,
     "end_time": "2022-09-28T10:46:04.366378",
     "exception": false,
     "start_time": "2022-09-28T10:46:04.361756",
     "status": "completed"
    },
    "tags": []
   },
   "source": [
    "### **Dataset Template**"
   ]
  },
  {
   "cell_type": "code",
   "execution_count": 5,
   "id": "31fcefae",
   "metadata": {
    "execution": {
     "iopub.execute_input": "2022-09-28T10:46:04.377416Z",
     "iopub.status.busy": "2022-09-28T10:46:04.377027Z",
     "iopub.status.idle": "2022-09-28T10:46:04.384013Z",
     "shell.execute_reply": "2022-09-28T10:46:04.382759Z"
    },
    "papermill": {
     "duration": 0.015533,
     "end_time": "2022-09-28T10:46:04.386549",
     "exception": false,
     "start_time": "2022-09-28T10:46:04.371016",
     "status": "completed"
    },
    "tags": []
   },
   "outputs": [],
   "source": [
    "class DS(Dataset):\n",
    "    def __init__(\n",
    "        self, \n",
    "        filepaths: np.ndarray, \n",
    "        labels: np.ndarray, \n",
    "        size: int,\n",
    "        transform=None\n",
    "    ):\n",
    "        \n",
    "        self.filepaths = filepaths\n",
    "        self.labels = labels\n",
    "        self.size = size\n",
    "        self.transform = transform\n",
    "    \n",
    "    def __len__(self):\n",
    "        return self.filepaths.shape[0]\n",
    "    \n",
    "    def __getitem__(self, idx):\n",
    "        image = get_image(self.filepaths[idx], self.size)\n",
    "        return self.transform(image), self.labels[idx]"
   ]
  },
  {
   "cell_type": "code",
   "execution_count": 6,
   "id": "30030a9c",
   "metadata": {
    "execution": {
     "iopub.execute_input": "2022-09-28T10:46:04.398404Z",
     "iopub.status.busy": "2022-09-28T10:46:04.397306Z",
     "iopub.status.idle": "2022-09-28T10:46:04.404032Z",
     "shell.execute_reply": "2022-09-28T10:46:04.402859Z"
    },
    "papermill": {
     "duration": 0.015169,
     "end_time": "2022-09-28T10:46:04.406795",
     "exception": false,
     "start_time": "2022-09-28T10:46:04.391626",
     "status": "completed"
    },
    "tags": []
   },
   "outputs": [],
   "source": [
    "# class DS(Dataset):\n",
    "#     def __init__(\n",
    "#         self, \n",
    "#         base_path: str,\n",
    "#         filenames: np.ndarray, \n",
    "#         size: int,\n",
    "#         transform=None\n",
    "#     ):\n",
    "        \n",
    "#         self.base_path = base_path\n",
    "#         self.filenames = filenames\n",
    "#         self.size = size\n",
    "#         self.transform = transform\n",
    "    \n",
    "#     def __len__(self):\n",
    "#         return self.filenames.shape[0]\n",
    "    \n",
    "#     def __getitem__(self, idx):\n",
    "#         path = os.path.join(self.base_path, str(self.filenames[idx]) + \".jpg\")\n",
    "#         image = get_image(path, self.size)\n",
    "#         return self.transform(image)"
   ]
  },
  {
   "cell_type": "markdown",
   "id": "cea31854",
   "metadata": {
    "papermill": {
     "duration": 0.004252,
     "end_time": "2022-09-28T10:46:04.415930",
     "exception": false,
     "start_time": "2022-09-28T10:46:04.411678",
     "status": "completed"
    },
    "tags": []
   },
   "source": [
    "### **Model**"
   ]
  },
  {
   "cell_type": "code",
   "execution_count": 7,
   "id": "b3b6c09b",
   "metadata": {
    "execution": {
     "iopub.execute_input": "2022-09-28T10:46:04.428095Z",
     "iopub.status.busy": "2022-09-28T10:46:04.426880Z",
     "iopub.status.idle": "2022-09-28T10:46:04.435564Z",
     "shell.execute_reply": "2022-09-28T10:46:04.434499Z"
    },
    "papermill": {
     "duration": 0.017535,
     "end_time": "2022-09-28T10:46:04.438283",
     "exception": false,
     "start_time": "2022-09-28T10:46:04.420748",
     "status": "completed"
    },
    "tags": []
   },
   "outputs": [],
   "source": [
    "class Model(nn.Module):\n",
    "    def __init__(self):\n",
    "        super(Model, self).__init__()\n",
    "            \n",
    "        self.model = timm.create_model(model_name=\"efficientnet_b4\", pretrained=True)\n",
    "        self.model.classifier = nn.Linear(in_features=self.model.classifier.in_features, out_features=4)\n",
    "            \n",
    "    def freeze(self):\n",
    "        for params in self.parameters(): params.requires_grad = False\n",
    "\n",
    "    def forward(self, x):\n",
    "        return nn.LogSoftmax(dim=1)(self.model(x))"
   ]
  },
  {
   "cell_type": "markdown",
   "id": "b387ef97",
   "metadata": {
    "papermill": {
     "duration": 0.004973,
     "end_time": "2022-09-28T10:46:04.448264",
     "exception": false,
     "start_time": "2022-09-28T10:46:04.443291",
     "status": "completed"
    },
    "tags": []
   },
   "source": [
    "### **Fit and Predict**"
   ]
  },
  {
   "cell_type": "code",
   "execution_count": 8,
   "id": "184dede5",
   "metadata": {
    "execution": {
     "iopub.execute_input": "2022-09-28T10:46:04.460655Z",
     "iopub.status.busy": "2022-09-28T10:46:04.460262Z",
     "iopub.status.idle": "2022-09-28T10:46:04.486655Z",
     "shell.execute_reply": "2022-09-28T10:46:04.485212Z"
    },
    "papermill": {
     "duration": 0.03639,
     "end_time": "2022-09-28T10:46:04.489738",
     "exception": false,
     "start_time": "2022-09-28T10:46:04.453348",
     "status": "completed"
    },
    "tags": []
   },
   "outputs": [],
   "source": [
    "def fit(model=None,\n",
    "        optimizer=None, \n",
    "        scheduler_rlrop=None,\n",
    "        scheduler_oclr=None,\n",
    "        epochs=None, \n",
    "        early_stopping_patience=None, \n",
    "        dataloaders=None, \n",
    "        fold=None, \n",
    "        save_path=None,\n",
    "        device=None,\n",
    "        verbose=False) -> tuple:\n",
    "    \n",
    "    def get_accuracy(y_pred, y_true):\n",
    "        y_pred = torch.argmax(y_pred, dim=1)\n",
    "        return torch.count_nonzero(y_pred == y_true).item() / len(y_pred)\n",
    "    \n",
    "    if verbose:\n",
    "        breaker()\n",
    "        if fold: print(f\"Training Fold {fold}...\")\n",
    "        else: print(\"Training ...\")\n",
    "        breaker()\n",
    "        \n",
    "    bestLoss: dict = {\"train\" : np.inf, \"valid\" : np.inf} \n",
    "    bestAccs: dict = {\"train\" : 0.0, \"valid\" : 0.0}\n",
    "        \n",
    "    Losses: list = []\n",
    "    Accuracies: list = [] \n",
    "    LRs: list = []\n",
    "        \n",
    "    if fold: \n",
    "        ble_name = f\"ble_state_fold_{fold}.pt\"\n",
    "        bae_name = f\"bae_state_fold_{fold}.pt\"\n",
    "    else: \n",
    "        ble_name = f\"ble_state.pt\"\n",
    "        bae_name = f\"bae_state.pt\"\n",
    "    \n",
    "    start_time = time()\n",
    "    for e in range(epochs):\n",
    "        e_st = time()\n",
    "        epochLoss: dict = {\"train\" : 0.0, \"valid\" : 0.0} \n",
    "        epochAccs: dict = {\"train\" : 0.0, \"valid\" : 0.0}\n",
    "\n",
    "        for phase in [\"train\", \"valid\"]:\n",
    "            if phase == \"train\":\n",
    "                model.train()\n",
    "            else:\n",
    "                model.eval()\n",
    "            \n",
    "            lossPerPass: list = []\n",
    "            accsPerPass: list = []\n",
    "                \n",
    "            for X, y in dataloaders[phase]:\n",
    "                X, y = X.to(device), y.to(device).view(-1)\n",
    "\n",
    "                optimizer.zero_grad()\n",
    "                with torch.set_grad_enabled(phase == \"train\"):\n",
    "                    output = model(X)\n",
    "                    loss = torch.nn.NLLLoss()(output, y)\n",
    "                    if phase == \"train\":\n",
    "                        loss.backward()\n",
    "                        optimizer.step()\n",
    "                        if scheduler_oclr: scheduler_oclr.step()\n",
    "                lossPerPass.append(loss.item())\n",
    "                accsPerPass.append(get_accuracy(output, y))\n",
    "            epochLoss[phase] = np.mean(np.array(lossPerPass))\n",
    "            epochAccs[phase] = np.mean(np.array(accsPerPass))\n",
    "        if scheduler_oclr: LRs.append(scheduler_oclr.get_last_lr())\n",
    "        Losses.append(epochLoss)\n",
    "        Accuracies.append(epochAccs)\n",
    "    \n",
    "        if scheduler_oclr:\n",
    "            save_dict = {\"model_state_dict\"     : model.state_dict(),\n",
    "                         \"optim_state_dict\"     : optimizer.state_dict(),\n",
    "                         \"scheduler_state_dict\" : scheduler_oclr.state_dict()}\n",
    "        \n",
    "        elif scheduler_rlrop:\n",
    "            save_dict = {\"model_state_dict\"     : model.state_dict(),\n",
    "                         \"optim_state_dict\"     : optimizer.state_dict(),\n",
    "                         \"scheduler_state_dict\" : scheduler_rlrop.state_dict()}\n",
    "        \n",
    "        else:\n",
    "            save_dict = {\"model_state_dict\"     : model.state_dict(),\n",
    "                         \"optim_state_dict\"     : optimizer.state_dict()}\n",
    "        \n",
    "        \n",
    "        if early_stopping_patience:\n",
    "            if epochLoss[\"valid\"] < bestLoss[\"valid\"]:\n",
    "                bestLoss = epochLoss\n",
    "                BLE = e + 1\n",
    "                torch.save(save_dict, os.path.join(save_path, ble_name))\n",
    "                torch.save(save_dict, os.path.join(save_path, bae_name))\n",
    "                early_stopping_step = 0\n",
    "            else:\n",
    "                early_stopping_step += 1\n",
    "                if early_stopping_step > early_stopping_patience:\n",
    "                    print(\"\\nEarly Stopping at Epoch {}\".format(e + 1))\n",
    "                    break\n",
    "        \n",
    "        if epochLoss[\"valid\"] < bestLoss[\"valid\"]:\n",
    "            bestLoss = epochLoss\n",
    "            BLE = e + 1\n",
    "            torch.save(save_dict,os.path.join(save_path, ble_name))\n",
    "        \n",
    "        if epochAccs[\"valid\"] > bestAccs[\"valid\"]:\n",
    "            bestAccs = epochAccs\n",
    "            BAE = e + 1\n",
    "            torch.save(save_dict,os.path.join(save_path, bae_name))\n",
    "        \n",
    "        if scheduler_rlrop: scheduler_rlrop.step(epochLoss[\"valid\"])\n",
    "        \n",
    "        if verbose:\n",
    "            print(\"Epoch: {} | Train Loss: {:.5f} | Valid Loss: {:.5f} |\\\n",
    " Train Accs: {:.5f} | Valid Accs: {:.5f} | Time: {:.2f} seconds\".format(e+1, \n",
    "                                                                        epochLoss[\"train\"], epochLoss[\"valid\"], \n",
    "                                                                        epochAccs[\"train\"], epochAccs[\"valid\"], \n",
    "                                                                        time()-e_st))\n",
    "\n",
    "    if verbose:                                           \n",
    "        breaker()\n",
    "        print(f\"Best Validation Loss at Epoch {BLE}\")\n",
    "        breaker()\n",
    "        print(f\"Best Validation Accs at Epoch {BAE}\")\n",
    "        breaker()\n",
    "        print(\"Time Taken [{} Epochs] : {:.2f} minutes\".format(len(Losses), (time()-start_time)/60))\n",
    "    \n",
    "    return Losses, Accuracies, LRs, bestLoss, bestAccs, BLE, BAE, ble_name, bae_name\n",
    "\n",
    "\n",
    "# def predict_batch(model=None, dataloader=None, path=None, device=None) -> np.ndarray:\n",
    "#     model.load_state_dict(torch.load(path, map_location=device)[\"model_state_dict\"])\n",
    "#     model.to(device)    \n",
    "#     model.eval()\n",
    "    \n",
    "#     y_pred = torch.zeros(1, 1).to(device)\n",
    "    \n",
    "#     for X in dataloader:\n",
    "#         X = X.to(device)\n",
    "#         with torch.no_grad():\n",
    "#             output = torch.argmax(torch.exp(model(X)), dim=1)\n",
    "#         y_pred = torch.cat((y_pred, output.view(-1, 1)), dim=0)\n",
    "    \n",
    "#     return y_pred[1:].detach().cpu().numpy()"
   ]
  },
  {
   "cell_type": "markdown",
   "id": "ad2f2408",
   "metadata": {
    "papermill": {
     "duration": 0.005025,
     "end_time": "2022-09-28T10:46:04.500205",
     "exception": false,
     "start_time": "2022-09-28T10:46:04.495180",
     "status": "completed"
    },
    "tags": []
   },
   "source": [
    "### **Train**"
   ]
  },
  {
   "cell_type": "code",
   "execution_count": 9,
   "id": "f3bd331f",
   "metadata": {
    "execution": {
     "iopub.execute_input": "2022-09-28T10:46:04.513025Z",
     "iopub.status.busy": "2022-09-28T10:46:04.511897Z",
     "iopub.status.idle": "2022-09-28T10:46:04.556878Z",
     "shell.execute_reply": "2022-09-28T10:46:04.555413Z"
    },
    "papermill": {
     "duration": 0.054426,
     "end_time": "2022-09-28T10:46:04.560026",
     "exception": false,
     "start_time": "2022-09-28T10:46:04.505600",
     "status": "completed"
    },
    "tags": []
   },
   "outputs": [],
   "source": [
    "df = pd.read_csv(\"../input/4ac-predlabel-dataframe/data.csv\")\n",
    "\n",
    "filepaths = df.filepaths.copy().values\n",
    "labels = df.classes.copy().values"
   ]
  },
  {
   "cell_type": "code",
   "execution_count": 10,
   "id": "43ae1076",
   "metadata": {
    "execution": {
     "iopub.execute_input": "2022-09-28T10:46:04.573435Z",
     "iopub.status.busy": "2022-09-28T10:46:04.573105Z",
     "iopub.status.idle": "2022-09-28T13:24:21.676628Z",
     "shell.execute_reply": "2022-09-28T13:24:21.673692Z"
    },
    "papermill": {
     "duration": 9497.114387,
     "end_time": "2022-09-28T13:24:21.679833",
     "exception": false,
     "start_time": "2022-09-28T10:46:04.565446",
     "status": "completed"
    },
    "tags": []
   },
   "outputs": [
    {
     "name": "stderr",
     "output_type": "stream",
     "text": [
      "Downloading: \"https://github.com/rwightman/pytorch-image-models/releases/download/v0.1-weights/efficientnet_b4_ra2_320-7eb33cd5.pth\" to /root/.cache/torch/hub/checkpoints/efficientnet_b4_ra2_320-7eb33cd5.pth\n"
     ]
    },
    {
     "name": "stdout",
     "output_type": "stream",
     "text": [
      "\n",
      "**************************************************\n",
      "\n",
      "Training Fold 1...\n",
      "\n",
      "**************************************************\n",
      "\n",
      "Epoch: 1 | Train Loss: 1.29568 | Valid Loss: 0.80658 | Train Accs: 0.52966 | Valid Accs: 0.98056 | Time: 209.06 seconds\n",
      "Epoch: 2 | Train Loss: 0.27046 | Valid Loss: 0.03050 | Train Accs: 0.93008 | Valid Accs: 0.99306 | Time: 177.83 seconds\n",
      "Epoch: 3 | Train Loss: 0.13185 | Valid Loss: 0.04740 | Train Accs: 0.95717 | Valid Accs: 0.98889 | Time: 176.04 seconds\n",
      "Epoch: 4 | Train Loss: 0.14763 | Valid Loss: 0.07566 | Train Accs: 0.95233 | Valid Accs: 0.96944 | Time: 176.53 seconds\n",
      "Epoch: 5 | Train Loss: 0.15219 | Valid Loss: 0.12500 | Train Accs: 0.95268 | Valid Accs: 0.95972 | Time: 176.28 seconds\n",
      "Epoch: 6 | Train Loss: 0.10609 | Valid Loss: 0.06346 | Train Accs: 0.96540 | Valid Accs: 0.98472 | Time: 177.82 seconds\n",
      "Epoch: 7 | Train Loss: 0.10324 | Valid Loss: 0.05885 | Train Accs: 0.96504 | Valid Accs: 0.98056 | Time: 177.50 seconds\n",
      "\n",
      "Early Stopping at Epoch 8\n",
      "\n",
      "**************************************************\n",
      "\n",
      "Best Validation Loss at Epoch 2\n",
      "\n",
      "**************************************************\n",
      "\n",
      "Best Validation Accs at Epoch 2\n",
      "\n",
      "**************************************************\n",
      "\n",
      "Time Taken [8 Epochs] : 24.14 minutes\n",
      "\n",
      "**************************************************\n",
      "\n"
     ]
    },
    {
     "data": {
      "image/png": "[encoded data removed]",
      "text/plain": [
       "<Figure size 432x288 with 1 Axes>"
      ]
     },
     "metadata": {
      "needs_background": "light"
     },
     "output_type": "display_data"
    },
    {
     "name": "stdout",
     "output_type": "stream",
     "text": [
      "\n",
      "**************************************************\n",
      "\n"
     ]
    },
    {
     "data": {
      "image/png": "[encoded data removed]",
      "text/plain": [
       "<Figure size 432x288 with 1 Axes>"
      ]
     },
     "metadata": {
      "needs_background": "light"
     },
     "output_type": "display_data"
    },
    {
     "name": "stdout",
     "output_type": "stream",
     "text": [
      "\n",
      "**************************************************\n",
      "\n"
     ]
    },
    {
     "data": {
      "image/png": "[encoded data removed]",
      "text/plain": [
       "<Figure size 576x432 with 1 Axes>"
      ]
     },
     "metadata": {
      "needs_background": "light"
     },
     "output_type": "display_data"
    },
    {
     "name": "stdout",
     "output_type": "stream",
     "text": [
      "\n",
      "**************************************************\n",
      "\n",
      "\n",
      "**************************************************\n",
      "\n",
      "Training Fold 2...\n",
      "\n",
      "**************************************************\n",
      "\n",
      "Epoch: 1 | Train Loss: 1.29424 | Valid Loss: 0.82377 | Train Accs: 0.54500 | Valid Accs: 0.98056 | Time: 175.03 seconds\n",
      "Epoch: 2 | Train Loss: 0.25671 | Valid Loss: 0.02467 | Train Accs: 0.93457 | Valid Accs: 0.99583 | Time: 177.44 seconds\n",
      "Epoch: 3 | Train Loss: 0.14857 | Valid Loss: 0.05721 | Train Accs: 0.95198 | Valid Accs: 0.98472 | Time: 172.96 seconds\n",
      "Epoch: 4 | Train Loss: 0.14159 | Valid Loss: 0.03898 | Train Accs: 0.95374 | Valid Accs: 0.98750 | Time: 174.24 seconds\n",
      "Epoch: 5 | Train Loss: 0.13157 | Valid Loss: 0.05367 | Train Accs: 0.95798 | Valid Accs: 0.98194 | Time: 171.86 seconds\n",
      "Epoch: 6 | Train Loss: 0.12399 | Valid Loss: 0.08183 | Train Accs: 0.95621 | Valid Accs: 0.98056 | Time: 172.77 seconds\n",
      "Epoch: 7 | Train Loss: 0.08508 | Valid Loss: 0.04420 | Train Accs: 0.97140 | Valid Accs: 0.98611 | Time: 174.48 seconds\n",
      "\n",
      "Early Stopping at Epoch 8\n",
      "\n",
      "**************************************************\n",
      "\n",
      "Best Validation Loss at Epoch 2\n",
      "\n",
      "**************************************************\n",
      "\n",
      "Best Validation Accs at Epoch 2\n",
      "\n",
      "**************************************************\n",
      "\n",
      "Time Taken [8 Epochs] : 23.20 minutes\n",
      "\n",
      "**************************************************\n",
      "\n"
     ]
    },
    {
     "data": {
      "image/png": "[encoded data removed]",
      "text/plain": [
       "<Figure size 432x288 with 1 Axes>"
      ]
     },
     "metadata": {
      "needs_background": "light"
     },
     "output_type": "display_data"
    },
    {
     "name": "stdout",
     "output_type": "stream",
     "text": [
      "\n",
      "**************************************************\n",
      "\n"
     ]
    },
    {
     "data": {
      "image/png": "[encoded data removed]",
      "text/plain": [
       "<Figure size 432x288 with 1 Axes>"
      ]
     },
     "metadata": {
      "needs_background": "light"
     },
     "output_type": "display_data"
    },
    {
     "name": "stdout",
     "output_type": "stream",
     "text": [
      "\n",
      "**************************************************\n",
      "\n"
     ]
    },
    {
     "data": {
      "image/png": "[encoded data removed]",
      "text/plain": [
       "<Figure size 576x432 with 1 Axes>"
      ]
     },
     "metadata": {
      "needs_background": "light"
     },
     "output_type": "display_data"
    },
    {
     "name": "stdout",
     "output_type": "stream",
     "text": [
      "\n",
      "**************************************************\n",
      "\n",
      "\n",
      "**************************************************\n",
      "\n",
      "Training Fold 3...\n",
      "\n",
      "**************************************************\n",
      "\n",
      "Epoch: 1 | Train Loss: 1.29595 | Valid Loss: 0.83435 | Train Accs: 0.54096 | Valid Accs: 0.97500 | Time: 175.17 seconds\n",
      "Epoch: 2 | Train Loss: 0.27741 | Valid Loss: 0.06009 | Train Accs: 0.93457 | Valid Accs: 0.99028 | Time: 175.48 seconds\n",
      "Epoch: 3 | Train Loss: 0.13277 | Valid Loss: 0.04830 | Train Accs: 0.95763 | Valid Accs: 0.98750 | Time: 174.20 seconds\n",
      "Epoch: 4 | Train Loss: 0.14215 | Valid Loss: 0.12411 | Train Accs: 0.95107 | Valid Accs: 0.96389 | Time: 175.36 seconds\n",
      "Epoch: 5 | Train Loss: 0.15923 | Valid Loss: 0.04740 | Train Accs: 0.94315 | Valid Accs: 0.98611 | Time: 176.90 seconds\n",
      "Epoch: 6 | Train Loss: 0.10996 | Valid Loss: 0.11748 | Train Accs: 0.96292 | Valid Accs: 0.96111 | Time: 174.77 seconds\n",
      "Epoch: 7 | Train Loss: 0.09991 | Valid Loss: 0.06233 | Train Accs: 0.96398 | Valid Accs: 0.98194 | Time: 174.45 seconds\n",
      "Epoch: 8 | Train Loss: 0.06752 | Valid Loss: 0.04542 | Train Accs: 0.97811 | Valid Accs: 0.98333 | Time: 175.99 seconds\n",
      "Epoch: 9 | Train Loss: 0.06278 | Valid Loss: 0.04939 | Train Accs: 0.97740 | Valid Accs: 0.98472 | Time: 174.24 seconds\n",
      "Epoch: 10 | Train Loss: 0.06025 | Valid Loss: 0.09420 | Train Accs: 0.98305 | Valid Accs: 0.97500 | Time: 174.98 seconds\n",
      "Epoch: 11 | Train Loss: 0.06009 | Valid Loss: 0.07691 | Train Accs: 0.98199 | Valid Accs: 0.97500 | Time: 174.08 seconds\n",
      "Epoch: 12 | Train Loss: 0.04767 | Valid Loss: 0.04057 | Train Accs: 0.98446 | Valid Accs: 0.98750 | Time: 177.29 seconds\n",
      "Epoch: 13 | Train Loss: 0.03652 | Valid Loss: 0.03835 | Train Accs: 0.98799 | Valid Accs: 0.98611 | Time: 177.08 seconds\n",
      "Epoch: 14 | Train Loss: 0.02824 | Valid Loss: 0.05712 | Train Accs: 0.98966 | Valid Accs: 0.98472 | Time: 175.04 seconds\n",
      "Epoch: 15 | Train Loss: 0.02372 | Valid Loss: 0.05974 | Train Accs: 0.99248 | Valid Accs: 0.97917 | Time: 174.51 seconds\n",
      "Epoch: 16 | Train Loss: 0.02230 | Valid Loss: 0.08082 | Train Accs: 0.99223 | Valid Accs: 0.98056 | Time: 175.38 seconds\n",
      "Epoch: 17 | Train Loss: 0.02553 | Valid Loss: 0.06625 | Train Accs: 0.99188 | Valid Accs: 0.98333 | Time: 175.30 seconds\n",
      "Epoch: 18 | Train Loss: 0.01163 | Valid Loss: 0.06612 | Train Accs: 0.99718 | Valid Accs: 0.99028 | Time: 175.42 seconds\n",
      "\n",
      "Early Stopping at Epoch 19\n",
      "\n",
      "**************************************************\n",
      "\n",
      "Best Validation Loss at Epoch 13\n",
      "\n",
      "**************************************************\n",
      "\n",
      "Best Validation Accs at Epoch 2\n",
      "\n",
      "**************************************************\n",
      "\n",
      "Time Taken [19 Epochs] : 55.50 minutes\n",
      "\n",
      "**************************************************\n",
      "\n"
     ]
    },
    {
     "data": {
      "image/png": "[encoded data removed]",
      "text/plain": [
       "<Figure size 432x288 with 1 Axes>"
      ]
     },
     "metadata": {
      "needs_background": "light"
     },
     "output_type": "display_data"
    },
    {
     "name": "stdout",
     "output_type": "stream",
     "text": [
      "\n",
      "**************************************************\n",
      "\n"
     ]
    },
    {
     "data": {
      "image/png": "[encoded data removed]",
      "text/plain": [
       "<Figure size 432x288 with 1 Axes>"
      ]
     },
     "metadata": {
      "needs_background": "light"
     },
     "output_type": "display_data"
    },
    {
     "name": "stdout",
     "output_type": "stream",
     "text": [
      "\n",
      "**************************************************\n",
      "\n"
     ]
    },
    {
     "data": {
      "image/png": "[encoded data removed]",
      "text/plain": [
       "<Figure size 576x432 with 1 Axes>"
      ]
     },
     "metadata": {
      "needs_background": "light"
     },
     "output_type": "display_data"
    },
    {
     "name": "stdout",
     "output_type": "stream",
     "text": [
      "\n",
      "**************************************************\n",
      "\n",
      "\n",
      "**************************************************\n",
      "\n",
      "Training Fold 4...\n",
      "\n",
      "**************************************************\n",
      "\n",
      "Epoch: 1 | Train Loss: 1.29454 | Valid Loss: 0.83445 | Train Accs: 0.53496 | Valid Accs: 0.97639 | Time: 175.66 seconds\n",
      "Epoch: 2 | Train Loss: 0.26149 | Valid Loss: 0.03484 | Train Accs: 0.93220 | Valid Accs: 0.99028 | Time: 176.65 seconds\n",
      "Epoch: 3 | Train Loss: 0.13184 | Valid Loss: 0.04260 | Train Accs: 0.95198 | Valid Accs: 0.98750 | Time: 173.49 seconds\n",
      "Epoch: 4 | Train Loss: 0.13065 | Valid Loss: 0.06828 | Train Accs: 0.95435 | Valid Accs: 0.98194 | Time: 173.52 seconds\n",
      "Epoch: 5 | Train Loss: 0.14249 | Valid Loss: 0.06644 | Train Accs: 0.95188 | Valid Accs: 0.97778 | Time: 173.24 seconds\n",
      "Epoch: 6 | Train Loss: 0.12989 | Valid Loss: 0.10580 | Train Accs: 0.95516 | Valid Accs: 0.95556 | Time: 173.18 seconds\n",
      "Epoch: 7 | Train Loss: 0.07871 | Valid Loss: 0.10291 | Train Accs: 0.97458 | Valid Accs: 0.96944 | Time: 171.86 seconds\n",
      "\n",
      "Early Stopping at Epoch 8\n",
      "\n",
      "**************************************************\n",
      "\n",
      "Best Validation Loss at Epoch 2\n",
      "\n",
      "**************************************************\n",
      "\n",
      "Best Validation Accs at Epoch 2\n",
      "\n",
      "**************************************************\n",
      "\n",
      "Time Taken [8 Epochs] : 23.19 minutes\n",
      "\n",
      "**************************************************\n",
      "\n"
     ]
    },
    {
     "data": {
      "image/png": "[encoded data removed]",
      "text/plain": [
       "<Figure size 432x288 with 1 Axes>"
      ]
     },
     "metadata": {
      "needs_background": "light"
     },
     "output_type": "display_data"
    },
    {
     "name": "stdout",
     "output_type": "stream",
     "text": [
      "\n",
      "**************************************************\n",
      "\n"
     ]
    },
    {
     "data": {
      "image/png": "[encoded data removed]",
      "text/plain": [
       "<Figure size 432x288 with 1 Axes>"
      ]
     },
     "metadata": {
      "needs_background": "light"
     },
     "output_type": "display_data"
    },
    {
     "name": "stdout",
     "output_type": "stream",
     "text": [
      "\n",
      "**************************************************\n",
      "\n"
     ]
    },
    {
     "data": {
      "image/png": "[encoded data removed]",
      "text/plain": [
       "<Figure size 576x432 with 1 Axes>"
      ]
     },
     "metadata": {
      "needs_background": "light"
     },
     "output_type": "display_data"
    },
    {
     "name": "stdout",
     "output_type": "stream",
     "text": [
      "\n",
      "**************************************************\n",
      "\n",
      "\n",
      "**************************************************\n",
      "\n",
      "Training Fold 5...\n",
      "\n",
      "**************************************************\n",
      "\n",
      "Epoch: 1 | Train Loss: 1.29571 | Valid Loss: 0.81872 | Train Accs: 0.53001 | Valid Accs: 0.98472 | Time: 175.49 seconds\n",
      "Epoch: 2 | Train Loss: 0.27404 | Valid Loss: 0.04516 | Train Accs: 0.92973 | Valid Accs: 0.98889 | Time: 178.24 seconds\n",
      "Epoch: 3 | Train Loss: 0.12077 | Valid Loss: 0.04729 | Train Accs: 0.95621 | Valid Accs: 0.99028 | Time: 174.82 seconds\n",
      "Epoch: 4 | Train Loss: 0.13475 | Valid Loss: 0.08366 | Train Accs: 0.95304 | Valid Accs: 0.98333 | Time: 175.00 seconds\n",
      "Epoch: 5 | Train Loss: 0.13221 | Valid Loss: 0.03273 | Train Accs: 0.95904 | Valid Accs: 0.98889 | Time: 175.94 seconds\n",
      "Epoch: 6 | Train Loss: 0.12760 | Valid Loss: 0.06306 | Train Accs: 0.95692 | Valid Accs: 0.97917 | Time: 174.00 seconds\n",
      "Epoch: 7 | Train Loss: 0.09433 | Valid Loss: 0.04196 | Train Accs: 0.96857 | Valid Accs: 0.98889 | Time: 173.41 seconds\n",
      "Epoch: 8 | Train Loss: 0.10101 | Valid Loss: 0.05479 | Train Accs: 0.96893 | Valid Accs: 0.98472 | Time: 173.04 seconds\n",
      "Epoch: 9 | Train Loss: 0.07028 | Valid Loss: 0.06450 | Train Accs: 0.97917 | Valid Accs: 0.98611 | Time: 173.81 seconds\n",
      "Epoch: 10 | Train Loss: 0.04828 | Valid Loss: 0.05008 | Train Accs: 0.98305 | Valid Accs: 0.99028 | Time: 172.62 seconds\n",
      "\n",
      "Early Stopping at Epoch 11\n",
      "\n",
      "**************************************************\n",
      "\n",
      "Best Validation Loss at Epoch 5\n",
      "\n",
      "**************************************************\n",
      "\n",
      "Best Validation Accs at Epoch 3\n",
      "\n",
      "**************************************************\n",
      "\n",
      "Time Taken [11 Epochs] : 32.00 minutes\n",
      "\n",
      "**************************************************\n",
      "\n"
     ]
    },
    {
     "data": {
      "image/png": "[encoded data removed]",
      "text/plain": [
       "<Figure size 432x288 with 1 Axes>"
      ]
     },
     "metadata": {
      "needs_background": "light"
     },
     "output_type": "display_data"
    },
    {
     "name": "stdout",
     "output_type": "stream",
     "text": [
      "\n",
      "**************************************************\n",
      "\n"
     ]
    },
    {
     "data": {
      "image/png": "[encoded data removed]",
      "text/plain": [
       "<Figure size 432x288 with 1 Axes>"
      ]
     },
     "metadata": {
      "needs_background": "light"
     },
     "output_type": "display_data"
    },
    {
     "name": "stdout",
     "output_type": "stream",
     "text": [
      "\n",
      "**************************************************\n",
      "\n"
     ]
    },
    {
     "data": {
      "image/png": "[encoded data removed]",
      "text/plain": [
       "<Figure size 576x432 with 1 Axes>"
      ]
     },
     "metadata": {
      "needs_background": "light"
     },
     "output_type": "display_data"
    },
    {
     "name": "stdout",
     "output_type": "stream",
     "text": [
      "\n",
      "**************************************************\n",
      "\n"
     ]
    }
   ],
   "source": [
    "fold: int = 1\n",
    "BLs: list = []\n",
    "BAs: list = []\n",
    "    \n",
    "for tr_idx, va_idx in StratifiedKFold(n_splits=cfg.n_splits, random_state=cfg.seed, shuffle=True).split(filepaths, labels):\n",
    "\n",
    "    tr_filepaths, va_filepaths = filepaths[tr_idx], filepaths[va_idx] \n",
    "    tr_labels, va_labels       = labels[tr_idx], labels[va_idx]\n",
    "    \n",
    "    tr_data_setup = DS(\n",
    "        filepaths=tr_filepaths, \n",
    "        labels=tr_labels.reshape(-1, 1),\n",
    "        size=cfg.size,\n",
    "        transform=cfg.train_transform\n",
    "    )\n",
    "    \n",
    "    va_data_setup = DS(\n",
    "        filepaths=va_filepaths, \n",
    "        labels=va_labels.reshape(-1, 1),\n",
    "        size=cfg.size,\n",
    "        transform=cfg.valid_transform\n",
    "    )\n",
    "\n",
    "    dataloaders = {\n",
    "        \"train\" : DL(tr_data_setup, batch_size=cfg.batch_size, shuffle=True, generator=torch.manual_seed(cfg.seed)),\n",
    "        \"valid\" : DL(va_data_setup, batch_size=cfg.batch_size, shuffle=False),\n",
    "    }\n",
    "\n",
    "    cfg = CFG(\n",
    "        size=SIZE,\n",
    "        epochs=25, \n",
    "        batch_size=16, \n",
    "        early_stopping=5,\n",
    "        steps_per_epoch=len(dataloaders[\"train\"])\n",
    "    )\n",
    "    \n",
    "    torch.manual_seed(cfg.seed)\n",
    "    model = Model().to(cfg.device)\n",
    "\n",
    "    optimizer = optim.Adam([p for p in model.parameters() if p.requires_grad], lr=cfg.lr, weight_decay=cfg.wd)\n",
    "    # optimizer = optim.AdamW([p for p in model.parameters() if p.requires_grad], lr=cfg.lr, weight_decay=cfg.wd)\n",
    "    # optimizer = optim.SGD([p for p in model.parameters() if p.requires_grad], lr=cfg.lr, weight_decay=cfg.wd, momentum=0.9)\n",
    "    \n",
    "    scheduler_oclr = optim.lr_scheduler.OneCycleLR(\n",
    "        optimizer=optimizer, \n",
    "        max_lr=cfg.max_lr, \n",
    "        epochs=cfg.epochs, \n",
    "        steps_per_epoch=cfg.steps_per_epoch,\n",
    "        pct_start=cfg.pct_start, \n",
    "        div_factor=cfg.div_factor, \n",
    "        final_div_factor=cfg.final_div_factor\n",
    "    )\n",
    "\n",
    "    # scheduler_rlrop = optim.lr_scheduler.ReduceLROnPlateau(\n",
    "    #     optimizer=optimizer,\n",
    "    #     patience=cfg.patience,\n",
    "    #     eps=cfg.eps,\n",
    "    #     verbose=True\n",
    "    # )\n",
    "\n",
    "    # scheduler_oclr = None\n",
    "    scheduler_rlrop = None\n",
    "    \n",
    "    L, A, LR, BL, BA, _, _, _, _ = fit(\n",
    "        model=model, \n",
    "        optimizer=optimizer, \n",
    "        scheduler_oclr=scheduler_oclr,\n",
    "        scheduler_rlrop=scheduler_rlrop,\n",
    "        epochs=cfg.epochs, \n",
    "        early_stopping_patience=cfg.early_stopping, \n",
    "        dataloaders=dataloaders, \n",
    "        device=cfg.device,\n",
    "        save_path=cfg.save_path,\n",
    "        fold=fold,\n",
    "        verbose=True\n",
    "    )\n",
    "    \n",
    "    breaker()\n",
    "    show_loss_graphs(L)\n",
    "    breaker()\n",
    "    show_accuracy_graphs(A)\n",
    "    breaker()\n",
    "    if scheduler_oclr:\n",
    "        show_lr_graph(LR)\n",
    "        breaker()\n",
    "    \n",
    "    BLs.append(BL)\n",
    "    BAs.append(BA)\n",
    "    \n",
    "    fold += 1"
   ]
  },
  {
   "cell_type": "markdown",
   "id": "387a00c0",
   "metadata": {
    "papermill": {
     "duration": 0.01345,
     "end_time": "2022-09-28T13:24:21.707427",
     "exception": false,
     "start_time": "2022-09-28T13:24:21.693977",
     "status": "completed"
    },
    "tags": []
   },
   "source": [
    "### **Best Model**"
   ]
  },
  {
   "cell_type": "code",
   "execution_count": 11,
   "id": "a3bb6cd7",
   "metadata": {
    "execution": {
     "iopub.execute_input": "2022-09-28T13:24:21.810744Z",
     "iopub.status.busy": "2022-09-28T13:24:21.809355Z",
     "iopub.status.idle": "2022-09-28T13:24:21.820477Z",
     "shell.execute_reply": "2022-09-28T13:24:21.818928Z"
    },
    "papermill": {
     "duration": 0.103606,
     "end_time": "2022-09-28T13:24:21.825073",
     "exception": false,
     "start_time": "2022-09-28T13:24:21.721467",
     "status": "completed"
    },
    "tags": []
   },
   "outputs": [
    {
     "name": "stdout",
     "output_type": "stream",
     "text": [
      "\n",
      "**************************************************\n",
      "\n",
      "Best Loss Model Fold     : 2\n",
      "Best Accuracy Model Fold : 2\n",
      "\n",
      "**************************************************\n",
      "\n"
     ]
    }
   ],
   "source": [
    "BL = np.inf\n",
    "for i in range(len(BLs)):\n",
    "    if BLs[i][\"valid\"] < BL:\n",
    "        BL = BLs[i][\"valid\"]\n",
    "        best_loss_index = i\n",
    "\n",
    "        \n",
    "BA = 0.0\n",
    "for i in range(len(BAs)):\n",
    "    if BAs[i][\"valid\"] > BA:\n",
    "        BA = BAs[i][\"valid\"]\n",
    "        best_accs_index = i\n",
    "\n",
    "\n",
    "breaker()\n",
    "print(f\"Best Loss Model Fold     : {best_loss_index + 1}\")\n",
    "print(f\"Best Accuracy Model Fold : {best_accs_index + 1}\")\n",
    "breaker()"
   ]
  },
  {
   "cell_type": "markdown",
   "id": "f3a025a6",
   "metadata": {
    "papermill": {
     "duration": 0.013581,
     "end_time": "2022-09-28T13:24:21.853998",
     "exception": false,
     "start_time": "2022-09-28T13:24:21.840417",
     "status": "completed"
    },
    "tags": []
   },
   "source": [
    "### **Submit**"
   ]
  },
  {
   "cell_type": "code",
   "execution_count": 12,
   "id": "1711ad81",
   "metadata": {
    "execution": {
     "iopub.execute_input": "2022-09-28T13:24:21.883329Z",
     "iopub.status.busy": "2022-09-28T13:24:21.882120Z",
     "iopub.status.idle": "2022-09-28T13:24:21.888955Z",
     "shell.execute_reply": "2022-09-28T13:24:21.887372Z"
    },
    "papermill": {
     "duration": 0.024381,
     "end_time": "2022-09-28T13:24:21.891789",
     "exception": false,
     "start_time": "2022-09-28T13:24:21.867408",
     "status": "completed"
    },
    "tags": []
   },
   "outputs": [],
   "source": [
    "# torch.manual_seed(cfg.seed)\n",
    "# model = Model().to(cfg.device)\n",
    "\n",
    "# ss_df = pd.read_csv(\"../input/4-animal-classification/Sample_submission.csv\")\n",
    "# ts_filenames = ss_df[\"ID\"]\n",
    "\n",
    "# ts_data_setup = DS(\n",
    "#     base_path=\"../input/4-animal-classification/test/test\", \n",
    "#     filenames=ts_filenames, \n",
    "#     size=cfg.size,\n",
    "#     transform=cfg.valid_transform,\n",
    "# )\n",
    "# ts_data = DL(ts_data_setup, batch_size=cfg.batch_size, shuffle=False)\n",
    "\n",
    "# y_pred = predict_batch(\n",
    "#     model=model,\n",
    "#     dataloader=ts_data,\n",
    "#     path=\"\",\n",
    "#     device=cfg.device\n",
    "# )\n",
    "\n",
    "# ss_df[\"Label\"] = y_pred.astype(\"uint8\")\n",
    "# ss_df.to_csv(\"submission.csv\", index=False)"
   ]
  }
 ],
 "metadata": {
  "kernelspec": {
   "display_name": "Python 3",
   "language": "python",
   "name": "python3"
  },
  "language_info": {
   "codemirror_mode": {
    "name": "ipython",
    "version": 3
   },
   "file_extension": ".py",
   "mimetype": "text/x-python",
   "name": "python",
   "nbconvert_exporter": "python",
   "pygments_lexer": "ipython3",
   "version": "3.7.12"
  },
  "papermill": {
   "default_parameters": {},
   "duration": 9530.421221,
   "end_time": "2022-09-28T13:24:24.456998",
   "environment_variables": {},
   "exception": null,
   "input_path": "__notebook__.ipynb",
   "output_path": "__notebook__.ipynb",
   "parameters": {},
   "start_time": "2022-09-28T10:45:34.035777",
   "version": "2.3.4"
  }
 },
 "nbformat": 4,
 "nbformat_minor": 5
}
