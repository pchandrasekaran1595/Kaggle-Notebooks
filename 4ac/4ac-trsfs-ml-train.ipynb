{
 "cells": [
  {
   "cell_type": "code",
   "execution_count": 1,
   "id": "7a4c9d84",
   "metadata": {
    "_cell_guid": "b1076dfc-b9ad-4769-8c92-a6c4dae69d19",
    "_uuid": "8f2839f25d086af736a60e9eeb907d3b93b6e0e5",
    "execution": {
     "iopub.execute_input": "2022-09-29T06:58:12.850626Z",
     "iopub.status.busy": "2022-09-29T06:58:12.849650Z",
     "iopub.status.idle": "2022-09-29T06:58:14.404302Z",
     "shell.execute_reply": "2022-09-29T06:58:14.403238Z"
    },
    "papermill": {
     "duration": 1.562948,
     "end_time": "2022-09-29T06:58:14.407054",
     "exception": false,
     "start_time": "2022-09-29T06:58:12.844106",
     "status": "completed"
    },
    "tags": []
   },
   "outputs": [],
   "source": [
    "import os\n",
    "import pickle\n",
    "import numpy as np\n",
    "import pandas as pd\n",
    "import random as r\n",
    "import seaborn as sns\n",
    "import matplotlib.pyplot as plt\n",
    "\n",
    "from time import time\n",
    "from sklearn.pipeline import Pipeline\n",
    "from sklearn.model_selection import StratifiedKFold\n",
    "\n",
    "from sklearn.naive_bayes import GaussianNB\n",
    "from sklearn.neighbors import KNeighborsClassifier\n",
    "from sklearn.linear_model import LogisticRegression\n",
    "from sklearn.tree import DecisionTreeClassifier, ExtraTreeClassifier\n",
    "from sklearn.ensemble import AdaBoostClassifier, \\\n",
    "                             ExtraTreesClassifier, \\\n",
    "                             GradientBoostingClassifier, \\\n",
    "                             RandomForestClassifier \n",
    "from xgboost import XGBClassifier\n",
    "\n",
    "from sklearn.metrics import accuracy_score, \\\n",
    "                            precision_recall_fscore_support, \\\n",
    "                            roc_auc_score, \\\n",
    "                            classification_report"
   ]
  },
  {
   "cell_type": "code",
   "execution_count": 2,
   "id": "a111175f",
   "metadata": {
    "execution": {
     "iopub.execute_input": "2022-09-29T06:58:14.414307Z",
     "iopub.status.busy": "2022-09-29T06:58:14.413927Z",
     "iopub.status.idle": "2022-09-29T06:58:14.419195Z",
     "shell.execute_reply": "2022-09-29T06:58:14.418062Z"
    },
    "papermill": {
     "duration": 0.011566,
     "end_time": "2022-09-29T06:58:14.421572",
     "exception": false,
     "start_time": "2022-09-29T06:58:14.410006",
     "status": "completed"
    },
    "tags": []
   },
   "outputs": [],
   "source": [
    "def breaker() -> None: print(\"\\n\" + 50*\"*\" + \"\\n\")"
   ]
  },
  {
   "cell_type": "code",
   "execution_count": 3,
   "id": "cda82195",
   "metadata": {
    "execution": {
     "iopub.execute_input": "2022-09-29T06:58:14.428097Z",
     "iopub.status.busy": "2022-09-29T06:58:14.427679Z",
     "iopub.status.idle": "2022-09-29T06:58:14.435381Z",
     "shell.execute_reply": "2022-09-29T06:58:14.434314Z"
    },
    "papermill": {
     "duration": 0.013706,
     "end_time": "2022-09-29T06:58:14.437849",
     "exception": false,
     "start_time": "2022-09-29T06:58:14.424143",
     "status": "completed"
    },
    "tags": []
   },
   "outputs": [],
   "source": [
    "class CFG(object):\n",
    "    def __init__(self,\n",
    "                 seed: int = 42,\n",
    "                 n_splits: int = 5,\n",
    "                 show_info: bool = False,\n",
    "                 ):\n",
    "\n",
    "        self.seed = seed\n",
    "        self.n_splits = n_splits\n",
    "        self.show_info = show_info\n",
    "        self.features_path = \"../input/4actrsfsna384\"\n",
    "        self.model_save_path = \"models\"\n",
    "        if not os.path.exists(self.model_save_path): os.makedirs(self.model_save_path)\n",
    "\n",
    "cfg = CFG(seed=42, show_info=True)"
   ]
  },
  {
   "cell_type": "code",
   "execution_count": 4,
   "id": "fd1ae438",
   "metadata": {
    "execution": {
     "iopub.execute_input": "2022-09-29T06:58:14.444727Z",
     "iopub.status.busy": "2022-09-29T06:58:14.444321Z",
     "iopub.status.idle": "2022-09-29T06:58:14.457659Z",
     "shell.execute_reply": "2022-09-29T06:58:14.456246Z"
    },
    "papermill": {
     "duration": 0.019948,
     "end_time": "2022-09-29T06:58:14.460303",
     "exception": false,
     "start_time": "2022-09-29T06:58:14.440355",
     "status": "completed"
    },
    "tags": []
   },
   "outputs": [],
   "source": [
    "class Pipelines(object):\n",
    "    def __init__(self, model_name: str, seed: int):\n",
    "        self.model_name = model_name\n",
    "\n",
    "        if self.model_name == \"lgr\":\n",
    "            self.model = Pipeline(\n",
    "                steps=[\n",
    "                    (\"classifier\", LogisticRegression(random_state=seed, max_iter=1000)),\n",
    "                ]\n",
    "            )\n",
    "        \n",
    "        elif self.model_name == \"knc\":\n",
    "            self.model = Pipeline(\n",
    "                steps=[\n",
    "                    (\"classifier\", KNeighborsClassifier()),\n",
    "                ]\n",
    "            )\n",
    "\n",
    "        \n",
    "        elif self.model_name == \"dtc\":\n",
    "            self.model = Pipeline(\n",
    "                steps=[\n",
    "                    (\"classifier\", DecisionTreeClassifier(random_state=seed)),\n",
    "                ]\n",
    "            )\n",
    "\n",
    "        elif self.model_name == \"etc\":\n",
    "            self.model = Pipeline(\n",
    "                steps=[\n",
    "                    (\"classifier\", ExtraTreeClassifier(random_state=seed)),\n",
    "                ]\n",
    "            )\n",
    "        \n",
    "        elif self.model_name == \"rfc\":\n",
    "            self.model = Pipeline(\n",
    "                steps=[\n",
    "                    (\"classifier\", RandomForestClassifier(random_state=seed)),\n",
    "                ]\n",
    "            )\n",
    "        \n",
    "        elif self.model_name == \"gbc\":\n",
    "            self.model = Pipeline(\n",
    "                steps=[\n",
    "                    (\"classifier\", GradientBoostingClassifier(random_state=seed)),\n",
    "                ]\n",
    "            )\n",
    "        \n",
    "        elif self.model_name == \"abc\":\n",
    "            self.model = Pipeline(\n",
    "                steps=[\n",
    "                    (\"classifier\", AdaBoostClassifier(random_state=seed)),\n",
    "                ]\n",
    "            )\n",
    "        \n",
    "        elif self.model_name == \"etcs\":\n",
    "            self.model = Pipeline(\n",
    "                steps=[\n",
    "                    (\"classifier\", ExtraTreesClassifier(random_state=seed)),\n",
    "                ]\n",
    "            )\n",
    "        \n",
    "        elif self.model_name == \"gnb\":\n",
    "            self.model = Pipeline(\n",
    "                steps=[\n",
    "                    (\"classifier\", GaussianNB()),\n",
    "                ]\n",
    "            )\n",
    "        \n",
    "        elif self.model_name == \"xgb\":\n",
    "            self.model = Pipeline(\n",
    "                steps=[\n",
    "                    (\"classifier\", XGBClassifier(random_state=seed)),\n",
    "                ]\n",
    "            )"
   ]
  },
  {
   "cell_type": "code",
   "execution_count": 5,
   "id": "b8d65bd3",
   "metadata": {
    "execution": {
     "iopub.execute_input": "2022-09-29T06:58:14.467412Z",
     "iopub.status.busy": "2022-09-29T06:58:14.467022Z",
     "iopub.status.idle": "2022-09-29T08:05:10.367027Z",
     "shell.execute_reply": "2022-09-29T08:05:10.364905Z"
    },
    "papermill": {
     "duration": 4015.921801,
     "end_time": "2022-09-29T08:05:10.384892",
     "exception": false,
     "start_time": "2022-09-29T06:58:14.463091",
     "status": "completed"
    },
    "tags": []
   },
   "outputs": [
    {
     "name": "stdout",
     "output_type": "stream",
     "text": [
      "\n",
      "**************************************************\n",
      "\n",
      "Class 0 count : 902\n",
      "Class 1 count : 733\n",
      "Class 2 count : 1130\n",
      "Class 3 count : 764\n",
      "\n",
      "**************************************************\n",
      "\n",
      "SWIN_BASE_PATCH4_WINDOW12_384_IN22K\n",
      "\n",
      "**************************************************\n",
      "\n",
      "lgr, 1, Accuracy : 0.99575\n",
      "lgr, 2, Accuracy : 0.99717\n",
      "lgr, 3, Accuracy : 0.99717\n",
      "lgr, 4, Accuracy : 0.99717\n",
      "lgr, 5, Accuracy : 0.99433\n",
      "\n",
      "Best : swin_base_patch4_window12_384_in22k_lgr_2\n",
      "\n",
      "**************************************************\n",
      "\n",
      "knc, 1, Accuracy : 0.99433\n",
      "knc, 2, Accuracy : 0.99433\n",
      "knc, 3, Accuracy : 0.99292\n",
      "knc, 4, Accuracy : 0.99858\n",
      "knc, 5, Accuracy : 0.98865\n",
      "\n",
      "Best : swin_base_patch4_window12_384_in22k_knc_4\n",
      "\n",
      "**************************************************\n",
      "\n",
      "rfc, 1, Accuracy : 0.99292\n",
      "rfc, 2, Accuracy : 0.99008\n",
      "rfc, 3, Accuracy : 0.99008\n",
      "rfc, 4, Accuracy : 0.99575\n",
      "rfc, 5, Accuracy : 0.98298\n",
      "\n",
      "Best : swin_base_patch4_window12_384_in22k_rfc_4\n",
      "\n",
      "**************************************************\n",
      "\n",
      "xgb, 1, Accuracy : 0.98867\n",
      "xgb, 2, Accuracy : 0.99008\n",
      "xgb, 3, Accuracy : 0.98867\n",
      "xgb, 4, Accuracy : 0.99433\n",
      "xgb, 5, Accuracy : 0.98298\n",
      "\n",
      "Best : swin_base_patch4_window12_384_in22k_xgb_4\n",
      "\n",
      "**************************************************\n",
      "\n",
      "SWIN_LARGE_PATCH4_WINDOW12_384_IN22K\n",
      "\n",
      "**************************************************\n",
      "\n",
      "lgr, 1, Accuracy : 0.99575\n",
      "lgr, 2, Accuracy : 1.00000\n",
      "lgr, 3, Accuracy : 0.99292\n",
      "lgr, 4, Accuracy : 0.99575\n",
      "lgr, 5, Accuracy : 0.99433\n",
      "\n",
      "Best : swin_large_patch4_window12_384_in22k_lgr_2\n",
      "\n",
      "**************************************************\n",
      "\n",
      "knc, 1, Accuracy : 0.99292\n",
      "knc, 2, Accuracy : 0.99433\n",
      "knc, 3, Accuracy : 0.99008\n",
      "knc, 4, Accuracy : 0.99292\n",
      "knc, 5, Accuracy : 0.99007\n",
      "\n",
      "Best : swin_large_patch4_window12_384_in22k_knc_2\n",
      "\n",
      "**************************************************\n",
      "\n",
      "rfc, 1, Accuracy : 0.99433\n",
      "rfc, 2, Accuracy : 0.99150\n",
      "rfc, 3, Accuracy : 0.99008\n",
      "rfc, 4, Accuracy : 0.99292\n",
      "rfc, 5, Accuracy : 0.99149\n",
      "\n",
      "Best : swin_large_patch4_window12_384_in22k_rfc_1\n",
      "\n",
      "**************************************************\n",
      "\n",
      "xgb, 1, Accuracy : 0.99292\n",
      "xgb, 2, Accuracy : 0.99292\n",
      "xgb, 3, Accuracy : 0.99150\n",
      "xgb, 4, Accuracy : 0.99433\n",
      "xgb, 5, Accuracy : 0.98723\n",
      "\n",
      "Best : swin_large_patch4_window12_384_in22k_xgb_4\n",
      "\n",
      "**************************************************\n",
      "\n",
      "VIT_BASE_PATCH16_384\n",
      "\n",
      "**************************************************\n",
      "\n"
     ]
    },
    {
     "name": "stderr",
     "output_type": "stream",
     "text": [
      "/opt/conda/lib/python3.7/site-packages/sklearn/linear_model/_logistic.py:818: ConvergenceWarning: lbfgs failed to converge (status=1):\n",
      "STOP: TOTAL NO. of ITERATIONS REACHED LIMIT.\n",
      "\n",
      "Increase the number of iterations (max_iter) or scale the data as shown in:\n",
      "    https://scikit-learn.org/stable/modules/preprocessing.html\n",
      "Please also refer to the documentation for alternative solver options:\n",
      "    https://scikit-learn.org/stable/modules/linear_model.html#logistic-regression\n",
      "  extra_warning_msg=_LOGISTIC_SOLVER_CONVERGENCE_MSG,\n"
     ]
    },
    {
     "name": "stdout",
     "output_type": "stream",
     "text": [
      "lgr, 1, Accuracy : 0.57082\n"
     ]
    },
    {
     "name": "stderr",
     "output_type": "stream",
     "text": [
      "/opt/conda/lib/python3.7/site-packages/sklearn/linear_model/_logistic.py:818: ConvergenceWarning: lbfgs failed to converge (status=1):\n",
      "STOP: TOTAL NO. of ITERATIONS REACHED LIMIT.\n",
      "\n",
      "Increase the number of iterations (max_iter) or scale the data as shown in:\n",
      "    https://scikit-learn.org/stable/modules/preprocessing.html\n",
      "Please also refer to the documentation for alternative solver options:\n",
      "    https://scikit-learn.org/stable/modules/linear_model.html#logistic-regression\n",
      "  extra_warning_msg=_LOGISTIC_SOLVER_CONVERGENCE_MSG,\n"
     ]
    },
    {
     "name": "stdout",
     "output_type": "stream",
     "text": [
      "lgr, 2, Accuracy : 0.53966\n"
     ]
    },
    {
     "name": "stderr",
     "output_type": "stream",
     "text": [
      "/opt/conda/lib/python3.7/site-packages/sklearn/linear_model/_logistic.py:818: ConvergenceWarning: lbfgs failed to converge (status=1):\n",
      "STOP: TOTAL NO. of ITERATIONS REACHED LIMIT.\n",
      "\n",
      "Increase the number of iterations (max_iter) or scale the data as shown in:\n",
      "    https://scikit-learn.org/stable/modules/preprocessing.html\n",
      "Please also refer to the documentation for alternative solver options:\n",
      "    https://scikit-learn.org/stable/modules/linear_model.html#logistic-regression\n",
      "  extra_warning_msg=_LOGISTIC_SOLVER_CONVERGENCE_MSG,\n"
     ]
    },
    {
     "name": "stdout",
     "output_type": "stream",
     "text": [
      "lgr, 3, Accuracy : 0.58782\n"
     ]
    },
    {
     "name": "stderr",
     "output_type": "stream",
     "text": [
      "/opt/conda/lib/python3.7/site-packages/sklearn/linear_model/_logistic.py:818: ConvergenceWarning: lbfgs failed to converge (status=1):\n",
      "STOP: TOTAL NO. of ITERATIONS REACHED LIMIT.\n",
      "\n",
      "Increase the number of iterations (max_iter) or scale the data as shown in:\n",
      "    https://scikit-learn.org/stable/modules/preprocessing.html\n",
      "Please also refer to the documentation for alternative solver options:\n",
      "    https://scikit-learn.org/stable/modules/linear_model.html#logistic-regression\n",
      "  extra_warning_msg=_LOGISTIC_SOLVER_CONVERGENCE_MSG,\n"
     ]
    },
    {
     "name": "stdout",
     "output_type": "stream",
     "text": [
      "lgr, 4, Accuracy : 0.52691\n"
     ]
    },
    {
     "name": "stderr",
     "output_type": "stream",
     "text": [
      "/opt/conda/lib/python3.7/site-packages/sklearn/linear_model/_logistic.py:818: ConvergenceWarning: lbfgs failed to converge (status=1):\n",
      "STOP: TOTAL NO. of ITERATIONS REACHED LIMIT.\n",
      "\n",
      "Increase the number of iterations (max_iter) or scale the data as shown in:\n",
      "    https://scikit-learn.org/stable/modules/preprocessing.html\n",
      "Please also refer to the documentation for alternative solver options:\n",
      "    https://scikit-learn.org/stable/modules/linear_model.html#logistic-regression\n",
      "  extra_warning_msg=_LOGISTIC_SOLVER_CONVERGENCE_MSG,\n"
     ]
    },
    {
     "name": "stdout",
     "output_type": "stream",
     "text": [
      "lgr, 5, Accuracy : 0.52766\n",
      "\n",
      "Best : vit_base_patch16_384_lgr_3\n",
      "\n",
      "**************************************************\n",
      "\n",
      "knc, 1, Accuracy : 0.52408\n",
      "knc, 2, Accuracy : 0.46742\n",
      "knc, 3, Accuracy : 0.50425\n",
      "knc, 4, Accuracy : 0.44193\n",
      "knc, 5, Accuracy : 0.49787\n",
      "\n",
      "Best : vit_base_patch16_384_knc_1\n",
      "\n",
      "**************************************************\n",
      "\n",
      "rfc, 1, Accuracy : 0.53824\n",
      "rfc, 2, Accuracy : 0.48017\n",
      "rfc, 3, Accuracy : 0.47875\n",
      "rfc, 4, Accuracy : 0.48867\n",
      "rfc, 5, Accuracy : 0.50638\n",
      "\n",
      "Best : vit_base_patch16_384_rfc_1\n",
      "\n",
      "**************************************************\n",
      "\n",
      "xgb, 1, Accuracy : 0.58924\n",
      "xgb, 2, Accuracy : 0.53683\n",
      "xgb, 3, Accuracy : 0.54674\n",
      "xgb, 4, Accuracy : 0.57649\n",
      "xgb, 5, Accuracy : 0.55461\n",
      "\n",
      "Best : vit_base_patch16_384_xgb_1\n",
      "\n",
      "**************************************************\n",
      "\n",
      "VIT_BASE_PATCH32_384\n",
      "\n",
      "**************************************************\n",
      "\n"
     ]
    },
    {
     "name": "stderr",
     "output_type": "stream",
     "text": [
      "/opt/conda/lib/python3.7/site-packages/sklearn/linear_model/_logistic.py:818: ConvergenceWarning: lbfgs failed to converge (status=1):\n",
      "STOP: TOTAL NO. of ITERATIONS REACHED LIMIT.\n",
      "\n",
      "Increase the number of iterations (max_iter) or scale the data as shown in:\n",
      "    https://scikit-learn.org/stable/modules/preprocessing.html\n",
      "Please also refer to the documentation for alternative solver options:\n",
      "    https://scikit-learn.org/stable/modules/linear_model.html#logistic-regression\n",
      "  extra_warning_msg=_LOGISTIC_SOLVER_CONVERGENCE_MSG,\n"
     ]
    },
    {
     "name": "stdout",
     "output_type": "stream",
     "text": [
      "lgr, 1, Accuracy : 0.76487\n"
     ]
    },
    {
     "name": "stderr",
     "output_type": "stream",
     "text": [
      "/opt/conda/lib/python3.7/site-packages/sklearn/linear_model/_logistic.py:818: ConvergenceWarning: lbfgs failed to converge (status=1):\n",
      "STOP: TOTAL NO. of ITERATIONS REACHED LIMIT.\n",
      "\n",
      "Increase the number of iterations (max_iter) or scale the data as shown in:\n",
      "    https://scikit-learn.org/stable/modules/preprocessing.html\n",
      "Please also refer to the documentation for alternative solver options:\n",
      "    https://scikit-learn.org/stable/modules/linear_model.html#logistic-regression\n",
      "  extra_warning_msg=_LOGISTIC_SOLVER_CONVERGENCE_MSG,\n"
     ]
    },
    {
     "name": "stdout",
     "output_type": "stream",
     "text": [
      "lgr, 2, Accuracy : 0.73371\n",
      "lgr, 3, Accuracy : 0.74504\n",
      "lgr, 4, Accuracy : 0.73796\n",
      "lgr, 5, Accuracy : 0.73333\n",
      "\n",
      "Best : vit_base_patch32_384_lgr_1\n",
      "\n",
      "**************************************************\n",
      "\n",
      "knc, 1, Accuracy : 0.64589\n",
      "knc, 2, Accuracy : 0.61615\n",
      "knc, 3, Accuracy : 0.60198\n",
      "knc, 4, Accuracy : 0.62181\n",
      "knc, 5, Accuracy : 0.64681\n",
      "\n",
      "Best : vit_base_patch32_384_knc_5\n",
      "\n",
      "**************************************************\n",
      "\n",
      "rfc, 1, Accuracy : 0.68414\n",
      "rfc, 2, Accuracy : 0.66006\n",
      "rfc, 3, Accuracy : 0.65581\n",
      "rfc, 4, Accuracy : 0.64306\n",
      "rfc, 5, Accuracy : 0.65957\n",
      "\n",
      "Best : vit_base_patch32_384_rfc_1\n",
      "\n",
      "**************************************************\n",
      "\n",
      "xgb, 1, Accuracy : 0.75496\n",
      "xgb, 2, Accuracy : 0.70397\n",
      "xgb, 3, Accuracy : 0.73088\n",
      "xgb, 4, Accuracy : 0.68980\n",
      "xgb, 5, Accuracy : 0.72624\n",
      "\n",
      "Best : vit_base_patch32_384_xgb_1\n",
      "\n",
      "**************************************************\n",
      "\n",
      "VIT_LARGE_PATCH16_384\n",
      "\n",
      "**************************************************\n",
      "\n"
     ]
    },
    {
     "name": "stderr",
     "output_type": "stream",
     "text": [
      "/opt/conda/lib/python3.7/site-packages/sklearn/linear_model/_logistic.py:818: ConvergenceWarning: lbfgs failed to converge (status=1):\n",
      "STOP: TOTAL NO. of ITERATIONS REACHED LIMIT.\n",
      "\n",
      "Increase the number of iterations (max_iter) or scale the data as shown in:\n",
      "    https://scikit-learn.org/stable/modules/preprocessing.html\n",
      "Please also refer to the documentation for alternative solver options:\n",
      "    https://scikit-learn.org/stable/modules/linear_model.html#logistic-regression\n",
      "  extra_warning_msg=_LOGISTIC_SOLVER_CONVERGENCE_MSG,\n"
     ]
    },
    {
     "name": "stdout",
     "output_type": "stream",
     "text": [
      "lgr, 1, Accuracy : 0.65014\n"
     ]
    },
    {
     "name": "stderr",
     "output_type": "stream",
     "text": [
      "/opt/conda/lib/python3.7/site-packages/sklearn/linear_model/_logistic.py:818: ConvergenceWarning: lbfgs failed to converge (status=1):\n",
      "STOP: TOTAL NO. of ITERATIONS REACHED LIMIT.\n",
      "\n",
      "Increase the number of iterations (max_iter) or scale the data as shown in:\n",
      "    https://scikit-learn.org/stable/modules/preprocessing.html\n",
      "Please also refer to the documentation for alternative solver options:\n",
      "    https://scikit-learn.org/stable/modules/linear_model.html#logistic-regression\n",
      "  extra_warning_msg=_LOGISTIC_SOLVER_CONVERGENCE_MSG,\n"
     ]
    },
    {
     "name": "stdout",
     "output_type": "stream",
     "text": [
      "lgr, 2, Accuracy : 0.58924\n"
     ]
    },
    {
     "name": "stderr",
     "output_type": "stream",
     "text": [
      "/opt/conda/lib/python3.7/site-packages/sklearn/linear_model/_logistic.py:818: ConvergenceWarning: lbfgs failed to converge (status=1):\n",
      "STOP: TOTAL NO. of ITERATIONS REACHED LIMIT.\n",
      "\n",
      "Increase the number of iterations (max_iter) or scale the data as shown in:\n",
      "    https://scikit-learn.org/stable/modules/preprocessing.html\n",
      "Please also refer to the documentation for alternative solver options:\n",
      "    https://scikit-learn.org/stable/modules/linear_model.html#logistic-regression\n",
      "  extra_warning_msg=_LOGISTIC_SOLVER_CONVERGENCE_MSG,\n"
     ]
    },
    {
     "name": "stdout",
     "output_type": "stream",
     "text": [
      "lgr, 3, Accuracy : 0.62748\n"
     ]
    },
    {
     "name": "stderr",
     "output_type": "stream",
     "text": [
      "/opt/conda/lib/python3.7/site-packages/sklearn/linear_model/_logistic.py:818: ConvergenceWarning: lbfgs failed to converge (status=1):\n",
      "STOP: TOTAL NO. of ITERATIONS REACHED LIMIT.\n",
      "\n",
      "Increase the number of iterations (max_iter) or scale the data as shown in:\n",
      "    https://scikit-learn.org/stable/modules/preprocessing.html\n",
      "Please also refer to the documentation for alternative solver options:\n",
      "    https://scikit-learn.org/stable/modules/linear_model.html#logistic-regression\n",
      "  extra_warning_msg=_LOGISTIC_SOLVER_CONVERGENCE_MSG,\n"
     ]
    },
    {
     "name": "stdout",
     "output_type": "stream",
     "text": [
      "lgr, 4, Accuracy : 0.61190\n"
     ]
    },
    {
     "name": "stderr",
     "output_type": "stream",
     "text": [
      "/opt/conda/lib/python3.7/site-packages/sklearn/linear_model/_logistic.py:818: ConvergenceWarning: lbfgs failed to converge (status=1):\n",
      "STOP: TOTAL NO. of ITERATIONS REACHED LIMIT.\n",
      "\n",
      "Increase the number of iterations (max_iter) or scale the data as shown in:\n",
      "    https://scikit-learn.org/stable/modules/preprocessing.html\n",
      "Please also refer to the documentation for alternative solver options:\n",
      "    https://scikit-learn.org/stable/modules/linear_model.html#logistic-regression\n",
      "  extra_warning_msg=_LOGISTIC_SOLVER_CONVERGENCE_MSG,\n"
     ]
    },
    {
     "name": "stdout",
     "output_type": "stream",
     "text": [
      "lgr, 5, Accuracy : 0.63404\n",
      "\n",
      "Best : vit_large_patch16_384_lgr_1\n",
      "\n",
      "**************************************************\n",
      "\n",
      "knc, 1, Accuracy : 0.46459\n",
      "knc, 2, Accuracy : 0.41360\n",
      "knc, 3, Accuracy : 0.45467\n",
      "knc, 4, Accuracy : 0.44334\n",
      "knc, 5, Accuracy : 0.47092\n",
      "\n",
      "Best : vit_large_patch16_384_knc_5\n",
      "\n",
      "**************************************************\n",
      "\n",
      "rfc, 1, Accuracy : 0.48725\n",
      "rfc, 2, Accuracy : 0.46317\n",
      "rfc, 3, Accuracy : 0.48867\n",
      "rfc, 4, Accuracy : 0.45184\n",
      "rfc, 5, Accuracy : 0.51489\n",
      "\n",
      "Best : vit_large_patch16_384_rfc_5\n",
      "\n",
      "**************************************************\n",
      "\n",
      "xgb, 1, Accuracy : 0.59632\n",
      "xgb, 2, Accuracy : 0.53824\n",
      "xgb, 3, Accuracy : 0.56516\n",
      "xgb, 4, Accuracy : 0.53116\n",
      "xgb, 5, Accuracy : 0.61135\n",
      "\n",
      "Best : vit_large_patch16_384_xgb_5\n",
      "\n",
      "**************************************************\n",
      "\n",
      "VIT_LARGE_PATCH32_384\n",
      "\n",
      "**************************************************\n",
      "\n",
      "lgr, 1, Accuracy : 0.92493\n",
      "lgr, 2, Accuracy : 0.90368\n",
      "lgr, 3, Accuracy : 0.89660\n",
      "lgr, 4, Accuracy : 0.88952\n",
      "lgr, 5, Accuracy : 0.88227\n",
      "\n",
      "Best : vit_large_patch32_384_lgr_1\n",
      "\n",
      "**************************************************\n",
      "\n",
      "knc, 1, Accuracy : 0.80878\n",
      "knc, 2, Accuracy : 0.80878\n",
      "knc, 3, Accuracy : 0.80453\n",
      "knc, 4, Accuracy : 0.78895\n",
      "knc, 5, Accuracy : 0.78865\n",
      "\n",
      "Best : vit_large_patch32_384_knc_1\n",
      "\n",
      "**************************************************\n",
      "\n",
      "rfc, 1, Accuracy : 0.86261\n",
      "rfc, 2, Accuracy : 0.84561\n",
      "rfc, 3, Accuracy : 0.83711\n",
      "rfc, 4, Accuracy : 0.83428\n",
      "rfc, 5, Accuracy : 0.83972\n",
      "\n",
      "Best : vit_large_patch32_384_rfc_1\n",
      "\n",
      "**************************************************\n",
      "\n",
      "xgb, 1, Accuracy : 0.89518\n",
      "xgb, 2, Accuracy : 0.87677\n",
      "xgb, 3, Accuracy : 0.88527\n",
      "xgb, 4, Accuracy : 0.88102\n",
      "xgb, 5, Accuracy : 0.88794\n",
      "\n",
      "Best : vit_large_patch32_384_xgb_1\n",
      "\n",
      "**************************************************\n",
      "\n",
      "DEIT3_BASE_PATCH16_384_IN21FT1K\n",
      "\n",
      "**************************************************\n",
      "\n"
     ]
    },
    {
     "name": "stderr",
     "output_type": "stream",
     "text": [
      "/opt/conda/lib/python3.7/site-packages/sklearn/linear_model/_logistic.py:818: ConvergenceWarning: lbfgs failed to converge (status=1):\n",
      "STOP: TOTAL NO. of ITERATIONS REACHED LIMIT.\n",
      "\n",
      "Increase the number of iterations (max_iter) or scale the data as shown in:\n",
      "    https://scikit-learn.org/stable/modules/preprocessing.html\n",
      "Please also refer to the documentation for alternative solver options:\n",
      "    https://scikit-learn.org/stable/modules/linear_model.html#logistic-regression\n",
      "  extra_warning_msg=_LOGISTIC_SOLVER_CONVERGENCE_MSG,\n"
     ]
    },
    {
     "name": "stdout",
     "output_type": "stream",
     "text": [
      "lgr, 1, Accuracy : 0.62181\n"
     ]
    },
    {
     "name": "stderr",
     "output_type": "stream",
     "text": [
      "/opt/conda/lib/python3.7/site-packages/sklearn/linear_model/_logistic.py:818: ConvergenceWarning: lbfgs failed to converge (status=1):\n",
      "STOP: TOTAL NO. of ITERATIONS REACHED LIMIT.\n",
      "\n",
      "Increase the number of iterations (max_iter) or scale the data as shown in:\n",
      "    https://scikit-learn.org/stable/modules/preprocessing.html\n",
      "Please also refer to the documentation for alternative solver options:\n",
      "    https://scikit-learn.org/stable/modules/linear_model.html#logistic-regression\n",
      "  extra_warning_msg=_LOGISTIC_SOLVER_CONVERGENCE_MSG,\n"
     ]
    },
    {
     "name": "stdout",
     "output_type": "stream",
     "text": [
      "lgr, 2, Accuracy : 0.58074\n"
     ]
    },
    {
     "name": "stderr",
     "output_type": "stream",
     "text": [
      "/opt/conda/lib/python3.7/site-packages/sklearn/linear_model/_logistic.py:818: ConvergenceWarning: lbfgs failed to converge (status=1):\n",
      "STOP: TOTAL NO. of ITERATIONS REACHED LIMIT.\n",
      "\n",
      "Increase the number of iterations (max_iter) or scale the data as shown in:\n",
      "    https://scikit-learn.org/stable/modules/preprocessing.html\n",
      "Please also refer to the documentation for alternative solver options:\n",
      "    https://scikit-learn.org/stable/modules/linear_model.html#logistic-regression\n",
      "  extra_warning_msg=_LOGISTIC_SOLVER_CONVERGENCE_MSG,\n"
     ]
    },
    {
     "name": "stdout",
     "output_type": "stream",
     "text": [
      "lgr, 3, Accuracy : 0.57224\n"
     ]
    },
    {
     "name": "stderr",
     "output_type": "stream",
     "text": [
      "/opt/conda/lib/python3.7/site-packages/sklearn/linear_model/_logistic.py:818: ConvergenceWarning: lbfgs failed to converge (status=1):\n",
      "STOP: TOTAL NO. of ITERATIONS REACHED LIMIT.\n",
      "\n",
      "Increase the number of iterations (max_iter) or scale the data as shown in:\n",
      "    https://scikit-learn.org/stable/modules/preprocessing.html\n",
      "Please also refer to the documentation for alternative solver options:\n",
      "    https://scikit-learn.org/stable/modules/linear_model.html#logistic-regression\n",
      "  extra_warning_msg=_LOGISTIC_SOLVER_CONVERGENCE_MSG,\n"
     ]
    },
    {
     "name": "stdout",
     "output_type": "stream",
     "text": [
      "lgr, 4, Accuracy : 0.61898\n"
     ]
    },
    {
     "name": "stderr",
     "output_type": "stream",
     "text": [
      "/opt/conda/lib/python3.7/site-packages/sklearn/linear_model/_logistic.py:818: ConvergenceWarning: lbfgs failed to converge (status=1):\n",
      "STOP: TOTAL NO. of ITERATIONS REACHED LIMIT.\n",
      "\n",
      "Increase the number of iterations (max_iter) or scale the data as shown in:\n",
      "    https://scikit-learn.org/stable/modules/preprocessing.html\n",
      "Please also refer to the documentation for alternative solver options:\n",
      "    https://scikit-learn.org/stable/modules/linear_model.html#logistic-regression\n",
      "  extra_warning_msg=_LOGISTIC_SOLVER_CONVERGENCE_MSG,\n"
     ]
    },
    {
     "name": "stdout",
     "output_type": "stream",
     "text": [
      "lgr, 5, Accuracy : 0.63121\n",
      "\n",
      "Best : deit3_base_patch16_384_in21ft1k_lgr_5\n",
      "\n",
      "**************************************************\n",
      "\n",
      "knc, 1, Accuracy : 0.55099\n",
      "knc, 2, Accuracy : 0.54108\n",
      "knc, 3, Accuracy : 0.55382\n",
      "knc, 4, Accuracy : 0.55807\n",
      "knc, 5, Accuracy : 0.57872\n",
      "\n",
      "Best : deit3_base_patch16_384_in21ft1k_knc_5\n",
      "\n",
      "**************************************************\n",
      "\n",
      "rfc, 1, Accuracy : 0.55807\n",
      "rfc, 2, Accuracy : 0.53541\n",
      "rfc, 3, Accuracy : 0.60198\n",
      "rfc, 4, Accuracy : 0.54674\n",
      "rfc, 5, Accuracy : 0.58298\n",
      "\n",
      "Best : deit3_base_patch16_384_in21ft1k_rfc_3\n",
      "\n",
      "**************************************************\n",
      "\n",
      "xgb, 1, Accuracy : 0.64873\n",
      "xgb, 2, Accuracy : 0.58499\n",
      "xgb, 3, Accuracy : 0.65156\n",
      "xgb, 4, Accuracy : 0.61331\n",
      "xgb, 5, Accuracy : 0.64255\n",
      "\n",
      "Best : deit3_base_patch16_384_in21ft1k_xgb_3\n",
      "\n",
      "**************************************************\n",
      "\n",
      "DEIT3_LARGE_PATCH16_384_IN21FT1K\n",
      "\n",
      "**************************************************\n",
      "\n"
     ]
    },
    {
     "name": "stderr",
     "output_type": "stream",
     "text": [
      "/opt/conda/lib/python3.7/site-packages/sklearn/linear_model/_logistic.py:818: ConvergenceWarning: lbfgs failed to converge (status=1):\n",
      "STOP: TOTAL NO. of ITERATIONS REACHED LIMIT.\n",
      "\n",
      "Increase the number of iterations (max_iter) or scale the data as shown in:\n",
      "    https://scikit-learn.org/stable/modules/preprocessing.html\n",
      "Please also refer to the documentation for alternative solver options:\n",
      "    https://scikit-learn.org/stable/modules/linear_model.html#logistic-regression\n",
      "  extra_warning_msg=_LOGISTIC_SOLVER_CONVERGENCE_MSG,\n"
     ]
    },
    {
     "name": "stdout",
     "output_type": "stream",
     "text": [
      "lgr, 1, Accuracy : 0.66147\n",
      "lgr, 2, Accuracy : 0.64873\n"
     ]
    },
    {
     "name": "stderr",
     "output_type": "stream",
     "text": [
      "/opt/conda/lib/python3.7/site-packages/sklearn/linear_model/_logistic.py:818: ConvergenceWarning: lbfgs failed to converge (status=1):\n",
      "STOP: TOTAL NO. of ITERATIONS REACHED LIMIT.\n",
      "\n",
      "Increase the number of iterations (max_iter) or scale the data as shown in:\n",
      "    https://scikit-learn.org/stable/modules/preprocessing.html\n",
      "Please also refer to the documentation for alternative solver options:\n",
      "    https://scikit-learn.org/stable/modules/linear_model.html#logistic-regression\n",
      "  extra_warning_msg=_LOGISTIC_SOLVER_CONVERGENCE_MSG,\n"
     ]
    },
    {
     "name": "stdout",
     "output_type": "stream",
     "text": [
      "lgr, 3, Accuracy : 0.61615\n"
     ]
    },
    {
     "name": "stderr",
     "output_type": "stream",
     "text": [
      "/opt/conda/lib/python3.7/site-packages/sklearn/linear_model/_logistic.py:818: ConvergenceWarning: lbfgs failed to converge (status=1):\n",
      "STOP: TOTAL NO. of ITERATIONS REACHED LIMIT.\n",
      "\n",
      "Increase the number of iterations (max_iter) or scale the data as shown in:\n",
      "    https://scikit-learn.org/stable/modules/preprocessing.html\n",
      "Please also refer to the documentation for alternative solver options:\n",
      "    https://scikit-learn.org/stable/modules/linear_model.html#logistic-regression\n",
      "  extra_warning_msg=_LOGISTIC_SOLVER_CONVERGENCE_MSG,\n"
     ]
    },
    {
     "name": "stdout",
     "output_type": "stream",
     "text": [
      "lgr, 4, Accuracy : 0.64023\n",
      "lgr, 5, Accuracy : 0.63972\n",
      "\n",
      "Best : deit3_large_patch16_384_in21ft1k_lgr_1\n",
      "\n",
      "**************************************************\n",
      "\n",
      "knc, 1, Accuracy : 0.40510\n",
      "knc, 2, Accuracy : 0.39943\n",
      "knc, 3, Accuracy : 0.41501\n",
      "knc, 4, Accuracy : 0.39377\n",
      "knc, 5, Accuracy : 0.43121\n",
      "\n",
      "Best : deit3_large_patch16_384_in21ft1k_knc_5\n",
      "\n",
      "**************************************************\n",
      "\n",
      "rfc, 1, Accuracy : 0.52975\n",
      "rfc, 2, Accuracy : 0.48725\n",
      "rfc, 3, Accuracy : 0.47734\n",
      "rfc, 4, Accuracy : 0.48442\n",
      "rfc, 5, Accuracy : 0.46525\n",
      "\n",
      "Best : deit3_large_patch16_384_in21ft1k_rfc_1\n",
      "\n",
      "**************************************************\n",
      "\n",
      "xgb, 1, Accuracy : 0.64306\n",
      "xgb, 2, Accuracy : 0.61190\n",
      "xgb, 3, Accuracy : 0.60482\n",
      "xgb, 4, Accuracy : 0.58215\n",
      "xgb, 5, Accuracy : 0.60142\n",
      "\n",
      "Best : deit3_large_patch16_384_in21ft1k_xgb_1\n",
      "\n",
      "**************************************************\n",
      "\n",
      "DEIT3_SMALL_PATCH16_384_IN21FT1K\n",
      "\n",
      "**************************************************\n",
      "\n",
      "lgr, 1, Accuracy : 0.45184\n"
     ]
    },
    {
     "name": "stderr",
     "output_type": "stream",
     "text": [
      "/opt/conda/lib/python3.7/site-packages/sklearn/linear_model/_logistic.py:818: ConvergenceWarning: lbfgs failed to converge (status=1):\n",
      "STOP: TOTAL NO. of ITERATIONS REACHED LIMIT.\n",
      "\n",
      "Increase the number of iterations (max_iter) or scale the data as shown in:\n",
      "    https://scikit-learn.org/stable/modules/preprocessing.html\n",
      "Please also refer to the documentation for alternative solver options:\n",
      "    https://scikit-learn.org/stable/modules/linear_model.html#logistic-regression\n",
      "  extra_warning_msg=_LOGISTIC_SOLVER_CONVERGENCE_MSG,\n"
     ]
    },
    {
     "name": "stdout",
     "output_type": "stream",
     "text": [
      "lgr, 2, Accuracy : 0.42351\n"
     ]
    },
    {
     "name": "stderr",
     "output_type": "stream",
     "text": [
      "/opt/conda/lib/python3.7/site-packages/sklearn/linear_model/_logistic.py:818: ConvergenceWarning: lbfgs failed to converge (status=1):\n",
      "STOP: TOTAL NO. of ITERATIONS REACHED LIMIT.\n",
      "\n",
      "Increase the number of iterations (max_iter) or scale the data as shown in:\n",
      "    https://scikit-learn.org/stable/modules/preprocessing.html\n",
      "Please also refer to the documentation for alternative solver options:\n",
      "    https://scikit-learn.org/stable/modules/linear_model.html#logistic-regression\n",
      "  extra_warning_msg=_LOGISTIC_SOLVER_CONVERGENCE_MSG,\n"
     ]
    },
    {
     "name": "stdout",
     "output_type": "stream",
     "text": [
      "lgr, 3, Accuracy : 0.46034\n"
     ]
    },
    {
     "name": "stderr",
     "output_type": "stream",
     "text": [
      "/opt/conda/lib/python3.7/site-packages/sklearn/linear_model/_logistic.py:818: ConvergenceWarning: lbfgs failed to converge (status=1):\n",
      "STOP: TOTAL NO. of ITERATIONS REACHED LIMIT.\n",
      "\n",
      "Increase the number of iterations (max_iter) or scale the data as shown in:\n",
      "    https://scikit-learn.org/stable/modules/preprocessing.html\n",
      "Please also refer to the documentation for alternative solver options:\n",
      "    https://scikit-learn.org/stable/modules/linear_model.html#logistic-regression\n",
      "  extra_warning_msg=_LOGISTIC_SOLVER_CONVERGENCE_MSG,\n"
     ]
    },
    {
     "name": "stdout",
     "output_type": "stream",
     "text": [
      "lgr, 4, Accuracy : 0.46742\n"
     ]
    },
    {
     "name": "stderr",
     "output_type": "stream",
     "text": [
      "/opt/conda/lib/python3.7/site-packages/sklearn/linear_model/_logistic.py:818: ConvergenceWarning: lbfgs failed to converge (status=1):\n",
      "STOP: TOTAL NO. of ITERATIONS REACHED LIMIT.\n",
      "\n",
      "Increase the number of iterations (max_iter) or scale the data as shown in:\n",
      "    https://scikit-learn.org/stable/modules/preprocessing.html\n",
      "Please also refer to the documentation for alternative solver options:\n",
      "    https://scikit-learn.org/stable/modules/linear_model.html#logistic-regression\n",
      "  extra_warning_msg=_LOGISTIC_SOLVER_CONVERGENCE_MSG,\n"
     ]
    },
    {
     "name": "stdout",
     "output_type": "stream",
     "text": [
      "lgr, 5, Accuracy : 0.46099\n",
      "\n",
      "Best : deit3_small_patch16_384_in21ft1k_lgr_4\n",
      "\n",
      "**************************************************\n",
      "\n",
      "knc, 1, Accuracy : 0.41360\n",
      "knc, 2, Accuracy : 0.37110\n",
      "knc, 3, Accuracy : 0.40368\n",
      "knc, 4, Accuracy : 0.38102\n",
      "knc, 5, Accuracy : 0.39007\n",
      "\n",
      "Best : deit3_small_patch16_384_in21ft1k_knc_1\n",
      "\n",
      "**************************************************\n",
      "\n",
      "rfc, 1, Accuracy : 0.42776\n",
      "rfc, 2, Accuracy : 0.39943\n",
      "rfc, 3, Accuracy : 0.42351\n",
      "rfc, 4, Accuracy : 0.40935\n",
      "rfc, 5, Accuracy : 0.42695\n",
      "\n",
      "Best : deit3_small_patch16_384_in21ft1k_rfc_1\n",
      "\n",
      "**************************************************\n",
      "\n",
      "xgb, 1, Accuracy : 0.44901\n",
      "xgb, 2, Accuracy : 0.41785\n",
      "xgb, 3, Accuracy : 0.45751\n",
      "xgb, 4, Accuracy : 0.45326\n",
      "xgb, 5, Accuracy : 0.47234\n",
      "\n",
      "Best : deit3_small_patch16_384_in21ft1k_xgb_5\n",
      "\n",
      "**************************************************\n",
      "\n",
      "DEIT_BASE_DISTILLED_PATCH16_384\n",
      "\n",
      "**************************************************\n",
      "\n"
     ]
    },
    {
     "name": "stderr",
     "output_type": "stream",
     "text": [
      "/opt/conda/lib/python3.7/site-packages/sklearn/linear_model/_logistic.py:818: ConvergenceWarning: lbfgs failed to converge (status=1):\n",
      "STOP: TOTAL NO. of ITERATIONS REACHED LIMIT.\n",
      "\n",
      "Increase the number of iterations (max_iter) or scale the data as shown in:\n",
      "    https://scikit-learn.org/stable/modules/preprocessing.html\n",
      "Please also refer to the documentation for alternative solver options:\n",
      "    https://scikit-learn.org/stable/modules/linear_model.html#logistic-regression\n",
      "  extra_warning_msg=_LOGISTIC_SOLVER_CONVERGENCE_MSG,\n"
     ]
    },
    {
     "name": "stdout",
     "output_type": "stream",
     "text": [
      "lgr, 1, Accuracy : 0.53824\n"
     ]
    },
    {
     "name": "stderr",
     "output_type": "stream",
     "text": [
      "/opt/conda/lib/python3.7/site-packages/sklearn/linear_model/_logistic.py:818: ConvergenceWarning: lbfgs failed to converge (status=1):\n",
      "STOP: TOTAL NO. of ITERATIONS REACHED LIMIT.\n",
      "\n",
      "Increase the number of iterations (max_iter) or scale the data as shown in:\n",
      "    https://scikit-learn.org/stable/modules/preprocessing.html\n",
      "Please also refer to the documentation for alternative solver options:\n",
      "    https://scikit-learn.org/stable/modules/linear_model.html#logistic-regression\n",
      "  extra_warning_msg=_LOGISTIC_SOLVER_CONVERGENCE_MSG,\n"
     ]
    },
    {
     "name": "stdout",
     "output_type": "stream",
     "text": [
      "lgr, 2, Accuracy : 0.53116\n"
     ]
    },
    {
     "name": "stderr",
     "output_type": "stream",
     "text": [
      "/opt/conda/lib/python3.7/site-packages/sklearn/linear_model/_logistic.py:818: ConvergenceWarning: lbfgs failed to converge (status=1):\n",
      "STOP: TOTAL NO. of ITERATIONS REACHED LIMIT.\n",
      "\n",
      "Increase the number of iterations (max_iter) or scale the data as shown in:\n",
      "    https://scikit-learn.org/stable/modules/preprocessing.html\n",
      "Please also refer to the documentation for alternative solver options:\n",
      "    https://scikit-learn.org/stable/modules/linear_model.html#logistic-regression\n",
      "  extra_warning_msg=_LOGISTIC_SOLVER_CONVERGENCE_MSG,\n"
     ]
    },
    {
     "name": "stdout",
     "output_type": "stream",
     "text": [
      "lgr, 3, Accuracy : 0.54391\n"
     ]
    },
    {
     "name": "stderr",
     "output_type": "stream",
     "text": [
      "/opt/conda/lib/python3.7/site-packages/sklearn/linear_model/_logistic.py:818: ConvergenceWarning: lbfgs failed to converge (status=1):\n",
      "STOP: TOTAL NO. of ITERATIONS REACHED LIMIT.\n",
      "\n",
      "Increase the number of iterations (max_iter) or scale the data as shown in:\n",
      "    https://scikit-learn.org/stable/modules/preprocessing.html\n",
      "Please also refer to the documentation for alternative solver options:\n",
      "    https://scikit-learn.org/stable/modules/linear_model.html#logistic-regression\n",
      "  extra_warning_msg=_LOGISTIC_SOLVER_CONVERGENCE_MSG,\n"
     ]
    },
    {
     "name": "stdout",
     "output_type": "stream",
     "text": [
      "lgr, 4, Accuracy : 0.51275\n"
     ]
    },
    {
     "name": "stderr",
     "output_type": "stream",
     "text": [
      "/opt/conda/lib/python3.7/site-packages/sklearn/linear_model/_logistic.py:818: ConvergenceWarning: lbfgs failed to converge (status=1):\n",
      "STOP: TOTAL NO. of ITERATIONS REACHED LIMIT.\n",
      "\n",
      "Increase the number of iterations (max_iter) or scale the data as shown in:\n",
      "    https://scikit-learn.org/stable/modules/preprocessing.html\n",
      "Please also refer to the documentation for alternative solver options:\n",
      "    https://scikit-learn.org/stable/modules/linear_model.html#logistic-regression\n",
      "  extra_warning_msg=_LOGISTIC_SOLVER_CONVERGENCE_MSG,\n"
     ]
    },
    {
     "name": "stdout",
     "output_type": "stream",
     "text": [
      "lgr, 5, Accuracy : 0.56738\n",
      "\n",
      "Best : deit_base_distilled_patch16_384_lgr_5\n",
      "\n",
      "**************************************************\n",
      "\n",
      "knc, 1, Accuracy : 0.43909\n",
      "knc, 2, Accuracy : 0.41076\n",
      "knc, 3, Accuracy : 0.40227\n",
      "knc, 4, Accuracy : 0.39943\n",
      "knc, 5, Accuracy : 0.39149\n",
      "\n",
      "Best : deit_base_distilled_patch16_384_knc_1\n",
      "\n",
      "**************************************************\n",
      "\n",
      "rfc, 1, Accuracy : 0.47875\n",
      "rfc, 2, Accuracy : 0.45751\n",
      "rfc, 3, Accuracy : 0.45467\n",
      "rfc, 4, Accuracy : 0.46601\n",
      "rfc, 5, Accuracy : 0.46099\n",
      "\n",
      "Best : deit_base_distilled_patch16_384_rfc_1\n",
      "\n",
      "**************************************************\n",
      "\n",
      "xgb, 1, Accuracy : 0.53541\n",
      "xgb, 2, Accuracy : 0.47309\n",
      "xgb, 3, Accuracy : 0.48442\n",
      "xgb, 4, Accuracy : 0.52691\n",
      "xgb, 5, Accuracy : 0.53617\n",
      "\n",
      "Best : deit_base_distilled_patch16_384_xgb_5\n",
      "\n",
      "**************************************************\n",
      "\n",
      "Overall Best Model : swin_large_patch4_window12_384_in22k_lgr_2\n",
      "\n",
      "**************************************************\n",
      "\n"
     ]
    }
   ],
   "source": [
    "names: list = [\n",
    "    \"lgr\", \n",
    "    \"knc\", \n",
    "    \"rfc\",\n",
    "    \"xgb\"\n",
    "]\n",
    "\n",
    "model_names: list = [\n",
    "    \"swin_base_patch4_window12_384_in22k\",\n",
    "    \"swin_large_patch4_window12_384_in22k\",\n",
    "    \"vit_base_patch16_384\",\n",
    "    \"vit_base_patch32_384\",\n",
    "    \"vit_large_patch16_384\",\n",
    "    \"vit_large_patch32_384\",\n",
    "    \"deit3_base_patch16_384_in21ft1k\",\n",
    "    \"deit3_large_patch16_384_in21ft1k\",\n",
    "    \"deit3_small_patch16_384_in21ft1k\",\n",
    "    \"deit_base_distilled_patch16_384\",\n",
    "]\n",
    "\n",
    "df = pd.read_csv(\"../input/4ac-predlabel-dataframe/data.csv\")\n",
    "y = df.classes.copy().values\n",
    "\n",
    "if cfg.show_info:\n",
    "    breaker()\n",
    "    for val in set(df.classes):\n",
    "        print(f\"Class {val} count : {df[df.classes == val].shape[0]}\")\n",
    "\n",
    "overall_best_acc: float = 0.0\n",
    "\n",
    "for model_name in model_names:\n",
    "    X = np.load(os.path.join(cfg.features_path, f\"{model_name}.npy\"))\n",
    "    if cfg.show_info: \n",
    "        breaker()\n",
    "        print(f\"{model_name.upper()}\")\n",
    "    for name in names:\n",
    "        fold: int = 1\n",
    "        best_name: str = None\n",
    "        best_acc: float = 0.0\n",
    "        if cfg.show_info: breaker()\n",
    "        for tr_idx, va_idx in StratifiedKFold(n_splits=cfg.n_splits, random_state=cfg.seed, shuffle=True).split(X, y):\n",
    "            X_train, X_valid, y_train, y_valid = X[tr_idx], X[va_idx], y[tr_idx], y[va_idx]\n",
    "            my_pipeline = Pipelines(name, cfg.seed)\n",
    "            my_pipeline.model.fit(X_train, y_train)\n",
    "\n",
    "            y_pred = my_pipeline.model.predict(X_valid)\n",
    "            if cfg.show_info:\n",
    "                acc = accuracy_score(y_pred, y_valid)\n",
    "                print(f\"{my_pipeline.model_name}, {fold}, Accuracy : {acc:.5f}\")\n",
    "            else:\n",
    "                acc = accuracy_score(y_pred, y_valid)\n",
    "\n",
    "            if acc > overall_best_acc:\n",
    "                overall_best_acc = acc\n",
    "                overall_best_name = f\"{model_name}_{name}_{fold}\"\n",
    "            \n",
    "            if acc > best_acc:\n",
    "                best_acc = acc\n",
    "                best_name = f\"{model_name}_{name}_{fold}\"\n",
    "\n",
    "            with open(os.path.join(cfg.model_save_path, f\"{model_name}_{name}_{fold}.pkl\"), \"wb\") as fp: pickle.dump(my_pipeline.model, fp)\n",
    "            fold += 1\n",
    "        \n",
    "        print(f\"\\nBest : {best_name}\")\n",
    "    \n",
    "\n",
    "if cfg.show_info: \n",
    "    breaker()\n",
    "    print(f\"Overall Best Model : {overall_best_name}\")\n",
    "\n",
    "breaker()"
   ]
  }
 ],
 "metadata": {
  "kernelspec": {
   "display_name": "Python 3",
   "language": "python",
   "name": "python3"
  },
  "language_info": {
   "codemirror_mode": {
    "name": "ipython",
    "version": 3
   },
   "file_extension": ".py",
   "mimetype": "text/x-python",
   "name": "python",
   "nbconvert_exporter": "python",
   "pygments_lexer": "ipython3",
   "version": "3.7.12"
  },
  "papermill": {
   "default_parameters": {},
   "duration": 4027.589529,
   "end_time": "2022-09-29T08:05:11.435049",
   "environment_variables": {},
   "exception": null,
   "input_path": "__notebook__.ipynb",
   "output_path": "__notebook__.ipynb",
   "parameters": {},
   "start_time": "2022-09-29T06:58:03.845520",
   "version": "2.3.4"
  }
 },
 "nbformat": 4,
 "nbformat_minor": 5
}
