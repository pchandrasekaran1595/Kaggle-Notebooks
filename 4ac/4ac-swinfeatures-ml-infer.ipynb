{
 "cells": [
  {
   "cell_type": "code",
   "execution_count": 1,
   "id": "40d1848a",
   "metadata": {
    "_cell_guid": "b1076dfc-b9ad-4769-8c92-a6c4dae69d19",
    "_uuid": "8f2839f25d086af736a60e9eeb907d3b93b6e0e5",
    "execution": {
     "iopub.execute_input": "2022-09-29T11:52:53.201834Z",
     "iopub.status.busy": "2022-09-29T11:52:53.200709Z",
     "iopub.status.idle": "2022-09-29T11:52:54.824675Z",
     "shell.execute_reply": "2022-09-29T11:52:54.823481Z"
    },
    "papermill": {
     "duration": 1.633262,
     "end_time": "2022-09-29T11:52:54.828404",
     "exception": false,
     "start_time": "2022-09-29T11:52:53.195142",
     "status": "completed"
    },
    "tags": []
   },
   "outputs": [],
   "source": [
    "import os\n",
    "import re\n",
    "import pickle\n",
    "import numpy as np\n",
    "import pandas as pd\n",
    "import random as r\n",
    "import seaborn as sns\n",
    "import matplotlib.pyplot as plt\n",
    "\n",
    "from time import time\n",
    "from scipy import stats\n",
    "from sklearn.pipeline import Pipeline\n",
    "from sklearn.model_selection import StratifiedKFold\n",
    "\n",
    "from sklearn.naive_bayes import GaussianNB\n",
    "from sklearn.neighbors import KNeighborsClassifier\n",
    "from sklearn.linear_model import LogisticRegression\n",
    "from sklearn.ensemble import RandomForestClassifier \n",
    "from xgboost import XGBClassifier"
   ]
  },
  {
   "cell_type": "code",
   "execution_count": 2,
   "id": "74a95a72",
   "metadata": {
    "execution": {
     "iopub.execute_input": "2022-09-29T11:52:54.835904Z",
     "iopub.status.busy": "2022-09-29T11:52:54.835490Z",
     "iopub.status.idle": "2022-09-29T11:52:54.840488Z",
     "shell.execute_reply": "2022-09-29T11:52:54.839525Z"
    },
    "papermill": {
     "duration": 0.010991,
     "end_time": "2022-09-29T11:52:54.842531",
     "exception": false,
     "start_time": "2022-09-29T11:52:54.831540",
     "status": "completed"
    },
    "tags": []
   },
   "outputs": [],
   "source": [
    "def breaker() -> None: print(\"\\n\" + 50*\"*\" + \"\\n\")\n",
    "    \n",
    "MODELS_PATH:str = \"../input/4ac-trsfs-ml-train/models\""
   ]
  },
  {
   "cell_type": "code",
   "execution_count": 3,
   "id": "24fc1070",
   "metadata": {
    "execution": {
     "iopub.execute_input": "2022-09-29T11:52:54.849692Z",
     "iopub.status.busy": "2022-09-29T11:52:54.848891Z",
     "iopub.status.idle": "2022-09-29T11:52:55.359805Z",
     "shell.execute_reply": "2022-09-29T11:52:55.358468Z"
    },
    "papermill": {
     "duration": 0.517926,
     "end_time": "2022-09-29T11:52:55.363104",
     "exception": false,
     "start_time": "2022-09-29T11:52:54.845178",
     "status": "completed"
    },
    "tags": []
   },
   "outputs": [],
   "source": [
    "swin_B_model_paths = [os.path.join(MODELS_PATH, name) for name in os.listdir(MODELS_PATH) if re.match(r\"swin_base_patch4_window12_384_in22k\", name, re.IGNORECASE)]\n",
    "swin_L_model_paths = [os.path.join(MODELS_PATH, name) for name in os.listdir(MODELS_PATH) if re.match(r\"swin_large_patch4_window12_384_in22k\", name, re.IGNORECASE)]\n",
    "\n",
    "swin_B_features = np.load(\"../input/4actrsfsna384/swin_base_patch4_window12_384_in22k.npy\")[-729:]\n",
    "swin_L_features = np.load(\"../input/4actrsfsna384/swin_large_patch4_window12_384_in22k.npy\")[-729:]"
   ]
  },
  {
   "cell_type": "code",
   "execution_count": 4,
   "id": "ef355585",
   "metadata": {
    "execution": {
     "iopub.execute_input": "2022-09-29T11:52:55.370748Z",
     "iopub.status.busy": "2022-09-29T11:52:55.370186Z",
     "iopub.status.idle": "2022-09-29T11:52:57.742943Z",
     "shell.execute_reply": "2022-09-29T11:52:57.741283Z"
    },
    "papermill": {
     "duration": 2.381531,
     "end_time": "2022-09-29T11:52:57.747456",
     "exception": false,
     "start_time": "2022-09-29T11:52:55.365925",
     "status": "completed"
    },
    "tags": []
   },
   "outputs": [],
   "source": [
    "y_pred_1 = np.zeros((1, swin_B_features.shape[0]), dtype=np.uint8)\n",
    "\n",
    "for swin_B_model_path in swin_B_model_paths:\n",
    "    with open(swin_B_model_path, \"rb\") as fp: model = pickle.load(fp)\n",
    "    temp = model.predict(swin_B_features)\n",
    "    y_pred_1 = np.concatenate((y_pred_1, temp.reshape(1, -1)), axis=0)\n",
    "\n",
    "y_pred_1 = y_pred_1[1:]"
   ]
  },
  {
   "cell_type": "code",
   "execution_count": 5,
   "id": "c85f1868",
   "metadata": {
    "execution": {
     "iopub.execute_input": "2022-09-29T11:52:57.763683Z",
     "iopub.status.busy": "2022-09-29T11:52:57.761634Z",
     "iopub.status.idle": "2022-09-29T11:53:00.585600Z",
     "shell.execute_reply": "2022-09-29T11:53:00.583976Z"
    },
    "papermill": {
     "duration": 2.835821,
     "end_time": "2022-09-29T11:53:00.589410",
     "exception": false,
     "start_time": "2022-09-29T11:52:57.753589",
     "status": "completed"
    },
    "tags": []
   },
   "outputs": [],
   "source": [
    "y_pred_2 = np.zeros((1, swin_L_features.shape[0]), dtype=np.uint8)\n",
    "\n",
    "for swin_L_model_path in swin_L_model_paths:\n",
    "    with open(swin_L_model_path, \"rb\") as fp: model = pickle.load(fp)\n",
    "    temp = model.predict(swin_L_features)\n",
    "    y_pred_2 = np.concatenate((y_pred_2, temp.reshape(1, -1)), axis=0)\n",
    "\n",
    "y_pred_2 = y_pred_2[1:]"
   ]
  },
  {
   "cell_type": "code",
   "execution_count": 6,
   "id": "3c1c5c7a",
   "metadata": {
    "execution": {
     "iopub.execute_input": "2022-09-29T11:53:00.598753Z",
     "iopub.status.busy": "2022-09-29T11:53:00.597998Z",
     "iopub.status.idle": "2022-09-29T11:53:00.652071Z",
     "shell.execute_reply": "2022-09-29T11:53:00.650975Z"
    },
    "papermill": {
     "duration": 0.062106,
     "end_time": "2022-09-29T11:53:00.654837",
     "exception": false,
     "start_time": "2022-09-29T11:53:00.592731",
     "status": "completed"
    },
    "tags": []
   },
   "outputs": [],
   "source": [
    "y_pred = np.concatenate((y_pred_1, y_pred_2), axis=0)\n",
    "y_pred = stats.mode(y_pred)[0]\n",
    "\n",
    "df = pd.read_csv(\"../input/4-animal-classification/Sample_submission.csv\")\n",
    "df[\"Label\"] = y_pred.reshape(-1)\n",
    "df.to_csv(\"submission.csv\", index=False)"
   ]
  }
 ],
 "metadata": {
  "kernelspec": {
   "display_name": "Python 3",
   "language": "python",
   "name": "python3"
  },
  "language_info": {
   "codemirror_mode": {
    "name": "ipython",
    "version": 3
   },
   "file_extension": ".py",
   "mimetype": "text/x-python",
   "name": "python",
   "nbconvert_exporter": "python",
   "pygments_lexer": "ipython3",
   "version": "3.7.12"
  },
  "papermill": {
   "default_parameters": {},
   "duration": 17.749239,
   "end_time": "2022-09-29T11:53:01.479489",
   "environment_variables": {},
   "exception": null,
   "input_path": "__notebook__.ipynb",
   "output_path": "__notebook__.ipynb",
   "parameters": {},
   "start_time": "2022-09-29T11:52:43.730250",
   "version": "2.3.4"
  }
 },
 "nbformat": 4,
 "nbformat_minor": 5
}
