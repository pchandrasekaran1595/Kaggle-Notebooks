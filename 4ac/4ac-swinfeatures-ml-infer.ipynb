{
 "cells": [
  {
   "cell_type": "code",
   "execution_count": 1,
   "id": "c7f4acd5",
   "metadata": {
    "_cell_guid": "b1076dfc-b9ad-4769-8c92-a6c4dae69d19",
    "_uuid": "8f2839f25d086af736a60e9eeb907d3b93b6e0e5",
    "execution": {
     "iopub.execute_input": "2022-09-29T10:53:43.589468Z",
     "iopub.status.busy": "2022-09-29T10:53:43.588984Z",
     "iopub.status.idle": "2022-09-29T10:53:45.099781Z",
     "shell.execute_reply": "2022-09-29T10:53:45.098543Z"
    },
    "papermill": {
     "duration": 1.51983,
     "end_time": "2022-09-29T10:53:45.102990",
     "exception": false,
     "start_time": "2022-09-29T10:53:43.583160",
     "status": "completed"
    },
    "tags": []
   },
   "outputs": [],
   "source": [
    "import os\n",
    "import re\n",
    "import pickle\n",
    "import numpy as np\n",
    "import pandas as pd\n",
    "import random as r\n",
    "import seaborn as sns\n",
    "import matplotlib.pyplot as plt\n",
    "\n",
    "from time import time\n",
    "from scipy import stats\n",
    "from sklearn.pipeline import Pipeline\n",
    "from sklearn.model_selection import StratifiedKFold\n",
    "\n",
    "from sklearn.naive_bayes import GaussianNB\n",
    "from sklearn.neighbors import KNeighborsClassifier\n",
    "from sklearn.linear_model import LogisticRegression\n",
    "from sklearn.ensemble import RandomForestClassifier \n",
    "from xgboost import XGBClassifier"
   ]
  },
  {
   "cell_type": "code",
   "execution_count": 2,
   "id": "bd431c0a",
   "metadata": {
    "execution": {
     "iopub.execute_input": "2022-09-29T10:53:45.109829Z",
     "iopub.status.busy": "2022-09-29T10:53:45.109455Z",
     "iopub.status.idle": "2022-09-29T10:53:45.114204Z",
     "shell.execute_reply": "2022-09-29T10:53:45.113350Z"
    },
    "papermill": {
     "duration": 0.010634,
     "end_time": "2022-09-29T10:53:45.116471",
     "exception": false,
     "start_time": "2022-09-29T10:53:45.105837",
     "status": "completed"
    },
    "tags": []
   },
   "outputs": [],
   "source": [
    "def breaker() -> None: print(\"\\n\" + 50*\"*\" + \"\\n\")\n",
    "    \n",
    "MODELS_PATH:str = \"../input/4ac-trsfs-ml-train/models\""
   ]
  },
  {
   "cell_type": "code",
   "execution_count": 3,
   "id": "194657c6",
   "metadata": {
    "execution": {
     "iopub.execute_input": "2022-09-29T10:53:45.122811Z",
     "iopub.status.busy": "2022-09-29T10:53:45.122412Z",
     "iopub.status.idle": "2022-09-29T10:53:45.681025Z",
     "shell.execute_reply": "2022-09-29T10:53:45.679980Z"
    },
    "papermill": {
     "duration": 0.565125,
     "end_time": "2022-09-29T10:53:45.684114",
     "exception": false,
     "start_time": "2022-09-29T10:53:45.118989",
     "status": "completed"
    },
    "tags": []
   },
   "outputs": [],
   "source": [
    "swin_B_model_paths = [os.path.join(MODELS_PATH, name) for name in os.listdir(MODELS_PATH) if re.match(r\"swin_base_patch4_window12_384_in22k\", name, re.IGNORECASE)]\n",
    "swin_L_model_paths = [os.path.join(MODELS_PATH, name) for name in os.listdir(MODELS_PATH) if re.match(r\"swin_large_patch4_window12_384_in22k\", name, re.IGNORECASE)]\n",
    "\n",
    "swin_B_features = np.load(\"../input/4actrsfsna384/swin_base_patch4_window12_384_in22k.npy\")[-729:]\n",
    "swin_L_features = np.load(\"../input/4actrsfsna384/swin_large_patch4_window12_384_in22k.npy\")[-729:]"
   ]
  },
  {
   "cell_type": "code",
   "execution_count": 4,
   "id": "ec274e65",
   "metadata": {
    "execution": {
     "iopub.execute_input": "2022-09-29T10:53:45.691720Z",
     "iopub.status.busy": "2022-09-29T10:53:45.691287Z",
     "iopub.status.idle": "2022-09-29T10:53:48.312775Z",
     "shell.execute_reply": "2022-09-29T10:53:48.311070Z"
    },
    "papermill": {
     "duration": 2.630296,
     "end_time": "2022-09-29T10:53:48.317601",
     "exception": false,
     "start_time": "2022-09-29T10:53:45.687305",
     "status": "completed"
    },
    "tags": []
   },
   "outputs": [],
   "source": [
    "y_pred_1 = np.zeros((1, swin_B_features.shape[0]), dtype=np.uint8)\n",
    "\n",
    "for swin_B_model_path in swin_B_model_paths:\n",
    "    with open(swin_B_model_path, \"rb\") as fp: model = pickle.load(fp)\n",
    "    temp = model.predict(swin_B_features)\n",
    "    y_pred_1 = np.concatenate((y_pred_1, temp.reshape(1, -1)), axis=0)\n",
    "\n",
    "y_pred_1 = y_pred_1[1:]"
   ]
  },
  {
   "cell_type": "code",
   "execution_count": 5,
   "id": "5b2db3ea",
   "metadata": {
    "execution": {
     "iopub.execute_input": "2022-09-29T10:53:48.332369Z",
     "iopub.status.busy": "2022-09-29T10:53:48.331653Z",
     "iopub.status.idle": "2022-09-29T10:53:52.565412Z",
     "shell.execute_reply": "2022-09-29T10:53:52.563754Z"
    },
    "papermill": {
     "duration": 4.246453,
     "end_time": "2022-09-29T10:53:52.570262",
     "exception": false,
     "start_time": "2022-09-29T10:53:48.323809",
     "status": "completed"
    },
    "tags": []
   },
   "outputs": [],
   "source": [
    "y_pred_2 = np.zeros((1, swin_B_features.shape[0]), dtype=np.uint8)\n",
    "\n",
    "for swin_L_model_path in swin_B_model_paths:\n",
    "    with open(swin_B_model_path, \"rb\") as fp: model = pickle.load(fp)\n",
    "    temp = model.predict(swin_B_features)\n",
    "    y_pred_2 = np.concatenate((y_pred_2, temp.reshape(1, -1)), axis=0)\n",
    "\n",
    "y_pred_2 = y_pred_2[1:]"
   ]
  },
  {
   "cell_type": "code",
   "execution_count": 6,
   "id": "4f18c584",
   "metadata": {
    "execution": {
     "iopub.execute_input": "2022-09-29T10:53:52.585512Z",
     "iopub.status.busy": "2022-09-29T10:53:52.584759Z",
     "iopub.status.idle": "2022-09-29T10:53:52.644005Z",
     "shell.execute_reply": "2022-09-29T10:53:52.643122Z"
    },
    "papermill": {
     "duration": 0.070424,
     "end_time": "2022-09-29T10:53:52.646943",
     "exception": false,
     "start_time": "2022-09-29T10:53:52.576519",
     "status": "completed"
    },
    "tags": []
   },
   "outputs": [],
   "source": [
    "y_pred = np.concatenate((y_pred_1, y_pred_2), axis=0)\n",
    "y_pred = stats.mode(y_pred)[0]\n",
    "\n",
    "df = pd.read_csv(\"../input/4-animal-classification/Sample_submission.csv\")\n",
    "df[\"Label\"] = y_pred.reshape(-1)\n",
    "df.to_csv(\"submission.csv\", index=False)"
   ]
  }
 ],
 "metadata": {
  "kernelspec": {
   "display_name": "Python 3",
   "language": "python",
   "name": "python3"
  },
  "language_info": {
   "codemirror_mode": {
    "name": "ipython",
    "version": 3
   },
   "file_extension": ".py",
   "mimetype": "text/x-python",
   "name": "python",
   "nbconvert_exporter": "python",
   "pygments_lexer": "ipython3",
   "version": "3.7.12"
  },
  "papermill": {
   "default_parameters": {},
   "duration": 19.037423,
   "end_time": "2022-09-29T10:53:53.472185",
   "environment_variables": {},
   "exception": null,
   "input_path": "__notebook__.ipynb",
   "output_path": "__notebook__.ipynb",
   "parameters": {},
   "start_time": "2022-09-29T10:53:34.434762",
   "version": "2.3.4"
  }
 },
 "nbformat": 4,
 "nbformat_minor": 5
}
