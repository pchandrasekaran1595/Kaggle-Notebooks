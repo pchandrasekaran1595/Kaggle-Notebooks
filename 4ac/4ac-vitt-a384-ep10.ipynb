{
 "cells": [
  {
   "cell_type": "markdown",
   "id": "d79894ba",
   "metadata": {
    "_cell_guid": "b1076dfc-b9ad-4769-8c92-a6c4dae69d19",
    "_uuid": "8f2839f25d086af736a60e9eeb907d3b93b6e0e5",
    "papermill": {
     "duration": 0.005265,
     "end_time": "2022-09-20T05:29:54.462197",
     "exception": false,
     "start_time": "2022-09-20T05:29:54.456932",
     "status": "completed"
    },
    "tags": []
   },
   "source": [
    "### **Setup**"
   ]
  },
  {
   "cell_type": "code",
   "execution_count": 1,
   "id": "775bfd2b",
   "metadata": {
    "execution": {
     "iopub.execute_input": "2022-09-20T05:29:54.472751Z",
     "iopub.status.busy": "2022-09-20T05:29:54.472191Z",
     "iopub.status.idle": "2022-09-20T05:30:07.306916Z",
     "shell.execute_reply": "2022-09-20T05:30:07.305517Z"
    },
    "papermill": {
     "duration": 12.843233,
     "end_time": "2022-09-20T05:30:07.309826",
     "exception": false,
     "start_time": "2022-09-20T05:29:54.466593",
     "status": "completed"
    },
    "tags": []
   },
   "outputs": [
    {
     "name": "stderr",
     "output_type": "stream",
     "text": [
      "WARNING: Running pip as the 'root' user can result in broken permissions and conflicting behaviour with the system package manager. It is recommended to use a virtual environment instead: https://pip.pypa.io/warnings/venv\n"
     ]
    }
   ],
   "source": [
    "%%bash\n",
    "pip install timm -q"
   ]
  },
  {
   "cell_type": "markdown",
   "id": "96d588d4",
   "metadata": {
    "papermill": {
     "duration": 0.004053,
     "end_time": "2022-09-20T05:30:07.318499",
     "exception": false,
     "start_time": "2022-09-20T05:30:07.314446",
     "status": "completed"
    },
    "tags": []
   },
   "source": [
    "### **Library Imports**"
   ]
  },
  {
   "cell_type": "code",
   "execution_count": 2,
   "id": "939e7ebc",
   "metadata": {
    "execution": {
     "iopub.execute_input": "2022-09-20T05:30:07.328346Z",
     "iopub.status.busy": "2022-09-20T05:30:07.328010Z",
     "iopub.status.idle": "2022-09-20T05:30:10.918445Z",
     "shell.execute_reply": "2022-09-20T05:30:10.917362Z"
    },
    "papermill": {
     "duration": 3.598325,
     "end_time": "2022-09-20T05:30:10.921015",
     "exception": false,
     "start_time": "2022-09-20T05:30:07.322690",
     "status": "completed"
    },
    "tags": []
   },
   "outputs": [],
   "source": [
    "import os\n",
    "import re\n",
    "import cv2\n",
    "import timm\n",
    "import torch\n",
    "import numpy as np\n",
    "import pandas as pd\n",
    "import matplotlib.pyplot as plt\n",
    "\n",
    "from time import time\n",
    "from torch import nn, optim\n",
    "from torch.utils.data import Dataset\n",
    "from torch.utils.data import DataLoader as DL\n",
    "from torchvision import models, transforms\n",
    "\n",
    "from sklearn.model_selection import StratifiedKFold\n",
    "from sklearn.preprocessing import LabelEncoder\n",
    "from sklearn.metrics import accuracy_score"
   ]
  },
  {
   "cell_type": "markdown",
   "id": "5c770d2b",
   "metadata": {
    "papermill": {
     "duration": 0.004151,
     "end_time": "2022-09-20T05:30:10.929779",
     "exception": false,
     "start_time": "2022-09-20T05:30:10.925628",
     "status": "completed"
    },
    "tags": []
   },
   "source": [
    "### **Utilities and Helpers**"
   ]
  },
  {
   "cell_type": "code",
   "execution_count": 3,
   "id": "fc4dd17f",
   "metadata": {
    "execution": {
     "iopub.execute_input": "2022-09-20T05:30:10.941092Z",
     "iopub.status.busy": "2022-09-20T05:30:10.939485Z",
     "iopub.status.idle": "2022-09-20T05:30:10.953046Z",
     "shell.execute_reply": "2022-09-20T05:30:10.952220Z"
    },
    "papermill": {
     "duration": 0.021089,
     "end_time": "2022-09-20T05:30:10.955050",
     "exception": false,
     "start_time": "2022-09-20T05:30:10.933961",
     "status": "completed"
    },
    "tags": []
   },
   "outputs": [],
   "source": [
    "SEED = 42\n",
    "SIZE = 384\n",
    "le = LabelEncoder()\n",
    "\n",
    "\n",
    "def breaker(num: int=50, char: str=\"*\") -> None:\n",
    "    print(\"\\n\" + num*char + \"\\n\")\n",
    "\n",
    "    \n",
    "def get_image(path: str, size: int=224) -> np.ndarray:\n",
    "    image = cv2.imread(path, cv2.IMREAD_COLOR)\n",
    "    image = cv2.cvtColor(src=image, code=cv2.COLOR_BGR2RGB)\n",
    "    return cv2.resize(src=image, dsize=(size, size), interpolation=cv2.INTER_AREA)\n",
    "\n",
    "\n",
    "def show_loss_graphs(L: list) -> None:\n",
    "    TL, VL = [], []\n",
    "    for i in range(len(L)):\n",
    "        TL.append(L[i][\"train\"])\n",
    "        VL.append(L[i][\"valid\"])\n",
    "    x_Axis = np.arange(1, len(TL) + 1)\n",
    "    plt.figure()\n",
    "    plt.plot(x_Axis, TL, \"r\", label=\"Train\")\n",
    "    plt.plot(x_Axis, VL, \"b\", label=\"Valid\")\n",
    "    plt.legend()\n",
    "    plt.grid()\n",
    "    plt.title(\"Loss Graph\")\n",
    "    plt.show()\n",
    "\n",
    "    \n",
    "def show_accuracy_graphs(A: list) -> None:\n",
    "    TA, VA = [], []\n",
    "    for i in range(len(A)):\n",
    "        TA.append(A[i][\"train\"])\n",
    "        VA.append(A[i][\"valid\"])\n",
    "    x_Axis = np.arange(1, len(TA) + 1)\n",
    "    plt.figure()\n",
    "    plt.plot(x_Axis, TA, \"r\", label=\"Train\")\n",
    "    plt.plot(x_Axis, VA, \"b\", label=\"Valid\")\n",
    "    plt.legend()\n",
    "    plt.grid()\n",
    "    plt.title(\"Accuracy Graph\")\n",
    "    plt.show()\n",
    "    \n",
    "\n",
    "def show_lr_graph(LR: list) -> None:\n",
    "    x_Axis = [i+1 for i in range(len(LR))]\n",
    "    plt.figure(figsize=(8, 6))\n",
    "    plt.plot(x_Axis, LR, \"rx\")\n",
    "    plt.grid()\n",
    "    plt.show()"
   ]
  },
  {
   "cell_type": "markdown",
   "id": "c033ed6c",
   "metadata": {
    "papermill": {
     "duration": 0.004027,
     "end_time": "2022-09-20T05:30:10.963250",
     "exception": false,
     "start_time": "2022-09-20T05:30:10.959223",
     "status": "completed"
    },
    "tags": []
   },
   "source": [
    "### **Configuration**"
   ]
  },
  {
   "cell_type": "code",
   "execution_count": 4,
   "id": "a3a3e93b",
   "metadata": {
    "execution": {
     "iopub.execute_input": "2022-09-20T05:30:10.972868Z",
     "iopub.status.busy": "2022-09-20T05:30:10.972608Z",
     "iopub.status.idle": "2022-09-20T05:30:11.043609Z",
     "shell.execute_reply": "2022-09-20T05:30:11.042692Z"
    },
    "papermill": {
     "duration": 0.078403,
     "end_time": "2022-09-20T05:30:11.045811",
     "exception": false,
     "start_time": "2022-09-20T05:30:10.967408",
     "status": "completed"
    },
    "tags": []
   },
   "outputs": [],
   "source": [
    "class CFG(object):\n",
    "    def __init__(self, \n",
    "                 seed: int = 42,\n",
    "                 size: int = 224,\n",
    "                 n_splits: int = 5,\n",
    "                 batch_size: int = 16,\n",
    "                 epochs: int = 25,\n",
    "                 early_stopping: int = 5,\n",
    "                 lr: float = 1e-4,\n",
    "                 wd: float = 0.0,\n",
    "                 max_lr: float = 1e-3,\n",
    "                 pct_start: float = 0.2,\n",
    "                 steps_per_epoch: int = 100,\n",
    "                 div_factor: int = 1e3, \n",
    "                 final_div_factor: float = 1e3,\n",
    "                 ):\n",
    "        self.seed = seed\n",
    "        self.size = size\n",
    "        self.n_splits = n_splits\n",
    "        self.batch_size = batch_size\n",
    "        self.epochs = epochs\n",
    "        self.early_stopping = early_stopping\n",
    "        self.lr = lr\n",
    "        self.wd = wd\n",
    "        self.max_lr = max_lr\n",
    "        self.pct_start = pct_start\n",
    "        self.steps_per_epoch = steps_per_epoch\n",
    "        self.div_factor = div_factor\n",
    "        self.final_div_factor = final_div_factor\n",
    "        self.device = torch.device(\"cuda\" if torch.cuda.is_available() else \"cpu\")\n",
    "        self.train_transform = transforms.Compose([\n",
    "            transforms.ToTensor(),\n",
    "            transforms.Normalize([0.48805, 0.46218, 0.38043], [0.21471, 0.21141, 0.21124]),\n",
    "            transforms.RandomAffine(degrees=(-45, 45), translate=(0.15, 0.15), scale=(0.5, 1.5)),\n",
    "            transforms.RandomHorizontalFlip(p=0.25),\n",
    "            transforms.RandomVerticalFlip(p=0.25),\n",
    "        ])\n",
    "        self.valid_transform = transforms.Compose([\n",
    "            transforms.ToTensor(),\n",
    "            transforms.Normalize([0.48805, 0.46218, 0.38043], [0.21471, 0.21141, 0.21124]),\n",
    "        ])\n",
    "                                \n",
    "        self.save_path = \"saves\"\n",
    "        if not os.path.exists(self.save_path): os.makedirs(self.save_path)\n",
    "    \n",
    "cfg = CFG(seed=SEED, size=SIZE)"
   ]
  },
  {
   "cell_type": "markdown",
   "id": "6a32eb51",
   "metadata": {
    "papermill": {
     "duration": 0.0041,
     "end_time": "2022-09-20T05:30:11.054328",
     "exception": false,
     "start_time": "2022-09-20T05:30:11.050228",
     "status": "completed"
    },
    "tags": []
   },
   "source": [
    "### **Dataset Template**"
   ]
  },
  {
   "cell_type": "code",
   "execution_count": 5,
   "id": "391738a4",
   "metadata": {
    "execution": {
     "iopub.execute_input": "2022-09-20T05:30:11.064760Z",
     "iopub.status.busy": "2022-09-20T05:30:11.063843Z",
     "iopub.status.idle": "2022-09-20T05:30:11.071560Z",
     "shell.execute_reply": "2022-09-20T05:30:11.070732Z"
    },
    "papermill": {
     "duration": 0.014989,
     "end_time": "2022-09-20T05:30:11.073501",
     "exception": false,
     "start_time": "2022-09-20T05:30:11.058512",
     "status": "completed"
    },
    "tags": []
   },
   "outputs": [],
   "source": [
    "class DS(Dataset):\n",
    "    def __init__(\n",
    "        self, \n",
    "        base_path: str,\n",
    "        filenames: np.ndarray, \n",
    "        folder_names: np.ndarray, \n",
    "        labels: np.ndarray, \n",
    "        size: int,\n",
    "        transform=None):\n",
    "        \n",
    "        self.base_path = base_path\n",
    "        self.filenames = filenames\n",
    "        self.folder_names = folder_names\n",
    "        self.labels = labels\n",
    "        self.size = size\n",
    "        self.transform = transform\n",
    "    \n",
    "    def __len__(self):\n",
    "        return self.filenames.shape[0]\n",
    "    \n",
    "    def __getitem__(self, idx):\n",
    "        path = os.path.join(os.path.join(self.base_path, self.folder_names[idx]), self.filenames[idx])\n",
    "        image = get_image(path, self.size)\n",
    "        return self.transform(image), self.labels[idx]"
   ]
  },
  {
   "cell_type": "markdown",
   "id": "737588a9",
   "metadata": {
    "papermill": {
     "duration": 0.004085,
     "end_time": "2022-09-20T05:30:11.081805",
     "exception": false,
     "start_time": "2022-09-20T05:30:11.077720",
     "status": "completed"
    },
    "tags": []
   },
   "source": [
    "### **Model**"
   ]
  },
  {
   "cell_type": "code",
   "execution_count": 6,
   "id": "00318c88",
   "metadata": {
    "execution": {
     "iopub.execute_input": "2022-09-20T05:30:11.091876Z",
     "iopub.status.busy": "2022-09-20T05:30:11.091194Z",
     "iopub.status.idle": "2022-09-20T05:30:11.097164Z",
     "shell.execute_reply": "2022-09-20T05:30:11.096162Z"
    },
    "papermill": {
     "duration": 0.013398,
     "end_time": "2022-09-20T05:30:11.099438",
     "exception": false,
     "start_time": "2022-09-20T05:30:11.086040",
     "status": "completed"
    },
    "tags": []
   },
   "outputs": [],
   "source": [
    "class Model(nn.Module):\n",
    "    def __init__(self):\n",
    "        super(Model, self).__init__()\n",
    "            \n",
    "        self.model = timm.create_model(model_name=\"vit_tiny_patch16_384\", pretrained=True)\n",
    "        self.model.head = nn.Linear(in_features=self.model.head.in_features, out_features=4)\n",
    "            \n",
    "    def freeze(self):\n",
    "        for params in self.parameters(): params.requires_grad = False\n",
    "\n",
    "    def forward(self, x):\n",
    "        return nn.LogSoftmax(dim=1)(self.model(x))"
   ]
  },
  {
   "cell_type": "markdown",
   "id": "123d3625",
   "metadata": {
    "papermill": {
     "duration": 0.00409,
     "end_time": "2022-09-20T05:30:11.107727",
     "exception": false,
     "start_time": "2022-09-20T05:30:11.103637",
     "status": "completed"
    },
    "tags": []
   },
   "source": [
    "### **Fit and Predict**"
   ]
  },
  {
   "cell_type": "code",
   "execution_count": 7,
   "id": "1875a48d",
   "metadata": {
    "execution": {
     "iopub.execute_input": "2022-09-20T05:30:11.117493Z",
     "iopub.status.busy": "2022-09-20T05:30:11.117207Z",
     "iopub.status.idle": "2022-09-20T05:30:11.139910Z",
     "shell.execute_reply": "2022-09-20T05:30:11.139037Z"
    },
    "papermill": {
     "duration": 0.029834,
     "end_time": "2022-09-20T05:30:11.141748",
     "exception": false,
     "start_time": "2022-09-20T05:30:11.111914",
     "status": "completed"
    },
    "tags": []
   },
   "outputs": [],
   "source": [
    "def fit(model=None,\n",
    "        optimizer=None, \n",
    "        scheduler_rlrop=None,\n",
    "        scheduler_oclr=None,\n",
    "        epochs=None, \n",
    "        early_stopping_patience=None, \n",
    "        dataloaders=None, \n",
    "        fold=None, \n",
    "        save_path=None,\n",
    "        device=None,\n",
    "        verbose=False) -> tuple:\n",
    "    \n",
    "    def get_accuracy(y_pred, y_true):\n",
    "        y_pred = torch.argmax(y_pred, dim=1)\n",
    "        return torch.count_nonzero(y_pred == y_true).item() / len(y_pred)\n",
    "    \n",
    "    \n",
    "    if verbose:\n",
    "        breaker()\n",
    "        if fold: print(f\"Training Fold {fold}...\")\n",
    "        else: print(\"Training ...\")\n",
    "        breaker()\n",
    "        \n",
    "    bestLoss: dict = {\"train\" : np.inf, \"valid\" : np.inf} \n",
    "    bestAccs: dict = {\"train\" : 0.0, \"valid\" : 0.0}\n",
    "        \n",
    "    Losses: list = []\n",
    "    Accuracies: list = [] \n",
    "    LRs: list = []\n",
    "        \n",
    "    if fold: \n",
    "        ble_name = f\"ble_state_fold_{fold}.pt\"\n",
    "        bae_name = f\"bae_state_fold_{fold}.pt\"\n",
    "    else: \n",
    "        ble_name = f\"ble_state.pt\"\n",
    "        bae_name = f\"bae_state.pt\"\n",
    "    \n",
    "    start_time = time()\n",
    "    for e in range(epochs):\n",
    "        e_st = time()\n",
    "        epochLoss: dict = {\"train\" : 0.0, \"valid\" : 0.0} \n",
    "        epochAccs: dict = {\"train\" : 0.0, \"valid\" : 0.0}\n",
    "\n",
    "        for phase in [\"train\", \"valid\"]:\n",
    "            if phase == \"train\":\n",
    "                model.train()\n",
    "            else:\n",
    "                model.eval()\n",
    "            \n",
    "            lossPerPass: list = []\n",
    "            accsPerPass: list = []\n",
    "                \n",
    "            for X, y in dataloaders[phase]:\n",
    "                X, y = X.to(device), y.to(device).view(-1)\n",
    "\n",
    "                optimizer.zero_grad()\n",
    "                with torch.set_grad_enabled(phase == \"train\"):\n",
    "                    output = model(X)\n",
    "                    loss = torch.nn.NLLLoss()(output, y)\n",
    "                    if phase == \"train\":\n",
    "                        loss.backward()\n",
    "                        optimizer.step()\n",
    "                        if scheduler_oclr: scheduler_oclr.step()\n",
    "                lossPerPass.append(loss.item())\n",
    "                accsPerPass.append(get_accuracy(output, y))\n",
    "            epochLoss[phase] = np.mean(np.array(lossPerPass))\n",
    "            epochAccs[phase] = np.mean(np.array(accsPerPass))\n",
    "        if scheduler_oclr: LRs.append(scheduler_oclr.get_last_lr())\n",
    "        Losses.append(epochLoss)\n",
    "        Accuracies.append(epochAccs)\n",
    "    \n",
    "        if scheduler_oclr:\n",
    "            save_dict = {\"model_state_dict\"     : model.state_dict(),\n",
    "                         \"optim_state_dict\"     : optimizer.state_dict(),\n",
    "                         \"scheduler_state_dict\" : scheduler_oclr.state_dict()}\n",
    "        \n",
    "        elif scheduler_rlrop:\n",
    "            save_dict = {\"model_state_dict\"     : model.state_dict(),\n",
    "                         \"optim_state_dict\"     : optimizer.state_dict(),\n",
    "                         \"scheduler_state_dict\" : scheduler_rlrop.state_dict()}\n",
    "        \n",
    "        else:\n",
    "            save_dict = {\"model_state_dict\"     : model.state_dict(),\n",
    "                         \"optim_state_dict\"     : optimizer.state_dict()}\n",
    "        \n",
    "        \n",
    "        if early_stopping_patience:\n",
    "            if epochLoss[\"valid\"] < bestLoss[\"valid\"]:\n",
    "                bestLoss = epochLoss\n",
    "                BLE = e + 1\n",
    "                torch.save(save_dict, os.path.join(save_path, ble_name))\n",
    "                torch.save(save_dict, os.path.join(save_path, bae_name))\n",
    "                early_stopping_step = 0\n",
    "            else:\n",
    "                early_stopping_step += 1\n",
    "                if early_stopping_step > early_stopping_patience:\n",
    "                    print(\"\\nEarly Stopping at Epoch {}\".format(e + 1))\n",
    "                    break\n",
    "        \n",
    "        if epochLoss[\"valid\"] < bestLoss[\"valid\"]:\n",
    "            bestLoss = epochLoss\n",
    "            BLE = e + 1\n",
    "            torch.save(save_dict,os.path.join(save_path, ble_name))\n",
    "        \n",
    "        if epochAccs[\"valid\"] > bestAccs[\"valid\"]:\n",
    "            bestAccs = epochAccs\n",
    "            BAE = e + 1\n",
    "            torch.save(save_dict,os.path.join(save_path, bae_name))\n",
    "        \n",
    "        if scheduler_rlrop: scheduler_rlrop.step(epochLoss[\"valid\"])\n",
    "        \n",
    "        if verbose:\n",
    "            print(\"Epoch: {} | Train Loss: {:.5f} | Valid Loss: {:.5f} |\\\n",
    " Train Accs: {:.5f} | Valid Accs: {:.5f} | Time: {:.2f} seconds\".format(e+1, \n",
    "                                                                        epochLoss[\"train\"], epochLoss[\"valid\"], \n",
    "                                                                        epochAccs[\"train\"], epochAccs[\"valid\"], \n",
    "                                                                        time()-e_st))\n",
    "\n",
    "    if verbose:                                           \n",
    "        breaker()\n",
    "        print(f\"Best Validation Loss at Epoch {BLE}\")\n",
    "        breaker()\n",
    "        print(f\"Best Validation Accs at Epoch {BAE}\")\n",
    "        breaker()\n",
    "        print(\"Time Taken [{} Epochs] : {:.2f} minutes\".format(len(Losses), (time()-start_time)/60))\n",
    "    \n",
    "    return Losses, Accuracies, LRs, BLE, BAE, ble_name, bae_name\n",
    "\n",
    "\n",
    "def predict_batch(model=None, dataloader=None, path=None, device=None) -> np.ndarray:\n",
    "    model.load_state_dict(torch.load(path, map_location=device)[\"model_state_dict\"])\n",
    "    model.to(device)    \n",
    "    model.eval()\n",
    "    \n",
    "    y_pred = torch.zeros(1, 1).to(device)\n",
    "    \n",
    "    for X in dataloader:\n",
    "        X = X.to(device)\n",
    "        with torch.no_grad():\n",
    "            output = torch.argmax(torch.exp(model(X)), dim=1)\n",
    "        y_pred = torch.cat((y_pred, output.view(-1, 1)), dim=0)\n",
    "    \n",
    "    return y_pred[1:].detach().cpu().numpy()"
   ]
  },
  {
   "cell_type": "markdown",
   "id": "5d550daa",
   "metadata": {
    "papermill": {
     "duration": 0.003935,
     "end_time": "2022-09-20T05:30:11.150838",
     "exception": false,
     "start_time": "2022-09-20T05:30:11.146903",
     "status": "completed"
    },
    "tags": []
   },
   "source": [
    "### **Train**"
   ]
  },
  {
   "cell_type": "code",
   "execution_count": 8,
   "id": "8708c45f",
   "metadata": {
    "execution": {
     "iopub.execute_input": "2022-09-20T05:30:11.160725Z",
     "iopub.status.busy": "2022-09-20T05:30:11.159943Z",
     "iopub.status.idle": "2022-09-20T05:30:11.187253Z",
     "shell.execute_reply": "2022-09-20T05:30:11.186449Z"
    },
    "papermill": {
     "duration": 0.034213,
     "end_time": "2022-09-20T05:30:11.189200",
     "exception": false,
     "start_time": "2022-09-20T05:30:11.154987",
     "status": "completed"
    },
    "tags": []
   },
   "outputs": [],
   "source": [
    "df = pd.read_csv(\"../input/4ac-dataframe/data.csv\")\n",
    "\n",
    "filenames = df.filenames.copy().values\n",
    "folder_names = df.folder_names.copy().values\n",
    "labels = df.classes.copy().values"
   ]
  },
  {
   "cell_type": "code",
   "execution_count": 9,
   "id": "1253b393",
   "metadata": {
    "execution": {
     "iopub.execute_input": "2022-09-20T05:30:11.198908Z",
     "iopub.status.busy": "2022-09-20T05:30:11.198646Z",
     "iopub.status.idle": "2022-09-20T06:35:45.379600Z",
     "shell.execute_reply": "2022-09-20T06:35:45.378341Z"
    },
    "papermill": {
     "duration": 3934.188612,
     "end_time": "2022-09-20T06:35:45.382017",
     "exception": false,
     "start_time": "2022-09-20T05:30:11.193405",
     "status": "completed"
    },
    "tags": []
   },
   "outputs": [
    {
     "name": "stdout",
     "output_type": "stream",
     "text": [
      "\n",
      "**************************************************\n",
      "\n",
      "Training Fold 1...\n",
      "\n",
      "**************************************************\n",
      "\n",
      "Epoch: 1 | Train Loss: 1.06991 | Valid Loss: 0.50963 | Train Accs: 0.64152 | Valid Accs: 0.80893 | Time: 103.42 seconds\n",
      "Epoch: 2 | Train Loss: 0.81273 | Valid Loss: 0.79633 | Train Accs: 0.67679 | Valid Accs: 0.68214 | Time: 79.70 seconds\n",
      "Epoch: 3 | Train Loss: 0.77280 | Valid Loss: 0.55731 | Train Accs: 0.69777 | Valid Accs: 0.78214 | Time: 79.26 seconds\n",
      "Epoch: 4 | Train Loss: 0.67613 | Valid Loss: 0.70351 | Train Accs: 0.74107 | Valid Accs: 0.73571 | Time: 79.35 seconds\n",
      "Epoch: 5 | Train Loss: 0.61664 | Valid Loss: 0.61082 | Train Accs: 0.75625 | Valid Accs: 0.77321 | Time: 78.15 seconds\n",
      "Epoch: 6 | Train Loss: 0.52299 | Valid Loss: 0.44685 | Train Accs: 0.80045 | Valid Accs: 0.82857 | Time: 78.85 seconds\n",
      "Epoch: 7 | Train Loss: 0.38141 | Valid Loss: 0.40075 | Train Accs: 0.85402 | Valid Accs: 0.85357 | Time: 79.59 seconds\n",
      "Epoch: 8 | Train Loss: 0.23672 | Valid Loss: 0.31867 | Train Accs: 0.91563 | Valid Accs: 0.88929 | Time: 79.51 seconds\n",
      "Epoch: 9 | Train Loss: 0.14716 | Valid Loss: 0.28784 | Train Accs: 0.94598 | Valid Accs: 0.91071 | Time: 79.29 seconds\n",
      "Epoch: 10 | Train Loss: 0.11883 | Valid Loss: 0.26661 | Train Accs: 0.95804 | Valid Accs: 0.92143 | Time: 79.28 seconds\n",
      "\n",
      "**************************************************\n",
      "\n",
      "Best Validation Loss at Epoch 10\n",
      "\n",
      "**************************************************\n",
      "\n",
      "Best Validation Accs at Epoch 10\n",
      "\n",
      "**************************************************\n",
      "\n",
      "Time Taken [10 Epochs] : 13.61 minutes\n",
      "\n",
      "**************************************************\n",
      "\n"
     ]
    },
    {
     "data": {
      "image/png": "[encoded data removed]",
      "text/plain": [
       "<Figure size 432x288 with 1 Axes>"
      ]
     },
     "metadata": {
      "needs_background": "light"
     },
     "output_type": "display_data"
    },
    {
     "name": "stdout",
     "output_type": "stream",
     "text": [
      "\n",
      "**************************************************\n",
      "\n"
     ]
    },
    {
     "data": {
      "image/png": "[encoded data removed]",
      "text/plain": [
       "<Figure size 432x288 with 1 Axes>"
      ]
     },
     "metadata": {
      "needs_background": "light"
     },
     "output_type": "display_data"
    },
    {
     "name": "stdout",
     "output_type": "stream",
     "text": [
      "\n",
      "**************************************************\n",
      "\n"
     ]
    },
    {
     "data": {
      "image/png": "[encoded data removed]",
      "text/plain": [
       "<Figure size 576x432 with 1 Axes>"
      ]
     },
     "metadata": {
      "needs_background": "light"
     },
     "output_type": "display_data"
    },
    {
     "name": "stdout",
     "output_type": "stream",
     "text": [
      "\n",
      "**************************************************\n",
      "\n",
      "\n",
      "**************************************************\n",
      "\n",
      "Training Fold 2...\n",
      "\n",
      "**************************************************\n",
      "\n",
      "Epoch: 1 | Train Loss: 1.19762 | Valid Loss: 0.55735 | Train Accs: 0.60268 | Valid Accs: 0.79630 | Time: 79.02 seconds\n",
      "Epoch: 2 | Train Loss: 0.53509 | Valid Loss: 0.39682 | Train Accs: 0.79688 | Valid Accs: 0.85417 | Time: 78.91 seconds\n",
      "Epoch: 3 | Train Loss: 0.47014 | Valid Loss: 0.34371 | Train Accs: 0.81607 | Valid Accs: 0.87789 | Time: 79.10 seconds\n",
      "Epoch: 4 | Train Loss: 0.47372 | Valid Loss: 0.40727 | Train Accs: 0.81830 | Valid Accs: 0.84086 | Time: 79.25 seconds\n",
      "Epoch: 5 | Train Loss: 0.36833 | Valid Loss: 0.24600 | Train Accs: 0.86384 | Valid Accs: 0.90567 | Time: 78.23 seconds\n",
      "Epoch: 6 | Train Loss: 0.24723 | Valid Loss: 0.19428 | Train Accs: 0.91384 | Valid Accs: 0.92766 | Time: 78.97 seconds\n",
      "Epoch: 7 | Train Loss: 0.16113 | Valid Loss: 0.19868 | Train Accs: 0.93929 | Valid Accs: 0.93924 | Time: 79.38 seconds\n",
      "Epoch: 8 | Train Loss: 0.09578 | Valid Loss: 0.17892 | Train Accs: 0.96429 | Valid Accs: 0.94329 | Time: 79.31 seconds\n",
      "Epoch: 9 | Train Loss: 0.06759 | Valid Loss: 0.15480 | Train Accs: 0.97768 | Valid Accs: 0.94502 | Time: 79.04 seconds\n",
      "Epoch: 10 | Train Loss: 0.06401 | Valid Loss: 0.15213 | Train Accs: 0.97545 | Valid Accs: 0.94502 | Time: 77.48 seconds\n",
      "\n",
      "**************************************************\n",
      "\n",
      "Best Validation Loss at Epoch 10\n",
      "\n",
      "**************************************************\n",
      "\n",
      "Best Validation Accs at Epoch 9\n",
      "\n",
      "**************************************************\n",
      "\n",
      "Time Taken [10 Epochs] : 13.15 minutes\n",
      "\n",
      "**************************************************\n",
      "\n"
     ]
    },
    {
     "data": {
      "image/png": "[encoded data removed]",
      "text/plain": [
       "<Figure size 432x288 with 1 Axes>"
      ]
     },
     "metadata": {
      "needs_background": "light"
     },
     "output_type": "display_data"
    },
    {
     "name": "stdout",
     "output_type": "stream",
     "text": [
      "\n",
      "**************************************************\n",
      "\n"
     ]
    },
    {
     "data": {
      "image/png": "[encoded data removed]",
      "text/plain": [
       "<Figure size 432x288 with 1 Axes>"
      ]
     },
     "metadata": {
      "needs_background": "light"
     },
     "output_type": "display_data"
    },
    {
     "name": "stdout",
     "output_type": "stream",
     "text": [
      "\n",
      "**************************************************\n",
      "\n"
     ]
    },
    {
     "data": {
      "image/png": "[encoded data removed]",
      "text/plain": [
       "<Figure size 576x432 with 1 Axes>"
      ]
     },
     "metadata": {
      "needs_background": "light"
     },
     "output_type": "display_data"
    },
    {
     "name": "stdout",
     "output_type": "stream",
     "text": [
      "\n",
      "**************************************************\n",
      "\n",
      "\n",
      "**************************************************\n",
      "\n",
      "Training Fold 3...\n",
      "\n",
      "**************************************************\n",
      "\n",
      "Epoch: 1 | Train Loss: 1.25933 | Valid Loss: 0.33886 | Train Accs: 0.58884 | Valid Accs: 0.87269 | Time: 77.40 seconds\n",
      "Epoch: 2 | Train Loss: 0.52847 | Valid Loss: 0.61755 | Train Accs: 0.79732 | Valid Accs: 0.74074 | Time: 76.45 seconds\n",
      "Epoch: 3 | Train Loss: 0.54561 | Valid Loss: 0.29327 | Train Accs: 0.78795 | Valid Accs: 0.89815 | Time: 77.09 seconds\n",
      "Epoch: 4 | Train Loss: 0.43754 | Valid Loss: 0.23390 | Train Accs: 0.83527 | Valid Accs: 0.91262 | Time: 76.75 seconds\n",
      "Epoch: 5 | Train Loss: 0.34588 | Valid Loss: 0.21168 | Train Accs: 0.86964 | Valid Accs: 0.92535 | Time: 76.42 seconds\n",
      "Epoch: 6 | Train Loss: 0.26719 | Valid Loss: 0.20400 | Train Accs: 0.89821 | Valid Accs: 0.92882 | Time: 77.19 seconds\n",
      "Epoch: 7 | Train Loss: 0.16851 | Valid Loss: 0.17772 | Train Accs: 0.93795 | Valid Accs: 0.94329 | Time: 76.42 seconds\n",
      "Epoch: 8 | Train Loss: 0.09427 | Valid Loss: 0.13906 | Train Accs: 0.96205 | Valid Accs: 0.96007 | Time: 77.13 seconds\n",
      "Epoch: 9 | Train Loss: 0.06035 | Valid Loss: 0.13517 | Train Accs: 0.97857 | Valid Accs: 0.94792 | Time: 76.56 seconds\n",
      "Epoch: 10 | Train Loss: 0.05241 | Valid Loss: 0.13178 | Train Accs: 0.97946 | Valid Accs: 0.95139 | Time: 76.35 seconds\n",
      "\n",
      "**************************************************\n",
      "\n",
      "Best Validation Loss at Epoch 10\n",
      "\n",
      "**************************************************\n",
      "\n",
      "Best Validation Accs at Epoch 8\n",
      "\n",
      "**************************************************\n",
      "\n",
      "Time Taken [10 Epochs] : 12.80 minutes\n",
      "\n",
      "**************************************************\n",
      "\n"
     ]
    },
    {
     "data": {
      "image/png": "[encoded data removed]",
      "text/plain": [
       "<Figure size 432x288 with 1 Axes>"
      ]
     },
     "metadata": {
      "needs_background": "light"
     },
     "output_type": "display_data"
    },
    {
     "name": "stdout",
     "output_type": "stream",
     "text": [
      "\n",
      "**************************************************\n",
      "\n"
     ]
    },
    {
     "data": {
      "image/png": "[encoded data removed]",
      "text/plain": [
       "<Figure size 432x288 with 1 Axes>"
      ]
     },
     "metadata": {
      "needs_background": "light"
     },
     "output_type": "display_data"
    },
    {
     "name": "stdout",
     "output_type": "stream",
     "text": [
      "\n",
      "**************************************************\n",
      "\n"
     ]
    },
    {
     "data": {
      "image/png": "[encoded data removed]",
      "text/plain": [
       "<Figure size 576x432 with 1 Axes>"
      ]
     },
     "metadata": {
      "needs_background": "light"
     },
     "output_type": "display_data"
    },
    {
     "name": "stdout",
     "output_type": "stream",
     "text": [
      "\n",
      "**************************************************\n",
      "\n",
      "\n",
      "**************************************************\n",
      "\n",
      "Training Fold 4...\n",
      "\n",
      "**************************************************\n",
      "\n",
      "Epoch: 1 | Train Loss: 1.29424 | Valid Loss: 0.75653 | Train Accs: 0.56607 | Valid Accs: 0.78299 | Time: 77.32 seconds\n",
      "Epoch: 2 | Train Loss: 0.57915 | Valid Loss: 0.56259 | Train Accs: 0.78482 | Valid Accs: 0.77951 | Time: 76.88 seconds\n",
      "Epoch: 3 | Train Loss: 0.44792 | Valid Loss: 0.26334 | Train Accs: 0.82723 | Valid Accs: 0.90741 | Time: 76.89 seconds\n",
      "Epoch: 4 | Train Loss: 0.50530 | Valid Loss: 0.34911 | Train Accs: 0.80714 | Valid Accs: 0.86574 | Time: 76.24 seconds\n",
      "Epoch: 5 | Train Loss: 0.30114 | Valid Loss: 0.43099 | Train Accs: 0.88973 | Valid Accs: 0.85938 | Time: 76.11 seconds\n",
      "Epoch: 6 | Train Loss: 0.28280 | Valid Loss: 0.17057 | Train Accs: 0.89196 | Valid Accs: 0.94387 | Time: 77.44 seconds\n",
      "Epoch: 7 | Train Loss: 0.15295 | Valid Loss: 0.16635 | Train Accs: 0.94598 | Valid Accs: 0.94734 | Time: 76.60 seconds\n",
      "Epoch: 8 | Train Loss: 0.10056 | Valid Loss: 0.17168 | Train Accs: 0.96384 | Valid Accs: 0.94213 | Time: 76.84 seconds\n",
      "Epoch: 9 | Train Loss: 0.07369 | Valid Loss: 0.15521 | Train Accs: 0.97455 | Valid Accs: 0.93981 | Time: 78.05 seconds\n",
      "Epoch: 10 | Train Loss: 0.05962 | Valid Loss: 0.15960 | Train Accs: 0.97857 | Valid Accs: 0.94502 | Time: 77.60 seconds\n",
      "\n",
      "**************************************************\n",
      "\n",
      "Best Validation Loss at Epoch 9\n",
      "\n",
      "**************************************************\n",
      "\n",
      "Best Validation Accs at Epoch 7\n",
      "\n",
      "**************************************************\n",
      "\n",
      "Time Taken [10 Epochs] : 12.83 minutes\n",
      "\n",
      "**************************************************\n",
      "\n"
     ]
    },
    {
     "data": {
      "image/png": "[encoded data removed]",
      "text/plain": [
       "<Figure size 432x288 with 1 Axes>"
      ]
     },
     "metadata": {
      "needs_background": "light"
     },
     "output_type": "display_data"
    },
    {
     "name": "stdout",
     "output_type": "stream",
     "text": [
      "\n",
      "**************************************************\n",
      "\n"
     ]
    },
    {
     "data": {
      "image/png": "[encoded data removed]",
      "text/plain": [
       "<Figure size 432x288 with 1 Axes>"
      ]
     },
     "metadata": {
      "needs_background": "light"
     },
     "output_type": "display_data"
    },
    {
     "name": "stdout",
     "output_type": "stream",
     "text": [
      "\n",
      "**************************************************\n",
      "\n"
     ]
    },
    {
     "data": {
      "image/png": "[encoded data removed]",
      "text/plain": [
       "<Figure size 576x432 with 1 Axes>"
      ]
     },
     "metadata": {
      "needs_background": "light"
     },
     "output_type": "display_data"
    },
    {
     "name": "stdout",
     "output_type": "stream",
     "text": [
      "\n",
      "**************************************************\n",
      "\n",
      "\n",
      "**************************************************\n",
      "\n",
      "Training Fold 5...\n",
      "\n",
      "**************************************************\n",
      "\n",
      "Epoch: 1 | Train Loss: 1.29560 | Valid Loss: 0.49315 | Train Accs: 0.56384 | Valid Accs: 0.82118 | Time: 78.20 seconds\n",
      "Epoch: 2 | Train Loss: 0.65658 | Valid Loss: 1.00284 | Train Accs: 0.76473 | Valid Accs: 0.67014 | Time: 78.02 seconds\n",
      "Epoch: 3 | Train Loss: 0.52234 | Valid Loss: 0.53455 | Train Accs: 0.80268 | Valid Accs: 0.84259 | Time: 77.94 seconds\n",
      "Epoch: 4 | Train Loss: 0.38167 | Valid Loss: 0.34268 | Train Accs: 0.85357 | Valid Accs: 0.87558 | Time: 78.68 seconds\n",
      "Epoch: 5 | Train Loss: 0.32904 | Valid Loss: 0.26625 | Train Accs: 0.87500 | Valid Accs: 0.88947 | Time: 78.98 seconds\n",
      "Epoch: 6 | Train Loss: 0.22231 | Valid Loss: 0.19621 | Train Accs: 0.91071 | Valid Accs: 0.93229 | Time: 78.82 seconds\n",
      "Epoch: 7 | Train Loss: 0.15748 | Valid Loss: 0.21288 | Train Accs: 0.94018 | Valid Accs: 0.92130 | Time: 78.15 seconds\n",
      "Epoch: 8 | Train Loss: 0.08517 | Valid Loss: 0.20232 | Train Accs: 0.96741 | Valid Accs: 0.93866 | Time: 78.04 seconds\n",
      "Epoch: 9 | Train Loss: 0.05840 | Valid Loss: 0.18810 | Train Accs: 0.97991 | Valid Accs: 0.94213 | Time: 78.55 seconds\n",
      "Epoch: 10 | Train Loss: 0.04681 | Valid Loss: 0.17970 | Train Accs: 0.98393 | Valid Accs: 0.94213 | Time: 78.33 seconds\n",
      "\n",
      "**************************************************\n",
      "\n",
      "Best Validation Loss at Epoch 10\n",
      "\n",
      "**************************************************\n",
      "\n",
      "Best Validation Accs at Epoch 9\n",
      "\n",
      "**************************************************\n",
      "\n",
      "Time Taken [10 Epochs] : 13.06 minutes\n",
      "\n",
      "**************************************************\n",
      "\n"
     ]
    },
    {
     "data": {
      "image/png": "[encoded data removed]",
      "text/plain": [
       "<Figure size 432x288 with 1 Axes>"
      ]
     },
     "metadata": {
      "needs_background": "light"
     },
     "output_type": "display_data"
    },
    {
     "name": "stdout",
     "output_type": "stream",
     "text": [
      "\n",
      "**************************************************\n",
      "\n"
     ]
    },
    {
     "data": {
      "image/png": "[encoded data removed]",
      "text/plain": [
       "<Figure size 432x288 with 1 Axes>"
      ]
     },
     "metadata": {
      "needs_background": "light"
     },
     "output_type": "display_data"
    },
    {
     "name": "stdout",
     "output_type": "stream",
     "text": [
      "\n",
      "**************************************************\n",
      "\n"
     ]
    },
    {
     "data": {
      "image/png": "[encoded data removed]",
      "text/plain": [
       "<Figure size 576x432 with 1 Axes>"
      ]
     },
     "metadata": {
      "needs_background": "light"
     },
     "output_type": "display_data"
    },
    {
     "name": "stdout",
     "output_type": "stream",
     "text": [
      "\n",
      "**************************************************\n",
      "\n"
     ]
    }
   ],
   "source": [
    "fold: int = 1\n",
    "BLEs: list = []\n",
    "BAEs: list = []\n",
    "\n",
    "    \n",
    "for tr_idx, va_idx in StratifiedKFold(n_splits=cfg.n_splits, random_state=cfg.seed, shuffle=True).split(filenames, labels):\n",
    "\n",
    "    tr_filenames, va_filenames       = filenames[tr_idx], filenames[va_idx] \n",
    "    tr_folder_names, va_folder_names = folder_names[tr_idx], folder_names[va_idx] \n",
    "    tr_labels, va_labels             = labels[tr_idx], labels[va_idx]\n",
    "    \n",
    "    tr_data_setup = DS(\n",
    "        base_path=\"../input/4-animal-classification/train\", \n",
    "        filenames=tr_filenames, \n",
    "        folder_names=tr_folder_names,\n",
    "        labels=tr_labels.reshape(-1, 1),\n",
    "        size=cfg.size,\n",
    "        transform=cfg.train_transform)\n",
    "    \n",
    "    va_data_setup = DS(\n",
    "        base_path=\"../input/4-animal-classification/train\", \n",
    "        filenames=va_filenames, \n",
    "        folder_names=va_folder_names,\n",
    "        labels=va_labels.reshape(-1, 1),\n",
    "        size=cfg.size,\n",
    "        transform=cfg.valid_transform)\n",
    "\n",
    "    dataloaders = {\n",
    "        \"train\" : DL(tr_data_setup, batch_size=cfg.batch_size, shuffle=True, generator=torch.manual_seed(cfg.seed)),\n",
    "        \"valid\" : DL(va_data_setup, batch_size=cfg.batch_size, shuffle=False),\n",
    "    }\n",
    "\n",
    "    cfg = CFG(\n",
    "        size=SIZE,\n",
    "        epochs=10, \n",
    "        batch_size=64, \n",
    "        early_stopping=5,\n",
    "        steps_per_epoch=len(dataloaders[\"train\"])\n",
    "    )\n",
    "    \n",
    "    torch.manual_seed(cfg.seed)\n",
    "    model = Model().to(cfg.device)\n",
    "\n",
    "    optimizer = optim.Adam([p for p in model.parameters() if p.requires_grad], lr=cfg.lr, weight_decay=cfg.wd)\n",
    "    # optimizer = optim.AdamW([p for p in model.parameters() if p.requires_grad], lr=cfg.lr, weight_decay=cfg.wd)\n",
    "    # optimizer = optim.SGD([p for p in model.parameters() if p.requires_grad], lr=cfg.lr, weight_decay=cfg.wd, momentum=0.9)\n",
    "    \n",
    "    scheduler_oclr = optim.lr_scheduler.OneCycleLR(\n",
    "        optimizer=optimizer, \n",
    "        max_lr=cfg.max_lr, \n",
    "        epochs=cfg.epochs, \n",
    "        steps_per_epoch=cfg.steps_per_epoch,\n",
    "        pct_start=cfg.pct_start, \n",
    "        div_factor=cfg.div_factor, \n",
    "        final_div_factor=cfg.final_div_factor\n",
    "    )\n",
    "\n",
    "    # scheduler_rlrop = optim.lr_scheduler.ReduceLROnPlateau(\n",
    "    #     optimizer=optimizer,\n",
    "    #     patience=cfg.patience,\n",
    "    #     eps=cfg.eps,\n",
    "    #     verbose=True\n",
    "    # )\n",
    "\n",
    "    # scheduler_oclr = None\n",
    "    scheduler_rlrop = None\n",
    "    \n",
    "    L, A, LR, BLE, BAE, _, _ = fit(\n",
    "        model=model, \n",
    "        optimizer=optimizer, \n",
    "        scheduler_oclr=scheduler_oclr,\n",
    "        scheduler_rlrop=scheduler_rlrop,\n",
    "        epochs=cfg.epochs, \n",
    "        early_stopping_patience=cfg.early_stopping, \n",
    "        dataloaders=dataloaders, \n",
    "        device=cfg.device,\n",
    "        save_path=cfg.save_path,\n",
    "        fold=fold,\n",
    "        verbose=True\n",
    "    )\n",
    "    \n",
    "    breaker()\n",
    "    show_loss_graphs(L)\n",
    "    breaker()\n",
    "    show_accuracy_graphs(A)\n",
    "    breaker()\n",
    "    if scheduler_oclr:\n",
    "        show_lr_graph(LR)\n",
    "        breaker()\n",
    "    \n",
    "    BLEs.append(BLE)\n",
    "    BAEs.append(BAE)\n",
    "    \n",
    "    fold += 1"
   ]
  },
  {
   "cell_type": "markdown",
   "id": "e78f03f1",
   "metadata": {
    "papermill": {
     "duration": 0.011375,
     "end_time": "2022-09-20T06:35:45.405138",
     "exception": false,
     "start_time": "2022-09-20T06:35:45.393763",
     "status": "completed"
    },
    "tags": []
   },
   "source": [
    "### **Best Model**"
   ]
  },
  {
   "cell_type": "code",
   "execution_count": 10,
   "id": "14a9d285",
   "metadata": {
    "execution": {
     "iopub.execute_input": "2022-09-20T06:35:45.430262Z",
     "iopub.status.busy": "2022-09-20T06:35:45.429479Z",
     "iopub.status.idle": "2022-09-20T06:35:45.437860Z",
     "shell.execute_reply": "2022-09-20T06:35:45.436918Z"
    },
    "papermill": {
     "duration": 0.02339,
     "end_time": "2022-09-20T06:35:45.440190",
     "exception": false,
     "start_time": "2022-09-20T06:35:45.416800",
     "status": "completed"
    },
    "tags": []
   },
   "outputs": [
    {
     "name": "stdout",
     "output_type": "stream",
     "text": [
      "\n",
      "**************************************************\n",
      "\n",
      "Best Loss Model Fold     : 4\n",
      "Best Accuracy Model Fold : 1\n",
      "\n",
      "**************************************************\n",
      "\n"
     ]
    }
   ],
   "source": [
    "best_loss_index = BLEs.index(min(BLEs))\n",
    "best_accs_index = BAEs.index(max(BAEs))\n",
    "\n",
    "breaker()\n",
    "print(f\"Best Loss Model Fold     : {best_loss_index + 1}\")\n",
    "print(f\"Best Accuracy Model Fold : {best_accs_index + 1}\")\n",
    "breaker()"
   ]
  },
  {
   "cell_type": "markdown",
   "id": "5c4a78fa",
   "metadata": {
    "papermill": {
     "duration": 0.011489,
     "end_time": "2022-09-20T06:35:45.463178",
     "exception": false,
     "start_time": "2022-09-20T06:35:45.451689",
     "status": "completed"
    },
    "tags": []
   },
   "source": [
    "### **Submit**"
   ]
  },
  {
   "cell_type": "code",
   "execution_count": 11,
   "id": "41a803aa",
   "metadata": {
    "execution": {
     "iopub.execute_input": "2022-09-20T06:35:45.487759Z",
     "iopub.status.busy": "2022-09-20T06:35:45.487403Z",
     "iopub.status.idle": "2022-09-20T06:35:45.492349Z",
     "shell.execute_reply": "2022-09-20T06:35:45.491245Z"
    },
    "papermill": {
     "duration": 0.019951,
     "end_time": "2022-09-20T06:35:45.494747",
     "exception": false,
     "start_time": "2022-09-20T06:35:45.474796",
     "status": "completed"
    },
    "tags": []
   },
   "outputs": [],
   "source": [
    "# torch.manual_seed(cfg.seed)\n",
    "# model = Model().to(cfg.device)\n",
    "\n",
    "# ss_df = pd.read_csv(\"../input/4-animal-classification/Sample_submission.csv\")\n",
    "# ts_filenames = ss_df[\"file_path\"]\n",
    "\n",
    "# ts_data_setup = DS(\n",
    "#     base_path=\"../input/4-animal-classification/test/test\", \n",
    "#     filenames=ts_filenames, \n",
    "#     size=cfg.size,\n",
    "#     transform=cfg.valid_transform,\n",
    "#     labels=None,\n",
    "# )\n",
    "# ts_data = DL(ts_data_setup, batch_size=cfg.batch_size, shuffle=False)\n",
    "\n",
    "# y_pred = predict_batch(\n",
    "#     model=model,\n",
    "#     dataloader=ts_data,\n",
    "#     path=\"\",\n",
    "#     device=cfg.device\n",
    "# )\n",
    "\n",
    "# ss_df[\"label\"] = y_pred.astype(\"uint8\")\n",
    "# ss_df.to_csv(\"submission.csv\", index=False)"
   ]
  }
 ],
 "metadata": {
  "kernelspec": {
   "display_name": "Python 3",
   "language": "python",
   "name": "python3"
  },
  "language_info": {
   "codemirror_mode": {
    "name": "ipython",
    "version": 3
   },
   "file_extension": ".py",
   "mimetype": "text/x-python",
   "name": "python",
   "nbconvert_exporter": "python",
   "pygments_lexer": "ipython3",
   "version": "3.7.12"
  },
  "papermill": {
   "default_parameters": {},
   "duration": 3961.131546,
   "end_time": "2022-09-20T06:35:47.827157",
   "environment_variables": {},
   "exception": null,
   "input_path": "__notebook__.ipynb",
   "output_path": "__notebook__.ipynb",
   "parameters": {},
   "start_time": "2022-09-20T05:29:46.695611",
   "version": "2.3.4"
  }
 },
 "nbformat": 4,
 "nbformat_minor": 5
}
