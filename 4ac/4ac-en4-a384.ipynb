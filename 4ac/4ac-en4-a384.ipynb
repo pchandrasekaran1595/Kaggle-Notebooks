{
 "cells": [
  {
   "cell_type": "markdown",
   "id": "8dda9966",
   "metadata": {
    "_cell_guid": "b1076dfc-b9ad-4769-8c92-a6c4dae69d19",
    "_uuid": "8f2839f25d086af736a60e9eeb907d3b93b6e0e5",
    "papermill": {
     "duration": 0.008823,
     "end_time": "2022-08-31T12:16:19.450630",
     "exception": false,
     "start_time": "2022-08-31T12:16:19.441807",
     "status": "completed"
    },
    "tags": []
   },
   "source": [
    "### **Setup**"
   ]
  },
  {
   "cell_type": "code",
   "execution_count": 1,
   "id": "c92517c5",
   "metadata": {
    "execution": {
     "iopub.execute_input": "2022-08-31T12:16:19.468710Z",
     "iopub.status.busy": "2022-08-31T12:16:19.467968Z",
     "iopub.status.idle": "2022-08-31T12:16:33.225104Z",
     "shell.execute_reply": "2022-08-31T12:16:33.222202Z"
    },
    "papermill": {
     "duration": 13.769234,
     "end_time": "2022-08-31T12:16:33.227957",
     "exception": false,
     "start_time": "2022-08-31T12:16:19.458723",
     "status": "completed"
    },
    "tags": []
   },
   "outputs": [
    {
     "name": "stderr",
     "output_type": "stream",
     "text": [
      "WARNING: Running pip as the 'root' user can result in broken permissions and conflicting behaviour with the system package manager. It is recommended to use a virtual environment instead: https://pip.pypa.io/warnings/venv\n"
     ]
    }
   ],
   "source": [
    "%%bash\n",
    "pip install timm -q"
   ]
  },
  {
   "cell_type": "markdown",
   "id": "e4b66ad8",
   "metadata": {
    "papermill": {
     "duration": 0.003846,
     "end_time": "2022-08-31T12:16:33.236170",
     "exception": false,
     "start_time": "2022-08-31T12:16:33.232324",
     "status": "completed"
    },
    "tags": []
   },
   "source": [
    "### **Library Imports**"
   ]
  },
  {
   "cell_type": "code",
   "execution_count": 2,
   "id": "2885cadb",
   "metadata": {
    "execution": {
     "iopub.execute_input": "2022-08-31T12:16:33.246146Z",
     "iopub.status.busy": "2022-08-31T12:16:33.245730Z",
     "iopub.status.idle": "2022-08-31T12:16:38.142078Z",
     "shell.execute_reply": "2022-08-31T12:16:38.140460Z"
    },
    "papermill": {
     "duration": 4.905333,
     "end_time": "2022-08-31T12:16:38.145797",
     "exception": false,
     "start_time": "2022-08-31T12:16:33.240464",
     "status": "completed"
    },
    "tags": []
   },
   "outputs": [],
   "source": [
    "import os\n",
    "import re\n",
    "import cv2\n",
    "import timm\n",
    "import torch\n",
    "import numpy as np\n",
    "import pandas as pd\n",
    "import matplotlib.pyplot as plt\n",
    "\n",
    "from time import time\n",
    "from torch import nn, optim\n",
    "from torch.utils.data import Dataset\n",
    "from torch.utils.data import DataLoader as DL\n",
    "from torchvision import models, transforms\n",
    "\n",
    "from sklearn.model_selection import StratifiedKFold\n",
    "from sklearn.preprocessing import LabelEncoder\n",
    "from sklearn.metrics import accuracy_score"
   ]
  },
  {
   "cell_type": "markdown",
   "id": "7c046ff8",
   "metadata": {
    "papermill": {
     "duration": 0.004611,
     "end_time": "2022-08-31T12:16:38.157130",
     "exception": false,
     "start_time": "2022-08-31T12:16:38.152519",
     "status": "completed"
    },
    "tags": []
   },
   "source": [
    "### **Utilities and Helpers**"
   ]
  },
  {
   "cell_type": "code",
   "execution_count": 3,
   "id": "e27ce028",
   "metadata": {
    "execution": {
     "iopub.execute_input": "2022-08-31T12:16:38.167315Z",
     "iopub.status.busy": "2022-08-31T12:16:38.166446Z",
     "iopub.status.idle": "2022-08-31T12:16:38.183179Z",
     "shell.execute_reply": "2022-08-31T12:16:38.181870Z"
    },
    "papermill": {
     "duration": 0.024706,
     "end_time": "2022-08-31T12:16:38.185567",
     "exception": false,
     "start_time": "2022-08-31T12:16:38.160861",
     "status": "completed"
    },
    "tags": []
   },
   "outputs": [],
   "source": [
    "SEED = 42\n",
    "SIZE = 384\n",
    "le = LabelEncoder()\n",
    "\n",
    "\n",
    "def breaker(num: int=50, char: str=\"*\") -> None:\n",
    "    print(\"\\n\" + num*char + \"\\n\")\n",
    "\n",
    "    \n",
    "def get_image(path: str, size: int=224) -> np.ndarray:\n",
    "    image = cv2.imread(path, cv2.IMREAD_COLOR)\n",
    "    image = cv2.cvtColor(src=image, code=cv2.COLOR_BGR2RGB)\n",
    "    return cv2.resize(src=image, dsize=(size, size), interpolation=cv2.INTER_AREA)\n",
    "\n",
    "\n",
    "def show_loss_graphs(L: list) -> None:\n",
    "    TL, VL = [], []\n",
    "    for i in range(len(L)):\n",
    "        TL.append(L[i][\"train\"])\n",
    "        VL.append(L[i][\"valid\"])\n",
    "    x_Axis = np.arange(1, len(TL) + 1)\n",
    "    plt.figure()\n",
    "    plt.plot(x_Axis, TL, \"r\", label=\"Train\")\n",
    "    plt.plot(x_Axis, VL, \"b\", label=\"Valid\")\n",
    "    plt.legend()\n",
    "    plt.grid()\n",
    "    plt.title(\"Loss Graph\")\n",
    "    plt.show()\n",
    "\n",
    "    \n",
    "def show_accuracy_graphs(A: list) -> None:\n",
    "    TA, VA = [], []\n",
    "    for i in range(len(A)):\n",
    "        TA.append(A[i][\"train\"])\n",
    "        VA.append(A[i][\"valid\"])\n",
    "    x_Axis = np.arange(1, len(TA) + 1)\n",
    "    plt.figure()\n",
    "    plt.plot(x_Axis, TA, \"r\", label=\"Train\")\n",
    "    plt.plot(x_Axis, VA, \"b\", label=\"Valid\")\n",
    "    plt.legend()\n",
    "    plt.grid()\n",
    "    plt.title(\"Accuracy Graph\")\n",
    "    plt.show()\n",
    "    \n",
    "\n",
    "def show_lr_graph(LR: list) -> None:\n",
    "    x_Axis = [i+1 for i in range(len(LR))]\n",
    "    plt.figure(figsize=(8, 6))\n",
    "    plt.plot(x_Axis, LR, \"rx\")\n",
    "    plt.grid()\n",
    "    plt.show()"
   ]
  },
  {
   "cell_type": "markdown",
   "id": "579a0a4e",
   "metadata": {
    "papermill": {
     "duration": 0.004008,
     "end_time": "2022-08-31T12:16:38.193947",
     "exception": false,
     "start_time": "2022-08-31T12:16:38.189939",
     "status": "completed"
    },
    "tags": []
   },
   "source": [
    "### **Configuration**"
   ]
  },
  {
   "cell_type": "code",
   "execution_count": 4,
   "id": "235ab24e",
   "metadata": {
    "execution": {
     "iopub.execute_input": "2022-08-31T12:16:38.203995Z",
     "iopub.status.busy": "2022-08-31T12:16:38.203661Z",
     "iopub.status.idle": "2022-08-31T12:16:38.300810Z",
     "shell.execute_reply": "2022-08-31T12:16:38.299243Z"
    },
    "papermill": {
     "duration": 0.105695,
     "end_time": "2022-08-31T12:16:38.304109",
     "exception": false,
     "start_time": "2022-08-31T12:16:38.198414",
     "status": "completed"
    },
    "tags": []
   },
   "outputs": [],
   "source": [
    "class CFG(object):\n",
    "    def __init__(self, \n",
    "                 seed: int = 42,\n",
    "                 size: int = 224,\n",
    "                 n_splits: int = 5,\n",
    "                 batch_size: int = 16,\n",
    "                 epochs: int = 25,\n",
    "                 early_stopping: int = 5,\n",
    "                 lr: float = 1e-4,\n",
    "                 wd: float = 0.0,\n",
    "                 max_lr: float = 1e-3,\n",
    "                 pct_start: float = 0.2,\n",
    "                 steps_per_epoch: int = 100,\n",
    "                 div_factor: int = 1e3, \n",
    "                 final_div_factor: float = 1e3,\n",
    "                 ):\n",
    "        self.seed = seed\n",
    "        self.size = size\n",
    "        self.n_splits = n_splits\n",
    "        self.batch_size = batch_size\n",
    "        self.epochs = epochs\n",
    "        self.early_stopping = early_stopping\n",
    "        self.lr = lr\n",
    "        self.wd = wd\n",
    "        self.max_lr = max_lr\n",
    "        self.pct_start = pct_start\n",
    "        self.steps_per_epoch = steps_per_epoch\n",
    "        self.div_factor = div_factor\n",
    "        self.final_div_factor = final_div_factor\n",
    "        self.device = torch.device(\"cuda\" if torch.cuda.is_available() else \"cpu\")\n",
    "        self.train_transform = transforms.Compose([\n",
    "            transforms.ToTensor(),\n",
    "            transforms.Normalize([0.48805, 0.46218, 0.38043], [0.21471, 0.21141, 0.21124]),\n",
    "            transforms.RandomAffine(degrees=(-45, 45), translate=(0.15, 0.15), scale=(0.5, 1.5)),\n",
    "            transforms.RandomHorizontalFlip(p=0.25),\n",
    "            transforms.RandomVerticalFlip(p=0.25),\n",
    "        ])\n",
    "        self.valid_transform = transforms.Compose([\n",
    "            transforms.ToTensor(),\n",
    "            transforms.Normalize([0.48805, 0.46218, 0.38043], [0.21471, 0.21141, 0.21124]),\n",
    "        ])\n",
    "                                \n",
    "        self.save_path = \"saves\"\n",
    "        if not os.path.exists(self.save_path): os.makedirs(self.save_path)\n",
    "    \n",
    "cfg = CFG(seed=SEED, size=SIZE)"
   ]
  },
  {
   "cell_type": "markdown",
   "id": "61122d80",
   "metadata": {
    "papermill": {
     "duration": 0.003846,
     "end_time": "2022-08-31T12:16:38.312128",
     "exception": false,
     "start_time": "2022-08-31T12:16:38.308282",
     "status": "completed"
    },
    "tags": []
   },
   "source": [
    "### **Dataset Template**"
   ]
  },
  {
   "cell_type": "code",
   "execution_count": 5,
   "id": "8640f651",
   "metadata": {
    "execution": {
     "iopub.execute_input": "2022-08-31T12:16:38.322350Z",
     "iopub.status.busy": "2022-08-31T12:16:38.321991Z",
     "iopub.status.idle": "2022-08-31T12:16:38.329793Z",
     "shell.execute_reply": "2022-08-31T12:16:38.328395Z"
    },
    "papermill": {
     "duration": 0.01593,
     "end_time": "2022-08-31T12:16:38.332272",
     "exception": false,
     "start_time": "2022-08-31T12:16:38.316342",
     "status": "completed"
    },
    "tags": []
   },
   "outputs": [],
   "source": [
    "class DS(Dataset):\n",
    "    def __init__(\n",
    "        self, \n",
    "        base_path: str,\n",
    "        filenames: np.ndarray, \n",
    "        folder_names: np.ndarray, \n",
    "        labels: np.ndarray, \n",
    "        size: int,\n",
    "        transform=None):\n",
    "        \n",
    "        self.base_path = base_path\n",
    "        self.filenames = filenames\n",
    "        self.folder_names = folder_names\n",
    "        self.labels = labels\n",
    "        self.size = size\n",
    "        self.transform = transform\n",
    "    \n",
    "    def __len__(self):\n",
    "        return self.filenames.shape[0]\n",
    "    \n",
    "    def __getitem__(self, idx):\n",
    "        path = os.path.join(os.path.join(self.base_path, self.folder_names[idx]), self.filenames[idx])\n",
    "        image = get_image(path, self.size)\n",
    "        return self.transform(image), self.labels[idx]"
   ]
  },
  {
   "cell_type": "markdown",
   "id": "cedfdc37",
   "metadata": {
    "papermill": {
     "duration": 0.00421,
     "end_time": "2022-08-31T12:16:38.340561",
     "exception": false,
     "start_time": "2022-08-31T12:16:38.336351",
     "status": "completed"
    },
    "tags": []
   },
   "source": [
    "### **Model**"
   ]
  },
  {
   "cell_type": "code",
   "execution_count": 6,
   "id": "d0cb36d7",
   "metadata": {
    "execution": {
     "iopub.execute_input": "2022-08-31T12:16:38.351917Z",
     "iopub.status.busy": "2022-08-31T12:16:38.349948Z",
     "iopub.status.idle": "2022-08-31T12:16:38.359177Z",
     "shell.execute_reply": "2022-08-31T12:16:38.357982Z"
    },
    "papermill": {
     "duration": 0.016929,
     "end_time": "2022-08-31T12:16:38.361832",
     "exception": false,
     "start_time": "2022-08-31T12:16:38.344903",
     "status": "completed"
    },
    "tags": []
   },
   "outputs": [],
   "source": [
    "class Model(nn.Module):\n",
    "    def __init__(self, model_name: str=\"efficientnet_b4\"):\n",
    "        super(Model, self).__init__()\n",
    "            \n",
    "        self.model = timm.create_model(model_name=model_name, pretrained=True)\n",
    "        self.model.classifier = nn.Linear(in_features=self.model.classifier.in_features, out_features=11)\n",
    "            \n",
    "    def freeze(self):\n",
    "        for params in self.parameters(): params.requires_grad = False\n",
    "\n",
    "    def forward(self, x):\n",
    "        return nn.LogSoftmax(dim=1)(self.model(x))"
   ]
  },
  {
   "cell_type": "markdown",
   "id": "79dc24bf",
   "metadata": {
    "papermill": {
     "duration": 0.004346,
     "end_time": "2022-08-31T12:16:38.370788",
     "exception": false,
     "start_time": "2022-08-31T12:16:38.366442",
     "status": "completed"
    },
    "tags": []
   },
   "source": [
    "### **Fit and Predict**"
   ]
  },
  {
   "cell_type": "code",
   "execution_count": 7,
   "id": "e9cdfae4",
   "metadata": {
    "execution": {
     "iopub.execute_input": "2022-08-31T12:16:38.381815Z",
     "iopub.status.busy": "2022-08-31T12:16:38.381420Z",
     "iopub.status.idle": "2022-08-31T12:16:38.410512Z",
     "shell.execute_reply": "2022-08-31T12:16:38.409222Z"
    },
    "papermill": {
     "duration": 0.038009,
     "end_time": "2022-08-31T12:16:38.413570",
     "exception": false,
     "start_time": "2022-08-31T12:16:38.375561",
     "status": "completed"
    },
    "tags": []
   },
   "outputs": [],
   "source": [
    "def fit(model=None,\n",
    "        model_name=None,\n",
    "        optimizer=None, \n",
    "        scheduler_rlrop=None,\n",
    "        scheduler_oclr=None,\n",
    "        epochs=None, \n",
    "        early_stopping_patience=None, \n",
    "        dataloaders=None, \n",
    "        fold=None, \n",
    "        save_path=None,\n",
    "        device=None,\n",
    "        verbose=False) -> tuple:\n",
    "    \n",
    "    def get_accuracy(y_pred, y_true):\n",
    "        y_pred = torch.argmax(y_pred, dim=1)\n",
    "        return torch.count_nonzero(y_pred == y_true).item() / len(y_pred)\n",
    "    \n",
    "    \n",
    "    if verbose:\n",
    "        breaker()\n",
    "        print(f\" ----- {model_name.upper()} -----\")\n",
    "        breaker()\n",
    "        if fold: print(f\"Training Fold {fold}...\")\n",
    "        else: print(\"Training ...\")\n",
    "        breaker()\n",
    "        \n",
    "    bestLoss: dict = {\"train\" : np.inf, \"valid\" : np.inf} \n",
    "    bestAccs: dict = {\"train\" : 0.0, \"valid\" : 0.0}\n",
    "        \n",
    "    Losses: list = []\n",
    "    Accuracies: list = [] \n",
    "    LRs: list = []\n",
    "        \n",
    "    if fold: \n",
    "        ble_name = f\"{model_name}_ble_state_fold_{fold}.pt\"\n",
    "        bae_name = f\"{model_name}_bae_state_fold_{fold}.pt\"\n",
    "    else: \n",
    "        ble_name = f\"{model_name}_ble_state.pt\"\n",
    "        bae_name = f\"{model_name}_bae_state.pt\"\n",
    "    \n",
    "    start_time = time()\n",
    "    for e in range(epochs):\n",
    "        e_st = time()\n",
    "        epochLoss: dict = {\"train\" : 0.0, \"valid\" : 0.0} \n",
    "        epochAccs: dict = {\"train\" : 0.0, \"valid\" : 0.0}\n",
    "\n",
    "        for phase in [\"train\", \"valid\"]:\n",
    "            if phase == \"train\":\n",
    "                model.train()\n",
    "            else:\n",
    "                model.eval()\n",
    "            \n",
    "            lossPerPass: list = []\n",
    "            accsPerPass: list = []\n",
    "                \n",
    "            for X, y in dataloaders[phase]:\n",
    "                X, y = X.to(device), y.to(device).view(-1)\n",
    "\n",
    "                optimizer.zero_grad()\n",
    "                with torch.set_grad_enabled(phase == \"train\"):\n",
    "                    output = model(X)\n",
    "                    loss = torch.nn.NLLLoss()(output, y)\n",
    "                    if phase == \"train\":\n",
    "                        loss.backward()\n",
    "                        optimizer.step()\n",
    "                        if scheduler_oclr: scheduler_oclr.step()\n",
    "                lossPerPass.append(loss.item())\n",
    "                accsPerPass.append(get_accuracy(output, y))\n",
    "            epochLoss[phase] = np.mean(np.array(lossPerPass))\n",
    "            epochAccs[phase] = np.mean(np.array(accsPerPass))\n",
    "        if scheduler_oclr: LRs.append(scheduler_oclr.get_last_lr())\n",
    "        Losses.append(epochLoss)\n",
    "        Accuracies.append(epochAccs)\n",
    "    \n",
    "        if scheduler_oclr:\n",
    "            save_dict = {\"model_state_dict\"     : model.state_dict(),\n",
    "                         \"optim_state_dict\"     : optimizer.state_dict(),\n",
    "                         \"scheduler_state_dict\" : scheduler_oclr.state_dict()}\n",
    "        \n",
    "        elif scheduler_rlrop:\n",
    "            save_dict = {\"model_state_dict\"     : model.state_dict(),\n",
    "                         \"optim_state_dict\"     : optimizer.state_dict(),\n",
    "                         \"scheduler_state_dict\" : scheduler_rlrop.state_dict()}\n",
    "        \n",
    "        else:\n",
    "            save_dict = {\"model_state_dict\"     : model.state_dict(),\n",
    "                         \"optim_state_dict\"     : optimizer.state_dict()}\n",
    "        \n",
    "        \n",
    "        if early_stopping_patience:\n",
    "            if epochLoss[\"valid\"] < bestLoss[\"valid\"]:\n",
    "                bestLoss = epochLoss\n",
    "                BLE = e + 1\n",
    "                torch.save(save_dict, os.path.join(save_path, ble_name))\n",
    "                torch.save(save_dict, os.path.join(save_path, bae_name))\n",
    "                early_stopping_step = 0\n",
    "            else:\n",
    "                early_stopping_step += 1\n",
    "                if early_stopping_step > early_stopping_patience:\n",
    "                    print(\"\\nEarly Stopping at Epoch {}\".format(e + 1))\n",
    "                    break\n",
    "        \n",
    "        if epochLoss[\"valid\"] < bestLoss[\"valid\"]:\n",
    "            bestLoss = epochLoss\n",
    "            BLE = e + 1\n",
    "            torch.save(save_dict,os.path.join(save_path, ble_name))\n",
    "        \n",
    "        if epochAccs[\"valid\"] > bestAccs[\"valid\"]:\n",
    "            bestAccs = epochAccs\n",
    "            BAE = e + 1\n",
    "            torch.save(save_dict,os.path.join(save_path, bae_name))\n",
    "        \n",
    "        if scheduler_rlrop: scheduler_rlrop.step(epochLoss[\"valid\"])\n",
    "        \n",
    "        if verbose:\n",
    "            print(\"Epoch: {} | Train Loss: {:.5f} | Valid Loss: {:.5f} |\\\n",
    " Train Accs: {:.5f} | Valid Accs: {:.5f} | Time: {:.2f} seconds\".format(e+1, \n",
    "                                                                        epochLoss[\"train\"], epochLoss[\"valid\"], \n",
    "                                                                        epochAccs[\"train\"], epochAccs[\"valid\"], \n",
    "                                                                        time()-e_st))\n",
    "\n",
    "    if verbose:                                           \n",
    "        breaker()\n",
    "        print(f\"Best Validation Loss at Epoch {BLE}\")\n",
    "        breaker()\n",
    "        print(f\"Best Validation Accs at Epoch {BAE}\")\n",
    "        breaker()\n",
    "        print(\"Time Taken [{} Epochs] : {:.2f} minutes\".format(len(Losses), (time()-start_time)/60))\n",
    "    \n",
    "    return Losses, Accuracies, LRs, BLE, BAE, ble_name, bae_name\n",
    "\n",
    "\n",
    "def predict_batch(model=None, dataloader=None, path=None, device=None) -> np.ndarray:\n",
    "    model.load_state_dict(torch.load(path, map_location=device)[\"model_state_dict\"])\n",
    "    model.to(device)    \n",
    "    model.eval()\n",
    "    \n",
    "    y_pred = torch.zeros(1, 1).to(device)\n",
    "    \n",
    "    for X in dataloader:\n",
    "        X = X.to(device)\n",
    "        with torch.no_grad():\n",
    "            output = torch.argmax(torch.exp(model(X)), dim=1)\n",
    "        y_pred = torch.cat((y_pred, output.view(-1, 1)), dim=0)\n",
    "    \n",
    "    return y_pred[1:].detach().cpu().numpy()"
   ]
  },
  {
   "cell_type": "markdown",
   "id": "a155eca0",
   "metadata": {
    "papermill": {
     "duration": 0.004334,
     "end_time": "2022-08-31T12:16:38.422236",
     "exception": false,
     "start_time": "2022-08-31T12:16:38.417902",
     "status": "completed"
    },
    "tags": []
   },
   "source": [
    "### **Train**"
   ]
  },
  {
   "cell_type": "code",
   "execution_count": 8,
   "id": "1d979f06",
   "metadata": {
    "execution": {
     "iopub.execute_input": "2022-08-31T12:16:38.432873Z",
     "iopub.status.busy": "2022-08-31T12:16:38.432474Z",
     "iopub.status.idle": "2022-08-31T12:16:38.469383Z",
     "shell.execute_reply": "2022-08-31T12:16:38.468264Z"
    },
    "papermill": {
     "duration": 0.045528,
     "end_time": "2022-08-31T12:16:38.472240",
     "exception": false,
     "start_time": "2022-08-31T12:16:38.426712",
     "status": "completed"
    },
    "tags": []
   },
   "outputs": [],
   "source": [
    "df = pd.read_csv(\"../input/4ac-dataframe/data.csv\")\n",
    "\n",
    "filenames = df.filenames.copy().values\n",
    "folder_names = df.folder_names.copy().values\n",
    "labels = df.classes.copy().values"
   ]
  },
  {
   "cell_type": "code",
   "execution_count": 9,
   "id": "0faaba0a",
   "metadata": {
    "execution": {
     "iopub.execute_input": "2022-08-31T12:16:38.482355Z",
     "iopub.status.busy": "2022-08-31T12:16:38.482017Z",
     "iopub.status.idle": "2022-08-31T13:23:43.730835Z",
     "shell.execute_reply": "2022-08-31T13:23:43.729192Z"
    },
    "papermill": {
     "duration": 4025.257199,
     "end_time": "2022-08-31T13:23:43.733712",
     "exception": false,
     "start_time": "2022-08-31T12:16:38.476513",
     "status": "completed"
    },
    "tags": []
   },
   "outputs": [
    {
     "name": "stderr",
     "output_type": "stream",
     "text": [
      "Downloading: \"https://github.com/rwightman/pytorch-image-models/releases/download/v0.1-weights/efficientnet_b4_ra2_320-7eb33cd5.pth\" to /root/.cache/torch/hub/checkpoints/efficientnet_b4_ra2_320-7eb33cd5.pth\n"
     ]
    },
    {
     "name": "stdout",
     "output_type": "stream",
     "text": [
      "\n",
      "**************************************************\n",
      "\n",
      " ----- EFFICIENTNET_B4 -----\n",
      "\n",
      "**************************************************\n",
      "\n",
      "Training Fold 1...\n",
      "\n",
      "**************************************************\n",
      "\n",
      "Epoch: 1 | Train Loss: 2.22864 | Valid Loss: 1.55456 | Train Accs: 0.38795 | Valid Accs: 0.69821 | Time: 172.22 seconds\n",
      "Epoch: 2 | Train Loss: 0.56418 | Valid Loss: 0.04996 | Train Accs: 0.86205 | Valid Accs: 0.98750 | Time: 137.37 seconds\n",
      "Epoch: 3 | Train Loss: 0.15234 | Valid Loss: 0.07994 | Train Accs: 0.95223 | Valid Accs: 0.96964 | Time: 132.62 seconds\n",
      "Epoch: 4 | Train Loss: 0.15907 | Valid Loss: 0.06639 | Train Accs: 0.94688 | Valid Accs: 0.97857 | Time: 131.74 seconds\n",
      "Epoch: 5 | Train Loss: 0.15836 | Valid Loss: 0.14583 | Train Accs: 0.94955 | Valid Accs: 0.96786 | Time: 132.10 seconds\n",
      "Epoch: 6 | Train Loss: 0.13299 | Valid Loss: 0.07054 | Train Accs: 0.96161 | Valid Accs: 0.97857 | Time: 133.09 seconds\n",
      "Epoch: 7 | Train Loss: 0.10787 | Valid Loss: 0.07313 | Train Accs: 0.96562 | Valid Accs: 0.97679 | Time: 131.38 seconds\n",
      "\n",
      "Early Stopping at Epoch 8\n",
      "\n",
      "**************************************************\n",
      "\n",
      "Best Validation Loss at Epoch 2\n",
      "\n",
      "**************************************************\n",
      "\n",
      "Best Validation Accs at Epoch 2\n",
      "\n",
      "**************************************************\n",
      "\n",
      "Time Taken [8 Epochs] : 18.38 minutes\n",
      "\n",
      "**************************************************\n",
      "\n"
     ]
    },
    {
     "data": {
      "image/png": "[encoded data removed]",
      "text/plain": [
       "<Figure size 432x288 with 1 Axes>"
      ]
     },
     "metadata": {
      "needs_background": "light"
     },
     "output_type": "display_data"
    },
    {
     "name": "stdout",
     "output_type": "stream",
     "text": [
      "\n",
      "**************************************************\n",
      "\n"
     ]
    },
    {
     "data": {
      "image/png": "[encoded data removed]",
      "text/plain": [
       "<Figure size 432x288 with 1 Axes>"
      ]
     },
     "metadata": {
      "needs_background": "light"
     },
     "output_type": "display_data"
    },
    {
     "name": "stdout",
     "output_type": "stream",
     "text": [
      "\n",
      "**************************************************\n",
      "\n"
     ]
    },
    {
     "data": {
      "image/png": "[encoded data removed]",
      "text/plain": [
       "<Figure size 576x432 with 1 Axes>"
      ]
     },
     "metadata": {
      "needs_background": "light"
     },
     "output_type": "display_data"
    },
    {
     "name": "stdout",
     "output_type": "stream",
     "text": [
      "\n",
      "**************************************************\n",
      "\n",
      "\n",
      "**************************************************\n",
      "\n",
      " ----- EFFICIENTNET_B4 -----\n",
      "\n",
      "**************************************************\n",
      "\n",
      "Training Fold 2...\n",
      "\n",
      "**************************************************\n",
      "\n",
      "Epoch: 1 | Train Loss: 2.36010 | Valid Loss: 2.22010 | Train Accs: 0.18527 | Valid Accs: 0.59780 | Time: 69.22 seconds\n",
      "Epoch: 2 | Train Loss: 1.55151 | Valid Loss: 0.61991 | Train Accs: 0.64955 | Valid Accs: 0.93866 | Time: 70.95 seconds\n",
      "Epoch: 3 | Train Loss: 0.31408 | Valid Loss: 0.09184 | Train Accs: 0.90759 | Valid Accs: 0.97338 | Time: 70.68 seconds\n",
      "Epoch: 4 | Train Loss: 0.18996 | Valid Loss: 0.10395 | Train Accs: 0.93259 | Valid Accs: 0.96296 | Time: 66.41 seconds\n",
      "Epoch: 5 | Train Loss: 0.11157 | Valid Loss: 0.07575 | Train Accs: 0.96250 | Valid Accs: 0.97627 | Time: 70.55 seconds\n",
      "Epoch: 6 | Train Loss: 0.09519 | Valid Loss: 0.07372 | Train Accs: 0.96295 | Valid Accs: 0.97106 | Time: 68.99 seconds\n",
      "Epoch: 7 | Train Loss: 0.09387 | Valid Loss: 0.09717 | Train Accs: 0.96741 | Valid Accs: 0.96123 | Time: 66.79 seconds\n",
      "Epoch: 8 | Train Loss: 0.06753 | Valid Loss: 0.10401 | Train Accs: 0.97723 | Valid Accs: 0.96644 | Time: 66.04 seconds\n",
      "Epoch: 9 | Train Loss: 0.07065 | Valid Loss: 0.09772 | Train Accs: 0.97723 | Valid Accs: 0.97396 | Time: 66.58 seconds\n",
      "Epoch: 10 | Train Loss: 0.04703 | Valid Loss: 0.09554 | Train Accs: 0.98348 | Valid Accs: 0.97280 | Time: 66.17 seconds\n",
      "Epoch: 11 | Train Loss: 0.06940 | Valid Loss: 0.09649 | Train Accs: 0.97902 | Valid Accs: 0.97106 | Time: 66.44 seconds\n",
      "\n",
      "Early Stopping at Epoch 12\n",
      "\n",
      "**************************************************\n",
      "\n",
      "Best Validation Loss at Epoch 6\n",
      "\n",
      "**************************************************\n",
      "\n",
      "Best Validation Accs at Epoch 5\n",
      "\n",
      "**************************************************\n",
      "\n",
      "Time Taken [12 Epochs] : 13.57 minutes\n",
      "\n",
      "**************************************************\n",
      "\n"
     ]
    },
    {
     "data": {
      "image/png": "[encoded data removed]",
      "text/plain": [
       "<Figure size 432x288 with 1 Axes>"
      ]
     },
     "metadata": {
      "needs_background": "light"
     },
     "output_type": "display_data"
    },
    {
     "name": "stdout",
     "output_type": "stream",
     "text": [
      "\n",
      "**************************************************\n",
      "\n"
     ]
    },
    {
     "data": {
      "image/png": "[encoded data removed]",
      "text/plain": [
       "<Figure size 432x288 with 1 Axes>"
      ]
     },
     "metadata": {
      "needs_background": "light"
     },
     "output_type": "display_data"
    },
    {
     "name": "stdout",
     "output_type": "stream",
     "text": [
      "\n",
      "**************************************************\n",
      "\n"
     ]
    },
    {
     "data": {
      "image/png": "[encoded data removed]",
      "text/plain": [
       "<Figure size 576x432 with 1 Axes>"
      ]
     },
     "metadata": {
      "needs_background": "light"
     },
     "output_type": "display_data"
    },
    {
     "name": "stdout",
     "output_type": "stream",
     "text": [
      "\n",
      "**************************************************\n",
      "\n",
      "\n",
      "**************************************************\n",
      "\n",
      " ----- EFFICIENTNET_B4 -----\n",
      "\n",
      "**************************************************\n",
      "\n",
      "Training Fold 3...\n",
      "\n",
      "**************************************************\n",
      "\n",
      "Epoch: 1 | Train Loss: 2.35893 | Valid Loss: 2.22346 | Train Accs: 0.18125 | Valid Accs: 0.60764 | Time: 68.16 seconds\n",
      "Epoch: 2 | Train Loss: 1.54941 | Valid Loss: 0.61079 | Train Accs: 0.62991 | Valid Accs: 0.95718 | Time: 71.04 seconds\n",
      "Epoch: 3 | Train Loss: 0.29269 | Valid Loss: 0.06729 | Train Accs: 0.91518 | Valid Accs: 0.98032 | Time: 69.28 seconds\n",
      "Epoch: 4 | Train Loss: 0.20071 | Valid Loss: 0.05466 | Train Accs: 0.92946 | Valid Accs: 0.98611 | Time: 69.68 seconds\n",
      "Epoch: 5 | Train Loss: 0.12560 | Valid Loss: 0.08354 | Train Accs: 0.95357 | Valid Accs: 0.97338 | Time: 65.22 seconds\n",
      "Epoch: 6 | Train Loss: 0.10777 | Valid Loss: 0.07372 | Train Accs: 0.96116 | Valid Accs: 0.98032 | Time: 64.78 seconds\n",
      "Epoch: 7 | Train Loss: 0.08822 | Valid Loss: 0.09579 | Train Accs: 0.96652 | Valid Accs: 0.96933 | Time: 64.73 seconds\n",
      "Epoch: 8 | Train Loss: 0.06078 | Valid Loss: 0.08824 | Train Accs: 0.97768 | Valid Accs: 0.96701 | Time: 64.81 seconds\n",
      "Epoch: 9 | Train Loss: 0.05624 | Valid Loss: 0.14302 | Train Accs: 0.98259 | Valid Accs: 0.96181 | Time: 64.17 seconds\n",
      "\n",
      "Early Stopping at Epoch 10\n",
      "\n",
      "**************************************************\n",
      "\n",
      "Best Validation Loss at Epoch 4\n",
      "\n",
      "**************************************************\n",
      "\n",
      "Best Validation Accs at Epoch 4\n",
      "\n",
      "**************************************************\n",
      "\n",
      "Time Taken [10 Epochs] : 11.11 minutes\n",
      "\n",
      "**************************************************\n",
      "\n"
     ]
    },
    {
     "data": {
      "image/png": "[encoded data removed]",
      "text/plain": [
       "<Figure size 432x288 with 1 Axes>"
      ]
     },
     "metadata": {
      "needs_background": "light"
     },
     "output_type": "display_data"
    },
    {
     "name": "stdout",
     "output_type": "stream",
     "text": [
      "\n",
      "**************************************************\n",
      "\n"
     ]
    },
    {
     "data": {
      "image/png": "[encoded data removed]",
      "text/plain": [
       "<Figure size 432x288 with 1 Axes>"
      ]
     },
     "metadata": {
      "needs_background": "light"
     },
     "output_type": "display_data"
    },
    {
     "name": "stdout",
     "output_type": "stream",
     "text": [
      "\n",
      "**************************************************\n",
      "\n"
     ]
    },
    {
     "data": {
      "image/png": "[encoded data removed]",
      "text/plain": [
       "<Figure size 576x432 with 1 Axes>"
      ]
     },
     "metadata": {
      "needs_background": "light"
     },
     "output_type": "display_data"
    },
    {
     "name": "stdout",
     "output_type": "stream",
     "text": [
      "\n",
      "**************************************************\n",
      "\n",
      "\n",
      "**************************************************\n",
      "\n",
      " ----- EFFICIENTNET_B4 -----\n",
      "\n",
      "**************************************************\n",
      "\n",
      "Training Fold 4...\n",
      "\n",
      "**************************************************\n",
      "\n",
      "Epoch: 1 | Train Loss: 2.36073 | Valid Loss: 2.22335 | Train Accs: 0.18125 | Valid Accs: 0.62326 | Time: 67.56 seconds\n",
      "Epoch: 2 | Train Loss: 1.54637 | Valid Loss: 0.59665 | Train Accs: 0.64196 | Valid Accs: 0.97338 | Time: 69.28 seconds\n",
      "Epoch: 3 | Train Loss: 0.29641 | Valid Loss: 0.06673 | Train Accs: 0.91295 | Valid Accs: 0.97569 | Time: 69.46 seconds\n",
      "Epoch: 4 | Train Loss: 0.21196 | Valid Loss: 0.06807 | Train Accs: 0.92634 | Valid Accs: 0.98090 | Time: 67.08 seconds\n",
      "Epoch: 5 | Train Loss: 0.15689 | Valid Loss: 0.06232 | Train Accs: 0.95000 | Valid Accs: 0.97685 | Time: 68.74 seconds\n",
      "Epoch: 6 | Train Loss: 0.12198 | Valid Loss: 0.06798 | Train Accs: 0.96339 | Valid Accs: 0.97743 | Time: 66.09 seconds\n",
      "Epoch: 7 | Train Loss: 0.07957 | Valid Loss: 0.09422 | Train Accs: 0.97366 | Valid Accs: 0.96875 | Time: 65.09 seconds\n",
      "Epoch: 8 | Train Loss: 0.04580 | Valid Loss: 0.09291 | Train Accs: 0.98393 | Valid Accs: 0.96875 | Time: 66.13 seconds\n",
      "Epoch: 9 | Train Loss: 0.04756 | Valid Loss: 0.09599 | Train Accs: 0.98571 | Valid Accs: 0.97338 | Time: 66.00 seconds\n",
      "Epoch: 10 | Train Loss: 0.06246 | Valid Loss: 0.09388 | Train Accs: 0.98214 | Valid Accs: 0.97164 | Time: 65.90 seconds\n",
      "\n",
      "Early Stopping at Epoch 11\n",
      "\n",
      "**************************************************\n",
      "\n",
      "Best Validation Loss at Epoch 5\n",
      "\n",
      "**************************************************\n",
      "\n",
      "Best Validation Accs at Epoch 4\n",
      "\n",
      "**************************************************\n",
      "\n",
      "Time Taken [11 Epochs] : 12.28 minutes\n",
      "\n",
      "**************************************************\n",
      "\n"
     ]
    },
    {
     "data": {
      "image/png": "[encoded data removed]",
      "text/plain": [
       "<Figure size 432x288 with 1 Axes>"
      ]
     },
     "metadata": {
      "needs_background": "light"
     },
     "output_type": "display_data"
    },
    {
     "name": "stdout",
     "output_type": "stream",
     "text": [
      "\n",
      "**************************************************\n",
      "\n"
     ]
    },
    {
     "data": {
      "image/png": "[encoded data removed]",
      "text/plain": [
       "<Figure size 432x288 with 1 Axes>"
      ]
     },
     "metadata": {
      "needs_background": "light"
     },
     "output_type": "display_data"
    },
    {
     "name": "stdout",
     "output_type": "stream",
     "text": [
      "\n",
      "**************************************************\n",
      "\n"
     ]
    },
    {
     "data": {
      "image/png": "[encoded data removed]",
      "text/plain": [
       "<Figure size 576x432 with 1 Axes>"
      ]
     },
     "metadata": {
      "needs_background": "light"
     },
     "output_type": "display_data"
    },
    {
     "name": "stdout",
     "output_type": "stream",
     "text": [
      "\n",
      "**************************************************\n",
      "\n",
      "\n",
      "**************************************************\n",
      "\n",
      " ----- EFFICIENTNET_B4 -----\n",
      "\n",
      "**************************************************\n",
      "\n",
      "Training Fold 5...\n",
      "\n",
      "**************************************************\n",
      "\n",
      "Epoch: 1 | Train Loss: 2.35968 | Valid Loss: 2.21705 | Train Accs: 0.18839 | Valid Accs: 0.62269 | Time: 69.72 seconds\n",
      "Epoch: 2 | Train Loss: 1.54746 | Valid Loss: 0.60802 | Train Accs: 0.64598 | Valid Accs: 0.95602 | Time: 72.46 seconds\n",
      "Epoch: 3 | Train Loss: 0.31259 | Valid Loss: 0.07898 | Train Accs: 0.90759 | Valid Accs: 0.97569 | Time: 70.97 seconds\n",
      "Epoch: 4 | Train Loss: 0.19422 | Valid Loss: 0.05762 | Train Accs: 0.92902 | Valid Accs: 0.97801 | Time: 69.89 seconds\n",
      "Epoch: 5 | Train Loss: 0.13015 | Valid Loss: 0.06881 | Train Accs: 0.95223 | Valid Accs: 0.97164 | Time: 65.53 seconds\n",
      "Epoch: 6 | Train Loss: 0.08969 | Valid Loss: 0.08021 | Train Accs: 0.97009 | Valid Accs: 0.96933 | Time: 65.97 seconds\n",
      "Epoch: 7 | Train Loss: 0.08393 | Valid Loss: 0.15453 | Train Accs: 0.97679 | Valid Accs: 0.94965 | Time: 67.62 seconds\n",
      "Epoch: 8 | Train Loss: 0.06805 | Valid Loss: 0.07863 | Train Accs: 0.97634 | Valid Accs: 0.96991 | Time: 68.21 seconds\n",
      "Epoch: 9 | Train Loss: 0.05994 | Valid Loss: 0.07638 | Train Accs: 0.97902 | Valid Accs: 0.97512 | Time: 68.17 seconds\n",
      "\n",
      "Early Stopping at Epoch 10\n",
      "\n",
      "**************************************************\n",
      "\n",
      "Best Validation Loss at Epoch 4\n",
      "\n",
      "**************************************************\n",
      "\n",
      "Best Validation Accs at Epoch 4\n",
      "\n",
      "**************************************************\n",
      "\n",
      "Time Taken [10 Epochs] : 11.43 minutes\n",
      "\n",
      "**************************************************\n",
      "\n"
     ]
    },
    {
     "data": {
      "image/png": "[encoded data removed]",
      "text/plain": [
       "<Figure size 432x288 with 1 Axes>"
      ]
     },
     "metadata": {
      "needs_background": "light"
     },
     "output_type": "display_data"
    },
    {
     "name": "stdout",
     "output_type": "stream",
     "text": [
      "\n",
      "**************************************************\n",
      "\n"
     ]
    },
    {
     "data": {
      "image/png": "[encoded data removed]",
      "text/plain": [
       "<Figure size 432x288 with 1 Axes>"
      ]
     },
     "metadata": {
      "needs_background": "light"
     },
     "output_type": "display_data"
    },
    {
     "name": "stdout",
     "output_type": "stream",
     "text": [
      "\n",
      "**************************************************\n",
      "\n"
     ]
    },
    {
     "data": {
      "image/png": "[encoded data removed]",
      "text/plain": [
       "<Figure size 576x432 with 1 Axes>"
      ]
     },
     "metadata": {
      "needs_background": "light"
     },
     "output_type": "display_data"
    },
    {
     "name": "stdout",
     "output_type": "stream",
     "text": [
      "\n",
      "**************************************************\n",
      "\n"
     ]
    }
   ],
   "source": [
    "fold: int = 1\n",
    "BLEs: list = []\n",
    "BAEs: list = []\n",
    "model_name: str = \"efficientnet_b4\"\n",
    "\n",
    "    \n",
    "for tr_idx, va_idx in StratifiedKFold(n_splits=cfg.n_splits, random_state=cfg.seed, shuffle=True).split(filenames, labels):\n",
    "\n",
    "    tr_filenames, va_filenames       = filenames[tr_idx], filenames[va_idx] \n",
    "    tr_folder_names, va_folder_names = folder_names[tr_idx], folder_names[va_idx] \n",
    "    tr_labels, va_labels             = labels[tr_idx], labels[va_idx]\n",
    "    \n",
    "    tr_data_setup = DS(\n",
    "        base_path=\"../input/4-animal-classification/train\", \n",
    "        filenames=tr_filenames, \n",
    "        folder_names=tr_folder_names,\n",
    "        labels=tr_labels.reshape(-1, 1),\n",
    "        size=cfg.size,\n",
    "        transform=cfg.train_transform)\n",
    "    \n",
    "    va_data_setup = DS(\n",
    "        base_path=\"../input/4-animal-classification/train\", \n",
    "        filenames=va_filenames, \n",
    "        folder_names=va_folder_names,\n",
    "        labels=va_labels.reshape(-1, 1),\n",
    "        size=cfg.size,\n",
    "        transform=cfg.valid_transform)\n",
    "\n",
    "    dataloaders = {\n",
    "        \"train\" : DL(tr_data_setup, batch_size=cfg.batch_size, shuffle=True, generator=torch.manual_seed(cfg.seed)),\n",
    "        \"valid\" : DL(va_data_setup, batch_size=cfg.batch_size, shuffle=False),\n",
    "    }\n",
    "\n",
    "    cfg = CFG(\n",
    "        epochs=25, \n",
    "        batch_size=64, \n",
    "        early_stopping=5,\n",
    "        steps_per_epoch=len(dataloaders[\"train\"])\n",
    "    )\n",
    "    \n",
    "    torch.manual_seed(cfg.seed)\n",
    "    model = Model(model_name=model_name).to(cfg.device)\n",
    "\n",
    "    optimizer = optim.Adam([p for p in model.parameters() if p.requires_grad], lr=cfg.lr, weight_decay=cfg.wd)\n",
    "    # optimizer = optim.AdamW([p for p in model.parameters() if p.requires_grad], lr=cfg.lr, weight_decay=cfg.wd)\n",
    "    # optimizer = optim.SGD([p for p in model.parameters() if p.requires_grad], lr=cfg.lr, weight_decay=cfg.wd, momentum=0.9)\n",
    "    \n",
    "    scheduler_oclr = optim.lr_scheduler.OneCycleLR(\n",
    "        optimizer=optimizer, \n",
    "        max_lr=cfg.max_lr, \n",
    "        epochs=cfg.epochs, \n",
    "        steps_per_epoch=cfg.steps_per_epoch,\n",
    "        pct_start=cfg.pct_start, \n",
    "        div_factor=cfg.div_factor, \n",
    "        final_div_factor=cfg.final_div_factor\n",
    "    )\n",
    "\n",
    "    # scheduler_rlrop = optim.lr_scheduler.ReduceLROnPlateau(\n",
    "    #     optimizer=optimizer,\n",
    "    #     patience=cfg.patience,\n",
    "    #     eps=cfg.eps,\n",
    "    #     verbose=True\n",
    "    # )\n",
    "\n",
    "    # scheduler_oclr = None\n",
    "    scheduler_rlrop = None\n",
    "    \n",
    "    L, A, LR, BLE, BAE, _, _ = fit(\n",
    "        model=model, \n",
    "        model_name=model_name,\n",
    "        optimizer=optimizer, \n",
    "        scheduler_oclr=scheduler_oclr,\n",
    "        scheduler_rlrop=scheduler_rlrop,\n",
    "        epochs=cfg.epochs, \n",
    "        early_stopping_patience=cfg.early_stopping, \n",
    "        dataloaders=dataloaders, \n",
    "        device=cfg.device,\n",
    "        save_path=cfg.save_path,\n",
    "        fold=fold,\n",
    "        verbose=True\n",
    "    )\n",
    "    \n",
    "    breaker()\n",
    "    show_loss_graphs(L)\n",
    "    breaker()\n",
    "    show_accuracy_graphs(A)\n",
    "    breaker()\n",
    "    if scheduler_oclr:\n",
    "        show_lr_graph(LR)\n",
    "        breaker()\n",
    "    \n",
    "    BLEs.append(BLE)\n",
    "    BAEs.append(BAE)\n",
    "    \n",
    "    fold += 1"
   ]
  },
  {
   "cell_type": "markdown",
   "id": "aea1c8f9",
   "metadata": {
    "papermill": {
     "duration": 0.013461,
     "end_time": "2022-08-31T13:23:43.760205",
     "exception": false,
     "start_time": "2022-08-31T13:23:43.746744",
     "status": "completed"
    },
    "tags": []
   },
   "source": [
    "### **Best Model**"
   ]
  },
  {
   "cell_type": "code",
   "execution_count": 10,
   "id": "c4c92499",
   "metadata": {
    "execution": {
     "iopub.execute_input": "2022-08-31T13:23:43.788597Z",
     "iopub.status.busy": "2022-08-31T13:23:43.787928Z",
     "iopub.status.idle": "2022-08-31T13:23:43.794997Z",
     "shell.execute_reply": "2022-08-31T13:23:43.793687Z"
    },
    "papermill": {
     "duration": 0.02479,
     "end_time": "2022-08-31T13:23:43.797934",
     "exception": false,
     "start_time": "2022-08-31T13:23:43.773144",
     "status": "completed"
    },
    "tags": []
   },
   "outputs": [
    {
     "name": "stdout",
     "output_type": "stream",
     "text": [
      "\n",
      "**************************************************\n",
      "\n",
      "Best Loss Model Fold     : 1\n",
      "Best Accuracy Model Fold : 2\n",
      "\n",
      "**************************************************\n",
      "\n"
     ]
    }
   ],
   "source": [
    "best_loss_index = BLEs.index(min(BLEs))\n",
    "best_accs_index = BAEs.index(max(BAEs))\n",
    "\n",
    "breaker()\n",
    "print(f\"Best Loss Model Fold     : {best_loss_index + 1}\")\n",
    "print(f\"Best Accuracy Model Fold : {best_accs_index + 1}\")\n",
    "breaker()"
   ]
  }
 ],
 "metadata": {
  "kernelspec": {
   "display_name": "Python 3",
   "language": "python",
   "name": "python3"
  },
  "language_info": {
   "codemirror_mode": {
    "name": "ipython",
    "version": 3
   },
   "file_extension": ".py",
   "mimetype": "text/x-python",
   "name": "python",
   "nbconvert_exporter": "python",
   "pygments_lexer": "ipython3",
   "version": "3.7.12"
  },
  "papermill": {
   "default_parameters": {},
   "duration": 4057.090826,
   "end_time": "2022-08-31T13:23:46.706447",
   "environment_variables": {},
   "exception": null,
   "input_path": "__notebook__.ipynb",
   "output_path": "__notebook__.ipynb",
   "parameters": {},
   "start_time": "2022-08-31T12:16:09.615621",
   "version": "2.3.4"
  }
 },
 "nbformat": 4,
 "nbformat_minor": 5
}
