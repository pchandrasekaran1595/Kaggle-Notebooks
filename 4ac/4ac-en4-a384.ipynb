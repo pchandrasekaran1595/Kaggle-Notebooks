{
 "cells": [
  {
   "cell_type": "markdown",
   "id": "ca96af48",
   "metadata": {
    "_cell_guid": "b1076dfc-b9ad-4769-8c92-a6c4dae69d19",
    "_uuid": "8f2839f25d086af736a60e9eeb907d3b93b6e0e5",
    "papermill": {
     "duration": 0.014916,
     "end_time": "2022-09-20T11:40:01.608038",
     "exception": false,
     "start_time": "2022-09-20T11:40:01.593122",
     "status": "completed"
    },
    "tags": []
   },
   "source": [
    "### **Setup**"
   ]
  },
  {
   "cell_type": "code",
   "execution_count": 1,
   "id": "7e7e61ca",
   "metadata": {
    "execution": {
     "iopub.execute_input": "2022-09-20T11:40:01.627913Z",
     "iopub.status.busy": "2022-09-20T11:40:01.627242Z",
     "iopub.status.idle": "2022-09-20T11:40:15.261990Z",
     "shell.execute_reply": "2022-09-20T11:40:15.260402Z"
    },
    "papermill": {
     "duration": 13.645816,
     "end_time": "2022-09-20T11:40:15.265234",
     "exception": false,
     "start_time": "2022-09-20T11:40:01.619418",
     "status": "completed"
    },
    "tags": []
   },
   "outputs": [
    {
     "name": "stderr",
     "output_type": "stream",
     "text": [
      "WARNING: Running pip as the 'root' user can result in broken permissions and conflicting behaviour with the system package manager. It is recommended to use a virtual environment instead: https://pip.pypa.io/warnings/venv\n"
     ]
    }
   ],
   "source": [
    "%%bash\n",
    "pip install timm -q"
   ]
  },
  {
   "cell_type": "markdown",
   "id": "dec69af8",
   "metadata": {
    "papermill": {
     "duration": 0.004471,
     "end_time": "2022-09-20T11:40:15.274866",
     "exception": false,
     "start_time": "2022-09-20T11:40:15.270395",
     "status": "completed"
    },
    "tags": []
   },
   "source": [
    "### **Library Imports**"
   ]
  },
  {
   "cell_type": "code",
   "execution_count": 2,
   "id": "9d9bdbb4",
   "metadata": {
    "execution": {
     "iopub.execute_input": "2022-09-20T11:40:15.285948Z",
     "iopub.status.busy": "2022-09-20T11:40:15.285559Z",
     "iopub.status.idle": "2022-09-20T11:40:20.146966Z",
     "shell.execute_reply": "2022-09-20T11:40:20.145304Z"
    },
    "papermill": {
     "duration": 4.871139,
     "end_time": "2022-09-20T11:40:20.150377",
     "exception": false,
     "start_time": "2022-09-20T11:40:15.279238",
     "status": "completed"
    },
    "tags": []
   },
   "outputs": [],
   "source": [
    "import os\n",
    "import re\n",
    "import cv2\n",
    "import timm\n",
    "import torch\n",
    "import numpy as np\n",
    "import pandas as pd\n",
    "import matplotlib.pyplot as plt\n",
    "\n",
    "from time import time\n",
    "from torch import nn, optim\n",
    "from torch.utils.data import Dataset\n",
    "from torch.utils.data import DataLoader as DL\n",
    "from torchvision import models, transforms\n",
    "\n",
    "from sklearn.model_selection import StratifiedKFold"
   ]
  },
  {
   "cell_type": "markdown",
   "id": "0fe432b5",
   "metadata": {
    "papermill": {
     "duration": 0.005367,
     "end_time": "2022-09-20T11:40:20.163486",
     "exception": false,
     "start_time": "2022-09-20T11:40:20.158119",
     "status": "completed"
    },
    "tags": []
   },
   "source": [
    "### **Utilities and Helpers**"
   ]
  },
  {
   "cell_type": "code",
   "execution_count": 3,
   "id": "7cbae126",
   "metadata": {
    "execution": {
     "iopub.execute_input": "2022-09-20T11:40:20.175060Z",
     "iopub.status.busy": "2022-09-20T11:40:20.174281Z",
     "iopub.status.idle": "2022-09-20T11:40:20.191285Z",
     "shell.execute_reply": "2022-09-20T11:40:20.190065Z"
    },
    "papermill": {
     "duration": 0.025812,
     "end_time": "2022-09-20T11:40:20.194113",
     "exception": false,
     "start_time": "2022-09-20T11:40:20.168301",
     "status": "completed"
    },
    "tags": []
   },
   "outputs": [],
   "source": [
    "SEED = 42\n",
    "SIZE = 384\n",
    "\n",
    "\n",
    "def breaker(num: int=50, char: str=\"*\") -> None:\n",
    "    print(\"\\n\" + num*char + \"\\n\")\n",
    "\n",
    "    \n",
    "def get_image(path: str, size: int=224) -> np.ndarray:\n",
    "    image = cv2.imread(path, cv2.IMREAD_COLOR)\n",
    "    image = cv2.cvtColor(src=image, code=cv2.COLOR_BGR2RGB)\n",
    "    return cv2.resize(src=image, dsize=(size, size), interpolation=cv2.INTER_AREA)\n",
    "\n",
    "\n",
    "def show_loss_graphs(L: list) -> None:\n",
    "    TL, VL = [], []\n",
    "    for i in range(len(L)):\n",
    "        TL.append(L[i][\"train\"])\n",
    "        VL.append(L[i][\"valid\"])\n",
    "    x_Axis = np.arange(1, len(TL) + 1)\n",
    "    plt.figure()\n",
    "    plt.plot(x_Axis, TL, \"r\", label=\"Train\")\n",
    "    plt.plot(x_Axis, VL, \"b\", label=\"Valid\")\n",
    "    plt.legend()\n",
    "    plt.grid()\n",
    "    plt.title(\"Loss Graph\")\n",
    "    plt.show()\n",
    "\n",
    "    \n",
    "def show_accuracy_graphs(A: list) -> None:\n",
    "    TA, VA = [], []\n",
    "    for i in range(len(A)):\n",
    "        TA.append(A[i][\"train\"])\n",
    "        VA.append(A[i][\"valid\"])\n",
    "    x_Axis = np.arange(1, len(TA) + 1)\n",
    "    plt.figure()\n",
    "    plt.plot(x_Axis, TA, \"r\", label=\"Train\")\n",
    "    plt.plot(x_Axis, VA, \"b\", label=\"Valid\")\n",
    "    plt.legend()\n",
    "    plt.grid()\n",
    "    plt.title(\"Accuracy Graph\")\n",
    "    plt.show()\n",
    "    \n",
    "\n",
    "def show_lr_graph(LR: list) -> None:\n",
    "    x_Axis = [i+1 for i in range(len(LR))]\n",
    "    plt.figure(figsize=(8, 6))\n",
    "    plt.plot(x_Axis, LR, \"rx\")\n",
    "    plt.grid()\n",
    "    plt.show()"
   ]
  },
  {
   "cell_type": "markdown",
   "id": "5857f97a",
   "metadata": {
    "papermill": {
     "duration": 0.004681,
     "end_time": "2022-09-20T11:40:20.203526",
     "exception": false,
     "start_time": "2022-09-20T11:40:20.198845",
     "status": "completed"
    },
    "tags": []
   },
   "source": [
    "### **Configuration**"
   ]
  },
  {
   "cell_type": "code",
   "execution_count": 4,
   "id": "9696c5e8",
   "metadata": {
    "execution": {
     "iopub.execute_input": "2022-09-20T11:40:20.215237Z",
     "iopub.status.busy": "2022-09-20T11:40:20.214182Z",
     "iopub.status.idle": "2022-09-20T11:40:20.315907Z",
     "shell.execute_reply": "2022-09-20T11:40:20.314488Z"
    },
    "papermill": {
     "duration": 0.11119,
     "end_time": "2022-09-20T11:40:20.319582",
     "exception": false,
     "start_time": "2022-09-20T11:40:20.208392",
     "status": "completed"
    },
    "tags": []
   },
   "outputs": [],
   "source": [
    "class CFG(object):\n",
    "    def __init__(self, \n",
    "                 seed: int = 42,\n",
    "                 size: int = 224,\n",
    "                 n_splits: int = 5,\n",
    "                 batch_size: int = 16,\n",
    "                 epochs: int = 25,\n",
    "                 early_stopping: int = 5,\n",
    "                 lr: float = 1e-4,\n",
    "                 wd: float = 0.0,\n",
    "                 max_lr: float = 1e-3,\n",
    "                 pct_start: float = 0.2,\n",
    "                 steps_per_epoch: int = 100,\n",
    "                 div_factor: int = 1e3, \n",
    "                 final_div_factor: float = 1e3,\n",
    "                 ):\n",
    "        self.seed = seed\n",
    "        self.size = size\n",
    "        self.n_splits = n_splits\n",
    "        self.batch_size = batch_size\n",
    "        self.epochs = epochs\n",
    "        self.early_stopping = early_stopping\n",
    "        self.lr = lr\n",
    "        self.wd = wd\n",
    "        self.max_lr = max_lr\n",
    "        self.pct_start = pct_start\n",
    "        self.steps_per_epoch = steps_per_epoch\n",
    "        self.div_factor = div_factor\n",
    "        self.final_div_factor = final_div_factor\n",
    "        self.device = torch.device(\"cuda\" if torch.cuda.is_available() else \"cpu\")\n",
    "        self.train_transform = transforms.Compose([\n",
    "            transforms.ToTensor(),\n",
    "            transforms.Normalize([0.48805, 0.46218, 0.38043], [0.21471, 0.21141, 0.21124]),\n",
    "            transforms.RandomAffine(degrees=(-45, 45), translate=(0.15, 0.15), scale=(0.5, 1.5)),\n",
    "            transforms.RandomHorizontalFlip(p=0.25),\n",
    "            transforms.RandomVerticalFlip(p=0.25),\n",
    "        ])\n",
    "        self.valid_transform = transforms.Compose([\n",
    "            transforms.ToTensor(),\n",
    "            transforms.Normalize([0.48805, 0.46218, 0.38043], [0.21471, 0.21141, 0.21124]),\n",
    "        ])\n",
    "                                \n",
    "        self.save_path = \"saves\"\n",
    "        if not os.path.exists(self.save_path): os.makedirs(self.save_path)\n",
    "    \n",
    "cfg = CFG(seed=SEED, size=SIZE)"
   ]
  },
  {
   "cell_type": "markdown",
   "id": "2ad28116",
   "metadata": {
    "papermill": {
     "duration": 0.004654,
     "end_time": "2022-09-20T11:40:20.329455",
     "exception": false,
     "start_time": "2022-09-20T11:40:20.324801",
     "status": "completed"
    },
    "tags": []
   },
   "source": [
    "### **Dataset Template**"
   ]
  },
  {
   "cell_type": "code",
   "execution_count": 5,
   "id": "94b24094",
   "metadata": {
    "execution": {
     "iopub.execute_input": "2022-09-20T11:40:20.341867Z",
     "iopub.status.busy": "2022-09-20T11:40:20.340685Z",
     "iopub.status.idle": "2022-09-20T11:40:20.351122Z",
     "shell.execute_reply": "2022-09-20T11:40:20.349973Z"
    },
    "papermill": {
     "duration": 0.019286,
     "end_time": "2022-09-20T11:40:20.353762",
     "exception": false,
     "start_time": "2022-09-20T11:40:20.334476",
     "status": "completed"
    },
    "tags": []
   },
   "outputs": [],
   "source": [
    "class DS(Dataset):\n",
    "    def __init__(\n",
    "        self, \n",
    "        base_path: str,\n",
    "        filenames: np.ndarray, \n",
    "        folder_names: np.ndarray, \n",
    "        labels: np.ndarray, \n",
    "        size: int,\n",
    "        transform=None):\n",
    "        \n",
    "        self.base_path = base_path\n",
    "        self.filenames = filenames\n",
    "        self.folder_names = folder_names\n",
    "        self.labels = labels\n",
    "        self.size = size\n",
    "        self.transform = transform\n",
    "    \n",
    "    def __len__(self):\n",
    "        return self.filenames.shape[0]\n",
    "    \n",
    "    def __getitem__(self, idx):\n",
    "        path = os.path.join(os.path.join(self.base_path, self.folder_names[idx]), self.filenames[idx])\n",
    "        image = get_image(path, self.size)\n",
    "        return self.transform(image), self.labels[idx]"
   ]
  },
  {
   "cell_type": "code",
   "execution_count": 6,
   "id": "4dd760d6",
   "metadata": {
    "execution": {
     "iopub.execute_input": "2022-09-20T11:40:20.365800Z",
     "iopub.status.busy": "2022-09-20T11:40:20.364653Z",
     "iopub.status.idle": "2022-09-20T11:40:20.371277Z",
     "shell.execute_reply": "2022-09-20T11:40:20.369665Z"
    },
    "papermill": {
     "duration": 0.015579,
     "end_time": "2022-09-20T11:40:20.374086",
     "exception": false,
     "start_time": "2022-09-20T11:40:20.358507",
     "status": "completed"
    },
    "tags": []
   },
   "outputs": [],
   "source": [
    "# class DS(Dataset):\n",
    "#     def __init__(\n",
    "#         self, \n",
    "#         base_path: str,\n",
    "#         filenames: np.ndarray, \n",
    "#         size: int,\n",
    "#         transform=None):\n",
    "        \n",
    "#         self.base_path = base_path\n",
    "#         self.filenames = filenames\n",
    "#         self.size = size\n",
    "#         self.transform = transform\n",
    "    \n",
    "#     def __len__(self):\n",
    "#         return self.filenames.shape[0]\n",
    "    \n",
    "#     def __getitem__(self, idx):\n",
    "#         path = os.path.join(self.base_path, str(self.filenames[idx]) + \".jpg\")\n",
    "#         image = get_image(path, self.size)\n",
    "#         return self.transform(image)"
   ]
  },
  {
   "cell_type": "markdown",
   "id": "a9535f73",
   "metadata": {
    "papermill": {
     "duration": 0.004928,
     "end_time": "2022-09-20T11:40:20.384246",
     "exception": false,
     "start_time": "2022-09-20T11:40:20.379318",
     "status": "completed"
    },
    "tags": []
   },
   "source": [
    "### **Model**"
   ]
  },
  {
   "cell_type": "code",
   "execution_count": 7,
   "id": "bd1206a3",
   "metadata": {
    "execution": {
     "iopub.execute_input": "2022-09-20T11:40:20.396106Z",
     "iopub.status.busy": "2022-09-20T11:40:20.395787Z",
     "iopub.status.idle": "2022-09-20T11:40:20.403260Z",
     "shell.execute_reply": "2022-09-20T11:40:20.401904Z"
    },
    "papermill": {
     "duration": 0.016303,
     "end_time": "2022-09-20T11:40:20.405902",
     "exception": false,
     "start_time": "2022-09-20T11:40:20.389599",
     "status": "completed"
    },
    "tags": []
   },
   "outputs": [],
   "source": [
    "class Model(nn.Module):\n",
    "    def __init__(self):\n",
    "        super(Model, self).__init__()\n",
    "            \n",
    "        self.model = timm.create_model(model_name=\"efficientnet_b4\", pretrained=True)\n",
    "        self.model.classifier = nn.Linear(in_features=self.model.classifier.in_features, out_features=11)\n",
    "            \n",
    "    def freeze(self):\n",
    "        for params in self.parameters(): params.requires_grad = False\n",
    "\n",
    "    def forward(self, x):\n",
    "        return nn.LogSoftmax(dim=1)(self.model(x))"
   ]
  },
  {
   "cell_type": "markdown",
   "id": "2ef0e857",
   "metadata": {
    "papermill": {
     "duration": 0.004806,
     "end_time": "2022-09-20T11:40:20.415510",
     "exception": false,
     "start_time": "2022-09-20T11:40:20.410704",
     "status": "completed"
    },
    "tags": []
   },
   "source": [
    "### **Fit and Predict**"
   ]
  },
  {
   "cell_type": "code",
   "execution_count": 8,
   "id": "782c0cfc",
   "metadata": {
    "execution": {
     "iopub.execute_input": "2022-09-20T11:40:20.427381Z",
     "iopub.status.busy": "2022-09-20T11:40:20.427055Z",
     "iopub.status.idle": "2022-09-20T11:40:20.453217Z",
     "shell.execute_reply": "2022-09-20T11:40:20.451929Z"
    },
    "papermill": {
     "duration": 0.035395,
     "end_time": "2022-09-20T11:40:20.455994",
     "exception": false,
     "start_time": "2022-09-20T11:40:20.420599",
     "status": "completed"
    },
    "tags": []
   },
   "outputs": [],
   "source": [
    "def fit(model=None,\n",
    "        optimizer=None, \n",
    "        scheduler_rlrop=None,\n",
    "        scheduler_oclr=None,\n",
    "        epochs=None, \n",
    "        early_stopping_patience=None, \n",
    "        dataloaders=None, \n",
    "        fold=None, \n",
    "        save_path=None,\n",
    "        device=None,\n",
    "        verbose=False) -> tuple:\n",
    "    \n",
    "    def get_accuracy(y_pred, y_true):\n",
    "        y_pred = torch.argmax(y_pred, dim=1)\n",
    "        return torch.count_nonzero(y_pred == y_true).item() / len(y_pred)\n",
    "    \n",
    "    if verbose:\n",
    "        breaker()\n",
    "        if fold: print(f\"Training Fold {fold}...\")\n",
    "        else: print(\"Training ...\")\n",
    "        breaker()\n",
    "        \n",
    "    bestLoss: dict = {\"train\" : np.inf, \"valid\" : np.inf} \n",
    "    bestAccs: dict = {\"train\" : 0.0, \"valid\" : 0.0}\n",
    "        \n",
    "    Losses: list = []\n",
    "    Accuracies: list = [] \n",
    "    LRs: list = []\n",
    "        \n",
    "    if fold: \n",
    "        ble_name = f\"ble_state_fold_{fold}.pt\"\n",
    "        bae_name = f\"bae_state_fold_{fold}.pt\"\n",
    "    else: \n",
    "        ble_name = f\"ble_state.pt\"\n",
    "        bae_name = f\"bae_state.pt\"\n",
    "    \n",
    "    start_time = time()\n",
    "    for e in range(epochs):\n",
    "        e_st = time()\n",
    "        epochLoss: dict = {\"train\" : 0.0, \"valid\" : 0.0} \n",
    "        epochAccs: dict = {\"train\" : 0.0, \"valid\" : 0.0}\n",
    "\n",
    "        for phase in [\"train\", \"valid\"]:\n",
    "            if phase == \"train\":\n",
    "                model.train()\n",
    "            else:\n",
    "                model.eval()\n",
    "            \n",
    "            lossPerPass: list = []\n",
    "            accsPerPass: list = []\n",
    "                \n",
    "            for X, y in dataloaders[phase]:\n",
    "                X, y = X.to(device), y.to(device).view(-1)\n",
    "\n",
    "                optimizer.zero_grad()\n",
    "                with torch.set_grad_enabled(phase == \"train\"):\n",
    "                    output = model(X)\n",
    "                    loss = torch.nn.NLLLoss()(output, y)\n",
    "                    if phase == \"train\":\n",
    "                        loss.backward()\n",
    "                        optimizer.step()\n",
    "                        if scheduler_oclr: scheduler_oclr.step()\n",
    "                lossPerPass.append(loss.item())\n",
    "                accsPerPass.append(get_accuracy(output, y))\n",
    "            epochLoss[phase] = np.mean(np.array(lossPerPass))\n",
    "            epochAccs[phase] = np.mean(np.array(accsPerPass))\n",
    "        if scheduler_oclr: LRs.append(scheduler_oclr.get_last_lr())\n",
    "        Losses.append(epochLoss)\n",
    "        Accuracies.append(epochAccs)\n",
    "    \n",
    "        if scheduler_oclr:\n",
    "            save_dict = {\"model_state_dict\"     : model.state_dict(),\n",
    "                         \"optim_state_dict\"     : optimizer.state_dict(),\n",
    "                         \"scheduler_state_dict\" : scheduler_oclr.state_dict()}\n",
    "        \n",
    "        elif scheduler_rlrop:\n",
    "            save_dict = {\"model_state_dict\"     : model.state_dict(),\n",
    "                         \"optim_state_dict\"     : optimizer.state_dict(),\n",
    "                         \"scheduler_state_dict\" : scheduler_rlrop.state_dict()}\n",
    "        \n",
    "        else:\n",
    "            save_dict = {\"model_state_dict\"     : model.state_dict(),\n",
    "                         \"optim_state_dict\"     : optimizer.state_dict()}\n",
    "        \n",
    "        \n",
    "        if early_stopping_patience:\n",
    "            if epochLoss[\"valid\"] < bestLoss[\"valid\"]:\n",
    "                bestLoss = epochLoss\n",
    "                BLE = e + 1\n",
    "                torch.save(save_dict, os.path.join(save_path, ble_name))\n",
    "                torch.save(save_dict, os.path.join(save_path, bae_name))\n",
    "                early_stopping_step = 0\n",
    "            else:\n",
    "                early_stopping_step += 1\n",
    "                if early_stopping_step > early_stopping_patience:\n",
    "                    print(\"\\nEarly Stopping at Epoch {}\".format(e + 1))\n",
    "                    break\n",
    "        \n",
    "        if epochLoss[\"valid\"] < bestLoss[\"valid\"]:\n",
    "            bestLoss = epochLoss\n",
    "            BLE = e + 1\n",
    "            torch.save(save_dict,os.path.join(save_path, ble_name))\n",
    "        \n",
    "        if epochAccs[\"valid\"] > bestAccs[\"valid\"]:\n",
    "            bestAccs = epochAccs\n",
    "            BAE = e + 1\n",
    "            torch.save(save_dict,os.path.join(save_path, bae_name))\n",
    "        \n",
    "        if scheduler_rlrop: scheduler_rlrop.step(epochLoss[\"valid\"])\n",
    "        \n",
    "        if verbose:\n",
    "            print(\"Epoch: {} | Train Loss: {:.5f} | Valid Loss: {:.5f} |\\\n",
    " Train Accs: {:.5f} | Valid Accs: {:.5f} | Time: {:.2f} seconds\".format(e+1, \n",
    "                                                                        epochLoss[\"train\"], epochLoss[\"valid\"], \n",
    "                                                                        epochAccs[\"train\"], epochAccs[\"valid\"], \n",
    "                                                                        time()-e_st))\n",
    "\n",
    "    if verbose:                                           \n",
    "        breaker()\n",
    "        print(f\"Best Validation Loss at Epoch {BLE}\")\n",
    "        breaker()\n",
    "        print(f\"Best Validation Accs at Epoch {BAE}\")\n",
    "        breaker()\n",
    "        print(\"Time Taken [{} Epochs] : {:.2f} minutes\".format(len(Losses), (time()-start_time)/60))\n",
    "    \n",
    "    return Losses, Accuracies, LRs, BLE, BAE, ble_name, bae_name\n",
    "\n",
    "\n",
    "# def predict_batch(model=None, dataloader=None, path=None, device=None) -> np.ndarray:\n",
    "#     model.load_state_dict(torch.load(path, map_location=device)[\"model_state_dict\"])\n",
    "#     model.to(device)    \n",
    "#     model.eval()\n",
    "    \n",
    "#     y_pred = torch.zeros(1, 1).to(device)\n",
    "    \n",
    "#     for X in dataloader:\n",
    "#         X = X.to(device)\n",
    "#         with torch.no_grad():\n",
    "#             output = torch.argmax(torch.exp(model(X)), dim=1)\n",
    "#         y_pred = torch.cat((y_pred, output.view(-1, 1)), dim=0)\n",
    "    \n",
    "#     return y_pred[1:].detach().cpu().numpy()"
   ]
  },
  {
   "cell_type": "markdown",
   "id": "50eda163",
   "metadata": {
    "papermill": {
     "duration": 0.004858,
     "end_time": "2022-09-20T11:40:20.465721",
     "exception": false,
     "start_time": "2022-09-20T11:40:20.460863",
     "status": "completed"
    },
    "tags": []
   },
   "source": [
    "### **Train**"
   ]
  },
  {
   "cell_type": "code",
   "execution_count": 9,
   "id": "702b4ad4",
   "metadata": {
    "execution": {
     "iopub.execute_input": "2022-09-20T11:40:20.477433Z",
     "iopub.status.busy": "2022-09-20T11:40:20.477055Z",
     "iopub.status.idle": "2022-09-20T11:40:20.517166Z",
     "shell.execute_reply": "2022-09-20T11:40:20.515978Z"
    },
    "papermill": {
     "duration": 0.049177,
     "end_time": "2022-09-20T11:40:20.519901",
     "exception": false,
     "start_time": "2022-09-20T11:40:20.470724",
     "status": "completed"
    },
    "tags": []
   },
   "outputs": [],
   "source": [
    "df = pd.read_csv(\"../input/4ac-dataframe/data.csv\")\n",
    "\n",
    "filenames = df.filenames.copy().values\n",
    "folder_names = df.folder_names.copy().values\n",
    "labels = df.classes.copy().values"
   ]
  },
  {
   "cell_type": "code",
   "execution_count": 10,
   "id": "550a88c3",
   "metadata": {
    "execution": {
     "iopub.execute_input": "2022-09-20T11:40:20.532677Z",
     "iopub.status.busy": "2022-09-20T11:40:20.532377Z",
     "iopub.status.idle": "2022-09-20T13:08:44.675677Z",
     "shell.execute_reply": "2022-09-20T13:08:44.674189Z"
    },
    "papermill": {
     "duration": 5304.153023,
     "end_time": "2022-09-20T13:08:44.678323",
     "exception": false,
     "start_time": "2022-09-20T11:40:20.525300",
     "status": "completed"
    },
    "tags": []
   },
   "outputs": [
    {
     "name": "stderr",
     "output_type": "stream",
     "text": [
      "Downloading: \"https://github.com/rwightman/pytorch-image-models/releases/download/v0.1-weights/efficientnet_b4_ra2_320-7eb33cd5.pth\" to /root/.cache/torch/hub/checkpoints/efficientnet_b4_ra2_320-7eb33cd5.pth\n"
     ]
    },
    {
     "name": "stdout",
     "output_type": "stream",
     "text": [
      "\n",
      "**************************************************\n",
      "\n",
      "Training Fold 1...\n",
      "\n",
      "**************************************************\n",
      "\n",
      "Epoch: 1 | Train Loss: 2.22864 | Valid Loss: 1.55456 | Train Accs: 0.38795 | Valid Accs: 0.69821 | Time: 178.69 seconds\n",
      "Epoch: 2 | Train Loss: 0.56418 | Valid Loss: 0.04996 | Train Accs: 0.86205 | Valid Accs: 0.98750 | Time: 141.93 seconds\n",
      "Epoch: 3 | Train Loss: 0.15234 | Valid Loss: 0.07872 | Train Accs: 0.95223 | Valid Accs: 0.96964 | Time: 135.73 seconds\n",
      "Epoch: 4 | Train Loss: 0.16058 | Valid Loss: 0.07378 | Train Accs: 0.94598 | Valid Accs: 0.98036 | Time: 136.08 seconds\n",
      "Epoch: 5 | Train Loss: 0.16512 | Valid Loss: 0.10586 | Train Accs: 0.94732 | Valid Accs: 0.97321 | Time: 135.51 seconds\n",
      "Epoch: 6 | Train Loss: 0.14102 | Valid Loss: 0.09997 | Train Accs: 0.95580 | Valid Accs: 0.96607 | Time: 137.86 seconds\n",
      "Epoch: 7 | Train Loss: 0.12291 | Valid Loss: 0.08601 | Train Accs: 0.96295 | Valid Accs: 0.96964 | Time: 134.55 seconds\n",
      "Epoch: 8 | Train Loss: 0.06656 | Valid Loss: 0.03974 | Train Accs: 0.97991 | Valid Accs: 0.99107 | Time: 140.21 seconds\n",
      "Epoch: 9 | Train Loss: 0.04971 | Valid Loss: 0.06837 | Train Accs: 0.98393 | Valid Accs: 0.98036 | Time: 136.13 seconds\n",
      "Epoch: 10 | Train Loss: 0.05955 | Valid Loss: 0.04722 | Train Accs: 0.98080 | Valid Accs: 0.98214 | Time: 137.91 seconds\n",
      "Epoch: 11 | Train Loss: 0.06088 | Valid Loss: 0.06555 | Train Accs: 0.97634 | Valid Accs: 0.98036 | Time: 136.86 seconds\n",
      "Epoch: 12 | Train Loss: 0.04512 | Valid Loss: 0.08595 | Train Accs: 0.98616 | Valid Accs: 0.97679 | Time: 136.61 seconds\n",
      "Epoch: 13 | Train Loss: 0.03631 | Valid Loss: 0.06824 | Train Accs: 0.98750 | Valid Accs: 0.97679 | Time: 137.84 seconds\n",
      "\n",
      "Early Stopping at Epoch 14\n",
      "\n",
      "**************************************************\n",
      "\n",
      "Best Validation Loss at Epoch 8\n",
      "\n",
      "**************************************************\n",
      "\n",
      "Best Validation Accs at Epoch 8\n",
      "\n",
      "**************************************************\n",
      "\n",
      "Time Taken [14 Epochs] : 32.71 minutes\n",
      "\n",
      "**************************************************\n",
      "\n"
     ]
    },
    {
     "data": {
      "image/png": "[encoded data removed]",
      "text/plain": [
       "<Figure size 432x288 with 1 Axes>"
      ]
     },
     "metadata": {
      "needs_background": "light"
     },
     "output_type": "display_data"
    },
    {
     "name": "stdout",
     "output_type": "stream",
     "text": [
      "\n",
      "**************************************************\n",
      "\n"
     ]
    },
    {
     "data": {
      "image/png": "[encoded data removed]",
      "text/plain": [
       "<Figure size 432x288 with 1 Axes>"
      ]
     },
     "metadata": {
      "needs_background": "light"
     },
     "output_type": "display_data"
    },
    {
     "name": "stdout",
     "output_type": "stream",
     "text": [
      "\n",
      "**************************************************\n",
      "\n"
     ]
    },
    {
     "data": {
      "image/png": "[encoded data removed]",
      "text/plain": [
       "<Figure size 576x432 with 1 Axes>"
      ]
     },
     "metadata": {
      "needs_background": "light"
     },
     "output_type": "display_data"
    },
    {
     "name": "stdout",
     "output_type": "stream",
     "text": [
      "\n",
      "**************************************************\n",
      "\n",
      "\n",
      "**************************************************\n",
      "\n",
      "Training Fold 2...\n",
      "\n",
      "**************************************************\n",
      "\n",
      "Epoch: 1 | Train Loss: 2.20036 | Valid Loss: 1.44638 | Train Accs: 0.30670 | Valid Accs: 0.62321 | Time: 78.17 seconds\n",
      "Epoch: 2 | Train Loss: 0.62348 | Valid Loss: 0.08084 | Train Accs: 0.79911 | Valid Accs: 0.97679 | Time: 78.63 seconds\n",
      "Epoch: 3 | Train Loss: 0.26189 | Valid Loss: 0.08442 | Train Accs: 0.89911 | Valid Accs: 0.97679 | Time: 75.01 seconds\n",
      "Epoch: 4 | Train Loss: 0.25897 | Valid Loss: 0.22817 | Train Accs: 0.91429 | Valid Accs: 0.92321 | Time: 75.07 seconds\n",
      "Epoch: 5 | Train Loss: 0.21852 | Valid Loss: 0.11543 | Train Accs: 0.92500 | Valid Accs: 0.95179 | Time: 74.38 seconds\n",
      "Epoch: 6 | Train Loss: 0.17148 | Valid Loss: 0.10724 | Train Accs: 0.93973 | Valid Accs: 0.97143 | Time: 74.54 seconds\n",
      "Epoch: 7 | Train Loss: 0.19443 | Valid Loss: 0.07846 | Train Accs: 0.93125 | Valid Accs: 0.97500 | Time: 76.81 seconds\n",
      "Epoch: 8 | Train Loss: 0.15092 | Valid Loss: 0.06259 | Train Accs: 0.95402 | Valid Accs: 0.97679 | Time: 76.55 seconds\n",
      "Epoch: 9 | Train Loss: 0.09762 | Valid Loss: 0.10512 | Train Accs: 0.96518 | Valid Accs: 0.95714 | Time: 74.84 seconds\n",
      "Epoch: 10 | Train Loss: 0.10100 | Valid Loss: 0.06902 | Train Accs: 0.96786 | Valid Accs: 0.97321 | Time: 73.86 seconds\n",
      "Epoch: 11 | Train Loss: 0.07240 | Valid Loss: 0.10495 | Train Accs: 0.97455 | Valid Accs: 0.96786 | Time: 73.46 seconds\n",
      "Epoch: 12 | Train Loss: 0.09116 | Valid Loss: 0.07976 | Train Accs: 0.97098 | Valid Accs: 0.97500 | Time: 73.67 seconds\n",
      "Epoch: 13 | Train Loss: 0.05701 | Valid Loss: 0.07267 | Train Accs: 0.97902 | Valid Accs: 0.97857 | Time: 75.82 seconds\n",
      "\n",
      "Early Stopping at Epoch 14\n",
      "\n",
      "**************************************************\n",
      "\n",
      "Best Validation Loss at Epoch 8\n",
      "\n",
      "**************************************************\n",
      "\n",
      "Best Validation Accs at Epoch 13\n",
      "\n",
      "**************************************************\n",
      "\n",
      "Time Taken [14 Epochs] : 17.59 minutes\n",
      "\n",
      "**************************************************\n",
      "\n"
     ]
    },
    {
     "data": {
      "image/png": "[encoded data removed]",
      "text/plain": [
       "<Figure size 432x288 with 1 Axes>"
      ]
     },
     "metadata": {
      "needs_background": "light"
     },
     "output_type": "display_data"
    },
    {
     "name": "stdout",
     "output_type": "stream",
     "text": [
      "\n",
      "**************************************************\n",
      "\n"
     ]
    },
    {
     "data": {
      "image/png": "[encoded data removed]",
      "text/plain": [
       "<Figure size 432x288 with 1 Axes>"
      ]
     },
     "metadata": {
      "needs_background": "light"
     },
     "output_type": "display_data"
    },
    {
     "name": "stdout",
     "output_type": "stream",
     "text": [
      "\n",
      "**************************************************\n",
      "\n"
     ]
    },
    {
     "data": {
      "image/png": "[encoded data removed]",
      "text/plain": [
       "<Figure size 576x432 with 1 Axes>"
      ]
     },
     "metadata": {
      "needs_background": "light"
     },
     "output_type": "display_data"
    },
    {
     "name": "stdout",
     "output_type": "stream",
     "text": [
      "\n",
      "**************************************************\n",
      "\n",
      "\n",
      "**************************************************\n",
      "\n",
      "Training Fold 3...\n",
      "\n",
      "**************************************************\n",
      "\n",
      "Epoch: 1 | Train Loss: 2.19993 | Valid Loss: 1.44899 | Train Accs: 0.29911 | Valid Accs: 0.58036 | Time: 76.65 seconds\n",
      "Epoch: 2 | Train Loss: 0.62559 | Valid Loss: 0.08478 | Train Accs: 0.80670 | Valid Accs: 0.98214 | Time: 77.53 seconds\n",
      "Epoch: 3 | Train Loss: 0.25441 | Valid Loss: 0.07421 | Train Accs: 0.90580 | Valid Accs: 0.98571 | Time: 78.89 seconds\n",
      "Epoch: 4 | Train Loss: 0.24432 | Valid Loss: 0.06932 | Train Accs: 0.91920 | Valid Accs: 0.97500 | Time: 78.21 seconds\n",
      "Epoch: 5 | Train Loss: 0.21803 | Valid Loss: 0.15897 | Train Accs: 0.93080 | Valid Accs: 0.95000 | Time: 74.59 seconds\n",
      "Epoch: 6 | Train Loss: 0.21517 | Valid Loss: 0.11829 | Train Accs: 0.92589 | Valid Accs: 0.95893 | Time: 74.65 seconds\n",
      "Epoch: 7 | Train Loss: 0.17535 | Valid Loss: 0.08382 | Train Accs: 0.94063 | Valid Accs: 0.97143 | Time: 73.81 seconds\n",
      "Epoch: 8 | Train Loss: 0.11999 | Valid Loss: 0.11234 | Train Accs: 0.95670 | Valid Accs: 0.96071 | Time: 74.30 seconds\n",
      "Epoch: 9 | Train Loss: 0.12218 | Valid Loss: 0.11043 | Train Accs: 0.96071 | Valid Accs: 0.96964 | Time: 74.39 seconds\n",
      "\n",
      "Early Stopping at Epoch 10\n",
      "\n",
      "**************************************************\n",
      "\n",
      "Best Validation Loss at Epoch 4\n",
      "\n",
      "**************************************************\n",
      "\n",
      "Best Validation Accs at Epoch 3\n",
      "\n",
      "**************************************************\n",
      "\n",
      "Time Taken [10 Epochs] : 12.61 minutes\n",
      "\n",
      "**************************************************\n",
      "\n"
     ]
    },
    {
     "data": {
      "image/png": "[encoded data removed]",
      "text/plain": [
       "<Figure size 432x288 with 1 Axes>"
      ]
     },
     "metadata": {
      "needs_background": "light"
     },
     "output_type": "display_data"
    },
    {
     "name": "stdout",
     "output_type": "stream",
     "text": [
      "\n",
      "**************************************************\n",
      "\n"
     ]
    },
    {
     "data": {
      "image/png": "[encoded data removed]",
      "text/plain": [
       "<Figure size 432x288 with 1 Axes>"
      ]
     },
     "metadata": {
      "needs_background": "light"
     },
     "output_type": "display_data"
    },
    {
     "name": "stdout",
     "output_type": "stream",
     "text": [
      "\n",
      "**************************************************\n",
      "\n"
     ]
    },
    {
     "data": {
      "image/png": "[encoded data removed]",
      "text/plain": [
       "<Figure size 576x432 with 1 Axes>"
      ]
     },
     "metadata": {
      "needs_background": "light"
     },
     "output_type": "display_data"
    },
    {
     "name": "stdout",
     "output_type": "stream",
     "text": [
      "\n",
      "**************************************************\n",
      "\n",
      "\n",
      "**************************************************\n",
      "\n",
      "Training Fold 4...\n",
      "\n",
      "**************************************************\n",
      "\n",
      "Epoch: 1 | Train Loss: 2.20330 | Valid Loss: 1.44803 | Train Accs: 0.30804 | Valid Accs: 0.66071 | Time: 75.99 seconds\n",
      "Epoch: 2 | Train Loss: 0.62720 | Valid Loss: 0.07040 | Train Accs: 0.78750 | Valid Accs: 0.98393 | Time: 78.18 seconds\n",
      "Epoch: 3 | Train Loss: 0.26394 | Valid Loss: 0.08954 | Train Accs: 0.90625 | Valid Accs: 0.98036 | Time: 73.18 seconds\n",
      "Epoch: 4 | Train Loss: 0.23085 | Valid Loss: 0.14396 | Train Accs: 0.91696 | Valid Accs: 0.94286 | Time: 74.59 seconds\n",
      "Epoch: 5 | Train Loss: 0.22548 | Valid Loss: 0.09880 | Train Accs: 0.92634 | Valid Accs: 0.96786 | Time: 74.75 seconds\n",
      "Epoch: 6 | Train Loss: 0.18801 | Valid Loss: 0.12323 | Train Accs: 0.93750 | Valid Accs: 0.96250 | Time: 75.92 seconds\n",
      "Epoch: 7 | Train Loss: 0.17772 | Valid Loss: 0.11310 | Train Accs: 0.94018 | Valid Accs: 0.96250 | Time: 75.03 seconds\n",
      "\n",
      "Early Stopping at Epoch 8\n",
      "\n",
      "**************************************************\n",
      "\n",
      "Best Validation Loss at Epoch 2\n",
      "\n",
      "**************************************************\n",
      "\n",
      "Best Validation Accs at Epoch 2\n",
      "\n",
      "**************************************************\n",
      "\n",
      "Time Taken [8 Epochs] : 10.03 minutes\n",
      "\n",
      "**************************************************\n",
      "\n"
     ]
    },
    {
     "data": {
      "image/png": "[encoded data removed]",
      "text/plain": [
       "<Figure size 432x288 with 1 Axes>"
      ]
     },
     "metadata": {
      "needs_background": "light"
     },
     "output_type": "display_data"
    },
    {
     "name": "stdout",
     "output_type": "stream",
     "text": [
      "\n",
      "**************************************************\n",
      "\n"
     ]
    },
    {
     "data": {
      "image/png": "[encoded data removed]",
      "text/plain": [
       "<Figure size 432x288 with 1 Axes>"
      ]
     },
     "metadata": {
      "needs_background": "light"
     },
     "output_type": "display_data"
    },
    {
     "name": "stdout",
     "output_type": "stream",
     "text": [
      "\n",
      "**************************************************\n",
      "\n"
     ]
    },
    {
     "data": {
      "image/png": "[encoded data removed]",
      "text/plain": [
       "<Figure size 576x432 with 1 Axes>"
      ]
     },
     "metadata": {
      "needs_background": "light"
     },
     "output_type": "display_data"
    },
    {
     "name": "stdout",
     "output_type": "stream",
     "text": [
      "\n",
      "**************************************************\n",
      "\n",
      "\n",
      "**************************************************\n",
      "\n",
      "Training Fold 5...\n",
      "\n",
      "**************************************************\n",
      "\n",
      "Epoch: 1 | Train Loss: 2.20036 | Valid Loss: 1.43309 | Train Accs: 0.31652 | Valid Accs: 0.61964 | Time: 77.60 seconds\n",
      "Epoch: 2 | Train Loss: 0.62331 | Valid Loss: 0.14421 | Train Accs: 0.80223 | Valid Accs: 0.93750 | Time: 79.04 seconds\n",
      "Epoch: 3 | Train Loss: 0.25177 | Valid Loss: 0.09485 | Train Accs: 0.90982 | Valid Accs: 0.96607 | Time: 78.13 seconds\n",
      "Epoch: 4 | Train Loss: 0.23174 | Valid Loss: 0.09765 | Train Accs: 0.92054 | Valid Accs: 0.96964 | Time: 76.48 seconds\n",
      "Epoch: 5 | Train Loss: 0.21947 | Valid Loss: 0.13099 | Train Accs: 0.92500 | Valid Accs: 0.95893 | Time: 75.45 seconds\n",
      "Epoch: 6 | Train Loss: 0.21012 | Valid Loss: 0.08491 | Train Accs: 0.92723 | Valid Accs: 0.97321 | Time: 78.68 seconds\n",
      "Epoch: 7 | Train Loss: 0.15194 | Valid Loss: 0.11539 | Train Accs: 0.94509 | Valid Accs: 0.95714 | Time: 73.73 seconds\n",
      "Epoch: 8 | Train Loss: 0.15883 | Valid Loss: 0.10962 | Train Accs: 0.94196 | Valid Accs: 0.95714 | Time: 74.46 seconds\n",
      "Epoch: 9 | Train Loss: 0.10343 | Valid Loss: 0.14221 | Train Accs: 0.96562 | Valid Accs: 0.95893 | Time: 75.55 seconds\n",
      "Epoch: 10 | Train Loss: 0.07460 | Valid Loss: 0.16997 | Train Accs: 0.97813 | Valid Accs: 0.94643 | Time: 74.81 seconds\n",
      "Epoch: 11 | Train Loss: 0.09802 | Valid Loss: 0.19227 | Train Accs: 0.96786 | Valid Accs: 0.94107 | Time: 73.94 seconds\n",
      "\n",
      "Early Stopping at Epoch 12\n",
      "\n",
      "**************************************************\n",
      "\n",
      "Best Validation Loss at Epoch 6\n",
      "\n",
      "**************************************************\n",
      "\n",
      "Best Validation Accs at Epoch 6\n",
      "\n",
      "**************************************************\n",
      "\n",
      "Time Taken [12 Epochs] : 15.20 minutes\n",
      "\n",
      "**************************************************\n",
      "\n"
     ]
    },
    {
     "data": {
      "image/png": "[encoded data removed]",
      "text/plain": [
       "<Figure size 432x288 with 1 Axes>"
      ]
     },
     "metadata": {
      "needs_background": "light"
     },
     "output_type": "display_data"
    },
    {
     "name": "stdout",
     "output_type": "stream",
     "text": [
      "\n",
      "**************************************************\n",
      "\n"
     ]
    },
    {
     "data": {
      "image/png": "[encoded data removed]",
      "text/plain": [
       "<Figure size 432x288 with 1 Axes>"
      ]
     },
     "metadata": {
      "needs_background": "light"
     },
     "output_type": "display_data"
    },
    {
     "name": "stdout",
     "output_type": "stream",
     "text": [
      "\n",
      "**************************************************\n",
      "\n"
     ]
    },
    {
     "data": {
      "image/png": "[encoded data removed]",
      "text/plain": [
       "<Figure size 576x432 with 1 Axes>"
      ]
     },
     "metadata": {
      "needs_background": "light"
     },
     "output_type": "display_data"
    },
    {
     "name": "stdout",
     "output_type": "stream",
     "text": [
      "\n",
      "**************************************************\n",
      "\n"
     ]
    }
   ],
   "source": [
    "fold: int = 1\n",
    "BLEs: list = []\n",
    "BAEs: list = []\n",
    "    \n",
    "for tr_idx, va_idx in StratifiedKFold(n_splits=cfg.n_splits, random_state=cfg.seed, shuffle=True).split(filenames, labels):\n",
    "\n",
    "    tr_filenames, va_filenames       = filenames[tr_idx], filenames[va_idx] \n",
    "    tr_folder_names, va_folder_names = folder_names[tr_idx], folder_names[va_idx] \n",
    "    tr_labels, va_labels             = labels[tr_idx], labels[va_idx]\n",
    "    \n",
    "    tr_data_setup = DS(\n",
    "        base_path=\"../input/4-animal-classification/train\", \n",
    "        filenames=tr_filenames, \n",
    "        folder_names=tr_folder_names,\n",
    "        labels=tr_labels.reshape(-1, 1),\n",
    "        size=cfg.size,\n",
    "        transform=cfg.train_transform)\n",
    "    \n",
    "    va_data_setup = DS(\n",
    "        base_path=\"../input/4-animal-classification/train\", \n",
    "        filenames=va_filenames, \n",
    "        folder_names=va_folder_names,\n",
    "        labels=va_labels.reshape(-1, 1),\n",
    "        size=cfg.size,\n",
    "        transform=cfg.valid_transform)\n",
    "\n",
    "    dataloaders = {\n",
    "        \"train\" : DL(tr_data_setup, batch_size=cfg.batch_size, shuffle=True, generator=torch.manual_seed(cfg.seed)),\n",
    "        \"valid\" : DL(va_data_setup, batch_size=cfg.batch_size, shuffle=False),\n",
    "    }\n",
    "\n",
    "    cfg = CFG(\n",
    "        epochs=25, \n",
    "        batch_size=16, \n",
    "        early_stopping=5,\n",
    "        steps_per_epoch=len(dataloaders[\"train\"])\n",
    "    )\n",
    "    \n",
    "    torch.manual_seed(cfg.seed)\n",
    "    model = Model().to(cfg.device)\n",
    "\n",
    "    optimizer = optim.Adam([p for p in model.parameters() if p.requires_grad], lr=cfg.lr, weight_decay=cfg.wd)\n",
    "    # optimizer = optim.AdamW([p for p in model.parameters() if p.requires_grad], lr=cfg.lr, weight_decay=cfg.wd)\n",
    "    # optimizer = optim.SGD([p for p in model.parameters() if p.requires_grad], lr=cfg.lr, weight_decay=cfg.wd, momentum=0.9)\n",
    "    \n",
    "    scheduler_oclr = optim.lr_scheduler.OneCycleLR(\n",
    "        optimizer=optimizer, \n",
    "        max_lr=cfg.max_lr, \n",
    "        epochs=cfg.epochs, \n",
    "        steps_per_epoch=cfg.steps_per_epoch,\n",
    "        pct_start=cfg.pct_start, \n",
    "        div_factor=cfg.div_factor, \n",
    "        final_div_factor=cfg.final_div_factor\n",
    "    )\n",
    "\n",
    "    # scheduler_rlrop = optim.lr_scheduler.ReduceLROnPlateau(\n",
    "    #     optimizer=optimizer,\n",
    "    #     patience=cfg.patience,\n",
    "    #     eps=cfg.eps,\n",
    "    #     verbose=True\n",
    "    # )\n",
    "\n",
    "    # scheduler_oclr = None\n",
    "    scheduler_rlrop = None\n",
    "    \n",
    "    L, A, LR, BLE, BAE, _, _ = fit(\n",
    "        model=model, \n",
    "        optimizer=optimizer, \n",
    "        scheduler_oclr=scheduler_oclr,\n",
    "        scheduler_rlrop=scheduler_rlrop,\n",
    "        epochs=cfg.epochs, \n",
    "        early_stopping_patience=cfg.early_stopping, \n",
    "        dataloaders=dataloaders, \n",
    "        device=cfg.device,\n",
    "        save_path=cfg.save_path,\n",
    "        fold=fold,\n",
    "        verbose=True\n",
    "    )\n",
    "    \n",
    "    breaker()\n",
    "    show_loss_graphs(L)\n",
    "    breaker()\n",
    "    show_accuracy_graphs(A)\n",
    "    breaker()\n",
    "    if scheduler_oclr:\n",
    "        show_lr_graph(LR)\n",
    "        breaker()\n",
    "    \n",
    "    BLEs.append(BLE)\n",
    "    BAEs.append(BAE)\n",
    "    \n",
    "    fold += 1"
   ]
  },
  {
   "cell_type": "markdown",
   "id": "1bb91fec",
   "metadata": {
    "papermill": {
     "duration": 0.013518,
     "end_time": "2022-09-20T13:08:44.706309",
     "exception": false,
     "start_time": "2022-09-20T13:08:44.692791",
     "status": "completed"
    },
    "tags": []
   },
   "source": [
    "### **Best Model**"
   ]
  },
  {
   "cell_type": "code",
   "execution_count": 11,
   "id": "71b311af",
   "metadata": {
    "execution": {
     "iopub.execute_input": "2022-09-20T13:08:44.736271Z",
     "iopub.status.busy": "2022-09-20T13:08:44.735474Z",
     "iopub.status.idle": "2022-09-20T13:08:44.741970Z",
     "shell.execute_reply": "2022-09-20T13:08:44.740566Z"
    },
    "papermill": {
     "duration": 0.024258,
     "end_time": "2022-09-20T13:08:44.744773",
     "exception": false,
     "start_time": "2022-09-20T13:08:44.720515",
     "status": "completed"
    },
    "tags": []
   },
   "outputs": [],
   "source": [
    "# best_loss_index = BLEs.index(min(BLEs))\n",
    "# best_accs_index = BAEs.index(max(BAEs))\n",
    "\n",
    "# breaker()\n",
    "# print(f\"Best Loss Model Fold     : {best_loss_index + 1}\")\n",
    "# print(f\"Best Accuracy Model Fold : {best_accs_index + 1}\")\n",
    "# breaker()"
   ]
  },
  {
   "cell_type": "markdown",
   "id": "684c8e7f",
   "metadata": {
    "papermill": {
     "duration": 0.013948,
     "end_time": "2022-09-20T13:08:44.772568",
     "exception": false,
     "start_time": "2022-09-20T13:08:44.758620",
     "status": "completed"
    },
    "tags": []
   },
   "source": [
    "### **Submit**"
   ]
  },
  {
   "cell_type": "code",
   "execution_count": 12,
   "id": "e277f240",
   "metadata": {
    "execution": {
     "iopub.execute_input": "2022-09-20T13:08:44.801884Z",
     "iopub.status.busy": "2022-09-20T13:08:44.801529Z",
     "iopub.status.idle": "2022-09-20T13:08:44.807898Z",
     "shell.execute_reply": "2022-09-20T13:08:44.806659Z"
    },
    "papermill": {
     "duration": 0.024555,
     "end_time": "2022-09-20T13:08:44.810985",
     "exception": false,
     "start_time": "2022-09-20T13:08:44.786430",
     "status": "completed"
    },
    "tags": []
   },
   "outputs": [],
   "source": [
    "# torch.manual_seed(cfg.seed)\n",
    "# model = Model().to(cfg.device)\n",
    "\n",
    "# ss_df = pd.read_csv(\"../input/4-animal-classification/Sample_submission.csv\")\n",
    "# ts_filenames = ss_df[\"ID\"]\n",
    "\n",
    "# ts_data_setup = DS(\n",
    "#     base_path=\"../input/4-animal-classification/test/test\", \n",
    "#     filenames=ts_filenames, \n",
    "#     size=cfg.size,\n",
    "#     transform=cfg.valid_transform,\n",
    "# )\n",
    "# ts_data = DL(ts_data_setup, batch_size=cfg.batch_size, shuffle=False)\n",
    "\n",
    "# y_pred = predict_batch(\n",
    "#     model=model,\n",
    "#     dataloader=ts_data,\n",
    "#     path=\"\",\n",
    "#     device=cfg.device\n",
    "# )\n",
    "\n",
    "# ss_df[\"Label\"] = y_pred.astype(\"uint8\")\n",
    "# ss_df.to_csv(\"submission.csv\", index=False)"
   ]
  }
 ],
 "metadata": {
  "kernelspec": {
   "display_name": "Python 3",
   "language": "python",
   "name": "python3"
  },
  "language_info": {
   "codemirror_mode": {
    "name": "ipython",
    "version": 3
   },
   "file_extension": ".py",
   "mimetype": "text/x-python",
   "name": "python",
   "nbconvert_exporter": "python",
   "pygments_lexer": "ipython3",
   "version": "3.7.12"
  },
  "papermill": {
   "default_parameters": {},
   "duration": 5336.85401,
   "end_time": "2022-09-20T13:08:48.033307",
   "environment_variables": {},
   "exception": null,
   "input_path": "__notebook__.ipynb",
   "output_path": "__notebook__.ipynb",
   "parameters": {},
   "start_time": "2022-09-20T11:39:51.179297",
   "version": "2.3.4"
  }
 },
 "nbformat": 4,
 "nbformat_minor": 5
}
