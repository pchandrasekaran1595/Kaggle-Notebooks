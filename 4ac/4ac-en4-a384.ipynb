{
 "cells": [
  {
   "cell_type": "markdown",
   "id": "9a7723e0",
   "metadata": {
    "_cell_guid": "b1076dfc-b9ad-4769-8c92-a6c4dae69d19",
    "_uuid": "8f2839f25d086af736a60e9eeb907d3b93b6e0e5",
    "papermill": {
     "duration": 0.005059,
     "end_time": "2022-09-24T15:28:22.507161",
     "exception": false,
     "start_time": "2022-09-24T15:28:22.502102",
     "status": "completed"
    },
    "tags": []
   },
   "source": [
    "### **Setup**"
   ]
  },
  {
   "cell_type": "code",
   "execution_count": 1,
   "id": "b885c2e7",
   "metadata": {
    "execution": {
     "iopub.execute_input": "2022-09-24T15:28:22.517189Z",
     "iopub.status.busy": "2022-09-24T15:28:22.516613Z",
     "iopub.status.idle": "2022-09-24T15:28:33.399280Z",
     "shell.execute_reply": "2022-09-24T15:28:33.398007Z"
    },
    "papermill": {
     "duration": 10.890408,
     "end_time": "2022-09-24T15:28:33.401638",
     "exception": false,
     "start_time": "2022-09-24T15:28:22.511230",
     "status": "completed"
    },
    "tags": []
   },
   "outputs": [
    {
     "name": "stderr",
     "output_type": "stream",
     "text": [
      "WARNING: Running pip as the 'root' user can result in broken permissions and conflicting behaviour with the system package manager. It is recommended to use a virtual environment instead: https://pip.pypa.io/warnings/venv\n"
     ]
    }
   ],
   "source": [
    "%%bash\n",
    "pip install timm -q"
   ]
  },
  {
   "cell_type": "markdown",
   "id": "01de9600",
   "metadata": {
    "papermill": {
     "duration": 0.003938,
     "end_time": "2022-09-24T15:28:33.409834",
     "exception": false,
     "start_time": "2022-09-24T15:28:33.405896",
     "status": "completed"
    },
    "tags": []
   },
   "source": [
    "### **Library Imports**"
   ]
  },
  {
   "cell_type": "code",
   "execution_count": 2,
   "id": "18883fda",
   "metadata": {
    "execution": {
     "iopub.execute_input": "2022-09-24T15:28:33.420071Z",
     "iopub.status.busy": "2022-09-24T15:28:33.419150Z",
     "iopub.status.idle": "2022-09-24T15:28:37.367830Z",
     "shell.execute_reply": "2022-09-24T15:28:37.366676Z"
    },
    "papermill": {
     "duration": 3.957232,
     "end_time": "2022-09-24T15:28:37.371017",
     "exception": false,
     "start_time": "2022-09-24T15:28:33.413785",
     "status": "completed"
    },
    "tags": []
   },
   "outputs": [],
   "source": [
    "import os\n",
    "import re\n",
    "import cv2\n",
    "import timm\n",
    "import torch\n",
    "import numpy as np\n",
    "import pandas as pd\n",
    "import matplotlib.pyplot as plt\n",
    "\n",
    "from time import time\n",
    "from torch import nn, optim\n",
    "from torch.utils.data import Dataset\n",
    "from torch.utils.data import DataLoader as DL\n",
    "from torchvision import models, transforms\n",
    "\n",
    "from sklearn.model_selection import StratifiedKFold"
   ]
  },
  {
   "cell_type": "markdown",
   "id": "a44ad5de",
   "metadata": {
    "papermill": {
     "duration": 0.004254,
     "end_time": "2022-09-24T15:28:37.380095",
     "exception": false,
     "start_time": "2022-09-24T15:28:37.375841",
     "status": "completed"
    },
    "tags": []
   },
   "source": [
    "### **Utilities and Helpers**"
   ]
  },
  {
   "cell_type": "code",
   "execution_count": 3,
   "id": "3c585728",
   "metadata": {
    "execution": {
     "iopub.execute_input": "2022-09-24T15:28:37.390212Z",
     "iopub.status.busy": "2022-09-24T15:28:37.389467Z",
     "iopub.status.idle": "2022-09-24T15:28:37.402396Z",
     "shell.execute_reply": "2022-09-24T15:28:37.401318Z"
    },
    "papermill": {
     "duration": 0.020838,
     "end_time": "2022-09-24T15:28:37.404867",
     "exception": false,
     "start_time": "2022-09-24T15:28:37.384029",
     "status": "completed"
    },
    "tags": []
   },
   "outputs": [],
   "source": [
    "SEED = 42\n",
    "SIZE = 384\n",
    "\n",
    "\n",
    "def breaker(num: int=50, char: str=\"*\") -> None:\n",
    "    print(\"\\n\" + num*char + \"\\n\")\n",
    "\n",
    "    \n",
    "def get_image(path: str, size: int=224) -> np.ndarray:\n",
    "    image = cv2.imread(path, cv2.IMREAD_COLOR)\n",
    "    image = cv2.cvtColor(src=image, code=cv2.COLOR_BGR2RGB)\n",
    "    return cv2.resize(src=image, dsize=(size, size), interpolation=cv2.INTER_AREA)\n",
    "\n",
    "\n",
    "def show_loss_graphs(L: list) -> None:\n",
    "    TL, VL = [], []\n",
    "    for i in range(len(L)):\n",
    "        TL.append(L[i][\"train\"])\n",
    "        VL.append(L[i][\"valid\"])\n",
    "    x_Axis = np.arange(1, len(TL) + 1)\n",
    "    plt.figure()\n",
    "    plt.plot(x_Axis, TL, \"r\", label=\"Train\")\n",
    "    plt.plot(x_Axis, VL, \"b\", label=\"Valid\")\n",
    "    plt.legend()\n",
    "    plt.grid()\n",
    "    plt.title(\"Loss Graph\")\n",
    "    plt.show()\n",
    "\n",
    "    \n",
    "def show_accuracy_graphs(A: list) -> None:\n",
    "    TA, VA = [], []\n",
    "    for i in range(len(A)):\n",
    "        TA.append(A[i][\"train\"])\n",
    "        VA.append(A[i][\"valid\"])\n",
    "    x_Axis = np.arange(1, len(TA) + 1)\n",
    "    plt.figure()\n",
    "    plt.plot(x_Axis, TA, \"r\", label=\"Train\")\n",
    "    plt.plot(x_Axis, VA, \"b\", label=\"Valid\")\n",
    "    plt.legend()\n",
    "    plt.grid()\n",
    "    plt.title(\"Accuracy Graph\")\n",
    "    plt.show()\n",
    "    \n",
    "\n",
    "def show_lr_graph(LR: list) -> None:\n",
    "    x_Axis = [i+1 for i in range(len(LR))]\n",
    "    plt.figure(figsize=(8, 6))\n",
    "    plt.plot(x_Axis, LR, \"rx\")\n",
    "    plt.grid()\n",
    "    plt.show()"
   ]
  },
  {
   "cell_type": "markdown",
   "id": "32b2b2d0",
   "metadata": {
    "papermill": {
     "duration": 0.003787,
     "end_time": "2022-09-24T15:28:37.412987",
     "exception": false,
     "start_time": "2022-09-24T15:28:37.409200",
     "status": "completed"
    },
    "tags": []
   },
   "source": [
    "### **Configuration**"
   ]
  },
  {
   "cell_type": "code",
   "execution_count": 4,
   "id": "424639f4",
   "metadata": {
    "execution": {
     "iopub.execute_input": "2022-09-24T15:28:37.423205Z",
     "iopub.status.busy": "2022-09-24T15:28:37.422341Z",
     "iopub.status.idle": "2022-09-24T15:28:37.490599Z",
     "shell.execute_reply": "2022-09-24T15:28:37.489565Z"
    },
    "papermill": {
     "duration": 0.0756,
     "end_time": "2022-09-24T15:28:37.492707",
     "exception": false,
     "start_time": "2022-09-24T15:28:37.417107",
     "status": "completed"
    },
    "tags": []
   },
   "outputs": [],
   "source": [
    "class CFG(object):\n",
    "    def __init__(self, \n",
    "                 seed: int = 42,\n",
    "                 size: int = 224,\n",
    "                 n_splits: int = 5,\n",
    "                 batch_size: int = 16,\n",
    "                 epochs: int = 25,\n",
    "                 early_stopping: int = 5,\n",
    "                 lr: float = 1e-4,\n",
    "                 wd: float = 0.0,\n",
    "                 max_lr: float = 1e-3,\n",
    "                 pct_start: float = 0.2,\n",
    "                 steps_per_epoch: int = 100,\n",
    "                 div_factor: int = 1e3, \n",
    "                 final_div_factor: float = 1e3,\n",
    "                 ):\n",
    "        self.seed = seed\n",
    "        self.size = size\n",
    "        self.n_splits = n_splits\n",
    "        self.batch_size = batch_size\n",
    "        self.epochs = epochs\n",
    "        self.early_stopping = early_stopping\n",
    "        self.lr = lr\n",
    "        self.wd = wd\n",
    "        self.max_lr = max_lr\n",
    "        self.pct_start = pct_start\n",
    "        self.steps_per_epoch = steps_per_epoch\n",
    "        self.div_factor = div_factor\n",
    "        self.final_div_factor = final_div_factor\n",
    "        self.device = torch.device(\"cuda\" if torch.cuda.is_available() else \"cpu\")\n",
    "        self.train_transform = transforms.Compose([\n",
    "            transforms.ToTensor(),\n",
    "            transforms.Normalize([0.48805, 0.46218, 0.38043], [0.21471, 0.21141, 0.21124]),\n",
    "            transforms.RandomAffine(degrees=(-45, 45), translate=(0.15, 0.15), scale=(0.5, 1.5)),\n",
    "            transforms.RandomHorizontalFlip(p=0.25),\n",
    "            transforms.RandomVerticalFlip(p=0.25),\n",
    "        ])\n",
    "        self.valid_transform = transforms.Compose([\n",
    "            transforms.ToTensor(),\n",
    "            transforms.Normalize([0.48805, 0.46218, 0.38043], [0.21471, 0.21141, 0.21124]),\n",
    "        ])\n",
    "                                \n",
    "        self.save_path = \"saves\"\n",
    "        if not os.path.exists(self.save_path): os.makedirs(self.save_path)\n",
    "    \n",
    "cfg = CFG(seed=SEED, size=SIZE)"
   ]
  },
  {
   "cell_type": "markdown",
   "id": "42f1b19e",
   "metadata": {
    "papermill": {
     "duration": 0.00422,
     "end_time": "2022-09-24T15:28:37.501391",
     "exception": false,
     "start_time": "2022-09-24T15:28:37.497171",
     "status": "completed"
    },
    "tags": []
   },
   "source": [
    "### **Dataset Template**"
   ]
  },
  {
   "cell_type": "code",
   "execution_count": 5,
   "id": "d11b84ac",
   "metadata": {
    "execution": {
     "iopub.execute_input": "2022-09-24T15:28:37.512633Z",
     "iopub.status.busy": "2022-09-24T15:28:37.510838Z",
     "iopub.status.idle": "2022-09-24T15:28:37.519552Z",
     "shell.execute_reply": "2022-09-24T15:28:37.518567Z"
    },
    "papermill": {
     "duration": 0.015986,
     "end_time": "2022-09-24T15:28:37.521581",
     "exception": false,
     "start_time": "2022-09-24T15:28:37.505595",
     "status": "completed"
    },
    "tags": []
   },
   "outputs": [],
   "source": [
    "class DS(Dataset):\n",
    "    def __init__(\n",
    "        self, \n",
    "        base_path: str,\n",
    "        filenames: np.ndarray, \n",
    "        folder_names: np.ndarray, \n",
    "        labels: np.ndarray, \n",
    "        size: int,\n",
    "        transform=None):\n",
    "        \n",
    "        self.base_path = base_path\n",
    "        self.filenames = filenames\n",
    "        self.folder_names = folder_names\n",
    "        self.labels = labels\n",
    "        self.size = size\n",
    "        self.transform = transform\n",
    "    \n",
    "    def __len__(self):\n",
    "        return self.filenames.shape[0]\n",
    "    \n",
    "    def __getitem__(self, idx):\n",
    "        path = os.path.join(os.path.join(self.base_path, self.folder_names[idx]), self.filenames[idx])\n",
    "        image = get_image(path, self.size)\n",
    "        return self.transform(image), self.labels[idx]"
   ]
  },
  {
   "cell_type": "code",
   "execution_count": 6,
   "id": "fa9a7811",
   "metadata": {
    "execution": {
     "iopub.execute_input": "2022-09-24T15:28:37.531924Z",
     "iopub.status.busy": "2022-09-24T15:28:37.531258Z",
     "iopub.status.idle": "2022-09-24T15:28:37.535613Z",
     "shell.execute_reply": "2022-09-24T15:28:37.534580Z"
    },
    "papermill": {
     "duration": 0.012218,
     "end_time": "2022-09-24T15:28:37.537979",
     "exception": false,
     "start_time": "2022-09-24T15:28:37.525761",
     "status": "completed"
    },
    "tags": []
   },
   "outputs": [],
   "source": [
    "# class DS(Dataset):\n",
    "#     def __init__(\n",
    "#         self, \n",
    "#         base_path: str,\n",
    "#         filenames: np.ndarray, \n",
    "#         size: int,\n",
    "#         transform=None):\n",
    "        \n",
    "#         self.base_path = base_path\n",
    "#         self.filenames = filenames\n",
    "#         self.size = size\n",
    "#         self.transform = transform\n",
    "    \n",
    "#     def __len__(self):\n",
    "#         return self.filenames.shape[0]\n",
    "    \n",
    "#     def __getitem__(self, idx):\n",
    "#         path = os.path.join(self.base_path, str(self.filenames[idx]) + \".jpg\")\n",
    "#         image = get_image(path, self.size)\n",
    "#         return self.transform(image)"
   ]
  },
  {
   "cell_type": "markdown",
   "id": "b8733bca",
   "metadata": {
    "papermill": {
     "duration": 0.003837,
     "end_time": "2022-09-24T15:28:37.546026",
     "exception": false,
     "start_time": "2022-09-24T15:28:37.542189",
     "status": "completed"
    },
    "tags": []
   },
   "source": [
    "### **Model**"
   ]
  },
  {
   "cell_type": "code",
   "execution_count": 7,
   "id": "1ce6c748",
   "metadata": {
    "execution": {
     "iopub.execute_input": "2022-09-24T15:28:37.555528Z",
     "iopub.status.busy": "2022-09-24T15:28:37.554999Z",
     "iopub.status.idle": "2022-09-24T15:28:37.561173Z",
     "shell.execute_reply": "2022-09-24T15:28:37.560273Z"
    },
    "papermill": {
     "duration": 0.013002,
     "end_time": "2022-09-24T15:28:37.563130",
     "exception": false,
     "start_time": "2022-09-24T15:28:37.550128",
     "status": "completed"
    },
    "tags": []
   },
   "outputs": [],
   "source": [
    "class Model(nn.Module):\n",
    "    def __init__(self):\n",
    "        super(Model, self).__init__()\n",
    "            \n",
    "        self.model = timm.create_model(model_name=\"efficientnet_b4\", pretrained=True)\n",
    "        self.model.classifier = nn.Linear(in_features=self.model.classifier.in_features, out_features=4)\n",
    "            \n",
    "    def freeze(self):\n",
    "        for params in self.parameters(): params.requires_grad = False\n",
    "\n",
    "    def forward(self, x):\n",
    "        return nn.LogSoftmax(dim=1)(self.model(x))"
   ]
  },
  {
   "cell_type": "markdown",
   "id": "8798a3e6",
   "metadata": {
    "papermill": {
     "duration": 0.003923,
     "end_time": "2022-09-24T15:28:37.571127",
     "exception": false,
     "start_time": "2022-09-24T15:28:37.567204",
     "status": "completed"
    },
    "tags": []
   },
   "source": [
    "### **Fit and Predict**"
   ]
  },
  {
   "cell_type": "code",
   "execution_count": 8,
   "id": "c25c3429",
   "metadata": {
    "execution": {
     "iopub.execute_input": "2022-09-24T15:28:37.581181Z",
     "iopub.status.busy": "2022-09-24T15:28:37.580882Z",
     "iopub.status.idle": "2022-09-24T15:28:37.602770Z",
     "shell.execute_reply": "2022-09-24T15:28:37.601900Z"
    },
    "papermill": {
     "duration": 0.029529,
     "end_time": "2022-09-24T15:28:37.604709",
     "exception": false,
     "start_time": "2022-09-24T15:28:37.575180",
     "status": "completed"
    },
    "tags": []
   },
   "outputs": [],
   "source": [
    "def fit(model=None,\n",
    "        optimizer=None, \n",
    "        scheduler_rlrop=None,\n",
    "        scheduler_oclr=None,\n",
    "        epochs=None, \n",
    "        early_stopping_patience=None, \n",
    "        dataloaders=None, \n",
    "        fold=None, \n",
    "        save_path=None,\n",
    "        device=None,\n",
    "        verbose=False) -> tuple:\n",
    "    \n",
    "    def get_accuracy(y_pred, y_true):\n",
    "        y_pred = torch.argmax(y_pred, dim=1)\n",
    "        return torch.count_nonzero(y_pred == y_true).item() / len(y_pred)\n",
    "    \n",
    "    if verbose:\n",
    "        breaker()\n",
    "        if fold: print(f\"Training Fold {fold}...\")\n",
    "        else: print(\"Training ...\")\n",
    "        breaker()\n",
    "        \n",
    "    bestLoss: dict = {\"train\" : np.inf, \"valid\" : np.inf} \n",
    "    bestAccs: dict = {\"train\" : 0.0, \"valid\" : 0.0}\n",
    "        \n",
    "    Losses: list = []\n",
    "    Accuracies: list = [] \n",
    "    LRs: list = []\n",
    "        \n",
    "    if fold: \n",
    "        ble_name = f\"ble_state_fold_{fold}.pt\"\n",
    "        bae_name = f\"bae_state_fold_{fold}.pt\"\n",
    "    else: \n",
    "        ble_name = f\"ble_state.pt\"\n",
    "        bae_name = f\"bae_state.pt\"\n",
    "    \n",
    "    start_time = time()\n",
    "    for e in range(epochs):\n",
    "        e_st = time()\n",
    "        epochLoss: dict = {\"train\" : 0.0, \"valid\" : 0.0} \n",
    "        epochAccs: dict = {\"train\" : 0.0, \"valid\" : 0.0}\n",
    "\n",
    "        for phase in [\"train\", \"valid\"]:\n",
    "            if phase == \"train\":\n",
    "                model.train()\n",
    "            else:\n",
    "                model.eval()\n",
    "            \n",
    "            lossPerPass: list = []\n",
    "            accsPerPass: list = []\n",
    "                \n",
    "            for X, y in dataloaders[phase]:\n",
    "                X, y = X.to(device), y.to(device).view(-1)\n",
    "\n",
    "                optimizer.zero_grad()\n",
    "                with torch.set_grad_enabled(phase == \"train\"):\n",
    "                    output = model(X)\n",
    "                    loss = torch.nn.NLLLoss()(output, y)\n",
    "                    if phase == \"train\":\n",
    "                        loss.backward()\n",
    "                        optimizer.step()\n",
    "                        if scheduler_oclr: scheduler_oclr.step()\n",
    "                lossPerPass.append(loss.item())\n",
    "                accsPerPass.append(get_accuracy(output, y))\n",
    "            epochLoss[phase] = np.mean(np.array(lossPerPass))\n",
    "            epochAccs[phase] = np.mean(np.array(accsPerPass))\n",
    "        if scheduler_oclr: LRs.append(scheduler_oclr.get_last_lr())\n",
    "        Losses.append(epochLoss)\n",
    "        Accuracies.append(epochAccs)\n",
    "    \n",
    "        if scheduler_oclr:\n",
    "            save_dict = {\"model_state_dict\"     : model.state_dict(),\n",
    "                         \"optim_state_dict\"     : optimizer.state_dict(),\n",
    "                         \"scheduler_state_dict\" : scheduler_oclr.state_dict()}\n",
    "        \n",
    "        elif scheduler_rlrop:\n",
    "            save_dict = {\"model_state_dict\"     : model.state_dict(),\n",
    "                         \"optim_state_dict\"     : optimizer.state_dict(),\n",
    "                         \"scheduler_state_dict\" : scheduler_rlrop.state_dict()}\n",
    "        \n",
    "        else:\n",
    "            save_dict = {\"model_state_dict\"     : model.state_dict(),\n",
    "                         \"optim_state_dict\"     : optimizer.state_dict()}\n",
    "        \n",
    "        \n",
    "        if early_stopping_patience:\n",
    "            if epochLoss[\"valid\"] < bestLoss[\"valid\"]:\n",
    "                bestLoss = epochLoss\n",
    "                BLE = e + 1\n",
    "                torch.save(save_dict, os.path.join(save_path, ble_name))\n",
    "                torch.save(save_dict, os.path.join(save_path, bae_name))\n",
    "                early_stopping_step = 0\n",
    "            else:\n",
    "                early_stopping_step += 1\n",
    "                if early_stopping_step > early_stopping_patience:\n",
    "                    print(\"\\nEarly Stopping at Epoch {}\".format(e + 1))\n",
    "                    break\n",
    "        \n",
    "        if epochLoss[\"valid\"] < bestLoss[\"valid\"]:\n",
    "            bestLoss = epochLoss\n",
    "            BLE = e + 1\n",
    "            torch.save(save_dict,os.path.join(save_path, ble_name))\n",
    "        \n",
    "        if epochAccs[\"valid\"] > bestAccs[\"valid\"]:\n",
    "            bestAccs = epochAccs\n",
    "            BAE = e + 1\n",
    "            torch.save(save_dict,os.path.join(save_path, bae_name))\n",
    "        \n",
    "        if scheduler_rlrop: scheduler_rlrop.step(epochLoss[\"valid\"])\n",
    "        \n",
    "        if verbose:\n",
    "            print(\"Epoch: {} | Train Loss: {:.5f} | Valid Loss: {:.5f} |\\\n",
    " Train Accs: {:.5f} | Valid Accs: {:.5f} | Time: {:.2f} seconds\".format(e+1, \n",
    "                                                                        epochLoss[\"train\"], epochLoss[\"valid\"], \n",
    "                                                                        epochAccs[\"train\"], epochAccs[\"valid\"], \n",
    "                                                                        time()-e_st))\n",
    "\n",
    "    if verbose:                                           \n",
    "        breaker()\n",
    "        print(f\"Best Validation Loss at Epoch {BLE}\")\n",
    "        breaker()\n",
    "        print(f\"Best Validation Accs at Epoch {BAE}\")\n",
    "        breaker()\n",
    "        print(\"Time Taken [{} Epochs] : {:.2f} minutes\".format(len(Losses), (time()-start_time)/60))\n",
    "    \n",
    "    return Losses, Accuracies, LRs, BLE, BAE, ble_name, bae_name\n",
    "\n",
    "\n",
    "# def predict_batch(model=None, dataloader=None, path=None, device=None) -> np.ndarray:\n",
    "#     model.load_state_dict(torch.load(path, map_location=device)[\"model_state_dict\"])\n",
    "#     model.to(device)    \n",
    "#     model.eval()\n",
    "    \n",
    "#     y_pred = torch.zeros(1, 1).to(device)\n",
    "    \n",
    "#     for X in dataloader:\n",
    "#         X = X.to(device)\n",
    "#         with torch.no_grad():\n",
    "#             output = torch.argmax(torch.exp(model(X)), dim=1)\n",
    "#         y_pred = torch.cat((y_pred, output.view(-1, 1)), dim=0)\n",
    "    \n",
    "#     return y_pred[1:].detach().cpu().numpy()"
   ]
  },
  {
   "cell_type": "markdown",
   "id": "82f0921c",
   "metadata": {
    "papermill": {
     "duration": 0.00398,
     "end_time": "2022-09-24T15:28:37.613139",
     "exception": false,
     "start_time": "2022-09-24T15:28:37.609159",
     "status": "completed"
    },
    "tags": []
   },
   "source": [
    "### **Train**"
   ]
  },
  {
   "cell_type": "code",
   "execution_count": 9,
   "id": "e00e6ed3",
   "metadata": {
    "execution": {
     "iopub.execute_input": "2022-09-24T15:28:37.624204Z",
     "iopub.status.busy": "2022-09-24T15:28:37.622788Z",
     "iopub.status.idle": "2022-09-24T15:28:37.655265Z",
     "shell.execute_reply": "2022-09-24T15:28:37.654360Z"
    },
    "papermill": {
     "duration": 0.040261,
     "end_time": "2022-09-24T15:28:37.657553",
     "exception": false,
     "start_time": "2022-09-24T15:28:37.617292",
     "status": "completed"
    },
    "tags": []
   },
   "outputs": [],
   "source": [
    "df = pd.read_csv(\"../input/4ac-dataframe/data.csv\")\n",
    "\n",
    "filenames = df.filenames.copy().values\n",
    "folder_names = df.folder_names.copy().values\n",
    "labels = df.classes.copy().values"
   ]
  },
  {
   "cell_type": "code",
   "execution_count": 10,
   "id": "e6be7d71",
   "metadata": {
    "execution": {
     "iopub.execute_input": "2022-09-24T15:28:37.669198Z",
     "iopub.status.busy": "2022-09-24T15:28:37.668884Z",
     "iopub.status.idle": "2022-09-24T17:10:12.169501Z",
     "shell.execute_reply": "2022-09-24T17:10:12.168303Z"
    },
    "papermill": {
     "duration": 6094.509427,
     "end_time": "2022-09-24T17:10:12.172020",
     "exception": false,
     "start_time": "2022-09-24T15:28:37.662593",
     "status": "completed"
    },
    "tags": []
   },
   "outputs": [
    {
     "name": "stderr",
     "output_type": "stream",
     "text": [
      "Downloading: \"https://github.com/rwightman/pytorch-image-models/releases/download/v0.1-weights/efficientnet_b4_ra2_320-7eb33cd5.pth\" to /root/.cache/torch/hub/checkpoints/efficientnet_b4_ra2_320-7eb33cd5.pth\n"
     ]
    },
    {
     "name": "stdout",
     "output_type": "stream",
     "text": [
      "\n",
      "**************************************************\n",
      "\n",
      "Training Fold 1...\n",
      "\n",
      "**************************************************\n",
      "\n",
      "Epoch: 1 | Train Loss: 1.32277 | Valid Loss: 1.04119 | Train Accs: 0.50000 | Valid Accs: 0.97857 | Time: 147.20 seconds\n",
      "Epoch: 2 | Train Loss: 0.35778 | Valid Loss: 0.03344 | Train Accs: 0.92366 | Valid Accs: 0.98929 | Time: 126.17 seconds\n",
      "Epoch: 3 | Train Loss: 0.15380 | Valid Loss: 0.05772 | Train Accs: 0.94554 | Valid Accs: 0.98393 | Time: 125.15 seconds\n",
      "Epoch: 4 | Train Loss: 0.13359 | Valid Loss: 0.04583 | Train Accs: 0.95536 | Valid Accs: 0.98571 | Time: 125.00 seconds\n",
      "Epoch: 5 | Train Loss: 0.16578 | Valid Loss: 0.12054 | Train Accs: 0.93884 | Valid Accs: 0.96964 | Time: 123.81 seconds\n",
      "Epoch: 6 | Train Loss: 0.13194 | Valid Loss: 0.03916 | Train Accs: 0.95580 | Valid Accs: 0.98571 | Time: 123.28 seconds\n",
      "Epoch: 7 | Train Loss: 0.08572 | Valid Loss: 0.08904 | Train Accs: 0.97321 | Valid Accs: 0.97500 | Time: 124.14 seconds\n",
      "\n",
      "Early Stopping at Epoch 8\n",
      "\n",
      "**************************************************\n",
      "\n",
      "Best Validation Loss at Epoch 2\n",
      "\n",
      "**************************************************\n",
      "\n",
      "Best Validation Accs at Epoch 2\n",
      "\n",
      "**************************************************\n",
      "\n",
      "Time Taken [8 Epochs] : 16.98 minutes\n",
      "\n",
      "**************************************************\n",
      "\n"
     ]
    },
    {
     "data": {
      "image/png": "[encoded data removed]",
      "text/plain": [
       "<Figure size 432x288 with 1 Axes>"
      ]
     },
     "metadata": {
      "needs_background": "light"
     },
     "output_type": "display_data"
    },
    {
     "name": "stdout",
     "output_type": "stream",
     "text": [
      "\n",
      "**************************************************\n",
      "\n"
     ]
    },
    {
     "data": {
      "image/png": "[encoded data removed]",
      "text/plain": [
       "<Figure size 432x288 with 1 Axes>"
      ]
     },
     "metadata": {
      "needs_background": "light"
     },
     "output_type": "display_data"
    },
    {
     "name": "stdout",
     "output_type": "stream",
     "text": [
      "\n",
      "**************************************************\n",
      "\n"
     ]
    },
    {
     "data": {
      "image/png": "[encoded data removed]",
      "text/plain": [
       "<Figure size 576x432 with 1 Axes>"
      ]
     },
     "metadata": {
      "needs_background": "light"
     },
     "output_type": "display_data"
    },
    {
     "name": "stdout",
     "output_type": "stream",
     "text": [
      "\n",
      "**************************************************\n",
      "\n",
      "\n",
      "**************************************************\n",
      "\n",
      "Training Fold 2...\n",
      "\n",
      "**************************************************\n",
      "\n",
      "Epoch: 1 | Train Loss: 1.32309 | Valid Loss: 1.03829 | Train Accs: 0.50893 | Valid Accs: 0.97857 | Time: 124.93 seconds\n",
      "Epoch: 2 | Train Loss: 0.36254 | Valid Loss: 0.03882 | Train Accs: 0.92366 | Valid Accs: 0.99107 | Time: 124.91 seconds\n",
      "Epoch: 3 | Train Loss: 0.14424 | Valid Loss: 0.05877 | Train Accs: 0.94911 | Valid Accs: 0.97857 | Time: 123.74 seconds\n",
      "Epoch: 4 | Train Loss: 0.15068 | Valid Loss: 0.07134 | Train Accs: 0.95402 | Valid Accs: 0.98214 | Time: 123.31 seconds\n",
      "Epoch: 5 | Train Loss: 0.15833 | Valid Loss: 0.05311 | Train Accs: 0.94420 | Valid Accs: 0.98214 | Time: 123.31 seconds\n",
      "Epoch: 6 | Train Loss: 0.11337 | Valid Loss: 0.03351 | Train Accs: 0.95982 | Valid Accs: 0.98929 | Time: 124.62 seconds\n",
      "Epoch: 7 | Train Loss: 0.10429 | Valid Loss: 0.01890 | Train Accs: 0.96473 | Valid Accs: 0.99643 | Time: 124.43 seconds\n",
      "Epoch: 8 | Train Loss: 0.08261 | Valid Loss: 0.03201 | Train Accs: 0.96964 | Valid Accs: 0.98571 | Time: 123.22 seconds\n",
      "Epoch: 9 | Train Loss: 0.07319 | Valid Loss: 0.05462 | Train Accs: 0.97232 | Valid Accs: 0.97679 | Time: 122.96 seconds\n",
      "Epoch: 10 | Train Loss: 0.04958 | Valid Loss: 0.02499 | Train Accs: 0.98571 | Valid Accs: 0.99107 | Time: 122.82 seconds\n",
      "Epoch: 11 | Train Loss: 0.04509 | Valid Loss: 0.04572 | Train Accs: 0.98482 | Valid Accs: 0.98750 | Time: 124.25 seconds\n",
      "Epoch: 12 | Train Loss: 0.03576 | Valid Loss: 0.02708 | Train Accs: 0.98884 | Valid Accs: 0.99286 | Time: 123.78 seconds\n",
      "\n",
      "Early Stopping at Epoch 13\n",
      "\n",
      "**************************************************\n",
      "\n",
      "Best Validation Loss at Epoch 7\n",
      "\n",
      "**************************************************\n",
      "\n",
      "Best Validation Accs at Epoch 7\n",
      "\n",
      "**************************************************\n",
      "\n",
      "Time Taken [13 Epochs] : 26.84 minutes\n",
      "\n",
      "**************************************************\n",
      "\n"
     ]
    },
    {
     "data": {
      "image/png": "[encoded data removed]",
      "text/plain": [
       "<Figure size 432x288 with 1 Axes>"
      ]
     },
     "metadata": {
      "needs_background": "light"
     },
     "output_type": "display_data"
    },
    {
     "name": "stdout",
     "output_type": "stream",
     "text": [
      "\n",
      "**************************************************\n",
      "\n"
     ]
    },
    {
     "data": {
      "image/png": "[encoded data removed]",
      "text/plain": [
       "<Figure size 432x288 with 1 Axes>"
      ]
     },
     "metadata": {
      "needs_background": "light"
     },
     "output_type": "display_data"
    },
    {
     "name": "stdout",
     "output_type": "stream",
     "text": [
      "\n",
      "**************************************************\n",
      "\n"
     ]
    },
    {
     "data": {
      "image/png": "[encoded data removed]",
      "text/plain": [
       "<Figure size 576x432 with 1 Axes>"
      ]
     },
     "metadata": {
      "needs_background": "light"
     },
     "output_type": "display_data"
    },
    {
     "name": "stdout",
     "output_type": "stream",
     "text": [
      "\n",
      "**************************************************\n",
      "\n",
      "\n",
      "**************************************************\n",
      "\n",
      "Training Fold 3...\n",
      "\n",
      "**************************************************\n",
      "\n",
      "Epoch: 1 | Train Loss: 1.32117 | Valid Loss: 1.04174 | Train Accs: 0.51964 | Valid Accs: 0.98571 | Time: 125.62 seconds\n",
      "Epoch: 2 | Train Loss: 0.35199 | Valid Loss: 0.03617 | Train Accs: 0.92991 | Valid Accs: 0.98571 | Time: 124.98 seconds\n",
      "Epoch: 3 | Train Loss: 0.13616 | Valid Loss: 0.03817 | Train Accs: 0.95000 | Valid Accs: 0.98750 | Time: 124.71 seconds\n",
      "Epoch: 4 | Train Loss: 0.14580 | Valid Loss: 0.03992 | Train Accs: 0.95179 | Valid Accs: 0.98571 | Time: 123.60 seconds\n",
      "Epoch: 5 | Train Loss: 0.15005 | Valid Loss: 0.06363 | Train Accs: 0.95223 | Valid Accs: 0.97857 | Time: 124.40 seconds\n",
      "Epoch: 6 | Train Loss: 0.13068 | Valid Loss: 0.03357 | Train Accs: 0.95312 | Valid Accs: 0.99107 | Time: 126.48 seconds\n",
      "Epoch: 7 | Train Loss: 0.08776 | Valid Loss: 0.04817 | Train Accs: 0.97009 | Valid Accs: 0.98036 | Time: 123.61 seconds\n",
      "Epoch: 8 | Train Loss: 0.08088 | Valid Loss: 0.06587 | Train Accs: 0.97366 | Valid Accs: 0.96964 | Time: 122.78 seconds\n",
      "Epoch: 9 | Train Loss: 0.05953 | Valid Loss: 0.08372 | Train Accs: 0.98036 | Valid Accs: 0.97679 | Time: 122.42 seconds\n",
      "Epoch: 10 | Train Loss: 0.05254 | Valid Loss: 0.06790 | Train Accs: 0.98259 | Valid Accs: 0.98036 | Time: 122.09 seconds\n",
      "Epoch: 11 | Train Loss: 0.05303 | Valid Loss: 0.06895 | Train Accs: 0.98571 | Valid Accs: 0.98571 | Time: 123.14 seconds\n",
      "\n",
      "Early Stopping at Epoch 12\n",
      "\n",
      "**************************************************\n",
      "\n",
      "Best Validation Loss at Epoch 6\n",
      "\n",
      "**************************************************\n",
      "\n",
      "Best Validation Accs at Epoch 6\n",
      "\n",
      "**************************************************\n",
      "\n",
      "Time Taken [12 Epochs] : 24.78 minutes\n",
      "\n",
      "**************************************************\n",
      "\n"
     ]
    },
    {
     "data": {
      "image/png": "[encoded data removed]",
      "text/plain": [
       "<Figure size 432x288 with 1 Axes>"
      ]
     },
     "metadata": {
      "needs_background": "light"
     },
     "output_type": "display_data"
    },
    {
     "name": "stdout",
     "output_type": "stream",
     "text": [
      "\n",
      "**************************************************\n",
      "\n"
     ]
    },
    {
     "data": {
      "image/png": "[encoded data removed]",
      "text/plain": [
       "<Figure size 432x288 with 1 Axes>"
      ]
     },
     "metadata": {
      "needs_background": "light"
     },
     "output_type": "display_data"
    },
    {
     "name": "stdout",
     "output_type": "stream",
     "text": [
      "\n",
      "**************************************************\n",
      "\n"
     ]
    },
    {
     "data": {
      "image/png": "[encoded data removed]",
      "text/plain": [
       "<Figure size 576x432 with 1 Axes>"
      ]
     },
     "metadata": {
      "needs_background": "light"
     },
     "output_type": "display_data"
    },
    {
     "name": "stdout",
     "output_type": "stream",
     "text": [
      "\n",
      "**************************************************\n",
      "\n",
      "\n",
      "**************************************************\n",
      "\n",
      "Training Fold 4...\n",
      "\n",
      "**************************************************\n",
      "\n",
      "Epoch: 1 | Train Loss: 1.32425 | Valid Loss: 1.04253 | Train Accs: 0.50536 | Valid Accs: 0.98214 | Time: 124.45 seconds\n",
      "Epoch: 2 | Train Loss: 0.35764 | Valid Loss: 0.02919 | Train Accs: 0.92902 | Valid Accs: 0.99286 | Time: 124.54 seconds\n",
      "Epoch: 3 | Train Loss: 0.15638 | Valid Loss: 0.04408 | Train Accs: 0.94866 | Valid Accs: 0.98571 | Time: 122.94 seconds\n",
      "Epoch: 4 | Train Loss: 0.16404 | Valid Loss: 0.05820 | Train Accs: 0.94643 | Valid Accs: 0.99107 | Time: 123.59 seconds\n",
      "Epoch: 5 | Train Loss: 0.15054 | Valid Loss: 0.05220 | Train Accs: 0.94464 | Valid Accs: 0.98214 | Time: 122.90 seconds\n",
      "Epoch: 6 | Train Loss: 0.12830 | Valid Loss: 0.08036 | Train Accs: 0.95759 | Valid Accs: 0.97143 | Time: 122.01 seconds\n",
      "Epoch: 7 | Train Loss: 0.13460 | Valid Loss: 0.06776 | Train Accs: 0.95446 | Valid Accs: 0.97857 | Time: 121.76 seconds\n",
      "\n",
      "Early Stopping at Epoch 8\n",
      "\n",
      "**************************************************\n",
      "\n",
      "Best Validation Loss at Epoch 2\n",
      "\n",
      "**************************************************\n",
      "\n",
      "Best Validation Accs at Epoch 2\n",
      "\n",
      "**************************************************\n",
      "\n",
      "Time Taken [8 Epochs] : 16.42 minutes\n",
      "\n",
      "**************************************************\n",
      "\n"
     ]
    },
    {
     "data": {
      "image/png": "[encoded data removed]",
      "text/plain": [
       "<Figure size 432x288 with 1 Axes>"
      ]
     },
     "metadata": {
      "needs_background": "light"
     },
     "output_type": "display_data"
    },
    {
     "name": "stdout",
     "output_type": "stream",
     "text": [
      "\n",
      "**************************************************\n",
      "\n"
     ]
    },
    {
     "data": {
      "image/png": "[encoded data removed]",
      "text/plain": [
       "<Figure size 432x288 with 1 Axes>"
      ]
     },
     "metadata": {
      "needs_background": "light"
     },
     "output_type": "display_data"
    },
    {
     "name": "stdout",
     "output_type": "stream",
     "text": [
      "\n",
      "**************************************************\n",
      "\n"
     ]
    },
    {
     "data": {
      "image/png": "[encoded data removed]",
      "text/plain": [
       "<Figure size 576x432 with 1 Axes>"
      ]
     },
     "metadata": {
      "needs_background": "light"
     },
     "output_type": "display_data"
    },
    {
     "name": "stdout",
     "output_type": "stream",
     "text": [
      "\n",
      "**************************************************\n",
      "\n",
      "\n",
      "**************************************************\n",
      "\n",
      "Training Fold 5...\n",
      "\n",
      "**************************************************\n",
      "\n",
      "Epoch: 1 | Train Loss: 1.32411 | Valid Loss: 1.03946 | Train Accs: 0.50179 | Valid Accs: 0.96964 | Time: 124.00 seconds\n",
      "Epoch: 2 | Train Loss: 0.35602 | Valid Loss: 0.05900 | Train Accs: 0.92455 | Valid Accs: 0.98571 | Time: 125.09 seconds\n",
      "Epoch: 3 | Train Loss: 0.15606 | Valid Loss: 0.06395 | Train Accs: 0.94911 | Valid Accs: 0.97857 | Time: 122.65 seconds\n",
      "Epoch: 4 | Train Loss: 0.14777 | Valid Loss: 0.06228 | Train Accs: 0.95134 | Valid Accs: 0.98036 | Time: 122.73 seconds\n",
      "Epoch: 5 | Train Loss: 0.14379 | Valid Loss: 0.11424 | Train Accs: 0.95045 | Valid Accs: 0.96429 | Time: 122.81 seconds\n",
      "Epoch: 6 | Train Loss: 0.12664 | Valid Loss: 0.06314 | Train Accs: 0.95893 | Valid Accs: 0.97857 | Time: 122.70 seconds\n",
      "Epoch: 7 | Train Loss: 0.09830 | Valid Loss: 0.11272 | Train Accs: 0.96652 | Valid Accs: 0.97321 | Time: 121.35 seconds\n",
      "\n",
      "Early Stopping at Epoch 8\n",
      "\n",
      "**************************************************\n",
      "\n",
      "Best Validation Loss at Epoch 2\n",
      "\n",
      "**************************************************\n",
      "\n",
      "Best Validation Accs at Epoch 2\n",
      "\n",
      "**************************************************\n",
      "\n",
      "Time Taken [8 Epochs] : 16.39 minutes\n",
      "\n",
      "**************************************************\n",
      "\n"
     ]
    },
    {
     "data": {
      "image/png": "[encoded data removed]",
      "text/plain": [
       "<Figure size 432x288 with 1 Axes>"
      ]
     },
     "metadata": {
      "needs_background": "light"
     },
     "output_type": "display_data"
    },
    {
     "name": "stdout",
     "output_type": "stream",
     "text": [
      "\n",
      "**************************************************\n",
      "\n"
     ]
    },
    {
     "data": {
      "image/png": "[encoded data removed]",
      "text/plain": [
       "<Figure size 432x288 with 1 Axes>"
      ]
     },
     "metadata": {
      "needs_background": "light"
     },
     "output_type": "display_data"
    },
    {
     "name": "stdout",
     "output_type": "stream",
     "text": [
      "\n",
      "**************************************************\n",
      "\n"
     ]
    },
    {
     "data": {
      "image/png": "[encoded data removed]",
      "text/plain": [
       "<Figure size 576x432 with 1 Axes>"
      ]
     },
     "metadata": {
      "needs_background": "light"
     },
     "output_type": "display_data"
    },
    {
     "name": "stdout",
     "output_type": "stream",
     "text": [
      "\n",
      "**************************************************\n",
      "\n"
     ]
    }
   ],
   "source": [
    "fold: int = 1\n",
    "BLEs: list = []\n",
    "BAEs: list = []\n",
    "    \n",
    "for tr_idx, va_idx in StratifiedKFold(n_splits=cfg.n_splits, random_state=cfg.seed, shuffle=True).split(filenames, labels):\n",
    "\n",
    "    tr_filenames, va_filenames       = filenames[tr_idx], filenames[va_idx] \n",
    "    tr_folder_names, va_folder_names = folder_names[tr_idx], folder_names[va_idx] \n",
    "    tr_labels, va_labels             = labels[tr_idx], labels[va_idx]\n",
    "    \n",
    "    tr_data_setup = DS(\n",
    "        base_path=\"../input/4-animal-classification/train\", \n",
    "        filenames=tr_filenames, \n",
    "        folder_names=tr_folder_names,\n",
    "        labels=tr_labels.reshape(-1, 1),\n",
    "        size=cfg.size,\n",
    "        transform=cfg.train_transform)\n",
    "    \n",
    "    va_data_setup = DS(\n",
    "        base_path=\"../input/4-animal-classification/train\", \n",
    "        filenames=va_filenames, \n",
    "        folder_names=va_folder_names,\n",
    "        labels=va_labels.reshape(-1, 1),\n",
    "        size=cfg.size,\n",
    "        transform=cfg.valid_transform)\n",
    "\n",
    "    dataloaders = {\n",
    "        \"train\" : DL(tr_data_setup, batch_size=cfg.batch_size, shuffle=True, generator=torch.manual_seed(cfg.seed)),\n",
    "        \"valid\" : DL(va_data_setup, batch_size=cfg.batch_size, shuffle=False),\n",
    "    }\n",
    "\n",
    "    cfg = CFG(\n",
    "        size=SIZE,\n",
    "        epochs=25, \n",
    "        batch_size=16, \n",
    "        early_stopping=5,\n",
    "        steps_per_epoch=len(dataloaders[\"train\"])\n",
    "    )\n",
    "    \n",
    "    torch.manual_seed(cfg.seed)\n",
    "    model = Model().to(cfg.device)\n",
    "\n",
    "    optimizer = optim.Adam([p for p in model.parameters() if p.requires_grad], lr=cfg.lr, weight_decay=cfg.wd)\n",
    "    # optimizer = optim.AdamW([p for p in model.parameters() if p.requires_grad], lr=cfg.lr, weight_decay=cfg.wd)\n",
    "    # optimizer = optim.SGD([p for p in model.parameters() if p.requires_grad], lr=cfg.lr, weight_decay=cfg.wd, momentum=0.9)\n",
    "    \n",
    "    scheduler_oclr = optim.lr_scheduler.OneCycleLR(\n",
    "        optimizer=optimizer, \n",
    "        max_lr=cfg.max_lr, \n",
    "        epochs=cfg.epochs, \n",
    "        steps_per_epoch=cfg.steps_per_epoch,\n",
    "        pct_start=cfg.pct_start, \n",
    "        div_factor=cfg.div_factor, \n",
    "        final_div_factor=cfg.final_div_factor\n",
    "    )\n",
    "\n",
    "    # scheduler_rlrop = optim.lr_scheduler.ReduceLROnPlateau(\n",
    "    #     optimizer=optimizer,\n",
    "    #     patience=cfg.patience,\n",
    "    #     eps=cfg.eps,\n",
    "    #     verbose=True\n",
    "    # )\n",
    "\n",
    "    # scheduler_oclr = None\n",
    "    scheduler_rlrop = None\n",
    "    \n",
    "    L, A, LR, BLE, BAE, _, _ = fit(\n",
    "        model=model, \n",
    "        optimizer=optimizer, \n",
    "        scheduler_oclr=scheduler_oclr,\n",
    "        scheduler_rlrop=scheduler_rlrop,\n",
    "        epochs=cfg.epochs, \n",
    "        early_stopping_patience=cfg.early_stopping, \n",
    "        dataloaders=dataloaders, \n",
    "        device=cfg.device,\n",
    "        save_path=cfg.save_path,\n",
    "        fold=fold,\n",
    "        verbose=True\n",
    "    )\n",
    "    \n",
    "    breaker()\n",
    "    show_loss_graphs(L)\n",
    "    breaker()\n",
    "    show_accuracy_graphs(A)\n",
    "    breaker()\n",
    "    if scheduler_oclr:\n",
    "        show_lr_graph(LR)\n",
    "        breaker()\n",
    "    \n",
    "    BLEs.append(BLE)\n",
    "    BAEs.append(BAE)\n",
    "    \n",
    "    fold += 1"
   ]
  },
  {
   "cell_type": "markdown",
   "id": "85cd081f",
   "metadata": {
    "papermill": {
     "duration": 0.011021,
     "end_time": "2022-09-24T17:10:12.194650",
     "exception": false,
     "start_time": "2022-09-24T17:10:12.183629",
     "status": "completed"
    },
    "tags": []
   },
   "source": [
    "### **Best Model**"
   ]
  },
  {
   "cell_type": "code",
   "execution_count": 11,
   "id": "46ea0917",
   "metadata": {
    "execution": {
     "iopub.execute_input": "2022-09-24T17:10:12.219229Z",
     "iopub.status.busy": "2022-09-24T17:10:12.218289Z",
     "iopub.status.idle": "2022-09-24T17:10:12.226302Z",
     "shell.execute_reply": "2022-09-24T17:10:12.225395Z"
    },
    "papermill": {
     "duration": 0.022661,
     "end_time": "2022-09-24T17:10:12.228417",
     "exception": false,
     "start_time": "2022-09-24T17:10:12.205756",
     "status": "completed"
    },
    "tags": []
   },
   "outputs": [
    {
     "name": "stdout",
     "output_type": "stream",
     "text": [
      "\n",
      "**************************************************\n",
      "\n",
      "Best Loss Model Fold     : 1\n",
      "Best Accuracy Model Fold : 2\n",
      "\n",
      "**************************************************\n",
      "\n"
     ]
    }
   ],
   "source": [
    "best_loss_index = BLEs.index(min(BLEs))\n",
    "best_accs_index = BAEs.index(max(BAEs))\n",
    "\n",
    "breaker()\n",
    "print(f\"Best Loss Model Fold     : {best_loss_index + 1}\")\n",
    "print(f\"Best Accuracy Model Fold : {best_accs_index + 1}\")\n",
    "breaker()"
   ]
  },
  {
   "cell_type": "markdown",
   "id": "38830c70",
   "metadata": {
    "papermill": {
     "duration": 0.011184,
     "end_time": "2022-09-24T17:10:12.251049",
     "exception": false,
     "start_time": "2022-09-24T17:10:12.239865",
     "status": "completed"
    },
    "tags": []
   },
   "source": [
    "### **Submit**"
   ]
  },
  {
   "cell_type": "code",
   "execution_count": 12,
   "id": "49d0519f",
   "metadata": {
    "execution": {
     "iopub.execute_input": "2022-09-24T17:10:12.276249Z",
     "iopub.status.busy": "2022-09-24T17:10:12.274708Z",
     "iopub.status.idle": "2022-09-24T17:10:12.280560Z",
     "shell.execute_reply": "2022-09-24T17:10:12.279726Z"
    },
    "papermill": {
     "duration": 0.020268,
     "end_time": "2022-09-24T17:10:12.282534",
     "exception": false,
     "start_time": "2022-09-24T17:10:12.262266",
     "status": "completed"
    },
    "tags": []
   },
   "outputs": [],
   "source": [
    "# torch.manual_seed(cfg.seed)\n",
    "# model = Model().to(cfg.device)\n",
    "\n",
    "# ss_df = pd.read_csv(\"../input/4-animal-classification/Sample_submission.csv\")\n",
    "# ts_filenames = ss_df[\"ID\"]\n",
    "\n",
    "# ts_data_setup = DS(\n",
    "#     base_path=\"../input/4-animal-classification/test/test\", \n",
    "#     filenames=ts_filenames, \n",
    "#     size=cfg.size,\n",
    "#     transform=cfg.valid_transform,\n",
    "# )\n",
    "# ts_data = DL(ts_data_setup, batch_size=cfg.batch_size, shuffle=False)\n",
    "\n",
    "# y_pred = predict_batch(\n",
    "#     model=model,\n",
    "#     dataloader=ts_data,\n",
    "#     path=\"\",\n",
    "#     device=cfg.device\n",
    "# )\n",
    "\n",
    "# ss_df[\"Label\"] = y_pred.astype(\"uint8\")\n",
    "# ss_df.to_csv(\"submission.csv\", index=False)"
   ]
  }
 ],
 "metadata": {
  "kernelspec": {
   "display_name": "Python 3",
   "language": "python",
   "name": "python3"
  },
  "language_info": {
   "codemirror_mode": {
    "name": "ipython",
    "version": 3
   },
   "file_extension": ".py",
   "mimetype": "text/x-python",
   "name": "python",
   "nbconvert_exporter": "python",
   "pygments_lexer": "ipython3",
   "version": "3.7.12"
  },
  "papermill": {
   "default_parameters": {},
   "duration": 6119.479603,
   "end_time": "2022-09-24T17:10:13.926632",
   "environment_variables": {},
   "exception": null,
   "input_path": "__notebook__.ipynb",
   "output_path": "__notebook__.ipynb",
   "parameters": {},
   "start_time": "2022-09-24T15:28:14.447029",
   "version": "2.3.4"
  }
 },
 "nbformat": 4,
 "nbformat_minor": 5
}
