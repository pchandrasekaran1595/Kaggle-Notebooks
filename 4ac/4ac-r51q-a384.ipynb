{
 "cells": [
  {
   "cell_type": "markdown",
   "id": "7cb10056",
   "metadata": {
    "_cell_guid": "b1076dfc-b9ad-4769-8c92-a6c4dae69d19",
    "_uuid": "8f2839f25d086af736a60e9eeb907d3b93b6e0e5",
    "papermill": {
     "duration": 0.009393,
     "end_time": "2022-09-25T08:26:51.865930",
     "exception": false,
     "start_time": "2022-09-25T08:26:51.856537",
     "status": "completed"
    },
    "tags": []
   },
   "source": [
    "### **Setup**"
   ]
  },
  {
   "cell_type": "code",
   "execution_count": 1,
   "id": "c3ab459f",
   "metadata": {
    "execution": {
     "iopub.execute_input": "2022-09-25T08:26:51.893099Z",
     "iopub.status.busy": "2022-09-25T08:26:51.888986Z",
     "iopub.status.idle": "2022-09-25T08:27:06.445822Z",
     "shell.execute_reply": "2022-09-25T08:27:06.444306Z"
    },
    "papermill": {
     "duration": 14.571189,
     "end_time": "2022-09-25T08:27:06.448775",
     "exception": false,
     "start_time": "2022-09-25T08:26:51.877586",
     "status": "completed"
    },
    "tags": []
   },
   "outputs": [
    {
     "name": "stderr",
     "output_type": "stream",
     "text": [
      "WARNING: Running pip as the 'root' user can result in broken permissions and conflicting behaviour with the system package manager. It is recommended to use a virtual environment instead: https://pip.pypa.io/warnings/venv\n"
     ]
    }
   ],
   "source": [
    "%%bash\n",
    "pip install timm -q"
   ]
  },
  {
   "cell_type": "markdown",
   "id": "c5f6069f",
   "metadata": {
    "papermill": {
     "duration": 0.004697,
     "end_time": "2022-09-25T08:27:06.458685",
     "exception": false,
     "start_time": "2022-09-25T08:27:06.453988",
     "status": "completed"
    },
    "tags": []
   },
   "source": [
    "### **Library Imports**"
   ]
  },
  {
   "cell_type": "code",
   "execution_count": 2,
   "id": "7ad3c005",
   "metadata": {
    "execution": {
     "iopub.execute_input": "2022-09-25T08:27:06.472208Z",
     "iopub.status.busy": "2022-09-25T08:27:06.471822Z",
     "iopub.status.idle": "2022-09-25T08:27:11.387623Z",
     "shell.execute_reply": "2022-09-25T08:27:11.386072Z"
    },
    "papermill": {
     "duration": 4.925511,
     "end_time": "2022-09-25T08:27:11.390904",
     "exception": false,
     "start_time": "2022-09-25T08:27:06.465393",
     "status": "completed"
    },
    "tags": []
   },
   "outputs": [],
   "source": [
    "import os\n",
    "import re\n",
    "import cv2\n",
    "import timm\n",
    "import torch\n",
    "import numpy as np\n",
    "import pandas as pd\n",
    "import matplotlib.pyplot as plt\n",
    "\n",
    "from time import time\n",
    "from torch import nn, optim\n",
    "from torch.utils.data import Dataset\n",
    "from torch.utils.data import DataLoader as DL\n",
    "from torchvision import models, transforms\n",
    "\n",
    "from sklearn.model_selection import StratifiedKFold"
   ]
  },
  {
   "cell_type": "markdown",
   "id": "acf324fc",
   "metadata": {
    "papermill": {
     "duration": 0.004721,
     "end_time": "2022-09-25T08:27:11.403293",
     "exception": false,
     "start_time": "2022-09-25T08:27:11.398572",
     "status": "completed"
    },
    "tags": []
   },
   "source": [
    "### **Utilities and Helpers**"
   ]
  },
  {
   "cell_type": "code",
   "execution_count": 3,
   "id": "c6ae5694",
   "metadata": {
    "execution": {
     "iopub.execute_input": "2022-09-25T08:27:11.415367Z",
     "iopub.status.busy": "2022-09-25T08:27:11.414476Z",
     "iopub.status.idle": "2022-09-25T08:27:11.429977Z",
     "shell.execute_reply": "2022-09-25T08:27:11.428776Z"
    },
    "papermill": {
     "duration": 0.024328,
     "end_time": "2022-09-25T08:27:11.432499",
     "exception": false,
     "start_time": "2022-09-25T08:27:11.408171",
     "status": "completed"
    },
    "tags": []
   },
   "outputs": [],
   "source": [
    "SEED = 42\n",
    "SIZE = 384\n",
    "\n",
    "\n",
    "def breaker(num: int=50, char: str=\"*\") -> None:\n",
    "    print(\"\\n\" + num*char + \"\\n\")\n",
    "\n",
    "    \n",
    "def get_image(path: str, size: int=224) -> np.ndarray:\n",
    "    image = cv2.imread(path, cv2.IMREAD_COLOR)\n",
    "    image = cv2.cvtColor(src=image, code=cv2.COLOR_BGR2RGB)\n",
    "    return cv2.resize(src=image, dsize=(size, size), interpolation=cv2.INTER_AREA)\n",
    "\n",
    "\n",
    "def show_loss_graphs(L: list) -> None:\n",
    "    TL, VL = [], []\n",
    "    for i in range(len(L)):\n",
    "        TL.append(L[i][\"train\"])\n",
    "        VL.append(L[i][\"valid\"])\n",
    "    x_Axis = np.arange(1, len(TL) + 1)\n",
    "    plt.figure()\n",
    "    plt.plot(x_Axis, TL, \"r\", label=\"Train\")\n",
    "    plt.plot(x_Axis, VL, \"b\", label=\"Valid\")\n",
    "    plt.legend()\n",
    "    plt.grid()\n",
    "    plt.title(\"Loss Graph\")\n",
    "    plt.show()\n",
    "\n",
    "    \n",
    "def show_accuracy_graphs(A: list) -> None:\n",
    "    TA, VA = [], []\n",
    "    for i in range(len(A)):\n",
    "        TA.append(A[i][\"train\"])\n",
    "        VA.append(A[i][\"valid\"])\n",
    "    x_Axis = np.arange(1, len(TA) + 1)\n",
    "    plt.figure()\n",
    "    plt.plot(x_Axis, TA, \"r\", label=\"Train\")\n",
    "    plt.plot(x_Axis, VA, \"b\", label=\"Valid\")\n",
    "    plt.legend()\n",
    "    plt.grid()\n",
    "    plt.title(\"Accuracy Graph\")\n",
    "    plt.show()\n",
    "    \n",
    "\n",
    "def show_lr_graph(LR: list) -> None:\n",
    "    x_Axis = [i+1 for i in range(len(LR))]\n",
    "    plt.figure(figsize=(8, 6))\n",
    "    plt.plot(x_Axis, LR, \"rx\")\n",
    "    plt.grid()\n",
    "    plt.show()"
   ]
  },
  {
   "cell_type": "markdown",
   "id": "a20736dd",
   "metadata": {
    "papermill": {
     "duration": 0.004694,
     "end_time": "2022-09-25T08:27:11.442175",
     "exception": false,
     "start_time": "2022-09-25T08:27:11.437481",
     "status": "completed"
    },
    "tags": []
   },
   "source": [
    "### **Configuration**"
   ]
  },
  {
   "cell_type": "code",
   "execution_count": 4,
   "id": "d33a7023",
   "metadata": {
    "execution": {
     "iopub.execute_input": "2022-09-25T08:27:11.453775Z",
     "iopub.status.busy": "2022-09-25T08:27:11.453438Z",
     "iopub.status.idle": "2022-09-25T08:27:11.553211Z",
     "shell.execute_reply": "2022-09-25T08:27:11.551621Z"
    },
    "papermill": {
     "duration": 0.108857,
     "end_time": "2022-09-25T08:27:11.556142",
     "exception": false,
     "start_time": "2022-09-25T08:27:11.447285",
     "status": "completed"
    },
    "tags": []
   },
   "outputs": [],
   "source": [
    "class CFG(object):\n",
    "    def __init__(self, \n",
    "                 seed: int = 42,\n",
    "                 size: int = 224,\n",
    "                 n_splits: int = 5,\n",
    "                 batch_size: int = 16,\n",
    "                 epochs: int = 25,\n",
    "                 early_stopping: int = 5,\n",
    "                 lr: float = 1e-4,\n",
    "                 wd: float = 0.0,\n",
    "                 max_lr: float = 1e-3,\n",
    "                 pct_start: float = 0.2,\n",
    "                 steps_per_epoch: int = 100,\n",
    "                 div_factor: int = 1e3, \n",
    "                 final_div_factor: float = 1e3,\n",
    "                 ):\n",
    "        self.seed = seed\n",
    "        self.size = size\n",
    "        self.n_splits = n_splits\n",
    "        self.batch_size = batch_size\n",
    "        self.epochs = epochs\n",
    "        self.early_stopping = early_stopping\n",
    "        self.lr = lr\n",
    "        self.wd = wd\n",
    "        self.max_lr = max_lr\n",
    "        self.pct_start = pct_start\n",
    "        self.steps_per_epoch = steps_per_epoch\n",
    "        self.div_factor = div_factor\n",
    "        self.final_div_factor = final_div_factor\n",
    "        self.device = torch.device(\"cuda\" if torch.cuda.is_available() else \"cpu\")\n",
    "        self.train_transform = transforms.Compose([\n",
    "            transforms.ToTensor(),\n",
    "            transforms.Normalize([0.48805, 0.46218, 0.38043], [0.21471, 0.21141, 0.21124]),\n",
    "            transforms.RandomAffine(degrees=(-45, 45), translate=(0.15, 0.15), scale=(0.5, 1.5)),\n",
    "            transforms.RandomHorizontalFlip(p=0.25),\n",
    "            transforms.RandomVerticalFlip(p=0.25),\n",
    "        ])\n",
    "        self.valid_transform = transforms.Compose([\n",
    "            transforms.ToTensor(),\n",
    "            transforms.Normalize([0.48805, 0.46218, 0.38043], [0.21471, 0.21141, 0.21124]),\n",
    "        ])\n",
    "                                \n",
    "        self.save_path = \"saves\"\n",
    "        if not os.path.exists(self.save_path): os.makedirs(self.save_path)\n",
    "    \n",
    "cfg = CFG(seed=SEED, size=SIZE)"
   ]
  },
  {
   "cell_type": "markdown",
   "id": "c94888bf",
   "metadata": {
    "papermill": {
     "duration": 0.004614,
     "end_time": "2022-09-25T08:27:11.565779",
     "exception": false,
     "start_time": "2022-09-25T08:27:11.561165",
     "status": "completed"
    },
    "tags": []
   },
   "source": [
    "### **Dataset Template**"
   ]
  },
  {
   "cell_type": "code",
   "execution_count": 5,
   "id": "ea7eab71",
   "metadata": {
    "execution": {
     "iopub.execute_input": "2022-09-25T08:27:11.576743Z",
     "iopub.status.busy": "2022-09-25T08:27:11.576393Z",
     "iopub.status.idle": "2022-09-25T08:27:11.586275Z",
     "shell.execute_reply": "2022-09-25T08:27:11.585046Z"
    },
    "papermill": {
     "duration": 0.018244,
     "end_time": "2022-09-25T08:27:11.588786",
     "exception": false,
     "start_time": "2022-09-25T08:27:11.570542",
     "status": "completed"
    },
    "tags": []
   },
   "outputs": [],
   "source": [
    "class DS(Dataset):\n",
    "    def __init__(\n",
    "        self, \n",
    "        base_path: str,\n",
    "        filenames: np.ndarray, \n",
    "        folder_names: np.ndarray, \n",
    "        labels: np.ndarray, \n",
    "        size: int,\n",
    "        transform=None):\n",
    "        \n",
    "        self.base_path = base_path\n",
    "        self.filenames = filenames\n",
    "        self.folder_names = folder_names\n",
    "        self.labels = labels\n",
    "        self.size = size\n",
    "        self.transform = transform\n",
    "    \n",
    "    def __len__(self):\n",
    "        return self.filenames.shape[0]\n",
    "    \n",
    "    def __getitem__(self, idx):\n",
    "        path = os.path.join(os.path.join(self.base_path, self.folder_names[idx]), self.filenames[idx])\n",
    "        image = get_image(path, self.size)\n",
    "        return self.transform(image), self.labels[idx]"
   ]
  },
  {
   "cell_type": "code",
   "execution_count": 6,
   "id": "1c15b57c",
   "metadata": {
    "execution": {
     "iopub.execute_input": "2022-09-25T08:27:11.600071Z",
     "iopub.status.busy": "2022-09-25T08:27:11.599751Z",
     "iopub.status.idle": "2022-09-25T08:27:11.606456Z",
     "shell.execute_reply": "2022-09-25T08:27:11.605150Z"
    },
    "papermill": {
     "duration": 0.015541,
     "end_time": "2022-09-25T08:27:11.609012",
     "exception": false,
     "start_time": "2022-09-25T08:27:11.593471",
     "status": "completed"
    },
    "tags": []
   },
   "outputs": [],
   "source": [
    "# class DS(Dataset):\n",
    "#     def __init__(\n",
    "#         self, \n",
    "#         base_path: str,\n",
    "#         filenames: np.ndarray, \n",
    "#         size: int,\n",
    "#         transform=None):\n",
    "        \n",
    "#         self.base_path = base_path\n",
    "#         self.filenames = filenames\n",
    "#         self.size = size\n",
    "#         self.transform = transform\n",
    "    \n",
    "#     def __len__(self):\n",
    "#         return self.filenames.shape[0]\n",
    "    \n",
    "#     def __getitem__(self, idx):\n",
    "#         path = os.path.join(self.base_path, str(self.filenames[idx]) + \".jpg\")\n",
    "#         image = get_image(path, self.size)\n",
    "#         return self.transform(image)"
   ]
  },
  {
   "cell_type": "markdown",
   "id": "1f63aab2",
   "metadata": {
    "papermill": {
     "duration": 0.005026,
     "end_time": "2022-09-25T08:27:11.619289",
     "exception": false,
     "start_time": "2022-09-25T08:27:11.614263",
     "status": "completed"
    },
    "tags": []
   },
   "source": [
    "### **Model**"
   ]
  },
  {
   "cell_type": "code",
   "execution_count": 7,
   "id": "bbbc1787",
   "metadata": {
    "execution": {
     "iopub.execute_input": "2022-09-25T08:27:11.631891Z",
     "iopub.status.busy": "2022-09-25T08:27:11.630487Z",
     "iopub.status.idle": "2022-09-25T08:27:11.639491Z",
     "shell.execute_reply": "2022-09-25T08:27:11.638252Z"
    },
    "papermill": {
     "duration": 0.017796,
     "end_time": "2022-09-25T08:27:11.642162",
     "exception": false,
     "start_time": "2022-09-25T08:27:11.624366",
     "status": "completed"
    },
    "tags": []
   },
   "outputs": [],
   "source": [
    "class Model(nn.Module):\n",
    "    def __init__(self):\n",
    "        super(Model, self).__init__()\n",
    "            \n",
    "        self.model = timm.create_model(model_name=\"resnet51q\", pretrained=True)\n",
    "        self.model.head.fc = nn.Linear(in_features=self.model.head.fc.in_features, out_features=4)\n",
    "            \n",
    "    def freeze(self):\n",
    "        for params in self.parameters(): params.requires_grad = False\n",
    "\n",
    "    def forward(self, x):\n",
    "        return nn.LogSoftmax(dim=1)(self.model(x))"
   ]
  },
  {
   "cell_type": "markdown",
   "id": "b03dcee8",
   "metadata": {
    "papermill": {
     "duration": 0.004845,
     "end_time": "2022-09-25T08:27:11.652041",
     "exception": false,
     "start_time": "2022-09-25T08:27:11.647196",
     "status": "completed"
    },
    "tags": []
   },
   "source": [
    "### **Fit and Predict**"
   ]
  },
  {
   "cell_type": "code",
   "execution_count": 8,
   "id": "a27217f1",
   "metadata": {
    "execution": {
     "iopub.execute_input": "2022-09-25T08:27:11.664462Z",
     "iopub.status.busy": "2022-09-25T08:27:11.663419Z",
     "iopub.status.idle": "2022-09-25T08:27:11.689950Z",
     "shell.execute_reply": "2022-09-25T08:27:11.688637Z"
    },
    "papermill": {
     "duration": 0.035591,
     "end_time": "2022-09-25T08:27:11.692662",
     "exception": false,
     "start_time": "2022-09-25T08:27:11.657071",
     "status": "completed"
    },
    "tags": []
   },
   "outputs": [],
   "source": [
    "def fit(model=None,\n",
    "        optimizer=None, \n",
    "        scheduler_rlrop=None,\n",
    "        scheduler_oclr=None,\n",
    "        epochs=None, \n",
    "        early_stopping_patience=None, \n",
    "        dataloaders=None, \n",
    "        fold=None, \n",
    "        save_path=None,\n",
    "        device=None,\n",
    "        verbose=False) -> tuple:\n",
    "    \n",
    "    def get_accuracy(y_pred, y_true):\n",
    "        y_pred = torch.argmax(y_pred, dim=1)\n",
    "        return torch.count_nonzero(y_pred == y_true).item() / len(y_pred)\n",
    "    \n",
    "    if verbose:\n",
    "        breaker()\n",
    "        if fold: print(f\"Training Fold {fold}...\")\n",
    "        else: print(\"Training ...\")\n",
    "        breaker()\n",
    "        \n",
    "    bestLoss: dict = {\"train\" : np.inf, \"valid\" : np.inf} \n",
    "    bestAccs: dict = {\"train\" : 0.0, \"valid\" : 0.0}\n",
    "        \n",
    "    Losses: list = []\n",
    "    Accuracies: list = [] \n",
    "    LRs: list = []\n",
    "        \n",
    "    if fold: \n",
    "        ble_name = f\"ble_state_fold_{fold}.pt\"\n",
    "        bae_name = f\"bae_state_fold_{fold}.pt\"\n",
    "    else: \n",
    "        ble_name = f\"ble_state.pt\"\n",
    "        bae_name = f\"bae_state.pt\"\n",
    "    \n",
    "    start_time = time()\n",
    "    for e in range(epochs):\n",
    "        e_st = time()\n",
    "        epochLoss: dict = {\"train\" : 0.0, \"valid\" : 0.0} \n",
    "        epochAccs: dict = {\"train\" : 0.0, \"valid\" : 0.0}\n",
    "\n",
    "        for phase in [\"train\", \"valid\"]:\n",
    "            if phase == \"train\":\n",
    "                model.train()\n",
    "            else:\n",
    "                model.eval()\n",
    "            \n",
    "            lossPerPass: list = []\n",
    "            accsPerPass: list = []\n",
    "                \n",
    "            for X, y in dataloaders[phase]:\n",
    "                X, y = X.to(device), y.to(device).view(-1)\n",
    "\n",
    "                optimizer.zero_grad()\n",
    "                with torch.set_grad_enabled(phase == \"train\"):\n",
    "                    output = model(X)\n",
    "                    loss = torch.nn.NLLLoss()(output, y)\n",
    "                    if phase == \"train\":\n",
    "                        loss.backward()\n",
    "                        optimizer.step()\n",
    "                        if scheduler_oclr: scheduler_oclr.step()\n",
    "                lossPerPass.append(loss.item())\n",
    "                accsPerPass.append(get_accuracy(output, y))\n",
    "            epochLoss[phase] = np.mean(np.array(lossPerPass))\n",
    "            epochAccs[phase] = np.mean(np.array(accsPerPass))\n",
    "        if scheduler_oclr: LRs.append(scheduler_oclr.get_last_lr())\n",
    "        Losses.append(epochLoss)\n",
    "        Accuracies.append(epochAccs)\n",
    "    \n",
    "        if scheduler_oclr:\n",
    "            save_dict = {\"model_state_dict\"     : model.state_dict(),\n",
    "                         \"optim_state_dict\"     : optimizer.state_dict(),\n",
    "                         \"scheduler_state_dict\" : scheduler_oclr.state_dict()}\n",
    "        \n",
    "        elif scheduler_rlrop:\n",
    "            save_dict = {\"model_state_dict\"     : model.state_dict(),\n",
    "                         \"optim_state_dict\"     : optimizer.state_dict(),\n",
    "                         \"scheduler_state_dict\" : scheduler_rlrop.state_dict()}\n",
    "        \n",
    "        else:\n",
    "            save_dict = {\"model_state_dict\"     : model.state_dict(),\n",
    "                         \"optim_state_dict\"     : optimizer.state_dict()}\n",
    "        \n",
    "        \n",
    "        if early_stopping_patience:\n",
    "            if epochLoss[\"valid\"] < bestLoss[\"valid\"]:\n",
    "                bestLoss = epochLoss\n",
    "                BLE = e + 1\n",
    "                torch.save(save_dict, os.path.join(save_path, ble_name))\n",
    "                torch.save(save_dict, os.path.join(save_path, bae_name))\n",
    "                early_stopping_step = 0\n",
    "            else:\n",
    "                early_stopping_step += 1\n",
    "                if early_stopping_step > early_stopping_patience:\n",
    "                    print(\"\\nEarly Stopping at Epoch {}\".format(e + 1))\n",
    "                    break\n",
    "        \n",
    "        if epochLoss[\"valid\"] < bestLoss[\"valid\"]:\n",
    "            bestLoss = epochLoss\n",
    "            BLE = e + 1\n",
    "            torch.save(save_dict,os.path.join(save_path, ble_name))\n",
    "        \n",
    "        if epochAccs[\"valid\"] > bestAccs[\"valid\"]:\n",
    "            bestAccs = epochAccs\n",
    "            BAE = e + 1\n",
    "            torch.save(save_dict,os.path.join(save_path, bae_name))\n",
    "        \n",
    "        if scheduler_rlrop: scheduler_rlrop.step(epochLoss[\"valid\"])\n",
    "        \n",
    "        if verbose:\n",
    "            print(\"Epoch: {} | Train Loss: {:.5f} | Valid Loss: {:.5f} |\\\n",
    " Train Accs: {:.5f} | Valid Accs: {:.5f} | Time: {:.2f} seconds\".format(e+1, \n",
    "                                                                        epochLoss[\"train\"], epochLoss[\"valid\"], \n",
    "                                                                        epochAccs[\"train\"], epochAccs[\"valid\"], \n",
    "                                                                        time()-e_st))\n",
    "\n",
    "    if verbose:                                           \n",
    "        breaker()\n",
    "        print(f\"Best Validation Loss at Epoch {BLE}\")\n",
    "        breaker()\n",
    "        print(f\"Best Validation Accs at Epoch {BAE}\")\n",
    "        breaker()\n",
    "        print(\"Time Taken [{} Epochs] : {:.2f} minutes\".format(len(Losses), (time()-start_time)/60))\n",
    "    \n",
    "    return Losses, Accuracies, LRs, bestLoss, bestAccs, BLE, BAE, ble_name, bae_name\n",
    "\n",
    "\n",
    "# def predict_batch(model=None, dataloader=None, path=None, device=None) -> np.ndarray:\n",
    "#     model.load_state_dict(torch.load(path, map_location=device)[\"model_state_dict\"])\n",
    "#     model.to(device)    \n",
    "#     model.eval()\n",
    "    \n",
    "#     y_pred = torch.zeros(1, 1).to(device)\n",
    "    \n",
    "#     for X in dataloader:\n",
    "#         X = X.to(device)\n",
    "#         with torch.no_grad():\n",
    "#             output = torch.argmax(torch.exp(model(X)), dim=1)\n",
    "#         y_pred = torch.cat((y_pred, output.view(-1, 1)), dim=0)\n",
    "    \n",
    "#     return y_pred[1:].detach().cpu().numpy()"
   ]
  },
  {
   "cell_type": "markdown",
   "id": "7149ba78",
   "metadata": {
    "papermill": {
     "duration": 0.004782,
     "end_time": "2022-09-25T08:27:11.702489",
     "exception": false,
     "start_time": "2022-09-25T08:27:11.697707",
     "status": "completed"
    },
    "tags": []
   },
   "source": [
    "### **Train**"
   ]
  },
  {
   "cell_type": "code",
   "execution_count": 9,
   "id": "711826e7",
   "metadata": {
    "execution": {
     "iopub.execute_input": "2022-09-25T08:27:11.714828Z",
     "iopub.status.busy": "2022-09-25T08:27:11.713786Z",
     "iopub.status.idle": "2022-09-25T08:27:11.757881Z",
     "shell.execute_reply": "2022-09-25T08:27:11.756310Z"
    },
    "papermill": {
     "duration": 0.053393,
     "end_time": "2022-09-25T08:27:11.760966",
     "exception": false,
     "start_time": "2022-09-25T08:27:11.707573",
     "status": "completed"
    },
    "tags": []
   },
   "outputs": [],
   "source": [
    "df = pd.read_csv(\"../input/4ac-dataframe/data.csv\")\n",
    "\n",
    "filenames = df.filenames.copy().values\n",
    "folder_names = df.folder_names.copy().values\n",
    "labels = df.classes.copy().values"
   ]
  },
  {
   "cell_type": "code",
   "execution_count": 10,
   "id": "98cf9340",
   "metadata": {
    "execution": {
     "iopub.execute_input": "2022-09-25T08:27:11.773837Z",
     "iopub.status.busy": "2022-09-25T08:27:11.772823Z",
     "iopub.status.idle": "2022-09-25T09:56:19.656813Z",
     "shell.execute_reply": "2022-09-25T09:56:19.655125Z"
    },
    "papermill": {
     "duration": 5347.893967,
     "end_time": "2022-09-25T09:56:19.659944",
     "exception": false,
     "start_time": "2022-09-25T08:27:11.765977",
     "status": "completed"
    },
    "tags": []
   },
   "outputs": [
    {
     "name": "stderr",
     "output_type": "stream",
     "text": [
      "Downloading: \"https://github.com/rwightman/pytorch-image-models/releases/download/v0.1-weights/resnet51q_ra2-d47dcc76.pth\" to /root/.cache/torch/hub/checkpoints/resnet51q_ra2-d47dcc76.pth\n"
     ]
    },
    {
     "name": "stdout",
     "output_type": "stream",
     "text": [
      "\n",
      "**************************************************\n",
      "\n",
      "Training Fold 1...\n",
      "\n",
      "**************************************************\n",
      "\n",
      "Epoch: 1 | Train Loss: 1.18857 | Valid Loss: 0.37481 | Train Accs: 0.60045 | Valid Accs: 0.96964 | Time: 162.25 seconds\n",
      "Epoch: 2 | Train Loss: 0.25380 | Valid Loss: 0.08590 | Train Accs: 0.92188 | Valid Accs: 0.96964 | Time: 137.39 seconds\n",
      "Epoch: 3 | Train Loss: 0.25840 | Valid Loss: 0.14709 | Train Accs: 0.90848 | Valid Accs: 0.93750 | Time: 134.63 seconds\n",
      "Epoch: 4 | Train Loss: 0.33019 | Valid Loss: 0.19886 | Train Accs: 0.88527 | Valid Accs: 0.93393 | Time: 132.39 seconds\n",
      "Epoch: 5 | Train Loss: 0.35767 | Valid Loss: 0.31682 | Train Accs: 0.87634 | Valid Accs: 0.87321 | Time: 132.27 seconds\n",
      "Epoch: 6 | Train Loss: 0.27197 | Valid Loss: 0.19417 | Train Accs: 0.89554 | Valid Accs: 0.93214 | Time: 132.72 seconds\n",
      "Epoch: 7 | Train Loss: 0.26305 | Valid Loss: 0.16421 | Train Accs: 0.91161 | Valid Accs: 0.94286 | Time: 133.79 seconds\n",
      "\n",
      "Early Stopping at Epoch 8\n",
      "\n",
      "**************************************************\n",
      "\n",
      "Best Validation Loss at Epoch 2\n",
      "\n",
      "**************************************************\n",
      "\n",
      "Best Validation Accs at Epoch 1\n",
      "\n",
      "**************************************************\n",
      "\n",
      "Time Taken [8 Epochs] : 18.31 minutes\n",
      "\n",
      "**************************************************\n",
      "\n"
     ]
    },
    {
     "data": {
      "image/png": "[encoded data removed]",
      "text/plain": [
       "<Figure size 432x288 with 1 Axes>"
      ]
     },
     "metadata": {
      "needs_background": "light"
     },
     "output_type": "display_data"
    },
    {
     "name": "stdout",
     "output_type": "stream",
     "text": [
      "\n",
      "**************************************************\n",
      "\n"
     ]
    },
    {
     "data": {
      "image/png": "[encoded data removed]",
      "text/plain": [
       "<Figure size 432x288 with 1 Axes>"
      ]
     },
     "metadata": {
      "needs_background": "light"
     },
     "output_type": "display_data"
    },
    {
     "name": "stdout",
     "output_type": "stream",
     "text": [
      "\n",
      "**************************************************\n",
      "\n"
     ]
    },
    {
     "data": {
      "image/png": "[encoded data removed]",
      "text/plain": [
       "<Figure size 576x432 with 1 Axes>"
      ]
     },
     "metadata": {
      "needs_background": "light"
     },
     "output_type": "display_data"
    },
    {
     "name": "stdout",
     "output_type": "stream",
     "text": [
      "\n",
      "**************************************************\n",
      "\n",
      "\n",
      "**************************************************\n",
      "\n",
      "Training Fold 2...\n",
      "\n",
      "**************************************************\n",
      "\n",
      "Epoch: 1 | Train Loss: 1.18548 | Valid Loss: 0.35188 | Train Accs: 0.60759 | Valid Accs: 0.98036 | Time: 136.83 seconds\n",
      "Epoch: 2 | Train Loss: 0.24122 | Valid Loss: 0.09546 | Train Accs: 0.92500 | Valid Accs: 0.96786 | Time: 135.06 seconds\n",
      "Epoch: 3 | Train Loss: 0.27852 | Valid Loss: 0.22849 | Train Accs: 0.90982 | Valid Accs: 0.91429 | Time: 131.65 seconds\n",
      "Epoch: 4 | Train Loss: 0.35051 | Valid Loss: 0.43004 | Train Accs: 0.88304 | Valid Accs: 0.86964 | Time: 130.71 seconds\n",
      "Epoch: 5 | Train Loss: 0.41287 | Valid Loss: 0.16927 | Train Accs: 0.85982 | Valid Accs: 0.93929 | Time: 130.46 seconds\n",
      "Epoch: 6 | Train Loss: 0.27973 | Valid Loss: 0.21916 | Train Accs: 0.89687 | Valid Accs: 0.92857 | Time: 129.95 seconds\n",
      "Epoch: 7 | Train Loss: 0.27108 | Valid Loss: 0.17471 | Train Accs: 0.90893 | Valid Accs: 0.93750 | Time: 130.74 seconds\n",
      "\n",
      "Early Stopping at Epoch 8\n",
      "\n",
      "**************************************************\n",
      "\n",
      "Best Validation Loss at Epoch 2\n",
      "\n",
      "**************************************************\n",
      "\n",
      "Best Validation Accs at Epoch 1\n",
      "\n",
      "**************************************************\n",
      "\n",
      "Time Taken [8 Epochs] : 17.62 minutes\n",
      "\n",
      "**************************************************\n",
      "\n"
     ]
    },
    {
     "data": {
      "image/png": "[encoded data removed]",
      "text/plain": [
       "<Figure size 432x288 with 1 Axes>"
      ]
     },
     "metadata": {
      "needs_background": "light"
     },
     "output_type": "display_data"
    },
    {
     "name": "stdout",
     "output_type": "stream",
     "text": [
      "\n",
      "**************************************************\n",
      "\n"
     ]
    },
    {
     "data": {
      "image/png": "[encoded data removed]",
      "text/plain": [
       "<Figure size 432x288 with 1 Axes>"
      ]
     },
     "metadata": {
      "needs_background": "light"
     },
     "output_type": "display_data"
    },
    {
     "name": "stdout",
     "output_type": "stream",
     "text": [
      "\n",
      "**************************************************\n",
      "\n"
     ]
    },
    {
     "data": {
      "image/png": "[encoded data removed]",
      "text/plain": [
       "<Figure size 576x432 with 1 Axes>"
      ]
     },
     "metadata": {
      "needs_background": "light"
     },
     "output_type": "display_data"
    },
    {
     "name": "stdout",
     "output_type": "stream",
     "text": [
      "\n",
      "**************************************************\n",
      "\n",
      "\n",
      "**************************************************\n",
      "\n",
      "Training Fold 3...\n",
      "\n",
      "**************************************************\n",
      "\n",
      "Epoch: 1 | Train Loss: 1.19096 | Valid Loss: 0.37501 | Train Accs: 0.60804 | Valid Accs: 0.97321 | Time: 135.11 seconds\n",
      "Epoch: 2 | Train Loss: 0.25776 | Valid Loss: 0.10788 | Train Accs: 0.92143 | Valid Accs: 0.96250 | Time: 135.14 seconds\n",
      "Epoch: 3 | Train Loss: 0.24460 | Valid Loss: 0.13649 | Train Accs: 0.91518 | Valid Accs: 0.95179 | Time: 132.26 seconds\n",
      "Epoch: 4 | Train Loss: 0.39381 | Valid Loss: 0.61115 | Train Accs: 0.86205 | Valid Accs: 0.88750 | Time: 131.02 seconds\n",
      "Epoch: 5 | Train Loss: 0.38102 | Valid Loss: 0.18422 | Train Accs: 0.86027 | Valid Accs: 0.93036 | Time: 131.66 seconds\n",
      "Epoch: 6 | Train Loss: 0.28454 | Valid Loss: 0.31448 | Train Accs: 0.90000 | Valid Accs: 0.91429 | Time: 131.26 seconds\n",
      "Epoch: 7 | Train Loss: 0.28862 | Valid Loss: 0.21222 | Train Accs: 0.90268 | Valid Accs: 0.93214 | Time: 131.30 seconds\n",
      "\n",
      "Early Stopping at Epoch 8\n",
      "\n",
      "**************************************************\n",
      "\n",
      "Best Validation Loss at Epoch 2\n",
      "\n",
      "**************************************************\n",
      "\n",
      "Best Validation Accs at Epoch 1\n",
      "\n",
      "**************************************************\n",
      "\n",
      "Time Taken [8 Epochs] : 17.64 minutes\n",
      "\n",
      "**************************************************\n",
      "\n"
     ]
    },
    {
     "data": {
      "image/png": "[encoded data removed]",
      "text/plain": [
       "<Figure size 432x288 with 1 Axes>"
      ]
     },
     "metadata": {
      "needs_background": "light"
     },
     "output_type": "display_data"
    },
    {
     "name": "stdout",
     "output_type": "stream",
     "text": [
      "\n",
      "**************************************************\n",
      "\n"
     ]
    },
    {
     "data": {
      "image/png": "[encoded data removed]",
      "text/plain": [
       "<Figure size 432x288 with 1 Axes>"
      ]
     },
     "metadata": {
      "needs_background": "light"
     },
     "output_type": "display_data"
    },
    {
     "name": "stdout",
     "output_type": "stream",
     "text": [
      "\n",
      "**************************************************\n",
      "\n"
     ]
    },
    {
     "data": {
      "image/png": "[encoded data removed]",
      "text/plain": [
       "<Figure size 576x432 with 1 Axes>"
      ]
     },
     "metadata": {
      "needs_background": "light"
     },
     "output_type": "display_data"
    },
    {
     "name": "stdout",
     "output_type": "stream",
     "text": [
      "\n",
      "**************************************************\n",
      "\n",
      "\n",
      "**************************************************\n",
      "\n",
      "Training Fold 4...\n",
      "\n",
      "**************************************************\n",
      "\n",
      "Epoch: 1 | Train Loss: 1.18719 | Valid Loss: 0.35351 | Train Accs: 0.61562 | Valid Accs: 0.98036 | Time: 136.17 seconds\n",
      "Epoch: 2 | Train Loss: 0.24032 | Valid Loss: 0.08437 | Train Accs: 0.92321 | Valid Accs: 0.96964 | Time: 136.03 seconds\n",
      "Epoch: 3 | Train Loss: 0.26397 | Valid Loss: 0.13467 | Train Accs: 0.90536 | Valid Accs: 0.95536 | Time: 131.49 seconds\n",
      "Epoch: 4 | Train Loss: 0.33413 | Valid Loss: 0.39063 | Train Accs: 0.87768 | Valid Accs: 0.88750 | Time: 130.65 seconds\n",
      "Epoch: 5 | Train Loss: 0.33417 | Valid Loss: 0.21637 | Train Accs: 0.87902 | Valid Accs: 0.91250 | Time: 130.69 seconds\n",
      "Epoch: 6 | Train Loss: 0.33055 | Valid Loss: 0.38054 | Train Accs: 0.88438 | Valid Accs: 0.89821 | Time: 130.90 seconds\n",
      "Epoch: 7 | Train Loss: 0.27092 | Valid Loss: 0.14910 | Train Accs: 0.89955 | Valid Accs: 0.94821 | Time: 130.71 seconds\n",
      "\n",
      "Early Stopping at Epoch 8\n",
      "\n",
      "**************************************************\n",
      "\n",
      "Best Validation Loss at Epoch 2\n",
      "\n",
      "**************************************************\n",
      "\n",
      "Best Validation Accs at Epoch 1\n",
      "\n",
      "**************************************************\n",
      "\n",
      "Time Taken [8 Epochs] : 17.62 minutes\n",
      "\n",
      "**************************************************\n",
      "\n"
     ]
    },
    {
     "data": {
      "image/png": "[encoded data removed]",
      "text/plain": [
       "<Figure size 432x288 with 1 Axes>"
      ]
     },
     "metadata": {
      "needs_background": "light"
     },
     "output_type": "display_data"
    },
    {
     "name": "stdout",
     "output_type": "stream",
     "text": [
      "\n",
      "**************************************************\n",
      "\n"
     ]
    },
    {
     "data": {
      "image/png": "[encoded data removed]",
      "text/plain": [
       "<Figure size 432x288 with 1 Axes>"
      ]
     },
     "metadata": {
      "needs_background": "light"
     },
     "output_type": "display_data"
    },
    {
     "name": "stdout",
     "output_type": "stream",
     "text": [
      "\n",
      "**************************************************\n",
      "\n"
     ]
    },
    {
     "data": {
      "image/png": "[encoded data removed]",
      "text/plain": [
       "<Figure size 576x432 with 1 Axes>"
      ]
     },
     "metadata": {
      "needs_background": "light"
     },
     "output_type": "display_data"
    },
    {
     "name": "stdout",
     "output_type": "stream",
     "text": [
      "\n",
      "**************************************************\n",
      "\n",
      "\n",
      "**************************************************\n",
      "\n",
      "Training Fold 5...\n",
      "\n",
      "**************************************************\n",
      "\n",
      "Epoch: 1 | Train Loss: 1.18235 | Valid Loss: 0.35789 | Train Accs: 0.62813 | Valid Accs: 0.96250 | Time: 135.79 seconds\n",
      "Epoch: 2 | Train Loss: 0.24481 | Valid Loss: 0.16606 | Train Accs: 0.92366 | Valid Accs: 0.93571 | Time: 135.13 seconds\n",
      "Epoch: 3 | Train Loss: 0.25597 | Valid Loss: 0.30789 | Train Accs: 0.90536 | Valid Accs: 0.90357 | Time: 131.73 seconds\n",
      "Epoch: 4 | Train Loss: 0.33047 | Valid Loss: 0.30392 | Train Accs: 0.88750 | Valid Accs: 0.90893 | Time: 130.15 seconds\n",
      "Epoch: 5 | Train Loss: 0.36350 | Valid Loss: 0.45569 | Train Accs: 0.87321 | Valid Accs: 0.85179 | Time: 130.36 seconds\n",
      "Epoch: 6 | Train Loss: 0.28792 | Valid Loss: 0.21023 | Train Accs: 0.90000 | Valid Accs: 0.93393 | Time: 130.62 seconds\n",
      "Epoch: 7 | Train Loss: 0.24491 | Valid Loss: 0.26250 | Train Accs: 0.91652 | Valid Accs: 0.91429 | Time: 131.56 seconds\n",
      "\n",
      "Early Stopping at Epoch 8\n",
      "\n",
      "**************************************************\n",
      "\n",
      "Best Validation Loss at Epoch 2\n",
      "\n",
      "**************************************************\n",
      "\n",
      "Best Validation Accs at Epoch 1\n",
      "\n",
      "**************************************************\n",
      "\n",
      "Time Taken [8 Epochs] : 17.62 minutes\n",
      "\n",
      "**************************************************\n",
      "\n"
     ]
    },
    {
     "data": {
      "image/png": "[encoded data removed]",
      "text/plain": [
       "<Figure size 432x288 with 1 Axes>"
      ]
     },
     "metadata": {
      "needs_background": "light"
     },
     "output_type": "display_data"
    },
    {
     "name": "stdout",
     "output_type": "stream",
     "text": [
      "\n",
      "**************************************************\n",
      "\n"
     ]
    },
    {
     "data": {
      "image/png": "[encoded data removed]",
      "text/plain": [
       "<Figure size 432x288 with 1 Axes>"
      ]
     },
     "metadata": {
      "needs_background": "light"
     },
     "output_type": "display_data"
    },
    {
     "name": "stdout",
     "output_type": "stream",
     "text": [
      "\n",
      "**************************************************\n",
      "\n"
     ]
    },
    {
     "data": {
      "image/png": "[encoded data removed]",
      "text/plain": [
       "<Figure size 576x432 with 1 Axes>"
      ]
     },
     "metadata": {
      "needs_background": "light"
     },
     "output_type": "display_data"
    },
    {
     "name": "stdout",
     "output_type": "stream",
     "text": [
      "\n",
      "**************************************************\n",
      "\n"
     ]
    }
   ],
   "source": [
    "fold: int = 1\n",
    "BLs: list = []\n",
    "BAs: list = []\n",
    "    \n",
    "for tr_idx, va_idx in StratifiedKFold(n_splits=cfg.n_splits, random_state=cfg.seed, shuffle=True).split(filenames, labels):\n",
    "\n",
    "    tr_filenames, va_filenames       = filenames[tr_idx], filenames[va_idx] \n",
    "    tr_folder_names, va_folder_names = folder_names[tr_idx], folder_names[va_idx] \n",
    "    tr_labels, va_labels             = labels[tr_idx], labels[va_idx]\n",
    "    \n",
    "    tr_data_setup = DS(\n",
    "        base_path=\"../input/4-animal-classification/train\", \n",
    "        filenames=tr_filenames, \n",
    "        folder_names=tr_folder_names,\n",
    "        labels=tr_labels.reshape(-1, 1),\n",
    "        size=cfg.size,\n",
    "        transform=cfg.train_transform)\n",
    "    \n",
    "    va_data_setup = DS(\n",
    "        base_path=\"../input/4-animal-classification/train\", \n",
    "        filenames=va_filenames, \n",
    "        folder_names=va_folder_names,\n",
    "        labels=va_labels.reshape(-1, 1),\n",
    "        size=cfg.size,\n",
    "        transform=cfg.valid_transform)\n",
    "\n",
    "    dataloaders = {\n",
    "        \"train\" : DL(tr_data_setup, batch_size=cfg.batch_size, shuffle=True, generator=torch.manual_seed(cfg.seed)),\n",
    "        \"valid\" : DL(va_data_setup, batch_size=cfg.batch_size, shuffle=False),\n",
    "    }\n",
    "\n",
    "    cfg = CFG(\n",
    "        size=SIZE,\n",
    "        epochs=25, \n",
    "        batch_size=16, \n",
    "        early_stopping=5,\n",
    "        steps_per_epoch=len(dataloaders[\"train\"])\n",
    "    )\n",
    "    \n",
    "    torch.manual_seed(cfg.seed)\n",
    "    model = Model().to(cfg.device)\n",
    "\n",
    "    optimizer = optim.Adam([p for p in model.parameters() if p.requires_grad], lr=cfg.lr, weight_decay=cfg.wd)\n",
    "    # optimizer = optim.AdamW([p for p in model.parameters() if p.requires_grad], lr=cfg.lr, weight_decay=cfg.wd)\n",
    "    # optimizer = optim.SGD([p for p in model.parameters() if p.requires_grad], lr=cfg.lr, weight_decay=cfg.wd, momentum=0.9)\n",
    "    \n",
    "    scheduler_oclr = optim.lr_scheduler.OneCycleLR(\n",
    "        optimizer=optimizer, \n",
    "        max_lr=cfg.max_lr, \n",
    "        epochs=cfg.epochs, \n",
    "        steps_per_epoch=cfg.steps_per_epoch,\n",
    "        pct_start=cfg.pct_start, \n",
    "        div_factor=cfg.div_factor, \n",
    "        final_div_factor=cfg.final_div_factor\n",
    "    )\n",
    "\n",
    "    # scheduler_rlrop = optim.lr_scheduler.ReduceLROnPlateau(\n",
    "    #     optimizer=optimizer,\n",
    "    #     patience=cfg.patience,\n",
    "    #     eps=cfg.eps,\n",
    "    #     verbose=True\n",
    "    # )\n",
    "\n",
    "    # scheduler_oclr = None\n",
    "    scheduler_rlrop = None\n",
    "    \n",
    "    L, A, LR, BL, BA, _, _, _, _ = fit(\n",
    "        model=model, \n",
    "        optimizer=optimizer, \n",
    "        scheduler_oclr=scheduler_oclr,\n",
    "        scheduler_rlrop=scheduler_rlrop,\n",
    "        epochs=cfg.epochs, \n",
    "        early_stopping_patience=cfg.early_stopping, \n",
    "        dataloaders=dataloaders, \n",
    "        device=cfg.device,\n",
    "        save_path=cfg.save_path,\n",
    "        fold=fold,\n",
    "        verbose=True\n",
    "    )\n",
    "    \n",
    "    breaker()\n",
    "    show_loss_graphs(L)\n",
    "    breaker()\n",
    "    show_accuracy_graphs(A)\n",
    "    breaker()\n",
    "    if scheduler_oclr:\n",
    "        show_lr_graph(LR)\n",
    "        breaker()\n",
    "    \n",
    "    BLs.append(BL)\n",
    "    BAs.append(BA)\n",
    "    \n",
    "    fold += 1"
   ]
  },
  {
   "cell_type": "markdown",
   "id": "85c78cdf",
   "metadata": {
    "papermill": {
     "duration": 0.014822,
     "end_time": "2022-09-25T09:56:19.690004",
     "exception": false,
     "start_time": "2022-09-25T09:56:19.675182",
     "status": "completed"
    },
    "tags": []
   },
   "source": [
    "### **Best Model**"
   ]
  },
  {
   "cell_type": "code",
   "execution_count": 11,
   "id": "c58cdcec",
   "metadata": {
    "execution": {
     "iopub.execute_input": "2022-09-25T09:56:19.746690Z",
     "iopub.status.busy": "2022-09-25T09:56:19.745999Z",
     "iopub.status.idle": "2022-09-25T09:56:19.777881Z",
     "shell.execute_reply": "2022-09-25T09:56:19.775555Z"
    },
    "papermill": {
     "duration": 0.080588,
     "end_time": "2022-09-25T09:56:19.784028",
     "exception": false,
     "start_time": "2022-09-25T09:56:19.703440",
     "status": "completed"
    },
    "tags": []
   },
   "outputs": [
    {
     "name": "stdout",
     "output_type": "stream",
     "text": [
      "\n",
      "**************************************************\n",
      "\n",
      "Best Loss Model Fold     : 4\n",
      "Best Accuracy Model Fold : 2\n",
      "\n",
      "**************************************************\n",
      "\n"
     ]
    }
   ],
   "source": [
    "BL = np.inf\n",
    "for i in range(len(BLs)):\n",
    "    if BLs[i][\"valid\"] < BL:\n",
    "        BL = BLs[i][\"valid\"]\n",
    "        best_loss_index = i\n",
    "        \n",
    "BA = 0.0\n",
    "for i in range(len(BAs)):\n",
    "    if BAs[i][\"valid\"] > BA:\n",
    "        BA = BAs[i][\"valid\"]\n",
    "        best_accs_index = i\n",
    "\n",
    "breaker()\n",
    "print(f\"Best Loss Model Fold     : {best_loss_index + 1}\")\n",
    "print(f\"Best Accuracy Model Fold : {best_accs_index + 1}\")\n",
    "breaker()"
   ]
  },
  {
   "cell_type": "markdown",
   "id": "1b330c60",
   "metadata": {
    "papermill": {
     "duration": 0.036447,
     "end_time": "2022-09-25T09:56:19.862427",
     "exception": false,
     "start_time": "2022-09-25T09:56:19.825980",
     "status": "completed"
    },
    "tags": []
   },
   "source": [
    "### **Submit**"
   ]
  },
  {
   "cell_type": "code",
   "execution_count": 12,
   "id": "a9b46d81",
   "metadata": {
    "execution": {
     "iopub.execute_input": "2022-09-25T09:56:19.934765Z",
     "iopub.status.busy": "2022-09-25T09:56:19.932182Z",
     "iopub.status.idle": "2022-09-25T09:56:19.940684Z",
     "shell.execute_reply": "2022-09-25T09:56:19.939293Z"
    },
    "papermill": {
     "duration": 0.0475,
     "end_time": "2022-09-25T09:56:19.944244",
     "exception": false,
     "start_time": "2022-09-25T09:56:19.896744",
     "status": "completed"
    },
    "tags": []
   },
   "outputs": [],
   "source": [
    "# torch.manual_seed(cfg.seed)\n",
    "# model = Model().to(cfg.device)\n",
    "\n",
    "# ss_df = pd.read_csv(\"../input/4-animal-classification/Sample_submission.csv\")\n",
    "# ts_filenames = ss_df[\"ID\"]\n",
    "\n",
    "# ts_data_setup = DS(\n",
    "#     base_path=\"../input/4-animal-classification/test/test\", \n",
    "#     filenames=ts_filenames, \n",
    "#     size=cfg.size,\n",
    "#     transform=cfg.valid_transform,\n",
    "# )\n",
    "# ts_data = DL(ts_data_setup, batch_size=cfg.batch_size, shuffle=False)\n",
    "\n",
    "# y_pred = predict_batch(\n",
    "#     model=model,\n",
    "#     dataloader=ts_data,\n",
    "#     path=\"\",\n",
    "#     device=cfg.device\n",
    "# )\n",
    "\n",
    "# ss_df[\"Label\"] = y_pred.astype(\"uint8\")\n",
    "# ss_df.to_csv(\"submission.csv\", index=False)"
   ]
  }
 ],
 "metadata": {
  "kernelspec": {
   "display_name": "Python 3",
   "language": "python",
   "name": "python3"
  },
  "language_info": {
   "codemirror_mode": {
    "name": "ipython",
    "version": 3
   },
   "file_extension": ".py",
   "mimetype": "text/x-python",
   "name": "python",
   "nbconvert_exporter": "python",
   "pygments_lexer": "ipython3",
   "version": "3.7.12"
  },
  "papermill": {
   "default_parameters": {},
   "duration": 5380.979449,
   "end_time": "2022-09-25T09:56:23.037966",
   "environment_variables": {},
   "exception": null,
   "input_path": "__notebook__.ipynb",
   "output_path": "__notebook__.ipynb",
   "parameters": {},
   "start_time": "2022-09-25T08:26:42.058517",
   "version": "2.3.4"
  }
 },
 "nbformat": 4,
 "nbformat_minor": 5
}
