{
 "cells": [
  {
   "cell_type": "code",
   "execution_count": 1,
   "id": "cdbaf117",
   "metadata": {
    "_cell_guid": "b1076dfc-b9ad-4769-8c92-a6c4dae69d19",
    "_uuid": "8f2839f25d086af736a60e9eeb907d3b93b6e0e5",
    "execution": {
     "iopub.execute_input": "2022-09-28T10:16:14.171447Z",
     "iopub.status.busy": "2022-09-28T10:16:14.170781Z",
     "iopub.status.idle": "2022-09-28T10:16:14.182991Z",
     "shell.execute_reply": "2022-09-28T10:16:14.182073Z"
    },
    "papermill": {
     "duration": 0.021131,
     "end_time": "2022-09-28T10:16:14.185302",
     "exception": false,
     "start_time": "2022-09-28T10:16:14.164171",
     "status": "completed"
    },
    "tags": []
   },
   "outputs": [],
   "source": [
    "import os\n",
    "import pandas as pd"
   ]
  },
  {
   "cell_type": "code",
   "execution_count": 2,
   "id": "bc3d4d1f",
   "metadata": {
    "execution": {
     "iopub.execute_input": "2022-09-28T10:16:14.191397Z",
     "iopub.status.busy": "2022-09-28T10:16:14.190777Z",
     "iopub.status.idle": "2022-09-28T10:16:14.487440Z",
     "shell.execute_reply": "2022-09-28T10:16:14.486174Z"
    },
    "papermill": {
     "duration": 0.302882,
     "end_time": "2022-09-28T10:16:14.490532",
     "exception": false,
     "start_time": "2022-09-28T10:16:14.187650",
     "status": "completed"
    },
    "tags": []
   },
   "outputs": [],
   "source": [
    "path: str = \"../input/4-animal-classification/train\"\n",
    "    \n",
    "df = pd.DataFrame(data=None, columns=[\"filepaths\", \"classes\"])\n",
    "folders = sorted(os.listdir(path))\n",
    "\n",
    "filepaths: list = []\n",
    "classes: list = []\n",
    "i: int = 0\n",
    "    \n",
    "for folder in folders:\n",
    "    for filename in os.listdir(os.path.join(path, folder)):\n",
    "        filepaths.append(os.path.join(os.path.join(path, folder), filename))\n",
    "        classes.append(i)\n",
    "    i += 1\n",
    "\n",
    "df.filepaths = filepaths\n",
    "df.classes = classes"
   ]
  },
  {
   "cell_type": "code",
   "execution_count": 3,
   "id": "6b4f8aaf",
   "metadata": {
    "execution": {
     "iopub.execute_input": "2022-09-28T10:16:14.496562Z",
     "iopub.status.busy": "2022-09-28T10:16:14.496133Z",
     "iopub.status.idle": "2022-09-28T10:16:14.515941Z",
     "shell.execute_reply": "2022-09-28T10:16:14.514614Z"
    },
    "papermill": {
     "duration": 0.02619,
     "end_time": "2022-09-28T10:16:14.519022",
     "exception": false,
     "start_time": "2022-09-28T10:16:14.492832",
     "status": "completed"
    },
    "tags": []
   },
   "outputs": [],
   "source": [
    "sub = pd.read_csv(\"../input/4ac-en4-a384-modeall-tta-infer/submission.csv\")\n",
    "sub_filenames = sub[\"ID\"].copy().values\n",
    "sub_filepaths = [os.path.join(\"../input/4-animal-classification/test/test\", str(sub_filename) + \".jpg\") for sub_filename in sub_filenames]\n",
    "\n",
    "sub_df = pd.DataFrame(data=None, columns=[\"filepaths\", \"classes\"])\n",
    "sub_df.filepaths = sub_filepaths\n",
    "sub_df.classes = sub.Label.copy().values"
   ]
  },
  {
   "cell_type": "code",
   "execution_count": 4,
   "id": "f2e82b22",
   "metadata": {
    "execution": {
     "iopub.execute_input": "2022-09-28T10:16:14.525357Z",
     "iopub.status.busy": "2022-09-28T10:16:14.524645Z",
     "iopub.status.idle": "2022-09-28T10:16:14.547551Z",
     "shell.execute_reply": "2022-09-28T10:16:14.546174Z"
    },
    "papermill": {
     "duration": 0.029311,
     "end_time": "2022-09-28T10:16:14.550668",
     "exception": false,
     "start_time": "2022-09-28T10:16:14.521357",
     "status": "completed"
    },
    "tags": []
   },
   "outputs": [],
   "source": [
    "df = pd.concat((df, sub_df), axis=0)\n",
    "df.to_csv(\"data.csv\", index=False)"
   ]
  }
 ],
 "metadata": {
  "kernelspec": {
   "display_name": "Python 3",
   "language": "python",
   "name": "python3"
  },
  "language_info": {
   "codemirror_mode": {
    "name": "ipython",
    "version": 3
   },
   "file_extension": ".py",
   "mimetype": "text/x-python",
   "name": "python",
   "nbconvert_exporter": "python",
   "pygments_lexer": "ipython3",
   "version": "3.7.12"
  },
  "papermill": {
   "default_parameters": {},
   "duration": 10.211444,
   "end_time": "2022-09-28T10:16:15.175190",
   "environment_variables": {},
   "exception": null,
   "input_path": "__notebook__.ipynb",
   "output_path": "__notebook__.ipynb",
   "parameters": {},
   "start_time": "2022-09-28T10:16:04.963746",
   "version": "2.3.4"
  }
 },
 "nbformat": 4,
 "nbformat_minor": 5
}
