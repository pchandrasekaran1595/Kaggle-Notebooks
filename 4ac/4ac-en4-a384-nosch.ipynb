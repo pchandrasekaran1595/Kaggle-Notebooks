{
 "cells": [
  {
   "cell_type": "markdown",
   "id": "f1b459fc",
   "metadata": {
    "_cell_guid": "b1076dfc-b9ad-4769-8c92-a6c4dae69d19",
    "_uuid": "8f2839f25d086af736a60e9eeb907d3b93b6e0e5",
    "papermill": {
     "duration": 0.005181,
     "end_time": "2022-09-24T15:28:15.785231",
     "exception": false,
     "start_time": "2022-09-24T15:28:15.780050",
     "status": "completed"
    },
    "tags": []
   },
   "source": [
    "### **Setup**"
   ]
  },
  {
   "cell_type": "code",
   "execution_count": 1,
   "id": "c5b45d6f",
   "metadata": {
    "execution": {
     "iopub.execute_input": "2022-09-24T15:28:15.795159Z",
     "iopub.status.busy": "2022-09-24T15:28:15.794620Z",
     "iopub.status.idle": "2022-09-24T15:28:26.339130Z",
     "shell.execute_reply": "2022-09-24T15:28:26.337642Z"
    },
    "papermill": {
     "duration": 10.552049,
     "end_time": "2022-09-24T15:28:26.341410",
     "exception": false,
     "start_time": "2022-09-24T15:28:15.789361",
     "status": "completed"
    },
    "tags": []
   },
   "outputs": [
    {
     "name": "stderr",
     "output_type": "stream",
     "text": [
      "WARNING: Running pip as the 'root' user can result in broken permissions and conflicting behaviour with the system package manager. It is recommended to use a virtual environment instead: https://pip.pypa.io/warnings/venv\n"
     ]
    }
   ],
   "source": [
    "%%bash\n",
    "pip install timm -q"
   ]
  },
  {
   "cell_type": "markdown",
   "id": "a8d1ad7a",
   "metadata": {
    "papermill": {
     "duration": 0.004022,
     "end_time": "2022-09-24T15:28:26.349745",
     "exception": false,
     "start_time": "2022-09-24T15:28:26.345723",
     "status": "completed"
    },
    "tags": []
   },
   "source": [
    "### **Library Imports**"
   ]
  },
  {
   "cell_type": "code",
   "execution_count": 2,
   "id": "7376115a",
   "metadata": {
    "execution": {
     "iopub.execute_input": "2022-09-24T15:28:26.359455Z",
     "iopub.status.busy": "2022-09-24T15:28:26.359132Z",
     "iopub.status.idle": "2022-09-24T15:28:30.466124Z",
     "shell.execute_reply": "2022-09-24T15:28:30.465014Z"
    },
    "papermill": {
     "duration": 4.115041,
     "end_time": "2022-09-24T15:28:30.468630",
     "exception": false,
     "start_time": "2022-09-24T15:28:26.353589",
     "status": "completed"
    },
    "tags": []
   },
   "outputs": [],
   "source": [
    "import os\n",
    "import re\n",
    "import cv2\n",
    "import timm\n",
    "import torch\n",
    "import numpy as np\n",
    "import pandas as pd\n",
    "import matplotlib.pyplot as plt\n",
    "\n",
    "from time import time\n",
    "from torch import nn, optim\n",
    "from torch.utils.data import Dataset\n",
    "from torch.utils.data import DataLoader as DL\n",
    "from torchvision import models, transforms\n",
    "\n",
    "from sklearn.model_selection import StratifiedKFold"
   ]
  },
  {
   "cell_type": "markdown",
   "id": "3d84e21a",
   "metadata": {
    "papermill": {
     "duration": 0.003833,
     "end_time": "2022-09-24T15:28:30.476790",
     "exception": false,
     "start_time": "2022-09-24T15:28:30.472957",
     "status": "completed"
    },
    "tags": []
   },
   "source": [
    "### **Utilities and Helpers**"
   ]
  },
  {
   "cell_type": "code",
   "execution_count": 3,
   "id": "3e65d080",
   "metadata": {
    "execution": {
     "iopub.execute_input": "2022-09-24T15:28:30.486651Z",
     "iopub.status.busy": "2022-09-24T15:28:30.485925Z",
     "iopub.status.idle": "2022-09-24T15:28:30.498622Z",
     "shell.execute_reply": "2022-09-24T15:28:30.497618Z"
    },
    "papermill": {
     "duration": 0.019642,
     "end_time": "2022-09-24T15:28:30.500420",
     "exception": false,
     "start_time": "2022-09-24T15:28:30.480778",
     "status": "completed"
    },
    "tags": []
   },
   "outputs": [],
   "source": [
    "SEED = 42\n",
    "SIZE = 384\n",
    "\n",
    "\n",
    "def breaker(num: int=50, char: str=\"*\") -> None:\n",
    "    print(\"\\n\" + num*char + \"\\n\")\n",
    "\n",
    "    \n",
    "def get_image(path: str, size: int=224) -> np.ndarray:\n",
    "    image = cv2.imread(path, cv2.IMREAD_COLOR)\n",
    "    image = cv2.cvtColor(src=image, code=cv2.COLOR_BGR2RGB)\n",
    "    return cv2.resize(src=image, dsize=(size, size), interpolation=cv2.INTER_AREA)\n",
    "\n",
    "\n",
    "def show_loss_graphs(L: list) -> None:\n",
    "    TL, VL = [], []\n",
    "    for i in range(len(L)):\n",
    "        TL.append(L[i][\"train\"])\n",
    "        VL.append(L[i][\"valid\"])\n",
    "    x_Axis = np.arange(1, len(TL) + 1)\n",
    "    plt.figure()\n",
    "    plt.plot(x_Axis, TL, \"r\", label=\"Train\")\n",
    "    plt.plot(x_Axis, VL, \"b\", label=\"Valid\")\n",
    "    plt.legend()\n",
    "    plt.grid()\n",
    "    plt.title(\"Loss Graph\")\n",
    "    plt.show()\n",
    "\n",
    "    \n",
    "def show_accuracy_graphs(A: list) -> None:\n",
    "    TA, VA = [], []\n",
    "    for i in range(len(A)):\n",
    "        TA.append(A[i][\"train\"])\n",
    "        VA.append(A[i][\"valid\"])\n",
    "    x_Axis = np.arange(1, len(TA) + 1)\n",
    "    plt.figure()\n",
    "    plt.plot(x_Axis, TA, \"r\", label=\"Train\")\n",
    "    plt.plot(x_Axis, VA, \"b\", label=\"Valid\")\n",
    "    plt.legend()\n",
    "    plt.grid()\n",
    "    plt.title(\"Accuracy Graph\")\n",
    "    plt.show()\n",
    "    \n",
    "\n",
    "def show_lr_graph(LR: list) -> None:\n",
    "    x_Axis = [i+1 for i in range(len(LR))]\n",
    "    plt.figure(figsize=(8, 6))\n",
    "    plt.plot(x_Axis, LR, \"rx\")\n",
    "    plt.grid()\n",
    "    plt.show()"
   ]
  },
  {
   "cell_type": "markdown",
   "id": "86bfdcfb",
   "metadata": {
    "papermill": {
     "duration": 0.003939,
     "end_time": "2022-09-24T15:28:30.508631",
     "exception": false,
     "start_time": "2022-09-24T15:28:30.504692",
     "status": "completed"
    },
    "tags": []
   },
   "source": [
    "### **Configuration**"
   ]
  },
  {
   "cell_type": "code",
   "execution_count": 4,
   "id": "b1aaa720",
   "metadata": {
    "execution": {
     "iopub.execute_input": "2022-09-24T15:28:30.519089Z",
     "iopub.status.busy": "2022-09-24T15:28:30.517602Z",
     "iopub.status.idle": "2022-09-24T15:28:30.592780Z",
     "shell.execute_reply": "2022-09-24T15:28:30.591835Z"
    },
    "papermill": {
     "duration": 0.082422,
     "end_time": "2022-09-24T15:28:30.595045",
     "exception": false,
     "start_time": "2022-09-24T15:28:30.512623",
     "status": "completed"
    },
    "tags": []
   },
   "outputs": [],
   "source": [
    "class CFG(object):\n",
    "    def __init__(self, \n",
    "                 seed: int = 42,\n",
    "                 size: int = 224,\n",
    "                 n_splits: int = 5,\n",
    "                 batch_size: int = 16,\n",
    "                 epochs: int = 25,\n",
    "                 early_stopping: int = 5,\n",
    "                 lr: float = 1e-4,\n",
    "                 wd: float = 0.0,\n",
    "                 max_lr: float = 1e-3,\n",
    "                 pct_start: float = 0.2,\n",
    "                 steps_per_epoch: int = 100,\n",
    "                 div_factor: int = 1e3, \n",
    "                 final_div_factor: float = 1e3,\n",
    "                 ):\n",
    "        self.seed = seed\n",
    "        self.size = size\n",
    "        self.n_splits = n_splits\n",
    "        self.batch_size = batch_size\n",
    "        self.epochs = epochs\n",
    "        self.early_stopping = early_stopping\n",
    "        self.lr = lr\n",
    "        self.wd = wd\n",
    "        self.max_lr = max_lr\n",
    "        self.pct_start = pct_start\n",
    "        self.steps_per_epoch = steps_per_epoch\n",
    "        self.div_factor = div_factor\n",
    "        self.final_div_factor = final_div_factor\n",
    "        self.device = torch.device(\"cuda\" if torch.cuda.is_available() else \"cpu\")\n",
    "        self.train_transform = transforms.Compose([\n",
    "            transforms.ToTensor(),\n",
    "            transforms.Normalize([0.48805, 0.46218, 0.38043], [0.21471, 0.21141, 0.21124]),\n",
    "            transforms.RandomAffine(degrees=(-45, 45), translate=(0.15, 0.15), scale=(0.5, 1.5)),\n",
    "            transforms.RandomHorizontalFlip(p=0.25),\n",
    "            transforms.RandomVerticalFlip(p=0.25),\n",
    "        ])\n",
    "        self.valid_transform = transforms.Compose([\n",
    "            transforms.ToTensor(),\n",
    "            transforms.Normalize([0.48805, 0.46218, 0.38043], [0.21471, 0.21141, 0.21124]),\n",
    "        ])\n",
    "                                \n",
    "        self.save_path = \"saves\"\n",
    "        if not os.path.exists(self.save_path): os.makedirs(self.save_path)\n",
    "    \n",
    "cfg = CFG(seed=SEED, size=SIZE)"
   ]
  },
  {
   "cell_type": "markdown",
   "id": "285717e9",
   "metadata": {
    "papermill": {
     "duration": 0.003983,
     "end_time": "2022-09-24T15:28:30.603430",
     "exception": false,
     "start_time": "2022-09-24T15:28:30.599447",
     "status": "completed"
    },
    "tags": []
   },
   "source": [
    "### **Dataset Template**"
   ]
  },
  {
   "cell_type": "code",
   "execution_count": 5,
   "id": "d448caf9",
   "metadata": {
    "execution": {
     "iopub.execute_input": "2022-09-24T15:28:30.612871Z",
     "iopub.status.busy": "2022-09-24T15:28:30.612543Z",
     "iopub.status.idle": "2022-09-24T15:28:30.620031Z",
     "shell.execute_reply": "2022-09-24T15:28:30.619066Z"
    },
    "papermill": {
     "duration": 0.01461,
     "end_time": "2022-09-24T15:28:30.622152",
     "exception": false,
     "start_time": "2022-09-24T15:28:30.607542",
     "status": "completed"
    },
    "tags": []
   },
   "outputs": [],
   "source": [
    "class DS(Dataset):\n",
    "    def __init__(\n",
    "        self, \n",
    "        base_path: str,\n",
    "        filenames: np.ndarray, \n",
    "        folder_names: np.ndarray, \n",
    "        labels: np.ndarray, \n",
    "        size: int,\n",
    "        transform=None):\n",
    "        \n",
    "        self.base_path = base_path\n",
    "        self.filenames = filenames\n",
    "        self.folder_names = folder_names\n",
    "        self.labels = labels\n",
    "        self.size = size\n",
    "        self.transform = transform\n",
    "    \n",
    "    def __len__(self):\n",
    "        return self.filenames.shape[0]\n",
    "    \n",
    "    def __getitem__(self, idx):\n",
    "        path = os.path.join(os.path.join(self.base_path, self.folder_names[idx]), self.filenames[idx])\n",
    "        image = get_image(path, self.size)\n",
    "        return self.transform(image), self.labels[idx]"
   ]
  },
  {
   "cell_type": "code",
   "execution_count": 6,
   "id": "7bb9f8c2",
   "metadata": {
    "execution": {
     "iopub.execute_input": "2022-09-24T15:28:30.631378Z",
     "iopub.status.busy": "2022-09-24T15:28:30.631121Z",
     "iopub.status.idle": "2022-09-24T15:28:30.635092Z",
     "shell.execute_reply": "2022-09-24T15:28:30.634204Z"
    },
    "papermill": {
     "duration": 0.010852,
     "end_time": "2022-09-24T15:28:30.637095",
     "exception": false,
     "start_time": "2022-09-24T15:28:30.626243",
     "status": "completed"
    },
    "tags": []
   },
   "outputs": [],
   "source": [
    "# class DS(Dataset):\n",
    "#     def __init__(\n",
    "#         self, \n",
    "#         base_path: str,\n",
    "#         filenames: np.ndarray, \n",
    "#         size: int,\n",
    "#         transform=None):\n",
    "        \n",
    "#         self.base_path = base_path\n",
    "#         self.filenames = filenames\n",
    "#         self.size = size\n",
    "#         self.transform = transform\n",
    "    \n",
    "#     def __len__(self):\n",
    "#         return self.filenames.shape[0]\n",
    "    \n",
    "#     def __getitem__(self, idx):\n",
    "#         path = os.path.join(self.base_path, str(self.filenames[idx]) + \".jpg\")\n",
    "#         image = get_image(path, self.size)\n",
    "#         return self.transform(image)"
   ]
  },
  {
   "cell_type": "markdown",
   "id": "2069c0d1",
   "metadata": {
    "papermill": {
     "duration": 0.003994,
     "end_time": "2022-09-24T15:28:30.645123",
     "exception": false,
     "start_time": "2022-09-24T15:28:30.641129",
     "status": "completed"
    },
    "tags": []
   },
   "source": [
    "### **Model**"
   ]
  },
  {
   "cell_type": "code",
   "execution_count": 7,
   "id": "de397324",
   "metadata": {
    "execution": {
     "iopub.execute_input": "2022-09-24T15:28:30.654375Z",
     "iopub.status.busy": "2022-09-24T15:28:30.654120Z",
     "iopub.status.idle": "2022-09-24T15:28:30.660200Z",
     "shell.execute_reply": "2022-09-24T15:28:30.659269Z"
    },
    "papermill": {
     "duration": 0.012886,
     "end_time": "2022-09-24T15:28:30.662111",
     "exception": false,
     "start_time": "2022-09-24T15:28:30.649225",
     "status": "completed"
    },
    "tags": []
   },
   "outputs": [],
   "source": [
    "class Model(nn.Module):\n",
    "    def __init__(self):\n",
    "        super(Model, self).__init__()\n",
    "            \n",
    "        self.model = timm.create_model(model_name=\"efficientnet_b4\", pretrained=True)\n",
    "        self.model.classifier = nn.Linear(in_features=self.model.classifier.in_features, out_features=4)\n",
    "            \n",
    "    def freeze(self):\n",
    "        for params in self.parameters(): params.requires_grad = False\n",
    "\n",
    "    def forward(self, x):\n",
    "        return nn.LogSoftmax(dim=1)(self.model(x))"
   ]
  },
  {
   "cell_type": "markdown",
   "id": "afadb03f",
   "metadata": {
    "papermill": {
     "duration": 0.003925,
     "end_time": "2022-09-24T15:28:30.670102",
     "exception": false,
     "start_time": "2022-09-24T15:28:30.666177",
     "status": "completed"
    },
    "tags": []
   },
   "source": [
    "### **Fit and Predict**"
   ]
  },
  {
   "cell_type": "code",
   "execution_count": 8,
   "id": "eccf7879",
   "metadata": {
    "execution": {
     "iopub.execute_input": "2022-09-24T15:28:30.680433Z",
     "iopub.status.busy": "2022-09-24T15:28:30.680084Z",
     "iopub.status.idle": "2022-09-24T15:28:30.701709Z",
     "shell.execute_reply": "2022-09-24T15:28:30.700826Z"
    },
    "papermill": {
     "duration": 0.029287,
     "end_time": "2022-09-24T15:28:30.703701",
     "exception": false,
     "start_time": "2022-09-24T15:28:30.674414",
     "status": "completed"
    },
    "tags": []
   },
   "outputs": [],
   "source": [
    "def fit(model=None,\n",
    "        optimizer=None, \n",
    "        scheduler_rlrop=None,\n",
    "        scheduler_oclr=None,\n",
    "        epochs=None, \n",
    "        early_stopping_patience=None, \n",
    "        dataloaders=None, \n",
    "        fold=None, \n",
    "        save_path=None,\n",
    "        device=None,\n",
    "        verbose=False) -> tuple:\n",
    "    \n",
    "    def get_accuracy(y_pred, y_true):\n",
    "        y_pred = torch.argmax(y_pred, dim=1)\n",
    "        return torch.count_nonzero(y_pred == y_true).item() / len(y_pred)\n",
    "    \n",
    "    if verbose:\n",
    "        breaker()\n",
    "        if fold: print(f\"Training Fold {fold}...\")\n",
    "        else: print(\"Training ...\")\n",
    "        breaker()\n",
    "        \n",
    "    bestLoss: dict = {\"train\" : np.inf, \"valid\" : np.inf} \n",
    "    bestAccs: dict = {\"train\" : 0.0, \"valid\" : 0.0}\n",
    "        \n",
    "    Losses: list = []\n",
    "    Accuracies: list = [] \n",
    "    LRs: list = []\n",
    "        \n",
    "    if fold: \n",
    "        ble_name = f\"ble_state_fold_{fold}.pt\"\n",
    "        bae_name = f\"bae_state_fold_{fold}.pt\"\n",
    "    else: \n",
    "        ble_name = f\"ble_state.pt\"\n",
    "        bae_name = f\"bae_state.pt\"\n",
    "    \n",
    "    start_time = time()\n",
    "    for e in range(epochs):\n",
    "        e_st = time()\n",
    "        epochLoss: dict = {\"train\" : 0.0, \"valid\" : 0.0} \n",
    "        epochAccs: dict = {\"train\" : 0.0, \"valid\" : 0.0}\n",
    "\n",
    "        for phase in [\"train\", \"valid\"]:\n",
    "            if phase == \"train\":\n",
    "                model.train()\n",
    "            else:\n",
    "                model.eval()\n",
    "            \n",
    "            lossPerPass: list = []\n",
    "            accsPerPass: list = []\n",
    "                \n",
    "            for X, y in dataloaders[phase]:\n",
    "                X, y = X.to(device), y.to(device).view(-1)\n",
    "\n",
    "                optimizer.zero_grad()\n",
    "                with torch.set_grad_enabled(phase == \"train\"):\n",
    "                    output = model(X)\n",
    "                    loss = torch.nn.NLLLoss()(output, y)\n",
    "                    if phase == \"train\":\n",
    "                        loss.backward()\n",
    "                        optimizer.step()\n",
    "                        if scheduler_oclr: scheduler_oclr.step()\n",
    "                lossPerPass.append(loss.item())\n",
    "                accsPerPass.append(get_accuracy(output, y))\n",
    "            epochLoss[phase] = np.mean(np.array(lossPerPass))\n",
    "            epochAccs[phase] = np.mean(np.array(accsPerPass))\n",
    "        if scheduler_oclr: LRs.append(scheduler_oclr.get_last_lr())\n",
    "        Losses.append(epochLoss)\n",
    "        Accuracies.append(epochAccs)\n",
    "    \n",
    "        if scheduler_oclr:\n",
    "            save_dict = {\"model_state_dict\"     : model.state_dict(),\n",
    "                         \"optim_state_dict\"     : optimizer.state_dict(),\n",
    "                         \"scheduler_state_dict\" : scheduler_oclr.state_dict()}\n",
    "        \n",
    "        elif scheduler_rlrop:\n",
    "            save_dict = {\"model_state_dict\"     : model.state_dict(),\n",
    "                         \"optim_state_dict\"     : optimizer.state_dict(),\n",
    "                         \"scheduler_state_dict\" : scheduler_rlrop.state_dict()}\n",
    "        \n",
    "        else:\n",
    "            save_dict = {\"model_state_dict\"     : model.state_dict(),\n",
    "                         \"optim_state_dict\"     : optimizer.state_dict()}\n",
    "        \n",
    "        \n",
    "        if early_stopping_patience:\n",
    "            if epochLoss[\"valid\"] < bestLoss[\"valid\"]:\n",
    "                bestLoss = epochLoss\n",
    "                BLE = e + 1\n",
    "                torch.save(save_dict, os.path.join(save_path, ble_name))\n",
    "                torch.save(save_dict, os.path.join(save_path, bae_name))\n",
    "                early_stopping_step = 0\n",
    "            else:\n",
    "                early_stopping_step += 1\n",
    "                if early_stopping_step > early_stopping_patience:\n",
    "                    print(\"\\nEarly Stopping at Epoch {}\".format(e + 1))\n",
    "                    break\n",
    "        \n",
    "        if epochLoss[\"valid\"] < bestLoss[\"valid\"]:\n",
    "            bestLoss = epochLoss\n",
    "            BLE = e + 1\n",
    "            torch.save(save_dict,os.path.join(save_path, ble_name))\n",
    "        \n",
    "        if epochAccs[\"valid\"] > bestAccs[\"valid\"]:\n",
    "            bestAccs = epochAccs\n",
    "            BAE = e + 1\n",
    "            torch.save(save_dict,os.path.join(save_path, bae_name))\n",
    "        \n",
    "        if scheduler_rlrop: scheduler_rlrop.step(epochLoss[\"valid\"])\n",
    "        \n",
    "        if verbose:\n",
    "            print(\"Epoch: {} | Train Loss: {:.5f} | Valid Loss: {:.5f} |\\\n",
    " Train Accs: {:.5f} | Valid Accs: {:.5f} | Time: {:.2f} seconds\".format(e+1, \n",
    "                                                                        epochLoss[\"train\"], epochLoss[\"valid\"], \n",
    "                                                                        epochAccs[\"train\"], epochAccs[\"valid\"], \n",
    "                                                                        time()-e_st))\n",
    "\n",
    "    if verbose:                                           \n",
    "        breaker()\n",
    "        print(f\"Best Validation Loss at Epoch {BLE}\")\n",
    "        breaker()\n",
    "        print(f\"Best Validation Accs at Epoch {BAE}\")\n",
    "        breaker()\n",
    "        print(\"Time Taken [{} Epochs] : {:.2f} minutes\".format(len(Losses), (time()-start_time)/60))\n",
    "    \n",
    "    return Losses, Accuracies, LRs, BLE, BAE, ble_name, bae_name\n",
    "\n",
    "\n",
    "# def predict_batch(model=None, dataloader=None, path=None, device=None) -> np.ndarray:\n",
    "#     model.load_state_dict(torch.load(path, map_location=device)[\"model_state_dict\"])\n",
    "#     model.to(device)    \n",
    "#     model.eval()\n",
    "    \n",
    "#     y_pred = torch.zeros(1, 1).to(device)\n",
    "    \n",
    "#     for X in dataloader:\n",
    "#         X = X.to(device)\n",
    "#         with torch.no_grad():\n",
    "#             output = torch.argmax(torch.exp(model(X)), dim=1)\n",
    "#         y_pred = torch.cat((y_pred, output.view(-1, 1)), dim=0)\n",
    "    \n",
    "#     return y_pred[1:].detach().cpu().numpy()"
   ]
  },
  {
   "cell_type": "markdown",
   "id": "27567330",
   "metadata": {
    "papermill": {
     "duration": 0.004241,
     "end_time": "2022-09-24T15:28:30.712151",
     "exception": false,
     "start_time": "2022-09-24T15:28:30.707910",
     "status": "completed"
    },
    "tags": []
   },
   "source": [
    "### **Train**"
   ]
  },
  {
   "cell_type": "code",
   "execution_count": 9,
   "id": "c0a80c71",
   "metadata": {
    "execution": {
     "iopub.execute_input": "2022-09-24T15:28:30.722673Z",
     "iopub.status.busy": "2022-09-24T15:28:30.721883Z",
     "iopub.status.idle": "2022-09-24T15:28:30.754059Z",
     "shell.execute_reply": "2022-09-24T15:28:30.753214Z"
    },
    "papermill": {
     "duration": 0.039737,
     "end_time": "2022-09-24T15:28:30.756082",
     "exception": false,
     "start_time": "2022-09-24T15:28:30.716345",
     "status": "completed"
    },
    "tags": []
   },
   "outputs": [],
   "source": [
    "df = pd.read_csv(\"../input/4ac-dataframe/data.csv\")\n",
    "\n",
    "filenames = df.filenames.copy().values\n",
    "folder_names = df.folder_names.copy().values\n",
    "labels = df.classes.copy().values"
   ]
  },
  {
   "cell_type": "code",
   "execution_count": 10,
   "id": "60636aeb",
   "metadata": {
    "execution": {
     "iopub.execute_input": "2022-09-24T15:28:30.766856Z",
     "iopub.status.busy": "2022-09-24T15:28:30.766580Z",
     "iopub.status.idle": "2022-09-24T18:44:47.103328Z",
     "shell.execute_reply": "2022-09-24T18:44:47.102231Z"
    },
    "papermill": {
     "duration": 11776.345004,
     "end_time": "2022-09-24T18:44:47.105494",
     "exception": false,
     "start_time": "2022-09-24T15:28:30.760490",
     "status": "completed"
    },
    "tags": []
   },
   "outputs": [
    {
     "name": "stderr",
     "output_type": "stream",
     "text": [
      "Downloading: \"https://github.com/rwightman/pytorch-image-models/releases/download/v0.1-weights/efficientnet_b4_ra2_320-7eb33cd5.pth\" to /root/.cache/torch/hub/checkpoints/efficientnet_b4_ra2_320-7eb33cd5.pth\n"
     ]
    },
    {
     "name": "stdout",
     "output_type": "stream",
     "text": [
      "\n",
      "**************************************************\n",
      "\n",
      "Training Fold 1...\n",
      "\n",
      "**************************************************\n",
      "\n",
      "Epoch: 1 | Train Loss: 0.78275 | Valid Loss: 0.06520 | Train Accs: 0.82946 | Valid Accs: 0.99286 | Time: 142.94 seconds\n",
      "Epoch: 2 | Train Loss: 0.15574 | Valid Loss: 0.02888 | Train Accs: 0.94866 | Valid Accs: 0.99286 | Time: 121.03 seconds\n",
      "Epoch: 3 | Train Loss: 0.11637 | Valid Loss: 0.02746 | Train Accs: 0.96027 | Valid Accs: 0.99286 | Time: 122.65 seconds\n",
      "Epoch: 4 | Train Loss: 0.08781 | Valid Loss: 0.02769 | Train Accs: 0.97098 | Valid Accs: 0.99286 | Time: 120.12 seconds\n",
      "Epoch: 5 | Train Loss: 0.09099 | Valid Loss: 0.02579 | Train Accs: 0.96875 | Valid Accs: 0.99464 | Time: 124.32 seconds\n",
      "Epoch: 6 | Train Loss: 0.06260 | Valid Loss: 0.02733 | Train Accs: 0.98214 | Valid Accs: 0.99286 | Time: 121.52 seconds\n",
      "Epoch: 7 | Train Loss: 0.05553 | Valid Loss: 0.02561 | Train Accs: 0.98170 | Valid Accs: 0.99286 | Time: 122.40 seconds\n",
      "Epoch: 8 | Train Loss: 0.04141 | Valid Loss: 0.02896 | Train Accs: 0.98661 | Valid Accs: 0.99464 | Time: 122.10 seconds\n",
      "Epoch: 9 | Train Loss: 0.04119 | Valid Loss: 0.02913 | Train Accs: 0.98616 | Valid Accs: 0.99286 | Time: 121.86 seconds\n",
      "Epoch: 10 | Train Loss: 0.03037 | Valid Loss: 0.02758 | Train Accs: 0.99018 | Valid Accs: 0.99107 | Time: 121.98 seconds\n",
      "Epoch: 11 | Train Loss: 0.03880 | Valid Loss: 0.05098 | Train Accs: 0.98750 | Valid Accs: 0.98036 | Time: 123.88 seconds\n",
      "Epoch: 12 | Train Loss: 0.02330 | Valid Loss: 0.03313 | Train Accs: 0.99330 | Valid Accs: 0.99107 | Time: 121.51 seconds\n",
      "\n",
      "Early Stopping at Epoch 13\n",
      "\n",
      "**************************************************\n",
      "\n",
      "Best Validation Loss at Epoch 7\n",
      "\n",
      "**************************************************\n",
      "\n",
      "Best Validation Accs at Epoch 5\n",
      "\n",
      "**************************************************\n",
      "\n",
      "Time Taken [13 Epochs] : 26.81 minutes\n",
      "\n",
      "**************************************************\n",
      "\n"
     ]
    },
    {
     "data": {
      "image/png": "[encoded data removed]",
      "text/plain": [
       "<Figure size 432x288 with 1 Axes>"
      ]
     },
     "metadata": {
      "needs_background": "light"
     },
     "output_type": "display_data"
    },
    {
     "name": "stdout",
     "output_type": "stream",
     "text": [
      "\n",
      "**************************************************\n",
      "\n"
     ]
    },
    {
     "data": {
      "image/png": "[encoded data removed]",
      "text/plain": [
       "<Figure size 432x288 with 1 Axes>"
      ]
     },
     "metadata": {
      "needs_background": "light"
     },
     "output_type": "display_data"
    },
    {
     "name": "stdout",
     "output_type": "stream",
     "text": [
      "\n",
      "**************************************************\n",
      "\n",
      "\n",
      "**************************************************\n",
      "\n",
      "Training Fold 2...\n",
      "\n",
      "**************************************************\n",
      "\n",
      "Epoch: 1 | Train Loss: 0.79299 | Valid Loss: 0.07211 | Train Accs: 0.83214 | Valid Accs: 0.99821 | Time: 122.59 seconds\n",
      "Epoch: 2 | Train Loss: 0.15408 | Valid Loss: 0.01730 | Train Accs: 0.94955 | Valid Accs: 0.99821 | Time: 121.26 seconds\n",
      "Epoch: 3 | Train Loss: 0.11010 | Valid Loss: 0.02268 | Train Accs: 0.96161 | Valid Accs: 0.99286 | Time: 120.98 seconds\n",
      "Epoch: 4 | Train Loss: 0.08078 | Valid Loss: 0.01466 | Train Accs: 0.97366 | Valid Accs: 0.99643 | Time: 122.06 seconds\n",
      "Epoch: 5 | Train Loss: 0.07831 | Valid Loss: 0.01501 | Train Accs: 0.97188 | Valid Accs: 0.99643 | Time: 121.96 seconds\n",
      "Epoch: 6 | Train Loss: 0.05772 | Valid Loss: 0.01262 | Train Accs: 0.98125 | Valid Accs: 0.99464 | Time: 122.21 seconds\n",
      "Epoch: 7 | Train Loss: 0.04421 | Valid Loss: 0.00743 | Train Accs: 0.98839 | Valid Accs: 0.99821 | Time: 123.49 seconds\n",
      "Epoch: 8 | Train Loss: 0.04277 | Valid Loss: 0.01047 | Train Accs: 0.98571 | Valid Accs: 0.99643 | Time: 122.19 seconds\n",
      "Epoch: 9 | Train Loss: 0.04098 | Valid Loss: 0.00545 | Train Accs: 0.98616 | Valid Accs: 1.00000 | Time: 123.05 seconds\n",
      "Epoch: 10 | Train Loss: 0.03119 | Valid Loss: 0.00485 | Train Accs: 0.98973 | Valid Accs: 1.00000 | Time: 121.78 seconds\n",
      "Epoch: 11 | Train Loss: 0.02917 | Valid Loss: 0.00917 | Train Accs: 0.99018 | Valid Accs: 0.99464 | Time: 121.71 seconds\n",
      "Epoch: 12 | Train Loss: 0.03847 | Valid Loss: 0.01202 | Train Accs: 0.98839 | Valid Accs: 0.99643 | Time: 121.58 seconds\n",
      "Epoch: 13 | Train Loss: 0.02675 | Valid Loss: 0.00645 | Train Accs: 0.99062 | Valid Accs: 0.99821 | Time: 121.77 seconds\n",
      "Epoch: 14 | Train Loss: 0.02623 | Valid Loss: 0.00655 | Train Accs: 0.99152 | Valid Accs: 0.99821 | Time: 122.21 seconds\n",
      "Epoch: 15 | Train Loss: 0.02332 | Valid Loss: 0.00377 | Train Accs: 0.99330 | Valid Accs: 1.00000 | Time: 123.53 seconds\n",
      "Epoch: 16 | Train Loss: 0.01480 | Valid Loss: 0.01288 | Train Accs: 0.99509 | Valid Accs: 0.99464 | Time: 122.66 seconds\n",
      "Epoch: 17 | Train Loss: 0.02856 | Valid Loss: 0.00678 | Train Accs: 0.99107 | Valid Accs: 0.99821 | Time: 121.35 seconds\n",
      "Epoch: 18 | Train Loss: 0.01490 | Valid Loss: 0.00532 | Train Accs: 0.99643 | Valid Accs: 0.99821 | Time: 122.25 seconds\n",
      "Epoch: 19 | Train Loss: 0.01904 | Valid Loss: 0.00894 | Train Accs: 0.99330 | Valid Accs: 0.99643 | Time: 122.14 seconds\n",
      "Epoch: 20 | Train Loss: 0.01607 | Valid Loss: 0.00497 | Train Accs: 0.99375 | Valid Accs: 1.00000 | Time: 121.04 seconds\n",
      "\n",
      "Early Stopping at Epoch 21\n",
      "\n",
      "**************************************************\n",
      "\n",
      "Best Validation Loss at Epoch 15\n",
      "\n",
      "**************************************************\n",
      "\n",
      "Best Validation Accs at Epoch 9\n",
      "\n",
      "**************************************************\n",
      "\n",
      "Time Taken [21 Epochs] : 42.71 minutes\n",
      "\n",
      "**************************************************\n",
      "\n"
     ]
    },
    {
     "data": {
      "image/png": "[encoded data removed]",
      "text/plain": [
       "<Figure size 432x288 with 1 Axes>"
      ]
     },
     "metadata": {
      "needs_background": "light"
     },
     "output_type": "display_data"
    },
    {
     "name": "stdout",
     "output_type": "stream",
     "text": [
      "\n",
      "**************************************************\n",
      "\n"
     ]
    },
    {
     "data": {
      "image/png": "[encoded data removed]",
      "text/plain": [
       "<Figure size 432x288 with 1 Axes>"
      ]
     },
     "metadata": {
      "needs_background": "light"
     },
     "output_type": "display_data"
    },
    {
     "name": "stdout",
     "output_type": "stream",
     "text": [
      "\n",
      "**************************************************\n",
      "\n",
      "\n",
      "**************************************************\n",
      "\n",
      "Training Fold 3...\n",
      "\n",
      "**************************************************\n",
      "\n",
      "Epoch: 1 | Train Loss: 0.78986 | Valid Loss: 0.07658 | Train Accs: 0.82188 | Valid Accs: 0.99286 | Time: 123.57 seconds\n",
      "Epoch: 2 | Train Loss: 0.15508 | Valid Loss: 0.02927 | Train Accs: 0.94911 | Valid Accs: 0.99643 | Time: 124.12 seconds\n",
      "Epoch: 3 | Train Loss: 0.10529 | Valid Loss: 0.01682 | Train Accs: 0.96741 | Valid Accs: 0.99821 | Time: 124.95 seconds\n",
      "Epoch: 4 | Train Loss: 0.07582 | Valid Loss: 0.01734 | Train Accs: 0.97232 | Valid Accs: 0.99643 | Time: 122.96 seconds\n",
      "Epoch: 5 | Train Loss: 0.08757 | Valid Loss: 0.02461 | Train Accs: 0.97098 | Valid Accs: 0.99286 | Time: 123.04 seconds\n",
      "Epoch: 6 | Train Loss: 0.05700 | Valid Loss: 0.01781 | Train Accs: 0.98348 | Valid Accs: 0.99464 | Time: 122.47 seconds\n",
      "Epoch: 7 | Train Loss: 0.05702 | Valid Loss: 0.01785 | Train Accs: 0.97946 | Valid Accs: 0.99643 | Time: 121.53 seconds\n",
      "Epoch: 8 | Train Loss: 0.03768 | Valid Loss: 0.01440 | Train Accs: 0.98661 | Valid Accs: 0.99464 | Time: 123.65 seconds\n",
      "Epoch: 9 | Train Loss: 0.03330 | Valid Loss: 0.01699 | Train Accs: 0.98884 | Valid Accs: 0.99643 | Time: 122.15 seconds\n",
      "Epoch: 10 | Train Loss: 0.03303 | Valid Loss: 0.02412 | Train Accs: 0.98795 | Valid Accs: 0.98929 | Time: 122.18 seconds\n",
      "Epoch: 11 | Train Loss: 0.03460 | Valid Loss: 0.01563 | Train Accs: 0.98884 | Valid Accs: 0.99643 | Time: 123.34 seconds\n",
      "Epoch: 12 | Train Loss: 0.02098 | Valid Loss: 0.01866 | Train Accs: 0.99420 | Valid Accs: 0.98929 | Time: 121.72 seconds\n",
      "Epoch: 13 | Train Loss: 0.02292 | Valid Loss: 0.01698 | Train Accs: 0.99375 | Valid Accs: 0.99464 | Time: 122.04 seconds\n",
      "Epoch: 14 | Train Loss: 0.02898 | Valid Loss: 0.01377 | Train Accs: 0.99152 | Valid Accs: 0.99464 | Time: 123.16 seconds\n",
      "Epoch: 15 | Train Loss: 0.02523 | Valid Loss: 0.01067 | Train Accs: 0.99286 | Valid Accs: 0.99643 | Time: 122.80 seconds\n",
      "Epoch: 16 | Train Loss: 0.02185 | Valid Loss: 0.01617 | Train Accs: 0.99330 | Valid Accs: 0.99464 | Time: 121.15 seconds\n",
      "Epoch: 17 | Train Loss: 0.02104 | Valid Loss: 0.01312 | Train Accs: 0.99420 | Valid Accs: 0.99286 | Time: 121.07 seconds\n",
      "Epoch: 18 | Train Loss: 0.01726 | Valid Loss: 0.01448 | Train Accs: 0.99286 | Valid Accs: 0.99464 | Time: 121.94 seconds\n",
      "Epoch: 19 | Train Loss: 0.01708 | Valid Loss: 0.01375 | Train Accs: 0.99554 | Valid Accs: 0.99286 | Time: 120.77 seconds\n",
      "Epoch: 20 | Train Loss: 0.01229 | Valid Loss: 0.01147 | Train Accs: 0.99554 | Valid Accs: 0.99464 | Time: 121.23 seconds\n",
      "Epoch: 21 | Train Loss: 0.01229 | Valid Loss: 0.00804 | Train Accs: 0.99732 | Valid Accs: 0.99643 | Time: 121.72 seconds\n",
      "Epoch: 22 | Train Loss: 0.01651 | Valid Loss: 0.01823 | Train Accs: 0.99464 | Valid Accs: 0.99107 | Time: 120.24 seconds\n",
      "Epoch: 23 | Train Loss: 0.01063 | Valid Loss: 0.02133 | Train Accs: 0.99687 | Valid Accs: 0.99107 | Time: 121.48 seconds\n",
      "Epoch: 24 | Train Loss: 0.02082 | Valid Loss: 0.01448 | Train Accs: 0.99375 | Valid Accs: 0.99643 | Time: 121.12 seconds\n",
      "Epoch: 25 | Train Loss: 0.01411 | Valid Loss: 0.01103 | Train Accs: 0.99598 | Valid Accs: 0.99821 | Time: 121.10 seconds\n",
      "\n",
      "**************************************************\n",
      "\n",
      "Best Validation Loss at Epoch 21\n",
      "\n",
      "**************************************************\n",
      "\n",
      "Best Validation Accs at Epoch 3\n",
      "\n",
      "**************************************************\n",
      "\n",
      "Time Taken [25 Epochs] : 50.93 minutes\n",
      "\n",
      "**************************************************\n",
      "\n"
     ]
    },
    {
     "data": {
      "image/png": "[encoded data removed]",
      "text/plain": [
       "<Figure size 432x288 with 1 Axes>"
      ]
     },
     "metadata": {
      "needs_background": "light"
     },
     "output_type": "display_data"
    },
    {
     "name": "stdout",
     "output_type": "stream",
     "text": [
      "\n",
      "**************************************************\n",
      "\n"
     ]
    },
    {
     "data": {
      "image/png": "[encoded data removed]",
      "text/plain": [
       "<Figure size 432x288 with 1 Axes>"
      ]
     },
     "metadata": {
      "needs_background": "light"
     },
     "output_type": "display_data"
    },
    {
     "name": "stdout",
     "output_type": "stream",
     "text": [
      "\n",
      "**************************************************\n",
      "\n",
      "\n",
      "**************************************************\n",
      "\n",
      "Training Fold 4...\n",
      "\n",
      "**************************************************\n",
      "\n",
      "Epoch: 1 | Train Loss: 0.79385 | Valid Loss: 0.07141 | Train Accs: 0.82277 | Valid Accs: 0.99107 | Time: 122.78 seconds\n",
      "Epoch: 2 | Train Loss: 0.14928 | Valid Loss: 0.02640 | Train Accs: 0.95402 | Valid Accs: 0.99464 | Time: 122.19 seconds\n",
      "Epoch: 3 | Train Loss: 0.11763 | Valid Loss: 0.02269 | Train Accs: 0.96027 | Valid Accs: 0.99821 | Time: 123.33 seconds\n",
      "Epoch: 4 | Train Loss: 0.08860 | Valid Loss: 0.02158 | Train Accs: 0.96920 | Valid Accs: 0.99464 | Time: 122.71 seconds\n",
      "Epoch: 5 | Train Loss: 0.07767 | Valid Loss: 0.01315 | Train Accs: 0.97188 | Valid Accs: 0.99821 | Time: 122.56 seconds\n",
      "Epoch: 6 | Train Loss: 0.06550 | Valid Loss: 0.02386 | Train Accs: 0.97991 | Valid Accs: 0.99286 | Time: 120.94 seconds\n",
      "Epoch: 7 | Train Loss: 0.05866 | Valid Loss: 0.01548 | Train Accs: 0.98304 | Valid Accs: 0.99464 | Time: 120.21 seconds\n",
      "Epoch: 8 | Train Loss: 0.04095 | Valid Loss: 0.01409 | Train Accs: 0.98616 | Valid Accs: 0.99643 | Time: 120.88 seconds\n",
      "Epoch: 9 | Train Loss: 0.03689 | Valid Loss: 0.02206 | Train Accs: 0.98795 | Valid Accs: 0.99286 | Time: 121.63 seconds\n",
      "Epoch: 10 | Train Loss: 0.03811 | Valid Loss: 0.01028 | Train Accs: 0.99018 | Valid Accs: 0.99643 | Time: 121.95 seconds\n",
      "Epoch: 11 | Train Loss: 0.03915 | Valid Loss: 0.02277 | Train Accs: 0.98795 | Valid Accs: 0.99286 | Time: 123.08 seconds\n",
      "Epoch: 12 | Train Loss: 0.02957 | Valid Loss: 0.01626 | Train Accs: 0.99018 | Valid Accs: 0.99286 | Time: 121.69 seconds\n",
      "Epoch: 13 | Train Loss: 0.02360 | Valid Loss: 0.01588 | Train Accs: 0.99152 | Valid Accs: 0.99643 | Time: 122.64 seconds\n",
      "Epoch: 14 | Train Loss: 0.02674 | Valid Loss: 0.02272 | Train Accs: 0.99196 | Valid Accs: 0.98929 | Time: 122.38 seconds\n",
      "Epoch: 15 | Train Loss: 0.02304 | Valid Loss: 0.01411 | Train Accs: 0.99420 | Valid Accs: 0.99464 | Time: 122.40 seconds\n",
      "Epoch: 16 | Train Loss: 0.01418 | Valid Loss: 0.00719 | Train Accs: 0.99554 | Valid Accs: 0.99821 | Time: 123.66 seconds\n",
      "Epoch: 17 | Train Loss: 0.01482 | Valid Loss: 0.00499 | Train Accs: 0.99554 | Valid Accs: 0.99821 | Time: 124.43 seconds\n",
      "Epoch: 18 | Train Loss: 0.01797 | Valid Loss: 0.00765 | Train Accs: 0.99420 | Valid Accs: 0.99464 | Time: 123.41 seconds\n",
      "Epoch: 19 | Train Loss: 0.02843 | Valid Loss: 0.00505 | Train Accs: 0.99196 | Valid Accs: 0.99821 | Time: 122.14 seconds\n",
      "Epoch: 20 | Train Loss: 0.01985 | Valid Loss: 0.01008 | Train Accs: 0.99420 | Valid Accs: 0.99821 | Time: 121.65 seconds\n",
      "Epoch: 21 | Train Loss: 0.01675 | Valid Loss: 0.01406 | Train Accs: 0.99554 | Valid Accs: 0.99643 | Time: 122.33 seconds\n",
      "Epoch: 22 | Train Loss: 0.02272 | Valid Loss: 0.01354 | Train Accs: 0.99330 | Valid Accs: 0.99464 | Time: 122.19 seconds\n",
      "\n",
      "Early Stopping at Epoch 23\n",
      "\n",
      "**************************************************\n",
      "\n",
      "Best Validation Loss at Epoch 17\n",
      "\n",
      "**************************************************\n",
      "\n",
      "Best Validation Accs at Epoch 3\n",
      "\n",
      "**************************************************\n",
      "\n",
      "Time Taken [23 Epochs] : 46.88 minutes\n",
      "\n",
      "**************************************************\n",
      "\n"
     ]
    },
    {
     "data": {
      "image/png": "[encoded data removed]",
      "text/plain": [
       "<Figure size 432x288 with 1 Axes>"
      ]
     },
     "metadata": {
      "needs_background": "light"
     },
     "output_type": "display_data"
    },
    {
     "name": "stdout",
     "output_type": "stream",
     "text": [
      "\n",
      "**************************************************\n",
      "\n"
     ]
    },
    {
     "data": {
      "image/png": "[encoded data removed]",
      "text/plain": [
       "<Figure size 432x288 with 1 Axes>"
      ]
     },
     "metadata": {
      "needs_background": "light"
     },
     "output_type": "display_data"
    },
    {
     "name": "stdout",
     "output_type": "stream",
     "text": [
      "\n",
      "**************************************************\n",
      "\n",
      "\n",
      "**************************************************\n",
      "\n",
      "Training Fold 5...\n",
      "\n",
      "**************************************************\n",
      "\n",
      "Epoch: 1 | Train Loss: 0.79389 | Valid Loss: 0.09576 | Train Accs: 0.82812 | Valid Accs: 0.98036 | Time: 123.58 seconds\n",
      "Epoch: 2 | Train Loss: 0.14816 | Valid Loss: 0.05063 | Train Accs: 0.95312 | Valid Accs: 0.98929 | Time: 123.99 seconds\n",
      "Epoch: 3 | Train Loss: 0.11178 | Valid Loss: 0.04628 | Train Accs: 0.96116 | Valid Accs: 0.99107 | Time: 124.23 seconds\n",
      "Epoch: 4 | Train Loss: 0.09089 | Valid Loss: 0.04305 | Train Accs: 0.97054 | Valid Accs: 0.98929 | Time: 123.63 seconds\n",
      "Epoch: 5 | Train Loss: 0.07290 | Valid Loss: 0.04563 | Train Accs: 0.97679 | Valid Accs: 0.98750 | Time: 123.02 seconds\n",
      "Epoch: 6 | Train Loss: 0.04947 | Valid Loss: 0.04447 | Train Accs: 0.98214 | Valid Accs: 0.98750 | Time: 122.72 seconds\n",
      "Epoch: 7 | Train Loss: 0.04644 | Valid Loss: 0.04290 | Train Accs: 0.98304 | Valid Accs: 0.98929 | Time: 123.51 seconds\n",
      "Epoch: 8 | Train Loss: 0.04556 | Valid Loss: 0.03670 | Train Accs: 0.98616 | Valid Accs: 0.99107 | Time: 124.27 seconds\n",
      "Epoch: 9 | Train Loss: 0.02748 | Valid Loss: 0.03792 | Train Accs: 0.99286 | Valid Accs: 0.99464 | Time: 123.48 seconds\n",
      "Epoch: 10 | Train Loss: 0.02710 | Valid Loss: 0.04817 | Train Accs: 0.99107 | Valid Accs: 0.99107 | Time: 121.82 seconds\n",
      "Epoch: 11 | Train Loss: 0.03097 | Valid Loss: 0.04943 | Train Accs: 0.99018 | Valid Accs: 0.98929 | Time: 123.26 seconds\n",
      "Epoch: 12 | Train Loss: 0.03656 | Valid Loss: 0.04366 | Train Accs: 0.98839 | Valid Accs: 0.98929 | Time: 123.28 seconds\n",
      "Epoch: 13 | Train Loss: 0.03767 | Valid Loss: 0.04372 | Train Accs: 0.98705 | Valid Accs: 0.98929 | Time: 122.66 seconds\n",
      "\n",
      "Early Stopping at Epoch 14\n",
      "\n",
      "**************************************************\n",
      "\n",
      "Best Validation Loss at Epoch 8\n",
      "\n",
      "**************************************************\n",
      "\n",
      "Best Validation Accs at Epoch 9\n",
      "\n",
      "**************************************************\n",
      "\n",
      "Time Taken [14 Epochs] : 28.76 minutes\n",
      "\n",
      "**************************************************\n",
      "\n"
     ]
    },
    {
     "data": {
      "image/png": "[encoded data removed]",
      "text/plain": [
       "<Figure size 432x288 with 1 Axes>"
      ]
     },
     "metadata": {
      "needs_background": "light"
     },
     "output_type": "display_data"
    },
    {
     "name": "stdout",
     "output_type": "stream",
     "text": [
      "\n",
      "**************************************************\n",
      "\n"
     ]
    },
    {
     "data": {
      "image/png": "[encoded data removed]",
      "text/plain": [
       "<Figure size 432x288 with 1 Axes>"
      ]
     },
     "metadata": {
      "needs_background": "light"
     },
     "output_type": "display_data"
    },
    {
     "name": "stdout",
     "output_type": "stream",
     "text": [
      "\n",
      "**************************************************\n",
      "\n"
     ]
    }
   ],
   "source": [
    "fold: int = 1\n",
    "BLEs: list = []\n",
    "BAEs: list = []\n",
    "    \n",
    "for tr_idx, va_idx in StratifiedKFold(n_splits=cfg.n_splits, random_state=cfg.seed, shuffle=True).split(filenames, labels):\n",
    "\n",
    "    tr_filenames, va_filenames       = filenames[tr_idx], filenames[va_idx] \n",
    "    tr_folder_names, va_folder_names = folder_names[tr_idx], folder_names[va_idx] \n",
    "    tr_labels, va_labels             = labels[tr_idx], labels[va_idx]\n",
    "    \n",
    "    tr_data_setup = DS(\n",
    "        base_path=\"../input/4-animal-classification/train\", \n",
    "        filenames=tr_filenames, \n",
    "        folder_names=tr_folder_names,\n",
    "        labels=tr_labels.reshape(-1, 1),\n",
    "        size=cfg.size,\n",
    "        transform=cfg.train_transform)\n",
    "    \n",
    "    va_data_setup = DS(\n",
    "        base_path=\"../input/4-animal-classification/train\", \n",
    "        filenames=va_filenames, \n",
    "        folder_names=va_folder_names,\n",
    "        labels=va_labels.reshape(-1, 1),\n",
    "        size=cfg.size,\n",
    "        transform=cfg.valid_transform)\n",
    "\n",
    "    dataloaders = {\n",
    "        \"train\" : DL(tr_data_setup, batch_size=cfg.batch_size, shuffle=True, generator=torch.manual_seed(cfg.seed)),\n",
    "        \"valid\" : DL(va_data_setup, batch_size=cfg.batch_size, shuffle=False),\n",
    "    }\n",
    "\n",
    "    cfg = CFG(\n",
    "        size=SIZE,\n",
    "        epochs=25, \n",
    "        batch_size=16, \n",
    "        early_stopping=5,\n",
    "        steps_per_epoch=len(dataloaders[\"train\"])\n",
    "    )\n",
    "    \n",
    "    torch.manual_seed(cfg.seed)\n",
    "    model = Model().to(cfg.device)\n",
    "\n",
    "    optimizer = optim.Adam([p for p in model.parameters() if p.requires_grad], lr=cfg.lr, weight_decay=cfg.wd)\n",
    "    # optimizer = optim.AdamW([p for p in model.parameters() if p.requires_grad], lr=cfg.lr, weight_decay=cfg.wd)\n",
    "    # optimizer = optim.SGD([p for p in model.parameters() if p.requires_grad], lr=cfg.lr, weight_decay=cfg.wd, momentum=0.9)\n",
    "    \n",
    "    # scheduler_oclr = optim.lr_scheduler.OneCycleLR(\n",
    "    #     optimizer=optimizer, \n",
    "    #     max_lr=cfg.max_lr, \n",
    "    #     epochs=cfg.epochs, \n",
    "    #     steps_per_epoch=cfg.steps_per_epoch,\n",
    "    #     pct_start=cfg.pct_start, \n",
    "    #     div_factor=cfg.div_factor, \n",
    "    #     final_div_factor=cfg.final_div_factor\n",
    "    # )\n",
    "\n",
    "    # scheduler_rlrop = optim.lr_scheduler.ReduceLROnPlateau(\n",
    "    #     optimizer=optimizer,\n",
    "    #     patience=cfg.patience,\n",
    "    #     eps=cfg.eps,\n",
    "    #     verbose=True\n",
    "    # )\n",
    "\n",
    "    scheduler_oclr = None\n",
    "    scheduler_rlrop = None\n",
    "    \n",
    "    L, A, LR, BLE, BAE, _, _ = fit(\n",
    "        model=model, \n",
    "        optimizer=optimizer, \n",
    "        scheduler_oclr=scheduler_oclr,\n",
    "        scheduler_rlrop=scheduler_rlrop,\n",
    "        epochs=cfg.epochs, \n",
    "        early_stopping_patience=cfg.early_stopping, \n",
    "        dataloaders=dataloaders, \n",
    "        device=cfg.device,\n",
    "        save_path=cfg.save_path,\n",
    "        fold=fold,\n",
    "        verbose=True\n",
    "    )\n",
    "    \n",
    "    breaker()\n",
    "    show_loss_graphs(L)\n",
    "    breaker()\n",
    "    show_accuracy_graphs(A)\n",
    "    breaker()\n",
    "    if scheduler_oclr:\n",
    "        show_lr_graph(LR)\n",
    "        breaker()\n",
    "    \n",
    "    BLEs.append(BLE)\n",
    "    BAEs.append(BAE)\n",
    "    \n",
    "    fold += 1"
   ]
  },
  {
   "cell_type": "markdown",
   "id": "5e4821f8",
   "metadata": {
    "papermill": {
     "duration": 0.013705,
     "end_time": "2022-09-24T18:44:47.131963",
     "exception": false,
     "start_time": "2022-09-24T18:44:47.118258",
     "status": "completed"
    },
    "tags": []
   },
   "source": [
    "### **Best Model**"
   ]
  },
  {
   "cell_type": "code",
   "execution_count": 11,
   "id": "65f006fc",
   "metadata": {
    "execution": {
     "iopub.execute_input": "2022-09-24T18:44:47.158302Z",
     "iopub.status.busy": "2022-09-24T18:44:47.157968Z",
     "iopub.status.idle": "2022-09-24T18:44:47.164117Z",
     "shell.execute_reply": "2022-09-24T18:44:47.163156Z"
    },
    "papermill": {
     "duration": 0.021694,
     "end_time": "2022-09-24T18:44:47.166231",
     "exception": false,
     "start_time": "2022-09-24T18:44:47.144537",
     "status": "completed"
    },
    "tags": []
   },
   "outputs": [
    {
     "name": "stdout",
     "output_type": "stream",
     "text": [
      "\n",
      "**************************************************\n",
      "\n",
      "Best Loss Model Fold     : 1\n",
      "Best Accuracy Model Fold : 2\n",
      "\n",
      "**************************************************\n",
      "\n"
     ]
    }
   ],
   "source": [
    "best_loss_index = BLEs.index(min(BLEs))\n",
    "best_accs_index = BAEs.index(max(BAEs))\n",
    "\n",
    "breaker()\n",
    "print(f\"Best Loss Model Fold     : {best_loss_index + 1}\")\n",
    "print(f\"Best Accuracy Model Fold : {best_accs_index + 1}\")\n",
    "breaker()"
   ]
  },
  {
   "cell_type": "markdown",
   "id": "45204991",
   "metadata": {
    "papermill": {
     "duration": 0.012432,
     "end_time": "2022-09-24T18:44:47.191478",
     "exception": false,
     "start_time": "2022-09-24T18:44:47.179046",
     "status": "completed"
    },
    "tags": []
   },
   "source": [
    "### **Submit**"
   ]
  },
  {
   "cell_type": "code",
   "execution_count": 12,
   "id": "e0008892",
   "metadata": {
    "execution": {
     "iopub.execute_input": "2022-09-24T18:44:47.218410Z",
     "iopub.status.busy": "2022-09-24T18:44:47.218068Z",
     "iopub.status.idle": "2022-09-24T18:44:47.224035Z",
     "shell.execute_reply": "2022-09-24T18:44:47.223154Z"
    },
    "papermill": {
     "duration": 0.021869,
     "end_time": "2022-09-24T18:44:47.226041",
     "exception": false,
     "start_time": "2022-09-24T18:44:47.204172",
     "status": "completed"
    },
    "tags": []
   },
   "outputs": [],
   "source": [
    "# torch.manual_seed(cfg.seed)\n",
    "# model = Model().to(cfg.device)\n",
    "\n",
    "# ss_df = pd.read_csv(\"../input/4-animal-classification/Sample_submission.csv\")\n",
    "# ts_filenames = ss_df[\"ID\"]\n",
    "\n",
    "# ts_data_setup = DS(\n",
    "#     base_path=\"../input/4-animal-classification/test/test\", \n",
    "#     filenames=ts_filenames, \n",
    "#     size=cfg.size,\n",
    "#     transform=cfg.valid_transform,\n",
    "# )\n",
    "# ts_data = DL(ts_data_setup, batch_size=cfg.batch_size, shuffle=False)\n",
    "\n",
    "# y_pred = predict_batch(\n",
    "#     model=model,\n",
    "#     dataloader=ts_data,\n",
    "#     path=\"\",\n",
    "#     device=cfg.device\n",
    "# )\n",
    "\n",
    "# ss_df[\"Label\"] = y_pred.astype(\"uint8\")\n",
    "# ss_df.to_csv(\"submission.csv\", index=False)"
   ]
  }
 ],
 "metadata": {
  "kernelspec": {
   "display_name": "Python 3",
   "language": "python",
   "name": "python3"
  },
  "language_info": {
   "codemirror_mode": {
    "name": "ipython",
    "version": 3
   },
   "file_extension": ".py",
   "mimetype": "text/x-python",
   "name": "python",
   "nbconvert_exporter": "python",
   "pygments_lexer": "ipython3",
   "version": "3.7.12"
  },
  "papermill": {
   "default_parameters": {},
   "duration": 11801.242308,
   "end_time": "2022-09-24T18:44:49.082420",
   "environment_variables": {},
   "exception": null,
   "input_path": "__notebook__.ipynb",
   "output_path": "__notebook__.ipynb",
   "parameters": {},
   "start_time": "2022-09-24T15:28:07.840112",
   "version": "2.3.4"
  }
 },
 "nbformat": 4,
 "nbformat_minor": 5
}
