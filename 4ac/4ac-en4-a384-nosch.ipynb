{
 "cells": [
  {
   "cell_type": "markdown",
   "id": "3ca51e92",
   "metadata": {
    "_cell_guid": "b1076dfc-b9ad-4769-8c92-a6c4dae69d19",
    "_uuid": "8f2839f25d086af736a60e9eeb907d3b93b6e0e5",
    "papermill": {
     "duration": 0.008505,
     "end_time": "2022-09-24T21:02:17.346452",
     "exception": false,
     "start_time": "2022-09-24T21:02:17.337947",
     "status": "completed"
    },
    "tags": []
   },
   "source": [
    "### **Setup**"
   ]
  },
  {
   "cell_type": "code",
   "execution_count": 1,
   "id": "181c0b01",
   "metadata": {
    "execution": {
     "iopub.execute_input": "2022-09-24T21:02:17.363359Z",
     "iopub.status.busy": "2022-09-24T21:02:17.362514Z",
     "iopub.status.idle": "2022-09-24T21:02:27.957088Z",
     "shell.execute_reply": "2022-09-24T21:02:27.955942Z"
    },
    "papermill": {
     "duration": 10.605723,
     "end_time": "2022-09-24T21:02:27.960564",
     "exception": false,
     "start_time": "2022-09-24T21:02:17.354841",
     "status": "completed"
    },
    "tags": []
   },
   "outputs": [
    {
     "name": "stderr",
     "output_type": "stream",
     "text": [
      "WARNING: Running pip as the 'root' user can result in broken permissions and conflicting behaviour with the system package manager. It is recommended to use a virtual environment instead: https://pip.pypa.io/warnings/venv\n"
     ]
    }
   ],
   "source": [
    "%%bash\n",
    "pip install timm -q"
   ]
  },
  {
   "cell_type": "markdown",
   "id": "432fea43",
   "metadata": {
    "papermill": {
     "duration": 0.00597,
     "end_time": "2022-09-24T21:02:27.973022",
     "exception": false,
     "start_time": "2022-09-24T21:02:27.967052",
     "status": "completed"
    },
    "tags": []
   },
   "source": [
    "### **Library Imports**"
   ]
  },
  {
   "cell_type": "code",
   "execution_count": 2,
   "id": "dcfdb46f",
   "metadata": {
    "execution": {
     "iopub.execute_input": "2022-09-24T21:02:27.988669Z",
     "iopub.status.busy": "2022-09-24T21:02:27.988296Z",
     "iopub.status.idle": "2022-09-24T21:02:32.084019Z",
     "shell.execute_reply": "2022-09-24T21:02:32.082831Z"
    },
    "papermill": {
     "duration": 4.107386,
     "end_time": "2022-09-24T21:02:32.086705",
     "exception": false,
     "start_time": "2022-09-24T21:02:27.979319",
     "status": "completed"
    },
    "tags": []
   },
   "outputs": [],
   "source": [
    "import os\n",
    "import re\n",
    "import cv2\n",
    "import timm\n",
    "import torch\n",
    "import numpy as np\n",
    "import pandas as pd\n",
    "import matplotlib.pyplot as plt\n",
    "\n",
    "from time import time\n",
    "from torch import nn, optim\n",
    "from torch.utils.data import Dataset\n",
    "from torch.utils.data import DataLoader as DL\n",
    "from torchvision import models, transforms\n",
    "\n",
    "from sklearn.model_selection import StratifiedKFold"
   ]
  },
  {
   "cell_type": "markdown",
   "id": "3f627e33",
   "metadata": {
    "papermill": {
     "duration": 0.003817,
     "end_time": "2022-09-24T21:02:32.094842",
     "exception": false,
     "start_time": "2022-09-24T21:02:32.091025",
     "status": "completed"
    },
    "tags": []
   },
   "source": [
    "### **Utilities and Helpers**"
   ]
  },
  {
   "cell_type": "code",
   "execution_count": 3,
   "id": "0052821c",
   "metadata": {
    "execution": {
     "iopub.execute_input": "2022-09-24T21:02:32.104625Z",
     "iopub.status.busy": "2022-09-24T21:02:32.103883Z",
     "iopub.status.idle": "2022-09-24T21:02:32.116926Z",
     "shell.execute_reply": "2022-09-24T21:02:32.116065Z"
    },
    "papermill": {
     "duration": 0.020216,
     "end_time": "2022-09-24T21:02:32.119014",
     "exception": false,
     "start_time": "2022-09-24T21:02:32.098798",
     "status": "completed"
    },
    "tags": []
   },
   "outputs": [],
   "source": [
    "SEED = 42\n",
    "SIZE = 384\n",
    "\n",
    "\n",
    "def breaker(num: int=50, char: str=\"*\") -> None:\n",
    "    print(\"\\n\" + num*char + \"\\n\")\n",
    "\n",
    "    \n",
    "def get_image(path: str, size: int=224) -> np.ndarray:\n",
    "    image = cv2.imread(path, cv2.IMREAD_COLOR)\n",
    "    image = cv2.cvtColor(src=image, code=cv2.COLOR_BGR2RGB)\n",
    "    return cv2.resize(src=image, dsize=(size, size), interpolation=cv2.INTER_AREA)\n",
    "\n",
    "\n",
    "def show_loss_graphs(L: list) -> None:\n",
    "    TL, VL = [], []\n",
    "    for i in range(len(L)):\n",
    "        TL.append(L[i][\"train\"])\n",
    "        VL.append(L[i][\"valid\"])\n",
    "    x_Axis = np.arange(1, len(TL) + 1)\n",
    "    plt.figure()\n",
    "    plt.plot(x_Axis, TL, \"r\", label=\"Train\")\n",
    "    plt.plot(x_Axis, VL, \"b\", label=\"Valid\")\n",
    "    plt.legend()\n",
    "    plt.grid()\n",
    "    plt.title(\"Loss Graph\")\n",
    "    plt.show()\n",
    "\n",
    "    \n",
    "def show_accuracy_graphs(A: list) -> None:\n",
    "    TA, VA = [], []\n",
    "    for i in range(len(A)):\n",
    "        TA.append(A[i][\"train\"])\n",
    "        VA.append(A[i][\"valid\"])\n",
    "    x_Axis = np.arange(1, len(TA) + 1)\n",
    "    plt.figure()\n",
    "    plt.plot(x_Axis, TA, \"r\", label=\"Train\")\n",
    "    plt.plot(x_Axis, VA, \"b\", label=\"Valid\")\n",
    "    plt.legend()\n",
    "    plt.grid()\n",
    "    plt.title(\"Accuracy Graph\")\n",
    "    plt.show()\n",
    "    \n",
    "\n",
    "def show_lr_graph(LR: list) -> None:\n",
    "    x_Axis = [i+1 for i in range(len(LR))]\n",
    "    plt.figure(figsize=(8, 6))\n",
    "    plt.plot(x_Axis, LR, \"rx\")\n",
    "    plt.grid()\n",
    "    plt.show()"
   ]
  },
  {
   "cell_type": "markdown",
   "id": "d4d9447c",
   "metadata": {
    "papermill": {
     "duration": 0.003782,
     "end_time": "2022-09-24T21:02:32.126798",
     "exception": false,
     "start_time": "2022-09-24T21:02:32.123016",
     "status": "completed"
    },
    "tags": []
   },
   "source": [
    "### **Configuration**"
   ]
  },
  {
   "cell_type": "code",
   "execution_count": 4,
   "id": "d9eb0610",
   "metadata": {
    "execution": {
     "iopub.execute_input": "2022-09-24T21:02:32.135919Z",
     "iopub.status.busy": "2022-09-24T21:02:32.135641Z",
     "iopub.status.idle": "2022-09-24T21:02:32.207960Z",
     "shell.execute_reply": "2022-09-24T21:02:32.207081Z"
    },
    "papermill": {
     "duration": 0.079054,
     "end_time": "2022-09-24T21:02:32.209853",
     "exception": false,
     "start_time": "2022-09-24T21:02:32.130799",
     "status": "completed"
    },
    "tags": []
   },
   "outputs": [],
   "source": [
    "class CFG(object):\n",
    "    def __init__(self, \n",
    "                 seed: int = 42,\n",
    "                 size: int = 224,\n",
    "                 n_splits: int = 5,\n",
    "                 batch_size: int = 16,\n",
    "                 epochs: int = 25,\n",
    "                 early_stopping: int = 5,\n",
    "                 lr: float = 1e-4,\n",
    "                 wd: float = 0.0,\n",
    "                 max_lr: float = 1e-3,\n",
    "                 pct_start: float = 0.2,\n",
    "                 steps_per_epoch: int = 100,\n",
    "                 div_factor: int = 1e3, \n",
    "                 final_div_factor: float = 1e3,\n",
    "                 ):\n",
    "        self.seed = seed\n",
    "        self.size = size\n",
    "        self.n_splits = n_splits\n",
    "        self.batch_size = batch_size\n",
    "        self.epochs = epochs\n",
    "        self.early_stopping = early_stopping\n",
    "        self.lr = lr\n",
    "        self.wd = wd\n",
    "        self.max_lr = max_lr\n",
    "        self.pct_start = pct_start\n",
    "        self.steps_per_epoch = steps_per_epoch\n",
    "        self.div_factor = div_factor\n",
    "        self.final_div_factor = final_div_factor\n",
    "        self.device = torch.device(\"cuda\" if torch.cuda.is_available() else \"cpu\")\n",
    "        self.train_transform = transforms.Compose([\n",
    "            transforms.ToTensor(),\n",
    "            transforms.Normalize([0.48805, 0.46218, 0.38043], [0.21471, 0.21141, 0.21124]),\n",
    "            transforms.RandomAffine(degrees=(-45, 45), translate=(0.15, 0.15), scale=(0.5, 1.5)),\n",
    "            transforms.RandomHorizontalFlip(p=0.25),\n",
    "            transforms.RandomVerticalFlip(p=0.25),\n",
    "        ])\n",
    "        self.valid_transform = transforms.Compose([\n",
    "            transforms.ToTensor(),\n",
    "            transforms.Normalize([0.48805, 0.46218, 0.38043], [0.21471, 0.21141, 0.21124]),\n",
    "        ])\n",
    "                                \n",
    "        self.save_path = \"saves\"\n",
    "        if not os.path.exists(self.save_path): os.makedirs(self.save_path)\n",
    "    \n",
    "cfg = CFG(seed=SEED, size=SIZE)"
   ]
  },
  {
   "cell_type": "markdown",
   "id": "900e045e",
   "metadata": {
    "papermill": {
     "duration": 0.003965,
     "end_time": "2022-09-24T21:02:32.218072",
     "exception": false,
     "start_time": "2022-09-24T21:02:32.214107",
     "status": "completed"
    },
    "tags": []
   },
   "source": [
    "### **Dataset Template**"
   ]
  },
  {
   "cell_type": "code",
   "execution_count": 5,
   "id": "b7f123ad",
   "metadata": {
    "execution": {
     "iopub.execute_input": "2022-09-24T21:02:32.227624Z",
     "iopub.status.busy": "2022-09-24T21:02:32.227063Z",
     "iopub.status.idle": "2022-09-24T21:02:32.234175Z",
     "shell.execute_reply": "2022-09-24T21:02:32.233182Z"
    },
    "papermill": {
     "duration": 0.0142,
     "end_time": "2022-09-24T21:02:32.236429",
     "exception": false,
     "start_time": "2022-09-24T21:02:32.222229",
     "status": "completed"
    },
    "tags": []
   },
   "outputs": [],
   "source": [
    "class DS(Dataset):\n",
    "    def __init__(\n",
    "        self, \n",
    "        base_path: str,\n",
    "        filenames: np.ndarray, \n",
    "        folder_names: np.ndarray, \n",
    "        labels: np.ndarray, \n",
    "        size: int,\n",
    "        transform=None):\n",
    "        \n",
    "        self.base_path = base_path\n",
    "        self.filenames = filenames\n",
    "        self.folder_names = folder_names\n",
    "        self.labels = labels\n",
    "        self.size = size\n",
    "        self.transform = transform\n",
    "    \n",
    "    def __len__(self):\n",
    "        return self.filenames.shape[0]\n",
    "    \n",
    "    def __getitem__(self, idx):\n",
    "        path = os.path.join(os.path.join(self.base_path, self.folder_names[idx]), self.filenames[idx])\n",
    "        image = get_image(path, self.size)\n",
    "        return self.transform(image), self.labels[idx]"
   ]
  },
  {
   "cell_type": "code",
   "execution_count": 6,
   "id": "6df2c160",
   "metadata": {
    "execution": {
     "iopub.execute_input": "2022-09-24T21:02:32.245639Z",
     "iopub.status.busy": "2022-09-24T21:02:32.245385Z",
     "iopub.status.idle": "2022-09-24T21:02:32.249695Z",
     "shell.execute_reply": "2022-09-24T21:02:32.248737Z"
    },
    "papermill": {
     "duration": 0.011105,
     "end_time": "2022-09-24T21:02:32.251635",
     "exception": false,
     "start_time": "2022-09-24T21:02:32.240530",
     "status": "completed"
    },
    "tags": []
   },
   "outputs": [],
   "source": [
    "# class DS(Dataset):\n",
    "#     def __init__(\n",
    "#         self, \n",
    "#         base_path: str,\n",
    "#         filenames: np.ndarray, \n",
    "#         size: int,\n",
    "#         transform=None):\n",
    "        \n",
    "#         self.base_path = base_path\n",
    "#         self.filenames = filenames\n",
    "#         self.size = size\n",
    "#         self.transform = transform\n",
    "    \n",
    "#     def __len__(self):\n",
    "#         return self.filenames.shape[0]\n",
    "    \n",
    "#     def __getitem__(self, idx):\n",
    "#         path = os.path.join(self.base_path, str(self.filenames[idx]) + \".jpg\")\n",
    "#         image = get_image(path, self.size)\n",
    "#         return self.transform(image)"
   ]
  },
  {
   "cell_type": "markdown",
   "id": "65a49913",
   "metadata": {
    "papermill": {
     "duration": 0.003886,
     "end_time": "2022-09-24T21:02:32.259581",
     "exception": false,
     "start_time": "2022-09-24T21:02:32.255695",
     "status": "completed"
    },
    "tags": []
   },
   "source": [
    "### **Model**"
   ]
  },
  {
   "cell_type": "code",
   "execution_count": 7,
   "id": "644c15b5",
   "metadata": {
    "execution": {
     "iopub.execute_input": "2022-09-24T21:02:32.270173Z",
     "iopub.status.busy": "2022-09-24T21:02:32.268580Z",
     "iopub.status.idle": "2022-09-24T21:02:32.275957Z",
     "shell.execute_reply": "2022-09-24T21:02:32.275160Z"
    },
    "papermill": {
     "duration": 0.01401,
     "end_time": "2022-09-24T21:02:32.277714",
     "exception": false,
     "start_time": "2022-09-24T21:02:32.263704",
     "status": "completed"
    },
    "tags": []
   },
   "outputs": [],
   "source": [
    "class Model(nn.Module):\n",
    "    def __init__(self):\n",
    "        super(Model, self).__init__()\n",
    "            \n",
    "        self.model = timm.create_model(model_name=\"efficientnet_b4\", pretrained=True)\n",
    "        self.model.classifier = nn.Linear(in_features=self.model.classifier.in_features, out_features=4)\n",
    "            \n",
    "    def freeze(self):\n",
    "        for params in self.parameters(): params.requires_grad = False\n",
    "\n",
    "    def forward(self, x):\n",
    "        return nn.LogSoftmax(dim=1)(self.model(x))"
   ]
  },
  {
   "cell_type": "markdown",
   "id": "30e17e27",
   "metadata": {
    "papermill": {
     "duration": 0.003958,
     "end_time": "2022-09-24T21:02:32.285856",
     "exception": false,
     "start_time": "2022-09-24T21:02:32.281898",
     "status": "completed"
    },
    "tags": []
   },
   "source": [
    "### **Fit and Predict**"
   ]
  },
  {
   "cell_type": "code",
   "execution_count": 8,
   "id": "cb96ab07",
   "metadata": {
    "execution": {
     "iopub.execute_input": "2022-09-24T21:02:32.295485Z",
     "iopub.status.busy": "2022-09-24T21:02:32.295226Z",
     "iopub.status.idle": "2022-09-24T21:02:32.316158Z",
     "shell.execute_reply": "2022-09-24T21:02:32.315166Z"
    },
    "papermill": {
     "duration": 0.028182,
     "end_time": "2022-09-24T21:02:32.318110",
     "exception": false,
     "start_time": "2022-09-24T21:02:32.289928",
     "status": "completed"
    },
    "tags": []
   },
   "outputs": [],
   "source": [
    "def fit(model=None,\n",
    "        optimizer=None, \n",
    "        scheduler_rlrop=None,\n",
    "        scheduler_oclr=None,\n",
    "        epochs=None, \n",
    "        early_stopping_patience=None, \n",
    "        dataloaders=None, \n",
    "        fold=None, \n",
    "        save_path=None,\n",
    "        device=None,\n",
    "        verbose=False) -> tuple:\n",
    "    \n",
    "    def get_accuracy(y_pred, y_true):\n",
    "        y_pred = torch.argmax(y_pred, dim=1)\n",
    "        return torch.count_nonzero(y_pred == y_true).item() / len(y_pred)\n",
    "    \n",
    "    if verbose:\n",
    "        breaker()\n",
    "        if fold: print(f\"Training Fold {fold}...\")\n",
    "        else: print(\"Training ...\")\n",
    "        breaker()\n",
    "        \n",
    "    bestLoss: dict = {\"train\" : np.inf, \"valid\" : np.inf} \n",
    "    bestAccs: dict = {\"train\" : 0.0, \"valid\" : 0.0}\n",
    "        \n",
    "    Losses: list = []\n",
    "    Accuracies: list = [] \n",
    "    LRs: list = []\n",
    "        \n",
    "    if fold: \n",
    "        ble_name = f\"ble_state_fold_{fold}.pt\"\n",
    "        bae_name = f\"bae_state_fold_{fold}.pt\"\n",
    "    else: \n",
    "        ble_name = f\"ble_state.pt\"\n",
    "        bae_name = f\"bae_state.pt\"\n",
    "    \n",
    "    start_time = time()\n",
    "    for e in range(epochs):\n",
    "        e_st = time()\n",
    "        epochLoss: dict = {\"train\" : 0.0, \"valid\" : 0.0} \n",
    "        epochAccs: dict = {\"train\" : 0.0, \"valid\" : 0.0}\n",
    "\n",
    "        for phase in [\"train\", \"valid\"]:\n",
    "            if phase == \"train\":\n",
    "                model.train()\n",
    "            else:\n",
    "                model.eval()\n",
    "            \n",
    "            lossPerPass: list = []\n",
    "            accsPerPass: list = []\n",
    "                \n",
    "            for X, y in dataloaders[phase]:\n",
    "                X, y = X.to(device), y.to(device).view(-1)\n",
    "\n",
    "                optimizer.zero_grad()\n",
    "                with torch.set_grad_enabled(phase == \"train\"):\n",
    "                    output = model(X)\n",
    "                    loss = torch.nn.NLLLoss()(output, y)\n",
    "                    if phase == \"train\":\n",
    "                        loss.backward()\n",
    "                        optimizer.step()\n",
    "                        if scheduler_oclr: scheduler_oclr.step()\n",
    "                lossPerPass.append(loss.item())\n",
    "                accsPerPass.append(get_accuracy(output, y))\n",
    "            epochLoss[phase] = np.mean(np.array(lossPerPass))\n",
    "            epochAccs[phase] = np.mean(np.array(accsPerPass))\n",
    "        if scheduler_oclr: LRs.append(scheduler_oclr.get_last_lr())\n",
    "        Losses.append(epochLoss)\n",
    "        Accuracies.append(epochAccs)\n",
    "    \n",
    "        if scheduler_oclr:\n",
    "            save_dict = {\"model_state_dict\"     : model.state_dict(),\n",
    "                         \"optim_state_dict\"     : optimizer.state_dict(),\n",
    "                         \"scheduler_state_dict\" : scheduler_oclr.state_dict()}\n",
    "        \n",
    "        elif scheduler_rlrop:\n",
    "            save_dict = {\"model_state_dict\"     : model.state_dict(),\n",
    "                         \"optim_state_dict\"     : optimizer.state_dict(),\n",
    "                         \"scheduler_state_dict\" : scheduler_rlrop.state_dict()}\n",
    "        \n",
    "        else:\n",
    "            save_dict = {\"model_state_dict\"     : model.state_dict(),\n",
    "                         \"optim_state_dict\"     : optimizer.state_dict()}\n",
    "        \n",
    "        \n",
    "        if early_stopping_patience:\n",
    "            if epochLoss[\"valid\"] < bestLoss[\"valid\"]:\n",
    "                bestLoss = epochLoss\n",
    "                BLE = e + 1\n",
    "                torch.save(save_dict, os.path.join(save_path, ble_name))\n",
    "                torch.save(save_dict, os.path.join(save_path, bae_name))\n",
    "                early_stopping_step = 0\n",
    "            else:\n",
    "                early_stopping_step += 1\n",
    "                if early_stopping_step > early_stopping_patience:\n",
    "                    print(\"\\nEarly Stopping at Epoch {}\".format(e + 1))\n",
    "                    break\n",
    "        \n",
    "        if epochLoss[\"valid\"] < bestLoss[\"valid\"]:\n",
    "            bestLoss = epochLoss\n",
    "            BLE = e + 1\n",
    "            torch.save(save_dict,os.path.join(save_path, ble_name))\n",
    "        \n",
    "        if epochAccs[\"valid\"] > bestAccs[\"valid\"]:\n",
    "            bestAccs = epochAccs\n",
    "            BAE = e + 1\n",
    "            torch.save(save_dict,os.path.join(save_path, bae_name))\n",
    "        \n",
    "        if scheduler_rlrop: scheduler_rlrop.step(epochLoss[\"valid\"])\n",
    "        \n",
    "        if verbose:\n",
    "            print(\"Epoch: {} | Train Loss: {:.5f} | Valid Loss: {:.5f} |\\\n",
    " Train Accs: {:.5f} | Valid Accs: {:.5f} | Time: {:.2f} seconds\".format(e+1, \n",
    "                                                                        epochLoss[\"train\"], epochLoss[\"valid\"], \n",
    "                                                                        epochAccs[\"train\"], epochAccs[\"valid\"], \n",
    "                                                                        time()-e_st))\n",
    "\n",
    "    if verbose:                                           \n",
    "        breaker()\n",
    "        print(f\"Best Validation Loss at Epoch {BLE}\")\n",
    "        breaker()\n",
    "        print(f\"Best Validation Accs at Epoch {BAE}\")\n",
    "        breaker()\n",
    "        print(\"Time Taken [{} Epochs] : {:.2f} minutes\".format(len(Losses), (time()-start_time)/60))\n",
    "    \n",
    "    return Losses, Accuracies, LRs, bestLoss, bestAccs, BLE, BAE, ble_name, bae_name\n",
    "\n",
    "\n",
    "# def predict_batch(model=None, dataloader=None, path=None, device=None) -> np.ndarray:\n",
    "#     model.load_state_dict(torch.load(path, map_location=device)[\"model_state_dict\"])\n",
    "#     model.to(device)    \n",
    "#     model.eval()\n",
    "    \n",
    "#     y_pred = torch.zeros(1, 1).to(device)\n",
    "    \n",
    "#     for X in dataloader:\n",
    "#         X = X.to(device)\n",
    "#         with torch.no_grad():\n",
    "#             output = torch.argmax(torch.exp(model(X)), dim=1)\n",
    "#         y_pred = torch.cat((y_pred, output.view(-1, 1)), dim=0)\n",
    "    \n",
    "#     return y_pred[1:].detach().cpu().numpy()"
   ]
  },
  {
   "cell_type": "markdown",
   "id": "a9a84ac2",
   "metadata": {
    "papermill": {
     "duration": 0.003925,
     "end_time": "2022-09-24T21:02:32.326225",
     "exception": false,
     "start_time": "2022-09-24T21:02:32.322300",
     "status": "completed"
    },
    "tags": []
   },
   "source": [
    "### **Train**"
   ]
  },
  {
   "cell_type": "code",
   "execution_count": 9,
   "id": "6227501a",
   "metadata": {
    "execution": {
     "iopub.execute_input": "2022-09-24T21:02:32.335888Z",
     "iopub.status.busy": "2022-09-24T21:02:32.335128Z",
     "iopub.status.idle": "2022-09-24T21:02:32.375657Z",
     "shell.execute_reply": "2022-09-24T21:02:32.374809Z"
    },
    "papermill": {
     "duration": 0.047321,
     "end_time": "2022-09-24T21:02:32.377653",
     "exception": false,
     "start_time": "2022-09-24T21:02:32.330332",
     "status": "completed"
    },
    "tags": []
   },
   "outputs": [],
   "source": [
    "df = pd.read_csv(\"../input/4ac-dataframe/data.csv\")\n",
    "\n",
    "filenames = df.filenames.copy().values\n",
    "folder_names = df.folder_names.copy().values\n",
    "labels = df.classes.copy().values"
   ]
  },
  {
   "cell_type": "code",
   "execution_count": 10,
   "id": "ac2c6cb7",
   "metadata": {
    "execution": {
     "iopub.execute_input": "2022-09-24T21:02:32.388398Z",
     "iopub.status.busy": "2022-09-24T21:02:32.387658Z",
     "iopub.status.idle": "2022-09-25T00:14:35.977478Z",
     "shell.execute_reply": "2022-09-25T00:14:35.976294Z"
    },
    "papermill": {
     "duration": 11523.597538,
     "end_time": "2022-09-25T00:14:35.979463",
     "exception": false,
     "start_time": "2022-09-24T21:02:32.381925",
     "status": "completed"
    },
    "tags": []
   },
   "outputs": [
    {
     "name": "stderr",
     "output_type": "stream",
     "text": [
      "Downloading: \"https://github.com/rwightman/pytorch-image-models/releases/download/v0.1-weights/efficientnet_b4_ra2_320-7eb33cd5.pth\" to /root/.cache/torch/hub/checkpoints/efficientnet_b4_ra2_320-7eb33cd5.pth\n"
     ]
    },
    {
     "name": "stdout",
     "output_type": "stream",
     "text": [
      "\n",
      "**************************************************\n",
      "\n",
      "Training Fold 1...\n",
      "\n",
      "**************************************************\n",
      "\n",
      "Epoch: 1 | Train Loss: 0.78275 | Valid Loss: 0.06520 | Train Accs: 0.82946 | Valid Accs: 0.99286 | Time: 147.82 seconds\n",
      "Epoch: 2 | Train Loss: 0.15574 | Valid Loss: 0.02888 | Train Accs: 0.94866 | Valid Accs: 0.99286 | Time: 119.75 seconds\n",
      "Epoch: 3 | Train Loss: 0.11637 | Valid Loss: 0.02746 | Train Accs: 0.96027 | Valid Accs: 0.99286 | Time: 120.01 seconds\n",
      "Epoch: 4 | Train Loss: 0.08781 | Valid Loss: 0.02769 | Train Accs: 0.97098 | Valid Accs: 0.99286 | Time: 118.61 seconds\n",
      "Epoch: 5 | Train Loss: 0.09099 | Valid Loss: 0.02579 | Train Accs: 0.96875 | Valid Accs: 0.99464 | Time: 120.68 seconds\n",
      "Epoch: 6 | Train Loss: 0.06260 | Valid Loss: 0.02733 | Train Accs: 0.98214 | Valid Accs: 0.99286 | Time: 118.43 seconds\n",
      "Epoch: 7 | Train Loss: 0.05553 | Valid Loss: 0.02561 | Train Accs: 0.98170 | Valid Accs: 0.99286 | Time: 119.10 seconds\n",
      "Epoch: 8 | Train Loss: 0.04141 | Valid Loss: 0.02896 | Train Accs: 0.98661 | Valid Accs: 0.99464 | Time: 118.72 seconds\n",
      "Epoch: 9 | Train Loss: 0.04119 | Valid Loss: 0.02913 | Train Accs: 0.98616 | Valid Accs: 0.99286 | Time: 118.16 seconds\n",
      "Epoch: 10 | Train Loss: 0.03037 | Valid Loss: 0.02758 | Train Accs: 0.99018 | Valid Accs: 0.99107 | Time: 118.50 seconds\n",
      "Epoch: 11 | Train Loss: 0.03880 | Valid Loss: 0.05098 | Train Accs: 0.98750 | Valid Accs: 0.98036 | Time: 119.99 seconds\n",
      "Epoch: 12 | Train Loss: 0.02330 | Valid Loss: 0.03313 | Train Accs: 0.99330 | Valid Accs: 0.99107 | Time: 118.69 seconds\n",
      "\n",
      "Early Stopping at Epoch 13\n",
      "\n",
      "**************************************************\n",
      "\n",
      "Best Validation Loss at Epoch 7\n",
      "\n",
      "**************************************************\n",
      "\n",
      "Best Validation Accs at Epoch 5\n",
      "\n",
      "**************************************************\n",
      "\n",
      "Time Taken [13 Epochs] : 26.29 minutes\n",
      "\n",
      "**************************************************\n",
      "\n"
     ]
    },
    {
     "data": {
      "image/png": "[encoded data removed]",
      "text/plain": [
       "<Figure size 432x288 with 1 Axes>"
      ]
     },
     "metadata": {
      "needs_background": "light"
     },
     "output_type": "display_data"
    },
    {
     "name": "stdout",
     "output_type": "stream",
     "text": [
      "\n",
      "**************************************************\n",
      "\n"
     ]
    },
    {
     "data": {
      "image/png": "[encoded data removed]",
      "text/plain": [
       "<Figure size 432x288 with 1 Axes>"
      ]
     },
     "metadata": {
      "needs_background": "light"
     },
     "output_type": "display_data"
    },
    {
     "name": "stdout",
     "output_type": "stream",
     "text": [
      "\n",
      "**************************************************\n",
      "\n",
      "\n",
      "**************************************************\n",
      "\n",
      "Training Fold 2...\n",
      "\n",
      "**************************************************\n",
      "\n",
      "Epoch: 1 | Train Loss: 0.79299 | Valid Loss: 0.07211 | Train Accs: 0.83214 | Valid Accs: 0.99821 | Time: 121.32 seconds\n",
      "Epoch: 2 | Train Loss: 0.15408 | Valid Loss: 0.01730 | Train Accs: 0.94955 | Valid Accs: 0.99821 | Time: 121.34 seconds\n",
      "Epoch: 3 | Train Loss: 0.11010 | Valid Loss: 0.02268 | Train Accs: 0.96161 | Valid Accs: 0.99286 | Time: 120.44 seconds\n",
      "Epoch: 4 | Train Loss: 0.08078 | Valid Loss: 0.01466 | Train Accs: 0.97366 | Valid Accs: 0.99643 | Time: 120.71 seconds\n",
      "Epoch: 5 | Train Loss: 0.07831 | Valid Loss: 0.01501 | Train Accs: 0.97188 | Valid Accs: 0.99643 | Time: 119.38 seconds\n",
      "Epoch: 6 | Train Loss: 0.05772 | Valid Loss: 0.01262 | Train Accs: 0.98125 | Valid Accs: 0.99464 | Time: 121.56 seconds\n",
      "Epoch: 7 | Train Loss: 0.04421 | Valid Loss: 0.00743 | Train Accs: 0.98839 | Valid Accs: 0.99821 | Time: 120.83 seconds\n",
      "Epoch: 8 | Train Loss: 0.04276 | Valid Loss: 0.01046 | Train Accs: 0.98571 | Valid Accs: 0.99643 | Time: 120.25 seconds\n",
      "Epoch: 9 | Train Loss: 0.04098 | Valid Loss: 0.00545 | Train Accs: 0.98616 | Valid Accs: 1.00000 | Time: 120.53 seconds\n",
      "Epoch: 10 | Train Loss: 0.03119 | Valid Loss: 0.00485 | Train Accs: 0.98973 | Valid Accs: 1.00000 | Time: 120.80 seconds\n",
      "Epoch: 11 | Train Loss: 0.02916 | Valid Loss: 0.00917 | Train Accs: 0.99018 | Valid Accs: 0.99464 | Time: 120.97 seconds\n",
      "Epoch: 12 | Train Loss: 0.03846 | Valid Loss: 0.01203 | Train Accs: 0.98839 | Valid Accs: 0.99643 | Time: 119.63 seconds\n",
      "Epoch: 13 | Train Loss: 0.02675 | Valid Loss: 0.00645 | Train Accs: 0.99062 | Valid Accs: 0.99821 | Time: 119.65 seconds\n",
      "Epoch: 14 | Train Loss: 0.02624 | Valid Loss: 0.00655 | Train Accs: 0.99152 | Valid Accs: 0.99821 | Time: 119.90 seconds\n",
      "Epoch: 15 | Train Loss: 0.02332 | Valid Loss: 0.00377 | Train Accs: 0.99330 | Valid Accs: 1.00000 | Time: 121.47 seconds\n",
      "Epoch: 16 | Train Loss: 0.01481 | Valid Loss: 0.01288 | Train Accs: 0.99509 | Valid Accs: 0.99464 | Time: 120.39 seconds\n",
      "Epoch: 17 | Train Loss: 0.02856 | Valid Loss: 0.00677 | Train Accs: 0.99107 | Valid Accs: 0.99821 | Time: 119.66 seconds\n",
      "Epoch: 18 | Train Loss: 0.01490 | Valid Loss: 0.00532 | Train Accs: 0.99643 | Valid Accs: 0.99821 | Time: 120.19 seconds\n",
      "Epoch: 19 | Train Loss: 0.01904 | Valid Loss: 0.00893 | Train Accs: 0.99330 | Valid Accs: 0.99643 | Time: 120.31 seconds\n",
      "Epoch: 20 | Train Loss: 0.01607 | Valid Loss: 0.00496 | Train Accs: 0.99375 | Valid Accs: 1.00000 | Time: 121.03 seconds\n",
      "\n",
      "Early Stopping at Epoch 21\n",
      "\n",
      "**************************************************\n",
      "\n",
      "Best Validation Loss at Epoch 15\n",
      "\n",
      "**************************************************\n",
      "\n",
      "Best Validation Accs at Epoch 9\n",
      "\n",
      "**************************************************\n",
      "\n",
      "Time Taken [21 Epochs] : 42.18 minutes\n",
      "\n",
      "**************************************************\n",
      "\n"
     ]
    },
    {
     "data": {
      "image/png": "[encoded data removed]",
      "text/plain": [
       "<Figure size 432x288 with 1 Axes>"
      ]
     },
     "metadata": {
      "needs_background": "light"
     },
     "output_type": "display_data"
    },
    {
     "name": "stdout",
     "output_type": "stream",
     "text": [
      "\n",
      "**************************************************\n",
      "\n"
     ]
    },
    {
     "data": {
      "image/png": "[encoded data removed]",
      "text/plain": [
       "<Figure size 432x288 with 1 Axes>"
      ]
     },
     "metadata": {
      "needs_background": "light"
     },
     "output_type": "display_data"
    },
    {
     "name": "stdout",
     "output_type": "stream",
     "text": [
      "\n",
      "**************************************************\n",
      "\n",
      "\n",
      "**************************************************\n",
      "\n",
      "Training Fold 3...\n",
      "\n",
      "**************************************************\n",
      "\n",
      "Epoch: 1 | Train Loss: 0.78986 | Valid Loss: 0.07658 | Train Accs: 0.82188 | Valid Accs: 0.99286 | Time: 120.52 seconds\n",
      "Epoch: 2 | Train Loss: 0.15508 | Valid Loss: 0.02927 | Train Accs: 0.94911 | Valid Accs: 0.99643 | Time: 121.03 seconds\n",
      "Epoch: 3 | Train Loss: 0.10529 | Valid Loss: 0.01682 | Train Accs: 0.96741 | Valid Accs: 0.99821 | Time: 120.51 seconds\n",
      "Epoch: 4 | Train Loss: 0.07582 | Valid Loss: 0.01734 | Train Accs: 0.97232 | Valid Accs: 0.99643 | Time: 118.71 seconds\n",
      "Epoch: 5 | Train Loss: 0.08757 | Valid Loss: 0.02461 | Train Accs: 0.97098 | Valid Accs: 0.99286 | Time: 118.67 seconds\n",
      "Epoch: 6 | Train Loss: 0.05700 | Valid Loss: 0.01781 | Train Accs: 0.98348 | Valid Accs: 0.99464 | Time: 118.57 seconds\n",
      "Epoch: 7 | Train Loss: 0.05702 | Valid Loss: 0.01785 | Train Accs: 0.97946 | Valid Accs: 0.99643 | Time: 118.33 seconds\n",
      "Epoch: 8 | Train Loss: 0.03768 | Valid Loss: 0.01440 | Train Accs: 0.98661 | Valid Accs: 0.99464 | Time: 119.72 seconds\n",
      "Epoch: 9 | Train Loss: 0.03330 | Valid Loss: 0.01699 | Train Accs: 0.98884 | Valid Accs: 0.99643 | Time: 118.58 seconds\n",
      "Epoch: 10 | Train Loss: 0.03303 | Valid Loss: 0.02412 | Train Accs: 0.98795 | Valid Accs: 0.98929 | Time: 116.45 seconds\n",
      "Epoch: 11 | Train Loss: 0.03458 | Valid Loss: 0.01564 | Train Accs: 0.98884 | Valid Accs: 0.99643 | Time: 119.46 seconds\n",
      "Epoch: 12 | Train Loss: 0.02099 | Valid Loss: 0.01871 | Train Accs: 0.99420 | Valid Accs: 0.98929 | Time: 119.68 seconds\n",
      "Epoch: 13 | Train Loss: 0.02292 | Valid Loss: 0.01701 | Train Accs: 0.99375 | Valid Accs: 0.99464 | Time: 118.10 seconds\n",
      "Epoch: 14 | Train Loss: 0.02897 | Valid Loss: 0.01380 | Train Accs: 0.99152 | Valid Accs: 0.99464 | Time: 119.50 seconds\n",
      "Epoch: 15 | Train Loss: 0.02523 | Valid Loss: 0.01069 | Train Accs: 0.99241 | Valid Accs: 0.99643 | Time: 120.19 seconds\n",
      "Epoch: 16 | Train Loss: 0.02186 | Valid Loss: 0.01623 | Train Accs: 0.99330 | Valid Accs: 0.99464 | Time: 118.46 seconds\n",
      "Epoch: 17 | Train Loss: 0.02105 | Valid Loss: 0.01315 | Train Accs: 0.99420 | Valid Accs: 0.99286 | Time: 118.17 seconds\n",
      "Epoch: 18 | Train Loss: 0.01732 | Valid Loss: 0.01455 | Train Accs: 0.99286 | Valid Accs: 0.99464 | Time: 119.18 seconds\n",
      "Epoch: 19 | Train Loss: 0.01707 | Valid Loss: 0.01374 | Train Accs: 0.99554 | Valid Accs: 0.99286 | Time: 118.46 seconds\n",
      "Epoch: 20 | Train Loss: 0.01226 | Valid Loss: 0.01149 | Train Accs: 0.99554 | Valid Accs: 0.99464 | Time: 118.55 seconds\n",
      "Epoch: 21 | Train Loss: 0.01231 | Valid Loss: 0.00806 | Train Accs: 0.99732 | Valid Accs: 0.99643 | Time: 119.26 seconds\n",
      "Epoch: 22 | Train Loss: 0.01650 | Valid Loss: 0.01771 | Train Accs: 0.99464 | Valid Accs: 0.99107 | Time: 118.18 seconds\n",
      "Epoch: 23 | Train Loss: 0.01054 | Valid Loss: 0.02128 | Train Accs: 0.99687 | Valid Accs: 0.99107 | Time: 118.84 seconds\n",
      "Epoch: 24 | Train Loss: 0.02086 | Valid Loss: 0.01443 | Train Accs: 0.99375 | Valid Accs: 0.99643 | Time: 117.93 seconds\n",
      "Epoch: 25 | Train Loss: 0.01410 | Valid Loss: 0.01107 | Train Accs: 0.99598 | Valid Accs: 0.99821 | Time: 118.01 seconds\n",
      "\n",
      "**************************************************\n",
      "\n",
      "Best Validation Loss at Epoch 21\n",
      "\n",
      "**************************************************\n",
      "\n",
      "Best Validation Accs at Epoch 3\n",
      "\n",
      "**************************************************\n",
      "\n",
      "Time Taken [25 Epochs] : 49.55 minutes\n",
      "\n",
      "**************************************************\n",
      "\n"
     ]
    },
    {
     "data": {
      "image/png": "[encoded data removed]",
      "text/plain": [
       "<Figure size 432x288 with 1 Axes>"
      ]
     },
     "metadata": {
      "needs_background": "light"
     },
     "output_type": "display_data"
    },
    {
     "name": "stdout",
     "output_type": "stream",
     "text": [
      "\n",
      "**************************************************\n",
      "\n"
     ]
    },
    {
     "data": {
      "image/png": "[encoded data removed]",
      "text/plain": [
       "<Figure size 432x288 with 1 Axes>"
      ]
     },
     "metadata": {
      "needs_background": "light"
     },
     "output_type": "display_data"
    },
    {
     "name": "stdout",
     "output_type": "stream",
     "text": [
      "\n",
      "**************************************************\n",
      "\n",
      "\n",
      "**************************************************\n",
      "\n",
      "Training Fold 4...\n",
      "\n",
      "**************************************************\n",
      "\n",
      "Epoch: 1 | Train Loss: 0.79385 | Valid Loss: 0.07141 | Train Accs: 0.82277 | Valid Accs: 0.99107 | Time: 119.50 seconds\n",
      "Epoch: 2 | Train Loss: 0.14928 | Valid Loss: 0.02640 | Train Accs: 0.95402 | Valid Accs: 0.99464 | Time: 120.11 seconds\n",
      "Epoch: 3 | Train Loss: 0.11763 | Valid Loss: 0.02269 | Train Accs: 0.96027 | Valid Accs: 0.99821 | Time: 120.50 seconds\n",
      "Epoch: 4 | Train Loss: 0.08860 | Valid Loss: 0.02158 | Train Accs: 0.96920 | Valid Accs: 0.99464 | Time: 119.32 seconds\n",
      "Epoch: 5 | Train Loss: 0.07767 | Valid Loss: 0.01315 | Train Accs: 0.97188 | Valid Accs: 0.99821 | Time: 119.65 seconds\n",
      "Epoch: 6 | Train Loss: 0.06550 | Valid Loss: 0.02386 | Train Accs: 0.97991 | Valid Accs: 0.99286 | Time: 118.62 seconds\n",
      "Epoch: 7 | Train Loss: 0.05866 | Valid Loss: 0.01548 | Train Accs: 0.98304 | Valid Accs: 0.99464 | Time: 117.77 seconds\n",
      "Epoch: 8 | Train Loss: 0.04095 | Valid Loss: 0.01409 | Train Accs: 0.98616 | Valid Accs: 0.99643 | Time: 118.11 seconds\n",
      "Epoch: 9 | Train Loss: 0.03689 | Valid Loss: 0.02206 | Train Accs: 0.98795 | Valid Accs: 0.99286 | Time: 118.21 seconds\n",
      "Epoch: 10 | Train Loss: 0.03811 | Valid Loss: 0.01028 | Train Accs: 0.99018 | Valid Accs: 0.99643 | Time: 118.80 seconds\n",
      "Epoch: 11 | Train Loss: 0.03916 | Valid Loss: 0.02275 | Train Accs: 0.98795 | Valid Accs: 0.99286 | Time: 116.41 seconds\n",
      "Epoch: 12 | Train Loss: 0.02958 | Valid Loss: 0.01625 | Train Accs: 0.99018 | Valid Accs: 0.99286 | Time: 118.47 seconds\n",
      "Epoch: 13 | Train Loss: 0.02360 | Valid Loss: 0.01589 | Train Accs: 0.99152 | Valid Accs: 0.99643 | Time: 117.87 seconds\n",
      "Epoch: 14 | Train Loss: 0.02675 | Valid Loss: 0.02273 | Train Accs: 0.99196 | Valid Accs: 0.98929 | Time: 119.05 seconds\n",
      "Epoch: 15 | Train Loss: 0.02303 | Valid Loss: 0.01412 | Train Accs: 0.99420 | Valid Accs: 0.99464 | Time: 118.58 seconds\n",
      "Epoch: 16 | Train Loss: 0.01418 | Valid Loss: 0.00719 | Train Accs: 0.99554 | Valid Accs: 0.99821 | Time: 121.28 seconds\n",
      "Epoch: 17 | Train Loss: 0.01482 | Valid Loss: 0.00498 | Train Accs: 0.99554 | Valid Accs: 0.99821 | Time: 120.19 seconds\n",
      "Epoch: 18 | Train Loss: 0.01796 | Valid Loss: 0.00765 | Train Accs: 0.99420 | Valid Accs: 0.99464 | Time: 119.69 seconds\n",
      "Epoch: 19 | Train Loss: 0.02842 | Valid Loss: 0.00501 | Train Accs: 0.99196 | Valid Accs: 0.99821 | Time: 120.72 seconds\n",
      "Epoch: 20 | Train Loss: 0.01986 | Valid Loss: 0.01009 | Train Accs: 0.99420 | Valid Accs: 0.99821 | Time: 119.17 seconds\n",
      "Epoch: 21 | Train Loss: 0.01673 | Valid Loss: 0.01404 | Train Accs: 0.99554 | Valid Accs: 0.99643 | Time: 118.57 seconds\n",
      "Epoch: 22 | Train Loss: 0.02274 | Valid Loss: 0.01352 | Train Accs: 0.99330 | Valid Accs: 0.99464 | Time: 119.35 seconds\n",
      "\n",
      "Early Stopping at Epoch 23\n",
      "\n",
      "**************************************************\n",
      "\n",
      "Best Validation Loss at Epoch 17\n",
      "\n",
      "**************************************************\n",
      "\n",
      "Best Validation Accs at Epoch 3\n",
      "\n",
      "**************************************************\n",
      "\n",
      "Time Taken [23 Epochs] : 45.66 minutes\n",
      "\n",
      "**************************************************\n",
      "\n"
     ]
    },
    {
     "data": {
      "image/png": "[encoded data removed]",
      "text/plain": [
       "<Figure size 432x288 with 1 Axes>"
      ]
     },
     "metadata": {
      "needs_background": "light"
     },
     "output_type": "display_data"
    },
    {
     "name": "stdout",
     "output_type": "stream",
     "text": [
      "\n",
      "**************************************************\n",
      "\n"
     ]
    },
    {
     "data": {
      "image/png": "[encoded data removed]",
      "text/plain": [
       "<Figure size 432x288 with 1 Axes>"
      ]
     },
     "metadata": {
      "needs_background": "light"
     },
     "output_type": "display_data"
    },
    {
     "name": "stdout",
     "output_type": "stream",
     "text": [
      "\n",
      "**************************************************\n",
      "\n",
      "\n",
      "**************************************************\n",
      "\n",
      "Training Fold 5...\n",
      "\n",
      "**************************************************\n",
      "\n",
      "Epoch: 1 | Train Loss: 0.79389 | Valid Loss: 0.09576 | Train Accs: 0.82812 | Valid Accs: 0.98036 | Time: 121.76 seconds\n",
      "Epoch: 2 | Train Loss: 0.14816 | Valid Loss: 0.05063 | Train Accs: 0.95312 | Valid Accs: 0.98929 | Time: 121.91 seconds\n",
      "Epoch: 3 | Train Loss: 0.11178 | Valid Loss: 0.04628 | Train Accs: 0.96116 | Valid Accs: 0.99107 | Time: 121.53 seconds\n",
      "Epoch: 4 | Train Loss: 0.09089 | Valid Loss: 0.04305 | Train Accs: 0.97054 | Valid Accs: 0.98929 | Time: 120.08 seconds\n",
      "Epoch: 5 | Train Loss: 0.07290 | Valid Loss: 0.04563 | Train Accs: 0.97679 | Valid Accs: 0.98750 | Time: 119.58 seconds\n",
      "Epoch: 6 | Train Loss: 0.04947 | Valid Loss: 0.04447 | Train Accs: 0.98214 | Valid Accs: 0.98750 | Time: 119.69 seconds\n",
      "Epoch: 7 | Train Loss: 0.04644 | Valid Loss: 0.04290 | Train Accs: 0.98304 | Valid Accs: 0.98929 | Time: 120.11 seconds\n",
      "Epoch: 8 | Train Loss: 0.04556 | Valid Loss: 0.03670 | Train Accs: 0.98616 | Valid Accs: 0.99107 | Time: 121.22 seconds\n",
      "Epoch: 9 | Train Loss: 0.02748 | Valid Loss: 0.03792 | Train Accs: 0.99286 | Valid Accs: 0.99464 | Time: 120.39 seconds\n",
      "Epoch: 10 | Train Loss: 0.02710 | Valid Loss: 0.04817 | Train Accs: 0.99107 | Valid Accs: 0.99107 | Time: 118.92 seconds\n",
      "Epoch: 11 | Train Loss: 0.03096 | Valid Loss: 0.04944 | Train Accs: 0.99018 | Valid Accs: 0.98929 | Time: 120.20 seconds\n",
      "Epoch: 12 | Train Loss: 0.03656 | Valid Loss: 0.04364 | Train Accs: 0.98839 | Valid Accs: 0.98929 | Time: 120.03 seconds\n",
      "Epoch: 13 | Train Loss: 0.03767 | Valid Loss: 0.04372 | Train Accs: 0.98705 | Valid Accs: 0.98929 | Time: 120.46 seconds\n",
      "\n",
      "Early Stopping at Epoch 14\n",
      "\n",
      "**************************************************\n",
      "\n",
      "Best Validation Loss at Epoch 8\n",
      "\n",
      "**************************************************\n",
      "\n",
      "Best Validation Accs at Epoch 9\n",
      "\n",
      "**************************************************\n",
      "\n",
      "Time Taken [14 Epochs] : 28.09 minutes\n",
      "\n",
      "**************************************************\n",
      "\n"
     ]
    },
    {
     "data": {
      "image/png": "[encoded data removed]",
      "text/plain": [
       "<Figure size 432x288 with 1 Axes>"
      ]
     },
     "metadata": {
      "needs_background": "light"
     },
     "output_type": "display_data"
    },
    {
     "name": "stdout",
     "output_type": "stream",
     "text": [
      "\n",
      "**************************************************\n",
      "\n"
     ]
    },
    {
     "data": {
      "image/png": "[encoded data removed]",
      "text/plain": [
       "<Figure size 432x288 with 1 Axes>"
      ]
     },
     "metadata": {
      "needs_background": "light"
     },
     "output_type": "display_data"
    },
    {
     "name": "stdout",
     "output_type": "stream",
     "text": [
      "\n",
      "**************************************************\n",
      "\n"
     ]
    }
   ],
   "source": [
    "fold: int = 1\n",
    "BLs: list = []\n",
    "BAs: list = []\n",
    "    \n",
    "for tr_idx, va_idx in StratifiedKFold(n_splits=cfg.n_splits, random_state=cfg.seed, shuffle=True).split(filenames, labels):\n",
    "\n",
    "    tr_filenames, va_filenames       = filenames[tr_idx], filenames[va_idx] \n",
    "    tr_folder_names, va_folder_names = folder_names[tr_idx], folder_names[va_idx] \n",
    "    tr_labels, va_labels             = labels[tr_idx], labels[va_idx]\n",
    "    \n",
    "    tr_data_setup = DS(\n",
    "        base_path=\"../input/4-animal-classification/train\", \n",
    "        filenames=tr_filenames, \n",
    "        folder_names=tr_folder_names,\n",
    "        labels=tr_labels.reshape(-1, 1),\n",
    "        size=cfg.size,\n",
    "        transform=cfg.train_transform)\n",
    "    \n",
    "    va_data_setup = DS(\n",
    "        base_path=\"../input/4-animal-classification/train\", \n",
    "        filenames=va_filenames, \n",
    "        folder_names=va_folder_names,\n",
    "        labels=va_labels.reshape(-1, 1),\n",
    "        size=cfg.size,\n",
    "        transform=cfg.valid_transform)\n",
    "\n",
    "    dataloaders = {\n",
    "        \"train\" : DL(tr_data_setup, batch_size=cfg.batch_size, shuffle=True, generator=torch.manual_seed(cfg.seed)),\n",
    "        \"valid\" : DL(va_data_setup, batch_size=cfg.batch_size, shuffle=False),\n",
    "    }\n",
    "\n",
    "    cfg = CFG(\n",
    "        size=SIZE,\n",
    "        epochs=25, \n",
    "        batch_size=16, \n",
    "        early_stopping=5,\n",
    "        steps_per_epoch=len(dataloaders[\"train\"])\n",
    "    )\n",
    "    \n",
    "    torch.manual_seed(cfg.seed)\n",
    "    model = Model().to(cfg.device)\n",
    "\n",
    "    optimizer = optim.Adam([p for p in model.parameters() if p.requires_grad], lr=cfg.lr, weight_decay=cfg.wd)\n",
    "    # optimizer = optim.AdamW([p for p in model.parameters() if p.requires_grad], lr=cfg.lr, weight_decay=cfg.wd)\n",
    "    # optimizer = optim.SGD([p for p in model.parameters() if p.requires_grad], lr=cfg.lr, weight_decay=cfg.wd, momentum=0.9)\n",
    "    \n",
    "    # scheduler_oclr = optim.lr_scheduler.OneCycleLR(\n",
    "    #     optimizer=optimizer, \n",
    "    #     max_lr=cfg.max_lr, \n",
    "    #     epochs=cfg.epochs, \n",
    "    #     steps_per_epoch=cfg.steps_per_epoch,\n",
    "    #     pct_start=cfg.pct_start, \n",
    "    #     div_factor=cfg.div_factor, \n",
    "    #     final_div_factor=cfg.final_div_factor\n",
    "    # )\n",
    "\n",
    "    # scheduler_rlrop = optim.lr_scheduler.ReduceLROnPlateau(\n",
    "    #     optimizer=optimizer,\n",
    "    #     patience=cfg.patience,\n",
    "    #     eps=cfg.eps,\n",
    "    #     verbose=True\n",
    "    # )\n",
    "\n",
    "    scheduler_oclr = None\n",
    "    scheduler_rlrop = None\n",
    "    \n",
    "    L, A, LR, BL, BA, _, _, _, _ = fit(\n",
    "        model=model, \n",
    "        optimizer=optimizer, \n",
    "        scheduler_oclr=scheduler_oclr,\n",
    "        scheduler_rlrop=scheduler_rlrop,\n",
    "        epochs=cfg.epochs, \n",
    "        early_stopping_patience=cfg.early_stopping, \n",
    "        dataloaders=dataloaders, \n",
    "        device=cfg.device,\n",
    "        save_path=cfg.save_path,\n",
    "        fold=fold,\n",
    "        verbose=True\n",
    "    )\n",
    "    \n",
    "    breaker()\n",
    "    show_loss_graphs(L)\n",
    "    breaker()\n",
    "    show_accuracy_graphs(A)\n",
    "    breaker()\n",
    "    if scheduler_oclr:\n",
    "        show_lr_graph(LR)\n",
    "        breaker()\n",
    "    \n",
    "    BLs.append(BL)\n",
    "    BAs.append(BA)\n",
    "    \n",
    "    fold += 1"
   ]
  },
  {
   "cell_type": "markdown",
   "id": "5f6e4ee3",
   "metadata": {
    "papermill": {
     "duration": 0.012443,
     "end_time": "2022-09-25T00:14:36.004855",
     "exception": false,
     "start_time": "2022-09-25T00:14:35.992412",
     "status": "completed"
    },
    "tags": []
   },
   "source": [
    "### **Best Model**"
   ]
  },
  {
   "cell_type": "code",
   "execution_count": 11,
   "id": "f9287eb8",
   "metadata": {
    "execution": {
     "iopub.execute_input": "2022-09-25T00:14:36.031458Z",
     "iopub.status.busy": "2022-09-25T00:14:36.031106Z",
     "iopub.status.idle": "2022-09-25T00:14:36.037383Z",
     "shell.execute_reply": "2022-09-25T00:14:36.036473Z"
    },
    "papermill": {
     "duration": 0.02222,
     "end_time": "2022-09-25T00:14:36.039564",
     "exception": false,
     "start_time": "2022-09-25T00:14:36.017344",
     "status": "completed"
    },
    "tags": []
   },
   "outputs": [
    {
     "name": "stdout",
     "output_type": "stream",
     "text": [
      "\n",
      "**************************************************\n",
      "\n",
      "Best Loss Model Fold     : 5\n",
      "Best Accuracy Model Fold : 5\n",
      "\n",
      "**************************************************\n",
      "\n"
     ]
    }
   ],
   "source": [
    "BL = np.inf\n",
    "BA = 0\n",
    "\n",
    "for i in range(len(BLs)):\n",
    "    if BLs[i][\"valid\"] < BL: best_loss_index = i\n",
    "    if BAs[i][\"valid\"] > BA: best_accs_index = i       \n",
    "    \n",
    "\n",
    "breaker()\n",
    "print(f\"Best Loss Model Fold     : {best_loss_index + 1}\")\n",
    "print(f\"Best Accuracy Model Fold : {best_accs_index + 1}\")\n",
    "breaker()"
   ]
  },
  {
   "cell_type": "markdown",
   "id": "889f3de7",
   "metadata": {
    "papermill": {
     "duration": 0.01242,
     "end_time": "2022-09-25T00:14:36.064623",
     "exception": false,
     "start_time": "2022-09-25T00:14:36.052203",
     "status": "completed"
    },
    "tags": []
   },
   "source": [
    "### **Submit**"
   ]
  },
  {
   "cell_type": "code",
   "execution_count": 12,
   "id": "1c133e12",
   "metadata": {
    "execution": {
     "iopub.execute_input": "2022-09-25T00:14:36.092047Z",
     "iopub.status.busy": "2022-09-25T00:14:36.090600Z",
     "iopub.status.idle": "2022-09-25T00:14:36.096250Z",
     "shell.execute_reply": "2022-09-25T00:14:36.095403Z"
    },
    "papermill": {
     "duration": 0.021195,
     "end_time": "2022-09-25T00:14:36.098215",
     "exception": false,
     "start_time": "2022-09-25T00:14:36.077020",
     "status": "completed"
    },
    "tags": []
   },
   "outputs": [],
   "source": [
    "# torch.manual_seed(cfg.seed)\n",
    "# model = Model().to(cfg.device)\n",
    "\n",
    "# ss_df = pd.read_csv(\"../input/4-animal-classification/Sample_submission.csv\")\n",
    "# ts_filenames = ss_df[\"ID\"]\n",
    "\n",
    "# ts_data_setup = DS(\n",
    "#     base_path=\"../input/4-animal-classification/test/test\", \n",
    "#     filenames=ts_filenames, \n",
    "#     size=cfg.size,\n",
    "#     transform=cfg.valid_transform,\n",
    "# )\n",
    "# ts_data = DL(ts_data_setup, batch_size=cfg.batch_size, shuffle=False)\n",
    "\n",
    "# y_pred = predict_batch(\n",
    "#     model=model,\n",
    "#     dataloader=ts_data,\n",
    "#     path=\"\",\n",
    "#     device=cfg.device\n",
    "# )\n",
    "\n",
    "# ss_df[\"Label\"] = y_pred.astype(\"uint8\")\n",
    "# ss_df.to_csv(\"submission.csv\", index=False)"
   ]
  }
 ],
 "metadata": {
  "kernelspec": {
   "display_name": "Python 3",
   "language": "python",
   "name": "python3"
  },
  "language_info": {
   "codemirror_mode": {
    "name": "ipython",
    "version": 3
   },
   "file_extension": ".py",
   "mimetype": "text/x-python",
   "name": "python",
   "nbconvert_exporter": "python",
   "pygments_lexer": "ipython3",
   "version": "3.7.12"
  },
  "papermill": {
   "default_parameters": {},
   "duration": 11548.789687,
   "end_time": "2022-09-25T00:14:38.402938",
   "environment_variables": {},
   "exception": null,
   "input_path": "__notebook__.ipynb",
   "output_path": "__notebook__.ipynb",
   "parameters": {},
   "start_time": "2022-09-24T21:02:09.613251",
   "version": "2.3.4"
  }
 },
 "nbformat": 4,
 "nbformat_minor": 5
}
