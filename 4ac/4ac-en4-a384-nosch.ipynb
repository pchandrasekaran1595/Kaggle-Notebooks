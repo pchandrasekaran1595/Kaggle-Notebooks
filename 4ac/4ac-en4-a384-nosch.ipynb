{
 "cells": [
  {
   "cell_type": "markdown",
   "id": "33b024cb",
   "metadata": {
    "_cell_guid": "b1076dfc-b9ad-4769-8c92-a6c4dae69d19",
    "_uuid": "8f2839f25d086af736a60e9eeb907d3b93b6e0e5",
    "papermill": {
     "duration": 0.007681,
     "end_time": "2022-09-24T10:50:27.053658",
     "exception": false,
     "start_time": "2022-09-24T10:50:27.045977",
     "status": "completed"
    },
    "tags": []
   },
   "source": [
    "### **Setup**"
   ]
  },
  {
   "cell_type": "code",
   "execution_count": 1,
   "id": "0b7eb2ec",
   "metadata": {
    "execution": {
     "iopub.execute_input": "2022-09-24T10:50:27.065170Z",
     "iopub.status.busy": "2022-09-24T10:50:27.064595Z",
     "iopub.status.idle": "2022-09-24T10:50:37.636045Z",
     "shell.execute_reply": "2022-09-24T10:50:37.634602Z"
    },
    "papermill": {
     "duration": 10.580332,
     "end_time": "2022-09-24T10:50:37.638369",
     "exception": false,
     "start_time": "2022-09-24T10:50:27.058037",
     "status": "completed"
    },
    "tags": []
   },
   "outputs": [
    {
     "name": "stderr",
     "output_type": "stream",
     "text": [
      "WARNING: Running pip as the 'root' user can result in broken permissions and conflicting behaviour with the system package manager. It is recommended to use a virtual environment instead: https://pip.pypa.io/warnings/venv\n"
     ]
    }
   ],
   "source": [
    "%%bash\n",
    "pip install timm -q"
   ]
  },
  {
   "cell_type": "markdown",
   "id": "ec5a5b1f",
   "metadata": {
    "papermill": {
     "duration": 0.003706,
     "end_time": "2022-09-24T10:50:37.646316",
     "exception": false,
     "start_time": "2022-09-24T10:50:37.642610",
     "status": "completed"
    },
    "tags": []
   },
   "source": [
    "### **Library Imports**"
   ]
  },
  {
   "cell_type": "code",
   "execution_count": 2,
   "id": "ad9e06e3",
   "metadata": {
    "execution": {
     "iopub.execute_input": "2022-09-24T10:50:37.655738Z",
     "iopub.status.busy": "2022-09-24T10:50:37.655393Z",
     "iopub.status.idle": "2022-09-24T10:50:41.739336Z",
     "shell.execute_reply": "2022-09-24T10:50:41.737956Z"
    },
    "papermill": {
     "duration": 4.091999,
     "end_time": "2022-09-24T10:50:41.742226",
     "exception": false,
     "start_time": "2022-09-24T10:50:37.650227",
     "status": "completed"
    },
    "tags": []
   },
   "outputs": [],
   "source": [
    "import os\n",
    "import re\n",
    "import cv2\n",
    "import timm\n",
    "import torch\n",
    "import numpy as np\n",
    "import pandas as pd\n",
    "import matplotlib.pyplot as plt\n",
    "\n",
    "from time import time\n",
    "from torch import nn, optim\n",
    "from torch.utils.data import Dataset\n",
    "from torch.utils.data import DataLoader as DL\n",
    "from torchvision import models, transforms\n",
    "\n",
    "from sklearn.model_selection import StratifiedKFold"
   ]
  },
  {
   "cell_type": "markdown",
   "id": "96641bde",
   "metadata": {
    "papermill": {
     "duration": 0.005805,
     "end_time": "2022-09-24T10:50:41.755019",
     "exception": false,
     "start_time": "2022-09-24T10:50:41.749214",
     "status": "completed"
    },
    "tags": []
   },
   "source": [
    "### **Utilities and Helpers**"
   ]
  },
  {
   "cell_type": "code",
   "execution_count": 3,
   "id": "c8d7cd12",
   "metadata": {
    "execution": {
     "iopub.execute_input": "2022-09-24T10:50:41.769374Z",
     "iopub.status.busy": "2022-09-24T10:50:41.768509Z",
     "iopub.status.idle": "2022-09-24T10:50:41.787355Z",
     "shell.execute_reply": "2022-09-24T10:50:41.786570Z"
    },
    "papermill": {
     "duration": 0.028703,
     "end_time": "2022-09-24T10:50:41.789788",
     "exception": false,
     "start_time": "2022-09-24T10:50:41.761085",
     "status": "completed"
    },
    "tags": []
   },
   "outputs": [],
   "source": [
    "SEED = 42\n",
    "SIZE = 384\n",
    "\n",
    "\n",
    "def breaker(num: int=50, char: str=\"*\") -> None:\n",
    "    print(\"\\n\" + num*char + \"\\n\")\n",
    "\n",
    "    \n",
    "def get_image(path: str, size: int=224) -> np.ndarray:\n",
    "    image = cv2.imread(path, cv2.IMREAD_COLOR)\n",
    "    image = cv2.cvtColor(src=image, code=cv2.COLOR_BGR2RGB)\n",
    "    return cv2.resize(src=image, dsize=(size, size), interpolation=cv2.INTER_AREA)\n",
    "\n",
    "\n",
    "def show_loss_graphs(L: list) -> None:\n",
    "    TL, VL = [], []\n",
    "    for i in range(len(L)):\n",
    "        TL.append(L[i][\"train\"])\n",
    "        VL.append(L[i][\"valid\"])\n",
    "    x_Axis = np.arange(1, len(TL) + 1)\n",
    "    plt.figure()\n",
    "    plt.plot(x_Axis, TL, \"r\", label=\"Train\")\n",
    "    plt.plot(x_Axis, VL, \"b\", label=\"Valid\")\n",
    "    plt.legend()\n",
    "    plt.grid()\n",
    "    plt.title(\"Loss Graph\")\n",
    "    plt.show()\n",
    "\n",
    "    \n",
    "def show_accuracy_graphs(A: list) -> None:\n",
    "    TA, VA = [], []\n",
    "    for i in range(len(A)):\n",
    "        TA.append(A[i][\"train\"])\n",
    "        VA.append(A[i][\"valid\"])\n",
    "    x_Axis = np.arange(1, len(TA) + 1)\n",
    "    plt.figure()\n",
    "    plt.plot(x_Axis, TA, \"r\", label=\"Train\")\n",
    "    plt.plot(x_Axis, VA, \"b\", label=\"Valid\")\n",
    "    plt.legend()\n",
    "    plt.grid()\n",
    "    plt.title(\"Accuracy Graph\")\n",
    "    plt.show()\n",
    "    \n",
    "\n",
    "def show_lr_graph(LR: list) -> None:\n",
    "    x_Axis = [i+1 for i in range(len(LR))]\n",
    "    plt.figure(figsize=(8, 6))\n",
    "    plt.plot(x_Axis, LR, \"rx\")\n",
    "    plt.grid()\n",
    "    plt.show()"
   ]
  },
  {
   "cell_type": "markdown",
   "id": "832045fd",
   "metadata": {
    "papermill": {
     "duration": 0.005932,
     "end_time": "2022-09-24T10:50:41.802176",
     "exception": false,
     "start_time": "2022-09-24T10:50:41.796244",
     "status": "completed"
    },
    "tags": []
   },
   "source": [
    "### **Configuration**"
   ]
  },
  {
   "cell_type": "code",
   "execution_count": 4,
   "id": "6f3e38ed",
   "metadata": {
    "execution": {
     "iopub.execute_input": "2022-09-24T10:50:41.815631Z",
     "iopub.status.busy": "2022-09-24T10:50:41.815296Z",
     "iopub.status.idle": "2022-09-24T10:50:41.898953Z",
     "shell.execute_reply": "2022-09-24T10:50:41.897981Z"
    },
    "papermill": {
     "duration": 0.0938,
     "end_time": "2022-09-24T10:50:41.902037",
     "exception": false,
     "start_time": "2022-09-24T10:50:41.808237",
     "status": "completed"
    },
    "tags": []
   },
   "outputs": [],
   "source": [
    "class CFG(object):\n",
    "    def __init__(self, \n",
    "                 seed: int = 42,\n",
    "                 size: int = 224,\n",
    "                 n_splits: int = 5,\n",
    "                 batch_size: int = 16,\n",
    "                 epochs: int = 25,\n",
    "                 early_stopping: int = 5,\n",
    "                 lr: float = 1e-4,\n",
    "                 wd: float = 0.0,\n",
    "                 max_lr: float = 1e-3,\n",
    "                 pct_start: float = 0.2,\n",
    "                 steps_per_epoch: int = 100,\n",
    "                 div_factor: int = 1e3, \n",
    "                 final_div_factor: float = 1e3,\n",
    "                 ):\n",
    "        self.seed = seed\n",
    "        self.size = size\n",
    "        self.n_splits = n_splits\n",
    "        self.batch_size = batch_size\n",
    "        self.epochs = epochs\n",
    "        self.early_stopping = early_stopping\n",
    "        self.lr = lr\n",
    "        self.wd = wd\n",
    "        self.max_lr = max_lr\n",
    "        self.pct_start = pct_start\n",
    "        self.steps_per_epoch = steps_per_epoch\n",
    "        self.div_factor = div_factor\n",
    "        self.final_div_factor = final_div_factor\n",
    "        self.device = torch.device(\"cuda\" if torch.cuda.is_available() else \"cpu\")\n",
    "        self.train_transform = transforms.Compose([\n",
    "            transforms.ToTensor(),\n",
    "            transforms.Normalize([0.48805, 0.46218, 0.38043], [0.21471, 0.21141, 0.21124]),\n",
    "            transforms.RandomAffine(degrees=(-45, 45), translate=(0.15, 0.15), scale=(0.5, 1.5)),\n",
    "            transforms.RandomHorizontalFlip(p=0.25),\n",
    "            transforms.RandomVerticalFlip(p=0.25),\n",
    "        ])\n",
    "        self.valid_transform = transforms.Compose([\n",
    "            transforms.ToTensor(),\n",
    "            transforms.Normalize([0.48805, 0.46218, 0.38043], [0.21471, 0.21141, 0.21124]),\n",
    "        ])\n",
    "                                \n",
    "        self.save_path = \"saves\"\n",
    "        if not os.path.exists(self.save_path): os.makedirs(self.save_path)\n",
    "    \n",
    "cfg = CFG(seed=SEED, size=SIZE)"
   ]
  },
  {
   "cell_type": "markdown",
   "id": "da166dba",
   "metadata": {
    "papermill": {
     "duration": 0.0064,
     "end_time": "2022-09-24T10:50:41.915793",
     "exception": false,
     "start_time": "2022-09-24T10:50:41.909393",
     "status": "completed"
    },
    "tags": []
   },
   "source": [
    "### **Dataset Template**"
   ]
  },
  {
   "cell_type": "code",
   "execution_count": 5,
   "id": "0234a678",
   "metadata": {
    "execution": {
     "iopub.execute_input": "2022-09-24T10:50:41.930120Z",
     "iopub.status.busy": "2022-09-24T10:50:41.929804Z",
     "iopub.status.idle": "2022-09-24T10:50:41.937310Z",
     "shell.execute_reply": "2022-09-24T10:50:41.936349Z"
    },
    "papermill": {
     "duration": 0.015153,
     "end_time": "2022-09-24T10:50:41.939397",
     "exception": false,
     "start_time": "2022-09-24T10:50:41.924244",
     "status": "completed"
    },
    "tags": []
   },
   "outputs": [],
   "source": [
    "class DS(Dataset):\n",
    "    def __init__(\n",
    "        self, \n",
    "        base_path: str,\n",
    "        filenames: np.ndarray, \n",
    "        folder_names: np.ndarray, \n",
    "        labels: np.ndarray, \n",
    "        size: int,\n",
    "        transform=None):\n",
    "        \n",
    "        self.base_path = base_path\n",
    "        self.filenames = filenames\n",
    "        self.folder_names = folder_names\n",
    "        self.labels = labels\n",
    "        self.size = size\n",
    "        self.transform = transform\n",
    "    \n",
    "    def __len__(self):\n",
    "        return self.filenames.shape[0]\n",
    "    \n",
    "    def __getitem__(self, idx):\n",
    "        path = os.path.join(os.path.join(self.base_path, self.folder_names[idx]), self.filenames[idx])\n",
    "        image = get_image(path, self.size)\n",
    "        return self.transform(image), self.labels[idx]"
   ]
  },
  {
   "cell_type": "code",
   "execution_count": 6,
   "id": "7b12b311",
   "metadata": {
    "execution": {
     "iopub.execute_input": "2022-09-24T10:50:41.949583Z",
     "iopub.status.busy": "2022-09-24T10:50:41.949276Z",
     "iopub.status.idle": "2022-09-24T10:50:41.953798Z",
     "shell.execute_reply": "2022-09-24T10:50:41.952721Z"
    },
    "papermill": {
     "duration": 0.012291,
     "end_time": "2022-09-24T10:50:41.956237",
     "exception": false,
     "start_time": "2022-09-24T10:50:41.943946",
     "status": "completed"
    },
    "tags": []
   },
   "outputs": [],
   "source": [
    "# class DS(Dataset):\n",
    "#     def __init__(\n",
    "#         self, \n",
    "#         base_path: str,\n",
    "#         filenames: np.ndarray, \n",
    "#         size: int,\n",
    "#         transform=None):\n",
    "        \n",
    "#         self.base_path = base_path\n",
    "#         self.filenames = filenames\n",
    "#         self.size = size\n",
    "#         self.transform = transform\n",
    "    \n",
    "#     def __len__(self):\n",
    "#         return self.filenames.shape[0]\n",
    "    \n",
    "#     def __getitem__(self, idx):\n",
    "#         path = os.path.join(self.base_path, str(self.filenames[idx]) + \".jpg\")\n",
    "#         image = get_image(path, self.size)\n",
    "#         return self.transform(image)"
   ]
  },
  {
   "cell_type": "markdown",
   "id": "4108ef4d",
   "metadata": {
    "papermill": {
     "duration": 0.004078,
     "end_time": "2022-09-24T10:50:41.964712",
     "exception": false,
     "start_time": "2022-09-24T10:50:41.960634",
     "status": "completed"
    },
    "tags": []
   },
   "source": [
    "### **Model**"
   ]
  },
  {
   "cell_type": "code",
   "execution_count": 7,
   "id": "1de0282b",
   "metadata": {
    "execution": {
     "iopub.execute_input": "2022-09-24T10:50:41.973861Z",
     "iopub.status.busy": "2022-09-24T10:50:41.973596Z",
     "iopub.status.idle": "2022-09-24T10:50:41.980818Z",
     "shell.execute_reply": "2022-09-24T10:50:41.980026Z"
    },
    "papermill": {
     "duration": 0.014068,
     "end_time": "2022-09-24T10:50:41.982833",
     "exception": false,
     "start_time": "2022-09-24T10:50:41.968765",
     "status": "completed"
    },
    "tags": []
   },
   "outputs": [],
   "source": [
    "class Model(nn.Module):\n",
    "    def __init__(self):\n",
    "        super(Model, self).__init__()\n",
    "            \n",
    "        self.model = timm.create_model(model_name=\"efficientnet_b4\", pretrained=True)\n",
    "        self.model.classifier = nn.Linear(in_features=self.model.classifier.in_features, out_features=11)\n",
    "            \n",
    "    def freeze(self):\n",
    "        for params in self.parameters(): params.requires_grad = False\n",
    "\n",
    "    def forward(self, x):\n",
    "        return nn.LogSoftmax(dim=1)(self.model(x))"
   ]
  },
  {
   "cell_type": "markdown",
   "id": "34cfa75a",
   "metadata": {
    "papermill": {
     "duration": 0.003909,
     "end_time": "2022-09-24T10:50:41.990874",
     "exception": false,
     "start_time": "2022-09-24T10:50:41.986965",
     "status": "completed"
    },
    "tags": []
   },
   "source": [
    "### **Fit and Predict**"
   ]
  },
  {
   "cell_type": "code",
   "execution_count": 8,
   "id": "a5a7b43d",
   "metadata": {
    "execution": {
     "iopub.execute_input": "2022-09-24T10:50:42.000325Z",
     "iopub.status.busy": "2022-09-24T10:50:42.000034Z",
     "iopub.status.idle": "2022-09-24T10:50:42.022172Z",
     "shell.execute_reply": "2022-09-24T10:50:42.021279Z"
    },
    "papermill": {
     "duration": 0.029511,
     "end_time": "2022-09-24T10:50:42.024425",
     "exception": false,
     "start_time": "2022-09-24T10:50:41.994914",
     "status": "completed"
    },
    "tags": []
   },
   "outputs": [],
   "source": [
    "def fit(model=None,\n",
    "        optimizer=None, \n",
    "        scheduler_rlrop=None,\n",
    "        scheduler_oclr=None,\n",
    "        epochs=None, \n",
    "        early_stopping_patience=None, \n",
    "        dataloaders=None, \n",
    "        fold=None, \n",
    "        save_path=None,\n",
    "        device=None,\n",
    "        verbose=False) -> tuple:\n",
    "    \n",
    "    def get_accuracy(y_pred, y_true):\n",
    "        y_pred = torch.argmax(y_pred, dim=1)\n",
    "        return torch.count_nonzero(y_pred == y_true).item() / len(y_pred)\n",
    "    \n",
    "    if verbose:\n",
    "        breaker()\n",
    "        if fold: print(f\"Training Fold {fold}...\")\n",
    "        else: print(\"Training ...\")\n",
    "        breaker()\n",
    "        \n",
    "    bestLoss: dict = {\"train\" : np.inf, \"valid\" : np.inf} \n",
    "    bestAccs: dict = {\"train\" : 0.0, \"valid\" : 0.0}\n",
    "        \n",
    "    Losses: list = []\n",
    "    Accuracies: list = [] \n",
    "    LRs: list = []\n",
    "        \n",
    "    if fold: \n",
    "        ble_name = f\"ble_state_fold_{fold}.pt\"\n",
    "        bae_name = f\"bae_state_fold_{fold}.pt\"\n",
    "    else: \n",
    "        ble_name = f\"ble_state.pt\"\n",
    "        bae_name = f\"bae_state.pt\"\n",
    "    \n",
    "    start_time = time()\n",
    "    for e in range(epochs):\n",
    "        e_st = time()\n",
    "        epochLoss: dict = {\"train\" : 0.0, \"valid\" : 0.0} \n",
    "        epochAccs: dict = {\"train\" : 0.0, \"valid\" : 0.0}\n",
    "\n",
    "        for phase in [\"train\", \"valid\"]:\n",
    "            if phase == \"train\":\n",
    "                model.train()\n",
    "            else:\n",
    "                model.eval()\n",
    "            \n",
    "            lossPerPass: list = []\n",
    "            accsPerPass: list = []\n",
    "                \n",
    "            for X, y in dataloaders[phase]:\n",
    "                X, y = X.to(device), y.to(device).view(-1)\n",
    "\n",
    "                optimizer.zero_grad()\n",
    "                with torch.set_grad_enabled(phase == \"train\"):\n",
    "                    output = model(X)\n",
    "                    loss = torch.nn.NLLLoss()(output, y)\n",
    "                    if phase == \"train\":\n",
    "                        loss.backward()\n",
    "                        optimizer.step()\n",
    "                        if scheduler_oclr: scheduler_oclr.step()\n",
    "                lossPerPass.append(loss.item())\n",
    "                accsPerPass.append(get_accuracy(output, y))\n",
    "            epochLoss[phase] = np.mean(np.array(lossPerPass))\n",
    "            epochAccs[phase] = np.mean(np.array(accsPerPass))\n",
    "        if scheduler_oclr: LRs.append(scheduler_oclr.get_last_lr())\n",
    "        Losses.append(epochLoss)\n",
    "        Accuracies.append(epochAccs)\n",
    "    \n",
    "        if scheduler_oclr:\n",
    "            save_dict = {\"model_state_dict\"     : model.state_dict(),\n",
    "                         \"optim_state_dict\"     : optimizer.state_dict(),\n",
    "                         \"scheduler_state_dict\" : scheduler_oclr.state_dict()}\n",
    "        \n",
    "        elif scheduler_rlrop:\n",
    "            save_dict = {\"model_state_dict\"     : model.state_dict(),\n",
    "                         \"optim_state_dict\"     : optimizer.state_dict(),\n",
    "                         \"scheduler_state_dict\" : scheduler_rlrop.state_dict()}\n",
    "        \n",
    "        else:\n",
    "            save_dict = {\"model_state_dict\"     : model.state_dict(),\n",
    "                         \"optim_state_dict\"     : optimizer.state_dict()}\n",
    "        \n",
    "        \n",
    "        if early_stopping_patience:\n",
    "            if epochLoss[\"valid\"] < bestLoss[\"valid\"]:\n",
    "                bestLoss = epochLoss\n",
    "                BLE = e + 1\n",
    "                torch.save(save_dict, os.path.join(save_path, ble_name))\n",
    "                torch.save(save_dict, os.path.join(save_path, bae_name))\n",
    "                early_stopping_step = 0\n",
    "            else:\n",
    "                early_stopping_step += 1\n",
    "                if early_stopping_step > early_stopping_patience:\n",
    "                    print(\"\\nEarly Stopping at Epoch {}\".format(e + 1))\n",
    "                    break\n",
    "        \n",
    "        if epochLoss[\"valid\"] < bestLoss[\"valid\"]:\n",
    "            bestLoss = epochLoss\n",
    "            BLE = e + 1\n",
    "            torch.save(save_dict,os.path.join(save_path, ble_name))\n",
    "        \n",
    "        if epochAccs[\"valid\"] > bestAccs[\"valid\"]:\n",
    "            bestAccs = epochAccs\n",
    "            BAE = e + 1\n",
    "            torch.save(save_dict,os.path.join(save_path, bae_name))\n",
    "        \n",
    "        if scheduler_rlrop: scheduler_rlrop.step(epochLoss[\"valid\"])\n",
    "        \n",
    "        if verbose:\n",
    "            print(\"Epoch: {} | Train Loss: {:.5f} | Valid Loss: {:.5f} |\\\n",
    " Train Accs: {:.5f} | Valid Accs: {:.5f} | Time: {:.2f} seconds\".format(e+1, \n",
    "                                                                        epochLoss[\"train\"], epochLoss[\"valid\"], \n",
    "                                                                        epochAccs[\"train\"], epochAccs[\"valid\"], \n",
    "                                                                        time()-e_st))\n",
    "\n",
    "    if verbose:                                           \n",
    "        breaker()\n",
    "        print(f\"Best Validation Loss at Epoch {BLE}\")\n",
    "        breaker()\n",
    "        print(f\"Best Validation Accs at Epoch {BAE}\")\n",
    "        breaker()\n",
    "        print(\"Time Taken [{} Epochs] : {:.2f} minutes\".format(len(Losses), (time()-start_time)/60))\n",
    "    \n",
    "    return Losses, Accuracies, LRs, BLE, BAE, ble_name, bae_name\n",
    "\n",
    "\n",
    "# def predict_batch(model=None, dataloader=None, path=None, device=None) -> np.ndarray:\n",
    "#     model.load_state_dict(torch.load(path, map_location=device)[\"model_state_dict\"])\n",
    "#     model.to(device)    \n",
    "#     model.eval()\n",
    "    \n",
    "#     y_pred = torch.zeros(1, 1).to(device)\n",
    "    \n",
    "#     for X in dataloader:\n",
    "#         X = X.to(device)\n",
    "#         with torch.no_grad():\n",
    "#             output = torch.argmax(torch.exp(model(X)), dim=1)\n",
    "#         y_pred = torch.cat((y_pred, output.view(-1, 1)), dim=0)\n",
    "    \n",
    "#     return y_pred[1:].detach().cpu().numpy()"
   ]
  },
  {
   "cell_type": "markdown",
   "id": "4866d304",
   "metadata": {
    "papermill": {
     "duration": 0.004303,
     "end_time": "2022-09-24T10:50:42.033246",
     "exception": false,
     "start_time": "2022-09-24T10:50:42.028943",
     "status": "completed"
    },
    "tags": []
   },
   "source": [
    "### **Train**"
   ]
  },
  {
   "cell_type": "code",
   "execution_count": 9,
   "id": "538204c8",
   "metadata": {
    "execution": {
     "iopub.execute_input": "2022-09-24T10:50:42.044054Z",
     "iopub.status.busy": "2022-09-24T10:50:42.043755Z",
     "iopub.status.idle": "2022-09-24T10:50:42.077492Z",
     "shell.execute_reply": "2022-09-24T10:50:42.076668Z"
    },
    "papermill": {
     "duration": 0.041993,
     "end_time": "2022-09-24T10:50:42.079752",
     "exception": false,
     "start_time": "2022-09-24T10:50:42.037759",
     "status": "completed"
    },
    "tags": []
   },
   "outputs": [],
   "source": [
    "df = pd.read_csv(\"../input/4ac-dataframe/data.csv\")\n",
    "\n",
    "filenames = df.filenames.copy().values\n",
    "folder_names = df.folder_names.copy().values\n",
    "labels = df.classes.copy().values"
   ]
  },
  {
   "cell_type": "code",
   "execution_count": 10,
   "id": "ef1a6ede",
   "metadata": {
    "execution": {
     "iopub.execute_input": "2022-09-24T10:50:42.090478Z",
     "iopub.status.busy": "2022-09-24T10:50:42.090210Z",
     "iopub.status.idle": "2022-09-24T13:50:38.614932Z",
     "shell.execute_reply": "2022-09-24T13:50:38.613799Z"
    },
    "papermill": {
     "duration": 10796.534241,
     "end_time": "2022-09-24T13:50:38.618330",
     "exception": false,
     "start_time": "2022-09-24T10:50:42.084089",
     "status": "completed"
    },
    "tags": []
   },
   "outputs": [
    {
     "name": "stderr",
     "output_type": "stream",
     "text": [
      "Downloading: \"https://github.com/rwightman/pytorch-image-models/releases/download/v0.1-weights/efficientnet_b4_ra2_320-7eb33cd5.pth\" to /root/.cache/torch/hub/checkpoints/efficientnet_b4_ra2_320-7eb33cd5.pth\n"
     ]
    },
    {
     "name": "stdout",
     "output_type": "stream",
     "text": [
      "\n",
      "**************************************************\n",
      "\n",
      "Training Fold 1...\n",
      "\n",
      "**************************************************\n",
      "\n",
      "Epoch: 1 | Train Loss: 1.30098 | Valid Loss: 0.18625 | Train Accs: 0.74777 | Valid Accs: 0.98750 | Time: 150.04 seconds\n",
      "Epoch: 2 | Train Loss: 0.19740 | Valid Loss: 0.03502 | Train Accs: 0.94063 | Valid Accs: 0.99464 | Time: 126.40 seconds\n",
      "Epoch: 3 | Train Loss: 0.11991 | Valid Loss: 0.03083 | Train Accs: 0.95937 | Valid Accs: 0.99464 | Time: 127.03 seconds\n",
      "Epoch: 4 | Train Loss: 0.08971 | Valid Loss: 0.02988 | Train Accs: 0.97143 | Valid Accs: 0.99464 | Time: 126.68 seconds\n",
      "Epoch: 5 | Train Loss: 0.07044 | Valid Loss: 0.02770 | Train Accs: 0.97768 | Valid Accs: 0.99107 | Time: 126.72 seconds\n",
      "Epoch: 6 | Train Loss: 0.05600 | Valid Loss: 0.02383 | Train Accs: 0.98259 | Valid Accs: 0.99286 | Time: 127.70 seconds\n",
      "Epoch: 7 | Train Loss: 0.05840 | Valid Loss: 0.03265 | Train Accs: 0.97991 | Valid Accs: 0.99286 | Time: 123.99 seconds\n",
      "Epoch: 8 | Train Loss: 0.05094 | Valid Loss: 0.03256 | Train Accs: 0.98259 | Valid Accs: 0.99107 | Time: 124.75 seconds\n",
      "Epoch: 9 | Train Loss: 0.03920 | Valid Loss: 0.03211 | Train Accs: 0.98795 | Valid Accs: 0.99464 | Time: 122.11 seconds\n",
      "Epoch: 10 | Train Loss: 0.03125 | Valid Loss: 0.02753 | Train Accs: 0.99062 | Valid Accs: 0.99286 | Time: 123.04 seconds\n",
      "Epoch: 11 | Train Loss: 0.03085 | Valid Loss: 0.02746 | Train Accs: 0.98973 | Valid Accs: 0.99286 | Time: 125.13 seconds\n",
      "\n",
      "Early Stopping at Epoch 12\n",
      "\n",
      "**************************************************\n",
      "\n",
      "Best Validation Loss at Epoch 6\n",
      "\n",
      "**************************************************\n",
      "\n",
      "Best Validation Accs at Epoch 2\n",
      "\n",
      "**************************************************\n",
      "\n",
      "Time Taken [12 Epochs] : 25.48 minutes\n",
      "\n",
      "**************************************************\n",
      "\n"
     ]
    },
    {
     "data": {
      "image/png": "[encoded data removed]",
      "text/plain": [
       "<Figure size 432x288 with 1 Axes>"
      ]
     },
     "metadata": {
      "needs_background": "light"
     },
     "output_type": "display_data"
    },
    {
     "name": "stdout",
     "output_type": "stream",
     "text": [
      "\n",
      "**************************************************\n",
      "\n"
     ]
    },
    {
     "data": {
      "image/png": "[encoded data removed]",
      "text/plain": [
       "<Figure size 432x288 with 1 Axes>"
      ]
     },
     "metadata": {
      "needs_background": "light"
     },
     "output_type": "display_data"
    },
    {
     "name": "stdout",
     "output_type": "stream",
     "text": [
      "\n",
      "**************************************************\n",
      "\n",
      "\n",
      "**************************************************\n",
      "\n",
      "Training Fold 2...\n",
      "\n",
      "**************************************************\n",
      "\n",
      "Epoch: 1 | Train Loss: 1.31047 | Valid Loss: 0.16904 | Train Accs: 0.74509 | Valid Accs: 0.99107 | Time: 124.55 seconds\n",
      "Epoch: 2 | Train Loss: 0.21035 | Valid Loss: 0.02992 | Train Accs: 0.94063 | Valid Accs: 0.99464 | Time: 125.14 seconds\n",
      "Epoch: 3 | Train Loss: 0.13160 | Valid Loss: 0.02025 | Train Accs: 0.95580 | Valid Accs: 0.99821 | Time: 125.24 seconds\n",
      "Epoch: 4 | Train Loss: 0.10713 | Valid Loss: 0.01639 | Train Accs: 0.96384 | Valid Accs: 1.00000 | Time: 124.57 seconds\n",
      "Epoch: 5 | Train Loss: 0.08802 | Valid Loss: 0.00925 | Train Accs: 0.97545 | Valid Accs: 0.99821 | Time: 123.11 seconds\n",
      "Epoch: 6 | Train Loss: 0.06185 | Valid Loss: 0.00880 | Train Accs: 0.97768 | Valid Accs: 1.00000 | Time: 124.13 seconds\n",
      "Epoch: 7 | Train Loss: 0.05068 | Valid Loss: 0.00896 | Train Accs: 0.98393 | Valid Accs: 1.00000 | Time: 123.20 seconds\n",
      "Epoch: 8 | Train Loss: 0.05188 | Valid Loss: 0.01692 | Train Accs: 0.98080 | Valid Accs: 0.99286 | Time: 123.51 seconds\n",
      "Epoch: 9 | Train Loss: 0.04833 | Valid Loss: 0.01216 | Train Accs: 0.98348 | Valid Accs: 0.99821 | Time: 123.62 seconds\n",
      "Epoch: 10 | Train Loss: 0.03379 | Valid Loss: 0.00608 | Train Accs: 0.99018 | Valid Accs: 0.99821 | Time: 124.23 seconds\n",
      "Epoch: 11 | Train Loss: 0.03882 | Valid Loss: 0.00543 | Train Accs: 0.98929 | Valid Accs: 1.00000 | Time: 123.97 seconds\n",
      "Epoch: 12 | Train Loss: 0.03445 | Valid Loss: 0.00811 | Train Accs: 0.98973 | Valid Accs: 0.99821 | Time: 123.08 seconds\n",
      "Epoch: 13 | Train Loss: 0.02254 | Valid Loss: 0.00749 | Train Accs: 0.99375 | Valid Accs: 0.99821 | Time: 122.69 seconds\n",
      "Epoch: 14 | Train Loss: 0.02018 | Valid Loss: 0.01058 | Train Accs: 0.99286 | Valid Accs: 0.99464 | Time: 120.65 seconds\n",
      "Epoch: 15 | Train Loss: 0.02572 | Valid Loss: 0.01082 | Train Accs: 0.99018 | Valid Accs: 0.99821 | Time: 118.97 seconds\n",
      "Epoch: 16 | Train Loss: 0.02409 | Valid Loss: 0.01388 | Train Accs: 0.99241 | Valid Accs: 0.99286 | Time: 118.26 seconds\n",
      "\n",
      "Early Stopping at Epoch 17\n",
      "\n",
      "**************************************************\n",
      "\n",
      "Best Validation Loss at Epoch 11\n",
      "\n",
      "**************************************************\n",
      "\n",
      "Best Validation Accs at Epoch 4\n",
      "\n",
      "**************************************************\n",
      "\n",
      "Time Taken [17 Epochs] : 34.78 minutes\n",
      "\n",
      "**************************************************\n",
      "\n"
     ]
    },
    {
     "data": {
      "image/png": "[encoded data removed]",
      "text/plain": [
       "<Figure size 432x288 with 1 Axes>"
      ]
     },
     "metadata": {
      "needs_background": "light"
     },
     "output_type": "display_data"
    },
    {
     "name": "stdout",
     "output_type": "stream",
     "text": [
      "\n",
      "**************************************************\n",
      "\n"
     ]
    },
    {
     "data": {
      "image/png": "[encoded data removed]",
      "text/plain": [
       "<Figure size 432x288 with 1 Axes>"
      ]
     },
     "metadata": {
      "needs_background": "light"
     },
     "output_type": "display_data"
    },
    {
     "name": "stdout",
     "output_type": "stream",
     "text": [
      "\n",
      "**************************************************\n",
      "\n",
      "\n",
      "**************************************************\n",
      "\n",
      "Training Fold 3...\n",
      "\n",
      "**************************************************\n",
      "\n",
      "Epoch: 1 | Train Loss: 1.31121 | Valid Loss: 0.19041 | Train Accs: 0.74554 | Valid Accs: 0.98929 | Time: 120.47 seconds\n",
      "Epoch: 2 | Train Loss: 0.21439 | Valid Loss: 0.04454 | Train Accs: 0.94107 | Valid Accs: 0.99107 | Time: 121.64 seconds\n",
      "Epoch: 3 | Train Loss: 0.11091 | Valid Loss: 0.03118 | Train Accs: 0.96384 | Valid Accs: 0.99286 | Time: 120.42 seconds\n",
      "Epoch: 4 | Train Loss: 0.11170 | Valid Loss: 0.02809 | Train Accs: 0.95759 | Valid Accs: 0.99286 | Time: 120.26 seconds\n",
      "Epoch: 5 | Train Loss: 0.08011 | Valid Loss: 0.02069 | Train Accs: 0.97455 | Valid Accs: 0.99464 | Time: 120.62 seconds\n",
      "Epoch: 6 | Train Loss: 0.05663 | Valid Loss: 0.02445 | Train Accs: 0.98036 | Valid Accs: 0.99286 | Time: 119.47 seconds\n",
      "Epoch: 7 | Train Loss: 0.06247 | Valid Loss: 0.02042 | Train Accs: 0.97902 | Valid Accs: 0.99286 | Time: 119.89 seconds\n",
      "Epoch: 8 | Train Loss: 0.05295 | Valid Loss: 0.02378 | Train Accs: 0.98259 | Valid Accs: 0.99464 | Time: 119.17 seconds\n",
      "Epoch: 9 | Train Loss: 0.03179 | Valid Loss: 0.02832 | Train Accs: 0.99062 | Valid Accs: 0.99464 | Time: 118.90 seconds\n",
      "Epoch: 10 | Train Loss: 0.03389 | Valid Loss: 0.01609 | Train Accs: 0.99018 | Valid Accs: 0.99464 | Time: 119.80 seconds\n",
      "Epoch: 11 | Train Loss: 0.03655 | Valid Loss: 0.02442 | Train Accs: 0.98616 | Valid Accs: 0.99107 | Time: 119.22 seconds\n",
      "Epoch: 12 | Train Loss: 0.03391 | Valid Loss: 0.01510 | Train Accs: 0.98750 | Valid Accs: 0.99464 | Time: 119.99 seconds\n",
      "Epoch: 13 | Train Loss: 0.02424 | Valid Loss: 0.02349 | Train Accs: 0.99286 | Valid Accs: 0.99464 | Time: 119.64 seconds\n",
      "Epoch: 14 | Train Loss: 0.02420 | Valid Loss: 0.02598 | Train Accs: 0.99241 | Valid Accs: 0.99464 | Time: 119.85 seconds\n",
      "Epoch: 15 | Train Loss: 0.01838 | Valid Loss: 0.01935 | Train Accs: 0.99554 | Valid Accs: 0.99464 | Time: 118.97 seconds\n",
      "Epoch: 16 | Train Loss: 0.02306 | Valid Loss: 0.01638 | Train Accs: 0.99420 | Valid Accs: 0.99464 | Time: 118.61 seconds\n",
      "Epoch: 17 | Train Loss: 0.01007 | Valid Loss: 0.01402 | Train Accs: 0.99777 | Valid Accs: 0.99464 | Time: 119.17 seconds\n",
      "Epoch: 18 | Train Loss: 0.02238 | Valid Loss: 0.02273 | Train Accs: 0.99375 | Valid Accs: 0.99286 | Time: 118.59 seconds\n",
      "Epoch: 19 | Train Loss: 0.01008 | Valid Loss: 0.03133 | Train Accs: 0.99732 | Valid Accs: 0.99286 | Time: 122.52 seconds\n",
      "Epoch: 20 | Train Loss: 0.02031 | Valid Loss: 0.01966 | Train Accs: 0.99375 | Valid Accs: 0.99286 | Time: 119.00 seconds\n",
      "Epoch: 21 | Train Loss: 0.01935 | Valid Loss: 0.02273 | Train Accs: 0.99330 | Valid Accs: 0.99286 | Time: 119.59 seconds\n",
      "Epoch: 22 | Train Loss: 0.02443 | Valid Loss: 0.02250 | Train Accs: 0.99375 | Valid Accs: 0.99464 | Time: 118.33 seconds\n",
      "Epoch: 23 | Train Loss: 0.01456 | Valid Loss: 0.01210 | Train Accs: 0.99598 | Valid Accs: 0.99643 | Time: 120.63 seconds\n",
      "Epoch: 24 | Train Loss: 0.01179 | Valid Loss: 0.02360 | Train Accs: 0.99598 | Valid Accs: 0.98929 | Time: 119.98 seconds\n",
      "Epoch: 25 | Train Loss: 0.01372 | Valid Loss: 0.01341 | Train Accs: 0.99509 | Valid Accs: 0.99643 | Time: 119.52 seconds\n",
      "\n",
      "**************************************************\n",
      "\n",
      "Best Validation Loss at Epoch 23\n",
      "\n",
      "**************************************************\n",
      "\n",
      "Best Validation Accs at Epoch 23\n",
      "\n",
      "**************************************************\n",
      "\n",
      "Time Taken [25 Epochs] : 49.90 minutes\n",
      "\n",
      "**************************************************\n",
      "\n"
     ]
    },
    {
     "data": {
      "image/png": "[encoded data removed]",
      "text/plain": [
       "<Figure size 432x288 with 1 Axes>"
      ]
     },
     "metadata": {
      "needs_background": "light"
     },
     "output_type": "display_data"
    },
    {
     "name": "stdout",
     "output_type": "stream",
     "text": [
      "\n",
      "**************************************************\n",
      "\n"
     ]
    },
    {
     "data": {
      "image/png": "[encoded data removed]",
      "text/plain": [
       "<Figure size 432x288 with 1 Axes>"
      ]
     },
     "metadata": {
      "needs_background": "light"
     },
     "output_type": "display_data"
    },
    {
     "name": "stdout",
     "output_type": "stream",
     "text": [
      "\n",
      "**************************************************\n",
      "\n",
      "\n",
      "**************************************************\n",
      "\n",
      "Training Fold 4...\n",
      "\n",
      "**************************************************\n",
      "\n",
      "Epoch: 1 | Train Loss: 1.30501 | Valid Loss: 0.17372 | Train Accs: 0.75045 | Valid Accs: 0.98750 | Time: 120.23 seconds\n",
      "Epoch: 2 | Train Loss: 0.21155 | Valid Loss: 0.03745 | Train Accs: 0.94018 | Valid Accs: 0.98929 | Time: 121.39 seconds\n",
      "Epoch: 3 | Train Loss: 0.12004 | Valid Loss: 0.02137 | Train Accs: 0.96384 | Valid Accs: 0.99821 | Time: 120.46 seconds\n",
      "Epoch: 4 | Train Loss: 0.11695 | Valid Loss: 0.01676 | Train Accs: 0.96205 | Valid Accs: 0.99464 | Time: 119.57 seconds\n",
      "Epoch: 5 | Train Loss: 0.07815 | Valid Loss: 0.01406 | Train Accs: 0.97500 | Valid Accs: 0.99821 | Time: 120.23 seconds\n",
      "Epoch: 6 | Train Loss: 0.05676 | Valid Loss: 0.01189 | Train Accs: 0.98170 | Valid Accs: 0.99643 | Time: 120.93 seconds\n",
      "Epoch: 7 | Train Loss: 0.05643 | Valid Loss: 0.01978 | Train Accs: 0.98036 | Valid Accs: 0.99643 | Time: 118.56 seconds\n",
      "Epoch: 8 | Train Loss: 0.04931 | Valid Loss: 0.01199 | Train Accs: 0.98527 | Valid Accs: 0.99821 | Time: 117.38 seconds\n",
      "Epoch: 9 | Train Loss: 0.03487 | Valid Loss: 0.00618 | Train Accs: 0.98884 | Valid Accs: 0.99821 | Time: 119.23 seconds\n",
      "Epoch: 10 | Train Loss: 0.03920 | Valid Loss: 0.01599 | Train Accs: 0.99062 | Valid Accs: 0.99643 | Time: 118.02 seconds\n",
      "Epoch: 11 | Train Loss: 0.03078 | Valid Loss: 0.01618 | Train Accs: 0.98973 | Valid Accs: 0.99643 | Time: 118.58 seconds\n",
      "Epoch: 12 | Train Loss: 0.02565 | Valid Loss: 0.01471 | Train Accs: 0.99062 | Valid Accs: 0.99643 | Time: 117.33 seconds\n",
      "Epoch: 13 | Train Loss: 0.02949 | Valid Loss: 0.01228 | Train Accs: 0.99107 | Valid Accs: 0.99643 | Time: 118.40 seconds\n",
      "Epoch: 14 | Train Loss: 0.02577 | Valid Loss: 0.01476 | Train Accs: 0.99241 | Valid Accs: 0.99643 | Time: 118.08 seconds\n",
      "\n",
      "Early Stopping at Epoch 15\n",
      "\n",
      "**************************************************\n",
      "\n",
      "Best Validation Loss at Epoch 9\n",
      "\n",
      "**************************************************\n",
      "\n",
      "Best Validation Accs at Epoch 3\n",
      "\n",
      "**************************************************\n",
      "\n",
      "Time Taken [15 Epochs] : 29.77 minutes\n",
      "\n",
      "**************************************************\n",
      "\n"
     ]
    },
    {
     "data": {
      "image/png": "[encoded data removed]",
      "text/plain": [
       "<Figure size 432x288 with 1 Axes>"
      ]
     },
     "metadata": {
      "needs_background": "light"
     },
     "output_type": "display_data"
    },
    {
     "name": "stdout",
     "output_type": "stream",
     "text": [
      "\n",
      "**************************************************\n",
      "\n"
     ]
    },
    {
     "data": {
      "image/png": "[encoded data removed]",
      "text/plain": [
       "<Figure size 432x288 with 1 Axes>"
      ]
     },
     "metadata": {
      "needs_background": "light"
     },
     "output_type": "display_data"
    },
    {
     "name": "stdout",
     "output_type": "stream",
     "text": [
      "\n",
      "**************************************************\n",
      "\n",
      "\n",
      "**************************************************\n",
      "\n",
      "Training Fold 5...\n",
      "\n",
      "**************************************************\n",
      "\n",
      "Epoch: 1 | Train Loss: 1.30561 | Valid Loss: 0.21055 | Train Accs: 0.74821 | Valid Accs: 0.97500 | Time: 118.55 seconds\n",
      "Epoch: 2 | Train Loss: 0.20801 | Valid Loss: 0.05312 | Train Accs: 0.93973 | Valid Accs: 0.98393 | Time: 120.29 seconds\n",
      "Epoch: 3 | Train Loss: 0.13572 | Valid Loss: 0.05619 | Train Accs: 0.95804 | Valid Accs: 0.98393 | Time: 118.35 seconds\n",
      "Epoch: 4 | Train Loss: 0.09585 | Valid Loss: 0.04793 | Train Accs: 0.97009 | Valid Accs: 0.98750 | Time: 120.50 seconds\n",
      "Epoch: 5 | Train Loss: 0.07198 | Valid Loss: 0.04213 | Train Accs: 0.97679 | Valid Accs: 0.98036 | Time: 120.29 seconds\n",
      "Epoch: 6 | Train Loss: 0.05457 | Valid Loss: 0.04239 | Train Accs: 0.98214 | Valid Accs: 0.98750 | Time: 119.90 seconds\n",
      "Epoch: 7 | Train Loss: 0.05716 | Valid Loss: 0.04059 | Train Accs: 0.98170 | Valid Accs: 0.98571 | Time: 119.70 seconds\n",
      "Epoch: 8 | Train Loss: 0.04168 | Valid Loss: 0.04351 | Train Accs: 0.98839 | Valid Accs: 0.98929 | Time: 119.14 seconds\n",
      "Epoch: 9 | Train Loss: 0.04299 | Valid Loss: 0.03923 | Train Accs: 0.98616 | Valid Accs: 0.98750 | Time: 119.43 seconds\n",
      "Epoch: 10 | Train Loss: 0.03184 | Valid Loss: 0.03793 | Train Accs: 0.98929 | Valid Accs: 0.98929 | Time: 120.03 seconds\n",
      "Epoch: 11 | Train Loss: 0.03185 | Valid Loss: 0.04956 | Train Accs: 0.98973 | Valid Accs: 0.98393 | Time: 119.13 seconds\n",
      "Epoch: 12 | Train Loss: 0.02798 | Valid Loss: 0.03622 | Train Accs: 0.99062 | Valid Accs: 0.99107 | Time: 119.59 seconds\n",
      "Epoch: 13 | Train Loss: 0.02802 | Valid Loss: 0.04533 | Train Accs: 0.99152 | Valid Accs: 0.98571 | Time: 119.19 seconds\n",
      "Epoch: 14 | Train Loss: 0.01685 | Valid Loss: 0.03600 | Train Accs: 0.99598 | Valid Accs: 0.99107 | Time: 119.94 seconds\n",
      "Epoch: 15 | Train Loss: 0.02409 | Valid Loss: 0.03614 | Train Accs: 0.99286 | Valid Accs: 0.98750 | Time: 118.27 seconds\n",
      "Epoch: 16 | Train Loss: 0.01917 | Valid Loss: 0.03653 | Train Accs: 0.99464 | Valid Accs: 0.99107 | Time: 118.10 seconds\n",
      "Epoch: 17 | Train Loss: 0.01438 | Valid Loss: 0.04094 | Train Accs: 0.99598 | Valid Accs: 0.98929 | Time: 118.22 seconds\n",
      "Epoch: 18 | Train Loss: 0.02155 | Valid Loss: 0.04436 | Train Accs: 0.99330 | Valid Accs: 0.98571 | Time: 119.87 seconds\n",
      "Epoch: 19 | Train Loss: 0.01515 | Valid Loss: 0.04066 | Train Accs: 0.99420 | Valid Accs: 0.99107 | Time: 120.17 seconds\n",
      "\n",
      "Early Stopping at Epoch 20\n",
      "\n",
      "**************************************************\n",
      "\n",
      "Best Validation Loss at Epoch 14\n",
      "\n",
      "**************************************************\n",
      "\n",
      "Best Validation Accs at Epoch 12\n",
      "\n",
      "**************************************************\n",
      "\n",
      "Time Taken [20 Epochs] : 39.82 minutes\n",
      "\n",
      "**************************************************\n",
      "\n"
     ]
    },
    {
     "data": {
      "image/png": "[encoded data removed]",
      "text/plain": [
       "<Figure size 432x288 with 1 Axes>"
      ]
     },
     "metadata": {
      "needs_background": "light"
     },
     "output_type": "display_data"
    },
    {
     "name": "stdout",
     "output_type": "stream",
     "text": [
      "\n",
      "**************************************************\n",
      "\n"
     ]
    },
    {
     "data": {
      "image/png": "[encoded data removed]",
      "text/plain": [
       "<Figure size 432x288 with 1 Axes>"
      ]
     },
     "metadata": {
      "needs_background": "light"
     },
     "output_type": "display_data"
    },
    {
     "name": "stdout",
     "output_type": "stream",
     "text": [
      "\n",
      "**************************************************\n",
      "\n"
     ]
    }
   ],
   "source": [
    "fold: int = 1\n",
    "BLEs: list = []\n",
    "BAEs: list = []\n",
    "    \n",
    "for tr_idx, va_idx in StratifiedKFold(n_splits=cfg.n_splits, random_state=cfg.seed, shuffle=True).split(filenames, labels):\n",
    "\n",
    "    tr_filenames, va_filenames       = filenames[tr_idx], filenames[va_idx] \n",
    "    tr_folder_names, va_folder_names = folder_names[tr_idx], folder_names[va_idx] \n",
    "    tr_labels, va_labels             = labels[tr_idx], labels[va_idx]\n",
    "    \n",
    "    tr_data_setup = DS(\n",
    "        base_path=\"../input/4-animal-classification/train\", \n",
    "        filenames=tr_filenames, \n",
    "        folder_names=tr_folder_names,\n",
    "        labels=tr_labels.reshape(-1, 1),\n",
    "        size=cfg.size,\n",
    "        transform=cfg.train_transform)\n",
    "    \n",
    "    va_data_setup = DS(\n",
    "        base_path=\"../input/4-animal-classification/train\", \n",
    "        filenames=va_filenames, \n",
    "        folder_names=va_folder_names,\n",
    "        labels=va_labels.reshape(-1, 1),\n",
    "        size=cfg.size,\n",
    "        transform=cfg.valid_transform)\n",
    "\n",
    "    dataloaders = {\n",
    "        \"train\" : DL(tr_data_setup, batch_size=cfg.batch_size, shuffle=True, generator=torch.manual_seed(cfg.seed)),\n",
    "        \"valid\" : DL(va_data_setup, batch_size=cfg.batch_size, shuffle=False),\n",
    "    }\n",
    "\n",
    "    cfg = CFG(\n",
    "        size=SIZE,\n",
    "        epochs=25, \n",
    "        batch_size=16, \n",
    "        steps_per_epoch=len(dataloaders[\"train\"])\n",
    "    )\n",
    "    \n",
    "    torch.manual_seed(cfg.seed)\n",
    "    model = Model().to(cfg.device)\n",
    "\n",
    "    optimizer = optim.Adam([p for p in model.parameters() if p.requires_grad], lr=cfg.lr, weight_decay=cfg.wd)\n",
    "    # optimizer = optim.AdamW([p for p in model.parameters() if p.requires_grad], lr=cfg.lr, weight_decay=cfg.wd)\n",
    "    # optimizer = optim.SGD([p for p in model.parameters() if p.requires_grad], lr=cfg.lr, weight_decay=cfg.wd, momentum=0.9)\n",
    "    \n",
    "    # scheduler_oclr = optim.lr_scheduler.OneCycleLR(\n",
    "    #     optimizer=optimizer, \n",
    "    #     max_lr=cfg.max_lr, \n",
    "    #     epochs=cfg.epochs, \n",
    "    #     steps_per_epoch=cfg.steps_per_epoch,\n",
    "    #     pct_start=cfg.pct_start, \n",
    "    #     div_factor=cfg.div_factor, \n",
    "    #     final_div_factor=cfg.final_div_factor\n",
    "    # )\n",
    "\n",
    "    # scheduler_rlrop = optim.lr_scheduler.ReduceLROnPlateau(\n",
    "    #     optimizer=optimizer,\n",
    "    #     patience=cfg.patience,\n",
    "    #     eps=cfg.eps,\n",
    "    #     verbose=True\n",
    "    # )\n",
    "\n",
    "    scheduler_oclr = None\n",
    "    scheduler_rlrop = None\n",
    "    \n",
    "    L, A, LR, BLE, BAE, _, _ = fit(\n",
    "        model=model, \n",
    "        optimizer=optimizer, \n",
    "        scheduler_oclr=scheduler_oclr,\n",
    "        scheduler_rlrop=scheduler_rlrop,\n",
    "        epochs=cfg.epochs, \n",
    "        early_stopping_patience=cfg.early_stopping, \n",
    "        dataloaders=dataloaders, \n",
    "        device=cfg.device,\n",
    "        save_path=cfg.save_path,\n",
    "        fold=fold,\n",
    "        verbose=True\n",
    "    )\n",
    "    \n",
    "    breaker()\n",
    "    show_loss_graphs(L)\n",
    "    breaker()\n",
    "    show_accuracy_graphs(A)\n",
    "    breaker()\n",
    "    if scheduler_oclr:\n",
    "        show_lr_graph(LR)\n",
    "        breaker()\n",
    "    \n",
    "    BLEs.append(BLE)\n",
    "    BAEs.append(BAE)\n",
    "    \n",
    "    fold += 1"
   ]
  },
  {
   "cell_type": "markdown",
   "id": "de7eb814",
   "metadata": {
    "papermill": {
     "duration": 0.013699,
     "end_time": "2022-09-24T13:50:38.646369",
     "exception": false,
     "start_time": "2022-09-24T13:50:38.632670",
     "status": "completed"
    },
    "tags": []
   },
   "source": [
    "### **Best Model**"
   ]
  },
  {
   "cell_type": "code",
   "execution_count": 11,
   "id": "c81bda93",
   "metadata": {
    "execution": {
     "iopub.execute_input": "2022-09-24T13:50:38.672583Z",
     "iopub.status.busy": "2022-09-24T13:50:38.671896Z",
     "iopub.status.idle": "2022-09-24T13:50:38.678159Z",
     "shell.execute_reply": "2022-09-24T13:50:38.677106Z"
    },
    "papermill": {
     "duration": 0.022047,
     "end_time": "2022-09-24T13:50:38.681082",
     "exception": false,
     "start_time": "2022-09-24T13:50:38.659035",
     "status": "completed"
    },
    "tags": []
   },
   "outputs": [
    {
     "name": "stdout",
     "output_type": "stream",
     "text": [
      "\n",
      "**************************************************\n",
      "\n",
      "Best Loss Model Fold     : 1\n",
      "Best Accuracy Model Fold : 3\n",
      "\n",
      "**************************************************\n",
      "\n"
     ]
    }
   ],
   "source": [
    "best_loss_index = BLEs.index(min(BLEs))\n",
    "best_accs_index = BAEs.index(max(BAEs))\n",
    "\n",
    "breaker()\n",
    "print(f\"Best Loss Model Fold     : {best_loss_index + 1}\")\n",
    "print(f\"Best Accuracy Model Fold : {best_accs_index + 1}\")\n",
    "breaker()"
   ]
  },
  {
   "cell_type": "markdown",
   "id": "f026e8cc",
   "metadata": {
    "papermill": {
     "duration": 0.011523,
     "end_time": "2022-09-24T13:50:38.705158",
     "exception": false,
     "start_time": "2022-09-24T13:50:38.693635",
     "status": "completed"
    },
    "tags": []
   },
   "source": [
    "### **Submit**"
   ]
  },
  {
   "cell_type": "code",
   "execution_count": 12,
   "id": "4fb08518",
   "metadata": {
    "execution": {
     "iopub.execute_input": "2022-09-24T13:50:38.730965Z",
     "iopub.status.busy": "2022-09-24T13:50:38.730643Z",
     "iopub.status.idle": "2022-09-24T13:50:38.735665Z",
     "shell.execute_reply": "2022-09-24T13:50:38.734344Z"
    },
    "papermill": {
     "duration": 0.021193,
     "end_time": "2022-09-24T13:50:38.738095",
     "exception": false,
     "start_time": "2022-09-24T13:50:38.716902",
     "status": "completed"
    },
    "tags": []
   },
   "outputs": [],
   "source": [
    "# torch.manual_seed(cfg.seed)\n",
    "# model = Model().to(cfg.device)\n",
    "\n",
    "# ss_df = pd.read_csv(\"../input/4-animal-classification/Sample_submission.csv\")\n",
    "# ts_filenames = ss_df[\"ID\"]\n",
    "\n",
    "# ts_data_setup = DS(\n",
    "#     base_path=\"../input/4-animal-classification/test/test\", \n",
    "#     filenames=ts_filenames, \n",
    "#     size=cfg.size,\n",
    "#     transform=cfg.valid_transform,\n",
    "# )\n",
    "# ts_data = DL(ts_data_setup, batch_size=cfg.batch_size, shuffle=False)\n",
    "\n",
    "# y_pred = predict_batch(\n",
    "#     model=model,\n",
    "#     dataloader=ts_data,\n",
    "#     path=\"\",\n",
    "#     device=cfg.device\n",
    "# )\n",
    "\n",
    "# ss_df[\"Label\"] = y_pred.astype(\"uint8\")\n",
    "# ss_df.to_csv(\"submission.csv\", index=False)"
   ]
  }
 ],
 "metadata": {
  "kernelspec": {
   "display_name": "Python 3",
   "language": "python",
   "name": "python3"
  },
  "language_info": {
   "codemirror_mode": {
    "name": "ipython",
    "version": 3
   },
   "file_extension": ".py",
   "mimetype": "text/x-python",
   "name": "python",
   "nbconvert_exporter": "python",
   "pygments_lexer": "ipython3",
   "version": "3.7.12"
  },
  "papermill": {
   "default_parameters": {},
   "duration": 10821.361484,
   "end_time": "2022-09-24T13:50:40.954901",
   "environment_variables": {},
   "exception": null,
   "input_path": "__notebook__.ipynb",
   "output_path": "__notebook__.ipynb",
   "parameters": {},
   "start_time": "2022-09-24T10:50:19.593417",
   "version": "2.3.4"
  }
 },
 "nbformat": 4,
 "nbformat_minor": 5
}
