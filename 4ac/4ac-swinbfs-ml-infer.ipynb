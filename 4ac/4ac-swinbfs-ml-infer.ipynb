{
 "cells": [
  {
   "cell_type": "code",
   "execution_count": 1,
   "id": "ec2688e9",
   "metadata": {
    "_cell_guid": "b1076dfc-b9ad-4769-8c92-a6c4dae69d19",
    "_uuid": "8f2839f25d086af736a60e9eeb907d3b93b6e0e5",
    "execution": {
     "iopub.execute_input": "2022-09-29T11:58:28.256884Z",
     "iopub.status.busy": "2022-09-29T11:58:28.256360Z",
     "iopub.status.idle": "2022-09-29T11:58:29.318331Z",
     "shell.execute_reply": "2022-09-29T11:58:29.317266Z"
    },
    "papermill": {
     "duration": 1.069623,
     "end_time": "2022-09-29T11:58:29.321253",
     "exception": false,
     "start_time": "2022-09-29T11:58:28.251630",
     "status": "completed"
    },
    "tags": []
   },
   "outputs": [],
   "source": [
    "import os\n",
    "import re\n",
    "import pickle\n",
    "import numpy as np\n",
    "import pandas as pd\n",
    "import random as r\n",
    "import seaborn as sns\n",
    "import matplotlib.pyplot as plt\n",
    "\n",
    "from time import time\n",
    "from scipy import stats"
   ]
  },
  {
   "cell_type": "code",
   "execution_count": 2,
   "id": "f6603c1b",
   "metadata": {
    "execution": {
     "iopub.execute_input": "2022-09-29T11:58:29.326553Z",
     "iopub.status.busy": "2022-09-29T11:58:29.326204Z",
     "iopub.status.idle": "2022-09-29T11:58:29.331026Z",
     "shell.execute_reply": "2022-09-29T11:58:29.329884Z"
    },
    "papermill": {
     "duration": 0.00985,
     "end_time": "2022-09-29T11:58:29.333176",
     "exception": false,
     "start_time": "2022-09-29T11:58:29.323326",
     "status": "completed"
    },
    "tags": []
   },
   "outputs": [],
   "source": [
    "def breaker() -> None: print(\"\\n\" + 50*\"*\" + \"\\n\")\n",
    "    \n",
    "MODELS_PATH:str = \"../input/4ac-swinfs-ml-train/models\""
   ]
  },
  {
   "cell_type": "code",
   "execution_count": 3,
   "id": "42c6c96f",
   "metadata": {
    "execution": {
     "iopub.execute_input": "2022-09-29T11:58:29.337867Z",
     "iopub.status.busy": "2022-09-29T11:58:29.337523Z",
     "iopub.status.idle": "2022-09-29T11:58:34.796509Z",
     "shell.execute_reply": "2022-09-29T11:58:34.795594Z"
    },
    "papermill": {
     "duration": 5.46409,
     "end_time": "2022-09-29T11:58:34.799031",
     "exception": false,
     "start_time": "2022-09-29T11:58:29.334941",
     "status": "completed"
    },
    "tags": []
   },
   "outputs": [],
   "source": [
    "swin_B_model_paths = [os.path.join(MODELS_PATH, name) for name in os.listdir(MODELS_PATH) if re.match(r\"swin_base_patch4_window12_384_in22k\", name, re.IGNORECASE)]\n",
    "swin_B_features = np.load(\"../input/4actrsfsna384/swin_base_patch4_window12_384_in22k.npy\")[-729:]\n",
    "\n",
    "y_pred = np.zeros((1, swin_B_features.shape[0]), dtype=np.uint8)\n",
    "\n",
    "for swin_B_model_path in swin_B_model_paths:\n",
    "    with open(swin_B_model_path, \"rb\") as fp: model = pickle.load(fp)\n",
    "    temp = model.predict(swin_B_features)\n",
    "    y_pred = np.concatenate((y_pred, temp.reshape(1, -1)), axis=0)\n",
    "\n",
    "y_pred = y_pred[1:]\n",
    "y_pred = stats.mode(y_pred)[0]\n",
    "\n",
    "df = pd.read_csv(\"../input/4-animal-classification/Sample_submission.csv\")\n",
    "df[\"Label\"] = y_pred.reshape(-1)\n",
    "df.to_csv(\"submission.csv\", index=False)"
   ]
  }
 ],
 "metadata": {
  "kernelspec": {
   "display_name": "Python 3",
   "language": "python",
   "name": "python3"
  },
  "language_info": {
   "codemirror_mode": {
    "name": "ipython",
    "version": 3
   },
   "file_extension": ".py",
   "mimetype": "text/x-python",
   "name": "python",
   "nbconvert_exporter": "python",
   "pygments_lexer": "ipython3",
   "version": "3.7.12"
  },
  "papermill": {
   "default_parameters": {},
   "duration": 16.119366,
   "end_time": "2022-09-29T11:58:35.521365",
   "environment_variables": {},
   "exception": null,
   "input_path": "__notebook__.ipynb",
   "output_path": "__notebook__.ipynb",
   "parameters": {},
   "start_time": "2022-09-29T11:58:19.401999",
   "version": "2.3.4"
  }
 },
 "nbformat": 4,
 "nbformat_minor": 5
}
