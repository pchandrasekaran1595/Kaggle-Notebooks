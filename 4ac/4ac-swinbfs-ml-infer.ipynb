{
 "cells": [
  {
   "cell_type": "code",
   "execution_count": 1,
   "id": "94142f94",
   "metadata": {
    "_cell_guid": "b1076dfc-b9ad-4769-8c92-a6c4dae69d19",
    "_uuid": "8f2839f25d086af736a60e9eeb907d3b93b6e0e5",
    "execution": {
     "iopub.execute_input": "2022-09-29T12:16:54.770430Z",
     "iopub.status.busy": "2022-09-29T12:16:54.769902Z",
     "iopub.status.idle": "2022-09-29T12:16:55.923362Z",
     "shell.execute_reply": "2022-09-29T12:16:55.921968Z"
    },
    "papermill": {
     "duration": 1.161818,
     "end_time": "2022-09-29T12:16:55.926229",
     "exception": false,
     "start_time": "2022-09-29T12:16:54.764411",
     "status": "completed"
    },
    "tags": []
   },
   "outputs": [],
   "source": [
    "import os\n",
    "import re\n",
    "import pickle\n",
    "import numpy as np\n",
    "import pandas as pd\n",
    "import random as r\n",
    "import seaborn as sns\n",
    "import matplotlib.pyplot as plt\n",
    "\n",
    "from time import time\n",
    "from scipy import stats"
   ]
  },
  {
   "cell_type": "code",
   "execution_count": 2,
   "id": "55962343",
   "metadata": {
    "execution": {
     "iopub.execute_input": "2022-09-29T12:16:55.932751Z",
     "iopub.status.busy": "2022-09-29T12:16:55.931635Z",
     "iopub.status.idle": "2022-09-29T12:16:55.937095Z",
     "shell.execute_reply": "2022-09-29T12:16:55.935810Z"
    },
    "papermill": {
     "duration": 0.011411,
     "end_time": "2022-09-29T12:16:55.939866",
     "exception": false,
     "start_time": "2022-09-29T12:16:55.928455",
     "status": "completed"
    },
    "tags": []
   },
   "outputs": [],
   "source": [
    "def breaker() -> None: print(\"\\n\" + 50*\"*\" + \"\\n\")\n",
    "    \n",
    "MODELS_PATH:str = \"../input/4ac-swinbfs-ml-train/models\""
   ]
  },
  {
   "cell_type": "code",
   "execution_count": 3,
   "id": "307bdbe4",
   "metadata": {
    "execution": {
     "iopub.execute_input": "2022-09-29T12:16:55.945631Z",
     "iopub.status.busy": "2022-09-29T12:16:55.945204Z",
     "iopub.status.idle": "2022-09-29T12:17:00.678459Z",
     "shell.execute_reply": "2022-09-29T12:17:00.677201Z"
    },
    "papermill": {
     "duration": 4.739725,
     "end_time": "2022-09-29T12:17:00.681874",
     "exception": false,
     "start_time": "2022-09-29T12:16:55.942149",
     "status": "completed"
    },
    "tags": []
   },
   "outputs": [],
   "source": [
    "model_paths = [os.path.join(MODELS_PATH, name) for name in os.listdir(MODELS_PATH)]\n",
    "features = np.load(\"../input/4actrsfsna384/swin_base_patch4_window12_384_in22k.npy\")[-729:]\n",
    "\n",
    "y_pred = np.zeros((1, features.shape[0]), dtype=np.uint8)\n",
    "\n",
    "for model_path in model_paths:\n",
    "    with open(model_path, \"rb\") as fp: model = pickle.load(fp)\n",
    "    temp = model.predict(features)\n",
    "    y_pred = np.concatenate((y_pred, temp.reshape(1, -1)), axis=0)\n",
    "\n",
    "y_pred = y_pred[1:]\n",
    "y_pred = stats.mode(y_pred)[0]\n",
    "\n",
    "df = pd.read_csv(\"../input/4-animal-classification/Sample_submission.csv\")\n",
    "df[\"Label\"] = y_pred.reshape(-1)\n",
    "df.to_csv(\"submission.csv\", index=False)"
   ]
  }
 ],
 "metadata": {
  "kernelspec": {
   "display_name": "Python 3",
   "language": "python",
   "name": "python3"
  },
  "language_info": {
   "codemirror_mode": {
    "name": "ipython",
    "version": 3
   },
   "file_extension": ".py",
   "mimetype": "text/x-python",
   "name": "python",
   "nbconvert_exporter": "python",
   "pygments_lexer": "ipython3",
   "version": "3.7.12"
  },
  "papermill": {
   "default_parameters": {},
   "duration": 16.03986,
   "end_time": "2022-09-29T12:17:01.507641",
   "environment_variables": {},
   "exception": null,
   "input_path": "__notebook__.ipynb",
   "output_path": "__notebook__.ipynb",
   "parameters": {},
   "start_time": "2022-09-29T12:16:45.467781",
   "version": "2.3.4"
  }
 },
 "nbformat": 4,
 "nbformat_minor": 5
}
