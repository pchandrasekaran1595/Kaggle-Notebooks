{
 "cells": [
  {
   "cell_type": "markdown",
   "id": "aa8724db",
   "metadata": {
    "_cell_guid": "b1076dfc-b9ad-4769-8c92-a6c4dae69d19",
    "_uuid": "8f2839f25d086af736a60e9eeb907d3b93b6e0e5",
    "papermill": {
     "duration": 0.00543,
     "end_time": "2022-09-25T07:25:03.329959",
     "exception": false,
     "start_time": "2022-09-25T07:25:03.324529",
     "status": "completed"
    },
    "tags": []
   },
   "source": [
    "### **Setup**"
   ]
  },
  {
   "cell_type": "code",
   "execution_count": 1,
   "id": "cc7bc560",
   "metadata": {
    "execution": {
     "iopub.execute_input": "2022-09-25T07:25:03.341269Z",
     "iopub.status.busy": "2022-09-25T07:25:03.340443Z",
     "iopub.status.idle": "2022-09-25T07:25:13.749280Z",
     "shell.execute_reply": "2022-09-25T07:25:13.748155Z"
    },
    "papermill": {
     "duration": 10.417112,
     "end_time": "2022-09-25T07:25:13.751595",
     "exception": false,
     "start_time": "2022-09-25T07:25:03.334483",
     "status": "completed"
    },
    "tags": []
   },
   "outputs": [
    {
     "name": "stderr",
     "output_type": "stream",
     "text": [
      "WARNING: Running pip as the 'root' user can result in broken permissions and conflicting behaviour with the system package manager. It is recommended to use a virtual environment instead: https://pip.pypa.io/warnings/venv\n"
     ]
    }
   ],
   "source": [
    "%%bash\n",
    "pip install timm -q"
   ]
  },
  {
   "cell_type": "markdown",
   "id": "fbd80578",
   "metadata": {
    "papermill": {
     "duration": 0.004189,
     "end_time": "2022-09-25T07:25:13.760571",
     "exception": false,
     "start_time": "2022-09-25T07:25:13.756382",
     "status": "completed"
    },
    "tags": []
   },
   "source": [
    "### **Library Imports**"
   ]
  },
  {
   "cell_type": "code",
   "execution_count": 2,
   "id": "727a7c5d",
   "metadata": {
    "execution": {
     "iopub.execute_input": "2022-09-25T07:25:13.770757Z",
     "iopub.status.busy": "2022-09-25T07:25:13.770401Z",
     "iopub.status.idle": "2022-09-25T07:25:17.569000Z",
     "shell.execute_reply": "2022-09-25T07:25:17.567845Z"
    },
    "papermill": {
     "duration": 3.80846,
     "end_time": "2022-09-25T07:25:17.573356",
     "exception": false,
     "start_time": "2022-09-25T07:25:13.764896",
     "status": "completed"
    },
    "tags": []
   },
   "outputs": [],
   "source": [
    "import os\n",
    "import re\n",
    "import cv2\n",
    "import timm\n",
    "import torch\n",
    "import numpy as np\n",
    "import pandas as pd\n",
    "import matplotlib.pyplot as plt\n",
    "\n",
    "from time import time\n",
    "from scipy import stats\n",
    "from torch import nn, optim\n",
    "from torch.utils.data import Dataset\n",
    "from torch.utils.data import DataLoader as DL\n",
    "from torchvision import models, transforms\n",
    "\n",
    "# from sklearn.model_selection import StratifiedKFold"
   ]
  },
  {
   "cell_type": "markdown",
   "id": "c2142346",
   "metadata": {
    "papermill": {
     "duration": 0.006018,
     "end_time": "2022-09-25T07:25:17.585991",
     "exception": false,
     "start_time": "2022-09-25T07:25:17.579973",
     "status": "completed"
    },
    "tags": []
   },
   "source": [
    "### **Utilities and Helpers**"
   ]
  },
  {
   "cell_type": "code",
   "execution_count": 3,
   "id": "01a1f4f0",
   "metadata": {
    "execution": {
     "iopub.execute_input": "2022-09-25T07:25:17.600936Z",
     "iopub.status.busy": "2022-09-25T07:25:17.600079Z",
     "iopub.status.idle": "2022-09-25T07:25:17.612858Z",
     "shell.execute_reply": "2022-09-25T07:25:17.612045Z"
    },
    "papermill": {
     "duration": 0.023195,
     "end_time": "2022-09-25T07:25:17.615349",
     "exception": false,
     "start_time": "2022-09-25T07:25:17.592154",
     "status": "completed"
    },
    "tags": []
   },
   "outputs": [],
   "source": [
    "SEED: int = 42\n",
    "SIZE: int = 384\n",
    "MODEL_PATHS: str = \"../input/4ac-en4-a384\"\n",
    "\n",
    "\n",
    "def breaker(num: int=50, char: str=\"*\") -> None:\n",
    "    print(\"\\n\" + num*char + \"\\n\")\n",
    "\n",
    "    \n",
    "def get_image(path: str, size: int=224) -> np.ndarray:\n",
    "    image = cv2.imread(path, cv2.IMREAD_COLOR)\n",
    "    image = cv2.cvtColor(src=image, code=cv2.COLOR_BGR2RGB)\n",
    "    return cv2.resize(src=image, dsize=(size, size), interpolation=cv2.INTER_AREA)\n",
    "\n",
    "\n",
    "# def show_loss_graphs(L: list) -> None:\n",
    "#     TL, VL = [], []\n",
    "#     for i in range(len(L)):\n",
    "#         TL.append(L[i][\"train\"])\n",
    "#         VL.append(L[i][\"valid\"])\n",
    "#     x_Axis = np.arange(1, len(TL) + 1)\n",
    "#     plt.figure()\n",
    "#     plt.plot(x_Axis, TL, \"r\", label=\"Train\")\n",
    "#     plt.plot(x_Axis, VL, \"b\", label=\"Valid\")\n",
    "#     plt.legend()\n",
    "#     plt.grid()\n",
    "#     plt.title(\"Loss Graph\")\n",
    "#     plt.show()\n",
    "\n",
    "    \n",
    "# def show_accuracy_graphs(A: list) -> None:\n",
    "#     TA, VA = [], []\n",
    "#     for i in range(len(A)):\n",
    "#         TA.append(A[i][\"train\"])\n",
    "#         VA.append(A[i][\"valid\"])\n",
    "#     x_Axis = np.arange(1, len(TA) + 1)\n",
    "#     plt.figure()\n",
    "#     plt.plot(x_Axis, TA, \"r\", label=\"Train\")\n",
    "#     plt.plot(x_Axis, VA, \"b\", label=\"Valid\")\n",
    "#     plt.legend()\n",
    "#     plt.grid()\n",
    "#     plt.title(\"Accuracy Graph\")\n",
    "#     plt.show()\n",
    "    \n",
    "\n",
    "# def show_lr_graph(LR: list) -> None:\n",
    "#     x_Axis = [i+1 for i in range(len(LR))]\n",
    "#     plt.figure(figsize=(8, 6))\n",
    "#     plt.plot(x_Axis, LR, \"rx\")\n",
    "#     plt.grid()\n",
    "#     plt.show()"
   ]
  },
  {
   "cell_type": "markdown",
   "id": "2df29b53",
   "metadata": {
    "papermill": {
     "duration": 0.005611,
     "end_time": "2022-09-25T07:25:17.627315",
     "exception": false,
     "start_time": "2022-09-25T07:25:17.621704",
     "status": "completed"
    },
    "tags": []
   },
   "source": [
    "### **Configuration**"
   ]
  },
  {
   "cell_type": "code",
   "execution_count": 4,
   "id": "9af31009",
   "metadata": {
    "execution": {
     "iopub.execute_input": "2022-09-25T07:25:17.640636Z",
     "iopub.status.busy": "2022-09-25T07:25:17.640315Z",
     "iopub.status.idle": "2022-09-25T07:25:17.725268Z",
     "shell.execute_reply": "2022-09-25T07:25:17.724362Z"
    },
    "papermill": {
     "duration": 0.094401,
     "end_time": "2022-09-25T07:25:17.728031",
     "exception": false,
     "start_time": "2022-09-25T07:25:17.633630",
     "status": "completed"
    },
    "tags": []
   },
   "outputs": [],
   "source": [
    "class CFG(object):\n",
    "    def __init__(self, \n",
    "                 seed: int = 42,\n",
    "                 size: int = 224,\n",
    "                 n_splits: int = 5,\n",
    "                 batch_size: int = 16,\n",
    "                 epochs: int = 25,\n",
    "                 early_stopping: int = 5,\n",
    "                 lr: float = 1e-4,\n",
    "                 wd: float = 0.0,\n",
    "                 max_lr: float = 1e-3,\n",
    "                 pct_start: float = 0.2,\n",
    "                 steps_per_epoch: int = 100,\n",
    "                 div_factor: int = 1e3, \n",
    "                 final_div_factor: float = 1e3,\n",
    "                 ):\n",
    "        self.seed = seed\n",
    "        self.size = size\n",
    "        self.n_splits = n_splits\n",
    "        self.batch_size = batch_size\n",
    "        self.epochs = epochs\n",
    "        self.early_stopping = early_stopping\n",
    "        self.lr = lr\n",
    "        self.wd = wd\n",
    "        self.max_lr = max_lr\n",
    "        self.pct_start = pct_start\n",
    "        self.steps_per_epoch = steps_per_epoch\n",
    "        self.div_factor = div_factor\n",
    "        self.final_div_factor = final_div_factor\n",
    "        self.device = torch.device(\"cuda\" if torch.cuda.is_available() else \"cpu\")\n",
    "        self.train_transform = transforms.Compose([\n",
    "            transforms.ToTensor(),\n",
    "            transforms.Normalize([0.48805, 0.46218, 0.38043], [0.21471, 0.21141, 0.21124]),\n",
    "            transforms.RandomAffine(degrees=(-45, 45), translate=(0.15, 0.15), scale=(0.5, 1.5)),\n",
    "            transforms.RandomHorizontalFlip(p=0.25),\n",
    "            transforms.RandomVerticalFlip(p=0.25),\n",
    "        ])\n",
    "        self.valid_transform = transforms.Compose([\n",
    "            transforms.ToTensor(),\n",
    "            transforms.Normalize([0.48805, 0.46218, 0.38043], [0.21471, 0.21141, 0.21124]),\n",
    "        ])\n",
    "                                \n",
    "        self.save_path = \"saves\"\n",
    "        if not os.path.exists(self.save_path): os.makedirs(self.save_path)\n",
    "    \n",
    "cfg = CFG(seed=SEED, size=SIZE)"
   ]
  },
  {
   "cell_type": "markdown",
   "id": "8849f4ee",
   "metadata": {
    "papermill": {
     "duration": 0.006284,
     "end_time": "2022-09-25T07:25:17.740928",
     "exception": false,
     "start_time": "2022-09-25T07:25:17.734644",
     "status": "completed"
    },
    "tags": []
   },
   "source": [
    "### **Dataset Template**"
   ]
  },
  {
   "cell_type": "code",
   "execution_count": 5,
   "id": "f3917ba3",
   "metadata": {
    "execution": {
     "iopub.execute_input": "2022-09-25T07:25:17.754630Z",
     "iopub.status.busy": "2022-09-25T07:25:17.754314Z",
     "iopub.status.idle": "2022-09-25T07:25:17.758964Z",
     "shell.execute_reply": "2022-09-25T07:25:17.758157Z"
    },
    "papermill": {
     "duration": 0.015768,
     "end_time": "2022-09-25T07:25:17.762920",
     "exception": false,
     "start_time": "2022-09-25T07:25:17.747152",
     "status": "completed"
    },
    "tags": []
   },
   "outputs": [],
   "source": [
    "# class DS(Dataset):\n",
    "#     def __init__(\n",
    "#         self, \n",
    "#         base_path: str,\n",
    "#         filenames: np.ndarray, \n",
    "#         folder_names: np.ndarray, \n",
    "#         labels: np.ndarray, \n",
    "#         size: int,\n",
    "#         transform=None):\n",
    "        \n",
    "#         self.base_path = base_path\n",
    "#         self.filenames = filenames\n",
    "#         self.folder_names = folder_names\n",
    "#         self.labels = labels\n",
    "#         self.size = size\n",
    "#         self.transform = transform\n",
    "    \n",
    "#     def __len__(self):\n",
    "#         return self.filenames.shape[0]\n",
    "    \n",
    "#     def __getitem__(self, idx):\n",
    "#         path = os.path.join(os.path.join(self.base_path, self.folder_names[idx]), self.filenames[idx])\n",
    "#         image = get_image(path, self.size)\n",
    "#         return self.transform(image), self.labels[idx]"
   ]
  },
  {
   "cell_type": "code",
   "execution_count": 6,
   "id": "f8200a0e",
   "metadata": {
    "execution": {
     "iopub.execute_input": "2022-09-25T07:25:17.776557Z",
     "iopub.status.busy": "2022-09-25T07:25:17.776234Z",
     "iopub.status.idle": "2022-09-25T07:25:17.784942Z",
     "shell.execute_reply": "2022-09-25T07:25:17.784157Z"
    },
    "papermill": {
     "duration": 0.01866,
     "end_time": "2022-09-25T07:25:17.787877",
     "exception": false,
     "start_time": "2022-09-25T07:25:17.769217",
     "status": "completed"
    },
    "tags": []
   },
   "outputs": [],
   "source": [
    "class DS(Dataset):\n",
    "    def __init__(\n",
    "        self, \n",
    "        base_path: str,\n",
    "        filenames: np.ndarray, \n",
    "        size: int,\n",
    "        transform=None):\n",
    "        \n",
    "        self.base_path = base_path\n",
    "        self.filenames = filenames\n",
    "        self.size = size\n",
    "        self.transform = transform\n",
    "    \n",
    "    def __len__(self):\n",
    "        return self.filenames.shape[0]\n",
    "    \n",
    "    def __getitem__(self, idx):\n",
    "        path = os.path.join(self.base_path, str(self.filenames[idx]) + \".jpg\")\n",
    "        image = get_image(path, self.size)\n",
    "        return self.transform(image)"
   ]
  },
  {
   "cell_type": "markdown",
   "id": "6f9d419a",
   "metadata": {
    "papermill": {
     "duration": 0.006227,
     "end_time": "2022-09-25T07:25:17.800455",
     "exception": false,
     "start_time": "2022-09-25T07:25:17.794228",
     "status": "completed"
    },
    "tags": []
   },
   "source": [
    "### **Model**"
   ]
  },
  {
   "cell_type": "code",
   "execution_count": 7,
   "id": "c36708aa",
   "metadata": {
    "execution": {
     "iopub.execute_input": "2022-09-25T07:25:17.814317Z",
     "iopub.status.busy": "2022-09-25T07:25:17.813985Z",
     "iopub.status.idle": "2022-09-25T07:25:17.822916Z",
     "shell.execute_reply": "2022-09-25T07:25:17.822097Z"
    },
    "papermill": {
     "duration": 0.018659,
     "end_time": "2022-09-25T07:25:17.825515",
     "exception": false,
     "start_time": "2022-09-25T07:25:17.806856",
     "status": "completed"
    },
    "tags": []
   },
   "outputs": [],
   "source": [
    "class Model(nn.Module):\n",
    "    def __init__(self):\n",
    "        super(Model, self).__init__()\n",
    "            \n",
    "        self.model = timm.create_model(model_name=\"efficientnet_b4\", pretrained=False)\n",
    "        self.model.classifier = nn.Linear(in_features=self.model.classifier.in_features, out_features=4)\n",
    "            \n",
    "    def freeze(self):\n",
    "        for params in self.parameters(): params.requires_grad = False\n",
    "\n",
    "    def forward(self, x):\n",
    "        return nn.LogSoftmax(dim=1)(self.model(x))"
   ]
  },
  {
   "cell_type": "markdown",
   "id": "5eff1eca",
   "metadata": {
    "papermill": {
     "duration": 0.006147,
     "end_time": "2022-09-25T07:25:17.838185",
     "exception": false,
     "start_time": "2022-09-25T07:25:17.832038",
     "status": "completed"
    },
    "tags": []
   },
   "source": [
    "### **Fit and Predict**"
   ]
  },
  {
   "cell_type": "code",
   "execution_count": 8,
   "id": "fcf28c9c",
   "metadata": {
    "execution": {
     "iopub.execute_input": "2022-09-25T07:25:17.853568Z",
     "iopub.status.busy": "2022-09-25T07:25:17.853255Z",
     "iopub.status.idle": "2022-09-25T07:25:17.869356Z",
     "shell.execute_reply": "2022-09-25T07:25:17.868542Z"
    },
    "papermill": {
     "duration": 0.027204,
     "end_time": "2022-09-25T07:25:17.871815",
     "exception": false,
     "start_time": "2022-09-25T07:25:17.844611",
     "status": "completed"
    },
    "tags": []
   },
   "outputs": [],
   "source": [
    "# def fit(model=None,\n",
    "#         optimizer=None, \n",
    "#         scheduler_rlrop=None,\n",
    "#         scheduler_oclr=None,\n",
    "#         epochs=None, \n",
    "#         early_stopping_patience=None, \n",
    "#         dataloaders=None, \n",
    "#         fold=None, \n",
    "#         save_path=None,\n",
    "#         device=None,\n",
    "#         verbose=False) -> tuple:\n",
    "    \n",
    "#     def get_accuracy(y_pred, y_true):\n",
    "#         y_pred = torch.argmax(y_pred, dim=1)\n",
    "#         return torch.count_nonzero(y_pred == y_true).item() / len(y_pred)\n",
    "    \n",
    "    \n",
    "#     if verbose:\n",
    "#         breaker()\n",
    "#         if fold: print(f\"Training Fold {fold}...\")\n",
    "#         else: print(\"Training ...\")\n",
    "#         breaker()\n",
    "        \n",
    "#     bestLoss: dict = {\"train\" : np.inf, \"valid\" : np.inf} \n",
    "#     bestAccs: dict = {\"train\" : 0.0, \"valid\" : 0.0}\n",
    "        \n",
    "#     Losses: list = []\n",
    "#     Accuracies: list = [] \n",
    "#     LRs: list = []\n",
    "        \n",
    "#     if fold: \n",
    "#         ble_name = f\"ble_state_fold_{fold}.pt\"\n",
    "#         bae_name = f\"bae_state_fold_{fold}.pt\"\n",
    "#     else: \n",
    "#         ble_name = f\"ble_state.pt\"\n",
    "#         bae_name = f\"bae_state.pt\"\n",
    "    \n",
    "#     start_time = time()\n",
    "#     for e in range(epochs):\n",
    "#         e_st = time()\n",
    "#         epochLoss: dict = {\"train\" : 0.0, \"valid\" : 0.0} \n",
    "#         epochAccs: dict = {\"train\" : 0.0, \"valid\" : 0.0}\n",
    "\n",
    "#         for phase in [\"train\", \"valid\"]:\n",
    "#             if phase == \"train\":\n",
    "#                 model.train()\n",
    "#             else:\n",
    "#                 model.eval()\n",
    "            \n",
    "#             lossPerPass: list = []\n",
    "#             accsPerPass: list = []\n",
    "                \n",
    "#             for X, y in dataloaders[phase]:\n",
    "#                 X, y = X.to(device), y.to(device).view(-1)\n",
    "\n",
    "#                 optimizer.zero_grad()\n",
    "#                 with torch.set_grad_enabled(phase == \"train\"):\n",
    "#                     output = model(X)\n",
    "#                     loss = torch.nn.NLLLoss()(output, y)\n",
    "#                     if phase == \"train\":\n",
    "#                         loss.backward()\n",
    "#                         optimizer.step()\n",
    "#                         if scheduler_oclr: scheduler_oclr.step()\n",
    "#                 lossPerPass.append(loss.item())\n",
    "#                 accsPerPass.append(get_accuracy(output, y))\n",
    "#             epochLoss[phase] = np.mean(np.array(lossPerPass))\n",
    "#             epochAccs[phase] = np.mean(np.array(accsPerPass))\n",
    "#         if scheduler_oclr: LRs.append(scheduler_oclr.get_last_lr())\n",
    "#         Losses.append(epochLoss)\n",
    "#         Accuracies.append(epochAccs)\n",
    "    \n",
    "#         if scheduler_oclr:\n",
    "#             save_dict = {\"model_state_dict\"     : model.state_dict(),\n",
    "#                          \"optim_state_dict\"     : optimizer.state_dict(),\n",
    "#                          \"scheduler_state_dict\" : scheduler_oclr.state_dict()}\n",
    "        \n",
    "#         elif scheduler_rlrop:\n",
    "#             save_dict = {\"model_state_dict\"     : model.state_dict(),\n",
    "#                          \"optim_state_dict\"     : optimizer.state_dict(),\n",
    "#                          \"scheduler_state_dict\" : scheduler_rlrop.state_dict()}\n",
    "        \n",
    "#         else:\n",
    "#             save_dict = {\"model_state_dict\"     : model.state_dict(),\n",
    "#                          \"optim_state_dict\"     : optimizer.state_dict()}\n",
    "        \n",
    "        \n",
    "#         if early_stopping_patience:\n",
    "#             if epochLoss[\"valid\"] < bestLoss[\"valid\"]:\n",
    "#                 bestLoss = epochLoss\n",
    "#                 BLE = e + 1\n",
    "#                 torch.save(save_dict, os.path.join(save_path, ble_name))\n",
    "#                 torch.save(save_dict, os.path.join(save_path, bae_name))\n",
    "#                 early_stopping_step = 0\n",
    "#             else:\n",
    "#                 early_stopping_step += 1\n",
    "#                 if early_stopping_step > early_stopping_patience:\n",
    "#                     print(\"\\nEarly Stopping at Epoch {}\".format(e + 1))\n",
    "#                     break\n",
    "        \n",
    "#         if epochLoss[\"valid\"] < bestLoss[\"valid\"]:\n",
    "#             bestLoss = epochLoss\n",
    "#             BLE = e + 1\n",
    "#             torch.save(save_dict,os.path.join(save_path, ble_name))\n",
    "        \n",
    "#         if epochAccs[\"valid\"] > bestAccs[\"valid\"]:\n",
    "#             bestAccs = epochAccs\n",
    "#             BAE = e + 1\n",
    "#             torch.save(save_dict,os.path.join(save_path, bae_name))\n",
    "        \n",
    "#         if scheduler_rlrop: scheduler_rlrop.step(epochLoss[\"valid\"])\n",
    "        \n",
    "#         if verbose:\n",
    "#             print(\"Epoch: {} | Train Loss: {:.5f} | Valid Loss: {:.5f} |\\\n",
    "#  Train Accs: {:.5f} | Valid Accs: {:.5f} | Time: {:.2f} seconds\".format(e+1, \n",
    "#                                                                         epochLoss[\"train\"], epochLoss[\"valid\"], \n",
    "#                                                                         epochAccs[\"train\"], epochAccs[\"valid\"], \n",
    "#                                                                         time()-e_st))\n",
    "\n",
    "#     if verbose:                                           \n",
    "#         breaker()\n",
    "#         print(f\"Best Validation Loss at Epoch {BLE}\")\n",
    "#         breaker()\n",
    "#         print(f\"Best Validation Accs at Epoch {BAE}\")\n",
    "#         breaker()\n",
    "#         print(\"Time Taken [{} Epochs] : {:.2f} minutes\".format(len(Losses), (time()-start_time)/60))\n",
    "    \n",
    "#     return Losses, Accuracies, LRs, BLE, BAE, ble_name, bae_name, bestLoss, bestAccs\n",
    "\n",
    "\n",
    "def predict_batch(model=None, dataloader=None, path=None, device=None) -> np.ndarray:\n",
    "    model.load_state_dict(torch.load(path, map_location=device)[\"model_state_dict\"])\n",
    "    model.to(device)    \n",
    "    model.eval()\n",
    "    \n",
    "    y_pred = torch.zeros(1, 1).to(device)\n",
    "    \n",
    "    for X in dataloader:\n",
    "        X = X.to(device)\n",
    "        with torch.no_grad():\n",
    "            output = torch.argmax(torch.exp(model(X)), dim=1)\n",
    "        y_pred = torch.cat((y_pred, output.view(-1, 1)), dim=0)\n",
    "    \n",
    "    return y_pred[1:].detach().cpu().numpy()"
   ]
  },
  {
   "cell_type": "markdown",
   "id": "11e9f7a2",
   "metadata": {
    "papermill": {
     "duration": 0.004328,
     "end_time": "2022-09-25T07:25:17.882729",
     "exception": false,
     "start_time": "2022-09-25T07:25:17.878401",
     "status": "completed"
    },
    "tags": []
   },
   "source": [
    "### **Train**"
   ]
  },
  {
   "cell_type": "code",
   "execution_count": 9,
   "id": "1219b401",
   "metadata": {
    "execution": {
     "iopub.execute_input": "2022-09-25T07:25:17.896463Z",
     "iopub.status.busy": "2022-09-25T07:25:17.896133Z",
     "iopub.status.idle": "2022-09-25T07:25:17.900023Z",
     "shell.execute_reply": "2022-09-25T07:25:17.899286Z"
    },
    "papermill": {
     "duration": 0.015157,
     "end_time": "2022-09-25T07:25:17.904069",
     "exception": false,
     "start_time": "2022-09-25T07:25:17.888912",
     "status": "completed"
    },
    "tags": []
   },
   "outputs": [],
   "source": [
    "# df = pd.read_csv(\"../input/4ac-dataframe/data.csv\")\n",
    "\n",
    "# filenames = df.filenames.copy().values\n",
    "# folder_names = df.folder_names.copy().values\n",
    "# labels = df.classes.copy().values"
   ]
  },
  {
   "cell_type": "code",
   "execution_count": 10,
   "id": "7fe2f2f3",
   "metadata": {
    "execution": {
     "iopub.execute_input": "2022-09-25T07:25:17.919165Z",
     "iopub.status.busy": "2022-09-25T07:25:17.918759Z",
     "iopub.status.idle": "2022-09-25T07:25:17.931800Z",
     "shell.execute_reply": "2022-09-25T07:25:17.927467Z"
    },
    "papermill": {
     "duration": 0.026034,
     "end_time": "2022-09-25T07:25:17.935816",
     "exception": false,
     "start_time": "2022-09-25T07:25:17.909782",
     "status": "completed"
    },
    "tags": []
   },
   "outputs": [],
   "source": [
    "# fold: int = 1\n",
    "# BLs: list = []\n",
    "# BAs: list = []\n",
    "    \n",
    "# for tr_idx, va_idx in StratifiedKFold(n_splits=cfg.n_splits, random_state=cfg.seed, shuffle=True).split(filenames, labels):\n",
    "\n",
    "#     tr_filenames, va_filenames       = filenames[tr_idx], filenames[va_idx] \n",
    "#     tr_folder_names, va_folder_names = folder_names[tr_idx], folder_names[va_idx] \n",
    "#     tr_labels, va_labels             = labels[tr_idx], labels[va_idx]\n",
    "    \n",
    "#     tr_data_setup = DS(\n",
    "#         base_path=\"../input/4-animal-classification/train\", \n",
    "#         filenames=tr_filenames, \n",
    "#         folder_names=tr_folder_names,\n",
    "#         labels=tr_labels.reshape(-1, 1),\n",
    "#         size=cfg.size,\n",
    "#         transform=cfg.train_transform)\n",
    "    \n",
    "#     va_data_setup = DS(\n",
    "#         base_path=\"../input/4-animal-classification/train\", \n",
    "#         filenames=va_filenames, \n",
    "#         folder_names=va_folder_names,\n",
    "#         labels=va_labels.reshape(-1, 1),\n",
    "#         size=cfg.size,\n",
    "#         transform=cfg.valid_transform)\n",
    "\n",
    "#     dataloaders = {\n",
    "#         \"train\" : DL(tr_data_setup, batch_size=cfg.batch_size, shuffle=True, generator=torch.manual_seed(cfg.seed)),\n",
    "#         \"valid\" : DL(va_data_setup, batch_size=cfg.batch_size, shuffle=False),\n",
    "#     }\n",
    "\n",
    "#     cfg = CFG(\n",
    "#         epochs=25, \n",
    "#         batch_size=64, \n",
    "#         early_stopping=5,\n",
    "#         steps_per_epoch=len(dataloaders[\"train\"])\n",
    "#     )\n",
    "    \n",
    "#     torch.manual_seed(cfg.seed)\n",
    "#     model = Model().to(cfg.device)\n",
    "\n",
    "#     optimizer = optim.Adam([p for p in model.parameters() if p.requires_grad], lr=cfg.lr, weight_decay=cfg.wd)\n",
    "#     # optimizer = optim.AdamW([p for p in model.parameters() if p.requires_grad], lr=cfg.lr, weight_decay=cfg.wd)\n",
    "#     # optimizer = optim.SGD([p for p in model.parameters() if p.requires_grad], lr=cfg.lr, weight_decay=cfg.wd, momentum=0.9)\n",
    "    \n",
    "#     scheduler_oclr = optim.lr_scheduler.OneCycleLR(\n",
    "#         optimizer=optimizer, \n",
    "#         max_lr=cfg.max_lr, \n",
    "#         epochs=cfg.epochs, \n",
    "#         steps_per_epoch=cfg.steps_per_epoch,\n",
    "#         pct_start=cfg.pct_start, \n",
    "#         div_factor=cfg.div_factor, \n",
    "#         final_div_factor=cfg.final_div_factor\n",
    "#     )\n",
    "\n",
    "#     # scheduler_rlrop = optim.lr_scheduler.ReduceLROnPlateau(\n",
    "#     #     optimizer=optimizer,\n",
    "#     #     patience=cfg.patience,\n",
    "#     #     eps=cfg.eps,\n",
    "#     #     verbose=True\n",
    "#     # )\n",
    "\n",
    "#     # scheduler_oclr = None\n",
    "#     scheduler_rlrop = None\n",
    "    \n",
    "#     L, A, LR, BLE, BAE, _, _, BL, BA = fit(\n",
    "#         model=model, \n",
    "#         optimizer=optimizer, \n",
    "#         scheduler_oclr=scheduler_oclr,\n",
    "#         scheduler_rlrop=scheduler_rlrop,\n",
    "#         epochs=cfg.epochs, \n",
    "#         early_stopping_patience=cfg.early_stopping, \n",
    "#         dataloaders=dataloaders, \n",
    "#         device=cfg.device,\n",
    "#         save_path=cfg.save_path,\n",
    "#         fold=fold,\n",
    "#         verbose=True\n",
    "#     )\n",
    "    \n",
    "#     breaker()\n",
    "#     show_loss_graphs(L)\n",
    "#     breaker()\n",
    "#     show_accuracy_graphs(A)\n",
    "#     breaker()\n",
    "#     if scheduler_oclr:\n",
    "#         show_lr_graph(LR)\n",
    "#         breaker()\n",
    "    \n",
    "#     BLs.append(BL)\n",
    "#     BAs.append(BA)\n",
    "    \n",
    "#     fold += 1"
   ]
  },
  {
   "cell_type": "markdown",
   "id": "1cca1331",
   "metadata": {
    "papermill": {
     "duration": 0.006188,
     "end_time": "2022-09-25T07:25:17.952920",
     "exception": false,
     "start_time": "2022-09-25T07:25:17.946732",
     "status": "completed"
    },
    "tags": []
   },
   "source": [
    "### **Submission**"
   ]
  },
  {
   "cell_type": "code",
   "execution_count": 11,
   "id": "2f38d407",
   "metadata": {
    "execution": {
     "iopub.execute_input": "2022-09-25T07:25:17.967150Z",
     "iopub.status.busy": "2022-09-25T07:25:17.966833Z",
     "iopub.status.idle": "2022-09-25T07:25:17.973010Z",
     "shell.execute_reply": "2022-09-25T07:25:17.972222Z"
    },
    "papermill": {
     "duration": 0.017751,
     "end_time": "2022-09-25T07:25:17.977074",
     "exception": false,
     "start_time": "2022-09-25T07:25:17.959323",
     "status": "completed"
    },
    "tags": []
   },
   "outputs": [],
   "source": [
    "np.random.seed(cfg.seed)\n",
    "seeds = np.random.randint(low=0, high=99, size=(5,))"
   ]
  },
  {
   "cell_type": "markdown",
   "id": "278b9f66",
   "metadata": {
    "papermill": {
     "duration": 0.006871,
     "end_time": "2022-09-25T07:25:17.990857",
     "exception": false,
     "start_time": "2022-09-25T07:25:17.983986",
     "status": "completed"
    },
    "tags": []
   },
   "source": [
    "**Seed No.1**"
   ]
  },
  {
   "cell_type": "code",
   "execution_count": 12,
   "id": "f9add5a3",
   "metadata": {
    "execution": {
     "iopub.execute_input": "2022-09-25T07:25:18.005956Z",
     "iopub.status.busy": "2022-09-25T07:25:18.005549Z",
     "iopub.status.idle": "2022-09-25T07:40:48.609711Z",
     "shell.execute_reply": "2022-09-25T07:40:48.608587Z"
    },
    "papermill": {
     "duration": 930.614999,
     "end_time": "2022-09-25T07:40:48.612700",
     "exception": false,
     "start_time": "2022-09-25T07:25:17.997701",
     "status": "completed"
    },
    "tags": []
   },
   "outputs": [],
   "source": [
    "ss_df = pd.read_csv(\"../input/4-animal-classification/Sample_submission.csv\")\n",
    "ts_filenames = ss_df[\"ID\"]\n",
    "\n",
    "y_pred = np.zeros((1, len(ts_filenames)), dtype=np.uint8)\n",
    "\n",
    "for seed in seeds:\n",
    "    torch.manual_seed(seed)\n",
    "    model = Model().to(cfg.device)\n",
    "\n",
    "    ts_data_setup = DS(\n",
    "        base_path=\"../input/4-animal-classification/test/test\", \n",
    "        filenames=ts_filenames, \n",
    "        size=cfg.size,\n",
    "        transform=cfg.train_transform\n",
    "    )\n",
    "    ts_data = DL(ts_data_setup, batch_size=cfg.batch_size, shuffle=False)\n",
    "\n",
    "    temp_1 = np.zeros((1, len(ts_filenames)), dtype=np.uint8)\n",
    "\n",
    "    paths = os.listdir(MODEL_PATHS + \"/saves\")\n",
    "    for path in paths:\n",
    "        temp_2 = predict_batch(\n",
    "            model=model,\n",
    "            dataloader=ts_data,\n",
    "            path=os.path.join(MODEL_PATHS + \"/saves\", path),\n",
    "            device=cfg.device\n",
    "        )\n",
    "        temp_1 = np.concatenate((temp_1, temp_2.reshape(1, -1)), axis=0)\n",
    "\n",
    "    y_pred = np.concatenate((y_pred, temp_1), axis=0)\n",
    "    \n",
    "y_pred = y_pred[1:]\n",
    "y_pred = stats.mode(y_pred)[0]\n",
    "\n",
    "ss_df[\"Label\"] = y_pred.reshape(-1).astype(\"uint8\")\n",
    "ss_df.to_csv(\"submission.csv\", index=False)"
   ]
  }
 ],
 "metadata": {
  "kernelspec": {
   "display_name": "Python 3",
   "language": "python",
   "name": "python3"
  },
  "language_info": {
   "codemirror_mode": {
    "name": "ipython",
    "version": 3
   },
   "file_extension": ".py",
   "mimetype": "text/x-python",
   "name": "python",
   "nbconvert_exporter": "python",
   "pygments_lexer": "ipython3",
   "version": "3.7.12"
  },
  "papermill": {
   "default_parameters": {},
   "duration": 954.619295,
   "end_time": "2022-09-25T07:40:50.344251",
   "environment_variables": {},
   "exception": null,
   "input_path": "__notebook__.ipynb",
   "output_path": "__notebook__.ipynb",
   "parameters": {},
   "start_time": "2022-09-25T07:24:55.724956",
   "version": "2.3.4"
  }
 },
 "nbformat": 4,
 "nbformat_minor": 5
}
