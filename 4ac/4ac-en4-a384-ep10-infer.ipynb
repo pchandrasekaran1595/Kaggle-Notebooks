{
 "cells": [
  {
   "cell_type": "markdown",
   "id": "66f26a76",
   "metadata": {
    "_cell_guid": "b1076dfc-b9ad-4769-8c92-a6c4dae69d19",
    "_uuid": "8f2839f25d086af736a60e9eeb907d3b93b6e0e5",
    "papermill": {
     "duration": 0.005052,
     "end_time": "2022-09-22T04:43:50.596714",
     "exception": false,
     "start_time": "2022-09-22T04:43:50.591662",
     "status": "completed"
    },
    "tags": []
   },
   "source": [
    "### **Setup**"
   ]
  },
  {
   "cell_type": "code",
   "execution_count": 1,
   "id": "f4e0049e",
   "metadata": {
    "execution": {
     "iopub.execute_input": "2022-09-22T04:43:50.607191Z",
     "iopub.status.busy": "2022-09-22T04:43:50.606346Z",
     "iopub.status.idle": "2022-09-22T04:44:01.125719Z",
     "shell.execute_reply": "2022-09-22T04:44:01.124225Z"
    },
    "papermill": {
     "duration": 10.52787,
     "end_time": "2022-09-22T04:44:01.128762",
     "exception": false,
     "start_time": "2022-09-22T04:43:50.600892",
     "status": "completed"
    },
    "tags": []
   },
   "outputs": [
    {
     "name": "stderr",
     "output_type": "stream",
     "text": [
      "WARNING: Running pip as the 'root' user can result in broken permissions and conflicting behaviour with the system package manager. It is recommended to use a virtual environment instead: https://pip.pypa.io/warnings/venv\n"
     ]
    }
   ],
   "source": [
    "%%bash\n",
    "pip install timm -q"
   ]
  },
  {
   "cell_type": "markdown",
   "id": "59729b81",
   "metadata": {
    "papermill": {
     "duration": 0.003798,
     "end_time": "2022-09-22T04:44:01.136951",
     "exception": false,
     "start_time": "2022-09-22T04:44:01.133153",
     "status": "completed"
    },
    "tags": []
   },
   "source": [
    "### **Library Imports**"
   ]
  },
  {
   "cell_type": "code",
   "execution_count": 2,
   "id": "a1ffd314",
   "metadata": {
    "execution": {
     "iopub.execute_input": "2022-09-22T04:44:01.146202Z",
     "iopub.status.busy": "2022-09-22T04:44:01.145854Z",
     "iopub.status.idle": "2022-09-22T04:44:05.490090Z",
     "shell.execute_reply": "2022-09-22T04:44:05.488977Z"
    },
    "papermill": {
     "duration": 4.351785,
     "end_time": "2022-09-22T04:44:05.492622",
     "exception": false,
     "start_time": "2022-09-22T04:44:01.140837",
     "status": "completed"
    },
    "tags": []
   },
   "outputs": [],
   "source": [
    "import os\n",
    "import re\n",
    "import cv2\n",
    "import timm\n",
    "import torch\n",
    "import numpy as np\n",
    "import pandas as pd\n",
    "import matplotlib.pyplot as plt\n",
    "\n",
    "from time import time\n",
    "from torch import nn, optim\n",
    "from torch.utils.data import Dataset\n",
    "from torch.utils.data import DataLoader as DL\n",
    "from torchvision import models, transforms\n",
    "\n",
    "from sklearn.model_selection import StratifiedKFold"
   ]
  },
  {
   "cell_type": "markdown",
   "id": "110f2b25",
   "metadata": {
    "papermill": {
     "duration": 0.003797,
     "end_time": "2022-09-22T04:44:05.500731",
     "exception": false,
     "start_time": "2022-09-22T04:44:05.496934",
     "status": "completed"
    },
    "tags": []
   },
   "source": [
    "### **Utilities and Helpers**"
   ]
  },
  {
   "cell_type": "code",
   "execution_count": 3,
   "id": "3a8377f9",
   "metadata": {
    "execution": {
     "iopub.execute_input": "2022-09-22T04:44:05.510729Z",
     "iopub.status.busy": "2022-09-22T04:44:05.509993Z",
     "iopub.status.idle": "2022-09-22T04:44:05.518754Z",
     "shell.execute_reply": "2022-09-22T04:44:05.517919Z"
    },
    "papermill": {
     "duration": 0.016094,
     "end_time": "2022-09-22T04:44:05.520809",
     "exception": false,
     "start_time": "2022-09-22T04:44:05.504715",
     "status": "completed"
    },
    "tags": []
   },
   "outputs": [],
   "source": [
    "SEED = 42\n",
    "SIZE = 384\n",
    "\n",
    "\n",
    "def breaker(num: int=50, char: str=\"*\") -> None:\n",
    "    print(\"\\n\" + num*char + \"\\n\")\n",
    "\n",
    "    \n",
    "def get_image(path: str, size: int=224) -> np.ndarray:\n",
    "    image = cv2.imread(path, cv2.IMREAD_COLOR)\n",
    "    image = cv2.cvtColor(src=image, code=cv2.COLOR_BGR2RGB)\n",
    "    return cv2.resize(src=image, dsize=(size, size), interpolation=cv2.INTER_AREA)\n",
    "\n",
    "\n",
    "# def show_loss_graphs(L: list) -> None:\n",
    "#     TL, VL = [], []\n",
    "#     for i in range(len(L)):\n",
    "#         TL.append(L[i][\"train\"])\n",
    "#         VL.append(L[i][\"valid\"])\n",
    "#     x_Axis = np.arange(1, len(TL) + 1)\n",
    "#     plt.figure()\n",
    "#     plt.plot(x_Axis, TL, \"r\", label=\"Train\")\n",
    "#     plt.plot(x_Axis, VL, \"b\", label=\"Valid\")\n",
    "#     plt.legend()\n",
    "#     plt.grid()\n",
    "#     plt.title(\"Loss Graph\")\n",
    "#     plt.show()\n",
    "\n",
    "    \n",
    "# def show_accuracy_graphs(A: list) -> None:\n",
    "#     TA, VA = [], []\n",
    "#     for i in range(len(A)):\n",
    "#         TA.append(A[i][\"train\"])\n",
    "#         VA.append(A[i][\"valid\"])\n",
    "#     x_Axis = np.arange(1, len(TA) + 1)\n",
    "#     plt.figure()\n",
    "#     plt.plot(x_Axis, TA, \"r\", label=\"Train\")\n",
    "#     plt.plot(x_Axis, VA, \"b\", label=\"Valid\")\n",
    "#     plt.legend()\n",
    "#     plt.grid()\n",
    "#     plt.title(\"Accuracy Graph\")\n",
    "#     plt.show()\n",
    "    \n",
    "\n",
    "# def show_lr_graph(LR: list) -> None:\n",
    "#     x_Axis = [i+1 for i in range(len(LR))]\n",
    "#     plt.figure(figsize=(8, 6))\n",
    "#     plt.plot(x_Axis, LR, \"rx\")\n",
    "#     plt.grid()\n",
    "#     plt.show()"
   ]
  },
  {
   "cell_type": "markdown",
   "id": "a3b49fdb",
   "metadata": {
    "papermill": {
     "duration": 0.003797,
     "end_time": "2022-09-22T04:44:05.528847",
     "exception": false,
     "start_time": "2022-09-22T04:44:05.525050",
     "status": "completed"
    },
    "tags": []
   },
   "source": [
    "### **Configuration**"
   ]
  },
  {
   "cell_type": "code",
   "execution_count": 4,
   "id": "9b963557",
   "metadata": {
    "execution": {
     "iopub.execute_input": "2022-09-22T04:44:05.538276Z",
     "iopub.status.busy": "2022-09-22T04:44:05.537995Z",
     "iopub.status.idle": "2022-09-22T04:44:05.614856Z",
     "shell.execute_reply": "2022-09-22T04:44:05.613951Z"
    },
    "papermill": {
     "duration": 0.083595,
     "end_time": "2022-09-22T04:44:05.616814",
     "exception": false,
     "start_time": "2022-09-22T04:44:05.533219",
     "status": "completed"
    },
    "tags": []
   },
   "outputs": [],
   "source": [
    "class CFG(object):\n",
    "    def __init__(self, \n",
    "                 seed: int = 42,\n",
    "                 size: int = 224,\n",
    "                 n_splits: int = 5,\n",
    "                 batch_size: int = 16,\n",
    "                 epochs: int = 25,\n",
    "                 early_stopping: int = 5,\n",
    "                 lr: float = 1e-4,\n",
    "                 wd: float = 0.0,\n",
    "                 max_lr: float = 1e-3,\n",
    "                 pct_start: float = 0.2,\n",
    "                 steps_per_epoch: int = 100,\n",
    "                 div_factor: int = 1e3, \n",
    "                 final_div_factor: float = 1e3,\n",
    "                 ):\n",
    "        self.seed = seed\n",
    "        self.size = size\n",
    "        self.n_splits = n_splits\n",
    "        self.batch_size = batch_size\n",
    "        self.epochs = epochs\n",
    "        self.early_stopping = early_stopping\n",
    "        self.lr = lr\n",
    "        self.wd = wd\n",
    "        self.max_lr = max_lr\n",
    "        self.pct_start = pct_start\n",
    "        self.steps_per_epoch = steps_per_epoch\n",
    "        self.div_factor = div_factor\n",
    "        self.final_div_factor = final_div_factor\n",
    "        self.device = torch.device(\"cuda\" if torch.cuda.is_available() else \"cpu\")\n",
    "        self.train_transform = transforms.Compose([\n",
    "            transforms.ToTensor(),\n",
    "            transforms.Normalize([0.48805, 0.46218, 0.38043], [0.21471, 0.21141, 0.21124]),\n",
    "            transforms.RandomAffine(degrees=(-45, 45), translate=(0.15, 0.15), scale=(0.5, 1.5)),\n",
    "            transforms.RandomHorizontalFlip(p=0.25),\n",
    "            transforms.RandomVerticalFlip(p=0.25),\n",
    "        ])\n",
    "        self.valid_transform = transforms.Compose([\n",
    "            transforms.ToTensor(),\n",
    "            transforms.Normalize([0.48805, 0.46218, 0.38043], [0.21471, 0.21141, 0.21124]),\n",
    "        ])\n",
    "                                \n",
    "        self.save_path = \"saves\"\n",
    "        if not os.path.exists(self.save_path): os.makedirs(self.save_path)\n",
    "    \n",
    "cfg = CFG(seed=SEED, size=SIZE)"
   ]
  },
  {
   "cell_type": "markdown",
   "id": "6e36aad1",
   "metadata": {
    "papermill": {
     "duration": 0.003858,
     "end_time": "2022-09-22T04:44:05.625000",
     "exception": false,
     "start_time": "2022-09-22T04:44:05.621142",
     "status": "completed"
    },
    "tags": []
   },
   "source": [
    "### **Dataset Template**"
   ]
  },
  {
   "cell_type": "code",
   "execution_count": 5,
   "id": "b207ea0e",
   "metadata": {
    "execution": {
     "iopub.execute_input": "2022-09-22T04:44:05.634286Z",
     "iopub.status.busy": "2022-09-22T04:44:05.633965Z",
     "iopub.status.idle": "2022-09-22T04:44:05.638554Z",
     "shell.execute_reply": "2022-09-22T04:44:05.637538Z"
    },
    "papermill": {
     "duration": 0.011759,
     "end_time": "2022-09-22T04:44:05.640827",
     "exception": false,
     "start_time": "2022-09-22T04:44:05.629068",
     "status": "completed"
    },
    "tags": []
   },
   "outputs": [],
   "source": [
    "# class DS(Dataset):\n",
    "#     def __init__(\n",
    "#         self, \n",
    "#         base_path: str,\n",
    "#         filenames: np.ndarray, \n",
    "#         folder_names: np.ndarray, \n",
    "#         labels: np.ndarray, \n",
    "#         size: int,\n",
    "#         transform=None):\n",
    "        \n",
    "#         self.base_path = base_path\n",
    "#         self.filenames = filenames\n",
    "#         self.folder_names = folder_names\n",
    "#         self.labels = labels\n",
    "#         self.size = size\n",
    "#         self.transform = transform\n",
    "    \n",
    "#     def __len__(self):\n",
    "#         return self.filenames.shape[0]\n",
    "    \n",
    "#     def __getitem__(self, idx):\n",
    "#         path = os.path.join(os.path.join(self.base_path, self.folder_names[idx]), self.filenames[idx])\n",
    "#         image = get_image(path, self.size)\n",
    "#         return self.transform(image), self.labels[idx]"
   ]
  },
  {
   "cell_type": "code",
   "execution_count": 6,
   "id": "1894b295",
   "metadata": {
    "execution": {
     "iopub.execute_input": "2022-09-22T04:44:05.650102Z",
     "iopub.status.busy": "2022-09-22T04:44:05.649820Z",
     "iopub.status.idle": "2022-09-22T04:44:05.656239Z",
     "shell.execute_reply": "2022-09-22T04:44:05.655321Z"
    },
    "papermill": {
     "duration": 0.013339,
     "end_time": "2022-09-22T04:44:05.658257",
     "exception": false,
     "start_time": "2022-09-22T04:44:05.644918",
     "status": "completed"
    },
    "tags": []
   },
   "outputs": [],
   "source": [
    "class DS(Dataset):\n",
    "    def __init__(\n",
    "        self, \n",
    "        base_path: str,\n",
    "        filenames: np.ndarray, \n",
    "        size: int,\n",
    "        transform=None):\n",
    "        \n",
    "        self.base_path = base_path\n",
    "        self.filenames = filenames\n",
    "        self.size = size\n",
    "        self.transform = transform\n",
    "    \n",
    "    def __len__(self):\n",
    "        return self.filenames.shape[0]\n",
    "    \n",
    "    def __getitem__(self, idx):\n",
    "        path = os.path.join(self.base_path, str(self.filenames[idx]) + \".jpg\")\n",
    "        image = get_image(path, self.size)\n",
    "        return self.transform(image)"
   ]
  },
  {
   "cell_type": "markdown",
   "id": "0e959df9",
   "metadata": {
    "papermill": {
     "duration": 0.003893,
     "end_time": "2022-09-22T04:44:05.666225",
     "exception": false,
     "start_time": "2022-09-22T04:44:05.662332",
     "status": "completed"
    },
    "tags": []
   },
   "source": [
    "### **Model**"
   ]
  },
  {
   "cell_type": "code",
   "execution_count": 7,
   "id": "a6491939",
   "metadata": {
    "execution": {
     "iopub.execute_input": "2022-09-22T04:44:05.675427Z",
     "iopub.status.busy": "2022-09-22T04:44:05.675163Z",
     "iopub.status.idle": "2022-09-22T04:44:05.682159Z",
     "shell.execute_reply": "2022-09-22T04:44:05.681347Z"
    },
    "papermill": {
     "duration": 0.013854,
     "end_time": "2022-09-22T04:44:05.684160",
     "exception": false,
     "start_time": "2022-09-22T04:44:05.670306",
     "status": "completed"
    },
    "tags": []
   },
   "outputs": [],
   "source": [
    "class Model(nn.Module):\n",
    "    def __init__(self):\n",
    "        super(Model, self).__init__()\n",
    "            \n",
    "        self.model = timm.create_model(model_name=\"efficientnet_b4\", pretrained=False)\n",
    "        self.model.classifier = nn.Linear(in_features=self.model.classifier.in_features, out_features=11)\n",
    "            \n",
    "    def freeze(self):\n",
    "        for params in self.parameters(): params.requires_grad = False\n",
    "\n",
    "    def forward(self, x):\n",
    "        return nn.LogSoftmax(dim=1)(self.model(x))"
   ]
  },
  {
   "cell_type": "markdown",
   "id": "3f9b75df",
   "metadata": {
    "papermill": {
     "duration": 0.003905,
     "end_time": "2022-09-22T04:44:05.692126",
     "exception": false,
     "start_time": "2022-09-22T04:44:05.688221",
     "status": "completed"
    },
    "tags": []
   },
   "source": [
    "### **Fit and Predict**"
   ]
  },
  {
   "cell_type": "code",
   "execution_count": 8,
   "id": "2725a2f6",
   "metadata": {
    "execution": {
     "iopub.execute_input": "2022-09-22T04:44:05.701687Z",
     "iopub.status.busy": "2022-09-22T04:44:05.701432Z",
     "iopub.status.idle": "2022-09-22T04:44:05.711504Z",
     "shell.execute_reply": "2022-09-22T04:44:05.710495Z"
    },
    "papermill": {
     "duration": 0.01774,
     "end_time": "2022-09-22T04:44:05.713885",
     "exception": false,
     "start_time": "2022-09-22T04:44:05.696145",
     "status": "completed"
    },
    "tags": []
   },
   "outputs": [],
   "source": [
    "# def fit(model=None,\n",
    "#         optimizer=None, \n",
    "#         scheduler_rlrop=None,\n",
    "#         scheduler_oclr=None,\n",
    "#         epochs=None, \n",
    "#         early_stopping_patience=None, \n",
    "#         dataloaders=None, \n",
    "#         fold=None, \n",
    "#         save_path=None,\n",
    "#         device=None,\n",
    "#         verbose=False) -> tuple:\n",
    "    \n",
    "#     def get_accuracy(y_pred, y_true):\n",
    "#         y_pred = torch.argmax(y_pred, dim=1)\n",
    "#         return torch.count_nonzero(y_pred == y_true).item() / len(y_pred)\n",
    "    \n",
    "#     if verbose:\n",
    "#         breaker()\n",
    "#         if fold: print(f\"Training Fold {fold}...\")\n",
    "#         else: print(\"Training ...\")\n",
    "#         breaker()\n",
    "        \n",
    "#     bestLoss: dict = {\"train\" : np.inf, \"valid\" : np.inf} \n",
    "#     bestAccs: dict = {\"train\" : 0.0, \"valid\" : 0.0}\n",
    "        \n",
    "#     Losses: list = []\n",
    "#     Accuracies: list = [] \n",
    "#     LRs: list = []\n",
    "        \n",
    "#     if fold: \n",
    "#         ble_name = f\"ble_state_fold_{fold}.pt\"\n",
    "#         bae_name = f\"bae_state_fold_{fold}.pt\"\n",
    "#     else: \n",
    "#         ble_name = f\"ble_state.pt\"\n",
    "#         bae_name = f\"bae_state.pt\"\n",
    "    \n",
    "#     start_time = time()\n",
    "#     for e in range(epochs):\n",
    "#         e_st = time()\n",
    "#         epochLoss: dict = {\"train\" : 0.0, \"valid\" : 0.0} \n",
    "#         epochAccs: dict = {\"train\" : 0.0, \"valid\" : 0.0}\n",
    "\n",
    "#         for phase in [\"train\", \"valid\"]:\n",
    "#             if phase == \"train\":\n",
    "#                 model.train()\n",
    "#             else:\n",
    "#                 model.eval()\n",
    "            \n",
    "#             lossPerPass: list = []\n",
    "#             accsPerPass: list = []\n",
    "                \n",
    "#             for X, y in dataloaders[phase]:\n",
    "#                 X, y = X.to(device), y.to(device).view(-1)\n",
    "\n",
    "#                 optimizer.zero_grad()\n",
    "#                 with torch.set_grad_enabled(phase == \"train\"):\n",
    "#                     output = model(X)\n",
    "#                     loss = torch.nn.NLLLoss()(output, y)\n",
    "#                     if phase == \"train\":\n",
    "#                         loss.backward()\n",
    "#                         optimizer.step()\n",
    "#                         if scheduler_oclr: scheduler_oclr.step()\n",
    "#                 lossPerPass.append(loss.item())\n",
    "#                 accsPerPass.append(get_accuracy(output, y))\n",
    "#             epochLoss[phase] = np.mean(np.array(lossPerPass))\n",
    "#             epochAccs[phase] = np.mean(np.array(accsPerPass))\n",
    "#         if scheduler_oclr: LRs.append(scheduler_oclr.get_last_lr())\n",
    "#         Losses.append(epochLoss)\n",
    "#         Accuracies.append(epochAccs)\n",
    "    \n",
    "#         if scheduler_oclr:\n",
    "#             save_dict = {\"model_state_dict\"     : model.state_dict(),\n",
    "#                          \"optim_state_dict\"     : optimizer.state_dict(),\n",
    "#                          \"scheduler_state_dict\" : scheduler_oclr.state_dict()}\n",
    "        \n",
    "#         elif scheduler_rlrop:\n",
    "#             save_dict = {\"model_state_dict\"     : model.state_dict(),\n",
    "#                          \"optim_state_dict\"     : optimizer.state_dict(),\n",
    "#                          \"scheduler_state_dict\" : scheduler_rlrop.state_dict()}\n",
    "        \n",
    "#         else:\n",
    "#             save_dict = {\"model_state_dict\"     : model.state_dict(),\n",
    "#                          \"optim_state_dict\"     : optimizer.state_dict()}\n",
    "        \n",
    "        \n",
    "#         if early_stopping_patience:\n",
    "#             if epochLoss[\"valid\"] < bestLoss[\"valid\"]:\n",
    "#                 bestLoss = epochLoss\n",
    "#                 BLE = e + 1\n",
    "#                 torch.save(save_dict, os.path.join(save_path, ble_name))\n",
    "#                 torch.save(save_dict, os.path.join(save_path, bae_name))\n",
    "#                 early_stopping_step = 0\n",
    "#             else:\n",
    "#                 early_stopping_step += 1\n",
    "#                 if early_stopping_step > early_stopping_patience:\n",
    "#                     print(\"\\nEarly Stopping at Epoch {}\".format(e + 1))\n",
    "#                     break\n",
    "        \n",
    "#         if epochLoss[\"valid\"] < bestLoss[\"valid\"]:\n",
    "#             bestLoss = epochLoss\n",
    "#             BLE = e + 1\n",
    "#             torch.save(save_dict,os.path.join(save_path, ble_name))\n",
    "        \n",
    "#         if epochAccs[\"valid\"] > bestAccs[\"valid\"]:\n",
    "#             bestAccs = epochAccs\n",
    "#             BAE = e + 1\n",
    "#             torch.save(save_dict,os.path.join(save_path, bae_name))\n",
    "        \n",
    "#         if scheduler_rlrop: scheduler_rlrop.step(epochLoss[\"valid\"])\n",
    "        \n",
    "#         if verbose:\n",
    "#             print(\"Epoch: {} | Train Loss: {:.5f} | Valid Loss: {:.5f} |\\\n",
    "#  Train Accs: {:.5f} | Valid Accs: {:.5f} | Time: {:.2f} seconds\".format(e+1, \n",
    "#                                                                         epochLoss[\"train\"], epochLoss[\"valid\"], \n",
    "#                                                                         epochAccs[\"train\"], epochAccs[\"valid\"], \n",
    "#                                                                         time()-e_st))\n",
    "\n",
    "#     if verbose:                                           \n",
    "#         breaker()\n",
    "#         print(f\"Best Validation Loss at Epoch {BLE}\")\n",
    "#         breaker()\n",
    "#         print(f\"Best Validation Accs at Epoch {BAE}\")\n",
    "#         breaker()\n",
    "#         print(\"Time Taken [{} Epochs] : {:.2f} minutes\".format(len(Losses), (time()-start_time)/60))\n",
    "    \n",
    "#     return Losses, Accuracies, LRs, BLE, BAE, ble_name, bae_name\n",
    "\n",
    "\n",
    "def predict_batch(model=None, dataloader=None, path=None, device=None) -> np.ndarray:\n",
    "    model.load_state_dict(torch.load(path, map_location=device)[\"model_state_dict\"])\n",
    "    model.to(device)    \n",
    "    model.eval()\n",
    "    \n",
    "    y_pred = torch.zeros(1, 1).to(device)\n",
    "    \n",
    "    for X in dataloader:\n",
    "        X = X.to(device)\n",
    "        with torch.no_grad():\n",
    "            output = torch.argmax(torch.exp(model(X)), dim=1)\n",
    "        y_pred = torch.cat((y_pred, output.view(-1, 1)), dim=0)\n",
    "    \n",
    "    return y_pred[1:].detach().cpu().numpy()"
   ]
  },
  {
   "cell_type": "markdown",
   "id": "455f8069",
   "metadata": {
    "papermill": {
     "duration": 0.003979,
     "end_time": "2022-09-22T04:44:05.722083",
     "exception": false,
     "start_time": "2022-09-22T04:44:05.718104",
     "status": "completed"
    },
    "tags": []
   },
   "source": [
    "### **Train**"
   ]
  },
  {
   "cell_type": "code",
   "execution_count": 9,
   "id": "5fc5e7b0",
   "metadata": {
    "execution": {
     "iopub.execute_input": "2022-09-22T04:44:05.731359Z",
     "iopub.status.busy": "2022-09-22T04:44:05.731097Z",
     "iopub.status.idle": "2022-09-22T04:44:05.734694Z",
     "shell.execute_reply": "2022-09-22T04:44:05.733832Z"
    },
    "papermill": {
     "duration": 0.010563,
     "end_time": "2022-09-22T04:44:05.736718",
     "exception": false,
     "start_time": "2022-09-22T04:44:05.726155",
     "status": "completed"
    },
    "tags": []
   },
   "outputs": [],
   "source": [
    "# df = pd.read_csv(\"../input/4ac-dataframe/data.csv\")\n",
    "\n",
    "# filenames = df.filenames.copy().values\n",
    "# folder_names = df.folder_names.copy().values\n",
    "# labels = df.classes.copy().values"
   ]
  },
  {
   "cell_type": "code",
   "execution_count": 10,
   "id": "8bf5a53e",
   "metadata": {
    "execution": {
     "iopub.execute_input": "2022-09-22T04:44:05.747216Z",
     "iopub.status.busy": "2022-09-22T04:44:05.746939Z",
     "iopub.status.idle": "2022-09-22T04:44:05.752635Z",
     "shell.execute_reply": "2022-09-22T04:44:05.751650Z"
    },
    "papermill": {
     "duration": 0.014019,
     "end_time": "2022-09-22T04:44:05.754846",
     "exception": false,
     "start_time": "2022-09-22T04:44:05.740827",
     "status": "completed"
    },
    "tags": []
   },
   "outputs": [],
   "source": [
    "# fold: int = 1\n",
    "# BLEs: list = []\n",
    "# BAEs: list = []\n",
    "    \n",
    "# for tr_idx, va_idx in StratifiedKFold(n_splits=cfg.n_splits, random_state=cfg.seed, shuffle=True).split(filenames, labels):\n",
    "\n",
    "#     tr_filenames, va_filenames       = filenames[tr_idx], filenames[va_idx] \n",
    "#     tr_folder_names, va_folder_names = folder_names[tr_idx], folder_names[va_idx] \n",
    "#     tr_labels, va_labels             = labels[tr_idx], labels[va_idx]\n",
    "    \n",
    "#     tr_data_setup = DS(\n",
    "#         base_path=\"../input/4-animal-classification/train\", \n",
    "#         filenames=tr_filenames, \n",
    "#         folder_names=tr_folder_names,\n",
    "#         labels=tr_labels.reshape(-1, 1),\n",
    "#         size=cfg.size,\n",
    "#         transform=cfg.train_transform)\n",
    "    \n",
    "#     va_data_setup = DS(\n",
    "#         base_path=\"../input/4-animal-classification/train\", \n",
    "#         filenames=va_filenames, \n",
    "#         folder_names=va_folder_names,\n",
    "#         labels=va_labels.reshape(-1, 1),\n",
    "#         size=cfg.size,\n",
    "#         transform=cfg.valid_transform)\n",
    "\n",
    "#     dataloaders = {\n",
    "#         \"train\" : DL(tr_data_setup, batch_size=cfg.batch_size, shuffle=True, generator=torch.manual_seed(cfg.seed)),\n",
    "#         \"valid\" : DL(va_data_setup, batch_size=cfg.batch_size, shuffle=False),\n",
    "#     }\n",
    "\n",
    "#     cfg = CFG(\n",
    "#         epochs=10, \n",
    "#         batch_size=16, \n",
    "#         steps_per_epoch=len(dataloaders[\"train\"])\n",
    "#     )\n",
    "    \n",
    "#     torch.manual_seed(cfg.seed)\n",
    "#     model = Model().to(cfg.device)\n",
    "\n",
    "#     optimizer = optim.Adam([p for p in model.parameters() if p.requires_grad], lr=cfg.lr, weight_decay=cfg.wd)\n",
    "#     # optimizer = optim.AdamW([p for p in model.parameters() if p.requires_grad], lr=cfg.lr, weight_decay=cfg.wd)\n",
    "#     # optimizer = optim.SGD([p for p in model.parameters() if p.requires_grad], lr=cfg.lr, weight_decay=cfg.wd, momentum=0.9)\n",
    "    \n",
    "#     scheduler_oclr = optim.lr_scheduler.OneCycleLR(\n",
    "#         optimizer=optimizer, \n",
    "#         max_lr=cfg.max_lr, \n",
    "#         epochs=cfg.epochs, \n",
    "#         steps_per_epoch=cfg.steps_per_epoch,\n",
    "#         pct_start=cfg.pct_start, \n",
    "#         div_factor=cfg.div_factor, \n",
    "#         final_div_factor=cfg.final_div_factor\n",
    "#     )\n",
    "\n",
    "#     # scheduler_rlrop = optim.lr_scheduler.ReduceLROnPlateau(\n",
    "#     #     optimizer=optimizer,\n",
    "#     #     patience=cfg.patience,\n",
    "#     #     eps=cfg.eps,\n",
    "#     #     verbose=True\n",
    "#     # )\n",
    "\n",
    "#     # scheduler_oclr = None\n",
    "#     scheduler_rlrop = None\n",
    "    \n",
    "#     L, A, LR, BLE, BAE, _, _ = fit(\n",
    "#         model=model, \n",
    "#         optimizer=optimizer, \n",
    "#         scheduler_oclr=scheduler_oclr,\n",
    "#         scheduler_rlrop=scheduler_rlrop,\n",
    "#         epochs=cfg.epochs, \n",
    "#         early_stopping_patience=cfg.early_stopping, \n",
    "#         dataloaders=dataloaders, \n",
    "#         device=cfg.device,\n",
    "#         save_path=cfg.save_path,\n",
    "#         fold=fold,\n",
    "#         verbose=True\n",
    "#     )\n",
    "    \n",
    "#     breaker()\n",
    "#     show_loss_graphs(L)\n",
    "#     breaker()\n",
    "#     show_accuracy_graphs(A)\n",
    "#     breaker()\n",
    "#     if scheduler_oclr:\n",
    "#         show_lr_graph(LR)\n",
    "#         breaker()\n",
    "    \n",
    "#     BLEs.append(BLE)\n",
    "#     BAEs.append(BAE)\n",
    "    \n",
    "#     fold += 1"
   ]
  },
  {
   "cell_type": "markdown",
   "id": "3a34e100",
   "metadata": {
    "papermill": {
     "duration": 0.004025,
     "end_time": "2022-09-22T04:44:05.763058",
     "exception": false,
     "start_time": "2022-09-22T04:44:05.759033",
     "status": "completed"
    },
    "tags": []
   },
   "source": [
    "### **Best Model**"
   ]
  },
  {
   "cell_type": "code",
   "execution_count": 11,
   "id": "f0c4c913",
   "metadata": {
    "execution": {
     "iopub.execute_input": "2022-09-22T04:44:05.772461Z",
     "iopub.status.busy": "2022-09-22T04:44:05.772199Z",
     "iopub.status.idle": "2022-09-22T04:44:05.776104Z",
     "shell.execute_reply": "2022-09-22T04:44:05.775170Z"
    },
    "papermill": {
     "duration": 0.010845,
     "end_time": "2022-09-22T04:44:05.778051",
     "exception": false,
     "start_time": "2022-09-22T04:44:05.767206",
     "status": "completed"
    },
    "tags": []
   },
   "outputs": [],
   "source": [
    "# best_loss_index = BLEs.index(min(BLEs))\n",
    "# best_accs_index = BAEs.index(max(BAEs))\n",
    "\n",
    "# breaker()\n",
    "# print(f\"Best Loss Model Fold     : {best_loss_index + 1}\")\n",
    "# print(f\"Best Accuracy Model Fold : {best_accs_index + 1}\")\n",
    "# breaker()"
   ]
  },
  {
   "cell_type": "markdown",
   "id": "f5f275dc",
   "metadata": {
    "papermill": {
     "duration": 0.00416,
     "end_time": "2022-09-22T04:44:05.786412",
     "exception": false,
     "start_time": "2022-09-22T04:44:05.782252",
     "status": "completed"
    },
    "tags": []
   },
   "source": [
    "### **Submit**"
   ]
  },
  {
   "cell_type": "code",
   "execution_count": 12,
   "id": "dea4d93d",
   "metadata": {
    "execution": {
     "iopub.execute_input": "2022-09-22T04:44:05.795860Z",
     "iopub.status.busy": "2022-09-22T04:44:05.795600Z",
     "iopub.status.idle": "2022-09-22T04:44:32.348835Z",
     "shell.execute_reply": "2022-09-22T04:44:32.347630Z"
    },
    "papermill": {
     "duration": 26.560868,
     "end_time": "2022-09-22T04:44:32.351468",
     "exception": false,
     "start_time": "2022-09-22T04:44:05.790600",
     "status": "completed"
    },
    "tags": []
   },
   "outputs": [],
   "source": [
    "torch.manual_seed(cfg.seed)\n",
    "model = Model().to(cfg.device)\n",
    "\n",
    "ss_df = pd.read_csv(\"../input/4-animal-classification/Sample_submission.csv\")\n",
    "ts_filenames = ss_df[\"ID\"]\n",
    "\n",
    "ts_data_setup = DS(\n",
    "    base_path=\"../input/4-animal-classification/test/test\", \n",
    "    filenames=ts_filenames, \n",
    "    size=cfg.size,\n",
    "    transform=cfg.valid_transform,\n",
    ")\n",
    "ts_data = DL(ts_data_setup, batch_size=cfg.batch_size, shuffle=False)\n",
    "\n",
    "y_pred = predict_batch(\n",
    "    model=model,\n",
    "    dataloader=ts_data,\n",
    "    path=\"../input/4ac-en4-a384-ep10/saves/ble_state_fold_1.pt\",\n",
    "    device=cfg.device\n",
    ")\n",
    "\n",
    "ss_df[\"Label\"] = y_pred.astype(\"uint8\")\n",
    "ss_df.to_csv(\"submission.csv\", index=False)"
   ]
  }
 ],
 "metadata": {
  "kernelspec": {
   "display_name": "Python 3",
   "language": "python",
   "name": "python3"
  },
  "language_info": {
   "codemirror_mode": {
    "name": "ipython",
    "version": 3
   },
   "file_extension": ".py",
   "mimetype": "text/x-python",
   "name": "python",
   "nbconvert_exporter": "python",
   "pygments_lexer": "ipython3",
   "version": "3.7.12"
  },
  "papermill": {
   "default_parameters": {},
   "duration": 51.266336,
   "end_time": "2022-09-22T04:44:33.979760",
   "environment_variables": {},
   "exception": null,
   "input_path": "__notebook__.ipynb",
   "output_path": "__notebook__.ipynb",
   "parameters": {},
   "start_time": "2022-09-22T04:43:42.713424",
   "version": "2.3.4"
  }
 },
 "nbformat": 4,
 "nbformat_minor": 5
}
