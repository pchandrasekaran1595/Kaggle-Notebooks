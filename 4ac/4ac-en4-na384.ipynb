{
 "cells": [
  {
   "cell_type": "markdown",
   "id": "8adb4c70",
   "metadata": {
    "_cell_guid": "b1076dfc-b9ad-4769-8c92-a6c4dae69d19",
    "_uuid": "8f2839f25d086af736a60e9eeb907d3b93b6e0e5",
    "papermill": {
     "duration": 0.010671,
     "end_time": "2022-09-20T09:42:57.766974",
     "exception": false,
     "start_time": "2022-09-20T09:42:57.756303",
     "status": "completed"
    },
    "tags": []
   },
   "source": [
    "### **Setup**"
   ]
  },
  {
   "cell_type": "code",
   "execution_count": 1,
   "id": "7aec291e",
   "metadata": {
    "execution": {
     "iopub.execute_input": "2022-09-20T09:42:57.785364Z",
     "iopub.status.busy": "2022-09-20T09:42:57.784827Z",
     "iopub.status.idle": "2022-09-20T09:43:08.263293Z",
     "shell.execute_reply": "2022-09-20T09:43:08.261963Z"
    },
    "papermill": {
     "duration": 10.490486,
     "end_time": "2022-09-20T09:43:08.265678",
     "exception": false,
     "start_time": "2022-09-20T09:42:57.775192",
     "status": "completed"
    },
    "tags": []
   },
   "outputs": [
    {
     "name": "stderr",
     "output_type": "stream",
     "text": [
      "WARNING: Running pip as the 'root' user can result in broken permissions and conflicting behaviour with the system package manager. It is recommended to use a virtual environment instead: https://pip.pypa.io/warnings/venv\n"
     ]
    }
   ],
   "source": [
    "%%bash\n",
    "pip install timm -q"
   ]
  },
  {
   "cell_type": "markdown",
   "id": "ab66e35b",
   "metadata": {
    "papermill": {
     "duration": 0.003737,
     "end_time": "2022-09-20T09:43:08.273635",
     "exception": false,
     "start_time": "2022-09-20T09:43:08.269898",
     "status": "completed"
    },
    "tags": []
   },
   "source": [
    "### **Library Imports**"
   ]
  },
  {
   "cell_type": "code",
   "execution_count": 2,
   "id": "8447c178",
   "metadata": {
    "execution": {
     "iopub.execute_input": "2022-09-20T09:43:08.282921Z",
     "iopub.status.busy": "2022-09-20T09:43:08.282581Z",
     "iopub.status.idle": "2022-09-20T09:43:12.024682Z",
     "shell.execute_reply": "2022-09-20T09:43:12.023550Z"
    },
    "papermill": {
     "duration": 3.749926,
     "end_time": "2022-09-20T09:43:12.027411",
     "exception": false,
     "start_time": "2022-09-20T09:43:08.277485",
     "status": "completed"
    },
    "tags": []
   },
   "outputs": [],
   "source": [
    "import os\n",
    "import re\n",
    "import cv2\n",
    "import timm\n",
    "import torch\n",
    "import numpy as np\n",
    "import pandas as pd\n",
    "import matplotlib.pyplot as plt\n",
    "\n",
    "from time import time, sleep\n",
    "from torch import nn, optim\n",
    "from torch.utils.data import Dataset\n",
    "from torch.utils.data import DataLoader as DL\n",
    "from torchvision import models, transforms\n",
    "\n",
    "from sklearn.model_selection import StratifiedKFold"
   ]
  },
  {
   "cell_type": "markdown",
   "id": "48bc4461",
   "metadata": {
    "papermill": {
     "duration": 0.00397,
     "end_time": "2022-09-20T09:43:12.035655",
     "exception": false,
     "start_time": "2022-09-20T09:43:12.031685",
     "status": "completed"
    },
    "tags": []
   },
   "source": [
    "### **Utilities and Helpers**"
   ]
  },
  {
   "cell_type": "code",
   "execution_count": 3,
   "id": "ec3b7bcc",
   "metadata": {
    "execution": {
     "iopub.execute_input": "2022-09-20T09:43:12.045557Z",
     "iopub.status.busy": "2022-09-20T09:43:12.044836Z",
     "iopub.status.idle": "2022-09-20T09:43:12.057299Z",
     "shell.execute_reply": "2022-09-20T09:43:12.056268Z"
    },
    "papermill": {
     "duration": 0.020079,
     "end_time": "2022-09-20T09:43:12.059730",
     "exception": false,
     "start_time": "2022-09-20T09:43:12.039651",
     "status": "completed"
    },
    "tags": []
   },
   "outputs": [],
   "source": [
    "SEED = 42\n",
    "SIZE = 384\n",
    "\n",
    "\n",
    "def breaker(num: int=50, char: str=\"*\") -> None:\n",
    "    print(\"\\n\" + num*char + \"\\n\")\n",
    "\n",
    "    \n",
    "def get_image(path: str, size: int=224) -> np.ndarray:\n",
    "    image = cv2.imread(path, cv2.IMREAD_COLOR)\n",
    "    image = cv2.cvtColor(src=image, code=cv2.COLOR_BGR2RGB)\n",
    "    return cv2.resize(src=image, dsize=(size, size), interpolation=cv2.INTER_AREA)\n",
    "\n",
    "\n",
    "def show_loss_graphs(L: list) -> None:\n",
    "    TL, VL = [], []\n",
    "    for i in range(len(L)):\n",
    "        TL.append(L[i][\"train\"])\n",
    "        VL.append(L[i][\"valid\"])\n",
    "    x_Axis = np.arange(1, len(TL) + 1)\n",
    "    plt.figure()\n",
    "    plt.plot(x_Axis, TL, \"r\", label=\"Train\")\n",
    "    plt.plot(x_Axis, VL, \"b\", label=\"Valid\")\n",
    "    plt.legend()\n",
    "    plt.grid()\n",
    "    plt.title(\"Loss Graph\")\n",
    "    plt.show()\n",
    "\n",
    "    \n",
    "def show_accuracy_graphs(A: list) -> None:\n",
    "    TA, VA = [], []\n",
    "    for i in range(len(A)):\n",
    "        TA.append(A[i][\"train\"])\n",
    "        VA.append(A[i][\"valid\"])\n",
    "    x_Axis = np.arange(1, len(TA) + 1)\n",
    "    plt.figure()\n",
    "    plt.plot(x_Axis, TA, \"r\", label=\"Train\")\n",
    "    plt.plot(x_Axis, VA, \"b\", label=\"Valid\")\n",
    "    plt.legend()\n",
    "    plt.grid()\n",
    "    plt.title(\"Accuracy Graph\")\n",
    "    plt.show()\n",
    "    \n",
    "\n",
    "def show_lr_graph(LR: list) -> None:\n",
    "    x_Axis = [i+1 for i in range(len(LR))]\n",
    "    plt.figure(figsize=(8, 6))\n",
    "    plt.plot(x_Axis, LR, \"rx\")\n",
    "    plt.grid()\n",
    "    plt.show()"
   ]
  },
  {
   "cell_type": "markdown",
   "id": "e7ab0add",
   "metadata": {
    "papermill": {
     "duration": 0.003838,
     "end_time": "2022-09-20T09:43:12.067610",
     "exception": false,
     "start_time": "2022-09-20T09:43:12.063772",
     "status": "completed"
    },
    "tags": []
   },
   "source": [
    "### **Configuration**"
   ]
  },
  {
   "cell_type": "code",
   "execution_count": 4,
   "id": "2deb59b8",
   "metadata": {
    "execution": {
     "iopub.execute_input": "2022-09-20T09:43:12.076616Z",
     "iopub.status.busy": "2022-09-20T09:43:12.076356Z",
     "iopub.status.idle": "2022-09-20T09:43:12.141200Z",
     "shell.execute_reply": "2022-09-20T09:43:12.140358Z"
    },
    "papermill": {
     "duration": 0.071545,
     "end_time": "2022-09-20T09:43:12.143087",
     "exception": false,
     "start_time": "2022-09-20T09:43:12.071542",
     "status": "completed"
    },
    "tags": []
   },
   "outputs": [],
   "source": [
    "class CFG(object):\n",
    "    def __init__(self, \n",
    "                 seed: int = 42,\n",
    "                 size: int = 224,\n",
    "                 n_splits: int = 5,\n",
    "                 batch_size: int = 16,\n",
    "                 epochs: int = 25,\n",
    "                 early_stopping: int = 5,\n",
    "                 lr: float = 1e-4,\n",
    "                 wd: float = 0.0,\n",
    "                 max_lr: float = 1e-3,\n",
    "                 pct_start: float = 0.2,\n",
    "                 steps_per_epoch: int = 100,\n",
    "                 div_factor: int = 1e3, \n",
    "                 final_div_factor: float = 1e3,\n",
    "                 ):\n",
    "        self.seed = seed\n",
    "        self.size = size\n",
    "        self.n_splits = n_splits\n",
    "        self.batch_size = batch_size\n",
    "        self.epochs = epochs\n",
    "        self.early_stopping = early_stopping\n",
    "        self.lr = lr\n",
    "        self.wd = wd\n",
    "        self.max_lr = max_lr\n",
    "        self.pct_start = pct_start\n",
    "        self.steps_per_epoch = steps_per_epoch\n",
    "        self.div_factor = div_factor\n",
    "        self.final_div_factor = final_div_factor\n",
    "        self.device = torch.device(\"cuda\" if torch.cuda.is_available() else \"cpu\")\n",
    "        self.train_transform = transforms.Compose([\n",
    "            transforms.ToTensor(),\n",
    "            transforms.Normalize([0.48805, 0.46218, 0.38043], [0.21471, 0.21141, 0.21124]),\n",
    "        ])\n",
    "        self.valid_transform = transforms.Compose([\n",
    "            transforms.ToTensor(),\n",
    "            transforms.Normalize([0.48805, 0.46218, 0.38043], [0.21471, 0.21141, 0.21124]),\n",
    "        ])\n",
    "                                \n",
    "        self.save_path = \"saves\"\n",
    "        if not os.path.exists(self.save_path): os.makedirs(self.save_path)\n",
    "    \n",
    "cfg = CFG(seed=SEED, size=SIZE)"
   ]
  },
  {
   "cell_type": "markdown",
   "id": "c4ab58bc",
   "metadata": {
    "papermill": {
     "duration": 0.004044,
     "end_time": "2022-09-20T09:43:12.151517",
     "exception": false,
     "start_time": "2022-09-20T09:43:12.147473",
     "status": "completed"
    },
    "tags": []
   },
   "source": [
    "### **Dataset Template**"
   ]
  },
  {
   "cell_type": "code",
   "execution_count": 5,
   "id": "1f998604",
   "metadata": {
    "execution": {
     "iopub.execute_input": "2022-09-20T09:43:12.161909Z",
     "iopub.status.busy": "2022-09-20T09:43:12.160475Z",
     "iopub.status.idle": "2022-09-20T09:43:12.167980Z",
     "shell.execute_reply": "2022-09-20T09:43:12.167062Z"
    },
    "papermill": {
     "duration": 0.014408,
     "end_time": "2022-09-20T09:43:12.169955",
     "exception": false,
     "start_time": "2022-09-20T09:43:12.155547",
     "status": "completed"
    },
    "tags": []
   },
   "outputs": [],
   "source": [
    "class DS(Dataset):\n",
    "    def __init__(\n",
    "        self, \n",
    "        base_path: str,\n",
    "        filenames: np.ndarray, \n",
    "        folder_names: np.ndarray, \n",
    "        labels: np.ndarray, \n",
    "        size: int,\n",
    "        transform=None):\n",
    "        \n",
    "        self.base_path = base_path\n",
    "        self.filenames = filenames\n",
    "        self.folder_names = folder_names\n",
    "        self.labels = labels\n",
    "        self.size = size\n",
    "        self.transform = transform\n",
    "    \n",
    "    def __len__(self):\n",
    "        return self.filenames.shape[0]\n",
    "    \n",
    "    def __getitem__(self, idx):\n",
    "        path = os.path.join(os.path.join(self.base_path, self.folder_names[idx]), self.filenames[idx])\n",
    "        image = get_image(path, self.size)\n",
    "        return self.transform(image), self.labels[idx]"
   ]
  },
  {
   "cell_type": "code",
   "execution_count": 6,
   "id": "beaf2488",
   "metadata": {
    "execution": {
     "iopub.execute_input": "2022-09-20T09:43:12.179246Z",
     "iopub.status.busy": "2022-09-20T09:43:12.178981Z",
     "iopub.status.idle": "2022-09-20T09:43:12.184024Z",
     "shell.execute_reply": "2022-09-20T09:43:12.183211Z"
    },
    "papermill": {
     "duration": 0.011975,
     "end_time": "2022-09-20T09:43:12.185967",
     "exception": false,
     "start_time": "2022-09-20T09:43:12.173992",
     "status": "completed"
    },
    "tags": []
   },
   "outputs": [],
   "source": [
    "# class DS(Dataset):\n",
    "#     def __init__(\n",
    "#         self, \n",
    "#         base_path: str,\n",
    "#         filenames: np.ndarray, \n",
    "#         size: int,\n",
    "#         transform=None):\n",
    "        \n",
    "#         self.base_path = base_path\n",
    "#         self.filenames = filenames\n",
    "#         self.size = size\n",
    "#         self.transform = transform\n",
    "    \n",
    "#     def __len__(self):\n",
    "#         return self.filenames.shape[0]\n",
    "    \n",
    "#     def __getitem__(self, idx):\n",
    "#         path = os.path.join(self.base_path, str(self.filenames[idx]) + \".jpg\")\n",
    "#         image = get_image(path, self.size)\n",
    "#         return self.transform(image)"
   ]
  },
  {
   "cell_type": "markdown",
   "id": "0e918a71",
   "metadata": {
    "papermill": {
     "duration": 0.003813,
     "end_time": "2022-09-20T09:43:12.193801",
     "exception": false,
     "start_time": "2022-09-20T09:43:12.189988",
     "status": "completed"
    },
    "tags": []
   },
   "source": [
    "### **Model**"
   ]
  },
  {
   "cell_type": "code",
   "execution_count": 7,
   "id": "811bc5bb",
   "metadata": {
    "execution": {
     "iopub.execute_input": "2022-09-20T09:43:12.203072Z",
     "iopub.status.busy": "2022-09-20T09:43:12.202790Z",
     "iopub.status.idle": "2022-09-20T09:43:12.208882Z",
     "shell.execute_reply": "2022-09-20T09:43:12.207866Z"
    },
    "papermill": {
     "duration": 0.013134,
     "end_time": "2022-09-20T09:43:12.211093",
     "exception": false,
     "start_time": "2022-09-20T09:43:12.197959",
     "status": "completed"
    },
    "tags": []
   },
   "outputs": [],
   "source": [
    "class Model(nn.Module):\n",
    "    def __init__(self):\n",
    "        super(Model, self).__init__()\n",
    "            \n",
    "        self.model = timm.create_model(model_name=\"efficientnet_b4\", pretrained=True)\n",
    "        self.model.classifier = nn.Linear(in_features=self.model.classifier.in_features, out_features=11)\n",
    "            \n",
    "    def freeze(self):\n",
    "        for params in self.parameters(): params.requires_grad = False\n",
    "\n",
    "    def forward(self, x):\n",
    "        return nn.LogSoftmax(dim=1)(self.model(x))"
   ]
  },
  {
   "cell_type": "markdown",
   "id": "a12774a6",
   "metadata": {
    "papermill": {
     "duration": 0.003922,
     "end_time": "2022-09-20T09:43:12.219086",
     "exception": false,
     "start_time": "2022-09-20T09:43:12.215164",
     "status": "completed"
    },
    "tags": []
   },
   "source": [
    "### **Fit and Predict**"
   ]
  },
  {
   "cell_type": "code",
   "execution_count": 8,
   "id": "fbe75534",
   "metadata": {
    "execution": {
     "iopub.execute_input": "2022-09-20T09:43:12.228725Z",
     "iopub.status.busy": "2022-09-20T09:43:12.228467Z",
     "iopub.status.idle": "2022-09-20T09:43:12.249442Z",
     "shell.execute_reply": "2022-09-20T09:43:12.248448Z"
    },
    "papermill": {
     "duration": 0.0287,
     "end_time": "2022-09-20T09:43:12.251853",
     "exception": false,
     "start_time": "2022-09-20T09:43:12.223153",
     "status": "completed"
    },
    "tags": []
   },
   "outputs": [],
   "source": [
    "def fit(model=None,\n",
    "        optimizer=None, \n",
    "        scheduler_rlrop=None,\n",
    "        scheduler_oclr=None,\n",
    "        epochs=None, \n",
    "        early_stopping_patience=None, \n",
    "        dataloaders=None, \n",
    "        fold=None, \n",
    "        save_path=None,\n",
    "        device=None,\n",
    "        verbose=False) -> tuple:\n",
    "    \n",
    "    def get_accuracy(y_pred, y_true):\n",
    "        y_pred = torch.argmax(y_pred, dim=1)\n",
    "        return torch.count_nonzero(y_pred == y_true).item() / len(y_pred)\n",
    "    \n",
    "    if verbose:\n",
    "        breaker()\n",
    "        if fold: print(f\"Training Fold {fold}...\")\n",
    "        else: print(\"Training ...\")\n",
    "        breaker()\n",
    "        \n",
    "    bestLoss: dict = {\"train\" : np.inf, \"valid\" : np.inf} \n",
    "    bestAccs: dict = {\"train\" : 0.0, \"valid\" : 0.0}\n",
    "        \n",
    "    Losses: list = []\n",
    "    Accuracies: list = [] \n",
    "    LRs: list = []\n",
    "        \n",
    "    if fold: \n",
    "        ble_name = f\"ble_state_fold_{fold}.pt\"\n",
    "        bae_name = f\"bae_state_fold_{fold}.pt\"\n",
    "    else: \n",
    "        ble_name = f\"ble_state.pt\"\n",
    "        bae_name = f\"bae_state.pt\"\n",
    "    \n",
    "    start_time = time()\n",
    "    for e in range(epochs):\n",
    "        e_st = time()\n",
    "        epochLoss: dict = {\"train\" : 0.0, \"valid\" : 0.0} \n",
    "        epochAccs: dict = {\"train\" : 0.0, \"valid\" : 0.0}\n",
    "\n",
    "        for phase in [\"train\", \"valid\"]:\n",
    "            if phase == \"train\":\n",
    "                model.train()\n",
    "            else:\n",
    "                model.eval()\n",
    "            \n",
    "            lossPerPass: list = []\n",
    "            accsPerPass: list = []\n",
    "                \n",
    "            for X, y in dataloaders[phase]:\n",
    "                X, y = X.to(device), y.to(device).view(-1)\n",
    "\n",
    "                optimizer.zero_grad()\n",
    "                with torch.set_grad_enabled(phase == \"train\"):\n",
    "                    output = model(X)\n",
    "                    loss = torch.nn.NLLLoss()(output, y)\n",
    "                    if phase == \"train\":\n",
    "                        loss.backward()\n",
    "                        optimizer.step()\n",
    "                        if scheduler_oclr: scheduler_oclr.step()\n",
    "                lossPerPass.append(loss.item())\n",
    "                accsPerPass.append(get_accuracy(output, y))\n",
    "            epochLoss[phase] = np.mean(np.array(lossPerPass))\n",
    "            epochAccs[phase] = np.mean(np.array(accsPerPass))\n",
    "        if scheduler_oclr: LRs.append(scheduler_oclr.get_last_lr())\n",
    "        Losses.append(epochLoss)\n",
    "        Accuracies.append(epochAccs)\n",
    "    \n",
    "        if scheduler_oclr:\n",
    "            save_dict = {\"model_state_dict\"     : model.state_dict(),\n",
    "                         \"optim_state_dict\"     : optimizer.state_dict(),\n",
    "                         \"scheduler_state_dict\" : scheduler_oclr.state_dict()}\n",
    "        \n",
    "        elif scheduler_rlrop:\n",
    "            save_dict = {\"model_state_dict\"     : model.state_dict(),\n",
    "                         \"optim_state_dict\"     : optimizer.state_dict(),\n",
    "                         \"scheduler_state_dict\" : scheduler_rlrop.state_dict()}\n",
    "        \n",
    "        else:\n",
    "            save_dict = {\"model_state_dict\"     : model.state_dict(),\n",
    "                         \"optim_state_dict\"     : optimizer.state_dict()}\n",
    "        \n",
    "        \n",
    "        if early_stopping_patience:\n",
    "            if epochLoss[\"valid\"] < bestLoss[\"valid\"]:\n",
    "                bestLoss = epochLoss\n",
    "                BLE = e + 1\n",
    "                torch.save(save_dict, os.path.join(save_path, ble_name))\n",
    "                torch.save(save_dict, os.path.join(save_path, bae_name))\n",
    "                early_stopping_step = 0\n",
    "            else:\n",
    "                early_stopping_step += 1\n",
    "                if early_stopping_step > early_stopping_patience:\n",
    "                    print(\"\\nEarly Stopping at Epoch {}\".format(e + 1))\n",
    "                    break\n",
    "        \n",
    "        if epochLoss[\"valid\"] < bestLoss[\"valid\"]:\n",
    "            bestLoss = epochLoss\n",
    "            BLE = e + 1\n",
    "            torch.save(save_dict,os.path.join(save_path, ble_name))\n",
    "        \n",
    "        if epochAccs[\"valid\"] > bestAccs[\"valid\"]:\n",
    "            bestAccs = epochAccs\n",
    "            BAE = e + 1\n",
    "            torch.save(save_dict,os.path.join(save_path, bae_name))\n",
    "        \n",
    "        if scheduler_rlrop: scheduler_rlrop.step(epochLoss[\"valid\"])\n",
    "        \n",
    "        if verbose:\n",
    "            print(\"Epoch: {} | Train Loss: {:.5f} | Valid Loss: {:.5f} |\\\n",
    " Train Accs: {:.5f} | Valid Accs: {:.5f} | Time: {:.2f} seconds\".format(e+1, \n",
    "                                                                        epochLoss[\"train\"], epochLoss[\"valid\"], \n",
    "                                                                        epochAccs[\"train\"], epochAccs[\"valid\"], \n",
    "                                                                        time()-e_st))\n",
    "\n",
    "    if verbose:                                           \n",
    "        breaker()\n",
    "        print(f\"Best Validation Loss at Epoch {BLE}\")\n",
    "        breaker()\n",
    "        print(f\"Best Validation Accs at Epoch {BAE}\")\n",
    "        breaker()\n",
    "        print(\"Time Taken [{} Epochs] : {:.2f} minutes\".format(len(Losses), (time()-start_time)/60))\n",
    "    \n",
    "    return Losses, Accuracies, LRs, BLE, BAE, ble_name, bae_name\n",
    "\n",
    "\n",
    "# def predict_batch(model=None, dataloader=None, path=None, device=None) -> np.ndarray:\n",
    "#     model.load_state_dict(torch.load(path, map_location=device)[\"model_state_dict\"])\n",
    "#     model.to(device)    \n",
    "#     model.eval()\n",
    "    \n",
    "#     y_pred = torch.zeros(1, 1).to(device)\n",
    "    \n",
    "#     for X in dataloader:\n",
    "#         X = X.to(device)\n",
    "#         with torch.no_grad():\n",
    "#             output = torch.argmax(torch.exp(model(X)), dim=1)\n",
    "#         y_pred = torch.cat((y_pred, output.view(-1, 1)), dim=0)\n",
    "    \n",
    "#     return y_pred[1:].detach().cpu().numpy()"
   ]
  },
  {
   "cell_type": "markdown",
   "id": "336e8ad1",
   "metadata": {
    "papermill": {
     "duration": 0.003884,
     "end_time": "2022-09-20T09:43:12.259865",
     "exception": false,
     "start_time": "2022-09-20T09:43:12.255981",
     "status": "completed"
    },
    "tags": []
   },
   "source": [
    "### **Train**"
   ]
  },
  {
   "cell_type": "code",
   "execution_count": 9,
   "id": "f10c96c4",
   "metadata": {
    "execution": {
     "iopub.execute_input": "2022-09-20T09:43:12.269232Z",
     "iopub.status.busy": "2022-09-20T09:43:12.268972Z",
     "iopub.status.idle": "2022-09-20T09:43:12.302815Z",
     "shell.execute_reply": "2022-09-20T09:43:12.301911Z"
    },
    "papermill": {
     "duration": 0.041075,
     "end_time": "2022-09-20T09:43:12.305122",
     "exception": false,
     "start_time": "2022-09-20T09:43:12.264047",
     "status": "completed"
    },
    "tags": []
   },
   "outputs": [],
   "source": [
    "df = pd.read_csv(\"../input/4ac-dataframe/data.csv\")\n",
    "\n",
    "filenames = df.filenames.copy().values\n",
    "folder_names = df.folder_names.copy().values\n",
    "labels = df.classes.copy().values"
   ]
  },
  {
   "cell_type": "code",
   "execution_count": 10,
   "id": "b4f8a7ba",
   "metadata": {
    "execution": {
     "iopub.execute_input": "2022-09-20T09:43:12.315488Z",
     "iopub.status.busy": "2022-09-20T09:43:12.315218Z",
     "iopub.status.idle": "2022-09-20T11:07:35.376732Z",
     "shell.execute_reply": "2022-09-20T11:07:35.374929Z"
    },
    "papermill": {
     "duration": 5063.069368,
     "end_time": "2022-09-20T11:07:35.378791",
     "exception": false,
     "start_time": "2022-09-20T09:43:12.309423",
     "status": "completed"
    },
    "tags": []
   },
   "outputs": [
    {
     "name": "stderr",
     "output_type": "stream",
     "text": [
      "Downloading: \"https://github.com/rwightman/pytorch-image-models/releases/download/v0.1-weights/efficientnet_b4_ra2_320-7eb33cd5.pth\" to /root/.cache/torch/hub/checkpoints/efficientnet_b4_ra2_320-7eb33cd5.pth\n"
     ]
    },
    {
     "name": "stdout",
     "output_type": "stream",
     "text": [
      "\n",
      "**************************************************\n",
      "\n",
      "Training Fold 1...\n",
      "\n",
      "**************************************************\n",
      "\n",
      "Epoch: 1 | Train Loss: 2.22453 | Valid Loss: 1.49990 | Train Accs: 0.45179 | Valid Accs: 0.81964 | Time: 118.74 seconds\n",
      "Epoch: 2 | Train Loss: 0.42746 | Valid Loss: 0.05978 | Train Accs: 0.92143 | Valid Accs: 0.97857 | Time: 98.41 seconds\n",
      "Epoch: 3 | Train Loss: 0.07638 | Valid Loss: 0.05860 | Train Accs: 0.97634 | Valid Accs: 0.99107 | Time: 98.36 seconds\n",
      "Epoch: 4 | Train Loss: 0.04962 | Valid Loss: 0.07250 | Train Accs: 0.98259 | Valid Accs: 0.97857 | Time: 96.57 seconds\n",
      "Epoch: 5 | Train Loss: 0.06592 | Valid Loss: 0.16680 | Train Accs: 0.98214 | Valid Accs: 0.94107 | Time: 96.06 seconds\n",
      "Epoch: 6 | Train Loss: 0.07744 | Valid Loss: 0.19194 | Train Accs: 0.97545 | Valid Accs: 0.92321 | Time: 95.40 seconds\n",
      "Epoch: 7 | Train Loss: 0.03940 | Valid Loss: 0.13329 | Train Accs: 0.98750 | Valid Accs: 0.95714 | Time: 95.69 seconds\n",
      "Epoch: 8 | Train Loss: 0.01262 | Valid Loss: 0.07634 | Train Accs: 0.99509 | Valid Accs: 0.97679 | Time: 96.31 seconds\n",
      "\n",
      "Early Stopping at Epoch 9\n",
      "\n",
      "**************************************************\n",
      "\n",
      "Best Validation Loss at Epoch 3\n",
      "\n",
      "**************************************************\n",
      "\n",
      "Best Validation Accs at Epoch 3\n",
      "\n",
      "**************************************************\n",
      "\n",
      "Time Taken [9 Epochs] : 14.86 minutes\n",
      "\n",
      "**************************************************\n",
      "\n"
     ]
    },
    {
     "data": {
      "image/png": "[encoded data removed]",
      "text/plain": [
       "<Figure size 432x288 with 1 Axes>"
      ]
     },
     "metadata": {
      "needs_background": "light"
     },
     "output_type": "display_data"
    },
    {
     "name": "stdout",
     "output_type": "stream",
     "text": [
      "\n",
      "**************************************************\n",
      "\n"
     ]
    },
    {
     "data": {
      "image/png": "[encoded data removed]",
      "text/plain": [
       "<Figure size 432x288 with 1 Axes>"
      ]
     },
     "metadata": {
      "needs_background": "light"
     },
     "output_type": "display_data"
    },
    {
     "name": "stdout",
     "output_type": "stream",
     "text": [
      "\n",
      "**************************************************\n",
      "\n"
     ]
    },
    {
     "data": {
      "image/png": "[encoded data removed]",
      "text/plain": [
       "<Figure size 576x432 with 1 Axes>"
      ]
     },
     "metadata": {
      "needs_background": "light"
     },
     "output_type": "display_data"
    },
    {
     "name": "stdout",
     "output_type": "stream",
     "text": [
      "\n",
      "**************************************************\n",
      "\n",
      "\n",
      "**************************************************\n",
      "\n",
      "Training Fold 2...\n",
      "\n",
      "**************************************************\n",
      "\n",
      "Epoch: 1 | Train Loss: 2.22449 | Valid Loss: 1.49438 | Train Accs: 0.43616 | Valid Accs: 0.81250 | Time: 95.95 seconds\n",
      "Epoch: 2 | Train Loss: 0.42756 | Valid Loss: 0.04257 | Train Accs: 0.92411 | Valid Accs: 0.98571 | Time: 95.98 seconds\n",
      "Epoch: 3 | Train Loss: 0.05784 | Valid Loss: 0.04128 | Train Accs: 0.98438 | Valid Accs: 0.98929 | Time: 95.75 seconds\n",
      "Epoch: 4 | Train Loss: 0.05800 | Valid Loss: 0.16397 | Train Accs: 0.98348 | Valid Accs: 0.95714 | Time: 93.93 seconds\n",
      "Epoch: 5 | Train Loss: 0.12436 | Valid Loss: 0.18440 | Train Accs: 0.96295 | Valid Accs: 0.93929 | Time: 93.85 seconds\n",
      "Epoch: 6 | Train Loss: 0.05058 | Valid Loss: 0.03078 | Train Accs: 0.98616 | Valid Accs: 0.98750 | Time: 95.08 seconds\n",
      "Epoch: 7 | Train Loss: 0.03878 | Valid Loss: 0.05548 | Train Accs: 0.98884 | Valid Accs: 0.98750 | Time: 93.89 seconds\n",
      "Epoch: 8 | Train Loss: 0.01575 | Valid Loss: 0.01737 | Train Accs: 0.99643 | Valid Accs: 0.99286 | Time: 96.17 seconds\n",
      "Epoch: 9 | Train Loss: 0.03139 | Valid Loss: 0.11804 | Train Accs: 0.98884 | Valid Accs: 0.97857 | Time: 93.90 seconds\n",
      "Epoch: 10 | Train Loss: 0.01344 | Valid Loss: 0.04616 | Train Accs: 0.99643 | Valid Accs: 0.98393 | Time: 93.65 seconds\n",
      "Epoch: 11 | Train Loss: 0.01084 | Valid Loss: 0.05351 | Train Accs: 0.99598 | Valid Accs: 0.98214 | Time: 94.02 seconds\n",
      "Epoch: 12 | Train Loss: 0.00577 | Valid Loss: 0.07540 | Train Accs: 0.99777 | Valid Accs: 0.98393 | Time: 93.61 seconds\n",
      "Epoch: 13 | Train Loss: 0.00614 | Valid Loss: 0.05454 | Train Accs: 0.99821 | Valid Accs: 0.98393 | Time: 94.17 seconds\n",
      "\n",
      "Early Stopping at Epoch 14\n",
      "\n",
      "**************************************************\n",
      "\n",
      "Best Validation Loss at Epoch 8\n",
      "\n",
      "**************************************************\n",
      "\n",
      "Best Validation Accs at Epoch 8\n",
      "\n",
      "**************************************************\n",
      "\n",
      "Time Taken [14 Epochs] : 22.07 minutes\n",
      "\n",
      "**************************************************\n",
      "\n"
     ]
    },
    {
     "data": {
      "image/png": "[encoded data removed]",
      "text/plain": [
       "<Figure size 432x288 with 1 Axes>"
      ]
     },
     "metadata": {
      "needs_background": "light"
     },
     "output_type": "display_data"
    },
    {
     "name": "stdout",
     "output_type": "stream",
     "text": [
      "\n",
      "**************************************************\n",
      "\n"
     ]
    },
    {
     "data": {
      "image/png": "[encoded data removed]",
      "text/plain": [
       "<Figure size 432x288 with 1 Axes>"
      ]
     },
     "metadata": {
      "needs_background": "light"
     },
     "output_type": "display_data"
    },
    {
     "name": "stdout",
     "output_type": "stream",
     "text": [
      "\n",
      "**************************************************\n",
      "\n"
     ]
    },
    {
     "data": {
      "image/png": "[encoded data removed]",
      "text/plain": [
       "<Figure size 576x432 with 1 Axes>"
      ]
     },
     "metadata": {
      "needs_background": "light"
     },
     "output_type": "display_data"
    },
    {
     "name": "stdout",
     "output_type": "stream",
     "text": [
      "\n",
      "**************************************************\n",
      "\n",
      "\n",
      "**************************************************\n",
      "\n",
      "Training Fold 3...\n",
      "\n",
      "**************************************************\n",
      "\n",
      "Epoch: 1 | Train Loss: 2.22533 | Valid Loss: 1.49697 | Train Accs: 0.45134 | Valid Accs: 0.81429 | Time: 95.37 seconds\n",
      "Epoch: 2 | Train Loss: 0.42510 | Valid Loss: 0.05368 | Train Accs: 0.92188 | Valid Accs: 0.98036 | Time: 95.48 seconds\n",
      "Epoch: 3 | Train Loss: 0.05946 | Valid Loss: 0.08047 | Train Accs: 0.98259 | Valid Accs: 0.97500 | Time: 94.16 seconds\n",
      "Epoch: 4 | Train Loss: 0.07251 | Valid Loss: 0.07074 | Train Accs: 0.97857 | Valid Accs: 0.97500 | Time: 94.31 seconds\n",
      "Epoch: 5 | Train Loss: 0.06041 | Valid Loss: 0.06958 | Train Accs: 0.98259 | Valid Accs: 0.98036 | Time: 93.97 seconds\n",
      "Epoch: 6 | Train Loss: 0.05075 | Valid Loss: 0.17611 | Train Accs: 0.98795 | Valid Accs: 0.94286 | Time: 93.65 seconds\n",
      "Epoch: 7 | Train Loss: 0.04468 | Valid Loss: 0.07048 | Train Accs: 0.98661 | Valid Accs: 0.96964 | Time: 94.34 seconds\n",
      "\n",
      "Early Stopping at Epoch 8\n",
      "\n",
      "**************************************************\n",
      "\n",
      "Best Validation Loss at Epoch 2\n",
      "\n",
      "**************************************************\n",
      "\n",
      "Best Validation Accs at Epoch 2\n",
      "\n",
      "**************************************************\n",
      "\n",
      "Time Taken [8 Epochs] : 12.59 minutes\n",
      "\n",
      "**************************************************\n",
      "\n"
     ]
    },
    {
     "data": {
      "image/png": "[encoded data removed]",
      "text/plain": [
       "<Figure size 432x288 with 1 Axes>"
      ]
     },
     "metadata": {
      "needs_background": "light"
     },
     "output_type": "display_data"
    },
    {
     "name": "stdout",
     "output_type": "stream",
     "text": [
      "\n",
      "**************************************************\n",
      "\n"
     ]
    },
    {
     "data": {
      "image/png": "[encoded data removed]",
      "text/plain": [
       "<Figure size 432x288 with 1 Axes>"
      ]
     },
     "metadata": {
      "needs_background": "light"
     },
     "output_type": "display_data"
    },
    {
     "name": "stdout",
     "output_type": "stream",
     "text": [
      "\n",
      "**************************************************\n",
      "\n"
     ]
    },
    {
     "data": {
      "image/png": "[encoded data removed]",
      "text/plain": [
       "<Figure size 576x432 with 1 Axes>"
      ]
     },
     "metadata": {
      "needs_background": "light"
     },
     "output_type": "display_data"
    },
    {
     "name": "stdout",
     "output_type": "stream",
     "text": [
      "\n",
      "**************************************************\n",
      "\n",
      "\n",
      "**************************************************\n",
      "\n",
      "Training Fold 4...\n",
      "\n",
      "**************************************************\n",
      "\n",
      "Epoch: 1 | Train Loss: 2.22313 | Valid Loss: 1.48488 | Train Accs: 0.44196 | Valid Accs: 0.81786 | Time: 95.82 seconds\n",
      "Epoch: 2 | Train Loss: 0.42814 | Valid Loss: 0.03381 | Train Accs: 0.92277 | Valid Accs: 0.99107 | Time: 95.55 seconds\n",
      "Epoch: 3 | Train Loss: 0.06503 | Valid Loss: 0.04199 | Train Accs: 0.98125 | Valid Accs: 0.98571 | Time: 93.85 seconds\n",
      "Epoch: 4 | Train Loss: 0.06626 | Valid Loss: 0.05281 | Train Accs: 0.98080 | Valid Accs: 0.98393 | Time: 93.88 seconds\n",
      "Epoch: 5 | Train Loss: 0.09176 | Valid Loss: 0.12989 | Train Accs: 0.97321 | Valid Accs: 0.96964 | Time: 93.90 seconds\n",
      "Epoch: 6 | Train Loss: 0.04749 | Valid Loss: 0.04851 | Train Accs: 0.98527 | Valid Accs: 0.98750 | Time: 93.90 seconds\n",
      "Epoch: 7 | Train Loss: 0.03329 | Valid Loss: 0.02757 | Train Accs: 0.99018 | Valid Accs: 0.99107 | Time: 95.20 seconds\n",
      "Epoch: 8 | Train Loss: 0.02483 | Valid Loss: 0.02757 | Train Accs: 0.99330 | Valid Accs: 0.98750 | Time: 93.99 seconds\n",
      "Epoch: 9 | Train Loss: 0.01171 | Valid Loss: 0.04069 | Train Accs: 0.99687 | Valid Accs: 0.98214 | Time: 94.17 seconds\n",
      "Epoch: 10 | Train Loss: 0.01952 | Valid Loss: 0.04423 | Train Accs: 0.99554 | Valid Accs: 0.98214 | Time: 94.15 seconds\n",
      "Epoch: 11 | Train Loss: 0.02253 | Valid Loss: 0.09997 | Train Accs: 0.99375 | Valid Accs: 0.96250 | Time: 94.29 seconds\n",
      "Epoch: 12 | Train Loss: 0.01716 | Valid Loss: 0.04249 | Train Accs: 0.99554 | Valid Accs: 0.98750 | Time: 95.04 seconds\n",
      "\n",
      "Early Stopping at Epoch 13\n",
      "\n",
      "**************************************************\n",
      "\n",
      "Best Validation Loss at Epoch 7\n",
      "\n",
      "**************************************************\n",
      "\n",
      "Best Validation Accs at Epoch 2\n",
      "\n",
      "**************************************************\n",
      "\n",
      "Time Taken [13 Epochs] : 20.47 minutes\n",
      "\n",
      "**************************************************\n",
      "\n"
     ]
    },
    {
     "data": {
      "image/png": "[encoded data removed]",
      "text/plain": [
       "<Figure size 432x288 with 1 Axes>"
      ]
     },
     "metadata": {
      "needs_background": "light"
     },
     "output_type": "display_data"
    },
    {
     "name": "stdout",
     "output_type": "stream",
     "text": [
      "\n",
      "**************************************************\n",
      "\n"
     ]
    },
    {
     "data": {
      "image/png": "[encoded data removed]",
      "text/plain": [
       "<Figure size 432x288 with 1 Axes>"
      ]
     },
     "metadata": {
      "needs_background": "light"
     },
     "output_type": "display_data"
    },
    {
     "name": "stdout",
     "output_type": "stream",
     "text": [
      "\n",
      "**************************************************\n",
      "\n"
     ]
    },
    {
     "data": {
      "image/png": "[encoded data removed]",
      "text/plain": [
       "<Figure size 576x432 with 1 Axes>"
      ]
     },
     "metadata": {
      "needs_background": "light"
     },
     "output_type": "display_data"
    },
    {
     "name": "stdout",
     "output_type": "stream",
     "text": [
      "\n",
      "**************************************************\n",
      "\n",
      "\n",
      "**************************************************\n",
      "\n",
      "Training Fold 5...\n",
      "\n",
      "**************************************************\n",
      "\n",
      "Epoch: 1 | Train Loss: 2.22451 | Valid Loss: 1.49607 | Train Accs: 0.44286 | Valid Accs: 0.81786 | Time: 95.60 seconds\n",
      "Epoch: 2 | Train Loss: 0.43224 | Valid Loss: 0.07910 | Train Accs: 0.91563 | Valid Accs: 0.97500 | Time: 96.27 seconds\n",
      "Epoch: 3 | Train Loss: 0.04600 | Valid Loss: 0.05269 | Train Accs: 0.98839 | Valid Accs: 0.98750 | Time: 95.82 seconds\n",
      "Epoch: 4 | Train Loss: 0.08544 | Valid Loss: 0.11625 | Train Accs: 0.97723 | Valid Accs: 0.96786 | Time: 94.15 seconds\n",
      "Epoch: 5 | Train Loss: 0.08035 | Valid Loss: 0.10522 | Train Accs: 0.97723 | Valid Accs: 0.96964 | Time: 93.89 seconds\n",
      "Epoch: 6 | Train Loss: 0.03132 | Valid Loss: 0.18759 | Train Accs: 0.99152 | Valid Accs: 0.94643 | Time: 94.32 seconds\n",
      "Epoch: 7 | Train Loss: 0.03289 | Valid Loss: 0.07539 | Train Accs: 0.99152 | Valid Accs: 0.98214 | Time: 93.80 seconds\n",
      "Epoch: 8 | Train Loss: 0.02208 | Valid Loss: 0.11722 | Train Accs: 0.99241 | Valid Accs: 0.97143 | Time: 94.08 seconds\n",
      "\n",
      "Early Stopping at Epoch 9\n",
      "\n",
      "**************************************************\n",
      "\n",
      "Best Validation Loss at Epoch 3\n",
      "\n",
      "**************************************************\n",
      "\n",
      "Best Validation Accs at Epoch 3\n",
      "\n",
      "**************************************************\n",
      "\n",
      "Time Taken [9 Epochs] : 14.20 minutes\n",
      "\n",
      "**************************************************\n",
      "\n"
     ]
    },
    {
     "data": {
      "image/png": "[encoded data removed]",
      "text/plain": [
       "<Figure size 432x288 with 1 Axes>"
      ]
     },
     "metadata": {
      "needs_background": "light"
     },
     "output_type": "display_data"
    },
    {
     "name": "stdout",
     "output_type": "stream",
     "text": [
      "\n",
      "**************************************************\n",
      "\n"
     ]
    },
    {
     "data": {
      "image/png": "[encoded data removed]",
      "text/plain": [
       "<Figure size 432x288 with 1 Axes>"
      ]
     },
     "metadata": {
      "needs_background": "light"
     },
     "output_type": "display_data"
    },
    {
     "name": "stdout",
     "output_type": "stream",
     "text": [
      "\n",
      "**************************************************\n",
      "\n"
     ]
    },
    {
     "data": {
      "image/png": "[encoded data removed]",
      "text/plain": [
       "<Figure size 576x432 with 1 Axes>"
      ]
     },
     "metadata": {
      "needs_background": "light"
     },
     "output_type": "display_data"
    },
    {
     "name": "stdout",
     "output_type": "stream",
     "text": [
      "\n",
      "**************************************************\n",
      "\n"
     ]
    }
   ],
   "source": [
    "fold: int = 1\n",
    "BLEs: list = []\n",
    "BAEs: list = []\n",
    "    \n",
    "for tr_idx, va_idx in StratifiedKFold(n_splits=cfg.n_splits, random_state=cfg.seed, shuffle=True).split(filenames, labels):\n",
    "\n",
    "    tr_filenames, va_filenames       = filenames[tr_idx], filenames[va_idx] \n",
    "    tr_folder_names, va_folder_names = folder_names[tr_idx], folder_names[va_idx] \n",
    "    tr_labels, va_labels             = labels[tr_idx], labels[va_idx]\n",
    "    \n",
    "    tr_data_setup = DS(\n",
    "        base_path=\"../input/4-animal-classification/train\", \n",
    "        filenames=tr_filenames, \n",
    "        folder_names=tr_folder_names,\n",
    "        labels=tr_labels.reshape(-1, 1),\n",
    "        size=cfg.size,\n",
    "        transform=cfg.train_transform)\n",
    "    \n",
    "    va_data_setup = DS(\n",
    "        base_path=\"../input/4-animal-classification/train\", \n",
    "        filenames=va_filenames, \n",
    "        folder_names=va_folder_names,\n",
    "        labels=va_labels.reshape(-1, 1),\n",
    "        size=cfg.size,\n",
    "        transform=cfg.valid_transform)\n",
    "\n",
    "    dataloaders = {\n",
    "        \"train\" : DL(tr_data_setup, batch_size=cfg.batch_size, shuffle=True, generator=torch.manual_seed(cfg.seed)),\n",
    "        \"valid\" : DL(va_data_setup, batch_size=cfg.batch_size, shuffle=False),\n",
    "    }\n",
    "\n",
    "    cfg = CFG(\n",
    "        size=SIZE,\n",
    "        epochs=25, \n",
    "        batch_size=16, \n",
    "        early_stopping=5,\n",
    "        steps_per_epoch=len(dataloaders[\"train\"])\n",
    "    )\n",
    "    \n",
    "    torch.manual_seed(cfg.seed)\n",
    "    model = Model().to(cfg.device)\n",
    "\n",
    "    optimizer = optim.Adam([p for p in model.parameters() if p.requires_grad], lr=cfg.lr, weight_decay=cfg.wd)\n",
    "    # optimizer = optim.AdamW([p for p in model.parameters() if p.requires_grad], lr=cfg.lr, weight_decay=cfg.wd)\n",
    "    # optimizer = optim.SGD([p for p in model.parameters() if p.requires_grad], lr=cfg.lr, weight_decay=cfg.wd, momentum=0.9)\n",
    "    \n",
    "    scheduler_oclr = optim.lr_scheduler.OneCycleLR(\n",
    "        optimizer=optimizer, \n",
    "        max_lr=cfg.max_lr, \n",
    "        epochs=cfg.epochs, \n",
    "        steps_per_epoch=cfg.steps_per_epoch,\n",
    "        pct_start=cfg.pct_start, \n",
    "        div_factor=cfg.div_factor, \n",
    "        final_div_factor=cfg.final_div_factor\n",
    "    )\n",
    "\n",
    "    # scheduler_rlrop = optim.lr_scheduler.ReduceLROnPlateau(\n",
    "    #     optimizer=optimizer,\n",
    "    #     patience=cfg.patience,\n",
    "    #     eps=cfg.eps,\n",
    "    #     verbose=True\n",
    "    # )\n",
    "\n",
    "    # scheduler_oclr = None\n",
    "    scheduler_rlrop = None\n",
    "    \n",
    "    L, A, LR, BLE, BAE, _, _ = fit(\n",
    "        model=model, \n",
    "        optimizer=optimizer, \n",
    "        scheduler_oclr=scheduler_oclr,\n",
    "        scheduler_rlrop=scheduler_rlrop,\n",
    "        epochs=cfg.epochs, \n",
    "        early_stopping_patience=cfg.early_stopping, \n",
    "        dataloaders=dataloaders, \n",
    "        device=cfg.device,\n",
    "        save_path=cfg.save_path,\n",
    "        fold=fold,\n",
    "        verbose=True\n",
    "    )\n",
    "    \n",
    "    breaker()\n",
    "    show_loss_graphs(L)\n",
    "    breaker()\n",
    "    show_accuracy_graphs(A)\n",
    "    breaker()\n",
    "    if scheduler_oclr:\n",
    "        show_lr_graph(LR)\n",
    "        breaker()\n",
    "    \n",
    "    BLEs.append(BLE)\n",
    "    BAEs.append(BAE)\n",
    "    \n",
    "    fold += 1"
   ]
  },
  {
   "cell_type": "markdown",
   "id": "c50023e7",
   "metadata": {
    "papermill": {
     "duration": 0.011352,
     "end_time": "2022-09-20T11:07:35.401515",
     "exception": false,
     "start_time": "2022-09-20T11:07:35.390163",
     "status": "completed"
    },
    "tags": []
   },
   "source": [
    "### **Best Model**"
   ]
  },
  {
   "cell_type": "code",
   "execution_count": 11,
   "id": "9a88d399",
   "metadata": {
    "execution": {
     "iopub.execute_input": "2022-09-20T11:07:35.425124Z",
     "iopub.status.busy": "2022-09-20T11:07:35.424687Z",
     "iopub.status.idle": "2022-09-20T11:07:35.430148Z",
     "shell.execute_reply": "2022-09-20T11:07:35.429208Z"
    },
    "papermill": {
     "duration": 0.020254,
     "end_time": "2022-09-20T11:07:35.432839",
     "exception": false,
     "start_time": "2022-09-20T11:07:35.412585",
     "status": "completed"
    },
    "tags": []
   },
   "outputs": [
    {
     "name": "stdout",
     "output_type": "stream",
     "text": [
      "\n",
      "**************************************************\n",
      "\n",
      "Best Loss Model Fold     : 3\n",
      "Best Accuracy Model Fold : 2\n",
      "\n",
      "**************************************************\n",
      "\n"
     ]
    }
   ],
   "source": [
    "best_loss_index = BLEs.index(min(BLEs))\n",
    "best_accs_index = BAEs.index(max(BAEs))\n",
    "\n",
    "breaker()\n",
    "print(f\"Best Loss Model Fold     : {best_loss_index + 1}\")\n",
    "print(f\"Best Accuracy Model Fold : {best_accs_index + 1}\")\n",
    "breaker()"
   ]
  },
  {
   "cell_type": "markdown",
   "id": "8cb700a6",
   "metadata": {
    "papermill": {
     "duration": 0.011173,
     "end_time": "2022-09-20T11:07:35.456300",
     "exception": false,
     "start_time": "2022-09-20T11:07:35.445127",
     "status": "completed"
    },
    "tags": []
   },
   "source": [
    "### **Submit**"
   ]
  },
  {
   "cell_type": "code",
   "execution_count": 12,
   "id": "b78d0868",
   "metadata": {
    "execution": {
     "iopub.execute_input": "2022-09-20T11:07:35.481003Z",
     "iopub.status.busy": "2022-09-20T11:07:35.479563Z",
     "iopub.status.idle": "2022-09-20T11:07:35.484685Z",
     "shell.execute_reply": "2022-09-20T11:07:35.483839Z"
    },
    "papermill": {
     "duration": 0.019271,
     "end_time": "2022-09-20T11:07:35.486688",
     "exception": false,
     "start_time": "2022-09-20T11:07:35.467417",
     "status": "completed"
    },
    "tags": []
   },
   "outputs": [],
   "source": [
    "# torch.manual_seed(cfg.seed)\n",
    "# model = Model().to(cfg.device)\n",
    "\n",
    "# ss_df = pd.read_csv(\"../input/4-animal-classification/Sample_submission.csv\")\n",
    "# ts_filenames = ss_df[\"ID\"]\n",
    "\n",
    "# ts_data_setup = DS(\n",
    "#     base_path=\"../input/4-animal-classification/test/test\", \n",
    "#     filenames=ts_filenames, \n",
    "#     size=cfg.size,\n",
    "#     transform=cfg.valid_transform,\n",
    "# )\n",
    "# ts_data = DL(ts_data_setup, batch_size=cfg.batch_size, shuffle=False)\n",
    "\n",
    "# y_pred = predict_batch(\n",
    "#     model=model,\n",
    "#     dataloader=ts_data,\n",
    "#     path=\"\",\n",
    "#     device=cfg.device\n",
    "# )\n",
    "\n",
    "# ss_df[\"Label\"] = y_pred.astype(\"uint8\")\n",
    "# ss_df.to_csv(\"submission.csv\", index=False)"
   ]
  }
 ],
 "metadata": {
  "kernelspec": {
   "display_name": "Python 3",
   "language": "python",
   "name": "python3"
  },
  "language_info": {
   "codemirror_mode": {
    "name": "ipython",
    "version": 3
   },
   "file_extension": ".py",
   "mimetype": "text/x-python",
   "name": "python",
   "nbconvert_exporter": "python",
   "pygments_lexer": "ipython3",
   "version": "3.7.12"
  },
  "papermill": {
   "default_parameters": {},
   "duration": 5087.695258,
   "end_time": "2022-09-20T11:07:37.941344",
   "environment_variables": {},
   "exception": null,
   "input_path": "__notebook__.ipynb",
   "output_path": "__notebook__.ipynb",
   "parameters": {},
   "start_time": "2022-09-20T09:42:50.246086",
   "version": "2.3.4"
  }
 },
 "nbformat": 4,
 "nbformat_minor": 5
}
